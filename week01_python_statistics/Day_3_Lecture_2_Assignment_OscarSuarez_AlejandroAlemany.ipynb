{
  "nbformat": 4,
  "nbformat_minor": 0,
  "metadata": {
    "colab": {
      "name": "Day 3 Lecture 2 Assignment.ipynb",
      "provenance": [],
      "collapsed_sections": []
    },
    "kernelspec": {
      "display_name": "Python 3",
      "language": "python",
      "name": "python3"
    },
    "language_info": {
      "codemirror_mode": {
        "name": "ipython",
        "version": 3
      },
      "file_extension": ".py",
      "mimetype": "text/x-python",
      "name": "python",
      "nbconvert_exporter": "python",
      "pygments_lexer": "ipython3",
      "version": "3.8.3"
    }
  },
  "cells": [
    {
      "cell_type": "markdown",
      "metadata": {
        "colab_type": "text",
        "id": "P7Ilhj45tM4S"
      },
      "source": [
        "# Descriptive Statistics Assignment"
      ]
    },
    {
      "cell_type": "code",
      "metadata": {
        "colab_type": "code",
        "id": "PHC3rj3htM4T",
        "colab": {}
      },
      "source": [
        "import pandas as pd\n",
        "\n",
        "data_url = \"http://data.insideairbnb.com/united-states/ny/new-york-city/2020-06-08/visualisations/listings.csv\""
      ],
      "execution_count": null,
      "outputs": []
    },
    {
      "cell_type": "markdown",
      "metadata": {
        "colab_type": "text",
        "id": "y_WevD1ftM4X"
      },
      "source": [
        "### Read the aggregated AirBnB listings of New York (using `data_url`) into a Pandas data frame."
      ]
    },
    {
      "cell_type": "code",
      "metadata": {
        "id": "wHoSNtNSNuhO",
        "colab_type": "code",
        "colab": {}
      },
      "source": [
        "data = pd.read_csv(data_url)"
      ],
      "execution_count": null,
      "outputs": []
    },
    {
      "cell_type": "code",
      "metadata": {
        "colab_type": "code",
        "id": "RPX9nbZ1tM4Y",
        "colab": {
          "base_uri": "https://localhost:8080/",
          "height": 377
        },
        "outputId": "8aec0c92-9078-4dc9-a094-75dfd8dc2d03"
      },
      "source": [
        "data.head(5)"
      ],
      "execution_count": null,
      "outputs": [
        {
          "output_type": "execute_result",
          "data": {
            "text/html": [
              "<div>\n",
              "<style scoped>\n",
              "    .dataframe tbody tr th:only-of-type {\n",
              "        vertical-align: middle;\n",
              "    }\n",
              "\n",
              "    .dataframe tbody tr th {\n",
              "        vertical-align: top;\n",
              "    }\n",
              "\n",
              "    .dataframe thead th {\n",
              "        text-align: right;\n",
              "    }\n",
              "</style>\n",
              "<table border=\"1\" class=\"dataframe\">\n",
              "  <thead>\n",
              "    <tr style=\"text-align: right;\">\n",
              "      <th></th>\n",
              "      <th>id</th>\n",
              "      <th>name</th>\n",
              "      <th>host_id</th>\n",
              "      <th>host_name</th>\n",
              "      <th>neighbourhood_group</th>\n",
              "      <th>neighbourhood</th>\n",
              "      <th>latitude</th>\n",
              "      <th>longitude</th>\n",
              "      <th>room_type</th>\n",
              "      <th>price</th>\n",
              "      <th>minimum_nights</th>\n",
              "      <th>number_of_reviews</th>\n",
              "      <th>last_review</th>\n",
              "      <th>reviews_per_month</th>\n",
              "      <th>calculated_host_listings_count</th>\n",
              "      <th>availability_365</th>\n",
              "    </tr>\n",
              "  </thead>\n",
              "  <tbody>\n",
              "    <tr>\n",
              "      <th>0</th>\n",
              "      <td>2060</td>\n",
              "      <td>Modern NYC</td>\n",
              "      <td>2259</td>\n",
              "      <td>Jenny</td>\n",
              "      <td>Manhattan</td>\n",
              "      <td>Washington Heights</td>\n",
              "      <td>40.85722</td>\n",
              "      <td>-73.93790</td>\n",
              "      <td>Private room</td>\n",
              "      <td>100</td>\n",
              "      <td>1</td>\n",
              "      <td>1</td>\n",
              "      <td>2008-09-22</td>\n",
              "      <td>0.01</td>\n",
              "      <td>1</td>\n",
              "      <td>365</td>\n",
              "    </tr>\n",
              "    <tr>\n",
              "      <th>1</th>\n",
              "      <td>2595</td>\n",
              "      <td>Skylit Midtown Castle</td>\n",
              "      <td>2845</td>\n",
              "      <td>Jennifer</td>\n",
              "      <td>Manhattan</td>\n",
              "      <td>Midtown</td>\n",
              "      <td>40.75362</td>\n",
              "      <td>-73.98377</td>\n",
              "      <td>Entire home/apt</td>\n",
              "      <td>225</td>\n",
              "      <td>3</td>\n",
              "      <td>48</td>\n",
              "      <td>2019-11-04</td>\n",
              "      <td>0.37</td>\n",
              "      <td>2</td>\n",
              "      <td>335</td>\n",
              "    </tr>\n",
              "    <tr>\n",
              "      <th>2</th>\n",
              "      <td>3831</td>\n",
              "      <td>Whole flr w/private bdrm, bath &amp; kitchen(pls r...</td>\n",
              "      <td>4869</td>\n",
              "      <td>LisaRoxanne</td>\n",
              "      <td>Brooklyn</td>\n",
              "      <td>Clinton Hill</td>\n",
              "      <td>40.68514</td>\n",
              "      <td>-73.95976</td>\n",
              "      <td>Entire home/apt</td>\n",
              "      <td>89</td>\n",
              "      <td>1</td>\n",
              "      <td>322</td>\n",
              "      <td>2020-06-07</td>\n",
              "      <td>4.64</td>\n",
              "      <td>1</td>\n",
              "      <td>276</td>\n",
              "    </tr>\n",
              "    <tr>\n",
              "      <th>3</th>\n",
              "      <td>5099</td>\n",
              "      <td>Large Cozy 1 BR Apartment In Midtown East</td>\n",
              "      <td>7322</td>\n",
              "      <td>Chris</td>\n",
              "      <td>Manhattan</td>\n",
              "      <td>Murray Hill</td>\n",
              "      <td>40.74767</td>\n",
              "      <td>-73.97500</td>\n",
              "      <td>Entire home/apt</td>\n",
              "      <td>200</td>\n",
              "      <td>3</td>\n",
              "      <td>78</td>\n",
              "      <td>2019-10-13</td>\n",
              "      <td>0.58</td>\n",
              "      <td>1</td>\n",
              "      <td>0</td>\n",
              "    </tr>\n",
              "    <tr>\n",
              "      <th>4</th>\n",
              "      <td>5121</td>\n",
              "      <td>BlissArtsSpace!</td>\n",
              "      <td>7356</td>\n",
              "      <td>Garon</td>\n",
              "      <td>Brooklyn</td>\n",
              "      <td>Bedford-Stuyvesant</td>\n",
              "      <td>40.68688</td>\n",
              "      <td>-73.95596</td>\n",
              "      <td>Private room</td>\n",
              "      <td>60</td>\n",
              "      <td>29</td>\n",
              "      <td>50</td>\n",
              "      <td>2019-12-02</td>\n",
              "      <td>0.37</td>\n",
              "      <td>1</td>\n",
              "      <td>365</td>\n",
              "    </tr>\n",
              "  </tbody>\n",
              "</table>\n",
              "</div>"
            ],
            "text/plain": [
              "     id  ... availability_365\n",
              "0  2060  ...              365\n",
              "1  2595  ...              335\n",
              "2  3831  ...              276\n",
              "3  5099  ...                0\n",
              "4  5121  ...              365\n",
              "\n",
              "[5 rows x 16 columns]"
            ]
          },
          "metadata": {
            "tags": []
          },
          "execution_count": 10
        }
      ]
    },
    {
      "cell_type": "markdown",
      "metadata": {
        "colab_type": "text",
        "id": "u58Qq-xjtM4a"
      },
      "source": [
        "### Print the data type for each column."
      ]
    },
    {
      "cell_type": "code",
      "metadata": {
        "colab_type": "code",
        "id": "kgrSk4sjtM4b",
        "colab": {
          "base_uri": "https://localhost:8080/",
          "height": 306
        },
        "outputId": "eb759eb7-5e26-43d1-b428-40d4ec68d401"
      },
      "source": [
        "data.dtypes"
      ],
      "execution_count": null,
      "outputs": [
        {
          "output_type": "execute_result",
          "data": {
            "text/plain": [
              "id                                  int64\n",
              "name                               object\n",
              "host_id                             int64\n",
              "host_name                          object\n",
              "neighbourhood_group                object\n",
              "neighbourhood                      object\n",
              "latitude                          float64\n",
              "longitude                         float64\n",
              "room_type                          object\n",
              "price                               int64\n",
              "minimum_nights                      int64\n",
              "number_of_reviews                   int64\n",
              "last_review                        object\n",
              "reviews_per_month                 float64\n",
              "calculated_host_listings_count      int64\n",
              "availability_365                    int64\n",
              "dtype: object"
            ]
          },
          "metadata": {
            "tags": []
          },
          "execution_count": 11
        }
      ]
    },
    {
      "cell_type": "markdown",
      "metadata": {
        "colab_type": "text",
        "id": "i-JUNCl1tM4e"
      },
      "source": [
        "### Generate a basic set of descriptive statistics for the numeric fields in the data set."
      ]
    },
    {
      "cell_type": "code",
      "metadata": {
        "colab_type": "code",
        "id": "Lh9RxSL1tM4e",
        "colab": {}
      },
      "source": [
        "desc = data.describe()"
      ],
      "execution_count": null,
      "outputs": []
    },
    {
      "cell_type": "markdown",
      "metadata": {
        "colab_type": "text",
        "id": "fXoDTnC9tM4h"
      },
      "source": [
        "### Calculate the following for each numeric field in the data set and add them to the data frame containing the basic set of descriptive statistics.\n",
        "\n",
        "- Variance\n",
        "- Mean Absolute Deviation\n",
        "- Range\n",
        "- Interquartile Range"
      ]
    },
    {
      "cell_type": "code",
      "metadata": {
        "colab_type": "code",
        "id": "FGxTOeMWtM4h",
        "colab": {
          "base_uri": "https://localhost:8080/",
          "height": 204
        },
        "outputId": "91466195-ab24-4083-cdc5-bf1dda607749"
      },
      "source": [
        "data.var()"
      ],
      "execution_count": null,
      "outputs": [
        {
          "output_type": "execute_result",
          "data": {
            "text/plain": [
              "id                                1.829752e+14\n",
              "host_id                           9.776457e+15\n",
              "latitude                          2.989206e-03\n",
              "longitude                         2.260709e-03\n",
              "price                             1.758228e+05\n",
              "minimum_nights                    4.828933e+02\n",
              "number_of_reviews                 2.327659e+03\n",
              "reviews_per_month                 1.809598e+00\n",
              "calculated_host_listings_count    6.495002e+02\n",
              "availability_365                  2.027247e+04\n",
              "dtype: float64"
            ]
          },
          "metadata": {
            "tags": []
          },
          "execution_count": 13
        }
      ]
    },
    {
      "cell_type": "code",
      "metadata": {
        "id": "C_x9iGFLNuhx",
        "colab_type": "code",
        "colab": {
          "base_uri": "https://localhost:8080/",
          "height": 204
        },
        "outputId": "f25b2396-a233-44c5-edf5-7a56d869fcf5"
      },
      "source": [
        "data.mad()"
      ],
      "execution_count": null,
      "outputs": [
        {
          "output_type": "execute_result",
          "data": {
            "text/plain": [
              "id                                1.181604e+07\n",
              "host_id                           8.179277e+07\n",
              "latitude                          4.336345e-02\n",
              "longitude                         3.274414e-02\n",
              "price                             1.090032e+02\n",
              "minimum_nights                    8.992644e+00\n",
              "number_of_reviews                 2.906928e+01\n",
              "reviews_per_month                 9.489338e-01\n",
              "calculated_host_listings_count    8.506215e+00\n",
              "availability_365                  1.265533e+02\n",
              "dtype: float64"
            ]
          },
          "metadata": {
            "tags": []
          },
          "execution_count": 14
        }
      ]
    },
    {
      "cell_type": "code",
      "metadata": {
        "id": "3BczNLlwNuh2",
        "colab_type": "code",
        "colab": {}
      },
      "source": [
        "max_min = desc.loc[['max', 'min']]"
      ],
      "execution_count": null,
      "outputs": []
    },
    {
      "cell_type": "code",
      "metadata": {
        "scrolled": true,
        "id": "ibWc-VJkNuh_",
        "colab_type": "code",
        "colab": {
          "base_uri": "https://localhost:8080/",
          "height": 187
        },
        "outputId": "92b9960b-4464-4cd0-b5b4-559e32d4ece3"
      },
      "source": [
        "for col in max_min:\n",
        "    max_col = max_min[col].loc['max']\n",
        "    min_col = max_min[col].loc['min']\n",
        "    print (f'range in {col} = {max_col - min_col}')"
      ],
      "execution_count": null,
      "outputs": [
        {
          "output_type": "stream",
          "text": [
            "range in id = 43701299.0\n",
            "range in host_id = 349080382.0\n",
            "range in latitude = 0.4118999999999957\n",
            "range in longitude = 0.5278500000000008\n",
            "range in price = 10000.0\n",
            "range in minimum_nights = 1249.0\n",
            "range in number_of_reviews = 746.0\n",
            "range in reviews_per_month = 53.79\n",
            "range in calculated_host_listings_count = 279.0\n",
            "range in availability_365 = 365.0\n"
          ],
          "name": "stdout"
        }
      ]
    },
    {
      "cell_type": "markdown",
      "metadata": {
        "colab_type": "text",
        "id": "81YZ6C7ftM4l"
      },
      "source": [
        "### Generate a basic set of descriptive statistics for the categorical fields in the data set."
      ]
    },
    {
      "cell_type": "code",
      "metadata": {
        "colab_type": "code",
        "id": "NCu1eHOGtM4l",
        "colab": {
          "base_uri": "https://localhost:8080/",
          "height": 235
        },
        "outputId": "07b16356-795f-4195-9086-52c0ba2ce6f7"
      },
      "source": [
        "data.describe(include=\"object\").T"
      ],
      "execution_count": null,
      "outputs": [
        {
          "output_type": "execute_result",
          "data": {
            "text/html": [
              "<div>\n",
              "<style scoped>\n",
              "    .dataframe tbody tr th:only-of-type {\n",
              "        vertical-align: middle;\n",
              "    }\n",
              "\n",
              "    .dataframe tbody tr th {\n",
              "        vertical-align: top;\n",
              "    }\n",
              "\n",
              "    .dataframe thead th {\n",
              "        text-align: right;\n",
              "    }\n",
              "</style>\n",
              "<table border=\"1\" class=\"dataframe\">\n",
              "  <thead>\n",
              "    <tr style=\"text-align: right;\">\n",
              "      <th></th>\n",
              "      <th>count</th>\n",
              "      <th>unique</th>\n",
              "      <th>top</th>\n",
              "      <th>freq</th>\n",
              "    </tr>\n",
              "  </thead>\n",
              "  <tbody>\n",
              "    <tr>\n",
              "      <th>name</th>\n",
              "      <td>49512</td>\n",
              "      <td>48247</td>\n",
              "      <td>Home away from home</td>\n",
              "      <td>21</td>\n",
              "    </tr>\n",
              "    <tr>\n",
              "      <th>host_name</th>\n",
              "      <td>49524</td>\n",
              "      <td>11572</td>\n",
              "      <td>Michael</td>\n",
              "      <td>416</td>\n",
              "    </tr>\n",
              "    <tr>\n",
              "      <th>neighbourhood_group</th>\n",
              "      <td>49530</td>\n",
              "      <td>5</td>\n",
              "      <td>Manhattan</td>\n",
              "      <td>21963</td>\n",
              "    </tr>\n",
              "    <tr>\n",
              "      <th>neighbourhood</th>\n",
              "      <td>49530</td>\n",
              "      <td>222</td>\n",
              "      <td>Williamsburg</td>\n",
              "      <td>3752</td>\n",
              "    </tr>\n",
              "    <tr>\n",
              "      <th>room_type</th>\n",
              "      <td>49530</td>\n",
              "      <td>4</td>\n",
              "      <td>Entire home/apt</td>\n",
              "      <td>25716</td>\n",
              "    </tr>\n",
              "    <tr>\n",
              "      <th>last_review</th>\n",
              "      <td>38211</td>\n",
              "      <td>2077</td>\n",
              "      <td>2020-01-01</td>\n",
              "      <td>940</td>\n",
              "    </tr>\n",
              "  </tbody>\n",
              "</table>\n",
              "</div>"
            ],
            "text/plain": [
              "                     count unique                  top   freq\n",
              "name                 49512  48247  Home away from home     21\n",
              "host_name            49524  11572              Michael    416\n",
              "neighbourhood_group  49530      5            Manhattan  21963\n",
              "neighbourhood        49530    222         Williamsburg   3752\n",
              "room_type            49530      4      Entire home/apt  25716\n",
              "last_review          38211   2077           2020-01-01    940"
            ]
          },
          "metadata": {
            "tags": []
          },
          "execution_count": 17
        }
      ]
    },
    {
      "cell_type": "markdown",
      "metadata": {
        "colab_type": "text",
        "id": "vGaAtIbwtM4o"
      },
      "source": [
        "### Calculate the Pearson correlation coefficients between price, minimum_nights, reviews_per_month, calculated_host_listings_count and availability_365"
      ]
    },
    {
      "cell_type": "code",
      "metadata": {
        "colab_type": "code",
        "id": "yWWeNyBxtM4p",
        "colab": {
          "base_uri": "https://localhost:8080/",
          "height": 204
        },
        "outputId": "6c6aac1d-6ac1-48e1-c8d7-b506486b65f6"
      },
      "source": [
        "new_data = data[['price', 'minimum_nights', 'reviews_per_month', 'calculated_host_listings_count', 'availability_365']]\n",
        "new_data.corr('pearson')"
      ],
      "execution_count": null,
      "outputs": [
        {
          "output_type": "execute_result",
          "data": {
            "text/html": [
              "<div>\n",
              "<style scoped>\n",
              "    .dataframe tbody tr th:only-of-type {\n",
              "        vertical-align: middle;\n",
              "    }\n",
              "\n",
              "    .dataframe tbody tr th {\n",
              "        vertical-align: top;\n",
              "    }\n",
              "\n",
              "    .dataframe thead th {\n",
              "        text-align: right;\n",
              "    }\n",
              "</style>\n",
              "<table border=\"1\" class=\"dataframe\">\n",
              "  <thead>\n",
              "    <tr style=\"text-align: right;\">\n",
              "      <th></th>\n",
              "      <th>price</th>\n",
              "      <th>minimum_nights</th>\n",
              "      <th>reviews_per_month</th>\n",
              "      <th>calculated_host_listings_count</th>\n",
              "      <th>availability_365</th>\n",
              "    </tr>\n",
              "  </thead>\n",
              "  <tbody>\n",
              "    <tr>\n",
              "      <th>price</th>\n",
              "      <td>1.000000</td>\n",
              "      <td>0.015923</td>\n",
              "      <td>-0.011623</td>\n",
              "      <td>0.004730</td>\n",
              "      <td>0.055788</td>\n",
              "    </tr>\n",
              "    <tr>\n",
              "      <th>minimum_nights</th>\n",
              "      <td>0.015923</td>\n",
              "      <td>1.000000</td>\n",
              "      <td>-0.098409</td>\n",
              "      <td>0.165421</td>\n",
              "      <td>0.148435</td>\n",
              "    </tr>\n",
              "    <tr>\n",
              "      <th>reviews_per_month</th>\n",
              "      <td>-0.011623</td>\n",
              "      <td>-0.098409</td>\n",
              "      <td>1.000000</td>\n",
              "      <td>-0.066725</td>\n",
              "      <td>0.213093</td>\n",
              "    </tr>\n",
              "    <tr>\n",
              "      <th>calculated_host_listings_count</th>\n",
              "      <td>0.004730</td>\n",
              "      <td>0.165421</td>\n",
              "      <td>-0.066725</td>\n",
              "      <td>1.000000</td>\n",
              "      <td>0.173181</td>\n",
              "    </tr>\n",
              "    <tr>\n",
              "      <th>availability_365</th>\n",
              "      <td>0.055788</td>\n",
              "      <td>0.148435</td>\n",
              "      <td>0.213093</td>\n",
              "      <td>0.173181</td>\n",
              "      <td>1.000000</td>\n",
              "    </tr>\n",
              "  </tbody>\n",
              "</table>\n",
              "</div>"
            ],
            "text/plain": [
              "                                   price  ...  availability_365\n",
              "price                           1.000000  ...          0.055788\n",
              "minimum_nights                  0.015923  ...          0.148435\n",
              "reviews_per_month              -0.011623  ...          0.213093\n",
              "calculated_host_listings_count  0.004730  ...          0.173181\n",
              "availability_365                0.055788  ...          1.000000\n",
              "\n",
              "[5 rows x 5 columns]"
            ]
          },
          "metadata": {
            "tags": []
          },
          "execution_count": 18
        }
      ]
    },
    {
      "cell_type": "markdown",
      "metadata": {
        "colab_type": "text",
        "id": "AsFbCCdOtM4r"
      },
      "source": [
        "### Group the data by neighbourhood and calculate the mean and standard deviation of revenue for each neighbourhood."
      ]
    },
    {
      "cell_type": "code",
      "metadata": {
        "colab_type": "code",
        "id": "FhrxQmuKtM4s",
        "colab": {
          "base_uri": "https://localhost:8080/",
          "height": 235
        },
        "outputId": "b58b664c-e813-4749-bcdf-d06929682972"
      },
      "source": [
        "aggs = {'price' : ['mean', 'std']}\n",
        "new_df = data.groupby(['neighbourhood_group']).agg(aggs).reset_index()\n",
        "new_df"
      ],
      "execution_count": null,
      "outputs": [
        {
          "output_type": "execute_result",
          "data": {
            "text/html": [
              "<div>\n",
              "<style scoped>\n",
              "    .dataframe tbody tr th:only-of-type {\n",
              "        vertical-align: middle;\n",
              "    }\n",
              "\n",
              "    .dataframe tbody tr th {\n",
              "        vertical-align: top;\n",
              "    }\n",
              "\n",
              "    .dataframe thead tr th {\n",
              "        text-align: left;\n",
              "    }\n",
              "</style>\n",
              "<table border=\"1\" class=\"dataframe\">\n",
              "  <thead>\n",
              "    <tr>\n",
              "      <th></th>\n",
              "      <th>neighbourhood_group</th>\n",
              "      <th colspan=\"2\" halign=\"left\">price</th>\n",
              "    </tr>\n",
              "    <tr>\n",
              "      <th></th>\n",
              "      <th></th>\n",
              "      <th>mean</th>\n",
              "      <th>std</th>\n",
              "    </tr>\n",
              "  </thead>\n",
              "  <tbody>\n",
              "    <tr>\n",
              "      <th>0</th>\n",
              "      <td>Bronx</td>\n",
              "      <td>90.176127</td>\n",
              "      <td>98.569331</td>\n",
              "    </tr>\n",
              "    <tr>\n",
              "      <th>1</th>\n",
              "      <td>Brooklyn</td>\n",
              "      <td>125.056194</td>\n",
              "      <td>204.835722</td>\n",
              "    </tr>\n",
              "    <tr>\n",
              "      <th>2</th>\n",
              "      <td>Manhattan</td>\n",
              "      <td>218.855166</td>\n",
              "      <td>583.519236</td>\n",
              "    </tr>\n",
              "    <tr>\n",
              "      <th>3</th>\n",
              "      <td>Queens</td>\n",
              "      <td>99.745056</td>\n",
              "      <td>195.717338</td>\n",
              "    </tr>\n",
              "    <tr>\n",
              "      <th>4</th>\n",
              "      <td>Staten Island</td>\n",
              "      <td>116.908108</td>\n",
              "      <td>241.447121</td>\n",
              "    </tr>\n",
              "  </tbody>\n",
              "</table>\n",
              "</div>"
            ],
            "text/plain": [
              "  neighbourhood_group       price            \n",
              "                             mean         std\n",
              "0               Bronx   90.176127   98.569331\n",
              "1            Brooklyn  125.056194  204.835722\n",
              "2           Manhattan  218.855166  583.519236\n",
              "3              Queens   99.745056  195.717338\n",
              "4       Staten Island  116.908108  241.447121"
            ]
          },
          "metadata": {
            "tags": []
          },
          "execution_count": 22
        }
      ]
    },
    {
      "cell_type": "markdown",
      "metadata": {
        "colab_type": "text",
        "id": "e6rJOzh4tM4v"
      },
      "source": [
        "### Create a new mimimum revenue index variable that combines the price, minimum nights, calculate host listings count into a single value for each dwelling. Then sort the data frame by that value to see which dwelling has the most financial strength. \n",
        "\n"
      ]
    },
    {
      "cell_type": "code",
      "metadata": {
        "colab_type": "code",
        "id": "JtCtU89HtM4w",
        "colab": {
          "base_uri": "https://localhost:8080/",
          "height": 598
        },
        "outputId": "634c010c-013f-4c2e-8062-9ca3c28875f2"
      },
      "source": [
        "data['revenue_index'] = (data['price']) * (data['minimum_nights']) * (data['calculated_host_listings_count'])\n",
        "\n",
        "data.sort_values('revenue_index', ascending= False).head(5).reset_index() "
      ],
      "execution_count": null,
      "outputs": [
        {
          "output_type": "execute_result",
          "data": {
            "text/html": [
              "<div>\n",
              "<style scoped>\n",
              "    .dataframe tbody tr th:only-of-type {\n",
              "        vertical-align: middle;\n",
              "    }\n",
              "\n",
              "    .dataframe tbody tr th {\n",
              "        vertical-align: top;\n",
              "    }\n",
              "\n",
              "    .dataframe thead th {\n",
              "        text-align: right;\n",
              "    }\n",
              "</style>\n",
              "<table border=\"1\" class=\"dataframe\">\n",
              "  <thead>\n",
              "    <tr style=\"text-align: right;\">\n",
              "      <th></th>\n",
              "      <th>index</th>\n",
              "      <th>id</th>\n",
              "      <th>name</th>\n",
              "      <th>host_id</th>\n",
              "      <th>host_name</th>\n",
              "      <th>neighbourhood_group</th>\n",
              "      <th>neighbourhood</th>\n",
              "      <th>latitude</th>\n",
              "      <th>longitude</th>\n",
              "      <th>room_type</th>\n",
              "      <th>price</th>\n",
              "      <th>minimum_nights</th>\n",
              "      <th>number_of_reviews</th>\n",
              "      <th>last_review</th>\n",
              "      <th>reviews_per_month</th>\n",
              "      <th>calculated_host_listings_count</th>\n",
              "      <th>availability_365</th>\n",
              "      <th>revenue_index</th>\n",
              "    </tr>\n",
              "  </thead>\n",
              "  <tbody>\n",
              "    <tr>\n",
              "      <th>0</th>\n",
              "      <td>14754</td>\n",
              "      <td>13443640</td>\n",
              "      <td>Deluxe 3-BR + 3.5Bath with sweeping city views!!</td>\n",
              "      <td>30283594</td>\n",
              "      <td>Global Luxury Suites</td>\n",
              "      <td>Manhattan</td>\n",
              "      <td>Midtown</td>\n",
              "      <td>40.75143</td>\n",
              "      <td>-73.96973</td>\n",
              "      <td>Entire home/apt</td>\n",
              "      <td>1100</td>\n",
              "      <td>120</td>\n",
              "      <td>0</td>\n",
              "      <td>NaN</td>\n",
              "      <td>NaN</td>\n",
              "      <td>83</td>\n",
              "      <td>184</td>\n",
              "      <td>10956000</td>\n",
              "    </tr>\n",
              "    <tr>\n",
              "      <th>1</th>\n",
              "      <td>31916</td>\n",
              "      <td>30389115</td>\n",
              "      <td>Airy East Village 1BR w/ Doorman, Gym, near NY...</td>\n",
              "      <td>107434423</td>\n",
              "      <td>Blueground</td>\n",
              "      <td>Manhattan</td>\n",
              "      <td>East Village</td>\n",
              "      <td>40.73099</td>\n",
              "      <td>-73.98844</td>\n",
              "      <td>Entire home/apt</td>\n",
              "      <td>336</td>\n",
              "      <td>90</td>\n",
              "      <td>0</td>\n",
              "      <td>NaN</td>\n",
              "      <td>NaN</td>\n",
              "      <td>280</td>\n",
              "      <td>145</td>\n",
              "      <td>8467200</td>\n",
              "    </tr>\n",
              "    <tr>\n",
              "      <th>2</th>\n",
              "      <td>9961</td>\n",
              "      <td>8810949</td>\n",
              "      <td>NYC  Upscale Midtown East 3BR Apt</td>\n",
              "      <td>30283594</td>\n",
              "      <td>Global Luxury Suites</td>\n",
              "      <td>Manhattan</td>\n",
              "      <td>Midtown</td>\n",
              "      <td>40.74867</td>\n",
              "      <td>-73.96734</td>\n",
              "      <td>Entire home/apt</td>\n",
              "      <td>1170</td>\n",
              "      <td>80</td>\n",
              "      <td>0</td>\n",
              "      <td>NaN</td>\n",
              "      <td>NaN</td>\n",
              "      <td>83</td>\n",
              "      <td>365</td>\n",
              "      <td>7768800</td>\n",
              "    </tr>\n",
              "    <tr>\n",
              "      <th>3</th>\n",
              "      <td>33929</td>\n",
              "      <td>32399523</td>\n",
              "      <td>Premium FiDi 1BR w/ Doorman + Wraparound Roofd...</td>\n",
              "      <td>107434423</td>\n",
              "      <td>Blueground</td>\n",
              "      <td>Manhattan</td>\n",
              "      <td>Financial District</td>\n",
              "      <td>40.70504</td>\n",
              "      <td>-74.00812</td>\n",
              "      <td>Entire home/apt</td>\n",
              "      <td>270</td>\n",
              "      <td>90</td>\n",
              "      <td>0</td>\n",
              "      <td>NaN</td>\n",
              "      <td>NaN</td>\n",
              "      <td>280</td>\n",
              "      <td>251</td>\n",
              "      <td>6804000</td>\n",
              "    </tr>\n",
              "    <tr>\n",
              "      <th>4</th>\n",
              "      <td>31992</td>\n",
              "      <td>30394518</td>\n",
              "      <td>Opulent FiDi Studio w/ Great Rooftop + Gym by ...</td>\n",
              "      <td>107434423</td>\n",
              "      <td>Blueground</td>\n",
              "      <td>Manhattan</td>\n",
              "      <td>Financial District</td>\n",
              "      <td>40.70525</td>\n",
              "      <td>-74.01615</td>\n",
              "      <td>Entire home/apt</td>\n",
              "      <td>157</td>\n",
              "      <td>120</td>\n",
              "      <td>1</td>\n",
              "      <td>2019-02-15</td>\n",
              "      <td>0.06</td>\n",
              "      <td>280</td>\n",
              "      <td>318</td>\n",
              "      <td>5275200</td>\n",
              "    </tr>\n",
              "  </tbody>\n",
              "</table>\n",
              "</div>"
            ],
            "text/plain": [
              "   index        id  ... availability_365  revenue_index\n",
              "0  14754  13443640  ...              184       10956000\n",
              "1  31916  30389115  ...              145        8467200\n",
              "2   9961   8810949  ...              365        7768800\n",
              "3  33929  32399523  ...              251        6804000\n",
              "4  31992  30394518  ...              318        5275200\n",
              "\n",
              "[5 rows x 18 columns]"
            ]
          },
          "metadata": {
            "tags": []
          },
          "execution_count": 20
        }
      ]
    },
    {
      "cell_type": "markdown",
      "metadata": {
        "colab_type": "text",
        "id": "qyxHrLOvtM4y"
      },
      "source": [
        "### Group the data by neighbourhood_group and calculate the average minimum revenue index for each neighbourhood_group."
      ]
    },
    {
      "cell_type": "code",
      "metadata": {
        "colab_type": "code",
        "id": "SgYmQ9HytM4z",
        "colab": {
          "base_uri": "https://localhost:8080/",
          "height": 224
        },
        "outputId": "c54fcd39-9f32-4386-fa1f-e369aafce352"
      },
      "source": [
        "index_neighborhood = data.groupby(['revenue_index']).sum()\n",
        "index_neighborhood.sort_values('revenue_index', ascending= False).head(5).reset_index() "
      ],
      "execution_count": null,
      "outputs": [
        {
          "output_type": "execute_result",
          "data": {
            "text/html": [
              "<div>\n",
              "<style scoped>\n",
              "    .dataframe tbody tr th:only-of-type {\n",
              "        vertical-align: middle;\n",
              "    }\n",
              "\n",
              "    .dataframe tbody tr th {\n",
              "        vertical-align: top;\n",
              "    }\n",
              "\n",
              "    .dataframe thead th {\n",
              "        text-align: right;\n",
              "    }\n",
              "</style>\n",
              "<table border=\"1\" class=\"dataframe\">\n",
              "  <thead>\n",
              "    <tr style=\"text-align: right;\">\n",
              "      <th></th>\n",
              "      <th>revenue_index</th>\n",
              "      <th>id</th>\n",
              "      <th>host_id</th>\n",
              "      <th>latitude</th>\n",
              "      <th>longitude</th>\n",
              "      <th>price</th>\n",
              "      <th>minimum_nights</th>\n",
              "      <th>number_of_reviews</th>\n",
              "      <th>reviews_per_month</th>\n",
              "      <th>calculated_host_listings_count</th>\n",
              "      <th>availability_365</th>\n",
              "    </tr>\n",
              "  </thead>\n",
              "  <tbody>\n",
              "    <tr>\n",
              "      <th>0</th>\n",
              "      <td>10956000</td>\n",
              "      <td>13443640</td>\n",
              "      <td>30283594</td>\n",
              "      <td>40.75143</td>\n",
              "      <td>-73.96973</td>\n",
              "      <td>1100</td>\n",
              "      <td>120</td>\n",
              "      <td>0</td>\n",
              "      <td>0.00</td>\n",
              "      <td>83</td>\n",
              "      <td>184</td>\n",
              "    </tr>\n",
              "    <tr>\n",
              "      <th>1</th>\n",
              "      <td>8467200</td>\n",
              "      <td>30389115</td>\n",
              "      <td>107434423</td>\n",
              "      <td>40.73099</td>\n",
              "      <td>-73.98844</td>\n",
              "      <td>336</td>\n",
              "      <td>90</td>\n",
              "      <td>0</td>\n",
              "      <td>0.00</td>\n",
              "      <td>280</td>\n",
              "      <td>145</td>\n",
              "    </tr>\n",
              "    <tr>\n",
              "      <th>2</th>\n",
              "      <td>7768800</td>\n",
              "      <td>8810949</td>\n",
              "      <td>30283594</td>\n",
              "      <td>40.74867</td>\n",
              "      <td>-73.96734</td>\n",
              "      <td>1170</td>\n",
              "      <td>80</td>\n",
              "      <td>0</td>\n",
              "      <td>0.00</td>\n",
              "      <td>83</td>\n",
              "      <td>365</td>\n",
              "    </tr>\n",
              "    <tr>\n",
              "      <th>3</th>\n",
              "      <td>6804000</td>\n",
              "      <td>32399523</td>\n",
              "      <td>107434423</td>\n",
              "      <td>40.70504</td>\n",
              "      <td>-74.00812</td>\n",
              "      <td>270</td>\n",
              "      <td>90</td>\n",
              "      <td>0</td>\n",
              "      <td>0.00</td>\n",
              "      <td>280</td>\n",
              "      <td>251</td>\n",
              "    </tr>\n",
              "    <tr>\n",
              "      <th>4</th>\n",
              "      <td>5275200</td>\n",
              "      <td>30394518</td>\n",
              "      <td>107434423</td>\n",
              "      <td>40.70525</td>\n",
              "      <td>-74.01615</td>\n",
              "      <td>157</td>\n",
              "      <td>120</td>\n",
              "      <td>1</td>\n",
              "      <td>0.06</td>\n",
              "      <td>280</td>\n",
              "      <td>318</td>\n",
              "    </tr>\n",
              "  </tbody>\n",
              "</table>\n",
              "</div>"
            ],
            "text/plain": [
              "   revenue_index        id  ...  calculated_host_listings_count  availability_365\n",
              "0       10956000  13443640  ...                              83               184\n",
              "1        8467200  30389115  ...                             280               145\n",
              "2        7768800   8810949  ...                              83               365\n",
              "3        6804000  32399523  ...                             280               251\n",
              "4        5275200  30394518  ...                             280               318\n",
              "\n",
              "[5 rows x 11 columns]"
            ]
          },
          "metadata": {
            "tags": []
          },
          "execution_count": 21
        }
      ]
    },
    {
      "cell_type": "markdown",
      "metadata": {
        "id": "Wp7PqfxePHNy",
        "colab_type": "text"
      },
      "source": [
        "1. Identify 3 scenarios in your everyday life where you use probability.\n",
        "\n",
        "Will our favorite team win the next game?\n",
        "\n",
        "Depending on what day of the week it is and what time it is, there will be a certain amount of traffic.\n",
        "\n",
        "What is the chance of rain based on how many weeks per year it rains?"
      ]
    },
    {
      "cell_type": "markdown",
      "metadata": {
        "id": "-v_Y5YvkPIqk",
        "colab_type": "text"
      },
      "source": [
        "2. Using the formula you learned to calculate probabilities, approximate the probabilities of the events in each of those 3 scenarios.\n",
        "\n",
        "a) For the question: \"Will our favorite team win the next game?\"\n",
        "\n",
        "Our team has won 7 out of 10 games, so their chance of winning is 7/10 or 70%\n",
        "\n",
        "The other team has won 8/10 so their probability of winning is 80% (or 20% of losing)\n",
        "\n",
        "P(AB) = P(A|B) * P(B)\n",
        "A = our team wins\n",
        "B = the other team loses\n",
        "\n",
        "P(AB) = game ends in a draw\n",
        "\n",
        "P(A) = .70\n",
        "P(B) = .20\n",
        "\n",
        "Joint probability  = .14 = 14%\n",
        "\n",
        "this means that there is a 14% chance that the game will end in a draw\n",
        "\n",
        "b) for the question: 'What is the probability of getting stuck in traffic on the way to work?'\n",
        "\n",
        "heavy traffic = 5/7 = .71\n",
        "\n",
        "light traffic = 2/7 = .29\n",
        "\n",
        "joint probability = .2 = 20 %\n",
        "\n",
        "c) for the question 'What is the chance of getting rain and thunder?'\n",
        "\n",
        "chance of rain = 1/52 = 1.9%\n",
        "\n",
        "chance of thunder is 2/7 = 29%\n",
        "\n",
        "joint probability = .005 = 0.5%\n"
      ]
    },
    {
      "cell_type": "markdown",
      "metadata": {
        "id": "Ycs13odJPMj2",
        "colab_type": "text"
      },
      "source": [
        "3. Think about what potential dependencies the events in each of your 3 scenarios have. Calculate the joint probabilities for the events and their dependencies.\n",
        "\n",
        "a) the dependency for our team to win is if the other team loses\n",
        "\n",
        "b) the dependency for getting stuck in traffic is if it is a weekday\n",
        "\n",
        "c) the dependency for rain and thunder is if the moisture level is over 50%"
      ]
    },
    {
      "cell_type": "markdown",
      "metadata": {
        "id": "zs6kF2LCPQAy",
        "colab_type": "text"
      },
      "source": [
        "4. Calculate the conditional probabilities for the events given their dependencies.\n",
        "\n",
        "a) the joint probability is 14% and the dependency is 20%. The conditional probabilty is 70%\n",
        "\n",
        "b) joint probabilty = 20%. Dependency = 5/7 = 71%.\n",
        "Conditional probability = 28.5%\n",
        "\n",
        "c) joint probability = 0.5%, dependency = 3%\n",
        "conditional probability = 17%"
      ]
    },
    {
      "cell_type": "code",
      "metadata": {
        "id": "kWLTqlygp22T",
        "colab_type": "code",
        "colab": {}
      },
      "source": [
        ""
      ],
      "execution_count": null,
      "outputs": []
    }
  ]
}