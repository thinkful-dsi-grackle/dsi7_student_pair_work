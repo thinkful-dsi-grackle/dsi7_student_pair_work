{
 "cells": [
  {
   "cell_type": "markdown",
   "metadata": {
    "colab_type": "text",
    "id": "P7Ilhj45tM4S"
   },
   "source": [
    "# Descriptive Statistics Assignment"
   ]
  },
  {
   "cell_type": "code",
   "execution_count": null,
   "metadata": {
    "colab": {},
    "colab_type": "code",
    "id": "PHC3rj3htM4T"
   },
   "outputs": [],
   "source": [
    "import pandas as pd\n",
    "import numpy as np\n",
    "from scipy import stats\n",
    "\n",
    "data_url = \"http://data.insideairbnb.com/united-states/ny/new-york-city/2020-06-08/visualisations/listings.csv\""
   ]
  },
  {
   "cell_type": "markdown",
   "metadata": {
    "colab_type": "text",
    "id": "y_WevD1ftM4X"
   },
   "source": [
    "### Read the aggregated AirBnB listings of New York (using `data_url`) into a Pandas data frame."
   ]
  },
  {
   "cell_type": "code",
   "execution_count": null,
   "metadata": {
    "colab": {},
    "colab_type": "code",
    "id": "RPX9nbZ1tM4Y"
   },
   "outputs": [],
   "source": [
    "airbnb_df = pd.read_csv(data_url)\n",
    "airbnb_df"
   ]
  },
  {
   "cell_type": "markdown",
   "metadata": {
    "colab_type": "text",
    "id": "u58Qq-xjtM4a"
   },
   "source": [
    "### Print the data type for each column."
   ]
  },
  {
   "cell_type": "code",
   "execution_count": null,
   "metadata": {
    "colab": {},
    "colab_type": "code",
    "id": "kgrSk4sjtM4b"
   },
   "outputs": [],
   "source": [
    "airbnb_df.dtypes"
   ]
  },
  {
   "cell_type": "markdown",
   "metadata": {
    "colab_type": "text",
    "id": "i-JUNCl1tM4e"
   },
   "source": [
    "### Generate a basic set of descriptive statistics for the numeric fields in the data set."
   ]
  },
  {
   "cell_type": "code",
   "execution_count": 88,
   "metadata": {
    "colab": {},
    "colab_type": "code",
    "id": "Lh9RxSL1tM4e"
   },
   "outputs": [
    {
     "data": {
      "text/html": [
       "<div>\n",
       "<style scoped>\n",
       "    .dataframe tbody tr th:only-of-type {\n",
       "        vertical-align: middle;\n",
       "    }\n",
       "\n",
       "    .dataframe tbody tr th {\n",
       "        vertical-align: top;\n",
       "    }\n",
       "\n",
       "    .dataframe thead th {\n",
       "        text-align: right;\n",
       "    }\n",
       "</style>\n",
       "<table border=\"1\" class=\"dataframe\">\n",
       "  <thead>\n",
       "    <tr style=\"text-align: right;\">\n",
       "      <th></th>\n",
       "      <th>id</th>\n",
       "      <th>host_id</th>\n",
       "      <th>latitude</th>\n",
       "      <th>longitude</th>\n",
       "      <th>price</th>\n",
       "      <th>minimum_nights</th>\n",
       "      <th>number_of_reviews</th>\n",
       "      <th>reviews_per_month</th>\n",
       "      <th>calculated_host_listings_count</th>\n",
       "      <th>availability_365</th>\n",
       "    </tr>\n",
       "  </thead>\n",
       "  <tbody>\n",
       "    <tr>\n",
       "      <th>count</th>\n",
       "      <td>4.953000e+04</td>\n",
       "      <td>4.953000e+04</td>\n",
       "      <td>49530.000000</td>\n",
       "      <td>49530.000000</td>\n",
       "      <td>49530.000000</td>\n",
       "      <td>49530.000000</td>\n",
       "      <td>49530.000000</td>\n",
       "      <td>38211.000000</td>\n",
       "      <td>49530.000000</td>\n",
       "      <td>49530.000000</td>\n",
       "    </tr>\n",
       "    <tr>\n",
       "      <th>mean</th>\n",
       "      <td>2.295964e+07</td>\n",
       "      <td>8.509951e+07</td>\n",
       "      <td>40.729238</td>\n",
       "      <td>-73.951042</td>\n",
       "      <td>162.643872</td>\n",
       "      <td>8.191540</td>\n",
       "      <td>23.867515</td>\n",
       "      <td>1.008095</td>\n",
       "      <td>6.233030</td>\n",
       "      <td>126.666848</td>\n",
       "    </tr>\n",
       "    <tr>\n",
       "      <th>std</th>\n",
       "      <td>1.352683e+07</td>\n",
       "      <td>9.887597e+07</td>\n",
       "      <td>0.054674</td>\n",
       "      <td>0.047547</td>\n",
       "      <td>419.312316</td>\n",
       "      <td>21.974833</td>\n",
       "      <td>48.245823</td>\n",
       "      <td>1.345213</td>\n",
       "      <td>25.485293</td>\n",
       "      <td>142.381428</td>\n",
       "    </tr>\n",
       "    <tr>\n",
       "      <th>min</th>\n",
       "      <td>2.060000e+03</td>\n",
       "      <td>2.259000e+03</td>\n",
       "      <td>40.499790</td>\n",
       "      <td>-74.240840</td>\n",
       "      <td>0.000000</td>\n",
       "      <td>1.000000</td>\n",
       "      <td>0.000000</td>\n",
       "      <td>0.010000</td>\n",
       "      <td>1.000000</td>\n",
       "      <td>0.000000</td>\n",
       "    </tr>\n",
       "    <tr>\n",
       "      <th>25%</th>\n",
       "      <td>1.085050e+07</td>\n",
       "      <td>9.269052e+06</td>\n",
       "      <td>40.689820</td>\n",
       "      <td>-73.983367</td>\n",
       "      <td>68.000000</td>\n",
       "      <td>2.000000</td>\n",
       "      <td>1.000000</td>\n",
       "      <td>0.150000</td>\n",
       "      <td>1.000000</td>\n",
       "      <td>0.000000</td>\n",
       "    </tr>\n",
       "    <tr>\n",
       "      <th>50%</th>\n",
       "      <td>2.233602e+07</td>\n",
       "      <td>3.800483e+07</td>\n",
       "      <td>40.723840</td>\n",
       "      <td>-73.955350</td>\n",
       "      <td>101.000000</td>\n",
       "      <td>3.000000</td>\n",
       "      <td>5.000000</td>\n",
       "      <td>0.450000</td>\n",
       "      <td>1.000000</td>\n",
       "      <td>79.000000</td>\n",
       "    </tr>\n",
       "    <tr>\n",
       "      <th>75%</th>\n",
       "      <td>3.557779e+07</td>\n",
       "      <td>1.373589e+08</td>\n",
       "      <td>40.762790</td>\n",
       "      <td>-73.934290</td>\n",
       "      <td>175.000000</td>\n",
       "      <td>6.000000</td>\n",
       "      <td>23.000000</td>\n",
       "      <td>1.420000</td>\n",
       "      <td>2.000000</td>\n",
       "      <td>267.000000</td>\n",
       "    </tr>\n",
       "    <tr>\n",
       "      <th>max</th>\n",
       "      <td>4.370336e+07</td>\n",
       "      <td>3.490826e+08</td>\n",
       "      <td>40.911690</td>\n",
       "      <td>-73.712990</td>\n",
       "      <td>10000.000000</td>\n",
       "      <td>1250.000000</td>\n",
       "      <td>746.000000</td>\n",
       "      <td>53.800000</td>\n",
       "      <td>280.000000</td>\n",
       "      <td>365.000000</td>\n",
       "    </tr>\n",
       "  </tbody>\n",
       "</table>\n",
       "</div>"
      ],
      "text/plain": [
       "                 id       host_id      latitude     longitude         price  \\\n",
       "count  4.953000e+04  4.953000e+04  49530.000000  49530.000000  49530.000000   \n",
       "mean   2.295964e+07  8.509951e+07     40.729238    -73.951042    162.643872   \n",
       "std    1.352683e+07  9.887597e+07      0.054674      0.047547    419.312316   \n",
       "min    2.060000e+03  2.259000e+03     40.499790    -74.240840      0.000000   \n",
       "25%    1.085050e+07  9.269052e+06     40.689820    -73.983367     68.000000   \n",
       "50%    2.233602e+07  3.800483e+07     40.723840    -73.955350    101.000000   \n",
       "75%    3.557779e+07  1.373589e+08     40.762790    -73.934290    175.000000   \n",
       "max    4.370336e+07  3.490826e+08     40.911690    -73.712990  10000.000000   \n",
       "\n",
       "       minimum_nights  number_of_reviews  reviews_per_month  \\\n",
       "count    49530.000000       49530.000000       38211.000000   \n",
       "mean         8.191540          23.867515           1.008095   \n",
       "std         21.974833          48.245823           1.345213   \n",
       "min          1.000000           0.000000           0.010000   \n",
       "25%          2.000000           1.000000           0.150000   \n",
       "50%          3.000000           5.000000           0.450000   \n",
       "75%          6.000000          23.000000           1.420000   \n",
       "max       1250.000000         746.000000          53.800000   \n",
       "\n",
       "       calculated_host_listings_count  availability_365  \n",
       "count                    49530.000000      49530.000000  \n",
       "mean                         6.233030        126.666848  \n",
       "std                         25.485293        142.381428  \n",
       "min                          1.000000          0.000000  \n",
       "25%                          1.000000          0.000000  \n",
       "50%                          1.000000         79.000000  \n",
       "75%                          2.000000        267.000000  \n",
       "max                        280.000000        365.000000  "
      ]
     },
     "execution_count": 88,
     "metadata": {},
     "output_type": "execute_result"
    }
   ],
   "source": [
    "airbnb_df.describe()"
   ]
  },
  {
   "cell_type": "markdown",
   "metadata": {
    "colab_type": "text",
    "id": "fXoDTnC9tM4h"
   },
   "source": [
    "### Calculate the following for each numeric field in the data set and add them to the data frame containing the basic set of descriptive statistics.\n",
    "\n",
    "- Variance\n",
    "- Mean Absolute Deviation\n",
    "- Range\n",
    "- Interquartile Range"
   ]
  },
  {
   "cell_type": "code",
   "execution_count": null,
   "metadata": {
    "colab": {},
    "colab_type": "code",
    "id": "FGxTOeMWtM4h"
   },
   "outputs": [],
   "source": [
    "stats=pd.DataFrame()\n",
    "stats[\"mean\"]=airbnb_df.mean()\n",
    "stats[\"Std.Dev\"]=airbnb_df.std()\n",
    "stats[\"Var\"]=airbnb_df.var()\n",
    "stats[\"Mean Absolute Deviation\"]=airbnb_df.mad()"
   ]
  },
  {
   "cell_type": "markdown",
   "metadata": {
    "colab_type": "text",
    "id": "81YZ6C7ftM4l"
   },
   "source": [
    "### Generate a basic set of descriptive statistics for the categorical fields in the data set."
   ]
  },
  {
   "cell_type": "code",
   "execution_count": 89,
   "metadata": {
    "colab": {},
    "colab_type": "code",
    "id": "NCu1eHOGtM4l"
   },
   "outputs": [
    {
     "data": {
      "text/html": [
       "<div>\n",
       "<style scoped>\n",
       "    .dataframe tbody tr th:only-of-type {\n",
       "        vertical-align: middle;\n",
       "    }\n",
       "\n",
       "    .dataframe tbody tr th {\n",
       "        vertical-align: top;\n",
       "    }\n",
       "\n",
       "    .dataframe thead th {\n",
       "        text-align: right;\n",
       "    }\n",
       "</style>\n",
       "<table border=\"1\" class=\"dataframe\">\n",
       "  <thead>\n",
       "    <tr style=\"text-align: right;\">\n",
       "      <th></th>\n",
       "      <th>name</th>\n",
       "      <th>host_name</th>\n",
       "      <th>neighbourhood_group</th>\n",
       "      <th>neighbourhood</th>\n",
       "      <th>room_type</th>\n",
       "      <th>last_review</th>\n",
       "    </tr>\n",
       "  </thead>\n",
       "  <tbody>\n",
       "    <tr>\n",
       "      <th>count</th>\n",
       "      <td>49512</td>\n",
       "      <td>49524</td>\n",
       "      <td>49530</td>\n",
       "      <td>49530</td>\n",
       "      <td>49530</td>\n",
       "      <td>38211</td>\n",
       "    </tr>\n",
       "    <tr>\n",
       "      <th>unique</th>\n",
       "      <td>48247</td>\n",
       "      <td>11572</td>\n",
       "      <td>5</td>\n",
       "      <td>222</td>\n",
       "      <td>4</td>\n",
       "      <td>2077</td>\n",
       "    </tr>\n",
       "    <tr>\n",
       "      <th>top</th>\n",
       "      <td>Home away from home</td>\n",
       "      <td>Michael</td>\n",
       "      <td>Manhattan</td>\n",
       "      <td>Williamsburg</td>\n",
       "      <td>Entire home/apt</td>\n",
       "      <td>2020-01-01</td>\n",
       "    </tr>\n",
       "    <tr>\n",
       "      <th>freq</th>\n",
       "      <td>21</td>\n",
       "      <td>416</td>\n",
       "      <td>21963</td>\n",
       "      <td>3752</td>\n",
       "      <td>25716</td>\n",
       "      <td>940</td>\n",
       "    </tr>\n",
       "  </tbody>\n",
       "</table>\n",
       "</div>"
      ],
      "text/plain": [
       "                       name host_name neighbourhood_group neighbourhood  \\\n",
       "count                 49512     49524               49530         49530   \n",
       "unique                48247     11572                   5           222   \n",
       "top     Home away from home   Michael           Manhattan  Williamsburg   \n",
       "freq                     21       416               21963          3752   \n",
       "\n",
       "              room_type last_review  \n",
       "count             49530       38211  \n",
       "unique                4        2077  \n",
       "top     Entire home/apt  2020-01-01  \n",
       "freq              25716         940  "
      ]
     },
     "execution_count": 89,
     "metadata": {},
     "output_type": "execute_result"
    }
   ],
   "source": [
    "airbnb_df.describe(include=object)"
   ]
  },
  {
   "cell_type": "markdown",
   "metadata": {
    "colab_type": "text",
    "id": "vGaAtIbwtM4o"
   },
   "source": [
    "### Calculate the Pearson correlation coefficients between price, minimum_nights, reviews_per_month, calculated_host_listings_count and availability_365"
   ]
  },
  {
   "cell_type": "code",
   "execution_count": null,
   "metadata": {
    "colab": {},
    "colab_type": "code",
    "id": "yWWeNyBxtM4p"
   },
   "outputs": [],
   "source": [
    "stats.pearsonr(airbnb_df.price, airbnb_df.minimum_nights) \n",
    "#stat.pearsonr(airbnb_df.reviews_per_month, airbnb_df.calculated_host_listings_count)\n",
    "#stats.pearsonr(airbnb_df.availability_365)"
   ]
  },
  {
   "cell_type": "markdown",
   "metadata": {
    "colab_type": "text",
    "id": "AsFbCCdOtM4r"
   },
   "source": [
    "### Group the data by neighbourhood and calculate the mean and standard deviation of revenue for each neighbourhood."
   ]
  },
  {
   "cell_type": "code",
   "execution_count": null,
   "metadata": {
    "colab": {},
    "colab_type": "code",
    "id": "FhrxQmuKtM4s"
   },
   "outputs": [],
   "source": []
  },
  {
   "cell_type": "markdown",
   "metadata": {
    "colab_type": "text",
    "id": "e6rJOzh4tM4v"
   },
   "source": [
    "### Create a new mimimum revenue index variable that combines the price, minimum nights, calculate host listings count into a single value for each dwelling. Then sort the data frame by that value to see which dwelling has the most financial strength. \n",
    "\n"
   ]
  },
  {
   "cell_type": "code",
   "execution_count": null,
   "metadata": {
    "colab": {},
    "colab_type": "code",
    "id": "JtCtU89HtM4w"
   },
   "outputs": [],
   "source": []
  },
  {
   "cell_type": "markdown",
   "metadata": {
    "colab_type": "text",
    "id": "qyxHrLOvtM4y"
   },
   "source": [
    "### Group the data by neighbourhood_group and calculate the average minimum revenue index for each neighbourhood_group."
   ]
  },
  {
   "cell_type": "code",
   "execution_count": null,
   "metadata": {
    "colab": {},
    "colab_type": "code",
    "id": "SgYmQ9HytM4z"
   },
   "outputs": [],
   "source": []
  }
 ],
 "metadata": {
  "colab": {
   "collapsed_sections": [],
   "name": "Day 3 Lecture 2 Assignment.ipynb",
   "provenance": []
  },
  "kernelspec": {
   "display_name": "Python 3",
   "language": "python",
   "name": "python3"
  },
  "language_info": {
   "codemirror_mode": {
    "name": "ipython",
    "version": 3
   },
   "file_extension": ".py",
   "mimetype": "text/x-python",
   "name": "python",
   "nbconvert_exporter": "python",
   "pygments_lexer": "ipython3",
   "version": "3.7.6"
  }
 },
 "nbformat": 4,
 "nbformat_minor": 4
}
