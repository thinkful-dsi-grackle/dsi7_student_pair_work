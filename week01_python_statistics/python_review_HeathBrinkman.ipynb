{
  "nbformat": 4,
  "nbformat_minor": 0,
  "metadata": {
    "kernelspec": {
      "display_name": "Python 3",
      "language": "python",
      "name": "python3"
    },
    "language_info": {
      "codemirror_mode": {
        "name": "ipython",
        "version": 3
      },
      "file_extension": ".py",
      "mimetype": "text/x-python",
      "name": "python",
      "nbconvert_exporter": "python",
      "pygments_lexer": "ipython3",
      "version": "3.7.6"
    },
    "colab": {
      "name": "python_review.ipynb",
      "provenance": [],
      "collapsed_sections": []
    }
  },
  "cells": [
    {
      "cell_type": "markdown",
      "metadata": {
        "id": "_ixrCjj-eQfX",
        "colab_type": "text"
      },
      "source": [
        "## Python Practice\n",
        "\n",
        "Just some made up exercises.\n",
        "\n",
        "Some additional practice:\n",
        "\n",
        "* https://codingbat.com/python\n",
        "* https://www.practicepython.org/\n",
        "* https://www.hackerrank.com/domains/python\n",
        "* https://www.codewars.com/collections/basic-python\n",
        "\n",
        "Links from slides:\n",
        "* https://automatetheboringstuff.com\n",
        "* https://realpython.com/python-beginner-tips/"
      ]
    },
    {
      "cell_type": "markdown",
      "metadata": {
        "id": "M1IfdxHweQfY",
        "colab_type": "text"
      },
      "source": [
        "### Dictionary sum\n",
        "\n",
        "Write a function that accepts a dictionary and threshold value.  The function should sum all of the dictionary values who's keys are greater than or equal to the threshold.  The dictionary will have both numeric keys and values (ie `{1: 2, 3: 4, 5: 6}`).\n",
        "\n",
        "Example\n",
        "\n",
        "```python\n",
        "d = {1: 2, 3: 4, 5: 6}\n",
        "\n",
        "your_function(d, 3)\n",
        "# Expected output is 10.\n",
        "# The keys 3 & 5 are greater than or equal to the threshold of 3.\n",
        "# The values corresponding to the keys 3 & 5 are 4 & 6, and 4 + 6 = 10.\n",
        "```"
      ]
    },
    {
      "cell_type": "code",
      "metadata": {
        "id": "BVPXQFnQeQfZ",
        "colab_type": "code",
        "colab": {
          "base_uri": "https://localhost:8080/",
          "height": 34
        },
        "outputId": "28ec0ab7-91c5-4fbe-eeb1-82180d198970"
      },
      "source": [
        "d = {1: 2, 3: 4, 5: 6}\n",
        "def dictionarySum(d, threshold):\n",
        "  sum = 0\n",
        "  for x in d:\n",
        "    try:\n",
        "      if x >= threshold:\n",
        "        sum += d[x]\n",
        "    except:\n",
        "      print(\"key is not numeric\")\n",
        "  return sum\n",
        "    \n",
        "sum = dictionarySum(d, 3)\n",
        "print(sum)"
      ],
      "execution_count": 72,
      "outputs": [
        {
          "output_type": "stream",
          "text": [
            "10\n"
          ],
          "name": "stdout"
        }
      ]
    },
    {
      "cell_type": "markdown",
      "metadata": {
        "id": "7gSxejQPeQff",
        "colab_type": "text"
      },
      "source": [
        "### Pandas practice"
      ]
    },
    {
      "cell_type": "markdown",
      "metadata": {
        "id": "x5M9UBrLeQfg",
        "colab_type": "text"
      },
      "source": [
        "> ##### Description\n",
        "> The data was extracted from the 1974 Motor Trend US magazine, and comprises fuel consumption and 10 aspects of automobile design and performance for 32 automobiles (1973–74 models).\n",
        ">\n",
        "> ##### Columns\n",
        "A data frame with 32 observations on 11 (numeric) variables.\n",
        ">\n",
        "> ```\n",
        ">  1. mpg    Miles/(US) gallon\n",
        ">  2. cyl    Number of cylinders\n",
        ">  3. disp   Displacement (cu.in.)\n",
        ">  4. hp     Gross horsepower\n",
        ">  5. drat   Rear axle ratio\n",
        ">  6. wt     Weight (1000 lbs)\n",
        ">  7. qsec   1/4 mile time\n",
        ">  8. vs     Engine (0 = V-shaped, 1 = straight)\n",
        ">  9. am     Transmission (0 = automatic, 1 = manual)\n",
        "> 10. gear   Number of forward gears\n",
        "> 11. carb   Number of carburetors\n",
        "> ```"
      ]
    },
    {
      "cell_type": "code",
      "metadata": {
        "id": "oc7snZmUeQfh",
        "colab_type": "code",
        "colab": {}
      },
      "source": [
        "import pandas as pd\n",
        "import matplotlib.pyplot as plt\n",
        "%matplotlib inline\n",
        "\n",
        "mtcars_url = 'https://gist.githubusercontent.com/ZeccaLehn/4e06d2575eb9589dbe8c365d61cb056c/raw/64f1660f38ef523b2a1a13be77b002b98665cdfe/mtcars.csv'"
      ],
      "execution_count": 2,
      "outputs": []
    },
    {
      "cell_type": "markdown",
      "metadata": {
        "id": "jZhuaZOeeQfn",
        "colab_type": "text"
      },
      "source": [
        "Read the data frame using `mtcars_url`"
      ]
    },
    {
      "cell_type": "code",
      "metadata": {
        "id": "JW9aBL5xeQfp",
        "colab_type": "code",
        "colab": {}
      },
      "source": [
        "mtcars = pd.read_csv(mtcars_url)"
      ],
      "execution_count": 3,
      "outputs": []
    },
    {
      "cell_type": "markdown",
      "metadata": {
        "id": "Z8gDldMteQfu",
        "colab_type": "text"
      },
      "source": [
        "Print the first 8 rows of the dataframe."
      ]
    },
    {
      "cell_type": "code",
      "metadata": {
        "id": "g00KH0edeQfv",
        "colab_type": "code",
        "colab": {
          "base_uri": "https://localhost:8080/",
          "height": 297
        },
        "outputId": "a7aec1e1-0469-49e1-be6a-a381fc9083df"
      },
      "source": [
        "mtcars.head(8)"
      ],
      "execution_count": 4,
      "outputs": [
        {
          "output_type": "execute_result",
          "data": {
            "text/html": [
              "<div>\n",
              "<style scoped>\n",
              "    .dataframe tbody tr th:only-of-type {\n",
              "        vertical-align: middle;\n",
              "    }\n",
              "\n",
              "    .dataframe tbody tr th {\n",
              "        vertical-align: top;\n",
              "    }\n",
              "\n",
              "    .dataframe thead th {\n",
              "        text-align: right;\n",
              "    }\n",
              "</style>\n",
              "<table border=\"1\" class=\"dataframe\">\n",
              "  <thead>\n",
              "    <tr style=\"text-align: right;\">\n",
              "      <th></th>\n",
              "      <th>Unnamed: 0</th>\n",
              "      <th>mpg</th>\n",
              "      <th>cyl</th>\n",
              "      <th>disp</th>\n",
              "      <th>hp</th>\n",
              "      <th>drat</th>\n",
              "      <th>wt</th>\n",
              "      <th>qsec</th>\n",
              "      <th>vs</th>\n",
              "      <th>am</th>\n",
              "      <th>gear</th>\n",
              "      <th>carb</th>\n",
              "    </tr>\n",
              "  </thead>\n",
              "  <tbody>\n",
              "    <tr>\n",
              "      <th>0</th>\n",
              "      <td>Mazda RX4</td>\n",
              "      <td>21.0</td>\n",
              "      <td>6</td>\n",
              "      <td>160.0</td>\n",
              "      <td>110</td>\n",
              "      <td>3.90</td>\n",
              "      <td>2.620</td>\n",
              "      <td>16.46</td>\n",
              "      <td>0</td>\n",
              "      <td>1</td>\n",
              "      <td>4</td>\n",
              "      <td>4</td>\n",
              "    </tr>\n",
              "    <tr>\n",
              "      <th>1</th>\n",
              "      <td>Mazda RX4 Wag</td>\n",
              "      <td>21.0</td>\n",
              "      <td>6</td>\n",
              "      <td>160.0</td>\n",
              "      <td>110</td>\n",
              "      <td>3.90</td>\n",
              "      <td>2.875</td>\n",
              "      <td>17.02</td>\n",
              "      <td>0</td>\n",
              "      <td>1</td>\n",
              "      <td>4</td>\n",
              "      <td>4</td>\n",
              "    </tr>\n",
              "    <tr>\n",
              "      <th>2</th>\n",
              "      <td>Datsun 710</td>\n",
              "      <td>22.8</td>\n",
              "      <td>4</td>\n",
              "      <td>108.0</td>\n",
              "      <td>93</td>\n",
              "      <td>3.85</td>\n",
              "      <td>2.320</td>\n",
              "      <td>18.61</td>\n",
              "      <td>1</td>\n",
              "      <td>1</td>\n",
              "      <td>4</td>\n",
              "      <td>1</td>\n",
              "    </tr>\n",
              "    <tr>\n",
              "      <th>3</th>\n",
              "      <td>Hornet 4 Drive</td>\n",
              "      <td>21.4</td>\n",
              "      <td>6</td>\n",
              "      <td>258.0</td>\n",
              "      <td>110</td>\n",
              "      <td>3.08</td>\n",
              "      <td>3.215</td>\n",
              "      <td>19.44</td>\n",
              "      <td>1</td>\n",
              "      <td>0</td>\n",
              "      <td>3</td>\n",
              "      <td>1</td>\n",
              "    </tr>\n",
              "    <tr>\n",
              "      <th>4</th>\n",
              "      <td>Hornet Sportabout</td>\n",
              "      <td>18.7</td>\n",
              "      <td>8</td>\n",
              "      <td>360.0</td>\n",
              "      <td>175</td>\n",
              "      <td>3.15</td>\n",
              "      <td>3.440</td>\n",
              "      <td>17.02</td>\n",
              "      <td>0</td>\n",
              "      <td>0</td>\n",
              "      <td>3</td>\n",
              "      <td>2</td>\n",
              "    </tr>\n",
              "    <tr>\n",
              "      <th>5</th>\n",
              "      <td>Valiant</td>\n",
              "      <td>18.1</td>\n",
              "      <td>6</td>\n",
              "      <td>225.0</td>\n",
              "      <td>105</td>\n",
              "      <td>2.76</td>\n",
              "      <td>3.460</td>\n",
              "      <td>20.22</td>\n",
              "      <td>1</td>\n",
              "      <td>0</td>\n",
              "      <td>3</td>\n",
              "      <td>1</td>\n",
              "    </tr>\n",
              "    <tr>\n",
              "      <th>6</th>\n",
              "      <td>Duster 360</td>\n",
              "      <td>14.3</td>\n",
              "      <td>8</td>\n",
              "      <td>360.0</td>\n",
              "      <td>245</td>\n",
              "      <td>3.21</td>\n",
              "      <td>3.570</td>\n",
              "      <td>15.84</td>\n",
              "      <td>0</td>\n",
              "      <td>0</td>\n",
              "      <td>3</td>\n",
              "      <td>4</td>\n",
              "    </tr>\n",
              "    <tr>\n",
              "      <th>7</th>\n",
              "      <td>Merc 240D</td>\n",
              "      <td>24.4</td>\n",
              "      <td>4</td>\n",
              "      <td>146.7</td>\n",
              "      <td>62</td>\n",
              "      <td>3.69</td>\n",
              "      <td>3.190</td>\n",
              "      <td>20.00</td>\n",
              "      <td>1</td>\n",
              "      <td>0</td>\n",
              "      <td>4</td>\n",
              "      <td>2</td>\n",
              "    </tr>\n",
              "  </tbody>\n",
              "</table>\n",
              "</div>"
            ],
            "text/plain": [
              "          Unnamed: 0   mpg  cyl   disp   hp  ...   qsec  vs  am  gear  carb\n",
              "0          Mazda RX4  21.0    6  160.0  110  ...  16.46   0   1     4     4\n",
              "1      Mazda RX4 Wag  21.0    6  160.0  110  ...  17.02   0   1     4     4\n",
              "2         Datsun 710  22.8    4  108.0   93  ...  18.61   1   1     4     1\n",
              "3     Hornet 4 Drive  21.4    6  258.0  110  ...  19.44   1   0     3     1\n",
              "4  Hornet Sportabout  18.7    8  360.0  175  ...  17.02   0   0     3     2\n",
              "5            Valiant  18.1    6  225.0  105  ...  20.22   1   0     3     1\n",
              "6         Duster 360  14.3    8  360.0  245  ...  15.84   0   0     3     4\n",
              "7          Merc 240D  24.4    4  146.7   62  ...  20.00   1   0     4     2\n",
              "\n",
              "[8 rows x 12 columns]"
            ]
          },
          "metadata": {
            "tags": []
          },
          "execution_count": 4
        }
      ]
    },
    {
      "cell_type": "markdown",
      "metadata": {
        "id": "sV-CaU0jeQfz",
        "colab_type": "text"
      },
      "source": [
        "Rename the first column to something more meaningful."
      ]
    },
    {
      "cell_type": "code",
      "metadata": {
        "id": "zYM5SQ16eQf0",
        "colab_type": "code",
        "colab": {}
      },
      "source": [
        "mtcars = mtcars.rename(columns={'Unnamed: 0': \"Make/Model\"})"
      ],
      "execution_count": 25,
      "outputs": []
    },
    {
      "cell_type": "markdown",
      "metadata": {
        "id": "BV78yZW0eQf6",
        "colab_type": "text"
      },
      "source": [
        "Plot the distribution of the `cyl` column.  Is this a continuous or discrete variable?"
      ]
    },
    {
      "cell_type": "code",
      "metadata": {
        "id": "mM0EWQg0eQf7",
        "colab_type": "code",
        "colab": {
          "base_uri": "https://localhost:8080/",
          "height": 296
        },
        "outputId": "a460d53c-c103-49b0-a322-d67161249778"
      },
      "source": [
        "import seaborn as sb\n",
        "\n",
        "sb.stripplot(mtcars['cyl'])\n",
        "\n",
        "print(\"The variable is discrete, as it can only take whole number values\")"
      ],
      "execution_count": 26,
      "outputs": [
        {
          "output_type": "stream",
          "text": [
            "The variable is discrete, as it can only take whole number values\n"
          ],
          "name": "stdout"
        },
        {
          "output_type": "display_data",
          "data": {
            "image/png": "[encoded data removed]",
            "text/plain": [
              "<Figure size 432x288 with 1 Axes>"
            ]
          },
          "metadata": {
            "tags": [],
            "needs_background": "light"
          }
        }
      ]
    },
    {
      "cell_type": "markdown",
      "metadata": {
        "id": "XgMR4HJseQf_",
        "colab_type": "text"
      },
      "source": [
        "What is the minimum value in the `mpg` column?"
      ]
    },
    {
      "cell_type": "code",
      "metadata": {
        "id": "TRSVRWooeQgA",
        "colab_type": "code",
        "colab": {
          "base_uri": "https://localhost:8080/",
          "height": 34
        },
        "outputId": "a27df8a5-4a19-46fa-820b-1e6b3f8a1f9d"
      },
      "source": [
        "print(\"the minimum value in the mpg column is \" + str(mtcars['mpg'].min()))"
      ],
      "execution_count": 13,
      "outputs": [
        {
          "output_type": "stream",
          "text": [
            "the minimum value in the mpg column is 10.4\n"
          ],
          "name": "stdout"
        }
      ]
    },
    {
      "cell_type": "markdown",
      "metadata": {
        "id": "V7_ioaoNeQgE",
        "colab_type": "text"
      },
      "source": [
        "What is the name of the car with `mpg` equal to `15.0`?"
      ]
    },
    {
      "cell_type": "code",
      "metadata": {
        "id": "3T877Gg5eQgF",
        "colab_type": "code",
        "colab": {
          "base_uri": "https://localhost:8080/",
          "height": 34
        },
        "outputId": "11d7581b-8332-49b3-ad53-bff50ffe3640"
      },
      "source": [
        "mtcars.loc[mtcars['mpg'] == 15.0]['Make/Model']\n",
        "print(\"the name of the car with 15.0 mpg is the \" + str(mtcars.at[30, 'Make/Model']))\n",
        "\n"
      ],
      "execution_count": 60,
      "outputs": [
        {
          "output_type": "stream",
          "text": [
            "the name of the car with 15.0 mpg is the Maserati Bora\n"
          ],
          "name": "stdout"
        }
      ]
    },
    {
      "cell_type": "markdown",
      "metadata": {
        "id": "2y1heXm_eQgN",
        "colab_type": "text"
      },
      "source": [
        "What is the name of the car that has the best gas mileage?"
      ]
    },
    {
      "cell_type": "code",
      "metadata": {
        "id": "VvEbSE7aeQgO",
        "colab_type": "code",
        "colab": {
          "base_uri": "https://localhost:8080/",
          "height": 34
        },
        "outputId": "6b808c49-fcc9-4839-8c2b-9e10fa89dfc5"
      },
      "source": [
        "mtcars.loc[mtcars['mpg']== mtcars['mpg'].max()]\n",
        "print(\"the name of the car with the best gas mileage is the \" + str(mtcars.at[19, 'Make/Model']))"
      ],
      "execution_count": 62,
      "outputs": [
        {
          "output_type": "stream",
          "text": [
            "the name of the car with the best gas mileage is the Toyota Corolla\n"
          ],
          "name": "stdout"
        }
      ]
    },
    {
      "cell_type": "markdown",
      "metadata": {
        "id": "RZWiQcTSeQgS",
        "colab_type": "text"
      },
      "source": [
        "Use your intuition from the variable descriptions and visulaizations to find 2 variables that appear to be *positively* correlated."
      ]
    },
    {
      "cell_type": "code",
      "metadata": {
        "id": "N_-JZnNFeQgU",
        "colab_type": "code",
        "colab": {
          "base_uri": "https://localhost:8080/",
          "height": 296
        },
        "outputId": "6ff32540-9faf-4fd8-8c32-220bc5ed8cd2"
      },
      "source": [
        "sb.scatterplot(mtcars['hp'], mtcars['wt'])\n",
        "print(\"horsepower and weight seem to be positvely correlated\")"
      ],
      "execution_count": 69,
      "outputs": [
        {
          "output_type": "stream",
          "text": [
            "horsepower and weight seem to be positvely correlated\n"
          ],
          "name": "stdout"
        },
        {
          "output_type": "display_data",
          "data": {
            "image/png": "[encoded data removed]",
            "text/plain": [
              "<Figure size 432x288 with 1 Axes>"
            ]
          },
          "metadata": {
            "tags": [],
            "needs_background": "light"
          }
        }
      ]
    },
    {
      "cell_type": "markdown",
      "metadata": {
        "id": "CJ_mHHSQeQgb",
        "colab_type": "text"
      },
      "source": [
        "Use your intuition from the variable descriptions and visulaizations to find 2 variables that appear to be *negatively* correlated."
      ]
    },
    {
      "cell_type": "code",
      "metadata": {
        "id": "Hiz59IoQeQgc",
        "colab_type": "code",
        "colab": {
          "base_uri": "https://localhost:8080/",
          "height": 300
        },
        "outputId": "a0f935c2-9f42-4baa-ab44-aa6f8f30bcec"
      },
      "source": [
        "sb.scatterplot(mtcars['wt'], mtcars['mpg'])\n",
        "print(\"weight and gas mileage seem to be negatively corelated\")"
      ],
      "execution_count": 70,
      "outputs": [
        {
          "output_type": "stream",
          "text": [
            "weight and gas mileage seem to be negatively corelated\n"
          ],
          "name": "stdout"
        },
        {
          "output_type": "display_data",
          "data": {
            "image/png": "[encoded data removed]",
            "text/plain": [
              "<Figure size 432x288 with 1 Axes>"
            ]
          },
          "metadata": {
            "tags": [],
            "needs_background": "light"
          }
        }
      ]
    }
  ]
}