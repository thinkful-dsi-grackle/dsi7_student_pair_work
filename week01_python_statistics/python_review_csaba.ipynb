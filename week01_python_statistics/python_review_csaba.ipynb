{
 "cells": [
  {
   "cell_type": "markdown",
   "metadata": {},
   "source": [
    "## Python Practice\n",
    "\n",
    "Just some made up exercises.\n",
    "\n",
    "Some additional practice:\n",
    "\n",
    "* https://codingbat.com/python\n",
    "* https://www.practicepython.org/\n",
    "* https://www.hackerrank.com/domains/python\n",
    "* https://www.codewars.com/collections/basic-python\n",
    "\n",
    "Links from slides:\n",
    "* https://automatetheboringstuff.com\n",
    "* https://realpython.com/python-beginner-tips/"
   ]
  },
  {
   "cell_type": "markdown",
   "metadata": {},
   "source": [
    "### Dictionary sum\n",
    "\n",
    "Write a function that accepts a dictionary and threshold value.  The function should sum all of the dictionary values who's keys are greater than or equal to the threshold.  The dictionary will have both numeric keys and values (ie `{1: 2, 3: 4, 5: 6}`).\n",
    "\n",
    "Example\n",
    "\n",
    "```python\n",
    "d = {1: 2, 3: 4, 5: 6}\n",
    "\n",
    "your_function(d, 3)\n",
    "# Expected output is 10.\n",
    "# The keys 3 & 5 are greater than or equal to the threshold of 3.\n",
    "# The values corresponding to the keys 3 & 5 are 4 & 6, and 4 + 6 = 10.\n",
    "```"
   ]
  },
  {
   "cell_type": "code",
   "execution_count": 76,
   "metadata": {},
   "outputs": [
    {
     "name": "stdout",
     "output_type": "stream",
     "text": [
      "10\n"
     ]
    }
   ],
   "source": []
  },
  {
   "cell_type": "code",
   "execution_count": 83,
   "metadata": {},
   "outputs": [
    {
     "name": "stdout",
     "output_type": "stream",
     "text": [
      "10\n"
     ]
    }
   ],
   "source": [
    "#my code here\n",
    "random_dict = ()\n",
    "my_dict = {1: 2, 3: 4, 5: 6}\n",
    "def dictionary_sum(random_dict, threshold):\n",
    "# to sum the correct values from keys that above threshold you need to sum = 0        \n",
    "        sum = 0\n",
    "# running a for loop for key, value from any dictionary        \n",
    "        for key, value in random_dict.items():\n",
    "# with an if statement we can select the keys that is above the threshold        \n",
    "            if (key >= threshold):\n",
    "#finally we sum the values from the keys that was above threshold\n",
    "                sum += random_dict[key]\n",
    "        print(sum)\n",
    "    \n",
    "dictionary_sum(my_dict, 3)"
   ]
  },
  {
   "cell_type": "markdown",
   "metadata": {},
   "source": [
    "### Pandas practice"
   ]
  },
  {
   "cell_type": "markdown",
   "metadata": {},
   "source": [
    "> ##### Description\n",
    "> The data was extracted from the 1974 Motor Trend US magazine, and comprises fuel consumption and 10 aspects of automobile design and performance for 32 automobiles (1973–74 models).\n",
    ">\n",
    "> ##### Columns\n",
    "A data frame with 32 observations on 11 (numeric) variables.\n",
    ">\n",
    "> ```\n",
    ">  1. mpg    Miles/(US) gallon\n",
    ">  2. cyl    Number of cylinders\n",
    ">  3. disp   Displacement (cu.in.)\n",
    ">  4. hp     Gross horsepower\n",
    ">  5. drat   Rear axle ratio\n",
    ">  6. wt     Weight (1000 lbs)\n",
    ">  7. qsec   1/4 mile time\n",
    ">  8. vs     Engine (0 = V-shaped, 1 = straight)\n",
    ">  9. am     Transmission (0 = automatic, 1 = manual)\n",
    "> 10. gear   Number of forward gears\n",
    "> 11. carb   Number of carburetors\n",
    "> ```"
   ]
  },
  {
   "cell_type": "code",
   "execution_count": 15,
   "metadata": {},
   "outputs": [],
   "source": [
    "import pandas as pd\n",
    "import matplotlib.pyplot as plt\n",
    "%matplotlib inline\n",
    "\n",
    "mtcars_url = 'https://gist.githubusercontent.com/ZeccaLehn/4e06d2575eb9589dbe8c365d61cb056c/raw/64f1660f38ef523b2a1a13be77b002b98665cdfe/mtcars.csv'"
   ]
  },
  {
   "cell_type": "markdown",
   "metadata": {},
   "source": [
    "Read the data frame using `mtcars_url`"
   ]
  },
  {
   "cell_type": "code",
   "execution_count": 18,
   "metadata": {},
   "outputs": [],
   "source": [
    "mtcars_csv = pd.read_csv(mtcars_url)"
   ]
  },
  {
   "cell_type": "markdown",
   "metadata": {},
   "source": [
    "Print the first 8 rows of the dataframe."
   ]
  },
  {
   "cell_type": "code",
   "execution_count": 19,
   "metadata": {},
   "outputs": [
    {
     "name": "stdout",
     "output_type": "stream",
     "text": [
      "          Unnamed: 0   mpg  cyl   disp   hp  drat     wt   qsec  vs  am  gear  \\\n",
      "0          Mazda RX4  21.0    6  160.0  110  3.90  2.620  16.46   0   1     4   \n",
      "1      Mazda RX4 Wag  21.0    6  160.0  110  3.90  2.875  17.02   0   1     4   \n",
      "2         Datsun 710  22.8    4  108.0   93  3.85  2.320  18.61   1   1     4   \n",
      "3     Hornet 4 Drive  21.4    6  258.0  110  3.08  3.215  19.44   1   0     3   \n",
      "4  Hornet Sportabout  18.7    8  360.0  175  3.15  3.440  17.02   0   0     3   \n",
      "5            Valiant  18.1    6  225.0  105  2.76  3.460  20.22   1   0     3   \n",
      "6         Duster 360  14.3    8  360.0  245  3.21  3.570  15.84   0   0     3   \n",
      "7          Merc 240D  24.4    4  146.7   62  3.69  3.190  20.00   1   0     4   \n",
      "\n",
      "   carb  \n",
      "0     4  \n",
      "1     4  \n",
      "2     1  \n",
      "3     1  \n",
      "4     2  \n",
      "5     1  \n",
      "6     4  \n",
      "7     2  \n"
     ]
    }
   ],
   "source": [
    "print(mtcars_csv.head(8))"
   ]
  },
  {
   "cell_type": "markdown",
   "metadata": {},
   "source": [
    "Rename the first column to something more meaningful."
   ]
  },
  {
   "cell_type": "code",
   "execution_count": 23,
   "metadata": {},
   "outputs": [
    {
     "name": "stdout",
     "output_type": "stream",
     "text": [
      "            Car_name   mpg  cyl   disp   hp  drat     wt   qsec  vs  am  gear  \\\n",
      "0          Mazda RX4  21.0    6  160.0  110  3.90  2.620  16.46   0   1     4   \n",
      "1      Mazda RX4 Wag  21.0    6  160.0  110  3.90  2.875  17.02   0   1     4   \n",
      "2         Datsun 710  22.8    4  108.0   93  3.85  2.320  18.61   1   1     4   \n",
      "3     Hornet 4 Drive  21.4    6  258.0  110  3.08  3.215  19.44   1   0     3   \n",
      "4  Hornet Sportabout  18.7    8  360.0  175  3.15  3.440  17.02   0   0     3   \n",
      "5            Valiant  18.1    6  225.0  105  2.76  3.460  20.22   1   0     3   \n",
      "6         Duster 360  14.3    8  360.0  245  3.21  3.570  15.84   0   0     3   \n",
      "7          Merc 240D  24.4    4  146.7   62  3.69  3.190  20.00   1   0     4   \n",
      "\n",
      "   carb  \n",
      "0     4  \n",
      "1     4  \n",
      "2     1  \n",
      "3     1  \n",
      "4     2  \n",
      "5     1  \n",
      "6     4  \n",
      "7     2  \n"
     ]
    }
   ],
   "source": [
    "# renamed first column from 'Unnamed: 0' to 'Car_name' with '.rename' method of pd\n",
    "new_mtcars = mtcars_csv.rename(columns={'Unnamed: 0': 'Car_name'})\n",
    "print(new_mtcars.head(8))"
   ]
  },
  {
   "cell_type": "markdown",
   "metadata": {},
   "source": [
    "Plot the distribution of the `cyl` column.  Is this a continuous or discrete variable?\n",
    "I think this is a discrete variable, because we are given a range between 4 and 8."
   ]
  },
  {
   "cell_type": "code",
   "execution_count": 84,
   "metadata": {},
   "outputs": [
    {
     "data": {
      "image/png": "[encoded data removed]",
      "text/plain": [
       "<Figure size 432x288 with 1 Axes>"
      ]
     },
     "metadata": {
      "needs_background": "light"
     },
     "output_type": "display_data"
    }
   ],
   "source": [
    "plt.hist(new_mtcars['cyl'])\n",
    "plt.show()"
   ]
  },
  {
   "cell_type": "markdown",
   "metadata": {},
   "source": [
    "What is the minimum value in the `mpg` column?"
   ]
  },
  {
   "cell_type": "code",
   "execution_count": 28,
   "metadata": {},
   "outputs": [
    {
     "name": "stdout",
     "output_type": "stream",
     "text": [
      "10.4\n"
     ]
    }
   ],
   "source": [
    "min_mpg = new_mtcars.min()['mpg']\n",
    " \n",
    "print(min_mpg)"
   ]
  },
  {
   "cell_type": "markdown",
   "metadata": {},
   "source": [
    "What is the name of the car with `mpg` equal to `15.0`?"
   ]
  },
  {
   "cell_type": "code",
   "execution_count": 33,
   "metadata": {},
   "outputs": [
    {
     "data": {
      "text/plain": [
       "30    Maserati Bora\n",
       "Name: Car_name, dtype: object"
      ]
     },
     "execution_count": 33,
     "metadata": {},
     "output_type": "execute_result"
    }
   ],
   "source": [
    "new_mtcars.loc[new_mtcars['mpg'] == 15.0, 'Car_name']\n"
   ]
  },
  {
   "cell_type": "markdown",
   "metadata": {},
   "source": [
    "What is the name of the car that has the best gas mileage?\n",
    "Toyota Corolla"
   ]
  },
  {
   "cell_type": "code",
   "execution_count": 38,
   "metadata": {},
   "outputs": [
    {
     "name": "stdout",
     "output_type": "stream",
     "text": [
      "33.9\n"
     ]
    }
   ],
   "source": [
    "#before I can find the best car milage I need to find out the max value of 'mpg'\n",
    "max_mpg = new_mtcars.max()['mpg']\n",
    "print(max_mpg)"
   ]
  },
  {
   "cell_type": "code",
   "execution_count": 37,
   "metadata": {},
   "outputs": [
    {
     "data": {
      "text/plain": [
       "19    Toyota Corolla\n",
       "Name: Car_name, dtype: object"
      ]
     },
     "execution_count": 37,
     "metadata": {},
     "output_type": "execute_result"
    }
   ],
   "source": [
    "new_mtcars.loc[new_mtcars['mpg'] == 33.9, 'Car_name']"
   ]
  },
  {
   "cell_type": "markdown",
   "metadata": {},
   "source": [
    "Use your intuition from the variable descriptions and visulaizations to find 2 variables that appear to be *positively* correlated.\n",
    "Well, usually the size of the engine and horsepower are positevely correlated, as bigger cylinder will have hihger horsepower!"
   ]
  },
  {
   "cell_type": "code",
   "execution_count": 47,
   "metadata": {},
   "outputs": [
    {
     "data": {
      "image/png": "[encoded data removed]",
      "text/plain": [
       "<Figure size 432x288 with 1 Axes>"
      ]
     },
     "metadata": {
      "needs_background": "light"
     },
     "output_type": "display_data"
    }
   ],
   "source": [
    "new_mtcars.plot(x = 'cyl', y = 'hp', style='o')\n",
    "plt.show()"
   ]
  },
  {
   "cell_type": "markdown",
   "metadata": {},
   "source": [
    "Use your intuition from the variable descriptions and visulaizations to find 2 variables that appear to be *negatively* correlated.\n",
    "\n",
    "i thought the size of the engine and mile-per-gallon will negatively correlate, as the bigger cilynder will have less mpg!"
   ]
  },
  {
   "cell_type": "code",
   "execution_count": 44,
   "metadata": {},
   "outputs": [
    {
     "data": {
      "image/png": "[encoded data removed]",
      "text/plain": [
       "<Figure size 432x288 with 1 Axes>"
      ]
     },
     "metadata": {
      "needs_background": "light"
     },
     "output_type": "display_data"
    }
   ],
   "source": [
    "new_mtcars.plot(x = 'cyl', y = 'mpg', style='o')\n",
    "plt.show()"
   ]
  },
  {
   "cell_type": "code",
   "execution_count": null,
   "metadata": {},
   "outputs": [],
   "source": []
  }
 ],
 "metadata": {
  "kernelspec": {
   "display_name": "Python 3",
   "language": "python",
   "name": "python3"
  },
  "language_info": {
   "codemirror_mode": {
    "name": "ipython",
    "version": 3
   },
   "file_extension": ".py",
   "mimetype": "text/x-python",
   "name": "python",
   "nbconvert_exporter": "python",
   "pygments_lexer": "ipython3",
   "version": "3.7.6"
  }
 },
 "nbformat": 4,
 "nbformat_minor": 2
}
