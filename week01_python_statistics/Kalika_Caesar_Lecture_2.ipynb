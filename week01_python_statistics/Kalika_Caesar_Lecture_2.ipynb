{
  "nbformat": 4,
  "nbformat_minor": 0,
  "metadata": {
    "kernelspec": {
      "display_name": "Python 3",
      "language": "python",
      "name": "python3"
    },
    "language_info": {
      "codemirror_mode": {
        "name": "ipython",
        "version": 3
      },
      "file_extension": ".py",
      "mimetype": "text/x-python",
      "name": "python",
      "nbconvert_exporter": "python",
      "pygments_lexer": "ipython3",
      "version": "3.7.6"
    },
    "colab": {
      "name": "Kalika_Caesar_Lecture_2.ipynb",
      "provenance": [],
      "collapsed_sections": []
    }
  },
  "cells": [
    {
      "cell_type": "markdown",
      "metadata": {
        "id": "tB7WmBX-E-Hi",
        "colab_type": "text"
      },
      "source": [
        "# Inferential Statistics Assignment"
      ]
    },
    {
      "cell_type": "code",
      "metadata": {
        "id": "WzNb9xULE-Hk",
        "colab_type": "code",
        "colab": {}
      },
      "source": [
        "import numpy as np\n",
        "import pandas as pd\n",
        "import seaborn as sns\n",
        "import matplotlib.pyplot as plt\n",
        "import warnings\n",
        "\n",
        "#warnings.filterwarnings('ignore')\n",
        "\n",
        "%matplotlib inline"
      ],
      "execution_count": 3,
      "outputs": []
    },
    {
      "cell_type": "code",
      "metadata": {
        "id": "GUFlYOZ7GXta",
        "colab_type": "code",
        "colab": {}
      },
      "source": [
        "# use credit card fraud dataset\n",
        "data_url = 'https://raw.githubusercontent.com/Thinkful-Ed/data-science-lectures/master/credit_card_fraud.csv'"
      ],
      "execution_count": 4,
      "outputs": []
    },
    {
      "cell_type": "markdown",
      "metadata": {
        "id": "BebNLQKJE-Ho",
        "colab_type": "text"
      },
      "source": [
        "### Read the credit card fraud dataset into a Pandas data frame."
      ]
    },
    {
      "cell_type": "code",
      "metadata": {
        "id": "SS5cvl_EE-Hp",
        "colab_type": "code",
        "colab": {
          "base_uri": "https://localhost:8080/",
          "height": 302
        },
        "outputId": "b9ce280b-f1e5-46a5-e67d-018dfc7aaef7"
      },
      "source": [
        "data = pd.read_csv(data_url)\n",
        "data.describe()\n",
        "data.info()"
      ],
      "execution_count": 29,
      "outputs": [
        {
          "output_type": "stream",
          "text": [
            "<class 'pandas.core.frame.DataFrame'>\n",
            "RangeIndex: 11961 entries, 0 to 11960\n",
            "Data columns (total 10 columns):\n",
            " #   Column          Non-Null Count  Dtype  \n",
            "---  ------          --------------  -----  \n",
            " 0   transaction     11961 non-null  int64  \n",
            " 1   type            11961 non-null  object \n",
            " 2   amount          11961 non-null  float64\n",
            " 3   nameOrig        11961 non-null  object \n",
            " 4   oldbalanceOrg   11961 non-null  float64\n",
            " 5   newbalanceOrig  11961 non-null  float64\n",
            " 6   nameDest        11961 non-null  object \n",
            " 7   oldbalanceDest  11961 non-null  float64\n",
            " 8   newbalanceDest  11961 non-null  float64\n",
            " 9   isFraud         11961 non-null  int64  \n",
            "dtypes: float64(5), int64(2), object(3)\n",
            "memory usage: 934.6+ KB\n"
          ],
          "name": "stdout"
        }
      ]
    },
    {
      "cell_type": "markdown",
      "metadata": {
        "id": "Ez9lcwpJE-Hs",
        "colab_type": "text"
      },
      "source": [
        "### Generate a histogram that shows the data distribution of the \"amount\" field in the data."
      ]
    },
    {
      "cell_type": "code",
      "metadata": {
        "id": "Y7zyEYj8E-Hs",
        "colab_type": "code",
        "colab": {
          "base_uri": "https://localhost:8080/",
          "height": 266
        },
        "outputId": "2ae00280-75e8-4973-e89a-3c5bf2efefe9"
      },
      "source": [
        "plt.hist(data['amount'])\n",
        "plt.show()"
      ],
      "execution_count": 12,
      "outputs": [
        {
          "output_type": "display_data",
          "data": {
            "image/png": "[encoded data removed]",
            "text/plain": [
              "<Figure size 432x288 with 1 Axes>"
            ]
          },
          "metadata": {
            "tags": [],
            "needs_background": "light"
          }
        }
      ]
    },
    {
      "cell_type": "markdown",
      "metadata": {
        "id": "H36sNQHVE-Hu",
        "colab_type": "text"
      },
      "source": [
        "### Randomly sample with replacement 1,000 records from the data set and calculate the mean of the \"amount\" field.\n",
        "\n",
        "Run the cell a few times and see how the mean changes based on the records that are sampled."
      ]
    },
    {
      "cell_type": "code",
      "metadata": {
        "id": "D_-cS2rcE-Hv",
        "colab_type": "code",
        "colab": {
          "base_uri": "https://localhost:8080/",
          "height": 265
        },
        "outputId": "583c6d45-8c14-4159-cbac-a4a4caabcf13"
      },
      "source": [
        "means = [data.sample(len(data), replace=True)['amount'].mean() for i in range(1000)]\n",
        "plt.hist(means)\n",
        "plt.show()"
      ],
      "execution_count": 18,
      "outputs": [
        {
          "output_type": "display_data",
          "data": {
            "image/png": "[encoded data removed]",
            "text/plain": [
              "<Figure size 432x288 with 1 Axes>"
            ]
          },
          "metadata": {
            "tags": [],
            "needs_background": "light"
          }
        }
      ]
    },
    {
      "cell_type": "markdown",
      "metadata": {
        "id": "W_1XLrOZE-Hy",
        "colab_type": "text"
      },
      "source": [
        "### Bootstrap a sampling distribution for the \"amount\" field means and generate a histogram showing the distribution of values.\n",
        "\n",
        "- Generate one sampling distribution using 1,000 samples of size 1,000.\n",
        "- Generate another sampling distribution using 5,000 samples that are each the size of the original data set.\n",
        "- Note the differences between the two sampling distributions."
      ]
    },
    {
      "cell_type": "code",
      "metadata": {
        "id": "UaUSpL9fE-Hz",
        "colab_type": "code",
        "colab": {
          "base_uri": "https://localhost:8080/",
          "height": 269
        },
        "outputId": "25191426-dca9-4320-b38c-680ecca9d01e"
      },
      "source": [
        "means = [data.sample(1000, replace=True)['amount'].mean() for i in range(1000)]\n",
        "plt.hist(means)\n",
        "plt.show()"
      ],
      "execution_count": 19,
      "outputs": [
        {
          "output_type": "display_data",
          "data": {
            "image/png": "[encoded data removed]",
            "text/plain": [
              "<Figure size 432x288 with 1 Axes>"
            ]
          },
          "metadata": {
            "tags": [],
            "needs_background": "light"
          }
        }
      ]
    },
    {
      "cell_type": "code",
      "metadata": {
        "id": "zWQx1bmSvpSt",
        "colab_type": "code",
        "colab": {
          "base_uri": "https://localhost:8080/",
          "height": 265
        },
        "outputId": "7b7f42e2-17a8-427a-8086-6b9773cf19a3"
      },
      "source": [
        "means = [data.sample(len(data), replace=True)['amount'].mean() for i in range(5000)]\n",
        "plt.hist(means)\n",
        "plt.show()"
      ],
      "execution_count": 20,
      "outputs": [
        {
          "output_type": "display_data",
          "data": {
            "image/png": "[encoded data removed]",
            "text/plain": [
              "<Figure size 432x288 with 1 Axes>"
            ]
          },
          "metadata": {
            "tags": [],
            "needs_background": "light"
          }
        }
      ]
    },
    {
      "cell_type": "markdown",
      "metadata": {
        "id": "Q3rc9iRKE-H1",
        "colab_type": "text"
      },
      "source": [
        "### Use Bayesian inference to construct a model that generates the posterior distribution showing the likely range of credit card fraud rates that may have resulted in the observed amount of fraud we see in the data. Hint: You'll want to look at the \"isFraud\" and \"transaction\" fields to help you."
      ]
    },
    {
      "cell_type": "code",
      "metadata": {
        "id": "zlbjOoCNE-H1",
        "colab_type": "code",
        "colab": {
          "base_uri": "https://localhost:8080/",
          "height": 106
        },
        "outputId": "36c390d0-c361-4672-e62a-1f1a9bc932d1"
      },
      "source": [
        "data.loc[:, ['isFraud', 'transaction']].mean()\n",
        "\n",
        "fraud = data.groupby('isFraud').agg({'transaction': 'count'}).reset_index()\n",
        "fraud"
      ],
      "execution_count": 32,
      "outputs": [
        {
          "output_type": "execute_result",
          "data": {
            "text/html": [
              "<div>\n",
              "<style scoped>\n",
              "    .dataframe tbody tr th:only-of-type {\n",
              "        vertical-align: middle;\n",
              "    }\n",
              "\n",
              "    .dataframe tbody tr th {\n",
              "        vertical-align: top;\n",
              "    }\n",
              "\n",
              "    .dataframe thead th {\n",
              "        text-align: right;\n",
              "    }\n",
              "</style>\n",
              "<table border=\"1\" class=\"dataframe\">\n",
              "  <thead>\n",
              "    <tr style=\"text-align: right;\">\n",
              "      <th></th>\n",
              "      <th>isFraud</th>\n",
              "      <th>transaction</th>\n",
              "    </tr>\n",
              "  </thead>\n",
              "  <tbody>\n",
              "    <tr>\n",
              "      <th>0</th>\n",
              "      <td>0</td>\n",
              "      <td>11567</td>\n",
              "    </tr>\n",
              "    <tr>\n",
              "      <th>1</th>\n",
              "      <td>1</td>\n",
              "      <td>394</td>\n",
              "    </tr>\n",
              "  </tbody>\n",
              "</table>\n",
              "</div>"
            ],
            "text/plain": [
              "   isFraud  transaction\n",
              "0        0        11567\n",
              "1        1          394"
            ]
          },
          "metadata": {
            "tags": []
          },
          "execution_count": 32
        }
      ]
    },
    {
      "cell_type": "code",
      "metadata": {
        "id": "dSAz-CS51lfb",
        "colab_type": "code",
        "colab": {
          "base_uri": "https://localhost:8080/",
          "height": 265
        },
        "outputId": "b4e8ab7c-2ca1-441a-b3da-d7ea9b10305d"
      },
      "source": [
        "observed = fraud[fraud['isFraud']==1]['transaction'].values[0]\n",
        "transactions = len(data)\n",
        "observed_transaction = observed/transactions\n",
        "\n",
        "results = []\n",
        "\n",
        "for i in range(10000000):\n",
        "  param = np.random.random()\n",
        "  result = np.random.binomial(transactions, param)\n",
        "\n",
        "  if result == observed:\n",
        "    results.append(param)\n",
        "\n",
        "plt.hist(results)\n",
        "plt.show()"
      ],
      "execution_count": 34,
      "outputs": [
        {
          "output_type": "display_data",
          "data": {
            "image/png": "[encoded data removed]",
            "text/plain": [
              "<Figure size 432x288 with 1 Axes>"
            ]
          },
          "metadata": {
            "tags": [],
            "needs_background": "light"
          }
        }
      ]
    },
    {
      "cell_type": "markdown",
      "metadata": {
        "id": "oNznowhV3jXW",
        "colab_type": "text"
      },
      "source": [
        "# Conclusion\n",
        "\n",
        "Credit fraud occurs bewteen 3% and 3.6% per 11,961 transactions. The likelihood of someone experiencing credit fraud is pretty small, but will increase with the number of transactions made. "
      ]
    }
  ]
}