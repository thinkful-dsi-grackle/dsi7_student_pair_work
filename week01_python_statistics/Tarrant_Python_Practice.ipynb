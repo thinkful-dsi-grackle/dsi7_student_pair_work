{
  "nbformat": 4,
  "nbformat_minor": 0,
  "metadata": {
    "kernelspec": {
      "display_name": "Python 3",
      "language": "python",
      "name": "python3"
    },
    "language_info": {
      "codemirror_mode": {
        "name": "ipython",
        "version": 3
      },
      "file_extension": ".py",
      "mimetype": "text/x-python",
      "name": "python",
      "nbconvert_exporter": "python",
      "pygments_lexer": "ipython3",
      "version": "3.7.6"
    },
    "colab": {
      "name": "Tarrant_Python_Practice.ipynb",
      "provenance": [],
      "collapsed_sections": [
        "DEhEG_6uQo0Y",
        "BQyiTqyaQo0n"
      ]
    }
  },
  "cells": [
    {
      "cell_type": "markdown",
      "metadata": {
        "id": "L1mHS8NJQo0T",
        "colab_type": "text"
      },
      "source": [
        "## Python Practice\n",
        "\n",
        "Just some made up exercises.\n",
        "\n",
        "Some additional practice:\n",
        "\n",
        "* https://codingbat.com/python\n",
        "* https://www.practicepython.org/\n",
        "* https://www.hackerrank.com/domains/python\n",
        "* https://www.codewars.com/collections/basic-python\n",
        "\n",
        "Links from slides:\n",
        "* https://automatetheboringstuff.com\n",
        "* https://realpython.com/python-beginner-tips/"
      ]
    },
    {
      "cell_type": "markdown",
      "metadata": {
        "id": "DEhEG_6uQo0Y",
        "colab_type": "text"
      },
      "source": [
        "### Dictionary sum\n",
        "\n",
        "Write a function that accepts a dictionary and threshold value.  The function should sum all of the dictionary values who's keys are greater than or equal to the threshold.  The dictionary will have both numeric keys and values (ie `{1: 2, 3: 4, 5: 6}`).\n",
        "\n",
        "Example\n",
        "\n",
        "```python\n",
        "d = {1: 2, 3: 4, 5: 6}\n",
        "\n",
        "your_function(d, 3)\n",
        "# Expected output is 10.\n",
        "# The keys 3 & 5 are greater than or equal to the threshold of 3.\n",
        "# The values corresponding to the keys 3 & 5 are 4 & 6, and 4 + 6 = 10.\n",
        "```"
      ]
    },
    {
      "cell_type": "code",
      "metadata": {
        "id": "vBnIiskWQo0a",
        "colab_type": "code",
        "colab": {
          "base_uri": "https://localhost:8080/",
          "height": 34
        },
        "outputId": "c229d843-7478-422c-93ca-d707df11f1c6"
      },
      "source": [
        "def dict_sum(dictionary, threshold_value):\n",
        "  threshold_dict = {k:v for k,v in dictionary.items() if k >= threshold_value}\n",
        "  return sum(threshold_dict.values())\n",
        "\n",
        "d = {1: 2, 3: 4, 5: 6}\n",
        "\n",
        "print(dict_sum(d, 3))"
      ],
      "execution_count": null,
      "outputs": [
        {
          "output_type": "stream",
          "text": [
            "10\n"
          ],
          "name": "stdout"
        }
      ]
    },
    {
      "cell_type": "markdown",
      "metadata": {
        "id": "glMgspQlQo0m",
        "colab_type": "text"
      },
      "source": [
        "### Pandas practice"
      ]
    },
    {
      "cell_type": "markdown",
      "metadata": {
        "id": "BQyiTqyaQo0n",
        "colab_type": "text"
      },
      "source": [
        "> ##### Description\n",
        "> The data was extracted from the 1974 Motor Trend US magazine, and comprises fuel consumption and 10 aspects of automobile design and performance for 32 automobiles (1973–74 models).\n",
        ">\n",
        "> ##### Columns\n",
        "A data frame with 32 observations on 11 (numeric) variables.\n",
        ">\n",
        "> ```\n",
        ">  1. mpg    Miles/(US) gallon\n",
        ">  2. cyl    Number of cylinders\n",
        ">  3. disp   Displacement (cu.in.)\n",
        ">  4. hp     Gross horsepower\n",
        ">  5. drat   Rear axle ratio\n",
        ">  6. wt     Weight (1000 lbs)\n",
        ">  7. qsec   1/4 mile time\n",
        ">  8. vs     Engine (0 = V-shaped, 1 = straight)\n",
        ">  9. am     Transmission (0 = automatic, 1 = manual)\n",
        "> 10. gear   Number of forward gears\n",
        "> 11. carb   Number of carburetors\n",
        "> ```"
      ]
    },
    {
      "cell_type": "code",
      "metadata": {
        "id": "TFJrsxS1Qo0o",
        "colab_type": "code",
        "colab": {}
      },
      "source": [
        "import pandas as pd\n",
        "import matplotlib.pyplot as plt\n",
        "%matplotlib inline\n",
        "\n",
        "mtcars_url = 'https://gist.githubusercontent.com/ZeccaLehn/4e06d2575eb9589dbe8c365d61cb056c/raw/64f1660f38ef523b2a1a13be77b002b98665cdfe/mtcars.csv'"
      ],
      "execution_count": null,
      "outputs": []
    },
    {
      "cell_type": "markdown",
      "metadata": {
        "id": "8qhE2fbqQo0x",
        "colab_type": "text"
      },
      "source": [
        "#Read the data frame using `mtcars_url`"
      ]
    },
    {
      "cell_type": "code",
      "metadata": {
        "id": "2DT_IhJDQo0y",
        "colab_type": "code",
        "colab": {}
      },
      "source": [
        "cars = pd.read_csv(mtcars_url)"
      ],
      "execution_count": null,
      "outputs": []
    },
    {
      "cell_type": "markdown",
      "metadata": {
        "id": "VubI2HwyQo02",
        "colab_type": "text"
      },
      "source": [
        "#Print the first 8 rows of the dataframe."
      ]
    },
    {
      "cell_type": "code",
      "metadata": {
        "id": "VIGShIyoQo03",
        "colab_type": "code",
        "colab": {
          "base_uri": "https://localhost:8080/",
          "height": 294
        },
        "outputId": "a8662f66-5efb-4f48-f7ac-74c97599e600"
      },
      "source": [
        "cars.head(8)"
      ],
      "execution_count": null,
      "outputs": [
        {
          "output_type": "execute_result",
          "data": {
            "text/html": [
              "<div>\n",
              "<style scoped>\n",
              "    .dataframe tbody tr th:only-of-type {\n",
              "        vertical-align: middle;\n",
              "    }\n",
              "\n",
              "    .dataframe tbody tr th {\n",
              "        vertical-align: top;\n",
              "    }\n",
              "\n",
              "    .dataframe thead th {\n",
              "        text-align: right;\n",
              "    }\n",
              "</style>\n",
              "<table border=\"1\" class=\"dataframe\">\n",
              "  <thead>\n",
              "    <tr style=\"text-align: right;\">\n",
              "      <th></th>\n",
              "      <th>Unnamed: 0</th>\n",
              "      <th>mpg</th>\n",
              "      <th>cyl</th>\n",
              "      <th>disp</th>\n",
              "      <th>hp</th>\n",
              "      <th>drat</th>\n",
              "      <th>wt</th>\n",
              "      <th>qsec</th>\n",
              "      <th>vs</th>\n",
              "      <th>am</th>\n",
              "      <th>gear</th>\n",
              "      <th>carb</th>\n",
              "    </tr>\n",
              "  </thead>\n",
              "  <tbody>\n",
              "    <tr>\n",
              "      <th>0</th>\n",
              "      <td>Mazda RX4</td>\n",
              "      <td>21.0</td>\n",
              "      <td>6</td>\n",
              "      <td>160.0</td>\n",
              "      <td>110</td>\n",
              "      <td>3.90</td>\n",
              "      <td>2.620</td>\n",
              "      <td>16.46</td>\n",
              "      <td>0</td>\n",
              "      <td>1</td>\n",
              "      <td>4</td>\n",
              "      <td>4</td>\n",
              "    </tr>\n",
              "    <tr>\n",
              "      <th>1</th>\n",
              "      <td>Mazda RX4 Wag</td>\n",
              "      <td>21.0</td>\n",
              "      <td>6</td>\n",
              "      <td>160.0</td>\n",
              "      <td>110</td>\n",
              "      <td>3.90</td>\n",
              "      <td>2.875</td>\n",
              "      <td>17.02</td>\n",
              "      <td>0</td>\n",
              "      <td>1</td>\n",
              "      <td>4</td>\n",
              "      <td>4</td>\n",
              "    </tr>\n",
              "    <tr>\n",
              "      <th>2</th>\n",
              "      <td>Datsun 710</td>\n",
              "      <td>22.8</td>\n",
              "      <td>4</td>\n",
              "      <td>108.0</td>\n",
              "      <td>93</td>\n",
              "      <td>3.85</td>\n",
              "      <td>2.320</td>\n",
              "      <td>18.61</td>\n",
              "      <td>1</td>\n",
              "      <td>1</td>\n",
              "      <td>4</td>\n",
              "      <td>1</td>\n",
              "    </tr>\n",
              "    <tr>\n",
              "      <th>3</th>\n",
              "      <td>Hornet 4 Drive</td>\n",
              "      <td>21.4</td>\n",
              "      <td>6</td>\n",
              "      <td>258.0</td>\n",
              "      <td>110</td>\n",
              "      <td>3.08</td>\n",
              "      <td>3.215</td>\n",
              "      <td>19.44</td>\n",
              "      <td>1</td>\n",
              "      <td>0</td>\n",
              "      <td>3</td>\n",
              "      <td>1</td>\n",
              "    </tr>\n",
              "    <tr>\n",
              "      <th>4</th>\n",
              "      <td>Hornet Sportabout</td>\n",
              "      <td>18.7</td>\n",
              "      <td>8</td>\n",
              "      <td>360.0</td>\n",
              "      <td>175</td>\n",
              "      <td>3.15</td>\n",
              "      <td>3.440</td>\n",
              "      <td>17.02</td>\n",
              "      <td>0</td>\n",
              "      <td>0</td>\n",
              "      <td>3</td>\n",
              "      <td>2</td>\n",
              "    </tr>\n",
              "    <tr>\n",
              "      <th>5</th>\n",
              "      <td>Valiant</td>\n",
              "      <td>18.1</td>\n",
              "      <td>6</td>\n",
              "      <td>225.0</td>\n",
              "      <td>105</td>\n",
              "      <td>2.76</td>\n",
              "      <td>3.460</td>\n",
              "      <td>20.22</td>\n",
              "      <td>1</td>\n",
              "      <td>0</td>\n",
              "      <td>3</td>\n",
              "      <td>1</td>\n",
              "    </tr>\n",
              "    <tr>\n",
              "      <th>6</th>\n",
              "      <td>Duster 360</td>\n",
              "      <td>14.3</td>\n",
              "      <td>8</td>\n",
              "      <td>360.0</td>\n",
              "      <td>245</td>\n",
              "      <td>3.21</td>\n",
              "      <td>3.570</td>\n",
              "      <td>15.84</td>\n",
              "      <td>0</td>\n",
              "      <td>0</td>\n",
              "      <td>3</td>\n",
              "      <td>4</td>\n",
              "    </tr>\n",
              "    <tr>\n",
              "      <th>7</th>\n",
              "      <td>Merc 240D</td>\n",
              "      <td>24.4</td>\n",
              "      <td>4</td>\n",
              "      <td>146.7</td>\n",
              "      <td>62</td>\n",
              "      <td>3.69</td>\n",
              "      <td>3.190</td>\n",
              "      <td>20.00</td>\n",
              "      <td>1</td>\n",
              "      <td>0</td>\n",
              "      <td>4</td>\n",
              "      <td>2</td>\n",
              "    </tr>\n",
              "  </tbody>\n",
              "</table>\n",
              "</div>"
            ],
            "text/plain": [
              "          Unnamed: 0   mpg  cyl   disp   hp  ...   qsec  vs  am  gear  carb\n",
              "0          Mazda RX4  21.0    6  160.0  110  ...  16.46   0   1     4     4\n",
              "1      Mazda RX4 Wag  21.0    6  160.0  110  ...  17.02   0   1     4     4\n",
              "2         Datsun 710  22.8    4  108.0   93  ...  18.61   1   1     4     1\n",
              "3     Hornet 4 Drive  21.4    6  258.0  110  ...  19.44   1   0     3     1\n",
              "4  Hornet Sportabout  18.7    8  360.0  175  ...  17.02   0   0     3     2\n",
              "5            Valiant  18.1    6  225.0  105  ...  20.22   1   0     3     1\n",
              "6         Duster 360  14.3    8  360.0  245  ...  15.84   0   0     3     4\n",
              "7          Merc 240D  24.4    4  146.7   62  ...  20.00   1   0     4     2\n",
              "\n",
              "[8 rows x 12 columns]"
            ]
          },
          "metadata": {
            "tags": []
          },
          "execution_count": 4
        }
      ]
    },
    {
      "cell_type": "markdown",
      "metadata": {
        "id": "3P_i5QdwQo07",
        "colab_type": "text"
      },
      "source": [
        "#Rename the first column to something more meaningful."
      ]
    },
    {
      "cell_type": "code",
      "metadata": {
        "id": "9Rv9MDaOQo08",
        "colab_type": "code",
        "colab": {
          "base_uri": "https://localhost:8080/",
          "height": 69
        },
        "outputId": "4765fd5c-bbeb-40be-ef1e-413563890272"
      },
      "source": [
        "cars.rename(columns={'Unnamed: 0': 'model'}, inplace=True)\n",
        "\n",
        "cars.columns"
      ],
      "execution_count": null,
      "outputs": [
        {
          "output_type": "execute_result",
          "data": {
            "text/plain": [
              "Index(['model', 'mpg', 'cyl', 'disp', 'hp', 'drat', 'wt', 'qsec', 'vs', 'am',\n",
              "       'gear', 'carb'],\n",
              "      dtype='object')"
            ]
          },
          "metadata": {
            "tags": []
          },
          "execution_count": 5
        }
      ]
    },
    {
      "cell_type": "markdown",
      "metadata": {
        "id": "9C_JEgFUQo1K",
        "colab_type": "text"
      },
      "source": [
        "#Plot the distribution of the `cyl` column.  Is this a continuous or discrete variable?"
      ]
    },
    {
      "cell_type": "code",
      "metadata": {
        "id": "7KH-uMFvQo1L",
        "colab_type": "code",
        "colab": {
          "base_uri": "https://localhost:8080/",
          "height": 350
        },
        "outputId": "6b744da6-ea08-4ca1-903b-3abf4514b22f"
      },
      "source": [
        "import seaborn as sns\n",
        "sns.set_style()\n",
        "\n",
        "sns.distplot(cars[\"cyl\"])"
      ],
      "execution_count": null,
      "outputs": [
        {
          "output_type": "stream",
          "text": [
            "/usr/local/lib/python3.6/dist-packages/statsmodels/tools/_testing.py:19: FutureWarning: pandas.util.testing is deprecated. Use the functions in the public API at pandas.testing instead.\n",
            "  import pandas.util.testing as tm\n"
          ],
          "name": "stderr"
        },
        {
          "output_type": "execute_result",
          "data": {
            "text/plain": [
              "<matplotlib.axes._subplots.AxesSubplot at 0x7f8c09895ba8>"
            ]
          },
          "metadata": {
            "tags": []
          },
          "execution_count": 6
        },
        {
          "output_type": "display_data",
          "data": {
            "image/png": "[encoded data removed]",
            "text/plain": [
              "<Figure size 432x288 with 1 Axes>"
            ]
          },
          "metadata": {
            "tags": [],
            "needs_background": "light"
          }
        }
      ]
    },
    {
      "cell_type": "markdown",
      "metadata": {
        "id": "TGgvmkpvRDmr",
        "colab_type": "text"
      },
      "source": [
        "The cylinder column contains discrete variables. We are simply counting the number of cylinders."
      ]
    },
    {
      "cell_type": "markdown",
      "metadata": {
        "id": "wdG-kniiQo1T",
        "colab_type": "text"
      },
      "source": [
        "#What is the minimum value in the `mpg` column?"
      ]
    },
    {
      "cell_type": "code",
      "metadata": {
        "id": "gmjZ_PtHQo1T",
        "colab_type": "code",
        "colab": {
          "base_uri": "https://localhost:8080/",
          "height": 34
        },
        "outputId": "0d5e444f-c3cd-43cd-eadf-52cdcd3ec8b0"
      },
      "source": [
        "min(cars['mpg'])"
      ],
      "execution_count": null,
      "outputs": [
        {
          "output_type": "execute_result",
          "data": {
            "text/plain": [
              "10.4"
            ]
          },
          "metadata": {
            "tags": []
          },
          "execution_count": 7
        }
      ]
    },
    {
      "cell_type": "markdown",
      "metadata": {
        "id": "TExFkv-pSdH-",
        "colab_type": "text"
      },
      "source": [
        "The min value in mpg is 10.4"
      ]
    },
    {
      "cell_type": "markdown",
      "metadata": {
        "id": "sBNLNuz8Qo1X",
        "colab_type": "text"
      },
      "source": [
        "#What is the name of the car with `mpg` equal to `15.0`?"
      ]
    },
    {
      "cell_type": "code",
      "metadata": {
        "id": "xpH6oqH3Qo1X",
        "colab_type": "code",
        "colab": {
          "base_uri": "https://localhost:8080/",
          "height": 80
        },
        "outputId": "feea676e-0840-4d6a-cc52-7f8bed653a99"
      },
      "source": [
        "cars_mpg_15 = cars['mpg'] == 15.0\n",
        "cars_mpg_15 = cars.iloc[cars_mpg_15.values]\n",
        "cars_mpg_15"
      ],
      "execution_count": null,
      "outputs": [
        {
          "output_type": "execute_result",
          "data": {
            "text/html": [
              "<div>\n",
              "<style scoped>\n",
              "    .dataframe tbody tr th:only-of-type {\n",
              "        vertical-align: middle;\n",
              "    }\n",
              "\n",
              "    .dataframe tbody tr th {\n",
              "        vertical-align: top;\n",
              "    }\n",
              "\n",
              "    .dataframe thead th {\n",
              "        text-align: right;\n",
              "    }\n",
              "</style>\n",
              "<table border=\"1\" class=\"dataframe\">\n",
              "  <thead>\n",
              "    <tr style=\"text-align: right;\">\n",
              "      <th></th>\n",
              "      <th>model</th>\n",
              "      <th>mpg</th>\n",
              "      <th>cyl</th>\n",
              "      <th>disp</th>\n",
              "      <th>hp</th>\n",
              "      <th>drat</th>\n",
              "      <th>wt</th>\n",
              "      <th>qsec</th>\n",
              "      <th>vs</th>\n",
              "      <th>am</th>\n",
              "      <th>gear</th>\n",
              "      <th>carb</th>\n",
              "    </tr>\n",
              "  </thead>\n",
              "  <tbody>\n",
              "    <tr>\n",
              "      <th>30</th>\n",
              "      <td>Maserati Bora</td>\n",
              "      <td>15.0</td>\n",
              "      <td>8</td>\n",
              "      <td>301.0</td>\n",
              "      <td>335</td>\n",
              "      <td>3.54</td>\n",
              "      <td>3.57</td>\n",
              "      <td>14.6</td>\n",
              "      <td>0</td>\n",
              "      <td>1</td>\n",
              "      <td>5</td>\n",
              "      <td>8</td>\n",
              "    </tr>\n",
              "  </tbody>\n",
              "</table>\n",
              "</div>"
            ],
            "text/plain": [
              "            model   mpg  cyl   disp   hp  drat    wt  qsec  vs  am  gear  carb\n",
              "30  Maserati Bora  15.0    8  301.0  335  3.54  3.57  14.6   0   1     5     8"
            ]
          },
          "metadata": {
            "tags": []
          },
          "execution_count": 8
        }
      ]
    },
    {
      "cell_type": "markdown",
      "metadata": {
        "id": "DGXGfEflSe9V",
        "colab_type": "text"
      },
      "source": [
        "Maserati Bora gets 15.0 mpg."
      ]
    },
    {
      "cell_type": "markdown",
      "metadata": {
        "id": "PEj3X9MyQo1b",
        "colab_type": "text"
      },
      "source": [
        "#What is the name of the car that has the best gas mileage?"
      ]
    },
    {
      "cell_type": "code",
      "metadata": {
        "id": "_eMpU3XrQo1d",
        "colab_type": "code",
        "colab": {
          "base_uri": "https://localhost:8080/",
          "height": 141
        },
        "outputId": "b79392b3-d575-4db9-d955-1c9f68b06d9f"
      },
      "source": [
        "cars.nlargest(n=3, columns='mpg')"
      ],
      "execution_count": null,
      "outputs": [
        {
          "output_type": "execute_result",
          "data": {
            "text/html": [
              "<div>\n",
              "<style scoped>\n",
              "    .dataframe tbody tr th:only-of-type {\n",
              "        vertical-align: middle;\n",
              "    }\n",
              "\n",
              "    .dataframe tbody tr th {\n",
              "        vertical-align: top;\n",
              "    }\n",
              "\n",
              "    .dataframe thead th {\n",
              "        text-align: right;\n",
              "    }\n",
              "</style>\n",
              "<table border=\"1\" class=\"dataframe\">\n",
              "  <thead>\n",
              "    <tr style=\"text-align: right;\">\n",
              "      <th></th>\n",
              "      <th>model</th>\n",
              "      <th>mpg</th>\n",
              "      <th>cyl</th>\n",
              "      <th>disp</th>\n",
              "      <th>hp</th>\n",
              "      <th>drat</th>\n",
              "      <th>wt</th>\n",
              "      <th>qsec</th>\n",
              "      <th>vs</th>\n",
              "      <th>am</th>\n",
              "      <th>gear</th>\n",
              "      <th>carb</th>\n",
              "    </tr>\n",
              "  </thead>\n",
              "  <tbody>\n",
              "    <tr>\n",
              "      <th>19</th>\n",
              "      <td>Toyota Corolla</td>\n",
              "      <td>33.9</td>\n",
              "      <td>4</td>\n",
              "      <td>71.1</td>\n",
              "      <td>65</td>\n",
              "      <td>4.22</td>\n",
              "      <td>1.835</td>\n",
              "      <td>19.90</td>\n",
              "      <td>1</td>\n",
              "      <td>1</td>\n",
              "      <td>4</td>\n",
              "      <td>1</td>\n",
              "    </tr>\n",
              "    <tr>\n",
              "      <th>17</th>\n",
              "      <td>Fiat 128</td>\n",
              "      <td>32.4</td>\n",
              "      <td>4</td>\n",
              "      <td>78.7</td>\n",
              "      <td>66</td>\n",
              "      <td>4.08</td>\n",
              "      <td>2.200</td>\n",
              "      <td>19.47</td>\n",
              "      <td>1</td>\n",
              "      <td>1</td>\n",
              "      <td>4</td>\n",
              "      <td>1</td>\n",
              "    </tr>\n",
              "    <tr>\n",
              "      <th>18</th>\n",
              "      <td>Honda Civic</td>\n",
              "      <td>30.4</td>\n",
              "      <td>4</td>\n",
              "      <td>75.7</td>\n",
              "      <td>52</td>\n",
              "      <td>4.93</td>\n",
              "      <td>1.615</td>\n",
              "      <td>18.52</td>\n",
              "      <td>1</td>\n",
              "      <td>1</td>\n",
              "      <td>4</td>\n",
              "      <td>2</td>\n",
              "    </tr>\n",
              "  </tbody>\n",
              "</table>\n",
              "</div>"
            ],
            "text/plain": [
              "             model   mpg  cyl  disp  hp  drat     wt   qsec  vs  am  gear  carb\n",
              "19  Toyota Corolla  33.9    4  71.1  65  4.22  1.835  19.90   1   1     4     1\n",
              "17        Fiat 128  32.4    4  78.7  66  4.08  2.200  19.47   1   1     4     1\n",
              "18     Honda Civic  30.4    4  75.7  52  4.93  1.615  18.52   1   1     4     2"
            ]
          },
          "metadata": {
            "tags": []
          },
          "execution_count": 9
        }
      ]
    },
    {
      "cell_type": "markdown",
      "metadata": {
        "id": "2iRgkDsKaGok",
        "colab_type": "text"
      },
      "source": [
        ""
      ]
    },
    {
      "cell_type": "markdown",
      "metadata": {
        "id": "IWJ6XU7cSitJ",
        "colab_type": "text"
      },
      "source": [
        "Toyota Corolla has the best gas mileage."
      ]
    },
    {
      "cell_type": "markdown",
      "metadata": {
        "id": "Veaq52C1Qo1k",
        "colab_type": "text"
      },
      "source": [
        "#Use your intuition from the variable descriptions and visulaizations to find 2 variables that appear to be *positively* correlated."
      ]
    },
    {
      "cell_type": "code",
      "metadata": {
        "id": "88y5-A-4Qo1m",
        "colab_type": "code",
        "colab": {
          "base_uri": "https://localhost:8080/",
          "height": 69
        },
        "outputId": "f527c778-688e-4c8a-bc48-da5b9c4fb82d"
      },
      "source": [
        "cars.columns"
      ],
      "execution_count": null,
      "outputs": [
        {
          "output_type": "execute_result",
          "data": {
            "text/plain": [
              "Index(['model', 'mpg', 'cyl', 'disp', 'hp', 'drat', 'wt', 'qsec', 'vs', 'am',\n",
              "       'gear', 'carb'],\n",
              "      dtype='object')"
            ]
          },
          "metadata": {
            "tags": []
          },
          "execution_count": 10
        }
      ]
    },
    {
      "cell_type": "markdown",
      "metadata": {
        "id": "t_oke_rEVS-8",
        "colab_type": "text"
      },
      "source": [
        "I would expect 'cyl' and 'hp' columns to be positively correlated. The more cylinders that are added to an engine I would expect the horse power in the vehicle to increase. "
      ]
    },
    {
      "cell_type": "code",
      "metadata": {
        "id": "gEWk84gsXBeU",
        "colab_type": "code",
        "colab": {
          "base_uri": "https://localhost:8080/",
          "height": 296
        },
        "outputId": "a553d3f1-6bd9-45bf-bc4e-fa997cb36605"
      },
      "source": [
        "sns.scatterplot(x ='cyl', y = 'hp', data = cars)"
      ],
      "execution_count": null,
      "outputs": [
        {
          "output_type": "execute_result",
          "data": {
            "text/plain": [
              "<matplotlib.axes._subplots.AxesSubplot at 0x7f8c04a8e4e0>"
            ]
          },
          "metadata": {
            "tags": []
          },
          "execution_count": 17
        },
        {
          "output_type": "display_data",
          "data": {
            "image/png": "[encoded data removed]",
            "text/plain": [
              "<Figure size 432x288 with 1 Axes>"
            ]
          },
          "metadata": {
            "tags": [],
            "needs_background": "light"
          }
        }
      ]
    },
    {
      "cell_type": "markdown",
      "metadata": {
        "id": "E2aZgf-5Ysho",
        "colab_type": "text"
      },
      "source": [
        "The scatterplot gives weight to our hypothesis. As number of cylinders increase, the horsepower increases."
      ]
    },
    {
      "cell_type": "markdown",
      "metadata": {
        "id": "I_-qT5mrQo1r",
        "colab_type": "text"
      },
      "source": [
        "#Use your intuition from the variable descriptions and visulaizations to find 2 variables that appear to be *negatively* correlated."
      ]
    },
    {
      "cell_type": "markdown",
      "metadata": {
        "id": "UwUXTrVrUkrL",
        "colab_type": "text"
      },
      "source": [
        "I would expect 'wt' and 'mpg' columns to be negatively correlated. As the vehicle's weight increases, I would expect the miles per gallon to decrease."
      ]
    },
    {
      "cell_type": "code",
      "metadata": {
        "id": "9K3OLx5vQo1s",
        "colab_type": "code",
        "colab": {
          "base_uri": "https://localhost:8080/",
          "height": 300
        },
        "outputId": "044b427f-43a3-476b-e399-63acb67c4d97"
      },
      "source": [
        "sns.scatterplot(x='wt', y= 'mpg', data=cars)"
      ],
      "execution_count": null,
      "outputs": [
        {
          "output_type": "execute_result",
          "data": {
            "text/plain": [
              "<matplotlib.axes._subplots.AxesSubplot at 0x7f8c04a8e208>"
            ]
          },
          "metadata": {
            "tags": []
          },
          "execution_count": 18
        },
        {
          "output_type": "display_data",
          "data": {
            "image/png": "[encoded data removed]",
            "text/plain": [
              "<Figure size 432x288 with 1 Axes>"
            ]
          },
          "metadata": {
            "tags": [],
            "needs_background": "light"
          }
        }
      ]
    },
    {
      "cell_type": "markdown",
      "metadata": {
        "id": "gYkSZkTDZx7x",
        "colab_type": "text"
      },
      "source": [
        "The scatterplot illustrates that as vehicle weight increases gas mileage ('mpg') decreases."
      ]
    }
  ]
}