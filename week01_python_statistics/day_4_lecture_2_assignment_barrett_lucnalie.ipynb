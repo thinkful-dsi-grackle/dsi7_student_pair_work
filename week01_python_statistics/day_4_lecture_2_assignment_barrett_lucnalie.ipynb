{
  "nbformat": 4,
  "nbformat_minor": 0,
  "metadata": {
    "kernelspec": {
      "display_name": "Python 3",
      "language": "python",
      "name": "python3"
    },
    "language_info": {
      "codemirror_mode": {
        "name": "ipython",
        "version": 3
      },
      "file_extension": ".py",
      "mimetype": "text/x-python",
      "name": "python",
      "nbconvert_exporter": "python",
      "pygments_lexer": "ipython3",
      "version": "3.7.6"
    },
    "colab": {
      "name": "Day_4_Lecture_2_Assignment_barrett_lillie.ipynb",
      "provenance": [],
      "collapsed_sections": []
    }
  },
  "cells": [
    {
      "cell_type": "markdown",
      "metadata": {
        "id": "tB7WmBX-E-Hi",
        "colab_type": "text"
      },
      "source": [
        "# Inferential Statistics Assignment"
      ]
    },
    {
      "cell_type": "code",
      "metadata": {
        "id": "WzNb9xULE-Hk",
        "colab_type": "code",
        "colab": {
          "base_uri": "https://localhost:8080/",
          "height": 71
        },
        "outputId": "7863ceb0-cf00-4b12-bd3c-ba8e5a98cf89"
      },
      "source": [
        "import numpy as np\n",
        "import pandas as pd\n",
        "import seaborn as sns\n",
        "import matplotlib.pyplot as plt\n",
        "import warnings\n",
        "\n",
        "warnings.filterwarnings('ignore')\n",
        "\n",
        "%matplotlib inline"
      ],
      "execution_count": 1,
      "outputs": [
        {
          "output_type": "stream",
          "text": [
            "/usr/local/lib/python3.6/dist-packages/statsmodels/tools/_testing.py:19: FutureWarning: pandas.util.testing is deprecated. Use the functions in the public API at pandas.testing instead.\n",
            "  import pandas.util.testing as tm\n"
          ],
          "name": "stderr"
        }
      ]
    },
    {
      "cell_type": "code",
      "metadata": {
        "id": "GUFlYOZ7GXta",
        "colab_type": "code",
        "colab": {}
      },
      "source": [
        "# use credit card fraud dataset\n",
        "data_url = 'https://raw.githubusercontent.com/Thinkful-Ed/data-science-lectures/master/credit_card_fraud.csv'"
      ],
      "execution_count": 2,
      "outputs": []
    },
    {
      "cell_type": "markdown",
      "metadata": {
        "id": "BebNLQKJE-Ho",
        "colab_type": "text"
      },
      "source": [
        "### Read the credit card fraud dataset into a Pandas data frame."
      ]
    },
    {
      "cell_type": "code",
      "metadata": {
        "id": "SS5cvl_EE-Hp",
        "colab_type": "code",
        "colab": {
          "base_uri": "https://localhost:8080/",
          "height": 204
        },
        "outputId": "48198311-1223-44a6-8ea1-24603ef87fd6"
      },
      "source": [
        "data = pd.read_csv(data_url)\n",
        "\n",
        "data.head()"
      ],
      "execution_count": 4,
      "outputs": [
        {
          "output_type": "execute_result",
          "data": {
            "text/html": [
              "<div>\n",
              "<style scoped>\n",
              "    .dataframe tbody tr th:only-of-type {\n",
              "        vertical-align: middle;\n",
              "    }\n",
              "\n",
              "    .dataframe tbody tr th {\n",
              "        vertical-align: top;\n",
              "    }\n",
              "\n",
              "    .dataframe thead th {\n",
              "        text-align: right;\n",
              "    }\n",
              "</style>\n",
              "<table border=\"1\" class=\"dataframe\">\n",
              "  <thead>\n",
              "    <tr style=\"text-align: right;\">\n",
              "      <th></th>\n",
              "      <th>transaction</th>\n",
              "      <th>type</th>\n",
              "      <th>amount</th>\n",
              "      <th>nameOrig</th>\n",
              "      <th>oldbalanceOrg</th>\n",
              "      <th>newbalanceOrig</th>\n",
              "      <th>nameDest</th>\n",
              "      <th>oldbalanceDest</th>\n",
              "      <th>newbalanceDest</th>\n",
              "      <th>isFraud</th>\n",
              "    </tr>\n",
              "  </thead>\n",
              "  <tbody>\n",
              "    <tr>\n",
              "      <th>0</th>\n",
              "      <td>1</td>\n",
              "      <td>DEBIT</td>\n",
              "      <td>7414.00</td>\n",
              "      <td>C446504763</td>\n",
              "      <td>151707.00</td>\n",
              "      <td>144293.00</td>\n",
              "      <td>C1854925027</td>\n",
              "      <td>39000000.0</td>\n",
              "      <td>39900000.0</td>\n",
              "      <td>0</td>\n",
              "    </tr>\n",
              "    <tr>\n",
              "      <th>1</th>\n",
              "      <td>2</td>\n",
              "      <td>DEBIT</td>\n",
              "      <td>2899.20</td>\n",
              "      <td>C757752441</td>\n",
              "      <td>0.00</td>\n",
              "      <td>0.00</td>\n",
              "      <td>C1854925027</td>\n",
              "      <td>39000000.0</td>\n",
              "      <td>39000000.0</td>\n",
              "      <td>0</td>\n",
              "    </tr>\n",
              "    <tr>\n",
              "      <th>2</th>\n",
              "      <td>3</td>\n",
              "      <td>CASH_OUT</td>\n",
              "      <td>17447.35</td>\n",
              "      <td>C1004533006</td>\n",
              "      <td>0.00</td>\n",
              "      <td>0.00</td>\n",
              "      <td>C1620573488</td>\n",
              "      <td>34400000.0</td>\n",
              "      <td>35000000.0</td>\n",
              "      <td>0</td>\n",
              "    </tr>\n",
              "    <tr>\n",
              "      <th>3</th>\n",
              "      <td>4</td>\n",
              "      <td>CASH_OUT</td>\n",
              "      <td>477.53</td>\n",
              "      <td>C23579491</td>\n",
              "      <td>0.00</td>\n",
              "      <td>0.00</td>\n",
              "      <td>C356023140</td>\n",
              "      <td>33800000.0</td>\n",
              "      <td>33800000.0</td>\n",
              "      <td>0</td>\n",
              "    </tr>\n",
              "    <tr>\n",
              "      <th>4</th>\n",
              "      <td>5</td>\n",
              "      <td>CASH_IN</td>\n",
              "      <td>18184.97</td>\n",
              "      <td>C861745646</td>\n",
              "      <td>6101058.91</td>\n",
              "      <td>6119243.88</td>\n",
              "      <td>C356023140</td>\n",
              "      <td>33800000.0</td>\n",
              "      <td>33800000.0</td>\n",
              "      <td>0</td>\n",
              "    </tr>\n",
              "  </tbody>\n",
              "</table>\n",
              "</div>"
            ],
            "text/plain": [
              "   transaction      type    amount  ... oldbalanceDest  newbalanceDest  isFraud\n",
              "0            1     DEBIT   7414.00  ...     39000000.0      39900000.0        0\n",
              "1            2     DEBIT   2899.20  ...     39000000.0      39000000.0        0\n",
              "2            3  CASH_OUT  17447.35  ...     34400000.0      35000000.0        0\n",
              "3            4  CASH_OUT    477.53  ...     33800000.0      33800000.0        0\n",
              "4            5   CASH_IN  18184.97  ...     33800000.0      33800000.0        0\n",
              "\n",
              "[5 rows x 10 columns]"
            ]
          },
          "metadata": {
            "tags": []
          },
          "execution_count": 4
        }
      ]
    },
    {
      "cell_type": "markdown",
      "metadata": {
        "id": "Ez9lcwpJE-Hs",
        "colab_type": "text"
      },
      "source": [
        "### Generate a histogram that shows the data distribution of the \"amount\" field in the data."
      ]
    },
    {
      "cell_type": "code",
      "metadata": {
        "id": "Y7zyEYj8E-Hs",
        "colab_type": "code",
        "colab": {
          "base_uri": "https://localhost:8080/",
          "height": 307
        },
        "outputId": "4914e7c7-da76-4165-ff9a-80f56e95351a"
      },
      "source": [
        "sns.distplot(data['amount'])\n",
        "\n",
        "plt.axvline(data['amount'].mean(), color='red', linestyle='solid', linewidth=2)"
      ],
      "execution_count": 42,
      "outputs": [
        {
          "output_type": "execute_result",
          "data": {
            "text/plain": [
              "<matplotlib.lines.Line2D at 0x7fd9be808048>"
            ]
          },
          "metadata": {
            "tags": []
          },
          "execution_count": 42
        },
        {
          "output_type": "display_data",
          "data": {
            "image/png": "[encoded data removed]",
            "text/plain": [
              "<Figure size 432x288 with 1 Axes>"
            ]
          },
          "metadata": {
            "tags": [],
            "needs_background": "light"
          }
        }
      ]
    },
    {
      "cell_type": "markdown",
      "metadata": {
        "id": "H36sNQHVE-Hu",
        "colab_type": "text"
      },
      "source": [
        "### Randomly sample with replacement 1,000 records from the data set and calculate the mean of the \"amount\" field.\n",
        "\n",
        "Run the cell a few times and see how the mean changes based on the records that are sampled."
      ]
    },
    {
      "cell_type": "code",
      "metadata": {
        "id": "D_-cS2rcE-Hv",
        "colab_type": "code",
        "colab": {
          "base_uri": "https://localhost:8080/",
          "height": 34
        },
        "outputId": "ae51167e-420c-4dad-ad69-5dd5232d45ef"
      },
      "source": [
        "df_amount_rand1000 = data['amount'].sample(len(data), replace=True)\n",
        "\n",
        "df_amount_rand1000.mean()"
      ],
      "execution_count": 44,
      "outputs": [
        {
          "output_type": "execute_result",
          "data": {
            "text/plain": [
              "9256.477915726166"
            ]
          },
          "metadata": {
            "tags": []
          },
          "execution_count": 44
        }
      ]
    },
    {
      "cell_type": "markdown",
      "metadata": {
        "id": "W_1XLrOZE-Hy",
        "colab_type": "text"
      },
      "source": [
        "### Bootstrap a sampling distribution for the \"amount\" field means and generate a histogram showing the distribution of values.\n",
        "\n",
        "- Generate one sampling distribution using 1,000 samples of size 1,000.\n",
        "- Generate another sampling distribution using 5,000 samples that are each the size of the original data set.\n",
        "- Note the differences between the two sampling distributions."
      ]
    },
    {
      "cell_type": "code",
      "metadata": {
        "id": "4_aatTapjsRW",
        "colab_type": "code",
        "colab": {
          "base_uri": "https://localhost:8080/",
          "height": 282
        },
        "outputId": "7f85edf6-3810-40c6-b01d-ab2637bc1d66"
      },
      "source": [
        "means_1000 = [data['amount'].sample(n=1000, replace=True).mean() for i in range(1000)]\n",
        "sns.distplot(a=means_1000, color='blue')\n",
        "plt.axvline(sum(means_1000)/len(means_1000), color='red', linestyle='solid', linewidth=2)"
      ],
      "execution_count": 40,
      "outputs": [
        {
          "output_type": "execute_result",
          "data": {
            "text/plain": [
              "<matplotlib.lines.Line2D at 0x7fd9bb79fba8>"
            ]
          },
          "metadata": {
            "tags": []
          },
          "execution_count": 40
        },
        {
          "output_type": "display_data",
          "data": {
            "image/png": "[encoded data removed]",
            "text/plain": [
              "<Figure size 432x288 with 1 Axes>"
            ]
          },
          "metadata": {
            "tags": [],
            "needs_background": "light"
          }
        }
      ]
    },
    {
      "cell_type": "code",
      "metadata": {
        "id": "6dFZdtfijk-L",
        "colab_type": "code",
        "colab": {
          "base_uri": "https://localhost:8080/",
          "height": 282
        },
        "outputId": "e7d7a6be-4b69-44b1-e37b-758e89a93707"
      },
      "source": [
        "means_5000 = [data['amount'].sample(n=len(data['amount']), replace=True).mean() for i in range(5000)]\n",
        "sns.distplot(a=means_5000, color='red')\n",
        "plt.axvline(sum(means_5000)/len(means_5000), color='blue', linestyle='solid', linewidth=2)"
      ],
      "execution_count": 41,
      "outputs": [
        {
          "output_type": "execute_result",
          "data": {
            "text/plain": [
              "<matplotlib.lines.Line2D at 0x7fd9bb77e588>"
            ]
          },
          "metadata": {
            "tags": []
          },
          "execution_count": 41
        },
        {
          "output_type": "display_data",
          "data": {
            "image/png": "[encoded data removed]",
            "text/plain": [
              "<Figure size 432x288 with 1 Axes>"
            ]
          },
          "metadata": {
            "tags": [],
            "needs_background": "light"
          }
        }
      ]
    },
    {
      "cell_type": "markdown",
      "metadata": {
        "id": "tg6uVDZi0qlU",
        "colab_type": "text"
      },
      "source": [
        "The distribution of means using 5000 samples that are each the size of the original data resulted in a much smoother distribution plot than the one using 1000 samples of 1000 data points. This makes sense as more samples should make the model approach a truer normal distribution."
      ]
    },
    {
      "cell_type": "markdown",
      "metadata": {
        "id": "Q3rc9iRKE-H1",
        "colab_type": "text"
      },
      "source": [
        "### Use Bayesian inference to construct a model that generates the posterior distribution showing the likely range of credit card fraud rates that may have resulted in the observed amount of fraud we see in the data. Hint: You'll want to look at the \"isFraud\" and \"transaction\" fields to help you."
      ]
    },
    {
      "cell_type": "code",
      "metadata": {
        "id": "zlbjOoCNE-H1",
        "colab_type": "code",
        "colab": {
          "base_uri": "https://localhost:8080/",
          "height": 111
        },
        "outputId": "73c0f1a7-02d6-4cce-c106-5f73a6873aa6"
      },
      "source": [
        "is_fraud = data.groupby('isFraud').agg({'transaction':'count'}).reset_index()\n",
        "is_fraud"
      ],
      "execution_count": 46,
      "outputs": [
        {
          "output_type": "execute_result",
          "data": {
            "text/html": [
              "<div>\n",
              "<style scoped>\n",
              "    .dataframe tbody tr th:only-of-type {\n",
              "        vertical-align: middle;\n",
              "    }\n",
              "\n",
              "    .dataframe tbody tr th {\n",
              "        vertical-align: top;\n",
              "    }\n",
              "\n",
              "    .dataframe thead th {\n",
              "        text-align: right;\n",
              "    }\n",
              "</style>\n",
              "<table border=\"1\" class=\"dataframe\">\n",
              "  <thead>\n",
              "    <tr style=\"text-align: right;\">\n",
              "      <th></th>\n",
              "      <th>isFraud</th>\n",
              "      <th>transaction</th>\n",
              "    </tr>\n",
              "  </thead>\n",
              "  <tbody>\n",
              "    <tr>\n",
              "      <th>0</th>\n",
              "      <td>0</td>\n",
              "      <td>11567</td>\n",
              "    </tr>\n",
              "    <tr>\n",
              "      <th>1</th>\n",
              "      <td>1</td>\n",
              "      <td>394</td>\n",
              "    </tr>\n",
              "  </tbody>\n",
              "</table>\n",
              "</div>"
            ],
            "text/plain": [
              "   isFraud  transaction\n",
              "0        0        11567\n",
              "1        1          394"
            ]
          },
          "metadata": {
            "tags": []
          },
          "execution_count": 46
        }
      ]
    },
    {
      "cell_type": "code",
      "metadata": {
        "id": "LpSnVPeAxs_A",
        "colab_type": "code",
        "colab": {}
      },
      "source": [
        "observed = is_fraud[is_fraud['isFraud']==1]['transaction'].values[0]\n",
        "transactions = len(data)\n",
        "observed_fraud = observed / transactions\n",
        "\n",
        "results = []\n",
        "\n",
        "for i in range(10000000):\n",
        "  param = np.random.random()\n",
        "  result = np.random.binomial(transactions, param)\n",
        "\n",
        "  if result == observed:\n",
        "    results.append(param)"
      ],
      "execution_count": 57,
      "outputs": []
    },
    {
      "cell_type": "code",
      "metadata": {
        "id": "_q-0_M600WDD",
        "colab_type": "code",
        "colab": {
          "base_uri": "https://localhost:8080/",
          "height": 282
        },
        "outputId": "2505cf34-e203-4f9f-e0c9-43a1fe5a3744"
      },
      "source": [
        "sns.distplot(results)"
      ],
      "execution_count": 58,
      "outputs": [
        {
          "output_type": "execute_result",
          "data": {
            "text/plain": [
              "<matplotlib.axes._subplots.AxesSubplot at 0x7fd9bf625c88>"
            ]
          },
          "metadata": {
            "tags": []
          },
          "execution_count": 58
        },
        {
          "output_type": "display_data",
          "data": {
            "image/png": "[encoded data removed]",
            "text/plain": [
              "<Figure size 432x288 with 1 Axes>"
            ]
          },
          "metadata": {
            "tags": [],
            "needs_background": "light"
          }
        }
      ]
    },
    {
      "cell_type": "code",
      "metadata": {
        "id": "EBO89u650cNY",
        "colab_type": "code",
        "colab": {}
      },
      "source": [
        ""
      ],
      "execution_count": null,
      "outputs": []
    }
  ]
}