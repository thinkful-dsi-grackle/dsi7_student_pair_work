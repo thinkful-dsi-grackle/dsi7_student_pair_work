{
  "nbformat": 4,
  "nbformat_minor": 0,
  "metadata": {
    "kernelspec": {
      "display_name": "Python 3",
      "language": "python",
      "name": "python3"
    },
    "language_info": {
      "codemirror_mode": {
        "name": "ipython",
        "version": 3
      },
      "file_extension": ".py",
      "mimetype": "text/x-python",
      "name": "python",
      "nbconvert_exporter": "python",
      "pygments_lexer": "ipython3",
      "version": "3.8.5"
    },
    "colab": {
      "name": "Kalika_python_review.ipynb",
      "provenance": [],
      "collapsed_sections": []
    }
  },
  "cells": [
    {
      "cell_type": "markdown",
      "metadata": {
        "id": "zlBI5WPCnrDz",
        "colab_type": "text"
      },
      "source": [
        "### Dictionary sum\n",
        "\n",
        "Write a function that accepts a dictionary and threshold value.  The function should sum all of the dictionary values who's keys are greater than or equal to the threshold.  The dictionary will have both numeric keys and values (ie `{1: 2, 3: 4, 5: 6}`).\n",
        "\n",
        "Example\n",
        "\n",
        "```python\n",
        "d = {1: 2, 3: 4, 5: 6}\n",
        "\n",
        "your_function(d, 3)\n",
        "# Expected output is 10.\n",
        "# The keys 3 & 5 are greater than or equal to the threshold of 3.\n",
        "# The values corresponding to the keys 3 & 5 are 4 & 6, and 4 + 6 = 10.\n",
        "```"
      ]
    },
    {
      "cell_type": "code",
      "metadata": {
        "id": "4Nlch2AFnrD0",
        "colab_type": "code",
        "colab": {
          "base_uri": "https://localhost:8080/",
          "height": 34
        },
        "outputId": "6a453599-6678-4c56-a1b7-873cfff95d4c"
      },
      "source": [
        "'''\n",
        "Function SumDic\n",
        "Returns an integer representing the sum of all of the values in a dictionary that are greater than or equal to the given threshold\n",
        "\n",
        "Parameters:\n",
        "d is a dictionary with integer key and value pairs.\n",
        "num is the threshold, the minimum number of keys. \n",
        "'''\n",
        "def SumDic(d, num):\n",
        "  newDict = dict(filter(lambda elem: elem[0] >= num, d.items()))\n",
        "  return sum(newDict.values())\n",
        "\n",
        "\n",
        "threshold = 3\n",
        "dictionary =  {1: 2, 3: 4, 5: 6, 19: 36, 0: 5}\n",
        "print(\"The sum of all keys greater than\", threshold, \"in your dictionary is\", SumDic(dictionary, threshold) )"
      ],
      "execution_count": 6,
      "outputs": [
        {
          "output_type": "stream",
          "text": [
            "The sum of all keys greater than 3 in your dictionary is 46\n"
          ],
          "name": "stdout"
        }
      ]
    },
    {
      "cell_type": "markdown",
      "metadata": {
        "id": "GqMnYYU8nrD3",
        "colab_type": "text"
      },
      "source": [
        "### Pandas practice"
      ]
    },
    {
      "cell_type": "markdown",
      "metadata": {
        "id": "dsbF6lTSnrD3",
        "colab_type": "text"
      },
      "source": [
        "> ##### Description\n",
        "> The data was extracted from the 1974 Motor Trend US magazine, and comprises fuel consumption and 10 aspects of automobile design and performance for 32 automobiles (1973–74 models).\n",
        ">\n",
        "> ##### Columns\n",
        "A data frame with 32 observations on 11 (numeric) variables.\n",
        ">\n",
        "> ```\n",
        ">  1. mpg    Miles/(US) gallon\n",
        ">  2. cyl    Number of cylinders\n",
        ">  3. disp   Displacement (cu.in.)\n",
        ">  4. hp     Gross horsepower\n",
        ">  5. drat   Rear axle ratio\n",
        ">  6. wt     Weight (1000 lbs)\n",
        ">  7. qsec   1/4 mile time\n",
        ">  8. vs     Engine (0 = V-shaped, 1 = straight)\n",
        ">  9. am     Transmission (0 = automatic, 1 = manual)\n",
        "> 10. gear   Number of forward gears\n",
        "> 11. carb   Number of carburetors\n",
        "> ```"
      ]
    },
    {
      "cell_type": "code",
      "metadata": {
        "id": "dUWw1OWnnrD4",
        "colab_type": "code",
        "colab": {}
      },
      "source": [
        "import pandas as pd\n",
        "import matplotlib.pyplot as plt\n",
        "%matplotlib inline\n",
        "\n",
        "mtcars_url = 'https://gist.githubusercontent.com/ZeccaLehn/4e06d2575eb9589dbe8c365d61cb056c/raw/64f1660f38ef523b2a1a13be77b002b98665cdfe/mtcars.csv'"
      ],
      "execution_count": 8,
      "outputs": []
    },
    {
      "cell_type": "markdown",
      "metadata": {
        "id": "cneLMcZcnrD6",
        "colab_type": "text"
      },
      "source": [
        "Read the data frame using `mtcars_url`"
      ]
    },
    {
      "cell_type": "code",
      "metadata": {
        "id": "8E5-bHwInrD7",
        "colab_type": "code",
        "colab": {}
      },
      "source": [
        "df_mtCars = pd.read_csv('https://gist.githubusercontent.com/ZeccaLehn/4e06d2575eb9589dbe8c365d61cb056c/raw/64f1660f38ef523b2a1a13be77b002b98665cdfe/mtcars.csv')\n"
      ],
      "execution_count": 11,
      "outputs": []
    },
    {
      "cell_type": "markdown",
      "metadata": {
        "id": "XOObXTN5nrD-",
        "colab_type": "text"
      },
      "source": [
        "Print the first 8 rows of the dataframe."
      ]
    },
    {
      "cell_type": "code",
      "metadata": {
        "id": "fOOG0bkCnrD-",
        "colab_type": "code",
        "colab": {
          "base_uri": "https://localhost:8080/",
          "height": 284
        },
        "outputId": "876be926-dd61-45a3-83db-6936604c029d"
      },
      "source": [
        "df_mtCars.head(8)"
      ],
      "execution_count": 13,
      "outputs": [
        {
          "output_type": "execute_result",
          "data": {
            "text/html": [
              "<div>\n",
              "<style scoped>\n",
              "    .dataframe tbody tr th:only-of-type {\n",
              "        vertical-align: middle;\n",
              "    }\n",
              "\n",
              "    .dataframe tbody tr th {\n",
              "        vertical-align: top;\n",
              "    }\n",
              "\n",
              "    .dataframe thead th {\n",
              "        text-align: right;\n",
              "    }\n",
              "</style>\n",
              "<table border=\"1\" class=\"dataframe\">\n",
              "  <thead>\n",
              "    <tr style=\"text-align: right;\">\n",
              "      <th></th>\n",
              "      <th>Unnamed: 0</th>\n",
              "      <th>mpg</th>\n",
              "      <th>cyl</th>\n",
              "      <th>disp</th>\n",
              "      <th>hp</th>\n",
              "      <th>drat</th>\n",
              "      <th>wt</th>\n",
              "      <th>qsec</th>\n",
              "      <th>vs</th>\n",
              "      <th>am</th>\n",
              "      <th>gear</th>\n",
              "      <th>carb</th>\n",
              "    </tr>\n",
              "  </thead>\n",
              "  <tbody>\n",
              "    <tr>\n",
              "      <th>0</th>\n",
              "      <td>Mazda RX4</td>\n",
              "      <td>21.0</td>\n",
              "      <td>6</td>\n",
              "      <td>160.0</td>\n",
              "      <td>110</td>\n",
              "      <td>3.90</td>\n",
              "      <td>2.620</td>\n",
              "      <td>16.46</td>\n",
              "      <td>0</td>\n",
              "      <td>1</td>\n",
              "      <td>4</td>\n",
              "      <td>4</td>\n",
              "    </tr>\n",
              "    <tr>\n",
              "      <th>1</th>\n",
              "      <td>Mazda RX4 Wag</td>\n",
              "      <td>21.0</td>\n",
              "      <td>6</td>\n",
              "      <td>160.0</td>\n",
              "      <td>110</td>\n",
              "      <td>3.90</td>\n",
              "      <td>2.875</td>\n",
              "      <td>17.02</td>\n",
              "      <td>0</td>\n",
              "      <td>1</td>\n",
              "      <td>4</td>\n",
              "      <td>4</td>\n",
              "    </tr>\n",
              "    <tr>\n",
              "      <th>2</th>\n",
              "      <td>Datsun 710</td>\n",
              "      <td>22.8</td>\n",
              "      <td>4</td>\n",
              "      <td>108.0</td>\n",
              "      <td>93</td>\n",
              "      <td>3.85</td>\n",
              "      <td>2.320</td>\n",
              "      <td>18.61</td>\n",
              "      <td>1</td>\n",
              "      <td>1</td>\n",
              "      <td>4</td>\n",
              "      <td>1</td>\n",
              "    </tr>\n",
              "    <tr>\n",
              "      <th>3</th>\n",
              "      <td>Hornet 4 Drive</td>\n",
              "      <td>21.4</td>\n",
              "      <td>6</td>\n",
              "      <td>258.0</td>\n",
              "      <td>110</td>\n",
              "      <td>3.08</td>\n",
              "      <td>3.215</td>\n",
              "      <td>19.44</td>\n",
              "      <td>1</td>\n",
              "      <td>0</td>\n",
              "      <td>3</td>\n",
              "      <td>1</td>\n",
              "    </tr>\n",
              "    <tr>\n",
              "      <th>4</th>\n",
              "      <td>Hornet Sportabout</td>\n",
              "      <td>18.7</td>\n",
              "      <td>8</td>\n",
              "      <td>360.0</td>\n",
              "      <td>175</td>\n",
              "      <td>3.15</td>\n",
              "      <td>3.440</td>\n",
              "      <td>17.02</td>\n",
              "      <td>0</td>\n",
              "      <td>0</td>\n",
              "      <td>3</td>\n",
              "      <td>2</td>\n",
              "    </tr>\n",
              "    <tr>\n",
              "      <th>5</th>\n",
              "      <td>Valiant</td>\n",
              "      <td>18.1</td>\n",
              "      <td>6</td>\n",
              "      <td>225.0</td>\n",
              "      <td>105</td>\n",
              "      <td>2.76</td>\n",
              "      <td>3.460</td>\n",
              "      <td>20.22</td>\n",
              "      <td>1</td>\n",
              "      <td>0</td>\n",
              "      <td>3</td>\n",
              "      <td>1</td>\n",
              "    </tr>\n",
              "    <tr>\n",
              "      <th>6</th>\n",
              "      <td>Duster 360</td>\n",
              "      <td>14.3</td>\n",
              "      <td>8</td>\n",
              "      <td>360.0</td>\n",
              "      <td>245</td>\n",
              "      <td>3.21</td>\n",
              "      <td>3.570</td>\n",
              "      <td>15.84</td>\n",
              "      <td>0</td>\n",
              "      <td>0</td>\n",
              "      <td>3</td>\n",
              "      <td>4</td>\n",
              "    </tr>\n",
              "    <tr>\n",
              "      <th>7</th>\n",
              "      <td>Merc 240D</td>\n",
              "      <td>24.4</td>\n",
              "      <td>4</td>\n",
              "      <td>146.7</td>\n",
              "      <td>62</td>\n",
              "      <td>3.69</td>\n",
              "      <td>3.190</td>\n",
              "      <td>20.00</td>\n",
              "      <td>1</td>\n",
              "      <td>0</td>\n",
              "      <td>4</td>\n",
              "      <td>2</td>\n",
              "    </tr>\n",
              "  </tbody>\n",
              "</table>\n",
              "</div>"
            ],
            "text/plain": [
              "          Unnamed: 0   mpg  cyl   disp   hp  ...   qsec  vs  am  gear  carb\n",
              "0          Mazda RX4  21.0    6  160.0  110  ...  16.46   0   1     4     4\n",
              "1      Mazda RX4 Wag  21.0    6  160.0  110  ...  17.02   0   1     4     4\n",
              "2         Datsun 710  22.8    4  108.0   93  ...  18.61   1   1     4     1\n",
              "3     Hornet 4 Drive  21.4    6  258.0  110  ...  19.44   1   0     3     1\n",
              "4  Hornet Sportabout  18.7    8  360.0  175  ...  17.02   0   0     3     2\n",
              "5            Valiant  18.1    6  225.0  105  ...  20.22   1   0     3     1\n",
              "6         Duster 360  14.3    8  360.0  245  ...  15.84   0   0     3     4\n",
              "7          Merc 240D  24.4    4  146.7   62  ...  20.00   1   0     4     2\n",
              "\n",
              "[8 rows x 12 columns]"
            ]
          },
          "metadata": {
            "tags": []
          },
          "execution_count": 13
        }
      ]
    },
    {
      "cell_type": "markdown",
      "metadata": {
        "id": "3aMj0yb9nrEC",
        "colab_type": "text"
      },
      "source": [
        "Rename the first column to something more meaningful."
      ]
    },
    {
      "cell_type": "code",
      "metadata": {
        "id": "CsxfF5zOnrEC",
        "colab_type": "code",
        "colab": {}
      },
      "source": [
        "df_mtCars = df_mtCars.rename(columns={\"0\": \"model\"})"
      ],
      "execution_count": 40,
      "outputs": []
    },
    {
      "cell_type": "markdown",
      "metadata": {
        "id": "XSYEj1QlnrEF",
        "colab_type": "text"
      },
      "source": [
        "Plot the distribution of the `cyl` column.  Is this a continuous or discrete variable?\n",
        "\n",
        "The number of cylinders in a vehicle is determined by counting. Therefore; it is discrete. "
      ]
    },
    {
      "cell_type": "code",
      "metadata": {
        "id": "GFtBV1canrEF",
        "colab_type": "code",
        "colab": {
          "base_uri": "https://localhost:8080/",
          "height": 285
        },
        "outputId": "65815b1e-9f65-4a09-e222-0c1101e294b6"
      },
      "source": [
        "import seaborn as sns\n",
        "sns.set()\n",
        "\n",
        "#suppress warnings\n",
        "import warnings\n",
        "warnings.filterwarnings('ignore')\n",
        "\n",
        "ax = sns.distplot(df_mtCars['cyl'], bins = 50)\n",
        "plt.show()"
      ],
      "execution_count": 25,
      "outputs": [
        {
          "output_type": "display_data",
          "data": {
            "image/png": "[encoded data removed]",
            "text/plain": [
              "<Figure size 432x288 with 1 Axes>"
            ]
          },
          "metadata": {
            "tags": []
          }
        }
      ]
    },
    {
      "cell_type": "markdown",
      "metadata": {
        "id": "D_f-A6vwnrEI",
        "colab_type": "text"
      },
      "source": [
        "What is the minimum value in the `mpg` column?"
      ]
    },
    {
      "cell_type": "code",
      "metadata": {
        "id": "NRq7d5vDnrEJ",
        "colab_type": "code",
        "colab": {
          "base_uri": "https://localhost:8080/",
          "height": 34
        },
        "outputId": "a383b2fe-e938-4464-e27e-cce88095054a"
      },
      "source": [
        "print(\"The minimum value in the mpg column is\", df_mtCars['mpg'].min())"
      ],
      "execution_count": 41,
      "outputs": [
        {
          "output_type": "stream",
          "text": [
            "The minimum value in the mpg column is 10.4\n"
          ],
          "name": "stdout"
        }
      ]
    },
    {
      "cell_type": "markdown",
      "metadata": {
        "id": "VtIwz44xnrEL",
        "colab_type": "text"
      },
      "source": [
        "What is the name of the car with `mpg` equal to `15.0`?"
      ]
    },
    {
      "cell_type": "code",
      "metadata": {
        "id": "qK5CNq9snrEL",
        "colab_type": "code",
        "colab": {
          "base_uri": "https://localhost:8080/",
          "height": 34
        },
        "outputId": "62269828-cb54-444f-bbb5-1674ac905145"
      },
      "source": [
        "print(\"The name of the vehicle with mpg equal to 15.0 is the\", df_mtCars.query(\"mpg == 15.0\")['model'].to_string(index=False))"
      ],
      "execution_count": 50,
      "outputs": [
        {
          "output_type": "stream",
          "text": [
            "The name of the vehicle with mpg equal to 15.0 is the  Maserati Bora\n"
          ],
          "name": "stdout"
        }
      ]
    },
    {
      "cell_type": "markdown",
      "metadata": {
        "id": "PHdPtTmUnrEO",
        "colab_type": "text"
      },
      "source": [
        "What is the name of the car that has the best gas mileage?"
      ]
    },
    {
      "cell_type": "code",
      "metadata": {
        "id": "F5Byhx5XnrEO",
        "colab_type": "code",
        "colab": {
          "base_uri": "https://localhost:8080/",
          "height": 34
        },
        "outputId": "88aa3970-136a-4aeb-8922-bff64c08a358"
      },
      "source": [
        "print(\"The name of the car with the best gas mileage is\", df_mtCars[df_mtCars.mpg == df_mtCars.mpg.max()]['model'].to_string(index=False))"
      ],
      "execution_count": 54,
      "outputs": [
        {
          "output_type": "stream",
          "text": [
            "The name of the car with the best gas mileage is  Toyota Corolla\n"
          ],
          "name": "stdout"
        }
      ]
    },
    {
      "cell_type": "markdown",
      "metadata": {
        "id": "0K4-kboAnrEV",
        "colab_type": "text"
      },
      "source": [
        "**Use your intuition from the variable descriptions and visulaizations to find 2 variables that appear to be *positively* correlated.**\n",
        "\n",
        "There appears to be a positive correlation between the number of cylinders and the horsepower of a vehicle. "
      ]
    },
    {
      "cell_type": "code",
      "metadata": {
        "id": "rONBRCGkBc3d",
        "colab_type": "code",
        "colab": {
          "base_uri": "https://localhost:8080/",
          "height": 285
        },
        "outputId": "7350cc34-589d-48b0-a439-b3d4dc649518"
      },
      "source": [
        "sns.boxplot(x=\"cyl\", y=\"hp\", data=df_mtCars);"
      ],
      "execution_count": 68,
      "outputs": [
        {
          "output_type": "display_data",
          "data": {
            "image/png": "[encoded data removed]",
            "text/plain": [
              "<Figure size 432x288 with 1 Axes>"
            ]
          },
          "metadata": {
            "tags": []
          }
        }
      ]
    },
    {
      "cell_type": "code",
      "metadata": {
        "id": "DlkUjxGnCGd_",
        "colab_type": "code",
        "colab": {
          "base_uri": "https://localhost:8080/",
          "height": 34
        },
        "outputId": "3042b262-e13a-4346-bb29-0fcdec2e8e65"
      },
      "source": [
        "relCheck = df_mtCars[['cyl', 'hp']]\n",
        "relCheck['cyl'].corr(relCheck['hp'])"
      ],
      "execution_count": 69,
      "outputs": [
        {
          "output_type": "execute_result",
          "data": {
            "text/plain": [
              "0.8324474527218194"
            ]
          },
          "metadata": {
            "tags": []
          },
          "execution_count": 69
        }
      ]
    },
    {
      "cell_type": "markdown",
      "metadata": {
        "id": "Cjn08A16nrEY",
        "colab_type": "text"
      },
      "source": [
        "**Use your intuition from the variable descriptions and visulaizations to find 2 variables that appear to be *negatively* correlated.**\n",
        "\n",
        "According to the box plots, descriptions, and a brief look at the data - it appears that there is a negative correlation between the miles per gallon and the number of cylinders in a vehicle. "
      ]
    },
    {
      "cell_type": "code",
      "metadata": {
        "id": "TxQGg4n7_2Pw",
        "colab_type": "code",
        "colab": {
          "base_uri": "https://localhost:8080/",
          "height": 288
        },
        "outputId": "ed839f08-a63a-41c7-ed3a-f9c2af86872f"
      },
      "source": [
        "\n",
        "#Use a boxplot to illustrate how overallcond affects the sale price. Highlight the difference between having central air conditioning or not.\n",
        "sns.boxplot(x=\"cyl\", y=\"mpg\", data=df_mtCars);"
      ],
      "execution_count": 71,
      "outputs": [
        {
          "output_type": "display_data",
          "data": {
            "image/png": "[encoded data removed]",
            "text/plain": [
              "<Figure size 432x288 with 1 Axes>"
            ]
          },
          "metadata": {
            "tags": []
          }
        }
      ]
    },
    {
      "cell_type": "code",
      "metadata": {
        "id": "j1hYRnQ9Cv4B",
        "colab_type": "code",
        "colab": {
          "base_uri": "https://localhost:8080/",
          "height": 437
        },
        "outputId": "bf676cdb-5792-40c9-be9b-e0bbb08c213a"
      },
      "source": [
        "sns.jointplot(x=\"hp\", y=\"mpg\", data=df_mtCars);"
      ],
      "execution_count": 77,
      "outputs": [
        {
          "output_type": "display_data",
          "data": {
            "image/png": "[encoded data removed]",
            "text/plain": [
              "<Figure size 432x432 with 3 Axes>"
            ]
          },
          "metadata": {
            "tags": []
          }
        }
      ]
    },
    {
      "cell_type": "code",
      "metadata": {
        "id": "CbdOGs9gnrEW",
        "colab_type": "code",
        "colab": {
          "base_uri": "https://localhost:8080/",
          "height": 284
        },
        "outputId": "006f995b-eca7-42e5-87bf-f7b0692b4753"
      },
      "source": [
        "df_mtCars[['mpg','cyl','gear', 'am', 'carb', 'drat',\t'wt',\t'qsec',\t'vs']].describe()\n"
      ],
      "execution_count": 76,
      "outputs": [
        {
          "output_type": "execute_result",
          "data": {
            "text/html": [
              "<div>\n",
              "<style scoped>\n",
              "    .dataframe tbody tr th:only-of-type {\n",
              "        vertical-align: middle;\n",
              "    }\n",
              "\n",
              "    .dataframe tbody tr th {\n",
              "        vertical-align: top;\n",
              "    }\n",
              "\n",
              "    .dataframe thead th {\n",
              "        text-align: right;\n",
              "    }\n",
              "</style>\n",
              "<table border=\"1\" class=\"dataframe\">\n",
              "  <thead>\n",
              "    <tr style=\"text-align: right;\">\n",
              "      <th></th>\n",
              "      <th>mpg</th>\n",
              "      <th>cyl</th>\n",
              "      <th>gear</th>\n",
              "      <th>am</th>\n",
              "      <th>carb</th>\n",
              "      <th>drat</th>\n",
              "      <th>wt</th>\n",
              "      <th>qsec</th>\n",
              "      <th>vs</th>\n",
              "    </tr>\n",
              "  </thead>\n",
              "  <tbody>\n",
              "    <tr>\n",
              "      <th>count</th>\n",
              "      <td>32.000000</td>\n",
              "      <td>32.000000</td>\n",
              "      <td>32.000000</td>\n",
              "      <td>32.000000</td>\n",
              "      <td>32.0000</td>\n",
              "      <td>32.000000</td>\n",
              "      <td>32.000000</td>\n",
              "      <td>32.000000</td>\n",
              "      <td>32.000000</td>\n",
              "    </tr>\n",
              "    <tr>\n",
              "      <th>mean</th>\n",
              "      <td>20.090625</td>\n",
              "      <td>6.187500</td>\n",
              "      <td>3.687500</td>\n",
              "      <td>0.406250</td>\n",
              "      <td>2.8125</td>\n",
              "      <td>3.596563</td>\n",
              "      <td>3.217250</td>\n",
              "      <td>17.848750</td>\n",
              "      <td>0.437500</td>\n",
              "    </tr>\n",
              "    <tr>\n",
              "      <th>std</th>\n",
              "      <td>6.026948</td>\n",
              "      <td>1.785922</td>\n",
              "      <td>0.737804</td>\n",
              "      <td>0.498991</td>\n",
              "      <td>1.6152</td>\n",
              "      <td>0.534679</td>\n",
              "      <td>0.978457</td>\n",
              "      <td>1.786943</td>\n",
              "      <td>0.504016</td>\n",
              "    </tr>\n",
              "    <tr>\n",
              "      <th>min</th>\n",
              "      <td>10.400000</td>\n",
              "      <td>4.000000</td>\n",
              "      <td>3.000000</td>\n",
              "      <td>0.000000</td>\n",
              "      <td>1.0000</td>\n",
              "      <td>2.760000</td>\n",
              "      <td>1.513000</td>\n",
              "      <td>14.500000</td>\n",
              "      <td>0.000000</td>\n",
              "    </tr>\n",
              "    <tr>\n",
              "      <th>25%</th>\n",
              "      <td>15.425000</td>\n",
              "      <td>4.000000</td>\n",
              "      <td>3.000000</td>\n",
              "      <td>0.000000</td>\n",
              "      <td>2.0000</td>\n",
              "      <td>3.080000</td>\n",
              "      <td>2.581250</td>\n",
              "      <td>16.892500</td>\n",
              "      <td>0.000000</td>\n",
              "    </tr>\n",
              "    <tr>\n",
              "      <th>50%</th>\n",
              "      <td>19.200000</td>\n",
              "      <td>6.000000</td>\n",
              "      <td>4.000000</td>\n",
              "      <td>0.000000</td>\n",
              "      <td>2.0000</td>\n",
              "      <td>3.695000</td>\n",
              "      <td>3.325000</td>\n",
              "      <td>17.710000</td>\n",
              "      <td>0.000000</td>\n",
              "    </tr>\n",
              "    <tr>\n",
              "      <th>75%</th>\n",
              "      <td>22.800000</td>\n",
              "      <td>8.000000</td>\n",
              "      <td>4.000000</td>\n",
              "      <td>1.000000</td>\n",
              "      <td>4.0000</td>\n",
              "      <td>3.920000</td>\n",
              "      <td>3.610000</td>\n",
              "      <td>18.900000</td>\n",
              "      <td>1.000000</td>\n",
              "    </tr>\n",
              "    <tr>\n",
              "      <th>max</th>\n",
              "      <td>33.900000</td>\n",
              "      <td>8.000000</td>\n",
              "      <td>5.000000</td>\n",
              "      <td>1.000000</td>\n",
              "      <td>8.0000</td>\n",
              "      <td>4.930000</td>\n",
              "      <td>5.424000</td>\n",
              "      <td>22.900000</td>\n",
              "      <td>1.000000</td>\n",
              "    </tr>\n",
              "  </tbody>\n",
              "</table>\n",
              "</div>"
            ],
            "text/plain": [
              "             mpg        cyl       gear  ...         wt       qsec         vs\n",
              "count  32.000000  32.000000  32.000000  ...  32.000000  32.000000  32.000000\n",
              "mean   20.090625   6.187500   3.687500  ...   3.217250  17.848750   0.437500\n",
              "std     6.026948   1.785922   0.737804  ...   0.978457   1.786943   0.504016\n",
              "min    10.400000   4.000000   3.000000  ...   1.513000  14.500000   0.000000\n",
              "25%    15.425000   4.000000   3.000000  ...   2.581250  16.892500   0.000000\n",
              "50%    19.200000   6.000000   4.000000  ...   3.325000  17.710000   0.000000\n",
              "75%    22.800000   8.000000   4.000000  ...   3.610000  18.900000   1.000000\n",
              "max    33.900000   8.000000   5.000000  ...   5.424000  22.900000   1.000000\n",
              "\n",
              "[8 rows x 9 columns]"
            ]
          },
          "metadata": {
            "tags": []
          },
          "execution_count": 76
        }
      ]
    },
    {
      "cell_type": "code",
      "metadata": {
        "id": "XCtj0p9cnrEY",
        "colab_type": "code",
        "colab": {
          "base_uri": "https://localhost:8080/",
          "height": 34
        },
        "outputId": "9cc747ab-332f-49c8-a2b5-c1fc64987b8a"
      },
      "source": [
        "relCheck = df_mtCars[['cyl', 'mpg']]\n",
        "relCheck['cyl'].corr(relCheck['mpg'])"
      ],
      "execution_count": 75,
      "outputs": [
        {
          "output_type": "execute_result",
          "data": {
            "text/plain": [
              "-0.8521619594266132"
            ]
          },
          "metadata": {
            "tags": []
          },
          "execution_count": 75
        }
      ]
    }
  ]
}