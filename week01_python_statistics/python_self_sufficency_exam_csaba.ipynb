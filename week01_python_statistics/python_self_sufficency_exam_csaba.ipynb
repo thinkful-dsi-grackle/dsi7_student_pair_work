{
 "cells": [
  {
   "cell_type": "code",
   "execution_count": 4,
   "metadata": {},
   "outputs": [
    {
     "data": {
      "text/plain": [
       "'drawrof'"
      ]
     },
     "execution_count": 4,
     "metadata": {},
     "output_type": "execute_result"
    }
   ],
   "source": [
    "def reverse_string(str):\n",
    "    return str[::-1]\n",
    "\n",
    "reverse_string('forward')"
   ]
  },
  {
   "cell_type": "code",
   "execution_count": 17,
   "metadata": {},
   "outputs": [],
   "source": [
    "import pandas as pd\n",
    "import matplotlib.pyplot as plt\n",
    "%matplotlib inline\n",
    "df = pd.read_csv('https://tf-assets-prod.s3.amazonaws.com/tf-curric/data-science/lahman-teams.csv')"
   ]
  },
  {
   "cell_type": "code",
   "execution_count": 9,
   "metadata": {},
   "outputs": [
    {
     "name": "stdout",
     "output_type": "stream",
     "text": [
      "<class 'pandas.core.frame.DataFrame'>\n",
      "RangeIndex: 2805 entries, 0 to 2804\n",
      "Data columns (total 48 columns):\n",
      " #   Column          Non-Null Count  Dtype  \n",
      "---  ------          --------------  -----  \n",
      " 0   yearID          2805 non-null   int64  \n",
      " 1   lgID            2755 non-null   object \n",
      " 2   teamID          2805 non-null   object \n",
      " 3   franchID        2805 non-null   object \n",
      " 4   divID           1288 non-null   object \n",
      " 5   Rank            2805 non-null   int64  \n",
      " 6   G               2805 non-null   int64  \n",
      " 7   Ghome           2406 non-null   float64\n",
      " 8   W               2805 non-null   int64  \n",
      " 9   L               2805 non-null   int64  \n",
      " 10  DivWin          1260 non-null   object \n",
      " 11  WCWin           624 non-null    object \n",
      " 12  LgWin           2777 non-null   object \n",
      " 13  WSWin           2448 non-null   object \n",
      " 14  R               2805 non-null   int64  \n",
      " 15  AB              2805 non-null   int64  \n",
      " 16  H               2805 non-null   int64  \n",
      " 17  2B              2805 non-null   int64  \n",
      " 18  3B              2805 non-null   int64  \n",
      " 19  HR              2805 non-null   int64  \n",
      " 20  BB              2805 non-null   int64  \n",
      " 21  SO              2685 non-null   float64\n",
      " 22  SB              2661 non-null   float64\n",
      " 23  CS              1946 non-null   float64\n",
      " 24  HBP             480 non-null    float64\n",
      " 25  SF              480 non-null    float64\n",
      " 26  RA              2805 non-null   int64  \n",
      " 27  ER              2805 non-null   int64  \n",
      " 28  ERA             2805 non-null   float64\n",
      " 29  CG              2805 non-null   int64  \n",
      " 30  SHO             2805 non-null   int64  \n",
      " 31  SV              2805 non-null   int64  \n",
      " 32  IPouts          2805 non-null   int64  \n",
      " 33  HA              2805 non-null   int64  \n",
      " 34  HRA             2805 non-null   int64  \n",
      " 35  BBA             2805 non-null   int64  \n",
      " 36  SOA             2805 non-null   int64  \n",
      " 37  E               2805 non-null   int64  \n",
      " 38  DP              2488 non-null   float64\n",
      " 39  FP              2805 non-null   float64\n",
      " 40  name            2805 non-null   object \n",
      " 41  park            2771 non-null   object \n",
      " 42  attendance      2526 non-null   float64\n",
      " 43  BPF             2805 non-null   int64  \n",
      " 44  PPF             2805 non-null   int64  \n",
      " 45  teamIDBR        2805 non-null   object \n",
      " 46  teamIDlahman45  2805 non-null   object \n",
      " 47  teamIDretro     2805 non-null   object \n",
      "dtypes: float64(10), int64(25), object(13)\n",
      "memory usage: 1.0+ MB\n"
     ]
    }
   ],
   "source": [
    "df.head()\n",
    "df.info()"
   ]
  },
  {
   "cell_type": "code",
   "execution_count": 7,
   "metadata": {},
   "outputs": [],
   "source": [
    "#a. For all records since 1995, plot histograms for the following three variables: \n",
    "#stolen bases per game, wins, and earned run average. Which distribution do \n",
    "#they appear to follow? Consider what each variable is measuring, as well as the histogram's shape."
   ]
  },
  {
   "cell_type": "code",
   "execution_count": 20,
   "metadata": {},
   "outputs": [
    {
     "name": "stdout",
     "output_type": "stream",
     "text": [
      "2181     73.0\n",
      "2182     92.0\n",
      "2183     99.0\n",
      "2184     58.0\n",
      "2185    110.0\n",
      "        ...  \n",
      "2800     59.0\n",
      "2801     93.0\n",
      "2802    132.0\n",
      "2803     82.0\n",
      "2804     97.0\n",
      "Name: SB, Length: 624, dtype: float64\n"
     ]
    },
    {
     "data": {
      "image/png": "[encoded data removed]",
      "text/plain": [
       "<Figure size 432x288 with 1 Axes>"
      ]
     },
     "metadata": {
      "needs_background": "light"
     },
     "output_type": "display_data"
    }
   ],
   "source": [
    "SB95_df = df.loc[df['yearID'] >= 1995, 'SB']\n",
    "print(SB95_df)\n",
    "plt.hist(SB95_df)\n",
    "plt.show()"
   ]
  },
  {
   "cell_type": "code",
   "execution_count": 22,
   "metadata": {},
   "outputs": [
    {
     "name": "stdout",
     "output_type": "stream",
     "text": [
      "0     20\n",
      "1     19\n",
      "2     10\n",
      "3      7\n",
      "4     16\n",
      "5     21\n",
      "6      4\n",
      "7     13\n",
      "8     15\n",
      "9     35\n",
      "10     3\n",
      "11     9\n",
      "12    39\n",
      "13     6\n",
      "14     5\n",
      "15    34\n",
      "16    30\n",
      "17    15\n",
      "18     2\n",
      "19     0\n",
      "Name: W, dtype: int64\n"
     ]
    }
   ],
   "source": [
    "print(df['W'].head(20))"
   ]
  },
  {
   "cell_type": "code",
   "execution_count": null,
   "metadata": {},
   "outputs": [],
   "source": []
  }
 ],
 "metadata": {
  "kernelspec": {
   "display_name": "Python 3",
   "language": "python",
   "name": "python3"
  },
  "language_info": {
   "codemirror_mode": {
    "name": "ipython",
    "version": 3
   },
   "file_extension": ".py",
   "mimetype": "text/x-python",
   "name": "python",
   "nbconvert_exporter": "python",
   "pygments_lexer": "ipython3",
   "version": "3.7.6"
  }
 },
 "nbformat": 4,
 "nbformat_minor": 4
}
