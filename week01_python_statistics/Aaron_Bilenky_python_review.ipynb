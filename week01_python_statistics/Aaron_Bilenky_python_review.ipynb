{
 "cells": [
  {
   "cell_type": "markdown",
   "metadata": {},
   "source": [
    "## Python Practice\n",
    "\n",
    "Just some made up exercises.\n",
    "\n",
    "Some additional practice:\n",
    "\n",
    "* https://codingbat.com/python\n",
    "* https://www.practicepython.org/\n",
    "* https://www.hackerrank.com/domains/python\n",
    "* https://www.codewars.com/collections/basic-python\n",
    "\n",
    "Links from slides:\n",
    "* https://automatetheboringstuff.com\n",
    "* https://realpython.com/python-beginner-tips/"
   ]
  },
  {
   "cell_type": "markdown",
   "metadata": {},
   "source": [
    "### Dictionary sum\n",
    "\n",
    "Write a function that accepts a dictionary and threshold value.  The function should sum all of the dictionary values who's keys are greater than or equal to the threshold.  The dictionary will have both numeric keys and values (ie `{1: 2, 3: 4, 5: 6}`).\n",
    "\n",
    "Example\n",
    "\n",
    "```python\n",
    "d = {1: 2, 3: 4, 5: 6}\n",
    "\n",
    "your_function(d, 3)\n",
    "# Expected output is 10.\n",
    "# The keys 3 & 5 are greater than or equal to the threshold of 3.\n",
    "# The values corresponding to the keys 3 & 5 are 4 & 6, and 4 + 6 = 10.\n",
    "```"
   ]
  },
  {
   "cell_type": "code",
   "execution_count": null,
   "metadata": {},
   "outputs": [],
   "source": []
  },
  {
   "cell_type": "markdown",
   "metadata": {},
   "source": [
    "### Pandas practice"
   ]
  },
  {
   "cell_type": "markdown",
   "metadata": {},
   "source": [
    "> ##### Description\n",
    "> The data was extracted from the 1974 Motor Trend US magazine, and comprises fuel consumption and 10 aspects of automobile design and performance for 32 automobiles (1973–74 models).\n",
    ">\n",
    "> ##### Columns\n",
    "A data frame with 32 observations on 11 (numeric) variables.\n",
    ">\n",
    "> ```\n",
    ">  1. mpg    Miles/(US) gallon\n",
    ">  2. cyl    Number of cylinders\n",
    ">  3. disp   Displacement (cu.in.)\n",
    ">  4. hp     Gross horsepower\n",
    ">  5. drat   Rear axle ratio\n",
    ">  6. wt     Weight (1000 lbs)\n",
    ">  7. qsec   1/4 mile time\n",
    ">  8. vs     Engine (0 = V-shaped, 1 = straight)\n",
    ">  9. am     Transmission (0 = automatic, 1 = manual)\n",
    "> 10. gear   Number of forward gears\n",
    "> 11. carb   Number of carburetors\n",
    "> ```"
   ]
  },
  {
   "cell_type": "code",
   "execution_count": 1,
   "metadata": {},
   "outputs": [],
   "source": [
    "import pandas as pd\n",
    "import matplotlib.pyplot as plt\n",
    "%matplotlib inline\n",
    "\n",
    "mtcars_url = 'https://gist.githubusercontent.com/ZeccaLehn/4e06d2575eb9589dbe8c365d61cb056c/raw/64f1660f38ef523b2a1a13be77b002b98665cdfe/mtcars.csv'"
   ]
  },
  {
   "cell_type": "markdown",
   "metadata": {},
   "source": [
    "Read the data frame using `mtcars_url`"
   ]
  },
  {
   "cell_type": "code",
   "execution_count": 2,
   "metadata": {},
   "outputs": [],
   "source": []
  },
  {
   "cell_type": "markdown",
   "metadata": {},
   "source": [
    "Print the first 8 rows of the dataframe."
   ]
  },
  {
   "cell_type": "code",
   "execution_count": null,
   "metadata": {},
   "outputs": [],
   "source": []
  },
  {
   "cell_type": "markdown",
   "metadata": {},
   "source": [
    "Rename the first column to something more meaningful."
   ]
  },
  {
   "cell_type": "code",
   "execution_count": null,
   "metadata": {},
   "outputs": [],
   "source": []
  },
  {
   "cell_type": "markdown",
   "metadata": {},
   "source": [
    "Plot the distribution of the `cyl` column.  Is this a continuous or discrete variable?"
   ]
  },
  {
   "cell_type": "code",
   "execution_count": null,
   "metadata": {},
   "outputs": [],
   "source": []
  },
  {
   "cell_type": "markdown",
   "metadata": {},
   "source": [
    "What is the minimum value in the `mpg` column?"
   ]
  },
  {
   "cell_type": "code",
   "execution_count": null,
   "metadata": {},
   "outputs": [],
   "source": []
  },
  {
   "cell_type": "markdown",
   "metadata": {},
   "source": [
    "What is the name of the car with `mpg` equal to `15.0`?"
   ]
  },
  {
   "cell_type": "code",
   "execution_count": null,
   "metadata": {},
   "outputs": [],
   "source": []
  },
  {
   "cell_type": "markdown",
   "metadata": {},
   "source": [
    "What is the name of the car that has the best gas mileage?"
   ]
  },
  {
   "cell_type": "code",
   "execution_count": null,
   "metadata": {},
   "outputs": [],
   "source": []
  },
  {
   "cell_type": "markdown",
   "metadata": {},
   "source": [
    "Use your intuition from the variable descriptions and visulaizations to find 2 variables that appear to be *positively* correlated."
   ]
  },
  {
   "cell_type": "code",
   "execution_count": null,
   "metadata": {},
   "outputs": [],
   "source": []
  },
  {
   "cell_type": "markdown",
   "metadata": {},
   "source": [
    "Use your intuition from the variable descriptions and visulaizations to find 2 variables that appear to be *negatively* correlated."
   ]
  },
  {
   "cell_type": "code",
   "execution_count": null,
   "metadata": {},
   "outputs": [],
   "source": []
  }
 ],
 "metadata": {
  "kernelspec": {
   "display_name": "Python 3",
   "language": "python",
   "name": "python3"
  },
  "language_info": {
   "codemirror_mode": {
    "name": "ipython",
    "version": 3
   },
   "file_extension": ".py",
   "mimetype": "text/x-python",
   "name": "python",
   "nbconvert_exporter": "python",
   "pygments_lexer": "ipython3",
   "version": "3.7.6"
  }
 },
 "nbformat": 4,
 "nbformat_minor": 2
}