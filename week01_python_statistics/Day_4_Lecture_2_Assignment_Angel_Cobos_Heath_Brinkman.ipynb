{
  "nbformat": 4,
  "nbformat_minor": 0,
  "metadata": {
    "kernelspec": {
      "display_name": "Python 3",
      "language": "python",
      "name": "python3"
    },
    "language_info": {
      "codemirror_mode": {
        "name": "ipython",
        "version": 3
      },
      "file_extension": ".py",
      "mimetype": "text/x-python",
      "name": "python",
      "nbconvert_exporter": "python",
      "pygments_lexer": "ipython3",
      "version": "3.7.6"
    },
    "colab": {
      "name": "Day_4_Lecture-2_Assignment_Angel_Cobos_Heath_Brinkman.ipynb",
      "provenance": [],
      "collapsed_sections": []
    }
  },
  "cells": [
    {
      "cell_type": "markdown",
      "metadata": {
        "id": "tB7WmBX-E-Hi",
        "colab_type": "text"
      },
      "source": [
        "# Inferential Statistics Assignment"
      ]
    },
    {
      "cell_type": "code",
      "metadata": {
        "id": "WzNb9xULE-Hk",
        "colab_type": "code",
        "colab": {}
      },
      "source": [
        "import numpy as np\n",
        "import pandas as pd\n",
        "import seaborn as sns\n",
        "import matplotlib.pyplot as plt\n",
        "import warnings\n",
        "\n",
        "warnings.filterwarnings('ignore')\n",
        "\n",
        "%matplotlib inline"
      ],
      "execution_count": 47,
      "outputs": []
    },
    {
      "cell_type": "code",
      "metadata": {
        "id": "GUFlYOZ7GXta",
        "colab_type": "code",
        "colab": {}
      },
      "source": [
        "# use credit card fraud dataset\n",
        "data_url = 'https://raw.githubusercontent.com/Thinkful-Ed/data-science-lectures/master/credit_card_fraud.csv'"
      ],
      "execution_count": 4,
      "outputs": []
    },
    {
      "cell_type": "markdown",
      "metadata": {
        "id": "BebNLQKJE-Ho",
        "colab_type": "text"
      },
      "source": [
        "### Read the credit card fraud dataset into a Pandas data frame."
      ]
    },
    {
      "cell_type": "code",
      "metadata": {
        "id": "SS5cvl_EE-Hp",
        "colab_type": "code",
        "colab": {
          "base_uri": "https://localhost:8080/",
          "height": 419
        },
        "outputId": "50febb81-8db1-43f7-c92f-800fd60285dc"
      },
      "source": [
        "data = pd.read_csv(data_url)\n",
        "data"
      ],
      "execution_count": 20,
      "outputs": [
        {
          "output_type": "execute_result",
          "data": {
            "text/html": [
              "<div>\n",
              "<style scoped>\n",
              "    .dataframe tbody tr th:only-of-type {\n",
              "        vertical-align: middle;\n",
              "    }\n",
              "\n",
              "    .dataframe tbody tr th {\n",
              "        vertical-align: top;\n",
              "    }\n",
              "\n",
              "    .dataframe thead th {\n",
              "        text-align: right;\n",
              "    }\n",
              "</style>\n",
              "<table border=\"1\" class=\"dataframe\">\n",
              "  <thead>\n",
              "    <tr style=\"text-align: right;\">\n",
              "      <th></th>\n",
              "      <th>transaction</th>\n",
              "      <th>type</th>\n",
              "      <th>amount</th>\n",
              "      <th>nameOrig</th>\n",
              "      <th>oldbalanceOrg</th>\n",
              "      <th>newbalanceOrig</th>\n",
              "      <th>nameDest</th>\n",
              "      <th>oldbalanceDest</th>\n",
              "      <th>newbalanceDest</th>\n",
              "      <th>isFraud</th>\n",
              "    </tr>\n",
              "  </thead>\n",
              "  <tbody>\n",
              "    <tr>\n",
              "      <th>0</th>\n",
              "      <td>1</td>\n",
              "      <td>DEBIT</td>\n",
              "      <td>7414.00</td>\n",
              "      <td>C446504763</td>\n",
              "      <td>151707.00</td>\n",
              "      <td>144293.00</td>\n",
              "      <td>C1854925027</td>\n",
              "      <td>39000000.00</td>\n",
              "      <td>39900000.00</td>\n",
              "      <td>0</td>\n",
              "    </tr>\n",
              "    <tr>\n",
              "      <th>1</th>\n",
              "      <td>2</td>\n",
              "      <td>DEBIT</td>\n",
              "      <td>2899.20</td>\n",
              "      <td>C757752441</td>\n",
              "      <td>0.00</td>\n",
              "      <td>0.00</td>\n",
              "      <td>C1854925027</td>\n",
              "      <td>39000000.00</td>\n",
              "      <td>39000000.00</td>\n",
              "      <td>0</td>\n",
              "    </tr>\n",
              "    <tr>\n",
              "      <th>2</th>\n",
              "      <td>3</td>\n",
              "      <td>CASH_OUT</td>\n",
              "      <td>17447.35</td>\n",
              "      <td>C1004533006</td>\n",
              "      <td>0.00</td>\n",
              "      <td>0.00</td>\n",
              "      <td>C1620573488</td>\n",
              "      <td>34400000.00</td>\n",
              "      <td>35000000.00</td>\n",
              "      <td>0</td>\n",
              "    </tr>\n",
              "    <tr>\n",
              "      <th>3</th>\n",
              "      <td>4</td>\n",
              "      <td>CASH_OUT</td>\n",
              "      <td>477.53</td>\n",
              "      <td>C23579491</td>\n",
              "      <td>0.00</td>\n",
              "      <td>0.00</td>\n",
              "      <td>C356023140</td>\n",
              "      <td>33800000.00</td>\n",
              "      <td>33800000.00</td>\n",
              "      <td>0</td>\n",
              "    </tr>\n",
              "    <tr>\n",
              "      <th>4</th>\n",
              "      <td>5</td>\n",
              "      <td>CASH_IN</td>\n",
              "      <td>18184.97</td>\n",
              "      <td>C861745646</td>\n",
              "      <td>6101058.91</td>\n",
              "      <td>6119243.88</td>\n",
              "      <td>C356023140</td>\n",
              "      <td>33800000.00</td>\n",
              "      <td>33800000.00</td>\n",
              "      <td>0</td>\n",
              "    </tr>\n",
              "    <tr>\n",
              "      <th>...</th>\n",
              "      <td>...</td>\n",
              "      <td>...</td>\n",
              "      <td>...</td>\n",
              "      <td>...</td>\n",
              "      <td>...</td>\n",
              "      <td>...</td>\n",
              "      <td>...</td>\n",
              "      <td>...</td>\n",
              "      <td>...</td>\n",
              "      <td>...</td>\n",
              "    </tr>\n",
              "    <tr>\n",
              "      <th>11956</th>\n",
              "      <td>11957</td>\n",
              "      <td>DEBIT</td>\n",
              "      <td>2611.84</td>\n",
              "      <td>C876985514</td>\n",
              "      <td>0.00</td>\n",
              "      <td>0.00</td>\n",
              "      <td>C642761478</td>\n",
              "      <td>1228477.53</td>\n",
              "      <td>1231089.37</td>\n",
              "      <td>0</td>\n",
              "    </tr>\n",
              "    <tr>\n",
              "      <th>11957</th>\n",
              "      <td>11958</td>\n",
              "      <td>CASH_OUT</td>\n",
              "      <td>9892.79</td>\n",
              "      <td>C380605716</td>\n",
              "      <td>29914.00</td>\n",
              "      <td>20021.21</td>\n",
              "      <td>C1759103419</td>\n",
              "      <td>1220829.58</td>\n",
              "      <td>1230722.38</td>\n",
              "      <td>0</td>\n",
              "    </tr>\n",
              "    <tr>\n",
              "      <th>11958</th>\n",
              "      <td>11959</td>\n",
              "      <td>CASH_IN</td>\n",
              "      <td>9155.33</td>\n",
              "      <td>C1775622701</td>\n",
              "      <td>304691.95</td>\n",
              "      <td>313847.29</td>\n",
              "      <td>C2054934604</td>\n",
              "      <td>1239850.50</td>\n",
              "      <td>1230695.17</td>\n",
              "      <td>1</td>\n",
              "    </tr>\n",
              "    <tr>\n",
              "      <th>11959</th>\n",
              "      <td>11960</td>\n",
              "      <td>DEBIT</td>\n",
              "      <td>3892.49</td>\n",
              "      <td>C480528249</td>\n",
              "      <td>0.00</td>\n",
              "      <td>0.00</td>\n",
              "      <td>C1470476851</td>\n",
              "      <td>1160634.18</td>\n",
              "      <td>1230659.58</td>\n",
              "      <td>0</td>\n",
              "    </tr>\n",
              "    <tr>\n",
              "      <th>11960</th>\n",
              "      <td>11961</td>\n",
              "      <td>CASH_OUT</td>\n",
              "      <td>8849.44</td>\n",
              "      <td>C16253333</td>\n",
              "      <td>0.00</td>\n",
              "      <td>0.00</td>\n",
              "      <td>C748261222</td>\n",
              "      <td>1221881.98</td>\n",
              "      <td>1230265.77</td>\n",
              "      <td>0</td>\n",
              "    </tr>\n",
              "  </tbody>\n",
              "</table>\n",
              "<p>11961 rows × 10 columns</p>\n",
              "</div>"
            ],
            "text/plain": [
              "       transaction      type    amount  ... oldbalanceDest  newbalanceDest  isFraud\n",
              "0                1     DEBIT   7414.00  ...    39000000.00     39900000.00        0\n",
              "1                2     DEBIT   2899.20  ...    39000000.00     39000000.00        0\n",
              "2                3  CASH_OUT  17447.35  ...    34400000.00     35000000.00        0\n",
              "3                4  CASH_OUT    477.53  ...    33800000.00     33800000.00        0\n",
              "4                5   CASH_IN  18184.97  ...    33800000.00     33800000.00        0\n",
              "...            ...       ...       ...  ...            ...             ...      ...\n",
              "11956        11957     DEBIT   2611.84  ...     1228477.53      1231089.37        0\n",
              "11957        11958  CASH_OUT   9892.79  ...     1220829.58      1230722.38        0\n",
              "11958        11959   CASH_IN   9155.33  ...     1239850.50      1230695.17        1\n",
              "11959        11960     DEBIT   3892.49  ...     1160634.18      1230659.58        0\n",
              "11960        11961  CASH_OUT   8849.44  ...     1221881.98      1230265.77        0\n",
              "\n",
              "[11961 rows x 10 columns]"
            ]
          },
          "metadata": {
            "tags": []
          },
          "execution_count": 20
        }
      ]
    },
    {
      "cell_type": "markdown",
      "metadata": {
        "id": "Ez9lcwpJE-Hs",
        "colab_type": "text"
      },
      "source": [
        "### Generate a histogram that shows the data distribution of the \"amount\" field in the data."
      ]
    },
    {
      "cell_type": "code",
      "metadata": {
        "id": "Y7zyEYj8E-Hs",
        "colab_type": "code",
        "colab": {
          "base_uri": "https://localhost:8080/",
          "height": 315
        },
        "outputId": "1d3a5a5d-02d0-4e8a-9405-3bde552d3087"
      },
      "source": [
        "data.hist(column='amount')"
      ],
      "execution_count": 6,
      "outputs": [
        {
          "output_type": "execute_result",
          "data": {
            "text/plain": [
              "array([[<matplotlib.axes._subplots.AxesSubplot object at 0x7efff6fb70f0>]],\n",
              "      dtype=object)"
            ]
          },
          "metadata": {
            "tags": []
          },
          "execution_count": 6
        },
        {
          "output_type": "display_data",
          "data": {
            "image/png": "[encoded data removed]",
            "text/plain": [
              "<Figure size 432x288 with 1 Axes>"
            ]
          },
          "metadata": {
            "tags": [],
            "needs_background": "light"
          }
        }
      ]
    },
    {
      "cell_type": "markdown",
      "metadata": {
        "id": "H36sNQHVE-Hu",
        "colab_type": "text"
      },
      "source": [
        "### Randomly sample with replacement 1,000 records from the data set and calculate the mean of the \"amount\" field.\n",
        "\n",
        "Run the cell a few times and see how the mean changes based on the records that are sampled."
      ]
    },
    {
      "cell_type": "code",
      "metadata": {
        "id": "D_-cS2rcE-Hv",
        "colab_type": "code",
        "colab": {
          "base_uri": "https://localhost:8080/",
          "height": 34
        },
        "outputId": "b026840a-4ffb-44fe-b093-a8a60a10ff3f"
      },
      "source": [
        "mean = data.sample(n=1000, replace=True)['amount'].mean()\n",
        "mean"
      ],
      "execution_count": 19,
      "outputs": [
        {
          "output_type": "execute_result",
          "data": {
            "text/plain": [
              "9192.983809999998"
            ]
          },
          "metadata": {
            "tags": []
          },
          "execution_count": 19
        }
      ]
    },
    {
      "cell_type": "markdown",
      "metadata": {
        "id": "W_1XLrOZE-Hy",
        "colab_type": "text"
      },
      "source": [
        "### Bootstrap a sampling distribution for the \"amount\" field means and generate a histogram showing the distribution of values.\n",
        "\n",
        "- Generate one sampling distribution using 1,000 samples of size 1,000.\n",
        "- Generate another sampling distribution using 5,000 samples that are each the size of the original data set.\n",
        "- Note the differences between the two sampling distributions."
      ]
    },
    {
      "cell_type": "code",
      "metadata": {
        "id": "UaUSpL9fE-Hz",
        "colab_type": "code",
        "colab": {
          "base_uri": "https://localhost:8080/",
          "height": 615
        },
        "outputId": "8050c0f7-2c9d-4661-f8c2-ea69f8ff9249"
      },
      "source": [
        "means_1000_1000 = [data.sample(n=1000, replace=True)['amount'].mean() for i in range(1000)]\n",
        "means_11961_5000 = [data.sample(n=11961, replace=True)['amount'].mean() for i in range(5000)]\n",
        "plt.figure()\n",
        "plt.hist(means_1000_1000)\n",
        "plt.figure()\n",
        "plt.hist(means_11961_5000)"
      ],
      "execution_count": 15,
      "outputs": [
        {
          "output_type": "execute_result",
          "data": {
            "text/plain": [
              "(array([  15.,   67.,  319.,  842., 1364., 1339.,  745.,  249.,   54.,\n",
              "           6.]),\n",
              " array([9042.58686481, 9082.27781933, 9121.96877385, 9161.65972837,\n",
              "        9201.35068289, 9241.0416374 , 9280.73259192, 9320.42354644,\n",
              "        9360.11450096, 9399.80545548, 9439.49641   ]),\n",
              " <a list of 10 Patch objects>)"
            ]
          },
          "metadata": {
            "tags": []
          },
          "execution_count": 15
        },
        {
          "output_type": "display_data",
          "data": {
            "image/png": "[encoded data removed]",
            "text/plain": [
              "<Figure size 432x288 with 1 Axes>"
            ]
          },
          "metadata": {
            "tags": [],
            "needs_background": "light"
          }
        },
        {
          "output_type": "display_data",
          "data": {
            "image/png": "[encoded data removed]",
            "text/plain": [
              "<Figure size 432x288 with 1 Axes>"
            ]
          },
          "metadata": {
            "tags": [],
            "needs_background": "light"
          }
        }
      ]
    },
    {
      "cell_type": "markdown",
      "metadata": {
        "id": "Q3rc9iRKE-H1",
        "colab_type": "text"
      },
      "source": [
        "### Use Bayesian inference to construct a model that generates the posterior distribution showing the likely range of credit card fraud rates that may have resulted in the observed amount of fraud we see in the data. Hint: You'll want to look at the \"isFraud\" and \"transaction\" fields to help you."
      ]
    },
    {
      "cell_type": "code",
      "metadata": {
        "id": "zlbjOoCNE-H1",
        "colab_type": "code",
        "colab": {
          "base_uri": "https://localhost:8080/",
          "height": 282
        },
        "outputId": "e4555450-64c3-419f-9da9-b8348ee9a2d0"
      },
      "source": [
        "fraud = data.groupby('isFraud').agg({'transaction':'count'})\n",
        "observed = fraud['transaction'][1]\n",
        "transactions = len(data)\n",
        "fraudRate = observed / transactions\n",
        "\n",
        "results = []\n",
        "\n",
        "for i in range(1000000):\n",
        "  param = np.random.random()\n",
        "  result = np.random.binomial(transactions, param)\n",
        "  if result == observed:\n",
        "    results.append(param)\n",
        "mean = np.mean(results)\n",
        "sd = np.std(results)\n",
        "plt.hist(results)\n",
        "plt.axvline(x=mean, color='red')\n",
        "plt.axvline(x=mean+sd, color='red')\n",
        "plt.axvline(x=mean-sd, color='red')\n",
        "\n",
        "\n"
      ],
      "execution_count": 52,
      "outputs": [
        {
          "output_type": "execute_result",
          "data": {
            "text/plain": [
              "<matplotlib.lines.Line2D at 0x7efff7133128>"
            ]
          },
          "metadata": {
            "tags": []
          },
          "execution_count": 52
        },
        {
          "output_type": "display_data",
          "data": {
            "image/png": "[encoded data removed]",
            "text/plain": [
              "<Figure size 432x288 with 1 Axes>"
            ]
          },
          "metadata": {
            "tags": [],
            "needs_background": "light"
          }
        }
      ]
    }
  ]
}