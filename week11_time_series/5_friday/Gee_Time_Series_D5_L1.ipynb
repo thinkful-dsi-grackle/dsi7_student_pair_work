{
  "nbformat": 4,
  "nbformat_minor": 0,
  "metadata": {
    "kernelspec": {
      "display_name": "Python 3",
      "language": "python",
      "name": "python3"
    },
    "language_info": {
      "codemirror_mode": {
        "name": "ipython",
        "version": 3
      },
      "file_extension": ".py",
      "mimetype": "text/x-python",
      "name": "python",
      "nbconvert_exporter": "python",
      "pygments_lexer": "ipython3",
      "version": "3.7.2"
    },
    "colab": {
      "name": "Gee_Time_Series_D5_L1.ipynb",
      "provenance": []
    }
  },
  "cells": [
    {
      "cell_type": "markdown",
      "metadata": {
        "id": "t76lGNLJ3jtR"
      },
      "source": [
        "# Time Series Machine Learning Part 1 Assignment"
      ]
    },
    {
      "cell_type": "code",
      "metadata": {
        "id": "1fWqhPBa3jtT"
      },
      "source": [
        "import numpy as np\n",
        "import pandas as pd\n",
        "import plotly.express as px\n",
        "from sklearn.ensemble import AdaBoostRegressor as ABR\n",
        "from sklearn.model_selection import train_test_split\n",
        "from sklearn.metrics import r2_score\n",
        "from sklearn.metrics import mean_absolute_error\n",
        "from sklearn.metrics import mean_squared_error"
      ],
      "execution_count": 75,
      "outputs": []
    },
    {
      "cell_type": "markdown",
      "metadata": {
        "id": "VhJHCced3jtX"
      },
      "source": [
        "### Import the Netflix stock price data set (NFLX_data.csv)."
      ]
    },
    {
      "cell_type": "code",
      "metadata": {
        "id": "Qo9dfoZ03jtY",
        "colab": {
          "base_uri": "https://localhost:8080/"
        },
        "outputId": "37046ed8-42ee-4eff-8203-86520d7bdd88"
      },
      "source": [
        "NFLX = 'https://tf-assets-prod.s3.amazonaws.com/tf-curric/data-science/Data%20Sets%20Time%20Series%20Analysis/Time%20Series%20-%20Day%205/NFLX_data.csv'\r\n",
        "data = pd.read_csv(NFLX)\r\n",
        "data.info()"
      ],
      "execution_count": 76,
      "outputs": [
        {
          "output_type": "stream",
          "text": [
            "<class 'pandas.core.frame.DataFrame'>\n",
            "RangeIndex: 1259 entries, 0 to 1258\n",
            "Data columns (total 7 columns):\n",
            " #   Column  Non-Null Count  Dtype  \n",
            "---  ------  --------------  -----  \n",
            " 0   date    1259 non-null   object \n",
            " 1   open    1259 non-null   float64\n",
            " 2   high    1259 non-null   float64\n",
            " 3   low     1259 non-null   float64\n",
            " 4   close   1259 non-null   float64\n",
            " 5   volume  1259 non-null   int64  \n",
            " 6   Name    1259 non-null   object \n",
            "dtypes: float64(4), int64(1), object(2)\n",
            "memory usage: 69.0+ KB\n"
          ],
          "name": "stdout"
        }
      ]
    },
    {
      "cell_type": "code",
      "metadata": {
        "colab": {
          "base_uri": "https://localhost:8080/",
          "height": 374
        },
        "id": "jZsLk96e3kVD",
        "outputId": "53629485-e5d8-42ac-9f34-3c7ad06d681c"
      },
      "source": [
        "data['date'] = pd.to_datetime(data['date'])\r\n",
        "data = data[['date','close']] \r\n",
        "print(data.info())\r\n",
        "data.head()\r\n"
      ],
      "execution_count": 77,
      "outputs": [
        {
          "output_type": "stream",
          "text": [
            "<class 'pandas.core.frame.DataFrame'>\n",
            "RangeIndex: 1259 entries, 0 to 1258\n",
            "Data columns (total 2 columns):\n",
            " #   Column  Non-Null Count  Dtype         \n",
            "---  ------  --------------  -----         \n",
            " 0   date    1259 non-null   datetime64[ns]\n",
            " 1   close   1259 non-null   float64       \n",
            "dtypes: datetime64[ns](1), float64(1)\n",
            "memory usage: 19.8 KB\n",
            "None\n"
          ],
          "name": "stdout"
        },
        {
          "output_type": "execute_result",
          "data": {
            "text/html": [
              "<div>\n",
              "<style scoped>\n",
              "    .dataframe tbody tr th:only-of-type {\n",
              "        vertical-align: middle;\n",
              "    }\n",
              "\n",
              "    .dataframe tbody tr th {\n",
              "        vertical-align: top;\n",
              "    }\n",
              "\n",
              "    .dataframe thead th {\n",
              "        text-align: right;\n",
              "    }\n",
              "</style>\n",
              "<table border=\"1\" class=\"dataframe\">\n",
              "  <thead>\n",
              "    <tr style=\"text-align: right;\">\n",
              "      <th></th>\n",
              "      <th>date</th>\n",
              "      <th>close</th>\n",
              "    </tr>\n",
              "  </thead>\n",
              "  <tbody>\n",
              "    <tr>\n",
              "      <th>0</th>\n",
              "      <td>2013-02-08</td>\n",
              "      <td>25.8528</td>\n",
              "    </tr>\n",
              "    <tr>\n",
              "      <th>1</th>\n",
              "      <td>2013-02-11</td>\n",
              "      <td>25.4128</td>\n",
              "    </tr>\n",
              "    <tr>\n",
              "      <th>2</th>\n",
              "      <td>2013-02-12</td>\n",
              "      <td>25.4214</td>\n",
              "    </tr>\n",
              "    <tr>\n",
              "      <th>3</th>\n",
              "      <td>2013-02-13</td>\n",
              "      <td>26.6098</td>\n",
              "    </tr>\n",
              "    <tr>\n",
              "      <th>4</th>\n",
              "      <td>2013-02-14</td>\n",
              "      <td>26.7714</td>\n",
              "    </tr>\n",
              "  </tbody>\n",
              "</table>\n",
              "</div>"
            ],
            "text/plain": [
              "        date    close\n",
              "0 2013-02-08  25.8528\n",
              "1 2013-02-11  25.4128\n",
              "2 2013-02-12  25.4214\n",
              "3 2013-02-13  26.6098\n",
              "4 2013-02-14  26.7714"
            ]
          },
          "metadata": {
            "tags": []
          },
          "execution_count": 77
        }
      ]
    },
    {
      "cell_type": "markdown",
      "metadata": {
        "id": "UrezA8by3jta"
      },
      "source": [
        "### Transform the data by shifting the series and creating features that will allow us to forecast the price 30 days into the future from 90 days of daily history."
      ]
    },
    {
      "cell_type": "code",
      "metadata": {
        "id": "Z3txMggXCRPo"
      },
      "source": [
        "history = 90\r\n",
        "future = 30\r\n",
        "shifts = [x + future for x in range(1, history + 1)]\r\n",
        "for shift in shifts:\r\n",
        "  data['t-'+ str(shift)] = data['close'].shift(shift)\r\n",
        "data.dropna(inplace=True)"
      ],
      "execution_count": 78,
      "outputs": []
    },
    {
      "cell_type": "markdown",
      "metadata": {
        "id": "KRhVWTrH3jtd"
      },
      "source": [
        "### Split the data into a training set and a testing set. Make the test set size 20%."
      ]
    },
    {
      "cell_type": "code",
      "metadata": {
        "colab": {
          "base_uri": "https://localhost:8080/"
        },
        "id": "jitre5gyEXnq",
        "outputId": "d28ec1ce-af83-48dc-e4a4-e18e07e6205f"
      },
      "source": [
        "data.columns"
      ],
      "execution_count": 79,
      "outputs": [
        {
          "output_type": "execute_result",
          "data": {
            "text/plain": [
              "Index(['date', 'close', 't-31', 't-32', 't-33', 't-34', 't-35', 't-36', 't-37',\n",
              "       't-38', 't-39', 't-40', 't-41', 't-42', 't-43', 't-44', 't-45', 't-46',\n",
              "       't-47', 't-48', 't-49', 't-50', 't-51', 't-52', 't-53', 't-54', 't-55',\n",
              "       't-56', 't-57', 't-58', 't-59', 't-60', 't-61', 't-62', 't-63', 't-64',\n",
              "       't-65', 't-66', 't-67', 't-68', 't-69', 't-70', 't-71', 't-72', 't-73',\n",
              "       't-74', 't-75', 't-76', 't-77', 't-78', 't-79', 't-80', 't-81', 't-82',\n",
              "       't-83', 't-84', 't-85', 't-86', 't-87', 't-88', 't-89', 't-90', 't-91',\n",
              "       't-92', 't-93', 't-94', 't-95', 't-96', 't-97', 't-98', 't-99', 't-100',\n",
              "       't-101', 't-102', 't-103', 't-104', 't-105', 't-106', 't-107', 't-108',\n",
              "       't-109', 't-110', 't-111', 't-112', 't-113', 't-114', 't-115', 't-116',\n",
              "       't-117', 't-118', 't-119', 't-120'],\n",
              "      dtype='object')"
            ]
          },
          "metadata": {
            "tags": []
          },
          "execution_count": 79
        }
      ]
    },
    {
      "cell_type": "code",
      "metadata": {
        "id": "YqrAGJ8E-1nN"
      },
      "source": [
        "x = data.drop(['date', 'close'], axis=1)\r\n",
        "y = data['close']\r\n",
        "\r\n",
        "x_train, x_test, y_train, y_test = train_test_split(x, y, test_size=.3, shuffle=False)"
      ],
      "execution_count": 80,
      "outputs": []
    },
    {
      "cell_type": "markdown",
      "metadata": {
        "id": "1yAR2MWd3jth"
      },
      "source": [
        "### Instantiate an AdaBoost model and fit it to the training set."
      ]
    },
    {
      "cell_type": "code",
      "metadata": {
        "id": "yMtgRFib3jte",
        "colab": {
          "base_uri": "https://localhost:8080/"
        },
        "outputId": "df95e32a-bfc1-4d7c-edbb-b565f5fc019c"
      },
      "source": [
        "model = ABR()\r\n",
        "model.fit(x_train, y_train)\r\n"
      ],
      "execution_count": 81,
      "outputs": [
        {
          "output_type": "execute_result",
          "data": {
            "text/plain": [
              "AdaBoostRegressor(base_estimator=None, learning_rate=1.0, loss='linear',\n",
              "                  n_estimators=50, random_state=None)"
            ]
          },
          "metadata": {
            "tags": []
          },
          "execution_count": 81
        }
      ]
    },
    {
      "cell_type": "markdown",
      "metadata": {
        "id": "9L9mUdA33jtk"
      },
      "source": [
        "### Generate predictions for the test set."
      ]
    },
    {
      "cell_type": "code",
      "metadata": {
        "id": "DpAD7exM3jti"
      },
      "source": [
        "predictions = model.predict(x_test)"
      ],
      "execution_count": 82,
      "outputs": []
    },
    {
      "cell_type": "markdown",
      "metadata": {
        "id": "KkWPhLwA3jtn"
      },
      "source": [
        "### Evaluate the results using R-Squared, Mean Absolute Error, and Root Mean Squared Error metrics."
      ]
    },
    {
      "cell_type": "code",
      "metadata": {
        "id": "uuxC-QY33jtl",
        "colab": {
          "base_uri": "https://localhost:8080/"
        },
        "outputId": "3d80868c-36c5-4dde-afaf-a86bd75f900f"
      },
      "source": [
        "print('R-Squared:', r2_score(y_test, predictions))\r\n",
        "print('Mean Absolute Error:', mean_absolute_error(y_test, predictions))\r\n",
        "print('Root Mean Squared Error:', np.sqrt(mean_squared_error(y_test, predictions)))"
      ],
      "execution_count": 83,
      "outputs": [
        {
          "output_type": "stream",
          "text": [
            "R-Squared: -2.7331307771891447\n",
            "Mean Absolute Error: 57.95961635211553\n",
            "Root Mean Squared Error: 67.80091319958004\n"
          ],
          "name": "stdout"
        }
      ]
    },
    {
      "cell_type": "markdown",
      "metadata": {
        "id": "uDzBCT1s3jtq"
      },
      "source": [
        "### Visually examine the results by creating a scatter plot where the x axis represents the observed results and the y axis represents the predictions."
      ]
    },
    {
      "cell_type": "code",
      "metadata": {
        "id": "Nv_wGYXA3jto"
      },
      "source": [
        "def iscatter(df, x, y, color=None, size=None, title=''):\r\n",
        "    fig = px.scatter(df, x=x, y=y, color=color, size=size, \r\n",
        "                     title=title, template='none')\r\n",
        "    \r\n",
        "    fig.update_traces(marker_line_color='black', \r\n",
        "                  marker_line_width=1)\r\n",
        "\r\n",
        "    fig.show()"
      ],
      "execution_count": 84,
      "outputs": []
    },
    {
      "cell_type": "code",
      "metadata": {
        "colab": {
          "base_uri": "https://localhost:8080/",
          "height": 542
        },
        "id": "Jl-evwigC1Ge",
        "outputId": "23ddeb8d-d5f0-4ea7-b39b-e3ba1224169b"
      },
      "source": [
        "iscatter(data, y_test, predictions, title='Close vs Predicted' )"
      ],
      "execution_count": 85,
      "outputs": [
        {
          "output_type": "display_data",
          "data": {
            "text/html": [
              "<html>\n",
              "<head><meta charset=\"utf-8\" /></head>\n",
              "<body>\n",
              "    <div>\n",
              "            <script src=\"https://cdnjs.cloudflare.com/ajax/libs/mathjax/2.7.5/MathJax.js?config=TeX-AMS-MML_SVG\"></script><script type=\"text/javascript\">if (window.MathJax) {MathJax.Hub.Config({SVG: {font: \"STIX-Web\"}});}</script>\n",
              "                <script type=\"text/javascript\">window.PlotlyConfig = {MathJaxConfig: 'local'};</script>\n",
              "        <script src=\"https://cdn.plot.ly/plotly-latest.min.js\"></script>    \n",
              "            <div id=\"8fac0c7b-c4f0-491b-9f6d-a95b6c2755d5\" class=\"plotly-graph-div\" style=\"height:525px; width:100%;\"></div>\n",
              "            <script type=\"text/javascript\">\n",
              "                \n",
              "                    window.PLOTLYENV=window.PLOTLYENV || {};\n",
              "                    \n",
              "                if (document.getElementById(\"8fac0c7b-c4f0-491b-9f6d-a95b6c2755d5\")) {\n",
              "                    Plotly.newPlot(\n",
              "                        '8fac0c7b-c4f0-491b-9f6d-a95b6c2755d5',\n",
              "                        [{\"hoverlabel\": {\"namelength\": 0}, \"hovertemplate\": \"x=%{x}<br>y=%{y}\", \"legendgroup\": \"\", \"marker\": {\"color\": \"#1F77B4\", \"line\": {\"color\": \"black\", \"width\": 1}, \"symbol\": \"circle\"}, \"mode\": \"markers\", \"name\": \"\", \"showlegend\": false, \"type\": \"scatter\", \"x\": [96.67, 98.55, 102.63, 102.34, 106.28, 105.07, 104.82, 103.33, 100.59, 99.5, 100.23, 101.47, 99.8, 118.79, 121.87, 123.35, 127.5, 127.33, 126.51, 126.97, 126.47, 126.57, 124.87, 123.3, 122.34, 122.14, 122.03, 124.58, 124.34, 122.19, 115.42, 114.78, 113.38, 113.59, 115.19, 115.03, 115.21, 117.96, 118.04, 117.69, 117.41, 116.93, 117.51, 117.0, 117.22, 120.81, 119.16, 124.57, 125.39, 123.24, 122.88, 122.83, 123.78, 123.44, 125.0, 124.22, 125.45, 125.12, 126.5, 125.58, 125.59, 128.35, 125.89, 125.33, 123.8, 127.49, 129.41, 131.81, 131.07, 130.95, 129.89, 130.5, 129.18, 133.7, 132.89, 133.26, 138.41, 138.6, 137.39, 140.11, 139.52, 138.96, 142.45, 141.22, 140.71, 140.78, 139.2, 140.25, 140.97, 144.0, 144.74, 144.14, 144.82, 143.2, 140.82, 142.27, 142.01, 142.22, 142.6, 143.86, 142.78, 143.25, 143.41, 142.13, 142.65, 139.53, 139.14, 141.94, 141.43, 140.32, 140.53, 140.89, 143.52, 143.19, 145.25, 144.39, 145.11, 145.83, 142.42, 142.65, 141.84, 142.02, 144.06, 145.17, 146.47, 148.06, 147.81, 146.92, 145.5, 143.62, 143.74, 143.11, 143.85, 144.35, 143.83, 142.92, 147.25, 143.36, 139.76, 141.18, 142.87, 143.83, 152.16, 150.17, 153.08, 152.2, 155.35, 156.45, 155.59, 157.25, 156.6, 156.38, 157.46, 160.28, 158.54, 160.81, 160.02, 159.41, 153.2, 155.7, 157.02, 157.16, 157.95, 157.75, 163.05, 162.43, 163.22, 163.07, 162.99, 165.18, 165.06, 165.17, 165.61, 165.88, 158.03, 151.44, 152.72, 152.2, 151.76, 152.38, 153.4, 152.05, 155.03, 154.89, 158.02, 157.5, 151.03, 153.41, 150.09, 149.41, 146.17, 147.61, 146.25, 150.18, 152.67, 154.33, 158.75, 158.21, 161.12, 161.7, 183.6, 183.86, 183.6, 188.54, 187.91, 186.97, 189.08, 182.68, 184.04, 181.66, 182.03, 180.74, 179.23, 180.27, 181.33, 178.36, 175.78, 169.14, 171.4, 171.0, 168.5, 169.98, 166.09, 166.54, 166.76, 169.34, 169.06, 168.13, 165.95, 167.12, 168.81, 174.69, 174.71, 174.74, 174.52, 179.25, 179.0, 176.42, 181.74, 185.15, 183.64, 182.63, 182.35, 184.62, 185.68, 185.51, 188.78, 187.35, 178.55, 179.38, 181.97, 180.7, 181.35, 177.01, 179.19, 184.45, 194.39, 198.02, 196.87, 195.08, 194.95, 195.86, 199.49, 202.68, 199.48, 195.54, 195.13, 194.16, 192.47, 196.02, 193.77, 195.21, 199.54, 198.37, 196.43, 198.0, 199.32, 200.01, 200.13, 195.89, 196.44, 193.9, 192.02, 195.08, 195.71, 192.12, 195.51, 193.2, 194.1, 196.23, 196.32, 195.75, 195.05, 199.18, 188.15, 187.58, 186.82, 184.04, 184.21, 185.3, 185.2, 188.54, 186.22, 185.73, 187.86, 189.56, 190.12, 190.42, 187.02, 188.82, 188.62, 189.94, 187.76, 186.24, 192.71, 191.96, 201.07, 205.05, 205.63, 209.99, 212.05, 209.31, 212.52, 217.24, 221.23, 221.53, 217.5, 220.33, 220.46, 227.58, 250.29, 261.3, 269.7, 274.6, 284.59, 278.8, 270.3, 265.07, 267.43, 254.26, 265.72, 264.56], \"xaxis\": \"x\", \"y\": [96.41173401534536, 96.41173401534536, 99.33453452685418, 100.11708611111122, 100.11708611111122, 100.11708611111122, 103.40297880794702, 103.78514821428573, 103.40297880794702, 103.78514821428573, 103.40297880794702, 103.40297880794702, 103.40297880794702, 106.3287625418061, 106.3287625418061, 103.78514821428573, 103.78514821428573, 103.78514821428573, 106.66976945244956, 103.39342281879205, 106.80533076923068, 103.78514821428573, 107.3117846153846, 107.3117846153846, 106.66976945244956, 107.3117846153846, 103.78514821428573, 103.40297880794702, 103.78514821428573, 106.3287625418061, 103.78514821428573, 103.39342281879205, 100.2507320689656, 100.2507320689656, 100.2507320689656, 100.2507320689656, 100.2507320689656, 103.39342281879205, 101.71306981891391, 101.71306981891391, 103.39342281879205, 101.71306981891391, 104.48175066313004, 104.48175066313004, 103.78514821428573, 103.78514821428573, 104.48175066313004, 106.3287625418061, 106.3287625418061, 104.48175066313004, 103.78514821428573, 106.66976945244956, 106.3287625418061, 106.66976945244956, 107.3117846153846, 106.80533076923068, 103.78514821428573, 103.40297880794702, 103.78514821428573, 103.40297880794702, 103.78514821428573, 103.78514821428573, 103.78514821428573, 100.11708611111122, 100.11708611111122, 98.8719047619049, 99.33453452685418, 96.77892298850576, 98.8719047619049, 103.40297880794702, 103.40297880794702, 100.50839823677607, 101.71306981891391, 103.39342281879205, 103.39342281879205, 101.71306981891391, 103.39342281879205, 101.71306981891391, 103.39342281879205, 103.39342281879205, 103.39342281879205, 100.11708611111122, 100.2507320689656, 100.2507320689656, 100.2507320689656, 100.11708611111122, 100.11708611111122, 100.11708611111122, 100.50839823677607, 100.50839823677607, 103.78514821428573, 112.16731343283583, 111.81370370370375, 111.81370370370375, 111.81370370370375, 112.16731343283583, 107.5839062500001, 110.35578947368423, 112.50322709163383, 113.23178807947043, 113.74300000000008, 112.16731343283583, 111.81370370370375, 110.35578947368423, 111.81370370370375, 107.5839062500001, 107.5839062500001, 110.35578947368423, 113.74300000000008, 112.16731343283583, 112.16731343283583, 106.66976945244956, 112.16731343283583, 112.58668341708568, 113.74300000000008, 111.81370370370375, 111.04601036269418, 112.16731343283583, 106.3287625418061, 104.48175066313004, 104.51499999999992, 104.39909090909094, 104.48175066313004, 104.40217391304351, 104.51499999999992, 104.48175066313004, 104.48175066313004, 104.48175066313004, 104.39909090909094, 104.48175066313004, 104.48175066313004, 103.8375, 103.8375, 103.57111111111108, 103.57111111111108, 103.57111111111108, 103.57111111111108, 103.57111111111108, 103.57111111111108, 103.57111111111108, 103.57111111111108, 103.57111111111108, 103.57111111111108, 103.57111111111108, 103.57111111111108, 103.57111111111108, 103.57111111111108, 103.57111111111108, 103.57111111111108, 103.8375, 104.48175066313004, 104.40217391304351, 104.39909090909094, 104.39909090909094, 104.39909090909094, 104.39909090909094, 103.8375, 103.57111111111108, 103.57111111111108, 103.57111111111108, 103.57111111111108, 103.57111111111108, 103.57111111111108, 103.57111111111108, 103.57111111111108, 103.57111111111108, 103.57111111111108, 103.57111111111108, 103.57111111111108, 103.57111111111108, 103.57111111111108, 103.57111111111108, 103.57111111111108, 103.57111111111108, 103.57111111111108, 103.57111111111108, 103.57111111111108, 103.57111111111108, 103.57111111111108, 103.57111111111108, 103.57111111111108, 103.57111111111108, 103.57111111111108, 103.57111111111108, 103.57111111111108, 103.57111111111108, 103.57111111111108, 103.57111111111108, 103.57111111111108, 103.57111111111108, 103.57111111111108, 103.57111111111108, 103.57111111111108, 103.57111111111108, 103.57111111111108, 103.57111111111108, 103.57111111111108, 103.57111111111108, 103.57111111111108, 103.57111111111108, 103.57111111111108, 103.57111111111108, 103.57111111111108, 103.57111111111108, 103.57111111111108, 103.57111111111108, 103.57111111111108, 103.57111111111108, 103.57111111111108, 103.57111111111108, 103.57111111111108, 103.57111111111108, 103.57111111111108, 103.57111111111108, 103.57111111111108, 103.57111111111108, 103.57111111111108, 103.57111111111108, 103.57111111111108, 103.57111111111108, 103.57111111111108, 103.57111111111108, 103.57111111111108, 103.57111111111108, 103.57111111111108, 103.57111111111108, 103.57111111111108, 103.57111111111108, 103.57111111111108, 103.57111111111108, 103.57111111111108, 103.57111111111108, 103.57111111111108, 103.57111111111108, 103.57111111111108, 103.57111111111108, 103.57111111111108, 103.57111111111108, 103.57111111111108, 103.57111111111108, 103.57111111111108, 103.57111111111108, 103.57111111111108, 103.57111111111108, 103.57111111111108, 103.57111111111108, 103.57111111111108, 103.57111111111108, 103.57111111111108, 103.57111111111108, 103.57111111111108, 103.57111111111108, 103.57111111111108, 103.57111111111108, 103.57111111111108, 103.57111111111108, 103.57111111111108, 103.57111111111108, 103.57111111111108, 103.57111111111108, 103.57111111111108, 103.57111111111108, 103.57111111111108, 103.57111111111108, 103.57111111111108, 103.57111111111108, 103.57111111111108, 103.57111111111108, 103.57111111111108, 103.57111111111108, 103.57111111111108, 103.57111111111108, 103.57111111111108, 103.57111111111108, 103.57111111111108, 103.57111111111108, 103.57111111111108, 103.57111111111108, 103.57111111111108, 103.57111111111108, 103.57111111111108, 103.57111111111108, 103.57111111111108, 103.57111111111108, 103.57111111111108, 103.57111111111108, 103.57111111111108, 103.57111111111108, 103.57111111111108, 103.57111111111108, 103.57111111111108, 103.57111111111108, 103.57111111111108, 103.57111111111108, 103.57111111111108, 103.57111111111108, 103.57111111111108, 103.57111111111108, 103.57111111111108, 103.57111111111108, 103.57111111111108, 103.57111111111108, 103.57111111111108, 103.57111111111108, 103.57111111111108, 103.57111111111108, 103.57111111111108, 103.57111111111108, 103.57111111111108, 103.57111111111108, 103.57111111111108, 103.57111111111108, 103.57111111111108, 103.57111111111108, 103.57111111111108, 103.57111111111108, 103.57111111111108, 103.57111111111108, 103.57111111111108, 103.57111111111108, 103.57111111111108, 103.57111111111108, 103.57111111111108, 103.57111111111108, 103.57111111111108, 103.57111111111108, 103.57111111111108, 103.57111111111108, 103.57111111111108, 103.57111111111108, 103.57111111111108, 103.57111111111108, 103.57111111111108, 103.57111111111108, 103.57111111111108, 103.57111111111108, 103.57111111111108, 103.57111111111108, 103.57111111111108, 103.57111111111108, 103.57111111111108, 103.57111111111108], \"yaxis\": \"y\"}],\n",
              "                        {\"legend\": {\"tracegroupgap\": 0}, \"template\": {\"data\": {\"scatter\": [{\"type\": \"scatter\"}]}}, \"title\": {\"text\": \"Close vs Predicted\"}, \"xaxis\": {\"anchor\": \"y\", \"domain\": [0.0, 1.0], \"title\": {\"text\": \"x\"}}, \"yaxis\": {\"anchor\": \"x\", \"domain\": [0.0, 1.0], \"title\": {\"text\": \"y\"}}},\n",
              "                        {\"responsive\": true}\n",
              "                    ).then(function(){\n",
              "                            \n",
              "var gd = document.getElementById('8fac0c7b-c4f0-491b-9f6d-a95b6c2755d5');\n",
              "var x = new MutationObserver(function (mutations, observer) {{\n",
              "        var display = window.getComputedStyle(gd).display;\n",
              "        if (!display || display === 'none') {{\n",
              "            console.log([gd, 'removed!']);\n",
              "            Plotly.purge(gd);\n",
              "            observer.disconnect();\n",
              "        }}\n",
              "}});\n",
              "\n",
              "// Listen for the removal of the full notebook cells\n",
              "var notebookContainer = gd.closest('#notebook-container');\n",
              "if (notebookContainer) {{\n",
              "    x.observe(notebookContainer, {childList: true});\n",
              "}}\n",
              "\n",
              "// Listen for the clearing of the current output cell\n",
              "var outputEl = gd.closest('.output');\n",
              "if (outputEl) {{\n",
              "    x.observe(outputEl, {childList: true});\n",
              "}}\n",
              "\n",
              "                        })\n",
              "                };\n",
              "                \n",
              "            </script>\n",
              "        </div>\n",
              "</body>\n",
              "</html>"
            ]
          },
          "metadata": {
            "tags": []
          }
        }
      ]
    },
    {
      "cell_type": "code",
      "metadata": {
        "id": "3nO-Njm13jtr"
      },
      "source": [
        ""
      ],
      "execution_count": 85,
      "outputs": []
    },
    {
      "cell_type": "code",
      "metadata": {
        "id": "hAOww8qF3jtb"
      },
      "source": [
        "#history = 90\r\n",
        "#future = 31 \r\n",
        "\r\n",
        "#past_shifts = [x for x in range(1, history + 1)]\r\n",
        "#future_shifts = [x for x in range(1, future)]\r\n",
        "\r\n",
        "#shifted = data.copy()[['date','close']]\r\n",
        "#shifted.columns = ['date','t+0']\r\n",
        "\r\n",
        "#for shift in past_shifts:\r\n",
        "#  shifted[f't-{shift}'] = shifted['t+0'].shift(shift)\r\n",
        "\r\n",
        "#for shift in future_shifts:\r\n",
        "#  shifted['t+' + str(shift)] = shifted['t+0'].shift(-shift)\r\n",
        "#shifted.head()\r\n",
        "#shifted.dropna(inplace=True)"
      ],
      "execution_count": 86,
      "outputs": []
    }
  ]
}