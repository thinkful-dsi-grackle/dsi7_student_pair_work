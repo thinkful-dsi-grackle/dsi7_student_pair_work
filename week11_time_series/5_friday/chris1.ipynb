{
  "nbformat": 4,
  "nbformat_minor": 0,
  "metadata": {
    "kernelspec": {
      "display_name": "Python 3",
      "language": "python",
      "name": "python3"
    },
    "language_info": {
      "codemirror_mode": {
        "name": "ipython",
        "version": 3
      },
      "file_extension": ".py",
      "mimetype": "text/x-python",
      "name": "python",
      "nbconvert_exporter": "python",
      "pygments_lexer": "ipython3",
      "version": "3.7.2"
    },
    "colab": {
      "name": "Time Series Day 5 Morning Assignment.ipynb",
      "provenance": []
    }
  },
  "cells": [
    {
      "cell_type": "markdown",
      "metadata": {
        "id": "t76lGNLJ3jtR"
      },
      "source": [
        "# Time Series Machine Learning Part 1 Assignment"
      ]
    },
    {
      "cell_type": "code",
      "metadata": {
        "id": "1fWqhPBa3jtT"
      },
      "source": [
        "import numpy as np\n",
        "import pandas as pd\n",
        "import plotly.express as px\n",
        "from sklearn.ensemble import AdaBoostRegressor\n",
        "from sklearn.model_selection import train_test_split\n",
        "from sklearn.metrics import r2_score\n",
        "from sklearn.metrics import mean_absolute_error\n",
        "from sklearn.metrics import mean_squared_error"
      ],
      "execution_count": 1,
      "outputs": []
    },
    {
      "cell_type": "markdown",
      "metadata": {
        "id": "VhJHCced3jtX"
      },
      "source": [
        "### Import the Netflix stock price data set (NFLX_data.csv)."
      ]
    },
    {
      "cell_type": "code",
      "metadata": {
        "id": "Qo9dfoZ03jtY"
      },
      "source": [
        "df = pd.read_csv('https://tf-assets-prod.s3.amazonaws.com/tf-curric/data-science/Data%20Sets%20Time%20Series%20Analysis/Time%20Series%20-%20Day%205/NFLX_data.csv')"
      ],
      "execution_count": 2,
      "outputs": []
    },
    {
      "cell_type": "code",
      "metadata": {
        "id": "hHxzNK46odAH",
        "outputId": "b4d8b56a-1e1f-468e-90c6-5bc436a36a4a",
        "colab": {
          "base_uri": "https://localhost:8080/",
          "height": 419
        }
      },
      "source": [
        "df"
      ],
      "execution_count": 3,
      "outputs": [
        {
          "output_type": "execute_result",
          "data": {
            "text/html": [
              "<div>\n",
              "<style scoped>\n",
              "    .dataframe tbody tr th:only-of-type {\n",
              "        vertical-align: middle;\n",
              "    }\n",
              "\n",
              "    .dataframe tbody tr th {\n",
              "        vertical-align: top;\n",
              "    }\n",
              "\n",
              "    .dataframe thead th {\n",
              "        text-align: right;\n",
              "    }\n",
              "</style>\n",
              "<table border=\"1\" class=\"dataframe\">\n",
              "  <thead>\n",
              "    <tr style=\"text-align: right;\">\n",
              "      <th></th>\n",
              "      <th>date</th>\n",
              "      <th>open</th>\n",
              "      <th>high</th>\n",
              "      <th>low</th>\n",
              "      <th>close</th>\n",
              "      <th>volume</th>\n",
              "      <th>Name</th>\n",
              "    </tr>\n",
              "  </thead>\n",
              "  <tbody>\n",
              "    <tr>\n",
              "      <th>0</th>\n",
              "      <td>2013-02-08</td>\n",
              "      <td>25.9635</td>\n",
              "      <td>26.2800</td>\n",
              "      <td>25.7157</td>\n",
              "      <td>25.8528</td>\n",
              "      <td>25649820</td>\n",
              "      <td>NFLX</td>\n",
              "    </tr>\n",
              "    <tr>\n",
              "      <th>1</th>\n",
              "      <td>2013-02-11</td>\n",
              "      <td>25.5685</td>\n",
              "      <td>26.0071</td>\n",
              "      <td>24.9714</td>\n",
              "      <td>25.4128</td>\n",
              "      <td>29321782</td>\n",
              "      <td>NFLX</td>\n",
              "    </tr>\n",
              "    <tr>\n",
              "      <th>2</th>\n",
              "      <td>2013-02-12</td>\n",
              "      <td>25.8085</td>\n",
              "      <td>26.2228</td>\n",
              "      <td>25.1014</td>\n",
              "      <td>25.4214</td>\n",
              "      <td>34388802</td>\n",
              "      <td>NFLX</td>\n",
              "    </tr>\n",
              "    <tr>\n",
              "      <th>3</th>\n",
              "      <td>2013-02-13</td>\n",
              "      <td>25.8428</td>\n",
              "      <td>26.6285</td>\n",
              "      <td>25.6657</td>\n",
              "      <td>26.6098</td>\n",
              "      <td>40799094</td>\n",
              "      <td>NFLX</td>\n",
              "    </tr>\n",
              "    <tr>\n",
              "      <th>4</th>\n",
              "      <td>2013-02-14</td>\n",
              "      <td>26.7557</td>\n",
              "      <td>27.1214</td>\n",
              "      <td>26.3844</td>\n",
              "      <td>26.7714</td>\n",
              "      <td>31968685</td>\n",
              "      <td>NFLX</td>\n",
              "    </tr>\n",
              "    <tr>\n",
              "      <th>...</th>\n",
              "      <td>...</td>\n",
              "      <td>...</td>\n",
              "      <td>...</td>\n",
              "      <td>...</td>\n",
              "      <td>...</td>\n",
              "      <td>...</td>\n",
              "      <td>...</td>\n",
              "    </tr>\n",
              "    <tr>\n",
              "      <th>1254</th>\n",
              "      <td>2018-02-01</td>\n",
              "      <td>266.4100</td>\n",
              "      <td>271.9500</td>\n",
              "      <td>263.3800</td>\n",
              "      <td>265.0700</td>\n",
              "      <td>9669011</td>\n",
              "      <td>NFLX</td>\n",
              "    </tr>\n",
              "    <tr>\n",
              "      <th>1255</th>\n",
              "      <td>2018-02-02</td>\n",
              "      <td>263.0000</td>\n",
              "      <td>270.6200</td>\n",
              "      <td>262.7100</td>\n",
              "      <td>267.4300</td>\n",
              "      <td>9123610</td>\n",
              "      <td>NFLX</td>\n",
              "    </tr>\n",
              "    <tr>\n",
              "      <th>1256</th>\n",
              "      <td>2018-02-05</td>\n",
              "      <td>262.0000</td>\n",
              "      <td>267.8990</td>\n",
              "      <td>250.0300</td>\n",
              "      <td>254.2600</td>\n",
              "      <td>11896053</td>\n",
              "      <td>NFLX</td>\n",
              "    </tr>\n",
              "    <tr>\n",
              "      <th>1257</th>\n",
              "      <td>2018-02-06</td>\n",
              "      <td>247.7000</td>\n",
              "      <td>266.7000</td>\n",
              "      <td>245.0000</td>\n",
              "      <td>265.7200</td>\n",
              "      <td>12595801</td>\n",
              "      <td>NFLX</td>\n",
              "    </tr>\n",
              "    <tr>\n",
              "      <th>1258</th>\n",
              "      <td>2018-02-07</td>\n",
              "      <td>266.5800</td>\n",
              "      <td>272.4500</td>\n",
              "      <td>264.3250</td>\n",
              "      <td>264.5600</td>\n",
              "      <td>8981548</td>\n",
              "      <td>NFLX</td>\n",
              "    </tr>\n",
              "  </tbody>\n",
              "</table>\n",
              "<p>1259 rows × 7 columns</p>\n",
              "</div>"
            ],
            "text/plain": [
              "            date      open      high       low     close    volume  Name\n",
              "0     2013-02-08   25.9635   26.2800   25.7157   25.8528  25649820  NFLX\n",
              "1     2013-02-11   25.5685   26.0071   24.9714   25.4128  29321782  NFLX\n",
              "2     2013-02-12   25.8085   26.2228   25.1014   25.4214  34388802  NFLX\n",
              "3     2013-02-13   25.8428   26.6285   25.6657   26.6098  40799094  NFLX\n",
              "4     2013-02-14   26.7557   27.1214   26.3844   26.7714  31968685  NFLX\n",
              "...          ...       ...       ...       ...       ...       ...   ...\n",
              "1254  2018-02-01  266.4100  271.9500  263.3800  265.0700   9669011  NFLX\n",
              "1255  2018-02-02  263.0000  270.6200  262.7100  267.4300   9123610  NFLX\n",
              "1256  2018-02-05  262.0000  267.8990  250.0300  254.2600  11896053  NFLX\n",
              "1257  2018-02-06  247.7000  266.7000  245.0000  265.7200  12595801  NFLX\n",
              "1258  2018-02-07  266.5800  272.4500  264.3250  264.5600   8981548  NFLX\n",
              "\n",
              "[1259 rows x 7 columns]"
            ]
          },
          "metadata": {
            "tags": []
          },
          "execution_count": 3
        }
      ]
    },
    {
      "cell_type": "markdown",
      "metadata": {
        "id": "UrezA8by3jta"
      },
      "source": [
        "### Transform the data by shifting the series and creating features that will allow us to forecast the price 30 days into the future from 90 days of daily history."
      ]
    },
    {
      "cell_type": "code",
      "metadata": {
        "id": "ZGETOQ3ArulN"
      },
      "source": [
        "df = df[['date','close']]"
      ],
      "execution_count": 4,
      "outputs": []
    },
    {
      "cell_type": "code",
      "metadata": {
        "id": "hAOww8qF3jtb",
        "colab": {
          "base_uri": "https://localhost:8080/"
        },
        "outputId": "24d931c6-6a76-4885-c809-a1112046c466"
      },
      "source": [
        "history = 90\n",
        "future = 30\n",
        "\n",
        "shifts = [x + future for x in range(1, history+1)]\n",
        "for shift in shifts:\n",
        "  df[f't-{shift}'] = df['close'].shift(shift)\n",
        "df = df.dropna()"
      ],
      "execution_count": 5,
      "outputs": [
        {
          "output_type": "stream",
          "text": [
            "/usr/local/lib/python3.6/dist-packages/ipykernel_launcher.py:6: SettingWithCopyWarning:\n",
            "\n",
            "\n",
            "A value is trying to be set on a copy of a slice from a DataFrame.\n",
            "Try using .loc[row_indexer,col_indexer] = value instead\n",
            "\n",
            "See the caveats in the documentation: https://pandas.pydata.org/pandas-docs/stable/user_guide/indexing.html#returning-a-view-versus-a-copy\n",
            "\n"
          ],
          "name": "stderr"
        }
      ]
    },
    {
      "cell_type": "markdown",
      "metadata": {
        "id": "KRhVWTrH3jtd"
      },
      "source": [
        "### Split the data into a training set and a testing set. Make the test set size 20%."
      ]
    },
    {
      "cell_type": "code",
      "metadata": {
        "id": "yMtgRFib3jte"
      },
      "source": [
        "df.set_index('date', inplace=True)\n",
        "x = df.drop(columns=['close'])\n",
        "y = df['close']\n",
        "\n",
        "x_train, x_test, y_train, y_test = train_test_split(x, y, test_size=0.2, shuffle=False)"
      ],
      "execution_count": 6,
      "outputs": []
    },
    {
      "cell_type": "markdown",
      "metadata": {
        "id": "1yAR2MWd3jth"
      },
      "source": [
        "### Instantiate an AdaBoost model and fit it to the training set."
      ]
    },
    {
      "cell_type": "code",
      "metadata": {
        "id": "DpAD7exM3jti",
        "colab": {
          "base_uri": "https://localhost:8080/"
        },
        "outputId": "8b222791-13ac-4b8c-9370-ed71684b37c1"
      },
      "source": [
        "model = AdaBoostRegressor()\n",
        "model.fit(x_train,y_train)"
      ],
      "execution_count": 7,
      "outputs": [
        {
          "output_type": "execute_result",
          "data": {
            "text/plain": [
              "AdaBoostRegressor(base_estimator=None, learning_rate=1.0, loss='linear',\n",
              "                  n_estimators=50, random_state=None)"
            ]
          },
          "metadata": {
            "tags": []
          },
          "execution_count": 7
        }
      ]
    },
    {
      "cell_type": "markdown",
      "metadata": {
        "id": "9L9mUdA33jtk"
      },
      "source": [
        "### Generate predictions for the test set."
      ]
    },
    {
      "cell_type": "code",
      "metadata": {
        "id": "uuxC-QY33jtl",
        "colab": {
          "base_uri": "https://localhost:8080/"
        },
        "outputId": "b30196da-5f7f-449b-8055-0c01984010c1"
      },
      "source": [
        "predictions = model.predict(x_test)\n",
        "predictions"
      ],
      "execution_count": 9,
      "outputs": [
        {
          "output_type": "execute_result",
          "data": {
            "text/plain": [
              "array([134.72860465, 134.94140496, 134.72860465, 134.72860465,\n",
              "       134.72860465, 134.72860465, 137.0376    , 137.0376    ,\n",
              "       134.94140496, 134.72860465, 120.2002947 , 124.7855303 ,\n",
              "       124.7855303 , 124.7855303 , 129.73446512, 134.72860465,\n",
              "       134.72860465, 129.73446512, 134.72860465, 114.39176471,\n",
              "       114.39176471, 114.39176471, 114.39176471, 114.39176471,\n",
              "       114.39176471, 114.39176471, 114.39176471, 114.39176471,\n",
              "       114.39176471, 114.39176471, 116.19791667, 114.39176471,\n",
              "       116.19791667, 116.19791667, 116.19791667, 116.19791667,\n",
              "       116.74944444, 116.74944444, 116.74944444, 116.74944444,\n",
              "       116.74944444, 116.74944444, 116.74944444, 116.74944444,\n",
              "       116.74944444, 116.74944444, 116.74944444, 116.74944444,\n",
              "       116.74944444, 117.68      , 116.74944444, 116.74944444,\n",
              "       117.68      , 116.74944444, 116.74944444, 116.74944444,\n",
              "       117.68      , 117.68      , 117.68      , 117.68      ,\n",
              "       117.68      , 117.68      , 117.68      , 117.68      ,\n",
              "       117.68      , 117.68      , 117.68      , 117.68      ,\n",
              "       117.68      , 117.68      , 117.68      , 117.68      ,\n",
              "       117.68      , 117.68      , 117.68      , 117.68      ,\n",
              "       117.68      , 117.68      , 117.68      , 117.68      ,\n",
              "       117.68      , 117.68      , 117.68      , 117.68      ,\n",
              "       117.68      , 117.68      , 117.68      , 117.68      ,\n",
              "       117.68      , 117.68      , 117.68      , 117.68      ,\n",
              "       117.68      , 117.68      , 117.68      , 117.68      ,\n",
              "       117.68      , 117.68      , 117.68      , 117.68      ,\n",
              "       117.68      , 117.68      , 117.68      , 117.68      ,\n",
              "       117.68      , 117.68      , 117.68      , 117.68      ,\n",
              "       117.68      , 117.68      , 117.68      , 117.68      ,\n",
              "       117.68      , 117.68      , 117.68      , 117.68      ,\n",
              "       117.68      , 117.68      , 117.68      , 117.68      ,\n",
              "       117.68      , 117.68      , 117.68      , 117.68      ,\n",
              "       117.68      , 117.68      , 117.68      , 117.68      ,\n",
              "       117.68      , 117.68      , 117.68      , 117.68      ,\n",
              "       117.68      , 117.68      , 117.68      , 117.68      ,\n",
              "       117.68      , 117.68      , 117.68      , 117.68      ,\n",
              "       117.68      , 117.68      , 117.68      , 117.68      ,\n",
              "       117.68      , 117.68      , 117.68      , 117.68      ,\n",
              "       117.68      , 117.68      , 117.68      , 117.68      ,\n",
              "       117.68      , 117.68      , 117.68      , 117.68      ,\n",
              "       117.68      , 117.68      , 117.68      , 117.68      ,\n",
              "       117.68      , 117.68      , 117.68      , 117.68      ,\n",
              "       117.68      , 117.68      , 117.68      , 117.68      ,\n",
              "       117.68      , 117.68      , 117.68      , 117.68      ,\n",
              "       117.68      , 117.68      , 117.68      , 117.68      ,\n",
              "       117.68      , 117.68      , 117.68      , 117.68      ,\n",
              "       117.68      , 117.68      , 117.68      , 117.68      ,\n",
              "       117.68      , 117.68      , 117.68      , 117.68      ,\n",
              "       117.68      , 117.68      , 117.68      , 117.68      ,\n",
              "       117.68      , 117.68      , 117.68      , 117.68      ,\n",
              "       117.68      , 117.68      , 117.68      , 117.68      ,\n",
              "       117.68      , 117.68      , 117.68      , 117.68      ,\n",
              "       117.68      , 117.68      , 117.68      , 117.68      ,\n",
              "       117.68      , 117.68      , 117.68      , 117.68      ,\n",
              "       117.68      , 117.68      , 117.68      , 117.68      ,\n",
              "       117.68      , 117.68      , 117.68      , 117.68      ,\n",
              "       117.68      , 117.68      , 117.68      , 117.68      ,\n",
              "       117.68      , 117.68      , 117.68      , 117.68      ])"
            ]
          },
          "metadata": {
            "tags": []
          },
          "execution_count": 9
        }
      ]
    },
    {
      "cell_type": "markdown",
      "metadata": {
        "id": "KkWPhLwA3jtn"
      },
      "source": [
        "### Evaluate the results using R-Squared, Mean Absolute Error, and Root Mean Squared Error metrics."
      ]
    },
    {
      "cell_type": "code",
      "metadata": {
        "id": "Nv_wGYXA3jto"
      },
      "source": [
        "print('R-Squared', r2_score(y_test, predictions))\n",
        "print('Mean Absolute Error:', mean_absolute_error(y_test, predictions))\n",
        "print('Root Mean Squared Error:', np.sqrt(mean_squared_error(y_test, predictions)))"
      ],
      "execution_count": 7,
      "outputs": []
    },
    {
      "cell_type": "markdown",
      "metadata": {
        "id": "uDzBCT1s3jtq"
      },
      "source": [
        "### Visually examine the results by creating a scatter plot where the x axis represents the observed results and the y axis represents the predictions."
      ]
    },
    {
      "cell_type": "code",
      "metadata": {
        "id": "3nO-Njm13jtr",
        "colab": {
          "base_uri": "https://localhost:8080/",
          "height": 542
        },
        "outputId": "07e3ebd4-7b47-4854-b606-5fe0463fcd09"
      },
      "source": [
        "def iscatter(df, x, y, color=None, size=None, title=''):\n",
        "    fig = px.scatter(df, x=x, y=y, color=color, size=size, \n",
        "                     title=title, template='none')\n",
        "    \n",
        "    fig.update_traces(marker_line_color='black', \n",
        "                  marker_line_width=1)\n",
        "\n",
        "    fig.show()\n",
        "    \n",
        "results = pd.DataFrame([list(y_test), predictions], index=['close', 'Predicted']).T\n",
        "iscatter(results, 'close', 'Predicted', title='Observed vs. Predicted')"
      ],
      "execution_count": 11,
      "outputs": [
        {
          "output_type": "display_data",
          "data": {
            "text/html": [
              "<html>\n",
              "<head><meta charset=\"utf-8\" /></head>\n",
              "<body>\n",
              "    <div>\n",
              "            <script src=\"https://cdnjs.cloudflare.com/ajax/libs/mathjax/2.7.5/MathJax.js?config=TeX-AMS-MML_SVG\"></script><script type=\"text/javascript\">if (window.MathJax) {MathJax.Hub.Config({SVG: {font: \"STIX-Web\"}});}</script>\n",
              "                <script type=\"text/javascript\">window.PlotlyConfig = {MathJaxConfig: 'local'};</script>\n",
              "        <script src=\"https://cdn.plot.ly/plotly-latest.min.js\"></script>    \n",
              "            <div id=\"78c50643-d48f-45fe-828b-0f84c03e27c3\" class=\"plotly-graph-div\" style=\"height:525px; width:100%;\"></div>\n",
              "            <script type=\"text/javascript\">\n",
              "                \n",
              "                    window.PLOTLYENV=window.PLOTLYENV || {};\n",
              "                    \n",
              "                if (document.getElementById(\"78c50643-d48f-45fe-828b-0f84c03e27c3\")) {\n",
              "                    Plotly.newPlot(\n",
              "                        '78c50643-d48f-45fe-828b-0f84c03e27c3',\n",
              "                        [{\"hoverlabel\": {\"namelength\": 0}, \"hovertemplate\": \"close=%{x}<br>Predicted=%{y}\", \"legendgroup\": \"\", \"marker\": {\"color\": \"#1F77B4\", \"line\": {\"color\": \"black\", \"width\": 1}, \"symbol\": \"circle\"}, \"mode\": \"markers\", \"name\": \"\", \"showlegend\": false, \"type\": \"scatter\", \"x\": [145.25, 144.39, 145.11, 145.83, 142.42, 142.65, 141.84, 142.02, 144.06, 145.17, 146.47, 148.06, 147.81, 146.92, 145.5, 143.62, 143.74, 143.11, 143.85, 144.35, 143.83, 142.92, 147.25, 143.36, 139.76, 141.18, 142.87, 143.83, 152.16, 150.17, 153.08, 152.2, 155.35, 156.45, 155.59, 157.25, 156.6, 156.38, 157.46, 160.28, 158.54, 160.81, 160.02, 159.41, 153.2, 155.7, 157.02, 157.16, 157.95, 157.75, 163.05, 162.43, 163.22, 163.07, 162.99, 165.18, 165.06, 165.17, 165.61, 165.88, 158.03, 151.44, 152.72, 152.2, 151.76, 152.38, 153.4, 152.05, 155.03, 154.89, 158.02, 157.5, 151.03, 153.41, 150.09, 149.41, 146.17, 147.61, 146.25, 150.18, 152.67, 154.33, 158.75, 158.21, 161.12, 161.7, 183.6, 183.86, 183.6, 188.54, 187.91, 186.97, 189.08, 182.68, 184.04, 181.66, 182.03, 180.74, 179.23, 180.27, 181.33, 178.36, 175.78, 169.14, 171.4, 171.0, 168.5, 169.98, 166.09, 166.54, 166.76, 169.34, 169.06, 168.13, 165.95, 167.12, 168.81, 174.69, 174.71, 174.74, 174.52, 179.25, 179.0, 176.42, 181.74, 185.15, 183.64, 182.63, 182.35, 184.62, 185.68, 185.51, 188.78, 187.35, 178.55, 179.38, 181.97, 180.7, 181.35, 177.01, 179.19, 184.45, 194.39, 198.02, 196.87, 195.08, 194.95, 195.86, 199.49, 202.68, 199.48, 195.54, 195.13, 194.16, 192.47, 196.02, 193.77, 195.21, 199.54, 198.37, 196.43, 198.0, 199.32, 200.01, 200.13, 195.89, 196.44, 193.9, 192.02, 195.08, 195.71, 192.12, 195.51, 193.2, 194.1, 196.23, 196.32, 195.75, 195.05, 199.18, 188.15, 187.58, 186.82, 184.04, 184.21, 185.3, 185.2, 188.54, 186.22, 185.73, 187.86, 189.56, 190.12, 190.42, 187.02, 188.82, 188.62, 189.94, 187.76, 186.24, 192.71, 191.96, 201.07, 205.05, 205.63, 209.99, 212.05, 209.31, 212.52, 217.24, 221.23, 221.53, 217.5, 220.33, 220.46, 227.58, 250.29, 261.3, 269.7, 274.6, 284.59, 278.8, 270.3, 265.07, 267.43, 254.26, 265.72, 264.56], \"xaxis\": \"x\", \"y\": [134.72860465116278, 134.94140495867774, 134.72860465116278, 134.72860465116278, 134.72860465116278, 134.72860465116278, 137.03760000000008, 137.03760000000008, 134.94140495867774, 134.72860465116278, 120.20029469548092, 124.78553030303027, 124.78553030303027, 124.78553030303027, 129.73446511627898, 134.72860465116278, 134.72860465116278, 129.73446511627898, 134.72860465116278, 114.39176470588234, 114.39176470588234, 114.39176470588234, 114.39176470588234, 114.39176470588234, 114.39176470588234, 114.39176470588234, 114.39176470588234, 114.39176470588234, 114.39176470588234, 114.39176470588234, 116.19791666666667, 114.39176470588234, 116.19791666666667, 116.19791666666667, 116.19791666666667, 116.19791666666667, 116.74944444444448, 116.74944444444448, 116.74944444444448, 116.74944444444448, 116.74944444444448, 116.74944444444448, 116.74944444444448, 116.74944444444448, 116.74944444444448, 116.74944444444448, 116.74944444444448, 116.74944444444448, 116.74944444444448, 117.68000000000004, 116.74944444444448, 116.74944444444448, 117.68000000000004, 116.74944444444448, 116.74944444444448, 116.74944444444448, 117.68000000000004, 117.68000000000004, 117.68000000000004, 117.68000000000004, 117.68000000000004, 117.68000000000004, 117.68000000000004, 117.68000000000004, 117.68000000000004, 117.68000000000004, 117.68000000000004, 117.68000000000004, 117.68000000000004, 117.68000000000004, 117.68000000000004, 117.68000000000004, 117.68000000000004, 117.68000000000004, 117.68000000000004, 117.68000000000004, 117.68000000000004, 117.68000000000004, 117.68000000000004, 117.68000000000004, 117.68000000000004, 117.68000000000004, 117.68000000000004, 117.68000000000004, 117.68000000000004, 117.68000000000004, 117.68000000000004, 117.68000000000004, 117.68000000000004, 117.68000000000004, 117.68000000000004, 117.68000000000004, 117.68000000000004, 117.68000000000004, 117.68000000000004, 117.68000000000004, 117.68000000000004, 117.68000000000004, 117.68000000000004, 117.68000000000004, 117.68000000000004, 117.68000000000004, 117.68000000000004, 117.68000000000004, 117.68000000000004, 117.68000000000004, 117.68000000000004, 117.68000000000004, 117.68000000000004, 117.68000000000004, 117.68000000000004, 117.68000000000004, 117.68000000000004, 117.68000000000004, 117.68000000000004, 117.68000000000004, 117.68000000000004, 117.68000000000004, 117.68000000000004, 117.68000000000004, 117.68000000000004, 117.68000000000004, 117.68000000000004, 117.68000000000004, 117.68000000000004, 117.68000000000004, 117.68000000000004, 117.68000000000004, 117.68000000000004, 117.68000000000004, 117.68000000000004, 117.68000000000004, 117.68000000000004, 117.68000000000004, 117.68000000000004, 117.68000000000004, 117.68000000000004, 117.68000000000004, 117.68000000000004, 117.68000000000004, 117.68000000000004, 117.68000000000004, 117.68000000000004, 117.68000000000004, 117.68000000000004, 117.68000000000004, 117.68000000000004, 117.68000000000004, 117.68000000000004, 117.68000000000004, 117.68000000000004, 117.68000000000004, 117.68000000000004, 117.68000000000004, 117.68000000000004, 117.68000000000004, 117.68000000000004, 117.68000000000004, 117.68000000000004, 117.68000000000004, 117.68000000000004, 117.68000000000004, 117.68000000000004, 117.68000000000004, 117.68000000000004, 117.68000000000004, 117.68000000000004, 117.68000000000004, 117.68000000000004, 117.68000000000004, 117.68000000000004, 117.68000000000004, 117.68000000000004, 117.68000000000004, 117.68000000000004, 117.68000000000004, 117.68000000000004, 117.68000000000004, 117.68000000000004, 117.68000000000004, 117.68000000000004, 117.68000000000004, 117.68000000000004, 117.68000000000004, 117.68000000000004, 117.68000000000004, 117.68000000000004, 117.68000000000004, 117.68000000000004, 117.68000000000004, 117.68000000000004, 117.68000000000004, 117.68000000000004, 117.68000000000004, 117.68000000000004, 117.68000000000004, 117.68000000000004, 117.68000000000004, 117.68000000000004, 117.68000000000004, 117.68000000000004, 117.68000000000004, 117.68000000000004, 117.68000000000004, 117.68000000000004, 117.68000000000004, 117.68000000000004, 117.68000000000004, 117.68000000000004, 117.68000000000004, 117.68000000000004, 117.68000000000004, 117.68000000000004, 117.68000000000004, 117.68000000000004, 117.68000000000004, 117.68000000000004, 117.68000000000004, 117.68000000000004, 117.68000000000004, 117.68000000000004, 117.68000000000004, 117.68000000000004, 117.68000000000004, 117.68000000000004, 117.68000000000004, 117.68000000000004, 117.68000000000004], \"yaxis\": \"y\"}],\n",
              "                        {\"legend\": {\"tracegroupgap\": 0}, \"template\": {\"data\": {\"scatter\": [{\"type\": \"scatter\"}]}}, \"title\": {\"text\": \"Observed vs. Predicted\"}, \"xaxis\": {\"anchor\": \"y\", \"domain\": [0.0, 1.0], \"title\": {\"text\": \"close\"}}, \"yaxis\": {\"anchor\": \"x\", \"domain\": [0.0, 1.0], \"title\": {\"text\": \"Predicted\"}}},\n",
              "                        {\"responsive\": true}\n",
              "                    ).then(function(){\n",
              "                            \n",
              "var gd = document.getElementById('78c50643-d48f-45fe-828b-0f84c03e27c3');\n",
              "var x = new MutationObserver(function (mutations, observer) {{\n",
              "        var display = window.getComputedStyle(gd).display;\n",
              "        if (!display || display === 'none') {{\n",
              "            console.log([gd, 'removed!']);\n",
              "            Plotly.purge(gd);\n",
              "            observer.disconnect();\n",
              "        }}\n",
              "}});\n",
              "\n",
              "// Listen for the removal of the full notebook cells\n",
              "var notebookContainer = gd.closest('#notebook-container');\n",
              "if (notebookContainer) {{\n",
              "    x.observe(notebookContainer, {childList: true});\n",
              "}}\n",
              "\n",
              "// Listen for the clearing of the current output cell\n",
              "var outputEl = gd.closest('.output');\n",
              "if (outputEl) {{\n",
              "    x.observe(outputEl, {childList: true});\n",
              "}}\n",
              "\n",
              "                        })\n",
              "                };\n",
              "                \n",
              "            </script>\n",
              "        </div>\n",
              "</body>\n",
              "</html>"
            ]
          },
          "metadata": {
            "tags": []
          }
        }
      ]
    }
  ]
}