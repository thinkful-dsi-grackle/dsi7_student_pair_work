{
  "nbformat": 4,
  "nbformat_minor": 0,
  "metadata": {
    "kernelspec": {
      "display_name": "Python 3",
      "language": "python",
      "name": "python3"
    },
    "language_info": {
      "codemirror_mode": {
        "name": "ipython",
        "version": 3
      },
      "file_extension": ".py",
      "mimetype": "text/x-python",
      "name": "python",
      "nbconvert_exporter": "python",
      "pygments_lexer": "ipython3",
      "version": "3.7.2"
    },
    "colab": {
      "name": "Time_Series_D5_L1_Assignment_Barrett.ipynb",
      "provenance": []
    }
  },
  "cells": [
    {
      "cell_type": "markdown",
      "metadata": {
        "id": "t76lGNLJ3jtR"
      },
      "source": [
        "# Time Series Machine Learning Part 1 Assignment"
      ]
    },
    {
      "cell_type": "code",
      "metadata": {
        "id": "1fWqhPBa3jtT"
      },
      "source": [
        "import pickle\n",
        "import numpy as np\n",
        "import pandas as pd\n",
        "import plotly.express as px\n",
        "from sklearn.ensemble import AdaBoostRegressor, RandomForestRegressor\n",
        "from sklearn.tree import DecisionTreeRegressor\n",
        "from sklearn.model_selection import train_test_split, GridSearchCV\n",
        "from sklearn.metrics import r2_score\n",
        "from sklearn.metrics import mean_absolute_error\n",
        "from sklearn.metrics import mean_squared_error"
      ],
      "execution_count": 111,
      "outputs": []
    },
    {
      "cell_type": "markdown",
      "metadata": {
        "id": "VhJHCced3jtX"
      },
      "source": [
        "### Import the Netflix stock price data set (NFLX_data.csv)."
      ]
    },
    {
      "cell_type": "code",
      "metadata": {
        "id": "Qo9dfoZ03jtY"
      },
      "source": [
        "netflix_df = pd.read_csv('https://tf-assets-prod.s3.amazonaws.com/tf-curric/data-science/Data%20Sets%20Time%20Series%20Analysis/Time%20Series%20-%20Day%205/NFLX_data.csv')"
      ],
      "execution_count": 79,
      "outputs": []
    },
    {
      "cell_type": "code",
      "metadata": {
        "id": "TZBWn_rFz7tU"
      },
      "source": [
        "netflix_df['date'] = pd.to_datetime(netflix_df['date'])"
      ],
      "execution_count": 80,
      "outputs": []
    },
    {
      "cell_type": "code",
      "metadata": {
        "id": "PLP9cDdJzvjz"
      },
      "source": [
        "netflix_df = netflix_df[['date', 'close']]"
      ],
      "execution_count": 81,
      "outputs": []
    },
    {
      "cell_type": "markdown",
      "metadata": {
        "id": "UrezA8by3jta"
      },
      "source": [
        "### Transform the data by shifting the series and creating features that will allow us to forecast the price 30 days into the future from 90 days of daily history."
      ]
    },
    {
      "cell_type": "code",
      "metadata": {
        "id": "k1FP0zpX1BPd"
      },
      "source": [
        "history = 90\n",
        "future = 30\n",
        "\n",
        "shifts = [x + future for x in list(range(1, history + 1))]\n",
        "\n",
        "for shift in shifts:\n",
        "  netflix_df[f't-{shift}'] = netflix_df['close'].shift(shift)\n",
        "\n",
        "netflix_df.dropna(inplace=True)"
      ],
      "execution_count": 82,
      "outputs": []
    },
    {
      "cell_type": "markdown",
      "metadata": {
        "id": "KRhVWTrH3jtd"
      },
      "source": [
        "### Split the data into a training set and a testing set. Make the test set size 20%."
      ]
    },
    {
      "cell_type": "code",
      "metadata": {
        "id": "yMtgRFib3jte"
      },
      "source": [
        "X = netflix_df.drop(['date', 'close'],1)\n",
        "y = netflix_df['close']\n",
        "\n",
        "X_train, X_test, y_train, y_test = train_test_split(X, y, test_size=0.2, shuffle=False)"
      ],
      "execution_count": 83,
      "outputs": []
    },
    {
      "cell_type": "code",
      "metadata": {
        "colab": {
          "base_uri": "https://localhost:8080/"
        },
        "id": "ysdvL0OVzwsm",
        "outputId": "6f01903d-52cb-438a-9b56-2087b050ea45"
      },
      "source": [
        "X_test.shape[0]/netflix_df.shape[0]"
      ],
      "execution_count": 84,
      "outputs": [
        {
          "output_type": "execute_result",
          "data": {
            "text/plain": [
              "0.20017559262510976"
            ]
          },
          "metadata": {
            "tags": []
          },
          "execution_count": 84
        }
      ]
    },
    {
      "cell_type": "markdown",
      "metadata": {
        "id": "1yAR2MWd3jth"
      },
      "source": [
        "### Instantiate an AdaBoost model and fit it to the training set."
      ]
    },
    {
      "cell_type": "code",
      "metadata": {
        "id": "DpAD7exM3jti"
      },
      "source": [
        "adareg = AdaBoostRegressor(DecisionTreeRegressor(max_depth=4), n_estimators=300)"
      ],
      "execution_count": 85,
      "outputs": []
    },
    {
      "cell_type": "code",
      "metadata": {
        "colab": {
          "base_uri": "https://localhost:8080/"
        },
        "id": "KD2I9pQRzxFO",
        "outputId": "801c1644-db5a-4426-a166-3d246e7c64ee"
      },
      "source": [
        "np.arange(0.1, 1, 0.2)"
      ],
      "execution_count": 86,
      "outputs": [
        {
          "output_type": "execute_result",
          "data": {
            "text/plain": [
              "array([0.1, 0.3, 0.5, 0.7, 0.9])"
            ]
          },
          "metadata": {
            "tags": []
          },
          "execution_count": 86
        }
      ]
    },
    {
      "cell_type": "code",
      "metadata": {
        "colab": {
          "base_uri": "https://localhost:8080/"
        },
        "id": "y8doU_uxzxCi",
        "outputId": "ead7bf4a-e34d-4701-f5d0-0fa48bc79123"
      },
      "source": [
        "adareg = AdaBoostRegressor(DecisionTreeRegressor(max_depth=4), n_estimators=300)\n",
        "params = {'learning_rate': np.arange(0.1, 1, 0.2),  \n",
        "          'loss': ['linear', 'square', 'exponential']\n",
        "          }\n",
        "\n",
        "adareg_grid = GridSearchCV(adareg, param_grid=params, scoring='neg_mean_absolute_error', cv=3)\n",
        "\n",
        "adareg_grid.fit(X_train, y_train)"
      ],
      "execution_count": 87,
      "outputs": [
        {
          "output_type": "execute_result",
          "data": {
            "text/plain": [
              "GridSearchCV(cv=3, error_score=nan,\n",
              "             estimator=AdaBoostRegressor(base_estimator=DecisionTreeRegressor(ccp_alpha=0.0,\n",
              "                                                                              criterion='mse',\n",
              "                                                                              max_depth=4,\n",
              "                                                                              max_features=None,\n",
              "                                                                              max_leaf_nodes=None,\n",
              "                                                                              min_impurity_decrease=0.0,\n",
              "                                                                              min_impurity_split=None,\n",
              "                                                                              min_samples_leaf=1,\n",
              "                                                                              min_samples_split=2,\n",
              "                                                                              min_weight_fraction_leaf=0.0,\n",
              "                                                                              presort='deprecated',\n",
              "                                                                              random_state=None,\n",
              "                                                                              splitter='best'),\n",
              "                                         learning_rate=1.0, loss='linear',\n",
              "                                         n_estimators=300, random_state=None),\n",
              "             iid='deprecated', n_jobs=None,\n",
              "             param_grid={'learning_rate': array([0.1, 0.3, 0.5, 0.7, 0.9]),\n",
              "                         'loss': ['linear', 'square', 'exponential']},\n",
              "             pre_dispatch='2*n_jobs', refit=True, return_train_score=False,\n",
              "             scoring='neg_mean_absolute_error', verbose=0)"
            ]
          },
          "metadata": {
            "tags": []
          },
          "execution_count": 87
        }
      ]
    },
    {
      "cell_type": "code",
      "metadata": {
        "id": "dhfZy9QT69tn"
      },
      "source": [
        "params = adareg_grid.best_params_"
      ],
      "execution_count": 88,
      "outputs": []
    },
    {
      "cell_type": "markdown",
      "metadata": {
        "id": "9L9mUdA33jtk"
      },
      "source": [
        "### Generate predictions for the test set."
      ]
    },
    {
      "cell_type": "code",
      "metadata": {
        "id": "uuxC-QY33jtl"
      },
      "source": [
        "y_pred = adareg_grid.predict(X_test)"
      ],
      "execution_count": 89,
      "outputs": []
    },
    {
      "cell_type": "code",
      "metadata": {
        "colab": {
          "base_uri": "https://localhost:8080/"
        },
        "id": "qKcGM6BUzxq_",
        "outputId": "70e088cb-2431-472e-dc5f-aa288cb9da2d"
      },
      "source": [
        "X_test.shape"
      ],
      "execution_count": 90,
      "outputs": [
        {
          "output_type": "execute_result",
          "data": {
            "text/plain": [
              "(228, 90)"
            ]
          },
          "metadata": {
            "tags": []
          },
          "execution_count": 90
        }
      ]
    },
    {
      "cell_type": "markdown",
      "metadata": {
        "id": "KkWPhLwA3jtn"
      },
      "source": [
        "### Evaluate the results using R-Squared, Mean Absolute Error, and Root Mean Squared Error metrics."
      ]
    },
    {
      "cell_type": "code",
      "metadata": {
        "id": "Nv_wGYXA3jto"
      },
      "source": [
        "def get_scores(y_test, y_pred):\n",
        "  print(f'R-Squared: {r2_score(y_test, y_pred)}')\n",
        "  print(f'MAE: {mean_absolute_error(y_test, y_pred)}')\n",
        "  print(f'RMSE: {np.sqrt(mean_squared_error(y_test, y_pred))}')"
      ],
      "execution_count": 91,
      "outputs": []
    },
    {
      "cell_type": "code",
      "metadata": {
        "colab": {
          "base_uri": "https://localhost:8080/"
        },
        "id": "Y-J8ALZMzySX",
        "outputId": "58740c61-9eab-4e3c-ede2-419c1df96def"
      },
      "source": [
        "get_scores(y_test, y_pred)"
      ],
      "execution_count": 92,
      "outputs": [
        {
          "output_type": "stream",
          "text": [
            "R-Squared: -5.028396231502538\n",
            "MAE: 64.75218332400902\n",
            "RMSE: 71.56040595642791\n"
          ],
          "name": "stdout"
        }
      ]
    },
    {
      "cell_type": "markdown",
      "metadata": {
        "id": "uDzBCT1s3jtq"
      },
      "source": [
        "### Visually examine the results by creating a scatter plot where the x axis represents the observed results and the y axis represents the predictions."
      ]
    },
    {
      "cell_type": "code",
      "metadata": {
        "colab": {
          "base_uri": "https://localhost:8080/",
          "height": 542
        },
        "id": "gq8SgSK1zyqw",
        "outputId": "1c9bdb68-47a2-4cc4-98d0-54a251255dfc"
      },
      "source": [
        "fig = px.scatter(x=y_test, y=y_pred, template='none')\n",
        "\n",
        "fig.update_traces(marker_line_color='black',\n",
        "                  marker_line_width=1)\n",
        "\n",
        "fig.show()"
      ],
      "execution_count": 93,
      "outputs": [
        {
          "output_type": "display_data",
          "data": {
            "text/html": [
              "<html>\n",
              "<head><meta charset=\"utf-8\" /></head>\n",
              "<body>\n",
              "    <div>\n",
              "            <script src=\"https://cdnjs.cloudflare.com/ajax/libs/mathjax/2.7.5/MathJax.js?config=TeX-AMS-MML_SVG\"></script><script type=\"text/javascript\">if (window.MathJax) {MathJax.Hub.Config({SVG: {font: \"STIX-Web\"}});}</script>\n",
              "                <script type=\"text/javascript\">window.PlotlyConfig = {MathJaxConfig: 'local'};</script>\n",
              "        <script src=\"https://cdn.plot.ly/plotly-latest.min.js\"></script>    \n",
              "            <div id=\"5a2541af-76b1-43ed-8ba3-ca3ea0dc5601\" class=\"plotly-graph-div\" style=\"height:525px; width:100%;\"></div>\n",
              "            <script type=\"text/javascript\">\n",
              "                \n",
              "                    window.PLOTLYENV=window.PLOTLYENV || {};\n",
              "                    \n",
              "                if (document.getElementById(\"5a2541af-76b1-43ed-8ba3-ca3ea0dc5601\")) {\n",
              "                    Plotly.newPlot(\n",
              "                        '5a2541af-76b1-43ed-8ba3-ca3ea0dc5601',\n",
              "                        [{\"hoverlabel\": {\"namelength\": 0}, \"hovertemplate\": \"x=%{x}<br>y=%{y}\", \"legendgroup\": \"\", \"marker\": {\"color\": \"#1F77B4\", \"line\": {\"color\": \"black\", \"width\": 1}, \"symbol\": \"circle\"}, \"mode\": \"markers\", \"name\": \"\", \"showlegend\": false, \"type\": \"scatter\", \"x\": [145.25, 144.39, 145.11, 145.83, 142.42, 142.65, 141.84, 142.02, 144.06, 145.17, 146.47, 148.06, 147.81, 146.92, 145.5, 143.62, 143.74, 143.11, 143.85, 144.35, 143.83, 142.92, 147.25, 143.36, 139.76, 141.18, 142.87, 143.83, 152.16, 150.17, 153.08, 152.2, 155.35, 156.45, 155.59, 157.25, 156.6, 156.38, 157.46, 160.28, 158.54, 160.81, 160.02, 159.41, 153.2, 155.7, 157.02, 157.16, 157.95, 157.75, 163.05, 162.43, 163.22, 163.07, 162.99, 165.18, 165.06, 165.17, 165.61, 165.88, 158.03, 151.44, 152.72, 152.2, 151.76, 152.38, 153.4, 152.05, 155.03, 154.89, 158.02, 157.5, 151.03, 153.41, 150.09, 149.41, 146.17, 147.61, 146.25, 150.18, 152.67, 154.33, 158.75, 158.21, 161.12, 161.7, 183.6, 183.86, 183.6, 188.54, 187.91, 186.97, 189.08, 182.68, 184.04, 181.66, 182.03, 180.74, 179.23, 180.27, 181.33, 178.36, 175.78, 169.14, 171.4, 171.0, 168.5, 169.98, 166.09, 166.54, 166.76, 169.34, 169.06, 168.13, 165.95, 167.12, 168.81, 174.69, 174.71, 174.74, 174.52, 179.25, 179.0, 176.42, 181.74, 185.15, 183.64, 182.63, 182.35, 184.62, 185.68, 185.51, 188.78, 187.35, 178.55, 179.38, 181.97, 180.7, 181.35, 177.01, 179.19, 184.45, 194.39, 198.02, 196.87, 195.08, 194.95, 195.86, 199.49, 202.68, 199.48, 195.54, 195.13, 194.16, 192.47, 196.02, 193.77, 195.21, 199.54, 198.37, 196.43, 198.0, 199.32, 200.01, 200.13, 195.89, 196.44, 193.9, 192.02, 195.08, 195.71, 192.12, 195.51, 193.2, 194.1, 196.23, 196.32, 195.75, 195.05, 199.18, 188.15, 187.58, 186.82, 184.04, 184.21, 185.3, 185.2, 188.54, 186.22, 185.73, 187.86, 189.56, 190.12, 190.42, 187.02, 188.82, 188.62, 189.94, 187.76, 186.24, 192.71, 191.96, 201.07, 205.05, 205.63, 209.99, 212.05, 209.31, 212.52, 217.24, 221.23, 221.53, 217.5, 220.33, 220.46, 227.58, 250.29, 261.3, 269.7, 274.6, 284.59, 278.8, 270.3, 265.07, 267.43, 254.26, 265.72, 264.56], \"xaxis\": \"x\", \"y\": [135.18485714285714, 134.27575163398708, 134.15390624999995, 133.98325000000003, 133.93753731343287, 132.60507936507952, 132.220078125, 126.17161038961022, 115.37266666666659, 115.37266666666659, 115.32478260869564, 123.46105263157894, 130.09091463414657, 132.78229007633584, 133.31128787878805, 133.3070238095238, 128.79893617021276, 124.06323450134813, 121.94656612529015, 105.29100000000001, 105.49499999999999, 105.49499999999999, 105.49499999999999, 105.36333333333333, 105.36333333333333, 105.36333333333333, 104.9278947368421, 105.49499999999999, 106.36555555555555, 106.36555555555555, 109.49000000000001, 110.00343750000003, 112.45800000000004, 113.25884615384614, 113.22349999999999, 114.16277777777776, 113.84555555555555, 114.26500000000003, 114.51500000000001, 114.16277777777776, 114.26500000000003, 114.45214285714285, 114.51500000000001, 114.51500000000001, 114.51500000000001, 114.51500000000001, 114.16277777777776, 114.26500000000003, 114.16277777777776, 114.16277777777776, 113.84555555555555, 114.16277777777776, 113.84555555555555, 113.84555555555555, 113.84555555555555, 113.84555555555555, 114.16277777777776, 113.84555555555555, 113.84555555555555, 113.84555555555555, 113.84555555555555, 113.84555555555555, 113.84555555555555, 113.84555555555555, 113.84555555555555, 113.84555555555555, 113.84555555555555, 113.84555555555555, 113.84555555555555, 113.84555555555555, 113.84555555555555, 113.84555555555555, 113.84555555555555, 113.84555555555555, 113.84555555555555, 113.84555555555555, 113.84555555555555, 113.84555555555555, 113.84555555555555, 113.84555555555555, 113.84555555555555, 113.84555555555555, 113.84555555555555, 113.84555555555555, 113.84555555555555, 113.84555555555555, 113.84555555555555, 113.84555555555555, 113.84555555555555, 113.84555555555555, 113.84555555555555, 113.84555555555555, 113.84555555555555, 113.84555555555555, 113.84555555555555, 113.84555555555555, 113.84555555555555, 113.84555555555555, 113.84555555555555, 113.84555555555555, 113.84555555555555, 113.84555555555555, 113.84555555555555, 113.84555555555555, 113.84555555555555, 113.84555555555555, 113.84555555555555, 113.84555555555555, 113.84555555555555, 113.84555555555555, 113.84555555555555, 113.84555555555555, 113.84555555555555, 113.84555555555555, 113.84555555555555, 113.84555555555555, 113.84555555555555, 113.84555555555555, 113.84555555555555, 113.84555555555555, 113.84555555555555, 113.84555555555555, 113.84555555555555, 113.84555555555555, 113.84555555555555, 113.84555555555555, 113.84555555555555, 113.84555555555555, 113.84555555555555, 113.84555555555555, 113.84555555555555, 113.84555555555555, 113.84555555555555, 113.84555555555555, 113.84555555555555, 113.84555555555555, 113.84555555555555, 113.84555555555555, 113.84555555555555, 113.84555555555555, 113.84555555555555, 113.84555555555555, 113.84555555555555, 113.84555555555555, 113.84555555555555, 113.84555555555555, 113.84555555555555, 113.84555555555555, 113.84555555555555, 113.84555555555555, 113.84555555555555, 113.84555555555555, 113.84555555555555, 113.84555555555555, 113.84555555555555, 113.84555555555555, 113.84555555555555, 113.84555555555555, 113.84555555555555, 113.84555555555555, 113.84555555555555, 113.84555555555555, 113.84555555555555, 113.84555555555555, 113.84555555555555, 113.84555555555555, 113.84555555555555, 113.84555555555555, 113.84555555555555, 113.84555555555555, 113.84555555555555, 113.84555555555555, 113.84555555555555, 113.84555555555555, 113.84555555555555, 113.84555555555555, 113.84555555555555, 113.84555555555555, 113.84555555555555, 113.84555555555555, 113.84555555555555, 113.84555555555555, 113.84555555555555, 113.84555555555555, 113.84555555555555, 113.84555555555555, 113.84555555555555, 113.84555555555555, 113.84555555555555, 113.84555555555555, 113.84555555555555, 113.84555555555555, 113.84555555555555, 113.84555555555555, 113.84555555555555, 113.84555555555555, 113.84555555555555, 113.84555555555555, 113.84555555555555, 113.84555555555555, 113.84555555555555, 113.84555555555555, 113.84555555555555, 113.84555555555555, 113.84555555555555, 113.84555555555555, 113.84555555555555, 113.84555555555555, 113.84555555555555, 113.84555555555555, 113.84555555555555, 113.84555555555555, 113.84555555555555, 113.84555555555555, 113.84555555555555, 113.84555555555555, 113.84555555555555, 113.84555555555555, 113.84555555555555, 113.84555555555555, 113.84555555555555, 113.84555555555555, 113.84555555555555, 113.84555555555555, 113.84555555555555, 113.84555555555555, 113.84555555555555, 113.84555555555555], \"yaxis\": \"y\"}],\n",
              "                        {\"legend\": {\"tracegroupgap\": 0}, \"margin\": {\"t\": 60}, \"template\": {\"data\": {\"scatter\": [{\"type\": \"scatter\"}]}}, \"xaxis\": {\"anchor\": \"y\", \"domain\": [0.0, 1.0], \"title\": {\"text\": \"x\"}}, \"yaxis\": {\"anchor\": \"x\", \"domain\": [0.0, 1.0], \"title\": {\"text\": \"y\"}}},\n",
              "                        {\"responsive\": true}\n",
              "                    ).then(function(){\n",
              "                            \n",
              "var gd = document.getElementById('5a2541af-76b1-43ed-8ba3-ca3ea0dc5601');\n",
              "var x = new MutationObserver(function (mutations, observer) {{\n",
              "        var display = window.getComputedStyle(gd).display;\n",
              "        if (!display || display === 'none') {{\n",
              "            console.log([gd, 'removed!']);\n",
              "            Plotly.purge(gd);\n",
              "            observer.disconnect();\n",
              "        }}\n",
              "}});\n",
              "\n",
              "// Listen for the removal of the full notebook cells\n",
              "var notebookContainer = gd.closest('#notebook-container');\n",
              "if (notebookContainer) {{\n",
              "    x.observe(notebookContainer, {childList: true});\n",
              "}}\n",
              "\n",
              "// Listen for the clearing of the current output cell\n",
              "var outputEl = gd.closest('.output');\n",
              "if (outputEl) {{\n",
              "    x.observe(outputEl, {childList: true});\n",
              "}}\n",
              "\n",
              "                        })\n",
              "                };\n",
              "                \n",
              "            </script>\n",
              "        </div>\n",
              "</body>\n",
              "</html>"
            ]
          },
          "metadata": {
            "tags": []
          }
        }
      ]
    },
    {
      "cell_type": "code",
      "metadata": {
        "id": "a0_Ah2dozyno"
      },
      "source": [
        ""
      ],
      "execution_count": 24,
      "outputs": []
    },
    {
      "cell_type": "code",
      "metadata": {
        "id": "3nO-Njm13jtr"
      },
      "source": [
        ""
      ],
      "execution_count": 93,
      "outputs": []
    },
    {
      "cell_type": "code",
      "metadata": {
        "id": "qfv08dPV-iSd"
      },
      "source": [
        "history = 90\n",
        "future = 30\n",
        "\n",
        "past_shifts = [x for x in list(range(1, history+1))]\n",
        "future_shifts = [x for x in list(range(1, future))]\n",
        "\n",
        "shifted = netflix_df.copy()[['date', 'close']]\n",
        "shifted.columns = ['date', 't+0']\n",
        "\n",
        "for shift in past_shifts:\n",
        "  shifted[f't-{shift}'] = shifted['t+0'].shift(shift)\n",
        "\n",
        "for shift in future_shifts:\n",
        "  shifted[f't+{shift}'] = shifted['t+0'].shift(-shift)\n",
        "\n",
        "shifted.dropna(inplace=True)"
      ],
      "execution_count": 94,
      "outputs": []
    },
    {
      "cell_type": "code",
      "metadata": {
        "colab": {
          "base_uri": "https://localhost:8080/"
        },
        "id": "xf8tcQtoB33X",
        "outputId": "e7fd1b66-3246-40e8-de54-c3cd66438850"
      },
      "source": [
        "X = shifted[[f't-{shift}' for shift in past_shifts]]\n",
        "future_shifts = [0] + future_shifts\n",
        "\n",
        "models = []\n",
        "\n",
        "for future_shift in future_shifts:\n",
        "  y = shifted[f't+{future_shift}']\n",
        "  X_train, X_test, y_train, y_test = train_test_split(X, y, test_size=0.2, shuffle=False)\n",
        "\n",
        "  model = AdaBoostRegressor()\n",
        "  model.set_params(**params)\n",
        "  model.fit(X_train, y_train)\n",
        "  \n",
        "  predictions = model.predict(X_test)\n",
        "  get_scores(y_test, predictions)\n",
        "\n",
        "  pickled = pickle.dump(model, open(f'model_{future_shift}.pkl', 'wb')))\n",
        "  models.append(model)"
      ],
      "execution_count": 131,
      "outputs": [
        {
          "output_type": "stream",
          "text": [
            "R-Squared: -2.1558857511790612\n",
            "MAE: 11.876320497128294\n",
            "RMSE: 14.369103541774654\n",
            "R-Squared: -2.0754315841301723\n",
            "MAE: 11.65261100418134\n",
            "RMSE: 14.184762643713828\n",
            "R-Squared: -1.9594526471960743\n",
            "MAE: 11.386894032740727\n",
            "RMSE: 13.994055451989233\n",
            "R-Squared: -1.9998311757701495\n",
            "MAE: 11.525697705802964\n",
            "RMSE: 14.116237763879852\n",
            "R-Squared: -2.0998237180605304\n",
            "MAE: 11.872050654363989\n",
            "RMSE: 14.424568185201714\n",
            "R-Squared: -2.269817312799886\n",
            "MAE: 12.384038901601839\n",
            "RMSE: 14.86375711301429\n"
          ],
          "name": "stdout"
        }
      ]
    },
    {
      "cell_type": "code",
      "metadata": {
        "id": "dXpT0L_6CHVw"
      },
      "source": [
        ""
      ],
      "execution_count": 26,
      "outputs": []
    },
    {
      "cell_type": "code",
      "metadata": {
        "id": "is-cJR4AbSO8"
      },
      "source": [
        ""
      ],
      "execution_count": 26,
      "outputs": []
    },
    {
      "cell_type": "code",
      "metadata": {
        "id": "AkzE0RJvbSM8"
      },
      "source": [
        ""
      ],
      "execution_count": 26,
      "outputs": []
    },
    {
      "cell_type": "markdown",
      "metadata": {
        "id": "5zP4W9VocWvO"
      },
      "source": [
        "#Lecture Notes"
      ]
    },
    {
      "cell_type": "code",
      "metadata": {
        "id": "W1-1q4jzbSGm"
      },
      "source": [
        "data = pd.read_csv('https://tf-assets-prod.s3.amazonaws.com/tf-curric/data-science/Data%20Sets%20Time%20Series%20Analysis/Time%20Series%20-%20Day%204/MSFT_data.csv')"
      ],
      "execution_count": 67,
      "outputs": []
    },
    {
      "cell_type": "code",
      "metadata": {
        "id": "K1WiEUoXbSDX"
      },
      "source": [
        "data['date'] = pd.to_datetime(data['date'])"
      ],
      "execution_count": 68,
      "outputs": []
    },
    {
      "cell_type": "code",
      "metadata": {
        "id": "_hAATf8Vb6pg"
      },
      "source": [
        "data = data[['date', 'close']]"
      ],
      "execution_count": 69,
      "outputs": []
    },
    {
      "cell_type": "code",
      "metadata": {
        "id": "VyAEwLZWbR7x"
      },
      "source": [
        "history = 7\n",
        "future = 7\n",
        "\n",
        "shifts = [x + future for x in list(range(1, history+1))]\n",
        "\n",
        "for shift in shifts:\n",
        "  data[f't-{shift}'] = data['close'].shift(shift)"
      ],
      "execution_count": 70,
      "outputs": []
    },
    {
      "cell_type": "code",
      "metadata": {
        "id": "nO_f_c4zbR01"
      },
      "source": [
        "data.dropna(inplace=True)"
      ],
      "execution_count": 71,
      "outputs": []
    },
    {
      "cell_type": "code",
      "metadata": {
        "id": "Mar5vuV_cdVD"
      },
      "source": [
        "X = data.drop(['date', 'close'], 1)\n",
        "y = data['close']\n",
        "\n",
        "X_train, X_test, y_train, y_test = train_test_split(X, y, test_size=0.2, shuffle=False)"
      ],
      "execution_count": 72,
      "outputs": []
    },
    {
      "cell_type": "code",
      "metadata": {
        "id": "YgGgOrHdc6bz"
      },
      "source": [
        "from sklearn.linear_model import LinearRegression"
      ],
      "execution_count": 73,
      "outputs": []
    },
    {
      "cell_type": "code",
      "metadata": {
        "colab": {
          "base_uri": "https://localhost:8080/"
        },
        "id": "rDyvhTfedBNH",
        "outputId": "34c9136b-a53d-49ce-c8a7-5e13451229df"
      },
      "source": [
        "model = LinearRegression()\n",
        "model.fit(X_train, y_train)"
      ],
      "execution_count": 74,
      "outputs": [
        {
          "output_type": "execute_result",
          "data": {
            "text/plain": [
              "LinearRegression(copy_X=True, fit_intercept=True, n_jobs=None, normalize=False)"
            ]
          },
          "metadata": {
            "tags": []
          },
          "execution_count": 74
        }
      ]
    },
    {
      "cell_type": "code",
      "metadata": {
        "id": "pT3-O6XgdOXK"
      },
      "source": [
        "predictions = model.predict(X_test)"
      ],
      "execution_count": 75,
      "outputs": []
    },
    {
      "cell_type": "code",
      "metadata": {
        "colab": {
          "base_uri": "https://localhost:8080/"
        },
        "id": "JecQC62jdSR1",
        "outputId": "d22e66a3-5f6b-42fd-f5ac-8d9fcd5e40cd"
      },
      "source": [
        "get_scores(y_test, predictions)"
      ],
      "execution_count": 76,
      "outputs": [
        {
          "output_type": "stream",
          "text": [
            "R-Squared: 0.9283261442423832\n",
            "MAE: 1.6442799946472546\n",
            "RMSE: 2.2055656717470096\n"
          ],
          "name": "stdout"
        }
      ]
    },
    {
      "cell_type": "code",
      "metadata": {
        "colab": {
          "base_uri": "https://localhost:8080/",
          "height": 542
        },
        "id": "v7e2i_vhd0pi",
        "outputId": "d9101155-801c-4bc8-db25-da8cd105b0c3"
      },
      "source": [
        "fig = px.scatter(x=y_test, y=predictions, template='none')\n",
        "\n",
        "fig.update_traces(marker_line_color='black',\n",
        "                  marker_line_width=1)\n",
        "\n",
        "fig.show()"
      ],
      "execution_count": 77,
      "outputs": [
        {
          "output_type": "display_data",
          "data": {
            "text/html": [
              "<html>\n",
              "<head><meta charset=\"utf-8\" /></head>\n",
              "<body>\n",
              "    <div>\n",
              "            <script src=\"https://cdnjs.cloudflare.com/ajax/libs/mathjax/2.7.5/MathJax.js?config=TeX-AMS-MML_SVG\"></script><script type=\"text/javascript\">if (window.MathJax) {MathJax.Hub.Config({SVG: {font: \"STIX-Web\"}});}</script>\n",
              "                <script type=\"text/javascript\">window.PlotlyConfig = {MathJaxConfig: 'local'};</script>\n",
              "        <script src=\"https://cdn.plot.ly/plotly-latest.min.js\"></script>    \n",
              "            <div id=\"c9d129d9-8ba2-4c63-9a72-0dac0ce102a7\" class=\"plotly-graph-div\" style=\"height:525px; width:100%;\"></div>\n",
              "            <script type=\"text/javascript\">\n",
              "                \n",
              "                    window.PLOTLYENV=window.PLOTLYENV || {};\n",
              "                    \n",
              "                if (document.getElementById(\"c9d129d9-8ba2-4c63-9a72-0dac0ce102a7\")) {\n",
              "                    Plotly.newPlot(\n",
              "                        'c9d129d9-8ba2-4c63-9a72-0dac0ce102a7',\n",
              "                        [{\"hoverlabel\": {\"namelength\": 0}, \"hovertemplate\": \"x=%{x}<br>y=%{y}\", \"legendgroup\": \"\", \"marker\": {\"color\": \"#1F77B4\", \"line\": {\"color\": \"black\", \"width\": 1}, \"symbol\": \"circle\"}, \"mode\": \"markers\", \"name\": \"\", \"showlegend\": false, \"type\": \"scatter\", \"x\": [64.72, 64.57, 64.53, 64.52, 64.62, 64.49, 64.36, 64.62, 64.62, 64.23, 63.98, 64.94, 64.01, 64.25, 64.27, 64.4, 64.99, 64.73, 64.93, 64.71, 64.41, 64.75, 64.64, 64.87, 64.93, 64.21, 65.03, 64.87, 64.98, 65.1, 65.29, 65.47, 65.71, 65.86, 65.55, 65.73, 65.56, 65.73, 65.68, 65.53, 65.48, 65.23, 64.95, 65.48, 65.39, 65.04, 65.5, 66.4, 67.53, 67.92, 67.83, 68.27, 68.46, 69.41, 69.3, 69.08, 68.81, 69.0, 68.94, 69.04, 69.31, 68.46, 68.38, 68.43, 69.41, 67.48, 67.71, 67.69, 68.45, 68.68, 68.77, 69.62, 69.96, 70.41, 69.84, 70.1, 71.76, 72.28, 72.52, 72.39, 71.95, 70.32, 69.78, 70.65, 70.27, 69.9, 70.0, 70.87, 69.91, 70.27, 70.26, 71.21, 70.53, 69.21, 69.8, 68.49, 68.93, 68.17, 69.08, 68.57, 69.46, 69.98, 69.99, 71.15, 71.77, 72.78, 73.35, 73.3, 73.86, 74.22, 73.79, 73.6, 74.19, 74.05, 73.16, 73.04, 72.7, 72.58, 72.26, 72.15, 72.68, 72.4, 72.79, 72.47, 71.41, 72.5, 73.59, 73.22, 73.65, 72.4, 72.49, 72.15, 73.16, 72.72, 72.69, 72.82, 72.83, 73.05, 74.01, 74.77, 73.94, 73.61, 73.4, 74.34, 73.98, 74.76, 74.68, 75.21, 74.77, 75.31, 75.16, 75.44, 74.94, 74.21, 74.41, 73.26, 73.26, 73.85, 73.87, 74.49, 74.61, 74.26, 74.69, 75.97, 76.0, 76.29, 76.29, 76.42, 77.12, 77.49, 77.65, 77.59, 77.61, 77.91, 78.81, 78.83, 78.86, 78.63, 78.76, 83.81, 83.89, 83.18, 83.18, 84.05, 84.14, 84.47, 84.27, 84.56, 84.09, 83.87, 83.93, 84.05, 82.98, 83.2, 82.4, 82.53, 83.72, 83.11, 83.26, 83.87, 84.88, 83.34, 84.17, 84.26, 81.08, 81.59, 82.78, 82.49, 84.16, 85.23, 85.58, 85.35, 84.69, 86.85, 86.38, 85.83, 85.52, 85.5, 85.51, 85.4, 85.71, 85.72, 85.54, 85.95, 86.35, 87.11, 88.19, 88.28, 88.22, 87.82, 88.08, 89.6, 88.35, 90.14, 90.1, 90.0, 91.61, 91.9, 91.82, 92.33, 94.06, 93.92, 92.74, 95.01, 94.26, 91.78, 88.0, 91.33, 89.61], \"xaxis\": \"x\", \"y\": [63.88081600884338, 63.57006921105169, 63.9544070807367, 63.8960906043978, 63.64843822653869, 63.54912715752278, 63.98460197029101, 63.88503778593984, 64.48910402742837, 64.40850641958642, 64.40160061375283, 64.46381253592673, 64.58923610153505, 64.50210487989574, 64.46374520016215, 64.64991382450802, 64.62478080701467, 64.3351888918731, 64.1806780570113, 64.87444840617476, 64.11049351842539, 64.35109229519927, 64.38147922814679, 64.3846583047831, 64.84309317443933, 64.69394439554446, 64.82264603566819, 64.71267648590177, 64.49409891884245, 64.78702467392725, 64.70555625591362, 64.85381309961878, 64.92225717304942, 64.36137798646757, 64.99841110126684, 64.85780772413, 64.92162673882439, 65.08164137631525, 65.2056899539972, 65.31807357391537, 65.57498979600402, 65.6992923723397, 65.50614020852464, 65.69319274383844, 65.58385061879636, 65.72114726621808, 65.70691968831426, 65.59403110428266, 65.55060688269876, 65.36425021002646, 65.13612291878292, 65.53235747875891, 65.40933923888613, 65.1344589675052, 65.51118978568971, 66.12830807182459, 66.94058604959312, 67.32569388075726, 67.36902902686225, 67.81380626371185, 68.0556275922373, 68.88919645753131, 68.934417664547, 68.86850436152008, 68.75587299263447, 68.93757465314502, 68.90078096981637, 69.03256949052741, 69.22632487740188, 68.56054277817961, 68.52429599092227, 68.55962843769328, 69.21784961272078, 67.75342480471147, 68.01229391238508, 67.91212942827514, 68.3367892571772, 68.52079978372436, 68.63810405029085, 69.20109018706447, 69.48891994939439, 69.89298951004409, 69.61459584733706, 69.90463449109549, 71.19060162079748, 71.59287064547755, 71.89794226716575, 71.98287573111219, 71.6970209814204, 70.58130282687841, 70.33201536970029, 70.92554647580843, 70.46698800396214, 70.14870507706206, 70.1926820977572, 70.65563004630798, 69.87157958828092, 70.26477711359834, 70.23599372747981, 70.86831076843475, 70.39208844296789, 69.50775732703929, 69.96007504937427, 68.88615130711102, 69.18067724795739, 68.62553194157559, 69.14449811004101, 68.63987458947341, 69.30767070470972, 69.62962874475716, 69.64877682712952, 70.57912361946302, 71.1308978449847, 71.925187864137, 72.5463495286447, 72.65554876807047, 73.23515385442079, 73.66415985735497, 73.44680127446267, 73.47698652278379, 73.98356362572238, 73.83899648991351, 73.23896691041597, 73.22409391251574, 72.88456138533027, 72.72247566558488, 72.48968905308817, 72.33841622457746, 72.63234720497334, 72.35688927483045, 72.63599335108563, 72.39829881460963, 71.58509265235423, 72.44557964845558, 73.19767023069781, 72.84615159299969, 73.3282816474559, 72.41328157732394, 72.46163615761031, 72.29784597864383, 73.04006541204984, 72.64783378577425, 72.6506817219709, 72.71165347200119, 72.68723365611328, 72.8546838092958, 73.64602633429669, 74.17132551854115, 73.60105775707095, 73.50400085851797, 73.39867881871987, 74.07835855484592, 73.84032957654784, 74.48941024339183, 74.3955788906787, 74.78068168509475, 74.51080934451963, 75.01717069669272, 74.91202539440599, 75.18035106537425, 74.84341156570227, 74.34413755484604, 74.48912781524893, 73.58830046265845, 73.55111183544395, 73.95046775168734, 73.79458037181612, 74.21971029011985, 74.32652663603088, 74.00992647293413, 74.41679991179606, 75.41453025584013, 75.42357531841739, 75.7873017185986, 75.8953141638656, 76.01198117791117, 76.63316742211134, 77.00821405537158, 77.17668078768503, 77.23060796074753, 77.29947242477235, 77.57180889428955, 78.30450032356819, 78.35020335292893, 78.45253972758621, 78.35699169451053, 78.48546067083302, 82.30608691062912, 82.3169369390061, 82.0397977962696, 82.48454409702686, 83.16057769715468, 83.32139401284553, 84.0046575320853, 83.90987623486362, 84.10976130749705, 83.79903843771751, 83.71825759317755, 83.78473332881566, 83.84643245810557, 83.01442390914252, 83.21823364636691, 82.52931303105547, 82.54959364972498, 83.41158499101095, 82.8462461371821, 82.95154707380695, 83.46997937673808, 84.12427088358368, 83.03270365543852, 83.8652856376641, 83.88992362476046, 81.4625970664367, 82.04798078113015, 82.823127636339, 82.2400851434823, 83.62415238344775, 84.38844318746274, 84.4622254808269, 84.55115654962177, 84.27784696123518, 85.97131056025984, 85.69349398471815, 85.43438491747301, 85.38664657699954, 85.30092778299368, 85.25708686779714, 85.29728543304535, 85.47129228512452, 85.41358951540792, 85.25916018881992, 85.59393014048365, 85.87794836401, 86.44396812240527, 87.31274708076825, 87.42824473237442, 87.50242831038159, 87.35598249682255, 87.63432866241806, 88.83794957918582, 87.93671048038797, 89.39903916514848, 89.3848352384268, 89.2882043030124, 90.69790124863786, 90.97712445204232, 90.93759395238902, 91.6119547358559, 92.93130435674317], \"yaxis\": \"y\"}],\n",
              "                        {\"legend\": {\"tracegroupgap\": 0}, \"margin\": {\"t\": 60}, \"template\": {\"data\": {\"scatter\": [{\"type\": \"scatter\"}]}}, \"xaxis\": {\"anchor\": \"y\", \"domain\": [0.0, 1.0], \"title\": {\"text\": \"x\"}}, \"yaxis\": {\"anchor\": \"x\", \"domain\": [0.0, 1.0], \"title\": {\"text\": \"y\"}}},\n",
              "                        {\"responsive\": true}\n",
              "                    ).then(function(){\n",
              "                            \n",
              "var gd = document.getElementById('c9d129d9-8ba2-4c63-9a72-0dac0ce102a7');\n",
              "var x = new MutationObserver(function (mutations, observer) {{\n",
              "        var display = window.getComputedStyle(gd).display;\n",
              "        if (!display || display === 'none') {{\n",
              "            console.log([gd, 'removed!']);\n",
              "            Plotly.purge(gd);\n",
              "            observer.disconnect();\n",
              "        }}\n",
              "}});\n",
              "\n",
              "// Listen for the removal of the full notebook cells\n",
              "var notebookContainer = gd.closest('#notebook-container');\n",
              "if (notebookContainer) {{\n",
              "    x.observe(notebookContainer, {childList: true});\n",
              "}}\n",
              "\n",
              "// Listen for the clearing of the current output cell\n",
              "var outputEl = gd.closest('.output');\n",
              "if (outputEl) {{\n",
              "    x.observe(outputEl, {childList: true});\n",
              "}}\n",
              "\n",
              "                        })\n",
              "                };\n",
              "                \n",
              "            </script>\n",
              "        </div>\n",
              "</body>\n",
              "</html>"
            ]
          },
          "metadata": {
            "tags": []
          }
        }
      ]
    },
    {
      "cell_type": "code",
      "metadata": {
        "colab": {
          "base_uri": "https://localhost:8080/"
        },
        "id": "HBdd13k7dals",
        "outputId": "c60b4f06-8c30-4a75-95a1-e21fc43cf06a"
      },
      "source": [
        "model = DecisionTreeRegressor()\n",
        "model.fit(X_train, y_train)\n",
        "predictions = model.predict(X_test)\n",
        "get_scores(y_test, predictions)"
      ],
      "execution_count": 64,
      "outputs": [
        {
          "output_type": "stream",
          "text": [
            "R-Squared: -2.009230989625027\n",
            "MAE: 11.683654618473899\n",
            "RMSE: 14.291156405470572\n"
          ],
          "name": "stdout"
        }
      ]
    },
    {
      "cell_type": "code",
      "metadata": {
        "colab": {
          "base_uri": "https://localhost:8080/"
        },
        "id": "QF2dCFtUeJj0",
        "outputId": "10cac951-5f7c-403a-8014-89d11a96694e"
      },
      "source": [
        "sorted(zip(model.feature_importances_, X_train.columns), reverse=True)"
      ],
      "execution_count": 65,
      "outputs": [
        {
          "output_type": "execute_result",
          "data": {
            "text/plain": [
              "[(0.9418776859264845, 't-8'),\n",
              " (0.026707698546937903, 't-11'),\n",
              " (0.01512508287887898, 't-14'),\n",
              " (0.005108074549272794, 't-10'),\n",
              " (0.004245312104199292, 't-9'),\n",
              " (0.0038183889185095265, 't-12'),\n",
              " (0.0031177570757170226, 't-13')]"
            ]
          },
          "metadata": {
            "tags": []
          },
          "execution_count": 65
        }
      ]
    },
    {
      "cell_type": "code",
      "metadata": {
        "colab": {
          "base_uri": "https://localhost:8080/",
          "height": 198
        },
        "id": "oxDg_tvkd8bT",
        "outputId": "d97190db-0e23-4885-dbfb-62736b0769ef"
      },
      "source": [
        "data.head()"
      ],
      "execution_count": 96,
      "outputs": [
        {
          "output_type": "execute_result",
          "data": {
            "text/html": [
              "<div>\n",
              "<style scoped>\n",
              "    .dataframe tbody tr th:only-of-type {\n",
              "        vertical-align: middle;\n",
              "    }\n",
              "\n",
              "    .dataframe tbody tr th {\n",
              "        vertical-align: top;\n",
              "    }\n",
              "\n",
              "    .dataframe thead th {\n",
              "        text-align: right;\n",
              "    }\n",
              "</style>\n",
              "<table border=\"1\" class=\"dataframe\">\n",
              "  <thead>\n",
              "    <tr style=\"text-align: right;\">\n",
              "      <th></th>\n",
              "      <th>date</th>\n",
              "      <th>close</th>\n",
              "      <th>t-8</th>\n",
              "      <th>t-9</th>\n",
              "      <th>t-10</th>\n",
              "      <th>t-11</th>\n",
              "      <th>t-12</th>\n",
              "      <th>t-13</th>\n",
              "      <th>t-14</th>\n",
              "    </tr>\n",
              "  </thead>\n",
              "  <tbody>\n",
              "    <tr>\n",
              "      <th>14</th>\n",
              "      <td>2013-03-01</td>\n",
              "      <td>27.95</td>\n",
              "      <td>28.045</td>\n",
              "      <td>28.010</td>\n",
              "      <td>28.040</td>\n",
              "      <td>28.030</td>\n",
              "      <td>27.880</td>\n",
              "      <td>27.86</td>\n",
              "      <td>27.55</td>\n",
              "    </tr>\n",
              "    <tr>\n",
              "      <th>15</th>\n",
              "      <td>2013-03-04</td>\n",
              "      <td>28.15</td>\n",
              "      <td>27.870</td>\n",
              "      <td>28.045</td>\n",
              "      <td>28.010</td>\n",
              "      <td>28.040</td>\n",
              "      <td>28.030</td>\n",
              "      <td>27.88</td>\n",
              "      <td>27.86</td>\n",
              "    </tr>\n",
              "    <tr>\n",
              "      <th>16</th>\n",
              "      <td>2013-03-05</td>\n",
              "      <td>28.35</td>\n",
              "      <td>27.490</td>\n",
              "      <td>27.870</td>\n",
              "      <td>28.045</td>\n",
              "      <td>28.010</td>\n",
              "      <td>28.040</td>\n",
              "      <td>28.03</td>\n",
              "      <td>27.88</td>\n",
              "    </tr>\n",
              "    <tr>\n",
              "      <th>17</th>\n",
              "      <td>2013-03-06</td>\n",
              "      <td>28.09</td>\n",
              "      <td>27.760</td>\n",
              "      <td>27.490</td>\n",
              "      <td>27.870</td>\n",
              "      <td>28.045</td>\n",
              "      <td>28.010</td>\n",
              "      <td>28.04</td>\n",
              "      <td>28.03</td>\n",
              "    </tr>\n",
              "    <tr>\n",
              "      <th>18</th>\n",
              "      <td>2013-03-07</td>\n",
              "      <td>28.14</td>\n",
              "      <td>27.370</td>\n",
              "      <td>27.760</td>\n",
              "      <td>27.490</td>\n",
              "      <td>27.870</td>\n",
              "      <td>28.045</td>\n",
              "      <td>28.01</td>\n",
              "      <td>28.04</td>\n",
              "    </tr>\n",
              "  </tbody>\n",
              "</table>\n",
              "</div>"
            ],
            "text/plain": [
              "         date  close     t-8     t-9    t-10    t-11    t-12   t-13   t-14\n",
              "14 2013-03-01  27.95  28.045  28.010  28.040  28.030  27.880  27.86  27.55\n",
              "15 2013-03-04  28.15  27.870  28.045  28.010  28.040  28.030  27.88  27.86\n",
              "16 2013-03-05  28.35  27.490  27.870  28.045  28.010  28.040  28.03  27.88\n",
              "17 2013-03-06  28.09  27.760  27.490  27.870  28.045  28.010  28.04  28.03\n",
              "18 2013-03-07  28.14  27.370  27.760  27.490  27.870  28.045  28.01  28.04"
            ]
          },
          "metadata": {
            "tags": []
          },
          "execution_count": 96
        }
      ]
    },
    {
      "cell_type": "code",
      "metadata": {
        "id": "co3yExupi1TP"
      },
      "source": [
        "history = 7\n",
        "future = 5\n",
        "\n",
        "shifted = data.copy()[['close']]\n",
        "shifted.columns = ['t+0']"
      ],
      "execution_count": 100,
      "outputs": []
    },
    {
      "cell_type": "code",
      "metadata": {
        "colab": {
          "base_uri": "https://localhost:8080/",
          "height": 407
        },
        "id": "RGlOwKusjpL4",
        "outputId": "e7e222ad-8902-4e74-ccce-37b7985ba8ee"
      },
      "source": [
        "shifted"
      ],
      "execution_count": 101,
      "outputs": [
        {
          "output_type": "execute_result",
          "data": {
            "text/html": [
              "<div>\n",
              "<style scoped>\n",
              "    .dataframe tbody tr th:only-of-type {\n",
              "        vertical-align: middle;\n",
              "    }\n",
              "\n",
              "    .dataframe tbody tr th {\n",
              "        vertical-align: top;\n",
              "    }\n",
              "\n",
              "    .dataframe thead th {\n",
              "        text-align: right;\n",
              "    }\n",
              "</style>\n",
              "<table border=\"1\" class=\"dataframe\">\n",
              "  <thead>\n",
              "    <tr style=\"text-align: right;\">\n",
              "      <th></th>\n",
              "      <th>t+0</th>\n",
              "    </tr>\n",
              "  </thead>\n",
              "  <tbody>\n",
              "    <tr>\n",
              "      <th>14</th>\n",
              "      <td>27.95</td>\n",
              "    </tr>\n",
              "    <tr>\n",
              "      <th>15</th>\n",
              "      <td>28.15</td>\n",
              "    </tr>\n",
              "    <tr>\n",
              "      <th>16</th>\n",
              "      <td>28.35</td>\n",
              "    </tr>\n",
              "    <tr>\n",
              "      <th>17</th>\n",
              "      <td>28.09</td>\n",
              "    </tr>\n",
              "    <tr>\n",
              "      <th>18</th>\n",
              "      <td>28.14</td>\n",
              "    </tr>\n",
              "    <tr>\n",
              "      <th>...</th>\n",
              "      <td>...</td>\n",
              "    </tr>\n",
              "    <tr>\n",
              "      <th>1254</th>\n",
              "      <td>94.26</td>\n",
              "    </tr>\n",
              "    <tr>\n",
              "      <th>1255</th>\n",
              "      <td>91.78</td>\n",
              "    </tr>\n",
              "    <tr>\n",
              "      <th>1256</th>\n",
              "      <td>88.00</td>\n",
              "    </tr>\n",
              "    <tr>\n",
              "      <th>1257</th>\n",
              "      <td>91.33</td>\n",
              "    </tr>\n",
              "    <tr>\n",
              "      <th>1258</th>\n",
              "      <td>89.61</td>\n",
              "    </tr>\n",
              "  </tbody>\n",
              "</table>\n",
              "<p>1245 rows × 1 columns</p>\n",
              "</div>"
            ],
            "text/plain": [
              "        t+0\n",
              "14    27.95\n",
              "15    28.15\n",
              "16    28.35\n",
              "17    28.09\n",
              "18    28.14\n",
              "...     ...\n",
              "1254  94.26\n",
              "1255  91.78\n",
              "1256  88.00\n",
              "1257  91.33\n",
              "1258  89.61\n",
              "\n",
              "[1245 rows x 1 columns]"
            ]
          },
          "metadata": {
            "tags": []
          },
          "execution_count": 101
        }
      ]
    },
    {
      "cell_type": "code",
      "metadata": {
        "id": "yS6WgfM9ji2Y"
      },
      "source": [
        "past_shifts = [x for x in range(1, history+1)]\n",
        "future_shifts = [x for x in range(1, future)]\n",
        "\n",
        "for shift in past_shifts:\n",
        "  shifted[f't-{shift}'] = shifted['t+0'].shift(shift)\n",
        "\n",
        "for shift in future_shifts:\n",
        "  shifted[f't+{shift}'] = shifted['t+0'].shift(-shift)"
      ],
      "execution_count": 103,
      "outputs": []
    },
    {
      "cell_type": "code",
      "metadata": {
        "colab": {
          "base_uri": "https://localhost:8080/",
          "height": 198
        },
        "id": "p798lGa_jzYQ",
        "outputId": "e4d84103-786c-4daf-babc-032ce3e9ef8c"
      },
      "source": [
        "shifted.head()"
      ],
      "execution_count": 104,
      "outputs": [
        {
          "output_type": "execute_result",
          "data": {
            "text/html": [
              "<div>\n",
              "<style scoped>\n",
              "    .dataframe tbody tr th:only-of-type {\n",
              "        vertical-align: middle;\n",
              "    }\n",
              "\n",
              "    .dataframe tbody tr th {\n",
              "        vertical-align: top;\n",
              "    }\n",
              "\n",
              "    .dataframe thead th {\n",
              "        text-align: right;\n",
              "    }\n",
              "</style>\n",
              "<table border=\"1\" class=\"dataframe\">\n",
              "  <thead>\n",
              "    <tr style=\"text-align: right;\">\n",
              "      <th></th>\n",
              "      <th>t+0</th>\n",
              "      <th>t-1</th>\n",
              "      <th>t-2</th>\n",
              "      <th>t-3</th>\n",
              "      <th>t-4</th>\n",
              "      <th>t-5</th>\n",
              "      <th>t-6</th>\n",
              "      <th>t-7</th>\n",
              "      <th>t+1</th>\n",
              "      <th>t+2</th>\n",
              "      <th>t+3</th>\n",
              "      <th>t+4</th>\n",
              "    </tr>\n",
              "  </thead>\n",
              "  <tbody>\n",
              "    <tr>\n",
              "      <th>14</th>\n",
              "      <td>27.95</td>\n",
              "      <td>NaN</td>\n",
              "      <td>NaN</td>\n",
              "      <td>NaN</td>\n",
              "      <td>NaN</td>\n",
              "      <td>NaN</td>\n",
              "      <td>NaN</td>\n",
              "      <td>NaN</td>\n",
              "      <td>28.15</td>\n",
              "      <td>28.35</td>\n",
              "      <td>28.09</td>\n",
              "      <td>28.140</td>\n",
              "    </tr>\n",
              "    <tr>\n",
              "      <th>15</th>\n",
              "      <td>28.15</td>\n",
              "      <td>27.95</td>\n",
              "      <td>NaN</td>\n",
              "      <td>NaN</td>\n",
              "      <td>NaN</td>\n",
              "      <td>NaN</td>\n",
              "      <td>NaN</td>\n",
              "      <td>NaN</td>\n",
              "      <td>28.35</td>\n",
              "      <td>28.09</td>\n",
              "      <td>28.14</td>\n",
              "      <td>28.000</td>\n",
              "    </tr>\n",
              "    <tr>\n",
              "      <th>16</th>\n",
              "      <td>28.35</td>\n",
              "      <td>28.15</td>\n",
              "      <td>27.95</td>\n",
              "      <td>NaN</td>\n",
              "      <td>NaN</td>\n",
              "      <td>NaN</td>\n",
              "      <td>NaN</td>\n",
              "      <td>NaN</td>\n",
              "      <td>28.09</td>\n",
              "      <td>28.14</td>\n",
              "      <td>28.00</td>\n",
              "      <td>27.870</td>\n",
              "    </tr>\n",
              "    <tr>\n",
              "      <th>17</th>\n",
              "      <td>28.09</td>\n",
              "      <td>28.35</td>\n",
              "      <td>28.15</td>\n",
              "      <td>27.95</td>\n",
              "      <td>NaN</td>\n",
              "      <td>NaN</td>\n",
              "      <td>NaN</td>\n",
              "      <td>NaN</td>\n",
              "      <td>28.14</td>\n",
              "      <td>28.00</td>\n",
              "      <td>27.87</td>\n",
              "      <td>27.910</td>\n",
              "    </tr>\n",
              "    <tr>\n",
              "      <th>18</th>\n",
              "      <td>28.14</td>\n",
              "      <td>28.09</td>\n",
              "      <td>28.35</td>\n",
              "      <td>28.15</td>\n",
              "      <td>27.95</td>\n",
              "      <td>NaN</td>\n",
              "      <td>NaN</td>\n",
              "      <td>NaN</td>\n",
              "      <td>28.00</td>\n",
              "      <td>27.87</td>\n",
              "      <td>27.91</td>\n",
              "      <td>27.915</td>\n",
              "    </tr>\n",
              "  </tbody>\n",
              "</table>\n",
              "</div>"
            ],
            "text/plain": [
              "      t+0    t-1    t-2    t-3    t-4  ...  t-7    t+1    t+2    t+3     t+4\n",
              "14  27.95    NaN    NaN    NaN    NaN  ...  NaN  28.15  28.35  28.09  28.140\n",
              "15  28.15  27.95    NaN    NaN    NaN  ...  NaN  28.35  28.09  28.14  28.000\n",
              "16  28.35  28.15  27.95    NaN    NaN  ...  NaN  28.09  28.14  28.00  27.870\n",
              "17  28.09  28.35  28.15  27.95    NaN  ...  NaN  28.14  28.00  27.87  27.910\n",
              "18  28.14  28.09  28.35  28.15  27.95  ...  NaN  28.00  27.87  27.91  27.915\n",
              "\n",
              "[5 rows x 12 columns]"
            ]
          },
          "metadata": {
            "tags": []
          },
          "execution_count": 104
        }
      ]
    },
    {
      "cell_type": "code",
      "metadata": {
        "colab": {
          "base_uri": "https://localhost:8080/",
          "height": 218
        },
        "id": "DS7YDu69j8ER",
        "outputId": "32e3e3bb-6433-4240-e274-87dbeb6da98e"
      },
      "source": [
        "shifted.dropna(inplace=True)\n",
        "shifted.head()"
      ],
      "execution_count": 105,
      "outputs": [
        {
          "output_type": "execute_result",
          "data": {
            "text/html": [
              "<div>\n",
              "<style scoped>\n",
              "    .dataframe tbody tr th:only-of-type {\n",
              "        vertical-align: middle;\n",
              "    }\n",
              "\n",
              "    .dataframe tbody tr th {\n",
              "        vertical-align: top;\n",
              "    }\n",
              "\n",
              "    .dataframe thead th {\n",
              "        text-align: right;\n",
              "    }\n",
              "</style>\n",
              "<table border=\"1\" class=\"dataframe\">\n",
              "  <thead>\n",
              "    <tr style=\"text-align: right;\">\n",
              "      <th></th>\n",
              "      <th>t+0</th>\n",
              "      <th>t-1</th>\n",
              "      <th>t-2</th>\n",
              "      <th>t-3</th>\n",
              "      <th>t-4</th>\n",
              "      <th>t-5</th>\n",
              "      <th>t-6</th>\n",
              "      <th>t-7</th>\n",
              "      <th>t+1</th>\n",
              "      <th>t+2</th>\n",
              "      <th>t+3</th>\n",
              "      <th>t+4</th>\n",
              "    </tr>\n",
              "  </thead>\n",
              "  <tbody>\n",
              "    <tr>\n",
              "      <th>21</th>\n",
              "      <td>27.910</td>\n",
              "      <td>27.870</td>\n",
              "      <td>28.000</td>\n",
              "      <td>28.140</td>\n",
              "      <td>28.09</td>\n",
              "      <td>28.35</td>\n",
              "      <td>28.15</td>\n",
              "      <td>27.95</td>\n",
              "      <td>27.915</td>\n",
              "      <td>28.135</td>\n",
              "      <td>28.035</td>\n",
              "      <td>28.100</td>\n",
              "    </tr>\n",
              "    <tr>\n",
              "      <th>22</th>\n",
              "      <td>27.915</td>\n",
              "      <td>27.910</td>\n",
              "      <td>27.870</td>\n",
              "      <td>28.000</td>\n",
              "      <td>28.14</td>\n",
              "      <td>28.09</td>\n",
              "      <td>28.35</td>\n",
              "      <td>28.15</td>\n",
              "      <td>28.135</td>\n",
              "      <td>28.035</td>\n",
              "      <td>28.100</td>\n",
              "      <td>28.180</td>\n",
              "    </tr>\n",
              "    <tr>\n",
              "      <th>23</th>\n",
              "      <td>28.135</td>\n",
              "      <td>27.915</td>\n",
              "      <td>27.910</td>\n",
              "      <td>27.870</td>\n",
              "      <td>28.00</td>\n",
              "      <td>28.14</td>\n",
              "      <td>28.09</td>\n",
              "      <td>28.35</td>\n",
              "      <td>28.035</td>\n",
              "      <td>28.100</td>\n",
              "      <td>28.180</td>\n",
              "      <td>28.315</td>\n",
              "    </tr>\n",
              "    <tr>\n",
              "      <th>24</th>\n",
              "      <td>28.035</td>\n",
              "      <td>28.135</td>\n",
              "      <td>27.915</td>\n",
              "      <td>27.910</td>\n",
              "      <td>27.87</td>\n",
              "      <td>28.00</td>\n",
              "      <td>28.14</td>\n",
              "      <td>28.09</td>\n",
              "      <td>28.100</td>\n",
              "      <td>28.180</td>\n",
              "      <td>28.315</td>\n",
              "      <td>28.110</td>\n",
              "    </tr>\n",
              "    <tr>\n",
              "      <th>25</th>\n",
              "      <td>28.100</td>\n",
              "      <td>28.035</td>\n",
              "      <td>28.135</td>\n",
              "      <td>27.915</td>\n",
              "      <td>27.91</td>\n",
              "      <td>27.87</td>\n",
              "      <td>28.00</td>\n",
              "      <td>28.14</td>\n",
              "      <td>28.180</td>\n",
              "      <td>28.315</td>\n",
              "      <td>28.110</td>\n",
              "      <td>28.250</td>\n",
              "    </tr>\n",
              "  </tbody>\n",
              "</table>\n",
              "</div>"
            ],
            "text/plain": [
              "       t+0     t-1     t-2     t-3  ...     t+1     t+2     t+3     t+4\n",
              "21  27.910  27.870  28.000  28.140  ...  27.915  28.135  28.035  28.100\n",
              "22  27.915  27.910  27.870  28.000  ...  28.135  28.035  28.100  28.180\n",
              "23  28.135  27.915  27.910  27.870  ...  28.035  28.100  28.180  28.315\n",
              "24  28.035  28.135  27.915  27.910  ...  28.100  28.180  28.315  28.110\n",
              "25  28.100  28.035  28.135  27.915  ...  28.180  28.315  28.110  28.250\n",
              "\n",
              "[5 rows x 12 columns]"
            ]
          },
          "metadata": {
            "tags": []
          },
          "execution_count": 105
        }
      ]
    },
    {
      "cell_type": "code",
      "metadata": {
        "colab": {
          "base_uri": "https://localhost:8080/",
          "height": 407
        },
        "id": "KgHanbAnkA4R",
        "outputId": "313dff44-a5df-416b-af02-dabd6698fbac"
      },
      "source": [
        "X = shifted[[f't-{shift}' for shift in past_shifts]]\n",
        "X"
      ],
      "execution_count": 106,
      "outputs": [
        {
          "output_type": "execute_result",
          "data": {
            "text/html": [
              "<div>\n",
              "<style scoped>\n",
              "    .dataframe tbody tr th:only-of-type {\n",
              "        vertical-align: middle;\n",
              "    }\n",
              "\n",
              "    .dataframe tbody tr th {\n",
              "        vertical-align: top;\n",
              "    }\n",
              "\n",
              "    .dataframe thead th {\n",
              "        text-align: right;\n",
              "    }\n",
              "</style>\n",
              "<table border=\"1\" class=\"dataframe\">\n",
              "  <thead>\n",
              "    <tr style=\"text-align: right;\">\n",
              "      <th></th>\n",
              "      <th>t-1</th>\n",
              "      <th>t-2</th>\n",
              "      <th>t-3</th>\n",
              "      <th>t-4</th>\n",
              "      <th>t-5</th>\n",
              "      <th>t-6</th>\n",
              "      <th>t-7</th>\n",
              "    </tr>\n",
              "  </thead>\n",
              "  <tbody>\n",
              "    <tr>\n",
              "      <th>21</th>\n",
              "      <td>27.870</td>\n",
              "      <td>28.000</td>\n",
              "      <td>28.140</td>\n",
              "      <td>28.09</td>\n",
              "      <td>28.35</td>\n",
              "      <td>28.15</td>\n",
              "      <td>27.95</td>\n",
              "    </tr>\n",
              "    <tr>\n",
              "      <th>22</th>\n",
              "      <td>27.910</td>\n",
              "      <td>27.870</td>\n",
              "      <td>28.000</td>\n",
              "      <td>28.14</td>\n",
              "      <td>28.09</td>\n",
              "      <td>28.35</td>\n",
              "      <td>28.15</td>\n",
              "    </tr>\n",
              "    <tr>\n",
              "      <th>23</th>\n",
              "      <td>27.915</td>\n",
              "      <td>27.910</td>\n",
              "      <td>27.870</td>\n",
              "      <td>28.00</td>\n",
              "      <td>28.14</td>\n",
              "      <td>28.09</td>\n",
              "      <td>28.35</td>\n",
              "    </tr>\n",
              "    <tr>\n",
              "      <th>24</th>\n",
              "      <td>28.135</td>\n",
              "      <td>27.915</td>\n",
              "      <td>27.910</td>\n",
              "      <td>27.87</td>\n",
              "      <td>28.00</td>\n",
              "      <td>28.14</td>\n",
              "      <td>28.09</td>\n",
              "    </tr>\n",
              "    <tr>\n",
              "      <th>25</th>\n",
              "      <td>28.035</td>\n",
              "      <td>28.135</td>\n",
              "      <td>27.915</td>\n",
              "      <td>27.91</td>\n",
              "      <td>27.87</td>\n",
              "      <td>28.00</td>\n",
              "      <td>28.14</td>\n",
              "    </tr>\n",
              "    <tr>\n",
              "      <th>...</th>\n",
              "      <td>...</td>\n",
              "      <td>...</td>\n",
              "      <td>...</td>\n",
              "      <td>...</td>\n",
              "      <td>...</td>\n",
              "      <td>...</td>\n",
              "      <td>...</td>\n",
              "    </tr>\n",
              "    <tr>\n",
              "      <th>1250</th>\n",
              "      <td>92.330</td>\n",
              "      <td>91.820</td>\n",
              "      <td>91.900</td>\n",
              "      <td>91.61</td>\n",
              "      <td>90.00</td>\n",
              "      <td>90.10</td>\n",
              "      <td>90.14</td>\n",
              "    </tr>\n",
              "    <tr>\n",
              "      <th>1251</th>\n",
              "      <td>94.060</td>\n",
              "      <td>92.330</td>\n",
              "      <td>91.820</td>\n",
              "      <td>91.90</td>\n",
              "      <td>91.61</td>\n",
              "      <td>90.00</td>\n",
              "      <td>90.10</td>\n",
              "    </tr>\n",
              "    <tr>\n",
              "      <th>1252</th>\n",
              "      <td>93.920</td>\n",
              "      <td>94.060</td>\n",
              "      <td>92.330</td>\n",
              "      <td>91.82</td>\n",
              "      <td>91.90</td>\n",
              "      <td>91.61</td>\n",
              "      <td>90.00</td>\n",
              "    </tr>\n",
              "    <tr>\n",
              "      <th>1253</th>\n",
              "      <td>92.740</td>\n",
              "      <td>93.920</td>\n",
              "      <td>94.060</td>\n",
              "      <td>92.33</td>\n",
              "      <td>91.82</td>\n",
              "      <td>91.90</td>\n",
              "      <td>91.61</td>\n",
              "    </tr>\n",
              "    <tr>\n",
              "      <th>1254</th>\n",
              "      <td>95.010</td>\n",
              "      <td>92.740</td>\n",
              "      <td>93.920</td>\n",
              "      <td>94.06</td>\n",
              "      <td>92.33</td>\n",
              "      <td>91.82</td>\n",
              "      <td>91.90</td>\n",
              "    </tr>\n",
              "  </tbody>\n",
              "</table>\n",
              "<p>1234 rows × 7 columns</p>\n",
              "</div>"
            ],
            "text/plain": [
              "         t-1     t-2     t-3    t-4    t-5    t-6    t-7\n",
              "21    27.870  28.000  28.140  28.09  28.35  28.15  27.95\n",
              "22    27.910  27.870  28.000  28.14  28.09  28.35  28.15\n",
              "23    27.915  27.910  27.870  28.00  28.14  28.09  28.35\n",
              "24    28.135  27.915  27.910  27.87  28.00  28.14  28.09\n",
              "25    28.035  28.135  27.915  27.91  27.87  28.00  28.14\n",
              "...      ...     ...     ...    ...    ...    ...    ...\n",
              "1250  92.330  91.820  91.900  91.61  90.00  90.10  90.14\n",
              "1251  94.060  92.330  91.820  91.90  91.61  90.00  90.10\n",
              "1252  93.920  94.060  92.330  91.82  91.90  91.61  90.00\n",
              "1253  92.740  93.920  94.060  92.33  91.82  91.90  91.61\n",
              "1254  95.010  92.740  93.920  94.06  92.33  91.82  91.90\n",
              "\n",
              "[1234 rows x 7 columns]"
            ]
          },
          "metadata": {
            "tags": []
          },
          "execution_count": 106
        }
      ]
    },
    {
      "cell_type": "code",
      "metadata": {
        "id": "rKd1Yx4ckVWC"
      },
      "source": [
        "future_shifts = [0] + future_shifts"
      ],
      "execution_count": 107,
      "outputs": []
    },
    {
      "cell_type": "code",
      "metadata": {
        "colab": {
          "base_uri": "https://localhost:8080/"
        },
        "id": "_ZOQDKOokeeo",
        "outputId": "a83e57c5-1402-4564-d8ae-2c296f17c37d"
      },
      "source": [
        "models = []\n",
        "\n",
        "for future_shift in future_shifts:\n",
        "  y = shifted[f't+{future_shift}']\n",
        "  X_train, X_test, y_train, y_test = train_test_split(X, y, test_size=0.2, shuffle=False)\n",
        "\n",
        "  model = RandomForestRegressor()\n",
        "  model.fit(X_train, y_train)\n",
        "\n",
        "  predictions = model.predict(X_test)\n",
        "\n",
        "  get_scores(y_test, predictions)\n",
        "\n",
        "  pickled_2 = pickle.dump(model, open(f'model_{future_shift}.pkl', 'wb'))\n",
        "  models.append(pickled_2)"
      ],
      "execution_count": 125,
      "outputs": [
        {
          "output_type": "stream",
          "text": [
            "R-Squared: -1.6218431492319576\n",
            "MAE: 10.324088663967643\n",
            "RMSE: 13.097017001699058\n",
            "R-Squared: -1.8265891495247497\n",
            "MAE: 11.012155060728707\n",
            "RMSE: 13.676319452390882\n",
            "R-Squared: -1.820288444416911\n",
            "MAE: 11.00742550607279\n",
            "RMSE: 13.687285354085672\n",
            "R-Squared: -1.7806201631838956\n",
            "MAE: 10.951906072874431\n",
            "RMSE: 13.661712959683795\n",
            "R-Squared: -1.6930808042802141\n",
            "MAE: 10.73177085020241\n",
            "RMSE: 13.489366289584346\n"
          ],
          "name": "stdout"
        }
      ]
    },
    {
      "cell_type": "code",
      "metadata": {
        "colab": {
          "base_uri": "https://localhost:8080/",
          "height": 200
        },
        "id": "gTOYVq0Il5KA",
        "outputId": "238ce923-0afb-4a95-b06d-51b26c79feb8"
      },
      "source": [
        "models[0].predict(X_test)"
      ],
      "execution_count": 127,
      "outputs": [
        {
          "output_type": "error",
          "ename": "AttributeError",
          "evalue": "ignored",
          "traceback": [
            "\u001b[0;31m---------------------------------------------------------------------------\u001b[0m",
            "\u001b[0;31mAttributeError\u001b[0m                            Traceback (most recent call last)",
            "\u001b[0;32m<ipython-input-127-37aeff176b05>\u001b[0m in \u001b[0;36m<module>\u001b[0;34m()\u001b[0m\n\u001b[0;32m----> 1\u001b[0;31m \u001b[0mmodels\u001b[0m\u001b[0;34m[\u001b[0m\u001b[0;36m0\u001b[0m\u001b[0;34m]\u001b[0m\u001b[0;34m.\u001b[0m\u001b[0mpredict\u001b[0m\u001b[0;34m(\u001b[0m\u001b[0mX_test\u001b[0m\u001b[0;34m)\u001b[0m\u001b[0;34m\u001b[0m\u001b[0;34m\u001b[0m\u001b[0m\n\u001b[0m",
            "\u001b[0;31mAttributeError\u001b[0m: 'NoneType' object has no attribute 'predict'"
          ]
        }
      ]
    },
    {
      "cell_type": "code",
      "metadata": {
        "colab": {
          "base_uri": "https://localhost:8080/"
        },
        "id": "BwqjLcOWm7Qb",
        "outputId": "135dc812-feb8-40a6-c5bd-c8386eb97e09"
      },
      "source": [
        "model_0 = pickle.load(open('model_0.pkl', 'rb'))\n",
        "result = model_0.score(X_test, y_test)\n",
        "result"
      ],
      "execution_count": 130,
      "outputs": [
        {
          "output_type": "execute_result",
          "data": {
            "text/plain": [
              "-1.7007467271482586"
            ]
          },
          "metadata": {
            "tags": []
          },
          "execution_count": 130
        }
      ]
    },
    {
      "cell_type": "code",
      "metadata": {
        "id": "OzNSQo6HnGE3"
      },
      "source": [
        ""
      ],
      "execution_count": null,
      "outputs": []
    }
  ]
}