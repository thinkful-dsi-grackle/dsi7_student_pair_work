{
  "nbformat": 4,
  "nbformat_minor": 0,
  "metadata": {
    "kernelspec": {
      "display_name": "Python 3",
      "language": "python",
      "name": "python3"
    },
    "language_info": {
      "codemirror_mode": {
        "name": "ipython",
        "version": 3
      },
      "file_extension": ".py",
      "mimetype": "text/x-python",
      "name": "python",
      "nbconvert_exporter": "python",
      "pygments_lexer": "ipython3",
      "version": "3.7.2"
    },
    "colab": {
      "name": "Time_Series_D5_L2_Assignment_Barrett.ipynb",
      "provenance": []
    }
  },
  "cells": [
    {
      "cell_type": "markdown",
      "metadata": {
        "id": "11QJImz-qfRa"
      },
      "source": [
        "# Time Series Classification and Clustering Assignment"
      ]
    },
    {
      "cell_type": "code",
      "metadata": {
        "id": "KqJPmihAqfRe"
      },
      "source": [
        "import pandas as pd\n",
        "import numpy as np\n",
        "\n",
        "import seaborn as sns\n",
        "import matplotlib.pyplot as plt\n",
        "from sklearn.model_selection import train_test_split\n",
        "from sklearn.linear_model import LogisticRegression\n",
        "from sklearn.metrics import classification_report, plot_confusion_matrix\n",
        "from sklearn.cluster import KMeans\n",
        "\n",
        "%matplotlib inline"
      ],
      "execution_count": 39,
      "outputs": []
    },
    {
      "cell_type": "markdown",
      "metadata": {
        "id": "3a4A4KfMqfRj"
      },
      "source": [
        "### Import the Walmart stock price data set (WMT_data.csv)."
      ]
    },
    {
      "cell_type": "code",
      "metadata": {
        "id": "hvnc07SXqfRk"
      },
      "source": [
        "walmart_df = pd.read_csv('https://tf-assets-prod.s3.amazonaws.com/tf-curric/data-science/Data%20Sets%20Time%20Series%20Analysis/Time%20Series%20-%20Day%205/WMT_data.csv')"
      ],
      "execution_count": 3,
      "outputs": []
    },
    {
      "cell_type": "code",
      "metadata": {
        "id": "0vKU3uyuFRuE"
      },
      "source": [
        "walmart_df['date'] = pd.to_datetime(walmart_df['date'])"
      ],
      "execution_count": 4,
      "outputs": []
    },
    {
      "cell_type": "code",
      "metadata": {
        "id": "e8Pr-t-pFRq0"
      },
      "source": [
        "walmart_df = walmart_df[['date', 'close']]"
      ],
      "execution_count": 5,
      "outputs": []
    },
    {
      "cell_type": "markdown",
      "metadata": {
        "id": "DHZVCl9QqfRn"
      },
      "source": [
        "### Transform the data to be able to predict minor direction changes in the stock's price, given 180 days of history.\n",
        "\n",
        "- Remember to calculate daily returns from the observed values (closing price).\n",
        "- Make the critera for identifying a direction change when the observed values (closing price) cross the 5 day moving average.\n",
        "- Create a binary column that defaults to 0 unless the criteria is met (then updates to 1).\n",
        "- Shift the data set so that you have 180 days of history for each record."
      ]
    },
    {
      "cell_type": "code",
      "metadata": {
        "id": "FBRXlgH8qfRo"
      },
      "source": [
        "walmart_df['returns'] = walmart_df['close'].pct_change()"
      ],
      "execution_count": 6,
      "outputs": []
    },
    {
      "cell_type": "code",
      "metadata": {
        "id": "g-BbN7vDP83t"
      },
      "source": [
        "walmart_df['MA_5'] = walmart_df['close'].rolling(5).mean()\n",
        "walmart_df['MA_10'] = walmart_df['close'].rolling(10).mean()"
      ],
      "execution_count": 7,
      "outputs": []
    },
    {
      "cell_type": "code",
      "metadata": {
        "id": "J1MWz96hP80C"
      },
      "source": [
        "walmart_df['trend'] = 'None'\n",
        "walmart_df.loc[(walmart_df['MA_5'] < walmart_df['MA_10']), 'trend'] = 'Negative'\n",
        "walmart_df.loc[(walmart_df['MA_5'] > walmart_df['MA_10']), 'trend'] = 'Positive'"
      ],
      "execution_count": 8,
      "outputs": []
    },
    {
      "cell_type": "code",
      "metadata": {
        "id": "fJpaYUl6VXnH"
      },
      "source": [
        "walmart_df['change'] = walmart_df['trend'].eq(walmart_df['trend'].shift())"
      ],
      "execution_count": 9,
      "outputs": []
    },
    {
      "cell_type": "code",
      "metadata": {
        "id": "KYz6H7fEVoYl"
      },
      "source": [
        "walmart_df['binary'] = 0\n",
        "walmart_df.loc[(walmart_df['change']==False)&(walmart_df['trend']!='None'), 'binary'] = 1 "
      ],
      "execution_count": 10,
      "outputs": []
    },
    {
      "cell_type": "code",
      "metadata": {
        "id": "GSH0H8zNWFtD"
      },
      "source": [
        "walmart_df.dropna(inplace=True)\n",
        "walmart_df.drop(walmart_df.index[0], inplace=True)"
      ],
      "execution_count": 11,
      "outputs": []
    },
    {
      "cell_type": "code",
      "metadata": {
        "colab": {
          "base_uri": "https://localhost:8080/",
          "height": 407
        },
        "id": "Bk-XQ8o8S7Kl",
        "outputId": "0fdd2eb7-3b71-4026-ab20-40f9d64d0e41"
      },
      "source": [
        "walmart_df"
      ],
      "execution_count": 12,
      "outputs": [
        {
          "output_type": "execute_result",
          "data": {
            "text/html": [
              "<div>\n",
              "<style scoped>\n",
              "    .dataframe tbody tr th:only-of-type {\n",
              "        vertical-align: middle;\n",
              "    }\n",
              "\n",
              "    .dataframe tbody tr th {\n",
              "        vertical-align: top;\n",
              "    }\n",
              "\n",
              "    .dataframe thead th {\n",
              "        text-align: right;\n",
              "    }\n",
              "</style>\n",
              "<table border=\"1\" class=\"dataframe\">\n",
              "  <thead>\n",
              "    <tr style=\"text-align: right;\">\n",
              "      <th></th>\n",
              "      <th>date</th>\n",
              "      <th>close</th>\n",
              "      <th>returns</th>\n",
              "      <th>MA_5</th>\n",
              "      <th>MA_10</th>\n",
              "      <th>trend</th>\n",
              "      <th>change</th>\n",
              "      <th>binary</th>\n",
              "    </tr>\n",
              "  </thead>\n",
              "  <tbody>\n",
              "    <tr>\n",
              "      <th>10</th>\n",
              "      <td>2013-02-25</td>\n",
              "      <td>70.44</td>\n",
              "      <td>0.000568</td>\n",
              "      <td>69.814</td>\n",
              "      <td>70.338</td>\n",
              "      <td>Negative</td>\n",
              "      <td>True</td>\n",
              "      <td>0</td>\n",
              "    </tr>\n",
              "    <tr>\n",
              "      <th>11</th>\n",
              "      <td>2013-02-26</td>\n",
              "      <td>71.11</td>\n",
              "      <td>0.009512</td>\n",
              "      <td>70.284</td>\n",
              "      <td>70.309</td>\n",
              "      <td>Negative</td>\n",
              "      <td>True</td>\n",
              "      <td>0</td>\n",
              "    </tr>\n",
              "    <tr>\n",
              "      <th>12</th>\n",
              "      <td>2013-02-27</td>\n",
              "      <td>71.66</td>\n",
              "      <td>0.007734</td>\n",
              "      <td>70.774</td>\n",
              "      <td>70.335</td>\n",
              "      <td>Positive</td>\n",
              "      <td>False</td>\n",
              "      <td>1</td>\n",
              "    </tr>\n",
              "    <tr>\n",
              "      <th>13</th>\n",
              "      <td>2013-02-28</td>\n",
              "      <td>70.78</td>\n",
              "      <td>-0.012280</td>\n",
              "      <td>70.878</td>\n",
              "      <td>70.274</td>\n",
              "      <td>Positive</td>\n",
              "      <td>True</td>\n",
              "      <td>0</td>\n",
              "    </tr>\n",
              "    <tr>\n",
              "      <th>14</th>\n",
              "      <td>2013-03-01</td>\n",
              "      <td>71.74</td>\n",
              "      <td>0.013563</td>\n",
              "      <td>71.146</td>\n",
              "      <td>70.366</td>\n",
              "      <td>Positive</td>\n",
              "      <td>True</td>\n",
              "      <td>0</td>\n",
              "    </tr>\n",
              "    <tr>\n",
              "      <th>...</th>\n",
              "      <td>...</td>\n",
              "      <td>...</td>\n",
              "      <td>...</td>\n",
              "      <td>...</td>\n",
              "      <td>...</td>\n",
              "      <td>...</td>\n",
              "      <td>...</td>\n",
              "      <td>...</td>\n",
              "    </tr>\n",
              "    <tr>\n",
              "      <th>1254</th>\n",
              "      <td>2018-02-01</td>\n",
              "      <td>105.52</td>\n",
              "      <td>-0.010131</td>\n",
              "      <td>107.558</td>\n",
              "      <td>106.612</td>\n",
              "      <td>Positive</td>\n",
              "      <td>True</td>\n",
              "      <td>0</td>\n",
              "    </tr>\n",
              "    <tr>\n",
              "      <th>1255</th>\n",
              "      <td>2018-02-02</td>\n",
              "      <td>104.48</td>\n",
              "      <td>-0.009856</td>\n",
              "      <td>106.776</td>\n",
              "      <td>106.601</td>\n",
              "      <td>Positive</td>\n",
              "      <td>True</td>\n",
              "      <td>0</td>\n",
              "    </tr>\n",
              "    <tr>\n",
              "      <th>1256</th>\n",
              "      <td>2018-02-05</td>\n",
              "      <td>100.09</td>\n",
              "      <td>-0.042018</td>\n",
              "      <td>104.884</td>\n",
              "      <td>106.065</td>\n",
              "      <td>Negative</td>\n",
              "      <td>False</td>\n",
              "      <td>1</td>\n",
              "    </tr>\n",
              "    <tr>\n",
              "      <th>1257</th>\n",
              "      <td>2018-02-06</td>\n",
              "      <td>100.90</td>\n",
              "      <td>0.008093</td>\n",
              "      <td>103.518</td>\n",
              "      <td>105.565</td>\n",
              "      <td>Negative</td>\n",
              "      <td>True</td>\n",
              "      <td>0</td>\n",
              "    </tr>\n",
              "    <tr>\n",
              "      <th>1258</th>\n",
              "      <td>2018-02-07</td>\n",
              "      <td>102.85</td>\n",
              "      <td>0.019326</td>\n",
              "      <td>102.768</td>\n",
              "      <td>105.271</td>\n",
              "      <td>Negative</td>\n",
              "      <td>True</td>\n",
              "      <td>0</td>\n",
              "    </tr>\n",
              "  </tbody>\n",
              "</table>\n",
              "<p>1249 rows × 8 columns</p>\n",
              "</div>"
            ],
            "text/plain": [
              "           date   close   returns     MA_5    MA_10     trend  change  binary\n",
              "10   2013-02-25   70.44  0.000568   69.814   70.338  Negative    True       0\n",
              "11   2013-02-26   71.11  0.009512   70.284   70.309  Negative    True       0\n",
              "12   2013-02-27   71.66  0.007734   70.774   70.335  Positive   False       1\n",
              "13   2013-02-28   70.78 -0.012280   70.878   70.274  Positive    True       0\n",
              "14   2013-03-01   71.74  0.013563   71.146   70.366  Positive    True       0\n",
              "...         ...     ...       ...      ...      ...       ...     ...     ...\n",
              "1254 2018-02-01  105.52 -0.010131  107.558  106.612  Positive    True       0\n",
              "1255 2018-02-02  104.48 -0.009856  106.776  106.601  Positive    True       0\n",
              "1256 2018-02-05  100.09 -0.042018  104.884  106.065  Negative   False       1\n",
              "1257 2018-02-06  100.90  0.008093  103.518  105.565  Negative    True       0\n",
              "1258 2018-02-07  102.85  0.019326  102.768  105.271  Negative    True       0\n",
              "\n",
              "[1249 rows x 8 columns]"
            ]
          },
          "metadata": {
            "tags": []
          },
          "execution_count": 12
        }
      ]
    },
    {
      "cell_type": "code",
      "metadata": {
        "colab": {
          "base_uri": "https://localhost:8080/"
        },
        "id": "ammF-z-EWya8",
        "outputId": "ebebfa66-92d6-4e8b-bfb3-d6e81f629d8d"
      },
      "source": [
        "transformed = walmart_df[['date', 'returns', 'binary']]\n",
        "\n",
        "history = 180\n",
        "future = 0\n",
        "\n",
        "shifts = [x + future for x in range(1, history+1)]\n",
        "\n",
        "for shift in shifts:\n",
        "  transformed[f't-{shift}'] = transformed['returns'].shift(shift)\n",
        "\n",
        "transformed.dropna(inplace=True)"
      ],
      "execution_count": 13,
      "outputs": [
        {
          "output_type": "stream",
          "text": [
            "/usr/local/lib/python3.6/dist-packages/ipykernel_launcher.py:9: SettingWithCopyWarning: \n",
            "A value is trying to be set on a copy of a slice from a DataFrame.\n",
            "Try using .loc[row_indexer,col_indexer] = value instead\n",
            "\n",
            "See the caveats in the documentation: https://pandas.pydata.org/pandas-docs/stable/user_guide/indexing.html#returning-a-view-versus-a-copy\n",
            "  if __name__ == '__main__':\n"
          ],
          "name": "stderr"
        }
      ]
    },
    {
      "cell_type": "code",
      "metadata": {
        "colab": {
          "base_uri": "https://localhost:8080/",
          "height": 334
        },
        "id": "reE2-7gAWyYa",
        "outputId": "7fa8b7a1-e8fb-48a5-d20a-344f90e77dac"
      },
      "source": [
        "transformed.head()"
      ],
      "execution_count": 14,
      "outputs": [
        {
          "output_type": "execute_result",
          "data": {
            "text/html": [
              "<div>\n",
              "<style scoped>\n",
              "    .dataframe tbody tr th:only-of-type {\n",
              "        vertical-align: middle;\n",
              "    }\n",
              "\n",
              "    .dataframe tbody tr th {\n",
              "        vertical-align: top;\n",
              "    }\n",
              "\n",
              "    .dataframe thead th {\n",
              "        text-align: right;\n",
              "    }\n",
              "</style>\n",
              "<table border=\"1\" class=\"dataframe\">\n",
              "  <thead>\n",
              "    <tr style=\"text-align: right;\">\n",
              "      <th></th>\n",
              "      <th>date</th>\n",
              "      <th>returns</th>\n",
              "      <th>binary</th>\n",
              "      <th>t-1</th>\n",
              "      <th>t-2</th>\n",
              "      <th>t-3</th>\n",
              "      <th>t-4</th>\n",
              "      <th>t-5</th>\n",
              "      <th>t-6</th>\n",
              "      <th>t-7</th>\n",
              "      <th>t-8</th>\n",
              "      <th>t-9</th>\n",
              "      <th>t-10</th>\n",
              "      <th>t-11</th>\n",
              "      <th>t-12</th>\n",
              "      <th>t-13</th>\n",
              "      <th>t-14</th>\n",
              "      <th>t-15</th>\n",
              "      <th>t-16</th>\n",
              "      <th>t-17</th>\n",
              "      <th>t-18</th>\n",
              "      <th>t-19</th>\n",
              "      <th>t-20</th>\n",
              "      <th>t-21</th>\n",
              "      <th>t-22</th>\n",
              "      <th>t-23</th>\n",
              "      <th>t-24</th>\n",
              "      <th>t-25</th>\n",
              "      <th>t-26</th>\n",
              "      <th>t-27</th>\n",
              "      <th>t-28</th>\n",
              "      <th>t-29</th>\n",
              "      <th>t-30</th>\n",
              "      <th>t-31</th>\n",
              "      <th>t-32</th>\n",
              "      <th>t-33</th>\n",
              "      <th>t-34</th>\n",
              "      <th>t-35</th>\n",
              "      <th>t-36</th>\n",
              "      <th>t-37</th>\n",
              "      <th>...</th>\n",
              "      <th>t-141</th>\n",
              "      <th>t-142</th>\n",
              "      <th>t-143</th>\n",
              "      <th>t-144</th>\n",
              "      <th>t-145</th>\n",
              "      <th>t-146</th>\n",
              "      <th>t-147</th>\n",
              "      <th>t-148</th>\n",
              "      <th>t-149</th>\n",
              "      <th>t-150</th>\n",
              "      <th>t-151</th>\n",
              "      <th>t-152</th>\n",
              "      <th>t-153</th>\n",
              "      <th>t-154</th>\n",
              "      <th>t-155</th>\n",
              "      <th>t-156</th>\n",
              "      <th>t-157</th>\n",
              "      <th>t-158</th>\n",
              "      <th>t-159</th>\n",
              "      <th>t-160</th>\n",
              "      <th>t-161</th>\n",
              "      <th>t-162</th>\n",
              "      <th>t-163</th>\n",
              "      <th>t-164</th>\n",
              "      <th>t-165</th>\n",
              "      <th>t-166</th>\n",
              "      <th>t-167</th>\n",
              "      <th>t-168</th>\n",
              "      <th>t-169</th>\n",
              "      <th>t-170</th>\n",
              "      <th>t-171</th>\n",
              "      <th>t-172</th>\n",
              "      <th>t-173</th>\n",
              "      <th>t-174</th>\n",
              "      <th>t-175</th>\n",
              "      <th>t-176</th>\n",
              "      <th>t-177</th>\n",
              "      <th>t-178</th>\n",
              "      <th>t-179</th>\n",
              "      <th>t-180</th>\n",
              "    </tr>\n",
              "  </thead>\n",
              "  <tbody>\n",
              "    <tr>\n",
              "      <th>190</th>\n",
              "      <td>2013-11-08</td>\n",
              "      <td>0.005806</td>\n",
              "      <td>0</td>\n",
              "      <td>-0.008316</td>\n",
              "      <td>0.009558</td>\n",
              "      <td>0.001164</td>\n",
              "      <td>0.003374</td>\n",
              "      <td>0.004169</td>\n",
              "      <td>-0.002080</td>\n",
              "      <td>-0.001947</td>\n",
              "      <td>-0.001037</td>\n",
              "      <td>0.013933</td>\n",
              "      <td>-0.004449</td>\n",
              "      <td>0.006851</td>\n",
              "      <td>-0.005503</td>\n",
              "      <td>0.015569</td>\n",
              "      <td>-0.007397</td>\n",
              "      <td>-0.000924</td>\n",
              "      <td>0.002381</td>\n",
              "      <td>0.016539</td>\n",
              "      <td>-0.004151</td>\n",
              "      <td>-0.001871</td>\n",
              "      <td>0.000401</td>\n",
              "      <td>0.024521</td>\n",
              "      <td>0.001372</td>\n",
              "      <td>0.014331</td>\n",
              "      <td>-0.012775</td>\n",
              "      <td>-0.004921</td>\n",
              "      <td>-0.007596</td>\n",
              "      <td>0.001767</td>\n",
              "      <td>-0.005003</td>\n",
              "      <td>-0.005379</td>\n",
              "      <td>-0.003484</td>\n",
              "      <td>-0.000402</td>\n",
              "      <td>-0.014521</td>\n",
              "      <td>-0.008767</td>\n",
              "      <td>0.007781</td>\n",
              "      <td>-0.004986</td>\n",
              "      <td>-0.002748</td>\n",
              "      <td>0.016900</td>\n",
              "      <td>...</td>\n",
              "      <td>-0.004087</td>\n",
              "      <td>0.014645</td>\n",
              "      <td>-0.017195</td>\n",
              "      <td>-0.002161</td>\n",
              "      <td>0.002676</td>\n",
              "      <td>-0.001146</td>\n",
              "      <td>0.009898</td>\n",
              "      <td>0.005428</td>\n",
              "      <td>-0.009601</td>\n",
              "      <td>0.010739</td>\n",
              "      <td>0.011782</td>\n",
              "      <td>0.002493</td>\n",
              "      <td>0.002632</td>\n",
              "      <td>-0.000263</td>\n",
              "      <td>0.007822</td>\n",
              "      <td>0.008018</td>\n",
              "      <td>0.000669</td>\n",
              "      <td>0.000134</td>\n",
              "      <td>-0.001069</td>\n",
              "      <td>0.007674</td>\n",
              "      <td>0.015725</td>\n",
              "      <td>0.001918</td>\n",
              "      <td>0.007453</td>\n",
              "      <td>0.002768</td>\n",
              "      <td>-0.003448</td>\n",
              "      <td>-0.009833</td>\n",
              "      <td>-0.005838</td>\n",
              "      <td>0.000679</td>\n",
              "      <td>0.008495</td>\n",
              "      <td>-0.000685</td>\n",
              "      <td>-0.003955</td>\n",
              "      <td>-0.000818</td>\n",
              "      <td>-0.004612</td>\n",
              "      <td>0.006279</td>\n",
              "      <td>0.021188</td>\n",
              "      <td>0.013563</td>\n",
              "      <td>-0.012280</td>\n",
              "      <td>0.007734</td>\n",
              "      <td>0.009512</td>\n",
              "      <td>0.000568</td>\n",
              "    </tr>\n",
              "    <tr>\n",
              "      <th>191</th>\n",
              "      <td>2013-11-11</td>\n",
              "      <td>0.013468</td>\n",
              "      <td>0</td>\n",
              "      <td>0.005806</td>\n",
              "      <td>-0.008316</td>\n",
              "      <td>0.009558</td>\n",
              "      <td>0.001164</td>\n",
              "      <td>0.003374</td>\n",
              "      <td>0.004169</td>\n",
              "      <td>-0.002080</td>\n",
              "      <td>-0.001947</td>\n",
              "      <td>-0.001037</td>\n",
              "      <td>0.013933</td>\n",
              "      <td>-0.004449</td>\n",
              "      <td>0.006851</td>\n",
              "      <td>-0.005503</td>\n",
              "      <td>0.015569</td>\n",
              "      <td>-0.007397</td>\n",
              "      <td>-0.000924</td>\n",
              "      <td>0.002381</td>\n",
              "      <td>0.016539</td>\n",
              "      <td>-0.004151</td>\n",
              "      <td>-0.001871</td>\n",
              "      <td>0.000401</td>\n",
              "      <td>0.024521</td>\n",
              "      <td>0.001372</td>\n",
              "      <td>0.014331</td>\n",
              "      <td>-0.012775</td>\n",
              "      <td>-0.004921</td>\n",
              "      <td>-0.007596</td>\n",
              "      <td>0.001767</td>\n",
              "      <td>-0.005003</td>\n",
              "      <td>-0.005379</td>\n",
              "      <td>-0.003484</td>\n",
              "      <td>-0.000402</td>\n",
              "      <td>-0.014521</td>\n",
              "      <td>-0.008767</td>\n",
              "      <td>0.007781</td>\n",
              "      <td>-0.004986</td>\n",
              "      <td>-0.002748</td>\n",
              "      <td>...</td>\n",
              "      <td>0.014364</td>\n",
              "      <td>-0.004087</td>\n",
              "      <td>0.014645</td>\n",
              "      <td>-0.017195</td>\n",
              "      <td>-0.002161</td>\n",
              "      <td>0.002676</td>\n",
              "      <td>-0.001146</td>\n",
              "      <td>0.009898</td>\n",
              "      <td>0.005428</td>\n",
              "      <td>-0.009601</td>\n",
              "      <td>0.010739</td>\n",
              "      <td>0.011782</td>\n",
              "      <td>0.002493</td>\n",
              "      <td>0.002632</td>\n",
              "      <td>-0.000263</td>\n",
              "      <td>0.007822</td>\n",
              "      <td>0.008018</td>\n",
              "      <td>0.000669</td>\n",
              "      <td>0.000134</td>\n",
              "      <td>-0.001069</td>\n",
              "      <td>0.007674</td>\n",
              "      <td>0.015725</td>\n",
              "      <td>0.001918</td>\n",
              "      <td>0.007453</td>\n",
              "      <td>0.002768</td>\n",
              "      <td>-0.003448</td>\n",
              "      <td>-0.009833</td>\n",
              "      <td>-0.005838</td>\n",
              "      <td>0.000679</td>\n",
              "      <td>0.008495</td>\n",
              "      <td>-0.000685</td>\n",
              "      <td>-0.003955</td>\n",
              "      <td>-0.000818</td>\n",
              "      <td>-0.004612</td>\n",
              "      <td>0.006279</td>\n",
              "      <td>0.021188</td>\n",
              "      <td>0.013563</td>\n",
              "      <td>-0.012280</td>\n",
              "      <td>0.007734</td>\n",
              "      <td>0.009512</td>\n",
              "    </tr>\n",
              "    <tr>\n",
              "      <th>192</th>\n",
              "      <td>2013-11-12</td>\n",
              "      <td>-0.003797</td>\n",
              "      <td>0</td>\n",
              "      <td>0.013468</td>\n",
              "      <td>0.005806</td>\n",
              "      <td>-0.008316</td>\n",
              "      <td>0.009558</td>\n",
              "      <td>0.001164</td>\n",
              "      <td>0.003374</td>\n",
              "      <td>0.004169</td>\n",
              "      <td>-0.002080</td>\n",
              "      <td>-0.001947</td>\n",
              "      <td>-0.001037</td>\n",
              "      <td>0.013933</td>\n",
              "      <td>-0.004449</td>\n",
              "      <td>0.006851</td>\n",
              "      <td>-0.005503</td>\n",
              "      <td>0.015569</td>\n",
              "      <td>-0.007397</td>\n",
              "      <td>-0.000924</td>\n",
              "      <td>0.002381</td>\n",
              "      <td>0.016539</td>\n",
              "      <td>-0.004151</td>\n",
              "      <td>-0.001871</td>\n",
              "      <td>0.000401</td>\n",
              "      <td>0.024521</td>\n",
              "      <td>0.001372</td>\n",
              "      <td>0.014331</td>\n",
              "      <td>-0.012775</td>\n",
              "      <td>-0.004921</td>\n",
              "      <td>-0.007596</td>\n",
              "      <td>0.001767</td>\n",
              "      <td>-0.005003</td>\n",
              "      <td>-0.005379</td>\n",
              "      <td>-0.003484</td>\n",
              "      <td>-0.000402</td>\n",
              "      <td>-0.014521</td>\n",
              "      <td>-0.008767</td>\n",
              "      <td>0.007781</td>\n",
              "      <td>-0.004986</td>\n",
              "      <td>...</td>\n",
              "      <td>-0.013402</td>\n",
              "      <td>0.014364</td>\n",
              "      <td>-0.004087</td>\n",
              "      <td>0.014645</td>\n",
              "      <td>-0.017195</td>\n",
              "      <td>-0.002161</td>\n",
              "      <td>0.002676</td>\n",
              "      <td>-0.001146</td>\n",
              "      <td>0.009898</td>\n",
              "      <td>0.005428</td>\n",
              "      <td>-0.009601</td>\n",
              "      <td>0.010739</td>\n",
              "      <td>0.011782</td>\n",
              "      <td>0.002493</td>\n",
              "      <td>0.002632</td>\n",
              "      <td>-0.000263</td>\n",
              "      <td>0.007822</td>\n",
              "      <td>0.008018</td>\n",
              "      <td>0.000669</td>\n",
              "      <td>0.000134</td>\n",
              "      <td>-0.001069</td>\n",
              "      <td>0.007674</td>\n",
              "      <td>0.015725</td>\n",
              "      <td>0.001918</td>\n",
              "      <td>0.007453</td>\n",
              "      <td>0.002768</td>\n",
              "      <td>-0.003448</td>\n",
              "      <td>-0.009833</td>\n",
              "      <td>-0.005838</td>\n",
              "      <td>0.000679</td>\n",
              "      <td>0.008495</td>\n",
              "      <td>-0.000685</td>\n",
              "      <td>-0.003955</td>\n",
              "      <td>-0.000818</td>\n",
              "      <td>-0.004612</td>\n",
              "      <td>0.006279</td>\n",
              "      <td>0.021188</td>\n",
              "      <td>0.013563</td>\n",
              "      <td>-0.012280</td>\n",
              "      <td>0.007734</td>\n",
              "    </tr>\n",
              "    <tr>\n",
              "      <th>193</th>\n",
              "      <td>2013-11-13</td>\n",
              "      <td>0.002414</td>\n",
              "      <td>0</td>\n",
              "      <td>-0.003797</td>\n",
              "      <td>0.013468</td>\n",
              "      <td>0.005806</td>\n",
              "      <td>-0.008316</td>\n",
              "      <td>0.009558</td>\n",
              "      <td>0.001164</td>\n",
              "      <td>0.003374</td>\n",
              "      <td>0.004169</td>\n",
              "      <td>-0.002080</td>\n",
              "      <td>-0.001947</td>\n",
              "      <td>-0.001037</td>\n",
              "      <td>0.013933</td>\n",
              "      <td>-0.004449</td>\n",
              "      <td>0.006851</td>\n",
              "      <td>-0.005503</td>\n",
              "      <td>0.015569</td>\n",
              "      <td>-0.007397</td>\n",
              "      <td>-0.000924</td>\n",
              "      <td>0.002381</td>\n",
              "      <td>0.016539</td>\n",
              "      <td>-0.004151</td>\n",
              "      <td>-0.001871</td>\n",
              "      <td>0.000401</td>\n",
              "      <td>0.024521</td>\n",
              "      <td>0.001372</td>\n",
              "      <td>0.014331</td>\n",
              "      <td>-0.012775</td>\n",
              "      <td>-0.004921</td>\n",
              "      <td>-0.007596</td>\n",
              "      <td>0.001767</td>\n",
              "      <td>-0.005003</td>\n",
              "      <td>-0.005379</td>\n",
              "      <td>-0.003484</td>\n",
              "      <td>-0.000402</td>\n",
              "      <td>-0.014521</td>\n",
              "      <td>-0.008767</td>\n",
              "      <td>0.007781</td>\n",
              "      <td>...</td>\n",
              "      <td>0.007946</td>\n",
              "      <td>-0.013402</td>\n",
              "      <td>0.014364</td>\n",
              "      <td>-0.004087</td>\n",
              "      <td>0.014645</td>\n",
              "      <td>-0.017195</td>\n",
              "      <td>-0.002161</td>\n",
              "      <td>0.002676</td>\n",
              "      <td>-0.001146</td>\n",
              "      <td>0.009898</td>\n",
              "      <td>0.005428</td>\n",
              "      <td>-0.009601</td>\n",
              "      <td>0.010739</td>\n",
              "      <td>0.011782</td>\n",
              "      <td>0.002493</td>\n",
              "      <td>0.002632</td>\n",
              "      <td>-0.000263</td>\n",
              "      <td>0.007822</td>\n",
              "      <td>0.008018</td>\n",
              "      <td>0.000669</td>\n",
              "      <td>0.000134</td>\n",
              "      <td>-0.001069</td>\n",
              "      <td>0.007674</td>\n",
              "      <td>0.015725</td>\n",
              "      <td>0.001918</td>\n",
              "      <td>0.007453</td>\n",
              "      <td>0.002768</td>\n",
              "      <td>-0.003448</td>\n",
              "      <td>-0.009833</td>\n",
              "      <td>-0.005838</td>\n",
              "      <td>0.000679</td>\n",
              "      <td>0.008495</td>\n",
              "      <td>-0.000685</td>\n",
              "      <td>-0.003955</td>\n",
              "      <td>-0.000818</td>\n",
              "      <td>-0.004612</td>\n",
              "      <td>0.006279</td>\n",
              "      <td>0.021188</td>\n",
              "      <td>0.013563</td>\n",
              "      <td>-0.012280</td>\n",
              "    </tr>\n",
              "    <tr>\n",
              "      <th>194</th>\n",
              "      <td>2013-11-14</td>\n",
              "      <td>0.002281</td>\n",
              "      <td>0</td>\n",
              "      <td>0.002414</td>\n",
              "      <td>-0.003797</td>\n",
              "      <td>0.013468</td>\n",
              "      <td>0.005806</td>\n",
              "      <td>-0.008316</td>\n",
              "      <td>0.009558</td>\n",
              "      <td>0.001164</td>\n",
              "      <td>0.003374</td>\n",
              "      <td>0.004169</td>\n",
              "      <td>-0.002080</td>\n",
              "      <td>-0.001947</td>\n",
              "      <td>-0.001037</td>\n",
              "      <td>0.013933</td>\n",
              "      <td>-0.004449</td>\n",
              "      <td>0.006851</td>\n",
              "      <td>-0.005503</td>\n",
              "      <td>0.015569</td>\n",
              "      <td>-0.007397</td>\n",
              "      <td>-0.000924</td>\n",
              "      <td>0.002381</td>\n",
              "      <td>0.016539</td>\n",
              "      <td>-0.004151</td>\n",
              "      <td>-0.001871</td>\n",
              "      <td>0.000401</td>\n",
              "      <td>0.024521</td>\n",
              "      <td>0.001372</td>\n",
              "      <td>0.014331</td>\n",
              "      <td>-0.012775</td>\n",
              "      <td>-0.004921</td>\n",
              "      <td>-0.007596</td>\n",
              "      <td>0.001767</td>\n",
              "      <td>-0.005003</td>\n",
              "      <td>-0.005379</td>\n",
              "      <td>-0.003484</td>\n",
              "      <td>-0.000402</td>\n",
              "      <td>-0.014521</td>\n",
              "      <td>-0.008767</td>\n",
              "      <td>...</td>\n",
              "      <td>0.004959</td>\n",
              "      <td>0.007946</td>\n",
              "      <td>-0.013402</td>\n",
              "      <td>0.014364</td>\n",
              "      <td>-0.004087</td>\n",
              "      <td>0.014645</td>\n",
              "      <td>-0.017195</td>\n",
              "      <td>-0.002161</td>\n",
              "      <td>0.002676</td>\n",
              "      <td>-0.001146</td>\n",
              "      <td>0.009898</td>\n",
              "      <td>0.005428</td>\n",
              "      <td>-0.009601</td>\n",
              "      <td>0.010739</td>\n",
              "      <td>0.011782</td>\n",
              "      <td>0.002493</td>\n",
              "      <td>0.002632</td>\n",
              "      <td>-0.000263</td>\n",
              "      <td>0.007822</td>\n",
              "      <td>0.008018</td>\n",
              "      <td>0.000669</td>\n",
              "      <td>0.000134</td>\n",
              "      <td>-0.001069</td>\n",
              "      <td>0.007674</td>\n",
              "      <td>0.015725</td>\n",
              "      <td>0.001918</td>\n",
              "      <td>0.007453</td>\n",
              "      <td>0.002768</td>\n",
              "      <td>-0.003448</td>\n",
              "      <td>-0.009833</td>\n",
              "      <td>-0.005838</td>\n",
              "      <td>0.000679</td>\n",
              "      <td>0.008495</td>\n",
              "      <td>-0.000685</td>\n",
              "      <td>-0.003955</td>\n",
              "      <td>-0.000818</td>\n",
              "      <td>-0.004612</td>\n",
              "      <td>0.006279</td>\n",
              "      <td>0.021188</td>\n",
              "      <td>0.013563</td>\n",
              "    </tr>\n",
              "  </tbody>\n",
              "</table>\n",
              "<p>5 rows × 183 columns</p>\n",
              "</div>"
            ],
            "text/plain": [
              "          date   returns  binary  ...     t-178     t-179     t-180\n",
              "190 2013-11-08  0.005806       0  ...  0.007734  0.009512  0.000568\n",
              "191 2013-11-11  0.013468       0  ... -0.012280  0.007734  0.009512\n",
              "192 2013-11-12 -0.003797       0  ...  0.013563 -0.012280  0.007734\n",
              "193 2013-11-13  0.002414       0  ...  0.021188  0.013563 -0.012280\n",
              "194 2013-11-14  0.002281       0  ...  0.006279  0.021188  0.013563\n",
              "\n",
              "[5 rows x 183 columns]"
            ]
          },
          "metadata": {
            "tags": []
          },
          "execution_count": 14
        }
      ]
    },
    {
      "cell_type": "markdown",
      "metadata": {
        "id": "bYaCvm-6qfRr"
      },
      "source": [
        "### Train a Logistic Regression classification model on the transformed data."
      ]
    },
    {
      "cell_type": "code",
      "metadata": {
        "id": "5GLX-8b4qfRs"
      },
      "source": [
        "X = transformed.drop(['date', 'returns', 'binary'], 1)\n",
        "y = transformed['binary']\n",
        "\n",
        "X_train, X_test, y_train, y_test = train_test_split(X, y, test_size=0.2)\n",
        "\n",
        "logreg = LogisticRegression(class_weight='balanced')\n",
        "logreg.fit(X_train, y_train)\n",
        "y_pred = logreg.predict(X_test)"
      ],
      "execution_count": 15,
      "outputs": []
    },
    {
      "cell_type": "markdown",
      "metadata": {
        "id": "dRh4cxqeqfRv"
      },
      "source": [
        "### Run a classification report and evaluate the performance of the classifier."
      ]
    },
    {
      "cell_type": "code",
      "metadata": {
        "id": "QSonhG5GqfR2",
        "colab": {
          "base_uri": "https://localhost:8080/"
        },
        "outputId": "6c015b6c-a7c0-441f-eb17-99fb1b285529"
      },
      "source": [
        "print(classification_report(y_test, y_pred))"
      ],
      "execution_count": 16,
      "outputs": [
        {
          "output_type": "stream",
          "text": [
            "              precision    recall  f1-score   support\n",
            "\n",
            "           0       0.91      0.73      0.81       195\n",
            "           1       0.07      0.21      0.11        19\n",
            "\n",
            "    accuracy                           0.69       214\n",
            "   macro avg       0.49      0.47      0.46       214\n",
            "weighted avg       0.83      0.69      0.75       214\n",
            "\n"
          ],
          "name": "stdout"
        }
      ]
    },
    {
      "cell_type": "code",
      "metadata": {
        "colab": {
          "base_uri": "https://localhost:8080/",
          "height": 279
        },
        "id": "kut9LrPGP-n3",
        "outputId": "da7576e9-5e80-47f2-c1c2-b1013567d30b"
      },
      "source": [
        "plot_confusion_matrix(logreg, X_test, y_test, values_format='.2f', cmap='mako')\n",
        "plt.show()"
      ],
      "execution_count": 17,
      "outputs": [
        {
          "output_type": "display_data",
          "data": {
            "image/png": "[encoded data removed]",
            "text/plain": [
              "<Figure size 432x288 with 2 Axes>"
            ]
          },
          "metadata": {
            "tags": [],
            "needs_background": "light"
          }
        }
      ]
    },
    {
      "cell_type": "markdown",
      "metadata": {
        "id": "awwkh1iIqfR5"
      },
      "source": [
        "### Transform the data again to have 10 days of history for clustering."
      ]
    },
    {
      "cell_type": "code",
      "metadata": {
        "id": "bhKkYaZ5qfR6",
        "colab": {
          "base_uri": "https://localhost:8080/"
        },
        "outputId": "d7f1f45a-d2fa-4367-f90d-ecb12a02f2a3"
      },
      "source": [
        "transformed = walmart_df[['date', 'returns', 'binary']]\n",
        "\n",
        "history = 10\n",
        "future = 0\n",
        "\n",
        "shifts = [x + future for x in range(1, history+1)]\n",
        "\n",
        "for shift in shifts:\n",
        "  transformed[f't-{shift}'] = transformed['returns'].shift(shift)\n",
        "\n",
        "transformed.dropna(inplace=True)\n",
        "\n",
        "x = transformed.drop(['date', 'returns', 'binary'], 1)"
      ],
      "execution_count": 18,
      "outputs": [
        {
          "output_type": "stream",
          "text": [
            "/usr/local/lib/python3.6/dist-packages/ipykernel_launcher.py:9: SettingWithCopyWarning: \n",
            "A value is trying to be set on a copy of a slice from a DataFrame.\n",
            "Try using .loc[row_indexer,col_indexer] = value instead\n",
            "\n",
            "See the caveats in the documentation: https://pandas.pydata.org/pandas-docs/stable/user_guide/indexing.html#returning-a-view-versus-a-copy\n",
            "  if __name__ == '__main__':\n"
          ],
          "name": "stderr"
        }
      ]
    },
    {
      "cell_type": "markdown",
      "metadata": {
        "id": "6AFbtpRkqfR9"
      },
      "source": [
        "### Train a K Means clustering model on the data. \n",
        "\n",
        "Try different values for K and see how the summary changes."
      ]
    },
    {
      "cell_type": "code",
      "metadata": {
        "id": "msE__TviqfR-"
      },
      "source": [
        "def kmeans(df, clusters=2):\n",
        "  model = KMeans(n_clusters=clusters, random_state=42)\n",
        "  clusters = model.fit_predict(df)\n",
        "  results = df.copy()\n",
        "  results['cluster'] = clusters\n",
        "\n",
        "  cluster_size = results.groupby(['cluster']).size().reset_index()\n",
        "  cluster_size.columns = ['cluster', 'count']\n",
        "  cluster_means = results.groupby(['cluster'], as_index=False).mean()\n",
        "  summary = pd.merge(cluster_size, cluster_means, on='cluster')\n",
        "\n",
        "  return results, summary"
      ],
      "execution_count": 19,
      "outputs": []
    },
    {
      "cell_type": "code",
      "metadata": {
        "id": "e7GCLKVBZ4qi"
      },
      "source": [
        "summaries = {}\n",
        "results = {}\n",
        "\n",
        "for k in range(2,11):\n",
        "  results[f'k_{k}'] , summaries[f'k_{k}'] = kmeans(x, clusters=k)"
      ],
      "execution_count": 20,
      "outputs": []
    },
    {
      "cell_type": "markdown",
      "metadata": {
        "id": "qSiAPoSTqfSA"
      },
      "source": [
        "### Visualize the summary of the clustering results as a heatmap."
      ]
    },
    {
      "cell_type": "code",
      "metadata": {
        "colab": {
          "base_uri": "https://localhost:8080/",
          "height": 428
        },
        "id": "lY_XFQuQbh4i",
        "outputId": "94486acf-be62-423c-dc64-97711001f884"
      },
      "source": [
        "plt.figure(figsize=(12,7))\n",
        "sns.heatmap(summaries['k_8'].drop(['cluster','count'],1), cmap='coolwarm')\n",
        "plt.show()"
      ],
      "execution_count": 21,
      "outputs": [
        {
          "output_type": "display_data",
          "data": {
            "image/png": "[encoded data removed]",
            "text/plain": [
              "<Figure size 864x504 with 2 Axes>"
            ]
          },
          "metadata": {
            "tags": [],
            "needs_background": "light"
          }
        }
      ]
    },
    {
      "cell_type": "code",
      "metadata": {
        "id": "DpGEL48Dbh1y"
      },
      "source": [
        ""
      ],
      "execution_count": 21,
      "outputs": []
    },
    {
      "cell_type": "code",
      "metadata": {
        "id": "F75bSCb6_krH"
      },
      "source": [
        ""
      ],
      "execution_count": 21,
      "outputs": []
    },
    {
      "cell_type": "code",
      "metadata": {
        "id": "u1MqxcAO_knA"
      },
      "source": [
        ""
      ],
      "execution_count": 21,
      "outputs": []
    },
    {
      "cell_type": "markdown",
      "metadata": {
        "id": "vMcuEYte_lYs"
      },
      "source": [
        "# Lecture Notes"
      ]
    },
    {
      "cell_type": "code",
      "metadata": {
        "id": "HdqjYKmk_kj7"
      },
      "source": [
        "data = pd.read_csv('https://tf-assets-prod.s3.amazonaws.com/tf-curric/data-science/Data%20Sets%20Time%20Series%20Analysis/Time%20Series%20-%20Day%205/NFLX_data.csv')"
      ],
      "execution_count": 54,
      "outputs": []
    },
    {
      "cell_type": "code",
      "metadata": {
        "id": "Qm23Ml-r_nZi"
      },
      "source": [
        "data['date'] = pd.to_datetime(data['date'])"
      ],
      "execution_count": 55,
      "outputs": []
    },
    {
      "cell_type": "code",
      "metadata": {
        "colab": {
          "base_uri": "https://localhost:8080/",
          "height": 367
        },
        "id": "QI10FJBP_nWB",
        "outputId": "fd9a317c-04a2-42e1-969d-f910eff33667"
      },
      "source": [
        "data.set_index('date')['close'].plot(kind='line', figsize=(14,6))"
      ],
      "execution_count": 56,
      "outputs": [
        {
          "output_type": "execute_result",
          "data": {
            "text/plain": [
              "<matplotlib.axes._subplots.AxesSubplot at 0x7fa375273c18>"
            ]
          },
          "metadata": {
            "tags": []
          },
          "execution_count": 56
        },
        {
          "output_type": "display_data",
          "data": {
            "image/png": "[encoded data removed]",
            "text/plain": [
              "<Figure size 1008x432 with 1 Axes>"
            ]
          },
          "metadata": {
            "tags": [],
            "needs_background": "light"
          }
        }
      ]
    },
    {
      "cell_type": "code",
      "metadata": {
        "id": "3wRAAAm5_nS1"
      },
      "source": [
        "data['returns'] = data['close'].pct_change()"
      ],
      "execution_count": 57,
      "outputs": []
    },
    {
      "cell_type": "code",
      "metadata": {
        "colab": {
          "base_uri": "https://localhost:8080/",
          "height": 372
        },
        "id": "jXt0cDFV_nRC",
        "outputId": "4b4e11aa-3a0b-4104-fc9f-f27827a1f3ac"
      },
      "source": [
        "data['returns'].plot(kind='line', figsize=(14,6))"
      ],
      "execution_count": 58,
      "outputs": [
        {
          "output_type": "execute_result",
          "data": {
            "text/plain": [
              "<matplotlib.axes._subplots.AxesSubplot at 0x7fa3751b7ac8>"
            ]
          },
          "metadata": {
            "tags": []
          },
          "execution_count": 58
        },
        {
          "output_type": "display_data",
          "data": {
            "image/png": "[encoded data removed]",
            "text/plain": [
              "<Figure size 1008x432 with 1 Axes>"
            ]
          },
          "metadata": {
            "tags": [],
            "needs_background": "light"
          }
        }
      ]
    },
    {
      "cell_type": "code",
      "metadata": {
        "colab": {
          "base_uri": "https://localhost:8080/"
        },
        "id": "kTDYlS27_nKf",
        "outputId": "6564fa4f-0688-470c-d0fa-fcb962a8ac13"
      },
      "source": [
        "data['close'].pct_change(5) #five day return"
      ],
      "execution_count": 59,
      "outputs": [
        {
          "output_type": "execute_result",
          "data": {
            "text/plain": [
              "0            NaN\n",
              "1            NaN\n",
              "2            NaN\n",
              "3            NaN\n",
              "4            NaN\n",
              "          ...   \n",
              "1254   -0.017167\n",
              "1255   -0.026111\n",
              "1256   -0.106574\n",
              "1257   -0.046915\n",
              "1258   -0.021236\n",
              "Name: close, Length: 1259, dtype: float64"
            ]
          },
          "metadata": {
            "tags": []
          },
          "execution_count": 59
        }
      ]
    },
    {
      "cell_type": "code",
      "metadata": {
        "id": "AYgzO2NS_nHa"
      },
      "source": [
        "data['MA_5'] = data['close'].rolling(5).mean()\n",
        "data['MA_10'] = data['close'].rolling(10).mean()"
      ],
      "execution_count": 60,
      "outputs": []
    },
    {
      "cell_type": "code",
      "metadata": {
        "colab": {
          "base_uri": "https://localhost:8080/",
          "height": 286
        },
        "id": "-bMG961HCKTZ",
        "outputId": "808c9bda-c2ad-47ba-8f54-f1d34da56cb2"
      },
      "source": [
        "data.set_index('date')[['close', 'MA_5','MA_10']].plot()"
      ],
      "execution_count": 61,
      "outputs": [
        {
          "output_type": "execute_result",
          "data": {
            "text/plain": [
              "<matplotlib.axes._subplots.AxesSubplot at 0x7fa375198fd0>"
            ]
          },
          "metadata": {
            "tags": []
          },
          "execution_count": 61
        },
        {
          "output_type": "display_data",
          "data": {
            "image/png": "[encoded data removed]",
            "text/plain": [
              "<Figure size 432x288 with 1 Axes>"
            ]
          },
          "metadata": {
            "tags": [],
            "needs_background": "light"
          }
        }
      ]
    },
    {
      "cell_type": "code",
      "metadata": {
        "id": "0b91Lubf_khT"
      },
      "source": [
        "data['trend'] = 'None'\n",
        "data['trend'] = np.where((data['MA_5'] < data['MA_10']), 'Negative', \n",
        "                         np.where((data['MA_5'] > data['MA_10']), 'Positive', \n",
        "                                  'None'))"
      ],
      "execution_count": 62,
      "outputs": []
    },
    {
      "cell_type": "code",
      "metadata": {
        "id": "Y-Pb8yjLCxmf"
      },
      "source": [
        "data['change'] = data['trend'].eq(data['trend'].shift())"
      ],
      "execution_count": 63,
      "outputs": []
    },
    {
      "cell_type": "code",
      "metadata": {
        "id": "jfDspZ4nDVo2"
      },
      "source": [
        "data['binary'] = np.where(((data['change']==False)&(data['trend']!= 'None')), 1, 0)"
      ],
      "execution_count": 64,
      "outputs": []
    },
    {
      "cell_type": "code",
      "metadata": {
        "id": "DjXnJxjfDWJs"
      },
      "source": [
        "data.dropna(inplace=True)\n",
        "data.drop(data.index[0], inplace=True)"
      ],
      "execution_count": 71,
      "outputs": []
    },
    {
      "cell_type": "code",
      "metadata": {
        "colab": {
          "base_uri": "https://localhost:8080/",
          "height": 600
        },
        "id": "kqp4jfTJDzM1",
        "outputId": "31141143-8b11-444f-e813-cf2bc00ceafb"
      },
      "source": [
        "data"
      ],
      "execution_count": 72,
      "outputs": [
        {
          "output_type": "execute_result",
          "data": {
            "text/html": [
              "<div>\n",
              "<style scoped>\n",
              "    .dataframe tbody tr th:only-of-type {\n",
              "        vertical-align: middle;\n",
              "    }\n",
              "\n",
              "    .dataframe tbody tr th {\n",
              "        vertical-align: top;\n",
              "    }\n",
              "\n",
              "    .dataframe thead th {\n",
              "        text-align: right;\n",
              "    }\n",
              "</style>\n",
              "<table border=\"1\" class=\"dataframe\">\n",
              "  <thead>\n",
              "    <tr style=\"text-align: right;\">\n",
              "      <th></th>\n",
              "      <th>date</th>\n",
              "      <th>open</th>\n",
              "      <th>high</th>\n",
              "      <th>low</th>\n",
              "      <th>close</th>\n",
              "      <th>volume</th>\n",
              "      <th>Name</th>\n",
              "      <th>returns</th>\n",
              "      <th>MA_5</th>\n",
              "      <th>MA_10</th>\n",
              "      <th>trend</th>\n",
              "      <th>change</th>\n",
              "      <th>binary</th>\n",
              "    </tr>\n",
              "  </thead>\n",
              "  <tbody>\n",
              "    <tr>\n",
              "      <th>10</th>\n",
              "      <td>2013-02-25</td>\n",
              "      <td>25.8557</td>\n",
              "      <td>26.7285</td>\n",
              "      <td>25.0643</td>\n",
              "      <td>25.6171</td>\n",
              "      <td>52156104</td>\n",
              "      <td>NFLX</td>\n",
              "      <td>-0.003005</td>\n",
              "      <td>26.56856</td>\n",
              "      <td>26.41313</td>\n",
              "      <td>Positive</td>\n",
              "      <td>True</td>\n",
              "      <td>0</td>\n",
              "    </tr>\n",
              "    <tr>\n",
              "      <th>11</th>\n",
              "      <td>2013-02-26</td>\n",
              "      <td>25.8000</td>\n",
              "      <td>26.4600</td>\n",
              "      <td>25.0857</td>\n",
              "      <td>26.2985</td>\n",
              "      <td>33878621</td>\n",
              "      <td>NFLX</td>\n",
              "      <td>0.026599</td>\n",
              "      <td>26.21540</td>\n",
              "      <td>26.50170</td>\n",
              "      <td>Negative</td>\n",
              "      <td>False</td>\n",
              "      <td>1</td>\n",
              "    </tr>\n",
              "    <tr>\n",
              "      <th>12</th>\n",
              "      <td>2013-02-27</td>\n",
              "      <td>26.2257</td>\n",
              "      <td>26.5714</td>\n",
              "      <td>25.7944</td>\n",
              "      <td>26.3314</td>\n",
              "      <td>22583071</td>\n",
              "      <td>NFLX</td>\n",
              "      <td>0.001251</td>\n",
              "      <td>26.13540</td>\n",
              "      <td>26.59270</td>\n",
              "      <td>Negative</td>\n",
              "      <td>True</td>\n",
              "      <td>0</td>\n",
              "    </tr>\n",
              "    <tr>\n",
              "      <th>13</th>\n",
              "      <td>2013-02-28</td>\n",
              "      <td>26.2585</td>\n",
              "      <td>27.4473</td>\n",
              "      <td>26.2157</td>\n",
              "      <td>26.8685</td>\n",
              "      <td>34291733</td>\n",
              "      <td>NFLX</td>\n",
              "      <td>0.020398</td>\n",
              "      <td>26.16196</td>\n",
              "      <td>26.61857</td>\n",
              "      <td>Negative</td>\n",
              "      <td>True</td>\n",
              "      <td>0</td>\n",
              "    </tr>\n",
              "    <tr>\n",
              "      <th>14</th>\n",
              "      <td>2013-03-01</td>\n",
              "      <td>26.7300</td>\n",
              "      <td>27.1914</td>\n",
              "      <td>26.6014</td>\n",
              "      <td>27.0528</td>\n",
              "      <td>21448756</td>\n",
              "      <td>NFLX</td>\n",
              "      <td>0.006859</td>\n",
              "      <td>26.43366</td>\n",
              "      <td>26.64671</td>\n",
              "      <td>Negative</td>\n",
              "      <td>True</td>\n",
              "      <td>0</td>\n",
              "    </tr>\n",
              "    <tr>\n",
              "      <th>...</th>\n",
              "      <td>...</td>\n",
              "      <td>...</td>\n",
              "      <td>...</td>\n",
              "      <td>...</td>\n",
              "      <td>...</td>\n",
              "      <td>...</td>\n",
              "      <td>...</td>\n",
              "      <td>...</td>\n",
              "      <td>...</td>\n",
              "      <td>...</td>\n",
              "      <td>...</td>\n",
              "      <td>...</td>\n",
              "      <td>...</td>\n",
              "    </tr>\n",
              "    <tr>\n",
              "      <th>1254</th>\n",
              "      <td>2018-02-01</td>\n",
              "      <td>266.4100</td>\n",
              "      <td>271.9500</td>\n",
              "      <td>263.3800</td>\n",
              "      <td>265.0700</td>\n",
              "      <td>9669011</td>\n",
              "      <td>NFLX</td>\n",
              "      <td>-0.019349</td>\n",
              "      <td>274.67200</td>\n",
              "      <td>260.26900</td>\n",
              "      <td>Positive</td>\n",
              "      <td>True</td>\n",
              "      <td>0</td>\n",
              "    </tr>\n",
              "    <tr>\n",
              "      <th>1255</th>\n",
              "      <td>2018-02-02</td>\n",
              "      <td>263.0000</td>\n",
              "      <td>270.6200</td>\n",
              "      <td>262.7100</td>\n",
              "      <td>267.4300</td>\n",
              "      <td>9123610</td>\n",
              "      <td>NFLX</td>\n",
              "      <td>0.008903</td>\n",
              "      <td>273.23800</td>\n",
              "      <td>264.96600</td>\n",
              "      <td>Positive</td>\n",
              "      <td>True</td>\n",
              "      <td>0</td>\n",
              "    </tr>\n",
              "    <tr>\n",
              "      <th>1256</th>\n",
              "      <td>2018-02-05</td>\n",
              "      <td>262.0000</td>\n",
              "      <td>267.8990</td>\n",
              "      <td>250.0300</td>\n",
              "      <td>254.2600</td>\n",
              "      <td>11896053</td>\n",
              "      <td>NFLX</td>\n",
              "      <td>-0.049247</td>\n",
              "      <td>267.17200</td>\n",
              "      <td>267.63400</td>\n",
              "      <td>Negative</td>\n",
              "      <td>False</td>\n",
              "      <td>1</td>\n",
              "    </tr>\n",
              "    <tr>\n",
              "      <th>1257</th>\n",
              "      <td>2018-02-06</td>\n",
              "      <td>247.7000</td>\n",
              "      <td>266.7000</td>\n",
              "      <td>245.0000</td>\n",
              "      <td>265.7200</td>\n",
              "      <td>12595801</td>\n",
              "      <td>NFLX</td>\n",
              "      <td>0.045072</td>\n",
              "      <td>264.55600</td>\n",
              "      <td>269.17700</td>\n",
              "      <td>Negative</td>\n",
              "      <td>True</td>\n",
              "      <td>0</td>\n",
              "    </tr>\n",
              "    <tr>\n",
              "      <th>1258</th>\n",
              "      <td>2018-02-07</td>\n",
              "      <td>266.5800</td>\n",
              "      <td>272.4500</td>\n",
              "      <td>264.3250</td>\n",
              "      <td>264.5600</td>\n",
              "      <td>8981548</td>\n",
              "      <td>NFLX</td>\n",
              "      <td>-0.004365</td>\n",
              "      <td>263.40800</td>\n",
              "      <td>269.50300</td>\n",
              "      <td>Negative</td>\n",
              "      <td>True</td>\n",
              "      <td>0</td>\n",
              "    </tr>\n",
              "  </tbody>\n",
              "</table>\n",
              "<p>1249 rows × 13 columns</p>\n",
              "</div>"
            ],
            "text/plain": [
              "           date      open      high  ...     trend  change  binary\n",
              "10   2013-02-25   25.8557   26.7285  ...  Positive    True       0\n",
              "11   2013-02-26   25.8000   26.4600  ...  Negative   False       1\n",
              "12   2013-02-27   26.2257   26.5714  ...  Negative    True       0\n",
              "13   2013-02-28   26.2585   27.4473  ...  Negative    True       0\n",
              "14   2013-03-01   26.7300   27.1914  ...  Negative    True       0\n",
              "...         ...       ...       ...  ...       ...     ...     ...\n",
              "1254 2018-02-01  266.4100  271.9500  ...  Positive    True       0\n",
              "1255 2018-02-02  263.0000  270.6200  ...  Positive    True       0\n",
              "1256 2018-02-05  262.0000  267.8990  ...  Negative   False       1\n",
              "1257 2018-02-06  247.7000  266.7000  ...  Negative    True       0\n",
              "1258 2018-02-07  266.5800  272.4500  ...  Negative    True       0\n",
              "\n",
              "[1249 rows x 13 columns]"
            ]
          },
          "metadata": {
            "tags": []
          },
          "execution_count": 72
        }
      ]
    },
    {
      "cell_type": "code",
      "metadata": {
        "colab": {
          "base_uri": "https://localhost:8080/"
        },
        "id": "Q0fVhWU_Dzp7",
        "outputId": "686d3566-23c8-45c1-93aa-d6c4ab666422"
      },
      "source": [
        "transformed = data[['date', 'returns', 'binary']]\n",
        "\n",
        "history = 90\n",
        "future = 0\n",
        "\n",
        "shifts = [x + future for x in range(1, history+1)]\n",
        "\n",
        "for shift in shifts:\n",
        "  transformed[f't-{shift}'] = transformed['returns'].shift(shift)\n",
        "\n",
        "transformed.dropna(inplace=True)\n",
        "\n",
        "x = transformed.drop(['date', 'returns', 'binary'], 1)"
      ],
      "execution_count": 73,
      "outputs": [
        {
          "output_type": "stream",
          "text": [
            "/usr/local/lib/python3.6/dist-packages/ipykernel_launcher.py:9: SettingWithCopyWarning: \n",
            "A value is trying to be set on a copy of a slice from a DataFrame.\n",
            "Try using .loc[row_indexer,col_indexer] = value instead\n",
            "\n",
            "See the caveats in the documentation: https://pandas.pydata.org/pandas-docs/stable/user_guide/indexing.html#returning-a-view-versus-a-copy\n",
            "  if __name__ == '__main__':\n"
          ],
          "name": "stderr"
        }
      ]
    },
    {
      "cell_type": "code",
      "metadata": {
        "id": "GuS220qsFH9m"
      },
      "source": [
        "x = transformed.drop(['date', 'returns','binary'], 1)\n",
        "y = transformed['binary']\n",
        "\n",
        "x_train, x_test, y_train, y_test = train_test_split(x, y, test_size=0.2, shuffle=False)"
      ],
      "execution_count": 74,
      "outputs": []
    },
    {
      "cell_type": "code",
      "metadata": {
        "id": "gSAUtovwFvHz"
      },
      "source": [
        "model = LogisticRegression(class_weight='balanced')\n",
        "model.fit(x_train, y_train)\n",
        "predictions = model.predict(x_test)"
      ],
      "execution_count": 76,
      "outputs": []
    },
    {
      "cell_type": "code",
      "metadata": {
        "colab": {
          "base_uri": "https://localhost:8080/"
        },
        "id": "b2n93FnhF_Ge",
        "outputId": "1b9a7127-41d3-4a2d-ce7a-695af3e8123c"
      },
      "source": [
        "print(classification_report(y_test, predictions))"
      ],
      "execution_count": 77,
      "outputs": [
        {
          "output_type": "stream",
          "text": [
            "              precision    recall  f1-score   support\n",
            "\n",
            "           0       0.89      0.77      0.83       206\n",
            "           1       0.13      0.27      0.18        26\n",
            "\n",
            "    accuracy                           0.72       232\n",
            "   macro avg       0.51      0.52      0.50       232\n",
            "weighted avg       0.81      0.72      0.75       232\n",
            "\n"
          ],
          "name": "stdout"
        }
      ]
    },
    {
      "cell_type": "code",
      "metadata": {
        "colab": {
          "base_uri": "https://localhost:8080/",
          "height": 279
        },
        "id": "3j0FGLCoF_Gr",
        "outputId": "a3154127-1e95-4c37-e813-1d5368f64e8e"
      },
      "source": [
        "plot_confusion_matrix(model, x_test, y_test, values_format='.2f', cmap='mako')\n",
        "plt.show()"
      ],
      "execution_count": 79,
      "outputs": [
        {
          "output_type": "display_data",
          "data": {
            "image/png": "[encoded data removed]",
            "text/plain": [
              "<Figure size 432x288 with 2 Axes>"
            ]
          },
          "metadata": {
            "tags": [],
            "needs_background": "light"
          }
        }
      ]
    },
    {
      "cell_type": "code",
      "metadata": {
        "id": "xVVM0o7kGE1E"
      },
      "source": [
        ""
      ],
      "execution_count": null,
      "outputs": []
    },
    {
      "cell_type": "code",
      "metadata": {
        "id": "3eYJzt6MHhT2"
      },
      "source": [
        "transformed = data[['date', 'returns', 'binary']]"
      ],
      "execution_count": 80,
      "outputs": []
    },
    {
      "cell_type": "code",
      "metadata": {
        "colab": {
          "base_uri": "https://localhost:8080/"
        },
        "id": "L3NHnvB-HhQ6",
        "outputId": "e8010d3e-9f29-4331-9980-fcaec69f7cdc"
      },
      "source": [
        "history = 30\n",
        "future = 0\n",
        "\n",
        "shifts = [x + future for x in range(1, history+1)]\n",
        "\n",
        "for shift in shifts:\n",
        "  transformed[f't-{shift}'] = transformed['returns'].shift(shift)\n",
        "\n",
        "transformed.dropna(inplace=True)\n",
        "\n",
        "x = transformed.drop(['date', 'returns', 'binary'], 1)"
      ],
      "execution_count": 81,
      "outputs": [
        {
          "output_type": "stream",
          "text": [
            "/usr/local/lib/python3.6/dist-packages/ipykernel_launcher.py:7: SettingWithCopyWarning: \n",
            "A value is trying to be set on a copy of a slice from a DataFrame.\n",
            "Try using .loc[row_indexer,col_indexer] = value instead\n",
            "\n",
            "See the caveats in the documentation: https://pandas.pydata.org/pandas-docs/stable/user_guide/indexing.html#returning-a-view-versus-a-copy\n",
            "  import sys\n"
          ],
          "name": "stderr"
        }
      ]
    },
    {
      "cell_type": "code",
      "metadata": {
        "colab": {
          "base_uri": "https://localhost:8080/",
          "height": 427
        },
        "id": "wGXZ6tC3IAl6",
        "outputId": "ffa1798f-825c-4a57-cd15-d07d4648c70c"
      },
      "source": [
        "x"
      ],
      "execution_count": 83,
      "outputs": [
        {
          "output_type": "execute_result",
          "data": {
            "text/html": [
              "<div>\n",
              "<style scoped>\n",
              "    .dataframe tbody tr th:only-of-type {\n",
              "        vertical-align: middle;\n",
              "    }\n",
              "\n",
              "    .dataframe tbody tr th {\n",
              "        vertical-align: top;\n",
              "    }\n",
              "\n",
              "    .dataframe thead th {\n",
              "        text-align: right;\n",
              "    }\n",
              "</style>\n",
              "<table border=\"1\" class=\"dataframe\">\n",
              "  <thead>\n",
              "    <tr style=\"text-align: right;\">\n",
              "      <th></th>\n",
              "      <th>t-1</th>\n",
              "      <th>t-2</th>\n",
              "      <th>t-3</th>\n",
              "      <th>t-4</th>\n",
              "      <th>t-5</th>\n",
              "      <th>t-6</th>\n",
              "      <th>t-7</th>\n",
              "      <th>t-8</th>\n",
              "      <th>t-9</th>\n",
              "      <th>t-10</th>\n",
              "      <th>t-11</th>\n",
              "      <th>t-12</th>\n",
              "      <th>t-13</th>\n",
              "      <th>t-14</th>\n",
              "      <th>t-15</th>\n",
              "      <th>t-16</th>\n",
              "      <th>t-17</th>\n",
              "      <th>t-18</th>\n",
              "      <th>t-19</th>\n",
              "      <th>t-20</th>\n",
              "      <th>t-21</th>\n",
              "      <th>t-22</th>\n",
              "      <th>t-23</th>\n",
              "      <th>t-24</th>\n",
              "      <th>t-25</th>\n",
              "      <th>t-26</th>\n",
              "      <th>t-27</th>\n",
              "      <th>t-28</th>\n",
              "      <th>t-29</th>\n",
              "      <th>t-30</th>\n",
              "    </tr>\n",
              "  </thead>\n",
              "  <tbody>\n",
              "    <tr>\n",
              "      <th>40</th>\n",
              "      <td>-0.009714</td>\n",
              "      <td>-0.012178</td>\n",
              "      <td>-0.017968</td>\n",
              "      <td>-0.039336</td>\n",
              "      <td>-0.031464</td>\n",
              "      <td>-0.036191</td>\n",
              "      <td>-0.005045</td>\n",
              "      <td>-0.001943</td>\n",
              "      <td>0.054319</td>\n",
              "      <td>-0.002815</td>\n",
              "      <td>-0.003789</td>\n",
              "      <td>-0.005793</td>\n",
              "      <td>0.009263</td>\n",
              "      <td>-0.022736</td>\n",
              "      <td>0.004003</td>\n",
              "      <td>-0.018688</td>\n",
              "      <td>-0.020742</td>\n",
              "      <td>0.056285</td>\n",
              "      <td>0.009201</td>\n",
              "      <td>-0.023012</td>\n",
              "      <td>0.017296</td>\n",
              "      <td>-0.007546</td>\n",
              "      <td>0.006660</td>\n",
              "      <td>0.002870</td>\n",
              "      <td>-0.043090</td>\n",
              "      <td>0.006859</td>\n",
              "      <td>0.020398</td>\n",
              "      <td>0.001251</td>\n",
              "      <td>0.026599</td>\n",
              "      <td>-0.003005</td>\n",
              "    </tr>\n",
              "    <tr>\n",
              "      <th>41</th>\n",
              "      <td>0.038636</td>\n",
              "      <td>-0.009714</td>\n",
              "      <td>-0.012178</td>\n",
              "      <td>-0.017968</td>\n",
              "      <td>-0.039336</td>\n",
              "      <td>-0.031464</td>\n",
              "      <td>-0.036191</td>\n",
              "      <td>-0.005045</td>\n",
              "      <td>-0.001943</td>\n",
              "      <td>0.054319</td>\n",
              "      <td>-0.002815</td>\n",
              "      <td>-0.003789</td>\n",
              "      <td>-0.005793</td>\n",
              "      <td>0.009263</td>\n",
              "      <td>-0.022736</td>\n",
              "      <td>0.004003</td>\n",
              "      <td>-0.018688</td>\n",
              "      <td>-0.020742</td>\n",
              "      <td>0.056285</td>\n",
              "      <td>0.009201</td>\n",
              "      <td>-0.023012</td>\n",
              "      <td>0.017296</td>\n",
              "      <td>-0.007546</td>\n",
              "      <td>0.006660</td>\n",
              "      <td>0.002870</td>\n",
              "      <td>-0.043090</td>\n",
              "      <td>0.006859</td>\n",
              "      <td>0.020398</td>\n",
              "      <td>0.001251</td>\n",
              "      <td>0.026599</td>\n",
              "    </tr>\n",
              "    <tr>\n",
              "      <th>42</th>\n",
              "      <td>-0.019426</td>\n",
              "      <td>0.038636</td>\n",
              "      <td>-0.009714</td>\n",
              "      <td>-0.012178</td>\n",
              "      <td>-0.017968</td>\n",
              "      <td>-0.039336</td>\n",
              "      <td>-0.031464</td>\n",
              "      <td>-0.036191</td>\n",
              "      <td>-0.005045</td>\n",
              "      <td>-0.001943</td>\n",
              "      <td>0.054319</td>\n",
              "      <td>-0.002815</td>\n",
              "      <td>-0.003789</td>\n",
              "      <td>-0.005793</td>\n",
              "      <td>0.009263</td>\n",
              "      <td>-0.022736</td>\n",
              "      <td>0.004003</td>\n",
              "      <td>-0.018688</td>\n",
              "      <td>-0.020742</td>\n",
              "      <td>0.056285</td>\n",
              "      <td>0.009201</td>\n",
              "      <td>-0.023012</td>\n",
              "      <td>0.017296</td>\n",
              "      <td>-0.007546</td>\n",
              "      <td>0.006660</td>\n",
              "      <td>0.002870</td>\n",
              "      <td>-0.043090</td>\n",
              "      <td>0.006859</td>\n",
              "      <td>0.020398</td>\n",
              "      <td>0.001251</td>\n",
              "    </tr>\n",
              "    <tr>\n",
              "      <th>43</th>\n",
              "      <td>0.041788</td>\n",
              "      <td>-0.019426</td>\n",
              "      <td>0.038636</td>\n",
              "      <td>-0.009714</td>\n",
              "      <td>-0.012178</td>\n",
              "      <td>-0.017968</td>\n",
              "      <td>-0.039336</td>\n",
              "      <td>-0.031464</td>\n",
              "      <td>-0.036191</td>\n",
              "      <td>-0.005045</td>\n",
              "      <td>-0.001943</td>\n",
              "      <td>0.054319</td>\n",
              "      <td>-0.002815</td>\n",
              "      <td>-0.003789</td>\n",
              "      <td>-0.005793</td>\n",
              "      <td>0.009263</td>\n",
              "      <td>-0.022736</td>\n",
              "      <td>0.004003</td>\n",
              "      <td>-0.018688</td>\n",
              "      <td>-0.020742</td>\n",
              "      <td>0.056285</td>\n",
              "      <td>0.009201</td>\n",
              "      <td>-0.023012</td>\n",
              "      <td>0.017296</td>\n",
              "      <td>-0.007546</td>\n",
              "      <td>0.006660</td>\n",
              "      <td>0.002870</td>\n",
              "      <td>-0.043090</td>\n",
              "      <td>0.006859</td>\n",
              "      <td>0.020398</td>\n",
              "    </tr>\n",
              "    <tr>\n",
              "      <th>44</th>\n",
              "      <td>0.001096</td>\n",
              "      <td>0.041788</td>\n",
              "      <td>-0.019426</td>\n",
              "      <td>0.038636</td>\n",
              "      <td>-0.009714</td>\n",
              "      <td>-0.012178</td>\n",
              "      <td>-0.017968</td>\n",
              "      <td>-0.039336</td>\n",
              "      <td>-0.031464</td>\n",
              "      <td>-0.036191</td>\n",
              "      <td>-0.005045</td>\n",
              "      <td>-0.001943</td>\n",
              "      <td>0.054319</td>\n",
              "      <td>-0.002815</td>\n",
              "      <td>-0.003789</td>\n",
              "      <td>-0.005793</td>\n",
              "      <td>0.009263</td>\n",
              "      <td>-0.022736</td>\n",
              "      <td>0.004003</td>\n",
              "      <td>-0.018688</td>\n",
              "      <td>-0.020742</td>\n",
              "      <td>0.056285</td>\n",
              "      <td>0.009201</td>\n",
              "      <td>-0.023012</td>\n",
              "      <td>0.017296</td>\n",
              "      <td>-0.007546</td>\n",
              "      <td>0.006660</td>\n",
              "      <td>0.002870</td>\n",
              "      <td>-0.043090</td>\n",
              "      <td>0.006859</td>\n",
              "    </tr>\n",
              "    <tr>\n",
              "      <th>...</th>\n",
              "      <td>...</td>\n",
              "      <td>...</td>\n",
              "      <td>...</td>\n",
              "      <td>...</td>\n",
              "      <td>...</td>\n",
              "      <td>...</td>\n",
              "      <td>...</td>\n",
              "      <td>...</td>\n",
              "      <td>...</td>\n",
              "      <td>...</td>\n",
              "      <td>...</td>\n",
              "      <td>...</td>\n",
              "      <td>...</td>\n",
              "      <td>...</td>\n",
              "      <td>...</td>\n",
              "      <td>...</td>\n",
              "      <td>...</td>\n",
              "      <td>...</td>\n",
              "      <td>...</td>\n",
              "      <td>...</td>\n",
              "      <td>...</td>\n",
              "      <td>...</td>\n",
              "      <td>...</td>\n",
              "      <td>...</td>\n",
              "      <td>...</td>\n",
              "      <td>...</td>\n",
              "      <td>...</td>\n",
              "      <td>...</td>\n",
              "      <td>...</td>\n",
              "      <td>...</td>\n",
              "    </tr>\n",
              "    <tr>\n",
              "      <th>1254</th>\n",
              "      <td>-0.030488</td>\n",
              "      <td>-0.020345</td>\n",
              "      <td>0.036380</td>\n",
              "      <td>0.018168</td>\n",
              "      <td>0.032147</td>\n",
              "      <td>0.043989</td>\n",
              "      <td>0.099789</td>\n",
              "      <td>0.032296</td>\n",
              "      <td>0.000590</td>\n",
              "      <td>0.013011</td>\n",
              "      <td>-0.018192</td>\n",
              "      <td>0.001356</td>\n",
              "      <td>0.018367</td>\n",
              "      <td>0.022210</td>\n",
              "      <td>0.015336</td>\n",
              "      <td>-0.012921</td>\n",
              "      <td>0.009810</td>\n",
              "      <td>0.021203</td>\n",
              "      <td>0.002829</td>\n",
              "      <td>0.019794</td>\n",
              "      <td>0.047458</td>\n",
              "      <td>-0.003892</td>\n",
              "      <td>0.034740</td>\n",
              "      <td>-0.008095</td>\n",
              "      <td>-0.011477</td>\n",
              "      <td>0.006998</td>\n",
              "      <td>-0.001059</td>\n",
              "      <td>0.009625</td>\n",
              "      <td>-0.017855</td>\n",
              "      <td>0.001578</td>\n",
              "    </tr>\n",
              "    <tr>\n",
              "      <th>1255</th>\n",
              "      <td>-0.019349</td>\n",
              "      <td>-0.030488</td>\n",
              "      <td>-0.020345</td>\n",
              "      <td>0.036380</td>\n",
              "      <td>0.018168</td>\n",
              "      <td>0.032147</td>\n",
              "      <td>0.043989</td>\n",
              "      <td>0.099789</td>\n",
              "      <td>0.032296</td>\n",
              "      <td>0.000590</td>\n",
              "      <td>0.013011</td>\n",
              "      <td>-0.018192</td>\n",
              "      <td>0.001356</td>\n",
              "      <td>0.018367</td>\n",
              "      <td>0.022210</td>\n",
              "      <td>0.015336</td>\n",
              "      <td>-0.012921</td>\n",
              "      <td>0.009810</td>\n",
              "      <td>0.021203</td>\n",
              "      <td>0.002829</td>\n",
              "      <td>0.019794</td>\n",
              "      <td>0.047458</td>\n",
              "      <td>-0.003892</td>\n",
              "      <td>0.034740</td>\n",
              "      <td>-0.008095</td>\n",
              "      <td>-0.011477</td>\n",
              "      <td>0.006998</td>\n",
              "      <td>-0.001059</td>\n",
              "      <td>0.009625</td>\n",
              "      <td>-0.017855</td>\n",
              "    </tr>\n",
              "    <tr>\n",
              "      <th>1256</th>\n",
              "      <td>0.008903</td>\n",
              "      <td>-0.019349</td>\n",
              "      <td>-0.030488</td>\n",
              "      <td>-0.020345</td>\n",
              "      <td>0.036380</td>\n",
              "      <td>0.018168</td>\n",
              "      <td>0.032147</td>\n",
              "      <td>0.043989</td>\n",
              "      <td>0.099789</td>\n",
              "      <td>0.032296</td>\n",
              "      <td>0.000590</td>\n",
              "      <td>0.013011</td>\n",
              "      <td>-0.018192</td>\n",
              "      <td>0.001356</td>\n",
              "      <td>0.018367</td>\n",
              "      <td>0.022210</td>\n",
              "      <td>0.015336</td>\n",
              "      <td>-0.012921</td>\n",
              "      <td>0.009810</td>\n",
              "      <td>0.021203</td>\n",
              "      <td>0.002829</td>\n",
              "      <td>0.019794</td>\n",
              "      <td>0.047458</td>\n",
              "      <td>-0.003892</td>\n",
              "      <td>0.034740</td>\n",
              "      <td>-0.008095</td>\n",
              "      <td>-0.011477</td>\n",
              "      <td>0.006998</td>\n",
              "      <td>-0.001059</td>\n",
              "      <td>0.009625</td>\n",
              "    </tr>\n",
              "    <tr>\n",
              "      <th>1257</th>\n",
              "      <td>-0.049247</td>\n",
              "      <td>0.008903</td>\n",
              "      <td>-0.019349</td>\n",
              "      <td>-0.030488</td>\n",
              "      <td>-0.020345</td>\n",
              "      <td>0.036380</td>\n",
              "      <td>0.018168</td>\n",
              "      <td>0.032147</td>\n",
              "      <td>0.043989</td>\n",
              "      <td>0.099789</td>\n",
              "      <td>0.032296</td>\n",
              "      <td>0.000590</td>\n",
              "      <td>0.013011</td>\n",
              "      <td>-0.018192</td>\n",
              "      <td>0.001356</td>\n",
              "      <td>0.018367</td>\n",
              "      <td>0.022210</td>\n",
              "      <td>0.015336</td>\n",
              "      <td>-0.012921</td>\n",
              "      <td>0.009810</td>\n",
              "      <td>0.021203</td>\n",
              "      <td>0.002829</td>\n",
              "      <td>0.019794</td>\n",
              "      <td>0.047458</td>\n",
              "      <td>-0.003892</td>\n",
              "      <td>0.034740</td>\n",
              "      <td>-0.008095</td>\n",
              "      <td>-0.011477</td>\n",
              "      <td>0.006998</td>\n",
              "      <td>-0.001059</td>\n",
              "    </tr>\n",
              "    <tr>\n",
              "      <th>1258</th>\n",
              "      <td>0.045072</td>\n",
              "      <td>-0.049247</td>\n",
              "      <td>0.008903</td>\n",
              "      <td>-0.019349</td>\n",
              "      <td>-0.030488</td>\n",
              "      <td>-0.020345</td>\n",
              "      <td>0.036380</td>\n",
              "      <td>0.018168</td>\n",
              "      <td>0.032147</td>\n",
              "      <td>0.043989</td>\n",
              "      <td>0.099789</td>\n",
              "      <td>0.032296</td>\n",
              "      <td>0.000590</td>\n",
              "      <td>0.013011</td>\n",
              "      <td>-0.018192</td>\n",
              "      <td>0.001356</td>\n",
              "      <td>0.018367</td>\n",
              "      <td>0.022210</td>\n",
              "      <td>0.015336</td>\n",
              "      <td>-0.012921</td>\n",
              "      <td>0.009810</td>\n",
              "      <td>0.021203</td>\n",
              "      <td>0.002829</td>\n",
              "      <td>0.019794</td>\n",
              "      <td>0.047458</td>\n",
              "      <td>-0.003892</td>\n",
              "      <td>0.034740</td>\n",
              "      <td>-0.008095</td>\n",
              "      <td>-0.011477</td>\n",
              "      <td>0.006998</td>\n",
              "    </tr>\n",
              "  </tbody>\n",
              "</table>\n",
              "<p>1219 rows × 30 columns</p>\n",
              "</div>"
            ],
            "text/plain": [
              "           t-1       t-2       t-3  ...      t-28      t-29      t-30\n",
              "40   -0.009714 -0.012178 -0.017968  ...  0.001251  0.026599 -0.003005\n",
              "41    0.038636 -0.009714 -0.012178  ...  0.020398  0.001251  0.026599\n",
              "42   -0.019426  0.038636 -0.009714  ...  0.006859  0.020398  0.001251\n",
              "43    0.041788 -0.019426  0.038636  ... -0.043090  0.006859  0.020398\n",
              "44    0.001096  0.041788 -0.019426  ...  0.002870 -0.043090  0.006859\n",
              "...        ...       ...       ...  ...       ...       ...       ...\n",
              "1254 -0.030488 -0.020345  0.036380  ...  0.009625 -0.017855  0.001578\n",
              "1255 -0.019349 -0.030488 -0.020345  ... -0.001059  0.009625 -0.017855\n",
              "1256  0.008903 -0.019349 -0.030488  ...  0.006998 -0.001059  0.009625\n",
              "1257 -0.049247  0.008903 -0.019349  ... -0.011477  0.006998 -0.001059\n",
              "1258  0.045072 -0.049247  0.008903  ... -0.008095 -0.011477  0.006998\n",
              "\n",
              "[1219 rows x 30 columns]"
            ]
          },
          "metadata": {
            "tags": []
          },
          "execution_count": 83
        }
      ]
    },
    {
      "cell_type": "code",
      "metadata": {
        "id": "pRimcY8QIHbr"
      },
      "source": [
        "results, summary = kmeans(x, clusters=8)"
      ],
      "execution_count": 84,
      "outputs": []
    },
    {
      "cell_type": "code",
      "metadata": {
        "colab": {
          "base_uri": "https://localhost:8080/",
          "height": 308
        },
        "id": "PGGeGh_AINT5",
        "outputId": "f111792d-45d9-4d25-d732-00e78cebb1d4"
      },
      "source": [
        "summary"
      ],
      "execution_count": 85,
      "outputs": [
        {
          "output_type": "execute_result",
          "data": {
            "text/html": [
              "<div>\n",
              "<style scoped>\n",
              "    .dataframe tbody tr th:only-of-type {\n",
              "        vertical-align: middle;\n",
              "    }\n",
              "\n",
              "    .dataframe tbody tr th {\n",
              "        vertical-align: top;\n",
              "    }\n",
              "\n",
              "    .dataframe thead th {\n",
              "        text-align: right;\n",
              "    }\n",
              "</style>\n",
              "<table border=\"1\" class=\"dataframe\">\n",
              "  <thead>\n",
              "    <tr style=\"text-align: right;\">\n",
              "      <th></th>\n",
              "      <th>cluster</th>\n",
              "      <th>count</th>\n",
              "      <th>t-1</th>\n",
              "      <th>t-2</th>\n",
              "      <th>t-3</th>\n",
              "      <th>t-4</th>\n",
              "      <th>t-5</th>\n",
              "      <th>t-6</th>\n",
              "      <th>t-7</th>\n",
              "      <th>t-8</th>\n",
              "      <th>t-9</th>\n",
              "      <th>t-10</th>\n",
              "      <th>t-11</th>\n",
              "      <th>t-12</th>\n",
              "      <th>t-13</th>\n",
              "      <th>t-14</th>\n",
              "      <th>t-15</th>\n",
              "      <th>t-16</th>\n",
              "      <th>t-17</th>\n",
              "      <th>t-18</th>\n",
              "      <th>t-19</th>\n",
              "      <th>t-20</th>\n",
              "      <th>t-21</th>\n",
              "      <th>t-22</th>\n",
              "      <th>t-23</th>\n",
              "      <th>t-24</th>\n",
              "      <th>t-25</th>\n",
              "      <th>t-26</th>\n",
              "      <th>t-27</th>\n",
              "      <th>t-28</th>\n",
              "      <th>t-29</th>\n",
              "      <th>t-30</th>\n",
              "    </tr>\n",
              "  </thead>\n",
              "  <tbody>\n",
              "    <tr>\n",
              "      <th>0</th>\n",
              "      <td>0</td>\n",
              "      <td>121</td>\n",
              "      <td>0.000478</td>\n",
              "      <td>0.035462</td>\n",
              "      <td>-0.006337</td>\n",
              "      <td>0.004048</td>\n",
              "      <td>0.026123</td>\n",
              "      <td>-0.005369</td>\n",
              "      <td>-0.006166</td>\n",
              "      <td>0.016775</td>\n",
              "      <td>-0.001110</td>\n",
              "      <td>0.001303</td>\n",
              "      <td>0.001160</td>\n",
              "      <td>0.003547</td>\n",
              "      <td>0.023219</td>\n",
              "      <td>-0.003054</td>\n",
              "      <td>0.004658</td>\n",
              "      <td>0.002519</td>\n",
              "      <td>-0.000205</td>\n",
              "      <td>-0.006669</td>\n",
              "      <td>-0.000638</td>\n",
              "      <td>-0.001241</td>\n",
              "      <td>-0.003181</td>\n",
              "      <td>-0.001877</td>\n",
              "      <td>-0.000498</td>\n",
              "      <td>-0.001487</td>\n",
              "      <td>-0.004937</td>\n",
              "      <td>-0.001310</td>\n",
              "      <td>-0.004651</td>\n",
              "      <td>0.001179</td>\n",
              "      <td>-0.002416</td>\n",
              "      <td>-0.000627</td>\n",
              "    </tr>\n",
              "    <tr>\n",
              "      <th>1</th>\n",
              "      <td>1</td>\n",
              "      <td>372</td>\n",
              "      <td>-0.004542</td>\n",
              "      <td>-0.002270</td>\n",
              "      <td>0.001190</td>\n",
              "      <td>-0.000042</td>\n",
              "      <td>-0.000177</td>\n",
              "      <td>-0.001324</td>\n",
              "      <td>-0.004393</td>\n",
              "      <td>-0.000857</td>\n",
              "      <td>-0.004714</td>\n",
              "      <td>0.000563</td>\n",
              "      <td>0.011030</td>\n",
              "      <td>-0.001110</td>\n",
              "      <td>0.000094</td>\n",
              "      <td>0.008381</td>\n",
              "      <td>-0.004290</td>\n",
              "      <td>0.000869</td>\n",
              "      <td>0.003782</td>\n",
              "      <td>0.001779</td>\n",
              "      <td>0.001326</td>\n",
              "      <td>0.006896</td>\n",
              "      <td>0.002723</td>\n",
              "      <td>0.006970</td>\n",
              "      <td>0.004694</td>\n",
              "      <td>0.001064</td>\n",
              "      <td>-0.004371</td>\n",
              "      <td>-0.001795</td>\n",
              "      <td>-0.000761</td>\n",
              "      <td>0.000749</td>\n",
              "      <td>0.013071</td>\n",
              "      <td>0.002243</td>\n",
              "    </tr>\n",
              "    <tr>\n",
              "      <th>2</th>\n",
              "      <td>2</td>\n",
              "      <td>97</td>\n",
              "      <td>0.039762</td>\n",
              "      <td>-0.002692</td>\n",
              "      <td>0.004801</td>\n",
              "      <td>0.008591</td>\n",
              "      <td>0.008191</td>\n",
              "      <td>0.002498</td>\n",
              "      <td>0.004199</td>\n",
              "      <td>-0.006821</td>\n",
              "      <td>0.000839</td>\n",
              "      <td>-0.011536</td>\n",
              "      <td>-0.004454</td>\n",
              "      <td>0.016265</td>\n",
              "      <td>-0.000298</td>\n",
              "      <td>0.013633</td>\n",
              "      <td>0.024053</td>\n",
              "      <td>-0.000285</td>\n",
              "      <td>-0.003711</td>\n",
              "      <td>-0.001955</td>\n",
              "      <td>-0.005418</td>\n",
              "      <td>0.006966</td>\n",
              "      <td>0.010673</td>\n",
              "      <td>0.013147</td>\n",
              "      <td>-0.004267</td>\n",
              "      <td>-0.010267</td>\n",
              "      <td>-0.003318</td>\n",
              "      <td>-0.002845</td>\n",
              "      <td>-0.010988</td>\n",
              "      <td>-0.001837</td>\n",
              "      <td>-0.003574</td>\n",
              "      <td>0.004003</td>\n",
              "    </tr>\n",
              "    <tr>\n",
              "      <th>3</th>\n",
              "      <td>3</td>\n",
              "      <td>32</td>\n",
              "      <td>0.003785</td>\n",
              "      <td>0.011613</td>\n",
              "      <td>0.075174</td>\n",
              "      <td>0.011206</td>\n",
              "      <td>-0.000757</td>\n",
              "      <td>-0.001579</td>\n",
              "      <td>-0.006685</td>\n",
              "      <td>0.003745</td>\n",
              "      <td>-0.000884</td>\n",
              "      <td>0.003275</td>\n",
              "      <td>0.001790</td>\n",
              "      <td>0.005129</td>\n",
              "      <td>-0.004935</td>\n",
              "      <td>-0.004416</td>\n",
              "      <td>-0.001793</td>\n",
              "      <td>0.017455</td>\n",
              "      <td>0.057898</td>\n",
              "      <td>0.005197</td>\n",
              "      <td>0.009903</td>\n",
              "      <td>-0.005347</td>\n",
              "      <td>-0.004873</td>\n",
              "      <td>-0.000267</td>\n",
              "      <td>-0.003790</td>\n",
              "      <td>0.003957</td>\n",
              "      <td>-0.002782</td>\n",
              "      <td>0.003656</td>\n",
              "      <td>-0.000660</td>\n",
              "      <td>-0.007773</td>\n",
              "      <td>-0.002774</td>\n",
              "      <td>-0.008786</td>\n",
              "    </tr>\n",
              "    <tr>\n",
              "      <th>4</th>\n",
              "      <td>4</td>\n",
              "      <td>163</td>\n",
              "      <td>0.003293</td>\n",
              "      <td>-0.001016</td>\n",
              "      <td>0.002298</td>\n",
              "      <td>-0.009000</td>\n",
              "      <td>-0.006337</td>\n",
              "      <td>0.019249</td>\n",
              "      <td>-0.002092</td>\n",
              "      <td>0.007128</td>\n",
              "      <td>0.023520</td>\n",
              "      <td>0.010260</td>\n",
              "      <td>0.001056</td>\n",
              "      <td>0.012575</td>\n",
              "      <td>-0.002034</td>\n",
              "      <td>-0.002195</td>\n",
              "      <td>-0.002445</td>\n",
              "      <td>0.010111</td>\n",
              "      <td>0.000004</td>\n",
              "      <td>-0.000043</td>\n",
              "      <td>-0.000328</td>\n",
              "      <td>0.005386</td>\n",
              "      <td>-0.007174</td>\n",
              "      <td>0.002545</td>\n",
              "      <td>-0.001396</td>\n",
              "      <td>0.008218</td>\n",
              "      <td>0.002177</td>\n",
              "      <td>0.003099</td>\n",
              "      <td>0.002279</td>\n",
              "      <td>-0.008715</td>\n",
              "      <td>-0.010847</td>\n",
              "      <td>0.020204</td>\n",
              "    </tr>\n",
              "    <tr>\n",
              "      <th>5</th>\n",
              "      <td>5</td>\n",
              "      <td>92</td>\n",
              "      <td>-0.004033</td>\n",
              "      <td>0.000332</td>\n",
              "      <td>0.002654</td>\n",
              "      <td>0.032701</td>\n",
              "      <td>0.006743</td>\n",
              "      <td>0.009998</td>\n",
              "      <td>0.003379</td>\n",
              "      <td>0.003779</td>\n",
              "      <td>0.004573</td>\n",
              "      <td>-0.008458</td>\n",
              "      <td>0.001976</td>\n",
              "      <td>-0.003747</td>\n",
              "      <td>0.002584</td>\n",
              "      <td>0.000554</td>\n",
              "      <td>0.000726</td>\n",
              "      <td>0.008698</td>\n",
              "      <td>-0.009981</td>\n",
              "      <td>0.014570</td>\n",
              "      <td>0.028341</td>\n",
              "      <td>0.004192</td>\n",
              "      <td>-0.009200</td>\n",
              "      <td>-0.006291</td>\n",
              "      <td>-0.000166</td>\n",
              "      <td>-0.009015</td>\n",
              "      <td>0.000474</td>\n",
              "      <td>-0.003910</td>\n",
              "      <td>0.036717</td>\n",
              "      <td>-0.001403</td>\n",
              "      <td>-0.001242</td>\n",
              "      <td>-0.002312</td>\n",
              "    </tr>\n",
              "    <tr>\n",
              "      <th>6</th>\n",
              "      <td>6</td>\n",
              "      <td>172</td>\n",
              "      <td>-0.003142</td>\n",
              "      <td>-0.002591</td>\n",
              "      <td>-0.000470</td>\n",
              "      <td>0.000225</td>\n",
              "      <td>-0.003865</td>\n",
              "      <td>-0.001457</td>\n",
              "      <td>0.024732</td>\n",
              "      <td>0.002771</td>\n",
              "      <td>0.002434</td>\n",
              "      <td>0.008529</td>\n",
              "      <td>-0.007190</td>\n",
              "      <td>-0.001901</td>\n",
              "      <td>-0.004797</td>\n",
              "      <td>-0.002139</td>\n",
              "      <td>0.003892</td>\n",
              "      <td>0.004601</td>\n",
              "      <td>0.004241</td>\n",
              "      <td>-0.007162</td>\n",
              "      <td>0.000746</td>\n",
              "      <td>-0.002545</td>\n",
              "      <td>-0.001892</td>\n",
              "      <td>-0.000579</td>\n",
              "      <td>0.016029</td>\n",
              "      <td>-0.000001</td>\n",
              "      <td>0.026396</td>\n",
              "      <td>-0.002673</td>\n",
              "      <td>-0.001586</td>\n",
              "      <td>0.017143</td>\n",
              "      <td>-0.000948</td>\n",
              "      <td>-0.002926</td>\n",
              "    </tr>\n",
              "    <tr>\n",
              "      <th>7</th>\n",
              "      <td>7</td>\n",
              "      <td>170</td>\n",
              "      <td>0.005321</td>\n",
              "      <td>-0.000926</td>\n",
              "      <td>-0.001383</td>\n",
              "      <td>-0.002614</td>\n",
              "      <td>0.000011</td>\n",
              "      <td>-0.000426</td>\n",
              "      <td>0.004484</td>\n",
              "      <td>-0.002320</td>\n",
              "      <td>-0.000243</td>\n",
              "      <td>0.006165</td>\n",
              "      <td>-0.001597</td>\n",
              "      <td>-0.003102</td>\n",
              "      <td>0.004982</td>\n",
              "      <td>-0.004071</td>\n",
              "      <td>0.005719</td>\n",
              "      <td>-0.010858</td>\n",
              "      <td>-0.000917</td>\n",
              "      <td>0.015505</td>\n",
              "      <td>-0.001965</td>\n",
              "      <td>-0.007224</td>\n",
              "      <td>0.019890</td>\n",
              "      <td>-0.004933</td>\n",
              "      <td>-0.006761</td>\n",
              "      <td>0.015642</td>\n",
              "      <td>0.000875</td>\n",
              "      <td>0.021834</td>\n",
              "      <td>0.005251</td>\n",
              "      <td>0.005942</td>\n",
              "      <td>0.002051</td>\n",
              "      <td>-0.005864</td>\n",
              "    </tr>\n",
              "  </tbody>\n",
              "</table>\n",
              "</div>"
            ],
            "text/plain": [
              "   cluster  count       t-1       t-2  ...      t-27      t-28      t-29      t-30\n",
              "0        0    121  0.000478  0.035462  ... -0.004651  0.001179 -0.002416 -0.000627\n",
              "1        1    372 -0.004542 -0.002270  ... -0.000761  0.000749  0.013071  0.002243\n",
              "2        2     97  0.039762 -0.002692  ... -0.010988 -0.001837 -0.003574  0.004003\n",
              "3        3     32  0.003785  0.011613  ... -0.000660 -0.007773 -0.002774 -0.008786\n",
              "4        4    163  0.003293 -0.001016  ...  0.002279 -0.008715 -0.010847  0.020204\n",
              "5        5     92 -0.004033  0.000332  ...  0.036717 -0.001403 -0.001242 -0.002312\n",
              "6        6    172 -0.003142 -0.002591  ... -0.001586  0.017143 -0.000948 -0.002926\n",
              "7        7    170  0.005321 -0.000926  ...  0.005251  0.005942  0.002051 -0.005864\n",
              "\n",
              "[8 rows x 32 columns]"
            ]
          },
          "metadata": {
            "tags": []
          },
          "execution_count": 85
        }
      ]
    },
    {
      "cell_type": "code",
      "metadata": {
        "colab": {
          "base_uri": "https://localhost:8080/",
          "height": 489
        },
        "id": "yS0BC4U_IOHR",
        "outputId": "215c5d0e-817b-46d3-d9b9-9d5cd9d6e6f9"
      },
      "source": [
        "plt.figure(figsize=(20,14))\n",
        "sns.heatmap(summary.drop(['cluster', 'count'], 1), cmap = 'coolwarm', annot=True, fmt='.2g', linewidths=0.01, annot_kws={'rotation': 90})\n",
        "plt.show()"
      ],
      "execution_count": 99,
      "outputs": [
        {
          "output_type": "display_data",
          "data": {
            "image/png": "[encoded data removed]",
            "text/plain": [
              "<Figure size 1440x1008 with 2 Axes>"
            ]
          },
          "metadata": {
            "tags": [],
            "needs_background": "light"
          }
        }
      ]
    },
    {
      "cell_type": "code",
      "metadata": {
        "id": "Xi-DGkegIXUV"
      },
      "source": [
        "# https://github.com/twopirllc/pandas-ta"
      ],
      "execution_count": 100,
      "outputs": []
    },
    {
      "cell_type": "code",
      "metadata": {
        "id": "xZaJFL3tLFmm"
      },
      "source": [
        "# imblearn - Oversampling, Undersampling, combination"
      ],
      "execution_count": 101,
      "outputs": []
    },
    {
      "cell_type": "code",
      "metadata": {
        "id": "ld9NP39CLHQQ"
      },
      "source": [
        ""
      ],
      "execution_count": null,
      "outputs": []
    }
  ]
}