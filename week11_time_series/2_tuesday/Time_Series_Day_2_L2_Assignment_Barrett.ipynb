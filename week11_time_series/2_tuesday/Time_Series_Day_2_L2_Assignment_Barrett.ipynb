{
  "nbformat": 4,
  "nbformat_minor": 0,
  "metadata": {
    "kernelspec": {
      "display_name": "Python 3",
      "language": "python",
      "name": "python3"
    },
    "language_info": {
      "codemirror_mode": {
        "name": "ipython",
        "version": 3
      },
      "file_extension": ".py",
      "mimetype": "text/x-python",
      "name": "python",
      "nbconvert_exporter": "python",
      "pygments_lexer": "ipython3",
      "version": "3.7.2"
    },
    "colab": {
      "name": "Time_Series_Day_2_L2_Assignment_Barrett.ipynb",
      "provenance": []
    },
    "widgets": {
      "application/vnd.jupyter.widget-state+json": {
        "76bb30473643459ba18be224fc2afdd6": {
          "model_module": "@jupyter-widgets/controls",
          "model_name": "VBoxModel",
          "state": {
            "_view_name": "VBoxView",
            "_dom_classes": [
              "widget-interact"
            ],
            "_model_name": "VBoxModel",
            "_view_module": "@jupyter-widgets/controls",
            "_model_module_version": "1.5.0",
            "_view_count": null,
            "_view_module_version": "1.5.0",
            "box_style": "",
            "layout": "IPY_MODEL_4fdead6130414e5f8589a0752d7720f1",
            "_model_module": "@jupyter-widgets/controls",
            "children": [
              "IPY_MODEL_515276e7f0094b048176afbe8bfae9b2",
              "IPY_MODEL_701e6a02ba3845a19da893811ecd4a49"
            ]
          }
        },
        "4fdead6130414e5f8589a0752d7720f1": {
          "model_module": "@jupyter-widgets/base",
          "model_name": "LayoutModel",
          "state": {
            "_view_name": "LayoutView",
            "grid_template_rows": null,
            "right": null,
            "justify_content": null,
            "_view_module": "@jupyter-widgets/base",
            "overflow": null,
            "_model_module_version": "1.2.0",
            "_view_count": null,
            "flex_flow": null,
            "width": null,
            "min_width": null,
            "border": null,
            "align_items": null,
            "bottom": null,
            "_model_module": "@jupyter-widgets/base",
            "top": null,
            "grid_column": null,
            "overflow_y": null,
            "overflow_x": null,
            "grid_auto_flow": null,
            "grid_area": null,
            "grid_template_columns": null,
            "flex": null,
            "_model_name": "LayoutModel",
            "justify_items": null,
            "grid_row": null,
            "max_height": null,
            "align_content": null,
            "visibility": null,
            "align_self": null,
            "height": null,
            "min_height": null,
            "padding": null,
            "grid_auto_rows": null,
            "grid_gap": null,
            "max_width": null,
            "order": null,
            "_view_module_version": "1.2.0",
            "grid_template_areas": null,
            "object_position": null,
            "object_fit": null,
            "grid_auto_columns": null,
            "margin": null,
            "display": null,
            "left": null
          }
        },
        "515276e7f0094b048176afbe8bfae9b2": {
          "model_module": "@jupyter-widgets/controls",
          "model_name": "DropdownModel",
          "state": {
            "_options_labels": [
              "Quantity",
              "UnitPrice",
              "Revenue"
            ],
            "_view_name": "DropdownView",
            "style": "IPY_MODEL_64a81e07dce04b618e992951669cc76f",
            "_dom_classes": [],
            "description": "field",
            "_model_name": "DropdownModel",
            "index": 0,
            "_view_module": "@jupyter-widgets/controls",
            "_model_module_version": "1.5.0",
            "_view_count": null,
            "disabled": false,
            "_view_module_version": "1.5.0",
            "description_tooltip": null,
            "_model_module": "@jupyter-widgets/controls",
            "layout": "IPY_MODEL_43d7eae6753043648fcbe604b3a3af7a"
          }
        },
        "701e6a02ba3845a19da893811ecd4a49": {
          "model_module": "@jupyter-widgets/output",
          "model_name": "OutputModel",
          "state": {
            "_view_name": "OutputView",
            "msg_id": "",
            "_dom_classes": [],
            "_model_name": "OutputModel",
            "outputs": [
              {
                "output_type": "display_data",
                "metadata": {
                  "tags": []
                },
                "text/html": "<html>\n<head><meta charset=\"utf-8\" /></head>\n<body>\n    <div>\n            <script src=\"https://cdnjs.cloudflare.com/ajax/libs/mathjax/2.7.5/MathJax.js?config=TeX-AMS-MML_SVG\"></script><script type=\"text/javascript\">if (window.MathJax) {MathJax.Hub.Config({SVG: {font: \"STIX-Web\"}});}</script>\n                <script type=\"text/javascript\">window.PlotlyConfig = {MathJaxConfig: 'local'};</script>\n        <script src=\"https://cdn.plot.ly/plotly-latest.min.js\"></script>    \n            <div id=\"4baeda8f-a403-4d52-86db-110834dd03cd\" class=\"plotly-graph-div\" style=\"height:525px; width:100%;\"></div>\n            <script type=\"text/javascript\">\n                \n                    window.PLOTLYENV=window.PLOTLYENV || {};\n                    \n                if (document.getElementById(\"4baeda8f-a403-4d52-86db-110834dd03cd\")) {\n                    Plotly.newPlot(\n                        '4baeda8f-a403-4d52-86db-110834dd03cd',\n                        [{\"alignmentgroup\": \"True\", \"bingroup\": \"x\", \"hoverlabel\": {\"namelength\": 0}, \"hovertemplate\": \"Quantity=%{x}<br>count=%{y}\", \"legendgroup\": \"\", \"marker\": {\"color\": \"lightskyblue\", \"line\": {\"color\": \"black\", \"width\": 1}}, \"name\": \"\", \"offsetgroup\": \"\", \"orientation\": \"v\", \"showlegend\": false, \"type\": \"histogram\", \"x\": [24207, 31140, 11822, 16370, 16267, 19432, 21523, 17386, 16020, 10599, 15329, 17727, 18379, 29785, 11361, 3734, 13432, 11060, 3071, 3196, 6947, 18363, 21532, 15095, 8196, 9375, 26065, 7883, 8300, 21093, 4202, 8701, 6367, 15885, 8176, 12692, 5235, 9587, 14507, 10444, 10943, 9165, 3431, 12404, 15003, 8925, 15415, 11253, 2048, 8582, 8681, 6109, 11781, 9578, 2756, 12336, 22102, 15761, 12748, 8634, 5349, 20413, 20905, 12153, 11562, 10028, 4869, 8389, 11558, 8613, 19160, 12933, 5048, 11106, 13829, 11497, 15222, 9240, 2722, 16746, 7934, 12877, 19040, 13238, 13621, 9454, 13488, 13908, 18223, 13299, 4526, 11595, 24183, 20126, 14978, 18298, 5667, 12855, 15610, 8025, 10090, 12291, 5629, 12840, 14604, 18761, 18509, 11091, 8180, 26212, 12901, 17850, 17070, 14439, 17629, 13107, 3811, 11134, 17367, 16218, 18280, 10695, 11676, 15736, 18430, 37121, 13287, 4767, 15130, 25195, 18624, 17166, 15116, 12734, 17513, 14574, 12430, 16134, 14825, 4120, 10588, 9574, 13713, 7245, 13341, 9118, 17691, 18819, 27158, 9825, 9483, 10630, 12971, 29517, 19622, 11342, 15076, 14771, 13120, 15281, 14019, 9059, 3782, 9162, 20924, 7465, 20497, 7448, 3117, 12063, 17628, 17801, 17643, 10149, 4251, 14124, 11532, 15274, 16819, 6358, 10828, 12710, 28387, 15392, 19255, 8326, 17572, 14254, 12640, 13223, 29368, 11216, 20814, 11301, 14213, 16138, 40076, 12209, 5185, 12437, 15822, 12323, 36462, 11039, 3180, 10174, 10470, 24825, 34068, 10649, 8156, 15346, 13695, 27454, 13153, 16776, 6774, 4211, 11526, 27717, 15410, 10896, 22398, 14459, 13721, 16029, 16021, 21131, 16438, 35013, 13433, 27655, 14118, 8993, 29230, 42507, 19612, 32748, 19768, 19496, 15304, 19528, 23852, 26960, 21633, 8375, 24576, 23112, 45898, 34539, 29662, 7534, 25035, 26613, 16151, 17873, 17195, 8769, 30116, 26886, 18239, 40883, 24212, 7071, 23180, 25370, 20282, 32536, 23004, 20021, 15159, 16565, 26667, 32655, 33584, 23271, 16423, 21627, 35807, 38047, 23901, 19763, 32143, 26816, 29135, 30274, 20259, 18755, 24549, 30004, 38398, 22894, 14194, 10516, 28042, 25958, 24426, 24834, 25614, 11422, 37609, 27798, 41080, 27536, 9578], \"xaxis\": \"x\", \"yaxis\": \"y\"}],\n                        {\"barmode\": \"relative\", \"legend\": {\"tracegroupgap\": 0}, \"template\": {\"data\": {\"scatter\": [{\"type\": \"scatter\"}]}}, \"title\": {\"text\": \"Daily distribution of Quantity\"}, \"xaxis\": {\"anchor\": \"y\", \"domain\": [0.0, 1.0], \"title\": {\"text\": \"Quantity\"}}, \"yaxis\": {\"anchor\": \"x\", \"domain\": [0.0, 1.0], \"title\": {\"text\": \"count\"}}},\n                        {\"responsive\": true}\n                    ).then(function(){\n                            \nvar gd = document.getElementById('4baeda8f-a403-4d52-86db-110834dd03cd');\nvar x = new MutationObserver(function (mutations, observer) {{\n        var display = window.getComputedStyle(gd).display;\n        if (!display || display === 'none') {{\n            console.log([gd, 'removed!']);\n            Plotly.purge(gd);\n            observer.disconnect();\n        }}\n}});\n\n// Listen for the removal of the full notebook cells\nvar notebookContainer = gd.closest('#notebook-container');\nif (notebookContainer) {{\n    x.observe(notebookContainer, {childList: true});\n}}\n\n// Listen for the clearing of the current output cell\nvar outputEl = gd.closest('.output');\nif (outputEl) {{\n    x.observe(outputEl, {childList: true});\n}}\n\n                        })\n                };\n                \n            </script>\n        </div>\n</body>\n</html>"
              }
            ],
            "_view_module": "@jupyter-widgets/output",
            "_model_module_version": "1.0.0",
            "_view_count": null,
            "_view_module_version": "1.0.0",
            "layout": "IPY_MODEL_1786a934ae2a434ba663be6b13d7bdaa",
            "_model_module": "@jupyter-widgets/output"
          }
        },
        "64a81e07dce04b618e992951669cc76f": {
          "model_module": "@jupyter-widgets/controls",
          "model_name": "DescriptionStyleModel",
          "state": {
            "_view_name": "StyleView",
            "_model_name": "DescriptionStyleModel",
            "description_width": "",
            "_view_module": "@jupyter-widgets/base",
            "_model_module_version": "1.5.0",
            "_view_count": null,
            "_view_module_version": "1.2.0",
            "_model_module": "@jupyter-widgets/controls"
          }
        },
        "43d7eae6753043648fcbe604b3a3af7a": {
          "model_module": "@jupyter-widgets/base",
          "model_name": "LayoutModel",
          "state": {
            "_view_name": "LayoutView",
            "grid_template_rows": null,
            "right": null,
            "justify_content": null,
            "_view_module": "@jupyter-widgets/base",
            "overflow": null,
            "_model_module_version": "1.2.0",
            "_view_count": null,
            "flex_flow": null,
            "width": null,
            "min_width": null,
            "border": null,
            "align_items": null,
            "bottom": null,
            "_model_module": "@jupyter-widgets/base",
            "top": null,
            "grid_column": null,
            "overflow_y": null,
            "overflow_x": null,
            "grid_auto_flow": null,
            "grid_area": null,
            "grid_template_columns": null,
            "flex": null,
            "_model_name": "LayoutModel",
            "justify_items": null,
            "grid_row": null,
            "max_height": null,
            "align_content": null,
            "visibility": null,
            "align_self": null,
            "height": null,
            "min_height": null,
            "padding": null,
            "grid_auto_rows": null,
            "grid_gap": null,
            "max_width": null,
            "order": null,
            "_view_module_version": "1.2.0",
            "grid_template_areas": null,
            "object_position": null,
            "object_fit": null,
            "grid_auto_columns": null,
            "margin": null,
            "display": null,
            "left": null
          }
        },
        "1786a934ae2a434ba663be6b13d7bdaa": {
          "model_module": "@jupyter-widgets/base",
          "model_name": "LayoutModel",
          "state": {
            "_view_name": "LayoutView",
            "grid_template_rows": null,
            "right": null,
            "justify_content": null,
            "_view_module": "@jupyter-widgets/base",
            "overflow": null,
            "_model_module_version": "1.2.0",
            "_view_count": null,
            "flex_flow": null,
            "width": null,
            "min_width": null,
            "border": null,
            "align_items": null,
            "bottom": null,
            "_model_module": "@jupyter-widgets/base",
            "top": null,
            "grid_column": null,
            "overflow_y": null,
            "overflow_x": null,
            "grid_auto_flow": null,
            "grid_area": null,
            "grid_template_columns": null,
            "flex": null,
            "_model_name": "LayoutModel",
            "justify_items": null,
            "grid_row": null,
            "max_height": null,
            "align_content": null,
            "visibility": null,
            "align_self": null,
            "height": null,
            "min_height": null,
            "padding": null,
            "grid_auto_rows": null,
            "grid_gap": null,
            "max_width": null,
            "order": null,
            "_view_module_version": "1.2.0",
            "grid_template_areas": null,
            "object_position": null,
            "object_fit": null,
            "grid_auto_columns": null,
            "margin": null,
            "display": null,
            "left": null
          }
        },
        "f7ad38d50ef242139e552bc12c928c66": {
          "model_module": "@jupyter-widgets/controls",
          "model_name": "VBoxModel",
          "state": {
            "_view_name": "VBoxView",
            "_dom_classes": [
              "widget-interact"
            ],
            "_model_name": "VBoxModel",
            "_view_module": "@jupyter-widgets/controls",
            "_model_module_version": "1.5.0",
            "_view_count": null,
            "_view_module_version": "1.5.0",
            "box_style": "",
            "layout": "IPY_MODEL_f1038d1b243c4bcca3bcbd2ab3b2e288",
            "_model_module": "@jupyter-widgets/controls",
            "children": [
              "IPY_MODEL_09cc29da32e84ad4ab8426011ef11898",
              "IPY_MODEL_5bc23a98e55342ea85664a437436063e",
              "IPY_MODEL_2837addf892b481d80ebeaad2893ce5d"
            ]
          }
        },
        "f1038d1b243c4bcca3bcbd2ab3b2e288": {
          "model_module": "@jupyter-widgets/base",
          "model_name": "LayoutModel",
          "state": {
            "_view_name": "LayoutView",
            "grid_template_rows": null,
            "right": null,
            "justify_content": null,
            "_view_module": "@jupyter-widgets/base",
            "overflow": null,
            "_model_module_version": "1.2.0",
            "_view_count": null,
            "flex_flow": null,
            "width": null,
            "min_width": null,
            "border": null,
            "align_items": null,
            "bottom": null,
            "_model_module": "@jupyter-widgets/base",
            "top": null,
            "grid_column": null,
            "overflow_y": null,
            "overflow_x": null,
            "grid_auto_flow": null,
            "grid_area": null,
            "grid_template_columns": null,
            "flex": null,
            "_model_name": "LayoutModel",
            "justify_items": null,
            "grid_row": null,
            "max_height": null,
            "align_content": null,
            "visibility": null,
            "align_self": null,
            "height": null,
            "min_height": null,
            "padding": null,
            "grid_auto_rows": null,
            "grid_gap": null,
            "max_width": null,
            "order": null,
            "_view_module_version": "1.2.0",
            "grid_template_areas": null,
            "object_position": null,
            "object_fit": null,
            "grid_auto_columns": null,
            "margin": null,
            "display": null,
            "left": null
          }
        },
        "09cc29da32e84ad4ab8426011ef11898": {
          "model_module": "@jupyter-widgets/controls",
          "model_name": "DropdownModel",
          "state": {
            "_options_labels": [
              "Quantity",
              "Revenue"
            ],
            "_view_name": "DropdownView",
            "style": "IPY_MODEL_ddbdb6c4564f47efbe9aa713875f1a54",
            "_dom_classes": [],
            "description": "field",
            "_model_name": "DropdownModel",
            "index": 0,
            "_view_module": "@jupyter-widgets/controls",
            "_model_module_version": "1.5.0",
            "_view_count": null,
            "disabled": false,
            "_view_module_version": "1.5.0",
            "description_tooltip": null,
            "_model_module": "@jupyter-widgets/controls",
            "layout": "IPY_MODEL_851d459cf6aa4745b519b75faec1c272"
          }
        },
        "5bc23a98e55342ea85664a437436063e": {
          "model_module": "@jupyter-widgets/controls",
          "model_name": "DropdownModel",
          "state": {
            "_options_labels": [
              "Australia",
              "Austria",
              "Bahrain",
              "Belgium",
              "Brazil",
              "Canada",
              "Channel Islands",
              "Cyprus",
              "Czech Republic",
              "Denmark",
              "EIRE",
              "Finland",
              "France",
              "Germany",
              "Greece",
              "Iceland",
              "Israel",
              "Italy",
              "Japan",
              "Lebanon",
              "Lithuania",
              "Malta",
              "Netherlands",
              "Norway",
              "Poland",
              "Portugal",
              "Saudi Arabia",
              "Singapore",
              "South Africa",
              "Spain",
              "Sweden",
              "Switzerland",
              "USA",
              "United Arab Emirates",
              "United Kingdom"
            ],
            "_view_name": "DropdownView",
            "style": "IPY_MODEL_9090c826b22545599b7ee8c6120f8829",
            "_dom_classes": [],
            "description": "country",
            "_model_name": "DropdownModel",
            "index": 0,
            "_view_module": "@jupyter-widgets/controls",
            "_model_module_version": "1.5.0",
            "_view_count": null,
            "disabled": false,
            "_view_module_version": "1.5.0",
            "description_tooltip": null,
            "_model_module": "@jupyter-widgets/controls",
            "layout": "IPY_MODEL_46f2a2f36d904021bc03fc345cbb6957"
          }
        },
        "2837addf892b481d80ebeaad2893ce5d": {
          "model_module": "@jupyter-widgets/output",
          "model_name": "OutputModel",
          "state": {
            "_view_name": "OutputView",
            "msg_id": "",
            "_dom_classes": [],
            "_model_name": "OutputModel",
            "outputs": [
              {
                "output_type": "display_data",
                "metadata": {
                  "tags": []
                },
                "text/html": "<html>\n<head><meta charset=\"utf-8\" /></head>\n<body>\n    <div>\n            <script src=\"https://cdnjs.cloudflare.com/ajax/libs/mathjax/2.7.5/MathJax.js?config=TeX-AMS-MML_SVG\"></script><script type=\"text/javascript\">if (window.MathJax) {MathJax.Hub.Config({SVG: {font: \"STIX-Web\"}});}</script>\n                <script type=\"text/javascript\">window.PlotlyConfig = {MathJaxConfig: 'local'};</script>\n        <script src=\"https://cdn.plot.ly/plotly-latest.min.js\"></script>    \n            <div id=\"e2b239ef-6439-434c-a9f3-a958fa1ed5a4\" class=\"plotly-graph-div\" style=\"height:525px; width:100%;\"></div>\n            <script type=\"text/javascript\">\n                \n                    window.PLOTLYENV=window.PLOTLYENV || {};\n                    \n                if (document.getElementById(\"e2b239ef-6439-434c-a9f3-a958fa1ed5a4\")) {\n                    Plotly.newPlot(\n                        'e2b239ef-6439-434c-a9f3-a958fa1ed5a4',\n                        [{\"hoverlabel\": {\"namelength\": 0}, \"hovertemplate\": \"Date=%{x}<br>Quantity=%{y}\", \"legendgroup\": \"\", \"line\": {\"color\": \"#1F77B4\", \"dash\": \"solid\"}, \"mode\": \"lines\", \"name\": \"\", \"showlegend\": false, \"type\": \"scatter\", \"x\": [\"2010-12-01\", \"2010-12-08\", \"2010-12-17\", \"2011-01-06\", \"2011-01-10\", \"2011-01-11\", \"2011-01-14\", \"2011-01-17\", \"2011-01-19\", \"2011-01-20\", \"2011-01-28\", \"2011-02-07\", \"2011-02-15\", \"2011-02-27\", \"2011-03-03\", \"2011-03-09\", \"2011-03-24\", \"2011-04-08\", \"2011-05-12\", \"2011-05-17\", \"2011-05-20\", \"2011-05-23\", \"2011-06-15\", \"2011-06-30\", \"2011-07-13\", \"2011-07-14\", \"2011-07-19\", \"2011-07-24\", \"2011-07-26\", \"2011-08-12\", \"2011-08-18\", \"2011-09-01\", \"2011-09-05\", \"2011-09-16\", \"2011-09-25\", \"2011-09-28\", \"2011-10-05\", \"2011-10-06\", \"2011-11-02\", \"2011-11-03\", \"2011-11-04\", \"2011-11-15\", \"2011-11-24\"], \"xaxis\": \"x\", \"y\": [107, 214, 146, 4802, 96, 238, 60, 204, 113, 21, 110, 79, 8384, 217, 10272, 90, 77, 224, 184, 8268, 316, 231, 15241, 740, 4332, 429, 271, 214, 72, 374, 12196, 2836, 82, 317, 478, 366, 7135, 266, 216, 192, 336, 3130, 224], \"yaxis\": \"y\"}],\n                        {\"legend\": {\"tracegroupgap\": 0}, \"template\": {\"data\": {\"scatter\": [{\"type\": \"scatter\"}]}}, \"title\": {\"text\": \"Plot of daily Quantity in Australia\"}, \"xaxis\": {\"anchor\": \"y\", \"domain\": [0.0, 1.0], \"title\": {\"text\": \"Date\"}}, \"yaxis\": {\"anchor\": \"x\", \"domain\": [0.0, 1.0], \"title\": {\"text\": \"Quantity\"}}},\n                        {\"responsive\": true}\n                    ).then(function(){\n                            \nvar gd = document.getElementById('e2b239ef-6439-434c-a9f3-a958fa1ed5a4');\nvar x = new MutationObserver(function (mutations, observer) {{\n        var display = window.getComputedStyle(gd).display;\n        if (!display || display === 'none') {{\n            console.log([gd, 'removed!']);\n            Plotly.purge(gd);\n            observer.disconnect();\n        }}\n}});\n\n// Listen for the removal of the full notebook cells\nvar notebookContainer = gd.closest('#notebook-container');\nif (notebookContainer) {{\n    x.observe(notebookContainer, {childList: true});\n}}\n\n// Listen for the clearing of the current output cell\nvar outputEl = gd.closest('.output');\nif (outputEl) {{\n    x.observe(outputEl, {childList: true});\n}}\n\n                        })\n                };\n                \n            </script>\n        </div>\n</body>\n</html>"
              }
            ],
            "_view_module": "@jupyter-widgets/output",
            "_model_module_version": "1.0.0",
            "_view_count": null,
            "_view_module_version": "1.0.0",
            "layout": "IPY_MODEL_89a984ba1522466a8eb38198cc317771",
            "_model_module": "@jupyter-widgets/output"
          }
        },
        "ddbdb6c4564f47efbe9aa713875f1a54": {
          "model_module": "@jupyter-widgets/controls",
          "model_name": "DescriptionStyleModel",
          "state": {
            "_view_name": "StyleView",
            "_model_name": "DescriptionStyleModel",
            "description_width": "",
            "_view_module": "@jupyter-widgets/base",
            "_model_module_version": "1.5.0",
            "_view_count": null,
            "_view_module_version": "1.2.0",
            "_model_module": "@jupyter-widgets/controls"
          }
        },
        "851d459cf6aa4745b519b75faec1c272": {
          "model_module": "@jupyter-widgets/base",
          "model_name": "LayoutModel",
          "state": {
            "_view_name": "LayoutView",
            "grid_template_rows": null,
            "right": null,
            "justify_content": null,
            "_view_module": "@jupyter-widgets/base",
            "overflow": null,
            "_model_module_version": "1.2.0",
            "_view_count": null,
            "flex_flow": null,
            "width": null,
            "min_width": null,
            "border": null,
            "align_items": null,
            "bottom": null,
            "_model_module": "@jupyter-widgets/base",
            "top": null,
            "grid_column": null,
            "overflow_y": null,
            "overflow_x": null,
            "grid_auto_flow": null,
            "grid_area": null,
            "grid_template_columns": null,
            "flex": null,
            "_model_name": "LayoutModel",
            "justify_items": null,
            "grid_row": null,
            "max_height": null,
            "align_content": null,
            "visibility": null,
            "align_self": null,
            "height": null,
            "min_height": null,
            "padding": null,
            "grid_auto_rows": null,
            "grid_gap": null,
            "max_width": null,
            "order": null,
            "_view_module_version": "1.2.0",
            "grid_template_areas": null,
            "object_position": null,
            "object_fit": null,
            "grid_auto_columns": null,
            "margin": null,
            "display": null,
            "left": null
          }
        },
        "9090c826b22545599b7ee8c6120f8829": {
          "model_module": "@jupyter-widgets/controls",
          "model_name": "DescriptionStyleModel",
          "state": {
            "_view_name": "StyleView",
            "_model_name": "DescriptionStyleModel",
            "description_width": "",
            "_view_module": "@jupyter-widgets/base",
            "_model_module_version": "1.5.0",
            "_view_count": null,
            "_view_module_version": "1.2.0",
            "_model_module": "@jupyter-widgets/controls"
          }
        },
        "46f2a2f36d904021bc03fc345cbb6957": {
          "model_module": "@jupyter-widgets/base",
          "model_name": "LayoutModel",
          "state": {
            "_view_name": "LayoutView",
            "grid_template_rows": null,
            "right": null,
            "justify_content": null,
            "_view_module": "@jupyter-widgets/base",
            "overflow": null,
            "_model_module_version": "1.2.0",
            "_view_count": null,
            "flex_flow": null,
            "width": null,
            "min_width": null,
            "border": null,
            "align_items": null,
            "bottom": null,
            "_model_module": "@jupyter-widgets/base",
            "top": null,
            "grid_column": null,
            "overflow_y": null,
            "overflow_x": null,
            "grid_auto_flow": null,
            "grid_area": null,
            "grid_template_columns": null,
            "flex": null,
            "_model_name": "LayoutModel",
            "justify_items": null,
            "grid_row": null,
            "max_height": null,
            "align_content": null,
            "visibility": null,
            "align_self": null,
            "height": null,
            "min_height": null,
            "padding": null,
            "grid_auto_rows": null,
            "grid_gap": null,
            "max_width": null,
            "order": null,
            "_view_module_version": "1.2.0",
            "grid_template_areas": null,
            "object_position": null,
            "object_fit": null,
            "grid_auto_columns": null,
            "margin": null,
            "display": null,
            "left": null
          }
        },
        "89a984ba1522466a8eb38198cc317771": {
          "model_module": "@jupyter-widgets/base",
          "model_name": "LayoutModel",
          "state": {
            "_view_name": "LayoutView",
            "grid_template_rows": null,
            "right": null,
            "justify_content": null,
            "_view_module": "@jupyter-widgets/base",
            "overflow": null,
            "_model_module_version": "1.2.0",
            "_view_count": null,
            "flex_flow": null,
            "width": null,
            "min_width": null,
            "border": null,
            "align_items": null,
            "bottom": null,
            "_model_module": "@jupyter-widgets/base",
            "top": null,
            "grid_column": null,
            "overflow_y": null,
            "overflow_x": null,
            "grid_auto_flow": null,
            "grid_area": null,
            "grid_template_columns": null,
            "flex": null,
            "_model_name": "LayoutModel",
            "justify_items": null,
            "grid_row": null,
            "max_height": null,
            "align_content": null,
            "visibility": null,
            "align_self": null,
            "height": null,
            "min_height": null,
            "padding": null,
            "grid_auto_rows": null,
            "grid_gap": null,
            "max_width": null,
            "order": null,
            "_view_module_version": "1.2.0",
            "grid_template_areas": null,
            "object_position": null,
            "object_fit": null,
            "grid_auto_columns": null,
            "margin": null,
            "display": null,
            "left": null
          }
        },
        "67deb82d44ac48e7ad105c24c128b523": {
          "model_module": "@jupyter-widgets/controls",
          "model_name": "VBoxModel",
          "state": {
            "_view_name": "VBoxView",
            "_dom_classes": [
              "widget-interact"
            ],
            "_model_name": "VBoxModel",
            "_view_module": "@jupyter-widgets/controls",
            "_model_module_version": "1.5.0",
            "_view_count": null,
            "_view_module_version": "1.5.0",
            "box_style": "",
            "layout": "IPY_MODEL_d991826da29c4062968e1c42d9dacc0d",
            "_model_module": "@jupyter-widgets/controls",
            "children": [
              "IPY_MODEL_9e9da95ebe3f4211b3efac3a6acdac89",
              "IPY_MODEL_926ad3150b5a4d698d7f4e343fe22335",
              "IPY_MODEL_840263ca6d344cf18438c17394940c1e"
            ]
          }
        },
        "d991826da29c4062968e1c42d9dacc0d": {
          "model_module": "@jupyter-widgets/base",
          "model_name": "LayoutModel",
          "state": {
            "_view_name": "LayoutView",
            "grid_template_rows": null,
            "right": null,
            "justify_content": null,
            "_view_module": "@jupyter-widgets/base",
            "overflow": null,
            "_model_module_version": "1.2.0",
            "_view_count": null,
            "flex_flow": null,
            "width": null,
            "min_width": null,
            "border": null,
            "align_items": null,
            "bottom": null,
            "_model_module": "@jupyter-widgets/base",
            "top": null,
            "grid_column": null,
            "overflow_y": null,
            "overflow_x": null,
            "grid_auto_flow": null,
            "grid_area": null,
            "grid_template_columns": null,
            "flex": null,
            "_model_name": "LayoutModel",
            "justify_items": null,
            "grid_row": null,
            "max_height": null,
            "align_content": null,
            "visibility": null,
            "align_self": null,
            "height": null,
            "min_height": null,
            "padding": null,
            "grid_auto_rows": null,
            "grid_gap": null,
            "max_width": null,
            "order": null,
            "_view_module_version": "1.2.0",
            "grid_template_areas": null,
            "object_position": null,
            "object_fit": null,
            "grid_auto_columns": null,
            "margin": null,
            "display": null,
            "left": null
          }
        },
        "9e9da95ebe3f4211b3efac3a6acdac89": {
          "model_module": "@jupyter-widgets/controls",
          "model_name": "DropdownModel",
          "state": {
            "_options_labels": [
              "Quantity",
              "UnitPrice",
              "Revenue"
            ],
            "_view_name": "DropdownView",
            "style": "IPY_MODEL_3ab90fb08e8149a5993a8ee56b4d90c9",
            "_dom_classes": [],
            "description": "x_field",
            "_model_name": "DropdownModel",
            "index": 0,
            "_view_module": "@jupyter-widgets/controls",
            "_model_module_version": "1.5.0",
            "_view_count": null,
            "disabled": false,
            "_view_module_version": "1.5.0",
            "description_tooltip": null,
            "_model_module": "@jupyter-widgets/controls",
            "layout": "IPY_MODEL_15624c53771d406b9de2c5c100c26c3d"
          }
        },
        "926ad3150b5a4d698d7f4e343fe22335": {
          "model_module": "@jupyter-widgets/controls",
          "model_name": "DropdownModel",
          "state": {
            "_options_labels": [
              "Quantity",
              "UnitPrice",
              "Revenue"
            ],
            "_view_name": "DropdownView",
            "style": "IPY_MODEL_420dc099e27a4b7d8f6a3cdb3b874b8d",
            "_dom_classes": [],
            "description": "y_field",
            "_model_name": "DropdownModel",
            "index": 0,
            "_view_module": "@jupyter-widgets/controls",
            "_model_module_version": "1.5.0",
            "_view_count": null,
            "disabled": false,
            "_view_module_version": "1.5.0",
            "description_tooltip": null,
            "_model_module": "@jupyter-widgets/controls",
            "layout": "IPY_MODEL_b7a256c8cd274c60bffea0b8602a4fc7"
          }
        },
        "840263ca6d344cf18438c17394940c1e": {
          "model_module": "@jupyter-widgets/output",
          "model_name": "OutputModel",
          "state": {
            "_view_name": "OutputView",
            "msg_id": "",
            "_dom_classes": [],
            "_model_name": "OutputModel",
            "outputs": [
              {
                "output_type": "display_data",
                "metadata": {
                  "tags": []
                },
                "text/html": "<html>\n<head><meta charset=\"utf-8\" /></head>\n<body>\n    <div>\n            <script src=\"https://cdnjs.cloudflare.com/ajax/libs/mathjax/2.7.5/MathJax.js?config=TeX-AMS-MML_SVG\"></script><script type=\"text/javascript\">if (window.MathJax) {MathJax.Hub.Config({SVG: {font: \"STIX-Web\"}});}</script>\n                <script type=\"text/javascript\">window.PlotlyConfig = {MathJaxConfig: 'local'};</script>\n        <script src=\"https://cdn.plot.ly/plotly-latest.min.js\"></script>    \n            <div id=\"0da66ccf-b48c-4df9-bdbe-12c3bc9b4df7\" class=\"plotly-graph-div\" style=\"height:525px; width:100%;\"></div>\n            <script type=\"text/javascript\">\n                \n                    window.PLOTLYENV=window.PLOTLYENV || {};\n                    \n                if (document.getElementById(\"0da66ccf-b48c-4df9-bdbe-12c3bc9b4df7\")) {\n                    Plotly.newPlot(\n                        '0da66ccf-b48c-4df9-bdbe-12c3bc9b4df7',\n                        [{\"hoverlabel\": {\"namelength\": 0}, \"hovertemplate\": \"Quantity=%{y}<br>Revenue=%{marker.size}\", \"legendgroup\": \"\", \"marker\": {\"color\": \"#636efa\", \"line\": {\"color\": \"black\", \"width\": 1}, \"size\": [42213.57999999986, 47123.67999999988, 18833.990000000063, 25807.890000000127, 29651.870000000148, 51037.739999999874, 35173.44000000008, 28574.350000000046, 28749.970000000012, 13715.180000000035, 26747.970000000078, 26502.220000000143, 30099.02000000008, 47419.27000000011, 9655.860000000008, 6536.4199999999955, 16546.330000000034, 5825.529999999996, 4175.399999999999, 3963.969999999998, 11566.750000000011, 27393.500000000102, 26405.140000000083, 17617.900000000045, 14306.040000000032, 11622.289999999988, 53572.33000000001, 14289.000000000004, 12809.200000000006, 9866.789999999994, 7239.5599999999895, 13503.790000000003, 6837.340000000003, 9149.140000000003, 10350.029999999997, 15206.880000000008, 9885.749999999989, 11961.260000000011, 19062.510000000042, 13900.330000000005, 16735.680000000022, 12243.629999999996, 6615.749999999988, 12756.470000000003, 23376.200000000077, 15925.080000000054, 18837.750000000033, 15571.880000000016, 3457.1099999999974, 21161.10000000003, 12393.04000000001, 4707.459999999995, 13525.000000000005, 16012.000000000011, 5713.629999999987, 18841.53000000001, 17354.33000000004, 19420.840000000037, 15468.89000000002, 12902.36, 9621.29000000001, 10549.800000000008, 25938.280000000053, 17009.81000000006, 19781.490000000016, 16658.040000000037, 9003.349999999995, 12270.729999999992, 12668.970000000003, 17842.850000000013, 14253.730000000007, 14478.590000000006, 9997.419999999996, 19354.57, 19713.190000000024, 17654.58000000002, 16104.78000000002, 15811.390000000012, 3792.7499999999964, 18687.930000000044, 10663.509999999982, 19970.569999999996, 25161.96000000005, 20262.100000000006, 18571.55000000005, 15497.830000000009, 15738.300000000012, 17283.29, 33742.19000000015, 20860.690000000057, 9045.399999999994, 15495.780000000044, 18943.020000000015, 25861.460000000036, 19193.120000000024, 22052.60000000003, 6918.499999999987, 19082.97000000008, 18547.91000000004, 11766.329999999993, 14086.36000000004, 17668.04000000004, 9437.489999999982, 17591.070000000003, 23364.570000000043, 22980.23999999998, 30923.94000000009, 15724.420000000024, 11648.540000000012, 40258.959999999934, 15178.829999999996, 24581.149999999994, 23982.280000000104, 20548.39000000005, 21684.58000000005, 18803.40999999999, 5879.329999999998, 17754.160000000014, 24794.91, 21475.050000000054, 25601.910000000047, 16911.439999999988, 19627.699999999997, 26916.26000000002, 27145.370000000046, 26580.56, 22652.669999999987, 8921.569999999987, 30334.720000000005, 32337.01000000002, 29700.98000000004, 26350.839999999967, 22879.860000000015, 21616.570000000003, 23693.960000000032, 31775.89000000007, 17844.539999999968, 21583.029999999984, 19312.470000000016, 6811.569999999999, 14374.189999999982, 9207.029999999966, 25990.79999999997, 13155.640000000003, 19511.230000000047, 13613.359999999986, 32640.340000000066, 23416.110000000008, 36922.400000000176, 50930.64000000003, 11528.82999999997, 13925.15999999998, 33334.080000000096, 15041.169999999995, 28619.649999999987, 14021.469999999988, 15765.389999999972, 17482.460000000043, 16510.27999999999, 16501.899999999998, 20230.830000000024, 13783.659999999965, 6276.00999999999, 12394.639999999985, 15769.629999999977, 9631.93999999998, 37862.70000000012, 9510.049999999976, 6032.389999999985, 24928.470000000038, 24441.87000000002, 18110.350000000006, 25901.670000000006, 14732.529999999988, 5987.569999999987, 17514.350000000013, 15680.519999999997, 13687.31999999998, 24341.860000000044, 9512.259999999984, 16463.269999999993, 14851.859999999975, 29166.33000000008, 24514.390000000094, 26473.989999999983, 12975.67999999997, 25089.530000000046, 15845.49999999998, 16000.089999999998, 16550.15000000001, 46586.15000000018, 15833.769999999973, 13557.839999999993, 17709.66, 13634.549999999968, 24918.630000000016, 53726.530000000086, 15390.970000000018, 7469.559999999997, 17281.529999999995, 13147.089999999947, 16375.299999999992, 29988.72000000002, 12477.289999999986, 5671.919999999996, 13110.459999999974, 15561.39999999998, 45617.52000000008, 26373.520000000055, 12862.029999999977, 11759.089999999944, 26609.280000000046, 17769.560000000005, 35967.23000000007, 18238.22, 13269.809999999947, 9558.53999999998, 8292.79, 12461.459999999983, 28525.529999999977, 25771.19000000003, 13093.45999999997, 24391.54000000001, 20044.190000000024, 15647.369999999984, 18051.759999999977, 19156.820000000018, 33695.40000000019, 27989.399999999998, 35062.710000000116, 19682.510000000046, 65843.34000000032, 21472.089999999927, 15744.08, 19133.63999999999, 100457.88000000012, 29689.970000000023, 46689.55000000032, 23874.750000000047, 28749.490000000023, 26168.790000000026, 27596.16000000002, 32102.49000000004, 41286.71000000025, 31335.38000000009, 11582.94999999998, 57944.40000000007, 37282.9300000001, 47006.130000000114, 52557.64000000018, 42327.320000000014, 12466.80999999997, 36566.09000000016, 36646.389999999985, 20404.31999999999, 22914.030000000075, 22124.190000000024, 22010.57000000011, 30477.38000000008, 30769.47000000003, 23005.499999999996, 29107.14000000012, 52604.40999999999, 12288.779999999959, 35326.359999999964, 32357.960000000043, 29854.500000000062, 33263.52000000004, 25666.34000000006, 30573.580000000034, 27974.340000000004, 25110.95000000011, 31751.00999999999, 56727.85000000006, 50905.33000000028, 33143.99000000026, 25956.300000000112, 35801.490000000085, 58843.670000000195, 54500.360000000204, 28480.310000000125, 24543.63000000015, 51760.150000000125, 37377.200000000084, 38278.08000000008, 36433.48000000018, 28864.920000000107, 26697.3700000002, 40692.53000000021, 42999.48000000014, 55222.9300000002, 30561.68000000006, 22976.86000000008, 16464.77000000002, 45773.86000000017, 41509.760000000104, 31899.450000000037, 41329.14000000013, 40707.47000000001, 17390.660000000033, 52893.630000000085, 42063.55000000022, 49238.47000000023, 47146.11000000019, 11093.179999999995], \"sizemode\": \"area\", \"sizeref\": 251.1447000000003, \"symbol\": \"circle\"}, \"mode\": \"markers\", \"name\": \"\", \"showlegend\": false, \"type\": \"scatter\", \"x\": [21308, 30987, 7646, 13603, 15515, 18218, 18879, 13506, 14027, 8190, 15032, 16570, 18245, 28176, 4488, 3247, 11828, 3711, 2232, 2161, 6659, 17635, 16292, 11238, 7398, 7377, 23286, 6386, 7464, 5320, 4202, 7371, 4480, 6583, 5741, 6657, 5115, 7636, 11572, 8293, 9096, 5346, 3431, 9417, 13536, 8184, 14502, 10226, 2048, 8009, 7152, 2399, 11102, 8678, 2756, 10230, 10285, 12861, 11670, 7593, 5349, 6277, 17965, 10927, 10782, 9168, 4582, 7010, 7614, 8148, 7842, 11186, 5048, 10738, 12288, 9876, 9957, 8304, 2539, 10146, 6284, 12273, 16488, 11737, 12742, 9227, 11757, 10962, 17072, 9999, 4467, 8237, 11997, 17969, 11321, 17149, 5667, 10937, 10564, 7370, 8055, 10596, 5442, 11401, 14417, 18084, 16835, 10205, 7630, 19578, 10839, 17324, 15392, 14047, 16899, 11915, 3172, 9566, 15624, 13906, 16057, 9476, 10451, 14477, 15995, 14576, 11722, 4489, 12578, 15759, 17217, 14708, 13985, 11483, 15527, 14247, 10239, 10097, 13686, 3866, 8900, 6091, 12587, 6429, 10412, 7826, 17033, 14208, 23895, 6435, 8427, 8017, 12971, 10162, 18126, 9045, 9876, 10204, 11520, 11551, 12725, 7787, 3314, 8651, 9806, 5362, 18471, 6078, 3117, 9438, 17063, 13285, 16694, 8657, 4251, 12406, 10256, 9050, 12967, 5811, 10677, 8428, 19242, 14412, 17799, 7321, 16535, 12225, 12153, 9292, 25137, 10430, 10776, 10484, 10371, 15124, 35474, 9982, 5125, 10931, 7606, 10756, 19827, 7714, 3177, 7203, 10297, 23314, 18347, 8003, 6754, 14214, 11555, 25572, 10687, 9713, 5974, 4032, 8555, 22003, 13732, 7516, 16021, 12504, 10216, 13258, 12552, 20050, 16438, 25634, 11481, 25940, 13326, 8993, 12299, 40991, 15845, 26367, 15068, 18174, 14156, 18732, 20501, 25058, 17161, 8375, 24420, 22678, 32641, 30096, 24915, 7534, 22265, 19616, 12818, 13339, 13765, 8769, 18202, 23217, 14186, 16369, 19813, 7071, 22515, 23310, 18131, 24455, 16692, 17631, 12904, 14648, 22681, 30681, 31205, 18327, 14935, 20283, 34651, 27821, 19085, 17174, 29048, 21351, 23089, 21814, 16858, 17217, 22395, 26659, 28608, 19132, 12655, 10291, 25525, 22276, 18910, 23502, 22960, 9855, 35874, 25909, 29078, 25441, 6172], \"xaxis\": \"x\", \"y\": [21308, 30987, 7646, 13603, 15515, 18218, 18879, 13506, 14027, 8190, 15032, 16570, 18245, 28176, 4488, 3247, 11828, 3711, 2232, 2161, 6659, 17635, 16292, 11238, 7398, 7377, 23286, 6386, 7464, 5320, 4202, 7371, 4480, 6583, 5741, 6657, 5115, 7636, 11572, 8293, 9096, 5346, 3431, 9417, 13536, 8184, 14502, 10226, 2048, 8009, 7152, 2399, 11102, 8678, 2756, 10230, 10285, 12861, 11670, 7593, 5349, 6277, 17965, 10927, 10782, 9168, 4582, 7010, 7614, 8148, 7842, 11186, 5048, 10738, 12288, 9876, 9957, 8304, 2539, 10146, 6284, 12273, 16488, 11737, 12742, 9227, 11757, 10962, 17072, 9999, 4467, 8237, 11997, 17969, 11321, 17149, 5667, 10937, 10564, 7370, 8055, 10596, 5442, 11401, 14417, 18084, 16835, 10205, 7630, 19578, 10839, 17324, 15392, 14047, 16899, 11915, 3172, 9566, 15624, 13906, 16057, 9476, 10451, 14477, 15995, 14576, 11722, 4489, 12578, 15759, 17217, 14708, 13985, 11483, 15527, 14247, 10239, 10097, 13686, 3866, 8900, 6091, 12587, 6429, 10412, 7826, 17033, 14208, 23895, 6435, 8427, 8017, 12971, 10162, 18126, 9045, 9876, 10204, 11520, 11551, 12725, 7787, 3314, 8651, 9806, 5362, 18471, 6078, 3117, 9438, 17063, 13285, 16694, 8657, 4251, 12406, 10256, 9050, 12967, 5811, 10677, 8428, 19242, 14412, 17799, 7321, 16535, 12225, 12153, 9292, 25137, 10430, 10776, 10484, 10371, 15124, 35474, 9982, 5125, 10931, 7606, 10756, 19827, 7714, 3177, 7203, 10297, 23314, 18347, 8003, 6754, 14214, 11555, 25572, 10687, 9713, 5974, 4032, 8555, 22003, 13732, 7516, 16021, 12504, 10216, 13258, 12552, 20050, 16438, 25634, 11481, 25940, 13326, 8993, 12299, 40991, 15845, 26367, 15068, 18174, 14156, 18732, 20501, 25058, 17161, 8375, 24420, 22678, 32641, 30096, 24915, 7534, 22265, 19616, 12818, 13339, 13765, 8769, 18202, 23217, 14186, 16369, 19813, 7071, 22515, 23310, 18131, 24455, 16692, 17631, 12904, 14648, 22681, 30681, 31205, 18327, 14935, 20283, 34651, 27821, 19085, 17174, 29048, 21351, 23089, 21814, 16858, 17217, 22395, 26659, 28608, 19132, 12655, 10291, 25525, 22276, 18910, 23502, 22960, 9855, 35874, 25909, 29078, 25441, 6172], \"yaxis\": \"y\"}],\n                        {\"legend\": {\"itemsizing\": \"constant\", \"tracegroupgap\": 0}, \"margin\": {\"t\": 60}, \"template\": {\"data\": {\"bar\": [{\"error_x\": {\"color\": \"#2a3f5f\"}, \"error_y\": {\"color\": \"#2a3f5f\"}, \"marker\": {\"line\": {\"color\": \"#E5ECF6\", \"width\": 0.5}}, \"type\": \"bar\"}], \"barpolar\": [{\"marker\": {\"line\": {\"color\": \"#E5ECF6\", \"width\": 0.5}}, \"type\": \"barpolar\"}], \"carpet\": [{\"aaxis\": {\"endlinecolor\": \"#2a3f5f\", \"gridcolor\": \"white\", \"linecolor\": \"white\", \"minorgridcolor\": \"white\", \"startlinecolor\": \"#2a3f5f\"}, \"baxis\": {\"endlinecolor\": \"#2a3f5f\", \"gridcolor\": \"white\", \"linecolor\": \"white\", \"minorgridcolor\": \"white\", \"startlinecolor\": \"#2a3f5f\"}, \"type\": \"carpet\"}], \"choropleth\": [{\"colorbar\": {\"outlinewidth\": 0, \"ticks\": \"\"}, \"type\": \"choropleth\"}], \"contour\": [{\"colorbar\": {\"outlinewidth\": 0, \"ticks\": \"\"}, \"colorscale\": [[0.0, \"#0d0887\"], [0.1111111111111111, \"#46039f\"], [0.2222222222222222, \"#7201a8\"], [0.3333333333333333, \"#9c179e\"], [0.4444444444444444, \"#bd3786\"], [0.5555555555555556, \"#d8576b\"], [0.6666666666666666, \"#ed7953\"], [0.7777777777777778, \"#fb9f3a\"], [0.8888888888888888, \"#fdca26\"], [1.0, \"#f0f921\"]], \"type\": \"contour\"}], \"contourcarpet\": [{\"colorbar\": {\"outlinewidth\": 0, \"ticks\": \"\"}, \"type\": \"contourcarpet\"}], \"heatmap\": [{\"colorbar\": {\"outlinewidth\": 0, \"ticks\": \"\"}, \"colorscale\": [[0.0, \"#0d0887\"], [0.1111111111111111, \"#46039f\"], [0.2222222222222222, \"#7201a8\"], [0.3333333333333333, \"#9c179e\"], [0.4444444444444444, \"#bd3786\"], [0.5555555555555556, \"#d8576b\"], [0.6666666666666666, \"#ed7953\"], [0.7777777777777778, \"#fb9f3a\"], [0.8888888888888888, \"#fdca26\"], [1.0, \"#f0f921\"]], \"type\": \"heatmap\"}], \"heatmapgl\": [{\"colorbar\": {\"outlinewidth\": 0, \"ticks\": \"\"}, \"colorscale\": [[0.0, \"#0d0887\"], [0.1111111111111111, \"#46039f\"], [0.2222222222222222, \"#7201a8\"], [0.3333333333333333, \"#9c179e\"], [0.4444444444444444, \"#bd3786\"], [0.5555555555555556, \"#d8576b\"], [0.6666666666666666, \"#ed7953\"], [0.7777777777777778, \"#fb9f3a\"], [0.8888888888888888, \"#fdca26\"], [1.0, \"#f0f921\"]], \"type\": \"heatmapgl\"}], \"histogram\": [{\"marker\": {\"colorbar\": {\"outlinewidth\": 0, \"ticks\": \"\"}}, \"type\": \"histogram\"}], \"histogram2d\": [{\"colorbar\": {\"outlinewidth\": 0, \"ticks\": \"\"}, \"colorscale\": [[0.0, \"#0d0887\"], [0.1111111111111111, \"#46039f\"], [0.2222222222222222, \"#7201a8\"], [0.3333333333333333, \"#9c179e\"], [0.4444444444444444, \"#bd3786\"], [0.5555555555555556, \"#d8576b\"], [0.6666666666666666, \"#ed7953\"], [0.7777777777777778, \"#fb9f3a\"], [0.8888888888888888, \"#fdca26\"], [1.0, \"#f0f921\"]], \"type\": \"histogram2d\"}], \"histogram2dcontour\": [{\"colorbar\": {\"outlinewidth\": 0, \"ticks\": \"\"}, \"colorscale\": [[0.0, \"#0d0887\"], [0.1111111111111111, \"#46039f\"], [0.2222222222222222, \"#7201a8\"], [0.3333333333333333, \"#9c179e\"], [0.4444444444444444, \"#bd3786\"], [0.5555555555555556, \"#d8576b\"], [0.6666666666666666, \"#ed7953\"], [0.7777777777777778, \"#fb9f3a\"], [0.8888888888888888, \"#fdca26\"], [1.0, \"#f0f921\"]], \"type\": \"histogram2dcontour\"}], \"mesh3d\": [{\"colorbar\": {\"outlinewidth\": 0, \"ticks\": \"\"}, \"type\": \"mesh3d\"}], \"parcoords\": [{\"line\": {\"colorbar\": {\"outlinewidth\": 0, \"ticks\": \"\"}}, \"type\": \"parcoords\"}], \"pie\": [{\"automargin\": true, \"type\": \"pie\"}], \"scatter\": [{\"marker\": {\"colorbar\": {\"outlinewidth\": 0, \"ticks\": \"\"}}, \"type\": \"scatter\"}], \"scatter3d\": [{\"line\": {\"colorbar\": {\"outlinewidth\": 0, \"ticks\": \"\"}}, \"marker\": {\"colorbar\": {\"outlinewidth\": 0, \"ticks\": \"\"}}, \"type\": \"scatter3d\"}], \"scattercarpet\": [{\"marker\": {\"colorbar\": {\"outlinewidth\": 0, \"ticks\": \"\"}}, \"type\": \"scattercarpet\"}], \"scattergeo\": [{\"marker\": {\"colorbar\": {\"outlinewidth\": 0, \"ticks\": \"\"}}, \"type\": \"scattergeo\"}], \"scattergl\": [{\"marker\": {\"colorbar\": {\"outlinewidth\": 0, \"ticks\": \"\"}}, \"type\": \"scattergl\"}], \"scattermapbox\": [{\"marker\": {\"colorbar\": {\"outlinewidth\": 0, \"ticks\": \"\"}}, \"type\": \"scattermapbox\"}], \"scatterpolar\": [{\"marker\": {\"colorbar\": {\"outlinewidth\": 0, \"ticks\": \"\"}}, \"type\": \"scatterpolar\"}], \"scatterpolargl\": [{\"marker\": {\"colorbar\": {\"outlinewidth\": 0, \"ticks\": \"\"}}, \"type\": \"scatterpolargl\"}], \"scatterternary\": [{\"marker\": {\"colorbar\": {\"outlinewidth\": 0, \"ticks\": \"\"}}, \"type\": \"scatterternary\"}], \"surface\": [{\"colorbar\": {\"outlinewidth\": 0, \"ticks\": \"\"}, \"colorscale\": [[0.0, \"#0d0887\"], [0.1111111111111111, \"#46039f\"], [0.2222222222222222, \"#7201a8\"], [0.3333333333333333, \"#9c179e\"], [0.4444444444444444, \"#bd3786\"], [0.5555555555555556, \"#d8576b\"], [0.6666666666666666, \"#ed7953\"], [0.7777777777777778, \"#fb9f3a\"], [0.8888888888888888, \"#fdca26\"], [1.0, \"#f0f921\"]], \"type\": \"surface\"}], \"table\": [{\"cells\": {\"fill\": {\"color\": \"#EBF0F8\"}, \"line\": {\"color\": \"white\"}}, \"header\": {\"fill\": {\"color\": \"#C8D4E3\"}, \"line\": {\"color\": \"white\"}}, \"type\": \"table\"}]}, \"layout\": {\"annotationdefaults\": {\"arrowcolor\": \"#2a3f5f\", \"arrowhead\": 0, \"arrowwidth\": 1}, \"coloraxis\": {\"colorbar\": {\"outlinewidth\": 0, \"ticks\": \"\"}}, \"colorscale\": {\"diverging\": [[0, \"#8e0152\"], [0.1, \"#c51b7d\"], [0.2, \"#de77ae\"], [0.3, \"#f1b6da\"], [0.4, \"#fde0ef\"], [0.5, \"#f7f7f7\"], [0.6, \"#e6f5d0\"], [0.7, \"#b8e186\"], [0.8, \"#7fbc41\"], [0.9, \"#4d9221\"], [1, \"#276419\"]], \"sequential\": [[0.0, \"#0d0887\"], [0.1111111111111111, \"#46039f\"], [0.2222222222222222, \"#7201a8\"], [0.3333333333333333, \"#9c179e\"], [0.4444444444444444, \"#bd3786\"], [0.5555555555555556, \"#d8576b\"], [0.6666666666666666, \"#ed7953\"], [0.7777777777777778, \"#fb9f3a\"], [0.8888888888888888, \"#fdca26\"], [1.0, \"#f0f921\"]], \"sequentialminus\": [[0.0, \"#0d0887\"], [0.1111111111111111, \"#46039f\"], [0.2222222222222222, \"#7201a8\"], [0.3333333333333333, \"#9c179e\"], [0.4444444444444444, \"#bd3786\"], [0.5555555555555556, \"#d8576b\"], [0.6666666666666666, \"#ed7953\"], [0.7777777777777778, \"#fb9f3a\"], [0.8888888888888888, \"#fdca26\"], [1.0, \"#f0f921\"]]}, \"colorway\": [\"#636efa\", \"#EF553B\", \"#00cc96\", \"#ab63fa\", \"#FFA15A\", \"#19d3f3\", \"#FF6692\", \"#B6E880\", \"#FF97FF\", \"#FECB52\"], \"font\": {\"color\": \"#2a3f5f\"}, \"geo\": {\"bgcolor\": \"white\", \"lakecolor\": \"white\", \"landcolor\": \"#E5ECF6\", \"showlakes\": true, \"showland\": true, \"subunitcolor\": \"white\"}, \"hoverlabel\": {\"align\": \"left\"}, \"hovermode\": \"closest\", \"mapbox\": {\"style\": \"light\"}, \"paper_bgcolor\": \"white\", \"plot_bgcolor\": \"#E5ECF6\", \"polar\": {\"angularaxis\": {\"gridcolor\": \"white\", \"linecolor\": \"white\", \"ticks\": \"\"}, \"bgcolor\": \"#E5ECF6\", \"radialaxis\": {\"gridcolor\": \"white\", \"linecolor\": \"white\", \"ticks\": \"\"}}, \"scene\": {\"xaxis\": {\"backgroundcolor\": \"#E5ECF6\", \"gridcolor\": \"white\", \"gridwidth\": 2, \"linecolor\": \"white\", \"showbackground\": true, \"ticks\": \"\", \"zerolinecolor\": \"white\"}, \"yaxis\": {\"backgroundcolor\": \"#E5ECF6\", \"gridcolor\": \"white\", \"gridwidth\": 2, \"linecolor\": \"white\", \"showbackground\": true, \"ticks\": \"\", \"zerolinecolor\": \"white\"}, \"zaxis\": {\"backgroundcolor\": \"#E5ECF6\", \"gridcolor\": \"white\", \"gridwidth\": 2, \"linecolor\": \"white\", \"showbackground\": true, \"ticks\": \"\", \"zerolinecolor\": \"white\"}}, \"shapedefaults\": {\"line\": {\"color\": \"#2a3f5f\"}}, \"ternary\": {\"aaxis\": {\"gridcolor\": \"white\", \"linecolor\": \"white\", \"ticks\": \"\"}, \"baxis\": {\"gridcolor\": \"white\", \"linecolor\": \"white\", \"ticks\": \"\"}, \"bgcolor\": \"#E5ECF6\", \"caxis\": {\"gridcolor\": \"white\", \"linecolor\": \"white\", \"ticks\": \"\"}}, \"title\": {\"x\": 0.05}, \"xaxis\": {\"automargin\": true, \"gridcolor\": \"white\", \"linecolor\": \"white\", \"ticks\": \"\", \"title\": {\"standoff\": 15}, \"zerolinecolor\": \"white\", \"zerolinewidth\": 2}, \"yaxis\": {\"automargin\": true, \"gridcolor\": \"white\", \"linecolor\": \"white\", \"ticks\": \"\", \"title\": {\"standoff\": 15}, \"zerolinecolor\": \"white\", \"zerolinewidth\": 2}}}, \"xaxis\": {\"anchor\": \"y\", \"domain\": [0.0, 1.0], \"title\": {\"text\": \"Quantity\"}}, \"yaxis\": {\"anchor\": \"x\", \"domain\": [0.0, 1.0], \"title\": {\"text\": \"Quantity\"}}},\n                        {\"responsive\": true}\n                    ).then(function(){\n                            \nvar gd = document.getElementById('0da66ccf-b48c-4df9-bdbe-12c3bc9b4df7');\nvar x = new MutationObserver(function (mutations, observer) {{\n        var display = window.getComputedStyle(gd).display;\n        if (!display || display === 'none') {{\n            console.log([gd, 'removed!']);\n            Plotly.purge(gd);\n            observer.disconnect();\n        }}\n}});\n\n// Listen for the removal of the full notebook cells\nvar notebookContainer = gd.closest('#notebook-container');\nif (notebookContainer) {{\n    x.observe(notebookContainer, {childList: true});\n}}\n\n// Listen for the clearing of the current output cell\nvar outputEl = gd.closest('.output');\nif (outputEl) {{\n    x.observe(outputEl, {childList: true});\n}}\n\n                        })\n                };\n                \n            </script>\n        </div>\n</body>\n</html>"
              }
            ],
            "_view_module": "@jupyter-widgets/output",
            "_model_module_version": "1.0.0",
            "_view_count": null,
            "_view_module_version": "1.0.0",
            "layout": "IPY_MODEL_2d8f63ff75a1480f84797ae7c22fb9bc",
            "_model_module": "@jupyter-widgets/output"
          }
        },
        "3ab90fb08e8149a5993a8ee56b4d90c9": {
          "model_module": "@jupyter-widgets/controls",
          "model_name": "DescriptionStyleModel",
          "state": {
            "_view_name": "StyleView",
            "_model_name": "DescriptionStyleModel",
            "description_width": "",
            "_view_module": "@jupyter-widgets/base",
            "_model_module_version": "1.5.0",
            "_view_count": null,
            "_view_module_version": "1.2.0",
            "_model_module": "@jupyter-widgets/controls"
          }
        },
        "15624c53771d406b9de2c5c100c26c3d": {
          "model_module": "@jupyter-widgets/base",
          "model_name": "LayoutModel",
          "state": {
            "_view_name": "LayoutView",
            "grid_template_rows": null,
            "right": null,
            "justify_content": null,
            "_view_module": "@jupyter-widgets/base",
            "overflow": null,
            "_model_module_version": "1.2.0",
            "_view_count": null,
            "flex_flow": null,
            "width": null,
            "min_width": null,
            "border": null,
            "align_items": null,
            "bottom": null,
            "_model_module": "@jupyter-widgets/base",
            "top": null,
            "grid_column": null,
            "overflow_y": null,
            "overflow_x": null,
            "grid_auto_flow": null,
            "grid_area": null,
            "grid_template_columns": null,
            "flex": null,
            "_model_name": "LayoutModel",
            "justify_items": null,
            "grid_row": null,
            "max_height": null,
            "align_content": null,
            "visibility": null,
            "align_self": null,
            "height": null,
            "min_height": null,
            "padding": null,
            "grid_auto_rows": null,
            "grid_gap": null,
            "max_width": null,
            "order": null,
            "_view_module_version": "1.2.0",
            "grid_template_areas": null,
            "object_position": null,
            "object_fit": null,
            "grid_auto_columns": null,
            "margin": null,
            "display": null,
            "left": null
          }
        },
        "420dc099e27a4b7d8f6a3cdb3b874b8d": {
          "model_module": "@jupyter-widgets/controls",
          "model_name": "DescriptionStyleModel",
          "state": {
            "_view_name": "StyleView",
            "_model_name": "DescriptionStyleModel",
            "description_width": "",
            "_view_module": "@jupyter-widgets/base",
            "_model_module_version": "1.5.0",
            "_view_count": null,
            "_view_module_version": "1.2.0",
            "_model_module": "@jupyter-widgets/controls"
          }
        },
        "b7a256c8cd274c60bffea0b8602a4fc7": {
          "model_module": "@jupyter-widgets/base",
          "model_name": "LayoutModel",
          "state": {
            "_view_name": "LayoutView",
            "grid_template_rows": null,
            "right": null,
            "justify_content": null,
            "_view_module": "@jupyter-widgets/base",
            "overflow": null,
            "_model_module_version": "1.2.0",
            "_view_count": null,
            "flex_flow": null,
            "width": null,
            "min_width": null,
            "border": null,
            "align_items": null,
            "bottom": null,
            "_model_module": "@jupyter-widgets/base",
            "top": null,
            "grid_column": null,
            "overflow_y": null,
            "overflow_x": null,
            "grid_auto_flow": null,
            "grid_area": null,
            "grid_template_columns": null,
            "flex": null,
            "_model_name": "LayoutModel",
            "justify_items": null,
            "grid_row": null,
            "max_height": null,
            "align_content": null,
            "visibility": null,
            "align_self": null,
            "height": null,
            "min_height": null,
            "padding": null,
            "grid_auto_rows": null,
            "grid_gap": null,
            "max_width": null,
            "order": null,
            "_view_module_version": "1.2.0",
            "grid_template_areas": null,
            "object_position": null,
            "object_fit": null,
            "grid_auto_columns": null,
            "margin": null,
            "display": null,
            "left": null
          }
        },
        "2d8f63ff75a1480f84797ae7c22fb9bc": {
          "model_module": "@jupyter-widgets/base",
          "model_name": "LayoutModel",
          "state": {
            "_view_name": "LayoutView",
            "grid_template_rows": null,
            "right": null,
            "justify_content": null,
            "_view_module": "@jupyter-widgets/base",
            "overflow": null,
            "_model_module_version": "1.2.0",
            "_view_count": null,
            "flex_flow": null,
            "width": null,
            "min_width": null,
            "border": null,
            "align_items": null,
            "bottom": null,
            "_model_module": "@jupyter-widgets/base",
            "top": null,
            "grid_column": null,
            "overflow_y": null,
            "overflow_x": null,
            "grid_auto_flow": null,
            "grid_area": null,
            "grid_template_columns": null,
            "flex": null,
            "_model_name": "LayoutModel",
            "justify_items": null,
            "grid_row": null,
            "max_height": null,
            "align_content": null,
            "visibility": null,
            "align_self": null,
            "height": null,
            "min_height": null,
            "padding": null,
            "grid_auto_rows": null,
            "grid_gap": null,
            "max_width": null,
            "order": null,
            "_view_module_version": "1.2.0",
            "grid_template_areas": null,
            "object_position": null,
            "object_fit": null,
            "grid_auto_columns": null,
            "margin": null,
            "display": null,
            "left": null
          }
        },
        "a40d0cf9185746d8bf32ef465f184d36": {
          "model_module": "@jupyter-widgets/controls",
          "model_name": "VBoxModel",
          "state": {
            "_view_name": "VBoxView",
            "_dom_classes": [
              "widget-interact"
            ],
            "_model_name": "VBoxModel",
            "_view_module": "@jupyter-widgets/controls",
            "_model_module_version": "1.5.0",
            "_view_count": null,
            "_view_module_version": "1.5.0",
            "box_style": "",
            "layout": "IPY_MODEL_cf131b637d75494a88b1154928c0c638",
            "_model_module": "@jupyter-widgets/controls",
            "children": [
              "IPY_MODEL_2c151ef7c7f94c1dbe6ed48340ea011f",
              "IPY_MODEL_5c57c51d45b84156b5eae656dfedffc4",
              "IPY_MODEL_e0eac6a3e93e40cb8c613991eef72ef1"
            ]
          }
        },
        "cf131b637d75494a88b1154928c0c638": {
          "model_module": "@jupyter-widgets/base",
          "model_name": "LayoutModel",
          "state": {
            "_view_name": "LayoutView",
            "grid_template_rows": null,
            "right": null,
            "justify_content": null,
            "_view_module": "@jupyter-widgets/base",
            "overflow": null,
            "_model_module_version": "1.2.0",
            "_view_count": null,
            "flex_flow": null,
            "width": null,
            "min_width": null,
            "border": null,
            "align_items": null,
            "bottom": null,
            "_model_module": "@jupyter-widgets/base",
            "top": null,
            "grid_column": null,
            "overflow_y": null,
            "overflow_x": null,
            "grid_auto_flow": null,
            "grid_area": null,
            "grid_template_columns": null,
            "flex": null,
            "_model_name": "LayoutModel",
            "justify_items": null,
            "grid_row": null,
            "max_height": null,
            "align_content": null,
            "visibility": null,
            "align_self": null,
            "height": null,
            "min_height": null,
            "padding": null,
            "grid_auto_rows": null,
            "grid_gap": null,
            "max_width": null,
            "order": null,
            "_view_module_version": "1.2.0",
            "grid_template_areas": null,
            "object_position": null,
            "object_fit": null,
            "grid_auto_columns": null,
            "margin": null,
            "display": null,
            "left": null
          }
        },
        "2c151ef7c7f94c1dbe6ed48340ea011f": {
          "model_module": "@jupyter-widgets/controls",
          "model_name": "IntSliderModel",
          "state": {
            "_view_name": "IntSliderView",
            "style": "IPY_MODEL_96120b31b2e948148cff9b1fc317e7b4",
            "_dom_classes": [],
            "description": "top_products",
            "step": 1,
            "_model_name": "IntSliderModel",
            "orientation": "horizontal",
            "max": 25,
            "_view_module": "@jupyter-widgets/controls",
            "_model_module_version": "1.5.0",
            "value": 15,
            "_view_count": null,
            "disabled": false,
            "_view_module_version": "1.5.0",
            "min": 5,
            "continuous_update": true,
            "readout_format": "d",
            "description_tooltip": null,
            "readout": true,
            "_model_module": "@jupyter-widgets/controls",
            "layout": "IPY_MODEL_bc1853b82de54d1f9e38ab0a9cadb001"
          }
        },
        "5c57c51d45b84156b5eae656dfedffc4": {
          "model_module": "@jupyter-widgets/controls",
          "model_name": "DropdownModel",
          "state": {
            "_options_labels": [
              "2010-December",
              "2011-January",
              "2011-February",
              "2011-March",
              "2011-April",
              "2011-May",
              "2011-June",
              "2011-July",
              "2011-August",
              "2011-September",
              "2011-October",
              "2011-November",
              "2011-December"
            ],
            "_view_name": "DropdownView",
            "style": "IPY_MODEL_4aa32808a7774623b1841603e6dca550",
            "_dom_classes": [],
            "description": "YearMonth",
            "_model_name": "DropdownModel",
            "index": 0,
            "_view_module": "@jupyter-widgets/controls",
            "_model_module_version": "1.5.0",
            "_view_count": null,
            "disabled": false,
            "_view_module_version": "1.5.0",
            "description_tooltip": null,
            "_model_module": "@jupyter-widgets/controls",
            "layout": "IPY_MODEL_83822ebcc57e4f20ab3d49a005fb2bad"
          }
        },
        "e0eac6a3e93e40cb8c613991eef72ef1": {
          "model_module": "@jupyter-widgets/output",
          "model_name": "OutputModel",
          "state": {
            "_view_name": "OutputView",
            "msg_id": "",
            "_dom_classes": [],
            "_model_name": "OutputModel",
            "outputs": [
              {
                "output_type": "display_data",
                "metadata": {
                  "tags": []
                },
                "text/html": "<html>\n<head><meta charset=\"utf-8\" /></head>\n<body>\n    <div>\n            <script src=\"https://cdnjs.cloudflare.com/ajax/libs/mathjax/2.7.5/MathJax.js?config=TeX-AMS-MML_SVG\"></script><script type=\"text/javascript\">if (window.MathJax) {MathJax.Hub.Config({SVG: {font: \"STIX-Web\"}});}</script>\n                <script type=\"text/javascript\">window.PlotlyConfig = {MathJaxConfig: 'local'};</script>\n        <script src=\"https://cdn.plot.ly/plotly-latest.min.js\"></script>    \n            <div id=\"28c8d8b3-5369-4b4f-8e76-372b7f110743\" class=\"plotly-graph-div\" style=\"height:525px; width:100%;\"></div>\n            <script type=\"text/javascript\">\n                \n                    window.PLOTLYENV=window.PLOTLYENV || {};\n                    \n                if (document.getElementById(\"28c8d8b3-5369-4b4f-8e76-372b7f110743\")) {\n                    Plotly.newPlot(\n                        '28c8d8b3-5369-4b4f-8e76-372b7f110743',\n                        [{\"alignmentgroup\": \"True\", \"hoverlabel\": {\"namelength\": 0}, \"hovertemplate\": \"StockCode=%{x}<br>Quantity=%{y}\", \"legendgroup\": \"StockCode=84077\", \"marker\": {\"color\": \"#636efa\", \"line\": {\"color\": \"black\", \"width\": 1}}, \"name\": \"StockCode=84077\", \"offsetgroup\": \"StockCode=84077\", \"orientation\": \"v\", \"showlegend\": true, \"textposition\": \"auto\", \"type\": \"bar\", \"x\": [84077], \"xaxis\": \"x\", \"y\": [4515], \"yaxis\": \"y\"}, {\"alignmentgroup\": \"True\", \"hoverlabel\": {\"namelength\": 0}, \"hovertemplate\": \"StockCode=%{x}<br>Quantity=%{y}\", \"legendgroup\": \"StockCode=85123A\", \"marker\": {\"color\": \"#EF553B\", \"line\": {\"color\": \"black\", \"width\": 1}}, \"name\": \"StockCode=85123A\", \"offsetgroup\": \"StockCode=85123A\", \"orientation\": \"v\", \"showlegend\": true, \"textposition\": \"auto\", \"type\": \"bar\", \"x\": [\"85123A\"], \"xaxis\": \"x\", \"y\": [3492], \"yaxis\": \"y\"}, {\"alignmentgroup\": \"True\", \"hoverlabel\": {\"namelength\": 0}, \"hovertemplate\": \"StockCode=%{x}<br>Quantity=%{y}\", \"legendgroup\": \"StockCode=22834\", \"marker\": {\"color\": \"#00cc96\", \"line\": {\"color\": \"black\", \"width\": 1}}, \"name\": \"StockCode=22834\", \"offsetgroup\": \"StockCode=22834\", \"orientation\": \"v\", \"showlegend\": true, \"textposition\": \"auto\", \"type\": \"bar\", \"x\": [22834], \"xaxis\": \"x\", \"y\": [3199], \"yaxis\": \"y\"}, {\"alignmentgroup\": \"True\", \"hoverlabel\": {\"namelength\": 0}, \"hovertemplate\": \"StockCode=%{x}<br>Quantity=%{y}\", \"legendgroup\": \"StockCode=21212\", \"marker\": {\"color\": \"#ab63fa\", \"line\": {\"color\": \"black\", \"width\": 1}}, \"name\": \"StockCode=21212\", \"offsetgroup\": \"StockCode=21212\", \"orientation\": \"v\", \"showlegend\": true, \"textposition\": \"auto\", \"type\": \"bar\", \"x\": [21212], \"xaxis\": \"x\", \"y\": [2732], \"yaxis\": \"y\"}, {\"alignmentgroup\": \"True\", \"hoverlabel\": {\"namelength\": 0}, \"hovertemplate\": \"StockCode=%{x}<br>Quantity=%{y}\", \"legendgroup\": \"StockCode=22693\", \"marker\": {\"color\": \"#FFA15A\", \"line\": {\"color\": \"black\", \"width\": 1}}, \"name\": \"StockCode=22693\", \"offsetgroup\": \"StockCode=22693\", \"orientation\": \"v\", \"showlegend\": true, \"textposition\": \"auto\", \"type\": \"bar\", \"x\": [22693], \"xaxis\": \"x\", \"y\": [2616], \"yaxis\": \"y\"}, {\"alignmentgroup\": \"True\", \"hoverlabel\": {\"namelength\": 0}, \"hovertemplate\": \"StockCode=%{x}<br>Quantity=%{y}\", \"legendgroup\": \"StockCode=22616\", \"marker\": {\"color\": \"#19d3f3\", \"line\": {\"color\": \"black\", \"width\": 1}}, \"name\": \"StockCode=22616\", \"offsetgroup\": \"StockCode=22616\", \"orientation\": \"v\", \"showlegend\": true, \"textposition\": \"auto\", \"type\": \"bar\", \"x\": [22616], \"xaxis\": \"x\", \"y\": [2560], \"yaxis\": \"y\"}, {\"alignmentgroup\": \"True\", \"hoverlabel\": {\"namelength\": 0}, \"hovertemplate\": \"StockCode=%{x}<br>Quantity=%{y}\", \"legendgroup\": \"StockCode=22492\", \"marker\": {\"color\": \"#FF6692\", \"line\": {\"color\": \"black\", \"width\": 1}}, \"name\": \"StockCode=22492\", \"offsetgroup\": \"StockCode=22492\", \"orientation\": \"v\", \"showlegend\": true, \"textposition\": \"auto\", \"type\": \"bar\", \"x\": [22492], \"xaxis\": \"x\", \"y\": [2484], \"yaxis\": \"y\"}, {\"alignmentgroup\": \"True\", \"hoverlabel\": {\"namelength\": 0}, \"hovertemplate\": \"StockCode=%{x}<br>Quantity=%{y}\", \"legendgroup\": \"StockCode=22189\", \"marker\": {\"color\": \"#B6E880\", \"line\": {\"color\": \"black\", \"width\": 1}}, \"name\": \"StockCode=22189\", \"offsetgroup\": \"StockCode=22189\", \"orientation\": \"v\", \"showlegend\": true, \"textposition\": \"auto\", \"type\": \"bar\", \"x\": [22189], \"xaxis\": \"x\", \"y\": [2238], \"yaxis\": \"y\"}, {\"alignmentgroup\": \"True\", \"hoverlabel\": {\"namelength\": 0}, \"hovertemplate\": \"StockCode=%{x}<br>Quantity=%{y}\", \"legendgroup\": \"StockCode=22188\", \"marker\": {\"color\": \"#FF97FF\", \"line\": {\"color\": \"black\", \"width\": 1}}, \"name\": \"StockCode=22188\", \"offsetgroup\": \"StockCode=22188\", \"orientation\": \"v\", \"showlegend\": true, \"textposition\": \"auto\", \"type\": \"bar\", \"x\": [22188], \"xaxis\": \"x\", \"y\": [2153], \"yaxis\": \"y\"}, {\"alignmentgroup\": \"True\", \"hoverlabel\": {\"namelength\": 0}, \"hovertemplate\": \"StockCode=%{x}<br>Quantity=%{y}\", \"legendgroup\": \"StockCode=84879\", \"marker\": {\"color\": \"#FECB52\", \"line\": {\"color\": \"black\", \"width\": 1}}, \"name\": \"StockCode=84879\", \"offsetgroup\": \"StockCode=84879\", \"orientation\": \"v\", \"showlegend\": true, \"textposition\": \"auto\", \"type\": \"bar\", \"x\": [84879], \"xaxis\": \"x\", \"y\": [2099], \"yaxis\": \"y\"}, {\"alignmentgroup\": \"True\", \"hoverlabel\": {\"namelength\": 0}, \"hovertemplate\": \"StockCode=%{x}<br>Quantity=%{y}\", \"legendgroup\": \"StockCode=21915\", \"marker\": {\"color\": \"#636efa\", \"line\": {\"color\": \"black\", \"width\": 1}}, \"name\": \"StockCode=21915\", \"offsetgroup\": \"StockCode=21915\", \"orientation\": \"v\", \"showlegend\": true, \"textposition\": \"auto\", \"type\": \"bar\", \"x\": [21915], \"xaxis\": \"x\", \"y\": [2018], \"yaxis\": \"y\"}, {\"alignmentgroup\": \"True\", \"hoverlabel\": {\"namelength\": 0}, \"hovertemplate\": \"StockCode=%{x}<br>Quantity=%{y}\", \"legendgroup\": \"StockCode=85099B\", \"marker\": {\"color\": \"#EF553B\", \"line\": {\"color\": \"black\", \"width\": 1}}, \"name\": \"StockCode=85099B\", \"offsetgroup\": \"StockCode=85099B\", \"orientation\": \"v\", \"showlegend\": true, \"textposition\": \"auto\", \"type\": \"bar\", \"x\": [\"85099B\"], \"xaxis\": \"x\", \"y\": [1966], \"yaxis\": \"y\"}, {\"alignmentgroup\": \"True\", \"hoverlabel\": {\"namelength\": 0}, \"hovertemplate\": \"StockCode=%{x}<br>Quantity=%{y}\", \"legendgroup\": \"StockCode=84950\", \"marker\": {\"color\": \"#00cc96\", \"line\": {\"color\": \"black\", \"width\": 1}}, \"name\": \"StockCode=84950\", \"offsetgroup\": \"StockCode=84950\", \"orientation\": \"v\", \"showlegend\": true, \"textposition\": \"auto\", \"type\": \"bar\", \"x\": [84950], \"xaxis\": \"x\", \"y\": [1884], \"yaxis\": \"y\"}, {\"alignmentgroup\": \"True\", \"hoverlabel\": {\"namelength\": 0}, \"hovertemplate\": \"StockCode=%{x}<br>Quantity=%{y}\", \"legendgroup\": \"StockCode=22197\", \"marker\": {\"color\": \"#ab63fa\", \"line\": {\"color\": \"black\", \"width\": 1}}, \"name\": \"StockCode=22197\", \"offsetgroup\": \"StockCode=22197\", \"orientation\": \"v\", \"showlegend\": true, \"textposition\": \"auto\", \"type\": \"bar\", \"x\": [22197], \"xaxis\": \"x\", \"y\": [1846], \"yaxis\": \"y\"}, {\"alignmentgroup\": \"True\", \"hoverlabel\": {\"namelength\": 0}, \"hovertemplate\": \"StockCode=%{x}<br>Quantity=%{y}\", \"legendgroup\": \"StockCode=21137\", \"marker\": {\"color\": \"#FFA15A\", \"line\": {\"color\": \"black\", \"width\": 1}}, \"name\": \"StockCode=21137\", \"offsetgroup\": \"StockCode=21137\", \"orientation\": \"v\", \"showlegend\": true, \"textposition\": \"auto\", \"type\": \"bar\", \"x\": [21137], \"xaxis\": \"x\", \"y\": [1830], \"yaxis\": \"y\"}],\n                        {\"barmode\": \"relative\", \"legend\": {\"tracegroupgap\": 0}, \"template\": {\"data\": {\"bar\": [{\"error_x\": {\"color\": \"#2a3f5f\"}, \"error_y\": {\"color\": \"#2a3f5f\"}, \"marker\": {\"line\": {\"color\": \"#E5ECF6\", \"width\": 0.5}}, \"type\": \"bar\"}], \"barpolar\": [{\"marker\": {\"line\": {\"color\": \"#E5ECF6\", \"width\": 0.5}}, \"type\": \"barpolar\"}], \"carpet\": [{\"aaxis\": {\"endlinecolor\": \"#2a3f5f\", \"gridcolor\": \"white\", \"linecolor\": \"white\", \"minorgridcolor\": \"white\", \"startlinecolor\": \"#2a3f5f\"}, \"baxis\": {\"endlinecolor\": \"#2a3f5f\", \"gridcolor\": \"white\", \"linecolor\": \"white\", \"minorgridcolor\": \"white\", \"startlinecolor\": \"#2a3f5f\"}, \"type\": \"carpet\"}], \"choropleth\": [{\"colorbar\": {\"outlinewidth\": 0, \"ticks\": \"\"}, \"type\": \"choropleth\"}], \"contour\": [{\"colorbar\": {\"outlinewidth\": 0, \"ticks\": \"\"}, \"colorscale\": [[0.0, \"#0d0887\"], [0.1111111111111111, \"#46039f\"], [0.2222222222222222, \"#7201a8\"], [0.3333333333333333, \"#9c179e\"], [0.4444444444444444, \"#bd3786\"], [0.5555555555555556, \"#d8576b\"], [0.6666666666666666, \"#ed7953\"], [0.7777777777777778, \"#fb9f3a\"], [0.8888888888888888, \"#fdca26\"], [1.0, \"#f0f921\"]], \"type\": \"contour\"}], \"contourcarpet\": [{\"colorbar\": {\"outlinewidth\": 0, \"ticks\": \"\"}, \"type\": \"contourcarpet\"}], \"heatmap\": [{\"colorbar\": {\"outlinewidth\": 0, \"ticks\": \"\"}, \"colorscale\": [[0.0, \"#0d0887\"], [0.1111111111111111, \"#46039f\"], [0.2222222222222222, \"#7201a8\"], [0.3333333333333333, \"#9c179e\"], [0.4444444444444444, \"#bd3786\"], [0.5555555555555556, \"#d8576b\"], [0.6666666666666666, \"#ed7953\"], [0.7777777777777778, \"#fb9f3a\"], [0.8888888888888888, \"#fdca26\"], [1.0, \"#f0f921\"]], \"type\": \"heatmap\"}], \"heatmapgl\": [{\"colorbar\": {\"outlinewidth\": 0, \"ticks\": \"\"}, \"colorscale\": [[0.0, \"#0d0887\"], [0.1111111111111111, \"#46039f\"], [0.2222222222222222, \"#7201a8\"], [0.3333333333333333, \"#9c179e\"], [0.4444444444444444, \"#bd3786\"], [0.5555555555555556, \"#d8576b\"], [0.6666666666666666, \"#ed7953\"], [0.7777777777777778, \"#fb9f3a\"], [0.8888888888888888, \"#fdca26\"], [1.0, \"#f0f921\"]], \"type\": \"heatmapgl\"}], \"histogram\": [{\"marker\": {\"colorbar\": {\"outlinewidth\": 0, \"ticks\": \"\"}}, \"type\": \"histogram\"}], \"histogram2d\": [{\"colorbar\": {\"outlinewidth\": 0, \"ticks\": \"\"}, \"colorscale\": [[0.0, \"#0d0887\"], [0.1111111111111111, \"#46039f\"], [0.2222222222222222, \"#7201a8\"], [0.3333333333333333, \"#9c179e\"], [0.4444444444444444, \"#bd3786\"], [0.5555555555555556, \"#d8576b\"], [0.6666666666666666, \"#ed7953\"], [0.7777777777777778, \"#fb9f3a\"], [0.8888888888888888, \"#fdca26\"], [1.0, \"#f0f921\"]], \"type\": \"histogram2d\"}], \"histogram2dcontour\": [{\"colorbar\": {\"outlinewidth\": 0, \"ticks\": \"\"}, \"colorscale\": [[0.0, \"#0d0887\"], [0.1111111111111111, \"#46039f\"], [0.2222222222222222, \"#7201a8\"], [0.3333333333333333, \"#9c179e\"], [0.4444444444444444, \"#bd3786\"], [0.5555555555555556, \"#d8576b\"], [0.6666666666666666, \"#ed7953\"], [0.7777777777777778, \"#fb9f3a\"], [0.8888888888888888, \"#fdca26\"], [1.0, \"#f0f921\"]], \"type\": \"histogram2dcontour\"}], \"mesh3d\": [{\"colorbar\": {\"outlinewidth\": 0, \"ticks\": \"\"}, \"type\": \"mesh3d\"}], \"parcoords\": [{\"line\": {\"colorbar\": {\"outlinewidth\": 0, \"ticks\": \"\"}}, \"type\": \"parcoords\"}], \"pie\": [{\"automargin\": true, \"type\": \"pie\"}], \"scatter\": [{\"marker\": {\"colorbar\": {\"outlinewidth\": 0, \"ticks\": \"\"}}, \"type\": \"scatter\"}], \"scatter3d\": [{\"line\": {\"colorbar\": {\"outlinewidth\": 0, \"ticks\": \"\"}}, \"marker\": {\"colorbar\": {\"outlinewidth\": 0, \"ticks\": \"\"}}, \"type\": \"scatter3d\"}], \"scattercarpet\": [{\"marker\": {\"colorbar\": {\"outlinewidth\": 0, \"ticks\": \"\"}}, \"type\": \"scattercarpet\"}], \"scattergeo\": [{\"marker\": {\"colorbar\": {\"outlinewidth\": 0, \"ticks\": \"\"}}, \"type\": \"scattergeo\"}], \"scattergl\": [{\"marker\": {\"colorbar\": {\"outlinewidth\": 0, \"ticks\": \"\"}}, \"type\": \"scattergl\"}], \"scattermapbox\": [{\"marker\": {\"colorbar\": {\"outlinewidth\": 0, \"ticks\": \"\"}}, \"type\": \"scattermapbox\"}], \"scatterpolar\": [{\"marker\": {\"colorbar\": {\"outlinewidth\": 0, \"ticks\": \"\"}}, \"type\": \"scatterpolar\"}], \"scatterpolargl\": [{\"marker\": {\"colorbar\": {\"outlinewidth\": 0, \"ticks\": \"\"}}, \"type\": \"scatterpolargl\"}], \"scatterternary\": [{\"marker\": {\"colorbar\": {\"outlinewidth\": 0, \"ticks\": \"\"}}, \"type\": \"scatterternary\"}], \"surface\": [{\"colorbar\": {\"outlinewidth\": 0, \"ticks\": \"\"}, \"colorscale\": [[0.0, \"#0d0887\"], [0.1111111111111111, \"#46039f\"], [0.2222222222222222, \"#7201a8\"], [0.3333333333333333, \"#9c179e\"], [0.4444444444444444, \"#bd3786\"], [0.5555555555555556, \"#d8576b\"], [0.6666666666666666, \"#ed7953\"], [0.7777777777777778, \"#fb9f3a\"], [0.8888888888888888, \"#fdca26\"], [1.0, \"#f0f921\"]], \"type\": \"surface\"}], \"table\": [{\"cells\": {\"fill\": {\"color\": \"#EBF0F8\"}, \"line\": {\"color\": \"white\"}}, \"header\": {\"fill\": {\"color\": \"#C8D4E3\"}, \"line\": {\"color\": \"white\"}}, \"type\": \"table\"}]}, \"layout\": {\"annotationdefaults\": {\"arrowcolor\": \"#2a3f5f\", \"arrowhead\": 0, \"arrowwidth\": 1}, \"coloraxis\": {\"colorbar\": {\"outlinewidth\": 0, \"ticks\": \"\"}}, \"colorscale\": {\"diverging\": [[0, \"#8e0152\"], [0.1, \"#c51b7d\"], [0.2, \"#de77ae\"], [0.3, \"#f1b6da\"], [0.4, \"#fde0ef\"], [0.5, \"#f7f7f7\"], [0.6, \"#e6f5d0\"], [0.7, \"#b8e186\"], [0.8, \"#7fbc41\"], [0.9, \"#4d9221\"], [1, \"#276419\"]], \"sequential\": [[0.0, \"#0d0887\"], [0.1111111111111111, \"#46039f\"], [0.2222222222222222, \"#7201a8\"], [0.3333333333333333, \"#9c179e\"], [0.4444444444444444, \"#bd3786\"], [0.5555555555555556, \"#d8576b\"], [0.6666666666666666, \"#ed7953\"], [0.7777777777777778, \"#fb9f3a\"], [0.8888888888888888, \"#fdca26\"], [1.0, \"#f0f921\"]], \"sequentialminus\": [[0.0, \"#0d0887\"], [0.1111111111111111, \"#46039f\"], [0.2222222222222222, \"#7201a8\"], [0.3333333333333333, \"#9c179e\"], [0.4444444444444444, \"#bd3786\"], [0.5555555555555556, \"#d8576b\"], [0.6666666666666666, \"#ed7953\"], [0.7777777777777778, \"#fb9f3a\"], [0.8888888888888888, \"#fdca26\"], [1.0, \"#f0f921\"]]}, \"colorway\": [\"#636efa\", \"#EF553B\", \"#00cc96\", \"#ab63fa\", \"#FFA15A\", \"#19d3f3\", \"#FF6692\", \"#B6E880\", \"#FF97FF\", \"#FECB52\"], \"font\": {\"color\": \"#2a3f5f\"}, \"geo\": {\"bgcolor\": \"white\", \"lakecolor\": \"white\", \"landcolor\": \"#E5ECF6\", \"showlakes\": true, \"showland\": true, \"subunitcolor\": \"white\"}, \"hoverlabel\": {\"align\": \"left\"}, \"hovermode\": \"closest\", \"mapbox\": {\"style\": \"light\"}, \"paper_bgcolor\": \"white\", \"plot_bgcolor\": \"#E5ECF6\", \"polar\": {\"angularaxis\": {\"gridcolor\": \"white\", \"linecolor\": \"white\", \"ticks\": \"\"}, \"bgcolor\": \"#E5ECF6\", \"radialaxis\": {\"gridcolor\": \"white\", \"linecolor\": \"white\", \"ticks\": \"\"}}, \"scene\": {\"xaxis\": {\"backgroundcolor\": \"#E5ECF6\", \"gridcolor\": \"white\", \"gridwidth\": 2, \"linecolor\": \"white\", \"showbackground\": true, \"ticks\": \"\", \"zerolinecolor\": \"white\"}, \"yaxis\": {\"backgroundcolor\": \"#E5ECF6\", \"gridcolor\": \"white\", \"gridwidth\": 2, \"linecolor\": \"white\", \"showbackground\": true, \"ticks\": \"\", \"zerolinecolor\": \"white\"}, \"zaxis\": {\"backgroundcolor\": \"#E5ECF6\", \"gridcolor\": \"white\", \"gridwidth\": 2, \"linecolor\": \"white\", \"showbackground\": true, \"ticks\": \"\", \"zerolinecolor\": \"white\"}}, \"shapedefaults\": {\"line\": {\"color\": \"#2a3f5f\"}}, \"ternary\": {\"aaxis\": {\"gridcolor\": \"white\", \"linecolor\": \"white\", \"ticks\": \"\"}, \"baxis\": {\"gridcolor\": \"white\", \"linecolor\": \"white\", \"ticks\": \"\"}, \"bgcolor\": \"#E5ECF6\", \"caxis\": {\"gridcolor\": \"white\", \"linecolor\": \"white\", \"ticks\": \"\"}}, \"title\": {\"x\": 0.05}, \"xaxis\": {\"automargin\": true, \"gridcolor\": \"white\", \"linecolor\": \"white\", \"ticks\": \"\", \"title\": {\"standoff\": 15}, \"zerolinecolor\": \"white\", \"zerolinewidth\": 2}, \"yaxis\": {\"automargin\": true, \"gridcolor\": \"white\", \"linecolor\": \"white\", \"ticks\": \"\", \"title\": {\"standoff\": 15}, \"zerolinecolor\": \"white\", \"zerolinewidth\": 2}}}, \"title\": {\"text\": \"UK's Top 15 products sold by Quantity in 2010-December\"}, \"xaxis\": {\"anchor\": \"y\", \"categoryarray\": [84077, \"85123A\", 22834, 21212, 22693, 22616, 22492, 22189, 22188, 84879, 21915, \"85099B\", 84950, 22197, 21137], \"categoryorder\": \"array\", \"domain\": [0.0, 1.0], \"title\": {\"text\": \"StockCode\"}, \"type\": \"category\"}, \"yaxis\": {\"anchor\": \"x\", \"domain\": [0.0, 1.0], \"title\": {\"text\": \"Quantity\"}}},\n                        {\"responsive\": true}\n                    ).then(function(){\n                            \nvar gd = document.getElementById('28c8d8b3-5369-4b4f-8e76-372b7f110743');\nvar x = new MutationObserver(function (mutations, observer) {{\n        var display = window.getComputedStyle(gd).display;\n        if (!display || display === 'none') {{\n            console.log([gd, 'removed!']);\n            Plotly.purge(gd);\n            observer.disconnect();\n        }}\n}});\n\n// Listen for the removal of the full notebook cells\nvar notebookContainer = gd.closest('#notebook-container');\nif (notebookContainer) {{\n    x.observe(notebookContainer, {childList: true});\n}}\n\n// Listen for the clearing of the current output cell\nvar outputEl = gd.closest('.output');\nif (outputEl) {{\n    x.observe(outputEl, {childList: true});\n}}\n\n                        })\n                };\n                \n            </script>\n        </div>\n</body>\n</html>"
              }
            ],
            "_view_module": "@jupyter-widgets/output",
            "_model_module_version": "1.0.0",
            "_view_count": null,
            "_view_module_version": "1.0.0",
            "layout": "IPY_MODEL_499647e481ff4343b703e9cdce07052b",
            "_model_module": "@jupyter-widgets/output"
          }
        },
        "96120b31b2e948148cff9b1fc317e7b4": {
          "model_module": "@jupyter-widgets/controls",
          "model_name": "SliderStyleModel",
          "state": {
            "_view_name": "StyleView",
            "handle_color": null,
            "_model_name": "SliderStyleModel",
            "description_width": "",
            "_view_module": "@jupyter-widgets/base",
            "_model_module_version": "1.5.0",
            "_view_count": null,
            "_view_module_version": "1.2.0",
            "_model_module": "@jupyter-widgets/controls"
          }
        },
        "bc1853b82de54d1f9e38ab0a9cadb001": {
          "model_module": "@jupyter-widgets/base",
          "model_name": "LayoutModel",
          "state": {
            "_view_name": "LayoutView",
            "grid_template_rows": null,
            "right": null,
            "justify_content": null,
            "_view_module": "@jupyter-widgets/base",
            "overflow": null,
            "_model_module_version": "1.2.0",
            "_view_count": null,
            "flex_flow": null,
            "width": null,
            "min_width": null,
            "border": null,
            "align_items": null,
            "bottom": null,
            "_model_module": "@jupyter-widgets/base",
            "top": null,
            "grid_column": null,
            "overflow_y": null,
            "overflow_x": null,
            "grid_auto_flow": null,
            "grid_area": null,
            "grid_template_columns": null,
            "flex": null,
            "_model_name": "LayoutModel",
            "justify_items": null,
            "grid_row": null,
            "max_height": null,
            "align_content": null,
            "visibility": null,
            "align_self": null,
            "height": null,
            "min_height": null,
            "padding": null,
            "grid_auto_rows": null,
            "grid_gap": null,
            "max_width": null,
            "order": null,
            "_view_module_version": "1.2.0",
            "grid_template_areas": null,
            "object_position": null,
            "object_fit": null,
            "grid_auto_columns": null,
            "margin": null,
            "display": null,
            "left": null
          }
        },
        "4aa32808a7774623b1841603e6dca550": {
          "model_module": "@jupyter-widgets/controls",
          "model_name": "DescriptionStyleModel",
          "state": {
            "_view_name": "StyleView",
            "_model_name": "DescriptionStyleModel",
            "description_width": "",
            "_view_module": "@jupyter-widgets/base",
            "_model_module_version": "1.5.0",
            "_view_count": null,
            "_view_module_version": "1.2.0",
            "_model_module": "@jupyter-widgets/controls"
          }
        },
        "83822ebcc57e4f20ab3d49a005fb2bad": {
          "model_module": "@jupyter-widgets/base",
          "model_name": "LayoutModel",
          "state": {
            "_view_name": "LayoutView",
            "grid_template_rows": null,
            "right": null,
            "justify_content": null,
            "_view_module": "@jupyter-widgets/base",
            "overflow": null,
            "_model_module_version": "1.2.0",
            "_view_count": null,
            "flex_flow": null,
            "width": null,
            "min_width": null,
            "border": null,
            "align_items": null,
            "bottom": null,
            "_model_module": "@jupyter-widgets/base",
            "top": null,
            "grid_column": null,
            "overflow_y": null,
            "overflow_x": null,
            "grid_auto_flow": null,
            "grid_area": null,
            "grid_template_columns": null,
            "flex": null,
            "_model_name": "LayoutModel",
            "justify_items": null,
            "grid_row": null,
            "max_height": null,
            "align_content": null,
            "visibility": null,
            "align_self": null,
            "height": null,
            "min_height": null,
            "padding": null,
            "grid_auto_rows": null,
            "grid_gap": null,
            "max_width": null,
            "order": null,
            "_view_module_version": "1.2.0",
            "grid_template_areas": null,
            "object_position": null,
            "object_fit": null,
            "grid_auto_columns": null,
            "margin": null,
            "display": null,
            "left": null
          }
        },
        "499647e481ff4343b703e9cdce07052b": {
          "model_module": "@jupyter-widgets/base",
          "model_name": "LayoutModel",
          "state": {
            "_view_name": "LayoutView",
            "grid_template_rows": null,
            "right": null,
            "justify_content": null,
            "_view_module": "@jupyter-widgets/base",
            "overflow": null,
            "_model_module_version": "1.2.0",
            "_view_count": null,
            "flex_flow": null,
            "width": null,
            "min_width": null,
            "border": null,
            "align_items": null,
            "bottom": null,
            "_model_module": "@jupyter-widgets/base",
            "top": null,
            "grid_column": null,
            "overflow_y": null,
            "overflow_x": null,
            "grid_auto_flow": null,
            "grid_area": null,
            "grid_template_columns": null,
            "flex": null,
            "_model_name": "LayoutModel",
            "justify_items": null,
            "grid_row": null,
            "max_height": null,
            "align_content": null,
            "visibility": null,
            "align_self": null,
            "height": null,
            "min_height": null,
            "padding": null,
            "grid_auto_rows": null,
            "grid_gap": null,
            "max_width": null,
            "order": null,
            "_view_module_version": "1.2.0",
            "grid_template_areas": null,
            "object_position": null,
            "object_fit": null,
            "grid_auto_columns": null,
            "margin": null,
            "display": null,
            "left": null
          }
        },
        "25e6cbad761c4cd0b1bcc54461d022a9": {
          "model_module": "@jupyter-widgets/controls",
          "model_name": "VBoxModel",
          "state": {
            "_view_name": "VBoxView",
            "_dom_classes": [
              "widget-interact"
            ],
            "_model_name": "VBoxModel",
            "_view_module": "@jupyter-widgets/controls",
            "_model_module_version": "1.5.0",
            "_view_count": null,
            "_view_module_version": "1.5.0",
            "box_style": "",
            "layout": "IPY_MODEL_eb6c87b2e2d647cc83d6de09da552179",
            "_model_module": "@jupyter-widgets/controls",
            "children": [
              "IPY_MODEL_6061dac155a24fa19aa58dc0a930717a",
              "IPY_MODEL_e686bc932592434e8fc587aef81f2b60"
            ]
          }
        },
        "eb6c87b2e2d647cc83d6de09da552179": {
          "model_module": "@jupyter-widgets/base",
          "model_name": "LayoutModel",
          "state": {
            "_view_name": "LayoutView",
            "grid_template_rows": null,
            "right": null,
            "justify_content": null,
            "_view_module": "@jupyter-widgets/base",
            "overflow": null,
            "_model_module_version": "1.2.0",
            "_view_count": null,
            "flex_flow": null,
            "width": null,
            "min_width": null,
            "border": null,
            "align_items": null,
            "bottom": null,
            "_model_module": "@jupyter-widgets/base",
            "top": null,
            "grid_column": null,
            "overflow_y": null,
            "overflow_x": null,
            "grid_auto_flow": null,
            "grid_area": null,
            "grid_template_columns": null,
            "flex": null,
            "_model_name": "LayoutModel",
            "justify_items": null,
            "grid_row": null,
            "max_height": null,
            "align_content": null,
            "visibility": null,
            "align_self": null,
            "height": null,
            "min_height": null,
            "padding": null,
            "grid_auto_rows": null,
            "grid_gap": null,
            "max_width": null,
            "order": null,
            "_view_module_version": "1.2.0",
            "grid_template_areas": null,
            "object_position": null,
            "object_fit": null,
            "grid_auto_columns": null,
            "margin": null,
            "display": null,
            "left": null
          }
        },
        "6061dac155a24fa19aa58dc0a930717a": {
          "model_module": "@jupyter-widgets/controls",
          "model_name": "DropdownModel",
          "state": {
            "_options_labels": [
              "apples",
              "oranges",
              "pizza"
            ],
            "_view_name": "DropdownView",
            "style": "IPY_MODEL_16542a7431ac4dc8bc0defe1115d9da5",
            "_dom_classes": [],
            "description": "Selection",
            "_model_name": "DropdownModel",
            "index": 0,
            "_view_module": "@jupyter-widgets/controls",
            "_model_module_version": "1.5.0",
            "_view_count": null,
            "disabled": false,
            "_view_module_version": "1.5.0",
            "description_tooltip": null,
            "_model_module": "@jupyter-widgets/controls",
            "layout": "IPY_MODEL_7dddb8b4c0fc40358f34c2f185deaf8e"
          }
        },
        "e686bc932592434e8fc587aef81f2b60": {
          "model_module": "@jupyter-widgets/output",
          "model_name": "OutputModel",
          "state": {
            "_view_name": "OutputView",
            "msg_id": "",
            "_dom_classes": [],
            "_model_name": "OutputModel",
            "outputs": [
              {
                "output_type": "stream",
                "metadata": {
                  "tags": []
                },
                "text": "You have selected: apples\n",
                "stream": "stdout"
              }
            ],
            "_view_module": "@jupyter-widgets/output",
            "_model_module_version": "1.0.0",
            "_view_count": null,
            "_view_module_version": "1.0.0",
            "layout": "IPY_MODEL_212b480b9db642f589c36d3b2468c591",
            "_model_module": "@jupyter-widgets/output"
          }
        },
        "16542a7431ac4dc8bc0defe1115d9da5": {
          "model_module": "@jupyter-widgets/controls",
          "model_name": "DescriptionStyleModel",
          "state": {
            "_view_name": "StyleView",
            "_model_name": "DescriptionStyleModel",
            "description_width": "",
            "_view_module": "@jupyter-widgets/base",
            "_model_module_version": "1.5.0",
            "_view_count": null,
            "_view_module_version": "1.2.0",
            "_model_module": "@jupyter-widgets/controls"
          }
        },
        "7dddb8b4c0fc40358f34c2f185deaf8e": {
          "model_module": "@jupyter-widgets/base",
          "model_name": "LayoutModel",
          "state": {
            "_view_name": "LayoutView",
            "grid_template_rows": null,
            "right": null,
            "justify_content": null,
            "_view_module": "@jupyter-widgets/base",
            "overflow": null,
            "_model_module_version": "1.2.0",
            "_view_count": null,
            "flex_flow": null,
            "width": null,
            "min_width": null,
            "border": null,
            "align_items": null,
            "bottom": null,
            "_model_module": "@jupyter-widgets/base",
            "top": null,
            "grid_column": null,
            "overflow_y": null,
            "overflow_x": null,
            "grid_auto_flow": null,
            "grid_area": null,
            "grid_template_columns": null,
            "flex": null,
            "_model_name": "LayoutModel",
            "justify_items": null,
            "grid_row": null,
            "max_height": null,
            "align_content": null,
            "visibility": null,
            "align_self": null,
            "height": null,
            "min_height": null,
            "padding": null,
            "grid_auto_rows": null,
            "grid_gap": null,
            "max_width": null,
            "order": null,
            "_view_module_version": "1.2.0",
            "grid_template_areas": null,
            "object_position": null,
            "object_fit": null,
            "grid_auto_columns": null,
            "margin": null,
            "display": null,
            "left": null
          }
        },
        "212b480b9db642f589c36d3b2468c591": {
          "model_module": "@jupyter-widgets/base",
          "model_name": "LayoutModel",
          "state": {
            "_view_name": "LayoutView",
            "grid_template_rows": null,
            "right": null,
            "justify_content": null,
            "_view_module": "@jupyter-widgets/base",
            "overflow": null,
            "_model_module_version": "1.2.0",
            "_view_count": null,
            "flex_flow": null,
            "width": null,
            "min_width": null,
            "border": null,
            "align_items": null,
            "bottom": null,
            "_model_module": "@jupyter-widgets/base",
            "top": null,
            "grid_column": null,
            "overflow_y": null,
            "overflow_x": null,
            "grid_auto_flow": null,
            "grid_area": null,
            "grid_template_columns": null,
            "flex": null,
            "_model_name": "LayoutModel",
            "justify_items": null,
            "grid_row": null,
            "max_height": null,
            "align_content": null,
            "visibility": null,
            "align_self": null,
            "height": null,
            "min_height": null,
            "padding": null,
            "grid_auto_rows": null,
            "grid_gap": null,
            "max_width": null,
            "order": null,
            "_view_module_version": "1.2.0",
            "grid_template_areas": null,
            "object_position": null,
            "object_fit": null,
            "grid_auto_columns": null,
            "margin": null,
            "display": null,
            "left": null
          }
        },
        "58360a85409b4d28b4e6b2ccd55dfc38": {
          "model_module": "@jupyter-widgets/controls",
          "model_name": "VBoxModel",
          "state": {
            "_view_name": "VBoxView",
            "_dom_classes": [
              "widget-interact"
            ],
            "_model_name": "VBoxModel",
            "_view_module": "@jupyter-widgets/controls",
            "_model_module_version": "1.5.0",
            "_view_count": null,
            "_view_module_version": "1.5.0",
            "box_style": "",
            "layout": "IPY_MODEL_b65452f79f864585b4cc21626836daef",
            "_model_module": "@jupyter-widgets/controls",
            "children": [
              "IPY_MODEL_458b95a1ea50400c915ef583ad633395",
              "IPY_MODEL_1dc1de8ff3314a8d9ddc7f7c526e011e",
              "IPY_MODEL_b75a907564624d22ba101126d2117bbf"
            ]
          }
        },
        "b65452f79f864585b4cc21626836daef": {
          "model_module": "@jupyter-widgets/base",
          "model_name": "LayoutModel",
          "state": {
            "_view_name": "LayoutView",
            "grid_template_rows": null,
            "right": null,
            "justify_content": null,
            "_view_module": "@jupyter-widgets/base",
            "overflow": null,
            "_model_module_version": "1.2.0",
            "_view_count": null,
            "flex_flow": null,
            "width": null,
            "min_width": null,
            "border": null,
            "align_items": null,
            "bottom": null,
            "_model_module": "@jupyter-widgets/base",
            "top": null,
            "grid_column": null,
            "overflow_y": null,
            "overflow_x": null,
            "grid_auto_flow": null,
            "grid_area": null,
            "grid_template_columns": null,
            "flex": null,
            "_model_name": "LayoutModel",
            "justify_items": null,
            "grid_row": null,
            "max_height": null,
            "align_content": null,
            "visibility": null,
            "align_self": null,
            "height": null,
            "min_height": null,
            "padding": null,
            "grid_auto_rows": null,
            "grid_gap": null,
            "max_width": null,
            "order": null,
            "_view_module_version": "1.2.0",
            "grid_template_areas": null,
            "object_position": null,
            "object_fit": null,
            "grid_auto_columns": null,
            "margin": null,
            "display": null,
            "left": null
          }
        },
        "458b95a1ea50400c915ef583ad633395": {
          "model_module": "@jupyter-widgets/controls",
          "model_name": "DropdownModel",
          "state": {
            "_options_labels": [
              "2015-05-03",
              "2015-05-04",
              "2015-05-05",
              "2015-05-06",
              "2015-05-07",
              "2015-05-08",
              "2015-05-09",
              "2015-05-10",
              "2015-05-11",
              "2015-05-12",
              "2015-05-13",
              "2015-05-14",
              "2015-05-15",
              "2015-05-16",
              "2015-05-17",
              "2015-05-18",
              "2015-05-19",
              "2015-05-20",
              "2015-05-21",
              "2015-05-22",
              "2015-05-23",
              "2015-05-24",
              "2015-05-25",
              "2015-05-26",
              "2015-05-27",
              "2015-05-28",
              "2015-05-29",
              "2015-05-30",
              "2015-05-31",
              "2015-06-01",
              "2015-06-02",
              "2015-06-03",
              "2015-06-04",
              "2015-06-05",
              "2015-06-06",
              "2015-06-07",
              "2015-06-08",
              "2015-06-09",
              "2015-06-10",
              "2015-06-11",
              "2015-06-12",
              "2015-06-13",
              "2015-06-14",
              "2015-06-15",
              "2015-06-16",
              "2015-06-17",
              "2015-06-18",
              "2015-06-19",
              "2015-06-20",
              "2015-06-21",
              "2015-06-22",
              "2015-06-23",
              "2015-06-24",
              "2015-06-25",
              "2015-06-26",
              "2015-06-27",
              "2015-06-28",
              "2015-06-29",
              "2015-06-30",
              "2015-07-01",
              "2015-07-02",
              "2015-07-03",
              "2015-07-04",
              "2015-07-05",
              "2015-07-06",
              "2015-07-07",
              "2015-07-08",
              "2015-07-09",
              "2015-07-10",
              "2015-07-11",
              "2015-07-12",
              "2015-07-13",
              "2015-07-14",
              "2015-07-15",
              "2015-07-16",
              "2015-07-17",
              "2015-07-18",
              "2015-07-19",
              "2015-07-20",
              "2015-07-21",
              "2015-07-22",
              "2015-07-23",
              "2015-07-24",
              "2015-07-25",
              "2015-07-26",
              "2015-07-27",
              "2015-07-28",
              "2015-07-29",
              "2015-07-30",
              "2015-07-31",
              "2015-08-01",
              "2015-08-02",
              "2015-08-03",
              "2015-08-04",
              "2015-08-05",
              "2015-08-06",
              "2015-08-07",
              "2015-08-08",
              "2015-08-09",
              "2015-08-10",
              "2015-08-11",
              "2015-08-12",
              "2015-08-13",
              "2015-08-14",
              "2015-08-15",
              "2015-08-16",
              "2015-08-17",
              "2015-08-18",
              "2015-08-19",
              "2015-08-20",
              "2015-08-21",
              "2015-08-22",
              "2015-08-23",
              "2015-08-24",
              "2015-08-25",
              "2015-08-26",
              "2015-08-27",
              "2015-08-28",
              "2015-08-29",
              "2015-08-30",
              "2015-08-31",
              "2015-09-01",
              "2015-09-02",
              "2015-09-03",
              "2015-09-04",
              "2015-09-05",
              "2015-09-06",
              "2015-09-07",
              "2015-09-08",
              "2015-09-09",
              "2015-09-10",
              "2015-09-11",
              "2015-09-12",
              "2015-09-13",
              "2015-09-14",
              "2015-09-15",
              "2015-09-16",
              "2015-09-17",
              "2015-09-18"
            ],
            "_view_name": "DropdownView",
            "style": "IPY_MODEL_e73caed36cce4930bf0ad8ca70758ef3",
            "_dom_classes": [],
            "description": "firstdate",
            "_model_name": "DropdownModel",
            "index": 0,
            "_view_module": "@jupyter-widgets/controls",
            "_model_module_version": "1.5.0",
            "_view_count": null,
            "disabled": false,
            "_view_module_version": "1.5.0",
            "description_tooltip": null,
            "_model_module": "@jupyter-widgets/controls",
            "layout": "IPY_MODEL_16e9bcafb9074ba794371ee92e99e669"
          }
        },
        "1dc1de8ff3314a8d9ddc7f7c526e011e": {
          "model_module": "@jupyter-widgets/controls",
          "model_name": "DropdownModel",
          "state": {
            "_options_labels": [
              "2015-09-18",
              "2015-09-17",
              "2015-09-16",
              "2015-09-15",
              "2015-09-14",
              "2015-09-13",
              "2015-09-12",
              "2015-09-11",
              "2015-09-10",
              "2015-09-09",
              "2015-09-08",
              "2015-09-07",
              "2015-09-06",
              "2015-09-05",
              "2015-09-04",
              "2015-09-03",
              "2015-09-02",
              "2015-09-01",
              "2015-08-31",
              "2015-08-30",
              "2015-08-29",
              "2015-08-28",
              "2015-08-27",
              "2015-08-26",
              "2015-08-25",
              "2015-08-24",
              "2015-08-23",
              "2015-08-22",
              "2015-08-21",
              "2015-08-20",
              "2015-08-19",
              "2015-08-18",
              "2015-08-17",
              "2015-08-16",
              "2015-08-15",
              "2015-08-14",
              "2015-08-13",
              "2015-08-12",
              "2015-08-11",
              "2015-08-10",
              "2015-08-09",
              "2015-08-08",
              "2015-08-07",
              "2015-08-06",
              "2015-08-05",
              "2015-08-04",
              "2015-08-03",
              "2015-08-02",
              "2015-08-01",
              "2015-07-31",
              "2015-07-30",
              "2015-07-29",
              "2015-07-28",
              "2015-07-27",
              "2015-07-26",
              "2015-07-25",
              "2015-07-24",
              "2015-07-23",
              "2015-07-22",
              "2015-07-21",
              "2015-07-20",
              "2015-07-19",
              "2015-07-18",
              "2015-07-17",
              "2015-07-16",
              "2015-07-15",
              "2015-07-14",
              "2015-07-13",
              "2015-07-12",
              "2015-07-11",
              "2015-07-10",
              "2015-07-09",
              "2015-07-08",
              "2015-07-07",
              "2015-07-06",
              "2015-07-05",
              "2015-07-04",
              "2015-07-03",
              "2015-07-02",
              "2015-07-01",
              "2015-06-30",
              "2015-06-29",
              "2015-06-28",
              "2015-06-27",
              "2015-06-26",
              "2015-06-25",
              "2015-06-24",
              "2015-06-23",
              "2015-06-22",
              "2015-06-21",
              "2015-06-20",
              "2015-06-19",
              "2015-06-18",
              "2015-06-17",
              "2015-06-16",
              "2015-06-15",
              "2015-06-14",
              "2015-06-13",
              "2015-06-12",
              "2015-06-11",
              "2015-06-10",
              "2015-06-09",
              "2015-06-08",
              "2015-06-07",
              "2015-06-06",
              "2015-06-05",
              "2015-06-04",
              "2015-06-03",
              "2015-06-02",
              "2015-06-01",
              "2015-05-31",
              "2015-05-30",
              "2015-05-29",
              "2015-05-28",
              "2015-05-27",
              "2015-05-26",
              "2015-05-25",
              "2015-05-24",
              "2015-05-23",
              "2015-05-22",
              "2015-05-21",
              "2015-05-20",
              "2015-05-19",
              "2015-05-18",
              "2015-05-17",
              "2015-05-16",
              "2015-05-15",
              "2015-05-14",
              "2015-05-13",
              "2015-05-12",
              "2015-05-11",
              "2015-05-10",
              "2015-05-09",
              "2015-05-08",
              "2015-05-07",
              "2015-05-06",
              "2015-05-05",
              "2015-05-04",
              "2015-05-03"
            ],
            "_view_name": "DropdownView",
            "style": "IPY_MODEL_0cdfccf9d1f24071bf6b6d777cf3bbaf",
            "_dom_classes": [],
            "description": "enddate",
            "_model_name": "DropdownModel",
            "index": 0,
            "_view_module": "@jupyter-widgets/controls",
            "_model_module_version": "1.5.0",
            "_view_count": null,
            "disabled": false,
            "_view_module_version": "1.5.0",
            "description_tooltip": null,
            "_model_module": "@jupyter-widgets/controls",
            "layout": "IPY_MODEL_5c1d28c277574b00a533ba66552f20ef"
          }
        },
        "b75a907564624d22ba101126d2117bbf": {
          "model_module": "@jupyter-widgets/output",
          "model_name": "OutputModel",
          "state": {
            "_view_name": "OutputView",
            "msg_id": "",
            "_dom_classes": [],
            "_model_name": "OutputModel",
            "outputs": [
              {
                "output_type": "display_data",
                "metadata": {
                  "tags": []
                },
                "text/html": "<html>\n<head><meta charset=\"utf-8\" /></head>\n<body>\n    <div>\n            <script src=\"https://cdnjs.cloudflare.com/ajax/libs/mathjax/2.7.5/MathJax.js?config=TeX-AMS-MML_SVG\"></script><script type=\"text/javascript\">if (window.MathJax) {MathJax.Hub.Config({SVG: {font: \"STIX-Web\"}});}</script>\n                <script type=\"text/javascript\">window.PlotlyConfig = {MathJaxConfig: 'local'};</script>\n        <script src=\"https://cdn.plot.ly/plotly-latest.min.js\"></script>    \n            <div id=\"52e924e2-92c5-4729-87b9-85c65afb1a37\" class=\"plotly-graph-div\" style=\"height:525px; width:100%;\"></div>\n            <script type=\"text/javascript\">\n                \n                    window.PLOTLYENV=window.PLOTLYENV || {};\n                    \n                if (document.getElementById(\"52e924e2-92c5-4729-87b9-85c65afb1a37\")) {\n                    Plotly.newPlot(\n                        '52e924e2-92c5-4729-87b9-85c65afb1a37',\n                        [{\"hoverlabel\": {\"namelength\": 0}, \"hovertemplate\": \"Date=%{x}<br>event=%{y}\", \"legendgroup\": \"\", \"line\": {\"color\": \"#1F77B4\", \"dash\": \"solid\"}, \"mode\": \"lines\", \"name\": \"\", \"showlegend\": false, \"type\": \"scatter\", \"x\": [\"2015-05-03\", \"2015-05-04\", \"2015-05-05\", \"2015-05-06\", \"2015-05-07\", \"2015-05-08\", \"2015-05-09\", \"2015-05-10\", \"2015-05-11\", \"2015-05-12\", \"2015-05-13\", \"2015-05-14\", \"2015-05-15\", \"2015-05-16\", \"2015-05-17\", \"2015-05-18\", \"2015-05-19\", \"2015-05-20\", \"2015-05-21\", \"2015-05-22\", \"2015-05-23\", \"2015-05-24\", \"2015-05-25\", \"2015-05-26\", \"2015-05-27\", \"2015-05-28\", \"2015-05-29\", \"2015-05-30\", \"2015-05-31\", \"2015-06-01\", \"2015-06-02\", \"2015-06-03\", \"2015-06-04\", \"2015-06-05\", \"2015-06-06\", \"2015-06-07\", \"2015-06-08\", \"2015-06-09\", \"2015-06-10\", \"2015-06-11\", \"2015-06-12\", \"2015-06-13\", \"2015-06-14\", \"2015-06-15\", \"2015-06-16\", \"2015-06-17\", \"2015-06-18\", \"2015-06-19\", \"2015-06-20\", \"2015-06-21\", \"2015-06-22\", \"2015-06-23\", \"2015-06-24\", \"2015-06-25\", \"2015-06-26\", \"2015-06-27\", \"2015-06-28\", \"2015-06-29\", \"2015-06-30\", \"2015-07-01\", \"2015-07-02\", \"2015-07-03\", \"2015-07-04\", \"2015-07-05\", \"2015-07-06\", \"2015-07-07\", \"2015-07-08\", \"2015-07-09\", \"2015-07-10\", \"2015-07-11\", \"2015-07-12\", \"2015-07-13\", \"2015-07-14\", \"2015-07-15\", \"2015-07-16\", \"2015-07-17\", \"2015-07-18\", \"2015-07-19\", \"2015-07-20\", \"2015-07-21\", \"2015-07-22\", \"2015-07-23\", \"2015-07-24\", \"2015-07-25\", \"2015-07-26\", \"2015-07-27\", \"2015-07-28\", \"2015-07-29\", \"2015-07-30\", \"2015-07-31\", \"2015-08-01\", \"2015-08-02\", \"2015-08-03\", \"2015-08-04\", \"2015-08-05\", \"2015-08-06\", \"2015-08-07\", \"2015-08-08\", \"2015-08-09\", \"2015-08-10\", \"2015-08-11\", \"2015-08-12\", \"2015-08-13\", \"2015-08-14\", \"2015-08-15\", \"2015-08-16\", \"2015-08-17\", \"2015-08-18\", \"2015-08-19\", \"2015-08-20\", \"2015-08-21\", \"2015-08-22\", \"2015-08-23\", \"2015-08-24\", \"2015-08-25\", \"2015-08-26\", \"2015-08-27\", \"2015-08-28\", \"2015-08-29\", \"2015-08-30\", \"2015-08-31\", \"2015-09-01\", \"2015-09-02\", \"2015-09-03\", \"2015-09-04\", \"2015-09-05\", \"2015-09-06\", \"2015-09-07\", \"2015-09-08\", \"2015-09-09\", \"2015-09-10\", \"2015-09-11\", \"2015-09-12\", \"2015-09-13\", \"2015-09-14\", \"2015-09-15\", \"2015-09-16\", \"2015-09-17\"], \"xaxis\": \"x\", \"y\": [13683, 19414, 23015, 23920, 23164, 19424, 12695, 12143, 16178, 22374, 23767, 24156, 22194, 19313, 20879, 27084, 26799, 22236, 21676, 21063, 16408, 17248, 23863, 21997, 21936, 22022, 19574, 16030, 16397, 22796, 23336, 23559, 23629, 20814, 16160, 16151, 20941, 23682, 24023, 20915, 15866, 12270, 14155, 22266, 24667, 23897, 23324, 20621, 15568, 15633, 23294, 23616, 21960, 20271, 19875, 15477, 17195, 22984, 21448, 20764, 21413, 20782, 16092, 15750, 22356, 24385, 25035, 24997, 23151, 20794, 21127, 26119, 26872, 24141, 21632, 20186, 16489, 16804, 25332, 23613, 22327, 21601, 22755, 27106, 32703, 28562, 21980, 23200, 20974, 18942, 15459, 15220, 21269, 21235, 20405, 20330, 19346, 12857, 13117, 18424, 18206, 20083, 19159, 16976, 13423, 14492, 20858, 20751, 20088, 19215, 17750, 14248, 14014, 18740, 19681, 18978, 19566, 19602, 14965, 16278, 18627, 18178, 17539, 18041, 17733, 14365, 14574, 19793, 20815, 21761, 22548, 21517, 15496, 16859, 20913, 20427, 11495, 10128], \"yaxis\": \"y\"}],\n                        {\"legend\": {\"tracegroupgap\": 0}, \"template\": {\"data\": {\"scatter\": [{\"type\": \"scatter\"}]}}, \"title\": {\"text\": \"Number of Events by Day\"}, \"xaxis\": {\"anchor\": \"y\", \"domain\": [0.0, 1.0], \"title\": {\"text\": \"Date\"}}, \"yaxis\": {\"anchor\": \"x\", \"domain\": [0.0, 1.0], \"title\": {\"text\": \"event\"}}},\n                        {\"responsive\": true}\n                    ).then(function(){\n                            \nvar gd = document.getElementById('52e924e2-92c5-4729-87b9-85c65afb1a37');\nvar x = new MutationObserver(function (mutations, observer) {{\n        var display = window.getComputedStyle(gd).display;\n        if (!display || display === 'none') {{\n            console.log([gd, 'removed!']);\n            Plotly.purge(gd);\n            observer.disconnect();\n        }}\n}});\n\n// Listen for the removal of the full notebook cells\nvar notebookContainer = gd.closest('#notebook-container');\nif (notebookContainer) {{\n    x.observe(notebookContainer, {childList: true});\n}}\n\n// Listen for the clearing of the current output cell\nvar outputEl = gd.closest('.output');\nif (outputEl) {{\n    x.observe(outputEl, {childList: true});\n}}\n\n                        })\n                };\n                \n            </script>\n        </div>\n</body>\n</html>"
              }
            ],
            "_view_module": "@jupyter-widgets/output",
            "_model_module_version": "1.0.0",
            "_view_count": null,
            "_view_module_version": "1.0.0",
            "layout": "IPY_MODEL_902096269c024abf8cdc9f66790eda0c",
            "_model_module": "@jupyter-widgets/output"
          }
        },
        "e73caed36cce4930bf0ad8ca70758ef3": {
          "model_module": "@jupyter-widgets/controls",
          "model_name": "DescriptionStyleModel",
          "state": {
            "_view_name": "StyleView",
            "_model_name": "DescriptionStyleModel",
            "description_width": "",
            "_view_module": "@jupyter-widgets/base",
            "_model_module_version": "1.5.0",
            "_view_count": null,
            "_view_module_version": "1.2.0",
            "_model_module": "@jupyter-widgets/controls"
          }
        },
        "16e9bcafb9074ba794371ee92e99e669": {
          "model_module": "@jupyter-widgets/base",
          "model_name": "LayoutModel",
          "state": {
            "_view_name": "LayoutView",
            "grid_template_rows": null,
            "right": null,
            "justify_content": null,
            "_view_module": "@jupyter-widgets/base",
            "overflow": null,
            "_model_module_version": "1.2.0",
            "_view_count": null,
            "flex_flow": null,
            "width": null,
            "min_width": null,
            "border": null,
            "align_items": null,
            "bottom": null,
            "_model_module": "@jupyter-widgets/base",
            "top": null,
            "grid_column": null,
            "overflow_y": null,
            "overflow_x": null,
            "grid_auto_flow": null,
            "grid_area": null,
            "grid_template_columns": null,
            "flex": null,
            "_model_name": "LayoutModel",
            "justify_items": null,
            "grid_row": null,
            "max_height": null,
            "align_content": null,
            "visibility": null,
            "align_self": null,
            "height": null,
            "min_height": null,
            "padding": null,
            "grid_auto_rows": null,
            "grid_gap": null,
            "max_width": null,
            "order": null,
            "_view_module_version": "1.2.0",
            "grid_template_areas": null,
            "object_position": null,
            "object_fit": null,
            "grid_auto_columns": null,
            "margin": null,
            "display": null,
            "left": null
          }
        },
        "0cdfccf9d1f24071bf6b6d777cf3bbaf": {
          "model_module": "@jupyter-widgets/controls",
          "model_name": "DescriptionStyleModel",
          "state": {
            "_view_name": "StyleView",
            "_model_name": "DescriptionStyleModel",
            "description_width": "",
            "_view_module": "@jupyter-widgets/base",
            "_model_module_version": "1.5.0",
            "_view_count": null,
            "_view_module_version": "1.2.0",
            "_model_module": "@jupyter-widgets/controls"
          }
        },
        "5c1d28c277574b00a533ba66552f20ef": {
          "model_module": "@jupyter-widgets/base",
          "model_name": "LayoutModel",
          "state": {
            "_view_name": "LayoutView",
            "grid_template_rows": null,
            "right": null,
            "justify_content": null,
            "_view_module": "@jupyter-widgets/base",
            "overflow": null,
            "_model_module_version": "1.2.0",
            "_view_count": null,
            "flex_flow": null,
            "width": null,
            "min_width": null,
            "border": null,
            "align_items": null,
            "bottom": null,
            "_model_module": "@jupyter-widgets/base",
            "top": null,
            "grid_column": null,
            "overflow_y": null,
            "overflow_x": null,
            "grid_auto_flow": null,
            "grid_area": null,
            "grid_template_columns": null,
            "flex": null,
            "_model_name": "LayoutModel",
            "justify_items": null,
            "grid_row": null,
            "max_height": null,
            "align_content": null,
            "visibility": null,
            "align_self": null,
            "height": null,
            "min_height": null,
            "padding": null,
            "grid_auto_rows": null,
            "grid_gap": null,
            "max_width": null,
            "order": null,
            "_view_module_version": "1.2.0",
            "grid_template_areas": null,
            "object_position": null,
            "object_fit": null,
            "grid_auto_columns": null,
            "margin": null,
            "display": null,
            "left": null
          }
        },
        "902096269c024abf8cdc9f66790eda0c": {
          "model_module": "@jupyter-widgets/base",
          "model_name": "LayoutModel",
          "state": {
            "_view_name": "LayoutView",
            "grid_template_rows": null,
            "right": null,
            "justify_content": null,
            "_view_module": "@jupyter-widgets/base",
            "overflow": null,
            "_model_module_version": "1.2.0",
            "_view_count": null,
            "flex_flow": null,
            "width": null,
            "min_width": null,
            "border": null,
            "align_items": null,
            "bottom": null,
            "_model_module": "@jupyter-widgets/base",
            "top": null,
            "grid_column": null,
            "overflow_y": null,
            "overflow_x": null,
            "grid_auto_flow": null,
            "grid_area": null,
            "grid_template_columns": null,
            "flex": null,
            "_model_name": "LayoutModel",
            "justify_items": null,
            "grid_row": null,
            "max_height": null,
            "align_content": null,
            "visibility": null,
            "align_self": null,
            "height": null,
            "min_height": null,
            "padding": null,
            "grid_auto_rows": null,
            "grid_gap": null,
            "max_width": null,
            "order": null,
            "_view_module_version": "1.2.0",
            "grid_template_areas": null,
            "object_position": null,
            "object_fit": null,
            "grid_auto_columns": null,
            "margin": null,
            "display": null,
            "left": null
          }
        },
        "1b1cdb4c879746c5ab24de70583fef5c": {
          "model_module": "@jupyter-widgets/controls",
          "model_name": "VBoxModel",
          "state": {
            "_view_name": "VBoxView",
            "_dom_classes": [
              "widget-interact"
            ],
            "_model_name": "VBoxModel",
            "_view_module": "@jupyter-widgets/controls",
            "_model_module_version": "1.5.0",
            "_view_count": null,
            "_view_module_version": "1.5.0",
            "box_style": "",
            "layout": "IPY_MODEL_a3b76dfcb070404b8f9c36c4ee6ae7ba",
            "_model_module": "@jupyter-widgets/controls",
            "children": [
              "IPY_MODEL_a809237ee9ab46c78f87d88c4856e8f4",
              "IPY_MODEL_1b91ecddb51f40bdb89f3272b2c570fd",
              "IPY_MODEL_a1c916202439404192cbcfe05b868cae",
              "IPY_MODEL_abe7a40871494d859b5d1ac31e832e41"
            ]
          }
        },
        "a3b76dfcb070404b8f9c36c4ee6ae7ba": {
          "model_module": "@jupyter-widgets/base",
          "model_name": "LayoutModel",
          "state": {
            "_view_name": "LayoutView",
            "grid_template_rows": null,
            "right": null,
            "justify_content": null,
            "_view_module": "@jupyter-widgets/base",
            "overflow": null,
            "_model_module_version": "1.2.0",
            "_view_count": null,
            "flex_flow": null,
            "width": null,
            "min_width": null,
            "border": null,
            "align_items": null,
            "bottom": null,
            "_model_module": "@jupyter-widgets/base",
            "top": null,
            "grid_column": null,
            "overflow_y": null,
            "overflow_x": null,
            "grid_auto_flow": null,
            "grid_area": null,
            "grid_template_columns": null,
            "flex": null,
            "_model_name": "LayoutModel",
            "justify_items": null,
            "grid_row": null,
            "max_height": null,
            "align_content": null,
            "visibility": null,
            "align_self": null,
            "height": null,
            "min_height": null,
            "padding": null,
            "grid_auto_rows": null,
            "grid_gap": null,
            "max_width": null,
            "order": null,
            "_view_module_version": "1.2.0",
            "grid_template_areas": null,
            "object_position": null,
            "object_fit": null,
            "grid_auto_columns": null,
            "margin": null,
            "display": null,
            "left": null
          }
        },
        "a809237ee9ab46c78f87d88c4856e8f4": {
          "model_module": "@jupyter-widgets/controls",
          "model_name": "CheckboxModel",
          "state": {
            "_view_name": "CheckboxView",
            "style": "IPY_MODEL_a4061989f8a54964a74142fff3503b4c",
            "_dom_classes": [],
            "description": "View",
            "_model_name": "CheckboxModel",
            "_view_module": "@jupyter-widgets/controls",
            "_model_module_version": "1.5.0",
            "value": true,
            "_view_count": null,
            "disabled": false,
            "_view_module_version": "1.5.0",
            "indent": true,
            "description_tooltip": null,
            "_model_module": "@jupyter-widgets/controls",
            "layout": "IPY_MODEL_9e6dabb268ff498c8a380981d9b83af9"
          }
        },
        "1b91ecddb51f40bdb89f3272b2c570fd": {
          "model_module": "@jupyter-widgets/controls",
          "model_name": "CheckboxModel",
          "state": {
            "_view_name": "CheckboxView",
            "style": "IPY_MODEL_e3547ff83e2c4b72bb0b9dd3ed0957ba",
            "_dom_classes": [],
            "description": "AddtoCart",
            "_model_name": "CheckboxModel",
            "_view_module": "@jupyter-widgets/controls",
            "_model_module_version": "1.5.0",
            "value": false,
            "_view_count": null,
            "disabled": false,
            "_view_module_version": "1.5.0",
            "indent": true,
            "description_tooltip": null,
            "_model_module": "@jupyter-widgets/controls",
            "layout": "IPY_MODEL_f356becc57644fcb90d331c1fcfc93fd"
          }
        },
        "a1c916202439404192cbcfe05b868cae": {
          "model_module": "@jupyter-widgets/controls",
          "model_name": "CheckboxModel",
          "state": {
            "_view_name": "CheckboxView",
            "style": "IPY_MODEL_d32a3c78154c4d9fb84448635a5c06c2",
            "_dom_classes": [],
            "description": "Transaction",
            "_model_name": "CheckboxModel",
            "_view_module": "@jupyter-widgets/controls",
            "_model_module_version": "1.5.0",
            "value": false,
            "_view_count": null,
            "disabled": false,
            "_view_module_version": "1.5.0",
            "indent": true,
            "description_tooltip": null,
            "_model_module": "@jupyter-widgets/controls",
            "layout": "IPY_MODEL_eabd8e4f27e74e83ba301f9b960ed7b3"
          }
        },
        "abe7a40871494d859b5d1ac31e832e41": {
          "model_module": "@jupyter-widgets/output",
          "model_name": "OutputModel",
          "state": {
            "_view_name": "OutputView",
            "msg_id": "",
            "_dom_classes": [],
            "_model_name": "OutputModel",
            "outputs": [
              {
                "output_type": "stream",
                "metadata": {
                  "tags": []
                },
                "text": "(2664312, 11)\n",
                "stream": "stdout"
              }
            ],
            "_view_module": "@jupyter-widgets/output",
            "_model_module_version": "1.0.0",
            "_view_count": null,
            "_view_module_version": "1.0.0",
            "layout": "IPY_MODEL_75ec146e2e6146dd8fd6795d8bd36503",
            "_model_module": "@jupyter-widgets/output"
          }
        },
        "a4061989f8a54964a74142fff3503b4c": {
          "model_module": "@jupyter-widgets/controls",
          "model_name": "DescriptionStyleModel",
          "state": {
            "_view_name": "StyleView",
            "_model_name": "DescriptionStyleModel",
            "description_width": "",
            "_view_module": "@jupyter-widgets/base",
            "_model_module_version": "1.5.0",
            "_view_count": null,
            "_view_module_version": "1.2.0",
            "_model_module": "@jupyter-widgets/controls"
          }
        },
        "9e6dabb268ff498c8a380981d9b83af9": {
          "model_module": "@jupyter-widgets/base",
          "model_name": "LayoutModel",
          "state": {
            "_view_name": "LayoutView",
            "grid_template_rows": null,
            "right": null,
            "justify_content": null,
            "_view_module": "@jupyter-widgets/base",
            "overflow": null,
            "_model_module_version": "1.2.0",
            "_view_count": null,
            "flex_flow": null,
            "width": null,
            "min_width": null,
            "border": null,
            "align_items": null,
            "bottom": null,
            "_model_module": "@jupyter-widgets/base",
            "top": null,
            "grid_column": null,
            "overflow_y": null,
            "overflow_x": null,
            "grid_auto_flow": null,
            "grid_area": null,
            "grid_template_columns": null,
            "flex": null,
            "_model_name": "LayoutModel",
            "justify_items": null,
            "grid_row": null,
            "max_height": null,
            "align_content": null,
            "visibility": null,
            "align_self": null,
            "height": null,
            "min_height": null,
            "padding": null,
            "grid_auto_rows": null,
            "grid_gap": null,
            "max_width": null,
            "order": null,
            "_view_module_version": "1.2.0",
            "grid_template_areas": null,
            "object_position": null,
            "object_fit": null,
            "grid_auto_columns": null,
            "margin": null,
            "display": null,
            "left": null
          }
        },
        "e3547ff83e2c4b72bb0b9dd3ed0957ba": {
          "model_module": "@jupyter-widgets/controls",
          "model_name": "DescriptionStyleModel",
          "state": {
            "_view_name": "StyleView",
            "_model_name": "DescriptionStyleModel",
            "description_width": "",
            "_view_module": "@jupyter-widgets/base",
            "_model_module_version": "1.5.0",
            "_view_count": null,
            "_view_module_version": "1.2.0",
            "_model_module": "@jupyter-widgets/controls"
          }
        },
        "f356becc57644fcb90d331c1fcfc93fd": {
          "model_module": "@jupyter-widgets/base",
          "model_name": "LayoutModel",
          "state": {
            "_view_name": "LayoutView",
            "grid_template_rows": null,
            "right": null,
            "justify_content": null,
            "_view_module": "@jupyter-widgets/base",
            "overflow": null,
            "_model_module_version": "1.2.0",
            "_view_count": null,
            "flex_flow": null,
            "width": null,
            "min_width": null,
            "border": null,
            "align_items": null,
            "bottom": null,
            "_model_module": "@jupyter-widgets/base",
            "top": null,
            "grid_column": null,
            "overflow_y": null,
            "overflow_x": null,
            "grid_auto_flow": null,
            "grid_area": null,
            "grid_template_columns": null,
            "flex": null,
            "_model_name": "LayoutModel",
            "justify_items": null,
            "grid_row": null,
            "max_height": null,
            "align_content": null,
            "visibility": null,
            "align_self": null,
            "height": null,
            "min_height": null,
            "padding": null,
            "grid_auto_rows": null,
            "grid_gap": null,
            "max_width": null,
            "order": null,
            "_view_module_version": "1.2.0",
            "grid_template_areas": null,
            "object_position": null,
            "object_fit": null,
            "grid_auto_columns": null,
            "margin": null,
            "display": null,
            "left": null
          }
        },
        "d32a3c78154c4d9fb84448635a5c06c2": {
          "model_module": "@jupyter-widgets/controls",
          "model_name": "DescriptionStyleModel",
          "state": {
            "_view_name": "StyleView",
            "_model_name": "DescriptionStyleModel",
            "description_width": "",
            "_view_module": "@jupyter-widgets/base",
            "_model_module_version": "1.5.0",
            "_view_count": null,
            "_view_module_version": "1.2.0",
            "_model_module": "@jupyter-widgets/controls"
          }
        },
        "eabd8e4f27e74e83ba301f9b960ed7b3": {
          "model_module": "@jupyter-widgets/base",
          "model_name": "LayoutModel",
          "state": {
            "_view_name": "LayoutView",
            "grid_template_rows": null,
            "right": null,
            "justify_content": null,
            "_view_module": "@jupyter-widgets/base",
            "overflow": null,
            "_model_module_version": "1.2.0",
            "_view_count": null,
            "flex_flow": null,
            "width": null,
            "min_width": null,
            "border": null,
            "align_items": null,
            "bottom": null,
            "_model_module": "@jupyter-widgets/base",
            "top": null,
            "grid_column": null,
            "overflow_y": null,
            "overflow_x": null,
            "grid_auto_flow": null,
            "grid_area": null,
            "grid_template_columns": null,
            "flex": null,
            "_model_name": "LayoutModel",
            "justify_items": null,
            "grid_row": null,
            "max_height": null,
            "align_content": null,
            "visibility": null,
            "align_self": null,
            "height": null,
            "min_height": null,
            "padding": null,
            "grid_auto_rows": null,
            "grid_gap": null,
            "max_width": null,
            "order": null,
            "_view_module_version": "1.2.0",
            "grid_template_areas": null,
            "object_position": null,
            "object_fit": null,
            "grid_auto_columns": null,
            "margin": null,
            "display": null,
            "left": null
          }
        },
        "75ec146e2e6146dd8fd6795d8bd36503": {
          "model_module": "@jupyter-widgets/base",
          "model_name": "LayoutModel",
          "state": {
            "_view_name": "LayoutView",
            "grid_template_rows": null,
            "right": null,
            "justify_content": null,
            "_view_module": "@jupyter-widgets/base",
            "overflow": null,
            "_model_module_version": "1.2.0",
            "_view_count": null,
            "flex_flow": null,
            "width": null,
            "min_width": null,
            "border": null,
            "align_items": null,
            "bottom": null,
            "_model_module": "@jupyter-widgets/base",
            "top": null,
            "grid_column": null,
            "overflow_y": null,
            "overflow_x": null,
            "grid_auto_flow": null,
            "grid_area": null,
            "grid_template_columns": null,
            "flex": null,
            "_model_name": "LayoutModel",
            "justify_items": null,
            "grid_row": null,
            "max_height": null,
            "align_content": null,
            "visibility": null,
            "align_self": null,
            "height": null,
            "min_height": null,
            "padding": null,
            "grid_auto_rows": null,
            "grid_gap": null,
            "max_width": null,
            "order": null,
            "_view_module_version": "1.2.0",
            "grid_template_areas": null,
            "object_position": null,
            "object_fit": null,
            "grid_auto_columns": null,
            "margin": null,
            "display": null,
            "left": null
          }
        }
      }
    }
  },
  "cells": [
    {
      "cell_type": "markdown",
      "metadata": {
        "id": "zUGAqrFLfHFA"
      },
      "source": [
        "# Interactive Time Series Visualization Assignment"
      ]
    },
    {
      "cell_type": "code",
      "metadata": {
        "id": "mWelAIHEfHFE"
      },
      "source": [
        "import pandas as pd\n",
        "import numpy as np\n",
        "\n",
        "import plotly.express as px\n",
        "from ipywidgets import interact"
      ],
      "execution_count": 1,
      "outputs": []
    },
    {
      "cell_type": "markdown",
      "metadata": {
        "id": "h-8X_cNVfHFI"
      },
      "source": [
        "### Load the Online Retail.xlsx Excel file into a Pandas dataframe."
      ]
    },
    {
      "cell_type": "code",
      "metadata": {
        "id": "ssD3f8tNfHFJ"
      },
      "source": [
        "url = 'https://tf-assets-prod.s3.amazonaws.com/tf-curric/data-science/Data%20Sets%20Time%20Series%20Analysis/Time%20Series%20-%20Day%202/Online%20Retail.xlsx'\n",
        "df = pd.read_excel(url)"
      ],
      "execution_count": 2,
      "outputs": []
    },
    {
      "cell_type": "code",
      "metadata": {
        "colab": {
          "base_uri": "https://localhost:8080/",
          "height": 198
        },
        "id": "pxU0WowOjrs_",
        "outputId": "a0986520-4927-400a-87da-b5932deb6eea"
      },
      "source": [
        "df.head()"
      ],
      "execution_count": 3,
      "outputs": [
        {
          "output_type": "execute_result",
          "data": {
            "text/html": [
              "<div>\n",
              "<style scoped>\n",
              "    .dataframe tbody tr th:only-of-type {\n",
              "        vertical-align: middle;\n",
              "    }\n",
              "\n",
              "    .dataframe tbody tr th {\n",
              "        vertical-align: top;\n",
              "    }\n",
              "\n",
              "    .dataframe thead th {\n",
              "        text-align: right;\n",
              "    }\n",
              "</style>\n",
              "<table border=\"1\" class=\"dataframe\">\n",
              "  <thead>\n",
              "    <tr style=\"text-align: right;\">\n",
              "      <th></th>\n",
              "      <th>InvoiceNo</th>\n",
              "      <th>InvoiceDate</th>\n",
              "      <th>StockCode</th>\n",
              "      <th>Description</th>\n",
              "      <th>Quantity</th>\n",
              "      <th>UnitPrice</th>\n",
              "      <th>Revenue</th>\n",
              "      <th>CustomerID</th>\n",
              "      <th>Country</th>\n",
              "    </tr>\n",
              "  </thead>\n",
              "  <tbody>\n",
              "    <tr>\n",
              "      <th>0</th>\n",
              "      <td>536365</td>\n",
              "      <td>2010-12-01 08:26:00</td>\n",
              "      <td>85123A</td>\n",
              "      <td>CREAM HANGING HEART T-LIGHT HOLDER</td>\n",
              "      <td>6</td>\n",
              "      <td>2.55</td>\n",
              "      <td>15.3</td>\n",
              "      <td>17850</td>\n",
              "      <td>United Kingdom</td>\n",
              "    </tr>\n",
              "    <tr>\n",
              "      <th>1</th>\n",
              "      <td>536373</td>\n",
              "      <td>2010-12-01 09:02:00</td>\n",
              "      <td>85123A</td>\n",
              "      <td>CREAM HANGING HEART T-LIGHT HOLDER</td>\n",
              "      <td>6</td>\n",
              "      <td>2.55</td>\n",
              "      <td>15.3</td>\n",
              "      <td>17850</td>\n",
              "      <td>United Kingdom</td>\n",
              "    </tr>\n",
              "    <tr>\n",
              "      <th>2</th>\n",
              "      <td>536375</td>\n",
              "      <td>2010-12-01 09:32:00</td>\n",
              "      <td>85123A</td>\n",
              "      <td>CREAM HANGING HEART T-LIGHT HOLDER</td>\n",
              "      <td>6</td>\n",
              "      <td>2.55</td>\n",
              "      <td>15.3</td>\n",
              "      <td>17850</td>\n",
              "      <td>United Kingdom</td>\n",
              "    </tr>\n",
              "    <tr>\n",
              "      <th>3</th>\n",
              "      <td>536390</td>\n",
              "      <td>2010-12-01 10:19:00</td>\n",
              "      <td>85123A</td>\n",
              "      <td>CREAM HANGING HEART T-LIGHT HOLDER</td>\n",
              "      <td>64</td>\n",
              "      <td>2.55</td>\n",
              "      <td>163.2</td>\n",
              "      <td>17511</td>\n",
              "      <td>United Kingdom</td>\n",
              "    </tr>\n",
              "    <tr>\n",
              "      <th>4</th>\n",
              "      <td>536394</td>\n",
              "      <td>2010-12-01 10:39:00</td>\n",
              "      <td>85123A</td>\n",
              "      <td>CREAM HANGING HEART T-LIGHT HOLDER</td>\n",
              "      <td>32</td>\n",
              "      <td>2.55</td>\n",
              "      <td>81.6</td>\n",
              "      <td>13408</td>\n",
              "      <td>United Kingdom</td>\n",
              "    </tr>\n",
              "  </tbody>\n",
              "</table>\n",
              "</div>"
            ],
            "text/plain": [
              "   InvoiceNo         InvoiceDate StockCode  ... Revenue  CustomerID         Country\n",
              "0     536365 2010-12-01 08:26:00    85123A  ...    15.3       17850  United Kingdom\n",
              "1     536373 2010-12-01 09:02:00    85123A  ...    15.3       17850  United Kingdom\n",
              "2     536375 2010-12-01 09:32:00    85123A  ...    15.3       17850  United Kingdom\n",
              "3     536390 2010-12-01 10:19:00    85123A  ...   163.2       17511  United Kingdom\n",
              "4     536394 2010-12-01 10:39:00    85123A  ...    81.6       13408  United Kingdom\n",
              "\n",
              "[5 rows x 9 columns]"
            ]
          },
          "metadata": {
            "tags": []
          },
          "execution_count": 3
        }
      ]
    },
    {
      "cell_type": "code",
      "metadata": {
        "id": "THi55esyfHFO"
      },
      "source": [
        "df['InvoiceDate'] = pd.to_datetime(df['InvoiceDate'])"
      ],
      "execution_count": 4,
      "outputs": []
    },
    {
      "cell_type": "code",
      "metadata": {
        "id": "FjdPRS1p6Mm5"
      },
      "source": [
        "df['Date'] = df['InvoiceDate'].dt.date\n",
        "df['Month'] = df['InvoiceDate'].dt.strftime('%B')\n",
        "df['YearMonth'] = df['InvoiceDate'].dt.strftime('%Y-%B')"
      ],
      "execution_count": 5,
      "outputs": []
    },
    {
      "cell_type": "code",
      "metadata": {
        "colab": {
          "base_uri": "https://localhost:8080/"
        },
        "id": "gJkwGYfv6iHc",
        "outputId": "4d59911b-d121-445c-f538-aa35f05591dd"
      },
      "source": [
        "df['InvoiceDate'].min(), df['InvoiceDate'].max()"
      ],
      "execution_count": 6,
      "outputs": [
        {
          "output_type": "execute_result",
          "data": {
            "text/plain": [
              "(Timestamp('2010-12-01 08:26:00'), Timestamp('2011-12-09 12:50:00'))"
            ]
          },
          "metadata": {
            "tags": []
          },
          "execution_count": 6
        }
      ]
    },
    {
      "cell_type": "markdown",
      "metadata": {
        "id": "dqk9efG-fHFN"
      },
      "source": [
        "### Create an interactive histogram to explore the distributions of daily (by date) Quantity, UnitPrice, and Revenue. Include a dropdown widget where you can switch between the three fields.\n",
        "\n",
        "**Hint:** You will need to create a Date field and then aggregate on it. The Quantity and Revenue fields should be summed and the UnitPrice field should be averaged (mean)."
      ]
    },
    {
      "cell_type": "code",
      "metadata": {
        "colab": {
          "base_uri": "https://localhost:8080/",
          "height": 407
        },
        "id": "wmBf6OeL763f",
        "outputId": "9dc1aa67-4dd2-44f1-f6d7-5794162b42f0"
      },
      "source": [
        "agg_field_sum = df.groupby('Date', as_index=False).agg({'Quantity':'sum', 'Revenue':'sum','UnitPrice':'mean'})\n",
        "agg_field_sum"
      ],
      "execution_count": 7,
      "outputs": [
        {
          "output_type": "execute_result",
          "data": {
            "text/html": [
              "<div>\n",
              "<style scoped>\n",
              "    .dataframe tbody tr th:only-of-type {\n",
              "        vertical-align: middle;\n",
              "    }\n",
              "\n",
              "    .dataframe tbody tr th {\n",
              "        vertical-align: top;\n",
              "    }\n",
              "\n",
              "    .dataframe thead th {\n",
              "        text-align: right;\n",
              "    }\n",
              "</style>\n",
              "<table border=\"1\" class=\"dataframe\">\n",
              "  <thead>\n",
              "    <tr style=\"text-align: right;\">\n",
              "      <th></th>\n",
              "      <th>Date</th>\n",
              "      <th>Quantity</th>\n",
              "      <th>Revenue</th>\n",
              "      <th>UnitPrice</th>\n",
              "    </tr>\n",
              "  </thead>\n",
              "  <tbody>\n",
              "    <tr>\n",
              "      <th>0</th>\n",
              "      <td>2010-12-01</td>\n",
              "      <td>24207</td>\n",
              "      <td>46219.29</td>\n",
              "      <td>3.109995</td>\n",
              "    </tr>\n",
              "    <tr>\n",
              "      <th>1</th>\n",
              "      <td>2010-12-02</td>\n",
              "      <td>31140</td>\n",
              "      <td>47283.53</td>\n",
              "      <td>3.184610</td>\n",
              "    </tr>\n",
              "    <tr>\n",
              "      <th>2</th>\n",
              "      <td>2010-12-03</td>\n",
              "      <td>11822</td>\n",
              "      <td>23576.01</td>\n",
              "      <td>3.166670</td>\n",
              "    </tr>\n",
              "    <tr>\n",
              "      <th>3</th>\n",
              "      <td>2010-12-05</td>\n",
              "      <td>16370</td>\n",
              "      <td>31315.64</td>\n",
              "      <td>2.840382</td>\n",
              "    </tr>\n",
              "    <tr>\n",
              "      <th>4</th>\n",
              "      <td>2010-12-06</td>\n",
              "      <td>16267</td>\n",
              "      <td>31014.21</td>\n",
              "      <td>2.878689</td>\n",
              "    </tr>\n",
              "    <tr>\n",
              "      <th>...</th>\n",
              "      <td>...</td>\n",
              "      <td>...</td>\n",
              "      <td>...</td>\n",
              "      <td>...</td>\n",
              "    </tr>\n",
              "    <tr>\n",
              "      <th>300</th>\n",
              "      <td>2011-12-05</td>\n",
              "      <td>37609</td>\n",
              "      <td>55920.60</td>\n",
              "      <td>2.581249</td>\n",
              "    </tr>\n",
              "    <tr>\n",
              "      <th>301</th>\n",
              "      <td>2011-12-06</td>\n",
              "      <td>27798</td>\n",
              "      <td>45584.19</td>\n",
              "      <td>2.318553</td>\n",
              "    </tr>\n",
              "    <tr>\n",
              "      <th>302</th>\n",
              "      <td>2011-12-07</td>\n",
              "      <td>41080</td>\n",
              "      <td>68699.21</td>\n",
              "      <td>2.397698</td>\n",
              "    </tr>\n",
              "    <tr>\n",
              "      <th>303</th>\n",
              "      <td>2011-12-08</td>\n",
              "      <td>27536</td>\n",
              "      <td>50214.15</td>\n",
              "      <td>2.572785</td>\n",
              "    </tr>\n",
              "    <tr>\n",
              "      <th>304</th>\n",
              "      <td>2011-12-09</td>\n",
              "      <td>9578</td>\n",
              "      <td>15720.68</td>\n",
              "      <td>2.369345</td>\n",
              "    </tr>\n",
              "  </tbody>\n",
              "</table>\n",
              "<p>305 rows × 4 columns</p>\n",
              "</div>"
            ],
            "text/plain": [
              "           Date  Quantity   Revenue  UnitPrice\n",
              "0    2010-12-01     24207  46219.29   3.109995\n",
              "1    2010-12-02     31140  47283.53   3.184610\n",
              "2    2010-12-03     11822  23576.01   3.166670\n",
              "3    2010-12-05     16370  31315.64   2.840382\n",
              "4    2010-12-06     16267  31014.21   2.878689\n",
              "..          ...       ...       ...        ...\n",
              "300  2011-12-05     37609  55920.60   2.581249\n",
              "301  2011-12-06     27798  45584.19   2.318553\n",
              "302  2011-12-07     41080  68699.21   2.397698\n",
              "303  2011-12-08     27536  50214.15   2.572785\n",
              "304  2011-12-09      9578  15720.68   2.369345\n",
              "\n",
              "[305 rows x 4 columns]"
            ]
          },
          "metadata": {
            "tags": []
          },
          "execution_count": 7
        }
      ]
    },
    {
      "cell_type": "code",
      "metadata": {
        "colab": {
          "base_uri": "https://localhost:8080/",
          "height": 574,
          "referenced_widgets": [
            "76bb30473643459ba18be224fc2afdd6",
            "4fdead6130414e5f8589a0752d7720f1",
            "515276e7f0094b048176afbe8bfae9b2",
            "701e6a02ba3845a19da893811ecd4a49",
            "64a81e07dce04b618e992951669cc76f",
            "43d7eae6753043648fcbe604b3a3af7a",
            "1786a934ae2a434ba663be6b13d7bdaa"
          ]
        },
        "id": "v1SDSWCA6uPF",
        "outputId": "b8ee885d-d3f2-4434-d1ad-109495426aca"
      },
      "source": [
        "@interact(field= ['Quantity', 'UnitPrice', 'Revenue'])\n",
        "\n",
        "def daily_dist(field):\n",
        "  agg_field = df.groupby('Date', as_index=False).agg({'Quantity':'sum', 'Revenue':'sum','UnitPrice':'mean'})\n",
        "\n",
        "  fig = px.histogram(agg_field, x=field, title=f'Daily distribution of {field}', template='none')\n",
        "  fig.update_traces(marker_color='lightskyblue', \n",
        "                  marker_line_color='black',\n",
        "                  marker_line_width=1)\n",
        "  fig.show()\n"
      ],
      "execution_count": 8,
      "outputs": [
        {
          "output_type": "display_data",
          "data": {
            "application/vnd.jupyter.widget-view+json": {
              "model_id": "76bb30473643459ba18be224fc2afdd6",
              "version_minor": 0,
              "version_major": 2
            },
            "text/plain": [
              "interactive(children=(Dropdown(description='field', options=('Quantity', 'UnitPrice', 'Revenue'), value='Quant…"
            ]
          },
          "metadata": {
            "tags": []
          }
        }
      ]
    },
    {
      "cell_type": "markdown",
      "metadata": {
        "id": "LalZadscfHFR"
      },
      "source": [
        "### Create an interactive line chart where you can explore Quantity and Revenue by day (date) for each country. Include two dropdown widgets - one to choose between the Quantity and Revenue fields and the other to choose the Country."
      ]
    },
    {
      "cell_type": "code",
      "metadata": {
        "colab": {
          "base_uri": "https://localhost:8080/",
          "height": 606,
          "referenced_widgets": [
            "f7ad38d50ef242139e552bc12c928c66",
            "f1038d1b243c4bcca3bcbd2ab3b2e288",
            "09cc29da32e84ad4ab8426011ef11898",
            "5bc23a98e55342ea85664a437436063e",
            "2837addf892b481d80ebeaad2893ce5d",
            "ddbdb6c4564f47efbe9aa713875f1a54",
            "851d459cf6aa4745b519b75faec1c272",
            "9090c826b22545599b7ee8c6120f8829",
            "46f2a2f36d904021bc03fc345cbb6957",
            "89a984ba1522466a8eb38198cc317771"
          ]
        },
        "id": "n4B3rSgq8nDW",
        "outputId": "e8566637-6bca-475d-df85-e8b5eb5221de"
      },
      "source": [
        "@interact(field=['Quantity', 'Revenue'], country=np.sort(df['Country'].unique()))\n",
        "\n",
        "def daily_line_country(field, country):\n",
        "    agg_country = df.loc[df['Country']==country].groupby(['Date'], as_index=False).agg({'Quantity':'sum', 'Revenue':'sum'})\n",
        "    fig = px.line(agg_country, 'Date', field, title=f'Plot of daily {field} in {country}', template='none')\n",
        "    fig.show()"
      ],
      "execution_count": 9,
      "outputs": [
        {
          "output_type": "display_data",
          "data": {
            "application/vnd.jupyter.widget-view+json": {
              "model_id": "f7ad38d50ef242139e552bc12c928c66",
              "version_minor": 0,
              "version_major": 2
            },
            "text/plain": [
              "interactive(children=(Dropdown(description='field', options=('Quantity', 'Revenue'), value='Quantity'), Dropdo…"
            ]
          },
          "metadata": {
            "tags": []
          }
        }
      ]
    },
    {
      "cell_type": "markdown",
      "metadata": {
        "id": "2HGyfA4rfHFV"
      },
      "source": [
        "### Create an interactive scatter plot showing the relationships between daily Quantity, UnitPrice, and Revenue for the United Kingdom. Include two dropdown boxes that let you choose between the 3 fields - one for the x axis and one for the y axis of your scatter plot. Size the data points according to Revenue."
      ]
    },
    {
      "cell_type": "code",
      "metadata": {
        "colab": {
          "base_uri": "https://localhost:8080/",
          "height": 606,
          "referenced_widgets": [
            "67deb82d44ac48e7ad105c24c128b523",
            "d991826da29c4062968e1c42d9dacc0d",
            "9e9da95ebe3f4211b3efac3a6acdac89",
            "926ad3150b5a4d698d7f4e343fe22335",
            "840263ca6d344cf18438c17394940c1e",
            "3ab90fb08e8149a5993a8ee56b4d90c9",
            "15624c53771d406b9de2c5c100c26c3d",
            "420dc099e27a4b7d8f6a3cdb3b874b8d",
            "b7a256c8cd274c60bffea0b8602a4fc7",
            "2d8f63ff75a1480f84797ae7c22fb9bc"
          ]
        },
        "id": "DCFY-LC6_N71",
        "outputId": "475b7150-5506-4ead-dd03-d0bc7cc9bf42"
      },
      "source": [
        "@interact(x_field=['Quantity', 'UnitPrice', 'Revenue'], y_field=['Quantity', 'UnitPrice', 'Revenue'])\n",
        "\n",
        "def UK_scatter_field(x_field, y_field):\n",
        "  agg_field = df.loc[df['Country']=='United Kingdom'].groupby('Date', as_index=False).agg({'Quantity':'sum', 'Revenue':'sum','UnitPrice':'mean'})\n",
        "\n",
        "  fig = px.scatter(agg_field, x=x_field, y=y_field, size='Revenue')\n",
        "  fig.update_traces(marker_line_color='black',\n",
        "                    marker_line_width=1,\n",
        "                    )\n",
        "  fig.show()"
      ],
      "execution_count": 10,
      "outputs": [
        {
          "output_type": "display_data",
          "data": {
            "application/vnd.jupyter.widget-view+json": {
              "model_id": "67deb82d44ac48e7ad105c24c128b523",
              "version_minor": 0,
              "version_major": 2
            },
            "text/plain": [
              "interactive(children=(Dropdown(description='x_field', options=('Quantity', 'UnitPrice', 'Revenue'), value='Qua…"
            ]
          },
          "metadata": {
            "tags": []
          }
        }
      ]
    },
    {
      "cell_type": "markdown",
      "metadata": {
        "id": "KYMEsgb7fHFb"
      },
      "source": [
        "### Create a bar chart showing the top X products sold (by quantity) in the United Kingdom in a specific month. Use a dropdown box to select the month name and a slider to show the top X products. The range for X should be from 5 to 25. Make sure the bars are sorted in descending order according to their total quantity sold for the month.\n",
        "\n",
        "Bonus points if you can figure out how to ensure that the month names in the dropdown appear in their correct order (January, February, March, April, etc.)."
      ]
    },
    {
      "cell_type": "code",
      "metadata": {
        "colab": {
          "base_uri": "https://localhost:8080/",
          "height": 606,
          "referenced_widgets": [
            "a40d0cf9185746d8bf32ef465f184d36",
            "cf131b637d75494a88b1154928c0c638",
            "2c151ef7c7f94c1dbe6ed48340ea011f",
            "5c57c51d45b84156b5eae656dfedffc4",
            "e0eac6a3e93e40cb8c613991eef72ef1",
            "96120b31b2e948148cff9b1fc317e7b4",
            "bc1853b82de54d1f9e38ab0a9cadb001",
            "4aa32808a7774623b1841603e6dca550",
            "83822ebcc57e4f20ab3d49a005fb2bad",
            "499647e481ff4343b703e9cdce07052b"
          ]
        },
        "id": "v01CSF-CjvA7",
        "outputId": "d04a894c-e1f7-42bd-921b-3d9a74379eda"
      },
      "source": [
        "@interact(top_products=(5,25), YearMonth=df['YearMonth'].unique())\n",
        "\n",
        "def top_products_UK(top_products, YearMonth):\n",
        "  agg_field = df.loc[(df['Country']=='United Kingdom')&(df['YearMonth']==YearMonth)].groupby(['YearMonth','StockCode'], as_index=False).agg({'Quantity':'sum'}).sort_values(['YearMonth','Quantity'], ascending=[True,False]).head(top_products)\n",
        "  fig = px.bar(agg_field, x='StockCode', y='Quantity', color='StockCode', title=f'UK\\'s Top {top_products} products sold by Quantity in {YearMonth}')\n",
        "  fig.update_traces(marker_line_color='black',\n",
        "                    marker_line_width=1)\n",
        "  fig.update_xaxes(type='category')\n",
        "  fig.show()"
      ],
      "execution_count": 11,
      "outputs": [
        {
          "output_type": "display_data",
          "data": {
            "application/vnd.jupyter.widget-view+json": {
              "model_id": "a40d0cf9185746d8bf32ef465f184d36",
              "version_minor": 0,
              "version_major": 2
            },
            "text/plain": [
              "interactive(children=(IntSlider(value=15, description='top_products', max=25, min=5), Dropdown(description='Ye…"
            ]
          },
          "metadata": {
            "tags": []
          }
        }
      ]
    },
    {
      "cell_type": "code",
      "metadata": {
        "id": "UB9GIhl3HYwL"
      },
      "source": [
        ""
      ],
      "execution_count": 11,
      "outputs": []
    },
    {
      "cell_type": "code",
      "metadata": {
        "id": "9NhxEGgAHYrw"
      },
      "source": [
        ""
      ],
      "execution_count": 11,
      "outputs": []
    },
    {
      "cell_type": "code",
      "metadata": {
        "id": "kZ3k5IpnHYod"
      },
      "source": [
        ""
      ],
      "execution_count": 11,
      "outputs": []
    },
    {
      "cell_type": "markdown",
      "metadata": {
        "id": "AbhpfvOAjvu1"
      },
      "source": [
        "# Lecture Note"
      ]
    },
    {
      "cell_type": "code",
      "metadata": {
        "colab": {
          "base_uri": "https://localhost:8080/"
        },
        "id": "VrP3fpORju94",
        "outputId": "666b77e2-005a-4a56-ceb3-3ec4fd8f5f6e"
      },
      "source": [
        "web_events_df = pd.read_csv('https://tf-assets-prod.s3.amazonaws.com/tf-curric/data-science/web_events.csv')\n",
        "web_events_df.info()"
      ],
      "execution_count": 12,
      "outputs": [
        {
          "output_type": "stream",
          "text": [
            "<class 'pandas.core.frame.DataFrame'>\n",
            "RangeIndex: 2756101 entries, 0 to 2756100\n",
            "Data columns (total 5 columns):\n",
            " #   Column         Dtype  \n",
            "---  ------         -----  \n",
            " 0   timestamp      int64  \n",
            " 1   visitorid      int64  \n",
            " 2   event          object \n",
            " 3   itemid         int64  \n",
            " 4   transactionid  float64\n",
            "dtypes: float64(1), int64(3), object(1)\n",
            "memory usage: 105.1+ MB\n"
          ],
          "name": "stdout"
        }
      ]
    },
    {
      "cell_type": "code",
      "metadata": {
        "id": "S-C2Vgp7ju7a"
      },
      "source": [
        "web_events_df['timestamp'] = pd.to_datetime(web_events_df['timestamp'], unit='ms')"
      ],
      "execution_count": 13,
      "outputs": []
    },
    {
      "cell_type": "code",
      "metadata": {
        "id": "r_2NV4oaju31"
      },
      "source": [
        "web_events_df['Date'] = web_events_df['timestamp'].dt.date\n",
        "web_events_df['Month'] = web_events_df['timestamp'].dt.strftime('%B')\n",
        "web_events_df['Day'] = web_events_df['timestamp'].dt.day\n",
        "web_events_df['Hour'] = web_events_df['timestamp'].dt.hour\n",
        "web_events_df['Minute'] = web_events_df['timestamp'].dt.minute\n",
        "web_events_df['Weekday'] = web_events_df['timestamp'].dt.strftime('%A')"
      ],
      "execution_count": 14,
      "outputs": []
    },
    {
      "cell_type": "code",
      "metadata": {
        "colab": {
          "base_uri": "https://localhost:8080/",
          "height": 198
        },
        "id": "9AiWo-Mgju02",
        "outputId": "3bd486be-79ee-4e3f-c805-036817308cc9"
      },
      "source": [
        "web_events_df.head()"
      ],
      "execution_count": 15,
      "outputs": [
        {
          "output_type": "execute_result",
          "data": {
            "text/html": [
              "<div>\n",
              "<style scoped>\n",
              "    .dataframe tbody tr th:only-of-type {\n",
              "        vertical-align: middle;\n",
              "    }\n",
              "\n",
              "    .dataframe tbody tr th {\n",
              "        vertical-align: top;\n",
              "    }\n",
              "\n",
              "    .dataframe thead th {\n",
              "        text-align: right;\n",
              "    }\n",
              "</style>\n",
              "<table border=\"1\" class=\"dataframe\">\n",
              "  <thead>\n",
              "    <tr style=\"text-align: right;\">\n",
              "      <th></th>\n",
              "      <th>timestamp</th>\n",
              "      <th>visitorid</th>\n",
              "      <th>event</th>\n",
              "      <th>itemid</th>\n",
              "      <th>transactionid</th>\n",
              "      <th>Date</th>\n",
              "      <th>Month</th>\n",
              "      <th>Day</th>\n",
              "      <th>Hour</th>\n",
              "      <th>Minute</th>\n",
              "      <th>Weekday</th>\n",
              "    </tr>\n",
              "  </thead>\n",
              "  <tbody>\n",
              "    <tr>\n",
              "      <th>0</th>\n",
              "      <td>2015-06-02 05:02:12.117</td>\n",
              "      <td>257597</td>\n",
              "      <td>view</td>\n",
              "      <td>355908</td>\n",
              "      <td>NaN</td>\n",
              "      <td>2015-06-02</td>\n",
              "      <td>June</td>\n",
              "      <td>2</td>\n",
              "      <td>5</td>\n",
              "      <td>2</td>\n",
              "      <td>Tuesday</td>\n",
              "    </tr>\n",
              "    <tr>\n",
              "      <th>1</th>\n",
              "      <td>2015-06-02 05:50:14.164</td>\n",
              "      <td>992329</td>\n",
              "      <td>view</td>\n",
              "      <td>248676</td>\n",
              "      <td>NaN</td>\n",
              "      <td>2015-06-02</td>\n",
              "      <td>June</td>\n",
              "      <td>2</td>\n",
              "      <td>5</td>\n",
              "      <td>50</td>\n",
              "      <td>Tuesday</td>\n",
              "    </tr>\n",
              "    <tr>\n",
              "      <th>2</th>\n",
              "      <td>2015-06-02 05:13:19.827</td>\n",
              "      <td>111016</td>\n",
              "      <td>view</td>\n",
              "      <td>318965</td>\n",
              "      <td>NaN</td>\n",
              "      <td>2015-06-02</td>\n",
              "      <td>June</td>\n",
              "      <td>2</td>\n",
              "      <td>5</td>\n",
              "      <td>13</td>\n",
              "      <td>Tuesday</td>\n",
              "    </tr>\n",
              "    <tr>\n",
              "      <th>3</th>\n",
              "      <td>2015-06-02 05:12:35.914</td>\n",
              "      <td>483717</td>\n",
              "      <td>view</td>\n",
              "      <td>253185</td>\n",
              "      <td>NaN</td>\n",
              "      <td>2015-06-02</td>\n",
              "      <td>June</td>\n",
              "      <td>2</td>\n",
              "      <td>5</td>\n",
              "      <td>12</td>\n",
              "      <td>Tuesday</td>\n",
              "    </tr>\n",
              "    <tr>\n",
              "      <th>4</th>\n",
              "      <td>2015-06-02 05:02:17.106</td>\n",
              "      <td>951259</td>\n",
              "      <td>view</td>\n",
              "      <td>367447</td>\n",
              "      <td>NaN</td>\n",
              "      <td>2015-06-02</td>\n",
              "      <td>June</td>\n",
              "      <td>2</td>\n",
              "      <td>5</td>\n",
              "      <td>2</td>\n",
              "      <td>Tuesday</td>\n",
              "    </tr>\n",
              "  </tbody>\n",
              "</table>\n",
              "</div>"
            ],
            "text/plain": [
              "                timestamp  visitorid event  itemid  ...  Day Hour Minute  Weekday\n",
              "0 2015-06-02 05:02:12.117     257597  view  355908  ...    2    5      2  Tuesday\n",
              "1 2015-06-02 05:50:14.164     992329  view  248676  ...    2    5     50  Tuesday\n",
              "2 2015-06-02 05:13:19.827     111016  view  318965  ...    2    5     13  Tuesday\n",
              "3 2015-06-02 05:12:35.914     483717  view  253185  ...    2    5     12  Tuesday\n",
              "4 2015-06-02 05:02:17.106     951259  view  367447  ...    2    5      2  Tuesday\n",
              "\n",
              "[5 rows x 11 columns]"
            ]
          },
          "metadata": {
            "tags": []
          },
          "execution_count": 15
        }
      ]
    },
    {
      "cell_type": "code",
      "metadata": {
        "colab": {
          "base_uri": "https://localhost:8080/",
          "height": 407
        },
        "id": "23eL7meojuyK",
        "outputId": "81c7eb1a-24a9-4056-e544-89266c92e9b9"
      },
      "source": [
        "df = web_events_df.groupby(['Day', 'Month'], as_index=False).agg({'event':'count'})\n",
        "df"
      ],
      "execution_count": 16,
      "outputs": [
        {
          "output_type": "execute_result",
          "data": {
            "text/html": [
              "<div>\n",
              "<style scoped>\n",
              "    .dataframe tbody tr th:only-of-type {\n",
              "        vertical-align: middle;\n",
              "    }\n",
              "\n",
              "    .dataframe tbody tr th {\n",
              "        vertical-align: top;\n",
              "    }\n",
              "\n",
              "    .dataframe thead th {\n",
              "        text-align: right;\n",
              "    }\n",
              "</style>\n",
              "<table border=\"1\" class=\"dataframe\">\n",
              "  <thead>\n",
              "    <tr style=\"text-align: right;\">\n",
              "      <th></th>\n",
              "      <th>Day</th>\n",
              "      <th>Month</th>\n",
              "      <th>event</th>\n",
              "    </tr>\n",
              "  </thead>\n",
              "  <tbody>\n",
              "    <tr>\n",
              "      <th>0</th>\n",
              "      <td>1</td>\n",
              "      <td>August</td>\n",
              "      <td>15459</td>\n",
              "    </tr>\n",
              "    <tr>\n",
              "      <th>1</th>\n",
              "      <td>1</td>\n",
              "      <td>July</td>\n",
              "      <td>20764</td>\n",
              "    </tr>\n",
              "    <tr>\n",
              "      <th>2</th>\n",
              "      <td>1</td>\n",
              "      <td>June</td>\n",
              "      <td>22796</td>\n",
              "    </tr>\n",
              "    <tr>\n",
              "      <th>3</th>\n",
              "      <td>1</td>\n",
              "      <td>September</td>\n",
              "      <td>18178</td>\n",
              "    </tr>\n",
              "    <tr>\n",
              "      <th>4</th>\n",
              "      <td>2</td>\n",
              "      <td>August</td>\n",
              "      <td>15220</td>\n",
              "    </tr>\n",
              "    <tr>\n",
              "      <th>...</th>\n",
              "      <td>...</td>\n",
              "      <td>...</td>\n",
              "      <td>...</td>\n",
              "    </tr>\n",
              "    <tr>\n",
              "      <th>134</th>\n",
              "      <td>30</td>\n",
              "      <td>June</td>\n",
              "      <td>21448</td>\n",
              "    </tr>\n",
              "    <tr>\n",
              "      <th>135</th>\n",
              "      <td>30</td>\n",
              "      <td>May</td>\n",
              "      <td>16030</td>\n",
              "    </tr>\n",
              "    <tr>\n",
              "      <th>136</th>\n",
              "      <td>31</td>\n",
              "      <td>August</td>\n",
              "      <td>18627</td>\n",
              "    </tr>\n",
              "    <tr>\n",
              "      <th>137</th>\n",
              "      <td>31</td>\n",
              "      <td>July</td>\n",
              "      <td>18942</td>\n",
              "    </tr>\n",
              "    <tr>\n",
              "      <th>138</th>\n",
              "      <td>31</td>\n",
              "      <td>May</td>\n",
              "      <td>16397</td>\n",
              "    </tr>\n",
              "  </tbody>\n",
              "</table>\n",
              "<p>139 rows × 3 columns</p>\n",
              "</div>"
            ],
            "text/plain": [
              "     Day      Month  event\n",
              "0      1     August  15459\n",
              "1      1       July  20764\n",
              "2      1       June  22796\n",
              "3      1  September  18178\n",
              "4      2     August  15220\n",
              "..   ...        ...    ...\n",
              "134   30       June  21448\n",
              "135   30        May  16030\n",
              "136   31     August  18627\n",
              "137   31       July  18942\n",
              "138   31        May  16397\n",
              "\n",
              "[139 rows x 3 columns]"
            ]
          },
          "metadata": {
            "tags": []
          },
          "execution_count": 16
        }
      ]
    },
    {
      "cell_type": "code",
      "metadata": {
        "colab": {
          "base_uri": "https://localhost:8080/",
          "height": 542
        },
        "id": "Kfh9XXn4kEQk",
        "outputId": "482819a7-a0ad-43a0-a398-a0d313a0589c"
      },
      "source": [
        "px.line(df, x='Day', y='event', color='Month', title='Number of Events by Day', template='none')"
      ],
      "execution_count": 17,
      "outputs": [
        {
          "output_type": "display_data",
          "data": {
            "text/html": [
              "<html>\n",
              "<head><meta charset=\"utf-8\" /></head>\n",
              "<body>\n",
              "    <div>\n",
              "            <script src=\"https://cdnjs.cloudflare.com/ajax/libs/mathjax/2.7.5/MathJax.js?config=TeX-AMS-MML_SVG\"></script><script type=\"text/javascript\">if (window.MathJax) {MathJax.Hub.Config({SVG: {font: \"STIX-Web\"}});}</script>\n",
              "                <script type=\"text/javascript\">window.PlotlyConfig = {MathJaxConfig: 'local'};</script>\n",
              "        <script src=\"https://cdn.plot.ly/plotly-latest.min.js\"></script>    \n",
              "            <div id=\"cceb5e63-a3ee-4ce9-a7c7-baf076f176a9\" class=\"plotly-graph-div\" style=\"height:525px; width:100%;\"></div>\n",
              "            <script type=\"text/javascript\">\n",
              "                \n",
              "                    window.PLOTLYENV=window.PLOTLYENV || {};\n",
              "                    \n",
              "                if (document.getElementById(\"cceb5e63-a3ee-4ce9-a7c7-baf076f176a9\")) {\n",
              "                    Plotly.newPlot(\n",
              "                        'cceb5e63-a3ee-4ce9-a7c7-baf076f176a9',\n",
              "                        [{\"hoverlabel\": {\"namelength\": 0}, \"hovertemplate\": \"Month=August<br>Day=%{x}<br>event=%{y}\", \"legendgroup\": \"Month=August\", \"line\": {\"color\": \"#1F77B4\", \"dash\": \"solid\"}, \"mode\": \"lines\", \"name\": \"Month=August\", \"showlegend\": true, \"type\": \"scatter\", \"x\": [1, 2, 3, 4, 5, 6, 7, 8, 9, 10, 11, 12, 13, 14, 15, 16, 17, 18, 19, 20, 21, 22, 23, 24, 25, 26, 27, 28, 29, 30, 31], \"xaxis\": \"x\", \"y\": [15459, 15220, 21269, 21235, 20405, 20330, 19346, 12857, 13117, 18424, 18206, 20083, 19159, 16976, 13423, 14492, 20858, 20751, 20088, 19215, 17750, 14248, 14014, 18740, 19681, 18978, 19566, 19602, 14965, 16278, 18627], \"yaxis\": \"y\"}, {\"hoverlabel\": {\"namelength\": 0}, \"hovertemplate\": \"Month=July<br>Day=%{x}<br>event=%{y}\", \"legendgroup\": \"Month=July\", \"line\": {\"color\": \"#FF7F0E\", \"dash\": \"solid\"}, \"mode\": \"lines\", \"name\": \"Month=July\", \"showlegend\": true, \"type\": \"scatter\", \"x\": [1, 2, 3, 4, 5, 6, 7, 8, 9, 10, 11, 12, 13, 14, 15, 16, 17, 18, 19, 20, 21, 22, 23, 24, 25, 26, 27, 28, 29, 30, 31], \"xaxis\": \"x\", \"y\": [20764, 21413, 20782, 16092, 15750, 22356, 24385, 25035, 24997, 23151, 20794, 21127, 26119, 26872, 24141, 21632, 20186, 16489, 16804, 25332, 23613, 22327, 21601, 22755, 27106, 32703, 28562, 21980, 23200, 20974, 18942], \"yaxis\": \"y\"}, {\"hoverlabel\": {\"namelength\": 0}, \"hovertemplate\": \"Month=June<br>Day=%{x}<br>event=%{y}\", \"legendgroup\": \"Month=June\", \"line\": {\"color\": \"#2CA02C\", \"dash\": \"solid\"}, \"mode\": \"lines\", \"name\": \"Month=June\", \"showlegend\": true, \"type\": \"scatter\", \"x\": [1, 2, 3, 4, 5, 6, 7, 8, 9, 10, 11, 12, 13, 14, 15, 16, 17, 18, 19, 20, 21, 22, 23, 24, 25, 26, 27, 28, 29, 30], \"xaxis\": \"x\", \"y\": [22796, 23336, 23559, 23629, 20814, 16160, 16151, 20941, 23682, 24023, 20915, 15866, 12270, 14155, 22266, 24667, 23897, 23324, 20621, 15568, 15633, 23294, 23616, 21960, 20271, 19875, 15477, 17195, 22984, 21448], \"yaxis\": \"y\"}, {\"hoverlabel\": {\"namelength\": 0}, \"hovertemplate\": \"Month=September<br>Day=%{x}<br>event=%{y}\", \"legendgroup\": \"Month=September\", \"line\": {\"color\": \"#D62728\", \"dash\": \"solid\"}, \"mode\": \"lines\", \"name\": \"Month=September\", \"showlegend\": true, \"type\": \"scatter\", \"x\": [1, 2, 3, 4, 5, 6, 7, 8, 9, 10, 11, 12, 13, 14, 15, 16, 17, 18], \"xaxis\": \"x\", \"y\": [18178, 17539, 18041, 17733, 14365, 14574, 19793, 20815, 21761, 22548, 21517, 15496, 16859, 20913, 20427, 11495, 10128, 1528], \"yaxis\": \"y\"}, {\"hoverlabel\": {\"namelength\": 0}, \"hovertemplate\": \"Month=May<br>Day=%{x}<br>event=%{y}\", \"legendgroup\": \"Month=May\", \"line\": {\"color\": \"#9467BD\", \"dash\": \"solid\"}, \"mode\": \"lines\", \"name\": \"Month=May\", \"showlegend\": true, \"type\": \"scatter\", \"x\": [3, 4, 5, 6, 7, 8, 9, 10, 11, 12, 13, 14, 15, 16, 17, 18, 19, 20, 21, 22, 23, 24, 25, 26, 27, 28, 29, 30, 31], \"xaxis\": \"x\", \"y\": [13683, 19414, 23015, 23920, 23164, 19424, 12695, 12143, 16178, 22374, 23767, 24156, 22194, 19313, 20879, 27084, 26799, 22236, 21676, 21063, 16408, 17248, 23863, 21997, 21936, 22022, 19574, 16030, 16397], \"yaxis\": \"y\"}],\n",
              "                        {\"legend\": {\"tracegroupgap\": 0}, \"template\": {\"data\": {\"scatter\": [{\"type\": \"scatter\"}]}}, \"title\": {\"text\": \"Number of Events by Day\"}, \"xaxis\": {\"anchor\": \"y\", \"domain\": [0.0, 1.0], \"title\": {\"text\": \"Day\"}}, \"yaxis\": {\"anchor\": \"x\", \"domain\": [0.0, 1.0], \"title\": {\"text\": \"event\"}}},\n",
              "                        {\"responsive\": true}\n",
              "                    ).then(function(){\n",
              "                            \n",
              "var gd = document.getElementById('cceb5e63-a3ee-4ce9-a7c7-baf076f176a9');\n",
              "var x = new MutationObserver(function (mutations, observer) {{\n",
              "        var display = window.getComputedStyle(gd).display;\n",
              "        if (!display || display === 'none') {{\n",
              "            console.log([gd, 'removed!']);\n",
              "            Plotly.purge(gd);\n",
              "            observer.disconnect();\n",
              "        }}\n",
              "}});\n",
              "\n",
              "// Listen for the removal of the full notebook cells\n",
              "var notebookContainer = gd.closest('#notebook-container');\n",
              "if (notebookContainer) {{\n",
              "    x.observe(notebookContainer, {childList: true});\n",
              "}}\n",
              "\n",
              "// Listen for the clearing of the current output cell\n",
              "var outputEl = gd.closest('.output');\n",
              "if (outputEl) {{\n",
              "    x.observe(outputEl, {childList: true});\n",
              "}}\n",
              "\n",
              "                        })\n",
              "                };\n",
              "                \n",
              "            </script>\n",
              "        </div>\n",
              "</body>\n",
              "</html>"
            ]
          },
          "metadata": {
            "tags": []
          }
        }
      ]
    },
    {
      "cell_type": "code",
      "metadata": {
        "colab": {
          "base_uri": "https://localhost:8080/",
          "height": 542
        },
        "id": "c98SVUnnkEN9",
        "outputId": "22e329d0-10a7-45c0-918b-b6ba52bbc1b0"
      },
      "source": [
        "fig = px.histogram(df, x='event', title='Distribution', nbins=50, template='none')\n",
        "fig.update_yaxes(title_text='Number of Records')\n",
        "fig.update_traces(marker_color='lightskyblue', \n",
        "                  marker_line_color='black',\n",
        "                  marker_line_width=1)"
      ],
      "execution_count": 18,
      "outputs": [
        {
          "output_type": "display_data",
          "data": {
            "text/html": [
              "<html>\n",
              "<head><meta charset=\"utf-8\" /></head>\n",
              "<body>\n",
              "    <div>\n",
              "            <script src=\"https://cdnjs.cloudflare.com/ajax/libs/mathjax/2.7.5/MathJax.js?config=TeX-AMS-MML_SVG\"></script><script type=\"text/javascript\">if (window.MathJax) {MathJax.Hub.Config({SVG: {font: \"STIX-Web\"}});}</script>\n",
              "                <script type=\"text/javascript\">window.PlotlyConfig = {MathJaxConfig: 'local'};</script>\n",
              "        <script src=\"https://cdn.plot.ly/plotly-latest.min.js\"></script>    \n",
              "            <div id=\"31248a3d-22e0-46e3-b8db-7560fb3669cb\" class=\"plotly-graph-div\" style=\"height:525px; width:100%;\"></div>\n",
              "            <script type=\"text/javascript\">\n",
              "                \n",
              "                    window.PLOTLYENV=window.PLOTLYENV || {};\n",
              "                    \n",
              "                if (document.getElementById(\"31248a3d-22e0-46e3-b8db-7560fb3669cb\")) {\n",
              "                    Plotly.newPlot(\n",
              "                        '31248a3d-22e0-46e3-b8db-7560fb3669cb',\n",
              "                        [{\"alignmentgroup\": \"True\", \"bingroup\": \"x\", \"hoverlabel\": {\"namelength\": 0}, \"hovertemplate\": \"event=%{x}<br>count=%{y}\", \"legendgroup\": \"\", \"marker\": {\"color\": \"lightskyblue\", \"line\": {\"color\": \"black\", \"width\": 1}}, \"name\": \"\", \"nbinsx\": 50, \"offsetgroup\": \"\", \"orientation\": \"v\", \"showlegend\": false, \"type\": \"histogram\", \"x\": [15459, 20764, 22796, 18178, 15220, 21413, 23336, 17539, 21269, 20782, 23559, 13683, 18041, 21235, 16092, 23629, 19414, 17733, 20405, 15750, 20814, 23015, 14365, 20330, 22356, 16160, 23920, 14574, 19346, 24385, 16151, 23164, 19793, 12857, 25035, 20941, 19424, 20815, 13117, 24997, 23682, 12695, 21761, 18424, 23151, 24023, 12143, 22548, 18206, 20794, 20915, 16178, 21517, 20083, 21127, 15866, 22374, 15496, 19159, 26119, 12270, 23767, 16859, 16976, 26872, 14155, 24156, 20913, 13423, 24141, 22266, 22194, 20427, 14492, 21632, 24667, 19313, 11495, 20858, 20186, 23897, 20879, 10128, 20751, 16489, 23324, 27084, 1528, 20088, 16804, 20621, 26799, 19215, 25332, 15568, 22236, 17750, 23613, 15633, 21676, 14248, 22327, 23294, 21063, 14014, 21601, 23616, 16408, 18740, 22755, 21960, 17248, 19681, 27106, 20271, 23863, 18978, 32703, 19875, 21997, 19566, 28562, 15477, 21936, 19602, 21980, 17195, 22022, 14965, 23200, 22984, 19574, 16278, 20974, 21448, 16030, 18627, 18942, 16397], \"xaxis\": \"x\", \"yaxis\": \"y\"}],\n",
              "                        {\"barmode\": \"relative\", \"legend\": {\"tracegroupgap\": 0}, \"template\": {\"data\": {\"scatter\": [{\"type\": \"scatter\"}]}}, \"title\": {\"text\": \"Distribution\"}, \"xaxis\": {\"anchor\": \"y\", \"domain\": [0.0, 1.0], \"title\": {\"text\": \"event\"}}, \"yaxis\": {\"anchor\": \"x\", \"domain\": [0.0, 1.0], \"title\": {\"text\": \"Number of Records\"}}},\n",
              "                        {\"responsive\": true}\n",
              "                    ).then(function(){\n",
              "                            \n",
              "var gd = document.getElementById('31248a3d-22e0-46e3-b8db-7560fb3669cb');\n",
              "var x = new MutationObserver(function (mutations, observer) {{\n",
              "        var display = window.getComputedStyle(gd).display;\n",
              "        if (!display || display === 'none') {{\n",
              "            console.log([gd, 'removed!']);\n",
              "            Plotly.purge(gd);\n",
              "            observer.disconnect();\n",
              "        }}\n",
              "}});\n",
              "\n",
              "// Listen for the removal of the full notebook cells\n",
              "var notebookContainer = gd.closest('#notebook-container');\n",
              "if (notebookContainer) {{\n",
              "    x.observe(notebookContainer, {childList: true});\n",
              "}}\n",
              "\n",
              "// Listen for the clearing of the current output cell\n",
              "var outputEl = gd.closest('.output');\n",
              "if (outputEl) {{\n",
              "    x.observe(outputEl, {childList: true});\n",
              "}}\n",
              "\n",
              "                        })\n",
              "                };\n",
              "                \n",
              "            </script>\n",
              "        </div>\n",
              "</body>\n",
              "</html>"
            ]
          },
          "metadata": {
            "tags": []
          }
        }
      ]
    },
    {
      "cell_type": "code",
      "metadata": {
        "colab": {
          "base_uri": "https://localhost:8080/",
          "height": 258
        },
        "id": "K00RuczbkEK4",
        "outputId": "63fc286e-ec09-4f67-f3c4-389ad8b1da50"
      },
      "source": [
        "new_df = web_events_df.groupby('Weekday', as_index=False).agg({'event':'count'})\n",
        "new_df"
      ],
      "execution_count": 19,
      "outputs": [
        {
          "output_type": "execute_result",
          "data": {
            "text/html": [
              "<div>\n",
              "<style scoped>\n",
              "    .dataframe tbody tr th:only-of-type {\n",
              "        vertical-align: middle;\n",
              "    }\n",
              "\n",
              "    .dataframe tbody tr th {\n",
              "        vertical-align: top;\n",
              "    }\n",
              "\n",
              "    .dataframe thead th {\n",
              "        text-align: right;\n",
              "    }\n",
              "</style>\n",
              "<table border=\"1\" class=\"dataframe\">\n",
              "  <thead>\n",
              "    <tr style=\"text-align: right;\">\n",
              "      <th></th>\n",
              "      <th>Weekday</th>\n",
              "      <th>event</th>\n",
              "    </tr>\n",
              "  </thead>\n",
              "  <tbody>\n",
              "    <tr>\n",
              "      <th>0</th>\n",
              "      <td>Friday</td>\n",
              "      <td>379699</td>\n",
              "    </tr>\n",
              "    <tr>\n",
              "      <th>1</th>\n",
              "      <td>Monday</td>\n",
              "      <td>439813</td>\n",
              "    </tr>\n",
              "    <tr>\n",
              "      <th>2</th>\n",
              "      <td>Saturday</td>\n",
              "      <td>305215</td>\n",
              "    </tr>\n",
              "    <tr>\n",
              "      <th>3</th>\n",
              "      <td>Sunday</td>\n",
              "      <td>334422</td>\n",
              "    </tr>\n",
              "    <tr>\n",
              "      <th>4</th>\n",
              "      <td>Thursday</td>\n",
              "      <td>418761</td>\n",
              "    </tr>\n",
              "    <tr>\n",
              "      <th>5</th>\n",
              "      <td>Tuesday</td>\n",
              "      <td>447077</td>\n",
              "    </tr>\n",
              "    <tr>\n",
              "      <th>6</th>\n",
              "      <td>Wednesday</td>\n",
              "      <td>431114</td>\n",
              "    </tr>\n",
              "  </tbody>\n",
              "</table>\n",
              "</div>"
            ],
            "text/plain": [
              "     Weekday   event\n",
              "0     Friday  379699\n",
              "1     Monday  439813\n",
              "2   Saturday  305215\n",
              "3     Sunday  334422\n",
              "4   Thursday  418761\n",
              "5    Tuesday  447077\n",
              "6  Wednesday  431114"
            ]
          },
          "metadata": {
            "tags": []
          },
          "execution_count": 19
        }
      ]
    },
    {
      "cell_type": "code",
      "metadata": {
        "colab": {
          "base_uri": "https://localhost:8080/",
          "height": 542
        },
        "id": "aol7hDNHkEID",
        "outputId": "d417150d-9540-4b28-b254-19441c0902bb"
      },
      "source": [
        "order = ['Monday', 'Tuesday', 'Wednesday', 'Thursday', 'Friday', 'Saturday', 'Sunday']\n",
        "fig = px.bar(new_df, 'Weekday', 'event', template='none')\n",
        "fig.update_yaxes(title_text='Number of Records')\n",
        "fig.update_traces(marker_color='lightskyblue', \n",
        "                  marker_line_color='black',\n",
        "                  marker_line_width=1)\n",
        "fig.update_layout(xaxis={'categoryorder':'array',\n",
        "                         'categoryarray':order})"
      ],
      "execution_count": 20,
      "outputs": [
        {
          "output_type": "display_data",
          "data": {
            "text/html": [
              "<html>\n",
              "<head><meta charset=\"utf-8\" /></head>\n",
              "<body>\n",
              "    <div>\n",
              "            <script src=\"https://cdnjs.cloudflare.com/ajax/libs/mathjax/2.7.5/MathJax.js?config=TeX-AMS-MML_SVG\"></script><script type=\"text/javascript\">if (window.MathJax) {MathJax.Hub.Config({SVG: {font: \"STIX-Web\"}});}</script>\n",
              "                <script type=\"text/javascript\">window.PlotlyConfig = {MathJaxConfig: 'local'};</script>\n",
              "        <script src=\"https://cdn.plot.ly/plotly-latest.min.js\"></script>    \n",
              "            <div id=\"5a869824-8f83-443c-9ee6-d695038821c7\" class=\"plotly-graph-div\" style=\"height:525px; width:100%;\"></div>\n",
              "            <script type=\"text/javascript\">\n",
              "                \n",
              "                    window.PLOTLYENV=window.PLOTLYENV || {};\n",
              "                    \n",
              "                if (document.getElementById(\"5a869824-8f83-443c-9ee6-d695038821c7\")) {\n",
              "                    Plotly.newPlot(\n",
              "                        '5a869824-8f83-443c-9ee6-d695038821c7',\n",
              "                        [{\"alignmentgroup\": \"True\", \"hoverlabel\": {\"namelength\": 0}, \"hovertemplate\": \"Weekday=%{x}<br>event=%{y}\", \"legendgroup\": \"\", \"marker\": {\"color\": \"lightskyblue\", \"line\": {\"color\": \"black\", \"width\": 1}}, \"name\": \"\", \"offsetgroup\": \"\", \"orientation\": \"v\", \"showlegend\": false, \"textposition\": \"auto\", \"type\": \"bar\", \"x\": [\"Friday\", \"Monday\", \"Saturday\", \"Sunday\", \"Thursday\", \"Tuesday\", \"Wednesday\"], \"xaxis\": \"x\", \"y\": [379699, 439813, 305215, 334422, 418761, 447077, 431114], \"yaxis\": \"y\"}],\n",
              "                        {\"barmode\": \"relative\", \"legend\": {\"tracegroupgap\": 0}, \"margin\": {\"t\": 60}, \"template\": {\"data\": {\"scatter\": [{\"type\": \"scatter\"}]}}, \"xaxis\": {\"anchor\": \"y\", \"categoryarray\": [\"Monday\", \"Tuesday\", \"Wednesday\", \"Thursday\", \"Friday\", \"Saturday\", \"Sunday\"], \"categoryorder\": \"array\", \"domain\": [0.0, 1.0], \"title\": {\"text\": \"Weekday\"}}, \"yaxis\": {\"anchor\": \"x\", \"domain\": [0.0, 1.0], \"title\": {\"text\": \"Number of Records\"}}},\n",
              "                        {\"responsive\": true}\n",
              "                    ).then(function(){\n",
              "                            \n",
              "var gd = document.getElementById('5a869824-8f83-443c-9ee6-d695038821c7');\n",
              "var x = new MutationObserver(function (mutations, observer) {{\n",
              "        var display = window.getComputedStyle(gd).display;\n",
              "        if (!display || display === 'none') {{\n",
              "            console.log([gd, 'removed!']);\n",
              "            Plotly.purge(gd);\n",
              "            observer.disconnect();\n",
              "        }}\n",
              "}});\n",
              "\n",
              "// Listen for the removal of the full notebook cells\n",
              "var notebookContainer = gd.closest('#notebook-container');\n",
              "if (notebookContainer) {{\n",
              "    x.observe(notebookContainer, {childList: true});\n",
              "}}\n",
              "\n",
              "// Listen for the clearing of the current output cell\n",
              "var outputEl = gd.closest('.output');\n",
              "if (outputEl) {{\n",
              "    x.observe(outputEl, {childList: true});\n",
              "}}\n",
              "\n",
              "                        })\n",
              "                };\n",
              "                \n",
              "            </script>\n",
              "        </div>\n",
              "</body>\n",
              "</html>"
            ]
          },
          "metadata": {
            "tags": []
          }
        }
      ]
    },
    {
      "cell_type": "code",
      "metadata": {
        "id": "hsLYW31NoHCf"
      },
      "source": [
        ""
      ],
      "execution_count": 20,
      "outputs": []
    },
    {
      "cell_type": "code",
      "metadata": {
        "colab": {
          "base_uri": "https://localhost:8080/",
          "height": 66,
          "referenced_widgets": [
            "25e6cbad761c4cd0b1bcc54461d022a9",
            "eb6c87b2e2d647cc83d6de09da552179",
            "6061dac155a24fa19aa58dc0a930717a",
            "e686bc932592434e8fc587aef81f2b60",
            "16542a7431ac4dc8bc0defe1115d9da5",
            "7dddb8b4c0fc40358f34c2f185deaf8e",
            "212b480b9db642f589c36d3b2468c591"
          ]
        },
        "id": "hjD4D5Xup6SG",
        "outputId": "9ce9f8a5-3520-4d36-8ef6-7f3b0fa45809"
      },
      "source": [
        "my_dropdown = ['apples', 'oranges', 'pizza']\n",
        "\n",
        "@interact(Selection=my_dropdown)\n",
        "\n",
        "def viz(Selection):\n",
        "  print(f'You have selected: {Selection}')"
      ],
      "execution_count": 21,
      "outputs": [
        {
          "output_type": "display_data",
          "data": {
            "application/vnd.jupyter.widget-view+json": {
              "model_id": "25e6cbad761c4cd0b1bcc54461d022a9",
              "version_minor": 0,
              "version_major": 2
            },
            "text/plain": [
              "interactive(children=(Dropdown(description='Selection', options=('apples', 'oranges', 'pizza'), value='apples'…"
            ]
          },
          "metadata": {
            "tags": []
          }
        }
      ]
    },
    {
      "cell_type": "code",
      "metadata": {
        "colab": {
          "base_uri": "https://localhost:8080/",
          "height": 606,
          "referenced_widgets": [
            "58360a85409b4d28b4e6b2ccd55dfc38",
            "b65452f79f864585b4cc21626836daef",
            "458b95a1ea50400c915ef583ad633395",
            "1dc1de8ff3314a8d9ddc7f7c526e011e",
            "b75a907564624d22ba101126d2117bbf",
            "e73caed36cce4930bf0ad8ca70758ef3",
            "16e9bcafb9074ba794371ee92e99e669",
            "0cdfccf9d1f24071bf6b6d777cf3bbaf",
            "5c1d28c277574b00a533ba66552f20ef",
            "902096269c024abf8cdc9f66790eda0c"
          ]
        },
        "id": "0MxbNFA0p6OQ",
        "outputId": "6315a56d-e595-4c92-c4e7-43bedbb26543"
      },
      "source": [
        "dates = list(web_events_df['Date'].unique())\n",
        "\n",
        "@interact(firstdate=sorted(dates), enddate= sorted(dates, reverse=True))\n",
        "\n",
        "def plot_dates(firstdate, enddate):\n",
        "  filter_df = web_events_df[(web_events_df['timestamp'] > str(firstdate))&(web_events_df['timestamp'] < str(enddate))]\n",
        "  group_df = filter_df.groupby('Date', as_index=False).count()\n",
        "  fig = px.line(group_df, x='Date', y='event', title='Number of Events by Day', template='none')\n",
        "  fig.show()"
      ],
      "execution_count": 22,
      "outputs": [
        {
          "output_type": "display_data",
          "data": {
            "application/vnd.jupyter.widget-view+json": {
              "model_id": "58360a85409b4d28b4e6b2ccd55dfc38",
              "version_minor": 0,
              "version_major": 2
            },
            "text/plain": [
              "interactive(children=(Dropdown(description='firstdate', options=(datetime.date(2015, 5, 3), datetime.date(2015…"
            ]
          },
          "metadata": {
            "tags": []
          }
        }
      ]
    },
    {
      "cell_type": "code",
      "metadata": {
        "colab": {
          "base_uri": "https://localhost:8080/",
          "height": 130,
          "referenced_widgets": [
            "1b1cdb4c879746c5ab24de70583fef5c",
            "a3b76dfcb070404b8f9c36c4ee6ae7ba",
            "a809237ee9ab46c78f87d88c4856e8f4",
            "1b91ecddb51f40bdb89f3272b2c570fd",
            "a1c916202439404192cbcfe05b868cae",
            "abe7a40871494d859b5d1ac31e832e41",
            "a4061989f8a54964a74142fff3503b4c",
            "9e6dabb268ff498c8a380981d9b83af9",
            "e3547ff83e2c4b72bb0b9dd3ed0957ba",
            "f356becc57644fcb90d331c1fcfc93fd",
            "d32a3c78154c4d9fb84448635a5c06c2",
            "eabd8e4f27e74e83ba301f9b960ed7b3",
            "75ec146e2e6146dd8fd6795d8bd36503"
          ]
        },
        "id": "99qZpA-Qp6LB",
        "outputId": "a8108c6e-cbe4-48a1-c081-3f82b3357696"
      },
      "source": [
        "@interact(View=True, AddtoCart=False, Transaction=False)\n",
        "\n",
        "def viz(View, AddtoCart, Transaction):\n",
        "  events = []\n",
        "\n",
        "  if View:\n",
        "    events.append('view')\n",
        "  if AddtoCart:\n",
        "    events.append('addtocart')\n",
        "  if Transaction:\n",
        "    events.append('transaction')\n",
        "  \n",
        "  filtered = web_events_df.loc[web_events_df['event'].isin(events)]\n",
        "  print(filtered.shape)\n"
      ],
      "execution_count": 23,
      "outputs": [
        {
          "output_type": "display_data",
          "data": {
            "application/vnd.jupyter.widget-view+json": {
              "model_id": "1b1cdb4c879746c5ab24de70583fef5c",
              "version_minor": 0,
              "version_major": 2
            },
            "text/plain": [
              "interactive(children=(Checkbox(value=True, description='View'), Checkbox(value=False, description='AddtoCart')…"
            ]
          },
          "metadata": {
            "tags": []
          }
        }
      ]
    },
    {
      "cell_type": "code",
      "metadata": {
        "id": "cE-5rBixsSlX"
      },
      "source": [
        ""
      ],
      "execution_count": 23,
      "outputs": []
    },
    {
      "cell_type": "code",
      "metadata": {
        "id": "Mwwzy6ynsSiF"
      },
      "source": [
        ""
      ],
      "execution_count": 23,
      "outputs": []
    },
    {
      "cell_type": "code",
      "metadata": {
        "id": "D7RiQFWpsSeG"
      },
      "source": [
        ""
      ],
      "execution_count": 23,
      "outputs": []
    },
    {
      "cell_type": "code",
      "metadata": {
        "id": "zu6x-ymksSbO"
      },
      "source": [
        ""
      ],
      "execution_count": 23,
      "outputs": []
    }
  ]
}