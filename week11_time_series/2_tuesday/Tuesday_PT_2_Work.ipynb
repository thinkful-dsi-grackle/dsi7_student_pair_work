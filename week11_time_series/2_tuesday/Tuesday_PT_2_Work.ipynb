{
  "nbformat": 4,
  "nbformat_minor": 0,
  "metadata": {
    "colab": {
      "name": "Tuesday PT 2 Work",
      "provenance": [],
      "collapsed_sections": []
    },
    "kernelspec": {
      "name": "python3",
      "display_name": "Python 3"
    },
    "widgets": {
      "application/vnd.jupyter.widget-state+json": {
        "b5fc7484f9904191bd35c1203e6de45d": {
          "model_module": "@jupyter-widgets/controls",
          "model_name": "VBoxModel",
          "state": {
            "_view_name": "VBoxView",
            "_dom_classes": [
              "widget-interact"
            ],
            "_model_name": "VBoxModel",
            "_view_module": "@jupyter-widgets/controls",
            "_model_module_version": "1.5.0",
            "_view_count": null,
            "_view_module_version": "1.5.0",
            "box_style": "",
            "layout": "IPY_MODEL_926dc985bf404229a84139639707cd54",
            "_model_module": "@jupyter-widgets/controls",
            "children": [
              "IPY_MODEL_6aafb32fdba84aeab521d6b0962edb56",
              "IPY_MODEL_ca59755e56604fa4967d83a241e42a67"
            ]
          }
        },
        "926dc985bf404229a84139639707cd54": {
          "model_module": "@jupyter-widgets/base",
          "model_name": "LayoutModel",
          "state": {
            "_view_name": "LayoutView",
            "grid_template_rows": null,
            "right": null,
            "justify_content": null,
            "_view_module": "@jupyter-widgets/base",
            "overflow": null,
            "_model_module_version": "1.2.0",
            "_view_count": null,
            "flex_flow": null,
            "width": null,
            "min_width": null,
            "border": null,
            "align_items": null,
            "bottom": null,
            "_model_module": "@jupyter-widgets/base",
            "top": null,
            "grid_column": null,
            "overflow_y": null,
            "overflow_x": null,
            "grid_auto_flow": null,
            "grid_area": null,
            "grid_template_columns": null,
            "flex": null,
            "_model_name": "LayoutModel",
            "justify_items": null,
            "grid_row": null,
            "max_height": null,
            "align_content": null,
            "visibility": null,
            "align_self": null,
            "height": null,
            "min_height": null,
            "padding": null,
            "grid_auto_rows": null,
            "grid_gap": null,
            "max_width": null,
            "order": null,
            "_view_module_version": "1.2.0",
            "grid_template_areas": null,
            "object_position": null,
            "object_fit": null,
            "grid_auto_columns": null,
            "margin": null,
            "display": null,
            "left": null
          }
        },
        "6aafb32fdba84aeab521d6b0962edb56": {
          "model_module": "@jupyter-widgets/controls",
          "model_name": "DropdownModel",
          "state": {
            "_options_labels": [
              "Quantity",
              "Revenue",
              "UnitPrice"
            ],
            "_view_name": "DropdownView",
            "style": "IPY_MODEL_da2d39b83b99409592c11b934077e63f",
            "_dom_classes": [],
            "description": "Metric",
            "_model_name": "DropdownModel",
            "index": 0,
            "_view_module": "@jupyter-widgets/controls",
            "_model_module_version": "1.5.0",
            "_view_count": null,
            "disabled": false,
            "_view_module_version": "1.5.0",
            "description_tooltip": null,
            "_model_module": "@jupyter-widgets/controls",
            "layout": "IPY_MODEL_cd3e8357ac504a4aa174cf33ee6e4414"
          }
        },
        "ca59755e56604fa4967d83a241e42a67": {
          "model_module": "@jupyter-widgets/output",
          "model_name": "OutputModel",
          "state": {
            "_view_name": "OutputView",
            "msg_id": "",
            "_dom_classes": [],
            "_model_name": "OutputModel",
            "outputs": [
              {
                "output_type": "display_data",
                "metadata": {
                  "tags": []
                },
                "text/html": "<html>\n<head><meta charset=\"utf-8\" /></head>\n<body>\n    <div>\n            <script src=\"https://cdnjs.cloudflare.com/ajax/libs/mathjax/2.7.5/MathJax.js?config=TeX-AMS-MML_SVG\"></script><script type=\"text/javascript\">if (window.MathJax) {MathJax.Hub.Config({SVG: {font: \"STIX-Web\"}});}</script>\n                <script type=\"text/javascript\">window.PlotlyConfig = {MathJaxConfig: 'local'};</script>\n        <script src=\"https://cdn.plot.ly/plotly-latest.min.js\"></script>    \n            <div id=\"8069482b-cd40-4d22-a5f1-65388c998f28\" class=\"plotly-graph-div\" style=\"height:525px; width:100%;\"></div>\n            <script type=\"text/javascript\">\n                \n                    window.PLOTLYENV=window.PLOTLYENV || {};\n                    \n                if (document.getElementById(\"8069482b-cd40-4d22-a5f1-65388c998f28\")) {\n                    Plotly.newPlot(\n                        '8069482b-cd40-4d22-a5f1-65388c998f28',\n                        [{\"alignmentgroup\": \"True\", \"bingroup\": \"x\", \"hoverlabel\": {\"namelength\": 0}, \"hovertemplate\": \"Quantity=%{x}<br>count=%{y}\", \"legendgroup\": \"\", \"marker\": {\"color\": \"lightskyblue\", \"line\": {\"color\": \"black\", \"width\": 1}}, \"name\": \"\", \"nbinsx\": 50, \"offsetgroup\": \"\", \"orientation\": \"v\", \"showlegend\": false, \"type\": \"histogram\", \"x\": [24207, 31140, 11822, 16370, 16267, 19432, 21523, 17386, 16020, 10599, 15329, 17727, 18379, 29785, 11361, 3734, 13432, 11060, 3071, 3196, 6947, 18363, 21532, 15095, 8196, 9375, 26065, 7883, 8300, 21093, 4202, 8701, 6367, 15885, 8176, 12692, 5235, 9587, 14507, 10444, 10943, 9165, 3431, 12404, 15003, 8925, 15415, 11253, 2048, 8582, 8681, 6109, 11781, 9578, 2756, 12336, 22102, 15761, 12748, 8634, 5349, 20413, 20905, 12153, 11562, 10028, 4869, 8389, 11558, 8613, 19160, 12933, 5048, 11106, 13829, 11497, 15222, 9240, 2722, 16746, 7934, 12877, 19040, 13238, 13621, 9454, 13488, 13908, 18223, 13299, 4526, 11595, 24183, 20126, 14978, 18298, 5667, 12855, 15610, 8025, 10090, 12291, 5629, 12840, 14604, 18761, 18509, 11091, 8180, 26212, 12901, 17850, 17070, 14439, 17629, 13107, 3811, 11134, 17367, 16218, 18280, 10695, 11676, 15736, 18430, 37121, 13287, 4767, 15130, 25195, 18624, 17166, 15116, 12734, 17513, 14574, 12430, 16134, 14825, 4120, 10588, 9574, 13713, 7245, 13341, 9118, 17691, 18819, 27158, 9825, 9483, 10630, 12971, 29517, 19622, 11342, 15076, 14771, 13120, 15281, 14019, 9059, 3782, 9162, 20924, 7465, 20497, 7448, 3117, 12063, 17628, 17801, 17643, 10149, 4251, 14124, 11532, 15274, 16819, 6358, 10828, 12710, 28387, 15392, 19255, 8326, 17572, 14254, 12640, 13223, 29368, 11216, 20814, 11301, 14213, 16138, 40076, 12209, 5185, 12437, 15822, 12323, 36462, 11039, 3180, 10174, 10470, 24825, 34068, 10649, 8156, 15346, 13695, 27454, 13153, 16776, 6774, 4211, 11526, 27717, 15410, 10896, 22398, 14459, 13721, 16029, 16021, 21131, 16438, 35013, 13433, 27655, 14118, 8993, 29230, 42507, 19612, 32748, 19768, 19496, 15304, 19528, 23852, 26960, 21633, 8375, 24576, 23112, 45898, 34539, 29662, 7534, 25035, 26613, 16151, 17873, 17195, 8769, 30116, 26886, 18239, 40883, 24212, 7071, 23180, 25370, 20282, 32536, 23004, 20021, 15159, 16565, 26667, 32655, 33584, 23271, 16423, 21627, 35807, 38047, 23901, 19763, 32143, 26816, 29135, 30274, 20259, 18755, 24549, 30004, 38398, 22894, 14194, 10516, 28042, 25958, 24426, 24834, 25614, 11422, 37609, 27798, 41080, 27536, 9578], \"xaxis\": \"x\", \"yaxis\": \"y\"}],\n                        {\"barmode\": \"relative\", \"legend\": {\"tracegroupgap\": 0}, \"template\": {\"data\": {\"scatter\": [{\"type\": \"scatter\"}]}}, \"title\": {\"text\": \"Daily Retail Quantity Distribution\", \"x\": 0.5}, \"xaxis\": {\"anchor\": \"y\", \"domain\": [0.0, 1.0], \"title\": {\"text\": \"Quantity\"}}, \"yaxis\": {\"anchor\": \"x\", \"domain\": [0.0, 1.0], \"title\": {\"text\": \"Number of Records\"}}},\n                        {\"responsive\": true}\n                    ).then(function(){\n                            \nvar gd = document.getElementById('8069482b-cd40-4d22-a5f1-65388c998f28');\nvar x = new MutationObserver(function (mutations, observer) {{\n        var display = window.getComputedStyle(gd).display;\n        if (!display || display === 'none') {{\n            console.log([gd, 'removed!']);\n            Plotly.purge(gd);\n            observer.disconnect();\n        }}\n}});\n\n// Listen for the removal of the full notebook cells\nvar notebookContainer = gd.closest('#notebook-container');\nif (notebookContainer) {{\n    x.observe(notebookContainer, {childList: true});\n}}\n\n// Listen for the clearing of the current output cell\nvar outputEl = gd.closest('.output');\nif (outputEl) {{\n    x.observe(outputEl, {childList: true});\n}}\n\n                        })\n                };\n                \n            </script>\n        </div>\n</body>\n</html>"
              }
            ],
            "_view_module": "@jupyter-widgets/output",
            "_model_module_version": "1.0.0",
            "_view_count": null,
            "_view_module_version": "1.0.0",
            "layout": "IPY_MODEL_689e6a48c972450887a873a3001a3364",
            "_model_module": "@jupyter-widgets/output"
          }
        },
        "da2d39b83b99409592c11b934077e63f": {
          "model_module": "@jupyter-widgets/controls",
          "model_name": "DescriptionStyleModel",
          "state": {
            "_view_name": "StyleView",
            "_model_name": "DescriptionStyleModel",
            "description_width": "",
            "_view_module": "@jupyter-widgets/base",
            "_model_module_version": "1.5.0",
            "_view_count": null,
            "_view_module_version": "1.2.0",
            "_model_module": "@jupyter-widgets/controls"
          }
        },
        "cd3e8357ac504a4aa174cf33ee6e4414": {
          "model_module": "@jupyter-widgets/base",
          "model_name": "LayoutModel",
          "state": {
            "_view_name": "LayoutView",
            "grid_template_rows": null,
            "right": null,
            "justify_content": null,
            "_view_module": "@jupyter-widgets/base",
            "overflow": null,
            "_model_module_version": "1.2.0",
            "_view_count": null,
            "flex_flow": null,
            "width": null,
            "min_width": null,
            "border": null,
            "align_items": null,
            "bottom": null,
            "_model_module": "@jupyter-widgets/base",
            "top": null,
            "grid_column": null,
            "overflow_y": null,
            "overflow_x": null,
            "grid_auto_flow": null,
            "grid_area": null,
            "grid_template_columns": null,
            "flex": null,
            "_model_name": "LayoutModel",
            "justify_items": null,
            "grid_row": null,
            "max_height": null,
            "align_content": null,
            "visibility": null,
            "align_self": null,
            "height": null,
            "min_height": null,
            "padding": null,
            "grid_auto_rows": null,
            "grid_gap": null,
            "max_width": null,
            "order": null,
            "_view_module_version": "1.2.0",
            "grid_template_areas": null,
            "object_position": null,
            "object_fit": null,
            "grid_auto_columns": null,
            "margin": null,
            "display": null,
            "left": null
          }
        },
        "689e6a48c972450887a873a3001a3364": {
          "model_module": "@jupyter-widgets/base",
          "model_name": "LayoutModel",
          "state": {
            "_view_name": "LayoutView",
            "grid_template_rows": null,
            "right": null,
            "justify_content": null,
            "_view_module": "@jupyter-widgets/base",
            "overflow": null,
            "_model_module_version": "1.2.0",
            "_view_count": null,
            "flex_flow": null,
            "width": null,
            "min_width": null,
            "border": null,
            "align_items": null,
            "bottom": null,
            "_model_module": "@jupyter-widgets/base",
            "top": null,
            "grid_column": null,
            "overflow_y": null,
            "overflow_x": null,
            "grid_auto_flow": null,
            "grid_area": null,
            "grid_template_columns": null,
            "flex": null,
            "_model_name": "LayoutModel",
            "justify_items": null,
            "grid_row": null,
            "max_height": null,
            "align_content": null,
            "visibility": null,
            "align_self": null,
            "height": null,
            "min_height": null,
            "padding": null,
            "grid_auto_rows": null,
            "grid_gap": null,
            "max_width": null,
            "order": null,
            "_view_module_version": "1.2.0",
            "grid_template_areas": null,
            "object_position": null,
            "object_fit": null,
            "grid_auto_columns": null,
            "margin": null,
            "display": null,
            "left": null
          }
        },
        "c6a265d925234a94bfe4e802c34c5851": {
          "model_module": "@jupyter-widgets/controls",
          "model_name": "VBoxModel",
          "state": {
            "_view_name": "VBoxView",
            "_dom_classes": [
              "widget-interact"
            ],
            "_model_name": "VBoxModel",
            "_view_module": "@jupyter-widgets/controls",
            "_model_module_version": "1.5.0",
            "_view_count": null,
            "_view_module_version": "1.5.0",
            "box_style": "",
            "layout": "IPY_MODEL_a1ae392eacd64e0eb2f35cee0c156dcb",
            "_model_module": "@jupyter-widgets/controls",
            "children": [
              "IPY_MODEL_63e65c9b4d654ca8ac310fbff234c5b0",
              "IPY_MODEL_28da567868a54d3a9292b552179d865a",
              "IPY_MODEL_258d2b3d7c234cc1b37da62ae6ce3bed"
            ]
          }
        },
        "a1ae392eacd64e0eb2f35cee0c156dcb": {
          "model_module": "@jupyter-widgets/base",
          "model_name": "LayoutModel",
          "state": {
            "_view_name": "LayoutView",
            "grid_template_rows": null,
            "right": null,
            "justify_content": null,
            "_view_module": "@jupyter-widgets/base",
            "overflow": null,
            "_model_module_version": "1.2.0",
            "_view_count": null,
            "flex_flow": null,
            "width": null,
            "min_width": null,
            "border": null,
            "align_items": null,
            "bottom": null,
            "_model_module": "@jupyter-widgets/base",
            "top": null,
            "grid_column": null,
            "overflow_y": null,
            "overflow_x": null,
            "grid_auto_flow": null,
            "grid_area": null,
            "grid_template_columns": null,
            "flex": null,
            "_model_name": "LayoutModel",
            "justify_items": null,
            "grid_row": null,
            "max_height": null,
            "align_content": null,
            "visibility": null,
            "align_self": null,
            "height": null,
            "min_height": null,
            "padding": null,
            "grid_auto_rows": null,
            "grid_gap": null,
            "max_width": null,
            "order": null,
            "_view_module_version": "1.2.0",
            "grid_template_areas": null,
            "object_position": null,
            "object_fit": null,
            "grid_auto_columns": null,
            "margin": null,
            "display": null,
            "left": null
          }
        },
        "63e65c9b4d654ca8ac310fbff234c5b0": {
          "model_module": "@jupyter-widgets/controls",
          "model_name": "DropdownModel",
          "state": {
            "_options_labels": [
              "Quantity",
              "Revenue"
            ],
            "_view_name": "DropdownView",
            "style": "IPY_MODEL_c6ba06c3170040e98d1a6a32c8074a1b",
            "_dom_classes": [],
            "description": "Metric",
            "_model_name": "DropdownModel",
            "index": 0,
            "_view_module": "@jupyter-widgets/controls",
            "_model_module_version": "1.5.0",
            "_view_count": null,
            "disabled": false,
            "_view_module_version": "1.5.0",
            "description_tooltip": null,
            "_model_module": "@jupyter-widgets/controls",
            "layout": "IPY_MODEL_eae062632d4f44448e20bd9f954d132a"
          }
        },
        "28da567868a54d3a9292b552179d865a": {
          "model_module": "@jupyter-widgets/controls",
          "model_name": "DropdownModel",
          "state": {
            "_options_labels": [
              "United Kingdom",
              "Spain",
              "Cyprus",
              "EIRE",
              "Portugal",
              "Netherlands",
              "Australia",
              "Singapore",
              "Switzerland",
              "Finland",
              "Channel Islands",
              "France",
              "Malta",
              "Italy",
              "Israel",
              "Germany",
              "Austria",
              "Norway",
              "Denmark",
              "Sweden",
              "Belgium",
              "Canada",
              "Poland",
              "Japan",
              "Iceland",
              "Greece",
              "Lebanon",
              "South Africa",
              "Czech Republic",
              "USA",
              "Brazil",
              "United Arab Emirates",
              "Lithuania",
              "Saudi Arabia",
              "Bahrain"
            ],
            "_view_name": "DropdownView",
            "style": "IPY_MODEL_aa4e0bb007c2478f801996afb3f59d7d",
            "_dom_classes": [],
            "description": "Country",
            "_model_name": "DropdownModel",
            "index": 0,
            "_view_module": "@jupyter-widgets/controls",
            "_model_module_version": "1.5.0",
            "_view_count": null,
            "disabled": false,
            "_view_module_version": "1.5.0",
            "description_tooltip": null,
            "_model_module": "@jupyter-widgets/controls",
            "layout": "IPY_MODEL_7e56a85cf1984c86a448ec77eab2a5d6"
          }
        },
        "258d2b3d7c234cc1b37da62ae6ce3bed": {
          "model_module": "@jupyter-widgets/output",
          "model_name": "OutputModel",
          "state": {
            "_view_name": "OutputView",
            "msg_id": "",
            "_dom_classes": [],
            "_model_name": "OutputModel",
            "outputs": [
              {
                "output_type": "display_data",
                "metadata": {
                  "tags": []
                },
                "text/html": "<html>\n<head><meta charset=\"utf-8\" /></head>\n<body>\n    <div>\n            <script src=\"https://cdnjs.cloudflare.com/ajax/libs/mathjax/2.7.5/MathJax.js?config=TeX-AMS-MML_SVG\"></script><script type=\"text/javascript\">if (window.MathJax) {MathJax.Hub.Config({SVG: {font: \"STIX-Web\"}});}</script>\n                <script type=\"text/javascript\">window.PlotlyConfig = {MathJaxConfig: 'local'};</script>\n        <script src=\"https://cdn.plot.ly/plotly-latest.min.js\"></script>    \n            <div id=\"db9b7a78-76b4-457e-b23d-8b414fda36a6\" class=\"plotly-graph-div\" style=\"height:525px; width:100%;\"></div>\n            <script type=\"text/javascript\">\n                \n                    window.PLOTLYENV=window.PLOTLYENV || {};\n                    \n                if (document.getElementById(\"db9b7a78-76b4-457e-b23d-8b414fda36a6\")) {\n                    Plotly.newPlot(\n                        'db9b7a78-76b4-457e-b23d-8b414fda36a6',\n                        [{\"hoverlabel\": {\"namelength\": 0}, \"hovertemplate\": \"Date=%{x}<br>Quantity=%{y}\", \"legendgroup\": \"\", \"line\": {\"color\": \"#1F77B4\", \"dash\": \"solid\"}, \"mode\": \"lines\", \"name\": \"\", \"showlegend\": false, \"type\": \"scatter\", \"x\": [\"2010-12-01\", \"2010-12-02\", \"2010-12-03\", \"2010-12-05\", \"2010-12-06\", \"2010-12-07\", \"2010-12-08\", \"2010-12-09\", \"2010-12-10\", \"2010-12-12\", \"2010-12-13\", \"2010-12-14\", \"2010-12-15\", \"2010-12-16\", \"2010-12-17\", \"2010-12-19\", \"2010-12-20\", \"2010-12-21\", \"2010-12-22\", \"2010-12-23\", \"2011-01-04\", \"2011-01-05\", \"2011-01-06\", \"2011-01-07\", \"2011-01-09\", \"2011-01-10\", \"2011-01-11\", \"2011-01-12\", \"2011-01-13\", \"2011-01-14\", \"2011-01-16\", \"2011-01-17\", \"2011-01-18\", \"2011-01-19\", \"2011-01-20\", \"2011-01-21\", \"2011-01-23\", \"2011-01-24\", \"2011-01-25\", \"2011-01-26\", \"2011-01-27\", \"2011-01-28\", \"2011-01-30\", \"2011-01-31\", \"2011-02-01\", \"2011-02-02\", \"2011-02-03\", \"2011-02-04\", \"2011-02-06\", \"2011-02-07\", \"2011-02-08\", \"2011-02-09\", \"2011-02-10\", \"2011-02-11\", \"2011-02-13\", \"2011-02-14\", \"2011-02-15\", \"2011-02-16\", \"2011-02-17\", \"2011-02-18\", \"2011-02-20\", \"2011-02-21\", \"2011-02-22\", \"2011-02-23\", \"2011-02-24\", \"2011-02-25\", \"2011-02-27\", \"2011-02-28\", \"2011-03-01\", \"2011-03-02\", \"2011-03-03\", \"2011-03-04\", \"2011-03-06\", \"2011-03-07\", \"2011-03-08\", \"2011-03-09\", \"2011-03-10\", \"2011-03-11\", \"2011-03-13\", \"2011-03-14\", \"2011-03-15\", \"2011-03-16\", \"2011-03-17\", \"2011-03-18\", \"2011-03-20\", \"2011-03-21\", \"2011-03-22\", \"2011-03-23\", \"2011-03-24\", \"2011-03-25\", \"2011-03-27\", \"2011-03-28\", \"2011-03-29\", \"2011-03-30\", \"2011-03-31\", \"2011-04-01\", \"2011-04-03\", \"2011-04-04\", \"2011-04-05\", \"2011-04-06\", \"2011-04-07\", \"2011-04-08\", \"2011-04-10\", \"2011-04-11\", \"2011-04-12\", \"2011-04-13\", \"2011-04-14\", \"2011-04-15\", \"2011-04-17\", \"2011-04-18\", \"2011-04-19\", \"2011-04-20\", \"2011-04-21\", \"2011-04-26\", \"2011-04-27\", \"2011-04-28\", \"2011-05-01\", \"2011-05-03\", \"2011-05-04\", \"2011-05-05\", \"2011-05-06\", \"2011-05-08\", \"2011-05-09\", \"2011-05-10\", \"2011-05-11\", \"2011-05-12\", \"2011-05-13\", \"2011-05-15\", \"2011-05-16\", \"2011-05-17\", \"2011-05-18\", \"2011-05-19\", \"2011-05-20\", \"2011-05-22\", \"2011-05-23\", \"2011-05-24\", \"2011-05-25\", \"2011-05-26\", \"2011-05-27\", \"2011-05-29\", \"2011-05-31\", \"2011-06-01\", \"2011-06-02\", \"2011-06-03\", \"2011-06-05\", \"2011-06-06\", \"2011-06-07\", \"2011-06-08\", \"2011-06-09\", \"2011-06-10\", \"2011-06-12\", \"2011-06-13\", \"2011-06-14\", \"2011-06-15\", \"2011-06-16\", \"2011-06-17\", \"2011-06-19\", \"2011-06-20\", \"2011-06-21\", \"2011-06-22\", \"2011-06-23\", \"2011-06-24\", \"2011-06-26\", \"2011-06-27\", \"2011-06-28\", \"2011-06-29\", \"2011-06-30\", \"2011-07-01\", \"2011-07-03\", \"2011-07-04\", \"2011-07-05\", \"2011-07-06\", \"2011-07-07\", \"2011-07-08\", \"2011-07-10\", \"2011-07-11\", \"2011-07-12\", \"2011-07-13\", \"2011-07-14\", \"2011-07-15\", \"2011-07-17\", \"2011-07-18\", \"2011-07-19\", \"2011-07-20\", \"2011-07-21\", \"2011-07-22\", \"2011-07-24\", \"2011-07-25\", \"2011-07-26\", \"2011-07-27\", \"2011-07-28\", \"2011-07-29\", \"2011-07-31\", \"2011-08-01\", \"2011-08-02\", \"2011-08-03\", \"2011-08-04\", \"2011-08-05\", \"2011-08-07\", \"2011-08-08\", \"2011-08-09\", \"2011-08-10\", \"2011-08-11\", \"2011-08-12\", \"2011-08-14\", \"2011-08-15\", \"2011-08-16\", \"2011-08-17\", \"2011-08-18\", \"2011-08-19\", \"2011-08-21\", \"2011-08-22\", \"2011-08-23\", \"2011-08-24\", \"2011-08-25\", \"2011-08-26\", \"2011-08-28\", \"2011-08-30\", \"2011-08-31\", \"2011-09-01\", \"2011-09-02\", \"2011-09-04\", \"2011-09-05\", \"2011-09-06\", \"2011-09-07\", \"2011-09-08\", \"2011-09-09\", \"2011-09-11\", \"2011-09-12\", \"2011-09-13\", \"2011-09-14\", \"2011-09-15\", \"2011-09-16\", \"2011-09-18\", \"2011-09-19\", \"2011-09-20\", \"2011-09-21\", \"2011-09-22\", \"2011-09-23\", \"2011-09-25\", \"2011-09-26\", \"2011-09-27\", \"2011-09-28\", \"2011-09-29\", \"2011-09-30\", \"2011-10-02\", \"2011-10-03\", \"2011-10-04\", \"2011-10-05\", \"2011-10-06\", \"2011-10-07\", \"2011-10-09\", \"2011-10-10\", \"2011-10-11\", \"2011-10-12\", \"2011-10-13\", \"2011-10-14\", \"2011-10-16\", \"2011-10-17\", \"2011-10-18\", \"2011-10-19\", \"2011-10-20\", \"2011-10-21\", \"2011-10-23\", \"2011-10-24\", \"2011-10-25\", \"2011-10-26\", \"2011-10-27\", \"2011-10-28\", \"2011-10-30\", \"2011-10-31\", \"2011-11-01\", \"2011-11-02\", \"2011-11-03\", \"2011-11-04\", \"2011-11-06\", \"2011-11-07\", \"2011-11-08\", \"2011-11-09\", \"2011-11-10\", \"2011-11-11\", \"2011-11-13\", \"2011-11-14\", \"2011-11-15\", \"2011-11-16\", \"2011-11-17\", \"2011-11-18\", \"2011-11-20\", \"2011-11-21\", \"2011-11-22\", \"2011-11-23\", \"2011-11-24\", \"2011-11-25\", \"2011-11-27\", \"2011-11-28\", \"2011-11-29\", \"2011-11-30\", \"2011-12-01\", \"2011-12-02\", \"2011-12-04\", \"2011-12-05\", \"2011-12-06\", \"2011-12-07\", \"2011-12-08\", \"2011-12-09\"], \"xaxis\": \"x\", \"y\": [21308, 30987, 7646, 13603, 15515, 18218, 18879, 13506, 14027, 8190, 15032, 16570, 18245, 28176, 4488, 3247, 11828, 3711, 2232, 2161, 6659, 17635, 16292, 11238, 7398, 7377, 23286, 6386, 7464, 5320, 4202, 7371, 4480, 6583, 5741, 6657, 5115, 7636, 11572, 8293, 9096, 5346, 3431, 9417, 13536, 8184, 14502, 10226, 2048, 8009, 7152, 2399, 11102, 8678, 2756, 10230, 10285, 12861, 11670, 7593, 5349, 6277, 17965, 10927, 10782, 9168, 4582, 7010, 7614, 8148, 7842, 11186, 5048, 10738, 12288, 9876, 9957, 8304, 2539, 10146, 6284, 12273, 16488, 11737, 12742, 9227, 11757, 10962, 17072, 9999, 4467, 8237, 11997, 17969, 11321, 17149, 5667, 10937, 10564, 7370, 8055, 10596, 5442, 11401, 14417, 18084, 16835, 10205, 7630, 19578, 10839, 17324, 15392, 14047, 16899, 11915, 3172, 9566, 15624, 13906, 16057, 9476, 10451, 14477, 15995, 14576, 11722, 4489, 12578, 15759, 17217, 14708, 13985, 11483, 15527, 14247, 10239, 10097, 13686, 3866, 8900, 6091, 12587, 6429, 10412, 7826, 17033, 14208, 23895, 6435, 8427, 8017, 12971, 10162, 18126, 9045, 9876, 10204, 11520, 11551, 12725, 7787, 3314, 8651, 9806, 5362, 18471, 6078, 3117, 9438, 17063, 13285, 16694, 8657, 4251, 12406, 10256, 9050, 12967, 5811, 10677, 8428, 19242, 14412, 17799, 7321, 16535, 12225, 12153, 9292, 25137, 10430, 10776, 10484, 10371, 15124, 35474, 9982, 5125, 10931, 7606, 10756, 19827, 7714, 3177, 7203, 10297, 23314, 18347, 8003, 6754, 14214, 11555, 25572, 10687, 9713, 5974, 4032, 8555, 22003, 13732, 7516, 16021, 12504, 10216, 13258, 12552, 20050, 16438, 25634, 11481, 25940, 13326, 8993, 12299, 40991, 15845, 26367, 15068, 18174, 14156, 18732, 20501, 25058, 17161, 8375, 24420, 22678, 32641, 30096, 24915, 7534, 22265, 19616, 12818, 13339, 13765, 8769, 18202, 23217, 14186, 16369, 19813, 7071, 22515, 23310, 18131, 24455, 16692, 17631, 12904, 14648, 22681, 30681, 31205, 18327, 14935, 20283, 34651, 27821, 19085, 17174, 29048, 21351, 23089, 21814, 16858, 17217, 22395, 26659, 28608, 19132, 12655, 10291, 25525, 22276, 18910, 23502, 22960, 9855, 35874, 25909, 29078, 25441, 6172], \"yaxis\": \"y\"}],\n                        {\"legend\": {\"tracegroupgap\": 0}, \"template\": {\"data\": {\"scatter\": [{\"type\": \"scatter\"}]}}, \"title\": {\"text\": \"Daily Retail Quantity by United Kingdom\"}, \"xaxis\": {\"anchor\": \"y\", \"domain\": [0.0, 1.0], \"title\": {\"text\": \"Date\"}}, \"yaxis\": {\"anchor\": \"x\", \"domain\": [0.0, 1.0], \"title\": {\"text\": \"Quantity\"}}},\n                        {\"responsive\": true}\n                    ).then(function(){\n                            \nvar gd = document.getElementById('db9b7a78-76b4-457e-b23d-8b414fda36a6');\nvar x = new MutationObserver(function (mutations, observer) {{\n        var display = window.getComputedStyle(gd).display;\n        if (!display || display === 'none') {{\n            console.log([gd, 'removed!']);\n            Plotly.purge(gd);\n            observer.disconnect();\n        }}\n}});\n\n// Listen for the removal of the full notebook cells\nvar notebookContainer = gd.closest('#notebook-container');\nif (notebookContainer) {{\n    x.observe(notebookContainer, {childList: true});\n}}\n\n// Listen for the clearing of the current output cell\nvar outputEl = gd.closest('.output');\nif (outputEl) {{\n    x.observe(outputEl, {childList: true});\n}}\n\n                        })\n                };\n                \n            </script>\n        </div>\n</body>\n</html>"
              }
            ],
            "_view_module": "@jupyter-widgets/output",
            "_model_module_version": "1.0.0",
            "_view_count": null,
            "_view_module_version": "1.0.0",
            "layout": "IPY_MODEL_e338f75170044ab3ae9f958e9a367b16",
            "_model_module": "@jupyter-widgets/output"
          }
        },
        "c6ba06c3170040e98d1a6a32c8074a1b": {
          "model_module": "@jupyter-widgets/controls",
          "model_name": "DescriptionStyleModel",
          "state": {
            "_view_name": "StyleView",
            "_model_name": "DescriptionStyleModel",
            "description_width": "",
            "_view_module": "@jupyter-widgets/base",
            "_model_module_version": "1.5.0",
            "_view_count": null,
            "_view_module_version": "1.2.0",
            "_model_module": "@jupyter-widgets/controls"
          }
        },
        "eae062632d4f44448e20bd9f954d132a": {
          "model_module": "@jupyter-widgets/base",
          "model_name": "LayoutModel",
          "state": {
            "_view_name": "LayoutView",
            "grid_template_rows": null,
            "right": null,
            "justify_content": null,
            "_view_module": "@jupyter-widgets/base",
            "overflow": null,
            "_model_module_version": "1.2.0",
            "_view_count": null,
            "flex_flow": null,
            "width": null,
            "min_width": null,
            "border": null,
            "align_items": null,
            "bottom": null,
            "_model_module": "@jupyter-widgets/base",
            "top": null,
            "grid_column": null,
            "overflow_y": null,
            "overflow_x": null,
            "grid_auto_flow": null,
            "grid_area": null,
            "grid_template_columns": null,
            "flex": null,
            "_model_name": "LayoutModel",
            "justify_items": null,
            "grid_row": null,
            "max_height": null,
            "align_content": null,
            "visibility": null,
            "align_self": null,
            "height": null,
            "min_height": null,
            "padding": null,
            "grid_auto_rows": null,
            "grid_gap": null,
            "max_width": null,
            "order": null,
            "_view_module_version": "1.2.0",
            "grid_template_areas": null,
            "object_position": null,
            "object_fit": null,
            "grid_auto_columns": null,
            "margin": null,
            "display": null,
            "left": null
          }
        },
        "aa4e0bb007c2478f801996afb3f59d7d": {
          "model_module": "@jupyter-widgets/controls",
          "model_name": "DescriptionStyleModel",
          "state": {
            "_view_name": "StyleView",
            "_model_name": "DescriptionStyleModel",
            "description_width": "",
            "_view_module": "@jupyter-widgets/base",
            "_model_module_version": "1.5.0",
            "_view_count": null,
            "_view_module_version": "1.2.0",
            "_model_module": "@jupyter-widgets/controls"
          }
        },
        "7e56a85cf1984c86a448ec77eab2a5d6": {
          "model_module": "@jupyter-widgets/base",
          "model_name": "LayoutModel",
          "state": {
            "_view_name": "LayoutView",
            "grid_template_rows": null,
            "right": null,
            "justify_content": null,
            "_view_module": "@jupyter-widgets/base",
            "overflow": null,
            "_model_module_version": "1.2.0",
            "_view_count": null,
            "flex_flow": null,
            "width": null,
            "min_width": null,
            "border": null,
            "align_items": null,
            "bottom": null,
            "_model_module": "@jupyter-widgets/base",
            "top": null,
            "grid_column": null,
            "overflow_y": null,
            "overflow_x": null,
            "grid_auto_flow": null,
            "grid_area": null,
            "grid_template_columns": null,
            "flex": null,
            "_model_name": "LayoutModel",
            "justify_items": null,
            "grid_row": null,
            "max_height": null,
            "align_content": null,
            "visibility": null,
            "align_self": null,
            "height": null,
            "min_height": null,
            "padding": null,
            "grid_auto_rows": null,
            "grid_gap": null,
            "max_width": null,
            "order": null,
            "_view_module_version": "1.2.0",
            "grid_template_areas": null,
            "object_position": null,
            "object_fit": null,
            "grid_auto_columns": null,
            "margin": null,
            "display": null,
            "left": null
          }
        },
        "e338f75170044ab3ae9f958e9a367b16": {
          "model_module": "@jupyter-widgets/base",
          "model_name": "LayoutModel",
          "state": {
            "_view_name": "LayoutView",
            "grid_template_rows": null,
            "right": null,
            "justify_content": null,
            "_view_module": "@jupyter-widgets/base",
            "overflow": null,
            "_model_module_version": "1.2.0",
            "_view_count": null,
            "flex_flow": null,
            "width": null,
            "min_width": null,
            "border": null,
            "align_items": null,
            "bottom": null,
            "_model_module": "@jupyter-widgets/base",
            "top": null,
            "grid_column": null,
            "overflow_y": null,
            "overflow_x": null,
            "grid_auto_flow": null,
            "grid_area": null,
            "grid_template_columns": null,
            "flex": null,
            "_model_name": "LayoutModel",
            "justify_items": null,
            "grid_row": null,
            "max_height": null,
            "align_content": null,
            "visibility": null,
            "align_self": null,
            "height": null,
            "min_height": null,
            "padding": null,
            "grid_auto_rows": null,
            "grid_gap": null,
            "max_width": null,
            "order": null,
            "_view_module_version": "1.2.0",
            "grid_template_areas": null,
            "object_position": null,
            "object_fit": null,
            "grid_auto_columns": null,
            "margin": null,
            "display": null,
            "left": null
          }
        },
        "fbec7d45839d43958607974a3fc3d0af": {
          "model_module": "@jupyter-widgets/controls",
          "model_name": "VBoxModel",
          "state": {
            "_view_name": "VBoxView",
            "_dom_classes": [
              "widget-interact"
            ],
            "_model_name": "VBoxModel",
            "_view_module": "@jupyter-widgets/controls",
            "_model_module_version": "1.5.0",
            "_view_count": null,
            "_view_module_version": "1.5.0",
            "box_style": "",
            "layout": "IPY_MODEL_d18544f566d244b7a5f807db2f250d97",
            "_model_module": "@jupyter-widgets/controls",
            "children": [
              "IPY_MODEL_05da513b61bf4c1ab8c7920ee1798261",
              "IPY_MODEL_2c91d0f21e0d4fc9862deec6fb0148ed",
              "IPY_MODEL_4f4223fa5462424fb3d40f4b89505f21"
            ]
          }
        },
        "d18544f566d244b7a5f807db2f250d97": {
          "model_module": "@jupyter-widgets/base",
          "model_name": "LayoutModel",
          "state": {
            "_view_name": "LayoutView",
            "grid_template_rows": null,
            "right": null,
            "justify_content": null,
            "_view_module": "@jupyter-widgets/base",
            "overflow": null,
            "_model_module_version": "1.2.0",
            "_view_count": null,
            "flex_flow": null,
            "width": null,
            "min_width": null,
            "border": null,
            "align_items": null,
            "bottom": null,
            "_model_module": "@jupyter-widgets/base",
            "top": null,
            "grid_column": null,
            "overflow_y": null,
            "overflow_x": null,
            "grid_auto_flow": null,
            "grid_area": null,
            "grid_template_columns": null,
            "flex": null,
            "_model_name": "LayoutModel",
            "justify_items": null,
            "grid_row": null,
            "max_height": null,
            "align_content": null,
            "visibility": null,
            "align_self": null,
            "height": null,
            "min_height": null,
            "padding": null,
            "grid_auto_rows": null,
            "grid_gap": null,
            "max_width": null,
            "order": null,
            "_view_module_version": "1.2.0",
            "grid_template_areas": null,
            "object_position": null,
            "object_fit": null,
            "grid_auto_columns": null,
            "margin": null,
            "display": null,
            "left": null
          }
        },
        "05da513b61bf4c1ab8c7920ee1798261": {
          "model_module": "@jupyter-widgets/controls",
          "model_name": "DropdownModel",
          "state": {
            "_options_labels": [
              "Quantity",
              "Revenue",
              "UnitPrice"
            ],
            "_view_name": "DropdownView",
            "style": "IPY_MODEL_29c28ac9a84b41c795c8d1fb2d78e1d0",
            "_dom_classes": [],
            "description": "X",
            "_model_name": "DropdownModel",
            "index": 0,
            "_view_module": "@jupyter-widgets/controls",
            "_model_module_version": "1.5.0",
            "_view_count": null,
            "disabled": false,
            "_view_module_version": "1.5.0",
            "description_tooltip": null,
            "_model_module": "@jupyter-widgets/controls",
            "layout": "IPY_MODEL_19b1333b49c94051867b05b1b7452063"
          }
        },
        "2c91d0f21e0d4fc9862deec6fb0148ed": {
          "model_module": "@jupyter-widgets/controls",
          "model_name": "DropdownModel",
          "state": {
            "_options_labels": [
              "Quantity",
              "Revenue",
              "UnitPrice"
            ],
            "_view_name": "DropdownView",
            "style": "IPY_MODEL_f2a75d917a3d437f9224df643001e2fe",
            "_dom_classes": [],
            "description": "Y",
            "_model_name": "DropdownModel",
            "index": 0,
            "_view_module": "@jupyter-widgets/controls",
            "_model_module_version": "1.5.0",
            "_view_count": null,
            "disabled": false,
            "_view_module_version": "1.5.0",
            "description_tooltip": null,
            "_model_module": "@jupyter-widgets/controls",
            "layout": "IPY_MODEL_d3d460d2da6f4f9d95d2c3b2627c7f93"
          }
        },
        "4f4223fa5462424fb3d40f4b89505f21": {
          "model_module": "@jupyter-widgets/output",
          "model_name": "OutputModel",
          "state": {
            "_view_name": "OutputView",
            "msg_id": "",
            "_dom_classes": [],
            "_model_name": "OutputModel",
            "outputs": [
              {
                "output_type": "display_data",
                "metadata": {
                  "tags": []
                },
                "text/html": "<html>\n<head><meta charset=\"utf-8\" /></head>\n<body>\n    <div>\n            <script src=\"https://cdnjs.cloudflare.com/ajax/libs/mathjax/2.7.5/MathJax.js?config=TeX-AMS-MML_SVG\"></script><script type=\"text/javascript\">if (window.MathJax) {MathJax.Hub.Config({SVG: {font: \"STIX-Web\"}});}</script>\n                <script type=\"text/javascript\">window.PlotlyConfig = {MathJaxConfig: 'local'};</script>\n        <script src=\"https://cdn.plot.ly/plotly-latest.min.js\"></script>    \n            <div id=\"a5799267-3ae5-4063-bf85-b9ed510b4d2d\" class=\"plotly-graph-div\" style=\"height:525px; width:100%;\"></div>\n            <script type=\"text/javascript\">\n                \n                    window.PLOTLYENV=window.PLOTLYENV || {};\n                    \n                if (document.getElementById(\"a5799267-3ae5-4063-bf85-b9ed510b4d2d\")) {\n                    Plotly.newPlot(\n                        'a5799267-3ae5-4063-bf85-b9ed510b4d2d',\n                        [{\"hoverlabel\": {\"namelength\": 0}, \"hovertemplate\": \"Quantity=%{y}<br>Revenue=%{marker.size}\", \"legendgroup\": \"\", \"marker\": {\"color\": \"#1F77B4\", \"line\": {\"color\": \"black\", \"width\": 1}, \"size\": [42213.57999999986, 47123.67999999988, 18833.990000000063, 25807.890000000127, 29651.870000000148, 51037.739999999874, 35173.44000000008, 28574.350000000046, 28749.970000000012, 13715.180000000035, 26747.970000000078, 26502.220000000143, 30099.02000000008, 47419.27000000011, 9655.860000000008, 6536.4199999999955, 16546.330000000034, 5825.529999999996, 4175.399999999999, 3963.969999999998, 11566.750000000011, 27393.500000000102, 26405.140000000083, 17617.900000000045, 14306.040000000032, 11622.289999999988, 53572.33000000001, 14289.000000000004, 12809.200000000006, 9866.789999999994, 7239.5599999999895, 13503.790000000003, 6837.340000000003, 9149.140000000003, 10350.029999999997, 15206.880000000008, 9885.749999999989, 11961.260000000011, 19062.510000000042, 13900.330000000005, 16735.680000000022, 12243.629999999996, 6615.749999999988, 12756.470000000003, 23376.200000000077, 15925.080000000054, 18837.750000000033, 15571.880000000016, 3457.1099999999974, 21161.10000000003, 12393.04000000001, 4707.459999999995, 13525.000000000005, 16012.000000000011, 5713.629999999987, 18841.53000000001, 17354.33000000004, 19420.840000000037, 15468.89000000002, 12902.36, 9621.29000000001, 10549.800000000008, 25938.280000000053, 17009.81000000006, 19781.490000000016, 16658.040000000037, 9003.349999999995, 12270.729999999992, 12668.970000000003, 17842.850000000013, 14253.730000000007, 14478.590000000006, 9997.419999999996, 19354.57, 19713.190000000024, 17654.58000000002, 16104.78000000002, 15811.390000000012, 3792.7499999999964, 18687.930000000044, 10663.509999999982, 19970.569999999996, 25161.96000000005, 20262.100000000006, 18571.55000000005, 15497.830000000009, 15738.300000000012, 17283.29, 33742.19000000015, 20860.690000000057, 9045.399999999994, 15495.780000000044, 18943.020000000015, 25861.460000000036, 19193.120000000024, 22052.60000000003, 6918.499999999987, 19082.97000000008, 18547.91000000004, 11766.329999999993, 14086.36000000004, 17668.04000000004, 9437.489999999982, 17591.070000000003, 23364.570000000043, 22980.23999999998, 30923.94000000009, 15724.420000000024, 11648.540000000012, 40258.959999999934, 15178.829999999996, 24581.149999999994, 23982.280000000104, 20548.39000000005, 21684.58000000005, 18803.40999999999, 5879.329999999998, 17754.160000000014, 24794.91, 21475.050000000054, 25601.910000000047, 16911.439999999988, 19627.699999999997, 26916.26000000002, 27145.370000000046, 26580.56, 22652.669999999987, 8921.569999999987, 30334.720000000005, 32337.01000000002, 29700.98000000004, 26350.839999999967, 22879.860000000015, 21616.570000000003, 23693.960000000032, 31775.89000000007, 17844.539999999968, 21583.029999999984, 19312.470000000016, 6811.569999999999, 14374.189999999982, 9207.029999999966, 25990.79999999997, 13155.640000000003, 19511.230000000047, 13613.359999999986, 32640.340000000066, 23416.110000000008, 36922.400000000176, 50930.64000000003, 11528.82999999997, 13925.15999999998, 33334.080000000096, 15041.169999999995, 28619.649999999987, 14021.469999999988, 15765.389999999972, 17482.460000000043, 16510.27999999999, 16501.899999999998, 20230.830000000024, 13783.659999999965, 6276.00999999999, 12394.639999999985, 15769.629999999977, 9631.93999999998, 37862.70000000012, 9510.049999999976, 6032.389999999985, 24928.470000000038, 24441.87000000002, 18110.350000000006, 25901.670000000006, 14732.529999999988, 5987.569999999987, 17514.350000000013, 15680.519999999997, 13687.31999999998, 24341.860000000044, 9512.259999999984, 16463.269999999993, 14851.859999999975, 29166.33000000008, 24514.390000000094, 26473.989999999983, 12975.67999999997, 25089.530000000046, 15845.49999999998, 16000.089999999998, 16550.15000000001, 46586.15000000018, 15833.769999999973, 13557.839999999993, 17709.66, 13634.549999999968, 24918.630000000016, 53726.530000000086, 15390.970000000018, 7469.559999999997, 17281.529999999995, 13147.089999999947, 16375.299999999992, 29988.72000000002, 12477.289999999986, 5671.919999999996, 13110.459999999974, 15561.39999999998, 45617.52000000008, 26373.520000000055, 12862.029999999977, 11759.089999999944, 26609.280000000046, 17769.560000000005, 35967.23000000007, 18238.22, 13269.809999999947, 9558.53999999998, 8292.79, 12461.459999999983, 28525.529999999977, 25771.19000000003, 13093.45999999997, 24391.54000000001, 20044.190000000024, 15647.369999999984, 18051.759999999977, 19156.820000000018, 33695.40000000019, 27989.399999999998, 35062.710000000116, 19682.510000000046, 65843.34000000032, 21472.089999999927, 15744.08, 19133.63999999999, 100457.88000000012, 29689.970000000023, 46689.55000000032, 23874.750000000047, 28749.490000000023, 26168.790000000026, 27596.16000000002, 32102.49000000004, 41286.71000000025, 31335.38000000009, 11582.94999999998, 57944.40000000007, 37282.9300000001, 47006.130000000114, 52557.64000000018, 42327.320000000014, 12466.80999999997, 36566.09000000016, 36646.389999999985, 20404.31999999999, 22914.030000000075, 22124.190000000024, 22010.57000000011, 30477.38000000008, 30769.47000000003, 23005.499999999996, 29107.14000000012, 52604.40999999999, 12288.779999999959, 35326.359999999964, 32357.960000000043, 29854.500000000062, 33263.52000000004, 25666.34000000006, 30573.580000000034, 27974.340000000004, 25110.95000000011, 31751.00999999999, 56727.85000000006, 50905.33000000028, 33143.99000000026, 25956.300000000112, 35801.490000000085, 58843.670000000195, 54500.360000000204, 28480.310000000125, 24543.63000000015, 51760.150000000125, 37377.200000000084, 38278.08000000008, 36433.48000000018, 28864.920000000107, 26697.3700000002, 40692.53000000021, 42999.48000000014, 55222.9300000002, 30561.68000000006, 22976.86000000008, 16464.77000000002, 45773.86000000017, 41509.760000000104, 31899.450000000037, 41329.14000000013, 40707.47000000001, 17390.660000000033, 52893.630000000085, 42063.55000000022, 49238.47000000023, 47146.11000000019, 11093.179999999995], \"sizemode\": \"area\", \"sizeref\": 251.1447000000003, \"symbol\": \"circle\"}, \"mode\": \"markers\", \"name\": \"\", \"showlegend\": false, \"type\": \"scatter\", \"x\": [21308, 30987, 7646, 13603, 15515, 18218, 18879, 13506, 14027, 8190, 15032, 16570, 18245, 28176, 4488, 3247, 11828, 3711, 2232, 2161, 6659, 17635, 16292, 11238, 7398, 7377, 23286, 6386, 7464, 5320, 4202, 7371, 4480, 6583, 5741, 6657, 5115, 7636, 11572, 8293, 9096, 5346, 3431, 9417, 13536, 8184, 14502, 10226, 2048, 8009, 7152, 2399, 11102, 8678, 2756, 10230, 10285, 12861, 11670, 7593, 5349, 6277, 17965, 10927, 10782, 9168, 4582, 7010, 7614, 8148, 7842, 11186, 5048, 10738, 12288, 9876, 9957, 8304, 2539, 10146, 6284, 12273, 16488, 11737, 12742, 9227, 11757, 10962, 17072, 9999, 4467, 8237, 11997, 17969, 11321, 17149, 5667, 10937, 10564, 7370, 8055, 10596, 5442, 11401, 14417, 18084, 16835, 10205, 7630, 19578, 10839, 17324, 15392, 14047, 16899, 11915, 3172, 9566, 15624, 13906, 16057, 9476, 10451, 14477, 15995, 14576, 11722, 4489, 12578, 15759, 17217, 14708, 13985, 11483, 15527, 14247, 10239, 10097, 13686, 3866, 8900, 6091, 12587, 6429, 10412, 7826, 17033, 14208, 23895, 6435, 8427, 8017, 12971, 10162, 18126, 9045, 9876, 10204, 11520, 11551, 12725, 7787, 3314, 8651, 9806, 5362, 18471, 6078, 3117, 9438, 17063, 13285, 16694, 8657, 4251, 12406, 10256, 9050, 12967, 5811, 10677, 8428, 19242, 14412, 17799, 7321, 16535, 12225, 12153, 9292, 25137, 10430, 10776, 10484, 10371, 15124, 35474, 9982, 5125, 10931, 7606, 10756, 19827, 7714, 3177, 7203, 10297, 23314, 18347, 8003, 6754, 14214, 11555, 25572, 10687, 9713, 5974, 4032, 8555, 22003, 13732, 7516, 16021, 12504, 10216, 13258, 12552, 20050, 16438, 25634, 11481, 25940, 13326, 8993, 12299, 40991, 15845, 26367, 15068, 18174, 14156, 18732, 20501, 25058, 17161, 8375, 24420, 22678, 32641, 30096, 24915, 7534, 22265, 19616, 12818, 13339, 13765, 8769, 18202, 23217, 14186, 16369, 19813, 7071, 22515, 23310, 18131, 24455, 16692, 17631, 12904, 14648, 22681, 30681, 31205, 18327, 14935, 20283, 34651, 27821, 19085, 17174, 29048, 21351, 23089, 21814, 16858, 17217, 22395, 26659, 28608, 19132, 12655, 10291, 25525, 22276, 18910, 23502, 22960, 9855, 35874, 25909, 29078, 25441, 6172], \"xaxis\": \"x\", \"y\": [21308, 30987, 7646, 13603, 15515, 18218, 18879, 13506, 14027, 8190, 15032, 16570, 18245, 28176, 4488, 3247, 11828, 3711, 2232, 2161, 6659, 17635, 16292, 11238, 7398, 7377, 23286, 6386, 7464, 5320, 4202, 7371, 4480, 6583, 5741, 6657, 5115, 7636, 11572, 8293, 9096, 5346, 3431, 9417, 13536, 8184, 14502, 10226, 2048, 8009, 7152, 2399, 11102, 8678, 2756, 10230, 10285, 12861, 11670, 7593, 5349, 6277, 17965, 10927, 10782, 9168, 4582, 7010, 7614, 8148, 7842, 11186, 5048, 10738, 12288, 9876, 9957, 8304, 2539, 10146, 6284, 12273, 16488, 11737, 12742, 9227, 11757, 10962, 17072, 9999, 4467, 8237, 11997, 17969, 11321, 17149, 5667, 10937, 10564, 7370, 8055, 10596, 5442, 11401, 14417, 18084, 16835, 10205, 7630, 19578, 10839, 17324, 15392, 14047, 16899, 11915, 3172, 9566, 15624, 13906, 16057, 9476, 10451, 14477, 15995, 14576, 11722, 4489, 12578, 15759, 17217, 14708, 13985, 11483, 15527, 14247, 10239, 10097, 13686, 3866, 8900, 6091, 12587, 6429, 10412, 7826, 17033, 14208, 23895, 6435, 8427, 8017, 12971, 10162, 18126, 9045, 9876, 10204, 11520, 11551, 12725, 7787, 3314, 8651, 9806, 5362, 18471, 6078, 3117, 9438, 17063, 13285, 16694, 8657, 4251, 12406, 10256, 9050, 12967, 5811, 10677, 8428, 19242, 14412, 17799, 7321, 16535, 12225, 12153, 9292, 25137, 10430, 10776, 10484, 10371, 15124, 35474, 9982, 5125, 10931, 7606, 10756, 19827, 7714, 3177, 7203, 10297, 23314, 18347, 8003, 6754, 14214, 11555, 25572, 10687, 9713, 5974, 4032, 8555, 22003, 13732, 7516, 16021, 12504, 10216, 13258, 12552, 20050, 16438, 25634, 11481, 25940, 13326, 8993, 12299, 40991, 15845, 26367, 15068, 18174, 14156, 18732, 20501, 25058, 17161, 8375, 24420, 22678, 32641, 30096, 24915, 7534, 22265, 19616, 12818, 13339, 13765, 8769, 18202, 23217, 14186, 16369, 19813, 7071, 22515, 23310, 18131, 24455, 16692, 17631, 12904, 14648, 22681, 30681, 31205, 18327, 14935, 20283, 34651, 27821, 19085, 17174, 29048, 21351, 23089, 21814, 16858, 17217, 22395, 26659, 28608, 19132, 12655, 10291, 25525, 22276, 18910, 23502, 22960, 9855, 35874, 25909, 29078, 25441, 6172], \"yaxis\": \"y\"}],\n                        {\"legend\": {\"itemsizing\": \"constant\", \"tracegroupgap\": 0}, \"template\": {\"data\": {\"scatter\": [{\"type\": \"scatter\"}]}}, \"title\": {\"text\": \"UK Daily Retail Quantity by Quantity\"}, \"xaxis\": {\"anchor\": \"y\", \"domain\": [0.0, 1.0], \"title\": {\"text\": \"Quantity\"}}, \"yaxis\": {\"anchor\": \"x\", \"domain\": [0.0, 1.0], \"title\": {\"text\": \"Quantity\"}}},\n                        {\"responsive\": true}\n                    ).then(function(){\n                            \nvar gd = document.getElementById('a5799267-3ae5-4063-bf85-b9ed510b4d2d');\nvar x = new MutationObserver(function (mutations, observer) {{\n        var display = window.getComputedStyle(gd).display;\n        if (!display || display === 'none') {{\n            console.log([gd, 'removed!']);\n            Plotly.purge(gd);\n            observer.disconnect();\n        }}\n}});\n\n// Listen for the removal of the full notebook cells\nvar notebookContainer = gd.closest('#notebook-container');\nif (notebookContainer) {{\n    x.observe(notebookContainer, {childList: true});\n}}\n\n// Listen for the clearing of the current output cell\nvar outputEl = gd.closest('.output');\nif (outputEl) {{\n    x.observe(outputEl, {childList: true});\n}}\n\n                        })\n                };\n                \n            </script>\n        </div>\n</body>\n</html>"
              }
            ],
            "_view_module": "@jupyter-widgets/output",
            "_model_module_version": "1.0.0",
            "_view_count": null,
            "_view_module_version": "1.0.0",
            "layout": "IPY_MODEL_fd64ca92db7f4821b2532e0fbbddfbd3",
            "_model_module": "@jupyter-widgets/output"
          }
        },
        "29c28ac9a84b41c795c8d1fb2d78e1d0": {
          "model_module": "@jupyter-widgets/controls",
          "model_name": "DescriptionStyleModel",
          "state": {
            "_view_name": "StyleView",
            "_model_name": "DescriptionStyleModel",
            "description_width": "",
            "_view_module": "@jupyter-widgets/base",
            "_model_module_version": "1.5.0",
            "_view_count": null,
            "_view_module_version": "1.2.0",
            "_model_module": "@jupyter-widgets/controls"
          }
        },
        "19b1333b49c94051867b05b1b7452063": {
          "model_module": "@jupyter-widgets/base",
          "model_name": "LayoutModel",
          "state": {
            "_view_name": "LayoutView",
            "grid_template_rows": null,
            "right": null,
            "justify_content": null,
            "_view_module": "@jupyter-widgets/base",
            "overflow": null,
            "_model_module_version": "1.2.0",
            "_view_count": null,
            "flex_flow": null,
            "width": null,
            "min_width": null,
            "border": null,
            "align_items": null,
            "bottom": null,
            "_model_module": "@jupyter-widgets/base",
            "top": null,
            "grid_column": null,
            "overflow_y": null,
            "overflow_x": null,
            "grid_auto_flow": null,
            "grid_area": null,
            "grid_template_columns": null,
            "flex": null,
            "_model_name": "LayoutModel",
            "justify_items": null,
            "grid_row": null,
            "max_height": null,
            "align_content": null,
            "visibility": null,
            "align_self": null,
            "height": null,
            "min_height": null,
            "padding": null,
            "grid_auto_rows": null,
            "grid_gap": null,
            "max_width": null,
            "order": null,
            "_view_module_version": "1.2.0",
            "grid_template_areas": null,
            "object_position": null,
            "object_fit": null,
            "grid_auto_columns": null,
            "margin": null,
            "display": null,
            "left": null
          }
        },
        "f2a75d917a3d437f9224df643001e2fe": {
          "model_module": "@jupyter-widgets/controls",
          "model_name": "DescriptionStyleModel",
          "state": {
            "_view_name": "StyleView",
            "_model_name": "DescriptionStyleModel",
            "description_width": "",
            "_view_module": "@jupyter-widgets/base",
            "_model_module_version": "1.5.0",
            "_view_count": null,
            "_view_module_version": "1.2.0",
            "_model_module": "@jupyter-widgets/controls"
          }
        },
        "d3d460d2da6f4f9d95d2c3b2627c7f93": {
          "model_module": "@jupyter-widgets/base",
          "model_name": "LayoutModel",
          "state": {
            "_view_name": "LayoutView",
            "grid_template_rows": null,
            "right": null,
            "justify_content": null,
            "_view_module": "@jupyter-widgets/base",
            "overflow": null,
            "_model_module_version": "1.2.0",
            "_view_count": null,
            "flex_flow": null,
            "width": null,
            "min_width": null,
            "border": null,
            "align_items": null,
            "bottom": null,
            "_model_module": "@jupyter-widgets/base",
            "top": null,
            "grid_column": null,
            "overflow_y": null,
            "overflow_x": null,
            "grid_auto_flow": null,
            "grid_area": null,
            "grid_template_columns": null,
            "flex": null,
            "_model_name": "LayoutModel",
            "justify_items": null,
            "grid_row": null,
            "max_height": null,
            "align_content": null,
            "visibility": null,
            "align_self": null,
            "height": null,
            "min_height": null,
            "padding": null,
            "grid_auto_rows": null,
            "grid_gap": null,
            "max_width": null,
            "order": null,
            "_view_module_version": "1.2.0",
            "grid_template_areas": null,
            "object_position": null,
            "object_fit": null,
            "grid_auto_columns": null,
            "margin": null,
            "display": null,
            "left": null
          }
        },
        "fd64ca92db7f4821b2532e0fbbddfbd3": {
          "model_module": "@jupyter-widgets/base",
          "model_name": "LayoutModel",
          "state": {
            "_view_name": "LayoutView",
            "grid_template_rows": null,
            "right": null,
            "justify_content": null,
            "_view_module": "@jupyter-widgets/base",
            "overflow": null,
            "_model_module_version": "1.2.0",
            "_view_count": null,
            "flex_flow": null,
            "width": null,
            "min_width": null,
            "border": null,
            "align_items": null,
            "bottom": null,
            "_model_module": "@jupyter-widgets/base",
            "top": null,
            "grid_column": null,
            "overflow_y": null,
            "overflow_x": null,
            "grid_auto_flow": null,
            "grid_area": null,
            "grid_template_columns": null,
            "flex": null,
            "_model_name": "LayoutModel",
            "justify_items": null,
            "grid_row": null,
            "max_height": null,
            "align_content": null,
            "visibility": null,
            "align_self": null,
            "height": null,
            "min_height": null,
            "padding": null,
            "grid_auto_rows": null,
            "grid_gap": null,
            "max_width": null,
            "order": null,
            "_view_module_version": "1.2.0",
            "grid_template_areas": null,
            "object_position": null,
            "object_fit": null,
            "grid_auto_columns": null,
            "margin": null,
            "display": null,
            "left": null
          }
        },
        "f377102a09da461b8d4d6288e827b1f4": {
          "model_module": "@jupyter-widgets/controls",
          "model_name": "VBoxModel",
          "state": {
            "_view_name": "VBoxView",
            "_dom_classes": [
              "widget-interact"
            ],
            "_model_name": "VBoxModel",
            "_view_module": "@jupyter-widgets/controls",
            "_model_module_version": "1.5.0",
            "_view_count": null,
            "_view_module_version": "1.5.0",
            "box_style": "",
            "layout": "IPY_MODEL_6aa114b6fe1e4905b8db336e87c90961",
            "_model_module": "@jupyter-widgets/controls",
            "children": [
              "IPY_MODEL_d1f5415f60b049e6a0131d78755bb237",
              "IPY_MODEL_8939f9c125514128866ba641f6b4811b",
              "IPY_MODEL_d07e9c0fcbe546c59686007fbb09b244"
            ]
          }
        },
        "6aa114b6fe1e4905b8db336e87c90961": {
          "model_module": "@jupyter-widgets/base",
          "model_name": "LayoutModel",
          "state": {
            "_view_name": "LayoutView",
            "grid_template_rows": null,
            "right": null,
            "justify_content": null,
            "_view_module": "@jupyter-widgets/base",
            "overflow": null,
            "_model_module_version": "1.2.0",
            "_view_count": null,
            "flex_flow": null,
            "width": null,
            "min_width": null,
            "border": null,
            "align_items": null,
            "bottom": null,
            "_model_module": "@jupyter-widgets/base",
            "top": null,
            "grid_column": null,
            "overflow_y": null,
            "overflow_x": null,
            "grid_auto_flow": null,
            "grid_area": null,
            "grid_template_columns": null,
            "flex": null,
            "_model_name": "LayoutModel",
            "justify_items": null,
            "grid_row": null,
            "max_height": null,
            "align_content": null,
            "visibility": null,
            "align_self": null,
            "height": null,
            "min_height": null,
            "padding": null,
            "grid_auto_rows": null,
            "grid_gap": null,
            "max_width": null,
            "order": null,
            "_view_module_version": "1.2.0",
            "grid_template_areas": null,
            "object_position": null,
            "object_fit": null,
            "grid_auto_columns": null,
            "margin": null,
            "display": null,
            "left": null
          }
        },
        "d1f5415f60b049e6a0131d78755bb237": {
          "model_module": "@jupyter-widgets/controls",
          "model_name": "DropdownModel",
          "state": {
            "_options_labels": [
              "December",
              "January",
              "February",
              "March",
              "April",
              "May",
              "June",
              "July",
              "August",
              "September",
              "October",
              "November"
            ],
            "_view_name": "DropdownView",
            "style": "IPY_MODEL_d34dbb99cf8341158b8cd41eb2ad7a81",
            "_dom_classes": [],
            "description": "Month",
            "_model_name": "DropdownModel",
            "index": 0,
            "_view_module": "@jupyter-widgets/controls",
            "_model_module_version": "1.5.0",
            "_view_count": null,
            "disabled": false,
            "_view_module_version": "1.5.0",
            "description_tooltip": null,
            "_model_module": "@jupyter-widgets/controls",
            "layout": "IPY_MODEL_6a88a0edf8994cd190ea47cb35668722"
          }
        },
        "8939f9c125514128866ba641f6b4811b": {
          "model_module": "@jupyter-widgets/controls",
          "model_name": "IntSliderModel",
          "state": {
            "_view_name": "IntSliderView",
            "style": "IPY_MODEL_6c08917aa6334786867cf63b6ba44646",
            "_dom_classes": [],
            "description": "Top_Products",
            "step": 1,
            "_model_name": "IntSliderModel",
            "orientation": "horizontal",
            "max": 25,
            "_view_module": "@jupyter-widgets/controls",
            "_model_module_version": "1.5.0",
            "value": 17,
            "_view_count": null,
            "disabled": false,
            "_view_module_version": "1.5.0",
            "min": 5,
            "continuous_update": true,
            "readout_format": "d",
            "description_tooltip": null,
            "readout": true,
            "_model_module": "@jupyter-widgets/controls",
            "layout": "IPY_MODEL_8d8c536527944ba29a794143793d47c4"
          }
        },
        "d07e9c0fcbe546c59686007fbb09b244": {
          "model_module": "@jupyter-widgets/output",
          "model_name": "OutputModel",
          "state": {
            "_view_name": "OutputView",
            "msg_id": "",
            "_dom_classes": [],
            "_model_name": "OutputModel",
            "outputs": [
              {
                "output_type": "display_data",
                "metadata": {
                  "tags": []
                },
                "text/html": "<html>\n<head><meta charset=\"utf-8\" /></head>\n<body>\n    <div>\n            <script src=\"https://cdnjs.cloudflare.com/ajax/libs/mathjax/2.7.5/MathJax.js?config=TeX-AMS-MML_SVG\"></script><script type=\"text/javascript\">if (window.MathJax) {MathJax.Hub.Config({SVG: {font: \"STIX-Web\"}});}</script>\n                <script type=\"text/javascript\">window.PlotlyConfig = {MathJaxConfig: 'local'};</script>\n        <script src=\"https://cdn.plot.ly/plotly-latest.min.js\"></script>    \n            <div id=\"921d01e8-b746-49c2-866a-c248ad2959b0\" class=\"plotly-graph-div\" style=\"height:525px; width:100%;\"></div>\n            <script type=\"text/javascript\">\n                \n                    window.PLOTLYENV=window.PLOTLYENV || {};\n                    \n                if (document.getElementById(\"921d01e8-b746-49c2-866a-c248ad2959b0\")) {\n                    Plotly.newPlot(\n                        '921d01e8-b746-49c2-866a-c248ad2959b0',\n                        [{\"alignmentgroup\": \"True\", \"hoverlabel\": {\"namelength\": 0}, \"hovertemplate\": \"Description=%{x}<br>Quantity=%{y}\", \"legendgroup\": \"Description=POPCORN HOLDER\", \"marker\": {\"color\": \"#1F77B4\", \"line\": {\"color\": \"black\", \"width\": 1}}, \"name\": \"Description=POPCORN HOLDER\", \"offsetgroup\": \"Description=POPCORN HOLDER\", \"orientation\": \"v\", \"showlegend\": true, \"textposition\": \"auto\", \"type\": \"bar\", \"x\": [\"POPCORN HOLDER\"], \"xaxis\": \"x\", \"y\": [7012], \"yaxis\": \"y\"}, {\"alignmentgroup\": \"True\", \"hoverlabel\": {\"namelength\": 0}, \"hovertemplate\": \"Description=%{x}<br>Quantity=%{y}\", \"legendgroup\": \"Description=WORLD WAR 2 GLIDERS ASSTD DESIGNS\", \"marker\": {\"color\": \"#FF7F0E\", \"line\": {\"color\": \"black\", \"width\": 1}}, \"name\": \"Description=WORLD WAR 2 GLIDERS ASSTD DESIGNS\", \"offsetgroup\": \"Description=WORLD WAR 2 GLIDERS ASSTD DESIGNS\", \"orientation\": \"v\", \"showlegend\": true, \"textposition\": \"auto\", \"type\": \"bar\", \"x\": [\"WORLD WAR 2 GLIDERS ASSTD DESIGNS\"], \"xaxis\": \"x\", \"y\": [5830], \"yaxis\": \"y\"}, {\"alignmentgroup\": \"True\", \"hoverlabel\": {\"namelength\": 0}, \"hovertemplate\": \"Description=%{x}<br>Quantity=%{y}\", \"legendgroup\": \"Description=CREAM HANGING HEART T-LIGHT HOLDER\", \"marker\": {\"color\": \"#2CA02C\", \"line\": {\"color\": \"black\", \"width\": 1}}, \"name\": \"Description=CREAM HANGING HEART T-LIGHT HOLDER\", \"offsetgroup\": \"Description=CREAM HANGING HEART T-LIGHT HOLDER\", \"orientation\": \"v\", \"showlegend\": true, \"textposition\": \"auto\", \"type\": \"bar\", \"x\": [\"CREAM HANGING HEART T-LIGHT HOLDER\"], \"xaxis\": \"x\", \"y\": [4187], \"yaxis\": \"y\"}, {\"alignmentgroup\": \"True\", \"hoverlabel\": {\"namelength\": 0}, \"hovertemplate\": \"Description=%{x}<br>Quantity=%{y}\", \"legendgroup\": \"Description=ASSORTED COLOUR BIRD ORNAMENT\", \"marker\": {\"color\": \"#D62728\", \"line\": {\"color\": \"black\", \"width\": 1}}, \"name\": \"Description=ASSORTED COLOUR BIRD ORNAMENT\", \"offsetgroup\": \"Description=ASSORTED COLOUR BIRD ORNAMENT\", \"orientation\": \"v\", \"showlegend\": true, \"textposition\": \"auto\", \"type\": \"bar\", \"x\": [\"ASSORTED COLOUR BIRD ORNAMENT\"], \"xaxis\": \"x\", \"y\": [3373], \"yaxis\": \"y\"}, {\"alignmentgroup\": \"True\", \"hoverlabel\": {\"namelength\": 0}, \"hovertemplate\": \"Description=%{x}<br>Quantity=%{y}\", \"legendgroup\": \"Description=BLACK RECORD COVER FRAME\", \"marker\": {\"color\": \"#9467BD\", \"line\": {\"color\": \"black\", \"width\": 1}}, \"name\": \"Description=BLACK RECORD COVER FRAME\", \"offsetgroup\": \"Description=BLACK RECORD COVER FRAME\", \"orientation\": \"v\", \"showlegend\": true, \"textposition\": \"auto\", \"type\": \"bar\", \"x\": [\"BLACK RECORD COVER FRAME\"], \"xaxis\": \"x\", \"y\": [3294], \"yaxis\": \"y\"}, {\"alignmentgroup\": \"True\", \"hoverlabel\": {\"namelength\": 0}, \"hovertemplate\": \"Description=%{x}<br>Quantity=%{y}\", \"legendgroup\": \"Description=HAND WARMER BABUSHKA DESIGN\", \"marker\": {\"color\": \"#8C564B\", \"line\": {\"color\": \"black\", \"width\": 1}}, \"name\": \"Description=HAND WARMER BABUSHKA DESIGN\", \"offsetgroup\": \"Description=HAND WARMER BABUSHKA DESIGN\", \"orientation\": \"v\", \"showlegend\": true, \"textposition\": \"auto\", \"type\": \"bar\", \"x\": [\"HAND WARMER BABUSHKA DESIGN\"], \"xaxis\": \"x\", \"y\": [3256], \"yaxis\": \"y\"}, {\"alignmentgroup\": \"True\", \"hoverlabel\": {\"namelength\": 0}, \"hovertemplate\": \"Description=%{x}<br>Quantity=%{y}\", \"legendgroup\": \"Description=DISCO BALL CHRISTMAS DECORATION\", \"marker\": {\"color\": \"#E377C2\", \"line\": {\"color\": \"black\", \"width\": 1}}, \"name\": \"Description=DISCO BALL CHRISTMAS DECORATION\", \"offsetgroup\": \"Description=DISCO BALL CHRISTMAS DECORATION\", \"orientation\": \"v\", \"showlegend\": true, \"textposition\": \"auto\", \"type\": \"bar\", \"x\": [\"DISCO BALL CHRISTMAS DECORATION\"], \"xaxis\": \"x\", \"y\": [3232], \"yaxis\": \"y\"}, {\"alignmentgroup\": \"True\", \"hoverlabel\": {\"namelength\": 0}, \"hovertemplate\": \"Description=%{x}<br>Quantity=%{y}\", \"legendgroup\": \"Description=PACK OF 12 LONDON TISSUES \", \"marker\": {\"color\": \"#7F7F7F\", \"line\": {\"color\": \"black\", \"width\": 1}}, \"name\": \"Description=PACK OF 12 LONDON TISSUES \", \"offsetgroup\": \"Description=PACK OF 12 LONDON TISSUES \", \"orientation\": \"v\", \"showlegend\": true, \"textposition\": \"auto\", \"type\": \"bar\", \"x\": [\"PACK OF 12 LONDON TISSUES \"], \"xaxis\": \"x\", \"y\": [3177], \"yaxis\": \"y\"}, {\"alignmentgroup\": \"True\", \"hoverlabel\": {\"namelength\": 0}, \"hovertemplate\": \"Description=%{x}<br>Quantity=%{y}\", \"legendgroup\": \"Description=RED  HARMONICA IN BOX \", \"marker\": {\"color\": \"#BCBD22\", \"line\": {\"color\": \"black\", \"width\": 1}}, \"name\": \"Description=RED  HARMONICA IN BOX \", \"offsetgroup\": \"Description=RED  HARMONICA IN BOX \", \"orientation\": \"v\", \"showlegend\": true, \"textposition\": \"auto\", \"type\": \"bar\", \"x\": [\"RED  HARMONICA IN BOX \"], \"xaxis\": \"x\", \"y\": [3140], \"yaxis\": \"y\"}, {\"alignmentgroup\": \"True\", \"hoverlabel\": {\"namelength\": 0}, \"hovertemplate\": \"Description=%{x}<br>Quantity=%{y}\", \"legendgroup\": \"Description=PAPER CHAIN KIT 50'S CHRISTMAS \", \"marker\": {\"color\": \"#17BECF\", \"line\": {\"color\": \"black\", \"width\": 1}}, \"name\": \"Description=PAPER CHAIN KIT 50'S CHRISTMAS \", \"offsetgroup\": \"Description=PAPER CHAIN KIT 50'S CHRISTMAS \", \"orientation\": \"v\", \"showlegend\": true, \"textposition\": \"auto\", \"type\": \"bar\", \"x\": [\"PAPER CHAIN KIT 50'S CHRISTMAS \"], \"xaxis\": \"x\", \"y\": [3072], \"yaxis\": \"y\"}, {\"alignmentgroup\": \"True\", \"hoverlabel\": {\"namelength\": 0}, \"hovertemplate\": \"Description=%{x}<br>Quantity=%{y}\", \"legendgroup\": \"Description=JUMBO BAG RED RETROSPOT\", \"marker\": {\"color\": \"#1F77B4\", \"line\": {\"color\": \"black\", \"width\": 1}}, \"name\": \"Description=JUMBO BAG RED RETROSPOT\", \"offsetgroup\": \"Description=JUMBO BAG RED RETROSPOT\", \"orientation\": \"v\", \"showlegend\": true, \"textposition\": \"auto\", \"type\": \"bar\", \"x\": [\"JUMBO BAG RED RETROSPOT\"], \"xaxis\": \"x\", \"y\": [2941], \"yaxis\": \"y\"}, {\"alignmentgroup\": \"True\", \"hoverlabel\": {\"namelength\": 0}, \"hovertemplate\": \"Description=%{x}<br>Quantity=%{y}\", \"legendgroup\": \"Description=PACK OF 72 RETROSPOT CAKE CASES\", \"marker\": {\"color\": \"#FF7F0E\", \"line\": {\"color\": \"black\", \"width\": 1}}, \"name\": \"Description=PACK OF 72 RETROSPOT CAKE CASES\", \"offsetgroup\": \"Description=PACK OF 72 RETROSPOT CAKE CASES\", \"orientation\": \"v\", \"showlegend\": true, \"textposition\": \"auto\", \"type\": \"bar\", \"x\": [\"PACK OF 72 RETROSPOT CAKE CASES\"], \"xaxis\": \"x\", \"y\": [2872], \"yaxis\": \"y\"}, {\"alignmentgroup\": \"True\", \"hoverlabel\": {\"namelength\": 0}, \"hovertemplate\": \"Description=%{x}<br>Quantity=%{y}\", \"legendgroup\": \"Description=MINI PAINT SET VINTAGE \", \"marker\": {\"color\": \"#2CA02C\", \"line\": {\"color\": \"black\", \"width\": 1}}, \"name\": \"Description=MINI PAINT SET VINTAGE \", \"offsetgroup\": \"Description=MINI PAINT SET VINTAGE \", \"orientation\": \"v\", \"showlegend\": true, \"textposition\": \"auto\", \"type\": \"bar\", \"x\": [\"MINI PAINT SET VINTAGE \"], \"xaxis\": \"x\", \"y\": [2775], \"yaxis\": \"y\"}, {\"alignmentgroup\": \"True\", \"hoverlabel\": {\"namelength\": 0}, \"hovertemplate\": \"Description=%{x}<br>Quantity=%{y}\", \"legendgroup\": \"Description=GROW A FLYTRAP OR SUNFLOWER IN TIN\", \"marker\": {\"color\": \"#D62728\", \"line\": {\"color\": \"black\", \"width\": 1}}, \"name\": \"Description=GROW A FLYTRAP OR SUNFLOWER IN TIN\", \"offsetgroup\": \"Description=GROW A FLYTRAP OR SUNFLOWER IN TIN\", \"orientation\": \"v\", \"showlegend\": true, \"textposition\": \"auto\", \"type\": \"bar\", \"x\": [\"GROW A FLYTRAP OR SUNFLOWER IN TIN\"], \"xaxis\": \"x\", \"y\": [2664], \"yaxis\": \"y\"}, {\"alignmentgroup\": \"True\", \"hoverlabel\": {\"namelength\": 0}, \"hovertemplate\": \"Description=%{x}<br>Quantity=%{y}\", \"legendgroup\": \"Description=CREAM HEART CARD HOLDER\", \"marker\": {\"color\": \"#9467BD\", \"line\": {\"color\": \"black\", \"width\": 1}}, \"name\": \"Description=CREAM HEART CARD HOLDER\", \"offsetgroup\": \"Description=CREAM HEART CARD HOLDER\", \"orientation\": \"v\", \"showlegend\": true, \"textposition\": \"auto\", \"type\": \"bar\", \"x\": [\"CREAM HEART CARD HOLDER\"], \"xaxis\": \"x\", \"y\": [2636], \"yaxis\": \"y\"}, {\"alignmentgroup\": \"True\", \"hoverlabel\": {\"namelength\": 0}, \"hovertemplate\": \"Description=%{x}<br>Quantity=%{y}\", \"legendgroup\": \"Description=BLACK HEART CARD HOLDER\", \"marker\": {\"color\": \"#8C564B\", \"line\": {\"color\": \"black\", \"width\": 1}}, \"name\": \"Description=BLACK HEART CARD HOLDER\", \"offsetgroup\": \"Description=BLACK HEART CARD HOLDER\", \"orientation\": \"v\", \"showlegend\": true, \"textposition\": \"auto\", \"type\": \"bar\", \"x\": [\"BLACK HEART CARD HOLDER\"], \"xaxis\": \"x\", \"y\": [2497], \"yaxis\": \"y\"}, {\"alignmentgroup\": \"True\", \"hoverlabel\": {\"namelength\": 0}, \"hovertemplate\": \"Description=%{x}<br>Quantity=%{y}\", \"legendgroup\": \"Description=ROTATING SILVER ANGELS T-LIGHT HLDR\", \"marker\": {\"color\": \"#E377C2\", \"line\": {\"color\": \"black\", \"width\": 1}}, \"name\": \"Description=ROTATING SILVER ANGELS T-LIGHT HLDR\", \"offsetgroup\": \"Description=ROTATING SILVER ANGELS T-LIGHT HLDR\", \"orientation\": \"v\", \"showlegend\": true, \"textposition\": \"auto\", \"type\": \"bar\", \"x\": [\"ROTATING SILVER ANGELS T-LIGHT HLDR\"], \"xaxis\": \"x\", \"y\": [2479], \"yaxis\": \"y\"}],\n                        {\"barmode\": \"relative\", \"legend\": {\"tracegroupgap\": 0}, \"template\": {\"data\": {\"scatter\": [{\"type\": \"scatter\"}]}}, \"title\": {\"text\": \"UK Top 17 product sold by quantity in December\"}, \"xaxis\": {\"anchor\": \"y\", \"categoryorder\": \"array\", \"domain\": [0.0, 1.0], \"title\": {\"text\": \"Description\"}}, \"yaxis\": {\"anchor\": \"x\", \"domain\": [0.0, 1.0], \"title\": {\"text\": \"Quantity\"}}},\n                        {\"responsive\": true}\n                    ).then(function(){\n                            \nvar gd = document.getElementById('921d01e8-b746-49c2-866a-c248ad2959b0');\nvar x = new MutationObserver(function (mutations, observer) {{\n        var display = window.getComputedStyle(gd).display;\n        if (!display || display === 'none') {{\n            console.log([gd, 'removed!']);\n            Plotly.purge(gd);\n            observer.disconnect();\n        }}\n}});\n\n// Listen for the removal of the full notebook cells\nvar notebookContainer = gd.closest('#notebook-container');\nif (notebookContainer) {{\n    x.observe(notebookContainer, {childList: true});\n}}\n\n// Listen for the clearing of the current output cell\nvar outputEl = gd.closest('.output');\nif (outputEl) {{\n    x.observe(outputEl, {childList: true});\n}}\n\n                        })\n                };\n                \n            </script>\n        </div>\n</body>\n</html>"
              }
            ],
            "_view_module": "@jupyter-widgets/output",
            "_model_module_version": "1.0.0",
            "_view_count": null,
            "_view_module_version": "1.0.0",
            "layout": "IPY_MODEL_d3040cb07c3d45bb8d6d980d6eabfb50",
            "_model_module": "@jupyter-widgets/output"
          }
        },
        "d34dbb99cf8341158b8cd41eb2ad7a81": {
          "model_module": "@jupyter-widgets/controls",
          "model_name": "DescriptionStyleModel",
          "state": {
            "_view_name": "StyleView",
            "_model_name": "DescriptionStyleModel",
            "description_width": "",
            "_view_module": "@jupyter-widgets/base",
            "_model_module_version": "1.5.0",
            "_view_count": null,
            "_view_module_version": "1.2.0",
            "_model_module": "@jupyter-widgets/controls"
          }
        },
        "6a88a0edf8994cd190ea47cb35668722": {
          "model_module": "@jupyter-widgets/base",
          "model_name": "LayoutModel",
          "state": {
            "_view_name": "LayoutView",
            "grid_template_rows": null,
            "right": null,
            "justify_content": null,
            "_view_module": "@jupyter-widgets/base",
            "overflow": null,
            "_model_module_version": "1.2.0",
            "_view_count": null,
            "flex_flow": null,
            "width": null,
            "min_width": null,
            "border": null,
            "align_items": null,
            "bottom": null,
            "_model_module": "@jupyter-widgets/base",
            "top": null,
            "grid_column": null,
            "overflow_y": null,
            "overflow_x": null,
            "grid_auto_flow": null,
            "grid_area": null,
            "grid_template_columns": null,
            "flex": null,
            "_model_name": "LayoutModel",
            "justify_items": null,
            "grid_row": null,
            "max_height": null,
            "align_content": null,
            "visibility": null,
            "align_self": null,
            "height": null,
            "min_height": null,
            "padding": null,
            "grid_auto_rows": null,
            "grid_gap": null,
            "max_width": null,
            "order": null,
            "_view_module_version": "1.2.0",
            "grid_template_areas": null,
            "object_position": null,
            "object_fit": null,
            "grid_auto_columns": null,
            "margin": null,
            "display": null,
            "left": null
          }
        },
        "6c08917aa6334786867cf63b6ba44646": {
          "model_module": "@jupyter-widgets/controls",
          "model_name": "SliderStyleModel",
          "state": {
            "_view_name": "StyleView",
            "handle_color": null,
            "_model_name": "SliderStyleModel",
            "description_width": "",
            "_view_module": "@jupyter-widgets/base",
            "_model_module_version": "1.5.0",
            "_view_count": null,
            "_view_module_version": "1.2.0",
            "_model_module": "@jupyter-widgets/controls"
          }
        },
        "8d8c536527944ba29a794143793d47c4": {
          "model_module": "@jupyter-widgets/base",
          "model_name": "LayoutModel",
          "state": {
            "_view_name": "LayoutView",
            "grid_template_rows": null,
            "right": null,
            "justify_content": null,
            "_view_module": "@jupyter-widgets/base",
            "overflow": null,
            "_model_module_version": "1.2.0",
            "_view_count": null,
            "flex_flow": null,
            "width": null,
            "min_width": null,
            "border": null,
            "align_items": null,
            "bottom": null,
            "_model_module": "@jupyter-widgets/base",
            "top": null,
            "grid_column": null,
            "overflow_y": null,
            "overflow_x": null,
            "grid_auto_flow": null,
            "grid_area": null,
            "grid_template_columns": null,
            "flex": null,
            "_model_name": "LayoutModel",
            "justify_items": null,
            "grid_row": null,
            "max_height": null,
            "align_content": null,
            "visibility": null,
            "align_self": null,
            "height": null,
            "min_height": null,
            "padding": null,
            "grid_auto_rows": null,
            "grid_gap": null,
            "max_width": null,
            "order": null,
            "_view_module_version": "1.2.0",
            "grid_template_areas": null,
            "object_position": null,
            "object_fit": null,
            "grid_auto_columns": null,
            "margin": null,
            "display": null,
            "left": null
          }
        },
        "d3040cb07c3d45bb8d6d980d6eabfb50": {
          "model_module": "@jupyter-widgets/base",
          "model_name": "LayoutModel",
          "state": {
            "_view_name": "LayoutView",
            "grid_template_rows": null,
            "right": null,
            "justify_content": null,
            "_view_module": "@jupyter-widgets/base",
            "overflow": null,
            "_model_module_version": "1.2.0",
            "_view_count": null,
            "flex_flow": null,
            "width": null,
            "min_width": null,
            "border": null,
            "align_items": null,
            "bottom": null,
            "_model_module": "@jupyter-widgets/base",
            "top": null,
            "grid_column": null,
            "overflow_y": null,
            "overflow_x": null,
            "grid_auto_flow": null,
            "grid_area": null,
            "grid_template_columns": null,
            "flex": null,
            "_model_name": "LayoutModel",
            "justify_items": null,
            "grid_row": null,
            "max_height": null,
            "align_content": null,
            "visibility": null,
            "align_self": null,
            "height": null,
            "min_height": null,
            "padding": null,
            "grid_auto_rows": null,
            "grid_gap": null,
            "max_width": null,
            "order": null,
            "_view_module_version": "1.2.0",
            "grid_template_areas": null,
            "object_position": null,
            "object_fit": null,
            "grid_auto_columns": null,
            "margin": null,
            "display": null,
            "left": null
          }
        }
      }
    }
  },
  "cells": [
    {
      "cell_type": "code",
      "metadata": {
        "colab": {
          "base_uri": "https://localhost:8080/"
        },
        "id": "sqKx4P_MJ0gu",
        "outputId": "a8a99aea-834c-4204-c1f7-094403323320"
      },
      "source": [
        "!pip install plotly\r\n",
        "!pip install ipywidgets\r\n",
        "import pandas as pd\r\n",
        "import plotly.express as px\r\n",
        "from ipywidgets import interact"
      ],
      "execution_count": 1,
      "outputs": [
        {
          "output_type": "stream",
          "text": [
            "Requirement already satisfied: plotly in /usr/local/lib/python3.6/dist-packages (4.4.1)\n",
            "Requirement already satisfied: retrying>=1.3.3 in /usr/local/lib/python3.6/dist-packages (from plotly) (1.3.3)\n",
            "Requirement already satisfied: six in /usr/local/lib/python3.6/dist-packages (from plotly) (1.15.0)\n",
            "Requirement already satisfied: ipywidgets in /usr/local/lib/python3.6/dist-packages (7.5.1)\n",
            "Requirement already satisfied: ipykernel>=4.5.1 in /usr/local/lib/python3.6/dist-packages (from ipywidgets) (4.10.1)\n",
            "Requirement already satisfied: nbformat>=4.2.0 in /usr/local/lib/python3.6/dist-packages (from ipywidgets) (5.0.8)\n",
            "Requirement already satisfied: widgetsnbextension~=3.5.0 in /usr/local/lib/python3.6/dist-packages (from ipywidgets) (3.5.1)\n",
            "Requirement already satisfied: traitlets>=4.3.1 in /usr/local/lib/python3.6/dist-packages (from ipywidgets) (4.3.3)\n",
            "Requirement already satisfied: ipython>=4.0.0; python_version >= \"3.3\" in /usr/local/lib/python3.6/dist-packages (from ipywidgets) (5.5.0)\n",
            "Requirement already satisfied: tornado>=4.0 in /usr/local/lib/python3.6/dist-packages (from ipykernel>=4.5.1->ipywidgets) (5.1.1)\n",
            "Requirement already satisfied: jupyter-client in /usr/local/lib/python3.6/dist-packages (from ipykernel>=4.5.1->ipywidgets) (5.3.5)\n",
            "Requirement already satisfied: jupyter-core in /usr/local/lib/python3.6/dist-packages (from nbformat>=4.2.0->ipywidgets) (4.7.0)\n",
            "Requirement already satisfied: ipython-genutils in /usr/local/lib/python3.6/dist-packages (from nbformat>=4.2.0->ipywidgets) (0.2.0)\n",
            "Requirement already satisfied: jsonschema!=2.5.0,>=2.4 in /usr/local/lib/python3.6/dist-packages (from nbformat>=4.2.0->ipywidgets) (2.6.0)\n",
            "Requirement already satisfied: notebook>=4.4.1 in /usr/local/lib/python3.6/dist-packages (from widgetsnbextension~=3.5.0->ipywidgets) (5.3.1)\n",
            "Requirement already satisfied: decorator in /usr/local/lib/python3.6/dist-packages (from traitlets>=4.3.1->ipywidgets) (4.4.2)\n",
            "Requirement already satisfied: six in /usr/local/lib/python3.6/dist-packages (from traitlets>=4.3.1->ipywidgets) (1.15.0)\n",
            "Requirement already satisfied: simplegeneric>0.8 in /usr/local/lib/python3.6/dist-packages (from ipython>=4.0.0; python_version >= \"3.3\"->ipywidgets) (0.8.1)\n",
            "Requirement already satisfied: pygments in /usr/local/lib/python3.6/dist-packages (from ipython>=4.0.0; python_version >= \"3.3\"->ipywidgets) (2.6.1)\n",
            "Requirement already satisfied: pickleshare in /usr/local/lib/python3.6/dist-packages (from ipython>=4.0.0; python_version >= \"3.3\"->ipywidgets) (0.7.5)\n",
            "Requirement already satisfied: pexpect; sys_platform != \"win32\" in /usr/local/lib/python3.6/dist-packages (from ipython>=4.0.0; python_version >= \"3.3\"->ipywidgets) (4.8.0)\n",
            "Requirement already satisfied: setuptools>=18.5 in /usr/local/lib/python3.6/dist-packages (from ipython>=4.0.0; python_version >= \"3.3\"->ipywidgets) (50.3.2)\n",
            "Requirement already satisfied: prompt-toolkit<2.0.0,>=1.0.4 in /usr/local/lib/python3.6/dist-packages (from ipython>=4.0.0; python_version >= \"3.3\"->ipywidgets) (1.0.18)\n",
            "Requirement already satisfied: python-dateutil>=2.1 in /usr/local/lib/python3.6/dist-packages (from jupyter-client->ipykernel>=4.5.1->ipywidgets) (2.8.1)\n",
            "Requirement already satisfied: pyzmq>=13 in /usr/local/lib/python3.6/dist-packages (from jupyter-client->ipykernel>=4.5.1->ipywidgets) (20.0.0)\n",
            "Requirement already satisfied: Send2Trash in /usr/local/lib/python3.6/dist-packages (from notebook>=4.4.1->widgetsnbextension~=3.5.0->ipywidgets) (1.5.0)\n",
            "Requirement already satisfied: terminado>=0.8.1 in /usr/local/lib/python3.6/dist-packages (from notebook>=4.4.1->widgetsnbextension~=3.5.0->ipywidgets) (0.9.1)\n",
            "Requirement already satisfied: jinja2 in /usr/local/lib/python3.6/dist-packages (from notebook>=4.4.1->widgetsnbextension~=3.5.0->ipywidgets) (2.11.2)\n",
            "Requirement already satisfied: nbconvert in /usr/local/lib/python3.6/dist-packages (from notebook>=4.4.1->widgetsnbextension~=3.5.0->ipywidgets) (5.6.1)\n",
            "Requirement already satisfied: ptyprocess>=0.5 in /usr/local/lib/python3.6/dist-packages (from pexpect; sys_platform != \"win32\"->ipython>=4.0.0; python_version >= \"3.3\"->ipywidgets) (0.6.0)\n",
            "Requirement already satisfied: wcwidth in /usr/local/lib/python3.6/dist-packages (from prompt-toolkit<2.0.0,>=1.0.4->ipython>=4.0.0; python_version >= \"3.3\"->ipywidgets) (0.2.5)\n",
            "Requirement already satisfied: MarkupSafe>=0.23 in /usr/local/lib/python3.6/dist-packages (from jinja2->notebook>=4.4.1->widgetsnbextension~=3.5.0->ipywidgets) (1.1.1)\n",
            "Requirement already satisfied: bleach in /usr/local/lib/python3.6/dist-packages (from nbconvert->notebook>=4.4.1->widgetsnbextension~=3.5.0->ipywidgets) (3.2.1)\n",
            "Requirement already satisfied: testpath in /usr/local/lib/python3.6/dist-packages (from nbconvert->notebook>=4.4.1->widgetsnbextension~=3.5.0->ipywidgets) (0.4.4)\n",
            "Requirement already satisfied: mistune<2,>=0.8.1 in /usr/local/lib/python3.6/dist-packages (from nbconvert->notebook>=4.4.1->widgetsnbextension~=3.5.0->ipywidgets) (0.8.4)\n",
            "Requirement already satisfied: defusedxml in /usr/local/lib/python3.6/dist-packages (from nbconvert->notebook>=4.4.1->widgetsnbextension~=3.5.0->ipywidgets) (0.6.0)\n",
            "Requirement already satisfied: entrypoints>=0.2.2 in /usr/local/lib/python3.6/dist-packages (from nbconvert->notebook>=4.4.1->widgetsnbextension~=3.5.0->ipywidgets) (0.3)\n",
            "Requirement already satisfied: pandocfilters>=1.4.1 in /usr/local/lib/python3.6/dist-packages (from nbconvert->notebook>=4.4.1->widgetsnbextension~=3.5.0->ipywidgets) (1.4.3)\n",
            "Requirement already satisfied: webencodings in /usr/local/lib/python3.6/dist-packages (from bleach->nbconvert->notebook>=4.4.1->widgetsnbextension~=3.5.0->ipywidgets) (0.5.1)\n",
            "Requirement already satisfied: packaging in /usr/local/lib/python3.6/dist-packages (from bleach->nbconvert->notebook>=4.4.1->widgetsnbextension~=3.5.0->ipywidgets) (20.7)\n",
            "Requirement already satisfied: pyparsing>=2.0.2 in /usr/local/lib/python3.6/dist-packages (from packaging->bleach->nbconvert->notebook>=4.4.1->widgetsnbextension~=3.5.0->ipywidgets) (2.4.7)\n"
          ],
          "name": "stdout"
        }
      ]
    },
    {
      "cell_type": "code",
      "metadata": {
        "id": "PjY3tPFSJ1th"
      },
      "source": [
        "o_df = pd.read_excel('https://tf-assets-prod.s3.amazonaws.com/tf-curric/data-science/Data%20Sets%20Time%20Series%20Analysis/Time%20Series%20-%20Day%202/Online%20Retail.xlsx')"
      ],
      "execution_count": 2,
      "outputs": []
    },
    {
      "cell_type": "code",
      "metadata": {
        "id": "xqczNzFoKAEh"
      },
      "source": [
        "o_df['Date'] = o_df['InvoiceDate'].dt.date\r\n",
        "o_df['Month'] = o_df['InvoiceDate'].dt.strftime('%B')\r\n",
        "o_df['Day'] = o_df['InvoiceDate'].dt.day\r\n",
        "o_df['Weekday'] = o_df['InvoiceDate'].dt.weekday\r\n",
        "o_df['Hour'] = o_df['InvoiceDate'].dt.hour\r\n",
        "o_df['Minute'] = o_df['InvoiceDate'].dt.minute"
      ],
      "execution_count": 4,
      "outputs": []
    },
    {
      "cell_type": "code",
      "metadata": {
        "colab": {
          "base_uri": "https://localhost:8080/",
          "height": 419
        },
        "id": "x2Gv9Ho3KZNG",
        "outputId": "4c211833-3188-4a03-9bfa-007726401a90"
      },
      "source": [
        "o_df['Date'] = o_df['InvoiceDate'].dt.date\r\n",
        "\r\n",
        "hist_price = o_df.groupby('Date').agg({'Quantity':'sum', \r\n",
        "                                         'Revenue':'sum', \r\n",
        "                                         'UnitPrice':'mean'}).reset_index()\r\n",
        "hist_price"
      ],
      "execution_count": 5,
      "outputs": [
        {
          "output_type": "execute_result",
          "data": {
            "text/html": [
              "<div>\n",
              "<style scoped>\n",
              "    .dataframe tbody tr th:only-of-type {\n",
              "        vertical-align: middle;\n",
              "    }\n",
              "\n",
              "    .dataframe tbody tr th {\n",
              "        vertical-align: top;\n",
              "    }\n",
              "\n",
              "    .dataframe thead th {\n",
              "        text-align: right;\n",
              "    }\n",
              "</style>\n",
              "<table border=\"1\" class=\"dataframe\">\n",
              "  <thead>\n",
              "    <tr style=\"text-align: right;\">\n",
              "      <th></th>\n",
              "      <th>Date</th>\n",
              "      <th>Quantity</th>\n",
              "      <th>Revenue</th>\n",
              "      <th>UnitPrice</th>\n",
              "    </tr>\n",
              "  </thead>\n",
              "  <tbody>\n",
              "    <tr>\n",
              "      <th>0</th>\n",
              "      <td>2010-12-01</td>\n",
              "      <td>24207</td>\n",
              "      <td>46219.29</td>\n",
              "      <td>3.109995</td>\n",
              "    </tr>\n",
              "    <tr>\n",
              "      <th>1</th>\n",
              "      <td>2010-12-02</td>\n",
              "      <td>31140</td>\n",
              "      <td>47283.53</td>\n",
              "      <td>3.184610</td>\n",
              "    </tr>\n",
              "    <tr>\n",
              "      <th>2</th>\n",
              "      <td>2010-12-03</td>\n",
              "      <td>11822</td>\n",
              "      <td>23576.01</td>\n",
              "      <td>3.166670</td>\n",
              "    </tr>\n",
              "    <tr>\n",
              "      <th>3</th>\n",
              "      <td>2010-12-05</td>\n",
              "      <td>16370</td>\n",
              "      <td>31315.64</td>\n",
              "      <td>2.840382</td>\n",
              "    </tr>\n",
              "    <tr>\n",
              "      <th>4</th>\n",
              "      <td>2010-12-06</td>\n",
              "      <td>16267</td>\n",
              "      <td>31014.21</td>\n",
              "      <td>2.878689</td>\n",
              "    </tr>\n",
              "    <tr>\n",
              "      <th>...</th>\n",
              "      <td>...</td>\n",
              "      <td>...</td>\n",
              "      <td>...</td>\n",
              "      <td>...</td>\n",
              "    </tr>\n",
              "    <tr>\n",
              "      <th>300</th>\n",
              "      <td>2011-12-05</td>\n",
              "      <td>37609</td>\n",
              "      <td>55920.60</td>\n",
              "      <td>2.581249</td>\n",
              "    </tr>\n",
              "    <tr>\n",
              "      <th>301</th>\n",
              "      <td>2011-12-06</td>\n",
              "      <td>27798</td>\n",
              "      <td>45584.19</td>\n",
              "      <td>2.318553</td>\n",
              "    </tr>\n",
              "    <tr>\n",
              "      <th>302</th>\n",
              "      <td>2011-12-07</td>\n",
              "      <td>41080</td>\n",
              "      <td>68699.21</td>\n",
              "      <td>2.397698</td>\n",
              "    </tr>\n",
              "    <tr>\n",
              "      <th>303</th>\n",
              "      <td>2011-12-08</td>\n",
              "      <td>27536</td>\n",
              "      <td>50214.15</td>\n",
              "      <td>2.572785</td>\n",
              "    </tr>\n",
              "    <tr>\n",
              "      <th>304</th>\n",
              "      <td>2011-12-09</td>\n",
              "      <td>9578</td>\n",
              "      <td>15720.68</td>\n",
              "      <td>2.369345</td>\n",
              "    </tr>\n",
              "  </tbody>\n",
              "</table>\n",
              "<p>305 rows × 4 columns</p>\n",
              "</div>"
            ],
            "text/plain": [
              "           Date  Quantity   Revenue  UnitPrice\n",
              "0    2010-12-01     24207  46219.29   3.109995\n",
              "1    2010-12-02     31140  47283.53   3.184610\n",
              "2    2010-12-03     11822  23576.01   3.166670\n",
              "3    2010-12-05     16370  31315.64   2.840382\n",
              "4    2010-12-06     16267  31014.21   2.878689\n",
              "..          ...       ...       ...        ...\n",
              "300  2011-12-05     37609  55920.60   2.581249\n",
              "301  2011-12-06     27798  45584.19   2.318553\n",
              "302  2011-12-07     41080  68699.21   2.397698\n",
              "303  2011-12-08     27536  50214.15   2.572785\n",
              "304  2011-12-09      9578  15720.68   2.369345\n",
              "\n",
              "[305 rows x 4 columns]"
            ]
          },
          "metadata": {
            "tags": []
          },
          "execution_count": 5
        }
      ]
    },
    {
      "cell_type": "code",
      "metadata": {
        "id": "PJbP9hA5NoUf"
      },
      "source": [
        "#interactive histogram def\r\n",
        "def ihistogram(df, field, bins=None, title=''):\r\n",
        "    fig = px.histogram(df, x=field, title=title, nbins=bins,\r\n",
        "                       template='none').update(layout=dict(title=dict(x=0.5)))\r\n",
        "\r\n",
        "    fig.update_yaxes(title_text='Number of Records')\r\n",
        "    fig.update_traces(marker_color='lightskyblue',\r\n",
        "                      marker_line_color='black', \r\n",
        "                      marker_line_width=1)\r\n",
        "\r\n",
        "    fig.show()"
      ],
      "execution_count": 7,
      "outputs": []
    },
    {
      "cell_type": "code",
      "metadata": {
        "colab": {
          "base_uri": "https://localhost:8080/",
          "height": 574,
          "referenced_widgets": [
            "b5fc7484f9904191bd35c1203e6de45d",
            "926dc985bf404229a84139639707cd54",
            "6aafb32fdba84aeab521d6b0962edb56",
            "ca59755e56604fa4967d83a241e42a67",
            "da2d39b83b99409592c11b934077e63f",
            "cd3e8357ac504a4aa174cf33ee6e4414",
            "689e6a48c972450887a873a3001a3364"
          ]
        },
        "id": "joVmWXZFNvqi",
        "outputId": "dcc2e1a4-753b-4f8f-df19-a81e2a2596a1"
      },
      "source": [
        "selection = ['Quantity', 'Revenue', 'UnitPrice']\r\n",
        "\r\n",
        "@interact(Metric=selection)\r\n",
        "\r\n",
        "def plot_hist(Metric):\r\n",
        "    ihistogram(hist_price, Metric, bins=50, title='Daily Retail ' + Metric + ' Distribution')"
      ],
      "execution_count": 8,
      "outputs": [
        {
          "output_type": "display_data",
          "data": {
            "application/vnd.jupyter.widget-view+json": {
              "model_id": "b5fc7484f9904191bd35c1203e6de45d",
              "version_minor": 0,
              "version_major": 2
            },
            "text/plain": [
              "interactive(children=(Dropdown(description='Metric', options=('Quantity', 'Revenue', 'UnitPrice'), value='Quan…"
            ]
          },
          "metadata": {
            "tags": []
          }
        }
      ]
    },
    {
      "cell_type": "code",
      "metadata": {
        "id": "CP7QD6zwN0KU"
      },
      "source": [
        "#Create an interactive line chart where you can explore Quantity and Revenue by day (date) for each country. Include two dropdown widgets - one to choose between the Quantity and Revenue fields and the other to choose the Country\r\n",
        "\r\n",
        "def ilinechart(df, x, y, groups=None, title=''):\r\n",
        "    fig = px.line(df, x=x, y=y, color=groups, title=title, \r\n",
        "                  template='none')\r\n",
        "    fig.show()"
      ],
      "execution_count": 10,
      "outputs": []
    },
    {
      "cell_type": "code",
      "metadata": {
        "colab": {
          "base_uri": "https://localhost:8080/",
          "height": 606,
          "referenced_widgets": [
            "c6a265d925234a94bfe4e802c34c5851",
            "a1ae392eacd64e0eb2f35cee0c156dcb",
            "63e65c9b4d654ca8ac310fbff234c5b0",
            "28da567868a54d3a9292b552179d865a",
            "258d2b3d7c234cc1b37da62ae6ce3bed",
            "c6ba06c3170040e98d1a6a32c8074a1b",
            "eae062632d4f44448e20bd9f954d132a",
            "aa4e0bb007c2478f801996afb3f59d7d",
            "7e56a85cf1984c86a448ec77eab2a5d6",
            "e338f75170044ab3ae9f958e9a367b16"
          ]
        },
        "id": "TJqeMOikODh3",
        "outputId": "4f134633-e927-4ee8-a40e-1785ecae1ba8"
      },
      "source": [
        "metrics = ['Quantity', 'Revenue']\r\n",
        "countries = o_df['Country'].unique()\r\n",
        "\r\n",
        "@interact(Metric=metrics, Country=countries)\r\n",
        "\r\n",
        "def line_plot(Metric, Country):\r\n",
        "    filtered = o_df.loc[lambda x: x.Country == Country]\r\n",
        "    grouped = filtered.groupby(['Date'], as_index=False).sum()\r\n",
        "    ilinechart(grouped, 'Date', Metric, title='Daily Retail ' + Metric + ' by ' + Country)"
      ],
      "execution_count": 13,
      "outputs": [
        {
          "output_type": "display_data",
          "data": {
            "application/vnd.jupyter.widget-view+json": {
              "model_id": "c6a265d925234a94bfe4e802c34c5851",
              "version_minor": 0,
              "version_major": 2
            },
            "text/plain": [
              "interactive(children=(Dropdown(description='Metric', options=('Quantity', 'Revenue'), value='Quantity'), Dropd…"
            ]
          },
          "metadata": {
            "tags": []
          }
        }
      ]
    },
    {
      "cell_type": "code",
      "metadata": {
        "id": "QPyw2F4UO4Cz"
      },
      "source": [
        "#Create an interactive scatter plot showing the relationships between daily Quantity, UnitPrice, and Revenue for the United Kingdom. Include two dropdown boxes that let you choose between the 3 fields - one for the x axis and one for the y axis of your scatter plot. Size the data points according to Revenue.\r\n",
        "\r\n",
        "def iscatter(df, x, y, color=None, size=None, title=''):\r\n",
        "    fig = px.scatter(df, x=x, y=y, color=color, size=size, \r\n",
        "                     title=title, template='none')\r\n",
        "\r\n",
        "    fig.update_traces(marker_line_color='black', \r\n",
        "                  marker_line_width=1)\r\n",
        "\r\n",
        "    fig.show()"
      ],
      "execution_count": 15,
      "outputs": []
    },
    {
      "cell_type": "code",
      "metadata": {
        "colab": {
          "base_uri": "https://localhost:8080/",
          "height": 606,
          "referenced_widgets": [
            "fbec7d45839d43958607974a3fc3d0af",
            "d18544f566d244b7a5f807db2f250d97",
            "05da513b61bf4c1ab8c7920ee1798261",
            "2c91d0f21e0d4fc9862deec6fb0148ed",
            "4f4223fa5462424fb3d40f4b89505f21",
            "29c28ac9a84b41c795c8d1fb2d78e1d0",
            "19b1333b49c94051867b05b1b7452063",
            "f2a75d917a3d437f9224df643001e2fe",
            "d3d460d2da6f4f9d95d2c3b2627c7f93",
            "fd64ca92db7f4821b2532e0fbbddfbd3"
          ]
        },
        "id": "CVOREhWYOEGu",
        "outputId": "6b6251a3-cc63-4c93-c6a6-8d8f45b10f85"
      },
      "source": [
        "x_axis = ['Quantity', 'Revenue', 'UnitPrice']\r\n",
        "y_axis = ['Quantity', 'Revenue', 'UnitPrice']\r\n",
        "\r\n",
        "@interact(X=x_axis, Y=y_axis)\r\n",
        "\r\n",
        "def scat_plot(X, Y):\r\n",
        "    filtered = o_df.loc[lambda x: x.Country == 'United Kingdom']\r\n",
        "    grouped = filtered.groupby(['Date'], as_index=False).sum()\r\n",
        "    iscatter(grouped, X, Y, size='Revenue', title='UK Daily Retail ' + X + ' by ' + Y)"
      ],
      "execution_count": 16,
      "outputs": [
        {
          "output_type": "display_data",
          "data": {
            "application/vnd.jupyter.widget-view+json": {
              "model_id": "fbec7d45839d43958607974a3fc3d0af",
              "version_minor": 0,
              "version_major": 2
            },
            "text/plain": [
              "interactive(children=(Dropdown(description='X', options=('Quantity', 'Revenue', 'UnitPrice'), value='Quantity'…"
            ]
          },
          "metadata": {
            "tags": []
          }
        }
      ]
    },
    {
      "cell_type": "code",
      "metadata": {
        "id": "Qjy3jJ-iOvTl"
      },
      "source": [
        "#Create a bar chart showing the top X products sold (by quantity) in the United Kingdom in a specific month. Use a dropdown box to select the month name and a slider to show the top X products. The range for X should be from 5 to 25. Make sure the bars are sorted in descending order according to their total quantity sold for the month\r\n",
        "\r\n",
        "def ibarchart(df, x, y, color=None, order=None, title=''):\r\n",
        "    fig = px.bar(df, x=x, y=y, color=color, title=title, template='none')\r\n",
        "\r\n",
        "    fig.update_traces(marker_line_color='black', \r\n",
        "                      marker_line_width=1)\r\n",
        "    \r\n",
        "    fig.update_layout(xaxis={'categoryorder':'array', \r\n",
        "                             'categoryarray': order})\r\n",
        "    \r\n",
        "    fig.show()"
      ],
      "execution_count": 17,
      "outputs": []
    },
    {
      "cell_type": "code",
      "metadata": {
        "id": "4qpRt4HVPFnR"
      },
      "source": [
        "o_df['Month'] = o_df['InvoiceDate'].dt.strftime('%B')\r\n",
        "o_df['Month_num'] = o_df['InvoiceDate'].dt.month"
      ],
      "execution_count": 18,
      "outputs": []
    },
    {
      "cell_type": "code",
      "metadata": {
        "colab": {
          "base_uri": "https://localhost:8080/",
          "height": 606,
          "referenced_widgets": [
            "f377102a09da461b8d4d6288e827b1f4",
            "6aa114b6fe1e4905b8db336e87c90961",
            "d1f5415f60b049e6a0131d78755bb237",
            "8939f9c125514128866ba641f6b4811b",
            "d07e9c0fcbe546c59686007fbb09b244",
            "d34dbb99cf8341158b8cd41eb2ad7a81",
            "6a88a0edf8994cd190ea47cb35668722",
            "6c08917aa6334786867cf63b6ba44646",
            "8d8c536527944ba29a794143793d47c4",
            "d3040cb07c3d45bb8d6d980d6eabfb50"
          ]
        },
        "id": "wwaC6LYiPQgU",
        "outputId": "6b4ae861-da9f-4308-f0a0-2d3607781ae1"
      },
      "source": [
        "months = o_df['Month'].unique()\r\n",
        "\r\n",
        "@interact(Month=months, Top_Products=(5,25))\r\n",
        "\r\n",
        "def plot_bar(Month, Top_Products):\r\n",
        "    filtered = o_df.loc[(lambda x: (x.Country == 'United Kingdom') &  (x.Month == Month))]\r\n",
        "    grouped = filtered.groupby(['Month','Description'], as_index=False).agg(\r\n",
        "        {'Quantity':'sum'}).sort_values(['Month','Quantity'], ascending=[True,False]).head(Top_Products)\r\n",
        "    ibarchart(grouped, 'Description', 'Quantity', 'Description',\r\n",
        "              title=f'UK Top {Top_Products} product sold by quantity in {Month}')"
      ],
      "execution_count": 20,
      "outputs": [
        {
          "output_type": "display_data",
          "data": {
            "application/vnd.jupyter.widget-view+json": {
              "model_id": "f377102a09da461b8d4d6288e827b1f4",
              "version_minor": 0,
              "version_major": 2
            },
            "text/plain": [
              "interactive(children=(Dropdown(description='Month', options=('December', 'January', 'February', 'March', 'Apri…"
            ]
          },
          "metadata": {
            "tags": []
          }
        }
      ]
    },
    {
      "cell_type": "code",
      "metadata": {
        "id": "FgLkAZ20PT9t"
      },
      "source": [
        ""
      ],
      "execution_count": null,
      "outputs": []
    }
  ]
}