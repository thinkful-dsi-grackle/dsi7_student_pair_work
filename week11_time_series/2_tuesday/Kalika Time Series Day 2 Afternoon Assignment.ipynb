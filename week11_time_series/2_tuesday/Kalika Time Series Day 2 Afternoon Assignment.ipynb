{
 "cells": [
  {
   "cell_type": "markdown",
   "metadata": {
    "colab_type": "text",
    "id": "zUGAqrFLfHFA"
   },
   "source": [
    "# Interactive Time Series Visualization Assignment"
   ]
  },
  {
   "cell_type": "code",
   "execution_count": 1,
   "metadata": {},
   "outputs": [],
   "source": [
    "#conda install nodejs\n",
    "#!pip install plotly_express\n",
    "#!pip install ipywidgets\n",
    "#!jupyter nbextension enable --py widgetsnbextension"
   ]
  },
  {
   "cell_type": "code",
   "execution_count": 2,
   "metadata": {
    "colab": {},
    "colab_type": "code",
    "id": "mWelAIHEfHFE"
   },
   "outputs": [],
   "source": [
    "import pandas as pd\n",
    "import plotly_express as px\n",
    "from ipywidgets import interact\n",
    "import matplotlib.pyplot as plt"
   ]
  },
  {
   "cell_type": "markdown",
   "metadata": {
    "colab_type": "text",
    "id": "h-8X_cNVfHFI"
   },
   "source": [
    "### Load the Online Retail.xlsx Excel file into a Pandas dataframe."
   ]
  },
  {
   "cell_type": "code",
   "execution_count": 3,
   "metadata": {
    "colab": {},
    "colab_type": "code",
    "id": "ssD3f8tNfHFJ"
   },
   "outputs": [
    {
     "data": {
      "text/html": [
       "<div>\n",
       "<style scoped>\n",
       "    .dataframe tbody tr th:only-of-type {\n",
       "        vertical-align: middle;\n",
       "    }\n",
       "\n",
       "    .dataframe tbody tr th {\n",
       "        vertical-align: top;\n",
       "    }\n",
       "\n",
       "    .dataframe thead th {\n",
       "        text-align: right;\n",
       "    }\n",
       "</style>\n",
       "<table border=\"1\" class=\"dataframe\">\n",
       "  <thead>\n",
       "    <tr style=\"text-align: right;\">\n",
       "      <th></th>\n",
       "      <th>InvoiceNo</th>\n",
       "      <th>InvoiceDate</th>\n",
       "      <th>StockCode</th>\n",
       "      <th>Description</th>\n",
       "      <th>Quantity</th>\n",
       "      <th>UnitPrice</th>\n",
       "      <th>Revenue</th>\n",
       "      <th>CustomerID</th>\n",
       "      <th>Country</th>\n",
       "    </tr>\n",
       "  </thead>\n",
       "  <tbody>\n",
       "    <tr>\n",
       "      <th>0</th>\n",
       "      <td>536365</td>\n",
       "      <td>2010-12-01 08:26:00</td>\n",
       "      <td>85123A</td>\n",
       "      <td>CREAM HANGING HEART T-LIGHT HOLDER</td>\n",
       "      <td>6</td>\n",
       "      <td>2.55</td>\n",
       "      <td>15.3</td>\n",
       "      <td>17850</td>\n",
       "      <td>United Kingdom</td>\n",
       "    </tr>\n",
       "    <tr>\n",
       "      <th>1</th>\n",
       "      <td>536373</td>\n",
       "      <td>2010-12-01 09:02:00</td>\n",
       "      <td>85123A</td>\n",
       "      <td>CREAM HANGING HEART T-LIGHT HOLDER</td>\n",
       "      <td>6</td>\n",
       "      <td>2.55</td>\n",
       "      <td>15.3</td>\n",
       "      <td>17850</td>\n",
       "      <td>United Kingdom</td>\n",
       "    </tr>\n",
       "    <tr>\n",
       "      <th>2</th>\n",
       "      <td>536375</td>\n",
       "      <td>2010-12-01 09:32:00</td>\n",
       "      <td>85123A</td>\n",
       "      <td>CREAM HANGING HEART T-LIGHT HOLDER</td>\n",
       "      <td>6</td>\n",
       "      <td>2.55</td>\n",
       "      <td>15.3</td>\n",
       "      <td>17850</td>\n",
       "      <td>United Kingdom</td>\n",
       "    </tr>\n",
       "    <tr>\n",
       "      <th>3</th>\n",
       "      <td>536390</td>\n",
       "      <td>2010-12-01 10:19:00</td>\n",
       "      <td>85123A</td>\n",
       "      <td>CREAM HANGING HEART T-LIGHT HOLDER</td>\n",
       "      <td>64</td>\n",
       "      <td>2.55</td>\n",
       "      <td>163.2</td>\n",
       "      <td>17511</td>\n",
       "      <td>United Kingdom</td>\n",
       "    </tr>\n",
       "    <tr>\n",
       "      <th>4</th>\n",
       "      <td>536394</td>\n",
       "      <td>2010-12-01 10:39:00</td>\n",
       "      <td>85123A</td>\n",
       "      <td>CREAM HANGING HEART T-LIGHT HOLDER</td>\n",
       "      <td>32</td>\n",
       "      <td>2.55</td>\n",
       "      <td>81.6</td>\n",
       "      <td>13408</td>\n",
       "      <td>United Kingdom</td>\n",
       "    </tr>\n",
       "  </tbody>\n",
       "</table>\n",
       "</div>"
      ],
      "text/plain": [
       "   InvoiceNo         InvoiceDate StockCode  \\\n",
       "0     536365 2010-12-01 08:26:00    85123A   \n",
       "1     536373 2010-12-01 09:02:00    85123A   \n",
       "2     536375 2010-12-01 09:32:00    85123A   \n",
       "3     536390 2010-12-01 10:19:00    85123A   \n",
       "4     536394 2010-12-01 10:39:00    85123A   \n",
       "\n",
       "                          Description  Quantity  UnitPrice  Revenue  \\\n",
       "0  CREAM HANGING HEART T-LIGHT HOLDER         6       2.55     15.3   \n",
       "1  CREAM HANGING HEART T-LIGHT HOLDER         6       2.55     15.3   \n",
       "2  CREAM HANGING HEART T-LIGHT HOLDER         6       2.55     15.3   \n",
       "3  CREAM HANGING HEART T-LIGHT HOLDER        64       2.55    163.2   \n",
       "4  CREAM HANGING HEART T-LIGHT HOLDER        32       2.55     81.6   \n",
       "\n",
       "   CustomerID         Country  \n",
       "0       17850  United Kingdom  \n",
       "1       17850  United Kingdom  \n",
       "2       17850  United Kingdom  \n",
       "3       17511  United Kingdom  \n",
       "4       13408  United Kingdom  "
      ]
     },
     "execution_count": 3,
     "metadata": {},
     "output_type": "execute_result"
    }
   ],
   "source": [
    "df = pd.read_excel('https://tf-assets-prod.s3.amazonaws.com/tf-curric/data-science/Data%20Sets%20Time%20Series%20Analysis/Time%20Series%20-%20Day%202/Online%20Retail.xlsx')\n",
    "df.head()"
   ]
  },
  {
   "cell_type": "markdown",
   "metadata": {
    "colab_type": "text",
    "id": "dqk9efG-fHFN"
   },
   "source": [
    "### Create an interactive histogram to explore the distributions of daily (by date) Quantity, UnitPrice, and Revenue. Include a dropdown widget where you can switch between the three fields.\n",
    "\n",
    "**Hint:** You will need to create a Date field and then aggregate on it. The Quantity and Revenue fields should be summed and the UnitPrice field should be averaged (mean)."
   ]
  },
  {
   "cell_type": "code",
   "execution_count": 4,
   "metadata": {
    "colab": {},
    "colab_type": "code",
    "id": "THi55esyfHFO"
   },
   "outputs": [
    {
     "name": "stdout",
     "output_type": "stream",
     "text": [
      "<class 'pandas.core.frame.DataFrame'>\n",
      "RangeIndex: 396034 entries, 0 to 396033\n",
      "Data columns (total 10 columns):\n",
      " #   Column       Non-Null Count   Dtype         \n",
      "---  ------       --------------   -----         \n",
      " 0   InvoiceNo    396034 non-null  int64         \n",
      " 1   InvoiceDate  396034 non-null  datetime64[ns]\n",
      " 2   StockCode    396034 non-null  object        \n",
      " 3   Description  396034 non-null  object        \n",
      " 4   Quantity     396034 non-null  int64         \n",
      " 5   UnitPrice    396034 non-null  float64       \n",
      " 6   Revenue      396034 non-null  float64       \n",
      " 7   CustomerID   396034 non-null  int64         \n",
      " 8   Country      396034 non-null  object        \n",
      " 9   Date         396034 non-null  object        \n",
      "dtypes: datetime64[ns](1), float64(2), int64(3), object(4)\n",
      "memory usage: 30.2+ MB\n"
     ]
    }
   ],
   "source": [
    "df['InvoiceDate'] = pd.to_datetime(df['InvoiceDate'])\n",
    "df['Date'] = df.InvoiceDate.dt.date\n",
    "df.info()"
   ]
  },
  {
   "cell_type": "code",
   "execution_count": 5,
   "metadata": {},
   "outputs": [
    {
     "data": {
      "image/png": "[encoded data removed]",
      "text/plain": [
       "<Figure size 432x288 with 4 Axes>"
      ]
     },
     "metadata": {
      "needs_background": "light"
     },
     "output_type": "display_data"
    }
   ],
   "source": [
    "daily = df.groupby(['Date'], as_index=False).agg({'Quantity': 'sum', 'Revenue' : 'sum', 'UnitPrice' : 'mean'})\n",
    "daily.hist()\n",
    "plt.show()"
   ]
  },
  {
   "cell_type": "code",
   "execution_count": 6,
   "metadata": {},
   "outputs": [],
   "source": [
    "def ihistogram(df, field, bins=None, title=''):\n",
    "    fig = px.histogram(df, x=field, title=title, nbins=bins,\n",
    "                       template='none').update(layout=dict(title=dict(x=0.5)))\n",
    "\n",
    "    fig.update_yaxes(title_text='Number of Records')\n",
    "    fig.update_traces(marker_color='lightskyblue',\n",
    "                      marker_line_color='black', \n",
    "                      marker_line_width=1)\n",
    "\n",
    "    fig.show()"
   ]
  },
  {
   "cell_type": "code",
   "execution_count": 7,
   "metadata": {},
   "outputs": [
    {
     "data": {
      "application/vnd.jupyter.widget-view+json": {
       "model_id": "9e428fc3580f425ab2a43d2cb66fb5c6",
       "version_major": 2,
       "version_minor": 0
      },
      "text/plain": [
       "interactive(children=(Dropdown(description='display', options=('Quantity', 'Revenue', 'UnitPrice'), value='Qua…"
      ]
     },
     "metadata": {},
     "output_type": "display_data"
    }
   ],
   "source": [
    "l = ['Quantity', 'Revenue', 'UnitPrice']\n",
    "@interact(display=l)\n",
    "\n",
    "def viz(display):\n",
    "    ihistogram(daily, display)\n",
    "    "
   ]
  },
  {
   "cell_type": "markdown",
   "metadata": {
    "colab_type": "text",
    "id": "LalZadscfHFR"
   },
   "source": [
    "### Create an interactive line chart where you can explore Quantity and Revenue by day (date) for each country. Include two dropdown widgets - one to choose between the Quantity and Revenue fields and the other to choose the Country."
   ]
  },
  {
   "cell_type": "code",
   "execution_count": 8,
   "metadata": {
    "colab": {},
    "colab_type": "code",
    "id": "6JSMmEhPfHFS"
   },
   "outputs": [
    {
     "data": {
      "text/html": [
       "<div>\n",
       "<style scoped>\n",
       "    .dataframe tbody tr th:only-of-type {\n",
       "        vertical-align: middle;\n",
       "    }\n",
       "\n",
       "    .dataframe tbody tr th {\n",
       "        vertical-align: top;\n",
       "    }\n",
       "\n",
       "    .dataframe thead th {\n",
       "        text-align: right;\n",
       "    }\n",
       "</style>\n",
       "<table border=\"1\" class=\"dataframe\">\n",
       "  <thead>\n",
       "    <tr style=\"text-align: right;\">\n",
       "      <th></th>\n",
       "      <th>Date</th>\n",
       "      <th>Country</th>\n",
       "      <th>Quantity</th>\n",
       "      <th>Revenue</th>\n",
       "      <th>UnitPrice</th>\n",
       "    </tr>\n",
       "  </thead>\n",
       "  <tbody>\n",
       "    <tr>\n",
       "      <th>0</th>\n",
       "      <td>2010-12-01</td>\n",
       "      <td>Australia</td>\n",
       "      <td>107</td>\n",
       "      <td>358.25</td>\n",
       "      <td>5.278571</td>\n",
       "    </tr>\n",
       "    <tr>\n",
       "      <th>1</th>\n",
       "      <td>2010-12-01</td>\n",
       "      <td>EIRE</td>\n",
       "      <td>242</td>\n",
       "      <td>505.38</td>\n",
       "      <td>4.182000</td>\n",
       "    </tr>\n",
       "    <tr>\n",
       "      <th>2</th>\n",
       "      <td>2010-12-01</td>\n",
       "      <td>France</td>\n",
       "      <td>446</td>\n",
       "      <td>801.86</td>\n",
       "      <td>1.962632</td>\n",
       "    </tr>\n",
       "    <tr>\n",
       "      <th>3</th>\n",
       "      <td>2010-12-01</td>\n",
       "      <td>Germany</td>\n",
       "      <td>156</td>\n",
       "      <td>243.48</td>\n",
       "      <td>1.883571</td>\n",
       "    </tr>\n",
       "    <tr>\n",
       "      <th>4</th>\n",
       "      <td>2010-12-01</td>\n",
       "      <td>Netherlands</td>\n",
       "      <td>96</td>\n",
       "      <td>177.60</td>\n",
       "      <td>1.850000</td>\n",
       "    </tr>\n",
       "  </tbody>\n",
       "</table>\n",
       "</div>"
      ],
      "text/plain": [
       "         Date      Country  Quantity  Revenue  UnitPrice\n",
       "0  2010-12-01    Australia       107   358.25   5.278571\n",
       "1  2010-12-01         EIRE       242   505.38   4.182000\n",
       "2  2010-12-01       France       446   801.86   1.962632\n",
       "3  2010-12-01      Germany       156   243.48   1.883571\n",
       "4  2010-12-01  Netherlands        96   177.60   1.850000"
      ]
     },
     "execution_count": 8,
     "metadata": {},
     "output_type": "execute_result"
    }
   ],
   "source": [
    "daily = df.groupby(['Date', 'Country'], as_index=False).agg({'Quantity': 'sum', 'Revenue' : 'sum', 'UnitPrice' : 'mean'})\n",
    "daily.head()"
   ]
  },
  {
   "cell_type": "code",
   "execution_count": 9,
   "metadata": {},
   "outputs": [],
   "source": [
    "def iline(df, x, y, groups=None, title=''):\n",
    "    fig = px.line(df, x=x, y=y, color=groups, title=title, \n",
    "                  template='none')\n",
    "    fig.show()"
   ]
  },
  {
   "cell_type": "code",
   "execution_count": 10,
   "metadata": {},
   "outputs": [
    {
     "data": {
      "application/vnd.jupyter.widget-view+json": {
       "model_id": "60655380af6d4d8393a899d992019058",
       "version_major": 2,
       "version_minor": 0
      },
      "text/plain": [
       "interactive(children=(Dropdown(description='amount', options=('Quantity', 'Revenue'), value='Quantity'), Dropd…"
      ]
     },
     "metadata": {},
     "output_type": "display_data"
    }
   ],
   "source": [
    "amount = ['Quantity', 'Revenue']\n",
    "country = daily.Country.unique()\n",
    "@interact(amount=amount, country=country)\n",
    "\n",
    "def viz(amount,country):\n",
    "    country_df = daily[daily.Country == country]\n",
    "    iline(country_df, 'Date', amount, title=country)"
   ]
  },
  {
   "cell_type": "markdown",
   "metadata": {
    "colab_type": "text",
    "id": "2HGyfA4rfHFV"
   },
   "source": [
    "### Create an interactive scatter plot showing the relationships between daily Quantity, UnitPrice, and Revenue for the United Kingdom. Include two dropdown boxes that let you choose between the 3 fields - one for the x axis and one for the y axis of your scatter plot. Size the data points according to Revenue."
   ]
  },
  {
   "cell_type": "code",
   "execution_count": 11,
   "metadata": {},
   "outputs": [],
   "source": [
    "def iscatter(df, x, y, color=None, size=None, title=''):\n",
    "    fig = px.scatter(df, x=x, y=y, color=color, size=size, \n",
    "                     title=title, template='none')\n",
    "\n",
    "\n",
    "    fig.update_traces(marker_line_color='black', \n",
    "                  marker_line_width=1)\n",
    "\n",
    "    fig.show()"
   ]
  },
  {
   "cell_type": "code",
   "execution_count": 12,
   "metadata": {
    "colab": {},
    "colab_type": "code",
    "id": "b8vu_sXifHFX"
   },
   "outputs": [
    {
     "data": {
      "application/vnd.jupyter.widget-view+json": {
       "model_id": "94721103c0864929b908e2a37a776faf",
       "version_major": 2,
       "version_minor": 0
      },
      "text/plain": [
       "interactive(children=(Dropdown(description='x', options=('Quantity', 'Revenue', 'UnitPrice'), value='Quantity'…"
      ]
     },
     "metadata": {},
     "output_type": "display_data"
    }
   ],
   "source": [
    "l = ['Quantity', 'Revenue', 'UnitPrice']\n",
    "uk = daily[daily.Country == 'United Kingdom']\n",
    "@interact(x=l, y=l)\n",
    "\n",
    "def viz(x, y):\n",
    "    iscatter(uk, x=x, y=y, size='Revenue')\n",
    "    "
   ]
  },
  {
   "cell_type": "markdown",
   "metadata": {
    "colab_type": "text",
    "id": "KYMEsgb7fHFb"
   },
   "source": [
    "### Create a bar chart showing the top X products sold (by quantity) in the United Kingdom in a specific month. Use a dropdown box to select the month name and a slider to show the top X products. The range for X should be from 5 to 25. Make sure the bars are sorted in descending order according to their total quantity sold for the month.\n",
    "\n",
    "Bonus points if you can figure out how to ensure that the month names in the dropdown appear in their correct order (January, February, March, April, etc.)."
   ]
  },
  {
   "cell_type": "code",
   "execution_count": 13,
   "metadata": {},
   "outputs": [],
   "source": [
    "def ibarchart(df, x, y, order=None, title=''):\n",
    "    fig = px.bar(df, x=x, y=y, title=title, template='none')\n",
    "\n",
    "    fig.update_traces(marker_color='lightskyblue',\n",
    "                      marker_line_color='black', \n",
    "                      marker_line_width=1)\n",
    "    \n",
    "    fig.update_layout(xaxis={'categoryorder':'array', \n",
    "                             'categoryarray': order})\n",
    "    \n",
    "    fig.show()"
   ]
  },
  {
   "cell_type": "code",
   "execution_count": 21,
   "metadata": {},
   "outputs": [
    {
     "data": {
      "text/html": [
       "<div>\n",
       "<style scoped>\n",
       "    .dataframe tbody tr th:only-of-type {\n",
       "        vertical-align: middle;\n",
       "    }\n",
       "\n",
       "    .dataframe tbody tr th {\n",
       "        vertical-align: top;\n",
       "    }\n",
       "\n",
       "    .dataframe thead th {\n",
       "        text-align: right;\n",
       "    }\n",
       "</style>\n",
       "<table border=\"1\" class=\"dataframe\">\n",
       "  <thead>\n",
       "    <tr style=\"text-align: right;\">\n",
       "      <th></th>\n",
       "      <th>Quantity</th>\n",
       "    </tr>\n",
       "    <tr>\n",
       "      <th>Description</th>\n",
       "      <th></th>\n",
       "    </tr>\n",
       "  </thead>\n",
       "  <tbody>\n",
       "    <tr>\n",
       "      <th>WORLD WAR 2 GLIDERS ASSTD DESIGNS</th>\n",
       "      <td>8078</td>\n",
       "    </tr>\n",
       "    <tr>\n",
       "      <th>POPCORN HOLDER</th>\n",
       "      <td>4909</td>\n",
       "    </tr>\n",
       "    <tr>\n",
       "      <th>JUMBO BAG RED RETROSPOT</th>\n",
       "      <td>4724</td>\n",
       "    </tr>\n",
       "    <tr>\n",
       "      <th>PINK BLUE FELT CRAFT TRINKET BOX</th>\n",
       "      <td>4705</td>\n",
       "    </tr>\n",
       "    <tr>\n",
       "      <th>VICTORIAN GLASS HANGING T-LIGHT</th>\n",
       "      <td>3245</td>\n",
       "    </tr>\n",
       "    <tr>\n",
       "      <th>PAPER CHAIN KIT 50'S CHRISTMAS</th>\n",
       "      <td>3143</td>\n",
       "    </tr>\n",
       "    <tr>\n",
       "      <th>60 CAKE CASES VINTAGE CHRISTMAS</th>\n",
       "      <td>3030</td>\n",
       "    </tr>\n",
       "    <tr>\n",
       "      <th>CHRISTMAS PUDDING TRINKET POT</th>\n",
       "      <td>2726</td>\n",
       "    </tr>\n",
       "    <tr>\n",
       "      <th>RED  HARMONICA IN BOX</th>\n",
       "      <td>2693</td>\n",
       "    </tr>\n",
       "    <tr>\n",
       "      <th>JUMBO BAG PINK POLKADOT</th>\n",
       "      <td>2648</td>\n",
       "    </tr>\n",
       "  </tbody>\n",
       "</table>\n",
       "</div>"
      ],
      "text/plain": [
       "                                   Quantity\n",
       "Description                                \n",
       "WORLD WAR 2 GLIDERS ASSTD DESIGNS      8078\n",
       "POPCORN HOLDER                         4909\n",
       "JUMBO BAG RED RETROSPOT                4724\n",
       "PINK BLUE FELT CRAFT TRINKET BOX       4705\n",
       "VICTORIAN GLASS HANGING T-LIGHT        3245\n",
       "PAPER CHAIN KIT 50'S CHRISTMAS         3143\n",
       "60 CAKE CASES VINTAGE CHRISTMAS        3030\n",
       "CHRISTMAS PUDDING TRINKET POT          2726\n",
       "RED  HARMONICA IN BOX                  2693\n",
       "JUMBO BAG PINK POLKADOT                2648"
      ]
     },
     "execution_count": 21,
     "metadata": {},
     "output_type": "execute_result"
    }
   ],
   "source": [
    "uk_products = df[df.Country == 'United Kingdom'].copy()\n",
    "uk_products['Month'] = uk_products.InvoiceDate.dt.month\n",
    "uk_products = uk_products[['Month', 'Description', 'Quantity']].groupby(['Month', 'Description']).agg({'Quantity':'sum'})\n",
    "uk_products.loc[10].nlargest(10, 'Quantity')"
   ]
  },
  {
   "cell_type": "code",
   "execution_count": 59,
   "metadata": {},
   "outputs": [
    {
     "data": {
      "text/plain": [
       "[('January', 1),\n",
       " ('February', 2),\n",
       " ('March', 3),\n",
       " ('April', 4),\n",
       " ('May', 5),\n",
       " ('June', 6),\n",
       " ('July', 7),\n",
       " ('August', 8),\n",
       " ('September', 9),\n",
       " ('October', 10),\n",
       " ('November', 11),\n",
       " ('December', 12)]"
      ]
     },
     "execution_count": 59,
     "metadata": {},
     "output_type": "execute_result"
    }
   ],
   "source": [
    "import datetime\n",
    "l = uk_products.index.get_level_values('Month').unique().values\n",
    "l = map(lambda x: (datetime.datetime.strptime(str(x), \"%m\"), x), l)\n",
    "l = map(lambda x: (datetime.datetime.strftime(x[0], \"%B\"), x[1]), l)\n",
    "l = list(l)\n",
    "l"
   ]
  },
  {
   "cell_type": "code",
   "execution_count": 64,
   "metadata": {
    "colab": {},
    "colab_type": "code",
    "id": "0Gi_s3lRfHFc"
   },
   "outputs": [
    {
     "data": {
      "application/vnd.jupyter.widget-view+json": {
       "model_id": "5dd6da4a03664149870dfc8d4c057341",
       "version_major": 2,
       "version_minor": 0
      },
      "text/plain": [
       "interactive(children=(Dropdown(description='month', options=(('January', 1), ('February', 2), ('March', 3), ('…"
      ]
     },
     "metadata": {},
     "output_type": "display_data"
    }
   ],
   "source": [
    "@interact(month=l, amount=(5,20))\n",
    "\n",
    "def viz(month, amount):\n",
    "    disp = uk_products.loc[month].nlargest(amount, 'Quantity')\n",
    "    ibarchart(disp.reset_index(), \"Description\", 'Quantity')"
   ]
  },
  {
   "cell_type": "code",
   "execution_count": null,
   "metadata": {},
   "outputs": [],
   "source": []
  }
 ],
 "metadata": {
  "colab": {
   "name": "Time Series Day 2 Afternoon Assignment.ipynb",
   "provenance": []
  },
  "kernelspec": {
   "display_name": "Python 3",
   "language": "python",
   "name": "python3"
  },
  "language_info": {
   "codemirror_mode": {
    "name": "ipython",
    "version": 3
   },
   "file_extension": ".py",
   "mimetype": "text/x-python",
   "name": "python",
   "nbconvert_exporter": "python",
   "pygments_lexer": "ipython3",
   "version": "3.7.6"
  }
 },
 "nbformat": 4,
 "nbformat_minor": 4
}
