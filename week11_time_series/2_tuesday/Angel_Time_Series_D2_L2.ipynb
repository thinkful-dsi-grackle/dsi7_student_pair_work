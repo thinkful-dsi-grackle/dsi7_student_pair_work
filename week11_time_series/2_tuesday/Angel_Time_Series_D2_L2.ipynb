{
 "cells": [
  {
   "cell_type": "markdown",
   "metadata": {
    "colab_type": "text",
    "id": "zUGAqrFLfHFA"
   },
   "source": [
    "# Interactive Time Series Visualization Assignment"
   ]
  },
  {
   "cell_type": "code",
   "execution_count": 1,
   "metadata": {
    "colab": {},
    "colab_type": "code",
    "id": "mWelAIHEfHFE"
   },
   "outputs": [],
   "source": [
    "import pandas as pd\n",
    "import plotly.express as px\n",
    "from ipywidgets import interact"
   ]
  },
  {
   "cell_type": "markdown",
   "metadata": {
    "colab_type": "text",
    "id": "h-8X_cNVfHFI"
   },
   "source": [
    "### Load the Online Retail.xlsx Excel file into a Pandas dataframe."
   ]
  },
  {
   "cell_type": "code",
   "execution_count": 2,
   "metadata": {
    "colab": {},
    "colab_type": "code",
    "id": "ssD3f8tNfHFJ"
   },
   "outputs": [],
   "source": [
    "retail=pd.read_excel('https://tf-assets-prod.s3.amazonaws.com/tf-curric/data-science/Data%20Sets%20Time%20Series%20Analysis/Time%20Series%20-%20Day%202/Online%20Retail.xlsx')"
   ]
  },
  {
   "cell_type": "code",
   "execution_count": 7,
   "metadata": {},
   "outputs": [
    {
     "data": {
      "text/html": [
       "<div>\n",
       "<style scoped>\n",
       "    .dataframe tbody tr th:only-of-type {\n",
       "        vertical-align: middle;\n",
       "    }\n",
       "\n",
       "    .dataframe tbody tr th {\n",
       "        vertical-align: top;\n",
       "    }\n",
       "\n",
       "    .dataframe thead th {\n",
       "        text-align: right;\n",
       "    }\n",
       "</style>\n",
       "<table border=\"1\" class=\"dataframe\">\n",
       "  <thead>\n",
       "    <tr style=\"text-align: right;\">\n",
       "      <th></th>\n",
       "      <th>InvoiceNo</th>\n",
       "      <th>InvoiceDate</th>\n",
       "      <th>StockCode</th>\n",
       "      <th>Description</th>\n",
       "      <th>Quantity</th>\n",
       "      <th>UnitPrice</th>\n",
       "      <th>Revenue</th>\n",
       "      <th>CustomerID</th>\n",
       "      <th>Country</th>\n",
       "    </tr>\n",
       "  </thead>\n",
       "  <tbody>\n",
       "    <tr>\n",
       "      <th>0</th>\n",
       "      <td>536365</td>\n",
       "      <td>2010-12-01 08:26:00</td>\n",
       "      <td>85123A</td>\n",
       "      <td>CREAM HANGING HEART T-LIGHT HOLDER</td>\n",
       "      <td>6</td>\n",
       "      <td>2.55</td>\n",
       "      <td>15.3</td>\n",
       "      <td>17850</td>\n",
       "      <td>United Kingdom</td>\n",
       "    </tr>\n",
       "    <tr>\n",
       "      <th>1</th>\n",
       "      <td>536373</td>\n",
       "      <td>2010-12-01 09:02:00</td>\n",
       "      <td>85123A</td>\n",
       "      <td>CREAM HANGING HEART T-LIGHT HOLDER</td>\n",
       "      <td>6</td>\n",
       "      <td>2.55</td>\n",
       "      <td>15.3</td>\n",
       "      <td>17850</td>\n",
       "      <td>United Kingdom</td>\n",
       "    </tr>\n",
       "    <tr>\n",
       "      <th>2</th>\n",
       "      <td>536375</td>\n",
       "      <td>2010-12-01 09:32:00</td>\n",
       "      <td>85123A</td>\n",
       "      <td>CREAM HANGING HEART T-LIGHT HOLDER</td>\n",
       "      <td>6</td>\n",
       "      <td>2.55</td>\n",
       "      <td>15.3</td>\n",
       "      <td>17850</td>\n",
       "      <td>United Kingdom</td>\n",
       "    </tr>\n",
       "    <tr>\n",
       "      <th>3</th>\n",
       "      <td>536390</td>\n",
       "      <td>2010-12-01 10:19:00</td>\n",
       "      <td>85123A</td>\n",
       "      <td>CREAM HANGING HEART T-LIGHT HOLDER</td>\n",
       "      <td>64</td>\n",
       "      <td>2.55</td>\n",
       "      <td>163.2</td>\n",
       "      <td>17511</td>\n",
       "      <td>United Kingdom</td>\n",
       "    </tr>\n",
       "    <tr>\n",
       "      <th>4</th>\n",
       "      <td>536394</td>\n",
       "      <td>2010-12-01 10:39:00</td>\n",
       "      <td>85123A</td>\n",
       "      <td>CREAM HANGING HEART T-LIGHT HOLDER</td>\n",
       "      <td>32</td>\n",
       "      <td>2.55</td>\n",
       "      <td>81.6</td>\n",
       "      <td>13408</td>\n",
       "      <td>United Kingdom</td>\n",
       "    </tr>\n",
       "  </tbody>\n",
       "</table>\n",
       "</div>"
      ],
      "text/plain": [
       "   InvoiceNo         InvoiceDate StockCode  \\\n",
       "0     536365 2010-12-01 08:26:00    85123A   \n",
       "1     536373 2010-12-01 09:02:00    85123A   \n",
       "2     536375 2010-12-01 09:32:00    85123A   \n",
       "3     536390 2010-12-01 10:19:00    85123A   \n",
       "4     536394 2010-12-01 10:39:00    85123A   \n",
       "\n",
       "                          Description  Quantity  UnitPrice  Revenue  \\\n",
       "0  CREAM HANGING HEART T-LIGHT HOLDER         6       2.55     15.3   \n",
       "1  CREAM HANGING HEART T-LIGHT HOLDER         6       2.55     15.3   \n",
       "2  CREAM HANGING HEART T-LIGHT HOLDER         6       2.55     15.3   \n",
       "3  CREAM HANGING HEART T-LIGHT HOLDER        64       2.55    163.2   \n",
       "4  CREAM HANGING HEART T-LIGHT HOLDER        32       2.55     81.6   \n",
       "\n",
       "   CustomerID         Country  \n",
       "0       17850  United Kingdom  \n",
       "1       17850  United Kingdom  \n",
       "2       17850  United Kingdom  \n",
       "3       17511  United Kingdom  \n",
       "4       13408  United Kingdom  "
      ]
     },
     "execution_count": 7,
     "metadata": {},
     "output_type": "execute_result"
    }
   ],
   "source": [
    "retail.head()"
   ]
  },
  {
   "cell_type": "markdown",
   "metadata": {
    "colab_type": "text",
    "id": "dqk9efG-fHFN"
   },
   "source": [
    "### Create an interactive histogram to explore the distributions of daily (by date) Quantity, UnitPrice, and Revenue. Include a dropdown widget where you can switch between the three fields.\n",
    "\n",
    "**Hint:** You will need to create a Date field and then aggregate on it. The Quantity and Revenue fields should be summed and the UnitPrice field should be averaged (mean)."
   ]
  },
  {
   "cell_type": "code",
   "execution_count": 12,
   "metadata": {},
   "outputs": [],
   "source": [
    "retail['Year']= retail.InvoiceDate.dt.year\n",
    "retail['Month']= retail.InvoiceDate.dt.strftime('%B')\n",
    "retail['Week']= retail.InvoiceDate.dt.isocalendar().week\n",
    "retail['Weekday']= retail.InvoiceDate.dt.strftime('%A')\n",
    "retail['Day']= retail.InvoiceDate.dt.day\n",
    "retail['Date']= retail.InvoiceDate.dt.date\n",
    "retail['Hour']= retail.InvoiceDate.dt.hour\n",
    "retail['Minute']= retail.InvoiceDate.dt.minute"
   ]
  },
  {
   "cell_type": "code",
   "execution_count": 29,
   "metadata": {},
   "outputs": [],
   "source": [
    "grouped_df = retail.groupby('Date', as_index=False).agg({'Quantity':'sum', 'Revenue':'sum','UnitPrice':'mean'})\n",
    "#grouped_df"
   ]
  },
  {
   "cell_type": "code",
   "execution_count": 32,
   "metadata": {},
   "outputs": [
    {
     "data": {
      "application/vnd.jupyter.widget-view+json": {
       "model_id": "97f8f3b00f47417ab12b52a659774366",
       "version_major": 2,
       "version_minor": 0
      },
      "text/plain": [
       "interactive(children=(Dropdown(description='Selection', options=('Quantity', 'UnitPrice', 'Revenue'), value='Q…"
      ]
     },
     "metadata": {},
     "output_type": "display_data"
    }
   ],
   "source": [
    "my_dropdown = ['Quantity', 'UnitPrice', 'Revenue']\n",
    "\n",
    "@interact(Selection = my_dropdown)\n",
    "\n",
    "def ihistogram(Selection, title='Distribution Of Metrics'):\n",
    "    grouped_df = retail.groupby('Date', as_index=False).agg({'Quantity':'sum', 'Revenue':'sum','UnitPrice':'mean'})\n",
    "    \n",
    "    fig = px.histogram(grouped_df, \n",
    "                       x=Selection, \n",
    "                       title=title,\n",
    "                      template='none').update(layout=dict(title=dict(x=0.5)))\n",
    "    fig.update_yaxes(title_text='Number of Records')\n",
    "    fig.update_traces(marker_color='lightskyblue',\n",
    "                  marker_line_color='black',\n",
    "                  marker_line_width=1)\n",
    "    fig.show()"
   ]
  },
  {
   "cell_type": "markdown",
   "metadata": {
    "colab_type": "text",
    "id": "LalZadscfHFR"
   },
   "source": [
    "### Create an interactive line chart where you can explore Quantity and Revenue by day (date) for each country. Include two dropdown widgets - one to choose between the Quantity and Revenue fields and the other to choose the Country."
   ]
  },
  {
   "cell_type": "code",
   "execution_count": 40,
   "metadata": {},
   "outputs": [],
   "source": [
    "#np.sort(retail.Country.unique())"
   ]
  },
  {
   "cell_type": "code",
   "execution_count": null,
   "metadata": {},
   "outputs": [],
   "source": [
    "@interact(field=['Quantity', 'Revenue'], country=np.sort(df['Country'].unique()))\n",
    "\n",
    "def daily_line_country(field, country):\n",
    "    agg_country = retail.loc[df['Country']==country].groupby(['Date'], as_index=False).agg({'Quantity':'sum', 'Revenue':'sum'})\n",
    "    fig = px.line(agg_country, 'Date', field, title=f'Plot of daily {field} in {country}', template='none')\n",
    "    fig.show()"
   ]
  },
  {
   "cell_type": "code",
   "execution_count": 52,
   "metadata": {},
   "outputs": [
    {
     "data": {
      "application/vnd.jupyter.widget-view+json": {
       "model_id": "79bec811a0814e8ca00b29ec5a75315f",
       "version_major": 2,
       "version_minor": 0
      },
      "text/plain": [
       "interactive(children=(Dropdown(description='Metric', options=('Quantity', 'Revenue'), value='Quantity'), Dropd…"
      ]
     },
     "metadata": {},
     "output_type": "display_data"
    }
   ],
   "source": [
    "\n",
    "metrics = ['Quantity', 'Revenue']\n",
    "countries = retail.Country.unique()\n",
    "\n",
    "@interact(Metric=metrics, Country=countries)\n",
    "\n",
    "def plot_line_chart(Metric, Country):\n",
    "    df_filtered = retail.loc[lambda x: x.Country == Country]\n",
    "    df_agg = df_filtered.groupby('Date').sum()\n",
    "    fig = px.line(df_agg, x=df_agg.index, y=Metric)\n",
    "    fig.show()"
   ]
  },
  {
   "cell_type": "code",
   "execution_count": 69,
   "metadata": {
    "colab": {},
    "colab_type": "code",
    "id": "6JSMmEhPfHFS"
   },
   "outputs": [
    {
     "data": {
      "application/vnd.jupyter.widget-view+json": {
       "model_id": "56a666325a1145faba68b067d3d1cee1",
       "version_major": 2,
       "version_minor": 0
      },
      "text/plain": [
       "interactive(children=(Dropdown(description='metric_field', options=('Quantity', 'Revenue'), value='Quantity'),…"
      ]
     },
     "metadata": {},
     "output_type": "display_data"
    }
   ],
   "source": [
    "metrics = ['Quantity', 'Revenue']\n",
    "countries = np.sort(retail.Country.unique())\n",
    "\n",
    "@interact(metric_field=metrics, country_field=countries)\n",
    "\n",
    "def plot_line_chart(metric_field, country_field, Title='Distribution of Metrics by Country'):\n",
    "    country_df = retail.loc[retail.Country == country_field].groupby('Date', as_index=False).sum()\n",
    "    \n",
    "    fig = px.line(country_df, \n",
    "                  x= country_df.index, \n",
    "                  y= metric_field,\n",
    "                  title=Title,\n",
    "                  template='none').update(layout=dict(title=dict(x=0.5))\n",
    "                                         )\n",
    "    fig.update_yaxes(title_text='Number of Records')\n",
    "    fig.update_traces(marker_color='lightskyblue',\n",
    "                  marker_line_color='black',\n",
    "                  marker_line_width=1)\n",
    "    fig.show()"
   ]
  },
  {
   "cell_type": "markdown",
   "metadata": {
    "colab_type": "text",
    "id": "2HGyfA4rfHFV"
   },
   "source": [
    "### Create an interactive scatter plot showing the relationships between daily Quantity, UnitPrice, and Revenue for the United Kingdom. Include two dropdown boxes that let you choose between the 3 fields - one for the x axis and one for the y axis of your scatter plot. Size the data points according to Revenue."
   ]
  },
  {
   "cell_type": "code",
   "execution_count": 71,
   "metadata": {},
   "outputs": [],
   "source": [
    "#retail.loc[retail.Country == 'United Kingdom'].groupby('Date', as_index=False).agg({'Quantity':'sum', 'Revenue':'sum'})"
   ]
  },
  {
   "cell_type": "code",
   "execution_count": 75,
   "metadata": {
    "colab": {},
    "colab_type": "code",
    "id": "b8vu_sXifHFX"
   },
   "outputs": [
    {
     "data": {
      "application/vnd.jupyter.widget-view+json": {
       "model_id": "d92b3e5b632348c7ace08ab943aa38b1",
       "version_major": 2,
       "version_minor": 0
      },
      "text/plain": [
       "interactive(children=(Dropdown(description='x_axis', options=('Quantity', 'UnitPrice', 'Revenue'), value='Quan…"
      ]
     },
     "metadata": {},
     "output_type": "display_data"
    }
   ],
   "source": [
    "x_metrics = ['Quantity', 'UnitPrice', 'Revenue']\n",
    "y_metrics = ['Quantity', 'UnitPrice', 'Revenue']\n",
    "\n",
    "@interact(x_axis=x_metrics, y_axis=y_metrics)\n",
    "\n",
    "def scatter_plot(x_axis, y_axis, Title='Distribution of Metrics by Country'):\n",
    "    uk_df = retail.loc[retail.Country == 'United Kingdom'].groupby('Date', as_index=False).agg({'Quantity':'sum', 'Revenue':'sum', 'UnitPrice':'mean'})\n",
    "\n",
    "    fig = px.scatter(uk_df, \n",
    "                     x= x_axis, \n",
    "                     y= y_axis, \n",
    "                     size= 'Revenue', \n",
    "                     title=Title, \n",
    "                     template='none').update(layout=dict(title=dict(x=0.5))\n",
    "                                            )\n",
    "    fig.update_yaxes(title_text='Number of Records')\n",
    "    fig.update_traces(marker_color='lightskyblue',\n",
    "    marker_line_color='black',\n",
    "    marker_line_width=1)\n",
    "    fig.show()"
   ]
  },
  {
   "cell_type": "markdown",
   "metadata": {
    "colab_type": "text",
    "id": "KYMEsgb7fHFb"
   },
   "source": [
    "### Create a bar chart showing the top X products sold (by quantity) in the United Kingdom in a specific month. Use a dropdown box to select the month name and a slider to show the top X products. The range for X should be from 5 to 25. Make sure the bars are sorted in descending order according to their total quantity sold for the month.\n",
    "\n",
    "Bonus points if you can figure out how to ensure that the month names in the dropdown appear in their correct order (January, February, March, April, etc.)."
   ]
  },
  {
   "cell_type": "code",
   "execution_count": 89,
   "metadata": {
    "colab": {},
    "colab_type": "code",
    "id": "0Gi_s3lRfHFc"
   },
   "outputs": [
    {
     "data": {
      "application/vnd.jupyter.widget-view+json": {
       "model_id": "7d3f72fd7e824e949da144c4b9ca4e84",
       "version_major": 2,
       "version_minor": 0
      },
      "text/plain": [
       "interactive(children=(IntSlider(value=15, description='top_products', max=25, min=5), Dropdown(description='mo…"
      ]
     },
     "metadata": {},
     "output_type": "display_data"
    }
   ],
   "source": [
    "field = [\n",
    "    'January', \n",
    "    'February', \n",
    "    'March', \n",
    "    'April', \n",
    "    'May', \n",
    "    'June', \n",
    "    'July', \n",
    "    'August', \n",
    "    'September', \n",
    "    'October', \n",
    "    'November', \n",
    "    'December'\n",
    "]\n",
    "\n",
    "@interact(top_products=(5,25), month=field)\n",
    "\n",
    "def plot_bar_chart(top_products, month, Title='Top Product Sold by Month in UK'):\n",
    "    uk_monthly_df = retail.loc[\n",
    "        retail.Country == 'United Kingdom'\n",
    "    ].groupby('Description').sum().sort_values('Quantity', ascending=False).head(top_products)\n",
    "    \n",
    "    fig = px.bar(uk_monthly_df, \n",
    "                     x= 'Quantity', \n",
    "                     color= uk_monthly_df.index,\n",
    "                     title=Title, \n",
    "                     template='none').update(layout=dict(title=dict(x=0.5))\n",
    "                                            )\n",
    "    fig.update_yaxes(title_text='Number of Records')\n",
    "    fig.update_traces(marker_color='lightskyblue',\n",
    "    marker_line_color='black',\n",
    "    marker_line_width=1)\n",
    "    fig.show()"
   ]
  },
  {
   "cell_type": "code",
   "execution_count": null,
   "metadata": {},
   "outputs": [],
   "source": []
  }
 ],
 "metadata": {
  "colab": {
   "name": "Time Series Day 2 Afternoon Assignment.ipynb",
   "provenance": []
  },
  "kernelspec": {
   "display_name": "Python 3",
   "language": "python",
   "name": "python3"
  },
  "language_info": {
   "codemirror_mode": {
    "name": "ipython",
    "version": 3
   },
   "file_extension": ".py",
   "mimetype": "text/x-python",
   "name": "python",
   "nbconvert_exporter": "python",
   "pygments_lexer": "ipython3",
   "version": "3.7.6"
  },
  "toc": {
   "base_numbering": 1,
   "nav_menu": {},
   "number_sections": true,
   "sideBar": true,
   "skip_h1_title": false,
   "title_cell": "Table of Contents",
   "title_sidebar": "Contents",
   "toc_cell": false,
   "toc_position": {},
   "toc_section_display": true,
   "toc_window_display": false
  },
  "varInspector": {
   "cols": {
    "lenName": 16,
    "lenType": 16,
    "lenVar": 40
   },
   "kernels_config": {
    "python": {
     "delete_cmd_postfix": "",
     "delete_cmd_prefix": "del ",
     "library": "var_list.py",
     "varRefreshCmd": "print(var_dic_list())"
    },
    "r": {
     "delete_cmd_postfix": ") ",
     "delete_cmd_prefix": "rm(",
     "library": "var_list.r",
     "varRefreshCmd": "cat(var_dic_list()) "
    }
   },
   "types_to_exclude": [
    "module",
    "function",
    "builtin_function_or_method",
    "instance",
    "_Feature"
   ],
   "window_display": false
  }
 },
 "nbformat": 4,
 "nbformat_minor": 1
}
