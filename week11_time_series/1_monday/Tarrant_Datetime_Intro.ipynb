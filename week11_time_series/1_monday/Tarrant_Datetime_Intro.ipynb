{
  "nbformat": 4,
  "nbformat_minor": 0,
  "metadata": {
    "colab": {
      "name": "Tarrant_Datetime_Intro.ipynb",
      "provenance": []
    },
    "kernelspec": {
      "name": "python3",
      "display_name": "Python 3"
    }
  },
  "cells": [
    {
      "cell_type": "code",
      "metadata": {
        "id": "iGU1Iric_iPc"
      },
      "source": [
        "from datetime import datetime as dt"
      ],
      "execution_count": 1,
      "outputs": []
    },
    {
      "cell_type": "markdown",
      "metadata": {
        "id": "NltOVpLmAMv0"
      },
      "source": [
        "# Define a variable and assign it a date string value of ‘10/20/2019’."
      ]
    },
    {
      "cell_type": "code",
      "metadata": {
        "id": "QaF3TXGYAP9z"
      },
      "source": [
        "date = '10/20/2019'"
      ],
      "execution_count": 2,
      "outputs": []
    },
    {
      "cell_type": "markdown",
      "metadata": {
        "id": "oXAoafizAZ18"
      },
      "source": [
        "# Convert the date string to a datetime object."
      ]
    },
    {
      "cell_type": "code",
      "metadata": {
        "colab": {
          "base_uri": "https://localhost:8080/"
        },
        "id": "IBU1TOHPAaBW",
        "outputId": "84773d91-d6a7-4cc9-ffd0-261fcd862a9f"
      },
      "source": [
        "converted = dt.strptime(date, '%m/%d/%Y')\n",
        "print(converted)"
      ],
      "execution_count": 3,
      "outputs": [
        {
          "output_type": "stream",
          "text": [
            "2019-10-20 00:00:00\n"
          ],
          "name": "stdout"
        }
      ]
    },
    {
      "cell_type": "code",
      "metadata": {
        "colab": {
          "base_uri": "https://localhost:8080/"
        },
        "id": "mepL8-cWA135",
        "outputId": "d3408b0a-4c4f-496d-cc53-3e39684ee4a4"
      },
      "source": [
        "type(converted)"
      ],
      "execution_count": 4,
      "outputs": [
        {
          "output_type": "execute_result",
          "data": {
            "text/plain": [
              "datetime.datetime"
            ]
          },
          "metadata": {
            "tags": []
          },
          "execution_count": 4
        }
      ]
    },
    {
      "cell_type": "markdown",
      "metadata": {
        "id": "x_5hCKV4BC3c"
      },
      "source": [
        "# Extract the month, day, and year from the datetime object."
      ]
    },
    {
      "cell_type": "code",
      "metadata": {
        "colab": {
          "base_uri": "https://localhost:8080/"
        },
        "id": "n29-9WRsBDBV",
        "outputId": "eb55807c-3b7c-43dc-e471-089a29170238"
      },
      "source": [
        "converted.month"
      ],
      "execution_count": 5,
      "outputs": [
        {
          "output_type": "execute_result",
          "data": {
            "text/plain": [
              "10"
            ]
          },
          "metadata": {
            "tags": []
          },
          "execution_count": 5
        }
      ]
    },
    {
      "cell_type": "code",
      "metadata": {
        "colab": {
          "base_uri": "https://localhost:8080/"
        },
        "id": "gMLpo-OeBJp8",
        "outputId": "aeafe39a-2b21-4407-e319-5a06e7070c45"
      },
      "source": [
        "converted.day"
      ],
      "execution_count": 6,
      "outputs": [
        {
          "output_type": "execute_result",
          "data": {
            "text/plain": [
              "20"
            ]
          },
          "metadata": {
            "tags": []
          },
          "execution_count": 6
        }
      ]
    },
    {
      "cell_type": "code",
      "metadata": {
        "colab": {
          "base_uri": "https://localhost:8080/"
        },
        "id": "90r6ofgGBJ0C",
        "outputId": "b248bef3-4cc3-4a86-db9c-fbd31025fd33"
      },
      "source": [
        "converted.year"
      ],
      "execution_count": 7,
      "outputs": [
        {
          "output_type": "execute_result",
          "data": {
            "text/plain": [
              "2019"
            ]
          },
          "metadata": {
            "tags": []
          },
          "execution_count": 7
        }
      ]
    },
    {
      "cell_type": "markdown",
      "metadata": {
        "id": "Awr4XwxrBQZ_"
      },
      "source": [
        "# Reformat the date string to YYYY-MM-DD."
      ]
    },
    {
      "cell_type": "code",
      "metadata": {
        "colab": {
          "base_uri": "https://localhost:8080/"
        },
        "id": "TDr-Pd-GBQj3",
        "outputId": "31fbf4e7-7408-44ad-bc97-340b72e8e422"
      },
      "source": [
        "reformatted = str(dt.strftime(converted, '%Y-%m-%d'))\n",
        "print(reformatted)"
      ],
      "execution_count": 13,
      "outputs": [
        {
          "output_type": "stream",
          "text": [
            "2019-10-20\n"
          ],
          "name": "stdout"
        }
      ]
    },
    {
      "cell_type": "code",
      "metadata": {
        "colab": {
          "base_uri": "https://localhost:8080/"
        },
        "id": "EiZIlRpVCKWz",
        "outputId": "ecc1d206-5558-4ac3-bacb-bc6757d8f746"
      },
      "source": [
        "reformatted = dt.strptime(reformatted, '%Y-%m-%d')\n",
        "print(reformatted)"
      ],
      "execution_count": 15,
      "outputs": [
        {
          "output_type": "stream",
          "text": [
            "2019-10-20 00:00:00\n"
          ],
          "name": "stdout"
        }
      ]
    },
    {
      "cell_type": "markdown",
      "metadata": {
        "id": "siTUvmDNB9kn"
      },
      "source": [
        "# Extract the weekday number for the datetime object."
      ]
    },
    {
      "cell_type": "code",
      "metadata": {
        "colab": {
          "base_uri": "https://localhost:8080/"
        },
        "id": "xiWTLORWB9te",
        "outputId": "57223748-e067-41e5-e6ef-036866649453"
      },
      "source": [
        "reformatted.weekday()"
      ],
      "execution_count": 16,
      "outputs": [
        {
          "output_type": "execute_result",
          "data": {
            "text/plain": [
              "6"
            ]
          },
          "metadata": {
            "tags": []
          },
          "execution_count": 16
        }
      ]
    },
    {
      "cell_type": "markdown",
      "metadata": {
        "id": "F1NgF4GUC0Um"
      },
      "source": [
        "# Get the datetime of the same weekday number 6 weeks into the future."
      ]
    },
    {
      "cell_type": "code",
      "metadata": {
        "colab": {
          "base_uri": "https://localhost:8080/"
        },
        "id": "pPpqnNDwC0fT",
        "outputId": "04456adc-e30f-4979-d2f9-e793c76c9c6b"
      },
      "source": [
        "from datetime import timedelta\n",
        "\n",
        "six_weeks_from_now = reformatted + timedelta(weeks=6)\n",
        "print(six_weeks_from_now)"
      ],
      "execution_count": 18,
      "outputs": [
        {
          "output_type": "stream",
          "text": [
            "2019-12-01 00:00:00\n"
          ],
          "name": "stdout"
        }
      ]
    },
    {
      "cell_type": "markdown",
      "metadata": {
        "id": "r4Dmg8yeDZHj"
      },
      "source": [
        "# Retrieve the number of minutes between the original datetime and the datetime for the same weekday 6 weeks in the future. Hint: Try subtracting datetimes and then extracting the minutes from the difference."
      ]
    },
    {
      "cell_type": "code",
      "metadata": {
        "colab": {
          "base_uri": "https://localhost:8080/"
        },
        "id": "anp-Se5ADZST",
        "outputId": "5d323826-b0c6-4742-d772-406ee8a1cbdb"
      },
      "source": [
        "minutes = six_weeks_from_now - reformatted\n",
        "min_six_weeks = minutes.days * 1440\n",
        "print(min_six_weeks)"
      ],
      "execution_count": 22,
      "outputs": [
        {
          "output_type": "stream",
          "text": [
            "60480\n"
          ],
          "name": "stdout"
        }
      ]
    },
    {
      "cell_type": "markdown",
      "metadata": {
        "id": "g-keZj8C_upq"
      },
      "source": [
        "# Use what you have learned to retrieve the number of weeks that are in years 2015 through 2020 respectively. Are they always the same? Why or why not?"
      ]
    },
    {
      "cell_type": "code",
      "metadata": {
        "colab": {
          "base_uri": "https://localhost:8080/"
        },
        "id": "c8_QGJLZDciF",
        "outputId": "6f5cf4e5-5101-461c-d131-a272161c1bb6"
      },
      "source": [
        "total_weeks = {}\n",
        "years = [2015,2016,2017,2018,2019,2020]\n",
        "\n",
        "for y in years:\n",
        "  year = dt(y,12,31)\n",
        "  total_weeks[y] = year.strftime('%U')\n",
        "\n",
        "print(total_weeks)"
      ],
      "execution_count": 36,
      "outputs": [
        {
          "output_type": "stream",
          "text": [
            "{2015: '52', 2016: '52', 2017: '53', 2018: '52', 2019: '52', 2020: '52'}\n"
          ],
          "name": "stdout"
        }
      ]
    },
    {
      "cell_type": "code",
      "metadata": {
        "colab": {
          "base_uri": "https://localhost:8080/"
        },
        "id": "tLMeTryCI9LC",
        "outputId": "c6cd6086-b1b9-490e-c01c-f27d90e3fe6e"
      },
      "source": [
        "start_of_2017 = dt(2017,1,1)\n",
        "start_of_2017.weekday()"
      ],
      "execution_count": 39,
      "outputs": [
        {
          "output_type": "execute_result",
          "data": {
            "text/plain": [
              "6"
            ]
          },
          "metadata": {
            "tags": []
          },
          "execution_count": 39
        }
      ]
    },
    {
      "cell_type": "code",
      "metadata": {
        "colab": {
          "base_uri": "https://localhost:8080/"
        },
        "id": "K6hQXx67JkoV",
        "outputId": "85e19b4c-7b01-4596-d852-dd32c2e7bef4"
      },
      "source": [
        "start_of_2017 = dt(2017,12,31)\n",
        "start_of_2017.weekday()"
      ],
      "execution_count": 40,
      "outputs": [
        {
          "output_type": "execute_result",
          "data": {
            "text/plain": [
              "6"
            ]
          },
          "metadata": {
            "tags": []
          },
          "execution_count": 40
        }
      ]
    },
    {
      "cell_type": "markdown",
      "metadata": {
        "id": "sBk90ks7Isqa"
      },
      "source": [
        "They are not the same because the week number starts on Sunday. 2017's last day of the year is Sunday which is the day that starts a new week. So that last Sunday in 2017 counts as an entire week. So that's why 2017 has 53 weeks according to the datetime python library"
      ]
    }
  ]
}