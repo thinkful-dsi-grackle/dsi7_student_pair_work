{
  "nbformat": 4,
  "nbformat_minor": 0,
  "metadata": {
    "colab": {
      "name": "TimeSeries_Day_1_L1_Assignment_Barrett.ipynb",
      "provenance": []
    },
    "kernelspec": {
      "name": "python3",
      "display_name": "Python 3"
    }
  },
  "cells": [
    {
      "cell_type": "markdown",
      "metadata": {
        "id": "bhG6CcqFyEWZ"
      },
      "source": [
        "#Assignment- Datetime Library\n",
        "\n",
        "https://strftime.org/\n"
      ]
    },
    {
      "cell_type": "code",
      "metadata": {
        "id": "f2Ucbkesx3gU"
      },
      "source": [
        "from datetime import datetime as dt, timedelta"
      ],
      "execution_count": 1,
      "outputs": []
    },
    {
      "cell_type": "markdown",
      "metadata": {
        "id": "-0gbA0vlzpNp"
      },
      "source": [
        "Define a variable and assign it a date string value of `10/20/2019`."
      ]
    },
    {
      "cell_type": "code",
      "metadata": {
        "id": "bAnwzF1-ynqG"
      },
      "source": [
        "X = '10/20/2019'"
      ],
      "execution_count": 2,
      "outputs": []
    },
    {
      "cell_type": "markdown",
      "metadata": {
        "id": "DZ6jgY96z1Kk"
      },
      "source": [
        "Convert the date string to a datetime object."
      ]
    },
    {
      "cell_type": "code",
      "metadata": {
        "id": "RwsDsBkays2h"
      },
      "source": [
        "converted = dt.strptime(X, '%m/%d/%Y')"
      ],
      "execution_count": 3,
      "outputs": []
    },
    {
      "cell_type": "code",
      "metadata": {
        "colab": {
          "base_uri": "https://localhost:8080/"
        },
        "id": "TkeCSz0Ny9xU",
        "outputId": "97fe9b29-408a-45a1-f419-7dcf2d6f4e91"
      },
      "source": [
        "converted"
      ],
      "execution_count": 4,
      "outputs": [
        {
          "output_type": "execute_result",
          "data": {
            "text/plain": [
              "datetime.datetime(2019, 10, 20, 0, 0)"
            ]
          },
          "metadata": {
            "tags": []
          },
          "execution_count": 4
        }
      ]
    },
    {
      "cell_type": "markdown",
      "metadata": {
        "id": "Obxb5opOz4ys"
      },
      "source": [
        "Extract the month, day, and year from the datetime object."
      ]
    },
    {
      "cell_type": "code",
      "metadata": {
        "colab": {
          "base_uri": "https://localhost:8080/"
        },
        "id": "6j4f5pP6zLKi",
        "outputId": "8262e4fe-4fcb-4912-d2b1-0dde99edff28"
      },
      "source": [
        "converted.month, converted.day, converted.year"
      ],
      "execution_count": 5,
      "outputs": [
        {
          "output_type": "execute_result",
          "data": {
            "text/plain": [
              "(10, 20, 2019)"
            ]
          },
          "metadata": {
            "tags": []
          },
          "execution_count": 5
        }
      ]
    },
    {
      "cell_type": "markdown",
      "metadata": {
        "id": "81013cpV0Jpy"
      },
      "source": [
        "Reformat the date string to YYYY-MM-DD."
      ]
    },
    {
      "cell_type": "code",
      "metadata": {
        "colab": {
          "base_uri": "https://localhost:8080/",
          "height": 35
        },
        "id": "e-gJ2pFezVCs",
        "outputId": "f2328dca-f4b8-4f1a-cfb9-17ac4e57be17"
      },
      "source": [
        "formatted = converted.strftime('%Y-%m-%d')\n",
        "# formatted = dt.strftime(converted, '%Y-%m-%d')\n",
        "formatted"
      ],
      "execution_count": 6,
      "outputs": [
        {
          "output_type": "execute_result",
          "data": {
            "application/vnd.google.colaboratory.intrinsic+json": {
              "type": "string"
            },
            "text/plain": [
              "'2019-10-20'"
            ]
          },
          "metadata": {
            "tags": []
          },
          "execution_count": 6
        }
      ]
    },
    {
      "cell_type": "markdown",
      "metadata": {
        "id": "ImlFX78K0Mdd"
      },
      "source": [
        "Extract the weekday number for the datetime object."
      ]
    },
    {
      "cell_type": "code",
      "metadata": {
        "colab": {
          "base_uri": "https://localhost:8080/"
        },
        "id": "zqD1HQ7azlQn",
        "outputId": "e4519290-54d6-42ba-d143-b4b5a3235fae"
      },
      "source": [
        "converted.weekday()"
      ],
      "execution_count": 7,
      "outputs": [
        {
          "output_type": "execute_result",
          "data": {
            "text/plain": [
              "6"
            ]
          },
          "metadata": {
            "tags": []
          },
          "execution_count": 7
        }
      ]
    },
    {
      "cell_type": "code",
      "metadata": {
        "colab": {
          "base_uri": "https://localhost:8080/",
          "height": 35
        },
        "id": "T4i-Kuel5ek0",
        "outputId": "3017b1f9-ef4e-476e-9962-0ebf07fef527"
      },
      "source": [
        "converted.strftime('%w')"
      ],
      "execution_count": 8,
      "outputs": [
        {
          "output_type": "execute_result",
          "data": {
            "application/vnd.google.colaboratory.intrinsic+json": {
              "type": "string"
            },
            "text/plain": [
              "'0'"
            ]
          },
          "metadata": {
            "tags": []
          },
          "execution_count": 8
        }
      ]
    },
    {
      "cell_type": "code",
      "metadata": {
        "colab": {
          "base_uri": "https://localhost:8080/",
          "height": 35
        },
        "id": "6VarH4vW006M",
        "outputId": "0dac95b8-c5de-419a-a4f5-8f8435ada4a1"
      },
      "source": [
        "converted.strftime(\"%A\")"
      ],
      "execution_count": 9,
      "outputs": [
        {
          "output_type": "execute_result",
          "data": {
            "application/vnd.google.colaboratory.intrinsic+json": {
              "type": "string"
            },
            "text/plain": [
              "'Sunday'"
            ]
          },
          "metadata": {
            "tags": []
          },
          "execution_count": 9
        }
      ]
    },
    {
      "cell_type": "markdown",
      "metadata": {
        "id": "VM2--s_N0M50"
      },
      "source": [
        "Get the datetime of the same weekday number 6 weeks into the future."
      ]
    },
    {
      "cell_type": "code",
      "metadata": {
        "colab": {
          "base_uri": "https://localhost:8080/"
        },
        "id": "XF7NUriO0NRU",
        "outputId": "68e6255b-c9cc-4110-cd70-9f5f26fdf142"
      },
      "source": [
        "six_weeks = converted + timedelta(weeks=6)\n",
        "six_weeks"
      ],
      "execution_count": 10,
      "outputs": [
        {
          "output_type": "execute_result",
          "data": {
            "text/plain": [
              "datetime.datetime(2019, 12, 1, 0, 0)"
            ]
          },
          "metadata": {
            "tags": []
          },
          "execution_count": 10
        }
      ]
    },
    {
      "cell_type": "code",
      "metadata": {
        "colab": {
          "base_uri": "https://localhost:8080/"
        },
        "id": "dzV25-C84RLk",
        "outputId": "04004dd6-bc02-44d7-b608-a16e5c5d4f23"
      },
      "source": [
        "six_weeks.weekday()"
      ],
      "execution_count": 11,
      "outputs": [
        {
          "output_type": "execute_result",
          "data": {
            "text/plain": [
              "6"
            ]
          },
          "metadata": {
            "tags": []
          },
          "execution_count": 11
        }
      ]
    },
    {
      "cell_type": "markdown",
      "metadata": {
        "id": "1rFRwbsj0NuL"
      },
      "source": [
        "Retrieve the number of minutes between the original datetime and the datetime for the same weekday 6 weeks in the future.\n",
        "\n",
        "Hint: Try subtracting datetimes and then extracting the minutes from the difference."
      ]
    },
    {
      "cell_type": "code",
      "metadata": {
        "colab": {
          "base_uri": "https://localhost:8080/"
        },
        "id": "VCTntslm0OF4",
        "outputId": "1ed6705e-8f4c-40cd-989c-d9addcf50913"
      },
      "source": [
        "timedelta(weeks=6).days*24*60"
      ],
      "execution_count": 12,
      "outputs": [
        {
          "output_type": "execute_result",
          "data": {
            "text/plain": [
              "60480"
            ]
          },
          "metadata": {
            "tags": []
          },
          "execution_count": 12
        }
      ]
    },
    {
      "cell_type": "code",
      "metadata": {
        "colab": {
          "base_uri": "https://localhost:8080/"
        },
        "id": "1gDwGfeXDoDc",
        "outputId": "d0c96cca-c8d7-4b1a-abda-9fb02ae3085c"
      },
      "source": [
        "timedelta(weeks=6).total_seconds()/60"
      ],
      "execution_count": 13,
      "outputs": [
        {
          "output_type": "execute_result",
          "data": {
            "text/plain": [
              "60480.0"
            ]
          },
          "metadata": {
            "tags": []
          },
          "execution_count": 13
        }
      ]
    },
    {
      "cell_type": "markdown",
      "metadata": {
        "id": "sJAIGIEu0OZ6"
      },
      "source": [
        "Use what you have learned to retrieve the number of weeks that are in years 2015 through 2020 respectively. Are they always the same? Why or why not?"
      ]
    },
    {
      "cell_type": "code",
      "metadata": {
        "colab": {
          "base_uri": "https://localhost:8080/"
        },
        "id": "qlT8Ij-L8-AT",
        "outputId": "a1fcd85e-cc46-49cf-fea6-e8973a03382d"
      },
      "source": [
        "for year in range(2015,2021):\n",
        "  day=31\n",
        "  last_date = dt(year=year, month=12, day=day)\n",
        "\n",
        "  while last_date.weekday() < 3:\n",
        "    day -= 1\n",
        "    last_date = dt(year=year, month=12, day=day)\n",
        "  \n",
        "  print(f'The year {year} had {last_date.isocalendar()[1]} total weeks')\n"
      ],
      "execution_count": 14,
      "outputs": [
        {
          "output_type": "stream",
          "text": [
            "The year 2015 had 53 total weeks\n",
            "The year 2016 had 52 total weeks\n",
            "The year 2017 had 52 total weeks\n",
            "The year 2018 had 52 total weeks\n",
            "The year 2019 had 52 total weeks\n",
            "The year 2020 had 53 total weeks\n"
          ],
          "name": "stdout"
        }
      ]
    },
    {
      "cell_type": "code",
      "metadata": {
        "colab": {
          "base_uri": "https://localhost:8080/"
        },
        "id": "cQlQTOWWACD7",
        "outputId": "3f398574-13e5-4cc0-8aaa-42b254d1cb22"
      },
      "source": [
        "for year in range(2015,2021):\n",
        "  initial_date = dt(year,1,1)\n",
        "  final_date = dt(year+1,1,1)\n",
        "  date_diff = final_date-initial_date\n",
        "  print(date_diff.days/7)"
      ],
      "execution_count": 15,
      "outputs": [
        {
          "output_type": "stream",
          "text": [
            "52.142857142857146\n",
            "52.285714285714285\n",
            "52.142857142857146\n",
            "52.142857142857146\n",
            "52.142857142857146\n",
            "52.285714285714285\n"
          ],
          "name": "stdout"
        }
      ]
    },
    {
      "cell_type": "markdown",
      "metadata": {
        "id": "6mKU_1EgAoUQ"
      },
      "source": [
        "The number of weeks differ for the following reasons:\n",
        "\n",
        "1. 365 days in a year doesn't evenly divide by 7.\n",
        "2. Also, leap years contain an extra day, so 2016 and 2020 have 366 days in total.\n",
        "3. ISO calendar initializes the first week of the year from the first Thursday of the year. So, if dates at the end year are in the same week as the first Thursday of the next year, these dates are included in the next year's first week. "
      ]
    },
    {
      "cell_type": "markdown",
      "metadata": {
        "id": "1cDbosdr45uk"
      },
      "source": [
        "#Lecture Notes\n",
        "\n",
        "https://strftime.org/"
      ]
    },
    {
      "cell_type": "code",
      "metadata": {
        "id": "hMeMTVop3xAN"
      },
      "source": [
        "today = dt.now()"
      ],
      "execution_count": 16,
      "outputs": []
    },
    {
      "cell_type": "code",
      "metadata": {
        "colab": {
          "base_uri": "https://localhost:8080/"
        },
        "id": "mZtEGEBM3yVh",
        "outputId": "7ebda83e-8edb-485c-b36a-d7053fc1782d"
      },
      "source": [
        "today"
      ],
      "execution_count": 17,
      "outputs": [
        {
          "output_type": "execute_result",
          "data": {
            "text/plain": [
              "datetime.datetime(2020, 12, 14, 16, 31, 2, 497623)"
            ]
          },
          "metadata": {
            "tags": []
          },
          "execution_count": 17
        }
      ]
    },
    {
      "cell_type": "code",
      "metadata": {
        "id": "PWXNwkc03zEu"
      },
      "source": [
        "date_string = '2019-10-01'"
      ],
      "execution_count": 18,
      "outputs": []
    },
    {
      "cell_type": "code",
      "metadata": {
        "colab": {
          "base_uri": "https://localhost:8080/"
        },
        "id": "B70okVqR36dc",
        "outputId": "81f18a62-455d-40b5-ae50-9737706a9620"
      },
      "source": [
        "date_converted = dt.strptime(date_string, '%Y-%m-%d')\n",
        "date_converted"
      ],
      "execution_count": 19,
      "outputs": [
        {
          "output_type": "execute_result",
          "data": {
            "text/plain": [
              "datetime.datetime(2019, 10, 1, 0, 0)"
            ]
          },
          "metadata": {
            "tags": []
          },
          "execution_count": 19
        }
      ]
    },
    {
      "cell_type": "code",
      "metadata": {
        "id": "4faY2FkR4luo"
      },
      "source": [
        ""
      ],
      "execution_count": 19,
      "outputs": []
    }
  ]
}