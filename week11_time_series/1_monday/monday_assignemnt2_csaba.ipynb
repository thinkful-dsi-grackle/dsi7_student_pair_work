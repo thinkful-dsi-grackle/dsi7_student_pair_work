{
  "nbformat": 4,
  "nbformat_minor": 0,
  "metadata": {
    "colab": {
      "name": "monday_assignemnt2_csaba.ipynb",
      "provenance": [],
      "collapsed_sections": []
    },
    "kernelspec": {
      "name": "python3",
      "display_name": "Python 3"
    }
  },
  "cells": [
    {
      "cell_type": "code",
      "metadata": {
        "id": "tOmcr2CVFAhl"
      },
      "source": [
        "import pandas as pd"
      ],
      "execution_count": 1,
      "outputs": []
    },
    {
      "cell_type": "code",
      "metadata": {
        "colab": {
          "base_uri": "https://localhost:8080/"
        },
        "id": "E-PwpLVRFGF_",
        "outputId": "32d3cd45-4d5e-4bf6-aef6-4366405eaf3e"
      },
      "source": [
        "url = 'https://tf-assets-prod.s3.amazonaws.com/tf-curric/data-science/web_events.csv'\n",
        "\n",
        "df = pd.read_csv(url)\n",
        "\n",
        "df.info()"
      ],
      "execution_count": 3,
      "outputs": [
        {
          "output_type": "stream",
          "text": [
            "<class 'pandas.core.frame.DataFrame'>\n",
            "RangeIndex: 2756101 entries, 0 to 2756100\n",
            "Data columns (total 5 columns):\n",
            " #   Column         Dtype  \n",
            "---  ------         -----  \n",
            " 0   timestamp      int64  \n",
            " 1   visitorid      int64  \n",
            " 2   event          object \n",
            " 3   itemid         int64  \n",
            " 4   transactionid  float64\n",
            "dtypes: float64(1), int64(3), object(1)\n",
            "memory usage: 105.1+ MB\n"
          ],
          "name": "stdout"
        }
      ]
    },
    {
      "cell_type": "markdown",
      "metadata": {
        "id": "lsECKwvDFZ2A"
      },
      "source": [
        "Convert the values in the timestamp field to datetimes"
      ]
    },
    {
      "cell_type": "code",
      "metadata": {
        "colab": {
          "base_uri": "https://localhost:8080/"
        },
        "id": "9rFIXWQIFpeP",
        "outputId": "9d31b8e4-8df2-43d5-94e4-4183957d4abd"
      },
      "source": [
        "df['timestamp'] = pd.to_datetime(df['timestamp'], unit='ms')\n",
        "\n",
        "df.info()"
      ],
      "execution_count": 19,
      "outputs": [
        {
          "output_type": "stream",
          "text": [
            "<class 'pandas.core.frame.DataFrame'>\n",
            "RangeIndex: 2756101 entries, 0 to 2756100\n",
            "Data columns (total 5 columns):\n",
            " #   Column         Dtype         \n",
            "---  ------         -----         \n",
            " 0   timestamp      datetime64[ns]\n",
            " 1   visitorid      int64         \n",
            " 2   event          object        \n",
            " 3   itemid         int64         \n",
            " 4   transactionid  float64       \n",
            "dtypes: datetime64[ns](1), float64(1), int64(2), object(1)\n",
            "memory usage: 105.1+ MB\n"
          ],
          "name": "stdout"
        }
      ]
    },
    {
      "cell_type": "markdown",
      "metadata": {
        "id": "yRisrLaXFt5p"
      },
      "source": [
        "Extract different time units from the timestamp field.\n"
      ]
    },
    {
      "cell_type": "code",
      "metadata": {
        "colab": {
          "base_uri": "https://localhost:8080/"
        },
        "id": "0LZaZRjKFweL",
        "outputId": "7d2aa06d-6b01-46bc-8184-a5f2a398479a"
      },
      "source": [
        "\n",
        "year = df.timestamp.dt.year\n",
        "month = df.timestamp.dt.month\n",
        "day = df.timestamp.dt.day\n",
        "week = df.timestamp.dt.week"
      ],
      "execution_count": 25,
      "outputs": [
        {
          "output_type": "stream",
          "text": [
            "/usr/local/lib/python3.6/dist-packages/ipykernel_launcher.py:5: FutureWarning: Series.dt.weekofyear and Series.dt.week have been deprecated.  Please use Series.dt.isocalendar().week instead.\n",
            "  \"\"\"\n"
          ],
          "name": "stderr"
        }
      ]
    },
    {
      "cell_type": "markdown",
      "metadata": {
        "id": "NdWbgGjwFwnM"
      },
      "source": [
        "Aggregate on each one, counting the number of records, and see what insights you can discover for each type of event."
      ]
    },
    {
      "cell_type": "code",
      "metadata": {
        "colab": {
          "base_uri": "https://localhost:8080/"
        },
        "id": "k5ARl6snF0rh",
        "outputId": "6efe4a18-dc95-47ed-e17d-b1234231cdc1"
      },
      "source": [
        "print(f\"Year: \\n{year.value_counts()}\\n\")\n",
        "print(f\"Months: \\n{month.value_counts()}\\n\")\n",
        "print(f\"Days: \\n{day.value_counts()}\\n\")\n",
        "print(f\"Week: \\n{week.value_counts()}\\n\")"
      ],
      "execution_count": 26,
      "outputs": [
        {
          "output_type": "stream",
          "text": [
            "Year: \n",
            "2015    2756101\n",
            "Name: timestamp, dtype: int64\n",
            "\n",
            "Months: \n",
            "7    697984\n",
            "6    610393\n",
            "5    590652\n",
            "8    553362\n",
            "9    303710\n",
            "Name: timestamp, dtype: int64\n",
            "\n",
            "Days: \n",
            "14    103072\n",
            "7     102839\n",
            "15    102451\n",
            "10    100289\n",
            "8      99072\n",
            "13     98174\n",
            "4      98103\n",
            "11     97610\n",
            "6      97340\n",
            "3      97334\n",
            "9      96252\n",
            "17     95948\n",
            "12     94946\n",
            "5      94349\n",
            "26     93553\n",
            "16     91599\n",
            "25     90921\n",
            "18     89176\n",
            "27     85541\n",
            "19     84312\n",
            "20     82351\n",
            "22     80932\n",
            "28     80799\n",
            "29     80723\n",
            "24     80703\n",
            "21     78672\n",
            "2      77508\n",
            "1      77197\n",
            "23     75639\n",
            "30     74730\n",
            "31     53966\n",
            "Name: timestamp, dtype: int64\n",
            "\n",
            "Week: \n",
            "30    175437\n",
            "28    161845\n",
            "21    152514\n",
            "29    152243\n",
            "20    148861\n",
            "23    146445\n",
            "25    145976\n",
            "31    144337\n",
            "22    141819\n",
            "26    141688\n",
            "27    139233\n",
            "37    138789\n",
            "19    133775\n",
            "24    131852\n",
            "32    128559\n",
            "35    127810\n",
            "34    126924\n",
            "33    120763\n",
            "36    119057\n",
            "38     64491\n",
            "18     13683\n",
            "Name: timestamp, dtype: int64\n",
            "\n"
          ],
          "name": "stdout"
        }
      ]
    },
    {
      "cell_type": "markdown",
      "metadata": {
        "id": "24EOs6inF0zs"
      },
      "source": [
        "Round datetimes by hour, aggregate, and see what insights you can discover."
      ]
    },
    {
      "cell_type": "code",
      "metadata": {
        "colab": {
          "base_uri": "https://localhost:8080/"
        },
        "id": "3lVo-sqhF3NY",
        "outputId": "c5cd6eff-b7ac-4225-8c75-b083eac68cff"
      },
      "source": [
        "may['timestamp'].dt.round('H')"
      ],
      "execution_count": 24,
      "outputs": [
        {
          "output_type": "execute_result",
          "data": {
            "text/plain": [
              "1462519   2015-05-03 06:00:00\n",
              "1462520   2015-05-03 05:00:00\n",
              "1462521   2015-05-03 05:00:00\n",
              "1462522   2015-05-03 05:00:00\n",
              "1462523   2015-05-03 05:00:00\n",
              "                  ...        \n",
              "2058975   2015-05-31 22:00:00\n",
              "2058976   2015-05-31 21:00:00\n",
              "2058977   2015-05-31 22:00:00\n",
              "2058978   2015-05-31 21:00:00\n",
              "2058979   2015-05-31 21:00:00\n",
              "Name: timestamp, Length: 590652, dtype: datetime64[ns]"
            ]
          },
          "metadata": {
            "tags": []
          },
          "execution_count": 24
        }
      ]
    },
    {
      "cell_type": "markdown",
      "metadata": {
        "id": "hfDorbfkF4NG"
      },
      "source": [
        "Load the life_expectancy.csv data set into a Pandas dataframe."
      ]
    },
    {
      "cell_type": "code",
      "metadata": {
        "colab": {
          "base_uri": "https://localhost:8080/",
          "height": 496
        },
        "id": "7pFIp3ZlFNPM",
        "outputId": "01d6d8d8-a07c-4e69-f892-a8a9021d3b7e"
      },
      "source": [
        "url2 = 'https://tf-assets-prod.s3.amazonaws.com/tf-curric/data-science/life_expectancy.csv'\n",
        "df2 = pd.read_csv(url2)\n",
        "\n",
        "df2.head()"
      ],
      "execution_count": 15,
      "outputs": [
        {
          "output_type": "execute_result",
          "data": {
            "text/html": [
              "<div>\n",
              "<style scoped>\n",
              "    .dataframe tbody tr th:only-of-type {\n",
              "        vertical-align: middle;\n",
              "    }\n",
              "\n",
              "    .dataframe tbody tr th {\n",
              "        vertical-align: top;\n",
              "    }\n",
              "\n",
              "    .dataframe thead th {\n",
              "        text-align: right;\n",
              "    }\n",
              "</style>\n",
              "<table border=\"1\" class=\"dataframe\">\n",
              "  <thead>\n",
              "    <tr style=\"text-align: right;\">\n",
              "      <th></th>\n",
              "      <th>Country Name</th>\n",
              "      <th>Country Code</th>\n",
              "      <th>Indicator Name</th>\n",
              "      <th>Indicator Code</th>\n",
              "      <th>1960</th>\n",
              "      <th>1961</th>\n",
              "      <th>1962</th>\n",
              "      <th>1963</th>\n",
              "      <th>1964</th>\n",
              "      <th>1965</th>\n",
              "      <th>1966</th>\n",
              "      <th>1967</th>\n",
              "      <th>1968</th>\n",
              "      <th>1969</th>\n",
              "      <th>1970</th>\n",
              "      <th>1971</th>\n",
              "      <th>1972</th>\n",
              "      <th>1973</th>\n",
              "      <th>1974</th>\n",
              "      <th>1975</th>\n",
              "      <th>1976</th>\n",
              "      <th>1977</th>\n",
              "      <th>1978</th>\n",
              "      <th>1979</th>\n",
              "      <th>1980</th>\n",
              "      <th>1981</th>\n",
              "      <th>1982</th>\n",
              "      <th>1983</th>\n",
              "      <th>1984</th>\n",
              "      <th>1985</th>\n",
              "      <th>1986</th>\n",
              "      <th>1987</th>\n",
              "      <th>1988</th>\n",
              "      <th>1989</th>\n",
              "      <th>1990</th>\n",
              "      <th>1991</th>\n",
              "      <th>1992</th>\n",
              "      <th>1993</th>\n",
              "      <th>1994</th>\n",
              "      <th>1995</th>\n",
              "      <th>1996</th>\n",
              "      <th>1997</th>\n",
              "      <th>1998</th>\n",
              "      <th>1999</th>\n",
              "      <th>2000</th>\n",
              "      <th>2001</th>\n",
              "      <th>2002</th>\n",
              "      <th>2003</th>\n",
              "      <th>2004</th>\n",
              "      <th>2005</th>\n",
              "      <th>2006</th>\n",
              "      <th>2007</th>\n",
              "      <th>2008</th>\n",
              "      <th>2009</th>\n",
              "      <th>2010</th>\n",
              "      <th>2011</th>\n",
              "      <th>2012</th>\n",
              "      <th>2013</th>\n",
              "      <th>2014</th>\n",
              "      <th>2015</th>\n",
              "      <th>2016</th>\n",
              "    </tr>\n",
              "  </thead>\n",
              "  <tbody>\n",
              "    <tr>\n",
              "      <th>0</th>\n",
              "      <td>Aruba</td>\n",
              "      <td>ABW</td>\n",
              "      <td>Life expectancy at birth, total (years)</td>\n",
              "      <td>SP.DYN.LE00.IN</td>\n",
              "      <td>65.662</td>\n",
              "      <td>66.074</td>\n",
              "      <td>66.444</td>\n",
              "      <td>66.787</td>\n",
              "      <td>67.113</td>\n",
              "      <td>67.435</td>\n",
              "      <td>67.762</td>\n",
              "      <td>68.095</td>\n",
              "      <td>68.436</td>\n",
              "      <td>68.784</td>\n",
              "      <td>69.140</td>\n",
              "      <td>69.498</td>\n",
              "      <td>69.851</td>\n",
              "      <td>70.191</td>\n",
              "      <td>70.519</td>\n",
              "      <td>70.833</td>\n",
              "      <td>71.140</td>\n",
              "      <td>71.441</td>\n",
              "      <td>71.736</td>\n",
              "      <td>72.023</td>\n",
              "      <td>72.293</td>\n",
              "      <td>72.538</td>\n",
              "      <td>72.751</td>\n",
              "      <td>72.929</td>\n",
              "      <td>73.071</td>\n",
              "      <td>73.181</td>\n",
              "      <td>73.262</td>\n",
              "      <td>73.325</td>\n",
              "      <td>73.378</td>\n",
              "      <td>73.425</td>\n",
              "      <td>73.468</td>\n",
              "      <td>73.509</td>\n",
              "      <td>73.544</td>\n",
              "      <td>73.573</td>\n",
              "      <td>73.598</td>\n",
              "      <td>73.622</td>\n",
              "      <td>73.646</td>\n",
              "      <td>73.671</td>\n",
              "      <td>73.700</td>\n",
              "      <td>73.738</td>\n",
              "      <td>73.787</td>\n",
              "      <td>73.853</td>\n",
              "      <td>73.937</td>\n",
              "      <td>74.038</td>\n",
              "      <td>74.156</td>\n",
              "      <td>74.287</td>\n",
              "      <td>74.429</td>\n",
              "      <td>74.576</td>\n",
              "      <td>74.725</td>\n",
              "      <td>74.872</td>\n",
              "      <td>75.016</td>\n",
              "      <td>75.158</td>\n",
              "      <td>75.299</td>\n",
              "      <td>75.440</td>\n",
              "      <td>75.582</td>\n",
              "      <td>75.725</td>\n",
              "      <td>75.867</td>\n",
              "    </tr>\n",
              "    <tr>\n",
              "      <th>1</th>\n",
              "      <td>Afghanistan</td>\n",
              "      <td>AFG</td>\n",
              "      <td>Life expectancy at birth, total (years)</td>\n",
              "      <td>SP.DYN.LE00.IN</td>\n",
              "      <td>32.292</td>\n",
              "      <td>32.742</td>\n",
              "      <td>33.185</td>\n",
              "      <td>33.624</td>\n",
              "      <td>34.060</td>\n",
              "      <td>34.495</td>\n",
              "      <td>34.928</td>\n",
              "      <td>35.361</td>\n",
              "      <td>35.796</td>\n",
              "      <td>36.234</td>\n",
              "      <td>36.678</td>\n",
              "      <td>37.128</td>\n",
              "      <td>37.587</td>\n",
              "      <td>38.056</td>\n",
              "      <td>38.540</td>\n",
              "      <td>39.039</td>\n",
              "      <td>39.556</td>\n",
              "      <td>40.092</td>\n",
              "      <td>40.650</td>\n",
              "      <td>41.234</td>\n",
              "      <td>41.853</td>\n",
              "      <td>42.513</td>\n",
              "      <td>43.217</td>\n",
              "      <td>43.963</td>\n",
              "      <td>44.747</td>\n",
              "      <td>45.566</td>\n",
              "      <td>46.417</td>\n",
              "      <td>47.288</td>\n",
              "      <td>48.164</td>\n",
              "      <td>49.028</td>\n",
              "      <td>49.856</td>\n",
              "      <td>50.627</td>\n",
              "      <td>51.331</td>\n",
              "      <td>51.968</td>\n",
              "      <td>52.539</td>\n",
              "      <td>53.055</td>\n",
              "      <td>53.533</td>\n",
              "      <td>53.997</td>\n",
              "      <td>54.468</td>\n",
              "      <td>54.959</td>\n",
              "      <td>55.482</td>\n",
              "      <td>56.044</td>\n",
              "      <td>56.637</td>\n",
              "      <td>57.250</td>\n",
              "      <td>57.875</td>\n",
              "      <td>58.500</td>\n",
              "      <td>59.110</td>\n",
              "      <td>59.694</td>\n",
              "      <td>60.243</td>\n",
              "      <td>60.754</td>\n",
              "      <td>61.226</td>\n",
              "      <td>61.666</td>\n",
              "      <td>62.086</td>\n",
              "      <td>62.494</td>\n",
              "      <td>62.895</td>\n",
              "      <td>63.288</td>\n",
              "      <td>63.673</td>\n",
              "    </tr>\n",
              "    <tr>\n",
              "      <th>2</th>\n",
              "      <td>Angola</td>\n",
              "      <td>AGO</td>\n",
              "      <td>Life expectancy at birth, total (years)</td>\n",
              "      <td>SP.DYN.LE00.IN</td>\n",
              "      <td>33.251</td>\n",
              "      <td>33.573</td>\n",
              "      <td>33.914</td>\n",
              "      <td>34.272</td>\n",
              "      <td>34.645</td>\n",
              "      <td>35.031</td>\n",
              "      <td>35.426</td>\n",
              "      <td>35.828</td>\n",
              "      <td>36.234</td>\n",
              "      <td>36.640</td>\n",
              "      <td>37.047</td>\n",
              "      <td>37.460</td>\n",
              "      <td>37.878</td>\n",
              "      <td>38.297</td>\n",
              "      <td>38.712</td>\n",
              "      <td>39.110</td>\n",
              "      <td>39.478</td>\n",
              "      <td>39.810</td>\n",
              "      <td>40.099</td>\n",
              "      <td>40.344</td>\n",
              "      <td>40.546</td>\n",
              "      <td>40.710</td>\n",
              "      <td>40.848</td>\n",
              "      <td>40.970</td>\n",
              "      <td>41.085</td>\n",
              "      <td>41.193</td>\n",
              "      <td>41.292</td>\n",
              "      <td>41.382</td>\n",
              "      <td>41.471</td>\n",
              "      <td>41.572</td>\n",
              "      <td>41.696</td>\n",
              "      <td>41.855</td>\n",
              "      <td>42.060</td>\n",
              "      <td>42.329</td>\n",
              "      <td>42.677</td>\n",
              "      <td>43.125</td>\n",
              "      <td>43.695</td>\n",
              "      <td>44.385</td>\n",
              "      <td>45.192</td>\n",
              "      <td>46.105</td>\n",
              "      <td>47.113</td>\n",
              "      <td>48.200</td>\n",
              "      <td>49.341</td>\n",
              "      <td>50.508</td>\n",
              "      <td>51.676</td>\n",
              "      <td>52.833</td>\n",
              "      <td>53.974</td>\n",
              "      <td>55.096</td>\n",
              "      <td>56.189</td>\n",
              "      <td>57.231</td>\n",
              "      <td>58.192</td>\n",
              "      <td>59.042</td>\n",
              "      <td>59.770</td>\n",
              "      <td>60.373</td>\n",
              "      <td>60.858</td>\n",
              "      <td>61.241</td>\n",
              "      <td>61.547</td>\n",
              "    </tr>\n",
              "    <tr>\n",
              "      <th>3</th>\n",
              "      <td>Albania</td>\n",
              "      <td>ALB</td>\n",
              "      <td>Life expectancy at birth, total (years)</td>\n",
              "      <td>SP.DYN.LE00.IN</td>\n",
              "      <td>62.279</td>\n",
              "      <td>63.298</td>\n",
              "      <td>64.187</td>\n",
              "      <td>64.911</td>\n",
              "      <td>65.461</td>\n",
              "      <td>65.848</td>\n",
              "      <td>66.108</td>\n",
              "      <td>66.302</td>\n",
              "      <td>66.485</td>\n",
              "      <td>66.687</td>\n",
              "      <td>66.933</td>\n",
              "      <td>67.235</td>\n",
              "      <td>67.580</td>\n",
              "      <td>67.951</td>\n",
              "      <td>68.341</td>\n",
              "      <td>68.734</td>\n",
              "      <td>69.108</td>\n",
              "      <td>69.447</td>\n",
              "      <td>69.741</td>\n",
              "      <td>69.990</td>\n",
              "      <td>70.207</td>\n",
              "      <td>70.416</td>\n",
              "      <td>70.635</td>\n",
              "      <td>70.876</td>\n",
              "      <td>71.134</td>\n",
              "      <td>71.388</td>\n",
              "      <td>71.605</td>\n",
              "      <td>71.760</td>\n",
              "      <td>71.843</td>\n",
              "      <td>71.860</td>\n",
              "      <td>71.836</td>\n",
              "      <td>71.803</td>\n",
              "      <td>71.802</td>\n",
              "      <td>71.860</td>\n",
              "      <td>71.992</td>\n",
              "      <td>72.205</td>\n",
              "      <td>72.495</td>\n",
              "      <td>72.838</td>\n",
              "      <td>73.208</td>\n",
              "      <td>73.588</td>\n",
              "      <td>73.955</td>\n",
              "      <td>74.286</td>\n",
              "      <td>74.575</td>\n",
              "      <td>74.820</td>\n",
              "      <td>75.028</td>\n",
              "      <td>75.217</td>\n",
              "      <td>75.418</td>\n",
              "      <td>75.656</td>\n",
              "      <td>75.943</td>\n",
              "      <td>76.281</td>\n",
              "      <td>76.652</td>\n",
              "      <td>77.031</td>\n",
              "      <td>77.389</td>\n",
              "      <td>77.702</td>\n",
              "      <td>77.963</td>\n",
              "      <td>78.174</td>\n",
              "      <td>78.345</td>\n",
              "    </tr>\n",
              "    <tr>\n",
              "      <th>4</th>\n",
              "      <td>Andorra</td>\n",
              "      <td>AND</td>\n",
              "      <td>Life expectancy at birth, total (years)</td>\n",
              "      <td>SP.DYN.LE00.IN</td>\n",
              "      <td>NaN</td>\n",
              "      <td>NaN</td>\n",
              "      <td>NaN</td>\n",
              "      <td>NaN</td>\n",
              "      <td>NaN</td>\n",
              "      <td>NaN</td>\n",
              "      <td>NaN</td>\n",
              "      <td>NaN</td>\n",
              "      <td>NaN</td>\n",
              "      <td>NaN</td>\n",
              "      <td>NaN</td>\n",
              "      <td>NaN</td>\n",
              "      <td>NaN</td>\n",
              "      <td>NaN</td>\n",
              "      <td>NaN</td>\n",
              "      <td>NaN</td>\n",
              "      <td>NaN</td>\n",
              "      <td>NaN</td>\n",
              "      <td>NaN</td>\n",
              "      <td>NaN</td>\n",
              "      <td>NaN</td>\n",
              "      <td>NaN</td>\n",
              "      <td>NaN</td>\n",
              "      <td>NaN</td>\n",
              "      <td>NaN</td>\n",
              "      <td>NaN</td>\n",
              "      <td>NaN</td>\n",
              "      <td>NaN</td>\n",
              "      <td>NaN</td>\n",
              "      <td>NaN</td>\n",
              "      <td>NaN</td>\n",
              "      <td>NaN</td>\n",
              "      <td>NaN</td>\n",
              "      <td>NaN</td>\n",
              "      <td>NaN</td>\n",
              "      <td>NaN</td>\n",
              "      <td>NaN</td>\n",
              "      <td>NaN</td>\n",
              "      <td>NaN</td>\n",
              "      <td>NaN</td>\n",
              "      <td>NaN</td>\n",
              "      <td>NaN</td>\n",
              "      <td>NaN</td>\n",
              "      <td>NaN</td>\n",
              "      <td>NaN</td>\n",
              "      <td>NaN</td>\n",
              "      <td>NaN</td>\n",
              "      <td>NaN</td>\n",
              "      <td>NaN</td>\n",
              "      <td>NaN</td>\n",
              "      <td>NaN</td>\n",
              "      <td>NaN</td>\n",
              "      <td>NaN</td>\n",
              "      <td>NaN</td>\n",
              "      <td>NaN</td>\n",
              "      <td>NaN</td>\n",
              "      <td>NaN</td>\n",
              "    </tr>\n",
              "  </tbody>\n",
              "</table>\n",
              "</div>"
            ],
            "text/plain": [
              "  Country Name Country Code  ...    2015    2016\n",
              "0        Aruba          ABW  ...  75.725  75.867\n",
              "1  Afghanistan          AFG  ...  63.288  63.673\n",
              "2       Angola          AGO  ...  61.241  61.547\n",
              "3      Albania          ALB  ...  78.174  78.345\n",
              "4      Andorra          AND  ...     NaN     NaN\n",
              "\n",
              "[5 rows x 61 columns]"
            ]
          },
          "metadata": {
            "tags": []
          },
          "execution_count": 15
        }
      ]
    },
    {
      "cell_type": "markdown",
      "metadata": {
        "id": "wIf4mKymF7tr"
      },
      "source": [
        "Transform/melt the data so that the years are listed in a single column instead of separate columns."
      ]
    },
    {
      "cell_type": "code",
      "metadata": {
        "id": "SUBQbexsFoTK"
      },
      "source": [
        "ids = ['Country Name', 'Country Code', 'Indicator Name', 'Indicator Code']\n"
      ],
      "execution_count": 9,
      "outputs": []
    },
    {
      "cell_type": "code",
      "metadata": {
        "id": "W-DDm12Yckft"
      },
      "source": [
        "melt_fields = list(df2.columns.drop(ids))"
      ],
      "execution_count": 10,
      "outputs": []
    },
    {
      "cell_type": "code",
      "metadata": {
        "colab": {
          "base_uri": "https://localhost:8080/",
          "height": 359
        },
        "id": "VP3KrxCAc5vF",
        "outputId": "ad5094f1-6cbc-40aa-8c9e-3250d9821f54"
      },
      "source": [
        "melted = pd.melt(df2, id_vars=ids, value_vars=melt_fields, var_name='year', value_name='Value')\n",
        "\n",
        "melted.head(10)"
      ],
      "execution_count": 16,
      "outputs": [
        {
          "output_type": "execute_result",
          "data": {
            "text/html": [
              "<div>\n",
              "<style scoped>\n",
              "    .dataframe tbody tr th:only-of-type {\n",
              "        vertical-align: middle;\n",
              "    }\n",
              "\n",
              "    .dataframe tbody tr th {\n",
              "        vertical-align: top;\n",
              "    }\n",
              "\n",
              "    .dataframe thead th {\n",
              "        text-align: right;\n",
              "    }\n",
              "</style>\n",
              "<table border=\"1\" class=\"dataframe\">\n",
              "  <thead>\n",
              "    <tr style=\"text-align: right;\">\n",
              "      <th></th>\n",
              "      <th>Country Name</th>\n",
              "      <th>Country Code</th>\n",
              "      <th>Indicator Name</th>\n",
              "      <th>Indicator Code</th>\n",
              "      <th>year</th>\n",
              "      <th>Value</th>\n",
              "    </tr>\n",
              "  </thead>\n",
              "  <tbody>\n",
              "    <tr>\n",
              "      <th>0</th>\n",
              "      <td>Aruba</td>\n",
              "      <td>ABW</td>\n",
              "      <td>Life expectancy at birth, total (years)</td>\n",
              "      <td>SP.DYN.LE00.IN</td>\n",
              "      <td>1960</td>\n",
              "      <td>65.662000</td>\n",
              "    </tr>\n",
              "    <tr>\n",
              "      <th>1</th>\n",
              "      <td>Afghanistan</td>\n",
              "      <td>AFG</td>\n",
              "      <td>Life expectancy at birth, total (years)</td>\n",
              "      <td>SP.DYN.LE00.IN</td>\n",
              "      <td>1960</td>\n",
              "      <td>32.292000</td>\n",
              "    </tr>\n",
              "    <tr>\n",
              "      <th>2</th>\n",
              "      <td>Angola</td>\n",
              "      <td>AGO</td>\n",
              "      <td>Life expectancy at birth, total (years)</td>\n",
              "      <td>SP.DYN.LE00.IN</td>\n",
              "      <td>1960</td>\n",
              "      <td>33.251000</td>\n",
              "    </tr>\n",
              "    <tr>\n",
              "      <th>3</th>\n",
              "      <td>Albania</td>\n",
              "      <td>ALB</td>\n",
              "      <td>Life expectancy at birth, total (years)</td>\n",
              "      <td>SP.DYN.LE00.IN</td>\n",
              "      <td>1960</td>\n",
              "      <td>62.279000</td>\n",
              "    </tr>\n",
              "    <tr>\n",
              "      <th>4</th>\n",
              "      <td>Andorra</td>\n",
              "      <td>AND</td>\n",
              "      <td>Life expectancy at birth, total (years)</td>\n",
              "      <td>SP.DYN.LE00.IN</td>\n",
              "      <td>1960</td>\n",
              "      <td>NaN</td>\n",
              "    </tr>\n",
              "    <tr>\n",
              "      <th>5</th>\n",
              "      <td>Arab World</td>\n",
              "      <td>ARB</td>\n",
              "      <td>Life expectancy at birth, total (years)</td>\n",
              "      <td>SP.DYN.LE00.IN</td>\n",
              "      <td>1960</td>\n",
              "      <td>46.825065</td>\n",
              "    </tr>\n",
              "    <tr>\n",
              "      <th>6</th>\n",
              "      <td>United Arab Emirates</td>\n",
              "      <td>ARE</td>\n",
              "      <td>Life expectancy at birth, total (years)</td>\n",
              "      <td>SP.DYN.LE00.IN</td>\n",
              "      <td>1960</td>\n",
              "      <td>52.265000</td>\n",
              "    </tr>\n",
              "    <tr>\n",
              "      <th>7</th>\n",
              "      <td>Argentina</td>\n",
              "      <td>ARG</td>\n",
              "      <td>Life expectancy at birth, total (years)</td>\n",
              "      <td>SP.DYN.LE00.IN</td>\n",
              "      <td>1960</td>\n",
              "      <td>65.022000</td>\n",
              "    </tr>\n",
              "    <tr>\n",
              "      <th>8</th>\n",
              "      <td>Armenia</td>\n",
              "      <td>ARM</td>\n",
              "      <td>Life expectancy at birth, total (years)</td>\n",
              "      <td>SP.DYN.LE00.IN</td>\n",
              "      <td>1960</td>\n",
              "      <td>65.971000</td>\n",
              "    </tr>\n",
              "    <tr>\n",
              "      <th>9</th>\n",
              "      <td>American Samoa</td>\n",
              "      <td>ASM</td>\n",
              "      <td>Life expectancy at birth, total (years)</td>\n",
              "      <td>SP.DYN.LE00.IN</td>\n",
              "      <td>1960</td>\n",
              "      <td>NaN</td>\n",
              "    </tr>\n",
              "  </tbody>\n",
              "</table>\n",
              "</div>"
            ],
            "text/plain": [
              "           Country Name Country Code  ...  year      Value\n",
              "0                 Aruba          ABW  ...  1960  65.662000\n",
              "1           Afghanistan          AFG  ...  1960  32.292000\n",
              "2                Angola          AGO  ...  1960  33.251000\n",
              "3               Albania          ALB  ...  1960  62.279000\n",
              "4               Andorra          AND  ...  1960        NaN\n",
              "5            Arab World          ARB  ...  1960  46.825065\n",
              "6  United Arab Emirates          ARE  ...  1960  52.265000\n",
              "7             Argentina          ARG  ...  1960  65.022000\n",
              "8               Armenia          ARM  ...  1960  65.971000\n",
              "9        American Samoa          ASM  ...  1960        NaN\n",
              "\n",
              "[10 rows x 6 columns]"
            ]
          },
          "metadata": {
            "tags": []
          },
          "execution_count": 16
        }
      ]
    },
    {
      "cell_type": "markdown",
      "metadata": {
        "id": "2fASOF84F-ZV"
      },
      "source": [
        "Practice address missing values for countries using the different approaches (imputation, interpolation, and deletion)."
      ]
    },
    {
      "cell_type": "code",
      "metadata": {
        "colab": {
          "base_uri": "https://localhost:8080/"
        },
        "id": "NLILIr0aGAO9",
        "outputId": "67a3074b-1271-408a-b770-dd33c5c1caa7"
      },
      "source": [
        "melted.info()"
      ],
      "execution_count": 14,
      "outputs": [
        {
          "output_type": "stream",
          "text": [
            "<class 'pandas.core.frame.DataFrame'>\n",
            "RangeIndex: 15048 entries, 0 to 15047\n",
            "Data columns (total 6 columns):\n",
            " #   Column          Non-Null Count  Dtype  \n",
            "---  ------          --------------  -----  \n",
            " 0   Country Name    15048 non-null  object \n",
            " 1   Country Code    15048 non-null  object \n",
            " 2   Indicator Name  15048 non-null  object \n",
            " 3   Indicator Code  15048 non-null  object \n",
            " 4   year            15048 non-null  object \n",
            " 5   Value           13747 non-null  float64\n",
            "dtypes: float64(1), object(5)\n",
            "memory usage: 705.5+ KB\n"
          ],
          "name": "stdout"
        }
      ]
    },
    {
      "cell_type": "code",
      "metadata": {
        "colab": {
          "base_uri": "https://localhost:8080/"
        },
        "id": "fmTc5X3HMTHv",
        "outputId": "aa8742c7-8753-4246-c347-5a87a2f479db"
      },
      "source": [
        "melted.Value.dropna()"
      ],
      "execution_count": 27,
      "outputs": [
        {
          "output_type": "execute_result",
          "data": {
            "text/plain": [
              "0        65.662000\n",
              "1        32.292000\n",
              "2        33.251000\n",
              "3        62.279000\n",
              "5        46.825065\n",
              "           ...    \n",
              "15043    71.646341\n",
              "15044    64.953000\n",
              "15045    62.774000\n",
              "15046    61.874000\n",
              "15047    61.163000\n",
              "Name: Value, Length: 13747, dtype: float64"
            ]
          },
          "metadata": {
            "tags": []
          },
          "execution_count": 27
        }
      ]
    },
    {
      "cell_type": "code",
      "metadata": {
        "id": "j0peo92fMdQS"
      },
      "source": [
        ""
      ],
      "execution_count": null,
      "outputs": []
    }
  ]
}