{
 "cells": [
  {
   "cell_type": "code",
   "execution_count": 1,
   "metadata": {},
   "outputs": [],
   "source": [
    "from datetime import datetime as dt\n",
    "from datetime import timedelta as td"
   ]
  },
  {
   "cell_type": "markdown",
   "metadata": {},
   "source": [
    "Define a variable and assign it a date string value of ‘10/20/2019’.\n",
    "\n",
    "Convert the date string to a datetime object.\n",
    "\n",
    "Extract the month, day, and year from the datetime object.\n",
    "\n",
    "Reformat the date string to YYYY-MM-DD.\n",
    "\n",
    "Extract the weekday number for the datetime object.\n",
    "\n",
    "Get the datetime of the same weekday number 6 weeks into the future.\n",
    "\n",
    "Retrieve the number of minutes between the original datetime and the datetime for the same weekday 6 weeks in the future.\n",
    "\n",
    "Hint: Try subtracting datetimes and then extracting the minutes from the difference.\n",
    "\n",
    "Use what you have learned to retrieve the number of weeks that are in years 2015 through 2020 respectively. Are they always the same? Why or why not?\n"
   ]
  },
  {
   "cell_type": "code",
   "execution_count": 2,
   "metadata": {},
   "outputs": [],
   "source": [
    "diz = '10/20/2019'"
   ]
  },
  {
   "cell_type": "code",
   "execution_count": 3,
   "metadata": {},
   "outputs": [],
   "source": [
    "dtdiz = dt.strptime(diz, '%m/%d/%Y')"
   ]
  },
  {
   "cell_type": "code",
   "execution_count": 4,
   "metadata": {},
   "outputs": [
    {
     "name": "stdout",
     "output_type": "stream",
     "text": [
      "10\n",
      "20\n",
      "2019\n"
     ]
    }
   ],
   "source": [
    "print(dtdiz.month)\n",
    "print(dtdiz.day)\n",
    "print(dtdiz.year)"
   ]
  },
  {
   "cell_type": "code",
   "execution_count": 5,
   "metadata": {},
   "outputs": [
    {
     "name": "stdout",
     "output_type": "stream",
     "text": [
      "2019-10-20\n"
     ]
    }
   ],
   "source": [
    "frmdiz = dt.strftime(dtdiz, '%Y-%m-%d')\n",
    "print(frmdiz)"
   ]
  },
  {
   "cell_type": "code",
   "execution_count": 6,
   "metadata": {},
   "outputs": [
    {
     "data": {
      "text/plain": [
       "6"
      ]
     },
     "execution_count": 6,
     "metadata": {},
     "output_type": "execute_result"
    }
   ],
   "source": [
    "dtdiz.weekday()"
   ]
  },
  {
   "cell_type": "code",
   "execution_count": 7,
   "metadata": {},
   "outputs": [
    {
     "data": {
      "text/plain": [
       "'0'"
      ]
     },
     "execution_count": 7,
     "metadata": {},
     "output_type": "execute_result"
    }
   ],
   "source": [
    "dtdiz.strftime('%w')"
   ]
  },
  {
   "cell_type": "code",
   "execution_count": 8,
   "metadata": {},
   "outputs": [
    {
     "name": "stdout",
     "output_type": "stream",
     "text": [
      "2019-12-01 00:00:00\n"
     ]
    }
   ],
   "source": [
    "dizn6wk = dtdiz + td(weeks=6)\n",
    "print(dizn6wk)"
   ]
  },
  {
   "cell_type": "code",
   "execution_count": 9,
   "metadata": {},
   "outputs": [
    {
     "name": "stdout",
     "output_type": "stream",
     "text": [
      "Number of minutes passed:  60480 days, 0:00:00\n"
     ]
    }
   ],
   "source": [
    "diff = dizn6wk - dtdiz\n",
    "minutes_in_day = 24 * 60\n",
    "print('Number of minutes passed: ', diff * minutes_in_day)"
   ]
  },
  {
   "cell_type": "code",
   "execution_count": 10,
   "metadata": {},
   "outputs": [
    {
     "name": "stdout",
     "output_type": "stream",
     "text": [
      "Number of minutes passed:  60480.0\n"
     ]
    }
   ],
   "source": [
    "sec = diff.total_seconds()\n",
    "mins = sec/60\n",
    "print('Number of minutes passed: ', mins)"
   ]
  },
  {
   "cell_type": "code",
   "execution_count": 11,
   "metadata": {},
   "outputs": [],
   "source": [
    "year1 = '2015'\n",
    "year2 = '2016'\n",
    "year3 = '2017'\n",
    "year4 = '2018'\n",
    "year5 = '2019'\n",
    "year6 = '2020'\n",
    "year7 = '2021'\n",
    "dy1 = dt.strptime(year1, '%Y')\n",
    "dy2 = dt.strptime(year2, '%Y')\n",
    "dy3 = dt.strptime(year3, '%Y')\n",
    "dy4 = dt.strptime(year4, '%Y')\n",
    "dy5 = dt.strptime(year5, '%Y')\n",
    "dy6 = dt.strptime(year6, '%Y')\n",
    "dy7 = dt.strptime(year7, '%Y')"
   ]
  },
  {
   "cell_type": "code",
   "execution_count": 13,
   "metadata": {},
   "outputs": [],
   "source": [
    "sec_week = 60 * 60 * 24 * 7"
   ]
  },
  {
   "cell_type": "code",
   "execution_count": 15,
   "metadata": {},
   "outputs": [],
   "source": [
    "df1 = dy2-dy1\n",
    "totsec1 = df1.total_seconds()\n",
    "tot_wk1 = totsec1/sec_week\n",
    "\n",
    "df2 = dy3-dy2\n",
    "totsec2 = df2.total_seconds()\n",
    "tot_wk2 = totsec2/sec_week\n",
    "\n",
    "df3 = dy4-dy3\n",
    "totsec3 = df3.total_seconds()\n",
    "tot_wk3 = totsec3/sec_week\n",
    "\n",
    "df4 = dy5-dy4\n",
    "totsec4 = df4.total_seconds()\n",
    "tot_wk4 = totsec4/sec_week\n",
    "\n",
    "df5 = dy6-dy5\n",
    "totsec5 = df5.total_seconds()\n",
    "tot_wk5 = totsec5/sec_week\n",
    "\n",
    "df6 = dy7-dy6\n",
    "totsec6 = df6.total_seconds()\n",
    "tot_wk6 = totsec6/sec_week\n"
   ]
  },
  {
   "cell_type": "code",
   "execution_count": 17,
   "metadata": {},
   "outputs": [
    {
     "name": "stdout",
     "output_type": "stream",
     "text": [
      "Number of weeks in 2015: 52.142857142857146\n",
      "Number of weeks in 2016: 52.285714285714285\n",
      "Number of weeks in 2017: 52.142857142857146\n",
      "Number of weeks in 2018: 52.142857142857146\n",
      "Number of weeks in 2019: 52.142857142857146\n",
      "Number of weeks in 2020: 52.285714285714285\n"
     ]
    }
   ],
   "source": [
    "print('Number of weeks in 2015:', tot_wk1)\n",
    "print('Number of weeks in 2016:', tot_wk2)\n",
    "print('Number of weeks in 2017:', tot_wk3)\n",
    "print('Number of weeks in 2018:', tot_wk4)\n",
    "print('Number of weeks in 2019:', tot_wk5)\n",
    "print('Number of weeks in 2020:', tot_wk6)"
   ]
  },
  {
   "cell_type": "markdown",
   "metadata": {},
   "source": [
    "Not always the same because of leap years and the additional day added to the week. It increaeses the week total by 1/7 or by an additional day. "
   ]
  },
  {
   "cell_type": "code",
   "execution_count": 19,
   "metadata": {},
   "outputs": [
    {
     "name": "stdout",
     "output_type": "stream",
     "text": [
      "52.142857142857146\n",
      "52.285714285714285\n",
      "52.142857142857146\n",
      "52.142857142857146\n",
      "52.142857142857146\n",
      "52.285714285714285\n"
     ]
    }
   ],
   "source": [
    "for year in range(2015,2021):\n",
    "  initial = dt(year,1,1)\n",
    "  final = dt(year+1,1,1)\n",
    "  diff = final-initial\n",
    "  print(diff.days/7)"
   ]
  }
 ],
 "metadata": {
  "kernelspec": {
   "display_name": "Python 3",
   "language": "python",
   "name": "python3"
  },
  "language_info": {
   "codemirror_mode": {
    "name": "ipython",
    "version": 3
   },
   "file_extension": ".py",
   "mimetype": "text/x-python",
   "name": "python",
   "nbconvert_exporter": "python",
   "pygments_lexer": "ipython3",
   "version": "3.8.5"
  }
 },
 "nbformat": 4,
 "nbformat_minor": 4
}
