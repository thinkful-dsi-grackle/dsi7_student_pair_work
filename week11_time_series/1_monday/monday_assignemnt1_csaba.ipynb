{
  "nbformat": 4,
  "nbformat_minor": 0,
  "metadata": {
    "colab": {
      "name": "monday_assignemnt1_csaba.ipynb",
      "provenance": [],
      "collapsed_sections": []
    },
    "kernelspec": {
      "name": "python3",
      "display_name": "Python 3"
    }
  },
  "cells": [
    {
      "cell_type": "markdown",
      "metadata": {
        "id": "_tztDaht9eEW"
      },
      "source": [
        "Define a variable and assign it a date string value of ‘10/20/2019’.\n",
        "Convert the date string to a datetime object.\n",
        "Extract the month, day, and year from the datetime object.\n",
        "Reformat the date string to YYYY-MM-DD.\n",
        "Extract the weekday number for the datetime object.\n",
        "Get the datetime of the same weekday number 6 weeks into the future.\n",
        "Retrieve the number of minutes between the original datetime and the datetime for the same weekday 6 weeks in the future.\n",
        "Hint: Try subtracting datetimes and then extracting the minutes from the difference.\n",
        "\n",
        "\n",
        "\n"
      ]
    },
    {
      "cell_type": "code",
      "metadata": {
        "id": "JZcWMyVl9MUP"
      },
      "source": [
        "from datetime import datetime as dt"
      ],
      "execution_count": 2,
      "outputs": []
    },
    {
      "cell_type": "code",
      "metadata": {
        "colab": {
          "base_uri": "https://localhost:8080/"
        },
        "id": "h7CHdHSS9qQc",
        "outputId": "cb15e53b-9d91-4bdf-f5d3-e805a07a28c0"
      },
      "source": [
        "birthday = '20191020'\n",
        "converted = dt.strptime(birthday, '%Y%m%d')\n",
        "\n",
        "print(converted)"
      ],
      "execution_count": 3,
      "outputs": [
        {
          "output_type": "stream",
          "text": [
            "2019-10-20 00:00:00\n"
          ],
          "name": "stdout"
        }
      ]
    },
    {
      "cell_type": "code",
      "metadata": {
        "colab": {
          "base_uri": "https://localhost:8080/"
        },
        "id": "p7mFyQLh-VnC",
        "outputId": "82a77482-efbf-459a-ca85-a7dc5cb2aa75"
      },
      "source": [
        "formatted = dt.strftime(converted, '%Y-%m-%d')\n",
        "print(formatted)"
      ],
      "execution_count": 4,
      "outputs": [
        {
          "output_type": "stream",
          "text": [
            "2019-10-20\n"
          ],
          "name": "stdout"
        }
      ]
    },
    {
      "cell_type": "code",
      "metadata": {
        "colab": {
          "base_uri": "https://localhost:8080/"
        },
        "id": "g--qa3Av-_nI",
        "outputId": "9e157057-5889-4b8b-b74f-4e906c197a43"
      },
      "source": [
        "converted.weekday()"
      ],
      "execution_count": 5,
      "outputs": [
        {
          "output_type": "execute_result",
          "data": {
            "text/plain": [
              "6"
            ]
          },
          "metadata": {
            "tags": []
          },
          "execution_count": 5
        }
      ]
    },
    {
      "cell_type": "code",
      "metadata": {
        "colab": {
          "base_uri": "https://localhost:8080/"
        },
        "id": "pfCQ1XGK_QOv",
        "outputId": "7f325fbf-ff96-4e87-a1aa-858957470428"
      },
      "source": [
        "from datetime import timedelta\n",
        "\n",
        "future = converted + timedelta(weeks=6)\n",
        "\n",
        "future.weekday()"
      ],
      "execution_count": 6,
      "outputs": [
        {
          "output_type": "execute_result",
          "data": {
            "text/plain": [
              "6"
            ]
          },
          "metadata": {
            "tags": []
          },
          "execution_count": 6
        }
      ]
    },
    {
      "cell_type": "code",
      "metadata": {
        "colab": {
          "base_uri": "https://localhost:8080/"
        },
        "id": "YerDMU4TAG7Z",
        "outputId": "13623748-ddca-48bf-8d86-aba3391b9754"
      },
      "source": [
        "present = future - converted\n",
        "\n",
        "present"
      ],
      "execution_count": 7,
      "outputs": [
        {
          "output_type": "execute_result",
          "data": {
            "text/plain": [
              "datetime.timedelta(42)"
            ]
          },
          "metadata": {
            "tags": []
          },
          "execution_count": 7
        }
      ]
    },
    {
      "cell_type": "code",
      "metadata": {
        "colab": {
          "base_uri": "https://localhost:8080/"
        },
        "id": "as5OR9Ky_8Ru",
        "outputId": "cb711050-0499-4b40-a47e-270affaaa13a"
      },
      "source": [
        "present = future - converted\n",
        "\n",
        "present.total_seconds()/60"
      ],
      "execution_count": 9,
      "outputs": [
        {
          "output_type": "execute_result",
          "data": {
            "text/plain": [
              "60480.0"
            ]
          },
          "metadata": {
            "tags": []
          },
          "execution_count": 9
        }
      ]
    },
    {
      "cell_type": "markdown",
      "metadata": {
        "id": "oAAFWfSADnJd"
      },
      "source": [
        "Use what you have learned to retrieve the number of weeks that are in years 2015 through 2020 respectively. Are they always the same? Why or why not?"
      ]
    },
    {
      "cell_type": "code",
      "metadata": {
        "id": "fXKMw5psDlJ0",
        "colab": {
          "base_uri": "https://localhost:8080/"
        },
        "outputId": "701a7915-5a9d-4f08-c1fa-bef4333a7254"
      },
      "source": [
        "for year in range(2015, 2021):\n",
        "    weeks = (dt(year + 1, 1, 1) - dt(year, 1, 1)).total_seconds()/(60*60*24*7)\n",
        "    print(f'{weeks} in {year}')"
      ],
      "execution_count": 10,
      "outputs": [
        {
          "output_type": "stream",
          "text": [
            "52.142857142857146 in 2015\n",
            "52.285714285714285 in 2016\n",
            "52.142857142857146 in 2017\n",
            "52.142857142857146 in 2018\n",
            "52.142857142857146 in 2019\n",
            "52.285714285714285 in 2020\n"
          ],
          "name": "stdout"
        }
      ]
    },
    {
      "cell_type": "markdown",
      "metadata": {
        "id": "b2W4EPRylQXY"
      },
      "source": [
        "2016 and 2020 are different because they are both leap years"
      ]
    }
  ]
}