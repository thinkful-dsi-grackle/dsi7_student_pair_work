{
  "nbformat": 4,
  "nbformat_minor": 0,
  "metadata": {
    "colab": {
      "name": "Monday PT 2 NR",
      "provenance": [],
      "collapsed_sections": []
    },
    "kernelspec": {
      "name": "python3",
      "display_name": "Python 3"
    }
  },
  "cells": [
    {
      "cell_type": "code",
      "metadata": {
        "id": "E9MHPDzC2ipf"
      },
      "source": [
        "import pandas as pd"
      ],
      "execution_count": 1,
      "outputs": []
    },
    {
      "cell_type": "code",
      "metadata": {
        "id": "8gehboAN8XUg"
      },
      "source": [
        "w_df = pd.read_csv('https://tf-assets-prod.s3.amazonaws.com/tf-curric/data-science/web_events.csv')\r\n",
        "l_df = pd.read_csv('https://tf-assets-prod.s3.amazonaws.com/tf-curric/data-science/life_expectancy.csv')"
      ],
      "execution_count": 2,
      "outputs": []
    },
    {
      "cell_type": "code",
      "metadata": {
        "colab": {
          "base_uri": "https://localhost:8080/"
        },
        "id": "MUJN4jtm6vfP",
        "outputId": "48444dc6-050f-4a92-cda1-d366d447cd3e"
      },
      "source": [
        "#Load the web_events.csv data set into a Pandas dataframe\r\n",
        "\r\n",
        "w_df.dtypes"
      ],
      "execution_count": 3,
      "outputs": [
        {
          "output_type": "execute_result",
          "data": {
            "text/plain": [
              "timestamp          int64\n",
              "visitorid          int64\n",
              "event             object\n",
              "itemid             int64\n",
              "transactionid    float64\n",
              "dtype: object"
            ]
          },
          "metadata": {
            "tags": []
          },
          "execution_count": 3
        }
      ]
    },
    {
      "cell_type": "code",
      "metadata": {
        "id": "L16mhGeZ8mXL"
      },
      "source": [
        "#Convert the values in the timestamp field to datetimes\r\n",
        "\r\n",
        "w_df['timestamp'] = pd.to_datetime(w_df['timestamp'], unit='ms')"
      ],
      "execution_count": 4,
      "outputs": []
    },
    {
      "cell_type": "code",
      "metadata": {
        "id": "Tq-zaaaT9YuS"
      },
      "source": [
        "#Extract different time units from the timestamp field.\r\n",
        "\r\n",
        "w_df['year'] = w_df['timestamp'].dt.year\r\n",
        "w_df['month'] = w_df['timestamp'].dt.month\r\n",
        "w_df['day'] = w_df['timestamp'].dt.day\r\n",
        "w_df['weekday'] = w_df['timestamp'].dt.weekday\r\n",
        "w_df['timestamp'].dt.round('H')\r\n",
        "w_df['hour'] = w_df['timestamp'].dt.hour"
      ],
      "execution_count": 6,
      "outputs": []
    },
    {
      "cell_type": "code",
      "metadata": {
        "colab": {
          "base_uri": "https://localhost:8080/",
          "height": 731
        },
        "id": "TfKwL0s3-rrT",
        "outputId": "1c845a26-a965-4259-f2f0-c65adaae2b12"
      },
      "source": [
        "#Aggregate on each one, counting the number of records, and see what insights you can discover for each type of event\r\n",
        "\r\n",
        "w_df.groupby(by=['event', 'year']).count()\r\n",
        "w_df.groupby(by=['event', 'month']).count()\r\n",
        "w_df.groupby(by=['event', 'weekday']).count()"
      ],
      "execution_count": 8,
      "outputs": [
        {
          "output_type": "execute_result",
          "data": {
            "text/html": [
              "<div>\n",
              "<style scoped>\n",
              "    .dataframe tbody tr th:only-of-type {\n",
              "        vertical-align: middle;\n",
              "    }\n",
              "\n",
              "    .dataframe tbody tr th {\n",
              "        vertical-align: top;\n",
              "    }\n",
              "\n",
              "    .dataframe thead th {\n",
              "        text-align: right;\n",
              "    }\n",
              "</style>\n",
              "<table border=\"1\" class=\"dataframe\">\n",
              "  <thead>\n",
              "    <tr style=\"text-align: right;\">\n",
              "      <th></th>\n",
              "      <th></th>\n",
              "      <th>timestamp</th>\n",
              "      <th>visitorid</th>\n",
              "      <th>itemid</th>\n",
              "      <th>transactionid</th>\n",
              "      <th>year</th>\n",
              "      <th>month</th>\n",
              "      <th>day</th>\n",
              "      <th>hour</th>\n",
              "    </tr>\n",
              "    <tr>\n",
              "      <th>event</th>\n",
              "      <th>weekday</th>\n",
              "      <th></th>\n",
              "      <th></th>\n",
              "      <th></th>\n",
              "      <th></th>\n",
              "      <th></th>\n",
              "      <th></th>\n",
              "      <th></th>\n",
              "      <th></th>\n",
              "    </tr>\n",
              "  </thead>\n",
              "  <tbody>\n",
              "    <tr>\n",
              "      <th rowspan=\"7\" valign=\"top\">addtocart</th>\n",
              "      <th>0</th>\n",
              "      <td>11371</td>\n",
              "      <td>11371</td>\n",
              "      <td>11371</td>\n",
              "      <td>0</td>\n",
              "      <td>11371</td>\n",
              "      <td>11371</td>\n",
              "      <td>11371</td>\n",
              "      <td>11371</td>\n",
              "    </tr>\n",
              "    <tr>\n",
              "      <th>1</th>\n",
              "      <td>11585</td>\n",
              "      <td>11585</td>\n",
              "      <td>11585</td>\n",
              "      <td>0</td>\n",
              "      <td>11585</td>\n",
              "      <td>11585</td>\n",
              "      <td>11585</td>\n",
              "      <td>11585</td>\n",
              "    </tr>\n",
              "    <tr>\n",
              "      <th>2</th>\n",
              "      <td>11384</td>\n",
              "      <td>11384</td>\n",
              "      <td>11384</td>\n",
              "      <td>0</td>\n",
              "      <td>11384</td>\n",
              "      <td>11384</td>\n",
              "      <td>11384</td>\n",
              "      <td>11384</td>\n",
              "    </tr>\n",
              "    <tr>\n",
              "      <th>3</th>\n",
              "      <td>10951</td>\n",
              "      <td>10951</td>\n",
              "      <td>10951</td>\n",
              "      <td>0</td>\n",
              "      <td>10951</td>\n",
              "      <td>10951</td>\n",
              "      <td>10951</td>\n",
              "      <td>10951</td>\n",
              "    </tr>\n",
              "    <tr>\n",
              "      <th>4</th>\n",
              "      <td>9545</td>\n",
              "      <td>9545</td>\n",
              "      <td>9545</td>\n",
              "      <td>0</td>\n",
              "      <td>9545</td>\n",
              "      <td>9545</td>\n",
              "      <td>9545</td>\n",
              "      <td>9545</td>\n",
              "    </tr>\n",
              "    <tr>\n",
              "      <th>5</th>\n",
              "      <td>6949</td>\n",
              "      <td>6949</td>\n",
              "      <td>6949</td>\n",
              "      <td>0</td>\n",
              "      <td>6949</td>\n",
              "      <td>6949</td>\n",
              "      <td>6949</td>\n",
              "      <td>6949</td>\n",
              "    </tr>\n",
              "    <tr>\n",
              "      <th>6</th>\n",
              "      <td>7547</td>\n",
              "      <td>7547</td>\n",
              "      <td>7547</td>\n",
              "      <td>0</td>\n",
              "      <td>7547</td>\n",
              "      <td>7547</td>\n",
              "      <td>7547</td>\n",
              "      <td>7547</td>\n",
              "    </tr>\n",
              "    <tr>\n",
              "      <th rowspan=\"7\" valign=\"top\">transaction</th>\n",
              "      <th>0</th>\n",
              "      <td>3848</td>\n",
              "      <td>3848</td>\n",
              "      <td>3848</td>\n",
              "      <td>3848</td>\n",
              "      <td>3848</td>\n",
              "      <td>3848</td>\n",
              "      <td>3848</td>\n",
              "      <td>3848</td>\n",
              "    </tr>\n",
              "    <tr>\n",
              "      <th>1</th>\n",
              "      <td>3973</td>\n",
              "      <td>3973</td>\n",
              "      <td>3973</td>\n",
              "      <td>3973</td>\n",
              "      <td>3973</td>\n",
              "      <td>3973</td>\n",
              "      <td>3973</td>\n",
              "      <td>3973</td>\n",
              "    </tr>\n",
              "    <tr>\n",
              "      <th>2</th>\n",
              "      <td>4151</td>\n",
              "      <td>4151</td>\n",
              "      <td>4151</td>\n",
              "      <td>4151</td>\n",
              "      <td>4151</td>\n",
              "      <td>4151</td>\n",
              "      <td>4151</td>\n",
              "      <td>4151</td>\n",
              "    </tr>\n",
              "    <tr>\n",
              "      <th>3</th>\n",
              "      <td>3750</td>\n",
              "      <td>3750</td>\n",
              "      <td>3750</td>\n",
              "      <td>3750</td>\n",
              "      <td>3750</td>\n",
              "      <td>3750</td>\n",
              "      <td>3750</td>\n",
              "      <td>3750</td>\n",
              "    </tr>\n",
              "    <tr>\n",
              "      <th>4</th>\n",
              "      <td>2929</td>\n",
              "      <td>2929</td>\n",
              "      <td>2929</td>\n",
              "      <td>2929</td>\n",
              "      <td>2929</td>\n",
              "      <td>2929</td>\n",
              "      <td>2929</td>\n",
              "      <td>2929</td>\n",
              "    </tr>\n",
              "    <tr>\n",
              "      <th>5</th>\n",
              "      <td>1811</td>\n",
              "      <td>1811</td>\n",
              "      <td>1811</td>\n",
              "      <td>1811</td>\n",
              "      <td>1811</td>\n",
              "      <td>1811</td>\n",
              "      <td>1811</td>\n",
              "      <td>1811</td>\n",
              "    </tr>\n",
              "    <tr>\n",
              "      <th>6</th>\n",
              "      <td>1995</td>\n",
              "      <td>1995</td>\n",
              "      <td>1995</td>\n",
              "      <td>1995</td>\n",
              "      <td>1995</td>\n",
              "      <td>1995</td>\n",
              "      <td>1995</td>\n",
              "      <td>1995</td>\n",
              "    </tr>\n",
              "    <tr>\n",
              "      <th rowspan=\"7\" valign=\"top\">view</th>\n",
              "      <th>0</th>\n",
              "      <td>424594</td>\n",
              "      <td>424594</td>\n",
              "      <td>424594</td>\n",
              "      <td>0</td>\n",
              "      <td>424594</td>\n",
              "      <td>424594</td>\n",
              "      <td>424594</td>\n",
              "      <td>424594</td>\n",
              "    </tr>\n",
              "    <tr>\n",
              "      <th>1</th>\n",
              "      <td>431519</td>\n",
              "      <td>431519</td>\n",
              "      <td>431519</td>\n",
              "      <td>0</td>\n",
              "      <td>431519</td>\n",
              "      <td>431519</td>\n",
              "      <td>431519</td>\n",
              "      <td>431519</td>\n",
              "    </tr>\n",
              "    <tr>\n",
              "      <th>2</th>\n",
              "      <td>415579</td>\n",
              "      <td>415579</td>\n",
              "      <td>415579</td>\n",
              "      <td>0</td>\n",
              "      <td>415579</td>\n",
              "      <td>415579</td>\n",
              "      <td>415579</td>\n",
              "      <td>415579</td>\n",
              "    </tr>\n",
              "    <tr>\n",
              "      <th>3</th>\n",
              "      <td>404060</td>\n",
              "      <td>404060</td>\n",
              "      <td>404060</td>\n",
              "      <td>0</td>\n",
              "      <td>404060</td>\n",
              "      <td>404060</td>\n",
              "      <td>404060</td>\n",
              "      <td>404060</td>\n",
              "    </tr>\n",
              "    <tr>\n",
              "      <th>4</th>\n",
              "      <td>367225</td>\n",
              "      <td>367225</td>\n",
              "      <td>367225</td>\n",
              "      <td>0</td>\n",
              "      <td>367225</td>\n",
              "      <td>367225</td>\n",
              "      <td>367225</td>\n",
              "      <td>367225</td>\n",
              "    </tr>\n",
              "    <tr>\n",
              "      <th>5</th>\n",
              "      <td>296455</td>\n",
              "      <td>296455</td>\n",
              "      <td>296455</td>\n",
              "      <td>0</td>\n",
              "      <td>296455</td>\n",
              "      <td>296455</td>\n",
              "      <td>296455</td>\n",
              "      <td>296455</td>\n",
              "    </tr>\n",
              "    <tr>\n",
              "      <th>6</th>\n",
              "      <td>324880</td>\n",
              "      <td>324880</td>\n",
              "      <td>324880</td>\n",
              "      <td>0</td>\n",
              "      <td>324880</td>\n",
              "      <td>324880</td>\n",
              "      <td>324880</td>\n",
              "      <td>324880</td>\n",
              "    </tr>\n",
              "  </tbody>\n",
              "</table>\n",
              "</div>"
            ],
            "text/plain": [
              "                     timestamp  visitorid  itemid  ...   month     day    hour\n",
              "event       weekday                                ...                        \n",
              "addtocart   0            11371      11371   11371  ...   11371   11371   11371\n",
              "            1            11585      11585   11585  ...   11585   11585   11585\n",
              "            2            11384      11384   11384  ...   11384   11384   11384\n",
              "            3            10951      10951   10951  ...   10951   10951   10951\n",
              "            4             9545       9545    9545  ...    9545    9545    9545\n",
              "            5             6949       6949    6949  ...    6949    6949    6949\n",
              "            6             7547       7547    7547  ...    7547    7547    7547\n",
              "transaction 0             3848       3848    3848  ...    3848    3848    3848\n",
              "            1             3973       3973    3973  ...    3973    3973    3973\n",
              "            2             4151       4151    4151  ...    4151    4151    4151\n",
              "            3             3750       3750    3750  ...    3750    3750    3750\n",
              "            4             2929       2929    2929  ...    2929    2929    2929\n",
              "            5             1811       1811    1811  ...    1811    1811    1811\n",
              "            6             1995       1995    1995  ...    1995    1995    1995\n",
              "view        0           424594     424594  424594  ...  424594  424594  424594\n",
              "            1           431519     431519  431519  ...  431519  431519  431519\n",
              "            2           415579     415579  415579  ...  415579  415579  415579\n",
              "            3           404060     404060  404060  ...  404060  404060  404060\n",
              "            4           367225     367225  367225  ...  367225  367225  367225\n",
              "            5           296455     296455  296455  ...  296455  296455  296455\n",
              "            6           324880     324880  324880  ...  324880  324880  324880\n",
              "\n",
              "[21 rows x 8 columns]"
            ]
          },
          "metadata": {
            "tags": []
          },
          "execution_count": 8
        }
      ]
    },
    {
      "cell_type": "code",
      "metadata": {
        "colab": {
          "base_uri": "https://localhost:8080/",
          "height": 419
        },
        "id": "GScQSMlC_F1q",
        "outputId": "44dd86eb-da5a-4d9e-d56c-263e6396268f"
      },
      "source": [
        "#Round datetimes by hour, aggregate, and see what insights you can discover\r\n",
        "\r\n",
        "w_df.timestamp = w_df.timestamp.dt.round('H')\r\n",
        "w_df[\"hour\"] = w_df.timestamp.dt.hour\r\n",
        "w_df.groupby(by=['event', 'hour']).head()"
      ],
      "execution_count": 9,
      "outputs": [
        {
          "output_type": "execute_result",
          "data": {
            "text/html": [
              "<div>\n",
              "<style scoped>\n",
              "    .dataframe tbody tr th:only-of-type {\n",
              "        vertical-align: middle;\n",
              "    }\n",
              "\n",
              "    .dataframe tbody tr th {\n",
              "        vertical-align: top;\n",
              "    }\n",
              "\n",
              "    .dataframe thead th {\n",
              "        text-align: right;\n",
              "    }\n",
              "</style>\n",
              "<table border=\"1\" class=\"dataframe\">\n",
              "  <thead>\n",
              "    <tr style=\"text-align: right;\">\n",
              "      <th></th>\n",
              "      <th>timestamp</th>\n",
              "      <th>visitorid</th>\n",
              "      <th>event</th>\n",
              "      <th>itemid</th>\n",
              "      <th>transactionid</th>\n",
              "      <th>year</th>\n",
              "      <th>month</th>\n",
              "      <th>day</th>\n",
              "      <th>weekday</th>\n",
              "      <th>hour</th>\n",
              "    </tr>\n",
              "  </thead>\n",
              "  <tbody>\n",
              "    <tr>\n",
              "      <th>0</th>\n",
              "      <td>2015-06-02 05:00:00</td>\n",
              "      <td>257597</td>\n",
              "      <td>view</td>\n",
              "      <td>355908</td>\n",
              "      <td>NaN</td>\n",
              "      <td>2015</td>\n",
              "      <td>6</td>\n",
              "      <td>2</td>\n",
              "      <td>1</td>\n",
              "      <td>5</td>\n",
              "    </tr>\n",
              "    <tr>\n",
              "      <th>1</th>\n",
              "      <td>2015-06-02 06:00:00</td>\n",
              "      <td>992329</td>\n",
              "      <td>view</td>\n",
              "      <td>248676</td>\n",
              "      <td>NaN</td>\n",
              "      <td>2015</td>\n",
              "      <td>6</td>\n",
              "      <td>2</td>\n",
              "      <td>1</td>\n",
              "      <td>6</td>\n",
              "    </tr>\n",
              "    <tr>\n",
              "      <th>2</th>\n",
              "      <td>2015-06-02 05:00:00</td>\n",
              "      <td>111016</td>\n",
              "      <td>view</td>\n",
              "      <td>318965</td>\n",
              "      <td>NaN</td>\n",
              "      <td>2015</td>\n",
              "      <td>6</td>\n",
              "      <td>2</td>\n",
              "      <td>1</td>\n",
              "      <td>5</td>\n",
              "    </tr>\n",
              "    <tr>\n",
              "      <th>3</th>\n",
              "      <td>2015-06-02 05:00:00</td>\n",
              "      <td>483717</td>\n",
              "      <td>view</td>\n",
              "      <td>253185</td>\n",
              "      <td>NaN</td>\n",
              "      <td>2015</td>\n",
              "      <td>6</td>\n",
              "      <td>2</td>\n",
              "      <td>1</td>\n",
              "      <td>5</td>\n",
              "    </tr>\n",
              "    <tr>\n",
              "      <th>4</th>\n",
              "      <td>2015-06-02 05:00:00</td>\n",
              "      <td>951259</td>\n",
              "      <td>view</td>\n",
              "      <td>367447</td>\n",
              "      <td>NaN</td>\n",
              "      <td>2015</td>\n",
              "      <td>6</td>\n",
              "      <td>2</td>\n",
              "      <td>1</td>\n",
              "      <td>5</td>\n",
              "    </tr>\n",
              "    <tr>\n",
              "      <th>...</th>\n",
              "      <td>...</td>\n",
              "      <td>...</td>\n",
              "      <td>...</td>\n",
              "      <td>...</td>\n",
              "      <td>...</td>\n",
              "      <td>...</td>\n",
              "      <td>...</td>\n",
              "      <td>...</td>\n",
              "      <td>...</td>\n",
              "      <td>...</td>\n",
              "    </tr>\n",
              "    <tr>\n",
              "      <th>125779</th>\n",
              "      <td>2015-06-06 10:00:00</td>\n",
              "      <td>592787</td>\n",
              "      <td>transaction</td>\n",
              "      <td>339411</td>\n",
              "      <td>1657.0</td>\n",
              "      <td>2015</td>\n",
              "      <td>6</td>\n",
              "      <td>6</td>\n",
              "      <td>5</td>\n",
              "      <td>10</td>\n",
              "    </tr>\n",
              "    <tr>\n",
              "      <th>134001</th>\n",
              "      <td>2015-06-07 09:00:00</td>\n",
              "      <td>1169956</td>\n",
              "      <td>transaction</td>\n",
              "      <td>35245</td>\n",
              "      <td>14201.0</td>\n",
              "      <td>2015</td>\n",
              "      <td>6</td>\n",
              "      <td>7</td>\n",
              "      <td>6</td>\n",
              "      <td>9</td>\n",
              "    </tr>\n",
              "    <tr>\n",
              "      <th>139384</th>\n",
              "      <td>2015-06-07 09:00:00</td>\n",
              "      <td>1169956</td>\n",
              "      <td>transaction</td>\n",
              "      <td>308648</td>\n",
              "      <td>14201.0</td>\n",
              "      <td>2015</td>\n",
              "      <td>6</td>\n",
              "      <td>7</td>\n",
              "      <td>6</td>\n",
              "      <td>9</td>\n",
              "    </tr>\n",
              "    <tr>\n",
              "      <th>158937</th>\n",
              "      <td>2015-06-08 12:00:00</td>\n",
              "      <td>1381830</td>\n",
              "      <td>transaction</td>\n",
              "      <td>420896</td>\n",
              "      <td>9551.0</td>\n",
              "      <td>2015</td>\n",
              "      <td>6</td>\n",
              "      <td>8</td>\n",
              "      <td>0</td>\n",
              "      <td>12</td>\n",
              "    </tr>\n",
              "    <tr>\n",
              "      <th>161800</th>\n",
              "      <td>2015-06-08 12:00:00</td>\n",
              "      <td>1381830</td>\n",
              "      <td>transaction</td>\n",
              "      <td>420896</td>\n",
              "      <td>15248.0</td>\n",
              "      <td>2015</td>\n",
              "      <td>6</td>\n",
              "      <td>8</td>\n",
              "      <td>0</td>\n",
              "      <td>12</td>\n",
              "    </tr>\n",
              "  </tbody>\n",
              "</table>\n",
              "<p>360 rows × 10 columns</p>\n",
              "</div>"
            ],
            "text/plain": [
              "                 timestamp  visitorid        event  ...  day  weekday  hour\n",
              "0      2015-06-02 05:00:00     257597         view  ...    2        1     5\n",
              "1      2015-06-02 06:00:00     992329         view  ...    2        1     6\n",
              "2      2015-06-02 05:00:00     111016         view  ...    2        1     5\n",
              "3      2015-06-02 05:00:00     483717         view  ...    2        1     5\n",
              "4      2015-06-02 05:00:00     951259         view  ...    2        1     5\n",
              "...                    ...        ...          ...  ...  ...      ...   ...\n",
              "125779 2015-06-06 10:00:00     592787  transaction  ...    6        5    10\n",
              "134001 2015-06-07 09:00:00    1169956  transaction  ...    7        6     9\n",
              "139384 2015-06-07 09:00:00    1169956  transaction  ...    7        6     9\n",
              "158937 2015-06-08 12:00:00    1381830  transaction  ...    8        0    12\n",
              "161800 2015-06-08 12:00:00    1381830  transaction  ...    8        0    12\n",
              "\n",
              "[360 rows x 10 columns]"
            ]
          },
          "metadata": {
            "tags": []
          },
          "execution_count": 9
        }
      ]
    },
    {
      "cell_type": "code",
      "metadata": {
        "colab": {
          "base_uri": "https://localhost:8080/"
        },
        "id": "bB_Wxya1AGze",
        "outputId": "ed5e19b5-f8ff-4641-dc78-685ae22bb102"
      },
      "source": [
        "#Load the life_expectancy.csv data set into a Pandas dataframe\r\n",
        "\r\n",
        "l_df.dtypes"
      ],
      "execution_count": 10,
      "outputs": [
        {
          "output_type": "execute_result",
          "data": {
            "text/plain": [
              "Country Name       object\n",
              "Country Code       object\n",
              "Indicator Name     object\n",
              "Indicator Code     object\n",
              "1960              float64\n",
              "                   ...   \n",
              "2012              float64\n",
              "2013              float64\n",
              "2014              float64\n",
              "2015              float64\n",
              "2016              float64\n",
              "Length: 61, dtype: object"
            ]
          },
          "metadata": {
            "tags": []
          },
          "execution_count": 10
        }
      ]
    },
    {
      "cell_type": "code",
      "metadata": {
        "colab": {
          "base_uri": "https://localhost:8080/"
        },
        "id": "HgFZx_tfBCX9",
        "outputId": "6b7f29e8-60f0-4003-b098-deff7fc1eeec"
      },
      "source": [
        "l_df.columns"
      ],
      "execution_count": 11,
      "outputs": [
        {
          "output_type": "execute_result",
          "data": {
            "text/plain": [
              "Index(['Country Name', 'Country Code', 'Indicator Name', 'Indicator Code',\n",
              "       '1960', '1961', '1962', '1963', '1964', '1965', '1966', '1967', '1968',\n",
              "       '1969', '1970', '1971', '1972', '1973', '1974', '1975', '1976', '1977',\n",
              "       '1978', '1979', '1980', '1981', '1982', '1983', '1984', '1985', '1986',\n",
              "       '1987', '1988', '1989', '1990', '1991', '1992', '1993', '1994', '1995',\n",
              "       '1996', '1997', '1998', '1999', '2000', '2001', '2002', '2003', '2004',\n",
              "       '2005', '2006', '2007', '2008', '2009', '2010', '2011', '2012', '2013',\n",
              "       '2014', '2015', '2016'],\n",
              "      dtype='object')"
            ]
          },
          "metadata": {
            "tags": []
          },
          "execution_count": 11
        }
      ]
    },
    {
      "cell_type": "code",
      "metadata": {
        "colab": {
          "base_uri": "https://localhost:8080/",
          "height": 419
        },
        "id": "7dPmb7zOAeGG",
        "outputId": "c23197b7-cc3a-4e0b-8bc5-6a30a04a283c"
      },
      "source": [
        "ids = ['Country Name', 'Country Code', 'Indicator Name', 'Indicator Code']\r\n",
        "years = l_df.columns.drop(ids)\r\n",
        "\r\n",
        "m_df = pd.melt(l_df, id_vars=ids, value_vars=years, var_name='Year' , value_name='Value')\r\n",
        "m_df"
      ],
      "execution_count": 12,
      "outputs": [
        {
          "output_type": "execute_result",
          "data": {
            "text/html": [
              "<div>\n",
              "<style scoped>\n",
              "    .dataframe tbody tr th:only-of-type {\n",
              "        vertical-align: middle;\n",
              "    }\n",
              "\n",
              "    .dataframe tbody tr th {\n",
              "        vertical-align: top;\n",
              "    }\n",
              "\n",
              "    .dataframe thead th {\n",
              "        text-align: right;\n",
              "    }\n",
              "</style>\n",
              "<table border=\"1\" class=\"dataframe\">\n",
              "  <thead>\n",
              "    <tr style=\"text-align: right;\">\n",
              "      <th></th>\n",
              "      <th>Country Name</th>\n",
              "      <th>Country Code</th>\n",
              "      <th>Indicator Name</th>\n",
              "      <th>Indicator Code</th>\n",
              "      <th>Year</th>\n",
              "      <th>Value</th>\n",
              "    </tr>\n",
              "  </thead>\n",
              "  <tbody>\n",
              "    <tr>\n",
              "      <th>0</th>\n",
              "      <td>Aruba</td>\n",
              "      <td>ABW</td>\n",
              "      <td>Life expectancy at birth, total (years)</td>\n",
              "      <td>SP.DYN.LE00.IN</td>\n",
              "      <td>1960</td>\n",
              "      <td>65.662000</td>\n",
              "    </tr>\n",
              "    <tr>\n",
              "      <th>1</th>\n",
              "      <td>Afghanistan</td>\n",
              "      <td>AFG</td>\n",
              "      <td>Life expectancy at birth, total (years)</td>\n",
              "      <td>SP.DYN.LE00.IN</td>\n",
              "      <td>1960</td>\n",
              "      <td>32.292000</td>\n",
              "    </tr>\n",
              "    <tr>\n",
              "      <th>2</th>\n",
              "      <td>Angola</td>\n",
              "      <td>AGO</td>\n",
              "      <td>Life expectancy at birth, total (years)</td>\n",
              "      <td>SP.DYN.LE00.IN</td>\n",
              "      <td>1960</td>\n",
              "      <td>33.251000</td>\n",
              "    </tr>\n",
              "    <tr>\n",
              "      <th>3</th>\n",
              "      <td>Albania</td>\n",
              "      <td>ALB</td>\n",
              "      <td>Life expectancy at birth, total (years)</td>\n",
              "      <td>SP.DYN.LE00.IN</td>\n",
              "      <td>1960</td>\n",
              "      <td>62.279000</td>\n",
              "    </tr>\n",
              "    <tr>\n",
              "      <th>4</th>\n",
              "      <td>Andorra</td>\n",
              "      <td>AND</td>\n",
              "      <td>Life expectancy at birth, total (years)</td>\n",
              "      <td>SP.DYN.LE00.IN</td>\n",
              "      <td>1960</td>\n",
              "      <td>NaN</td>\n",
              "    </tr>\n",
              "    <tr>\n",
              "      <th>...</th>\n",
              "      <td>...</td>\n",
              "      <td>...</td>\n",
              "      <td>...</td>\n",
              "      <td>...</td>\n",
              "      <td>...</td>\n",
              "      <td>...</td>\n",
              "    </tr>\n",
              "    <tr>\n",
              "      <th>15043</th>\n",
              "      <td>Kosovo</td>\n",
              "      <td>XKX</td>\n",
              "      <td>Life expectancy at birth, total (years)</td>\n",
              "      <td>SP.DYN.LE00.IN</td>\n",
              "      <td>2016</td>\n",
              "      <td>71.646341</td>\n",
              "    </tr>\n",
              "    <tr>\n",
              "      <th>15044</th>\n",
              "      <td>Yemen, Rep.</td>\n",
              "      <td>YEM</td>\n",
              "      <td>Life expectancy at birth, total (years)</td>\n",
              "      <td>SP.DYN.LE00.IN</td>\n",
              "      <td>2016</td>\n",
              "      <td>64.953000</td>\n",
              "    </tr>\n",
              "    <tr>\n",
              "      <th>15045</th>\n",
              "      <td>South Africa</td>\n",
              "      <td>ZAF</td>\n",
              "      <td>Life expectancy at birth, total (years)</td>\n",
              "      <td>SP.DYN.LE00.IN</td>\n",
              "      <td>2016</td>\n",
              "      <td>62.774000</td>\n",
              "    </tr>\n",
              "    <tr>\n",
              "      <th>15046</th>\n",
              "      <td>Zambia</td>\n",
              "      <td>ZMB</td>\n",
              "      <td>Life expectancy at birth, total (years)</td>\n",
              "      <td>SP.DYN.LE00.IN</td>\n",
              "      <td>2016</td>\n",
              "      <td>61.874000</td>\n",
              "    </tr>\n",
              "    <tr>\n",
              "      <th>15047</th>\n",
              "      <td>Zimbabwe</td>\n",
              "      <td>ZWE</td>\n",
              "      <td>Life expectancy at birth, total (years)</td>\n",
              "      <td>SP.DYN.LE00.IN</td>\n",
              "      <td>2016</td>\n",
              "      <td>61.163000</td>\n",
              "    </tr>\n",
              "  </tbody>\n",
              "</table>\n",
              "<p>15048 rows × 6 columns</p>\n",
              "</div>"
            ],
            "text/plain": [
              "       Country Name Country Code  ...  Year      Value\n",
              "0             Aruba          ABW  ...  1960  65.662000\n",
              "1       Afghanistan          AFG  ...  1960  32.292000\n",
              "2            Angola          AGO  ...  1960  33.251000\n",
              "3           Albania          ALB  ...  1960  62.279000\n",
              "4           Andorra          AND  ...  1960        NaN\n",
              "...             ...          ...  ...   ...        ...\n",
              "15043        Kosovo          XKX  ...  2016  71.646341\n",
              "15044   Yemen, Rep.          YEM  ...  2016  64.953000\n",
              "15045  South Africa          ZAF  ...  2016  62.774000\n",
              "15046        Zambia          ZMB  ...  2016  61.874000\n",
              "15047      Zimbabwe          ZWE  ...  2016  61.163000\n",
              "\n",
              "[15048 rows x 6 columns]"
            ]
          },
          "metadata": {
            "tags": []
          },
          "execution_count": 12
        }
      ]
    },
    {
      "cell_type": "code",
      "metadata": {
        "colab": {
          "base_uri": "https://localhost:8080/"
        },
        "id": "h_O5JT_8BvWV",
        "outputId": "2a6b07da-9327-4dd6-d4a3-e544568d79a2"
      },
      "source": [
        "#Practice address missing values for countries using the different approaches (imputation, interpolation, and deletion)\r\n",
        "#Imputation\r\n",
        "m_df.Value.fillna(m_df.Value.mean())"
      ],
      "execution_count": 13,
      "outputs": [
        {
          "output_type": "execute_result",
          "data": {
            "text/plain": [
              "0        65.662000\n",
              "1        32.292000\n",
              "2        33.251000\n",
              "3        62.279000\n",
              "4        63.544406\n",
              "           ...    \n",
              "15043    71.646341\n",
              "15044    64.953000\n",
              "15045    62.774000\n",
              "15046    61.874000\n",
              "15047    61.163000\n",
              "Name: Value, Length: 15048, dtype: float64"
            ]
          },
          "metadata": {
            "tags": []
          },
          "execution_count": 13
        }
      ]
    },
    {
      "cell_type": "code",
      "metadata": {
        "colab": {
          "base_uri": "https://localhost:8080/"
        },
        "id": "UWrtghf3ChUQ",
        "outputId": "4b173021-0aa6-4c4f-dfaf-8f787e04b8de"
      },
      "source": [
        "m_df.Value.fillna(m_df.Value.median())"
      ],
      "execution_count": 14,
      "outputs": [
        {
          "output_type": "execute_result",
          "data": {
            "text/plain": [
              "0        65.662000\n",
              "1        32.292000\n",
              "2        33.251000\n",
              "3        62.279000\n",
              "4        66.328000\n",
              "           ...    \n",
              "15043    71.646341\n",
              "15044    64.953000\n",
              "15045    62.774000\n",
              "15046    61.874000\n",
              "15047    61.163000\n",
              "Name: Value, Length: 15048, dtype: float64"
            ]
          },
          "metadata": {
            "tags": []
          },
          "execution_count": 14
        }
      ]
    },
    {
      "cell_type": "code",
      "metadata": {
        "colab": {
          "base_uri": "https://localhost:8080/"
        },
        "id": "tBhPpA-8C4IE",
        "outputId": "15458a1a-db7d-4b43-c623-e8afc15c8918"
      },
      "source": [
        "#interpolation\r\n",
        "\r\n",
        "new_df = m_df.Value.fillna(method='ffill')\r\n",
        "new_df"
      ],
      "execution_count": 15,
      "outputs": [
        {
          "output_type": "execute_result",
          "data": {
            "text/plain": [
              "0        65.662000\n",
              "1        32.292000\n",
              "2        33.251000\n",
              "3        62.279000\n",
              "4        62.279000\n",
              "           ...    \n",
              "15043    71.646341\n",
              "15044    64.953000\n",
              "15045    62.774000\n",
              "15046    61.874000\n",
              "15047    61.163000\n",
              "Name: Value, Length: 15048, dtype: float64"
            ]
          },
          "metadata": {
            "tags": []
          },
          "execution_count": 15
        }
      ]
    },
    {
      "cell_type": "code",
      "metadata": {
        "colab": {
          "base_uri": "https://localhost:8080/"
        },
        "id": "nNi9895gDOb4",
        "outputId": "3e8e438c-5614-4f21-a046-42455ce32006"
      },
      "source": [
        "b_df = m_df.Value.fillna(method='bfill')\r\n",
        "b_df"
      ],
      "execution_count": 16,
      "outputs": [
        {
          "output_type": "execute_result",
          "data": {
            "text/plain": [
              "0        65.662000\n",
              "1        32.292000\n",
              "2        33.251000\n",
              "3        62.279000\n",
              "4        46.825065\n",
              "           ...    \n",
              "15043    71.646341\n",
              "15044    64.953000\n",
              "15045    62.774000\n",
              "15046    61.874000\n",
              "15047    61.163000\n",
              "Name: Value, Length: 15048, dtype: float64"
            ]
          },
          "metadata": {
            "tags": []
          },
          "execution_count": 16
        }
      ]
    },
    {
      "cell_type": "code",
      "metadata": {
        "colab": {
          "base_uri": "https://localhost:8080/"
        },
        "id": "3LdAZeC8Dmya",
        "outputId": "78ceb830-321f-44ff-bdf6-a39be145ffa9"
      },
      "source": [
        "s_df = (new_df + b_df)/2\r\n",
        "s_df"
      ],
      "execution_count": 17,
      "outputs": [
        {
          "output_type": "execute_result",
          "data": {
            "text/plain": [
              "0        65.662000\n",
              "1        32.292000\n",
              "2        33.251000\n",
              "3        62.279000\n",
              "4        54.552032\n",
              "           ...    \n",
              "15043    71.646341\n",
              "15044    64.953000\n",
              "15045    62.774000\n",
              "15046    61.874000\n",
              "15047    61.163000\n",
              "Name: Value, Length: 15048, dtype: float64"
            ]
          },
          "metadata": {
            "tags": []
          },
          "execution_count": 17
        }
      ]
    },
    {
      "cell_type": "code",
      "metadata": {
        "colab": {
          "base_uri": "https://localhost:8080/"
        },
        "id": "GUIUq-s0ESkP",
        "outputId": "264973c1-9642-4bc4-8b17-2a47d2af3bb4"
      },
      "source": [
        "#Deletion\r\n",
        "\r\n",
        "m_df.Value.dropna()"
      ],
      "execution_count": 18,
      "outputs": [
        {
          "output_type": "execute_result",
          "data": {
            "text/plain": [
              "0        65.662000\n",
              "1        32.292000\n",
              "2        33.251000\n",
              "3        62.279000\n",
              "5        46.825065\n",
              "           ...    \n",
              "15043    71.646341\n",
              "15044    64.953000\n",
              "15045    62.774000\n",
              "15046    61.874000\n",
              "15047    61.163000\n",
              "Name: Value, Length: 13747, dtype: float64"
            ]
          },
          "metadata": {
            "tags": []
          },
          "execution_count": 18
        }
      ]
    },
    {
      "cell_type": "code",
      "metadata": {
        "id": "8FlC9GyOEeWh"
      },
      "source": [
        ""
      ],
      "execution_count": null,
      "outputs": []
    }
  ]
}