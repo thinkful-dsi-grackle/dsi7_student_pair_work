{
  "nbformat": 4,
  "nbformat_minor": 0,
  "metadata": {
    "colab": {
      "name": "Shontelle_TimeSeries_Day1_2Assignment.ipynb",
      "provenance": [],
      "collapsed_sections": []
    },
    "kernelspec": {
      "name": "python3",
      "display_name": "Python 3"
    }
  },
  "cells": [
    {
      "cell_type": "markdown",
      "metadata": {
        "id": "ecRGHDTLjZmR"
      },
      "source": [
        "#Do the following assignment:\n",
        "1. Load the web_events.csv data set into a Pandas dataframe.\n",
        "  * Convert the values in the timestamp field to datetimes.\n",
        "  * Extract different time units from the timestamp field.\n",
        "  * Aggregate on each one, counting the number of records, and see what insights you can discover for each type of event.\n",
        "  * Round datetimes by hour, aggregate, and see what insights you can discover.\n",
        "2. Load the life_expectancy.csv data set into a Pandas dataframe.\n",
        "  * Transform/melt the data so that the years are listed in a single column instead of separate columns.\n",
        "  * Practice address missing values for countries using the different approaches (imputation, interpolation, and deletion)"
      ]
    },
    {
      "cell_type": "code",
      "metadata": {
        "id": "78uW-8L_fi08"
      },
      "source": [
        "import pandas as pd\n",
        "import numpy as np"
      ],
      "execution_count": 1,
      "outputs": []
    },
    {
      "cell_type": "code",
      "metadata": {
        "colab": {
          "base_uri": "https://localhost:8080/",
          "height": 204
        },
        "id": "ad6zkzCSjsmP",
        "outputId": "d909ef6c-add8-4208-ea68-da79a95cddbf"
      },
      "source": [
        "#web events data\n",
        "web = pd.read_csv('https://tf-assets-prod.s3.amazonaws.com/tf-curric/data-science/web_events.csv')\n",
        "web.head()"
      ],
      "execution_count": 2,
      "outputs": [
        {
          "output_type": "execute_result",
          "data": {
            "text/html": [
              "<div>\n",
              "<style scoped>\n",
              "    .dataframe tbody tr th:only-of-type {\n",
              "        vertical-align: middle;\n",
              "    }\n",
              "\n",
              "    .dataframe tbody tr th {\n",
              "        vertical-align: top;\n",
              "    }\n",
              "\n",
              "    .dataframe thead th {\n",
              "        text-align: right;\n",
              "    }\n",
              "</style>\n",
              "<table border=\"1\" class=\"dataframe\">\n",
              "  <thead>\n",
              "    <tr style=\"text-align: right;\">\n",
              "      <th></th>\n",
              "      <th>timestamp</th>\n",
              "      <th>visitorid</th>\n",
              "      <th>event</th>\n",
              "      <th>itemid</th>\n",
              "      <th>transactionid</th>\n",
              "    </tr>\n",
              "  </thead>\n",
              "  <tbody>\n",
              "    <tr>\n",
              "      <th>0</th>\n",
              "      <td>1433221332117</td>\n",
              "      <td>257597</td>\n",
              "      <td>view</td>\n",
              "      <td>355908</td>\n",
              "      <td>NaN</td>\n",
              "    </tr>\n",
              "    <tr>\n",
              "      <th>1</th>\n",
              "      <td>1433224214164</td>\n",
              "      <td>992329</td>\n",
              "      <td>view</td>\n",
              "      <td>248676</td>\n",
              "      <td>NaN</td>\n",
              "    </tr>\n",
              "    <tr>\n",
              "      <th>2</th>\n",
              "      <td>1433221999827</td>\n",
              "      <td>111016</td>\n",
              "      <td>view</td>\n",
              "      <td>318965</td>\n",
              "      <td>NaN</td>\n",
              "    </tr>\n",
              "    <tr>\n",
              "      <th>3</th>\n",
              "      <td>1433221955914</td>\n",
              "      <td>483717</td>\n",
              "      <td>view</td>\n",
              "      <td>253185</td>\n",
              "      <td>NaN</td>\n",
              "    </tr>\n",
              "    <tr>\n",
              "      <th>4</th>\n",
              "      <td>1433221337106</td>\n",
              "      <td>951259</td>\n",
              "      <td>view</td>\n",
              "      <td>367447</td>\n",
              "      <td>NaN</td>\n",
              "    </tr>\n",
              "  </tbody>\n",
              "</table>\n",
              "</div>"
            ],
            "text/plain": [
              "       timestamp  visitorid event  itemid  transactionid\n",
              "0  1433221332117     257597  view  355908            NaN\n",
              "1  1433224214164     992329  view  248676            NaN\n",
              "2  1433221999827     111016  view  318965            NaN\n",
              "3  1433221955914     483717  view  253185            NaN\n",
              "4  1433221337106     951259  view  367447            NaN"
            ]
          },
          "metadata": {
            "tags": []
          },
          "execution_count": 2
        }
      ]
    },
    {
      "cell_type": "code",
      "metadata": {
        "colab": {
          "base_uri": "https://localhost:8080/"
        },
        "id": "A8xp8t6zj8kZ",
        "outputId": "37ab4b5d-96d2-4a8d-cef0-7e79ec62b640"
      },
      "source": [
        "web.info()"
      ],
      "execution_count": 3,
      "outputs": [
        {
          "output_type": "stream",
          "text": [
            "<class 'pandas.core.frame.DataFrame'>\n",
            "RangeIndex: 2756101 entries, 0 to 2756100\n",
            "Data columns (total 5 columns):\n",
            " #   Column         Dtype  \n",
            "---  ------         -----  \n",
            " 0   timestamp      int64  \n",
            " 1   visitorid      int64  \n",
            " 2   event          object \n",
            " 3   itemid         int64  \n",
            " 4   transactionid  float64\n",
            "dtypes: float64(1), int64(3), object(1)\n",
            "memory usage: 105.1+ MB\n"
          ],
          "name": "stdout"
        }
      ]
    },
    {
      "cell_type": "code",
      "metadata": {
        "colab": {
          "base_uri": "https://localhost:8080/"
        },
        "id": "5HCq6strkEVG",
        "outputId": "d32a8802-d26f-4531-e807-23318c413f52"
      },
      "source": [
        "#Convert timestamp column to datetimes\n",
        "web['timestamp'] = pd.to_datetime(web['timestamp'], unit='ms')\n",
        "web.info()"
      ],
      "execution_count": 4,
      "outputs": [
        {
          "output_type": "stream",
          "text": [
            "<class 'pandas.core.frame.DataFrame'>\n",
            "RangeIndex: 2756101 entries, 0 to 2756100\n",
            "Data columns (total 5 columns):\n",
            " #   Column         Dtype         \n",
            "---  ------         -----         \n",
            " 0   timestamp      datetime64[ns]\n",
            " 1   visitorid      int64         \n",
            " 2   event          object        \n",
            " 3   itemid         int64         \n",
            " 4   transactionid  float64       \n",
            "dtypes: datetime64[ns](1), float64(1), int64(2), object(1)\n",
            "memory usage: 105.1+ MB\n"
          ],
          "name": "stdout"
        }
      ]
    },
    {
      "cell_type": "code",
      "metadata": {
        "colab": {
          "base_uri": "https://localhost:8080/",
          "height": 204
        },
        "id": "j1ZEFzyWkYhB",
        "outputId": "c2631e55-acf6-48df-a217-2fff8b2ad112"
      },
      "source": [
        "web.head()"
      ],
      "execution_count": 5,
      "outputs": [
        {
          "output_type": "execute_result",
          "data": {
            "text/html": [
              "<div>\n",
              "<style scoped>\n",
              "    .dataframe tbody tr th:only-of-type {\n",
              "        vertical-align: middle;\n",
              "    }\n",
              "\n",
              "    .dataframe tbody tr th {\n",
              "        vertical-align: top;\n",
              "    }\n",
              "\n",
              "    .dataframe thead th {\n",
              "        text-align: right;\n",
              "    }\n",
              "</style>\n",
              "<table border=\"1\" class=\"dataframe\">\n",
              "  <thead>\n",
              "    <tr style=\"text-align: right;\">\n",
              "      <th></th>\n",
              "      <th>timestamp</th>\n",
              "      <th>visitorid</th>\n",
              "      <th>event</th>\n",
              "      <th>itemid</th>\n",
              "      <th>transactionid</th>\n",
              "    </tr>\n",
              "  </thead>\n",
              "  <tbody>\n",
              "    <tr>\n",
              "      <th>0</th>\n",
              "      <td>2015-06-02 05:02:12.117</td>\n",
              "      <td>257597</td>\n",
              "      <td>view</td>\n",
              "      <td>355908</td>\n",
              "      <td>NaN</td>\n",
              "    </tr>\n",
              "    <tr>\n",
              "      <th>1</th>\n",
              "      <td>2015-06-02 05:50:14.164</td>\n",
              "      <td>992329</td>\n",
              "      <td>view</td>\n",
              "      <td>248676</td>\n",
              "      <td>NaN</td>\n",
              "    </tr>\n",
              "    <tr>\n",
              "      <th>2</th>\n",
              "      <td>2015-06-02 05:13:19.827</td>\n",
              "      <td>111016</td>\n",
              "      <td>view</td>\n",
              "      <td>318965</td>\n",
              "      <td>NaN</td>\n",
              "    </tr>\n",
              "    <tr>\n",
              "      <th>3</th>\n",
              "      <td>2015-06-02 05:12:35.914</td>\n",
              "      <td>483717</td>\n",
              "      <td>view</td>\n",
              "      <td>253185</td>\n",
              "      <td>NaN</td>\n",
              "    </tr>\n",
              "    <tr>\n",
              "      <th>4</th>\n",
              "      <td>2015-06-02 05:02:17.106</td>\n",
              "      <td>951259</td>\n",
              "      <td>view</td>\n",
              "      <td>367447</td>\n",
              "      <td>NaN</td>\n",
              "    </tr>\n",
              "  </tbody>\n",
              "</table>\n",
              "</div>"
            ],
            "text/plain": [
              "                timestamp  visitorid event  itemid  transactionid\n",
              "0 2015-06-02 05:02:12.117     257597  view  355908            NaN\n",
              "1 2015-06-02 05:50:14.164     992329  view  248676            NaN\n",
              "2 2015-06-02 05:13:19.827     111016  view  318965            NaN\n",
              "3 2015-06-02 05:12:35.914     483717  view  253185            NaN\n",
              "4 2015-06-02 05:02:17.106     951259  view  367447            NaN"
            ]
          },
          "metadata": {
            "tags": []
          },
          "execution_count": 5
        }
      ]
    },
    {
      "cell_type": "code",
      "metadata": {
        "colab": {
          "base_uri": "https://localhost:8080/"
        },
        "id": "QijdJdjomFV0",
        "outputId": "90ce0ea7-d844-4d56-b0c7-67e2b0941dce"
      },
      "source": [
        "web.timestamp.dt.month"
      ],
      "execution_count": 6,
      "outputs": [
        {
          "output_type": "execute_result",
          "data": {
            "text/plain": [
              "0          6\n",
              "1          6\n",
              "2          6\n",
              "3          6\n",
              "4          6\n",
              "          ..\n",
              "2756096    8\n",
              "2756097    8\n",
              "2756098    8\n",
              "2756099    8\n",
              "2756100    8\n",
              "Name: timestamp, Length: 2756101, dtype: int64"
            ]
          },
          "metadata": {
            "tags": []
          },
          "execution_count": 6
        }
      ]
    },
    {
      "cell_type": "code",
      "metadata": {
        "colab": {
          "base_uri": "https://localhost:8080/",
          "height": 204
        },
        "id": "PC1XksXokaLB",
        "outputId": "d8bacd7c-f8b4-45ea-fa7c-68fe84d6125f"
      },
      "source": [
        "#extract different time units\n",
        "web['month'] = web.timestamp.dt.month\n",
        "web.head()"
      ],
      "execution_count": 7,
      "outputs": [
        {
          "output_type": "execute_result",
          "data": {
            "text/html": [
              "<div>\n",
              "<style scoped>\n",
              "    .dataframe tbody tr th:only-of-type {\n",
              "        vertical-align: middle;\n",
              "    }\n",
              "\n",
              "    .dataframe tbody tr th {\n",
              "        vertical-align: top;\n",
              "    }\n",
              "\n",
              "    .dataframe thead th {\n",
              "        text-align: right;\n",
              "    }\n",
              "</style>\n",
              "<table border=\"1\" class=\"dataframe\">\n",
              "  <thead>\n",
              "    <tr style=\"text-align: right;\">\n",
              "      <th></th>\n",
              "      <th>timestamp</th>\n",
              "      <th>visitorid</th>\n",
              "      <th>event</th>\n",
              "      <th>itemid</th>\n",
              "      <th>transactionid</th>\n",
              "      <th>month</th>\n",
              "    </tr>\n",
              "  </thead>\n",
              "  <tbody>\n",
              "    <tr>\n",
              "      <th>0</th>\n",
              "      <td>2015-06-02 05:02:12.117</td>\n",
              "      <td>257597</td>\n",
              "      <td>view</td>\n",
              "      <td>355908</td>\n",
              "      <td>NaN</td>\n",
              "      <td>6</td>\n",
              "    </tr>\n",
              "    <tr>\n",
              "      <th>1</th>\n",
              "      <td>2015-06-02 05:50:14.164</td>\n",
              "      <td>992329</td>\n",
              "      <td>view</td>\n",
              "      <td>248676</td>\n",
              "      <td>NaN</td>\n",
              "      <td>6</td>\n",
              "    </tr>\n",
              "    <tr>\n",
              "      <th>2</th>\n",
              "      <td>2015-06-02 05:13:19.827</td>\n",
              "      <td>111016</td>\n",
              "      <td>view</td>\n",
              "      <td>318965</td>\n",
              "      <td>NaN</td>\n",
              "      <td>6</td>\n",
              "    </tr>\n",
              "    <tr>\n",
              "      <th>3</th>\n",
              "      <td>2015-06-02 05:12:35.914</td>\n",
              "      <td>483717</td>\n",
              "      <td>view</td>\n",
              "      <td>253185</td>\n",
              "      <td>NaN</td>\n",
              "      <td>6</td>\n",
              "    </tr>\n",
              "    <tr>\n",
              "      <th>4</th>\n",
              "      <td>2015-06-02 05:02:17.106</td>\n",
              "      <td>951259</td>\n",
              "      <td>view</td>\n",
              "      <td>367447</td>\n",
              "      <td>NaN</td>\n",
              "      <td>6</td>\n",
              "    </tr>\n",
              "  </tbody>\n",
              "</table>\n",
              "</div>"
            ],
            "text/plain": [
              "                timestamp  visitorid event  itemid  transactionid  month\n",
              "0 2015-06-02 05:02:12.117     257597  view  355908            NaN      6\n",
              "1 2015-06-02 05:50:14.164     992329  view  248676            NaN      6\n",
              "2 2015-06-02 05:13:19.827     111016  view  318965            NaN      6\n",
              "3 2015-06-02 05:12:35.914     483717  view  253185            NaN      6\n",
              "4 2015-06-02 05:02:17.106     951259  view  367447            NaN      6"
            ]
          },
          "metadata": {
            "tags": []
          },
          "execution_count": 7
        }
      ]
    },
    {
      "cell_type": "code",
      "metadata": {
        "colab": {
          "base_uri": "https://localhost:8080/"
        },
        "id": "YWJjK4WQmT79",
        "outputId": "cbc48bfd-1cb6-4c5f-ff33-f5dbbb326786"
      },
      "source": [
        "web.month.unique()"
      ],
      "execution_count": 8,
      "outputs": [
        {
          "output_type": "execute_result",
          "data": {
            "text/plain": [
              "array([6, 7, 8, 9, 5])"
            ]
          },
          "metadata": {
            "tags": []
          },
          "execution_count": 8
        }
      ]
    },
    {
      "cell_type": "code",
      "metadata": {
        "colab": {
          "base_uri": "https://localhost:8080/"
        },
        "id": "TKW-b4rjnd12",
        "outputId": "37d1af1a-2b6e-42df-b5f7-8a13e04c4a3d"
      },
      "source": [
        "web.month.value_counts()"
      ],
      "execution_count": 9,
      "outputs": [
        {
          "output_type": "execute_result",
          "data": {
            "text/plain": [
              "7    697984\n",
              "6    610393\n",
              "5    590652\n",
              "8    553362\n",
              "9    303710\n",
              "Name: month, dtype: int64"
            ]
          },
          "metadata": {
            "tags": []
          },
          "execution_count": 9
        }
      ]
    },
    {
      "cell_type": "code",
      "metadata": {
        "colab": {
          "base_uri": "https://localhost:8080/"
        },
        "id": "AnqzZj6rmXKW",
        "outputId": "66ec79b7-aa2b-4d5a-d5db-c12ea1e614c5"
      },
      "source": [
        "#extracting year\n",
        "web['year'] = web.timestamp.dt.year\n",
        "web.year.unique()"
      ],
      "execution_count": 10,
      "outputs": [
        {
          "output_type": "execute_result",
          "data": {
            "text/plain": [
              "array([2015])"
            ]
          },
          "metadata": {
            "tags": []
          },
          "execution_count": 10
        }
      ]
    },
    {
      "cell_type": "code",
      "metadata": {
        "colab": {
          "base_uri": "https://localhost:8080/"
        },
        "id": "2-fgsZ3ZmeyO",
        "outputId": "b408cec1-d2d7-4d46-c1fa-2ddefec87a93"
      },
      "source": [
        "#extracting day\n",
        "web['day'] = web.timestamp.dt.day\n",
        "web.day.unique()"
      ],
      "execution_count": 11,
      "outputs": [
        {
          "output_type": "execute_result",
          "data": {
            "text/plain": [
              "array([ 2,  1,  3,  4,  5,  6,  7,  8,  9, 10, 11, 13, 14, 12, 16, 15, 17,\n",
              "       18, 19, 20, 21, 22, 23, 24, 25, 26, 27, 28, 29, 30, 31])"
            ]
          },
          "metadata": {
            "tags": []
          },
          "execution_count": 11
        }
      ]
    },
    {
      "cell_type": "code",
      "metadata": {
        "colab": {
          "base_uri": "https://localhost:8080/"
        },
        "id": "eqNg6cR1mn3Y",
        "outputId": "041decf1-2f62-4a49-98bd-5d46d036cb73"
      },
      "source": [
        "#value counts for each day\n",
        "web.day.value_counts()"
      ],
      "execution_count": 12,
      "outputs": [
        {
          "output_type": "execute_result",
          "data": {
            "text/plain": [
              "14    103072\n",
              "7     102839\n",
              "15    102451\n",
              "10    100289\n",
              "8      99072\n",
              "13     98174\n",
              "4      98103\n",
              "11     97610\n",
              "6      97340\n",
              "3      97334\n",
              "9      96252\n",
              "17     95948\n",
              "12     94946\n",
              "5      94349\n",
              "26     93553\n",
              "16     91599\n",
              "25     90921\n",
              "18     89176\n",
              "27     85541\n",
              "19     84312\n",
              "20     82351\n",
              "22     80932\n",
              "28     80799\n",
              "29     80723\n",
              "24     80703\n",
              "21     78672\n",
              "2      77508\n",
              "1      77197\n",
              "23     75639\n",
              "30     74730\n",
              "31     53966\n",
              "Name: day, dtype: int64"
            ]
          },
          "metadata": {
            "tags": []
          },
          "execution_count": 12
        }
      ]
    },
    {
      "cell_type": "code",
      "metadata": {
        "colab": {
          "base_uri": "https://localhost:8080/"
        },
        "id": "Q_D7FxBKmu0h",
        "outputId": "987cfecb-baea-4f9b-f221-8a6731111ccd"
      },
      "source": [
        "#extracting hour\n",
        "web['hour'] = web.timestamp.dt.hour\n",
        "web.hour.unique()"
      ],
      "execution_count": 13,
      "outputs": [
        {
          "output_type": "execute_result",
          "data": {
            "text/plain": [
              "array([ 5,  4, 20, 21,  3, 16, 15, 18, 17, 12, 13, 14, 23, 22,  1,  2, 19,\n",
              "        8,  7,  6,  9, 10, 11,  0])"
            ]
          },
          "metadata": {
            "tags": []
          },
          "execution_count": 13
        }
      ]
    },
    {
      "cell_type": "code",
      "metadata": {
        "colab": {
          "base_uri": "https://localhost:8080/"
        },
        "id": "UnVxlDE0m2KS",
        "outputId": "7349c87c-cc89-4237-e4f8-8371f3120ea8"
      },
      "source": [
        "#value counts for each hour\n",
        "web.hour.value_counts()"
      ],
      "execution_count": 14,
      "outputs": [
        {
          "output_type": "execute_result",
          "data": {
            "text/plain": [
              "20    187919\n",
              "21    184297\n",
              "19    183348\n",
              "18    181200\n",
              "17    179651\n",
              "22    175956\n",
              "16    161784\n",
              "23    159084\n",
              "3     150860\n",
              "4     147184\n",
              "2     145879\n",
              "0     144303\n",
              "1     140702\n",
              "15    129092\n",
              "5     119572\n",
              "14     81823\n",
              "6      76972\n",
              "13     51089\n",
              "7      43944\n",
              "12     31486\n",
              "8      25309\n",
              "11     20330\n",
              "9      17909\n",
              "10     16408\n",
              "Name: hour, dtype: int64"
            ]
          },
          "metadata": {
            "tags": []
          },
          "execution_count": 14
        }
      ]
    },
    {
      "cell_type": "code",
      "metadata": {
        "colab": {
          "base_uri": "https://localhost:8080/"
        },
        "id": "iyHtt2lstJ_R",
        "outputId": "4378b98c-b8fc-440d-e80a-181399e166cb"
      },
      "source": [
        "#extracting the minute\n",
        "web['minute'] = web['timestamp'].dt.minute\n",
        "web.minute.unique()"
      ],
      "execution_count": 15,
      "outputs": [
        {
          "output_type": "execute_result",
          "data": {
            "text/plain": [
              "array([ 2, 50, 13, 12, 48, 34, 54,  0, 16,  8, 41, 47, 22, 33, 57,  1, 58,\n",
              "       15, 55, 51,  3, 56, 32, 40, 37, 20,  7, 42, 43, 59, 39, 19, 31, 36,\n",
              "       52, 44, 49, 14, 29, 45,  4, 28,  9, 23, 27, 46, 53, 17,  5, 18, 26,\n",
              "       10, 25, 24,  6, 21, 38, 11, 35, 30])"
            ]
          },
          "metadata": {
            "tags": []
          },
          "execution_count": 15
        }
      ]
    },
    {
      "cell_type": "code",
      "metadata": {
        "colab": {
          "base_uri": "https://localhost:8080/"
        },
        "id": "L7hjYsNFtWql",
        "outputId": "ef21b078-9151-4863-b52b-136d6dda7626"
      },
      "source": [
        "#minute value counts\n",
        "web.minute.value_counts()"
      ],
      "execution_count": 16,
      "outputs": [
        {
          "output_type": "execute_result",
          "data": {
            "text/plain": [
              "54    48316\n",
              "55    48121\n",
              "56    47605\n",
              "53    47056\n",
              "57    46776\n",
              "51    46726\n",
              "52    46649\n",
              "58    46626\n",
              "47    46560\n",
              "41    46545\n",
              "43    46427\n",
              "48    46361\n",
              "36    46269\n",
              "44    46206\n",
              "37    46195\n",
              "34    46190\n",
              "26    46097\n",
              "39    46079\n",
              "24    46073\n",
              "42    46022\n",
              "50    46022\n",
              "27    45999\n",
              "31    45978\n",
              "22    45938\n",
              "35    45916\n",
              "49    45908\n",
              "25    45867\n",
              "29    45867\n",
              "45    45847\n",
              "46    45840\n",
              "38    45837\n",
              "59    45816\n",
              "18    45787\n",
              "32    45768\n",
              "33    45760\n",
              "12    45725\n",
              "23    45657\n",
              "21    45655\n",
              "30    45630\n",
              "28    45619\n",
              "19    45619\n",
              "7     45587\n",
              "16    45578\n",
              "8     45575\n",
              "40    45555\n",
              "11    45535\n",
              "17    45493\n",
              "9     45476\n",
              "1     45470\n",
              "13    45374\n",
              "14    45352\n",
              "2     45350\n",
              "4     45335\n",
              "6     45289\n",
              "15    45278\n",
              "5     45240\n",
              "20    45149\n",
              "10    45047\n",
              "0     44882\n",
              "3     44582\n",
              "Name: minute, dtype: int64"
            ]
          },
          "metadata": {
            "tags": []
          },
          "execution_count": 16
        }
      ]
    },
    {
      "cell_type": "code",
      "metadata": {
        "colab": {
          "base_uri": "https://localhost:8080/",
          "height": 204
        },
        "id": "hUKftFxIm-8z",
        "outputId": "447085ed-b865-459e-a7cd-67a4db29b0a8"
      },
      "source": [
        "web.head()"
      ],
      "execution_count": 17,
      "outputs": [
        {
          "output_type": "execute_result",
          "data": {
            "text/html": [
              "<div>\n",
              "<style scoped>\n",
              "    .dataframe tbody tr th:only-of-type {\n",
              "        vertical-align: middle;\n",
              "    }\n",
              "\n",
              "    .dataframe tbody tr th {\n",
              "        vertical-align: top;\n",
              "    }\n",
              "\n",
              "    .dataframe thead th {\n",
              "        text-align: right;\n",
              "    }\n",
              "</style>\n",
              "<table border=\"1\" class=\"dataframe\">\n",
              "  <thead>\n",
              "    <tr style=\"text-align: right;\">\n",
              "      <th></th>\n",
              "      <th>timestamp</th>\n",
              "      <th>visitorid</th>\n",
              "      <th>event</th>\n",
              "      <th>itemid</th>\n",
              "      <th>transactionid</th>\n",
              "      <th>month</th>\n",
              "      <th>year</th>\n",
              "      <th>day</th>\n",
              "      <th>hour</th>\n",
              "      <th>minute</th>\n",
              "    </tr>\n",
              "  </thead>\n",
              "  <tbody>\n",
              "    <tr>\n",
              "      <th>0</th>\n",
              "      <td>2015-06-02 05:02:12.117</td>\n",
              "      <td>257597</td>\n",
              "      <td>view</td>\n",
              "      <td>355908</td>\n",
              "      <td>NaN</td>\n",
              "      <td>6</td>\n",
              "      <td>2015</td>\n",
              "      <td>2</td>\n",
              "      <td>5</td>\n",
              "      <td>2</td>\n",
              "    </tr>\n",
              "    <tr>\n",
              "      <th>1</th>\n",
              "      <td>2015-06-02 05:50:14.164</td>\n",
              "      <td>992329</td>\n",
              "      <td>view</td>\n",
              "      <td>248676</td>\n",
              "      <td>NaN</td>\n",
              "      <td>6</td>\n",
              "      <td>2015</td>\n",
              "      <td>2</td>\n",
              "      <td>5</td>\n",
              "      <td>50</td>\n",
              "    </tr>\n",
              "    <tr>\n",
              "      <th>2</th>\n",
              "      <td>2015-06-02 05:13:19.827</td>\n",
              "      <td>111016</td>\n",
              "      <td>view</td>\n",
              "      <td>318965</td>\n",
              "      <td>NaN</td>\n",
              "      <td>6</td>\n",
              "      <td>2015</td>\n",
              "      <td>2</td>\n",
              "      <td>5</td>\n",
              "      <td>13</td>\n",
              "    </tr>\n",
              "    <tr>\n",
              "      <th>3</th>\n",
              "      <td>2015-06-02 05:12:35.914</td>\n",
              "      <td>483717</td>\n",
              "      <td>view</td>\n",
              "      <td>253185</td>\n",
              "      <td>NaN</td>\n",
              "      <td>6</td>\n",
              "      <td>2015</td>\n",
              "      <td>2</td>\n",
              "      <td>5</td>\n",
              "      <td>12</td>\n",
              "    </tr>\n",
              "    <tr>\n",
              "      <th>4</th>\n",
              "      <td>2015-06-02 05:02:17.106</td>\n",
              "      <td>951259</td>\n",
              "      <td>view</td>\n",
              "      <td>367447</td>\n",
              "      <td>NaN</td>\n",
              "      <td>6</td>\n",
              "      <td>2015</td>\n",
              "      <td>2</td>\n",
              "      <td>5</td>\n",
              "      <td>2</td>\n",
              "    </tr>\n",
              "  </tbody>\n",
              "</table>\n",
              "</div>"
            ],
            "text/plain": [
              "                timestamp  visitorid event  itemid  ...  year  day  hour  minute\n",
              "0 2015-06-02 05:02:12.117     257597  view  355908  ...  2015    2     5       2\n",
              "1 2015-06-02 05:50:14.164     992329  view  248676  ...  2015    2     5      50\n",
              "2 2015-06-02 05:13:19.827     111016  view  318965  ...  2015    2     5      13\n",
              "3 2015-06-02 05:12:35.914     483717  view  253185  ...  2015    2     5      12\n",
              "4 2015-06-02 05:02:17.106     951259  view  367447  ...  2015    2     5       2\n",
              "\n",
              "[5 rows x 10 columns]"
            ]
          },
          "metadata": {
            "tags": []
          },
          "execution_count": 17
        }
      ]
    },
    {
      "cell_type": "code",
      "metadata": {
        "colab": {
          "base_uri": "https://localhost:8080/",
          "height": 204
        },
        "id": "SFiBSy57qYtt",
        "outputId": "45556aac-b7b7-4e49-9746-37ad9d7a5ef0"
      },
      "source": [
        "#rounding the hour\n",
        "hour_round = web['timestamp'].dt.round('H')\n",
        "web['hour_round'] = hour_round.dt.hour\n",
        "web.head()"
      ],
      "execution_count": 18,
      "outputs": [
        {
          "output_type": "execute_result",
          "data": {
            "text/html": [
              "<div>\n",
              "<style scoped>\n",
              "    .dataframe tbody tr th:only-of-type {\n",
              "        vertical-align: middle;\n",
              "    }\n",
              "\n",
              "    .dataframe tbody tr th {\n",
              "        vertical-align: top;\n",
              "    }\n",
              "\n",
              "    .dataframe thead th {\n",
              "        text-align: right;\n",
              "    }\n",
              "</style>\n",
              "<table border=\"1\" class=\"dataframe\">\n",
              "  <thead>\n",
              "    <tr style=\"text-align: right;\">\n",
              "      <th></th>\n",
              "      <th>timestamp</th>\n",
              "      <th>visitorid</th>\n",
              "      <th>event</th>\n",
              "      <th>itemid</th>\n",
              "      <th>transactionid</th>\n",
              "      <th>month</th>\n",
              "      <th>year</th>\n",
              "      <th>day</th>\n",
              "      <th>hour</th>\n",
              "      <th>minute</th>\n",
              "      <th>hour_round</th>\n",
              "    </tr>\n",
              "  </thead>\n",
              "  <tbody>\n",
              "    <tr>\n",
              "      <th>0</th>\n",
              "      <td>2015-06-02 05:02:12.117</td>\n",
              "      <td>257597</td>\n",
              "      <td>view</td>\n",
              "      <td>355908</td>\n",
              "      <td>NaN</td>\n",
              "      <td>6</td>\n",
              "      <td>2015</td>\n",
              "      <td>2</td>\n",
              "      <td>5</td>\n",
              "      <td>2</td>\n",
              "      <td>5</td>\n",
              "    </tr>\n",
              "    <tr>\n",
              "      <th>1</th>\n",
              "      <td>2015-06-02 05:50:14.164</td>\n",
              "      <td>992329</td>\n",
              "      <td>view</td>\n",
              "      <td>248676</td>\n",
              "      <td>NaN</td>\n",
              "      <td>6</td>\n",
              "      <td>2015</td>\n",
              "      <td>2</td>\n",
              "      <td>5</td>\n",
              "      <td>50</td>\n",
              "      <td>6</td>\n",
              "    </tr>\n",
              "    <tr>\n",
              "      <th>2</th>\n",
              "      <td>2015-06-02 05:13:19.827</td>\n",
              "      <td>111016</td>\n",
              "      <td>view</td>\n",
              "      <td>318965</td>\n",
              "      <td>NaN</td>\n",
              "      <td>6</td>\n",
              "      <td>2015</td>\n",
              "      <td>2</td>\n",
              "      <td>5</td>\n",
              "      <td>13</td>\n",
              "      <td>5</td>\n",
              "    </tr>\n",
              "    <tr>\n",
              "      <th>3</th>\n",
              "      <td>2015-06-02 05:12:35.914</td>\n",
              "      <td>483717</td>\n",
              "      <td>view</td>\n",
              "      <td>253185</td>\n",
              "      <td>NaN</td>\n",
              "      <td>6</td>\n",
              "      <td>2015</td>\n",
              "      <td>2</td>\n",
              "      <td>5</td>\n",
              "      <td>12</td>\n",
              "      <td>5</td>\n",
              "    </tr>\n",
              "    <tr>\n",
              "      <th>4</th>\n",
              "      <td>2015-06-02 05:02:17.106</td>\n",
              "      <td>951259</td>\n",
              "      <td>view</td>\n",
              "      <td>367447</td>\n",
              "      <td>NaN</td>\n",
              "      <td>6</td>\n",
              "      <td>2015</td>\n",
              "      <td>2</td>\n",
              "      <td>5</td>\n",
              "      <td>2</td>\n",
              "      <td>5</td>\n",
              "    </tr>\n",
              "  </tbody>\n",
              "</table>\n",
              "</div>"
            ],
            "text/plain": [
              "                timestamp  visitorid event  ...  hour  minute  hour_round\n",
              "0 2015-06-02 05:02:12.117     257597  view  ...     5       2           5\n",
              "1 2015-06-02 05:50:14.164     992329  view  ...     5      50           6\n",
              "2 2015-06-02 05:13:19.827     111016  view  ...     5      13           5\n",
              "3 2015-06-02 05:12:35.914     483717  view  ...     5      12           5\n",
              "4 2015-06-02 05:02:17.106     951259  view  ...     5       2           5\n",
              "\n",
              "[5 rows x 11 columns]"
            ]
          },
          "metadata": {
            "tags": []
          },
          "execution_count": 18
        }
      ]
    },
    {
      "cell_type": "code",
      "metadata": {
        "colab": {
          "base_uri": "https://localhost:8080/"
        },
        "id": "BfW9oBzrqoPW",
        "outputId": "7552f6da-bf86-48b0-88f0-eb1e1792c6c7"
      },
      "source": [
        "#value counts for rounded hour\n",
        "web.hour_round.value_counts()"
      ],
      "execution_count": 19,
      "outputs": [
        {
          "output_type": "execute_result",
          "data": {
            "text/plain": [
              "21    186821\n",
              "20    186163\n",
              "18    182608\n",
              "19    181444\n",
              "22    180913\n",
              "17    172255\n",
              "23    168257\n",
              "4     151716\n",
              "0     151210\n",
              "3     148576\n",
              "16    147325\n",
              "2     142286\n",
              "1     141481\n",
              "5     135492\n",
              "15    104702\n",
              "6      99396\n",
              "14     63954\n",
              "7      58369\n",
              "13     40588\n",
              "8      33111\n",
              "12     24735\n",
              "9      20755\n",
              "11     17686\n",
              "10     16258\n",
              "Name: hour_round, dtype: int64"
            ]
          },
          "metadata": {
            "tags": []
          },
          "execution_count": 19
        }
      ]
    },
    {
      "cell_type": "code",
      "metadata": {
        "colab": {
          "base_uri": "https://localhost:8080/"
        },
        "id": "u6c91mzhqEeo",
        "outputId": "3833cab7-4fce-4ebd-a8ee-212dd8a1b23f"
      },
      "source": [
        "#earliest date\n",
        "web['timestamp'].min()"
      ],
      "execution_count": 20,
      "outputs": [
        {
          "output_type": "execute_result",
          "data": {
            "text/plain": [
              "Timestamp('2015-05-03 03:00:04.384000')"
            ]
          },
          "metadata": {
            "tags": []
          },
          "execution_count": 20
        }
      ]
    },
    {
      "cell_type": "code",
      "metadata": {
        "colab": {
          "base_uri": "https://localhost:8080/"
        },
        "id": "BDYNwF9dqViM",
        "outputId": "b8bf3bfa-7bd3-4ec5-f8ef-3d1fcab72904"
      },
      "source": [
        "#latest date\n",
        "web['timestamp'].max()"
      ],
      "execution_count": 21,
      "outputs": [
        {
          "output_type": "execute_result",
          "data": {
            "text/plain": [
              "Timestamp('2015-09-18 02:59:47.788000')"
            ]
          },
          "metadata": {
            "tags": []
          },
          "execution_count": 21
        }
      ]
    },
    {
      "cell_type": "markdown",
      "metadata": {
        "id": "Z8IxSJk7tun_"
      },
      "source": [
        "*It seems that most of the web events are occurring later in the day between the rounded hours of 18:00H and 22:00H and during the months June and July having the most occuring events. Also the most frequent days for the events are the 14th, 15th, 7th, and 10th.*\n",
        "\n",
        "*The earliest date in the dataset is May 3 2015 at 3am and the latest is September 18 2015 at 2:59am.*"
      ]
    },
    {
      "cell_type": "code",
      "metadata": {
        "id": "fgkpj8e9rBui"
      },
      "source": [
        ""
      ],
      "execution_count": 21,
      "outputs": []
    },
    {
      "cell_type": "code",
      "metadata": {
        "colab": {
          "base_uri": "https://localhost:8080/",
          "height": 496
        },
        "id": "PdSiVmHbrMh-",
        "outputId": "86be65f5-f05f-4cd1-be41-7c1beb66d2c2"
      },
      "source": [
        "#life expectancy data\n",
        "life = pd.read_csv('https://tf-assets-prod.s3.amazonaws.com/tf-curric/data-science/life_expectancy.csv')\n",
        "life.head()"
      ],
      "execution_count": 22,
      "outputs": [
        {
          "output_type": "execute_result",
          "data": {
            "text/html": [
              "<div>\n",
              "<style scoped>\n",
              "    .dataframe tbody tr th:only-of-type {\n",
              "        vertical-align: middle;\n",
              "    }\n",
              "\n",
              "    .dataframe tbody tr th {\n",
              "        vertical-align: top;\n",
              "    }\n",
              "\n",
              "    .dataframe thead th {\n",
              "        text-align: right;\n",
              "    }\n",
              "</style>\n",
              "<table border=\"1\" class=\"dataframe\">\n",
              "  <thead>\n",
              "    <tr style=\"text-align: right;\">\n",
              "      <th></th>\n",
              "      <th>Country Name</th>\n",
              "      <th>Country Code</th>\n",
              "      <th>Indicator Name</th>\n",
              "      <th>Indicator Code</th>\n",
              "      <th>1960</th>\n",
              "      <th>1961</th>\n",
              "      <th>1962</th>\n",
              "      <th>1963</th>\n",
              "      <th>1964</th>\n",
              "      <th>1965</th>\n",
              "      <th>1966</th>\n",
              "      <th>1967</th>\n",
              "      <th>1968</th>\n",
              "      <th>1969</th>\n",
              "      <th>1970</th>\n",
              "      <th>1971</th>\n",
              "      <th>1972</th>\n",
              "      <th>1973</th>\n",
              "      <th>1974</th>\n",
              "      <th>1975</th>\n",
              "      <th>1976</th>\n",
              "      <th>1977</th>\n",
              "      <th>1978</th>\n",
              "      <th>1979</th>\n",
              "      <th>1980</th>\n",
              "      <th>1981</th>\n",
              "      <th>1982</th>\n",
              "      <th>1983</th>\n",
              "      <th>1984</th>\n",
              "      <th>1985</th>\n",
              "      <th>1986</th>\n",
              "      <th>1987</th>\n",
              "      <th>1988</th>\n",
              "      <th>1989</th>\n",
              "      <th>1990</th>\n",
              "      <th>1991</th>\n",
              "      <th>1992</th>\n",
              "      <th>1993</th>\n",
              "      <th>1994</th>\n",
              "      <th>1995</th>\n",
              "      <th>1996</th>\n",
              "      <th>1997</th>\n",
              "      <th>1998</th>\n",
              "      <th>1999</th>\n",
              "      <th>2000</th>\n",
              "      <th>2001</th>\n",
              "      <th>2002</th>\n",
              "      <th>2003</th>\n",
              "      <th>2004</th>\n",
              "      <th>2005</th>\n",
              "      <th>2006</th>\n",
              "      <th>2007</th>\n",
              "      <th>2008</th>\n",
              "      <th>2009</th>\n",
              "      <th>2010</th>\n",
              "      <th>2011</th>\n",
              "      <th>2012</th>\n",
              "      <th>2013</th>\n",
              "      <th>2014</th>\n",
              "      <th>2015</th>\n",
              "      <th>2016</th>\n",
              "    </tr>\n",
              "  </thead>\n",
              "  <tbody>\n",
              "    <tr>\n",
              "      <th>0</th>\n",
              "      <td>Aruba</td>\n",
              "      <td>ABW</td>\n",
              "      <td>Life expectancy at birth, total (years)</td>\n",
              "      <td>SP.DYN.LE00.IN</td>\n",
              "      <td>65.662</td>\n",
              "      <td>66.074</td>\n",
              "      <td>66.444</td>\n",
              "      <td>66.787</td>\n",
              "      <td>67.113</td>\n",
              "      <td>67.435</td>\n",
              "      <td>67.762</td>\n",
              "      <td>68.095</td>\n",
              "      <td>68.436</td>\n",
              "      <td>68.784</td>\n",
              "      <td>69.140</td>\n",
              "      <td>69.498</td>\n",
              "      <td>69.851</td>\n",
              "      <td>70.191</td>\n",
              "      <td>70.519</td>\n",
              "      <td>70.833</td>\n",
              "      <td>71.140</td>\n",
              "      <td>71.441</td>\n",
              "      <td>71.736</td>\n",
              "      <td>72.023</td>\n",
              "      <td>72.293</td>\n",
              "      <td>72.538</td>\n",
              "      <td>72.751</td>\n",
              "      <td>72.929</td>\n",
              "      <td>73.071</td>\n",
              "      <td>73.181</td>\n",
              "      <td>73.262</td>\n",
              "      <td>73.325</td>\n",
              "      <td>73.378</td>\n",
              "      <td>73.425</td>\n",
              "      <td>73.468</td>\n",
              "      <td>73.509</td>\n",
              "      <td>73.544</td>\n",
              "      <td>73.573</td>\n",
              "      <td>73.598</td>\n",
              "      <td>73.622</td>\n",
              "      <td>73.646</td>\n",
              "      <td>73.671</td>\n",
              "      <td>73.700</td>\n",
              "      <td>73.738</td>\n",
              "      <td>73.787</td>\n",
              "      <td>73.853</td>\n",
              "      <td>73.937</td>\n",
              "      <td>74.038</td>\n",
              "      <td>74.156</td>\n",
              "      <td>74.287</td>\n",
              "      <td>74.429</td>\n",
              "      <td>74.576</td>\n",
              "      <td>74.725</td>\n",
              "      <td>74.872</td>\n",
              "      <td>75.016</td>\n",
              "      <td>75.158</td>\n",
              "      <td>75.299</td>\n",
              "      <td>75.440</td>\n",
              "      <td>75.582</td>\n",
              "      <td>75.725</td>\n",
              "      <td>75.867</td>\n",
              "    </tr>\n",
              "    <tr>\n",
              "      <th>1</th>\n",
              "      <td>Afghanistan</td>\n",
              "      <td>AFG</td>\n",
              "      <td>Life expectancy at birth, total (years)</td>\n",
              "      <td>SP.DYN.LE00.IN</td>\n",
              "      <td>32.292</td>\n",
              "      <td>32.742</td>\n",
              "      <td>33.185</td>\n",
              "      <td>33.624</td>\n",
              "      <td>34.060</td>\n",
              "      <td>34.495</td>\n",
              "      <td>34.928</td>\n",
              "      <td>35.361</td>\n",
              "      <td>35.796</td>\n",
              "      <td>36.234</td>\n",
              "      <td>36.678</td>\n",
              "      <td>37.128</td>\n",
              "      <td>37.587</td>\n",
              "      <td>38.056</td>\n",
              "      <td>38.540</td>\n",
              "      <td>39.039</td>\n",
              "      <td>39.556</td>\n",
              "      <td>40.092</td>\n",
              "      <td>40.650</td>\n",
              "      <td>41.234</td>\n",
              "      <td>41.853</td>\n",
              "      <td>42.513</td>\n",
              "      <td>43.217</td>\n",
              "      <td>43.963</td>\n",
              "      <td>44.747</td>\n",
              "      <td>45.566</td>\n",
              "      <td>46.417</td>\n",
              "      <td>47.288</td>\n",
              "      <td>48.164</td>\n",
              "      <td>49.028</td>\n",
              "      <td>49.856</td>\n",
              "      <td>50.627</td>\n",
              "      <td>51.331</td>\n",
              "      <td>51.968</td>\n",
              "      <td>52.539</td>\n",
              "      <td>53.055</td>\n",
              "      <td>53.533</td>\n",
              "      <td>53.997</td>\n",
              "      <td>54.468</td>\n",
              "      <td>54.959</td>\n",
              "      <td>55.482</td>\n",
              "      <td>56.044</td>\n",
              "      <td>56.637</td>\n",
              "      <td>57.250</td>\n",
              "      <td>57.875</td>\n",
              "      <td>58.500</td>\n",
              "      <td>59.110</td>\n",
              "      <td>59.694</td>\n",
              "      <td>60.243</td>\n",
              "      <td>60.754</td>\n",
              "      <td>61.226</td>\n",
              "      <td>61.666</td>\n",
              "      <td>62.086</td>\n",
              "      <td>62.494</td>\n",
              "      <td>62.895</td>\n",
              "      <td>63.288</td>\n",
              "      <td>63.673</td>\n",
              "    </tr>\n",
              "    <tr>\n",
              "      <th>2</th>\n",
              "      <td>Angola</td>\n",
              "      <td>AGO</td>\n",
              "      <td>Life expectancy at birth, total (years)</td>\n",
              "      <td>SP.DYN.LE00.IN</td>\n",
              "      <td>33.251</td>\n",
              "      <td>33.573</td>\n",
              "      <td>33.914</td>\n",
              "      <td>34.272</td>\n",
              "      <td>34.645</td>\n",
              "      <td>35.031</td>\n",
              "      <td>35.426</td>\n",
              "      <td>35.828</td>\n",
              "      <td>36.234</td>\n",
              "      <td>36.640</td>\n",
              "      <td>37.047</td>\n",
              "      <td>37.460</td>\n",
              "      <td>37.878</td>\n",
              "      <td>38.297</td>\n",
              "      <td>38.712</td>\n",
              "      <td>39.110</td>\n",
              "      <td>39.478</td>\n",
              "      <td>39.810</td>\n",
              "      <td>40.099</td>\n",
              "      <td>40.344</td>\n",
              "      <td>40.546</td>\n",
              "      <td>40.710</td>\n",
              "      <td>40.848</td>\n",
              "      <td>40.970</td>\n",
              "      <td>41.085</td>\n",
              "      <td>41.193</td>\n",
              "      <td>41.292</td>\n",
              "      <td>41.382</td>\n",
              "      <td>41.471</td>\n",
              "      <td>41.572</td>\n",
              "      <td>41.696</td>\n",
              "      <td>41.855</td>\n",
              "      <td>42.060</td>\n",
              "      <td>42.329</td>\n",
              "      <td>42.677</td>\n",
              "      <td>43.125</td>\n",
              "      <td>43.695</td>\n",
              "      <td>44.385</td>\n",
              "      <td>45.192</td>\n",
              "      <td>46.105</td>\n",
              "      <td>47.113</td>\n",
              "      <td>48.200</td>\n",
              "      <td>49.341</td>\n",
              "      <td>50.508</td>\n",
              "      <td>51.676</td>\n",
              "      <td>52.833</td>\n",
              "      <td>53.974</td>\n",
              "      <td>55.096</td>\n",
              "      <td>56.189</td>\n",
              "      <td>57.231</td>\n",
              "      <td>58.192</td>\n",
              "      <td>59.042</td>\n",
              "      <td>59.770</td>\n",
              "      <td>60.373</td>\n",
              "      <td>60.858</td>\n",
              "      <td>61.241</td>\n",
              "      <td>61.547</td>\n",
              "    </tr>\n",
              "    <tr>\n",
              "      <th>3</th>\n",
              "      <td>Albania</td>\n",
              "      <td>ALB</td>\n",
              "      <td>Life expectancy at birth, total (years)</td>\n",
              "      <td>SP.DYN.LE00.IN</td>\n",
              "      <td>62.279</td>\n",
              "      <td>63.298</td>\n",
              "      <td>64.187</td>\n",
              "      <td>64.911</td>\n",
              "      <td>65.461</td>\n",
              "      <td>65.848</td>\n",
              "      <td>66.108</td>\n",
              "      <td>66.302</td>\n",
              "      <td>66.485</td>\n",
              "      <td>66.687</td>\n",
              "      <td>66.933</td>\n",
              "      <td>67.235</td>\n",
              "      <td>67.580</td>\n",
              "      <td>67.951</td>\n",
              "      <td>68.341</td>\n",
              "      <td>68.734</td>\n",
              "      <td>69.108</td>\n",
              "      <td>69.447</td>\n",
              "      <td>69.741</td>\n",
              "      <td>69.990</td>\n",
              "      <td>70.207</td>\n",
              "      <td>70.416</td>\n",
              "      <td>70.635</td>\n",
              "      <td>70.876</td>\n",
              "      <td>71.134</td>\n",
              "      <td>71.388</td>\n",
              "      <td>71.605</td>\n",
              "      <td>71.760</td>\n",
              "      <td>71.843</td>\n",
              "      <td>71.860</td>\n",
              "      <td>71.836</td>\n",
              "      <td>71.803</td>\n",
              "      <td>71.802</td>\n",
              "      <td>71.860</td>\n",
              "      <td>71.992</td>\n",
              "      <td>72.205</td>\n",
              "      <td>72.495</td>\n",
              "      <td>72.838</td>\n",
              "      <td>73.208</td>\n",
              "      <td>73.588</td>\n",
              "      <td>73.955</td>\n",
              "      <td>74.286</td>\n",
              "      <td>74.575</td>\n",
              "      <td>74.820</td>\n",
              "      <td>75.028</td>\n",
              "      <td>75.217</td>\n",
              "      <td>75.418</td>\n",
              "      <td>75.656</td>\n",
              "      <td>75.943</td>\n",
              "      <td>76.281</td>\n",
              "      <td>76.652</td>\n",
              "      <td>77.031</td>\n",
              "      <td>77.389</td>\n",
              "      <td>77.702</td>\n",
              "      <td>77.963</td>\n",
              "      <td>78.174</td>\n",
              "      <td>78.345</td>\n",
              "    </tr>\n",
              "    <tr>\n",
              "      <th>4</th>\n",
              "      <td>Andorra</td>\n",
              "      <td>AND</td>\n",
              "      <td>Life expectancy at birth, total (years)</td>\n",
              "      <td>SP.DYN.LE00.IN</td>\n",
              "      <td>NaN</td>\n",
              "      <td>NaN</td>\n",
              "      <td>NaN</td>\n",
              "      <td>NaN</td>\n",
              "      <td>NaN</td>\n",
              "      <td>NaN</td>\n",
              "      <td>NaN</td>\n",
              "      <td>NaN</td>\n",
              "      <td>NaN</td>\n",
              "      <td>NaN</td>\n",
              "      <td>NaN</td>\n",
              "      <td>NaN</td>\n",
              "      <td>NaN</td>\n",
              "      <td>NaN</td>\n",
              "      <td>NaN</td>\n",
              "      <td>NaN</td>\n",
              "      <td>NaN</td>\n",
              "      <td>NaN</td>\n",
              "      <td>NaN</td>\n",
              "      <td>NaN</td>\n",
              "      <td>NaN</td>\n",
              "      <td>NaN</td>\n",
              "      <td>NaN</td>\n",
              "      <td>NaN</td>\n",
              "      <td>NaN</td>\n",
              "      <td>NaN</td>\n",
              "      <td>NaN</td>\n",
              "      <td>NaN</td>\n",
              "      <td>NaN</td>\n",
              "      <td>NaN</td>\n",
              "      <td>NaN</td>\n",
              "      <td>NaN</td>\n",
              "      <td>NaN</td>\n",
              "      <td>NaN</td>\n",
              "      <td>NaN</td>\n",
              "      <td>NaN</td>\n",
              "      <td>NaN</td>\n",
              "      <td>NaN</td>\n",
              "      <td>NaN</td>\n",
              "      <td>NaN</td>\n",
              "      <td>NaN</td>\n",
              "      <td>NaN</td>\n",
              "      <td>NaN</td>\n",
              "      <td>NaN</td>\n",
              "      <td>NaN</td>\n",
              "      <td>NaN</td>\n",
              "      <td>NaN</td>\n",
              "      <td>NaN</td>\n",
              "      <td>NaN</td>\n",
              "      <td>NaN</td>\n",
              "      <td>NaN</td>\n",
              "      <td>NaN</td>\n",
              "      <td>NaN</td>\n",
              "      <td>NaN</td>\n",
              "      <td>NaN</td>\n",
              "      <td>NaN</td>\n",
              "      <td>NaN</td>\n",
              "    </tr>\n",
              "  </tbody>\n",
              "</table>\n",
              "</div>"
            ],
            "text/plain": [
              "  Country Name Country Code  ...    2015    2016\n",
              "0        Aruba          ABW  ...  75.725  75.867\n",
              "1  Afghanistan          AFG  ...  63.288  63.673\n",
              "2       Angola          AGO  ...  61.241  61.547\n",
              "3      Albania          ALB  ...  78.174  78.345\n",
              "4      Andorra          AND  ...     NaN     NaN\n",
              "\n",
              "[5 rows x 61 columns]"
            ]
          },
          "metadata": {
            "tags": []
          },
          "execution_count": 22
        }
      ]
    },
    {
      "cell_type": "code",
      "metadata": {
        "id": "z3D7M9b4rZfF"
      },
      "source": [
        "#Transform/melt years columns\n",
        "ids = ['Country Name', 'Country Code', 'Indicator Name', 'Indicator Code']"
      ],
      "execution_count": 23,
      "outputs": []
    },
    {
      "cell_type": "code",
      "metadata": {
        "id": "dEC3UD2Er5ez"
      },
      "source": [
        "melt_fields = list(life.columns.drop(ids))"
      ],
      "execution_count": 24,
      "outputs": []
    },
    {
      "cell_type": "code",
      "metadata": {
        "colab": {
          "base_uri": "https://localhost:8080/",
          "height": 204
        },
        "id": "gcxTSKQXr8s_",
        "outputId": "74ea9db3-27fd-4d77-cdce-3bdfe7834fdd"
      },
      "source": [
        "#melted dataset\n",
        "melted = pd.melt(life,\n",
        "                 id_vars=ids,\n",
        "                 value_vars=melt_fields,\n",
        "                 var_name='Year',\n",
        "                 value_name='Value')\n",
        "melted.head()"
      ],
      "execution_count": 25,
      "outputs": [
        {
          "output_type": "execute_result",
          "data": {
            "text/html": [
              "<div>\n",
              "<style scoped>\n",
              "    .dataframe tbody tr th:only-of-type {\n",
              "        vertical-align: middle;\n",
              "    }\n",
              "\n",
              "    .dataframe tbody tr th {\n",
              "        vertical-align: top;\n",
              "    }\n",
              "\n",
              "    .dataframe thead th {\n",
              "        text-align: right;\n",
              "    }\n",
              "</style>\n",
              "<table border=\"1\" class=\"dataframe\">\n",
              "  <thead>\n",
              "    <tr style=\"text-align: right;\">\n",
              "      <th></th>\n",
              "      <th>Country Name</th>\n",
              "      <th>Country Code</th>\n",
              "      <th>Indicator Name</th>\n",
              "      <th>Indicator Code</th>\n",
              "      <th>Year</th>\n",
              "      <th>Value</th>\n",
              "    </tr>\n",
              "  </thead>\n",
              "  <tbody>\n",
              "    <tr>\n",
              "      <th>0</th>\n",
              "      <td>Aruba</td>\n",
              "      <td>ABW</td>\n",
              "      <td>Life expectancy at birth, total (years)</td>\n",
              "      <td>SP.DYN.LE00.IN</td>\n",
              "      <td>1960</td>\n",
              "      <td>65.662</td>\n",
              "    </tr>\n",
              "    <tr>\n",
              "      <th>1</th>\n",
              "      <td>Afghanistan</td>\n",
              "      <td>AFG</td>\n",
              "      <td>Life expectancy at birth, total (years)</td>\n",
              "      <td>SP.DYN.LE00.IN</td>\n",
              "      <td>1960</td>\n",
              "      <td>32.292</td>\n",
              "    </tr>\n",
              "    <tr>\n",
              "      <th>2</th>\n",
              "      <td>Angola</td>\n",
              "      <td>AGO</td>\n",
              "      <td>Life expectancy at birth, total (years)</td>\n",
              "      <td>SP.DYN.LE00.IN</td>\n",
              "      <td>1960</td>\n",
              "      <td>33.251</td>\n",
              "    </tr>\n",
              "    <tr>\n",
              "      <th>3</th>\n",
              "      <td>Albania</td>\n",
              "      <td>ALB</td>\n",
              "      <td>Life expectancy at birth, total (years)</td>\n",
              "      <td>SP.DYN.LE00.IN</td>\n",
              "      <td>1960</td>\n",
              "      <td>62.279</td>\n",
              "    </tr>\n",
              "    <tr>\n",
              "      <th>4</th>\n",
              "      <td>Andorra</td>\n",
              "      <td>AND</td>\n",
              "      <td>Life expectancy at birth, total (years)</td>\n",
              "      <td>SP.DYN.LE00.IN</td>\n",
              "      <td>1960</td>\n",
              "      <td>NaN</td>\n",
              "    </tr>\n",
              "  </tbody>\n",
              "</table>\n",
              "</div>"
            ],
            "text/plain": [
              "  Country Name Country Code  ...  Year   Value\n",
              "0        Aruba          ABW  ...  1960  65.662\n",
              "1  Afghanistan          AFG  ...  1960  32.292\n",
              "2       Angola          AGO  ...  1960  33.251\n",
              "3      Albania          ALB  ...  1960  62.279\n",
              "4      Andorra          AND  ...  1960     NaN\n",
              "\n",
              "[5 rows x 6 columns]"
            ]
          },
          "metadata": {
            "tags": []
          },
          "execution_count": 25
        }
      ]
    },
    {
      "cell_type": "markdown",
      "metadata": {
        "id": "BLVvlK1Zvj6H"
      },
      "source": [
        "**IMPUTATION**\n",
        "\n",
        "*for missing values*"
      ]
    },
    {
      "cell_type": "code",
      "metadata": {
        "colab": {
          "base_uri": "https://localhost:8080/"
        },
        "id": "97yo1Q9qsisX",
        "outputId": "2dd969ea-e76c-4c8c-8ea0-2fe265e4d57c"
      },
      "source": [
        "value_mean = melted.Value.fillna(melted['Value'].mean())\n",
        "value_mean.head()"
      ],
      "execution_count": 30,
      "outputs": [
        {
          "output_type": "execute_result",
          "data": {
            "text/plain": [
              "0    65.662000\n",
              "1    32.292000\n",
              "2    33.251000\n",
              "3    62.279000\n",
              "4    63.544406\n",
              "Name: Value, dtype: float64"
            ]
          },
          "metadata": {
            "tags": []
          },
          "execution_count": 30
        }
      ]
    },
    {
      "cell_type": "code",
      "metadata": {
        "colab": {
          "base_uri": "https://localhost:8080/"
        },
        "id": "frjn_CEu4O5c",
        "outputId": "1a3e0048-85de-4f9d-b56d-28bd28e5dbcc"
      },
      "source": [
        "value_med = melted.Value.fillna(melted['Value'].median())\n",
        "value_med.head()"
      ],
      "execution_count": 31,
      "outputs": [
        {
          "output_type": "execute_result",
          "data": {
            "text/plain": [
              "0    65.662\n",
              "1    32.292\n",
              "2    33.251\n",
              "3    62.279\n",
              "4    66.328\n",
              "Name: Value, dtype: float64"
            ]
          },
          "metadata": {
            "tags": []
          },
          "execution_count": 31
        }
      ]
    },
    {
      "cell_type": "code",
      "metadata": {
        "colab": {
          "base_uri": "https://localhost:8080/"
        },
        "id": "iqwKl7uk4cCz",
        "outputId": "3ce97f61-1af7-48b6-e07e-576e9aab1e58"
      },
      "source": [
        "value_mode = melted.Value.fillna(melted['Value'].mode())\n",
        "value_mode.head()"
      ],
      "execution_count": 32,
      "outputs": [
        {
          "output_type": "execute_result",
          "data": {
            "text/plain": [
              "0    65.662\n",
              "1    32.292\n",
              "2    33.251\n",
              "3    62.279\n",
              "4       NaN\n",
              "Name: Value, dtype: float64"
            ]
          },
          "metadata": {
            "tags": []
          },
          "execution_count": 32
        }
      ]
    },
    {
      "cell_type": "code",
      "metadata": {
        "colab": {
          "base_uri": "https://localhost:8080/"
        },
        "id": "Ph3dX0Gr4rg8",
        "outputId": "ae3526de-b0d6-43b7-9d29-d2c2d726c06d"
      },
      "source": [
        "value_zero = melted.Value.fillna(0)\n",
        "value_zero.head()"
      ],
      "execution_count": 33,
      "outputs": [
        {
          "output_type": "execute_result",
          "data": {
            "text/plain": [
              "0    65.662\n",
              "1    32.292\n",
              "2    33.251\n",
              "3    62.279\n",
              "4     0.000\n",
              "Name: Value, dtype: float64"
            ]
          },
          "metadata": {
            "tags": []
          },
          "execution_count": 33
        }
      ]
    },
    {
      "cell_type": "markdown",
      "metadata": {
        "id": "zw9IrTOQ5jOU"
      },
      "source": [
        "**INTERPOLATION**\n",
        "\n",
        "*for missing values*"
      ]
    },
    {
      "cell_type": "code",
      "metadata": {
        "colab": {
          "base_uri": "https://localhost:8080/"
        },
        "id": "ewoVPjpf5fiq",
        "outputId": "80877cf5-f1c4-456b-c786-86a01ecd754b"
      },
      "source": [
        "front_fill = melted.Value.fillna(method='ffill')\n",
        "front_fill.head()"
      ],
      "execution_count": 34,
      "outputs": [
        {
          "output_type": "execute_result",
          "data": {
            "text/plain": [
              "0    65.662\n",
              "1    32.292\n",
              "2    33.251\n",
              "3    62.279\n",
              "4    62.279\n",
              "Name: Value, dtype: float64"
            ]
          },
          "metadata": {
            "tags": []
          },
          "execution_count": 34
        }
      ]
    },
    {
      "cell_type": "code",
      "metadata": {
        "colab": {
          "base_uri": "https://localhost:8080/"
        },
        "id": "Op8ZJSrI50IM",
        "outputId": "059a5474-aaa7-48fb-a49f-6da5bb2c1324"
      },
      "source": [
        "back_fill = melted.Value.fillna(method='bfill')\n",
        "back_fill.head()"
      ],
      "execution_count": 35,
      "outputs": [
        {
          "output_type": "execute_result",
          "data": {
            "text/plain": [
              "0    65.662000\n",
              "1    32.292000\n",
              "2    33.251000\n",
              "3    62.279000\n",
              "4    46.825065\n",
              "Name: Value, dtype: float64"
            ]
          },
          "metadata": {
            "tags": []
          },
          "execution_count": 35
        }
      ]
    },
    {
      "cell_type": "code",
      "metadata": {
        "colab": {
          "base_uri": "https://localhost:8080/"
        },
        "id": "tHdyv3bQ56t9",
        "outputId": "16bceac7-46d5-4cd1-e54a-50b5dcd57a2c"
      },
      "source": [
        "smoothed = (front_fill + back_fill) / 2\n",
        "smoothed.head()"
      ],
      "execution_count": 36,
      "outputs": [
        {
          "output_type": "execute_result",
          "data": {
            "text/plain": [
              "0    65.662000\n",
              "1    32.292000\n",
              "2    33.251000\n",
              "3    62.279000\n",
              "4    54.552032\n",
              "Name: Value, dtype: float64"
            ]
          },
          "metadata": {
            "tags": []
          },
          "execution_count": 36
        }
      ]
    },
    {
      "cell_type": "markdown",
      "metadata": {
        "id": "alDLn6T36O15"
      },
      "source": [
        "**DELETION**\n",
        "\n",
        "*for missing values*"
      ]
    },
    {
      "cell_type": "code",
      "metadata": {
        "colab": {
          "base_uri": "https://localhost:8080/"
        },
        "id": "cpCsFrtP6C--",
        "outputId": "b5c9eac0-1338-437d-deb7-061707d941e1"
      },
      "source": [
        "dropped = melted['Value'].dropna()\n",
        "dropped.head()"
      ],
      "execution_count": 37,
      "outputs": [
        {
          "output_type": "execute_result",
          "data": {
            "text/plain": [
              "0    65.662000\n",
              "1    32.292000\n",
              "2    33.251000\n",
              "3    62.279000\n",
              "5    46.825065\n",
              "Name: Value, dtype: float64"
            ]
          },
          "metadata": {
            "tags": []
          },
          "execution_count": 37
        }
      ]
    },
    {
      "cell_type": "code",
      "metadata": {
        "id": "vn-PuPum6ekJ"
      },
      "source": [
        ""
      ],
      "execution_count": null,
      "outputs": []
    }
  ]
}