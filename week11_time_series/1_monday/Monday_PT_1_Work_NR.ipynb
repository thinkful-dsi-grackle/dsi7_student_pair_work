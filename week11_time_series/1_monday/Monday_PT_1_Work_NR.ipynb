{
  "nbformat": 4,
  "nbformat_minor": 0,
  "metadata": {
    "colab": {
      "name": "Monday PT 1 Work NR",
      "provenance": [],
      "collapsed_sections": []
    },
    "kernelspec": {
      "name": "python3",
      "display_name": "Python 3"
    }
  },
  "cells": [
    {
      "cell_type": "code",
      "metadata": {
        "id": "lyoIfusZwUTr"
      },
      "source": [
        "import pandas as pd\r\n",
        "from datetime import datetime as dt\r\n",
        "from datetime import timedelta"
      ],
      "execution_count": 1,
      "outputs": []
    },
    {
      "cell_type": "code",
      "metadata": {
        "id": "g393EPwYzisA"
      },
      "source": [
        "#Define a variable and assign it a date string value of ‘10/20/2019’.\r\n",
        "date = '10/20/2019'"
      ],
      "execution_count": 9,
      "outputs": []
    },
    {
      "cell_type": "code",
      "metadata": {
        "colab": {
          "base_uri": "https://localhost:8080/"
        },
        "id": "8d25M4xyzuUz",
        "outputId": "1b2a6cb1-7954-497c-a534-8f0486a313eb"
      },
      "source": [
        "#Convert thed date string to a datetime object\r\n",
        "date = dt.strptime(date, '%m/%d/%Y')\r\n",
        "type(date)"
      ],
      "execution_count": 10,
      "outputs": [
        {
          "output_type": "execute_result",
          "data": {
            "text/plain": [
              "datetime.datetime"
            ]
          },
          "metadata": {
            "tags": []
          },
          "execution_count": 10
        }
      ]
    },
    {
      "cell_type": "code",
      "metadata": {
        "colab": {
          "base_uri": "https://localhost:8080/"
        },
        "id": "MiCm9XE-z_EQ",
        "outputId": "b0d4be03-3102-45ab-e0a8-d2827a23c096"
      },
      "source": [
        "#Extract the month, day, and year from the datetime object.\r\n",
        "print(date.month, date.day, date.year)"
      ],
      "execution_count": 11,
      "outputs": [
        {
          "output_type": "stream",
          "text": [
            "10 20 2019\n"
          ],
          "name": "stdout"
        }
      ]
    },
    {
      "cell_type": "code",
      "metadata": {
        "colab": {
          "base_uri": "https://localhost:8080/"
        },
        "id": "nbaWwshl0GpI",
        "outputId": "afb277db-1200-41fe-a49e-19c916f0b52a"
      },
      "source": [
        "#Reformat the date string to YYYY-MM-DD.\r\n",
        "print(dt.strftime(date, '%Y-%m-%d'))"
      ],
      "execution_count": 5,
      "outputs": [
        {
          "output_type": "stream",
          "text": [
            "2019-10-20\n"
          ],
          "name": "stdout"
        }
      ]
    },
    {
      "cell_type": "code",
      "metadata": {
        "colab": {
          "base_uri": "https://localhost:8080/"
        },
        "id": "XlXXDWd91C5V",
        "outputId": "49932350-46c5-4a87-bede-3d96887d8f4b"
      },
      "source": [
        "#Extract the weekday number for the datetime object.\r\n",
        "print(date.weekday())"
      ],
      "execution_count": 6,
      "outputs": [
        {
          "output_type": "stream",
          "text": [
            "6\n"
          ],
          "name": "stdout"
        }
      ]
    },
    {
      "cell_type": "code",
      "metadata": {
        "colab": {
          "base_uri": "https://localhost:8080/"
        },
        "id": "DXKKORLl1NWZ",
        "outputId": "2bfc4f12-620d-4090-8e15-f6bff1c37c87"
      },
      "source": [
        "#Get the datetime of the same weekday number 6 weeks into the future.\r\n",
        "future = date + timedelta(weeks = 6)\r\n",
        "print(future)"
      ],
      "execution_count": 7,
      "outputs": [
        {
          "output_type": "stream",
          "text": [
            "2019-12-01 00:00:00\n"
          ],
          "name": "stdout"
        }
      ]
    },
    {
      "cell_type": "code",
      "metadata": {
        "colab": {
          "base_uri": "https://localhost:8080/"
        },
        "id": "pzhkh6pN1Xa7",
        "outputId": "4f6909ed-6bd8-473b-b624-8545d1d13d0d"
      },
      "source": [
        "#Retrieve the number of minutes between the original datetime and the datetime for the same weekday 6 weeks in the future.\r\n",
        "#Hint: Try subtracting datetimes and then extracting the minutes from the difference.\r\n",
        "elapse = future - date\r\n",
        "elapse.days * 24 * 60"
      ],
      "execution_count": 8,
      "outputs": [
        {
          "output_type": "execute_result",
          "data": {
            "text/plain": [
              "60480"
            ]
          },
          "metadata": {
            "tags": []
          },
          "execution_count": 8
        }
      ]
    },
    {
      "cell_type": "code",
      "metadata": {
        "colab": {
          "base_uri": "https://localhost:8080/"
        },
        "id": "9VEWcrOs1eth",
        "outputId": "dafcb6e4-99c3-412e-b867-bea83a32c4e2"
      },
      "source": [
        "def week_count(d):\r\n",
        "    d = dt.strptime(d, '%m/%d/%Y')\r\n",
        "    print(d.strftime(\"%V\"))\r\n",
        "    \r\n",
        "#Use what you have learned to retrieve the number of weeks that are in years 2015 through 2020 respectively. \r\n",
        "week_count('12/31/2015')\r\n",
        "week_count('12/31/2016')\r\n",
        "week_count('12/31/2017')\r\n",
        "week_count('12/30/2018')\r\n",
        "week_count('12/29/2019')\r\n",
        "week_count('12/31/2020')\r\n",
        "\r\n",
        "#Are they always the same? Why or why not?"
      ],
      "execution_count": 12,
      "outputs": [
        {
          "output_type": "stream",
          "text": [
            "53\n",
            "52\n",
            "52\n",
            "52\n",
            "52\n",
            "53\n"
          ],
          "name": "stdout"
        }
      ]
    },
    {
      "cell_type": "code",
      "metadata": {
        "id": "1wFPVHXb2OnL"
      },
      "source": [
        "#not the same because of leap years 52 and 53 weeks"
      ],
      "execution_count": null,
      "outputs": []
    }
  ]
}