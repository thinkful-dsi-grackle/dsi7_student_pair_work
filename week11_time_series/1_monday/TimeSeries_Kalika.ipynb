{
 "cells": [
  {
   "cell_type": "code",
   "execution_count": 1,
   "metadata": {},
   "outputs": [],
   "source": [
    "#Define a variable and assign it a date string value of ‘10/20/2019’.\n",
    "adate = '10/20/2019'\n"
   ]
  },
  {
   "cell_type": "code",
   "execution_count": 3,
   "metadata": {},
   "outputs": [
    {
     "data": {
      "text/plain": [
       "datetime.datetime"
      ]
     },
     "execution_count": 3,
     "metadata": {},
     "output_type": "execute_result"
    }
   ],
   "source": [
    "#Convert the date string to a datetime object.\n",
    "from datetime import datetime as dt\n",
    "\n",
    "adate = dt.strptime(adate, '%m/%d/%Y')\n",
    "type(adate)"
   ]
  },
  {
   "cell_type": "code",
   "execution_count": 6,
   "metadata": {},
   "outputs": [
    {
     "name": "stdout",
     "output_type": "stream",
     "text": [
      "10 20 2019\n"
     ]
    }
   ],
   "source": [
    "#Extract the month, day, and year from the datetime object.\n",
    "print(adate.month, adate.day, adate.year)\n",
    "\n",
    "\n"
   ]
  },
  {
   "cell_type": "code",
   "execution_count": 10,
   "metadata": {},
   "outputs": [
    {
     "name": "stdout",
     "output_type": "stream",
     "text": [
      "2019-10-20\n"
     ]
    }
   ],
   "source": [
    "#Reformat the date string to YYYY-MM-DD.\n",
    "print(dt.strftime(adate, '%Y-%m-%d'))\n"
   ]
  },
  {
   "cell_type": "code",
   "execution_count": 12,
   "metadata": {},
   "outputs": [
    {
     "name": "stdout",
     "output_type": "stream",
     "text": [
      "6\n"
     ]
    }
   ],
   "source": [
    "#Extract the weekday number for the datetime object.\n",
    "print(adate.weekday())"
   ]
  },
  {
   "cell_type": "code",
   "execution_count": 16,
   "metadata": {},
   "outputs": [
    {
     "name": "stdout",
     "output_type": "stream",
     "text": [
      "2019-12-01 00:00:00\n"
     ]
    }
   ],
   "source": [
    "#Get the datetime of the same weekday number 6 weeks into the future.\n",
    "from datetime import timedelta\n",
    "future = adate + timedelta(weeks = 6)\n",
    "print(future)"
   ]
  },
  {
   "cell_type": "code",
   "execution_count": 24,
   "metadata": {},
   "outputs": [
    {
     "data": {
      "text/plain": [
       "60480"
      ]
     },
     "execution_count": 24,
     "metadata": {},
     "output_type": "execute_result"
    }
   ],
   "source": [
    "#Retrieve the number of minutes between the original datetime and the datetime for the same weekday 6 weeks in the future.\n",
    "#Hint: Try subtracting datetimes and then extracting the minutes from the difference.\n",
    "elapse = future - adate\n",
    "elapse.days * 24 * 60"
   ]
  },
  {
   "cell_type": "code",
   "execution_count": 32,
   "metadata": {},
   "outputs": [
    {
     "name": "stdout",
     "output_type": "stream",
     "text": [
      "53\n",
      "52\n",
      "52\n",
      "52\n",
      "52\n",
      "53\n"
     ]
    }
   ],
   "source": [
    "def week_count(d):\n",
    "    d = dt.strptime(d, '%m/%d/%Y')\n",
    "    print(d.strftime(\"%V\"))\n",
    "    \n",
    "#Use what you have learned to retrieve the number of weeks that are in years 2015 through 2020 respectively. \n",
    "week_count('12/31/2015')\n",
    "week_count('12/31/2016')\n",
    "week_count('12/31/2017')\n",
    "week_count('12/30/2018')\n",
    "week_count('12/29/2019')\n",
    "week_count('12/31/2020')\n",
    "\n",
    "#Are they always the same? Why or why not?\n"
   ]
  },
  {
   "cell_type": "markdown",
   "metadata": {},
   "source": [
    "No they do not always come out the same because the number of weeks in a year can vary depending on leap year and how far into the week the day year began on. "
   ]
  }
 ],
 "metadata": {
  "kernelspec": {
   "display_name": "Python 3",
   "language": "python",
   "name": "python3"
  },
  "language_info": {
   "codemirror_mode": {
    "name": "ipython",
    "version": 3
   },
   "file_extension": ".py",
   "mimetype": "text/x-python",
   "name": "python",
   "nbconvert_exporter": "python",
   "pygments_lexer": "ipython3",
   "version": "3.7.6"
  }
 },
 "nbformat": 4,
 "nbformat_minor": 4
}
