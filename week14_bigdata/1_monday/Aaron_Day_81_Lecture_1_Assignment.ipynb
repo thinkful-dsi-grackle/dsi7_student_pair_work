{
  "nbformat": 4,
  "nbformat_minor": 0,
  "metadata": {
    "kernelspec": {
      "display_name": "Python 3",
      "language": "python",
      "name": "python3"
    },
    "language_info": {
      "codemirror_mode": {
        "name": "ipython",
        "version": 3
      },
      "file_extension": ".py",
      "mimetype": "text/x-python",
      "name": "python",
      "nbconvert_exporter": "python",
      "pygments_lexer": "ipython3",
      "version": "3.7.0"
    },
    "colab": {
      "name": "Aaron_Day_81_Lecture_1_Assignment.ipynb",
      "provenance": [],
      "collapsed_sections": []
    }
  },
  "cells": [
    {
      "cell_type": "markdown",
      "metadata": {
        "id": "087S2B-zux_6"
      },
      "source": [
        "## Day 76 Lecture 1 Assignment\n",
        "\n",
        "In this assignment, we will learn about the Dask library. We will use a json file containing the novel War and Peace loaded below and analyze the text."
      ]
    },
    {
      "cell_type": "code",
      "metadata": {
        "colab": {
          "base_uri": "https://localhost:8080/"
        },
        "id": "WwPEAdiyKGdu",
        "outputId": "f38852a8-7af2-4244-f40e-7eff3bd29bcd"
      },
      "source": [
        "#!pip install --upgrade \"dask[complete]\"\n",
        "!pip install aiohttp"
      ],
      "execution_count": 1,
      "outputs": [
        {
          "output_type": "stream",
          "text": [
            "Requirement already satisfied: aiohttp in /usr/local/lib/python3.6/dist-packages (3.7.3)\n",
            "Requirement already satisfied: multidict<7.0,>=4.5 in /usr/local/lib/python3.6/dist-packages (from aiohttp) (5.1.0)\n",
            "Requirement already satisfied: typing-extensions>=3.6.5 in /usr/local/lib/python3.6/dist-packages (from aiohttp) (3.7.4.3)\n",
            "Requirement already satisfied: idna-ssl>=1.0; python_version < \"3.7\" in /usr/local/lib/python3.6/dist-packages (from aiohttp) (1.1.0)\n",
            "Requirement already satisfied: chardet<4.0,>=2.0 in /usr/local/lib/python3.6/dist-packages (from aiohttp) (3.0.4)\n",
            "Requirement already satisfied: yarl<2.0,>=1.0 in /usr/local/lib/python3.6/dist-packages (from aiohttp) (1.6.3)\n",
            "Requirement already satisfied: async-timeout<4.0,>=3.0 in /usr/local/lib/python3.6/dist-packages (from aiohttp) (3.0.1)\n",
            "Requirement already satisfied: attrs>=17.3.0 in /usr/local/lib/python3.6/dist-packages (from aiohttp) (20.3.0)\n",
            "Requirement already satisfied: idna>=2.0 in /usr/local/lib/python3.6/dist-packages (from idna-ssl>=1.0; python_version < \"3.7\"->aiohttp) (2.10)\n"
          ],
          "name": "stdout"
        }
      ]
    },
    {
      "cell_type": "code",
      "metadata": {
        "id": "IYIQ_BxAux_7",
        "colab": {
          "base_uri": "https://localhost:8080/"
        },
        "outputId": "ed417967-6f4c-44af-c17d-71f6ef17063b"
      },
      "source": [
        "import dask.bag as db\n",
        "import json\n",
        "\n",
        "tolstoy = db.read_text('https://tf-assets-prod.s3.amazonaws.com/tf-curric/data-science/Data%20Sets%20Big%20Data/2600-0.txt')\n",
        "tolstoy"
      ],
      "execution_count": 2,
      "outputs": [
        {
          "output_type": "execute_result",
          "data": {
            "text/plain": [
              "dask.bag<bag-from-delayed, npartitions=1>"
            ]
          },
          "metadata": {
            "tags": []
          },
          "execution_count": 2
        }
      ]
    },
    {
      "cell_type": "code",
      "metadata": {
        "id": "iaIoIkW25DKu",
        "colab": {
          "base_uri": "https://localhost:8080/"
        },
        "outputId": "d7589e73-185d-46a1-8e1d-961c6fa953ac"
      },
      "source": [
        "tolstoy.take(10)"
      ],
      "execution_count": 3,
      "outputs": [
        {
          "output_type": "execute_result",
          "data": {
            "text/plain": [
              "('\\ufeffBOOK ONE: 1805\\n',\n",
              " '\\n',\n",
              " '\\n',\n",
              " '\\n',\n",
              " '\\n',\n",
              " '\\n',\n",
              " 'CHAPTER I\\n',\n",
              " '\\n',\n",
              " '“Well, Prince, so Genoa and Lucca are now just family estates of the\\n',\n",
              " 'Buonapartes. But I warn you, if you don’t tell me that this means war,\\n')"
            ]
          },
          "metadata": {
            "tags": []
          },
          "execution_count": 3
        }
      ]
    },
    {
      "cell_type": "markdown",
      "metadata": {
        "id": "WBxjwKSnux_-"
      },
      "source": [
        "Above, we have loaded the novel War and Peace by Tolstoy into a Dask bag. Print the first 10 rows in the novel using the Dask bag."
      ]
    },
    {
      "cell_type": "code",
      "metadata": {
        "id": "L28YX6uuux__",
        "colab": {
          "base_uri": "https://localhost:8080/"
        },
        "outputId": "419b0553-c8cc-49d4-99db-5e716d197b3a"
      },
      "source": [
        "#Answer below:\n",
        "tolstoy.take(10)\n"
      ],
      "execution_count": 4,
      "outputs": [
        {
          "output_type": "execute_result",
          "data": {
            "text/plain": [
              "('\\ufeffBOOK ONE: 1805\\n',\n",
              " '\\n',\n",
              " '\\n',\n",
              " '\\n',\n",
              " '\\n',\n",
              " '\\n',\n",
              " 'CHAPTER I\\n',\n",
              " '\\n',\n",
              " '“Well, Prince, so Genoa and Lucca are now just family estates of the\\n',\n",
              " 'Buonapartes. But I warn you, if you don’t tell me that this means war,\\n')"
            ]
          },
          "metadata": {
            "tags": []
          },
          "execution_count": 4
        }
      ]
    },
    {
      "cell_type": "markdown",
      "metadata": {
        "id": "uN65kINLuyAB"
      },
      "source": [
        "You may notice that there are many blank rows (rows containing only `\\n`) Filter these rows and print the first 10 non blank rows in the novel."
      ]
    },
    {
      "cell_type": "code",
      "metadata": {
        "id": "jGlMSK5suyAC",
        "colab": {
          "base_uri": "https://localhost:8080/"
        },
        "outputId": "0b05b1f4-25af-4b34-bcb3-30659a56e0aa"
      },
      "source": [
        "#Answer below:\n",
        "tolstoy = tolstoy.filter(lambda x: x != '\\n')\n",
        "tolstoy.take(10)\n"
      ],
      "execution_count": 5,
      "outputs": [
        {
          "output_type": "execute_result",
          "data": {
            "text/plain": [
              "('\\ufeffBOOK ONE: 1805\\n',\n",
              " 'CHAPTER I\\n',\n",
              " '“Well, Prince, so Genoa and Lucca are now just family estates of the\\n',\n",
              " 'Buonapartes. But I warn you, if you don’t tell me that this means war,\\n',\n",
              " 'if you still try to defend the infamies and horrors perpetrated by that\\n',\n",
              " 'Antichrist—I really believe he is Antichrist—I will have nothing\\n',\n",
              " 'more to do with you and you are no longer my friend, no longer my\\n',\n",
              " '‘faithful slave,’ as you call yourself! But how do you do? I see I\\n',\n",
              " 'have frightened you—sit down and tell me all the news.”\\n',\n",
              " 'It was in July, 1805, and the speaker was the well-known Anna Pávlovna\\n')"
            ]
          },
          "metadata": {
            "tags": []
          },
          "execution_count": 5
        }
      ]
    },
    {
      "cell_type": "markdown",
      "metadata": {
        "id": "kjIeJ8ZFuyAD"
      },
      "source": [
        "We would like to count the frequency of all words in the novel. The first step is to remove the `\\n` from the end of each string. Do this using the map function. Inside the map function write a lambda that will replace the string `\\n` with `''`."
      ]
    },
    {
      "cell_type": "code",
      "metadata": {
        "id": "bGaXglIsuyAE",
        "colab": {
          "base_uri": "https://localhost:8080/"
        },
        "outputId": "f337ca31-99c5-4c74-dccf-fe7405b6fdcb"
      },
      "source": [
        "#Answer below:\n",
        "\n",
        "tolstoy = tolstoy.map(lambda x: x.replace('\\n', ''))\n",
        "tolstoy.take(10)"
      ],
      "execution_count": 6,
      "outputs": [
        {
          "output_type": "execute_result",
          "data": {
            "text/plain": [
              "('\\ufeffBOOK ONE: 1805',\n",
              " 'CHAPTER I',\n",
              " '“Well, Prince, so Genoa and Lucca are now just family estates of the',\n",
              " 'Buonapartes. But I warn you, if you don’t tell me that this means war,',\n",
              " 'if you still try to defend the infamies and horrors perpetrated by that',\n",
              " 'Antichrist—I really believe he is Antichrist—I will have nothing',\n",
              " 'more to do with you and you are no longer my friend, no longer my',\n",
              " '‘faithful slave,’ as you call yourself! But how do you do? I see I',\n",
              " 'have frightened you—sit down and tell me all the news.”',\n",
              " 'It was in July, 1805, and the speaker was the well-known Anna Pávlovna')"
            ]
          },
          "metadata": {
            "tags": []
          },
          "execution_count": 6
        }
      ]
    },
    {
      "cell_type": "markdown",
      "metadata": {
        "id": "JIA08wDYuyAF"
      },
      "source": [
        "Next, split each row on the space (use a lambda function inside a map). Then apply the flatten function to create a list of all words in the novel."
      ]
    },
    {
      "cell_type": "code",
      "metadata": {
        "id": "cqjprCyYuyAG",
        "colab": {
          "base_uri": "https://localhost:8080/"
        },
        "outputId": "ff3cf9f0-5903-4b20-c030-a2e2220e2261"
      },
      "source": [
        "# Answer below:\n",
        "\n",
        "words = tolstoy.map(lambda x: x.split(' ')).flatten()\n",
        "words.take(10)"
      ],
      "execution_count": 7,
      "outputs": [
        {
          "output_type": "execute_result",
          "data": {
            "text/plain": [
              "('\\ufeffBOOK',\n",
              " 'ONE:',\n",
              " '1805',\n",
              " 'CHAPTER',\n",
              " 'I',\n",
              " '“Well,',\n",
              " 'Prince,',\n",
              " 'so',\n",
              " 'Genoa',\n",
              " 'and')"
            ]
          },
          "metadata": {
            "tags": []
          },
          "execution_count": 7
        }
      ]
    },
    {
      "cell_type": "markdown",
      "metadata": {
        "id": "iK5V5L12uyAI"
      },
      "source": [
        "Using the frequencies function, return the top 10 words in the novel and their frequency"
      ]
    },
    {
      "cell_type": "code",
      "metadata": {
        "id": "PdEjFqKSuyAI",
        "colab": {
          "base_uri": "https://localhost:8080/"
        },
        "outputId": "bda1630c-f268-4448-ef55-eaee84d676ad"
      },
      "source": [
        "# Answer below:\n",
        "\n",
        "freqs = words.frequencies(sort=True)\n",
        "freqs.take(10)\n"
      ],
      "execution_count": 11,
      "outputs": [
        {
          "output_type": "execute_result",
          "data": {
            "text/plain": [
              "(('the', 31701),\n",
              " ('and', 20559),\n",
              " ('to', 16320),\n",
              " ('of', 14852),\n",
              " ('a', 10018),\n",
              " ('in', 8228),\n",
              " ('he', 7631),\n",
              " ('his', 7630),\n",
              " ('that', 7230),\n",
              " ('was', 7189))"
            ]
          },
          "metadata": {
            "tags": []
          },
          "execution_count": 11
        }
      ]
    },
    {
      "cell_type": "code",
      "metadata": {
        "id": "SORSao6muyAK"
      },
      "source": [
        ""
      ],
      "execution_count": 8,
      "outputs": []
    },
    {
      "cell_type": "code",
      "metadata": {
        "id": "zKNw9y7ouyAL"
      },
      "source": [
        ""
      ],
      "execution_count": 8,
      "outputs": []
    }
  ]
}