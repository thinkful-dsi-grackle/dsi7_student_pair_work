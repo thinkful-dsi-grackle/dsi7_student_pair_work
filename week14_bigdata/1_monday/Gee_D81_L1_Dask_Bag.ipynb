{
 "cells": [
  {
   "cell_type": "markdown",
   "metadata": {
    "colab_type": "text",
    "id": "087S2B-zux_6"
   },
   "source": [
    "## Day 76 Lecture 1 Assignment\n",
    "\n",
    "In this assignment, we will learn about the Dask library. We will use a json file containing the novel War and Peace loaded below and analyze the text."
   ]
  },
  {
   "cell_type": "code",
   "execution_count": 1,
   "metadata": {
    "colab": {
     "base_uri": "https://localhost:8080/",
     "height": 34
    },
    "colab_type": "code",
    "executionInfo": {
     "elapsed": 700,
     "status": "ok",
     "timestamp": 1597072027786,
     "user": {
      "displayName": "Dennis Tran",
      "photoUrl": "https://lh3.googleusercontent.com/a-/AOh14Gh4jmvNC7SsJIBkUCGrPDwTRU-4MoXuoJ6RtrZM=s64",
      "userId": "03151481835436749126"
     },
     "user_tz": 420
    },
    "id": "IYIQ_BxAux_7",
    "outputId": "0e42e94b-07ca-4033-d30c-31e66c872a83"
   },
   "outputs": [
    {
     "data": {
      "text/plain": [
       "dask.bag<bag-from-delayed, npartitions=1>"
      ]
     },
     "execution_count": 1,
     "metadata": {},
     "output_type": "execute_result"
    }
   ],
   "source": [
    "import dask.bag as db\n",
    "import json\n",
    "\n",
    "tolstoy = db.read_text('https://tf-assets-prod.s3.amazonaws.com/tf-curric/data-science/Data%20Sets%20Big%20Data/2600-0.txt')\n",
    "tolstoy"
   ]
  },
  {
   "cell_type": "markdown",
   "metadata": {
    "colab_type": "text",
    "id": "WBxjwKSnux_-"
   },
   "source": [
    "Above, we have loaded the novel War and Peace by Tolstoy into a Dask bag. Print the first 10 rows in the novel using the Dask bag."
   ]
  },
  {
   "cell_type": "code",
   "execution_count": 43,
   "metadata": {
    "colab": {},
    "colab_type": "code",
    "executionInfo": {
     "elapsed": 134860,
     "status": "aborted",
     "timestamp": 1597071921431,
     "user": {
      "displayName": "Dennis Tran",
      "photoUrl": "https://lh3.googleusercontent.com/a-/AOh14Gh4jmvNC7SsJIBkUCGrPDwTRU-4MoXuoJ6RtrZM=s64",
      "userId": "03151481835436749126"
     },
     "user_tz": 420
    },
    "id": "L28YX6uuux__"
   },
   "outputs": [
    {
     "data": {
      "text/plain": [
       "('\\ufeffBOOK ONE: 1805\\n',\n",
       " '\\n',\n",
       " '\\n',\n",
       " '\\n',\n",
       " '\\n',\n",
       " '\\n',\n",
       " 'CHAPTER I\\n',\n",
       " '\\n',\n",
       " '“Well, Prince, so Genoa and Lucca are now just family estates of the\\n',\n",
       " 'Buonapartes. But I warn you, if you don’t tell me that this means war,\\n')"
      ]
     },
     "execution_count": 43,
     "metadata": {},
     "output_type": "execute_result"
    }
   ],
   "source": [
    "#Answer below:\n",
    "tolstoy.take(10)"
   ]
  },
  {
   "cell_type": "markdown",
   "metadata": {
    "colab_type": "text",
    "id": "uN65kINLuyAB"
   },
   "source": [
    "You may notice that there are many blank rows (rows containing only `\\n`) Filter these rows and print the first 10 non blank rows in the novel."
   ]
  },
  {
   "cell_type": "code",
   "execution_count": 44,
   "metadata": {
    "colab": {},
    "colab_type": "code",
    "executionInfo": {
     "elapsed": 134858,
     "status": "aborted",
     "timestamp": 1597071921432,
     "user": {
      "displayName": "Dennis Tran",
      "photoUrl": "https://lh3.googleusercontent.com/a-/AOh14Gh4jmvNC7SsJIBkUCGrPDwTRU-4MoXuoJ6RtrZM=s64",
      "userId": "03151481835436749126"
     },
     "user_tz": 420
    },
    "id": "jGlMSK5suyAC"
   },
   "outputs": [],
   "source": [
    "#Answer below:\n",
    "no_line = tolstoy.filter(lambda x: x != '\\n')\n",
    "no_line.take(5)"
   ]
  },
  {
   "cell_type": "markdown",
   "metadata": {
    "colab_type": "text",
    "id": "kjIeJ8ZFuyAD"
   },
   "source": [
    "We would like to count the frequency of all words in the novel. The first step is to remove the `\\n` from the end of each string. Do this using the map function. Inside the map function write a lambda that will replace the string `\\n` with `''`."
   ]
  },
  {
   "cell_type": "code",
   "execution_count": 46,
   "metadata": {
    "colab": {},
    "colab_type": "code",
    "executionInfo": {
     "elapsed": 134857,
     "status": "aborted",
     "timestamp": 1597071921433,
     "user": {
      "displayName": "Dennis Tran",
      "photoUrl": "https://lh3.googleusercontent.com/a-/AOh14Gh4jmvNC7SsJIBkUCGrPDwTRU-4MoXuoJ6RtrZM=s64",
      "userId": "03151481835436749126"
     },
     "user_tz": 420
    },
    "id": "bGaXglIsuyAE"
   },
   "outputs": [
    {
     "data": {
      "text/plain": [
       "('\\ufeffBOOK ONE: 1805',\n",
       " 'CHAPTER I',\n",
       " '“Well, Prince, so Genoa and Lucca are now just family estates of the',\n",
       " 'Buonapartes. But I warn you, if you don’t tell me that this means war,',\n",
       " 'if you still try to defend the infamies and horrors perpetrated by that',\n",
       " 'Antichrist—I really believe he is Antichrist—I will have nothing',\n",
       " 'more to do with you and you are no longer my friend, no longer my',\n",
       " '‘faithful slave,’ as you call yourself! But how do you do? I see I',\n",
       " 'have frightened you—sit down and tell me all the news.”',\n",
       " 'It was in July, 1805, and the speaker was the well-known Anna Pávlovna')"
      ]
     },
     "execution_count": 46,
     "metadata": {},
     "output_type": "execute_result"
    }
   ],
   "source": [
    "#Answer below:\n",
    "clean = no_line.map(lambda x: x.replace('\\n', ''))\n",
    "clean.take(5)"
   ]
  },
  {
   "cell_type": "markdown",
   "metadata": {
    "colab_type": "text",
    "id": "JIA08wDYuyAF"
   },
   "source": [
    "Next, split each row on the space (use a lambda function inside a map). Then apply the flatten function to create a list of all words in the novel."
   ]
  },
  {
   "cell_type": "code",
   "execution_count": 48,
   "metadata": {
    "colab": {},
    "colab_type": "code",
    "executionInfo": {
     "elapsed": 134854,
     "status": "aborted",
     "timestamp": 1597071921434,
     "user": {
      "displayName": "Dennis Tran",
      "photoUrl": "https://lh3.googleusercontent.com/a-/AOh14Gh4jmvNC7SsJIBkUCGrPDwTRU-4MoXuoJ6RtrZM=s64",
      "userId": "03151481835436749126"
     },
     "user_tz": 420
    },
    "id": "cqjprCyYuyAG"
   },
   "outputs": [
    {
     "data": {
      "text/plain": [
       "('\\ufeffBOOK', 'ONE:', '1805', 'CHAPTER', 'I')"
      ]
     },
     "execution_count": 48,
     "metadata": {},
     "output_type": "execute_result"
    }
   ],
   "source": [
    "# Answer below:\n",
    "words = clean.map(lambda x: x.split(' ')).flatten()\n",
    "words.take(5)"
   ]
  },
  {
   "cell_type": "markdown",
   "metadata": {
    "colab_type": "text",
    "id": "iK5V5L12uyAI"
   },
   "source": [
    "Using the frequencies function, return the top 10 words in the novel and their frequency"
   ]
  },
  {
   "cell_type": "code",
   "execution_count": 52,
   "metadata": {
    "colab": {},
    "colab_type": "code",
    "executionInfo": {
     "elapsed": 134852,
     "status": "aborted",
     "timestamp": 1597071921434,
     "user": {
      "displayName": "Dennis Tran",
      "photoUrl": "https://lh3.googleusercontent.com/a-/AOh14Gh4jmvNC7SsJIBkUCGrPDwTRU-4MoXuoJ6RtrZM=s64",
      "userId": "03151481835436749126"
     },
     "user_tz": 420
    },
    "id": "PdEjFqKSuyAI"
   },
   "outputs": [
    {
     "data": {
      "text/plain": [
       "(('the', 31701),\n",
       " ('and', 20559),\n",
       " ('to', 16320),\n",
       " ('of', 14852),\n",
       " ('a', 10018),\n",
       " ('in', 8228),\n",
       " ('he', 7631),\n",
       " ('his', 7630),\n",
       " ('that', 7230),\n",
       " ('was', 7189))"
      ]
     },
     "execution_count": 52,
     "metadata": {},
     "output_type": "execute_result"
    }
   ],
   "source": [
    "# Answer below:\n",
    "freq = words.frequencies(sort=True)\n",
    "freq.take(10)"
   ]
  }
 ],
 "metadata": {
  "colab": {
   "collapsed_sections": [],
   "name": "Day 81 Lecture 1 Assignment.ipynb",
   "provenance": []
  },
  "kernelspec": {
   "display_name": "Python 3",
   "language": "python",
   "name": "python3"
  },
  "language_info": {
   "codemirror_mode": {
    "name": "ipython",
    "version": 3
   },
   "file_extension": ".py",
   "mimetype": "text/x-python",
   "name": "python",
   "nbconvert_exporter": "python",
   "pygments_lexer": "ipython3",
   "version": "3.8.3"
  }
 },
 "nbformat": 4,
 "nbformat_minor": 1
}
