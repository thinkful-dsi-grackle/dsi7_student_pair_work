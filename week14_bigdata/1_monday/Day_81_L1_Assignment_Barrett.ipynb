{
  "nbformat": 4,
  "nbformat_minor": 0,
  "metadata": {
    "kernelspec": {
      "display_name": "Python 3",
      "language": "python",
      "name": "python3"
    },
    "language_info": {
      "codemirror_mode": {
        "name": "ipython",
        "version": 3
      },
      "file_extension": ".py",
      "mimetype": "text/x-python",
      "name": "python",
      "nbconvert_exporter": "python",
      "pygments_lexer": "ipython3",
      "version": "3.7.0"
    },
    "colab": {
      "name": "Day_81_L1_Assignment_Barrett.ipynb",
      "provenance": [],
      "collapsed_sections": []
    }
  },
  "cells": [
    {
      "cell_type": "markdown",
      "metadata": {
        "id": "087S2B-zux_6"
      },
      "source": [
        "## Day 76 Lecture 1 Assignment\n",
        "\n",
        "In this assignment, we will learn about the Dask library. We will use a json file containing the novel War and Peace loaded below and analyze the text."
      ]
    },
    {
      "cell_type": "code",
      "metadata": {
        "id": "CrDEPev8Adj3"
      },
      "source": [
        "!python -m pip install \"dask[complete]\" --quiet\n",
        "!pip install aiohttp --quiet"
      ],
      "execution_count": 1,
      "outputs": []
    },
    {
      "cell_type": "code",
      "metadata": {
        "id": "IYIQ_BxAux_7"
      },
      "source": [
        "import dask.bag as db\n",
        "import json"
      ],
      "execution_count": 2,
      "outputs": []
    },
    {
      "cell_type": "code",
      "metadata": {
        "colab": {
          "base_uri": "https://localhost:8080/"
        },
        "id": "B7fWcj9FAcpF",
        "outputId": "669a3c6f-8c20-4431-bd77-9693af566879"
      },
      "source": [
        "tolstoy = db.read_text('https://tf-assets-prod.s3.amazonaws.com/tf-curric/data-science/Data%20Sets%20Big%20Data/2600-0.txt')\n",
        "tolstoy"
      ],
      "execution_count": 3,
      "outputs": [
        {
          "output_type": "execute_result",
          "data": {
            "text/plain": [
              "dask.bag<bag-from-delayed, npartitions=1>"
            ]
          },
          "metadata": {
            "tags": []
          },
          "execution_count": 3
        }
      ]
    },
    {
      "cell_type": "markdown",
      "metadata": {
        "id": "WBxjwKSnux_-"
      },
      "source": [
        "Above, we have loaded the novel War and Peace by Tolstoy into a Dask bag. Print the first 10 rows in the novel using the Dask bag."
      ]
    },
    {
      "cell_type": "code",
      "metadata": {
        "id": "L28YX6uuux__",
        "colab": {
          "base_uri": "https://localhost:8080/"
        },
        "outputId": "b79240a5-589f-43a5-8b69-aa6462ce0326"
      },
      "source": [
        "#Answer below:\n",
        "tolstoy.take(10)"
      ],
      "execution_count": 4,
      "outputs": [
        {
          "output_type": "execute_result",
          "data": {
            "text/plain": [
              "('\\ufeffBOOK ONE: 1805\\n',\n",
              " '\\n',\n",
              " '\\n',\n",
              " '\\n',\n",
              " '\\n',\n",
              " '\\n',\n",
              " 'CHAPTER I\\n',\n",
              " '\\n',\n",
              " '“Well, Prince, so Genoa and Lucca are now just family estates of the\\n',\n",
              " 'Buonapartes. But I warn you, if you don’t tell me that this means war,\\n')"
            ]
          },
          "metadata": {
            "tags": []
          },
          "execution_count": 4
        }
      ]
    },
    {
      "cell_type": "markdown",
      "metadata": {
        "id": "uN65kINLuyAB"
      },
      "source": [
        "You may notice that there are many blank rows (rows containing only `\\n`) Filter these rows and print the first 10 non blank rows in the novel."
      ]
    },
    {
      "cell_type": "code",
      "metadata": {
        "id": "jGlMSK5suyAC"
      },
      "source": [
        "#Answer below:\n",
        "tolstoy_nonblank = tolstoy.filter(lambda x: x.strip('\\n'))"
      ],
      "execution_count": 5,
      "outputs": []
    },
    {
      "cell_type": "code",
      "metadata": {
        "colab": {
          "base_uri": "https://localhost:8080/"
        },
        "id": "hyD81FggSJCI",
        "outputId": "948e5d62-0257-4591-9d4c-e0706f61f4d2"
      },
      "source": [
        "tolstoy_nonblank.take(10)"
      ],
      "execution_count": 6,
      "outputs": [
        {
          "output_type": "execute_result",
          "data": {
            "text/plain": [
              "('\\ufeffBOOK ONE: 1805\\n',\n",
              " 'CHAPTER I\\n',\n",
              " '“Well, Prince, so Genoa and Lucca are now just family estates of the\\n',\n",
              " 'Buonapartes. But I warn you, if you don’t tell me that this means war,\\n',\n",
              " 'if you still try to defend the infamies and horrors perpetrated by that\\n',\n",
              " 'Antichrist—I really believe he is Antichrist—I will have nothing\\n',\n",
              " 'more to do with you and you are no longer my friend, no longer my\\n',\n",
              " '‘faithful slave,’ as you call yourself! But how do you do? I see I\\n',\n",
              " 'have frightened you—sit down and tell me all the news.”\\n',\n",
              " 'It was in July, 1805, and the speaker was the well-known Anna Pávlovna\\n')"
            ]
          },
          "metadata": {
            "tags": []
          },
          "execution_count": 6
        }
      ]
    },
    {
      "cell_type": "markdown",
      "metadata": {
        "id": "kjIeJ8ZFuyAD"
      },
      "source": [
        "We would like to count the frequency of all words in the novel. The first step is to remove the `\\n` from the end of each string. Do this using the map function. Inside the map function write a lambda that will replace the string `\\n` with `''`."
      ]
    },
    {
      "cell_type": "code",
      "metadata": {
        "id": "bGaXglIsuyAE"
      },
      "source": [
        "#Answer below:\n",
        "tolstoy_noendline = tolstoy_nonblank.map(lambda x: x.replace('\\n', ''))"
      ],
      "execution_count": 7,
      "outputs": []
    },
    {
      "cell_type": "code",
      "metadata": {
        "colab": {
          "base_uri": "https://localhost:8080/"
        },
        "id": "B7I2j6e1S0Ky",
        "outputId": "4c2aca12-0185-48f5-c7f2-56109048e823"
      },
      "source": [
        "tolstoy_noendline.take(10)"
      ],
      "execution_count": 8,
      "outputs": [
        {
          "output_type": "execute_result",
          "data": {
            "text/plain": [
              "('\\ufeffBOOK ONE: 1805',\n",
              " 'CHAPTER I',\n",
              " '“Well, Prince, so Genoa and Lucca are now just family estates of the',\n",
              " 'Buonapartes. But I warn you, if you don’t tell me that this means war,',\n",
              " 'if you still try to defend the infamies and horrors perpetrated by that',\n",
              " 'Antichrist—I really believe he is Antichrist—I will have nothing',\n",
              " 'more to do with you and you are no longer my friend, no longer my',\n",
              " '‘faithful slave,’ as you call yourself! But how do you do? I see I',\n",
              " 'have frightened you—sit down and tell me all the news.”',\n",
              " 'It was in July, 1805, and the speaker was the well-known Anna Pávlovna')"
            ]
          },
          "metadata": {
            "tags": []
          },
          "execution_count": 8
        }
      ]
    },
    {
      "cell_type": "markdown",
      "metadata": {
        "id": "JIA08wDYuyAF"
      },
      "source": [
        "Next, split each row on the space (use a lambda function inside a map). Then apply the flatten function to create a list of all words in the novel."
      ]
    },
    {
      "cell_type": "code",
      "metadata": {
        "id": "cqjprCyYuyAG"
      },
      "source": [
        "# Answer below:\n",
        "tolstoy_tokens = tolstoy_noendline.map(lambda x:x.split()).flatten()"
      ],
      "execution_count": 9,
      "outputs": []
    },
    {
      "cell_type": "code",
      "metadata": {
        "colab": {
          "base_uri": "https://localhost:8080/"
        },
        "id": "JnOP8BigTUCH",
        "outputId": "8772a315-5db5-4653-dd0e-97e3e17a2d5f"
      },
      "source": [
        "tolstoy_tokens.take(10)"
      ],
      "execution_count": 10,
      "outputs": [
        {
          "output_type": "execute_result",
          "data": {
            "text/plain": [
              "('\\ufeffBOOK',\n",
              " 'ONE:',\n",
              " '1805',\n",
              " 'CHAPTER',\n",
              " 'I',\n",
              " '“Well,',\n",
              " 'Prince,',\n",
              " 'so',\n",
              " 'Genoa',\n",
              " 'and')"
            ]
          },
          "metadata": {
            "tags": []
          },
          "execution_count": 10
        }
      ]
    },
    {
      "cell_type": "markdown",
      "metadata": {
        "id": "iK5V5L12uyAI"
      },
      "source": [
        "Using the frequencies function, return the top 10 words in the novel and their frequency"
      ]
    },
    {
      "cell_type": "code",
      "metadata": {
        "id": "PdEjFqKSuyAI"
      },
      "source": [
        "# Answer below:\n",
        "tolstoy_freq = tolstoy_tokens.frequencies(sort=True)"
      ],
      "execution_count": 11,
      "outputs": []
    },
    {
      "cell_type": "code",
      "metadata": {
        "id": "SORSao6muyAK",
        "colab": {
          "base_uri": "https://localhost:8080/"
        },
        "outputId": "523a7762-fbf8-4419-f614-410cf2a13bf4"
      },
      "source": [
        "tolstoy_freq.take(10)"
      ],
      "execution_count": 12,
      "outputs": [
        {
          "output_type": "execute_result",
          "data": {
            "text/plain": [
              "(('the', 31701),\n",
              " ('and', 20559),\n",
              " ('to', 16320),\n",
              " ('of', 14852),\n",
              " ('a', 10018),\n",
              " ('in', 8228),\n",
              " ('he', 7631),\n",
              " ('his', 7630),\n",
              " ('that', 7230),\n",
              " ('was', 7189))"
            ]
          },
          "metadata": {
            "tags": []
          },
          "execution_count": 12
        }
      ]
    },
    {
      "cell_type": "code",
      "metadata": {
        "id": "zKNw9y7ouyAL"
      },
      "source": [
        ""
      ],
      "execution_count": 12,
      "outputs": []
    },
    {
      "cell_type": "markdown",
      "metadata": {
        "id": "APjwzFlIERgc"
      },
      "source": [
        "# Lecture Notes"
      ]
    },
    {
      "cell_type": "code",
      "metadata": {
        "id": "CDtCTxguEScp"
      },
      "source": [
        "# Lazy- use yield\n",
        "def multiply_by_2(x):\n",
        "  for i in x:\n",
        "    yield i * 2"
      ],
      "execution_count": 13,
      "outputs": []
    },
    {
      "cell_type": "code",
      "metadata": {
        "colab": {
          "base_uri": "https://localhost:8080/"
        },
        "id": "z3afmk31FWz7",
        "outputId": "e58c05fc-ea1d-4479-ed62-d75ffb0b9a16"
      },
      "source": [
        "multiply_by_2([1,2,3])"
      ],
      "execution_count": 14,
      "outputs": [
        {
          "output_type": "execute_result",
          "data": {
            "text/plain": [
              "<generator object multiply_by_2 at 0x7f67188d84c0>"
            ]
          },
          "metadata": {
            "tags": []
          },
          "execution_count": 14
        }
      ]
    },
    {
      "cell_type": "code",
      "metadata": {
        "colab": {
          "base_uri": "https://localhost:8080/"
        },
        "id": "r5ov0EgwFYwP",
        "outputId": "6d58edc7-f47c-4510-e6e1-32f6fab00e45"
      },
      "source": [
        "list(multiply_by_2([1,2,3]))"
      ],
      "execution_count": 15,
      "outputs": [
        {
          "output_type": "execute_result",
          "data": {
            "text/plain": [
              "[2, 4, 6]"
            ]
          },
          "metadata": {
            "tags": []
          },
          "execution_count": 15
        }
      ]
    },
    {
      "cell_type": "code",
      "metadata": {
        "id": "CTrGqBANFa2d"
      },
      "source": [
        "# Eager- use return\n",
        "# def multiply_by_2(x):\n",
        "#   return [i*2 for i in x]"
      ],
      "execution_count": 16,
      "outputs": []
    },
    {
      "cell_type": "code",
      "metadata": {
        "id": "WLnbBvajFpjv"
      },
      "source": [
        "b = db.from_sequence([1,2,3,4,5,6])"
      ],
      "execution_count": 17,
      "outputs": []
    },
    {
      "cell_type": "code",
      "metadata": {
        "colab": {
          "base_uri": "https://localhost:8080/"
        },
        "id": "Zta4QyDXHyTa",
        "outputId": "4768b9fd-90f0-48c3-d190-03fbf4728c03"
      },
      "source": [
        "b"
      ],
      "execution_count": 18,
      "outputs": [
        {
          "output_type": "execute_result",
          "data": {
            "text/plain": [
              "dask.bag<from_sequence, npartitions=6>"
            ]
          },
          "metadata": {
            "tags": []
          },
          "execution_count": 18
        }
      ]
    },
    {
      "cell_type": "code",
      "metadata": {
        "colab": {
          "base_uri": "https://localhost:8080/"
        },
        "id": "cjrcqo2PHyqR",
        "outputId": "df528817-f8e7-49b6-bc5b-820ed2f07c85"
      },
      "source": [
        "b.compute()"
      ],
      "execution_count": 19,
      "outputs": [
        {
          "output_type": "execute_result",
          "data": {
            "text/plain": [
              "[1, 2, 3, 4, 5, 6]"
            ]
          },
          "metadata": {
            "tags": []
          },
          "execution_count": 19
        }
      ]
    },
    {
      "cell_type": "code",
      "metadata": {
        "id": "A50ZbrOIH0Ak"
      },
      "source": [
        ""
      ],
      "execution_count": 19,
      "outputs": []
    }
  ]
}