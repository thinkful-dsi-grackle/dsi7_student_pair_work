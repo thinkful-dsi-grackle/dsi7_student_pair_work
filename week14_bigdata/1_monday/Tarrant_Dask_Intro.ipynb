{
  "nbformat": 4,
  "nbformat_minor": 0,
  "metadata": {
    "kernelspec": {
      "display_name": "Python 3",
      "language": "python",
      "name": "python3"
    },
    "language_info": {
      "codemirror_mode": {
        "name": "ipython",
        "version": 3
      },
      "file_extension": ".py",
      "mimetype": "text/x-python",
      "name": "python",
      "nbconvert_exporter": "python",
      "pygments_lexer": "ipython3",
      "version": "3.7.0"
    },
    "colab": {
      "name": "Tarrant_Dask_Intro.ipynb",
      "provenance": [],
      "collapsed_sections": []
    }
  },
  "cells": [
    {
      "cell_type": "markdown",
      "metadata": {
        "id": "087S2B-zux_6"
      },
      "source": [
        "## Day 76 Lecture 1 Assignment\n",
        "\n",
        "In this assignment, we will learn about the Dask library. We will use a json file containing the novel War and Peace loaded below and analyze the text."
      ]
    },
    {
      "cell_type": "code",
      "metadata": {
        "colab": {
          "base_uri": "https://localhost:8080/"
        },
        "id": "AcGbhr-KERaT",
        "outputId": "d7bfc1ef-24f7-4497-a6fd-8a152a6d633a"
      },
      "source": [
        "!pip install dask[complete] --quiet\n",
        "!pip install 'fsspec>=0.3.3' --quiet\n",
        "!pip install aiohttp --quiet"
      ],
      "execution_count": null,
      "outputs": [
        {
          "output_type": "stream",
          "text": [
            "\u001b[K     |████████████████████████████████| 1.3MB 4.7MB/s \n",
            "\u001b[K     |████████████████████████████████| 296kB 42.4MB/s \n",
            "\u001b[K     |████████████████████████████████| 143kB 42.0MB/s \n",
            "\u001b[?25h  Building wheel for idna-ssl (setup.py) ... \u001b[?25l\u001b[?25hdone\n"
          ],
          "name": "stdout"
        }
      ]
    },
    {
      "cell_type": "code",
      "metadata": {
        "colab": {
          "base_uri": "https://localhost:8080/"
        },
        "id": "msu--jdUFRDi",
        "outputId": "6d71b8b2-50a7-49d1-c64b-a67114b1173a"
      },
      "source": [
        "from google.colab import drive\n",
        "drive.mount('/content/drive')"
      ],
      "execution_count": null,
      "outputs": [
        {
          "output_type": "stream",
          "text": [
            "Mounted at /content/drive\n"
          ],
          "name": "stdout"
        }
      ]
    },
    {
      "cell_type": "code",
      "metadata": {
        "id": "IYIQ_BxAux_7",
        "colab": {
          "base_uri": "https://localhost:8080/"
        },
        "outputId": "5141b827-2a16-4ea2-d01c-c57306c1f08b"
      },
      "source": [
        "import dask.bag as db\n",
        "import json\n",
        "\n",
        "tolstoy = db.read_text('/content/drive/MyDrive/Data/Big Data/2600-0.txt')\n",
        "tolstoy"
      ],
      "execution_count": null,
      "outputs": [
        {
          "output_type": "execute_result",
          "data": {
            "text/plain": [
              "dask.bag<bag-from-delayed, npartitions=1>"
            ]
          },
          "metadata": {
            "tags": []
          },
          "execution_count": 11
        }
      ]
    },
    {
      "cell_type": "markdown",
      "metadata": {
        "id": "WBxjwKSnux_-"
      },
      "source": [
        "Above, we have loaded the novel War and Peace by Tolstoy into a Dask bag. Print the first 10 rows in the novel using the Dask bag."
      ]
    },
    {
      "cell_type": "code",
      "metadata": {
        "id": "iaIoIkW25DKu",
        "colab": {
          "base_uri": "https://localhost:8080/"
        },
        "outputId": "d62042f3-d2e0-4b85-814c-a826120db44e"
      },
      "source": [
        "tolstoy.take(10)"
      ],
      "execution_count": null,
      "outputs": [
        {
          "output_type": "execute_result",
          "data": {
            "text/plain": [
              "('\\ufeffBOOK ONE: 1805\\n',\n",
              " '\\n',\n",
              " '\\n',\n",
              " '\\n',\n",
              " '\\n',\n",
              " '\\n',\n",
              " 'CHAPTER I\\n',\n",
              " '\\n',\n",
              " '“Well, Prince, so Genoa and Lucca are now just family estates of the\\n',\n",
              " 'Buonapartes. But I warn you, if you don’t tell me that this means war,\\n')"
            ]
          },
          "metadata": {
            "tags": []
          },
          "execution_count": 12
        }
      ]
    },
    {
      "cell_type": "markdown",
      "metadata": {
        "id": "uN65kINLuyAB"
      },
      "source": [
        "You may notice that there are many blank rows (rows containing only `\\n`) Filter these rows and print the first 10 non blank rows in the novel."
      ]
    },
    {
      "cell_type": "code",
      "metadata": {
        "id": "jGlMSK5suyAC",
        "colab": {
          "base_uri": "https://localhost:8080/"
        },
        "outputId": "1a62f14c-d56f-465a-a273-d3ca0f3c3a24"
      },
      "source": [
        "#Answer below:\n",
        "tolstoy2 = tolstoy.filter(lambda x: x != '\\n')\n",
        "tolstoy2.take(10)"
      ],
      "execution_count": 23,
      "outputs": [
        {
          "output_type": "execute_result",
          "data": {
            "text/plain": [
              "('\\ufeffBOOK ONE: 1805\\n',\n",
              " 'CHAPTER I\\n',\n",
              " '“Well, Prince, so Genoa and Lucca are now just family estates of the\\n',\n",
              " 'Buonapartes. But I warn you, if you don’t tell me that this means war,\\n',\n",
              " 'if you still try to defend the infamies and horrors perpetrated by that\\n',\n",
              " 'Antichrist—I really believe he is Antichrist—I will have nothing\\n',\n",
              " 'more to do with you and you are no longer my friend, no longer my\\n',\n",
              " '‘faithful slave,’ as you call yourself! But how do you do? I see I\\n',\n",
              " 'have frightened you—sit down and tell me all the news.”\\n',\n",
              " 'It was in July, 1805, and the speaker was the well-known Anna Pávlovna\\n')"
            ]
          },
          "metadata": {
            "tags": []
          },
          "execution_count": 23
        }
      ]
    },
    {
      "cell_type": "markdown",
      "metadata": {
        "id": "kjIeJ8ZFuyAD"
      },
      "source": [
        "We would like to count the frequency of all words in the novel. The first step is to remove the `\\n` from the end of each string. Do this using the map function. Inside the map function write a lambda that will replace the string `\\n` with `''`."
      ]
    },
    {
      "cell_type": "code",
      "metadata": {
        "id": "bGaXglIsuyAE",
        "colab": {
          "base_uri": "https://localhost:8080/"
        },
        "outputId": "bc7b7376-9631-4ed7-c24c-f7d361389555"
      },
      "source": [
        "#Answer below:\n",
        "tolstoy3 = tolstoy2.map(lambda x: x.replace(\"\\n\",\"\"))\n",
        "tolstoy4 = tolstoy3.map(lambda x: x.replace(\"\\ufeff\",\"\"))\n",
        "tolstoy4.take(20)\n"
      ],
      "execution_count": 32,
      "outputs": [
        {
          "output_type": "execute_result",
          "data": {
            "text/plain": [
              "('BOOK ONE: 1805',\n",
              " 'CHAPTER I',\n",
              " '“Well, Prince, so Genoa and Lucca are now just family estates of the',\n",
              " 'Buonapartes. But I warn you, if you don’t tell me that this means war,',\n",
              " 'if you still try to defend the infamies and horrors perpetrated by that',\n",
              " 'Antichrist—I really believe he is Antichrist—I will have nothing',\n",
              " 'more to do with you and you are no longer my friend, no longer my',\n",
              " '‘faithful slave,’ as you call yourself! But how do you do? I see I',\n",
              " 'have frightened you—sit down and tell me all the news.”',\n",
              " 'It was in July, 1805, and the speaker was the well-known Anna Pávlovna',\n",
              " 'Schérer, maid of honor and favorite of the Empress Márya Fëdorovna.',\n",
              " 'With these words she greeted Prince Vasíli Kurágin, a man of high',\n",
              " 'rank and importance, who was the first to arrive at her reception. Anna',\n",
              " 'Pávlovna had had a cough for some days. She was, as she said, suffering',\n",
              " 'from la grippe; grippe being then a new word in St. Petersburg, used',\n",
              " 'only by the elite.',\n",
              " 'All her invitations without exception, written in French, and delivered',\n",
              " 'by a scarlet-liveried footman that morning, ran as follows:',\n",
              " '“If you have nothing better to do, Count (or Prince), and if the',\n",
              " 'prospect of spending an evening with a poor invalid is not too terrible,')"
            ]
          },
          "metadata": {
            "tags": []
          },
          "execution_count": 32
        }
      ]
    },
    {
      "cell_type": "markdown",
      "metadata": {
        "id": "JIA08wDYuyAF"
      },
      "source": [
        "Next, split each row on the space (use a lambda function inside a map). Then apply the flatten function to create a list of all words in the novel."
      ]
    },
    {
      "cell_type": "code",
      "metadata": {
        "id": "cqjprCyYuyAG",
        "colab": {
          "base_uri": "https://localhost:8080/"
        },
        "outputId": "357c570e-1092-4788-b5e4-d43e7c1f20e9"
      },
      "source": [
        "# Answer below:\n",
        "words = tolstoy4.map(lambda x: x.split(' ')).flatten()\n",
        "words.take(10)\n"
      ],
      "execution_count": 33,
      "outputs": [
        {
          "output_type": "execute_result",
          "data": {
            "text/plain": [
              "('BOOK',\n",
              " 'ONE:',\n",
              " '1805',\n",
              " 'CHAPTER',\n",
              " 'I',\n",
              " '“Well,',\n",
              " 'Prince,',\n",
              " 'so',\n",
              " 'Genoa',\n",
              " 'and')"
            ]
          },
          "metadata": {
            "tags": []
          },
          "execution_count": 33
        }
      ]
    },
    {
      "cell_type": "markdown",
      "metadata": {
        "id": "iK5V5L12uyAI"
      },
      "source": [
        "Using the frequencies function, return the top 10 words in the novel and their frequency"
      ]
    },
    {
      "cell_type": "code",
      "metadata": {
        "id": "PdEjFqKSuyAI",
        "colab": {
          "base_uri": "https://localhost:8080/"
        },
        "outputId": "cb2b8bee-c138-4b98-81c9-0b60512351d5"
      },
      "source": [
        "# Answer below:\n",
        "top_10_words= words.frequencies(sort=True).take(10)\n",
        "top_10_words\n"
      ],
      "execution_count": 35,
      "outputs": [
        {
          "output_type": "execute_result",
          "data": {
            "text/plain": [
              "(('the', 31701),\n",
              " ('and', 20559),\n",
              " ('to', 16320),\n",
              " ('of', 14852),\n",
              " ('a', 10018),\n",
              " ('in', 8228),\n",
              " ('he', 7631),\n",
              " ('his', 7630),\n",
              " ('that', 7230),\n",
              " ('was', 7189))"
            ]
          },
          "metadata": {
            "tags": []
          },
          "execution_count": 35
        }
      ]
    }
  ]
}