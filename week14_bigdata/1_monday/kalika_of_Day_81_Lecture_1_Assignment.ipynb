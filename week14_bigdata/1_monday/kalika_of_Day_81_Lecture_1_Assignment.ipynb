{
  "nbformat": 4,
  "nbformat_minor": 0,
  "metadata": {
    "kernelspec": {
      "display_name": "Python 3",
      "language": "python",
      "name": "python3"
    },
    "language_info": {
      "codemirror_mode": {
        "name": "ipython",
        "version": 3
      },
      "file_extension": ".py",
      "mimetype": "text/x-python",
      "name": "python",
      "nbconvert_exporter": "python",
      "pygments_lexer": "ipython3",
      "version": "3.7.0"
    },
    "colab": {
      "name": "kalika of Day 81 Lecture 1 Assignment.ipynb",
      "provenance": [],
      "collapsed_sections": []
    }
  },
  "cells": [
    {
      "cell_type": "markdown",
      "metadata": {
        "id": "087S2B-zux_6"
      },
      "source": [
        "## Day 76 Lecture 1 Assignment\n",
        "\n",
        "In this assignment, we will learn about the Dask library. We will use a json file containing the novel War and Peace loaded below and analyze the text."
      ]
    },
    {
      "cell_type": "code",
      "metadata": {
        "id": "IYIQ_BxAux_7",
        "colab": {
          "base_uri": "https://localhost:8080/"
        },
        "outputId": "5c5bde41-f895-4bcc-a48d-c7ff16bbb8ff"
      },
      "source": [
        "import dask.bag as db\n",
        "import json\n",
        "\n",
        "tolstoy = db.read_text('https://tf-assets-prod.s3.amazonaws.com/tf-curric/data-science/Data%20Sets%20Big%20Data/2600-0.txt')\n",
        "tolstoy"
      ],
      "execution_count": 60,
      "outputs": [
        {
          "output_type": "execute_result",
          "data": {
            "text/plain": [
              "dask.bag<bag-from-delayed, npartitions=1>"
            ]
          },
          "metadata": {
            "tags": []
          },
          "execution_count": 60
        }
      ]
    },
    {
      "cell_type": "code",
      "metadata": {
        "id": "iaIoIkW25DKu",
        "colab": {
          "base_uri": "https://localhost:8080/"
        },
        "outputId": "bd51e0e1-ac9a-4f84-9962-c71faa5e97a8"
      },
      "source": [
        "tolstoy.take(10)"
      ],
      "execution_count": 61,
      "outputs": [
        {
          "output_type": "execute_result",
          "data": {
            "text/plain": [
              "('\\ufeffBOOK ONE: 1805\\n',\n",
              " '\\n',\n",
              " '\\n',\n",
              " '\\n',\n",
              " '\\n',\n",
              " '\\n',\n",
              " 'CHAPTER I\\n',\n",
              " '\\n',\n",
              " '“Well, Prince, so Genoa and Lucca are now just family estates of the\\n',\n",
              " 'Buonapartes. But I warn you, if you don’t tell me that this means war,\\n')"
            ]
          },
          "metadata": {
            "tags": []
          },
          "execution_count": 61
        }
      ]
    },
    {
      "cell_type": "markdown",
      "metadata": {
        "id": "WBxjwKSnux_-"
      },
      "source": [
        "Above, we have loaded the novel War and Peace by Tolstoy into a Dask bag. Print the first 10 rows in the novel using the Dask bag."
      ]
    },
    {
      "cell_type": "code",
      "metadata": {
        "id": "L28YX6uuux__",
        "colab": {
          "base_uri": "https://localhost:8080/"
        },
        "outputId": "e0db89e2-a9a2-402b-de78-45da1078ef96"
      },
      "source": [
        "#Answer below:\n",
        "tolstoy.take(10)"
      ],
      "execution_count": 62,
      "outputs": [
        {
          "output_type": "execute_result",
          "data": {
            "text/plain": [
              "('\\ufeffBOOK ONE: 1805\\n',\n",
              " '\\n',\n",
              " '\\n',\n",
              " '\\n',\n",
              " '\\n',\n",
              " '\\n',\n",
              " 'CHAPTER I\\n',\n",
              " '\\n',\n",
              " '“Well, Prince, so Genoa and Lucca are now just family estates of the\\n',\n",
              " 'Buonapartes. But I warn you, if you don’t tell me that this means war,\\n')"
            ]
          },
          "metadata": {
            "tags": []
          },
          "execution_count": 62
        }
      ]
    },
    {
      "cell_type": "markdown",
      "metadata": {
        "id": "uN65kINLuyAB"
      },
      "source": [
        "You may notice that there are many blank rows (rows containing only `\\n`) Filter these rows and print the first 10 non blank rows in the novel."
      ]
    },
    {
      "cell_type": "code",
      "metadata": {
        "id": "jGlMSK5suyAC",
        "colab": {
          "base_uri": "https://localhost:8080/"
        },
        "outputId": "be393c58-e0e5-488e-a56c-eed0597f366f"
      },
      "source": [
        "#lambda x: x % 2 != 0, seq\n",
        "tolstoy = tolstoy.filter(lambda x: x != '\\n')\n",
        "tolstoy.take(10)"
      ],
      "execution_count": 63,
      "outputs": [
        {
          "output_type": "execute_result",
          "data": {
            "text/plain": [
              "('\\ufeffBOOK ONE: 1805\\n',\n",
              " 'CHAPTER I\\n',\n",
              " '“Well, Prince, so Genoa and Lucca are now just family estates of the\\n',\n",
              " 'Buonapartes. But I warn you, if you don’t tell me that this means war,\\n',\n",
              " 'if you still try to defend the infamies and horrors perpetrated by that\\n',\n",
              " 'Antichrist—I really believe he is Antichrist—I will have nothing\\n',\n",
              " 'more to do with you and you are no longer my friend, no longer my\\n',\n",
              " '‘faithful slave,’ as you call yourself! But how do you do? I see I\\n',\n",
              " 'have frightened you—sit down and tell me all the news.”\\n',\n",
              " 'It was in July, 1805, and the speaker was the well-known Anna Pávlovna\\n')"
            ]
          },
          "metadata": {
            "tags": []
          },
          "execution_count": 63
        }
      ]
    },
    {
      "cell_type": "markdown",
      "metadata": {
        "id": "kjIeJ8ZFuyAD"
      },
      "source": [
        "We would like to count the frequency of all words in the novel. The first step is to remove the `\\n` from the end of each string. Do this using the map function. Inside the map function write a lambda that will replace the string `\\n` with `''`."
      ]
    },
    {
      "cell_type": "code",
      "metadata": {
        "id": "bGaXglIsuyAE"
      },
      "source": [
        "#Answer below:\n",
        "tolstoy = tolstoy.map(lambda x: x.replace('\\n', ''))"
      ],
      "execution_count": 64,
      "outputs": []
    },
    {
      "cell_type": "markdown",
      "metadata": {
        "id": "JIA08wDYuyAF"
      },
      "source": [
        "Next, split each row on the space (use a lambda function inside a map). Then apply the flatten function to create a list of all words in the novel."
      ]
    },
    {
      "cell_type": "code",
      "metadata": {
        "id": "cqjprCyYuyAG"
      },
      "source": [
        "# Answer below:\n",
        "tolstoy = tolstoy.map(lambda x: x.split(' ')).flatten()"
      ],
      "execution_count": 65,
      "outputs": []
    },
    {
      "cell_type": "code",
      "metadata": {
        "colab": {
          "base_uri": "https://localhost:8080/"
        },
        "id": "d7Ga1vclNZ1n",
        "outputId": "ee009660-b7fb-47e1-ca1d-d864c6601755"
      },
      "source": [
        "tolstoy.take(10)"
      ],
      "execution_count": 66,
      "outputs": [
        {
          "output_type": "execute_result",
          "data": {
            "text/plain": [
              "('\\ufeffBOOK',\n",
              " 'ONE:',\n",
              " '1805',\n",
              " 'CHAPTER',\n",
              " 'I',\n",
              " '“Well,',\n",
              " 'Prince,',\n",
              " 'so',\n",
              " 'Genoa',\n",
              " 'and')"
            ]
          },
          "metadata": {
            "tags": []
          },
          "execution_count": 66
        }
      ]
    },
    {
      "cell_type": "markdown",
      "metadata": {
        "id": "iK5V5L12uyAI"
      },
      "source": [
        "Using the frequencies function, return the top 10 words in the novel and their frequency"
      ]
    },
    {
      "cell_type": "code",
      "metadata": {
        "id": "PdEjFqKSuyAI"
      },
      "source": [
        "# Answer below:\n",
        "freq = tolstoy.frequencies()"
      ],
      "execution_count": 67,
      "outputs": []
    },
    {
      "cell_type": "code",
      "metadata": {
        "id": "-WufbjqlNxuE"
      },
      "source": [
        "freq = freq.to_dataframe(columns=['words', 'frequency'])"
      ],
      "execution_count": 68,
      "outputs": []
    },
    {
      "cell_type": "code",
      "metadata": {
        "colab": {
          "base_uri": "https://localhost:8080/",
          "height": 343
        },
        "id": "pc2573pjOIPc",
        "outputId": "8a774810-3cea-4e93-ec18-349335e3ad96"
      },
      "source": [
        "freq.nlargest(10, 'frequency').compute()"
      ],
      "execution_count": 69,
      "outputs": [
        {
          "output_type": "execute_result",
          "data": {
            "text/html": [
              "<div>\n",
              "<style scoped>\n",
              "    .dataframe tbody tr th:only-of-type {\n",
              "        vertical-align: middle;\n",
              "    }\n",
              "\n",
              "    .dataframe tbody tr th {\n",
              "        vertical-align: top;\n",
              "    }\n",
              "\n",
              "    .dataframe thead th {\n",
              "        text-align: right;\n",
              "    }\n",
              "</style>\n",
              "<table border=\"1\" class=\"dataframe\">\n",
              "  <thead>\n",
              "    <tr style=\"text-align: right;\">\n",
              "      <th></th>\n",
              "      <th>words</th>\n",
              "      <th>frequency</th>\n",
              "    </tr>\n",
              "  </thead>\n",
              "  <tbody>\n",
              "    <tr>\n",
              "      <th>17</th>\n",
              "      <td>the</td>\n",
              "      <td>31701</td>\n",
              "    </tr>\n",
              "    <tr>\n",
              "      <th>9</th>\n",
              "      <td>and</td>\n",
              "      <td>20559</td>\n",
              "    </tr>\n",
              "    <tr>\n",
              "      <th>33</th>\n",
              "      <td>to</td>\n",
              "      <td>16320</td>\n",
              "    </tr>\n",
              "    <tr>\n",
              "      <th>16</th>\n",
              "      <td>of</td>\n",
              "      <td>14852</td>\n",
              "    </tr>\n",
              "    <tr>\n",
              "      <th>91</th>\n",
              "      <td>a</td>\n",
              "      <td>10018</td>\n",
              "    </tr>\n",
              "    <tr>\n",
              "      <th>69</th>\n",
              "      <td>in</td>\n",
              "      <td>8228</td>\n",
              "    </tr>\n",
              "    <tr>\n",
              "      <th>42</th>\n",
              "      <td>he</td>\n",
              "      <td>7631</td>\n",
              "    </tr>\n",
              "    <tr>\n",
              "      <th>179</th>\n",
              "      <td>his</td>\n",
              "      <td>7630</td>\n",
              "    </tr>\n",
              "    <tr>\n",
              "      <th>27</th>\n",
              "      <td>that</td>\n",
              "      <td>7230</td>\n",
              "    </tr>\n",
              "    <tr>\n",
              "      <th>68</th>\n",
              "      <td>was</td>\n",
              "      <td>7189</td>\n",
              "    </tr>\n",
              "  </tbody>\n",
              "</table>\n",
              "</div>"
            ],
            "text/plain": [
              "    words  frequency\n",
              "17    the      31701\n",
              "9     and      20559\n",
              "33     to      16320\n",
              "16     of      14852\n",
              "91      a      10018\n",
              "69     in       8228\n",
              "42     he       7631\n",
              "179   his       7630\n",
              "27   that       7230\n",
              "68    was       7189"
            ]
          },
          "metadata": {
            "tags": []
          },
          "execution_count": 69
        }
      ]
    },
    {
      "cell_type": "code",
      "metadata": {
        "id": "oenJpIijOnpq"
      },
      "source": [
        ""
      ],
      "execution_count": 69,
      "outputs": []
    }
  ]
}