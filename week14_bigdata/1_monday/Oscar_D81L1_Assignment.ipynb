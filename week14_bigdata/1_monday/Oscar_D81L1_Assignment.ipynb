{
  "nbformat": 4,
  "nbformat_minor": 0,
  "metadata": {
    "kernelspec": {
      "display_name": "Python 3",
      "language": "python",
      "name": "python3"
    },
    "language_info": {
      "codemirror_mode": {
        "name": "ipython",
        "version": 3
      },
      "file_extension": ".py",
      "mimetype": "text/x-python",
      "name": "python",
      "nbconvert_exporter": "python",
      "pygments_lexer": "ipython3",
      "version": "3.7.0"
    },
    "colab": {
      "name": "Oscar_D81L1_Assignment.ipynb",
      "provenance": [],
      "collapsed_sections": [],
      "toc_visible": true
    }
  },
  "cells": [
    {
      "cell_type": "markdown",
      "metadata": {
        "id": "087S2B-zux_6"
      },
      "source": [
        "## Day 76 Lecture 1 Assignment\n",
        "\n",
        "In this assignment, we will learn about the Dask library. We will use a json file containing the novel War and Peace loaded below and analyze the text."
      ]
    },
    {
      "cell_type": "code",
      "metadata": {
        "id": "cI4H-SR-Jjt_"
      },
      "source": [
        "!pip install dask[complete] --quiet \n",
        "!pip install aiohttp --quiet"
      ],
      "execution_count": 1,
      "outputs": []
    },
    {
      "cell_type": "code",
      "metadata": {
        "colab": {
          "base_uri": "https://localhost:8080/"
        },
        "id": "s6Ufi3AKLpeY",
        "outputId": "2592aad9-6f97-45e8-daee-d35a4fc1aa0a"
      },
      "source": [
        "from google.colab import drive\n",
        "drive.mount('/content/drive')"
      ],
      "execution_count": 2,
      "outputs": [
        {
          "output_type": "stream",
          "text": [
            "Drive already mounted at /content/drive; to attempt to forcibly remount, call drive.mount(\"/content/drive\", force_remount=True).\n"
          ],
          "name": "stdout"
        }
      ]
    },
    {
      "cell_type": "code",
      "metadata": {
        "id": "ZmxjUTxuSv1P"
      },
      "source": [
        "import numpy as np"
      ],
      "execution_count": 3,
      "outputs": []
    },
    {
      "cell_type": "code",
      "metadata": {
        "id": "IYIQ_BxAux_7",
        "colab": {
          "base_uri": "https://localhost:8080/"
        },
        "outputId": "f22cae20-5a54-4561-edf9-8334424a7321"
      },
      "source": [
        "import dask.bag as db\n",
        "import json\n",
        "\n",
        "tolstoy = db.read_text('/content/drive/MyDrive/python_for_data_scientists/DSI07/DataSets/2600-0.txt')\n",
        "tolstoy"
      ],
      "execution_count": 4,
      "outputs": [
        {
          "output_type": "execute_result",
          "data": {
            "text/plain": [
              "dask.bag<bag-from-delayed, npartitions=1>"
            ]
          },
          "metadata": {
            "tags": []
          },
          "execution_count": 4
        }
      ]
    },
    {
      "cell_type": "markdown",
      "metadata": {
        "id": "WBxjwKSnux_-"
      },
      "source": [
        "Above, we have loaded the novel War and Peace by Tolstoy into a Dask bag. Print the first 10 rows in the novel using the Dask bag."
      ]
    },
    {
      "cell_type": "code",
      "metadata": {
        "id": "iaIoIkW25DKu",
        "colab": {
          "base_uri": "https://localhost:8080/"
        },
        "outputId": "c504e054-c949-43b2-d5b4-ab90bc011a56"
      },
      "source": [
        "tolstoy.take(10)"
      ],
      "execution_count": 5,
      "outputs": [
        {
          "output_type": "execute_result",
          "data": {
            "text/plain": [
              "('\\ufeffBOOK ONE: 1805\\n',\n",
              " '\\n',\n",
              " '\\n',\n",
              " '\\n',\n",
              " '\\n',\n",
              " '\\n',\n",
              " 'CHAPTER I\\n',\n",
              " '\\n',\n",
              " '“Well, Prince, so Genoa and Lucca are now just family estates of the\\n',\n",
              " 'Buonapartes. But I warn you, if you don’t tell me that this means war,\\n')"
            ]
          },
          "metadata": {
            "tags": []
          },
          "execution_count": 5
        }
      ]
    },
    {
      "cell_type": "markdown",
      "metadata": {
        "id": "uN65kINLuyAB"
      },
      "source": [
        "You may notice that there are many blank rows (rows containing only `\\n`) Filter these rows and print the first 10 non blank rows in the novel."
      ]
    },
    {
      "cell_type": "code",
      "metadata": {
        "id": "jGlMSK5suyAC",
        "colab": {
          "base_uri": "https://localhost:8080/"
        },
        "outputId": "e1ea0e6b-5e90-4874-9e72-1ed343a31376"
      },
      "source": [
        "#Answer below:\n",
        "tolstoy = tolstoy.filter(lambda x: x != '\\n')\n",
        "tolstoy.take(10)"
      ],
      "execution_count": 6,
      "outputs": [
        {
          "output_type": "execute_result",
          "data": {
            "text/plain": [
              "('\\ufeffBOOK ONE: 1805\\n',\n",
              " 'CHAPTER I\\n',\n",
              " '“Well, Prince, so Genoa and Lucca are now just family estates of the\\n',\n",
              " 'Buonapartes. But I warn you, if you don’t tell me that this means war,\\n',\n",
              " 'if you still try to defend the infamies and horrors perpetrated by that\\n',\n",
              " 'Antichrist—I really believe he is Antichrist—I will have nothing\\n',\n",
              " 'more to do with you and you are no longer my friend, no longer my\\n',\n",
              " '‘faithful slave,’ as you call yourself! But how do you do? I see I\\n',\n",
              " 'have frightened you—sit down and tell me all the news.”\\n',\n",
              " 'It was in July, 1805, and the speaker was the well-known Anna Pávlovna\\n')"
            ]
          },
          "metadata": {
            "tags": []
          },
          "execution_count": 6
        }
      ]
    },
    {
      "cell_type": "markdown",
      "metadata": {
        "id": "kjIeJ8ZFuyAD"
      },
      "source": [
        "We would like to count the frequency of all words in the novel. The first step is to remove the `\\n` from the end of each string. Do this using the map function. Inside the map function write a lambda that will replace the string `\\n` with `''`."
      ]
    },
    {
      "cell_type": "code",
      "metadata": {
        "id": "bGaXglIsuyAE",
        "colab": {
          "base_uri": "https://localhost:8080/"
        },
        "outputId": "6f75a8eb-d563-48e0-c196-ffefca5ed64a"
      },
      "source": [
        "#Answer below:\n",
        "tolstoy = tolstoy.map(lambda x: x.replace('\\n', ''))\n",
        "tolstoy.take(10)\n"
      ],
      "execution_count": 7,
      "outputs": [
        {
          "output_type": "execute_result",
          "data": {
            "text/plain": [
              "('\\ufeffBOOK ONE: 1805',\n",
              " 'CHAPTER I',\n",
              " '“Well, Prince, so Genoa and Lucca are now just family estates of the',\n",
              " 'Buonapartes. But I warn you, if you don’t tell me that this means war,',\n",
              " 'if you still try to defend the infamies and horrors perpetrated by that',\n",
              " 'Antichrist—I really believe he is Antichrist—I will have nothing',\n",
              " 'more to do with you and you are no longer my friend, no longer my',\n",
              " '‘faithful slave,’ as you call yourself! But how do you do? I see I',\n",
              " 'have frightened you—sit down and tell me all the news.”',\n",
              " 'It was in July, 1805, and the speaker was the well-known Anna Pávlovna')"
            ]
          },
          "metadata": {
            "tags": []
          },
          "execution_count": 7
        }
      ]
    },
    {
      "cell_type": "markdown",
      "metadata": {
        "id": "JIA08wDYuyAF"
      },
      "source": [
        "Next, split each row on the space (use a lambda function inside a map). Then apply the flatten function to create a list of all words in the novel."
      ]
    },
    {
      "cell_type": "code",
      "metadata": {
        "id": "cqjprCyYuyAG",
        "colab": {
          "base_uri": "https://localhost:8080/"
        },
        "outputId": "b8f3c30c-a6d6-4818-c931-49a1ebc24f01"
      },
      "source": [
        "# Answer below:\n",
        "tolstoy = tolstoy.map(lambda x: x.split(' '))\n",
        "tolstoy.take(10)"
      ],
      "execution_count": 8,
      "outputs": [
        {
          "output_type": "execute_result",
          "data": {
            "text/plain": [
              "(['\\ufeffBOOK', 'ONE:', '1805'],\n",
              " ['CHAPTER', 'I'],\n",
              " ['“Well,',\n",
              "  'Prince,',\n",
              "  'so',\n",
              "  'Genoa',\n",
              "  'and',\n",
              "  'Lucca',\n",
              "  'are',\n",
              "  'now',\n",
              "  'just',\n",
              "  'family',\n",
              "  'estates',\n",
              "  'of',\n",
              "  'the'],\n",
              " ['Buonapartes.',\n",
              "  'But',\n",
              "  'I',\n",
              "  'warn',\n",
              "  'you,',\n",
              "  'if',\n",
              "  'you',\n",
              "  'don’t',\n",
              "  'tell',\n",
              "  'me',\n",
              "  'that',\n",
              "  'this',\n",
              "  'means',\n",
              "  'war,'],\n",
              " ['if',\n",
              "  'you',\n",
              "  'still',\n",
              "  'try',\n",
              "  'to',\n",
              "  'defend',\n",
              "  'the',\n",
              "  'infamies',\n",
              "  'and',\n",
              "  'horrors',\n",
              "  'perpetrated',\n",
              "  'by',\n",
              "  'that'],\n",
              " ['Antichrist—I',\n",
              "  'really',\n",
              "  'believe',\n",
              "  'he',\n",
              "  'is',\n",
              "  'Antichrist—I',\n",
              "  'will',\n",
              "  'have',\n",
              "  'nothing'],\n",
              " ['more',\n",
              "  'to',\n",
              "  'do',\n",
              "  'with',\n",
              "  'you',\n",
              "  'and',\n",
              "  'you',\n",
              "  'are',\n",
              "  'no',\n",
              "  'longer',\n",
              "  'my',\n",
              "  'friend,',\n",
              "  'no',\n",
              "  'longer',\n",
              "  'my'],\n",
              " ['‘faithful',\n",
              "  'slave,’',\n",
              "  'as',\n",
              "  'you',\n",
              "  'call',\n",
              "  'yourself!',\n",
              "  'But',\n",
              "  'how',\n",
              "  'do',\n",
              "  'you',\n",
              "  'do?',\n",
              "  'I',\n",
              "  'see',\n",
              "  'I'],\n",
              " ['have',\n",
              "  'frightened',\n",
              "  'you—sit',\n",
              "  'down',\n",
              "  'and',\n",
              "  'tell',\n",
              "  'me',\n",
              "  'all',\n",
              "  'the',\n",
              "  'news.”'],\n",
              " ['It',\n",
              "  'was',\n",
              "  'in',\n",
              "  'July,',\n",
              "  '1805,',\n",
              "  'and',\n",
              "  'the',\n",
              "  'speaker',\n",
              "  'was',\n",
              "  'the',\n",
              "  'well-known',\n",
              "  'Anna',\n",
              "  'Pávlovna'])"
            ]
          },
          "metadata": {
            "tags": []
          },
          "execution_count": 8
        }
      ]
    },
    {
      "cell_type": "code",
      "metadata": {
        "id": "jaPgIoWKS3hL"
      },
      "source": [
        "tolstoy = tolstoy.flatten()"
      ],
      "execution_count": 9,
      "outputs": []
    },
    {
      "cell_type": "code",
      "metadata": {
        "colab": {
          "base_uri": "https://localhost:8080/"
        },
        "id": "uzoDYqE2TRev",
        "outputId": "53fbd37a-17d4-42bd-b54d-e5e3c1167fab"
      },
      "source": [
        "tolstoy.take(10)"
      ],
      "execution_count": 10,
      "outputs": [
        {
          "output_type": "execute_result",
          "data": {
            "text/plain": [
              "('\\ufeffBOOK',\n",
              " 'ONE:',\n",
              " '1805',\n",
              " 'CHAPTER',\n",
              " 'I',\n",
              " '“Well,',\n",
              " 'Prince,',\n",
              " 'so',\n",
              " 'Genoa',\n",
              " 'and')"
            ]
          },
          "metadata": {
            "tags": []
          },
          "execution_count": 10
        }
      ]
    },
    {
      "cell_type": "markdown",
      "metadata": {
        "id": "iK5V5L12uyAI"
      },
      "source": [
        "Using the frequencies function, return the top 10 words in the novel and their frequency"
      ]
    },
    {
      "cell_type": "code",
      "metadata": {
        "id": "PdEjFqKSuyAI",
        "colab": {
          "base_uri": "https://localhost:8080/"
        },
        "outputId": "14b8aaff-f66a-4a5f-8541-b2a3467783c6"
      },
      "source": [
        "# Answer below:\n",
        "tolstoy = tolstoy.frequencies(sort=True)\n",
        "tolstoy.take(10)\n"
      ],
      "execution_count": 11,
      "outputs": [
        {
          "output_type": "execute_result",
          "data": {
            "text/plain": [
              "(('the', 31701),\n",
              " ('and', 20559),\n",
              " ('to', 16320),\n",
              " ('of', 14852),\n",
              " ('a', 10018),\n",
              " ('in', 8228),\n",
              " ('he', 7631),\n",
              " ('his', 7630),\n",
              " ('that', 7230),\n",
              " ('was', 7189))"
            ]
          },
          "metadata": {
            "tags": []
          },
          "execution_count": 11
        }
      ]
    },
    {
      "cell_type": "code",
      "metadata": {
        "id": "SORSao6muyAK",
        "colab": {
          "base_uri": "https://localhost:8080/"
        },
        "outputId": "2ae902e3-f41a-4672-d292-ea2ef1bf4cd6"
      },
      "source": [
        "tolstoy.take(100)\n"
      ],
      "execution_count": 12,
      "outputs": [
        {
          "output_type": "execute_result",
          "data": {
            "text/plain": [
              "(('the', 31701),\n",
              " ('and', 20559),\n",
              " ('to', 16320),\n",
              " ('of', 14852),\n",
              " ('a', 10018),\n",
              " ('in', 8228),\n",
              " ('he', 7631),\n",
              " ('his', 7630),\n",
              " ('that', 7230),\n",
              " ('was', 7189),\n",
              " ('with', 5518),\n",
              " ('had', 5305),\n",
              " ('not', 4412),\n",
              " ('at', 4199),\n",
              " ('her', 3882),\n",
              " ('as', 3694),\n",
              " ('on', 3368),\n",
              " ('it', 3323),\n",
              " ('for', 3269),\n",
              " ('I', 3208),\n",
              " ('is', 2989),\n",
              " ('but', 2789),\n",
              " ('him', 2722),\n",
              " ('The', 2549),\n",
              " ('she', 2540),\n",
              " ('from', 2517),\n",
              " ('you', 2417),\n",
              " ('said', 2406),\n",
              " ('were', 2352),\n",
              " ('by', 2309),\n",
              " ('be', 2300),\n",
              " ('all', 2272),\n",
              " ('which', 1924),\n",
              " ('who', 1905),\n",
              " ('have', 1904),\n",
              " ('they', 1705),\n",
              " ('one', 1704),\n",
              " ('He', 1667),\n",
              " ('what', 1626),\n",
              " ('this', 1586),\n",
              " ('an', 1561),\n",
              " ('or', 1535),\n",
              " ('Prince', 1498),\n",
              " ('so', 1461),\n",
              " ('been', 1458),\n",
              " ('did', 1415),\n",
              " ('their', 1407),\n",
              " ('', 1344),\n",
              " ('would', 1333),\n",
              " ('up', 1296),\n",
              " ('Pierre', 1260),\n",
              " ('are', 1161),\n",
              " ('only', 1137),\n",
              " ('could', 1090),\n",
              " ('my', 1081),\n",
              " ('when', 1054),\n",
              " ('out', 1041),\n",
              " ('no', 998),\n",
              " ('into', 995),\n",
              " ('if', 981),\n",
              " ('them', 942),\n",
              " ('will', 941),\n",
              " ('more', 920),\n",
              " ('about', 908),\n",
              " ('there', 895),\n",
              " ('now', 872),\n",
              " ('went', 845),\n",
              " ('But', 829),\n",
              " ('And', 828),\n",
              " ('him.', 825),\n",
              " ('man', 774),\n",
              " ('do', 758),\n",
              " ('some', 758),\n",
              " ('“I', 755),\n",
              " ('old', 751),\n",
              " ('very', 748),\n",
              " ('we', 712),\n",
              " ('him,', 711),\n",
              " ('your', 707),\n",
              " ('how', 704),\n",
              " ('Andrew', 700),\n",
              " ('himself', 686),\n",
              " ('She', 685),\n",
              " ('Natásha', 683),\n",
              " ('like', 673),\n",
              " ('has', 672),\n",
              " ('French', 671),\n",
              " ('came', 661),\n",
              " ('me', 656),\n",
              " ('began', 653),\n",
              " ('looked', 642),\n",
              " ('time', 638),\n",
              " ('without', 633),\n",
              " ('know', 623),\n",
              " ('after', 623),\n",
              " ('face', 609),\n",
              " ('thought', 608),\n",
              " ('before', 606),\n",
              " ('those', 605),\n",
              " ('felt', 598))"
            ]
          },
          "metadata": {
            "tags": []
          },
          "execution_count": 12
        }
      ]
    },
    {
      "cell_type": "code",
      "metadata": {
        "id": "zKNw9y7ouyAL"
      },
      "source": [
        ""
      ],
      "execution_count": 11,
      "outputs": []
    }
  ]
}