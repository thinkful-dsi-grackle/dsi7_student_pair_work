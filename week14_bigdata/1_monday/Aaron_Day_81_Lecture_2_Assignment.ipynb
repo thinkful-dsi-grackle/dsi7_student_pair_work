{
  "nbformat": 4,
  "nbformat_minor": 0,
  "metadata": {
    "kernelspec": {
      "display_name": "Python 3",
      "language": "python",
      "name": "python3"
    },
    "language_info": {
      "codemirror_mode": {
        "name": "ipython",
        "version": 3
      },
      "file_extension": ".py",
      "mimetype": "text/x-python",
      "name": "python",
      "nbconvert_exporter": "python",
      "pygments_lexer": "ipython3",
      "version": "3.7.0"
    },
    "colab": {
      "name": "Aaron_Day_81_Lecture_2_Assignment.ipynb",
      "provenance": [],
      "collapsed_sections": []
    }
  },
  "cells": [
    {
      "cell_type": "markdown",
      "metadata": {
        "id": "fItOkGzK3YPp"
      },
      "source": [
        "## Day 76 Lecture 2 Assignment\n",
        "\n",
        "In this assignment, we will learn about Dask dataframes. We will use the census dataset loaded below and perform some exploratory data analysis."
      ]
    },
    {
      "cell_type": "code",
      "metadata": {
        "id": "gUQ2c5OcxfiS"
      },
      "source": [
        "!pip install --upgrade \"dask[complete]\" --quiet\n",
        "!pip install aiohttp --quiet"
      ],
      "execution_count": 1,
      "outputs": []
    },
    {
      "cell_type": "code",
      "metadata": {
        "id": "tgsOiV2f3YPq"
      },
      "source": [
        "import dask.dataframe as dd\n",
        "import numpy as np"
      ],
      "execution_count": 2,
      "outputs": []
    },
    {
      "cell_type": "code",
      "metadata": {
        "id": "l9K5TOwf3YPs"
      },
      "source": [
        "census = dd.read_csv('https://tf-assets-prod.s3.amazonaws.com/tf-curric/data-science/Data%20Sets%20Big%20Data/acs2015_census_tract_data.csv')"
      ],
      "execution_count": 3,
      "outputs": []
    },
    {
      "cell_type": "code",
      "metadata": {
        "id": "6n4L9icX3YPu",
        "colab": {
          "base_uri": "https://localhost:8080/",
          "height": 224
        },
        "outputId": "7bfa82bd-3035-49c8-adf9-1e9738368e10"
      },
      "source": [
        "census.head()"
      ],
      "execution_count": 4,
      "outputs": [
        {
          "output_type": "execute_result",
          "data": {
            "text/html": [
              "<div>\n",
              "<style scoped>\n",
              "    .dataframe tbody tr th:only-of-type {\n",
              "        vertical-align: middle;\n",
              "    }\n",
              "\n",
              "    .dataframe tbody tr th {\n",
              "        vertical-align: top;\n",
              "    }\n",
              "\n",
              "    .dataframe thead th {\n",
              "        text-align: right;\n",
              "    }\n",
              "</style>\n",
              "<table border=\"1\" class=\"dataframe\">\n",
              "  <thead>\n",
              "    <tr style=\"text-align: right;\">\n",
              "      <th></th>\n",
              "      <th>CensusTract</th>\n",
              "      <th>State</th>\n",
              "      <th>County</th>\n",
              "      <th>TotalPop</th>\n",
              "      <th>Men</th>\n",
              "      <th>Women</th>\n",
              "      <th>Hispanic</th>\n",
              "      <th>White</th>\n",
              "      <th>Black</th>\n",
              "      <th>Native</th>\n",
              "      <th>Asian</th>\n",
              "      <th>Pacific</th>\n",
              "      <th>Citizen</th>\n",
              "      <th>Income</th>\n",
              "      <th>IncomeErr</th>\n",
              "      <th>IncomePerCap</th>\n",
              "      <th>IncomePerCapErr</th>\n",
              "      <th>Poverty</th>\n",
              "      <th>ChildPoverty</th>\n",
              "      <th>Professional</th>\n",
              "      <th>Service</th>\n",
              "      <th>Office</th>\n",
              "      <th>Construction</th>\n",
              "      <th>Production</th>\n",
              "      <th>Drive</th>\n",
              "      <th>Carpool</th>\n",
              "      <th>Transit</th>\n",
              "      <th>Walk</th>\n",
              "      <th>OtherTransp</th>\n",
              "      <th>WorkAtHome</th>\n",
              "      <th>MeanCommute</th>\n",
              "      <th>Employed</th>\n",
              "      <th>PrivateWork</th>\n",
              "      <th>PublicWork</th>\n",
              "      <th>SelfEmployed</th>\n",
              "      <th>FamilyWork</th>\n",
              "      <th>Unemployment</th>\n",
              "    </tr>\n",
              "  </thead>\n",
              "  <tbody>\n",
              "    <tr>\n",
              "      <th>0</th>\n",
              "      <td>1001020100</td>\n",
              "      <td>Alabama</td>\n",
              "      <td>Autauga</td>\n",
              "      <td>1948</td>\n",
              "      <td>940</td>\n",
              "      <td>1008</td>\n",
              "      <td>0.9</td>\n",
              "      <td>87.4</td>\n",
              "      <td>7.7</td>\n",
              "      <td>0.3</td>\n",
              "      <td>0.6</td>\n",
              "      <td>0.0</td>\n",
              "      <td>1503</td>\n",
              "      <td>61838.0</td>\n",
              "      <td>11900.0</td>\n",
              "      <td>25713.0</td>\n",
              "      <td>4548.0</td>\n",
              "      <td>8.1</td>\n",
              "      <td>8.4</td>\n",
              "      <td>34.7</td>\n",
              "      <td>17.0</td>\n",
              "      <td>21.3</td>\n",
              "      <td>11.9</td>\n",
              "      <td>15.2</td>\n",
              "      <td>90.2</td>\n",
              "      <td>4.8</td>\n",
              "      <td>0.0</td>\n",
              "      <td>0.5</td>\n",
              "      <td>2.3</td>\n",
              "      <td>2.1</td>\n",
              "      <td>25.0</td>\n",
              "      <td>943</td>\n",
              "      <td>77.1</td>\n",
              "      <td>18.3</td>\n",
              "      <td>4.6</td>\n",
              "      <td>0.0</td>\n",
              "      <td>5.4</td>\n",
              "    </tr>\n",
              "    <tr>\n",
              "      <th>1</th>\n",
              "      <td>1001020200</td>\n",
              "      <td>Alabama</td>\n",
              "      <td>Autauga</td>\n",
              "      <td>2156</td>\n",
              "      <td>1059</td>\n",
              "      <td>1097</td>\n",
              "      <td>0.8</td>\n",
              "      <td>40.4</td>\n",
              "      <td>53.3</td>\n",
              "      <td>0.0</td>\n",
              "      <td>2.3</td>\n",
              "      <td>0.0</td>\n",
              "      <td>1662</td>\n",
              "      <td>32303.0</td>\n",
              "      <td>13538.0</td>\n",
              "      <td>18021.0</td>\n",
              "      <td>2474.0</td>\n",
              "      <td>25.5</td>\n",
              "      <td>40.3</td>\n",
              "      <td>22.3</td>\n",
              "      <td>24.7</td>\n",
              "      <td>21.5</td>\n",
              "      <td>9.4</td>\n",
              "      <td>22.0</td>\n",
              "      <td>86.3</td>\n",
              "      <td>13.1</td>\n",
              "      <td>0.0</td>\n",
              "      <td>0.0</td>\n",
              "      <td>0.7</td>\n",
              "      <td>0.0</td>\n",
              "      <td>23.4</td>\n",
              "      <td>753</td>\n",
              "      <td>77.0</td>\n",
              "      <td>16.9</td>\n",
              "      <td>6.1</td>\n",
              "      <td>0.0</td>\n",
              "      <td>13.3</td>\n",
              "    </tr>\n",
              "    <tr>\n",
              "      <th>2</th>\n",
              "      <td>1001020300</td>\n",
              "      <td>Alabama</td>\n",
              "      <td>Autauga</td>\n",
              "      <td>2968</td>\n",
              "      <td>1364</td>\n",
              "      <td>1604</td>\n",
              "      <td>0.0</td>\n",
              "      <td>74.5</td>\n",
              "      <td>18.6</td>\n",
              "      <td>0.5</td>\n",
              "      <td>1.4</td>\n",
              "      <td>0.3</td>\n",
              "      <td>2335</td>\n",
              "      <td>44922.0</td>\n",
              "      <td>5629.0</td>\n",
              "      <td>20689.0</td>\n",
              "      <td>2817.0</td>\n",
              "      <td>12.7</td>\n",
              "      <td>19.7</td>\n",
              "      <td>31.4</td>\n",
              "      <td>24.9</td>\n",
              "      <td>22.1</td>\n",
              "      <td>9.2</td>\n",
              "      <td>12.4</td>\n",
              "      <td>94.8</td>\n",
              "      <td>2.8</td>\n",
              "      <td>0.0</td>\n",
              "      <td>0.0</td>\n",
              "      <td>0.0</td>\n",
              "      <td>2.5</td>\n",
              "      <td>19.6</td>\n",
              "      <td>1373</td>\n",
              "      <td>64.1</td>\n",
              "      <td>23.6</td>\n",
              "      <td>12.3</td>\n",
              "      <td>0.0</td>\n",
              "      <td>6.2</td>\n",
              "    </tr>\n",
              "    <tr>\n",
              "      <th>3</th>\n",
              "      <td>1001020400</td>\n",
              "      <td>Alabama</td>\n",
              "      <td>Autauga</td>\n",
              "      <td>4423</td>\n",
              "      <td>2172</td>\n",
              "      <td>2251</td>\n",
              "      <td>10.5</td>\n",
              "      <td>82.8</td>\n",
              "      <td>3.7</td>\n",
              "      <td>1.6</td>\n",
              "      <td>0.0</td>\n",
              "      <td>0.0</td>\n",
              "      <td>3306</td>\n",
              "      <td>54329.0</td>\n",
              "      <td>7003.0</td>\n",
              "      <td>24125.0</td>\n",
              "      <td>2870.0</td>\n",
              "      <td>2.1</td>\n",
              "      <td>1.6</td>\n",
              "      <td>27.0</td>\n",
              "      <td>20.8</td>\n",
              "      <td>27.0</td>\n",
              "      <td>8.7</td>\n",
              "      <td>16.4</td>\n",
              "      <td>86.6</td>\n",
              "      <td>9.1</td>\n",
              "      <td>0.0</td>\n",
              "      <td>0.0</td>\n",
              "      <td>2.6</td>\n",
              "      <td>1.6</td>\n",
              "      <td>25.3</td>\n",
              "      <td>1782</td>\n",
              "      <td>75.7</td>\n",
              "      <td>21.2</td>\n",
              "      <td>3.1</td>\n",
              "      <td>0.0</td>\n",
              "      <td>10.8</td>\n",
              "    </tr>\n",
              "    <tr>\n",
              "      <th>4</th>\n",
              "      <td>1001020500</td>\n",
              "      <td>Alabama</td>\n",
              "      <td>Autauga</td>\n",
              "      <td>10763</td>\n",
              "      <td>4922</td>\n",
              "      <td>5841</td>\n",
              "      <td>0.7</td>\n",
              "      <td>68.5</td>\n",
              "      <td>24.8</td>\n",
              "      <td>0.0</td>\n",
              "      <td>3.8</td>\n",
              "      <td>0.0</td>\n",
              "      <td>7666</td>\n",
              "      <td>51965.0</td>\n",
              "      <td>6935.0</td>\n",
              "      <td>27526.0</td>\n",
              "      <td>2813.0</td>\n",
              "      <td>11.4</td>\n",
              "      <td>17.5</td>\n",
              "      <td>49.6</td>\n",
              "      <td>14.2</td>\n",
              "      <td>18.2</td>\n",
              "      <td>2.1</td>\n",
              "      <td>15.8</td>\n",
              "      <td>88.0</td>\n",
              "      <td>10.5</td>\n",
              "      <td>0.0</td>\n",
              "      <td>0.0</td>\n",
              "      <td>0.6</td>\n",
              "      <td>0.9</td>\n",
              "      <td>24.8</td>\n",
              "      <td>5037</td>\n",
              "      <td>67.1</td>\n",
              "      <td>27.6</td>\n",
              "      <td>5.3</td>\n",
              "      <td>0.0</td>\n",
              "      <td>4.2</td>\n",
              "    </tr>\n",
              "  </tbody>\n",
              "</table>\n",
              "</div>"
            ],
            "text/plain": [
              "   CensusTract    State   County  ...  SelfEmployed  FamilyWork  Unemployment\n",
              "0   1001020100  Alabama  Autauga  ...           4.6         0.0           5.4\n",
              "1   1001020200  Alabama  Autauga  ...           6.1         0.0          13.3\n",
              "2   1001020300  Alabama  Autauga  ...          12.3         0.0           6.2\n",
              "3   1001020400  Alabama  Autauga  ...           3.1         0.0          10.8\n",
              "4   1001020500  Alabama  Autauga  ...           5.3         0.0           4.2\n",
              "\n",
              "[5 rows x 37 columns]"
            ]
          },
          "metadata": {
            "tags": []
          },
          "execution_count": 4
        }
      ]
    },
    {
      "cell_type": "markdown",
      "metadata": {
        "id": "s3PLTlvK3YPw"
      },
      "source": [
        "The dataset described above contains the aggregated data for each county in the United States. For example, the number in the Carpool column describes the percent of people in the county who carpool to work.\n",
        "\n",
        "Print all the column names in the dataset and describe the data in each column"
      ]
    },
    {
      "cell_type": "code",
      "metadata": {
        "id": "zP7hPQqB3YPw",
        "colab": {
          "base_uri": "https://localhost:8080/"
        },
        "outputId": "b6bef7c5-343c-442b-e918-fad7eba3e31a"
      },
      "source": [
        "#Answer below:\n",
        "\n",
        "census.dtypes"
      ],
      "execution_count": 7,
      "outputs": [
        {
          "output_type": "execute_result",
          "data": {
            "text/plain": [
              "CensusTract          int64\n",
              "State               object\n",
              "County              object\n",
              "TotalPop             int64\n",
              "Men                  int64\n",
              "Women                int64\n",
              "Hispanic           float64\n",
              "White              float64\n",
              "Black              float64\n",
              "Native             float64\n",
              "Asian              float64\n",
              "Pacific            float64\n",
              "Citizen              int64\n",
              "Income             float64\n",
              "IncomeErr          float64\n",
              "IncomePerCap       float64\n",
              "IncomePerCapErr    float64\n",
              "Poverty            float64\n",
              "ChildPoverty       float64\n",
              "Professional       float64\n",
              "Service            float64\n",
              "Office             float64\n",
              "Construction       float64\n",
              "Production         float64\n",
              "Drive              float64\n",
              "Carpool            float64\n",
              "Transit            float64\n",
              "Walk               float64\n",
              "OtherTransp        float64\n",
              "WorkAtHome         float64\n",
              "MeanCommute        float64\n",
              "Employed             int64\n",
              "PrivateWork        float64\n",
              "PublicWork         float64\n",
              "SelfEmployed       float64\n",
              "FamilyWork         float64\n",
              "Unemployment       float64\n",
              "dtype: object"
            ]
          },
          "metadata": {
            "tags": []
          },
          "execution_count": 7
        }
      ]
    },
    {
      "cell_type": "markdown",
      "metadata": {
        "id": "LRgf7FwZ3YPy"
      },
      "source": [
        "How many counties have a unemployement rate above 10%?"
      ]
    },
    {
      "cell_type": "code",
      "metadata": {
        "id": "2DkNHwvE3YPz",
        "colab": {
          "base_uri": "https://localhost:8080/"
        },
        "outputId": "a3f0938a-6766-4be6-891a-27efc57b0be6"
      },
      "source": [
        "#Answer below:\n",
        "\n",
        "(census.groupby('County').mean().Unemployment > 10).sum().compute()"
      ],
      "execution_count": 19,
      "outputs": [
        {
          "output_type": "execute_result",
          "data": {
            "text/plain": [
              "533"
            ]
          },
          "metadata": {
            "tags": []
          },
          "execution_count": 19
        }
      ]
    },
    {
      "cell_type": "markdown",
      "metadata": {
        "id": "ZoU-kYJB3YP1"
      },
      "source": [
        "Print the number of counties in each state."
      ]
    },
    {
      "cell_type": "code",
      "metadata": {
        "id": "BKY1hlZy3YP2",
        "colab": {
          "base_uri": "https://localhost:8080/"
        },
        "outputId": "cc771ee6-95e3-474f-9246-383a9819bdc0"
      },
      "source": [
        "# Answer below:\n",
        "\n",
        "census.melt(id_vars='State', value_vars='County').drop_duplicates().State.value_counts().compute()\n"
      ],
      "execution_count": 70,
      "outputs": [
        {
          "output_type": "execute_result",
          "data": {
            "text/plain": [
              "Texas                   254\n",
              "Georgia                 159\n",
              "Virginia                133\n",
              "Kentucky                120\n",
              "Missouri                115\n",
              "Kansas                  105\n",
              "Illinois                102\n",
              "North Carolina          100\n",
              "Iowa                     99\n",
              "Tennessee                95\n",
              "Nebraska                 93\n",
              "Indiana                  92\n",
              "Ohio                     88\n",
              "Minnesota                87\n",
              "Michigan                 83\n",
              "Mississippi              82\n",
              "Puerto Rico              78\n",
              "Oklahoma                 77\n",
              "Arkansas                 75\n",
              "Wisconsin                72\n",
              "Florida                  67\n",
              "Alabama                  67\n",
              "Pennsylvania             67\n",
              "South Dakota             66\n",
              "Colorado                 64\n",
              "Louisiana                64\n",
              "New York                 62\n",
              "California               58\n",
              "Montana                  56\n",
              "West Virginia            55\n",
              "North Dakota             53\n",
              "South Carolina           46\n",
              "Idaho                    44\n",
              "Washington               39\n",
              "Oregon                   36\n",
              "New Mexico               33\n",
              "Alaska                   29\n",
              "Utah                     29\n",
              "Maryland                 24\n",
              "Wyoming                  23\n",
              "New Jersey               21\n",
              "Nevada                   17\n",
              "Maine                    16\n",
              "Arizona                  15\n",
              "Vermont                  14\n",
              "Massachusetts            14\n",
              "New Hampshire            10\n",
              "Connecticut               8\n",
              "Hawaii                    5\n",
              "Rhode Island              5\n",
              "Delaware                  3\n",
              "District of Columbia      1\n",
              "Name: State, dtype: int64"
            ]
          },
          "metadata": {
            "tags": []
          },
          "execution_count": 70
        }
      ]
    },
    {
      "cell_type": "markdown",
      "metadata": {
        "id": "2qvYmnMq3YP3"
      },
      "source": [
        "Add a high child poverty boolean column. This column will be 1 if the rate of child poverty is over %20 and 0 otherwise."
      ]
    },
    {
      "cell_type": "code",
      "metadata": {
        "id": "-7k6Bt0h3YP4",
        "colab": {
          "base_uri": "https://localhost:8080/",
          "height": 224
        },
        "outputId": "3a93c629-cbd6-4194-dc4f-e148a2bcc3a9"
      },
      "source": [
        "# Answer below:\n",
        "\n",
        "census['ChildPoverty_over_20'] = (census.ChildPoverty.map(lambda x: x > 20) * 1)\n",
        "census.head()"
      ],
      "execution_count": 75,
      "outputs": [
        {
          "output_type": "execute_result",
          "data": {
            "text/html": [
              "<div>\n",
              "<style scoped>\n",
              "    .dataframe tbody tr th:only-of-type {\n",
              "        vertical-align: middle;\n",
              "    }\n",
              "\n",
              "    .dataframe tbody tr th {\n",
              "        vertical-align: top;\n",
              "    }\n",
              "\n",
              "    .dataframe thead th {\n",
              "        text-align: right;\n",
              "    }\n",
              "</style>\n",
              "<table border=\"1\" class=\"dataframe\">\n",
              "  <thead>\n",
              "    <tr style=\"text-align: right;\">\n",
              "      <th></th>\n",
              "      <th>CensusTract</th>\n",
              "      <th>State</th>\n",
              "      <th>County</th>\n",
              "      <th>TotalPop</th>\n",
              "      <th>Men</th>\n",
              "      <th>Women</th>\n",
              "      <th>Hispanic</th>\n",
              "      <th>White</th>\n",
              "      <th>Black</th>\n",
              "      <th>Native</th>\n",
              "      <th>Asian</th>\n",
              "      <th>Pacific</th>\n",
              "      <th>Citizen</th>\n",
              "      <th>Income</th>\n",
              "      <th>IncomeErr</th>\n",
              "      <th>IncomePerCap</th>\n",
              "      <th>IncomePerCapErr</th>\n",
              "      <th>Poverty</th>\n",
              "      <th>ChildPoverty</th>\n",
              "      <th>Professional</th>\n",
              "      <th>Service</th>\n",
              "      <th>Office</th>\n",
              "      <th>Construction</th>\n",
              "      <th>Production</th>\n",
              "      <th>Drive</th>\n",
              "      <th>Carpool</th>\n",
              "      <th>Transit</th>\n",
              "      <th>Walk</th>\n",
              "      <th>OtherTransp</th>\n",
              "      <th>WorkAtHome</th>\n",
              "      <th>MeanCommute</th>\n",
              "      <th>Employed</th>\n",
              "      <th>PrivateWork</th>\n",
              "      <th>PublicWork</th>\n",
              "      <th>SelfEmployed</th>\n",
              "      <th>FamilyWork</th>\n",
              "      <th>Unemployment</th>\n",
              "      <th>ChildPoverty_over_20</th>\n",
              "    </tr>\n",
              "  </thead>\n",
              "  <tbody>\n",
              "    <tr>\n",
              "      <th>0</th>\n",
              "      <td>1001020100</td>\n",
              "      <td>Alabama</td>\n",
              "      <td>Autauga</td>\n",
              "      <td>1948</td>\n",
              "      <td>940</td>\n",
              "      <td>1008</td>\n",
              "      <td>0.9</td>\n",
              "      <td>87.4</td>\n",
              "      <td>7.7</td>\n",
              "      <td>0.3</td>\n",
              "      <td>0.6</td>\n",
              "      <td>0.0</td>\n",
              "      <td>1503</td>\n",
              "      <td>61838.0</td>\n",
              "      <td>11900.0</td>\n",
              "      <td>25713.0</td>\n",
              "      <td>4548.0</td>\n",
              "      <td>8.1</td>\n",
              "      <td>8.4</td>\n",
              "      <td>34.7</td>\n",
              "      <td>17.0</td>\n",
              "      <td>21.3</td>\n",
              "      <td>11.9</td>\n",
              "      <td>15.2</td>\n",
              "      <td>90.2</td>\n",
              "      <td>4.8</td>\n",
              "      <td>0.0</td>\n",
              "      <td>0.5</td>\n",
              "      <td>2.3</td>\n",
              "      <td>2.1</td>\n",
              "      <td>25.0</td>\n",
              "      <td>943</td>\n",
              "      <td>77.1</td>\n",
              "      <td>18.3</td>\n",
              "      <td>4.6</td>\n",
              "      <td>0.0</td>\n",
              "      <td>5.4</td>\n",
              "      <td>0</td>\n",
              "    </tr>\n",
              "    <tr>\n",
              "      <th>1</th>\n",
              "      <td>1001020200</td>\n",
              "      <td>Alabama</td>\n",
              "      <td>Autauga</td>\n",
              "      <td>2156</td>\n",
              "      <td>1059</td>\n",
              "      <td>1097</td>\n",
              "      <td>0.8</td>\n",
              "      <td>40.4</td>\n",
              "      <td>53.3</td>\n",
              "      <td>0.0</td>\n",
              "      <td>2.3</td>\n",
              "      <td>0.0</td>\n",
              "      <td>1662</td>\n",
              "      <td>32303.0</td>\n",
              "      <td>13538.0</td>\n",
              "      <td>18021.0</td>\n",
              "      <td>2474.0</td>\n",
              "      <td>25.5</td>\n",
              "      <td>40.3</td>\n",
              "      <td>22.3</td>\n",
              "      <td>24.7</td>\n",
              "      <td>21.5</td>\n",
              "      <td>9.4</td>\n",
              "      <td>22.0</td>\n",
              "      <td>86.3</td>\n",
              "      <td>13.1</td>\n",
              "      <td>0.0</td>\n",
              "      <td>0.0</td>\n",
              "      <td>0.7</td>\n",
              "      <td>0.0</td>\n",
              "      <td>23.4</td>\n",
              "      <td>753</td>\n",
              "      <td>77.0</td>\n",
              "      <td>16.9</td>\n",
              "      <td>6.1</td>\n",
              "      <td>0.0</td>\n",
              "      <td>13.3</td>\n",
              "      <td>1</td>\n",
              "    </tr>\n",
              "    <tr>\n",
              "      <th>2</th>\n",
              "      <td>1001020300</td>\n",
              "      <td>Alabama</td>\n",
              "      <td>Autauga</td>\n",
              "      <td>2968</td>\n",
              "      <td>1364</td>\n",
              "      <td>1604</td>\n",
              "      <td>0.0</td>\n",
              "      <td>74.5</td>\n",
              "      <td>18.6</td>\n",
              "      <td>0.5</td>\n",
              "      <td>1.4</td>\n",
              "      <td>0.3</td>\n",
              "      <td>2335</td>\n",
              "      <td>44922.0</td>\n",
              "      <td>5629.0</td>\n",
              "      <td>20689.0</td>\n",
              "      <td>2817.0</td>\n",
              "      <td>12.7</td>\n",
              "      <td>19.7</td>\n",
              "      <td>31.4</td>\n",
              "      <td>24.9</td>\n",
              "      <td>22.1</td>\n",
              "      <td>9.2</td>\n",
              "      <td>12.4</td>\n",
              "      <td>94.8</td>\n",
              "      <td>2.8</td>\n",
              "      <td>0.0</td>\n",
              "      <td>0.0</td>\n",
              "      <td>0.0</td>\n",
              "      <td>2.5</td>\n",
              "      <td>19.6</td>\n",
              "      <td>1373</td>\n",
              "      <td>64.1</td>\n",
              "      <td>23.6</td>\n",
              "      <td>12.3</td>\n",
              "      <td>0.0</td>\n",
              "      <td>6.2</td>\n",
              "      <td>0</td>\n",
              "    </tr>\n",
              "    <tr>\n",
              "      <th>3</th>\n",
              "      <td>1001020400</td>\n",
              "      <td>Alabama</td>\n",
              "      <td>Autauga</td>\n",
              "      <td>4423</td>\n",
              "      <td>2172</td>\n",
              "      <td>2251</td>\n",
              "      <td>10.5</td>\n",
              "      <td>82.8</td>\n",
              "      <td>3.7</td>\n",
              "      <td>1.6</td>\n",
              "      <td>0.0</td>\n",
              "      <td>0.0</td>\n",
              "      <td>3306</td>\n",
              "      <td>54329.0</td>\n",
              "      <td>7003.0</td>\n",
              "      <td>24125.0</td>\n",
              "      <td>2870.0</td>\n",
              "      <td>2.1</td>\n",
              "      <td>1.6</td>\n",
              "      <td>27.0</td>\n",
              "      <td>20.8</td>\n",
              "      <td>27.0</td>\n",
              "      <td>8.7</td>\n",
              "      <td>16.4</td>\n",
              "      <td>86.6</td>\n",
              "      <td>9.1</td>\n",
              "      <td>0.0</td>\n",
              "      <td>0.0</td>\n",
              "      <td>2.6</td>\n",
              "      <td>1.6</td>\n",
              "      <td>25.3</td>\n",
              "      <td>1782</td>\n",
              "      <td>75.7</td>\n",
              "      <td>21.2</td>\n",
              "      <td>3.1</td>\n",
              "      <td>0.0</td>\n",
              "      <td>10.8</td>\n",
              "      <td>0</td>\n",
              "    </tr>\n",
              "    <tr>\n",
              "      <th>4</th>\n",
              "      <td>1001020500</td>\n",
              "      <td>Alabama</td>\n",
              "      <td>Autauga</td>\n",
              "      <td>10763</td>\n",
              "      <td>4922</td>\n",
              "      <td>5841</td>\n",
              "      <td>0.7</td>\n",
              "      <td>68.5</td>\n",
              "      <td>24.8</td>\n",
              "      <td>0.0</td>\n",
              "      <td>3.8</td>\n",
              "      <td>0.0</td>\n",
              "      <td>7666</td>\n",
              "      <td>51965.0</td>\n",
              "      <td>6935.0</td>\n",
              "      <td>27526.0</td>\n",
              "      <td>2813.0</td>\n",
              "      <td>11.4</td>\n",
              "      <td>17.5</td>\n",
              "      <td>49.6</td>\n",
              "      <td>14.2</td>\n",
              "      <td>18.2</td>\n",
              "      <td>2.1</td>\n",
              "      <td>15.8</td>\n",
              "      <td>88.0</td>\n",
              "      <td>10.5</td>\n",
              "      <td>0.0</td>\n",
              "      <td>0.0</td>\n",
              "      <td>0.6</td>\n",
              "      <td>0.9</td>\n",
              "      <td>24.8</td>\n",
              "      <td>5037</td>\n",
              "      <td>67.1</td>\n",
              "      <td>27.6</td>\n",
              "      <td>5.3</td>\n",
              "      <td>0.0</td>\n",
              "      <td>4.2</td>\n",
              "      <td>0</td>\n",
              "    </tr>\n",
              "  </tbody>\n",
              "</table>\n",
              "</div>"
            ],
            "text/plain": [
              "   CensusTract    State  ... Unemployment  ChildPoverty_over_20\n",
              "0   1001020100  Alabama  ...          5.4                     0\n",
              "1   1001020200  Alabama  ...         13.3                     1\n",
              "2   1001020300  Alabama  ...          6.2                     0\n",
              "3   1001020400  Alabama  ...         10.8                     0\n",
              "4   1001020500  Alabama  ...          4.2                     0\n",
              "\n",
              "[5 rows x 38 columns]"
            ]
          },
          "metadata": {
            "tags": []
          },
          "execution_count": 75
        }
      ]
    },
    {
      "cell_type": "markdown",
      "metadata": {
        "id": "-qX7zgZp3YP5"
      },
      "source": [
        "What are the top 10 most populated counties?"
      ]
    },
    {
      "cell_type": "code",
      "metadata": {
        "id": "cbS3zUDD3YP6",
        "colab": {
          "base_uri": "https://localhost:8080/"
        },
        "outputId": "7b9c273a-a9a7-474d-c02b-cd0989f84198"
      },
      "source": [
        "#answer below:\n",
        "census.groupby('County').sum().TotalPop.nlargest(10).compute()\n"
      ],
      "execution_count": 89,
      "outputs": [
        {
          "output_type": "execute_result",
          "data": {
            "text/plain": [
              "County\n",
              "Los Angeles    10038388\n",
              "Cook            5258620\n",
              "Orange          5025603\n",
              "Harris          4389138\n",
              "Maricopa        4018143\n",
              "Montgomery      3635047\n",
              "Jefferson       3623682\n",
              "San Diego       3223096\n",
              "Clark           2852761\n",
              "Kings           2746257\n",
              "Name: TotalPop, dtype: int64"
            ]
          },
          "metadata": {
            "tags": []
          },
          "execution_count": 89
        }
      ]
    },
    {
      "cell_type": "markdown",
      "metadata": {
        "id": "a9InFOA33YP7"
      },
      "source": [
        "What is the current number of partitions? "
      ]
    },
    {
      "cell_type": "code",
      "metadata": {
        "id": "QgyS7E-m3YP8",
        "colab": {
          "base_uri": "https://localhost:8080/"
        },
        "outputId": "83a29bcf-6f4e-4389-f35a-05b3999bf193"
      },
      "source": [
        "#Answer below:\n",
        "\n",
        "census.npartitions"
      ],
      "execution_count": 90,
      "outputs": [
        {
          "output_type": "execute_result",
          "data": {
            "text/plain": [
              "1"
            ]
          },
          "metadata": {
            "tags": []
          },
          "execution_count": 90
        }
      ]
    },
    {
      "cell_type": "code",
      "metadata": {
        "id": "8UQAUnDc3YP9"
      },
      "source": [
        ""
      ],
      "execution_count": null,
      "outputs": []
    }
  ]
}