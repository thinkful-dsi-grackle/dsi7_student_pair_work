{
  "nbformat": 4,
  "nbformat_minor": 0,
  "metadata": {
    "colab": {
      "name": "Spark_Machine_Learning.ipynb",
      "provenance": [],
      "collapsed_sections": []
    },
    "kernelspec": {
      "name": "python3",
      "display_name": "Python 3"
    }
  },
  "cells": [
    {
      "cell_type": "markdown",
      "metadata": {
        "id": "Ry4VDk_llCLY"
      },
      "source": [
        "## Day 83 Lecture 2 Assignment\n",
        "\n",
        "In this assignment, we will learn about Spark and MLLib.\n",
        "\n",
        "\n"
      ]
    },
    {
      "cell_type": "markdown",
      "metadata": {
        "id": "dNByDud4iU40"
      },
      "source": [
        "Update the Google Compute Engine."
      ]
    },
    {
      "cell_type": "code",
      "metadata": {
        "id": "NIxqnOXGS1OX",
        "colab": {
          "base_uri": "https://localhost:8080/"
        },
        "outputId": "66b697a0-2ef6-448d-81bc-e3a754f365e6"
      },
      "source": [
        "! apt-get update"
      ],
      "execution_count": 1,
      "outputs": [
        {
          "output_type": "stream",
          "text": [
            "\r0% [Working]\r            \rHit:1 https://cloud.r-project.org/bin/linux/ubuntu bionic-cran40/ InRelease\n",
            "\r0% [Connecting to archive.ubuntu.com] [Connecting to security.ubuntu.com (91.18\r0% [1 InRelease gpgv 3,626 B] [Connecting to archive.ubuntu.com] [Connecting to\r                                                                               \rIgn:2 https://developer.download.nvidia.com/compute/cuda/repos/ubuntu1804/x86_64  InRelease\n",
            "\r0% [1 InRelease gpgv 3,626 B] [Connecting to archive.ubuntu.com] [Connecting to\r                                                                               \rIgn:3 https://developer.download.nvidia.com/compute/machine-learning/repos/ubuntu1804/x86_64  InRelease\n",
            "\r0% [1 InRelease gpgv 3,626 B] [Connecting to archive.ubuntu.com (91.189.88.142)\r                                                                               \rHit:4 https://developer.download.nvidia.com/compute/cuda/repos/ubuntu1804/x86_64  Release\n",
            "\r0% [1 InRelease gpgv 3,626 B] [Connecting to archive.ubuntu.com (91.189.88.142)\r                                                                               \rHit:5 https://developer.download.nvidia.com/compute/machine-learning/repos/ubuntu1804/x86_64  Release\n",
            "\r0% [1 InRelease gpgv 3,626 B] [Connecting to archive.ubuntu.com (91.189.88.142)\r                                                                               \rHit:6 http://ppa.launchpad.net/c2d4u.team/c2d4u4.0+/ubuntu bionic InRelease\n",
            "Get:7 http://security.ubuntu.com/ubuntu bionic-security InRelease [88.7 kB]\n",
            "Hit:8 http://archive.ubuntu.com/ubuntu bionic InRelease\n",
            "Get:9 http://archive.ubuntu.com/ubuntu bionic-updates InRelease [88.7 kB]\n",
            "Hit:10 http://ppa.launchpad.net/cran/libgit2/ubuntu bionic InRelease\n",
            "Hit:12 http://ppa.launchpad.net/graphics-drivers/ppa/ubuntu bionic InRelease\n",
            "Get:14 http://archive.ubuntu.com/ubuntu bionic-backports InRelease [74.6 kB]\n",
            "Fetched 252 kB in 2s (109 kB/s)\n",
            "Reading package lists... Done\n"
          ],
          "name": "stdout"
        }
      ]
    },
    {
      "cell_type": "markdown",
      "metadata": {
        "id": "4XJYeAHeihaf"
      },
      "source": [
        "Run the cells below to start a spark session."
      ]
    },
    {
      "cell_type": "code",
      "metadata": {
        "id": "wen6A2I2RYVV"
      },
      "source": [
        "!apt-get install openjdk-8-jdk-headless -qq > /dev/null\n",
        "!wget -q https://archive.apache.org/dist/spark/spark-2.4.6/spark-2.4.6-bin-hadoop2.7.tgz\n",
        "!tar xf spark-2.4.6-bin-hadoop2.7.tgz"
      ],
      "execution_count": 2,
      "outputs": []
    },
    {
      "cell_type": "markdown",
      "metadata": {
        "id": "zm3pHHHxNmkW"
      },
      "source": [
        "Set up the environmental variables."
      ]
    },
    {
      "cell_type": "code",
      "metadata": {
        "id": "VW40H37fIb0t"
      },
      "source": [
        "import os\n",
        "os.environ[\"JAVA_HOME\"] = \"/usr/lib/jvm/java-8-openjdk-amd64\"\n",
        "os.environ[\"SPARK_HOME\"] = \"/content/spark-2.4.6-bin-hadoop2.7\""
      ],
      "execution_count": 3,
      "outputs": []
    },
    {
      "cell_type": "markdown",
      "metadata": {
        "id": "1vdAA2aoNqhz"
      },
      "source": [
        "Install Pyspark. ***Note: The version must match the version of Spark that you have installed earlier***."
      ]
    },
    {
      "cell_type": "code",
      "metadata": {
        "id": "274gUgKyIjnC",
        "colab": {
          "base_uri": "https://localhost:8080/"
        },
        "outputId": "872b007a-5ade-460e-90e6-96dc44f53c79"
      },
      "source": [
        "!pip install -q findspark\n",
        "!pip install pyspark==2.4.6"
      ],
      "execution_count": 4,
      "outputs": [
        {
          "output_type": "stream",
          "text": [
            "Requirement already satisfied: pyspark==2.4.6 in /usr/local/lib/python3.6/dist-packages (2.4.6)\n",
            "Requirement already satisfied: py4j==0.10.7 in /usr/local/lib/python3.6/dist-packages (from pyspark==2.4.6) (0.10.7)\n"
          ],
          "name": "stdout"
        }
      ]
    },
    {
      "cell_type": "markdown",
      "metadata": {
        "id": "AtsLvt2JlI7X"
      },
      "source": [
        "Download and save the video games sales CSV file to your Colab Data folder on Google Drive. \n",
        "\n",
        "The file can be downloaded from link [here](https://tf-assets-prod.s3.amazonaws.com/tf-curric/data-science/Data%20Sets%20Big%20Data/Video_Games_Sales_as_at_22_Dec_2016.csv), download it and save it to your Google Colab Data folder on gdrive.\n"
      ]
    },
    {
      "cell_type": "markdown",
      "metadata": {
        "id": "M1TXjLAWN3Wd"
      },
      "source": [
        "Mount your Google drive for access in Google Colab Notebooks."
      ]
    },
    {
      "cell_type": "code",
      "metadata": {
        "id": "uFXDtsaOIsLI",
        "colab": {
          "base_uri": "https://localhost:8080/"
        },
        "outputId": "a79fae24-89bf-4db8-d79a-a6242d18d423"
      },
      "source": [
        "from google.colab import drive\n",
        "drive.mount('/content/drive')"
      ],
      "execution_count": 5,
      "outputs": [
        {
          "output_type": "stream",
          "text": [
            "Drive already mounted at /content/drive; to attempt to forcibly remount, call drive.mount(\"/content/drive\", force_remount=True).\n"
          ],
          "name": "stdout"
        }
      ]
    },
    {
      "cell_type": "markdown",
      "metadata": {
        "id": "aIuuMcVvPH9l"
      },
      "source": [
        "Change your directory to the Colab Data folder where you saved the CSV file."
      ]
    },
    {
      "cell_type": "code",
      "metadata": {
        "id": "X8_ke5oAkBU6"
      },
      "source": [
        "os.chdir('/content/drive/MyDrive/Data/Big Data/Spark/')"
      ],
      "execution_count": 6,
      "outputs": []
    },
    {
      "cell_type": "markdown",
      "metadata": {
        "id": "hcU6yqpgO_of"
      },
      "source": [
        "Set your local session."
      ]
    },
    {
      "cell_type": "code",
      "metadata": {
        "id": "BRiTkZyDebpj"
      },
      "source": [
        "APP_NAME = \"Day83\"\n",
        "SPARK_URL = \"local[*]\""
      ],
      "execution_count": 7,
      "outputs": []
    },
    {
      "cell_type": "markdown",
      "metadata": {
        "id": "Lkb7U6V5ioAP"
      },
      "source": [
        "Run the cells below to start a spark session."
      ]
    },
    {
      "cell_type": "code",
      "metadata": {
        "id": "flNZrdlNDuas"
      },
      "source": [
        "from pyspark.sql import SparkSession\n",
        "spark = SparkSession.builder.appName(APP_NAME).getOrCreate()"
      ],
      "execution_count": 8,
      "outputs": []
    },
    {
      "cell_type": "markdown",
      "metadata": {
        "id": "Ux-rFpwBimqD"
      },
      "source": [
        "List all the files in your directory."
      ]
    },
    {
      "cell_type": "code",
      "metadata": {
        "id": "HEln8x7hx7H-",
        "colab": {
          "base_uri": "https://localhost:8080/",
          "height": 35
        },
        "outputId": "1583d00d-d045-4926-f259-fc8b5e30d5bf"
      },
      "source": [
        "# Answer below:\n",
        "os.getcwd()\n"
      ],
      "execution_count": 9,
      "outputs": [
        {
          "output_type": "execute_result",
          "data": {
            "application/vnd.google.colaboratory.intrinsic+json": {
              "type": "string"
            },
            "text/plain": [
              "'/content/drive/MyDrive/Data/Big Data/Spark'"
            ]
          },
          "metadata": {
            "tags": []
          },
          "execution_count": 9
        }
      ]
    },
    {
      "cell_type": "markdown",
      "metadata": {
        "id": "yo2CIL4XPRzn"
      },
      "source": [
        "Load the CSV file as a Spark dataframe."
      ]
    },
    {
      "cell_type": "code",
      "metadata": {
        "id": "wvrsUPFKUgWJ"
      },
      "source": [
        "video = spark.read.format(\"csv\").option(\"header\", \"true\").option(\"inferSchema\", \"true\").load(\"Video_Games_Sales_as_at_22_Dec_2016.csv\")"
      ],
      "execution_count": 10,
      "outputs": []
    },
    {
      "cell_type": "markdown",
      "metadata": {
        "id": "j1OiHvakqnM1"
      },
      "source": [
        "Review the data by applying the show command."
      ]
    },
    {
      "cell_type": "code",
      "metadata": {
        "id": "0yzV32sgqidJ",
        "colab": {
          "base_uri": "https://localhost:8080/"
        },
        "outputId": "1fef1ecb-8eb6-49c0-b06a-6bb7dec858dc"
      },
      "source": [
        "# Answer below:\n",
        "video.show()"
      ],
      "execution_count": 11,
      "outputs": [
        {
          "output_type": "stream",
          "text": [
            "+--------------------+--------+---------------+------------+--------------------+--------+--------+--------+-----------+------------+------------+------------+----------+----------+-------------------+------+\n",
            "|                Name|Platform|Year_of_Release|       Genre|           Publisher|NA_Sales|EU_Sales|JP_Sales|Other_Sales|Global_Sales|Critic_Score|Critic_Count|User_Score|User_Count|          Developer|Rating|\n",
            "+--------------------+--------+---------------+------------+--------------------+--------+--------+--------+-----------+------------+------------+------------+----------+----------+-------------------+------+\n",
            "|          Wii Sports|     Wii|           2006|      Sports|            Nintendo|   41.36|   28.96|    3.77|       8.45|       82.53|          76|          51|         8|       322|           Nintendo|     E|\n",
            "|   Super Mario Bros.|     NES|           1985|    Platform|            Nintendo|   29.08|    3.58|    6.81|       0.77|       40.24|        null|        null|      null|      null|               null|  null|\n",
            "|      Mario Kart Wii|     Wii|           2008|      Racing|            Nintendo|   15.68|   12.76|    3.79|       3.29|       35.52|          82|          73|       8.3|       709|           Nintendo|     E|\n",
            "|   Wii Sports Resort|     Wii|           2009|      Sports|            Nintendo|   15.61|   10.93|    3.28|       2.95|       32.77|          80|          73|         8|       192|           Nintendo|     E|\n",
            "|Pokemon Red/Pokem...|      GB|           1996|Role-Playing|            Nintendo|   11.27|    8.89|   10.22|        1.0|       31.37|        null|        null|      null|      null|               null|  null|\n",
            "|              Tetris|      GB|           1989|      Puzzle|            Nintendo|    23.2|    2.26|    4.22|       0.58|       30.26|        null|        null|      null|      null|               null|  null|\n",
            "|New Super Mario B...|      DS|           2006|    Platform|            Nintendo|   11.28|    9.14|     6.5|       2.88|        29.8|          89|          65|       8.5|       431|           Nintendo|     E|\n",
            "|            Wii Play|     Wii|           2006|        Misc|            Nintendo|   13.96|    9.18|    2.93|       2.84|       28.92|          58|          41|       6.6|       129|           Nintendo|     E|\n",
            "|New Super Mario B...|     Wii|           2009|    Platform|            Nintendo|   14.44|    6.94|     4.7|       2.24|       28.32|          87|          80|       8.4|       594|           Nintendo|     E|\n",
            "|           Duck Hunt|     NES|           1984|     Shooter|            Nintendo|   26.93|    0.63|    0.28|       0.47|       28.31|        null|        null|      null|      null|               null|  null|\n",
            "|          Nintendogs|      DS|           2005|  Simulation|            Nintendo|    9.05|   10.95|    1.93|       2.74|       24.67|        null|        null|      null|      null|               null|  null|\n",
            "|       Mario Kart DS|      DS|           2005|      Racing|            Nintendo|    9.71|    7.47|    4.13|        1.9|       23.21|          91|          64|       8.6|       464|           Nintendo|     E|\n",
            "|Pokemon Gold/Poke...|      GB|           1999|Role-Playing|            Nintendo|     9.0|    6.18|     7.2|       0.71|        23.1|        null|        null|      null|      null|               null|  null|\n",
            "|             Wii Fit|     Wii|           2007|      Sports|            Nintendo|    8.92|    8.03|     3.6|       2.15|        22.7|          80|          63|       7.7|       146|           Nintendo|     E|\n",
            "|  Kinect Adventures!|    X360|           2010|        Misc|Microsoft Game St...|    15.0|    4.89|    0.24|       1.69|       21.81|          61|          45|       6.3|       106|Good Science Studio|     E|\n",
            "|        Wii Fit Plus|     Wii|           2009|      Sports|            Nintendo|    9.01|    8.49|    2.53|       1.77|       21.79|          80|          33|       7.4|        52|           Nintendo|     E|\n",
            "|  Grand Theft Auto V|     PS3|           2013|      Action|Take-Two Interactive|    7.02|    9.09|    0.98|       3.96|       21.04|          97|          50|       8.2|      3994|     Rockstar North|     M|\n",
            "|Grand Theft Auto:...|     PS2|           2004|      Action|Take-Two Interactive|    9.43|     0.4|    0.41|      10.57|       20.81|          95|          80|         9|      1588|     Rockstar North|     M|\n",
            "|   Super Mario World|    SNES|           1990|    Platform|            Nintendo|   12.78|    3.75|    3.54|       0.55|       20.61|        null|        null|      null|      null|               null|  null|\n",
            "|Brain Age: Train ...|      DS|           2005|        Misc|            Nintendo|    4.74|     9.2|    4.16|       2.04|       20.15|          77|          58|       7.9|        50|           Nintendo|     E|\n",
            "+--------------------+--------+---------------+------------+--------------------+--------+--------+--------+-----------+------------+------------+------------+----------+----------+-------------------+------+\n",
            "only showing top 20 rows\n",
            "\n"
          ],
          "name": "stdout"
        }
      ]
    },
    {
      "cell_type": "markdown",
      "metadata": {
        "id": "d9_58zZnQ4m8"
      },
      "source": [
        "We will predict global sales using a number of variables in this dataset. We will start by removing all missing data (though we know that this will make the dataset significantly smaller). Drop all the missing values using dropna."
      ]
    },
    {
      "cell_type": "code",
      "metadata": {
        "id": "dnKVtUnoKtS9"
      },
      "source": [
        "# function to check for nulls\n",
        "import pyspark.sql.functions as fn\n",
        "\n",
        "def count_missings(spark_df,sort=True):\n",
        "    \"\"\"\n",
        "    Counts number of nulls and nans in each column\n",
        "    \"\"\"\n",
        "    df = spark_df.select([fn.count(fn.when(fn.isnan(c) | fn.isnull(c), c)).alias(c) for (c,c_type) in spark_df.dtypes if c_type not in ()]).toPandas()\n",
        "\n",
        "    if len(df) == 0:\n",
        "        print(\"There are no any missing values!\")\n",
        "        return None\n",
        "\n",
        "    if sort:\n",
        "        return df.rename(index={0: 'count'}).T.sort_values(\"count\",ascending=False)\n",
        "\n",
        "    return df\n",
        "\n"
      ],
      "execution_count": 12,
      "outputs": []
    },
    {
      "cell_type": "code",
      "metadata": {
        "colab": {
          "base_uri": "https://localhost:8080/",
          "height": 545
        },
        "id": "xPFRaylYKQr5",
        "outputId": "d2d19333-e545-4641-bf55-68ad8af2a613"
      },
      "source": [
        "count_missings(video)"
      ],
      "execution_count": 13,
      "outputs": [
        {
          "output_type": "execute_result",
          "data": {
            "text/html": [
              "<div>\n",
              "<style scoped>\n",
              "    .dataframe tbody tr th:only-of-type {\n",
              "        vertical-align: middle;\n",
              "    }\n",
              "\n",
              "    .dataframe tbody tr th {\n",
              "        vertical-align: top;\n",
              "    }\n",
              "\n",
              "    .dataframe thead th {\n",
              "        text-align: right;\n",
              "    }\n",
              "</style>\n",
              "<table border=\"1\" class=\"dataframe\">\n",
              "  <thead>\n",
              "    <tr style=\"text-align: right;\">\n",
              "      <th></th>\n",
              "      <th>count</th>\n",
              "    </tr>\n",
              "  </thead>\n",
              "  <tbody>\n",
              "    <tr>\n",
              "      <th>User_Count</th>\n",
              "      <td>9129</td>\n",
              "    </tr>\n",
              "    <tr>\n",
              "      <th>Critic_Score</th>\n",
              "      <td>8582</td>\n",
              "    </tr>\n",
              "    <tr>\n",
              "      <th>Critic_Count</th>\n",
              "      <td>8582</td>\n",
              "    </tr>\n",
              "    <tr>\n",
              "      <th>Rating</th>\n",
              "      <td>6769</td>\n",
              "    </tr>\n",
              "    <tr>\n",
              "      <th>User_Score</th>\n",
              "      <td>6704</td>\n",
              "    </tr>\n",
              "    <tr>\n",
              "      <th>Developer</th>\n",
              "      <td>6623</td>\n",
              "    </tr>\n",
              "    <tr>\n",
              "      <th>Name</th>\n",
              "      <td>2</td>\n",
              "    </tr>\n",
              "    <tr>\n",
              "      <th>Genre</th>\n",
              "      <td>2</td>\n",
              "    </tr>\n",
              "    <tr>\n",
              "      <th>Platform</th>\n",
              "      <td>0</td>\n",
              "    </tr>\n",
              "    <tr>\n",
              "      <th>Year_of_Release</th>\n",
              "      <td>0</td>\n",
              "    </tr>\n",
              "    <tr>\n",
              "      <th>Publisher</th>\n",
              "      <td>0</td>\n",
              "    </tr>\n",
              "    <tr>\n",
              "      <th>NA_Sales</th>\n",
              "      <td>0</td>\n",
              "    </tr>\n",
              "    <tr>\n",
              "      <th>EU_Sales</th>\n",
              "      <td>0</td>\n",
              "    </tr>\n",
              "    <tr>\n",
              "      <th>JP_Sales</th>\n",
              "      <td>0</td>\n",
              "    </tr>\n",
              "    <tr>\n",
              "      <th>Other_Sales</th>\n",
              "      <td>0</td>\n",
              "    </tr>\n",
              "    <tr>\n",
              "      <th>Global_Sales</th>\n",
              "      <td>0</td>\n",
              "    </tr>\n",
              "  </tbody>\n",
              "</table>\n",
              "</div>"
            ],
            "text/plain": [
              "                 count\n",
              "User_Count        9129\n",
              "Critic_Score      8582\n",
              "Critic_Count      8582\n",
              "Rating            6769\n",
              "User_Score        6704\n",
              "Developer         6623\n",
              "Name                 2\n",
              "Genre                2\n",
              "Platform             0\n",
              "Year_of_Release      0\n",
              "Publisher            0\n",
              "NA_Sales             0\n",
              "EU_Sales             0\n",
              "JP_Sales             0\n",
              "Other_Sales          0\n",
              "Global_Sales         0"
            ]
          },
          "metadata": {
            "tags": []
          },
          "execution_count": 13
        }
      ]
    },
    {
      "cell_type": "code",
      "metadata": {
        "colab": {
          "base_uri": "https://localhost:8080/",
          "height": 545
        },
        "id": "xWbzQwdHKNha",
        "outputId": "4d222f45-ab36-4bdb-86dc-a16f66307c48"
      },
      "source": [
        "# drop nulls\n",
        "video2 = video.dropna()\n",
        "\n",
        "# make sure nulls were dropped\n",
        "count_missings(video2)"
      ],
      "execution_count": 14,
      "outputs": [
        {
          "output_type": "execute_result",
          "data": {
            "text/html": [
              "<div>\n",
              "<style scoped>\n",
              "    .dataframe tbody tr th:only-of-type {\n",
              "        vertical-align: middle;\n",
              "    }\n",
              "\n",
              "    .dataframe tbody tr th {\n",
              "        vertical-align: top;\n",
              "    }\n",
              "\n",
              "    .dataframe thead th {\n",
              "        text-align: right;\n",
              "    }\n",
              "</style>\n",
              "<table border=\"1\" class=\"dataframe\">\n",
              "  <thead>\n",
              "    <tr style=\"text-align: right;\">\n",
              "      <th></th>\n",
              "      <th>count</th>\n",
              "    </tr>\n",
              "  </thead>\n",
              "  <tbody>\n",
              "    <tr>\n",
              "      <th>Name</th>\n",
              "      <td>0</td>\n",
              "    </tr>\n",
              "    <tr>\n",
              "      <th>Platform</th>\n",
              "      <td>0</td>\n",
              "    </tr>\n",
              "    <tr>\n",
              "      <th>Year_of_Release</th>\n",
              "      <td>0</td>\n",
              "    </tr>\n",
              "    <tr>\n",
              "      <th>Genre</th>\n",
              "      <td>0</td>\n",
              "    </tr>\n",
              "    <tr>\n",
              "      <th>Publisher</th>\n",
              "      <td>0</td>\n",
              "    </tr>\n",
              "    <tr>\n",
              "      <th>NA_Sales</th>\n",
              "      <td>0</td>\n",
              "    </tr>\n",
              "    <tr>\n",
              "      <th>EU_Sales</th>\n",
              "      <td>0</td>\n",
              "    </tr>\n",
              "    <tr>\n",
              "      <th>JP_Sales</th>\n",
              "      <td>0</td>\n",
              "    </tr>\n",
              "    <tr>\n",
              "      <th>Other_Sales</th>\n",
              "      <td>0</td>\n",
              "    </tr>\n",
              "    <tr>\n",
              "      <th>Global_Sales</th>\n",
              "      <td>0</td>\n",
              "    </tr>\n",
              "    <tr>\n",
              "      <th>Critic_Score</th>\n",
              "      <td>0</td>\n",
              "    </tr>\n",
              "    <tr>\n",
              "      <th>Critic_Count</th>\n",
              "      <td>0</td>\n",
              "    </tr>\n",
              "    <tr>\n",
              "      <th>User_Score</th>\n",
              "      <td>0</td>\n",
              "    </tr>\n",
              "    <tr>\n",
              "      <th>User_Count</th>\n",
              "      <td>0</td>\n",
              "    </tr>\n",
              "    <tr>\n",
              "      <th>Developer</th>\n",
              "      <td>0</td>\n",
              "    </tr>\n",
              "    <tr>\n",
              "      <th>Rating</th>\n",
              "      <td>0</td>\n",
              "    </tr>\n",
              "  </tbody>\n",
              "</table>\n",
              "</div>"
            ],
            "text/plain": [
              "                 count\n",
              "Name                 0\n",
              "Platform             0\n",
              "Year_of_Release      0\n",
              "Genre                0\n",
              "Publisher            0\n",
              "NA_Sales             0\n",
              "EU_Sales             0\n",
              "JP_Sales             0\n",
              "Other_Sales          0\n",
              "Global_Sales         0\n",
              "Critic_Score         0\n",
              "Critic_Count         0\n",
              "User_Score           0\n",
              "User_Count           0\n",
              "Developer            0\n",
              "Rating               0"
            ]
          },
          "metadata": {
            "tags": []
          },
          "execution_count": 14
        }
      ]
    },
    {
      "cell_type": "markdown",
      "metadata": {
        "id": "_CgzqoLDw5aU"
      },
      "source": [
        "Get the unique values for Genre.\n"
      ]
    },
    {
      "cell_type": "code",
      "metadata": {
        "id": "1bhnicFVw8uN",
        "colab": {
          "base_uri": "https://localhost:8080/"
        },
        "outputId": "0e0f3c9b-edbf-4762-a2ff-a39dea57dce5"
      },
      "source": [
        "distinct_g = [x.Genre for x in video2.select('Genre').distinct().collect()]\n",
        "len(distinct_g)"
      ],
      "execution_count": 15,
      "outputs": [
        {
          "output_type": "execute_result",
          "data": {
            "text/plain": [
              "12"
            ]
          },
          "metadata": {
            "tags": []
          },
          "execution_count": 15
        }
      ]
    },
    {
      "cell_type": "markdown",
      "metadata": {
        "id": "X06gNwR0V2Q3"
      },
      "source": [
        "Next, we will create dummy variables for the genre. Create these variables using the `OneHotEncoder` provided in spark."
      ]
    },
    {
      "cell_type": "code",
      "metadata": {
        "id": "CpRz8gMHV1jS"
      },
      "source": [
        "from pyspark.ml.feature import OneHotEncoder, StringIndexer\n",
        "\n",
        "stringIndexer = StringIndexer(inputCol=\"Genre\", outputCol=\"GenreIndex\")\n",
        "model = stringIndexer.fit(video2)\n",
        "indexed = model.transform(video2)\n",
        "encoder = OneHotEncoder( inputCol=\"GenreIndex\", outputCol=\"GenreVec\")\n",
        "encoded = encoder.transform(indexed)\n"
      ],
      "execution_count": 16,
      "outputs": []
    },
    {
      "cell_type": "code",
      "metadata": {
        "id": "4_5HOoEsWt96",
        "colab": {
          "base_uri": "https://localhost:8080/"
        },
        "outputId": "c871ce6e-b3db-4934-fe67-2168fa81b09d"
      },
      "source": [
        "encoded.show()"
      ],
      "execution_count": 17,
      "outputs": [
        {
          "output_type": "stream",
          "text": [
            "+--------------------+--------+---------------+--------+--------------------+--------+--------+--------+-----------+------------+------------+------------+----------+----------+--------------------+------+----------+--------------+\n",
            "|                Name|Platform|Year_of_Release|   Genre|           Publisher|NA_Sales|EU_Sales|JP_Sales|Other_Sales|Global_Sales|Critic_Score|Critic_Count|User_Score|User_Count|           Developer|Rating|GenreIndex|      GenreVec|\n",
            "+--------------------+--------+---------------+--------+--------------------+--------+--------+--------+-----------+------------+------------+------------+----------+----------+--------------------+------+----------+--------------+\n",
            "|          Wii Sports|     Wii|           2006|  Sports|            Nintendo|   41.36|   28.96|    3.77|       8.45|       82.53|          76|          51|         8|       322|            Nintendo|     E|       1.0|(11,[1],[1.0])|\n",
            "|      Mario Kart Wii|     Wii|           2008|  Racing|            Nintendo|   15.68|   12.76|    3.79|       3.29|       35.52|          82|          73|       8.3|       709|            Nintendo|     E|       4.0|(11,[4],[1.0])|\n",
            "|   Wii Sports Resort|     Wii|           2009|  Sports|            Nintendo|   15.61|   10.93|    3.28|       2.95|       32.77|          80|          73|         8|       192|            Nintendo|     E|       1.0|(11,[1],[1.0])|\n",
            "|New Super Mario B...|      DS|           2006|Platform|            Nintendo|   11.28|    9.14|     6.5|       2.88|        29.8|          89|          65|       8.5|       431|            Nintendo|     E|       5.0|(11,[5],[1.0])|\n",
            "|            Wii Play|     Wii|           2006|    Misc|            Nintendo|   13.96|    9.18|    2.93|       2.84|       28.92|          58|          41|       6.6|       129|            Nintendo|     E|       6.0|(11,[6],[1.0])|\n",
            "|New Super Mario B...|     Wii|           2009|Platform|            Nintendo|   14.44|    6.94|     4.7|       2.24|       28.32|          87|          80|       8.4|       594|            Nintendo|     E|       5.0|(11,[5],[1.0])|\n",
            "|       Mario Kart DS|      DS|           2005|  Racing|            Nintendo|    9.71|    7.47|    4.13|        1.9|       23.21|          91|          64|       8.6|       464|            Nintendo|     E|       4.0|(11,[4],[1.0])|\n",
            "|             Wii Fit|     Wii|           2007|  Sports|            Nintendo|    8.92|    8.03|     3.6|       2.15|        22.7|          80|          63|       7.7|       146|            Nintendo|     E|       1.0|(11,[1],[1.0])|\n",
            "|  Kinect Adventures!|    X360|           2010|    Misc|Microsoft Game St...|    15.0|    4.89|    0.24|       1.69|       21.81|          61|          45|       6.3|       106| Good Science Studio|     E|       6.0|(11,[6],[1.0])|\n",
            "|        Wii Fit Plus|     Wii|           2009|  Sports|            Nintendo|    9.01|    8.49|    2.53|       1.77|       21.79|          80|          33|       7.4|        52|            Nintendo|     E|       1.0|(11,[1],[1.0])|\n",
            "|  Grand Theft Auto V|     PS3|           2013|  Action|Take-Two Interactive|    7.02|    9.09|    0.98|       3.96|       21.04|          97|          50|       8.2|      3994|      Rockstar North|     M|       0.0|(11,[0],[1.0])|\n",
            "|Grand Theft Auto:...|     PS2|           2004|  Action|Take-Two Interactive|    9.43|     0.4|    0.41|      10.57|       20.81|          95|          80|         9|      1588|      Rockstar North|     M|       0.0|(11,[0],[1.0])|\n",
            "|Brain Age: Train ...|      DS|           2005|    Misc|            Nintendo|    4.74|     9.2|    4.16|       2.04|       20.15|          77|          58|       7.9|        50|            Nintendo|     E|       6.0|(11,[6],[1.0])|\n",
            "|  Grand Theft Auto V|    X360|           2013|  Action|Take-Two Interactive|    9.66|    5.14|    0.06|       1.41|       16.27|          97|          58|       8.1|      3711|      Rockstar North|     M|       0.0|(11,[0],[1.0])|\n",
            "|Grand Theft Auto:...|     PS2|           2002|  Action|Take-Two Interactive|    8.41|    5.49|    0.47|       1.78|       16.15|          95|          62|       8.7|       730|      Rockstar North|     M|       0.0|(11,[0],[1.0])|\n",
            "|Brain Age 2: More...|      DS|           2005|  Puzzle|            Nintendo|    3.43|    5.35|    5.32|       1.18|       15.29|          77|          37|       7.1|        19|            Nintendo|     E|      11.0|    (11,[],[])|\n",
            "|Gran Turismo 3: A...|     PS2|           2001|  Racing|Sony Computer Ent...|    6.85|    5.09|    1.87|       1.16|       14.98|          95|          54|       8.4|       314|   Polyphony Digital|     E|       4.0|(11,[4],[1.0])|\n",
            "|Call of Duty: Mod...|    X360|           2011| Shooter|          Activision|    9.04|    4.24|    0.13|       1.32|       14.73|          88|          81|       3.4|      8713|Infinity Ward, Sl...|     M|       2.0|(11,[2],[1.0])|\n",
            "|Call of Duty: Bla...|    X360|           2010| Shooter|          Activision|     9.7|    3.68|    0.11|       1.13|       14.61|          87|          89|       6.3|      1454|            Treyarch|     M|       2.0|(11,[2],[1.0])|\n",
            "|Call of Duty: Bla...|     PS3|           2012| Shooter|          Activision|    4.99|    5.73|    0.65|       2.42|       13.79|          83|          21|       5.3|       922|            Treyarch|     M|       2.0|(11,[2],[1.0])|\n",
            "+--------------------+--------+---------------+--------+--------------------+--------+--------+--------+-----------+------------+------------+------------+----------+----------+--------------------+------+----------+--------------+\n",
            "only showing top 20 rows\n",
            "\n"
          ],
          "name": "stdout"
        }
      ]
    },
    {
      "cell_type": "markdown",
      "metadata": {
        "id": "MiQXmq_fXntw"
      },
      "source": [
        "Convert the critic score and the user score to a number between 0 and 1 by dividing by 100. "
      ]
    },
    {
      "cell_type": "code",
      "metadata": {
        "colab": {
          "base_uri": "https://localhost:8080/"
        },
        "id": "qjvpoaaJNciU",
        "outputId": "af3f9dec-80b4-4d76-c24c-d1c609a4c30c"
      },
      "source": [
        "columns = encoded.columns\n",
        "columns"
      ],
      "execution_count": 18,
      "outputs": [
        {
          "output_type": "execute_result",
          "data": {
            "text/plain": [
              "['Name',\n",
              " 'Platform',\n",
              " 'Year_of_Release',\n",
              " 'Genre',\n",
              " 'Publisher',\n",
              " 'NA_Sales',\n",
              " 'EU_Sales',\n",
              " 'JP_Sales',\n",
              " 'Other_Sales',\n",
              " 'Global_Sales',\n",
              " 'Critic_Score',\n",
              " 'Critic_Count',\n",
              " 'User_Score',\n",
              " 'User_Count',\n",
              " 'Developer',\n",
              " 'Rating',\n",
              " 'GenreIndex',\n",
              " 'GenreVec']"
            ]
          },
          "metadata": {
            "tags": []
          },
          "execution_count": 18
        }
      ]
    },
    {
      "cell_type": "code",
      "metadata": {
        "id": "-VgfllC7XPKP",
        "colab": {
          "base_uri": "https://localhost:8080/"
        },
        "outputId": "f76d1d9b-f44c-44de-e7c5-cb931bbfcc22"
      },
      "source": [
        "# Answer below:\n",
        "\n",
        "from pyspark.sql.functions import lit, col\n",
        "\n",
        "# scale critic score column\n",
        "critic_scaled = encoded.withColumn(\"Critic_Score_Scaled\", encoded['Critic_Score']/lit(100))\n",
        "# scale user score column\n",
        "video_percent = critic_scaled.withColumn(\"User_Score_Scaled\", encoded['User_Score']/lit(100))\n",
        "video_percent.show()"
      ],
      "execution_count": 19,
      "outputs": [
        {
          "output_type": "stream",
          "text": [
            "+--------------------+--------+---------------+--------+--------------------+--------+--------+--------+-----------+------------+------------+------------+----------+----------+--------------------+------+----------+--------------+-------------------+-------------------+\n",
            "|                Name|Platform|Year_of_Release|   Genre|           Publisher|NA_Sales|EU_Sales|JP_Sales|Other_Sales|Global_Sales|Critic_Score|Critic_Count|User_Score|User_Count|           Developer|Rating|GenreIndex|      GenreVec|Critic_Score_Scaled|  User_Score_Scaled|\n",
            "+--------------------+--------+---------------+--------+--------------------+--------+--------+--------+-----------+------------+------------+------------+----------+----------+--------------------+------+----------+--------------+-------------------+-------------------+\n",
            "|          Wii Sports|     Wii|           2006|  Sports|            Nintendo|   41.36|   28.96|    3.77|       8.45|       82.53|          76|          51|         8|       322|            Nintendo|     E|       1.0|(11,[1],[1.0])|               0.76|               0.08|\n",
            "|      Mario Kart Wii|     Wii|           2008|  Racing|            Nintendo|   15.68|   12.76|    3.79|       3.29|       35.52|          82|          73|       8.3|       709|            Nintendo|     E|       4.0|(11,[4],[1.0])|               0.82|              0.083|\n",
            "|   Wii Sports Resort|     Wii|           2009|  Sports|            Nintendo|   15.61|   10.93|    3.28|       2.95|       32.77|          80|          73|         8|       192|            Nintendo|     E|       1.0|(11,[1],[1.0])|                0.8|               0.08|\n",
            "|New Super Mario B...|      DS|           2006|Platform|            Nintendo|   11.28|    9.14|     6.5|       2.88|        29.8|          89|          65|       8.5|       431|            Nintendo|     E|       5.0|(11,[5],[1.0])|               0.89|              0.085|\n",
            "|            Wii Play|     Wii|           2006|    Misc|            Nintendo|   13.96|    9.18|    2.93|       2.84|       28.92|          58|          41|       6.6|       129|            Nintendo|     E|       6.0|(11,[6],[1.0])|               0.58|              0.066|\n",
            "|New Super Mario B...|     Wii|           2009|Platform|            Nintendo|   14.44|    6.94|     4.7|       2.24|       28.32|          87|          80|       8.4|       594|            Nintendo|     E|       5.0|(11,[5],[1.0])|               0.87|              0.084|\n",
            "|       Mario Kart DS|      DS|           2005|  Racing|            Nintendo|    9.71|    7.47|    4.13|        1.9|       23.21|          91|          64|       8.6|       464|            Nintendo|     E|       4.0|(11,[4],[1.0])|               0.91|              0.086|\n",
            "|             Wii Fit|     Wii|           2007|  Sports|            Nintendo|    8.92|    8.03|     3.6|       2.15|        22.7|          80|          63|       7.7|       146|            Nintendo|     E|       1.0|(11,[1],[1.0])|                0.8|              0.077|\n",
            "|  Kinect Adventures!|    X360|           2010|    Misc|Microsoft Game St...|    15.0|    4.89|    0.24|       1.69|       21.81|          61|          45|       6.3|       106| Good Science Studio|     E|       6.0|(11,[6],[1.0])|               0.61|              0.063|\n",
            "|        Wii Fit Plus|     Wii|           2009|  Sports|            Nintendo|    9.01|    8.49|    2.53|       1.77|       21.79|          80|          33|       7.4|        52|            Nintendo|     E|       1.0|(11,[1],[1.0])|                0.8|0.07400000000000001|\n",
            "|  Grand Theft Auto V|     PS3|           2013|  Action|Take-Two Interactive|    7.02|    9.09|    0.98|       3.96|       21.04|          97|          50|       8.2|      3994|      Rockstar North|     M|       0.0|(11,[0],[1.0])|               0.97|0.08199999999999999|\n",
            "|Grand Theft Auto:...|     PS2|           2004|  Action|Take-Two Interactive|    9.43|     0.4|    0.41|      10.57|       20.81|          95|          80|         9|      1588|      Rockstar North|     M|       0.0|(11,[0],[1.0])|               0.95|               0.09|\n",
            "|Brain Age: Train ...|      DS|           2005|    Misc|            Nintendo|    4.74|     9.2|    4.16|       2.04|       20.15|          77|          58|       7.9|        50|            Nintendo|     E|       6.0|(11,[6],[1.0])|               0.77|              0.079|\n",
            "|  Grand Theft Auto V|    X360|           2013|  Action|Take-Two Interactive|    9.66|    5.14|    0.06|       1.41|       16.27|          97|          58|       8.1|      3711|      Rockstar North|     M|       0.0|(11,[0],[1.0])|               0.97|              0.081|\n",
            "|Grand Theft Auto:...|     PS2|           2002|  Action|Take-Two Interactive|    8.41|    5.49|    0.47|       1.78|       16.15|          95|          62|       8.7|       730|      Rockstar North|     M|       0.0|(11,[0],[1.0])|               0.95|              0.087|\n",
            "|Brain Age 2: More...|      DS|           2005|  Puzzle|            Nintendo|    3.43|    5.35|    5.32|       1.18|       15.29|          77|          37|       7.1|        19|            Nintendo|     E|      11.0|    (11,[],[])|               0.77|              0.071|\n",
            "|Gran Turismo 3: A...|     PS2|           2001|  Racing|Sony Computer Ent...|    6.85|    5.09|    1.87|       1.16|       14.98|          95|          54|       8.4|       314|   Polyphony Digital|     E|       4.0|(11,[4],[1.0])|               0.95|              0.084|\n",
            "|Call of Duty: Mod...|    X360|           2011| Shooter|          Activision|    9.04|    4.24|    0.13|       1.32|       14.73|          88|          81|       3.4|      8713|Infinity Ward, Sl...|     M|       2.0|(11,[2],[1.0])|               0.88|              0.034|\n",
            "|Call of Duty: Bla...|    X360|           2010| Shooter|          Activision|     9.7|    3.68|    0.11|       1.13|       14.61|          87|          89|       6.3|      1454|            Treyarch|     M|       2.0|(11,[2],[1.0])|               0.87|              0.063|\n",
            "|Call of Duty: Bla...|     PS3|           2012| Shooter|          Activision|    4.99|    5.73|    0.65|       2.42|       13.79|          83|          21|       5.3|       922|            Treyarch|     M|       2.0|(11,[2],[1.0])|               0.83|              0.053|\n",
            "+--------------------+--------+---------------+--------+--------------------+--------+--------+--------+-----------+------------+------------+------------+----------+----------+--------------------+------+----------+--------------+-------------------+-------------------+\n",
            "only showing top 20 rows\n",
            "\n"
          ],
          "name": "stdout"
        }
      ]
    },
    {
      "cell_type": "markdown",
      "metadata": {
        "id": "92XImZFDYXnf"
      },
      "source": [
        "Using the vector assembler, create a vector of features using the scaled user score, the scaled critic score and the one hot encoded vector."
      ]
    },
    {
      "cell_type": "code",
      "metadata": {
        "id": "KpA7hSQsX5hR"
      },
      "source": [
        "from pyspark.ml.linalg import Vectors\n",
        "from pyspark.ml.feature import VectorAssembler\n",
        "\n",
        "# convert columns to one features column\n",
        "assembler = VectorAssembler(inputCols=['GenreVec','Critic_Score_Scaled','User_Score_Scaled'],outputCol='features')"
      ],
      "execution_count": 20,
      "outputs": []
    },
    {
      "cell_type": "code",
      "metadata": {
        "colab": {
          "base_uri": "https://localhost:8080/"
        },
        "id": "5t-SMCvRRMDr",
        "outputId": "cd35371f-d462-4acd-b2ae-4be60eea5167"
      },
      "source": [
        "features = assembler.transform(video_percent)\n",
        "features.show()"
      ],
      "execution_count": 21,
      "outputs": [
        {
          "output_type": "stream",
          "text": [
            "+--------------------+--------+---------------+--------+--------------------+--------+--------+--------+-----------+------------+------------+------------+----------+----------+--------------------+------+----------+--------------+-------------------+-------------------+--------------------+\n",
            "|                Name|Platform|Year_of_Release|   Genre|           Publisher|NA_Sales|EU_Sales|JP_Sales|Other_Sales|Global_Sales|Critic_Score|Critic_Count|User_Score|User_Count|           Developer|Rating|GenreIndex|      GenreVec|Critic_Score_Scaled|  User_Score_Scaled|            features|\n",
            "+--------------------+--------+---------------+--------+--------------------+--------+--------+--------+-----------+------------+------------+------------+----------+----------+--------------------+------+----------+--------------+-------------------+-------------------+--------------------+\n",
            "|          Wii Sports|     Wii|           2006|  Sports|            Nintendo|   41.36|   28.96|    3.77|       8.45|       82.53|          76|          51|         8|       322|            Nintendo|     E|       1.0|(11,[1],[1.0])|               0.76|               0.08|(13,[1,11,12],[1....|\n",
            "|      Mario Kart Wii|     Wii|           2008|  Racing|            Nintendo|   15.68|   12.76|    3.79|       3.29|       35.52|          82|          73|       8.3|       709|            Nintendo|     E|       4.0|(11,[4],[1.0])|               0.82|              0.083|(13,[4,11,12],[1....|\n",
            "|   Wii Sports Resort|     Wii|           2009|  Sports|            Nintendo|   15.61|   10.93|    3.28|       2.95|       32.77|          80|          73|         8|       192|            Nintendo|     E|       1.0|(11,[1],[1.0])|                0.8|               0.08|(13,[1,11,12],[1....|\n",
            "|New Super Mario B...|      DS|           2006|Platform|            Nintendo|   11.28|    9.14|     6.5|       2.88|        29.8|          89|          65|       8.5|       431|            Nintendo|     E|       5.0|(11,[5],[1.0])|               0.89|              0.085|(13,[5,11,12],[1....|\n",
            "|            Wii Play|     Wii|           2006|    Misc|            Nintendo|   13.96|    9.18|    2.93|       2.84|       28.92|          58|          41|       6.6|       129|            Nintendo|     E|       6.0|(11,[6],[1.0])|               0.58|              0.066|(13,[6,11,12],[1....|\n",
            "|New Super Mario B...|     Wii|           2009|Platform|            Nintendo|   14.44|    6.94|     4.7|       2.24|       28.32|          87|          80|       8.4|       594|            Nintendo|     E|       5.0|(11,[5],[1.0])|               0.87|              0.084|(13,[5,11,12],[1....|\n",
            "|       Mario Kart DS|      DS|           2005|  Racing|            Nintendo|    9.71|    7.47|    4.13|        1.9|       23.21|          91|          64|       8.6|       464|            Nintendo|     E|       4.0|(11,[4],[1.0])|               0.91|              0.086|(13,[4,11,12],[1....|\n",
            "|             Wii Fit|     Wii|           2007|  Sports|            Nintendo|    8.92|    8.03|     3.6|       2.15|        22.7|          80|          63|       7.7|       146|            Nintendo|     E|       1.0|(11,[1],[1.0])|                0.8|              0.077|(13,[1,11,12],[1....|\n",
            "|  Kinect Adventures!|    X360|           2010|    Misc|Microsoft Game St...|    15.0|    4.89|    0.24|       1.69|       21.81|          61|          45|       6.3|       106| Good Science Studio|     E|       6.0|(11,[6],[1.0])|               0.61|              0.063|(13,[6,11,12],[1....|\n",
            "|        Wii Fit Plus|     Wii|           2009|  Sports|            Nintendo|    9.01|    8.49|    2.53|       1.77|       21.79|          80|          33|       7.4|        52|            Nintendo|     E|       1.0|(11,[1],[1.0])|                0.8|0.07400000000000001|(13,[1,11,12],[1....|\n",
            "|  Grand Theft Auto V|     PS3|           2013|  Action|Take-Two Interactive|    7.02|    9.09|    0.98|       3.96|       21.04|          97|          50|       8.2|      3994|      Rockstar North|     M|       0.0|(11,[0],[1.0])|               0.97|0.08199999999999999|(13,[0,11,12],[1....|\n",
            "|Grand Theft Auto:...|     PS2|           2004|  Action|Take-Two Interactive|    9.43|     0.4|    0.41|      10.57|       20.81|          95|          80|         9|      1588|      Rockstar North|     M|       0.0|(11,[0],[1.0])|               0.95|               0.09|(13,[0,11,12],[1....|\n",
            "|Brain Age: Train ...|      DS|           2005|    Misc|            Nintendo|    4.74|     9.2|    4.16|       2.04|       20.15|          77|          58|       7.9|        50|            Nintendo|     E|       6.0|(11,[6],[1.0])|               0.77|              0.079|(13,[6,11,12],[1....|\n",
            "|  Grand Theft Auto V|    X360|           2013|  Action|Take-Two Interactive|    9.66|    5.14|    0.06|       1.41|       16.27|          97|          58|       8.1|      3711|      Rockstar North|     M|       0.0|(11,[0],[1.0])|               0.97|              0.081|(13,[0,11,12],[1....|\n",
            "|Grand Theft Auto:...|     PS2|           2002|  Action|Take-Two Interactive|    8.41|    5.49|    0.47|       1.78|       16.15|          95|          62|       8.7|       730|      Rockstar North|     M|       0.0|(11,[0],[1.0])|               0.95|              0.087|(13,[0,11,12],[1....|\n",
            "|Brain Age 2: More...|      DS|           2005|  Puzzle|            Nintendo|    3.43|    5.35|    5.32|       1.18|       15.29|          77|          37|       7.1|        19|            Nintendo|     E|      11.0|    (11,[],[])|               0.77|              0.071|(13,[11,12],[0.77...|\n",
            "|Gran Turismo 3: A...|     PS2|           2001|  Racing|Sony Computer Ent...|    6.85|    5.09|    1.87|       1.16|       14.98|          95|          54|       8.4|       314|   Polyphony Digital|     E|       4.0|(11,[4],[1.0])|               0.95|              0.084|(13,[4,11,12],[1....|\n",
            "|Call of Duty: Mod...|    X360|           2011| Shooter|          Activision|    9.04|    4.24|    0.13|       1.32|       14.73|          88|          81|       3.4|      8713|Infinity Ward, Sl...|     M|       2.0|(11,[2],[1.0])|               0.88|              0.034|(13,[2,11,12],[1....|\n",
            "|Call of Duty: Bla...|    X360|           2010| Shooter|          Activision|     9.7|    3.68|    0.11|       1.13|       14.61|          87|          89|       6.3|      1454|            Treyarch|     M|       2.0|(11,[2],[1.0])|               0.87|              0.063|(13,[2,11,12],[1....|\n",
            "|Call of Duty: Bla...|     PS3|           2012| Shooter|          Activision|    4.99|    5.73|    0.65|       2.42|       13.79|          83|          21|       5.3|       922|            Treyarch|     M|       2.0|(11,[2],[1.0])|               0.83|              0.053|(13,[2,11,12],[1....|\n",
            "+--------------------+--------+---------------+--------+--------------------+--------+--------+--------+-----------+------------+------------+------------+----------+----------+--------------------+------+----------+--------------+-------------------+-------------------+--------------------+\n",
            "only showing top 20 rows\n",
            "\n"
          ],
          "name": "stdout"
        }
      ]
    },
    {
      "cell_type": "code",
      "metadata": {
        "colab": {
          "base_uri": "https://localhost:8080/"
        },
        "id": "2_4_wHQhSrNo",
        "outputId": "aba09973-92d1-45e5-cd24-5929bd5ccdb9"
      },
      "source": [
        "from pyspark.ml.feature import StringIndexer\n",
        "\n",
        "# seperate features and target \n",
        "indexer = StringIndexer(inputCol='Global_Sales', outputCol='label')\n",
        "indexer_model = indexer.fit(features)\n",
        "\n",
        "\n",
        "input = indexer_model.transform(features).select('features', 'label')\n",
        "input.show()"
      ],
      "execution_count": 22,
      "outputs": [
        {
          "output_type": "stream",
          "text": [
            "+--------------------+-----+\n",
            "|            features|label|\n",
            "+--------------------+-----+\n",
            "|(13,[1,11,12],[1....|506.0|\n",
            "|(13,[4,11,12],[1....|350.0|\n",
            "|(13,[1,11,12],[1....|472.0|\n",
            "|(13,[5,11,12],[1....|371.0|\n",
            "|(13,[6,11,12],[1....|388.0|\n",
            "|(13,[5,11,12],[1....|370.0|\n",
            "|(13,[4,11,12],[1....|450.0|\n",
            "|(13,[1,11,12],[1....|320.0|\n",
            "|(13,[6,11,12],[1....|453.0|\n",
            "|(13,[1,11,12],[1....|526.0|\n",
            "|(13,[0,11,12],[1....|352.0|\n",
            "|(13,[0,11,12],[1....|372.0|\n",
            "|(13,[6,11,12],[1....|326.0|\n",
            "|(13,[0,11,12],[1....|374.0|\n",
            "|(13,[0,11,12],[1....|536.0|\n",
            "|(13,[11,12],[0.77...|342.0|\n",
            "|(13,[4,11,12],[1....|356.0|\n",
            "|(13,[2,11,12],[1....|456.0|\n",
            "|(13,[2,11,12],[1....|400.0|\n",
            "|(13,[2,11,12],[1....|419.0|\n",
            "+--------------------+-----+\n",
            "only showing top 20 rows\n",
            "\n"
          ],
          "name": "stdout"
        }
      ]
    },
    {
      "cell_type": "markdown",
      "metadata": {
        "id": "cr5N6lMancOl"
      },
      "source": [
        "Split the data into 70% in the training sample and 30% in the test sample."
      ]
    },
    {
      "cell_type": "code",
      "metadata": {
        "id": "QZg3gX4rni8z",
        "colab": {
          "base_uri": "https://localhost:8080/"
        },
        "outputId": "b34e4d70-b515-4442-db4a-2f24464b88b7"
      },
      "source": [
        "# train_test_split\n",
        "train, test = input.randomSplit([0.7, 0.3])\n",
        "\n",
        "# inspect train set\n",
        "train.show()\n"
      ],
      "execution_count": 23,
      "outputs": [
        {
          "output_type": "stream",
          "text": [
            "+--------------------+-----+\n",
            "|            features|label|\n",
            "+--------------------+-----+\n",
            "|(13,[0,11,12],[1....| 10.0|\n",
            "|(13,[0,11,12],[1....|  5.0|\n",
            "|(13,[0,11,12],[1....|  0.0|\n",
            "|(13,[0,11,12],[1....| 12.0|\n",
            "|(13,[0,11,12],[1....|  8.0|\n",
            "|(13,[0,11,12],[1....|  0.0|\n",
            "|(13,[0,11,12],[1....| 17.0|\n",
            "|(13,[0,11,12],[1....| 32.0|\n",
            "|(13,[0,11,12],[1....| 17.0|\n",
            "|(13,[0,11,12],[1....| 36.0|\n",
            "|(13,[0,11,12],[1....| 22.0|\n",
            "|(13,[0,11,12],[1....|  7.0|\n",
            "|(13,[0,11,12],[1....| 12.0|\n",
            "|(13,[0,11,12],[1....| 34.0|\n",
            "|(13,[0,11,12],[1....|  5.0|\n",
            "|(13,[0,11,12],[1....| 10.0|\n",
            "|(13,[0,11,12],[1....|  1.0|\n",
            "|(13,[0,11,12],[1....|  4.0|\n",
            "|(13,[0,11,12],[1....| 25.0|\n",
            "|(13,[0,11,12],[1....|  4.0|\n",
            "+--------------------+-----+\n",
            "only showing top 20 rows\n",
            "\n"
          ],
          "name": "stdout"
        }
      ]
    },
    {
      "cell_type": "code",
      "metadata": {
        "colab": {
          "base_uri": "https://localhost:8080/"
        },
        "id": "gLvbSg2jTGqC",
        "outputId": "c3740f80-f5ac-4199-df0f-a652b4096976"
      },
      "source": [
        "# inspect test set\n",
        "test.show()"
      ],
      "execution_count": 24,
      "outputs": [
        {
          "output_type": "stream",
          "text": [
            "+--------------------+-----+\n",
            "|            features|label|\n",
            "+--------------------+-----+\n",
            "|(13,[0,11,12],[1....|  6.0|\n",
            "|(13,[0,11,12],[1....| 13.0|\n",
            "|(13,[0,11,12],[1....|  4.0|\n",
            "|(13,[0,11,12],[1....| 11.0|\n",
            "|(13,[0,11,12],[1....|  3.0|\n",
            "|(13,[0,11,12],[1....|  4.0|\n",
            "|(13,[0,11,12],[1....| 33.0|\n",
            "|(13,[0,11,12],[1....| 46.0|\n",
            "|(13,[0,11,12],[1....| 79.0|\n",
            "|(13,[0,11,12],[1....|  8.0|\n",
            "|(13,[0,11,12],[1....| 10.0|\n",
            "|(13,[0,11,12],[1....|  2.0|\n",
            "|(13,[0,11,12],[1....| 25.0|\n",
            "|(13,[0,11,12],[1....|  9.0|\n",
            "|(13,[0,11,12],[1....| 36.0|\n",
            "|(13,[0,11,12],[1....|  7.0|\n",
            "|(13,[0,11,12],[1....| 76.0|\n",
            "|(13,[0,11,12],[1....| 26.0|\n",
            "|(13,[0,11,12],[1....|  0.0|\n",
            "|(13,[0,11,12],[1....| 20.0|\n",
            "+--------------------+-----+\n",
            "only showing top 20 rows\n",
            "\n"
          ],
          "name": "stdout"
        }
      ]
    },
    {
      "cell_type": "markdown",
      "metadata": {
        "id": "tK2oIPrFVJ0u"
      },
      "source": [
        "## Linear Regression"
      ]
    },
    {
      "cell_type": "markdown",
      "metadata": {
        "id": "w_mbNCz6njMC"
      },
      "source": [
        "Using the train and test data, generate a linear regression to predict global sales. Print the r squared from the model summary."
      ]
    },
    {
      "cell_type": "code",
      "metadata": {
        "id": "MNRgTZIZm1uI",
        "colab": {
          "base_uri": "https://localhost:8080/"
        },
        "outputId": "0dd2c5ef-1979-4fb6-ebf8-8c7988cfad5f"
      },
      "source": [
        "# Answer below:\n",
        "\n",
        "from pyspark.ml.regression import LinearRegression\n",
        "\n",
        "#initialize model\n",
        "lr = LinearRegression(featuresCol = 'features', labelCol='label',)\n",
        "\n",
        "# Fit the model\n",
        "lr_model = lr.fit(train)\n",
        "\n",
        "# Summarize the model over the training set and print out some metrics\n",
        "trainingSummary = lr_model.summary\n",
        "print(\"Training RMSE: %f\" % trainingSummary.rootMeanSquaredError)\n",
        "print(\"Training r2: %f\" % trainingSummary.r2)"
      ],
      "execution_count": 25,
      "outputs": [
        {
          "output_type": "stream",
          "text": [
            "Training RMSE: 82.849156\n",
            "Training r2: 0.159280\n"
          ],
          "name": "stdout"
        }
      ]
    },
    {
      "cell_type": "markdown",
      "metadata": {
        "id": "C-z7sB1ljDZ7"
      },
      "source": [
        "Show Test Results"
      ]
    },
    {
      "cell_type": "code",
      "metadata": {
        "id": "qo3l9oc8qJDq",
        "colab": {
          "base_uri": "https://localhost:8080/"
        },
        "outputId": "804e066d-6f42-4556-e784-79dea7d1e8b6"
      },
      "source": [
        "from pyspark.ml.evaluation import RegressionEvaluator\n",
        "\n",
        "# generate predictions\n",
        "lr_predictions = lr_model.transform(test)\n",
        "lr_predictions.select(\"prediction\",\"label\",\"features\").show(5)\n",
        "\n",
        "lr_evaluator = RegressionEvaluator(predictionCol=\"prediction\", \\\n",
        "                 labelCol=\"label\",metricName=\"r2\")\n",
        "print(\"Test r2 = %g\" % lr_evaluator.evaluate(lr_predictions))"
      ],
      "execution_count": 26,
      "outputs": [
        {
          "output_type": "stream",
          "text": [
            "+-------------------+-----+--------------------+\n",
            "|         prediction|label|            features|\n",
            "+-------------------+-----+--------------------+\n",
            "|-29.704522806446235|  6.0|(13,[0,11,12],[1....|\n",
            "| -33.73605618378387| 13.0|(13,[0,11,12],[1....|\n",
            "|-21.075366342658455|  4.0|(13,[0,11,12],[1....|\n",
            "| -40.56266195931375| 11.0|(13,[0,11,12],[1....|\n",
            "|-13.734811638476273|  3.0|(13,[0,11,12],[1....|\n",
            "+-------------------+-----+--------------------+\n",
            "only showing top 5 rows\n",
            "\n",
            "Test r2 = 0.136807\n"
          ],
          "name": "stdout"
        }
      ]
    },
    {
      "cell_type": "markdown",
      "metadata": {
        "id": "A0QCZg_uP0CA"
      },
      "source": [
        "## Classification - Binomial Logistic Regression"
      ]
    },
    {
      "cell_type": "markdown",
      "metadata": {
        "id": "T86Pj9Frjyhf"
      },
      "source": [
        "Download and save the college admission  CSV file to your Colab Data folder on Google Drive. \n",
        "\n",
        "The file can be downloaded from link [here](https://tf-assets-prod.s3.amazonaws.com/tf-curric/data-science/Admission_Predict.csv), download it and save it to your Google Colab Data folder on gdrive."
      ]
    },
    {
      "cell_type": "markdown",
      "metadata": {
        "id": "TSyE1P5ikFdp"
      },
      "source": [
        "Load the admit CSV file in to the spark instance."
      ]
    },
    {
      "cell_type": "code",
      "metadata": {
        "id": "qhlRdBi3MYlr",
        "colab": {
          "base_uri": "https://localhost:8080/"
        },
        "outputId": "24bc48f5-5a04-41bb-fc73-c3a0433c11aa"
      },
      "source": [
        "# Answer below:\n",
        "admit = spark.read.format(\"csv\").option(\"header\", \"true\").option(\"inferSchema\", \"true\").load(\"Admission_Predict.csv\")\n",
        "admit.show()"
      ],
      "execution_count": 27,
      "outputs": [
        {
          "output_type": "stream",
          "text": [
            "+----------+---------+-----------+-----------------+---+----+----+--------+----------------+\n",
            "|Serial No.|GRE Score|TOEFL Score|University Rating|SOP|LOR |CGPA|Research|Chance of Admit |\n",
            "+----------+---------+-----------+-----------------+---+----+----+--------+----------------+\n",
            "|         1|      337|        118|                4|4.5| 4.5|9.65|       1|            0.92|\n",
            "|         2|      324|        107|                4|4.0| 4.5|8.87|       1|            0.76|\n",
            "|         3|      316|        104|                3|3.0| 3.5| 8.0|       1|            0.72|\n",
            "|         4|      322|        110|                3|3.5| 2.5|8.67|       1|             0.8|\n",
            "|         5|      314|        103|                2|2.0| 3.0|8.21|       0|            0.65|\n",
            "|         6|      330|        115|                5|4.5| 3.0|9.34|       1|             0.9|\n",
            "|         7|      321|        109|                3|3.0| 4.0| 8.2|       1|            0.75|\n",
            "|         8|      308|        101|                2|3.0| 4.0| 7.9|       0|            0.68|\n",
            "|         9|      302|        102|                1|2.0| 1.5| 8.0|       0|             0.5|\n",
            "|        10|      323|        108|                3|3.5| 3.0| 8.6|       0|            0.45|\n",
            "|        11|      325|        106|                3|3.5| 4.0| 8.4|       1|            0.52|\n",
            "|        12|      327|        111|                4|4.0| 4.5| 9.0|       1|            0.84|\n",
            "|        13|      328|        112|                4|4.0| 4.5| 9.1|       1|            0.78|\n",
            "|        14|      307|        109|                3|4.0| 3.0| 8.0|       1|            0.62|\n",
            "|        15|      311|        104|                3|3.5| 2.0| 8.2|       1|            0.61|\n",
            "|        16|      314|        105|                3|3.5| 2.5| 8.3|       0|            0.54|\n",
            "|        17|      317|        107|                3|4.0| 3.0| 8.7|       0|            0.66|\n",
            "|        18|      319|        106|                3|4.0| 3.0| 8.0|       1|            0.65|\n",
            "|        19|      318|        110|                3|4.0| 3.0| 8.8|       0|            0.63|\n",
            "|        20|      303|        102|                3|3.5| 3.0| 8.5|       0|            0.62|\n",
            "+----------+---------+-----------+-----------------+---+----+----+--------+----------------+\n",
            "only showing top 20 rows\n",
            "\n"
          ],
          "name": "stdout"
        }
      ]
    },
    {
      "cell_type": "code",
      "metadata": {
        "id": "IqZ4DhjMW6on",
        "colab": {
          "base_uri": "https://localhost:8080/"
        },
        "outputId": "3c84acbd-f311-4b79-bd9e-27e82e25cc31"
      },
      "source": [
        "admit.printSchema()"
      ],
      "execution_count": 28,
      "outputs": [
        {
          "output_type": "stream",
          "text": [
            "root\n",
            " |-- Serial No.: integer (nullable = true)\n",
            " |-- GRE Score: integer (nullable = true)\n",
            " |-- TOEFL Score: integer (nullable = true)\n",
            " |-- University Rating: integer (nullable = true)\n",
            " |-- SOP: double (nullable = true)\n",
            " |-- LOR : double (nullable = true)\n",
            " |-- CGPA: double (nullable = true)\n",
            " |-- Research: integer (nullable = true)\n",
            " |-- Chance of Admit : double (nullable = true)\n",
            "\n"
          ],
          "name": "stdout"
        }
      ]
    },
    {
      "cell_type": "markdown",
      "metadata": {
        "id": "p5ZzjBv6Smf5"
      },
      "source": [
        "Create a categorical response from `Chance of Admit` column."
      ]
    },
    {
      "cell_type": "code",
      "metadata": {
        "id": "YU1-SgIHWS8b",
        "colab": {
          "base_uri": "https://localhost:8080/"
        },
        "outputId": "81709f4f-df3f-4999-d313-e501be80fc2b"
      },
      "source": [
        "from pyspark.ml.feature import Binarizer\n",
        "# Answer below\n",
        "binarizer = Binarizer(threshold=.5, inputCol='Chance of Admit ', outputCol='Admit_Binary')\n",
        "admit2 = binarizer.transform(admit)\n",
        "admit2.show()\n"
      ],
      "execution_count": 29,
      "outputs": [
        {
          "output_type": "stream",
          "text": [
            "+----------+---------+-----------+-----------------+---+----+----+--------+----------------+------------+\n",
            "|Serial No.|GRE Score|TOEFL Score|University Rating|SOP|LOR |CGPA|Research|Chance of Admit |Admit_Binary|\n",
            "+----------+---------+-----------+-----------------+---+----+----+--------+----------------+------------+\n",
            "|         1|      337|        118|                4|4.5| 4.5|9.65|       1|            0.92|         1.0|\n",
            "|         2|      324|        107|                4|4.0| 4.5|8.87|       1|            0.76|         1.0|\n",
            "|         3|      316|        104|                3|3.0| 3.5| 8.0|       1|            0.72|         1.0|\n",
            "|         4|      322|        110|                3|3.5| 2.5|8.67|       1|             0.8|         1.0|\n",
            "|         5|      314|        103|                2|2.0| 3.0|8.21|       0|            0.65|         1.0|\n",
            "|         6|      330|        115|                5|4.5| 3.0|9.34|       1|             0.9|         1.0|\n",
            "|         7|      321|        109|                3|3.0| 4.0| 8.2|       1|            0.75|         1.0|\n",
            "|         8|      308|        101|                2|3.0| 4.0| 7.9|       0|            0.68|         1.0|\n",
            "|         9|      302|        102|                1|2.0| 1.5| 8.0|       0|             0.5|         0.0|\n",
            "|        10|      323|        108|                3|3.5| 3.0| 8.6|       0|            0.45|         0.0|\n",
            "|        11|      325|        106|                3|3.5| 4.0| 8.4|       1|            0.52|         1.0|\n",
            "|        12|      327|        111|                4|4.0| 4.5| 9.0|       1|            0.84|         1.0|\n",
            "|        13|      328|        112|                4|4.0| 4.5| 9.1|       1|            0.78|         1.0|\n",
            "|        14|      307|        109|                3|4.0| 3.0| 8.0|       1|            0.62|         1.0|\n",
            "|        15|      311|        104|                3|3.5| 2.0| 8.2|       1|            0.61|         1.0|\n",
            "|        16|      314|        105|                3|3.5| 2.5| 8.3|       0|            0.54|         1.0|\n",
            "|        17|      317|        107|                3|4.0| 3.0| 8.7|       0|            0.66|         1.0|\n",
            "|        18|      319|        106|                3|4.0| 3.0| 8.0|       1|            0.65|         1.0|\n",
            "|        19|      318|        110|                3|4.0| 3.0| 8.8|       0|            0.63|         1.0|\n",
            "|        20|      303|        102|                3|3.5| 3.0| 8.5|       0|            0.62|         1.0|\n",
            "+----------+---------+-----------+-----------------+---+----+----+--------+----------------+------------+\n",
            "only showing top 20 rows\n",
            "\n"
          ],
          "name": "stdout"
        }
      ]
    },
    {
      "cell_type": "markdown",
      "metadata": {
        "id": "G3NQ30HKbpqr"
      },
      "source": [
        "Divide GRE and TOEFL score columns by 100 to normalize the features."
      ]
    },
    {
      "cell_type": "code",
      "metadata": {
        "id": "VjcYYZ3oU7DY",
        "colab": {
          "base_uri": "https://localhost:8080/"
        },
        "outputId": "090ca7a8-e408-484f-d1a7-36efa2b7d0a8"
      },
      "source": [
        "from pyspark.sql.functions import lit, col\n",
        "# Answer below\n",
        "admit3 = admit2.withColumn('GRE Score',admit2['GRE Score']/lit(100))\n",
        "admit4 = admit3.withColumn('TOEFL Score',admit3['TOEFL Score']/lit(100))\n",
        "admit4.show()"
      ],
      "execution_count": 30,
      "outputs": [
        {
          "output_type": "stream",
          "text": [
            "+----------+---------+-----------+-----------------+---+----+----+--------+----------------+------------+\n",
            "|Serial No.|GRE Score|TOEFL Score|University Rating|SOP|LOR |CGPA|Research|Chance of Admit |Admit_Binary|\n",
            "+----------+---------+-----------+-----------------+---+----+----+--------+----------------+------------+\n",
            "|         1|     3.37|       1.18|                4|4.5| 4.5|9.65|       1|            0.92|         1.0|\n",
            "|         2|     3.24|       1.07|                4|4.0| 4.5|8.87|       1|            0.76|         1.0|\n",
            "|         3|     3.16|       1.04|                3|3.0| 3.5| 8.0|       1|            0.72|         1.0|\n",
            "|         4|     3.22|        1.1|                3|3.5| 2.5|8.67|       1|             0.8|         1.0|\n",
            "|         5|     3.14|       1.03|                2|2.0| 3.0|8.21|       0|            0.65|         1.0|\n",
            "|         6|      3.3|       1.15|                5|4.5| 3.0|9.34|       1|             0.9|         1.0|\n",
            "|         7|     3.21|       1.09|                3|3.0| 4.0| 8.2|       1|            0.75|         1.0|\n",
            "|         8|     3.08|       1.01|                2|3.0| 4.0| 7.9|       0|            0.68|         1.0|\n",
            "|         9|     3.02|       1.02|                1|2.0| 1.5| 8.0|       0|             0.5|         0.0|\n",
            "|        10|     3.23|       1.08|                3|3.5| 3.0| 8.6|       0|            0.45|         0.0|\n",
            "|        11|     3.25|       1.06|                3|3.5| 4.0| 8.4|       1|            0.52|         1.0|\n",
            "|        12|     3.27|       1.11|                4|4.0| 4.5| 9.0|       1|            0.84|         1.0|\n",
            "|        13|     3.28|       1.12|                4|4.0| 4.5| 9.1|       1|            0.78|         1.0|\n",
            "|        14|     3.07|       1.09|                3|4.0| 3.0| 8.0|       1|            0.62|         1.0|\n",
            "|        15|     3.11|       1.04|                3|3.5| 2.0| 8.2|       1|            0.61|         1.0|\n",
            "|        16|     3.14|       1.05|                3|3.5| 2.5| 8.3|       0|            0.54|         1.0|\n",
            "|        17|     3.17|       1.07|                3|4.0| 3.0| 8.7|       0|            0.66|         1.0|\n",
            "|        18|     3.19|       1.06|                3|4.0| 3.0| 8.0|       1|            0.65|         1.0|\n",
            "|        19|     3.18|        1.1|                3|4.0| 3.0| 8.8|       0|            0.63|         1.0|\n",
            "|        20|     3.03|       1.02|                3|3.5| 3.0| 8.5|       0|            0.62|         1.0|\n",
            "+----------+---------+-----------+-----------------+---+----+----+--------+----------------+------------+\n",
            "only showing top 20 rows\n",
            "\n"
          ],
          "name": "stdout"
        }
      ]
    },
    {
      "cell_type": "markdown",
      "metadata": {
        "id": "e1cIz6BWc12n"
      },
      "source": [
        "Vectorize the features using the vector assembler, saving them into a column named features."
      ]
    },
    {
      "cell_type": "code",
      "metadata": {
        "id": "-4Ibl9MkcPs4",
        "colab": {
          "base_uri": "https://localhost:8080/"
        },
        "outputId": "b7c9e4f2-1681-497a-f38a-6c21fe745160"
      },
      "source": [
        "# Answer below\n",
        "feature_cols = [x for x in admit4.columns if x not in ['Serial No.','Chance of Admit ','Admit_Binary']]\n",
        "assembler_ = VectorAssembler(inputCols=feature_cols, outputCol='features')\n",
        "features = assembler_.transform(admit4)\n",
        "features.show()"
      ],
      "execution_count": 31,
      "outputs": [
        {
          "output_type": "stream",
          "text": [
            "+----------+---------+-----------+-----------------+---+----+----+--------+----------------+------------+--------------------+\n",
            "|Serial No.|GRE Score|TOEFL Score|University Rating|SOP|LOR |CGPA|Research|Chance of Admit |Admit_Binary|            features|\n",
            "+----------+---------+-----------+-----------------+---+----+----+--------+----------------+------------+--------------------+\n",
            "|         1|     3.37|       1.18|                4|4.5| 4.5|9.65|       1|            0.92|         1.0|[3.37,1.18,4.0,4....|\n",
            "|         2|     3.24|       1.07|                4|4.0| 4.5|8.87|       1|            0.76|         1.0|[3.24,1.07,4.0,4....|\n",
            "|         3|     3.16|       1.04|                3|3.0| 3.5| 8.0|       1|            0.72|         1.0|[3.16,1.04,3.0,3....|\n",
            "|         4|     3.22|        1.1|                3|3.5| 2.5|8.67|       1|             0.8|         1.0|[3.22,1.1,3.0,3.5...|\n",
            "|         5|     3.14|       1.03|                2|2.0| 3.0|8.21|       0|            0.65|         1.0|[3.14,1.03,2.0,2....|\n",
            "|         6|      3.3|       1.15|                5|4.5| 3.0|9.34|       1|             0.9|         1.0|[3.3,1.15,5.0,4.5...|\n",
            "|         7|     3.21|       1.09|                3|3.0| 4.0| 8.2|       1|            0.75|         1.0|[3.21,1.09,3.0,3....|\n",
            "|         8|     3.08|       1.01|                2|3.0| 4.0| 7.9|       0|            0.68|         1.0|[3.08,1.01,2.0,3....|\n",
            "|         9|     3.02|       1.02|                1|2.0| 1.5| 8.0|       0|             0.5|         0.0|[3.02,1.02,1.0,2....|\n",
            "|        10|     3.23|       1.08|                3|3.5| 3.0| 8.6|       0|            0.45|         0.0|[3.23,1.08,3.0,3....|\n",
            "|        11|     3.25|       1.06|                3|3.5| 4.0| 8.4|       1|            0.52|         1.0|[3.25,1.06,3.0,3....|\n",
            "|        12|     3.27|       1.11|                4|4.0| 4.5| 9.0|       1|            0.84|         1.0|[3.27,1.11,4.0,4....|\n",
            "|        13|     3.28|       1.12|                4|4.0| 4.5| 9.1|       1|            0.78|         1.0|[3.28,1.12,4.0,4....|\n",
            "|        14|     3.07|       1.09|                3|4.0| 3.0| 8.0|       1|            0.62|         1.0|[3.07,1.09,3.0,4....|\n",
            "|        15|     3.11|       1.04|                3|3.5| 2.0| 8.2|       1|            0.61|         1.0|[3.11,1.04,3.0,3....|\n",
            "|        16|     3.14|       1.05|                3|3.5| 2.5| 8.3|       0|            0.54|         1.0|[3.14,1.05,3.0,3....|\n",
            "|        17|     3.17|       1.07|                3|4.0| 3.0| 8.7|       0|            0.66|         1.0|[3.17,1.07,3.0,4....|\n",
            "|        18|     3.19|       1.06|                3|4.0| 3.0| 8.0|       1|            0.65|         1.0|[3.19,1.06,3.0,4....|\n",
            "|        19|     3.18|        1.1|                3|4.0| 3.0| 8.8|       0|            0.63|         1.0|[3.18,1.1,3.0,4.0...|\n",
            "|        20|     3.03|       1.02|                3|3.5| 3.0| 8.5|       0|            0.62|         1.0|[3.03,1.02,3.0,3....|\n",
            "+----------+---------+-----------+-----------------+---+----+----+--------+----------------+------------+--------------------+\n",
            "only showing top 20 rows\n",
            "\n"
          ],
          "name": "stdout"
        }
      ]
    },
    {
      "cell_type": "markdown",
      "metadata": {
        "id": "SfkkSBzfk93I"
      },
      "source": [
        "Split into train and test subsets."
      ]
    },
    {
      "cell_type": "code",
      "metadata": {
        "id": "PrkM1eCtlBnx",
        "colab": {
          "base_uri": "https://localhost:8080/"
        },
        "outputId": "c58a0a1e-1f41-4fe5-bafa-7b36a10ab336"
      },
      "source": [
        "# Answer below\n",
        "train, test = features.randomSplit([.7,.3])\n",
        "\n",
        "train.show()"
      ],
      "execution_count": 32,
      "outputs": [
        {
          "output_type": "stream",
          "text": [
            "+----------+---------+-----------+-----------------+---+----+----+--------+----------------+------------+--------------------+\n",
            "|Serial No.|GRE Score|TOEFL Score|University Rating|SOP|LOR |CGPA|Research|Chance of Admit |Admit_Binary|            features|\n",
            "+----------+---------+-----------+-----------------+---+----+----+--------+----------------+------------+--------------------+\n",
            "|         2|     3.24|       1.07|                4|4.0| 4.5|8.87|       1|            0.76|         1.0|[3.24,1.07,4.0,4....|\n",
            "|         3|     3.16|       1.04|                3|3.0| 3.5| 8.0|       1|            0.72|         1.0|[3.16,1.04,3.0,3....|\n",
            "|         4|     3.22|        1.1|                3|3.5| 2.5|8.67|       1|             0.8|         1.0|[3.22,1.1,3.0,3.5...|\n",
            "|         6|      3.3|       1.15|                5|4.5| 3.0|9.34|       1|             0.9|         1.0|[3.3,1.15,5.0,4.5...|\n",
            "|         7|     3.21|       1.09|                3|3.0| 4.0| 8.2|       1|            0.75|         1.0|[3.21,1.09,3.0,3....|\n",
            "|         8|     3.08|       1.01|                2|3.0| 4.0| 7.9|       0|            0.68|         1.0|[3.08,1.01,2.0,3....|\n",
            "|         9|     3.02|       1.02|                1|2.0| 1.5| 8.0|       0|             0.5|         0.0|[3.02,1.02,1.0,2....|\n",
            "|        13|     3.28|       1.12|                4|4.0| 4.5| 9.1|       1|            0.78|         1.0|[3.28,1.12,4.0,4....|\n",
            "|        16|     3.14|       1.05|                3|3.5| 2.5| 8.3|       0|            0.54|         1.0|[3.14,1.05,3.0,3....|\n",
            "|        17|     3.17|       1.07|                3|4.0| 3.0| 8.7|       0|            0.66|         1.0|[3.17,1.07,3.0,4....|\n",
            "|        18|     3.19|       1.06|                3|4.0| 3.0| 8.0|       1|            0.65|         1.0|[3.19,1.06,3.0,4....|\n",
            "|        19|     3.18|        1.1|                3|4.0| 3.0| 8.8|       0|            0.63|         1.0|[3.18,1.1,3.0,4.0...|\n",
            "|        20|     3.03|       1.02|                3|3.5| 3.0| 8.5|       0|            0.62|         1.0|[3.03,1.02,3.0,3....|\n",
            "|        21|     3.12|       1.07|                3|3.0| 2.0| 7.9|       1|            0.64|         1.0|[3.12,1.07,3.0,3....|\n",
            "|        22|     3.25|       1.14|                4|3.0| 2.0| 8.4|       0|             0.7|         1.0|[3.25,1.14,4.0,3....|\n",
            "|        25|     3.36|       1.19|                5|4.0| 3.5| 9.8|       1|            0.97|         1.0|[3.36,1.19,5.0,4....|\n",
            "|        26|      3.4|        1.2|                5|4.5| 4.5| 9.6|       1|            0.94|         1.0|[3.4,1.2,5.0,4.5,...|\n",
            "|        27|     3.22|       1.09|                5|4.5| 3.5| 8.8|       0|            0.76|         1.0|[3.22,1.09,5.0,4....|\n",
            "|        30|      3.1|       0.99|                2|1.5| 2.0| 7.3|       0|            0.54|         1.0|[3.1,0.99,2.0,1.5...|\n",
            "|        31|      3.0|       0.97|                2|3.0| 3.0| 8.1|       1|            0.65|         1.0|[3.0,0.97,2.0,3.0...|\n",
            "+----------+---------+-----------+-----------------+---+----+----+--------+----------------+------------+--------------------+\n",
            "only showing top 20 rows\n",
            "\n"
          ],
          "name": "stdout"
        }
      ]
    },
    {
      "cell_type": "markdown",
      "metadata": {
        "id": "-3KbBnp4lD1G"
      },
      "source": [
        "Define the Logistic regression model."
      ]
    },
    {
      "cell_type": "code",
      "metadata": {
        "id": "LncfrOdzdUbR"
      },
      "source": [
        "from pyspark.ml.classification import LogisticRegression\n",
        "logr = LogisticRegression(featuresCol='features',labelCol='Admit_Binary')\n"
      ],
      "execution_count": 33,
      "outputs": []
    },
    {
      "cell_type": "markdown",
      "metadata": {
        "id": "oOuEI6XBlLQR"
      },
      "source": [
        "Fit the model."
      ]
    },
    {
      "cell_type": "code",
      "metadata": {
        "id": "5Z4oo9o4eMX3"
      },
      "source": [
        "# Answer below\n",
        "logr_model = logr.fit(train)"
      ],
      "execution_count": 34,
      "outputs": []
    },
    {
      "cell_type": "markdown",
      "metadata": {
        "id": "l-JLjNUmlN-E"
      },
      "source": [
        "predict in the test set."
      ]
    },
    {
      "cell_type": "code",
      "metadata": {
        "id": "irZa6ZrCesiG",
        "colab": {
          "base_uri": "https://localhost:8080/"
        },
        "outputId": "52660de4-3f1c-48a7-ae02-eac67c8011af"
      },
      "source": [
        "# Answer below\n",
        "predictions = logr_model.transform(test)\n",
        "predictions.show()"
      ],
      "execution_count": 35,
      "outputs": [
        {
          "output_type": "stream",
          "text": [
            "+----------+---------+-----------+-----------------+---+----+----+--------+----------------+------------+--------------------+--------------------+--------------------+----------+\n",
            "|Serial No.|GRE Score|TOEFL Score|University Rating|SOP|LOR |CGPA|Research|Chance of Admit |Admit_Binary|            features|       rawPrediction|         probability|prediction|\n",
            "+----------+---------+-----------+-----------------+---+----+----+--------+----------------+------------+--------------------+--------------------+--------------------+----------+\n",
            "|         1|     3.37|       1.18|                4|4.5| 4.5|9.65|       1|            0.92|         1.0|[3.37,1.18,4.0,4....|[-11.577224397899...|[9.37715847661959...|       1.0|\n",
            "|         5|     3.14|       1.03|                2|2.0| 3.0|8.21|       0|            0.65|         1.0|[3.14,1.03,2.0,2....|[-3.9473305260398...|[0.01894050181203...|       1.0|\n",
            "|        10|     3.23|       1.08|                3|3.5| 3.0| 8.6|       0|            0.45|         0.0|[3.23,1.08,3.0,3....|[-5.2378330466953...|[0.00528368903803...|       1.0|\n",
            "|        11|     3.25|       1.06|                3|3.5| 4.0| 8.4|       1|            0.52|         1.0|[3.25,1.06,3.0,3....|[-4.8751441230190...|[0.00757615756464...|       1.0|\n",
            "|        12|     3.27|       1.11|                4|4.0| 4.5| 9.0|       1|            0.84|         1.0|[3.27,1.11,4.0,4....|[-7.7317491881922...|[4.38483766167317...|       1.0|\n",
            "|        14|     3.07|       1.09|                3|4.0| 3.0| 8.0|       1|            0.62|         1.0|[3.07,1.09,3.0,4....|[-1.2949003373019...|[0.21502453285958...|       1.0|\n",
            "|        15|     3.11|       1.04|                3|3.5| 2.0| 8.2|       1|            0.61|         1.0|[3.11,1.04,3.0,3....|[-1.5482193114558...|[0.17534360372889...|       1.0|\n",
            "|        23|     3.28|       1.16|                5|5.0| 5.0| 9.5|       1|            0.94|         1.0|[3.28,1.16,5.0,5....|[-9.7115486169134...|[6.05761567728477...|       1.0|\n",
            "|        24|     3.34|       1.19|                5|5.0| 4.5| 9.7|       1|            0.95|         1.0|[3.34,1.19,5.0,5....|[-10.955054245571...|[1.74691914879350...|       1.0|\n",
            "|        28|     2.98|       0.98|                2|1.5| 2.5| 7.5|       1|            0.44|         0.0|[2.98,0.98,2.0,1....|[0.72381283897531...|[0.67344607698382...|       0.0|\n",
            "|        29|     2.95|       0.93|                1|2.0| 2.0| 7.2|       0|            0.46|         0.0|[2.95,0.93,1.0,2....|[3.03928404196743...|[0.95431762682208...|       0.0|\n",
            "|        33|     3.38|       1.18|                4|3.0| 4.5| 9.4|       1|            0.91|         1.0|[3.38,1.18,4.0,3....|[-11.710808030125...|[8.20459467208931...|       1.0|\n",
            "|        35|     3.31|       1.12|                5|4.0| 5.0| 9.8|       1|            0.94|         1.0|[3.31,1.12,5.0,4....|[-11.505287189279...|[1.00765736789854...|       1.0|\n",
            "|        42|     3.16|       1.05|                2|2.5| 2.5| 8.2|       1|            0.49|         0.0|[3.16,1.05,2.0,2....|[-3.4601978373141...|[0.03046618900313...|       1.0|\n",
            "|        45|     3.26|       1.13|                5|4.5| 4.0| 9.4|       1|            0.91|         1.0|[3.26,1.13,5.0,4....|[-8.5197020692782...|[1.99459061494288...|       1.0|\n",
            "|        46|     3.22|        1.1|                5|5.0| 4.0| 9.1|       1|            0.88|         1.0|[3.22,1.1,5.0,5.0...|[-6.2507559803578...|[0.00192528144345...|       1.0|\n",
            "|        52|     3.12|        1.0|                2|1.5| 3.5| 7.9|       1|            0.56|         1.0|[3.12,1.0,2.0,1.5...|[-2.7885708770166...|[0.05794491798147...|       1.0|\n",
            "|        55|     3.22|        1.1|                3|3.0| 3.5| 8.0|       0|             0.7|         1.0|[3.22,1.1,3.0,3.0...|[-3.5366158110713...|[0.02828816401276...|       1.0|\n",
            "|        57|     3.16|       1.02|                3|2.0| 3.0| 7.4|       0|            0.64|         1.0|[3.16,1.02,3.0,2....|[-0.0903024968532...|[0.47743970444132...|       1.0|\n",
            "|        69|     3.18|       1.09|                3|3.5| 4.0|9.22|       1|            0.68|         1.0|[3.18,1.09,3.0,3....|[-8.3073234072373...|[2.46642637604492...|       1.0|\n",
            "+----------+---------+-----------+-----------------+---+----+----+--------+----------------+------------+--------------------+--------------------+--------------------+----------+\n",
            "only showing top 20 rows\n",
            "\n"
          ],
          "name": "stdout"
        }
      ]
    },
    {
      "cell_type": "markdown",
      "metadata": {
        "id": "8swSBazulUqH"
      },
      "source": [
        "Plot the ROC."
      ]
    },
    {
      "cell_type": "code",
      "metadata": {
        "id": "e-xtF0dWey07",
        "colab": {
          "base_uri": "https://localhost:8080/",
          "height": 312
        },
        "outputId": "96e0657b-b6b9-4678-c9ac-c0d50abce37f"
      },
      "source": [
        "import matplotlib.pyplot as plt\n",
        "\n",
        "trainingSummary = logr_model.summary\n",
        "roc = trainingSummary.roc.toPandas()\n",
        "plt.plot(roc['FPR'],roc['TPR'])\n",
        "plt.ylabel('False Positive Rate')\n",
        "plt.xlabel('True Positive Rate')\n",
        "plt.title('ROC Curve')\n",
        "plt.show()\n",
        "print('Training set areaUnderROC: ' + str(trainingSummary.areaUnderROC))"
      ],
      "execution_count": 36,
      "outputs": [
        {
          "output_type": "display_data",
          "data": {
            "image/png": "[encoded data removed]",
            "text/plain": [
              "<Figure size 432x288 with 1 Axes>"
            ]
          },
          "metadata": {
            "tags": [],
            "needs_background": "light"
          }
        },
        {
          "output_type": "stream",
          "text": [
            "Training set areaUnderROC: 0.953088578088578\n"
          ],
          "name": "stdout"
        }
      ]
    },
    {
      "cell_type": "markdown",
      "metadata": {
        "id": "JvhfWKjTlX-N"
      },
      "source": [
        "Calculate the overall model accuracy using the model evaluator.\n"
      ]
    },
    {
      "cell_type": "code",
      "metadata": {
        "id": "LMTeVl6kfr_j",
        "colab": {
          "base_uri": "https://localhost:8080/"
        },
        "outputId": "119f1be2-033d-42fa-9ed3-7cd2ff4edbc4"
      },
      "source": [
        "from pyspark.ml.evaluation import MulticlassClassificationEvaluator\n",
        "# Answer below\n",
        "logr_evaluator = MulticlassClassificationEvaluator(labelCol='Admit_Binary', predictionCol='prediction', metricName='accuracy')\n",
        "logr_accuracy = logr_evaluator.evaluate(predictions)\n",
        "print(\"Test Accuracy = %g\" % (logr_accuracy))"
      ],
      "execution_count": 37,
      "outputs": [
        {
          "output_type": "stream",
          "text": [
            "Test Accuracy = 0.945455\n"
          ],
          "name": "stdout"
        }
      ]
    },
    {
      "cell_type": "markdown",
      "metadata": {
        "id": "xwbB3HbXgslz"
      },
      "source": [
        "## Classification - Random Forest"
      ]
    },
    {
      "cell_type": "markdown",
      "metadata": {
        "id": "WpKBELD3lkmX"
      },
      "source": [
        "Download and save the land cover type CSV file to your Colab Data folder on Google Drive. \n",
        "\n",
        "The file can be downloaded from link [here](https://tf-assets-prod.s3.amazonaws.com/tf-curric/data-science/Data%20Sets%20Big%20Data/covtype.csv), download it and save it to your Google Colab Data folder on gdrive."
      ]
    },
    {
      "cell_type": "markdown",
      "metadata": {
        "id": "EJNJBjuDCOCk"
      },
      "source": [
        "Load the land cover type data from this CSV file."
      ]
    },
    {
      "cell_type": "code",
      "metadata": {
        "id": "kkTAb55PgKt-"
      },
      "source": [
        "#Answer below:\n",
        "cov = spark.read.format(\"csv\").option(\"header\", \"true\").option(\"inferSchema\", \"true\").load(\"covtype.csv\")"
      ],
      "execution_count": 38,
      "outputs": []
    },
    {
      "cell_type": "code",
      "metadata": {
        "id": "EN6ppx1qFINC"
      },
      "source": [
        "#load modules\n",
        "# !!!!caution: not from pyspark.mllib.linalg import Vectors\n",
        "from pyspark.ml.linalg import Vectors\n",
        "from pyspark.ml import Pipeline\n",
        "from pyspark.ml.feature import IndexToString,StringIndexer, VectorIndexer\n",
        "from pyspark.ml.tuning import CrossValidator, ParamGridBuilder\n",
        "from pyspark.ml.evaluation import MulticlassClassificationEvaluator"
      ],
      "execution_count": 39,
      "outputs": []
    },
    {
      "cell_type": "code",
      "metadata": {
        "colab": {
          "base_uri": "https://localhost:8080/"
        },
        "id": "0SKKZ4c70bij",
        "outputId": "da48a07c-a5a2-491b-cc6c-2a9c417cc6cd"
      },
      "source": [
        "cov.show()"
      ],
      "execution_count": 40,
      "outputs": [
        {
          "output_type": "stream",
          "text": [
            "+---------+------+-----+--------------------------------+------------------------------+-------------------------------+-------------+--------------+-------------+----------------------------------+----------------+----------------+----------------+----------------+----------+----------+----------+----------+----------+----------+----------+----------+----------+-----------+-----------+-----------+-----------+-----------+-----------+-----------+-----------+-----------+-----------+-----------+-----------+-----------+-----------+-----------+-----------+-----------+-----------+-----------+-----------+-----------+-----------+-----------+-----------+-----------+-----------+-----------+-----------+-----------+-----------+-----------+----------+\n",
            "|Elevation|Aspect|Slope|Horizontal_Distance_To_Hydrology|Vertical_Distance_To_Hydrology|Horizontal_Distance_To_Roadways|Hillshade_9am|Hillshade_Noon|Hillshade_3pm|Horizontal_Distance_To_Fire_Points|Wilderness_Area1|Wilderness_Area2|Wilderness_Area3|Wilderness_Area4|Soil_Type1|Soil_Type2|Soil_Type3|Soil_Type4|Soil_Type5|Soil_Type6|Soil_Type7|Soil_Type8|Soil_Type9|Soil_Type10|Soil_Type11|Soil_Type12|Soil_Type13|Soil_Type14|Soil_Type15|Soil_Type16|Soil_Type17|Soil_Type18|Soil_Type19|Soil_Type20|Soil_Type21|Soil_Type22|Soil_Type23|Soil_Type24|Soil_Type25|Soil_Type26|Soil_Type27|Soil_Type28|Soil_Type29|Soil_Type30|Soil_Type31|Soil_Type32|Soil_Type33|Soil_Type34|Soil_Type35|Soil_Type36|Soil_Type37|Soil_Type38|Soil_Type39|Soil_Type40|Cover_Type|\n",
            "+---------+------+-----+--------------------------------+------------------------------+-------------------------------+-------------+--------------+-------------+----------------------------------+----------------+----------------+----------------+----------------+----------+----------+----------+----------+----------+----------+----------+----------+----------+-----------+-----------+-----------+-----------+-----------+-----------+-----------+-----------+-----------+-----------+-----------+-----------+-----------+-----------+-----------+-----------+-----------+-----------+-----------+-----------+-----------+-----------+-----------+-----------+-----------+-----------+-----------+-----------+-----------+-----------+-----------+----------+\n",
            "|     2596|    51|    3|                             258|                             0|                            510|          221|           232|          148|                              6279|               1|               0|               0|               0|         0|         0|         0|         0|         0|         0|         0|         0|         0|          0|          0|          0|          0|          0|          0|          0|          0|          0|          0|          0|          0|          0|          0|          0|          0|          0|          0|          0|          1|          0|          0|          0|          0|          0|          0|          0|          0|          0|          0|          0|         5|\n",
            "|     2590|    56|    2|                             212|                            -6|                            390|          220|           235|          151|                              6225|               1|               0|               0|               0|         0|         0|         0|         0|         0|         0|         0|         0|         0|          0|          0|          0|          0|          0|          0|          0|          0|          0|          0|          0|          0|          0|          0|          0|          0|          0|          0|          0|          1|          0|          0|          0|          0|          0|          0|          0|          0|          0|          0|          0|         5|\n",
            "|     2804|   139|    9|                             268|                            65|                           3180|          234|           238|          135|                              6121|               1|               0|               0|               0|         0|         0|         0|         0|         0|         0|         0|         0|         0|          0|          0|          1|          0|          0|          0|          0|          0|          0|          0|          0|          0|          0|          0|          0|          0|          0|          0|          0|          0|          0|          0|          0|          0|          0|          0|          0|          0|          0|          0|          0|         2|\n",
            "|     2785|   155|   18|                             242|                           118|                           3090|          238|           238|          122|                              6211|               1|               0|               0|               0|         0|         0|         0|         0|         0|         0|         0|         0|         0|          0|          0|          0|          0|          0|          0|          0|          0|          0|          0|          0|          0|          0|          0|          0|          0|          0|          0|          0|          0|          1|          0|          0|          0|          0|          0|          0|          0|          0|          0|          0|         2|\n",
            "|     2595|    45|    2|                             153|                            -1|                            391|          220|           234|          150|                              6172|               1|               0|               0|               0|         0|         0|         0|         0|         0|         0|         0|         0|         0|          0|          0|          0|          0|          0|          0|          0|          0|          0|          0|          0|          0|          0|          0|          0|          0|          0|          0|          0|          1|          0|          0|          0|          0|          0|          0|          0|          0|          0|          0|          0|         5|\n",
            "|     2579|   132|    6|                             300|                           -15|                             67|          230|           237|          140|                              6031|               1|               0|               0|               0|         0|         0|         0|         0|         0|         0|         0|         0|         0|          0|          0|          0|          0|          0|          0|          0|          0|          0|          0|          0|          0|          0|          0|          0|          0|          0|          0|          0|          1|          0|          0|          0|          0|          0|          0|          0|          0|          0|          0|          0|         2|\n",
            "|     2606|    45|    7|                             270|                             5|                            633|          222|           225|          138|                              6256|               1|               0|               0|               0|         0|         0|         0|         0|         0|         0|         0|         0|         0|          0|          0|          0|          0|          0|          0|          0|          0|          0|          0|          0|          0|          0|          0|          0|          0|          0|          0|          0|          1|          0|          0|          0|          0|          0|          0|          0|          0|          0|          0|          0|         5|\n",
            "|     2605|    49|    4|                             234|                             7|                            573|          222|           230|          144|                              6228|               1|               0|               0|               0|         0|         0|         0|         0|         0|         0|         0|         0|         0|          0|          0|          0|          0|          0|          0|          0|          0|          0|          0|          0|          0|          0|          0|          0|          0|          0|          0|          0|          1|          0|          0|          0|          0|          0|          0|          0|          0|          0|          0|          0|         5|\n",
            "|     2617|    45|    9|                             240|                            56|                            666|          223|           221|          133|                              6244|               1|               0|               0|               0|         0|         0|         0|         0|         0|         0|         0|         0|         0|          0|          0|          0|          0|          0|          0|          0|          0|          0|          0|          0|          0|          0|          0|          0|          0|          0|          0|          0|          1|          0|          0|          0|          0|          0|          0|          0|          0|          0|          0|          0|         5|\n",
            "|     2612|    59|   10|                             247|                            11|                            636|          228|           219|          124|                              6230|               1|               0|               0|               0|         0|         0|         0|         0|         0|         0|         0|         0|         0|          0|          0|          0|          0|          0|          0|          0|          0|          0|          0|          0|          0|          0|          0|          0|          0|          0|          0|          0|          1|          0|          0|          0|          0|          0|          0|          0|          0|          0|          0|          0|         5|\n",
            "|     2612|   201|    4|                             180|                            51|                            735|          218|           243|          161|                              6222|               1|               0|               0|               0|         0|         0|         0|         0|         0|         0|         0|         0|         0|          0|          0|          0|          0|          0|          0|          0|          0|          1|          0|          0|          0|          0|          0|          0|          0|          0|          0|          0|          0|          0|          0|          0|          0|          0|          0|          0|          0|          0|          0|          0|         5|\n",
            "|     2886|   151|   11|                             371|                            26|                           5253|          234|           240|          136|                              4051|               1|               0|               0|               0|         0|         0|         0|         0|         0|         0|         0|         0|         0|          0|          0|          0|          0|          0|          0|          0|          0|          0|          0|          0|          0|          0|          0|          0|          0|          0|          0|          0|          0|          1|          0|          0|          0|          0|          0|          0|          0|          0|          0|          0|         2|\n",
            "|     2742|   134|   22|                             150|                            69|                           3215|          248|           224|           92|                              6091|               1|               0|               0|               0|         0|         0|         0|         0|         0|         0|         0|         0|         0|          0|          0|          0|          0|          0|          0|          0|          0|          0|          0|          0|          0|          0|          0|          0|          0|          0|          0|          0|          0|          1|          0|          0|          0|          0|          0|          0|          0|          0|          0|          0|         2|\n",
            "|     2609|   214|    7|                             150|                            46|                            771|          213|           247|          170|                              6211|               1|               0|               0|               0|         0|         0|         0|         0|         0|         0|         0|         0|         0|          0|          0|          0|          0|          0|          0|          0|          0|          1|          0|          0|          0|          0|          0|          0|          0|          0|          0|          0|          0|          0|          0|          0|          0|          0|          0|          0|          0|          0|          0|          0|         5|\n",
            "|     2503|   157|    4|                              67|                             4|                            674|          224|           240|          151|                              5600|               1|               0|               0|               0|         0|         0|         0|         0|         0|         0|         0|         0|         0|          0|          0|          0|          0|          0|          0|          0|          0|          1|          0|          0|          0|          0|          0|          0|          0|          0|          0|          0|          0|          0|          0|          0|          0|          0|          0|          0|          0|          0|          0|          0|         5|\n",
            "|     2495|    51|    7|                              42|                             2|                            752|          224|           225|          137|                              5576|               1|               0|               0|               0|         0|         0|         0|         0|         0|         0|         0|         0|         0|          0|          0|          0|          0|          0|          0|          1|          0|          0|          0|          0|          0|          0|          0|          0|          0|          0|          0|          0|          0|          0|          0|          0|          0|          0|          0|          0|          0|          0|          0|          0|         5|\n",
            "|     2610|   259|    1|                             120|                            -1|                            607|          216|           239|          161|                              6096|               1|               0|               0|               0|         0|         0|         0|         0|         0|         0|         0|         0|         0|          0|          0|          0|          0|          0|          0|          0|          0|          0|          0|          0|          0|          0|          0|          0|          0|          0|          0|          0|          1|          0|          0|          0|          0|          0|          0|          0|          0|          0|          0|          0|         5|\n",
            "|     2517|    72|    7|                              85|                             6|                            595|          228|           227|          133|                              5607|               1|               0|               0|               0|         0|         0|         0|         0|         0|         0|         0|         0|         0|          0|          0|          0|          0|          0|          0|          0|          0|          1|          0|          0|          0|          0|          0|          0|          0|          0|          0|          0|          0|          0|          0|          0|          0|          0|          0|          0|          0|          0|          0|          0|         5|\n",
            "|     2504|     0|    4|                              95|                             5|                            691|          214|           232|          156|                              5572|               1|               0|               0|               0|         0|         0|         0|         0|         0|         0|         0|         0|         0|          0|          0|          0|          0|          0|          0|          0|          0|          1|          0|          0|          0|          0|          0|          0|          0|          0|          0|          0|          0|          0|          0|          0|          0|          0|          0|          0|          0|          0|          0|          0|         5|\n",
            "|     2503|    38|    5|                              85|                            10|                            741|          220|           228|          144|                              5555|               1|               0|               0|               0|         0|         0|         0|         0|         0|         0|         0|         0|         0|          0|          0|          0|          0|          0|          0|          0|          0|          1|          0|          0|          0|          0|          0|          0|          0|          0|          0|          0|          0|          0|          0|          0|          0|          0|          0|          0|          0|          0|          0|          0|         5|\n",
            "+---------+------+-----+--------------------------------+------------------------------+-------------------------------+-------------+--------------+-------------+----------------------------------+----------------+----------------+----------------+----------------+----------+----------+----------+----------+----------+----------+----------+----------+----------+-----------+-----------+-----------+-----------+-----------+-----------+-----------+-----------+-----------+-----------+-----------+-----------+-----------+-----------+-----------+-----------+-----------+-----------+-----------+-----------+-----------+-----------+-----------+-----------+-----------+-----------+-----------+-----------+-----------+-----------+-----------+----------+\n",
            "only showing top 20 rows\n",
            "\n"
          ],
          "name": "stdout"
        }
      ]
    },
    {
      "cell_type": "markdown",
      "metadata": {
        "id": "_-IFywYblz5e"
      },
      "source": [
        "Vectorize the features to a single column called features using a lambda function."
      ]
    },
    {
      "cell_type": "code",
      "metadata": {
        "id": "XwmrkR27E47j",
        "colab": {
          "base_uri": "https://localhost:8080/"
        },
        "outputId": "72f994ba-7cee-4d90-ec3d-c99a36b19827"
      },
      "source": [
        "#Answer below:\n",
        "feature_cols = cov.columns[:-1]\n",
        "assembler = VectorAssembler(inputCols=feature_cols, outputCol='features')\n",
        "features = assembler.transform(cov)\n",
        "features.show()"
      ],
      "execution_count": 41,
      "outputs": [
        {
          "output_type": "stream",
          "text": [
            "+---------+------+-----+--------------------------------+------------------------------+-------------------------------+-------------+--------------+-------------+----------------------------------+----------------+----------------+----------------+----------------+----------+----------+----------+----------+----------+----------+----------+----------+----------+-----------+-----------+-----------+-----------+-----------+-----------+-----------+-----------+-----------+-----------+-----------+-----------+-----------+-----------+-----------+-----------+-----------+-----------+-----------+-----------+-----------+-----------+-----------+-----------+-----------+-----------+-----------+-----------+-----------+-----------+-----------+----------+--------------------+\n",
            "|Elevation|Aspect|Slope|Horizontal_Distance_To_Hydrology|Vertical_Distance_To_Hydrology|Horizontal_Distance_To_Roadways|Hillshade_9am|Hillshade_Noon|Hillshade_3pm|Horizontal_Distance_To_Fire_Points|Wilderness_Area1|Wilderness_Area2|Wilderness_Area3|Wilderness_Area4|Soil_Type1|Soil_Type2|Soil_Type3|Soil_Type4|Soil_Type5|Soil_Type6|Soil_Type7|Soil_Type8|Soil_Type9|Soil_Type10|Soil_Type11|Soil_Type12|Soil_Type13|Soil_Type14|Soil_Type15|Soil_Type16|Soil_Type17|Soil_Type18|Soil_Type19|Soil_Type20|Soil_Type21|Soil_Type22|Soil_Type23|Soil_Type24|Soil_Type25|Soil_Type26|Soil_Type27|Soil_Type28|Soil_Type29|Soil_Type30|Soil_Type31|Soil_Type32|Soil_Type33|Soil_Type34|Soil_Type35|Soil_Type36|Soil_Type37|Soil_Type38|Soil_Type39|Soil_Type40|Cover_Type|            features|\n",
            "+---------+------+-----+--------------------------------+------------------------------+-------------------------------+-------------+--------------+-------------+----------------------------------+----------------+----------------+----------------+----------------+----------+----------+----------+----------+----------+----------+----------+----------+----------+-----------+-----------+-----------+-----------+-----------+-----------+-----------+-----------+-----------+-----------+-----------+-----------+-----------+-----------+-----------+-----------+-----------+-----------+-----------+-----------+-----------+-----------+-----------+-----------+-----------+-----------+-----------+-----------+-----------+-----------+-----------+----------+--------------------+\n",
            "|     2596|    51|    3|                             258|                             0|                            510|          221|           232|          148|                              6279|               1|               0|               0|               0|         0|         0|         0|         0|         0|         0|         0|         0|         0|          0|          0|          0|          0|          0|          0|          0|          0|          0|          0|          0|          0|          0|          0|          0|          0|          0|          0|          0|          1|          0|          0|          0|          0|          0|          0|          0|          0|          0|          0|          0|         5|(54,[0,1,2,3,5,6,...|\n",
            "|     2590|    56|    2|                             212|                            -6|                            390|          220|           235|          151|                              6225|               1|               0|               0|               0|         0|         0|         0|         0|         0|         0|         0|         0|         0|          0|          0|          0|          0|          0|          0|          0|          0|          0|          0|          0|          0|          0|          0|          0|          0|          0|          0|          0|          1|          0|          0|          0|          0|          0|          0|          0|          0|          0|          0|          0|         5|(54,[0,1,2,3,4,5,...|\n",
            "|     2804|   139|    9|                             268|                            65|                           3180|          234|           238|          135|                              6121|               1|               0|               0|               0|         0|         0|         0|         0|         0|         0|         0|         0|         0|          0|          0|          1|          0|          0|          0|          0|          0|          0|          0|          0|          0|          0|          0|          0|          0|          0|          0|          0|          0|          0|          0|          0|          0|          0|          0|          0|          0|          0|          0|          0|         2|(54,[0,1,2,3,4,5,...|\n",
            "|     2785|   155|   18|                             242|                           118|                           3090|          238|           238|          122|                              6211|               1|               0|               0|               0|         0|         0|         0|         0|         0|         0|         0|         0|         0|          0|          0|          0|          0|          0|          0|          0|          0|          0|          0|          0|          0|          0|          0|          0|          0|          0|          0|          0|          0|          1|          0|          0|          0|          0|          0|          0|          0|          0|          0|          0|         2|(54,[0,1,2,3,4,5,...|\n",
            "|     2595|    45|    2|                             153|                            -1|                            391|          220|           234|          150|                              6172|               1|               0|               0|               0|         0|         0|         0|         0|         0|         0|         0|         0|         0|          0|          0|          0|          0|          0|          0|          0|          0|          0|          0|          0|          0|          0|          0|          0|          0|          0|          0|          0|          1|          0|          0|          0|          0|          0|          0|          0|          0|          0|          0|          0|         5|(54,[0,1,2,3,4,5,...|\n",
            "|     2579|   132|    6|                             300|                           -15|                             67|          230|           237|          140|                              6031|               1|               0|               0|               0|         0|         0|         0|         0|         0|         0|         0|         0|         0|          0|          0|          0|          0|          0|          0|          0|          0|          0|          0|          0|          0|          0|          0|          0|          0|          0|          0|          0|          1|          0|          0|          0|          0|          0|          0|          0|          0|          0|          0|          0|         2|(54,[0,1,2,3,4,5,...|\n",
            "|     2606|    45|    7|                             270|                             5|                            633|          222|           225|          138|                              6256|               1|               0|               0|               0|         0|         0|         0|         0|         0|         0|         0|         0|         0|          0|          0|          0|          0|          0|          0|          0|          0|          0|          0|          0|          0|          0|          0|          0|          0|          0|          0|          0|          1|          0|          0|          0|          0|          0|          0|          0|          0|          0|          0|          0|         5|(54,[0,1,2,3,4,5,...|\n",
            "|     2605|    49|    4|                             234|                             7|                            573|          222|           230|          144|                              6228|               1|               0|               0|               0|         0|         0|         0|         0|         0|         0|         0|         0|         0|          0|          0|          0|          0|          0|          0|          0|          0|          0|          0|          0|          0|          0|          0|          0|          0|          0|          0|          0|          1|          0|          0|          0|          0|          0|          0|          0|          0|          0|          0|          0|         5|(54,[0,1,2,3,4,5,...|\n",
            "|     2617|    45|    9|                             240|                            56|                            666|          223|           221|          133|                              6244|               1|               0|               0|               0|         0|         0|         0|         0|         0|         0|         0|         0|         0|          0|          0|          0|          0|          0|          0|          0|          0|          0|          0|          0|          0|          0|          0|          0|          0|          0|          0|          0|          1|          0|          0|          0|          0|          0|          0|          0|          0|          0|          0|          0|         5|(54,[0,1,2,3,4,5,...|\n",
            "|     2612|    59|   10|                             247|                            11|                            636|          228|           219|          124|                              6230|               1|               0|               0|               0|         0|         0|         0|         0|         0|         0|         0|         0|         0|          0|          0|          0|          0|          0|          0|          0|          0|          0|          0|          0|          0|          0|          0|          0|          0|          0|          0|          0|          1|          0|          0|          0|          0|          0|          0|          0|          0|          0|          0|          0|         5|(54,[0,1,2,3,4,5,...|\n",
            "|     2612|   201|    4|                             180|                            51|                            735|          218|           243|          161|                              6222|               1|               0|               0|               0|         0|         0|         0|         0|         0|         0|         0|         0|         0|          0|          0|          0|          0|          0|          0|          0|          0|          1|          0|          0|          0|          0|          0|          0|          0|          0|          0|          0|          0|          0|          0|          0|          0|          0|          0|          0|          0|          0|          0|          0|         5|(54,[0,1,2,3,4,5,...|\n",
            "|     2886|   151|   11|                             371|                            26|                           5253|          234|           240|          136|                              4051|               1|               0|               0|               0|         0|         0|         0|         0|         0|         0|         0|         0|         0|          0|          0|          0|          0|          0|          0|          0|          0|          0|          0|          0|          0|          0|          0|          0|          0|          0|          0|          0|          0|          1|          0|          0|          0|          0|          0|          0|          0|          0|          0|          0|         2|(54,[0,1,2,3,4,5,...|\n",
            "|     2742|   134|   22|                             150|                            69|                           3215|          248|           224|           92|                              6091|               1|               0|               0|               0|         0|         0|         0|         0|         0|         0|         0|         0|         0|          0|          0|          0|          0|          0|          0|          0|          0|          0|          0|          0|          0|          0|          0|          0|          0|          0|          0|          0|          0|          1|          0|          0|          0|          0|          0|          0|          0|          0|          0|          0|         2|(54,[0,1,2,3,4,5,...|\n",
            "|     2609|   214|    7|                             150|                            46|                            771|          213|           247|          170|                              6211|               1|               0|               0|               0|         0|         0|         0|         0|         0|         0|         0|         0|         0|          0|          0|          0|          0|          0|          0|          0|          0|          1|          0|          0|          0|          0|          0|          0|          0|          0|          0|          0|          0|          0|          0|          0|          0|          0|          0|          0|          0|          0|          0|          0|         5|(54,[0,1,2,3,4,5,...|\n",
            "|     2503|   157|    4|                              67|                             4|                            674|          224|           240|          151|                              5600|               1|               0|               0|               0|         0|         0|         0|         0|         0|         0|         0|         0|         0|          0|          0|          0|          0|          0|          0|          0|          0|          1|          0|          0|          0|          0|          0|          0|          0|          0|          0|          0|          0|          0|          0|          0|          0|          0|          0|          0|          0|          0|          0|          0|         5|(54,[0,1,2,3,4,5,...|\n",
            "|     2495|    51|    7|                              42|                             2|                            752|          224|           225|          137|                              5576|               1|               0|               0|               0|         0|         0|         0|         0|         0|         0|         0|         0|         0|          0|          0|          0|          0|          0|          0|          1|          0|          0|          0|          0|          0|          0|          0|          0|          0|          0|          0|          0|          0|          0|          0|          0|          0|          0|          0|          0|          0|          0|          0|          0|         5|(54,[0,1,2,3,4,5,...|\n",
            "|     2610|   259|    1|                             120|                            -1|                            607|          216|           239|          161|                              6096|               1|               0|               0|               0|         0|         0|         0|         0|         0|         0|         0|         0|         0|          0|          0|          0|          0|          0|          0|          0|          0|          0|          0|          0|          0|          0|          0|          0|          0|          0|          0|          0|          1|          0|          0|          0|          0|          0|          0|          0|          0|          0|          0|          0|         5|(54,[0,1,2,3,4,5,...|\n",
            "|     2517|    72|    7|                              85|                             6|                            595|          228|           227|          133|                              5607|               1|               0|               0|               0|         0|         0|         0|         0|         0|         0|         0|         0|         0|          0|          0|          0|          0|          0|          0|          0|          0|          1|          0|          0|          0|          0|          0|          0|          0|          0|          0|          0|          0|          0|          0|          0|          0|          0|          0|          0|          0|          0|          0|          0|         5|(54,[0,1,2,3,4,5,...|\n",
            "|     2504|     0|    4|                              95|                             5|                            691|          214|           232|          156|                              5572|               1|               0|               0|               0|         0|         0|         0|         0|         0|         0|         0|         0|         0|          0|          0|          0|          0|          0|          0|          0|          0|          1|          0|          0|          0|          0|          0|          0|          0|          0|          0|          0|          0|          0|          0|          0|          0|          0|          0|          0|          0|          0|          0|          0|         5|(54,[0,2,3,4,5,6,...|\n",
            "|     2503|    38|    5|                              85|                            10|                            741|          220|           228|          144|                              5555|               1|               0|               0|               0|         0|         0|         0|         0|         0|         0|         0|         0|         0|          0|          0|          0|          0|          0|          0|          0|          0|          1|          0|          0|          0|          0|          0|          0|          0|          0|          0|          0|          0|          0|          0|          0|          0|          0|          0|          0|          0|          0|          0|          0|         5|(54,[0,1,2,3,4,5,...|\n",
            "+---------+------+-----+--------------------------------+------------------------------+-------------------------------+-------------+--------------+-------------+----------------------------------+----------------+----------------+----------------+----------------+----------+----------+----------+----------+----------+----------+----------+----------+----------+-----------+-----------+-----------+-----------+-----------+-----------+-----------+-----------+-----------+-----------+-----------+-----------+-----------+-----------+-----------+-----------+-----------+-----------+-----------+-----------+-----------+-----------+-----------+-----------+-----------+-----------+-----------+-----------+-----------+-----------+-----------+----------+--------------------+\n",
            "only showing top 20 rows\n",
            "\n"
          ],
          "name": "stdout"
        }
      ]
    },
    {
      "cell_type": "code",
      "metadata": {
        "id": "UKvre3Xy-AL9",
        "colab": {
          "base_uri": "https://localhost:8080/"
        },
        "outputId": "1a344540-27a2-493a-899a-b2d49205a159"
      },
      "source": [
        "# Split the data into training and test sets (40% held out for testing)\n",
        "#Answer below:\n",
        "train, test = features.randomSplit([0.6,0.4])\n",
        "train.show()"
      ],
      "execution_count": 42,
      "outputs": [
        {
          "output_type": "stream",
          "text": [
            "+---------+------+-----+--------------------------------+------------------------------+-------------------------------+-------------+--------------+-------------+----------------------------------+----------------+----------------+----------------+----------------+----------+----------+----------+----------+----------+----------+----------+----------+----------+-----------+-----------+-----------+-----------+-----------+-----------+-----------+-----------+-----------+-----------+-----------+-----------+-----------+-----------+-----------+-----------+-----------+-----------+-----------+-----------+-----------+-----------+-----------+-----------+-----------+-----------+-----------+-----------+-----------+-----------+-----------+----------+--------------------+\n",
            "|Elevation|Aspect|Slope|Horizontal_Distance_To_Hydrology|Vertical_Distance_To_Hydrology|Horizontal_Distance_To_Roadways|Hillshade_9am|Hillshade_Noon|Hillshade_3pm|Horizontal_Distance_To_Fire_Points|Wilderness_Area1|Wilderness_Area2|Wilderness_Area3|Wilderness_Area4|Soil_Type1|Soil_Type2|Soil_Type3|Soil_Type4|Soil_Type5|Soil_Type6|Soil_Type7|Soil_Type8|Soil_Type9|Soil_Type10|Soil_Type11|Soil_Type12|Soil_Type13|Soil_Type14|Soil_Type15|Soil_Type16|Soil_Type17|Soil_Type18|Soil_Type19|Soil_Type20|Soil_Type21|Soil_Type22|Soil_Type23|Soil_Type24|Soil_Type25|Soil_Type26|Soil_Type27|Soil_Type28|Soil_Type29|Soil_Type30|Soil_Type31|Soil_Type32|Soil_Type33|Soil_Type34|Soil_Type35|Soil_Type36|Soil_Type37|Soil_Type38|Soil_Type39|Soil_Type40|Cover_Type|            features|\n",
            "+---------+------+-----+--------------------------------+------------------------------+-------------------------------+-------------+--------------+-------------+----------------------------------+----------------+----------------+----------------+----------------+----------+----------+----------+----------+----------+----------+----------+----------+----------+-----------+-----------+-----------+-----------+-----------+-----------+-----------+-----------+-----------+-----------+-----------+-----------+-----------+-----------+-----------+-----------+-----------+-----------+-----------+-----------+-----------+-----------+-----------+-----------+-----------+-----------+-----------+-----------+-----------+-----------+-----------+----------+--------------------+\n",
            "|     1859|    18|   12|                              67|                            11|                             90|          211|           215|          139|                               792|               0|               0|               0|               1|         0|         1|         0|         0|         0|         0|         0|         0|         0|          0|          0|          0|          0|          0|          0|          0|          0|          0|          0|          0|          0|          0|          0|          0|          0|          0|          0|          0|          0|          0|          0|          0|          0|          0|          0|          0|          0|          0|          0|          0|         3|(54,[0,1,2,3,4,5,...|\n",
            "|     1860|    18|   13|                              95|                            15|                             90|          210|           213|          138|                               780|               0|               0|               0|               1|         0|         1|         0|         0|         0|         0|         0|         0|         0|          0|          0|          0|          0|          0|          0|          0|          0|          0|          0|          0|          0|          0|          0|          0|          0|          0|          0|          0|          0|          0|          0|          0|          0|          0|          0|          0|          0|          0|          0|          0|         3|(54,[0,1,2,3,4,5,...|\n",
            "|     1861|    35|   14|                              60|                            11|                             85|          218|           209|          124|                               832|               0|               0|               0|               1|         0|         1|         0|         0|         0|         0|         0|         0|         0|          0|          0|          0|          0|          0|          0|          0|          0|          0|          0|          0|          0|          0|          0|          0|          0|          0|          0|          0|          0|          0|          0|          0|          0|          0|          0|          0|          0|          0|          0|          0|         3|(54,[0,1,2,3,4,5,...|\n",
            "|     1867|    20|   15|                             108|                            19|                            120|          208|           206|          132|                               808|               0|               0|               0|               1|         0|         1|         0|         0|         0|         0|         0|         0|         0|          0|          0|          0|          0|          0|          0|          0|          0|          0|          0|          0|          0|          0|          0|          0|          0|          0|          0|          0|          0|          0|          0|          0|          0|          0|          0|          0|          0|          0|          0|          0|         3|(54,[0,1,2,3,4,5,...|\n",
            "|     1871|    22|   22|                              60|                            12|                             85|          200|           187|          115|                               792|               0|               0|               0|               1|         0|         0|         0|         0|         1|         0|         0|         0|         0|          0|          0|          0|          0|          0|          0|          0|          0|          0|          0|          0|          0|          0|          0|          0|          0|          0|          0|          0|          0|          0|          0|          0|          0|          0|          0|          0|          0|          0|          0|          0|         6|(54,[0,1,2,3,4,5,...|\n",
            "|     1871|    37|   19|                             120|                            29|                             90|          216|           195|          107|                               759|               0|               0|               0|               1|         0|         1|         0|         0|         0|         0|         0|         0|         0|          0|          0|          0|          0|          0|          0|          0|          0|          0|          0|          0|          0|          0|          0|          0|          0|          0|          0|          0|          0|          0|          0|          0|          0|          0|          0|          0|          0|          0|          0|          0|         6|(54,[0,1,2,3,4,5,...|\n",
            "|     1872|    27|   21|                             108|                            30|                             67|          206|           190|          112|                               713|               0|               0|               0|               1|         0|         1|         0|         0|         0|         0|         0|         0|         0|          0|          0|          0|          0|          0|          0|          0|          0|          0|          0|          0|          0|          0|          0|          0|          0|          0|          0|          0|          0|          0|          0|          0|          0|          0|          0|          0|          0|          0|          0|          0|         6|(54,[0,1,2,3,4,5,...|\n",
            "|     1874|    18|   14|                               0|                             0|                             90|          208|           209|          135|                               793|               0|               0|               0|               1|         0|         0|         0|         0|         1|         0|         0|         0|         0|          0|          0|          0|          0|          0|          0|          0|          0|          0|          0|          0|          0|          0|          0|          0|          0|          0|          0|          0|          0|          0|          0|          0|          0|          0|          0|          0|          0|          0|          0|          0|         6|(54,[0,1,2,5,6,7,...|\n",
            "|     1876|    25|   17|                             124|                            26|                            150|          209|           200|          123|                               836|               0|               0|               0|               1|         0|         1|         0|         0|         0|         0|         0|         0|         0|          0|          0|          0|          0|          0|          0|          0|          0|          0|          0|          0|          0|          0|          0|          0|          0|          0|          0|          0|          0|          0|          0|          0|          0|          0|          0|          0|          0|          0|          0|          0|         3|(54,[0,1,2,3,4,5,...|\n",
            "|     1876|    29|   19|                             124|                            34|                             90|          210|           195|          115|                               750|               0|               0|               0|               1|         0|         1|         0|         0|         0|         0|         0|         0|         0|          0|          0|          0|          0|          0|          0|          0|          0|          0|          0|          0|          0|          0|          0|          0|          0|          0|          0|          0|          0|          0|          0|          0|          0|          0|          0|          0|          0|          0|          0|          0|         6|(54,[0,1,2,3,4,5,...|\n",
            "|     1877|    19|   18|                              85|                            25|                            108|          204|           199|          127|                               886|               0|               0|               0|               1|         0|         1|         0|         0|         0|         0|         0|         0|         0|          0|          0|          0|          0|          0|          0|          0|          0|          0|          0|          0|          0|          0|          0|          0|          0|          0|          0|          0|          0|          0|          0|          0|          0|          0|          0|          0|          0|          0|          0|          0|         3|(54,[0,1,2,3,4,5,...|\n",
            "|     1879|    18|   14|                               0|                             0|                            120|          208|           210|          137|                               767|               0|               0|               0|               1|         0|         0|         0|         0|         1|         0|         0|         0|         0|          0|          0|          0|          0|          0|          0|          0|          0|          0|          0|          0|          0|          0|          0|          0|          0|          0|          0|          0|          0|          0|          0|          0|          0|          0|          0|          0|          0|          0|          0|          0|         6|(54,[0,1,2,5,6,7,...|\n",
            "|     1879|    23|   18|                             108|                            28|                            134|          207|           200|          124|                               875|               0|               0|               0|               1|         0|         1|         0|         0|         0|         0|         0|         0|         0|          0|          0|          0|          0|          0|          0|          0|          0|          0|          0|          0|          0|          0|          0|          0|          0|          0|          0|          0|          0|          0|          0|          0|          0|          0|          0|          0|          0|          0|          0|          0|         3|(54,[0,1,2,3,4,5,...|\n",
            "|     1880|    34|   20|                             124|                            17|                             90|          212|           192|          107|                               787|               0|               0|               0|               1|         1|         0|         0|         0|         0|         0|         0|         0|         0|          0|          0|          0|          0|          0|          0|          0|          0|          0|          0|          0|          0|          0|          0|          0|          0|          0|          0|          0|          0|          0|          0|          0|          0|          0|          0|          0|          0|          0|          0|          0|         6|(54,[0,1,2,3,4,5,...|\n",
            "|     1880|    38|   21|                             150|                            38|                            120|          215|           189|          100|                               787|               0|               0|               0|               1|         0|         1|         0|         0|         0|         0|         0|         0|         0|          0|          0|          0|          0|          0|          0|          0|          0|          0|          0|          0|          0|          0|          0|          0|          0|          0|          0|          0|          0|          0|          0|          0|          0|          0|          0|          0|          0|          0|          0|          0|         6|(54,[0,1,2,3,4,5,...|\n",
            "|     1883|    22|   26|                              85|                            32|                             67|          194|           175|          106|                               618|               0|               0|               0|               1|         0|         0|         0|         0|         1|         0|         0|         0|         0|          0|          0|          0|          0|          0|          0|          0|          0|          0|          0|          0|          0|          0|          0|          0|          0|          0|          0|          0|          0|          0|          0|          0|          0|          0|          0|          0|          0|          0|          0|          0|         6|(54,[0,1,2,3,4,5,...|\n",
            "|     1884|    20|   18|                             108|                            18|                             85|          204|           198|          126|                               779|               0|               0|               0|               1|         1|         0|         0|         0|         0|         0|         0|         0|         0|          0|          0|          0|          0|          0|          0|          0|          0|          0|          0|          0|          0|          0|          0|          0|          0|          0|          0|          0|          0|          0|          0|          0|          0|          0|          0|          0|          0|          0|          0|          0|         6|(54,[0,1,2,3,4,5,...|\n",
            "|     1885|    30|   19|                             134|                            35|                            162|          211|           194|          113|                               864|               0|               0|               0|               1|         0|         1|         0|         0|         0|         0|         0|         0|         0|          0|          0|          0|          0|          0|          0|          0|          0|          0|          0|          0|          0|          0|          0|          0|          0|          0|          0|          0|          0|          0|          0|          0|          0|          0|          0|          0|          0|          0|          0|          0|         3|(54,[0,1,2,3,4,5,...|\n",
            "|     1886|    43|   20|                              30|                            12|                            124|          220|           193|          100|                               752|               0|               0|               0|               1|         0|         0|         0|         0|         1|         0|         0|         0|         0|          0|          0|          0|          0|          0|          0|          0|          0|          0|          0|          0|          0|          0|          0|          0|          0|          0|          0|          0|          0|          0|          0|          0|          0|          0|          0|          0|          0|          0|          0|          0|         6|(54,[0,1,2,3,4,5,...|\n",
            "|     1887|    13|   27|                              95|                            40|                             85|          184|           175|          117|                               612|               0|               0|               0|               1|         0|         0|         0|         0|         1|         0|         0|         0|         0|          0|          0|          0|          0|          0|          0|          0|          0|          0|          0|          0|          0|          0|          0|          0|          0|          0|          0|          0|          0|          0|          0|          0|          0|          0|          0|          0|          0|          0|          0|          0|         6|(54,[0,1,2,3,4,5,...|\n",
            "+---------+------+-----+--------------------------------+------------------------------+-------------------------------+-------------+--------------+-------------+----------------------------------+----------------+----------------+----------------+----------------+----------+----------+----------+----------+----------+----------+----------+----------+----------+-----------+-----------+-----------+-----------+-----------+-----------+-----------+-----------+-----------+-----------+-----------+-----------+-----------+-----------+-----------+-----------+-----------+-----------+-----------+-----------+-----------+-----------+-----------+-----------+-----------+-----------+-----------+-----------+-----------+-----------+-----------+----------+--------------------+\n",
            "only showing top 20 rows\n",
            "\n"
          ],
          "name": "stdout"
        }
      ]
    },
    {
      "cell_type": "code",
      "metadata": {
        "id": "k0Sx4U14-Lpg"
      },
      "source": [
        "from pyspark.ml.classification import RandomForestClassifier\n",
        "\n",
        "# Define a RandomForest model.\n",
        "rf = RandomForestClassifier(featuresCol='features', labelCol='Cover_Type')\n",
        "\n",
        "rf_model = rf.fit(train)"
      ],
      "execution_count": 43,
      "outputs": []
    },
    {
      "cell_type": "markdown",
      "metadata": {
        "id": "9at6mz78mK4v"
      },
      "source": [
        "Fit the model and predict on the test data."
      ]
    },
    {
      "cell_type": "code",
      "metadata": {
        "id": "8FhL9nJiIAXG",
        "colab": {
          "base_uri": "https://localhost:8080/"
        },
        "outputId": "e13368b8-b61f-40ba-c657-ea9c408f18ba"
      },
      "source": [
        "#Answer below:\n",
        "predictions = rf_model.transform(test)\n",
        "predictions.show(10)"
      ],
      "execution_count": 44,
      "outputs": [
        {
          "output_type": "stream",
          "text": [
            "+---------+------+-----+--------------------------------+------------------------------+-------------------------------+-------------+--------------+-------------+----------------------------------+----------------+----------------+----------------+----------------+----------+----------+----------+----------+----------+----------+----------+----------+----------+-----------+-----------+-----------+-----------+-----------+-----------+-----------+-----------+-----------+-----------+-----------+-----------+-----------+-----------+-----------+-----------+-----------+-----------+-----------+-----------+-----------+-----------+-----------+-----------+-----------+-----------+-----------+-----------+-----------+-----------+-----------+----------+--------------------+--------------------+--------------------+----------+\n",
            "|Elevation|Aspect|Slope|Horizontal_Distance_To_Hydrology|Vertical_Distance_To_Hydrology|Horizontal_Distance_To_Roadways|Hillshade_9am|Hillshade_Noon|Hillshade_3pm|Horizontal_Distance_To_Fire_Points|Wilderness_Area1|Wilderness_Area2|Wilderness_Area3|Wilderness_Area4|Soil_Type1|Soil_Type2|Soil_Type3|Soil_Type4|Soil_Type5|Soil_Type6|Soil_Type7|Soil_Type8|Soil_Type9|Soil_Type10|Soil_Type11|Soil_Type12|Soil_Type13|Soil_Type14|Soil_Type15|Soil_Type16|Soil_Type17|Soil_Type18|Soil_Type19|Soil_Type20|Soil_Type21|Soil_Type22|Soil_Type23|Soil_Type24|Soil_Type25|Soil_Type26|Soil_Type27|Soil_Type28|Soil_Type29|Soil_Type30|Soil_Type31|Soil_Type32|Soil_Type33|Soil_Type34|Soil_Type35|Soil_Type36|Soil_Type37|Soil_Type38|Soil_Type39|Soil_Type40|Cover_Type|            features|       rawPrediction|         probability|prediction|\n",
            "+---------+------+-----+--------------------------------+------------------------------+-------------------------------+-------------+--------------+-------------+----------------------------------+----------------+----------------+----------------+----------------+----------+----------+----------+----------+----------+----------+----------+----------+----------+-----------+-----------+-----------+-----------+-----------+-----------+-----------+-----------+-----------+-----------+-----------+-----------+-----------+-----------+-----------+-----------+-----------+-----------+-----------+-----------+-----------+-----------+-----------+-----------+-----------+-----------+-----------+-----------+-----------+-----------+-----------+----------+--------------------+--------------------+--------------------+----------+\n",
            "|     1863|    37|   17|                             120|                            18|                             90|          217|           202|          115|                               769|               0|               0|               0|               1|         0|         1|         0|         0|         0|         0|         0|         0|         0|          0|          0|          0|          0|          0|          0|          0|          0|          0|          0|          0|          0|          0|          0|          0|          0|          0|          0|          0|          0|          0|          0|          0|          0|          0|          0|          0|          0|          0|          0|          0|         6|(54,[0,1,2,3,4,5,...|[0.0,1.0971589667...|[0.0,0.0548579483...|       3.0|\n",
            "|     1866|    23|   14|                              85|                            16|                            108|          212|           210|          133|                               819|               0|               0|               0|               1|         0|         1|         0|         0|         0|         0|         0|         0|         0|          0|          0|          0|          0|          0|          0|          0|          0|          0|          0|          0|          0|          0|          0|          0|          0|          0|          0|          0|          0|          0|          0|          0|          0|          0|          0|          0|          0|          0|          0|          0|         3|(54,[0,1,2,3,4,5,...|[0.0,1.0971589667...|[0.0,0.0548579483...|       3.0|\n",
            "|     1868|    27|   16|                              67|                            17|                             95|          212|           204|          125|                               859|               0|               0|               0|               1|         0|         1|         0|         0|         0|         0|         0|         0|         0|          0|          0|          0|          0|          0|          0|          0|          0|          0|          0|          0|          0|          0|          0|          0|          0|          0|          0|          0|          0|          0|          0|          0|          0|          0|          0|          0|          0|          0|          0|          0|         3|(54,[0,1,2,3,4,5,...|[0.0,1.0971589667...|[0.0,0.0548579483...|       3.0|\n",
            "|     1871|    36|   19|                             134|                            26|                            120|          215|           194|          107|                               797|               0|               0|               0|               1|         0|         1|         0|         0|         0|         0|         0|         0|         0|          0|          0|          0|          0|          0|          0|          0|          0|          0|          0|          0|          0|          0|          0|          0|          0|          0|          0|          0|          0|          0|          0|          0|          0|          0|          0|          0|          0|          0|          0|          0|         6|(54,[0,1,2,3,4,5,...|[0.0,1.0971589667...|[0.0,0.0548579483...|       3.0|\n",
            "|     1872|    12|   27|                              85|                            25|                             60|          182|           174|          118|                               577|               0|               0|               0|               1|         0|         0|         0|         0|         1|         0|         0|         0|         0|          0|          0|          0|          0|          0|          0|          0|          0|          0|          0|          0|          0|          0|          0|          0|          0|          0|          0|          0|          0|          0|          0|          0|          0|          0|          0|          0|          0|          0|          0|          0|         6|(54,[0,1,2,3,4,5,...|[0.0,1.5930189090...|[0.0,0.0796509454...|       3.0|\n",
            "|     1872|    27|   16|                              95|                            22|                            124|          212|           205|          126|                               847|               0|               0|               0|               1|         0|         1|         0|         0|         0|         0|         0|         0|         0|          0|          0|          0|          0|          0|          0|          0|          0|          0|          0|          0|          0|          0|          0|          0|          0|          0|          0|          0|          0|          0|          0|          0|          0|          0|          0|          0|          0|          0|          0|          0|         3|(54,[0,1,2,3,4,5,...|[0.0,1.0971589667...|[0.0,0.0548579483...|       3.0|\n",
            "|     1872|    35|   21|                             120|                            18|                             85|          213|           189|          104|                               797|               0|               0|               0|               1|         1|         0|         0|         0|         0|         0|         0|         0|         0|          0|          0|          0|          0|          0|          0|          0|          0|          0|          0|          0|          0|          0|          0|          0|          0|          0|          0|          0|          0|          0|          0|          0|          0|          0|          0|          0|          0|          0|          0|          0|         6|(54,[0,1,2,3,4,5,...|[0.0,1.7329314017...|[0.0,0.0866465700...|       3.0|\n",
            "|     1873|    30|   19|                              67|                            21|                             85|          211|           195|          114|                               899|               0|               0|               0|               1|         0|         1|         0|         0|         0|         0|         0|         0|         0|          0|          0|          0|          0|          0|          0|          0|          0|          0|          0|          0|          0|          0|          0|          0|          0|          0|          0|          0|          0|          0|          0|          0|          0|          0|          0|          0|          0|          0|          0|          0|         3|(54,[0,1,2,3,4,5,...|[0.0,1.0971589667...|[0.0,0.0548579483...|       3.0|\n",
            "|     1877|    27|   24|                              90|                            18|                             95|          201|           179|          104|                               780|               0|               0|               0|               1|         0|         0|         0|         0|         1|         0|         0|         0|         0|          0|          0|          0|          0|          0|          0|          0|          0|          0|          0|          0|          0|          0|          0|          0|          0|          0|          0|          0|          0|          0|          0|          0|          0|          0|          0|          0|          0|          0|          0|          0|         6|(54,[0,1,2,3,4,5,...|[0.0,1.5937082472...|[0.0,0.0796854123...|       3.0|\n",
            "|     1877|    28|   22|                             127|                            35|                             85|          205|           185|          107|                               706|               0|               0|               0|               1|         0|         1|         0|         0|         0|         0|         0|         0|         0|          0|          0|          0|          0|          0|          0|          0|          0|          0|          0|          0|          0|          0|          0|          0|          0|          0|          0|          0|          0|          0|          0|          0|          0|          0|          0|          0|          0|          0|          0|          0|         6|(54,[0,1,2,3,4,5,...|[0.0,1.1509791526...|[0.0,0.0575489576...|       3.0|\n",
            "+---------+------+-----+--------------------------------+------------------------------+-------------------------------+-------------+--------------+-------------+----------------------------------+----------------+----------------+----------------+----------------+----------+----------+----------+----------+----------+----------+----------+----------+----------+-----------+-----------+-----------+-----------+-----------+-----------+-----------+-----------+-----------+-----------+-----------+-----------+-----------+-----------+-----------+-----------+-----------+-----------+-----------+-----------+-----------+-----------+-----------+-----------+-----------+-----------+-----------+-----------+-----------+-----------+-----------+----------+--------------------+--------------------+--------------------+----------+\n",
            "only showing top 10 rows\n",
            "\n"
          ],
          "name": "stdout"
        }
      ]
    },
    {
      "cell_type": "markdown",
      "metadata": {
        "id": "I6TyrGJsmULB"
      },
      "source": [
        "Build a classification matrix to review the model preformance with the data test set."
      ]
    },
    {
      "cell_type": "code",
      "metadata": {
        "id": "A3D-XbnTjTNT",
        "colab": {
          "base_uri": "https://localhost:8080/"
        },
        "outputId": "1d85ae5b-9a9f-40cc-9a4a-b438f5e64e7c"
      },
      "source": [
        "from sklearn.metrics import confusion_matrix\n",
        "#Answer below:\n",
        "test_ = predictions.select('Cover_Type')\n",
        "test_pred = predictions.select('prediction')\n",
        "\n",
        "confusion_matrix(test_.collect(), test_pred.collect())"
      ],
      "execution_count": 45,
      "outputs": [
        {
          "output_type": "execute_result",
          "data": {
            "text/plain": [
              "array([[60462, 24155,     0,     0,     0,     0,     0],\n",
              "       [24555, 87480,  1041,     0,     0,     0,     0],\n",
              "       [    0,  4968,  9226,     0,     0,     0,     0],\n",
              "       [    0,    12,  1056,     0,     0,     0,     0],\n",
              "       [    0,  3818,     0,     0,     0,     0,     0],\n",
              "       [    0,  2948,  4010,     0,     0,     0,     0],\n",
              "       [ 8167,    40,     0,     0,     0,     0,     0]])"
            ]
          },
          "metadata": {
            "tags": []
          },
          "execution_count": 45
        }
      ]
    }
  ]
}