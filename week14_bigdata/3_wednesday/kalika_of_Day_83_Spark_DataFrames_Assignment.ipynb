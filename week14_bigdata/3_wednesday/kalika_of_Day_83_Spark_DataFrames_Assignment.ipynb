{
  "nbformat": 4,
  "nbformat_minor": 0,
  "metadata": {
    "colab": {
      "name": "kalika of Day_83_Spark_DataFrames_Assignment.ipynb",
      "provenance": [],
      "collapsed_sections": []
    },
    "kernelspec": {
      "name": "python3",
      "display_name": "Python 3"
    }
  },
  "cells": [
    {
      "cell_type": "markdown",
      "metadata": {
        "id": "Ry4VDk_llCLY"
      },
      "source": [
        "## Day 83 Lecture 1 Assignment\n",
        "\n",
        "In this assignment, we will learn about working in Spark.\n"
      ]
    },
    {
      "cell_type": "markdown",
      "metadata": {
        "id": "Pt0hltnjnrSZ"
      },
      "source": [
        "First update Google Compute."
      ]
    },
    {
      "cell_type": "code",
      "metadata": {
        "id": "QeM_ZK0ARu4y",
        "colab": {
          "base_uri": "https://localhost:8080/"
        },
        "outputId": "9542068e-5564-47f1-985b-78c2f802a090"
      },
      "source": [
        "!apt-get update"
      ],
      "execution_count": 1,
      "outputs": [
        {
          "output_type": "stream",
          "text": [
            "\r0% [Working]\r            \rHit:1 https://cloud.r-project.org/bin/linux/ubuntu bionic-cran40/ InRelease\n",
            "Ign:2 https://developer.download.nvidia.com/compute/cuda/repos/ubuntu1804/x86_64  InRelease\n",
            "Hit:3 http://ppa.launchpad.net/c2d4u.team/c2d4u4.0+/ubuntu bionic InRelease\n",
            "Hit:4 http://security.ubuntu.com/ubuntu bionic-security InRelease\n",
            "Hit:5 http://archive.ubuntu.com/ubuntu bionic InRelease\n",
            "Ign:6 https://developer.download.nvidia.com/compute/machine-learning/repos/ubuntu1804/x86_64  InRelease\n",
            "Hit:7 https://developer.download.nvidia.com/compute/cuda/repos/ubuntu1804/x86_64  Release\n",
            "Hit:8 https://developer.download.nvidia.com/compute/machine-learning/repos/ubuntu1804/x86_64  Release\n",
            "Hit:9 http://archive.ubuntu.com/ubuntu bionic-updates InRelease\n",
            "Hit:10 http://ppa.launchpad.net/cran/libgit2/ubuntu bionic InRelease\n",
            "Hit:11 http://archive.ubuntu.com/ubuntu bionic-backports InRelease\n",
            "Hit:12 http://ppa.launchpad.net/graphics-drivers/ppa/ubuntu bionic InRelease\n",
            "Reading package lists... Done\n"
          ],
          "name": "stdout"
        }
      ]
    },
    {
      "cell_type": "markdown",
      "metadata": {
        "id": "Q5voJffBnwcm"
      },
      "source": [
        "Start a Spark session, by installing the necessary pieces."
      ]
    },
    {
      "cell_type": "code",
      "metadata": {
        "id": "wen6A2I2RYVV"
      },
      "source": [
        "!apt-get install openjdk-8-jdk-headless -qq > /dev/null\n",
        "!wget -q https://www-eu.apache.org/dist/spark/spark-2.4.7/spark-2.4.7-bin-hadoop2.7.tgz\n",
        "!tar xf spark-2.4.7-bin-hadoop2.7.tgz"
      ],
      "execution_count": 2,
      "outputs": []
    },
    {
      "cell_type": "markdown",
      "metadata": {
        "id": "zm3pHHHxNmkW"
      },
      "source": [
        "Set up the environmental variables."
      ]
    },
    {
      "cell_type": "code",
      "metadata": {
        "id": "VW40H37fIb0t"
      },
      "source": [
        "import os\n",
        "os.environ[\"JAVA_HOME\"] = \"/usr/lib/jvm/java-8-openjdk-amd64\"\n",
        "os.environ[\"SPARK_HOME\"] = \"/content/spark-2.4.7-bin-hadoop2.7\""
      ],
      "execution_count": 3,
      "outputs": []
    },
    {
      "cell_type": "markdown",
      "metadata": {
        "id": "1vdAA2aoNqhz"
      },
      "source": [
        "Install Pyspark. ***Note: The version must match the version of Spark that you have installed earlier***."
      ]
    },
    {
      "cell_type": "code",
      "metadata": {
        "id": "274gUgKyIjnC",
        "colab": {
          "base_uri": "https://localhost:8080/"
        },
        "outputId": "4cb8d106-51c4-4662-ad13-db079844e804"
      },
      "source": [
        "!pip install -q findspark\n",
        "!pip install pyspark==2.4.7"
      ],
      "execution_count": 4,
      "outputs": [
        {
          "output_type": "stream",
          "text": [
            "Requirement already satisfied: pyspark==2.4.7 in /usr/local/lib/python3.6/dist-packages (2.4.7)\n",
            "Requirement already satisfied: py4j==0.10.7 in /usr/local/lib/python3.6/dist-packages (from pyspark==2.4.7) (0.10.7)\n"
          ],
          "name": "stdout"
        }
      ]
    },
    {
      "cell_type": "markdown",
      "metadata": {
        "id": "AtsLvt2JlI7X"
      },
      "source": [
        "Download and save the video games sales CSV file to your Colab Data folder on Google Drive. \n",
        "\n",
        "The file can be downloaded from link [here](https://tf-assets-prod.s3.amazonaws.com/tf-curric/data-science/Data%20Sets%20Big%20Data/Video_Games_Sales_as_at_22_Dec_2016.csv), download it and save it to your Google Colab Data folder on gdrive.\n"
      ]
    },
    {
      "cell_type": "code",
      "metadata": {
        "colab": {
          "base_uri": "https://localhost:8080/"
        },
        "id": "gYyn095dfz_G",
        "outputId": "133225a0-dc17-4225-ed1c-9857ef5ab057"
      },
      "source": [
        "from google.colab import drive\n",
        "drive.mount('/content/drive')"
      ],
      "execution_count": 5,
      "outputs": [
        {
          "output_type": "stream",
          "text": [
            "Drive already mounted at /content/drive; to attempt to forcibly remount, call drive.mount(\"/content/drive\", force_remount=True).\n"
          ],
          "name": "stdout"
        }
      ]
    },
    {
      "cell_type": "markdown",
      "metadata": {
        "id": "M1TXjLAWN3Wd"
      },
      "source": [
        "Mount your Google drive for access in Google Colab Notebooks."
      ]
    },
    {
      "cell_type": "markdown",
      "metadata": {
        "id": "aIuuMcVvPH9l"
      },
      "source": [
        "Change your directory to the Colab Data folder where you saved the CSV file."
      ]
    },
    {
      "cell_type": "code",
      "metadata": {
        "id": "X8_ke5oAkBU6"
      },
      "source": [
        "os.chdir('/content/drive/MyDrive/Thinkful/Data')"
      ],
      "execution_count": 6,
      "outputs": []
    },
    {
      "cell_type": "markdown",
      "metadata": {
        "id": "hcU6yqpgO_of"
      },
      "source": [
        "Set your local session."
      ]
    },
    {
      "cell_type": "code",
      "metadata": {
        "id": "BRiTkZyDebpj"
      },
      "source": [
        "APP_NAME = \"Day83\"\n",
        "SPARK_URL = \"local[*]\""
      ],
      "execution_count": 7,
      "outputs": []
    },
    {
      "cell_type": "markdown",
      "metadata": {
        "id": "wnab97jBn7kS"
      },
      "source": [
        "Print the files in your working directory to check for the Video games data CSV."
      ]
    },
    {
      "cell_type": "code",
      "metadata": {
        "id": "UnwbVoRKSipS",
        "colab": {
          "base_uri": "https://localhost:8080/",
          "height": 35
        },
        "outputId": "ce7b3998-03a0-49bd-d98d-86dec5b3c4fa"
      },
      "source": [
        "os.getcwd()"
      ],
      "execution_count": 8,
      "outputs": [
        {
          "output_type": "execute_result",
          "data": {
            "application/vnd.google.colaboratory.intrinsic+json": {
              "type": "string"
            },
            "text/plain": [
              "'/content/drive/MyDrive/Thinkful/Data'"
            ]
          },
          "metadata": {
            "tags": []
          },
          "execution_count": 8
        }
      ]
    },
    {
      "cell_type": "code",
      "metadata": {
        "colab": {
          "base_uri": "https://localhost:8080/"
        },
        "id": "94pv6hMNhGhT",
        "outputId": "7fbade28-4856-4901-de10-6b52feae6d4e"
      },
      "source": [
        "!apt-get update\r\n",
        "!apt-get install openjdk-8-jdk-headless -qq > /dev/null\r\n",
        "!wget -q https://archive.apache.org/dist/spark/spark-2.4.7/spark-2.4.7-bin-hadoop2.7.tgz\r\n",
        "!tar xf spark-2.4.7-bin-hadoop2.7.tgz\r\n",
        "import os\r\n",
        "os.environ[\"JAVA_HOME\"] = \"/usr/lib/jvm/java-8-openjdk-amd64\"\r\n",
        "os.environ[\"SPARK_HOME\"] = \"/content/spark-2.4.7-bin-hadoop2.7\"\r\n",
        "!pip install -q findspark\r\n",
        "!pip install pyspark==2.4.7"
      ],
      "execution_count": 9,
      "outputs": [
        {
          "output_type": "stream",
          "text": [
            "\r0% [Working]\r            \rHit:1 https://cloud.r-project.org/bin/linux/ubuntu bionic-cran40/ InRelease\n",
            "\r0% [Connecting to archive.ubuntu.com (91.189.88.152)] [Connecting to security.u\r0% [1 InRelease gpgv 3,626 B] [Connecting to archive.ubuntu.com (91.189.88.152)\r                                                                               \rIgn:2 https://developer.download.nvidia.com/compute/cuda/repos/ubuntu1804/x86_64  InRelease\n",
            "\r0% [1 InRelease gpgv 3,626 B] [Connecting to archive.ubuntu.com (91.189.88.152)\r                                                                               \rHit:3 http://security.ubuntu.com/ubuntu bionic-security InRelease\n",
            "Hit:4 http://ppa.launchpad.net/c2d4u.team/c2d4u4.0+/ubuntu bionic InRelease\n",
            "Ign:5 https://developer.download.nvidia.com/compute/machine-learning/repos/ubuntu1804/x86_64  InRelease\n",
            "Hit:6 https://developer.download.nvidia.com/compute/cuda/repos/ubuntu1804/x86_64  Release\n",
            "Hit:7 https://developer.download.nvidia.com/compute/machine-learning/repos/ubuntu1804/x86_64  Release\n",
            "Hit:8 http://ppa.launchpad.net/cran/libgit2/ubuntu bionic InRelease\n",
            "Hit:9 http://archive.ubuntu.com/ubuntu bionic InRelease\n",
            "Hit:10 http://archive.ubuntu.com/ubuntu bionic-updates InRelease\n",
            "Hit:11 http://ppa.launchpad.net/graphics-drivers/ppa/ubuntu bionic InRelease\n",
            "Hit:12 http://archive.ubuntu.com/ubuntu bionic-backports InRelease\n",
            "Reading package lists... Done\n",
            "Requirement already satisfied: pyspark==2.4.7 in /usr/local/lib/python3.6/dist-packages (2.4.7)\n",
            "Requirement already satisfied: py4j==0.10.7 in /usr/local/lib/python3.6/dist-packages (from pyspark==2.4.7) (0.10.7)\n"
          ],
          "name": "stdout"
        }
      ]
    },
    {
      "cell_type": "markdown",
      "metadata": {
        "id": "GIWPcl0PoXsv"
      },
      "source": [
        "Start the Spark Session."
      ]
    },
    {
      "cell_type": "code",
      "metadata": {
        "id": "flNZrdlNDuas"
      },
      "source": [
        "from pyspark.sql import SparkSession\n",
        "from pyspark import SparkContext, SparkConf\n",
        "spark = SparkSession.builder.appName(APP_NAME).getOrCreate()"
      ],
      "execution_count": 10,
      "outputs": []
    },
    {
      "cell_type": "markdown",
      "metadata": {
        "id": "yo2CIL4XPRzn"
      },
      "source": [
        "Load the CSV file as a Spark dataframe."
      ]
    },
    {
      "cell_type": "code",
      "metadata": {
        "id": "wvrsUPFKUgWJ"
      },
      "source": [
        "video = spark.read.format(\"csv\").option(\"header\", \"true\").option(\"inferSchema\", \"true\").load(\"Video_Games_Sales_as_at_22_Dec_2016.csv\")"
      ],
      "execution_count": 11,
      "outputs": []
    },
    {
      "cell_type": "markdown",
      "metadata": {
        "id": "j1OiHvakqnM1"
      },
      "source": [
        "Review the data by applying the show command."
      ]
    },
    {
      "cell_type": "code",
      "metadata": {
        "id": "0yzV32sgqidJ",
        "colab": {
          "base_uri": "https://localhost:8080/"
        },
        "outputId": "9b361c94-60e9-4215-ace1-3d4daf57068b"
      },
      "source": [
        "video.show()"
      ],
      "execution_count": 12,
      "outputs": [
        {
          "output_type": "stream",
          "text": [
            "+--------------------+--------+---------------+------------+--------------------+--------+--------+--------+-----------+------------+------------+------------+----------+----------+-------------------+------+\n",
            "|                Name|Platform|Year_of_Release|       Genre|           Publisher|NA_Sales|EU_Sales|JP_Sales|Other_Sales|Global_Sales|Critic_Score|Critic_Count|User_Score|User_Count|          Developer|Rating|\n",
            "+--------------------+--------+---------------+------------+--------------------+--------+--------+--------+-----------+------------+------------+------------+----------+----------+-------------------+------+\n",
            "|          Wii Sports|     Wii|           2006|      Sports|            Nintendo|   41.36|   28.96|    3.77|       8.45|       82.53|          76|          51|         8|       322|           Nintendo|     E|\n",
            "|   Super Mario Bros.|     NES|           1985|    Platform|            Nintendo|   29.08|    3.58|    6.81|       0.77|       40.24|        null|        null|      null|      null|               null|  null|\n",
            "|      Mario Kart Wii|     Wii|           2008|      Racing|            Nintendo|   15.68|   12.76|    3.79|       3.29|       35.52|          82|          73|       8.3|       709|           Nintendo|     E|\n",
            "|   Wii Sports Resort|     Wii|           2009|      Sports|            Nintendo|   15.61|   10.93|    3.28|       2.95|       32.77|          80|          73|         8|       192|           Nintendo|     E|\n",
            "|Pokemon Red/Pokem...|      GB|           1996|Role-Playing|            Nintendo|   11.27|    8.89|   10.22|        1.0|       31.37|        null|        null|      null|      null|               null|  null|\n",
            "|              Tetris|      GB|           1989|      Puzzle|            Nintendo|    23.2|    2.26|    4.22|       0.58|       30.26|        null|        null|      null|      null|               null|  null|\n",
            "|New Super Mario B...|      DS|           2006|    Platform|            Nintendo|   11.28|    9.14|     6.5|       2.88|        29.8|          89|          65|       8.5|       431|           Nintendo|     E|\n",
            "|            Wii Play|     Wii|           2006|        Misc|            Nintendo|   13.96|    9.18|    2.93|       2.84|       28.92|          58|          41|       6.6|       129|           Nintendo|     E|\n",
            "|New Super Mario B...|     Wii|           2009|    Platform|            Nintendo|   14.44|    6.94|     4.7|       2.24|       28.32|          87|          80|       8.4|       594|           Nintendo|     E|\n",
            "|           Duck Hunt|     NES|           1984|     Shooter|            Nintendo|   26.93|    0.63|    0.28|       0.47|       28.31|        null|        null|      null|      null|               null|  null|\n",
            "|          Nintendogs|      DS|           2005|  Simulation|            Nintendo|    9.05|   10.95|    1.93|       2.74|       24.67|        null|        null|      null|      null|               null|  null|\n",
            "|       Mario Kart DS|      DS|           2005|      Racing|            Nintendo|    9.71|    7.47|    4.13|        1.9|       23.21|          91|          64|       8.6|       464|           Nintendo|     E|\n",
            "|Pokemon Gold/Poke...|      GB|           1999|Role-Playing|            Nintendo|     9.0|    6.18|     7.2|       0.71|        23.1|        null|        null|      null|      null|               null|  null|\n",
            "|             Wii Fit|     Wii|           2007|      Sports|            Nintendo|    8.92|    8.03|     3.6|       2.15|        22.7|          80|          63|       7.7|       146|           Nintendo|     E|\n",
            "|  Kinect Adventures!|    X360|           2010|        Misc|Microsoft Game St...|    15.0|    4.89|    0.24|       1.69|       21.81|          61|          45|       6.3|       106|Good Science Studio|     E|\n",
            "|        Wii Fit Plus|     Wii|           2009|      Sports|            Nintendo|    9.01|    8.49|    2.53|       1.77|       21.79|          80|          33|       7.4|        52|           Nintendo|     E|\n",
            "|  Grand Theft Auto V|     PS3|           2013|      Action|Take-Two Interactive|    7.02|    9.09|    0.98|       3.96|       21.04|          97|          50|       8.2|      3994|     Rockstar North|     M|\n",
            "|Grand Theft Auto:...|     PS2|           2004|      Action|Take-Two Interactive|    9.43|     0.4|    0.41|      10.57|       20.81|          95|          80|         9|      1588|     Rockstar North|     M|\n",
            "|   Super Mario World|    SNES|           1990|    Platform|            Nintendo|   12.78|    3.75|    3.54|       0.55|       20.61|        null|        null|      null|      null|               null|  null|\n",
            "|Brain Age: Train ...|      DS|           2005|        Misc|            Nintendo|    4.74|     9.2|    4.16|       2.04|       20.15|          77|          58|       7.9|        50|           Nintendo|     E|\n",
            "+--------------------+--------+---------------+------------+--------------------+--------+--------+--------+-----------+------------+------------+------------+----------+----------+-------------------+------+\n",
            "only showing top 20 rows\n",
            "\n"
          ],
          "name": "stdout"
        }
      ]
    },
    {
      "cell_type": "markdown",
      "metadata": {
        "id": "YCk7pH12ANe-"
      },
      "source": [
        "Examine the data frame by printing the schema."
      ]
    },
    {
      "cell_type": "code",
      "metadata": {
        "id": "1w9I_FE8AXi-",
        "colab": {
          "base_uri": "https://localhost:8080/"
        },
        "outputId": "a0f66734-f938-49f5-fe84-e2f835301958"
      },
      "source": [
        "#Answer below:\r\n",
        "video.printSchema()"
      ],
      "execution_count": 26,
      "outputs": [
        {
          "output_type": "stream",
          "text": [
            "root\n",
            " |-- Name: string (nullable = true)\n",
            " |-- Platform: string (nullable = true)\n",
            " |-- Year_of_Release: string (nullable = true)\n",
            " |-- Genre: string (nullable = true)\n",
            " |-- Publisher: string (nullable = true)\n",
            " |-- NA_Sales: double (nullable = true)\n",
            " |-- EU_Sales: double (nullable = true)\n",
            " |-- JP_Sales: double (nullable = true)\n",
            " |-- Other_Sales: double (nullable = true)\n",
            " |-- Global_Sales: double (nullable = true)\n",
            " |-- Critic_Score: integer (nullable = true)\n",
            " |-- Critic_Count: integer (nullable = true)\n",
            " |-- User_Score: string (nullable = true)\n",
            " |-- User_Count: integer (nullable = true)\n",
            " |-- Developer: string (nullable = true)\n",
            " |-- Rating: string (nullable = true)\n",
            "\n"
          ],
          "name": "stdout"
        }
      ]
    },
    {
      "cell_type": "markdown",
      "metadata": {
        "id": "9cfPxGGuPaDQ"
      },
      "source": [
        "Print the first 10 rows using the take command."
      ]
    },
    {
      "cell_type": "code",
      "metadata": {
        "id": "XOQ-XkjFAkgr",
        "colab": {
          "base_uri": "https://localhost:8080/"
        },
        "outputId": "0125f960-7506-491f-b7a9-69db492c38bb"
      },
      "source": [
        "#Answer below:\r\n",
        "video.take(10)"
      ],
      "execution_count": 27,
      "outputs": [
        {
          "output_type": "execute_result",
          "data": {
            "text/plain": [
              "[Row(Name='Wii Sports', Platform='Wii', Year_of_Release='2006', Genre='Sports', Publisher='Nintendo', NA_Sales=41.36, EU_Sales=28.96, JP_Sales=3.77, Other_Sales=8.45, Global_Sales=82.53, Critic_Score=76, Critic_Count=51, User_Score='8', User_Count=322, Developer='Nintendo', Rating='E'),\n",
              " Row(Name='Super Mario Bros.', Platform='NES', Year_of_Release='1985', Genre='Platform', Publisher='Nintendo', NA_Sales=29.08, EU_Sales=3.58, JP_Sales=6.81, Other_Sales=0.77, Global_Sales=40.24, Critic_Score=None, Critic_Count=None, User_Score=None, User_Count=None, Developer=None, Rating=None),\n",
              " Row(Name='Mario Kart Wii', Platform='Wii', Year_of_Release='2008', Genre='Racing', Publisher='Nintendo', NA_Sales=15.68, EU_Sales=12.76, JP_Sales=3.79, Other_Sales=3.29, Global_Sales=35.52, Critic_Score=82, Critic_Count=73, User_Score='8.3', User_Count=709, Developer='Nintendo', Rating='E'),\n",
              " Row(Name='Wii Sports Resort', Platform='Wii', Year_of_Release='2009', Genre='Sports', Publisher='Nintendo', NA_Sales=15.61, EU_Sales=10.93, JP_Sales=3.28, Other_Sales=2.95, Global_Sales=32.77, Critic_Score=80, Critic_Count=73, User_Score='8', User_Count=192, Developer='Nintendo', Rating='E'),\n",
              " Row(Name='Pokemon Red/Pokemon Blue', Platform='GB', Year_of_Release='1996', Genre='Role-Playing', Publisher='Nintendo', NA_Sales=11.27, EU_Sales=8.89, JP_Sales=10.22, Other_Sales=1.0, Global_Sales=31.37, Critic_Score=None, Critic_Count=None, User_Score=None, User_Count=None, Developer=None, Rating=None),\n",
              " Row(Name='Tetris', Platform='GB', Year_of_Release='1989', Genre='Puzzle', Publisher='Nintendo', NA_Sales=23.2, EU_Sales=2.26, JP_Sales=4.22, Other_Sales=0.58, Global_Sales=30.26, Critic_Score=None, Critic_Count=None, User_Score=None, User_Count=None, Developer=None, Rating=None),\n",
              " Row(Name='New Super Mario Bros.', Platform='DS', Year_of_Release='2006', Genre='Platform', Publisher='Nintendo', NA_Sales=11.28, EU_Sales=9.14, JP_Sales=6.5, Other_Sales=2.88, Global_Sales=29.8, Critic_Score=89, Critic_Count=65, User_Score='8.5', User_Count=431, Developer='Nintendo', Rating='E'),\n",
              " Row(Name='Wii Play', Platform='Wii', Year_of_Release='2006', Genre='Misc', Publisher='Nintendo', NA_Sales=13.96, EU_Sales=9.18, JP_Sales=2.93, Other_Sales=2.84, Global_Sales=28.92, Critic_Score=58, Critic_Count=41, User_Score='6.6', User_Count=129, Developer='Nintendo', Rating='E'),\n",
              " Row(Name='New Super Mario Bros. Wii', Platform='Wii', Year_of_Release='2009', Genre='Platform', Publisher='Nintendo', NA_Sales=14.44, EU_Sales=6.94, JP_Sales=4.7, Other_Sales=2.24, Global_Sales=28.32, Critic_Score=87, Critic_Count=80, User_Score='8.4', User_Count=594, Developer='Nintendo', Rating='E'),\n",
              " Row(Name='Duck Hunt', Platform='NES', Year_of_Release='1984', Genre='Shooter', Publisher='Nintendo', NA_Sales=26.93, EU_Sales=0.63, JP_Sales=0.28, Other_Sales=0.47, Global_Sales=28.31, Critic_Score=None, Critic_Count=None, User_Score=None, User_Count=None, Developer=None, Rating=None)]"
            ]
          },
          "metadata": {
            "tags": []
          },
          "execution_count": 27
        }
      ]
    },
    {
      "cell_type": "markdown",
      "metadata": {
        "id": "5oun0L0I2fmD"
      },
      "source": [
        "Rename the `Global_Sales` column to `Total_Sales`. Renaming a column requires creating a copy of the dataframe with new column name added."
      ]
    },
    {
      "cell_type": "code",
      "metadata": {
        "id": "PeqUWOjl2sGz"
      },
      "source": [
        "#Answer below:\r\n",
        "video = video.withColumnRenamed('Global_Sales', 'Total_Sales')"
      ],
      "execution_count": 28,
      "outputs": []
    },
    {
      "cell_type": "markdown",
      "metadata": {
        "id": "dLuG29w-AaeK"
      },
      "source": [
        "Using the literal command, create a new column named `Score_100` by multiplying the `User_Score` column by a constant of 10.\n"
      ]
    },
    {
      "cell_type": "code",
      "metadata": {
        "id": "UyyVO3Ip3w9h"
      },
      "source": [
        "from pyspark.sql.functions import lit\n",
        "\n",
        "#Answer below:\n",
        "video = video.withColumn('Score_100', video['User_Score'] * lit(10))"
      ],
      "execution_count": 29,
      "outputs": []
    },
    {
      "cell_type": "markdown",
      "metadata": {
        "id": "K2EVhZqp4uK-"
      },
      "source": [
        "A common data wrangling exercise is to handle the missing values in a dataset. Using a user defined function find the number of missing values per row for the video dataframe."
      ]
    },
    {
      "cell_type": "code",
      "metadata": {
        "id": "bEfIiodG5kYN",
        "colab": {
          "base_uri": "https://localhost:8080/"
        },
        "outputId": "dfd845d8-3e8d-4cea-a67b-7fd188f072e4"
      },
      "source": [
        "from pyspark.sql.functions import UserDefinedFunction, udf\r\n",
        "from pyspark.sql.types import StringType, IntegerType, DoubleType, BooleanType\r\n",
        "\r\n",
        "video.rdd.map(lambda row: (row['Name'], sum([c == None for c in row]))).collect()\r\n",
        "#Answer below:\r\n",
        "#count = UserDefinedFunction(lambda df[x]: df[x].isna() + 1, 'IntegerType')"
      ],
      "execution_count": 38,
      "outputs": [
        {
          "output_type": "execute_result",
          "data": {
            "text/plain": [
              "[('Wii Sports', 0),\n",
              " ('Super Mario Bros.', 7),\n",
              " ('Mario Kart Wii', 0),\n",
              " ('Wii Sports Resort', 0),\n",
              " ('Pokemon Red/Pokemon Blue', 7),\n",
              " ('Tetris', 7),\n",
              " ('New Super Mario Bros.', 0),\n",
              " ('Wii Play', 0),\n",
              " ('New Super Mario Bros. Wii', 0),\n",
              " ('Duck Hunt', 7),\n",
              " ('Nintendogs', 7),\n",
              " ('Mario Kart DS', 0),\n",
              " ('Pokemon Gold/Pokemon Silver', 7),\n",
              " ('Wii Fit', 0),\n",
              " ('Kinect Adventures!', 0),\n",
              " ('Wii Fit Plus', 0),\n",
              " ('Grand Theft Auto V', 0),\n",
              " ('Grand Theft Auto: San Andreas', 0),\n",
              " ('Super Mario World', 7),\n",
              " ('Brain Age: Train Your Brain in Minutes a Day', 0),\n",
              " ('Pokemon Diamond/Pokemon Pearl', 7),\n",
              " ('Super Mario Land', 7),\n",
              " ('Super Mario Bros. 3', 7),\n",
              " ('Grand Theft Auto V', 0),\n",
              " ('Grand Theft Auto: Vice City', 0),\n",
              " ('Pokemon Ruby/Pokemon Sapphire', 7),\n",
              " ('Brain Age 2: More Training in Minutes a Day', 0),\n",
              " ('Pokemon Black/Pokemon White', 7),\n",
              " ('Gran Turismo 3: A-Spec', 0),\n",
              " ('Call of Duty: Modern Warfare 3', 0),\n",
              " ('Pokémon Yellow: Special Pikachu Edition', 7),\n",
              " ('Call of Duty: Black Ops 3', 7),\n",
              " ('Call of Duty: Black Ops', 0),\n",
              " ('Pokemon X/Pokemon Y', 7),\n",
              " ('Call of Duty: Black Ops II', 0),\n",
              " ('Call of Duty: Black Ops II', 0),\n",
              " ('Call of Duty: Modern Warfare 2', 0),\n",
              " ('Call of Duty: Modern Warfare 3', 0),\n",
              " ('Grand Theft Auto III', 0),\n",
              " ('Super Smash Bros. Brawl', 0),\n",
              " ('Mario Kart 7', 0),\n",
              " ('Call of Duty: Black Ops', 0),\n",
              " ('Grand Theft Auto V', 0),\n",
              " ('Animal Crossing: Wild World', 0),\n",
              " ('Halo 3', 0),\n",
              " ('Super Mario 64', 7),\n",
              " ('Pokemon HeartGold/Pokemon SoulSilver', 7),\n",
              " ('Pokemon Omega Ruby/Pokemon Alpha Sapphire', 7),\n",
              " ('Gran Turismo 4', 0),\n",
              " ('Super Mario Galaxy', 0),\n",
              " ('Super Mario Land 2: 6 Golden Coins', 7),\n",
              " ('Grand Theft Auto IV', 0),\n",
              " ('Gran Turismo', 0),\n",
              " ('Super Mario 3D Land', 0),\n",
              " ('Gran Turismo 5', 0),\n",
              " ('Call of Duty: Modern Warfare 2', 0),\n",
              " ('Super Mario All-Stars', 7),\n",
              " ('Grand Theft Auto IV', 0),\n",
              " ('Pokemon FireRed/Pokemon LeafGreen', 7),\n",
              " ('Super Mario 64', 7),\n",
              " ('Call of Duty: Ghosts', 0),\n",
              " ('Just Dance 3', 0),\n",
              " ('New Super Mario Bros. 2', 0),\n",
              " ('Mario Kart 64', 7),\n",
              " ('Halo: Reach', 0),\n",
              " ('Final Fantasy VII', 0),\n",
              " ('Halo 4', 0),\n",
              " ('Gran Turismo 2', 0),\n",
              " ('Just Dance 2', 0),\n",
              " ('Call of Duty: Ghosts', 0),\n",
              " ('Call of Duty 4: Modern Warfare', 0),\n",
              " ('Donkey Kong Country', 7),\n",
              " ('Minecraft', 7),\n",
              " ('Animal Crossing: New Leaf', 0),\n",
              " ('Mario Party DS', 0),\n",
              " ('The Elder Scrolls V: Skyrim', 0),\n",
              " ('Super Mario Kart', 7),\n",
              " ('FIFA 16', 0),\n",
              " ('Halo 2', 0),\n",
              " ('Wii Party', 0),\n",
              " ('Mario Party 8', 0),\n",
              " ('FIFA Soccer 13', 0),\n",
              " ('GoldenEye 007', 7),\n",
              " ('Pokemon Black 2/Pokemon White 2', 7),\n",
              " ('Final Fantasy X', 0),\n",
              " ('The Sims 3', 0),\n",
              " ('Mario & Sonic at the Olympic Games', 7),\n",
              " ('Star Wars Battlefront (2015)', 7),\n",
              " ('Final Fantasy VIII', 0),\n",
              " ('Pac-Man', 7),\n",
              " ('Pokémon Platinum Version', 0),\n",
              " ('Grand Theft Auto: Liberty City Stories', 0),\n",
              " ('Call of Duty: Advanced Warfare', 0),\n",
              " ('The Legend of Zelda: Ocarina of Time', 7),\n",
              " ('FIFA 17', 0),\n",
              " ('Crash Bandicoot 2: Cortex Strikes Back', 7),\n",
              " ('Super Smash Bros. for Wii U and 3DS', 7),\n",
              " ('Super Mario Galaxy 2', 0),\n",
              " ('Super Mario Bros. 2', 7),\n",
              " ('Call of Duty: Black Ops 3', 7),\n",
              " ('Call of Duty: World at War', 0),\n",
              " ('Battlefield 3', 0),\n",
              " ('Need for Speed Underground', 0),\n",
              " ('Just Dance', 0),\n",
              " ('Battlefield 3', 0),\n",
              " ('Fallout 4', 0),\n",
              " ('Tekken 3', 0),\n",
              " ('The Legend of Zelda: Twilight Princess', 0),\n",
              " ('Pokemon Sun/Moon', 7),\n",
              " ('Crash Bandicoot 3: Warped', 0),\n",
              " ('Mario Kart 8', 0),\n",
              " ('Super Smash Bros. Melee', 0),\n",
              " ('Mario Kart: Double Dash!!', 7),\n",
              " ('Need for Speed Underground 2', 0),\n",
              " ('Medal of Honor: Frontline', 0),\n",
              " ('Crash Bandicoot', 7),\n",
              " ('Just Dance 4', 0),\n",
              " ('Gears of War 2', 0),\n",
              " (\"Uncharted 3: Drake's Deception\", 0),\n",
              " ('Zumba Fitness', 4),\n",
              " ('Call of Duty 4: Modern Warfare', 0),\n",
              " ('Uncharted 2: Among Thieves', 0),\n",
              " ('FIFA 12', 7),\n",
              " ('Big Brain Academy', 0),\n",
              " ('The Legend of Zelda', 7),\n",
              " ('Red Dead Redemption', 0),\n",
              " ('FIFA 14', 0),\n",
              " (\"Assassin's Creed III\", 0),\n",
              " ('Donkey Kong Country Returns', 0),\n",
              " ('Halo: Combat Evolved', 0),\n",
              " ('The Elder Scrolls V: Skyrim', 0),\n",
              " ('Pokémon Emerald Version', 0),\n",
              " ('Kingdom Hearts', 0),\n",
              " ('Pokémon Crystal Version', 7),\n",
              " ('Halo 3: ODST', 0),\n",
              " ('Red Dead Redemption', 0),\n",
              " ('Super Mario Sunshine', 0),\n",
              " ('Street Fighter II: The World Warrior', 7),\n",
              " ('World of Warcraft', 0),\n",
              " ('Driver', 0),\n",
              " ('Gears of War 3', 0),\n",
              " ('Kinect Sports', 0),\n",
              " ('Gears of War', 0),\n",
              " ('FIFA 15', 0),\n",
              " ('Metal Gear Solid 2: Sons of Liberty', 0),\n",
              " ('Sonic the Hedgehog 2', 7),\n",
              " ('Metal Gear Solid', 0),\n",
              " ('Metal Gear Solid 4: Guns of the Patriots', 0),\n",
              " ('Final Fantasy XII', 0),\n",
              " ('The Last of Us', 0),\n",
              " ('LittleBigPlanet', 0),\n",
              " ('Resident Evil 2', 0),\n",
              " ('Dragon Quest IX: Sentinels of the Starry Skies', 0),\n",
              " ('Tekken 2', 0),\n",
              " ('Destiny', 0),\n",
              " ('LEGO Star Wars: The Complete Saga', 0),\n",
              " ('Cooking Mama', 0),\n",
              " ('Tetris', 7),\n",
              " ('Super Smash Bros.', 7),\n",
              " (\"Assassin's Creed II\", 0),\n",
              " (\"Assassin's Creed\", 0),\n",
              " ('Forza Motorsport 3', 0),\n",
              " ('Super Mario Advance', 0),\n",
              " ('Monster Hunter Freedom Unite', 0),\n",
              " ('Batman: Arkham City', 0),\n",
              " ('Grand Theft Auto V', 0),\n",
              " ('Mario Kart: Super Circuit', 0),\n",
              " ('Super Mario World', 7),\n",
              " ('Pokemon Stadium', 7),\n",
              " ('Crash Bandicoot: The Wrath of Cortex', 0),\n",
              " ('Call of Duty: World at War', 0),\n",
              " (\"Uncharted 4: A Thief's End\", 0),\n",
              " ('Dr. Mario', 7),\n",
              " ('Final Fantasy XIII', 0),\n",
              " ('Pokemon Pinball', 7),\n",
              " ('Final Fantasy IX', 0),\n",
              " (\"Assassin's Creed III\", 0),\n",
              " ('Final Fantasy X-2', 0),\n",
              " ('Donkey Kong 64', 7),\n",
              " ('Call of Duty: Advanced Warfare', 0),\n",
              " ('Minecraft', 7),\n",
              " (\"Assassin's Creed II\", 0),\n",
              " ('Tomb Raider II', 3),\n",
              " ('Madden NFL 2004', 0),\n",
              " ('Tomodachi Life', 7),\n",
              " ('New Super Mario Bros. U', 0),\n",
              " ('Dragon Quest VIII: Journey of the Cursed King', 0),\n",
              " ('Super Mario Bros. 3', 7),\n",
              " ('Professor Layton and the Curious Village', 0),\n",
              " ('Super Mario Land 3: Wario Land', 7),\n",
              " ('FIFA Soccer 13', 0),\n",
              " (\"Donkey Kong Country 2: Diddy's Kong Quest\", 7),\n",
              " ('Diablo III', 0),\n",
              " ('Medal of Honor: Rising Sun', 0),\n",
              " (\"Kirby's Dream Land\", 7),\n",
              " ('Microsoft Flight Simulator', 7),\n",
              " ('Guitar Hero II', 0),\n",
              " ('Fable III', 0),\n",
              " ('Mario & Sonic at the Olympic Games', 7),\n",
              " ('Resident Evil 5', 0),\n",
              " ('The Legend of Zelda: Phantom Hourglass', 0),\n",
              " ('Super Mario Bros.', 7),\n",
              " ('FIFA Soccer 11', 0),\n",
              " ('Resident Evil', 0),\n",
              " ('Grand Theft Auto: Vice City Stories', 0),\n",
              " (\"Tony Hawk's Pro Skater\", 0),\n",
              " ('Warzone 2100', 7),\n",
              " ('Spyro the Dragon', 7),\n",
              " ('Guitar Hero III: Legends of Rock', 0),\n",
              " (\"Link's Crossbow Training\", 0),\n",
              " ('Pokemon Mystery Dungeon: Explorers of Time/Explorers of Darkness', 7),\n",
              " ('Fallout 3', 0),\n",
              " (\"Uncharted: Drake's Fortune\", 0),\n",
              " ('Madden NFL 06', 0),\n",
              " ('Diddy Kong Racing', 7),\n",
              " ('Monster Hunter Freedom 3', 7),\n",
              " ('Super Smash Bros. for Wii U and 3DS', 7),\n",
              " ('Dr. Mario', 7),\n",
              " ('StarCraft II: Wings of Liberty', 0),\n",
              " (\"Assassin's Creed\", 0),\n",
              " ('God of War III', 0),\n",
              " ('Crash Team Racing', 0),\n",
              " ('LEGO Star Wars: The Complete Saga', 0),\n",
              " ('Driver 2', 0),\n",
              " ('Batman: Arkham City', 0),\n",
              " ('The Last of Us', 7),\n",
              " ('The Simpsons: Hit & Run', 7),\n",
              " (\"Tony Hawk's Pro Skater 2\", 0),\n",
              " ('The Lord of the Rings: The Two Towers', 0),\n",
              " ('Tomb Raider', 0),\n",
              " ('Animal Crossing: City Folk', 0),\n",
              " ('Uncharted: The Nathan Drake Collection', 0),\n",
              " ('The Legend of Zelda: A Link to the Past', 7),\n",
              " ('The Legend of Zelda: The Wind Waker', 0),\n",
              " ('Guitar Hero III: Legends of Rock', 0),\n",
              " (\"Luigi's Mansion: Dark Moon\", 0),\n",
              " ('Forza Motorsport 4', 0),\n",
              " ('Mario & Sonic at the Olympic Winter Games', 7),\n",
              " ('Madden NFL 2005', 0),\n",
              " ('Guitar Hero III: Legends of Rock', 0),\n",
              " ('Pitfall!', 7),\n",
              " ('Madden NFL 07', 0),\n",
              " ('Halo 5: Guardians', 0),\n",
              " ('Spider-Man: The Movie', 0),\n",
              " ('Dragon Quest VII: Warriors of Eden', 7),\n",
              " ('Call of Duty: Infinite Warfare', 0),\n",
              " ('God of War', 0),\n",
              " ('Splatoon', 0),\n",
              " ('Nintendo Land', 0),\n",
              " (\"Tony Hawk's Pro Skater 3\", 0),\n",
              " ('Winning Eleven: Pro Evolution Soccer 2007', 0),\n",
              " ('The Elder Scrolls IV: Oblivion', 0),\n",
              " ('Zelda II: The Adventure of Link', 7),\n",
              " ('Need for Speed: Most Wanted', 0),\n",
              " ('Michael Jackson: The Experience', 0),\n",
              " ('Call of Duty: Advanced Warfare', 2),\n",
              " ('Resistance: Fall of Man', 0),\n",
              " ('Sonic the Hedgehog', 7),\n",
              " ('Kingdom Hearts II', 0),\n",
              " ('The Legend of Zelda: Ocarina of Time', 7),\n",
              " ('Super Mario 3D World', 0),\n",
              " ('Minecraft', 7),\n",
              " ('Asteroids', 7),\n",
              " ('Call of Duty: Advanced Warfare', 2),\n",
              " ('FIFA 15', 2),\n",
              " ('Fable II', 0),\n",
              " ('Namco Museum', 0),\n",
              " ('Batman: Arkham Asylum', 0),\n",
              " ('Metal Gear Solid 3: Snake Eater', 0),\n",
              " (\"Assassin's Creed: Revelations\", 0),\n",
              " ('Fallout 4', 0),\n",
              " ('FIFA 14', 0),\n",
              " ('Daxter', 0),\n",
              " ('Warcraft II: Tides of Darkness', 7),\n",
              " ('FIFA Soccer 06', 0),\n",
              " ('EyeToy Play', 0),\n",
              " ('Gran Turismo 5 Prologue', 0),\n",
              " (\"Assassin's Creed: Revelations\", 0),\n",
              " ('FIFA 12', 7),\n",
              " ('Teenage Mutant Ninja Turtles', 7),\n",
              " ('Street Fighter IV', 0),\n",
              " ('Excitebike', 7),\n",
              " ('Frogger', 7),\n",
              " ('Madden NFL 2003', 0),\n",
              " ('Half-Life', 0),\n",
              " (\"Super Mario World 2: Yoshi's Island\", 7),\n",
              " ('FIFA Soccer 07', 7),\n",
              " ('Street Fighter II Turbo', 7),\n",
              " ('World of Warcraft: The Burning Crusade', 0),\n",
              " ('Battlefield 1', 0),\n",
              " ('God of War II', 0),\n",
              " ('World Soccer Winning Eleven 9', 2),\n",
              " ('Fallout: New Vegas', 0),\n",
              " ('Forza Motorsport 2', 0),\n",
              " ('Carnival Games', 0),\n",
              " ('Watch Dogs', 0),\n",
              " ('Namco Museum Vol.3', 7),\n",
              " ('Tekken Tag Tournament', 0),\n",
              " ('Far Cry 4', 0),\n",
              " ('Star Fox 64', 7),\n",
              " ('Golf', 7),\n",
              " ('Namco Museum: 50th Anniversary', 2),\n",
              " ('Left 4 Dead 2', 0),\n",
              " ('The Witcher 3: Wild Hunt', 0),\n",
              " (\"Assassin's Creed: Unity\", 0),\n",
              " ('Batman: Arkham Knight', 0),\n",
              " ('The Legend of Zelda: Skyward Sword', 0),\n",
              " ('Fallout 3', 0),\n",
              " ('Professor Layton and the Diabolical Box', 0),\n",
              " ('Donkey Kong Land', 7),\n",
              " ('EA Sports Active', 0),\n",
              " (\"Tony Hawk's Underground\", 0),\n",
              " ('Monster Hunter 4 Ultimate', 0),\n",
              " ('The Elder Scrolls V: Skyrim', 0),\n",
              " ('NBA 2K16', 0),\n",
              " ('Tekken 5', 0),\n",
              " ('Dragon Warrior III', 7),\n",
              " ('MotorStorm', 0),\n",
              " ('Nintendogs + cats', 7),\n",
              " ('World Soccer Winning Eleven 8 International', 0),\n",
              " ('Sports Champions', 0),\n",
              " ('Namco Museum Vol.1', 7),\n",
              " (\"The Legend of Zelda: Link's Awakening\", 7),\n",
              " ('Call of Duty: Ghosts', 0),\n",
              " ('Flash Focus: Vision Training in Minutes a Day', 0),\n",
              " (\"Tom Clancy's The Division\", 0),\n",
              " ('Big Brain Academy: Wii Degree', 0),\n",
              " (\"Resident Evil Director's Cut\", 7),\n",
              " (\"Mario & Luigi: Bowser's Inside Story\", 7),\n",
              " ('LEGO Indiana Jones: The Original Adventures', 0),\n",
              " ('The Sims: Unleashed', 0),\n",
              " ('Ratchet & Clank: Size Matters', 7),\n",
              " (\"Harry Potter and the Sorcerer's Stone\", 0),\n",
              " ('Mario & Sonic at the London 2012 Olympic Games', 7),\n",
              " ('Resident Evil 3: Nemesis', 7),\n",
              " ('Super Paper Mario', 0),\n",
              " ('Spyro: Year of the Dragon', 0),\n",
              " (\"Assassin's Creed IV: Black Flag\", 0),\n",
              " ('FIFA Soccer 2005', 0),\n",
              " ('Pokémon Trading Card Game', 7),\n",
              " ('Friend Collection', 7),\n",
              " (\"Tony Hawk's Pro Skater 4\", 0),\n",
              " ('Star Wars Battlefront (2015)', 7),\n",
              " ('MySims', 0),\n",
              " ('Midnight Club 3: DUB Edition', 0),\n",
              " ('Banjo-Kazooie', 7),\n",
              " ('SOCOM: U.S. Navy SEALs', 0),\n",
              " ('Jak and Daxter: The Precursor Legacy', 0),\n",
              " ('Pokemon Snap', 7),\n",
              " ('Pro Evolution Soccer 2008', 0),\n",
              " ('Resident Evil 4', 0),\n",
              " ('Guitar Hero: World Tour', 0),\n",
              " ('FIFA Soccer 10', 0),\n",
              " ('Star Wars: Battlefront', 0),\n",
              " ('Doom II: Hell on Earth', 7),\n",
              " ('The Simpsons: Road Rage', 0),\n",
              " (\"Luigi's Mansion\", 0),\n",
              " ('Battlefield 4', 0),\n",
              " ('Star Wars: Battlefront II', 0),\n",
              " ('Just Dance 2014', 2),\n",
              " ('Cooking Mama 2: Dinner With Friends', 0),\n",
              " ('WWF SmackDown!', 7),\n",
              " ('Croc: Legend of the Gobbos', 7),\n",
              " ('Grand Theft Auto: Liberty City Stories', 0),\n",
              " ('The Getaway', 0),\n",
              " ('Tomb Raider III: Adventures of Lara Croft', 7),\n",
              " ('James Bond 007: Agent Under Fire', 0),\n",
              " ('LEGO Star Wars: The Video Game', 7),\n",
              " ('Rugrats in Paris: The Movie', 7),\n",
              " ('FIFA Soccer 11', 0),\n",
              " (\"Spyro 2: Ripto's Rage!\", 7),\n",
              " ('Left 4 Dead', 0),\n",
              " (\"Donkey Kong Country 3: Dixie Kong's Double Trouble!\", 7),\n",
              " (\"Assassin's Creed: Unity\", 0),\n",
              " ('Kung Fu', 7),\n",
              " ('Resident Evil 5', 0),\n",
              " (\"Assassin's Creed: Brotherhood\", 0),\n",
              " ('FIFA Soccer 2004', 0),\n",
              " ('Battlefield 4', 0),\n",
              " ('Batman: Arkham Asylum', 0),\n",
              " ('Battlefield 4', 0),\n",
              " ('Battlefield: Bad Company 2', 0),\n",
              " ('Mario & Sonic at the Olympic Winter Games', 7),\n",
              " ('Guitar Hero: On Tour', 0),\n",
              " ('Clubhouse Games', 0),\n",
              " ('Monster Hunter 4', 7),\n",
              " ('Borderlands', 0),\n",
              " ('Tekken 4', 0),\n",
              " ('Final Fantasy III', 7),\n",
              " ('Grand Theft Auto 2', 0),\n",
              " ('Metal Gear Solid V: The Phantom Pain', 0),\n",
              " ('Spider-Man 2', 0),\n",
              " ('F-1 Race', 7),\n",
              " ('FIFA Soccer 2003', 0),\n",
              " ('LittleBigPlanet 2', 0),\n",
              " ('Crash Bash', 0),\n",
              " (\"Assassin's Creed Syndicate\", 0),\n",
              " ('LEGO Batman: The Videogame', 0),\n",
              " ('Destiny', 0),\n",
              " ('WWF War Zone', 7),\n",
              " (\"The Legend of Zelda: Majora's Mask\", 7),\n",
              " ('Far Cry 3', 0),\n",
              " ('Rugrats: Search For Reptar', 7),\n",
              " ('English Training: Have Fun Improving Your Skills!', 7),\n",
              " ('James Bond 007: Nightfire', 0),\n",
              " ('Ratchet & Clank', 7),\n",
              " ('Monster Hunter X', 7),\n",
              " ('Star Wars Episode III: Revenge of the Sith', 0),\n",
              " ('The Legend of Zelda: Spirit Tracks', 0),\n",
              " ('Max Payne', 0),\n",
              " (\"Assassin's Creed IV: Black Flag\", 0),\n",
              " ('The Lord of the Rings: The Return of the King', 0),\n",
              " ('Yokai Watch 2 Ganso/Honke', 7),\n",
              " ('Gears of War: Ultimate Edition', 0),\n",
              " ('True Crime: Streets of LA', 0),\n",
              " ('Professor Layton and the Unwound Future', 0),\n",
              " ('Gran Turismo (PSP)', 7),\n",
              " ('FIFA 16', 0),\n",
              " ('Wii Music', 0),\n",
              " ('Tekken', 7),\n",
              " ('Madden NFL 16', 0),\n",
              " ('Gran Turismo 6', 0),\n",
              " ('Halo: The Master Chief Collection', 0),\n",
              " ('007: Tomorrow Never Dies', 7),\n",
              " ('Super Mario Maker', 0),\n",
              " ('WWF SmackDown! 2: Know Your Role', 7),\n",
              " ('Baseball', 7),\n",
              " ('Killer Instinct', 7),\n",
              " ('Dragon Quest VI: Maboroshi no Daichi', 7),\n",
              " ('God of War: Chains of Olympus', 0),\n",
              " ('Enter the Matrix', 0),\n",
              " ('Crisis Core: Final Fantasy VII', 0),\n",
              " ('Dance Central', 0),\n",
              " ('L.A. Noire', 0),\n",
              " ('Ace Combat 04: Shattered Skies', 0),\n",
              " ('Animal Crossing', 0),\n",
              " ('FIFA Soccer 08', 0),\n",
              " ('Club Penguin: Elite Penguin Force', 2),\n",
              " ('Spider-Man', 0),\n",
              " ('Mario Party 9', 0),\n",
              " ('Need for Speed III: Hot Pursuit', 3),\n",
              " ('Star Wars Episode I Racer', 7),\n",
              " ('Sonic Rush', 0),\n",
              " ('Dragon Warrior IV', 7),\n",
              " ('Rhythm Heaven', 0),\n",
              " ('Fallout: New Vegas', 0),\n",
              " ('Personal Trainer: Cooking', 0),\n",
              " ('The Elder Scrolls IV: Oblivion', 0),\n",
              " ('The Legend of Zelda: A Link Between Worlds', 0),\n",
              " ('Resident Evil 6', 0),\n",
              " ('Mass Effect 2', 0),\n",
              " ('Dragon Ball Z: Budokai', 0),\n",
              " ('Madden NFL 2002', 0),\n",
              " ('World Class Track Meet', 7),\n",
              " ('Donkey Kong', 7),\n",
              " ('The Sims: Vacation', 0),\n",
              " ('LEGO Batman: The Videogame', 0),\n",
              " ('Animal Crossing: Happy Home Designer', 0),\n",
              " ('The Sims 4', 0),\n",
              " ('Borderlands 2', 0),\n",
              " ('LEGO Batman: The Videogame', 0),\n",
              " ('Kung Fu Panda', 0),\n",
              " ('Mass Effect 3', 0),\n",
              " ('Heavy Rain', 0),\n",
              " ('Rayman', 7),\n",
              " ('Saints Row 2', 0),\n",
              " (\"Tom Clancy's Splinter Cell\", 0),\n",
              " (\"Mike Tyson's Punch-Out!!\", 7),\n",
              " ('WWE SmackDown! Shut Your Mouth', 7),\n",
              " ('FIFA 14', 0),\n",
              " ('Killzone 2', 0),\n",
              " ('Far Cry 3', 0),\n",
              " ('Epic Mickey', 0),\n",
              " ('NBA 2K13', 0),\n",
              " ('Dragon Ball Z: Budokai Tenkaichi 3', 0),\n",
              " ('wwe Smackdown vs. Raw 2006', 7),\n",
              " ('Star Fox', 7),\n",
              " ('The Sims: Livin Large', 0),\n",
              " ('World Soccer Winning Eleven 6 International', 0),\n",
              " ('Devil May Cry', 0),\n",
              " ('Star Wars: The Old Republic', 0),\n",
              " ('Middle-Earth: Shadow of Mordor', 0),\n",
              " ('Sonic Heroes', 0),\n",
              " ('Hitman 2: Silent Assassin', 0),\n",
              " ('Titanfall', 0),\n",
              " ('Battlefield: Bad Company 2', 0),\n",
              " ('Wave Race 64', 7),\n",
              " ('SOCOM II: U.S. Navy SEALs', 0),\n",
              " ('WWE SmackDown! vs. RAW 2006', 7),\n",
              " ('Pac-Man Collection', 0),\n",
              " ('Street Fighter IV', 0),\n",
              " ('inFAMOUS', 0),\n",
              " ('Kirby Super Star Ultra', 0),\n",
              " ('Call of Duty: Ghosts', 0),\n",
              " ('FIFA 15', 2),\n",
              " (\"Super Mario World 2: Yoshi's Island\", 7),\n",
              " ('Mass Effect', 0),\n",
              " ('Sonic Mega Collection Plus', 0),\n",
              " ('World Soccer Winning Eleven 7 International', 0),\n",
              " ('Sega Superstars Tennis', 0),\n",
              " ('Hot Shots Golf 3', 0),\n",
              " ('Cooking Mama: Cook Off', 0),\n",
              " ('Call of Duty: Finest Hour', 0),\n",
              " ('WarioWare: Smooth Moves', 0),\n",
              " ('Syphon Filter', 7),\n",
              " ('Imagine: Babyz', 2),\n",
              " ('Colin McRae Rally', 7),\n",
              " ('Madden NFL 13', 0),\n",
              " ('The Elder Scrolls III: Morrowind', 0),\n",
              " (\"Assassin's Creed IV: Black Flag\", 0),\n",
              " ('Command & Conquer: Red Alert', 7),\n",
              " ('F-Zero', 7),\n",
              " (\"Yoshi's Story\", 7),\n",
              " ('Mortal Kombat', 0),\n",
              " ('Madden NFL 10', 0),\n",
              " ('WWE SmackDown! vs. Raw', 7),\n",
              " ('BioShock', 0),\n",
              " ('Metroid Prime', 0),\n",
              " (\"Assassin's Creed: Brotherhood\", 0),\n",
              " ('Finding Nemo', 2),\n",
              " ('Zumba Fitness 2', 4),\n",
              " ('Myst', 7),\n",
              " ('Medal of Honor', 0),\n",
              " ('Need for Speed: Most Wanted', 7),\n",
              " ('Imagine: Fashion Designer', 2),\n",
              " ('WWE SmackDown! Here Comes the Pain', 7),\n",
              " ('Hot Shots Golf', 7),\n",
              " (\"A Bug's Life\", 7),\n",
              " ('WWF SmackDown! Just Bring It', 7),\n",
              " ('inFAMOUS: Second Son', 0),\n",
              " ('Dragon Quest V: Tenkuu no Hanayome', 7),\n",
              " ('Mortal Kombat Trilogy', 7),\n",
              " ('Monster Hunter Tri', 7),\n",
              " ('NBA Street', 0),\n",
              " ('Jak II', 0),\n",
              " ('Ratchet & Clank: Going Commando', 7),\n",
              " ('Need for Speed: Hot Pursuit', 0),\n",
              " (\"Skylanders: Spyro's Adventure\", 0),\n",
              " ('Battlefield 3', 0),\n",
              " ('Mortal Kombat X', 0),\n",
              " ('The Sims', 0),\n",
              " ('Killzone 3', 0),\n",
              " ('Star Wars: The Force Unleashed', 0),\n",
              " ('Minecraft', 7),\n",
              " (\"Yoshi's Island DS\", 0),\n",
              " ('Saints Row: The Third', 0),\n",
              " ('Missile Command', 7),\n",
              " ('Mario Paint', 7),\n",
              " ('Tekken 6', 0),\n",
              " ('Pokémon Stadium 2', 7),\n",
              " ('Metroid', 7),\n",
              " ('Sonic and the Secret Rings', 0),\n",
              " ('FIFA 16', 2),\n",
              " ('The Legend of Zelda: A Link to the Past', 0),\n",
              " ('Onimusha: Warlords', 0),\n",
              " ('Mario Party', 7),\n",
              " ('L.A. Noire', 0),\n",
              " ('Call of Duty 3', 0),\n",
              " ('Madden NFL 12', 0),\n",
              " ('LEGO Star Wars II: The Original Trilogy', 0),\n",
              " ('Killzone: Shadow Fall', 0),\n",
              " ('Madden NFL 11', 0),\n",
              " ('Burnout 3: Takedown', 0),\n",
              " ('Yokai Watch 2 Shinuchi', 7),\n",
              " ('Mortal Kombat', 7),\n",
              " ('Mario vs. Donkey Kong: Mini-Land Mayhem!', 0),\n",
              " ('Professor Layton and the Last Specter', 0),\n",
              " ('Call Of Duty 2: Big Red One', 0),\n",
              " ('Medal of Honor', 0),\n",
              " ('Fable', 0),\n",
              " ('Guitar Hero: World Tour', 0),\n",
              " ('FIFA 17', 0),\n",
              " ('Hannah Montana', 2),\n",
              " (\"Tom Clancy's Splinter Cell\", 0),\n",
              " ('Super Mario Bros.: The Lost Levels', 7),\n",
              " ('Need for Speed: Shift', 0),\n",
              " ('Star Wars: Shadows of the Empire', 7),\n",
              " ('Medal of Honor Heroes', 0),\n",
              " ('Final Fantasy XIII-2', 0),\n",
              " ('Midnight Club: Street Racing', 0),\n",
              " ('Skate 3', 0),\n",
              " ('ESPN NFL 2K5', 0),\n",
              " ('Halo Wars', 0),\n",
              " ('NBA 2K12', 0),\n",
              " ('Pac-Man: Adventures in Time', 7),\n",
              " ('FIFA Soccer 10', 0),\n",
              " ('Medal of Honor', 0),\n",
              " ('Harry Potter and the Chamber of Secrets', 0),\n",
              " ('Streets of Rage', 7),\n",
              " ('God of War Collection', 0),\n",
              " ('NBA Live 2005', 0),\n",
              " ('Mario Strikers Charged', 0),\n",
              " ('FIFA Soccer 09', 0),\n",
              " ('Style Savvy', 0),\n",
              " ('WWE SmackDown vs. RAW 2007', 0),\n",
              " ('LEGO Star Wars: The Complete Saga', 0),\n",
              " ('Ratchet & Clank: Up Your Arsenal', 7),\n",
              " ('Madden NFL 08', 0),\n",
              " ('Monster Hunter Freedom 2', 0),\n",
              " ('Ratchet & Clank Future: Tools of Destruction', 7),\n",
              " ('Super Mario All-Stars: Limited Edition', 7),\n",
              " ('Sonic Adventure 2 Battle', 0),\n",
              " ('Dragon Warrior II', 7),\n",
              " ('Ghostbusters: The Video Game (DS Version)', 7),\n",
              " ('Madden NFL 13', 0),\n",
              " ('Dragon Age: Origins', 0),\n",
              " ('Pokémon Colosseum', 0),\n",
              " ('LittleBigPlanet', 0),\n",
              " ('Madden NFL 09', 0),\n",
              " ('Space Invaders', 7),\n",
              " ('Crazy Taxi', 0),\n",
              " ('Art Academy', 0),\n",
              " ('NBA 2K14', 0),\n",
              " ('Perfect Dark', 7),\n",
              " ('Skylanders Giants', 0),\n",
              " ('Dragon Warrior', 7),\n",
              " ('Deca Sports', 0),\n",
              " ('PES 2009: Pro Evolution Soccer', 7),\n",
              " ('Mario Party 2', 7),\n",
              " ('Marvel: Ultimate Alliance', 0),\n",
              " ('Rockstar Games Double Pack: Grand Theft Auto III & Grand Theft Auto Vice City',\n",
              "  7),\n",
              " ('Mortal Kombat: Deadly Alliance', 0),\n",
              " ('Game Party', 0),\n",
              " ('Bloodborne', 0),\n",
              " ('Tomb Raider: The Last Revelation', 7),\n",
              " ('Mario Party 4', 0),\n",
              " ('Pure', 0),\n",
              " ('Rock Band', 0),\n",
              " ('NBA 2K13', 0),\n",
              " ('Saints Row: The Third', 0),\n",
              " ('Resistance 2', 0),\n",
              " ('NBA 2K15', 0),\n",
              " ('Final Fantasy V', 7),\n",
              " ('Final Fantasy Tactics', 0),\n",
              " ('Midnight Club: Los Angeles', 0),\n",
              " ('Twisted Metal 2', 7),\n",
              " (\"The Sims: Bustin' Out\", 0),\n",
              " ('Riven: The Sequel to Myst', 3),\n",
              " ('LEGO Harry Potter: Years 1-4', 0),\n",
              " ('Need for Speed (2015)', 7),\n",
              " ('Call of Duty: Infinite Warfare', 0),\n",
              " ('Madden NFL 16', 0),\n",
              " ('Ice Hockey', 7),\n",
              " ('Sonic Adventure', 7),\n",
              " (\"Tom Clancy's Rainbow Six: Vegas 2\", 0),\n",
              " ('uDraw Studio', 2),\n",
              " ('Tomb Raider (2013)', 7),\n",
              " ('Need for Speed Carbon: Own the City', 0),\n",
              " ('Dragon Ball Z: Budokai 2', 0),\n",
              " ('pro evolution soccer 2011', 0),\n",
              " ('ATV Offroad Fury', 0),\n",
              " ('Dino Crisis', 7),\n",
              " ('Need for Speed: ProStreet', 0),\n",
              " ('Halo: Combat Evolved Anniversary', 0),\n",
              " ('Tetris Plus', 7),\n",
              " ('Pro Wrestling', 7),\n",
              " ('Theme Hospital', 2),\n",
              " (\"Frogger's Adventures: Temple of the Frog\", 2),\n",
              " ('Monopoly', 7),\n",
              " (None, 9),\n",
              " ('Guitar Hero', 0),\n",
              " ('Madden NFL 11', 0),\n",
              " ('WCW/nWo Revenge', 7),\n",
              " ('Yu-Gi-Oh! The Duelists of the Roses', 7),\n",
              " ('Dead Island', 0),\n",
              " ('Half-Life 2', 0),\n",
              " ('The Incredibles', 0),\n",
              " ('Madden NFL 08', 0),\n",
              " (\"Tony Hawk's Underground 2\", 0),\n",
              " ('Zumba Fitness', 0),\n",
              " ('Madden NFL 10', 0),\n",
              " (\"Kirby's Dream Land 2\", 7),\n",
              " ('Midnight Club: Los Angeles', 0),\n",
              " ('Donkey Kong Land II', 7),\n",
              " ('Dragon Warrior Monsters', 7),\n",
              " ('Kinect: Disneyland Adventures', 0),\n",
              " ('WWE SmackDown vs Raw 2008', 0),\n",
              " (\"The Legend of Zelda: Majora's Mask 3D\", 0),\n",
              " ('LEGO Indiana Jones: The Original Adventures', 0),\n",
              " ('Resident Evil - Code: Veronica X', 0),\n",
              " ('NBA 2K16', 0),\n",
              " ('Kinect Sports: Season Two', 0),\n",
              " ('My Fitness Coach', 2),\n",
              " ('Mario Tennis', 7),\n",
              " ('Grand Theft Auto', 7),\n",
              " ('James Bond 007: Everything or Nothing', 0),\n",
              " ('Need For Speed: High Stakes', 0),\n",
              " ('Chrono Trigger', 7),\n",
              " ('Guild Wars 2', 0),\n",
              " ('Cool Boarders 3', 7),\n",
              " ('Paper Mario: Sticker Star', 0),\n",
              " ('WarioWare Touched!', 7),\n",
              " ('Batman: Arkham Origins', 0),\n",
              " ('Tomb Raider II', 3),\n",
              " ('Yokai Watch Busters', 7),\n",
              " ('LEGO Star Wars: The Complete Saga', 0),\n",
              " ('Need for Speed Underground 2', 0),\n",
              " ('Pro Evolution Soccer 2010', 0),\n",
              " ('Mario Bros.', 7),\n",
              " ('FIFA Soccer 09', 0),\n",
              " ('LEGO Harry Potter: Years 1-4', 0),\n",
              " ('The Sims 3', 0),\n",
              " ('Pokemon Ranger: Shadows of Almia', 0),\n",
              " ('TOCA Touring Car Championship', 7),\n",
              " ('Dead Island', 0),\n",
              " ('Kirby: Nightmare in Dream Land', 0),\n",
              " ('Wario Land 4', 0),\n",
              " (\"Sonic's Ultimate Genesis Collection\", 0),\n",
              " ('Far Cry: Primal', 0),\n",
              " ('Battlefield 1', 0),\n",
              " (\"Onimusha 2: Samurai's Destiny\", 0),\n",
              " ('Cool Boarders 2', 7),\n",
              " ('Paper Mario: The Thousand-Year Door', 0),\n",
              " ('Madden NFL 12', 0),\n",
              " ('God of War: Ascension', 0),\n",
              " ('Guitar Hero III: Legends of Rock', 0),\n",
              " ('Sonic Advance', 0),\n",
              " ('Super Monkey Ball: Banana Blitz', 0),\n",
              " ('Just Dance Kids', 4),\n",
              " ('Call of Duty 3', 0),\n",
              " ('New Super Luigi U', 0),\n",
              " (\"Assassin's Creed IV: Black Flag\", 2),\n",
              " ('Spyro: Season of Ice', 0),\n",
              " ('Dissidia: Final Fantasy', 0),\n",
              " ('Madden NFL 25', 0),\n",
              " ('Teenage Mutant Ninja Turtles II: The Arcade Game', 7),\n",
              " ('Dance Dance Revolution X2', 4),\n",
              " ('Borderlands 2', 0),\n",
              " ('Prince of Persia: The Sands of Time', 0),\n",
              " ('Monster Hunter Tri', 0),\n",
              " ('LEGO Marvel Super Heroes', 0),\n",
              " (\"The Legend of Zelda: Link's Awakening DX\", 7),\n",
              " ('Resident Evil 4', 7),\n",
              " (\"Tom Clancy's Rainbow Six: Siege\", 0),\n",
              " ('Star Wars: The Force Unleashed', 0),\n",
              " (\"Devil May Cry 3: Dante's Awakening Special Edition\", 7),\n",
              " ('Frogger', 7),\n",
              " ('Guitar Hero II', 0),\n",
              " ('Forza Motorsport 5', 0),\n",
              " ('Rock Band 2', 0),\n",
              " ('Pro Yakyuu Family Stadium', 7),\n",
              " ('Wario Land 3', 7),\n",
              " ('Need for Speed: Hot Pursuit', 0),\n",
              " ('LEGO Indiana Jones: The Original Adventures', 0),\n",
              " ('BioShock 2', 0),\n",
              " (\"High School Musical: Makin' the Cut!\", 7),\n",
              " ('Star Wars: Knights of the Old Republic', 0),\n",
              " (\"Kirby's Pinball Land\", 7),\n",
              " ('Donkey Kong Country', 7),\n",
              " ('Madden NFL 15', 0),\n",
              " ('Pro Evolution Soccer 2012', 0),\n",
              " ('Saints Row', 0),\n",
              " ('Yu-Gi-Oh: Duel Monsters 4', 7),\n",
              " ('ATV Offroad Fury 2', 0),\n",
              " ('FIFA 15', 0),\n",
              " ('Mario & Luigi: Superstar Saga', 7),\n",
              " ('Star Wars: Rogue Squadron', 7),\n",
              " ('Tennis', 7),\n",
              " (\"Tom Clancy's The Division\", 0),\n",
              " ('Final Fantasy XIII', 0),\n",
              " ('The Sims: House Party', 0),\n",
              " ('Scribblenauts', 0),\n",
              " ('Sonic Unleashed', 0),\n",
              " ('Syphon Filter 2', 7),\n",
              " ('Pokemon Ranger', 0),\n",
              " ('Volleyball', 7),\n",
              " ('Skylanders SWAP Force', 2),\n",
              " ('Overwatch', 0),\n",
              " ('Hitman: Absolution', 0),\n",
              " ('SimCity 2000', 7),\n",
              " ('R.C. Pro-Am', 7),\n",
              " ('Super Mario RPG: Legend of the Seven Stars', 7),\n",
              " ('Mahjong', 7),\n",
              " ('Demon Attack', 7),\n",
              " ('Call of Duty: Roads to Victory', 0),\n",
              " ('Dance Dance Revolution Extreme', 0),\n",
              " ('Final Fantasy Tactics Advance', 0),\n",
              " ('Your Shape featuring Jenny McCarthy', 0),\n",
              " ('Project Gotham Racing', 0),\n",
              " ('Golf', 7),\n",
              " ('NBA 2K12', 0),\n",
              " (\"Tony Hawk's Pro Skater\", 7),\n",
              " ('Need for Speed: Hot Pursuit 2', 0),\n",
              " ('PES 2009: Pro Evolution Soccer', 7),\n",
              " ('Dynasty Warriors 4', 0),\n",
              " ('NBA 2K14', 0),\n",
              " ('Parasite Eve', 0),\n",
              " ('Tetris DS', 0),\n",
              " ('Project Gotham Racing (JP weekly sales)', 7),\n",
              " ('Scooby-Doo! Night of 100 Frights', 7),\n",
              " ('Battlefield: Hardline', 0),\n",
              " ('Mortal Kombat', 0),\n",
              " ('Borderlands', 0),\n",
              " (\"Devil May Cry 3: Dante's Awakening\", 0),\n",
              " ('Derby Stallion', 7),\n",
              " ('NBA 2K11', 0),\n",
              " ('Finding Nemo', 7),\n",
              " ('Dying Light', 0),\n",
              " ('Yokai Watch', 7),\n",
              " ('Dead Rising', 0),\n",
              " ('World of Warcraft: Cataclysm', 0),\n",
              " ('Tetris Worlds', 0),\n",
              " ('Final Fantasy III', 0),\n",
              " ('Sim Theme Park', 2),\n",
              " ('Mario Party 5', 0),\n",
              " ('Rock Band', 0),\n",
              " ('Warcraft: Orcs & Humans', 7),\n",
              " ('Mario & Luigi: Dream Team', 7),\n",
              " ('Portal 2', 0),\n",
              " ('Mario Sports Mix', 0),\n",
              " ('Need for Speed: Most Wanted 5-1-0', 0),\n",
              " ('Spec Ops: Airborne Commando', 7),\n",
              " ('The Sims 2: Pets', 0),\n",
              " ('Dance Dance Revolution: Hottest Party', 0),\n",
              " ('DriveClub', 0),\n",
              " ('Yu-Gi-Oh! The Eternal Duelist Soul', 7),\n",
              " ('UFC 2009 Undisputed', 0),\n",
              " ('Metal Gear Solid: Peace Walker', 0),\n",
              " (\"Kirby's Epic Yarn\", 7),\n",
              " ('Wipeout: The Game', 7),\n",
              " ('Pokemon Mystery Dungeon: Red/Blue Rescue Team', 7),\n",
              " ('The Incredibles', 2),\n",
              " ('R4: Ridge Racer Type 4', 1),\n",
              " ('Kingdom Hearts: Birth by Sleep', 0),\n",
              " (\"Tom Clancy's Splinter Cell: Conviction\", 7),\n",
              " ('SoulCalibur II', 0),\n",
              " ('Need for Speed: ProStreet', 0),\n",
              " ('Sonic Mega Collection', 0),\n",
              " ('Ghostbusters: The Video Game (DS Version)', 7),\n",
              " ('Madden NFL 15', 2),\n",
              " ('Need For Speed: Undercover', 0),\n",
              " ('Toy Story 3: The Video Game', 7),\n",
              " ('NBA Jam', 7),\n",
              " ('SOCOM: U.S. Navy SEALs: Combined Assault', 0),\n",
              " (\"Peter Jackson's King Kong: The Official Game of the Movie\", 0),\n",
              " ('Need for Speed: ProStreet', 0),\n",
              " ('Donkey Kong Country', 0),\n",
              " ('Dance Central 2', 0),\n",
              " ('PGR4 - Project Gotham Racing 4', 7),\n",
              " ('1080°: TenEighty Snowboarding', 7),\n",
              " ('Carnival Games', 0),\n",
              " ('NBA Live 2004', 0),\n",
              " ('Call of Duty 2', 0),\n",
              " ('Rayman Raving Rabbids: TV Party', 0),\n",
              " ('Pokémon Mystery Dungeon: Blue Rescue Team', 0),\n",
              " ('Dark Souls', 0),\n",
              " ('Just Dance 3', 0),\n",
              " ('Battlefield 4', 0),\n",
              " ('Fire Emblem: Awakening', 0),\n",
              " ('Need for Speed: The Run', 0),\n",
              " ('Just Dance 2015', 2),\n",
              " ('Dragon Age: Inquisition', 0),\n",
              " ('Super Street Fighter II', 7),\n",
              " ('Dead Space', 0),\n",
              " ('Mortal Kombat vs. DC Universe', 0),\n",
              " ('TouchMaster', 0),\n",
              " ('Tenchu: Stealth Assassins', 0),\n",
              " ('Tennis', 7),\n",
              " ('Harry Potter and the Chamber of Secrets', 0),\n",
              " ('Kingdom Hearts 358/2 Days', 0),\n",
              " ('Skate 3', 0),\n",
              " ('SimCity', 7),\n",
              " ('Harry Potter and the Chamber of Secrets', 2),\n",
              " ('Need for Speed Rivals', 0),\n",
              " ('Spyro: Enter the Dragonfly', 0),\n",
              " ('Devil May Cry 2', 0),\n",
              " ('E.T.: The Extra Terrestrial', 7),\n",
              " ('Hot Shots Golf: Open Tee', 0),\n",
              " ('Minecraft', 7),\n",
              " ('Soccer', 7),\n",
              " ('Rad Racer', 7),\n",
              " ('Forza Horizon', 0),\n",
              " (\"Tom Clancy's Rainbow Six: Vegas\", 0),\n",
              " ('Crash Nitro Kart', 0),\n",
              " ('Resident Evil 6', 0),\n",
              " ('Grand Theft Auto: San Andreas', 0),\n",
              " ('Star Wars: Dark Forces', 7),\n",
              " ('NBA Street Vol. 2', 0),\n",
              " ('Def Jam Vendetta', 0),\n",
              " ('Kirby Squeak Squad', 0),\n",
              " ('Burnout Paradise', 0),\n",
              " ('Who wants to be a millionaire', 4),\n",
              " ('Alleyway', 7),\n",
              " ('Scooby Doo and the Cyber Chase', 2),\n",
              " ('The Sims 3', 0),\n",
              " ('FIFA Soccer 09', 0),\n",
              " ('Dragon Ball Z: Budokai 3', 0),\n",
              " ('Call of Duty: World at War', 0),\n",
              " ('Jet Moto 2', 7),\n",
              " (\"Tom Clancy's Ghost Recon\", 0),\n",
              " ('BioShock Infinite', 0),\n",
              " ('X-Men Legends', 0),\n",
              " ('Mortal Kombat II', 7),\n",
              " ('Virtua Fighter 2', 7),\n",
              " ('Mortal Kombat vs. DC Universe', 0),\n",
              " ('Destiny: The Taken King', 0),\n",
              " ('Tetris DX', 7),\n",
              " ('The Legend of Zelda: Oracle of Ages', 7),\n",
              " ('Destiny', 2),\n",
              " ('Red Faction', 0),\n",
              " (\"The Sims: Makin' Magic\", 0),\n",
              " ('Mario Party: Island Tour', 0),\n",
              " ('MX Unleashed', 0),\n",
              " ('PaRappa The Rapper', 0),\n",
              " ('Guitar Hero: World Tour', 0),\n",
              " ('Need for Speed: Shift', 0),\n",
              " ('Mario Party 3', 7),\n",
              " ('Diablo III', 0),\n",
              " ('LittleBigPlanet 3', 0),\n",
              " ('Star Wars Rogue Leader: Rogue Squadron II', 0),\n",
              " ('Tomb Raider (2013)', 7),\n",
              " ('Mario Super Sluggers', 0),\n",
              " ('Donkey Kong Country Returns', 7),\n",
              " ('Monopoly', 0),\n",
              " ('Madden NFL 09', 0),\n",
              " ('Batman: Arkham Origins', 0),\n",
              " ('Game Party 2', 0),\n",
              " ('Yu-Gi-Oh! Forbidden Memories', 7),\n",
              " ('Mortal Kombat: Deception', 0),\n",
              " ('Hot Shots Golf 2', 7),\n",
              " ('Medal of Honor: European Assault (All Region sales)', 7),\n",
              " ('NBA 2K17', 0),\n",
              " ('Toy Story Mania!', 0),\n",
              " ('WCW Nitro', 7),\n",
              " ('High School Musical: Sing It!', 7),\n",
              " ('Star Fox Adventures', 0),\n",
              " ('FIFA 2000', 7),\n",
              " ('Madden NFL 25', 0),\n",
              " ('Dynasty Warriors 3', 0),\n",
              " ('The Legend of Zelda: Oracle of Seasons', 7),\n",
              " ('Ratchet & Clank Future: A Crack in Time', 7),\n",
              " ('Madden NFL 06', 0),\n",
              " ('Shrek 2', 0),\n",
              " ('Turok 2: Seeds of Evil', 7),\n",
              " ('The Legend of Dragoon', 0),\n",
              " ('SingStar', 7),\n",
              " ('Star Wars: The Force Unleashed', 0),\n",
              " ('NBA Live 2002', 0),\n",
              " ('Just Cause 3', 0),\n",
              " ('Chrono Cross', 0),\n",
              " ('Jak 3', 0),\n",
              " ('Kingdom Hearts: Chain of Memories', 0),\n",
              " ('Pinball', 7),\n",
              " ('Max Payne 3', 0),\n",
              " ('Gran Turismo Concept 2001 Tokyo', 7),\n",
              " ('LEGO Marvel Super Heroes', 0),\n",
              " ('Phineas and Ferb', 0),\n",
              " ('NCAA Football 06', 0),\n",
              " ('Hey You, Pikachu!', 7),\n",
              " ('Rayman Raving Rabbids 2', 0),\n",
              " ('2 Games in 1: Sonic Advance & ChuChu Rocket!', 7),\n",
              " ('Jet Moto', 7),\n",
              " ('Kirby: Triple Deluxe', 0),\n",
              " ('Secret of Mana', 7),\n",
              " ('GoldenEye 007 (2010)', 7),\n",
              " ('Sonic Classic Collection', 0),\n",
              " ('Air Combat', 7),\n",
              " ('Diablo III', 5),\n",
              " ('inFAMOUS 2', 0),\n",
              " ('World of Warcraft: Mists of Pandaria', 0),\n",
              " ('Sonic & Knuckles', 7),\n",
              " ('Namco Museum', 0),\n",
              " ('The Sims: Hot Date', 0),\n",
              " (\"Demon's Souls\", 0),\n",
              " ('The Orange Box', 0),\n",
              " ('DDRMAX2: Dance Dance Revolution', 0),\n",
              " ('Crazy Taxi', 7),\n",
              " ('Virtua Fighter 4', 0),\n",
              " ('Mafia III', 0),\n",
              " ('Sly 2: Band of Thieves', 0),\n",
              " ('Guitar Hero: World Tour', 2),\n",
              " ('Sonic Advance 2', 0),\n",
              " ('Madden NFL 07', 0),\n",
              " ('NFL GameDay 2000', 7),\n",
              " ('NBA 2K11', 0),\n",
              " ('Forza Motorsport 6', 0),\n",
              " ('The Evil Within', 0),\n",
              " ('Metroid Prime 3: Corruption', 0),\n",
              " ('The Legend of Zelda: The Wind Waker', 7),\n",
              " (\"Disney's The Lion King\", 7),\n",
              " ('Professor Layton and the Mask of Miracle', 7),\n",
              " ('Midnight Club II', 0),\n",
              " ('SpongeBob SquarePants: SuperSponge', 7),\n",
              " ('The Getaway: Black Monday', 0),\n",
              " ('50 Cent: Bulletproof', 0),\n",
              " ('Final Fantasy II', 7),\n",
              " ('Kirby 64: The Crystal Shards', 7),\n",
              " ('Dead or Alive 3', 0),\n",
              " ('Dragon Quest Monsters: Joker', 0),\n",
              " ('LEGO Star Wars III: The Clone Wars', 0),\n",
              " ('High School Musical: Sing It!', 7),\n",
              " ('Metroid II: Return of Samus', 7),\n",
              " ('WWF Attitude', 7),\n",
              " ('UFC 2009 Undisputed', 0),\n",
              " ('The SpongeBob SquarePants Movie', 0),\n",
              " ('Golden Sun', 0),\n",
              " ('Sonic the Hedgehog 3', 7),\n",
              " ('Kid Icarus', 7),\n",
              " ('Def Jam: Fight for NY', 0),\n",
              " (\"Tom Clancy's Ghost Recon\", 0),\n",
              " ...]"
            ]
          },
          "metadata": {
            "tags": []
          },
          "execution_count": 38
        }
      ]
    },
    {
      "cell_type": "markdown",
      "metadata": {
        "id": "BAYc_-se7085"
      },
      "source": [
        "From the above function we see there are many rows missing several features and many rows with no null values."
      ]
    },
    {
      "cell_type": "markdown",
      "metadata": {
        "id": "YHqmaTMo8EG8"
      },
      "source": [
        "In addition to user defined functions like 'lit' and 'lambda' we can use SQL functions to wrangle our data in Spark. Let's review the percent of missingness by column. But first import the sql functions as fn."
      ]
    },
    {
      "cell_type": "code",
      "metadata": {
        "id": "tYROPngf81Sy"
      },
      "source": [
        "import pyspark.sql.functions as fn"
      ],
      "execution_count": 39,
      "outputs": []
    },
    {
      "cell_type": "markdown",
      "metadata": {
        "id": "evf7g3olos5b"
      },
      "source": [
        "Print the percent of null values per column."
      ]
    },
    {
      "cell_type": "code",
      "metadata": {
        "id": "5RuJzhxS8X72",
        "colab": {
          "base_uri": "https://localhost:8080/"
        },
        "outputId": "9479edd3-74ce-4866-d9d5-0cab42880a4a"
      },
      "source": [
        "#Answer below:\r\n",
        "video.agg(*[(1-(fn.count(c)/fn.count('*'))) for c in video.columns]).show()"
      ],
      "execution_count": 49,
      "outputs": [
        {
          "output_type": "stream",
          "text": [
            "+------------------------------+----------------------------------+-----------------------------------------+-------------------------------+-----------------------------------+----------------------------------+----------------------------------+----------------------------------+-------------------------------------+-------------------------------------+--------------------------------------+--------------------------------------+------------------------------------+------------------------------------+-----------------------------------+--------------------------------+-----------------------------------+\n",
            "|(1 - (count(Name) / count(1)))|(1 - (count(Platform) / count(1)))|(1 - (count(Year_of_Release) / count(1)))|(1 - (count(Genre) / count(1)))|(1 - (count(Publisher) / count(1)))|(1 - (count(NA_Sales) / count(1)))|(1 - (count(EU_Sales) / count(1)))|(1 - (count(JP_Sales) / count(1)))|(1 - (count(Other_Sales) / count(1)))|(1 - (count(Total_Sales) / count(1)))|(1 - (count(Critic_Score) / count(1)))|(1 - (count(Critic_Count) / count(1)))|(1 - (count(User_Score) / count(1)))|(1 - (count(User_Count) / count(1)))|(1 - (count(Developer) / count(1)))|(1 - (count(Rating) / count(1)))|(1 - (count(Score_100) / count(1)))|\n",
            "+------------------------------+----------------------------------+-----------------------------------------+-------------------------------+-----------------------------------+----------------------------------+----------------------------------+----------------------------------+-------------------------------------+-------------------------------------+--------------------------------------+--------------------------------------+------------------------------------+------------------------------------+-----------------------------------+--------------------------------+-----------------------------------+\n",
            "|          1.196243794485685...|                               0.0|                                      0.0|           1.196243794485685...|                                0.0|                               0.0|                               0.0|                               0.0|                                  0.0|                                  0.0|                    0.5133082122136492|                    0.5133082122136492|                   0.400980919911478|                  0.5460254799928226|                 0.3961361325438124|             0.40486871224355525|                 0.5460254799928226|\n",
            "+------------------------------+----------------------------------+-----------------------------------------+-------------------------------+-----------------------------------+----------------------------------+----------------------------------+----------------------------------+-------------------------------------+-------------------------------------+--------------------------------------+--------------------------------------+------------------------------------+------------------------------------+-----------------------------------+--------------------------------+-----------------------------------+\n",
            "\n"
          ],
          "name": "stdout"
        }
      ]
    },
    {
      "cell_type": "markdown",
      "metadata": {
        "id": "_4FUppGR-ss5"
      },
      "source": [
        "We notice that the developer column is missing about 40% of the rows and we need to calculate the average sales revenue by developer so let's drop records where `Developer` is missing."
      ]
    },
    {
      "cell_type": "code",
      "metadata": {
        "id": "tFm9rNIV-7yD"
      },
      "source": [
        "#Answer below:\r\n",
        "video = video.filter(video['Developer'].isNotNull())"
      ],
      "execution_count": 52,
      "outputs": []
    },
    {
      "cell_type": "markdown",
      "metadata": {
        "id": "d9_58zZnQ4m8"
      },
      "source": [
        "Review the new dataframe with no null values in the Developer column."
      ]
    },
    {
      "cell_type": "code",
      "metadata": {
        "id": "dnKVtUnoKtS9",
        "colab": {
          "base_uri": "https://localhost:8080/"
        },
        "outputId": "f7c07ceb-e3d7-405d-a682-140c482a291e"
      },
      "source": [
        "#Answer below:\r\n",
        "video.show()"
      ],
      "execution_count": 53,
      "outputs": [
        {
          "output_type": "stream",
          "text": [
            "+--------------------+--------+---------------+--------+--------------------+--------+--------+--------+-----------+-----------+------------+------------+----------+----------+--------------------+------+---------+\n",
            "|                Name|Platform|Year_of_Release|   Genre|           Publisher|NA_Sales|EU_Sales|JP_Sales|Other_Sales|Total_Sales|Critic_Score|Critic_Count|User_Score|User_Count|           Developer|Rating|Score_100|\n",
            "+--------------------+--------+---------------+--------+--------------------+--------+--------+--------+-----------+-----------+------------+------------+----------+----------+--------------------+------+---------+\n",
            "|          Wii Sports|     Wii|           2006|  Sports|            Nintendo|   41.36|   28.96|    3.77|       8.45|      82.53|          76|          51|         8|       322|            Nintendo|     E|     80.0|\n",
            "|      Mario Kart Wii|     Wii|           2008|  Racing|            Nintendo|   15.68|   12.76|    3.79|       3.29|      35.52|          82|          73|       8.3|       709|            Nintendo|     E|     83.0|\n",
            "|   Wii Sports Resort|     Wii|           2009|  Sports|            Nintendo|   15.61|   10.93|    3.28|       2.95|      32.77|          80|          73|         8|       192|            Nintendo|     E|     80.0|\n",
            "|New Super Mario B...|      DS|           2006|Platform|            Nintendo|   11.28|    9.14|     6.5|       2.88|       29.8|          89|          65|       8.5|       431|            Nintendo|     E|     85.0|\n",
            "|            Wii Play|     Wii|           2006|    Misc|            Nintendo|   13.96|    9.18|    2.93|       2.84|      28.92|          58|          41|       6.6|       129|            Nintendo|     E|     66.0|\n",
            "|New Super Mario B...|     Wii|           2009|Platform|            Nintendo|   14.44|    6.94|     4.7|       2.24|      28.32|          87|          80|       8.4|       594|            Nintendo|     E|     84.0|\n",
            "|       Mario Kart DS|      DS|           2005|  Racing|            Nintendo|    9.71|    7.47|    4.13|        1.9|      23.21|          91|          64|       8.6|       464|            Nintendo|     E|     86.0|\n",
            "|             Wii Fit|     Wii|           2007|  Sports|            Nintendo|    8.92|    8.03|     3.6|       2.15|       22.7|          80|          63|       7.7|       146|            Nintendo|     E|     77.0|\n",
            "|  Kinect Adventures!|    X360|           2010|    Misc|Microsoft Game St...|    15.0|    4.89|    0.24|       1.69|      21.81|          61|          45|       6.3|       106| Good Science Studio|     E|     63.0|\n",
            "|        Wii Fit Plus|     Wii|           2009|  Sports|            Nintendo|    9.01|    8.49|    2.53|       1.77|      21.79|          80|          33|       7.4|        52|            Nintendo|     E|     74.0|\n",
            "|  Grand Theft Auto V|     PS3|           2013|  Action|Take-Two Interactive|    7.02|    9.09|    0.98|       3.96|      21.04|          97|          50|       8.2|      3994|      Rockstar North|     M|     82.0|\n",
            "|Grand Theft Auto:...|     PS2|           2004|  Action|Take-Two Interactive|    9.43|     0.4|    0.41|      10.57|      20.81|          95|          80|         9|      1588|      Rockstar North|     M|     90.0|\n",
            "|Brain Age: Train ...|      DS|           2005|    Misc|            Nintendo|    4.74|     9.2|    4.16|       2.04|      20.15|          77|          58|       7.9|        50|            Nintendo|     E|     79.0|\n",
            "|  Grand Theft Auto V|    X360|           2013|  Action|Take-Two Interactive|    9.66|    5.14|    0.06|       1.41|      16.27|          97|          58|       8.1|      3711|      Rockstar North|     M|     81.0|\n",
            "|Grand Theft Auto:...|     PS2|           2002|  Action|Take-Two Interactive|    8.41|    5.49|    0.47|       1.78|      16.15|          95|          62|       8.7|       730|      Rockstar North|     M|     87.0|\n",
            "|Brain Age 2: More...|      DS|           2005|  Puzzle|            Nintendo|    3.43|    5.35|    5.32|       1.18|      15.29|          77|          37|       7.1|        19|            Nintendo|     E|     71.0|\n",
            "|Gran Turismo 3: A...|     PS2|           2001|  Racing|Sony Computer Ent...|    6.85|    5.09|    1.87|       1.16|      14.98|          95|          54|       8.4|       314|   Polyphony Digital|     E|     84.0|\n",
            "|Call of Duty: Mod...|    X360|           2011| Shooter|          Activision|    9.04|    4.24|    0.13|       1.32|      14.73|          88|          81|       3.4|      8713|Infinity Ward, Sl...|     M|     34.0|\n",
            "|Call of Duty: Bla...|    X360|           2010| Shooter|          Activision|     9.7|    3.68|    0.11|       1.13|      14.61|          87|          89|       6.3|      1454|            Treyarch|     M|     63.0|\n",
            "|Call of Duty: Bla...|     PS3|           2012| Shooter|          Activision|    4.99|    5.73|    0.65|       2.42|      13.79|          83|          21|       5.3|       922|            Treyarch|     M|     53.0|\n",
            "+--------------------+--------+---------------+--------+--------------------+--------+--------+--------+-----------+-----------+------------+------------+----------+----------+--------------------+------+---------+\n",
            "only showing top 20 rows\n",
            "\n"
          ],
          "name": "stdout"
        }
      ]
    },
    {
      "cell_type": "markdown",
      "metadata": {
        "id": "9UpMKNHq-z3C"
      },
      "source": [
        "Calculate the mean global sales by developer using a groupby aggregation and show the results."
      ]
    },
    {
      "cell_type": "code",
      "metadata": {
        "id": "SMOEst4r8DtE",
        "colab": {
          "base_uri": "https://localhost:8080/"
        },
        "outputId": "de5fe9a4-19ef-4a4c-d9b2-b74ae0e63cab"
      },
      "source": [
        "#Answer below:\r\n",
        "video.groupBy('Developer').mean('Total_Sales').show()"
      ],
      "execution_count": 55,
      "outputs": [
        {
          "output_type": "stream",
          "text": [
            "+--------------------+-------------------+\n",
            "|           Developer|   avg(Total_Sales)|\n",
            "+--------------------+-------------------+\n",
            "| Hyperspace Cowgirls|                0.3|\n",
            "|            Deep Red|               0.02|\n",
            "|        Funbox Media|               0.02|\n",
            "|      Camouflaj, LLC|               0.01|\n",
            "|          SCEA, Sims|                0.7|\n",
            "|Ubisoft Barcelona...|               0.47|\n",
            "|LightBox Interactive|               0.29|\n",
            "|      Handheld Games|0.12333333333333335|\n",
            "|     Beep Industries|               0.12|\n",
            "|          SpiderMonk|               0.07|\n",
            "|             Blue 52|               0.04|\n",
            "|      Rockstar Leeds|  2.622222222222222|\n",
            "|           Hangar 13| 0.8733333333333334|\n",
            "|         id Software|               0.56|\n",
            "|       ZeniMax Media|               1.09|\n",
            "|Gearbox Software,...| 0.6666666666666666|\n",
            "|           Telegames|               0.29|\n",
            "|                 3DO|0.16470588235294115|\n",
            "|            Tantatus|0.17750000000000002|\n",
            "|     Lancarse, Atlus|               0.33|\n",
            "+--------------------+-------------------+\n",
            "only showing top 20 rows\n",
            "\n"
          ],
          "name": "stdout"
        }
      ]
    },
    {
      "cell_type": "code",
      "metadata": {
        "id": "0GGwqbuq-_l5"
      },
      "source": [
        ""
      ],
      "execution_count": 22,
      "outputs": []
    }
  ]
}