{
  "nbformat": 4,
  "nbformat_minor": 0,
  "metadata": {
    "colab": {
      "name": "Oscar_D83L2_ML_Spark_Assignment.ipynb",
      "provenance": [],
      "collapsed_sections": []
    },
    "kernelspec": {
      "name": "python3",
      "display_name": "Python 3"
    }
  },
  "cells": [
    {
      "cell_type": "markdown",
      "metadata": {
        "id": "Ry4VDk_llCLY"
      },
      "source": [
        "## Day 83 Lecture 2 Assignment\n",
        "\n",
        "In this assignment, we will learn about Spark and MLLib.\n",
        "\n",
        "\n"
      ]
    },
    {
      "cell_type": "markdown",
      "metadata": {
        "id": "dNByDud4iU40"
      },
      "source": [
        "Update the Google Compute Engine."
      ]
    },
    {
      "cell_type": "code",
      "metadata": {
        "id": "NIxqnOXGS1OX",
        "colab": {
          "base_uri": "https://localhost:8080/"
        },
        "outputId": "c1f70943-5ba5-45e4-ea60-dfa298a2b656"
      },
      "source": [
        "! apt-get update"
      ],
      "execution_count": 1,
      "outputs": [
        {
          "output_type": "stream",
          "text": [
            "Get:1 http://security.ubuntu.com/ubuntu bionic-security InRelease [88.7 kB]\n",
            "Ign:2 https://developer.download.nvidia.com/compute/cuda/repos/ubuntu1804/x86_64  InRelease\n",
            "Get:3 https://cloud.r-project.org/bin/linux/ubuntu bionic-cran40/ InRelease [3,626 B]\n",
            "Get:4 http://ppa.launchpad.net/c2d4u.team/c2d4u4.0+/ubuntu bionic InRelease [15.9 kB]\n",
            "Ign:5 https://developer.download.nvidia.com/compute/machine-learning/repos/ubuntu1804/x86_64  InRelease\n",
            "Hit:6 https://developer.download.nvidia.com/compute/cuda/repos/ubuntu1804/x86_64  Release\n",
            "Get:7 https://developer.download.nvidia.com/compute/machine-learning/repos/ubuntu1804/x86_64  Release [564 B]\n",
            "Hit:8 http://archive.ubuntu.com/ubuntu bionic InRelease\n",
            "Get:9 https://developer.download.nvidia.com/compute/machine-learning/repos/ubuntu1804/x86_64  Release.gpg [833 B]\n",
            "Get:10 http://archive.ubuntu.com/ubuntu bionic-updates InRelease [88.7 kB]\n",
            "Hit:11 http://ppa.launchpad.net/cran/libgit2/ubuntu bionic InRelease\n",
            "Get:12 http://security.ubuntu.com/ubuntu bionic-security/restricted amd64 Packages [278 kB]\n",
            "Get:13 http://security.ubuntu.com/ubuntu bionic-security/universe amd64 Packages [1,376 kB]\n",
            "Get:14 http://ppa.launchpad.net/graphics-drivers/ppa/ubuntu bionic InRelease [21.3 kB]\n",
            "Get:15 http://archive.ubuntu.com/ubuntu bionic-backports InRelease [74.6 kB]\n",
            "Get:16 http://security.ubuntu.com/ubuntu bionic-security/main amd64 Packages [1,872 kB]\n",
            "Get:17 https://cloud.r-project.org/bin/linux/ubuntu bionic-cran40/ Packages [43.6 kB]\n",
            "Get:19 http://ppa.launchpad.net/c2d4u.team/c2d4u4.0+/ubuntu bionic/main Sources [1,708 kB]\n",
            "Get:20 https://developer.download.nvidia.com/compute/machine-learning/repos/ubuntu1804/x86_64  Packages [66.5 kB]\n",
            "Get:21 http://ppa.launchpad.net/c2d4u.team/c2d4u4.0+/ubuntu bionic/main amd64 Packages [874 kB]\n",
            "Get:22 http://archive.ubuntu.com/ubuntu bionic-updates/main amd64 Packages [2,298 kB]\n",
            "Get:23 http://ppa.launchpad.net/graphics-drivers/ppa/ubuntu bionic/main amd64 Packages [49.2 kB]\n",
            "Get:24 http://archive.ubuntu.com/ubuntu bionic-updates/universe amd64 Packages [2,140 kB]\n",
            "Get:25 http://archive.ubuntu.com/ubuntu bionic-updates/multiverse amd64 Packages [45.6 kB]\n",
            "Get:26 http://archive.ubuntu.com/ubuntu bionic-updates/restricted amd64 Packages [304 kB]\n",
            "Fetched 11.3 MB in 3s (3,517 kB/s)\n",
            "Reading package lists... Done\n"
          ],
          "name": "stdout"
        }
      ]
    },
    {
      "cell_type": "markdown",
      "metadata": {
        "id": "4XJYeAHeihaf"
      },
      "source": [
        "Run the cells below to start a spark session."
      ]
    },
    {
      "cell_type": "code",
      "metadata": {
        "id": "wen6A2I2RYVV"
      },
      "source": [
        "!apt-get install openjdk-8-jdk-headless -qq > /dev/null\n",
        "!wget -q https://archive.apache.org/dist/spark/spark-2.4.6/spark-2.4.6-bin-hadoop2.7.tgz\n",
        "!tar xf spark-2.4.6-bin-hadoop2.7.tgz"
      ],
      "execution_count": 2,
      "outputs": []
    },
    {
      "cell_type": "markdown",
      "metadata": {
        "id": "zm3pHHHxNmkW"
      },
      "source": [
        "Set up the environmental variables."
      ]
    },
    {
      "cell_type": "code",
      "metadata": {
        "id": "VW40H37fIb0t"
      },
      "source": [
        "import os\n",
        "os.environ[\"JAVA_HOME\"] = \"/usr/lib/jvm/java-8-openjdk-amd64\"\n",
        "os.environ[\"SPARK_HOME\"] = \"/content/spark-2.4.6-bin-hadoop2.7\""
      ],
      "execution_count": 3,
      "outputs": []
    },
    {
      "cell_type": "markdown",
      "metadata": {
        "id": "1vdAA2aoNqhz"
      },
      "source": [
        "Install Pyspark. ***Note: The version must match the version of Spark that you have installed earlier***."
      ]
    },
    {
      "cell_type": "code",
      "metadata": {
        "id": "274gUgKyIjnC",
        "colab": {
          "base_uri": "https://localhost:8080/"
        },
        "outputId": "1635c23a-5d1a-4cad-b0d3-1a58f7e0609d"
      },
      "source": [
        "!pip install -q findspark\n",
        "!pip install pyspark==2.4.6"
      ],
      "execution_count": 4,
      "outputs": [
        {
          "output_type": "stream",
          "text": [
            "Collecting pyspark==2.4.6\n",
            "\u001b[?25l  Downloading https://files.pythonhosted.org/packages/e9/e4/5c15ab8d354c4e3528510821865e6748209a9b0ff6a1788f4cd36cc2a5dc/pyspark-2.4.6.tar.gz (218.4MB)\n",
            "\u001b[K     |████████████████████████████████| 218.4MB 63kB/s \n",
            "\u001b[?25hCollecting py4j==0.10.7\n",
            "\u001b[?25l  Downloading https://files.pythonhosted.org/packages/e3/53/c737818eb9a7dc32a7cd4f1396e787bd94200c3997c72c1dbe028587bd76/py4j-0.10.7-py2.py3-none-any.whl (197kB)\n",
            "\u001b[K     |████████████████████████████████| 204kB 45.2MB/s \n",
            "\u001b[?25hBuilding wheels for collected packages: pyspark\n",
            "  Building wheel for pyspark (setup.py) ... \u001b[?25l\u001b[?25hdone\n",
            "  Created wheel for pyspark: filename=pyspark-2.4.6-py2.py3-none-any.whl size=218814406 sha256=d7001156c7487f88b0c556ba7bd7fef6c1955d875383fcc51820233be8c760e7\n",
            "  Stored in directory: /root/.cache/pip/wheels/1e/5e/6a/17e906c94ec7246f260330a66e44a06a0809033ba2738a74a8\n",
            "Successfully built pyspark\n",
            "Installing collected packages: py4j, pyspark\n",
            "Successfully installed py4j-0.10.7 pyspark-2.4.6\n"
          ],
          "name": "stdout"
        }
      ]
    },
    {
      "cell_type": "markdown",
      "metadata": {
        "id": "AtsLvt2JlI7X"
      },
      "source": [
        "Download and save the video games sales CSV file to your Colab Data folder on Google Drive. \n",
        "\n",
        "The file can be downloaded from link [here](https://tf-assets-prod.s3.amazonaws.com/tf-curric/data-science/Data%20Sets%20Big%20Data/Video_Games_Sales_as_at_22_Dec_2016.csv), download it and save it to your Google Colab Data folder on gdrive.\n"
      ]
    },
    {
      "cell_type": "markdown",
      "metadata": {
        "id": "M1TXjLAWN3Wd"
      },
      "source": [
        "Mount your Google drive for access in Google Colab Notebooks."
      ]
    },
    {
      "cell_type": "code",
      "metadata": {
        "id": "uFXDtsaOIsLI",
        "colab": {
          "base_uri": "https://localhost:8080/"
        },
        "outputId": "5572cb5e-b1de-4360-9e50-4e8534c46649"
      },
      "source": [
        "from google.colab import drive\n",
        "drive.mount('/content/gdrive')"
      ],
      "execution_count": 5,
      "outputs": [
        {
          "output_type": "stream",
          "text": [
            "Mounted at /content/gdrive\n"
          ],
          "name": "stdout"
        }
      ]
    },
    {
      "cell_type": "markdown",
      "metadata": {
        "id": "aIuuMcVvPH9l"
      },
      "source": [
        "Change your directory to the Colab Data folder where you saved the CSV file."
      ]
    },
    {
      "cell_type": "code",
      "metadata": {
        "id": "X8_ke5oAkBU6"
      },
      "source": [
        "os.chdir('/content/gdrive/MyDrive/DataSets')"
      ],
      "execution_count": 6,
      "outputs": []
    },
    {
      "cell_type": "markdown",
      "metadata": {
        "id": "hcU6yqpgO_of"
      },
      "source": [
        "Set your local session."
      ]
    },
    {
      "cell_type": "code",
      "metadata": {
        "id": "BRiTkZyDebpj"
      },
      "source": [
        "APP_NAME = \"Day83\"\n",
        "SPARK_URL = \"local[*]\""
      ],
      "execution_count": 7,
      "outputs": []
    },
    {
      "cell_type": "markdown",
      "metadata": {
        "id": "Lkb7U6V5ioAP"
      },
      "source": [
        "Run the cells below to start a spark session."
      ]
    },
    {
      "cell_type": "code",
      "metadata": {
        "id": "flNZrdlNDuas"
      },
      "source": [
        "from pyspark.sql import SparkSession\n",
        "spark = SparkSession.builder.appName(APP_NAME).getOrCreate()"
      ],
      "execution_count": 8,
      "outputs": []
    },
    {
      "cell_type": "markdown",
      "metadata": {
        "id": "Ux-rFpwBimqD"
      },
      "source": [
        "List all the files in your directory."
      ]
    },
    {
      "cell_type": "code",
      "metadata": {
        "id": "HEln8x7hx7H-",
        "colab": {
          "base_uri": "https://localhost:8080/"
        },
        "outputId": "753cb33f-e2ac-43ca-ecf1-8d67c9040b41"
      },
      "source": [
        "# Answer below:\n",
        "os.listdir()\n"
      ],
      "execution_count": 9,
      "outputs": [
        {
          "output_type": "execute_result",
          "data": {
            "text/plain": [
              "['creditcard.csv',\n",
              " 'Corona_NLP_train.csv',\n",
              " 'D71L2_TEXT_FILE',\n",
              " 'D71L2_TEXT_FILE_2',\n",
              " 'D71L2_API_Calls',\n",
              " 'cnn_lite',\n",
              " 'AP_News',\n",
              " 'company_profiles',\n",
              " 'dogs-vs-cats-processed',\n",
              " 'UCI HAR Dataset',\n",
              " '2600-0.txt',\n",
              " 'Corona_NLP_test.csv',\n",
              " 'nfL6.json',\n",
              " 'dialogs.txt',\n",
              " '6-facial-recognition-hero.jpg',\n",
              " 'Mall_Customers.csv',\n",
              " 'Video_Games_Sales_as_at_22_Dec_2016.csv']"
            ]
          },
          "metadata": {
            "tags": []
          },
          "execution_count": 9
        }
      ]
    },
    {
      "cell_type": "markdown",
      "metadata": {
        "id": "yo2CIL4XPRzn"
      },
      "source": [
        "Load the CSV file as a Spark dataframe."
      ]
    },
    {
      "cell_type": "code",
      "metadata": {
        "id": "wvrsUPFKUgWJ"
      },
      "source": [
        "video = spark.read.format(\"csv\").option(\"header\", \"true\").option(\"inferSchema\", \"true\").load(\"Video_Games_Sales_as_at_22_Dec_2016.csv\")"
      ],
      "execution_count": 10,
      "outputs": []
    },
    {
      "cell_type": "markdown",
      "metadata": {
        "id": "j1OiHvakqnM1"
      },
      "source": [
        "Review the data by applying the show command."
      ]
    },
    {
      "cell_type": "code",
      "metadata": {
        "id": "0yzV32sgqidJ",
        "colab": {
          "base_uri": "https://localhost:8080/"
        },
        "outputId": "06f2072a-91e3-4848-90bb-cd9c82e29104"
      },
      "source": [
        "# Answer below:\n",
        "video.show()"
      ],
      "execution_count": 12,
      "outputs": [
        {
          "output_type": "stream",
          "text": [
            "+--------------------+--------+---------------+------------+--------------------+--------+--------+--------+-----------+------------+------------+------------+----------+----------+-------------------+------+\n",
            "|                Name|Platform|Year_of_Release|       Genre|           Publisher|NA_Sales|EU_Sales|JP_Sales|Other_Sales|Global_Sales|Critic_Score|Critic_Count|User_Score|User_Count|          Developer|Rating|\n",
            "+--------------------+--------+---------------+------------+--------------------+--------+--------+--------+-----------+------------+------------+------------+----------+----------+-------------------+------+\n",
            "|          Wii Sports|     Wii|           2006|      Sports|            Nintendo|   41.36|   28.96|    3.77|       8.45|       82.53|          76|          51|         8|       322|           Nintendo|     E|\n",
            "|   Super Mario Bros.|     NES|           1985|    Platform|            Nintendo|   29.08|    3.58|    6.81|       0.77|       40.24|        null|        null|      null|      null|               null|  null|\n",
            "|      Mario Kart Wii|     Wii|           2008|      Racing|            Nintendo|   15.68|   12.76|    3.79|       3.29|       35.52|          82|          73|       8.3|       709|           Nintendo|     E|\n",
            "|   Wii Sports Resort|     Wii|           2009|      Sports|            Nintendo|   15.61|   10.93|    3.28|       2.95|       32.77|          80|          73|         8|       192|           Nintendo|     E|\n",
            "|Pokemon Red/Pokem...|      GB|           1996|Role-Playing|            Nintendo|   11.27|    8.89|   10.22|        1.0|       31.37|        null|        null|      null|      null|               null|  null|\n",
            "|              Tetris|      GB|           1989|      Puzzle|            Nintendo|    23.2|    2.26|    4.22|       0.58|       30.26|        null|        null|      null|      null|               null|  null|\n",
            "|New Super Mario B...|      DS|           2006|    Platform|            Nintendo|   11.28|    9.14|     6.5|       2.88|        29.8|          89|          65|       8.5|       431|           Nintendo|     E|\n",
            "|            Wii Play|     Wii|           2006|        Misc|            Nintendo|   13.96|    9.18|    2.93|       2.84|       28.92|          58|          41|       6.6|       129|           Nintendo|     E|\n",
            "|New Super Mario B...|     Wii|           2009|    Platform|            Nintendo|   14.44|    6.94|     4.7|       2.24|       28.32|          87|          80|       8.4|       594|           Nintendo|     E|\n",
            "|           Duck Hunt|     NES|           1984|     Shooter|            Nintendo|   26.93|    0.63|    0.28|       0.47|       28.31|        null|        null|      null|      null|               null|  null|\n",
            "|          Nintendogs|      DS|           2005|  Simulation|            Nintendo|    9.05|   10.95|    1.93|       2.74|       24.67|        null|        null|      null|      null|               null|  null|\n",
            "|       Mario Kart DS|      DS|           2005|      Racing|            Nintendo|    9.71|    7.47|    4.13|        1.9|       23.21|          91|          64|       8.6|       464|           Nintendo|     E|\n",
            "|Pokemon Gold/Poke...|      GB|           1999|Role-Playing|            Nintendo|     9.0|    6.18|     7.2|       0.71|        23.1|        null|        null|      null|      null|               null|  null|\n",
            "|             Wii Fit|     Wii|           2007|      Sports|            Nintendo|    8.92|    8.03|     3.6|       2.15|        22.7|          80|          63|       7.7|       146|           Nintendo|     E|\n",
            "|  Kinect Adventures!|    X360|           2010|        Misc|Microsoft Game St...|    15.0|    4.89|    0.24|       1.69|       21.81|          61|          45|       6.3|       106|Good Science Studio|     E|\n",
            "|        Wii Fit Plus|     Wii|           2009|      Sports|            Nintendo|    9.01|    8.49|    2.53|       1.77|       21.79|          80|          33|       7.4|        52|           Nintendo|     E|\n",
            "|  Grand Theft Auto V|     PS3|           2013|      Action|Take-Two Interactive|    7.02|    9.09|    0.98|       3.96|       21.04|          97|          50|       8.2|      3994|     Rockstar North|     M|\n",
            "|Grand Theft Auto:...|     PS2|           2004|      Action|Take-Two Interactive|    9.43|     0.4|    0.41|      10.57|       20.81|          95|          80|         9|      1588|     Rockstar North|     M|\n",
            "|   Super Mario World|    SNES|           1990|    Platform|            Nintendo|   12.78|    3.75|    3.54|       0.55|       20.61|        null|        null|      null|      null|               null|  null|\n",
            "|Brain Age: Train ...|      DS|           2005|        Misc|            Nintendo|    4.74|     9.2|    4.16|       2.04|       20.15|          77|          58|       7.9|        50|           Nintendo|     E|\n",
            "+--------------------+--------+---------------+------------+--------------------+--------+--------+--------+-----------+------------+------------+------------+----------+----------+-------------------+------+\n",
            "only showing top 20 rows\n",
            "\n"
          ],
          "name": "stdout"
        }
      ]
    },
    {
      "cell_type": "markdown",
      "metadata": {
        "id": "d9_58zZnQ4m8"
      },
      "source": [
        "We will predict global sales using a number of variables in this dataset. We will start by removing all missing data (though we know that this will make the dataset significantly smaller). Drop all the missing values using dropna."
      ]
    },
    {
      "cell_type": "code",
      "metadata": {
        "id": "dnKVtUnoKtS9"
      },
      "source": [
        "# Answer below:\n",
        "video_na = video.dropna()"
      ],
      "execution_count": 13,
      "outputs": []
    },
    {
      "cell_type": "markdown",
      "metadata": {
        "id": "_CgzqoLDw5aU"
      },
      "source": [
        "Get the unique values for Genre.\n"
      ]
    },
    {
      "cell_type": "code",
      "metadata": {
        "id": "1bhnicFVw8uN",
        "colab": {
          "base_uri": "https://localhost:8080/"
        },
        "outputId": "b79e31e6-9835-42de-9de1-bd23390220dc"
      },
      "source": [
        "distinct_g = [x.Genre for x in video.select('Genre').distinct().collect()]\n",
        "len(distinct_g)"
      ],
      "execution_count": 14,
      "outputs": [
        {
          "output_type": "execute_result",
          "data": {
            "text/plain": [
              "13"
            ]
          },
          "metadata": {
            "tags": []
          },
          "execution_count": 14
        }
      ]
    },
    {
      "cell_type": "markdown",
      "metadata": {
        "id": "X06gNwR0V2Q3"
      },
      "source": [
        "Next, we will create dummy variables for the genre. Create these variables using the `OneHotEncoder` provided in spark."
      ]
    },
    {
      "cell_type": "code",
      "metadata": {
        "id": "CpRz8gMHV1jS"
      },
      "source": [
        "# Answer below:\n",
        "from pyspark.ml.feature import OneHotEncoder, StringIndexer\n",
        "\n",
        "stringIndexer = StringIndexer(inputCol=\"Genre\", outputCol=\"GenreIndex\")\n",
        "model = stringIndexer.fit(video_na)\n",
        "indexed = model.transform(video_na)\n",
        "encoder = OneHotEncoder( inputCol=\"GenreIndex\", outputCol=\"GenreVec\")\n",
        "encoded = encoder.transform(indexed)"
      ],
      "execution_count": 15,
      "outputs": []
    },
    {
      "cell_type": "code",
      "metadata": {
        "id": "4_5HOoEsWt96",
        "colab": {
          "base_uri": "https://localhost:8080/"
        },
        "outputId": "20d4c1a2-6297-4229-d67b-432f022b7fbb"
      },
      "source": [
        "encoded.show()"
      ],
      "execution_count": 16,
      "outputs": [
        {
          "output_type": "stream",
          "text": [
            "+--------------------+--------+---------------+--------+--------------------+--------+--------+--------+-----------+------------+------------+------------+----------+----------+--------------------+------+----------+--------------+\n",
            "|                Name|Platform|Year_of_Release|   Genre|           Publisher|NA_Sales|EU_Sales|JP_Sales|Other_Sales|Global_Sales|Critic_Score|Critic_Count|User_Score|User_Count|           Developer|Rating|GenreIndex|      GenreVec|\n",
            "+--------------------+--------+---------------+--------+--------------------+--------+--------+--------+-----------+------------+------------+------------+----------+----------+--------------------+------+----------+--------------+\n",
            "|          Wii Sports|     Wii|           2006|  Sports|            Nintendo|   41.36|   28.96|    3.77|       8.45|       82.53|          76|          51|         8|       322|            Nintendo|     E|       1.0|(11,[1],[1.0])|\n",
            "|      Mario Kart Wii|     Wii|           2008|  Racing|            Nintendo|   15.68|   12.76|    3.79|       3.29|       35.52|          82|          73|       8.3|       709|            Nintendo|     E|       4.0|(11,[4],[1.0])|\n",
            "|   Wii Sports Resort|     Wii|           2009|  Sports|            Nintendo|   15.61|   10.93|    3.28|       2.95|       32.77|          80|          73|         8|       192|            Nintendo|     E|       1.0|(11,[1],[1.0])|\n",
            "|New Super Mario B...|      DS|           2006|Platform|            Nintendo|   11.28|    9.14|     6.5|       2.88|        29.8|          89|          65|       8.5|       431|            Nintendo|     E|       5.0|(11,[5],[1.0])|\n",
            "|            Wii Play|     Wii|           2006|    Misc|            Nintendo|   13.96|    9.18|    2.93|       2.84|       28.92|          58|          41|       6.6|       129|            Nintendo|     E|       6.0|(11,[6],[1.0])|\n",
            "|New Super Mario B...|     Wii|           2009|Platform|            Nintendo|   14.44|    6.94|     4.7|       2.24|       28.32|          87|          80|       8.4|       594|            Nintendo|     E|       5.0|(11,[5],[1.0])|\n",
            "|       Mario Kart DS|      DS|           2005|  Racing|            Nintendo|    9.71|    7.47|    4.13|        1.9|       23.21|          91|          64|       8.6|       464|            Nintendo|     E|       4.0|(11,[4],[1.0])|\n",
            "|             Wii Fit|     Wii|           2007|  Sports|            Nintendo|    8.92|    8.03|     3.6|       2.15|        22.7|          80|          63|       7.7|       146|            Nintendo|     E|       1.0|(11,[1],[1.0])|\n",
            "|  Kinect Adventures!|    X360|           2010|    Misc|Microsoft Game St...|    15.0|    4.89|    0.24|       1.69|       21.81|          61|          45|       6.3|       106| Good Science Studio|     E|       6.0|(11,[6],[1.0])|\n",
            "|        Wii Fit Plus|     Wii|           2009|  Sports|            Nintendo|    9.01|    8.49|    2.53|       1.77|       21.79|          80|          33|       7.4|        52|            Nintendo|     E|       1.0|(11,[1],[1.0])|\n",
            "|  Grand Theft Auto V|     PS3|           2013|  Action|Take-Two Interactive|    7.02|    9.09|    0.98|       3.96|       21.04|          97|          50|       8.2|      3994|      Rockstar North|     M|       0.0|(11,[0],[1.0])|\n",
            "|Grand Theft Auto:...|     PS2|           2004|  Action|Take-Two Interactive|    9.43|     0.4|    0.41|      10.57|       20.81|          95|          80|         9|      1588|      Rockstar North|     M|       0.0|(11,[0],[1.0])|\n",
            "|Brain Age: Train ...|      DS|           2005|    Misc|            Nintendo|    4.74|     9.2|    4.16|       2.04|       20.15|          77|          58|       7.9|        50|            Nintendo|     E|       6.0|(11,[6],[1.0])|\n",
            "|  Grand Theft Auto V|    X360|           2013|  Action|Take-Two Interactive|    9.66|    5.14|    0.06|       1.41|       16.27|          97|          58|       8.1|      3711|      Rockstar North|     M|       0.0|(11,[0],[1.0])|\n",
            "|Grand Theft Auto:...|     PS2|           2002|  Action|Take-Two Interactive|    8.41|    5.49|    0.47|       1.78|       16.15|          95|          62|       8.7|       730|      Rockstar North|     M|       0.0|(11,[0],[1.0])|\n",
            "|Brain Age 2: More...|      DS|           2005|  Puzzle|            Nintendo|    3.43|    5.35|    5.32|       1.18|       15.29|          77|          37|       7.1|        19|            Nintendo|     E|      11.0|    (11,[],[])|\n",
            "|Gran Turismo 3: A...|     PS2|           2001|  Racing|Sony Computer Ent...|    6.85|    5.09|    1.87|       1.16|       14.98|          95|          54|       8.4|       314|   Polyphony Digital|     E|       4.0|(11,[4],[1.0])|\n",
            "|Call of Duty: Mod...|    X360|           2011| Shooter|          Activision|    9.04|    4.24|    0.13|       1.32|       14.73|          88|          81|       3.4|      8713|Infinity Ward, Sl...|     M|       2.0|(11,[2],[1.0])|\n",
            "|Call of Duty: Bla...|    X360|           2010| Shooter|          Activision|     9.7|    3.68|    0.11|       1.13|       14.61|          87|          89|       6.3|      1454|            Treyarch|     M|       2.0|(11,[2],[1.0])|\n",
            "|Call of Duty: Bla...|     PS3|           2012| Shooter|          Activision|    4.99|    5.73|    0.65|       2.42|       13.79|          83|          21|       5.3|       922|            Treyarch|     M|       2.0|(11,[2],[1.0])|\n",
            "+--------------------+--------+---------------+--------+--------------------+--------+--------+--------+-----------+------------+------------+------------+----------+----------+--------------------+------+----------+--------------+\n",
            "only showing top 20 rows\n",
            "\n"
          ],
          "name": "stdout"
        }
      ]
    },
    {
      "cell_type": "markdown",
      "metadata": {
        "id": "MiQXmq_fXntw"
      },
      "source": [
        "Convert the critic score and the user score to a number between 0 and 1 by dividing by 100. "
      ]
    },
    {
      "cell_type": "code",
      "metadata": {
        "id": "-VgfllC7XPKP",
        "colab": {
          "base_uri": "https://localhost:8080/"
        },
        "outputId": "15c46086-ccc6-4571-a163-2865f897a7c1"
      },
      "source": [
        "# Answer below:\n",
        "\n",
        "from pyspark.sql.functions import lit, col\n",
        "\n",
        "video_percent = encoded.withColumn('User_Score_scaled', encoded['User_Score']/lit(10))\n",
        "video_percent = video_percent.withColumn('Critic_Score_scaled', encoded['Critic_Score']/lit(100))\n",
        "video_percent.show()"
      ],
      "execution_count": 17,
      "outputs": [
        {
          "output_type": "stream",
          "text": [
            "+--------------------+--------+---------------+--------+--------------------+--------+--------+--------+-----------+------------+------------+------------+----------+----------+--------------------+------+----------+--------------+-------------------+-------------------+\n",
            "|                Name|Platform|Year_of_Release|   Genre|           Publisher|NA_Sales|EU_Sales|JP_Sales|Other_Sales|Global_Sales|Critic_Score|Critic_Count|User_Score|User_Count|           Developer|Rating|GenreIndex|      GenreVec|  User_Score_scaled|Critic_Score_scaled|\n",
            "+--------------------+--------+---------------+--------+--------------------+--------+--------+--------+-----------+------------+------------+------------+----------+----------+--------------------+------+----------+--------------+-------------------+-------------------+\n",
            "|          Wii Sports|     Wii|           2006|  Sports|            Nintendo|   41.36|   28.96|    3.77|       8.45|       82.53|          76|          51|         8|       322|            Nintendo|     E|       1.0|(11,[1],[1.0])|                0.8|               0.76|\n",
            "|      Mario Kart Wii|     Wii|           2008|  Racing|            Nintendo|   15.68|   12.76|    3.79|       3.29|       35.52|          82|          73|       8.3|       709|            Nintendo|     E|       4.0|(11,[4],[1.0])| 0.8300000000000001|               0.82|\n",
            "|   Wii Sports Resort|     Wii|           2009|  Sports|            Nintendo|   15.61|   10.93|    3.28|       2.95|       32.77|          80|          73|         8|       192|            Nintendo|     E|       1.0|(11,[1],[1.0])|                0.8|                0.8|\n",
            "|New Super Mario B...|      DS|           2006|Platform|            Nintendo|   11.28|    9.14|     6.5|       2.88|        29.8|          89|          65|       8.5|       431|            Nintendo|     E|       5.0|(11,[5],[1.0])|               0.85|               0.89|\n",
            "|            Wii Play|     Wii|           2006|    Misc|            Nintendo|   13.96|    9.18|    2.93|       2.84|       28.92|          58|          41|       6.6|       129|            Nintendo|     E|       6.0|(11,[6],[1.0])| 0.6599999999999999|               0.58|\n",
            "|New Super Mario B...|     Wii|           2009|Platform|            Nintendo|   14.44|    6.94|     4.7|       2.24|       28.32|          87|          80|       8.4|       594|            Nintendo|     E|       5.0|(11,[5],[1.0])| 0.8400000000000001|               0.87|\n",
            "|       Mario Kart DS|      DS|           2005|  Racing|            Nintendo|    9.71|    7.47|    4.13|        1.9|       23.21|          91|          64|       8.6|       464|            Nintendo|     E|       4.0|(11,[4],[1.0])|               0.86|               0.91|\n",
            "|             Wii Fit|     Wii|           2007|  Sports|            Nintendo|    8.92|    8.03|     3.6|       2.15|        22.7|          80|          63|       7.7|       146|            Nintendo|     E|       1.0|(11,[1],[1.0])|               0.77|                0.8|\n",
            "|  Kinect Adventures!|    X360|           2010|    Misc|Microsoft Game St...|    15.0|    4.89|    0.24|       1.69|       21.81|          61|          45|       6.3|       106| Good Science Studio|     E|       6.0|(11,[6],[1.0])|               0.63|               0.61|\n",
            "|        Wii Fit Plus|     Wii|           2009|  Sports|            Nintendo|    9.01|    8.49|    2.53|       1.77|       21.79|          80|          33|       7.4|        52|            Nintendo|     E|       1.0|(11,[1],[1.0])|               0.74|                0.8|\n",
            "|  Grand Theft Auto V|     PS3|           2013|  Action|Take-Two Interactive|    7.02|    9.09|    0.98|       3.96|       21.04|          97|          50|       8.2|      3994|      Rockstar North|     M|       0.0|(11,[0],[1.0])|               0.82|               0.97|\n",
            "|Grand Theft Auto:...|     PS2|           2004|  Action|Take-Two Interactive|    9.43|     0.4|    0.41|      10.57|       20.81|          95|          80|         9|      1588|      Rockstar North|     M|       0.0|(11,[0],[1.0])|                0.9|               0.95|\n",
            "|Brain Age: Train ...|      DS|           2005|    Misc|            Nintendo|    4.74|     9.2|    4.16|       2.04|       20.15|          77|          58|       7.9|        50|            Nintendo|     E|       6.0|(11,[6],[1.0])|               0.79|               0.77|\n",
            "|  Grand Theft Auto V|    X360|           2013|  Action|Take-Two Interactive|    9.66|    5.14|    0.06|       1.41|       16.27|          97|          58|       8.1|      3711|      Rockstar North|     M|       0.0|(11,[0],[1.0])| 0.8099999999999999|               0.97|\n",
            "|Grand Theft Auto:...|     PS2|           2002|  Action|Take-Two Interactive|    8.41|    5.49|    0.47|       1.78|       16.15|          95|          62|       8.7|       730|      Rockstar North|     M|       0.0|(11,[0],[1.0])| 0.8699999999999999|               0.95|\n",
            "|Brain Age 2: More...|      DS|           2005|  Puzzle|            Nintendo|    3.43|    5.35|    5.32|       1.18|       15.29|          77|          37|       7.1|        19|            Nintendo|     E|      11.0|    (11,[],[])|               0.71|               0.77|\n",
            "|Gran Turismo 3: A...|     PS2|           2001|  Racing|Sony Computer Ent...|    6.85|    5.09|    1.87|       1.16|       14.98|          95|          54|       8.4|       314|   Polyphony Digital|     E|       4.0|(11,[4],[1.0])| 0.8400000000000001|               0.95|\n",
            "|Call of Duty: Mod...|    X360|           2011| Shooter|          Activision|    9.04|    4.24|    0.13|       1.32|       14.73|          88|          81|       3.4|      8713|Infinity Ward, Sl...|     M|       2.0|(11,[2],[1.0])|0.33999999999999997|               0.88|\n",
            "|Call of Duty: Bla...|    X360|           2010| Shooter|          Activision|     9.7|    3.68|    0.11|       1.13|       14.61|          87|          89|       6.3|      1454|            Treyarch|     M|       2.0|(11,[2],[1.0])|               0.63|               0.87|\n",
            "|Call of Duty: Bla...|     PS3|           2012| Shooter|          Activision|    4.99|    5.73|    0.65|       2.42|       13.79|          83|          21|       5.3|       922|            Treyarch|     M|       2.0|(11,[2],[1.0])|               0.53|               0.83|\n",
            "+--------------------+--------+---------------+--------+--------------------+--------+--------+--------+-----------+------------+------------+------------+----------+----------+--------------------+------+----------+--------------+-------------------+-------------------+\n",
            "only showing top 20 rows\n",
            "\n"
          ],
          "name": "stdout"
        }
      ]
    },
    {
      "cell_type": "markdown",
      "metadata": {
        "id": "92XImZFDYXnf"
      },
      "source": [
        "Using the vector assembler, create a vector of features using the scaled user score, the scaled critic score and the one hot encoded vector."
      ]
    },
    {
      "cell_type": "code",
      "metadata": {
        "id": "KpA7hSQsX5hR",
        "colab": {
          "base_uri": "https://localhost:8080/"
        },
        "outputId": "2d1998b3-7b95-4b2f-adee-79f2ca666180"
      },
      "source": [
        "# Answer below:\n",
        "\n",
        "from pyspark.ml.linalg import Vectors\n",
        "from pyspark.ml.feature import VectorAssembler\n",
        "\n",
        "assembler = VectorAssembler(inputCols=['User_Score_scaled', 'Critic_Score_scaled', 'GenreVec'], outputCol='features')\n",
        "features_df = assembler.transform(video_percent)\n",
        "features_df.show()"
      ],
      "execution_count": 18,
      "outputs": [
        {
          "output_type": "stream",
          "text": [
            "+--------------------+--------+---------------+--------+--------------------+--------+--------+--------+-----------+------------+------------+------------+----------+----------+--------------------+------+----------+--------------+-------------------+-------------------+--------------------+\n",
            "|                Name|Platform|Year_of_Release|   Genre|           Publisher|NA_Sales|EU_Sales|JP_Sales|Other_Sales|Global_Sales|Critic_Score|Critic_Count|User_Score|User_Count|           Developer|Rating|GenreIndex|      GenreVec|  User_Score_scaled|Critic_Score_scaled|            features|\n",
            "+--------------------+--------+---------------+--------+--------------------+--------+--------+--------+-----------+------------+------------+------------+----------+----------+--------------------+------+----------+--------------+-------------------+-------------------+--------------------+\n",
            "|          Wii Sports|     Wii|           2006|  Sports|            Nintendo|   41.36|   28.96|    3.77|       8.45|       82.53|          76|          51|         8|       322|            Nintendo|     E|       1.0|(11,[1],[1.0])|                0.8|               0.76|(13,[0,1,3],[0.8,...|\n",
            "|      Mario Kart Wii|     Wii|           2008|  Racing|            Nintendo|   15.68|   12.76|    3.79|       3.29|       35.52|          82|          73|       8.3|       709|            Nintendo|     E|       4.0|(11,[4],[1.0])| 0.8300000000000001|               0.82|(13,[0,1,6],[0.83...|\n",
            "|   Wii Sports Resort|     Wii|           2009|  Sports|            Nintendo|   15.61|   10.93|    3.28|       2.95|       32.77|          80|          73|         8|       192|            Nintendo|     E|       1.0|(11,[1],[1.0])|                0.8|                0.8|(13,[0,1,3],[0.8,...|\n",
            "|New Super Mario B...|      DS|           2006|Platform|            Nintendo|   11.28|    9.14|     6.5|       2.88|        29.8|          89|          65|       8.5|       431|            Nintendo|     E|       5.0|(11,[5],[1.0])|               0.85|               0.89|(13,[0,1,7],[0.85...|\n",
            "|            Wii Play|     Wii|           2006|    Misc|            Nintendo|   13.96|    9.18|    2.93|       2.84|       28.92|          58|          41|       6.6|       129|            Nintendo|     E|       6.0|(11,[6],[1.0])| 0.6599999999999999|               0.58|(13,[0,1,8],[0.65...|\n",
            "|New Super Mario B...|     Wii|           2009|Platform|            Nintendo|   14.44|    6.94|     4.7|       2.24|       28.32|          87|          80|       8.4|       594|            Nintendo|     E|       5.0|(11,[5],[1.0])| 0.8400000000000001|               0.87|(13,[0,1,7],[0.84...|\n",
            "|       Mario Kart DS|      DS|           2005|  Racing|            Nintendo|    9.71|    7.47|    4.13|        1.9|       23.21|          91|          64|       8.6|       464|            Nintendo|     E|       4.0|(11,[4],[1.0])|               0.86|               0.91|(13,[0,1,6],[0.86...|\n",
            "|             Wii Fit|     Wii|           2007|  Sports|            Nintendo|    8.92|    8.03|     3.6|       2.15|        22.7|          80|          63|       7.7|       146|            Nintendo|     E|       1.0|(11,[1],[1.0])|               0.77|                0.8|(13,[0,1,3],[0.77...|\n",
            "|  Kinect Adventures!|    X360|           2010|    Misc|Microsoft Game St...|    15.0|    4.89|    0.24|       1.69|       21.81|          61|          45|       6.3|       106| Good Science Studio|     E|       6.0|(11,[6],[1.0])|               0.63|               0.61|(13,[0,1,8],[0.63...|\n",
            "|        Wii Fit Plus|     Wii|           2009|  Sports|            Nintendo|    9.01|    8.49|    2.53|       1.77|       21.79|          80|          33|       7.4|        52|            Nintendo|     E|       1.0|(11,[1],[1.0])|               0.74|                0.8|(13,[0,1,3],[0.74...|\n",
            "|  Grand Theft Auto V|     PS3|           2013|  Action|Take-Two Interactive|    7.02|    9.09|    0.98|       3.96|       21.04|          97|          50|       8.2|      3994|      Rockstar North|     M|       0.0|(11,[0],[1.0])|               0.82|               0.97|(13,[0,1,2],[0.82...|\n",
            "|Grand Theft Auto:...|     PS2|           2004|  Action|Take-Two Interactive|    9.43|     0.4|    0.41|      10.57|       20.81|          95|          80|         9|      1588|      Rockstar North|     M|       0.0|(11,[0],[1.0])|                0.9|               0.95|(13,[0,1,2],[0.9,...|\n",
            "|Brain Age: Train ...|      DS|           2005|    Misc|            Nintendo|    4.74|     9.2|    4.16|       2.04|       20.15|          77|          58|       7.9|        50|            Nintendo|     E|       6.0|(11,[6],[1.0])|               0.79|               0.77|(13,[0,1,8],[0.79...|\n",
            "|  Grand Theft Auto V|    X360|           2013|  Action|Take-Two Interactive|    9.66|    5.14|    0.06|       1.41|       16.27|          97|          58|       8.1|      3711|      Rockstar North|     M|       0.0|(11,[0],[1.0])| 0.8099999999999999|               0.97|(13,[0,1,2],[0.80...|\n",
            "|Grand Theft Auto:...|     PS2|           2002|  Action|Take-Two Interactive|    8.41|    5.49|    0.47|       1.78|       16.15|          95|          62|       8.7|       730|      Rockstar North|     M|       0.0|(11,[0],[1.0])| 0.8699999999999999|               0.95|(13,[0,1,2],[0.86...|\n",
            "|Brain Age 2: More...|      DS|           2005|  Puzzle|            Nintendo|    3.43|    5.35|    5.32|       1.18|       15.29|          77|          37|       7.1|        19|            Nintendo|     E|      11.0|    (11,[],[])|               0.71|               0.77|(13,[0,1],[0.71,0...|\n",
            "|Gran Turismo 3: A...|     PS2|           2001|  Racing|Sony Computer Ent...|    6.85|    5.09|    1.87|       1.16|       14.98|          95|          54|       8.4|       314|   Polyphony Digital|     E|       4.0|(11,[4],[1.0])| 0.8400000000000001|               0.95|(13,[0,1,6],[0.84...|\n",
            "|Call of Duty: Mod...|    X360|           2011| Shooter|          Activision|    9.04|    4.24|    0.13|       1.32|       14.73|          88|          81|       3.4|      8713|Infinity Ward, Sl...|     M|       2.0|(11,[2],[1.0])|0.33999999999999997|               0.88|(13,[0,1,4],[0.33...|\n",
            "|Call of Duty: Bla...|    X360|           2010| Shooter|          Activision|     9.7|    3.68|    0.11|       1.13|       14.61|          87|          89|       6.3|      1454|            Treyarch|     M|       2.0|(11,[2],[1.0])|               0.63|               0.87|(13,[0,1,4],[0.63...|\n",
            "|Call of Duty: Bla...|     PS3|           2012| Shooter|          Activision|    4.99|    5.73|    0.65|       2.42|       13.79|          83|          21|       5.3|       922|            Treyarch|     M|       2.0|(11,[2],[1.0])|               0.53|               0.83|(13,[0,1,4],[0.53...|\n",
            "+--------------------+--------+---------------+--------+--------------------+--------+--------+--------+-----------+------------+------------+------------+----------+----------+--------------------+------+----------+--------------+-------------------+-------------------+--------------------+\n",
            "only showing top 20 rows\n",
            "\n"
          ],
          "name": "stdout"
        }
      ]
    },
    {
      "cell_type": "markdown",
      "metadata": {
        "id": "cr5N6lMancOl"
      },
      "source": [
        "Split the data into 70% in the training sample and 30% in the test sample."
      ]
    },
    {
      "cell_type": "code",
      "metadata": {
        "id": "QZg3gX4rni8z",
        "colab": {
          "base_uri": "https://localhost:8080/"
        },
        "outputId": "e68bb642-f578-4c85-d382-3573fd30325a"
      },
      "source": [
        "# Answer below:\n",
        "\n",
        "train, test = features_df.randomSplit([0.7, 0.3])\n",
        "train.show()"
      ],
      "execution_count": 19,
      "outputs": [
        {
          "output_type": "stream",
          "text": [
            "+--------------------+--------+---------------+------------+--------------------+--------+--------+--------+-----------+------------+------------+------------+----------+----------+--------------------+------+----------+---------------+-------------------+-------------------+--------------------+\n",
            "|                Name|Platform|Year_of_Release|       Genre|           Publisher|NA_Sales|EU_Sales|JP_Sales|Other_Sales|Global_Sales|Critic_Score|Critic_Count|User_Score|User_Count|           Developer|Rating|GenreIndex|       GenreVec|  User_Score_scaled|Critic_Score_scaled|            features|\n",
            "+--------------------+--------+---------------+------------+--------------------+--------+--------+--------+-----------+------------+------------+------------+----------+----------+--------------------+------+----------+---------------+-------------------+-------------------+--------------------+\n",
            "|.hack//Infection ...|     PS2|           2002|Role-Playing|               Atari|    0.49|    0.38|    0.26|       0.13|        1.27|          75|          35|       8.5|        60|       CyberConnect2|     T|       3.0| (11,[3],[1.0])|               0.85|               0.75|(13,[0,1,5],[0.85...|\n",
            "|.hack//Outbreak P...|     PS2|           2002|Role-Playing|               Atari|    0.14|    0.11|    0.17|       0.04|        0.46|          70|          23|       8.7|        19|       CyberConnect2|     T|       3.0| (11,[3],[1.0])| 0.8699999999999999|                0.7|(13,[0,1,5],[0.86...|\n",
            "|          007 Racing|      PS|           2000|      Racing|     Electronic Arts|     0.3|     0.2|     0.0|       0.03|        0.53|          51|          16|       4.6|        14|           Eutechnyx|     T|       4.0| (11,[4],[1.0])|0.45999999999999996|               0.51|(13,[0,1,6],[0.45...|\n",
            "|007: Quantum of S...|      PC|           2008|      Action|          Activision|    0.01|    0.01|     0.0|        0.0|        0.03|          70|          18|       6.3|        55|            Treyarch|     T|       0.0| (11,[0],[1.0])|               0.63|                0.7|(13,[0,1,2],[0.63...|\n",
            "|007: Quantum of S...|     PS3|           2008|      Action|          Activision|    0.43|    0.51|    0.02|       0.19|        1.14|          65|          42|       6.6|        47|            Treyarch|     T|       0.0| (11,[0],[1.0])| 0.6599999999999999|               0.65|(13,[0,1,2],[0.65...|\n",
            "|007: The World is...|      PS|           2000|      Action|     Electronic Arts|    0.51|    0.35|     0.0|       0.06|        0.92|          61|          11|       6.7|        44|Black Ops Enterta...|     T|       0.0| (11,[0],[1.0])|               0.67|               0.61|(13,[0,1,2],[0.67...|\n",
            "|           1 vs. 100|      DS|           2008|        Misc|           DSI Games|    0.08|     0.0|     0.0|       0.01|        0.08|          38|           5|       3.2|         5|                 ECI|     E|       6.0| (11,[6],[1.0])|               0.32|               0.38|(13,[0,1,8],[0.32...|\n",
            "|18 Wheeler: Ameri...|      GC|           2002|      Racing|Acclaim Entertain...|    0.09|    0.02|     0.0|        0.0|        0.11|          52|          17|       6.8|         8|Acclaim Studios C...|     E|       4.0| (11,[4],[1.0])| 0.6799999999999999|               0.52|(13,[0,1,6],[0.67...|\n",
            "|    187: Ride or Die|     PS2|           2005|      Racing|             Ubisoft|    0.07|    0.06|     0.0|       0.02|        0.15|          52|          33|       6.8|        12|             Ubisoft|     M|       4.0| (11,[4],[1.0])| 0.6799999999999999|               0.52|(13,[0,1,6],[0.67...|\n",
            "|    187: Ride or Die|      XB|           2005|      Racing|             Ubisoft|    0.05|    0.01|     0.0|        0.0|        0.06|          51|          40|       6.9|         8|       Ubisoft Paris|     M|       4.0| (11,[4],[1.0])| 0.6900000000000001|               0.51|(13,[0,1,6],[0.69...|\n",
            "| 2002 FIFA World Cup|      GC|           2002|      Sports|     Electronic Arts|    0.04|    0.01|     0.0|        0.0|        0.05|          78|           9|       7.7|         6|           EA Sports|     E|       1.0| (11,[1],[1.0])|               0.77|               0.78|(13,[0,1,3],[0.77...|\n",
            "| 2002 FIFA World Cup|     PS2|           2002|      Sports|     Electronic Arts|    0.21|    0.17|    0.16|       0.06|        0.59|          73|          19|       5.6|        18|           EA Sports|     E|       1.0| (11,[1],[1.0])| 0.5599999999999999|               0.73|(13,[0,1,3],[0.55...|\n",
            "| 2002 FIFA World Cup|      XB|           2002|      Sports|     Electronic Arts|    0.14|    0.04|     0.0|       0.01|        0.19|          79|          17|         9|         4|  Software Creations|     E|       1.0| (11,[1],[1.0])|                0.9|               0.79|(13,[0,1,3],[0.9,...|\n",
            "|2010 FIFA World C...|     PSP|           2010|      Sports|     Electronic Arts|    0.09|    0.22|    0.03|       0.12|        0.46|          69|          11|       7.4|         9|     Electronic Arts|     E|       1.0| (11,[1],[1.0])|               0.74|               0.69|(13,[0,1,3],[0.74...|\n",
            "|2010 FIFA World C...|     Wii|           2010|      Sports|     Electronic Arts|    0.23|    0.15|    0.01|       0.04|        0.42|          70|          19|       6.7|        11|     Electronic Arts|     E|       1.0| (11,[1],[1.0])|               0.67|                0.7|(13,[0,1,3],[0.67...|\n",
            "|2010 FIFA World C...|    X360|           2010|      Sports|     Electronic Arts|    0.32|    0.42|    0.02|       0.09|        0.85|          83|          61|       8.1|        58|     Electronic Arts|     E|       1.0| (11,[1],[1.0])| 0.8099999999999999|               0.83|(13,[0,1,3],[0.80...|\n",
            "|2014 FIFA World C...|     PS3|           2014|      Sports|     Electronic Arts|    0.15|    0.36|    0.01|       0.09|        0.61|          73|          33|       4.3|        87|           EA Canada|     E|       1.0| (11,[1],[1.0])|               0.43|               0.73|(13,[0,1,3],[0.43...|\n",
            "|        24: The Game|     PS2|           2006|   Adventure|Sony Computer Ent...|    0.15|    0.12|     0.0|       0.04|         0.3|          62|          53|       8.2|        40|SCE Studio Cambridge|     M|      10.0|(11,[10],[1.0])|               0.82|               0.62|(13,[0,1,12],[0.8...|\n",
            "|          25 to Life|      XB|           2006|     Shooter|   Eidos Interactive|    0.12|    0.04|     0.0|       0.01|        0.17|          41|          20|       7.2|        13|Ritual Entertainm...|     M|       2.0| (11,[2],[1.0])|               0.72|               0.41|(13,[0,1,4],[0.72...|\n",
            "|           4x4 EVO 2|      XB|           2001|      Racing|Gathering of Deve...|    0.18|    0.05|     0.0|       0.01|        0.24|          59|          15|       6.2|         5|    Terminal Reality|     E|       4.0| (11,[4],[1.0])|               0.62|               0.59|(13,[0,1,6],[0.62...|\n",
            "+--------------------+--------+---------------+------------+--------------------+--------+--------+--------+-----------+------------+------------+------------+----------+----------+--------------------+------+----------+---------------+-------------------+-------------------+--------------------+\n",
            "only showing top 20 rows\n",
            "\n"
          ],
          "name": "stdout"
        }
      ]
    },
    {
      "cell_type": "markdown",
      "metadata": {
        "id": "tK2oIPrFVJ0u"
      },
      "source": [
        "## Linear Regression"
      ]
    },
    {
      "cell_type": "markdown",
      "metadata": {
        "id": "w_mbNCz6njMC"
      },
      "source": [
        "Using the train and test data, generate a linear regression to predict global sales. Print the r squared from the model summary."
      ]
    },
    {
      "cell_type": "code",
      "metadata": {
        "id": "MNRgTZIZm1uI",
        "colab": {
          "base_uri": "https://localhost:8080/"
        },
        "outputId": "96689a7c-2a97-44f1-b17b-e84fa3f3a431"
      },
      "source": [
        "# Answer below:\n",
        "\n",
        "from pyspark.ml.regression import LinearRegression\n",
        "\n",
        "lr = LinearRegression(featuresCol='features', labelCol='Global_Sales')\n",
        "\n",
        "# Fit the model\n",
        "lr_model = lr.fit(train)\n",
        "\n",
        "\n",
        "# Summarize the model over the training set and print out some metrics\n",
        "lr_model.summary.r2"
      ],
      "execution_count": 20,
      "outputs": [
        {
          "output_type": "execute_result",
          "data": {
            "text/plain": [
              "0.10119474696072728"
            ]
          },
          "metadata": {
            "tags": []
          },
          "execution_count": 20
        }
      ]
    },
    {
      "cell_type": "markdown",
      "metadata": {
        "id": "C-z7sB1ljDZ7"
      },
      "source": [
        "Calculate the RMSE"
      ]
    },
    {
      "cell_type": "code",
      "metadata": {
        "id": "qo3l9oc8qJDq",
        "colab": {
          "base_uri": "https://localhost:8080/"
        },
        "outputId": "209e758b-f544-4d54-e70f-f42a48f82a7b"
      },
      "source": [
        "lr_model.summary.rootMeanSquaredError"
      ],
      "execution_count": 21,
      "outputs": [
        {
          "output_type": "execute_result",
          "data": {
            "text/plain": [
              "1.4490597553146922"
            ]
          },
          "metadata": {
            "tags": []
          },
          "execution_count": 21
        }
      ]
    },
    {
      "cell_type": "markdown",
      "metadata": {
        "id": "A0QCZg_uP0CA"
      },
      "source": [
        "## Classification - Binomial Logistic Regression"
      ]
    },
    {
      "cell_type": "markdown",
      "metadata": {
        "id": "T86Pj9Frjyhf"
      },
      "source": [
        "Download and save the college admission  CSV file to your Colab Data folder on Google Drive. \n",
        "\n",
        "The file can be downloaded from link [here](https://tf-assets-prod.s3.amazonaws.com/tf-curric/data-science/Admission_Predict.csv), download it and save it to your Google Colab Data folder on gdrive."
      ]
    },
    {
      "cell_type": "markdown",
      "metadata": {
        "id": "TSyE1P5ikFdp"
      },
      "source": [
        "Load the admit CSV file in to the spark instance."
      ]
    },
    {
      "cell_type": "code",
      "metadata": {
        "id": "qhlRdBi3MYlr",
        "colab": {
          "base_uri": "https://localhost:8080/"
        },
        "outputId": "a10da63a-e8f3-4e08-9f47-03d0827b0532"
      },
      "source": [
        "# Answer below:\n",
        "admit = spark.read.format(\"csv\").option(\"header\", \"true\").option(\"inferSchema\", \"true\").load(\"Admission_Predict.csv\")\n",
        "admit.show()"
      ],
      "execution_count": 22,
      "outputs": [
        {
          "output_type": "stream",
          "text": [
            "+----------+---------+-----------+-----------------+---+----+----+--------+----------------+\n",
            "|Serial No.|GRE Score|TOEFL Score|University Rating|SOP|LOR |CGPA|Research|Chance of Admit |\n",
            "+----------+---------+-----------+-----------------+---+----+----+--------+----------------+\n",
            "|         1|      337|        118|                4|4.5| 4.5|9.65|       1|            0.92|\n",
            "|         2|      324|        107|                4|4.0| 4.5|8.87|       1|            0.76|\n",
            "|         3|      316|        104|                3|3.0| 3.5| 8.0|       1|            0.72|\n",
            "|         4|      322|        110|                3|3.5| 2.5|8.67|       1|             0.8|\n",
            "|         5|      314|        103|                2|2.0| 3.0|8.21|       0|            0.65|\n",
            "|         6|      330|        115|                5|4.5| 3.0|9.34|       1|             0.9|\n",
            "|         7|      321|        109|                3|3.0| 4.0| 8.2|       1|            0.75|\n",
            "|         8|      308|        101|                2|3.0| 4.0| 7.9|       0|            0.68|\n",
            "|         9|      302|        102|                1|2.0| 1.5| 8.0|       0|             0.5|\n",
            "|        10|      323|        108|                3|3.5| 3.0| 8.6|       0|            0.45|\n",
            "|        11|      325|        106|                3|3.5| 4.0| 8.4|       1|            0.52|\n",
            "|        12|      327|        111|                4|4.0| 4.5| 9.0|       1|            0.84|\n",
            "|        13|      328|        112|                4|4.0| 4.5| 9.1|       1|            0.78|\n",
            "|        14|      307|        109|                3|4.0| 3.0| 8.0|       1|            0.62|\n",
            "|        15|      311|        104|                3|3.5| 2.0| 8.2|       1|            0.61|\n",
            "|        16|      314|        105|                3|3.5| 2.5| 8.3|       0|            0.54|\n",
            "|        17|      317|        107|                3|4.0| 3.0| 8.7|       0|            0.66|\n",
            "|        18|      319|        106|                3|4.0| 3.0| 8.0|       1|            0.65|\n",
            "|        19|      318|        110|                3|4.0| 3.0| 8.8|       0|            0.63|\n",
            "|        20|      303|        102|                3|3.5| 3.0| 8.5|       0|            0.62|\n",
            "+----------+---------+-----------+-----------------+---+----+----+--------+----------------+\n",
            "only showing top 20 rows\n",
            "\n"
          ],
          "name": "stdout"
        }
      ]
    },
    {
      "cell_type": "code",
      "metadata": {
        "id": "IqZ4DhjMW6on",
        "colab": {
          "base_uri": "https://localhost:8080/"
        },
        "outputId": "422e92d5-439f-476b-be48-f19d865d85f7"
      },
      "source": [
        "admit.printSchema()"
      ],
      "execution_count": 23,
      "outputs": [
        {
          "output_type": "stream",
          "text": [
            "root\n",
            " |-- Serial No.: integer (nullable = true)\n",
            " |-- GRE Score: integer (nullable = true)\n",
            " |-- TOEFL Score: integer (nullable = true)\n",
            " |-- University Rating: integer (nullable = true)\n",
            " |-- SOP: double (nullable = true)\n",
            " |-- LOR : double (nullable = true)\n",
            " |-- CGPA: double (nullable = true)\n",
            " |-- Research: integer (nullable = true)\n",
            " |-- Chance of Admit : double (nullable = true)\n",
            "\n"
          ],
          "name": "stdout"
        }
      ]
    },
    {
      "cell_type": "markdown",
      "metadata": {
        "id": "p5ZzjBv6Smf5"
      },
      "source": [
        "Create a categorical response from `Chance of Admit` column."
      ]
    },
    {
      "cell_type": "code",
      "metadata": {
        "id": "YU1-SgIHWS8b",
        "colab": {
          "base_uri": "https://localhost:8080/"
        },
        "outputId": "b2d90291-dbe6-45b2-d036-da8b3f4c2d77"
      },
      "source": [
        "from pyspark.ml.feature import Binarizer\n",
        "# Answer below\n",
        "binarizer = Binarizer(threshold=0.5, inputCol='Chance of Admit ', outputCol='target')\n",
        "binarized = binarizer.transform(admit)\n",
        "binarized.show()"
      ],
      "execution_count": 24,
      "outputs": [
        {
          "output_type": "stream",
          "text": [
            "+----------+---------+-----------+-----------------+---+----+----+--------+----------------+------+\n",
            "|Serial No.|GRE Score|TOEFL Score|University Rating|SOP|LOR |CGPA|Research|Chance of Admit |target|\n",
            "+----------+---------+-----------+-----------------+---+----+----+--------+----------------+------+\n",
            "|         1|      337|        118|                4|4.5| 4.5|9.65|       1|            0.92|   1.0|\n",
            "|         2|      324|        107|                4|4.0| 4.5|8.87|       1|            0.76|   1.0|\n",
            "|         3|      316|        104|                3|3.0| 3.5| 8.0|       1|            0.72|   1.0|\n",
            "|         4|      322|        110|                3|3.5| 2.5|8.67|       1|             0.8|   1.0|\n",
            "|         5|      314|        103|                2|2.0| 3.0|8.21|       0|            0.65|   1.0|\n",
            "|         6|      330|        115|                5|4.5| 3.0|9.34|       1|             0.9|   1.0|\n",
            "|         7|      321|        109|                3|3.0| 4.0| 8.2|       1|            0.75|   1.0|\n",
            "|         8|      308|        101|                2|3.0| 4.0| 7.9|       0|            0.68|   1.0|\n",
            "|         9|      302|        102|                1|2.0| 1.5| 8.0|       0|             0.5|   0.0|\n",
            "|        10|      323|        108|                3|3.5| 3.0| 8.6|       0|            0.45|   0.0|\n",
            "|        11|      325|        106|                3|3.5| 4.0| 8.4|       1|            0.52|   1.0|\n",
            "|        12|      327|        111|                4|4.0| 4.5| 9.0|       1|            0.84|   1.0|\n",
            "|        13|      328|        112|                4|4.0| 4.5| 9.1|       1|            0.78|   1.0|\n",
            "|        14|      307|        109|                3|4.0| 3.0| 8.0|       1|            0.62|   1.0|\n",
            "|        15|      311|        104|                3|3.5| 2.0| 8.2|       1|            0.61|   1.0|\n",
            "|        16|      314|        105|                3|3.5| 2.5| 8.3|       0|            0.54|   1.0|\n",
            "|        17|      317|        107|                3|4.0| 3.0| 8.7|       0|            0.66|   1.0|\n",
            "|        18|      319|        106|                3|4.0| 3.0| 8.0|       1|            0.65|   1.0|\n",
            "|        19|      318|        110|                3|4.0| 3.0| 8.8|       0|            0.63|   1.0|\n",
            "|        20|      303|        102|                3|3.5| 3.0| 8.5|       0|            0.62|   1.0|\n",
            "+----------+---------+-----------+-----------------+---+----+----+--------+----------------+------+\n",
            "only showing top 20 rows\n",
            "\n"
          ],
          "name": "stdout"
        }
      ]
    },
    {
      "cell_type": "markdown",
      "metadata": {
        "id": "G3NQ30HKbpqr"
      },
      "source": [
        "Divide GRE and TOEFL score columns by 100 to normalize the features."
      ]
    },
    {
      "cell_type": "code",
      "metadata": {
        "id": "VjcYYZ3oU7DY",
        "colab": {
          "base_uri": "https://localhost:8080/"
        },
        "outputId": "91c7a8a6-491e-4a6b-bf42-d2ab392d58b2"
      },
      "source": [
        "from pyspark.sql.functions import lit, col\n",
        "# Answer below\n",
        "normalized = binarized.withColumn('GRE_Score_norm', binarized['GRE Score']/lit(100))\n",
        "normalized = normalized.withColumn('TOEFL Score_norm', normalized['TOEFL Score']/lit(100))\n",
        "normalized.show()"
      ],
      "execution_count": 25,
      "outputs": [
        {
          "output_type": "stream",
          "text": [
            "+----------+---------+-----------+-----------------+---+----+----+--------+----------------+------+--------------+----------------+\n",
            "|Serial No.|GRE Score|TOEFL Score|University Rating|SOP|LOR |CGPA|Research|Chance of Admit |target|GRE_Score_norm|TOEFL Score_norm|\n",
            "+----------+---------+-----------+-----------------+---+----+----+--------+----------------+------+--------------+----------------+\n",
            "|         1|      337|        118|                4|4.5| 4.5|9.65|       1|            0.92|   1.0|          3.37|            1.18|\n",
            "|         2|      324|        107|                4|4.0| 4.5|8.87|       1|            0.76|   1.0|          3.24|            1.07|\n",
            "|         3|      316|        104|                3|3.0| 3.5| 8.0|       1|            0.72|   1.0|          3.16|            1.04|\n",
            "|         4|      322|        110|                3|3.5| 2.5|8.67|       1|             0.8|   1.0|          3.22|             1.1|\n",
            "|         5|      314|        103|                2|2.0| 3.0|8.21|       0|            0.65|   1.0|          3.14|            1.03|\n",
            "|         6|      330|        115|                5|4.5| 3.0|9.34|       1|             0.9|   1.0|           3.3|            1.15|\n",
            "|         7|      321|        109|                3|3.0| 4.0| 8.2|       1|            0.75|   1.0|          3.21|            1.09|\n",
            "|         8|      308|        101|                2|3.0| 4.0| 7.9|       0|            0.68|   1.0|          3.08|            1.01|\n",
            "|         9|      302|        102|                1|2.0| 1.5| 8.0|       0|             0.5|   0.0|          3.02|            1.02|\n",
            "|        10|      323|        108|                3|3.5| 3.0| 8.6|       0|            0.45|   0.0|          3.23|            1.08|\n",
            "|        11|      325|        106|                3|3.5| 4.0| 8.4|       1|            0.52|   1.0|          3.25|            1.06|\n",
            "|        12|      327|        111|                4|4.0| 4.5| 9.0|       1|            0.84|   1.0|          3.27|            1.11|\n",
            "|        13|      328|        112|                4|4.0| 4.5| 9.1|       1|            0.78|   1.0|          3.28|            1.12|\n",
            "|        14|      307|        109|                3|4.0| 3.0| 8.0|       1|            0.62|   1.0|          3.07|            1.09|\n",
            "|        15|      311|        104|                3|3.5| 2.0| 8.2|       1|            0.61|   1.0|          3.11|            1.04|\n",
            "|        16|      314|        105|                3|3.5| 2.5| 8.3|       0|            0.54|   1.0|          3.14|            1.05|\n",
            "|        17|      317|        107|                3|4.0| 3.0| 8.7|       0|            0.66|   1.0|          3.17|            1.07|\n",
            "|        18|      319|        106|                3|4.0| 3.0| 8.0|       1|            0.65|   1.0|          3.19|            1.06|\n",
            "|        19|      318|        110|                3|4.0| 3.0| 8.8|       0|            0.63|   1.0|          3.18|             1.1|\n",
            "|        20|      303|        102|                3|3.5| 3.0| 8.5|       0|            0.62|   1.0|          3.03|            1.02|\n",
            "+----------+---------+-----------+-----------------+---+----+----+--------+----------------+------+--------------+----------------+\n",
            "only showing top 20 rows\n",
            "\n"
          ],
          "name": "stdout"
        }
      ]
    },
    {
      "cell_type": "markdown",
      "metadata": {
        "id": "e1cIz6BWc12n"
      },
      "source": [
        "Vectorize the features using the vector assembler, saving them into a column named features."
      ]
    },
    {
      "cell_type": "code",
      "metadata": {
        "id": "-4Ibl9MkcPs4",
        "colab": {
          "base_uri": "https://localhost:8080/"
        },
        "outputId": "394fe14e-07ca-46eb-83b3-cd04bd19aacf"
      },
      "source": [
        "# Answer below\n",
        "vectorizer = VectorAssembler(inputCols=['University Rating',\n",
        "                                       'SOP',\n",
        "                                       'LOR ',\n",
        "                                       'CGPA','Research', \n",
        "                                       'GRE_Score_norm',\n",
        "                                       'TOEFL Score_norm'], outputCol='features')\n",
        "features_df = vectorizer.transform(normalized)\n",
        "features_df.show()\n"
      ],
      "execution_count": 26,
      "outputs": [
        {
          "output_type": "stream",
          "text": [
            "+----------+---------+-----------+-----------------+---+----+----+--------+----------------+------+--------------+----------------+--------------------+\n",
            "|Serial No.|GRE Score|TOEFL Score|University Rating|SOP|LOR |CGPA|Research|Chance of Admit |target|GRE_Score_norm|TOEFL Score_norm|            features|\n",
            "+----------+---------+-----------+-----------------+---+----+----+--------+----------------+------+--------------+----------------+--------------------+\n",
            "|         1|      337|        118|                4|4.5| 4.5|9.65|       1|            0.92|   1.0|          3.37|            1.18|[4.0,4.5,4.5,9.65...|\n",
            "|         2|      324|        107|                4|4.0| 4.5|8.87|       1|            0.76|   1.0|          3.24|            1.07|[4.0,4.0,4.5,8.87...|\n",
            "|         3|      316|        104|                3|3.0| 3.5| 8.0|       1|            0.72|   1.0|          3.16|            1.04|[3.0,3.0,3.5,8.0,...|\n",
            "|         4|      322|        110|                3|3.5| 2.5|8.67|       1|             0.8|   1.0|          3.22|             1.1|[3.0,3.5,2.5,8.67...|\n",
            "|         5|      314|        103|                2|2.0| 3.0|8.21|       0|            0.65|   1.0|          3.14|            1.03|[2.0,2.0,3.0,8.21...|\n",
            "|         6|      330|        115|                5|4.5| 3.0|9.34|       1|             0.9|   1.0|           3.3|            1.15|[5.0,4.5,3.0,9.34...|\n",
            "|         7|      321|        109|                3|3.0| 4.0| 8.2|       1|            0.75|   1.0|          3.21|            1.09|[3.0,3.0,4.0,8.2,...|\n",
            "|         8|      308|        101|                2|3.0| 4.0| 7.9|       0|            0.68|   1.0|          3.08|            1.01|[2.0,3.0,4.0,7.9,...|\n",
            "|         9|      302|        102|                1|2.0| 1.5| 8.0|       0|             0.5|   0.0|          3.02|            1.02|[1.0,2.0,1.5,8.0,...|\n",
            "|        10|      323|        108|                3|3.5| 3.0| 8.6|       0|            0.45|   0.0|          3.23|            1.08|[3.0,3.5,3.0,8.6,...|\n",
            "|        11|      325|        106|                3|3.5| 4.0| 8.4|       1|            0.52|   1.0|          3.25|            1.06|[3.0,3.5,4.0,8.4,...|\n",
            "|        12|      327|        111|                4|4.0| 4.5| 9.0|       1|            0.84|   1.0|          3.27|            1.11|[4.0,4.0,4.5,9.0,...|\n",
            "|        13|      328|        112|                4|4.0| 4.5| 9.1|       1|            0.78|   1.0|          3.28|            1.12|[4.0,4.0,4.5,9.1,...|\n",
            "|        14|      307|        109|                3|4.0| 3.0| 8.0|       1|            0.62|   1.0|          3.07|            1.09|[3.0,4.0,3.0,8.0,...|\n",
            "|        15|      311|        104|                3|3.5| 2.0| 8.2|       1|            0.61|   1.0|          3.11|            1.04|[3.0,3.5,2.0,8.2,...|\n",
            "|        16|      314|        105|                3|3.5| 2.5| 8.3|       0|            0.54|   1.0|          3.14|            1.05|[3.0,3.5,2.5,8.3,...|\n",
            "|        17|      317|        107|                3|4.0| 3.0| 8.7|       0|            0.66|   1.0|          3.17|            1.07|[3.0,4.0,3.0,8.7,...|\n",
            "|        18|      319|        106|                3|4.0| 3.0| 8.0|       1|            0.65|   1.0|          3.19|            1.06|[3.0,4.0,3.0,8.0,...|\n",
            "|        19|      318|        110|                3|4.0| 3.0| 8.8|       0|            0.63|   1.0|          3.18|             1.1|[3.0,4.0,3.0,8.8,...|\n",
            "|        20|      303|        102|                3|3.5| 3.0| 8.5|       0|            0.62|   1.0|          3.03|            1.02|[3.0,3.5,3.0,8.5,...|\n",
            "+----------+---------+-----------+-----------------+---+----+----+--------+----------------+------+--------------+----------------+--------------------+\n",
            "only showing top 20 rows\n",
            "\n"
          ],
          "name": "stdout"
        }
      ]
    },
    {
      "cell_type": "markdown",
      "metadata": {
        "id": "SfkkSBzfk93I"
      },
      "source": [
        "Split into train and test subsets."
      ]
    },
    {
      "cell_type": "code",
      "metadata": {
        "id": "PrkM1eCtlBnx"
      },
      "source": [
        "# Answer below\n",
        "train, test = features_df.randomSplit([0.8, 0.2])\n"
      ],
      "execution_count": 27,
      "outputs": []
    },
    {
      "cell_type": "markdown",
      "metadata": {
        "id": "-3KbBnp4lD1G"
      },
      "source": [
        "Define the Logistic regression model."
      ]
    },
    {
      "cell_type": "code",
      "metadata": {
        "id": "LncfrOdzdUbR"
      },
      "source": [
        "from pyspark.ml.classification import LogisticRegression\n",
        "logr = LogisticRegression(featuresCol='features', labelCol='target')\n"
      ],
      "execution_count": 28,
      "outputs": []
    },
    {
      "cell_type": "markdown",
      "metadata": {
        "id": "oOuEI6XBlLQR"
      },
      "source": [
        "Fit the model."
      ]
    },
    {
      "cell_type": "code",
      "metadata": {
        "id": "5Z4oo9o4eMX3"
      },
      "source": [
        "# Answer below\n",
        "model = logr.fit(train)"
      ],
      "execution_count": 29,
      "outputs": []
    },
    {
      "cell_type": "markdown",
      "metadata": {
        "id": "l-JLjNUmlN-E"
      },
      "source": [
        "predict in the test set."
      ]
    },
    {
      "cell_type": "code",
      "metadata": {
        "id": "irZa6ZrCesiG"
      },
      "source": [
        "# Answer below\n",
        "predictions = model.transform(test)"
      ],
      "execution_count": 30,
      "outputs": []
    },
    {
      "cell_type": "markdown",
      "metadata": {
        "id": "8swSBazulUqH"
      },
      "source": [
        "Plot the ROC."
      ]
    },
    {
      "cell_type": "code",
      "metadata": {
        "id": "e-xtF0dWey07",
        "colab": {
          "base_uri": "https://localhost:8080/",
          "height": 312
        },
        "outputId": "b8d3dc24-ba4a-42f6-c7d6-538658481eda"
      },
      "source": [
        "import matplotlib.pyplot as plt\n",
        "\n",
        "trainingSummary = model.summary\n",
        "roc = trainingSummary.roc.toPandas()\n",
        "plt.plot(roc['FPR'],roc['TPR'])\n",
        "plt.ylabel('False Positive Rate')\n",
        "plt.xlabel('True Positive Rate')\n",
        "plt.title('ROC Curve')\n",
        "plt.show()\n",
        "print('Training set areaUnderROC: ' + str(trainingSummary.areaUnderROC))"
      ],
      "execution_count": 31,
      "outputs": [
        {
          "output_type": "display_data",
          "data": {
            "image/png": "[encoded data removed]",
            "text/plain": [
              "<Figure size 432x288 with 1 Axes>"
            ]
          },
          "metadata": {
            "tags": [],
            "needs_background": "light"
          }
        },
        {
          "output_type": "stream",
          "text": [
            "Training set areaUnderROC: 0.9253710045662101\n"
          ],
          "name": "stdout"
        }
      ]
    },
    {
      "cell_type": "markdown",
      "metadata": {
        "id": "JvhfWKjTlX-N"
      },
      "source": [
        "Calculate the overall model accuracy using the model evaluator.\n"
      ]
    },
    {
      "cell_type": "code",
      "metadata": {
        "id": "LMTeVl6kfr_j",
        "colab": {
          "base_uri": "https://localhost:8080/"
        },
        "outputId": "72a3aae9-a501-41d8-b1f5-90922c9c5494"
      },
      "source": [
        "from pyspark.ml.evaluation import MulticlassClassificationEvaluator\n",
        "# Answer \n",
        "\n",
        "eval = MulticlassClassificationEvaluator(predictionCol='prediction', labelCol='target', metricName='accuracy')\n",
        "eval.evaluate(predictions)"
      ],
      "execution_count": 32,
      "outputs": [
        {
          "output_type": "execute_result",
          "data": {
            "text/plain": [
              "0.9404761904761905"
            ]
          },
          "metadata": {
            "tags": []
          },
          "execution_count": 32
        }
      ]
    },
    {
      "cell_type": "markdown",
      "metadata": {
        "id": "xwbB3HbXgslz"
      },
      "source": [
        "## Classification - Random Forest"
      ]
    },
    {
      "cell_type": "markdown",
      "metadata": {
        "id": "WpKBELD3lkmX"
      },
      "source": [
        "Download and save the land cover type CSV file to your Colab Data folder on Google Drive. \n",
        "\n",
        "The file can be downloaded from link [here](https://tf-assets-prod.s3.amazonaws.com/tf-curric/data-science/Data%20Sets%20Big%20Data/covtype.csv), download it and save it to your Google Colab Data folder on gdrive."
      ]
    },
    {
      "cell_type": "markdown",
      "metadata": {
        "id": "EJNJBjuDCOCk"
      },
      "source": [
        "Load the land cover type data from this CSV file."
      ]
    },
    {
      "cell_type": "code",
      "metadata": {
        "id": "kkTAb55PgKt-"
      },
      "source": [
        "#Answer below:\n",
        "\n",
        "cover = spark.read.format(\"csv\").option(\"header\", \"true\").option(\"inferSchema\", \"true\").load(\"covtype.csv\")"
      ],
      "execution_count": 34,
      "outputs": []
    },
    {
      "cell_type": "code",
      "metadata": {
        "id": "EN6ppx1qFINC"
      },
      "source": [
        "#load modules\n",
        "# !!!!caution: not from pyspark.mllib.linalg import Vectors\n",
        "from pyspark.ml.linalg import Vectors\n",
        "from pyspark.ml import Pipeline\n",
        "from pyspark.ml.feature import IndexToString,StringIndexer, VectorIndexer\n",
        "from pyspark.ml.tuning import CrossValidator, ParamGridBuilder\n",
        "from pyspark.ml.evaluation import MulticlassClassificationEvaluator"
      ],
      "execution_count": 35,
      "outputs": []
    },
    {
      "cell_type": "markdown",
      "metadata": {
        "id": "_-IFywYblz5e"
      },
      "source": [
        "Vectorize the features to a single column called features using a lambda function."
      ]
    },
    {
      "cell_type": "code",
      "metadata": {
        "id": "XwmrkR27E47j"
      },
      "source": [
        "#Answer below:\n",
        "\n",
        "feature_cols =  [x for x in cover.columns if x not in 'Cover_Type']\n",
        "assembler = VectorAssembler(inputCols = feature_cols, outputCol='features')\n",
        "#func = (lambda row:(row['features'] = )\n",
        "cover_features = assembler.transform(cover)"
      ],
      "execution_count": 38,
      "outputs": []
    },
    {
      "cell_type": "code",
      "metadata": {
        "id": "UKvre3Xy-AL9"
      },
      "source": [
        "# Split the data into training and test sets (40% held out for testing)\n",
        "#Answer below:\n",
        "train, test = cover_features.randomSplit([0.6, 0.4], seed=4242)"
      ],
      "execution_count": 41,
      "outputs": []
    },
    {
      "cell_type": "code",
      "metadata": {
        "id": "k0Sx4U14-Lpg"
      },
      "source": [
        "from pyspark.ml.classification import RandomForestClassifier\n",
        "\n",
        "# Define a RandomForest model.\n",
        "rf = RandomForestClassifier(featuresCol = 'features', labelCol = 'Cover_Type')\n",
        "rfModel = rf.fit(train)"
      ],
      "execution_count": 40,
      "outputs": []
    },
    {
      "cell_type": "markdown",
      "metadata": {
        "id": "9at6mz78mK4v"
      },
      "source": [
        "Fit the model and predict on the test data."
      ]
    },
    {
      "cell_type": "code",
      "metadata": {
        "id": "8FhL9nJiIAXG",
        "colab": {
          "base_uri": "https://localhost:8080/"
        },
        "outputId": "92e8c515-a96e-4ccc-afe1-f28646bec24a"
      },
      "source": [
        "#Answer below:\n",
        "predictions = rfModel.transform(test)\n",
        "predictions.show(10)"
      ],
      "execution_count": 43,
      "outputs": [
        {
          "output_type": "stream",
          "text": [
            "+---------+------+-----+--------------------------------+------------------------------+-------------------------------+-------------+--------------+-------------+----------------------------------+----------------+----------------+----------------+----------------+----------+----------+----------+----------+----------+----------+----------+----------+----------+-----------+-----------+-----------+-----------+-----------+-----------+-----------+-----------+-----------+-----------+-----------+-----------+-----------+-----------+-----------+-----------+-----------+-----------+-----------+-----------+-----------+-----------+-----------+-----------+-----------+-----------+-----------+-----------+-----------+-----------+-----------+----------+--------------------+--------------------+--------------------+----------+\n",
            "|Elevation|Aspect|Slope|Horizontal_Distance_To_Hydrology|Vertical_Distance_To_Hydrology|Horizontal_Distance_To_Roadways|Hillshade_9am|Hillshade_Noon|Hillshade_3pm|Horizontal_Distance_To_Fire_Points|Wilderness_Area1|Wilderness_Area2|Wilderness_Area3|Wilderness_Area4|Soil_Type1|Soil_Type2|Soil_Type3|Soil_Type4|Soil_Type5|Soil_Type6|Soil_Type7|Soil_Type8|Soil_Type9|Soil_Type10|Soil_Type11|Soil_Type12|Soil_Type13|Soil_Type14|Soil_Type15|Soil_Type16|Soil_Type17|Soil_Type18|Soil_Type19|Soil_Type20|Soil_Type21|Soil_Type22|Soil_Type23|Soil_Type24|Soil_Type25|Soil_Type26|Soil_Type27|Soil_Type28|Soil_Type29|Soil_Type30|Soil_Type31|Soil_Type32|Soil_Type33|Soil_Type34|Soil_Type35|Soil_Type36|Soil_Type37|Soil_Type38|Soil_Type39|Soil_Type40|Cover_Type|            features|       rawPrediction|         probability|prediction|\n",
            "+---------+------+-----+--------------------------------+------------------------------+-------------------------------+-------------+--------------+-------------+----------------------------------+----------------+----------------+----------------+----------------+----------+----------+----------+----------+----------+----------+----------+----------+----------+-----------+-----------+-----------+-----------+-----------+-----------+-----------+-----------+-----------+-----------+-----------+-----------+-----------+-----------+-----------+-----------+-----------+-----------+-----------+-----------+-----------+-----------+-----------+-----------+-----------+-----------+-----------+-----------+-----------+-----------+-----------+----------+--------------------+--------------------+--------------------+----------+\n",
            "|     1859|    18|   12|                              67|                            11|                             90|          211|           215|          139|                               792|               0|               0|               0|               1|         0|         1|         0|         0|         0|         0|         0|         0|         0|          0|          0|          0|          0|          0|          0|          0|          0|          0|          0|          0|          0|          0|          0|          0|          0|          0|          0|          0|          0|          0|          0|          0|          0|          0|          0|          0|          0|          0|          0|          0|         3|(54,[0,1,2,3,4,5,...|[0.0,1.5433915910...|[0.0,0.0771695795...|       3.0|\n",
            "|     1866|    23|   14|                              85|                            16|                            108|          212|           210|          133|                               819|               0|               0|               0|               1|         0|         1|         0|         0|         0|         0|         0|         0|         0|          0|          0|          0|          0|          0|          0|          0|          0|          0|          0|          0|          0|          0|          0|          0|          0|          0|          0|          0|          0|          0|          0|          0|          0|          0|          0|          0|          0|          0|          0|          0|         3|(54,[0,1,2,3,4,5,...|[0.0,1.4593173004...|[0.0,0.0729658650...|       3.0|\n",
            "|     1871|    22|   22|                              60|                            12|                             85|          200|           187|          115|                               792|               0|               0|               0|               1|         0|         0|         0|         0|         1|         0|         0|         0|         0|          0|          0|          0|          0|          0|          0|          0|          0|          0|          0|          0|          0|          0|          0|          0|          0|          0|          0|          0|          0|          0|          0|          0|          0|          0|          0|          0|          0|          0|          0|          0|         6|(54,[0,1,2,3,4,5,...|[0.0,2.0228213614...|[0.0,0.1011410680...|       3.0|\n",
            "|     1872|    12|   27|                              85|                            25|                             60|          182|           174|          118|                               577|               0|               0|               0|               1|         0|         0|         0|         0|         1|         0|         0|         0|         0|          0|          0|          0|          0|          0|          0|          0|          0|          0|          0|          0|          0|          0|          0|          0|          0|          0|          0|          0|          0|          0|          0|          0|          0|          0|          0|          0|          0|          0|          0|          0|         6|(54,[0,1,2,3,4,5,...|[0.0,2.0228213614...|[0.0,0.1011410680...|       3.0|\n",
            "|     1874|    18|   14|                               0|                             0|                             90|          208|           209|          135|                               793|               0|               0|               0|               1|         0|         0|         0|         0|         1|         0|         0|         0|         0|          0|          0|          0|          0|          0|          0|          0|          0|          0|          0|          0|          0|          0|          0|          0|          0|          0|          0|          0|          0|          0|          0|          0|          0|          0|          0|          0|          0|          0|          0|          0|         6|(54,[0,1,2,5,6,7,...|[0.0,2.1068956520...|[0.0,0.1053447826...|       3.0|\n",
            "|     1876|    25|   17|                             124|                            26|                            150|          209|           200|          123|                               836|               0|               0|               0|               1|         0|         1|         0|         0|         0|         0|         0|         0|         0|          0|          0|          0|          0|          0|          0|          0|          0|          0|          0|          0|          0|          0|          0|          0|          0|          0|          0|          0|          0|          0|          0|          0|          0|          0|          0|          0|          0|          0|          0|          0|         3|(54,[0,1,2,3,4,5,...|[0.0,1.4593173004...|[0.0,0.0729658650...|       3.0|\n",
            "|     1876|    29|   19|                             124|                            34|                             90|          210|           195|          115|                               750|               0|               0|               0|               1|         0|         1|         0|         0|         0|         0|         0|         0|         0|          0|          0|          0|          0|          0|          0|          0|          0|          0|          0|          0|          0|          0|          0|          0|          0|          0|          0|          0|          0|          0|          0|          0|          0|          0|          0|          0|          0|          0|          0|          0|         6|(54,[0,1,2,3,4,5,...|[0.0,1.4593173004...|[0.0,0.0729658650...|       3.0|\n",
            "|     1877|    27|   24|                              90|                            18|                             95|          201|           179|          104|                               780|               0|               0|               0|               1|         0|         0|         0|         0|         1|         0|         0|         0|         0|          0|          0|          0|          0|          0|          0|          0|          0|          0|          0|          0|          0|          0|          0|          0|          0|          0|          0|          0|          0|          0|          0|          0|          0|          0|          0|          0|          0|          0|          0|          0|         6|(54,[0,1,2,3,4,5,...|[0.0,2.0228213614...|[0.0,0.1011410680...|       3.0|\n",
            "|     1877|    28|   22|                             127|                            35|                             85|          205|           185|          107|                               706|               0|               0|               0|               1|         0|         1|         0|         0|         0|         0|         0|         0|         0|          0|          0|          0|          0|          0|          0|          0|          0|          0|          0|          0|          0|          0|          0|          0|          0|          0|          0|          0|          0|          0|          0|          0|          0|          0|          0|          0|          0|          0|          0|          0|         6|(54,[0,1,2,3,4,5,...|[0.0,1.4593173004...|[0.0,0.0729658650...|       3.0|\n",
            "|     1879|    23|   18|                             108|                            28|                            134|          207|           200|          124|                               875|               0|               0|               0|               1|         0|         1|         0|         0|         0|         0|         0|         0|         0|          0|          0|          0|          0|          0|          0|          0|          0|          0|          0|          0|          0|          0|          0|          0|          0|          0|          0|          0|          0|          0|          0|          0|          0|          0|          0|          0|          0|          0|          0|          0|         3|(54,[0,1,2,3,4,5,...|[0.0,1.4593173004...|[0.0,0.0729658650...|       3.0|\n",
            "+---------+------+-----+--------------------------------+------------------------------+-------------------------------+-------------+--------------+-------------+----------------------------------+----------------+----------------+----------------+----------------+----------+----------+----------+----------+----------+----------+----------+----------+----------+-----------+-----------+-----------+-----------+-----------+-----------+-----------+-----------+-----------+-----------+-----------+-----------+-----------+-----------+-----------+-----------+-----------+-----------+-----------+-----------+-----------+-----------+-----------+-----------+-----------+-----------+-----------+-----------+-----------+-----------+-----------+----------+--------------------+--------------------+--------------------+----------+\n",
            "only showing top 10 rows\n",
            "\n"
          ],
          "name": "stdout"
        }
      ]
    },
    {
      "cell_type": "markdown",
      "metadata": {
        "id": "I6TyrGJsmULB"
      },
      "source": [
        "Build a classification matrix to review the model preformance with the data test set."
      ]
    },
    {
      "cell_type": "code",
      "metadata": {
        "id": "A3D-XbnTjTNT",
        "colab": {
          "base_uri": "https://localhost:8080/"
        },
        "outputId": "263ec913-ee1e-4158-e55e-5e781d3dc672"
      },
      "source": [
        "from sklearn.metrics import confusion_matrix\n",
        "#Answer below:\n",
        "confusion_matrix(predictions.select('Cover_Type').collect(), predictions.select('prediction').collect())"
      ],
      "execution_count": 44,
      "outputs": [
        {
          "output_type": "execute_result",
          "data": {
            "text/plain": [
              "array([[60850, 23888,     0,     0,     0,     0,     0],\n",
              "       [25309, 86972,  1195,     0,     0,     0,     0],\n",
              "       [    0,  5409,  8850,     0,     0,     0,     0],\n",
              "       [    0,    26,  1069,     0,     0,     0,     0],\n",
              "       [    0,  3688,     0,     0,     0,     0,     0],\n",
              "       [    0,  3018,  3904,     0,     0,     0,     0],\n",
              "       [ 8073,    31,     0,     0,     0,     0,     0]])"
            ]
          },
          "metadata": {
            "tags": []
          },
          "execution_count": 44
        }
      ]
    },
    {
      "cell_type": "code",
      "metadata": {
        "id": "yOMVb_TxLIBr",
        "colab": {
          "base_uri": "https://localhost:8080/"
        },
        "outputId": "d5075945-1695-4f90-e300-472b6089a804"
      },
      "source": [
        "evl = MulticlassClassificationEvaluator(predictionCol='prediction', labelCol='Cover_Type', metricName='accuracy')\n",
        "evl.evaluate(predictions)"
      ],
      "execution_count": 45,
      "outputs": [
        {
          "output_type": "execute_result",
          "data": {
            "text/plain": [
              "0.6744904900078353"
            ]
          },
          "metadata": {
            "tags": []
          },
          "execution_count": 45
        }
      ]
    }
  ]
}