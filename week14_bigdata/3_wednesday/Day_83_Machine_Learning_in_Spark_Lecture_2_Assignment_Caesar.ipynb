{
  "nbformat": 4,
  "nbformat_minor": 0,
  "metadata": {
    "colab": {
      "name": "Day 83 Machine Learning in Spark Lecture 2 Assignment_Caesar.ipynb",
      "provenance": [],
      "collapsed_sections": []
    },
    "kernelspec": {
      "name": "python3",
      "display_name": "Python 3"
    }
  },
  "cells": [
    {
      "cell_type": "markdown",
      "metadata": {
        "id": "Ry4VDk_llCLY"
      },
      "source": [
        "## Day 83 Lecture 2 Assignment\n",
        "\n",
        "In this assignment, we will learn about Spark and MLLib.\n",
        "\n",
        "\n"
      ]
    },
    {
      "cell_type": "markdown",
      "metadata": {
        "id": "dNByDud4iU40"
      },
      "source": [
        "Update the Google Compute Engine."
      ]
    },
    {
      "cell_type": "code",
      "metadata": {
        "id": "NIxqnOXGS1OX",
        "colab": {
          "base_uri": "https://localhost:8080/"
        },
        "outputId": "517f796a-892f-4fb4-fcbe-3a66fca92795"
      },
      "source": [
        "! apt-get update"
      ],
      "execution_count": 1,
      "outputs": [
        {
          "output_type": "stream",
          "text": [
            "\r0% [Working]\r            \rGet:1 https://cloud.r-project.org/bin/linux/ubuntu bionic-cran40/ InRelease [3,626 B]\n",
            "\r0% [Waiting for headers] [Waiting for headers] [1 InRelease 0 B/3,626 B 0%] [Wa\r0% [Waiting for headers] [Waiting for headers] [Waiting for headers] [Waiting f\r0% [1 InRelease gpgv 3,626 B] [Waiting for headers] [Waiting for headers] [Wait\r                                                                               \rIgn:2 https://developer.download.nvidia.com/compute/cuda/repos/ubuntu1804/x86_64  InRelease\n",
            "\r0% [1 InRelease gpgv 3,626 B] [Waiting for headers] [Waiting for headers] [Wait\r                                                                               \rHit:3 http://archive.ubuntu.com/ubuntu bionic InRelease\n",
            "\r                                                                               \rGet:4 http://security.ubuntu.com/ubuntu bionic-security InRelease [88.7 kB]\n",
            "Get:5 http://ppa.launchpad.net/c2d4u.team/c2d4u4.0+/ubuntu bionic InRelease [15.9 kB]\n",
            "Ign:6 https://developer.download.nvidia.com/compute/machine-learning/repos/ubuntu1804/x86_64  InRelease\n",
            "Hit:7 https://developer.download.nvidia.com/compute/cuda/repos/ubuntu1804/x86_64  Release\n",
            "Get:8 https://developer.download.nvidia.com/compute/machine-learning/repos/ubuntu1804/x86_64  Release [564 B]\n",
            "Get:9 http://archive.ubuntu.com/ubuntu bionic-updates InRelease [88.7 kB]\n",
            "Get:10 https://developer.download.nvidia.com/compute/machine-learning/repos/ubuntu1804/x86_64  Release.gpg [833 B]\n",
            "Hit:11 http://ppa.launchpad.net/cran/libgit2/ubuntu bionic InRelease\n",
            "Get:12 https://cloud.r-project.org/bin/linux/ubuntu bionic-cran40/ Packages [43.6 kB]\n",
            "Get:13 http://archive.ubuntu.com/ubuntu bionic-backports InRelease [74.6 kB]\n",
            "Get:14 http://ppa.launchpad.net/graphics-drivers/ppa/ubuntu bionic InRelease [21.3 kB]\n",
            "Get:16 http://ppa.launchpad.net/c2d4u.team/c2d4u4.0+/ubuntu bionic/main Sources [1,708 kB]\n",
            "Get:17 https://developer.download.nvidia.com/compute/machine-learning/repos/ubuntu1804/x86_64  Packages [66.5 kB]\n",
            "Get:18 http://security.ubuntu.com/ubuntu bionic-security/restricted amd64 Packages [278 kB]\n",
            "Get:19 http://security.ubuntu.com/ubuntu bionic-security/universe amd64 Packages [1,376 kB]\n",
            "Get:20 http://ppa.launchpad.net/c2d4u.team/c2d4u4.0+/ubuntu bionic/main amd64 Packages [874 kB]\n",
            "Get:21 http://archive.ubuntu.com/ubuntu bionic-updates/restricted amd64 Packages [304 kB]\n",
            "Get:22 http://security.ubuntu.com/ubuntu bionic-security/main amd64 Packages [1,872 kB]\n",
            "Get:23 http://archive.ubuntu.com/ubuntu bionic-updates/universe amd64 Packages [2,140 kB]\n",
            "Get:24 http://archive.ubuntu.com/ubuntu bionic-updates/main amd64 Packages [2,298 kB]\n",
            "Get:25 http://archive.ubuntu.com/ubuntu bionic-updates/multiverse amd64 Packages [45.6 kB]\n",
            "Get:26 http://ppa.launchpad.net/graphics-drivers/ppa/ubuntu bionic/main amd64 Packages [49.2 kB]\n",
            "Fetched 11.3 MB in 3s (3,534 kB/s)\n",
            "Reading package lists... Done\n"
          ],
          "name": "stdout"
        }
      ]
    },
    {
      "cell_type": "markdown",
      "metadata": {
        "id": "4XJYeAHeihaf"
      },
      "source": [
        "Run the cells below to start a spark session."
      ]
    },
    {
      "cell_type": "code",
      "metadata": {
        "id": "wen6A2I2RYVV"
      },
      "source": [
        "!apt-get install openjdk-8-jdk-headless -qq > /dev/null\n",
        "!wget -q https://archive.apache.org/dist/spark/spark-2.4.6/spark-2.4.6-bin-hadoop2.7.tgz\n",
        "!tar xf spark-2.4.6-bin-hadoop2.7.tgz"
      ],
      "execution_count": 2,
      "outputs": []
    },
    {
      "cell_type": "markdown",
      "metadata": {
        "id": "zm3pHHHxNmkW"
      },
      "source": [
        "Set up the environmental variables."
      ]
    },
    {
      "cell_type": "code",
      "metadata": {
        "id": "VW40H37fIb0t"
      },
      "source": [
        "import os\n",
        "os.environ[\"JAVA_HOME\"] = \"/usr/lib/jvm/java-8-openjdk-amd64\"\n",
        "os.environ[\"SPARK_HOME\"] = \"/content/spark-2.4.6-bin-hadoop2.7\""
      ],
      "execution_count": 3,
      "outputs": []
    },
    {
      "cell_type": "markdown",
      "metadata": {
        "id": "1vdAA2aoNqhz"
      },
      "source": [
        "Install Pyspark. ***Note: The version must match the version of Spark that you have installed earlier***."
      ]
    },
    {
      "cell_type": "code",
      "metadata": {
        "id": "274gUgKyIjnC",
        "colab": {
          "base_uri": "https://localhost:8080/"
        },
        "outputId": "710f434e-2f5f-4296-8fec-0bffb73ea5e3"
      },
      "source": [
        "!pip install -q findspark\n",
        "!pip install pyspark==2.4.6"
      ],
      "execution_count": 4,
      "outputs": [
        {
          "output_type": "stream",
          "text": [
            "Collecting pyspark==2.4.6\n",
            "\u001b[?25l  Downloading https://files.pythonhosted.org/packages/e9/e4/5c15ab8d354c4e3528510821865e6748209a9b0ff6a1788f4cd36cc2a5dc/pyspark-2.4.6.tar.gz (218.4MB)\n",
            "\u001b[K     |████████████████████████████████| 218.4MB 62kB/s \n",
            "\u001b[?25hCollecting py4j==0.10.7\n",
            "\u001b[?25l  Downloading https://files.pythonhosted.org/packages/e3/53/c737818eb9a7dc32a7cd4f1396e787bd94200c3997c72c1dbe028587bd76/py4j-0.10.7-py2.py3-none-any.whl (197kB)\n",
            "\u001b[K     |████████████████████████████████| 204kB 42.1MB/s \n",
            "\u001b[?25hBuilding wheels for collected packages: pyspark\n",
            "  Building wheel for pyspark (setup.py) ... \u001b[?25l\u001b[?25hdone\n",
            "  Created wheel for pyspark: filename=pyspark-2.4.6-py2.py3-none-any.whl size=218814406 sha256=3f7c6053d70b4ada539d719738ca0d9477de1705fced42306ba791e0514c1660\n",
            "  Stored in directory: /root/.cache/pip/wheels/1e/5e/6a/17e906c94ec7246f260330a66e44a06a0809033ba2738a74a8\n",
            "Successfully built pyspark\n",
            "Installing collected packages: py4j, pyspark\n",
            "Successfully installed py4j-0.10.7 pyspark-2.4.6\n"
          ],
          "name": "stdout"
        }
      ]
    },
    {
      "cell_type": "markdown",
      "metadata": {
        "id": "AtsLvt2JlI7X"
      },
      "source": [
        "Download and save the video games sales CSV file to your Colab Data folder on Google Drive. \n",
        "\n",
        "The file can be downloaded from link [here](https://tf-assets-prod.s3.amazonaws.com/tf-curric/data-science/Data%20Sets%20Big%20Data/Video_Games_Sales_as_at_22_Dec_2016.csv), download it and save it to your Google Colab Data folder on gdrive.\n"
      ]
    },
    {
      "cell_type": "markdown",
      "metadata": {
        "id": "M1TXjLAWN3Wd"
      },
      "source": [
        "Mount your Google drive for access in Google Colab Notebooks."
      ]
    },
    {
      "cell_type": "code",
      "metadata": {
        "id": "uFXDtsaOIsLI",
        "colab": {
          "base_uri": "https://localhost:8080/"
        },
        "outputId": "5d9c4be9-0e36-4e89-8192-5178d7340da3"
      },
      "source": [
        "from google.colab import drive\n",
        "drive.mount('/content/gdrive')"
      ],
      "execution_count": 5,
      "outputs": [
        {
          "output_type": "stream",
          "text": [
            "Mounted at /content/gdrive\n"
          ],
          "name": "stdout"
        }
      ]
    },
    {
      "cell_type": "markdown",
      "metadata": {
        "id": "aIuuMcVvPH9l"
      },
      "source": [
        "Change your directory to the Colab Data folder where you saved the CSV file."
      ]
    },
    {
      "cell_type": "code",
      "metadata": {
        "id": "X8_ke5oAkBU6"
      },
      "source": [
        "os.chdir('/content/gdrive/MyDrive/')"
      ],
      "execution_count": 6,
      "outputs": []
    },
    {
      "cell_type": "markdown",
      "metadata": {
        "id": "hcU6yqpgO_of"
      },
      "source": [
        "Set your local session."
      ]
    },
    {
      "cell_type": "code",
      "metadata": {
        "id": "BRiTkZyDebpj"
      },
      "source": [
        "APP_NAME = \"Day83\"\n",
        "SPARK_URL = \"local[*]\""
      ],
      "execution_count": 10,
      "outputs": []
    },
    {
      "cell_type": "markdown",
      "metadata": {
        "id": "PAjBzkznFKHX"
      },
      "source": [
        ""
      ]
    },
    {
      "cell_type": "markdown",
      "metadata": {
        "id": "Lkb7U6V5ioAP"
      },
      "source": [
        "Run the cells below to start a spark session."
      ]
    },
    {
      "cell_type": "code",
      "metadata": {
        "id": "flNZrdlNDuas"
      },
      "source": [
        "from pyspark.sql import SparkSession\n",
        "spark = SparkSession.builder.appName(APP_NAME).getOrCreate()"
      ],
      "execution_count": 11,
      "outputs": []
    },
    {
      "cell_type": "markdown",
      "metadata": {
        "id": "Ux-rFpwBimqD"
      },
      "source": [
        "List all the files in your directory."
      ]
    },
    {
      "cell_type": "code",
      "metadata": {
        "id": "HEln8x7hx7H-",
        "colab": {
          "base_uri": "https://localhost:8080/"
        },
        "outputId": "d7503933-7014-4c86-ef01-9ebd71d1f8f0"
      },
      "source": [
        "os.listdir()"
      ],
      "execution_count": 8,
      "outputs": [
        {
          "output_type": "execute_result",
          "data": {
            "text/plain": [
              "['Colab Notebooks',\n",
              " 'Central Limit Theorem Assignment.ipynb',\n",
              " 'Thinkful',\n",
              " 'Capstone 1',\n",
              " 'Challenge: Factors that affect life expectancy.ipynb',\n",
              " '3dmark_fs_P_1339_1 (2).csv',\n",
              " '3dmark_fs_P_1339_2 (2).csv',\n",
              " '3dmark_fs_P_1339_3 (2).csv',\n",
              " '3dmark_fs_P_1339_4.csv',\n",
              " '3dmark_fs_P_1339_5.csv',\n",
              " '3dmark_fs_P_1339_6.csv',\n",
              " '3dmark_fs_P_1339_7.csv',\n",
              " 'Capstone 2 - Supervised Learning',\n",
              " 'Job & Activity Tracker.gsheet',\n",
              " '3dmark_fs_P_1339_1 (1).csv',\n",
              " '3dmark_fs_P_1339_2 (1).csv',\n",
              " '3dmark_fs_P_1339_3 (1).csv',\n",
              " '3dmark_fs_P_1339_1.csv',\n",
              " '3dmark_fs_P_1339_2.csv',\n",
              " '3dmark_fs_P_1339_3.csv',\n",
              " '3dmark_scraper',\n",
              " 'Joy',\n",
              " 'Role Interview Planner.gdoc',\n",
              " 'Finding Open Positions and Analyzing Fit .gdoc',\n",
              " 'combined.csv',\n",
              " 'Capstone 3 - Unsupervised Learning',\n",
              " 'M31C3 - Text Preprocessing.ipynb',\n",
              " 'Day 75, Lecture 1: Assignment_Caesar.ipynb',\n",
              " 'Copy of Day 75, Lecture 2: Assignment.ipynb',\n",
              " 'dogs-vs-cats-processed',\n",
              " 'UCI HAR Dataset',\n",
              " 'M33C4_Working_with_Dask_Arrays.ipynb',\n",
              " 'Video_Games_Sales_as_at_22_Dec_2016.csv']"
            ]
          },
          "metadata": {
            "tags": []
          },
          "execution_count": 8
        }
      ]
    },
    {
      "cell_type": "markdown",
      "metadata": {
        "id": "yo2CIL4XPRzn"
      },
      "source": [
        "Load the CSV file as a Spark dataframe."
      ]
    },
    {
      "cell_type": "code",
      "metadata": {
        "id": "wvrsUPFKUgWJ"
      },
      "source": [
        "video = spark.read.format(\"csv\").option(\"header\", \"true\").option(\"inferSchema\", \"true\").load(\"Video_Games_Sales_as_at_22_Dec_2016.csv\")"
      ],
      "execution_count": 12,
      "outputs": []
    },
    {
      "cell_type": "markdown",
      "metadata": {
        "id": "j1OiHvakqnM1"
      },
      "source": [
        "Review the data by applying the show command."
      ]
    },
    {
      "cell_type": "code",
      "metadata": {
        "id": "0yzV32sgqidJ",
        "colab": {
          "base_uri": "https://localhost:8080/"
        },
        "outputId": "df6ede4d-c6a0-4e2a-c9f6-1961379adbd5"
      },
      "source": [
        "video.show(10)"
      ],
      "execution_count": 13,
      "outputs": [
        {
          "output_type": "stream",
          "text": [
            "+--------------------+--------+---------------+------------+---------+--------+--------+--------+-----------+------------+------------+------------+----------+----------+---------+------+\n",
            "|                Name|Platform|Year_of_Release|       Genre|Publisher|NA_Sales|EU_Sales|JP_Sales|Other_Sales|Global_Sales|Critic_Score|Critic_Count|User_Score|User_Count|Developer|Rating|\n",
            "+--------------------+--------+---------------+------------+---------+--------+--------+--------+-----------+------------+------------+------------+----------+----------+---------+------+\n",
            "|          Wii Sports|     Wii|           2006|      Sports| Nintendo|   41.36|   28.96|    3.77|       8.45|       82.53|          76|          51|         8|       322| Nintendo|     E|\n",
            "|   Super Mario Bros.|     NES|           1985|    Platform| Nintendo|   29.08|    3.58|    6.81|       0.77|       40.24|        null|        null|      null|      null|     null|  null|\n",
            "|      Mario Kart Wii|     Wii|           2008|      Racing| Nintendo|   15.68|   12.76|    3.79|       3.29|       35.52|          82|          73|       8.3|       709| Nintendo|     E|\n",
            "|   Wii Sports Resort|     Wii|           2009|      Sports| Nintendo|   15.61|   10.93|    3.28|       2.95|       32.77|          80|          73|         8|       192| Nintendo|     E|\n",
            "|Pokemon Red/Pokem...|      GB|           1996|Role-Playing| Nintendo|   11.27|    8.89|   10.22|        1.0|       31.37|        null|        null|      null|      null|     null|  null|\n",
            "|              Tetris|      GB|           1989|      Puzzle| Nintendo|    23.2|    2.26|    4.22|       0.58|       30.26|        null|        null|      null|      null|     null|  null|\n",
            "|New Super Mario B...|      DS|           2006|    Platform| Nintendo|   11.28|    9.14|     6.5|       2.88|        29.8|          89|          65|       8.5|       431| Nintendo|     E|\n",
            "|            Wii Play|     Wii|           2006|        Misc| Nintendo|   13.96|    9.18|    2.93|       2.84|       28.92|          58|          41|       6.6|       129| Nintendo|     E|\n",
            "|New Super Mario B...|     Wii|           2009|    Platform| Nintendo|   14.44|    6.94|     4.7|       2.24|       28.32|          87|          80|       8.4|       594| Nintendo|     E|\n",
            "|           Duck Hunt|     NES|           1984|     Shooter| Nintendo|   26.93|    0.63|    0.28|       0.47|       28.31|        null|        null|      null|      null|     null|  null|\n",
            "+--------------------+--------+---------------+------------+---------+--------+--------+--------+-----------+------------+------------+------------+----------+----------+---------+------+\n",
            "only showing top 10 rows\n",
            "\n"
          ],
          "name": "stdout"
        }
      ]
    },
    {
      "cell_type": "markdown",
      "metadata": {
        "id": "d9_58zZnQ4m8"
      },
      "source": [
        "We will predict global sales using a number of variables in this dataset. We will start by removing all missing data (though we know that this will make the dataset significantly smaller). Drop all the missing values using dropna."
      ]
    },
    {
      "cell_type": "code",
      "metadata": {
        "id": "dnKVtUnoKtS9",
        "colab": {
          "base_uri": "https://localhost:8080/"
        },
        "outputId": "992b670c-b9f0-4474-af92-fc515062ea37"
      },
      "source": [
        "video_ = video.na.drop()\n",
        "video_.show()"
      ],
      "execution_count": 19,
      "outputs": [
        {
          "output_type": "stream",
          "text": [
            "+--------------------+--------+---------------+--------+--------------------+--------+--------+--------+-----------+------------+------------+------------+----------+----------+--------------------+------+\n",
            "|                Name|Platform|Year_of_Release|   Genre|           Publisher|NA_Sales|EU_Sales|JP_Sales|Other_Sales|Global_Sales|Critic_Score|Critic_Count|User_Score|User_Count|           Developer|Rating|\n",
            "+--------------------+--------+---------------+--------+--------------------+--------+--------+--------+-----------+------------+------------+------------+----------+----------+--------------------+------+\n",
            "|          Wii Sports|     Wii|           2006|  Sports|            Nintendo|   41.36|   28.96|    3.77|       8.45|       82.53|          76|          51|         8|       322|            Nintendo|     E|\n",
            "|      Mario Kart Wii|     Wii|           2008|  Racing|            Nintendo|   15.68|   12.76|    3.79|       3.29|       35.52|          82|          73|       8.3|       709|            Nintendo|     E|\n",
            "|   Wii Sports Resort|     Wii|           2009|  Sports|            Nintendo|   15.61|   10.93|    3.28|       2.95|       32.77|          80|          73|         8|       192|            Nintendo|     E|\n",
            "|New Super Mario B...|      DS|           2006|Platform|            Nintendo|   11.28|    9.14|     6.5|       2.88|        29.8|          89|          65|       8.5|       431|            Nintendo|     E|\n",
            "|            Wii Play|     Wii|           2006|    Misc|            Nintendo|   13.96|    9.18|    2.93|       2.84|       28.92|          58|          41|       6.6|       129|            Nintendo|     E|\n",
            "|New Super Mario B...|     Wii|           2009|Platform|            Nintendo|   14.44|    6.94|     4.7|       2.24|       28.32|          87|          80|       8.4|       594|            Nintendo|     E|\n",
            "|       Mario Kart DS|      DS|           2005|  Racing|            Nintendo|    9.71|    7.47|    4.13|        1.9|       23.21|          91|          64|       8.6|       464|            Nintendo|     E|\n",
            "|             Wii Fit|     Wii|           2007|  Sports|            Nintendo|    8.92|    8.03|     3.6|       2.15|        22.7|          80|          63|       7.7|       146|            Nintendo|     E|\n",
            "|  Kinect Adventures!|    X360|           2010|    Misc|Microsoft Game St...|    15.0|    4.89|    0.24|       1.69|       21.81|          61|          45|       6.3|       106| Good Science Studio|     E|\n",
            "|        Wii Fit Plus|     Wii|           2009|  Sports|            Nintendo|    9.01|    8.49|    2.53|       1.77|       21.79|          80|          33|       7.4|        52|            Nintendo|     E|\n",
            "|  Grand Theft Auto V|     PS3|           2013|  Action|Take-Two Interactive|    7.02|    9.09|    0.98|       3.96|       21.04|          97|          50|       8.2|      3994|      Rockstar North|     M|\n",
            "|Grand Theft Auto:...|     PS2|           2004|  Action|Take-Two Interactive|    9.43|     0.4|    0.41|      10.57|       20.81|          95|          80|         9|      1588|      Rockstar North|     M|\n",
            "|Brain Age: Train ...|      DS|           2005|    Misc|            Nintendo|    4.74|     9.2|    4.16|       2.04|       20.15|          77|          58|       7.9|        50|            Nintendo|     E|\n",
            "|  Grand Theft Auto V|    X360|           2013|  Action|Take-Two Interactive|    9.66|    5.14|    0.06|       1.41|       16.27|          97|          58|       8.1|      3711|      Rockstar North|     M|\n",
            "|Grand Theft Auto:...|     PS2|           2002|  Action|Take-Two Interactive|    8.41|    5.49|    0.47|       1.78|       16.15|          95|          62|       8.7|       730|      Rockstar North|     M|\n",
            "|Brain Age 2: More...|      DS|           2005|  Puzzle|            Nintendo|    3.43|    5.35|    5.32|       1.18|       15.29|          77|          37|       7.1|        19|            Nintendo|     E|\n",
            "|Gran Turismo 3: A...|     PS2|           2001|  Racing|Sony Computer Ent...|    6.85|    5.09|    1.87|       1.16|       14.98|          95|          54|       8.4|       314|   Polyphony Digital|     E|\n",
            "|Call of Duty: Mod...|    X360|           2011| Shooter|          Activision|    9.04|    4.24|    0.13|       1.32|       14.73|          88|          81|       3.4|      8713|Infinity Ward, Sl...|     M|\n",
            "|Call of Duty: Bla...|    X360|           2010| Shooter|          Activision|     9.7|    3.68|    0.11|       1.13|       14.61|          87|          89|       6.3|      1454|            Treyarch|     M|\n",
            "|Call of Duty: Bla...|     PS3|           2012| Shooter|          Activision|    4.99|    5.73|    0.65|       2.42|       13.79|          83|          21|       5.3|       922|            Treyarch|     M|\n",
            "+--------------------+--------+---------------+--------+--------------------+--------+--------+--------+-----------+------------+------------+------------+----------+----------+--------------------+------+\n",
            "only showing top 20 rows\n",
            "\n"
          ],
          "name": "stdout"
        }
      ]
    },
    {
      "cell_type": "markdown",
      "metadata": {
        "id": "_CgzqoLDw5aU"
      },
      "source": [
        "Get the unique values for Genre.\n"
      ]
    },
    {
      "cell_type": "code",
      "metadata": {
        "id": "1bhnicFVw8uN",
        "colab": {
          "base_uri": "https://localhost:8080/"
        },
        "outputId": "010abe96-4919-497f-f5b0-1b9abdbc6257"
      },
      "source": [
        "distinct_g = [x.Genre for x in video_.select('Genre').distinct().collect()]\n",
        "len(distinct_g)"
      ],
      "execution_count": 20,
      "outputs": [
        {
          "output_type": "execute_result",
          "data": {
            "text/plain": [
              "12"
            ]
          },
          "metadata": {
            "tags": []
          },
          "execution_count": 20
        }
      ]
    },
    {
      "cell_type": "code",
      "metadata": {
        "colab": {
          "base_uri": "https://localhost:8080/"
        },
        "id": "L7nOUFUzFZVo",
        "outputId": "24471af8-f64c-49eb-efef-85ad4e93a4cb"
      },
      "source": [
        "distinct_g"
      ],
      "execution_count": 21,
      "outputs": [
        {
          "output_type": "execute_result",
          "data": {
            "text/plain": [
              "['Adventure',\n",
              " 'Sports',\n",
              " 'Racing',\n",
              " 'Role-Playing',\n",
              " 'Shooter',\n",
              " 'Misc',\n",
              " 'Platform',\n",
              " 'Puzzle',\n",
              " 'Fighting',\n",
              " 'Action',\n",
              " 'Strategy',\n",
              " 'Simulation']"
            ]
          },
          "metadata": {
            "tags": []
          },
          "execution_count": 21
        }
      ]
    },
    {
      "cell_type": "markdown",
      "metadata": {
        "id": "X06gNwR0V2Q3"
      },
      "source": [
        "Next, we will create dummy variables for the genre. Create these variables using the `OneHotEncoder` provided in spark."
      ]
    },
    {
      "cell_type": "code",
      "metadata": {
        "id": "CpRz8gMHV1jS"
      },
      "source": [
        "from pyspark.ml.feature import OneHotEncoder, StringIndexer\n",
        "\n",
        "stringIndexer = StringIndexer(inputCol=\"Genre\", outputCol=\"GenreIndex\")\n",
        "si = stringIndexer.fit(video_)\n",
        "indexed = si.transform(video_)\n",
        "encoder = OneHotEncoder(inputCol=\"GenreIndex\", outputCol=\"GenreVec\")\n",
        "encoded = encoder.transform(indexed)"
      ],
      "execution_count": 22,
      "outputs": []
    },
    {
      "cell_type": "code",
      "metadata": {
        "id": "4_5HOoEsWt96",
        "colab": {
          "base_uri": "https://localhost:8080/"
        },
        "outputId": "707bb14c-3d19-4dc7-dbe3-296aac906936"
      },
      "source": [
        "encoded.show()"
      ],
      "execution_count": 23,
      "outputs": [
        {
          "output_type": "stream",
          "text": [
            "+--------------------+--------+---------------+--------+--------------------+--------+--------+--------+-----------+------------+------------+------------+----------+----------+--------------------+------+----------+--------------+\n",
            "|                Name|Platform|Year_of_Release|   Genre|           Publisher|NA_Sales|EU_Sales|JP_Sales|Other_Sales|Global_Sales|Critic_Score|Critic_Count|User_Score|User_Count|           Developer|Rating|GenreIndex|      GenreVec|\n",
            "+--------------------+--------+---------------+--------+--------------------+--------+--------+--------+-----------+------------+------------+------------+----------+----------+--------------------+------+----------+--------------+\n",
            "|          Wii Sports|     Wii|           2006|  Sports|            Nintendo|   41.36|   28.96|    3.77|       8.45|       82.53|          76|          51|         8|       322|            Nintendo|     E|       1.0|(11,[1],[1.0])|\n",
            "|      Mario Kart Wii|     Wii|           2008|  Racing|            Nintendo|   15.68|   12.76|    3.79|       3.29|       35.52|          82|          73|       8.3|       709|            Nintendo|     E|       4.0|(11,[4],[1.0])|\n",
            "|   Wii Sports Resort|     Wii|           2009|  Sports|            Nintendo|   15.61|   10.93|    3.28|       2.95|       32.77|          80|          73|         8|       192|            Nintendo|     E|       1.0|(11,[1],[1.0])|\n",
            "|New Super Mario B...|      DS|           2006|Platform|            Nintendo|   11.28|    9.14|     6.5|       2.88|        29.8|          89|          65|       8.5|       431|            Nintendo|     E|       5.0|(11,[5],[1.0])|\n",
            "|            Wii Play|     Wii|           2006|    Misc|            Nintendo|   13.96|    9.18|    2.93|       2.84|       28.92|          58|          41|       6.6|       129|            Nintendo|     E|       6.0|(11,[6],[1.0])|\n",
            "|New Super Mario B...|     Wii|           2009|Platform|            Nintendo|   14.44|    6.94|     4.7|       2.24|       28.32|          87|          80|       8.4|       594|            Nintendo|     E|       5.0|(11,[5],[1.0])|\n",
            "|       Mario Kart DS|      DS|           2005|  Racing|            Nintendo|    9.71|    7.47|    4.13|        1.9|       23.21|          91|          64|       8.6|       464|            Nintendo|     E|       4.0|(11,[4],[1.0])|\n",
            "|             Wii Fit|     Wii|           2007|  Sports|            Nintendo|    8.92|    8.03|     3.6|       2.15|        22.7|          80|          63|       7.7|       146|            Nintendo|     E|       1.0|(11,[1],[1.0])|\n",
            "|  Kinect Adventures!|    X360|           2010|    Misc|Microsoft Game St...|    15.0|    4.89|    0.24|       1.69|       21.81|          61|          45|       6.3|       106| Good Science Studio|     E|       6.0|(11,[6],[1.0])|\n",
            "|        Wii Fit Plus|     Wii|           2009|  Sports|            Nintendo|    9.01|    8.49|    2.53|       1.77|       21.79|          80|          33|       7.4|        52|            Nintendo|     E|       1.0|(11,[1],[1.0])|\n",
            "|  Grand Theft Auto V|     PS3|           2013|  Action|Take-Two Interactive|    7.02|    9.09|    0.98|       3.96|       21.04|          97|          50|       8.2|      3994|      Rockstar North|     M|       0.0|(11,[0],[1.0])|\n",
            "|Grand Theft Auto:...|     PS2|           2004|  Action|Take-Two Interactive|    9.43|     0.4|    0.41|      10.57|       20.81|          95|          80|         9|      1588|      Rockstar North|     M|       0.0|(11,[0],[1.0])|\n",
            "|Brain Age: Train ...|      DS|           2005|    Misc|            Nintendo|    4.74|     9.2|    4.16|       2.04|       20.15|          77|          58|       7.9|        50|            Nintendo|     E|       6.0|(11,[6],[1.0])|\n",
            "|  Grand Theft Auto V|    X360|           2013|  Action|Take-Two Interactive|    9.66|    5.14|    0.06|       1.41|       16.27|          97|          58|       8.1|      3711|      Rockstar North|     M|       0.0|(11,[0],[1.0])|\n",
            "|Grand Theft Auto:...|     PS2|           2002|  Action|Take-Two Interactive|    8.41|    5.49|    0.47|       1.78|       16.15|          95|          62|       8.7|       730|      Rockstar North|     M|       0.0|(11,[0],[1.0])|\n",
            "|Brain Age 2: More...|      DS|           2005|  Puzzle|            Nintendo|    3.43|    5.35|    5.32|       1.18|       15.29|          77|          37|       7.1|        19|            Nintendo|     E|      11.0|    (11,[],[])|\n",
            "|Gran Turismo 3: A...|     PS2|           2001|  Racing|Sony Computer Ent...|    6.85|    5.09|    1.87|       1.16|       14.98|          95|          54|       8.4|       314|   Polyphony Digital|     E|       4.0|(11,[4],[1.0])|\n",
            "|Call of Duty: Mod...|    X360|           2011| Shooter|          Activision|    9.04|    4.24|    0.13|       1.32|       14.73|          88|          81|       3.4|      8713|Infinity Ward, Sl...|     M|       2.0|(11,[2],[1.0])|\n",
            "|Call of Duty: Bla...|    X360|           2010| Shooter|          Activision|     9.7|    3.68|    0.11|       1.13|       14.61|          87|          89|       6.3|      1454|            Treyarch|     M|       2.0|(11,[2],[1.0])|\n",
            "|Call of Duty: Bla...|     PS3|           2012| Shooter|          Activision|    4.99|    5.73|    0.65|       2.42|       13.79|          83|          21|       5.3|       922|            Treyarch|     M|       2.0|(11,[2],[1.0])|\n",
            "+--------------------+--------+---------------+--------+--------------------+--------+--------+--------+-----------+------------+------------+------------+----------+----------+--------------------+------+----------+--------------+\n",
            "only showing top 20 rows\n",
            "\n"
          ],
          "name": "stdout"
        }
      ]
    },
    {
      "cell_type": "markdown",
      "metadata": {
        "id": "MiQXmq_fXntw"
      },
      "source": [
        "Convert the critic score and the user score to a number between 0 and 1 by dividing by 100. "
      ]
    },
    {
      "cell_type": "code",
      "metadata": {
        "id": "-VgfllC7XPKP",
        "colab": {
          "base_uri": "https://localhost:8080/"
        },
        "outputId": "23b39088-504d-4fe0-e7ba-88be5c9bbdab"
      },
      "source": [
        "from pyspark.sql.functions import lit, col\n",
        "\n",
        "video_percent = encoded.withColumn(\"Critic_Score_100\", encoded[\"Critic_Score\"]/lit(100)).withColumn(\"User_Score_100\", encoded[\"User_Score\"]/lit(100))\n",
        "\n",
        "video_percent.show()"
      ],
      "execution_count": 26,
      "outputs": [
        {
          "output_type": "stream",
          "text": [
            "+--------------------+--------+---------------+--------+--------------------+--------+--------+--------+-----------+------------+------------+------------+----------+----------+--------------------+------+----------+--------------+----------------+-------------------+\n",
            "|                Name|Platform|Year_of_Release|   Genre|           Publisher|NA_Sales|EU_Sales|JP_Sales|Other_Sales|Global_Sales|Critic_Score|Critic_Count|User_Score|User_Count|           Developer|Rating|GenreIndex|      GenreVec|Critic_Score_100|     User_Score_100|\n",
            "+--------------------+--------+---------------+--------+--------------------+--------+--------+--------+-----------+------------+------------+------------+----------+----------+--------------------+------+----------+--------------+----------------+-------------------+\n",
            "|          Wii Sports|     Wii|           2006|  Sports|            Nintendo|   41.36|   28.96|    3.77|       8.45|       82.53|          76|          51|         8|       322|            Nintendo|     E|       1.0|(11,[1],[1.0])|            0.76|               0.08|\n",
            "|      Mario Kart Wii|     Wii|           2008|  Racing|            Nintendo|   15.68|   12.76|    3.79|       3.29|       35.52|          82|          73|       8.3|       709|            Nintendo|     E|       4.0|(11,[4],[1.0])|            0.82|              0.083|\n",
            "|   Wii Sports Resort|     Wii|           2009|  Sports|            Nintendo|   15.61|   10.93|    3.28|       2.95|       32.77|          80|          73|         8|       192|            Nintendo|     E|       1.0|(11,[1],[1.0])|             0.8|               0.08|\n",
            "|New Super Mario B...|      DS|           2006|Platform|            Nintendo|   11.28|    9.14|     6.5|       2.88|        29.8|          89|          65|       8.5|       431|            Nintendo|     E|       5.0|(11,[5],[1.0])|            0.89|              0.085|\n",
            "|            Wii Play|     Wii|           2006|    Misc|            Nintendo|   13.96|    9.18|    2.93|       2.84|       28.92|          58|          41|       6.6|       129|            Nintendo|     E|       6.0|(11,[6],[1.0])|            0.58|              0.066|\n",
            "|New Super Mario B...|     Wii|           2009|Platform|            Nintendo|   14.44|    6.94|     4.7|       2.24|       28.32|          87|          80|       8.4|       594|            Nintendo|     E|       5.0|(11,[5],[1.0])|            0.87|              0.084|\n",
            "|       Mario Kart DS|      DS|           2005|  Racing|            Nintendo|    9.71|    7.47|    4.13|        1.9|       23.21|          91|          64|       8.6|       464|            Nintendo|     E|       4.0|(11,[4],[1.0])|            0.91|              0.086|\n",
            "|             Wii Fit|     Wii|           2007|  Sports|            Nintendo|    8.92|    8.03|     3.6|       2.15|        22.7|          80|          63|       7.7|       146|            Nintendo|     E|       1.0|(11,[1],[1.0])|             0.8|              0.077|\n",
            "|  Kinect Adventures!|    X360|           2010|    Misc|Microsoft Game St...|    15.0|    4.89|    0.24|       1.69|       21.81|          61|          45|       6.3|       106| Good Science Studio|     E|       6.0|(11,[6],[1.0])|            0.61|              0.063|\n",
            "|        Wii Fit Plus|     Wii|           2009|  Sports|            Nintendo|    9.01|    8.49|    2.53|       1.77|       21.79|          80|          33|       7.4|        52|            Nintendo|     E|       1.0|(11,[1],[1.0])|             0.8|0.07400000000000001|\n",
            "|  Grand Theft Auto V|     PS3|           2013|  Action|Take-Two Interactive|    7.02|    9.09|    0.98|       3.96|       21.04|          97|          50|       8.2|      3994|      Rockstar North|     M|       0.0|(11,[0],[1.0])|            0.97|0.08199999999999999|\n",
            "|Grand Theft Auto:...|     PS2|           2004|  Action|Take-Two Interactive|    9.43|     0.4|    0.41|      10.57|       20.81|          95|          80|         9|      1588|      Rockstar North|     M|       0.0|(11,[0],[1.0])|            0.95|               0.09|\n",
            "|Brain Age: Train ...|      DS|           2005|    Misc|            Nintendo|    4.74|     9.2|    4.16|       2.04|       20.15|          77|          58|       7.9|        50|            Nintendo|     E|       6.0|(11,[6],[1.0])|            0.77|              0.079|\n",
            "|  Grand Theft Auto V|    X360|           2013|  Action|Take-Two Interactive|    9.66|    5.14|    0.06|       1.41|       16.27|          97|          58|       8.1|      3711|      Rockstar North|     M|       0.0|(11,[0],[1.0])|            0.97|              0.081|\n",
            "|Grand Theft Auto:...|     PS2|           2002|  Action|Take-Two Interactive|    8.41|    5.49|    0.47|       1.78|       16.15|          95|          62|       8.7|       730|      Rockstar North|     M|       0.0|(11,[0],[1.0])|            0.95|              0.087|\n",
            "|Brain Age 2: More...|      DS|           2005|  Puzzle|            Nintendo|    3.43|    5.35|    5.32|       1.18|       15.29|          77|          37|       7.1|        19|            Nintendo|     E|      11.0|    (11,[],[])|            0.77|              0.071|\n",
            "|Gran Turismo 3: A...|     PS2|           2001|  Racing|Sony Computer Ent...|    6.85|    5.09|    1.87|       1.16|       14.98|          95|          54|       8.4|       314|   Polyphony Digital|     E|       4.0|(11,[4],[1.0])|            0.95|              0.084|\n",
            "|Call of Duty: Mod...|    X360|           2011| Shooter|          Activision|    9.04|    4.24|    0.13|       1.32|       14.73|          88|          81|       3.4|      8713|Infinity Ward, Sl...|     M|       2.0|(11,[2],[1.0])|            0.88|              0.034|\n",
            "|Call of Duty: Bla...|    X360|           2010| Shooter|          Activision|     9.7|    3.68|    0.11|       1.13|       14.61|          87|          89|       6.3|      1454|            Treyarch|     M|       2.0|(11,[2],[1.0])|            0.87|              0.063|\n",
            "|Call of Duty: Bla...|     PS3|           2012| Shooter|          Activision|    4.99|    5.73|    0.65|       2.42|       13.79|          83|          21|       5.3|       922|            Treyarch|     M|       2.0|(11,[2],[1.0])|            0.83|              0.053|\n",
            "+--------------------+--------+---------------+--------+--------------------+--------+--------+--------+-----------+------------+------------+------------+----------+----------+--------------------+------+----------+--------------+----------------+-------------------+\n",
            "only showing top 20 rows\n",
            "\n"
          ],
          "name": "stdout"
        }
      ]
    },
    {
      "cell_type": "markdown",
      "metadata": {
        "id": "92XImZFDYXnf"
      },
      "source": [
        "Using the vector assembler, create a vector of features using the scaled user score, the scaled critic score and the one hot encoded vector."
      ]
    },
    {
      "cell_type": "code",
      "metadata": {
        "id": "KpA7hSQsX5hR",
        "colab": {
          "base_uri": "https://localhost:8080/"
        },
        "outputId": "45482c55-0bd9-4eeb-ba22-ed101c8a607a"
      },
      "source": [
        "from pyspark.ml.linalg import Vectors\n",
        "from pyspark.ml.feature import VectorAssembler\n",
        "\n",
        "feature_cols = [x for x in video_percent.columns if x in ['GenreVec', 'Critic_Score_100', 'User_Score_100']]\n",
        "print(feature_cols)\n",
        "assembler = VectorAssembler(\n",
        "    inputCols = feature_cols,\n",
        "    outputCol = 'features'\n",
        ")\n",
        "\n",
        "video_percent_ = assembler.transform(video_percent)"
      ],
      "execution_count": 106,
      "outputs": [
        {
          "output_type": "stream",
          "text": [
            "['GenreVec', 'Critic_Score_100', 'User_Score_100']\n"
          ],
          "name": "stdout"
        }
      ]
    },
    {
      "cell_type": "code",
      "metadata": {
        "colab": {
          "base_uri": "https://localhost:8080/"
        },
        "id": "RmKKJhWvMDea",
        "outputId": "2ffb1755-e774-46e6-8ee4-0375ae8fc369"
      },
      "source": [
        "video_percent_.show(10)"
      ],
      "execution_count": 28,
      "outputs": [
        {
          "output_type": "stream",
          "text": [
            "+--------------------+--------+---------------+--------+--------------------+--------+--------+--------+-----------+------------+------------+------------+----------+----------+-------------------+------+----------+--------------+----------------+-------------------+--------------------+\n",
            "|                Name|Platform|Year_of_Release|   Genre|           Publisher|NA_Sales|EU_Sales|JP_Sales|Other_Sales|Global_Sales|Critic_Score|Critic_Count|User_Score|User_Count|          Developer|Rating|GenreIndex|      GenreVec|Critic_Score_100|     User_Score_100|            features|\n",
            "+--------------------+--------+---------------+--------+--------------------+--------+--------+--------+-----------+------------+------------+------------+----------+----------+-------------------+------+----------+--------------+----------------+-------------------+--------------------+\n",
            "|          Wii Sports|     Wii|           2006|  Sports|            Nintendo|   41.36|   28.96|    3.77|       8.45|       82.53|          76|          51|         8|       322|           Nintendo|     E|       1.0|(11,[1],[1.0])|            0.76|               0.08|(13,[1,11,12],[1....|\n",
            "|      Mario Kart Wii|     Wii|           2008|  Racing|            Nintendo|   15.68|   12.76|    3.79|       3.29|       35.52|          82|          73|       8.3|       709|           Nintendo|     E|       4.0|(11,[4],[1.0])|            0.82|              0.083|(13,[4,11,12],[1....|\n",
            "|   Wii Sports Resort|     Wii|           2009|  Sports|            Nintendo|   15.61|   10.93|    3.28|       2.95|       32.77|          80|          73|         8|       192|           Nintendo|     E|       1.0|(11,[1],[1.0])|             0.8|               0.08|(13,[1,11,12],[1....|\n",
            "|New Super Mario B...|      DS|           2006|Platform|            Nintendo|   11.28|    9.14|     6.5|       2.88|        29.8|          89|          65|       8.5|       431|           Nintendo|     E|       5.0|(11,[5],[1.0])|            0.89|              0.085|(13,[5,11,12],[1....|\n",
            "|            Wii Play|     Wii|           2006|    Misc|            Nintendo|   13.96|    9.18|    2.93|       2.84|       28.92|          58|          41|       6.6|       129|           Nintendo|     E|       6.0|(11,[6],[1.0])|            0.58|              0.066|(13,[6,11,12],[1....|\n",
            "|New Super Mario B...|     Wii|           2009|Platform|            Nintendo|   14.44|    6.94|     4.7|       2.24|       28.32|          87|          80|       8.4|       594|           Nintendo|     E|       5.0|(11,[5],[1.0])|            0.87|              0.084|(13,[5,11,12],[1....|\n",
            "|       Mario Kart DS|      DS|           2005|  Racing|            Nintendo|    9.71|    7.47|    4.13|        1.9|       23.21|          91|          64|       8.6|       464|           Nintendo|     E|       4.0|(11,[4],[1.0])|            0.91|              0.086|(13,[4,11,12],[1....|\n",
            "|             Wii Fit|     Wii|           2007|  Sports|            Nintendo|    8.92|    8.03|     3.6|       2.15|        22.7|          80|          63|       7.7|       146|           Nintendo|     E|       1.0|(11,[1],[1.0])|             0.8|              0.077|(13,[1,11,12],[1....|\n",
            "|  Kinect Adventures!|    X360|           2010|    Misc|Microsoft Game St...|    15.0|    4.89|    0.24|       1.69|       21.81|          61|          45|       6.3|       106|Good Science Studio|     E|       6.0|(11,[6],[1.0])|            0.61|              0.063|(13,[6,11,12],[1....|\n",
            "|        Wii Fit Plus|     Wii|           2009|  Sports|            Nintendo|    9.01|    8.49|    2.53|       1.77|       21.79|          80|          33|       7.4|        52|           Nintendo|     E|       1.0|(11,[1],[1.0])|             0.8|0.07400000000000001|(13,[1,11,12],[1....|\n",
            "+--------------------+--------+---------------+--------+--------------------+--------+--------+--------+-----------+------------+------------+------------+----------+----------+-------------------+------+----------+--------------+----------------+-------------------+--------------------+\n",
            "only showing top 10 rows\n",
            "\n"
          ],
          "name": "stdout"
        }
      ]
    },
    {
      "cell_type": "markdown",
      "metadata": {
        "id": "cr5N6lMancOl"
      },
      "source": [
        "Split the data into 70% in the training sample and 30% in the test sample."
      ]
    },
    {
      "cell_type": "code",
      "metadata": {
        "id": "mK_SYe_kMLyP"
      },
      "source": [
        "sel = video_percent_.select(\"features\", \"Global_Sales\")"
      ],
      "execution_count": 32,
      "outputs": []
    },
    {
      "cell_type": "code",
      "metadata": {
        "id": "QZg3gX4rni8z"
      },
      "source": [
        "train, test = sel.randomSplit([0.7, 0.3], seed = 117)"
      ],
      "execution_count": 33,
      "outputs": []
    },
    {
      "cell_type": "markdown",
      "metadata": {
        "id": "tK2oIPrFVJ0u"
      },
      "source": [
        "## Linear Regression"
      ]
    },
    {
      "cell_type": "markdown",
      "metadata": {
        "id": "w_mbNCz6njMC"
      },
      "source": [
        "Using the train and test data, generate a linear regression to predict global sales. Print the r squared from the model summary."
      ]
    },
    {
      "cell_type": "code",
      "metadata": {
        "id": "MNRgTZIZm1uI"
      },
      "source": [
        "from pyspark.ml.regression import LinearRegression\n",
        "\n",
        "lr = LinearRegression(featuresCol='features', labelCol='Global_Sales')\n",
        "lrModel = lr.fit(train)"
      ],
      "execution_count": null,
      "outputs": []
    },
    {
      "cell_type": "code",
      "metadata": {
        "id": "CvVPEC5uSz-N"
      },
      "source": [
        ""
      ],
      "execution_count": null,
      "outputs": []
    },
    {
      "cell_type": "code",
      "metadata": {
        "colab": {
          "base_uri": "https://localhost:8080/"
        },
        "id": "hOQ-jRs7NFwp",
        "outputId": "0d37d905-58a0-4ca8-ed0e-4148351d0c29"
      },
      "source": [
        "print(f\"R^2 Test Score: {lrModel.summary.r2}\")"
      ],
      "execution_count": 35,
      "outputs": [
        {
          "output_type": "stream",
          "text": [
            "R^2 Test Score: 0.062260613874637105\n"
          ],
          "name": "stdout"
        }
      ]
    },
    {
      "cell_type": "markdown",
      "metadata": {
        "id": "C-z7sB1ljDZ7"
      },
      "source": [
        "Calculate the RMSE"
      ]
    },
    {
      "cell_type": "code",
      "metadata": {
        "colab": {
          "base_uri": "https://localhost:8080/"
        },
        "id": "u0g0ku2fP77I",
        "outputId": "80f3edc1-9395-4ab6-86bb-47e9a0a39e3b"
      },
      "source": [
        "print(f\"RMSE: {lrModel.summary.rootMeanSquaredError}\")"
      ],
      "execution_count": 45,
      "outputs": [
        {
          "output_type": "stream",
          "text": [
            "Accuracy: 1.988425243580145\n"
          ],
          "name": "stdout"
        }
      ]
    },
    {
      "cell_type": "markdown",
      "metadata": {
        "id": "A0QCZg_uP0CA"
      },
      "source": [
        "## Classification - Binomial Logistic Regression"
      ]
    },
    {
      "cell_type": "markdown",
      "metadata": {
        "id": "T86Pj9Frjyhf"
      },
      "source": [
        "Download and save the college admission  CSV file to your Colab Data folder on Google Drive. \n",
        "\n",
        "The file can be downloaded from link [here](https://tf-assets-prod.s3.amazonaws.com/tf-curric/data-science/Admission_Predict.csv), download it and save it to your Google Colab Data folder on gdrive."
      ]
    },
    {
      "cell_type": "markdown",
      "metadata": {
        "id": "TSyE1P5ikFdp"
      },
      "source": [
        "Load the admit CSV file in to the spark instance."
      ]
    },
    {
      "cell_type": "code",
      "metadata": {
        "id": "qhlRdBi3MYlr",
        "colab": {
          "base_uri": "https://localhost:8080/"
        },
        "outputId": "5f83f9ea-cebf-4872-95b2-4f204a07eca4"
      },
      "source": [
        "# Answer below:\n",
        "admit = spark.read.format(\"csv\").option(\"header\", \"true\").option(\"inferSchema\", \"true\").load(\"/content/gdrive/MyDrive/Thinkful/Datasets/Admission_Predict.csv\")\n",
        "admit.show()"
      ],
      "execution_count": 48,
      "outputs": [
        {
          "output_type": "stream",
          "text": [
            "+----------+---------+-----------+-----------------+---+----+----+--------+----------------+\n",
            "|Serial No.|GRE Score|TOEFL Score|University Rating|SOP|LOR |CGPA|Research|Chance of Admit |\n",
            "+----------+---------+-----------+-----------------+---+----+----+--------+----------------+\n",
            "|         1|      337|        118|                4|4.5| 4.5|9.65|       1|            0.92|\n",
            "|         2|      324|        107|                4|4.0| 4.5|8.87|       1|            0.76|\n",
            "|         3|      316|        104|                3|3.0| 3.5| 8.0|       1|            0.72|\n",
            "|         4|      322|        110|                3|3.5| 2.5|8.67|       1|             0.8|\n",
            "|         5|      314|        103|                2|2.0| 3.0|8.21|       0|            0.65|\n",
            "|         6|      330|        115|                5|4.5| 3.0|9.34|       1|             0.9|\n",
            "|         7|      321|        109|                3|3.0| 4.0| 8.2|       1|            0.75|\n",
            "|         8|      308|        101|                2|3.0| 4.0| 7.9|       0|            0.68|\n",
            "|         9|      302|        102|                1|2.0| 1.5| 8.0|       0|             0.5|\n",
            "|        10|      323|        108|                3|3.5| 3.0| 8.6|       0|            0.45|\n",
            "|        11|      325|        106|                3|3.5| 4.0| 8.4|       1|            0.52|\n",
            "|        12|      327|        111|                4|4.0| 4.5| 9.0|       1|            0.84|\n",
            "|        13|      328|        112|                4|4.0| 4.5| 9.1|       1|            0.78|\n",
            "|        14|      307|        109|                3|4.0| 3.0| 8.0|       1|            0.62|\n",
            "|        15|      311|        104|                3|3.5| 2.0| 8.2|       1|            0.61|\n",
            "|        16|      314|        105|                3|3.5| 2.5| 8.3|       0|            0.54|\n",
            "|        17|      317|        107|                3|4.0| 3.0| 8.7|       0|            0.66|\n",
            "|        18|      319|        106|                3|4.0| 3.0| 8.0|       1|            0.65|\n",
            "|        19|      318|        110|                3|4.0| 3.0| 8.8|       0|            0.63|\n",
            "|        20|      303|        102|                3|3.5| 3.0| 8.5|       0|            0.62|\n",
            "+----------+---------+-----------+-----------------+---+----+----+--------+----------------+\n",
            "only showing top 20 rows\n",
            "\n"
          ],
          "name": "stdout"
        }
      ]
    },
    {
      "cell_type": "code",
      "metadata": {
        "id": "IqZ4DhjMW6on",
        "colab": {
          "base_uri": "https://localhost:8080/"
        },
        "outputId": "00383d6e-0f74-4465-d3e1-d4aae55cf0f3"
      },
      "source": [
        "admit.printSchema()"
      ],
      "execution_count": 49,
      "outputs": [
        {
          "output_type": "stream",
          "text": [
            "root\n",
            " |-- Serial No.: integer (nullable = true)\n",
            " |-- GRE Score: integer (nullable = true)\n",
            " |-- TOEFL Score: integer (nullable = true)\n",
            " |-- University Rating: integer (nullable = true)\n",
            " |-- SOP: double (nullable = true)\n",
            " |-- LOR : double (nullable = true)\n",
            " |-- CGPA: double (nullable = true)\n",
            " |-- Research: integer (nullable = true)\n",
            " |-- Chance of Admit : double (nullable = true)\n",
            "\n"
          ],
          "name": "stdout"
        }
      ]
    },
    {
      "cell_type": "markdown",
      "metadata": {
        "id": "p5ZzjBv6Smf5"
      },
      "source": [
        "Create a categorical response from `Chance of Admit` column."
      ]
    },
    {
      "cell_type": "code",
      "metadata": {
        "id": "YU1-SgIHWS8b"
      },
      "source": [
        "from pyspark.ml.feature import Binarizer\n",
        "\n",
        "binarizer = Binarizer(threshold=0.5, inputCol='Chance of Admit ', outputCol='Chance of Admit_binarized')\n",
        "binarized_admit = binarizer.transform(admit)"
      ],
      "execution_count": 55,
      "outputs": []
    },
    {
      "cell_type": "code",
      "metadata": {
        "colab": {
          "base_uri": "https://localhost:8080/"
        },
        "id": "OMMROTh9RZsS",
        "outputId": "f05735d6-8959-43fd-86c2-0c33b384959f"
      },
      "source": [
        "binarized_admit.show(10)"
      ],
      "execution_count": 56,
      "outputs": [
        {
          "output_type": "stream",
          "text": [
            "+----------+---------+-----------+-----------------+---+----+----+--------+----------------+-------------------------+\n",
            "|Serial No.|GRE Score|TOEFL Score|University Rating|SOP|LOR |CGPA|Research|Chance of Admit |Chance of Admit_binarized|\n",
            "+----------+---------+-----------+-----------------+---+----+----+--------+----------------+-------------------------+\n",
            "|         1|      337|        118|                4|4.5| 4.5|9.65|       1|            0.92|                      1.0|\n",
            "|         2|      324|        107|                4|4.0| 4.5|8.87|       1|            0.76|                      1.0|\n",
            "|         3|      316|        104|                3|3.0| 3.5| 8.0|       1|            0.72|                      1.0|\n",
            "|         4|      322|        110|                3|3.5| 2.5|8.67|       1|             0.8|                      1.0|\n",
            "|         5|      314|        103|                2|2.0| 3.0|8.21|       0|            0.65|                      1.0|\n",
            "|         6|      330|        115|                5|4.5| 3.0|9.34|       1|             0.9|                      1.0|\n",
            "|         7|      321|        109|                3|3.0| 4.0| 8.2|       1|            0.75|                      1.0|\n",
            "|         8|      308|        101|                2|3.0| 4.0| 7.9|       0|            0.68|                      1.0|\n",
            "|         9|      302|        102|                1|2.0| 1.5| 8.0|       0|             0.5|                      0.0|\n",
            "|        10|      323|        108|                3|3.5| 3.0| 8.6|       0|            0.45|                      0.0|\n",
            "+----------+---------+-----------+-----------------+---+----+----+--------+----------------+-------------------------+\n",
            "only showing top 10 rows\n",
            "\n"
          ],
          "name": "stdout"
        }
      ]
    },
    {
      "cell_type": "markdown",
      "metadata": {
        "id": "G3NQ30HKbpqr"
      },
      "source": [
        "Divide GRE and TOEFL score columns by 100 to normalize the features."
      ]
    },
    {
      "cell_type": "code",
      "metadata": {
        "id": "VjcYYZ3oU7DY",
        "colab": {
          "base_uri": "https://localhost:8080/"
        },
        "outputId": "cd9a6e70-1fe6-4ebb-9f57-2d9bcac220ab"
      },
      "source": [
        "from pyspark.sql.functions import lit, col\n",
        "\n",
        "binarized_admit = binarized_admit.withColumn(\"GRE_100\", binarized_admit[\"GRE Score\"]/lit(100)).withColumn(\"TOEFL_100\", binarized_admit[\"TOEFL Score\"]/lit(100))\n",
        "binarized_admit.show(10)"
      ],
      "execution_count": 57,
      "outputs": [
        {
          "output_type": "stream",
          "text": [
            "+----------+---------+-----------+-----------------+---+----+----+--------+----------------+-------------------------+-------+---------+\n",
            "|Serial No.|GRE Score|TOEFL Score|University Rating|SOP|LOR |CGPA|Research|Chance of Admit |Chance of Admit_binarized|GRE_100|TOEFL_100|\n",
            "+----------+---------+-----------+-----------------+---+----+----+--------+----------------+-------------------------+-------+---------+\n",
            "|         1|      337|        118|                4|4.5| 4.5|9.65|       1|            0.92|                      1.0|   3.37|     1.18|\n",
            "|         2|      324|        107|                4|4.0| 4.5|8.87|       1|            0.76|                      1.0|   3.24|     1.07|\n",
            "|         3|      316|        104|                3|3.0| 3.5| 8.0|       1|            0.72|                      1.0|   3.16|     1.04|\n",
            "|         4|      322|        110|                3|3.5| 2.5|8.67|       1|             0.8|                      1.0|   3.22|      1.1|\n",
            "|         5|      314|        103|                2|2.0| 3.0|8.21|       0|            0.65|                      1.0|   3.14|     1.03|\n",
            "|         6|      330|        115|                5|4.5| 3.0|9.34|       1|             0.9|                      1.0|    3.3|     1.15|\n",
            "|         7|      321|        109|                3|3.0| 4.0| 8.2|       1|            0.75|                      1.0|   3.21|     1.09|\n",
            "|         8|      308|        101|                2|3.0| 4.0| 7.9|       0|            0.68|                      1.0|   3.08|     1.01|\n",
            "|         9|      302|        102|                1|2.0| 1.5| 8.0|       0|             0.5|                      0.0|   3.02|     1.02|\n",
            "|        10|      323|        108|                3|3.5| 3.0| 8.6|       0|            0.45|                      0.0|   3.23|     1.08|\n",
            "+----------+---------+-----------+-----------------+---+----+----+--------+----------------+-------------------------+-------+---------+\n",
            "only showing top 10 rows\n",
            "\n"
          ],
          "name": "stdout"
        }
      ]
    },
    {
      "cell_type": "markdown",
      "metadata": {
        "id": "e1cIz6BWc12n"
      },
      "source": [
        "Vectorize the features using the vector assembler, saving them into a column named features."
      ]
    },
    {
      "cell_type": "code",
      "metadata": {
        "id": "-4Ibl9MkcPs4",
        "colab": {
          "base_uri": "https://localhost:8080/"
        },
        "outputId": "3e13526e-2908-44c0-8935-3603d5342f79"
      },
      "source": [
        "from pyspark.ml.feature import VectorAssembler\r\n",
        "\r\n",
        "feature_cols = [x for x in binarized_admit.columns if x in ['GRE_100', 'TOEFL_100']]\r\n",
        "print(feature_cols)\r\n",
        "assembler = VectorAssembler(\r\n",
        "    inputCols = feature_cols,\r\n",
        "    outputCol = 'features'\r\n",
        ")\r\n",
        "\r\n",
        "admit_features = assembler.transform(binarized_admit)"
      ],
      "execution_count": 97,
      "outputs": [
        {
          "output_type": "stream",
          "text": [
            "['GRE_100', 'TOEFL_100']\n"
          ],
          "name": "stdout"
        }
      ]
    },
    {
      "cell_type": "code",
      "metadata": {
        "colab": {
          "base_uri": "https://localhost:8080/"
        },
        "id": "irxOAkEIX3Ab",
        "outputId": "dd32d4b9-d3ca-47ea-aba7-e7be4c822663"
      },
      "source": [
        "admit_features.show(10)"
      ],
      "execution_count": 98,
      "outputs": [
        {
          "output_type": "stream",
          "text": [
            "+----------+---------+-----------+-----------------+---+----+----+--------+----------------+-------------------------+-------+---------+-----------+\n",
            "|Serial No.|GRE Score|TOEFL Score|University Rating|SOP|LOR |CGPA|Research|Chance of Admit |Chance of Admit_binarized|GRE_100|TOEFL_100|   features|\n",
            "+----------+---------+-----------+-----------------+---+----+----+--------+----------------+-------------------------+-------+---------+-----------+\n",
            "|         1|      337|        118|                4|4.5| 4.5|9.65|       1|            0.92|                      1.0|   3.37|     1.18|[3.37,1.18]|\n",
            "|         2|      324|        107|                4|4.0| 4.5|8.87|       1|            0.76|                      1.0|   3.24|     1.07|[3.24,1.07]|\n",
            "|         3|      316|        104|                3|3.0| 3.5| 8.0|       1|            0.72|                      1.0|   3.16|     1.04|[3.16,1.04]|\n",
            "|         4|      322|        110|                3|3.5| 2.5|8.67|       1|             0.8|                      1.0|   3.22|      1.1| [3.22,1.1]|\n",
            "|         5|      314|        103|                2|2.0| 3.0|8.21|       0|            0.65|                      1.0|   3.14|     1.03|[3.14,1.03]|\n",
            "|         6|      330|        115|                5|4.5| 3.0|9.34|       1|             0.9|                      1.0|    3.3|     1.15| [3.3,1.15]|\n",
            "|         7|      321|        109|                3|3.0| 4.0| 8.2|       1|            0.75|                      1.0|   3.21|     1.09|[3.21,1.09]|\n",
            "|         8|      308|        101|                2|3.0| 4.0| 7.9|       0|            0.68|                      1.0|   3.08|     1.01|[3.08,1.01]|\n",
            "|         9|      302|        102|                1|2.0| 1.5| 8.0|       0|             0.5|                      0.0|   3.02|     1.02|[3.02,1.02]|\n",
            "|        10|      323|        108|                3|3.5| 3.0| 8.6|       0|            0.45|                      0.0|   3.23|     1.08|[3.23,1.08]|\n",
            "+----------+---------+-----------+-----------------+---+----+----+--------+----------------+-------------------------+-------+---------+-----------+\n",
            "only showing top 10 rows\n",
            "\n"
          ],
          "name": "stdout"
        }
      ]
    },
    {
      "cell_type": "markdown",
      "metadata": {
        "id": "SfkkSBzfk93I"
      },
      "source": [
        "Split into train and test subsets."
      ]
    },
    {
      "cell_type": "code",
      "metadata": {
        "id": "PrkM1eCtlBnx"
      },
      "source": [
        "train, test = admit_features.randomSplit([0.7, 0.3], seed=117)"
      ],
      "execution_count": 99,
      "outputs": []
    },
    {
      "cell_type": "markdown",
      "metadata": {
        "id": "-3KbBnp4lD1G"
      },
      "source": [
        "Define the Logistic regression model."
      ]
    },
    {
      "cell_type": "code",
      "metadata": {
        "id": "LncfrOdzdUbR"
      },
      "source": [
        "from pyspark.ml.classification import LogisticRegression\n",
        "logr = LogisticRegression(featuresCol = 'features', labelCol='Chance of Admit_binarized')"
      ],
      "execution_count": 100,
      "outputs": []
    },
    {
      "cell_type": "markdown",
      "metadata": {
        "id": "oOuEI6XBlLQR"
      },
      "source": [
        "Fit the model."
      ]
    },
    {
      "cell_type": "code",
      "metadata": {
        "id": "5Z4oo9o4eMX3"
      },
      "source": [
        "logrModel = logr.fit(train)"
      ],
      "execution_count": 101,
      "outputs": []
    },
    {
      "cell_type": "markdown",
      "metadata": {
        "id": "l-JLjNUmlN-E"
      },
      "source": [
        "predict in the test set."
      ]
    },
    {
      "cell_type": "code",
      "metadata": {
        "id": "irZa6ZrCesiG"
      },
      "source": [
        "predictions = logrModel.transform(test)"
      ],
      "execution_count": 102,
      "outputs": []
    },
    {
      "cell_type": "code",
      "metadata": {
        "colab": {
          "base_uri": "https://localhost:8080/"
        },
        "id": "s19iKQTtTD_L",
        "outputId": "d61bb9cb-74e4-465b-b833-ec6463b441af"
      },
      "source": [
        "predictions.show(5)"
      ],
      "execution_count": 103,
      "outputs": [
        {
          "output_type": "stream",
          "text": [
            "+----------+---------+-----------+-----------------+---+----+----+--------+----------------+-------------------------+-------+---------+-----------+--------------------+--------------------+----------+\n",
            "|Serial No.|GRE Score|TOEFL Score|University Rating|SOP|LOR |CGPA|Research|Chance of Admit |Chance of Admit_binarized|GRE_100|TOEFL_100|   features|       rawPrediction|         probability|prediction|\n",
            "+----------+---------+-----------+-----------------+---+----+----+--------+----------------+-------------------------+-------+---------+-----------+--------------------+--------------------+----------+\n",
            "|         2|      324|        107|                4|4.0| 4.5|8.87|       1|            0.76|                      1.0|   3.24|     1.07|[3.24,1.07]|[-5.0179114831498...|[0.00657482042606...|       1.0|\n",
            "|         4|      322|        110|                3|3.5| 2.5|8.67|       1|             0.8|                      1.0|   3.22|      1.1| [3.22,1.1]|[-5.8451849314367...|[0.00288544959608...|       1.0|\n",
            "|         8|      308|        101|                2|3.0| 4.0| 7.9|       0|            0.68|                      1.0|   3.08|     1.01|[3.08,1.01]|[-2.0479362512487...|[0.11426107776003...|       1.0|\n",
            "|        10|      323|        108|                3|3.5| 3.0| 8.6|       0|            0.45|                      0.0|   3.23|     1.08|[3.23,1.08]|[-5.2717454936566...|[0.00510841041468...|       1.0|\n",
            "|        20|      303|        102|                3|3.5| 3.0| 8.5|       0|            0.62|                      1.0|   3.03|     1.02|[3.03,1.02]|[-2.0386845946901...|[0.11520074284159...|       1.0|\n",
            "+----------+---------+-----------+-----------------+---+----+----+--------+----------------+-------------------------+-------+---------+-----------+--------------------+--------------------+----------+\n",
            "only showing top 5 rows\n",
            "\n"
          ],
          "name": "stdout"
        }
      ]
    },
    {
      "cell_type": "markdown",
      "metadata": {
        "id": "8swSBazulUqH"
      },
      "source": [
        "Plot the ROC."
      ]
    },
    {
      "cell_type": "code",
      "metadata": {
        "id": "e-xtF0dWey07",
        "colab": {
          "base_uri": "https://localhost:8080/",
          "height": 313
        },
        "outputId": "0b2c10c8-80a3-4890-ef88-d45272b3ecf7"
      },
      "source": [
        "import matplotlib.pyplot as plt\n",
        "\n",
        "trainingSummary = logrModel.summary\n",
        "roc = trainingSummary.roc.toPandas()\n",
        "plt.plot(roc['FPR'],roc['TPR'])\n",
        "plt.ylabel('False Positive Rate')\n",
        "plt.xlabel('True Positive Rate')\n",
        "plt.title('ROC Curve')\n",
        "plt.show()\n",
        "print('Training Set areaUnderROC: ' + str(trainingSummary.areaUnderROC))"
      ],
      "execution_count": 104,
      "outputs": [
        {
          "output_type": "display_data",
          "data": {
            "image/png": "[encoded data removed]",
            "text/plain": [
              "<Figure size 432x288 with 1 Axes>"
            ]
          },
          "metadata": {
            "tags": [],
            "needs_background": "light"
          }
        },
        {
          "output_type": "stream",
          "text": [
            "Training Set areaUnderROC: 0.9237918215613383\n"
          ],
          "name": "stdout"
        }
      ]
    },
    {
      "cell_type": "markdown",
      "metadata": {
        "id": "JvhfWKjTlX-N"
      },
      "source": [
        "Calculate the overall model accuracy using the model evaluator.\n"
      ]
    },
    {
      "cell_type": "code",
      "metadata": {
        "id": "LMTeVl6kfr_j",
        "colab": {
          "base_uri": "https://localhost:8080/"
        },
        "outputId": "177c4533-bacd-4477-a255-65ad7716a448"
      },
      "source": [
        "from pyspark.ml.evaluation import MulticlassClassificationEvaluator\n",
        "\n",
        "eval = MulticlassClassificationEvaluator(labelCol='Chance of Admit_binarized', predictionCol='prediction', metricName='accuracy')\n",
        "accuracy = eval.evaluate(predictions)\n",
        "print(\"Test Accuracy - %g\" % (accuracy))"
      ],
      "execution_count": 105,
      "outputs": [
        {
          "output_type": "stream",
          "text": [
            "Test Accuracy - 0.873874\n"
          ],
          "name": "stdout"
        }
      ]
    },
    {
      "cell_type": "markdown",
      "metadata": {
        "id": "xwbB3HbXgslz"
      },
      "source": [
        "## Classification - Random Forest"
      ]
    },
    {
      "cell_type": "markdown",
      "metadata": {
        "id": "WpKBELD3lkmX"
      },
      "source": [
        "Download and save the land cover type CSV file to your Colab Data folder on Google Drive. \n",
        "\n",
        "The file can be downloaded from link [here](https://tf-assets-prod.s3.amazonaws.com/tf-curric/data-science/Data%20Sets%20Big%20Data/covtype.csv), download it and save it to your Google Colab Data folder on gdrive."
      ]
    },
    {
      "cell_type": "markdown",
      "metadata": {
        "id": "EJNJBjuDCOCk"
      },
      "source": [
        "Load the land cover type data from this CSV file."
      ]
    },
    {
      "cell_type": "code",
      "metadata": {
        "id": "kkTAb55PgKt-",
        "colab": {
          "base_uri": "https://localhost:8080/"
        },
        "outputId": "2e8c7d3c-7261-4bd3-e3f7-96c5c40c6404"
      },
      "source": [
        "land = spark.read.format('csv').option('header', 'true').option('inferSchema', 'true').load('/content/gdrive/MyDrive/Thinkful/Datasets/covtype.csv')\r\n",
        "land.show()"
      ],
      "execution_count": 79,
      "outputs": [
        {
          "output_type": "stream",
          "text": [
            "+---------+------+-----+--------------------------------+------------------------------+-------------------------------+-------------+--------------+-------------+----------------------------------+----------------+----------------+----------------+----------------+----------+----------+----------+----------+----------+----------+----------+----------+----------+-----------+-----------+-----------+-----------+-----------+-----------+-----------+-----------+-----------+-----------+-----------+-----------+-----------+-----------+-----------+-----------+-----------+-----------+-----------+-----------+-----------+-----------+-----------+-----------+-----------+-----------+-----------+-----------+-----------+-----------+-----------+----------+\n",
            "|Elevation|Aspect|Slope|Horizontal_Distance_To_Hydrology|Vertical_Distance_To_Hydrology|Horizontal_Distance_To_Roadways|Hillshade_9am|Hillshade_Noon|Hillshade_3pm|Horizontal_Distance_To_Fire_Points|Wilderness_Area1|Wilderness_Area2|Wilderness_Area3|Wilderness_Area4|Soil_Type1|Soil_Type2|Soil_Type3|Soil_Type4|Soil_Type5|Soil_Type6|Soil_Type7|Soil_Type8|Soil_Type9|Soil_Type10|Soil_Type11|Soil_Type12|Soil_Type13|Soil_Type14|Soil_Type15|Soil_Type16|Soil_Type17|Soil_Type18|Soil_Type19|Soil_Type20|Soil_Type21|Soil_Type22|Soil_Type23|Soil_Type24|Soil_Type25|Soil_Type26|Soil_Type27|Soil_Type28|Soil_Type29|Soil_Type30|Soil_Type31|Soil_Type32|Soil_Type33|Soil_Type34|Soil_Type35|Soil_Type36|Soil_Type37|Soil_Type38|Soil_Type39|Soil_Type40|Cover_Type|\n",
            "+---------+------+-----+--------------------------------+------------------------------+-------------------------------+-------------+--------------+-------------+----------------------------------+----------------+----------------+----------------+----------------+----------+----------+----------+----------+----------+----------+----------+----------+----------+-----------+-----------+-----------+-----------+-----------+-----------+-----------+-----------+-----------+-----------+-----------+-----------+-----------+-----------+-----------+-----------+-----------+-----------+-----------+-----------+-----------+-----------+-----------+-----------+-----------+-----------+-----------+-----------+-----------+-----------+-----------+----------+\n",
            "|     2596|    51|    3|                             258|                             0|                            510|          221|           232|          148|                              6279|               1|               0|               0|               0|         0|         0|         0|         0|         0|         0|         0|         0|         0|          0|          0|          0|          0|          0|          0|          0|          0|          0|          0|          0|          0|          0|          0|          0|          0|          0|          0|          0|          1|          0|          0|          0|          0|          0|          0|          0|          0|          0|          0|          0|         5|\n",
            "|     2590|    56|    2|                             212|                            -6|                            390|          220|           235|          151|                              6225|               1|               0|               0|               0|         0|         0|         0|         0|         0|         0|         0|         0|         0|          0|          0|          0|          0|          0|          0|          0|          0|          0|          0|          0|          0|          0|          0|          0|          0|          0|          0|          0|          1|          0|          0|          0|          0|          0|          0|          0|          0|          0|          0|          0|         5|\n",
            "|     2804|   139|    9|                             268|                            65|                           3180|          234|           238|          135|                              6121|               1|               0|               0|               0|         0|         0|         0|         0|         0|         0|         0|         0|         0|          0|          0|          1|          0|          0|          0|          0|          0|          0|          0|          0|          0|          0|          0|          0|          0|          0|          0|          0|          0|          0|          0|          0|          0|          0|          0|          0|          0|          0|          0|          0|         2|\n",
            "|     2785|   155|   18|                             242|                           118|                           3090|          238|           238|          122|                              6211|               1|               0|               0|               0|         0|         0|         0|         0|         0|         0|         0|         0|         0|          0|          0|          0|          0|          0|          0|          0|          0|          0|          0|          0|          0|          0|          0|          0|          0|          0|          0|          0|          0|          1|          0|          0|          0|          0|          0|          0|          0|          0|          0|          0|         2|\n",
            "|     2595|    45|    2|                             153|                            -1|                            391|          220|           234|          150|                              6172|               1|               0|               0|               0|         0|         0|         0|         0|         0|         0|         0|         0|         0|          0|          0|          0|          0|          0|          0|          0|          0|          0|          0|          0|          0|          0|          0|          0|          0|          0|          0|          0|          1|          0|          0|          0|          0|          0|          0|          0|          0|          0|          0|          0|         5|\n",
            "|     2579|   132|    6|                             300|                           -15|                             67|          230|           237|          140|                              6031|               1|               0|               0|               0|         0|         0|         0|         0|         0|         0|         0|         0|         0|          0|          0|          0|          0|          0|          0|          0|          0|          0|          0|          0|          0|          0|          0|          0|          0|          0|          0|          0|          1|          0|          0|          0|          0|          0|          0|          0|          0|          0|          0|          0|         2|\n",
            "|     2606|    45|    7|                             270|                             5|                            633|          222|           225|          138|                              6256|               1|               0|               0|               0|         0|         0|         0|         0|         0|         0|         0|         0|         0|          0|          0|          0|          0|          0|          0|          0|          0|          0|          0|          0|          0|          0|          0|          0|          0|          0|          0|          0|          1|          0|          0|          0|          0|          0|          0|          0|          0|          0|          0|          0|         5|\n",
            "|     2605|    49|    4|                             234|                             7|                            573|          222|           230|          144|                              6228|               1|               0|               0|               0|         0|         0|         0|         0|         0|         0|         0|         0|         0|          0|          0|          0|          0|          0|          0|          0|          0|          0|          0|          0|          0|          0|          0|          0|          0|          0|          0|          0|          1|          0|          0|          0|          0|          0|          0|          0|          0|          0|          0|          0|         5|\n",
            "|     2617|    45|    9|                             240|                            56|                            666|          223|           221|          133|                              6244|               1|               0|               0|               0|         0|         0|         0|         0|         0|         0|         0|         0|         0|          0|          0|          0|          0|          0|          0|          0|          0|          0|          0|          0|          0|          0|          0|          0|          0|          0|          0|          0|          1|          0|          0|          0|          0|          0|          0|          0|          0|          0|          0|          0|         5|\n",
            "|     2612|    59|   10|                             247|                            11|                            636|          228|           219|          124|                              6230|               1|               0|               0|               0|         0|         0|         0|         0|         0|         0|         0|         0|         0|          0|          0|          0|          0|          0|          0|          0|          0|          0|          0|          0|          0|          0|          0|          0|          0|          0|          0|          0|          1|          0|          0|          0|          0|          0|          0|          0|          0|          0|          0|          0|         5|\n",
            "|     2612|   201|    4|                             180|                            51|                            735|          218|           243|          161|                              6222|               1|               0|               0|               0|         0|         0|         0|         0|         0|         0|         0|         0|         0|          0|          0|          0|          0|          0|          0|          0|          0|          1|          0|          0|          0|          0|          0|          0|          0|          0|          0|          0|          0|          0|          0|          0|          0|          0|          0|          0|          0|          0|          0|          0|         5|\n",
            "|     2886|   151|   11|                             371|                            26|                           5253|          234|           240|          136|                              4051|               1|               0|               0|               0|         0|         0|         0|         0|         0|         0|         0|         0|         0|          0|          0|          0|          0|          0|          0|          0|          0|          0|          0|          0|          0|          0|          0|          0|          0|          0|          0|          0|          0|          1|          0|          0|          0|          0|          0|          0|          0|          0|          0|          0|         2|\n",
            "|     2742|   134|   22|                             150|                            69|                           3215|          248|           224|           92|                              6091|               1|               0|               0|               0|         0|         0|         0|         0|         0|         0|         0|         0|         0|          0|          0|          0|          0|          0|          0|          0|          0|          0|          0|          0|          0|          0|          0|          0|          0|          0|          0|          0|          0|          1|          0|          0|          0|          0|          0|          0|          0|          0|          0|          0|         2|\n",
            "|     2609|   214|    7|                             150|                            46|                            771|          213|           247|          170|                              6211|               1|               0|               0|               0|         0|         0|         0|         0|         0|         0|         0|         0|         0|          0|          0|          0|          0|          0|          0|          0|          0|          1|          0|          0|          0|          0|          0|          0|          0|          0|          0|          0|          0|          0|          0|          0|          0|          0|          0|          0|          0|          0|          0|          0|         5|\n",
            "|     2503|   157|    4|                              67|                             4|                            674|          224|           240|          151|                              5600|               1|               0|               0|               0|         0|         0|         0|         0|         0|         0|         0|         0|         0|          0|          0|          0|          0|          0|          0|          0|          0|          1|          0|          0|          0|          0|          0|          0|          0|          0|          0|          0|          0|          0|          0|          0|          0|          0|          0|          0|          0|          0|          0|          0|         5|\n",
            "|     2495|    51|    7|                              42|                             2|                            752|          224|           225|          137|                              5576|               1|               0|               0|               0|         0|         0|         0|         0|         0|         0|         0|         0|         0|          0|          0|          0|          0|          0|          0|          1|          0|          0|          0|          0|          0|          0|          0|          0|          0|          0|          0|          0|          0|          0|          0|          0|          0|          0|          0|          0|          0|          0|          0|          0|         5|\n",
            "|     2610|   259|    1|                             120|                            -1|                            607|          216|           239|          161|                              6096|               1|               0|               0|               0|         0|         0|         0|         0|         0|         0|         0|         0|         0|          0|          0|          0|          0|          0|          0|          0|          0|          0|          0|          0|          0|          0|          0|          0|          0|          0|          0|          0|          1|          0|          0|          0|          0|          0|          0|          0|          0|          0|          0|          0|         5|\n",
            "|     2517|    72|    7|                              85|                             6|                            595|          228|           227|          133|                              5607|               1|               0|               0|               0|         0|         0|         0|         0|         0|         0|         0|         0|         0|          0|          0|          0|          0|          0|          0|          0|          0|          1|          0|          0|          0|          0|          0|          0|          0|          0|          0|          0|          0|          0|          0|          0|          0|          0|          0|          0|          0|          0|          0|          0|         5|\n",
            "|     2504|     0|    4|                              95|                             5|                            691|          214|           232|          156|                              5572|               1|               0|               0|               0|         0|         0|         0|         0|         0|         0|         0|         0|         0|          0|          0|          0|          0|          0|          0|          0|          0|          1|          0|          0|          0|          0|          0|          0|          0|          0|          0|          0|          0|          0|          0|          0|          0|          0|          0|          0|          0|          0|          0|          0|         5|\n",
            "|     2503|    38|    5|                              85|                            10|                            741|          220|           228|          144|                              5555|               1|               0|               0|               0|         0|         0|         0|         0|         0|         0|         0|         0|         0|          0|          0|          0|          0|          0|          0|          0|          0|          1|          0|          0|          0|          0|          0|          0|          0|          0|          0|          0|          0|          0|          0|          0|          0|          0|          0|          0|          0|          0|          0|          0|         5|\n",
            "+---------+------+-----+--------------------------------+------------------------------+-------------------------------+-------------+--------------+-------------+----------------------------------+----------------+----------------+----------------+----------------+----------+----------+----------+----------+----------+----------+----------+----------+----------+-----------+-----------+-----------+-----------+-----------+-----------+-----------+-----------+-----------+-----------+-----------+-----------+-----------+-----------+-----------+-----------+-----------+-----------+-----------+-----------+-----------+-----------+-----------+-----------+-----------+-----------+-----------+-----------+-----------+-----------+-----------+----------+\n",
            "only showing top 20 rows\n",
            "\n"
          ],
          "name": "stdout"
        }
      ]
    },
    {
      "cell_type": "code",
      "metadata": {
        "id": "EN6ppx1qFINC"
      },
      "source": [
        "#load modules\n",
        "# !!!!caution: not from pyspark.mllib.linalg import Vectors\n",
        "from pyspark.ml.linalg import Vectors\n",
        "from pyspark.ml import Pipeline\n",
        "from pyspark.ml.feature import IndexToString,StringIndexer, VectorIndexer\n",
        "from pyspark.ml.tuning import CrossValidator, ParamGridBuilder\n",
        "from pyspark.ml.evaluation import MulticlassClassificationEvaluator"
      ],
      "execution_count": 80,
      "outputs": []
    },
    {
      "cell_type": "markdown",
      "metadata": {
        "id": "_-IFywYblz5e"
      },
      "source": [
        "Vectorize the features to a single column called features using a lambda function."
      ]
    },
    {
      "cell_type": "code",
      "metadata": {
        "id": "lms6OFKEWEWV"
      },
      "source": [
        "feature_cols =  [x for x in land.columns if x not in 'Cover_Type']\r\n",
        "assembler = VectorAssembler(inputCols = feature_cols, outputCol='features')\r\n",
        "#func = (lambda row:(row['features'] = )\r\n",
        "land_features = assembler.transform(land)"
      ],
      "execution_count": 109,
      "outputs": []
    },
    {
      "cell_type": "code",
      "metadata": {
        "id": "UKvre3Xy-AL9"
      },
      "source": [
        "# Split the data into training and test sets (40% held out for testing)\n",
        "train, test = land_features.randomSplit([0.6, 0.4], seed=117)"
      ],
      "execution_count": 110,
      "outputs": []
    },
    {
      "cell_type": "code",
      "metadata": {
        "colab": {
          "base_uri": "https://localhost:8080/"
        },
        "id": "ulo9e1U8ZYNe",
        "outputId": "c77ffa4f-0c31-41dd-d0b7-e3d65aead47a"
      },
      "source": [
        "land_features.show(5)"
      ],
      "execution_count": 111,
      "outputs": [
        {
          "output_type": "stream",
          "text": [
            "+---------+------+-----+--------------------------------+------------------------------+-------------------------------+-------------+--------------+-------------+----------------------------------+----------------+----------------+----------------+----------------+----------+----------+----------+----------+----------+----------+----------+----------+----------+-----------+-----------+-----------+-----------+-----------+-----------+-----------+-----------+-----------+-----------+-----------+-----------+-----------+-----------+-----------+-----------+-----------+-----------+-----------+-----------+-----------+-----------+-----------+-----------+-----------+-----------+-----------+-----------+-----------+-----------+-----------+----------+--------------------+\n",
            "|Elevation|Aspect|Slope|Horizontal_Distance_To_Hydrology|Vertical_Distance_To_Hydrology|Horizontal_Distance_To_Roadways|Hillshade_9am|Hillshade_Noon|Hillshade_3pm|Horizontal_Distance_To_Fire_Points|Wilderness_Area1|Wilderness_Area2|Wilderness_Area3|Wilderness_Area4|Soil_Type1|Soil_Type2|Soil_Type3|Soil_Type4|Soil_Type5|Soil_Type6|Soil_Type7|Soil_Type8|Soil_Type9|Soil_Type10|Soil_Type11|Soil_Type12|Soil_Type13|Soil_Type14|Soil_Type15|Soil_Type16|Soil_Type17|Soil_Type18|Soil_Type19|Soil_Type20|Soil_Type21|Soil_Type22|Soil_Type23|Soil_Type24|Soil_Type25|Soil_Type26|Soil_Type27|Soil_Type28|Soil_Type29|Soil_Type30|Soil_Type31|Soil_Type32|Soil_Type33|Soil_Type34|Soil_Type35|Soil_Type36|Soil_Type37|Soil_Type38|Soil_Type39|Soil_Type40|Cover_Type|            features|\n",
            "+---------+------+-----+--------------------------------+------------------------------+-------------------------------+-------------+--------------+-------------+----------------------------------+----------------+----------------+----------------+----------------+----------+----------+----------+----------+----------+----------+----------+----------+----------+-----------+-----------+-----------+-----------+-----------+-----------+-----------+-----------+-----------+-----------+-----------+-----------+-----------+-----------+-----------+-----------+-----------+-----------+-----------+-----------+-----------+-----------+-----------+-----------+-----------+-----------+-----------+-----------+-----------+-----------+-----------+----------+--------------------+\n",
            "|     2596|    51|    3|                             258|                             0|                            510|          221|           232|          148|                              6279|               1|               0|               0|               0|         0|         0|         0|         0|         0|         0|         0|         0|         0|          0|          0|          0|          0|          0|          0|          0|          0|          0|          0|          0|          0|          0|          0|          0|          0|          0|          0|          0|          1|          0|          0|          0|          0|          0|          0|          0|          0|          0|          0|          0|         5|(54,[0,1,2,3,5,6,...|\n",
            "|     2590|    56|    2|                             212|                            -6|                            390|          220|           235|          151|                              6225|               1|               0|               0|               0|         0|         0|         0|         0|         0|         0|         0|         0|         0|          0|          0|          0|          0|          0|          0|          0|          0|          0|          0|          0|          0|          0|          0|          0|          0|          0|          0|          0|          1|          0|          0|          0|          0|          0|          0|          0|          0|          0|          0|          0|         5|(54,[0,1,2,3,4,5,...|\n",
            "|     2804|   139|    9|                             268|                            65|                           3180|          234|           238|          135|                              6121|               1|               0|               0|               0|         0|         0|         0|         0|         0|         0|         0|         0|         0|          0|          0|          1|          0|          0|          0|          0|          0|          0|          0|          0|          0|          0|          0|          0|          0|          0|          0|          0|          0|          0|          0|          0|          0|          0|          0|          0|          0|          0|          0|          0|         2|(54,[0,1,2,3,4,5,...|\n",
            "|     2785|   155|   18|                             242|                           118|                           3090|          238|           238|          122|                              6211|               1|               0|               0|               0|         0|         0|         0|         0|         0|         0|         0|         0|         0|          0|          0|          0|          0|          0|          0|          0|          0|          0|          0|          0|          0|          0|          0|          0|          0|          0|          0|          0|          0|          1|          0|          0|          0|          0|          0|          0|          0|          0|          0|          0|         2|(54,[0,1,2,3,4,5,...|\n",
            "|     2595|    45|    2|                             153|                            -1|                            391|          220|           234|          150|                              6172|               1|               0|               0|               0|         0|         0|         0|         0|         0|         0|         0|         0|         0|          0|          0|          0|          0|          0|          0|          0|          0|          0|          0|          0|          0|          0|          0|          0|          0|          0|          0|          0|          1|          0|          0|          0|          0|          0|          0|          0|          0|          0|          0|          0|         5|(54,[0,1,2,3,4,5,...|\n",
            "+---------+------+-----+--------------------------------+------------------------------+-------------------------------+-------------+--------------+-------------+----------------------------------+----------------+----------------+----------------+----------------+----------+----------+----------+----------+----------+----------+----------+----------+----------+-----------+-----------+-----------+-----------+-----------+-----------+-----------+-----------+-----------+-----------+-----------+-----------+-----------+-----------+-----------+-----------+-----------+-----------+-----------+-----------+-----------+-----------+-----------+-----------+-----------+-----------+-----------+-----------+-----------+-----------+-----------+----------+--------------------+\n",
            "only showing top 5 rows\n",
            "\n"
          ],
          "name": "stdout"
        }
      ]
    },
    {
      "cell_type": "code",
      "metadata": {
        "id": "k0Sx4U14-Lpg"
      },
      "source": [
        "from pyspark.ml.classification import RandomForestClassifier\n",
        "\n",
        "# Define a RandomForest model.\n",
        "rf = RandomForestClassifier(featuresCol = 'features', labelCol = 'Cover_Type')\n",
        "rfModel = rf.fit(train)"
      ],
      "execution_count": 113,
      "outputs": []
    },
    {
      "cell_type": "markdown",
      "metadata": {
        "id": "9at6mz78mK4v"
      },
      "source": [
        "Fit the model and predict on the test data."
      ]
    },
    {
      "cell_type": "code",
      "metadata": {
        "id": "8FhL9nJiIAXG",
        "colab": {
          "base_uri": "https://localhost:8080/"
        },
        "outputId": "42c514bd-2e0c-45ae-c3ae-9b6dac58c578"
      },
      "source": [
        "#Answer below:\n",
        "predictions = rfModel.transform(test)\n",
        "predictions.show(10)"
      ],
      "execution_count": 114,
      "outputs": [
        {
          "output_type": "stream",
          "text": [
            "+---------+------+-----+--------------------------------+------------------------------+-------------------------------+-------------+--------------+-------------+----------------------------------+----------------+----------------+----------------+----------------+----------+----------+----------+----------+----------+----------+----------+----------+----------+-----------+-----------+-----------+-----------+-----------+-----------+-----------+-----------+-----------+-----------+-----------+-----------+-----------+-----------+-----------+-----------+-----------+-----------+-----------+-----------+-----------+-----------+-----------+-----------+-----------+-----------+-----------+-----------+-----------+-----------+-----------+----------+--------------------+--------------------+--------------------+----------+\n",
            "|Elevation|Aspect|Slope|Horizontal_Distance_To_Hydrology|Vertical_Distance_To_Hydrology|Horizontal_Distance_To_Roadways|Hillshade_9am|Hillshade_Noon|Hillshade_3pm|Horizontal_Distance_To_Fire_Points|Wilderness_Area1|Wilderness_Area2|Wilderness_Area3|Wilderness_Area4|Soil_Type1|Soil_Type2|Soil_Type3|Soil_Type4|Soil_Type5|Soil_Type6|Soil_Type7|Soil_Type8|Soil_Type9|Soil_Type10|Soil_Type11|Soil_Type12|Soil_Type13|Soil_Type14|Soil_Type15|Soil_Type16|Soil_Type17|Soil_Type18|Soil_Type19|Soil_Type20|Soil_Type21|Soil_Type22|Soil_Type23|Soil_Type24|Soil_Type25|Soil_Type26|Soil_Type27|Soil_Type28|Soil_Type29|Soil_Type30|Soil_Type31|Soil_Type32|Soil_Type33|Soil_Type34|Soil_Type35|Soil_Type36|Soil_Type37|Soil_Type38|Soil_Type39|Soil_Type40|Cover_Type|            features|       rawPrediction|         probability|prediction|\n",
            "+---------+------+-----+--------------------------------+------------------------------+-------------------------------+-------------+--------------+-------------+----------------------------------+----------------+----------------+----------------+----------------+----------+----------+----------+----------+----------+----------+----------+----------+----------+-----------+-----------+-----------+-----------+-----------+-----------+-----------+-----------+-----------+-----------+-----------+-----------+-----------+-----------+-----------+-----------+-----------+-----------+-----------+-----------+-----------+-----------+-----------+-----------+-----------+-----------+-----------+-----------+-----------+-----------+-----------+----------+--------------------+--------------------+--------------------+----------+\n",
            "|     1860|    18|   13|                              95|                            15|                             90|          210|           213|          138|                               780|               0|               0|               0|               1|         0|         1|         0|         0|         0|         0|         0|         0|         0|          0|          0|          0|          0|          0|          0|          0|          0|          0|          0|          0|          0|          0|          0|          0|          0|          0|          0|          0|          0|          0|          0|          0|          0|          0|          0|          0|          0|          0|          0|          0|         3|(54,[0,1,2,3,4,5,...|[0.0,1.4454249923...|[0.0,0.0722712496...|       3.0|\n",
            "|     1863|    37|   17|                             120|                            18|                             90|          217|           202|          115|                               769|               0|               0|               0|               1|         0|         1|         0|         0|         0|         0|         0|         0|         0|          0|          0|          0|          0|          0|          0|          0|          0|          0|          0|          0|          0|          0|          0|          0|          0|          0|          0|          0|          0|          0|          0|          0|          0|          0|          0|          0|          0|          0|          0|          0|         6|(54,[0,1,2,3,4,5,...|[0.0,1.4454249923...|[0.0,0.0722712496...|       3.0|\n",
            "|     1871|    22|   22|                              60|                            12|                             85|          200|           187|          115|                               792|               0|               0|               0|               1|         0|         0|         0|         0|         1|         0|         0|         0|         0|          0|          0|          0|          0|          0|          0|          0|          0|          0|          0|          0|          0|          0|          0|          0|          0|          0|          0|          0|          0|          0|          0|          0|          0|          0|          0|          0|          0|          0|          0|          0|         6|(54,[0,1,2,3,4,5,...|[0.0,1.8185121517...|[0.0,0.0909256075...|       3.0|\n",
            "|     1871|    37|   19|                             120|                            29|                             90|          216|           195|          107|                               759|               0|               0|               0|               1|         0|         1|         0|         0|         0|         0|         0|         0|         0|          0|          0|          0|          0|          0|          0|          0|          0|          0|          0|          0|          0|          0|          0|          0|          0|          0|          0|          0|          0|          0|          0|          0|          0|          0|          0|          0|          0|          0|          0|          0|         6|(54,[0,1,2,3,4,5,...|[0.0,1.4454249923...|[0.0,0.0722712496...|       3.0|\n",
            "|     1876|    29|   19|                             124|                            34|                             90|          210|           195|          115|                               750|               0|               0|               0|               1|         0|         1|         0|         0|         0|         0|         0|         0|         0|          0|          0|          0|          0|          0|          0|          0|          0|          0|          0|          0|          0|          0|          0|          0|          0|          0|          0|          0|          0|          0|          0|          0|          0|          0|          0|          0|          0|          0|          0|          0|         6|(54,[0,1,2,3,4,5,...|[0.0,1.4454249923...|[0.0,0.0722712496...|       3.0|\n",
            "|     1877|    27|   24|                              90|                            18|                             95|          201|           179|          104|                               780|               0|               0|               0|               1|         0|         0|         0|         0|         1|         0|         0|         0|         0|          0|          0|          0|          0|          0|          0|          0|          0|          0|          0|          0|          0|          0|          0|          0|          0|          0|          0|          0|          0|          0|          0|          0|          0|          0|          0|          0|          0|          0|          0|          0|         6|(54,[0,1,2,3,4,5,...|[0.0,1.8185121517...|[0.0,0.0909256075...|       3.0|\n",
            "|     1879|    23|   18|                             108|                            28|                            134|          207|           200|          124|                               875|               0|               0|               0|               1|         0|         1|         0|         0|         0|         0|         0|         0|         0|          0|          0|          0|          0|          0|          0|          0|          0|          0|          0|          0|          0|          0|          0|          0|          0|          0|          0|          0|          0|          0|          0|          0|          0|          0|          0|          0|          0|          0|          0|          0|         3|(54,[0,1,2,3,4,5,...|[0.0,1.4454249923...|[0.0,0.0722712496...|       3.0|\n",
            "|     1880|    35|   21|                             150|                            32|                            150|          213|           190|          105|                               825|               0|               0|               0|               1|         0|         1|         0|         0|         0|         0|         0|         0|         0|          0|          0|          0|          0|          0|          0|          0|          0|          0|          0|          0|          0|          0|          0|          0|          0|          0|          0|          0|          0|          0|          0|          0|          0|          0|          0|          0|          0|          0|          0|          0|         3|(54,[0,1,2,3,4,5,...|[0.0,1.4454249923...|[0.0,0.0722712496...|       3.0|\n",
            "|     1882|    34|   21|                              85|                            28|                            108|          212|           189|          104|                               926|               0|               0|               0|               1|         0|         1|         0|         0|         0|         0|         0|         0|         0|          0|          0|          0|          0|          0|          0|          0|          0|          0|          0|          0|          0|          0|          0|          0|          0|          0|          0|          0|          0|          0|          0|          0|          0|          0|          0|          0|          0|          0|          0|          0|         3|(54,[0,1,2,3,4,5,...|[0.0,1.4454249923...|[0.0,0.0722712496...|       3.0|\n",
            "|     1882|   330|   18|                               0|                             0|                            120|          174|           215|          180|                               782|               0|               0|               0|               1|         0|         0|         0|         0|         1|         0|         0|         0|         0|          0|          0|          0|          0|          0|          0|          0|          0|          0|          0|          0|          0|          0|          0|          0|          0|          0|          0|          0|          0|          0|          0|          0|          0|          0|          0|          0|          0|          0|          0|          0|         6|(54,[0,1,2,5,6,7,...|[0.0,1.9889603402...|[0.0,0.0994480170...|       3.0|\n",
            "+---------+------+-----+--------------------------------+------------------------------+-------------------------------+-------------+--------------+-------------+----------------------------------+----------------+----------------+----------------+----------------+----------+----------+----------+----------+----------+----------+----------+----------+----------+-----------+-----------+-----------+-----------+-----------+-----------+-----------+-----------+-----------+-----------+-----------+-----------+-----------+-----------+-----------+-----------+-----------+-----------+-----------+-----------+-----------+-----------+-----------+-----------+-----------+-----------+-----------+-----------+-----------+-----------+-----------+----------+--------------------+--------------------+--------------------+----------+\n",
            "only showing top 10 rows\n",
            "\n"
          ],
          "name": "stdout"
        }
      ]
    },
    {
      "cell_type": "markdown",
      "metadata": {
        "id": "I6TyrGJsmULB"
      },
      "source": [
        "Build a classification matrix to review the model preformance with the data test set."
      ]
    },
    {
      "cell_type": "code",
      "metadata": {
        "id": "AlY4Fy4fbyRs"
      },
      "source": [
        "import pyspark.sql.functions as F\r\n",
        "from pyspark.sql.types import FloatType\r\n",
        "from pyspark.mllib.evaluation import MulticlassMetrics\r\n",
        "\r\n",
        "valAndPreds = predictions.select(['prediction', 'Cover_Type']).withColumn('label', F.col('Cover_Type').cast(FloatType())).orderBy('prediction')\r\n",
        "valAndPreds = valAndPreds.select(['prediction', 'label'])\r\n",
        "metrics = MulticlassMetrics(valAndPreds.rdd.map(tuple))"
      ],
      "execution_count": 142,
      "outputs": []
    },
    {
      "cell_type": "code",
      "metadata": {
        "colab": {
          "base_uri": "https://localhost:8080/"
        },
        "id": "gDIx-LZAcx-e",
        "outputId": "05de0c14-bb54-4d85-a5f9-5f88cc781a79"
      },
      "source": [
        "# without using sklearn.metrics (because it's easier)\r\n",
        "metrics.confusionMatrix().toArray()"
      ],
      "execution_count": 149,
      "outputs": [
        {
          "output_type": "execute_result",
          "data": {
            "text/plain": [
              "array([[6.1693e+04, 2.3151e+04, 0.0000e+00, 0.0000e+00, 0.0000e+00,\n",
              "        0.0000e+00, 0.0000e+00],\n",
              "       [2.6253e+04, 8.6038e+04, 9.6900e+02, 0.0000e+00, 0.0000e+00,\n",
              "        0.0000e+00, 0.0000e+00],\n",
              "       [0.0000e+00, 4.8230e+03, 9.4610e+03, 0.0000e+00, 0.0000e+00,\n",
              "        0.0000e+00, 0.0000e+00],\n",
              "       [0.0000e+00, 3.6000e+01, 1.0800e+03, 0.0000e+00, 0.0000e+00,\n",
              "        0.0000e+00, 0.0000e+00],\n",
              "       [0.0000e+00, 3.8400e+03, 0.0000e+00, 0.0000e+00, 0.0000e+00,\n",
              "        0.0000e+00, 0.0000e+00],\n",
              "       [0.0000e+00, 2.9840e+03, 3.9170e+03, 0.0000e+00, 0.0000e+00,\n",
              "        0.0000e+00, 0.0000e+00],\n",
              "       [8.1280e+03, 3.1000e+01, 0.0000e+00, 0.0000e+00, 0.0000e+00,\n",
              "        0.0000e+00, 0.0000e+00]])"
            ]
          },
          "metadata": {
            "tags": []
          },
          "execution_count": 149
        }
      ]
    },
    {
      "cell_type": "markdown",
      "metadata": {
        "id": "WYu3h2Q-dVnq"
      },
      "source": [
        "Too janky. I don't know what visual cleanup can be done but this is not good."
      ]
    },
    {
      "cell_type": "code",
      "metadata": {
        "colab": {
          "base_uri": "https://localhost:8080/"
        },
        "id": "EOD5Qf8ldMTZ",
        "outputId": "e3550e79-4938-49f9-a295-1ee82c35a321"
      },
      "source": [
        "valAndPreds.select('prediction')"
      ],
      "execution_count": 150,
      "outputs": [
        {
          "output_type": "execute_result",
          "data": {
            "text/plain": [
              "DataFrame[prediction: double]"
            ]
          },
          "metadata": {
            "tags": []
          },
          "execution_count": 150
        }
      ]
    },
    {
      "cell_type": "code",
      "metadata": {
        "id": "A3D-XbnTjTNT",
        "colab": {
          "base_uri": "https://localhost:8080/"
        },
        "outputId": "ef9a7286-b7e8-4a29-f71e-4e1e9114a8fc"
      },
      "source": [
        "from sklearn.metrics import confusion_matrix\n",
        "\n",
        "print(confusion_matrix(valAndPreds.select('label').collect(), valAndPreds.select('prediction').collect()))"
      ],
      "execution_count": 152,
      "outputs": [
        {
          "output_type": "stream",
          "text": [
            "[[61693 23151     0     0     0     0     0]\n",
            " [26253 86038   969     0     0     0     0]\n",
            " [    0  4823  9461     0     0     0     0]\n",
            " [    0    36  1080     0     0     0     0]\n",
            " [    0  3840     0     0     0     0     0]\n",
            " [    0  2984  3917     0     0     0     0]\n",
            " [ 8128    31     0     0     0     0     0]]\n"
          ],
          "name": "stdout"
        }
      ]
    },
    {
      "cell_type": "code",
      "metadata": {
        "id": "OF6evN8GdJkb"
      },
      "source": [
        ""
      ],
      "execution_count": null,
      "outputs": []
    }
  ]
}