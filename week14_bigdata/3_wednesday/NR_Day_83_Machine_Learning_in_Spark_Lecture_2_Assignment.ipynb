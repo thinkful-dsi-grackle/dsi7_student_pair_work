{
  "nbformat": 4,
  "nbformat_minor": 0,
  "metadata": {
    "colab": {
      "name": "NR Day_83_Machine_Learning_in_Spark_Lecture_2_Assignment",
      "provenance": [],
      "collapsed_sections": []
    },
    "kernelspec": {
      "name": "python3",
      "display_name": "Python 3"
    }
  },
  "cells": [
    {
      "cell_type": "markdown",
      "metadata": {
        "id": "Ry4VDk_llCLY"
      },
      "source": [
        "## Day 83 Lecture 2 Assignment\n",
        "\n",
        "In this assignment, we will learn about Spark and MLLib.\n",
        "\n",
        "\n"
      ]
    },
    {
      "cell_type": "markdown",
      "metadata": {
        "id": "dNByDud4iU40"
      },
      "source": [
        "Update the Google Compute Engine."
      ]
    },
    {
      "cell_type": "code",
      "metadata": {
        "id": "NIxqnOXGS1OX",
        "colab": {
          "base_uri": "https://localhost:8080/"
        },
        "outputId": "f78649a1-2166-48ea-de6c-e34569575ef1"
      },
      "source": [
        "! apt-get update"
      ],
      "execution_count": 1,
      "outputs": [
        {
          "output_type": "stream",
          "text": [
            "\r0% [Working]\r            \rIgn:1 https://developer.download.nvidia.com/compute/cuda/repos/ubuntu1804/x86_64  InRelease\n",
            "\r0% [Connecting to archive.ubuntu.com] [Connecting to security.ubuntu.com] [Conn\r                                                                               \rGet:2 https://cloud.r-project.org/bin/linux/ubuntu bionic-cran40/ InRelease [3,626 B]\n",
            "\r0% [Connecting to archive.ubuntu.com] [Connecting to security.ubuntu.com] [2 In\r                                                                               \rIgn:3 https://developer.download.nvidia.com/compute/machine-learning/repos/ubuntu1804/x86_64  InRelease\n",
            "\r0% [Connecting to archive.ubuntu.com] [Connecting to security.ubuntu.com] [2 In\r0% [Connecting to archive.ubuntu.com] [Connecting to security.ubuntu.com] [Conn\r0% [2 InRelease gpgv 3,626 B] [Connecting to archive.ubuntu.com] [Connecting to\r                                                                               \rHit:4 https://developer.download.nvidia.com/compute/cuda/repos/ubuntu1804/x86_64  Release\n",
            "\r0% [2 InRelease gpgv 3,626 B] [Connecting to archive.ubuntu.com] [Connecting to\r                                                                               \rGet:5 https://developer.download.nvidia.com/compute/machine-learning/repos/ubuntu1804/x86_64  Release [564 B]\n",
            "Get:6 https://developer.download.nvidia.com/compute/machine-learning/repos/ubuntu1804/x86_64  Release.gpg [833 B]\n",
            "Get:7 http://ppa.launchpad.net/c2d4u.team/c2d4u4.0+/ubuntu bionic InRelease [15.9 kB]\n",
            "Get:8 http://security.ubuntu.com/ubuntu bionic-security InRelease [88.7 kB]\n",
            "Get:9 https://cloud.r-project.org/bin/linux/ubuntu bionic-cran40/ Packages [43.6 kB]\n",
            "Hit:10 http://archive.ubuntu.com/ubuntu bionic InRelease\n",
            "Get:12 http://archive.ubuntu.com/ubuntu bionic-updates InRelease [88.7 kB]\n",
            "Get:13 https://developer.download.nvidia.com/compute/machine-learning/repos/ubuntu1804/x86_64  Packages [66.5 kB]\n",
            "Hit:14 http://ppa.launchpad.net/cran/libgit2/ubuntu bionic InRelease\n",
            "Get:15 http://ppa.launchpad.net/graphics-drivers/ppa/ubuntu bionic InRelease [21.3 kB]\n",
            "Get:16 http://archive.ubuntu.com/ubuntu bionic-backports InRelease [74.6 kB]\n",
            "Get:17 http://security.ubuntu.com/ubuntu bionic-security/restricted amd64 Packages [284 kB]\n",
            "Get:18 http://ppa.launchpad.net/c2d4u.team/c2d4u4.0+/ubuntu bionic/main Sources [1,714 kB]\n",
            "Get:19 http://security.ubuntu.com/ubuntu bionic-security/main amd64 Packages [1,889 kB]\n",
            "Get:20 http://archive.ubuntu.com/ubuntu bionic-updates/multiverse amd64 Packages [45.6 kB]\n",
            "Get:21 http://security.ubuntu.com/ubuntu bionic-security/universe amd64 Packages [1,379 kB]\n",
            "Get:22 http://archive.ubuntu.com/ubuntu bionic-updates/restricted amd64 Packages [309 kB]\n",
            "Get:23 http://archive.ubuntu.com/ubuntu bionic-updates/main amd64 Packages [2,309 kB]\n",
            "Get:24 http://ppa.launchpad.net/c2d4u.team/c2d4u4.0+/ubuntu bionic/main amd64 Packages [877 kB]\n",
            "Get:25 http://archive.ubuntu.com/ubuntu bionic-updates/universe amd64 Packages [2,146 kB]\n",
            "Get:26 http://ppa.launchpad.net/graphics-drivers/ppa/ubuntu bionic/main amd64 Packages [49.2 kB]\n",
            "Fetched 11.4 MB in 4s (2,957 kB/s)\n",
            "Reading package lists... Done\n"
          ],
          "name": "stdout"
        }
      ]
    },
    {
      "cell_type": "markdown",
      "metadata": {
        "id": "4XJYeAHeihaf"
      },
      "source": [
        "Run the cells below to start a spark session."
      ]
    },
    {
      "cell_type": "code",
      "metadata": {
        "id": "wen6A2I2RYVV"
      },
      "source": [
        "!apt-get install openjdk-8-jdk-headless -qq > /dev/null\n",
        "!wget -q https://archive.apache.org/dist/spark/spark-2.4.6/spark-2.4.6-bin-hadoop2.7.tgz\n",
        "!tar xf spark-2.4.6-bin-hadoop2.7.tgz"
      ],
      "execution_count": 3,
      "outputs": []
    },
    {
      "cell_type": "markdown",
      "metadata": {
        "id": "zm3pHHHxNmkW"
      },
      "source": [
        "Set up the environmental variables."
      ]
    },
    {
      "cell_type": "code",
      "metadata": {
        "id": "VW40H37fIb0t"
      },
      "source": [
        "import os\n",
        "os.environ[\"JAVA_HOME\"] = \"/usr/lib/jvm/java-8-openjdk-amd64\"\n",
        "os.environ[\"SPARK_HOME\"] = \"/content/spark-2.4.6-bin-hadoop2.7\""
      ],
      "execution_count": 4,
      "outputs": []
    },
    {
      "cell_type": "markdown",
      "metadata": {
        "id": "1vdAA2aoNqhz"
      },
      "source": [
        "Install Pyspark. ***Note: The version must match the version of Spark that you have installed earlier***."
      ]
    },
    {
      "cell_type": "code",
      "metadata": {
        "id": "274gUgKyIjnC",
        "colab": {
          "base_uri": "https://localhost:8080/"
        },
        "outputId": "88d6bf5d-a1c0-4d63-d36f-c1f7fea18a75"
      },
      "source": [
        "!pip install -q findspark\n",
        "!pip install pyspark==2.4.6"
      ],
      "execution_count": 5,
      "outputs": [
        {
          "output_type": "stream",
          "text": [
            "Collecting pyspark==2.4.6\n",
            "\u001b[?25l  Downloading https://files.pythonhosted.org/packages/e9/e4/5c15ab8d354c4e3528510821865e6748209a9b0ff6a1788f4cd36cc2a5dc/pyspark-2.4.6.tar.gz (218.4MB)\n",
            "\u001b[K     |████████████████████████████████| 218.4MB 62kB/s \n",
            "\u001b[?25hCollecting py4j==0.10.7\n",
            "\u001b[?25l  Downloading https://files.pythonhosted.org/packages/e3/53/c737818eb9a7dc32a7cd4f1396e787bd94200c3997c72c1dbe028587bd76/py4j-0.10.7-py2.py3-none-any.whl (197kB)\n",
            "\u001b[K     |████████████████████████████████| 204kB 45.8MB/s \n",
            "\u001b[?25hBuilding wheels for collected packages: pyspark\n",
            "  Building wheel for pyspark (setup.py) ... \u001b[?25l\u001b[?25hdone\n",
            "  Created wheel for pyspark: filename=pyspark-2.4.6-py2.py3-none-any.whl size=218814406 sha256=126be7c8eb62eb46cf0580fc7303457ede63d52888f686b60f25e208d95047ff\n",
            "  Stored in directory: /root/.cache/pip/wheels/1e/5e/6a/17e906c94ec7246f260330a66e44a06a0809033ba2738a74a8\n",
            "Successfully built pyspark\n",
            "Installing collected packages: py4j, pyspark\n",
            "Successfully installed py4j-0.10.7 pyspark-2.4.6\n"
          ],
          "name": "stdout"
        }
      ]
    },
    {
      "cell_type": "markdown",
      "metadata": {
        "id": "AtsLvt2JlI7X"
      },
      "source": [
        "Download and save the video games sales CSV file to your Colab Data folder on Google Drive. \n",
        "\n",
        "The file can be downloaded from link [here](https://tf-assets-prod.s3.amazonaws.com/tf-curric/data-science/Data%20Sets%20Big%20Data/Video_Games_Sales_as_at_22_Dec_2016.csv), download it and save it to your Google Colab Data folder on gdrive.\n"
      ]
    },
    {
      "cell_type": "markdown",
      "metadata": {
        "id": "M1TXjLAWN3Wd"
      },
      "source": [
        "Mount your Google drive for access in Google Colab Notebooks."
      ]
    },
    {
      "cell_type": "code",
      "metadata": {
        "id": "uFXDtsaOIsLI",
        "colab": {
          "base_uri": "https://localhost:8080/"
        },
        "outputId": "d4b03dfe-58ad-4974-fe91-163587d1d0ec"
      },
      "source": [
        "from google.colab import drive\n",
        "drive.mount('/content/gdrive')"
      ],
      "execution_count": 6,
      "outputs": [
        {
          "output_type": "stream",
          "text": [
            "Mounted at /content/gdrive\n"
          ],
          "name": "stdout"
        }
      ]
    },
    {
      "cell_type": "markdown",
      "metadata": {
        "id": "aIuuMcVvPH9l"
      },
      "source": [
        "Change your directory to the Colab Data folder where you saved the CSV file."
      ]
    },
    {
      "cell_type": "code",
      "metadata": {
        "id": "X8_ke5oAkBU6"
      },
      "source": [
        "os.chdir('/content/gdrive/My Drive/Colab Notebooks')"
      ],
      "execution_count": 7,
      "outputs": []
    },
    {
      "cell_type": "markdown",
      "metadata": {
        "id": "hcU6yqpgO_of"
      },
      "source": [
        "Set your local session."
      ]
    },
    {
      "cell_type": "code",
      "metadata": {
        "id": "BRiTkZyDebpj"
      },
      "source": [
        "APP_NAME = \"Day83\"\n",
        "SPARK_URL = \"local[*]\""
      ],
      "execution_count": 8,
      "outputs": []
    },
    {
      "cell_type": "markdown",
      "metadata": {
        "id": "Lkb7U6V5ioAP"
      },
      "source": [
        "Run the cells below to start a spark session."
      ]
    },
    {
      "cell_type": "code",
      "metadata": {
        "id": "flNZrdlNDuas"
      },
      "source": [
        "from pyspark.sql import SparkSession\n",
        "spark = SparkSession.builder.appName(APP_NAME).getOrCreate()"
      ],
      "execution_count": 9,
      "outputs": []
    },
    {
      "cell_type": "markdown",
      "metadata": {
        "id": "Ux-rFpwBimqD"
      },
      "source": [
        "List all the files in your directory."
      ]
    },
    {
      "cell_type": "code",
      "metadata": {
        "id": "HEln8x7hx7H-",
        "colab": {
          "base_uri": "https://localhost:8080/",
          "height": 35
        },
        "outputId": "5122bc7b-53b0-44da-ac39-c7cbfd8ca6d3"
      },
      "source": [
        "# Answer below:\n",
        "\n",
        "os.getcwd()"
      ],
      "execution_count": 10,
      "outputs": [
        {
          "output_type": "execute_result",
          "data": {
            "application/vnd.google.colaboratory.intrinsic+json": {
              "type": "string"
            },
            "text/plain": [
              "'/content/gdrive/My Drive/Colab Notebooks'"
            ]
          },
          "metadata": {
            "tags": []
          },
          "execution_count": 10
        }
      ]
    },
    {
      "cell_type": "markdown",
      "metadata": {
        "id": "yo2CIL4XPRzn"
      },
      "source": [
        "Load the CSV file as a Spark dataframe."
      ]
    },
    {
      "cell_type": "code",
      "metadata": {
        "id": "wvrsUPFKUgWJ"
      },
      "source": [
        "video = spark.read.format(\"csv\").option(\"header\", \"true\").option(\"inferSchema\", \"true\").load(\"Video_Games_Sales_as_at_22_Dec_2016.csv\")"
      ],
      "execution_count": 11,
      "outputs": []
    },
    {
      "cell_type": "markdown",
      "metadata": {
        "id": "j1OiHvakqnM1"
      },
      "source": [
        "Review the data by applying the show command."
      ]
    },
    {
      "cell_type": "code",
      "metadata": {
        "id": "0yzV32sgqidJ",
        "colab": {
          "base_uri": "https://localhost:8080/"
        },
        "outputId": "5e029610-887b-4963-eada-16deccfd3b58"
      },
      "source": [
        "# Answer below:\r\n",
        "\r\n",
        "video.show()"
      ],
      "execution_count": 13,
      "outputs": [
        {
          "output_type": "stream",
          "text": [
            "+--------------------+--------+---------------+------------+--------------------+--------+--------+--------+-----------+------------+------------+------------+----------+----------+-------------------+------+\n",
            "|                Name|Platform|Year_of_Release|       Genre|           Publisher|NA_Sales|EU_Sales|JP_Sales|Other_Sales|Global_Sales|Critic_Score|Critic_Count|User_Score|User_Count|          Developer|Rating|\n",
            "+--------------------+--------+---------------+------------+--------------------+--------+--------+--------+-----------+------------+------------+------------+----------+----------+-------------------+------+\n",
            "|          Wii Sports|     Wii|           2006|      Sports|            Nintendo|   41.36|   28.96|    3.77|       8.45|       82.53|          76|          51|         8|       322|           Nintendo|     E|\n",
            "|   Super Mario Bros.|     NES|           1985|    Platform|            Nintendo|   29.08|    3.58|    6.81|       0.77|       40.24|        null|        null|      null|      null|               null|  null|\n",
            "|      Mario Kart Wii|     Wii|           2008|      Racing|            Nintendo|   15.68|   12.76|    3.79|       3.29|       35.52|          82|          73|       8.3|       709|           Nintendo|     E|\n",
            "|   Wii Sports Resort|     Wii|           2009|      Sports|            Nintendo|   15.61|   10.93|    3.28|       2.95|       32.77|          80|          73|         8|       192|           Nintendo|     E|\n",
            "|Pokemon Red/Pokem...|      GB|           1996|Role-Playing|            Nintendo|   11.27|    8.89|   10.22|        1.0|       31.37|        null|        null|      null|      null|               null|  null|\n",
            "|              Tetris|      GB|           1989|      Puzzle|            Nintendo|    23.2|    2.26|    4.22|       0.58|       30.26|        null|        null|      null|      null|               null|  null|\n",
            "|New Super Mario B...|      DS|           2006|    Platform|            Nintendo|   11.28|    9.14|     6.5|       2.88|        29.8|          89|          65|       8.5|       431|           Nintendo|     E|\n",
            "|            Wii Play|     Wii|           2006|        Misc|            Nintendo|   13.96|    9.18|    2.93|       2.84|       28.92|          58|          41|       6.6|       129|           Nintendo|     E|\n",
            "|New Super Mario B...|     Wii|           2009|    Platform|            Nintendo|   14.44|    6.94|     4.7|       2.24|       28.32|          87|          80|       8.4|       594|           Nintendo|     E|\n",
            "|           Duck Hunt|     NES|           1984|     Shooter|            Nintendo|   26.93|    0.63|    0.28|       0.47|       28.31|        null|        null|      null|      null|               null|  null|\n",
            "|          Nintendogs|      DS|           2005|  Simulation|            Nintendo|    9.05|   10.95|    1.93|       2.74|       24.67|        null|        null|      null|      null|               null|  null|\n",
            "|       Mario Kart DS|      DS|           2005|      Racing|            Nintendo|    9.71|    7.47|    4.13|        1.9|       23.21|          91|          64|       8.6|       464|           Nintendo|     E|\n",
            "|Pokemon Gold/Poke...|      GB|           1999|Role-Playing|            Nintendo|     9.0|    6.18|     7.2|       0.71|        23.1|        null|        null|      null|      null|               null|  null|\n",
            "|             Wii Fit|     Wii|           2007|      Sports|            Nintendo|    8.92|    8.03|     3.6|       2.15|        22.7|          80|          63|       7.7|       146|           Nintendo|     E|\n",
            "|  Kinect Adventures!|    X360|           2010|        Misc|Microsoft Game St...|    15.0|    4.89|    0.24|       1.69|       21.81|          61|          45|       6.3|       106|Good Science Studio|     E|\n",
            "|        Wii Fit Plus|     Wii|           2009|      Sports|            Nintendo|    9.01|    8.49|    2.53|       1.77|       21.79|          80|          33|       7.4|        52|           Nintendo|     E|\n",
            "|  Grand Theft Auto V|     PS3|           2013|      Action|Take-Two Interactive|    7.02|    9.09|    0.98|       3.96|       21.04|          97|          50|       8.2|      3994|     Rockstar North|     M|\n",
            "|Grand Theft Auto:...|     PS2|           2004|      Action|Take-Two Interactive|    9.43|     0.4|    0.41|      10.57|       20.81|          95|          80|         9|      1588|     Rockstar North|     M|\n",
            "|   Super Mario World|    SNES|           1990|    Platform|            Nintendo|   12.78|    3.75|    3.54|       0.55|       20.61|        null|        null|      null|      null|               null|  null|\n",
            "|Brain Age: Train ...|      DS|           2005|        Misc|            Nintendo|    4.74|     9.2|    4.16|       2.04|       20.15|          77|          58|       7.9|        50|           Nintendo|     E|\n",
            "+--------------------+--------+---------------+------------+--------------------+--------+--------+--------+-----------+------------+------------+------------+----------+----------+-------------------+------+\n",
            "only showing top 20 rows\n",
            "\n"
          ],
          "name": "stdout"
        }
      ]
    },
    {
      "cell_type": "markdown",
      "metadata": {
        "id": "d9_58zZnQ4m8"
      },
      "source": [
        "We will predict global sales using a number of variables in this dataset. We will start by removing all missing data (though we know that this will make the dataset significantly smaller). Drop all the missing values using dropna."
      ]
    },
    {
      "cell_type": "code",
      "metadata": {
        "id": "dnKVtUnoKtS9"
      },
      "source": [
        "# Answer below:\n",
        "\n",
        "import pyspark.sql.functions as fn\n",
        "\n",
        "def count_missings(spark_df,sort=True):\n",
        "    \"\"\"\n",
        "    Counts number of nulls and nans in each column\n",
        "    \"\"\"\n",
        "    df = spark_df.select([fn.count(fn.when(fn.isnan(c) | fn.isnull(c), c)).alias(c) for (c,c_type) in spark_df.dtypes if c_type not in ()]).toPandas()\n",
        "\n",
        "    if len(df) == 0:\n",
        "        print(\"There are no any missing values!\")\n",
        "        return None\n",
        "\n",
        "    if sort:\n",
        "        return df.rename(index={0: 'count'}).T.sort_values(\"count\",ascending=False)\n",
        "\n",
        "    return df"
      ],
      "execution_count": 14,
      "outputs": []
    },
    {
      "cell_type": "code",
      "metadata": {
        "colab": {
          "base_uri": "https://localhost:8080/",
          "height": 545
        },
        "id": "uNjhkXfDOAsV",
        "outputId": "1d2e3aa3-2461-41aa-b841-a4042e38621a"
      },
      "source": [
        "\r\n",
        "count_missings(video)"
      ],
      "execution_count": 15,
      "outputs": [
        {
          "output_type": "execute_result",
          "data": {
            "text/html": [
              "<div>\n",
              "<style scoped>\n",
              "    .dataframe tbody tr th:only-of-type {\n",
              "        vertical-align: middle;\n",
              "    }\n",
              "\n",
              "    .dataframe tbody tr th {\n",
              "        vertical-align: top;\n",
              "    }\n",
              "\n",
              "    .dataframe thead th {\n",
              "        text-align: right;\n",
              "    }\n",
              "</style>\n",
              "<table border=\"1\" class=\"dataframe\">\n",
              "  <thead>\n",
              "    <tr style=\"text-align: right;\">\n",
              "      <th></th>\n",
              "      <th>count</th>\n",
              "    </tr>\n",
              "  </thead>\n",
              "  <tbody>\n",
              "    <tr>\n",
              "      <th>User_Count</th>\n",
              "      <td>9129</td>\n",
              "    </tr>\n",
              "    <tr>\n",
              "      <th>Critic_Score</th>\n",
              "      <td>8582</td>\n",
              "    </tr>\n",
              "    <tr>\n",
              "      <th>Critic_Count</th>\n",
              "      <td>8582</td>\n",
              "    </tr>\n",
              "    <tr>\n",
              "      <th>Rating</th>\n",
              "      <td>6769</td>\n",
              "    </tr>\n",
              "    <tr>\n",
              "      <th>User_Score</th>\n",
              "      <td>6704</td>\n",
              "    </tr>\n",
              "    <tr>\n",
              "      <th>Developer</th>\n",
              "      <td>6623</td>\n",
              "    </tr>\n",
              "    <tr>\n",
              "      <th>Name</th>\n",
              "      <td>2</td>\n",
              "    </tr>\n",
              "    <tr>\n",
              "      <th>Genre</th>\n",
              "      <td>2</td>\n",
              "    </tr>\n",
              "    <tr>\n",
              "      <th>Platform</th>\n",
              "      <td>0</td>\n",
              "    </tr>\n",
              "    <tr>\n",
              "      <th>Year_of_Release</th>\n",
              "      <td>0</td>\n",
              "    </tr>\n",
              "    <tr>\n",
              "      <th>Publisher</th>\n",
              "      <td>0</td>\n",
              "    </tr>\n",
              "    <tr>\n",
              "      <th>NA_Sales</th>\n",
              "      <td>0</td>\n",
              "    </tr>\n",
              "    <tr>\n",
              "      <th>EU_Sales</th>\n",
              "      <td>0</td>\n",
              "    </tr>\n",
              "    <tr>\n",
              "      <th>JP_Sales</th>\n",
              "      <td>0</td>\n",
              "    </tr>\n",
              "    <tr>\n",
              "      <th>Other_Sales</th>\n",
              "      <td>0</td>\n",
              "    </tr>\n",
              "    <tr>\n",
              "      <th>Global_Sales</th>\n",
              "      <td>0</td>\n",
              "    </tr>\n",
              "  </tbody>\n",
              "</table>\n",
              "</div>"
            ],
            "text/plain": [
              "                 count\n",
              "User_Count        9129\n",
              "Critic_Score      8582\n",
              "Critic_Count      8582\n",
              "Rating            6769\n",
              "User_Score        6704\n",
              "Developer         6623\n",
              "Name                 2\n",
              "Genre                2\n",
              "Platform             0\n",
              "Year_of_Release      0\n",
              "Publisher            0\n",
              "NA_Sales             0\n",
              "EU_Sales             0\n",
              "JP_Sales             0\n",
              "Other_Sales          0\n",
              "Global_Sales         0"
            ]
          },
          "metadata": {
            "tags": []
          },
          "execution_count": 15
        }
      ]
    },
    {
      "cell_type": "code",
      "metadata": {
        "colab": {
          "base_uri": "https://localhost:8080/",
          "height": 545
        },
        "id": "R88_N3isOWpk",
        "outputId": "88aa3466-3ee6-4b8b-c215-7be97d4c88ad"
      },
      "source": [
        "video_new = video.dropna()\r\n",
        "\r\n",
        "count_missings(video_new)"
      ],
      "execution_count": 17,
      "outputs": [
        {
          "output_type": "execute_result",
          "data": {
            "text/html": [
              "<div>\n",
              "<style scoped>\n",
              "    .dataframe tbody tr th:only-of-type {\n",
              "        vertical-align: middle;\n",
              "    }\n",
              "\n",
              "    .dataframe tbody tr th {\n",
              "        vertical-align: top;\n",
              "    }\n",
              "\n",
              "    .dataframe thead th {\n",
              "        text-align: right;\n",
              "    }\n",
              "</style>\n",
              "<table border=\"1\" class=\"dataframe\">\n",
              "  <thead>\n",
              "    <tr style=\"text-align: right;\">\n",
              "      <th></th>\n",
              "      <th>count</th>\n",
              "    </tr>\n",
              "  </thead>\n",
              "  <tbody>\n",
              "    <tr>\n",
              "      <th>Name</th>\n",
              "      <td>0</td>\n",
              "    </tr>\n",
              "    <tr>\n",
              "      <th>Platform</th>\n",
              "      <td>0</td>\n",
              "    </tr>\n",
              "    <tr>\n",
              "      <th>Year_of_Release</th>\n",
              "      <td>0</td>\n",
              "    </tr>\n",
              "    <tr>\n",
              "      <th>Genre</th>\n",
              "      <td>0</td>\n",
              "    </tr>\n",
              "    <tr>\n",
              "      <th>Publisher</th>\n",
              "      <td>0</td>\n",
              "    </tr>\n",
              "    <tr>\n",
              "      <th>NA_Sales</th>\n",
              "      <td>0</td>\n",
              "    </tr>\n",
              "    <tr>\n",
              "      <th>EU_Sales</th>\n",
              "      <td>0</td>\n",
              "    </tr>\n",
              "    <tr>\n",
              "      <th>JP_Sales</th>\n",
              "      <td>0</td>\n",
              "    </tr>\n",
              "    <tr>\n",
              "      <th>Other_Sales</th>\n",
              "      <td>0</td>\n",
              "    </tr>\n",
              "    <tr>\n",
              "      <th>Global_Sales</th>\n",
              "      <td>0</td>\n",
              "    </tr>\n",
              "    <tr>\n",
              "      <th>Critic_Score</th>\n",
              "      <td>0</td>\n",
              "    </tr>\n",
              "    <tr>\n",
              "      <th>Critic_Count</th>\n",
              "      <td>0</td>\n",
              "    </tr>\n",
              "    <tr>\n",
              "      <th>User_Score</th>\n",
              "      <td>0</td>\n",
              "    </tr>\n",
              "    <tr>\n",
              "      <th>User_Count</th>\n",
              "      <td>0</td>\n",
              "    </tr>\n",
              "    <tr>\n",
              "      <th>Developer</th>\n",
              "      <td>0</td>\n",
              "    </tr>\n",
              "    <tr>\n",
              "      <th>Rating</th>\n",
              "      <td>0</td>\n",
              "    </tr>\n",
              "  </tbody>\n",
              "</table>\n",
              "</div>"
            ],
            "text/plain": [
              "                 count\n",
              "Name                 0\n",
              "Platform             0\n",
              "Year_of_Release      0\n",
              "Genre                0\n",
              "Publisher            0\n",
              "NA_Sales             0\n",
              "EU_Sales             0\n",
              "JP_Sales             0\n",
              "Other_Sales          0\n",
              "Global_Sales         0\n",
              "Critic_Score         0\n",
              "Critic_Count         0\n",
              "User_Score           0\n",
              "User_Count           0\n",
              "Developer            0\n",
              "Rating               0"
            ]
          },
          "metadata": {
            "tags": []
          },
          "execution_count": 17
        }
      ]
    },
    {
      "cell_type": "markdown",
      "metadata": {
        "id": "_CgzqoLDw5aU"
      },
      "source": [
        "Get the unique values for Genre.\n"
      ]
    },
    {
      "cell_type": "code",
      "metadata": {
        "id": "1bhnicFVw8uN",
        "colab": {
          "base_uri": "https://localhost:8080/"
        },
        "outputId": "8390a49c-82dd-4666-c51a-9ec6c2bef532"
      },
      "source": [
        "distinct_g = [x.Genre for x in video_new.select('Genre').distinct().collect()]\n",
        "len(distinct_g)"
      ],
      "execution_count": 18,
      "outputs": [
        {
          "output_type": "execute_result",
          "data": {
            "text/plain": [
              "12"
            ]
          },
          "metadata": {
            "tags": []
          },
          "execution_count": 18
        }
      ]
    },
    {
      "cell_type": "markdown",
      "metadata": {
        "id": "X06gNwR0V2Q3"
      },
      "source": [
        "Next, we will create dummy variables for the genre. Create these variables using the `OneHotEncoder` provided in spark."
      ]
    },
    {
      "cell_type": "code",
      "metadata": {
        "id": "CpRz8gMHV1jS"
      },
      "source": [
        "# Answer below:\n",
        "\n",
        "\n",
        "from pyspark.ml.feature import OneHotEncoder, StringIndexer\n",
        "\n",
        "stringIndexer = StringIndexer(inputCol=\"Genre\", outputCol=\"GenreIndex\")\n",
        "model = stringIndexer.fit(video_new)\n",
        "indexed = model.transform(video_new)\n",
        "encoder = OneHotEncoder( inputCol=\"GenreIndex\", outputCol=\"GenreVec\")\n",
        "encoded = encoder.transform(indexed)\n"
      ],
      "execution_count": 20,
      "outputs": []
    },
    {
      "cell_type": "code",
      "metadata": {
        "id": "4_5HOoEsWt96",
        "colab": {
          "base_uri": "https://localhost:8080/"
        },
        "outputId": "9ca34e4d-df0a-4132-ff2b-308ef450d11b"
      },
      "source": [
        "encoded.show()"
      ],
      "execution_count": 21,
      "outputs": [
        {
          "output_type": "stream",
          "text": [
            "+--------------------+--------+---------------+--------+--------------------+--------+--------+--------+-----------+------------+------------+------------+----------+----------+--------------------+------+----------+--------------+\n",
            "|                Name|Platform|Year_of_Release|   Genre|           Publisher|NA_Sales|EU_Sales|JP_Sales|Other_Sales|Global_Sales|Critic_Score|Critic_Count|User_Score|User_Count|           Developer|Rating|GenreIndex|      GenreVec|\n",
            "+--------------------+--------+---------------+--------+--------------------+--------+--------+--------+-----------+------------+------------+------------+----------+----------+--------------------+------+----------+--------------+\n",
            "|          Wii Sports|     Wii|           2006|  Sports|            Nintendo|   41.36|   28.96|    3.77|       8.45|       82.53|          76|          51|         8|       322|            Nintendo|     E|       1.0|(11,[1],[1.0])|\n",
            "|      Mario Kart Wii|     Wii|           2008|  Racing|            Nintendo|   15.68|   12.76|    3.79|       3.29|       35.52|          82|          73|       8.3|       709|            Nintendo|     E|       4.0|(11,[4],[1.0])|\n",
            "|   Wii Sports Resort|     Wii|           2009|  Sports|            Nintendo|   15.61|   10.93|    3.28|       2.95|       32.77|          80|          73|         8|       192|            Nintendo|     E|       1.0|(11,[1],[1.0])|\n",
            "|New Super Mario B...|      DS|           2006|Platform|            Nintendo|   11.28|    9.14|     6.5|       2.88|        29.8|          89|          65|       8.5|       431|            Nintendo|     E|       5.0|(11,[5],[1.0])|\n",
            "|            Wii Play|     Wii|           2006|    Misc|            Nintendo|   13.96|    9.18|    2.93|       2.84|       28.92|          58|          41|       6.6|       129|            Nintendo|     E|       6.0|(11,[6],[1.0])|\n",
            "|New Super Mario B...|     Wii|           2009|Platform|            Nintendo|   14.44|    6.94|     4.7|       2.24|       28.32|          87|          80|       8.4|       594|            Nintendo|     E|       5.0|(11,[5],[1.0])|\n",
            "|       Mario Kart DS|      DS|           2005|  Racing|            Nintendo|    9.71|    7.47|    4.13|        1.9|       23.21|          91|          64|       8.6|       464|            Nintendo|     E|       4.0|(11,[4],[1.0])|\n",
            "|             Wii Fit|     Wii|           2007|  Sports|            Nintendo|    8.92|    8.03|     3.6|       2.15|        22.7|          80|          63|       7.7|       146|            Nintendo|     E|       1.0|(11,[1],[1.0])|\n",
            "|  Kinect Adventures!|    X360|           2010|    Misc|Microsoft Game St...|    15.0|    4.89|    0.24|       1.69|       21.81|          61|          45|       6.3|       106| Good Science Studio|     E|       6.0|(11,[6],[1.0])|\n",
            "|        Wii Fit Plus|     Wii|           2009|  Sports|            Nintendo|    9.01|    8.49|    2.53|       1.77|       21.79|          80|          33|       7.4|        52|            Nintendo|     E|       1.0|(11,[1],[1.0])|\n",
            "|  Grand Theft Auto V|     PS3|           2013|  Action|Take-Two Interactive|    7.02|    9.09|    0.98|       3.96|       21.04|          97|          50|       8.2|      3994|      Rockstar North|     M|       0.0|(11,[0],[1.0])|\n",
            "|Grand Theft Auto:...|     PS2|           2004|  Action|Take-Two Interactive|    9.43|     0.4|    0.41|      10.57|       20.81|          95|          80|         9|      1588|      Rockstar North|     M|       0.0|(11,[0],[1.0])|\n",
            "|Brain Age: Train ...|      DS|           2005|    Misc|            Nintendo|    4.74|     9.2|    4.16|       2.04|       20.15|          77|          58|       7.9|        50|            Nintendo|     E|       6.0|(11,[6],[1.0])|\n",
            "|  Grand Theft Auto V|    X360|           2013|  Action|Take-Two Interactive|    9.66|    5.14|    0.06|       1.41|       16.27|          97|          58|       8.1|      3711|      Rockstar North|     M|       0.0|(11,[0],[1.0])|\n",
            "|Grand Theft Auto:...|     PS2|           2002|  Action|Take-Two Interactive|    8.41|    5.49|    0.47|       1.78|       16.15|          95|          62|       8.7|       730|      Rockstar North|     M|       0.0|(11,[0],[1.0])|\n",
            "|Brain Age 2: More...|      DS|           2005|  Puzzle|            Nintendo|    3.43|    5.35|    5.32|       1.18|       15.29|          77|          37|       7.1|        19|            Nintendo|     E|      11.0|    (11,[],[])|\n",
            "|Gran Turismo 3: A...|     PS2|           2001|  Racing|Sony Computer Ent...|    6.85|    5.09|    1.87|       1.16|       14.98|          95|          54|       8.4|       314|   Polyphony Digital|     E|       4.0|(11,[4],[1.0])|\n",
            "|Call of Duty: Mod...|    X360|           2011| Shooter|          Activision|    9.04|    4.24|    0.13|       1.32|       14.73|          88|          81|       3.4|      8713|Infinity Ward, Sl...|     M|       2.0|(11,[2],[1.0])|\n",
            "|Call of Duty: Bla...|    X360|           2010| Shooter|          Activision|     9.7|    3.68|    0.11|       1.13|       14.61|          87|          89|       6.3|      1454|            Treyarch|     M|       2.0|(11,[2],[1.0])|\n",
            "|Call of Duty: Bla...|     PS3|           2012| Shooter|          Activision|    4.99|    5.73|    0.65|       2.42|       13.79|          83|          21|       5.3|       922|            Treyarch|     M|       2.0|(11,[2],[1.0])|\n",
            "+--------------------+--------+---------------+--------+--------------------+--------+--------+--------+-----------+------------+------------+------------+----------+----------+--------------------+------+----------+--------------+\n",
            "only showing top 20 rows\n",
            "\n"
          ],
          "name": "stdout"
        }
      ]
    },
    {
      "cell_type": "markdown",
      "metadata": {
        "id": "MiQXmq_fXntw"
      },
      "source": [
        "Convert the critic score and the user score to a number between 0 and 1 by dividing by 100. "
      ]
    },
    {
      "cell_type": "code",
      "metadata": {
        "id": "-VgfllC7XPKP",
        "colab": {
          "base_uri": "https://localhost:8080/"
        },
        "outputId": "fc80444c-bc11-44c9-b78a-1d6f6432384d"
      },
      "source": [
        "# Answer below:\n",
        "\n",
        "from pyspark.sql.functions import lit, col\n",
        "\n",
        "critic_scaled = encoded.withColumn(\"Critic_Score_Scaled\", encoded['Critic_Score']/lit(100))\n",
        "\n",
        "video_percent = critic_scaled.withColumn(\"User_Score_Scaled\", encoded['User_Score']/lit(100))\n",
        "video_percent.show()"
      ],
      "execution_count": 22,
      "outputs": [
        {
          "output_type": "stream",
          "text": [
            "+--------------------+--------+---------------+--------+--------------------+--------+--------+--------+-----------+------------+------------+------------+----------+----------+--------------------+------+----------+--------------+-------------------+-------------------+\n",
            "|                Name|Platform|Year_of_Release|   Genre|           Publisher|NA_Sales|EU_Sales|JP_Sales|Other_Sales|Global_Sales|Critic_Score|Critic_Count|User_Score|User_Count|           Developer|Rating|GenreIndex|      GenreVec|Critic_Score_Scaled|  User_Score_Scaled|\n",
            "+--------------------+--------+---------------+--------+--------------------+--------+--------+--------+-----------+------------+------------+------------+----------+----------+--------------------+------+----------+--------------+-------------------+-------------------+\n",
            "|          Wii Sports|     Wii|           2006|  Sports|            Nintendo|   41.36|   28.96|    3.77|       8.45|       82.53|          76|          51|         8|       322|            Nintendo|     E|       1.0|(11,[1],[1.0])|               0.76|               0.08|\n",
            "|      Mario Kart Wii|     Wii|           2008|  Racing|            Nintendo|   15.68|   12.76|    3.79|       3.29|       35.52|          82|          73|       8.3|       709|            Nintendo|     E|       4.0|(11,[4],[1.0])|               0.82|              0.083|\n",
            "|   Wii Sports Resort|     Wii|           2009|  Sports|            Nintendo|   15.61|   10.93|    3.28|       2.95|       32.77|          80|          73|         8|       192|            Nintendo|     E|       1.0|(11,[1],[1.0])|                0.8|               0.08|\n",
            "|New Super Mario B...|      DS|           2006|Platform|            Nintendo|   11.28|    9.14|     6.5|       2.88|        29.8|          89|          65|       8.5|       431|            Nintendo|     E|       5.0|(11,[5],[1.0])|               0.89|              0.085|\n",
            "|            Wii Play|     Wii|           2006|    Misc|            Nintendo|   13.96|    9.18|    2.93|       2.84|       28.92|          58|          41|       6.6|       129|            Nintendo|     E|       6.0|(11,[6],[1.0])|               0.58|              0.066|\n",
            "|New Super Mario B...|     Wii|           2009|Platform|            Nintendo|   14.44|    6.94|     4.7|       2.24|       28.32|          87|          80|       8.4|       594|            Nintendo|     E|       5.0|(11,[5],[1.0])|               0.87|              0.084|\n",
            "|       Mario Kart DS|      DS|           2005|  Racing|            Nintendo|    9.71|    7.47|    4.13|        1.9|       23.21|          91|          64|       8.6|       464|            Nintendo|     E|       4.0|(11,[4],[1.0])|               0.91|              0.086|\n",
            "|             Wii Fit|     Wii|           2007|  Sports|            Nintendo|    8.92|    8.03|     3.6|       2.15|        22.7|          80|          63|       7.7|       146|            Nintendo|     E|       1.0|(11,[1],[1.0])|                0.8|              0.077|\n",
            "|  Kinect Adventures!|    X360|           2010|    Misc|Microsoft Game St...|    15.0|    4.89|    0.24|       1.69|       21.81|          61|          45|       6.3|       106| Good Science Studio|     E|       6.0|(11,[6],[1.0])|               0.61|              0.063|\n",
            "|        Wii Fit Plus|     Wii|           2009|  Sports|            Nintendo|    9.01|    8.49|    2.53|       1.77|       21.79|          80|          33|       7.4|        52|            Nintendo|     E|       1.0|(11,[1],[1.0])|                0.8|0.07400000000000001|\n",
            "|  Grand Theft Auto V|     PS3|           2013|  Action|Take-Two Interactive|    7.02|    9.09|    0.98|       3.96|       21.04|          97|          50|       8.2|      3994|      Rockstar North|     M|       0.0|(11,[0],[1.0])|               0.97|0.08199999999999999|\n",
            "|Grand Theft Auto:...|     PS2|           2004|  Action|Take-Two Interactive|    9.43|     0.4|    0.41|      10.57|       20.81|          95|          80|         9|      1588|      Rockstar North|     M|       0.0|(11,[0],[1.0])|               0.95|               0.09|\n",
            "|Brain Age: Train ...|      DS|           2005|    Misc|            Nintendo|    4.74|     9.2|    4.16|       2.04|       20.15|          77|          58|       7.9|        50|            Nintendo|     E|       6.0|(11,[6],[1.0])|               0.77|              0.079|\n",
            "|  Grand Theft Auto V|    X360|           2013|  Action|Take-Two Interactive|    9.66|    5.14|    0.06|       1.41|       16.27|          97|          58|       8.1|      3711|      Rockstar North|     M|       0.0|(11,[0],[1.0])|               0.97|              0.081|\n",
            "|Grand Theft Auto:...|     PS2|           2002|  Action|Take-Two Interactive|    8.41|    5.49|    0.47|       1.78|       16.15|          95|          62|       8.7|       730|      Rockstar North|     M|       0.0|(11,[0],[1.0])|               0.95|              0.087|\n",
            "|Brain Age 2: More...|      DS|           2005|  Puzzle|            Nintendo|    3.43|    5.35|    5.32|       1.18|       15.29|          77|          37|       7.1|        19|            Nintendo|     E|      11.0|    (11,[],[])|               0.77|              0.071|\n",
            "|Gran Turismo 3: A...|     PS2|           2001|  Racing|Sony Computer Ent...|    6.85|    5.09|    1.87|       1.16|       14.98|          95|          54|       8.4|       314|   Polyphony Digital|     E|       4.0|(11,[4],[1.0])|               0.95|              0.084|\n",
            "|Call of Duty: Mod...|    X360|           2011| Shooter|          Activision|    9.04|    4.24|    0.13|       1.32|       14.73|          88|          81|       3.4|      8713|Infinity Ward, Sl...|     M|       2.0|(11,[2],[1.0])|               0.88|              0.034|\n",
            "|Call of Duty: Bla...|    X360|           2010| Shooter|          Activision|     9.7|    3.68|    0.11|       1.13|       14.61|          87|          89|       6.3|      1454|            Treyarch|     M|       2.0|(11,[2],[1.0])|               0.87|              0.063|\n",
            "|Call of Duty: Bla...|     PS3|           2012| Shooter|          Activision|    4.99|    5.73|    0.65|       2.42|       13.79|          83|          21|       5.3|       922|            Treyarch|     M|       2.0|(11,[2],[1.0])|               0.83|              0.053|\n",
            "+--------------------+--------+---------------+--------+--------------------+--------+--------+--------+-----------+------------+------------+------------+----------+----------+--------------------+------+----------+--------------+-------------------+-------------------+\n",
            "only showing top 20 rows\n",
            "\n"
          ],
          "name": "stdout"
        }
      ]
    },
    {
      "cell_type": "markdown",
      "metadata": {
        "id": "92XImZFDYXnf"
      },
      "source": [
        "Using the vector assembler, create a vector of features using the scaled user score, the scaled critic score and the one hot encoded vector."
      ]
    },
    {
      "cell_type": "code",
      "metadata": {
        "id": "KpA7hSQsX5hR"
      },
      "source": [
        "# Answer below:\n",
        "\n",
        "from pyspark.ml.linalg import Vectors\n",
        "from pyspark.ml.feature import VectorAssembler\n",
        "\n",
        "assembler = VectorAssembler(inputCols=['GenreVec','Critic_Score_Scaled','User_Score_Scaled'],outputCol='features')"
      ],
      "execution_count": 23,
      "outputs": []
    },
    {
      "cell_type": "code",
      "metadata": {
        "id": "Yhk9SIVkPcw7"
      },
      "source": [
        "features = assembler.transform(video_percent)"
      ],
      "execution_count": 25,
      "outputs": []
    },
    {
      "cell_type": "code",
      "metadata": {
        "id": "WyjLF3zrPTOz"
      },
      "source": [
        "from pyspark.ml.feature import StringIndexer\r\n",
        "\r\n",
        "# seperate features and target \r\n",
        "indexer = StringIndexer(inputCol='Global_Sales', outputCol='label')\r\n",
        "indexer_model = indexer.fit(features)\r\n",
        "\r\n",
        "\r\n",
        "input = indexer_model.transform(features).select('features', 'label')\r\n"
      ],
      "execution_count": 26,
      "outputs": []
    },
    {
      "cell_type": "markdown",
      "metadata": {
        "id": "cr5N6lMancOl"
      },
      "source": [
        "Split the data into 70% in the training sample and 30% in the test sample."
      ]
    },
    {
      "cell_type": "code",
      "metadata": {
        "id": "QZg3gX4rni8z",
        "colab": {
          "base_uri": "https://localhost:8080/"
        },
        "outputId": "b16cedfe-2e81-4fe6-b3fa-2df731f5ae9f"
      },
      "source": [
        "# Answer below:\n",
        "\n",
        "\n",
        "train, test = input.randomSplit([0.7, 0.3])\n",
        "\n",
        "train.show()"
      ],
      "execution_count": 27,
      "outputs": [
        {
          "output_type": "stream",
          "text": [
            "+--------------------+-----+\n",
            "|            features|label|\n",
            "+--------------------+-----+\n",
            "|(13,[0,11,12],[1....|  5.0|\n",
            "|(13,[0,11,12],[1....| 12.0|\n",
            "|(13,[0,11,12],[1....|  8.0|\n",
            "|(13,[0,11,12],[1....| 17.0|\n",
            "|(13,[0,11,12],[1....| 22.0|\n",
            "|(13,[0,11,12],[1....|  7.0|\n",
            "|(13,[0,11,12],[1....| 12.0|\n",
            "|(13,[0,11,12],[1....| 13.0|\n",
            "|(13,[0,11,12],[1....|  4.0|\n",
            "|(13,[0,11,12],[1....| 10.0|\n",
            "|(13,[0,11,12],[1....|  4.0|\n",
            "|(13,[0,11,12],[1....| 25.0|\n",
            "|(13,[0,11,12],[1....| 11.0|\n",
            "|(13,[0,11,12],[1....|  4.0|\n",
            "|(13,[0,11,12],[1....| 32.0|\n",
            "|(13,[0,11,12],[1....|  6.0|\n",
            "|(13,[0,11,12],[1....| 13.0|\n",
            "|(13,[0,11,12],[1....|  6.0|\n",
            "|(13,[0,11,12],[1....|  4.0|\n",
            "|(13,[0,11,12],[1....| 16.0|\n",
            "+--------------------+-----+\n",
            "only showing top 20 rows\n",
            "\n"
          ],
          "name": "stdout"
        }
      ]
    },
    {
      "cell_type": "markdown",
      "metadata": {
        "id": "tK2oIPrFVJ0u"
      },
      "source": [
        "## Linear Regression"
      ]
    },
    {
      "cell_type": "markdown",
      "metadata": {
        "id": "w_mbNCz6njMC"
      },
      "source": [
        "Using the train and test data, generate a linear regression to predict global sales. Print the r squared from the model summary."
      ]
    },
    {
      "cell_type": "code",
      "metadata": {
        "id": "MNRgTZIZm1uI",
        "colab": {
          "base_uri": "https://localhost:8080/"
        },
        "outputId": "3f907326-f2ed-4e18-eb2d-9c712d49254a"
      },
      "source": [
        "# Answer below:\n",
        "\n",
        "from pyspark.ml.regression import LinearRegression\n",
        "\n",
        "lr = LinearRegression(featuresCol = 'features', labelCol='label',)\n",
        "\n",
        "# Fit the model\n",
        "lr_model = lr.fit(train)\n",
        "\n",
        "# Summarize the model over the training set and print out some metrics\n",
        "trainingSummary = lr_model.summary\n",
        "print(\"Training RMSE: %f\" % trainingSummary.rootMeanSquaredError)\n",
        "print(\"Training r2: %f\" % trainingSummary.r2)"
      ],
      "execution_count": 28,
      "outputs": [
        {
          "output_type": "stream",
          "text": [
            "Training RMSE: 81.517171\n",
            "Training r2: 0.152448\n"
          ],
          "name": "stdout"
        }
      ]
    },
    {
      "cell_type": "markdown",
      "metadata": {
        "id": "C-z7sB1ljDZ7"
      },
      "source": [
        "Calculate"
      ]
    },
    {
      "cell_type": "code",
      "metadata": {
        "id": "qo3l9oc8qJDq",
        "colab": {
          "base_uri": "https://localhost:8080/"
        },
        "outputId": "f099aed8-0fee-4639-a58e-00a5cc9e2b78"
      },
      "source": [
        "\r\n",
        "from pyspark.ml.evaluation import RegressionEvaluator\r\n",
        "\r\n",
        "# generate predictions\r\n",
        "lr_predictions = lr_model.transform(test)\r\n",
        "lr_predictions.select(\"prediction\",\"label\",\"features\").show(5)\r\n",
        "\r\n",
        "lr_evaluator = RegressionEvaluator(predictionCol=\"prediction\", \\\r\n",
        "                 labelCol=\"label\",metricName=\"r2\")\r\n",
        "print(\"Test r2 = %g\" % lr_evaluator.evaluate(lr_predictions))"
      ],
      "execution_count": 29,
      "outputs": [
        {
          "output_type": "stream",
          "text": [
            "+-------------------+-----+--------------------+\n",
            "|         prediction|label|            features|\n",
            "+-------------------+-----+--------------------+\n",
            "|  -48.3963211531708| 10.0|(13,[0,11,12],[1....|\n",
            "| -38.82116732860358|  0.0|(13,[0,11,12],[1....|\n",
            "| -25.64747382926967|  0.0|(13,[0,11,12],[1....|\n",
            "|-27.359567580957815| 17.0|(13,[0,11,12],[1....|\n",
            "| -33.63724467048101| 32.0|(13,[0,11,12],[1....|\n",
            "+-------------------+-----+--------------------+\n",
            "only showing top 5 rows\n",
            "\n",
            "Test r2 = 0.153981\n"
          ],
          "name": "stdout"
        }
      ]
    },
    {
      "cell_type": "markdown",
      "metadata": {
        "id": "A0QCZg_uP0CA"
      },
      "source": [
        "## Classification - Binomial Logistic Regression"
      ]
    },
    {
      "cell_type": "markdown",
      "metadata": {
        "id": "T86Pj9Frjyhf"
      },
      "source": [
        "Download and save the college admission  CSV file to your Colab Data folder on Google Drive. \n",
        "\n",
        "The file can be downloaded from link [here](https://tf-assets-prod.s3.amazonaws.com/tf-curric/data-science/Admission_Predict.csv), download it and save it to your Google Colab Data folder on gdrive."
      ]
    },
    {
      "cell_type": "markdown",
      "metadata": {
        "id": "TSyE1P5ikFdp"
      },
      "source": [
        "Load the admit CSV file in to the spark instance."
      ]
    },
    {
      "cell_type": "code",
      "metadata": {
        "id": "qhlRdBi3MYlr",
        "colab": {
          "base_uri": "https://localhost:8080/"
        },
        "outputId": "ef892628-6ec5-4ae5-89c4-d4e525524125"
      },
      "source": [
        "# Answer below:\n",
        "admit = spark.read.format(\"csv\").option(\"header\", \"true\").option(\"inferSchema\", \"true\").load(\"Admission_Predict.csv\")\n",
        "admit.show()"
      ],
      "execution_count": 30,
      "outputs": [
        {
          "output_type": "stream",
          "text": [
            "+----------+---------+-----------+-----------------+---+----+----+--------+----------------+\n",
            "|Serial No.|GRE Score|TOEFL Score|University Rating|SOP|LOR |CGPA|Research|Chance of Admit |\n",
            "+----------+---------+-----------+-----------------+---+----+----+--------+----------------+\n",
            "|         1|      337|        118|                4|4.5| 4.5|9.65|       1|            0.92|\n",
            "|         2|      324|        107|                4|4.0| 4.5|8.87|       1|            0.76|\n",
            "|         3|      316|        104|                3|3.0| 3.5| 8.0|       1|            0.72|\n",
            "|         4|      322|        110|                3|3.5| 2.5|8.67|       1|             0.8|\n",
            "|         5|      314|        103|                2|2.0| 3.0|8.21|       0|            0.65|\n",
            "|         6|      330|        115|                5|4.5| 3.0|9.34|       1|             0.9|\n",
            "|         7|      321|        109|                3|3.0| 4.0| 8.2|       1|            0.75|\n",
            "|         8|      308|        101|                2|3.0| 4.0| 7.9|       0|            0.68|\n",
            "|         9|      302|        102|                1|2.0| 1.5| 8.0|       0|             0.5|\n",
            "|        10|      323|        108|                3|3.5| 3.0| 8.6|       0|            0.45|\n",
            "|        11|      325|        106|                3|3.5| 4.0| 8.4|       1|            0.52|\n",
            "|        12|      327|        111|                4|4.0| 4.5| 9.0|       1|            0.84|\n",
            "|        13|      328|        112|                4|4.0| 4.5| 9.1|       1|            0.78|\n",
            "|        14|      307|        109|                3|4.0| 3.0| 8.0|       1|            0.62|\n",
            "|        15|      311|        104|                3|3.5| 2.0| 8.2|       1|            0.61|\n",
            "|        16|      314|        105|                3|3.5| 2.5| 8.3|       0|            0.54|\n",
            "|        17|      317|        107|                3|4.0| 3.0| 8.7|       0|            0.66|\n",
            "|        18|      319|        106|                3|4.0| 3.0| 8.0|       1|            0.65|\n",
            "|        19|      318|        110|                3|4.0| 3.0| 8.8|       0|            0.63|\n",
            "|        20|      303|        102|                3|3.5| 3.0| 8.5|       0|            0.62|\n",
            "+----------+---------+-----------+-----------------+---+----+----+--------+----------------+\n",
            "only showing top 20 rows\n",
            "\n"
          ],
          "name": "stdout"
        }
      ]
    },
    {
      "cell_type": "code",
      "metadata": {
        "id": "IqZ4DhjMW6on",
        "colab": {
          "base_uri": "https://localhost:8080/"
        },
        "outputId": "54419a23-3a04-449f-c4e5-dd1de64e534d"
      },
      "source": [
        "admit.printSchema()"
      ],
      "execution_count": 31,
      "outputs": [
        {
          "output_type": "stream",
          "text": [
            "root\n",
            " |-- Serial No.: integer (nullable = true)\n",
            " |-- GRE Score: integer (nullable = true)\n",
            " |-- TOEFL Score: integer (nullable = true)\n",
            " |-- University Rating: integer (nullable = true)\n",
            " |-- SOP: double (nullable = true)\n",
            " |-- LOR : double (nullable = true)\n",
            " |-- CGPA: double (nullable = true)\n",
            " |-- Research: integer (nullable = true)\n",
            " |-- Chance of Admit : double (nullable = true)\n",
            "\n"
          ],
          "name": "stdout"
        }
      ]
    },
    {
      "cell_type": "markdown",
      "metadata": {
        "id": "p5ZzjBv6Smf5"
      },
      "source": [
        "Create a categorical response from `Chance of Admit` column."
      ]
    },
    {
      "cell_type": "code",
      "metadata": {
        "id": "YU1-SgIHWS8b",
        "colab": {
          "base_uri": "https://localhost:8080/"
        },
        "outputId": "7ab26fb3-3fb9-4cef-c474-fb715a0f2a5e"
      },
      "source": [
        "from pyspark.ml.feature import Binarizer\n",
        "# Answer below\n",
        "\n",
        "binarizer = Binarizer(threshold=.5, inputCol='Chance of Admit ', outputCol='Admit_Binary')\n",
        "admit_df = binarizer.transform(admit)\n",
        "admit_df.show()"
      ],
      "execution_count": 32,
      "outputs": [
        {
          "output_type": "stream",
          "text": [
            "+----------+---------+-----------+-----------------+---+----+----+--------+----------------+------------+\n",
            "|Serial No.|GRE Score|TOEFL Score|University Rating|SOP|LOR |CGPA|Research|Chance of Admit |Admit_Binary|\n",
            "+----------+---------+-----------+-----------------+---+----+----+--------+----------------+------------+\n",
            "|         1|      337|        118|                4|4.5| 4.5|9.65|       1|            0.92|         1.0|\n",
            "|         2|      324|        107|                4|4.0| 4.5|8.87|       1|            0.76|         1.0|\n",
            "|         3|      316|        104|                3|3.0| 3.5| 8.0|       1|            0.72|         1.0|\n",
            "|         4|      322|        110|                3|3.5| 2.5|8.67|       1|             0.8|         1.0|\n",
            "|         5|      314|        103|                2|2.0| 3.0|8.21|       0|            0.65|         1.0|\n",
            "|         6|      330|        115|                5|4.5| 3.0|9.34|       1|             0.9|         1.0|\n",
            "|         7|      321|        109|                3|3.0| 4.0| 8.2|       1|            0.75|         1.0|\n",
            "|         8|      308|        101|                2|3.0| 4.0| 7.9|       0|            0.68|         1.0|\n",
            "|         9|      302|        102|                1|2.0| 1.5| 8.0|       0|             0.5|         0.0|\n",
            "|        10|      323|        108|                3|3.5| 3.0| 8.6|       0|            0.45|         0.0|\n",
            "|        11|      325|        106|                3|3.5| 4.0| 8.4|       1|            0.52|         1.0|\n",
            "|        12|      327|        111|                4|4.0| 4.5| 9.0|       1|            0.84|         1.0|\n",
            "|        13|      328|        112|                4|4.0| 4.5| 9.1|       1|            0.78|         1.0|\n",
            "|        14|      307|        109|                3|4.0| 3.0| 8.0|       1|            0.62|         1.0|\n",
            "|        15|      311|        104|                3|3.5| 2.0| 8.2|       1|            0.61|         1.0|\n",
            "|        16|      314|        105|                3|3.5| 2.5| 8.3|       0|            0.54|         1.0|\n",
            "|        17|      317|        107|                3|4.0| 3.0| 8.7|       0|            0.66|         1.0|\n",
            "|        18|      319|        106|                3|4.0| 3.0| 8.0|       1|            0.65|         1.0|\n",
            "|        19|      318|        110|                3|4.0| 3.0| 8.8|       0|            0.63|         1.0|\n",
            "|        20|      303|        102|                3|3.5| 3.0| 8.5|       0|            0.62|         1.0|\n",
            "+----------+---------+-----------+-----------------+---+----+----+--------+----------------+------------+\n",
            "only showing top 20 rows\n",
            "\n"
          ],
          "name": "stdout"
        }
      ]
    },
    {
      "cell_type": "markdown",
      "metadata": {
        "id": "G3NQ30HKbpqr"
      },
      "source": [
        "Divide GRE and TOEFL score columns by 100 to normalize the features."
      ]
    },
    {
      "cell_type": "code",
      "metadata": {
        "id": "VjcYYZ3oU7DY",
        "colab": {
          "base_uri": "https://localhost:8080/"
        },
        "outputId": "8ad1f21d-54fb-4ceb-fd64-911dafea5eea"
      },
      "source": [
        "from pyspark.sql.functions import lit, col\n",
        "# Answer below\n",
        "\n",
        "admit_new = admit_df.withColumn('GRE Score',admit_df['GRE Score']/lit(100))\n",
        "admit_set = admit_new.withColumn('TOEFL Score',admit_new['TOEFL Score']/lit(100))\n",
        "admit_set.show()"
      ],
      "execution_count": 33,
      "outputs": [
        {
          "output_type": "stream",
          "text": [
            "+----------+---------+-----------+-----------------+---+----+----+--------+----------------+------------+\n",
            "|Serial No.|GRE Score|TOEFL Score|University Rating|SOP|LOR |CGPA|Research|Chance of Admit |Admit_Binary|\n",
            "+----------+---------+-----------+-----------------+---+----+----+--------+----------------+------------+\n",
            "|         1|     3.37|       1.18|                4|4.5| 4.5|9.65|       1|            0.92|         1.0|\n",
            "|         2|     3.24|       1.07|                4|4.0| 4.5|8.87|       1|            0.76|         1.0|\n",
            "|         3|     3.16|       1.04|                3|3.0| 3.5| 8.0|       1|            0.72|         1.0|\n",
            "|         4|     3.22|        1.1|                3|3.5| 2.5|8.67|       1|             0.8|         1.0|\n",
            "|         5|     3.14|       1.03|                2|2.0| 3.0|8.21|       0|            0.65|         1.0|\n",
            "|         6|      3.3|       1.15|                5|4.5| 3.0|9.34|       1|             0.9|         1.0|\n",
            "|         7|     3.21|       1.09|                3|3.0| 4.0| 8.2|       1|            0.75|         1.0|\n",
            "|         8|     3.08|       1.01|                2|3.0| 4.0| 7.9|       0|            0.68|         1.0|\n",
            "|         9|     3.02|       1.02|                1|2.0| 1.5| 8.0|       0|             0.5|         0.0|\n",
            "|        10|     3.23|       1.08|                3|3.5| 3.0| 8.6|       0|            0.45|         0.0|\n",
            "|        11|     3.25|       1.06|                3|3.5| 4.0| 8.4|       1|            0.52|         1.0|\n",
            "|        12|     3.27|       1.11|                4|4.0| 4.5| 9.0|       1|            0.84|         1.0|\n",
            "|        13|     3.28|       1.12|                4|4.0| 4.5| 9.1|       1|            0.78|         1.0|\n",
            "|        14|     3.07|       1.09|                3|4.0| 3.0| 8.0|       1|            0.62|         1.0|\n",
            "|        15|     3.11|       1.04|                3|3.5| 2.0| 8.2|       1|            0.61|         1.0|\n",
            "|        16|     3.14|       1.05|                3|3.5| 2.5| 8.3|       0|            0.54|         1.0|\n",
            "|        17|     3.17|       1.07|                3|4.0| 3.0| 8.7|       0|            0.66|         1.0|\n",
            "|        18|     3.19|       1.06|                3|4.0| 3.0| 8.0|       1|            0.65|         1.0|\n",
            "|        19|     3.18|        1.1|                3|4.0| 3.0| 8.8|       0|            0.63|         1.0|\n",
            "|        20|     3.03|       1.02|                3|3.5| 3.0| 8.5|       0|            0.62|         1.0|\n",
            "+----------+---------+-----------+-----------------+---+----+----+--------+----------------+------------+\n",
            "only showing top 20 rows\n",
            "\n"
          ],
          "name": "stdout"
        }
      ]
    },
    {
      "cell_type": "markdown",
      "metadata": {
        "id": "e1cIz6BWc12n"
      },
      "source": [
        "Vectorize the features using the vector assembler, saving them into a column named features."
      ]
    },
    {
      "cell_type": "code",
      "metadata": {
        "id": "-4Ibl9MkcPs4",
        "colab": {
          "base_uri": "https://localhost:8080/"
        },
        "outputId": "53ac4620-01b2-4fe3-8fb6-067acfd1da4c"
      },
      "source": [
        "# Answer below\r\n",
        "\r\n",
        "feature_cols = [x for x in admit_set.columns if x not in ['Serial No.','Chance of Admit ','Admit_Binary']]\r\n",
        "assembler_ = VectorAssembler(inputCols=feature_cols, outputCol='features')\r\n",
        "features = assembler_.transform(admit_set)\r\n",
        "features.show()"
      ],
      "execution_count": 34,
      "outputs": [
        {
          "output_type": "stream",
          "text": [
            "+----------+---------+-----------+-----------------+---+----+----+--------+----------------+------------+--------------------+\n",
            "|Serial No.|GRE Score|TOEFL Score|University Rating|SOP|LOR |CGPA|Research|Chance of Admit |Admit_Binary|            features|\n",
            "+----------+---------+-----------+-----------------+---+----+----+--------+----------------+------------+--------------------+\n",
            "|         1|     3.37|       1.18|                4|4.5| 4.5|9.65|       1|            0.92|         1.0|[3.37,1.18,4.0,4....|\n",
            "|         2|     3.24|       1.07|                4|4.0| 4.5|8.87|       1|            0.76|         1.0|[3.24,1.07,4.0,4....|\n",
            "|         3|     3.16|       1.04|                3|3.0| 3.5| 8.0|       1|            0.72|         1.0|[3.16,1.04,3.0,3....|\n",
            "|         4|     3.22|        1.1|                3|3.5| 2.5|8.67|       1|             0.8|         1.0|[3.22,1.1,3.0,3.5...|\n",
            "|         5|     3.14|       1.03|                2|2.0| 3.0|8.21|       0|            0.65|         1.0|[3.14,1.03,2.0,2....|\n",
            "|         6|      3.3|       1.15|                5|4.5| 3.0|9.34|       1|             0.9|         1.0|[3.3,1.15,5.0,4.5...|\n",
            "|         7|     3.21|       1.09|                3|3.0| 4.0| 8.2|       1|            0.75|         1.0|[3.21,1.09,3.0,3....|\n",
            "|         8|     3.08|       1.01|                2|3.0| 4.0| 7.9|       0|            0.68|         1.0|[3.08,1.01,2.0,3....|\n",
            "|         9|     3.02|       1.02|                1|2.0| 1.5| 8.0|       0|             0.5|         0.0|[3.02,1.02,1.0,2....|\n",
            "|        10|     3.23|       1.08|                3|3.5| 3.0| 8.6|       0|            0.45|         0.0|[3.23,1.08,3.0,3....|\n",
            "|        11|     3.25|       1.06|                3|3.5| 4.0| 8.4|       1|            0.52|         1.0|[3.25,1.06,3.0,3....|\n",
            "|        12|     3.27|       1.11|                4|4.0| 4.5| 9.0|       1|            0.84|         1.0|[3.27,1.11,4.0,4....|\n",
            "|        13|     3.28|       1.12|                4|4.0| 4.5| 9.1|       1|            0.78|         1.0|[3.28,1.12,4.0,4....|\n",
            "|        14|     3.07|       1.09|                3|4.0| 3.0| 8.0|       1|            0.62|         1.0|[3.07,1.09,3.0,4....|\n",
            "|        15|     3.11|       1.04|                3|3.5| 2.0| 8.2|       1|            0.61|         1.0|[3.11,1.04,3.0,3....|\n",
            "|        16|     3.14|       1.05|                3|3.5| 2.5| 8.3|       0|            0.54|         1.0|[3.14,1.05,3.0,3....|\n",
            "|        17|     3.17|       1.07|                3|4.0| 3.0| 8.7|       0|            0.66|         1.0|[3.17,1.07,3.0,4....|\n",
            "|        18|     3.19|       1.06|                3|4.0| 3.0| 8.0|       1|            0.65|         1.0|[3.19,1.06,3.0,4....|\n",
            "|        19|     3.18|        1.1|                3|4.0| 3.0| 8.8|       0|            0.63|         1.0|[3.18,1.1,3.0,4.0...|\n",
            "|        20|     3.03|       1.02|                3|3.5| 3.0| 8.5|       0|            0.62|         1.0|[3.03,1.02,3.0,3....|\n",
            "+----------+---------+-----------+-----------------+---+----+----+--------+----------------+------------+--------------------+\n",
            "only showing top 20 rows\n",
            "\n"
          ],
          "name": "stdout"
        }
      ]
    },
    {
      "cell_type": "markdown",
      "metadata": {
        "id": "SfkkSBzfk93I"
      },
      "source": [
        "Split into train and test subsets."
      ]
    },
    {
      "cell_type": "code",
      "metadata": {
        "id": "PrkM1eCtlBnx",
        "colab": {
          "base_uri": "https://localhost:8080/"
        },
        "outputId": "4e6c73fd-4c0a-4ffd-b352-8311e4abaa50"
      },
      "source": [
        "# Answer below\r\n",
        "\r\n",
        "train, test = features.randomSplit([.7,.3])\r\n",
        "\r\n",
        "train.show()\r\n"
      ],
      "execution_count": 35,
      "outputs": [
        {
          "output_type": "stream",
          "text": [
            "+----------+---------+-----------+-----------------+---+----+----+--------+----------------+------------+--------------------+\n",
            "|Serial No.|GRE Score|TOEFL Score|University Rating|SOP|LOR |CGPA|Research|Chance of Admit |Admit_Binary|            features|\n",
            "+----------+---------+-----------+-----------------+---+----+----+--------+----------------+------------+--------------------+\n",
            "|         1|     3.37|       1.18|                4|4.5| 4.5|9.65|       1|            0.92|         1.0|[3.37,1.18,4.0,4....|\n",
            "|         2|     3.24|       1.07|                4|4.0| 4.5|8.87|       1|            0.76|         1.0|[3.24,1.07,4.0,4....|\n",
            "|         3|     3.16|       1.04|                3|3.0| 3.5| 8.0|       1|            0.72|         1.0|[3.16,1.04,3.0,3....|\n",
            "|         4|     3.22|        1.1|                3|3.5| 2.5|8.67|       1|             0.8|         1.0|[3.22,1.1,3.0,3.5...|\n",
            "|         6|      3.3|       1.15|                5|4.5| 3.0|9.34|       1|             0.9|         1.0|[3.3,1.15,5.0,4.5...|\n",
            "|         7|     3.21|       1.09|                3|3.0| 4.0| 8.2|       1|            0.75|         1.0|[3.21,1.09,3.0,3....|\n",
            "|         8|     3.08|       1.01|                2|3.0| 4.0| 7.9|       0|            0.68|         1.0|[3.08,1.01,2.0,3....|\n",
            "|         9|     3.02|       1.02|                1|2.0| 1.5| 8.0|       0|             0.5|         0.0|[3.02,1.02,1.0,2....|\n",
            "|        10|     3.23|       1.08|                3|3.5| 3.0| 8.6|       0|            0.45|         0.0|[3.23,1.08,3.0,3....|\n",
            "|        11|     3.25|       1.06|                3|3.5| 4.0| 8.4|       1|            0.52|         1.0|[3.25,1.06,3.0,3....|\n",
            "|        12|     3.27|       1.11|                4|4.0| 4.5| 9.0|       1|            0.84|         1.0|[3.27,1.11,4.0,4....|\n",
            "|        13|     3.28|       1.12|                4|4.0| 4.5| 9.1|       1|            0.78|         1.0|[3.28,1.12,4.0,4....|\n",
            "|        14|     3.07|       1.09|                3|4.0| 3.0| 8.0|       1|            0.62|         1.0|[3.07,1.09,3.0,4....|\n",
            "|        15|     3.11|       1.04|                3|3.5| 2.0| 8.2|       1|            0.61|         1.0|[3.11,1.04,3.0,3....|\n",
            "|        16|     3.14|       1.05|                3|3.5| 2.5| 8.3|       0|            0.54|         1.0|[3.14,1.05,3.0,3....|\n",
            "|        17|     3.17|       1.07|                3|4.0| 3.0| 8.7|       0|            0.66|         1.0|[3.17,1.07,3.0,4....|\n",
            "|        18|     3.19|       1.06|                3|4.0| 3.0| 8.0|       1|            0.65|         1.0|[3.19,1.06,3.0,4....|\n",
            "|        20|     3.03|       1.02|                3|3.5| 3.0| 8.5|       0|            0.62|         1.0|[3.03,1.02,3.0,3....|\n",
            "|        22|     3.25|       1.14|                4|3.0| 2.0| 8.4|       0|             0.7|         1.0|[3.25,1.14,4.0,3....|\n",
            "|        23|     3.28|       1.16|                5|5.0| 5.0| 9.5|       1|            0.94|         1.0|[3.28,1.16,5.0,5....|\n",
            "+----------+---------+-----------+-----------------+---+----+----+--------+----------------+------------+--------------------+\n",
            "only showing top 20 rows\n",
            "\n"
          ],
          "name": "stdout"
        }
      ]
    },
    {
      "cell_type": "markdown",
      "metadata": {
        "id": "-3KbBnp4lD1G"
      },
      "source": [
        "Define the Logistic regression model."
      ]
    },
    {
      "cell_type": "code",
      "metadata": {
        "id": "LncfrOdzdUbR"
      },
      "source": [
        "from pyspark.ml.classification import LogisticRegression\n",
        "logr = LogisticRegression(featuresCol='features',labelCol='Admit_Binary')\n"
      ],
      "execution_count": 36,
      "outputs": []
    },
    {
      "cell_type": "markdown",
      "metadata": {
        "id": "oOuEI6XBlLQR"
      },
      "source": [
        "Fit the model."
      ]
    },
    {
      "cell_type": "code",
      "metadata": {
        "id": "5Z4oo9o4eMX3"
      },
      "source": [
        "# Answer below\r\n",
        "\r\n",
        "logr_model = logr.fit(train)"
      ],
      "execution_count": 37,
      "outputs": []
    },
    {
      "cell_type": "markdown",
      "metadata": {
        "id": "l-JLjNUmlN-E"
      },
      "source": [
        "predict in the test set."
      ]
    },
    {
      "cell_type": "code",
      "metadata": {
        "id": "irZa6ZrCesiG",
        "colab": {
          "base_uri": "https://localhost:8080/"
        },
        "outputId": "82404781-f112-4dd4-8959-15f8f161f1ff"
      },
      "source": [
        "# Answer below\n",
        "predictions = logr_model.transform(test)\n",
        "predictions.show()"
      ],
      "execution_count": 38,
      "outputs": [
        {
          "output_type": "stream",
          "text": [
            "+----------+---------+-----------+-----------------+---+----+----+--------+----------------+------------+--------------------+--------------------+--------------------+----------+\n",
            "|Serial No.|GRE Score|TOEFL Score|University Rating|SOP|LOR |CGPA|Research|Chance of Admit |Admit_Binary|            features|       rawPrediction|         probability|prediction|\n",
            "+----------+---------+-----------+-----------------+---+----+----+--------+----------------+------------+--------------------+--------------------+--------------------+----------+\n",
            "|         5|     3.14|       1.03|                2|2.0| 3.0|8.21|       0|            0.65|         1.0|[3.14,1.03,2.0,2....|[-4.0227367618308...|[0.01758898766092...|       1.0|\n",
            "|        19|     3.18|        1.1|                3|4.0| 3.0| 8.8|       0|            0.63|         1.0|[3.18,1.1,3.0,4.0...|[-5.3322218640321...|[0.00481007048973...|       1.0|\n",
            "|        21|     3.12|       1.07|                3|3.0| 2.0| 7.9|       1|            0.64|         1.0|[3.12,1.07,3.0,3....|[-0.3747562621950...|[0.40739224282531...|       1.0|\n",
            "|        28|     2.98|       0.98|                2|1.5| 2.5| 7.5|       1|            0.44|         0.0|[2.98,0.98,2.0,1....|[0.64548074295570...|[0.65599133701970...|       0.0|\n",
            "|        33|     3.38|       1.18|                4|3.0| 4.5| 9.4|       1|            0.91|         1.0|[3.38,1.18,4.0,3....|[-10.782255807752...|[2.07642754935070...|       1.0|\n",
            "|        35|     3.31|       1.12|                5|4.0| 5.0| 9.8|       1|            0.94|         1.0|[3.31,1.12,5.0,4....|[-10.264082027588...|[3.48618695154647...|       1.0|\n",
            "|        43|     3.13|       1.07|                2|2.5| 2.0| 8.5|       1|            0.53|         1.0|[3.13,1.07,2.0,2....|[-3.9545029874432...|[0.01880768370377...|       1.0|\n",
            "|        44|     3.32|       1.17|                4|4.5| 4.0| 9.1|       0|            0.87|         1.0|[3.32,1.17,4.0,4....|[-7.9743231110755...|[3.44069378355650...|       1.0|\n",
            "|        46|     3.22|        1.1|                5|5.0| 4.0| 9.1|       1|            0.88|         1.0|[3.22,1.1,5.0,5.0...|[-5.0675809794799...|[0.00625822382550...|       1.0|\n",
            "|        50|     3.27|       1.11|                4|3.0| 4.0| 8.4|       1|            0.78|         1.0|[3.27,1.11,4.0,3....|[-4.8258067675779...|[0.00795627098132...|       1.0|\n",
            "|        53|     3.34|       1.16|                4|4.0| 3.0| 8.0|       1|            0.78|         1.0|[3.34,1.16,4.0,4....|[-2.4217848490327...|[0.08152650621862...|       1.0|\n",
            "|        54|     3.24|       1.12|                4|4.0| 2.5| 8.1|       1|            0.72|         1.0|[3.24,1.12,4.0,4....|[-1.3521056173160...|[0.20552634233167...|       1.0|\n",
            "|        56|      3.2|       1.03|                3|3.0| 3.0| 7.7|       0|            0.64|         1.0|[3.2,1.03,3.0,3.0...|[-0.6732251352761...|[0.33777505563513...|       1.0|\n",
            "|        57|     3.16|       1.02|                3|2.0| 3.0| 7.4|       0|            0.64|         1.0|[3.16,1.02,3.0,2....|[0.08226150980871...|[0.52055378821081...|       0.0|\n",
            "|        60|     3.11|       1.04|                2|2.0| 2.0| 8.3|       0|            0.42|         0.0|[3.11,1.04,2.0,2....|[-3.3704307198375...|[0.03323246785951...|       1.0|\n",
            "|        61|     3.09|        1.0|                2|3.0| 3.0| 8.1|       0|            0.48|         0.0|[3.09,1.0,2.0,3.0...|[-2.2327960253557...|[0.09684381056382...|       1.0|\n",
            "|        65|     3.25|       1.11|                3|3.0| 3.5| 8.7|       0|            0.52|         1.0|[3.25,1.11,3.0,3....|[-6.5788925700726...|[0.00138745937387...|       1.0|\n",
            "|        68|     3.16|       1.07|                2|3.5| 3.5|8.64|       1|            0.57|         1.0|[3.16,1.07,2.0,3....|[-5.4790825516480...|[0.00415581373627...|       1.0|\n",
            "|        70|     3.28|       1.15|                4|4.5| 4.0|9.16|       1|            0.78|         1.0|[3.28,1.15,4.0,4....|[-7.4081922476264...|[6.05898347354827...|       1.0|\n",
            "|        71|     3.32|       1.18|                5|5.0| 5.0|9.64|       1|            0.94|         1.0|[3.32,1.18,5.0,5....|[-9.8318707227582...|[5.37092975072701...|       1.0|\n",
            "+----------+---------+-----------+-----------------+---+----+----+--------+----------------+------------+--------------------+--------------------+--------------------+----------+\n",
            "only showing top 20 rows\n",
            "\n"
          ],
          "name": "stdout"
        }
      ]
    },
    {
      "cell_type": "markdown",
      "metadata": {
        "id": "8swSBazulUqH"
      },
      "source": [
        "Plot the ROC."
      ]
    },
    {
      "cell_type": "code",
      "metadata": {
        "id": "e-xtF0dWey07",
        "colab": {
          "base_uri": "https://localhost:8080/",
          "height": 312
        },
        "outputId": "391a4751-a2fe-447c-8873-71969a7efc2a"
      },
      "source": [
        "import matplotlib.pyplot as plt\n",
        "\n",
        "trainingSummary = logr_model.summary\n",
        "roc = trainingSummary.roc.toPandas()\n",
        "plt.plot(roc['FPR'],roc['TPR'])\n",
        "plt.ylabel('False Positive Rate')\n",
        "plt.xlabel('True Positive Rate')\n",
        "plt.title('ROC Curve')\n",
        "plt.show()\n",
        "print('Training set areaUnderROC: ' + str(trainingSummary.areaUnderROC))"
      ],
      "execution_count": 40,
      "outputs": [
        {
          "output_type": "display_data",
          "data": {
            "image/png": "[encoded data removed]",
            "text/plain": [
              "<Figure size 432x288 with 1 Axes>"
            ]
          },
          "metadata": {
            "tags": [],
            "needs_background": "light"
          }
        },
        {
          "output_type": "stream",
          "text": [
            "Training set areaUnderROC: 0.9330140120102945\n"
          ],
          "name": "stdout"
        }
      ]
    },
    {
      "cell_type": "markdown",
      "metadata": {
        "id": "JvhfWKjTlX-N"
      },
      "source": [
        "Calculate the overall model accuracy using the model evaluator.\n"
      ]
    },
    {
      "cell_type": "code",
      "metadata": {
        "id": "LMTeVl6kfr_j",
        "colab": {
          "base_uri": "https://localhost:8080/"
        },
        "outputId": "457344ab-ced7-4419-c921-c331d3713abb"
      },
      "source": [
        "from pyspark.ml.evaluation import MulticlassClassificationEvaluator\n",
        "# Answer below\n",
        "\n",
        "logr_evaluator = MulticlassClassificationEvaluator(labelCol='Admit_Binary', predictionCol='prediction', metricName='accuracy')\n",
        "logr_accuracy = logr_evaluator.evaluate(predictions)\n",
        "print(\"Test Accuracy = %g\" % (logr_accuracy))"
      ],
      "execution_count": 41,
      "outputs": [
        {
          "output_type": "stream",
          "text": [
            "Test Accuracy = 0.961905\n"
          ],
          "name": "stdout"
        }
      ]
    },
    {
      "cell_type": "markdown",
      "metadata": {
        "id": "xwbB3HbXgslz"
      },
      "source": [
        "## Classification - Random Forest"
      ]
    },
    {
      "cell_type": "markdown",
      "metadata": {
        "id": "WpKBELD3lkmX"
      },
      "source": [
        "Download and save the land cover type CSV file to your Colab Data folder on Google Drive. \n",
        "\n",
        "The file can be downloaded from link [here](https://tf-assets-prod.s3.amazonaws.com/tf-curric/data-science/Data%20Sets%20Big%20Data/covtype.csv), download it and save it to your Google Colab Data folder on gdrive."
      ]
    },
    {
      "cell_type": "markdown",
      "metadata": {
        "id": "EJNJBjuDCOCk"
      },
      "source": [
        "Load the land cover type data from this CSV file."
      ]
    },
    {
      "cell_type": "code",
      "metadata": {
        "id": "kkTAb55PgKt-"
      },
      "source": [
        "#Answer below:\r\n",
        "\r\n",
        "cov = spark.read.format(\"csv\").option(\"header\", \"true\").option(\"inferSchema\", \"true\").load(\"covtype.csv\")"
      ],
      "execution_count": 42,
      "outputs": []
    },
    {
      "cell_type": "code",
      "metadata": {
        "id": "EN6ppx1qFINC"
      },
      "source": [
        "#load modules\n",
        "# !!!!caution: not from pyspark.mllib.linalg import Vectors\n",
        "from pyspark.ml.linalg import Vectors\n",
        "from pyspark.ml import Pipeline\n",
        "from pyspark.ml.feature import IndexToString,StringIndexer, VectorIndexer\n",
        "from pyspark.ml.tuning import CrossValidator, ParamGridBuilder\n",
        "from pyspark.ml.evaluation import MulticlassClassificationEvaluator"
      ],
      "execution_count": 43,
      "outputs": []
    },
    {
      "cell_type": "markdown",
      "metadata": {
        "id": "_-IFywYblz5e"
      },
      "source": [
        "Vectorize the features to a single column called features using a lambda function."
      ]
    },
    {
      "cell_type": "code",
      "metadata": {
        "id": "XwmrkR27E47j"
      },
      "source": [
        "#Answer below:\n",
        "\n",
        "feature_cols = cov.columns[:-1]\n",
        "assembler = VectorAssembler(inputCols=feature_cols, outputCol='features')\n",
        "features = assembler.transform(cov)\n"
      ],
      "execution_count": 44,
      "outputs": []
    },
    {
      "cell_type": "code",
      "metadata": {
        "id": "UKvre3Xy-AL9"
      },
      "source": [
        "# Split the data into training and test sets (40% held out for testing)\n",
        "#Answer below:\n",
        "\n",
        "train, test = features.randomSplit([0.6,0.4])"
      ],
      "execution_count": 45,
      "outputs": []
    },
    {
      "cell_type": "code",
      "metadata": {
        "id": "k0Sx4U14-Lpg"
      },
      "source": [
        "from pyspark.ml.classification import RandomForestClassifier\n",
        "\n",
        "# Define a RandomForest model.\n",
        "rf = RandomForestClassifier(featuresCol='features', labelCol='Cover_Type')\n",
        "\n",
        "rf_model = rf.fit(train)"
      ],
      "execution_count": 46,
      "outputs": []
    },
    {
      "cell_type": "markdown",
      "metadata": {
        "id": "9at6mz78mK4v"
      },
      "source": [
        "Fit the model and predict on the test data."
      ]
    },
    {
      "cell_type": "code",
      "metadata": {
        "id": "8FhL9nJiIAXG",
        "colab": {
          "base_uri": "https://localhost:8080/"
        },
        "outputId": "d5a8a7bf-ae0b-45c3-c753-937359c19d86"
      },
      "source": [
        "#Answer below:\n",
        "predictions = rf_model.transform(test)\n",
        "predictions.show(10)"
      ],
      "execution_count": 47,
      "outputs": [
        {
          "output_type": "stream",
          "text": [
            "+---------+------+-----+--------------------------------+------------------------------+-------------------------------+-------------+--------------+-------------+----------------------------------+----------------+----------------+----------------+----------------+----------+----------+----------+----------+----------+----------+----------+----------+----------+-----------+-----------+-----------+-----------+-----------+-----------+-----------+-----------+-----------+-----------+-----------+-----------+-----------+-----------+-----------+-----------+-----------+-----------+-----------+-----------+-----------+-----------+-----------+-----------+-----------+-----------+-----------+-----------+-----------+-----------+-----------+----------+--------------------+--------------------+--------------------+----------+\n",
            "|Elevation|Aspect|Slope|Horizontal_Distance_To_Hydrology|Vertical_Distance_To_Hydrology|Horizontal_Distance_To_Roadways|Hillshade_9am|Hillshade_Noon|Hillshade_3pm|Horizontal_Distance_To_Fire_Points|Wilderness_Area1|Wilderness_Area2|Wilderness_Area3|Wilderness_Area4|Soil_Type1|Soil_Type2|Soil_Type3|Soil_Type4|Soil_Type5|Soil_Type6|Soil_Type7|Soil_Type8|Soil_Type9|Soil_Type10|Soil_Type11|Soil_Type12|Soil_Type13|Soil_Type14|Soil_Type15|Soil_Type16|Soil_Type17|Soil_Type18|Soil_Type19|Soil_Type20|Soil_Type21|Soil_Type22|Soil_Type23|Soil_Type24|Soil_Type25|Soil_Type26|Soil_Type27|Soil_Type28|Soil_Type29|Soil_Type30|Soil_Type31|Soil_Type32|Soil_Type33|Soil_Type34|Soil_Type35|Soil_Type36|Soil_Type37|Soil_Type38|Soil_Type39|Soil_Type40|Cover_Type|            features|       rawPrediction|         probability|prediction|\n",
            "+---------+------+-----+--------------------------------+------------------------------+-------------------------------+-------------+--------------+-------------+----------------------------------+----------------+----------------+----------------+----------------+----------+----------+----------+----------+----------+----------+----------+----------+----------+-----------+-----------+-----------+-----------+-----------+-----------+-----------+-----------+-----------+-----------+-----------+-----------+-----------+-----------+-----------+-----------+-----------+-----------+-----------+-----------+-----------+-----------+-----------+-----------+-----------+-----------+-----------+-----------+-----------+-----------+-----------+----------+--------------------+--------------------+--------------------+----------+\n",
            "|     1861|    35|   14|                              60|                            11|                             85|          218|           209|          124|                               832|               0|               0|               0|               1|         0|         1|         0|         0|         0|         0|         0|         0|         0|          0|          0|          0|          0|          0|          0|          0|          0|          0|          0|          0|          0|          0|          0|          0|          0|          0|          0|          0|          0|          0|          0|          0|          0|          0|          0|          0|          0|          0|          0|          0|         3|(54,[0,1,2,3,4,5,...|[0.0,1.3410653663...|[0.0,0.0670532683...|       3.0|\n",
            "|     1863|    37|   17|                             120|                            18|                             90|          217|           202|          115|                               769|               0|               0|               0|               1|         0|         1|         0|         0|         0|         0|         0|         0|         0|          0|          0|          0|          0|          0|          0|          0|          0|          0|          0|          0|          0|          0|          0|          0|          0|          0|          0|          0|          0|          0|          0|          0|          0|          0|          0|          0|          0|          0|          0|          0|         6|(54,[0,1,2,3,4,5,...|[0.0,1.3410653663...|[0.0,0.0670532683...|       3.0|\n",
            "|     1868|    27|   16|                              67|                            17|                             95|          212|           204|          125|                               859|               0|               0|               0|               1|         0|         1|         0|         0|         0|         0|         0|         0|         0|          0|          0|          0|          0|          0|          0|          0|          0|          0|          0|          0|          0|          0|          0|          0|          0|          0|          0|          0|          0|          0|          0|          0|          0|          0|          0|          0|          0|          0|          0|          0|         3|(54,[0,1,2,3,4,5,...|[0.0,1.3410653663...|[0.0,0.0670532683...|       3.0|\n",
            "|     1871|    36|   19|                             134|                            26|                            120|          215|           194|          107|                               797|               0|               0|               0|               1|         0|         1|         0|         0|         0|         0|         0|         0|         0|          0|          0|          0|          0|          0|          0|          0|          0|          0|          0|          0|          0|          0|          0|          0|          0|          0|          0|          0|          0|          0|          0|          0|          0|          0|          0|          0|          0|          0|          0|          0|         6|(54,[0,1,2,3,4,5,...|[0.0,1.3410653663...|[0.0,0.0670532683...|       3.0|\n",
            "|     1872|    12|   27|                              85|                            25|                             60|          182|           174|          118|                               577|               0|               0|               0|               1|         0|         0|         0|         0|         1|         0|         0|         0|         0|          0|          0|          0|          0|          0|          0|          0|          0|          0|          0|          0|          0|          0|          0|          0|          0|          0|          0|          0|          0|          0|          0|          0|          0|          0|          0|          0|          0|          0|          0|          0|         6|(54,[0,1,2,3,4,5,...|[0.0,1.4788104063...|[0.0,0.0739405203...|       3.0|\n",
            "|     1872|    27|   21|                             108|                            30|                             67|          206|           190|          112|                               713|               0|               0|               0|               1|         0|         1|         0|         0|         0|         0|         0|         0|         0|          0|          0|          0|          0|          0|          0|          0|          0|          0|          0|          0|          0|          0|          0|          0|          0|          0|          0|          0|          0|          0|          0|          0|          0|          0|          0|          0|          0|          0|          0|          0|         6|(54,[0,1,2,3,4,5,...|[0.0,1.3410653663...|[0.0,0.0670532683...|       3.0|\n",
            "|     1879|    23|   18|                             108|                            28|                            134|          207|           200|          124|                               875|               0|               0|               0|               1|         0|         1|         0|         0|         0|         0|         0|         0|         0|          0|          0|          0|          0|          0|          0|          0|          0|          0|          0|          0|          0|          0|          0|          0|          0|          0|          0|          0|          0|          0|          0|          0|          0|          0|          0|          0|          0|          0|          0|          0|         3|(54,[0,1,2,3,4,5,...|[0.0,1.3410653663...|[0.0,0.0670532683...|       3.0|\n",
            "|     1880|    13|   23|                              90|                            29|                             67|          191|           187|          126|                               664|               0|               0|               0|               1|         0|         1|         0|         0|         0|         0|         0|         0|         0|          0|          0|          0|          0|          0|          0|          0|          0|          0|          0|          0|          0|          0|          0|          0|          0|          0|          0|          0|          0|          0|          0|          0|          0|          0|          0|          0|          0|          0|          0|          0|         6|(54,[0,1,2,3,4,5,...|[0.0,1.3410653663...|[0.0,0.0670532683...|       3.0|\n",
            "|     1882|   330|   18|                               0|                             0|                            120|          174|           215|          180|                               782|               0|               0|               0|               1|         0|         0|         0|         0|         1|         0|         0|         0|         0|          0|          0|          0|          0|          0|          0|          0|          0|          0|          0|          0|          0|          0|          0|          0|          0|          0|          0|          0|          0|          0|          0|          0|          0|          0|          0|          0|          0|          0|          0|          0|         6|(54,[0,1,2,5,6,7,...|[0.0,1.4788104063...|[0.0,0.0739405203...|       3.0|\n",
            "|     1883|    22|   26|                              85|                            32|                             67|          194|           175|          106|                               618|               0|               0|               0|               1|         0|         0|         0|         0|         1|         0|         0|         0|         0|          0|          0|          0|          0|          0|          0|          0|          0|          0|          0|          0|          0|          0|          0|          0|          0|          0|          0|          0|          0|          0|          0|          0|          0|          0|          0|          0|          0|          0|          0|          0|         6|(54,[0,1,2,3,4,5,...|[0.0,1.4788104063...|[0.0,0.0739405203...|       3.0|\n",
            "+---------+------+-----+--------------------------------+------------------------------+-------------------------------+-------------+--------------+-------------+----------------------------------+----------------+----------------+----------------+----------------+----------+----------+----------+----------+----------+----------+----------+----------+----------+-----------+-----------+-----------+-----------+-----------+-----------+-----------+-----------+-----------+-----------+-----------+-----------+-----------+-----------+-----------+-----------+-----------+-----------+-----------+-----------+-----------+-----------+-----------+-----------+-----------+-----------+-----------+-----------+-----------+-----------+-----------+----------+--------------------+--------------------+--------------------+----------+\n",
            "only showing top 10 rows\n",
            "\n"
          ],
          "name": "stdout"
        }
      ]
    },
    {
      "cell_type": "markdown",
      "metadata": {
        "id": "I6TyrGJsmULB"
      },
      "source": [
        "Build a classification matrix to review the model preformance with the data test set."
      ]
    },
    {
      "cell_type": "code",
      "metadata": {
        "id": "A3D-XbnTjTNT"
      },
      "source": [
        "from sklearn.metrics import confusion_matrix\n",
        "#Answer below:\n"
      ],
      "execution_count": 48,
      "outputs": []
    },
    {
      "cell_type": "code",
      "metadata": {
        "id": "yOMVb_TxLIBr",
        "colab": {
          "base_uri": "https://localhost:8080/"
        },
        "outputId": "a515d9bf-e8fd-421f-cd95-2ac0d15701fc"
      },
      "source": [
        "test_ = predictions.select('Cover_Type')\r\n",
        "test_pred = predictions.select('prediction')\r\n",
        "\r\n",
        "confusion_matrix(test_.collect(), test_pred.collect())"
      ],
      "execution_count": 49,
      "outputs": [
        {
          "output_type": "execute_result",
          "data": {
            "text/plain": [
              "array([[61031, 23367,     0,     0,     0,     0,     0],\n",
              "       [25069, 87659,   676,     0,     0,     0,     0],\n",
              "       [    0,  6150,  8375,     0,     0,     0,     0],\n",
              "       [    0,    23,  1103,     0,     0,     0,     0],\n",
              "       [    0,  3805,     0,     0,     0,     0,     0],\n",
              "       [    0,  3165,  3765,     0,     0,     0,     0],\n",
              "       [ 8031,   143,     0,     0,     0,     0,     0]])"
            ]
          },
          "metadata": {
            "tags": []
          },
          "execution_count": 49
        }
      ]
    }
  ]
}