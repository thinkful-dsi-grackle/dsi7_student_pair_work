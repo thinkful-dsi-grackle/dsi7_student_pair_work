{
  "nbformat": 4,
  "nbformat_minor": 0,
  "metadata": {
    "colab": {
      "name": "kalik aof Day_83_Machine_Learning_in_Spark_Lecture_2_Assignment.ipynb",
      "provenance": [],
      "collapsed_sections": []
    },
    "kernelspec": {
      "name": "python3",
      "display_name": "Python 3"
    }
  },
  "cells": [
    {
      "cell_type": "markdown",
      "metadata": {
        "id": "Ry4VDk_llCLY"
      },
      "source": [
        "## Day 83 Lecture 2 Assignment\n",
        "\n",
        "In this assignment, we will learn about Spark and MLLib.\n",
        "\n",
        "\n"
      ]
    },
    {
      "cell_type": "markdown",
      "metadata": {
        "id": "dNByDud4iU40"
      },
      "source": [
        "Update the Google Compute Engine."
      ]
    },
    {
      "cell_type": "code",
      "metadata": {
        "id": "NIxqnOXGS1OX",
        "colab": {
          "base_uri": "https://localhost:8080/"
        },
        "outputId": "aaab6dab-ced0-4bac-e515-652be00b63b1"
      },
      "source": [
        "! apt-get update"
      ],
      "execution_count": 55,
      "outputs": [
        {
          "output_type": "stream",
          "text": [
            "\r0% [Working]\r            \rGet:1 http://ppa.launchpad.net/c2d4u.team/c2d4u4.0+/ubuntu bionic InRelease [15.9 kB]\n",
            "\r0% [Waiting for headers] [Connecting to security.ubuntu.com (91.189.91.38)] [Co\r                                                                               \rHit:2 http://archive.ubuntu.com/ubuntu bionic InRelease\n",
            "\r0% [Waiting for headers] [Connecting to security.ubuntu.com (91.189.91.38)] [Co\r0% [Waiting for headers] [Connecting to security.ubuntu.com (91.189.91.38)] [Co\r0% [2 InRelease gpgv 242 kB] [Waiting for headers] [Connecting to security.ubun\r                                                                               \rGet:3 http://archive.ubuntu.com/ubuntu bionic-updates InRelease [88.7 kB]\n",
            "\r0% [2 InRelease gpgv 242 kB] [3 InRelease 14.2 kB/88.7 kB 16%] [Connecting to s\r                                                                               \rHit:4 http://ppa.launchpad.net/cran/libgit2/ubuntu bionic InRelease\n",
            "\r0% [2 InRelease gpgv 242 kB] [3 InRelease 75.0 kB/88.7 kB 85%] [Connecting to s\r0% [2 InRelease gpgv 242 kB] [Waiting for headers] [Connecting to security.ubun\r                                                                               \rGet:5 https://cloud.r-project.org/bin/linux/ubuntu bionic-cran40/ InRelease [3,626 B]\n",
            "\r0% [2 InRelease gpgv 242 kB] [Waiting for headers] [Connecting to security.ubun\r0% [2 InRelease gpgv 242 kB] [Waiting for headers] [Connecting to security.ubun\r                                                                               \rGet:6 http://archive.ubuntu.com/ubuntu bionic-backports InRelease [74.6 kB]\n",
            "Hit:7 http://ppa.launchpad.net/graphics-drivers/ppa/ubuntu bionic InRelease\n",
            "Get:8 http://security.ubuntu.com/ubuntu bionic-security InRelease [88.7 kB]\n",
            "Ign:9 https://developer.download.nvidia.com/compute/cuda/repos/ubuntu1804/x86_64  InRelease\n",
            "Ign:10 https://developer.download.nvidia.com/compute/machine-learning/repos/ubuntu1804/x86_64  InRelease\n",
            "Hit:11 https://developer.download.nvidia.com/compute/cuda/repos/ubuntu1804/x86_64  Release\n",
            "Hit:12 https://developer.download.nvidia.com/compute/machine-learning/repos/ubuntu1804/x86_64  Release\n",
            "Get:13 http://ppa.launchpad.net/c2d4u.team/c2d4u4.0+/ubuntu bionic/main Sources [1,708 kB]\n",
            "Get:14 http://ppa.launchpad.net/c2d4u.team/c2d4u4.0+/ubuntu bionic/main amd64 Packages [874 kB]\n",
            "Get:15 http://archive.ubuntu.com/ubuntu bionic-updates/universe amd64 Packages [2,140 kB]\n",
            "Get:16 http://archive.ubuntu.com/ubuntu bionic-updates/main amd64 Packages [2,298 kB]\n",
            "Fetched 7,292 kB in 2s (3,461 kB/s)\n",
            "Reading package lists... Done\n"
          ],
          "name": "stdout"
        }
      ]
    },
    {
      "cell_type": "markdown",
      "metadata": {
        "id": "4XJYeAHeihaf"
      },
      "source": [
        "Run the cells below to start a spark session."
      ]
    },
    {
      "cell_type": "code",
      "metadata": {
        "id": "wen6A2I2RYVV"
      },
      "source": [
        "!apt-get install openjdk-8-jdk-headless -qq > /dev/null\n",
        "!wget -q https://archive.apache.org/dist/spark/spark-2.4.6/spark-2.4.6-bin-hadoop2.7.tgz\n",
        "!tar xf spark-2.4.6-bin-hadoop2.7.tgz"
      ],
      "execution_count": 56,
      "outputs": []
    },
    {
      "cell_type": "markdown",
      "metadata": {
        "id": "zm3pHHHxNmkW"
      },
      "source": [
        "Set up the environmental variables."
      ]
    },
    {
      "cell_type": "code",
      "metadata": {
        "id": "VW40H37fIb0t"
      },
      "source": [
        "import os\n",
        "os.environ[\"JAVA_HOME\"] = \"/usr/lib/jvm/java-8-openjdk-amd64\"\n",
        "os.environ[\"SPARK_HOME\"] = \"/content/spark-2.4.6-bin-hadoop2.7\""
      ],
      "execution_count": 57,
      "outputs": []
    },
    {
      "cell_type": "markdown",
      "metadata": {
        "id": "1vdAA2aoNqhz"
      },
      "source": [
        "Install Pyspark. ***Note: The version must match the version of Spark that you have installed earlier***."
      ]
    },
    {
      "cell_type": "code",
      "metadata": {
        "id": "274gUgKyIjnC",
        "colab": {
          "base_uri": "https://localhost:8080/"
        },
        "outputId": "6e2dc575-b249-4be2-d628-02804c8dd826"
      },
      "source": [
        "!pip install -q findspark\n",
        "!pip install pyspark==2.4.6"
      ],
      "execution_count": 58,
      "outputs": [
        {
          "output_type": "stream",
          "text": [
            "Requirement already satisfied: pyspark==2.4.6 in /usr/local/lib/python3.6/dist-packages (2.4.6)\n",
            "Requirement already satisfied: py4j==0.10.7 in /usr/local/lib/python3.6/dist-packages (from pyspark==2.4.6) (0.10.7)\n"
          ],
          "name": "stdout"
        }
      ]
    },
    {
      "cell_type": "markdown",
      "metadata": {
        "id": "AtsLvt2JlI7X"
      },
      "source": [
        "Download and save the video games sales CSV file to your Colab Data folder on Google Drive. \n",
        "\n",
        "The file can be downloaded from link [here](https://tf-assets-prod.s3.amazonaws.com/tf-curric/data-science/Data%20Sets%20Big%20Data/Video_Games_Sales_as_at_22_Dec_2016.csv), download it and save it to your Google Colab Data folder on gdrive.\n"
      ]
    },
    {
      "cell_type": "markdown",
      "metadata": {
        "id": "M1TXjLAWN3Wd"
      },
      "source": [
        "Mount your Google drive for access in Google Colab Notebooks."
      ]
    },
    {
      "cell_type": "code",
      "metadata": {
        "id": "uFXDtsaOIsLI",
        "colab": {
          "base_uri": "https://localhost:8080/"
        },
        "outputId": "4cbfb18d-c3a9-4ac6-81f2-52c54e587be8"
      },
      "source": [
        "from google.colab import drive\n",
        "drive.mount('/content/gdrive')"
      ],
      "execution_count": 59,
      "outputs": [
        {
          "output_type": "stream",
          "text": [
            "Drive already mounted at /content/gdrive; to attempt to forcibly remount, call drive.mount(\"/content/gdrive\", force_remount=True).\n"
          ],
          "name": "stdout"
        }
      ]
    },
    {
      "cell_type": "markdown",
      "metadata": {
        "id": "aIuuMcVvPH9l"
      },
      "source": [
        "Change your directory to the Colab Data folder where you saved the CSV file."
      ]
    },
    {
      "cell_type": "code",
      "metadata": {
        "id": "X8_ke5oAkBU6"
      },
      "source": [
        "os.chdir('/content/gdrive/MyDrive/Thinkful/Data')"
      ],
      "execution_count": 60,
      "outputs": []
    },
    {
      "cell_type": "markdown",
      "metadata": {
        "id": "hcU6yqpgO_of"
      },
      "source": [
        "Set your local session."
      ]
    },
    {
      "cell_type": "code",
      "metadata": {
        "id": "BRiTkZyDebpj"
      },
      "source": [
        "APP_NAME = \"Day83\"\n",
        "SPARK_URL = \"local[*]\""
      ],
      "execution_count": 61,
      "outputs": []
    },
    {
      "cell_type": "markdown",
      "metadata": {
        "id": "Lkb7U6V5ioAP"
      },
      "source": [
        "Run the cells below to start a spark session."
      ]
    },
    {
      "cell_type": "code",
      "metadata": {
        "id": "flNZrdlNDuas"
      },
      "source": [
        "from pyspark.sql import SparkSession\n",
        "spark = SparkSession.builder.appName(APP_NAME).getOrCreate()"
      ],
      "execution_count": 62,
      "outputs": []
    },
    {
      "cell_type": "markdown",
      "metadata": {
        "id": "Ux-rFpwBimqD"
      },
      "source": [
        "List all the files in your directory."
      ]
    },
    {
      "cell_type": "code",
      "metadata": {
        "id": "HEln8x7hx7H-",
        "colab": {
          "base_uri": "https://localhost:8080/",
          "height": 35
        },
        "outputId": "e5d7a00e-4b0e-4444-82dc-1d946eda92de"
      },
      "source": [
        "# Answer below:\n",
        "os.getcwd()\n"
      ],
      "execution_count": 63,
      "outputs": [
        {
          "output_type": "execute_result",
          "data": {
            "application/vnd.google.colaboratory.intrinsic+json": {
              "type": "string"
            },
            "text/plain": [
              "'/content/gdrive/MyDrive/Thinkful/Data'"
            ]
          },
          "metadata": {
            "tags": []
          },
          "execution_count": 63
        }
      ]
    },
    {
      "cell_type": "markdown",
      "metadata": {
        "id": "yo2CIL4XPRzn"
      },
      "source": [
        "Load the CSV file as a Spark dataframe."
      ]
    },
    {
      "cell_type": "code",
      "metadata": {
        "id": "wvrsUPFKUgWJ"
      },
      "source": [
        "video = spark.read.format(\"csv\").option(\"header\", \"true\").option(\"inferSchema\", \"true\").load(\"Video_Games_Sales_as_at_22_Dec_2016.csv\")"
      ],
      "execution_count": 64,
      "outputs": []
    },
    {
      "cell_type": "markdown",
      "metadata": {
        "id": "j1OiHvakqnM1"
      },
      "source": [
        "Review the data by applying the show command."
      ]
    },
    {
      "cell_type": "code",
      "metadata": {
        "id": "0yzV32sgqidJ",
        "colab": {
          "base_uri": "https://localhost:8080/"
        },
        "outputId": "9d3f3540-0818-4df7-e621-876fa7c46ee2"
      },
      "source": [
        "# Answer below:\r\n",
        "video.show()"
      ],
      "execution_count": 65,
      "outputs": [
        {
          "output_type": "stream",
          "text": [
            "+--------------------+--------+---------------+------------+--------------------+--------+--------+--------+-----------+------------+------------+------------+----------+----------+-------------------+------+\n",
            "|                Name|Platform|Year_of_Release|       Genre|           Publisher|NA_Sales|EU_Sales|JP_Sales|Other_Sales|Global_Sales|Critic_Score|Critic_Count|User_Score|User_Count|          Developer|Rating|\n",
            "+--------------------+--------+---------------+------------+--------------------+--------+--------+--------+-----------+------------+------------+------------+----------+----------+-------------------+------+\n",
            "|          Wii Sports|     Wii|           2006|      Sports|            Nintendo|   41.36|   28.96|    3.77|       8.45|       82.53|          76|          51|         8|       322|           Nintendo|     E|\n",
            "|   Super Mario Bros.|     NES|           1985|    Platform|            Nintendo|   29.08|    3.58|    6.81|       0.77|       40.24|        null|        null|      null|      null|               null|  null|\n",
            "|      Mario Kart Wii|     Wii|           2008|      Racing|            Nintendo|   15.68|   12.76|    3.79|       3.29|       35.52|          82|          73|       8.3|       709|           Nintendo|     E|\n",
            "|   Wii Sports Resort|     Wii|           2009|      Sports|            Nintendo|   15.61|   10.93|    3.28|       2.95|       32.77|          80|          73|         8|       192|           Nintendo|     E|\n",
            "|Pokemon Red/Pokem...|      GB|           1996|Role-Playing|            Nintendo|   11.27|    8.89|   10.22|        1.0|       31.37|        null|        null|      null|      null|               null|  null|\n",
            "|              Tetris|      GB|           1989|      Puzzle|            Nintendo|    23.2|    2.26|    4.22|       0.58|       30.26|        null|        null|      null|      null|               null|  null|\n",
            "|New Super Mario B...|      DS|           2006|    Platform|            Nintendo|   11.28|    9.14|     6.5|       2.88|        29.8|          89|          65|       8.5|       431|           Nintendo|     E|\n",
            "|            Wii Play|     Wii|           2006|        Misc|            Nintendo|   13.96|    9.18|    2.93|       2.84|       28.92|          58|          41|       6.6|       129|           Nintendo|     E|\n",
            "|New Super Mario B...|     Wii|           2009|    Platform|            Nintendo|   14.44|    6.94|     4.7|       2.24|       28.32|          87|          80|       8.4|       594|           Nintendo|     E|\n",
            "|           Duck Hunt|     NES|           1984|     Shooter|            Nintendo|   26.93|    0.63|    0.28|       0.47|       28.31|        null|        null|      null|      null|               null|  null|\n",
            "|          Nintendogs|      DS|           2005|  Simulation|            Nintendo|    9.05|   10.95|    1.93|       2.74|       24.67|        null|        null|      null|      null|               null|  null|\n",
            "|       Mario Kart DS|      DS|           2005|      Racing|            Nintendo|    9.71|    7.47|    4.13|        1.9|       23.21|          91|          64|       8.6|       464|           Nintendo|     E|\n",
            "|Pokemon Gold/Poke...|      GB|           1999|Role-Playing|            Nintendo|     9.0|    6.18|     7.2|       0.71|        23.1|        null|        null|      null|      null|               null|  null|\n",
            "|             Wii Fit|     Wii|           2007|      Sports|            Nintendo|    8.92|    8.03|     3.6|       2.15|        22.7|          80|          63|       7.7|       146|           Nintendo|     E|\n",
            "|  Kinect Adventures!|    X360|           2010|        Misc|Microsoft Game St...|    15.0|    4.89|    0.24|       1.69|       21.81|          61|          45|       6.3|       106|Good Science Studio|     E|\n",
            "|        Wii Fit Plus|     Wii|           2009|      Sports|            Nintendo|    9.01|    8.49|    2.53|       1.77|       21.79|          80|          33|       7.4|        52|           Nintendo|     E|\n",
            "|  Grand Theft Auto V|     PS3|           2013|      Action|Take-Two Interactive|    7.02|    9.09|    0.98|       3.96|       21.04|          97|          50|       8.2|      3994|     Rockstar North|     M|\n",
            "|Grand Theft Auto:...|     PS2|           2004|      Action|Take-Two Interactive|    9.43|     0.4|    0.41|      10.57|       20.81|          95|          80|         9|      1588|     Rockstar North|     M|\n",
            "|   Super Mario World|    SNES|           1990|    Platform|            Nintendo|   12.78|    3.75|    3.54|       0.55|       20.61|        null|        null|      null|      null|               null|  null|\n",
            "|Brain Age: Train ...|      DS|           2005|        Misc|            Nintendo|    4.74|     9.2|    4.16|       2.04|       20.15|          77|          58|       7.9|        50|           Nintendo|     E|\n",
            "+--------------------+--------+---------------+------------+--------------------+--------+--------+--------+-----------+------------+------------+------------+----------+----------+-------------------+------+\n",
            "only showing top 20 rows\n",
            "\n"
          ],
          "name": "stdout"
        }
      ]
    },
    {
      "cell_type": "markdown",
      "metadata": {
        "id": "d9_58zZnQ4m8"
      },
      "source": [
        "We will predict global sales using a number of variables in this dataset. We will start by removing all missing data (though we know that this will make the dataset significantly smaller). Drop all the missing values using dropna."
      ]
    },
    {
      "cell_type": "code",
      "metadata": {
        "id": "dnKVtUnoKtS9"
      },
      "source": [
        "# Answer below:\n",
        "video = video.dropna()\n"
      ],
      "execution_count": 66,
      "outputs": []
    },
    {
      "cell_type": "markdown",
      "metadata": {
        "id": "_CgzqoLDw5aU"
      },
      "source": [
        "Get the unique values for Genre.\n"
      ]
    },
    {
      "cell_type": "code",
      "metadata": {
        "id": "1bhnicFVw8uN",
        "colab": {
          "base_uri": "https://localhost:8080/"
        },
        "outputId": "86fe5b70-25ab-412a-b13d-c001d5dd8347"
      },
      "source": [
        "distinct_g = [x.Genre for x in video.select('Genre').distinct().collect()]\n",
        "len(distinct_g)"
      ],
      "execution_count": 67,
      "outputs": [
        {
          "output_type": "execute_result",
          "data": {
            "text/plain": [
              "12"
            ]
          },
          "metadata": {
            "tags": []
          },
          "execution_count": 67
        }
      ]
    },
    {
      "cell_type": "markdown",
      "metadata": {
        "id": "X06gNwR0V2Q3"
      },
      "source": [
        "Next, we will create dummy variables for the genre. Create these variables using the `OneHotEncoder` provided in spark."
      ]
    },
    {
      "cell_type": "code",
      "metadata": {
        "id": "CpRz8gMHV1jS"
      },
      "source": [
        "# Answer below:\n",
        "\n",
        "\n",
        "from pyspark.ml.feature import OneHotEncoder, StringIndexer\n",
        "\n",
        "stringIndexer = StringIndexer(inputCol=\"Genre\", outputCol=\"GenreIndex\")\n",
        "model = stringIndexer.fit(video)\n",
        "indexed = model.transform(video)\n",
        "encoder = OneHotEncoder( inputCol=\"GenreIndex\", outputCol=\"GenreVec\")\n",
        "encoded = encoder.transform(indexed)\n"
      ],
      "execution_count": 68,
      "outputs": []
    },
    {
      "cell_type": "code",
      "metadata": {
        "id": "4_5HOoEsWt96",
        "colab": {
          "base_uri": "https://localhost:8080/"
        },
        "outputId": "b37f898a-45d2-4a7e-dd0e-724c7bcc39b8"
      },
      "source": [
        "encoded.show()"
      ],
      "execution_count": 69,
      "outputs": [
        {
          "output_type": "stream",
          "text": [
            "+--------------------+--------+---------------+--------+--------------------+--------+--------+--------+-----------+------------+------------+------------+----------+----------+--------------------+------+----------+--------------+\n",
            "|                Name|Platform|Year_of_Release|   Genre|           Publisher|NA_Sales|EU_Sales|JP_Sales|Other_Sales|Global_Sales|Critic_Score|Critic_Count|User_Score|User_Count|           Developer|Rating|GenreIndex|      GenreVec|\n",
            "+--------------------+--------+---------------+--------+--------------------+--------+--------+--------+-----------+------------+------------+------------+----------+----------+--------------------+------+----------+--------------+\n",
            "|          Wii Sports|     Wii|           2006|  Sports|            Nintendo|   41.36|   28.96|    3.77|       8.45|       82.53|          76|          51|         8|       322|            Nintendo|     E|       1.0|(11,[1],[1.0])|\n",
            "|      Mario Kart Wii|     Wii|           2008|  Racing|            Nintendo|   15.68|   12.76|    3.79|       3.29|       35.52|          82|          73|       8.3|       709|            Nintendo|     E|       4.0|(11,[4],[1.0])|\n",
            "|   Wii Sports Resort|     Wii|           2009|  Sports|            Nintendo|   15.61|   10.93|    3.28|       2.95|       32.77|          80|          73|         8|       192|            Nintendo|     E|       1.0|(11,[1],[1.0])|\n",
            "|New Super Mario B...|      DS|           2006|Platform|            Nintendo|   11.28|    9.14|     6.5|       2.88|        29.8|          89|          65|       8.5|       431|            Nintendo|     E|       5.0|(11,[5],[1.0])|\n",
            "|            Wii Play|     Wii|           2006|    Misc|            Nintendo|   13.96|    9.18|    2.93|       2.84|       28.92|          58|          41|       6.6|       129|            Nintendo|     E|       6.0|(11,[6],[1.0])|\n",
            "|New Super Mario B...|     Wii|           2009|Platform|            Nintendo|   14.44|    6.94|     4.7|       2.24|       28.32|          87|          80|       8.4|       594|            Nintendo|     E|       5.0|(11,[5],[1.0])|\n",
            "|       Mario Kart DS|      DS|           2005|  Racing|            Nintendo|    9.71|    7.47|    4.13|        1.9|       23.21|          91|          64|       8.6|       464|            Nintendo|     E|       4.0|(11,[4],[1.0])|\n",
            "|             Wii Fit|     Wii|           2007|  Sports|            Nintendo|    8.92|    8.03|     3.6|       2.15|        22.7|          80|          63|       7.7|       146|            Nintendo|     E|       1.0|(11,[1],[1.0])|\n",
            "|  Kinect Adventures!|    X360|           2010|    Misc|Microsoft Game St...|    15.0|    4.89|    0.24|       1.69|       21.81|          61|          45|       6.3|       106| Good Science Studio|     E|       6.0|(11,[6],[1.0])|\n",
            "|        Wii Fit Plus|     Wii|           2009|  Sports|            Nintendo|    9.01|    8.49|    2.53|       1.77|       21.79|          80|          33|       7.4|        52|            Nintendo|     E|       1.0|(11,[1],[1.0])|\n",
            "|  Grand Theft Auto V|     PS3|           2013|  Action|Take-Two Interactive|    7.02|    9.09|    0.98|       3.96|       21.04|          97|          50|       8.2|      3994|      Rockstar North|     M|       0.0|(11,[0],[1.0])|\n",
            "|Grand Theft Auto:...|     PS2|           2004|  Action|Take-Two Interactive|    9.43|     0.4|    0.41|      10.57|       20.81|          95|          80|         9|      1588|      Rockstar North|     M|       0.0|(11,[0],[1.0])|\n",
            "|Brain Age: Train ...|      DS|           2005|    Misc|            Nintendo|    4.74|     9.2|    4.16|       2.04|       20.15|          77|          58|       7.9|        50|            Nintendo|     E|       6.0|(11,[6],[1.0])|\n",
            "|  Grand Theft Auto V|    X360|           2013|  Action|Take-Two Interactive|    9.66|    5.14|    0.06|       1.41|       16.27|          97|          58|       8.1|      3711|      Rockstar North|     M|       0.0|(11,[0],[1.0])|\n",
            "|Grand Theft Auto:...|     PS2|           2002|  Action|Take-Two Interactive|    8.41|    5.49|    0.47|       1.78|       16.15|          95|          62|       8.7|       730|      Rockstar North|     M|       0.0|(11,[0],[1.0])|\n",
            "|Brain Age 2: More...|      DS|           2005|  Puzzle|            Nintendo|    3.43|    5.35|    5.32|       1.18|       15.29|          77|          37|       7.1|        19|            Nintendo|     E|      11.0|    (11,[],[])|\n",
            "|Gran Turismo 3: A...|     PS2|           2001|  Racing|Sony Computer Ent...|    6.85|    5.09|    1.87|       1.16|       14.98|          95|          54|       8.4|       314|   Polyphony Digital|     E|       4.0|(11,[4],[1.0])|\n",
            "|Call of Duty: Mod...|    X360|           2011| Shooter|          Activision|    9.04|    4.24|    0.13|       1.32|       14.73|          88|          81|       3.4|      8713|Infinity Ward, Sl...|     M|       2.0|(11,[2],[1.0])|\n",
            "|Call of Duty: Bla...|    X360|           2010| Shooter|          Activision|     9.7|    3.68|    0.11|       1.13|       14.61|          87|          89|       6.3|      1454|            Treyarch|     M|       2.0|(11,[2],[1.0])|\n",
            "|Call of Duty: Bla...|     PS3|           2012| Shooter|          Activision|    4.99|    5.73|    0.65|       2.42|       13.79|          83|          21|       5.3|       922|            Treyarch|     M|       2.0|(11,[2],[1.0])|\n",
            "+--------------------+--------+---------------+--------+--------------------+--------+--------+--------+-----------+------------+------------+------------+----------+----------+--------------------+------+----------+--------------+\n",
            "only showing top 20 rows\n",
            "\n"
          ],
          "name": "stdout"
        }
      ]
    },
    {
      "cell_type": "markdown",
      "metadata": {
        "id": "MiQXmq_fXntw"
      },
      "source": [
        "Convert the critic score and the user score to a number between 0 and 1 by dividing by 100. "
      ]
    },
    {
      "cell_type": "code",
      "metadata": {
        "id": "-VgfllC7XPKP"
      },
      "source": [
        "# Answer below:\n",
        "\n",
        "from pyspark.sql.functions import lit, col\n",
        "\n",
        "video = encoded.withColumn('critic_percent', video['Critic_Score'] / lit(100))"
      ],
      "execution_count": 70,
      "outputs": []
    },
    {
      "cell_type": "code",
      "metadata": {
        "colab": {
          "base_uri": "https://localhost:8080/"
        },
        "id": "f2lNP3FFHnpM",
        "outputId": "fe3db305-4fde-4d4e-f686-e5f919b33874"
      },
      "source": [
        "video_percent = video.withColumn('user_percent', video['User_Score'] / lit(100))\r\n",
        "video_percent.show()"
      ],
      "execution_count": 71,
      "outputs": [
        {
          "output_type": "stream",
          "text": [
            "+--------------------+--------+---------------+--------+--------------------+--------+--------+--------+-----------+------------+------------+------------+----------+----------+--------------------+------+----------+--------------+--------------+-------------------+\n",
            "|                Name|Platform|Year_of_Release|   Genre|           Publisher|NA_Sales|EU_Sales|JP_Sales|Other_Sales|Global_Sales|Critic_Score|Critic_Count|User_Score|User_Count|           Developer|Rating|GenreIndex|      GenreVec|critic_percent|       user_percent|\n",
            "+--------------------+--------+---------------+--------+--------------------+--------+--------+--------+-----------+------------+------------+------------+----------+----------+--------------------+------+----------+--------------+--------------+-------------------+\n",
            "|          Wii Sports|     Wii|           2006|  Sports|            Nintendo|   41.36|   28.96|    3.77|       8.45|       82.53|          76|          51|         8|       322|            Nintendo|     E|       1.0|(11,[1],[1.0])|          0.76|               0.08|\n",
            "|      Mario Kart Wii|     Wii|           2008|  Racing|            Nintendo|   15.68|   12.76|    3.79|       3.29|       35.52|          82|          73|       8.3|       709|            Nintendo|     E|       4.0|(11,[4],[1.0])|          0.82|              0.083|\n",
            "|   Wii Sports Resort|     Wii|           2009|  Sports|            Nintendo|   15.61|   10.93|    3.28|       2.95|       32.77|          80|          73|         8|       192|            Nintendo|     E|       1.0|(11,[1],[1.0])|           0.8|               0.08|\n",
            "|New Super Mario B...|      DS|           2006|Platform|            Nintendo|   11.28|    9.14|     6.5|       2.88|        29.8|          89|          65|       8.5|       431|            Nintendo|     E|       5.0|(11,[5],[1.0])|          0.89|              0.085|\n",
            "|            Wii Play|     Wii|           2006|    Misc|            Nintendo|   13.96|    9.18|    2.93|       2.84|       28.92|          58|          41|       6.6|       129|            Nintendo|     E|       6.0|(11,[6],[1.0])|          0.58|              0.066|\n",
            "|New Super Mario B...|     Wii|           2009|Platform|            Nintendo|   14.44|    6.94|     4.7|       2.24|       28.32|          87|          80|       8.4|       594|            Nintendo|     E|       5.0|(11,[5],[1.0])|          0.87|              0.084|\n",
            "|       Mario Kart DS|      DS|           2005|  Racing|            Nintendo|    9.71|    7.47|    4.13|        1.9|       23.21|          91|          64|       8.6|       464|            Nintendo|     E|       4.0|(11,[4],[1.0])|          0.91|              0.086|\n",
            "|             Wii Fit|     Wii|           2007|  Sports|            Nintendo|    8.92|    8.03|     3.6|       2.15|        22.7|          80|          63|       7.7|       146|            Nintendo|     E|       1.0|(11,[1],[1.0])|           0.8|              0.077|\n",
            "|  Kinect Adventures!|    X360|           2010|    Misc|Microsoft Game St...|    15.0|    4.89|    0.24|       1.69|       21.81|          61|          45|       6.3|       106| Good Science Studio|     E|       6.0|(11,[6],[1.0])|          0.61|              0.063|\n",
            "|        Wii Fit Plus|     Wii|           2009|  Sports|            Nintendo|    9.01|    8.49|    2.53|       1.77|       21.79|          80|          33|       7.4|        52|            Nintendo|     E|       1.0|(11,[1],[1.0])|           0.8|0.07400000000000001|\n",
            "|  Grand Theft Auto V|     PS3|           2013|  Action|Take-Two Interactive|    7.02|    9.09|    0.98|       3.96|       21.04|          97|          50|       8.2|      3994|      Rockstar North|     M|       0.0|(11,[0],[1.0])|          0.97|0.08199999999999999|\n",
            "|Grand Theft Auto:...|     PS2|           2004|  Action|Take-Two Interactive|    9.43|     0.4|    0.41|      10.57|       20.81|          95|          80|         9|      1588|      Rockstar North|     M|       0.0|(11,[0],[1.0])|          0.95|               0.09|\n",
            "|Brain Age: Train ...|      DS|           2005|    Misc|            Nintendo|    4.74|     9.2|    4.16|       2.04|       20.15|          77|          58|       7.9|        50|            Nintendo|     E|       6.0|(11,[6],[1.0])|          0.77|              0.079|\n",
            "|  Grand Theft Auto V|    X360|           2013|  Action|Take-Two Interactive|    9.66|    5.14|    0.06|       1.41|       16.27|          97|          58|       8.1|      3711|      Rockstar North|     M|       0.0|(11,[0],[1.0])|          0.97|              0.081|\n",
            "|Grand Theft Auto:...|     PS2|           2002|  Action|Take-Two Interactive|    8.41|    5.49|    0.47|       1.78|       16.15|          95|          62|       8.7|       730|      Rockstar North|     M|       0.0|(11,[0],[1.0])|          0.95|              0.087|\n",
            "|Brain Age 2: More...|      DS|           2005|  Puzzle|            Nintendo|    3.43|    5.35|    5.32|       1.18|       15.29|          77|          37|       7.1|        19|            Nintendo|     E|      11.0|    (11,[],[])|          0.77|              0.071|\n",
            "|Gran Turismo 3: A...|     PS2|           2001|  Racing|Sony Computer Ent...|    6.85|    5.09|    1.87|       1.16|       14.98|          95|          54|       8.4|       314|   Polyphony Digital|     E|       4.0|(11,[4],[1.0])|          0.95|              0.084|\n",
            "|Call of Duty: Mod...|    X360|           2011| Shooter|          Activision|    9.04|    4.24|    0.13|       1.32|       14.73|          88|          81|       3.4|      8713|Infinity Ward, Sl...|     M|       2.0|(11,[2],[1.0])|          0.88|              0.034|\n",
            "|Call of Duty: Bla...|    X360|           2010| Shooter|          Activision|     9.7|    3.68|    0.11|       1.13|       14.61|          87|          89|       6.3|      1454|            Treyarch|     M|       2.0|(11,[2],[1.0])|          0.87|              0.063|\n",
            "|Call of Duty: Bla...|     PS3|           2012| Shooter|          Activision|    4.99|    5.73|    0.65|       2.42|       13.79|          83|          21|       5.3|       922|            Treyarch|     M|       2.0|(11,[2],[1.0])|          0.83|              0.053|\n",
            "+--------------------+--------+---------------+--------+--------------------+--------+--------+--------+-----------+------------+------------+------------+----------+----------+--------------------+------+----------+--------------+--------------+-------------------+\n",
            "only showing top 20 rows\n",
            "\n"
          ],
          "name": "stdout"
        }
      ]
    },
    {
      "cell_type": "markdown",
      "metadata": {
        "id": "92XImZFDYXnf"
      },
      "source": [
        "Using the vector assembler, create a vector of features using the scaled user score, the scaled critic score and the one hot encoded vector."
      ]
    },
    {
      "cell_type": "code",
      "metadata": {
        "id": "KpA7hSQsX5hR",
        "colab": {
          "base_uri": "https://localhost:8080/"
        },
        "outputId": "d7ce3986-1cc6-4e15-b233-e9a420d1aa7a"
      },
      "source": [
        "# Answer below:\n",
        "\n",
        "from pyspark.ml.linalg import Vectors\n",
        "from pyspark.ml.feature import VectorAssembler\n",
        "\n",
        "feature_cols = ['user_percent', 'critic_percent', 'GenreVec']\n",
        "assembler = VectorAssembler(inputCols=feature_cols, outputCol='features')\n",
        "\n",
        "X = assembler.transform(video_percent)\n",
        "X.show()\n"
      ],
      "execution_count": 72,
      "outputs": [
        {
          "output_type": "stream",
          "text": [
            "+--------------------+--------+---------------+--------+--------------------+--------+--------+--------+-----------+------------+------------+------------+----------+----------+--------------------+------+----------+--------------+--------------+-------------------+--------------------+\n",
            "|                Name|Platform|Year_of_Release|   Genre|           Publisher|NA_Sales|EU_Sales|JP_Sales|Other_Sales|Global_Sales|Critic_Score|Critic_Count|User_Score|User_Count|           Developer|Rating|GenreIndex|      GenreVec|critic_percent|       user_percent|            features|\n",
            "+--------------------+--------+---------------+--------+--------------------+--------+--------+--------+-----------+------------+------------+------------+----------+----------+--------------------+------+----------+--------------+--------------+-------------------+--------------------+\n",
            "|          Wii Sports|     Wii|           2006|  Sports|            Nintendo|   41.36|   28.96|    3.77|       8.45|       82.53|          76|          51|         8|       322|            Nintendo|     E|       1.0|(11,[1],[1.0])|          0.76|               0.08|(13,[0,1,3],[0.08...|\n",
            "|      Mario Kart Wii|     Wii|           2008|  Racing|            Nintendo|   15.68|   12.76|    3.79|       3.29|       35.52|          82|          73|       8.3|       709|            Nintendo|     E|       4.0|(11,[4],[1.0])|          0.82|              0.083|(13,[0,1,6],[0.08...|\n",
            "|   Wii Sports Resort|     Wii|           2009|  Sports|            Nintendo|   15.61|   10.93|    3.28|       2.95|       32.77|          80|          73|         8|       192|            Nintendo|     E|       1.0|(11,[1],[1.0])|           0.8|               0.08|(13,[0,1,3],[0.08...|\n",
            "|New Super Mario B...|      DS|           2006|Platform|            Nintendo|   11.28|    9.14|     6.5|       2.88|        29.8|          89|          65|       8.5|       431|            Nintendo|     E|       5.0|(11,[5],[1.0])|          0.89|              0.085|(13,[0,1,7],[0.08...|\n",
            "|            Wii Play|     Wii|           2006|    Misc|            Nintendo|   13.96|    9.18|    2.93|       2.84|       28.92|          58|          41|       6.6|       129|            Nintendo|     E|       6.0|(11,[6],[1.0])|          0.58|              0.066|(13,[0,1,8],[0.06...|\n",
            "|New Super Mario B...|     Wii|           2009|Platform|            Nintendo|   14.44|    6.94|     4.7|       2.24|       28.32|          87|          80|       8.4|       594|            Nintendo|     E|       5.0|(11,[5],[1.0])|          0.87|              0.084|(13,[0,1,7],[0.08...|\n",
            "|       Mario Kart DS|      DS|           2005|  Racing|            Nintendo|    9.71|    7.47|    4.13|        1.9|       23.21|          91|          64|       8.6|       464|            Nintendo|     E|       4.0|(11,[4],[1.0])|          0.91|              0.086|(13,[0,1,6],[0.08...|\n",
            "|             Wii Fit|     Wii|           2007|  Sports|            Nintendo|    8.92|    8.03|     3.6|       2.15|        22.7|          80|          63|       7.7|       146|            Nintendo|     E|       1.0|(11,[1],[1.0])|           0.8|              0.077|(13,[0,1,3],[0.07...|\n",
            "|  Kinect Adventures!|    X360|           2010|    Misc|Microsoft Game St...|    15.0|    4.89|    0.24|       1.69|       21.81|          61|          45|       6.3|       106| Good Science Studio|     E|       6.0|(11,[6],[1.0])|          0.61|              0.063|(13,[0,1,8],[0.06...|\n",
            "|        Wii Fit Plus|     Wii|           2009|  Sports|            Nintendo|    9.01|    8.49|    2.53|       1.77|       21.79|          80|          33|       7.4|        52|            Nintendo|     E|       1.0|(11,[1],[1.0])|           0.8|0.07400000000000001|(13,[0,1,3],[0.07...|\n",
            "|  Grand Theft Auto V|     PS3|           2013|  Action|Take-Two Interactive|    7.02|    9.09|    0.98|       3.96|       21.04|          97|          50|       8.2|      3994|      Rockstar North|     M|       0.0|(11,[0],[1.0])|          0.97|0.08199999999999999|(13,[0,1,2],[0.08...|\n",
            "|Grand Theft Auto:...|     PS2|           2004|  Action|Take-Two Interactive|    9.43|     0.4|    0.41|      10.57|       20.81|          95|          80|         9|      1588|      Rockstar North|     M|       0.0|(11,[0],[1.0])|          0.95|               0.09|(13,[0,1,2],[0.09...|\n",
            "|Brain Age: Train ...|      DS|           2005|    Misc|            Nintendo|    4.74|     9.2|    4.16|       2.04|       20.15|          77|          58|       7.9|        50|            Nintendo|     E|       6.0|(11,[6],[1.0])|          0.77|              0.079|(13,[0,1,8],[0.07...|\n",
            "|  Grand Theft Auto V|    X360|           2013|  Action|Take-Two Interactive|    9.66|    5.14|    0.06|       1.41|       16.27|          97|          58|       8.1|      3711|      Rockstar North|     M|       0.0|(11,[0],[1.0])|          0.97|              0.081|(13,[0,1,2],[0.08...|\n",
            "|Grand Theft Auto:...|     PS2|           2002|  Action|Take-Two Interactive|    8.41|    5.49|    0.47|       1.78|       16.15|          95|          62|       8.7|       730|      Rockstar North|     M|       0.0|(11,[0],[1.0])|          0.95|              0.087|(13,[0,1,2],[0.08...|\n",
            "|Brain Age 2: More...|      DS|           2005|  Puzzle|            Nintendo|    3.43|    5.35|    5.32|       1.18|       15.29|          77|          37|       7.1|        19|            Nintendo|     E|      11.0|    (11,[],[])|          0.77|              0.071|(13,[0,1],[0.071,...|\n",
            "|Gran Turismo 3: A...|     PS2|           2001|  Racing|Sony Computer Ent...|    6.85|    5.09|    1.87|       1.16|       14.98|          95|          54|       8.4|       314|   Polyphony Digital|     E|       4.0|(11,[4],[1.0])|          0.95|              0.084|(13,[0,1,6],[0.08...|\n",
            "|Call of Duty: Mod...|    X360|           2011| Shooter|          Activision|    9.04|    4.24|    0.13|       1.32|       14.73|          88|          81|       3.4|      8713|Infinity Ward, Sl...|     M|       2.0|(11,[2],[1.0])|          0.88|              0.034|(13,[0,1,4],[0.03...|\n",
            "|Call of Duty: Bla...|    X360|           2010| Shooter|          Activision|     9.7|    3.68|    0.11|       1.13|       14.61|          87|          89|       6.3|      1454|            Treyarch|     M|       2.0|(11,[2],[1.0])|          0.87|              0.063|(13,[0,1,4],[0.06...|\n",
            "|Call of Duty: Bla...|     PS3|           2012| Shooter|          Activision|    4.99|    5.73|    0.65|       2.42|       13.79|          83|          21|       5.3|       922|            Treyarch|     M|       2.0|(11,[2],[1.0])|          0.83|              0.053|(13,[0,1,4],[0.05...|\n",
            "+--------------------+--------+---------------+--------+--------------------+--------+--------+--------+-----------+------------+------------+------------+----------+----------+--------------------+------+----------+--------------+--------------+-------------------+--------------------+\n",
            "only showing top 20 rows\n",
            "\n"
          ],
          "name": "stdout"
        }
      ]
    },
    {
      "cell_type": "markdown",
      "metadata": {
        "id": "cr5N6lMancOl"
      },
      "source": [
        "Split the data into 70% in the training sample and 30% in the test sample."
      ]
    },
    {
      "cell_type": "code",
      "metadata": {
        "id": "QZg3gX4rni8z",
        "colab": {
          "base_uri": "https://localhost:8080/"
        },
        "outputId": "e7856a8e-f65f-46fc-ff6c-5a62305fa749"
      },
      "source": [
        "# Answer below:\n",
        "train, test = X.randomSplit([0.7, 0.3], seed=1) # train_test_split\n",
        "train.show()\n"
      ],
      "execution_count": 73,
      "outputs": [
        {
          "output_type": "stream",
          "text": [
            "+--------------------+--------+---------------+------------+--------------------+--------+--------+--------+-----------+------------+------------+------------+----------+----------+--------------------+------+----------+---------------+--------------+--------------------+--------------------+\n",
            "|                Name|Platform|Year_of_Release|       Genre|           Publisher|NA_Sales|EU_Sales|JP_Sales|Other_Sales|Global_Sales|Critic_Score|Critic_Count|User_Score|User_Count|           Developer|Rating|GenreIndex|       GenreVec|critic_percent|        user_percent|            features|\n",
            "+--------------------+--------+---------------+------------+--------------------+--------+--------+--------+-----------+------------+------------+------------+----------+----------+--------------------+------+----------+---------------+--------------+--------------------+--------------------+\n",
            "|   Tales of Xillia 2|     PS3|           2012|Role-Playing|  Namco Bandai Games|     0.2|    0.12|    0.45|       0.07|        0.84|          71|          59|       7.9|       216|  Bandai Namco Games|     T|       3.0| (11,[3],[1.0])|          0.71|               0.079|(13,[0,1,5],[0.07...|\n",
            "|.hack//Infection ...|     PS2|           2002|Role-Playing|               Atari|    0.49|    0.38|    0.26|       0.13|        1.27|          75|          35|       8.5|        60|       CyberConnect2|     T|       3.0| (11,[3],[1.0])|          0.75|               0.085|(13,[0,1,5],[0.08...|\n",
            "|.hack//Mutation P...|     PS2|           2002|Role-Playing|               Atari|    0.23|    0.18|     0.2|       0.06|        0.68|          76|          24|       8.9|        81|       CyberConnect2|     T|       3.0| (11,[3],[1.0])|          0.76| 0.08900000000000001|(13,[0,1,5],[0.08...|\n",
            "|.hack//Outbreak P...|     PS2|           2002|Role-Playing|               Atari|    0.14|    0.11|    0.17|       0.04|        0.46|          70|          23|       8.7|        19|       CyberConnect2|     T|       3.0| (11,[3],[1.0])|           0.7|               0.087|(13,[0,1,5],[0.08...|\n",
            "|007: Quantum of S...|      PC|           2008|      Action|          Activision|    0.01|    0.01|     0.0|        0.0|        0.03|          70|          18|       6.3|        55|            Treyarch|     T|       0.0| (11,[0],[1.0])|           0.7|               0.063|(13,[0,1,2],[0.06...|\n",
            "|007: Quantum of S...|     PS3|           2008|      Action|          Activision|    0.43|    0.51|    0.02|       0.19|        1.14|          65|          42|       6.6|        47|            Treyarch|     T|       0.0| (11,[0],[1.0])|          0.65|               0.066|(13,[0,1,2],[0.06...|\n",
            "|007: Quantum of S...|     Wii|           2008|      Action|          Activision|    0.29|    0.28|    0.01|       0.07|        0.65|          54|          11|       7.5|        26|            Treyarch|     T|       0.0| (11,[0],[1.0])|          0.54|               0.075|(13,[0,1,2],[0.07...|\n",
            "|007: Quantum of S...|    X360|           2008|      Action|          Activision|    0.82|    0.51|    0.01|       0.14|        1.48|          65|          69|       7.1|        71|            Treyarch|     T|       0.0| (11,[0],[1.0])|          0.65|               0.071|(13,[0,1,2],[0.07...|\n",
            "|007: The World is...|      PS|           2000|      Action|     Electronic Arts|    0.51|    0.35|     0.0|       0.06|        0.92|          61|          11|       6.7|        44|Black Ops Enterta...|     T|       0.0| (11,[0],[1.0])|          0.61|               0.067|(13,[0,1,2],[0.06...|\n",
            "|           1701 A.D.|      PC|           2006|  Simulation|         Deep Silver|     0.0|    0.25|     0.0|       0.04|         0.3|          79|          30|       8.3|        38|     Related Designs|  E10+|       8.0| (11,[8],[1.0])|          0.79|               0.083|(13,[0,1,10],[0.0...|\n",
            "|18 Wheeler: Ameri...|      GC|           2002|      Racing|Acclaim Entertain...|    0.09|    0.02|     0.0|        0.0|        0.11|          52|          17|       6.8|         8|Acclaim Studios C...|     E|       4.0| (11,[4],[1.0])|          0.52|               0.068|(13,[0,1,6],[0.06...|\n",
            "|18 Wheeler: Ameri...|     PS2|           2001|      Racing|Acclaim Entertain...|     0.2|    0.15|     0.0|       0.05|         0.4|          61|          11|       5.7|        18|Acclaim Studios C...|     E|       4.0| (11,[4],[1.0])|          0.61|               0.057|(13,[0,1,6],[0.05...|\n",
            "|    187: Ride or Die|     PS2|           2005|      Racing|             Ubisoft|    0.07|    0.06|     0.0|       0.02|        0.15|          52|          33|       6.8|        12|             Ubisoft|     M|       4.0| (11,[4],[1.0])|          0.52|               0.068|(13,[0,1,6],[0.06...|\n",
            "|    187: Ride or Die|      XB|           2005|      Racing|             Ubisoft|    0.05|    0.01|     0.0|        0.0|        0.06|          51|          40|       6.9|         8|       Ubisoft Paris|     M|       4.0| (11,[4],[1.0])|          0.51|               0.069|(13,[0,1,6],[0.06...|\n",
            "| 2002 FIFA World Cup|     PS2|           2002|      Sports|     Electronic Arts|    0.21|    0.17|    0.16|       0.06|        0.59|          73|          19|       5.6|        18|           EA Sports|     E|       1.0| (11,[1],[1.0])|          0.73|0.055999999999999994|(13,[0,1,3],[0.05...|\n",
            "|2010 FIFA World C...|     PS3|           2010|      Sports|     Electronic Arts|     0.3|    0.64|    0.07|       0.22|        1.23|          82|          56|       7.8|        57|           EA Canada|     E|       1.0| (11,[1],[1.0])|          0.82|               0.078|(13,[0,1,3],[0.07...|\n",
            "|2010 FIFA World C...|     Wii|           2010|      Sports|     Electronic Arts|    0.23|    0.15|    0.01|       0.04|        0.42|          70|          19|       6.7|        11|     Electronic Arts|     E|       1.0| (11,[1],[1.0])|           0.7|               0.067|(13,[0,1,3],[0.06...|\n",
            "|2010 FIFA World C...|    X360|           2010|      Sports|     Electronic Arts|    0.32|    0.42|    0.02|       0.09|        0.85|          83|          61|       8.1|        58|     Electronic Arts|     E|       1.0| (11,[1],[1.0])|          0.83|               0.081|(13,[0,1,3],[0.08...|\n",
            "|2014 FIFA World C...|     PS3|           2014|      Sports|     Electronic Arts|    0.15|    0.36|    0.01|       0.09|        0.61|          73|          33|       4.3|        87|           EA Canada|     E|       1.0| (11,[1],[1.0])|          0.73|               0.043|(13,[0,1,3],[0.04...|\n",
            "|        24: The Game|     PS2|           2006|   Adventure|Sony Computer Ent...|    0.15|    0.12|     0.0|       0.04|         0.3|          62|          53|       8.2|        40|SCE Studio Cambridge|     M|      10.0|(11,[10],[1.0])|          0.62| 0.08199999999999999|(13,[0,1,12],[0.0...|\n",
            "+--------------------+--------+---------------+------------+--------------------+--------+--------+--------+-----------+------------+------------+------------+----------+----------+--------------------+------+----------+---------------+--------------+--------------------+--------------------+\n",
            "only showing top 20 rows\n",
            "\n"
          ],
          "name": "stdout"
        }
      ]
    },
    {
      "cell_type": "markdown",
      "metadata": {
        "id": "tK2oIPrFVJ0u"
      },
      "source": [
        "## Linear Regression"
      ]
    },
    {
      "cell_type": "markdown",
      "metadata": {
        "id": "w_mbNCz6njMC"
      },
      "source": [
        "Using the train and test data, generate a linear regression to predict global sales. Print the r squared from the model summary."
      ]
    },
    {
      "cell_type": "code",
      "metadata": {
        "id": "MNRgTZIZm1uI",
        "colab": {
          "base_uri": "https://localhost:8080/"
        },
        "outputId": "ffa34e5f-99b7-4677-dc35-4b66fe90b633"
      },
      "source": [
        "# Answer below:\n",
        "\n",
        "from pyspark.ml.regression import LinearRegression\n",
        "\n",
        "lr = LinearRegression(featuresCol='features', labelCol='Global_Sales')\n",
        "\n",
        "# Fit the model\n",
        "lrModel = lr.fit(train)\n",
        "\n",
        "# Summarize the model over the training set and print out some metrics\n",
        "lrModel.summary.r2"
      ],
      "execution_count": 74,
      "outputs": [
        {
          "output_type": "execute_result",
          "data": {
            "text/plain": [
              "0.061834142107681456"
            ]
          },
          "metadata": {
            "tags": []
          },
          "execution_count": 74
        }
      ]
    },
    {
      "cell_type": "markdown",
      "metadata": {
        "id": "C-z7sB1ljDZ7"
      },
      "source": [
        "Calculate the RMSE"
      ]
    },
    {
      "cell_type": "code",
      "metadata": {
        "id": "qo3l9oc8qJDq",
        "colab": {
          "base_uri": "https://localhost:8080/"
        },
        "outputId": "1a2620ee-bc5d-417b-c91f-92abef21b6a0"
      },
      "source": [
        "lrModel.summary.rootMeanSquaredError"
      ],
      "execution_count": 75,
      "outputs": [
        {
          "output_type": "execute_result",
          "data": {
            "text/plain": [
              "2.085580280038145"
            ]
          },
          "metadata": {
            "tags": []
          },
          "execution_count": 75
        }
      ]
    },
    {
      "cell_type": "markdown",
      "metadata": {
        "id": "A0QCZg_uP0CA"
      },
      "source": [
        "## Classification - Binomial Logistic Regression"
      ]
    },
    {
      "cell_type": "markdown",
      "metadata": {
        "id": "T86Pj9Frjyhf"
      },
      "source": [
        "Download and save the college admission  CSV file to your Colab Data folder on Google Drive. \n",
        "\n",
        "The file can be downloaded from link [here](https://tf-assets-prod.s3.amazonaws.com/tf-curric/data-science/Admission_Predict.csv), download it and save it to your Google Colab Data folder on gdrive."
      ]
    },
    {
      "cell_type": "markdown",
      "metadata": {
        "id": "TSyE1P5ikFdp"
      },
      "source": [
        "Load the admit CSV file in to the spark instance."
      ]
    },
    {
      "cell_type": "code",
      "metadata": {
        "id": "qhlRdBi3MYlr",
        "colab": {
          "base_uri": "https://localhost:8080/"
        },
        "outputId": "f1d63f26-faf3-44f6-cf60-04b150e3f44d"
      },
      "source": [
        "# Answer below:\n",
        "admit = spark.read.format(\"csv\").option(\"header\", \"true\").option(\"inferSchema\", \"true\").load(\"Admission_Predict.csv\")\n",
        "admit.show()"
      ],
      "execution_count": 76,
      "outputs": [
        {
          "output_type": "stream",
          "text": [
            "+----------+---------+-----------+-----------------+---+----+----+--------+----------------+\n",
            "|Serial No.|GRE Score|TOEFL Score|University Rating|SOP|LOR |CGPA|Research|Chance of Admit |\n",
            "+----------+---------+-----------+-----------------+---+----+----+--------+----------------+\n",
            "|         1|      337|        118|                4|4.5| 4.5|9.65|       1|            0.92|\n",
            "|         2|      324|        107|                4|4.0| 4.5|8.87|       1|            0.76|\n",
            "|         3|      316|        104|                3|3.0| 3.5| 8.0|       1|            0.72|\n",
            "|         4|      322|        110|                3|3.5| 2.5|8.67|       1|             0.8|\n",
            "|         5|      314|        103|                2|2.0| 3.0|8.21|       0|            0.65|\n",
            "|         6|      330|        115|                5|4.5| 3.0|9.34|       1|             0.9|\n",
            "|         7|      321|        109|                3|3.0| 4.0| 8.2|       1|            0.75|\n",
            "|         8|      308|        101|                2|3.0| 4.0| 7.9|       0|            0.68|\n",
            "|         9|      302|        102|                1|2.0| 1.5| 8.0|       0|             0.5|\n",
            "|        10|      323|        108|                3|3.5| 3.0| 8.6|       0|            0.45|\n",
            "|        11|      325|        106|                3|3.5| 4.0| 8.4|       1|            0.52|\n",
            "|        12|      327|        111|                4|4.0| 4.5| 9.0|       1|            0.84|\n",
            "|        13|      328|        112|                4|4.0| 4.5| 9.1|       1|            0.78|\n",
            "|        14|      307|        109|                3|4.0| 3.0| 8.0|       1|            0.62|\n",
            "|        15|      311|        104|                3|3.5| 2.0| 8.2|       1|            0.61|\n",
            "|        16|      314|        105|                3|3.5| 2.5| 8.3|       0|            0.54|\n",
            "|        17|      317|        107|                3|4.0| 3.0| 8.7|       0|            0.66|\n",
            "|        18|      319|        106|                3|4.0| 3.0| 8.0|       1|            0.65|\n",
            "|        19|      318|        110|                3|4.0| 3.0| 8.8|       0|            0.63|\n",
            "|        20|      303|        102|                3|3.5| 3.0| 8.5|       0|            0.62|\n",
            "+----------+---------+-----------+-----------------+---+----+----+--------+----------------+\n",
            "only showing top 20 rows\n",
            "\n"
          ],
          "name": "stdout"
        }
      ]
    },
    {
      "cell_type": "code",
      "metadata": {
        "id": "IqZ4DhjMW6on",
        "colab": {
          "base_uri": "https://localhost:8080/"
        },
        "outputId": "3c7abdc5-38b0-48ce-aa10-695b102f2f48"
      },
      "source": [
        "admit.printSchema()"
      ],
      "execution_count": 77,
      "outputs": [
        {
          "output_type": "stream",
          "text": [
            "root\n",
            " |-- Serial No.: integer (nullable = true)\n",
            " |-- GRE Score: integer (nullable = true)\n",
            " |-- TOEFL Score: integer (nullable = true)\n",
            " |-- University Rating: integer (nullable = true)\n",
            " |-- SOP: double (nullable = true)\n",
            " |-- LOR : double (nullable = true)\n",
            " |-- CGPA: double (nullable = true)\n",
            " |-- Research: integer (nullable = true)\n",
            " |-- Chance of Admit : double (nullable = true)\n",
            "\n"
          ],
          "name": "stdout"
        }
      ]
    },
    {
      "cell_type": "markdown",
      "metadata": {
        "id": "p5ZzjBv6Smf5"
      },
      "source": [
        "Create a categorical response from `Chance of Admit` column."
      ]
    },
    {
      "cell_type": "code",
      "metadata": {
        "id": "YU1-SgIHWS8b"
      },
      "source": [
        "from pyspark.ml.feature import Binarizer\n",
        "# Answer below\n",
        "binarizer = Binarizer(threshold=0.5, inputCol=\"Chance of Admit \", outputCol=\"admittable\")\n",
        "binarizedDataFrame = binarizer.transform(admit)"
      ],
      "execution_count": 78,
      "outputs": []
    },
    {
      "cell_type": "markdown",
      "metadata": {
        "id": "G3NQ30HKbpqr"
      },
      "source": [
        "Divide GRE and TOEFL score columns by 100 to normalize the features."
      ]
    },
    {
      "cell_type": "code",
      "metadata": {
        "id": "VjcYYZ3oU7DY"
      },
      "source": [
        "from pyspark.sql.functions import lit, col\n",
        "# Answer below\n",
        "admit_norm = binarizedDataFrame.withColumn('GRE_Norm', admit['GRE Score'] / lit(100))\n",
        "admit = admit_norm.withColumn('TOEFL_Norm', admit['TOEFL Score'] / lit(100))"
      ],
      "execution_count": 83,
      "outputs": []
    },
    {
      "cell_type": "markdown",
      "metadata": {
        "id": "e1cIz6BWc12n"
      },
      "source": [
        "Vectorize the features using the vector assembler, saving them into a column named features."
      ]
    },
    {
      "cell_type": "code",
      "metadata": {
        "id": "-4Ibl9MkcPs4",
        "colab": {
          "base_uri": "https://localhost:8080/"
        },
        "outputId": "7c2fe932-e686-4491-b621-d49aaeac71ad"
      },
      "source": [
        "# Answer below\r\n",
        "feature_cols = ['GRE_Norm', 'TOEFL_Norm']\r\n",
        "assembler = VectorAssembler(inputCols=feature_cols, outputCol='features')\r\n",
        "\r\n",
        "X = assembler.transform(admit)\r\n",
        "X.show()"
      ],
      "execution_count": 84,
      "outputs": [
        {
          "output_type": "stream",
          "text": [
            "+----------+---------+-----------+-----------------+---+----+----+--------+----------------+----------+--------+----------+-----------+\n",
            "|Serial No.|GRE Score|TOEFL Score|University Rating|SOP|LOR |CGPA|Research|Chance of Admit |admittable|GRE_Norm|TOEFL_Norm|   features|\n",
            "+----------+---------+-----------+-----------------+---+----+----+--------+----------------+----------+--------+----------+-----------+\n",
            "|         1|      337|        118|                4|4.5| 4.5|9.65|       1|            0.92|       1.0|    3.37|      1.18|[3.37,1.18]|\n",
            "|         2|      324|        107|                4|4.0| 4.5|8.87|       1|            0.76|       1.0|    3.24|      1.07|[3.24,1.07]|\n",
            "|         3|      316|        104|                3|3.0| 3.5| 8.0|       1|            0.72|       1.0|    3.16|      1.04|[3.16,1.04]|\n",
            "|         4|      322|        110|                3|3.5| 2.5|8.67|       1|             0.8|       1.0|    3.22|       1.1| [3.22,1.1]|\n",
            "|         5|      314|        103|                2|2.0| 3.0|8.21|       0|            0.65|       1.0|    3.14|      1.03|[3.14,1.03]|\n",
            "|         6|      330|        115|                5|4.5| 3.0|9.34|       1|             0.9|       1.0|     3.3|      1.15| [3.3,1.15]|\n",
            "|         7|      321|        109|                3|3.0| 4.0| 8.2|       1|            0.75|       1.0|    3.21|      1.09|[3.21,1.09]|\n",
            "|         8|      308|        101|                2|3.0| 4.0| 7.9|       0|            0.68|       1.0|    3.08|      1.01|[3.08,1.01]|\n",
            "|         9|      302|        102|                1|2.0| 1.5| 8.0|       0|             0.5|       0.0|    3.02|      1.02|[3.02,1.02]|\n",
            "|        10|      323|        108|                3|3.5| 3.0| 8.6|       0|            0.45|       0.0|    3.23|      1.08|[3.23,1.08]|\n",
            "|        11|      325|        106|                3|3.5| 4.0| 8.4|       1|            0.52|       1.0|    3.25|      1.06|[3.25,1.06]|\n",
            "|        12|      327|        111|                4|4.0| 4.5| 9.0|       1|            0.84|       1.0|    3.27|      1.11|[3.27,1.11]|\n",
            "|        13|      328|        112|                4|4.0| 4.5| 9.1|       1|            0.78|       1.0|    3.28|      1.12|[3.28,1.12]|\n",
            "|        14|      307|        109|                3|4.0| 3.0| 8.0|       1|            0.62|       1.0|    3.07|      1.09|[3.07,1.09]|\n",
            "|        15|      311|        104|                3|3.5| 2.0| 8.2|       1|            0.61|       1.0|    3.11|      1.04|[3.11,1.04]|\n",
            "|        16|      314|        105|                3|3.5| 2.5| 8.3|       0|            0.54|       1.0|    3.14|      1.05|[3.14,1.05]|\n",
            "|        17|      317|        107|                3|4.0| 3.0| 8.7|       0|            0.66|       1.0|    3.17|      1.07|[3.17,1.07]|\n",
            "|        18|      319|        106|                3|4.0| 3.0| 8.0|       1|            0.65|       1.0|    3.19|      1.06|[3.19,1.06]|\n",
            "|        19|      318|        110|                3|4.0| 3.0| 8.8|       0|            0.63|       1.0|    3.18|       1.1| [3.18,1.1]|\n",
            "|        20|      303|        102|                3|3.5| 3.0| 8.5|       0|            0.62|       1.0|    3.03|      1.02|[3.03,1.02]|\n",
            "+----------+---------+-----------+-----------------+---+----+----+--------+----------------+----------+--------+----------+-----------+\n",
            "only showing top 20 rows\n",
            "\n"
          ],
          "name": "stdout"
        }
      ]
    },
    {
      "cell_type": "markdown",
      "metadata": {
        "id": "SfkkSBzfk93I"
      },
      "source": [
        "Split into train and test subsets."
      ]
    },
    {
      "cell_type": "code",
      "metadata": {
        "id": "PrkM1eCtlBnx",
        "colab": {
          "base_uri": "https://localhost:8080/"
        },
        "outputId": "91e64b52-a17f-4adf-ee68-3210a351f89c"
      },
      "source": [
        "# Answer below:\r\n",
        "train, test = X.randomSplit([0.7, 0.3], seed=1) # train_test_split\r\n",
        "train.show()\r\n"
      ],
      "execution_count": 85,
      "outputs": [
        {
          "output_type": "stream",
          "text": [
            "+----------+---------+-----------+-----------------+---+----+----+--------+----------------+----------+--------+----------+-----------+\n",
            "|Serial No.|GRE Score|TOEFL Score|University Rating|SOP|LOR |CGPA|Research|Chance of Admit |admittable|GRE_Norm|TOEFL_Norm|   features|\n",
            "+----------+---------+-----------+-----------------+---+----+----+--------+----------------+----------+--------+----------+-----------+\n",
            "|         1|      337|        118|                4|4.5| 4.5|9.65|       1|            0.92|       1.0|    3.37|      1.18|[3.37,1.18]|\n",
            "|         2|      324|        107|                4|4.0| 4.5|8.87|       1|            0.76|       1.0|    3.24|      1.07|[3.24,1.07]|\n",
            "|         3|      316|        104|                3|3.0| 3.5| 8.0|       1|            0.72|       1.0|    3.16|      1.04|[3.16,1.04]|\n",
            "|         4|      322|        110|                3|3.5| 2.5|8.67|       1|             0.8|       1.0|    3.22|       1.1| [3.22,1.1]|\n",
            "|         6|      330|        115|                5|4.5| 3.0|9.34|       1|             0.9|       1.0|     3.3|      1.15| [3.3,1.15]|\n",
            "|         7|      321|        109|                3|3.0| 4.0| 8.2|       1|            0.75|       1.0|    3.21|      1.09|[3.21,1.09]|\n",
            "|         8|      308|        101|                2|3.0| 4.0| 7.9|       0|            0.68|       1.0|    3.08|      1.01|[3.08,1.01]|\n",
            "|         9|      302|        102|                1|2.0| 1.5| 8.0|       0|             0.5|       0.0|    3.02|      1.02|[3.02,1.02]|\n",
            "|        10|      323|        108|                3|3.5| 3.0| 8.6|       0|            0.45|       0.0|    3.23|      1.08|[3.23,1.08]|\n",
            "|        12|      327|        111|                4|4.0| 4.5| 9.0|       1|            0.84|       1.0|    3.27|      1.11|[3.27,1.11]|\n",
            "|        13|      328|        112|                4|4.0| 4.5| 9.1|       1|            0.78|       1.0|    3.28|      1.12|[3.28,1.12]|\n",
            "|        14|      307|        109|                3|4.0| 3.0| 8.0|       1|            0.62|       1.0|    3.07|      1.09|[3.07,1.09]|\n",
            "|        15|      311|        104|                3|3.5| 2.0| 8.2|       1|            0.61|       1.0|    3.11|      1.04|[3.11,1.04]|\n",
            "|        16|      314|        105|                3|3.5| 2.5| 8.3|       0|            0.54|       1.0|    3.14|      1.05|[3.14,1.05]|\n",
            "|        18|      319|        106|                3|4.0| 3.0| 8.0|       1|            0.65|       1.0|    3.19|      1.06|[3.19,1.06]|\n",
            "|        20|      303|        102|                3|3.5| 3.0| 8.5|       0|            0.62|       1.0|    3.03|      1.02|[3.03,1.02]|\n",
            "|        22|      325|        114|                4|3.0| 2.0| 8.4|       0|             0.7|       1.0|    3.25|      1.14|[3.25,1.14]|\n",
            "|        23|      328|        116|                5|5.0| 5.0| 9.5|       1|            0.94|       1.0|    3.28|      1.16|[3.28,1.16]|\n",
            "|        24|      334|        119|                5|5.0| 4.5| 9.7|       1|            0.95|       1.0|    3.34|      1.19|[3.34,1.19]|\n",
            "|        26|      340|        120|                5|4.5| 4.5| 9.6|       1|            0.94|       1.0|     3.4|       1.2|  [3.4,1.2]|\n",
            "+----------+---------+-----------+-----------------+---+----+----+--------+----------------+----------+--------+----------+-----------+\n",
            "only showing top 20 rows\n",
            "\n"
          ],
          "name": "stdout"
        }
      ]
    },
    {
      "cell_type": "markdown",
      "metadata": {
        "id": "-3KbBnp4lD1G"
      },
      "source": [
        "Define the Logistic regression model."
      ]
    },
    {
      "cell_type": "code",
      "metadata": {
        "id": "LncfrOdzdUbR"
      },
      "source": [
        "from pyspark.ml.classification import LogisticRegression\n",
        "logr = LogisticRegression(featuresCol='features', labelCol='admittable')\n"
      ],
      "execution_count": 86,
      "outputs": []
    },
    {
      "cell_type": "markdown",
      "metadata": {
        "id": "oOuEI6XBlLQR"
      },
      "source": [
        "Fit the model."
      ]
    },
    {
      "cell_type": "code",
      "metadata": {
        "id": "5Z4oo9o4eMX3"
      },
      "source": [
        "# Answer below\r\n",
        "logrModel = logr.fit(train)"
      ],
      "execution_count": 91,
      "outputs": []
    },
    {
      "cell_type": "markdown",
      "metadata": {
        "id": "l-JLjNUmlN-E"
      },
      "source": [
        "predict in the test set."
      ]
    },
    {
      "cell_type": "code",
      "metadata": {
        "id": "irZa6ZrCesiG"
      },
      "source": [
        "# Answer below\n",
        "predictions = logrModel.transform(test)"
      ],
      "execution_count": 92,
      "outputs": []
    },
    {
      "cell_type": "markdown",
      "metadata": {
        "id": "8swSBazulUqH"
      },
      "source": [
        "Plot the ROC."
      ]
    },
    {
      "cell_type": "code",
      "metadata": {
        "id": "e-xtF0dWey07",
        "colab": {
          "base_uri": "https://localhost:8080/",
          "height": 312
        },
        "outputId": "5c5eb3cb-c836-4d63-8a9e-eadd50b14d5d"
      },
      "source": [
        "import matplotlib.pyplot as plt\n",
        "\n",
        "trainingSummary = logrModel.summary\n",
        "roc = trainingSummary.roc.toPandas()\n",
        "plt.plot(roc['FPR'],roc['TPR'])\n",
        "plt.ylabel('False Positive Rate')\n",
        "plt.xlabel('True Positive Rate')\n",
        "plt.title('ROC Curve')\n",
        "plt.show()\n",
        "print('Training set areaUnderROC: ' + str(trainingSummary.areaUnderROC))"
      ],
      "execution_count": 94,
      "outputs": [
        {
          "output_type": "display_data",
          "data": {
            "image/png": "[encoded data removed]",
            "text/plain": [
              "<Figure size 432x288 with 1 Axes>"
            ]
          },
          "metadata": {
            "tags": [],
            "needs_background": "light"
          }
        },
        {
          "output_type": "stream",
          "text": [
            "Training set areaUnderROC: 0.9062937062937064\n"
          ],
          "name": "stdout"
        }
      ]
    },
    {
      "cell_type": "markdown",
      "metadata": {
        "id": "JvhfWKjTlX-N"
      },
      "source": [
        "Calculate the overall model accuracy using the model evaluator.\n"
      ]
    },
    {
      "cell_type": "code",
      "metadata": {
        "id": "LMTeVl6kfr_j",
        "colab": {
          "base_uri": "https://localhost:8080/"
        },
        "outputId": "de409fba-d226-4191-ea5c-5cc4f7c06530"
      },
      "source": [
        "from pyspark.ml.evaluation import MulticlassClassificationEvaluator\n",
        "# Answer below\n",
        "predictions.show()"
      ],
      "execution_count": 95,
      "outputs": [
        {
          "output_type": "stream",
          "text": [
            "+----------+---------+-----------+-----------------+---+----+----+--------+----------------+----------+--------+----------+-----------+--------------------+--------------------+----------+\n",
            "|Serial No.|GRE Score|TOEFL Score|University Rating|SOP|LOR |CGPA|Research|Chance of Admit |admittable|GRE_Norm|TOEFL_Norm|   features|       rawPrediction|         probability|prediction|\n",
            "+----------+---------+-----------+-----------------+---+----+----+--------+----------------+----------+--------+----------+-----------+--------------------+--------------------+----------+\n",
            "|         5|      314|        103|                2|2.0| 3.0|8.21|       0|            0.65|       1.0|    3.14|      1.03|[3.14,1.03]|[-2.8884201747375...|[0.05272897280431...|       1.0|\n",
            "|        11|      325|        106|                3|3.5| 4.0| 8.4|       1|            0.52|       1.0|    3.25|      1.06|[3.25,1.06]|[-4.5897700385569...|[0.01005310221050...|       1.0|\n",
            "|        17|      317|        107|                3|4.0| 3.0| 8.7|       0|            0.66|       1.0|    3.17|      1.07|[3.17,1.07]|[-4.2079513007116...|[0.01465873989462...|       1.0|\n",
            "|        19|      318|        110|                3|4.0| 3.0| 8.8|       0|            0.63|       1.0|    3.18|       1.1| [3.18,1.1]|[-5.0959279995723...|[0.00608437687224...|       1.0|\n",
            "|        21|      312|        107|                3|3.0| 2.0| 7.9|       1|            0.64|       1.0|    3.12|      1.07|[3.12,1.07]|[-3.8012647182323...|[0.02185421918969...|       1.0|\n",
            "|        25|      336|        119|                5|4.0| 3.5| 9.8|       1|            0.97|       1.0|    3.36|      1.19|[3.36,1.19]|[-8.9799178435925...|[1.25897339516388...|       1.0|\n",
            "|        29|      295|         93|                1|2.0| 2.0| 7.2|       0|            0.46|       0.0|    2.95|      0.93|[2.95,0.93]|[1.34578677990000...|[0.79343996464132...|       0.0|\n",
            "|        33|      338|        118|                4|3.0| 4.5| 9.4|       1|            0.91|       1.0|    3.38|      1.18|[3.38,1.18]|[-8.8737126824626...|[1.40002161746806...|       1.0|\n",
            "|        37|      299|        106|                2|4.0| 4.0| 8.4|       0|            0.64|       1.0|    2.99|      1.06|[2.99,1.06]|[-2.4749998096645...|[0.07762947618510...|       1.0|\n",
            "|        39|      304|        105|                1|3.0| 1.5| 7.5|       0|            0.52|       1.0|    3.04|      1.05|[3.04,1.05]|[-2.6128065980222...|[0.06831874355009...|       1.0|\n",
            "|        40|      307|        108|                2|4.0| 3.5| 7.7|       0|            0.48|       0.0|    3.07|      1.08|[3.07,1.08]|[-3.6634579298746...|[0.02500252820826...|       1.0|\n",
            "|        41|      308|        110|                3|3.5| 3.0| 8.0|       1|            0.46|       0.0|    3.08|       1.1| [3.08,1.1]|[-4.2825548346137...|[0.01361929525185...|       1.0|\n",
            "|        43|      313|        107|                2|2.5| 2.0| 8.5|       1|            0.53|       1.0|    3.13|      1.07|[3.13,1.07]|[-3.8826020347282...|[0.02018147968237...|       1.0|\n",
            "|        44|      332|        117|                4|4.5| 4.0| 9.1|       0|            0.87|       1.0|    3.32|      1.17|[3.32,1.17]|[-8.1168089893658...|[2.98390530489237...|       1.0|\n",
            "|        49|      321|        110|                3|3.5| 5.0|8.85|       1|            0.82|       1.0|    3.21|       1.1| [3.21,1.1]|[-5.3399399490599...|[0.00477326537714...|       1.0|\n",
            "|        53|      334|        116|                4|4.0| 3.0| 8.0|       1|            0.78|       1.0|    3.34|      1.16|[3.34,1.16]|[-8.0106038282359...|[3.31814096096918...|       1.0|\n",
            "|        57|      316|        102|                3|2.0| 3.0| 7.4|       0|            0.64|       1.0|    3.16|      1.02|[3.16,1.02]|[-2.7822150136076...|[0.05829284380815...|       1.0|\n",
            "|        61|      309|        100|                2|3.0| 3.0| 8.1|       0|            0.48|       0.0|    3.09|       1.0| [3.09,1.0]|[-1.6750942098934...|[0.15774616967078...|       1.0|\n",
            "|        81|      312|        105|                3|2.0| 3.0|8.02|       1|             0.5|       0.0|    3.12|      1.05|[3.12,1.05]|[-3.2635051299891...|[0.03684462028571...|       1.0|\n",
            "|        90|      316|        109|                4|4.5| 3.5|8.76|       1|            0.74|       1.0|    3.16|      1.09|[3.16,1.09]|[-4.6643735724590...|[0.00933714653670...|       1.0|\n",
            "+----------+---------+-----------+-----------------+---+----+----+--------+----------------+----------+--------+----------+-----------+--------------------+--------------------+----------+\n",
            "only showing top 20 rows\n",
            "\n"
          ],
          "name": "stdout"
        }
      ]
    },
    {
      "cell_type": "markdown",
      "metadata": {
        "id": "xwbB3HbXgslz"
      },
      "source": [
        "## Classification - Random Forest"
      ]
    },
    {
      "cell_type": "markdown",
      "metadata": {
        "id": "WpKBELD3lkmX"
      },
      "source": [
        "Download and save the land cover type CSV file to your Colab Data folder on Google Drive. \n",
        "\n",
        "The file can be downloaded from link [here](https://tf-assets-prod.s3.amazonaws.com/tf-curric/data-science/Data%20Sets%20Big%20Data/covtype.csv), download it and save it to your Google Colab Data folder on gdrive."
      ]
    },
    {
      "cell_type": "markdown",
      "metadata": {
        "id": "EJNJBjuDCOCk"
      },
      "source": [
        "Load the land cover type data from this CSV file."
      ]
    },
    {
      "cell_type": "code",
      "metadata": {
        "id": "kkTAb55PgKt-",
        "colab": {
          "base_uri": "https://localhost:8080/"
        },
        "outputId": "3d0f276d-7160-4e87-e626-b98838d3a76d"
      },
      "source": [
        "#Answer below:\r\n",
        "# Answer below:\r\n",
        "covtype = spark.read.format(\"csv\").option(\"header\", \"true\").option(\"inferSchema\", \"true\").load(\"covtype.csv\")\r\n",
        "covtype.show()"
      ],
      "execution_count": 96,
      "outputs": [
        {
          "output_type": "stream",
          "text": [
            "+---------+------+-----+--------------------------------+------------------------------+-------------------------------+-------------+--------------+-------------+----------------------------------+----------------+----------------+----------------+----------------+----------+----------+----------+----------+----------+----------+----------+----------+----------+-----------+-----------+-----------+-----------+-----------+-----------+-----------+-----------+-----------+-----------+-----------+-----------+-----------+-----------+-----------+-----------+-----------+-----------+-----------+-----------+-----------+-----------+-----------+-----------+-----------+-----------+-----------+-----------+-----------+-----------+-----------+----------+\n",
            "|Elevation|Aspect|Slope|Horizontal_Distance_To_Hydrology|Vertical_Distance_To_Hydrology|Horizontal_Distance_To_Roadways|Hillshade_9am|Hillshade_Noon|Hillshade_3pm|Horizontal_Distance_To_Fire_Points|Wilderness_Area1|Wilderness_Area2|Wilderness_Area3|Wilderness_Area4|Soil_Type1|Soil_Type2|Soil_Type3|Soil_Type4|Soil_Type5|Soil_Type6|Soil_Type7|Soil_Type8|Soil_Type9|Soil_Type10|Soil_Type11|Soil_Type12|Soil_Type13|Soil_Type14|Soil_Type15|Soil_Type16|Soil_Type17|Soil_Type18|Soil_Type19|Soil_Type20|Soil_Type21|Soil_Type22|Soil_Type23|Soil_Type24|Soil_Type25|Soil_Type26|Soil_Type27|Soil_Type28|Soil_Type29|Soil_Type30|Soil_Type31|Soil_Type32|Soil_Type33|Soil_Type34|Soil_Type35|Soil_Type36|Soil_Type37|Soil_Type38|Soil_Type39|Soil_Type40|Cover_Type|\n",
            "+---------+------+-----+--------------------------------+------------------------------+-------------------------------+-------------+--------------+-------------+----------------------------------+----------------+----------------+----------------+----------------+----------+----------+----------+----------+----------+----------+----------+----------+----------+-----------+-----------+-----------+-----------+-----------+-----------+-----------+-----------+-----------+-----------+-----------+-----------+-----------+-----------+-----------+-----------+-----------+-----------+-----------+-----------+-----------+-----------+-----------+-----------+-----------+-----------+-----------+-----------+-----------+-----------+-----------+----------+\n",
            "|     2596|    51|    3|                             258|                             0|                            510|          221|           232|          148|                              6279|               1|               0|               0|               0|         0|         0|         0|         0|         0|         0|         0|         0|         0|          0|          0|          0|          0|          0|          0|          0|          0|          0|          0|          0|          0|          0|          0|          0|          0|          0|          0|          0|          1|          0|          0|          0|          0|          0|          0|          0|          0|          0|          0|          0|         5|\n",
            "|     2590|    56|    2|                             212|                            -6|                            390|          220|           235|          151|                              6225|               1|               0|               0|               0|         0|         0|         0|         0|         0|         0|         0|         0|         0|          0|          0|          0|          0|          0|          0|          0|          0|          0|          0|          0|          0|          0|          0|          0|          0|          0|          0|          0|          1|          0|          0|          0|          0|          0|          0|          0|          0|          0|          0|          0|         5|\n",
            "|     2804|   139|    9|                             268|                            65|                           3180|          234|           238|          135|                              6121|               1|               0|               0|               0|         0|         0|         0|         0|         0|         0|         0|         0|         0|          0|          0|          1|          0|          0|          0|          0|          0|          0|          0|          0|          0|          0|          0|          0|          0|          0|          0|          0|          0|          0|          0|          0|          0|          0|          0|          0|          0|          0|          0|          0|         2|\n",
            "|     2785|   155|   18|                             242|                           118|                           3090|          238|           238|          122|                              6211|               1|               0|               0|               0|         0|         0|         0|         0|         0|         0|         0|         0|         0|          0|          0|          0|          0|          0|          0|          0|          0|          0|          0|          0|          0|          0|          0|          0|          0|          0|          0|          0|          0|          1|          0|          0|          0|          0|          0|          0|          0|          0|          0|          0|         2|\n",
            "|     2595|    45|    2|                             153|                            -1|                            391|          220|           234|          150|                              6172|               1|               0|               0|               0|         0|         0|         0|         0|         0|         0|         0|         0|         0|          0|          0|          0|          0|          0|          0|          0|          0|          0|          0|          0|          0|          0|          0|          0|          0|          0|          0|          0|          1|          0|          0|          0|          0|          0|          0|          0|          0|          0|          0|          0|         5|\n",
            "|     2579|   132|    6|                             300|                           -15|                             67|          230|           237|          140|                              6031|               1|               0|               0|               0|         0|         0|         0|         0|         0|         0|         0|         0|         0|          0|          0|          0|          0|          0|          0|          0|          0|          0|          0|          0|          0|          0|          0|          0|          0|          0|          0|          0|          1|          0|          0|          0|          0|          0|          0|          0|          0|          0|          0|          0|         2|\n",
            "|     2606|    45|    7|                             270|                             5|                            633|          222|           225|          138|                              6256|               1|               0|               0|               0|         0|         0|         0|         0|         0|         0|         0|         0|         0|          0|          0|          0|          0|          0|          0|          0|          0|          0|          0|          0|          0|          0|          0|          0|          0|          0|          0|          0|          1|          0|          0|          0|          0|          0|          0|          0|          0|          0|          0|          0|         5|\n",
            "|     2605|    49|    4|                             234|                             7|                            573|          222|           230|          144|                              6228|               1|               0|               0|               0|         0|         0|         0|         0|         0|         0|         0|         0|         0|          0|          0|          0|          0|          0|          0|          0|          0|          0|          0|          0|          0|          0|          0|          0|          0|          0|          0|          0|          1|          0|          0|          0|          0|          0|          0|          0|          0|          0|          0|          0|         5|\n",
            "|     2617|    45|    9|                             240|                            56|                            666|          223|           221|          133|                              6244|               1|               0|               0|               0|         0|         0|         0|         0|         0|         0|         0|         0|         0|          0|          0|          0|          0|          0|          0|          0|          0|          0|          0|          0|          0|          0|          0|          0|          0|          0|          0|          0|          1|          0|          0|          0|          0|          0|          0|          0|          0|          0|          0|          0|         5|\n",
            "|     2612|    59|   10|                             247|                            11|                            636|          228|           219|          124|                              6230|               1|               0|               0|               0|         0|         0|         0|         0|         0|         0|         0|         0|         0|          0|          0|          0|          0|          0|          0|          0|          0|          0|          0|          0|          0|          0|          0|          0|          0|          0|          0|          0|          1|          0|          0|          0|          0|          0|          0|          0|          0|          0|          0|          0|         5|\n",
            "|     2612|   201|    4|                             180|                            51|                            735|          218|           243|          161|                              6222|               1|               0|               0|               0|         0|         0|         0|         0|         0|         0|         0|         0|         0|          0|          0|          0|          0|          0|          0|          0|          0|          1|          0|          0|          0|          0|          0|          0|          0|          0|          0|          0|          0|          0|          0|          0|          0|          0|          0|          0|          0|          0|          0|          0|         5|\n",
            "|     2886|   151|   11|                             371|                            26|                           5253|          234|           240|          136|                              4051|               1|               0|               0|               0|         0|         0|         0|         0|         0|         0|         0|         0|         0|          0|          0|          0|          0|          0|          0|          0|          0|          0|          0|          0|          0|          0|          0|          0|          0|          0|          0|          0|          0|          1|          0|          0|          0|          0|          0|          0|          0|          0|          0|          0|         2|\n",
            "|     2742|   134|   22|                             150|                            69|                           3215|          248|           224|           92|                              6091|               1|               0|               0|               0|         0|         0|         0|         0|         0|         0|         0|         0|         0|          0|          0|          0|          0|          0|          0|          0|          0|          0|          0|          0|          0|          0|          0|          0|          0|          0|          0|          0|          0|          1|          0|          0|          0|          0|          0|          0|          0|          0|          0|          0|         2|\n",
            "|     2609|   214|    7|                             150|                            46|                            771|          213|           247|          170|                              6211|               1|               0|               0|               0|         0|         0|         0|         0|         0|         0|         0|         0|         0|          0|          0|          0|          0|          0|          0|          0|          0|          1|          0|          0|          0|          0|          0|          0|          0|          0|          0|          0|          0|          0|          0|          0|          0|          0|          0|          0|          0|          0|          0|          0|         5|\n",
            "|     2503|   157|    4|                              67|                             4|                            674|          224|           240|          151|                              5600|               1|               0|               0|               0|         0|         0|         0|         0|         0|         0|         0|         0|         0|          0|          0|          0|          0|          0|          0|          0|          0|          1|          0|          0|          0|          0|          0|          0|          0|          0|          0|          0|          0|          0|          0|          0|          0|          0|          0|          0|          0|          0|          0|          0|         5|\n",
            "|     2495|    51|    7|                              42|                             2|                            752|          224|           225|          137|                              5576|               1|               0|               0|               0|         0|         0|         0|         0|         0|         0|         0|         0|         0|          0|          0|          0|          0|          0|          0|          1|          0|          0|          0|          0|          0|          0|          0|          0|          0|          0|          0|          0|          0|          0|          0|          0|          0|          0|          0|          0|          0|          0|          0|          0|         5|\n",
            "|     2610|   259|    1|                             120|                            -1|                            607|          216|           239|          161|                              6096|               1|               0|               0|               0|         0|         0|         0|         0|         0|         0|         0|         0|         0|          0|          0|          0|          0|          0|          0|          0|          0|          0|          0|          0|          0|          0|          0|          0|          0|          0|          0|          0|          1|          0|          0|          0|          0|          0|          0|          0|          0|          0|          0|          0|         5|\n",
            "|     2517|    72|    7|                              85|                             6|                            595|          228|           227|          133|                              5607|               1|               0|               0|               0|         0|         0|         0|         0|         0|         0|         0|         0|         0|          0|          0|          0|          0|          0|          0|          0|          0|          1|          0|          0|          0|          0|          0|          0|          0|          0|          0|          0|          0|          0|          0|          0|          0|          0|          0|          0|          0|          0|          0|          0|         5|\n",
            "|     2504|     0|    4|                              95|                             5|                            691|          214|           232|          156|                              5572|               1|               0|               0|               0|         0|         0|         0|         0|         0|         0|         0|         0|         0|          0|          0|          0|          0|          0|          0|          0|          0|          1|          0|          0|          0|          0|          0|          0|          0|          0|          0|          0|          0|          0|          0|          0|          0|          0|          0|          0|          0|          0|          0|          0|         5|\n",
            "|     2503|    38|    5|                              85|                            10|                            741|          220|           228|          144|                              5555|               1|               0|               0|               0|         0|         0|         0|         0|         0|         0|         0|         0|         0|          0|          0|          0|          0|          0|          0|          0|          0|          1|          0|          0|          0|          0|          0|          0|          0|          0|          0|          0|          0|          0|          0|          0|          0|          0|          0|          0|          0|          0|          0|          0|         5|\n",
            "+---------+------+-----+--------------------------------+------------------------------+-------------------------------+-------------+--------------+-------------+----------------------------------+----------------+----------------+----------------+----------------+----------+----------+----------+----------+----------+----------+----------+----------+----------+-----------+-----------+-----------+-----------+-----------+-----------+-----------+-----------+-----------+-----------+-----------+-----------+-----------+-----------+-----------+-----------+-----------+-----------+-----------+-----------+-----------+-----------+-----------+-----------+-----------+-----------+-----------+-----------+-----------+-----------+-----------+----------+\n",
            "only showing top 20 rows\n",
            "\n"
          ],
          "name": "stdout"
        }
      ]
    },
    {
      "cell_type": "code",
      "metadata": {
        "id": "EN6ppx1qFINC"
      },
      "source": [
        "#load modules\n",
        "# !!!!caution: not from pyspark.mllib.linalg import Vectors\n",
        "from pyspark.ml.linalg import Vectors\n",
        "from pyspark.ml import Pipeline\n",
        "from pyspark.ml.feature import IndexToString,StringIndexer, VectorIndexer\n",
        "from pyspark.ml.tuning import CrossValidator, ParamGridBuilder\n",
        "from pyspark.ml.evaluation import MulticlassClassificationEvaluator"
      ],
      "execution_count": 97,
      "outputs": []
    },
    {
      "cell_type": "markdown",
      "metadata": {
        "id": "_-IFywYblz5e"
      },
      "source": [
        "Vectorize the features to a single column called features using a lambda function."
      ]
    },
    {
      "cell_type": "code",
      "metadata": {
        "id": "XwmrkR27E47j"
      },
      "source": [
        "#Answer below:\n",
        "feature_cols = covtype.columns[:-1]\n",
        "assembler = VectorAssembler(inputCols=feature_cols, outputCol='features')"
      ],
      "execution_count": 105,
      "outputs": []
    },
    {
      "cell_type": "code",
      "metadata": {
        "colab": {
          "base_uri": "https://localhost:8080/"
        },
        "id": "jOK7sewKW221",
        "outputId": "a7a75fd3-c2e9-4e07-8e57-dc33e271f99b"
      },
      "source": [
        "X = assembler.transform(covtype)\r\n",
        "X.show()"
      ],
      "execution_count": 106,
      "outputs": [
        {
          "output_type": "stream",
          "text": [
            "+---------+------+-----+--------------------------------+------------------------------+-------------------------------+-------------+--------------+-------------+----------------------------------+----------------+----------------+----------------+----------------+----------+----------+----------+----------+----------+----------+----------+----------+----------+-----------+-----------+-----------+-----------+-----------+-----------+-----------+-----------+-----------+-----------+-----------+-----------+-----------+-----------+-----------+-----------+-----------+-----------+-----------+-----------+-----------+-----------+-----------+-----------+-----------+-----------+-----------+-----------+-----------+-----------+-----------+----------+--------------------+\n",
            "|Elevation|Aspect|Slope|Horizontal_Distance_To_Hydrology|Vertical_Distance_To_Hydrology|Horizontal_Distance_To_Roadways|Hillshade_9am|Hillshade_Noon|Hillshade_3pm|Horizontal_Distance_To_Fire_Points|Wilderness_Area1|Wilderness_Area2|Wilderness_Area3|Wilderness_Area4|Soil_Type1|Soil_Type2|Soil_Type3|Soil_Type4|Soil_Type5|Soil_Type6|Soil_Type7|Soil_Type8|Soil_Type9|Soil_Type10|Soil_Type11|Soil_Type12|Soil_Type13|Soil_Type14|Soil_Type15|Soil_Type16|Soil_Type17|Soil_Type18|Soil_Type19|Soil_Type20|Soil_Type21|Soil_Type22|Soil_Type23|Soil_Type24|Soil_Type25|Soil_Type26|Soil_Type27|Soil_Type28|Soil_Type29|Soil_Type30|Soil_Type31|Soil_Type32|Soil_Type33|Soil_Type34|Soil_Type35|Soil_Type36|Soil_Type37|Soil_Type38|Soil_Type39|Soil_Type40|Cover_Type|            features|\n",
            "+---------+------+-----+--------------------------------+------------------------------+-------------------------------+-------------+--------------+-------------+----------------------------------+----------------+----------------+----------------+----------------+----------+----------+----------+----------+----------+----------+----------+----------+----------+-----------+-----------+-----------+-----------+-----------+-----------+-----------+-----------+-----------+-----------+-----------+-----------+-----------+-----------+-----------+-----------+-----------+-----------+-----------+-----------+-----------+-----------+-----------+-----------+-----------+-----------+-----------+-----------+-----------+-----------+-----------+----------+--------------------+\n",
            "|     2596|    51|    3|                             258|                             0|                            510|          221|           232|          148|                              6279|               1|               0|               0|               0|         0|         0|         0|         0|         0|         0|         0|         0|         0|          0|          0|          0|          0|          0|          0|          0|          0|          0|          0|          0|          0|          0|          0|          0|          0|          0|          0|          0|          1|          0|          0|          0|          0|          0|          0|          0|          0|          0|          0|          0|         5|(54,[0,1,2,3,5,6,...|\n",
            "|     2590|    56|    2|                             212|                            -6|                            390|          220|           235|          151|                              6225|               1|               0|               0|               0|         0|         0|         0|         0|         0|         0|         0|         0|         0|          0|          0|          0|          0|          0|          0|          0|          0|          0|          0|          0|          0|          0|          0|          0|          0|          0|          0|          0|          1|          0|          0|          0|          0|          0|          0|          0|          0|          0|          0|          0|         5|(54,[0,1,2,3,4,5,...|\n",
            "|     2804|   139|    9|                             268|                            65|                           3180|          234|           238|          135|                              6121|               1|               0|               0|               0|         0|         0|         0|         0|         0|         0|         0|         0|         0|          0|          0|          1|          0|          0|          0|          0|          0|          0|          0|          0|          0|          0|          0|          0|          0|          0|          0|          0|          0|          0|          0|          0|          0|          0|          0|          0|          0|          0|          0|          0|         2|(54,[0,1,2,3,4,5,...|\n",
            "|     2785|   155|   18|                             242|                           118|                           3090|          238|           238|          122|                              6211|               1|               0|               0|               0|         0|         0|         0|         0|         0|         0|         0|         0|         0|          0|          0|          0|          0|          0|          0|          0|          0|          0|          0|          0|          0|          0|          0|          0|          0|          0|          0|          0|          0|          1|          0|          0|          0|          0|          0|          0|          0|          0|          0|          0|         2|(54,[0,1,2,3,4,5,...|\n",
            "|     2595|    45|    2|                             153|                            -1|                            391|          220|           234|          150|                              6172|               1|               0|               0|               0|         0|         0|         0|         0|         0|         0|         0|         0|         0|          0|          0|          0|          0|          0|          0|          0|          0|          0|          0|          0|          0|          0|          0|          0|          0|          0|          0|          0|          1|          0|          0|          0|          0|          0|          0|          0|          0|          0|          0|          0|         5|(54,[0,1,2,3,4,5,...|\n",
            "|     2579|   132|    6|                             300|                           -15|                             67|          230|           237|          140|                              6031|               1|               0|               0|               0|         0|         0|         0|         0|         0|         0|         0|         0|         0|          0|          0|          0|          0|          0|          0|          0|          0|          0|          0|          0|          0|          0|          0|          0|          0|          0|          0|          0|          1|          0|          0|          0|          0|          0|          0|          0|          0|          0|          0|          0|         2|(54,[0,1,2,3,4,5,...|\n",
            "|     2606|    45|    7|                             270|                             5|                            633|          222|           225|          138|                              6256|               1|               0|               0|               0|         0|         0|         0|         0|         0|         0|         0|         0|         0|          0|          0|          0|          0|          0|          0|          0|          0|          0|          0|          0|          0|          0|          0|          0|          0|          0|          0|          0|          1|          0|          0|          0|          0|          0|          0|          0|          0|          0|          0|          0|         5|(54,[0,1,2,3,4,5,...|\n",
            "|     2605|    49|    4|                             234|                             7|                            573|          222|           230|          144|                              6228|               1|               0|               0|               0|         0|         0|         0|         0|         0|         0|         0|         0|         0|          0|          0|          0|          0|          0|          0|          0|          0|          0|          0|          0|          0|          0|          0|          0|          0|          0|          0|          0|          1|          0|          0|          0|          0|          0|          0|          0|          0|          0|          0|          0|         5|(54,[0,1,2,3,4,5,...|\n",
            "|     2617|    45|    9|                             240|                            56|                            666|          223|           221|          133|                              6244|               1|               0|               0|               0|         0|         0|         0|         0|         0|         0|         0|         0|         0|          0|          0|          0|          0|          0|          0|          0|          0|          0|          0|          0|          0|          0|          0|          0|          0|          0|          0|          0|          1|          0|          0|          0|          0|          0|          0|          0|          0|          0|          0|          0|         5|(54,[0,1,2,3,4,5,...|\n",
            "|     2612|    59|   10|                             247|                            11|                            636|          228|           219|          124|                              6230|               1|               0|               0|               0|         0|         0|         0|         0|         0|         0|         0|         0|         0|          0|          0|          0|          0|          0|          0|          0|          0|          0|          0|          0|          0|          0|          0|          0|          0|          0|          0|          0|          1|          0|          0|          0|          0|          0|          0|          0|          0|          0|          0|          0|         5|(54,[0,1,2,3,4,5,...|\n",
            "|     2612|   201|    4|                             180|                            51|                            735|          218|           243|          161|                              6222|               1|               0|               0|               0|         0|         0|         0|         0|         0|         0|         0|         0|         0|          0|          0|          0|          0|          0|          0|          0|          0|          1|          0|          0|          0|          0|          0|          0|          0|          0|          0|          0|          0|          0|          0|          0|          0|          0|          0|          0|          0|          0|          0|          0|         5|(54,[0,1,2,3,4,5,...|\n",
            "|     2886|   151|   11|                             371|                            26|                           5253|          234|           240|          136|                              4051|               1|               0|               0|               0|         0|         0|         0|         0|         0|         0|         0|         0|         0|          0|          0|          0|          0|          0|          0|          0|          0|          0|          0|          0|          0|          0|          0|          0|          0|          0|          0|          0|          0|          1|          0|          0|          0|          0|          0|          0|          0|          0|          0|          0|         2|(54,[0,1,2,3,4,5,...|\n",
            "|     2742|   134|   22|                             150|                            69|                           3215|          248|           224|           92|                              6091|               1|               0|               0|               0|         0|         0|         0|         0|         0|         0|         0|         0|         0|          0|          0|          0|          0|          0|          0|          0|          0|          0|          0|          0|          0|          0|          0|          0|          0|          0|          0|          0|          0|          1|          0|          0|          0|          0|          0|          0|          0|          0|          0|          0|         2|(54,[0,1,2,3,4,5,...|\n",
            "|     2609|   214|    7|                             150|                            46|                            771|          213|           247|          170|                              6211|               1|               0|               0|               0|         0|         0|         0|         0|         0|         0|         0|         0|         0|          0|          0|          0|          0|          0|          0|          0|          0|          1|          0|          0|          0|          0|          0|          0|          0|          0|          0|          0|          0|          0|          0|          0|          0|          0|          0|          0|          0|          0|          0|          0|         5|(54,[0,1,2,3,4,5,...|\n",
            "|     2503|   157|    4|                              67|                             4|                            674|          224|           240|          151|                              5600|               1|               0|               0|               0|         0|         0|         0|         0|         0|         0|         0|         0|         0|          0|          0|          0|          0|          0|          0|          0|          0|          1|          0|          0|          0|          0|          0|          0|          0|          0|          0|          0|          0|          0|          0|          0|          0|          0|          0|          0|          0|          0|          0|          0|         5|(54,[0,1,2,3,4,5,...|\n",
            "|     2495|    51|    7|                              42|                             2|                            752|          224|           225|          137|                              5576|               1|               0|               0|               0|         0|         0|         0|         0|         0|         0|         0|         0|         0|          0|          0|          0|          0|          0|          0|          1|          0|          0|          0|          0|          0|          0|          0|          0|          0|          0|          0|          0|          0|          0|          0|          0|          0|          0|          0|          0|          0|          0|          0|          0|         5|(54,[0,1,2,3,4,5,...|\n",
            "|     2610|   259|    1|                             120|                            -1|                            607|          216|           239|          161|                              6096|               1|               0|               0|               0|         0|         0|         0|         0|         0|         0|         0|         0|         0|          0|          0|          0|          0|          0|          0|          0|          0|          0|          0|          0|          0|          0|          0|          0|          0|          0|          0|          0|          1|          0|          0|          0|          0|          0|          0|          0|          0|          0|          0|          0|         5|(54,[0,1,2,3,4,5,...|\n",
            "|     2517|    72|    7|                              85|                             6|                            595|          228|           227|          133|                              5607|               1|               0|               0|               0|         0|         0|         0|         0|         0|         0|         0|         0|         0|          0|          0|          0|          0|          0|          0|          0|          0|          1|          0|          0|          0|          0|          0|          0|          0|          0|          0|          0|          0|          0|          0|          0|          0|          0|          0|          0|          0|          0|          0|          0|         5|(54,[0,1,2,3,4,5,...|\n",
            "|     2504|     0|    4|                              95|                             5|                            691|          214|           232|          156|                              5572|               1|               0|               0|               0|         0|         0|         0|         0|         0|         0|         0|         0|         0|          0|          0|          0|          0|          0|          0|          0|          0|          1|          0|          0|          0|          0|          0|          0|          0|          0|          0|          0|          0|          0|          0|          0|          0|          0|          0|          0|          0|          0|          0|          0|         5|(54,[0,2,3,4,5,6,...|\n",
            "|     2503|    38|    5|                              85|                            10|                            741|          220|           228|          144|                              5555|               1|               0|               0|               0|         0|         0|         0|         0|         0|         0|         0|         0|         0|          0|          0|          0|          0|          0|          0|          0|          0|          1|          0|          0|          0|          0|          0|          0|          0|          0|          0|          0|          0|          0|          0|          0|          0|          0|          0|          0|          0|          0|          0|          0|         5|(54,[0,1,2,3,4,5,...|\n",
            "+---------+------+-----+--------------------------------+------------------------------+-------------------------------+-------------+--------------+-------------+----------------------------------+----------------+----------------+----------------+----------------+----------+----------+----------+----------+----------+----------+----------+----------+----------+-----------+-----------+-----------+-----------+-----------+-----------+-----------+-----------+-----------+-----------+-----------+-----------+-----------+-----------+-----------+-----------+-----------+-----------+-----------+-----------+-----------+-----------+-----------+-----------+-----------+-----------+-----------+-----------+-----------+-----------+-----------+----------+--------------------+\n",
            "only showing top 20 rows\n",
            "\n"
          ],
          "name": "stdout"
        }
      ]
    },
    {
      "cell_type": "code",
      "metadata": {
        "id": "UKvre3Xy-AL9",
        "colab": {
          "base_uri": "https://localhost:8080/"
        },
        "outputId": "0f9f125e-8131-478b-be89-b6ee71abf4af"
      },
      "source": [
        "# Split the data into training and test sets (40% held out for testing)\n",
        "#Answer below:\n",
        "train, test = X.randomSplit([0.6, 0.4], seed=1) # train_test_split\n",
        "train.show()"
      ],
      "execution_count": 110,
      "outputs": [
        {
          "output_type": "stream",
          "text": [
            "+---------+------+-----+--------------------------------+------------------------------+-------------------------------+-------------+--------------+-------------+----------------------------------+----------------+----------------+----------------+----------------+----------+----------+----------+----------+----------+----------+----------+----------+----------+-----------+-----------+-----------+-----------+-----------+-----------+-----------+-----------+-----------+-----------+-----------+-----------+-----------+-----------+-----------+-----------+-----------+-----------+-----------+-----------+-----------+-----------+-----------+-----------+-----------+-----------+-----------+-----------+-----------+-----------+-----------+----------+--------------------+\n",
            "|Elevation|Aspect|Slope|Horizontal_Distance_To_Hydrology|Vertical_Distance_To_Hydrology|Horizontal_Distance_To_Roadways|Hillshade_9am|Hillshade_Noon|Hillshade_3pm|Horizontal_Distance_To_Fire_Points|Wilderness_Area1|Wilderness_Area2|Wilderness_Area3|Wilderness_Area4|Soil_Type1|Soil_Type2|Soil_Type3|Soil_Type4|Soil_Type5|Soil_Type6|Soil_Type7|Soil_Type8|Soil_Type9|Soil_Type10|Soil_Type11|Soil_Type12|Soil_Type13|Soil_Type14|Soil_Type15|Soil_Type16|Soil_Type17|Soil_Type18|Soil_Type19|Soil_Type20|Soil_Type21|Soil_Type22|Soil_Type23|Soil_Type24|Soil_Type25|Soil_Type26|Soil_Type27|Soil_Type28|Soil_Type29|Soil_Type30|Soil_Type31|Soil_Type32|Soil_Type33|Soil_Type34|Soil_Type35|Soil_Type36|Soil_Type37|Soil_Type38|Soil_Type39|Soil_Type40|Cover_Type|            features|\n",
            "+---------+------+-----+--------------------------------+------------------------------+-------------------------------+-------------+--------------+-------------+----------------------------------+----------------+----------------+----------------+----------------+----------+----------+----------+----------+----------+----------+----------+----------+----------+-----------+-----------+-----------+-----------+-----------+-----------+-----------+-----------+-----------+-----------+-----------+-----------+-----------+-----------+-----------+-----------+-----------+-----------+-----------+-----------+-----------+-----------+-----------+-----------+-----------+-----------+-----------+-----------+-----------+-----------+-----------+----------+--------------------+\n",
            "|     1863|    37|   17|                             120|                            18|                             90|          217|           202|          115|                               769|               0|               0|               0|               1|         0|         1|         0|         0|         0|         0|         0|         0|         0|          0|          0|          0|          0|          0|          0|          0|          0|          0|          0|          0|          0|          0|          0|          0|          0|          0|          0|          0|          0|          0|          0|          0|          0|          0|          0|          0|          0|          0|          0|          0|         6|(54,[0,1,2,3,4,5,...|\n",
            "|     1874|    18|   14|                               0|                             0|                             90|          208|           209|          135|                               793|               0|               0|               0|               1|         0|         0|         0|         0|         1|         0|         0|         0|         0|          0|          0|          0|          0|          0|          0|          0|          0|          0|          0|          0|          0|          0|          0|          0|          0|          0|          0|          0|          0|          0|          0|          0|          0|          0|          0|          0|          0|          0|          0|          0|         6|(54,[0,1,2,5,6,7,...|\n",
            "|     1879|    28|   19|                              30|                            12|                             95|          209|           196|          117|                               778|               0|               0|               0|               1|         0|         0|         0|         0|         1|         0|         0|         0|         0|          0|          0|          0|          0|          0|          0|          0|          0|          0|          0|          0|          0|          0|          0|          0|          0|          0|          0|          0|          0|          0|          0|          0|          0|          0|          0|          0|          0|          0|          0|          0|         6|(54,[0,1,2,3,4,5,...|\n",
            "|     1888|    33|   22|                             150|                            46|                            108|          209|           185|          103|                               735|               0|               0|               0|               1|         0|         1|         0|         0|         0|         0|         0|         0|         0|          0|          0|          0|          0|          0|          0|          0|          0|          0|          0|          0|          0|          0|          0|          0|          0|          0|          0|          0|          0|          0|          0|          0|          0|          0|          0|          0|          0|          0|          0|          0|         6|(54,[0,1,2,3,4,5,...|\n",
            "|     1896|   337|   12|                              30|                             6|                            175|          195|           224|          168|                               732|               0|               0|               0|               1|         0|         0|         0|         0|         1|         0|         0|         0|         0|          0|          0|          0|          0|          0|          0|          0|          0|          0|          0|          0|          0|          0|          0|          0|          0|          0|          0|          0|          0|          0|          0|          0|          0|          0|          0|          0|          0|          0|          0|          0|         6|(54,[0,1,2,3,4,5,...|\n",
            "|     1899|   355|   22|                             153|                            43|                            124|          178|           195|          151|                               819|               0|               0|               0|               1|         0|         0|         0|         0|         1|         0|         0|         0|         0|          0|          0|          0|          0|          0|          0|          0|          0|          0|          0|          0|          0|          0|          0|          0|          0|          0|          0|          0|          0|          0|          0|          0|          0|          0|          0|          0|          0|          0|          0|          0|         6|(54,[0,1,2,3,4,5,...|\n",
            "|     1901|   311|    9|                              30|                             2|                            190|          195|           234|          179|                               726|               0|               0|               0|               1|         1|         0|         0|         0|         0|         0|         0|         0|         0|          0|          0|          0|          0|          0|          0|          0|          0|          0|          0|          0|          0|          0|          0|          0|          0|          0|          0|          0|          0|          0|          0|          0|          0|          0|          0|          0|          0|          0|          0|          0|         6|(54,[0,1,2,3,4,5,...|\n",
            "|     1903|    67|   16|                             108|                            36|                            120|          234|           207|          100|                               969|               0|               0|               0|               1|         0|         0|         1|         0|         0|         0|         0|         0|         0|          0|          0|          0|          0|          0|          0|          0|          0|          0|          0|          0|          0|          0|          0|          0|          0|          0|          0|          0|          0|          0|          0|          0|          0|          0|          0|          0|          0|          0|          0|          0|         3|(54,[0,1,2,3,4,5,...|\n",
            "|     1904|    51|   26|                              67|                            30|                            162|          222|           175|           72|                               711|               0|               0|               0|               1|         1|         0|         0|         0|         0|         0|         0|         0|         0|          0|          0|          0|          0|          0|          0|          0|          0|          0|          0|          0|          0|          0|          0|          0|          0|          0|          0|          0|          0|          0|          0|          0|          0|          0|          0|          0|          0|          0|          0|          0|         6|(54,[0,1,2,3,4,5,...|\n",
            "|     1905|    19|   27|                             134|                            58|                            120|          188|           171|          108|                               636|               0|               0|               0|               1|         0|         0|         0|         0|         1|         0|         0|         0|         0|          0|          0|          0|          0|          0|          0|          0|          0|          0|          0|          0|          0|          0|          0|          0|          0|          0|          0|          0|          0|          0|          0|          0|          0|          0|          0|          0|          0|          0|          0|          0|         6|(54,[0,1,2,3,4,5,...|\n",
            "|     1905|    33|   27|                              90|                            46|                            150|          204|           171|           89|                               725|               0|               0|               0|               1|         1|         0|         0|         0|         0|         0|         0|         0|         0|          0|          0|          0|          0|          0|          0|          0|          0|          0|          0|          0|          0|          0|          0|          0|          0|          0|          0|          0|          0|          0|          0|          0|          0|          0|          0|          0|          0|          0|          0|          0|         6|(54,[0,1,2,3,4,5,...|\n",
            "|     1905|    77|   21|                              90|                            38|                            120|          241|           196|           75|                              1025|               0|               0|               0|               1|         0|         0|         1|         0|         0|         0|         0|         0|         0|          0|          0|          0|          0|          0|          0|          0|          0|          0|          0|          0|          0|          0|          0|          0|          0|          0|          0|          0|          0|          0|          0|          0|          0|          0|          0|          0|          0|          0|          0|          0|         3|(54,[0,1,2,3,4,5,...|\n",
            "|     1908|   323|   32|                             150|                            52|                            120|          125|           190|          196|                               765|               0|               0|               0|               1|         0|         0|         0|         0|         1|         0|         0|         0|         0|          0|          0|          0|          0|          0|          0|          0|          0|          0|          0|          0|          0|          0|          0|          0|          0|          0|          0|          0|          0|          0|          0|          0|          0|          0|          0|          0|          0|          0|          0|          0|         6|(54,[0,1,2,3,4,5,...|\n",
            "|     1916|   320|   24|                             190|                            60|                            162|          151|           210|          195|                               832|               0|               0|               0|               1|         0|         0|         0|         0|         1|         0|         0|         0|         0|          0|          0|          0|          0|          0|          0|          0|          0|          0|          0|          0|          0|          0|          0|          0|          0|          0|          0|          0|          0|          0|          0|          0|          0|          0|          0|          0|          0|          0|          0|          0|         6|(54,[0,1,2,3,4,5,...|\n",
            "|     1919|    30|   22|                              67|                             9|                            256|          208|           188|          107|                               661|               0|               0|               0|               1|         1|         0|         0|         0|         0|         0|         0|         0|         0|          0|          0|          0|          0|          0|          0|          0|          0|          0|          0|          0|          0|          0|          0|          0|          0|          0|          0|          0|          0|          0|          0|          0|          0|          0|          0|          0|          0|          0|          0|          0|         6|(54,[0,1,2,3,4,5,...|\n",
            "|     1919|    44|   26|                             162|                            68|                            150|          216|           173|           77|                               706|               0|               0|               0|               1|         0|         0|         0|         0|         1|         0|         0|         0|         0|          0|          0|          0|          0|          0|          0|          0|          0|          0|          0|          0|          0|          0|          0|          0|          0|          0|          0|          0|          0|          0|          0|          0|          0|          0|          0|          0|          0|          0|          0|          0|         6|(54,[0,1,2,3,4,5,...|\n",
            "|     1922|    50|   29|                             108|                            43|                            218|          219|           165|           62|                               659|               0|               0|               0|               1|         1|         0|         0|         0|         0|         0|         0|         0|         0|          0|          0|          0|          0|          0|          0|          0|          0|          0|          0|          0|          0|          0|          0|          0|          0|          0|          0|          0|          0|          0|          0|          0|          0|          0|          0|          0|          0|          0|          0|          0|         6|(54,[0,1,2,3,4,5,...|\n",
            "|     1927|     4|   36|                             120|                            78|                             95|          149|           147|          116|                               666|               0|               0|               0|               1|         0|         0|         0|         0|         1|         0|         0|         0|         0|          0|          0|          0|          0|          0|          0|          0|          0|          0|          0|          0|          0|          0|          0|          0|          0|          0|          0|          0|          0|          0|          0|          0|          0|          0|          0|          0|          0|          0|          0|          0|         6|(54,[0,1,2,3,4,5,...|\n",
            "|     1927|    54|   25|                             190|                            76|                            175|          225|           177|           71|                               735|               0|               0|               0|               1|         1|         0|         0|         0|         0|         0|         0|         0|         0|          0|          0|          0|          0|          0|          0|          0|          0|          0|          0|          0|          0|          0|          0|          0|          0|          0|          0|          0|          0|          0|          0|          0|          0|          0|          0|          0|          0|          0|          0|          0|         6|(54,[0,1,2,3,4,5,...|\n",
            "|     1927|   333|   27|                             218|                            72|                            190|          149|           195|          180|                               859|               0|               0|               0|               1|         0|         0|         0|         0|         1|         0|         0|         0|         0|          0|          0|          0|          0|          0|          0|          0|          0|          0|          0|          0|          0|          0|          0|          0|          0|          0|          0|          0|          0|          0|          0|          0|          0|          0|          0|          0|          0|          0|          0|          0|         6|(54,[0,1,2,3,4,5,...|\n",
            "+---------+------+-----+--------------------------------+------------------------------+-------------------------------+-------------+--------------+-------------+----------------------------------+----------------+----------------+----------------+----------------+----------+----------+----------+----------+----------+----------+----------+----------+----------+-----------+-----------+-----------+-----------+-----------+-----------+-----------+-----------+-----------+-----------+-----------+-----------+-----------+-----------+-----------+-----------+-----------+-----------+-----------+-----------+-----------+-----------+-----------+-----------+-----------+-----------+-----------+-----------+-----------+-----------+-----------+----------+--------------------+\n",
            "only showing top 20 rows\n",
            "\n"
          ],
          "name": "stdout"
        }
      ]
    },
    {
      "cell_type": "code",
      "metadata": {
        "id": "k0Sx4U14-Lpg"
      },
      "source": [
        "from pyspark.ml.classification import RandomForestClassifier\n",
        "\n",
        "# Define a RandomForest model.\n",
        "rf = RandomForestClassifier(featuresCol='features', labelCol='Cover_Type')\n",
        "\n",
        "rfModel = rf.fit(train) # for training"
      ],
      "execution_count": 112,
      "outputs": []
    },
    {
      "cell_type": "markdown",
      "metadata": {
        "id": "9at6mz78mK4v"
      },
      "source": [
        "Fit the model and predict on the test data."
      ]
    },
    {
      "cell_type": "code",
      "metadata": {
        "id": "8FhL9nJiIAXG",
        "colab": {
          "base_uri": "https://localhost:8080/"
        },
        "outputId": "6c24a81d-1a75-4780-d9ac-f9a2289b5ebc"
      },
      "source": [
        "#Answer below:\n",
        "predictions = rfModel.transform(test)\n",
        "predictions.show(10)"
      ],
      "execution_count": 113,
      "outputs": [
        {
          "output_type": "stream",
          "text": [
            "+---------+------+-----+--------------------------------+------------------------------+-------------------------------+-------------+--------------+-------------+----------------------------------+----------------+----------------+----------------+----------------+----------+----------+----------+----------+----------+----------+----------+----------+----------+-----------+-----------+-----------+-----------+-----------+-----------+-----------+-----------+-----------+-----------+-----------+-----------+-----------+-----------+-----------+-----------+-----------+-----------+-----------+-----------+-----------+-----------+-----------+-----------+-----------+-----------+-----------+-----------+-----------+-----------+-----------+----------+--------------------+--------------------+--------------------+----------+\n",
            "|Elevation|Aspect|Slope|Horizontal_Distance_To_Hydrology|Vertical_Distance_To_Hydrology|Horizontal_Distance_To_Roadways|Hillshade_9am|Hillshade_Noon|Hillshade_3pm|Horizontal_Distance_To_Fire_Points|Wilderness_Area1|Wilderness_Area2|Wilderness_Area3|Wilderness_Area4|Soil_Type1|Soil_Type2|Soil_Type3|Soil_Type4|Soil_Type5|Soil_Type6|Soil_Type7|Soil_Type8|Soil_Type9|Soil_Type10|Soil_Type11|Soil_Type12|Soil_Type13|Soil_Type14|Soil_Type15|Soil_Type16|Soil_Type17|Soil_Type18|Soil_Type19|Soil_Type20|Soil_Type21|Soil_Type22|Soil_Type23|Soil_Type24|Soil_Type25|Soil_Type26|Soil_Type27|Soil_Type28|Soil_Type29|Soil_Type30|Soil_Type31|Soil_Type32|Soil_Type33|Soil_Type34|Soil_Type35|Soil_Type36|Soil_Type37|Soil_Type38|Soil_Type39|Soil_Type40|Cover_Type|            features|       rawPrediction|         probability|prediction|\n",
            "+---------+------+-----+--------------------------------+------------------------------+-------------------------------+-------------+--------------+-------------+----------------------------------+----------------+----------------+----------------+----------------+----------+----------+----------+----------+----------+----------+----------+----------+----------+-----------+-----------+-----------+-----------+-----------+-----------+-----------+-----------+-----------+-----------+-----------+-----------+-----------+-----------+-----------+-----------+-----------+-----------+-----------+-----------+-----------+-----------+-----------+-----------+-----------+-----------+-----------+-----------+-----------+-----------+-----------+----------+--------------------+--------------------+--------------------+----------+\n",
            "|     1889|    28|   22|                             150|                            23|                            120|          205|           185|          108|                               759|               0|               0|               0|               1|         1|         0|         0|         0|         0|         0|         0|         0|         0|          0|          0|          0|          0|          0|          0|          0|          0|          0|          0|          0|          0|          0|          0|          0|          0|          0|          0|          0|          0|          0|          0|          0|          0|          0|          0|          0|          0|          0|          0|          0|         6|(54,[0,1,2,3,4,5,...|[0.0,0.6358645069...|[0.0,0.0317932253...|       3.0|\n",
            "|     1889|   353|   30|                              95|                            39|                             67|          153|           172|          146|                               600|               0|               0|               0|               1|         0|         0|         0|         0|         1|         0|         0|         0|         0|          0|          0|          0|          0|          0|          0|          0|          0|          0|          0|          0|          0|          0|          0|          0|          0|          0|          0|          0|          0|          0|          0|          0|          0|          0|          0|          0|          0|          0|          0|          0|         6|(54,[0,1,2,3,4,5,...|[0.0,1.1486438597...|[0.0,0.0574321929...|       3.0|\n",
            "|     1898|    34|   23|                             175|                            56|                            134|          210|           184|           99|                               765|               0|               0|               0|               1|         0|         1|         0|         0|         0|         0|         0|         0|         0|          0|          0|          0|          0|          0|          0|          0|          0|          0|          0|          0|          0|          0|          0|          0|          0|          0|          0|          0|          0|          0|          0|          0|          0|          0|          0|          0|          0|          0|          0|          0|         6|(54,[0,1,2,3,4,5,...|[0.0,1.0434015596...|[0.0,0.0521700779...|       3.0|\n",
            "|     1903|     5|   13|                              42|                             4|                            201|          203|           214|          148|                               708|               0|               0|               0|               1|         1|         0|         0|         0|         0|         0|         0|         0|         0|          0|          0|          0|          0|          0|          0|          0|          0|          0|          0|          0|          0|          0|          0|          0|          0|          0|          0|          0|          0|          0|          0|          0|          0|          0|          0|          0|          0|          0|          0|          0|         6|(54,[0,1,2,3,4,5,...|[0.0,0.6358645069...|[0.0,0.0317932253...|       3.0|\n",
            "|     1906|   356|   20|                             150|                            55|                            120|          184|           201|          151|                               726|               0|               0|               0|               1|         0|         1|         0|         0|         0|         0|         0|         0|         0|          0|          0|          0|          0|          0|          0|          0|          0|          0|          0|          0|          0|          0|          0|          0|          0|          0|          0|          0|          0|          0|          0|          0|          0|          0|          0|          0|          0|          0|          0|          0|         6|(54,[0,1,2,3,4,5,...|[0.0,1.1454499287...|[0.0,0.0572724964...|       3.0|\n",
            "|     1916|    24|   25|                             212|                            74|                            175|          197|           177|          105|                               789|               0|               0|               0|               1|         0|         1|         0|         0|         0|         0|         0|         0|         0|          0|          0|          0|          0|          0|          0|          0|          0|          0|          0|          0|          0|          0|          0|          0|          0|          0|          0|          0|          0|          0|          0|          0|          0|          0|          0|          0|          0|          0|          0|          0|         6|(54,[0,1,2,3,4,5,...|[0.0,1.0434015596...|[0.0,0.0521700779...|       3.0|\n",
            "|     1918|   321|   28|                              42|                            17|                             85|          139|           201|          196|                               402|               0|               0|               0|               1|         0|         0|         0|         0|         0|         0|         0|         0|         0|          1|          0|          0|          0|          0|          0|          0|          0|          0|          0|          0|          0|          0|          0|          0|          0|          0|          0|          0|          0|          0|          0|          0|          0|          0|          0|          0|          0|          0|          0|          0|         3|(54,[0,1,2,3,4,5,...|[0.0,0.1077004371...|[0.0,0.0053850218...|       3.0|\n",
            "|     1925|   352|   22|                             210|                            74|                            182|          176|           197|          155|                               779|               0|               0|               0|               1|         0|         0|         0|         0|         1|         0|         0|         0|         0|          0|          0|          0|          0|          0|          0|          0|          0|          0|          0|          0|          0|          0|          0|          0|          0|          0|          0|          0|          0|          0|          0|          0|          0|          0|          0|          0|          0|          0|          0|          0|         6|(54,[0,1,2,3,4,5,...|[0.0,1.4031969846...|[0.0,0.0701598492...|       3.0|\n",
            "|     1928|   252|   31|                              30|                            14|                            180|          138|           243|          233|                               765|               0|               0|               0|               1|         1|         0|         0|         0|         0|         0|         0|         0|         0|          0|          0|          0|          0|          0|          0|          0|          0|          0|          0|          0|          0|          0|          0|          0|          0|          0|          0|          0|          0|          0|          0|          0|          0|          0|          0|          0|          0|          0|          0|          0|         6|(54,[0,1,2,3,4,5,...|[0.0,0.4104083813...|[0.0,0.0205204190...|       3.0|\n",
            "|     1932|   251|   26|                              30|                            10|                            240|          154|           247|          224|                               743|               0|               0|               0|               1|         1|         0|         0|         0|         0|         0|         0|         0|         0|          0|          0|          0|          0|          0|          0|          0|          0|          0|          0|          0|          0|          0|          0|          0|          0|          0|          0|          0|          0|          0|          0|          0|          0|          0|          0|          0|          0|          0|          0|          0|         6|(54,[0,1,2,3,4,5,...|[0.0,0.4104083813...|[0.0,0.0205204190...|       3.0|\n",
            "+---------+------+-----+--------------------------------+------------------------------+-------------------------------+-------------+--------------+-------------+----------------------------------+----------------+----------------+----------------+----------------+----------+----------+----------+----------+----------+----------+----------+----------+----------+-----------+-----------+-----------+-----------+-----------+-----------+-----------+-----------+-----------+-----------+-----------+-----------+-----------+-----------+-----------+-----------+-----------+-----------+-----------+-----------+-----------+-----------+-----------+-----------+-----------+-----------+-----------+-----------+-----------+-----------+-----------+----------+--------------------+--------------------+--------------------+----------+\n",
            "only showing top 10 rows\n",
            "\n"
          ],
          "name": "stdout"
        }
      ]
    },
    {
      "cell_type": "markdown",
      "metadata": {
        "id": "I6TyrGJsmULB"
      },
      "source": [
        "Build a classification matrix to review the model preformance with the data test set."
      ]
    },
    {
      "cell_type": "code",
      "metadata": {
        "id": "A3D-XbnTjTNT",
        "colab": {
          "base_uri": "https://localhost:8080/"
        },
        "outputId": "bfcbbdd1-0d54-4f62-f94c-9b250102d348"
      },
      "source": [
        "from sklearn.metrics import confusion_matrix\n",
        "\n",
        "y_true = predictions.select('Cover_Type')\n",
        "y_pred = predictions.select('prediction')\n",
        "\n",
        "#Answer below:\n",
        "confusion_matrix(y_true.collect(), y_pred.collect())"
      ],
      "execution_count": 119,
      "outputs": [
        {
          "output_type": "execute_result",
          "data": {
            "text/plain": [
              "array([[23455, 20699,     0,     0,     0,     0,     0],\n",
              "       [ 5871, 75460,   754,     0,     0,     0,     0],\n",
              "       [    0,  1878,  8290,     0,     0,     0,     0],\n",
              "       [    0,     1,  1092,     0,     0,     0,     0],\n",
              "       [    0,  3211,     0,     0,     0,     0,     0],\n",
              "       [    0,  1539,  3825,     0,     0,     0,     0],\n",
              "       [ 2658,   350,     0,     0,     0,     0,    82]])"
            ]
          },
          "metadata": {
            "tags": []
          },
          "execution_count": 119
        }
      ]
    },
    {
      "cell_type": "code",
      "metadata": {
        "id": "yOMVb_TxLIBr"
      },
      "source": [
        ""
      ],
      "execution_count": null,
      "outputs": []
    }
  ]
}