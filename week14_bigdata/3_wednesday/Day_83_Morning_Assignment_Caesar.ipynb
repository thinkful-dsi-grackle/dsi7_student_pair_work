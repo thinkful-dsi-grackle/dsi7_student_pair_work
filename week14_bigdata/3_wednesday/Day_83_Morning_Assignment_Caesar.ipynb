{
  "nbformat": 4,
  "nbformat_minor": 0,
  "metadata": {
    "colab": {
      "name": "Day 83 Morning Assignment_Caesar.ipynb",
      "provenance": [],
      "collapsed_sections": []
    },
    "kernelspec": {
      "name": "python3",
      "display_name": "Python 3"
    }
  },
  "cells": [
    {
      "cell_type": "code",
      "metadata": {
        "colab": {
          "base_uri": "https://localhost:8080/"
        },
        "id": "Rwd0ryojv_p8",
        "outputId": "d08497ce-12cc-4242-eb0e-e3e9bffbeabf"
      },
      "source": [
        "!apt-get update"
      ],
      "execution_count": 1,
      "outputs": [
        {
          "output_type": "stream",
          "text": [
            "Get:1 https://cloud.r-project.org/bin/linux/ubuntu bionic-cran40/ InRelease [3,626 B]\n",
            "Ign:2 https://developer.download.nvidia.com/compute/cuda/repos/ubuntu1804/x86_64  InRelease\n",
            "Get:3 https://cloud.r-project.org/bin/linux/ubuntu bionic-cran40/ Packages [43.6 kB]\n",
            "Get:4 http://ppa.launchpad.net/c2d4u.team/c2d4u4.0+/ubuntu bionic InRelease [15.9 kB]\n",
            "Get:5 http://security.ubuntu.com/ubuntu bionic-security InRelease [88.7 kB]\n",
            "Hit:6 http://archive.ubuntu.com/ubuntu bionic InRelease\n",
            "Get:7 http://archive.ubuntu.com/ubuntu bionic-updates InRelease [88.7 kB]\n",
            "Ign:8 https://developer.download.nvidia.com/compute/machine-learning/repos/ubuntu1804/x86_64  InRelease\n",
            "Hit:9 https://developer.download.nvidia.com/compute/cuda/repos/ubuntu1804/x86_64  Release\n",
            "Get:10 https://developer.download.nvidia.com/compute/machine-learning/repos/ubuntu1804/x86_64  Release [564 B]\n",
            "Get:11 https://developer.download.nvidia.com/compute/machine-learning/repos/ubuntu1804/x86_64  Release.gpg [833 B]\n",
            "Hit:12 http://ppa.launchpad.net/cran/libgit2/ubuntu bionic InRelease\n",
            "Get:14 https://developer.download.nvidia.com/compute/machine-learning/repos/ubuntu1804/x86_64  Packages [66.5 kB]\n",
            "Get:15 http://ppa.launchpad.net/graphics-drivers/ppa/ubuntu bionic InRelease [21.3 kB]\n",
            "Get:16 http://archive.ubuntu.com/ubuntu bionic-backports InRelease [74.6 kB]\n",
            "Get:17 http://security.ubuntu.com/ubuntu bionic-security/restricted amd64 Packages [278 kB]\n",
            "Get:18 http://ppa.launchpad.net/c2d4u.team/c2d4u4.0+/ubuntu bionic/main Sources [1,707 kB]\n",
            "Get:19 http://archive.ubuntu.com/ubuntu bionic-updates/multiverse amd64 Packages [45.6 kB]\n",
            "Get:20 http://security.ubuntu.com/ubuntu bionic-security/main amd64 Packages [1,872 kB]\n",
            "Get:21 http://archive.ubuntu.com/ubuntu bionic-updates/universe amd64 Packages [2,140 kB]\n",
            "Get:22 http://security.ubuntu.com/ubuntu bionic-security/universe amd64 Packages [1,376 kB]\n",
            "Get:23 http://archive.ubuntu.com/ubuntu bionic-updates/main amd64 Packages [2,298 kB]\n",
            "Get:24 http://archive.ubuntu.com/ubuntu bionic-updates/restricted amd64 Packages [304 kB]\n",
            "Get:25 http://ppa.launchpad.net/c2d4u.team/c2d4u4.0+/ubuntu bionic/main amd64 Packages [874 kB]\n",
            "Get:26 http://ppa.launchpad.net/graphics-drivers/ppa/ubuntu bionic/main amd64 Packages [49.2 kB]\n",
            "Fetched 11.3 MB in 7s (1,687 kB/s)\n",
            "Reading package lists... Done\n"
          ],
          "name": "stdout"
        }
      ]
    },
    {
      "cell_type": "code",
      "metadata": {
        "id": "45yWOOXywJBj"
      },
      "source": [
        "!apt-get install openjdk-8-jdk-headless -qq > /dev/null\r\n",
        "!wget -q https://archive.apache.org/dist/spark/spark-2.4.6/spark-2.4.6-bin-hadoop2.7.tgz\r\n",
        "!tar xf spark-2.4.6-bin-hadoop2.7.tgz"
      ],
      "execution_count": 2,
      "outputs": []
    },
    {
      "cell_type": "code",
      "metadata": {
        "id": "Yu3CexujwQmH"
      },
      "source": [
        "import os\r\n",
        "os.environ[\"JAVA_HOME\"] = \"/usr/lib/jvm/java-8-openjdk-amd64\"\r\n",
        "os.environ[\"SPARK_HOME\"] = \"/content/spark-2.4.6-bin-hadoop2.7\""
      ],
      "execution_count": 3,
      "outputs": []
    },
    {
      "cell_type": "code",
      "metadata": {
        "colab": {
          "base_uri": "https://localhost:8080/"
        },
        "id": "MfCaoEMjwT9k",
        "outputId": "fe42759c-afd6-403b-e019-2e0ea8f9d2ba"
      },
      "source": [
        "!pip install -q findspark\r\n",
        "!pip install pyspark==2.4.7"
      ],
      "execution_count": 5,
      "outputs": [
        {
          "output_type": "stream",
          "text": [
            "Collecting pyspark==2.4.7\n",
            "\u001b[?25l  Downloading https://files.pythonhosted.org/packages/e2/06/29f80e5a464033432eedf89924e7aa6ebbc47ce4dcd956853a73627f2c07/pyspark-2.4.7.tar.gz (217.9MB)\n",
            "\u001b[K     |████████████████████████████████| 217.9MB 66kB/s \n",
            "\u001b[?25hCollecting py4j==0.10.7\n",
            "\u001b[?25l  Downloading https://files.pythonhosted.org/packages/e3/53/c737818eb9a7dc32a7cd4f1396e787bd94200c3997c72c1dbe028587bd76/py4j-0.10.7-py2.py3-none-any.whl (197kB)\n",
            "\u001b[K     |████████████████████████████████| 204kB 46.9MB/s \n",
            "\u001b[?25hBuilding wheels for collected packages: pyspark\n",
            "  Building wheel for pyspark (setup.py) ... \u001b[?25l\u001b[?25hdone\n",
            "  Created wheel for pyspark: filename=pyspark-2.4.7-py2.py3-none-any.whl size=218279465 sha256=4acaf6cf5969b093dc9dc742b1d10278e3a42028a3beff998c966f9b367a9723\n",
            "  Stored in directory: /root/.cache/pip/wheels/34/1f/2e/1e7460f80acf26b08dbb8c53d7ff9e07146f2a68dd5c732be5\n",
            "Successfully built pyspark\n",
            "Installing collected packages: py4j, pyspark\n",
            "Successfully installed py4j-0.10.7 pyspark-2.4.7\n"
          ],
          "name": "stdout"
        }
      ]
    },
    {
      "cell_type": "code",
      "metadata": {
        "colab": {
          "base_uri": "https://localhost:8080/"
        },
        "id": "07TaI8uQwWG1",
        "outputId": "dd1cf510-6ac2-403e-9b53-c818d63b9121"
      },
      "source": [
        "from google.colab import drive\r\n",
        "drive.mount('/content/gdrive')"
      ],
      "execution_count": 6,
      "outputs": [
        {
          "output_type": "stream",
          "text": [
            "Mounted at /content/gdrive\n"
          ],
          "name": "stdout"
        }
      ]
    },
    {
      "cell_type": "markdown",
      "metadata": {
        "id": "ppyCp5wcw7mP"
      },
      "source": [
        "Change your directory to the Colab Data folder where you saved the CSV file."
      ]
    },
    {
      "cell_type": "code",
      "metadata": {
        "id": "uUQzX8lOw8Z2"
      },
      "source": [
        "os.chdir('/content/gdrive/MyDrive/')"
      ],
      "execution_count": 11,
      "outputs": []
    },
    {
      "cell_type": "code",
      "metadata": {
        "id": "AsdQpXO1xKBv"
      },
      "source": [
        "# setting local session\r\n",
        "APP_NAME = \"Day83\"\r\n",
        "SPARK_URL = \"local[*]\""
      ],
      "execution_count": 9,
      "outputs": []
    },
    {
      "cell_type": "code",
      "metadata": {
        "colab": {
          "base_uri": "https://localhost:8080/",
          "height": 35
        },
        "id": "-VhkfEO1xN-N",
        "outputId": "baa8c27a-f0ee-4770-866b-cde8e5762d5e"
      },
      "source": [
        "# checking wd for videogames csv\r\n",
        "os.getcwd()"
      ],
      "execution_count": 12,
      "outputs": [
        {
          "output_type": "execute_result",
          "data": {
            "application/vnd.google.colaboratory.intrinsic+json": {
              "type": "string"
            },
            "text/plain": [
              "'/content/gdrive/MyDrive'"
            ]
          },
          "metadata": {
            "tags": []
          },
          "execution_count": 12
        }
      ]
    },
    {
      "cell_type": "code",
      "metadata": {
        "id": "8W6aUYhDwxhQ"
      },
      "source": [
        "from pyspark import SparkContext, SparkConf"
      ],
      "execution_count": 7,
      "outputs": []
    },
    {
      "cell_type": "code",
      "metadata": {
        "id": "N8ahFrjAw4fz"
      },
      "source": [
        "# starting session\r\n",
        "from pyspark.sql import SparkSession\r\n",
        "spark = SparkSession.builder.appName(APP_NAME).getOrCreate()"
      ],
      "execution_count": 13,
      "outputs": []
    },
    {
      "cell_type": "code",
      "metadata": {
        "id": "kGmXbrsax9Ys"
      },
      "source": [
        "# load dataset\r\n",
        "video = spark.read.format(\"csv\").option(\"header\", \"true\").option(\"inferSchema\", \"true\").load(\"Video_Games_Sales_as_at_22_Dec_2016.csv\")"
      ],
      "execution_count": 14,
      "outputs": []
    },
    {
      "cell_type": "code",
      "metadata": {
        "colab": {
          "base_uri": "https://localhost:8080/"
        },
        "id": "jrpM2YK5yBV5",
        "outputId": "a74740d2-d471-4041-870a-b604a3db1b3f"
      },
      "source": [
        "# data review\r\n",
        "video.show()"
      ],
      "execution_count": 15,
      "outputs": [
        {
          "output_type": "stream",
          "text": [
            "+--------------------+--------+---------------+------------+--------------------+--------+--------+--------+-----------+------------+------------+------------+----------+----------+-------------------+------+\n",
            "|                Name|Platform|Year_of_Release|       Genre|           Publisher|NA_Sales|EU_Sales|JP_Sales|Other_Sales|Global_Sales|Critic_Score|Critic_Count|User_Score|User_Count|          Developer|Rating|\n",
            "+--------------------+--------+---------------+------------+--------------------+--------+--------+--------+-----------+------------+------------+------------+----------+----------+-------------------+------+\n",
            "|          Wii Sports|     Wii|           2006|      Sports|            Nintendo|   41.36|   28.96|    3.77|       8.45|       82.53|          76|          51|         8|       322|           Nintendo|     E|\n",
            "|   Super Mario Bros.|     NES|           1985|    Platform|            Nintendo|   29.08|    3.58|    6.81|       0.77|       40.24|        null|        null|      null|      null|               null|  null|\n",
            "|      Mario Kart Wii|     Wii|           2008|      Racing|            Nintendo|   15.68|   12.76|    3.79|       3.29|       35.52|          82|          73|       8.3|       709|           Nintendo|     E|\n",
            "|   Wii Sports Resort|     Wii|           2009|      Sports|            Nintendo|   15.61|   10.93|    3.28|       2.95|       32.77|          80|          73|         8|       192|           Nintendo|     E|\n",
            "|Pokemon Red/Pokem...|      GB|           1996|Role-Playing|            Nintendo|   11.27|    8.89|   10.22|        1.0|       31.37|        null|        null|      null|      null|               null|  null|\n",
            "|              Tetris|      GB|           1989|      Puzzle|            Nintendo|    23.2|    2.26|    4.22|       0.58|       30.26|        null|        null|      null|      null|               null|  null|\n",
            "|New Super Mario B...|      DS|           2006|    Platform|            Nintendo|   11.28|    9.14|     6.5|       2.88|        29.8|          89|          65|       8.5|       431|           Nintendo|     E|\n",
            "|            Wii Play|     Wii|           2006|        Misc|            Nintendo|   13.96|    9.18|    2.93|       2.84|       28.92|          58|          41|       6.6|       129|           Nintendo|     E|\n",
            "|New Super Mario B...|     Wii|           2009|    Platform|            Nintendo|   14.44|    6.94|     4.7|       2.24|       28.32|          87|          80|       8.4|       594|           Nintendo|     E|\n",
            "|           Duck Hunt|     NES|           1984|     Shooter|            Nintendo|   26.93|    0.63|    0.28|       0.47|       28.31|        null|        null|      null|      null|               null|  null|\n",
            "|          Nintendogs|      DS|           2005|  Simulation|            Nintendo|    9.05|   10.95|    1.93|       2.74|       24.67|        null|        null|      null|      null|               null|  null|\n",
            "|       Mario Kart DS|      DS|           2005|      Racing|            Nintendo|    9.71|    7.47|    4.13|        1.9|       23.21|          91|          64|       8.6|       464|           Nintendo|     E|\n",
            "|Pokemon Gold/Poke...|      GB|           1999|Role-Playing|            Nintendo|     9.0|    6.18|     7.2|       0.71|        23.1|        null|        null|      null|      null|               null|  null|\n",
            "|             Wii Fit|     Wii|           2007|      Sports|            Nintendo|    8.92|    8.03|     3.6|       2.15|        22.7|          80|          63|       7.7|       146|           Nintendo|     E|\n",
            "|  Kinect Adventures!|    X360|           2010|        Misc|Microsoft Game St...|    15.0|    4.89|    0.24|       1.69|       21.81|          61|          45|       6.3|       106|Good Science Studio|     E|\n",
            "|        Wii Fit Plus|     Wii|           2009|      Sports|            Nintendo|    9.01|    8.49|    2.53|       1.77|       21.79|          80|          33|       7.4|        52|           Nintendo|     E|\n",
            "|  Grand Theft Auto V|     PS3|           2013|      Action|Take-Two Interactive|    7.02|    9.09|    0.98|       3.96|       21.04|          97|          50|       8.2|      3994|     Rockstar North|     M|\n",
            "|Grand Theft Auto:...|     PS2|           2004|      Action|Take-Two Interactive|    9.43|     0.4|    0.41|      10.57|       20.81|          95|          80|         9|      1588|     Rockstar North|     M|\n",
            "|   Super Mario World|    SNES|           1990|    Platform|            Nintendo|   12.78|    3.75|    3.54|       0.55|       20.61|        null|        null|      null|      null|               null|  null|\n",
            "|Brain Age: Train ...|      DS|           2005|        Misc|            Nintendo|    4.74|     9.2|    4.16|       2.04|       20.15|          77|          58|       7.9|        50|           Nintendo|     E|\n",
            "+--------------------+--------+---------------+------------+--------------------+--------+--------+--------+-----------+------------+------------+------------+----------+----------+-------------------+------+\n",
            "only showing top 20 rows\n",
            "\n"
          ],
          "name": "stdout"
        }
      ]
    },
    {
      "cell_type": "code",
      "metadata": {
        "colab": {
          "base_uri": "https://localhost:8080/"
        },
        "id": "iT7V29x0yDS_",
        "outputId": "268e401b-c61d-4609-e133-e0423e5ec83e"
      },
      "source": [
        "# schema\r\n",
        "video.printSchema()"
      ],
      "execution_count": 16,
      "outputs": [
        {
          "output_type": "stream",
          "text": [
            "root\n",
            " |-- Name: string (nullable = true)\n",
            " |-- Platform: string (nullable = true)\n",
            " |-- Year_of_Release: string (nullable = true)\n",
            " |-- Genre: string (nullable = true)\n",
            " |-- Publisher: string (nullable = true)\n",
            " |-- NA_Sales: double (nullable = true)\n",
            " |-- EU_Sales: double (nullable = true)\n",
            " |-- JP_Sales: double (nullable = true)\n",
            " |-- Other_Sales: double (nullable = true)\n",
            " |-- Global_Sales: double (nullable = true)\n",
            " |-- Critic_Score: integer (nullable = true)\n",
            " |-- Critic_Count: integer (nullable = true)\n",
            " |-- User_Score: string (nullable = true)\n",
            " |-- User_Count: integer (nullable = true)\n",
            " |-- Developer: string (nullable = true)\n",
            " |-- Rating: string (nullable = true)\n",
            "\n"
          ],
          "name": "stdout"
        }
      ]
    },
    {
      "cell_type": "code",
      "metadata": {
        "colab": {
          "base_uri": "https://localhost:8080/"
        },
        "id": "qjE1lZsSyJAh",
        "outputId": "b9a9368c-8161-4d39-d1af-ddefeb465ef5"
      },
      "source": [
        "# printing first 10 rows\r\n",
        "video.take(10)"
      ],
      "execution_count": 17,
      "outputs": [
        {
          "output_type": "execute_result",
          "data": {
            "text/plain": [
              "[Row(Name='Wii Sports', Platform='Wii', Year_of_Release='2006', Genre='Sports', Publisher='Nintendo', NA_Sales=41.36, EU_Sales=28.96, JP_Sales=3.77, Other_Sales=8.45, Global_Sales=82.53, Critic_Score=76, Critic_Count=51, User_Score='8', User_Count=322, Developer='Nintendo', Rating='E'),\n",
              " Row(Name='Super Mario Bros.', Platform='NES', Year_of_Release='1985', Genre='Platform', Publisher='Nintendo', NA_Sales=29.08, EU_Sales=3.58, JP_Sales=6.81, Other_Sales=0.77, Global_Sales=40.24, Critic_Score=None, Critic_Count=None, User_Score=None, User_Count=None, Developer=None, Rating=None),\n",
              " Row(Name='Mario Kart Wii', Platform='Wii', Year_of_Release='2008', Genre='Racing', Publisher='Nintendo', NA_Sales=15.68, EU_Sales=12.76, JP_Sales=3.79, Other_Sales=3.29, Global_Sales=35.52, Critic_Score=82, Critic_Count=73, User_Score='8.3', User_Count=709, Developer='Nintendo', Rating='E'),\n",
              " Row(Name='Wii Sports Resort', Platform='Wii', Year_of_Release='2009', Genre='Sports', Publisher='Nintendo', NA_Sales=15.61, EU_Sales=10.93, JP_Sales=3.28, Other_Sales=2.95, Global_Sales=32.77, Critic_Score=80, Critic_Count=73, User_Score='8', User_Count=192, Developer='Nintendo', Rating='E'),\n",
              " Row(Name='Pokemon Red/Pokemon Blue', Platform='GB', Year_of_Release='1996', Genre='Role-Playing', Publisher='Nintendo', NA_Sales=11.27, EU_Sales=8.89, JP_Sales=10.22, Other_Sales=1.0, Global_Sales=31.37, Critic_Score=None, Critic_Count=None, User_Score=None, User_Count=None, Developer=None, Rating=None),\n",
              " Row(Name='Tetris', Platform='GB', Year_of_Release='1989', Genre='Puzzle', Publisher='Nintendo', NA_Sales=23.2, EU_Sales=2.26, JP_Sales=4.22, Other_Sales=0.58, Global_Sales=30.26, Critic_Score=None, Critic_Count=None, User_Score=None, User_Count=None, Developer=None, Rating=None),\n",
              " Row(Name='New Super Mario Bros.', Platform='DS', Year_of_Release='2006', Genre='Platform', Publisher='Nintendo', NA_Sales=11.28, EU_Sales=9.14, JP_Sales=6.5, Other_Sales=2.88, Global_Sales=29.8, Critic_Score=89, Critic_Count=65, User_Score='8.5', User_Count=431, Developer='Nintendo', Rating='E'),\n",
              " Row(Name='Wii Play', Platform='Wii', Year_of_Release='2006', Genre='Misc', Publisher='Nintendo', NA_Sales=13.96, EU_Sales=9.18, JP_Sales=2.93, Other_Sales=2.84, Global_Sales=28.92, Critic_Score=58, Critic_Count=41, User_Score='6.6', User_Count=129, Developer='Nintendo', Rating='E'),\n",
              " Row(Name='New Super Mario Bros. Wii', Platform='Wii', Year_of_Release='2009', Genre='Platform', Publisher='Nintendo', NA_Sales=14.44, EU_Sales=6.94, JP_Sales=4.7, Other_Sales=2.24, Global_Sales=28.32, Critic_Score=87, Critic_Count=80, User_Score='8.4', User_Count=594, Developer='Nintendo', Rating='E'),\n",
              " Row(Name='Duck Hunt', Platform='NES', Year_of_Release='1984', Genre='Shooter', Publisher='Nintendo', NA_Sales=26.93, EU_Sales=0.63, JP_Sales=0.28, Other_Sales=0.47, Global_Sales=28.31, Critic_Score=None, Critic_Count=None, User_Score=None, User_Count=None, Developer=None, Rating=None)]"
            ]
          },
          "metadata": {
            "tags": []
          },
          "execution_count": 17
        }
      ]
    },
    {
      "cell_type": "code",
      "metadata": {
        "colab": {
          "base_uri": "https://localhost:8080/"
        },
        "id": "ExYVFNeMyMAj",
        "outputId": "902239b4-5167-426f-c9e2-71d83cff3a30"
      },
      "source": [
        "video_1 = video.withColumnRenamed(\"Global_Sales\", \"Total_Sales\")\r\n",
        "video_1.show(10)"
      ],
      "execution_count": 19,
      "outputs": [
        {
          "output_type": "stream",
          "text": [
            "+--------------------+--------+---------------+------------+---------+--------+--------+--------+-----------+-----------+------------+------------+----------+----------+---------+------+\n",
            "|                Name|Platform|Year_of_Release|       Genre|Publisher|NA_Sales|EU_Sales|JP_Sales|Other_Sales|Total_Sales|Critic_Score|Critic_Count|User_Score|User_Count|Developer|Rating|\n",
            "+--------------------+--------+---------------+------------+---------+--------+--------+--------+-----------+-----------+------------+------------+----------+----------+---------+------+\n",
            "|          Wii Sports|     Wii|           2006|      Sports| Nintendo|   41.36|   28.96|    3.77|       8.45|      82.53|          76|          51|         8|       322| Nintendo|     E|\n",
            "|   Super Mario Bros.|     NES|           1985|    Platform| Nintendo|   29.08|    3.58|    6.81|       0.77|      40.24|        null|        null|      null|      null|     null|  null|\n",
            "|      Mario Kart Wii|     Wii|           2008|      Racing| Nintendo|   15.68|   12.76|    3.79|       3.29|      35.52|          82|          73|       8.3|       709| Nintendo|     E|\n",
            "|   Wii Sports Resort|     Wii|           2009|      Sports| Nintendo|   15.61|   10.93|    3.28|       2.95|      32.77|          80|          73|         8|       192| Nintendo|     E|\n",
            "|Pokemon Red/Pokem...|      GB|           1996|Role-Playing| Nintendo|   11.27|    8.89|   10.22|        1.0|      31.37|        null|        null|      null|      null|     null|  null|\n",
            "|              Tetris|      GB|           1989|      Puzzle| Nintendo|    23.2|    2.26|    4.22|       0.58|      30.26|        null|        null|      null|      null|     null|  null|\n",
            "|New Super Mario B...|      DS|           2006|    Platform| Nintendo|   11.28|    9.14|     6.5|       2.88|       29.8|          89|          65|       8.5|       431| Nintendo|     E|\n",
            "|            Wii Play|     Wii|           2006|        Misc| Nintendo|   13.96|    9.18|    2.93|       2.84|      28.92|          58|          41|       6.6|       129| Nintendo|     E|\n",
            "|New Super Mario B...|     Wii|           2009|    Platform| Nintendo|   14.44|    6.94|     4.7|       2.24|      28.32|          87|          80|       8.4|       594| Nintendo|     E|\n",
            "|           Duck Hunt|     NES|           1984|     Shooter| Nintendo|   26.93|    0.63|    0.28|       0.47|      28.31|        null|        null|      null|      null|     null|  null|\n",
            "+--------------------+--------+---------------+------------+---------+--------+--------+--------+-----------+-----------+------------+------------+----------+----------+---------+------+\n",
            "only showing top 10 rows\n",
            "\n"
          ],
          "name": "stdout"
        }
      ]
    },
    {
      "cell_type": "code",
      "metadata": {
        "colab": {
          "base_uri": "https://localhost:8080/"
        },
        "id": "sq27u_elybYm",
        "outputId": "8b5a21bd-9c9a-4b5a-c6ae-f8fdf4624aa3"
      },
      "source": [
        "from pyspark.sql.functions import lit\r\n",
        "\r\n",
        "video_1_lit = video_1.withColumn(\"Score_100\", video_1[\"User_Score\"] * lit(100))\r\n",
        "video_1_lit.show(5)"
      ],
      "execution_count": 20,
      "outputs": [
        {
          "output_type": "stream",
          "text": [
            "+--------------------+--------+---------------+------------+---------+--------+--------+--------+-----------+-----------+------------+------------+----------+----------+---------+------+-----------------+\n",
            "|                Name|Platform|Year_of_Release|       Genre|Publisher|NA_Sales|EU_Sales|JP_Sales|Other_Sales|Total_Sales|Critic_Score|Critic_Count|User_Score|User_Count|Developer|Rating|        Score_100|\n",
            "+--------------------+--------+---------------+------------+---------+--------+--------+--------+-----------+-----------+------------+------------+----------+----------+---------+------+-----------------+\n",
            "|          Wii Sports|     Wii|           2006|      Sports| Nintendo|   41.36|   28.96|    3.77|       8.45|      82.53|          76|          51|         8|       322| Nintendo|     E|            800.0|\n",
            "|   Super Mario Bros.|     NES|           1985|    Platform| Nintendo|   29.08|    3.58|    6.81|       0.77|      40.24|        null|        null|      null|      null|     null|  null|             null|\n",
            "|      Mario Kart Wii|     Wii|           2008|      Racing| Nintendo|   15.68|   12.76|    3.79|       3.29|      35.52|          82|          73|       8.3|       709| Nintendo|     E|830.0000000000001|\n",
            "|   Wii Sports Resort|     Wii|           2009|      Sports| Nintendo|   15.61|   10.93|    3.28|       2.95|      32.77|          80|          73|         8|       192| Nintendo|     E|            800.0|\n",
            "|Pokemon Red/Pokem...|      GB|           1996|Role-Playing| Nintendo|   11.27|    8.89|   10.22|        1.0|      31.37|        null|        null|      null|      null|     null|  null|             null|\n",
            "+--------------------+--------+---------------+------------+---------+--------+--------+--------+-----------+-----------+------------+------------+----------+----------+---------+------+-----------------+\n",
            "only showing top 5 rows\n",
            "\n"
          ],
          "name": "stdout"
        }
      ]
    },
    {
      "cell_type": "code",
      "metadata": {
        "id": "gnpn5lm1y3G3"
      },
      "source": [
        "from pyspark.sql.functions import *"
      ],
      "execution_count": 29,
      "outputs": []
    },
    {
      "cell_type": "code",
      "metadata": {
        "colab": {
          "base_uri": "https://localhost:8080/"
        },
        "id": "oWsI4-ne0407",
        "outputId": "1e44d397-1e8b-4274-aafc-13cd8bfcbeb5"
      },
      "source": [
        "print((video_1_lit.count(), len(video_1_lit.columns)))"
      ],
      "execution_count": 34,
      "outputs": [
        {
          "output_type": "stream",
          "text": [
            "(16719, 17)\n"
          ],
          "name": "stdout"
        }
      ]
    },
    {
      "cell_type": "markdown",
      "metadata": {
        "id": "xsszxOxh1bYF"
      },
      "source": [
        "Print the percent of null values per column."
      ]
    },
    {
      "cell_type": "code",
      "metadata": {
        "colab": {
          "base_uri": "https://localhost:8080/"
        },
        "id": "tM8dw9Yxz_Ml",
        "outputId": "669b0579-26e2-41c1-e8a4-c10a3892397b"
      },
      "source": [
        "def null_value_perc(df):\r\n",
        "    amount_missing = df.select([(count(when(isnan(c) | col(c).isNull(), c))/df.count()).alias(c) for c in df.columns])\r\n",
        "    amount_missing.show()\r\n",
        "\r\n",
        "null_value_perc(video_1_lit)"
      ],
      "execution_count": 38,
      "outputs": [
        {
          "output_type": "stream",
          "text": [
            "+--------------------+--------+---------------+--------------------+---------+--------+--------+--------+-----------+-----------+------------------+------------------+-------------------+------------------+------------------+-------------------+------------------+\n",
            "|                Name|Platform|Year_of_Release|               Genre|Publisher|NA_Sales|EU_Sales|JP_Sales|Other_Sales|Total_Sales|      Critic_Score|      Critic_Count|         User_Score|        User_Count|         Developer|             Rating|         Score_100|\n",
            "+--------------------+--------+---------------+--------------------+---------+--------+--------+--------+-----------+-----------+------------------+------------------+-------------------+------------------+------------------+-------------------+------------------+\n",
            "|1.196243794485316...|     0.0|            0.0|1.196243794485316...|      0.0|     0.0|     0.0|     0.0|        0.0|        0.0|0.5133082122136492|0.5133082122136492|0.40098091991147794|0.5460254799928226|0.3961361325438124|0.40486871224355525|0.5460254799928226|\n",
            "+--------------------+--------+---------------+--------------------+---------+--------+--------+--------+-----------+-----------+------------------+------------------+-------------------+------------------+------------------+-------------------+------------------+\n",
            "\n"
          ],
          "name": "stdout"
        }
      ]
    },
    {
      "cell_type": "code",
      "metadata": {
        "id": "kCOurCfS0Uqz"
      },
      "source": [
        "video_1_lit_ = video_1_lit.na.drop(subset=['Developer'])"
      ],
      "execution_count": 44,
      "outputs": []
    },
    {
      "cell_type": "code",
      "metadata": {
        "colab": {
          "base_uri": "https://localhost:8080/"
        },
        "id": "lNAZlTt32EsN",
        "outputId": "14ad71f7-7099-4cc5-9101-08afcd79afc9"
      },
      "source": [
        "null_value_perc(video_1_lit_)"
      ],
      "execution_count": 45,
      "outputs": [
        {
          "output_type": "stream",
          "text": [
            "+----+--------+---------------+-----+---------+--------+--------+--------+-----------+-----------+-------------------+-------------------+--------------------+------------------+---------+--------------------+------------------+\n",
            "|Name|Platform|Year_of_Release|Genre|Publisher|NA_Sales|EU_Sales|JP_Sales|Other_Sales|Total_Sales|       Critic_Score|       Critic_Count|          User_Score|        User_Count|Developer|              Rating|         Score_100|\n",
            "+----+--------+---------------+-----+---------+--------+--------+--------+-----------+-----------+-------------------+-------------------+--------------------+------------------+---------+--------------------+------------------+\n",
            "| 0.0|     0.0|            0.0|  0.0|      0.0|     0.0|     0.0|     0.0|        0.0|        0.0|0.19463153724247226|0.19463153724247226|0.011291600633914422|0.2493066561014263|      0.0|0.014461172741679873|0.2493066561014263|\n",
            "+----+--------+---------------+-----+---------+--------+--------+--------+-----------+-----------+-------------------+-------------------+--------------------+------------------+---------+--------------------+------------------+\n",
            "\n"
          ],
          "name": "stdout"
        }
      ]
    },
    {
      "cell_type": "markdown",
      "metadata": {
        "id": "NFx8-pP82iiI"
      },
      "source": [
        "Calculate the mean global sales by developer using a groupby aggregation and show the results."
      ]
    },
    {
      "cell_type": "code",
      "metadata": {
        "colab": {
          "base_uri": "https://localhost:8080/"
        },
        "id": "NyHTMFvk2PmA",
        "outputId": "ff0b8379-0bfb-4856-a171-33de50880d27"
      },
      "source": [
        "video_1_lit_.groupBy(\"Developer\").mean(\"Total_Sales\").show()"
      ],
      "execution_count": 46,
      "outputs": [
        {
          "output_type": "stream",
          "text": [
            "+--------------------+-------------------+\n",
            "|           Developer|   avg(Total_Sales)|\n",
            "+--------------------+-------------------+\n",
            "| Hyperspace Cowgirls|                0.3|\n",
            "|            Deep Red|               0.02|\n",
            "|        Funbox Media|               0.02|\n",
            "|      Camouflaj, LLC|               0.01|\n",
            "|          SCEA, Sims|                0.7|\n",
            "|Ubisoft Barcelona...|               0.47|\n",
            "|LightBox Interactive|               0.29|\n",
            "|      Handheld Games|0.12333333333333335|\n",
            "|     Beep Industries|               0.12|\n",
            "|          SpiderMonk|               0.07|\n",
            "|             Blue 52|               0.04|\n",
            "|      Rockstar Leeds|  2.622222222222222|\n",
            "|           Hangar 13| 0.8733333333333334|\n",
            "|         id Software|               0.56|\n",
            "|       ZeniMax Media|               1.09|\n",
            "|Gearbox Software,...| 0.6666666666666666|\n",
            "|           Telegames|               0.29|\n",
            "|                 3DO|0.16470588235294115|\n",
            "|            Tantatus|0.17750000000000002|\n",
            "|     Lancarse, Atlus|               0.33|\n",
            "+--------------------+-------------------+\n",
            "only showing top 20 rows\n",
            "\n"
          ],
          "name": "stdout"
        }
      ]
    },
    {
      "cell_type": "code",
      "metadata": {
        "colab": {
          "base_uri": "https://localhost:8080/"
        },
        "id": "cVZY7g4r2qqD",
        "outputId": "efcabceb-952d-4122-b01f-8af91e6be70d"
      },
      "source": [
        "video_1_lit_.show(5)"
      ],
      "execution_count": 47,
      "outputs": [
        {
          "output_type": "stream",
          "text": [
            "+--------------------+--------+---------------+--------+---------+--------+--------+--------+-----------+-----------+------------+------------+----------+----------+---------+------+-----------------+\n",
            "|                Name|Platform|Year_of_Release|   Genre|Publisher|NA_Sales|EU_Sales|JP_Sales|Other_Sales|Total_Sales|Critic_Score|Critic_Count|User_Score|User_Count|Developer|Rating|        Score_100|\n",
            "+--------------------+--------+---------------+--------+---------+--------+--------+--------+-----------+-----------+------------+------------+----------+----------+---------+------+-----------------+\n",
            "|          Wii Sports|     Wii|           2006|  Sports| Nintendo|   41.36|   28.96|    3.77|       8.45|      82.53|          76|          51|         8|       322| Nintendo|     E|            800.0|\n",
            "|      Mario Kart Wii|     Wii|           2008|  Racing| Nintendo|   15.68|   12.76|    3.79|       3.29|      35.52|          82|          73|       8.3|       709| Nintendo|     E|830.0000000000001|\n",
            "|   Wii Sports Resort|     Wii|           2009|  Sports| Nintendo|   15.61|   10.93|    3.28|       2.95|      32.77|          80|          73|         8|       192| Nintendo|     E|            800.0|\n",
            "|New Super Mario B...|      DS|           2006|Platform| Nintendo|   11.28|    9.14|     6.5|       2.88|       29.8|          89|          65|       8.5|       431| Nintendo|     E|            850.0|\n",
            "|            Wii Play|     Wii|           2006|    Misc| Nintendo|   13.96|    9.18|    2.93|       2.84|      28.92|          58|          41|       6.6|       129| Nintendo|     E|            660.0|\n",
            "+--------------------+--------+---------------+--------+---------+--------+--------+--------+-----------+-----------+------------+------------+----------+----------+---------+------+-----------------+\n",
            "only showing top 5 rows\n",
            "\n"
          ],
          "name": "stdout"
        }
      ]
    },
    {
      "cell_type": "code",
      "metadata": {
        "id": "bjsnny_a2vLP"
      },
      "source": [
        ""
      ],
      "execution_count": null,
      "outputs": []
    }
  ]
}