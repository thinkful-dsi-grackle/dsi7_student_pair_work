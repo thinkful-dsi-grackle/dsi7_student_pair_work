{
  "nbformat": 4,
  "nbformat_minor": 0,
  "metadata": {
    "colab": {
      "name": "Aaron_Day_83_Spark_DataFrames_Assignment.ipynb",
      "provenance": [],
      "collapsed_sections": [],
      "toc_visible": true
    },
    "kernelspec": {
      "name": "python3",
      "display_name": "Python 3"
    }
  },
  "cells": [
    {
      "cell_type": "markdown",
      "metadata": {
        "id": "Ry4VDk_llCLY"
      },
      "source": [
        "## Day 83 Lecture 1 Assignment\n",
        "\n",
        "In this assignment, we will learn about working in Spark.\n"
      ]
    },
    {
      "cell_type": "markdown",
      "metadata": {
        "id": "Pt0hltnjnrSZ"
      },
      "source": [
        "First update Google Compute."
      ]
    },
    {
      "cell_type": "code",
      "metadata": {
        "id": "QeM_ZK0ARu4y",
        "colab": {
          "base_uri": "https://localhost:8080/"
        },
        "outputId": "297d512f-732f-43c6-d571-0cbcd7db5fb9"
      },
      "source": [
        "!apt-get update"
      ],
      "execution_count": 1,
      "outputs": [
        {
          "output_type": "stream",
          "text": [
            "Ign:1 https://developer.download.nvidia.com/compute/cuda/repos/ubuntu1804/x86_64  InRelease\n",
            "Get:2 https://cloud.r-project.org/bin/linux/ubuntu bionic-cran40/ InRelease [3,626 B]\n",
            "Get:3 http://security.ubuntu.com/ubuntu bionic-security InRelease [88.7 kB]\n",
            "Get:4 http://ppa.launchpad.net/c2d4u.team/c2d4u4.0+/ubuntu bionic InRelease [15.9 kB]\n",
            "Ign:5 https://developer.download.nvidia.com/compute/machine-learning/repos/ubuntu1804/x86_64  InRelease\n",
            "Hit:6 http://archive.ubuntu.com/ubuntu bionic InRelease\n",
            "Hit:7 https://developer.download.nvidia.com/compute/cuda/repos/ubuntu1804/x86_64  Release\n",
            "Get:8 https://developer.download.nvidia.com/compute/machine-learning/repos/ubuntu1804/x86_64  Release [564 B]\n",
            "Get:9 https://developer.download.nvidia.com/compute/machine-learning/repos/ubuntu1804/x86_64  Release.gpg [833 B]\n",
            "Get:10 http://archive.ubuntu.com/ubuntu bionic-updates InRelease [88.7 kB]\n",
            "Hit:11 http://ppa.launchpad.net/cran/libgit2/ubuntu bionic InRelease\n",
            "Get:12 https://cloud.r-project.org/bin/linux/ubuntu bionic-cran40/ Packages [43.6 kB]\n",
            "Get:13 http://archive.ubuntu.com/ubuntu bionic-backports InRelease [74.6 kB]\n",
            "Get:14 http://ppa.launchpad.net/graphics-drivers/ppa/ubuntu bionic InRelease [21.3 kB]\n",
            "Get:16 https://developer.download.nvidia.com/compute/machine-learning/repos/ubuntu1804/x86_64  Packages [66.5 kB]\n",
            "Get:17 http://ppa.launchpad.net/c2d4u.team/c2d4u4.0+/ubuntu bionic/main Sources [1,708 kB]\n",
            "Get:18 http://security.ubuntu.com/ubuntu bionic-security/universe amd64 Packages [1,376 kB]\n",
            "Get:19 http://security.ubuntu.com/ubuntu bionic-security/restricted amd64 Packages [278 kB]\n",
            "Get:20 http://archive.ubuntu.com/ubuntu bionic-updates/universe amd64 Packages [2,140 kB]\n",
            "Get:21 http://security.ubuntu.com/ubuntu bionic-security/main amd64 Packages [1,872 kB]\n",
            "Get:22 http://ppa.launchpad.net/c2d4u.team/c2d4u4.0+/ubuntu bionic/main amd64 Packages [874 kB]\n",
            "Get:23 http://archive.ubuntu.com/ubuntu bionic-updates/multiverse amd64 Packages [45.6 kB]\n",
            "Get:24 http://archive.ubuntu.com/ubuntu bionic-updates/main amd64 Packages [2,298 kB]\n",
            "Get:25 http://archive.ubuntu.com/ubuntu bionic-updates/restricted amd64 Packages [304 kB]\n",
            "Get:26 http://ppa.launchpad.net/graphics-drivers/ppa/ubuntu bionic/main amd64 Packages [49.2 kB]\n",
            "Fetched 11.3 MB in 3s (3,248 kB/s)\n",
            "Reading package lists... Done\n"
          ],
          "name": "stdout"
        }
      ]
    },
    {
      "cell_type": "markdown",
      "metadata": {
        "id": "Q5voJffBnwcm"
      },
      "source": [
        "Start a Spark session, by installing the necessary pieces."
      ]
    },
    {
      "cell_type": "code",
      "metadata": {
        "id": "wen6A2I2RYVV"
      },
      "source": [
        "!apt-get install openjdk-8-jdk-headless -qq > /dev/null\n",
        "!wget -q https://archive.apache.org/dist/spark/spark-2.4.6/spark-2.4.6-bin-hadoop2.7.tgz\n",
        "!tar xf spark-2.4.6-bin-hadoop2.7.tgz"
      ],
      "execution_count": 2,
      "outputs": []
    },
    {
      "cell_type": "markdown",
      "metadata": {
        "id": "zm3pHHHxNmkW"
      },
      "source": [
        "Set up the environmental variables."
      ]
    },
    {
      "cell_type": "code",
      "metadata": {
        "id": "VW40H37fIb0t"
      },
      "source": [
        "import os\n",
        "os.environ[\"JAVA_HOME\"] = \"/usr/lib/jvm/java-8-openjdk-amd64\"\n",
        "os.environ[\"SPARK_HOME\"] = \"/content/spark-2.4.6-bin-hadoop2.7\""
      ],
      "execution_count": 3,
      "outputs": []
    },
    {
      "cell_type": "markdown",
      "metadata": {
        "id": "1vdAA2aoNqhz"
      },
      "source": [
        "Install Pyspark. ***Note: The version must match the version of Spark that you have installed earlier***."
      ]
    },
    {
      "cell_type": "code",
      "metadata": {
        "id": "274gUgKyIjnC",
        "colab": {
          "base_uri": "https://localhost:8080/"
        },
        "outputId": "33b01cc6-10ee-4263-d5de-0eb9e8fb29f8"
      },
      "source": [
        "!pip install -q findspark\n",
        "!pip install pyspark==2.4.6"
      ],
      "execution_count": 4,
      "outputs": [
        {
          "output_type": "stream",
          "text": [
            "Collecting pyspark==2.4.6\n",
            "\u001b[?25l  Downloading https://files.pythonhosted.org/packages/e9/e4/5c15ab8d354c4e3528510821865e6748209a9b0ff6a1788f4cd36cc2a5dc/pyspark-2.4.6.tar.gz (218.4MB)\n",
            "\u001b[K     |████████████████████████████████| 218.4MB 63kB/s \n",
            "\u001b[?25hCollecting py4j==0.10.7\n",
            "\u001b[?25l  Downloading https://files.pythonhosted.org/packages/e3/53/c737818eb9a7dc32a7cd4f1396e787bd94200c3997c72c1dbe028587bd76/py4j-0.10.7-py2.py3-none-any.whl (197kB)\n",
            "\u001b[K     |████████████████████████████████| 204kB 43.4MB/s \n",
            "\u001b[?25hBuilding wheels for collected packages: pyspark\n",
            "  Building wheel for pyspark (setup.py) ... \u001b[?25l\u001b[?25hdone\n",
            "  Created wheel for pyspark: filename=pyspark-2.4.6-py2.py3-none-any.whl size=218814406 sha256=528318fda327fa8361fa9432dd15df0def4e0551c1ef56b383ca84df27d73ddb\n",
            "  Stored in directory: /root/.cache/pip/wheels/1e/5e/6a/17e906c94ec7246f260330a66e44a06a0809033ba2738a74a8\n",
            "Successfully built pyspark\n",
            "Installing collected packages: py4j, pyspark\n",
            "Successfully installed py4j-0.10.7 pyspark-2.4.6\n"
          ],
          "name": "stdout"
        }
      ]
    },
    {
      "cell_type": "markdown",
      "metadata": {
        "id": "AtsLvt2JlI7X"
      },
      "source": [
        "Download and save the video games sales CSV file to your Colab Data folder on Google Drive. \n",
        "\n",
        "The file can be downloaded from link [here](https://tf-assets-prod.s3.amazonaws.com/tf-curric/data-science/Data%20Sets%20Big%20Data/Video_Games_Sales_as_at_22_Dec_2016.csv), download it and save it to your Google Colab Data folder on gdrive.\n"
      ]
    },
    {
      "cell_type": "markdown",
      "metadata": {
        "id": "M1TXjLAWN3Wd"
      },
      "source": [
        "Mount your Google drive for access in Google Colab Notebooks."
      ]
    },
    {
      "cell_type": "code",
      "metadata": {
        "id": "uFXDtsaOIsLI",
        "colab": {
          "base_uri": "https://localhost:8080/"
        },
        "outputId": "d7af494d-ce94-44fd-946b-3f712278f622"
      },
      "source": [
        "from google.colab import drive\n",
        "drive.mount('/content/gdrive')"
      ],
      "execution_count": 5,
      "outputs": [
        {
          "output_type": "stream",
          "text": [
            "Mounted at /content/gdrive\n"
          ],
          "name": "stdout"
        }
      ]
    },
    {
      "cell_type": "markdown",
      "metadata": {
        "id": "aIuuMcVvPH9l"
      },
      "source": [
        "Change your directory to the Colab Data folder where you saved the CSV file."
      ]
    },
    {
      "cell_type": "code",
      "metadata": {
        "id": "X8_ke5oAkBU6"
      },
      "source": [
        "os.chdir('/content/gdrive/MyDrive/Datasets')"
      ],
      "execution_count": 7,
      "outputs": []
    },
    {
      "cell_type": "markdown",
      "metadata": {
        "id": "hcU6yqpgO_of"
      },
      "source": [
        "Set your local session."
      ]
    },
    {
      "cell_type": "code",
      "metadata": {
        "id": "BRiTkZyDebpj"
      },
      "source": [
        "APP_NAME = \"Day83\"\n",
        "SPARK_URL = \"local[*]\""
      ],
      "execution_count": 8,
      "outputs": []
    },
    {
      "cell_type": "markdown",
      "metadata": {
        "id": "wnab97jBn7kS"
      },
      "source": [
        "Print the files in your working directory to check for the Video games data CSV."
      ]
    },
    {
      "cell_type": "code",
      "metadata": {
        "id": "qgeAOVj2SXFT",
        "colab": {
          "base_uri": "https://localhost:8080/"
        },
        "outputId": "30d70be3-5fb6-44b5-8ab8-4feefd161b4f"
      },
      "source": [
        "#Answer below:\n",
        "os.listdir()"
      ],
      "execution_count": 9,
      "outputs": [
        {
          "output_type": "execute_result",
          "data": {
            "text/plain": [
              "['spark-2.4.6-bin-hadoop2.7.tgz',\n",
              " 'cnn_articles',\n",
              " 'company_profiles',\n",
              " 'dogs-vs-cats-processed',\n",
              " 'UCI_HAR_Dataset',\n",
              " 'Video_Games_Sales_as_at_22_Dec_2016.csv',\n",
              " 'Admission_Predict.csv',\n",
              " 'covtype.csv',\n",
              " 'spark-2.4.6-bin-hadoop2.7']"
            ]
          },
          "metadata": {
            "tags": []
          },
          "execution_count": 9
        }
      ]
    },
    {
      "cell_type": "code",
      "metadata": {
        "id": "UnwbVoRKSipS",
        "colab": {
          "base_uri": "https://localhost:8080/",
          "height": 37
        },
        "outputId": "1378d511-d472-4d09-ea45-5d8bd7d761c3"
      },
      "source": [
        "os.getcwd()"
      ],
      "execution_count": 10,
      "outputs": [
        {
          "output_type": "execute_result",
          "data": {
            "application/vnd.google.colaboratory.intrinsic+json": {
              "type": "string"
            },
            "text/plain": [
              "'/content/gdrive/My Drive/Datasets'"
            ]
          },
          "metadata": {
            "tags": []
          },
          "execution_count": 10
        }
      ]
    },
    {
      "cell_type": "markdown",
      "metadata": {
        "id": "GIWPcl0PoXsv"
      },
      "source": [
        "Start the Spark Session."
      ]
    },
    {
      "cell_type": "code",
      "metadata": {
        "id": "flNZrdlNDuas"
      },
      "source": [
        "from pyspark.sql import SparkSession\n",
        "spark = SparkSession.builder.appName(APP_NAME).getOrCreate()"
      ],
      "execution_count": 11,
      "outputs": []
    },
    {
      "cell_type": "markdown",
      "metadata": {
        "id": "yo2CIL4XPRzn"
      },
      "source": [
        "Load the CSV file as a Spark dataframe."
      ]
    },
    {
      "cell_type": "code",
      "metadata": {
        "id": "wvrsUPFKUgWJ"
      },
      "source": [
        "video = spark.read.format(\"csv\").option(\"header\", \"true\").option(\"inferSchema\", \"true\").load(\"Video_Games_Sales_as_at_22_Dec_2016.csv\")"
      ],
      "execution_count": 12,
      "outputs": []
    },
    {
      "cell_type": "markdown",
      "metadata": {
        "id": "j1OiHvakqnM1"
      },
      "source": [
        "Review the data by applying the show command."
      ]
    },
    {
      "cell_type": "code",
      "metadata": {
        "id": "0yzV32sgqidJ",
        "colab": {
          "base_uri": "https://localhost:8080/"
        },
        "outputId": "a5f60695-26d7-4eab-a187-d2abaedd3eb8"
      },
      "source": [
        "video.show()"
      ],
      "execution_count": 13,
      "outputs": [
        {
          "output_type": "stream",
          "text": [
            "+--------------------+--------+---------------+------------+--------------------+--------+--------+--------+-----------+------------+------------+------------+----------+----------+-------------------+------+\n",
            "|                Name|Platform|Year_of_Release|       Genre|           Publisher|NA_Sales|EU_Sales|JP_Sales|Other_Sales|Global_Sales|Critic_Score|Critic_Count|User_Score|User_Count|          Developer|Rating|\n",
            "+--------------------+--------+---------------+------------+--------------------+--------+--------+--------+-----------+------------+------------+------------+----------+----------+-------------------+------+\n",
            "|          Wii Sports|     Wii|           2006|      Sports|            Nintendo|   41.36|   28.96|    3.77|       8.45|       82.53|          76|          51|         8|       322|           Nintendo|     E|\n",
            "|   Super Mario Bros.|     NES|           1985|    Platform|            Nintendo|   29.08|    3.58|    6.81|       0.77|       40.24|        null|        null|      null|      null|               null|  null|\n",
            "|      Mario Kart Wii|     Wii|           2008|      Racing|            Nintendo|   15.68|   12.76|    3.79|       3.29|       35.52|          82|          73|       8.3|       709|           Nintendo|     E|\n",
            "|   Wii Sports Resort|     Wii|           2009|      Sports|            Nintendo|   15.61|   10.93|    3.28|       2.95|       32.77|          80|          73|         8|       192|           Nintendo|     E|\n",
            "|Pokemon Red/Pokem...|      GB|           1996|Role-Playing|            Nintendo|   11.27|    8.89|   10.22|        1.0|       31.37|        null|        null|      null|      null|               null|  null|\n",
            "|              Tetris|      GB|           1989|      Puzzle|            Nintendo|    23.2|    2.26|    4.22|       0.58|       30.26|        null|        null|      null|      null|               null|  null|\n",
            "|New Super Mario B...|      DS|           2006|    Platform|            Nintendo|   11.28|    9.14|     6.5|       2.88|        29.8|          89|          65|       8.5|       431|           Nintendo|     E|\n",
            "|            Wii Play|     Wii|           2006|        Misc|            Nintendo|   13.96|    9.18|    2.93|       2.84|       28.92|          58|          41|       6.6|       129|           Nintendo|     E|\n",
            "|New Super Mario B...|     Wii|           2009|    Platform|            Nintendo|   14.44|    6.94|     4.7|       2.24|       28.32|          87|          80|       8.4|       594|           Nintendo|     E|\n",
            "|           Duck Hunt|     NES|           1984|     Shooter|            Nintendo|   26.93|    0.63|    0.28|       0.47|       28.31|        null|        null|      null|      null|               null|  null|\n",
            "|          Nintendogs|      DS|           2005|  Simulation|            Nintendo|    9.05|   10.95|    1.93|       2.74|       24.67|        null|        null|      null|      null|               null|  null|\n",
            "|       Mario Kart DS|      DS|           2005|      Racing|            Nintendo|    9.71|    7.47|    4.13|        1.9|       23.21|          91|          64|       8.6|       464|           Nintendo|     E|\n",
            "|Pokemon Gold/Poke...|      GB|           1999|Role-Playing|            Nintendo|     9.0|    6.18|     7.2|       0.71|        23.1|        null|        null|      null|      null|               null|  null|\n",
            "|             Wii Fit|     Wii|           2007|      Sports|            Nintendo|    8.92|    8.03|     3.6|       2.15|        22.7|          80|          63|       7.7|       146|           Nintendo|     E|\n",
            "|  Kinect Adventures!|    X360|           2010|        Misc|Microsoft Game St...|    15.0|    4.89|    0.24|       1.69|       21.81|          61|          45|       6.3|       106|Good Science Studio|     E|\n",
            "|        Wii Fit Plus|     Wii|           2009|      Sports|            Nintendo|    9.01|    8.49|    2.53|       1.77|       21.79|          80|          33|       7.4|        52|           Nintendo|     E|\n",
            "|  Grand Theft Auto V|     PS3|           2013|      Action|Take-Two Interactive|    7.02|    9.09|    0.98|       3.96|       21.04|          97|          50|       8.2|      3994|     Rockstar North|     M|\n",
            "|Grand Theft Auto:...|     PS2|           2004|      Action|Take-Two Interactive|    9.43|     0.4|    0.41|      10.57|       20.81|          95|          80|         9|      1588|     Rockstar North|     M|\n",
            "|   Super Mario World|    SNES|           1990|    Platform|            Nintendo|   12.78|    3.75|    3.54|       0.55|       20.61|        null|        null|      null|      null|               null|  null|\n",
            "|Brain Age: Train ...|      DS|           2005|        Misc|            Nintendo|    4.74|     9.2|    4.16|       2.04|       20.15|          77|          58|       7.9|        50|           Nintendo|     E|\n",
            "+--------------------+--------+---------------+------------+--------------------+--------+--------+--------+-----------+------------+------------+------------+----------+----------+-------------------+------+\n",
            "only showing top 20 rows\n",
            "\n"
          ],
          "name": "stdout"
        }
      ]
    },
    {
      "cell_type": "markdown",
      "metadata": {
        "id": "YCk7pH12ANe-"
      },
      "source": [
        "Examine the data frame by printing the schema."
      ]
    },
    {
      "cell_type": "code",
      "metadata": {
        "id": "1w9I_FE8AXi-",
        "colab": {
          "base_uri": "https://localhost:8080/"
        },
        "outputId": "a2bffd1d-80a5-435e-b80b-4ac76c258e7e"
      },
      "source": [
        "#Answer below:\n",
        "video.printSchema()"
      ],
      "execution_count": 14,
      "outputs": [
        {
          "output_type": "stream",
          "text": [
            "root\n",
            " |-- Name: string (nullable = true)\n",
            " |-- Platform: string (nullable = true)\n",
            " |-- Year_of_Release: string (nullable = true)\n",
            " |-- Genre: string (nullable = true)\n",
            " |-- Publisher: string (nullable = true)\n",
            " |-- NA_Sales: double (nullable = true)\n",
            " |-- EU_Sales: double (nullable = true)\n",
            " |-- JP_Sales: double (nullable = true)\n",
            " |-- Other_Sales: double (nullable = true)\n",
            " |-- Global_Sales: double (nullable = true)\n",
            " |-- Critic_Score: integer (nullable = true)\n",
            " |-- Critic_Count: integer (nullable = true)\n",
            " |-- User_Score: string (nullable = true)\n",
            " |-- User_Count: integer (nullable = true)\n",
            " |-- Developer: string (nullable = true)\n",
            " |-- Rating: string (nullable = true)\n",
            "\n"
          ],
          "name": "stdout"
        }
      ]
    },
    {
      "cell_type": "markdown",
      "metadata": {
        "id": "9cfPxGGuPaDQ"
      },
      "source": [
        "Print the first 10 rows using the take command."
      ]
    },
    {
      "cell_type": "code",
      "metadata": {
        "id": "XOQ-XkjFAkgr",
        "colab": {
          "base_uri": "https://localhost:8080/"
        },
        "outputId": "8d8703d1-3acb-4949-8e7a-53af48d4e177"
      },
      "source": [
        "#Answer below:\n",
        "video.take(10)"
      ],
      "execution_count": 15,
      "outputs": [
        {
          "output_type": "execute_result",
          "data": {
            "text/plain": [
              "[Row(Name='Wii Sports', Platform='Wii', Year_of_Release='2006', Genre='Sports', Publisher='Nintendo', NA_Sales=41.36, EU_Sales=28.96, JP_Sales=3.77, Other_Sales=8.45, Global_Sales=82.53, Critic_Score=76, Critic_Count=51, User_Score='8', User_Count=322, Developer='Nintendo', Rating='E'),\n",
              " Row(Name='Super Mario Bros.', Platform='NES', Year_of_Release='1985', Genre='Platform', Publisher='Nintendo', NA_Sales=29.08, EU_Sales=3.58, JP_Sales=6.81, Other_Sales=0.77, Global_Sales=40.24, Critic_Score=None, Critic_Count=None, User_Score=None, User_Count=None, Developer=None, Rating=None),\n",
              " Row(Name='Mario Kart Wii', Platform='Wii', Year_of_Release='2008', Genre='Racing', Publisher='Nintendo', NA_Sales=15.68, EU_Sales=12.76, JP_Sales=3.79, Other_Sales=3.29, Global_Sales=35.52, Critic_Score=82, Critic_Count=73, User_Score='8.3', User_Count=709, Developer='Nintendo', Rating='E'),\n",
              " Row(Name='Wii Sports Resort', Platform='Wii', Year_of_Release='2009', Genre='Sports', Publisher='Nintendo', NA_Sales=15.61, EU_Sales=10.93, JP_Sales=3.28, Other_Sales=2.95, Global_Sales=32.77, Critic_Score=80, Critic_Count=73, User_Score='8', User_Count=192, Developer='Nintendo', Rating='E'),\n",
              " Row(Name='Pokemon Red/Pokemon Blue', Platform='GB', Year_of_Release='1996', Genre='Role-Playing', Publisher='Nintendo', NA_Sales=11.27, EU_Sales=8.89, JP_Sales=10.22, Other_Sales=1.0, Global_Sales=31.37, Critic_Score=None, Critic_Count=None, User_Score=None, User_Count=None, Developer=None, Rating=None),\n",
              " Row(Name='Tetris', Platform='GB', Year_of_Release='1989', Genre='Puzzle', Publisher='Nintendo', NA_Sales=23.2, EU_Sales=2.26, JP_Sales=4.22, Other_Sales=0.58, Global_Sales=30.26, Critic_Score=None, Critic_Count=None, User_Score=None, User_Count=None, Developer=None, Rating=None),\n",
              " Row(Name='New Super Mario Bros.', Platform='DS', Year_of_Release='2006', Genre='Platform', Publisher='Nintendo', NA_Sales=11.28, EU_Sales=9.14, JP_Sales=6.5, Other_Sales=2.88, Global_Sales=29.8, Critic_Score=89, Critic_Count=65, User_Score='8.5', User_Count=431, Developer='Nintendo', Rating='E'),\n",
              " Row(Name='Wii Play', Platform='Wii', Year_of_Release='2006', Genre='Misc', Publisher='Nintendo', NA_Sales=13.96, EU_Sales=9.18, JP_Sales=2.93, Other_Sales=2.84, Global_Sales=28.92, Critic_Score=58, Critic_Count=41, User_Score='6.6', User_Count=129, Developer='Nintendo', Rating='E'),\n",
              " Row(Name='New Super Mario Bros. Wii', Platform='Wii', Year_of_Release='2009', Genre='Platform', Publisher='Nintendo', NA_Sales=14.44, EU_Sales=6.94, JP_Sales=4.7, Other_Sales=2.24, Global_Sales=28.32, Critic_Score=87, Critic_Count=80, User_Score='8.4', User_Count=594, Developer='Nintendo', Rating='E'),\n",
              " Row(Name='Duck Hunt', Platform='NES', Year_of_Release='1984', Genre='Shooter', Publisher='Nintendo', NA_Sales=26.93, EU_Sales=0.63, JP_Sales=0.28, Other_Sales=0.47, Global_Sales=28.31, Critic_Score=None, Critic_Count=None, User_Score=None, User_Count=None, Developer=None, Rating=None)]"
            ]
          },
          "metadata": {
            "tags": []
          },
          "execution_count": 15
        }
      ]
    },
    {
      "cell_type": "markdown",
      "metadata": {
        "id": "5oun0L0I2fmD"
      },
      "source": [
        "Rename the `Global_Sales` column to `Total_Sales`. Renaming a column requires creating a copy of the dataframe with new column name added."
      ]
    },
    {
      "cell_type": "code",
      "metadata": {
        "id": "PeqUWOjl2sGz",
        "colab": {
          "base_uri": "https://localhost:8080/"
        },
        "outputId": "5dc3445c-edcf-40cc-f6ee-4fcc47f3096d"
      },
      "source": [
        "#Answer below:\n",
        "\n",
        "video_ts = video.withColumnRenamed('Global_Sales', 'Total_Sales')\n",
        "video_ts.show()"
      ],
      "execution_count": 16,
      "outputs": [
        {
          "output_type": "stream",
          "text": [
            "+--------------------+--------+---------------+------------+--------------------+--------+--------+--------+-----------+-----------+------------+------------+----------+----------+-------------------+------+\n",
            "|                Name|Platform|Year_of_Release|       Genre|           Publisher|NA_Sales|EU_Sales|JP_Sales|Other_Sales|Total_Sales|Critic_Score|Critic_Count|User_Score|User_Count|          Developer|Rating|\n",
            "+--------------------+--------+---------------+------------+--------------------+--------+--------+--------+-----------+-----------+------------+------------+----------+----------+-------------------+------+\n",
            "|          Wii Sports|     Wii|           2006|      Sports|            Nintendo|   41.36|   28.96|    3.77|       8.45|      82.53|          76|          51|         8|       322|           Nintendo|     E|\n",
            "|   Super Mario Bros.|     NES|           1985|    Platform|            Nintendo|   29.08|    3.58|    6.81|       0.77|      40.24|        null|        null|      null|      null|               null|  null|\n",
            "|      Mario Kart Wii|     Wii|           2008|      Racing|            Nintendo|   15.68|   12.76|    3.79|       3.29|      35.52|          82|          73|       8.3|       709|           Nintendo|     E|\n",
            "|   Wii Sports Resort|     Wii|           2009|      Sports|            Nintendo|   15.61|   10.93|    3.28|       2.95|      32.77|          80|          73|         8|       192|           Nintendo|     E|\n",
            "|Pokemon Red/Pokem...|      GB|           1996|Role-Playing|            Nintendo|   11.27|    8.89|   10.22|        1.0|      31.37|        null|        null|      null|      null|               null|  null|\n",
            "|              Tetris|      GB|           1989|      Puzzle|            Nintendo|    23.2|    2.26|    4.22|       0.58|      30.26|        null|        null|      null|      null|               null|  null|\n",
            "|New Super Mario B...|      DS|           2006|    Platform|            Nintendo|   11.28|    9.14|     6.5|       2.88|       29.8|          89|          65|       8.5|       431|           Nintendo|     E|\n",
            "|            Wii Play|     Wii|           2006|        Misc|            Nintendo|   13.96|    9.18|    2.93|       2.84|      28.92|          58|          41|       6.6|       129|           Nintendo|     E|\n",
            "|New Super Mario B...|     Wii|           2009|    Platform|            Nintendo|   14.44|    6.94|     4.7|       2.24|      28.32|          87|          80|       8.4|       594|           Nintendo|     E|\n",
            "|           Duck Hunt|     NES|           1984|     Shooter|            Nintendo|   26.93|    0.63|    0.28|       0.47|      28.31|        null|        null|      null|      null|               null|  null|\n",
            "|          Nintendogs|      DS|           2005|  Simulation|            Nintendo|    9.05|   10.95|    1.93|       2.74|      24.67|        null|        null|      null|      null|               null|  null|\n",
            "|       Mario Kart DS|      DS|           2005|      Racing|            Nintendo|    9.71|    7.47|    4.13|        1.9|      23.21|          91|          64|       8.6|       464|           Nintendo|     E|\n",
            "|Pokemon Gold/Poke...|      GB|           1999|Role-Playing|            Nintendo|     9.0|    6.18|     7.2|       0.71|       23.1|        null|        null|      null|      null|               null|  null|\n",
            "|             Wii Fit|     Wii|           2007|      Sports|            Nintendo|    8.92|    8.03|     3.6|       2.15|       22.7|          80|          63|       7.7|       146|           Nintendo|     E|\n",
            "|  Kinect Adventures!|    X360|           2010|        Misc|Microsoft Game St...|    15.0|    4.89|    0.24|       1.69|      21.81|          61|          45|       6.3|       106|Good Science Studio|     E|\n",
            "|        Wii Fit Plus|     Wii|           2009|      Sports|            Nintendo|    9.01|    8.49|    2.53|       1.77|      21.79|          80|          33|       7.4|        52|           Nintendo|     E|\n",
            "|  Grand Theft Auto V|     PS3|           2013|      Action|Take-Two Interactive|    7.02|    9.09|    0.98|       3.96|      21.04|          97|          50|       8.2|      3994|     Rockstar North|     M|\n",
            "|Grand Theft Auto:...|     PS2|           2004|      Action|Take-Two Interactive|    9.43|     0.4|    0.41|      10.57|      20.81|          95|          80|         9|      1588|     Rockstar North|     M|\n",
            "|   Super Mario World|    SNES|           1990|    Platform|            Nintendo|   12.78|    3.75|    3.54|       0.55|      20.61|        null|        null|      null|      null|               null|  null|\n",
            "|Brain Age: Train ...|      DS|           2005|        Misc|            Nintendo|    4.74|     9.2|    4.16|       2.04|      20.15|          77|          58|       7.9|        50|           Nintendo|     E|\n",
            "+--------------------+--------+---------------+------------+--------------------+--------+--------+--------+-----------+-----------+------------+------------+----------+----------+-------------------+------+\n",
            "only showing top 20 rows\n",
            "\n"
          ],
          "name": "stdout"
        }
      ]
    },
    {
      "cell_type": "markdown",
      "metadata": {
        "id": "dLuG29w-AaeK"
      },
      "source": [
        "Using the literal command, create a new column named `Score_100` by multiplying the `User_Score` column by a constant of 10.\n"
      ]
    },
    {
      "cell_type": "code",
      "metadata": {
        "id": "UyyVO3Ip3w9h",
        "colab": {
          "base_uri": "https://localhost:8080/"
        },
        "outputId": "cde5a29f-0adf-4312-9fd7-18991fc568c7"
      },
      "source": [
        "from pyspark.sql.functions import lit\n",
        "\n",
        "#Answer below:\n",
        "\n",
        "video_score = video_ts.withColumn('Score_100', video_ts['User_Score']*lit(10))\n",
        "video_score.show()"
      ],
      "execution_count": 17,
      "outputs": [
        {
          "output_type": "stream",
          "text": [
            "+--------------------+--------+---------------+------------+--------------------+--------+--------+--------+-----------+-----------+------------+------------+----------+----------+-------------------+------+---------+\n",
            "|                Name|Platform|Year_of_Release|       Genre|           Publisher|NA_Sales|EU_Sales|JP_Sales|Other_Sales|Total_Sales|Critic_Score|Critic_Count|User_Score|User_Count|          Developer|Rating|Score_100|\n",
            "+--------------------+--------+---------------+------------+--------------------+--------+--------+--------+-----------+-----------+------------+------------+----------+----------+-------------------+------+---------+\n",
            "|          Wii Sports|     Wii|           2006|      Sports|            Nintendo|   41.36|   28.96|    3.77|       8.45|      82.53|          76|          51|         8|       322|           Nintendo|     E|     80.0|\n",
            "|   Super Mario Bros.|     NES|           1985|    Platform|            Nintendo|   29.08|    3.58|    6.81|       0.77|      40.24|        null|        null|      null|      null|               null|  null|     null|\n",
            "|      Mario Kart Wii|     Wii|           2008|      Racing|            Nintendo|   15.68|   12.76|    3.79|       3.29|      35.52|          82|          73|       8.3|       709|           Nintendo|     E|     83.0|\n",
            "|   Wii Sports Resort|     Wii|           2009|      Sports|            Nintendo|   15.61|   10.93|    3.28|       2.95|      32.77|          80|          73|         8|       192|           Nintendo|     E|     80.0|\n",
            "|Pokemon Red/Pokem...|      GB|           1996|Role-Playing|            Nintendo|   11.27|    8.89|   10.22|        1.0|      31.37|        null|        null|      null|      null|               null|  null|     null|\n",
            "|              Tetris|      GB|           1989|      Puzzle|            Nintendo|    23.2|    2.26|    4.22|       0.58|      30.26|        null|        null|      null|      null|               null|  null|     null|\n",
            "|New Super Mario B...|      DS|           2006|    Platform|            Nintendo|   11.28|    9.14|     6.5|       2.88|       29.8|          89|          65|       8.5|       431|           Nintendo|     E|     85.0|\n",
            "|            Wii Play|     Wii|           2006|        Misc|            Nintendo|   13.96|    9.18|    2.93|       2.84|      28.92|          58|          41|       6.6|       129|           Nintendo|     E|     66.0|\n",
            "|New Super Mario B...|     Wii|           2009|    Platform|            Nintendo|   14.44|    6.94|     4.7|       2.24|      28.32|          87|          80|       8.4|       594|           Nintendo|     E|     84.0|\n",
            "|           Duck Hunt|     NES|           1984|     Shooter|            Nintendo|   26.93|    0.63|    0.28|       0.47|      28.31|        null|        null|      null|      null|               null|  null|     null|\n",
            "|          Nintendogs|      DS|           2005|  Simulation|            Nintendo|    9.05|   10.95|    1.93|       2.74|      24.67|        null|        null|      null|      null|               null|  null|     null|\n",
            "|       Mario Kart DS|      DS|           2005|      Racing|            Nintendo|    9.71|    7.47|    4.13|        1.9|      23.21|          91|          64|       8.6|       464|           Nintendo|     E|     86.0|\n",
            "|Pokemon Gold/Poke...|      GB|           1999|Role-Playing|            Nintendo|     9.0|    6.18|     7.2|       0.71|       23.1|        null|        null|      null|      null|               null|  null|     null|\n",
            "|             Wii Fit|     Wii|           2007|      Sports|            Nintendo|    8.92|    8.03|     3.6|       2.15|       22.7|          80|          63|       7.7|       146|           Nintendo|     E|     77.0|\n",
            "|  Kinect Adventures!|    X360|           2010|        Misc|Microsoft Game St...|    15.0|    4.89|    0.24|       1.69|      21.81|          61|          45|       6.3|       106|Good Science Studio|     E|     63.0|\n",
            "|        Wii Fit Plus|     Wii|           2009|      Sports|            Nintendo|    9.01|    8.49|    2.53|       1.77|      21.79|          80|          33|       7.4|        52|           Nintendo|     E|     74.0|\n",
            "|  Grand Theft Auto V|     PS3|           2013|      Action|Take-Two Interactive|    7.02|    9.09|    0.98|       3.96|      21.04|          97|          50|       8.2|      3994|     Rockstar North|     M|     82.0|\n",
            "|Grand Theft Auto:...|     PS2|           2004|      Action|Take-Two Interactive|    9.43|     0.4|    0.41|      10.57|      20.81|          95|          80|         9|      1588|     Rockstar North|     M|     90.0|\n",
            "|   Super Mario World|    SNES|           1990|    Platform|            Nintendo|   12.78|    3.75|    3.54|       0.55|      20.61|        null|        null|      null|      null|               null|  null|     null|\n",
            "|Brain Age: Train ...|      DS|           2005|        Misc|            Nintendo|    4.74|     9.2|    4.16|       2.04|      20.15|          77|          58|       7.9|        50|           Nintendo|     E|     79.0|\n",
            "+--------------------+--------+---------------+------------+--------------------+--------+--------+--------+-----------+-----------+------------+------------+----------+----------+-------------------+------+---------+\n",
            "only showing top 20 rows\n",
            "\n"
          ],
          "name": "stdout"
        }
      ]
    },
    {
      "cell_type": "markdown",
      "metadata": {
        "id": "K2EVhZqp4uK-"
      },
      "source": [
        "A common data wrangling exercise is to handle the missing values in a dataset. Using a user defined function find the number of missing values per row for the video dataframe."
      ]
    },
    {
      "cell_type": "code",
      "metadata": {
        "id": "wV0EDTmmtqjo"
      },
      "source": [
        "from pyspark.sql.functions import struct"
      ],
      "execution_count": 19,
      "outputs": []
    },
    {
      "cell_type": "code",
      "metadata": {
        "id": "tibyoR5fywY3"
      },
      "source": [
        "rows = struct(*[video[x] for x in video.columns])"
      ],
      "execution_count": 20,
      "outputs": []
    },
    {
      "cell_type": "code",
      "metadata": {
        "id": "bEfIiodG5kYN",
        "colab": {
          "base_uri": "https://localhost:8080/"
        },
        "outputId": "e7c83e6e-415b-40b0-d958-700b7bff00c0"
      },
      "source": [
        "#Answer below:\n",
        "import numpy as np\n",
        "from pyspark.sql.functions import udf\n",
        "from pyspark.sql.types import StringType, IntegerType, DoubleType, NullType, ArrayType\n",
        "\n",
        "null_count = udf(lambda x: x.count(None), IntegerType())\n",
        "\n",
        "video_null = video.withColumn('Null_count', null_count(rows))\n",
        "video_null.show()"
      ],
      "execution_count": 21,
      "outputs": [
        {
          "output_type": "stream",
          "text": [
            "+--------------------+--------+---------------+------------+--------------------+--------+--------+--------+-----------+------------+------------+------------+----------+----------+-------------------+------+----------+\n",
            "|                Name|Platform|Year_of_Release|       Genre|           Publisher|NA_Sales|EU_Sales|JP_Sales|Other_Sales|Global_Sales|Critic_Score|Critic_Count|User_Score|User_Count|          Developer|Rating|Null_count|\n",
            "+--------------------+--------+---------------+------------+--------------------+--------+--------+--------+-----------+------------+------------+------------+----------+----------+-------------------+------+----------+\n",
            "|          Wii Sports|     Wii|           2006|      Sports|            Nintendo|   41.36|   28.96|    3.77|       8.45|       82.53|          76|          51|         8|       322|           Nintendo|     E|         0|\n",
            "|   Super Mario Bros.|     NES|           1985|    Platform|            Nintendo|   29.08|    3.58|    6.81|       0.77|       40.24|        null|        null|      null|      null|               null|  null|         6|\n",
            "|      Mario Kart Wii|     Wii|           2008|      Racing|            Nintendo|   15.68|   12.76|    3.79|       3.29|       35.52|          82|          73|       8.3|       709|           Nintendo|     E|         0|\n",
            "|   Wii Sports Resort|     Wii|           2009|      Sports|            Nintendo|   15.61|   10.93|    3.28|       2.95|       32.77|          80|          73|         8|       192|           Nintendo|     E|         0|\n",
            "|Pokemon Red/Pokem...|      GB|           1996|Role-Playing|            Nintendo|   11.27|    8.89|   10.22|        1.0|       31.37|        null|        null|      null|      null|               null|  null|         6|\n",
            "|              Tetris|      GB|           1989|      Puzzle|            Nintendo|    23.2|    2.26|    4.22|       0.58|       30.26|        null|        null|      null|      null|               null|  null|         6|\n",
            "|New Super Mario B...|      DS|           2006|    Platform|            Nintendo|   11.28|    9.14|     6.5|       2.88|        29.8|          89|          65|       8.5|       431|           Nintendo|     E|         0|\n",
            "|            Wii Play|     Wii|           2006|        Misc|            Nintendo|   13.96|    9.18|    2.93|       2.84|       28.92|          58|          41|       6.6|       129|           Nintendo|     E|         0|\n",
            "|New Super Mario B...|     Wii|           2009|    Platform|            Nintendo|   14.44|    6.94|     4.7|       2.24|       28.32|          87|          80|       8.4|       594|           Nintendo|     E|         0|\n",
            "|           Duck Hunt|     NES|           1984|     Shooter|            Nintendo|   26.93|    0.63|    0.28|       0.47|       28.31|        null|        null|      null|      null|               null|  null|         6|\n",
            "|          Nintendogs|      DS|           2005|  Simulation|            Nintendo|    9.05|   10.95|    1.93|       2.74|       24.67|        null|        null|      null|      null|               null|  null|         6|\n",
            "|       Mario Kart DS|      DS|           2005|      Racing|            Nintendo|    9.71|    7.47|    4.13|        1.9|       23.21|          91|          64|       8.6|       464|           Nintendo|     E|         0|\n",
            "|Pokemon Gold/Poke...|      GB|           1999|Role-Playing|            Nintendo|     9.0|    6.18|     7.2|       0.71|        23.1|        null|        null|      null|      null|               null|  null|         6|\n",
            "|             Wii Fit|     Wii|           2007|      Sports|            Nintendo|    8.92|    8.03|     3.6|       2.15|        22.7|          80|          63|       7.7|       146|           Nintendo|     E|         0|\n",
            "|  Kinect Adventures!|    X360|           2010|        Misc|Microsoft Game St...|    15.0|    4.89|    0.24|       1.69|       21.81|          61|          45|       6.3|       106|Good Science Studio|     E|         0|\n",
            "|        Wii Fit Plus|     Wii|           2009|      Sports|            Nintendo|    9.01|    8.49|    2.53|       1.77|       21.79|          80|          33|       7.4|        52|           Nintendo|     E|         0|\n",
            "|  Grand Theft Auto V|     PS3|           2013|      Action|Take-Two Interactive|    7.02|    9.09|    0.98|       3.96|       21.04|          97|          50|       8.2|      3994|     Rockstar North|     M|         0|\n",
            "|Grand Theft Auto:...|     PS2|           2004|      Action|Take-Two Interactive|    9.43|     0.4|    0.41|      10.57|       20.81|          95|          80|         9|      1588|     Rockstar North|     M|         0|\n",
            "|   Super Mario World|    SNES|           1990|    Platform|            Nintendo|   12.78|    3.75|    3.54|       0.55|       20.61|        null|        null|      null|      null|               null|  null|         6|\n",
            "|Brain Age: Train ...|      DS|           2005|        Misc|            Nintendo|    4.74|     9.2|    4.16|       2.04|       20.15|          77|          58|       7.9|        50|           Nintendo|     E|         0|\n",
            "+--------------------+--------+---------------+------------+--------------------+--------+--------+--------+-----------+------------+------------+------------+----------+----------+-------------------+------+----------+\n",
            "only showing top 20 rows\n",
            "\n"
          ],
          "name": "stdout"
        }
      ]
    },
    {
      "cell_type": "markdown",
      "metadata": {
        "id": "BAYc_-se7085"
      },
      "source": [
        "From the above function we see there are many rows missing several features and many rows with no null values."
      ]
    },
    {
      "cell_type": "markdown",
      "metadata": {
        "id": "YHqmaTMo8EG8"
      },
      "source": [
        "In addition to user defined functions like 'lit' and 'lambda' we can use SQL functions to wrangle our data in Spark. Let's review the percent of missingness by column. But first import the sql functions as fn."
      ]
    },
    {
      "cell_type": "code",
      "metadata": {
        "id": "tYROPngf81Sy"
      },
      "source": [
        "import pyspark.sql.functions as fn"
      ],
      "execution_count": 22,
      "outputs": []
    },
    {
      "cell_type": "markdown",
      "metadata": {
        "id": "evf7g3olos5b"
      },
      "source": [
        "Print the percent of null values per column."
      ]
    },
    {
      "cell_type": "code",
      "metadata": {
        "id": "5RuJzhxS8X72",
        "colab": {
          "base_uri": "https://localhost:8080/"
        },
        "outputId": "b6b9b222-eedc-4945-91d9-569bfa5e1d1c"
      },
      "source": [
        "#Answer below:\n",
        "\n",
        "video.agg(*[(1 - fn.count(c) / fn.count('*')).alias(c + '_missing') for c in video.columns]).show()"
      ],
      "execution_count": 23,
      "outputs": [
        {
          "output_type": "stream",
          "text": [
            "+--------------------+----------------+-----------------------+--------------------+-----------------+----------------+----------------+----------------+-------------------+--------------------+--------------------+--------------------+------------------+------------------+------------------+-------------------+\n",
            "|        Name_missing|Platform_missing|Year_of_Release_missing|       Genre_missing|Publisher_missing|NA_Sales_missing|EU_Sales_missing|JP_Sales_missing|Other_Sales_missing|Global_Sales_missing|Critic_Score_missing|Critic_Count_missing|User_Score_missing|User_Count_missing| Developer_missing|     Rating_missing|\n",
            "+--------------------+----------------+-----------------------+--------------------+-----------------+----------------+----------------+----------------+-------------------+--------------------+--------------------+--------------------+------------------+------------------+------------------+-------------------+\n",
            "|1.196243794485685...|             0.0|                    0.0|1.196243794485685...|              0.0|             0.0|             0.0|             0.0|                0.0|                 0.0|  0.5133082122136492|  0.5133082122136492| 0.400980919911478|0.5460254799928226|0.3961361325438124|0.40486871224355525|\n",
            "+--------------------+----------------+-----------------------+--------------------+-----------------+----------------+----------------+----------------+-------------------+--------------------+--------------------+--------------------+------------------+------------------+------------------+-------------------+\n",
            "\n"
          ],
          "name": "stdout"
        }
      ]
    },
    {
      "cell_type": "markdown",
      "metadata": {
        "id": "_4FUppGR-ss5"
      },
      "source": [
        "We notice that the developer column is missing about 40% of the rows and we need to calculate the average sales revenue by developer so let's drop records where `Developer` is missing."
      ]
    },
    {
      "cell_type": "code",
      "metadata": {
        "id": "tFm9rNIV-7yD"
      },
      "source": [
        "#Answer below:\n",
        "video_dev_not_null = video.filter(video['Developer'].isNotNull())"
      ],
      "execution_count": 24,
      "outputs": []
    },
    {
      "cell_type": "markdown",
      "metadata": {
        "id": "d9_58zZnQ4m8"
      },
      "source": [
        "Review the new dataframe with no null values in the Developer column."
      ]
    },
    {
      "cell_type": "code",
      "metadata": {
        "id": "dnKVtUnoKtS9",
        "colab": {
          "base_uri": "https://localhost:8080/"
        },
        "outputId": "f660f284-6555-465d-f0c5-adfd87792b15"
      },
      "source": [
        "#Answer below:\n",
        "\n",
        "video_dev_not_null.show()"
      ],
      "execution_count": 25,
      "outputs": [
        {
          "output_type": "stream",
          "text": [
            "+--------------------+--------+---------------+--------+--------------------+--------+--------+--------+-----------+------------+------------+------------+----------+----------+--------------------+------+\n",
            "|                Name|Platform|Year_of_Release|   Genre|           Publisher|NA_Sales|EU_Sales|JP_Sales|Other_Sales|Global_Sales|Critic_Score|Critic_Count|User_Score|User_Count|           Developer|Rating|\n",
            "+--------------------+--------+---------------+--------+--------------------+--------+--------+--------+-----------+------------+------------+------------+----------+----------+--------------------+------+\n",
            "|          Wii Sports|     Wii|           2006|  Sports|            Nintendo|   41.36|   28.96|    3.77|       8.45|       82.53|          76|          51|         8|       322|            Nintendo|     E|\n",
            "|      Mario Kart Wii|     Wii|           2008|  Racing|            Nintendo|   15.68|   12.76|    3.79|       3.29|       35.52|          82|          73|       8.3|       709|            Nintendo|     E|\n",
            "|   Wii Sports Resort|     Wii|           2009|  Sports|            Nintendo|   15.61|   10.93|    3.28|       2.95|       32.77|          80|          73|         8|       192|            Nintendo|     E|\n",
            "|New Super Mario B...|      DS|           2006|Platform|            Nintendo|   11.28|    9.14|     6.5|       2.88|        29.8|          89|          65|       8.5|       431|            Nintendo|     E|\n",
            "|            Wii Play|     Wii|           2006|    Misc|            Nintendo|   13.96|    9.18|    2.93|       2.84|       28.92|          58|          41|       6.6|       129|            Nintendo|     E|\n",
            "|New Super Mario B...|     Wii|           2009|Platform|            Nintendo|   14.44|    6.94|     4.7|       2.24|       28.32|          87|          80|       8.4|       594|            Nintendo|     E|\n",
            "|       Mario Kart DS|      DS|           2005|  Racing|            Nintendo|    9.71|    7.47|    4.13|        1.9|       23.21|          91|          64|       8.6|       464|            Nintendo|     E|\n",
            "|             Wii Fit|     Wii|           2007|  Sports|            Nintendo|    8.92|    8.03|     3.6|       2.15|        22.7|          80|          63|       7.7|       146|            Nintendo|     E|\n",
            "|  Kinect Adventures!|    X360|           2010|    Misc|Microsoft Game St...|    15.0|    4.89|    0.24|       1.69|       21.81|          61|          45|       6.3|       106| Good Science Studio|     E|\n",
            "|        Wii Fit Plus|     Wii|           2009|  Sports|            Nintendo|    9.01|    8.49|    2.53|       1.77|       21.79|          80|          33|       7.4|        52|            Nintendo|     E|\n",
            "|  Grand Theft Auto V|     PS3|           2013|  Action|Take-Two Interactive|    7.02|    9.09|    0.98|       3.96|       21.04|          97|          50|       8.2|      3994|      Rockstar North|     M|\n",
            "|Grand Theft Auto:...|     PS2|           2004|  Action|Take-Two Interactive|    9.43|     0.4|    0.41|      10.57|       20.81|          95|          80|         9|      1588|      Rockstar North|     M|\n",
            "|Brain Age: Train ...|      DS|           2005|    Misc|            Nintendo|    4.74|     9.2|    4.16|       2.04|       20.15|          77|          58|       7.9|        50|            Nintendo|     E|\n",
            "|  Grand Theft Auto V|    X360|           2013|  Action|Take-Two Interactive|    9.66|    5.14|    0.06|       1.41|       16.27|          97|          58|       8.1|      3711|      Rockstar North|     M|\n",
            "|Grand Theft Auto:...|     PS2|           2002|  Action|Take-Two Interactive|    8.41|    5.49|    0.47|       1.78|       16.15|          95|          62|       8.7|       730|      Rockstar North|     M|\n",
            "|Brain Age 2: More...|      DS|           2005|  Puzzle|            Nintendo|    3.43|    5.35|    5.32|       1.18|       15.29|          77|          37|       7.1|        19|            Nintendo|     E|\n",
            "|Gran Turismo 3: A...|     PS2|           2001|  Racing|Sony Computer Ent...|    6.85|    5.09|    1.87|       1.16|       14.98|          95|          54|       8.4|       314|   Polyphony Digital|     E|\n",
            "|Call of Duty: Mod...|    X360|           2011| Shooter|          Activision|    9.04|    4.24|    0.13|       1.32|       14.73|          88|          81|       3.4|      8713|Infinity Ward, Sl...|     M|\n",
            "|Call of Duty: Bla...|    X360|           2010| Shooter|          Activision|     9.7|    3.68|    0.11|       1.13|       14.61|          87|          89|       6.3|      1454|            Treyarch|     M|\n",
            "|Call of Duty: Bla...|     PS3|           2012| Shooter|          Activision|    4.99|    5.73|    0.65|       2.42|       13.79|          83|          21|       5.3|       922|            Treyarch|     M|\n",
            "+--------------------+--------+---------------+--------+--------------------+--------+--------+--------+-----------+------------+------------+------------+----------+----------+--------------------+------+\n",
            "only showing top 20 rows\n",
            "\n"
          ],
          "name": "stdout"
        }
      ]
    },
    {
      "cell_type": "markdown",
      "metadata": {
        "id": "9UpMKNHq-z3C"
      },
      "source": [
        "Calculate the mean global sales by developer using a groupby aggregation and show the results."
      ]
    },
    {
      "cell_type": "code",
      "metadata": {
        "id": "SMOEst4r8DtE"
      },
      "source": [
        "#Answer below:\n",
        "\n",
        "video_mean = video_dev_not_null.groupBy('developer').mean('Global_Sales')"
      ],
      "execution_count": 26,
      "outputs": []
    },
    {
      "cell_type": "code",
      "metadata": {
        "id": "0GGwqbuq-_l5",
        "colab": {
          "base_uri": "https://localhost:8080/"
        },
        "outputId": "c19948d8-deab-4345-b765-d65e9fe123a1"
      },
      "source": [
        "video_mean.show()"
      ],
      "execution_count": 27,
      "outputs": [
        {
          "output_type": "stream",
          "text": [
            "+--------------------+-------------------+\n",
            "|           developer|  avg(Global_Sales)|\n",
            "+--------------------+-------------------+\n",
            "| Hyperspace Cowgirls|                0.3|\n",
            "|            Deep Red|               0.02|\n",
            "|        Funbox Media|               0.02|\n",
            "|      Camouflaj, LLC|               0.01|\n",
            "|          SCEA, Sims|                0.7|\n",
            "|Ubisoft Barcelona...|               0.47|\n",
            "|LightBox Interactive|               0.29|\n",
            "|      Handheld Games|0.12333333333333335|\n",
            "|     Beep Industries|               0.12|\n",
            "|          SpiderMonk|               0.07|\n",
            "|             Blue 52|               0.04|\n",
            "|      Rockstar Leeds|  2.622222222222222|\n",
            "|           Hangar 13| 0.8733333333333334|\n",
            "|         id Software|               0.56|\n",
            "|       ZeniMax Media|               1.09|\n",
            "|Gearbox Software,...| 0.6666666666666666|\n",
            "|           Telegames|               0.29|\n",
            "|                 3DO|0.16470588235294115|\n",
            "|            Tantatus|0.17750000000000002|\n",
            "|     Lancarse, Atlus|               0.33|\n",
            "+--------------------+-------------------+\n",
            "only showing top 20 rows\n",
            "\n"
          ],
          "name": "stdout"
        }
      ]
    },
    {
      "cell_type": "code",
      "metadata": {
        "id": "C0gccZkrtzKK"
      },
      "source": [
        ""
      ],
      "execution_count": null,
      "outputs": []
    }
  ]
}