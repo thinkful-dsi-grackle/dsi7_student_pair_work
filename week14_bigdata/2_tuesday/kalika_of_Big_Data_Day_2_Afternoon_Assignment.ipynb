{
  "nbformat": 4,
  "nbformat_minor": 0,
  "metadata": {
    "kernelspec": {
      "display_name": "Python 3",
      "language": "python",
      "name": "python3"
    },
    "language_info": {
      "codemirror_mode": {
        "name": "ipython",
        "version": 3
      },
      "file_extension": ".py",
      "mimetype": "text/x-python",
      "name": "python",
      "nbconvert_exporter": "python",
      "pygments_lexer": "ipython3",
      "version": "3.7.0"
    },
    "colab": {
      "name": "kalika of Big Data Day 2 Afternoon Assignment.ipynb",
      "provenance": [],
      "collapsed_sections": []
    }
  },
  "cells": [
    {
      "cell_type": "markdown",
      "metadata": {
        "id": "JKUwQ_MlyE9A"
      },
      "source": [
        "## Big Data Day 2 Afternoon Assignment\n",
        "\n",
        "In this assignment, we will learn about machine learning with Dask. We will use the market basket dataset loaded below and cluster our data."
      ]
    },
    {
      "cell_type": "code",
      "metadata": {
        "id": "rKbrI6l7yE9B"
      },
      "source": [
        "import dask.dataframe as dd\n",
        "import numpy as np\n",
        "import pandas as pd"
      ],
      "execution_count": 1,
      "outputs": []
    },
    {
      "cell_type": "code",
      "metadata": {
        "id": "mKCElNPDyE9D"
      },
      "source": [
        "market_basket = dd.read_csv('https://tf-assets-prod.s3.amazonaws.com/tf-curric/data-science/Data%20Sets%20Big%20Data/Mall_Customers.csv')"
      ],
      "execution_count": 2,
      "outputs": []
    },
    {
      "cell_type": "code",
      "metadata": {
        "id": "2foxXYxuyE9F",
        "colab": {
          "base_uri": "https://localhost:8080/",
          "height": 195
        },
        "outputId": "8bc0d8fb-992a-4b4e-da41-9fa85a5ca7b0"
      },
      "source": [
        "market_basket.head()"
      ],
      "execution_count": 3,
      "outputs": [
        {
          "output_type": "execute_result",
          "data": {
            "text/html": [
              "<div>\n",
              "<style scoped>\n",
              "    .dataframe tbody tr th:only-of-type {\n",
              "        vertical-align: middle;\n",
              "    }\n",
              "\n",
              "    .dataframe tbody tr th {\n",
              "        vertical-align: top;\n",
              "    }\n",
              "\n",
              "    .dataframe thead th {\n",
              "        text-align: right;\n",
              "    }\n",
              "</style>\n",
              "<table border=\"1\" class=\"dataframe\">\n",
              "  <thead>\n",
              "    <tr style=\"text-align: right;\">\n",
              "      <th></th>\n",
              "      <th>CustomerID</th>\n",
              "      <th>Gender</th>\n",
              "      <th>Age</th>\n",
              "      <th>Annual Income (k$)</th>\n",
              "      <th>Spending Score (1-100)</th>\n",
              "    </tr>\n",
              "  </thead>\n",
              "  <tbody>\n",
              "    <tr>\n",
              "      <th>0</th>\n",
              "      <td>1</td>\n",
              "      <td>Male</td>\n",
              "      <td>19</td>\n",
              "      <td>15</td>\n",
              "      <td>39</td>\n",
              "    </tr>\n",
              "    <tr>\n",
              "      <th>1</th>\n",
              "      <td>2</td>\n",
              "      <td>Male</td>\n",
              "      <td>21</td>\n",
              "      <td>15</td>\n",
              "      <td>81</td>\n",
              "    </tr>\n",
              "    <tr>\n",
              "      <th>2</th>\n",
              "      <td>3</td>\n",
              "      <td>Female</td>\n",
              "      <td>20</td>\n",
              "      <td>16</td>\n",
              "      <td>6</td>\n",
              "    </tr>\n",
              "    <tr>\n",
              "      <th>3</th>\n",
              "      <td>4</td>\n",
              "      <td>Female</td>\n",
              "      <td>23</td>\n",
              "      <td>16</td>\n",
              "      <td>77</td>\n",
              "    </tr>\n",
              "    <tr>\n",
              "      <th>4</th>\n",
              "      <td>5</td>\n",
              "      <td>Female</td>\n",
              "      <td>31</td>\n",
              "      <td>17</td>\n",
              "      <td>40</td>\n",
              "    </tr>\n",
              "  </tbody>\n",
              "</table>\n",
              "</div>"
            ],
            "text/plain": [
              "   CustomerID  Gender  Age  Annual Income (k$)  Spending Score (1-100)\n",
              "0           1    Male   19                  15                      39\n",
              "1           2    Male   21                  15                      81\n",
              "2           3  Female   20                  16                       6\n",
              "3           4  Female   23                  16                      77\n",
              "4           5  Female   31                  17                      40"
            ]
          },
          "metadata": {
            "tags": []
          },
          "execution_count": 3
        }
      ]
    },
    {
      "cell_type": "markdown",
      "metadata": {
        "id": "Ko8ne0NcyE9H"
      },
      "source": [
        "To cluster our data, we must first examine and process it. The first step is to check for missing data. Do this in the cell below. If there is missing data, drop all rows containing missing data."
      ]
    },
    {
      "cell_type": "code",
      "metadata": {
        "id": "1UzH1o6LyE9H"
      },
      "source": [
        "# Answer below:\n",
        "market_basket = market_basket.dropna()"
      ],
      "execution_count": 4,
      "outputs": []
    },
    {
      "cell_type": "markdown",
      "metadata": {
        "id": "0f1BvUkRyE9J"
      },
      "source": [
        "Next, we will get rid of the customer ID column. Drop the column and assign the resulting dataframe to a new variable."
      ]
    },
    {
      "cell_type": "code",
      "metadata": {
        "id": "-8NaKss0yE9J"
      },
      "source": [
        "# Answer below:\n",
        "df = market_basket.drop(columns='CustomerID')"
      ],
      "execution_count": 5,
      "outputs": []
    },
    {
      "cell_type": "markdown",
      "metadata": {
        "id": "SjamCsXVyE9L"
      },
      "source": [
        "We will now create a dummy variable from the gender variable."
      ]
    },
    {
      "cell_type": "code",
      "metadata": {
        "colab": {
          "base_uri": "https://localhost:8080/"
        },
        "id": "79HqIfRx-0mn",
        "outputId": "a3bc79b8-b5ac-460b-f1a0-01833811f70d"
      },
      "source": [
        "df['Gender']"
      ],
      "execution_count": 6,
      "outputs": [
        {
          "output_type": "execute_result",
          "data": {
            "text/plain": [
              "Dask Series Structure:\n",
              "npartitions=1\n",
              "    object\n",
              "       ...\n",
              "Name: Gender, dtype: object\n",
              "Dask Name: getitem, 4 tasks"
            ]
          },
          "metadata": {
            "tags": []
          },
          "execution_count": 6
        }
      ]
    },
    {
      "cell_type": "code",
      "metadata": {
        "id": "MSk2PGFhyE9L"
      },
      "source": [
        "# Answer below:\n",
        "df = df.categorize()\n",
        "df = dd.get_dummies(df, columns=['Gender'], drop_first=True)"
      ],
      "execution_count": 7,
      "outputs": []
    },
    {
      "cell_type": "markdown",
      "metadata": {
        "id": "hbu-3kJbyE9M"
      },
      "source": [
        "Since the data has different scales, we will scale all columns using min max scaling. We will write our own min max scaling function since the minmax scaler will produce numpy arrays instead of dask arrays. Recall that min max scaling requires finding the min and the max. We subtract the min from each observation and divide by the difference between the max and the min. Complete the function below."
      ]
    },
    {
      "cell_type": "code",
      "metadata": {
        "id": "Hj4oc4iuyE9N"
      },
      "source": [
        "# Answer below:\n",
        "from dask_ml.preprocessing import MinMaxScaler\n",
        "import dask.array as da\n",
        "def dask_min_max(x):\n",
        "    #Input: dask column\n",
        "    scale = MinMaxScaler()\n",
        "    scaled = scale.fit_transform(x)\n",
        "    #Output: dask column that has been min max scaled\n",
        "    return scaled"
      ],
      "execution_count": 22,
      "outputs": []
    },
    {
      "cell_type": "markdown",
      "metadata": {
        "id": "Stl1SJEyyE9O"
      },
      "source": [
        "Transform all columns using the scaler you wrote above."
      ]
    },
    {
      "cell_type": "code",
      "metadata": {
        "id": "JxhFlvRKyE9P"
      },
      "source": [
        "# Answer below:\n",
        "df = dask_min_max(df)"
      ],
      "execution_count": 23,
      "outputs": []
    },
    {
      "cell_type": "markdown",
      "metadata": {
        "id": "XuESlyF2yE9Q"
      },
      "source": [
        "Import the dask clustering function and cluster the data. Use 3 clusters and print the centroids."
      ]
    },
    {
      "cell_type": "code",
      "metadata": {
        "id": "c2yBmO75yE9R",
        "colab": {
          "base_uri": "https://localhost:8080/"
        },
        "outputId": "9439ea5f-f0f0-4336-ebc4-e42d5866d255"
      },
      "source": [
        "# Answer below\n",
        "#from dask_ml.cluster import KMeans\n",
        "from sklearn.cluster import KMeans\n",
        "km = KMeans(n_clusters=3)\n",
        "\n",
        "\n",
        "km.fit_predict(df)\n",
        "km.cluster_centers_"
      ],
      "execution_count": 33,
      "outputs": [
        {
          "output_type": "execute_result",
          "data": {
            "text/plain": [
              "array([[6.04567308e-01, 3.88661202e-01, 2.87840136e-01, 4.44089210e-16],\n",
              "       [3.86504121e-01, 3.62704918e-01, 5.15579446e-01, 1.00000000e+00],\n",
              "       [1.97115385e-01, 3.85245902e-01, 7.21173469e-01, 1.11022302e-16]])"
            ]
          },
          "metadata": {
            "tags": []
          },
          "execution_count": 33
        }
      ]
    },
    {
      "cell_type": "code",
      "metadata": {
        "id": "IDyVIggFD9C4"
      },
      "source": [
        ""
      ],
      "execution_count": null,
      "outputs": []
    }
  ]
}