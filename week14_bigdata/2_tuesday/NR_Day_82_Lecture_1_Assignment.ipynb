{
  "nbformat": 4,
  "nbformat_minor": 0,
  "metadata": {
    "kernelspec": {
      "display_name": "Python 3",
      "language": "python",
      "name": "python3"
    },
    "language_info": {
      "codemirror_mode": {
        "name": "ipython",
        "version": 3
      },
      "file_extension": ".py",
      "mimetype": "text/x-python",
      "name": "python",
      "nbconvert_exporter": "python",
      "pygments_lexer": "ipython3",
      "version": "3.7.0"
    },
    "colab": {
      "name": "NR Day 82 Lecture 1 Assignment",
      "provenance": [],
      "collapsed_sections": []
    }
  },
  "cells": [
    {
      "cell_type": "markdown",
      "metadata": {
        "id": "4SinAo2WyDyn"
      },
      "source": [
        "## Day 77 Lecture 1 Assignment\n",
        "\n",
        "In this assignment, we will learn about convolutions using Dask arrays."
      ]
    },
    {
      "cell_type": "code",
      "metadata": {
        "colab": {
          "base_uri": "https://localhost:8080/"
        },
        "id": "gOEzU81NCkb0",
        "outputId": "e50e7b90-f78e-4208-c19f-79904b264932"
      },
      "source": [
        "!pip install dask[complete] -U --quiet"
      ],
      "execution_count": 48,
      "outputs": [
        {
          "output_type": "stream",
          "text": [
            "\u001b[K     |████████████████████████████████| 890kB 4.2MB/s \n",
            "\u001b[K     |████████████████████████████████| 675kB 12.6MB/s \n",
            "\u001b[K     |████████████████████████████████| 102kB 5.3MB/s \n",
            "\u001b[K     |████████████████████████████████| 102kB 7.0MB/s \n",
            "\u001b[?25h  Building wheel for contextvars (setup.py) ... \u001b[?25l\u001b[?25hdone\n",
            "  Building wheel for locket (setup.py) ... \u001b[?25l\u001b[?25hdone\n",
            "\u001b[31mERROR: distributed 2021.1.0 has requirement cloudpickle>=1.5.0, but you'll have cloudpickle 1.3.0 which is incompatible.\u001b[0m\n"
          ],
          "name": "stdout"
        }
      ]
    },
    {
      "cell_type": "code",
      "metadata": {
        "id": "VE7GRzTVyDyp"
      },
      "source": [
        "import dask.array as da"
      ],
      "execution_count": 49,
      "outputs": []
    },
    {
      "cell_type": "code",
      "metadata": {
        "id": "ThA5b69CyDyr"
      },
      "source": [
        "import os\n",
        "import random\n",
        "\n",
        "import cv2\n",
        "import numpy as np\n",
        "import pandas as pd"
      ],
      "execution_count": 50,
      "outputs": []
    },
    {
      "cell_type": "code",
      "metadata": {
        "id": "PgAWwGIZCT3R"
      },
      "source": [
        "from google.colab.patches import cv2_imshow"
      ],
      "execution_count": 51,
      "outputs": []
    },
    {
      "cell_type": "code",
      "metadata": {
        "id": "fhzVELhwyDys"
      },
      "source": [
        "\r\n",
        "image = cv2.imread('/content/6-facial-recognition-hero.jpg', 0)"
      ],
      "execution_count": 52,
      "outputs": []
    },
    {
      "cell_type": "code",
      "metadata": {
        "id": "DTfLP8KuyDyw",
        "colab": {
          "base_uri": "https://localhost:8080/",
          "height": 130
        },
        "outputId": "a09476e2-ac25-43d9-fa2f-c002cdfde6cd"
      },
      "source": [
        "image_da = da.asarray(image)\r\n",
        "image_da\r\n"
      ],
      "execution_count": 54,
      "outputs": [
        {
          "output_type": "execute_result",
          "data": {
            "text/html": [
              "<table>\n",
              "<tr>\n",
              "<td>\n",
              "<table>\n",
              "  <thead>\n",
              "    <tr><td> </td><th> Array </th><th> Chunk </th></tr>\n",
              "  </thead>\n",
              "  <tbody>\n",
              "    <tr><th> Bytes </th><td> 8 B </td> <td> 8 B </td></tr>\n",
              "    <tr><th> Shape </th><td> () </td> <td> () </td></tr>\n",
              "    <tr><th> Count </th><td> 1 Tasks </td><td> 1 Chunks </td></tr>\n",
              "    <tr><th> Type </th><td> object </td><td> numpy.ndarray </td></tr>\n",
              "  </tbody>\n",
              "</table>\n",
              "</td>\n",
              "<td>\n",
              "\n",
              "</td>\n",
              "</tr>\n",
              "</table>"
            ],
            "text/plain": [
              "dask.array<array, shape=(), dtype=object, chunksize=(), chunktype=numpy.ndarray>"
            ]
          },
          "metadata": {
            "tags": []
          },
          "execution_count": 54
        }
      ]
    },
    {
      "cell_type": "markdown",
      "metadata": {
        "id": "c40Z8fKTyDyy"
      },
      "source": [
        "Rechunk the image array into chunks of 100x100."
      ]
    },
    {
      "cell_type": "code",
      "metadata": {
        "id": "F2Lun829yDyy"
      },
      "source": [
        "# Answer below\n",
        "\n",
        "image_d = da.rechunk(image_da, chunks=(100, 100))"
      ],
      "execution_count": 55,
      "outputs": []
    },
    {
      "cell_type": "markdown",
      "metadata": {
        "id": "H87FiMehyDy0"
      },
      "source": [
        "In the code above, we read an image of a face and converted it into a Dask array. We will use this array to learn about convolutions. You can learn more about convolutions <a href=\"http://setosa.io/ev/image-kernels/\">here</a>.\n",
        "\n",
        "Convolutions are transformations of matrices that help us create convolutional neural network (which are crucial in deep learning) or apply effects to images like blurring or sharpening.\n",
        "\n",
        "Our kernel is a 3x3 matrix which we apply to every 3x3 subset of our image matrix.\n",
        "\n",
        "To start with our transformation, zero pad the image matrix with a width of one. This means that our output will be a matrix with an additional row and additional column of zeros on both sides. The image below illustrates padding. Use the pad function \n",
        "<img src=\"https://www.researchgate.net/profile/Terje_Midtbo/publication/318967374/figure/fig4/AS:669210783002634@1536563692382/Visualization-of-a-matrix-that-is-zero-padded-with-one-border.png\">"
      ]
    },
    {
      "cell_type": "code",
      "metadata": {
        "id": "YF62IghiyDy0"
      },
      "source": [
        "# Answer below:\n",
        "\n",
        "\n",
        "padd = da.pad(image_d, 1, 'constant')"
      ],
      "execution_count": 56,
      "outputs": []
    },
    {
      "cell_type": "markdown",
      "metadata": {
        "id": "nbpYWN71yDy1"
      },
      "source": [
        "What is the shape of our padded array?"
      ]
    },
    {
      "cell_type": "code",
      "metadata": {
        "id": "4oR8I3j5yDy2",
        "colab": {
          "base_uri": "https://localhost:8080/"
        },
        "outputId": "58def991-7562-46ec-de93-cf2c1736705f"
      },
      "source": [
        "# Answer below:\n",
        "\n",
        "padd.shape"
      ],
      "execution_count": 57,
      "outputs": [
        {
          "output_type": "execute_result",
          "data": {
            "text/plain": [
              "()"
            ]
          },
          "metadata": {
            "tags": []
          },
          "execution_count": 57
        }
      ]
    },
    {
      "cell_type": "markdown",
      "metadata": {
        "id": "lVtIgP0lyDy3"
      },
      "source": [
        "To apply a convolution, we will install the `dask-image` package. Do this below."
      ]
    },
    {
      "cell_type": "code",
      "metadata": {
        "id": "Fsa_jfD6yDy4"
      },
      "source": [
        "# Answer below:\n",
        "\n",
        "\n",
        "!pip install dask-image -U --quiet"
      ],
      "execution_count": 59,
      "outputs": []
    },
    {
      "cell_type": "markdown",
      "metadata": {
        "id": "aripyIE_yDy5"
      },
      "source": [
        "Import the convolve function from the package"
      ]
    },
    {
      "cell_type": "code",
      "metadata": {
        "id": "p6ttwClYyDy6"
      },
      "source": [
        "# Answer below:\n",
        "\n",
        "from dask_image.ndfilters import convolve"
      ],
      "execution_count": 60,
      "outputs": []
    },
    {
      "cell_type": "markdown",
      "metadata": {
        "id": "U1Cwb1xDyDy7"
      },
      "source": [
        "Define the sharpen convolution from the setosa.io article mentioned above. Apply the convolution to our padded image."
      ]
    },
    {
      "cell_type": "code",
      "metadata": {
        "id": "pQWS7WEC_-I-"
      },
      "source": [
        "sharpen = da.from_array(np.array([[0,-1,0],\r\n",
        "                    [-1,5,-1],\r\n",
        "                    [0,-1,0]]),\r\n",
        "                    chunks=(3,3))\r\n",
        "\r\n"
      ],
      "execution_count": 63,
      "outputs": []
    },
    {
      "cell_type": "code",
      "metadata": {
        "id": "KN2NOAuK_o3J"
      },
      "source": [
        "#sharpened_image = convolve(padd,sharpen).compute()"
      ],
      "execution_count": 66,
      "outputs": []
    },
    {
      "cell_type": "code",
      "metadata": {
        "id": "CnBEnG8HDnLo"
      },
      "source": [
        ""
      ],
      "execution_count": null,
      "outputs": []
    }
  ]
}