{
  "nbformat": 4,
  "nbformat_minor": 0,
  "metadata": {
    "kernelspec": {
      "display_name": "Python 3",
      "language": "python",
      "name": "python3"
    },
    "language_info": {
      "codemirror_mode": {
        "name": "ipython",
        "version": 3
      },
      "file_extension": ".py",
      "mimetype": "text/x-python",
      "name": "python",
      "nbconvert_exporter": "python",
      "pygments_lexer": "ipython3",
      "version": "3.7.0"
    },
    "colab": {
      "name": "Angel_D82_L1.ipynb",
      "provenance": [],
      "collapsed_sections": []
    }
  },
  "cells": [
    {
      "cell_type": "markdown",
      "metadata": {
        "id": "4SinAo2WyDyn"
      },
      "source": [
        "## Day 77 Lecture 1 Assignment\n",
        "\n",
        "In this assignment, we will learn about convolutions using Dask arrays."
      ]
    },
    {
      "cell_type": "code",
      "metadata": {
        "colab": {
          "base_uri": "https://localhost:8080/"
        },
        "id": "pyu_6XFJR153",
        "outputId": "1ba9c7e8-0544-45ac-930b-c8a4ba80497f"
      },
      "source": [
        "from google.colab import drive\n",
        "drive.mount('/content/drive')"
      ],
      "execution_count": 13,
      "outputs": [
        {
          "output_type": "stream",
          "text": [
            "Mounted at /content/drive\n"
          ],
          "name": "stdout"
        }
      ]
    },
    {
      "cell_type": "code",
      "metadata": {
        "id": "VE7GRzTVyDyp"
      },
      "source": [
        "import dask.array as da"
      ],
      "execution_count": 1,
      "outputs": []
    },
    {
      "cell_type": "code",
      "metadata": {
        "id": "ThA5b69CyDyr"
      },
      "source": [
        "import os\n",
        "import random\n",
        "\n",
        "import cv2\n",
        "import numpy as np\n",
        "import pandas as pd"
      ],
      "execution_count": 2,
      "outputs": []
    },
    {
      "cell_type": "code",
      "metadata": {
        "id": "fhzVELhwyDys"
      },
      "source": [
        "image = cv2.imread(r'/content/drive/MyDrive/6-facial-recognition-hero.jpg', cv2.IMREAD_GRAYSCALE)"
      ],
      "execution_count": 14,
      "outputs": []
    },
    {
      "cell_type": "code",
      "metadata": {
        "id": "40r7JCYKyDyu",
        "colab": {
          "base_uri": "https://localhost:8080/"
        },
        "outputId": "4ebec443-27f1-4078-fd26-b35f40036a21"
      },
      "source": [
        "image.shape"
      ],
      "execution_count": 15,
      "outputs": [
        {
          "output_type": "execute_result",
          "data": {
            "text/plain": [
              "(1360, 2040)"
            ]
          },
          "metadata": {
            "tags": []
          },
          "execution_count": 15
        }
      ]
    },
    {
      "cell_type": "code",
      "metadata": {
        "id": "DTfLP8KuyDyw"
      },
      "source": [
        "image_da = da.asarray(image)"
      ],
      "execution_count": 16,
      "outputs": []
    },
    {
      "cell_type": "markdown",
      "metadata": {
        "id": "c40Z8fKTyDyy"
      },
      "source": [
        "Rechunk the image array into chunks of 100x100."
      ]
    },
    {
      "cell_type": "code",
      "metadata": {
        "id": "WWgtcGMdQyql"
      },
      "source": [
        "from google.colab.patches import cv2_imshow"
      ],
      "execution_count": 36,
      "outputs": []
    },
    {
      "cell_type": "code",
      "metadata": {
        "id": "F2Lun829yDyy"
      },
      "source": [
        "# Answer below\n",
        "image_da = da.rechunk(image_da, chunks=(100,100))"
      ],
      "execution_count": 18,
      "outputs": []
    },
    {
      "cell_type": "code",
      "metadata": {
        "colab": {
          "base_uri": "https://localhost:8080/",
          "height": 157
        },
        "id": "tyXatcvLUgi9",
        "outputId": "23cb8254-dcb5-4ece-ff5d-28cf38761ece"
      },
      "source": [
        "image_da"
      ],
      "execution_count": 24,
      "outputs": [
        {
          "output_type": "execute_result",
          "data": {
            "text/html": [
              "<table>\n",
              "<tr>\n",
              "<td>\n",
              "<table>\n",
              "  <thead>\n",
              "    <tr><td> </td><th> Array </th><th> Chunk </th></tr>\n",
              "  </thead>\n",
              "  <tbody>\n",
              "    <tr><th> Bytes </th><td> 2.77 MB </td> <td> 10.00 kB </td></tr>\n",
              "    <tr><th> Shape </th><td> (1360, 2040) </td> <td> (100, 100) </td></tr>\n",
              "    <tr><th> Count </th><td> 589 Tasks </td><td> 294 Chunks </td></tr>\n",
              "    <tr><th> Type </th><td> uint8 </td><td> numpy.ndarray </td></tr>\n",
              "  </tbody>\n",
              "</table>\n",
              "</td>\n",
              "<td>\n",
              "<svg width=\"170\" height=\"130\" style=\"stroke:rgb(0,0,0);stroke-width:1\" >\n",
              "\n",
              "  <!-- Horizontal lines -->\n",
              "  <line x1=\"0\" y1=\"0\" x2=\"120\" y2=\"0\" style=\"stroke-width:2\" />\n",
              "  <line x1=\"0\" y1=\"5\" x2=\"120\" y2=\"5\" />\n",
              "  <line x1=\"0\" y1=\"11\" x2=\"120\" y2=\"11\" />\n",
              "  <line x1=\"0\" y1=\"17\" x2=\"120\" y2=\"17\" />\n",
              "  <line x1=\"0\" y1=\"23\" x2=\"120\" y2=\"23\" />\n",
              "  <line x1=\"0\" y1=\"29\" x2=\"120\" y2=\"29\" />\n",
              "  <line x1=\"0\" y1=\"35\" x2=\"120\" y2=\"35\" />\n",
              "  <line x1=\"0\" y1=\"41\" x2=\"120\" y2=\"41\" />\n",
              "  <line x1=\"0\" y1=\"47\" x2=\"120\" y2=\"47\" />\n",
              "  <line x1=\"0\" y1=\"52\" x2=\"120\" y2=\"52\" />\n",
              "  <line x1=\"0\" y1=\"58\" x2=\"120\" y2=\"58\" />\n",
              "  <line x1=\"0\" y1=\"64\" x2=\"120\" y2=\"64\" />\n",
              "  <line x1=\"0\" y1=\"70\" x2=\"120\" y2=\"70\" />\n",
              "  <line x1=\"0\" y1=\"76\" x2=\"120\" y2=\"76\" />\n",
              "  <line x1=\"0\" y1=\"80\" x2=\"120\" y2=\"80\" style=\"stroke-width:2\" />\n",
              "\n",
              "  <!-- Vertical lines -->\n",
              "  <line x1=\"0\" y1=\"0\" x2=\"0\" y2=\"80\" style=\"stroke-width:2\" />\n",
              "  <line x1=\"5\" y1=\"0\" x2=\"5\" y2=\"80\" />\n",
              "  <line x1=\"11\" y1=\"0\" x2=\"11\" y2=\"80\" />\n",
              "  <line x1=\"17\" y1=\"0\" x2=\"17\" y2=\"80\" />\n",
              "  <line x1=\"23\" y1=\"0\" x2=\"23\" y2=\"80\" />\n",
              "  <line x1=\"29\" y1=\"0\" x2=\"29\" y2=\"80\" />\n",
              "  <line x1=\"35\" y1=\"0\" x2=\"35\" y2=\"80\" />\n",
              "  <line x1=\"41\" y1=\"0\" x2=\"41\" y2=\"80\" />\n",
              "  <line x1=\"47\" y1=\"0\" x2=\"47\" y2=\"80\" />\n",
              "  <line x1=\"52\" y1=\"0\" x2=\"52\" y2=\"80\" />\n",
              "  <line x1=\"58\" y1=\"0\" x2=\"58\" y2=\"80\" />\n",
              "  <line x1=\"64\" y1=\"0\" x2=\"64\" y2=\"80\" />\n",
              "  <line x1=\"70\" y1=\"0\" x2=\"70\" y2=\"80\" />\n",
              "  <line x1=\"76\" y1=\"0\" x2=\"76\" y2=\"80\" />\n",
              "  <line x1=\"82\" y1=\"0\" x2=\"82\" y2=\"80\" />\n",
              "  <line x1=\"88\" y1=\"0\" x2=\"88\" y2=\"80\" />\n",
              "  <line x1=\"94\" y1=\"0\" x2=\"94\" y2=\"80\" />\n",
              "  <line x1=\"100\" y1=\"0\" x2=\"100\" y2=\"80\" />\n",
              "  <line x1=\"105\" y1=\"0\" x2=\"105\" y2=\"80\" />\n",
              "  <line x1=\"111\" y1=\"0\" x2=\"111\" y2=\"80\" />\n",
              "  <line x1=\"117\" y1=\"0\" x2=\"117\" y2=\"80\" />\n",
              "  <line x1=\"120\" y1=\"0\" x2=\"120\" y2=\"80\" style=\"stroke-width:2\" />\n",
              "\n",
              "  <!-- Colored Rectangle -->\n",
              "  <polygon points=\"0.000000,0.000000 120.000000,0.000000 120.000000,80.000000 0.000000,80.000000\" style=\"fill:#ECB172A0;stroke-width:0\"/>\n",
              "\n",
              "  <!-- Text -->\n",
              "  <text x=\"60.000000\" y=\"100.000000\" font-size=\"1.0rem\" font-weight=\"100\" text-anchor=\"middle\" >2040</text>\n",
              "  <text x=\"140.000000\" y=\"40.000000\" font-size=\"1.0rem\" font-weight=\"100\" text-anchor=\"middle\" transform=\"rotate(-90,140.000000,40.000000)\">1360</text>\n",
              "</svg>\n",
              "</td>\n",
              "</tr>\n",
              "</table>"
            ],
            "text/plain": [
              "dask.array<rechunk-merge, shape=(1360, 2040), dtype=uint8, chunksize=(100, 100), chunktype=numpy.ndarray>"
            ]
          },
          "metadata": {
            "tags": []
          },
          "execution_count": 24
        }
      ]
    },
    {
      "cell_type": "markdown",
      "metadata": {
        "id": "H87FiMehyDy0"
      },
      "source": [
        "In the code above, we read an image of a face and converted it into a Dask array. We will use this array to learn about convolutions. You can learn more about convolutions <a href=\"http://setosa.io/ev/image-kernels/\">here</a>.\n",
        "\n",
        "Convolutions are transformations of matrices that help us create convolutional neural network (which are crucial in deep learning) or apply effects to images like blurring or sharpening.\n",
        "\n",
        "Our kernel is a 3x3 matrix which we apply to every 3x3 subset of our image matrix.\n",
        "\n",
        "To start with our transformation, zero pad the image matrix with a width of one. This means that our output will be a matrix with an additional row and additional column of zeros on both sides. The image below illustrates padding. Use the pad function \n",
        "<img src=\"https://www.researchgate.net/profile/Terje_Midtbo/publication/318967374/figure/fig4/AS:669210783002634@1536563692382/Visualization-of-a-matrix-that-is-zero-padded-with-one-border.png\">"
      ]
    },
    {
      "cell_type": "code",
      "metadata": {
        "id": "t_kCLXYKWUNK"
      },
      "source": [
        "padded_image_da = np.pad(image_da, 1, mode='constant')"
      ],
      "execution_count": 22,
      "outputs": []
    },
    {
      "cell_type": "code",
      "metadata": {
        "colab": {
          "base_uri": "https://localhost:8080/"
        },
        "id": "3dWMl74IW4QV",
        "outputId": "98e1255e-6d7c-4540-d9ab-725a197e7ee5"
      },
      "source": [
        "padded_image_da.compute()"
      ],
      "execution_count": 25,
      "outputs": [
        {
          "output_type": "execute_result",
          "data": {
            "text/plain": [
              "array([[  0,   0,   0, ...,   0,   0,   0],\n",
              "       [  0, 163, 163, ..., 163, 163,   0],\n",
              "       [  0, 163, 163, ..., 163, 163,   0],\n",
              "       ...,\n",
              "       [  0, 163, 163, ..., 163, 163,   0],\n",
              "       [  0, 163, 163, ..., 163, 163,   0],\n",
              "       [  0,   0,   0, ...,   0,   0,   0]], dtype=uint8)"
            ]
          },
          "metadata": {
            "tags": []
          },
          "execution_count": 25
        }
      ]
    },
    {
      "cell_type": "markdown",
      "metadata": {
        "id": "nbpYWN71yDy1"
      },
      "source": [
        "What is the shape of our padded array?"
      ]
    },
    {
      "cell_type": "code",
      "metadata": {
        "id": "4oR8I3j5yDy2",
        "colab": {
          "base_uri": "https://localhost:8080/"
        },
        "outputId": "009e933a-9eee-4c4c-b63f-f701f929cc23"
      },
      "source": [
        "# Answer below:\n",
        "padded_image_da.shape\n"
      ],
      "execution_count": 26,
      "outputs": [
        {
          "output_type": "execute_result",
          "data": {
            "text/plain": [
              "(1362, 2042)"
            ]
          },
          "metadata": {
            "tags": []
          },
          "execution_count": 26
        }
      ]
    },
    {
      "cell_type": "markdown",
      "metadata": {
        "id": "lVtIgP0lyDy3"
      },
      "source": [
        "To apply a convolution, we will install the `dask-image` package. Do this below."
      ]
    },
    {
      "cell_type": "code",
      "metadata": {
        "id": "Fsa_jfD6yDy4",
        "colab": {
          "base_uri": "https://localhost:8080/"
        },
        "outputId": "10dc470d-58e3-421e-b4e3-0f556f4fc027"
      },
      "source": [
        "# Answer below:\n",
        "!pip install dask-image --quiet"
      ],
      "execution_count": 27,
      "outputs": [
        {
          "output_type": "stream",
          "text": [
            "\u001b[K     |████████████████████████████████| 71kB 3.5MB/s \n",
            "\u001b[K     |████████████████████████████████| 92kB 4.4MB/s \n",
            "\u001b[?25h  Building wheel for dask-image (setup.py) ... \u001b[?25l\u001b[?25hdone\n",
            "  Building wheel for pims (setup.py) ... \u001b[?25l\u001b[?25hdone\n"
          ],
          "name": "stdout"
        }
      ]
    },
    {
      "cell_type": "markdown",
      "metadata": {
        "id": "aripyIE_yDy5"
      },
      "source": [
        "Import the convolve function from the package"
      ]
    },
    {
      "cell_type": "code",
      "metadata": {
        "id": "p6ttwClYyDy6"
      },
      "source": [
        "# Answer below:\n",
        "from dask_image.ndfilters import convolve"
      ],
      "execution_count": 29,
      "outputs": []
    },
    {
      "cell_type": "markdown",
      "metadata": {
        "id": "U1Cwb1xDyDy7"
      },
      "source": [
        "Define the sharpen convolution from the setosa.io article mentioned above. Apply the convolution to our padded image."
      ]
    },
    {
      "cell_type": "code",
      "metadata": {
        "id": "3c1362t3bJiQ"
      },
      "source": [
        "sharp = np.array([[0, -1, 0], [-1, 5, -1], [0, -1, 0]])"
      ],
      "execution_count": 31,
      "outputs": []
    },
    {
      "cell_type": "code",
      "metadata": {
        "colab": {
          "base_uri": "https://localhost:8080/"
        },
        "id": "n7CghZadb-Hl",
        "outputId": "877579c9-3af9-4ad1-9ac5-898380e05ea4"
      },
      "source": [
        "sharp"
      ],
      "execution_count": 32,
      "outputs": [
        {
          "output_type": "execute_result",
          "data": {
            "text/plain": [
              "array([[ 0, -1,  0],\n",
              "       [-1,  5, -1],\n",
              "       [ 0, -1,  0]])"
            ]
          },
          "metadata": {
            "tags": []
          },
          "execution_count": 32
        }
      ]
    },
    {
      "cell_type": "code",
      "metadata": {
        "id": "sr6CRCRcyDy8"
      },
      "source": [
        "# Answer below:\n",
        "padded_sharpened = convolve(padded_image_da, sharp)"
      ],
      "execution_count": 33,
      "outputs": []
    },
    {
      "cell_type": "code",
      "metadata": {
        "id": "iP_ywbR3yDy9",
        "colab": {
          "base_uri": "https://localhost:8080/",
          "height": 157
        },
        "outputId": "1cc0409b-89c7-4e78-f25b-5108603a1bc4"
      },
      "source": [
        "padded_sharpened"
      ],
      "execution_count": 34,
      "outputs": [
        {
          "output_type": "execute_result",
          "data": {
            "text/html": [
              "<table>\n",
              "<tr>\n",
              "<td>\n",
              "<table>\n",
              "  <thead>\n",
              "    <tr><td> </td><th> Array </th><th> Chunk </th></tr>\n",
              "  </thead>\n",
              "  <tbody>\n",
              "    <tr><th> Bytes </th><td> 2.78 MB </td> <td> 10.00 kB </td></tr>\n",
              "    <tr><th> Shape </th><td> (1362, 2042) </td> <td> (100, 100) </td></tr>\n",
              "    <tr><th> Count </th><td> 5886 Tasks </td><td> 368 Chunks </td></tr>\n",
              "    <tr><th> Type </th><td> uint8 </td><td> numpy.ndarray </td></tr>\n",
              "  </tbody>\n",
              "</table>\n",
              "</td>\n",
              "<td>\n",
              "<svg width=\"170\" height=\"130\" style=\"stroke:rgb(0,0,0);stroke-width:1\" >\n",
              "\n",
              "  <!-- Horizontal lines -->\n",
              "  <line x1=\"0\" y1=\"0\" x2=\"120\" y2=\"0\" style=\"stroke-width:2\" />\n",
              "  <line x1=\"0\" y1=\"0\" x2=\"120\" y2=\"0\" />\n",
              "  <line x1=\"0\" y1=\"5\" x2=\"120\" y2=\"5\" />\n",
              "  <line x1=\"0\" y1=\"11\" x2=\"120\" y2=\"11\" />\n",
              "  <line x1=\"0\" y1=\"17\" x2=\"120\" y2=\"17\" />\n",
              "  <line x1=\"0\" y1=\"23\" x2=\"120\" y2=\"23\" />\n",
              "  <line x1=\"0\" y1=\"29\" x2=\"120\" y2=\"29\" />\n",
              "  <line x1=\"0\" y1=\"35\" x2=\"120\" y2=\"35\" />\n",
              "  <line x1=\"0\" y1=\"41\" x2=\"120\" y2=\"41\" />\n",
              "  <line x1=\"0\" y1=\"47\" x2=\"120\" y2=\"47\" />\n",
              "  <line x1=\"0\" y1=\"52\" x2=\"120\" y2=\"52\" />\n",
              "  <line x1=\"0\" y1=\"58\" x2=\"120\" y2=\"58\" />\n",
              "  <line x1=\"0\" y1=\"64\" x2=\"120\" y2=\"64\" />\n",
              "  <line x1=\"0\" y1=\"70\" x2=\"120\" y2=\"70\" />\n",
              "  <line x1=\"0\" y1=\"76\" x2=\"120\" y2=\"76\" />\n",
              "  <line x1=\"0\" y1=\"79\" x2=\"120\" y2=\"79\" />\n",
              "  <line x1=\"0\" y1=\"80\" x2=\"120\" y2=\"80\" style=\"stroke-width:2\" />\n",
              "\n",
              "  <!-- Vertical lines -->\n",
              "  <line x1=\"0\" y1=\"0\" x2=\"0\" y2=\"80\" style=\"stroke-width:2\" />\n",
              "  <line x1=\"0\" y1=\"0\" x2=\"0\" y2=\"80\" />\n",
              "  <line x1=\"5\" y1=\"0\" x2=\"5\" y2=\"80\" />\n",
              "  <line x1=\"11\" y1=\"0\" x2=\"11\" y2=\"80\" />\n",
              "  <line x1=\"17\" y1=\"0\" x2=\"17\" y2=\"80\" />\n",
              "  <line x1=\"23\" y1=\"0\" x2=\"23\" y2=\"80\" />\n",
              "  <line x1=\"29\" y1=\"0\" x2=\"29\" y2=\"80\" />\n",
              "  <line x1=\"35\" y1=\"0\" x2=\"35\" y2=\"80\" />\n",
              "  <line x1=\"41\" y1=\"0\" x2=\"41\" y2=\"80\" />\n",
              "  <line x1=\"47\" y1=\"0\" x2=\"47\" y2=\"80\" />\n",
              "  <line x1=\"52\" y1=\"0\" x2=\"52\" y2=\"80\" />\n",
              "  <line x1=\"58\" y1=\"0\" x2=\"58\" y2=\"80\" />\n",
              "  <line x1=\"64\" y1=\"0\" x2=\"64\" y2=\"80\" />\n",
              "  <line x1=\"70\" y1=\"0\" x2=\"70\" y2=\"80\" />\n",
              "  <line x1=\"76\" y1=\"0\" x2=\"76\" y2=\"80\" />\n",
              "  <line x1=\"82\" y1=\"0\" x2=\"82\" y2=\"80\" />\n",
              "  <line x1=\"88\" y1=\"0\" x2=\"88\" y2=\"80\" />\n",
              "  <line x1=\"94\" y1=\"0\" x2=\"94\" y2=\"80\" />\n",
              "  <line x1=\"99\" y1=\"0\" x2=\"99\" y2=\"80\" />\n",
              "  <line x1=\"105\" y1=\"0\" x2=\"105\" y2=\"80\" />\n",
              "  <line x1=\"111\" y1=\"0\" x2=\"111\" y2=\"80\" />\n",
              "  <line x1=\"117\" y1=\"0\" x2=\"117\" y2=\"80\" />\n",
              "  <line x1=\"119\" y1=\"0\" x2=\"119\" y2=\"80\" />\n",
              "  <line x1=\"120\" y1=\"0\" x2=\"120\" y2=\"80\" style=\"stroke-width:2\" />\n",
              "\n",
              "  <!-- Colored Rectangle -->\n",
              "  <polygon points=\"0.000000,0.000000 120.000000,0.000000 120.000000,80.039177 0.000000,80.039177\" style=\"fill:#ECB172A0;stroke-width:0\"/>\n",
              "\n",
              "  <!-- Text -->\n",
              "  <text x=\"60.000000\" y=\"100.039177\" font-size=\"1.0rem\" font-weight=\"100\" text-anchor=\"middle\" >2042</text>\n",
              "  <text x=\"140.000000\" y=\"40.019589\" font-size=\"1.0rem\" font-weight=\"100\" text-anchor=\"middle\" transform=\"rotate(-90,140.000000,40.019589)\">1362</text>\n",
              "</svg>\n",
              "</td>\n",
              "</tr>\n",
              "</table>"
            ],
            "text/plain": [
              "dask.array<_trim, shape=(1362, 2042), dtype=uint8, chunksize=(100, 100), chunktype=numpy.ndarray>"
            ]
          },
          "metadata": {
            "tags": []
          },
          "execution_count": 34
        }
      ]
    },
    {
      "cell_type": "code",
      "metadata": {
        "id": "7bhqBqyGcX50"
      },
      "source": [
        ""
      ],
      "execution_count": null,
      "outputs": []
    }
  ]
}