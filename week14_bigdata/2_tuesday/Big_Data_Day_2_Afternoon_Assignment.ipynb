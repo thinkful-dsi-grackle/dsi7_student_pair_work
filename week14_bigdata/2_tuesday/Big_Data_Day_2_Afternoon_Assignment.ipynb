{
  "nbformat": 4,
  "nbformat_minor": 0,
  "metadata": {
    "kernelspec": {
      "display_name": "Python 3",
      "language": "python",
      "name": "python3"
    },
    "language_info": {
      "codemirror_mode": {
        "name": "ipython",
        "version": 3
      },
      "file_extension": ".py",
      "mimetype": "text/x-python",
      "name": "python",
      "nbconvert_exporter": "python",
      "pygments_lexer": "ipython3",
      "version": "3.8.3-final"
    },
    "colab": {
      "name": "Big Data Day 2 Afternoon Assignment.ipynb",
      "provenance": [],
      "collapsed_sections": [],
      "toc_visible": true
    }
  },
  "cells": [
    {
      "cell_type": "markdown",
      "metadata": {
        "id": "JKUwQ_MlyE9A"
      },
      "source": [
        "## Big Data Day 2 Afternoon Assignment\n",
        "\n",
        "In this assignment, we will learn about machine learning with Dask. We will use the market basket dataset loaded below and cluster our data."
      ]
    },
    {
      "cell_type": "code",
      "metadata": {
        "id": "xEBmIYCG7lGF"
      },
      "source": [
        "!pip install distributed>=2.4.0 --quiet\n",
        "!pip install \"dask[complete]\" -U --quiet\n",
        "!pip install -U ipykernel --quiet\n",
        "!pip install dask-ml -U --quiet"
      ],
      "execution_count": 1,
      "outputs": []
    },
    {
      "cell_type": "code",
      "metadata": {
        "id": "rKbrI6l7yE9B"
      },
      "source": [
        "import dask.dataframe as dd\n",
        "import numpy as np\n",
        "import pandas as pd"
      ],
      "execution_count": 2,
      "outputs": []
    },
    {
      "cell_type": "code",
      "metadata": {
        "id": "mKCElNPDyE9D"
      },
      "source": [
        "market_basket = dd.read_csv('./Mall_Customers.csv')"
      ],
      "execution_count": 9,
      "outputs": []
    },
    {
      "cell_type": "code",
      "metadata": {
        "id": "2foxXYxuyE9F",
        "colab": {
          "base_uri": "https://localhost:8080/",
          "height": 198
        },
        "outputId": "fba7c42b-e586-4807-efde-802d8cd1e856"
      },
      "source": [
        "market_basket.head()"
      ],
      "execution_count": 10,
      "outputs": [
        {
          "output_type": "execute_result",
          "data": {
            "text/plain": [
              "   CustomerID  Gender  Age  Annual Income (k$)  Spending Score (1-100)\n",
              "0           1    Male   19                  15                      39\n",
              "1           2    Male   21                  15                      81\n",
              "2           3  Female   20                  16                       6\n",
              "3           4  Female   23                  16                      77\n",
              "4           5  Female   31                  17                      40"
            ],
            "text/html": "<div>\n<style scoped>\n    .dataframe tbody tr th:only-of-type {\n        vertical-align: middle;\n    }\n\n    .dataframe tbody tr th {\n        vertical-align: top;\n    }\n\n    .dataframe thead th {\n        text-align: right;\n    }\n</style>\n<table border=\"1\" class=\"dataframe\">\n  <thead>\n    <tr style=\"text-align: right;\">\n      <th></th>\n      <th>CustomerID</th>\n      <th>Gender</th>\n      <th>Age</th>\n      <th>Annual Income (k$)</th>\n      <th>Spending Score (1-100)</th>\n    </tr>\n  </thead>\n  <tbody>\n    <tr>\n      <th>0</th>\n      <td>1</td>\n      <td>Male</td>\n      <td>19</td>\n      <td>15</td>\n      <td>39</td>\n    </tr>\n    <tr>\n      <th>1</th>\n      <td>2</td>\n      <td>Male</td>\n      <td>21</td>\n      <td>15</td>\n      <td>81</td>\n    </tr>\n    <tr>\n      <th>2</th>\n      <td>3</td>\n      <td>Female</td>\n      <td>20</td>\n      <td>16</td>\n      <td>6</td>\n    </tr>\n    <tr>\n      <th>3</th>\n      <td>4</td>\n      <td>Female</td>\n      <td>23</td>\n      <td>16</td>\n      <td>77</td>\n    </tr>\n    <tr>\n      <th>4</th>\n      <td>5</td>\n      <td>Female</td>\n      <td>31</td>\n      <td>17</td>\n      <td>40</td>\n    </tr>\n  </tbody>\n</table>\n</div>"
          },
          "metadata": {},
          "execution_count": 10
        }
      ]
    },
    {
      "cell_type": "markdown",
      "metadata": {
        "id": "Ko8ne0NcyE9H"
      },
      "source": [
        "To cluster our data, we must first examine and process it. The first step is to check for missing data. Do this in the cell below. If there is missing data, drop all rows containing missing data."
      ]
    },
    {
      "cell_type": "code",
      "metadata": {
        "id": "1UzH1o6LyE9H",
        "colab": {
          "base_uri": "https://localhost:8080/"
        },
        "outputId": "651f0070-a641-4ed1-9d77-e4f361b9b058"
      },
      "source": [
        "market_basket.isna().mean().compute()"
      ],
      "execution_count": 11,
      "outputs": [
        {
          "output_type": "execute_result",
          "data": {
            "text/plain": [
              "CustomerID                0.0\n",
              "Gender                    0.0\n",
              "Age                       0.0\n",
              "Annual Income (k$)        0.0\n",
              "Spending Score (1-100)    0.0\n",
              "dtype: float64"
            ]
          },
          "metadata": {},
          "execution_count": 11
        }
      ]
    },
    {
      "cell_type": "markdown",
      "metadata": {
        "id": "0f1BvUkRyE9J"
      },
      "source": [
        "Next, we will get rid of the customer ID column. Drop the column and assign the resulting dataframe to a new variable."
      ]
    },
    {
      "cell_type": "code",
      "metadata": {
        "id": "-8NaKss0yE9J"
      },
      "source": [
        "market_basket = market_basket.drop(columns=['CustomerID'])"
      ],
      "execution_count": 12,
      "outputs": []
    },
    {
      "cell_type": "markdown",
      "metadata": {
        "id": "SjamCsXVyE9L"
      },
      "source": [
        "We will now create a dummy variable from the gender variable."
      ]
    },
    {
      "cell_type": "code",
      "metadata": {
        "id": "MSk2PGFhyE9L"
      },
      "source": [
        "dummified = dd.get_dummies(market_basket.categorize()).compute()"
      ],
      "execution_count": 13,
      "outputs": []
    },
    {
      "cell_type": "code",
      "metadata": {
        "colab": {
          "base_uri": "https://localhost:8080/",
          "height": 407
        },
        "id": "yTYP1JPpqnBb",
        "outputId": "fc3a6e63-53f3-481a-d0fe-92ecc92ad2bd"
      },
      "source": [
        "dummified"
      ],
      "execution_count": 14,
      "outputs": [
        {
          "output_type": "execute_result",
          "data": {
            "text/plain": [
              "     Age  Annual Income (k$)  Spending Score (1-100)  Gender_Male  \\\n",
              "0     19                  15                      39            1   \n",
              "1     21                  15                      81            1   \n",
              "2     20                  16                       6            0   \n",
              "3     23                  16                      77            0   \n",
              "4     31                  17                      40            0   \n",
              "..   ...                 ...                     ...          ...   \n",
              "195   35                 120                      79            0   \n",
              "196   45                 126                      28            0   \n",
              "197   32                 126                      74            1   \n",
              "198   32                 137                      18            1   \n",
              "199   30                 137                      83            1   \n",
              "\n",
              "     Gender_Female  \n",
              "0                0  \n",
              "1                0  \n",
              "2                1  \n",
              "3                1  \n",
              "4                1  \n",
              "..             ...  \n",
              "195              1  \n",
              "196              1  \n",
              "197              0  \n",
              "198              0  \n",
              "199              0  \n",
              "\n",
              "[200 rows x 5 columns]"
            ],
            "text/html": "<div>\n<style scoped>\n    .dataframe tbody tr th:only-of-type {\n        vertical-align: middle;\n    }\n\n    .dataframe tbody tr th {\n        vertical-align: top;\n    }\n\n    .dataframe thead th {\n        text-align: right;\n    }\n</style>\n<table border=\"1\" class=\"dataframe\">\n  <thead>\n    <tr style=\"text-align: right;\">\n      <th></th>\n      <th>Age</th>\n      <th>Annual Income (k$)</th>\n      <th>Spending Score (1-100)</th>\n      <th>Gender_Male</th>\n      <th>Gender_Female</th>\n    </tr>\n  </thead>\n  <tbody>\n    <tr>\n      <th>0</th>\n      <td>19</td>\n      <td>15</td>\n      <td>39</td>\n      <td>1</td>\n      <td>0</td>\n    </tr>\n    <tr>\n      <th>1</th>\n      <td>21</td>\n      <td>15</td>\n      <td>81</td>\n      <td>1</td>\n      <td>0</td>\n    </tr>\n    <tr>\n      <th>2</th>\n      <td>20</td>\n      <td>16</td>\n      <td>6</td>\n      <td>0</td>\n      <td>1</td>\n    </tr>\n    <tr>\n      <th>3</th>\n      <td>23</td>\n      <td>16</td>\n      <td>77</td>\n      <td>0</td>\n      <td>1</td>\n    </tr>\n    <tr>\n      <th>4</th>\n      <td>31</td>\n      <td>17</td>\n      <td>40</td>\n      <td>0</td>\n      <td>1</td>\n    </tr>\n    <tr>\n      <th>...</th>\n      <td>...</td>\n      <td>...</td>\n      <td>...</td>\n      <td>...</td>\n      <td>...</td>\n    </tr>\n    <tr>\n      <th>195</th>\n      <td>35</td>\n      <td>120</td>\n      <td>79</td>\n      <td>0</td>\n      <td>1</td>\n    </tr>\n    <tr>\n      <th>196</th>\n      <td>45</td>\n      <td>126</td>\n      <td>28</td>\n      <td>0</td>\n      <td>1</td>\n    </tr>\n    <tr>\n      <th>197</th>\n      <td>32</td>\n      <td>126</td>\n      <td>74</td>\n      <td>1</td>\n      <td>0</td>\n    </tr>\n    <tr>\n      <th>198</th>\n      <td>32</td>\n      <td>137</td>\n      <td>18</td>\n      <td>1</td>\n      <td>0</td>\n    </tr>\n    <tr>\n      <th>199</th>\n      <td>30</td>\n      <td>137</td>\n      <td>83</td>\n      <td>1</td>\n      <td>0</td>\n    </tr>\n  </tbody>\n</table>\n<p>200 rows × 5 columns</p>\n</div>"
          },
          "metadata": {},
          "execution_count": 14
        }
      ]
    },
    {
      "cell_type": "markdown",
      "metadata": {
        "id": "hbu-3kJbyE9M"
      },
      "source": [
        "Since the data has different scales, we will scale all columns using min max scaling. We will write our own min max scaling function since the minmax scaler will produce numpy arrays instead of dask arrays. Recall that min max scaling requires finding the min and the max. We subtract the min from each observation and divide by the difference between the max and the min. Complete the function below."
      ]
    },
    {
      "cell_type": "code",
      "metadata": {
        "id": "Hj4oc4iuyE9N"
      },
      "source": [
        "def dask_min_max(x):\n",
        "    #Input: dask column\n",
        "    min_array = x.min(axis=0)\n",
        "    max_array = x.max(axis=0)\n",
        "    scaled = (x - min_array) / (max_array - min_array)\n",
        "    #Output: dask column that has been min max scaled\n",
        "    return scaled"
      ],
      "execution_count": 15,
      "outputs": []
    },
    {
      "cell_type": "markdown",
      "metadata": {
        "id": "Stl1SJEyyE9O"
      },
      "source": [
        "Transform all columns using the scaler you wrote above."
      ]
    },
    {
      "cell_type": "code",
      "metadata": {
        "id": "JxhFlvRKyE9P",
        "colab": {
          "base_uri": "https://localhost:8080/",
          "height": 407
        },
        "outputId": "55849925-7dc4-45b5-fe2f-b0a006d4a076"
      },
      "source": [
        "scl = dask_min_max(dummified)\n",
        "scl"
      ],
      "execution_count": 16,
      "outputs": [
        {
          "output_type": "execute_result",
          "data": {
            "text/plain": [
              "          Age  Annual Income (k$)  Spending Score (1-100)  Gender_Male  \\\n",
              "0    0.019231            0.000000                0.387755          1.0   \n",
              "1    0.057692            0.000000                0.816327          1.0   \n",
              "2    0.038462            0.008197                0.051020          0.0   \n",
              "3    0.096154            0.008197                0.775510          0.0   \n",
              "4    0.250000            0.016393                0.397959          0.0   \n",
              "..        ...                 ...                     ...          ...   \n",
              "195  0.326923            0.860656                0.795918          0.0   \n",
              "196  0.519231            0.909836                0.275510          0.0   \n",
              "197  0.269231            0.909836                0.744898          1.0   \n",
              "198  0.269231            1.000000                0.173469          1.0   \n",
              "199  0.230769            1.000000                0.836735          1.0   \n",
              "\n",
              "     Gender_Female  \n",
              "0              0.0  \n",
              "1              0.0  \n",
              "2              1.0  \n",
              "3              1.0  \n",
              "4              1.0  \n",
              "..             ...  \n",
              "195            1.0  \n",
              "196            1.0  \n",
              "197            0.0  \n",
              "198            0.0  \n",
              "199            0.0  \n",
              "\n",
              "[200 rows x 5 columns]"
            ],
            "text/html": "<div>\n<style scoped>\n    .dataframe tbody tr th:only-of-type {\n        vertical-align: middle;\n    }\n\n    .dataframe tbody tr th {\n        vertical-align: top;\n    }\n\n    .dataframe thead th {\n        text-align: right;\n    }\n</style>\n<table border=\"1\" class=\"dataframe\">\n  <thead>\n    <tr style=\"text-align: right;\">\n      <th></th>\n      <th>Age</th>\n      <th>Annual Income (k$)</th>\n      <th>Spending Score (1-100)</th>\n      <th>Gender_Male</th>\n      <th>Gender_Female</th>\n    </tr>\n  </thead>\n  <tbody>\n    <tr>\n      <th>0</th>\n      <td>0.019231</td>\n      <td>0.000000</td>\n      <td>0.387755</td>\n      <td>1.0</td>\n      <td>0.0</td>\n    </tr>\n    <tr>\n      <th>1</th>\n      <td>0.057692</td>\n      <td>0.000000</td>\n      <td>0.816327</td>\n      <td>1.0</td>\n      <td>0.0</td>\n    </tr>\n    <tr>\n      <th>2</th>\n      <td>0.038462</td>\n      <td>0.008197</td>\n      <td>0.051020</td>\n      <td>0.0</td>\n      <td>1.0</td>\n    </tr>\n    <tr>\n      <th>3</th>\n      <td>0.096154</td>\n      <td>0.008197</td>\n      <td>0.775510</td>\n      <td>0.0</td>\n      <td>1.0</td>\n    </tr>\n    <tr>\n      <th>4</th>\n      <td>0.250000</td>\n      <td>0.016393</td>\n      <td>0.397959</td>\n      <td>0.0</td>\n      <td>1.0</td>\n    </tr>\n    <tr>\n      <th>...</th>\n      <td>...</td>\n      <td>...</td>\n      <td>...</td>\n      <td>...</td>\n      <td>...</td>\n    </tr>\n    <tr>\n      <th>195</th>\n      <td>0.326923</td>\n      <td>0.860656</td>\n      <td>0.795918</td>\n      <td>0.0</td>\n      <td>1.0</td>\n    </tr>\n    <tr>\n      <th>196</th>\n      <td>0.519231</td>\n      <td>0.909836</td>\n      <td>0.275510</td>\n      <td>0.0</td>\n      <td>1.0</td>\n    </tr>\n    <tr>\n      <th>197</th>\n      <td>0.269231</td>\n      <td>0.909836</td>\n      <td>0.744898</td>\n      <td>1.0</td>\n      <td>0.0</td>\n    </tr>\n    <tr>\n      <th>198</th>\n      <td>0.269231</td>\n      <td>1.000000</td>\n      <td>0.173469</td>\n      <td>1.0</td>\n      <td>0.0</td>\n    </tr>\n    <tr>\n      <th>199</th>\n      <td>0.230769</td>\n      <td>1.000000</td>\n      <td>0.836735</td>\n      <td>1.0</td>\n      <td>0.0</td>\n    </tr>\n  </tbody>\n</table>\n<p>200 rows × 5 columns</p>\n</div>"
          },
          "metadata": {},
          "execution_count": 16
        }
      ]
    },
    {
      "cell_type": "markdown",
      "metadata": {
        "id": "XuESlyF2yE9Q"
      },
      "source": [
        "Import the dask clustering function and cluster the data. Use 3 clusters and print the centroids."
      ]
    },
    {
      "cell_type": "code",
      "metadata": {
        "colab": {
          "base_uri": "https://localhost:8080/",
          "height": 118
        },
        "id": "TKmp86Bd5E-l",
        "outputId": "b1a6afeb-b127-4851-9a1d-fe36b69a7dea"
      },
      "source": [
        "from dask.distributed import Client, progress\r\n",
        "client = Client(processes=False, threads_per_worker=4,\r\n",
        "                n_workers=1, memory_limit='2GB')\r\n",
        "client"
      ],
      "execution_count": 19,
      "outputs": [
        {
          "output_type": "execute_result",
          "data": {
            "text/plain": [
              "<Client: 'inproc://192.168.1.2/8868/1' processes=1 threads=4, memory=2.00 GB>"
            ],
            "text/html": "<table style=\"border: 2px solid white;\">\n<tr>\n<td style=\"vertical-align: top; border: 0px solid white\">\n<h3 style=\"text-align: left;\">Client</h3>\n<ul style=\"text-align: left; list-style: none; margin: 0; padding: 0;\">\n  <li><b>Scheduler: </b>inproc://192.168.1.2/8868/1</li>\n  <li><b>Dashboard: </b><a href='http://192.168.1.2:8787/status' target='_blank'>http://192.168.1.2:8787/status</a></li>\n</ul>\n</td>\n<td style=\"vertical-align: top; border: 0px solid white\">\n<h3 style=\"text-align: left;\">Cluster</h3>\n<ul style=\"text-align: left; list-style:none; margin: 0; padding: 0;\">\n  <li><b>Workers: </b>1</li>\n  <li><b>Cores: </b>4</li>\n  <li><b>Memory: </b>2.00 GB</li>\n</ul>\n</td>\n</tr>\n</table>"
          },
          "metadata": {},
          "execution_count": 19
        }
      ]
    },
    {
      "cell_type": "code",
      "metadata": {
        "id": "c2yBmO75yE9R",
        "colab": {
          "base_uri": "https://localhost:8080/",
          "height": 431
        },
        "outputId": "8691a6c5-8048-4187-b758-6ed505384722"
      },
      "source": [
        "from dask_ml import cluster\n",
        "\n",
        "km = cluster.KMeans(n_clusters=3)\n",
        "km.fit_transform(scl)\n",
        "km.cluster_centers_"
      ],
      "execution_count": 21,
      "outputs": [
        {
          "output_type": "execute_result",
          "data": {
            "text/plain": [
              "array([[0.57902098, 0.35916542, 0.34471243, 0.        , 1.        ],\n",
              "       [0.41936189, 0.38710879, 0.48480983, 1.        , 0.        ],\n",
              "       [0.20074224, 0.36612022, 0.68045113, 0.        , 1.        ]])"
            ]
          },
          "metadata": {},
          "execution_count": 21
        }
      ]
    }
  ]
}