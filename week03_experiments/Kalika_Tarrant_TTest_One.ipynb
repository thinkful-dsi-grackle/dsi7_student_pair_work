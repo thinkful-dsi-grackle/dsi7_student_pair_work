{
  "nbformat": 4,
  "nbformat_minor": 0,
  "metadata": {
    "colab": {
      "name": "Kalika_Tarrant_TTest_One.ipynb",
      "provenance": [],
      "collapsed_sections": []
    },
    "kernelspec": {
      "name": "python3",
      "display_name": "Python 3"
    }
  },
  "cells": [
    {
      "cell_type": "markdown",
      "metadata": {
        "id": "_utZDwJ_Ozq4",
        "colab_type": "text"
      },
      "source": [
        "We would like to test whether the whole weight of the snail is on average different between male and female snails."
      ]
    },
    {
      "cell_type": "code",
      "metadata": {
        "id": "junCW7maOn55",
        "colab_type": "code",
        "colab": {
          "base_uri": "https://localhost:8080/",
          "height": 249
        },
        "outputId": "f88a7362-8477-4907-bcf7-04f73ca1e8f3"
      },
      "source": [
        "#Setup dataframe and visualizations\n",
        "import math\n",
        "import pandas as pd\n",
        "import seaborn as sns\n",
        "from scipy import stats\n",
        "import matplotlib.pyplot as plt\n",
        "sns.set()\n",
        "\n",
        "#suppress warnings\n",
        "import warnings\n",
        "warnings.filterwarnings('ignore')\n",
        "\n",
        "url = \"https://tf-assets-prod.s3.amazonaws.com/tf-curric/data-science/abalone_csv.csv\"\n",
        "df = pd.read_csv(url)\n",
        "df.head()"
      ],
      "execution_count": 1,
      "outputs": [
        {
          "output_type": "stream",
          "text": [
            "/usr/local/lib/python3.6/dist-packages/statsmodels/tools/_testing.py:19: FutureWarning: pandas.util.testing is deprecated. Use the functions in the public API at pandas.testing instead.\n",
            "  import pandas.util.testing as tm\n"
          ],
          "name": "stderr"
        },
        {
          "output_type": "execute_result",
          "data": {
            "text/html": [
              "<div>\n",
              "<style scoped>\n",
              "    .dataframe tbody tr th:only-of-type {\n",
              "        vertical-align: middle;\n",
              "    }\n",
              "\n",
              "    .dataframe tbody tr th {\n",
              "        vertical-align: top;\n",
              "    }\n",
              "\n",
              "    .dataframe thead th {\n",
              "        text-align: right;\n",
              "    }\n",
              "</style>\n",
              "<table border=\"1\" class=\"dataframe\">\n",
              "  <thead>\n",
              "    <tr style=\"text-align: right;\">\n",
              "      <th></th>\n",
              "      <th>Sex</th>\n",
              "      <th>Length</th>\n",
              "      <th>Diameter</th>\n",
              "      <th>Height</th>\n",
              "      <th>Whole_weight</th>\n",
              "      <th>Shucked_weight</th>\n",
              "      <th>Viscera_weight</th>\n",
              "      <th>Shell_weight</th>\n",
              "      <th>Class_number_of_rings</th>\n",
              "    </tr>\n",
              "  </thead>\n",
              "  <tbody>\n",
              "    <tr>\n",
              "      <th>0</th>\n",
              "      <td>M</td>\n",
              "      <td>0.455</td>\n",
              "      <td>0.365</td>\n",
              "      <td>0.095</td>\n",
              "      <td>0.5140</td>\n",
              "      <td>0.2245</td>\n",
              "      <td>0.1010</td>\n",
              "      <td>0.150</td>\n",
              "      <td>15</td>\n",
              "    </tr>\n",
              "    <tr>\n",
              "      <th>1</th>\n",
              "      <td>M</td>\n",
              "      <td>0.350</td>\n",
              "      <td>0.265</td>\n",
              "      <td>0.090</td>\n",
              "      <td>0.2255</td>\n",
              "      <td>0.0995</td>\n",
              "      <td>0.0485</td>\n",
              "      <td>0.070</td>\n",
              "      <td>7</td>\n",
              "    </tr>\n",
              "    <tr>\n",
              "      <th>2</th>\n",
              "      <td>F</td>\n",
              "      <td>0.530</td>\n",
              "      <td>0.420</td>\n",
              "      <td>0.135</td>\n",
              "      <td>0.6770</td>\n",
              "      <td>0.2565</td>\n",
              "      <td>0.1415</td>\n",
              "      <td>0.210</td>\n",
              "      <td>9</td>\n",
              "    </tr>\n",
              "    <tr>\n",
              "      <th>3</th>\n",
              "      <td>M</td>\n",
              "      <td>0.440</td>\n",
              "      <td>0.365</td>\n",
              "      <td>0.125</td>\n",
              "      <td>0.5160</td>\n",
              "      <td>0.2155</td>\n",
              "      <td>0.1140</td>\n",
              "      <td>0.155</td>\n",
              "      <td>10</td>\n",
              "    </tr>\n",
              "    <tr>\n",
              "      <th>4</th>\n",
              "      <td>I</td>\n",
              "      <td>0.330</td>\n",
              "      <td>0.255</td>\n",
              "      <td>0.080</td>\n",
              "      <td>0.2050</td>\n",
              "      <td>0.0895</td>\n",
              "      <td>0.0395</td>\n",
              "      <td>0.055</td>\n",
              "      <td>7</td>\n",
              "    </tr>\n",
              "  </tbody>\n",
              "</table>\n",
              "</div>"
            ],
            "text/plain": [
              "  Sex  Length  Diameter  ...  Viscera_weight  Shell_weight  Class_number_of_rings\n",
              "0   M   0.455     0.365  ...          0.1010         0.150                     15\n",
              "1   M   0.350     0.265  ...          0.0485         0.070                      7\n",
              "2   F   0.530     0.420  ...          0.1415         0.210                      9\n",
              "3   M   0.440     0.365  ...          0.1140         0.155                     10\n",
              "4   I   0.330     0.255  ...          0.0395         0.055                      7\n",
              "\n",
              "[5 rows x 9 columns]"
            ]
          },
          "metadata": {
            "tags": []
          },
          "execution_count": 1
        }
      ]
    },
    {
      "cell_type": "code",
      "metadata": {
        "id": "-bxWLsKEOign",
        "colab_type": "code",
        "colab": {
          "base_uri": "https://localhost:8080/",
          "height": 286
        },
        "outputId": "664cf5d6-cc8f-4439-dd4c-c07a3246035a"
      },
      "source": [
        "df_m = df.iloc[(df[\"Sex\"] == 'M').values][['Whole_weight']]\n",
        "df_f = df.iloc[(df[\"Sex\"] == 'F').values][['Whole_weight']]\n",
        "#Initial examination of the data indicates that there is a third type of sex, I that will be unobserved.\n",
        "df_m.info()\n",
        "df_f.info()"
      ],
      "execution_count": 2,
      "outputs": [
        {
          "output_type": "stream",
          "text": [
            "<class 'pandas.core.frame.DataFrame'>\n",
            "Int64Index: 1528 entries, 0 to 4176\n",
            "Data columns (total 1 columns):\n",
            " #   Column        Non-Null Count  Dtype  \n",
            "---  ------        --------------  -----  \n",
            " 0   Whole_weight  1528 non-null   float64\n",
            "dtypes: float64(1)\n",
            "memory usage: 23.9 KB\n",
            "<class 'pandas.core.frame.DataFrame'>\n",
            "Int64Index: 1307 entries, 2 to 4175\n",
            "Data columns (total 1 columns):\n",
            " #   Column        Non-Null Count  Dtype  \n",
            "---  ------        --------------  -----  \n",
            " 0   Whole_weight  1307 non-null   float64\n",
            "dtypes: float64(1)\n",
            "memory usage: 20.4 KB\n"
          ],
          "name": "stdout"
        }
      ]
    },
    {
      "cell_type": "markdown",
      "metadata": {
        "id": "Q3kzBefCQHNX",
        "colab_type": "text"
      },
      "source": [
        "Does this data meet the assumptions to answer such a question statistically?\n",
        "\n",
        "Yes. The data does meet the assumptions to answer a question statistically. \n",
        "\n",
        "Visually, the distribution does appear to be within the normal ranges for kurtosis and skewness. According to the description, the data falls within the acceptable range. \n"
      ]
    },
    {
      "cell_type": "code",
      "metadata": {
        "id": "ZhgqhdI-QgOW",
        "colab_type": "code",
        "colab": {
          "base_uri": "https://localhost:8080/",
          "height": 268
        },
        "outputId": "1cdd90d2-6149-406a-b508-b457f0a61d05"
      },
      "source": [
        "plt.hist(df_m['Whole_weight'], alpha = .5, color='green')\n",
        "plt.hist(df_f['Whole_weight'], alpha = .5, color='pink')\n",
        "plt.show()"
      ],
      "execution_count": 15,
      "outputs": [
        {
          "output_type": "display_data",
          "data": {
            "image/png": "[encoded data removed]",
            "text/plain": [
              "<Figure size 432x288 with 1 Axes>"
            ]
          },
          "metadata": {
            "tags": [],
            "needs_background": "light"
          }
        }
      ]
    },
    {
      "cell_type": "code",
      "metadata": {
        "id": "-WA6WZ0pRbJx",
        "colab_type": "code",
        "colab": {
          "base_uri": "https://localhost:8080/",
          "height": 50
        },
        "outputId": "ce924795-24fa-448b-8b1d-b7fae2a88a16"
      },
      "source": [
        "#Description of the two distributions\n",
        "print(stats.describe(df_m['Whole_weight']))\n",
        "print(stats.describe(df_f['Whole_weight']))"
      ],
      "execution_count": 6,
      "outputs": [
        {
          "output_type": "stream",
          "text": [
            "DescribeResult(nobs=1528, minmax=(0.0155, 2.8255), mean=0.9914594240837696, variance=0.22144682906633475, skewness=0.40560877693983, kurtosis=0.3522080855157492)\n",
            "DescribeResult(nobs=1307, minmax=(0.08, 2.657), mean=1.0465321346595258, variance=0.18517212913502626, skewness=0.36807506367868875, kurtosis=0.059025885863292604)\n"
          ],
          "name": "stdout"
        }
      ]
    },
    {
      "cell_type": "markdown",
      "metadata": {
        "id": "6rGCvGnqRIlm",
        "colab_type": "text"
      },
      "source": [
        "What are the formal hypotheses?\n",
        "\n",
        "On average we expect that the male population of the abalone snail weighs significantly more when compared to the female population. "
      ]
    },
    {
      "cell_type": "code",
      "metadata": {
        "id": "xcLsUqARS5UA",
        "colab_type": "code",
        "colab": {
          "base_uri": "https://localhost:8080/",
          "height": 34
        },
        "outputId": "8039d7f5-d080-4a1c-c8e1-71cf0244a3f7"
      },
      "source": [
        "#scipy t-test value will test our hypthosis against the two variables.\n",
        "stats.ttest_ind(df_m['Whole_weight'], df_f['Whole_weight'])"
      ],
      "execution_count": 13,
      "outputs": [
        {
          "output_type": "execute_result",
          "data": {
            "text/plain": [
              "Ttest_indResult(statistic=-3.230536346547456, pvalue=0.0012497207919589404)"
            ]
          },
          "metadata": {
            "tags": []
          },
          "execution_count": 13
        }
      ]
    },
    {
      "cell_type": "markdown",
      "metadata": {
        "id": "fwkQVmJBTRwV",
        "colab_type": "text"
      },
      "source": [
        "Conduct the hypothesis test. What is the p-value? What can you say given the p-value and significance level?\n",
        "\n",
        "The p-value is at 0.1%. We can say that there is a 0.1% chance that observing a difference as large as what is observed even if the two population means are identical (the null hypothesis is true). \n",
        "\n",
        "The initial conducted on a visual cue of the graph was incorrect. The appropriate behavior is to observe the mean, or average weights of these animals. Upon that observation, we find that females are on average larger than than the male population. \n",
        "\n",
        "There are a number of factors that may contribute to these findings that have not been observed. These factors include the age of the snails, when they have eaten, and pregnancies. "
      ]
    }
  ]
}