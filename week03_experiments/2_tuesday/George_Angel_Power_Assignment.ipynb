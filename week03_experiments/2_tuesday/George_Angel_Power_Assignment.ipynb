{
  "nbformat": 4,
  "nbformat_minor": 0,
  "metadata": {
    "kernelspec": {
      "display_name": "Python 3",
      "language": "python",
      "name": "python3"
    },
    "language_info": {
      "codemirror_mode": {
        "name": "ipython",
        "version": 3
      },
      "file_extension": ".py",
      "mimetype": "text/x-python",
      "name": "python",
      "nbconvert_exporter": "python",
      "pygments_lexer": "ipython3",
      "version": "3.7.6"
    },
    "colab": {
      "name": "George_Angel_Power_Assignment.ipynb",
      "provenance": [],
      "collapsed_sections": []
    }
  },
  "cells": [
    {
      "cell_type": "markdown",
      "metadata": {
        "id": "HFf2astgG4Ja",
        "colab_type": "text"
      },
      "source": [
        "# Statistical Power Assignment"
      ]
    },
    {
      "cell_type": "code",
      "metadata": {
        "id": "CJSstY75G4Jc",
        "colab_type": "code",
        "colab": {
          "base_uri": "https://localhost:8080/",
          "height": 72
        },
        "outputId": "acd2b8de-788c-4595-82c5-ab7e19e40bf1"
      },
      "source": [
        "import numpy as np\n",
        "from numpy import array\n",
        "import pandas as pd\n",
        "import math\n",
        "\n",
        "from scipy import stats\n",
        "from statsmodels.stats.power import TTestIndPower\n",
        "\n",
        "import matplotlib.pyplot as plt\n",
        "\n",
        "%matplotlib inline"
      ],
      "execution_count": 2,
      "outputs": [
        {
          "output_type": "stream",
          "text": [
            "/usr/local/lib/python3.6/dist-packages/statsmodels/tools/_testing.py:19: FutureWarning: pandas.util.testing is deprecated. Use the functions in the public API at pandas.testing instead.\n",
            "  import pandas.util.testing as tm\n"
          ],
          "name": "stderr"
        }
      ]
    },
    {
      "cell_type": "markdown",
      "metadata": {
        "id": "I7wJYEC-G4Jw",
        "colab_type": "text"
      },
      "source": [
        "### Computing Sample Size Required\n",
        "\n",
        "Suppose we are conducting a test where we have:\n",
        "\n",
        "- Effect size of 0.5\n",
        "- Significance level of 0.05\n",
        "- Looking to achieve 80% statistical power\n",
        "\n",
        "How large of a sample size would we need for this experiment?"
      ]
    },
    {
      "cell_type": "code",
      "metadata": {
        "id": "4mFLkvFnG4J2",
        "colab_type": "code",
        "colab": {
          "base_uri": "https://localhost:8080/",
          "height": 35
        },
        "outputId": "d2296768-430a-4313-c61a-58766ace7901"
      },
      "source": [
        "analysis = TTestIndPower()\n",
        "\n",
        "result = analysis.solve_power(effect_size=0.5, nobs1=None, alpha=0.05, power=0.8, ratio=1.0)\n",
        "2 * math.ceil(result)"
      ],
      "execution_count": 3,
      "outputs": [
        {
          "output_type": "execute_result",
          "data": {
            "text/plain": [
              "128"
            ]
          },
          "metadata": {
            "tags": []
          },
          "execution_count": 3
        }
      ]
    },
    {
      "cell_type": "markdown",
      "metadata": {
        "id": "LcNVmyGsG4KB",
        "colab_type": "text"
      },
      "source": [
        "### Computing Effect Size Required\n",
        "\n",
        "Suppose we are conducting a test where we have:\n",
        "\n",
        "- Sample size of 100\n",
        "- Significance level of 0.05\n",
        "- Looking to achieve 80% statistical power\n",
        "\n",
        "How large of an effect size would we need to see for this experiment?"
      ]
    },
    {
      "cell_type": "code",
      "metadata": {
        "id": "kxOoM94zG4KC",
        "colab_type": "code",
        "colab": {
          "base_uri": "https://localhost:8080/",
          "height": 35
        },
        "outputId": "da812aa9-76ec-4333-c115-cc29ba27f66a"
      },
      "source": [
        "effect_result = analysis.solve_power(effect_size=None, nobs1=50, alpha=0.05, power=0.8, ratio=1.0)\n",
        "effect_result"
      ],
      "execution_count": 4,
      "outputs": [
        {
          "output_type": "execute_result",
          "data": {
            "text/plain": [
              "0.5658803032224228"
            ]
          },
          "metadata": {
            "tags": []
          },
          "execution_count": 4
        }
      ]
    },
    {
      "cell_type": "markdown",
      "metadata": {
        "id": "nhp7zvBmG4KH",
        "colab_type": "text"
      },
      "source": [
        "Generate a power plot that shows how the statistical power of this test would change based on the number of observations and varying effect sizes."
      ]
    },
    {
      "cell_type": "code",
      "metadata": {
        "id": "l2UvpmXCG4KI",
        "colab_type": "code",
        "colab": {
          "base_uri": "https://localhost:8080/",
          "height": 35
        },
        "outputId": "5b7992d1-d403-4319-f7cb-0f9b6b5a27d4"
      },
      "source": [
        "analysis = TTestIndPower()\n",
        "\n",
        "result = analysis.solve_power(effect_size=None, nobs1=100, alpha=0.05, power=0.80, ratio=1.0)\n",
        "result"
      ],
      "execution_count": 69,
      "outputs": [
        {
          "output_type": "execute_result",
          "data": {
            "text/plain": [
              "0.39813911739112756"
            ]
          },
          "metadata": {
            "tags": []
          },
          "execution_count": 69
        }
      ]
    },
    {
      "cell_type": "markdown",
      "metadata": {
        "id": "k1mp4tBXG4KP",
        "colab_type": "text"
      },
      "source": [
        "### Computing Statistical Power\n",
        "\n",
        "Suppose we are conducting a test where we have:\n",
        "\n",
        "- Effect size of 0.4\n",
        "- Sample size of 100\n",
        "- Significance level of 0.05\n",
        "\n",
        "What would be the statistical power for this experiment?"
      ]
    },
    {
      "cell_type": "code",
      "metadata": {
        "id": "iohYAowNG4KR",
        "colab_type": "code",
        "colab": {
          "base_uri": "https://localhost:8080/",
          "height": 35
        },
        "outputId": "a3f97b6a-a654-4080-af94-e02cd5c77eb2"
      },
      "source": [
        "effect = 0.4\n",
        "alpha =0.05\n",
        "\n",
        "analysis = TTestIndPower()\n",
        "result = analysis.solve_power(effect, power=None, nobs1=100, ratio=1.0, alpha=alpha)\n",
        "print('Power: %.3g' % result)"
      ],
      "execution_count": 5,
      "outputs": [
        {
          "output_type": "stream",
          "text": [
            "Power: 0.804\n"
          ],
          "name": "stdout"
        }
      ]
    },
    {
      "cell_type": "markdown",
      "metadata": {
        "id": "ZoXJHNZiG4KV",
        "colab_type": "text"
      },
      "source": [
        "Generate a plot that examines how the statistical power of this experiment would change based on different significance levels."
      ]
    },
    {
      "cell_type": "code",
      "metadata": {
        "id": "XvUtHG29G4KX",
        "colab_type": "code",
        "colab": {
          "base_uri": "https://localhost:8080/",
          "height": 573
        },
        "outputId": "605c6bc1-f0fe-47ed-dfb9-2fe06a2e0de3"
      },
      "source": [
        "effect_sizes = array([0.2, 0.5, 0.8])\n",
        "sample_sizes = array(range(5, 100))\n",
        "\n",
        "analysis = TTestIndPower()\n",
        "alpha_1 = analysis.plot_power(dep_var='nobs', nobs=sample_sizes, effect_size=effect_sizes, alpha= .05)\n",
        "alpha_2 = analysis.plot_power(dep_var='nobs', nobs=sample_sizes, effect_size=effect_sizes, alpha= .01)\n",
        "plt.show(alpha_1)\n",
        "plt.show(alpha_2)"
      ],
      "execution_count": 6,
      "outputs": [
        {
          "output_type": "display_data",
          "data": {
            "image/png": "[encoded data removed]",
            "text/plain": [
              "<Figure size 432x288 with 1 Axes>"
            ]
          },
          "metadata": {
            "tags": [],
            "needs_background": "light"
          }
        },
        {
          "output_type": "display_data",
          "data": {
            "image/png": "[encoded data removed]",
            "text/plain": [
              "<Figure size 432x288 with 1 Axes>"
            ]
          },
          "metadata": {
            "tags": [],
            "needs_background": "light"
          }
        }
      ]
    },
    {
      "cell_type": "markdown",
      "metadata": {
        "id": "tkf74qmRG4Ke",
        "colab_type": "text"
      },
      "source": [
        "## Computing Statistical Power for a Real Data Set\n",
        "\n",
        "Yesterday afternoon, you conducted a t-test on the titanic data set to determine whether there was a significant difference between the average age of passengers who survived and those who did not survive. In this section, compute the statistical power of that test."
      ]
    },
    {
      "cell_type": "markdown",
      "metadata": {
        "id": "KzYOXFNuG4Kf",
        "colab_type": "text"
      },
      "source": [
        "### Import the data, and drop rows where `'Age'` is NA."
      ]
    },
    {
      "cell_type": "code",
      "metadata": {
        "id": "W3C_d3s_FDR8",
        "colab_type": "code",
        "colab": {}
      },
      "source": [
        "data_url = 'https://tf-assets-prod.s3.amazonaws.com/tf-curric/data-science/titanic.csv'\n",
        "\n",
        "titanic = pd.read_csv(data_url)\n",
        "titanic_filtered = titanic.dropna(subset=['Age'])\n",
        "\n",
        "titanic_S = titanic_filtered[(titanic_filtered['Survived'] == 1)]\n",
        "titanic_NS = titanic_filtered[(titanic_filtered['Survived'] == 0)]\n"
      ],
      "execution_count": 28,
      "outputs": []
    },
    {
      "cell_type": "markdown",
      "metadata": {
        "id": "QbnH4zT6G4Km",
        "colab_type": "text"
      },
      "source": [
        "### Summarize the number of observations and average age per group."
      ]
    },
    {
      "cell_type": "code",
      "metadata": {
        "id": "IoEmT1hoG4Ko",
        "colab_type": "code",
        "colab": {
          "base_uri": "https://localhost:8080/",
          "height": 104
        },
        "outputId": "6373fb95-d3d4-413d-a091-317b44942dd0"
      },
      "source": [
        "n_obs1 = len(titanic_S['Age'])\n",
        "print(n_obs1)\n",
        "n_obs2 = len(titanic_NS['Age'])\n",
        "print(n_obs2)\n",
        "total_n_obs = n_obs1 + n_obs2\n",
        "print(total_n_obs)\n",
        "\n",
        "mean_age_S = titanic_S['Age'].mean()\n",
        "print(mean_age_S)\n",
        "mean_age_NS = titanic_NS['Age'].mean()\n",
        "print(mean_age_NS)"
      ],
      "execution_count": 43,
      "outputs": [
        {
          "output_type": "stream",
          "text": [
            "290\n",
            "424\n",
            "714\n",
            "28.343689655172415\n",
            "30.62617924528302\n"
          ],
          "name": "stdout"
        }
      ]
    },
    {
      "cell_type": "markdown",
      "metadata": {
        "id": "DigcDVUWG4Ks",
        "colab_type": "text"
      },
      "source": [
        "### Perform t-test."
      ]
    },
    {
      "cell_type": "code",
      "metadata": {
        "id": "oaMDD4mUG4Ku",
        "colab_type": "code",
        "colab": {
          "base_uri": "https://localhost:8080/",
          "height": 35
        },
        "outputId": "f5b1682b-c4dd-4d47-bd10-e93275c34ea9"
      },
      "source": [
        "stats.ttest_ind(titanic_S['Age'], titanic_NS['Age']) "
      ],
      "execution_count": 30,
      "outputs": [
        {
          "output_type": "execute_result",
          "data": {
            "text/plain": [
              "Ttest_indResult(statistic=-2.06668694625381, pvalue=0.03912465401348249)"
            ]
          },
          "metadata": {
            "tags": []
          },
          "execution_count": 30
        }
      ]
    },
    {
      "cell_type": "markdown",
      "metadata": {
        "id": "-JdTMpd6G4K1",
        "colab_type": "text"
      },
      "source": [
        "### Calculate the Effect Size\n",
        "\n",
        "Effect size can be calculated by using a formula known as Cohen's d, which divides the difference in means between the two groups by their pooled standard deviation.\n",
        "\n",
        "`effect_size = (mean_of_sample1 - mean_of_sample2) / pooled_stdev`\n",
        "\n",
        "The pooled standard deviation in the denominator can be derived as follows.\n",
        "\n",
        "`pooled_stdev = sqrt(((n_obs1 - 1) * var1 + (n_obs2 - 1) * var2) / (n_obs1 + n_obs2 - 2))`\n",
        "\n",
        "Where `n_obs` is the number of observations and `var` is the variance of each sample.\n",
        "\n",
        "**Write the code below to calculate the effect size for this test.**"
      ]
    },
    {
      "cell_type": "code",
      "metadata": {
        "id": "MHv8oUu4G4K3",
        "colab_type": "code",
        "colab": {
          "base_uri": "https://localhost:8080/",
          "height": 35
        },
        "outputId": "d2ad4c83-55c4-4547-a2ad-77cb4abcbaf3"
      },
      "source": [
        "var1 = titanic_S['Age'].var()\n",
        "var2 = titanic_NS['Age'].var()\n",
        "\n",
        "pooled_stdev = np.sqrt(((n_obs1 - 1) * var1 + (n_obs2 - 1) * var2) / (n_obs1 + n_obs2 - 2))\n",
        "\n",
        "effect_size = (mean_age_S - mean_age_NS) / pooled_stdev\n",
        "\n",
        "print(effect_size)\n"
      ],
      "execution_count": 35,
      "outputs": [
        {
          "output_type": "stream",
          "text": [
            "-0.15748597191363298\n"
          ],
          "name": "stdout"
        }
      ]
    },
    {
      "cell_type": "markdown",
      "metadata": {
        "id": "fOFD5TzxG4LA",
        "colab_type": "text"
      },
      "source": [
        "**Use the effect size you calculated to compute the statistical power of this test.**"
      ]
    },
    {
      "cell_type": "code",
      "metadata": {
        "id": "IPhO1sDYG4LC",
        "colab_type": "code",
        "colab": {
          "base_uri": "https://localhost:8080/",
          "height": 35
        },
        "outputId": "7c60dc19-0154-4abc-e8bb-7d66222a8293"
      },
      "source": [
        "alpha = 0.05\n",
        "nobs1 = total_n_obs \n",
        "ratio = n_obs1/n_obs2\n",
        "\n",
        "analysis = TTestIndPower()\n",
        "result = analysis.solve_power(effect_size, power=None, nobs1=nobs1, ratio=ratio, alpha=alpha)\n",
        "print('Power: %.3g' % result)\n",
        "#print(result)#"
      ],
      "execution_count": 60,
      "outputs": [
        {
          "output_type": "stream",
          "text": [
            "Power: 0.764\n"
          ],
          "name": "stdout"
        }
      ]
    },
    {
      "cell_type": "markdown",
      "metadata": {
        "id": "cIW3XdbLG4LI",
        "colab_type": "text"
      },
      "source": [
        "**Determine the effect size we would need to see to get a statistical power of 0.8.**"
      ]
    },
    {
      "cell_type": "code",
      "metadata": {
        "id": "fOb9oFJ2G4LK",
        "colab_type": "code",
        "colab": {
          "base_uri": "https://localhost:8080/",
          "height": 35
        },
        "outputId": "cd0cf743-a405-4df2-8812-8785750b7f64"
      },
      "source": [
        "alpha = 0.05\n",
        "nobs1 = total_n_obs \n",
        "ratio = n_obs1/n_obs2\n",
        "\n",
        "analysis = TTestIndPower()\n",
        "result = analysis.solve_power(effect_size=None, power=0.80, nobs1=total_n_obs, ratio=ratio, alpha=alpha)\n",
        "print('Effect size: %.3g' % result)"
      ],
      "execution_count": 61,
      "outputs": [
        {
          "output_type": "stream",
          "text": [
            "Effect size: 0.165\n"
          ],
          "name": "stdout"
        }
      ]
    },
    {
      "cell_type": "markdown",
      "metadata": {
        "id": "kcZu7cPJG4LQ",
        "colab_type": "text"
      },
      "source": [
        "**Determine the sample size necessary to get a statistical power of 0.8.**"
      ]
    },
    {
      "cell_type": "code",
      "metadata": {
        "id": "830JBqsmG4LR",
        "colab_type": "code",
        "colab": {
          "base_uri": "https://localhost:8080/",
          "height": 35
        },
        "outputId": "e13da328-ec18-4f05-dec4-21256e979e85"
      },
      "source": [
        "alpha = 0.05\n",
        "ratio = n_obs1/n_obs2\n",
        "\n",
        "analysis = TTestIndPower()\n",
        "nobs_result = analysis.solve_power(effect_size=effect_size, power=0.80, nobs1=None, ratio=ratio, alpha=alpha)\n",
        "nobs_result = math.ceil(nobs_result)\n",
        "nobs_result\n",
        "#result = 2 * math.ceil(result)\n",
        "#print('Sample size: %.3g' % result)"
      ],
      "execution_count": 66,
      "outputs": [
        {
          "output_type": "execute_result",
          "data": {
            "text/plain": [
              "781"
            ]
          },
          "metadata": {
            "tags": []
          },
          "execution_count": 66
        }
      ]
    },
    {
      "cell_type": "code",
      "metadata": {
        "id": "5DW_5lmzm1E_",
        "colab_type": "code",
        "colab": {
          "base_uri": "https://localhost:8080/",
          "height": 35
        },
        "outputId": "13ab5c5f-3e99-41bc-e7e1-07b433d2d4b9"
      },
      "source": [
        "ttl_n_obs = math.ceil(nobs_result + nobs_result*ratio)\n",
        "ttl_n_obs"
      ],
      "execution_count": 70,
      "outputs": [
        {
          "output_type": "execute_result",
          "data": {
            "text/plain": [
              "1316"
            ]
          },
          "metadata": {
            "tags": []
          },
          "execution_count": 70
        }
      ]
    },
    {
      "cell_type": "markdown",
      "metadata": {
        "id": "XdUZfjwrG4LX",
        "colab_type": "text"
      },
      "source": [
        "**Generate a visualization that shows the significance level we would need to get a statistical power of 0.8.**"
      ]
    },
    {
      "cell_type": "code",
      "metadata": {
        "id": "q1FgfzqNG4LZ",
        "colab_type": "code",
        "colab": {}
      },
      "source": [
        "effect_sizes = array([0.2, 0.5, 0.8])\n",
        "sample_sizes = array(range(5, 100))\n",
        "\n",
        "analysis = TTestIndPower()\n",
        "alpha_1 = analysis.plot_power(dep_var='nobs', nobs=sample_sizes, effect_size=effect_sizes, alpha= .05)\n",
        "plt.show(alpha_1)\n"
      ],
      "execution_count": 7,
      "outputs": []
    }
  ]
}