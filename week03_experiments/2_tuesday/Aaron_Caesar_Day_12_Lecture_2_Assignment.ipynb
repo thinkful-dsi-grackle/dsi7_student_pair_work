{
 "cells": [
  {
   "cell_type": "markdown",
   "metadata": {
    "colab_type": "text",
    "id": "HFf2astgG4Ja"
   },
   "source": [
    "# Statistical Power Assignment"
   ]
  },
  {
   "cell_type": "code",
   "execution_count": 3,
   "metadata": {
    "colab": {
     "base_uri": "https://localhost:8080/",
     "height": 71
    },
    "colab_type": "code",
    "executionInfo": {
     "elapsed": 1152,
     "status": "ok",
     "timestamp": 1600796530588,
     "user": {
      "displayName": "Mike Swirsky",
      "photoUrl": "https://lh3.googleusercontent.com/a-/AOh14GhmOYfcQD1f_xzYU-OiJt5evVtjJAzwGU9bNAG1=s64",
      "userId": "09733430627481200667"
     },
     "user_tz": 420
    },
    "id": "CJSstY75G4Jc",
    "outputId": "ac2fb6f2-fd17-4221-8901-9f446cc109eb"
   },
   "outputs": [],
   "source": [
    "import numpy as np\n",
    "import pandas as pd\n",
    "import math\n",
    "from scipy import stats\n",
    "from statsmodels.stats.power import TTestIndPower\n",
    "\n",
    "import matplotlib.pyplot as plt\n",
    "\n",
    "%matplotlib inline"
   ]
  },
  {
   "cell_type": "markdown",
   "metadata": {
    "colab_type": "text",
    "id": "I7wJYEC-G4Jw"
   },
   "source": [
    "### Computing Sample Size Required\n",
    "\n",
    "Suppose we are conducting a test where we have:\n",
    "\n",
    "- Effect size of 0.5\n",
    "- Significance level of 0.05\n",
    "- Looking to achieve 80% statistical power\n",
    "\n",
    "How large of a sample size would we need for this experiment?"
   ]
  },
  {
   "cell_type": "code",
   "execution_count": 4,
   "metadata": {
    "colab": {
     "base_uri": "https://localhost:8080/",
     "height": 34
    },
    "colab_type": "code",
    "executionInfo": {
     "elapsed": 798,
     "status": "ok",
     "timestamp": 1600796862539,
     "user": {
      "displayName": "Mike Swirsky",
      "photoUrl": "https://lh3.googleusercontent.com/a-/AOh14GhmOYfcQD1f_xzYU-OiJt5evVtjJAzwGU9bNAG1=s64",
      "userId": "09733430627481200667"
     },
     "user_tz": 420
    },
    "id": "4mFLkvFnG4J2",
    "outputId": "c25b1426-e658-43c8-cb0d-63819b693fcf"
   },
   "outputs": [
    {
     "data": {
      "text/plain": [
       "128"
      ]
     },
     "execution_count": 4,
     "metadata": {},
     "output_type": "execute_result"
    }
   ],
   "source": [
    "analysis = TTestIndPower()\n",
    "\n",
    "result = analysis.solve_power(effect_size=0.5, nobs1=None, alpha=0.05, power=0.8, ratio=1.0)\n",
    "2 * math.ceil(result)"
   ]
  },
  {
   "cell_type": "markdown",
   "metadata": {
    "colab_type": "text",
    "id": "LcNVmyGsG4KB"
   },
   "source": [
    "### Computing Effect Size Required\n",
    "\n",
    "Suppose we are conducting a test where we have:\n",
    "\n",
    "- Sample size of 100\n",
    "- Significance level of 0.05\n",
    "- Looking to achieve 80% statistical power\n",
    "\n",
    "How large of an effect size would we need to see for this experiment?"
   ]
  },
  {
   "cell_type": "code",
   "execution_count": 10,
   "metadata": {
    "colab": {},
    "colab_type": "code",
    "id": "kxOoM94zG4KC"
   },
   "outputs": [
    {
     "data": {
      "text/plain": [
       "0.39813911739112756"
      ]
     },
     "execution_count": 10,
     "metadata": {},
     "output_type": "execute_result"
    }
   ],
   "source": [
    "effect_size = analysis.solve_power(effect_size=None, nobs1=100, alpha=0.05, power=0.8, ratio=1.0)\n",
    "effect_size"
   ]
  },
  {
   "cell_type": "markdown",
   "metadata": {
    "colab_type": "text",
    "id": "nhp7zvBmG4KH"
   },
   "source": [
    "Generate a power plot that shows how the statistical power of this test would change based on the number of observations and varying effect sizes."
   ]
  },
  {
   "cell_type": "code",
   "execution_count": 12,
   "metadata": {
    "colab": {},
    "colab_type": "code",
    "id": "l2UvpmXCG4KI"
   },
   "outputs": [
    {
     "data": {
      "text/plain": [
       "[<matplotlib.lines.Line2D at 0x7fcf63ef4d30>]"
      ]
     },
     "execution_count": 12,
     "metadata": {},
     "output_type": "execute_result"
    },
    {
     "data": {
      "image/png": "[encoded data removed]",
      "text/plain": [
       "<Figure size 432x288 with 1 Axes>"
      ]
     },
     "metadata": {
      "needs_background": "light"
     },
     "output_type": "display_data"
    }
   ],
   "source": [
    "results = []\n",
    "samples = range(1,500)\n",
    "for i in samples:\n",
    "    results.append(analysis.solve_power(effect_size=effect_size, nobs1=i, alpha=0.05, power=None, ratio=1.0))\n",
    "plt.plot(samples, results)"
   ]
  },
  {
   "cell_type": "markdown",
   "metadata": {
    "colab_type": "text",
    "id": "k1mp4tBXG4KP"
   },
   "source": [
    "### Computing Statistical Power\n",
    "\n",
    "Suppose we are conducting a test where we have:\n",
    "\n",
    "- Effect size of 0.4\n",
    "- Sample size of 100\n",
    "- Significance level of 0.05\n",
    "\n",
    "What would be the statistical power for this experiment?"
   ]
  },
  {
   "cell_type": "code",
   "execution_count": 13,
   "metadata": {
    "colab": {},
    "colab_type": "code",
    "id": "iohYAowNG4KR"
   },
   "outputs": [
    {
     "data": {
      "text/plain": [
       "0.8036474965430769"
      ]
     },
     "execution_count": 13,
     "metadata": {},
     "output_type": "execute_result"
    }
   ],
   "source": [
    "analysis.solve_power(effect_size=0.4, nobs1=100, alpha=0.05, power=None, ratio=1.0)"
   ]
  },
  {
   "cell_type": "markdown",
   "metadata": {
    "colab_type": "text",
    "id": "ZoXJHNZiG4KV"
   },
   "source": [
    "Generate a plot that examines how the statistical power of this experiment would change based on different significance levels."
   ]
  },
  {
   "cell_type": "code",
   "execution_count": 28,
   "metadata": {
    "colab": {},
    "colab_type": "code",
    "id": "XvUtHG29G4KX"
   },
   "outputs": [
    {
     "data": {
      "text/plain": [
       "[<matplotlib.lines.Line2D at 0x7fcf63cae190>]"
      ]
     },
     "execution_count": 28,
     "metadata": {},
     "output_type": "execute_result"
    },
    {
     "data": {
      "image/png": "[encoded data removed]",
      "text/plain": [
       "<Figure size 432x288 with 1 Axes>"
      ]
     },
     "metadata": {
      "needs_background": "light"
     },
     "output_type": "display_data"
    }
   ],
   "source": [
    "results = []\n",
    "significance_levels = pd.Series(range(1,500))\n",
    "significance_levels = significance_levels/1000\n",
    "for i in significance_levels:\n",
    "    results.append(analysis.solve_power(effect_size=0.4, nobs1=100, alpha=i, power=None, ratio=1.0))\n",
    "plt.plot(significance_levels, results)"
   ]
  },
  {
   "cell_type": "markdown",
   "metadata": {
    "colab_type": "text",
    "id": "tkf74qmRG4Ke"
   },
   "source": [
    "## Computing Statistical Power for a Real Data Set\n",
    "\n",
    "Yesterday afternoon, you conducted a t-test on the titanic data set to determine whether there was a significant difference between the average age of passengers who survived and those who did not survive. In this section, compute the statistical power of that test."
   ]
  },
  {
   "cell_type": "markdown",
   "metadata": {
    "colab_type": "text",
    "id": "KzYOXFNuG4Kf"
   },
   "source": [
    "### Import the data, and drop rows where `'Age'` is NA."
   ]
  },
  {
   "cell_type": "code",
   "execution_count": 37,
   "metadata": {
    "colab": {},
    "colab_type": "code",
    "id": "W3C_d3s_FDR8"
   },
   "outputs": [
    {
     "data": {
      "text/html": [
       "<div>\n",
       "<style scoped>\n",
       "    .dataframe tbody tr th:only-of-type {\n",
       "        vertical-align: middle;\n",
       "    }\n",
       "\n",
       "    .dataframe tbody tr th {\n",
       "        vertical-align: top;\n",
       "    }\n",
       "\n",
       "    .dataframe thead th {\n",
       "        text-align: right;\n",
       "    }\n",
       "</style>\n",
       "<table border=\"1\" class=\"dataframe\">\n",
       "  <thead>\n",
       "    <tr style=\"text-align: right;\">\n",
       "      <th></th>\n",
       "      <th>PassengerId</th>\n",
       "      <th>Survived</th>\n",
       "      <th>Pclass</th>\n",
       "      <th>Name</th>\n",
       "      <th>Sex</th>\n",
       "      <th>Age</th>\n",
       "      <th>SibSp</th>\n",
       "      <th>Parch</th>\n",
       "      <th>Ticket</th>\n",
       "      <th>Fare</th>\n",
       "      <th>Cabin</th>\n",
       "      <th>Embarked</th>\n",
       "    </tr>\n",
       "  </thead>\n",
       "  <tbody>\n",
       "    <tr>\n",
       "      <th>0</th>\n",
       "      <td>1</td>\n",
       "      <td>0</td>\n",
       "      <td>3</td>\n",
       "      <td>Braund, Mr. Owen Harris</td>\n",
       "      <td>male</td>\n",
       "      <td>22.0</td>\n",
       "      <td>1</td>\n",
       "      <td>0</td>\n",
       "      <td>A/5 21171</td>\n",
       "      <td>7.2500</td>\n",
       "      <td>NaN</td>\n",
       "      <td>S</td>\n",
       "    </tr>\n",
       "    <tr>\n",
       "      <th>1</th>\n",
       "      <td>2</td>\n",
       "      <td>1</td>\n",
       "      <td>1</td>\n",
       "      <td>Cumings, Mrs. John Bradley (Florence Briggs Th...</td>\n",
       "      <td>female</td>\n",
       "      <td>38.0</td>\n",
       "      <td>1</td>\n",
       "      <td>0</td>\n",
       "      <td>PC 17599</td>\n",
       "      <td>71.2833</td>\n",
       "      <td>C85</td>\n",
       "      <td>C</td>\n",
       "    </tr>\n",
       "    <tr>\n",
       "      <th>2</th>\n",
       "      <td>3</td>\n",
       "      <td>1</td>\n",
       "      <td>3</td>\n",
       "      <td>Heikkinen, Miss. Laina</td>\n",
       "      <td>female</td>\n",
       "      <td>26.0</td>\n",
       "      <td>0</td>\n",
       "      <td>0</td>\n",
       "      <td>STON/O2. 3101282</td>\n",
       "      <td>7.9250</td>\n",
       "      <td>NaN</td>\n",
       "      <td>S</td>\n",
       "    </tr>\n",
       "    <tr>\n",
       "      <th>3</th>\n",
       "      <td>4</td>\n",
       "      <td>1</td>\n",
       "      <td>1</td>\n",
       "      <td>Futrelle, Mrs. Jacques Heath (Lily May Peel)</td>\n",
       "      <td>female</td>\n",
       "      <td>35.0</td>\n",
       "      <td>1</td>\n",
       "      <td>0</td>\n",
       "      <td>113803</td>\n",
       "      <td>53.1000</td>\n",
       "      <td>C123</td>\n",
       "      <td>S</td>\n",
       "    </tr>\n",
       "    <tr>\n",
       "      <th>4</th>\n",
       "      <td>5</td>\n",
       "      <td>0</td>\n",
       "      <td>3</td>\n",
       "      <td>Allen, Mr. William Henry</td>\n",
       "      <td>male</td>\n",
       "      <td>35.0</td>\n",
       "      <td>0</td>\n",
       "      <td>0</td>\n",
       "      <td>373450</td>\n",
       "      <td>8.0500</td>\n",
       "      <td>NaN</td>\n",
       "      <td>S</td>\n",
       "    </tr>\n",
       "  </tbody>\n",
       "</table>\n",
       "</div>"
      ],
      "text/plain": [
       "   PassengerId  Survived  Pclass  \\\n",
       "0            1         0       3   \n",
       "1            2         1       1   \n",
       "2            3         1       3   \n",
       "3            4         1       1   \n",
       "4            5         0       3   \n",
       "\n",
       "                                                Name     Sex   Age  SibSp  \\\n",
       "0                            Braund, Mr. Owen Harris    male  22.0      1   \n",
       "1  Cumings, Mrs. John Bradley (Florence Briggs Th...  female  38.0      1   \n",
       "2                             Heikkinen, Miss. Laina  female  26.0      0   \n",
       "3       Futrelle, Mrs. Jacques Heath (Lily May Peel)  female  35.0      1   \n",
       "4                           Allen, Mr. William Henry    male  35.0      0   \n",
       "\n",
       "   Parch            Ticket     Fare Cabin Embarked  \n",
       "0      0         A/5 21171   7.2500   NaN        S  \n",
       "1      0          PC 17599  71.2833   C85        C  \n",
       "2      0  STON/O2. 3101282   7.9250   NaN        S  \n",
       "3      0            113803  53.1000  C123        S  \n",
       "4      0            373450   8.0500   NaN        S  "
      ]
     },
     "execution_count": 37,
     "metadata": {},
     "output_type": "execute_result"
    }
   ],
   "source": [
    "data_url = 'https://tf-assets-prod.s3.amazonaws.com/tf-curric/data-science/titanic.csv'\n",
    "df = pd.read_csv(data_url)\n",
    "df.head()"
   ]
  },
  {
   "cell_type": "code",
   "execution_count": 54,
   "metadata": {
    "colab": {},
    "colab_type": "code",
    "id": "s0aP3nZAG4Kg"
   },
   "outputs": [],
   "source": [
    "df = df.dropna()\n",
    "df_survived = df.loc[df['Survived'] == 1]\n",
    "df_not_survived = df.loc[df['Survived'] == 0]"
   ]
  },
  {
   "cell_type": "markdown",
   "metadata": {
    "colab_type": "text",
    "id": "QbnH4zT6G4Km"
   },
   "source": [
    "### Summarize the number of observations and average age per group."
   ]
  },
  {
   "cell_type": "code",
   "execution_count": 57,
   "metadata": {
    "colab": {},
    "colab_type": "code",
    "id": "IoEmT1hoG4Ko"
   },
   "outputs": [],
   "source": [
    "n_obs1 = len(df_not_survived['Age'])\n",
    "n_obs2 = len(df_survived['Age'])\n",
    "mean_of_sample1 = df_not_survived['Age'].mean()\n",
    "mean_of_sample2 = df_survived['Age'].mean()\n",
    "\n",
    "var1 = df_not_survived['Age'].var()\n",
    "var2 = df_survived['Age'].var()"
   ]
  },
  {
   "cell_type": "markdown",
   "metadata": {
    "colab_type": "text",
    "id": "DigcDVUWG4Ks"
   },
   "source": [
    "### Perform t-test."
   ]
  },
  {
   "cell_type": "code",
   "execution_count": 58,
   "metadata": {
    "colab": {},
    "colab_type": "code",
    "id": "oaMDD4mUG4Ku"
   },
   "outputs": [
    {
     "data": {
      "text/plain": [
       "Ttest_indResult(statistic=3.53435125095576, pvalue=0.0005189503307881672)"
      ]
     },
     "execution_count": 58,
     "metadata": {},
     "output_type": "execute_result"
    }
   ],
   "source": [
    "stats.ttest_ind(df_not_survived['Age'],df_survived['Age'])"
   ]
  },
  {
   "cell_type": "markdown",
   "metadata": {
    "colab_type": "text",
    "id": "-JdTMpd6G4K1"
   },
   "source": [
    "### Calculate the Effect Size\n",
    "\n",
    "Effect size can be calculated by using a formula known as Cohen's d, which divides the difference in means between the two groups by their pooled standard deviation.\n",
    "\n",
    "`effect_size = (mean_of_sample1 - mean_of_sample2) / pooled_stdev`\n",
    "\n",
    "The pooled standard deviation in the denominator can be derived as follows.\n",
    "\n",
    "`pooled_stdev = sqrt(((n_obs1 - 1) * var1 + (n_obs2 - 1) * var2) / (n_obs1 + n_obs2 - 2))`\n",
    "\n",
    "Where `n_obs` is the number of observations and `var` is the variance of each sample.\n",
    "\n",
    "**Write the code below to calculate the effect size for this test.**"
   ]
  },
  {
   "cell_type": "code",
   "execution_count": 62,
   "metadata": {
    "colab": {},
    "colab_type": "code",
    "id": "MHv8oUu4G4K3"
   },
   "outputs": [
    {
     "data": {
      "text/plain": [
       "0.5565536974630488"
      ]
     },
     "execution_count": 62,
     "metadata": {},
     "output_type": "execute_result"
    }
   ],
   "source": [
    "pooled_stdev = math.sqrt(((n_obs1 - 1) * var1 + (n_obs2 - 1) * var2) / (n_obs1 + n_obs2 - 2))\n",
    "effect_size = (mean_of_sample1 - mean_of_sample2) / pooled_stdev\n",
    "ratio = n_obs2/n_obs1\n",
    "effect_size"
   ]
  },
  {
   "cell_type": "markdown",
   "metadata": {
    "colab_type": "text",
    "id": "fOFD5TzxG4LA"
   },
   "source": [
    "**Use the effect size you calculated to compute the statistical power of this test.**"
   ]
  },
  {
   "cell_type": "code",
   "execution_count": 60,
   "metadata": {
    "colab": {},
    "colab_type": "code",
    "id": "IPhO1sDYG4LC"
   },
   "outputs": [
    {
     "data": {
      "text/plain": [
       "0.9400951377841825"
      ]
     },
     "execution_count": 60,
     "metadata": {},
     "output_type": "execute_result"
    }
   ],
   "source": [
    "analysis.solve_power(effect_size=effect_size, nobs1=n_obs1, alpha=0.05, power=None, ratio=ratio)"
   ]
  },
  {
   "cell_type": "markdown",
   "metadata": {
    "colab_type": "text",
    "id": "cIW3XdbLG4LI"
   },
   "source": [
    "**Determine the effect size we would need to see to get a statistical power of 0.8.**"
   ]
  },
  {
   "cell_type": "code",
   "execution_count": 61,
   "metadata": {
    "colab": {},
    "colab_type": "code",
    "id": "fOb9oFJ2G4LK"
   },
   "outputs": [
    {
     "data": {
      "text/plain": [
       "0.4435226492804944"
      ]
     },
     "execution_count": 61,
     "metadata": {},
     "output_type": "execute_result"
    }
   ],
   "source": [
    "analysis.solve_power(effect_size=None, nobs1=n_obs1, alpha=0.05, power=0.8, ratio=ratio)"
   ]
  },
  {
   "cell_type": "markdown",
   "metadata": {
    "colab_type": "text",
    "id": "kcZu7cPJG4LQ"
   },
   "source": [
    "**Determine the sample size necessary to get a statistical power of 0.8.**"
   ]
  },
  {
   "cell_type": "code",
   "execution_count": 66,
   "metadata": {
    "colab": {},
    "colab_type": "code",
    "id": "830JBqsmG4LR"
   },
   "outputs": [
    {
     "data": {
      "text/plain": [
       "39"
      ]
     },
     "execution_count": 66,
     "metadata": {},
     "output_type": "execute_result"
    }
   ],
   "source": [
    "sample_size = analysis.solve_power(effect_size=effect_size, nobs1=None, alpha=0.05, power=0.8, ratio=ratio)\n",
    "math.ceil(sample_size)"
   ]
  },
  {
   "cell_type": "markdown",
   "metadata": {
    "colab_type": "text",
    "id": "XdUZfjwrG4LX"
   },
   "source": [
    "**Generate a visualization that shows the significance level we would need to get a statistical power of 0.8.**"
   ]
  },
  {
   "cell_type": "code",
   "execution_count": 78,
   "metadata": {
    "colab": {},
    "colab_type": "code",
    "id": "q1FgfzqNG4LZ"
   },
   "outputs": [
    {
     "data": {
      "text/plain": [
       "0.00785621360820275"
      ]
     },
     "execution_count": 78,
     "metadata": {},
     "output_type": "execute_result"
    },
    {
     "data": {
      "image/png": "[encoded data removed]",
      "text/plain": [
       "<Figure size 432x288 with 1 Axes>"
      ]
     },
     "metadata": {
      "needs_background": "light"
     },
     "output_type": "display_data"
    }
   ],
   "source": [
    "results = []\n",
    "significance_levels = pd.Series(range(1,50))\n",
    "significance_levels = significance_levels/1000\n",
    "for i in significance_levels:\n",
    "    results.append(analysis.solve_power(effect_size=effect_size, nobs1=n_obs1, alpha=i, power=None, ratio=ratio))\n",
    "plt.plot(significance_levels, results)\n",
    "a = analysis.solve_power(effect_size=effect_size, nobs1=n_obs1, alpha=None, power=0.8, ratio=ratio)\n",
    "plt.axvline(a, color='r')\n",
    "a"
   ]
  },
  {
   "cell_type": "code",
   "execution_count": null,
   "metadata": {},
   "outputs": [],
   "source": []
  }
 ],
 "metadata": {
  "colab": {
   "collapsed_sections": [],
   "name": "Day 12 Lecture 2 Assignment.ipynb",
   "provenance": []
  },
  "kernelspec": {
   "display_name": "Python 3",
   "language": "python",
   "name": "python3"
  },
  "language_info": {
   "codemirror_mode": {
    "name": "ipython",
    "version": 3
   },
   "file_extension": ".py",
   "mimetype": "text/x-python",
   "name": "python",
   "nbconvert_exporter": "python",
   "pygments_lexer": "ipython3",
   "version": "3.8.3"
  }
 },
 "nbformat": 4,
 "nbformat_minor": 1
}
