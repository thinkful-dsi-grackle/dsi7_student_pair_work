{
  "nbformat": 4,
  "nbformat_minor": 0,
  "metadata": {
    "kernelspec": {
      "display_name": "Python 3",
      "language": "python",
      "name": "python3"
    },
    "language_info": {
      "codemirror_mode": {
        "name": "ipython",
        "version": 3
      },
      "file_extension": ".py",
      "mimetype": "text/x-python",
      "name": "python",
      "nbconvert_exporter": "python",
      "pygments_lexer": "ipython3",
      "version": "3.7.6"
    },
    "colab": {
      "name": "day_12_Lecture_1_Assignment_barrett_shontelle.ipynb",
      "provenance": [],
      "collapsed_sections": []
    }
  },
  "cells": [
    {
      "cell_type": "markdown",
      "metadata": {
        "id": "xbQmIT32i852",
        "colab_type": "text"
      },
      "source": [
        "# A/B Testing Assignment"
      ]
    },
    {
      "cell_type": "code",
      "metadata": {
        "id": "G4kIlwTSi853",
        "colab_type": "code",
        "colab": {}
      },
      "source": [
        "import numpy as np\n",
        "import pandas as pd\n",
        "from scipy import stats\n",
        "import seaborn as sns\n",
        "import matplotlib.pyplot as plt\n",
        "import math"
      ],
      "execution_count": 113,
      "outputs": []
    },
    {
      "cell_type": "markdown",
      "metadata": {
        "id": "z7BJAQoti86B",
        "colab_type": "text"
      },
      "source": [
        "### Import the [Absenteeism at Work data set](https://tf-assets-prod.s3.amazonaws.com/tf-curric/data-science/Absenteeism_at_work.csv). \n",
        "\n",
        "**Note:** The the delimiter of the file is a semi-colon (;), so you will need to set `sep=';`."
      ]
    },
    {
      "cell_type": "code",
      "metadata": {
        "id": "uYcAlPGIi86C",
        "colab_type": "code",
        "colab": {
          "base_uri": "https://localhost:8080/",
          "height": 751
        },
        "outputId": "6b897aee-c206-4b79-9f5b-57688d6bdacb"
      },
      "source": [
        "df_absentee = pd.read_csv('https://tf-assets-prod.s3.amazonaws.com/tf-curric/data-science/Absenteeism_at_work.csv', sep=';')\n",
        "\n",
        "df_absentee.info()\n",
        "\n",
        "df_absentee.head()"
      ],
      "execution_count": 114,
      "outputs": [
        {
          "output_type": "stream",
          "text": [
            "<class 'pandas.core.frame.DataFrame'>\n",
            "RangeIndex: 740 entries, 0 to 739\n",
            "Data columns (total 21 columns):\n",
            " #   Column                           Non-Null Count  Dtype  \n",
            "---  ------                           --------------  -----  \n",
            " 0   ID                               740 non-null    int64  \n",
            " 1   Reason for absence               740 non-null    int64  \n",
            " 2   Month of absence                 740 non-null    int64  \n",
            " 3   Day of the week                  740 non-null    int64  \n",
            " 4   Seasons                          740 non-null    int64  \n",
            " 5   Transportation expense           740 non-null    int64  \n",
            " 6   Distance from Residence to Work  740 non-null    int64  \n",
            " 7   Service time                     740 non-null    int64  \n",
            " 8   Age                              740 non-null    int64  \n",
            " 9   Work load Average/day            740 non-null    float64\n",
            " 10  Hit target                       740 non-null    int64  \n",
            " 11  Disciplinary failure             740 non-null    int64  \n",
            " 12  Education                        740 non-null    int64  \n",
            " 13  Son                              740 non-null    int64  \n",
            " 14  Social drinker                   740 non-null    int64  \n",
            " 15  Social smoker                    740 non-null    int64  \n",
            " 16  Pet                              740 non-null    int64  \n",
            " 17  Weight                           740 non-null    int64  \n",
            " 18  Height                           740 non-null    int64  \n",
            " 19  Body mass index                  740 non-null    int64  \n",
            " 20  Absenteeism time in hours        740 non-null    int64  \n",
            "dtypes: float64(1), int64(20)\n",
            "memory usage: 121.5 KB\n"
          ],
          "name": "stdout"
        },
        {
          "output_type": "execute_result",
          "data": {
            "text/html": [
              "<div>\n",
              "<style scoped>\n",
              "    .dataframe tbody tr th:only-of-type {\n",
              "        vertical-align: middle;\n",
              "    }\n",
              "\n",
              "    .dataframe tbody tr th {\n",
              "        vertical-align: top;\n",
              "    }\n",
              "\n",
              "    .dataframe thead th {\n",
              "        text-align: right;\n",
              "    }\n",
              "</style>\n",
              "<table border=\"1\" class=\"dataframe\">\n",
              "  <thead>\n",
              "    <tr style=\"text-align: right;\">\n",
              "      <th></th>\n",
              "      <th>ID</th>\n",
              "      <th>Reason for absence</th>\n",
              "      <th>Month of absence</th>\n",
              "      <th>Day of the week</th>\n",
              "      <th>Seasons</th>\n",
              "      <th>Transportation expense</th>\n",
              "      <th>Distance from Residence to Work</th>\n",
              "      <th>Service time</th>\n",
              "      <th>Age</th>\n",
              "      <th>Work load Average/day</th>\n",
              "      <th>Hit target</th>\n",
              "      <th>Disciplinary failure</th>\n",
              "      <th>Education</th>\n",
              "      <th>Son</th>\n",
              "      <th>Social drinker</th>\n",
              "      <th>Social smoker</th>\n",
              "      <th>Pet</th>\n",
              "      <th>Weight</th>\n",
              "      <th>Height</th>\n",
              "      <th>Body mass index</th>\n",
              "      <th>Absenteeism time in hours</th>\n",
              "    </tr>\n",
              "  </thead>\n",
              "  <tbody>\n",
              "    <tr>\n",
              "      <th>0</th>\n",
              "      <td>11</td>\n",
              "      <td>26</td>\n",
              "      <td>7</td>\n",
              "      <td>3</td>\n",
              "      <td>1</td>\n",
              "      <td>289</td>\n",
              "      <td>36</td>\n",
              "      <td>13</td>\n",
              "      <td>33</td>\n",
              "      <td>239.554</td>\n",
              "      <td>97</td>\n",
              "      <td>0</td>\n",
              "      <td>1</td>\n",
              "      <td>2</td>\n",
              "      <td>1</td>\n",
              "      <td>0</td>\n",
              "      <td>1</td>\n",
              "      <td>90</td>\n",
              "      <td>172</td>\n",
              "      <td>30</td>\n",
              "      <td>4</td>\n",
              "    </tr>\n",
              "    <tr>\n",
              "      <th>1</th>\n",
              "      <td>36</td>\n",
              "      <td>0</td>\n",
              "      <td>7</td>\n",
              "      <td>3</td>\n",
              "      <td>1</td>\n",
              "      <td>118</td>\n",
              "      <td>13</td>\n",
              "      <td>18</td>\n",
              "      <td>50</td>\n",
              "      <td>239.554</td>\n",
              "      <td>97</td>\n",
              "      <td>1</td>\n",
              "      <td>1</td>\n",
              "      <td>1</td>\n",
              "      <td>1</td>\n",
              "      <td>0</td>\n",
              "      <td>0</td>\n",
              "      <td>98</td>\n",
              "      <td>178</td>\n",
              "      <td>31</td>\n",
              "      <td>0</td>\n",
              "    </tr>\n",
              "    <tr>\n",
              "      <th>2</th>\n",
              "      <td>3</td>\n",
              "      <td>23</td>\n",
              "      <td>7</td>\n",
              "      <td>4</td>\n",
              "      <td>1</td>\n",
              "      <td>179</td>\n",
              "      <td>51</td>\n",
              "      <td>18</td>\n",
              "      <td>38</td>\n",
              "      <td>239.554</td>\n",
              "      <td>97</td>\n",
              "      <td>0</td>\n",
              "      <td>1</td>\n",
              "      <td>0</td>\n",
              "      <td>1</td>\n",
              "      <td>0</td>\n",
              "      <td>0</td>\n",
              "      <td>89</td>\n",
              "      <td>170</td>\n",
              "      <td>31</td>\n",
              "      <td>2</td>\n",
              "    </tr>\n",
              "    <tr>\n",
              "      <th>3</th>\n",
              "      <td>7</td>\n",
              "      <td>7</td>\n",
              "      <td>7</td>\n",
              "      <td>5</td>\n",
              "      <td>1</td>\n",
              "      <td>279</td>\n",
              "      <td>5</td>\n",
              "      <td>14</td>\n",
              "      <td>39</td>\n",
              "      <td>239.554</td>\n",
              "      <td>97</td>\n",
              "      <td>0</td>\n",
              "      <td>1</td>\n",
              "      <td>2</td>\n",
              "      <td>1</td>\n",
              "      <td>1</td>\n",
              "      <td>0</td>\n",
              "      <td>68</td>\n",
              "      <td>168</td>\n",
              "      <td>24</td>\n",
              "      <td>4</td>\n",
              "    </tr>\n",
              "    <tr>\n",
              "      <th>4</th>\n",
              "      <td>11</td>\n",
              "      <td>23</td>\n",
              "      <td>7</td>\n",
              "      <td>5</td>\n",
              "      <td>1</td>\n",
              "      <td>289</td>\n",
              "      <td>36</td>\n",
              "      <td>13</td>\n",
              "      <td>33</td>\n",
              "      <td>239.554</td>\n",
              "      <td>97</td>\n",
              "      <td>0</td>\n",
              "      <td>1</td>\n",
              "      <td>2</td>\n",
              "      <td>1</td>\n",
              "      <td>0</td>\n",
              "      <td>1</td>\n",
              "      <td>90</td>\n",
              "      <td>172</td>\n",
              "      <td>30</td>\n",
              "      <td>2</td>\n",
              "    </tr>\n",
              "  </tbody>\n",
              "</table>\n",
              "</div>"
            ],
            "text/plain": [
              "   ID  Reason for absence  ...  Body mass index  Absenteeism time in hours\n",
              "0  11                  26  ...               30                          4\n",
              "1  36                   0  ...               31                          0\n",
              "2   3                  23  ...               31                          2\n",
              "3   7                   7  ...               24                          4\n",
              "4  11                  23  ...               30                          2\n",
              "\n",
              "[5 rows x 21 columns]"
            ]
          },
          "metadata": {
            "tags": []
          },
          "execution_count": 114
        }
      ]
    },
    {
      "cell_type": "markdown",
      "metadata": {
        "id": "r9Rvh7dpi86F",
        "colab_type": "text"
      },
      "source": [
        "## Confidence Intervals\n",
        "\n",
        "Suppose this company is analyzing the health of its employees and is specifically interested in their Body Mass Index (BMI). Generate a 95% confidence interval of the mean for that field."
      ]
    },
    {
      "cell_type": "code",
      "metadata": {
        "id": "lQhKy1WrVnEs",
        "colab_type": "code",
        "colab": {
          "base_uri": "https://localhost:8080/",
          "height": 34
        },
        "outputId": "0cf0c71c-11b1-4f67-a4b2-9b6bd70c5cb0"
      },
      "source": [
        "ci_lower, ci_upper = st.t.interval(0.95, len(df_absentee['Body mass index'])-1, loc=df_absentee['Body mass index'].mean(), scale=stats.sem(df_absentee['Body mass index']))\n",
        "\n",
        "ci_lower, ci_upper"
      ],
      "execution_count": 115,
      "outputs": [
        {
          "output_type": "execute_result",
          "data": {
            "text/plain": [
              "(26.367754917159168, 26.986299136894885)"
            ]
          },
          "metadata": {
            "tags": []
          },
          "execution_count": 115
        }
      ]
    },
    {
      "cell_type": "code",
      "metadata": {
        "id": "ntFGGCc3i86G",
        "colab_type": "code",
        "colab": {
          "base_uri": "https://localhost:8080/",
          "height": 34
        },
        "outputId": "3d3308af-3889-4bca-de93-84bb85143a4e"
      },
      "source": [
        "import statsmodels.stats.api as sms\n",
        "\n",
        "sms.DescrStatsW(df_absentee['Body mass index']).tconfint_mean()"
      ],
      "execution_count": 116,
      "outputs": [
        {
          "output_type": "execute_result",
          "data": {
            "text/plain": [
              "(26.367754917159168, 26.986299136894885)"
            ]
          },
          "metadata": {
            "tags": []
          },
          "execution_count": 116
        }
      ]
    },
    {
      "cell_type": "code",
      "metadata": {
        "id": "Tf5QDpIZKE_Q",
        "colab_type": "code",
        "colab": {}
      },
      "source": [
        "def get_95_ci(array_1):\n",
        "  sample_1_n = array_1.shape[0]\n",
        "  sample_1_mean = array_1.mean()\n",
        "  sample_1_var = array_1.var()\n",
        "  se_diff = math.sqrt((sample_1_var/sample_1_n))\n",
        "  ci_lower = sample_1_mean - (1.96*se_diff)\n",
        "  ci_upper = sample_1_mean + (1.96*se_diff)\n",
        "  return (ci_lower, ci_upper)"
      ],
      "execution_count": 117,
      "outputs": []
    },
    {
      "cell_type": "code",
      "metadata": {
        "id": "Y54OKxMqUpD2",
        "colab_type": "code",
        "colab": {
          "base_uri": "https://localhost:8080/",
          "height": 34
        },
        "outputId": "f021d9d1-fb96-48c9-e225-aa8149cfa64e"
      },
      "source": [
        "get_95_ci(df_absentee['Body mass index'])"
      ],
      "execution_count": 118,
      "outputs": [
        {
          "output_type": "execute_result",
          "data": {
            "text/plain": [
              "(26.36825576762484, 26.985798286429212)"
            ]
          },
          "metadata": {
            "tags": []
          },
          "execution_count": 118
        }
      ]
    },
    {
      "cell_type": "markdown",
      "metadata": {
        "id": "wOnN7cu6i86J",
        "colab_type": "text"
      },
      "source": [
        "### Visualizing Confidence Intervals\n",
        "\n",
        "Generate a sampling distribution of the mean for the Body Mass Index field. Create a histogram to visualize the sampling distribution and add an indicator showing the lower and upper bounds of the confidence interval."
      ]
    },
    {
      "cell_type": "code",
      "metadata": {
        "id": "1yl9mJlyZmze",
        "colab_type": "code",
        "colab": {}
      },
      "source": [
        "#observations should be the sample size from the data set\n",
        "def get_mean_samples(data, observations=740, samples=10000, replace=True, label='means'):\n",
        "  return pd.Series([data.sample(observations, replace=replace).mean() for i in range(samples)])"
      ],
      "execution_count": 143,
      "outputs": []
    },
    {
      "cell_type": "code",
      "metadata": {
        "id": "XNvV6Nq9ZDeO",
        "colab_type": "code",
        "colab": {}
      },
      "source": [
        "bmi_mean_samples = get_mean_samples(df_absentee['Body mass index'])"
      ],
      "execution_count": 141,
      "outputs": []
    },
    {
      "cell_type": "code",
      "metadata": {
        "id": "1DpSZ6h0i86J",
        "colab_type": "code",
        "colab": {
          "base_uri": "https://localhost:8080/",
          "height": 374
        },
        "outputId": "be44d891-5138-4f7f-8a3b-60d5bf4cb0c1"
      },
      "source": [
        "plt.figure(figsize=(14,6))\n",
        "sns.distplot(bmi_mean_samples)\n",
        "plt.axvline(x=bmi_mean_samples.mean(), ls='solid', c='r')\n",
        "plt.axvline(x=ci_min, ls='dashed', c='r')\n",
        "plt.axvline(x=ci_max, ls='dashed', c='r')\n",
        "plt.show()"
      ],
      "execution_count": 142,
      "outputs": [
        {
          "output_type": "display_data",
          "data": {
            "image/png": "[encoded data removed]",
            "text/plain": [
              "<Figure size 1008x432 with 1 Axes>"
            ]
          },
          "metadata": {
            "tags": [],
            "needs_background": "light"
          }
        }
      ]
    },
    {
      "cell_type": "markdown",
      "metadata": {
        "id": "5ACmvwkoi86N",
        "colab_type": "text"
      },
      "source": [
        "### Confidence Intervals by Group\n",
        "\n",
        "Suppose we wanted to examine whether there was a difference in the BMIs of employees who drink socially and those that do not. Use the Social Drinker field to split the employees into groups, and then compute the confidence intervals for each group. What insights can you derive from the results?"
      ]
    },
    {
      "cell_type": "code",
      "metadata": {
        "id": "qKzAdaqJi86O",
        "colab_type": "code",
        "colab": {
          "base_uri": "https://localhost:8080/",
          "height": 493
        },
        "outputId": "d37e8c4e-1222-4660-8116-2d8b095bc298"
      },
      "source": [
        "bmi_social_yes = df_absentee[(df_absentee['Social drinker']==1)]\n",
        "bmi_social_yes.info()"
      ],
      "execution_count": 122,
      "outputs": [
        {
          "output_type": "stream",
          "text": [
            "<class 'pandas.core.frame.DataFrame'>\n",
            "Int64Index: 420 entries, 0 to 738\n",
            "Data columns (total 21 columns):\n",
            " #   Column                           Non-Null Count  Dtype  \n",
            "---  ------                           --------------  -----  \n",
            " 0   ID                               420 non-null    int64  \n",
            " 1   Reason for absence               420 non-null    int64  \n",
            " 2   Month of absence                 420 non-null    int64  \n",
            " 3   Day of the week                  420 non-null    int64  \n",
            " 4   Seasons                          420 non-null    int64  \n",
            " 5   Transportation expense           420 non-null    int64  \n",
            " 6   Distance from Residence to Work  420 non-null    int64  \n",
            " 7   Service time                     420 non-null    int64  \n",
            " 8   Age                              420 non-null    int64  \n",
            " 9   Work load Average/day            420 non-null    float64\n",
            " 10  Hit target                       420 non-null    int64  \n",
            " 11  Disciplinary failure             420 non-null    int64  \n",
            " 12  Education                        420 non-null    int64  \n",
            " 13  Son                              420 non-null    int64  \n",
            " 14  Social drinker                   420 non-null    int64  \n",
            " 15  Social smoker                    420 non-null    int64  \n",
            " 16  Pet                              420 non-null    int64  \n",
            " 17  Weight                           420 non-null    int64  \n",
            " 18  Height                           420 non-null    int64  \n",
            " 19  Body mass index                  420 non-null    int64  \n",
            " 20  Absenteeism time in hours        420 non-null    int64  \n",
            "dtypes: float64(1), int64(20)\n",
            "memory usage: 72.2 KB\n"
          ],
          "name": "stdout"
        }
      ]
    },
    {
      "cell_type": "code",
      "metadata": {
        "id": "NjbTb0jAdHxs",
        "colab_type": "code",
        "colab": {
          "base_uri": "https://localhost:8080/",
          "height": 493
        },
        "outputId": "27685079-111a-46be-f91c-61ddce8d72b6"
      },
      "source": [
        "bmi_social_no = df_absentee[(df_absentee['Social drinker']==0)]\n",
        "bmi_social_no.info()"
      ],
      "execution_count": 123,
      "outputs": [
        {
          "output_type": "stream",
          "text": [
            "<class 'pandas.core.frame.DataFrame'>\n",
            "Int64Index: 320 entries, 9 to 739\n",
            "Data columns (total 21 columns):\n",
            " #   Column                           Non-Null Count  Dtype  \n",
            "---  ------                           --------------  -----  \n",
            " 0   ID                               320 non-null    int64  \n",
            " 1   Reason for absence               320 non-null    int64  \n",
            " 2   Month of absence                 320 non-null    int64  \n",
            " 3   Day of the week                  320 non-null    int64  \n",
            " 4   Seasons                          320 non-null    int64  \n",
            " 5   Transportation expense           320 non-null    int64  \n",
            " 6   Distance from Residence to Work  320 non-null    int64  \n",
            " 7   Service time                     320 non-null    int64  \n",
            " 8   Age                              320 non-null    int64  \n",
            " 9   Work load Average/day            320 non-null    float64\n",
            " 10  Hit target                       320 non-null    int64  \n",
            " 11  Disciplinary failure             320 non-null    int64  \n",
            " 12  Education                        320 non-null    int64  \n",
            " 13  Son                              320 non-null    int64  \n",
            " 14  Social drinker                   320 non-null    int64  \n",
            " 15  Social smoker                    320 non-null    int64  \n",
            " 16  Pet                              320 non-null    int64  \n",
            " 17  Weight                           320 non-null    int64  \n",
            " 18  Height                           320 non-null    int64  \n",
            " 19  Body mass index                  320 non-null    int64  \n",
            " 20  Absenteeism time in hours        320 non-null    int64  \n",
            "dtypes: float64(1), int64(20)\n",
            "memory usage: 55.0 KB\n"
          ],
          "name": "stdout"
        }
      ]
    },
    {
      "cell_type": "code",
      "metadata": {
        "id": "mT1yaQdofQhg",
        "colab_type": "code",
        "colab": {
          "base_uri": "https://localhost:8080/",
          "height": 34
        },
        "outputId": "b011e74e-ac2e-421e-8df1-37fbffcea256"
      },
      "source": [
        "yes_bmi = bmi_social_yes['Body mass index']\n",
        "yes_ci_lower, yes_ci_upper = st.t.interval(0.95, len(yes_bmi)-1, loc=yes_bmi.mean(), scale=stats.sem(yes_bmi))\n",
        "yes_ci_lower, yes_ci_upper"
      ],
      "execution_count": 124,
      "outputs": [
        {
          "output_type": "execute_result",
          "data": {
            "text/plain": [
              "(27.49904991718434, 28.27714055900614)"
            ]
          },
          "metadata": {
            "tags": []
          },
          "execution_count": 124
        }
      ]
    },
    {
      "cell_type": "code",
      "metadata": {
        "id": "c9-Ohz_gdefW",
        "colab_type": "code",
        "colab": {
          "base_uri": "https://localhost:8080/",
          "height": 34
        },
        "outputId": "748ecc16-b5da-476e-9232-cf455c9a60f5"
      },
      "source": [
        "no_bmi = bmi_social_no['Body mass index']\n",
        "no_ci_lower, no_ci_upper = st.t.interval(0.95, len(no_bmi)-1, loc=no_bmi.mean(), scale=stats.sem(no_bmi))\n",
        "no_ci_lower, no_ci_upper"
      ],
      "execution_count": 125,
      "outputs": [
        {
          "output_type": "execute_result",
          "data": {
            "text/plain": [
              "(24.641171070136533, 25.533828929863464)"
            ]
          },
          "metadata": {
            "tags": []
          },
          "execution_count": 125
        }
      ]
    },
    {
      "cell_type": "markdown",
      "metadata": {
        "id": "BQPEOL7V9Xo2",
        "colab_type": "text"
      },
      "source": [
        "The confidence intervals for the two groups do not overlap. So, we can probably assume that the null hypothesis is false. "
      ]
    },
    {
      "cell_type": "markdown",
      "metadata": {
        "id": "jTrcDrsmi86Q",
        "colab_type": "text"
      },
      "source": [
        "### Sampling Distributions for Each Group\n",
        "\n",
        "Next, let's generate a sampling distribution of the mean for each group and generate a plot containing both of their histograms to see if there is any overlap."
      ]
    },
    {
      "cell_type": "code",
      "metadata": {
        "id": "foR7kDCbi86R",
        "colab_type": "code",
        "colab": {}
      },
      "source": [
        "mean_samples_bmi_sd_yes = get_mean_samples(bmi_social_yes['Body mass index'], observations=420)\n",
        "mean_samples_bmi_sd_no = get_mean_samples(bmi_social_no['Body mass index'], observations=320)"
      ],
      "execution_count": 126,
      "outputs": []
    },
    {
      "cell_type": "code",
      "metadata": {
        "id": "txewmYXoeNg1",
        "colab_type": "code",
        "colab": {
          "base_uri": "https://localhost:8080/",
          "height": 0
        },
        "outputId": "250821f7-0093-4d20-86bd-04492b5f995e"
      },
      "source": [
        "plt.figure(figsize=(14,6))\n",
        "sns.distplot(mean_samples_bmi_sd_yes, color= 'orange', label='bmi social yes')\n",
        "sns.distplot(mean_samples_bmi_sd_no, color= 'blue', label='bmi social no')\n",
        "plt.axvline(x= yes_ci_lower, c='r', ls='dashed')\n",
        "plt.axvline(x= yes_ci_upper, c='r', ls='dashed')\n",
        "plt.axvline(x= no_ci_lower, c='r', ls='dashed')\n",
        "plt.axvline(x= no_ci_upper, c='r', ls='dashed')\n",
        "plt.legend()\n",
        "plt.show()"
      ],
      "execution_count": 127,
      "outputs": [
        {
          "output_type": "display_data",
          "data": {
            "image/png": "[encoded data removed]",
            "text/plain": [
              "<Figure size 1008x432 with 1 Axes>"
            ]
          },
          "metadata": {
            "tags": [],
            "needs_background": "light"
          }
        }
      ]
    },
    {
      "cell_type": "markdown",
      "metadata": {
        "id": "fP720H-0i86V",
        "colab_type": "text"
      },
      "source": [
        "## A/B Testing\n",
        "\n",
        "Based on our analysis so far, we would like to perform a t-test to determine whether there is a difference in BMI means between our two groups (social drinkers and non-social drinkers). Conduct an independent sample t-test and determine whether the differences between the groups is statistically significant. What is your conclusion?"
      ]
    },
    {
      "cell_type": "code",
      "metadata": {
        "id": "qzHyOO4Wi86W",
        "colab_type": "code",
        "colab": {
          "base_uri": "https://localhost:8080/",
          "height": 34
        },
        "outputId": "7245c336-ec67-4ee7-87ea-c2f3fa9fc64a"
      },
      "source": [
        "stats.describe(bmi_social_yes['Body mass index'])"
      ],
      "execution_count": 128,
      "outputs": [
        {
          "output_type": "execute_result",
          "data": {
            "text/plain": [
              "DescribeResult(nobs=420, minmax=(21, 38), mean=27.88809523809524, variance=16.45284123195818, skewness=0.3735851245472099, kurtosis=-0.399599534553416)"
            ]
          },
          "metadata": {
            "tags": []
          },
          "execution_count": 128
        }
      ]
    },
    {
      "cell_type": "code",
      "metadata": {
        "id": "hubNikfthX9h",
        "colab_type": "code",
        "colab": {
          "base_uri": "https://localhost:8080/",
          "height": 34
        },
        "outputId": "96dd7d52-bd83-47d9-b4da-4c383a633d53"
      },
      "source": [
        "stats.describe(bmi_social_no['Body mass index'])"
      ],
      "execution_count": 129,
      "outputs": [
        {
          "output_type": "execute_result",
          "data": {
            "text/plain": [
              "DescribeResult(nobs=320, minmax=(19, 36), mean=25.0875, variance=16.468808777429466, skewness=0.36665152710023935, kurtosis=-0.34978840250660115)"
            ]
          },
          "metadata": {
            "tags": []
          },
          "execution_count": 129
        }
      ]
    },
    {
      "cell_type": "code",
      "metadata": {
        "id": "oEfSyjuihkeO",
        "colab_type": "code",
        "colab": {
          "base_uri": "https://localhost:8080/",
          "height": 34
        },
        "outputId": "451399ed-93ff-42d3-a961-797078199d60"
      },
      "source": [
        "stats.ttest_ind(bmi_social_yes['Body mass index'], bmi_social_no['Body mass index'])"
      ],
      "execution_count": 130,
      "outputs": [
        {
          "output_type": "execute_result",
          "data": {
            "text/plain": [
              "Ttest_indResult(statistic=9.302990833389606, pvalue=1.5203894201359724e-19)"
            ]
          },
          "metadata": {
            "tags": []
          },
          "execution_count": 130
        }
      ]
    },
    {
      "cell_type": "markdown",
      "metadata": {
        "id": "VaQAVt63hsqO",
        "colab_type": "text"
      },
      "source": [
        "The distributions pass the normality checks, so we can conduct a t-test.\n",
        "The p-value is much less than 0.05 and therefore we can reject the null hypotheis that the two distributions are the same. With this knowledge, we can now calculate the 95% confidence interval. "
      ]
    },
    {
      "cell_type": "markdown",
      "metadata": {
        "id": "g1jcHXWBi86Z",
        "colab_type": "text"
      },
      "source": [
        "## Confidence Intervals for Group Differences\n",
        "\n",
        "Generate a 95% confidence interval for the mean difference in BMI between the two groups. Compute the interval using both the traditional method and bootstrapping and compare the results. What conclusions can you draw from the comparison? How would you present a summary of your results to stakeholders?"
      ]
    },
    {
      "cell_type": "code",
      "metadata": {
        "id": "-q2aDrObi86a",
        "colab_type": "code",
        "colab": {}
      },
      "source": [
        "def get_95_ci(array_1, array_2):\n",
        "  sample_1_n = array_1.shape[0]\n",
        "  sample_2_n = array_2.shape[0]\n",
        "  sample_1_mean = array_1.mean()\n",
        "  sample_2_mean = array_2.mean()\n",
        "  sample_1_var = array_1.var()\n",
        "  sample_2_var = array_2.var()\n",
        "  mean_diff = sample_2_mean - sample_1_mean\n",
        "  se_diff = math.sqrt((sample_1_var/sample_1_n)+(sample_2_var/sample_2_n))\n",
        "  ci_lower = mean_diff - (1.96*se_diff)\n",
        "  ci_upper = mean_diff + (1.96*se_diff)\n",
        "  return (ci_lower, ci_upper)"
      ],
      "execution_count": 131,
      "outputs": []
    },
    {
      "cell_type": "code",
      "metadata": {
        "id": "UhHeyFdciZSY",
        "colab_type": "code",
        "colab": {
          "base_uri": "https://localhost:8080/",
          "height": 34
        },
        "outputId": "c464eb31-d3be-4a39-ff79-5e9669e5521f"
      },
      "source": [
        "mean_diff_ci_lower, mean_diff_ci_upper = get_95_ci(bmi_social_yes['Body mass index'], bmi_social_no['Body mass index'])\n",
        "mean_diff_ci_lower, mean_diff_ci_upper"
      ],
      "execution_count": 132,
      "outputs": [
        {
          "output_type": "execute_result",
          "data": {
            "text/plain": [
              "(-3.390677184812264, -2.2105132913782177)"
            ]
          },
          "metadata": {
            "tags": []
          },
          "execution_count": 132
        }
      ]
    },
    {
      "cell_type": "code",
      "metadata": {
        "id": "yLxFKx2nin4v",
        "colab_type": "code",
        "colab": {}
      },
      "source": [
        "boot = mean_samples_bmi_sd_no - mean_samples_bmi_sd_yes"
      ],
      "execution_count": 133,
      "outputs": []
    },
    {
      "cell_type": "code",
      "metadata": {
        "id": "KWrK44p5BPU1",
        "colab_type": "code",
        "colab": {
          "base_uri": "https://localhost:8080/",
          "height": 34
        },
        "outputId": "94ebf765-a4c1-49e1-c203-5a46a8a1e767"
      },
      "source": [
        "boot_ci_lower, boot_ci_upper = np.percentile(boot, 2.5), np.percentile(boot, 97.5)\n",
        "boot_ci_lower, boot_ci_upper"
      ],
      "execution_count": 139,
      "outputs": [
        {
          "output_type": "execute_result",
          "data": {
            "text/plain": [
              "(-3.387235863095238, -2.2149962797619063)"
            ]
          },
          "metadata": {
            "tags": []
          },
          "execution_count": 139
        }
      ]
    },
    {
      "cell_type": "markdown",
      "metadata": {
        "id": "lmJUWDMoB8jV",
        "colab_type": "text"
      },
      "source": [
        "**Message to stakeholders** \n",
        "\n",
        "With 740 total samples, \n",
        "After splitting the total samples into two groups of whether people socially drink (420 samples) and do not (320 samples), we determined within a 95% confidence interval that people who drink socially on average have 2.21 to 3.39 higher BMI than those who do not drink. "
      ]
    },
    {
      "cell_type": "code",
      "metadata": {
        "id": "t34ahYDJD5yh",
        "colab_type": "code",
        "colab": {}
      },
      "source": [
        ""
      ],
      "execution_count": null,
      "outputs": []
    }
  ]
}