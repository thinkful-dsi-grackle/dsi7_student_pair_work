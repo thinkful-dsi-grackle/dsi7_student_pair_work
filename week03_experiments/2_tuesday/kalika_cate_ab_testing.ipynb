{
  "nbformat": 4,
  "nbformat_minor": 0,
  "metadata": {
    "kernelspec": {
      "display_name": "Python 3",
      "language": "python",
      "name": "python3"
    },
    "language_info": {
      "codemirror_mode": {
        "name": "ipython",
        "version": 3
      },
      "file_extension": ".py",
      "mimetype": "text/x-python",
      "name": "python",
      "nbconvert_exporter": "python",
      "pygments_lexer": "ipython3",
      "version": "3.7.6"
    },
    "colab": {
      "name": "kalika_cate_day12.ipynb",
      "provenance": [],
      "collapsed_sections": []
    }
  },
  "cells": [
    {
      "cell_type": "markdown",
      "metadata": {
        "id": "xbQmIT32i852",
        "colab_type": "text"
      },
      "source": [
        "# A/B Testing Assignment"
      ]
    },
    {
      "cell_type": "code",
      "metadata": {
        "id": "G4kIlwTSi853",
        "colab_type": "code",
        "colab": {}
      },
      "source": [
        "import numpy as np\n",
        "import pandas as pd\n",
        "from scipy import stats\n",
        "import seaborn as sns\n",
        "import matplotlib.pyplot as plt\n",
        "import math\n",
        "from statistics import mean"
      ],
      "execution_count": null,
      "outputs": []
    },
    {
      "cell_type": "markdown",
      "metadata": {
        "id": "z7BJAQoti86B",
        "colab_type": "text"
      },
      "source": [
        "### Import the [Absenteeism at Work data set](https://tf-assets-prod.s3.amazonaws.com/tf-curric/data-science/Absenteeism_at_work.csv). \n",
        "\n",
        "**Note:** The the delimiter of the file is a semi-colon (;), so you will need to set `sep=';`."
      ]
    },
    {
      "cell_type": "code",
      "metadata": {
        "id": "uYcAlPGIi86C",
        "colab_type": "code",
        "colab": {}
      },
      "source": [
        "absenteeism = pd.read_csv('https://tf-assets-prod.s3.amazonaws.com/tf-curric/data-science/Absenteeism_at_work.csv', sep=';')"
      ],
      "execution_count": null,
      "outputs": []
    },
    {
      "cell_type": "markdown",
      "metadata": {
        "id": "r9Rvh7dpi86F",
        "colab_type": "text"
      },
      "source": [
        "## Confidence Intervals\n",
        "\n",
        "Suppose this company is analyzing the health of its employees and is specifically interested in their Body Mass Index (BMI). Generate a 95% confidence interval of the mean for that field."
      ]
    },
    {
      "cell_type": "code",
      "metadata": {
        "id": "A8WhB19QgfVf",
        "colab_type": "code",
        "colab": {
          "base_uri": "https://localhost:8080/",
          "height": 260
        },
        "outputId": "08aaffd7-c1d1-4ce7-90ab-f2c3030a7332"
      },
      "source": [
        "absenteeism.head()"
      ],
      "execution_count": null,
      "outputs": [
        {
          "output_type": "execute_result",
          "data": {
            "text/html": [
              "<div>\n",
              "<style scoped>\n",
              "    .dataframe tbody tr th:only-of-type {\n",
              "        vertical-align: middle;\n",
              "    }\n",
              "\n",
              "    .dataframe tbody tr th {\n",
              "        vertical-align: top;\n",
              "    }\n",
              "\n",
              "    .dataframe thead th {\n",
              "        text-align: right;\n",
              "    }\n",
              "</style>\n",
              "<table border=\"1\" class=\"dataframe\">\n",
              "  <thead>\n",
              "    <tr style=\"text-align: right;\">\n",
              "      <th></th>\n",
              "      <th>ID</th>\n",
              "      <th>Reason for absence</th>\n",
              "      <th>Month of absence</th>\n",
              "      <th>Day of the week</th>\n",
              "      <th>Seasons</th>\n",
              "      <th>Transportation expense</th>\n",
              "      <th>Distance from Residence to Work</th>\n",
              "      <th>Service time</th>\n",
              "      <th>Age</th>\n",
              "      <th>Work load Average/day</th>\n",
              "      <th>Hit target</th>\n",
              "      <th>Disciplinary failure</th>\n",
              "      <th>Education</th>\n",
              "      <th>Son</th>\n",
              "      <th>Social drinker</th>\n",
              "      <th>Social smoker</th>\n",
              "      <th>Pet</th>\n",
              "      <th>Weight</th>\n",
              "      <th>Height</th>\n",
              "      <th>Body mass index</th>\n",
              "      <th>Absenteeism time in hours</th>\n",
              "    </tr>\n",
              "  </thead>\n",
              "  <tbody>\n",
              "    <tr>\n",
              "      <th>0</th>\n",
              "      <td>11</td>\n",
              "      <td>26</td>\n",
              "      <td>7</td>\n",
              "      <td>3</td>\n",
              "      <td>1</td>\n",
              "      <td>289</td>\n",
              "      <td>36</td>\n",
              "      <td>13</td>\n",
              "      <td>33</td>\n",
              "      <td>239.554</td>\n",
              "      <td>97</td>\n",
              "      <td>0</td>\n",
              "      <td>1</td>\n",
              "      <td>2</td>\n",
              "      <td>1</td>\n",
              "      <td>0</td>\n",
              "      <td>1</td>\n",
              "      <td>90</td>\n",
              "      <td>172</td>\n",
              "      <td>30</td>\n",
              "      <td>4</td>\n",
              "    </tr>\n",
              "    <tr>\n",
              "      <th>1</th>\n",
              "      <td>36</td>\n",
              "      <td>0</td>\n",
              "      <td>7</td>\n",
              "      <td>3</td>\n",
              "      <td>1</td>\n",
              "      <td>118</td>\n",
              "      <td>13</td>\n",
              "      <td>18</td>\n",
              "      <td>50</td>\n",
              "      <td>239.554</td>\n",
              "      <td>97</td>\n",
              "      <td>1</td>\n",
              "      <td>1</td>\n",
              "      <td>1</td>\n",
              "      <td>1</td>\n",
              "      <td>0</td>\n",
              "      <td>0</td>\n",
              "      <td>98</td>\n",
              "      <td>178</td>\n",
              "      <td>31</td>\n",
              "      <td>0</td>\n",
              "    </tr>\n",
              "    <tr>\n",
              "      <th>2</th>\n",
              "      <td>3</td>\n",
              "      <td>23</td>\n",
              "      <td>7</td>\n",
              "      <td>4</td>\n",
              "      <td>1</td>\n",
              "      <td>179</td>\n",
              "      <td>51</td>\n",
              "      <td>18</td>\n",
              "      <td>38</td>\n",
              "      <td>239.554</td>\n",
              "      <td>97</td>\n",
              "      <td>0</td>\n",
              "      <td>1</td>\n",
              "      <td>0</td>\n",
              "      <td>1</td>\n",
              "      <td>0</td>\n",
              "      <td>0</td>\n",
              "      <td>89</td>\n",
              "      <td>170</td>\n",
              "      <td>31</td>\n",
              "      <td>2</td>\n",
              "    </tr>\n",
              "    <tr>\n",
              "      <th>3</th>\n",
              "      <td>7</td>\n",
              "      <td>7</td>\n",
              "      <td>7</td>\n",
              "      <td>5</td>\n",
              "      <td>1</td>\n",
              "      <td>279</td>\n",
              "      <td>5</td>\n",
              "      <td>14</td>\n",
              "      <td>39</td>\n",
              "      <td>239.554</td>\n",
              "      <td>97</td>\n",
              "      <td>0</td>\n",
              "      <td>1</td>\n",
              "      <td>2</td>\n",
              "      <td>1</td>\n",
              "      <td>1</td>\n",
              "      <td>0</td>\n",
              "      <td>68</td>\n",
              "      <td>168</td>\n",
              "      <td>24</td>\n",
              "      <td>4</td>\n",
              "    </tr>\n",
              "    <tr>\n",
              "      <th>4</th>\n",
              "      <td>11</td>\n",
              "      <td>23</td>\n",
              "      <td>7</td>\n",
              "      <td>5</td>\n",
              "      <td>1</td>\n",
              "      <td>289</td>\n",
              "      <td>36</td>\n",
              "      <td>13</td>\n",
              "      <td>33</td>\n",
              "      <td>239.554</td>\n",
              "      <td>97</td>\n",
              "      <td>0</td>\n",
              "      <td>1</td>\n",
              "      <td>2</td>\n",
              "      <td>1</td>\n",
              "      <td>0</td>\n",
              "      <td>1</td>\n",
              "      <td>90</td>\n",
              "      <td>172</td>\n",
              "      <td>30</td>\n",
              "      <td>2</td>\n",
              "    </tr>\n",
              "  </tbody>\n",
              "</table>\n",
              "</div>"
            ],
            "text/plain": [
              "   ID  Reason for absence  ...  Body mass index  Absenteeism time in hours\n",
              "0  11                  26  ...               30                          4\n",
              "1  36                   0  ...               31                          0\n",
              "2   3                  23  ...               31                          2\n",
              "3   7                   7  ...               24                          4\n",
              "4  11                  23  ...               30                          2\n",
              "\n",
              "[5 rows x 21 columns]"
            ]
          },
          "metadata": {
            "tags": []
          },
          "execution_count": 43
        }
      ]
    },
    {
      "cell_type": "code",
      "metadata": {
        "id": "ntFGGCc3i86G",
        "colab_type": "code",
        "colab": {}
      },
      "source": [
        "bmi_ci = stats.t.interval(0.95, len(absenteeism['Body mass index'])-1, absenteeism['Body mass index'].mean(), scale=stats.sem(absenteeism['Body mass index']))\n"
      ],
      "execution_count": null,
      "outputs": []
    },
    {
      "cell_type": "code",
      "metadata": {
        "id": "NqE_QwuHb7Og",
        "colab_type": "code",
        "colab": {
          "base_uri": "https://localhost:8080/",
          "height": 163
        },
        "outputId": "3ca10568-5d2d-4369-9f6b-4488e213e424"
      },
      "source": [
        "absenteeism['Body mass index'].describe()"
      ],
      "execution_count": null,
      "outputs": [
        {
          "output_type": "execute_result",
          "data": {
            "text/plain": [
              "count    740.000000\n",
              "mean      26.677027\n",
              "std        4.285452\n",
              "min       19.000000\n",
              "25%       24.000000\n",
              "50%       25.000000\n",
              "75%       31.000000\n",
              "max       38.000000\n",
              "Name: Body mass index, dtype: float64"
            ]
          },
          "metadata": {
            "tags": []
          },
          "execution_count": 20
        }
      ]
    },
    {
      "cell_type": "markdown",
      "metadata": {
        "id": "wOnN7cu6i86J",
        "colab_type": "text"
      },
      "source": [
        "### Visualizing Confidence Intervals\n",
        "\n",
        "Generate a sampling distribution of the mean for the Body Mass Index field. Create a histogram to visualize the sampling distribution and add an indicator showing the lower and upper bounds of the confidence interval."
      ]
    },
    {
      "cell_type": "code",
      "metadata": {
        "id": "1DpSZ6h0i86J",
        "colab_type": "code",
        "colab": {
          "base_uri": "https://localhost:8080/",
          "height": 265
        },
        "outputId": "c4458c1a-4018-437d-887b-bbcbd3729eee"
      },
      "source": [
        "bmi_means = [absenteeism.sample(100, replace=True)['Body mass index'].mean() for i in range(1000)]\n",
        "plt.axvline(bmi_ci[0], linestyle='dashed')\n",
        "plt.axvline(bmi_ci[1], linestyle='dashed')\n",
        "\n",
        "plt.hist(bmi_means, 15)\n",
        "plt.show()"
      ],
      "execution_count": null,
      "outputs": [
        {
          "output_type": "display_data",
          "data": {
            "image/png": "[encoded data removed]",
            "text/plain": [
              "<Figure size 432x288 with 1 Axes>"
            ]
          },
          "metadata": {
            "tags": []
          }
        }
      ]
    },
    {
      "cell_type": "markdown",
      "metadata": {
        "id": "5ACmvwkoi86N",
        "colab_type": "text"
      },
      "source": [
        "### Confidence Intervals by Group\n",
        "\n",
        "Suppose we wanted to examine whether there was a difference in the BMIs of employees who drink socially and those that do not. Use the Social Drinker field to split the employees into groups, and then compute the confidence intervals for each group. What insights can you derive from the results?"
      ]
    },
    {
      "cell_type": "code",
      "metadata": {
        "id": "qKzAdaqJi86O",
        "colab_type": "code",
        "colab": {
          "base_uri": "https://localhost:8080/",
          "height": 50
        },
        "outputId": "5298f88e-b46a-4dab-c469-9337e439af33"
      },
      "source": [
        "drinker_bmi = absenteeism[(absenteeism['Social drinker'] == 1)]\n",
        "sober_bmi = absenteeism[(absenteeism['Social drinker'] == 0)]\n",
        "\n",
        "drinker_ci = stats.t.interval(0.95, len(drinker_bmi['Body mass index'])-1, drinker_bmi['Body mass index'].mean(), scale=stats.sem(drinker_bmi['Body mass index']))\n",
        "sober_ci = stats.t.interval(0.95, len(sober_bmi['Body mass index'])-1, sober_bmi['Body mass index'].mean(), scale=stats.sem(sober_bmi['Body mass index']))\n",
        "\n",
        "print(f'The 95% confidence interval for BMI of social drinkers is {drinker_ci}')\n",
        "print(f'The 95% confidence interval for BMI of non social drinkers is {sober_ci}')"
      ],
      "execution_count": null,
      "outputs": [
        {
          "output_type": "stream",
          "text": [
            "The 95% confidence interval for BMI of social drinkers is (27.49904991718434, 28.27714055900614)\n",
            "The 95% confidence interval for BMI of non social drinkers is (24.641171070136533, 25.533828929863464)\n"
          ],
          "name": "stdout"
        }
      ]
    },
    {
      "cell_type": "markdown",
      "metadata": {
        "id": "jTrcDrsmi86Q",
        "colab_type": "text"
      },
      "source": [
        "### Sampling Distributions for Each Group\n",
        "\n",
        "Next, let's generate a sampling distribution of the mean for each group and generate a plot containing both of their histograms to see if there is any overlap."
      ]
    },
    {
      "cell_type": "code",
      "metadata": {
        "id": "foR7kDCbi86R",
        "colab_type": "code",
        "colab": {
          "base_uri": "https://localhost:8080/",
          "height": 265
        },
        "outputId": "41823271-87c5-475a-ef37-984af5c7f783"
      },
      "source": [
        "drinker_means = [drinker_bmi.sample(100, replace=True)['Body mass index'].mean() for i in range(1000)]\n",
        "sober_means = [sober_bmi.sample(100, replace=True)['Body mass index'].mean() for i in range(1000)]\n",
        "plt.hist(drinker_means, alpha = .5)\n",
        "plt.hist(sober_means, alpha=.5)\n",
        "\n",
        "plt.style.use(['dark_background'])\n",
        "plt.legend(['drinkers', 'sober'], loc='upper right')\n",
        "plt.show()"
      ],
      "execution_count": null,
      "outputs": [
        {
          "output_type": "display_data",
          "data": {
            "image/png": "[encoded data removed]",
            "text/plain": [
              "<Figure size 432x288 with 1 Axes>"
            ]
          },
          "metadata": {
            "tags": []
          }
        }
      ]
    },
    {
      "cell_type": "markdown",
      "metadata": {
        "id": "fP720H-0i86V",
        "colab_type": "text"
      },
      "source": [
        "## A/B Testing\n",
        "\n",
        "Based on our analysis so far, we would like to perform a t-test to determine whether there is a difference in BMI means between our two groups (social drinkers and non-social drinkers). Conduct an independent sample t-test and determine whether the differences between the groups is statistically significant. What is your conclusion?"
      ]
    },
    {
      "cell_type": "code",
      "metadata": {
        "id": "qzHyOO4Wi86W",
        "colab_type": "code",
        "colab": {
          "base_uri": "https://localhost:8080/",
          "height": 86
        },
        "outputId": "3e97e36d-8c72-484a-bddc-4d7ef45f436f"
      },
      "source": [
        "print(stats.describe(drinker_bmi['Body mass index']))\n",
        "print(stats.describe(sober_bmi['Body mass index']))\n",
        "stats.ttest_ind(drinker_bmi['Body mass index'], sober_bmi['Body mass index'])"
      ],
      "execution_count": null,
      "outputs": [
        {
          "output_type": "stream",
          "text": [
            "DescribeResult(nobs=420, minmax=(21, 38), mean=27.88809523809524, variance=16.45284123195818, skewness=0.3735851245472099, kurtosis=-0.399599534553416)\n",
            "DescribeResult(nobs=320, minmax=(19, 36), mean=25.0875, variance=16.468808777429466, skewness=0.36665152710023935, kurtosis=-0.34978840250660115)\n"
          ],
          "name": "stdout"
        },
        {
          "output_type": "execute_result",
          "data": {
            "text/plain": [
              "Ttest_indResult(statistic=9.302990833389606, pvalue=1.5203894201359724e-19)"
            ]
          },
          "metadata": {
            "tags": []
          },
          "execution_count": 75
        }
      ]
    },
    {
      "cell_type": "markdown",
      "metadata": {
        "id": "K-gugYrxnx86",
        "colab_type": "text"
      },
      "source": [
        "Based on our t-statistic and low p-value, we can reject the null hypothesis. This finding is statistically significant."
      ]
    },
    {
      "cell_type": "markdown",
      "metadata": {
        "id": "g1jcHXWBi86Z",
        "colab_type": "text"
      },
      "source": [
        "## Confidence Intervals for Group Differences\n",
        "\n",
        "Generate a 95% confidence interval for the mean difference in BMI between the two groups. Compute the interval using both the traditional method and bootstrapping and compare the results. What conclusions can you draw from the comparison? How would you present a summary of your results to stakeholders?"
      ]
    },
    {
      "cell_type": "code",
      "metadata": {
        "id": "-q2aDrObi86a",
        "colab_type": "code",
        "colab": {
          "base_uri": "https://localhost:8080/",
          "height": 70
        },
        "outputId": "78b95eb1-5cee-4f41-9585-2b748320cac6"
      },
      "source": [
        "def get_list_95_ci(data1, data2):\n",
        "    '''\n",
        "    Calculates the difference in means at the 95% confidence interval\n",
        "    \n",
        "    Args: Two samples being tested\n",
        "    '''\n",
        "    sample_1_n = len(data1)\n",
        "    sample_2_n = len(data2)\n",
        "    sample_1_mean = mean(data1)\n",
        "    sample_2_mean = mean(data2)\n",
        "    sample_1_var = np.var(data1)\n",
        "    sample_2_var = np.var(data2)\n",
        "    mean_diff = sample_2_mean - sample_1_mean\n",
        "    std_err_diff = math.sqrt((sample_1_var/sample_1_n) + (sample_2_var/sample_2_n))\n",
        "    margin_of_error = 1.96 * std_err_diff\n",
        "    ci_lower = mean_diff - margin_of_error\n",
        "    ci_upper = mean_diff + margin_of_error\n",
        "    return(f'The difference in means at the 95% confidence interval (two-tail) is between {round(ci_lower, 4)} and {round(ci_upper, 4)}')\n",
        "\n",
        "\n",
        "print('Traditional method: ', get_list_95_ci(drinker_bmi['Body mass index'], sober_bmi['Body mass index']))\n",
        "print('Bootstrapping method: ', get_list_95_ci(drinker_bmi_means, sober_bmi_means))"
      ],
      "execution_count": null,
      "outputs": [
        {
          "output_type": "stream",
          "text": [
            "Traditional method:  The difference in means at the 95% confidence interval (two-tail) is between -3.3898 and -2.2113\n",
            "Bootstrapping method:  The difference in means at the 95% confidence interval (two-tail) is between -2.8165 and -2.7469\n"
          ],
          "name": "stdout"
        }
      ]
    },
    {
      "cell_type": "markdown",
      "metadata": {
        "id": "9d0dzy_95CoF",
        "colab_type": "text"
      },
      "source": [
        "The results from the traditional method tell us with 95% confidence that the difference between bmi means for drinkers and non-drinkers is between 2.2 and 3.4. When we use bootstrapping to atrificially enlarge our sample, we see that, with 95% confidence, the bmi mean difference is between 2.7 and 2.8."
      ]
    }
  ]
}