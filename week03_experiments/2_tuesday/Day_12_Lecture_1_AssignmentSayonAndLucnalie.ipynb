{
  "nbformat": 4,
  "nbformat_minor": 0,
  "metadata": {
    "kernelspec": {
      "display_name": "Python 3",
      "language": "python",
      "name": "python3"
    },
    "language_info": {
      "codemirror_mode": {
        "name": "ipython",
        "version": 3
      },
      "file_extension": ".py",
      "mimetype": "text/x-python",
      "name": "python",
      "nbconvert_exporter": "python",
      "pygments_lexer": "ipython3",
      "version": "3.7.6"
    },
    "colab": {
      "name": "Copy of Day 12 Lecture 1 AssignmentSayonAndLucnalie.ipynb",
      "provenance": [],
      "collapsed_sections": [],
      "toc_visible": true
    }
  },
  "cells": [
    {
      "cell_type": "markdown",
      "metadata": {
        "id": "xbQmIT32i852",
        "colab_type": "text"
      },
      "source": [
        "# A/B Testing Assignment"
      ]
    },
    {
      "cell_type": "code",
      "metadata": {
        "id": "G4kIlwTSi853",
        "colab_type": "code",
        "colab": {}
      },
      "source": [
        "import math\n",
        "import numpy as np\n",
        "import pandas as pd\n",
        "from scipy import stats\n",
        "import seaborn as sns\n",
        "import matplotlib.pyplot as plt"
      ],
      "execution_count": 21,
      "outputs": []
    },
    {
      "cell_type": "markdown",
      "metadata": {
        "id": "z7BJAQoti86B",
        "colab_type": "text"
      },
      "source": [
        "### Import the [Absenteeism at Work data set](https://tf-assets-prod.s3.amazonaws.com/tf-curric/data-science/Absenteeism_at_work.csv). \n",
        "\n",
        "**Note:** The the delimiter of the file is a semi-colon (;), so you will need to set `sep=';`."
      ]
    },
    {
      "cell_type": "code",
      "metadata": {
        "id": "uYcAlPGIi86C",
        "colab_type": "code",
        "colab": {}
      },
      "source": [
        "abs = pd.read_csv('Absenteeism_at_work.csv', sep=';')"
      ],
      "execution_count": 2,
      "outputs": []
    },
    {
      "cell_type": "code",
      "metadata": {
        "id": "RFo72RmiZWQz",
        "colab_type": "code",
        "colab": {
          "base_uri": "https://localhost:8080/",
          "height": 231
        },
        "outputId": "3a9ee1db-1f6a-4f77-a836-d0022e03c17e"
      },
      "source": [
        "abs.head()"
      ],
      "execution_count": 3,
      "outputs": [
        {
          "output_type": "execute_result",
          "data": {
            "text/html": [
              "<div>\n",
              "<style scoped>\n",
              "    .dataframe tbody tr th:only-of-type {\n",
              "        vertical-align: middle;\n",
              "    }\n",
              "\n",
              "    .dataframe tbody tr th {\n",
              "        vertical-align: top;\n",
              "    }\n",
              "\n",
              "    .dataframe thead th {\n",
              "        text-align: right;\n",
              "    }\n",
              "</style>\n",
              "<table border=\"1\" class=\"dataframe\">\n",
              "  <thead>\n",
              "    <tr style=\"text-align: right;\">\n",
              "      <th></th>\n",
              "      <th>ID</th>\n",
              "      <th>Reason for absence</th>\n",
              "      <th>Month of absence</th>\n",
              "      <th>Day of the week</th>\n",
              "      <th>Seasons</th>\n",
              "      <th>Transportation expense</th>\n",
              "      <th>Distance from Residence to Work</th>\n",
              "      <th>Service time</th>\n",
              "      <th>Age</th>\n",
              "      <th>Work load Average/day</th>\n",
              "      <th>Hit target</th>\n",
              "      <th>Disciplinary failure</th>\n",
              "      <th>Education</th>\n",
              "      <th>Son</th>\n",
              "      <th>Social drinker</th>\n",
              "      <th>Social smoker</th>\n",
              "      <th>Pet</th>\n",
              "      <th>Weight</th>\n",
              "      <th>Height</th>\n",
              "      <th>Body mass index</th>\n",
              "      <th>Absenteeism time in hours</th>\n",
              "    </tr>\n",
              "  </thead>\n",
              "  <tbody>\n",
              "    <tr>\n",
              "      <th>0</th>\n",
              "      <td>11</td>\n",
              "      <td>26</td>\n",
              "      <td>7</td>\n",
              "      <td>3</td>\n",
              "      <td>1</td>\n",
              "      <td>289</td>\n",
              "      <td>36</td>\n",
              "      <td>13</td>\n",
              "      <td>33</td>\n",
              "      <td>239.554</td>\n",
              "      <td>97</td>\n",
              "      <td>0</td>\n",
              "      <td>1</td>\n",
              "      <td>2</td>\n",
              "      <td>1</td>\n",
              "      <td>0</td>\n",
              "      <td>1</td>\n",
              "      <td>90</td>\n",
              "      <td>172</td>\n",
              "      <td>30</td>\n",
              "      <td>4</td>\n",
              "    </tr>\n",
              "    <tr>\n",
              "      <th>1</th>\n",
              "      <td>36</td>\n",
              "      <td>0</td>\n",
              "      <td>7</td>\n",
              "      <td>3</td>\n",
              "      <td>1</td>\n",
              "      <td>118</td>\n",
              "      <td>13</td>\n",
              "      <td>18</td>\n",
              "      <td>50</td>\n",
              "      <td>239.554</td>\n",
              "      <td>97</td>\n",
              "      <td>1</td>\n",
              "      <td>1</td>\n",
              "      <td>1</td>\n",
              "      <td>1</td>\n",
              "      <td>0</td>\n",
              "      <td>0</td>\n",
              "      <td>98</td>\n",
              "      <td>178</td>\n",
              "      <td>31</td>\n",
              "      <td>0</td>\n",
              "    </tr>\n",
              "    <tr>\n",
              "      <th>2</th>\n",
              "      <td>3</td>\n",
              "      <td>23</td>\n",
              "      <td>7</td>\n",
              "      <td>4</td>\n",
              "      <td>1</td>\n",
              "      <td>179</td>\n",
              "      <td>51</td>\n",
              "      <td>18</td>\n",
              "      <td>38</td>\n",
              "      <td>239.554</td>\n",
              "      <td>97</td>\n",
              "      <td>0</td>\n",
              "      <td>1</td>\n",
              "      <td>0</td>\n",
              "      <td>1</td>\n",
              "      <td>0</td>\n",
              "      <td>0</td>\n",
              "      <td>89</td>\n",
              "      <td>170</td>\n",
              "      <td>31</td>\n",
              "      <td>2</td>\n",
              "    </tr>\n",
              "    <tr>\n",
              "      <th>3</th>\n",
              "      <td>7</td>\n",
              "      <td>7</td>\n",
              "      <td>7</td>\n",
              "      <td>5</td>\n",
              "      <td>1</td>\n",
              "      <td>279</td>\n",
              "      <td>5</td>\n",
              "      <td>14</td>\n",
              "      <td>39</td>\n",
              "      <td>239.554</td>\n",
              "      <td>97</td>\n",
              "      <td>0</td>\n",
              "      <td>1</td>\n",
              "      <td>2</td>\n",
              "      <td>1</td>\n",
              "      <td>1</td>\n",
              "      <td>0</td>\n",
              "      <td>68</td>\n",
              "      <td>168</td>\n",
              "      <td>24</td>\n",
              "      <td>4</td>\n",
              "    </tr>\n",
              "    <tr>\n",
              "      <th>4</th>\n",
              "      <td>11</td>\n",
              "      <td>23</td>\n",
              "      <td>7</td>\n",
              "      <td>5</td>\n",
              "      <td>1</td>\n",
              "      <td>289</td>\n",
              "      <td>36</td>\n",
              "      <td>13</td>\n",
              "      <td>33</td>\n",
              "      <td>239.554</td>\n",
              "      <td>97</td>\n",
              "      <td>0</td>\n",
              "      <td>1</td>\n",
              "      <td>2</td>\n",
              "      <td>1</td>\n",
              "      <td>0</td>\n",
              "      <td>1</td>\n",
              "      <td>90</td>\n",
              "      <td>172</td>\n",
              "      <td>30</td>\n",
              "      <td>2</td>\n",
              "    </tr>\n",
              "  </tbody>\n",
              "</table>\n",
              "</div>"
            ],
            "text/plain": [
              "   ID  Reason for absence  ...  Body mass index  Absenteeism time in hours\n",
              "0  11                  26  ...               30                          4\n",
              "1  36                   0  ...               31                          0\n",
              "2   3                  23  ...               31                          2\n",
              "3   7                   7  ...               24                          4\n",
              "4  11                  23  ...               30                          2\n",
              "\n",
              "[5 rows x 21 columns]"
            ]
          },
          "metadata": {
            "tags": []
          },
          "execution_count": 3
        }
      ]
    },
    {
      "cell_type": "code",
      "metadata": {
        "id": "_2VLgnbXcgGy",
        "colab_type": "code",
        "colab": {
          "base_uri": "https://localhost:8080/",
          "height": 34
        },
        "outputId": "a033a894-bc6a-4af0-ff82-6a5dcc28b8ef"
      },
      "source": [
        "abs.shape"
      ],
      "execution_count": 5,
      "outputs": [
        {
          "output_type": "execute_result",
          "data": {
            "text/plain": [
              "(740, 21)"
            ]
          },
          "metadata": {
            "tags": []
          },
          "execution_count": 5
        }
      ]
    },
    {
      "cell_type": "code",
      "metadata": {
        "id": "ST4CA3REcv5e",
        "colab_type": "code",
        "colab": {}
      },
      "source": [
        ""
      ],
      "execution_count": null,
      "outputs": []
    },
    {
      "cell_type": "markdown",
      "metadata": {
        "id": "r9Rvh7dpi86F",
        "colab_type": "text"
      },
      "source": [
        "## Confidence Intervals\n",
        "\n",
        "Suppose this company is analyzing the health of its employees and is specifically interested in their Body Mass Index (BMI). Generate a 95% confidence interval of the mean for that field."
      ]
    },
    {
      "cell_type": "code",
      "metadata": {
        "id": "ntFGGCc3i86G",
        "colab_type": "code",
        "colab": {
          "base_uri": "https://localhost:8080/",
          "height": 34
        },
        "outputId": "d54bd3f0-c8bb-4d01-ddbf-7809f1fb4a99"
      },
      "source": [
        "# Confidence interval\n",
        "\n",
        "confidence_interval = stats.t.interval(.9999, 740-1, abs['Body mass index'].mean() , stats.sem(abs['Body mass index']))\n",
        "print(confidence_interval)"
      ],
      "execution_count": 9,
      "outputs": [
        {
          "output_type": "stream",
          "text": [
            "(26.060755183286066, 27.293298870767988)\n"
          ],
          "name": "stdout"
        }
      ]
    },
    {
      "cell_type": "markdown",
      "metadata": {
        "id": "wOnN7cu6i86J",
        "colab_type": "text"
      },
      "source": [
        "### Visualizing Confidence Intervals\n",
        "\n",
        "Generate a sampling distribution of the mean for the Body Mass Index field. Create a histogram to visualize the sampling distribution and add an indicator showing the lower and upper bounds of the confidence interval."
      ]
    },
    {
      "cell_type": "code",
      "metadata": {
        "id": "1DpSZ6h0i86J",
        "colab_type": "code",
        "colab": {
          "base_uri": "https://localhost:8080/",
          "height": 353
        },
        "outputId": "fa322ff5-4d4e-43f8-ffd4-4284bf737101"
      },
      "source": [
        "means = [];\n",
        "for i in range(100):\n",
        "  sample = np.random.choice(abs['Body mass index'],740,replace=True)\n",
        "  means.append(sample.mean())\n",
        "\n",
        "plt.hist(means)"
      ],
      "execution_count": 13,
      "outputs": [
        {
          "output_type": "execute_result",
          "data": {
            "text/plain": [
              "(array([ 2.,  5., 11., 17., 20., 19., 12.,  8.,  4.,  2.]),\n",
              " array([26.32162162, 26.40135135, 26.48108108, 26.56081081, 26.64054054,\n",
              "        26.72027027, 26.8       , 26.87972973, 26.95945946, 27.03918919,\n",
              "        27.11891892]),\n",
              " <a list of 10 Patch objects>)"
            ]
          },
          "metadata": {
            "tags": []
          },
          "execution_count": 13
        },
        {
          "output_type": "display_data",
          "data": {
            "image/png": "[encoded data removed]",
            "text/plain": [
              "<Figure size 432x288 with 1 Axes>"
            ]
          },
          "metadata": {
            "tags": [],
            "needs_background": "light"
          }
        }
      ]
    },
    {
      "cell_type": "markdown",
      "metadata": {
        "id": "5ACmvwkoi86N",
        "colab_type": "text"
      },
      "source": [
        "### Confidence Intervals by Group\n",
        "\n",
        "Suppose we wanted to examine whether there was a difference in the BMIs of employees who drink socially and those that do not. Use the Social Drinker field to split the employees into groups, and then compute the confidence intervals for each group. What insights can you derive from the results?"
      ]
    },
    {
      "cell_type": "code",
      "metadata": {
        "id": "qKzAdaqJi86O",
        "colab_type": "code",
        "colab": {
          "base_uri": "https://localhost:8080/",
          "height": 1000
        },
        "outputId": "22740ab1-df4f-4a93-a39a-5888573cac7e"
      },
      "source": [
        "# Splitting the data into two groups\n",
        "drink_yes = abs[(abs['Social drinker']==1)]\n",
        "drink_yes.info()\n",
        "drink_no = abs[(abs['Social drinker']==0)]\n",
        "drink_no.info()"
      ],
      "execution_count": 18,
      "outputs": [
        {
          "output_type": "stream",
          "text": [
            "<class 'pandas.core.frame.DataFrame'>\n",
            "Int64Index: 420 entries, 0 to 738\n",
            "Data columns (total 21 columns):\n",
            " #   Column                           Non-Null Count  Dtype  \n",
            "---  ------                           --------------  -----  \n",
            " 0   ID                               420 non-null    int64  \n",
            " 1   Reason for absence               420 non-null    int64  \n",
            " 2   Month of absence                 420 non-null    int64  \n",
            " 3   Day of the week                  420 non-null    int64  \n",
            " 4   Seasons                          420 non-null    int64  \n",
            " 5   Transportation expense           420 non-null    int64  \n",
            " 6   Distance from Residence to Work  420 non-null    int64  \n",
            " 7   Service time                     420 non-null    int64  \n",
            " 8   Age                              420 non-null    int64  \n",
            " 9   Work load Average/day            420 non-null    float64\n",
            " 10  Hit target                       420 non-null    int64  \n",
            " 11  Disciplinary failure             420 non-null    int64  \n",
            " 12  Education                        420 non-null    int64  \n",
            " 13  Son                              420 non-null    int64  \n",
            " 14  Social drinker                   420 non-null    int64  \n",
            " 15  Social smoker                    420 non-null    int64  \n",
            " 16  Pet                              420 non-null    int64  \n",
            " 17  Weight                           420 non-null    int64  \n",
            " 18  Height                           420 non-null    int64  \n",
            " 19  Body mass index                  420 non-null    int64  \n",
            " 20  Absenteeism time in hours        420 non-null    int64  \n",
            "dtypes: float64(1), int64(20)\n",
            "memory usage: 72.2 KB\n",
            "<class 'pandas.core.frame.DataFrame'>\n",
            "Int64Index: 320 entries, 9 to 739\n",
            "Data columns (total 21 columns):\n",
            " #   Column                           Non-Null Count  Dtype  \n",
            "---  ------                           --------------  -----  \n",
            " 0   ID                               320 non-null    int64  \n",
            " 1   Reason for absence               320 non-null    int64  \n",
            " 2   Month of absence                 320 non-null    int64  \n",
            " 3   Day of the week                  320 non-null    int64  \n",
            " 4   Seasons                          320 non-null    int64  \n",
            " 5   Transportation expense           320 non-null    int64  \n",
            " 6   Distance from Residence to Work  320 non-null    int64  \n",
            " 7   Service time                     320 non-null    int64  \n",
            " 8   Age                              320 non-null    int64  \n",
            " 9   Work load Average/day            320 non-null    float64\n",
            " 10  Hit target                       320 non-null    int64  \n",
            " 11  Disciplinary failure             320 non-null    int64  \n",
            " 12  Education                        320 non-null    int64  \n",
            " 13  Son                              320 non-null    int64  \n",
            " 14  Social drinker                   320 non-null    int64  \n",
            " 15  Social smoker                    320 non-null    int64  \n",
            " 16  Pet                              320 non-null    int64  \n",
            " 17  Weight                           320 non-null    int64  \n",
            " 18  Height                           320 non-null    int64  \n",
            " 19  Body mass index                  320 non-null    int64  \n",
            " 20  Absenteeism time in hours        320 non-null    int64  \n",
            "dtypes: float64(1), int64(20)\n",
            "memory usage: 55.0 KB\n"
          ],
          "name": "stdout"
        }
      ]
    },
    {
      "cell_type": "markdown",
      "metadata": {
        "id": "jTrcDrsmi86Q",
        "colab_type": "text"
      },
      "source": [
        "### Sampling Distributions for Each Group\n",
        "\n",
        "Next, let's generate a sampling distribution of the mean for each group and generate a plot containing both of their histograms to see if there is any overlap."
      ]
    },
    {
      "cell_type": "code",
      "metadata": {
        "id": "foR7kDCbi86R",
        "colab_type": "code",
        "colab": {
          "base_uri": "https://localhost:8080/",
          "height": 264
        },
        "outputId": "c6194743-83e5-4ec7-a72b-7284ad33228e"
      },
      "source": [
        "plt.hist(drink_yes['Body mass index'], alpha=.5)\n",
        "plt.hist(drink_no['Body mass index'], alpha=.5)\n",
        "plt.show()"
      ],
      "execution_count": 19,
      "outputs": [
        {
          "output_type": "display_data",
          "data": {
            "image/png": "[encoded data removed]",
            "text/plain": [
              "<Figure size 432x288 with 1 Axes>"
            ]
          },
          "metadata": {
            "tags": [],
            "needs_background": "light"
          }
        }
      ]
    },
    {
      "cell_type": "markdown",
      "metadata": {
        "id": "fP720H-0i86V",
        "colab_type": "text"
      },
      "source": [
        "## A/B Testing\n",
        "\n",
        "Based on our analysis so far, we would like to perform a t-test to determine whether there is a difference in BMI means between our two groups (social drinkers and non-social drinkers). Conduct an independent sample t-test and determine whether the differences between the groups is statistically significant. What is your conclusion?"
      ]
    },
    {
      "cell_type": "code",
      "metadata": {
        "id": "qzHyOO4Wi86W",
        "colab_type": "code",
        "colab": {
          "base_uri": "https://localhost:8080/",
          "height": 34
        },
        "outputId": "41904519-06ab-40b4-8da1-5506f12204d8"
      },
      "source": [
        "stats.ttest_ind(drink_yes['Body mass index'], drink_no['Body mass index'])"
      ],
      "execution_count": 23,
      "outputs": [
        {
          "output_type": "execute_result",
          "data": {
            "text/plain": [
              "Ttest_indResult(statistic=9.302990833389606, pvalue=1.5203894201359724e-19)"
            ]
          },
          "metadata": {
            "tags": []
          },
          "execution_count": 23
        }
      ]
    },
    {
      "cell_type": "markdown",
      "metadata": {
        "id": "g1jcHXWBi86Z",
        "colab_type": "text"
      },
      "source": [
        "## Confidence Intervals for Group Differences\n",
        "\n",
        "Generate a 95% confidence interval for the mean difference in BMI between the two groups. Compute the interval using both the traditional method and bootstrapping and compare the results. What conclusions can you draw from the comparison? How would you present a summary of your results to stakeholders?"
      ]
    },
    {
      "cell_type": "code",
      "metadata": {
        "id": "-q2aDrObi86a",
        "colab_type": "code",
        "colab": {
          "base_uri": "https://localhost:8080/",
          "height": 35
        },
        "outputId": "34041596-f445-47e2-986c-88921fb3a326"
      },
      "source": [
        "# Confidence interval\n",
        "\n",
        "def get_95_ci(array_1, array_2):\n",
        "    sample_1_n = array_1.shape[0]\n",
        "    sample_2_n = array_2.shape[0]\n",
        "    sample_1_mean = array_1.mean()\n",
        "    sample_2_mean = array_2.mean()\n",
        "    sample_1_var = array_1.var()\n",
        "    sample_2_var = array_2.var()\n",
        "    mean_difference = sample_2_mean - sample_1_mean\n",
        "    std_err_difference = math.sqrt((sample_1_var/sample_1_n)+(sample_2_var/sample_2_n))\n",
        "    margin_of_error = 1.96 * std_err_difference\n",
        "    ci_lower = mean_difference - margin_of_error\n",
        "    ci_upper = mean_difference + margin_of_error\n",
        "    return(\"The difference in means at the 95% confidence interval (two-tail) is between \"+str(ci_lower)+\" and \"+str(ci_upper)+\".\")\n",
        "\n",
        "# Confidence interval for aircon    \n",
        "\n",
        "get_95_ci(drink_yes['Body mass index'], drink_no['Body mass index']) "
      ],
      "execution_count": 22,
      "outputs": [
        {
          "output_type": "execute_result",
          "data": {
            "application/vnd.google.colaboratory.intrinsic+json": {
              "type": "string"
            },
            "text/plain": [
              "'The difference in means at the 95% confidence interval (two-tail) is between -3.390677184812264 and -2.2105132913782177.'"
            ]
          },
          "metadata": {
            "tags": []
          },
          "execution_count": 22
        }
      ]
    },
    {
      "cell_type": "code",
      "metadata": {
        "id": "LpG-MbhXkrmn",
        "colab_type": "code",
        "colab": {}
      },
      "source": [
        ""
      ],
      "execution_count": null,
      "outputs": []
    }
  ]
}