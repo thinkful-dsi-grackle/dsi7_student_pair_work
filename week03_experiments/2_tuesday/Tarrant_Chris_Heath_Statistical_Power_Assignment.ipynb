{
  "nbformat": 4,
  "nbformat_minor": 0,
  "metadata": {
    "kernelspec": {
      "display_name": "Python 3",
      "language": "python",
      "name": "python3"
    },
    "language_info": {
      "codemirror_mode": {
        "name": "ipython",
        "version": 3
      },
      "file_extension": ".py",
      "mimetype": "text/x-python",
      "name": "python",
      "nbconvert_exporter": "python",
      "pygments_lexer": "ipython3",
      "version": "3.7.6"
    },
    "colab": {
      "name": " Tarrant_Chris_Heath_Statistical Power Assignment.ipynb",
      "provenance": [],
      "collapsed_sections": []
    }
  },
  "cells": [
    {
      "cell_type": "markdown",
      "metadata": {
        "id": "HFf2astgG4Ja",
        "colab_type": "text"
      },
      "source": [
        "# Statistical Power Assignment"
      ]
    },
    {
      "cell_type": "code",
      "metadata": {
        "id": "CJSstY75G4Jc",
        "colab_type": "code",
        "colab": {
          "base_uri": "https://localhost:8080/",
          "height": 72
        },
        "outputId": "7beb83cf-1be5-480d-b42a-a4bf03d7bad5"
      },
      "source": [
        "import numpy as np\n",
        "import pandas as pd\n",
        "import seaborn as sns\n",
        "\n",
        "from scipy import stats\n",
        "from statsmodels.stats.power import TTestIndPower\n",
        "\n",
        "import matplotlib.pyplot as plt\n",
        "\n",
        "import math\n",
        "\n",
        "%matplotlib inline"
      ],
      "execution_count": 1,
      "outputs": [
        {
          "output_type": "stream",
          "text": [
            "/usr/local/lib/python3.6/dist-packages/statsmodels/tools/_testing.py:19: FutureWarning: pandas.util.testing is deprecated. Use the functions in the public API at pandas.testing instead.\n",
            "  import pandas.util.testing as tm\n"
          ],
          "name": "stderr"
        }
      ]
    },
    {
      "cell_type": "markdown",
      "metadata": {
        "id": "I7wJYEC-G4Jw",
        "colab_type": "text"
      },
      "source": [
        "### Computing Sample Size Required\n",
        "\n",
        "Suppose we are conducting a test where we have:\n",
        "\n",
        "- Effect size of 0.5\n",
        "- Significance level of 0.05\n",
        "- Looking to achieve 80% statistical power\n",
        "\n",
        "How large of a sample size would we need for this experiment?"
      ]
    },
    {
      "cell_type": "code",
      "metadata": {
        "id": "4mFLkvFnG4J2",
        "colab_type": "code",
        "colab": {
          "base_uri": "https://localhost:8080/",
          "height": 34
        },
        "outputId": "27e85fa2-6d88-4742-9f83-241cbe503f55"
      },
      "source": [
        "analysis = TTestIndPower()\n",
        "\n",
        "result = analysis.solve_power(effect_size=0.50, nobs1=None, alpha=0.05, power=0.80, ratio=1.0)\n",
        "2 * math.ceil(result)"
      ],
      "execution_count": 2,
      "outputs": [
        {
          "output_type": "execute_result",
          "data": {
            "text/plain": [
              "128"
            ]
          },
          "metadata": {
            "tags": []
          },
          "execution_count": 2
        }
      ]
    },
    {
      "cell_type": "markdown",
      "metadata": {
        "id": "KxJeLu0l68yy",
        "colab_type": "text"
      },
      "source": [
        ""
      ]
    },
    {
      "cell_type": "markdown",
      "metadata": {
        "id": "LcNVmyGsG4KB",
        "colab_type": "text"
      },
      "source": [
        "### Computing Effect Size Required\n",
        "\n",
        "Suppose we are conducting a test where we have:\n",
        "\n",
        "- Sample size of 100\n",
        "- Significance level of 0.05\n",
        "- Looking to achieve 80% statistical power\n",
        "\n",
        "How large of an effect size would we need to see for this experiment?"
      ]
    },
    {
      "cell_type": "code",
      "metadata": {
        "id": "kxOoM94zG4KC",
        "colab_type": "code",
        "colab": {
          "base_uri": "https://localhost:8080/",
          "height": 34
        },
        "outputId": "13d2d5d7-c89e-48dc-93ed-7045806a76d6"
      },
      "source": [
        "analysis = TTestIndPower()\n",
        "\n",
        "result = analysis.solve_power(effect_size=None, nobs1=100, alpha=0.05, power=0.80, ratio=1.0)\n",
        "result"
      ],
      "execution_count": 3,
      "outputs": [
        {
          "output_type": "execute_result",
          "data": {
            "text/plain": [
              "0.39813911739112756"
            ]
          },
          "metadata": {
            "tags": []
          },
          "execution_count": 3
        }
      ]
    },
    {
      "cell_type": "markdown",
      "metadata": {
        "id": "nhp7zvBmG4KH",
        "colab_type": "text"
      },
      "source": [
        "Generate a power plot that shows how the statistical power of this test would change based on the number of observations and varying effect sizes."
      ]
    },
    {
      "cell_type": "code",
      "metadata": {
        "id": "l2UvpmXCG4KI",
        "colab_type": "code",
        "colab": {
          "base_uri": "https://localhost:8080/",
          "height": 294
        },
        "outputId": "755222bb-7ff6-4f07-ab30-dcd1f16f9bb0"
      },
      "source": [
        "effect_sizes = np.array([.2,.5,.8])\n",
        "sample_sizes = np.array(range(5, 100))\n",
        "\n",
        "analysis = TTestIndPower()\n",
        "result = analysis.plot_power(dep_var='nobs', nobs=sample_sizes,effect_size=effect_sizes)\n",
        "plt.show()"
      ],
      "execution_count": 4,
      "outputs": [
        {
          "output_type": "display_data",
          "data": {
            "image/png": "[encoded data removed]",
            "text/plain": [
              "<Figure size 432x288 with 1 Axes>"
            ]
          },
          "metadata": {
            "tags": [],
            "needs_background": "light"
          }
        }
      ]
    },
    {
      "cell_type": "markdown",
      "metadata": {
        "id": "k1mp4tBXG4KP",
        "colab_type": "text"
      },
      "source": [
        "### Computing Statistical Power\n",
        "\n",
        "Suppose we are conducting a test where we have:\n",
        "\n",
        "- Effect size of 0.4\n",
        "- Sample size of 100\n",
        "- Significance level of 0.05\n",
        "\n",
        "What would be the statistical power for this experiment?"
      ]
    },
    {
      "cell_type": "code",
      "metadata": {
        "id": "iohYAowNG4KR",
        "colab_type": "code",
        "colab": {
          "base_uri": "https://localhost:8080/",
          "height": 34
        },
        "outputId": "ad7403d7-1312-481a-ca61-9f30157bccfb"
      },
      "source": [
        "analysis = TTestIndPower()\n",
        "\n",
        "result = analysis.solve_power(effect_size=0.4, nobs1=100, alpha=0.05, power=None, ratio=1.0)\n",
        "result"
      ],
      "execution_count": 5,
      "outputs": [
        {
          "output_type": "execute_result",
          "data": {
            "text/plain": [
              "0.8036474965430769"
            ]
          },
          "metadata": {
            "tags": []
          },
          "execution_count": 5
        }
      ]
    },
    {
      "cell_type": "markdown",
      "metadata": {
        "id": "ZoXJHNZiG4KV",
        "colab_type": "text"
      },
      "source": [
        "Generate a plot that examines how the statistical power of this experiment would change based on different significance levels."
      ]
    },
    {
      "cell_type": "code",
      "metadata": {
        "id": "XvUtHG29G4KX",
        "colab_type": "code",
        "colab": {
          "base_uri": "https://localhost:8080/",
          "height": 265
        },
        "outputId": "5ba6e163-1435-4812-c22c-2670f3f4917d"
      },
      "source": [
        "alpha_sizes = np.array([.01,.02,.03,.04,.05,.06,.07,.08,.09,.1])\n",
        "\n",
        "analysis = TTestIndPower()\n",
        "results = []\n",
        "\n",
        "for a in alpha_sizes:\n",
        "  r = analysis.solve_power(alpha=a, power=None, nobs1=100, effect_size=0.4, ratio=1.0)\n",
        "  results.append(r)\n",
        "\n",
        "plt.plot(alpha_sizes, results)\n",
        "plt.show()"
      ],
      "execution_count": 15,
      "outputs": [
        {
          "output_type": "display_data",
          "data": {
            "image/png": "[encoded data removed]",
            "text/plain": [
              "<Figure size 432x288 with 1 Axes>"
            ]
          },
          "metadata": {
            "tags": [],
            "needs_background": "light"
          }
        }
      ]
    },
    {
      "cell_type": "code",
      "metadata": {
        "id": "6eO6yBfiBE5L",
        "colab_type": "code",
        "colab": {}
      },
      "source": [
        ""
      ],
      "execution_count": null,
      "outputs": []
    },
    {
      "cell_type": "markdown",
      "metadata": {
        "id": "tkf74qmRG4Ke",
        "colab_type": "text"
      },
      "source": [
        "## Computing Statistical Power for a Real Data Set\n",
        "\n",
        "Yesterday afternoon, you conducted a t-test on the titanic data set to determine whether there was a significant difference between the average age of passengers who survived and those who did not survive. In this section, compute the statistical power of that test."
      ]
    },
    {
      "cell_type": "markdown",
      "metadata": {
        "id": "KzYOXFNuG4Kf",
        "colab_type": "text"
      },
      "source": [
        "### Import the data, and drop rows where `'Age'` is NA."
      ]
    },
    {
      "cell_type": "code",
      "metadata": {
        "id": "W3C_d3s_FDR8",
        "colab_type": "code",
        "colab": {}
      },
      "source": [
        "data_url = 'https://tf-assets-prod.s3.amazonaws.com/tf-curric/data-science/titanic.csv'"
      ],
      "execution_count": 16,
      "outputs": []
    },
    {
      "cell_type": "code",
      "metadata": {
        "id": "s0aP3nZAG4Kg",
        "colab_type": "code",
        "colab": {
          "base_uri": "https://localhost:8080/",
          "height": 202
        },
        "outputId": "7f07257d-609e-44af-9da5-1dff02dfc56a"
      },
      "source": [
        "titanic = pd.read_csv(data_url)\n",
        "\n",
        "titanic = titanic.dropna()\n",
        "\n",
        "titanic.head()"
      ],
      "execution_count": 25,
      "outputs": [
        {
          "output_type": "execute_result",
          "data": {
            "text/html": [
              "<div>\n",
              "<style scoped>\n",
              "    .dataframe tbody tr th:only-of-type {\n",
              "        vertical-align: middle;\n",
              "    }\n",
              "\n",
              "    .dataframe tbody tr th {\n",
              "        vertical-align: top;\n",
              "    }\n",
              "\n",
              "    .dataframe thead th {\n",
              "        text-align: right;\n",
              "    }\n",
              "</style>\n",
              "<table border=\"1\" class=\"dataframe\">\n",
              "  <thead>\n",
              "    <tr style=\"text-align: right;\">\n",
              "      <th></th>\n",
              "      <th>PassengerId</th>\n",
              "      <th>Survived</th>\n",
              "      <th>Pclass</th>\n",
              "      <th>Name</th>\n",
              "      <th>Sex</th>\n",
              "      <th>Age</th>\n",
              "      <th>SibSp</th>\n",
              "      <th>Parch</th>\n",
              "      <th>Ticket</th>\n",
              "      <th>Fare</th>\n",
              "      <th>Cabin</th>\n",
              "      <th>Embarked</th>\n",
              "    </tr>\n",
              "  </thead>\n",
              "  <tbody>\n",
              "    <tr>\n",
              "      <th>1</th>\n",
              "      <td>2</td>\n",
              "      <td>1</td>\n",
              "      <td>1</td>\n",
              "      <td>Cumings, Mrs. John Bradley (Florence Briggs Th...</td>\n",
              "      <td>female</td>\n",
              "      <td>38.0</td>\n",
              "      <td>1</td>\n",
              "      <td>0</td>\n",
              "      <td>PC 17599</td>\n",
              "      <td>71.2833</td>\n",
              "      <td>C85</td>\n",
              "      <td>C</td>\n",
              "    </tr>\n",
              "    <tr>\n",
              "      <th>3</th>\n",
              "      <td>4</td>\n",
              "      <td>1</td>\n",
              "      <td>1</td>\n",
              "      <td>Futrelle, Mrs. Jacques Heath (Lily May Peel)</td>\n",
              "      <td>female</td>\n",
              "      <td>35.0</td>\n",
              "      <td>1</td>\n",
              "      <td>0</td>\n",
              "      <td>113803</td>\n",
              "      <td>53.1000</td>\n",
              "      <td>C123</td>\n",
              "      <td>S</td>\n",
              "    </tr>\n",
              "    <tr>\n",
              "      <th>6</th>\n",
              "      <td>7</td>\n",
              "      <td>0</td>\n",
              "      <td>1</td>\n",
              "      <td>McCarthy, Mr. Timothy J</td>\n",
              "      <td>male</td>\n",
              "      <td>54.0</td>\n",
              "      <td>0</td>\n",
              "      <td>0</td>\n",
              "      <td>17463</td>\n",
              "      <td>51.8625</td>\n",
              "      <td>E46</td>\n",
              "      <td>S</td>\n",
              "    </tr>\n",
              "    <tr>\n",
              "      <th>10</th>\n",
              "      <td>11</td>\n",
              "      <td>1</td>\n",
              "      <td>3</td>\n",
              "      <td>Sandstrom, Miss. Marguerite Rut</td>\n",
              "      <td>female</td>\n",
              "      <td>4.0</td>\n",
              "      <td>1</td>\n",
              "      <td>1</td>\n",
              "      <td>PP 9549</td>\n",
              "      <td>16.7000</td>\n",
              "      <td>G6</td>\n",
              "      <td>S</td>\n",
              "    </tr>\n",
              "    <tr>\n",
              "      <th>11</th>\n",
              "      <td>12</td>\n",
              "      <td>1</td>\n",
              "      <td>1</td>\n",
              "      <td>Bonnell, Miss. Elizabeth</td>\n",
              "      <td>female</td>\n",
              "      <td>58.0</td>\n",
              "      <td>0</td>\n",
              "      <td>0</td>\n",
              "      <td>113783</td>\n",
              "      <td>26.5500</td>\n",
              "      <td>C103</td>\n",
              "      <td>S</td>\n",
              "    </tr>\n",
              "  </tbody>\n",
              "</table>\n",
              "</div>"
            ],
            "text/plain": [
              "    PassengerId  Survived  Pclass  ...     Fare Cabin  Embarked\n",
              "1             2         1       1  ...  71.2833   C85         C\n",
              "3             4         1       1  ...  53.1000  C123         S\n",
              "6             7         0       1  ...  51.8625   E46         S\n",
              "10           11         1       3  ...  16.7000    G6         S\n",
              "11           12         1       1  ...  26.5500  C103         S\n",
              "\n",
              "[5 rows x 12 columns]"
            ]
          },
          "metadata": {
            "tags": []
          },
          "execution_count": 25
        }
      ]
    },
    {
      "cell_type": "markdown",
      "metadata": {
        "id": "QbnH4zT6G4Km",
        "colab_type": "text"
      },
      "source": [
        "### Summarize the number of observations and average age per group."
      ]
    },
    {
      "cell_type": "code",
      "metadata": {
        "id": "IoEmT1hoG4Ko",
        "colab_type": "code",
        "colab": {
          "base_uri": "https://localhost:8080/",
          "height": 52
        },
        "outputId": "60394fef-4513-4f2c-ea6d-bbd39a30a6e7"
      },
      "source": [
        "survived = titanic.iloc[(titanic[\"Survived\"] == 1).values][[\"Age\"]]\n",
        "not_survived = titanic.iloc[(titanic[\"Survived\"] == 0).values][[\"Age\"]]\n",
        "\n",
        "print(stats.describe(survived['Age']))\n",
        "print(stats.describe(not_survived['Age']))"
      ],
      "execution_count": 28,
      "outputs": [
        {
          "output_type": "stream",
          "text": [
            "DescribeResult(nobs=123, minmax=(0.92, 80.0), mean=32.905853658536586, variance=221.71546053578567, skewness=0.11036517600265433, kurtosis=0.031225201077919262)\n",
            "DescribeResult(nobs=60, minmax=(2.0, 71.0), mean=41.35, variance=247.73135593220334, skewness=-0.30756108127889464, kurtosis=-0.2764299013556979)\n"
          ],
          "name": "stdout"
        }
      ]
    },
    {
      "cell_type": "markdown",
      "metadata": {
        "id": "DigcDVUWG4Ks",
        "colab_type": "text"
      },
      "source": [
        "### Perform t-test."
      ]
    },
    {
      "cell_type": "code",
      "metadata": {
        "id": "oaMDD4mUG4Ku",
        "colab_type": "code",
        "colab": {
          "base_uri": "https://localhost:8080/",
          "height": 34
        },
        "outputId": "a47220f6-7005-46ce-91ec-5d3224361be3"
      },
      "source": [
        "stats.ttest_ind(survived['Age'], not_survived['Age'])"
      ],
      "execution_count": 29,
      "outputs": [
        {
          "output_type": "execute_result",
          "data": {
            "text/plain": [
              "Ttest_indResult(statistic=-3.53435125095576, pvalue=0.0005189503307881672)"
            ]
          },
          "metadata": {
            "tags": []
          },
          "execution_count": 29
        }
      ]
    },
    {
      "cell_type": "markdown",
      "metadata": {
        "id": "-JdTMpd6G4K1",
        "colab_type": "text"
      },
      "source": [
        "### Calculate the Effect Size\n",
        "\n",
        "Effect size can be calculated by using a formula known as Cohen's d, which divides the difference in means between the two groups by their pooled standard deviation.\n",
        "\n",
        "`effect_size = (mean_of_sample1 - mean_of_sample2) / pooled_stdev`\n",
        "\n",
        "The pooled standard deviation in the denominator can be derived as follows.\n",
        "\n",
        "`pooled_stdev = sqrt(((n_obs1 - 1) * var1 + (n_obs2 - 1) * var2) / (n_obs1 + n_obs2 - 2))`\n",
        "\n",
        "Where `n_obs` is the number of observations and `var` is the variance of each sample.\n",
        "\n",
        "**Write the code below to calculate the effect size for this test.**"
      ]
    },
    {
      "cell_type": "code",
      "metadata": {
        "id": "MHv8oUu4G4K3",
        "colab_type": "code",
        "colab": {}
      },
      "source": [
        "def effect(sample1, sample2):\n",
        "  mean_of_sample1 = np.mean(sample1)\n",
        "  mean_of_sample2 = np.mean(sample2)\n",
        "  n_obs1 = len(sample1)\n",
        "  n_obs2 = len(sample2)\n",
        "  var1 = np.var(sample1)\n",
        "  var2 = np.var(sample2)\n",
        "  pooled_stdev = np.sqrt(((n_obs1 - 1) * var1 + (n_obs2 - 1) * var2) / (n_obs1 + n_obs2 - 2))\n",
        "  return (mean_of_sample1 - mean_of_sample2) / pooled_stdev"
      ],
      "execution_count": 35,
      "outputs": []
    },
    {
      "cell_type": "markdown",
      "metadata": {
        "id": "fOFD5TzxG4LA",
        "colab_type": "text"
      },
      "source": [
        "**Use the effect size you calculated to compute the statistical power of this test.**"
      ]
    },
    {
      "cell_type": "code",
      "metadata": {
        "id": "IPhO1sDYG4LC",
        "colab_type": "code",
        "colab": {
          "base_uri": "https://localhost:8080/",
          "height": 34
        },
        "outputId": "f933e97c-7841-4fdc-9a5d-7837cfae7d02"
      },
      "source": [
        "effect(survived['Age'], not_survived['Age'])\n",
        "ratio = 60/123\n",
        "\n",
        "analysis = TTestIndPower()\n",
        "\n",
        "result = analysis.solve_power(effect_size=.55967, nobs1=123, alpha=0.05, power=None, ratio=ratio)\n",
        "result"
      ],
      "execution_count": 59,
      "outputs": [
        {
          "output_type": "execute_result",
          "data": {
            "text/plain": [
              "0.9424013776575748"
            ]
          },
          "metadata": {
            "tags": []
          },
          "execution_count": 59
        }
      ]
    },
    {
      "cell_type": "markdown",
      "metadata": {
        "id": "cIW3XdbLG4LI",
        "colab_type": "text"
      },
      "source": [
        "**Determine the effect size we would need to see to get a statistical power of 0.8.**"
      ]
    },
    {
      "cell_type": "code",
      "metadata": {
        "id": "fOb9oFJ2G4LK",
        "colab_type": "code",
        "colab": {
          "base_uri": "https://localhost:8080/",
          "height": 34
        },
        "outputId": "524d10b4-b405-4cfa-ddd5-59cf73a931b5"
      },
      "source": [
        "analysis = TTestIndPower()\n",
        "\n",
        "result = analysis.solve_power(effect_size=None, nobs1=123, alpha=0.05, power=.8, ratio=ratio)\n",
        "result"
      ],
      "execution_count": 63,
      "outputs": [
        {
          "output_type": "execute_result",
          "data": {
            "text/plain": [
              "0.4435226492804944"
            ]
          },
          "metadata": {
            "tags": []
          },
          "execution_count": 63
        }
      ]
    },
    {
      "cell_type": "markdown",
      "metadata": {
        "id": "kcZu7cPJG4LQ",
        "colab_type": "text"
      },
      "source": [
        "**Determine the sample size necessary to get a statistical power of 0.8.**"
      ]
    },
    {
      "cell_type": "code",
      "metadata": {
        "id": "830JBqsmG4LR",
        "colab_type": "code",
        "colab": {
          "base_uri": "https://localhost:8080/",
          "height": 34
        },
        "outputId": "0051150d-146e-4188-fce8-7fdc36409ca1"
      },
      "source": [
        "analysis = TTestIndPower()\n",
        "\n",
        "result = analysis.solve_power(effect_size=.5596, nobs1=None, alpha=0.05, power=.8, ratio=ratio)\n",
        "2 * math.ceil(result)"
      ],
      "execution_count": 65,
      "outputs": [
        {
          "output_type": "execute_result",
          "data": {
            "text/plain": [
              "156"
            ]
          },
          "metadata": {
            "tags": []
          },
          "execution_count": 65
        }
      ]
    },
    {
      "cell_type": "markdown",
      "metadata": {
        "id": "XdUZfjwrG4LX",
        "colab_type": "text"
      },
      "source": [
        "**Generate a visualization that shows the significance level we would need to get a statistical power of 0.8.**"
      ]
    },
    {
      "cell_type": "code",
      "metadata": {
        "id": "q1FgfzqNG4LZ",
        "colab_type": "code",
        "colab": {
          "base_uri": "https://localhost:8080/",
          "height": 282
        },
        "outputId": "ec63c587-1665-46b4-e0a3-6854433d1e8a"
      },
      "source": [
        "alpha_sizes = np.array([.001,.002,.003,.004,.005,.006,.007,.008,.009,.01,.011,.012])\n",
        "\n",
        "analysis = TTestIndPower()\n",
        "results = []\n",
        "\n",
        "for a in alpha_sizes:\n",
        "  r = analysis.solve_power(alpha=a, power=None, nobs1=123, effect_size=-.55967, ratio=ratio)\n",
        "  results.append(r)\n",
        "\n",
        "plt.plot(alpha_sizes, results)\n",
        "t = analysis.solve_power(alpha=None, power=.8, nobs1=123, effect_size=-.55967, ratio=ratio)\n",
        "plt.axvline(t,color='green')\n",
        "print(t)\n",
        "plt.show()"
      ],
      "execution_count": 73,
      "outputs": [
        {
          "output_type": "stream",
          "text": [
            "0.007422337615246621\n"
          ],
          "name": "stdout"
        },
        {
          "output_type": "display_data",
          "data": {
            "image/png": "[encoded data removed]",
            "text/plain": [
              "<Figure size 432x288 with 1 Axes>"
            ]
          },
          "metadata": {
            "tags": [],
            "needs_background": "light"
          }
        }
      ]
    }
  ]
}