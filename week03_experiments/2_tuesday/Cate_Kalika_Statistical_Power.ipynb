{
  "nbformat": 4,
  "nbformat_minor": 0,
  "metadata": {
    "kernelspec": {
      "display_name": "Python 3",
      "language": "python",
      "name": "python3"
    },
    "language_info": {
      "codemirror_mode": {
        "name": "ipython",
        "version": 3
      },
      "file_extension": ".py",
      "mimetype": "text/x-python",
      "name": "python",
      "nbconvert_exporter": "python",
      "pygments_lexer": "ipython3",
      "version": "3.7.6"
    },
    "colab": {
      "name": "Cate_Kalika_Statistical_Power.ipynb",
      "provenance": [],
      "collapsed_sections": []
    }
  },
  "cells": [
    {
      "cell_type": "markdown",
      "metadata": {
        "id": "HFf2astgG4Ja",
        "colab_type": "text"
      },
      "source": [
        "# Statistical Power Assignment"
      ]
    },
    {
      "cell_type": "code",
      "metadata": {
        "id": "CJSstY75G4Jc",
        "colab_type": "code",
        "colab": {}
      },
      "source": [
        "from numpy import array\n",
        "import numpy as np\n",
        "import pandas as pd\n",
        "import math\n",
        "\n",
        "from scipy import stats\n",
        "from statsmodels.stats.power import TTestIndPower\n",
        "\n",
        "import matplotlib.pyplot as plt\n",
        "\n",
        "%matplotlib inline"
      ],
      "execution_count": 8,
      "outputs": []
    },
    {
      "cell_type": "markdown",
      "metadata": {
        "id": "I7wJYEC-G4Jw",
        "colab_type": "text"
      },
      "source": [
        "### Computing Sample Size Required\n",
        "\n",
        "Suppose we are conducting a test where we have:\n",
        "\n",
        "- Effect size of 0.5\n",
        "- Significance level of 0.05\n",
        "- Looking to achieve 80% statistical power\n",
        "\n",
        "How large of a sample size would we need for this experiment?"
      ]
    },
    {
      "cell_type": "code",
      "metadata": {
        "id": "4mFLkvFnG4J2",
        "colab_type": "code",
        "colab": {
          "base_uri": "https://localhost:8080/",
          "height": 34
        },
        "outputId": "2c761fa0-92fc-4c03-8da4-b43ba2d03a31"
      },
      "source": [
        "analysis = TTestIndPower()\n",
        "\n",
        "result = analysis.solve_power(effect_size=0.5, nobs1=None, alpha=0.05, power=0.8, ratio=1.0)\n",
        "2 * math.ceil(result)"
      ],
      "execution_count": 4,
      "outputs": [
        {
          "output_type": "execute_result",
          "data": {
            "text/plain": [
              "128"
            ]
          },
          "metadata": {
            "tags": []
          },
          "execution_count": 4
        }
      ]
    },
    {
      "cell_type": "markdown",
      "metadata": {
        "id": "LcNVmyGsG4KB",
        "colab_type": "text"
      },
      "source": [
        "### Computing Effect Size Required\n",
        "\n",
        "Suppose we are conducting a test where we have:\n",
        "\n",
        "- Sample size of 100\n",
        "- Significance level of 0.05\n",
        "- Looking to achieve 80% statistical power\n",
        "\n",
        "How large of an effect size would we need to see for this experiment?"
      ]
    },
    {
      "cell_type": "code",
      "metadata": {
        "id": "kxOoM94zG4KC",
        "colab_type": "code",
        "colab": {
          "base_uri": "https://localhost:8080/",
          "height": 34
        },
        "outputId": "e365a487-48f5-4853-b66d-42056d0c1794"
      },
      "source": [
        "result = analysis.solve_power(effect_size=None, nobs1=100, alpha=0.05, power=0.8, ratio=1.0)\n",
        "round(result,1)"
      ],
      "execution_count": 6,
      "outputs": [
        {
          "output_type": "execute_result",
          "data": {
            "text/plain": [
              "0.4"
            ]
          },
          "metadata": {
            "tags": []
          },
          "execution_count": 6
        }
      ]
    },
    {
      "cell_type": "markdown",
      "metadata": {
        "id": "nhp7zvBmG4KH",
        "colab_type": "text"
      },
      "source": [
        "Generate a power plot that shows how the statistical power of this test would change based on the number of observations and varying effect sizes."
      ]
    },
    {
      "cell_type": "code",
      "metadata": {
        "id": "l2UvpmXCG4KI",
        "colab_type": "code",
        "colab": {
          "base_uri": "https://localhost:8080/",
          "height": 295
        },
        "outputId": "35adcbc3-5e02-4272-f0b7-e313fc1fa741"
      },
      "source": [
        "effect_sizes = array([0.1, 0.2, 0.4, 0.5, 0.9])\n",
        "sample_sizes = array(range(5,100))\n",
        "\n",
        "analysis = TTestIndPower()\n",
        "analysis.plot_power(dep_var='nobs', nobs=sample_sizes, effect_size=effect_sizes)\n",
        "plt.show()"
      ],
      "execution_count": 9,
      "outputs": [
        {
          "output_type": "display_data",
          "data": {
            "image/png": "[encoded data removed]",
            "text/plain": [
              "<Figure size 432x288 with 1 Axes>"
            ]
          },
          "metadata": {
            "tags": [],
            "needs_background": "light"
          }
        }
      ]
    },
    {
      "cell_type": "markdown",
      "metadata": {
        "id": "k1mp4tBXG4KP",
        "colab_type": "text"
      },
      "source": [
        "### Computing Statistical Power\n",
        "\n",
        "Suppose we are conducting a test where we have:\n",
        "\n",
        "- Effect size of 0.4\n",
        "- Sample size of 100\n",
        "- Significance level of 0.05\n",
        "\n",
        "What would be the statistical power for this experiment?"
      ]
    },
    {
      "cell_type": "code",
      "metadata": {
        "id": "iohYAowNG4KR",
        "colab_type": "code",
        "colab": {
          "base_uri": "https://localhost:8080/",
          "height": 34
        },
        "outputId": "4f21cc1f-5591-411f-c0d6-1cda8a1d54e4"
      },
      "source": [
        "result = analysis.solve_power(effect_size=.4, nobs1=100, alpha=0.05, power=None, ratio=1.0)\n",
        "print(round(result * 100), \"%\")"
      ],
      "execution_count": 13,
      "outputs": [
        {
          "output_type": "stream",
          "text": [
            "80.0 %\n"
          ],
          "name": "stdout"
        }
      ]
    },
    {
      "cell_type": "markdown",
      "metadata": {
        "id": "ZoXJHNZiG4KV",
        "colab_type": "text"
      },
      "source": [
        "Generate a plot that examines how the statistical power of this experiment would change based on different significance levels."
      ]
    },
    {
      "cell_type": "code",
      "metadata": {
        "id": "XvUtHG29G4KX",
        "colab_type": "code",
        "colab": {
          "base_uri": "https://localhost:8080/",
          "height": 295
        },
        "outputId": "5db5f71c-c4c2-4a3d-891c-dcc3c5e44c49"
      },
      "source": [
        "nobsy = array(range(5,7))\n",
        "effect_sizes = array([0.1, 0.2, 0.4, 0.5, 0.9])\n",
        "significance_levels = array([0.1, 0.2, 0.4, 0.5, 0.9])\n",
        "\n",
        "analysis = TTestIndPower()\n",
        "analysis.plot_power(dep_var='alpha', nobs=nobsy, alpha=significance_levels, effect_size=effect_sizes)\n",
        "plt.show()"
      ],
      "execution_count": 33,
      "outputs": [
        {
          "output_type": "display_data",
          "data": {
            "image/png": "[encoded data removed]",
            "text/plain": [
              "<Figure size 432x288 with 1 Axes>"
            ]
          },
          "metadata": {
            "tags": [],
            "needs_background": "light"
          }
        }
      ]
    },
    {
      "cell_type": "markdown",
      "metadata": {
        "id": "tkf74qmRG4Ke",
        "colab_type": "text"
      },
      "source": [
        "## Computing Statistical Power for a Real Data Set\n",
        "\n",
        "Yesterday afternoon, you conducted a t-test on the titanic data set to determine whether there was a significant difference between the average age of passengers who survived and those who did not survive. In this section, compute the statistical power of that test."
      ]
    },
    {
      "cell_type": "markdown",
      "metadata": {
        "id": "KzYOXFNuG4Kf",
        "colab_type": "text"
      },
      "source": [
        "### Import the data, and drop rows where `'Age'` is NA."
      ]
    },
    {
      "cell_type": "code",
      "metadata": {
        "id": "W3C_d3s_FDR8",
        "colab_type": "code",
        "colab": {}
      },
      "source": [
        "data_url = 'https://tf-assets-prod.s3.amazonaws.com/tf-curric/data-science/titanic.csv'"
      ],
      "execution_count": 36,
      "outputs": []
    },
    {
      "cell_type": "code",
      "metadata": {
        "id": "s0aP3nZAG4Kg",
        "colab_type": "code",
        "colab": {}
      },
      "source": [
        "df =pd.read_csv(data_url)\n",
        "\n",
        "\n",
        "df = df.dropna(subset=['Age'])"
      ],
      "execution_count": 39,
      "outputs": []
    },
    {
      "cell_type": "markdown",
      "metadata": {
        "id": "QbnH4zT6G4Km",
        "colab_type": "text"
      },
      "source": [
        "### Summarize the number of observations and average age per group."
      ]
    },
    {
      "cell_type": "code",
      "metadata": {
        "id": "IoEmT1hoG4Ko",
        "colab_type": "code",
        "colab": {
          "base_uri": "https://localhost:8080/",
          "height": 319
        },
        "outputId": "21b3e5b5-eb74-4615-b3ff-b560f6ae54d8"
      },
      "source": [
        "alive = df[df['Survived'] == 1]\n",
        "dead = df[df['Survived'] == 0]\n",
        "\n",
        "print(alive['Age'].describe())\n",
        "print(dead['Age'].describe())"
      ],
      "execution_count": 47,
      "outputs": [
        {
          "output_type": "stream",
          "text": [
            "count    290.000000\n",
            "mean      28.343690\n",
            "std       14.950952\n",
            "min        0.420000\n",
            "25%       19.000000\n",
            "50%       28.000000\n",
            "75%       36.000000\n",
            "max       80.000000\n",
            "Name: Age, dtype: float64\n",
            "count    424.000000\n",
            "mean      30.626179\n",
            "std       14.172110\n",
            "min        1.000000\n",
            "25%       21.000000\n",
            "50%       28.000000\n",
            "75%       39.000000\n",
            "max       74.000000\n",
            "Name: Age, dtype: float64\n"
          ],
          "name": "stdout"
        }
      ]
    },
    {
      "cell_type": "markdown",
      "metadata": {
        "id": "DigcDVUWG4Ks",
        "colab_type": "text"
      },
      "source": [
        "### Perform t-test."
      ]
    },
    {
      "cell_type": "code",
      "metadata": {
        "id": "oaMDD4mUG4Ku",
        "colab_type": "code",
        "colab": {
          "base_uri": "https://localhost:8080/",
          "height": 34
        },
        "outputId": "3c0cb800-ec81-4223-fe4c-335ac3fa825d"
      },
      "source": [
        "stats.ttest_ind(dead['Age'], alive['Age'])"
      ],
      "execution_count": 48,
      "outputs": [
        {
          "output_type": "execute_result",
          "data": {
            "text/plain": [
              "Ttest_indResult(statistic=2.06668694625381, pvalue=0.03912465401348249)"
            ]
          },
          "metadata": {
            "tags": []
          },
          "execution_count": 48
        }
      ]
    },
    {
      "cell_type": "markdown",
      "metadata": {
        "id": "-JdTMpd6G4K1",
        "colab_type": "text"
      },
      "source": [
        "### Calculate the Effect Size\n",
        "\n",
        "Effect size can be calculated by using a formula known as Cohen's d, which divides the difference in means between the two groups by their pooled standard deviation.\n",
        "\n",
        "`effect_size = (mean_of_sample1 - mean_of_sample2) / pooled_stdev`\n",
        "\n",
        "The pooled standard deviation in the denominator can be derived as follows.\n",
        "\n",
        "`pooled_stdev = sqrt(((n_obs1 - 1) * var1 + (n_obs2 - 1) * var2) / (n_obs1 + n_obs2 - 2))`\n",
        "\n",
        "Where `n_obs` is the number of observations and `var` is the variance of each sample.\n",
        "\n",
        "**Write the code below to calculate the effect size for this test.**"
      ]
    },
    {
      "cell_type": "code",
      "metadata": {
        "id": "MHv8oUu4G4K3",
        "colab_type": "code",
        "colab": {
          "base_uri": "https://localhost:8080/",
          "height": 34
        },
        "outputId": "dbb99204-95e0-40f0-a6ac-2fa399dc8f08"
      },
      "source": [
        "avg_alive = alive['Age'].mean()\n",
        "avg_dead = dead['Age'].mean()\n",
        "n_obs1 = alive['Age'].count()\n",
        "n_obs2 = dead['Age'].count()\n",
        "var1 = alive['Age'].var()\n",
        "var2 = dead['Age'].var()\n",
        "\n",
        "pooled_stdev = math.sqrt(((n_obs1 - 1) * var1 + (n_obs2 - 1) * var2) / (n_obs1 + n_obs2 - 2))\n",
        "effect_size = (avg_dead - avg_alive) / pooled_stdev\n",
        "\n",
        "print(effect_size)"
      ],
      "execution_count": 53,
      "outputs": [
        {
          "output_type": "stream",
          "text": [
            "0.15748597191363298\n"
          ],
          "name": "stdout"
        }
      ]
    },
    {
      "cell_type": "markdown",
      "metadata": {
        "id": "fOFD5TzxG4LA",
        "colab_type": "text"
      },
      "source": [
        "**Use the effect size you calculated to compute the statistical power of this test.**"
      ]
    },
    {
      "cell_type": "code",
      "metadata": {
        "id": "IPhO1sDYG4LC",
        "colab_type": "code",
        "colab": {
          "base_uri": "https://localhost:8080/",
          "height": 34
        },
        "outputId": "9739e182-8516-4341-c4e2-b918564bbf77"
      },
      "source": [
        "result = analysis.solve_power(effect_size=effect_size, nobs1=n_obs1+n_obs2, alpha=0.05, power=None, ratio=1.0)\n",
        "print(round(result * 100), \"%\")"
      ],
      "execution_count": 54,
      "outputs": [
        {
          "output_type": "stream",
          "text": [
            "84.0 %\n"
          ],
          "name": "stdout"
        }
      ]
    },
    {
      "cell_type": "markdown",
      "metadata": {
        "id": "cIW3XdbLG4LI",
        "colab_type": "text"
      },
      "source": [
        "**Determine the effect size we would need to see to get a statistical power of 0.8.**"
      ]
    },
    {
      "cell_type": "code",
      "metadata": {
        "id": "fOb9oFJ2G4LK",
        "colab_type": "code",
        "colab": {
          "base_uri": "https://localhost:8080/",
          "height": 34
        },
        "outputId": "fb38c5c2-27c2-4b95-923e-de13c4b627e5"
      },
      "source": [
        "result = analysis.solve_power(effect_size=None, nobs1=n_obs1+n_obs2, alpha=0.05, power=0.8, ratio=1.0)\n",
        "round(result,1)"
      ],
      "execution_count": 55,
      "outputs": [
        {
          "output_type": "execute_result",
          "data": {
            "text/plain": [
              "0.1"
            ]
          },
          "metadata": {
            "tags": []
          },
          "execution_count": 55
        }
      ]
    },
    {
      "cell_type": "markdown",
      "metadata": {
        "id": "kcZu7cPJG4LQ",
        "colab_type": "text"
      },
      "source": [
        "**Determine the sample size necessary to get a statistical power of 0.8.**"
      ]
    },
    {
      "cell_type": "code",
      "metadata": {
        "id": "830JBqsmG4LR",
        "colab_type": "code",
        "colab": {
          "base_uri": "https://localhost:8080/",
          "height": 34
        },
        "outputId": "ca1b619b-fa2d-4b4f-c623-deb16b18beb0"
      },
      "source": [
        "sample = analysis.solve_power(effect_size=result, nobs1=None, alpha=0.05, power=0.8, ratio=1.0)\n",
        "2 * math.ceil(sample)"
      ],
      "execution_count": 57,
      "outputs": [
        {
          "output_type": "execute_result",
          "data": {
            "text/plain": [
              "1430"
            ]
          },
          "metadata": {
            "tags": []
          },
          "execution_count": 57
        }
      ]
    },
    {
      "cell_type": "markdown",
      "metadata": {
        "id": "XdUZfjwrG4LX",
        "colab_type": "text"
      },
      "source": [
        "**Generate a visualization that shows the significance level we would need to get a statistical power of 0.8.**"
      ]
    },
    {
      "cell_type": "code",
      "metadata": {
        "id": "q1FgfzqNG4LZ",
        "colab_type": "code",
        "colab": {
          "base_uri": "https://localhost:8080/",
          "height": 295
        },
        "outputId": "f6f58659-8ff9-40a1-c6ef-f457f5016573"
      },
      "source": [
        "nobsy = array([1420, 1430])\n",
        "effect_sizes = array([0.1, 0.2, 0.4, 0.5, 0.9])\n",
        "significance_levels = array([0.0, 0.1, 0.2, 0.3, 0.4])\n",
        "\n",
        "analysis = TTestIndPower()\n",
        "analysis.plot_power(dep_var='alpha', nobs=nobsy, alpha=significance_levels, effect_size=effect_sizes)\n",
        "plt.hlines(0.8, 0, 0.4)\n",
        "plt.show()"
      ],
      "execution_count": 88,
      "outputs": [
        {
          "output_type": "display_data",
          "data": {
            "image/png": "[encoded data removed]",
            "text/plain": [
              "<Figure size 432x288 with 1 Axes>"
            ]
          },
          "metadata": {
            "tags": [],
            "needs_background": "light"
          }
        }
      ]
    }
  ]
}