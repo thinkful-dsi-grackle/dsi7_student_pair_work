{
  "nbformat": 4,
  "nbformat_minor": 0,
  "metadata": {
    "kernelspec": {
      "display_name": "Python 3",
      "language": "python",
      "name": "python3"
    },
    "language_info": {
      "codemirror_mode": {
        "name": "ipython",
        "version": 3
      },
      "file_extension": ".py",
      "mimetype": "text/x-python",
      "name": "python",
      "nbconvert_exporter": "python",
      "pygments_lexer": "ipython3",
      "version": "3.7.6"
    },
    "colab": {
      "name": "Day 12 Lecture 2 Assignment_Noah_y_Oscar.ipynb",
      "provenance": [],
      "collapsed_sections": []
    }
  },
  "cells": [
    {
      "cell_type": "markdown",
      "metadata": {
        "id": "HFf2astgG4Ja",
        "colab_type": "text"
      },
      "source": [
        "# Statistical Power Assignment"
      ]
    },
    {
      "cell_type": "code",
      "metadata": {
        "id": "CJSstY75G4Jc",
        "colab_type": "code",
        "colab": {}
      },
      "source": [
        "import numpy as np\n",
        "import pandas as pd\n",
        "import math\n",
        "from scipy import stats\n",
        "from statsmodels.stats.power import TTestIndPower\n",
        "\n",
        "import matplotlib.pyplot as plt\n",
        "\n",
        "%matplotlib inline"
      ],
      "execution_count": 6,
      "outputs": []
    },
    {
      "cell_type": "markdown",
      "metadata": {
        "id": "I7wJYEC-G4Jw",
        "colab_type": "text"
      },
      "source": [
        "### Computing Sample Size Required\n",
        "\n",
        "Suppose we are conducting a test where we have:\n",
        "\n",
        "- Effect size of 0.5\n",
        "- Significance level of 0.05\n",
        "- Looking to achieve 80% statistical power\n",
        "\n",
        "How large of a sample size would we need for this experiment?"
      ]
    },
    {
      "cell_type": "code",
      "metadata": {
        "id": "4mFLkvFnG4J2",
        "colab_type": "code",
        "colab": {
          "base_uri": "https://localhost:8080/",
          "height": 88
        },
        "outputId": "ac53ba1c-a368-4a50-d06a-20b269c814d7"
      },
      "source": [
        "from statsmodels.stats.power import TTestIndPower\n",
        "\n",
        "effect = 0.5\n",
        "alpha = 0.05\n",
        "power = 0.8\n",
        "\n",
        "analysis = TTestIndPower()\n",
        "result = analysis.solve_power(effect, power=power, nobs1=None, ratio=1.0, alpha=alpha)\n",
        "\n",
        "print('Sample Size: %.3f' % result)\n",
        "\n",
        "#64 = 64*2= 128"
      ],
      "execution_count": 1,
      "outputs": [
        {
          "output_type": "stream",
          "text": [
            "/usr/local/lib/python3.6/dist-packages/statsmodels/tools/_testing.py:19: FutureWarning: pandas.util.testing is deprecated. Use the functions in the public API at pandas.testing instead.\n",
            "  import pandas.util.testing as tm\n"
          ],
          "name": "stderr"
        },
        {
          "output_type": "stream",
          "text": [
            "Sample Size: 63.766\n"
          ],
          "name": "stdout"
        }
      ]
    },
    {
      "cell_type": "code",
      "metadata": {
        "id": "pbJrsbp76ci1",
        "colab_type": "code",
        "colab": {
          "base_uri": "https://localhost:8080/",
          "height": 34
        },
        "outputId": "e971d597-7fbf-4154-8289-2fb9efdd3f82"
      },
      "source": [
        "analysis = TTestIndPower()\n",
        "result = analysis.solve_power(effect_size=0.5, power=0.8, nobs1=None, ratio=1.0, alpha=0.05)\n",
        "2*math.ceil(result)"
      ],
      "execution_count": 7,
      "outputs": [
        {
          "output_type": "execute_result",
          "data": {
            "text/plain": [
              "128"
            ]
          },
          "metadata": {
            "tags": []
          },
          "execution_count": 7
        }
      ]
    },
    {
      "cell_type": "markdown",
      "metadata": {
        "id": "LcNVmyGsG4KB",
        "colab_type": "text"
      },
      "source": [
        "### Computing Effect Size Required\n",
        "\n",
        "Suppose we are conducting a test where we have:\n",
        "\n",
        "- Sample size of 100\n",
        "- Significance level of 0.05\n",
        "- Looking to achieve 80% statistical power\n",
        "\n",
        "How large of an effect size would we need to see for this experiment?"
      ]
    },
    {
      "cell_type": "code",
      "metadata": {
        "id": "kxOoM94zG4KC",
        "colab_type": "code",
        "colab": {}
      },
      "source": [
        "from numpy import array\n",
        "from matplotlib import pyplot\n",
        "from statsmodels.stats.power import TTestIndPower\n"
      ],
      "execution_count": 9,
      "outputs": []
    },
    {
      "cell_type": "code",
      "metadata": {
        "id": "PMWZL5wUDgmH",
        "colab_type": "code",
        "colab": {
          "base_uri": "https://localhost:8080/",
          "height": 34
        },
        "outputId": "b2bda866-bcdb-4788-8351-8e9d34a7209a"
      },
      "source": [
        "effect_size = analysis.solve_power(effect_size=None, nobs1=100, alpha=0.05, power=0.8, ratio=1.0)\n",
        "\n",
        "effect_size"
      ],
      "execution_count": 27,
      "outputs": [
        {
          "output_type": "execute_result",
          "data": {
            "text/plain": [
              "0.39813911739112756"
            ]
          },
          "metadata": {
            "tags": []
          },
          "execution_count": 27
        }
      ]
    },
    {
      "cell_type": "markdown",
      "metadata": {
        "id": "nhp7zvBmG4KH",
        "colab_type": "text"
      },
      "source": [
        "Generate a power plot that shows how the statistical power of this test would change based on the number of observations and varying effect sizes."
      ]
    },
    {
      "cell_type": "code",
      "metadata": {
        "id": "l2UvpmXCG4KI",
        "colab_type": "code",
        "colab": {
          "base_uri": "https://localhost:8080/",
          "height": 282
        },
        "outputId": "b6ede967-05fd-47f2-ae82-7644c6e8d577"
      },
      "source": [
        "results = []\n",
        "samples = range(1,500)\n",
        "for i in samples:\n",
        "\n",
        "    results.append(analysis.solve_power(effect_size=effect_size, nobs1= i, alpha=0.05, power= None, ratio= 1.0))\n",
        "plt.plot(samples, results)"
      ],
      "execution_count": 31,
      "outputs": [
        {
          "output_type": "execute_result",
          "data": {
            "text/plain": [
              "[<matplotlib.lines.Line2D at 0x7fce2dc61780>]"
            ]
          },
          "metadata": {
            "tags": []
          },
          "execution_count": 31
        },
        {
          "output_type": "display_data",
          "data": {
            "image/png": "[encoded data removed]",
            "text/plain": [
              "<Figure size 432x288 with 1 Axes>"
            ]
          },
          "metadata": {
            "tags": [],
            "needs_background": "light"
          }
        }
      ]
    },
    {
      "cell_type": "markdown",
      "metadata": {
        "id": "k1mp4tBXG4KP",
        "colab_type": "text"
      },
      "source": [
        "### Computing Statistical Power\n",
        "\n",
        "Suppose we are conducting a test where we have:\n",
        "\n",
        "- Effect size of 0.4\n",
        "- Sample size of 100\n",
        "- Significance level of 0.05\n",
        "\n",
        "What would be the statistical power for this experiment?"
      ]
    },
    {
      "cell_type": "code",
      "metadata": {
        "id": "iohYAowNG4KR",
        "colab_type": "code",
        "colab": {
          "base_uri": "https://localhost:8080/",
          "height": 34
        },
        "outputId": "e3a0b254-67f6-46b1-f72d-bae1e4894b6e"
      },
      "source": [
        "analysis.solve_power(effect_size=0.4, nobs1=100, ratio=1.0, alpha=0.05, power=None)"
      ],
      "execution_count": 32,
      "outputs": [
        {
          "output_type": "execute_result",
          "data": {
            "text/plain": [
              "0.8036474965430769"
            ]
          },
          "metadata": {
            "tags": []
          },
          "execution_count": 32
        }
      ]
    },
    {
      "cell_type": "markdown",
      "metadata": {
        "id": "ZoXJHNZiG4KV",
        "colab_type": "text"
      },
      "source": [
        "Generate a plot that examines how the statistical power of this experiment would change based on different significance levels."
      ]
    },
    {
      "cell_type": "code",
      "metadata": {
        "id": "XvUtHG29G4KX",
        "colab_type": "code",
        "colab": {
          "base_uri": "https://localhost:8080/",
          "height": 282
        },
        "outputId": "d5fc8edb-66fc-45c5-9da9-ece3623c3cc8"
      },
      "source": [
        "results = []\n",
        "s_lvls = pd.Series(range(1, 500))\n",
        "s_lvls = s_lvls/1000\n",
        "for i in s_lvls:\n",
        "    results.append(analysis.solve_power(effect_size=0.4, nobs1=100, power=None, ratio=1.0, alpha=i))\n",
        "\n",
        "plt.plot(s_lvls, results)"
      ],
      "execution_count": 37,
      "outputs": [
        {
          "output_type": "execute_result",
          "data": {
            "text/plain": [
              "[<matplotlib.lines.Line2D at 0x7fce2ab06be0>]"
            ]
          },
          "metadata": {
            "tags": []
          },
          "execution_count": 37
        },
        {
          "output_type": "display_data",
          "data": {
            "image/png": "[encoded data removed]",
            "text/plain": [
              "<Figure size 432x288 with 1 Axes>"
            ]
          },
          "metadata": {
            "tags": [],
            "needs_background": "light"
          }
        }
      ]
    },
    {
      "cell_type": "markdown",
      "metadata": {
        "id": "tkf74qmRG4Ke",
        "colab_type": "text"
      },
      "source": [
        "## Computing Statistical Power for a Real Data Set\n",
        "\n",
        "Yesterday afternoon, you conducted a t-test on the titanic data set to determine whether there was a significant difference between the average age of passengers who survived and those who did not survive. In this section, compute the statistical power of that test."
      ]
    },
    {
      "cell_type": "markdown",
      "metadata": {
        "id": "KzYOXFNuG4Kf",
        "colab_type": "text"
      },
      "source": [
        "### Import the data, and drop rows where `'Age'` is NA."
      ]
    },
    {
      "cell_type": "code",
      "metadata": {
        "id": "W3C_d3s_FDR8",
        "colab_type": "code",
        "colab": {
          "base_uri": "https://localhost:8080/",
          "height": 255
        },
        "outputId": "f17a7dd0-ad2c-4f52-d595-ad2c8b363951"
      },
      "source": [
        "data_url = 'https://tf-assets-prod.s3.amazonaws.com/tf-curric/data-science/titanic.csv'\n",
        "df = pd.read_csv(data_url)\n",
        "df.describe"
      ],
      "execution_count": 39,
      "outputs": [
        {
          "output_type": "execute_result",
          "data": {
            "text/plain": [
              "<bound method NDFrame.describe of      PassengerId  Survived  Pclass  ...     Fare Cabin  Embarked\n",
              "0              1         0       3  ...   7.2500   NaN         S\n",
              "1              2         1       1  ...  71.2833   C85         C\n",
              "2              3         1       3  ...   7.9250   NaN         S\n",
              "3              4         1       1  ...  53.1000  C123         S\n",
              "4              5         0       3  ...   8.0500   NaN         S\n",
              "..           ...       ...     ...  ...      ...   ...       ...\n",
              "886          887         0       2  ...  13.0000   NaN         S\n",
              "887          888         1       1  ...  30.0000   B42         S\n",
              "888          889         0       3  ...  23.4500   NaN         S\n",
              "889          890         1       1  ...  30.0000  C148         C\n",
              "890          891         0       3  ...   7.7500   NaN         Q\n",
              "\n",
              "[891 rows x 12 columns]>"
            ]
          },
          "metadata": {
            "tags": []
          },
          "execution_count": 39
        }
      ]
    },
    {
      "cell_type": "code",
      "metadata": {
        "id": "s0aP3nZAG4Kg",
        "colab_type": "code",
        "colab": {}
      },
      "source": [
        "df = df.dropna()\n",
        "df_s = df.loc[df['Survived']== 1]\n",
        "df_n_s = df.loc[df['Survived']== 0]\n"
      ],
      "execution_count": 41,
      "outputs": []
    },
    {
      "cell_type": "markdown",
      "metadata": {
        "id": "QbnH4zT6G4Km",
        "colab_type": "text"
      },
      "source": [
        "### Summarize the number of observations and average age per group."
      ]
    },
    {
      "cell_type": "code",
      "metadata": {
        "id": "IoEmT1hoG4Ko",
        "colab_type": "code",
        "colab": {}
      },
      "source": [
        "n_obs1 = len(df_n_s['Age'])\n",
        "n_obs2 = len(df_s['Age'])\n",
        "mean_of_sample1 = df_n_s['Age'].mean()\n",
        "mean_of_sample2 = df_s['Age'].mean()\n",
        "\n",
        "var1 = df_n_s['Age'].var()\n",
        "var2 = df_s['Age'].var()"
      ],
      "execution_count": 44,
      "outputs": []
    },
    {
      "cell_type": "markdown",
      "metadata": {
        "id": "DigcDVUWG4Ks",
        "colab_type": "text"
      },
      "source": [
        "### Perform t-test."
      ]
    },
    {
      "cell_type": "code",
      "metadata": {
        "id": "oaMDD4mUG4Ku",
        "colab_type": "code",
        "colab": {
          "base_uri": "https://localhost:8080/",
          "height": 34
        },
        "outputId": "0d22d418-305e-4601-d09a-28140587f148"
      },
      "source": [
        "stats.ttest_ind(df_n_s['Age'], df_s['Age'])"
      ],
      "execution_count": 43,
      "outputs": [
        {
          "output_type": "execute_result",
          "data": {
            "text/plain": [
              "Ttest_indResult(statistic=3.53435125095576, pvalue=0.0005189503307881672)"
            ]
          },
          "metadata": {
            "tags": []
          },
          "execution_count": 43
        }
      ]
    },
    {
      "cell_type": "markdown",
      "metadata": {
        "id": "-JdTMpd6G4K1",
        "colab_type": "text"
      },
      "source": [
        "### Calculate the Effect Size\n",
        "\n",
        "Effect size can be calculated by using a formula known as Cohen's d, which divides the difference in means between the two groups by their pooled standard deviation.\n",
        "\n",
        "`effect_size = (mean_of_sample1 - mean_of_sample2) / pooled_stdev`\n",
        "\n",
        "The pooled standard deviation in the denominator can be derived as follows.\n",
        "\n",
        "`pooled_stdev = sqrt(((n_obs1 - 1) * var1 + (n_obs2 - 1) * var2) / (n_obs1 + n_obs2 - 2))`\n",
        "\n",
        "Where `n_obs` is the number of observations and `var` is the variance of each sample.\n",
        "\n",
        "**Write the code below to calculate the effect size for this test.**"
      ]
    },
    {
      "cell_type": "code",
      "metadata": {
        "id": "MHv8oUu4G4K3",
        "colab_type": "code",
        "colab": {
          "base_uri": "https://localhost:8080/",
          "height": 34
        },
        "outputId": "f3d77a0d-5430-47f3-b680-36393cc9d55c"
      },
      "source": [
        "pooled_stdev = math.sqrt(((n_obs1 - 1) * var1 + (n_obs2 - 1) * var2) / (n_obs1 + n_obs2 - 2))\n",
        "effect_size = (mean_of_sample1 - mean_of_sample2) / pooled_stdev\n",
        "ratio = n_obs2/n_obs1\n",
        "effect_size "
      ],
      "execution_count": 45,
      "outputs": [
        {
          "output_type": "execute_result",
          "data": {
            "text/plain": [
              "0.5565536974630488"
            ]
          },
          "metadata": {
            "tags": []
          },
          "execution_count": 45
        }
      ]
    },
    {
      "cell_type": "markdown",
      "metadata": {
        "id": "fOFD5TzxG4LA",
        "colab_type": "text"
      },
      "source": [
        "**Use the effect size you calculated to compute the statistical power of this test.**"
      ]
    },
    {
      "cell_type": "code",
      "metadata": {
        "id": "IPhO1sDYG4LC",
        "colab_type": "code",
        "colab": {
          "base_uri": "https://localhost:8080/",
          "height": 34
        },
        "outputId": "40b9a160-ee9d-4cc2-8b90-0ce458e5ae20"
      },
      "source": [
        "analysis.solve_power(effect_size=effect_size, nobs1=n_obs1, alpha=0.05, power=None, ratio=ratio)"
      ],
      "execution_count": 47,
      "outputs": [
        {
          "output_type": "execute_result",
          "data": {
            "text/plain": [
              "0.9400951377841825"
            ]
          },
          "metadata": {
            "tags": []
          },
          "execution_count": 47
        }
      ]
    },
    {
      "cell_type": "markdown",
      "metadata": {
        "id": "cIW3XdbLG4LI",
        "colab_type": "text"
      },
      "source": [
        "**Determine the effect size we would need to see to get a statistical power of 0.8.**"
      ]
    },
    {
      "cell_type": "code",
      "metadata": {
        "id": "fOb9oFJ2G4LK",
        "colab_type": "code",
        "colab": {
          "base_uri": "https://localhost:8080/",
          "height": 34
        },
        "outputId": "bab77a15-9798-41ff-ac9c-a1ab3373471d"
      },
      "source": [
        "analysis.solve_power(effect_size=None, nobs1=n_obs1, alpha=0.05, power=0.8, ratio=ratio)\n"
      ],
      "execution_count": 48,
      "outputs": [
        {
          "output_type": "execute_result",
          "data": {
            "text/plain": [
              "0.4435226492804944"
            ]
          },
          "metadata": {
            "tags": []
          },
          "execution_count": 48
        }
      ]
    },
    {
      "cell_type": "markdown",
      "metadata": {
        "id": "kcZu7cPJG4LQ",
        "colab_type": "text"
      },
      "source": [
        "**Determine the sample size necessary to get a statistical power of 0.8.**"
      ]
    },
    {
      "cell_type": "code",
      "metadata": {
        "id": "830JBqsmG4LR",
        "colab_type": "code",
        "colab": {
          "base_uri": "https://localhost:8080/",
          "height": 34
        },
        "outputId": "5fcd07d1-f0bd-468d-ded8-a192c1822d66"
      },
      "source": [
        "sample_size = analysis.solve_power(effect_size=effect_size, nobs1=None, alpha=0.05, power=0.8, ratio=ratio)\n",
        "math.ceil(sample_size)"
      ],
      "execution_count": 49,
      "outputs": [
        {
          "output_type": "execute_result",
          "data": {
            "text/plain": [
              "39"
            ]
          },
          "metadata": {
            "tags": []
          },
          "execution_count": 49
        }
      ]
    },
    {
      "cell_type": "markdown",
      "metadata": {
        "id": "XdUZfjwrG4LX",
        "colab_type": "text"
      },
      "source": [
        "**Generate a visualization that shows the significance level we would need to get a statistical power of 0.8.**"
      ]
    },
    {
      "cell_type": "code",
      "metadata": {
        "id": "q1FgfzqNG4LZ",
        "colab_type": "code",
        "colab": {
          "base_uri": "https://localhost:8080/",
          "height": 282
        },
        "outputId": "3bbfe329-2871-4d89-dc2b-2cbcd9b2dfe1"
      },
      "source": [
        "results = []\n",
        "s_lvls = pd.Series(range(1, 50))\n",
        "s_lvls = s_lvls/1000\n",
        "for i in s_lvls:\n",
        "    results.append(analysis.solve_power(effect_size=effect_size, nobs1=n_obs1, power=None, ratio=ratio, alpha=i))\n",
        "\n",
        "plt.plot(s_lvls, results)\n",
        "chart = analysis.solve_power(effect_size=effect_size, nobs1=n_obs1, alpha=None, power=0.8, ratio=ratio)\n",
        "plt.axvline(chart, color='green')\n",
        "chart"
      ],
      "execution_count": 51,
      "outputs": [
        {
          "output_type": "execute_result",
          "data": {
            "text/plain": [
              "0.00785621360820275"
            ]
          },
          "metadata": {
            "tags": []
          },
          "execution_count": 51
        },
        {
          "output_type": "display_data",
          "data": {
            "image/png": "[encoded data removed]",
            "text/plain": [
              "<Figure size 432x288 with 1 Axes>"
            ]
          },
          "metadata": {
            "tags": [],
            "needs_background": "light"
          }
        }
      ]
    },
    {
      "cell_type": "code",
      "metadata": {
        "id": "dDtGEBlVapic",
        "colab_type": "code",
        "colab": {}
      },
      "source": [
        ""
      ],
      "execution_count": null,
      "outputs": []
    }
  ]
}