{
  "nbformat": 4,
  "nbformat_minor": 0,
  "metadata": {
    "colab": {
      "name": "day_12_lecture_1_barrett_george.ipynb",
      "provenance": []
    },
    "kernelspec": {
      "name": "python3",
      "display_name": "Python 3"
    }
  },
  "cells": [
    {
      "cell_type": "markdown",
      "metadata": {
        "id": "Vhrs-UCiPQ1n",
        "colab_type": "text"
      },
      "source": [
        "The data comes from a longitudinal study of lung tomography measurements of different groups of patients.\n",
        "\n",
        "Download at https://tf-assets-prod.s3.amazonaws.com/tf-curric/data-science/lung-volume.csv\n",
        "\n",
        "For each group, is there a significant difference between time 1 and time 2?\n",
        "\n",
        "Is there a significant difference in the mean of all groups at time 2?"
      ]
    },
    {
      "cell_type": "code",
      "metadata": {
        "id": "X_PjV2_HPHZx",
        "colab_type": "code",
        "colab": {}
      },
      "source": [
        "import pandas as pd\n",
        "import numpy as np\n",
        "from scipy import stats\n",
        "import matplotlib.pyplot as plt\n",
        "import seaborn as sns\n",
        "import math\n",
        "from statsmodels.stats.multicomp import pairwise_tukeyhsd\n",
        "%matplotlib inline"
      ],
      "execution_count": 90,
      "outputs": []
    },
    {
      "cell_type": "code",
      "metadata": {
        "id": "ZT3pCFX8Pspt",
        "colab_type": "code",
        "colab": {
          "base_uri": "https://localhost:8080/",
          "height": 391
        },
        "outputId": "bedce904-8cd1-4641-dc26-db0f1a71c25f"
      },
      "source": [
        "lung_df = pd.read_csv('https://tf-assets-prod.s3.amazonaws.com/tf-curric/data-science/lung-volume.csv')\n",
        "lung_df.info()\n",
        "lung_df.head()"
      ],
      "execution_count": 60,
      "outputs": [
        {
          "output_type": "stream",
          "text": [
            "<class 'pandas.core.frame.DataFrame'>\n",
            "RangeIndex: 400 entries, 0 to 399\n",
            "Data columns (total 4 columns):\n",
            " #   Column   Non-Null Count  Dtype \n",
            "---  ------   --------------  ----- \n",
            " 0   group    400 non-null    int64 \n",
            " 1   patient  400 non-null    object\n",
            " 2   t1       400 non-null    int64 \n",
            " 3   t2       400 non-null    int64 \n",
            "dtypes: int64(3), object(1)\n",
            "memory usage: 12.6+ KB\n"
          ],
          "name": "stdout"
        },
        {
          "output_type": "execute_result",
          "data": {
            "text/html": [
              "<div>\n",
              "<style scoped>\n",
              "    .dataframe tbody tr th:only-of-type {\n",
              "        vertical-align: middle;\n",
              "    }\n",
              "\n",
              "    .dataframe tbody tr th {\n",
              "        vertical-align: top;\n",
              "    }\n",
              "\n",
              "    .dataframe thead th {\n",
              "        text-align: right;\n",
              "    }\n",
              "</style>\n",
              "<table border=\"1\" class=\"dataframe\">\n",
              "  <thead>\n",
              "    <tr style=\"text-align: right;\">\n",
              "      <th></th>\n",
              "      <th>group</th>\n",
              "      <th>patient</th>\n",
              "      <th>t1</th>\n",
              "      <th>t2</th>\n",
              "    </tr>\n",
              "  </thead>\n",
              "  <tbody>\n",
              "    <tr>\n",
              "      <th>0</th>\n",
              "      <td>1</td>\n",
              "      <td>1-1</td>\n",
              "      <td>4226</td>\n",
              "      <td>4497</td>\n",
              "    </tr>\n",
              "    <tr>\n",
              "      <th>1</th>\n",
              "      <td>1</td>\n",
              "      <td>1-2</td>\n",
              "      <td>5731</td>\n",
              "      <td>5665</td>\n",
              "    </tr>\n",
              "    <tr>\n",
              "      <th>2</th>\n",
              "      <td>1</td>\n",
              "      <td>1-3</td>\n",
              "      <td>3912</td>\n",
              "      <td>4505</td>\n",
              "    </tr>\n",
              "    <tr>\n",
              "      <th>3</th>\n",
              "      <td>1</td>\n",
              "      <td>1-4</td>\n",
              "      <td>4811</td>\n",
              "      <td>6472</td>\n",
              "    </tr>\n",
              "    <tr>\n",
              "      <th>4</th>\n",
              "      <td>1</td>\n",
              "      <td>1-5</td>\n",
              "      <td>5128</td>\n",
              "      <td>4710</td>\n",
              "    </tr>\n",
              "  </tbody>\n",
              "</table>\n",
              "</div>"
            ],
            "text/plain": [
              "   group patient    t1    t2\n",
              "0      1     1-1  4226  4497\n",
              "1      1     1-2  5731  5665\n",
              "2      1     1-3  3912  4505\n",
              "3      1     1-4  4811  6472\n",
              "4      1     1-5  5128  4710"
            ]
          },
          "metadata": {
            "tags": []
          },
          "execution_count": 60
        }
      ]
    },
    {
      "cell_type": "code",
      "metadata": {
        "id": "HarAA1YUP0_X",
        "colab_type": "code",
        "colab": {
          "base_uri": "https://localhost:8080/",
          "height": 85
        },
        "outputId": "53231f04-bb29-4db7-88c2-06e346fef7b0"
      },
      "source": [
        "lung_df['group'].value_counts()"
      ],
      "execution_count": 61,
      "outputs": [
        {
          "output_type": "execute_result",
          "data": {
            "text/plain": [
              "1    200\n",
              "3    100\n",
              "2    100\n",
              "Name: group, dtype: int64"
            ]
          },
          "metadata": {
            "tags": []
          },
          "execution_count": 61
        }
      ]
    },
    {
      "cell_type": "code",
      "metadata": {
        "id": "4ploL6N9QHaw",
        "colab_type": "code",
        "colab": {
          "base_uri": "https://localhost:8080/",
          "height": 404
        },
        "outputId": "fb578d04-87b1-4ae8-d716-aa185f7f275f"
      },
      "source": [
        "plt.figure(figsize=(14,6))\n",
        "sns.violinplot(x=\"group\", y=\"t1\", data=lung_df)\n",
        "plt.title('Violin plot between groups for time 1')\n",
        "plt.show()"
      ],
      "execution_count": 62,
      "outputs": [
        {
          "output_type": "display_data",
          "data": {
            "image/png": "[encoded data removed]",
            "text/plain": [
              "<Figure size 1008x432 with 1 Axes>"
            ]
          },
          "metadata": {
            "tags": [],
            "needs_background": "light"
          }
        }
      ]
    },
    {
      "cell_type": "code",
      "metadata": {
        "id": "3xc_UZeuQ52a",
        "colab_type": "code",
        "colab": {
          "base_uri": "https://localhost:8080/",
          "height": 404
        },
        "outputId": "137e6121-6205-4e4f-c682-8579a58daa19"
      },
      "source": [
        "plt.figure(figsize=(14,6))\n",
        "sns.violinplot(x=\"group\", y=\"t2\", data=lung_df)\n",
        "plt.title('Violin plot between groups for time 2')\n",
        "plt.show()"
      ],
      "execution_count": 63,
      "outputs": [
        {
          "output_type": "display_data",
          "data": {
            "image/png": "[encoded data removed]",
            "text/plain": [
              "<Figure size 1008x432 with 1 Axes>"
            ]
          },
          "metadata": {
            "tags": [],
            "needs_background": "light"
          }
        }
      ]
    },
    {
      "cell_type": "markdown",
      "metadata": {
        "id": "cw6fzSxUZQp_",
        "colab_type": "text"
      },
      "source": [
        "**For each group, is there a significant difference between time 1 and time 2?**"
      ]
    },
    {
      "cell_type": "markdown",
      "metadata": {
        "id": "6E66VYdrZVG9",
        "colab_type": "text"
      },
      "source": [
        "**Group 1**"
      ]
    },
    {
      "cell_type": "code",
      "metadata": {
        "id": "RvKjRByYZP_E",
        "colab_type": "code",
        "colab": {
          "base_uri": "https://localhost:8080/",
          "height": 530
        },
        "outputId": "cc5954c4-a8a4-436a-8e68-766cc5239bef"
      },
      "source": [
        "group_1 = lung_df.loc[lung_df['group']==1]\n",
        "group_1['t_diff'] = group_1['t2'] - group_1['t1']\n",
        "group_1.info()\n",
        "group_1.head()"
      ],
      "execution_count": 64,
      "outputs": [
        {
          "output_type": "stream",
          "text": [
            "<class 'pandas.core.frame.DataFrame'>\n",
            "Int64Index: 200 entries, 0 to 199\n",
            "Data columns (total 5 columns):\n",
            " #   Column   Non-Null Count  Dtype \n",
            "---  ------   --------------  ----- \n",
            " 0   group    200 non-null    int64 \n",
            " 1   patient  200 non-null    object\n",
            " 2   t1       200 non-null    int64 \n",
            " 3   t2       200 non-null    int64 \n",
            " 4   t_diff   200 non-null    int64 \n",
            "dtypes: int64(4), object(1)\n",
            "memory usage: 9.4+ KB\n"
          ],
          "name": "stdout"
        },
        {
          "output_type": "stream",
          "text": [
            "/usr/local/lib/python3.6/dist-packages/ipykernel_launcher.py:2: SettingWithCopyWarning: \n",
            "A value is trying to be set on a copy of a slice from a DataFrame.\n",
            "Try using .loc[row_indexer,col_indexer] = value instead\n",
            "\n",
            "See the caveats in the documentation: https://pandas.pydata.org/pandas-docs/stable/user_guide/indexing.html#returning-a-view-versus-a-copy\n",
            "  \n"
          ],
          "name": "stderr"
        },
        {
          "output_type": "execute_result",
          "data": {
            "text/html": [
              "<div>\n",
              "<style scoped>\n",
              "    .dataframe tbody tr th:only-of-type {\n",
              "        vertical-align: middle;\n",
              "    }\n",
              "\n",
              "    .dataframe tbody tr th {\n",
              "        vertical-align: top;\n",
              "    }\n",
              "\n",
              "    .dataframe thead th {\n",
              "        text-align: right;\n",
              "    }\n",
              "</style>\n",
              "<table border=\"1\" class=\"dataframe\">\n",
              "  <thead>\n",
              "    <tr style=\"text-align: right;\">\n",
              "      <th></th>\n",
              "      <th>group</th>\n",
              "      <th>patient</th>\n",
              "      <th>t1</th>\n",
              "      <th>t2</th>\n",
              "      <th>t_diff</th>\n",
              "    </tr>\n",
              "  </thead>\n",
              "  <tbody>\n",
              "    <tr>\n",
              "      <th>0</th>\n",
              "      <td>1</td>\n",
              "      <td>1-1</td>\n",
              "      <td>4226</td>\n",
              "      <td>4497</td>\n",
              "      <td>271</td>\n",
              "    </tr>\n",
              "    <tr>\n",
              "      <th>1</th>\n",
              "      <td>1</td>\n",
              "      <td>1-2</td>\n",
              "      <td>5731</td>\n",
              "      <td>5665</td>\n",
              "      <td>-66</td>\n",
              "    </tr>\n",
              "    <tr>\n",
              "      <th>2</th>\n",
              "      <td>1</td>\n",
              "      <td>1-3</td>\n",
              "      <td>3912</td>\n",
              "      <td>4505</td>\n",
              "      <td>593</td>\n",
              "    </tr>\n",
              "    <tr>\n",
              "      <th>3</th>\n",
              "      <td>1</td>\n",
              "      <td>1-4</td>\n",
              "      <td>4811</td>\n",
              "      <td>6472</td>\n",
              "      <td>1661</td>\n",
              "    </tr>\n",
              "    <tr>\n",
              "      <th>4</th>\n",
              "      <td>1</td>\n",
              "      <td>1-5</td>\n",
              "      <td>5128</td>\n",
              "      <td>4710</td>\n",
              "      <td>-418</td>\n",
              "    </tr>\n",
              "  </tbody>\n",
              "</table>\n",
              "</div>"
            ],
            "text/plain": [
              "   group patient    t1    t2  t_diff\n",
              "0      1     1-1  4226  4497     271\n",
              "1      1     1-2  5731  5665     -66\n",
              "2      1     1-3  3912  4505     593\n",
              "3      1     1-4  4811  6472    1661\n",
              "4      1     1-5  5128  4710    -418"
            ]
          },
          "metadata": {
            "tags": []
          },
          "execution_count": 64
        }
      ]
    },
    {
      "cell_type": "code",
      "metadata": {
        "id": "b5HjpuN2aSMe",
        "colab_type": "code",
        "colab": {
          "base_uri": "https://localhost:8080/",
          "height": 374
        },
        "outputId": "4dc3b451-78dd-4f7a-8c8c-ca765a91197f"
      },
      "source": [
        "plt.figure(figsize=(14,6))\n",
        "plt.hist(group_1['t1'], alpha = 0.5, label = 'time 1')\n",
        "plt.hist(group_1['t2'], alpha = 0.5, label= 'time 2')\n",
        "plt.axvline(group_1['t1'].mean(), c='r', ls='dashed')\n",
        "plt.axvline(group_1['t2'].mean(), c='r', ls='dashed')\n",
        "plt.legend()\n",
        "plt.show()"
      ],
      "execution_count": 88,
      "outputs": [
        {
          "output_type": "display_data",
          "data": {
            "image/png": "[encoded data removed]",
            "text/plain": [
              "<Figure size 1008x432 with 1 Axes>"
            ]
          },
          "metadata": {
            "tags": [],
            "needs_background": "light"
          }
        }
      ]
    },
    {
      "cell_type": "code",
      "metadata": {
        "id": "GU9iwR6YeYHZ",
        "colab_type": "code",
        "colab": {
          "base_uri": "https://localhost:8080/",
          "height": 374
        },
        "outputId": "ddb7c3f7-847f-4f85-de76-2ae9df796763"
      },
      "source": [
        "plt.figure(figsize=(14,6))\n",
        "plt.hist(group_1['t_diff'], label = 'diff t2-t1')\n",
        "plt.legend()\n",
        "plt.show()"
      ],
      "execution_count": 46,
      "outputs": [
        {
          "output_type": "display_data",
          "data": {
            "image/png": "[encoded data removed]",
            "text/plain": [
              "<Figure size 1008x432 with 1 Axes>"
            ]
          },
          "metadata": {
            "tags": [],
            "needs_background": "light"
          }
        }
      ]
    },
    {
      "cell_type": "code",
      "metadata": {
        "id": "tYmPYhzhdlhG",
        "colab_type": "code",
        "colab": {
          "base_uri": "https://localhost:8080/",
          "height": 71
        },
        "outputId": "dcbfb169-355d-493b-86c0-11f722b4fa40"
      },
      "source": [
        "print(stats.describe(group_1['t_diff']))\n",
        "print(stats.shapiro(group_1['t_diff']))"
      ],
      "execution_count": 47,
      "outputs": [
        {
          "output_type": "stream",
          "text": [
            "DescribeResult(nobs=200, minmax=(-2087, 2498), mean=14.07, variance=390848.356884422, skewness=0.5059669289277815, kurtosis=2.6330469885600785)\n",
            "(0.9512620568275452, 2.5016638574015815e-06)\n"
          ],
          "name": "stdout"
        }
      ]
    },
    {
      "cell_type": "code",
      "metadata": {
        "id": "-hO4fiegZPJw",
        "colab_type": "code",
        "colab": {
          "base_uri": "https://localhost:8080/",
          "height": 34
        },
        "outputId": "d89572b3-d9db-4785-9e53-bb3336a83086"
      },
      "source": [
        "stats.ttest_rel(group_1['t1'], group_1['t2'])"
      ],
      "execution_count": 72,
      "outputs": [
        {
          "output_type": "execute_result",
          "data": {
            "text/plain": [
              "Ttest_relResult(statistic=-0.31827677584963787, pvalue=0.7506087664956842)"
            ]
          },
          "metadata": {
            "tags": []
          },
          "execution_count": 72
        }
      ]
    },
    {
      "cell_type": "markdown",
      "metadata": {
        "id": "rAof9OmEdCD-",
        "colab_type": "text"
      },
      "source": [
        "The normality check for group 1's times is calculated with the differences between t2 and t1. Visually the difference doesn't not look normal and we can see from the statistical analysis that the kurtosis is quite large at 2.63. Furthermore, the shapiro test fails to prove that the difference is normal with a p_value much smaller than 0.05. Therefore, we should not perform a paired t-test for group 1. \n",
        "\n",
        "Even if we did assume normality, the relative t-test for group 1's t1 and t2 fields failed to reject the null with a p_value of 0.75, meaning that the mean difference between t1 and t2 in group 1 is equal to zero."
      ]
    },
    {
      "cell_type": "markdown",
      "metadata": {
        "id": "kCjrCIa9c8So",
        "colab_type": "text"
      },
      "source": [
        "**Group 2**"
      ]
    },
    {
      "cell_type": "code",
      "metadata": {
        "id": "x1xOFwHrc6mM",
        "colab_type": "code",
        "colab": {
          "base_uri": "https://localhost:8080/",
          "height": 530
        },
        "outputId": "7f148b72-dc46-4440-b436-6cf6fd01a045"
      },
      "source": [
        "group_2 = lung_df[lung_df['group']==2]\n",
        "group_2['t_diff'] = group_2['t2'] - group_2['t1']\n",
        "group_2.info()\n",
        "group_2.head()"
      ],
      "execution_count": 48,
      "outputs": [
        {
          "output_type": "stream",
          "text": [
            "<class 'pandas.core.frame.DataFrame'>\n",
            "Int64Index: 100 entries, 200 to 299\n",
            "Data columns (total 5 columns):\n",
            " #   Column   Non-Null Count  Dtype \n",
            "---  ------   --------------  ----- \n",
            " 0   group    100 non-null    int64 \n",
            " 1   patient  100 non-null    object\n",
            " 2   t1       100 non-null    int64 \n",
            " 3   t2       100 non-null    int64 \n",
            " 4   t_diff   100 non-null    int64 \n",
            "dtypes: int64(4), object(1)\n",
            "memory usage: 4.7+ KB\n"
          ],
          "name": "stdout"
        },
        {
          "output_type": "stream",
          "text": [
            "/usr/local/lib/python3.6/dist-packages/ipykernel_launcher.py:2: SettingWithCopyWarning: \n",
            "A value is trying to be set on a copy of a slice from a DataFrame.\n",
            "Try using .loc[row_indexer,col_indexer] = value instead\n",
            "\n",
            "See the caveats in the documentation: https://pandas.pydata.org/pandas-docs/stable/user_guide/indexing.html#returning-a-view-versus-a-copy\n",
            "  \n"
          ],
          "name": "stderr"
        },
        {
          "output_type": "execute_result",
          "data": {
            "text/html": [
              "<div>\n",
              "<style scoped>\n",
              "    .dataframe tbody tr th:only-of-type {\n",
              "        vertical-align: middle;\n",
              "    }\n",
              "\n",
              "    .dataframe tbody tr th {\n",
              "        vertical-align: top;\n",
              "    }\n",
              "\n",
              "    .dataframe thead th {\n",
              "        text-align: right;\n",
              "    }\n",
              "</style>\n",
              "<table border=\"1\" class=\"dataframe\">\n",
              "  <thead>\n",
              "    <tr style=\"text-align: right;\">\n",
              "      <th></th>\n",
              "      <th>group</th>\n",
              "      <th>patient</th>\n",
              "      <th>t1</th>\n",
              "      <th>t2</th>\n",
              "      <th>t_diff</th>\n",
              "    </tr>\n",
              "  </thead>\n",
              "  <tbody>\n",
              "    <tr>\n",
              "      <th>200</th>\n",
              "      <td>2</td>\n",
              "      <td>2-1</td>\n",
              "      <td>7372</td>\n",
              "      <td>7430</td>\n",
              "      <td>58</td>\n",
              "    </tr>\n",
              "    <tr>\n",
              "      <th>201</th>\n",
              "      <td>2</td>\n",
              "      <td>2-2</td>\n",
              "      <td>4580</td>\n",
              "      <td>4860</td>\n",
              "      <td>280</td>\n",
              "    </tr>\n",
              "    <tr>\n",
              "      <th>202</th>\n",
              "      <td>2</td>\n",
              "      <td>2-3</td>\n",
              "      <td>4389</td>\n",
              "      <td>3806</td>\n",
              "      <td>-583</td>\n",
              "    </tr>\n",
              "    <tr>\n",
              "      <th>203</th>\n",
              "      <td>2</td>\n",
              "      <td>2-4</td>\n",
              "      <td>4785</td>\n",
              "      <td>5537</td>\n",
              "      <td>752</td>\n",
              "    </tr>\n",
              "    <tr>\n",
              "      <th>204</th>\n",
              "      <td>2</td>\n",
              "      <td>2-5</td>\n",
              "      <td>5315</td>\n",
              "      <td>4011</td>\n",
              "      <td>-1304</td>\n",
              "    </tr>\n",
              "  </tbody>\n",
              "</table>\n",
              "</div>"
            ],
            "text/plain": [
              "     group patient    t1    t2  t_diff\n",
              "200      2     2-1  7372  7430      58\n",
              "201      2     2-2  4580  4860     280\n",
              "202      2     2-3  4389  3806    -583\n",
              "203      2     2-4  4785  5537     752\n",
              "204      2     2-5  5315  4011   -1304"
            ]
          },
          "metadata": {
            "tags": []
          },
          "execution_count": 48
        }
      ]
    },
    {
      "cell_type": "code",
      "metadata": {
        "id": "HAJiVN5cc7D9",
        "colab_type": "code",
        "colab": {
          "base_uri": "https://localhost:8080/",
          "height": 374
        },
        "outputId": "95f72813-0715-4e0b-9de5-dc812b913dde"
      },
      "source": [
        "plt.figure(figsize=(14,6))\n",
        "plt.hist(group_2['t1'], alpha = 0.5, label = 'time 1')\n",
        "plt.hist(group_2['t2'], alpha = 0.5, label= 'time 2')\n",
        "plt.axvline(group_2['t1'].mean(), c='r', ls='dashed')\n",
        "plt.axvline(group_2['t2'].mean(), c='r', ls='dashed')\n",
        "plt.legend()\n",
        "plt.show()"
      ],
      "execution_count": 87,
      "outputs": [
        {
          "output_type": "display_data",
          "data": {
            "image/png": "[encoded data removed]",
            "text/plain": [
              "<Figure size 1008x432 with 1 Axes>"
            ]
          },
          "metadata": {
            "tags": [],
            "needs_background": "light"
          }
        }
      ]
    },
    {
      "cell_type": "code",
      "metadata": {
        "id": "UlkB2PrTc7St",
        "colab_type": "code",
        "colab": {
          "base_uri": "https://localhost:8080/",
          "height": 374
        },
        "outputId": "17b81e01-7929-4052-a870-d89287d9a639"
      },
      "source": [
        "plt.figure(figsize=(14,6))\n",
        "plt.hist(group_2['t_diff'], label = 'diff t2-t1')\n",
        "plt.legend()\n",
        "plt.show()"
      ],
      "execution_count": 66,
      "outputs": [
        {
          "output_type": "display_data",
          "data": {
            "image/png": "[encoded data removed]",
            "text/plain": [
              "<Figure size 1008x432 with 1 Axes>"
            ]
          },
          "metadata": {
            "tags": [],
            "needs_background": "light"
          }
        }
      ]
    },
    {
      "cell_type": "code",
      "metadata": {
        "id": "7BwyiWWvc63E",
        "colab_type": "code",
        "colab": {
          "base_uri": "https://localhost:8080/",
          "height": 71
        },
        "outputId": "ddda5625-7b89-40ed-819d-6ad58eeeb743"
      },
      "source": [
        "print(stats.describe(group_2['t_diff']))\n",
        "print(stats.shapiro(group_2['t_diff']))"
      ],
      "execution_count": 68,
      "outputs": [
        {
          "output_type": "stream",
          "text": [
            "DescribeResult(nobs=100, minmax=(-1304, 1905), mean=-18.0, variance=302161.0707070707, skewness=0.3237019462539288, kurtosis=1.0006404124552226)\n",
            "(0.9814630746841431, 0.17255757749080658)\n"
          ],
          "name": "stdout"
        }
      ]
    },
    {
      "cell_type": "code",
      "metadata": {
        "id": "Le_WuXuOc6cZ",
        "colab_type": "code",
        "colab": {
          "base_uri": "https://localhost:8080/",
          "height": 34
        },
        "outputId": "6434f93b-fa54-4d5f-a660-003d92b102f3"
      },
      "source": [
        "stats.ttest_rel(group_2['t1'], group_2['t2'])"
      ],
      "execution_count": 71,
      "outputs": [
        {
          "output_type": "execute_result",
          "data": {
            "text/plain": [
              "Ttest_relResult(statistic=0.32745622415118286, pvalue=0.7440142766032991)"
            ]
          },
          "metadata": {
            "tags": []
          },
          "execution_count": 71
        }
      ]
    },
    {
      "cell_type": "markdown",
      "metadata": {
        "id": "DOHRE4P7fR1a",
        "colab_type": "text"
      },
      "source": [
        "The difference in group 2 appears to be more normal, as the kurtosis is smaller (1.0) and the distribution passes the shapiro normality test with a p_value of 0.17 > 0.05. However, the relative t-test fails to reject the null as the p_value is 0.744 > 0.05. Therefore, the mean difference between t1 and t2 for group 2 is equal to zero."
      ]
    },
    {
      "cell_type": "markdown",
      "metadata": {
        "id": "tbWR5drbc-qW",
        "colab_type": "text"
      },
      "source": [
        "**Group 3**"
      ]
    },
    {
      "cell_type": "code",
      "metadata": {
        "id": "kRYCyd-SZO3E",
        "colab_type": "code",
        "colab": {
          "base_uri": "https://localhost:8080/",
          "height": 530
        },
        "outputId": "4ca21af6-e7fe-4ded-87d5-bdba164068cc"
      },
      "source": [
        "group_3 = lung_df[lung_df['group']==3]\n",
        "group_3['t_diff'] = group_3['t2'] - group_3['t1']\n",
        "group_3.info()\n",
        "group_3.head()"
      ],
      "execution_count": 73,
      "outputs": [
        {
          "output_type": "stream",
          "text": [
            "<class 'pandas.core.frame.DataFrame'>\n",
            "Int64Index: 100 entries, 300 to 399\n",
            "Data columns (total 5 columns):\n",
            " #   Column   Non-Null Count  Dtype \n",
            "---  ------   --------------  ----- \n",
            " 0   group    100 non-null    int64 \n",
            " 1   patient  100 non-null    object\n",
            " 2   t1       100 non-null    int64 \n",
            " 3   t2       100 non-null    int64 \n",
            " 4   t_diff   100 non-null    int64 \n",
            "dtypes: int64(4), object(1)\n",
            "memory usage: 4.7+ KB\n"
          ],
          "name": "stdout"
        },
        {
          "output_type": "stream",
          "text": [
            "/usr/local/lib/python3.6/dist-packages/ipykernel_launcher.py:2: SettingWithCopyWarning: \n",
            "A value is trying to be set on a copy of a slice from a DataFrame.\n",
            "Try using .loc[row_indexer,col_indexer] = value instead\n",
            "\n",
            "See the caveats in the documentation: https://pandas.pydata.org/pandas-docs/stable/user_guide/indexing.html#returning-a-view-versus-a-copy\n",
            "  \n"
          ],
          "name": "stderr"
        },
        {
          "output_type": "execute_result",
          "data": {
            "text/html": [
              "<div>\n",
              "<style scoped>\n",
              "    .dataframe tbody tr th:only-of-type {\n",
              "        vertical-align: middle;\n",
              "    }\n",
              "\n",
              "    .dataframe tbody tr th {\n",
              "        vertical-align: top;\n",
              "    }\n",
              "\n",
              "    .dataframe thead th {\n",
              "        text-align: right;\n",
              "    }\n",
              "</style>\n",
              "<table border=\"1\" class=\"dataframe\">\n",
              "  <thead>\n",
              "    <tr style=\"text-align: right;\">\n",
              "      <th></th>\n",
              "      <th>group</th>\n",
              "      <th>patient</th>\n",
              "      <th>t1</th>\n",
              "      <th>t2</th>\n",
              "      <th>t_diff</th>\n",
              "    </tr>\n",
              "  </thead>\n",
              "  <tbody>\n",
              "    <tr>\n",
              "      <th>300</th>\n",
              "      <td>3</td>\n",
              "      <td>3-1</td>\n",
              "      <td>3997</td>\n",
              "      <td>3895</td>\n",
              "      <td>-102</td>\n",
              "    </tr>\n",
              "    <tr>\n",
              "      <th>301</th>\n",
              "      <td>3</td>\n",
              "      <td>3-2</td>\n",
              "      <td>3765</td>\n",
              "      <td>3890</td>\n",
              "      <td>125</td>\n",
              "    </tr>\n",
              "    <tr>\n",
              "      <th>302</th>\n",
              "      <td>3</td>\n",
              "      <td>3-3</td>\n",
              "      <td>1921</td>\n",
              "      <td>2146</td>\n",
              "      <td>225</td>\n",
              "    </tr>\n",
              "    <tr>\n",
              "      <th>303</th>\n",
              "      <td>3</td>\n",
              "      <td>3-4</td>\n",
              "      <td>2742</td>\n",
              "      <td>2669</td>\n",
              "      <td>-73</td>\n",
              "    </tr>\n",
              "    <tr>\n",
              "      <th>304</th>\n",
              "      <td>3</td>\n",
              "      <td>3-5</td>\n",
              "      <td>3052</td>\n",
              "      <td>4135</td>\n",
              "      <td>1083</td>\n",
              "    </tr>\n",
              "  </tbody>\n",
              "</table>\n",
              "</div>"
            ],
            "text/plain": [
              "     group patient    t1    t2  t_diff\n",
              "300      3     3-1  3997  3895    -102\n",
              "301      3     3-2  3765  3890     125\n",
              "302      3     3-3  1921  2146     225\n",
              "303      3     3-4  2742  2669     -73\n",
              "304      3     3-5  3052  4135    1083"
            ]
          },
          "metadata": {
            "tags": []
          },
          "execution_count": 73
        }
      ]
    },
    {
      "cell_type": "code",
      "metadata": {
        "id": "Je5CREylfPcQ",
        "colab_type": "code",
        "colab": {
          "base_uri": "https://localhost:8080/",
          "height": 374
        },
        "outputId": "58182482-d50b-4b34-bb52-370ab5cbc274"
      },
      "source": [
        "plt.figure(figsize=(14,6))\n",
        "plt.hist(group_3['t1'], alpha = 0.5, label = 'time 1')\n",
        "plt.hist(group_3['t2'], alpha = 0.5, label= 'time 2')\n",
        "plt.axvline(group_3['t1'].mean(), c='r', ls='dashed')\n",
        "plt.axvline(group_3['t2'].mean(), c='r', ls='dashed')\n",
        "plt.legend()\n",
        "plt.show()"
      ],
      "execution_count": 89,
      "outputs": [
        {
          "output_type": "display_data",
          "data": {
            "image/png": "[encoded data removed]",
            "text/plain": [
              "<Figure size 1008x432 with 1 Axes>"
            ]
          },
          "metadata": {
            "tags": [],
            "needs_background": "light"
          }
        }
      ]
    },
    {
      "cell_type": "code",
      "metadata": {
        "id": "bZoY9bWefQFu",
        "colab_type": "code",
        "colab": {
          "base_uri": "https://localhost:8080/",
          "height": 374
        },
        "outputId": "de80a98f-2078-43ba-996c-d15cf07b6271"
      },
      "source": [
        "plt.figure(figsize=(14,6))\n",
        "plt.hist(group_3['t_diff'], label = 'diff t2-t1')\n",
        "plt.legend()\n",
        "plt.show()"
      ],
      "execution_count": 75,
      "outputs": [
        {
          "output_type": "display_data",
          "data": {
            "image/png": "[encoded data removed]",
            "text/plain": [
              "<Figure size 1008x432 with 1 Axes>"
            ]
          },
          "metadata": {
            "tags": [],
            "needs_background": "light"
          }
        }
      ]
    },
    {
      "cell_type": "code",
      "metadata": {
        "id": "NGVdPC9bfQb3",
        "colab_type": "code",
        "colab": {
          "base_uri": "https://localhost:8080/",
          "height": 71
        },
        "outputId": "1dbf19da-95f5-46d7-e5d3-6f9a3eae0147"
      },
      "source": [
        "print(stats.describe(group_3['t_diff']))\n",
        "print(stats.shapiro(group_3['t_diff']))"
      ],
      "execution_count": 76,
      "outputs": [
        {
          "output_type": "stream",
          "text": [
            "DescribeResult(nobs=100, minmax=(-1827, 1083), mean=-36.71, variance=166937.74333333332, skewness=-0.6776063369926263, kurtosis=3.355434798893132)\n",
            "(0.9373377561569214, 0.00013314159878063947)\n"
          ],
          "name": "stdout"
        }
      ]
    },
    {
      "cell_type": "code",
      "metadata": {
        "id": "8kd1VPlOfQRT",
        "colab_type": "code",
        "colab": {
          "base_uri": "https://localhost:8080/",
          "height": 34
        },
        "outputId": "61012c8a-b33e-44c3-f2b9-f15062ff7464"
      },
      "source": [
        "stats.ttest_rel(group_3['t1'], group_3['t2'])"
      ],
      "execution_count": 77,
      "outputs": [
        {
          "output_type": "execute_result",
          "data": {
            "text/plain": [
              "Ttest_relResult(statistic=0.8984773127301627, pvalue=0.37111115842334486)"
            ]
          },
          "metadata": {
            "tags": []
          },
          "execution_count": 77
        }
      ]
    },
    {
      "cell_type": "markdown",
      "metadata": {
        "id": "ix0q8fVWp7qS",
        "colab_type": "text"
      },
      "source": [
        "Like group 1, group 3 fails to pass the normality checks. Visually the difference between t2 and t1 does not look normal for group 3, and this is verified with a large kurtosis of 3.355 and a shapiro test of 0.0001 < 0.05.\n",
        "\n",
        "Even if we were to take the relative t-test, it would fail to reject the null that the mean difference between t2 and t1 for group is not zero. "
      ]
    },
    {
      "cell_type": "markdown",
      "metadata": {
        "id": "vgVEwetdfU6T",
        "colab_type": "text"
      },
      "source": [
        "**Is there a significant difference in the mean of all groups at time 2?**"
      ]
    },
    {
      "cell_type": "code",
      "metadata": {
        "id": "gETRCK8qateA",
        "colab_type": "code",
        "colab": {
          "base_uri": "https://localhost:8080/",
          "height": 85
        },
        "outputId": "b3a561ae-0230-43fd-9b76-d0fc07f32d61"
      },
      "source": [
        "print('Shapiro normality check for each group:')\n",
        "print('Group 1 at t2: {}'.format(stats.shapiro(group_1['t2'])))\n",
        "print('Group 2 at t2: {}'.format(stats.shapiro(group_2['t2'])))\n",
        "print('Group 3 at t2: {}'.format(stats.shapiro(group_3['t2'])))"
      ],
      "execution_count": 83,
      "outputs": [
        {
          "output_type": "stream",
          "text": [
            "Shapiro normality check for each group:\n",
            "Group 1 at t2: (0.9955824613571167, 0.8313238024711609)\n",
            "Group 2 at t2: (0.9911357164382935, 0.7556766271591187)\n",
            "Group 3 at t2: (0.9781965613365173, 0.09609080106019974)\n"
          ],
          "name": "stdout"
        }
      ]
    },
    {
      "cell_type": "code",
      "metadata": {
        "id": "2sIuTNglsdL-",
        "colab_type": "code",
        "colab": {
          "base_uri": "https://localhost:8080/",
          "height": 85
        },
        "outputId": "c603d004-0287-4a04-fdbc-d902ea8fd833"
      },
      "source": [
        "print('Variance check for each group:')\n",
        "print('Group 1 at t2: {}'.format(group_1['t2'].var()))\n",
        "print('Group 2 at t2: {}'.format(group_2['t2'].var()))\n",
        "print('Group 3 at t2: {}'.format(group_3['t2'].var()))"
      ],
      "execution_count": 84,
      "outputs": [
        {
          "output_type": "stream",
          "text": [
            "Variance check for each group:\n",
            "Group 1 at t2: 1019194.8482160798\n",
            "Group 2 at t2: 1216112.5252525255\n",
            "Group 3 at t2: 957587.443535354\n"
          ],
          "name": "stdout"
        }
      ]
    },
    {
      "cell_type": "code",
      "metadata": {
        "id": "b-3ZBQECQ90d",
        "colab_type": "code",
        "colab": {
          "base_uri": "https://localhost:8080/",
          "height": 34
        },
        "outputId": "12920bb2-bdba-493d-e9b7-da2303bd3b03"
      },
      "source": [
        "stats.f_oneway(group_1['t2'], group_2['t2'], group_3['t2'])"
      ],
      "execution_count": 27,
      "outputs": [
        {
          "output_type": "execute_result",
          "data": {
            "text/plain": [
              "F_onewayResult(statistic=67.65846945026495, pvalue=5.1893599904179e-26)"
            ]
          },
          "metadata": {
            "tags": []
          },
          "execution_count": 27
        }
      ]
    },
    {
      "cell_type": "markdown",
      "metadata": {
        "id": "V8LvPMEwX0YH",
        "colab_type": "text"
      },
      "source": [
        "The p_value for the f_oneway test is less than 0.05, therefore at least one of the groups is statistically different from the other group. So, we should procede with a Tukey's HSD test to determine which groups are different."
      ]
    },
    {
      "cell_type": "code",
      "metadata": {
        "id": "paJ_1cJ5YB2M",
        "colab_type": "code",
        "colab": {
          "base_uri": "https://localhost:8080/",
          "height": 120
        },
        "outputId": "68e17173-2037-4d4b-bbc2-6a52e32c8f75"
      },
      "source": [
        "tukey = pairwise_tukeyhsd(endog= lung_df['t2'],\n",
        "                          groups = lung_df['group'],\n",
        "                          alpha=0.05)\n",
        "\n",
        "tukey.summary()"
      ],
      "execution_count": 91,
      "outputs": [
        {
          "output_type": "execute_result",
          "data": {
            "text/html": [
              "<table class=\"simpletable\">\n",
              "<caption>Multiple Comparison of Means - Tukey HSD, FWER=0.05</caption>\n",
              "<tr>\n",
              "  <th>group1</th> <th>group2</th> <th>meandiff</th>   <th>p-adj</th>    <th>lower</th>      <th>upper</th>   <th>reject</th>\n",
              "</tr>\n",
              "<tr>\n",
              "     <td>1</td>      <td>2</td>    <td>99.705</td>   <td>0.6902</td>  <td>-195.9612</td>  <td>395.3712</td>   <td>False</td>\n",
              "</tr>\n",
              "<tr>\n",
              "     <td>1</td>      <td>3</td>   <td>-1341.865</td>  <td>0.001</td> <td>-1637.5312</td> <td>-1046.1988</td>  <td>True</td> \n",
              "</tr>\n",
              "<tr>\n",
              "     <td>2</td>      <td>3</td>   <td>-1441.57</td>   <td>0.001</td> <td>-1782.9759</td> <td>-1100.1641</td>  <td>True</td> \n",
              "</tr>\n",
              "</table>"
            ],
            "text/plain": [
              "<class 'statsmodels.iolib.table.SimpleTable'>"
            ]
          },
          "metadata": {
            "tags": []
          },
          "execution_count": 91
        }
      ]
    },
    {
      "cell_type": "markdown",
      "metadata": {
        "id": "lo4TlGJzHzmA",
        "colab_type": "text"
      },
      "source": [
        "We can see from the Tukey test that group 3 is statistically different from both group 1 and group 2 with a p_value of 0.001 for both. Therefore we can reject the null that group 3 is statistically the same as group 1 and 2 and on average group 3 is 1341.8 (s?) and 1441.57 (s?) less than group 1 and group 2 respectively. "
      ]
    }
  ]
}