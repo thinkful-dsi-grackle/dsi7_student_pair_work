{
  "nbformat": 4,
  "nbformat_minor": 0,
  "metadata": {
    "colab": {
      "name": "Lung_Example_Noah_Tarrant",
      "provenance": [],
      "collapsed_sections": []
    },
    "kernelspec": {
      "name": "python3",
      "display_name": "Python 3"
    }
  },
  "cells": [
    {
      "cell_type": "code",
      "metadata": {
        "id": "gBnbcwYbc-vA",
        "colab_type": "code",
        "colab": {}
      },
      "source": [
        "import math\n",
        "from scipy import stats\n",
        "import numpy as np\n",
        "import pandas as pd\n",
        "import seaborn as sns\n",
        "from statsmodels.stats.multicomp import pairwise_tukeyhsd\n",
        "import matplotlib.pyplot as plt\n",
        "%matplotlib inline"
      ],
      "execution_count": 27,
      "outputs": []
    },
    {
      "cell_type": "code",
      "metadata": {
        "id": "rB9MPVIQd7mZ",
        "colab_type": "code",
        "colab": {}
      },
      "source": [
        "lung_df = pd.read_csv('https://tf-assets-prod.s3.amazonaws.com/tf-curric/data-science/lung-volume.csv')"
      ],
      "execution_count": 5,
      "outputs": []
    },
    {
      "cell_type": "code",
      "metadata": {
        "id": "Ao1YjpN8ezvu",
        "colab_type": "code",
        "colab": {
          "base_uri": "https://localhost:8080/",
          "height": 204
        },
        "outputId": "e071eae0-a4ff-4795-a10a-d53956f1450d"
      },
      "source": [
        "\n",
        "lung_df.info()"
      ],
      "execution_count": 10,
      "outputs": [
        {
          "output_type": "stream",
          "text": [
            "<class 'pandas.core.frame.DataFrame'>\n",
            "RangeIndex: 400 entries, 0 to 399\n",
            "Data columns (total 4 columns):\n",
            " #   Column   Non-Null Count  Dtype \n",
            "---  ------   --------------  ----- \n",
            " 0   group    400 non-null    int64 \n",
            " 1   patient  400 non-null    object\n",
            " 2   t1       400 non-null    int64 \n",
            " 3   t2       400 non-null    int64 \n",
            "dtypes: int64(3), object(1)\n",
            "memory usage: 12.6+ KB\n"
          ],
          "name": "stdout"
        }
      ]
    },
    {
      "cell_type": "code",
      "metadata": {
        "id": "DHxak_FyfFmw",
        "colab_type": "code",
        "colab": {
          "base_uri": "https://localhost:8080/",
          "height": 204
        },
        "outputId": "a4cdf992-ed7d-4dd3-f9e2-00338f08414a"
      },
      "source": [
        "lung_df.head()"
      ],
      "execution_count": 12,
      "outputs": [
        {
          "output_type": "execute_result",
          "data": {
            "text/html": [
              "<div>\n",
              "<style scoped>\n",
              "    .dataframe tbody tr th:only-of-type {\n",
              "        vertical-align: middle;\n",
              "    }\n",
              "\n",
              "    .dataframe tbody tr th {\n",
              "        vertical-align: top;\n",
              "    }\n",
              "\n",
              "    .dataframe thead th {\n",
              "        text-align: right;\n",
              "    }\n",
              "</style>\n",
              "<table border=\"1\" class=\"dataframe\">\n",
              "  <thead>\n",
              "    <tr style=\"text-align: right;\">\n",
              "      <th></th>\n",
              "      <th>group</th>\n",
              "      <th>patient</th>\n",
              "      <th>t1</th>\n",
              "      <th>t2</th>\n",
              "    </tr>\n",
              "  </thead>\n",
              "  <tbody>\n",
              "    <tr>\n",
              "      <th>0</th>\n",
              "      <td>1</td>\n",
              "      <td>1-1</td>\n",
              "      <td>4226</td>\n",
              "      <td>4497</td>\n",
              "    </tr>\n",
              "    <tr>\n",
              "      <th>1</th>\n",
              "      <td>1</td>\n",
              "      <td>1-2</td>\n",
              "      <td>5731</td>\n",
              "      <td>5665</td>\n",
              "    </tr>\n",
              "    <tr>\n",
              "      <th>2</th>\n",
              "      <td>1</td>\n",
              "      <td>1-3</td>\n",
              "      <td>3912</td>\n",
              "      <td>4505</td>\n",
              "    </tr>\n",
              "    <tr>\n",
              "      <th>3</th>\n",
              "      <td>1</td>\n",
              "      <td>1-4</td>\n",
              "      <td>4811</td>\n",
              "      <td>6472</td>\n",
              "    </tr>\n",
              "    <tr>\n",
              "      <th>4</th>\n",
              "      <td>1</td>\n",
              "      <td>1-5</td>\n",
              "      <td>5128</td>\n",
              "      <td>4710</td>\n",
              "    </tr>\n",
              "  </tbody>\n",
              "</table>\n",
              "</div>"
            ],
            "text/plain": [
              "   group patient    t1    t2\n",
              "0      1     1-1  4226  4497\n",
              "1      1     1-2  5731  5665\n",
              "2      1     1-3  3912  4505\n",
              "3      1     1-4  4811  6472\n",
              "4      1     1-5  5128  4710"
            ]
          },
          "metadata": {
            "tags": []
          },
          "execution_count": 12
        }
      ]
    },
    {
      "cell_type": "code",
      "metadata": {
        "id": "AvxmuOSkffVS",
        "colab_type": "code",
        "colab": {
          "base_uri": "https://localhost:8080/",
          "height": 85
        },
        "outputId": "b5aabc0f-d511-4f5b-80b3-7f7f9f47149c"
      },
      "source": [
        "lung_df['group'].value_counts()"
      ],
      "execution_count": 18,
      "outputs": [
        {
          "output_type": "execute_result",
          "data": {
            "text/plain": [
              "1    200\n",
              "3    100\n",
              "2    100\n",
              "Name: group, dtype: int64"
            ]
          },
          "metadata": {
            "tags": []
          },
          "execution_count": 18
        }
      ]
    },
    {
      "cell_type": "code",
      "metadata": {
        "id": "59mA71lMjTbF",
        "colab_type": "code",
        "colab": {}
      },
      "source": [
        "lung_df = lung_df.assign(diff = lung_df.t2 - lung_df.t1)\n"
      ],
      "execution_count": 20,
      "outputs": []
    },
    {
      "cell_type": "code",
      "metadata": {
        "id": "WMFWknTXloE0",
        "colab_type": "code",
        "colab": {
          "base_uri": "https://localhost:8080/",
          "height": 204
        },
        "outputId": "0715c977-99e6-486c-a431-44e4b4d748d2"
      },
      "source": [
        "lung_df.head()"
      ],
      "execution_count": 21,
      "outputs": [
        {
          "output_type": "execute_result",
          "data": {
            "text/html": [
              "<div>\n",
              "<style scoped>\n",
              "    .dataframe tbody tr th:only-of-type {\n",
              "        vertical-align: middle;\n",
              "    }\n",
              "\n",
              "    .dataframe tbody tr th {\n",
              "        vertical-align: top;\n",
              "    }\n",
              "\n",
              "    .dataframe thead th {\n",
              "        text-align: right;\n",
              "    }\n",
              "</style>\n",
              "<table border=\"1\" class=\"dataframe\">\n",
              "  <thead>\n",
              "    <tr style=\"text-align: right;\">\n",
              "      <th></th>\n",
              "      <th>group</th>\n",
              "      <th>patient</th>\n",
              "      <th>t1</th>\n",
              "      <th>t2</th>\n",
              "      <th>diff</th>\n",
              "    </tr>\n",
              "  </thead>\n",
              "  <tbody>\n",
              "    <tr>\n",
              "      <th>0</th>\n",
              "      <td>1</td>\n",
              "      <td>1-1</td>\n",
              "      <td>4226</td>\n",
              "      <td>4497</td>\n",
              "      <td>271</td>\n",
              "    </tr>\n",
              "    <tr>\n",
              "      <th>1</th>\n",
              "      <td>1</td>\n",
              "      <td>1-2</td>\n",
              "      <td>5731</td>\n",
              "      <td>5665</td>\n",
              "      <td>-66</td>\n",
              "    </tr>\n",
              "    <tr>\n",
              "      <th>2</th>\n",
              "      <td>1</td>\n",
              "      <td>1-3</td>\n",
              "      <td>3912</td>\n",
              "      <td>4505</td>\n",
              "      <td>593</td>\n",
              "    </tr>\n",
              "    <tr>\n",
              "      <th>3</th>\n",
              "      <td>1</td>\n",
              "      <td>1-4</td>\n",
              "      <td>4811</td>\n",
              "      <td>6472</td>\n",
              "      <td>1661</td>\n",
              "    </tr>\n",
              "    <tr>\n",
              "      <th>4</th>\n",
              "      <td>1</td>\n",
              "      <td>1-5</td>\n",
              "      <td>5128</td>\n",
              "      <td>4710</td>\n",
              "      <td>-418</td>\n",
              "    </tr>\n",
              "  </tbody>\n",
              "</table>\n",
              "</div>"
            ],
            "text/plain": [
              "   group patient    t1    t2  diff\n",
              "0      1     1-1  4226  4497   271\n",
              "1      1     1-2  5731  5665   -66\n",
              "2      1     1-3  3912  4505   593\n",
              "3      1     1-4  4811  6472  1661\n",
              "4      1     1-5  5128  4710  -418"
            ]
          },
          "metadata": {
            "tags": []
          },
          "execution_count": 21
        }
      ]
    },
    {
      "cell_type": "code",
      "metadata": {
        "id": "jgN12xRimHj9",
        "colab_type": "code",
        "colab": {}
      },
      "source": [
        "T_1 = lung_df.loc[lung_df['group'] == 1]\n",
        "T_2 = lung_df.loc[lung_df['group'] == 2]\n",
        "T_3 = lung_df.loc[lung_df['group'] == 3]\n",
        "#For each group, is there a significant difference between time 1 and time 2?"
      ],
      "execution_count": 22,
      "outputs": []
    },
    {
      "cell_type": "code",
      "metadata": {
        "id": "JdeGhEKPgoUs",
        "colab_type": "code",
        "colab": {
          "base_uri": "https://localhost:8080/",
          "height": 119
        },
        "outputId": "6e806558-1793-43be-8db3-de8622272bd7"
      },
      "source": [
        "print('T_1 t1:', stats.shapiro(T_1['t1']))\n",
        "print('T_1 t2:', stats.shapiro(T_1['t2']))\n",
        "\n",
        "print('T_2 t1:', stats.shapiro(T_2['t1']))\n",
        "print('T_2 t2:', stats.shapiro(T_2['t2']))\n",
        "\n",
        "print('T_3 t1:', stats.shapiro(T_3['t1']))\n",
        "print('T_3 t2:', stats.shapiro(T_3['t2']))"
      ],
      "execution_count": 34,
      "outputs": [
        {
          "output_type": "stream",
          "text": [
            "T_1 t1: (0.9932351112365723, 0.4915737509727478)\n",
            "T_1 t2: (0.9955824613571167, 0.8313238024711609)\n",
            "T_2 t1: (0.994020402431488, 0.9413013458251953)\n",
            "T_2 t2: (0.9911357164382935, 0.7556766271591187)\n",
            "T_3 t1: (0.9901381731033325, 0.675767183303833)\n",
            "T_3 t2: (0.9781965613365173, 0.09609080106019974)\n"
          ],
          "name": "stdout"
        }
      ]
    },
    {
      "cell_type": "code",
      "metadata": {
        "id": "CPt2b3GV7a3U",
        "colab_type": "code",
        "colab": {
          "base_uri": "https://localhost:8080/",
          "height": 119
        },
        "outputId": "4f56da28-f9f7-4c7e-82e6-9ee8dc24beb3"
      },
      "source": [
        "print('T_1 t1 std:', np.std(T_1['t1']))\n",
        "print('T_1 t2 std:', np.std(T_1['t2']))\n",
        "\n",
        "print('T_2 t1 std:', np.std(T_2['t1']))\n",
        "print('T_2 t2 std:', np.std(T_2['t2']))\n",
        "\n",
        "print('T_3 t1 std:', np.std(T_3['t1']))\n",
        "print('T_3 t2 std:', np.std(T_3['t2']))"
      ],
      "execution_count": 35,
      "outputs": [
        {
          "output_type": "stream",
          "text": [
            "T_1 t1 std: 1053.8174957624299\n",
            "T_1 t2 std: 1007.0247633375255\n",
            "T_2 t1 std: 1132.7310183799152\n",
            "T_2 t2 std: 1097.2471918396511\n",
            "T_3 t1 std: 942.3098388534421\n",
            "T_3 t2 std: 973.6588566330614\n"
          ],
          "name": "stdout"
        }
      ]
    },
    {
      "cell_type": "code",
      "metadata": {
        "id": "h-3kogIIkLfm",
        "colab_type": "code",
        "colab": {
          "base_uri": "https://localhost:8080/",
          "height": 265
        },
        "outputId": "e754ce19-d4ac-44af-cd3f-a4f9d7d0ef29"
      },
      "source": [
        "plt.hist(T_1['diff'], alpha=0.5)\n",
        "plt.hist(T_2['diff'], alpha=0.5)\n",
        "plt.hist(T_3['diff'], alpha=0.5)\n",
        "plt.legend(['T_1', 'T_2', 'T_3'])\n",
        "plt.show()"
      ],
      "execution_count": 30,
      "outputs": [
        {
          "output_type": "display_data",
          "data": {
            "image/png": "[encoded data removed]",
            "text/plain": [
              "<Figure size 432x288 with 1 Axes>"
            ]
          },
          "metadata": {
            "tags": [],
            "needs_background": "light"
          }
        }
      ]
    },
    {
      "cell_type": "code",
      "metadata": {
        "id": "Uo1ghKKfrxr_",
        "colab_type": "code",
        "colab": {
          "base_uri": "https://localhost:8080/",
          "height": 34
        },
        "outputId": "77c6a6bc-8f35-41c8-aac0-edcaa1f5e7c3"
      },
      "source": [
        "print(stats.ttest_rel(T_1['t1'], T_1['t2']))\n"
      ],
      "execution_count": 37,
      "outputs": [
        {
          "output_type": "stream",
          "text": [
            "Ttest_relResult(statistic=-0.31827677584963787, pvalue=0.7506087664956842)\n"
          ],
          "name": "stdout"
        }
      ]
    },
    {
      "cell_type": "code",
      "metadata": {
        "id": "LKO5vVwv5Pr0",
        "colab_type": "code",
        "colab": {
          "base_uri": "https://localhost:8080/",
          "height": 34
        },
        "outputId": "c4b85675-0805-44e4-d954-3a030960a678"
      },
      "source": [
        "print(stats.ttest_rel(T_2['t1'], T_2['t2']))"
      ],
      "execution_count": 38,
      "outputs": [
        {
          "output_type": "stream",
          "text": [
            "Ttest_relResult(statistic=0.32745622415118286, pvalue=0.7440142766032991)\n"
          ],
          "name": "stdout"
        }
      ]
    },
    {
      "cell_type": "code",
      "metadata": {
        "id": "cZaZAu0Y9FYX",
        "colab_type": "code",
        "colab": {
          "base_uri": "https://localhost:8080/",
          "height": 34
        },
        "outputId": "a719908e-7621-4570-bae1-1bd8a8c47931"
      },
      "source": [
        "print(stats.ttest_rel(T_3['t1'], T_3['t2']))"
      ],
      "execution_count": 39,
      "outputs": [
        {
          "output_type": "stream",
          "text": [
            "Ttest_relResult(statistic=0.8984773127301627, pvalue=0.37111115842334486)\n"
          ],
          "name": "stdout"
        }
      ]
    },
    {
      "cell_type": "code",
      "metadata": {
        "id": "FYVNtPjX9L2g",
        "colab_type": "code",
        "colab": {
          "base_uri": "https://localhost:8080/",
          "height": 120
        },
        "outputId": "2fbd14d7-b068-40bc-875b-8137482cc4e6"
      },
      "source": [
        "tukey = pairwise_tukeyhsd(endog=lung_df['t2'], \n",
        "                         groups =lung_df['group'],alpha = 0.05)\n",
        "tukey.summary()"
      ],
      "execution_count": 40,
      "outputs": [
        {
          "output_type": "execute_result",
          "data": {
            "text/html": [
              "<table class=\"simpletable\">\n",
              "<caption>Multiple Comparison of Means - Tukey HSD, FWER=0.05</caption>\n",
              "<tr>\n",
              "  <th>group1</th> <th>group2</th> <th>meandiff</th>   <th>p-adj</th>    <th>lower</th>      <th>upper</th>   <th>reject</th>\n",
              "</tr>\n",
              "<tr>\n",
              "     <td>1</td>      <td>2</td>    <td>99.705</td>   <td>0.6902</td>  <td>-195.9612</td>  <td>395.3712</td>   <td>False</td>\n",
              "</tr>\n",
              "<tr>\n",
              "     <td>1</td>      <td>3</td>   <td>-1341.865</td>  <td>0.001</td> <td>-1637.5312</td> <td>-1046.1988</td>  <td>True</td> \n",
              "</tr>\n",
              "<tr>\n",
              "     <td>2</td>      <td>3</td>   <td>-1441.57</td>   <td>0.001</td> <td>-1782.9759</td> <td>-1100.1641</td>  <td>True</td> \n",
              "</tr>\n",
              "</table>"
            ],
            "text/plain": [
              "<class 'statsmodels.iolib.table.SimpleTable'>"
            ]
          },
          "metadata": {
            "tags": []
          },
          "execution_count": 40
        }
      ]
    },
    {
      "cell_type": "code",
      "metadata": {
        "id": "6MHbws0A9fAk",
        "colab_type": "code",
        "colab": {}
      },
      "source": [
        "#Is there a significant difference in the mean of all groups at time 2?\n",
        "#significant difference between group 2 and 3, and group 1 and 3, \n",
        "#group 3 is significantly different comparing to the other 2 groups"
      ],
      "execution_count": null,
      "outputs": []
    }
  ]
}