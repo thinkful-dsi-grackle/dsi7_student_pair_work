{
  "nbformat": 4,
  "nbformat_minor": 0,
  "metadata": {
    "colab": {
      "name": "kristof_cate_anova_dependent.ipynb",
      "provenance": []
    },
    "kernelspec": {
      "name": "python3",
      "display_name": "Python 3"
    }
  },
  "cells": [
    {
      "cell_type": "code",
      "metadata": {
        "id": "i-PZJ3QcjUDl",
        "colab_type": "code",
        "colab": {}
      },
      "source": [
        "import pandas as pd\n",
        "from scipy import stats\n",
        "import numpy as np\n",
        "import matplotlib.pyplot as plt\n",
        "from statsmodels.stats.multicomp import pairwise_tukeyhsd\n",
        "%matplotlib inline"
      ],
      "execution_count": null,
      "outputs": []
    },
    {
      "cell_type": "code",
      "metadata": {
        "id": "ePYRwj-pjM8L",
        "colab_type": "code",
        "colab": {}
      },
      "source": [
        "lungs_df = pd.read_csv('https://tf-assets-prod.s3.amazonaws.com/tf-curric/data-science/lung-volume.csv')"
      ],
      "execution_count": null,
      "outputs": []
    },
    {
      "cell_type": "markdown",
      "metadata": {
        "id": "abWHteqDj5tq",
        "colab_type": "text"
      },
      "source": [
        "##For each group, is there a significant difference between time 1 and time 2?"
      ]
    },
    {
      "cell_type": "code",
      "metadata": {
        "id": "8VsanXQCj1Vn",
        "colab_type": "code",
        "colab": {
          "base_uri": "https://localhost:8080/",
          "height": 910
        },
        "outputId": "0990489b-bee6-4a6d-a98c-864760600f33"
      },
      "source": [
        "lungs_df.head(30)"
      ],
      "execution_count": null,
      "outputs": [
        {
          "output_type": "execute_result",
          "data": {
            "text/html": [
              "<div>\n",
              "<style scoped>\n",
              "    .dataframe tbody tr th:only-of-type {\n",
              "        vertical-align: middle;\n",
              "    }\n",
              "\n",
              "    .dataframe tbody tr th {\n",
              "        vertical-align: top;\n",
              "    }\n",
              "\n",
              "    .dataframe thead th {\n",
              "        text-align: right;\n",
              "    }\n",
              "</style>\n",
              "<table border=\"1\" class=\"dataframe\">\n",
              "  <thead>\n",
              "    <tr style=\"text-align: right;\">\n",
              "      <th></th>\n",
              "      <th>group</th>\n",
              "      <th>patient</th>\n",
              "      <th>t1</th>\n",
              "      <th>t2</th>\n",
              "    </tr>\n",
              "  </thead>\n",
              "  <tbody>\n",
              "    <tr>\n",
              "      <th>0</th>\n",
              "      <td>1</td>\n",
              "      <td>1-1</td>\n",
              "      <td>4226</td>\n",
              "      <td>4497</td>\n",
              "    </tr>\n",
              "    <tr>\n",
              "      <th>1</th>\n",
              "      <td>1</td>\n",
              "      <td>1-2</td>\n",
              "      <td>5731</td>\n",
              "      <td>5665</td>\n",
              "    </tr>\n",
              "    <tr>\n",
              "      <th>2</th>\n",
              "      <td>1</td>\n",
              "      <td>1-3</td>\n",
              "      <td>3912</td>\n",
              "      <td>4505</td>\n",
              "    </tr>\n",
              "    <tr>\n",
              "      <th>3</th>\n",
              "      <td>1</td>\n",
              "      <td>1-4</td>\n",
              "      <td>4811</td>\n",
              "      <td>6472</td>\n",
              "    </tr>\n",
              "    <tr>\n",
              "      <th>4</th>\n",
              "      <td>1</td>\n",
              "      <td>1-5</td>\n",
              "      <td>5128</td>\n",
              "      <td>4710</td>\n",
              "    </tr>\n",
              "    <tr>\n",
              "      <th>5</th>\n",
              "      <td>1</td>\n",
              "      <td>1-6</td>\n",
              "      <td>3669</td>\n",
              "      <td>3116</td>\n",
              "    </tr>\n",
              "    <tr>\n",
              "      <th>6</th>\n",
              "      <td>1</td>\n",
              "      <td>1-7</td>\n",
              "      <td>4807</td>\n",
              "      <td>3692</td>\n",
              "    </tr>\n",
              "    <tr>\n",
              "      <th>7</th>\n",
              "      <td>1</td>\n",
              "      <td>1-8</td>\n",
              "      <td>7031</td>\n",
              "      <td>6683</td>\n",
              "    </tr>\n",
              "    <tr>\n",
              "      <th>8</th>\n",
              "      <td>1</td>\n",
              "      <td>1-9</td>\n",
              "      <td>4136</td>\n",
              "      <td>4442</td>\n",
              "    </tr>\n",
              "    <tr>\n",
              "      <th>9</th>\n",
              "      <td>1</td>\n",
              "      <td>1-10</td>\n",
              "      <td>5059</td>\n",
              "      <td>5119</td>\n",
              "    </tr>\n",
              "    <tr>\n",
              "      <th>10</th>\n",
              "      <td>1</td>\n",
              "      <td>1-11</td>\n",
              "      <td>4893</td>\n",
              "      <td>4516</td>\n",
              "    </tr>\n",
              "    <tr>\n",
              "      <th>11</th>\n",
              "      <td>1</td>\n",
              "      <td>1-12</td>\n",
              "      <td>5292</td>\n",
              "      <td>5492</td>\n",
              "    </tr>\n",
              "    <tr>\n",
              "      <th>12</th>\n",
              "      <td>1</td>\n",
              "      <td>1-13</td>\n",
              "      <td>3946</td>\n",
              "      <td>3287</td>\n",
              "    </tr>\n",
              "    <tr>\n",
              "      <th>13</th>\n",
              "      <td>1</td>\n",
              "      <td>1-14</td>\n",
              "      <td>6183</td>\n",
              "      <td>5623</td>\n",
              "    </tr>\n",
              "    <tr>\n",
              "      <th>14</th>\n",
              "      <td>1</td>\n",
              "      <td>1-15</td>\n",
              "      <td>2901</td>\n",
              "      <td>5300</td>\n",
              "    </tr>\n",
              "    <tr>\n",
              "      <th>15</th>\n",
              "      <td>1</td>\n",
              "      <td>1-16</td>\n",
              "      <td>4632</td>\n",
              "      <td>5005</td>\n",
              "    </tr>\n",
              "    <tr>\n",
              "      <th>16</th>\n",
              "      <td>1</td>\n",
              "      <td>1-17</td>\n",
              "      <td>3655</td>\n",
              "      <td>3601</td>\n",
              "    </tr>\n",
              "    <tr>\n",
              "      <th>17</th>\n",
              "      <td>1</td>\n",
              "      <td>1-18</td>\n",
              "      <td>3551</td>\n",
              "      <td>3851</td>\n",
              "    </tr>\n",
              "    <tr>\n",
              "      <th>18</th>\n",
              "      <td>1</td>\n",
              "      <td>1-19</td>\n",
              "      <td>3902</td>\n",
              "      <td>4302</td>\n",
              "    </tr>\n",
              "    <tr>\n",
              "      <th>19</th>\n",
              "      <td>1</td>\n",
              "      <td>1-20</td>\n",
              "      <td>5089</td>\n",
              "      <td>4932</td>\n",
              "    </tr>\n",
              "    <tr>\n",
              "      <th>20</th>\n",
              "      <td>1</td>\n",
              "      <td>1-21</td>\n",
              "      <td>3109</td>\n",
              "      <td>2905</td>\n",
              "    </tr>\n",
              "    <tr>\n",
              "      <th>21</th>\n",
              "      <td>1</td>\n",
              "      <td>1-22</td>\n",
              "      <td>5518</td>\n",
              "      <td>5360</td>\n",
              "    </tr>\n",
              "    <tr>\n",
              "      <th>22</th>\n",
              "      <td>1</td>\n",
              "      <td>1-23</td>\n",
              "      <td>4792</td>\n",
              "      <td>4628</td>\n",
              "    </tr>\n",
              "    <tr>\n",
              "      <th>23</th>\n",
              "      <td>1</td>\n",
              "      <td>1-24</td>\n",
              "      <td>3616</td>\n",
              "      <td>3624</td>\n",
              "    </tr>\n",
              "    <tr>\n",
              "      <th>24</th>\n",
              "      <td>1</td>\n",
              "      <td>1-25</td>\n",
              "      <td>4173</td>\n",
              "      <td>3832</td>\n",
              "    </tr>\n",
              "    <tr>\n",
              "      <th>25</th>\n",
              "      <td>1</td>\n",
              "      <td>1-26</td>\n",
              "      <td>6167</td>\n",
              "      <td>5437</td>\n",
              "    </tr>\n",
              "    <tr>\n",
              "      <th>26</th>\n",
              "      <td>1</td>\n",
              "      <td>1-27</td>\n",
              "      <td>2896</td>\n",
              "      <td>3349</td>\n",
              "    </tr>\n",
              "    <tr>\n",
              "      <th>27</th>\n",
              "      <td>1</td>\n",
              "      <td>1-28</td>\n",
              "      <td>5692</td>\n",
              "      <td>5848</td>\n",
              "    </tr>\n",
              "    <tr>\n",
              "      <th>28</th>\n",
              "      <td>1</td>\n",
              "      <td>1-29</td>\n",
              "      <td>4492</td>\n",
              "      <td>3393</td>\n",
              "    </tr>\n",
              "    <tr>\n",
              "      <th>29</th>\n",
              "      <td>1</td>\n",
              "      <td>1-30</td>\n",
              "      <td>4297</td>\n",
              "      <td>4530</td>\n",
              "    </tr>\n",
              "  </tbody>\n",
              "</table>\n",
              "</div>"
            ],
            "text/plain": [
              "    group patient    t1    t2\n",
              "0       1     1-1  4226  4497\n",
              "1       1     1-2  5731  5665\n",
              "2       1     1-3  3912  4505\n",
              "3       1     1-4  4811  6472\n",
              "4       1     1-5  5128  4710\n",
              "5       1     1-6  3669  3116\n",
              "6       1     1-7  4807  3692\n",
              "7       1     1-8  7031  6683\n",
              "8       1     1-9  4136  4442\n",
              "9       1    1-10  5059  5119\n",
              "10      1    1-11  4893  4516\n",
              "11      1    1-12  5292  5492\n",
              "12      1    1-13  3946  3287\n",
              "13      1    1-14  6183  5623\n",
              "14      1    1-15  2901  5300\n",
              "15      1    1-16  4632  5005\n",
              "16      1    1-17  3655  3601\n",
              "17      1    1-18  3551  3851\n",
              "18      1    1-19  3902  4302\n",
              "19      1    1-20  5089  4932\n",
              "20      1    1-21  3109  2905\n",
              "21      1    1-22  5518  5360\n",
              "22      1    1-23  4792  4628\n",
              "23      1    1-24  3616  3624\n",
              "24      1    1-25  4173  3832\n",
              "25      1    1-26  6167  5437\n",
              "26      1    1-27  2896  3349\n",
              "27      1    1-28  5692  5848\n",
              "28      1    1-29  4492  3393\n",
              "29      1    1-30  4297  4530"
            ]
          },
          "metadata": {
            "tags": []
          },
          "execution_count": 58
        }
      ]
    },
    {
      "cell_type": "code",
      "metadata": {
        "id": "2FF3Ko1PzMfi",
        "colab_type": "code",
        "colab": {
          "base_uri": "https://localhost:8080/",
          "height": 265
        },
        "outputId": "df17d5f3-4edb-4f33-b1a5-3ea860ea1ad6"
      },
      "source": [
        "# Checking for normality of differences\n",
        "plt.hist(lungs_df['t1'] - lungs_df['t2'])\n",
        "plt.show()"
      ],
      "execution_count": null,
      "outputs": [
        {
          "output_type": "display_data",
          "data": {
            "image/png": "[encoded data removed]",
            "text/plain": [
              "<Figure size 432x288 with 1 Axes>"
            ]
          },
          "metadata": {
            "tags": [],
            "needs_background": "light"
          }
        }
      ]
    },
    {
      "cell_type": "code",
      "metadata": {
        "id": "0Dz4RMVQlKF6",
        "colab_type": "code",
        "colab": {}
      },
      "source": [
        "group_1 = lungs_df[(lungs_df['group'] == 1)]\n",
        "group_2 = lungs_df[(lungs_df['group'] == 2)]\n",
        "group_3 = lungs_df[(lungs_df['group'] == 3)]"
      ],
      "execution_count": null,
      "outputs": []
    },
    {
      "cell_type": "code",
      "metadata": {
        "id": "zc09KkN9osFd",
        "colab_type": "code",
        "colab": {}
      },
      "source": [
        "group_1_diff = (group_1['t2'] - group_1['t1'])\n",
        "group_2_diff = (group_2['t2'] - group_2['t1'])\n",
        "group_3_diff = (group_3['t2'] - group_3['t1'])"
      ],
      "execution_count": null,
      "outputs": []
    },
    {
      "cell_type": "code",
      "metadata": {
        "id": "A2kikbHgzj71",
        "colab_type": "code",
        "colab": {
          "base_uri": "https://localhost:8080/",
          "height": 86
        },
        "outputId": "a9c92aea-657e-4a39-919f-42087c4a579b"
      },
      "source": [
        "print(stats.describe(group_1_diff))\n",
        "print(stats.describe(group_2_diff))\n",
        "print(stats.describe(group_3_diff))"
      ],
      "execution_count": null,
      "outputs": [
        {
          "output_type": "stream",
          "text": [
            "DescribeResult(nobs=200, minmax=(-2087, 2498), mean=14.07, variance=390848.356884422, skewness=0.5059669289277815, kurtosis=2.6330469885600785)\n",
            "DescribeResult(nobs=100, minmax=(-1304, 1905), mean=-18.0, variance=302161.0707070707, skewness=0.3237019462539288, kurtosis=1.0006404124552226)\n",
            "DescribeResult(nobs=100, minmax=(-1827, 1083), mean=-36.71, variance=166937.74333333332, skewness=-0.6776063369926263, kurtosis=3.355434798893132)\n"
          ],
          "name": "stdout"
        }
      ]
    },
    {
      "cell_type": "markdown",
      "metadata": {
        "id": "wJHaSqJo3T4K",
        "colab_type": "text"
      },
      "source": [
        "Of the three groups, only group two passes the test for normality of differences. We'll run the paired t-tests on them anyway, just for practice."
      ]
    },
    {
      "cell_type": "code",
      "metadata": {
        "id": "2kyVhAY_rG-O",
        "colab_type": "code",
        "colab": {
          "base_uri": "https://localhost:8080/",
          "height": 265
        },
        "outputId": "85bae8f8-3aab-49f5-941e-b9a986250cc5"
      },
      "source": [
        "plt.hist(group_1_diff)\n",
        "plt.show()"
      ],
      "execution_count": null,
      "outputs": [
        {
          "output_type": "display_data",
          "data": {
            "image/png": "[encoded data removed]",
            "text/plain": [
              "<Figure size 432x288 with 1 Axes>"
            ]
          },
          "metadata": {
            "tags": [],
            "needs_background": "light"
          }
        }
      ]
    },
    {
      "cell_type": "code",
      "metadata": {
        "id": "KE3bYGjKnoTT",
        "colab_type": "code",
        "colab": {
          "base_uri": "https://localhost:8080/",
          "height": 66
        },
        "outputId": "b6cf74c4-b3ba-4816-9b1a-d27295593fda"
      },
      "source": [
        "print(stats.ttest_rel(group_1['t1'], group_1['t2']))\n",
        "print(stats.ttest_rel(group_2['t1'], group_2['t2']))\n",
        "print(stats.ttest_rel(group_3['t1'], group_3['t2']))"
      ],
      "execution_count": null,
      "outputs": [
        {
          "output_type": "stream",
          "text": [
            "Ttest_relResult(statistic=-0.31827677584963787, pvalue=0.7506087664956842)\n",
            "Ttest_relResult(statistic=0.32745622415118286, pvalue=0.7440142766032991)\n",
            "Ttest_relResult(statistic=0.8984773127301627, pvalue=0.37111115842334486)\n"
          ],
          "name": "stdout"
        }
      ]
    },
    {
      "cell_type": "markdown",
      "metadata": {
        "id": "f0asywiVoGwi",
        "colab_type": "text"
      },
      "source": [
        "Based on the t-statistics and pvalues for each of the groups, we cannot reject the null hypothesis for any of them.  "
      ]
    },
    {
      "cell_type": "markdown",
      "metadata": {
        "id": "nXXwjS4uo8VQ",
        "colab_type": "text"
      },
      "source": [
        "##Is there a significant difference in the mean of all groups at time 2?"
      ]
    },
    {
      "cell_type": "code",
      "metadata": {
        "id": "VaTyJBt0p_Gl",
        "colab_type": "code",
        "colab": {
          "base_uri": "https://localhost:8080/",
          "height": 66
        },
        "outputId": "b33b5db0-2b6d-416f-9fa1-e76837617fe0"
      },
      "source": [
        "print(stats.shapiro(group_1['t2']))\n",
        "print(stats.shapiro(group_2['t2']))\n",
        "print(stats.shapiro(group_3['t2']))"
      ],
      "execution_count": null,
      "outputs": [
        {
          "output_type": "stream",
          "text": [
            "(0.9955824613571167, 0.8313238024711609)\n",
            "(0.9911357164382935, 0.7556766271591187)\n",
            "(0.9781965613365173, 0.09609080106019974)\n"
          ],
          "name": "stdout"
        }
      ]
    },
    {
      "cell_type": "code",
      "metadata": {
        "id": "z3zpMujrqH-D",
        "colab_type": "code",
        "colab": {
          "base_uri": "https://localhost:8080/",
          "height": 66
        },
        "outputId": "00c871df-d839-4f0f-f441-f3e508bf9c87"
      },
      "source": [
        "print(np.std(group_1['t2']))\n",
        "print(np.std(group_2['t2']))\n",
        "print(np.std(group_3['t2']))"
      ],
      "execution_count": null,
      "outputs": [
        {
          "output_type": "stream",
          "text": [
            "1007.0247633375255\n",
            "1097.2471918396511\n",
            "973.6588566330614\n"
          ],
          "name": "stdout"
        }
      ]
    },
    {
      "cell_type": "markdown",
      "metadata": {
        "id": "JrLN5vHlp2MO",
        "colab_type": "text"
      },
      "source": [
        "Based on the t-statistic, p-value and std of the groups, we can conclude our distribution is normal and variability is similar."
      ]
    },
    {
      "cell_type": "code",
      "metadata": {
        "id": "eYveuf1PquVu",
        "colab_type": "code",
        "colab": {
          "base_uri": "https://localhost:8080/",
          "height": 33
        },
        "outputId": "c350af48-895d-468f-f6d0-1af064b84f8e"
      },
      "source": [
        "stats.f_oneway(group_1['t2'], group_2['t2'], group_3['t2'])"
      ],
      "execution_count": null,
      "outputs": [
        {
          "output_type": "execute_result",
          "data": {
            "text/plain": [
              "F_onewayResult(statistic=67.65846945026495, pvalue=5.1893599904179e-26)"
            ]
          },
          "metadata": {
            "tags": []
          },
          "execution_count": 16
        }
      ]
    },
    {
      "cell_type": "markdown",
      "metadata": {
        "id": "5KVhZIHd14pM",
        "colab_type": "text"
      },
      "source": [
        "These results show us that there is a difference between at least one of the groups. We'll perform a Tukey test to determine where the difference is. "
      ]
    },
    {
      "cell_type": "code",
      "metadata": {
        "id": "YwPAr3xLs4Ce",
        "colab_type": "code",
        "colab": {
          "base_uri": "https://localhost:8080/",
          "height": 105
        },
        "outputId": "72528606-e20a-4531-9a8f-d0fce5958345"
      },
      "source": [
        "tukey = pairwise_tukeyhsd(endog = lungs_df['t2'],\n",
        "                          groups = lungs_df['group'],\n",
        "                          alpha=.05)\n",
        "tukey.summary()"
      ],
      "execution_count": null,
      "outputs": [
        {
          "output_type": "execute_result",
          "data": {
            "text/html": [
              "<table class=\"simpletable\">\n",
              "<caption>Multiple Comparison of Means - Tukey HSD, FWER=0.05</caption>\n",
              "<tr>\n",
              "  <th>group1</th> <th>group2</th> <th>meandiff</th>   <th>p-adj</th>    <th>lower</th>      <th>upper</th>   <th>reject</th>\n",
              "</tr>\n",
              "<tr>\n",
              "     <td>1</td>      <td>2</td>    <td>99.705</td>   <td>0.6902</td>  <td>-195.9612</td>  <td>395.3712</td>   <td>False</td>\n",
              "</tr>\n",
              "<tr>\n",
              "     <td>1</td>      <td>3</td>   <td>-1341.865</td>  <td>0.001</td> <td>-1637.5312</td> <td>-1046.1988</td>  <td>True</td> \n",
              "</tr>\n",
              "<tr>\n",
              "     <td>2</td>      <td>3</td>   <td>-1441.57</td>   <td>0.001</td> <td>-1782.9759</td> <td>-1100.1641</td>  <td>True</td> \n",
              "</tr>\n",
              "</table>"
            ],
            "text/plain": [
              "<class 'statsmodels.iolib.table.SimpleTable'>"
            ]
          },
          "metadata": {
            "tags": []
          },
          "execution_count": 44
        }
      ]
    },
    {
      "cell_type": "markdown",
      "metadata": {
        "id": "zRYwstdU11h6",
        "colab_type": "text"
      },
      "source": [
        "We can see that there is a significant difference between groups 1 & 3, and groups 2 & 3, but not between groups 1 & 2."
      ]
    }
  ]
}