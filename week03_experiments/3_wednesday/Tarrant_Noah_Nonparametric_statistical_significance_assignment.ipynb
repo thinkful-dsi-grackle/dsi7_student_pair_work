{
  "nbformat": 4,
  "nbformat_minor": 0,
  "metadata": {
    "colab": {
      "name": "Tarrant_Noah_Nonparametric_statistical_significance_assignment.ipynb",
      "provenance": [],
      "collapsed_sections": []
    },
    "kernelspec": {
      "display_name": "Python 3",
      "language": "python",
      "name": "python3"
    },
    "language_info": {
      "codemirror_mode": {
        "name": "ipython",
        "version": 3
      },
      "file_extension": ".py",
      "mimetype": "text/x-python",
      "name": "python",
      "nbconvert_exporter": "python",
      "pygments_lexer": "ipython3",
      "version": "3.6.8"
    }
  },
  "cells": [
    {
      "cell_type": "markdown",
      "metadata": {
        "colab_type": "text",
        "id": "IajEE40kqbPO"
      },
      "source": [
        "## Nonparametric statistical significance tests\n",
        "\n",
        "non_parametric_tests_assign_solution.ipynb\n",
        "\n",
        "Complete the assignment below.\n",
        "\n",
        "References:\n",
        "- Nonparametric Statistics for Non-Statisticians: A Step-by-Step Approach, 2009.\n",
        "- How to Calculate Nonparametric Statistical Hypothesis Tests in Python, Jason Brownlee, 2018.\n"
      ]
    },
    {
      "cell_type": "markdown",
      "metadata": {
        "colab_type": "text",
        "id": "FQsgubxqqbPP"
      },
      "source": [
        "## Assignment\n",
        "\n",
        "### Exercise 1\n",
        "\n",
        "Our first dataset includes a very famous dataset, the Winsconsin Breast cancer dataset which is also available in https://archive.ics.uci.edu/ml/datasets/Breast+Cancer+Wisconsin+(Diagnostic). It includes features for cell nuclei for two categories of tumors: malignant and benign. As explained in the original data source:\n",
        "\n",
        ">Features are computed from a digitized image of a fine needle aspirate (FNA) of a breast mass. They describe characteristics of the cell nuclei present in the image.\n",
        "n the 3-dimensional space is that described in: [K. P. Bennett and O. L. Mangasarian: \"Robust Linear Programming Discrimination of Two Linearly Inseparable Sets\", Optimization Methods and Software 1, 1992, 23-34].\n",
        "\n",
        "Dataset:\n",
        "- https://tf-assets-prod.s3.amazonaws.com/tf-curric/data-science/breast_cancer.csv\n",
        "\n",
        "We will be using three of these features for our exercise: \n",
        "- diagnosis: the classification of the tumor with values \"M\" (malignant) and \"B\" (benign).\n",
        "- area_mean: the average area covered by the tumor cells\n",
        "- concavity_mean: severity of concave portions of the contour\n",
        "- texture_mean: standard deviation of gray-scale values\n",
        "\n",
        "For the three features described above(area_mean, concavity_mean, texture_mean), is there a difference in their average values in the two diagnosis groups? (Do samples of these features originate from the same distribution?)\n",
        "- Select and apply the appropriate statistical test.\n",
        "- Provide brief rationale for your selection of statistical test.\n",
        "- Generate boxplots to compare experimental vs. control for t1, t2, and t3.\n"
      ]
    },
    {
      "cell_type": "code",
      "metadata": {
        "colab_type": "code",
        "id": "TTsw--6YqbPQ",
        "colab": {
          "base_uri": "https://localhost:8080/",
          "height": 257
        },
        "outputId": "2082cb57-237f-43c4-8a1f-a6b1ac7f0ea3"
      },
      "source": [
        "import pandas as pd\n",
        "import numpy as np\n",
        "%matplotlib inline\n",
        "import matplotlib.pyplot as plt\n",
        "import seaborn as sns\n",
        "import scipy.stats as stats\n",
        "\n",
        "df = pd.read_csv(\"https://tf-assets-prod.s3.amazonaws.com/tf-curric/data-science/breast_cancer.csv\")\n",
        "df = df[[\"diagnosis\", 'area_mean', 'concavity_mean', 'texture_mean']]\n",
        "df.head()"
      ],
      "execution_count": 1,
      "outputs": [
        {
          "output_type": "stream",
          "text": [
            "/usr/local/lib/python3.6/dist-packages/statsmodels/tools/_testing.py:19: FutureWarning: pandas.util.testing is deprecated. Use the functions in the public API at pandas.testing instead.\n",
            "  import pandas.util.testing as tm\n"
          ],
          "name": "stderr"
        },
        {
          "output_type": "execute_result",
          "data": {
            "text/html": [
              "<div>\n",
              "<style scoped>\n",
              "    .dataframe tbody tr th:only-of-type {\n",
              "        vertical-align: middle;\n",
              "    }\n",
              "\n",
              "    .dataframe tbody tr th {\n",
              "        vertical-align: top;\n",
              "    }\n",
              "\n",
              "    .dataframe thead th {\n",
              "        text-align: right;\n",
              "    }\n",
              "</style>\n",
              "<table border=\"1\" class=\"dataframe\">\n",
              "  <thead>\n",
              "    <tr style=\"text-align: right;\">\n",
              "      <th></th>\n",
              "      <th>diagnosis</th>\n",
              "      <th>area_mean</th>\n",
              "      <th>concavity_mean</th>\n",
              "      <th>texture_mean</th>\n",
              "    </tr>\n",
              "  </thead>\n",
              "  <tbody>\n",
              "    <tr>\n",
              "      <th>0</th>\n",
              "      <td>M</td>\n",
              "      <td>1001.0</td>\n",
              "      <td>0.3001</td>\n",
              "      <td>10.38</td>\n",
              "    </tr>\n",
              "    <tr>\n",
              "      <th>1</th>\n",
              "      <td>M</td>\n",
              "      <td>1326.0</td>\n",
              "      <td>0.0869</td>\n",
              "      <td>17.77</td>\n",
              "    </tr>\n",
              "    <tr>\n",
              "      <th>2</th>\n",
              "      <td>M</td>\n",
              "      <td>1203.0</td>\n",
              "      <td>0.1974</td>\n",
              "      <td>21.25</td>\n",
              "    </tr>\n",
              "    <tr>\n",
              "      <th>3</th>\n",
              "      <td>M</td>\n",
              "      <td>386.1</td>\n",
              "      <td>0.2414</td>\n",
              "      <td>20.38</td>\n",
              "    </tr>\n",
              "    <tr>\n",
              "      <th>4</th>\n",
              "      <td>M</td>\n",
              "      <td>1297.0</td>\n",
              "      <td>0.1980</td>\n",
              "      <td>14.34</td>\n",
              "    </tr>\n",
              "  </tbody>\n",
              "</table>\n",
              "</div>"
            ],
            "text/plain": [
              "  diagnosis  area_mean  concavity_mean  texture_mean\n",
              "0         M     1001.0          0.3001         10.38\n",
              "1         M     1326.0          0.0869         17.77\n",
              "2         M     1203.0          0.1974         21.25\n",
              "3         M      386.1          0.2414         20.38\n",
              "4         M     1297.0          0.1980         14.34"
            ]
          },
          "metadata": {
            "tags": []
          },
          "execution_count": 1
        }
      ]
    },
    {
      "cell_type": "code",
      "metadata": {
        "id": "Fj2gP-PLpZ6f",
        "colab_type": "code",
        "colab": {}
      },
      "source": [
        "# Check the distribution of classes for the the diagnosis column"
      ],
      "execution_count": 2,
      "outputs": []
    },
    {
      "cell_type": "code",
      "metadata": {
        "colab_type": "code",
        "id": "ds4PBznTqbPW",
        "scrolled": true,
        "colab": {
          "base_uri": "https://localhost:8080/",
          "height": 208
        },
        "outputId": "1965ab54-dbe1-4c4d-c49f-dfb72d68e2e8"
      },
      "source": [
        "df.info()"
      ],
      "execution_count": 3,
      "outputs": [
        {
          "output_type": "stream",
          "text": [
            "<class 'pandas.core.frame.DataFrame'>\n",
            "RangeIndex: 569 entries, 0 to 568\n",
            "Data columns (total 4 columns):\n",
            " #   Column          Non-Null Count  Dtype  \n",
            "---  ------          --------------  -----  \n",
            " 0   diagnosis       569 non-null    object \n",
            " 1   area_mean       569 non-null    float64\n",
            " 2   concavity_mean  569 non-null    float64\n",
            " 3   texture_mean    569 non-null    float64\n",
            "dtypes: float64(3), object(1)\n",
            "memory usage: 17.9+ KB\n"
          ],
          "name": "stdout"
        }
      ]
    },
    {
      "cell_type": "markdown",
      "metadata": {
        "colab_type": "text",
        "id": "8vrbptjVqbPa"
      },
      "source": [
        "We explore if the referenced features follow a normal distribution. We examine the skewness and kurtosis of the groups.\n",
        "\n",
        "Optional: We can run a Jarque–Bera test which tests if the data have the skewness and kurtosis matching a normal distribution.\n",
        "In the case of the Jarque–Bera test the null hypothesis would state that the skewness and kurtosis matches that of a normal distribution."
      ]
    },
    {
      "cell_type": "code",
      "metadata": {
        "id": "t3NzKoOcpZ9S",
        "colab_type": "code",
        "colab": {}
      },
      "source": [
        "# Print the skewness and kurtosis of the groups. Optionally run a Jarque–Bera\n",
        "# Afterwards you can comment your findings wether the features follow a normal distribution of not."
      ],
      "execution_count": 4,
      "outputs": []
    },
    {
      "cell_type": "code",
      "metadata": {
        "id": "F32QkqagpZ9X",
        "colab_type": "code",
        "colab": {
          "base_uri": "https://localhost:8080/",
          "height": 72
        },
        "outputId": "eb90067b-5a4c-42e0-9913-b021b1a3ae14"
      },
      "source": [
        "malignant = df[df.diagnosis=='M'][['area_mean', 'concavity_mean', 'texture_mean']]\n",
        "benign = df[df.diagnosis=='B'][['area_mean', 'concavity_mean', 'texture_mean']]\n",
        "\n",
        "print(stats.describe(malignant))\n",
        "print(stats.describe(benign))"
      ],
      "execution_count": 5,
      "outputs": [
        {
          "output_type": "stream",
          "text": [
            "DescribeResult(nobs=212, minmax=(array([3.616e+02, 2.398e-02, 1.038e+01]), array([2.501e+03, 4.268e-01, 3.928e+01])), mean=array([9.78376415e+02, 1.60774717e-01, 2.16049057e+01]), variance=array([1.35378355e+05, 5.62789955e-03, 1.42843929e+01]), skewness=array([1.10974455, 0.89523611, 0.69855491]), kurtosis=array([2.22384345, 1.09756062, 2.29519808]))\n",
            "DescribeResult(nobs=357, minmax=(array([143.5 ,   0.  ,   9.71]), array([9.921e+02, 4.108e-01, 3.381e+01])), mean=array([4.62790196e+02, 4.60576210e-02, 1.79147619e+01]), variance=array([1.80330301e+04, 1.88722049e-03, 1.59610205e+01]), skewness=array([0.34082567, 3.45865347, 0.97721571]), kurtosis=array([ 0.28842005, 20.52738898,  1.18587586]))\n"
          ],
          "name": "stdout"
        }
      ]
    },
    {
      "cell_type": "code",
      "metadata": {
        "id": "tG4PWBnHpZ9b",
        "colab_type": "code",
        "colab": {}
      },
      "source": [
        "# Plot the histograms for the distribution of each feature and for each class (malignant/benign) to visually explore \n",
        "# wether these distributions are skewed or not."
      ],
      "execution_count": 6,
      "outputs": []
    },
    {
      "cell_type": "code",
      "metadata": {
        "id": "8cJAPHztIO3f",
        "colab_type": "code",
        "colab": {
          "base_uri": "https://localhost:8080/",
          "height": 282
        },
        "outputId": "c465eb2e-0a0b-4f81-d688-1b491a5afc80"
      },
      "source": [
        "sns.distplot(malignant['area_mean'])\n",
        "plt.show()"
      ],
      "execution_count": 15,
      "outputs": [
        {
          "output_type": "display_data",
          "data": {
            "image/png": "[encoded data removed]",
            "text/plain": [
              "<Figure size 432x288 with 1 Axes>"
            ]
          },
          "metadata": {
            "tags": [],
            "needs_background": "light"
          }
        }
      ]
    },
    {
      "cell_type": "code",
      "metadata": {
        "id": "Rr1K2ESAImr_",
        "colab_type": "code",
        "colab": {
          "base_uri": "https://localhost:8080/",
          "height": 280
        },
        "outputId": "1c443224-7aad-40bb-a07f-d24070487e11"
      },
      "source": [
        "sns.distplot(malignant['concavity_mean'])\n",
        "plt.show()"
      ],
      "execution_count": 16,
      "outputs": [
        {
          "output_type": "display_data",
          "data": {
            "image/png": "[encoded data removed]",
            "text/plain": [
              "<Figure size 432x288 with 1 Axes>"
            ]
          },
          "metadata": {
            "tags": [],
            "needs_background": "light"
          }
        }
      ]
    },
    {
      "cell_type": "code",
      "metadata": {
        "id": "RWGvWwpXIs-6",
        "colab_type": "code",
        "colab": {
          "base_uri": "https://localhost:8080/",
          "height": 280
        },
        "outputId": "3f8a7d79-ff82-4468-ab66-be873d69e68c"
      },
      "source": [
        "sns.distplot(malignant['texture_mean'])\n",
        "plt.show()"
      ],
      "execution_count": 17,
      "outputs": [
        {
          "output_type": "display_data",
          "data": {
            "image/png": "[encoded data removed]",
            "text/plain": [
              "<Figure size 432x288 with 1 Axes>"
            ]
          },
          "metadata": {
            "tags": [],
            "needs_background": "light"
          }
        }
      ]
    },
    {
      "cell_type": "code",
      "metadata": {
        "id": "0OKMqwW8I9OC",
        "colab_type": "code",
        "colab": {
          "base_uri": "https://localhost:8080/",
          "height": 278
        },
        "outputId": "62b9b922-2da3-4aef-f715-e5238e3c1e15"
      },
      "source": [
        "sns.distplot(benign['area_mean'])\n",
        "plt.show()"
      ],
      "execution_count": 18,
      "outputs": [
        {
          "output_type": "display_data",
          "data": {
            "image/png": "[encoded data removed]",
            "text/plain": [
              "<Figure size 432x288 with 1 Axes>"
            ]
          },
          "metadata": {
            "tags": [],
            "needs_background": "light"
          }
        }
      ]
    },
    {
      "cell_type": "code",
      "metadata": {
        "id": "xHY8CzTPJA0A",
        "colab_type": "code",
        "colab": {
          "base_uri": "https://localhost:8080/",
          "height": 282
        },
        "outputId": "7f100587-b7b4-4362-b1b7-eaf9c182d237"
      },
      "source": [
        "sns.distplot(benign['concavity_mean'])\n",
        "plt.show()"
      ],
      "execution_count": 19,
      "outputs": [
        {
          "output_type": "display_data",
          "data": {
            "image/png": "[encoded data removed]",
            "text/plain": [
              "<Figure size 432x288 with 1 Axes>"
            ]
          },
          "metadata": {
            "tags": [],
            "needs_background": "light"
          }
        }
      ]
    },
    {
      "cell_type": "code",
      "metadata": {
        "id": "WRDZzwUbJBdI",
        "colab_type": "code",
        "colab": {
          "base_uri": "https://localhost:8080/",
          "height": 282
        },
        "outputId": "bd690a4d-298b-480f-e42c-81dc4b4dd4c3"
      },
      "source": [
        "sns.distplot(benign['texture_mean'])\n",
        "plt.show()"
      ],
      "execution_count": 20,
      "outputs": [
        {
          "output_type": "display_data",
          "data": {
            "image/png": "[encoded data removed]",
            "text/plain": [
              "<Figure size 432x288 with 1 Axes>"
            ]
          },
          "metadata": {
            "tags": [],
            "needs_background": "light"
          }
        }
      ]
    },
    {
      "cell_type": "code",
      "metadata": {
        "id": "LNG4kTrBROUq",
        "colab_type": "code",
        "colab": {}
      },
      "source": [
        "#rank function\n",
        "def calculate_rank(vector):\n",
        "  a={}\n",
        "  rank=1\n",
        "  for num in sorted(vector):\n",
        "    if num not in a:\n",
        "      a[num]=rank\n",
        "      rank=rank+1\n",
        "  return[a[i] for i in vector]"
      ],
      "execution_count": 52,
      "outputs": []
    },
    {
      "cell_type": "code",
      "metadata": {
        "colab_type": "code",
        "id": "ZN6VDIK4qbPe",
        "colab": {
          "base_uri": "https://localhost:8080/",
          "height": 69
        },
        "outputId": "e61594c4-c504-4e3c-e31e-12512ffbcd25"
      },
      "source": [
        "# Run 3 Kruskal-Wallis tests, one for each group/feature and describe the results of these tests. \n",
        "# State wether the null hypothesis will be rejected or not.\n",
        "\n",
        "m_area_rank = calculate_rank(malignant['area_mean'])\n",
        "b_area_rank = calculate_rank(benign['area_mean'])\n",
        "print(\"Area Mean: \", stats.kruskal(m_area_rank, b_area_rank))\n",
        "\n",
        "m_concavity_rank = calculate_rank(malignant['concavity_mean'])\n",
        "b_concavity_rank = calculate_rank(benign['concavity_mean'])\n",
        "print(\"Concavity Mean: \", stats.kruskal(m_concavity_rank, b_concavity_rank))\n",
        "\n",
        "m_texture_rank = calculate_rank(malignant['texture_mean'])\n",
        "b_texture_rank = calculate_rank(benign['texture_mean'])\n",
        "print(\"Texture Mean: \", stats.kruskal(m_texture_rank, b_texture_rank))\n",
        "\n",
        "\n"
      ],
      "execution_count": 61,
      "outputs": [
        {
          "output_type": "stream",
          "text": [
            "Area Mean:  KruskalResult(statistic=64.61493580501765, pvalue=9.106246949772614e-16)\n",
            "Concavity Mean:  KruskalResult(statistic=43.93144347777416, pvalue=3.400813343060948e-11)\n",
            "Texture Mean:  KruskalResult(statistic=55.931948885920356, pvalue=7.502341562090971e-14)\n"
          ],
          "name": "stdout"
        }
      ]
    },
    {
      "cell_type": "markdown",
      "metadata": {
        "id": "mTveWg1eN-sw",
        "colab_type": "text"
      },
      "source": [
        "We would reject the null hypothesis in all 3 cases because our p values are very small. "
      ]
    },
    {
      "cell_type": "code",
      "metadata": {
        "colab_type": "code",
        "id": "xzFd2f9cqbPi",
        "colab": {
          "base_uri": "https://localhost:8080/",
          "height": 850
        },
        "outputId": "e7ab18d9-8d88-44fa-e7ba-0e7eaac5699b"
      },
      "source": [
        "# Afterwards create 3 boxplots: one for each feature grouped by the diagnosis class.\n",
        "sns.boxplot(y=df['area_mean'],x=df['diagnosis'])\n",
        "plt.title(\"Area Mean Difference\")\n",
        "plt.show()\n",
        "\n",
        "sns.boxplot(y=df['concavity_mean'],x=df['diagnosis'])\n",
        "plt.title(\"Concavity Mean Difference\")\n",
        "plt.show()\n",
        "\n",
        "sns.boxplot(y=df['texture_mean'],x=df['diagnosis'])\n",
        "plt.title(\"Texture Mean Difference\")\n",
        "plt.show()"
      ],
      "execution_count": 40,
      "outputs": [
        {
          "output_type": "display_data",
          "data": {
            "image/png": "[encoded data removed]",
            "text/plain": [
              "<Figure size 432x288 with 1 Axes>"
            ]
          },
          "metadata": {
            "tags": [],
            "needs_background": "light"
          }
        },
        {
          "output_type": "display_data",
          "data": {
            "image/png": "[encoded data removed]",
            "text/plain": [
              "<Figure size 432x288 with 1 Axes>"
            ]
          },
          "metadata": {
            "tags": [],
            "needs_background": "light"
          }
        },
        {
          "output_type": "display_data",
          "data": {
            "image/png": "[encoded data removed]",
            "text/plain": [
              "<Figure size 432x288 with 1 Axes>"
            ]
          },
          "metadata": {
            "tags": [],
            "needs_background": "light"
          }
        }
      ]
    },
    {
      "cell_type": "markdown",
      "metadata": {
        "id": "Inylwf3FpZ90",
        "colab_type": "text"
      },
      "source": [
        "### Exercise 2\n",
        "\n",
        "For the following test we will use the Real GDP per capita dataset for Europe available by Eurostat from the following address https://ec.europa.eu/eurostat/web/products-datasets/-/sdg_08_10\n",
        "It contains the GDP per capita for each country (The indicator is calculated as the ratio of real GDP to the average population of a specific year.)\n",
        "We will use the years 2007, 2008 and 2009 to check if the economic crisis of 2008 affected the GDP values of europe.\n",
        "\n",
        "Dataset:\n",
        "- https://ec.europa.eu/eurostat/web/products-datasets/-/sdg_08_10\n",
        "\n",
        "\n",
        "Questions:\n",
        "\n",
        "Is there a difference in the GDP per capita between the years (2007 and 2008), (2008 and 2009)?\n",
        "- Select and apply the appropriate statistical test.\n"
      ]
    },
    {
      "cell_type": "markdown",
      "metadata": {
        "id": "0upRAUv8pZ91",
        "colab_type": "text"
      },
      "source": [
        "Our dataset needs some cleaning at first. We extract only the columns of interest, clean numeric columns of unwanted characters and convert these columns to numeric.\n",
        "We also remove rows that refer to collective index for many countries (\"EA19\", \"EU27\",\"EU28\") and keep individual countries."
      ]
    },
    {
      "cell_type": "code",
      "metadata": {
        "id": "l5rZdCUypZ95",
        "colab_type": "code",
        "colab": {
          "base_uri": "https://localhost:8080/",
          "height": 662
        },
        "outputId": "bb0a5a96-bf7a-4065-e541-ece075f5c9af"
      },
      "source": [
        "gdp = pd.read_csv(\"https://ec.europa.eu/eurostat/estat-navtree-portlet-prod/BulkDownloadListing?file=data/sdg_08_10.tsv.gz\",\n",
        "                 compression='gzip', sep=r'\\,|\\t', usecols=[\"unit\", \"geo\\\\time\", \"2007 \", \"2008 \", \"2009 \"], engine='python')\n",
        "gdp = gdp[gdp.unit==\"CLV10_EUR_HAB\"].drop([\"unit\"], axis=1)\n",
        "gdp.columns=[\"country\", \"2007\", \"2008\", \"2009\"]\n",
        "gdp = gdp[~gdp.country.isin([\"EA19\", \"EU27\",\"EU28\"])]\n",
        "gdp['2007'] = gdp['2007'].str.extract('(\\d+)', expand=False).astype(int)\n",
        "gdp['2008'] = gdp['2008'].str.extract('(\\d+)', expand=False).astype(int)\n",
        "gdp['2009'] = gdp['2009'].str.extract('(\\d+)', expand=False).astype(int)\n",
        "gdp.head(20)"
      ],
      "execution_count": 46,
      "outputs": [
        {
          "output_type": "execute_result",
          "data": {
            "text/html": [
              "<div>\n",
              "<style scoped>\n",
              "    .dataframe tbody tr th:only-of-type {\n",
              "        vertical-align: middle;\n",
              "    }\n",
              "\n",
              "    .dataframe tbody tr th {\n",
              "        vertical-align: top;\n",
              "    }\n",
              "\n",
              "    .dataframe thead th {\n",
              "        text-align: right;\n",
              "    }\n",
              "</style>\n",
              "<table border=\"1\" class=\"dataframe\">\n",
              "  <thead>\n",
              "    <tr style=\"text-align: right;\">\n",
              "      <th></th>\n",
              "      <th>country</th>\n",
              "      <th>2007</th>\n",
              "      <th>2008</th>\n",
              "      <th>2009</th>\n",
              "    </tr>\n",
              "  </thead>\n",
              "  <tbody>\n",
              "    <tr>\n",
              "      <th>0</th>\n",
              "      <td>AT</td>\n",
              "      <td>35870</td>\n",
              "      <td>36280</td>\n",
              "      <td>34830</td>\n",
              "    </tr>\n",
              "    <tr>\n",
              "      <th>1</th>\n",
              "      <td>BE</td>\n",
              "      <td>33760</td>\n",
              "      <td>33640</td>\n",
              "      <td>32700</td>\n",
              "    </tr>\n",
              "    <tr>\n",
              "      <th>2</th>\n",
              "      <td>BG</td>\n",
              "      <td>4820</td>\n",
              "      <td>5140</td>\n",
              "      <td>4990</td>\n",
              "    </tr>\n",
              "    <tr>\n",
              "      <th>3</th>\n",
              "      <td>CH</td>\n",
              "      <td>56400</td>\n",
              "      <td>56940</td>\n",
              "      <td>55050</td>\n",
              "    </tr>\n",
              "    <tr>\n",
              "      <th>4</th>\n",
              "      <td>CY</td>\n",
              "      <td>24420</td>\n",
              "      <td>24680</td>\n",
              "      <td>23550</td>\n",
              "    </tr>\n",
              "    <tr>\n",
              "      <th>5</th>\n",
              "      <td>CZ</td>\n",
              "      <td>15250</td>\n",
              "      <td>15500</td>\n",
              "      <td>14690</td>\n",
              "    </tr>\n",
              "    <tr>\n",
              "      <th>6</th>\n",
              "      <td>DE</td>\n",
              "      <td>31920</td>\n",
              "      <td>32320</td>\n",
              "      <td>30580</td>\n",
              "    </tr>\n",
              "    <tr>\n",
              "      <th>7</th>\n",
              "      <td>DK</td>\n",
              "      <td>46210</td>\n",
              "      <td>45700</td>\n",
              "      <td>43220</td>\n",
              "    </tr>\n",
              "    <tr>\n",
              "      <th>9</th>\n",
              "      <td>EE</td>\n",
              "      <td>13270</td>\n",
              "      <td>12640</td>\n",
              "      <td>10830</td>\n",
              "    </tr>\n",
              "    <tr>\n",
              "      <th>10</th>\n",
              "      <td>EL</td>\n",
              "      <td>22690</td>\n",
              "      <td>22560</td>\n",
              "      <td>21530</td>\n",
              "    </tr>\n",
              "    <tr>\n",
              "      <th>11</th>\n",
              "      <td>ES</td>\n",
              "      <td>24380</td>\n",
              "      <td>24200</td>\n",
              "      <td>23100</td>\n",
              "    </tr>\n",
              "    <tr>\n",
              "      <th>12</th>\n",
              "      <td>EU27_2020</td>\n",
              "      <td>25510</td>\n",
              "      <td>25590</td>\n",
              "      <td>24410</td>\n",
              "    </tr>\n",
              "    <tr>\n",
              "      <th>14</th>\n",
              "      <td>FI</td>\n",
              "      <td>37210</td>\n",
              "      <td>37330</td>\n",
              "      <td>34150</td>\n",
              "    </tr>\n",
              "    <tr>\n",
              "      <th>15</th>\n",
              "      <td>FR</td>\n",
              "      <td>31400</td>\n",
              "      <td>31310</td>\n",
              "      <td>30250</td>\n",
              "    </tr>\n",
              "    <tr>\n",
              "      <th>16</th>\n",
              "      <td>HR</td>\n",
              "      <td>11260</td>\n",
              "      <td>11470</td>\n",
              "      <td>10630</td>\n",
              "    </tr>\n",
              "    <tr>\n",
              "      <th>17</th>\n",
              "      <td>HU</td>\n",
              "      <td>10370</td>\n",
              "      <td>10500</td>\n",
              "      <td>9810</td>\n",
              "    </tr>\n",
              "    <tr>\n",
              "      <th>18</th>\n",
              "      <td>IE</td>\n",
              "      <td>41280</td>\n",
              "      <td>38600</td>\n",
              "      <td>36300</td>\n",
              "    </tr>\n",
              "    <tr>\n",
              "      <th>19</th>\n",
              "      <td>IS</td>\n",
              "      <td>36140</td>\n",
              "      <td>35940</td>\n",
              "      <td>33520</td>\n",
              "    </tr>\n",
              "    <tr>\n",
              "      <th>20</th>\n",
              "      <td>IT</td>\n",
              "      <td>28730</td>\n",
              "      <td>28230</td>\n",
              "      <td>26590</td>\n",
              "    </tr>\n",
              "    <tr>\n",
              "      <th>21</th>\n",
              "      <td>LT</td>\n",
              "      <td>9750</td>\n",
              "      <td>10110</td>\n",
              "      <td>8710</td>\n",
              "    </tr>\n",
              "  </tbody>\n",
              "</table>\n",
              "</div>"
            ],
            "text/plain": [
              "      country   2007   2008   2009\n",
              "0          AT  35870  36280  34830\n",
              "1          BE  33760  33640  32700\n",
              "2          BG   4820   5140   4990\n",
              "3          CH  56400  56940  55050\n",
              "4          CY  24420  24680  23550\n",
              "5          CZ  15250  15500  14690\n",
              "6          DE  31920  32320  30580\n",
              "7          DK  46210  45700  43220\n",
              "9          EE  13270  12640  10830\n",
              "10         EL  22690  22560  21530\n",
              "11         ES  24380  24200  23100\n",
              "12  EU27_2020  25510  25590  24410\n",
              "14         FI  37210  37330  34150\n",
              "15         FR  31400  31310  30250\n",
              "16         HR  11260  11470  10630\n",
              "17         HU  10370  10500   9810\n",
              "18         IE  41280  38600  36300\n",
              "19         IS  36140  35940  33520\n",
              "20         IT  28730  28230  26590\n",
              "21         LT   9750  10110   8710"
            ]
          },
          "metadata": {
            "tags": []
          },
          "execution_count": 46
        }
      ]
    },
    {
      "cell_type": "code",
      "metadata": {
        "id": "Ico5D7xopZ-C",
        "colab_type": "code",
        "colab": {
          "base_uri": "https://localhost:8080/",
          "height": 294
        },
        "outputId": "5313776c-9e21-4728-dfbe-2ea195f27b3c"
      },
      "source": [
        "gdp.describe()"
      ],
      "execution_count": 10,
      "outputs": [
        {
          "output_type": "execute_result",
          "data": {
            "text/html": [
              "<div>\n",
              "<style scoped>\n",
              "    .dataframe tbody tr th:only-of-type {\n",
              "        vertical-align: middle;\n",
              "    }\n",
              "\n",
              "    .dataframe tbody tr th {\n",
              "        vertical-align: top;\n",
              "    }\n",
              "\n",
              "    .dataframe thead th {\n",
              "        text-align: right;\n",
              "    }\n",
              "</style>\n",
              "<table border=\"1\" class=\"dataframe\">\n",
              "  <thead>\n",
              "    <tr style=\"text-align: right;\">\n",
              "      <th></th>\n",
              "      <th>2007</th>\n",
              "      <th>2008</th>\n",
              "      <th>2009</th>\n",
              "    </tr>\n",
              "  </thead>\n",
              "  <tbody>\n",
              "    <tr>\n",
              "      <th>count</th>\n",
              "      <td>36.000000</td>\n",
              "      <td>36.000000</td>\n",
              "      <td>36.000000</td>\n",
              "    </tr>\n",
              "    <tr>\n",
              "      <th>mean</th>\n",
              "      <td>25374.166667</td>\n",
              "      <td>25322.777778</td>\n",
              "      <td>24016.388889</td>\n",
              "    </tr>\n",
              "    <tr>\n",
              "      <th>std</th>\n",
              "      <td>18764.549764</td>\n",
              "      <td>18367.127719</td>\n",
              "      <td>17541.855441</td>\n",
              "    </tr>\n",
              "    <tr>\n",
              "      <th>min</th>\n",
              "      <td>3200.000000</td>\n",
              "      <td>3370.000000</td>\n",
              "      <td>3350.000000</td>\n",
              "    </tr>\n",
              "    <tr>\n",
              "      <th>25%</th>\n",
              "      <td>10332.500000</td>\n",
              "      <td>10402.500000</td>\n",
              "      <td>9625.000000</td>\n",
              "    </tr>\n",
              "    <tr>\n",
              "      <th>50%</th>\n",
              "      <td>23535.000000</td>\n",
              "      <td>23380.000000</td>\n",
              "      <td>22315.000000</td>\n",
              "    </tr>\n",
              "    <tr>\n",
              "      <th>75%</th>\n",
              "      <td>35937.500000</td>\n",
              "      <td>36025.000000</td>\n",
              "      <td>33677.500000</td>\n",
              "    </tr>\n",
              "    <tr>\n",
              "      <th>max</th>\n",
              "      <td>84420.000000</td>\n",
              "      <td>81880.000000</td>\n",
              "      <td>76900.000000</td>\n",
              "    </tr>\n",
              "  </tbody>\n",
              "</table>\n",
              "</div>"
            ],
            "text/plain": [
              "               2007          2008          2009\n",
              "count     36.000000     36.000000     36.000000\n",
              "mean   25374.166667  25322.777778  24016.388889\n",
              "std    18764.549764  18367.127719  17541.855441\n",
              "min     3200.000000   3370.000000   3350.000000\n",
              "25%    10332.500000  10402.500000   9625.000000\n",
              "50%    23535.000000  23380.000000  22315.000000\n",
              "75%    35937.500000  36025.000000  33677.500000\n",
              "max    84420.000000  81880.000000  76900.000000"
            ]
          },
          "metadata": {
            "tags": []
          },
          "execution_count": 10
        }
      ]
    },
    {
      "cell_type": "markdown",
      "metadata": {
        "id": "J2UF2nhupZ-I",
        "colab_type": "text"
      },
      "source": [
        "Data that refer to economic indices usually do not follow a normal distribution, something we can easily observe by visualizing the data below, hence we should use non parametric tests."
      ]
    },
    {
      "cell_type": "code",
      "metadata": {
        "id": "g1POB8XKpZ-J",
        "colab_type": "code",
        "colab": {
          "base_uri": "https://localhost:8080/",
          "height": 308
        },
        "outputId": "1c150f0a-bf66-41fc-8a63-b67913cdec20"
      },
      "source": [
        "# Plot the histogram for the values of each year.\n",
        "sns.distplot(gdp['2007'])\n",
        "plt.show"
      ],
      "execution_count": 43,
      "outputs": [
        {
          "output_type": "execute_result",
          "data": {
            "text/plain": [
              "<function matplotlib.pyplot.show>"
            ]
          },
          "metadata": {
            "tags": []
          },
          "execution_count": 43
        },
        {
          "output_type": "display_data",
          "data": {
            "image/png": "[encoded data removed]",
            "text/plain": [
              "<Figure size 432x288 with 1 Axes>"
            ]
          },
          "metadata": {
            "tags": [],
            "needs_background": "light"
          }
        }
      ]
    },
    {
      "cell_type": "code",
      "metadata": {
        "id": "Tr6xAMfvQAw0",
        "colab_type": "code",
        "colab": {
          "base_uri": "https://localhost:8080/",
          "height": 308
        },
        "outputId": "6811831c-66c1-4c66-a9be-a82c8cf818ae"
      },
      "source": [
        "sns.distplot(gdp['2008'])\n",
        "plt.show"
      ],
      "execution_count": 44,
      "outputs": [
        {
          "output_type": "execute_result",
          "data": {
            "text/plain": [
              "<function matplotlib.pyplot.show>"
            ]
          },
          "metadata": {
            "tags": []
          },
          "execution_count": 44
        },
        {
          "output_type": "display_data",
          "data": {
            "image/png": "[encoded data removed]",
            "text/plain": [
              "<Figure size 432x288 with 1 Axes>"
            ]
          },
          "metadata": {
            "tags": [],
            "needs_background": "light"
          }
        }
      ]
    },
    {
      "cell_type": "code",
      "metadata": {
        "id": "IjNX8qxFQDeM",
        "colab_type": "code",
        "colab": {
          "base_uri": "https://localhost:8080/",
          "height": 308
        },
        "outputId": "ec048ada-9470-4a58-8e52-12d0de5304f4"
      },
      "source": [
        "sns.distplot(gdp['2009'])\n",
        "plt.show"
      ],
      "execution_count": 45,
      "outputs": [
        {
          "output_type": "execute_result",
          "data": {
            "text/plain": [
              "<function matplotlib.pyplot.show>"
            ]
          },
          "metadata": {
            "tags": []
          },
          "execution_count": 45
        },
        {
          "output_type": "display_data",
          "data": {
            "image/png": "[encoded data removed]",
            "text/plain": [
              "<Figure size 432x288 with 1 Axes>"
            ]
          },
          "metadata": {
            "tags": [],
            "needs_background": "light"
          }
        }
      ]
    },
    {
      "cell_type": "markdown",
      "metadata": {
        "id": "dKkvGqUspZ-U",
        "colab_type": "text"
      },
      "source": [
        "We will run a Wilcoxon Signed-rank Test, which should be run on paired samples or repeated measurements on a single sample. In our case we have repeated measurements (three years) of GDP for the same countries."
      ]
    },
    {
      "cell_type": "markdown",
      "metadata": {
        "id": "Geu7s-ubpZ-U",
        "colab_type": "text"
      },
      "source": [
        "The null hypothesis for this test is that the medians of two samples are equal.\n",
        "First we compare 2007 with 2008 values:"
      ]
    },
    {
      "cell_type": "code",
      "metadata": {
        "id": "EExsdc-KpZ-V",
        "colab_type": "code",
        "colab": {
          "base_uri": "https://localhost:8080/",
          "height": 69
        },
        "outputId": "e167b83f-913c-41fe-9a1f-161219598a9a"
      },
      "source": [
        "# Run a Wilcoxon Signed-rank test for years (groups) 2007 and 2008 and describe the results of the test. \n",
        "\n",
        "rank_2007 = calculate_rank(gdp['2007'])\n",
        "rank_2008 = calculate_rank(gdp['2008']) \n",
        "\n",
        "print(stats.wilcoxon(rank_2007, rank_2008))"
      ],
      "execution_count": 68,
      "outputs": [
        {
          "output_type": "stream",
          "text": [
            "WilcoxonResult(statistic=14.0, pvalue=1.0)\n"
          ],
          "name": "stdout"
        },
        {
          "output_type": "stream",
          "text": [
            "/usr/local/lib/python3.6/dist-packages/scipy/stats/morestats.py:2879: UserWarning: Sample size too small for normal approximation.\n",
            "  warnings.warn(\"Sample size too small for normal approximation.\")\n"
          ],
          "name": "stderr"
        }
      ]
    },
    {
      "cell_type": "markdown",
      "metadata": {
        "id": "he0ThZP0Wqnm",
        "colab_type": "text"
      },
      "source": [
        "#The p value was not signficant for years 2007-2008, therefore we can't reject the null hypothesis."
      ]
    },
    {
      "cell_type": "code",
      "metadata": {
        "id": "FMOql4vZpZ-b",
        "colab_type": "code",
        "colab": {
          "base_uri": "https://localhost:8080/",
          "height": 34
        },
        "outputId": "4bfeb42f-c076-4e43-8d19-2e9fa0208fab"
      },
      "source": [
        "# Run a Wilcoxon Signed-rank Test for years (groups) 2008 and 2009 and describe the results of the test. \n",
        "rank_2009 = calculate_rank(gdp['2009']) \n",
        "\n",
        "print(stats.wilcoxon(rank_2008, rank_2009))"
      ],
      "execution_count": 67,
      "outputs": [
        {
          "output_type": "stream",
          "text": [
            "WilcoxonResult(statistic=26.0, pvalue=6.856122957601842e-06)\n"
          ],
          "name": "stdout"
        }
      ]
    },
    {
      "cell_type": "markdown",
      "metadata": {
        "id": "EnEB00WyW21H",
        "colab_type": "text"
      },
      "source": [
        "#The p value was signficant for years 2008-2009, therefore we can reject the null hypothesis."
      ]
    }
  ]
}