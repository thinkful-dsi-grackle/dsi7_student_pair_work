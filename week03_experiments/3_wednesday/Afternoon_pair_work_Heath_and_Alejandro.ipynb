{
  "nbformat": 4,
  "nbformat_minor": 0,
  "metadata": {
    "colab": {
      "name": "Afternoon_pair_work_Heath_and_Alejandro.ipynb",
      "provenance": []
    },
    "kernelspec": {
      "display_name": "Python 3",
      "language": "python",
      "name": "python3"
    },
    "language_info": {
      "codemirror_mode": {
        "name": "ipython",
        "version": 3
      },
      "file_extension": ".py",
      "mimetype": "text/x-python",
      "name": "python",
      "nbconvert_exporter": "python",
      "pygments_lexer": "ipython3",
      "version": "3.6.8"
    }
  },
  "cells": [
    {
      "cell_type": "markdown",
      "metadata": {
        "colab_type": "text",
        "id": "IajEE40kqbPO"
      },
      "source": [
        "## Nonparametric statistical significance tests\n",
        "\n",
        "non_parametric_tests_assign_solution.ipynb\n",
        "\n",
        "Complete the assignment below.\n",
        "\n",
        "References:\n",
        "- Nonparametric Statistics for Non-Statisticians: A Step-by-Step Approach, 2009.\n",
        "- How to Calculate Nonparametric Statistical Hypothesis Tests in Python, Jason Brownlee, 2018.\n"
      ]
    },
    {
      "cell_type": "markdown",
      "metadata": {
        "colab_type": "text",
        "id": "FQsgubxqqbPP"
      },
      "source": [
        "## Assignment\n",
        "\n",
        "### Exercise 1\n",
        "\n",
        "Our first dataset includes a very famous dataset, the Winsconsin Breast cancer dataset which is also available in https://archive.ics.uci.edu/ml/datasets/Breast+Cancer+Wisconsin+(Diagnostic). It includes features for cell nuclei for two categories of tumors: malignant and benign. As explained in the original data source:\n",
        "\n",
        ">Features are computed from a digitized image of a fine needle aspirate (FNA) of a breast mass. They describe characteristics of the cell nuclei present in the image.\n",
        "n the 3-dimensional space is that described in: [K. P. Bennett and O. L. Mangasarian: \"Robust Linear Programming Discrimination of Two Linearly Inseparable Sets\", Optimization Methods and Software 1, 1992, 23-34].\n",
        "\n",
        "Dataset:\n",
        "- https://tf-assets-prod.s3.amazonaws.com/tf-curric/data-science/breast_cancer.csv\n",
        "\n",
        "We will be using three of these features for our exercise: \n",
        "- diagnosis: the classification of the tumor with values \"M\" (malignant) and \"B\" (benign).\n",
        "- area_mean: the average area covered by the tumor cells\n",
        "- concavity_mean: severity of concave portions of the contour\n",
        "- texture_mean: standard deviation of gray-scale values\n",
        "\n",
        "For the three features described above(area_mean, concavity_mean, texture_mean), is there a difference in their average values in the two diagnosis groups? (Do samples of these features originate from the same distribution?)\n",
        "- Select and apply the appropriate statistical test.\n",
        "- Provide brief rationale for your selection of statistical test.\n",
        "- Generate boxplots to compare experimental vs. control for t1, t2, and t3.\n"
      ]
    },
    {
      "cell_type": "code",
      "metadata": {
        "colab_type": "code",
        "id": "TTsw--6YqbPQ",
        "colab": {
          "base_uri": "https://localhost:8080/",
          "height": 249
        },
        "outputId": "79f96836-87a3-4f4f-d694-4323bf713127"
      },
      "source": [
        "import pandas as pd\n",
        "import numpy as np\n",
        "%matplotlib inline\n",
        "import matplotlib.pyplot as plt\n",
        "import scipy.stats as stats\n",
        "import seaborn as sns\n",
        "\n",
        "df = pd.read_csv(\"https://tf-assets-prod.s3.amazonaws.com/tf-curric/data-science/breast_cancer.csv\")\n",
        "df = df[[\"diagnosis\", 'area_mean', 'concavity_mean', 'texture_mean']]\n",
        "df.head()"
      ],
      "execution_count": 44,
      "outputs": [
        {
          "output_type": "stream",
          "text": [
            "/usr/local/lib/python3.6/dist-packages/statsmodels/tools/_testing.py:19: FutureWarning: pandas.util.testing is deprecated. Use the functions in the public API at pandas.testing instead.\n",
            "  import pandas.util.testing as tm\n"
          ],
          "name": "stderr"
        },
        {
          "output_type": "execute_result",
          "data": {
            "text/html": [
              "<div>\n",
              "<style scoped>\n",
              "    .dataframe tbody tr th:only-of-type {\n",
              "        vertical-align: middle;\n",
              "    }\n",
              "\n",
              "    .dataframe tbody tr th {\n",
              "        vertical-align: top;\n",
              "    }\n",
              "\n",
              "    .dataframe thead th {\n",
              "        text-align: right;\n",
              "    }\n",
              "</style>\n",
              "<table border=\"1\" class=\"dataframe\">\n",
              "  <thead>\n",
              "    <tr style=\"text-align: right;\">\n",
              "      <th></th>\n",
              "      <th>diagnosis</th>\n",
              "      <th>area_mean</th>\n",
              "      <th>concavity_mean</th>\n",
              "      <th>texture_mean</th>\n",
              "    </tr>\n",
              "  </thead>\n",
              "  <tbody>\n",
              "    <tr>\n",
              "      <th>0</th>\n",
              "      <td>M</td>\n",
              "      <td>1001.0</td>\n",
              "      <td>0.3001</td>\n",
              "      <td>10.38</td>\n",
              "    </tr>\n",
              "    <tr>\n",
              "      <th>1</th>\n",
              "      <td>M</td>\n",
              "      <td>1326.0</td>\n",
              "      <td>0.0869</td>\n",
              "      <td>17.77</td>\n",
              "    </tr>\n",
              "    <tr>\n",
              "      <th>2</th>\n",
              "      <td>M</td>\n",
              "      <td>1203.0</td>\n",
              "      <td>0.1974</td>\n",
              "      <td>21.25</td>\n",
              "    </tr>\n",
              "    <tr>\n",
              "      <th>3</th>\n",
              "      <td>M</td>\n",
              "      <td>386.1</td>\n",
              "      <td>0.2414</td>\n",
              "      <td>20.38</td>\n",
              "    </tr>\n",
              "    <tr>\n",
              "      <th>4</th>\n",
              "      <td>M</td>\n",
              "      <td>1297.0</td>\n",
              "      <td>0.1980</td>\n",
              "      <td>14.34</td>\n",
              "    </tr>\n",
              "  </tbody>\n",
              "</table>\n",
              "</div>"
            ],
            "text/plain": [
              "  diagnosis  area_mean  concavity_mean  texture_mean\n",
              "0         M     1001.0          0.3001         10.38\n",
              "1         M     1326.0          0.0869         17.77\n",
              "2         M     1203.0          0.1974         21.25\n",
              "3         M      386.1          0.2414         20.38\n",
              "4         M     1297.0          0.1980         14.34"
            ]
          },
          "metadata": {
            "tags": []
          },
          "execution_count": 44
        }
      ]
    },
    {
      "cell_type": "code",
      "metadata": {
        "id": "Fj2gP-PLpZ6f",
        "colab_type": "code",
        "colab": {
          "base_uri": "https://localhost:8080/",
          "height": 118
        },
        "outputId": "9423d16e-df06-4ad3-ec05-f029c5732152"
      },
      "source": [
        "# Check the distribution of classes for the the diagnosis column\n",
        "m = df[(df['diagnosis'] == 'M')]\n",
        "b = df[(df['diagnosis'] == 'B')]\n",
        "\n",
        "print(stats.shapiro(m['area_mean']))\n",
        "print(stats.shapiro(m['concavity_mean']))\n",
        "print(stats.shapiro(m['texture_mean']))\n",
        "print(stats.shapiro(b['area_mean']))\n",
        "print(stats.shapiro(b['concavity_mean']))\n",
        "print(stats.shapiro(b['texture_mean']))"
      ],
      "execution_count": 23,
      "outputs": [
        {
          "output_type": "stream",
          "text": [
            "(0.9332621097564697, 2.969658829954369e-08)\n",
            "(0.95293128490448, 1.9665981199068483e-06)\n",
            "(0.9690946340560913, 0.00013415660941973329)\n",
            "(0.9906416535377502, 0.02278628945350647)\n",
            "(0.7372753620147705, 2.2455432115817253e-23)\n",
            "(0.9441728591918945, 2.384618336126465e-10)\n"
          ],
          "name": "stdout"
        }
      ]
    },
    {
      "cell_type": "code",
      "metadata": {
        "colab_type": "code",
        "id": "ds4PBznTqbPW",
        "scrolled": true,
        "colab": {
          "base_uri": "https://localhost:8080/",
          "height": 202
        },
        "outputId": "98fa1d25-6010-446b-a438-a7f1f80b6686"
      },
      "source": [
        "df.info()"
      ],
      "execution_count": 3,
      "outputs": [
        {
          "output_type": "stream",
          "text": [
            "<class 'pandas.core.frame.DataFrame'>\n",
            "RangeIndex: 569 entries, 0 to 568\n",
            "Data columns (total 4 columns):\n",
            " #   Column          Non-Null Count  Dtype  \n",
            "---  ------          --------------  -----  \n",
            " 0   diagnosis       569 non-null    object \n",
            " 1   area_mean       569 non-null    float64\n",
            " 2   concavity_mean  569 non-null    float64\n",
            " 3   texture_mean    569 non-null    float64\n",
            "dtypes: float64(3), object(1)\n",
            "memory usage: 17.9+ KB\n"
          ],
          "name": "stdout"
        }
      ]
    },
    {
      "cell_type": "markdown",
      "metadata": {
        "colab_type": "text",
        "id": "8vrbptjVqbPa"
      },
      "source": [
        "We explore if the referenced features follow a normal distribution. We examine the skewness and kurtosis of the groups.\n",
        "\n",
        "Optional: We can run a Jarque–Bera test which tests if the data have the skewness and kurtosis matching a normal distribution.\n",
        "In the case of the Jarque–Bera test the null hypothesis would state that the skewness and kurtosis matches that of a normal distribution."
      ]
    },
    {
      "cell_type": "code",
      "metadata": {
        "id": "t3NzKoOcpZ9S",
        "colab_type": "code",
        "colab": {
          "base_uri": "https://localhost:8080/",
          "height": 151
        },
        "outputId": "c725630c-8975-42c5-bdbb-3587e98b1314"
      },
      "source": [
        "# Print the skewness and kurtosis of the groups. Optionally run a Jarque–Bera\n",
        "# Afterwards you can comment your findings wether the features follow a normal distribution of not.\n",
        "print(stats.skew(m['area_mean']))\n",
        "print(stats.skew(m['concavity_mean']))\n",
        "print(stats.skew(m['texture_mean']))\n",
        "\n",
        "print('\\n')\n",
        "\n",
        "print(stats.kurtosis(m['area_mean']))\n",
        "print(stats.kurtosis(m['concavity_mean']))\n",
        "print(stats.kurtosis(m['texture_mean']))"
      ],
      "execution_count": 30,
      "outputs": [
        {
          "output_type": "stream",
          "text": [
            "1.109744551210065\n",
            "0.8952361063235286\n",
            "0.6985549130264693\n",
            "\n",
            "\n",
            "2.223843454774964\n",
            "1.0975606181162627\n",
            "2.2951980794284896\n"
          ],
          "name": "stdout"
        }
      ]
    },
    {
      "cell_type": "code",
      "metadata": {
        "id": "F32QkqagpZ9X",
        "colab_type": "code",
        "colab": {}
      },
      "source": [
        "malignant = df[df.diagnosis=='M'][['area_mean', 'concavity_mean', 'texture_mean']]\n",
        "benign = df[df.diagnosis=='B'][['area_mean', 'concavity_mean', 'texture_mean']]"
      ],
      "execution_count": 5,
      "outputs": []
    },
    {
      "cell_type": "code",
      "metadata": {
        "id": "tG4PWBnHpZ9b",
        "colab_type": "code",
        "colab": {
          "base_uri": "https://localhost:8080/",
          "height": 781
        },
        "outputId": "3b1329d6-30e8-449b-e8fe-2f0d363e8712"
      },
      "source": [
        "# Plot the histograms for the distribution of each feature and for each class (malignant/benign) to visually explore \n",
        "# wether these distributions are skewed or not.\n",
        "\n",
        "plt.figure()\n",
        "plt.hist(m['area_mean'], alpha = 0.5)\n",
        "plt.figure()\n",
        "plt.hist(m['concavity_mean'], alpha = 0.5)\n",
        "plt.figure()\n",
        "plt.hist(m['texture_mean'], alpha = 0.5)\n",
        "plt.show"
      ],
      "execution_count": 37,
      "outputs": [
        {
          "output_type": "execute_result",
          "data": {
            "text/plain": [
              "<function matplotlib.pyplot.show>"
            ]
          },
          "metadata": {
            "tags": []
          },
          "execution_count": 37
        },
        {
          "output_type": "display_data",
          "data": {
            "image/png": "[encoded data removed]",
            "text/plain": [
              "<Figure size 432x288 with 1 Axes>"
            ]
          },
          "metadata": {
            "tags": [],
            "needs_background": "light"
          }
        },
        {
          "output_type": "display_data",
          "data": {
            "image/png": "[encoded data removed]",
            "text/plain": [
              "<Figure size 432x288 with 1 Axes>"
            ]
          },
          "metadata": {
            "tags": [],
            "needs_background": "light"
          }
        },
        {
          "output_type": "display_data",
          "data": {
            "image/png": "[encoded data removed]",
            "text/plain": [
              "<Figure size 432x288 with 1 Axes>"
            ]
          },
          "metadata": {
            "tags": [],
            "needs_background": "light"
          }
        }
      ]
    },
    {
      "cell_type": "code",
      "metadata": {
        "colab_type": "code",
        "id": "ZN6VDIK4qbPe",
        "colab": {
          "base_uri": "https://localhost:8080/",
          "height": 67
        },
        "outputId": "e526d7ec-51b7-4c27-83ad-7ce35e237785"
      },
      "source": [
        "# Run 3 Kruskal-Wallis tests, one for each group/feature and describe the results of these tests. \n",
        "# State wether the null hypothesis will be rejected or not.\n",
        "print(stats.kruskal(m['area_mean'], b['area_mean']))\n",
        "print(stats.kruskal(m['concavity_mean'], b['concavity_mean']))\n",
        "print(stats.kruskal(m['texture_mean'], b['texture_mean']))"
      ],
      "execution_count": 43,
      "outputs": [
        {
          "output_type": "stream",
          "text": [
            "KruskalResult(statistic=306.1155244413551, pvalue=1.5326695021713592e-68)\n",
            "KruskalResult(statistic=305.43657612021565, pvalue=2.1545636238729746e-68)\n",
            "KruskalResult(statistic=121.22093055992241, pvalue=3.418605714119009e-28)\n"
          ],
          "name": "stdout"
        }
      ]
    },
    {
      "cell_type": "code",
      "metadata": {
        "colab_type": "code",
        "id": "xzFd2f9cqbPi",
        "colab": {
          "base_uri": "https://localhost:8080/",
          "height": 803
        },
        "outputId": "491c16da-881f-4533-e93c-0b143caea690"
      },
      "source": [
        "# Afterwards create 3 boxplots: one for each feature grouped by the diagnosis class.\n",
        "sns.boxplot(x='diagnosis', y='area_mean', data=df)\n",
        "plt.show()\n",
        "sns.boxplot(x='diagnosis', y='concavity_mean', data=df)\n",
        "plt.show()\n",
        "sns.boxplot(x='diagnosis', y='texture_mean', data=df)\n",
        "plt.show()"
      ],
      "execution_count": 49,
      "outputs": [
        {
          "output_type": "display_data",
          "data": {
            "image/png": "[encoded data removed]",
            "text/plain": [
              "<Figure size 432x288 with 1 Axes>"
            ]
          },
          "metadata": {
            "tags": [],
            "needs_background": "light"
          }
        },
        {
          "output_type": "display_data",
          "data": {
            "image/png": "[encoded data removed]",
            "text/plain": [
              "<Figure size 432x288 with 1 Axes>"
            ]
          },
          "metadata": {
            "tags": [],
            "needs_background": "light"
          }
        },
        {
          "output_type": "display_data",
          "data": {
            "image/png": "[encoded data removed]",
            "text/plain": [
              "<Figure size 432x288 with 1 Axes>"
            ]
          },
          "metadata": {
            "tags": [],
            "needs_background": "light"
          }
        }
      ]
    },
    {
      "cell_type": "markdown",
      "metadata": {
        "id": "Inylwf3FpZ90",
        "colab_type": "text"
      },
      "source": [
        "### Exercise 2\n",
        "\n",
        "For the following test we will use the Real GDP per capita dataset for Europe available by Eurostat from the following address https://ec.europa.eu/eurostat/web/products-datasets/-/sdg_08_10\n",
        "It contains the GDP per capita for each country (The indicator is calculated as the ratio of real GDP to the average population of a specific year.)\n",
        "We will use the years 2007, 2008 and 2009 to check if the economic crisis of 2008 affected the GDP values of europe.\n",
        "\n",
        "Dataset:\n",
        "- https://ec.europa.eu/eurostat/web/products-datasets/-/sdg_08_10\n",
        "\n",
        "\n",
        "Questions:\n",
        "\n",
        "Is there a difference in the GDP per capita between the years (2007 and 2008), (2008 and 2009)?\n",
        "- Select and apply the appropriate statistical test.\n"
      ]
    },
    {
      "cell_type": "markdown",
      "metadata": {
        "id": "0upRAUv8pZ91",
        "colab_type": "text"
      },
      "source": [
        "Our dataset needs some cleaning at first. We extract only the columns of interest, clean numeric columns of unwanted characters and convert these columns to numeric.\n",
        "We also remove rows that refer to collective index for many countries (\"EA19\", \"EU27\",\"EU28\") and keep individual countries."
      ]
    },
    {
      "cell_type": "code",
      "metadata": {
        "id": "l5rZdCUypZ95",
        "colab_type": "code",
        "colab": {
          "base_uri": "https://localhost:8080/",
          "height": 195
        },
        "outputId": "f0a8cfe0-1ffb-4223-9a6f-120171399124"
      },
      "source": [
        "gdp = pd.read_csv(\"https://ec.europa.eu/eurostat/estat-navtree-portlet-prod/BulkDownloadListing?file=data/sdg_08_10.tsv.gz\",\n",
        "                 compression='gzip', sep=r'\\,|\\t', usecols=[\"unit\", \"geo\\\\time\", \"2007 \", \"2008 \", \"2009 \"], engine='python')\n",
        "gdp = gdp[gdp.unit==\"CLV10_EUR_HAB\"].drop([\"unit\"], axis=1)\n",
        "gdp.columns=[\"country\", \"2007\", \"2008\", \"2009\"]\n",
        "gdp = gdp[~gdp.country.isin([\"EA19\", \"EU27\",\"EU28\"])]\n",
        "gdp['2007'] = gdp['2007'].str.extract('(\\d+)', expand=False).astype(int)\n",
        "gdp['2008'] = gdp['2008'].str.extract('(\\d+)', expand=False).astype(int)\n",
        "gdp['2009'] = gdp['2009'].str.extract('(\\d+)', expand=False).astype(int)\n",
        "gdp.head()"
      ],
      "execution_count": 9,
      "outputs": [
        {
          "output_type": "execute_result",
          "data": {
            "text/html": [
              "<div>\n",
              "<style scoped>\n",
              "    .dataframe tbody tr th:only-of-type {\n",
              "        vertical-align: middle;\n",
              "    }\n",
              "\n",
              "    .dataframe tbody tr th {\n",
              "        vertical-align: top;\n",
              "    }\n",
              "\n",
              "    .dataframe thead th {\n",
              "        text-align: right;\n",
              "    }\n",
              "</style>\n",
              "<table border=\"1\" class=\"dataframe\">\n",
              "  <thead>\n",
              "    <tr style=\"text-align: right;\">\n",
              "      <th></th>\n",
              "      <th>country</th>\n",
              "      <th>2007</th>\n",
              "      <th>2008</th>\n",
              "      <th>2009</th>\n",
              "    </tr>\n",
              "  </thead>\n",
              "  <tbody>\n",
              "    <tr>\n",
              "      <th>0</th>\n",
              "      <td>AT</td>\n",
              "      <td>35870</td>\n",
              "      <td>36280</td>\n",
              "      <td>34830</td>\n",
              "    </tr>\n",
              "    <tr>\n",
              "      <th>1</th>\n",
              "      <td>BE</td>\n",
              "      <td>33760</td>\n",
              "      <td>33640</td>\n",
              "      <td>32700</td>\n",
              "    </tr>\n",
              "    <tr>\n",
              "      <th>2</th>\n",
              "      <td>BG</td>\n",
              "      <td>4820</td>\n",
              "      <td>5140</td>\n",
              "      <td>4990</td>\n",
              "    </tr>\n",
              "    <tr>\n",
              "      <th>3</th>\n",
              "      <td>CH</td>\n",
              "      <td>56400</td>\n",
              "      <td>56940</td>\n",
              "      <td>55050</td>\n",
              "    </tr>\n",
              "    <tr>\n",
              "      <th>4</th>\n",
              "      <td>CY</td>\n",
              "      <td>24420</td>\n",
              "      <td>24680</td>\n",
              "      <td>23550</td>\n",
              "    </tr>\n",
              "  </tbody>\n",
              "</table>\n",
              "</div>"
            ],
            "text/plain": [
              "  country   2007   2008   2009\n",
              "0      AT  35870  36280  34830\n",
              "1      BE  33760  33640  32700\n",
              "2      BG   4820   5140   4990\n",
              "3      CH  56400  56940  55050\n",
              "4      CY  24420  24680  23550"
            ]
          },
          "metadata": {
            "tags": []
          },
          "execution_count": 9
        }
      ]
    },
    {
      "cell_type": "code",
      "metadata": {
        "id": "Ico5D7xopZ-C",
        "colab_type": "code",
        "colab": {
          "base_uri": "https://localhost:8080/",
          "height": 284
        },
        "outputId": "07e02ab6-20a5-475d-d932-026c558c9652"
      },
      "source": [
        "gdp.describe()"
      ],
      "execution_count": 10,
      "outputs": [
        {
          "output_type": "execute_result",
          "data": {
            "text/html": [
              "<div>\n",
              "<style scoped>\n",
              "    .dataframe tbody tr th:only-of-type {\n",
              "        vertical-align: middle;\n",
              "    }\n",
              "\n",
              "    .dataframe tbody tr th {\n",
              "        vertical-align: top;\n",
              "    }\n",
              "\n",
              "    .dataframe thead th {\n",
              "        text-align: right;\n",
              "    }\n",
              "</style>\n",
              "<table border=\"1\" class=\"dataframe\">\n",
              "  <thead>\n",
              "    <tr style=\"text-align: right;\">\n",
              "      <th></th>\n",
              "      <th>2007</th>\n",
              "      <th>2008</th>\n",
              "      <th>2009</th>\n",
              "    </tr>\n",
              "  </thead>\n",
              "  <tbody>\n",
              "    <tr>\n",
              "      <th>count</th>\n",
              "      <td>36.000000</td>\n",
              "      <td>36.000000</td>\n",
              "      <td>36.000000</td>\n",
              "    </tr>\n",
              "    <tr>\n",
              "      <th>mean</th>\n",
              "      <td>25374.166667</td>\n",
              "      <td>25322.777778</td>\n",
              "      <td>24016.388889</td>\n",
              "    </tr>\n",
              "    <tr>\n",
              "      <th>std</th>\n",
              "      <td>18764.549764</td>\n",
              "      <td>18367.127719</td>\n",
              "      <td>17541.855441</td>\n",
              "    </tr>\n",
              "    <tr>\n",
              "      <th>min</th>\n",
              "      <td>3200.000000</td>\n",
              "      <td>3370.000000</td>\n",
              "      <td>3350.000000</td>\n",
              "    </tr>\n",
              "    <tr>\n",
              "      <th>25%</th>\n",
              "      <td>10332.500000</td>\n",
              "      <td>10402.500000</td>\n",
              "      <td>9625.000000</td>\n",
              "    </tr>\n",
              "    <tr>\n",
              "      <th>50%</th>\n",
              "      <td>23535.000000</td>\n",
              "      <td>23380.000000</td>\n",
              "      <td>22315.000000</td>\n",
              "    </tr>\n",
              "    <tr>\n",
              "      <th>75%</th>\n",
              "      <td>35937.500000</td>\n",
              "      <td>36025.000000</td>\n",
              "      <td>33677.500000</td>\n",
              "    </tr>\n",
              "    <tr>\n",
              "      <th>max</th>\n",
              "      <td>84420.000000</td>\n",
              "      <td>81880.000000</td>\n",
              "      <td>76900.000000</td>\n",
              "    </tr>\n",
              "  </tbody>\n",
              "</table>\n",
              "</div>"
            ],
            "text/plain": [
              "               2007          2008          2009\n",
              "count     36.000000     36.000000     36.000000\n",
              "mean   25374.166667  25322.777778  24016.388889\n",
              "std    18764.549764  18367.127719  17541.855441\n",
              "min     3200.000000   3370.000000   3350.000000\n",
              "25%    10332.500000  10402.500000   9625.000000\n",
              "50%    23535.000000  23380.000000  22315.000000\n",
              "75%    35937.500000  36025.000000  33677.500000\n",
              "max    84420.000000  81880.000000  76900.000000"
            ]
          },
          "metadata": {
            "tags": []
          },
          "execution_count": 10
        }
      ]
    },
    {
      "cell_type": "markdown",
      "metadata": {
        "id": "J2UF2nhupZ-I",
        "colab_type": "text"
      },
      "source": [
        "Data that refer to economic indices usually do not follow a normal distribution, something we can easily observe by visualizing the data below, hence we should use non parametric tests."
      ]
    },
    {
      "cell_type": "code",
      "metadata": {
        "id": "g1POB8XKpZ-J",
        "colab_type": "code",
        "colab": {
          "base_uri": "https://localhost:8080/",
          "height": 761
        },
        "outputId": "46bc6e56-6c11-4fde-aa35-9ae20889a85b"
      },
      "source": [
        "# Plot the histogram for the values of each year.\n",
        "plt.figure()\n",
        "plt.hist(gdp['2007'])\n",
        "plt.show()\n",
        "\n",
        "plt.figure()\n",
        "plt.hist(gdp['2008'])\n",
        "plt.show()\n",
        "\n",
        "plt.figure()\n",
        "plt.hist(gdp['2009'])\n",
        "plt.show()"
      ],
      "execution_count": 51,
      "outputs": [
        {
          "output_type": "display_data",
          "data": {
            "image/png": "[encoded data removed]",
            "text/plain": [
              "<Figure size 432x288 with 1 Axes>"
            ]
          },
          "metadata": {
            "tags": [],
            "needs_background": "light"
          }
        },
        {
          "output_type": "display_data",
          "data": {
            "image/png": "[encoded data removed]",
            "text/plain": [
              "<Figure size 432x288 with 1 Axes>"
            ]
          },
          "metadata": {
            "tags": [],
            "needs_background": "light"
          }
        },
        {
          "output_type": "display_data",
          "data": {
            "image/png": "[encoded data removed]",
            "text/plain": [
              "<Figure size 432x288 with 1 Axes>"
            ]
          },
          "metadata": {
            "tags": [],
            "needs_background": "light"
          }
        }
      ]
    },
    {
      "cell_type": "markdown",
      "metadata": {
        "id": "dKkvGqUspZ-U",
        "colab_type": "text"
      },
      "source": [
        "We will run a Wilcoxon Signed-rank Test, which should be run on paired samples or repeated measurements on a single sample. In our case we have repeated measurements (three years) of GDP for the same countries."
      ]
    },
    {
      "cell_type": "markdown",
      "metadata": {
        "id": "Geu7s-ubpZ-U",
        "colab_type": "text"
      },
      "source": [
        "The null hypothesis for this test is that the medians of two samples are equal.\n",
        "First we compare 2007 with 2008 values:"
      ]
    },
    {
      "cell_type": "code",
      "metadata": {
        "id": "EExsdc-KpZ-V",
        "colab_type": "code",
        "colab": {
          "base_uri": "https://localhost:8080/",
          "height": 34
        },
        "outputId": "811c595b-102f-4697-bc80-a9cb3dc33238"
      },
      "source": [
        "# Run a Wilcoxon Signed-rank test for years (groups) 2007 and 2008 and describe the results of the test. \n",
        "stats.wilcoxon(gdp['2007'], gdp['2008'])"
      ],
      "execution_count": 52,
      "outputs": [
        {
          "output_type": "execute_result",
          "data": {
            "text/plain": [
              "WilcoxonResult(statistic=278.5, pvalue=0.3918214607306295)"
            ]
          },
          "metadata": {
            "tags": []
          },
          "execution_count": 52
        }
      ]
    },
    {
      "cell_type": "code",
      "metadata": {
        "id": "FMOql4vZpZ-b",
        "colab_type": "code",
        "colab": {
          "base_uri": "https://localhost:8080/",
          "height": 34
        },
        "outputId": "0ac16699-9fcf-40ca-df29-4dfd1b2cf0b4"
      },
      "source": [
        "# Run a Wilcoxon Signed-rank Test for years (groups) 2008 and 2009 and describe the results of the test. \n",
        "stats.wilcoxon(gdp['2008'], gdp['2009'])"
      ],
      "execution_count": 53,
      "outputs": [
        {
          "output_type": "execute_result",
          "data": {
            "text/plain": [
              "WilcoxonResult(statistic=4.0, pvalue=2.356281382362627e-07)"
            ]
          },
          "metadata": {
            "tags": []
          },
          "execution_count": 53
        }
      ]
    }
  ]
}