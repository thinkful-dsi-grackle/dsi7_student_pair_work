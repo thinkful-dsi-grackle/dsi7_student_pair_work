{
 "cells": [
  {
   "cell_type": "code",
   "execution_count": 1,
   "metadata": {},
   "outputs": [],
   "source": [
    "import pandas as pd\n",
    "import numpy as np\n",
    "from scipy import stats\n",
    "from statsmodels.stats.multicomp import pairwise_tukeyhsd"
   ]
  },
  {
   "cell_type": "code",
   "execution_count": 5,
   "metadata": {},
   "outputs": [
    {
     "data": {
      "text/html": [
       "<div>\n",
       "<style scoped>\n",
       "    .dataframe tbody tr th:only-of-type {\n",
       "        vertical-align: middle;\n",
       "    }\n",
       "\n",
       "    .dataframe tbody tr th {\n",
       "        vertical-align: top;\n",
       "    }\n",
       "\n",
       "    .dataframe thead th {\n",
       "        text-align: right;\n",
       "    }\n",
       "</style>\n",
       "<table border=\"1\" class=\"dataframe\">\n",
       "  <thead>\n",
       "    <tr style=\"text-align: right;\">\n",
       "      <th></th>\n",
       "      <th>group</th>\n",
       "      <th>patient</th>\n",
       "      <th>t1</th>\n",
       "      <th>t2</th>\n",
       "    </tr>\n",
       "  </thead>\n",
       "  <tbody>\n",
       "    <tr>\n",
       "      <th>0</th>\n",
       "      <td>1</td>\n",
       "      <td>1-1</td>\n",
       "      <td>4226</td>\n",
       "      <td>4497</td>\n",
       "    </tr>\n",
       "    <tr>\n",
       "      <th>1</th>\n",
       "      <td>1</td>\n",
       "      <td>1-2</td>\n",
       "      <td>5731</td>\n",
       "      <td>5665</td>\n",
       "    </tr>\n",
       "    <tr>\n",
       "      <th>2</th>\n",
       "      <td>1</td>\n",
       "      <td>1-3</td>\n",
       "      <td>3912</td>\n",
       "      <td>4505</td>\n",
       "    </tr>\n",
       "    <tr>\n",
       "      <th>3</th>\n",
       "      <td>1</td>\n",
       "      <td>1-4</td>\n",
       "      <td>4811</td>\n",
       "      <td>6472</td>\n",
       "    </tr>\n",
       "    <tr>\n",
       "      <th>4</th>\n",
       "      <td>1</td>\n",
       "      <td>1-5</td>\n",
       "      <td>5128</td>\n",
       "      <td>4710</td>\n",
       "    </tr>\n",
       "    <tr>\n",
       "      <th>...</th>\n",
       "      <td>...</td>\n",
       "      <td>...</td>\n",
       "      <td>...</td>\n",
       "      <td>...</td>\n",
       "    </tr>\n",
       "    <tr>\n",
       "      <th>395</th>\n",
       "      <td>3</td>\n",
       "      <td>3-96</td>\n",
       "      <td>2819</td>\n",
       "      <td>2717</td>\n",
       "    </tr>\n",
       "    <tr>\n",
       "      <th>396</th>\n",
       "      <td>3</td>\n",
       "      <td>3-97</td>\n",
       "      <td>2809</td>\n",
       "      <td>2613</td>\n",
       "    </tr>\n",
       "    <tr>\n",
       "      <th>397</th>\n",
       "      <td>3</td>\n",
       "      <td>3-98</td>\n",
       "      <td>3338</td>\n",
       "      <td>3064</td>\n",
       "    </tr>\n",
       "    <tr>\n",
       "      <th>398</th>\n",
       "      <td>3</td>\n",
       "      <td>3-99</td>\n",
       "      <td>3173</td>\n",
       "      <td>3008</td>\n",
       "    </tr>\n",
       "    <tr>\n",
       "      <th>399</th>\n",
       "      <td>3</td>\n",
       "      <td>3-100</td>\n",
       "      <td>2309</td>\n",
       "      <td>2390</td>\n",
       "    </tr>\n",
       "  </tbody>\n",
       "</table>\n",
       "<p>400 rows × 4 columns</p>\n",
       "</div>"
      ],
      "text/plain": [
       "     group patient    t1    t2\n",
       "0        1     1-1  4226  4497\n",
       "1        1     1-2  5731  5665\n",
       "2        1     1-3  3912  4505\n",
       "3        1     1-4  4811  6472\n",
       "4        1     1-5  5128  4710\n",
       "..     ...     ...   ...   ...\n",
       "395      3    3-96  2819  2717\n",
       "396      3    3-97  2809  2613\n",
       "397      3    3-98  3338  3064\n",
       "398      3    3-99  3173  3008\n",
       "399      3   3-100  2309  2390\n",
       "\n",
       "[400 rows x 4 columns]"
      ]
     },
     "execution_count": 5,
     "metadata": {},
     "output_type": "execute_result"
    }
   ],
   "source": [
    "df = pd.read_csv('https://tf-assets-prod.s3.amazonaws.com/tf-curric/data-science/lung-volume.csv')\n",
    "df"
   ]
  },
  {
   "cell_type": "code",
   "execution_count": 7,
   "metadata": {},
   "outputs": [],
   "source": [
    "#question 1\n",
    "group_1 = df[df['group']==1]\n",
    "group_2 = df[df['group']==2]\n",
    "group_3 = df[df['group']==3]"
   ]
  },
  {
   "cell_type": "code",
   "execution_count": 10,
   "metadata": {},
   "outputs": [
    {
     "name": "stdout",
     "output_type": "stream",
     "text": [
      "Group 1 t1: ShapiroResult(statistic=0.9932351112365723, pvalue=0.4915737509727478)\n",
      "Group 1 t2: ShapiroResult(statistic=0.9955824613571167, pvalue=0.8313238024711609)\n",
      "Group 2 t1: ShapiroResult(statistic=0.994020402431488, pvalue=0.9413013458251953)\n",
      "Group 2 t2: ShapiroResult(statistic=0.9911357164382935, pvalue=0.7556766271591187)\n",
      "Group 3 t1: ShapiroResult(statistic=0.9901381731033325, pvalue=0.675767183303833)\n",
      "Group 3 t2: ShapiroResult(statistic=0.9781965613365173, pvalue=0.09609080106019974)\n",
      "All fits normal distribution\n"
     ]
    }
   ],
   "source": [
    "print('Group 1 t1:', stats.shapiro(group_1['t1']))\n",
    "print('Group 1 t2:', stats.shapiro(group_1['t2']))\n",
    "\n",
    "print('Group 2 t1:', stats.shapiro(group_2['t1']))\n",
    "print('Group 2 t2:', stats.shapiro(group_2['t2']))\n",
    "\n",
    "print('Group 3 t1:', stats.shapiro(group_3['t1']))\n",
    "print('Group 3 t2:', stats.shapiro(group_3['t2']))\n",
    "\n",
    "print('All fits normal distribution')"
   ]
  },
  {
   "cell_type": "code",
   "execution_count": 12,
   "metadata": {},
   "outputs": [
    {
     "name": "stdout",
     "output_type": "stream",
     "text": [
      "Group 1 t1 std: 1053.8174957624299\n",
      "Group 1 t2 std: 1007.0247633375255\n",
      "Group 2 t1 std: 1132.7310183799152\n",
      "Group 2 t2 std: 1097.2471918396511\n",
      "Group 3 t1 std: 942.3098388534421\n",
      "Group 3 t2 std: 973.6588566330614\n"
     ]
    }
   ],
   "source": [
    "print('Group 1 t1 std:', np.std(group_1['t1']))\n",
    "print('Group 1 t2 std:', np.std(group_1['t2']))\n",
    "\n",
    "print('Group 2 t1 std:', np.std(group_2['t1']))\n",
    "print('Group 2 t2 std:', np.std(group_2['t2']))\n",
    "\n",
    "print('Group 3 t1 std:', np.std(group_3['t1']))\n",
    "print('Group 3 t2 std:', np.std(group_3['t2']))\n",
    "\n",
    "print('each group hastats.ttest_rel(group_1['t1'],group_1['t2'])s similar variability')"
   ]
  },
  {
   "cell_type": "code",
   "execution_count": 19,
   "metadata": {},
   "outputs": [
    {
     "data": {
      "text/plain": [
       "Ttest_relResult(statistic=-0.31827677584963787, pvalue=0.7506087664956842)"
      ]
     },
     "execution_count": 19,
     "metadata": {},
     "output_type": "execute_result"
    }
   ],
   "source": [
    "stats.ttest_rel(group_1['t1'],group_1['t2'])"
   ]
  },
  {
   "cell_type": "code",
   "execution_count": 20,
   "metadata": {},
   "outputs": [
    {
     "data": {
      "text/plain": [
       "Ttest_relResult(statistic=0.32745622415118286, pvalue=0.7440142766032991)"
      ]
     },
     "execution_count": 20,
     "metadata": {},
     "output_type": "execute_result"
    }
   ],
   "source": [
    "stats.ttest_rel(group_2['t1'],group_2['t2'])"
   ]
  },
  {
   "cell_type": "code",
   "execution_count": 21,
   "metadata": {},
   "outputs": [
    {
     "data": {
      "text/plain": [
       "Ttest_relResult(statistic=0.8984773127301627, pvalue=0.37111115842334486)"
      ]
     },
     "execution_count": 21,
     "metadata": {},
     "output_type": "execute_result"
    }
   ],
   "source": [
    "stats.ttest_rel(group_3['t1'],group_3['t2'])"
   ]
  },
  {
   "cell_type": "code",
   "execution_count": 27,
   "metadata": {},
   "outputs": [],
   "source": [
    "#We do not reject null hypothesis for all 3 experiments. \n",
    "#There is no significant difference between t1 and t2 for all 3 groups"
   ]
  },
  {
   "cell_type": "code",
   "execution_count": 26,
   "metadata": {},
   "outputs": [
    {
     "data": {
      "text/html": [
       "<table class=\"simpletable\">\n",
       "<caption>Multiple Comparison of Means - Tukey HSD, FWER=0.05</caption>\n",
       "<tr>\n",
       "  <th>group1</th> <th>group2</th> <th>meandiff</th>   <th>p-adj</th>    <th>lower</th>      <th>upper</th>   <th>reject</th>\n",
       "</tr>\n",
       "<tr>\n",
       "     <td>1</td>      <td>2</td>    <td>99.705</td>   <td>0.6902</td>  <td>-195.9612</td>  <td>395.3712</td>   <td>False</td>\n",
       "</tr>\n",
       "<tr>\n",
       "     <td>1</td>      <td>3</td>   <td>-1341.865</td>  <td>0.001</td> <td>-1637.5312</td> <td>-1046.1988</td>  <td>True</td> \n",
       "</tr>\n",
       "<tr>\n",
       "     <td>2</td>      <td>3</td>   <td>-1441.57</td>   <td>0.001</td> <td>-1782.9759</td> <td>-1100.1641</td>  <td>True</td> \n",
       "</tr>\n",
       "</table>"
      ],
      "text/plain": [
       "<class 'statsmodels.iolib.table.SimpleTable'>"
      ]
     },
     "execution_count": 26,
     "metadata": {},
     "output_type": "execute_result"
    }
   ],
   "source": [
    "#question 2\n",
    "tukey = pairwise_tukeyhsd(endog=df['t2'], \n",
    "                         groups =df['group'],alpha = 0.05)\n",
    "tukey.summary()"
   ]
  },
  {
   "cell_type": "code",
   "execution_count": null,
   "metadata": {},
   "outputs": [],
   "source": [
    "#There is significant difference between group 2 and 3, and group 1 and 3, \n",
    "#thus group 3 is significantly different comparing to the other 2 groups"
   ]
  }
 ],
 "metadata": {
  "kernelspec": {
   "display_name": "Python 3",
   "language": "python",
   "name": "python3"
  },
  "language_info": {
   "codemirror_mode": {
    "name": "ipython",
    "version": 3
   },
   "file_extension": ".py",
   "mimetype": "text/x-python",
   "name": "python",
   "nbconvert_exporter": "python",
   "pygments_lexer": "ipython3",
   "version": "3.8.3"
  }
 },
 "nbformat": 4,
 "nbformat_minor": 4
}
