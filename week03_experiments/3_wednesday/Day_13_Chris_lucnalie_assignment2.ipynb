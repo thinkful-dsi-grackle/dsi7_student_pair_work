{
  "nbformat": 4,
  "nbformat_minor": 0,
  "metadata": {
    "colab": {
      "name": "Day 13 Lecture 2 Assignment.ipynb",
      "provenance": []
    },
    "kernelspec": {
      "display_name": "Python 3",
      "language": "python",
      "name": "python3"
    },
    "language_info": {
      "codemirror_mode": {
        "name": "ipython",
        "version": 3
      },
      "file_extension": ".py",
      "mimetype": "text/x-python",
      "name": "python",
      "nbconvert_exporter": "python",
      "pygments_lexer": "ipython3",
      "version": "3.6.8"
    }
  },
  "cells": [
    {
      "cell_type": "markdown",
      "metadata": {
        "colab_type": "text",
        "id": "IajEE40kqbPO"
      },
      "source": [
        "## Nonparametric statistical significance tests\n",
        "\n",
        "non_parametric_tests_assign_solution.ipynb\n",
        "\n",
        "Complete the assignment below.\n",
        "\n",
        "References:\n",
        "- Nonparametric Statistics for Non-Statisticians: A Step-by-Step Approach, 2009.\n",
        "- How to Calculate Nonparametric Statistical Hypothesis Tests in Python, Jason Brownlee, 2018.\n"
      ]
    },
    {
      "cell_type": "markdown",
      "metadata": {
        "colab_type": "text",
        "id": "FQsgubxqqbPP"
      },
      "source": [
        "## Assignment\n",
        "\n",
        "### Exercise 1\n",
        "\n",
        "Our first dataset includes a very famous dataset, the Winsconsin Breast cancer dataset which is also available in https://archive.ics.uci.edu/ml/datasets/Breast+Cancer+Wisconsin+(Diagnostic). It includes features for cell nuclei for two categories of tumors: malignant and benign. As explained in the original data source:\n",
        "\n",
        ">Features are computed from a digitized image of a fine needle aspirate (FNA) of a breast mass. They describe characteristics of the cell nuclei present in the image.\n",
        "n the 3-dimensional space is that described in: [K. P. Bennett and O. L. Mangasarian: \"Robust Linear Programming Discrimination of Two Linearly Inseparable Sets\", Optimization Methods and Software 1, 1992, 23-34].\n",
        "\n",
        "Dataset:\n",
        "- https://tf-assets-prod.s3.amazonaws.com/tf-curric/data-science/breast_cancer.csv\n",
        "\n",
        "We will be using three of these features for our exercise: \n",
        "- diagnosis: the classification of the tumor with values \"M\" (malignant) and \"B\" (benign).\n",
        "- area_mean: the average area covered by the tumor cells\n",
        "- concavity_mean: severity of concave portions of the contour\n",
        "- texture_mean: standard deviation of gray-scale values\n",
        "\n",
        "For the three features described above(area_mean, concavity_mean, texture_mean), is there a difference in their average values in the two diagnosis groups? (Do samples of these features originate from the same distribution?)\n",
        "- Select and apply the appropriate statistical test.\n",
        "- Provide brief rationale for your selection of statistical test.\n",
        "- Generate boxplots to compare experimental vs. control for t1, t2, and t3.\n"
      ]
    },
    {
      "cell_type": "code",
      "metadata": {
        "colab_type": "code",
        "id": "TTsw--6YqbPQ",
        "colab": {
          "base_uri": "https://localhost:8080/",
          "height": 419
        },
        "outputId": "f6e0c86d-9896-4a7b-988e-b5ac6c189db8"
      },
      "source": [
        "import pandas as pd\n",
        "import numpy as np\n",
        "%matplotlib inline\n",
        "import matplotlib.pyplot as plt\n",
        "import scipy.stats as stats\n",
        "import seaborn as sns\n",
        "\n",
        "df = pd.read_csv(\"https://tf-assets-prod.s3.amazonaws.com/tf-curric/data-science/breast_cancer.csv\")\n",
        "df = df[[\"diagnosis\", 'area_mean', 'concavity_mean', 'texture_mean']]\n",
        "df"
      ],
      "execution_count": 24,
      "outputs": [
        {
          "output_type": "execute_result",
          "data": {
            "text/html": [
              "<div>\n",
              "<style scoped>\n",
              "    .dataframe tbody tr th:only-of-type {\n",
              "        vertical-align: middle;\n",
              "    }\n",
              "\n",
              "    .dataframe tbody tr th {\n",
              "        vertical-align: top;\n",
              "    }\n",
              "\n",
              "    .dataframe thead th {\n",
              "        text-align: right;\n",
              "    }\n",
              "</style>\n",
              "<table border=\"1\" class=\"dataframe\">\n",
              "  <thead>\n",
              "    <tr style=\"text-align: right;\">\n",
              "      <th></th>\n",
              "      <th>diagnosis</th>\n",
              "      <th>area_mean</th>\n",
              "      <th>concavity_mean</th>\n",
              "      <th>texture_mean</th>\n",
              "    </tr>\n",
              "  </thead>\n",
              "  <tbody>\n",
              "    <tr>\n",
              "      <th>0</th>\n",
              "      <td>M</td>\n",
              "      <td>1001.0</td>\n",
              "      <td>0.30010</td>\n",
              "      <td>10.38</td>\n",
              "    </tr>\n",
              "    <tr>\n",
              "      <th>1</th>\n",
              "      <td>M</td>\n",
              "      <td>1326.0</td>\n",
              "      <td>0.08690</td>\n",
              "      <td>17.77</td>\n",
              "    </tr>\n",
              "    <tr>\n",
              "      <th>2</th>\n",
              "      <td>M</td>\n",
              "      <td>1203.0</td>\n",
              "      <td>0.19740</td>\n",
              "      <td>21.25</td>\n",
              "    </tr>\n",
              "    <tr>\n",
              "      <th>3</th>\n",
              "      <td>M</td>\n",
              "      <td>386.1</td>\n",
              "      <td>0.24140</td>\n",
              "      <td>20.38</td>\n",
              "    </tr>\n",
              "    <tr>\n",
              "      <th>4</th>\n",
              "      <td>M</td>\n",
              "      <td>1297.0</td>\n",
              "      <td>0.19800</td>\n",
              "      <td>14.34</td>\n",
              "    </tr>\n",
              "    <tr>\n",
              "      <th>...</th>\n",
              "      <td>...</td>\n",
              "      <td>...</td>\n",
              "      <td>...</td>\n",
              "      <td>...</td>\n",
              "    </tr>\n",
              "    <tr>\n",
              "      <th>564</th>\n",
              "      <td>M</td>\n",
              "      <td>1479.0</td>\n",
              "      <td>0.24390</td>\n",
              "      <td>22.39</td>\n",
              "    </tr>\n",
              "    <tr>\n",
              "      <th>565</th>\n",
              "      <td>M</td>\n",
              "      <td>1261.0</td>\n",
              "      <td>0.14400</td>\n",
              "      <td>28.25</td>\n",
              "    </tr>\n",
              "    <tr>\n",
              "      <th>566</th>\n",
              "      <td>M</td>\n",
              "      <td>858.1</td>\n",
              "      <td>0.09251</td>\n",
              "      <td>28.08</td>\n",
              "    </tr>\n",
              "    <tr>\n",
              "      <th>567</th>\n",
              "      <td>M</td>\n",
              "      <td>1265.0</td>\n",
              "      <td>0.35140</td>\n",
              "      <td>29.33</td>\n",
              "    </tr>\n",
              "    <tr>\n",
              "      <th>568</th>\n",
              "      <td>B</td>\n",
              "      <td>181.0</td>\n",
              "      <td>0.00000</td>\n",
              "      <td>24.54</td>\n",
              "    </tr>\n",
              "  </tbody>\n",
              "</table>\n",
              "<p>569 rows × 4 columns</p>\n",
              "</div>"
            ],
            "text/plain": [
              "    diagnosis  area_mean  concavity_mean  texture_mean\n",
              "0           M     1001.0         0.30010         10.38\n",
              "1           M     1326.0         0.08690         17.77\n",
              "2           M     1203.0         0.19740         21.25\n",
              "3           M      386.1         0.24140         20.38\n",
              "4           M     1297.0         0.19800         14.34\n",
              "..        ...        ...             ...           ...\n",
              "564         M     1479.0         0.24390         22.39\n",
              "565         M     1261.0         0.14400         28.25\n",
              "566         M      858.1         0.09251         28.08\n",
              "567         M     1265.0         0.35140         29.33\n",
              "568         B      181.0         0.00000         24.54\n",
              "\n",
              "[569 rows x 4 columns]"
            ]
          },
          "metadata": {
            "tags": []
          },
          "execution_count": 24
        }
      ]
    },
    {
      "cell_type": "code",
      "metadata": {
        "id": "Fj2gP-PLpZ6f",
        "colab_type": "code",
        "colab": {}
      },
      "source": [
        "# Check the distribution of classes for the the diagnosis column"
      ],
      "execution_count": null,
      "outputs": []
    },
    {
      "cell_type": "code",
      "metadata": {
        "colab_type": "code",
        "id": "ds4PBznTqbPW",
        "scrolled": true,
        "colab": {},
        "outputId": "039118d6-ab5e-47b3-8e9a-79a521b5ce01"
      },
      "source": [
        "df.info()"
      ],
      "execution_count": null,
      "outputs": [
        {
          "output_type": "stream",
          "text": [
            "<class 'pandas.core.frame.DataFrame'>\n",
            "RangeIndex: 569 entries, 0 to 568\n",
            "Data columns (total 4 columns):\n",
            "diagnosis         569 non-null object\n",
            "area_mean         569 non-null float64\n",
            "concavity_mean    569 non-null float64\n",
            "texture_mean      569 non-null float64\n",
            "dtypes: float64(3), object(1)\n",
            "memory usage: 17.9+ KB\n"
          ],
          "name": "stdout"
        }
      ]
    },
    {
      "cell_type": "markdown",
      "metadata": {
        "colab_type": "text",
        "id": "8vrbptjVqbPa"
      },
      "source": [
        "We explore if the referenced features follow a normal distribution. We examine the skewness and kurtosis of the groups.\n",
        "\n",
        "Optional: We can run a Jarque–Bera test which tests if the data have the skewness and kurtosis matching a normal distribution.\n",
        "In the case of the Jarque–Bera test the null hypothesis would state that the skewness and kurtosis matches that of a normal distribution."
      ]
    },
    {
      "cell_type": "code",
      "metadata": {
        "id": "t3NzKoOcpZ9S",
        "colab_type": "code",
        "colab": {}
      },
      "source": [
        "# Print the skewness and kurtosis of the groups. Optionally run a Jarque–Bera\n",
        "# Afterwards you can comment your findings wether the features follow a normal distribution of not."
      ],
      "execution_count": null,
      "outputs": []
    },
    {
      "cell_type": "code",
      "metadata": {
        "id": "F32QkqagpZ9X",
        "colab_type": "code",
        "colab": {
          "base_uri": "https://localhost:8080/",
          "height": 71
        },
        "outputId": "822ea5be-f5e2-4e70-fc84-22882a46a2b2"
      },
      "source": [
        "malignant = df[df.diagnosis=='M'][['area_mean', 'concavity_mean', 'texture_mean']]\n",
        "benign = df[df.diagnosis=='B'][['area_mean', 'concavity_mean', 'texture_mean']]\n",
        "print(stats.describe(malignant))\n",
        "print(stats.describe(benign))\n",
        "\n",
        "#All of the data shows signs of normal distribution except for the concavity mean of the benign group. "
      ],
      "execution_count": 2,
      "outputs": [
        {
          "output_type": "stream",
          "text": [
            "DescribeResult(nobs=212, minmax=(array([3.616e+02, 2.398e-02, 1.038e+01]), array([2.501e+03, 4.268e-01, 3.928e+01])), mean=array([9.78376415e+02, 1.60774717e-01, 2.16049057e+01]), variance=array([1.35378355e+05, 5.62789955e-03, 1.42843929e+01]), skewness=array([1.10974455, 0.89523611, 0.69855491]), kurtosis=array([2.22384345, 1.09756062, 2.29519808]))\n",
            "DescribeResult(nobs=357, minmax=(array([143.5 ,   0.  ,   9.71]), array([9.921e+02, 4.108e-01, 3.381e+01])), mean=array([4.62790196e+02, 4.60576210e-02, 1.79147619e+01]), variance=array([1.80330301e+04, 1.88722049e-03, 1.59610205e+01]), skewness=array([0.34082567, 3.45865347, 0.97721571]), kurtosis=array([ 0.28842005, 20.52738898,  1.18587586]))\n"
          ],
          "name": "stdout"
        }
      ]
    },
    {
      "cell_type": "code",
      "metadata": {
        "id": "tG4PWBnHpZ9b",
        "colab_type": "code",
        "colab": {}
      },
      "source": [
        "# Plot the histograms for the distribution of each feature and for each class (malignant/benign) to visually explore \n",
        "# wether these distributions are skewed or not."
      ],
      "execution_count": null,
      "outputs": []
    },
    {
      "cell_type": "code",
      "metadata": {
        "id": "qz1TbtRuHwFp",
        "colab_type": "code",
        "colab": {
          "base_uri": "https://localhost:8080/",
          "height": 333
        },
        "outputId": "7868ddcc-7dbf-4e1c-f57e-53b0afcab917"
      },
      "source": [
        "plt.hist(malignant['area_mean'],alpha=0.5)"
      ],
      "execution_count": 6,
      "outputs": [
        {
          "output_type": "execute_result",
          "data": {
            "text/plain": [
              "(array([22., 54., 45., 43., 31.,  5.,  7.,  2.,  1.,  2.]),\n",
              " array([ 361.6 ,  575.54,  789.48, 1003.42, 1217.36, 1431.3 , 1645.24,\n",
              "        1859.18, 2073.12, 2287.06, 2501.  ]),\n",
              " <a list of 10 Patch objects>)"
            ]
          },
          "metadata": {
            "tags": []
          },
          "execution_count": 6
        },
        {
          "output_type": "display_data",
          "data": {
            "image/png": "[encoded data removed]",
            "text/plain": [
              "<Figure size 432x288 with 1 Axes>"
            ]
          },
          "metadata": {
            "tags": [],
            "needs_background": "light"
          }
        }
      ]
    },
    {
      "cell_type": "code",
      "metadata": {
        "id": "IKuj8UPkIFR-",
        "colab_type": "code",
        "colab": {
          "base_uri": "https://localhost:8080/",
          "height": 336
        },
        "outputId": "aad73792-a7c9-4ccc-8ebe-09af55b2af09"
      },
      "source": [
        "plt.hist(malignant['concavity_mean'],alpha=0.5)"
      ],
      "execution_count": 7,
      "outputs": [
        {
          "output_type": "execute_result",
          "data": {
            "text/plain": [
              "(array([14., 34., 48., 47., 34., 17.,  6.,  6.,  4.,  2.]),\n",
              " array([0.02398 , 0.064262, 0.104544, 0.144826, 0.185108, 0.22539 ,\n",
              "        0.265672, 0.305954, 0.346236, 0.386518, 0.4268  ]),\n",
              " <a list of 10 Patch objects>)"
            ]
          },
          "metadata": {
            "tags": []
          },
          "execution_count": 7
        },
        {
          "output_type": "display_data",
          "data": {
            "image/png": "[encoded data removed]",
            "text/plain": [
              "<Figure size 432x288 with 1 Axes>"
            ]
          },
          "metadata": {
            "tags": [],
            "needs_background": "light"
          }
        }
      ]
    },
    {
      "cell_type": "code",
      "metadata": {
        "id": "5cVmKrSeIOt2",
        "colab_type": "code",
        "colab": {
          "base_uri": "https://localhost:8080/",
          "height": 333
        },
        "outputId": "91f8f272-497c-4287-ad23-2bf31ec430df"
      },
      "source": [
        "plt.hist(malignant['texture_mean'],alpha=0.5)"
      ],
      "execution_count": 8,
      "outputs": [
        {
          "output_type": "execute_result",
          "data": {
            "text/plain": [
              "(array([ 2., 10., 37., 76., 52., 23.,  7.,  3.,  1.,  1.]),\n",
              " array([10.38, 13.27, 16.16, 19.05, 21.94, 24.83, 27.72, 30.61, 33.5 ,\n",
              "        36.39, 39.28]),\n",
              " <a list of 10 Patch objects>)"
            ]
          },
          "metadata": {
            "tags": []
          },
          "execution_count": 8
        },
        {
          "output_type": "display_data",
          "data": {
            "image/png": "[encoded data removed]",
            "text/plain": [
              "<Figure size 432x288 with 1 Axes>"
            ]
          },
          "metadata": {
            "tags": [],
            "needs_background": "light"
          }
        }
      ]
    },
    {
      "cell_type": "code",
      "metadata": {
        "id": "fckZ0fIiIUDC",
        "colab_type": "code",
        "colab": {
          "base_uri": "https://localhost:8080/",
          "height": 333
        },
        "outputId": "c189e5bf-007e-4f2a-85e5-387514308edc"
      },
      "source": [
        "plt.hist(benign['area_mean'],alpha=0.5)"
      ],
      "execution_count": 9,
      "outputs": [
        {
          "output_type": "execute_result",
          "data": {
            "text/plain": [
              "(array([11., 41., 61., 95., 73., 43., 25.,  5.,  2.,  1.]),\n",
              " array([143.5 , 228.36, 313.22, 398.08, 482.94, 567.8 , 652.66, 737.52,\n",
              "        822.38, 907.24, 992.1 ]),\n",
              " <a list of 10 Patch objects>)"
            ]
          },
          "metadata": {
            "tags": []
          },
          "execution_count": 9
        },
        {
          "output_type": "display_data",
          "data": {
            "image/png": "[encoded data removed]",
            "text/plain": [
              "<Figure size 432x288 with 1 Axes>"
            ]
          },
          "metadata": {
            "tags": [],
            "needs_background": "light"
          }
        }
      ]
    },
    {
      "cell_type": "code",
      "metadata": {
        "id": "Y0rTnAXjIY3i",
        "colab_type": "code",
        "colab": {
          "base_uri": "https://localhost:8080/",
          "height": 333
        },
        "outputId": "9b688585-1fcd-41de-98c0-2891328813d8"
      },
      "source": [
        "plt.hist(benign['concavity_mean'],alpha=0.5)"
      ],
      "execution_count": 10,
      "outputs": [
        {
          "output_type": "execute_result",
          "data": {
            "text/plain": [
              "(array([203., 106.,  36.,   7.,   1.,   1.,   0.,   2.,   0.,   1.]),\n",
              " array([0.     , 0.04108, 0.08216, 0.12324, 0.16432, 0.2054 , 0.24648,\n",
              "        0.28756, 0.32864, 0.36972, 0.4108 ]),\n",
              " <a list of 10 Patch objects>)"
            ]
          },
          "metadata": {
            "tags": []
          },
          "execution_count": 10
        },
        {
          "output_type": "display_data",
          "data": {
            "image/png": "[encoded data removed]",
            "text/plain": [
              "<Figure size 432x288 with 1 Axes>"
            ]
          },
          "metadata": {
            "tags": [],
            "needs_background": "light"
          }
        }
      ]
    },
    {
      "cell_type": "code",
      "metadata": {
        "id": "Sjyux368Ia-H",
        "colab_type": "code",
        "colab": {
          "base_uri": "https://localhost:8080/",
          "height": 333
        },
        "outputId": "1c1743cd-a218-43ad-977c-ef8c7df2cab8"
      },
      "source": [
        "plt.hist(benign['texture_mean'],alpha=0.5)"
      ],
      "execution_count": 11,
      "outputs": [
        {
          "output_type": "execute_result",
          "data": {
            "text/plain": [
              "(array([  9.,  55.,  94., 100.,  50.,  19.,  12.,  12.,   5.,   1.]),\n",
              " array([ 9.71, 12.12, 14.53, 16.94, 19.35, 21.76, 24.17, 26.58, 28.99,\n",
              "        31.4 , 33.81]),\n",
              " <a list of 10 Patch objects>)"
            ]
          },
          "metadata": {
            "tags": []
          },
          "execution_count": 11
        },
        {
          "output_type": "display_data",
          "data": {
            "image/png": "[encoded data removed]",
            "text/plain": [
              "<Figure size 432x288 with 1 Axes>"
            ]
          },
          "metadata": {
            "tags": [],
            "needs_background": "light"
          }
        }
      ]
    },
    {
      "cell_type": "markdown",
      "metadata": {
        "id": "n13n6WlmIgZh",
        "colab_type": "text"
      },
      "source": [
        "The graphs also show previous pattern"
      ]
    },
    {
      "cell_type": "code",
      "metadata": {
        "colab_type": "code",
        "id": "ZN6VDIK4qbPe",
        "colab": {}
      },
      "source": [
        "# Run 3 Kruskal-Wallis tests, one for each group/feature and describe the results of these tests. \n",
        "# State wether the null hypothesis will be rejected or not."
      ],
      "execution_count": null,
      "outputs": []
    },
    {
      "cell_type": "code",
      "metadata": {
        "id": "7SllpOrrJ7YZ",
        "colab_type": "code",
        "colab": {
          "base_uri": "https://localhost:8080/",
          "height": 34
        },
        "outputId": "735b9762-94a5-478b-bb80-42fe073d4774"
      },
      "source": [
        "stats.kruskal(malignant['area_mean'], benign['area_mean'])"
      ],
      "execution_count": 20,
      "outputs": [
        {
          "output_type": "execute_result",
          "data": {
            "text/plain": [
              "KruskalResult(statistic=306.1155244413551, pvalue=1.5326695021713592e-68)"
            ]
          },
          "metadata": {
            "tags": []
          },
          "execution_count": 20
        }
      ]
    },
    {
      "cell_type": "code",
      "metadata": {
        "id": "iRph1fdKL57g",
        "colab_type": "code",
        "colab": {
          "base_uri": "https://localhost:8080/",
          "height": 34
        },
        "outputId": "67fdd5b4-b235-474f-e0f2-03dd7daadd97"
      },
      "source": [
        "stats.kruskal(malignant['concavity_mean'], benign['concavity_mean'])"
      ],
      "execution_count": 21,
      "outputs": [
        {
          "output_type": "execute_result",
          "data": {
            "text/plain": [
              "KruskalResult(statistic=305.43657612021565, pvalue=2.1545636238729746e-68)"
            ]
          },
          "metadata": {
            "tags": []
          },
          "execution_count": 21
        }
      ]
    },
    {
      "cell_type": "code",
      "metadata": {
        "id": "3eFfMGg7L70U",
        "colab_type": "code",
        "colab": {
          "base_uri": "https://localhost:8080/",
          "height": 34
        },
        "outputId": "6a570f6e-a97a-4dfd-87fb-69d05ca0693f"
      },
      "source": [
        "stats.kruskal(malignant['texture_mean'], benign['texture_mean'])"
      ],
      "execution_count": 22,
      "outputs": [
        {
          "output_type": "execute_result",
          "data": {
            "text/plain": [
              "KruskalResult(statistic=121.22093055992241, pvalue=3.418605714119009e-28)"
            ]
          },
          "metadata": {
            "tags": []
          },
          "execution_count": 22
        }
      ]
    },
    {
      "cell_type": "markdown",
      "metadata": {
        "id": "9yIDvmedMB81",
        "colab_type": "text"
      },
      "source": [
        "All three tests have p values small enough to decide that we cannot reject the null hypothesis."
      ]
    },
    {
      "cell_type": "code",
      "metadata": {
        "colab_type": "code",
        "id": "xzFd2f9cqbPi",
        "colab": {}
      },
      "source": [
        "# Afterwards create 3 boxplots: one for each feature grouped by the diagnosis class."
      ],
      "execution_count": null,
      "outputs": []
    },
    {
      "cell_type": "code",
      "metadata": {
        "id": "x4o_cEgnMKwQ",
        "colab_type": "code",
        "colab": {
          "base_uri": "https://localhost:8080/",
          "height": 279
        },
        "outputId": "d5be4844-946d-4782-e873-44599248c79b"
      },
      "source": [
        "ax = sns.boxplot(x=\"diagnosis\", y='area_mean',\n",
        "                 data=df, palette=\"Set3\")"
      ],
      "execution_count": 35,
      "outputs": [
        {
          "output_type": "display_data",
          "data": {
            "image/png": "[encoded data removed]",
            "text/plain": [
              "<Figure size 432x288 with 1 Axes>"
            ]
          },
          "metadata": {
            "tags": [],
            "needs_background": "light"
          }
        }
      ]
    },
    {
      "cell_type": "code",
      "metadata": {
        "id": "09jyefnZOx_p",
        "colab_type": "code",
        "colab": {
          "base_uri": "https://localhost:8080/",
          "height": 279
        },
        "outputId": "50be2df8-30b7-441e-dca0-849a1b75970c"
      },
      "source": [
        "ax = sns.boxplot(x=\"diagnosis\", y='concavity_mean',\n",
        "                 data=df, palette=\"Set3\")"
      ],
      "execution_count": 37,
      "outputs": [
        {
          "output_type": "display_data",
          "data": {
            "image/png": "[encoded data removed]",
            "text/plain": [
              "<Figure size 432x288 with 1 Axes>"
            ]
          },
          "metadata": {
            "tags": [],
            "needs_background": "light"
          }
        }
      ]
    },
    {
      "cell_type": "code",
      "metadata": {
        "id": "MbqLSlxUO3ry",
        "colab_type": "code",
        "colab": {
          "base_uri": "https://localhost:8080/",
          "height": 279
        },
        "outputId": "20c4d056-2626-4ed8-8455-50c429e4f5ca"
      },
      "source": [
        "ax = sns.boxplot(x=\"diagnosis\", y='texture_mean',\n",
        "                 data=df, palette=\"Set3\")"
      ],
      "execution_count": 38,
      "outputs": [
        {
          "output_type": "display_data",
          "data": {
            "image/png": "[encoded data removed]",
            "text/plain": [
              "<Figure size 432x288 with 1 Axes>"
            ]
          },
          "metadata": {
            "tags": [],
            "needs_background": "light"
          }
        }
      ]
    },
    {
      "cell_type": "markdown",
      "metadata": {
        "id": "Inylwf3FpZ90",
        "colab_type": "text"
      },
      "source": [
        "### Exercise 2\n",
        "\n",
        "For the following test we will use the Real GDP per capita dataset for Europe available by Eurostat from the following address https://ec.europa.eu/eurostat/web/products-datasets/-/sdg_08_10\n",
        "It contains the GDP per capita for each country (The indicator is calculated as the ratio of real GDP to the average population of a specific year.)\n",
        "We will use the years 2007, 2008 and 2009 to check if the economic crisis of 2008 affected the GDP values of europe.\n",
        "\n",
        "Dataset:\n",
        "- https://ec.europa.eu/eurostat/web/products-datasets/-/sdg_08_10\n",
        "\n",
        "\n",
        "Questions:\n",
        "\n",
        "Is there a difference in the GDP per capita between the years (2007 and 2008), (2008 and 2009)?\n",
        "- Select and apply the appropriate statistical test.\n"
      ]
    },
    {
      "cell_type": "markdown",
      "metadata": {
        "id": "0upRAUv8pZ91",
        "colab_type": "text"
      },
      "source": [
        "Our dataset needs some cleaning at first. We extract only the columns of interest, clean numeric columns of unwanted characters and convert these columns to numeric.\n",
        "We also remove rows that refer to collective index for many countries (\"EA19\", \"EU27\",\"EU28\") and keep individual countries."
      ]
    },
    {
      "cell_type": "code",
      "metadata": {
        "id": "l5rZdCUypZ95",
        "colab_type": "code",
        "colab": {
          "base_uri": "https://localhost:8080/",
          "height": 204
        },
        "outputId": "418b79db-9901-42a6-d00c-3324ef8c2479"
      },
      "source": [
        "gdp = pd.read_csv(\"https://ec.europa.eu/eurostat/estat-navtree-portlet-prod/BulkDownloadListing?file=data/sdg_08_10.tsv.gz\",\n",
        "                 compression='gzip', sep=r'\\,|\\t', usecols=[\"unit\", \"geo\\\\time\", \"2007 \", \"2008 \", \"2009 \"], engine='python')\n",
        "gdp = gdp[gdp.unit==\"CLV10_EUR_HAB\"].drop([\"unit\"], axis=1)\n",
        "gdp.columns=[\"country\", \"2007\", \"2008\", \"2009\"]\n",
        "gdp = gdp[~gdp.country.isin([\"EA19\", \"EU27\",\"EU28\"])]\n",
        "gdp['2007'] = gdp['2007'].str.extract('(\\d+)', expand=False).astype(int)\n",
        "gdp['2008'] = gdp['2008'].str.extract('(\\d+)', expand=False).astype(int)\n",
        "gdp['2009'] = gdp['2009'].str.extract('(\\d+)', expand=False).astype(int)\n",
        "gdp.head()"
      ],
      "execution_count": 41,
      "outputs": [
        {
          "output_type": "execute_result",
          "data": {
            "text/html": [
              "<div>\n",
              "<style scoped>\n",
              "    .dataframe tbody tr th:only-of-type {\n",
              "        vertical-align: middle;\n",
              "    }\n",
              "\n",
              "    .dataframe tbody tr th {\n",
              "        vertical-align: top;\n",
              "    }\n",
              "\n",
              "    .dataframe thead th {\n",
              "        text-align: right;\n",
              "    }\n",
              "</style>\n",
              "<table border=\"1\" class=\"dataframe\">\n",
              "  <thead>\n",
              "    <tr style=\"text-align: right;\">\n",
              "      <th></th>\n",
              "      <th>country</th>\n",
              "      <th>2007</th>\n",
              "      <th>2008</th>\n",
              "      <th>2009</th>\n",
              "    </tr>\n",
              "  </thead>\n",
              "  <tbody>\n",
              "    <tr>\n",
              "      <th>0</th>\n",
              "      <td>AT</td>\n",
              "      <td>35870</td>\n",
              "      <td>36280</td>\n",
              "      <td>34830</td>\n",
              "    </tr>\n",
              "    <tr>\n",
              "      <th>1</th>\n",
              "      <td>BE</td>\n",
              "      <td>33760</td>\n",
              "      <td>33640</td>\n",
              "      <td>32700</td>\n",
              "    </tr>\n",
              "    <tr>\n",
              "      <th>2</th>\n",
              "      <td>BG</td>\n",
              "      <td>4820</td>\n",
              "      <td>5140</td>\n",
              "      <td>4990</td>\n",
              "    </tr>\n",
              "    <tr>\n",
              "      <th>3</th>\n",
              "      <td>CH</td>\n",
              "      <td>56400</td>\n",
              "      <td>56940</td>\n",
              "      <td>55050</td>\n",
              "    </tr>\n",
              "    <tr>\n",
              "      <th>4</th>\n",
              "      <td>CY</td>\n",
              "      <td>24420</td>\n",
              "      <td>24680</td>\n",
              "      <td>23550</td>\n",
              "    </tr>\n",
              "  </tbody>\n",
              "</table>\n",
              "</div>"
            ],
            "text/plain": [
              "  country   2007   2008   2009\n",
              "0      AT  35870  36280  34830\n",
              "1      BE  33760  33640  32700\n",
              "2      BG   4820   5140   4990\n",
              "3      CH  56400  56940  55050\n",
              "4      CY  24420  24680  23550"
            ]
          },
          "metadata": {
            "tags": []
          },
          "execution_count": 41
        }
      ]
    },
    {
      "cell_type": "code",
      "metadata": {
        "id": "Ico5D7xopZ-C",
        "colab_type": "code",
        "colab": {
          "base_uri": "https://localhost:8080/",
          "height": 297
        },
        "outputId": "e86837dc-aedc-4ec8-d7a4-8739f62b3e9e"
      },
      "source": [
        "gdp.describe()"
      ],
      "execution_count": 42,
      "outputs": [
        {
          "output_type": "execute_result",
          "data": {
            "text/html": [
              "<div>\n",
              "<style scoped>\n",
              "    .dataframe tbody tr th:only-of-type {\n",
              "        vertical-align: middle;\n",
              "    }\n",
              "\n",
              "    .dataframe tbody tr th {\n",
              "        vertical-align: top;\n",
              "    }\n",
              "\n",
              "    .dataframe thead th {\n",
              "        text-align: right;\n",
              "    }\n",
              "</style>\n",
              "<table border=\"1\" class=\"dataframe\">\n",
              "  <thead>\n",
              "    <tr style=\"text-align: right;\">\n",
              "      <th></th>\n",
              "      <th>2007</th>\n",
              "      <th>2008</th>\n",
              "      <th>2009</th>\n",
              "    </tr>\n",
              "  </thead>\n",
              "  <tbody>\n",
              "    <tr>\n",
              "      <th>count</th>\n",
              "      <td>36.000000</td>\n",
              "      <td>36.000000</td>\n",
              "      <td>36.000000</td>\n",
              "    </tr>\n",
              "    <tr>\n",
              "      <th>mean</th>\n",
              "      <td>25374.166667</td>\n",
              "      <td>25322.777778</td>\n",
              "      <td>24016.388889</td>\n",
              "    </tr>\n",
              "    <tr>\n",
              "      <th>std</th>\n",
              "      <td>18764.549764</td>\n",
              "      <td>18367.127719</td>\n",
              "      <td>17541.855441</td>\n",
              "    </tr>\n",
              "    <tr>\n",
              "      <th>min</th>\n",
              "      <td>3200.000000</td>\n",
              "      <td>3370.000000</td>\n",
              "      <td>3350.000000</td>\n",
              "    </tr>\n",
              "    <tr>\n",
              "      <th>25%</th>\n",
              "      <td>10332.500000</td>\n",
              "      <td>10402.500000</td>\n",
              "      <td>9625.000000</td>\n",
              "    </tr>\n",
              "    <tr>\n",
              "      <th>50%</th>\n",
              "      <td>23535.000000</td>\n",
              "      <td>23380.000000</td>\n",
              "      <td>22315.000000</td>\n",
              "    </tr>\n",
              "    <tr>\n",
              "      <th>75%</th>\n",
              "      <td>35937.500000</td>\n",
              "      <td>36025.000000</td>\n",
              "      <td>33677.500000</td>\n",
              "    </tr>\n",
              "    <tr>\n",
              "      <th>max</th>\n",
              "      <td>84420.000000</td>\n",
              "      <td>81880.000000</td>\n",
              "      <td>76900.000000</td>\n",
              "    </tr>\n",
              "  </tbody>\n",
              "</table>\n",
              "</div>"
            ],
            "text/plain": [
              "               2007          2008          2009\n",
              "count     36.000000     36.000000     36.000000\n",
              "mean   25374.166667  25322.777778  24016.388889\n",
              "std    18764.549764  18367.127719  17541.855441\n",
              "min     3200.000000   3370.000000   3350.000000\n",
              "25%    10332.500000  10402.500000   9625.000000\n",
              "50%    23535.000000  23380.000000  22315.000000\n",
              "75%    35937.500000  36025.000000  33677.500000\n",
              "max    84420.000000  81880.000000  76900.000000"
            ]
          },
          "metadata": {
            "tags": []
          },
          "execution_count": 42
        }
      ]
    },
    {
      "cell_type": "markdown",
      "metadata": {
        "id": "J2UF2nhupZ-I",
        "colab_type": "text"
      },
      "source": [
        "Data that refer to economic indices usually do not follow a normal distribution, something we can easily observe by visualizing the data below, hence we should use non parametric tests."
      ]
    },
    {
      "cell_type": "code",
      "metadata": {
        "id": "g1POB8XKpZ-J",
        "colab_type": "code",
        "colab": {
          "base_uri": "https://localhost:8080/",
          "height": 333
        },
        "outputId": "df699c16-bbd5-4593-daa8-d58934630536"
      },
      "source": [
        "# Plot the histogram for the values of each year.\n",
        "plt.hist(gdp['2007'])"
      ],
      "execution_count": 45,
      "outputs": [
        {
          "output_type": "execute_result",
          "data": {
            "text/plain": [
              "(array([11.,  6.,  4.,  5.,  6.,  1.,  1.,  0.,  1.,  1.]),\n",
              " array([ 3200., 11322., 19444., 27566., 35688., 43810., 51932., 60054.,\n",
              "        68176., 76298., 84420.]),\n",
              " <a list of 10 Patch objects>)"
            ]
          },
          "metadata": {
            "tags": []
          },
          "execution_count": 45
        },
        {
          "output_type": "display_data",
          "data": {
            "image/png": "[encoded data removed]",
            "text/plain": [
              "<Figure size 432x288 with 1 Axes>"
            ]
          },
          "metadata": {
            "tags": [],
            "needs_background": "light"
          }
        }
      ]
    },
    {
      "cell_type": "code",
      "metadata": {
        "id": "hteb9GeIP0B3",
        "colab_type": "code",
        "colab": {
          "base_uri": "https://localhost:8080/",
          "height": 333
        },
        "outputId": "b53254d0-393c-43bc-e19e-0cd35a6b9dcb"
      },
      "source": [
        "plt.hist(gdp['2008'])"
      ],
      "execution_count": 46,
      "outputs": [
        {
          "output_type": "execute_result",
          "data": {
            "text/plain": [
              "(array([10.,  6.,  5.,  5.,  6.,  1.,  1.,  0.,  1.,  1.]),\n",
              " array([ 3370., 11221., 19072., 26923., 34774., 42625., 50476., 58327.,\n",
              "        66178., 74029., 81880.]),\n",
              " <a list of 10 Patch objects>)"
            ]
          },
          "metadata": {
            "tags": []
          },
          "execution_count": 46
        },
        {
          "output_type": "display_data",
          "data": {
            "image/png": "[encoded data removed]",
            "text/plain": [
              "<Figure size 432x288 with 1 Axes>"
            ]
          },
          "metadata": {
            "tags": [],
            "needs_background": "light"
          }
        }
      ]
    },
    {
      "cell_type": "code",
      "metadata": {
        "id": "FjGpUKD4P6xC",
        "colab_type": "code",
        "colab": {
          "base_uri": "https://localhost:8080/",
          "height": 333
        },
        "outputId": "4a1e2444-8584-4ea4-80f4-e0556a49f1a3"
      },
      "source": [
        "plt.hist(gdp['2009'])"
      ],
      "execution_count": 47,
      "outputs": [
        {
          "output_type": "execute_result",
          "data": {
            "text/plain": [
              "(array([11.,  6.,  4.,  5.,  6.,  1.,  0.,  1.,  1.,  1.]),\n",
              " array([ 3350., 10705., 18060., 25415., 32770., 40125., 47480., 54835.,\n",
              "        62190., 69545., 76900.]),\n",
              " <a list of 10 Patch objects>)"
            ]
          },
          "metadata": {
            "tags": []
          },
          "execution_count": 47
        },
        {
          "output_type": "display_data",
          "data": {
            "image/png": "[encoded data removed]",
            "text/plain": [
              "<Figure size 432x288 with 1 Axes>"
            ]
          },
          "metadata": {
            "tags": [],
            "needs_background": "light"
          }
        }
      ]
    },
    {
      "cell_type": "markdown",
      "metadata": {
        "id": "dKkvGqUspZ-U",
        "colab_type": "text"
      },
      "source": [
        "We will run a Wilcoxon Signed-rank Test, which should be run on paired samples or repeated measurements on a single sample. In our case we have repeated measurements (three years) of GDP for the same countries."
      ]
    },
    {
      "cell_type": "markdown",
      "metadata": {
        "id": "Geu7s-ubpZ-U",
        "colab_type": "text"
      },
      "source": [
        "The null hypothesis for this test is that the medians of two samples are equal.\n",
        "First we compare 2007 with 2008 values:"
      ]
    },
    {
      "cell_type": "code",
      "metadata": {
        "id": "EExsdc-KpZ-V",
        "colab_type": "code",
        "colab": {
          "base_uri": "https://localhost:8080/",
          "height": 34
        },
        "outputId": "6136ce3a-b93b-4c8f-dff0-15a9e5555ae1"
      },
      "source": [
        "# Run a Wilcoxon Signed-rank test for years (groups) 2007 and 2008 and describe the results of the test. \n",
        "d = np.array(gdp['2007']) - np.array(gdp['2008'])\n",
        "stats.wilcoxon(d)"
      ],
      "execution_count": 49,
      "outputs": [
        {
          "output_type": "execute_result",
          "data": {
            "text/plain": [
              "WilcoxonResult(statistic=278.5, pvalue=0.3918214607306295)"
            ]
          },
          "metadata": {
            "tags": []
          },
          "execution_count": 49
        }
      ]
    },
    {
      "cell_type": "markdown",
      "metadata": {
        "id": "ypWAx2RRRN6t",
        "colab_type": "text"
      },
      "source": [
        "The p value for 2007 and 2008 is bigger than 0.05 thus we reject the null hypothesis. The median of the 2007 and 2008 data are not equal."
      ]
    },
    {
      "cell_type": "markdown",
      "metadata": {
        "id": "mtlViz4ZQ4vc",
        "colab_type": "text"
      },
      "source": [
        ""
      ]
    },
    {
      "cell_type": "code",
      "metadata": {
        "id": "FMOql4vZpZ-b",
        "colab_type": "code",
        "colab": {
          "base_uri": "https://localhost:8080/",
          "height": 34
        },
        "outputId": "2004aaab-77a4-4531-b8da-7228b0166c89"
      },
      "source": [
        "# Run a Wilcoxon Signed-rank Test for years (groups) 2008 and 2009 and describe the results of the test. \n",
        "d2 = np.array(gdp['2008']) - np.array(gdp['2009'])\n",
        "stats.wilcoxon(d2)"
      ],
      "execution_count": 51,
      "outputs": [
        {
          "output_type": "execute_result",
          "data": {
            "text/plain": [
              "WilcoxonResult(statistic=4.0, pvalue=2.356281382362627e-07)"
            ]
          },
          "metadata": {
            "tags": []
          },
          "execution_count": 51
        }
      ]
    },
    {
      "cell_type": "markdown",
      "metadata": {
        "id": "p9QRjUN3Rsw-",
        "colab_type": "text"
      },
      "source": [
        "The p value for this one is smaller than 0.05 thus we do not reject the hypothesis. The median of the 2008 and 2009 data are equal."
      ]
    }
  ]
}