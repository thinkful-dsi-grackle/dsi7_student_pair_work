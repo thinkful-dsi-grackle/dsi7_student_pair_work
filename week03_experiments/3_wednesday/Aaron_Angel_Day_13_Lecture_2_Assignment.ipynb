{
 "cells": [
  {
   "cell_type": "markdown",
   "metadata": {
    "colab_type": "text",
    "id": "IajEE40kqbPO"
   },
   "source": [
    "## Nonparametric statistical significance tests\n",
    "\n",
    "non_parametric_tests_assign_solution.ipynb\n",
    "\n",
    "Complete the assignment below.\n",
    "\n",
    "References:\n",
    "- Nonparametric Statistics for Non-Statisticians: A Step-by-Step Approach, 2009.\n",
    "- How to Calculate Nonparametric Statistical Hypothesis Tests in Python, Jason Brownlee, 2018.\n"
   ]
  },
  {
   "cell_type": "markdown",
   "metadata": {
    "colab_type": "text",
    "id": "FQsgubxqqbPP"
   },
   "source": [
    "## Assignment\n",
    "\n",
    "### Exercise 1\n",
    "\n",
    "Our first dataset includes a very famous dataset, the Winsconsin Breast cancer dataset which is also available in https://archive.ics.uci.edu/ml/datasets/Breast+Cancer+Wisconsin+(Diagnostic). It includes features for cell nuclei for two categories of tumors: malignant and benign. As explained in the original data source:\n",
    "\n",
    ">Features are computed from a digitized image of a fine needle aspirate (FNA) of a breast mass. They describe characteristics of the cell nuclei present in the image.\n",
    "n the 3-dimensional space is that described in: [K. P. Bennett and O. L. Mangasarian: \"Robust Linear Programming Discrimination of Two Linearly Inseparable Sets\", Optimization Methods and Software 1, 1992, 23-34].\n",
    "\n",
    "Dataset:\n",
    "- https://tf-assets-prod.s3.amazonaws.com/tf-curric/data-science/breast_cancer.csv\n",
    "\n",
    "We will be using three of these features for our exercise: \n",
    "- diagnosis: the classification of the tumor with values \"M\" (malignant) and \"B\" (benign).\n",
    "- area_mean: the average area covered by the tumor cells\n",
    "- concavity_mean: severity of concave portions of the contour\n",
    "- texture_mean: standard deviation of gray-scale values\n",
    "\n",
    "For the three features described above(area_mean, concavity_mean, texture_mean), is there a difference in their average values in the two diagnosis groups? (Do samples of these features originate from the same distribution?)\n",
    "- Select and apply the appropriate statistical test.\n",
    "- Provide brief rationale for your selection of statistical test.\n",
    "- Generate boxplots to compare experimental vs. control for t1, t2, and t3.\n"
   ]
  },
  {
   "cell_type": "code",
   "execution_count": 1,
   "metadata": {
    "colab": {
     "base_uri": "https://localhost:8080/"
    },
    "colab_type": "code",
    "id": "TTsw--6YqbPQ",
    "outputId": "2d1dacaf-f28d-4d88-faff-0f7b37dce75b"
   },
   "outputs": [
    {
     "data": {
      "text/html": [
       "<div>\n",
       "<style scoped>\n",
       "    .dataframe tbody tr th:only-of-type {\n",
       "        vertical-align: middle;\n",
       "    }\n",
       "\n",
       "    .dataframe tbody tr th {\n",
       "        vertical-align: top;\n",
       "    }\n",
       "\n",
       "    .dataframe thead th {\n",
       "        text-align: right;\n",
       "    }\n",
       "</style>\n",
       "<table border=\"1\" class=\"dataframe\">\n",
       "  <thead>\n",
       "    <tr style=\"text-align: right;\">\n",
       "      <th></th>\n",
       "      <th>diagnosis</th>\n",
       "      <th>area_mean</th>\n",
       "      <th>concavity_mean</th>\n",
       "      <th>texture_mean</th>\n",
       "    </tr>\n",
       "  </thead>\n",
       "  <tbody>\n",
       "    <tr>\n",
       "      <th>0</th>\n",
       "      <td>M</td>\n",
       "      <td>1001.0</td>\n",
       "      <td>0.3001</td>\n",
       "      <td>10.38</td>\n",
       "    </tr>\n",
       "    <tr>\n",
       "      <th>1</th>\n",
       "      <td>M</td>\n",
       "      <td>1326.0</td>\n",
       "      <td>0.0869</td>\n",
       "      <td>17.77</td>\n",
       "    </tr>\n",
       "    <tr>\n",
       "      <th>2</th>\n",
       "      <td>M</td>\n",
       "      <td>1203.0</td>\n",
       "      <td>0.1974</td>\n",
       "      <td>21.25</td>\n",
       "    </tr>\n",
       "    <tr>\n",
       "      <th>3</th>\n",
       "      <td>M</td>\n",
       "      <td>386.1</td>\n",
       "      <td>0.2414</td>\n",
       "      <td>20.38</td>\n",
       "    </tr>\n",
       "    <tr>\n",
       "      <th>4</th>\n",
       "      <td>M</td>\n",
       "      <td>1297.0</td>\n",
       "      <td>0.1980</td>\n",
       "      <td>14.34</td>\n",
       "    </tr>\n",
       "  </tbody>\n",
       "</table>\n",
       "</div>"
      ],
      "text/plain": [
       "  diagnosis  area_mean  concavity_mean  texture_mean\n",
       "0         M     1001.0          0.3001         10.38\n",
       "1         M     1326.0          0.0869         17.77\n",
       "2         M     1203.0          0.1974         21.25\n",
       "3         M      386.1          0.2414         20.38\n",
       "4         M     1297.0          0.1980         14.34"
      ]
     },
     "execution_count": 1,
     "metadata": {},
     "output_type": "execute_result"
    }
   ],
   "source": [
    "import pandas as pd\n",
    "import numpy as np\n",
    "%matplotlib inline\n",
    "import matplotlib.pyplot as plt\n",
    "import scipy.stats as stats\n",
    "\n",
    "df = pd.read_csv(\"https://tf-assets-prod.s3.amazonaws.com/tf-curric/data-science/breast_cancer.csv\")\n",
    "df = df[[\"diagnosis\", 'area_mean', 'concavity_mean', 'texture_mean']]\n",
    "df.head()"
   ]
  },
  {
   "cell_type": "code",
   "execution_count": 2,
   "metadata": {
    "colab": {},
    "colab_type": "code",
    "id": "Fj2gP-PLpZ6f"
   },
   "outputs": [],
   "source": [
    "# Check the distribution of classes for the the diagnosis column"
   ]
  },
  {
   "cell_type": "code",
   "execution_count": 3,
   "metadata": {
    "colab": {
     "base_uri": "https://localhost:8080/",
     "height": 204
    },
    "colab_type": "code",
    "id": "ds4PBznTqbPW",
    "outputId": "aecd5fdd-e54c-4452-f8c5-87adb22949b5",
    "scrolled": true
   },
   "outputs": [
    {
     "name": "stdout",
     "output_type": "stream",
     "text": [
      "<class 'pandas.core.frame.DataFrame'>\n",
      "RangeIndex: 569 entries, 0 to 568\n",
      "Data columns (total 4 columns):\n",
      " #   Column          Non-Null Count  Dtype  \n",
      "---  ------          --------------  -----  \n",
      " 0   diagnosis       569 non-null    object \n",
      " 1   area_mean       569 non-null    float64\n",
      " 2   concavity_mean  569 non-null    float64\n",
      " 3   texture_mean    569 non-null    float64\n",
      "dtypes: float64(3), object(1)\n",
      "memory usage: 17.9+ KB\n"
     ]
    }
   ],
   "source": [
    "df.info()"
   ]
  },
  {
   "cell_type": "markdown",
   "metadata": {
    "colab_type": "text",
    "id": "8vrbptjVqbPa"
   },
   "source": [
    "We explore if the referenced features follow a normal distribution. We examine the skewness and kurtosis of the groups.\n",
    "\n",
    "Optional: We can run a Jarque–Bera test which tests if the data have the skewness and kurtosis matching a normal distribution.\n",
    "In the case of the Jarque–Bera test the null hypothesis would state that the skewness and kurtosis matches that of a normal distribution."
   ]
  },
  {
   "cell_type": "code",
   "execution_count": 4,
   "metadata": {
    "colab": {},
    "colab_type": "code",
    "id": "t3NzKoOcpZ9S"
   },
   "outputs": [],
   "source": [
    "# Print the skewness and kurtosis of the groups. Optionally run a Jarque–Bera\n",
    "# Afterwards you can comment your findings wether the features follow a normal distribution of not."
   ]
  },
  {
   "cell_type": "code",
   "execution_count": 5,
   "metadata": {
    "colab": {
     "base_uri": "https://localhost:8080/",
     "height": 241
    },
    "colab_type": "code",
    "id": "F32QkqagpZ9X",
    "outputId": "61cb68f6-37b0-484b-d3a9-ea44f92b2020"
   },
   "outputs": [
    {
     "name": "stdout",
     "output_type": "stream",
     "text": [
      "DescribeResult(nobs=212, minmax=(361.6, 2501.0), mean=978.3764150943397, variance=135378.3553652866, skewness=1.109744551210065, kurtosis=2.223843454774964)\n",
      "Jarque_beraResult(statistic=87.19923568611324, pvalue=0.0)\n",
      "DescribeResult(nobs=212, minmax=(0.02398, 0.4268), mean=0.16077471698113208, variance=0.005627899551104355, skewness=0.8952361063235286, kurtosis=1.0975606181162627)\n",
      "Jarque_beraResult(statistic=38.95879881652551, pvalue=3.469000198208505e-09)\n",
      "DescribeResult(nobs=212, minmax=(10.38, 39.28), mean=21.60490566037736, variance=14.284392882053115, skewness=0.6985549130264693, kurtosis=2.2951980794284896)\n",
      "Jarque_beraResult(statistic=63.77534246048208, pvalue=1.4210854715202004e-14)\n",
      "DescribeResult(nobs=357, minmax=(143.5, 992.1), mean=462.7901960784313, variance=18033.030100242344, skewness=0.34082567025503224, kurtosis=0.28842005191069164)\n",
      "Jarque_beraResult(statistic=77.73829297357051, pvalue=0.0)\n",
      "DescribeResult(nobs=357, minmax=(0.0, 0.4108), mean=0.04605762100840336, variance=0.0018872204874219448, skewness=3.4586534729093175, kurtosis=20.527388984137698)\n",
      "Jarque_beraResult(statistic=77.73829297357051, pvalue=0.0)\n",
      "DescribeResult(nobs=357, minmax=(9.71, 33.81), mean=17.914761904761903, variance=15.961020518994113, skewness=0.9772157090288104, kurtosis=1.1858758625694934)\n",
      "Jarque_beraResult(statistic=77.73829297357051, pvalue=0.0)\n"
     ]
    }
   ],
   "source": [
    "malignant = df[df.diagnosis=='M'][['area_mean', 'concavity_mean', 'texture_mean']]\n",
    "benign = df[df.diagnosis=='B'][['area_mean', 'concavity_mean', 'texture_mean']]\n",
    "\n",
    "print(stats.describe(malignant['area_mean']))\n",
    "print(stats.jarque_bera(malignant['area_mean']))\n",
    "\n",
    "print(stats.describe(malignant['concavity_mean']))\n",
    "print(stats.jarque_bera(malignant['concavity_mean']))\n",
    "\n",
    "print(stats.describe(malignant['texture_mean']))\n",
    "print(stats.jarque_bera(malignant['texture_mean']))\n",
    "\n",
    "print(stats.describe(benign['area_mean']))\n",
    "print(stats.jarque_bera(benign['texture_mean']))\n",
    "\n",
    "print(stats.describe(benign['concavity_mean']))\n",
    "print(stats.jarque_bera(benign['texture_mean']))\n",
    "\n",
    "print(stats.describe(benign['texture_mean']))\n",
    "print(stats.jarque_bera(benign['texture_mean']))"
   ]
  },
  {
   "cell_type": "code",
   "execution_count": 6,
   "metadata": {
    "colab": {
     "base_uri": "https://localhost:8080/",
     "height": 830
    },
    "colab_type": "code",
    "id": "tG4PWBnHpZ9b",
    "outputId": "d6a1a971-bc50-4ad9-b7ef-d2ae35c44758"
   },
   "outputs": [
    {
     "data": {
      "image/png": "[encoded data removed]",
      "text/plain": [
       "<Figure size 432x288 with 2 Axes>"
      ]
     },
     "metadata": {
      "needs_background": "light"
     },
     "output_type": "display_data"
    },
    {
     "data": {
      "image/png": "[encoded data removed]",
      "text/plain": [
       "<Figure size 432x288 with 2 Axes>"
      ]
     },
     "metadata": {
      "needs_background": "light"
     },
     "output_type": "display_data"
    },
    {
     "data": {
      "image/png": "[encoded data removed]",
      "text/plain": [
       "<Figure size 432x288 with 2 Axes>"
      ]
     },
     "metadata": {
      "needs_background": "light"
     },
     "output_type": "display_data"
    }
   ],
   "source": [
    "# Plot the histograms for the distribution of each feature and for each class (malignant/benign) to visually explore \n",
    "# wether these distributions are skewed or not.\n",
    "\n",
    "df['area_mean'].hist(by = df['diagnosis'])\n",
    "df['concavity_mean'].hist(by = df['diagnosis'])\n",
    "df['texture_mean'].hist(by = df['diagnosis'])\n",
    "plt.show()"
   ]
  },
  {
   "cell_type": "code",
   "execution_count": 8,
   "metadata": {
    "colab": {
     "base_uri": "https://localhost:8080/",
     "height": 232
    },
    "colab_type": "code",
    "id": "ZN6VDIK4qbPe",
    "outputId": "6133750c-b069-4e6a-ef02-597ed4971a61"
   },
   "outputs": [
    {
     "name": "stdout",
     "output_type": "stream",
     "text": [
      "KruskalResult(statistic=306.1155244413551, pvalue=1.5326695021713592e-68)\n",
      "KruskalResult(statistic=305.43657612021565, pvalue=2.1545636238729746e-68)\n",
      "KruskalResult(statistic=121.22093055992241, pvalue=3.418605714119009e-28)\n"
     ]
    }
   ],
   "source": [
    "# Run 3 Kruskal-Wallis tests, one for each group/feature and describe the results of these tests. \n",
    "# State wether the null hypothesis will be rejected or not.\n",
    "print(stats.kruskal(malignant['area_mean'], benign['area_mean']))\n",
    "\n",
    "print(stats.kruskal(malignant['concavity_mean'], benign['concavity_mean']))\n",
    "\n",
    "print(stats.kruskal(malignant['texture_mean'], benign['texture_mean']))"
   ]
  },
  {
   "cell_type": "code",
   "execution_count": 19,
   "metadata": {
    "colab": {},
    "colab_type": "code",
    "id": "xzFd2f9cqbPi"
   },
   "outputs": [
    {
     "data": {
      "text/plain": [
       "<matplotlib.axes._subplots.AxesSubplot at 0x7ffe872abd00>"
      ]
     },
     "execution_count": 19,
     "metadata": {},
     "output_type": "execute_result"
    },
    {
     "data": {
      "image/png": "[encoded data removed]",
      "text/plain": [
       "<Figure size 720x432 with 1 Axes>"
      ]
     },
     "metadata": {
      "needs_background": "light"
     },
     "output_type": "display_data"
    },
    {
     "data": {
      "image/png": "[encoded data removed]",
      "text/plain": [
       "<Figure size 720x432 with 1 Axes>"
      ]
     },
     "metadata": {
      "needs_background": "light"
     },
     "output_type": "display_data"
    },
    {
     "data": {
      "image/png": "[encoded data removed]",
      "text/plain": [
       "<Figure size 720x432 with 1 Axes>"
      ]
     },
     "metadata": {
      "needs_background": "light"
     },
     "output_type": "display_data"
    }
   ],
   "source": [
    "# Afterwards create 3 boxplots: one for each feature grouped by the diagnosis class.\n",
    "df.boxplot('area_mean', by='diagnosis', figsize=[10,6])\n",
    "df.boxplot('concavity_mean', by='diagnosis', figsize=[10,6])\n",
    "df.boxplot('texture_mean', by='diagnosis', figsize=[10,6])"
   ]
  },
  {
   "cell_type": "markdown",
   "metadata": {
    "colab_type": "text",
    "id": "Inylwf3FpZ90"
   },
   "source": [
    "### Exercise 2\n",
    "\n",
    "For the following test we will use the Real GDP per capita dataset for Europe available by Eurostat from the following address https://ec.europa.eu/eurostat/web/products-datasets/-/sdg_08_10\n",
    "It contains the GDP per capita for each country (The indicator is calculated as the ratio of real GDP to the average population of a specific year.)\n",
    "We will use the years 2007, 2008 and 2009 to check if the economic crisis of 2008 affected the GDP values of europe.\n",
    "\n",
    "Dataset:\n",
    "- https://ec.europa.eu/eurostat/web/products-datasets/-/sdg_08_10\n",
    "\n",
    "\n",
    "Questions:\n",
    "\n",
    "Is there a difference in the GDP per capita between the years (2007 and 2008), (2008 and 2009)?\n",
    "- Select and apply the appropriate statistical test.\n"
   ]
  },
  {
   "cell_type": "markdown",
   "metadata": {
    "colab_type": "text",
    "id": "0upRAUv8pZ91"
   },
   "source": [
    "Our dataset needs some cleaning at first. We extract only the columns of interest, clean numeric columns of unwanted characters and convert these columns to numeric.\n",
    "We also remove rows that refer to collective index for many countries (\"EA19\", \"EU27\",\"EU28\") and keep individual countries."
   ]
  },
  {
   "cell_type": "code",
   "execution_count": 22,
   "metadata": {
    "colab": {},
    "colab_type": "code",
    "id": "l5rZdCUypZ95",
    "outputId": "c0c2c278-dcdb-476e-87fa-3375dc186f99"
   },
   "outputs": [
    {
     "data": {
      "text/html": [
       "<div>\n",
       "<style scoped>\n",
       "    .dataframe tbody tr th:only-of-type {\n",
       "        vertical-align: middle;\n",
       "    }\n",
       "\n",
       "    .dataframe tbody tr th {\n",
       "        vertical-align: top;\n",
       "    }\n",
       "\n",
       "    .dataframe thead th {\n",
       "        text-align: right;\n",
       "    }\n",
       "</style>\n",
       "<table border=\"1\" class=\"dataframe\">\n",
       "  <thead>\n",
       "    <tr style=\"text-align: right;\">\n",
       "      <th></th>\n",
       "      <th>country</th>\n",
       "      <th>2007</th>\n",
       "      <th>2008</th>\n",
       "      <th>2009</th>\n",
       "    </tr>\n",
       "  </thead>\n",
       "  <tbody>\n",
       "    <tr>\n",
       "      <th>0</th>\n",
       "      <td>AT</td>\n",
       "      <td>35870</td>\n",
       "      <td>36280</td>\n",
       "      <td>34830</td>\n",
       "    </tr>\n",
       "    <tr>\n",
       "      <th>1</th>\n",
       "      <td>BE</td>\n",
       "      <td>33760</td>\n",
       "      <td>33640</td>\n",
       "      <td>32700</td>\n",
       "    </tr>\n",
       "    <tr>\n",
       "      <th>2</th>\n",
       "      <td>BG</td>\n",
       "      <td>4820</td>\n",
       "      <td>5140</td>\n",
       "      <td>4990</td>\n",
       "    </tr>\n",
       "    <tr>\n",
       "      <th>3</th>\n",
       "      <td>CH</td>\n",
       "      <td>56400</td>\n",
       "      <td>56940</td>\n",
       "      <td>55050</td>\n",
       "    </tr>\n",
       "    <tr>\n",
       "      <th>4</th>\n",
       "      <td>CY</td>\n",
       "      <td>24420</td>\n",
       "      <td>24680</td>\n",
       "      <td>23550</td>\n",
       "    </tr>\n",
       "  </tbody>\n",
       "</table>\n",
       "</div>"
      ],
      "text/plain": [
       "  country   2007   2008   2009\n",
       "0      AT  35870  36280  34830\n",
       "1      BE  33760  33640  32700\n",
       "2      BG   4820   5140   4990\n",
       "3      CH  56400  56940  55050\n",
       "4      CY  24420  24680  23550"
      ]
     },
     "execution_count": 22,
     "metadata": {},
     "output_type": "execute_result"
    }
   ],
   "source": [
    "gdp = pd.read_csv(\"https://ec.europa.eu/eurostat/estat-navtree-portlet-prod/BulkDownloadListing?file=data/sdg_08_10.tsv.gz\",\n",
    "                 compression='gzip', sep=r'\\,|\\t', usecols=[\"unit\", \"geo\\\\time\", \"2007 \", \"2008 \", \"2009 \"], engine='python')\n",
    "gdp = gdp[gdp.unit==\"CLV10_EUR_HAB\"].drop([\"unit\"], axis=1)\n",
    "gdp.columns=[\"country\", \"2007\", \"2008\", \"2009\"]\n",
    "gdp = gdp[~gdp.country.isin([\"EA19\", \"EU27\",\"EU28\"])]\n",
    "gdp['2007'] = gdp['2007'].str.extract('(\\d+)', expand=False).astype(int)\n",
    "gdp['2008'] = gdp['2008'].str.extract('(\\d+)', expand=False).astype(int)\n",
    "gdp['2009'] = gdp['2009'].str.extract('(\\d+)', expand=False).astype(int)\n",
    "gdp.head()"
   ]
  },
  {
   "cell_type": "code",
   "execution_count": 23,
   "metadata": {
    "colab": {},
    "colab_type": "code",
    "id": "Ico5D7xopZ-C",
    "outputId": "20d3d8dc-47e4-49b2-dbea-934ae0ab9293"
   },
   "outputs": [
    {
     "data": {
      "text/html": [
       "<div>\n",
       "<style scoped>\n",
       "    .dataframe tbody tr th:only-of-type {\n",
       "        vertical-align: middle;\n",
       "    }\n",
       "\n",
       "    .dataframe tbody tr th {\n",
       "        vertical-align: top;\n",
       "    }\n",
       "\n",
       "    .dataframe thead th {\n",
       "        text-align: right;\n",
       "    }\n",
       "</style>\n",
       "<table border=\"1\" class=\"dataframe\">\n",
       "  <thead>\n",
       "    <tr style=\"text-align: right;\">\n",
       "      <th></th>\n",
       "      <th>2007</th>\n",
       "      <th>2008</th>\n",
       "      <th>2009</th>\n",
       "    </tr>\n",
       "  </thead>\n",
       "  <tbody>\n",
       "    <tr>\n",
       "      <th>count</th>\n",
       "      <td>36.000000</td>\n",
       "      <td>36.000000</td>\n",
       "      <td>36.000000</td>\n",
       "    </tr>\n",
       "    <tr>\n",
       "      <th>mean</th>\n",
       "      <td>25374.166667</td>\n",
       "      <td>25322.777778</td>\n",
       "      <td>24016.388889</td>\n",
       "    </tr>\n",
       "    <tr>\n",
       "      <th>std</th>\n",
       "      <td>18764.549764</td>\n",
       "      <td>18367.127719</td>\n",
       "      <td>17541.855441</td>\n",
       "    </tr>\n",
       "    <tr>\n",
       "      <th>min</th>\n",
       "      <td>3200.000000</td>\n",
       "      <td>3370.000000</td>\n",
       "      <td>3350.000000</td>\n",
       "    </tr>\n",
       "    <tr>\n",
       "      <th>25%</th>\n",
       "      <td>10332.500000</td>\n",
       "      <td>10402.500000</td>\n",
       "      <td>9625.000000</td>\n",
       "    </tr>\n",
       "    <tr>\n",
       "      <th>50%</th>\n",
       "      <td>23535.000000</td>\n",
       "      <td>23380.000000</td>\n",
       "      <td>22315.000000</td>\n",
       "    </tr>\n",
       "    <tr>\n",
       "      <th>75%</th>\n",
       "      <td>35937.500000</td>\n",
       "      <td>36025.000000</td>\n",
       "      <td>33677.500000</td>\n",
       "    </tr>\n",
       "    <tr>\n",
       "      <th>max</th>\n",
       "      <td>84420.000000</td>\n",
       "      <td>81880.000000</td>\n",
       "      <td>76900.000000</td>\n",
       "    </tr>\n",
       "  </tbody>\n",
       "</table>\n",
       "</div>"
      ],
      "text/plain": [
       "               2007          2008          2009\n",
       "count     36.000000     36.000000     36.000000\n",
       "mean   25374.166667  25322.777778  24016.388889\n",
       "std    18764.549764  18367.127719  17541.855441\n",
       "min     3200.000000   3370.000000   3350.000000\n",
       "25%    10332.500000  10402.500000   9625.000000\n",
       "50%    23535.000000  23380.000000  22315.000000\n",
       "75%    35937.500000  36025.000000  33677.500000\n",
       "max    84420.000000  81880.000000  76900.000000"
      ]
     },
     "execution_count": 23,
     "metadata": {},
     "output_type": "execute_result"
    }
   ],
   "source": [
    "gdp.describe()"
   ]
  },
  {
   "cell_type": "markdown",
   "metadata": {
    "colab_type": "text",
    "id": "J2UF2nhupZ-I"
   },
   "source": [
    "Data that refer to economic indices usually do not follow a normal distribution, something we can easily observe by visualizing the data below, hence we should use non parametric tests."
   ]
  },
  {
   "cell_type": "code",
   "execution_count": 44,
   "metadata": {
    "colab": {},
    "colab_type": "code",
    "id": "g1POB8XKpZ-J"
   },
   "outputs": [
    {
     "data": {
      "image/png": "[encoded data removed]",
      "text/plain": [
       "<Figure size 1440x360 with 3 Axes>"
      ]
     },
     "metadata": {
      "needs_background": "light"
     },
     "output_type": "display_data"
    }
   ],
   "source": [
    "# Plot the histogram for the values of each year.\n",
    "plt.figure(figsize=[20,5])\n",
    "plt.subplot(1,3,1)\n",
    "plt.title('2007')\n",
    "plt.hist(gdp['2007'])\n",
    "plt.subplot(1,3,2)\n",
    "plt.title('2008')\n",
    "plt.hist(gdp['2008'])\n",
    "plt.subplot(1,3,3)\n",
    "plt.title('2009')\n",
    "plt.hist(gdp['2009'])\n",
    "plt.show()"
   ]
  },
  {
   "cell_type": "markdown",
   "metadata": {
    "colab_type": "text",
    "id": "dKkvGqUspZ-U"
   },
   "source": [
    "We will run a Wilcoxon Signed-rank Test, which should be run on paired samples or repeated measurements on a single sample. In our case we have repeated measurements (three years) of GDP for the same countries."
   ]
  },
  {
   "cell_type": "markdown",
   "metadata": {
    "colab_type": "text",
    "id": "Geu7s-ubpZ-U"
   },
   "source": [
    "The null hypothesis for this test is that the medians of two samples are equal.\n",
    "First we compare 2007 with 2008 values:"
   ]
  },
  {
   "cell_type": "code",
   "execution_count": 39,
   "metadata": {
    "colab": {},
    "colab_type": "code",
    "id": "EExsdc-KpZ-V"
   },
   "outputs": [
    {
     "data": {
      "text/plain": [
       "WilcoxonResult(statistic=278.5, pvalue=0.3918214607306295)"
      ]
     },
     "execution_count": 39,
     "metadata": {},
     "output_type": "execute_result"
    }
   ],
   "source": [
    "# Run a Wilcoxon Signed-rank test for years (groups) 2007 and 2008 and describe the results of the test. \n",
    "stats.wilcoxon(gdp['2007'], gdp['2008'])\n",
    "# for 2007 and 2008 p > 0.05 we do not reject the null"
   ]
  },
  {
   "cell_type": "code",
   "execution_count": 40,
   "metadata": {
    "colab": {},
    "colab_type": "code",
    "id": "FMOql4vZpZ-b"
   },
   "outputs": [
    {
     "data": {
      "text/plain": [
       "WilcoxonResult(statistic=4.0, pvalue=2.356281382362627e-07)"
      ]
     },
     "execution_count": 40,
     "metadata": {},
     "output_type": "execute_result"
    }
   ],
   "source": [
    "# Run a Wilcoxon Signed-rank Test for years (groups) 2008 and 2009 and describe the results of the test. \n",
    "stats.wilcoxon(gdp['2008'], gdp['2009'])\n",
    "# for 2008 and 2009 p > 0.05 we do reject the null"
   ]
  }
 ],
 "metadata": {
  "colab": {
   "name": "Aaron Angel of Day 13 Lecture 2 Assignment.ipynb",
   "provenance": []
  },
  "kernelspec": {
   "display_name": "Python 3",
   "language": "python",
   "name": "python3"
  },
  "language_info": {
   "codemirror_mode": {
    "name": "ipython",
    "version": 3
   },
   "file_extension": ".py",
   "mimetype": "text/x-python",
   "name": "python",
   "nbconvert_exporter": "python",
   "pygments_lexer": "ipython3",
   "version": "3.8.3"
  }
 },
 "nbformat": 4,
 "nbformat_minor": 1
}
