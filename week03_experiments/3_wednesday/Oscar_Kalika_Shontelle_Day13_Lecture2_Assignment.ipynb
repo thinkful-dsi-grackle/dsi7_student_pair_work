{
  "nbformat": 4,
  "nbformat_minor": 0,
  "metadata": {
    "colab": {
      "name": "Oscar_Kalika_Shontelle_Day13_Lecture2_Assignment.ipynb",
      "provenance": [],
      "collapsed_sections": []
    },
    "kernelspec": {
      "display_name": "Python 3",
      "language": "python",
      "name": "python3"
    },
    "language_info": {
      "codemirror_mode": {
        "name": "ipython",
        "version": 3
      },
      "file_extension": ".py",
      "mimetype": "text/x-python",
      "name": "python",
      "nbconvert_exporter": "python",
      "pygments_lexer": "ipython3",
      "version": "3.6.8"
    }
  },
  "cells": [
    {
      "cell_type": "markdown",
      "metadata": {
        "colab_type": "text",
        "id": "IajEE40kqbPO"
      },
      "source": [
        "## Nonparametric statistical significance tests\n",
        "\n",
        "non_parametric_tests_assign_solution.ipynb\n",
        "\n",
        "Complete the assignment below.\n",
        "\n",
        "References:\n",
        "- Nonparametric Statistics for Non-Statisticians: A Step-by-Step Approach, 2009.\n",
        "- How to Calculate Nonparametric Statistical Hypothesis Tests in Python, Jason Brownlee, 2018.\n"
      ]
    },
    {
      "cell_type": "markdown",
      "metadata": {
        "colab_type": "text",
        "id": "FQsgubxqqbPP"
      },
      "source": [
        "## Assignment\n",
        "\n",
        "### Exercise 1\n",
        "\n",
        "Our first dataset includes a very famous dataset, the Winsconsin Breast cancer dataset which is also available in https://archive.ics.uci.edu/ml/datasets/Breast+Cancer+Wisconsin+(Diagnostic). It includes features for cell nuclei for two categories of tumors: malignant and benign. As explained in the original data source:\n",
        "\n",
        ">Features are computed from a digitized image of a fine needle aspirate (FNA) of a breast mass. They describe characteristics of the cell nuclei present in the image.\n",
        "n the 3-dimensional space is that described in: [K. P. Bennett and O. L. Mangasarian: \"Robust Linear Programming Discrimination of Two Linearly Inseparable Sets\", Optimization Methods and Software 1, 1992, 23-34].\n",
        "\n",
        "Dataset:\n",
        "- https://tf-assets-prod.s3.amazonaws.com/tf-curric/data-science/breast_cancer.csv\n",
        "\n",
        "We will be using three of these features for our exercise: \n",
        "- diagnosis: the classification of the tumor with values \"M\" (malignant) and \"B\" (benign).\n",
        "- area_mean: the average area covered by the tumor cells\n",
        "- concavity_mean: severity of concave portions of the contour\n",
        "- texture_mean: standard deviation of gray-scale values\n",
        "\n",
        "For the three features described above(area_mean, concavity_mean, texture_mean), is there a difference in their average values in the two diagnosis groups? (Do samples of these features originate from the same distribution?)\n",
        "- Select and apply the appropriate statistical test.\n",
        "- Provide brief rationale for your selection of statistical test.\n",
        "- Generate boxplots to compare experimental vs. control for t1, t2, and t3.\n"
      ]
    },
    {
      "cell_type": "code",
      "metadata": {
        "colab_type": "code",
        "id": "TTsw--6YqbPQ",
        "colab": {
          "base_uri": "https://localhost:8080/",
          "height": 204
        },
        "outputId": "d6d41c03-ad5f-4bd1-9495-d206047aa512"
      },
      "source": [
        "import pandas as pd\n",
        "import numpy as np\n",
        "%matplotlib inline\n",
        "import matplotlib.pyplot as plt\n",
        "import scipy.stats as stats\n",
        "\n",
        "df = pd.read_csv(\"https://tf-assets-prod.s3.amazonaws.com/tf-curric/data-science/breast_cancer.csv\")\n",
        "df = df[[\"diagnosis\", 'area_mean', 'concavity_mean', 'texture_mean']]\n",
        "df.head()"
      ],
      "execution_count": 1,
      "outputs": [
        {
          "output_type": "execute_result",
          "data": {
            "text/html": [
              "<div>\n",
              "<style scoped>\n",
              "    .dataframe tbody tr th:only-of-type {\n",
              "        vertical-align: middle;\n",
              "    }\n",
              "\n",
              "    .dataframe tbody tr th {\n",
              "        vertical-align: top;\n",
              "    }\n",
              "\n",
              "    .dataframe thead th {\n",
              "        text-align: right;\n",
              "    }\n",
              "</style>\n",
              "<table border=\"1\" class=\"dataframe\">\n",
              "  <thead>\n",
              "    <tr style=\"text-align: right;\">\n",
              "      <th></th>\n",
              "      <th>diagnosis</th>\n",
              "      <th>area_mean</th>\n",
              "      <th>concavity_mean</th>\n",
              "      <th>texture_mean</th>\n",
              "    </tr>\n",
              "  </thead>\n",
              "  <tbody>\n",
              "    <tr>\n",
              "      <th>0</th>\n",
              "      <td>M</td>\n",
              "      <td>1001.0</td>\n",
              "      <td>0.3001</td>\n",
              "      <td>10.38</td>\n",
              "    </tr>\n",
              "    <tr>\n",
              "      <th>1</th>\n",
              "      <td>M</td>\n",
              "      <td>1326.0</td>\n",
              "      <td>0.0869</td>\n",
              "      <td>17.77</td>\n",
              "    </tr>\n",
              "    <tr>\n",
              "      <th>2</th>\n",
              "      <td>M</td>\n",
              "      <td>1203.0</td>\n",
              "      <td>0.1974</td>\n",
              "      <td>21.25</td>\n",
              "    </tr>\n",
              "    <tr>\n",
              "      <th>3</th>\n",
              "      <td>M</td>\n",
              "      <td>386.1</td>\n",
              "      <td>0.2414</td>\n",
              "      <td>20.38</td>\n",
              "    </tr>\n",
              "    <tr>\n",
              "      <th>4</th>\n",
              "      <td>M</td>\n",
              "      <td>1297.0</td>\n",
              "      <td>0.1980</td>\n",
              "      <td>14.34</td>\n",
              "    </tr>\n",
              "  </tbody>\n",
              "</table>\n",
              "</div>"
            ],
            "text/plain": [
              "  diagnosis  area_mean  concavity_mean  texture_mean\n",
              "0         M     1001.0          0.3001         10.38\n",
              "1         M     1326.0          0.0869         17.77\n",
              "2         M     1203.0          0.1974         21.25\n",
              "3         M      386.1          0.2414         20.38\n",
              "4         M     1297.0          0.1980         14.34"
            ]
          },
          "metadata": {
            "tags": []
          },
          "execution_count": 1
        }
      ]
    },
    {
      "cell_type": "code",
      "metadata": {
        "id": "Fj2gP-PLpZ6f",
        "colab_type": "code",
        "colab": {
          "base_uri": "https://localhost:8080/",
          "height": 142
        },
        "outputId": "4b2fbc88-8fd1-45f6-b04e-5925a59b7aef"
      },
      "source": [
        "# Check the distribution of classes for the the diagnosis column\n",
        "df.groupby(['diagnosis']).agg('count')"
      ],
      "execution_count": 2,
      "outputs": [
        {
          "output_type": "execute_result",
          "data": {
            "text/html": [
              "<div>\n",
              "<style scoped>\n",
              "    .dataframe tbody tr th:only-of-type {\n",
              "        vertical-align: middle;\n",
              "    }\n",
              "\n",
              "    .dataframe tbody tr th {\n",
              "        vertical-align: top;\n",
              "    }\n",
              "\n",
              "    .dataframe thead th {\n",
              "        text-align: right;\n",
              "    }\n",
              "</style>\n",
              "<table border=\"1\" class=\"dataframe\">\n",
              "  <thead>\n",
              "    <tr style=\"text-align: right;\">\n",
              "      <th></th>\n",
              "      <th>area_mean</th>\n",
              "      <th>concavity_mean</th>\n",
              "      <th>texture_mean</th>\n",
              "    </tr>\n",
              "    <tr>\n",
              "      <th>diagnosis</th>\n",
              "      <th></th>\n",
              "      <th></th>\n",
              "      <th></th>\n",
              "    </tr>\n",
              "  </thead>\n",
              "  <tbody>\n",
              "    <tr>\n",
              "      <th>B</th>\n",
              "      <td>357</td>\n",
              "      <td>357</td>\n",
              "      <td>357</td>\n",
              "    </tr>\n",
              "    <tr>\n",
              "      <th>M</th>\n",
              "      <td>212</td>\n",
              "      <td>212</td>\n",
              "      <td>212</td>\n",
              "    </tr>\n",
              "  </tbody>\n",
              "</table>\n",
              "</div>"
            ],
            "text/plain": [
              "           area_mean  concavity_mean  texture_mean\n",
              "diagnosis                                         \n",
              "B                357             357           357\n",
              "M                212             212           212"
            ]
          },
          "metadata": {
            "tags": []
          },
          "execution_count": 2
        }
      ]
    },
    {
      "cell_type": "code",
      "metadata": {
        "id": "utTIBlsXIi-7",
        "colab_type": "code",
        "colab": {
          "base_uri": "https://localhost:8080/",
          "height": 68
        },
        "outputId": "6c35eb5a-d345-4717-eeae-af1d49574d15"
      },
      "source": [
        "B = df[df['diagnosis'] == 'B']\n",
        "M = df[df['diagnosis'] == 'M']\n",
        "print('Benign Area Mean:', stats.shapiro(B['area_mean']))\n",
        "print('Benign Concavity Mean:', stats.shapiro(B['concavity_mean']))\n",
        "print('Benign Texture Mean:', stats.shapiro(B['texture_mean']))"
      ],
      "execution_count": 6,
      "outputs": [
        {
          "output_type": "stream",
          "text": [
            "Benign Area Mean: (0.9906416535377502, 0.02278628945350647)\n",
            "Benign Concavity Mean: (0.7372753620147705, 2.2455432115817253e-23)\n",
            "Benign Texture Mean: (0.9441728591918945, 2.384618336126465e-10)\n"
          ],
          "name": "stdout"
        }
      ]
    },
    {
      "cell_type": "code",
      "metadata": {
        "id": "_6j_j48yK2I0",
        "colab_type": "code",
        "colab": {
          "base_uri": "https://localhost:8080/",
          "height": 68
        },
        "outputId": "1057fb42-6737-41cb-8307-78c0ecfdf023"
      },
      "source": [
        "print('Malignant Area Mean:', stats.shapiro(M['area_mean']))\n",
        "print('Malignant Concavity Mean:', stats.shapiro(M['concavity_mean']))\n",
        "print('Malignant Texture Mean:', stats.shapiro(M['texture_mean']))"
      ],
      "execution_count": 7,
      "outputs": [
        {
          "output_type": "stream",
          "text": [
            "Malignant Area Mean: (0.9332621097564697, 2.969658829954369e-08)\n",
            "Malignant Concavity Mean: (0.95293128490448, 1.9665981199068483e-06)\n",
            "Malignant Texture Mean: (0.9690946340560913, 0.00013415660941973329)\n"
          ],
          "name": "stdout"
        }
      ]
    },
    {
      "cell_type": "code",
      "metadata": {
        "colab_type": "code",
        "id": "ds4PBznTqbPW",
        "scrolled": true,
        "colab": {},
        "outputId": "039118d6-ab5e-47b3-8e9a-79a521b5ce01"
      },
      "source": [
        "df.info()"
      ],
      "execution_count": null,
      "outputs": [
        {
          "output_type": "stream",
          "text": [
            "<class 'pandas.core.frame.DataFrame'>\n",
            "RangeIndex: 569 entries, 0 to 568\n",
            "Data columns (total 4 columns):\n",
            "diagnosis         569 non-null object\n",
            "area_mean         569 non-null float64\n",
            "concavity_mean    569 non-null float64\n",
            "texture_mean      569 non-null float64\n",
            "dtypes: float64(3), object(1)\n",
            "memory usage: 17.9+ KB\n"
          ],
          "name": "stdout"
        }
      ]
    },
    {
      "cell_type": "markdown",
      "metadata": {
        "colab_type": "text",
        "id": "8vrbptjVqbPa"
      },
      "source": [
        "We explore if the referenced features follow a normal distribution. We examine the skewness and kurtosis of the groups.\n",
        "\n",
        "Optional: We can run a Jarque–Bera test which tests if the data have the skewness and kurtosis matching a normal distribution.\n",
        "In the case of the Jarque–Bera test the null hypothesis would state that the skewness and kurtosis matches that of a normal distribution."
      ]
    },
    {
      "cell_type": "code",
      "metadata": {
        "id": "t3NzKoOcpZ9S",
        "colab_type": "code",
        "colab": {
          "base_uri": "https://localhost:8080/",
          "height": 156
        },
        "outputId": "109b7f27-3760-4823-c876-abb7462dc5c0"
      },
      "source": [
        "# Print the skewness and kurtosis of the groups. Optionally run a Jarque–Bera\n",
        "print('Benign area mean:', stats.describe(B['area_mean']))\n",
        "print('Benign concavity mean:', stats.describe(B['concavity_mean']))\n",
        "print('Benign texture mean:', stats.describe(B['texture_mean']))\n",
        "print()\n",
        "print('Malignant Area Mean:', stats.describe(M['area_mean']))\n",
        "print('Malignant Concavity Mean:', stats.describe(M['concavity_mean']))\n",
        "print('Malignant Texture Mean:', stats.describe(M['texture_mean']))\n",
        "# Afterwards you can comment your findings wether the features follow a normal distribution of not."
      ],
      "execution_count": 9,
      "outputs": [
        {
          "output_type": "stream",
          "text": [
            "Benign area mean: DescribeResult(nobs=357, minmax=(143.5, 992.1), mean=462.7901960784313, variance=18033.030100242344, skewness=0.34082567025503224, kurtosis=0.28842005191069164)\n",
            "Benign concavity mean: DescribeResult(nobs=357, minmax=(0.0, 0.4108), mean=0.04605762100840336, variance=0.0018872204874219448, skewness=3.4586534729093175, kurtosis=20.527388984137698)\n",
            "Benign texture mean: DescribeResult(nobs=357, minmax=(9.71, 33.81), mean=17.914761904761903, variance=15.961020518994113, skewness=0.9772157090288104, kurtosis=1.1858758625694934)\n",
            "\n",
            "Malignant Area Mean: DescribeResult(nobs=212, minmax=(361.6, 2501.0), mean=978.3764150943397, variance=135378.3553652866, skewness=1.109744551210065, kurtosis=2.223843454774964)\n",
            "Malignant Concavity Mean: DescribeResult(nobs=212, minmax=(0.02398, 0.4268), mean=0.16077471698113208, variance=0.005627899551104355, skewness=0.8952361063235286, kurtosis=1.0975606181162627)\n",
            "Malignant Texture Mean: DescribeResult(nobs=212, minmax=(10.38, 39.28), mean=21.60490566037736, variance=14.284392882053115, skewness=0.6985549130264693, kurtosis=2.2951980794284896)\n"
          ],
          "name": "stdout"
        }
      ]
    },
    {
      "cell_type": "markdown",
      "metadata": {
        "id": "3xySOw2uM7xI",
        "colab_type": "text"
      },
      "source": [
        "Based on the skewness, kurtosis and the shapiro test, it can be concluded that our data does not follow a normal distribution."
      ]
    },
    {
      "cell_type": "code",
      "metadata": {
        "id": "F32QkqagpZ9X",
        "colab_type": "code",
        "colab": {}
      },
      "source": [
        "malignant = df[df.diagnosis=='M'][['area_mean', 'concavity_mean', 'texture_mean']]\n",
        "benign = df[df.diagnosis=='B'][['area_mean', 'concavity_mean', 'texture_mean']]"
      ],
      "execution_count": 10,
      "outputs": []
    },
    {
      "cell_type": "code",
      "metadata": {
        "id": "tG4PWBnHpZ9b",
        "colab_type": "code",
        "colab": {
          "base_uri": "https://localhost:8080/",
          "height": 268
        },
        "outputId": "b8a08bb8-c5f7-4170-b5ad-af2fc8d30f2d"
      },
      "source": [
        "# Plot the histograms for the distribution of each feature and for each class (malignant/benign) to visually explore \n",
        "plt.hist(malignant['area_mean'], bins=20, alpha=.5)\n",
        "plt.hist(benign['area_mean'], bins=20, alpha=.5)\n",
        "plt.legend(['malignant', 'benign'])\n",
        "plt.show()\n",
        "# wether these distributions are skewed or not."
      ],
      "execution_count": 16,
      "outputs": [
        {
          "output_type": "display_data",
          "data": {
            "image/png": "[encoded data removed]",
            "text/plain": [
              "<Figure size 432x288 with 1 Axes>"
            ]
          },
          "metadata": {
            "tags": [],
            "needs_background": "light"
          }
        }
      ]
    },
    {
      "cell_type": "code",
      "metadata": {
        "id": "Ezzjsc-IPwOc",
        "colab_type": "code",
        "colab": {
          "base_uri": "https://localhost:8080/",
          "height": 265
        },
        "outputId": "fca6e872-26d6-4d8b-811b-ed474dadfd0f"
      },
      "source": [
        "plt.hist(malignant['concavity_mean'], bins=20, alpha=.5)\n",
        "plt.hist(benign['concavity_mean'], bins=20, alpha=.5)\n",
        "plt.legend(['malignant', 'benign'])\n",
        "plt.show()"
      ],
      "execution_count": 17,
      "outputs": [
        {
          "output_type": "display_data",
          "data": {
            "image/png": "[encoded data removed]",
            "text/plain": [
              "<Figure size 432x288 with 1 Axes>"
            ]
          },
          "metadata": {
            "tags": [],
            "needs_background": "light"
          }
        }
      ]
    },
    {
      "cell_type": "code",
      "metadata": {
        "id": "DjVoTllBP7ID",
        "colab_type": "code",
        "colab": {
          "base_uri": "https://localhost:8080/",
          "height": 265
        },
        "outputId": "8ff531ca-7501-406b-9e3d-485676b9f743"
      },
      "source": [
        "plt.hist(malignant['texture_mean'], bins=20, alpha=.5)\n",
        "plt.hist(benign['texture_mean'], bins=20, alpha=.5)\n",
        "plt.legend(['malignant', 'benign'])\n",
        "plt.show()"
      ],
      "execution_count": 18,
      "outputs": [
        {
          "output_type": "display_data",
          "data": {
            "image/png": "[encoded data removed]",
            "text/plain": [
              "<Figure size 432x288 with 1 Axes>"
            ]
          },
          "metadata": {
            "tags": [],
            "needs_background": "light"
          }
        }
      ]
    },
    {
      "cell_type": "markdown",
      "metadata": {
        "id": "80fv4eLBQ_1I",
        "colab_type": "text"
      },
      "source": [
        "Results are varied, although it shows that there is a slight skewness for the benign texture mean and the benign concavity mean."
      ]
    },
    {
      "cell_type": "code",
      "metadata": {
        "colab_type": "code",
        "id": "ZN6VDIK4qbPe",
        "colab": {
          "base_uri": "https://localhost:8080/",
          "height": 68
        },
        "outputId": "b30ccf0c-3b28-4bae-c74a-a49fe87b183d"
      },
      "source": [
        "# Run 3 Kruskal-Wallis tests, one for each group/feature and describe the results of these tests. \n",
        "print('Kruskal-Wallis area mean:', stats.kruskal(benign['area_mean'], malignant['area_mean']))\n",
        "print('Kruskal-Wallis concavity mean:', stats.kruskal(benign['concavity_mean'], malignant['concavity_mean']))\n",
        "print('Kruskal-Wallis texture mean:', stats.kruskal(benign['texture_mean'], malignant['texture_mean']))\n",
        "# State wether the null hypothesis will be rejected or not."
      ],
      "execution_count": 20,
      "outputs": [
        {
          "output_type": "stream",
          "text": [
            "Kruskal-Wallis area mean: KruskalResult(statistic=306.1155244413551, pvalue=1.5326695021713592e-68)\n",
            "Kruskal-Wallis concavity mean: KruskalResult(statistic=305.43657612021565, pvalue=2.1545636238729746e-68)\n",
            "Kruskal-Wallis texture mean: KruskalResult(statistic=121.22093055992241, pvalue=3.418605714119009e-28)\n"
          ],
          "name": "stdout"
        }
      ]
    },
    {
      "cell_type": "markdown",
      "metadata": {
        "id": "WCXPsPN-S7J4",
        "colab_type": "text"
      },
      "source": [
        "Based on the p-values, we can reject the null that all variables have the same distribution. "
      ]
    },
    {
      "cell_type": "code",
      "metadata": {
        "colab_type": "code",
        "id": "xzFd2f9cqbPi",
        "colab": {
          "base_uri": "https://localhost:8080/",
          "height": 437
        },
        "outputId": "a4c88766-42b6-4ade-98d6-c898fe15bc84"
      },
      "source": [
        "# Afterwards create 3 boxplots: one for each feature grouped by the diagnosis class.\n",
        "df.boxplot('area_mean', by='diagnosis', figsize=(10,6))"
      ],
      "execution_count": 23,
      "outputs": [
        {
          "output_type": "execute_result",
          "data": {
            "text/plain": [
              "<matplotlib.axes._subplots.AxesSubplot at 0x7f614a76ad68>"
            ]
          },
          "metadata": {
            "tags": []
          },
          "execution_count": 23
        },
        {
          "output_type": "display_data",
          "data": {
            "image/png": "[encoded data removed]",
            "text/plain": [
              "<Figure size 720x432 with 1 Axes>"
            ]
          },
          "metadata": {
            "tags": [],
            "needs_background": "light"
          }
        }
      ]
    },
    {
      "cell_type": "code",
      "metadata": {
        "id": "goh4D9ITT9wT",
        "colab_type": "code",
        "colab": {
          "base_uri": "https://localhost:8080/",
          "height": 437
        },
        "outputId": "00d73431-8247-4821-999b-944a702aaea7"
      },
      "source": [
        "df.boxplot('concavity_mean', by='diagnosis', figsize=(10,6))"
      ],
      "execution_count": 25,
      "outputs": [
        {
          "output_type": "execute_result",
          "data": {
            "text/plain": [
              "<matplotlib.axes._subplots.AxesSubplot at 0x7f614a309d68>"
            ]
          },
          "metadata": {
            "tags": []
          },
          "execution_count": 25
        },
        {
          "output_type": "display_data",
          "data": {
            "image/png": "[encoded data removed]",
            "text/plain": [
              "<Figure size 720x432 with 1 Axes>"
            ]
          },
          "metadata": {
            "tags": [],
            "needs_background": "light"
          }
        }
      ]
    },
    {
      "cell_type": "code",
      "metadata": {
        "id": "tZuu7JA5UF-5",
        "colab_type": "code",
        "colab": {
          "base_uri": "https://localhost:8080/",
          "height": 437
        },
        "outputId": "ac8e1518-a1a4-4ee9-d728-47987eebe26f"
      },
      "source": [
        "df.boxplot('texture_mean', by='diagnosis', figsize=(10,6))"
      ],
      "execution_count": 26,
      "outputs": [
        {
          "output_type": "execute_result",
          "data": {
            "text/plain": [
              "<matplotlib.axes._subplots.AxesSubplot at 0x7f614318e550>"
            ]
          },
          "metadata": {
            "tags": []
          },
          "execution_count": 26
        },
        {
          "output_type": "display_data",
          "data": {
            "image/png": "[encoded data removed]",
            "text/plain": [
              "<Figure size 720x432 with 1 Axes>"
            ]
          },
          "metadata": {
            "tags": [],
            "needs_background": "light"
          }
        }
      ]
    },
    {
      "cell_type": "markdown",
      "metadata": {
        "id": "Inylwf3FpZ90",
        "colab_type": "text"
      },
      "source": [
        "### Exercise 2\n",
        "\n",
        "For the following test we will use the Real GDP per capita dataset for Europe available by Eurostat from the following address https://ec.europa.eu/eurostat/web/products-datasets/-/sdg_08_10\n",
        "It contains the GDP per capita for each country (The indicator is calculated as the ratio of real GDP to the average population of a specific year.)\n",
        "We will use the years 2007, 2008 and 2009 to check if the economic crisis of 2008 affected the GDP values of europe.\n",
        "\n",
        "Dataset:\n",
        "- https://ec.europa.eu/eurostat/web/products-datasets/-/sdg_08_10\n",
        "\n",
        "\n",
        "Questions:\n",
        "\n",
        "Is there a difference in the GDP per capita between the years (2007 and 2008), (2008 and 2009)?\n",
        "- Select and apply the appropriate statistical test.\n"
      ]
    },
    {
      "cell_type": "markdown",
      "metadata": {
        "id": "0upRAUv8pZ91",
        "colab_type": "text"
      },
      "source": [
        "Our dataset needs some cleaning at first. We extract only the columns of interest, clean numeric columns of unwanted characters and convert these columns to numeric.\n",
        "We also remove rows that refer to collective index for many countries (\"EA19\", \"EU27\",\"EU28\") and keep individual countries."
      ]
    },
    {
      "cell_type": "code",
      "metadata": {
        "id": "l5rZdCUypZ95",
        "colab_type": "code",
        "colab": {
          "base_uri": "https://localhost:8080/",
          "height": 204
        },
        "outputId": "ebfd2199-c7ff-43aa-ebd0-45a308032759"
      },
      "source": [
        "gdp = pd.read_csv(\"https://ec.europa.eu/eurostat/estat-navtree-portlet-prod/BulkDownloadListing?file=data/sdg_08_10.tsv.gz\",\n",
        "                 compression='gzip', sep=r'\\,|\\t', usecols=[\"unit\", \"geo\\\\time\", \"2007 \", \"2008 \", \"2009 \"], engine='python')\n",
        "gdp = gdp[gdp.unit==\"CLV10_EUR_HAB\"].drop([\"unit\"], axis=1)\n",
        "gdp.columns=[\"country\", \"2007\", \"2008\", \"2009\"]\n",
        "gdp = gdp[~gdp.country.isin([\"EA19\", \"EU27\",\"EU28\"])]\n",
        "gdp['2007'] = gdp['2007'].str.extract('(\\d+)', expand=False).astype(int)\n",
        "gdp['2008'] = gdp['2008'].str.extract('(\\d+)', expand=False).astype(int)\n",
        "gdp['2009'] = gdp['2009'].str.extract('(\\d+)', expand=False).astype(int)\n",
        "gdp.head()"
      ],
      "execution_count": 27,
      "outputs": [
        {
          "output_type": "execute_result",
          "data": {
            "text/html": [
              "<div>\n",
              "<style scoped>\n",
              "    .dataframe tbody tr th:only-of-type {\n",
              "        vertical-align: middle;\n",
              "    }\n",
              "\n",
              "    .dataframe tbody tr th {\n",
              "        vertical-align: top;\n",
              "    }\n",
              "\n",
              "    .dataframe thead th {\n",
              "        text-align: right;\n",
              "    }\n",
              "</style>\n",
              "<table border=\"1\" class=\"dataframe\">\n",
              "  <thead>\n",
              "    <tr style=\"text-align: right;\">\n",
              "      <th></th>\n",
              "      <th>country</th>\n",
              "      <th>2007</th>\n",
              "      <th>2008</th>\n",
              "      <th>2009</th>\n",
              "    </tr>\n",
              "  </thead>\n",
              "  <tbody>\n",
              "    <tr>\n",
              "      <th>0</th>\n",
              "      <td>AT</td>\n",
              "      <td>35870</td>\n",
              "      <td>36280</td>\n",
              "      <td>34830</td>\n",
              "    </tr>\n",
              "    <tr>\n",
              "      <th>1</th>\n",
              "      <td>BE</td>\n",
              "      <td>33760</td>\n",
              "      <td>33640</td>\n",
              "      <td>32700</td>\n",
              "    </tr>\n",
              "    <tr>\n",
              "      <th>2</th>\n",
              "      <td>BG</td>\n",
              "      <td>4820</td>\n",
              "      <td>5140</td>\n",
              "      <td>4990</td>\n",
              "    </tr>\n",
              "    <tr>\n",
              "      <th>3</th>\n",
              "      <td>CH</td>\n",
              "      <td>56400</td>\n",
              "      <td>56940</td>\n",
              "      <td>55050</td>\n",
              "    </tr>\n",
              "    <tr>\n",
              "      <th>4</th>\n",
              "      <td>CY</td>\n",
              "      <td>24420</td>\n",
              "      <td>24680</td>\n",
              "      <td>23550</td>\n",
              "    </tr>\n",
              "  </tbody>\n",
              "</table>\n",
              "</div>"
            ],
            "text/plain": [
              "  country   2007   2008   2009\n",
              "0      AT  35870  36280  34830\n",
              "1      BE  33760  33640  32700\n",
              "2      BG   4820   5140   4990\n",
              "3      CH  56400  56940  55050\n",
              "4      CY  24420  24680  23550"
            ]
          },
          "metadata": {
            "tags": []
          },
          "execution_count": 27
        }
      ]
    },
    {
      "cell_type": "code",
      "metadata": {
        "id": "e2ZyG9SIYFwb",
        "colab_type": "code",
        "colab": {
          "base_uri": "https://localhost:8080/",
          "height": 204
        },
        "outputId": "ab89375e-e5a9-4b99-92c9-e9d8df814454"
      },
      "source": [
        "gdp.info()"
      ],
      "execution_count": 38,
      "outputs": [
        {
          "output_type": "stream",
          "text": [
            "<class 'pandas.core.frame.DataFrame'>\n",
            "Int64Index: 36 entries, 0 to 37\n",
            "Data columns (total 4 columns):\n",
            " #   Column   Non-Null Count  Dtype \n",
            "---  ------   --------------  ----- \n",
            " 0   country  36 non-null     object\n",
            " 1   2007     36 non-null     int64 \n",
            " 2   2008     36 non-null     int64 \n",
            " 3   2009     36 non-null     int64 \n",
            "dtypes: int64(3), object(1)\n",
            "memory usage: 2.7+ KB\n"
          ],
          "name": "stdout"
        }
      ]
    },
    {
      "cell_type": "code",
      "metadata": {
        "id": "Ico5D7xopZ-C",
        "colab_type": "code",
        "colab": {
          "base_uri": "https://localhost:8080/",
          "height": 297
        },
        "outputId": "8b3fb2aa-47aa-478d-8786-77dc50270205"
      },
      "source": [
        "gdp.describe()"
      ],
      "execution_count": 28,
      "outputs": [
        {
          "output_type": "execute_result",
          "data": {
            "text/html": [
              "<div>\n",
              "<style scoped>\n",
              "    .dataframe tbody tr th:only-of-type {\n",
              "        vertical-align: middle;\n",
              "    }\n",
              "\n",
              "    .dataframe tbody tr th {\n",
              "        vertical-align: top;\n",
              "    }\n",
              "\n",
              "    .dataframe thead th {\n",
              "        text-align: right;\n",
              "    }\n",
              "</style>\n",
              "<table border=\"1\" class=\"dataframe\">\n",
              "  <thead>\n",
              "    <tr style=\"text-align: right;\">\n",
              "      <th></th>\n",
              "      <th>2007</th>\n",
              "      <th>2008</th>\n",
              "      <th>2009</th>\n",
              "    </tr>\n",
              "  </thead>\n",
              "  <tbody>\n",
              "    <tr>\n",
              "      <th>count</th>\n",
              "      <td>36.000000</td>\n",
              "      <td>36.000000</td>\n",
              "      <td>36.000000</td>\n",
              "    </tr>\n",
              "    <tr>\n",
              "      <th>mean</th>\n",
              "      <td>25374.166667</td>\n",
              "      <td>25322.777778</td>\n",
              "      <td>24016.388889</td>\n",
              "    </tr>\n",
              "    <tr>\n",
              "      <th>std</th>\n",
              "      <td>18764.549764</td>\n",
              "      <td>18367.127719</td>\n",
              "      <td>17541.855441</td>\n",
              "    </tr>\n",
              "    <tr>\n",
              "      <th>min</th>\n",
              "      <td>3200.000000</td>\n",
              "      <td>3370.000000</td>\n",
              "      <td>3350.000000</td>\n",
              "    </tr>\n",
              "    <tr>\n",
              "      <th>25%</th>\n",
              "      <td>10332.500000</td>\n",
              "      <td>10402.500000</td>\n",
              "      <td>9625.000000</td>\n",
              "    </tr>\n",
              "    <tr>\n",
              "      <th>50%</th>\n",
              "      <td>23535.000000</td>\n",
              "      <td>23380.000000</td>\n",
              "      <td>22315.000000</td>\n",
              "    </tr>\n",
              "    <tr>\n",
              "      <th>75%</th>\n",
              "      <td>35937.500000</td>\n",
              "      <td>36025.000000</td>\n",
              "      <td>33677.500000</td>\n",
              "    </tr>\n",
              "    <tr>\n",
              "      <th>max</th>\n",
              "      <td>84420.000000</td>\n",
              "      <td>81880.000000</td>\n",
              "      <td>76900.000000</td>\n",
              "    </tr>\n",
              "  </tbody>\n",
              "</table>\n",
              "</div>"
            ],
            "text/plain": [
              "               2007          2008          2009\n",
              "count     36.000000     36.000000     36.000000\n",
              "mean   25374.166667  25322.777778  24016.388889\n",
              "std    18764.549764  18367.127719  17541.855441\n",
              "min     3200.000000   3370.000000   3350.000000\n",
              "25%    10332.500000  10402.500000   9625.000000\n",
              "50%    23535.000000  23380.000000  22315.000000\n",
              "75%    35937.500000  36025.000000  33677.500000\n",
              "max    84420.000000  81880.000000  76900.000000"
            ]
          },
          "metadata": {
            "tags": []
          },
          "execution_count": 28
        }
      ]
    },
    {
      "cell_type": "markdown",
      "metadata": {
        "id": "J2UF2nhupZ-I",
        "colab_type": "text"
      },
      "source": [
        "Data that refer to economic indices usually do not follow a normal distribution, something we can easily observe by visualizing the data below, hence we should use non parametric tests."
      ]
    },
    {
      "cell_type": "code",
      "metadata": {
        "id": "g1POB8XKpZ-J",
        "colab_type": "code",
        "colab": {
          "base_uri": "https://localhost:8080/",
          "height": 265
        },
        "outputId": "990577c4-471f-4e80-9db6-89ac9441afcb"
      },
      "source": [
        "# Plot the histogram for the values of each year.  \n",
        "plt.hist(gdp['2007'], alpha=.5)\n",
        "#plt.hist(gdp['2008'], alpha=.5)\n",
        "#plt.hist(gdp['2009'], alpha=.5)\n",
        "#plt.legend(['2007', '2008', '2009'])\n",
        "plt.show()"
      ],
      "execution_count": 34,
      "outputs": [
        {
          "output_type": "display_data",
          "data": {
            "image/png": "[encoded data removed]",
            "text/plain": [
              "<Figure size 432x288 with 1 Axes>"
            ]
          },
          "metadata": {
            "tags": [],
            "needs_background": "light"
          }
        }
      ]
    },
    {
      "cell_type": "code",
      "metadata": {
        "id": "DswVxob4WCyv",
        "colab_type": "code",
        "colab": {
          "base_uri": "https://localhost:8080/",
          "height": 265
        },
        "outputId": "4af57389-fc9a-4a93-ea40-185a66ac1966"
      },
      "source": [
        "plt.hist(gdp['2008'], alpha=.5)\n",
        "plt.show()"
      ],
      "execution_count": 33,
      "outputs": [
        {
          "output_type": "display_data",
          "data": {
            "image/png": "[encoded data removed]",
            "text/plain": [
              "<Figure size 432x288 with 1 Axes>"
            ]
          },
          "metadata": {
            "tags": [],
            "needs_background": "light"
          }
        }
      ]
    },
    {
      "cell_type": "code",
      "metadata": {
        "id": "dPQaTCDDWLN0",
        "colab_type": "code",
        "colab": {
          "base_uri": "https://localhost:8080/",
          "height": 265
        },
        "outputId": "3ed5be33-c35b-4b93-b645-5ea70fa37d26"
      },
      "source": [
        "plt.hist(gdp['2009'], alpha=.5)\n",
        "plt.show()"
      ],
      "execution_count": 35,
      "outputs": [
        {
          "output_type": "display_data",
          "data": {
            "image/png": "[encoded data removed]",
            "text/plain": [
              "<Figure size 432x288 with 1 Axes>"
            ]
          },
          "metadata": {
            "tags": [],
            "needs_background": "light"
          }
        }
      ]
    },
    {
      "cell_type": "markdown",
      "metadata": {
        "id": "dKkvGqUspZ-U",
        "colab_type": "text"
      },
      "source": [
        "We will run a Wilcoxon Signed-rank Test, which should be run on paired samples or repeated measurements on a single sample. In our case we have repeated measurements (three years) of GDP for the same countries."
      ]
    },
    {
      "cell_type": "markdown",
      "metadata": {
        "id": "Geu7s-ubpZ-U",
        "colab_type": "text"
      },
      "source": [
        "The null hypothesis for this test is that the medians of two samples are equal.\n",
        "First we compare 2007 with 2008 values:"
      ]
    },
    {
      "cell_type": "code",
      "metadata": {
        "id": "EExsdc-KpZ-V",
        "colab_type": "code",
        "colab": {
          "base_uri": "https://localhost:8080/",
          "height": 34
        },
        "outputId": "9235c828-e812-440a-bcca-39f352ceefce"
      },
      "source": [
        "# Run a Wilcoxon Signed-rank test for years (groups) 2007 and 2008 and describe the results of the test. \n",
        "stats.wilcoxon(gdp['2007']-gdp['2008'])"
      ],
      "execution_count": 40,
      "outputs": [
        {
          "output_type": "execute_result",
          "data": {
            "text/plain": [
              "WilcoxonResult(statistic=278.5, pvalue=0.3918214607306295)"
            ]
          },
          "metadata": {
            "tags": []
          },
          "execution_count": 40
        }
      ]
    },
    {
      "cell_type": "code",
      "metadata": {
        "id": "FMOql4vZpZ-b",
        "colab_type": "code",
        "colab": {
          "base_uri": "https://localhost:8080/",
          "height": 34
        },
        "outputId": "b1607bd6-d96b-4c20-908a-001f4db91b6d"
      },
      "source": [
        "# Run a Wilcoxon Signed-rank Test for years (groups) 2008 and 2009 and describe the results of the test. \n",
        "stats.wilcoxon(gdp['2008']-gdp['2009'])"
      ],
      "execution_count": 39,
      "outputs": [
        {
          "output_type": "execute_result",
          "data": {
            "text/plain": [
              "WilcoxonResult(statistic=4.0, pvalue=2.356281382362627e-07)"
            ]
          },
          "metadata": {
            "tags": []
          },
          "execution_count": 39
        }
      ]
    },
    {
      "cell_type": "code",
      "metadata": {
        "id": "SG6VWqBNbKFA",
        "colab_type": "code",
        "colab": {
          "base_uri": "https://localhost:8080/",
          "height": 34
        },
        "outputId": "113c79ff-6a78-404e-862b-0c344c9f2a5b"
      },
      "source": [
        "gdp['2008'].mean()"
      ],
      "execution_count": 41,
      "outputs": [
        {
          "output_type": "execute_result",
          "data": {
            "text/plain": [
              "25322.777777777777"
            ]
          },
          "metadata": {
            "tags": []
          },
          "execution_count": 41
        }
      ]
    },
    {
      "cell_type": "code",
      "metadata": {
        "id": "y9wkD3-WbONb",
        "colab_type": "code",
        "colab": {
          "base_uri": "https://localhost:8080/",
          "height": 34
        },
        "outputId": "63d89cf2-0541-4163-9920-ef5e09a0d4e9"
      },
      "source": [
        "gdp['2009'].mean()"
      ],
      "execution_count": 42,
      "outputs": [
        {
          "output_type": "execute_result",
          "data": {
            "text/plain": [
              "24016.38888888889"
            ]
          },
          "metadata": {
            "tags": []
          },
          "execution_count": 42
        }
      ]
    },
    {
      "cell_type": "markdown",
      "metadata": {
        "id": "R2UUn1cob2zj",
        "colab_type": "text"
      },
      "source": [
        "Based on the Wilcoxon Result the gdp's median difference are not significantly different between 2007 and 2008. Although when looking between 2008 and 2009, the Wilcoxon Result presents a significantly different result between the two years. We conclude that the gdp is higher in 2008 than 2009 with a high degree of certainty based off our results."
      ]
    }
  ]
}