{
  "nbformat": 4,
  "nbformat_minor": 0,
  "metadata": {
    "colab": {
      "name": "Tarrant_Kalika_Assign_2.ipynb",
      "provenance": [],
      "collapsed_sections": []
    },
    "kernelspec": {
      "display_name": "Python 3",
      "language": "python",
      "name": "python3"
    },
    "language_info": {
      "codemirror_mode": {
        "name": "ipython",
        "version": 3
      },
      "file_extension": ".py",
      "mimetype": "text/x-python",
      "name": "python",
      "nbconvert_exporter": "python",
      "pygments_lexer": "ipython3",
      "version": "3.7.6"
    }
  },
  "cells": [
    {
      "cell_type": "markdown",
      "metadata": {
        "colab_type": "text",
        "id": "-LlIJmPujjKW"
      },
      "source": [
        "# Assignment\n",
        "\n",
        "For this assignment, you are going to apply statistical inference on [Titanic dataset](https://tf-assets-prod.s3.amazonaws.com/tf-curric/data-science/titanic.csv).\n",
        "\n",
        "\n",
        "Try to answer the following questions. Include a hypothesis and the test assumptions. **If the assumptions are valid**, try to conduct the t-test and addditionally calculate manually the 95% confidence interval which is derived from the hypothesis that you try to evaluate. Also try to come up with some valid findings from the data.\n",
        "\n",
        "\n",
        "\n",
        "1. Is it true that the younger a passenger was, they had more chance of survival? Is this difference statistically important? \n"
      ]
    },
    {
      "cell_type": "markdown",
      "metadata": {
        "id": "wWFvKz-C86ki",
        "colab_type": "text"
      },
      "source": [
        "##Age\n",
        "#null hypothesis - There is no difference between age and survival\n",
        "#alternative hypothesis - There is a significant difference between age and survival"
      ]
    },
    {
      "cell_type": "code",
      "metadata": {
        "id": "rm3CGDKlriEr",
        "colab_type": "code",
        "colab": {
          "base_uri": "https://localhost:8080/",
          "height": 586
        },
        "outputId": "ca47f317-78b6-40e9-85cf-65bad3448aaa"
      },
      "source": [
        "# Set up environment\n",
        "import math\n",
        "import pandas as pd\n",
        "import numpy as np\n",
        "from scipy import stats\n",
        "import matplotlib.pyplot as plt\n",
        "import seaborn as sns\n",
        "sns.set()\n",
        "\n",
        "# supress warnings (warnings do not prevent the code from executing)\n",
        "import warnings\n",
        "warnings.filterwarnings(\"ignore\")\n",
        "\n",
        "titanic = pd.read_csv('https://tf-assets-prod.s3.amazonaws.com/tf-curric/data-science/titanic.csv')\n",
        "\n",
        "# Get to know the data a bit\n",
        "titanic.info()\n",
        "\n",
        "titanic.head()"
      ],
      "execution_count": 1,
      "outputs": [
        {
          "output_type": "stream",
          "text": [
            "/usr/local/lib/python3.6/dist-packages/statsmodels/tools/_testing.py:19: FutureWarning: pandas.util.testing is deprecated. Use the functions in the public API at pandas.testing instead.\n",
            "  import pandas.util.testing as tm\n"
          ],
          "name": "stderr"
        },
        {
          "output_type": "stream",
          "text": [
            "<class 'pandas.core.frame.DataFrame'>\n",
            "RangeIndex: 891 entries, 0 to 890\n",
            "Data columns (total 12 columns):\n",
            " #   Column       Non-Null Count  Dtype  \n",
            "---  ------       --------------  -----  \n",
            " 0   PassengerId  891 non-null    int64  \n",
            " 1   Survived     891 non-null    int64  \n",
            " 2   Pclass       891 non-null    int64  \n",
            " 3   Name         891 non-null    object \n",
            " 4   Sex          891 non-null    object \n",
            " 5   Age          714 non-null    float64\n",
            " 6   SibSp        891 non-null    int64  \n",
            " 7   Parch        891 non-null    int64  \n",
            " 8   Ticket       891 non-null    object \n",
            " 9   Fare         891 non-null    float64\n",
            " 10  Cabin        204 non-null    object \n",
            " 11  Embarked     889 non-null    object \n",
            "dtypes: float64(2), int64(5), object(5)\n",
            "memory usage: 83.7+ KB\n"
          ],
          "name": "stdout"
        },
        {
          "output_type": "execute_result",
          "data": {
            "text/html": [
              "<div>\n",
              "<style scoped>\n",
              "    .dataframe tbody tr th:only-of-type {\n",
              "        vertical-align: middle;\n",
              "    }\n",
              "\n",
              "    .dataframe tbody tr th {\n",
              "        vertical-align: top;\n",
              "    }\n",
              "\n",
              "    .dataframe thead th {\n",
              "        text-align: right;\n",
              "    }\n",
              "</style>\n",
              "<table border=\"1\" class=\"dataframe\">\n",
              "  <thead>\n",
              "    <tr style=\"text-align: right;\">\n",
              "      <th></th>\n",
              "      <th>PassengerId</th>\n",
              "      <th>Survived</th>\n",
              "      <th>Pclass</th>\n",
              "      <th>Name</th>\n",
              "      <th>Sex</th>\n",
              "      <th>Age</th>\n",
              "      <th>SibSp</th>\n",
              "      <th>Parch</th>\n",
              "      <th>Ticket</th>\n",
              "      <th>Fare</th>\n",
              "      <th>Cabin</th>\n",
              "      <th>Embarked</th>\n",
              "    </tr>\n",
              "  </thead>\n",
              "  <tbody>\n",
              "    <tr>\n",
              "      <th>0</th>\n",
              "      <td>1</td>\n",
              "      <td>0</td>\n",
              "      <td>3</td>\n",
              "      <td>Braund, Mr. Owen Harris</td>\n",
              "      <td>male</td>\n",
              "      <td>22.0</td>\n",
              "      <td>1</td>\n",
              "      <td>0</td>\n",
              "      <td>A/5 21171</td>\n",
              "      <td>7.2500</td>\n",
              "      <td>NaN</td>\n",
              "      <td>S</td>\n",
              "    </tr>\n",
              "    <tr>\n",
              "      <th>1</th>\n",
              "      <td>2</td>\n",
              "      <td>1</td>\n",
              "      <td>1</td>\n",
              "      <td>Cumings, Mrs. John Bradley (Florence Briggs Th...</td>\n",
              "      <td>female</td>\n",
              "      <td>38.0</td>\n",
              "      <td>1</td>\n",
              "      <td>0</td>\n",
              "      <td>PC 17599</td>\n",
              "      <td>71.2833</td>\n",
              "      <td>C85</td>\n",
              "      <td>C</td>\n",
              "    </tr>\n",
              "    <tr>\n",
              "      <th>2</th>\n",
              "      <td>3</td>\n",
              "      <td>1</td>\n",
              "      <td>3</td>\n",
              "      <td>Heikkinen, Miss. Laina</td>\n",
              "      <td>female</td>\n",
              "      <td>26.0</td>\n",
              "      <td>0</td>\n",
              "      <td>0</td>\n",
              "      <td>STON/O2. 3101282</td>\n",
              "      <td>7.9250</td>\n",
              "      <td>NaN</td>\n",
              "      <td>S</td>\n",
              "    </tr>\n",
              "    <tr>\n",
              "      <th>3</th>\n",
              "      <td>4</td>\n",
              "      <td>1</td>\n",
              "      <td>1</td>\n",
              "      <td>Futrelle, Mrs. Jacques Heath (Lily May Peel)</td>\n",
              "      <td>female</td>\n",
              "      <td>35.0</td>\n",
              "      <td>1</td>\n",
              "      <td>0</td>\n",
              "      <td>113803</td>\n",
              "      <td>53.1000</td>\n",
              "      <td>C123</td>\n",
              "      <td>S</td>\n",
              "    </tr>\n",
              "    <tr>\n",
              "      <th>4</th>\n",
              "      <td>5</td>\n",
              "      <td>0</td>\n",
              "      <td>3</td>\n",
              "      <td>Allen, Mr. William Henry</td>\n",
              "      <td>male</td>\n",
              "      <td>35.0</td>\n",
              "      <td>0</td>\n",
              "      <td>0</td>\n",
              "      <td>373450</td>\n",
              "      <td>8.0500</td>\n",
              "      <td>NaN</td>\n",
              "      <td>S</td>\n",
              "    </tr>\n",
              "  </tbody>\n",
              "</table>\n",
              "</div>"
            ],
            "text/plain": [
              "   PassengerId  Survived  Pclass  ...     Fare Cabin  Embarked\n",
              "0            1         0       3  ...   7.2500   NaN         S\n",
              "1            2         1       1  ...  71.2833   C85         C\n",
              "2            3         1       3  ...   7.9250   NaN         S\n",
              "3            4         1       1  ...  53.1000  C123         S\n",
              "4            5         0       3  ...   8.0500   NaN         S\n",
              "\n",
              "[5 rows x 12 columns]"
            ]
          },
          "metadata": {
            "tags": []
          },
          "execution_count": 1
        }
      ]
    },
    {
      "cell_type": "code",
      "metadata": {
        "id": "go7OAJlQyzTF",
        "colab_type": "code",
        "colab": {
          "base_uri": "https://localhost:8080/",
          "height": 1000
        },
        "outputId": "d33396be-1035-4ae7-b9e0-6ffc22e555db"
      },
      "source": [
        "titanic = titanic.dropna()\n",
        "\n",
        "survived = titanic.iloc[(titanic[\"Survived\"] == 1).values][[\"Age\"]]\n",
        "not_survived = titanic.iloc[(titanic[\"Survived\"] == 0).values][[\"Age\"]]\n",
        "\n",
        "survived.head\n",
        "not_survived.head"
      ],
      "execution_count": 2,
      "outputs": [
        {
          "output_type": "execute_result",
          "data": {
            "text/plain": [
              "<bound method NDFrame.head of       Age\n",
              "6    54.0\n",
              "27   19.0\n",
              "54   65.0\n",
              "62   45.0\n",
              "75   25.0\n",
              "92   46.0\n",
              "96   71.0\n",
              "102  21.0\n",
              "110  47.0\n",
              "118  24.0\n",
              "124  54.0\n",
              "137  37.0\n",
              "139  24.0\n",
              "148  36.5\n",
              "170  61.0\n",
              "174  56.0\n",
              "177  50.0\n",
              "205   2.0\n",
              "245  44.0\n",
              "251  29.0\n",
              "252  62.0\n",
              "262  52.0\n",
              "263  40.0\n",
              "273  37.0\n",
              "292  36.0\n",
              "297   2.0\n",
              "331  45.5\n",
              "332  38.0\n",
              "336  29.0\n",
              "339  45.0\n",
              "377  27.0\n",
              "434  50.0\n",
              "438  64.0\n",
              "452  30.0\n",
              "456  65.0\n",
              "462  47.0\n",
              "487  58.0\n",
              "492  55.0\n",
              "498  25.0\n",
              "505  18.0\n",
              "515  47.0\n",
              "536  45.0\n",
              "544  50.0\n",
              "583  36.0\n",
              "625  61.0\n",
              "659  58.0\n",
              "662  47.0\n",
              "671  31.0\n",
              "698  49.0\n",
              "699  42.0\n",
              "715  19.0\n",
              "741  36.0\n",
              "745  70.0\n",
              "748  19.0\n",
              "772  57.0\n",
              "782  29.0\n",
              "789  46.0\n",
              "806  39.0\n",
              "867  31.0\n",
              "872  33.0>"
            ]
          },
          "metadata": {
            "tags": []
          },
          "execution_count": 2
        }
      ]
    },
    {
      "cell_type": "code",
      "metadata": {
        "id": "2Oepxu_N0t5_",
        "colab_type": "code",
        "colab": {
          "base_uri": "https://localhost:8080/",
          "height": 268
        },
        "outputId": "6b2c3051-6593-41a8-c2d3-317d35eb57d4"
      },
      "source": [
        "plt.hist(survived['Age'], alpha = .5, color='green')\n",
        "plt.hist(not_survived['Age'], alpha = .5, color='blue')\n",
        "plt.show()"
      ],
      "execution_count": 3,
      "outputs": [
        {
          "output_type": "display_data",
          "data": {
            "image/png": "[encoded data removed]",
            "text/plain": [
              "<Figure size 432x288 with 1 Axes>"
            ]
          },
          "metadata": {
            "tags": [],
            "needs_background": "light"
          }
        }
      ]
    },
    {
      "cell_type": "code",
      "metadata": {
        "id": "nOmKzpyk0R8V",
        "colab_type": "code",
        "colab": {
          "base_uri": "https://localhost:8080/",
          "height": 52
        },
        "outputId": "2bf62853-826f-435d-d5de-24d8e7bee0a9"
      },
      "source": [
        "print(stats.describe(survived['Age']))\n",
        "print(stats.describe(not_survived['Age']))"
      ],
      "execution_count": 4,
      "outputs": [
        {
          "output_type": "stream",
          "text": [
            "DescribeResult(nobs=123, minmax=(0.92, 80.0), mean=32.905853658536586, variance=221.71546053578567, skewness=0.11036517600265433, kurtosis=0.031225201077919262)\n",
            "DescribeResult(nobs=60, minmax=(2.0, 71.0), mean=41.35, variance=247.73135593220334, skewness=-0.30756108127889464, kurtosis=-0.2764299013556979)\n"
          ],
          "name": "stdout"
        }
      ]
    },
    {
      "cell_type": "code",
      "metadata": {
        "id": "ZV6rUe_11kRE",
        "colab_type": "code",
        "colab": {
          "base_uri": "https://localhost:8080/",
          "height": 34
        },
        "outputId": "b302dbf9-d4e4-4805-9972-ef839cc9f0bd"
      },
      "source": [
        "stats.ttest_ind(survived['Age'], not_survived['Age'])"
      ],
      "execution_count": 5,
      "outputs": [
        {
          "output_type": "execute_result",
          "data": {
            "text/plain": [
              "Ttest_indResult(statistic=-3.53435125095576, pvalue=0.0005189503307881672)"
            ]
          },
          "metadata": {
            "tags": []
          },
          "execution_count": 5
        }
      ]
    },
    {
      "cell_type": "code",
      "metadata": {
        "id": "ybadxk229RZL",
        "colab_type": "code",
        "colab": {
          "base_uri": "https://localhost:8080/",
          "height": 34
        },
        "outputId": "2ea58c7e-7a83-4203-bb22-90f8e81d0993"
      },
      "source": [
        "def get_95_ci(array_1, array_2):\n",
        "    sample_1_n = array_1.shape[0]\n",
        "    sample_2_n = array_2.shape[0]\n",
        "    sample_1_mean = array_1.mean()\n",
        "    sample_2_mean = array_2.mean()\n",
        "    sample_1_var = array_1.var()\n",
        "    sample_2_var = array_2.var()\n",
        "    mean_difference = sample_2_mean - sample_1_mean\n",
        "    std_err_difference = math.sqrt((sample_1_var/sample_1_n)+(sample_2_var/sample_2_n))\n",
        "    margin_of_error = 1.96 * std_err_difference\n",
        "    ci_lower = mean_difference - margin_of_error\n",
        "    ci_upper = mean_difference + margin_of_error\n",
        "    return(\"The difference in means at the 95% confidence interval (two-tail) is between \"+str(ci_lower)+\" and \"+str(ci_upper)+\".\")\n",
        "\n",
        "get_95_ci(survived['Age'], not_survived['Age'])"
      ],
      "execution_count": 6,
      "outputs": [
        {
          "output_type": "execute_result",
          "data": {
            "application/vnd.google.colaboratory.intrinsic+json": {
              "type": "string"
            },
            "text/plain": [
              "'The difference in means at the 95% confidence interval (two-tail) is between 3.670662752222926 and 13.217629930703906.'"
            ]
          },
          "metadata": {
            "tags": []
          },
          "execution_count": 6
        }
      ]
    },
    {
      "cell_type": "markdown",
      "metadata": {
        "id": "_cBBggSf13Wj",
        "colab_type": "text"
      },
      "source": [
        "The the passenger was the more likely they were to have survived on the titanic. Yes the difference in means in was statistically signifcant. We have a p value of .05%. We can reject the null hypothesis of no difference between means. "
      ]
    },
    {
      "cell_type": "markdown",
      "metadata": {
        "id": "yaXEjgI1reCW",
        "colab_type": "text"
      },
      "source": [
        "2. Is there a correlation between fare price and survival? Again, is this difference statistically important?\n",
        "\n",
        "As you are conducting the analysis, consider what other variables may be accounting for any significant differences you find. "
      ]
    },
    {
      "cell_type": "markdown",
      "metadata": {
        "id": "WFbZZ5A3_fDW",
        "colab_type": "text"
      },
      "source": [
        "#Fare\n",
        "##null hypothesis - There is no difference between fare and survival\n",
        "##alternative hypothesis - There is a significant difference between fare and survival"
      ]
    },
    {
      "cell_type": "code",
      "metadata": {
        "id": "n6X8pfWlrkRo",
        "colab_type": "code",
        "colab": {
          "base_uri": "https://localhost:8080/",
          "height": 304
        },
        "outputId": "e22f1447-fad3-4c13-92f5-207aad10e326"
      },
      "source": [
        "survived = titanic.iloc[(titanic[\"Survived\"] == 1).values][[\"Fare\"]]\n",
        "not_survived = titanic.iloc[(titanic[\"Survived\"] == 0).values][[\"Fare\"]]\n",
        "\n",
        "plt.hist(survived['Fare'], alpha = .5, color='green')\n",
        "plt.hist(not_survived['Fare'], alpha = .5, color='blue')\n",
        "plt.show()\n",
        "\n",
        "print(stats.describe(survived['Fare']))\n",
        "print(stats.describe(not_survived['Fare']))"
      ],
      "execution_count": 7,
      "outputs": [
        {
          "output_type": "display_data",
          "data": {
            "image/png": "[encoded data removed]",
            "text/plain": [
              "<Figure size 432x288 with 1 Axes>"
            ]
          },
          "metadata": {
            "tags": [],
            "needs_background": "light"
          }
        },
        {
          "output_type": "stream",
          "text": [
            "DescribeResult(nobs=123, minmax=(8.05, 512.3292), mean=85.82110650406504, variance=6698.362025553565, skewness=2.7788223952302076, kurtosis=10.470208979497217)\n",
            "DescribeResult(nobs=60, minmax=(0.0, 263.0), mean=64.04826166666666, variance=3806.0826273061334, skewness=1.8178850690104182, kurtosis=3.0369847427015557)\n"
          ],
          "name": "stdout"
        }
      ]
    },
    {
      "cell_type": "code",
      "metadata": {
        "id": "hhGm6iNn47xb",
        "colab_type": "code",
        "colab": {
          "base_uri": "https://localhost:8080/",
          "height": 225
        },
        "outputId": "4125145f-ddf8-485a-b82c-72bd6b847fc3"
      },
      "source": [
        "titanic[\"Fare\"].value_counts()"
      ],
      "execution_count": 8,
      "outputs": [
        {
          "output_type": "execute_result",
          "data": {
            "text/plain": [
              "26.5500     7\n",
              "53.1000     5\n",
              "13.0000     4\n",
              "120.0000    4\n",
              "263.0000    4\n",
              "           ..\n",
              "32.3208     1\n",
              "13.7917     1\n",
              "5.0000      1\n",
              "30.6958     1\n",
              "50.4958     1\n",
              "Name: Fare, Length: 93, dtype: int64"
            ]
          },
          "metadata": {
            "tags": []
          },
          "execution_count": 8
        }
      ]
    },
    {
      "cell_type": "code",
      "metadata": {
        "id": "aqdU4nnd5Xwm",
        "colab_type": "code",
        "colab": {
          "base_uri": "https://localhost:8080/",
          "height": 281
        },
        "outputId": "0bc809d6-18d0-4f1a-a13e-0d798b310a4e"
      },
      "source": [
        "print(stats.ttest_ind(survived['Fare'], not_survived['Fare']))\n",
        "\n",
        "titanic.corr(method=\"pearson\")\n"
      ],
      "execution_count": 9,
      "outputs": [
        {
          "output_type": "stream",
          "text": [
            "Ttest_indResult(statistic=1.8225248632226043, pvalue=0.0700255771493731)\n"
          ],
          "name": "stdout"
        },
        {
          "output_type": "execute_result",
          "data": {
            "text/html": [
              "<div>\n",
              "<style scoped>\n",
              "    .dataframe tbody tr th:only-of-type {\n",
              "        vertical-align: middle;\n",
              "    }\n",
              "\n",
              "    .dataframe tbody tr th {\n",
              "        vertical-align: top;\n",
              "    }\n",
              "\n",
              "    .dataframe thead th {\n",
              "        text-align: right;\n",
              "    }\n",
              "</style>\n",
              "<table border=\"1\" class=\"dataframe\">\n",
              "  <thead>\n",
              "    <tr style=\"text-align: right;\">\n",
              "      <th></th>\n",
              "      <th>PassengerId</th>\n",
              "      <th>Survived</th>\n",
              "      <th>Pclass</th>\n",
              "      <th>Age</th>\n",
              "      <th>SibSp</th>\n",
              "      <th>Parch</th>\n",
              "      <th>Fare</th>\n",
              "    </tr>\n",
              "  </thead>\n",
              "  <tbody>\n",
              "    <tr>\n",
              "      <th>PassengerId</th>\n",
              "      <td>1.000000</td>\n",
              "      <td>0.148495</td>\n",
              "      <td>-0.089136</td>\n",
              "      <td>0.030933</td>\n",
              "      <td>-0.083488</td>\n",
              "      <td>-0.051454</td>\n",
              "      <td>0.029740</td>\n",
              "    </tr>\n",
              "    <tr>\n",
              "      <th>Survived</th>\n",
              "      <td>0.148495</td>\n",
              "      <td>1.000000</td>\n",
              "      <td>-0.034542</td>\n",
              "      <td>-0.254085</td>\n",
              "      <td>0.106346</td>\n",
              "      <td>0.023582</td>\n",
              "      <td>0.134241</td>\n",
              "    </tr>\n",
              "    <tr>\n",
              "      <th>Pclass</th>\n",
              "      <td>-0.089136</td>\n",
              "      <td>-0.034542</td>\n",
              "      <td>1.000000</td>\n",
              "      <td>-0.306514</td>\n",
              "      <td>-0.103592</td>\n",
              "      <td>0.047496</td>\n",
              "      <td>-0.315235</td>\n",
              "    </tr>\n",
              "    <tr>\n",
              "      <th>Age</th>\n",
              "      <td>0.030933</td>\n",
              "      <td>-0.254085</td>\n",
              "      <td>-0.306514</td>\n",
              "      <td>1.000000</td>\n",
              "      <td>-0.156162</td>\n",
              "      <td>-0.271271</td>\n",
              "      <td>-0.092424</td>\n",
              "    </tr>\n",
              "    <tr>\n",
              "      <th>SibSp</th>\n",
              "      <td>-0.083488</td>\n",
              "      <td>0.106346</td>\n",
              "      <td>-0.103592</td>\n",
              "      <td>-0.156162</td>\n",
              "      <td>1.000000</td>\n",
              "      <td>0.255346</td>\n",
              "      <td>0.286433</td>\n",
              "    </tr>\n",
              "    <tr>\n",
              "      <th>Parch</th>\n",
              "      <td>-0.051454</td>\n",
              "      <td>0.023582</td>\n",
              "      <td>0.047496</td>\n",
              "      <td>-0.271271</td>\n",
              "      <td>0.255346</td>\n",
              "      <td>1.000000</td>\n",
              "      <td>0.389740</td>\n",
              "    </tr>\n",
              "    <tr>\n",
              "      <th>Fare</th>\n",
              "      <td>0.029740</td>\n",
              "      <td>0.134241</td>\n",
              "      <td>-0.315235</td>\n",
              "      <td>-0.092424</td>\n",
              "      <td>0.286433</td>\n",
              "      <td>0.389740</td>\n",
              "      <td>1.000000</td>\n",
              "    </tr>\n",
              "  </tbody>\n",
              "</table>\n",
              "</div>"
            ],
            "text/plain": [
              "             PassengerId  Survived    Pclass  ...     SibSp     Parch      Fare\n",
              "PassengerId     1.000000  0.148495 -0.089136  ... -0.083488 -0.051454  0.029740\n",
              "Survived        0.148495  1.000000 -0.034542  ...  0.106346  0.023582  0.134241\n",
              "Pclass         -0.089136 -0.034542  1.000000  ... -0.103592  0.047496 -0.315235\n",
              "Age             0.030933 -0.254085 -0.306514  ... -0.156162 -0.271271 -0.092424\n",
              "SibSp          -0.083488  0.106346 -0.103592  ...  1.000000  0.255346  0.286433\n",
              "Parch          -0.051454  0.023582  0.047496  ...  0.255346  1.000000  0.389740\n",
              "Fare            0.029740  0.134241 -0.315235  ...  0.286433  0.389740  1.000000\n",
              "\n",
              "[7 rows x 7 columns]"
            ]
          },
          "metadata": {
            "tags": []
          },
          "execution_count": 9
        }
      ]
    },
    {
      "cell_type": "markdown",
      "metadata": {
        "id": "h2IvcBHQ6p71",
        "colab_type": "text"
      },
      "source": [
        "Yes the is a very weak 0.13 correlation between fare price and survival. This difference is not statistically significant. We have a 7% p value which is not significant. We also have kurtosis and skewness outside what we would expect with a normal distribution. "
      ]
    }
  ]
}