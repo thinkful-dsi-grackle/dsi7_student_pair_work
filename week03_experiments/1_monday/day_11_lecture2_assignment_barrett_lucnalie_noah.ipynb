{
  "nbformat": 4,
  "nbformat_minor": 0,
  "metadata": {
    "colab": {
      "name": "day_11_lecture2_assignment_barrett_lucnalie_noah.ipynb",
      "provenance": [],
      "collapsed_sections": []
    },
    "kernelspec": {
      "display_name": "Python 3",
      "language": "python",
      "name": "python3"
    },
    "language_info": {
      "codemirror_mode": {
        "name": "ipython",
        "version": 3
      },
      "file_extension": ".py",
      "mimetype": "text/x-python",
      "name": "python",
      "nbconvert_exporter": "python",
      "pygments_lexer": "ipython3",
      "version": "3.7.6"
    }
  },
  "cells": [
    {
      "cell_type": "markdown",
      "metadata": {
        "colab_type": "text",
        "id": "-LlIJmPujjKW"
      },
      "source": [
        "# Assignment\n",
        "\n",
        "For this assignment, you are going to apply statistical inference on [Titanic dataset](https://tf-assets-prod.s3.amazonaws.com/tf-curric/data-science/titanic.csv).\n",
        "\n",
        "\n",
        "Try to answer the following questions. Include a hypothesis and the test assumptions. **If the assumptions are valid**, try to conduct the t-test and addditionally calculate manually the 95% confidence interval which is derived from the hypothesis that you try to evaluate. Also try to come up with some valid findings from the data.\n",
        "\n",
        "\n",
        "\n",
        "1. Is it true that the younger a passenger was, they had more chance of survival? Is this difference statistically important? \n",
        "2. Is there a correlation between fare price and survival? Again, is this difference statistically important?\n",
        "\n",
        "As you are conducting the analysis, consider what other variables may be accounting for any significant differences you find. "
      ]
    },
    {
      "cell_type": "markdown",
      "metadata": {
        "colab_type": "text",
        "id": "2eeeyNXpn0ct"
      },
      "source": [
        "##### More specifically, the tasks that you need to enounter in your deliverables are:\n",
        "\n",
        "1. Familiarize yourself with the dataset. Review the structure of it and focus on the fields necessary to answer the above mentioned questions.\n",
        "\n",
        "2. State the null and the alternative hypotheses that address the questions.\n",
        "\n",
        "3. Manipulate the dataset accordingly in order to prepare it for the statistical tests.\n",
        "\n",
        "4. Perform an exploratory analysis with summary statistics and corresponding visualizations, in order to gain a clearer view about the distributions of the samples. Focus on their differences.\n",
        "\n",
        "5. Perform the necessary normality checks in order to make sure that you can conduct the statistical tests.\n",
        "\n",
        "6. Apply t-test statistic if you pass successfully the normality checks\n",
        "\n",
        "7. For this exercise, you will also need to write a function to calculate the confidence interval using the standard error for comparing two means (used in t-statistic):\n",
        "\n",
        "$$\n",
        "    \\bar{X_1} - \\bar{X_2} \\pm z*\\sqrt{\\dfrac{s_1^2}{n_1} + \\dfrac{s_2^2}{n_2}}\n",
        "$$\n",
        "\n",
        "- $z$ is the critical value\n",
        "- $s_1$ sample 1 standard deviation\n",
        "- $s_2$ sample 2 standard deviation\n",
        "\n",
        "- Let $z=1.96$ for a 95% confidence level\n",
        "\n",
        "- Use the following method signature:\n",
        "\n",
        "    `def get_95_ci(data1, data2)`\n",
        "    \n",
        "\n",
        "8. Elaborate on the results of your analyses."
      ]
    },
    {
      "cell_type": "code",
      "metadata": {
        "id": "6a0EJBd0l80A",
        "colab_type": "code",
        "colab": {
          "base_uri": "https://localhost:8080/",
          "height": 71
        },
        "outputId": "6c078cad-70f6-44d5-c60a-7978ef1391d9"
      },
      "source": [
        "import pandas as pd\n",
        "from scipy import stats\n",
        "import math\n",
        "import matplotlib.pyplot as plt\n",
        "import seaborn as sns\n",
        "import numpy as np"
      ],
      "execution_count": 1,
      "outputs": [
        {
          "output_type": "stream",
          "text": [
            "/usr/local/lib/python3.6/dist-packages/statsmodels/tools/_testing.py:19: FutureWarning: pandas.util.testing is deprecated. Use the functions in the public API at pandas.testing instead.\n",
            "  import pandas.util.testing as tm\n"
          ],
          "name": "stderr"
        }
      ]
    },
    {
      "cell_type": "markdown",
      "metadata": {
        "id": "AuUXizRrl3Th",
        "colab_type": "text"
      },
      "source": [
        "**1. Familiarize yourself with the dataset. Review the structure of it and focus on the fields necessary to answer the above mentioned questions.**"
      ]
    },
    {
      "cell_type": "code",
      "metadata": {
        "colab_type": "code",
        "id": "PnEovpH4nZlv",
        "colab": {
          "base_uri": "https://localhost:8080/",
          "height": 527
        },
        "outputId": "a4ceef3f-b25a-49ce-ed33-d5b05608cc43"
      },
      "source": [
        "titanic_df = pd.read_csv('https://tf-assets-prod.s3.amazonaws.com/tf-curric/data-science/titanic.csv')\n",
        "\n",
        "titanic_df.info()\n",
        "\n",
        "titanic_df.head()"
      ],
      "execution_count": 2,
      "outputs": [
        {
          "output_type": "stream",
          "text": [
            "<class 'pandas.core.frame.DataFrame'>\n",
            "RangeIndex: 891 entries, 0 to 890\n",
            "Data columns (total 12 columns):\n",
            " #   Column       Non-Null Count  Dtype  \n",
            "---  ------       --------------  -----  \n",
            " 0   PassengerId  891 non-null    int64  \n",
            " 1   Survived     891 non-null    int64  \n",
            " 2   Pclass       891 non-null    int64  \n",
            " 3   Name         891 non-null    object \n",
            " 4   Sex          891 non-null    object \n",
            " 5   Age          714 non-null    float64\n",
            " 6   SibSp        891 non-null    int64  \n",
            " 7   Parch        891 non-null    int64  \n",
            " 8   Ticket       891 non-null    object \n",
            " 9   Fare         891 non-null    float64\n",
            " 10  Cabin        204 non-null    object \n",
            " 11  Embarked     889 non-null    object \n",
            "dtypes: float64(2), int64(5), object(5)\n",
            "memory usage: 83.7+ KB\n"
          ],
          "name": "stdout"
        },
        {
          "output_type": "execute_result",
          "data": {
            "text/html": [
              "<div>\n",
              "<style scoped>\n",
              "    .dataframe tbody tr th:only-of-type {\n",
              "        vertical-align: middle;\n",
              "    }\n",
              "\n",
              "    .dataframe tbody tr th {\n",
              "        vertical-align: top;\n",
              "    }\n",
              "\n",
              "    .dataframe thead th {\n",
              "        text-align: right;\n",
              "    }\n",
              "</style>\n",
              "<table border=\"1\" class=\"dataframe\">\n",
              "  <thead>\n",
              "    <tr style=\"text-align: right;\">\n",
              "      <th></th>\n",
              "      <th>PassengerId</th>\n",
              "      <th>Survived</th>\n",
              "      <th>Pclass</th>\n",
              "      <th>Name</th>\n",
              "      <th>Sex</th>\n",
              "      <th>Age</th>\n",
              "      <th>SibSp</th>\n",
              "      <th>Parch</th>\n",
              "      <th>Ticket</th>\n",
              "      <th>Fare</th>\n",
              "      <th>Cabin</th>\n",
              "      <th>Embarked</th>\n",
              "    </tr>\n",
              "  </thead>\n",
              "  <tbody>\n",
              "    <tr>\n",
              "      <th>0</th>\n",
              "      <td>1</td>\n",
              "      <td>0</td>\n",
              "      <td>3</td>\n",
              "      <td>Braund, Mr. Owen Harris</td>\n",
              "      <td>male</td>\n",
              "      <td>22.0</td>\n",
              "      <td>1</td>\n",
              "      <td>0</td>\n",
              "      <td>A/5 21171</td>\n",
              "      <td>7.2500</td>\n",
              "      <td>NaN</td>\n",
              "      <td>S</td>\n",
              "    </tr>\n",
              "    <tr>\n",
              "      <th>1</th>\n",
              "      <td>2</td>\n",
              "      <td>1</td>\n",
              "      <td>1</td>\n",
              "      <td>Cumings, Mrs. John Bradley (Florence Briggs Th...</td>\n",
              "      <td>female</td>\n",
              "      <td>38.0</td>\n",
              "      <td>1</td>\n",
              "      <td>0</td>\n",
              "      <td>PC 17599</td>\n",
              "      <td>71.2833</td>\n",
              "      <td>C85</td>\n",
              "      <td>C</td>\n",
              "    </tr>\n",
              "    <tr>\n",
              "      <th>2</th>\n",
              "      <td>3</td>\n",
              "      <td>1</td>\n",
              "      <td>3</td>\n",
              "      <td>Heikkinen, Miss. Laina</td>\n",
              "      <td>female</td>\n",
              "      <td>26.0</td>\n",
              "      <td>0</td>\n",
              "      <td>0</td>\n",
              "      <td>STON/O2. 3101282</td>\n",
              "      <td>7.9250</td>\n",
              "      <td>NaN</td>\n",
              "      <td>S</td>\n",
              "    </tr>\n",
              "    <tr>\n",
              "      <th>3</th>\n",
              "      <td>4</td>\n",
              "      <td>1</td>\n",
              "      <td>1</td>\n",
              "      <td>Futrelle, Mrs. Jacques Heath (Lily May Peel)</td>\n",
              "      <td>female</td>\n",
              "      <td>35.0</td>\n",
              "      <td>1</td>\n",
              "      <td>0</td>\n",
              "      <td>113803</td>\n",
              "      <td>53.1000</td>\n",
              "      <td>C123</td>\n",
              "      <td>S</td>\n",
              "    </tr>\n",
              "    <tr>\n",
              "      <th>4</th>\n",
              "      <td>5</td>\n",
              "      <td>0</td>\n",
              "      <td>3</td>\n",
              "      <td>Allen, Mr. William Henry</td>\n",
              "      <td>male</td>\n",
              "      <td>35.0</td>\n",
              "      <td>0</td>\n",
              "      <td>0</td>\n",
              "      <td>373450</td>\n",
              "      <td>8.0500</td>\n",
              "      <td>NaN</td>\n",
              "      <td>S</td>\n",
              "    </tr>\n",
              "  </tbody>\n",
              "</table>\n",
              "</div>"
            ],
            "text/plain": [
              "   PassengerId  Survived  Pclass  ...     Fare Cabin  Embarked\n",
              "0            1         0       3  ...   7.2500   NaN         S\n",
              "1            2         1       1  ...  71.2833   C85         C\n",
              "2            3         1       3  ...   7.9250   NaN         S\n",
              "3            4         1       1  ...  53.1000  C123         S\n",
              "4            5         0       3  ...   8.0500   NaN         S\n",
              "\n",
              "[5 rows x 12 columns]"
            ]
          },
          "metadata": {
            "tags": []
          },
          "execution_count": 2
        }
      ]
    },
    {
      "cell_type": "code",
      "metadata": {
        "id": "GYOeVLnPxPhz",
        "colab_type": "code",
        "colab": {
          "base_uri": "https://localhost:8080/",
          "height": 34
        },
        "outputId": "a93010ec-a681-42dd-8795-e0ab66d28372"
      },
      "source": [
        "titanic_df['Age'].isnull().sum()"
      ],
      "execution_count": 14,
      "outputs": [
        {
          "output_type": "execute_result",
          "data": {
            "text/plain": [
              "177"
            ]
          },
          "metadata": {
            "tags": []
          },
          "execution_count": 14
        }
      ]
    },
    {
      "cell_type": "code",
      "metadata": {
        "id": "CBblvoGDxE0T",
        "colab_type": "code",
        "colab": {
          "base_uri": "https://localhost:8080/",
          "height": 374
        },
        "outputId": "b5580f62-ad1b-4ac1-b130-02a8032383d3"
      },
      "source": [
        "plt.figure(figsize=(14,6))\n",
        "plt.hist(titanic_df['Age'].dropna())\n",
        "plt.show()"
      ],
      "execution_count": 15,
      "outputs": [
        {
          "output_type": "display_data",
          "data": {
            "image/png": "[encoded data removed]",
            "text/plain": [
              "<Figure size 1008x432 with 1 Axes>"
            ]
          },
          "metadata": {
            "tags": [],
            "needs_background": "light"
          }
        }
      ]
    },
    {
      "cell_type": "code",
      "metadata": {
        "id": "t2-ybHo37gfF",
        "colab_type": "code",
        "colab": {
          "base_uri": "https://localhost:8080/",
          "height": 374
        },
        "outputId": "25ca9cd9-0422-4115-d492-9fcbd1ce0b1e"
      },
      "source": [
        "plt.figure(figsize=(14,6))\n",
        "plt.hist(titanic_df['Fare'])\n",
        "plt.show()"
      ],
      "execution_count": 51,
      "outputs": [
        {
          "output_type": "display_data",
          "data": {
            "image/png": "[encoded data removed]",
            "text/plain": [
              "<Figure size 1008x432 with 1 Axes>"
            ]
          },
          "metadata": {
            "tags": [],
            "needs_background": "light"
          }
        }
      ]
    },
    {
      "cell_type": "markdown",
      "metadata": {
        "id": "ojbkIYvTnYOs",
        "colab_type": "text"
      },
      "source": [
        "**2. State the null and the alternative hypotheses that address the questions.**"
      ]
    },
    {
      "cell_type": "markdown",
      "metadata": {
        "id": "Fm7sP6-dnbwZ",
        "colab_type": "text"
      },
      "source": [
        "**Part 1.**\n",
        "\n",
        "Null Hypothesis: On average, there is no difference in the passenger's age and chance of survival.\n",
        "\n",
        "Alternative Hypothesis: On average, does the age of the passsenger increase or decrease the passenger's chance of survival?\n",
        "\n",
        "**Part 2.**\n",
        "\n",
        "Null Hypothesis: There is no correlation between the fare price and the passenger's chance of survival.\n",
        "\n",
        "Alternative Hypothesis: On average, does the fare price increase or decrease the passenger's chance of survival? "
      ]
    },
    {
      "cell_type": "markdown",
      "metadata": {
        "id": "INwfQKeDrwS4",
        "colab_type": "text"
      },
      "source": [
        "**3. Manipulate the dataset accordingly in order to prepare it for the statistical tests.**"
      ]
    },
    {
      "cell_type": "code",
      "metadata": {
        "id": "U51ZLyxG4LjZ",
        "colab_type": "code",
        "colab": {
          "base_uri": "https://localhost:8080/",
          "height": 663
        },
        "outputId": "80c9cbb7-b055-4a70-bd6d-85d8f3770f90"
      },
      "source": [
        "survived_yes = titanic_df[(titanic_df['Survived']== 1)]\n",
        "survived_yes.info()\n",
        "\n",
        "survived_no = titanic_df[(titanic_df['Survived']==0)]\n",
        "survived_no.info()"
      ],
      "execution_count": 34,
      "outputs": [
        {
          "output_type": "stream",
          "text": [
            "<class 'pandas.core.frame.DataFrame'>\n",
            "Int64Index: 342 entries, 1 to 889\n",
            "Data columns (total 12 columns):\n",
            " #   Column       Non-Null Count  Dtype  \n",
            "---  ------       --------------  -----  \n",
            " 0   PassengerId  342 non-null    int64  \n",
            " 1   Survived     342 non-null    int64  \n",
            " 2   Pclass       342 non-null    int64  \n",
            " 3   Name         342 non-null    object \n",
            " 4   Sex          342 non-null    object \n",
            " 5   Age          290 non-null    float64\n",
            " 6   SibSp        342 non-null    int64  \n",
            " 7   Parch        342 non-null    int64  \n",
            " 8   Ticket       342 non-null    object \n",
            " 9   Fare         342 non-null    float64\n",
            " 10  Cabin        136 non-null    object \n",
            " 11  Embarked     340 non-null    object \n",
            "dtypes: float64(2), int64(5), object(5)\n",
            "memory usage: 34.7+ KB\n",
            "<class 'pandas.core.frame.DataFrame'>\n",
            "Int64Index: 549 entries, 0 to 890\n",
            "Data columns (total 12 columns):\n",
            " #   Column       Non-Null Count  Dtype  \n",
            "---  ------       --------------  -----  \n",
            " 0   PassengerId  549 non-null    int64  \n",
            " 1   Survived     549 non-null    int64  \n",
            " 2   Pclass       549 non-null    int64  \n",
            " 3   Name         549 non-null    object \n",
            " 4   Sex          549 non-null    object \n",
            " 5   Age          424 non-null    float64\n",
            " 6   SibSp        549 non-null    int64  \n",
            " 7   Parch        549 non-null    int64  \n",
            " 8   Ticket       549 non-null    object \n",
            " 9   Fare         549 non-null    float64\n",
            " 10  Cabin        68 non-null     object \n",
            " 11  Embarked     549 non-null    object \n",
            "dtypes: float64(2), int64(5), object(5)\n",
            "memory usage: 55.8+ KB\n"
          ],
          "name": "stdout"
        }
      ]
    },
    {
      "cell_type": "code",
      "metadata": {
        "id": "z1HoVsGNrtJq",
        "colab_type": "code",
        "colab": {
          "base_uri": "https://localhost:8080/",
          "height": 663
        },
        "outputId": "deb23bed-c9a3-4eb8-f681-04508bc1ff7f"
      },
      "source": [
        "age_survived_yes = survived_yes[survived_yes['Age'].notna()]\n",
        "age_survived_yes.info()\n",
        "\n",
        "age_survived_no = survived_no[survived_no['Age'].notna()]\n",
        "age_survived_no.info()"
      ],
      "execution_count": 36,
      "outputs": [
        {
          "output_type": "stream",
          "text": [
            "<class 'pandas.core.frame.DataFrame'>\n",
            "Int64Index: 290 entries, 1 to 889\n",
            "Data columns (total 12 columns):\n",
            " #   Column       Non-Null Count  Dtype  \n",
            "---  ------       --------------  -----  \n",
            " 0   PassengerId  290 non-null    int64  \n",
            " 1   Survived     290 non-null    int64  \n",
            " 2   Pclass       290 non-null    int64  \n",
            " 3   Name         290 non-null    object \n",
            " 4   Sex          290 non-null    object \n",
            " 5   Age          290 non-null    float64\n",
            " 6   SibSp        290 non-null    int64  \n",
            " 7   Parch        290 non-null    int64  \n",
            " 8   Ticket       290 non-null    object \n",
            " 9   Fare         290 non-null    float64\n",
            " 10  Cabin        125 non-null    object \n",
            " 11  Embarked     288 non-null    object \n",
            "dtypes: float64(2), int64(5), object(5)\n",
            "memory usage: 29.5+ KB\n",
            "<class 'pandas.core.frame.DataFrame'>\n",
            "Int64Index: 424 entries, 0 to 890\n",
            "Data columns (total 12 columns):\n",
            " #   Column       Non-Null Count  Dtype  \n",
            "---  ------       --------------  -----  \n",
            " 0   PassengerId  424 non-null    int64  \n",
            " 1   Survived     424 non-null    int64  \n",
            " 2   Pclass       424 non-null    int64  \n",
            " 3   Name         424 non-null    object \n",
            " 4   Sex          424 non-null    object \n",
            " 5   Age          424 non-null    float64\n",
            " 6   SibSp        424 non-null    int64  \n",
            " 7   Parch        424 non-null    int64  \n",
            " 8   Ticket       424 non-null    object \n",
            " 9   Fare         424 non-null    float64\n",
            " 10  Cabin        60 non-null     object \n",
            " 11  Embarked     424 non-null    object \n",
            "dtypes: float64(2), int64(5), object(5)\n",
            "memory usage: 43.1+ KB\n"
          ],
          "name": "stdout"
        }
      ]
    },
    {
      "cell_type": "markdown",
      "metadata": {
        "id": "-pNe5DqKr6GH",
        "colab_type": "text"
      },
      "source": [
        "**4. Perform an exploratory analysis with summary statistics and corresponding visualizations, in order to gain a clearer view about the distributions of the samples. Focus on their differences.**"
      ]
    },
    {
      "cell_type": "markdown",
      "metadata": {
        "id": "DhBLuQXSr83e",
        "colab_type": "text"
      },
      "source": [
        "**Part 1- Age vs Survival**"
      ]
    },
    {
      "cell_type": "code",
      "metadata": {
        "id": "m0SQX7XjmWN0",
        "colab_type": "code",
        "colab": {
          "base_uri": "https://localhost:8080/",
          "height": 374
        },
        "outputId": "4da7eb50-fe66-4253-b408-4f21cc08cf45"
      },
      "source": [
        "plt.figure(figsize=(14,6))\n",
        "plt.hist(age_survived_yes['Age'], alpha = 0.5, label = 'survived_yes')\n",
        "plt.hist(age_survived_no['Age'], alpha = 0.5, label= 'survived_no')\n",
        "plt.legend()\n",
        "plt.show()"
      ],
      "execution_count": 33,
      "outputs": [
        {
          "output_type": "display_data",
          "data": {
            "image/png": "[encoded data removed]",
            "text/plain": [
              "<Figure size 1008x432 with 1 Axes>"
            ]
          },
          "metadata": {
            "tags": [],
            "needs_background": "light"
          }
        }
      ]
    },
    {
      "cell_type": "markdown",
      "metadata": {
        "id": "FIx67M4G3z9p",
        "colab_type": "text"
      },
      "source": [
        "**Part 2- Fare vs Survival**"
      ]
    },
    {
      "cell_type": "code",
      "metadata": {
        "id": "vGyrCfdc324K",
        "colab_type": "code",
        "colab": {
          "base_uri": "https://localhost:8080/",
          "height": 374
        },
        "outputId": "49cb144e-c992-4fed-d7b7-3c89fa714147"
      },
      "source": [
        "plt.figure(figsize=(14,6))\n",
        "plt.hist(survived_yes['Fare'], alpha = 0.5, label = 'survived_yes')\n",
        "plt.hist(survived_no['Fare'], alpha = 0.5, label= 'survived_no')\n",
        "plt.legend()\n",
        "plt.show()"
      ],
      "execution_count": 37,
      "outputs": [
        {
          "output_type": "display_data",
          "data": {
            "image/png": "[encoded data removed]",
            "text/plain": [
              "<Figure size 1008x432 with 1 Axes>"
            ]
          },
          "metadata": {
            "tags": [],
            "needs_background": "light"
          }
        }
      ]
    },
    {
      "cell_type": "markdown",
      "metadata": {
        "id": "ZMsZSBHy2J8k",
        "colab_type": "text"
      },
      "source": [
        "**5. Perform the necessary normality checks in order to make sure that you can conduct the statistical tests.**"
      ]
    },
    {
      "cell_type": "markdown",
      "metadata": {
        "id": "FhL36R_e2lgu",
        "colab_type": "text"
      },
      "source": [
        "**Part 1- Age vs Survival**"
      ]
    },
    {
      "cell_type": "code",
      "metadata": {
        "id": "lPoyfw5bvLjI",
        "colab_type": "code",
        "colab": {
          "base_uri": "https://localhost:8080/",
          "height": 54
        },
        "outputId": "3894b242-deab-419b-e65e-94bbc0c03023"
      },
      "source": [
        "stats.describe(age_survived_yes['Age'])"
      ],
      "execution_count": 38,
      "outputs": [
        {
          "output_type": "execute_result",
          "data": {
            "text/plain": [
              "DescribeResult(nobs=290, minmax=(0.42, 80.0), mean=28.343689655172415, variance=223.53096523207253, skewness=0.17952298982985943, kurtosis=-0.07723188107788648)"
            ]
          },
          "metadata": {
            "tags": []
          },
          "execution_count": 38
        }
      ]
    },
    {
      "cell_type": "code",
      "metadata": {
        "id": "MvKASSG7vfqz",
        "colab_type": "code",
        "colab": {
          "base_uri": "https://localhost:8080/",
          "height": 34
        },
        "outputId": "a6b64507-31a2-49ca-f1b8-2a941266f712"
      },
      "source": [
        "stats.describe(age_survived_no['Age'])"
      ],
      "execution_count": 39,
      "outputs": [
        {
          "output_type": "execute_result",
          "data": {
            "text/plain": [
              "DescribeResult(nobs=424, minmax=(1.0, 74.0), mean=30.62617924528302, variance=200.84869836968645, skewness=0.5835101027554267, kurtosis=0.2652058747777071)"
            ]
          },
          "metadata": {
            "tags": []
          },
          "execution_count": 39
        }
      ]
    },
    {
      "cell_type": "code",
      "metadata": {
        "id": "L2IENX_5v8l7",
        "colab_type": "code",
        "colab": {
          "base_uri": "https://localhost:8080/",
          "height": 170
        },
        "outputId": "129334c3-fca0-4063-c603-dd11fd9418a9"
      },
      "source": [
        "print('Shapiro-Wilk:')\n",
        "print(stats.shapiro(age_survived_yes['Age']))\n",
        "print(stats.shapiro(age_survived_no['Age']))\n",
        "print('Jarque-Bera:')\n",
        "print(stats.jarque_bera(age_survived_yes['Age']))\n",
        "print(stats.jarque_bera(age_survived_no['Age']))\n",
        "print('D\\'Agostino-Pearson:')\n",
        "print(stats.normaltest(age_survived_yes['Age']))\n",
        "print(stats.normaltest(age_survived_no['Age']))"
      ],
      "execution_count": 40,
      "outputs": [
        {
          "output_type": "stream",
          "text": [
            "Shapiro-Wilk:\n",
            "(0.9827256798744202, 0.0014263729099184275)\n",
            "(0.968936026096344, 7.814121261162654e-08)\n",
            "Jarque-Bera:\n",
            "(1.6297852458226854, 0.44268685923551987)\n",
            "(25.303442250873925, 3.2020442454205877e-06)\n",
            "D'Agostino-Pearson:\n",
            "NormaltestResult(statistic=1.6177859604065434, pvalue=0.44535080559478313)\n",
            "NormaltestResult(statistic=23.069052752540895, pvalue=9.786307175880915e-06)\n"
          ],
          "name": "stdout"
        }
      ]
    },
    {
      "cell_type": "markdown",
      "metadata": {
        "id": "9zV3YrJN2Dxp",
        "colab_type": "text"
      },
      "source": [
        "Though the graph doesn't look normal, the values for skewness and kurtosis are small and the difference in variance is relatively small as well. Therefore, we can determine the distribution is normal enough for a t-test."
      ]
    },
    {
      "cell_type": "markdown",
      "metadata": {
        "id": "krhGwFUU3vSR",
        "colab_type": "text"
      },
      "source": [
        "**Part 2- Fare vs Survival**"
      ]
    },
    {
      "cell_type": "code",
      "metadata": {
        "id": "M-YXuNHMznOp",
        "colab_type": "code",
        "colab": {
          "base_uri": "https://localhost:8080/",
          "height": 54
        },
        "outputId": "c1887066-58fb-4ea0-8729-ffd17558ee0c"
      },
      "source": [
        "stats.describe(survived_yes['Fare'])"
      ],
      "execution_count": 41,
      "outputs": [
        {
          "output_type": "execute_result",
          "data": {
            "text/plain": [
              "DescribeResult(nobs=342, minmax=(0.0, 512.3292), mean=48.39540760233918, variance=4435.160158368154, skewness=3.8458166819167294, kurtosis=20.343694359915972)"
            ]
          },
          "metadata": {
            "tags": []
          },
          "execution_count": 41
        }
      ]
    },
    {
      "cell_type": "code",
      "metadata": {
        "id": "GpM9p7rz4oTU",
        "colab_type": "code",
        "colab": {
          "base_uri": "https://localhost:8080/",
          "height": 34
        },
        "outputId": "676c5d4c-ba05-4aa4-e8ca-02accfa24ce0"
      },
      "source": [
        "stats.describe(survived_no['Fare'])"
      ],
      "execution_count": 42,
      "outputs": [
        {
          "output_type": "execute_result",
          "data": {
            "text/plain": [
              "DescribeResult(nobs=549, minmax=(0.0, 263.0), mean=22.117886885245902, variance=985.2195092053387, skewness=4.540690741165962, kurtosis=26.12023942326097)"
            ]
          },
          "metadata": {
            "tags": []
          },
          "execution_count": 42
        }
      ]
    },
    {
      "cell_type": "code",
      "metadata": {
        "id": "4YIqQqC24oD1",
        "colab_type": "code",
        "colab": {
          "base_uri": "https://localhost:8080/",
          "height": 170
        },
        "outputId": "37c543f4-a2db-4441-9323-35df8af89f0a"
      },
      "source": [
        "print('Shapiro-Wilk:')\n",
        "print(stats.shapiro(survived_yes['Fare']))\n",
        "print(stats.shapiro(survived_no['Fare']))\n",
        "print('Jarque-Bera:')\n",
        "print(stats.jarque_bera(survived_yes['Fare']))\n",
        "print(stats.jarque_bera(survived_no['Fare']))\n",
        "print('D\\'Agostino-Pearson:')\n",
        "print(stats.normaltest(survived_yes['Fare']))\n",
        "print(stats.normaltest(survived_no['Fare']))"
      ],
      "execution_count": 43,
      "outputs": [
        {
          "output_type": "stream",
          "text": [
            "Shapiro-Wilk:\n",
            "(0.5967270135879517, 1.8337420335182354e-27)\n",
            "(0.513036847114563, 3.233740189307736e-36)\n",
            "Jarque-Bera:\n",
            "(6740.636517189708, 0.0)\n",
            "(17493.39083494619, 0.0)\n",
            "D'Agostino-Pearson:\n",
            "NormaltestResult(statistic=310.50821173969666, pvalue=3.749717312272261e-68)\n",
            "NormaltestResult(statistic=542.7161174365979, pvalue=1.4147916196682132e-118)\n"
          ],
          "name": "stdout"
        }
      ]
    },
    {
      "cell_type": "markdown",
      "metadata": {
        "id": "Dt7o0owO41Fb",
        "colab_type": "text"
      },
      "source": [
        "The distribution is clearly not normal as can be seen both in the visualization above and the statistical analysis that shows a large difference in variance, larger than 3 skewness, and kurtosis values well above 1. Therefore, it does not pass the normality checks."
      ]
    },
    {
      "cell_type": "markdown",
      "metadata": {
        "id": "Khjt5JOV2Ob8",
        "colab_type": "text"
      },
      "source": [
        "**6. Apply t-test statistic if you pass successfully the normality checks**"
      ]
    },
    {
      "cell_type": "code",
      "metadata": {
        "id": "5hZ9-tEn2Ppq",
        "colab_type": "code",
        "colab": {
          "base_uri": "https://localhost:8080/",
          "height": 34
        },
        "outputId": "f5b32257-fdf0-4e53-f817-c7639078436a"
      },
      "source": [
        "stats.ttest_ind(age_survived_yes['Age'], age_survived_no['Age'])"
      ],
      "execution_count": 44,
      "outputs": [
        {
          "output_type": "execute_result",
          "data": {
            "text/plain": [
              "Ttest_indResult(statistic=-2.06668694625381, pvalue=0.03912465401348249)"
            ]
          },
          "metadata": {
            "tags": []
          },
          "execution_count": 44
        }
      ]
    },
    {
      "cell_type": "markdown",
      "metadata": {
        "id": "4MC4lzk52Wuy",
        "colab_type": "text"
      },
      "source": [
        "**7. For this exercise, you will also need to write a function to calculate the confidence interval using the standard error for comparing two means (used in t-statistic)**"
      ]
    },
    {
      "cell_type": "code",
      "metadata": {
        "id": "p317ear-2X5I",
        "colab_type": "code",
        "colab": {}
      },
      "source": [
        "def get_95_ci(array_1, array_2):\n",
        "  sample_1_n = array_1.shape[0]\n",
        "  sample_2_n = array_2.shape[0]\n",
        "  sample_1_mean = array_1.mean()\n",
        "  sample_2_mean = array_2.mean()\n",
        "  sample_1_var = array_1.var()\n",
        "  sample_2_var = array_2.var()\n",
        "  mean_diff = sample_2_mean - sample_1_mean\n",
        "  se_diff = math.sqrt((sample_1_var/sample_1_n)+(sample_2_var/sample_2_n))\n",
        "  ci_lower = mean_diff - (1.96*se_diff)\n",
        "  ci_upper = mean_diff + (1.96*se_diff)\n",
        "  return (ci_lower, ci_upper)"
      ],
      "execution_count": 49,
      "outputs": []
    },
    {
      "cell_type": "code",
      "metadata": {
        "id": "MmAGQbgx7JbX",
        "colab_type": "code",
        "colab": {
          "base_uri": "https://localhost:8080/",
          "height": 34
        },
        "outputId": "ac39c449-946c-4b63-89d9-9aad2c380aa6"
      },
      "source": [
        "get_95_ci(age_survived_yes['Age'], age_survived_no['Age'])"
      ],
      "execution_count": 50,
      "outputs": [
        {
          "output_type": "execute_result",
          "data": {
            "text/plain": [
              "(0.0959725945838561, 4.469006585637352)"
            ]
          },
          "metadata": {
            "tags": []
          },
          "execution_count": 50
        }
      ]
    },
    {
      "cell_type": "markdown",
      "metadata": {
        "id": "eFbqAvBe2aSy",
        "colab_type": "text"
      },
      "source": [
        "**8. Elaborate on the results of your analyses.**"
      ]
    },
    {
      "cell_type": "markdown",
      "metadata": {
        "id": "f7XIQi265sVz",
        "colab_type": "text"
      },
      "source": [
        "**Part 1- Age vs Survival**\n",
        "\n",
        "The p-value is about 0.04 and is less than 0.05, therefore we can barely reject the null hypothesis.\n",
        "\n",
        "So we can say there is a 4% chance of observing a difference as large or larger as was observed due to random error.\n",
        "\n",
        "We can say with 95% confidence that on average the age of a survivor is between .01 to 4.47 years younger than the age of a non-survivor. Therefore, our alternative hypothesis is true as a younger passenger had a slightly higher chance of survival.\n"
      ]
    },
    {
      "cell_type": "code",
      "metadata": {
        "id": "dxuyD_zx91n_",
        "colab_type": "code",
        "colab": {
          "base_uri": "https://localhost:8080/",
          "height": 266
        },
        "outputId": "bba65dd0-42d8-431f-cb27-33fd3ce79381"
      },
      "source": [
        "g = sns.pointplot(data=[age_survived_yes['Age'],\n",
        "                        age_survived_no['Age']], join=False)\n",
        "                        \n",
        "g.set(xticklabels = ['survived_yes', 'survived_no'])\n",
        "plt.ylabel('Age')\n",
        "plt.show()"
      ],
      "execution_count": 56,
      "outputs": [
        {
          "output_type": "display_data",
          "data": {
            "image/png": "[encoded data removed]",
            "text/plain": [
              "<Figure size 432x288 with 1 Axes>"
            ]
          },
          "metadata": {
            "tags": [],
            "needs_background": "light"
          }
        }
      ]
    },
    {
      "cell_type": "markdown",
      "metadata": {
        "id": "eIqDAa7H9XbV",
        "colab_type": "text"
      },
      "source": [
        "**Part 2- Fare vs Survival**\n",
        "\n",
        "This distribution did not pass the normality checks, therefore we could not conclude whether our hypotheses are true or not."
      ]
    }
  ]
}