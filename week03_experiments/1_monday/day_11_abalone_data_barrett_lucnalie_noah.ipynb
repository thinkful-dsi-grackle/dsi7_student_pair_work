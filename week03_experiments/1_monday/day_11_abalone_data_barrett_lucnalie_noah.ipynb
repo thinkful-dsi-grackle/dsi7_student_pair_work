{
  "nbformat": 4,
  "nbformat_minor": 0,
  "metadata": {
    "colab": {
      "name": "day_11_abalone_data_barrett_lucnalie_noah.ipynb",
      "provenance": []
    },
    "kernelspec": {
      "name": "python3",
      "display_name": "Python 3"
    }
  },
  "cells": [
    {
      "cell_type": "markdown",
      "metadata": {
        "id": "ZVjxmyzWtE6l",
        "colab_type": "text"
      },
      "source": [
        "Download the [abalone](https://tf-assets-prod.s3.amazonaws.com/tf-curric/data-science/abalone_csv.csv) dataset.\n",
        "\n",
        "We would like to test whether the whole weight of the snail is on average different between male and female snails.\n",
        "\n",
        "* Does this data meet the assumptions to answer such a question statistically?\n",
        "\n",
        "* What are the formal hypotheses?\n",
        "\n",
        "* Conduct the hypothesis test. What is the p-value? What can you say given the p-value and significance level?\n"
      ]
    },
    {
      "cell_type": "code",
      "metadata": {
        "id": "NZFQPSBItCxG",
        "colab_type": "code",
        "colab": {}
      },
      "source": [
        "import pandas as pd\n",
        "import seaborn as sns\n",
        "import matplotlib.pyplot as plt\n",
        "import numpy as np\n",
        "from scipy import stats\n",
        "import math"
      ],
      "execution_count": null,
      "outputs": []
    },
    {
      "cell_type": "code",
      "metadata": {
        "id": "A9jloplytdZL",
        "colab_type": "code",
        "colab": {}
      },
      "source": [
        "abalone_df = pd.read_csv('https://tf-assets-prod.s3.amazonaws.com/tf-curric/data-science/abalone_csv.csv')"
      ],
      "execution_count": null,
      "outputs": []
    },
    {
      "cell_type": "code",
      "metadata": {
        "id": "slOHkgs5tk8b",
        "colab_type": "code",
        "colab": {
          "base_uri": "https://localhost:8080/",
          "height": 289
        },
        "outputId": "2dd36402-403c-4212-838f-e238044c9fba"
      },
      "source": [
        "abalone_df.info()"
      ],
      "execution_count": null,
      "outputs": [
        {
          "output_type": "stream",
          "text": [
            "<class 'pandas.core.frame.DataFrame'>\n",
            "RangeIndex: 4177 entries, 0 to 4176\n",
            "Data columns (total 9 columns):\n",
            " #   Column                 Non-Null Count  Dtype  \n",
            "---  ------                 --------------  -----  \n",
            " 0   Sex                    4177 non-null   object \n",
            " 1   Length                 4177 non-null   float64\n",
            " 2   Diameter               4177 non-null   float64\n",
            " 3   Height                 4177 non-null   float64\n",
            " 4   Whole_weight           4177 non-null   float64\n",
            " 5   Shucked_weight         4177 non-null   float64\n",
            " 6   Viscera_weight         4177 non-null   float64\n",
            " 7   Shell_weight           4177 non-null   float64\n",
            " 8   Class_number_of_rings  4177 non-null   int64  \n",
            "dtypes: float64(7), int64(1), object(1)\n",
            "memory usage: 293.8+ KB\n"
          ],
          "name": "stdout"
        }
      ]
    },
    {
      "cell_type": "code",
      "metadata": {
        "id": "7Jm9V3pEtmT0",
        "colab_type": "code",
        "colab": {
          "base_uri": "https://localhost:8080/",
          "height": 204
        },
        "outputId": "506114b8-8131-4fed-9ee7-a4c48dcd800a"
      },
      "source": [
        "abalone_df.head()"
      ],
      "execution_count": null,
      "outputs": [
        {
          "output_type": "execute_result",
          "data": {
            "text/html": [
              "<div>\n",
              "<style scoped>\n",
              "    .dataframe tbody tr th:only-of-type {\n",
              "        vertical-align: middle;\n",
              "    }\n",
              "\n",
              "    .dataframe tbody tr th {\n",
              "        vertical-align: top;\n",
              "    }\n",
              "\n",
              "    .dataframe thead th {\n",
              "        text-align: right;\n",
              "    }\n",
              "</style>\n",
              "<table border=\"1\" class=\"dataframe\">\n",
              "  <thead>\n",
              "    <tr style=\"text-align: right;\">\n",
              "      <th></th>\n",
              "      <th>Sex</th>\n",
              "      <th>Length</th>\n",
              "      <th>Diameter</th>\n",
              "      <th>Height</th>\n",
              "      <th>Whole_weight</th>\n",
              "      <th>Shucked_weight</th>\n",
              "      <th>Viscera_weight</th>\n",
              "      <th>Shell_weight</th>\n",
              "      <th>Class_number_of_rings</th>\n",
              "    </tr>\n",
              "  </thead>\n",
              "  <tbody>\n",
              "    <tr>\n",
              "      <th>0</th>\n",
              "      <td>M</td>\n",
              "      <td>0.455</td>\n",
              "      <td>0.365</td>\n",
              "      <td>0.095</td>\n",
              "      <td>0.5140</td>\n",
              "      <td>0.2245</td>\n",
              "      <td>0.1010</td>\n",
              "      <td>0.150</td>\n",
              "      <td>15</td>\n",
              "    </tr>\n",
              "    <tr>\n",
              "      <th>1</th>\n",
              "      <td>M</td>\n",
              "      <td>0.350</td>\n",
              "      <td>0.265</td>\n",
              "      <td>0.090</td>\n",
              "      <td>0.2255</td>\n",
              "      <td>0.0995</td>\n",
              "      <td>0.0485</td>\n",
              "      <td>0.070</td>\n",
              "      <td>7</td>\n",
              "    </tr>\n",
              "    <tr>\n",
              "      <th>2</th>\n",
              "      <td>F</td>\n",
              "      <td>0.530</td>\n",
              "      <td>0.420</td>\n",
              "      <td>0.135</td>\n",
              "      <td>0.6770</td>\n",
              "      <td>0.2565</td>\n",
              "      <td>0.1415</td>\n",
              "      <td>0.210</td>\n",
              "      <td>9</td>\n",
              "    </tr>\n",
              "    <tr>\n",
              "      <th>3</th>\n",
              "      <td>M</td>\n",
              "      <td>0.440</td>\n",
              "      <td>0.365</td>\n",
              "      <td>0.125</td>\n",
              "      <td>0.5160</td>\n",
              "      <td>0.2155</td>\n",
              "      <td>0.1140</td>\n",
              "      <td>0.155</td>\n",
              "      <td>10</td>\n",
              "    </tr>\n",
              "    <tr>\n",
              "      <th>4</th>\n",
              "      <td>I</td>\n",
              "      <td>0.330</td>\n",
              "      <td>0.255</td>\n",
              "      <td>0.080</td>\n",
              "      <td>0.2050</td>\n",
              "      <td>0.0895</td>\n",
              "      <td>0.0395</td>\n",
              "      <td>0.055</td>\n",
              "      <td>7</td>\n",
              "    </tr>\n",
              "  </tbody>\n",
              "</table>\n",
              "</div>"
            ],
            "text/plain": [
              "  Sex  Length  Diameter  ...  Viscera_weight  Shell_weight  Class_number_of_rings\n",
              "0   M   0.455     0.365  ...          0.1010         0.150                     15\n",
              "1   M   0.350     0.265  ...          0.0485         0.070                      7\n",
              "2   F   0.530     0.420  ...          0.1415         0.210                      9\n",
              "3   M   0.440     0.365  ...          0.1140         0.155                     10\n",
              "4   I   0.330     0.255  ...          0.0395         0.055                      7\n",
              "\n",
              "[5 rows x 9 columns]"
            ]
          },
          "metadata": {
            "tags": []
          },
          "execution_count": 4
        }
      ]
    },
    {
      "cell_type": "code",
      "metadata": {
        "id": "pZAuNAHZtnUh",
        "colab_type": "code",
        "colab": {}
      },
      "source": [
        "male_snails = abalone_df[(abalone_df['Sex']=='M')]\n",
        "female_snails = abalone_df[(abalone_df['Sex']=='F')]"
      ],
      "execution_count": null,
      "outputs": []
    },
    {
      "cell_type": "code",
      "metadata": {
        "id": "lq-guRg1t0fo",
        "colab_type": "code",
        "colab": {
          "base_uri": "https://localhost:8080/",
          "height": 289
        },
        "outputId": "eafff059-c4a3-4e96-c310-4669c6383fbc"
      },
      "source": [
        "male_snails.info()"
      ],
      "execution_count": null,
      "outputs": [
        {
          "output_type": "stream",
          "text": [
            "<class 'pandas.core.frame.DataFrame'>\n",
            "Int64Index: 1528 entries, 0 to 4176\n",
            "Data columns (total 9 columns):\n",
            " #   Column                 Non-Null Count  Dtype  \n",
            "---  ------                 --------------  -----  \n",
            " 0   Sex                    1528 non-null   object \n",
            " 1   Length                 1528 non-null   float64\n",
            " 2   Diameter               1528 non-null   float64\n",
            " 3   Height                 1528 non-null   float64\n",
            " 4   Whole_weight           1528 non-null   float64\n",
            " 5   Shucked_weight         1528 non-null   float64\n",
            " 6   Viscera_weight         1528 non-null   float64\n",
            " 7   Shell_weight           1528 non-null   float64\n",
            " 8   Class_number_of_rings  1528 non-null   int64  \n",
            "dtypes: float64(7), int64(1), object(1)\n",
            "memory usage: 119.4+ KB\n"
          ],
          "name": "stdout"
        }
      ]
    },
    {
      "cell_type": "code",
      "metadata": {
        "id": "5k290Pbnt2Fz",
        "colab_type": "code",
        "colab": {
          "base_uri": "https://localhost:8080/",
          "height": 289
        },
        "outputId": "e21bba21-3e92-424b-edcf-5f76126b47c6"
      },
      "source": [
        "female_snails.info()"
      ],
      "execution_count": null,
      "outputs": [
        {
          "output_type": "stream",
          "text": [
            "<class 'pandas.core.frame.DataFrame'>\n",
            "Int64Index: 1307 entries, 2 to 4175\n",
            "Data columns (total 9 columns):\n",
            " #   Column                 Non-Null Count  Dtype  \n",
            "---  ------                 --------------  -----  \n",
            " 0   Sex                    1307 non-null   object \n",
            " 1   Length                 1307 non-null   float64\n",
            " 2   Diameter               1307 non-null   float64\n",
            " 3   Height                 1307 non-null   float64\n",
            " 4   Whole_weight           1307 non-null   float64\n",
            " 5   Shucked_weight         1307 non-null   float64\n",
            " 6   Viscera_weight         1307 non-null   float64\n",
            " 7   Shell_weight           1307 non-null   float64\n",
            " 8   Class_number_of_rings  1307 non-null   int64  \n",
            "dtypes: float64(7), int64(1), object(1)\n",
            "memory usage: 102.1+ KB\n"
          ],
          "name": "stdout"
        }
      ]
    },
    {
      "cell_type": "code",
      "metadata": {
        "id": "ezzLRBaJt3bI",
        "colab_type": "code",
        "colab": {
          "base_uri": "https://localhost:8080/",
          "height": 374
        },
        "outputId": "bd7a3207-96fb-4e38-e6be-fdd72160cc0c"
      },
      "source": [
        "plt.figure(figsize=(14,6))\n",
        "plt.hist(male_snails['Whole_weight'], alpha= .5, label='male weight')\n",
        "plt.hist(female_snails['Whole_weight'], alpha = .5, label='female weight')\n",
        "plt.legend()\n",
        "plt.show()"
      ],
      "execution_count": null,
      "outputs": [
        {
          "output_type": "display_data",
          "data": {
            "image/png": "[encoded data removed]",
            "text/plain": [
              "<Figure size 1008x432 with 1 Axes>"
            ]
          },
          "metadata": {
            "tags": [],
            "needs_background": "light"
          }
        }
      ]
    },
    {
      "cell_type": "code",
      "metadata": {
        "id": "i0wLILpmuLoH",
        "colab_type": "code",
        "colab": {
          "base_uri": "https://localhost:8080/",
          "height": 54
        },
        "outputId": "3c37c843-0a65-4b77-8a19-dcbee82a3a29"
      },
      "source": [
        "stats.describe(male_snails['Whole_weight'])"
      ],
      "execution_count": null,
      "outputs": [
        {
          "output_type": "execute_result",
          "data": {
            "text/plain": [
              "DescribeResult(nobs=1528, minmax=(0.0155, 2.8255), mean=0.9914594240837696, variance=0.22144682906633475, skewness=0.40560877693983, kurtosis=0.3522080855157492)"
            ]
          },
          "metadata": {
            "tags": []
          },
          "execution_count": 12
        }
      ]
    },
    {
      "cell_type": "code",
      "metadata": {
        "id": "PPzabD60uTBZ",
        "colab_type": "code",
        "colab": {
          "base_uri": "https://localhost:8080/",
          "height": 54
        },
        "outputId": "284b5b02-d3a0-4664-ae28-ee2fc8993212"
      },
      "source": [
        "stats.describe(female_snails['Whole_weight'])"
      ],
      "execution_count": null,
      "outputs": [
        {
          "output_type": "execute_result",
          "data": {
            "text/plain": [
              "DescribeResult(nobs=1307, minmax=(0.08, 2.657), mean=1.0465321346595258, variance=0.18517212913502626, skewness=0.36807506367868875, kurtosis=0.059025885863292604)"
            ]
          },
          "metadata": {
            "tags": []
          },
          "execution_count": 13
        }
      ]
    },
    {
      "cell_type": "code",
      "metadata": {
        "id": "aWorqrbdQHgw",
        "colab_type": "code",
        "colab": {
          "base_uri": "https://localhost:8080/",
          "height": 170
        },
        "outputId": "f8c41797-70a7-4bbf-97b4-758c2031d850"
      },
      "source": [
        "print('Shapiro-Wilk:')\n",
        "print(stats.shapiro(male_snails['Whole_weight']))\n",
        "print(stats.shapiro(female_snails['Whole_weight']))\n",
        "print('Jarque-Bera:')\n",
        "print(stats.jarque_bera(male_snails['Whole_weight']))\n",
        "print(stats.jarque_bera(female_snails['Whole_weight']))\n",
        "print('D\\'Agostino-Pearson:')\n",
        "print(stats.normaltest(male_snails['Whole_weight']))\n",
        "print(stats.normaltest(female_snails['Whole_weight']))"
      ],
      "execution_count": null,
      "outputs": [
        {
          "output_type": "stream",
          "text": [
            "Shapiro-Wilk:\n",
            "(0.9863144755363464, 7.720586669979213e-11)\n",
            "(0.9892150163650513, 3.156421257699549e-08)\n",
            "Jarque-Bera:\n",
            "(49.79525698266909, 1.538502658604557e-11)\n",
            "(29.701633009573772, 3.5511771712126716e-07)\n",
            "D'Agostino-Pearson:\n",
            "NormaltestResult(statistic=45.57768379606874, pvalue=1.2674525652361236e-10)\n",
            "NormaltestResult(statistic=28.32498241676317, pvalue=7.06819004778211e-07)\n"
          ],
          "name": "stdout"
        }
      ]
    },
    {
      "cell_type": "markdown",
      "metadata": {
        "id": "H8PCV2kEPi50",
        "colab_type": "text"
      },
      "source": [
        "**Does this data meet the assumptions to answer such a question statistically?**\n",
        "\n",
        "Yes, it does. The variances of both male and female weight distributions appear to be similiar and both appear to follow a normal distribution with low values for skewness and kurtosis and very small p-values for the statistics tests above. \n",
        "\n"
      ]
    },
    {
      "cell_type": "markdown",
      "metadata": {
        "id": "-6o3AyA4RxSb",
        "colab_type": "text"
      },
      "source": [
        "**What are the formal hypotheses?**\n",
        "\n",
        "Null Hypothesis: \n",
        "\n",
        "On average, there is no difference in weight between male and female snails.\n",
        "\n",
        "Alternative Hypothesis: \n",
        "\n",
        "On average, does the population of male snails have a different weight (higher or lower) than the population of female snails, given the samples that have been collected?"
      ]
    },
    {
      "cell_type": "code",
      "metadata": {
        "id": "BP8lxCOBuqQM",
        "colab_type": "code",
        "colab": {
          "base_uri": "https://localhost:8080/",
          "height": 34
        },
        "outputId": "97327c50-b0fa-4761-d755-5f98bf194582"
      },
      "source": [
        "stats.ttest_ind(male_snails['Whole_weight'], female_snails['Whole_weight'])"
      ],
      "execution_count": null,
      "outputs": [
        {
          "output_type": "execute_result",
          "data": {
            "text/plain": [
              "Ttest_indResult(statistic=-3.230536346547456, pvalue=0.0012497207919589404)"
            ]
          },
          "metadata": {
            "tags": []
          },
          "execution_count": 14
        }
      ]
    },
    {
      "cell_type": "code",
      "metadata": {
        "id": "4_GBjH9NVCLm",
        "colab_type": "code",
        "colab": {
          "base_uri": "https://localhost:8080/",
          "height": 35
        },
        "outputId": "72080070-2cc9-4683-c0dc-288a1f8886d2"
      },
      "source": [
        "def get_95_ci(array_1, array_2):\n",
        "    sample_1_n = array_1.shape[0]\n",
        "    sample_2_n = array_2.shape[0]\n",
        "    sample_1_mean = array_1.mean()\n",
        "    sample_2_mean = array_2.mean()\n",
        "    sample_1_var = array_1.var()\n",
        "    sample_2_var = array_2.var()\n",
        "    mean_difference = sample_2_mean - sample_1_mean\n",
        "    std_err_difference = math.sqrt((sample_1_var/sample_1_n)+(sample_2_var/sample_2_n))\n",
        "    margin_of_error = 1.96 * std_err_difference\n",
        "    ci_lower = mean_difference - margin_of_error\n",
        "    ci_upper = mean_difference + margin_of_error\n",
        "    return(\"The difference in means at the 95% confidence interval (two-tail) is between \"+str(ci_lower)+\" and \"+str(ci_upper)+\".\")\n",
        "\n",
        "get_95_ci(male_snails['Whole_weight'], female_snails['Whole_weight'])"
      ],
      "execution_count": null,
      "outputs": [
        {
          "output_type": "execute_result",
          "data": {
            "application/vnd.google.colaboratory.intrinsic+json": {
              "type": "string"
            },
            "text/plain": [
              "'The difference in means at the 95% confidence interval (two-tail) is between 0.021891169188311944 and 0.08825425196320211.'"
            ]
          },
          "metadata": {
            "tags": []
          },
          "execution_count": 23
        }
      ]
    },
    {
      "cell_type": "markdown",
      "metadata": {
        "id": "WBPjJ_eITNwH",
        "colab_type": "text"
      },
      "source": [
        "**Conduct the hypothesis test. What is the p-value? What can you say given the p-value and significance level?**\n",
        "\n",
        "The p-value is about 0.001 and is less than 0.05, therefore we can reject the null hypothesis. \n",
        "\n",
        "So we can say there is a 0.1% chance of observing a difference as large or larger as was observed due to random error. \n",
        "\n",
        "We can say with 95% confidence that male snails have a weight on average that is between 0.022 and 0.088 (grams?) lower than female snails. \n"
      ]
    },
    {
      "cell_type": "code",
      "metadata": {
        "id": "WQsxIE2fvxkx",
        "colab_type": "code",
        "colab": {
          "base_uri": "https://localhost:8080/",
          "height": 266
        },
        "outputId": "2c366d65-2f6b-4da8-ffb4-dddba509052f"
      },
      "source": [
        "g = sns.pointplot(data=[male_snails['Whole_weight'],\n",
        "                        female_snails['Whole_weight']], join=False)\n",
        "                        \n",
        "g.set(xticklabels = ['male_snail', 'female_snail'])\n",
        "\n",
        "plt.show()"
      ],
      "execution_count": null,
      "outputs": [
        {
          "output_type": "display_data",
          "data": {
            "image/png": "[encoded data removed]",
            "text/plain": [
              "<Figure size 432x288 with 1 Axes>"
            ]
          },
          "metadata": {
            "tags": [],
            "needs_background": "light"
          }
        }
      ]
    },
    {
      "cell_type": "code",
      "metadata": {
        "id": "rQGt79_sZLd0",
        "colab_type": "code",
        "colab": {}
      },
      "source": [
        ""
      ],
      "execution_count": null,
      "outputs": []
    }
  ]
}