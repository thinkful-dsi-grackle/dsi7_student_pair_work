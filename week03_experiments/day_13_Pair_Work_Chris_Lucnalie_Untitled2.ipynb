{
  "nbformat": 4,
  "nbformat_minor": 0,
  "metadata": {
    "colab": {
      "name": "day 13 Pair Work Chris_Lucnalie-Untitled2.ipynb",
      "provenance": []
    },
    "kernelspec": {
      "name": "python3",
      "display_name": "Python 3"
    }
  },
  "cells": [
    {
      "cell_type": "code",
      "metadata": {
        "id": "FOMQGkO4gvgG",
        "colab_type": "code",
        "colab": {}
      },
      "source": [
        "import pandas as pd\n",
        "from scipy import stats\n",
        "import numpy as np\n",
        "from statsmodels.stats.multicomp import pairwise_tukeyhsd\n"
      ],
      "execution_count": null,
      "outputs": []
    },
    {
      "cell_type": "code",
      "metadata": {
        "id": "pWjnh1QdhSSm",
        "colab_type": "code",
        "colab": {
          "base_uri": "https://localhost:8080/",
          "height": 417
        },
        "outputId": "7f7263d0-4312-4c53-fefe-e2bd272589db"
      },
      "source": [
        "read_data = pd.read_csv(\"https://tf-assets-prod.s3.amazonaws.com/tf-curric/data-science/lung-volume.csv\")\n",
        "read_data"
      ],
      "execution_count": null,
      "outputs": [
        {
          "output_type": "execute_result",
          "data": {
            "text/html": [
              "<div>\n",
              "<style scoped>\n",
              "    .dataframe tbody tr th:only-of-type {\n",
              "        vertical-align: middle;\n",
              "    }\n",
              "\n",
              "    .dataframe tbody tr th {\n",
              "        vertical-align: top;\n",
              "    }\n",
              "\n",
              "    .dataframe thead th {\n",
              "        text-align: right;\n",
              "    }\n",
              "</style>\n",
              "<table border=\"1\" class=\"dataframe\">\n",
              "  <thead>\n",
              "    <tr style=\"text-align: right;\">\n",
              "      <th></th>\n",
              "      <th>group</th>\n",
              "      <th>patient</th>\n",
              "      <th>t1</th>\n",
              "      <th>t2</th>\n",
              "    </tr>\n",
              "  </thead>\n",
              "  <tbody>\n",
              "    <tr>\n",
              "      <th>0</th>\n",
              "      <td>1</td>\n",
              "      <td>1-1</td>\n",
              "      <td>4226</td>\n",
              "      <td>4497</td>\n",
              "    </tr>\n",
              "    <tr>\n",
              "      <th>1</th>\n",
              "      <td>1</td>\n",
              "      <td>1-2</td>\n",
              "      <td>5731</td>\n",
              "      <td>5665</td>\n",
              "    </tr>\n",
              "    <tr>\n",
              "      <th>2</th>\n",
              "      <td>1</td>\n",
              "      <td>1-3</td>\n",
              "      <td>3912</td>\n",
              "      <td>4505</td>\n",
              "    </tr>\n",
              "    <tr>\n",
              "      <th>3</th>\n",
              "      <td>1</td>\n",
              "      <td>1-4</td>\n",
              "      <td>4811</td>\n",
              "      <td>6472</td>\n",
              "    </tr>\n",
              "    <tr>\n",
              "      <th>4</th>\n",
              "      <td>1</td>\n",
              "      <td>1-5</td>\n",
              "      <td>5128</td>\n",
              "      <td>4710</td>\n",
              "    </tr>\n",
              "    <tr>\n",
              "      <th>...</th>\n",
              "      <td>...</td>\n",
              "      <td>...</td>\n",
              "      <td>...</td>\n",
              "      <td>...</td>\n",
              "    </tr>\n",
              "    <tr>\n",
              "      <th>395</th>\n",
              "      <td>3</td>\n",
              "      <td>3-96</td>\n",
              "      <td>2819</td>\n",
              "      <td>2717</td>\n",
              "    </tr>\n",
              "    <tr>\n",
              "      <th>396</th>\n",
              "      <td>3</td>\n",
              "      <td>3-97</td>\n",
              "      <td>2809</td>\n",
              "      <td>2613</td>\n",
              "    </tr>\n",
              "    <tr>\n",
              "      <th>397</th>\n",
              "      <td>3</td>\n",
              "      <td>3-98</td>\n",
              "      <td>3338</td>\n",
              "      <td>3064</td>\n",
              "    </tr>\n",
              "    <tr>\n",
              "      <th>398</th>\n",
              "      <td>3</td>\n",
              "      <td>3-99</td>\n",
              "      <td>3173</td>\n",
              "      <td>3008</td>\n",
              "    </tr>\n",
              "    <tr>\n",
              "      <th>399</th>\n",
              "      <td>3</td>\n",
              "      <td>3-100</td>\n",
              "      <td>2309</td>\n",
              "      <td>2390</td>\n",
              "    </tr>\n",
              "  </tbody>\n",
              "</table>\n",
              "<p>400 rows × 4 columns</p>\n",
              "</div>"
            ],
            "text/plain": [
              "     group patient    t1    t2\n",
              "0        1     1-1  4226  4497\n",
              "1        1     1-2  5731  5665\n",
              "2        1     1-3  3912  4505\n",
              "3        1     1-4  4811  6472\n",
              "4        1     1-5  5128  4710\n",
              "..     ...     ...   ...   ...\n",
              "395      3    3-96  2819  2717\n",
              "396      3    3-97  2809  2613\n",
              "397      3    3-98  3338  3064\n",
              "398      3    3-99  3173  3008\n",
              "399      3   3-100  2309  2390\n",
              "\n",
              "[400 rows x 4 columns]"
            ]
          },
          "metadata": {
            "tags": []
          },
          "execution_count": 2
        }
      ]
    },
    {
      "cell_type": "code",
      "metadata": {
        "id": "ZtN7ixcLiAuf",
        "colab_type": "code",
        "colab": {}
      },
      "source": [
        "group_1 = read_data[read_data['group']==1]\n",
        "group_2 = read_data[read_data['group']==2]\n",
        "group_3 = read_data[read_data['group']==3]"
      ],
      "execution_count": null,
      "outputs": []
    },
    {
      "cell_type": "code",
      "metadata": {
        "id": "CQjumKBkjoVf",
        "colab_type": "code",
        "colab": {
          "base_uri": "https://localhost:8080/",
          "height": 52
        },
        "outputId": "61e871e9-78b3-4233-c2a7-7cc290ccd0b3"
      },
      "source": [
        "print('Group 1 t1:', stats.shapiro(group_1['t1']))\n",
        "print('Group 1 t2:', stats.shapiro(group_1['t2']))"
      ],
      "execution_count": null,
      "outputs": [
        {
          "output_type": "stream",
          "text": [
            "Group 1 t1: (0.9932351112365723, 0.4915737509727478)\n",
            "Group 1 t2: (0.9955824613571167, 0.8313238024711609)\n"
          ],
          "name": "stdout"
        }
      ]
    },
    {
      "cell_type": "code",
      "metadata": {
        "id": "AhKHFde-kD_y",
        "colab_type": "code",
        "colab": {
          "base_uri": "https://localhost:8080/",
          "height": 52
        },
        "outputId": "7cf5455c-5d84-4f71-c1e2-77587ca2c3d9"
      },
      "source": [
        "print('Group 2 t1:', stats.shapiro(group_2['t1']))\n",
        "print('Group 2 t2:', stats.shapiro(group_2['t2']))"
      ],
      "execution_count": null,
      "outputs": [
        {
          "output_type": "stream",
          "text": [
            "Group 2 t1: (0.994020402431488, 0.9413013458251953)\n",
            "Group 2 t2: (0.9911357164382935, 0.7556766271591187)\n"
          ],
          "name": "stdout"
        }
      ]
    },
    {
      "cell_type": "code",
      "metadata": {
        "id": "_l6-eSiskeP8",
        "colab_type": "code",
        "colab": {
          "base_uri": "https://localhost:8080/",
          "height": 52
        },
        "outputId": "57f79c89-4608-4883-c406-30635a3efa7e"
      },
      "source": [
        "print('Group 3 t1:', stats.shapiro(group_3['t1']))\n",
        "print('Group 3 t2:', stats.shapiro(group_3['t2']))"
      ],
      "execution_count": null,
      "outputs": [
        {
          "output_type": "stream",
          "text": [
            "Group 3 t1: (0.9901381731033325, 0.675767183303833)\n",
            "Group 3 t2: (0.9781965613365173, 0.09609080106019974)\n"
          ],
          "name": "stdout"
        }
      ]
    },
    {
      "cell_type": "code",
      "metadata": {
        "id": "rlyPWHJBmiID",
        "colab_type": "code",
        "colab": {
          "base_uri": "https://localhost:8080/",
          "height": 52
        },
        "outputId": "f0b02bc2-b187-43a3-cf7d-da4f96a3c6ea"
      },
      "source": [
        "print('Group 1 t1 std:', np.std(group_1['t1']))\n",
        "print('Group 1 t2 std:', np.std(group_1['t2']))"
      ],
      "execution_count": null,
      "outputs": [
        {
          "output_type": "stream",
          "text": [
            "Group 1 t1 std: 1053.8174957624299\n",
            "Group 1 t2 std: 1007.0247633375255\n"
          ],
          "name": "stdout"
        }
      ]
    },
    {
      "cell_type": "code",
      "metadata": {
        "id": "wtsT9W6gmyFt",
        "colab_type": "code",
        "colab": {
          "base_uri": "https://localhost:8080/",
          "height": 52
        },
        "outputId": "53e75f9e-1450-405e-9987-3fd8bb4e7c7c"
      },
      "source": [
        "print('Group 2 t1 std:', np.std(group_2['t1'])) \n",
        "print('Group 2 t2 std:', np.std(group_2['t2']))"
      ],
      "execution_count": null,
      "outputs": [
        {
          "output_type": "stream",
          "text": [
            "Group 2 t1 std: 1132.7310183799152\n",
            "Group 2 t2 std: 1097.2471918396511\n"
          ],
          "name": "stdout"
        }
      ]
    },
    {
      "cell_type": "code",
      "metadata": {
        "id": "XqmjMWMnnF0Y",
        "colab_type": "code",
        "colab": {
          "base_uri": "https://localhost:8080/",
          "height": 52
        },
        "outputId": "8248807b-d057-4a8e-9fba-7a7fbaf30ecc"
      },
      "source": [
        "print('Group 3 t1 std:', np.std(group_3['t1'])) \n",
        "print('Group 3 t2 std:', np.std(group_3['t2']))\n"
      ],
      "execution_count": null,
      "outputs": [
        {
          "output_type": "stream",
          "text": [
            "Group 3 t1 std: 942.3098388534421\n",
            "Group 3 t2 std: 973.6588566330614\n"
          ],
          "name": "stdout"
        }
      ]
    },
    {
      "cell_type": "code",
      "metadata": {
        "id": "Ui_xcMGjnfWL",
        "colab_type": "code",
        "colab": {
          "base_uri": "https://localhost:8080/",
          "height": 35
        },
        "outputId": "db13750d-0f1a-4b90-921b-ab3c30cfd418"
      },
      "source": [
        "stats.ttest_rel(group_1['t1'],group_1['t2'])\n"
      ],
      "execution_count": null,
      "outputs": [
        {
          "output_type": "execute_result",
          "data": {
            "text/plain": [
              "Ttest_relResult(statistic=-0.31827677584963787, pvalue=0.7506087664956842)"
            ]
          },
          "metadata": {
            "tags": []
          },
          "execution_count": 21
        }
      ]
    },
    {
      "cell_type": "code",
      "metadata": {
        "id": "IZFhYCXQnn1q",
        "colab_type": "code",
        "colab": {
          "base_uri": "https://localhost:8080/",
          "height": 35
        },
        "outputId": "fe655c39-22d4-418b-a07b-855c775ad826"
      },
      "source": [
        "stats.ttest_rel(group_2['t1'],group_2['t2'])"
      ],
      "execution_count": null,
      "outputs": [
        {
          "output_type": "execute_result",
          "data": {
            "text/plain": [
              "Ttest_relResult(statistic=0.32745622415118286, pvalue=0.7440142766032991)"
            ]
          },
          "metadata": {
            "tags": []
          },
          "execution_count": 23
        }
      ]
    },
    {
      "cell_type": "code",
      "metadata": {
        "id": "NyF39xOhnt37",
        "colab_type": "code",
        "colab": {
          "base_uri": "https://localhost:8080/",
          "height": 35
        },
        "outputId": "c20ac224-0196-4806-84eb-e392e8ee31d6"
      },
      "source": [
        "stats.ttest_rel(group_3['t1'],group_3['t2'])"
      ],
      "execution_count": null,
      "outputs": [
        {
          "output_type": "execute_result",
          "data": {
            "text/plain": [
              "Ttest_relResult(statistic=0.8984773127301627, pvalue=0.37111115842334486)"
            ]
          },
          "metadata": {
            "tags": []
          },
          "execution_count": 24
        }
      ]
    },
    {
      "cell_type": "markdown",
      "metadata": {
        "id": "FhiWaz2Vn1fu",
        "colab_type": "text"
      },
      "source": [
        "we do not reject the null hypothesis there is no significant difference between the data. "
      ]
    },
    {
      "cell_type": "markdown",
      "metadata": {
        "id": "blOeLczfo1-H",
        "colab_type": "text"
      },
      "source": [
        "**Question 2**"
      ]
    },
    {
      "cell_type": "code",
      "metadata": {
        "id": "QChtxB3Wo7qH",
        "colab_type": "code",
        "colab": {
          "base_uri": "https://localhost:8080/",
          "height": 119
        },
        "outputId": "66ee5e0d-f4eb-4e24-cded-938688ef2ec5"
      },
      "source": [
        "tukey = pairwise_tukeyhsd(endog=read_data['t2'], groups =read_data['group'],alpha = 0.05)\n",
        "tukey.summary()"
      ],
      "execution_count": null,
      "outputs": [
        {
          "output_type": "execute_result",
          "data": {
            "text/html": [
              "<table class=\"simpletable\">\n",
              "<caption>Multiple Comparison of Means - Tukey HSD, FWER=0.05</caption>\n",
              "<tr>\n",
              "  <th>group1</th> <th>group2</th> <th>meandiff</th>   <th>p-adj</th>    <th>lower</th>      <th>upper</th>   <th>reject</th>\n",
              "</tr>\n",
              "<tr>\n",
              "     <td>1</td>      <td>2</td>    <td>99.705</td>   <td>0.6902</td>  <td>-195.9612</td>  <td>395.3712</td>   <td>False</td>\n",
              "</tr>\n",
              "<tr>\n",
              "     <td>1</td>      <td>3</td>   <td>-1341.865</td>  <td>0.001</td> <td>-1637.5312</td> <td>-1046.1988</td>  <td>True</td> \n",
              "</tr>\n",
              "<tr>\n",
              "     <td>2</td>      <td>3</td>   <td>-1441.57</td>   <td>0.001</td> <td>-1782.9759</td> <td>-1100.1641</td>  <td>True</td> \n",
              "</tr>\n",
              "</table>"
            ],
            "text/plain": [
              "<class 'statsmodels.iolib.table.SimpleTable'>"
            ]
          },
          "metadata": {
            "tags": []
          },
          "execution_count": 28
        }
      ]
    },
    {
      "cell_type": "markdown",
      "metadata": {
        "id": "Wb_5Ttp5q2Fu",
        "colab_type": "text"
      },
      "source": [
        "There is significant difference between group 2 and 3, and group 1 and 3, thus group 3 is significantly different comparing to the other 2 groups\n",
        "\n",
        "There is a significant when comparing group 1 to group 3, wherea group 3 and 2 have differences as well, but not 1 and 2. "
      ]
    }
  ]
}