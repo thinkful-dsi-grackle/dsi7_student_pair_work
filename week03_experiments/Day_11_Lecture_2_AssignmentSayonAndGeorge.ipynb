{
  "nbformat": 4,
  "nbformat_minor": 0,
  "metadata": {
    "colab": {
      "name": "Day 11 Lecture 2 Assignment.ipynb",
      "provenance": [],
      "collapsed_sections": [],
      "toc_visible": true
    },
    "kernelspec": {
      "display_name": "Python 3",
      "language": "python",
      "name": "python3"
    },
    "language_info": {
      "codemirror_mode": {
        "name": "ipython",
        "version": 3
      },
      "file_extension": ".py",
      "mimetype": "text/x-python",
      "name": "python",
      "nbconvert_exporter": "python",
      "pygments_lexer": "ipython3",
      "version": "3.7.6"
    }
  },
  "cells": [
    {
      "cell_type": "markdown",
      "metadata": {
        "colab_type": "text",
        "id": "-LlIJmPujjKW"
      },
      "source": [
        "# Assignment\n",
        "\n",
        "For this assignment, you are going to apply statistical inference on [Titanic dataset](https://tf-assets-prod.s3.amazonaws.com/tf-curric/data-science/titanic.csv).\n",
        "\n",
        "\n",
        "Try to answer the following questions. Include a hypothesis and the test assumptions. **If the assumptions are valid**, try to conduct the t-test and addditionally calculate manually the 95% confidence interval which is derived from the hypothesis that you try to evaluate. Also try to come up with some valid findings from the data.\n",
        "\n",
        "\n",
        "\n",
        "1. Is it true that the younger a passenger was, they had more chance of survival? Is this difference statistically important? \n",
        "2. Is there a correlation between fare price and survival? Again, is this difference statistically important?\n",
        "\n",
        "As you are conducting the analysis, consider what other variables may be accounting for any significant differences you find. "
      ]
    },
    {
      "cell_type": "markdown",
      "metadata": {
        "colab_type": "text",
        "id": "2eeeyNXpn0ct"
      },
      "source": [
        "##### More specifically, the tasks that you need to enounter in your deliverables are:\n",
        "\n",
        "1. Familiarize yourself with the dataset. Review the structure of it and focus on the fields necessary to answer the above mentioned questions.\n",
        "\n",
        "2. State the null and the alternative hypotheses that address the questions.\n",
        "\n",
        "3. Manipulate the dataset accordingly in order to prepare it for the statistical tests.\n",
        "\n",
        "4. Perform an exploratory analysis with summary statistics and corresponding visualizations, in order to gain a clearer view about the distributions of the samples. Focus on their differences.\n",
        "\n",
        "5. Perform the necessary normality checks in order to make sure that you can conduct the statistical tests.\n",
        "\n",
        "6. Apply t-test statistic if you pass successfully the normality checks\n",
        "\n",
        "7. For this exercise, you will also need to write a function to calculate the confidence interval using the standard error for comparing two means (used in t-statistic):\n",
        "\n",
        "$$\n",
        "    \\bar{X_1} - \\bar{X_2} \\pm z*\\sqrt{\\dfrac{s_1^2}{n_1} + \\dfrac{s_2^2}{n_2}}\n",
        "$$\n",
        "\n",
        "- $z$ is the critical value\n",
        "- $s_1$ sample 1 standard deviation\n",
        "- $s_2$ sample 2 standard deviation\n",
        "\n",
        "- Let $z=1.96$ for a 95% confidence level\n",
        "\n",
        "- Use the following method signature:\n",
        "\n",
        "    `def get_95_ci(data1, data2)`\n",
        "    \n",
        "\n",
        "8. Elaborate on the results of your analyses."
      ]
    },
    {
      "cell_type": "code",
      "metadata": {
        "colab_type": "code",
        "id": "PnEovpH4nZlv",
        "colab": {}
      },
      "source": [
        "import math\n",
        "import pandas as pd\n",
        "import numpy as np\n",
        "from scipy import stats\n",
        "import matplotlib.pyplot as plt"
      ],
      "execution_count": 1,
      "outputs": []
    },
    {
      "cell_type": "code",
      "metadata": {
        "id": "Y0iUZPTixf2j",
        "colab_type": "code",
        "colab": {}
      },
      "source": [
        "titanic = pd.read_csv('titanic.csv')"
      ],
      "execution_count": 2,
      "outputs": []
    },
    {
      "cell_type": "code",
      "metadata": {
        "id": "HxEl4Bkext3v",
        "colab_type": "code",
        "colab": {
          "base_uri": "https://localhost:8080/",
          "height": 197
        },
        "outputId": "6d030dd1-e644-40a9-b8e6-98288a1891d9"
      },
      "source": [
        "titanic.head()"
      ],
      "execution_count": 3,
      "outputs": [
        {
          "output_type": "execute_result",
          "data": {
            "text/html": [
              "<div>\n",
              "<style scoped>\n",
              "    .dataframe tbody tr th:only-of-type {\n",
              "        vertical-align: middle;\n",
              "    }\n",
              "\n",
              "    .dataframe tbody tr th {\n",
              "        vertical-align: top;\n",
              "    }\n",
              "\n",
              "    .dataframe thead th {\n",
              "        text-align: right;\n",
              "    }\n",
              "</style>\n",
              "<table border=\"1\" class=\"dataframe\">\n",
              "  <thead>\n",
              "    <tr style=\"text-align: right;\">\n",
              "      <th></th>\n",
              "      <th>PassengerId</th>\n",
              "      <th>Survived</th>\n",
              "      <th>Pclass</th>\n",
              "      <th>Name</th>\n",
              "      <th>Sex</th>\n",
              "      <th>Age</th>\n",
              "      <th>SibSp</th>\n",
              "      <th>Parch</th>\n",
              "      <th>Ticket</th>\n",
              "      <th>Fare</th>\n",
              "      <th>Cabin</th>\n",
              "      <th>Embarked</th>\n",
              "    </tr>\n",
              "  </thead>\n",
              "  <tbody>\n",
              "    <tr>\n",
              "      <th>0</th>\n",
              "      <td>1</td>\n",
              "      <td>0</td>\n",
              "      <td>3</td>\n",
              "      <td>Braund, Mr. Owen Harris</td>\n",
              "      <td>male</td>\n",
              "      <td>22.0</td>\n",
              "      <td>1</td>\n",
              "      <td>0</td>\n",
              "      <td>A/5 21171</td>\n",
              "      <td>7.2500</td>\n",
              "      <td>NaN</td>\n",
              "      <td>S</td>\n",
              "    </tr>\n",
              "    <tr>\n",
              "      <th>1</th>\n",
              "      <td>2</td>\n",
              "      <td>1</td>\n",
              "      <td>1</td>\n",
              "      <td>Cumings, Mrs. John Bradley (Florence Briggs Th...</td>\n",
              "      <td>female</td>\n",
              "      <td>38.0</td>\n",
              "      <td>1</td>\n",
              "      <td>0</td>\n",
              "      <td>PC 17599</td>\n",
              "      <td>71.2833</td>\n",
              "      <td>C85</td>\n",
              "      <td>C</td>\n",
              "    </tr>\n",
              "    <tr>\n",
              "      <th>2</th>\n",
              "      <td>3</td>\n",
              "      <td>1</td>\n",
              "      <td>3</td>\n",
              "      <td>Heikkinen, Miss. Laina</td>\n",
              "      <td>female</td>\n",
              "      <td>26.0</td>\n",
              "      <td>0</td>\n",
              "      <td>0</td>\n",
              "      <td>STON/O2. 3101282</td>\n",
              "      <td>7.9250</td>\n",
              "      <td>NaN</td>\n",
              "      <td>S</td>\n",
              "    </tr>\n",
              "    <tr>\n",
              "      <th>3</th>\n",
              "      <td>4</td>\n",
              "      <td>1</td>\n",
              "      <td>1</td>\n",
              "      <td>Futrelle, Mrs. Jacques Heath (Lily May Peel)</td>\n",
              "      <td>female</td>\n",
              "      <td>35.0</td>\n",
              "      <td>1</td>\n",
              "      <td>0</td>\n",
              "      <td>113803</td>\n",
              "      <td>53.1000</td>\n",
              "      <td>C123</td>\n",
              "      <td>S</td>\n",
              "    </tr>\n",
              "    <tr>\n",
              "      <th>4</th>\n",
              "      <td>5</td>\n",
              "      <td>0</td>\n",
              "      <td>3</td>\n",
              "      <td>Allen, Mr. William Henry</td>\n",
              "      <td>male</td>\n",
              "      <td>35.0</td>\n",
              "      <td>0</td>\n",
              "      <td>0</td>\n",
              "      <td>373450</td>\n",
              "      <td>8.0500</td>\n",
              "      <td>NaN</td>\n",
              "      <td>S</td>\n",
              "    </tr>\n",
              "  </tbody>\n",
              "</table>\n",
              "</div>"
            ],
            "text/plain": [
              "   PassengerId  Survived  Pclass  ...     Fare Cabin  Embarked\n",
              "0            1         0       3  ...   7.2500   NaN         S\n",
              "1            2         1       1  ...  71.2833   C85         C\n",
              "2            3         1       3  ...   7.9250   NaN         S\n",
              "3            4         1       1  ...  53.1000  C123         S\n",
              "4            5         0       3  ...   8.0500   NaN         S\n",
              "\n",
              "[5 rows x 12 columns]"
            ]
          },
          "metadata": {
            "tags": []
          },
          "execution_count": 3
        }
      ]
    },
    {
      "cell_type": "code",
      "metadata": {
        "id": "gc9_RHhOx9dc",
        "colab_type": "code",
        "colab": {
          "base_uri": "https://localhost:8080/",
          "height": 692
        },
        "outputId": "5f9793f8-aa2c-44ae-d266-d62de8fea562"
      },
      "source": [
        "survived_no = titanic[(titanic['Survived'] == 0)]\n",
        "survived_no.info()\n",
        "survived_yes = titanic[(titanic['Survived'] == 1)]\n",
        "survived_yes.info()"
      ],
      "execution_count": 6,
      "outputs": [
        {
          "output_type": "stream",
          "text": [
            "<class 'pandas.core.frame.DataFrame'>\n",
            "Int64Index: 549 entries, 0 to 890\n",
            "Data columns (total 12 columns):\n",
            " #   Column       Non-Null Count  Dtype  \n",
            "---  ------       --------------  -----  \n",
            " 0   PassengerId  549 non-null    int64  \n",
            " 1   Survived     549 non-null    int64  \n",
            " 2   Pclass       549 non-null    int64  \n",
            " 3   Name         549 non-null    object \n",
            " 4   Sex          549 non-null    object \n",
            " 5   Age          424 non-null    float64\n",
            " 6   SibSp        549 non-null    int64  \n",
            " 7   Parch        549 non-null    int64  \n",
            " 8   Ticket       549 non-null    object \n",
            " 9   Fare         549 non-null    float64\n",
            " 10  Cabin        68 non-null     object \n",
            " 11  Embarked     549 non-null    object \n",
            "dtypes: float64(2), int64(5), object(5)\n",
            "memory usage: 55.8+ KB\n",
            "<class 'pandas.core.frame.DataFrame'>\n",
            "Int64Index: 342 entries, 1 to 889\n",
            "Data columns (total 12 columns):\n",
            " #   Column       Non-Null Count  Dtype  \n",
            "---  ------       --------------  -----  \n",
            " 0   PassengerId  342 non-null    int64  \n",
            " 1   Survived     342 non-null    int64  \n",
            " 2   Pclass       342 non-null    int64  \n",
            " 3   Name         342 non-null    object \n",
            " 4   Sex          342 non-null    object \n",
            " 5   Age          290 non-null    float64\n",
            " 6   SibSp        342 non-null    int64  \n",
            " 7   Parch        342 non-null    int64  \n",
            " 8   Ticket       342 non-null    object \n",
            " 9   Fare         342 non-null    float64\n",
            " 10  Cabin        136 non-null    object \n",
            " 11  Embarked     340 non-null    object \n",
            "dtypes: float64(2), int64(5), object(5)\n",
            "memory usage: 34.7+ KB\n"
          ],
          "name": "stdout"
        }
      ]
    },
    {
      "cell_type": "code",
      "metadata": {
        "id": "ZfSd7QCA37eN",
        "colab_type": "code",
        "colab": {}
      },
      "source": [
        "survived_no = survived_no.dropna()\n",
        "survived_yes = survived_yes.dropna()"
      ],
      "execution_count": 15,
      "outputs": []
    },
    {
      "cell_type": "code",
      "metadata": {
        "id": "RCPyG4olydqQ",
        "colab_type": "code",
        "colab": {
          "base_uri": "https://localhost:8080/",
          "height": 264
        },
        "outputId": "7581cfe7-c344-4a02-9c18-6e67cad7042a"
      },
      "source": [
        "plt.hist(survived_yes['Age'], alpha=.5)\n",
        "plt.hist(survived_no['Age'], alpha=.5)\n",
        "plt.show()"
      ],
      "execution_count": 18,
      "outputs": [
        {
          "output_type": "display_data",
          "data": {
            "image/png": "[encoded data removed]",
            "text/plain": [
              "<Figure size 432x288 with 1 Axes>"
            ]
          },
          "metadata": {
            "tags": [],
            "needs_background": "light"
          }
        }
      ]
    },
    {
      "cell_type": "code",
      "metadata": {
        "id": "BULDlCCYzVfB",
        "colab_type": "code",
        "colab": {
          "base_uri": "https://localhost:8080/",
          "height": 52
        },
        "outputId": "5e20e32f-8288-40c6-bc61-99441e08802c"
      },
      "source": [
        "print(stats.describe(survived_yes['Age']))\n",
        "print(stats.describe(survived_no['Age']))"
      ],
      "execution_count": 16,
      "outputs": [
        {
          "output_type": "stream",
          "text": [
            "DescribeResult(nobs=123, minmax=(0.92, 80.0), mean=32.905853658536586, variance=221.71546053578567, skewness=0.11036517600265433, kurtosis=0.031225201077919262)\n",
            "DescribeResult(nobs=60, minmax=(2.0, 71.0), mean=41.35, variance=247.73135593220334, skewness=-0.30756108127889464, kurtosis=-0.2764299013556979)\n"
          ],
          "name": "stdout"
        }
      ]
    },
    {
      "cell_type": "code",
      "metadata": {
        "id": "bKHGH0cszrgS",
        "colab_type": "code",
        "colab": {
          "base_uri": "https://localhost:8080/",
          "height": 34
        },
        "outputId": "8e882e62-06e8-4ad6-8be7-799615ba1c11"
      },
      "source": [
        "stats.ttest_ind(survived_yes['Age'], survived_no['Age'])"
      ],
      "execution_count": 17,
      "outputs": [
        {
          "output_type": "execute_result",
          "data": {
            "text/plain": [
              "Ttest_indResult(statistic=-3.53435125095576, pvalue=0.0005189503307881672)"
            ]
          },
          "metadata": {
            "tags": []
          },
          "execution_count": 17
        }
      ]
    },
    {
      "cell_type": "code",
      "metadata": {
        "id": "XVvc4nUA0LHX",
        "colab_type": "code",
        "colab": {}
      },
      "source": [
        "def get_95_ci(array_1, array_2):\n",
        "    sample_1_n = array_1.shape[0]\n",
        "    sample_2_n = array_2.shape[0]\n",
        "    sample_1_mean = array_1.mean()\n",
        "    sample_2_mean = array_2.mean()\n",
        "    sample_1_var = array_1.var()\n",
        "    sample_2_var = array_2.var()\n",
        "    mean_difference = sample_2_mean - sample_1_mean\n",
        "    std_err_difference = math.sqrt((sample_1_var/sample_1_n)+(sample_2_var/sample_2_n))\n",
        "    margin_of_error = 1.96 * std_err_difference\n",
        "    ci_lower = mean_difference - margin_of_error\n",
        "    ci_upper = mean_difference + margin_of_error\n",
        "    return(\"The difference in means at the 95% confidence interval (two-tail) is between \"+str(ci_lower)+\" and \"+str(ci_upper)+\".\")\n",
        "\n",
        "     "
      ],
      "execution_count": 19,
      "outputs": []
    },
    {
      "cell_type": "code",
      "metadata": {
        "id": "qgXFRsGc5Doz",
        "colab_type": "code",
        "colab": {
          "base_uri": "https://localhost:8080/",
          "height": 35
        },
        "outputId": "eeb355ad-fe08-4f7d-d8c4-c9a18f10a921"
      },
      "source": [
        "get_95_ci(survived_yes['Age'], survived_no['Age'])"
      ],
      "execution_count": 20,
      "outputs": [
        {
          "output_type": "execute_result",
          "data": {
            "application/vnd.google.colaboratory.intrinsic+json": {
              "type": "string"
            },
            "text/plain": [
              "'The difference in means at the 95% confidence interval (two-tail) is between 3.670662752222926 and 13.217629930703906.'"
            ]
          },
          "metadata": {
            "tags": []
          },
          "execution_count": 20
        }
      ]
    },
    {
      "cell_type": "markdown",
      "metadata": {
        "id": "54HfB7ho6QN7",
        "colab_type": "text"
      },
      "source": [
        "## Age is a factor for determining whether the person survived the titanic or not"
      ]
    },
    {
      "cell_type": "code",
      "metadata": {
        "id": "Uy8PS8Iq5GuX",
        "colab_type": "code",
        "colab": {
          "base_uri": "https://localhost:8080/",
          "height": 265
        },
        "outputId": "be6b8bf8-7247-442a-9b95-d81e285017a4"
      },
      "source": [
        "plt.hist(survived_yes['Fare'], alpha=.5)\n",
        "plt.hist(survived_no['Fare'], alpha=.5)\n",
        "plt.show()"
      ],
      "execution_count": 21,
      "outputs": [
        {
          "output_type": "display_data",
          "data": {
            "image/png": "[encoded data removed]",
            "text/plain": [
              "<Figure size 432x288 with 1 Axes>"
            ]
          },
          "metadata": {
            "tags": [],
            "needs_background": "light"
          }
        }
      ]
    },
    {
      "cell_type": "code",
      "metadata": {
        "id": "cWTqEYVa6nTU",
        "colab_type": "code",
        "colab": {
          "base_uri": "https://localhost:8080/",
          "height": 52
        },
        "outputId": "5e46b3c7-d51a-4cd2-f488-268c4642364b"
      },
      "source": [
        "print(stats.describe(survived_yes['Fare']))\n",
        "print(stats.describe(survived_no['Fare']))"
      ],
      "execution_count": 22,
      "outputs": [
        {
          "output_type": "stream",
          "text": [
            "DescribeResult(nobs=123, minmax=(8.05, 512.3292), mean=85.82110650406504, variance=6698.362025553565, skewness=2.7788223952302076, kurtosis=10.470208979497217)\n",
            "DescribeResult(nobs=60, minmax=(0.0, 263.0), mean=64.04826166666666, variance=3806.0826273061334, skewness=1.8178850690104182, kurtosis=3.0369847427015557)\n"
          ],
          "name": "stdout"
        }
      ]
    },
    {
      "cell_type": "code",
      "metadata": {
        "id": "_iAtDOpt6qZn",
        "colab_type": "code",
        "colab": {
          "base_uri": "https://localhost:8080/",
          "height": 34
        },
        "outputId": "78a05cb8-7c10-4de3-ec1f-fd7f16f2be2e"
      },
      "source": [
        "stats.ttest_ind(survived_yes['Fare'], survived_no['Fare'])"
      ],
      "execution_count": 23,
      "outputs": [
        {
          "output_type": "execute_result",
          "data": {
            "text/plain": [
              "Ttest_indResult(statistic=1.8225248632226043, pvalue=0.0700255771493731)"
            ]
          },
          "metadata": {
            "tags": []
          },
          "execution_count": 23
        }
      ]
    },
    {
      "cell_type": "markdown",
      "metadata": {
        "id": "GD4VR-f17S32",
        "colab_type": "text"
      },
      "source": [
        "## Age does not have an effect on the Fare of a passenger"
      ]
    },
    {
      "cell_type": "code",
      "metadata": {
        "id": "8i8bLg7g6z08",
        "colab_type": "code",
        "colab": {}
      },
      "source": [
        ""
      ],
      "execution_count": null,
      "outputs": []
    }
  ]
}