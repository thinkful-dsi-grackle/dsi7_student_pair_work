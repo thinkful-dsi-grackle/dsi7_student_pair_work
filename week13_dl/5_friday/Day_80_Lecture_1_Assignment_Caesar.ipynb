{
  "nbformat": 4,
  "nbformat_minor": 0,
  "metadata": {
    "kernelspec": {
      "display_name": "Python 3",
      "language": "python",
      "name": "python3"
    },
    "language_info": {
      "codemirror_mode": {
        "name": "ipython",
        "version": 3
      },
      "file_extension": ".py",
      "mimetype": "text/x-python",
      "name": "python",
      "nbconvert_exporter": "python",
      "pygments_lexer": "ipython3",
      "version": "3.7.0"
    },
    "colab": {
      "name": "Day 80 Lecture 1 Assignment_Caesar.ipynb",
      "provenance": [],
      "collapsed_sections": []
    },
    "accelerator": "GPU"
  },
  "cells": [
    {
      "cell_type": "markdown",
      "metadata": {
        "id": "s3b2_cqaKWkw"
      },
      "source": [
        "## Long Short-Term Memory \n",
        "\n",
        "In this assignment, we will learn about LSTM models. We will create an LSTM model for time series prediction."
      ]
    },
    {
      "cell_type": "code",
      "metadata": {
        "id": "k0a6OKp4KWkz"
      },
      "source": [
        "import numpy as np\n",
        "import os\n",
        "import pandas as pd\n",
        "\n",
        "from tensorflow.keras.models import Sequential\n",
        "from tensorflow.keras.layers import Dense, LSTM, Dropout, Flatten\n",
        "from tensorflow.keras.utils import to_categorical"
      ],
      "execution_count": 1,
      "outputs": []
    },
    {
      "cell_type": "code",
      "metadata": {
        "id": "mne4psN7CpYz",
        "colab": {
          "base_uri": "https://localhost:8080/"
        },
        "outputId": "f35de841-d2b9-45fd-c3b6-c106c9f9e081"
      },
      "source": [
        "from google.colab import drive\r\n",
        "drive.mount('/content/drive')"
      ],
      "execution_count": 2,
      "outputs": [
        {
          "output_type": "stream",
          "text": [
            "Mounted at /content/drive\n"
          ],
          "name": "stdout"
        }
      ]
    },
    {
      "cell_type": "markdown",
      "metadata": {
        "id": "UY5p0gThKWk1"
      },
      "source": [
        "Below is a function for loading time series data collected by sensors. There are 9 different files, We have data about body acceleration, body gyro, and total acceleration for the x, y, and z axis"
      ]
    },
    {
      "cell_type": "code",
      "metadata": {
        "id": "kAhD_8wwKWk2"
      },
      "source": [
        "def load_func(path, file_ind=False):\n",
        "    data_list = []\n",
        "    if file_ind:\n",
        "        filenames = [path]\n",
        "    else:\n",
        "        files = os.listdir(path)\n",
        "        filenames = [path + '/' + f for f in files]\n",
        "    for f in filenames:\n",
        "        dataframe = pd.read_csv(f, header=None, delim_whitespace=True)\n",
        "        data_list.append(dataframe.values)\n",
        "    if len(data_list) > 1:\n",
        "        return np.dstack(data_list)\n",
        "    else:\n",
        "        return data_list[0]"
      ],
      "execution_count": 3,
      "outputs": []
    },
    {
      "cell_type": "code",
      "metadata": {
        "id": "06u-u8e4KWk4",
        "colab": {
          "base_uri": "https://localhost:8080/"
        },
        "outputId": "44f22af6-097d-4f82-daac-33302bb4d868"
      },
      "source": [
        "os.listdir('/content/drive/MyDrive/UCI HAR Dataset/UCI HAR Dataset/test/Inertial Signals')"
      ],
      "execution_count": 4,
      "outputs": [
        {
          "output_type": "execute_result",
          "data": {
            "text/plain": [
              "['body_acc_y_test.txt',\n",
              " 'body_acc_z_test.txt',\n",
              " 'body_acc_x_test.txt',\n",
              " 'total_acc_x_test.txt',\n",
              " 'total_acc_y_test.txt',\n",
              " 'total_acc_z_test.txt',\n",
              " 'body_gyro_x_test.txt',\n",
              " 'body_gyro_z_test.txt',\n",
              " 'body_gyro_y_test.txt']"
            ]
          },
          "metadata": {
            "tags": []
          },
          "execution_count": 4
        }
      ]
    },
    {
      "cell_type": "code",
      "metadata": {
        "id": "c5_0OBVeKWk7"
      },
      "source": [
        "X_train = load_func(\"/content/drive/MyDrive/UCI HAR Dataset/UCI HAR Dataset/train/Inertial Signals\")\n",
        "X_test = load_func(\"/content/drive/MyDrive/UCI HAR Dataset/UCI HAR Dataset/test/Inertial Signals\")\n",
        "y_train_cat = load_func('/content/drive/MyDrive/UCI HAR Dataset/UCI HAR Dataset/train/y_train.txt', True)\n",
        "y_test_cat = load_func('/content/drive/MyDrive/UCI HAR Dataset/UCI HAR Dataset/test/y_test.txt', True)"
      ],
      "execution_count": 5,
      "outputs": []
    },
    {
      "cell_type": "markdown",
      "metadata": {
        "id": "Rgw_29IQKWk8"
      },
      "source": [
        "Print the dimensions of both the predictor variables and the target."
      ]
    },
    {
      "cell_type": "code",
      "metadata": {
        "id": "BBiwN-zUKWk9",
        "colab": {
          "base_uri": "https://localhost:8080/"
        },
        "outputId": "a71dd87d-9910-41c4-8f04-7a0486d33c6f"
      },
      "source": [
        "# Answer below:\n",
        "X_train.shape, X_test.shape, y_train_cat.shape, y_test_cat.shape"
      ],
      "execution_count": 6,
      "outputs": [
        {
          "output_type": "execute_result",
          "data": {
            "text/plain": [
              "((7352, 128, 9), (2947, 128, 9), (7352, 1), (2947, 1))"
            ]
          },
          "metadata": {
            "tags": []
          },
          "execution_count": 6
        }
      ]
    },
    {
      "cell_type": "markdown",
      "metadata": {
        "id": "2rL-Y9KFKWk-"
      },
      "source": [
        "The target variable is categorical. One hot encode the target variable."
      ]
    },
    {
      "cell_type": "code",
      "metadata": {
        "colab": {
          "base_uri": "https://localhost:8080/"
        },
        "id": "gyCE_U3Wdm4Q",
        "outputId": "bddd0fbc-c0e4-4780-fba3-e60f1b231d93"
      },
      "source": [
        "np.unique(y_train_cat)"
      ],
      "execution_count": 7,
      "outputs": [
        {
          "output_type": "execute_result",
          "data": {
            "text/plain": [
              "array([1, 2, 3, 4, 5, 6])"
            ]
          },
          "metadata": {
            "tags": []
          },
          "execution_count": 7
        }
      ]
    },
    {
      "cell_type": "code",
      "metadata": {
        "id": "2BzBC9QNKWk_"
      },
      "source": [
        "# -1 for indexing to set categories to 6\n",
        "y_train = to_categorical(y_train_cat - 1, 6)\n",
        "y_test = to_categorical(y_test_cat - 1, 6)"
      ],
      "execution_count": 8,
      "outputs": []
    },
    {
      "cell_type": "code",
      "metadata": {
        "colab": {
          "base_uri": "https://localhost:8080/"
        },
        "id": "1K5nxDlweJQe",
        "outputId": "7e75a6b8-97be-469e-eb5c-009ceb626844"
      },
      "source": [
        "y_train[0:3]"
      ],
      "execution_count": 9,
      "outputs": [
        {
          "output_type": "execute_result",
          "data": {
            "text/plain": [
              "array([[0., 0., 0., 0., 1., 0.],\n",
              "       [0., 0., 0., 0., 1., 0.],\n",
              "       [0., 0., 0., 0., 1., 0.]], dtype=float32)"
            ]
          },
          "metadata": {
            "tags": []
          },
          "execution_count": 9
        }
      ]
    },
    {
      "cell_type": "markdown",
      "metadata": {
        "id": "HeKcEUwsKWlA"
      },
      "source": [
        "Create a model containing an LSTM layer with unit size 100, and input shape that is the tuple containing the number of columns in X and the number of files in X.\n",
        "\n",
        "The next layer is a dropout layer. Choose 0.5 for the proportion. Then add a dense layer of unit size 100 and finally an output dense layer. "
      ]
    },
    {
      "cell_type": "code",
      "metadata": {
        "id": "ujymmzAFKWlB"
      },
      "source": [
        "timesteps, features, outputs = X_train.shape[1], X_train.shape[2], y_train.shape[1]\n",
        "\n",
        "model = Sequential()\n",
        "model.add(LSTM(100, input_shape=(timesteps, features)))\n",
        "model.add(Dropout(0.025))\n",
        "model.add(Dense(100, activation='relu'))\n",
        "model.add(Dense(outputs, activation='softmax'))"
      ],
      "execution_count": 40,
      "outputs": []
    },
    {
      "cell_type": "markdown",
      "metadata": {
        "id": "GX4stdzAKWlC"
      },
      "source": [
        "Print the model summary to ensure you have the correct number of parameters."
      ]
    },
    {
      "cell_type": "code",
      "metadata": {
        "id": "AbUNEvSJKWlE",
        "colab": {
          "base_uri": "https://localhost:8080/"
        },
        "outputId": "682633f7-50a7-4c95-8f3a-d0f67192e0a1"
      },
      "source": [
        "model.summary()"
      ],
      "execution_count": 36,
      "outputs": [
        {
          "output_type": "stream",
          "text": [
            "Model: \"sequential_4\"\n",
            "_________________________________________________________________\n",
            "Layer (type)                 Output Shape              Param #   \n",
            "=================================================================\n",
            "lstm_4 (LSTM)                (None, 100)               44000     \n",
            "_________________________________________________________________\n",
            "dropout_4 (Dropout)          (None, 100)               0         \n",
            "_________________________________________________________________\n",
            "dense_8 (Dense)              (None, 64)                6464      \n",
            "_________________________________________________________________\n",
            "dense_9 (Dense)              (None, 6)                 390       \n",
            "=================================================================\n",
            "Total params: 50,854\n",
            "Trainable params: 50,854\n",
            "Non-trainable params: 0\n",
            "_________________________________________________________________\n"
          ],
          "name": "stdout"
        }
      ]
    },
    {
      "cell_type": "markdown",
      "metadata": {
        "id": "Ww7tK6UwKWlG"
      },
      "source": [
        "Compile and fit the model. Select the appropriate activation, loss, and optimizer.\n",
        "\n",
        "Run the model for 10 epochs with a batch size of 80."
      ]
    },
    {
      "cell_type": "code",
      "metadata": {
        "id": "qdMikFoMKWlG",
        "colab": {
          "base_uri": "https://localhost:8080/"
        },
        "outputId": "1bb7a47c-e63a-49a1-bb41-a9d156c3ce9d"
      },
      "source": [
        "model.compile(optimizer=\"adam\", loss=\"categorical_crossentropy\", metrics=[\"accuracy\"])\n",
        "hist = model.fit(X_train, y_train, epochs=50, batch_size=80, validation_data=(X_test, y_test))"
      ],
      "execution_count": 41,
      "outputs": [
        {
          "output_type": "stream",
          "text": [
            "Epoch 1/50\n",
            "92/92 [==============================] - 3s 16ms/step - loss: 1.4059 - accuracy: 0.4432 - val_loss: 1.0412 - val_accuracy: 0.5914\n",
            "Epoch 2/50\n",
            "92/92 [==============================] - 1s 10ms/step - loss: 0.7431 - accuracy: 0.6953 - val_loss: 0.6830 - val_accuracy: 0.7221\n",
            "Epoch 3/50\n",
            "92/92 [==============================] - 1s 10ms/step - loss: 0.5282 - accuracy: 0.7835 - val_loss: 0.7105 - val_accuracy: 0.7285\n",
            "Epoch 4/50\n",
            "92/92 [==============================] - 1s 10ms/step - loss: 0.4067 - accuracy: 0.8562 - val_loss: 0.6217 - val_accuracy: 0.7771\n",
            "Epoch 5/50\n",
            "92/92 [==============================] - 1s 11ms/step - loss: 0.2710 - accuracy: 0.9040 - val_loss: 0.9551 - val_accuracy: 0.7099\n",
            "Epoch 6/50\n",
            "92/92 [==============================] - 1s 11ms/step - loss: 0.2260 - accuracy: 0.9134 - val_loss: 0.9167 - val_accuracy: 0.7129\n",
            "Epoch 7/50\n",
            "92/92 [==============================] - 1s 10ms/step - loss: 0.1681 - accuracy: 0.9336 - val_loss: 0.8618 - val_accuracy: 0.7465\n",
            "Epoch 8/50\n",
            "92/92 [==============================] - 1s 10ms/step - loss: 0.1679 - accuracy: 0.9376 - val_loss: 1.1282 - val_accuracy: 0.7367\n",
            "Epoch 9/50\n",
            "92/92 [==============================] - 1s 10ms/step - loss: 0.1375 - accuracy: 0.9435 - val_loss: 1.1117 - val_accuracy: 0.6739\n",
            "Epoch 10/50\n",
            "92/92 [==============================] - 1s 10ms/step - loss: 0.1348 - accuracy: 0.9460 - val_loss: 1.0935 - val_accuracy: 0.7038\n",
            "Epoch 11/50\n",
            "92/92 [==============================] - 1s 10ms/step - loss: 0.1495 - accuracy: 0.9403 - val_loss: 1.2150 - val_accuracy: 0.7119\n",
            "Epoch 12/50\n",
            "92/92 [==============================] - 1s 11ms/step - loss: 0.1213 - accuracy: 0.9521 - val_loss: 1.2503 - val_accuracy: 0.7061\n",
            "Epoch 13/50\n",
            "92/92 [==============================] - 1s 10ms/step - loss: 0.1164 - accuracy: 0.9541 - val_loss: 1.2281 - val_accuracy: 0.6854\n",
            "Epoch 14/50\n",
            "92/92 [==============================] - 1s 10ms/step - loss: 0.1588 - accuracy: 0.9424 - val_loss: 1.3688 - val_accuracy: 0.6800\n",
            "Epoch 15/50\n",
            "92/92 [==============================] - 1s 10ms/step - loss: 0.1392 - accuracy: 0.9424 - val_loss: 1.3348 - val_accuracy: 0.6637\n",
            "Epoch 16/50\n",
            "92/92 [==============================] - 1s 11ms/step - loss: 0.1357 - accuracy: 0.9419 - val_loss: 1.7483 - val_accuracy: 0.6770\n",
            "Epoch 17/50\n",
            "92/92 [==============================] - 1s 10ms/step - loss: 0.1292 - accuracy: 0.9510 - val_loss: 1.6348 - val_accuracy: 0.6651\n",
            "Epoch 18/50\n",
            "92/92 [==============================] - 1s 10ms/step - loss: 0.1068 - accuracy: 0.9545 - val_loss: 1.3752 - val_accuracy: 0.7024\n",
            "Epoch 19/50\n",
            "92/92 [==============================] - 1s 10ms/step - loss: 0.1010 - accuracy: 0.9539 - val_loss: 1.3114 - val_accuracy: 0.7150\n",
            "Epoch 20/50\n",
            "92/92 [==============================] - 1s 11ms/step - loss: 0.1006 - accuracy: 0.9574 - val_loss: 1.4781 - val_accuracy: 0.7116\n",
            "Epoch 21/50\n",
            "92/92 [==============================] - 1s 10ms/step - loss: 0.1083 - accuracy: 0.9521 - val_loss: 1.5116 - val_accuracy: 0.7061\n",
            "Epoch 22/50\n",
            "92/92 [==============================] - 1s 10ms/step - loss: 0.1183 - accuracy: 0.9496 - val_loss: 1.5280 - val_accuracy: 0.6936\n",
            "Epoch 23/50\n",
            "92/92 [==============================] - 1s 11ms/step - loss: 0.1056 - accuracy: 0.9585 - val_loss: 1.5123 - val_accuracy: 0.6946\n",
            "Epoch 24/50\n",
            "92/92 [==============================] - 1s 10ms/step - loss: 0.1058 - accuracy: 0.9511 - val_loss: 1.1256 - val_accuracy: 0.7265\n",
            "Epoch 25/50\n",
            "92/92 [==============================] - 1s 11ms/step - loss: 0.1153 - accuracy: 0.9535 - val_loss: 1.5144 - val_accuracy: 0.6943\n",
            "Epoch 26/50\n",
            "92/92 [==============================] - 1s 13ms/step - loss: 0.1334 - accuracy: 0.9505 - val_loss: 1.2040 - val_accuracy: 0.6929\n",
            "Epoch 27/50\n",
            "92/92 [==============================] - 1s 10ms/step - loss: 0.1315 - accuracy: 0.9493 - val_loss: 1.3418 - val_accuracy: 0.7024\n",
            "Epoch 28/50\n",
            "92/92 [==============================] - 1s 10ms/step - loss: 0.1040 - accuracy: 0.9571 - val_loss: 1.3447 - val_accuracy: 0.6912\n",
            "Epoch 29/50\n",
            "92/92 [==============================] - 1s 11ms/step - loss: 0.1104 - accuracy: 0.9580 - val_loss: 1.4246 - val_accuracy: 0.7055\n",
            "Epoch 30/50\n",
            "92/92 [==============================] - 1s 11ms/step - loss: 0.1105 - accuracy: 0.9535 - val_loss: 1.5233 - val_accuracy: 0.7007\n",
            "Epoch 31/50\n",
            "92/92 [==============================] - 1s 10ms/step - loss: 0.1075 - accuracy: 0.9562 - val_loss: 1.5843 - val_accuracy: 0.7072\n",
            "Epoch 32/50\n",
            "92/92 [==============================] - 1s 11ms/step - loss: 0.1016 - accuracy: 0.9554 - val_loss: 1.5676 - val_accuracy: 0.7021\n",
            "Epoch 33/50\n",
            "92/92 [==============================] - 1s 10ms/step - loss: 0.1063 - accuracy: 0.9506 - val_loss: 1.6553 - val_accuracy: 0.7038\n",
            "Epoch 34/50\n",
            "92/92 [==============================] - 1s 11ms/step - loss: 0.1104 - accuracy: 0.9535 - val_loss: 2.0401 - val_accuracy: 0.6274\n",
            "Epoch 35/50\n",
            "92/92 [==============================] - 1s 10ms/step - loss: 0.1099 - accuracy: 0.9543 - val_loss: 1.5515 - val_accuracy: 0.6766\n",
            "Epoch 36/50\n",
            "92/92 [==============================] - 1s 10ms/step - loss: 0.1095 - accuracy: 0.9558 - val_loss: 1.1433 - val_accuracy: 0.7313\n",
            "Epoch 37/50\n",
            "92/92 [==============================] - 1s 10ms/step - loss: 0.1004 - accuracy: 0.9550 - val_loss: 1.3781 - val_accuracy: 0.7194\n",
            "Epoch 38/50\n",
            "92/92 [==============================] - 1s 10ms/step - loss: 0.0994 - accuracy: 0.9583 - val_loss: 1.4447 - val_accuracy: 0.7180\n",
            "Epoch 39/50\n",
            "92/92 [==============================] - 1s 10ms/step - loss: 0.0951 - accuracy: 0.9599 - val_loss: 1.4805 - val_accuracy: 0.7177\n",
            "Epoch 40/50\n",
            "92/92 [==============================] - 1s 10ms/step - loss: 0.0914 - accuracy: 0.9628 - val_loss: 1.4636 - val_accuracy: 0.7211\n",
            "Epoch 41/50\n",
            "92/92 [==============================] - 1s 11ms/step - loss: 0.0977 - accuracy: 0.9597 - val_loss: 1.4363 - val_accuracy: 0.6861\n",
            "Epoch 42/50\n",
            "92/92 [==============================] - 1s 12ms/step - loss: 0.1232 - accuracy: 0.9503 - val_loss: 1.3875 - val_accuracy: 0.7139\n",
            "Epoch 43/50\n",
            "92/92 [==============================] - 1s 10ms/step - loss: 0.0964 - accuracy: 0.9627 - val_loss: 1.2581 - val_accuracy: 0.7387\n",
            "Epoch 44/50\n",
            "92/92 [==============================] - 1s 11ms/step - loss: 0.1305 - accuracy: 0.9412 - val_loss: 1.2968 - val_accuracy: 0.7004\n",
            "Epoch 45/50\n",
            "92/92 [==============================] - 1s 10ms/step - loss: 0.1044 - accuracy: 0.9542 - val_loss: 1.4434 - val_accuracy: 0.6875\n",
            "Epoch 46/50\n",
            "92/92 [==============================] - 1s 11ms/step - loss: 0.1152 - accuracy: 0.9504 - val_loss: 1.1292 - val_accuracy: 0.6916\n",
            "Epoch 47/50\n",
            "92/92 [==============================] - 1s 10ms/step - loss: 0.1073 - accuracy: 0.9589 - val_loss: 1.4098 - val_accuracy: 0.7085\n",
            "Epoch 48/50\n",
            "92/92 [==============================] - 1s 11ms/step - loss: 0.1015 - accuracy: 0.9572 - val_loss: 1.7131 - val_accuracy: 0.6620\n",
            "Epoch 49/50\n",
            "92/92 [==============================] - 1s 10ms/step - loss: 0.1056 - accuracy: 0.9526 - val_loss: 1.3454 - val_accuracy: 0.6780\n",
            "Epoch 50/50\n",
            "92/92 [==============================] - 1s 11ms/step - loss: 0.1024 - accuracy: 0.9537 - val_loss: 1.4960 - val_accuracy: 0.6780\n"
          ],
          "name": "stdout"
        }
      ]
    },
    {
      "cell_type": "code",
      "metadata": {
        "colab": {
          "base_uri": "https://localhost:8080/",
          "height": 282
        },
        "id": "iq-pR9hQf3G9",
        "outputId": "51ccdbe8-7247-475b-ce81-58dd6f0e6185"
      },
      "source": [
        "res = pd.DataFrame(hist.history)\r\n",
        "res[['accuracy', 'val_accuracy']].plot()"
      ],
      "execution_count": 33,
      "outputs": [
        {
          "output_type": "execute_result",
          "data": {
            "text/plain": [
              "<matplotlib.axes._subplots.AxesSubplot at 0x7f891108d940>"
            ]
          },
          "metadata": {
            "tags": []
          },
          "execution_count": 33
        },
        {
          "output_type": "display_data",
          "data": {
            "image/png": "[encoded data removed]",
            "text/plain": [
              "<Figure size 432x288 with 1 Axes>"
            ]
          },
          "metadata": {
            "tags": [],
            "needs_background": "light"
          }
        }
      ]
    },
    {
      "cell_type": "code",
      "metadata": {
        "colab": {
          "base_uri": "https://localhost:8080/",
          "height": 282
        },
        "id": "8-ofM6bkf8MX",
        "outputId": "054f4802-bce7-4946-cf61-b45a03f16b4b"
      },
      "source": [
        "res[['loss', 'val_loss']].plot()"
      ],
      "execution_count": 34,
      "outputs": [
        {
          "output_type": "execute_result",
          "data": {
            "text/plain": [
              "<matplotlib.axes._subplots.AxesSubplot at 0x7f891793fe48>"
            ]
          },
          "metadata": {
            "tags": []
          },
          "execution_count": 34
        },
        {
          "output_type": "display_data",
          "data": {
            "image/png": "[encoded data removed]",
            "text/plain": [
              "<Figure size 432x288 with 1 Axes>"
            ]
          },
          "metadata": {
            "tags": [],
            "needs_background": "light"
          }
        }
      ]
    },
    {
      "cell_type": "markdown",
      "metadata": {
        "id": "h-_IsmrcKWlI"
      },
      "source": [
        "Print the confusion matrix for the test data."
      ]
    },
    {
      "cell_type": "code",
      "metadata": {
        "id": "bDLwv62wKWlI"
      },
      "source": [
        "from sklearn.metrics import confusion_matrix\n",
        "import seaborn as sb\n",
        "\n",
        "y_pred = np.argmax(model.predict(X_test), axis=-1)\n",
        "\n",
        "cm = confusion_matrix(y_test_cat-1, y_pred)"
      ],
      "execution_count": 21,
      "outputs": []
    },
    {
      "cell_type": "code",
      "metadata": {
        "id": "ceYZ8zW4KWlK",
        "colab": {
          "base_uri": "https://localhost:8080/",
          "height": 282
        },
        "outputId": "9546df54-8301-4bac-885a-47b1351bacc2"
      },
      "source": [
        "sb.heatmap(cm, annot=True, cmap=\"Blues\")"
      ],
      "execution_count": 22,
      "outputs": [
        {
          "output_type": "execute_result",
          "data": {
            "text/plain": [
              "<matplotlib.axes._subplots.AxesSubplot at 0x7f8919c8ae80>"
            ]
          },
          "metadata": {
            "tags": []
          },
          "execution_count": 22
        },
        {
          "output_type": "display_data",
          "data": {
            "image/png": "[encoded data removed]",
            "text/plain": [
              "<Figure size 432x288 with 2 Axes>"
            ]
          },
          "metadata": {
            "tags": [],
            "needs_background": "light"
          }
        }
      ]
    },
    {
      "cell_type": "code",
      "metadata": {
        "id": "8nWDCU6phNYd"
      },
      "source": [
        ""
      ],
      "execution_count": null,
      "outputs": []
    }
  ]
}