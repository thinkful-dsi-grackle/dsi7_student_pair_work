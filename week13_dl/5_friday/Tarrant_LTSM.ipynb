{
  "nbformat": 4,
  "nbformat_minor": 0,
  "metadata": {
    "kernelspec": {
      "display_name": "Python 3",
      "language": "python",
      "name": "python3"
    },
    "language_info": {
      "codemirror_mode": {
        "name": "ipython",
        "version": 3
      },
      "file_extension": ".py",
      "mimetype": "text/x-python",
      "name": "python",
      "nbconvert_exporter": "python",
      "pygments_lexer": "ipython3",
      "version": "3.7.0"
    },
    "colab": {
      "name": "Tarrant_LTSM.ipynb",
      "provenance": [],
      "collapsed_sections": []
    },
    "accelerator": "GPU"
  },
  "cells": [
    {
      "cell_type": "markdown",
      "metadata": {
        "id": "s3b2_cqaKWkw"
      },
      "source": [
        "## Long Short-Term Memory \n",
        "\n",
        "In this assignment, we will learn about LSTM models. We will create an LSTM model for time series prediction."
      ]
    },
    {
      "cell_type": "code",
      "metadata": {
        "id": "k0a6OKp4KWkz"
      },
      "source": [
        "import numpy as np\n",
        "import os\n",
        "import pandas as pd\n",
        "\n",
        "from tensorflow.keras.models import Sequential\n",
        "from tensorflow.keras.layers import Dense, LSTM, Dropout, Flatten\n",
        "from tensorflow.keras.utils import to_categorical"
      ],
      "execution_count": 1,
      "outputs": []
    },
    {
      "cell_type": "code",
      "metadata": {
        "colab": {
          "base_uri": "https://localhost:8080/"
        },
        "id": "1mZ1pOe2xt0k",
        "outputId": "c736e3f0-a658-4b06-e77c-203a9bc23334"
      },
      "source": [
        "from google.colab import drive\n",
        "drive.mount('/content/drive')"
      ],
      "execution_count": 2,
      "outputs": [
        {
          "output_type": "stream",
          "text": [
            "Drive already mounted at /content/drive; to attempt to forcibly remount, call drive.mount(\"/content/drive\", force_remount=True).\n"
          ],
          "name": "stdout"
        }
      ]
    },
    {
      "cell_type": "code",
      "metadata": {
        "id": "mne4psN7CpYz"
      },
      "source": [
        ""
      ],
      "execution_count": 2,
      "outputs": []
    },
    {
      "cell_type": "markdown",
      "metadata": {
        "id": "UY5p0gThKWk1"
      },
      "source": [
        "Below is a function for loading time series data collected by sensors. There are 9 different files, We have data about body acceleration, body gyro, and total acceleration for the x, y, and z axis"
      ]
    },
    {
      "cell_type": "code",
      "metadata": {
        "id": "kAhD_8wwKWk2"
      },
      "source": [
        "def load_func(path, file_ind=False):\n",
        "    data_list = []\n",
        "    if file_ind:\n",
        "        filenames = [path]\n",
        "    else:\n",
        "        files = os.listdir(path)\n",
        "        filenames = [path + '/' + f for f in files]\n",
        "    for f in filenames:\n",
        "        dataframe = pd.read_csv(f, header=None, delim_whitespace=True)\n",
        "        data_list.append(dataframe.values)\n",
        "    if len(data_list) > 1:\n",
        "        return np.dstack(data_list)\n",
        "    else:\n",
        "        return data_list[0]"
      ],
      "execution_count": 3,
      "outputs": []
    },
    {
      "cell_type": "code",
      "metadata": {
        "id": "AK4pz2RClzf9"
      },
      "source": [
        "PATH = '/content/drive/MyDrive/Data/UCI HAR Dataset/'"
      ],
      "execution_count": 4,
      "outputs": []
    },
    {
      "cell_type": "code",
      "metadata": {
        "id": "06u-u8e4KWk4",
        "colab": {
          "base_uri": "https://localhost:8080/"
        },
        "outputId": "9bda919e-6c55-4c18-84a3-67ad68962ab0"
      },
      "source": [
        "os.listdir(f'{PATH}train/Inertial Signals')"
      ],
      "execution_count": 5,
      "outputs": [
        {
          "output_type": "execute_result",
          "data": {
            "text/plain": [
              "['body_acc_y_train.txt',\n",
              " 'body_gyro_z_train.txt',\n",
              " 'body_gyro_x_train.txt',\n",
              " 'body_acc_x_train.txt',\n",
              " 'total_acc_z_train.txt',\n",
              " 'body_acc_z_train.txt',\n",
              " 'total_acc_x_train.txt',\n",
              " 'body_gyro_y_train.txt',\n",
              " 'total_acc_y_train.txt']"
            ]
          },
          "metadata": {
            "tags": []
          },
          "execution_count": 5
        }
      ]
    },
    {
      "cell_type": "code",
      "metadata": {
        "id": "c5_0OBVeKWk7"
      },
      "source": [
        "X_train = load_func(f'{PATH}train/Inertial Signals')\n",
        "X_test = load_func(f'{PATH}test/Inertial Signals')\n",
        "y_train_cat = load_func(f'{PATH}train/y_train.txt', True)\n",
        "y_test_cat = load_func(f'{PATH}test/y_test.txt', True)"
      ],
      "execution_count": 6,
      "outputs": []
    },
    {
      "cell_type": "markdown",
      "metadata": {
        "id": "Rgw_29IQKWk8"
      },
      "source": [
        "Print the dimensions of both the predictor variables and the target."
      ]
    },
    {
      "cell_type": "code",
      "metadata": {
        "id": "BBiwN-zUKWk9",
        "colab": {
          "base_uri": "https://localhost:8080/"
        },
        "outputId": "ab3fb974-a02f-4fe3-ce38-820f429c75c0"
      },
      "source": [
        "# Answer below:\n",
        "print(f'X train shape: {X_train.shape}')\n",
        "print(f'Y train shape: {y_train_cat.shape}')\n",
        "print(f'X test shape: {X_test.shape}')\n",
        "print(f'Y test shape: {y_test_cat.shape}')\n"
      ],
      "execution_count": 7,
      "outputs": [
        {
          "output_type": "stream",
          "text": [
            "X train shape: (7352, 128, 9)\n",
            "Y train shape: (7352, 1)\n",
            "X test shape: (2947, 128, 9)\n",
            "Y test shape: (2947, 1)\n"
          ],
          "name": "stdout"
        }
      ]
    },
    {
      "cell_type": "code",
      "metadata": {
        "colab": {
          "base_uri": "https://localhost:8080/"
        },
        "id": "GQKp_HAT3D5N",
        "outputId": "0bb19845-a7cd-483e-fd3c-2fbaddc3bb63"
      },
      "source": [
        "X_train[:5]"
      ],
      "execution_count": 8,
      "outputs": [
        {
          "output_type": "execute_result",
          "data": {
            "text/plain": [
              "array([[[ 1.076681e-02,  2.285864e-02,  3.019122e-02, ...,\n",
              "          1.012817e+00,  6.601362e-02, -1.232167e-01],\n",
              "        [ 6.579480e-03,  1.031572e-02,  4.371071e-02, ...,\n",
              "          1.022833e+00,  4.269897e-02, -1.268756e-01],\n",
              "        [ 8.928878e-03,  1.324969e-02,  3.568780e-02, ...,\n",
              "          1.022028e+00,  7.485018e-02, -1.240037e-01],\n",
              "        ...,\n",
              "        [ 1.714439e-04, -2.170124e-03,  3.985177e-02, ...,\n",
              "          1.018445e+00,  1.909445e-03, -1.240696e-01],\n",
              "        [ 1.574181e-03, -5.642633e-03,  3.744932e-02, ...,\n",
              "          1.019372e+00, -7.982483e-05, -1.227451e-01],\n",
              "        [ 3.070189e-03, -1.446006e-03,  2.881781e-02, ...,\n",
              "          1.021171e+00, -3.771800e-05, -1.213260e-01]],\n",
              "\n",
              "       [[-4.687588e-03,  1.226815e-02,  1.711106e-02, ...,\n",
              "          1.018851e+00,  6.122797e-03, -1.239760e-01],\n",
              "        [-7.487894e-03,  1.614958e-02,  2.417851e-02, ...,\n",
              "          1.022380e+00,  9.710357e-03, -1.268078e-01],\n",
              "        [-8.429991e-03,  1.589471e-02,  3.022889e-02, ...,\n",
              "          1.020781e+00,  1.032192e-02, -1.277862e-01],\n",
              "        ...,\n",
              "        [-5.479850e-03,  5.044730e-03, -3.474078e-02, ...,\n",
              "          1.014788e+00, -8.694754e-03, -1.290268e-01],\n",
              "        [-2.987481e-03, -4.424329e-03, -3.797305e-02, ...,\n",
              "          1.016499e+00, -1.165249e-02, -1.264244e-01],\n",
              "        [-7.192009e-03, -2.797817e-03, -3.864973e-02, ...,\n",
              "          1.017849e+00, -9.440197e-03, -1.305193e-01]],\n",
              "\n",
              "       [[ 4.455942e-03,  2.158897e-03,  2.618877e-02, ...,\n",
              "          1.023127e+00, -2.383410e-04, -1.200157e-01],\n",
              "        [ 3.045876e-03, -2.724752e-04,  2.165149e-02, ...,\n",
              "          1.021882e+00, -4.275982e-04, -1.214994e-01],\n",
              "        [ 1.776179e-03,  2.630986e-03,  1.455062e-02, ...,\n",
              "          1.019178e+00,  7.611350e-04, -1.228407e-01],\n",
              "        ...,\n",
              "        [-6.397631e-03, -5.566286e-03, -2.090983e-02, ...,\n",
              "          1.021041e+00, -1.005391e-02, -1.308757e-01],\n",
              "        [-6.601456e-03, -3.701625e-03, -2.211369e-02, ...,\n",
              "          1.022935e+00, -9.717281e-03, -1.312099e-01],\n",
              "        [-5.442240e-03, -2.644745e-03, -2.023537e-02, ...,\n",
              "          1.022019e+00, -8.831462e-03, -1.301826e-01]],\n",
              "\n",
              "       [[-1.018541e-02, -8.727416e-04, -3.751574e-02, ...,\n",
              "          1.017682e+00, -1.288632e-02, -1.334039e-01],\n",
              "        [-1.125254e-02, -5.481970e-03, -3.309700e-02, ...,\n",
              "          1.018149e+00, -1.691822e-02, -1.343639e-01],\n",
              "        [-1.219630e-02, -4.678230e-03, -3.036013e-02, ...,\n",
              "          1.019854e+00, -1.618518e-02, -1.352028e-01],\n",
              "        ...,\n",
              "        [-1.829581e-05, -8.408470e-03, -2.015042e-02, ...,\n",
              "          1.019916e+00,  1.401018e-03, -1.319863e-01],\n",
              "        [-2.481271e-03, -1.115822e-02, -1.695977e-02, ...,\n",
              "          1.019602e+00,  4.472376e-04, -1.345073e-01],\n",
              "        [-1.235196e-03, -1.298664e-02, -7.120059e-03, ...,\n",
              "          1.020735e+00,  1.950985e-03, -1.333157e-01]],\n",
              "\n",
              "       [[-3.856929e-03, -1.574010e-03, -1.942932e-02, ...,\n",
              "          1.019952e+00, -8.612378e-03, -1.287306e-01],\n",
              "        [-2.837935e-03,  2.007077e-04, -1.909099e-02, ...,\n",
              "          1.019616e+00, -8.146719e-03, -1.278461e-01],\n",
              "        [-3.086418e-03, -9.700938e-04, -1.481631e-02, ...,\n",
              "          1.020933e+00, -5.376620e-03, -1.282300e-01],\n",
              "        ...,\n",
              "        [ 6.489412e-03, -4.491357e-03,  1.145144e-02, ...,\n",
              "          1.019425e+00, -5.571703e-03, -1.245585e-01],\n",
              "        [ 9.518406e-03, -3.441367e-03,  1.268365e-02, ...,\n",
              "          1.018896e+00,  3.417937e-03, -1.214556e-01],\n",
              "        [ 7.404131e-03, -1.008158e-02,  1.560483e-02, ...,\n",
              "          1.016787e+00,  1.079681e-02, -1.234940e-01]]])"
            ]
          },
          "metadata": {
            "tags": []
          },
          "execution_count": 8
        }
      ]
    },
    {
      "cell_type": "markdown",
      "metadata": {
        "id": "2rL-Y9KFKWk-"
      },
      "source": [
        "The target variable is categorical. One hot encode the target variable."
      ]
    },
    {
      "cell_type": "code",
      "metadata": {
        "colab": {
          "base_uri": "https://localhost:8080/"
        },
        "id": "zcJHlali5RFu",
        "outputId": "309299b6-9736-4d58-f86b-95f6e5bcace3"
      },
      "source": [
        "from sklearn.preprocessing import OneHotEncoder\n",
        "\n",
        "#enc = OneHotEncoder(handle_unknown='ignore') \n",
        "#y_train = enc.fit_transform(y_train_cat).toarray() \n",
        "#y_test = enc.transform(y_test_cat).toarray()\n",
        "\n",
        "y_train = to_categorical(y_train_cat - 1, 6)\n",
        "y_test = to_categorical(y_test_cat - 1, 6)\n",
        "\n",
        "y_train.shape"
      ],
      "execution_count": 9,
      "outputs": [
        {
          "output_type": "execute_result",
          "data": {
            "text/plain": [
              "(7352, 6)"
            ]
          },
          "metadata": {
            "tags": []
          },
          "execution_count": 9
        }
      ]
    },
    {
      "cell_type": "code",
      "metadata": {
        "colab": {
          "base_uri": "https://localhost:8080/"
        },
        "id": "veHTAiL15kvL",
        "outputId": "c8f68a0f-c393-495f-d3d7-c74ce371f4c4"
      },
      "source": [
        "y_test.shape"
      ],
      "execution_count": 10,
      "outputs": [
        {
          "output_type": "execute_result",
          "data": {
            "text/plain": [
              "(2947, 6)"
            ]
          },
          "metadata": {
            "tags": []
          },
          "execution_count": 10
        }
      ]
    },
    {
      "cell_type": "markdown",
      "metadata": {
        "id": "HeKcEUwsKWlA"
      },
      "source": [
        "Create a model containing an LSTM layer with unit size 100, and input shape that is the tuple containing the number of columns in X and the number of files in X.\n",
        "\n",
        "The next layer is a dropout layer. Choose 0.5 for the proportion. Then add a dense layer of unit size 100 and finally an output dense layer. "
      ]
    },
    {
      "cell_type": "code",
      "metadata": {
        "id": "ujymmzAFKWlB"
      },
      "source": [
        "from tensorflow.keras import Sequential\n",
        "from tensorflow.keras.layers import Embedding, LSTM, Dense, Dropout\n",
        "\n",
        "# instantiate model\n",
        "model = Sequential()\n",
        "# LSTM layer\n",
        "model.add(LSTM(100, input_shape=(X_train.shape[1],X_train.shape[2])))\n",
        "# dropout layer\n",
        "model.add(Dropout(0.5))\n",
        "# dense layer\n",
        "model.add(Dense(100, activation='relu'))\n",
        "# dense output layer\n",
        "model.add(Dense(y_train.shape[1], activation='softmax'))\n",
        "\n",
        "\n",
        "\n"
      ],
      "execution_count": 11,
      "outputs": []
    },
    {
      "cell_type": "markdown",
      "metadata": {
        "id": "GX4stdzAKWlC"
      },
      "source": [
        "Print the model summary to ensure you have the correct number of parameters."
      ]
    },
    {
      "cell_type": "code",
      "metadata": {
        "id": "AbUNEvSJKWlE",
        "colab": {
          "base_uri": "https://localhost:8080/"
        },
        "outputId": "c47fd3d3-a87c-4484-83e0-152b113fb39f"
      },
      "source": [
        "model.summary()\n"
      ],
      "execution_count": 12,
      "outputs": [
        {
          "output_type": "stream",
          "text": [
            "Model: \"sequential\"\n",
            "_________________________________________________________________\n",
            "Layer (type)                 Output Shape              Param #   \n",
            "=================================================================\n",
            "lstm (LSTM)                  (None, 100)               44000     \n",
            "_________________________________________________________________\n",
            "dropout (Dropout)            (None, 100)               0         \n",
            "_________________________________________________________________\n",
            "dense (Dense)                (None, 100)               10100     \n",
            "_________________________________________________________________\n",
            "dense_1 (Dense)              (None, 6)                 606       \n",
            "=================================================================\n",
            "Total params: 54,706\n",
            "Trainable params: 54,706\n",
            "Non-trainable params: 0\n",
            "_________________________________________________________________\n"
          ],
          "name": "stdout"
        }
      ]
    },
    {
      "cell_type": "markdown",
      "metadata": {
        "id": "Ww7tK6UwKWlG"
      },
      "source": [
        "Compile and fit the model. Select the appropriate activation, loss, and optimizer.\n",
        "\n",
        "Run the model for 10 epochs with a batch size of 80."
      ]
    },
    {
      "cell_type": "code",
      "metadata": {
        "id": "qdMikFoMKWlG",
        "colab": {
          "base_uri": "https://localhost:8080/"
        },
        "outputId": "9a3e66b3-fa3c-4f0b-eede-c7c8c6f10165"
      },
      "source": [
        "# compile model\n",
        "model.compile(loss='categorical_crossentropy', optimizer='adam', metrics=['accuracy'])\n",
        "# fit model\n",
        "model.fit(X_train, y_train, validation_data=(X_test, y_test), epochs=50, batch_size=80)\n"
      ],
      "execution_count": 13,
      "outputs": [
        {
          "output_type": "stream",
          "text": [
            "Epoch 1/50\n",
            "92/92 [==============================] - 5s 18ms/step - loss: 1.4159 - accuracy: 0.4044 - val_loss: 5.4999 - val_accuracy: 0.0210\n",
            "Epoch 2/50\n",
            "92/92 [==============================] - 1s 11ms/step - loss: 0.8844 - accuracy: 0.6211 - val_loss: 4.4800 - val_accuracy: 0.0495\n",
            "Epoch 3/50\n",
            "92/92 [==============================] - 1s 12ms/step - loss: 0.6650 - accuracy: 0.7008 - val_loss: 2.6475 - val_accuracy: 0.1130\n",
            "Epoch 4/50\n",
            "92/92 [==============================] - 1s 11ms/step - loss: 0.5979 - accuracy: 0.7593 - val_loss: 2.8829 - val_accuracy: 0.1731\n",
            "Epoch 5/50\n",
            "92/92 [==============================] - 1s 11ms/step - loss: 0.4207 - accuracy: 0.8482 - val_loss: 3.3052 - val_accuracy: 0.2402\n",
            "Epoch 6/50\n",
            "92/92 [==============================] - 1s 11ms/step - loss: 0.3163 - accuracy: 0.8930 - val_loss: 3.4408 - val_accuracy: 0.2464\n",
            "Epoch 7/50\n",
            "92/92 [==============================] - 1s 11ms/step - loss: 0.2537 - accuracy: 0.9188 - val_loss: 4.2167 - val_accuracy: 0.2576\n",
            "Epoch 8/50\n",
            "92/92 [==============================] - 1s 11ms/step - loss: 0.2672 - accuracy: 0.9070 - val_loss: 4.6196 - val_accuracy: 0.2589\n",
            "Epoch 9/50\n",
            "92/92 [==============================] - 1s 11ms/step - loss: 0.1700 - accuracy: 0.9386 - val_loss: 4.4946 - val_accuracy: 0.2579\n",
            "Epoch 10/50\n",
            "92/92 [==============================] - 1s 12ms/step - loss: 0.1537 - accuracy: 0.9449 - val_loss: 4.4977 - val_accuracy: 0.2599\n",
            "Epoch 11/50\n",
            "92/92 [==============================] - 1s 11ms/step - loss: 0.2094 - accuracy: 0.9235 - val_loss: 5.1484 - val_accuracy: 0.2321\n",
            "Epoch 12/50\n",
            "92/92 [==============================] - 1s 11ms/step - loss: 0.1444 - accuracy: 0.9424 - val_loss: 4.7273 - val_accuracy: 0.2654\n",
            "Epoch 13/50\n",
            "92/92 [==============================] - 1s 11ms/step - loss: 0.1639 - accuracy: 0.9369 - val_loss: 5.0958 - val_accuracy: 0.2691\n",
            "Epoch 14/50\n",
            "92/92 [==============================] - 1s 11ms/step - loss: 0.5399 - accuracy: 0.7921 - val_loss: 6.2855 - val_accuracy: 0.2559\n",
            "Epoch 15/50\n",
            "92/92 [==============================] - 1s 11ms/step - loss: 0.2652 - accuracy: 0.9130 - val_loss: 7.6801 - val_accuracy: 0.2460\n",
            "Epoch 16/50\n",
            "92/92 [==============================] - 1s 12ms/step - loss: 0.2936 - accuracy: 0.9063 - val_loss: 6.7600 - val_accuracy: 0.1629\n",
            "Epoch 17/50\n",
            "92/92 [==============================] - 1s 11ms/step - loss: 0.2384 - accuracy: 0.9087 - val_loss: 6.5647 - val_accuracy: 0.1615\n",
            "Epoch 18/50\n",
            "92/92 [==============================] - 1s 11ms/step - loss: 0.1880 - accuracy: 0.9329 - val_loss: 7.1704 - val_accuracy: 0.1663\n",
            "Epoch 19/50\n",
            "92/92 [==============================] - 1s 11ms/step - loss: 0.1694 - accuracy: 0.9397 - val_loss: 6.8601 - val_accuracy: 0.1602\n",
            "Epoch 20/50\n",
            "92/92 [==============================] - 1s 11ms/step - loss: 0.1601 - accuracy: 0.9427 - val_loss: 6.9962 - val_accuracy: 0.1731\n",
            "Epoch 21/50\n",
            "92/92 [==============================] - 1s 12ms/step - loss: 0.1673 - accuracy: 0.9371 - val_loss: 6.7585 - val_accuracy: 0.1778\n",
            "Epoch 22/50\n",
            "92/92 [==============================] - 1s 11ms/step - loss: 0.1431 - accuracy: 0.9463 - val_loss: 6.9075 - val_accuracy: 0.1683\n",
            "Epoch 23/50\n",
            "92/92 [==============================] - 1s 11ms/step - loss: 0.1493 - accuracy: 0.9425 - val_loss: 7.4370 - val_accuracy: 0.1758\n",
            "Epoch 24/50\n",
            "92/92 [==============================] - 1s 11ms/step - loss: 0.1465 - accuracy: 0.9460 - val_loss: 7.3165 - val_accuracy: 0.1795\n",
            "Epoch 25/50\n",
            "92/92 [==============================] - 1s 11ms/step - loss: 0.1530 - accuracy: 0.9481 - val_loss: 7.6310 - val_accuracy: 0.1951\n",
            "Epoch 26/50\n",
            "92/92 [==============================] - 1s 10ms/step - loss: 0.1263 - accuracy: 0.9518 - val_loss: 7.9369 - val_accuracy: 0.2087\n",
            "Epoch 27/50\n",
            "92/92 [==============================] - 1s 10ms/step - loss: 0.1409 - accuracy: 0.9500 - val_loss: 7.5973 - val_accuracy: 0.1541\n",
            "Epoch 28/50\n",
            "92/92 [==============================] - 1s 11ms/step - loss: 0.1301 - accuracy: 0.9452 - val_loss: 8.0776 - val_accuracy: 0.1710\n",
            "Epoch 29/50\n",
            "92/92 [==============================] - 1s 10ms/step - loss: 0.1121 - accuracy: 0.9518 - val_loss: 8.4735 - val_accuracy: 0.1731\n",
            "Epoch 30/50\n",
            "92/92 [==============================] - 1s 10ms/step - loss: 0.3165 - accuracy: 0.9012 - val_loss: 7.0208 - val_accuracy: 0.1734\n",
            "Epoch 31/50\n",
            "92/92 [==============================] - 1s 10ms/step - loss: 0.1678 - accuracy: 0.9372 - val_loss: 7.1733 - val_accuracy: 0.1805\n",
            "Epoch 32/50\n",
            "92/92 [==============================] - 1s 11ms/step - loss: 0.1385 - accuracy: 0.9479 - val_loss: 7.3536 - val_accuracy: 0.1870\n",
            "Epoch 33/50\n",
            "92/92 [==============================] - 1s 10ms/step - loss: 0.1245 - accuracy: 0.9476 - val_loss: 7.9086 - val_accuracy: 0.1849\n",
            "Epoch 34/50\n",
            "92/92 [==============================] - 1s 11ms/step - loss: 0.1125 - accuracy: 0.9601 - val_loss: 8.2524 - val_accuracy: 0.1870\n",
            "Epoch 35/50\n",
            "92/92 [==============================] - 1s 10ms/step - loss: 0.1145 - accuracy: 0.9493 - val_loss: 8.3586 - val_accuracy: 0.1863\n",
            "Epoch 36/50\n",
            "92/92 [==============================] - 1s 11ms/step - loss: 0.1259 - accuracy: 0.9474 - val_loss: 8.4661 - val_accuracy: 0.1866\n",
            "Epoch 37/50\n",
            "92/92 [==============================] - 1s 10ms/step - loss: 0.1147 - accuracy: 0.9530 - val_loss: 8.7170 - val_accuracy: 0.1951\n",
            "Epoch 38/50\n",
            "92/92 [==============================] - 1s 11ms/step - loss: 0.3505 - accuracy: 0.9136 - val_loss: 7.6668 - val_accuracy: 0.1975\n",
            "Epoch 39/50\n",
            "92/92 [==============================] - 1s 11ms/step - loss: 0.1155 - accuracy: 0.9521 - val_loss: 7.4295 - val_accuracy: 0.1999\n",
            "Epoch 40/50\n",
            "92/92 [==============================] - 1s 11ms/step - loss: 0.1151 - accuracy: 0.9525 - val_loss: 7.2305 - val_accuracy: 0.2141\n",
            "Epoch 41/50\n",
            "92/92 [==============================] - 1s 10ms/step - loss: 0.1167 - accuracy: 0.9493 - val_loss: 7.3796 - val_accuracy: 0.2002\n",
            "Epoch 42/50\n",
            "92/92 [==============================] - 1s 11ms/step - loss: 0.1111 - accuracy: 0.9510 - val_loss: 7.4053 - val_accuracy: 0.2165\n",
            "Epoch 43/50\n",
            "92/92 [==============================] - 1s 10ms/step - loss: 0.1122 - accuracy: 0.9546 - val_loss: 7.6109 - val_accuracy: 0.2033\n",
            "Epoch 44/50\n",
            "92/92 [==============================] - 1s 10ms/step - loss: 0.1051 - accuracy: 0.9560 - val_loss: 7.8704 - val_accuracy: 0.2046\n",
            "Epoch 45/50\n",
            "92/92 [==============================] - 1s 10ms/step - loss: 0.1064 - accuracy: 0.9584 - val_loss: 8.5757 - val_accuracy: 0.1988\n",
            "Epoch 46/50\n",
            "92/92 [==============================] - 1s 11ms/step - loss: 0.1041 - accuracy: 0.9570 - val_loss: 8.3541 - val_accuracy: 0.2012\n",
            "Epoch 47/50\n",
            "92/92 [==============================] - 1s 11ms/step - loss: 0.1207 - accuracy: 0.9514 - val_loss: 8.6627 - val_accuracy: 0.2080\n",
            "Epoch 48/50\n",
            "92/92 [==============================] - 1s 12ms/step - loss: 0.1064 - accuracy: 0.9540 - val_loss: 8.6159 - val_accuracy: 0.2083\n",
            "Epoch 49/50\n",
            "92/92 [==============================] - 1s 11ms/step - loss: 0.1140 - accuracy: 0.9523 - val_loss: 8.9447 - val_accuracy: 0.2067\n",
            "Epoch 50/50\n",
            "92/92 [==============================] - 1s 11ms/step - loss: 0.1083 - accuracy: 0.9500 - val_loss: 9.2615 - val_accuracy: 0.2134\n"
          ],
          "name": "stdout"
        },
        {
          "output_type": "execute_result",
          "data": {
            "text/plain": [
              "<tensorflow.python.keras.callbacks.History at 0x7f74703f3668>"
            ]
          },
          "metadata": {
            "tags": []
          },
          "execution_count": 13
        }
      ]
    },
    {
      "cell_type": "markdown",
      "metadata": {
        "id": "h-_IsmrcKWlI"
      },
      "source": [
        "Print the confusion matrix for the test data."
      ]
    },
    {
      "cell_type": "code",
      "metadata": {
        "id": "bDLwv62wKWlI"
      },
      "source": [
        "#plot confustion matric helper function\n",
        "def plot_confusion_matrix(cm,\n",
        "                          target_names,\n",
        "                          title='Confusion matrix',\n",
        "                          cmap=None,\n",
        "                          normalize=True):\n",
        "    \"\"\"\n",
        "    Given a scikit-learn confusion matrix (CM), make a nice plot.\n",
        "\n",
        "    Arguments\n",
        "    ---------\n",
        "    cm:           Confusion matrix from sklearn.metrics.confusion_matrix\n",
        "\n",
        "    target_names: Given classification classes, such as [0, 1, 2]\n",
        "                  The class names, for example, ['high', 'medium', 'low']\n",
        "\n",
        "    title:        The text to display at the top of the matrix\n",
        "\n",
        "    cmap:         The gradient of the values displayed from matplotlib.pyplot.cm\n",
        "                  See http://matplotlib.org/examples/color/colormaps_reference.html\n",
        "                  `plt.get_cmap('jet')` or `plt.cm.Blues`\n",
        "\n",
        "    normalize:    If `False`, plot the raw numbers\n",
        "                  If `True`, plot the proportions\n",
        "\n",
        "    Usage\n",
        "    -----\n",
        "    plot_confusion_matrix(cm           = cm,                  # Confusion matrix created by\n",
        "                                                              # `sklearn.metrics.confusion_matrix`\n",
        "                          normalize    = True,                # Show proportions\n",
        "                          target_names = y_labels_vals,       # List of names of the classes\n",
        "                          title        = best_estimator_name) # Title of graph\n",
        "\n",
        "    Citation\n",
        "    ---------\n",
        "    http://scikit-learn.org/stable/auto_examples/model_selection/plot_confusion_matrix.html\n",
        "\n",
        "    \"\"\"\n",
        "    import matplotlib.pyplot as plt\n",
        "    import numpy as np\n",
        "    import itertools\n",
        "\n",
        "    accuracy = np.trace(cm) / float(np.sum(cm))\n",
        "    misclass = 1 - accuracy\n",
        "\n",
        "    if cmap is None:\n",
        "        cmap = plt.get_cmap('Blues')\n",
        "\n",
        "    plt.figure(figsize=(8, 6))\n",
        "    plt.imshow(cm, interpolation='nearest', cmap=cmap)\n",
        "    plt.title(title)\n",
        "    plt.colorbar()\n",
        "\n",
        "    if target_names is not None:\n",
        "        tick_marks = np.arange(len(target_names))\n",
        "        plt.xticks(tick_marks, target_names, rotation=45)\n",
        "        plt.yticks(tick_marks, target_names)\n",
        "\n",
        "    if normalize:\n",
        "        cm = cm.astype('float') / cm.sum(axis=1)[:, np.newaxis]\n",
        "\n",
        "\n",
        "    thresh = cm.max() / 1.5 if normalize else cm.max() / 2\n",
        "    for i, j in itertools.product(range(cm.shape[0]), range(cm.shape[1])):\n",
        "        if normalize:\n",
        "            plt.text(j, i, \"{:0.4f}\".format(cm[i, j]),\n",
        "                     horizontalalignment=\"center\",\n",
        "                     color=\"white\" if cm[i, j] > thresh else \"black\")\n",
        "        else:\n",
        "            plt.text(j, i, \"{:,}\".format(cm[i, j]),\n",
        "                     horizontalalignment=\"center\",\n",
        "                     color=\"white\" if cm[i, j] > thresh else \"black\")\n",
        "\n",
        "\n",
        "    plt.tight_layout()\n",
        "    plt.ylabel('Predicted label')\n",
        "    plt.xlabel('True label\\naccuracy={:0.4f}; misclass={:0.4f}'.format(accuracy, misclass))\n",
        "    plt.show()\n"
      ],
      "execution_count": 14,
      "outputs": []
    },
    {
      "cell_type": "code",
      "metadata": {
        "colab": {
          "base_uri": "https://localhost:8080/"
        },
        "id": "PH-ZvYq-Lwuq",
        "outputId": "6792a0b0-fdb2-4fe4-9f46-b487ecf1f0ce"
      },
      "source": [
        "y_test_pred = np.argmax(model.predict(X_test), axis=-1)\n",
        "y_test_pred"
      ],
      "execution_count": 15,
      "outputs": [
        {
          "output_type": "execute_result",
          "data": {
            "text/plain": [
              "array([2, 2, 2, ..., 1, 1, 1])"
            ]
          },
          "metadata": {
            "tags": []
          },
          "execution_count": 15
        }
      ]
    },
    {
      "cell_type": "code",
      "metadata": {
        "colab": {
          "base_uri": "https://localhost:8080/"
        },
        "id": "AUo9_WxddVFQ",
        "outputId": "531ae95b-311b-417f-85d1-41e9844def84"
      },
      "source": [
        "y_test_pred[1]"
      ],
      "execution_count": 16,
      "outputs": [
        {
          "output_type": "execute_result",
          "data": {
            "text/plain": [
              "2"
            ]
          },
          "metadata": {
            "tags": []
          },
          "execution_count": 16
        }
      ]
    },
    {
      "cell_type": "code",
      "metadata": {
        "colab": {
          "base_uri": "https://localhost:8080/",
          "height": 467
        },
        "id": "3Djx_rSfBC-7",
        "outputId": "7947d639-2a3a-461f-e6f2-77acb6bc4c76"
      },
      "source": [
        "from sklearn.metrics import  classification_report, confusion_matrix\n",
        "\n",
        "# plot model confusion matrix\n",
        "confusion = confusion_matrix(y_test_cat-1, y_test_pred)\n",
        "plot_confusion_matrix(cm=confusion, target_names=[1,2,3,4,5,6],title = 'Model Confusion Matrix',normalize=False)\n"
      ],
      "execution_count": 18,
      "outputs": [
        {
          "output_type": "display_data",
          "data": {
            "image/png": "[encoded data removed]",
            "text/plain": [
              "<Figure size 576x432 with 2 Axes>"
            ]
          },
          "metadata": {
            "tags": [],
            "needs_background": "light"
          }
        }
      ]
    },
    {
      "cell_type": "code",
      "metadata": {
        "colab": {
          "base_uri": "https://localhost:8080/"
        },
        "id": "2VQCeN-JN7PY",
        "outputId": "995bca62-8066-45da-d29c-fa652148ad93"
      },
      "source": [
        "# model classifcation report\n",
        "print(classification_report(y_test_cat-1, y_test_pred))"
      ],
      "execution_count": 20,
      "outputs": [
        {
          "output_type": "stream",
          "text": [
            "              precision    recall  f1-score   support\n",
            "\n",
            "           0       0.00      0.00      0.00       496\n",
            "           1       0.29      0.57      0.38       471\n",
            "           2       0.14      0.54      0.22       420\n",
            "           3       0.00      0.00      0.00       491\n",
            "           4       0.00      0.00      0.00       532\n",
            "           5       0.67      0.25      0.37       537\n",
            "\n",
            "    accuracy                           0.21      2947\n",
            "   macro avg       0.18      0.23      0.16      2947\n",
            "weighted avg       0.19      0.21      0.16      2947\n",
            "\n"
          ],
          "name": "stdout"
        },
        {
          "output_type": "stream",
          "text": [
            "/usr/local/lib/python3.6/dist-packages/sklearn/metrics/_classification.py:1272: UndefinedMetricWarning: Precision and F-score are ill-defined and being set to 0.0 in labels with no predicted samples. Use `zero_division` parameter to control this behavior.\n",
            "  _warn_prf(average, modifier, msg_start, len(result))\n"
          ],
          "name": "stderr"
        }
      ]
    },
    {
      "cell_type": "markdown",
      "metadata": {
        "id": "thuL-h2boC-1"
      },
      "source": [
        "The data appears corrupted. I have reloaded it and the accuracy is still poor. I should be seeing accuracy in the 80-90% range. "
      ]
    }
  ]
}