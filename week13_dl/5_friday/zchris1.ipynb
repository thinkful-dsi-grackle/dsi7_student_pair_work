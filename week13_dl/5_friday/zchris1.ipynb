{
  "nbformat": 4,
  "nbformat_minor": 0,
  "metadata": {
    "kernelspec": {
      "display_name": "Python 3",
      "language": "python",
      "name": "python3"
    },
    "language_info": {
      "codemirror_mode": {
        "name": "ipython",
        "version": 3
      },
      "file_extension": ".py",
      "mimetype": "text/x-python",
      "name": "python",
      "nbconvert_exporter": "python",
      "pygments_lexer": "ipython3",
      "version": "3.7.0"
    },
    "colab": {
      "name": "Day 80 Lecture 1 Assignment.ipynb",
      "provenance": [],
      "collapsed_sections": []
    },
    "accelerator": "GPU"
  },
  "cells": [
    {
      "cell_type": "markdown",
      "metadata": {
        "id": "s3b2_cqaKWkw"
      },
      "source": [
        "## Long Short-Term Memory \n",
        "\n",
        "In this assignment, we will learn about LSTM models. We will create an LSTM model for time series prediction."
      ]
    },
    {
      "cell_type": "code",
      "metadata": {
        "id": "k0a6OKp4KWkz"
      },
      "source": [
        "import numpy as np\n",
        "import os\n",
        "import pandas as pd\n",
        "\n",
        "from tensorflow.keras.models import Sequential\n",
        "from tensorflow.keras.layers import Dense, LSTM, Dropout, Flatten\n",
        "from tensorflow.keras.utils import to_categorical"
      ],
      "execution_count": 2,
      "outputs": []
    },
    {
      "cell_type": "code",
      "metadata": {
        "id": "tJeDRBwJwPHO",
        "outputId": "081e8e6f-044c-415b-8a67-ff84ffd05ad0",
        "colab": {
          "base_uri": "https://localhost:8080/"
        }
      },
      "source": [
        "from google.colab import drive\n",
        "drive.mount('/content/drive')"
      ],
      "execution_count": 3,
      "outputs": [
        {
          "output_type": "stream",
          "text": [
            "Mounted at /content/drive\n"
          ],
          "name": "stdout"
        }
      ]
    },
    {
      "cell_type": "markdown",
      "metadata": {
        "id": "UY5p0gThKWk1"
      },
      "source": [
        "Below is a function for loading time series data collected by sensors. There are 9 different files, We have data about body acceleration, body gyro, and total acceleration for the x, y, and z axis"
      ]
    },
    {
      "cell_type": "code",
      "metadata": {
        "id": "kAhD_8wwKWk2"
      },
      "source": [
        "def load_func(path, file_ind=False):\n",
        "    data_list = []\n",
        "    if file_ind:\n",
        "        filenames = [path]\n",
        "    else:\n",
        "        files = os.listdir(path)\n",
        "        filenames = [path + '/' + f for f in files]\n",
        "    for f in filenames:\n",
        "        dataframe = pd.read_csv(f, header=None, delim_whitespace=True)\n",
        "        data_list.append(dataframe.values)\n",
        "    if len(data_list) > 1:\n",
        "        return np.dstack(data_list)\n",
        "    else:\n",
        "        return data_list[0]"
      ],
      "execution_count": 4,
      "outputs": []
    },
    {
      "cell_type": "code",
      "metadata": {
        "id": "06u-u8e4KWk4",
        "colab": {
          "base_uri": "https://localhost:8080/"
        },
        "outputId": "e313bcee-9f65-42d2-8082-72925b839c20"
      },
      "source": [
        "os.listdir('/content/drive/MyDrive/ConvolutionNeuralNetworks/UCI HAR Dataset/train/Inertial Signals/')"
      ],
      "execution_count": 5,
      "outputs": [
        {
          "output_type": "execute_result",
          "data": {
            "text/plain": [
              "['body_acc_x_train.txt',\n",
              " 'body_acc_y_train.txt',\n",
              " 'body_acc_z_train.txt',\n",
              " 'total_acc_y_train.txt',\n",
              " 'total_acc_x_train.txt',\n",
              " 'total_acc_z_train.txt',\n",
              " 'body_gyro_x_train.txt',\n",
              " 'body_gyro_y_train.txt',\n",
              " 'body_gyro_z_train.txt']"
            ]
          },
          "metadata": {
            "tags": []
          },
          "execution_count": 5
        }
      ]
    },
    {
      "cell_type": "code",
      "metadata": {
        "id": "c5_0OBVeKWk7"
      },
      "source": [
        "X_train = load_func(\"/content/drive/MyDrive/ConvolutionNeuralNetworks/UCI HAR Dataset/train/Inertial Signals\")\n",
        "X_test = load_func(\"/content/drive/MyDrive/ConvolutionNeuralNetworks/UCI HAR Dataset/test/Inertial Signals\")\n",
        "y_train_cat = load_func('/content/drive/MyDrive/ConvolutionNeuralNetworks/UCI HAR Dataset/train/y_train.txt', True)\n",
        "y_test_cat = load_func('/content/drive/MyDrive/ConvolutionNeuralNetworks/UCI HAR Dataset/test/y_test.txt', True)"
      ],
      "execution_count": 6,
      "outputs": []
    },
    {
      "cell_type": "markdown",
      "metadata": {
        "id": "Rgw_29IQKWk8"
      },
      "source": [
        "Print the dimensions of both the predictor variables and the target."
      ]
    },
    {
      "cell_type": "code",
      "metadata": {
        "id": "BBiwN-zUKWk9",
        "colab": {
          "base_uri": "https://localhost:8080/"
        },
        "outputId": "d8b0ebb8-69ed-4586-85a3-ef8f157701f5"
      },
      "source": [
        "# Answer below:\n",
        "print(X_train.shape)\n",
        "print(y_train_cat.shape)"
      ],
      "execution_count": 7,
      "outputs": [
        {
          "output_type": "stream",
          "text": [
            "(7352, 128, 9)\n",
            "(7352, 1)\n"
          ],
          "name": "stdout"
        }
      ]
    },
    {
      "cell_type": "code",
      "metadata": {
        "id": "KvmuO_7o5Be6",
        "outputId": "fbbe0387-ec51-4776-a726-46e9dda776ea",
        "colab": {
          "base_uri": "https://localhost:8080/"
        }
      },
      "source": [
        "y_train_cat"
      ],
      "execution_count": 8,
      "outputs": [
        {
          "output_type": "execute_result",
          "data": {
            "text/plain": [
              "array([[5],\n",
              "       [5],\n",
              "       [5],\n",
              "       ...,\n",
              "       [2],\n",
              "       [2],\n",
              "       [2]])"
            ]
          },
          "metadata": {
            "tags": []
          },
          "execution_count": 8
        }
      ]
    },
    {
      "cell_type": "markdown",
      "metadata": {
        "id": "2rL-Y9KFKWk-"
      },
      "source": [
        "The target variable is categorical. One hot encode the target variable."
      ]
    },
    {
      "cell_type": "code",
      "metadata": {
        "id": "TbhbHz9_8P2L",
        "outputId": "89f3f3ca-13c0-4b44-dc1f-7412e386fdec",
        "colab": {
          "base_uri": "https://localhost:8080/"
        }
      },
      "source": [
        "df = pd.DataFrame(y_test_cat)\n",
        "y_test_cat = df[0]\n",
        "y_test_cat = pd.get_dummies(y_test_cat)\n",
        "y_test_cat.shape"
      ],
      "execution_count": 9,
      "outputs": [
        {
          "output_type": "execute_result",
          "data": {
            "text/plain": [
              "(2947, 6)"
            ]
          },
          "metadata": {
            "tags": []
          },
          "execution_count": 9
        }
      ]
    },
    {
      "cell_type": "code",
      "metadata": {
        "id": "2BzBC9QNKWk_",
        "colab": {
          "base_uri": "https://localhost:8080/",
          "height": 419
        },
        "outputId": "2ebce03f-fac4-45ab-f8bd-68d4352a4bb6"
      },
      "source": [
        "# Answer below:\n",
        "df = pd.DataFrame(y_train_cat)\n",
        "y_train_cat = df[0]\n",
        "y_train_cat = pd.get_dummies(y_train_cat)\n",
        "y_train_cat"
      ],
      "execution_count": 10,
      "outputs": [
        {
          "output_type": "execute_result",
          "data": {
            "text/html": [
              "<div>\n",
              "<style scoped>\n",
              "    .dataframe tbody tr th:only-of-type {\n",
              "        vertical-align: middle;\n",
              "    }\n",
              "\n",
              "    .dataframe tbody tr th {\n",
              "        vertical-align: top;\n",
              "    }\n",
              "\n",
              "    .dataframe thead th {\n",
              "        text-align: right;\n",
              "    }\n",
              "</style>\n",
              "<table border=\"1\" class=\"dataframe\">\n",
              "  <thead>\n",
              "    <tr style=\"text-align: right;\">\n",
              "      <th></th>\n",
              "      <th>1</th>\n",
              "      <th>2</th>\n",
              "      <th>3</th>\n",
              "      <th>4</th>\n",
              "      <th>5</th>\n",
              "      <th>6</th>\n",
              "    </tr>\n",
              "  </thead>\n",
              "  <tbody>\n",
              "    <tr>\n",
              "      <th>0</th>\n",
              "      <td>0</td>\n",
              "      <td>0</td>\n",
              "      <td>0</td>\n",
              "      <td>0</td>\n",
              "      <td>1</td>\n",
              "      <td>0</td>\n",
              "    </tr>\n",
              "    <tr>\n",
              "      <th>1</th>\n",
              "      <td>0</td>\n",
              "      <td>0</td>\n",
              "      <td>0</td>\n",
              "      <td>0</td>\n",
              "      <td>1</td>\n",
              "      <td>0</td>\n",
              "    </tr>\n",
              "    <tr>\n",
              "      <th>2</th>\n",
              "      <td>0</td>\n",
              "      <td>0</td>\n",
              "      <td>0</td>\n",
              "      <td>0</td>\n",
              "      <td>1</td>\n",
              "      <td>0</td>\n",
              "    </tr>\n",
              "    <tr>\n",
              "      <th>3</th>\n",
              "      <td>0</td>\n",
              "      <td>0</td>\n",
              "      <td>0</td>\n",
              "      <td>0</td>\n",
              "      <td>1</td>\n",
              "      <td>0</td>\n",
              "    </tr>\n",
              "    <tr>\n",
              "      <th>4</th>\n",
              "      <td>0</td>\n",
              "      <td>0</td>\n",
              "      <td>0</td>\n",
              "      <td>0</td>\n",
              "      <td>1</td>\n",
              "      <td>0</td>\n",
              "    </tr>\n",
              "    <tr>\n",
              "      <th>...</th>\n",
              "      <td>...</td>\n",
              "      <td>...</td>\n",
              "      <td>...</td>\n",
              "      <td>...</td>\n",
              "      <td>...</td>\n",
              "      <td>...</td>\n",
              "    </tr>\n",
              "    <tr>\n",
              "      <th>7347</th>\n",
              "      <td>0</td>\n",
              "      <td>1</td>\n",
              "      <td>0</td>\n",
              "      <td>0</td>\n",
              "      <td>0</td>\n",
              "      <td>0</td>\n",
              "    </tr>\n",
              "    <tr>\n",
              "      <th>7348</th>\n",
              "      <td>0</td>\n",
              "      <td>1</td>\n",
              "      <td>0</td>\n",
              "      <td>0</td>\n",
              "      <td>0</td>\n",
              "      <td>0</td>\n",
              "    </tr>\n",
              "    <tr>\n",
              "      <th>7349</th>\n",
              "      <td>0</td>\n",
              "      <td>1</td>\n",
              "      <td>0</td>\n",
              "      <td>0</td>\n",
              "      <td>0</td>\n",
              "      <td>0</td>\n",
              "    </tr>\n",
              "    <tr>\n",
              "      <th>7350</th>\n",
              "      <td>0</td>\n",
              "      <td>1</td>\n",
              "      <td>0</td>\n",
              "      <td>0</td>\n",
              "      <td>0</td>\n",
              "      <td>0</td>\n",
              "    </tr>\n",
              "    <tr>\n",
              "      <th>7351</th>\n",
              "      <td>0</td>\n",
              "      <td>1</td>\n",
              "      <td>0</td>\n",
              "      <td>0</td>\n",
              "      <td>0</td>\n",
              "      <td>0</td>\n",
              "    </tr>\n",
              "  </tbody>\n",
              "</table>\n",
              "<p>7352 rows × 6 columns</p>\n",
              "</div>"
            ],
            "text/plain": [
              "      1  2  3  4  5  6\n",
              "0     0  0  0  0  1  0\n",
              "1     0  0  0  0  1  0\n",
              "2     0  0  0  0  1  0\n",
              "3     0  0  0  0  1  0\n",
              "4     0  0  0  0  1  0\n",
              "...  .. .. .. .. .. ..\n",
              "7347  0  1  0  0  0  0\n",
              "7348  0  1  0  0  0  0\n",
              "7349  0  1  0  0  0  0\n",
              "7350  0  1  0  0  0  0\n",
              "7351  0  1  0  0  0  0\n",
              "\n",
              "[7352 rows x 6 columns]"
            ]
          },
          "metadata": {
            "tags": []
          },
          "execution_count": 10
        }
      ]
    },
    {
      "cell_type": "markdown",
      "metadata": {
        "id": "HeKcEUwsKWlA"
      },
      "source": [
        "Create a model containing an LSTM layer with unit size 100, and input shape that is the tuple containing the number of columns in X and the number of files in X.\n",
        "\n",
        "The next layer is a dropout layer. Choose 0.5 for the proportion. Then add a dense layer of unit size 100 and finally an output dense layer. "
      ]
    },
    {
      "cell_type": "code",
      "metadata": {
        "id": "ujymmzAFKWlB"
      },
      "source": [
        "# Answer below:\n",
        "model = Sequential()\n",
        "model.add(LSTM(100, input_shape=(128,9)))\n",
        "model.add(Dropout(0.5))\n",
        "model.add(Dense(100, activation='relu'))\n",
        "model.add(Dense(6, activation='softmax'))\n"
      ],
      "execution_count": 11,
      "outputs": []
    },
    {
      "cell_type": "markdown",
      "metadata": {
        "id": "GX4stdzAKWlC"
      },
      "source": [
        "Print the model summary to ensure you have the correct number of parameters."
      ]
    },
    {
      "cell_type": "code",
      "metadata": {
        "id": "AbUNEvSJKWlE",
        "colab": {
          "base_uri": "https://localhost:8080/"
        },
        "outputId": "f67232e7-df15-47e2-cf6e-ccdf6bc70d99"
      },
      "source": [
        "# Answer below:\n",
        "model.summary()\n"
      ],
      "execution_count": 12,
      "outputs": [
        {
          "output_type": "stream",
          "text": [
            "Model: \"sequential\"\n",
            "_________________________________________________________________\n",
            "Layer (type)                 Output Shape              Param #   \n",
            "=================================================================\n",
            "lstm (LSTM)                  (None, 100)               44000     \n",
            "_________________________________________________________________\n",
            "dropout (Dropout)            (None, 100)               0         \n",
            "_________________________________________________________________\n",
            "dense (Dense)                (None, 100)               10100     \n",
            "_________________________________________________________________\n",
            "dense_1 (Dense)              (None, 6)                 606       \n",
            "=================================================================\n",
            "Total params: 54,706\n",
            "Trainable params: 54,706\n",
            "Non-trainable params: 0\n",
            "_________________________________________________________________\n"
          ],
          "name": "stdout"
        }
      ]
    },
    {
      "cell_type": "markdown",
      "metadata": {
        "id": "Ww7tK6UwKWlG"
      },
      "source": [
        "Compile and fit the model. Select the appropriate activation, loss, and optimizer.\n",
        "\n",
        "Run the model for 10 epochs with a batch size of 80."
      ]
    },
    {
      "cell_type": "code",
      "metadata": {
        "id": "qdMikFoMKWlG",
        "colab": {
          "base_uri": "https://localhost:8080/"
        },
        "outputId": "3f78d051-45e9-4431-9589-6fb91eb8eb7c"
      },
      "source": [
        "# Answer below:\n",
        "model.compile(optimizer='adam', loss='categorical_crossentropy', metrics=['accuracy'])\n",
        "model.fit(X_train, y_train_cat, validation_data=(X_test, y_test_cat), batch_size=80, epochs=50)\n"
      ],
      "execution_count": 13,
      "outputs": [
        {
          "output_type": "stream",
          "text": [
            "Epoch 1/50\n",
            "92/92 [==============================] - 9s 17ms/step - loss: 1.4750 - accuracy: 0.3842 - val_loss: 6.8058 - val_accuracy: 0.0675\n",
            "Epoch 2/50\n",
            "92/92 [==============================] - 1s 10ms/step - loss: 1.1133 - accuracy: 0.5230 - val_loss: 7.4514 - val_accuracy: 0.0675\n",
            "Epoch 3/50\n",
            "92/92 [==============================] - 1s 10ms/step - loss: 0.7774 - accuracy: 0.6775 - val_loss: 8.8171 - val_accuracy: 0.0580\n",
            "Epoch 4/50\n",
            "92/92 [==============================] - 1s 10ms/step - loss: 0.6339 - accuracy: 0.7526 - val_loss: 8.7956 - val_accuracy: 0.0763\n",
            "Epoch 5/50\n",
            "92/92 [==============================] - 1s 10ms/step - loss: 0.5371 - accuracy: 0.7977 - val_loss: 10.5967 - val_accuracy: 0.0774\n",
            "Epoch 6/50\n",
            "92/92 [==============================] - 1s 10ms/step - loss: 0.4007 - accuracy: 0.8587 - val_loss: 9.6644 - val_accuracy: 0.0590\n",
            "Epoch 7/50\n",
            "92/92 [==============================] - 1s 10ms/step - loss: 0.2692 - accuracy: 0.9099 - val_loss: 10.9079 - val_accuracy: 0.0794\n",
            "Epoch 8/50\n",
            "92/92 [==============================] - 1s 10ms/step - loss: 0.3045 - accuracy: 0.9066 - val_loss: 7.6774 - val_accuracy: 0.0835\n",
            "Epoch 9/50\n",
            "92/92 [==============================] - 1s 10ms/step - loss: 0.1985 - accuracy: 0.9299 - val_loss: 9.1665 - val_accuracy: 0.0702\n",
            "Epoch 10/50\n",
            "92/92 [==============================] - 1s 11ms/step - loss: 0.1744 - accuracy: 0.9365 - val_loss: 8.3941 - val_accuracy: 0.0668\n",
            "Epoch 11/50\n",
            "92/92 [==============================] - 1s 10ms/step - loss: 0.2006 - accuracy: 0.9234 - val_loss: 10.5808 - val_accuracy: 0.0706\n",
            "Epoch 12/50\n",
            "92/92 [==============================] - 1s 10ms/step - loss: 0.1531 - accuracy: 0.9428 - val_loss: 11.5182 - val_accuracy: 0.0689\n",
            "Epoch 13/50\n",
            "92/92 [==============================] - 1s 10ms/step - loss: 0.1404 - accuracy: 0.9475 - val_loss: 12.3856 - val_accuracy: 0.0723\n",
            "Epoch 14/50\n",
            "92/92 [==============================] - 1s 10ms/step - loss: 0.1395 - accuracy: 0.9471 - val_loss: 12.6048 - val_accuracy: 0.0702\n",
            "Epoch 15/50\n",
            "92/92 [==============================] - 1s 10ms/step - loss: 0.1304 - accuracy: 0.9465 - val_loss: 12.6791 - val_accuracy: 0.0750\n",
            "Epoch 16/50\n",
            "92/92 [==============================] - 1s 10ms/step - loss: 0.1397 - accuracy: 0.9488 - val_loss: 13.4787 - val_accuracy: 0.0709\n",
            "Epoch 17/50\n",
            "92/92 [==============================] - 1s 10ms/step - loss: 0.1703 - accuracy: 0.9333 - val_loss: 13.4020 - val_accuracy: 0.0750\n",
            "Epoch 18/50\n",
            "92/92 [==============================] - 1s 10ms/step - loss: 0.1164 - accuracy: 0.9547 - val_loss: 13.9048 - val_accuracy: 0.0682\n",
            "Epoch 19/50\n",
            "92/92 [==============================] - 1s 10ms/step - loss: 0.1186 - accuracy: 0.9564 - val_loss: 13.7640 - val_accuracy: 0.0685\n",
            "Epoch 20/50\n",
            "92/92 [==============================] - 1s 10ms/step - loss: 0.1272 - accuracy: 0.9456 - val_loss: 14.4861 - val_accuracy: 0.0648\n",
            "Epoch 21/50\n",
            "92/92 [==============================] - 1s 10ms/step - loss: 0.1287 - accuracy: 0.9484 - val_loss: 14.2441 - val_accuracy: 0.0641\n",
            "Epoch 22/50\n",
            "92/92 [==============================] - 1s 10ms/step - loss: 0.1222 - accuracy: 0.9431 - val_loss: 13.7989 - val_accuracy: 0.0607\n",
            "Epoch 23/50\n",
            "92/92 [==============================] - 1s 10ms/step - loss: 0.4025 - accuracy: 0.8825 - val_loss: 9.7325 - val_accuracy: 0.0502\n",
            "Epoch 24/50\n",
            "92/92 [==============================] - 1s 10ms/step - loss: 0.1372 - accuracy: 0.9482 - val_loss: 8.6282 - val_accuracy: 0.0845\n",
            "Epoch 25/50\n",
            "92/92 [==============================] - 1s 10ms/step - loss: 0.1293 - accuracy: 0.9523 - val_loss: 11.5645 - val_accuracy: 0.0777\n",
            "Epoch 26/50\n",
            "92/92 [==============================] - 1s 10ms/step - loss: 0.1166 - accuracy: 0.9547 - val_loss: 12.4576 - val_accuracy: 0.0825\n",
            "Epoch 27/50\n",
            "92/92 [==============================] - 1s 10ms/step - loss: 0.1027 - accuracy: 0.9566 - val_loss: 13.0707 - val_accuracy: 0.0828\n",
            "Epoch 28/50\n",
            "92/92 [==============================] - 1s 10ms/step - loss: 0.1091 - accuracy: 0.9544 - val_loss: 13.4564 - val_accuracy: 0.0777\n",
            "Epoch 29/50\n",
            "92/92 [==============================] - 1s 10ms/step - loss: 0.1072 - accuracy: 0.9590 - val_loss: 11.8775 - val_accuracy: 0.0923\n",
            "Epoch 30/50\n",
            "92/92 [==============================] - 1s 10ms/step - loss: 0.1679 - accuracy: 0.9384 - val_loss: 9.9942 - val_accuracy: 0.1211\n",
            "Epoch 31/50\n",
            "92/92 [==============================] - 1s 10ms/step - loss: 0.1573 - accuracy: 0.9388 - val_loss: 12.7885 - val_accuracy: 0.0604\n",
            "Epoch 32/50\n",
            "92/92 [==============================] - 1s 10ms/step - loss: 0.1700 - accuracy: 0.9379 - val_loss: 10.9864 - val_accuracy: 0.0641\n",
            "Epoch 33/50\n",
            "92/92 [==============================] - 1s 10ms/step - loss: 0.1296 - accuracy: 0.9490 - val_loss: 11.8349 - val_accuracy: 0.0662\n",
            "Epoch 34/50\n",
            "92/92 [==============================] - 1s 10ms/step - loss: 0.1124 - accuracy: 0.9554 - val_loss: 12.6747 - val_accuracy: 0.0736\n",
            "Epoch 35/50\n",
            "92/92 [==============================] - 1s 10ms/step - loss: 0.1216 - accuracy: 0.9521 - val_loss: 12.8366 - val_accuracy: 0.0668\n",
            "Epoch 36/50\n",
            "92/92 [==============================] - 1s 10ms/step - loss: 0.1359 - accuracy: 0.9472 - val_loss: 12.7343 - val_accuracy: 0.0635\n",
            "Epoch 37/50\n",
            "92/92 [==============================] - 1s 10ms/step - loss: 0.1053 - accuracy: 0.9569 - val_loss: 13.3545 - val_accuracy: 0.0570\n",
            "Epoch 38/50\n",
            "92/92 [==============================] - 1s 10ms/step - loss: 0.1079 - accuracy: 0.9541 - val_loss: 13.8013 - val_accuracy: 0.0675\n",
            "Epoch 39/50\n",
            "92/92 [==============================] - 1s 10ms/step - loss: 0.1146 - accuracy: 0.9496 - val_loss: 14.3277 - val_accuracy: 0.0672\n",
            "Epoch 40/50\n",
            "92/92 [==============================] - 1s 10ms/step - loss: 0.1105 - accuracy: 0.9551 - val_loss: 14.2516 - val_accuracy: 0.0668\n",
            "Epoch 41/50\n",
            "92/92 [==============================] - 1s 10ms/step - loss: 0.1082 - accuracy: 0.9565 - val_loss: 14.6230 - val_accuracy: 0.0668\n",
            "Epoch 42/50\n",
            "92/92 [==============================] - 1s 10ms/step - loss: 0.1355 - accuracy: 0.9422 - val_loss: 10.2479 - val_accuracy: 0.0747\n",
            "Epoch 43/50\n",
            "92/92 [==============================] - 1s 10ms/step - loss: 0.1418 - accuracy: 0.9464 - val_loss: 13.0866 - val_accuracy: 0.0892\n",
            "Epoch 44/50\n",
            "92/92 [==============================] - 1s 10ms/step - loss: 0.1404 - accuracy: 0.9509 - val_loss: 13.6445 - val_accuracy: 0.0791\n",
            "Epoch 45/50\n",
            "92/92 [==============================] - 1s 10ms/step - loss: 0.1152 - accuracy: 0.9562 - val_loss: 13.7921 - val_accuracy: 0.0730\n",
            "Epoch 46/50\n",
            "92/92 [==============================] - 1s 10ms/step - loss: 0.1096 - accuracy: 0.9573 - val_loss: 14.2321 - val_accuracy: 0.0777\n",
            "Epoch 47/50\n",
            "92/92 [==============================] - 1s 10ms/step - loss: 0.1198 - accuracy: 0.9522 - val_loss: 12.6074 - val_accuracy: 0.0801\n",
            "Epoch 48/50\n",
            "92/92 [==============================] - 1s 10ms/step - loss: 0.1272 - accuracy: 0.9484 - val_loss: 13.7459 - val_accuracy: 0.0750\n",
            "Epoch 49/50\n",
            "92/92 [==============================] - 1s 10ms/step - loss: 0.1113 - accuracy: 0.9538 - val_loss: 14.3418 - val_accuracy: 0.0730\n",
            "Epoch 50/50\n",
            "92/92 [==============================] - 1s 10ms/step - loss: 0.1092 - accuracy: 0.9568 - val_loss: 14.7944 - val_accuracy: 0.0730\n"
          ],
          "name": "stdout"
        },
        {
          "output_type": "execute_result",
          "data": {
            "text/plain": [
              "<tensorflow.python.keras.callbacks.History at 0x7f9202278748>"
            ]
          },
          "metadata": {
            "tags": []
          },
          "execution_count": 13
        }
      ]
    },
    {
      "cell_type": "markdown",
      "metadata": {
        "id": "h-_IsmrcKWlI"
      },
      "source": [
        "Print the confusion matrix for the test data."
      ]
    },
    {
      "cell_type": "code",
      "metadata": {
        "id": "bDLwv62wKWlI"
      },
      "source": [
        "# Answer below:\n",
        "import seaborn as sns\n",
        "from sklearn.metrics import confusion_matrix\n",
        "\n",
        "y_pred = np.argmax(model.predict(X_test), axis=-1)\n",
        "y_test_cat = load_func('/content/drive/MyDrive/ConvolutionNeuralNetworks/UCI HAR Dataset/test/y_test.txt', True)\n",
        "cm = confusion_matrix(y_test_cat-1, y_pred)"
      ],
      "execution_count": 14,
      "outputs": []
    },
    {
      "cell_type": "code",
      "metadata": {
        "id": "ceYZ8zW4KWlK",
        "colab": {
          "base_uri": "https://localhost:8080/",
          "height": 282
        },
        "outputId": "f8427490-40c9-4547-ef13-d6fe276bbe7b"
      },
      "source": [
        "sns.heatmap(cm, annot=True, cmap='Blues')"
      ],
      "execution_count": 15,
      "outputs": [
        {
          "output_type": "execute_result",
          "data": {
            "text/plain": [
              "<matplotlib.axes._subplots.AxesSubplot at 0x7f92022a3400>"
            ]
          },
          "metadata": {
            "tags": []
          },
          "execution_count": 15
        },
        {
          "output_type": "display_data",
          "data": {
            "image/png": "[encoded data removed]",
            "text/plain": [
              "<Figure size 432x288 with 2 Axes>"
            ]
          },
          "metadata": {
            "tags": [],
            "needs_background": "light"
          }
        }
      ]
    }
  ]
}