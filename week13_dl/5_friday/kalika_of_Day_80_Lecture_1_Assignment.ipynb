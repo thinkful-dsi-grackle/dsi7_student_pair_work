{
  "nbformat": 4,
  "nbformat_minor": 0,
  "metadata": {
    "kernelspec": {
      "display_name": "Python 3",
      "language": "python",
      "name": "python3"
    },
    "language_info": {
      "codemirror_mode": {
        "name": "ipython",
        "version": 3
      },
      "file_extension": ".py",
      "mimetype": "text/x-python",
      "name": "python",
      "nbconvert_exporter": "python",
      "pygments_lexer": "ipython3",
      "version": "3.7.0"
    },
    "colab": {
      "name": "kalika of Day 80 Lecture 1 Assignment.ipynb",
      "provenance": [],
      "collapsed_sections": []
    }
  },
  "cells": [
    {
      "cell_type": "markdown",
      "metadata": {
        "id": "s3b2_cqaKWkw"
      },
      "source": [
        "## Long Short-Term Memory \n",
        "\n",
        "In this assignment, we will learn about LSTM models. We will create an LSTM model for time series prediction."
      ]
    },
    {
      "cell_type": "code",
      "metadata": {
        "id": "k0a6OKp4KWkz"
      },
      "source": [
        "import numpy as np\n",
        "import os\n",
        "import pandas as pd\n",
        "\n",
        "from tensorflow.keras.models import Sequential\n",
        "from tensorflow.keras.layers import Dense, LSTM, Dropout, Flatten\n",
        "from tensorflow.keras.utils import to_categorical"
      ],
      "execution_count": null,
      "outputs": []
    },
    {
      "cell_type": "code",
      "metadata": {
        "id": "mne4psN7CpYz"
      },
      "source": [
        "from sklearn.metrics import confusion_matrix"
      ],
      "execution_count": null,
      "outputs": []
    },
    {
      "cell_type": "markdown",
      "metadata": {
        "id": "UY5p0gThKWk1"
      },
      "source": [
        "Below is a function for loading time series data collected by sensors. There are 9 different files, We have data about body acceleration, body gyro, and total acceleration for the x, y, and z axis"
      ]
    },
    {
      "cell_type": "code",
      "metadata": {
        "id": "kAhD_8wwKWk2"
      },
      "source": [
        "def load_func(path, file_ind=False):\n",
        "    data_list = []\n",
        "    if file_ind:\n",
        "        filenames = [path]\n",
        "    else:\n",
        "        files = os.listdir(path)\n",
        "        filenames = [path + '/' + f for f in files]\n",
        "    for f in filenames:\n",
        "        dataframe = pd.read_csv(f, header=None, delim_whitespace=True)\n",
        "        data_list.append(dataframe.values)\n",
        "    if len(data_list) > 1:\n",
        "        return np.dstack(data_list)\n",
        "    else:\n",
        "        return data_list[0]"
      ],
      "execution_count": null,
      "outputs": []
    },
    {
      "cell_type": "code",
      "metadata": {
        "colab": {
          "base_uri": "https://localhost:8080/"
        },
        "id": "3GB26pDqg00h",
        "outputId": "4f8507cc-7376-428c-8014-70663ae31b10"
      },
      "source": [
        "from google.colab import drive\n",
        "drive.mount('/content/drive')"
      ],
      "execution_count": null,
      "outputs": [
        {
          "output_type": "stream",
          "text": [
            "Mounted at /content/drive\n"
          ],
          "name": "stdout"
        }
      ]
    },
    {
      "cell_type": "code",
      "metadata": {
        "id": "06u-u8e4KWk4",
        "colab": {
          "base_uri": "https://localhost:8080/"
        },
        "outputId": "e0b0014f-cd8d-4954-b82f-f1992be7177a"
      },
      "source": [
        "PATH = './drive/MyDrive/content/UCI HAR Dataset/'\r\n",
        "os.listdir(PATH)"
      ],
      "execution_count": null,
      "outputs": [
        {
          "output_type": "execute_result",
          "data": {
            "text/plain": [
              "['.DS_Store',\n",
              " 'train',\n",
              " 'test',\n",
              " 'activity_labels.txt',\n",
              " 'features.txt',\n",
              " 'features_info.txt',\n",
              " 'README.txt']"
            ]
          },
          "metadata": {
            "tags": []
          },
          "execution_count": 9
        }
      ]
    },
    {
      "cell_type": "code",
      "metadata": {
        "id": "c5_0OBVeKWk7"
      },
      "source": [
        "X_train = load_func(PATH + \"/train/Inertial Signals\")\n",
        "X_test = load_func(PATH + \"/test/Inertial Signals\")\n",
        "y_train_cat = load_func(PATH + '/train/y_train.txt', True)\n",
        "y_test_cat = load_func(PATH + '/test/y_test.txt', True)"
      ],
      "execution_count": null,
      "outputs": []
    },
    {
      "cell_type": "markdown",
      "metadata": {
        "id": "Rgw_29IQKWk8"
      },
      "source": [
        "Print the dimensions of both the predictor variables and the target."
      ]
    },
    {
      "cell_type": "code",
      "metadata": {
        "id": "BBiwN-zUKWk9",
        "colab": {
          "base_uri": "https://localhost:8080/"
        },
        "outputId": "c789400f-19d2-44f6-9e81-35c6c6d8bf02"
      },
      "source": [
        "# Answer below:\n",
        "# Answer below:\n",
        "print( X_train.shape, y_train_cat.shape,\n",
        "      X_test.shape, y_test_cat.shape)\n"
      ],
      "execution_count": null,
      "outputs": [
        {
          "output_type": "stream",
          "text": [
            "(7352, 128, 9) (7352, 1) (2947, 128, 9) (2947, 1)\n"
          ],
          "name": "stdout"
        }
      ]
    },
    {
      "cell_type": "markdown",
      "metadata": {
        "id": "2rL-Y9KFKWk-"
      },
      "source": [
        "The target variable is categorical. One hot encode the target variable."
      ]
    },
    {
      "cell_type": "code",
      "metadata": {
        "id": "2BzBC9QNKWk_"
      },
      "source": [
        "# Answer below:\n",
        "y_train = to_categorical(y_train_cat - 1, 6)\n",
        "y_test = to_categorical(y_test_cat - 1, 6)"
      ],
      "execution_count": null,
      "outputs": []
    },
    {
      "cell_type": "markdown",
      "metadata": {
        "id": "HeKcEUwsKWlA"
      },
      "source": [
        "Create a model containing an LSTM layer with unit size 100, and input shape that is the tuple containing the number of columns in X and the number of files in X.\n",
        "\n",
        "The next layer is a dropout layer. Choose 0.5 for the proportion. Then add a dense layer of unit size 100 and finally an output dense layer. "
      ]
    },
    {
      "cell_type": "code",
      "metadata": {
        "id": "ujymmzAFKWlB"
      },
      "source": [
        "# Answer below:\n",
        "n_timesteps, n_features, n_outputs = X_train.shape[1], X_train.shape[2], y_train.shape[1]\n",
        "n_timesteps, n_features, n_outputs\n",
        "\n",
        "model = Sequential()\n",
        "model.add(LSTM(100, input_shape=(n_timesteps, n_features)))\n",
        "model.add(Dropout(0.5))\n",
        "model.add(Dense(100, activation='relu'))\n",
        "model.add(Dense(n_outputs, activation='softmax'))\n"
      ],
      "execution_count": null,
      "outputs": []
    },
    {
      "cell_type": "markdown",
      "metadata": {
        "id": "GX4stdzAKWlC"
      },
      "source": [
        "Print the model summary to ensure you have the correct number of parameters."
      ]
    },
    {
      "cell_type": "code",
      "metadata": {
        "id": "AbUNEvSJKWlE",
        "colab": {
          "base_uri": "https://localhost:8080/"
        },
        "outputId": "51ceafd4-b4e7-4607-d639-1d2e8ff64ebe"
      },
      "source": [
        "# Answer below:\n",
        "model.summary()\n"
      ],
      "execution_count": null,
      "outputs": [
        {
          "output_type": "stream",
          "text": [
            "Model: \"sequential\"\n",
            "_________________________________________________________________\n",
            "Layer (type)                 Output Shape              Param #   \n",
            "=================================================================\n",
            "lstm (LSTM)                  (None, 100)               44000     \n",
            "_________________________________________________________________\n",
            "dropout (Dropout)            (None, 100)               0         \n",
            "_________________________________________________________________\n",
            "dense (Dense)                (None, 100)               10100     \n",
            "_________________________________________________________________\n",
            "dense_1 (Dense)              (None, 6)                 606       \n",
            "=================================================================\n",
            "Total params: 54,706\n",
            "Trainable params: 54,706\n",
            "Non-trainable params: 0\n",
            "_________________________________________________________________\n"
          ],
          "name": "stdout"
        }
      ]
    },
    {
      "cell_type": "markdown",
      "metadata": {
        "id": "Ww7tK6UwKWlG"
      },
      "source": [
        "Compile and fit the model. Select the appropriate activation, loss, and optimizer.\n",
        "\n",
        "Run the model for 10 epochs with a batch size of 80."
      ]
    },
    {
      "cell_type": "code",
      "metadata": {
        "id": "qdMikFoMKWlG",
        "colab": {
          "base_uri": "https://localhost:8080/"
        },
        "outputId": "17ee07e2-fa01-4f82-af77-9e9fc1bf71a7"
      },
      "source": [
        "# Answer below:\n",
        "model.compile(optimizer='adam', loss='categorical_crossentropy', metrics=['accuracy'])\n",
        "\n",
        "model.fit(X_train, y_train, validation_data = (X_test, y_test), batch_size=80, epochs=10)\n"
      ],
      "execution_count": null,
      "outputs": [
        {
          "output_type": "stream",
          "text": [
            "Epoch 1/10\n",
            "92/92 [==============================] - 19s 192ms/step - loss: 1.4273 - accuracy: 0.4109 - val_loss: 1.0523 - val_accuracy: 0.5680\n",
            "Epoch 2/10\n",
            "92/92 [==============================] - 17s 187ms/step - loss: 0.8005 - accuracy: 0.6638 - val_loss: 0.8372 - val_accuracy: 0.6569\n",
            "Epoch 3/10\n",
            "92/92 [==============================] - 17s 187ms/step - loss: 0.6563 - accuracy: 0.7200 - val_loss: 0.6546 - val_accuracy: 0.7628\n",
            "Epoch 4/10\n",
            "92/92 [==============================] - 17s 186ms/step - loss: 0.4857 - accuracy: 0.8106 - val_loss: 0.8701 - val_accuracy: 0.7055\n",
            "Epoch 5/10\n",
            "92/92 [==============================] - 17s 186ms/step - loss: 0.5274 - accuracy: 0.7989 - val_loss: 0.4619 - val_accuracy: 0.8198\n",
            "Epoch 6/10\n",
            "92/92 [==============================] - 17s 186ms/step - loss: 0.3121 - accuracy: 0.8947 - val_loss: 0.4058 - val_accuracy: 0.8683\n",
            "Epoch 7/10\n",
            "92/92 [==============================] - 17s 186ms/step - loss: 0.2143 - accuracy: 0.9215 - val_loss: 0.3837 - val_accuracy: 0.8775\n",
            "Epoch 8/10\n",
            "92/92 [==============================] - 17s 189ms/step - loss: 0.1847 - accuracy: 0.9344 - val_loss: 0.4739 - val_accuracy: 0.8527\n",
            "Epoch 9/10\n",
            "92/92 [==============================] - 17s 187ms/step - loss: 0.1997 - accuracy: 0.9268 - val_loss: 0.3653 - val_accuracy: 0.8860\n",
            "Epoch 10/10\n",
            "92/92 [==============================] - 18s 192ms/step - loss: 0.1634 - accuracy: 0.9343 - val_loss: 0.3591 - val_accuracy: 0.9019\n"
          ],
          "name": "stdout"
        },
        {
          "output_type": "execute_result",
          "data": {
            "text/plain": [
              "<tensorflow.python.keras.callbacks.History at 0x7fc0448e8668>"
            ]
          },
          "metadata": {
            "tags": []
          },
          "execution_count": 15
        }
      ]
    },
    {
      "cell_type": "markdown",
      "metadata": {
        "id": "h-_IsmrcKWlI"
      },
      "source": [
        "Print the confusion matrix for the test data."
      ]
    },
    {
      "cell_type": "code",
      "metadata": {
        "id": "bDLwv62wKWlI",
        "colab": {
          "base_uri": "https://localhost:8080/"
        },
        "outputId": "26d08e4e-f3c2-4882-abf4-d43b6ae645ad"
      },
      "source": [
        "# Answer below:\n",
        "y_pred = np.argmax(model.predict(X_test), axis=-1)\n",
        "# Answer below:\n",
        "confusion_matrix(y_test_cat, y_pred)\n"
      ],
      "execution_count": null,
      "outputs": [
        {
          "output_type": "execute_result",
          "data": {
            "text/plain": [
              "array([[  0,   0,   0,   0,   0,   0,   0],\n",
              "       [463,  19,  14,   0,   0,   0,   0],\n",
              "       [ 20, 443,   7,   0,   1,   0,   0],\n",
              "       [  0,  15, 405,   0,   0,   0,   0],\n",
              "       [  0,   1,   0, 354, 136,   0,   0],\n",
              "       [  2,   1,   0,  46, 483,   0,   0],\n",
              "       [  0,  27,   0,   0,   0, 510,   0]])"
            ]
          },
          "metadata": {
            "tags": []
          },
          "execution_count": 16
        }
      ]
    },
    {
      "cell_type": "code",
      "metadata": {
        "id": "ceYZ8zW4KWlK"
      },
      "source": [
        ""
      ],
      "execution_count": null,
      "outputs": []
    }
  ]
}