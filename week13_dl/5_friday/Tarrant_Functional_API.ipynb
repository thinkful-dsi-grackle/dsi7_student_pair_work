{
  "nbformat": 4,
  "nbformat_minor": 0,
  "metadata": {
    "kernelspec": {
      "display_name": "Python 3",
      "language": "python",
      "name": "python3"
    },
    "language_info": {
      "codemirror_mode": {
        "name": "ipython",
        "version": 3
      },
      "file_extension": ".py",
      "mimetype": "text/x-python",
      "name": "python",
      "nbconvert_exporter": "python",
      "pygments_lexer": "ipython3",
      "version": "3.7.0"
    },
    "colab": {
      "name": "Tarrant_Functional_API.ipynb",
      "provenance": [],
      "collapsed_sections": []
    },
    "accelerator": "GPU"
  },
  "cells": [
    {
      "cell_type": "markdown",
      "metadata": {
        "id": "mkd31of4jh35"
      },
      "source": [
        "## Day 85 Lecture 1 Assignment\n",
        "\n",
        "In this assignment, we will learn how to use the other layers to improve our model performance."
      ]
    },
    {
      "cell_type": "code",
      "metadata": {
        "id": "GtUi79zbjh36"
      },
      "source": [
        "import numpy as np\n",
        "import pandas as pd\n",
        "import matplotlib.pyplot as plt\n",
        "from tensorflow.keras.preprocessing.text import one_hot\n",
        "from tensorflow.keras.preprocessing.sequence import pad_sequences\n",
        "from sklearn.preprocessing import MinMaxScaler\n",
        "from sklearn.model_selection import train_test_split\n",
        "from tensorflow.keras.layers import concatenate, Dense, LSTM, Embedding, Input\n",
        "from tensorflow.keras.utils import plot_model\n",
        "from tensorflow.keras.models import Model\n",
        "from sklearn.metrics import  classification_report, confusion_matrix\n",
        "from tensorflow.keras.utils import plot_model"
      ],
      "execution_count": 1,
      "outputs": []
    },
    {
      "cell_type": "code",
      "metadata": {
        "colab": {
          "base_uri": "https://localhost:8080/"
        },
        "id": "-NrjOKi6zW9U",
        "outputId": "63da8a78-13bb-4066-bb3d-b3e674ac78d7"
      },
      "source": [
        "import nltk\n",
        "nltk.download('stopwords')"
      ],
      "execution_count": 2,
      "outputs": [
        {
          "output_type": "stream",
          "text": [
            "[nltk_data] Downloading package stopwords to /root/nltk_data...\n",
            "[nltk_data]   Package stopwords is already up-to-date!\n"
          ],
          "name": "stdout"
        },
        {
          "output_type": "execute_result",
          "data": {
            "text/plain": [
              "True"
            ]
          },
          "metadata": {
            "tags": []
          },
          "execution_count": 2
        }
      ]
    },
    {
      "cell_type": "markdown",
      "metadata": {
        "id": "aZ2DH6Ndjh39"
      },
      "source": [
        "We will explore a dataset containing information about twitter users and will detect whether or not the user is a bot."
      ]
    },
    {
      "cell_type": "code",
      "metadata": {
        "id": "cj8bsG8Ijh3-"
      },
      "source": [
        "twitter = pd.read_csv('https://tf-assets-prod.s3.amazonaws.com/tf-curric/data-science/training_data_2_csv_UTF.csv')"
      ],
      "execution_count": 3,
      "outputs": []
    },
    {
      "cell_type": "code",
      "metadata": {
        "id": "X2MhRde7jh4A",
        "colab": {
          "base_uri": "https://localhost:8080/",
          "height": 496
        },
        "outputId": "e95aecba-d9be-4eb6-cf3f-e5da4bb8233e"
      },
      "source": [
        "twitter.head()"
      ],
      "execution_count": 4,
      "outputs": [
        {
          "output_type": "execute_result",
          "data": {
            "text/html": [
              "<div>\n",
              "<style scoped>\n",
              "    .dataframe tbody tr th:only-of-type {\n",
              "        vertical-align: middle;\n",
              "    }\n",
              "\n",
              "    .dataframe tbody tr th {\n",
              "        vertical-align: top;\n",
              "    }\n",
              "\n",
              "    .dataframe thead th {\n",
              "        text-align: right;\n",
              "    }\n",
              "</style>\n",
              "<table border=\"1\" class=\"dataframe\">\n",
              "  <thead>\n",
              "    <tr style=\"text-align: right;\">\n",
              "      <th></th>\n",
              "      <th>id</th>\n",
              "      <th>id_str</th>\n",
              "      <th>screen_name</th>\n",
              "      <th>location</th>\n",
              "      <th>description</th>\n",
              "      <th>url</th>\n",
              "      <th>followers_count</th>\n",
              "      <th>friends_count</th>\n",
              "      <th>listed_count</th>\n",
              "      <th>created_at</th>\n",
              "      <th>favourites_count</th>\n",
              "      <th>verified</th>\n",
              "      <th>statuses_count</th>\n",
              "      <th>lang</th>\n",
              "      <th>status</th>\n",
              "      <th>default_profile</th>\n",
              "      <th>default_profile_image</th>\n",
              "      <th>has_extended_profile</th>\n",
              "      <th>name</th>\n",
              "      <th>bot</th>\n",
              "    </tr>\n",
              "  </thead>\n",
              "  <tbody>\n",
              "    <tr>\n",
              "      <th>0</th>\n",
              "      <td>8.160000e+17</td>\n",
              "      <td>\"815745789754417152\"</td>\n",
              "      <td>\"HoustonPokeMap\"</td>\n",
              "      <td>\"Houston, TX\"</td>\n",
              "      <td>\"Rare and strong PokŽmon in Houston, TX. See m...</td>\n",
              "      <td>\"https://t.co/dnWuDbFRkt\"</td>\n",
              "      <td>1291</td>\n",
              "      <td>0</td>\n",
              "      <td>10</td>\n",
              "      <td>\"Mon Jan 02 02:25:26 +0000 2017\"</td>\n",
              "      <td>0</td>\n",
              "      <td>False</td>\n",
              "      <td>78554</td>\n",
              "      <td>\"en\"</td>\n",
              "      <td>{\\r      \"created_at\": \"Sun Mar 12 15:44:04 +0...</td>\n",
              "      <td>True</td>\n",
              "      <td>False</td>\n",
              "      <td>False</td>\n",
              "      <td>\"Houston PokŽ Alert\"</td>\n",
              "      <td>1</td>\n",
              "    </tr>\n",
              "    <tr>\n",
              "      <th>1</th>\n",
              "      <td>4.843621e+09</td>\n",
              "      <td>4843621225</td>\n",
              "      <td>kernyeahx</td>\n",
              "      <td>Templeville town, MD, USA</td>\n",
              "      <td>From late 2014 Socium Marketplace will make sh...</td>\n",
              "      <td>NaN</td>\n",
              "      <td>1</td>\n",
              "      <td>349</td>\n",
              "      <td>0</td>\n",
              "      <td>2/1/2016 7:37</td>\n",
              "      <td>38</td>\n",
              "      <td>False</td>\n",
              "      <td>31</td>\n",
              "      <td>en</td>\n",
              "      <td>NaN</td>\n",
              "      <td>True</td>\n",
              "      <td>False</td>\n",
              "      <td>False</td>\n",
              "      <td>Keri Nelson</td>\n",
              "      <td>1</td>\n",
              "    </tr>\n",
              "    <tr>\n",
              "      <th>2</th>\n",
              "      <td>4.303727e+09</td>\n",
              "      <td>4303727112</td>\n",
              "      <td>mattlieberisbot</td>\n",
              "      <td>NaN</td>\n",
              "      <td>Inspired by the smart, funny folks at @replyal...</td>\n",
              "      <td>https://t.co/P1e1o0m4KC</td>\n",
              "      <td>1086</td>\n",
              "      <td>0</td>\n",
              "      <td>14</td>\n",
              "      <td>Fri Nov 20 18:53:22 +0000 2015</td>\n",
              "      <td>0</td>\n",
              "      <td>False</td>\n",
              "      <td>713</td>\n",
              "      <td>en</td>\n",
              "      <td>{'retweeted': False, 'is_quote_status': False,...</td>\n",
              "      <td>True</td>\n",
              "      <td>False</td>\n",
              "      <td>False</td>\n",
              "      <td>Matt Lieber Is Bot</td>\n",
              "      <td>1</td>\n",
              "    </tr>\n",
              "    <tr>\n",
              "      <th>3</th>\n",
              "      <td>3.063139e+09</td>\n",
              "      <td>3063139353</td>\n",
              "      <td>sc_papers</td>\n",
              "      <td>NaN</td>\n",
              "      <td>NaN</td>\n",
              "      <td>NaN</td>\n",
              "      <td>33</td>\n",
              "      <td>0</td>\n",
              "      <td>8</td>\n",
              "      <td>2/25/2015 20:11</td>\n",
              "      <td>0</td>\n",
              "      <td>False</td>\n",
              "      <td>676</td>\n",
              "      <td>en</td>\n",
              "      <td>Construction of human anti-tetanus single-chai...</td>\n",
              "      <td>True</td>\n",
              "      <td>True</td>\n",
              "      <td>False</td>\n",
              "      <td>single cell papers</td>\n",
              "      <td>1</td>\n",
              "    </tr>\n",
              "    <tr>\n",
              "      <th>4</th>\n",
              "      <td>2.955142e+09</td>\n",
              "      <td>2955142070</td>\n",
              "      <td>lucarivera16</td>\n",
              "      <td>Dublin, United States</td>\n",
              "      <td>Inspiring cooks everywhere since 1956.</td>\n",
              "      <td>NaN</td>\n",
              "      <td>11</td>\n",
              "      <td>745</td>\n",
              "      <td>0</td>\n",
              "      <td>1/1/2015 17:44</td>\n",
              "      <td>146</td>\n",
              "      <td>False</td>\n",
              "      <td>185</td>\n",
              "      <td>en</td>\n",
              "      <td>NaN</td>\n",
              "      <td>False</td>\n",
              "      <td>False</td>\n",
              "      <td>False</td>\n",
              "      <td>lucarivera16</td>\n",
              "      <td>1</td>\n",
              "    </tr>\n",
              "  </tbody>\n",
              "</table>\n",
              "</div>"
            ],
            "text/plain": [
              "             id                id_str  ...                  name bot\n",
              "0  8.160000e+17  \"815745789754417152\"  ...  \"Houston PokŽ Alert\"   1\n",
              "1  4.843621e+09            4843621225  ...           Keri Nelson   1\n",
              "2  4.303727e+09            4303727112  ...    Matt Lieber Is Bot   1\n",
              "3  3.063139e+09            3063139353  ...    single cell papers   1\n",
              "4  2.955142e+09            2955142070  ...          lucarivera16   1\n",
              "\n",
              "[5 rows x 20 columns]"
            ]
          },
          "metadata": {
            "tags": []
          },
          "execution_count": 4
        }
      ]
    },
    {
      "cell_type": "code",
      "metadata": {
        "id": "zV0g49h5jh4D",
        "colab": {
          "base_uri": "https://localhost:8080/"
        },
        "outputId": "63f09150-cde3-4312-f815-5401ea8909a6"
      },
      "source": [
        "twitter.shape"
      ],
      "execution_count": 5,
      "outputs": [
        {
          "output_type": "execute_result",
          "data": {
            "text/plain": [
              "(2797, 20)"
            ]
          },
          "metadata": {
            "tags": []
          },
          "execution_count": 5
        }
      ]
    },
    {
      "cell_type": "markdown",
      "metadata": {
        "id": "dsXMG4zajh4E"
      },
      "source": [
        "Start by getting rid of all columns that are not useful."
      ]
    },
    {
      "cell_type": "code",
      "metadata": {
        "id": "vE1y_FXejh4F"
      },
      "source": [
        "# drop columns that aren't useful\n",
        "not_useful = ['id','id_str','url','created_at','status']\n",
        "twitter2 = twitter.drop(not_useful, axis=1)\n"
      ],
      "execution_count": 6,
      "outputs": []
    },
    {
      "cell_type": "markdown",
      "metadata": {
        "id": "OQBDJyWPjh4H"
      },
      "source": [
        "Next, get rid of all columns that contain more than 30% missing data. After that, remove all rows containing at least one missing observation."
      ]
    },
    {
      "cell_type": "code",
      "metadata": {
        "id": "oiljewDCjh4H"
      },
      "source": [
        "# function to calculate percentage of missing values by column\n",
        "def missingness_summary(df,sort='descending',print_log=True,):\n",
        "  percentage_null = df.isnull().sum()*100/df.isnull().count()\n",
        "  if sort == 'ascending':\n",
        "    return percentage_null.sort_values()\n",
        "  elif sort == 'descending':\n",
        "    return percentage_null.sort_values(ascending=False)\n",
        "  else: \n",
        "    return percentage_null\n"
      ],
      "execution_count": 7,
      "outputs": []
    },
    {
      "cell_type": "code",
      "metadata": {
        "colab": {
          "base_uri": "https://localhost:8080/"
        },
        "id": "OBKbXT_AwTU-",
        "outputId": "b043d03f-43d0-4d85-dbcb-8a5b94b1b4a7"
      },
      "source": [
        "missingness_summary(twitter2)"
      ],
      "execution_count": 8,
      "outputs": [
        {
          "output_type": "execute_result",
          "data": {
            "text/plain": [
              "location                 36.467644\n",
              "description              14.408295\n",
              "has_extended_profile      3.539507\n",
              "bot                       0.000000\n",
              "name                      0.000000\n",
              "default_profile_image     0.000000\n",
              "default_profile           0.000000\n",
              "lang                      0.000000\n",
              "statuses_count            0.000000\n",
              "verified                  0.000000\n",
              "favourites_count          0.000000\n",
              "listed_count              0.000000\n",
              "friends_count             0.000000\n",
              "followers_count           0.000000\n",
              "screen_name               0.000000\n",
              "dtype: float64"
            ]
          },
          "metadata": {
            "tags": []
          },
          "execution_count": 8
        }
      ]
    },
    {
      "cell_type": "code",
      "metadata": {
        "colab": {
          "base_uri": "https://localhost:8080/"
        },
        "id": "uAEJrRyfwdBR",
        "outputId": "f2ab671f-4384-447a-dbd3-76c46f2ac878"
      },
      "source": [
        "twitter3 = twitter2.drop('location',axis=1)\n",
        "twitter4 = twitter3.dropna()\n",
        "\n",
        "missingness_summary(twitter4)"
      ],
      "execution_count": 9,
      "outputs": [
        {
          "output_type": "execute_result",
          "data": {
            "text/plain": [
              "bot                      0.0\n",
              "name                     0.0\n",
              "has_extended_profile     0.0\n",
              "default_profile_image    0.0\n",
              "default_profile          0.0\n",
              "lang                     0.0\n",
              "statuses_count           0.0\n",
              "verified                 0.0\n",
              "favourites_count         0.0\n",
              "listed_count             0.0\n",
              "friends_count            0.0\n",
              "followers_count          0.0\n",
              "description              0.0\n",
              "screen_name              0.0\n",
              "dtype: float64"
            ]
          },
          "metadata": {
            "tags": []
          },
          "execution_count": 9
        }
      ]
    },
    {
      "cell_type": "markdown",
      "metadata": {
        "id": "_E-SvW3wjh4J"
      },
      "source": [
        "Now we will use our embedding functions from a previous assignment."
      ]
    },
    {
      "cell_type": "code",
      "metadata": {
        "id": "TeZkChWxjh4K"
      },
      "source": [
        "from nltk.corpus import stopwords\n",
        "import re\n",
        "from nltk.stem.porter import PorterStemmer\n",
        "\n",
        "stemmer = PorterStemmer()\n",
        "\n",
        "def remove_stopwords(input_text):\n",
        "        stopwords_list = stopwords.words('english')\n",
        "        # Some words which might indicate a certain sentiment are kept via a whitelist\n",
        "        whitelist = [\"n't\", \"not\", \"no\"]\n",
        "        words = input_text.split() \n",
        "        clean_words = [word for word in words if (word not in stopwords_list or word in whitelist) and len(word) > 1] \n",
        "        return \" \".join(clean_words)       \n",
        "\n",
        "def stem_list(word_list):\n",
        "    stemmed = []\n",
        "    for word in word_list:\n",
        "        stemmedword = stemmer.stem(word)\n",
        "        stemmed.append(stemmedword)\n",
        "    return stemmed\n",
        "\n",
        "def normalize(terms):\n",
        "    terms = terms.lower()\n",
        "    terms = remove_stopwords(terms)\n",
        "    word_delimiters = u'[\\\\[\\\\]\\n.!?,;:\\t\\\\-\\\\\"\\\\(\\\\)\\\\\\'\\u2019\\u2013 ]'\n",
        "    term_list = re.split(word_delimiters, terms)\n",
        "    trimmed = [x.rstrip() for x in term_list]\n",
        "    stemmed = stem_list(trimmed)\n",
        "    space = ' '\n",
        "    normed = space.join(stemmed)\n",
        "    normed = normed.replace('  ', ' ')\n",
        "    return normed"
      ],
      "execution_count": 10,
      "outputs": []
    },
    {
      "cell_type": "markdown",
      "metadata": {
        "id": "--dr_BGJjh4L"
      },
      "source": [
        "We will create two branches, one branch will process the text data in the description and the other will process all other columns. First, create a numpy array with the encoded data from the description column. Normalize each description, one hot encode the text, pad the row and create a numpy array."
      ]
    },
    {
      "cell_type": "code",
      "metadata": {
        "id": "zx5FsY_8jh4M",
        "colab": {
          "base_uri": "https://localhost:8080/"
        },
        "outputId": "4f2ae6fd-f874-4504-ceb5-d9d49fdeb588"
      },
      "source": [
        "# normalize text into a np array\n",
        "twitter4['normalized_text'] = [normalize(word) for word in np.array(twitter4['description'])]\n",
        "twitter4['normalized_text'][:5]\n"
      ],
      "execution_count": 11,
      "outputs": [
        {
          "output_type": "stream",
          "text": [
            "/usr/local/lib/python3.6/dist-packages/ipykernel_launcher.py:2: SettingWithCopyWarning: \n",
            "A value is trying to be set on a copy of a slice from a DataFrame.\n",
            "Try using .loc[row_indexer,col_indexer] = value instead\n",
            "\n",
            "See the caveats in the documentation: https://pandas.pydata.org/pandas-docs/stable/user_guide/indexing.html#returning-a-view-versus-a-copy\n",
            "  \n"
          ],
          "name": "stderr"
        },
        {
          "output_type": "execute_result",
          "data": {
            "text/plain": [
              "0     rare strong pokžmon houston tx see pokžmon ht...\n",
              "1    late 2014 socium marketplac make shop fundamen...\n",
              "2    inspir smart funni folk @replyal @gimletmedia ...\n",
              "4                     inspir cook everywher sinc 1956 \n",
              "5            guy tri good tell everyon els get better \n",
              "Name: normalized_text, dtype: object"
            ]
          },
          "metadata": {
            "tags": []
          },
          "execution_count": 11
        }
      ]
    },
    {
      "cell_type": "markdown",
      "metadata": {
        "id": "IXQeqH9Ejh4N"
      },
      "source": [
        "Convert all boolean variables to numeric (zero for false and 1 for true)"
      ]
    },
    {
      "cell_type": "code",
      "metadata": {
        "id": "4OtQ7K3ojh4O",
        "colab": {
          "base_uri": "https://localhost:8080/",
          "height": 496
        },
        "outputId": "19d435bc-57dd-4a31-82b5-f2b92c9f463c"
      },
      "source": [
        "# convert bools to numeric\n",
        "twitter5 = twitter4.replace({True:1, False:0})\n",
        "twitter5.head()\n"
      ],
      "execution_count": 12,
      "outputs": [
        {
          "output_type": "execute_result",
          "data": {
            "text/html": [
              "<div>\n",
              "<style scoped>\n",
              "    .dataframe tbody tr th:only-of-type {\n",
              "        vertical-align: middle;\n",
              "    }\n",
              "\n",
              "    .dataframe tbody tr th {\n",
              "        vertical-align: top;\n",
              "    }\n",
              "\n",
              "    .dataframe thead th {\n",
              "        text-align: right;\n",
              "    }\n",
              "</style>\n",
              "<table border=\"1\" class=\"dataframe\">\n",
              "  <thead>\n",
              "    <tr style=\"text-align: right;\">\n",
              "      <th></th>\n",
              "      <th>screen_name</th>\n",
              "      <th>description</th>\n",
              "      <th>followers_count</th>\n",
              "      <th>friends_count</th>\n",
              "      <th>listed_count</th>\n",
              "      <th>favourites_count</th>\n",
              "      <th>verified</th>\n",
              "      <th>statuses_count</th>\n",
              "      <th>lang</th>\n",
              "      <th>default_profile</th>\n",
              "      <th>default_profile_image</th>\n",
              "      <th>has_extended_profile</th>\n",
              "      <th>name</th>\n",
              "      <th>bot</th>\n",
              "      <th>normalized_text</th>\n",
              "    </tr>\n",
              "  </thead>\n",
              "  <tbody>\n",
              "    <tr>\n",
              "      <th>0</th>\n",
              "      <td>\"HoustonPokeMap\"</td>\n",
              "      <td>\"Rare and strong PokŽmon in Houston, TX. See m...</td>\n",
              "      <td>1291</td>\n",
              "      <td>0</td>\n",
              "      <td>10</td>\n",
              "      <td>0</td>\n",
              "      <td>0</td>\n",
              "      <td>78554</td>\n",
              "      <td>\"en\"</td>\n",
              "      <td>1</td>\n",
              "      <td>0</td>\n",
              "      <td>0</td>\n",
              "      <td>\"Houston PokŽ Alert\"</td>\n",
              "      <td>1</td>\n",
              "      <td>rare strong pokžmon houston tx see pokžmon ht...</td>\n",
              "    </tr>\n",
              "    <tr>\n",
              "      <th>1</th>\n",
              "      <td>kernyeahx</td>\n",
              "      <td>From late 2014 Socium Marketplace will make sh...</td>\n",
              "      <td>1</td>\n",
              "      <td>349</td>\n",
              "      <td>0</td>\n",
              "      <td>38</td>\n",
              "      <td>0</td>\n",
              "      <td>31</td>\n",
              "      <td>en</td>\n",
              "      <td>1</td>\n",
              "      <td>0</td>\n",
              "      <td>0</td>\n",
              "      <td>Keri Nelson</td>\n",
              "      <td>1</td>\n",
              "      <td>late 2014 socium marketplac make shop fundamen...</td>\n",
              "    </tr>\n",
              "    <tr>\n",
              "      <th>2</th>\n",
              "      <td>mattlieberisbot</td>\n",
              "      <td>Inspired by the smart, funny folks at @replyal...</td>\n",
              "      <td>1086</td>\n",
              "      <td>0</td>\n",
              "      <td>14</td>\n",
              "      <td>0</td>\n",
              "      <td>0</td>\n",
              "      <td>713</td>\n",
              "      <td>en</td>\n",
              "      <td>1</td>\n",
              "      <td>0</td>\n",
              "      <td>0</td>\n",
              "      <td>Matt Lieber Is Bot</td>\n",
              "      <td>1</td>\n",
              "      <td>inspir smart funni folk @replyal @gimletmedia ...</td>\n",
              "    </tr>\n",
              "    <tr>\n",
              "      <th>4</th>\n",
              "      <td>lucarivera16</td>\n",
              "      <td>Inspiring cooks everywhere since 1956.</td>\n",
              "      <td>11</td>\n",
              "      <td>745</td>\n",
              "      <td>0</td>\n",
              "      <td>146</td>\n",
              "      <td>0</td>\n",
              "      <td>185</td>\n",
              "      <td>en</td>\n",
              "      <td>0</td>\n",
              "      <td>0</td>\n",
              "      <td>0</td>\n",
              "      <td>lucarivera16</td>\n",
              "      <td>1</td>\n",
              "      <td>inspir cook everywher sinc 1956</td>\n",
              "    </tr>\n",
              "    <tr>\n",
              "      <th>5</th>\n",
              "      <td>dantheimprover</td>\n",
              "      <td>Just a guy trying to do good by telling everyo...</td>\n",
              "      <td>1</td>\n",
              "      <td>186</td>\n",
              "      <td>0</td>\n",
              "      <td>0</td>\n",
              "      <td>0</td>\n",
              "      <td>11</td>\n",
              "      <td>en</td>\n",
              "      <td>1</td>\n",
              "      <td>0</td>\n",
              "      <td>1</td>\n",
              "      <td>dantheimprover</td>\n",
              "      <td>1</td>\n",
              "      <td>guy tri good tell everyon els get better</td>\n",
              "    </tr>\n",
              "  </tbody>\n",
              "</table>\n",
              "</div>"
            ],
            "text/plain": [
              "        screen_name  ...                                    normalized_text\n",
              "0  \"HoustonPokeMap\"  ...   rare strong pokžmon houston tx see pokžmon ht...\n",
              "1         kernyeahx  ...  late 2014 socium marketplac make shop fundamen...\n",
              "2   mattlieberisbot  ...  inspir smart funni folk @replyal @gimletmedia ...\n",
              "4      lucarivera16  ...                   inspir cook everywher sinc 1956 \n",
              "5    dantheimprover  ...          guy tri good tell everyon els get better \n",
              "\n",
              "[5 rows x 15 columns]"
            ]
          },
          "metadata": {
            "tags": []
          },
          "execution_count": 12
        }
      ]
    },
    {
      "cell_type": "markdown",
      "metadata": {
        "id": "hm8vuH43jh4Q"
      },
      "source": [
        "Create dummy variables out of the relevant object columns. Take caution when converting columns that may incorrectly classified as object."
      ]
    },
    {
      "cell_type": "code",
      "metadata": {
        "colab": {
          "base_uri": "https://localhost:8080/"
        },
        "id": "5DdrWW7u4j_Z",
        "outputId": "d0982aed-098d-4cd8-84f6-2e2763a5550a"
      },
      "source": [
        "# identify potential continuous columns by making a loop for unique values in categorical columns\n",
        "for col in twitter5.columns:\n",
        "    if twitter5[col].dtypes == 'O': \n",
        "        print(f'{col} unique values: {twitter5[col].nunique()}')\n"
      ],
      "execution_count": 13,
      "outputs": [
        {
          "output_type": "stream",
          "text": [
            "screen_name unique values: 2348\n",
            "description unique values: 2317\n",
            "lang unique values: 28\n",
            "name unique values: 2337\n",
            "normalized_text unique values: 2313\n"
          ],
          "name": "stdout"
        }
      ]
    },
    {
      "cell_type": "code",
      "metadata": {
        "colab": {
          "base_uri": "https://localhost:8080/",
          "height": 394
        },
        "id": "VkmXa-Te5vDd",
        "outputId": "46af6de1-b78c-42c7-c6a8-d34d955d1752"
      },
      "source": [
        "# let's drop screen_name and name since they won't be useful, \n",
        "## let's also drop desriction because we have that data represented in our normalized column\n",
        "twitter6 = twitter5.drop(['screen_name','description','name'],axis=1)\n",
        "twitter6.head()"
      ],
      "execution_count": 14,
      "outputs": [
        {
          "output_type": "execute_result",
          "data": {
            "text/html": [
              "<div>\n",
              "<style scoped>\n",
              "    .dataframe tbody tr th:only-of-type {\n",
              "        vertical-align: middle;\n",
              "    }\n",
              "\n",
              "    .dataframe tbody tr th {\n",
              "        vertical-align: top;\n",
              "    }\n",
              "\n",
              "    .dataframe thead th {\n",
              "        text-align: right;\n",
              "    }\n",
              "</style>\n",
              "<table border=\"1\" class=\"dataframe\">\n",
              "  <thead>\n",
              "    <tr style=\"text-align: right;\">\n",
              "      <th></th>\n",
              "      <th>followers_count</th>\n",
              "      <th>friends_count</th>\n",
              "      <th>listed_count</th>\n",
              "      <th>favourites_count</th>\n",
              "      <th>verified</th>\n",
              "      <th>statuses_count</th>\n",
              "      <th>lang</th>\n",
              "      <th>default_profile</th>\n",
              "      <th>default_profile_image</th>\n",
              "      <th>has_extended_profile</th>\n",
              "      <th>bot</th>\n",
              "      <th>normalized_text</th>\n",
              "    </tr>\n",
              "  </thead>\n",
              "  <tbody>\n",
              "    <tr>\n",
              "      <th>0</th>\n",
              "      <td>1291</td>\n",
              "      <td>0</td>\n",
              "      <td>10</td>\n",
              "      <td>0</td>\n",
              "      <td>0</td>\n",
              "      <td>78554</td>\n",
              "      <td>\"en\"</td>\n",
              "      <td>1</td>\n",
              "      <td>0</td>\n",
              "      <td>0</td>\n",
              "      <td>1</td>\n",
              "      <td>rare strong pokžmon houston tx see pokžmon ht...</td>\n",
              "    </tr>\n",
              "    <tr>\n",
              "      <th>1</th>\n",
              "      <td>1</td>\n",
              "      <td>349</td>\n",
              "      <td>0</td>\n",
              "      <td>38</td>\n",
              "      <td>0</td>\n",
              "      <td>31</td>\n",
              "      <td>en</td>\n",
              "      <td>1</td>\n",
              "      <td>0</td>\n",
              "      <td>0</td>\n",
              "      <td>1</td>\n",
              "      <td>late 2014 socium marketplac make shop fundamen...</td>\n",
              "    </tr>\n",
              "    <tr>\n",
              "      <th>2</th>\n",
              "      <td>1086</td>\n",
              "      <td>0</td>\n",
              "      <td>14</td>\n",
              "      <td>0</td>\n",
              "      <td>0</td>\n",
              "      <td>713</td>\n",
              "      <td>en</td>\n",
              "      <td>1</td>\n",
              "      <td>0</td>\n",
              "      <td>0</td>\n",
              "      <td>1</td>\n",
              "      <td>inspir smart funni folk @replyal @gimletmedia ...</td>\n",
              "    </tr>\n",
              "    <tr>\n",
              "      <th>4</th>\n",
              "      <td>11</td>\n",
              "      <td>745</td>\n",
              "      <td>0</td>\n",
              "      <td>146</td>\n",
              "      <td>0</td>\n",
              "      <td>185</td>\n",
              "      <td>en</td>\n",
              "      <td>0</td>\n",
              "      <td>0</td>\n",
              "      <td>0</td>\n",
              "      <td>1</td>\n",
              "      <td>inspir cook everywher sinc 1956</td>\n",
              "    </tr>\n",
              "    <tr>\n",
              "      <th>5</th>\n",
              "      <td>1</td>\n",
              "      <td>186</td>\n",
              "      <td>0</td>\n",
              "      <td>0</td>\n",
              "      <td>0</td>\n",
              "      <td>11</td>\n",
              "      <td>en</td>\n",
              "      <td>1</td>\n",
              "      <td>0</td>\n",
              "      <td>1</td>\n",
              "      <td>1</td>\n",
              "      <td>guy tri good tell everyon els get better</td>\n",
              "    </tr>\n",
              "  </tbody>\n",
              "</table>\n",
              "</div>"
            ],
            "text/plain": [
              "   followers_count  ...                                    normalized_text\n",
              "0             1291  ...   rare strong pokžmon houston tx see pokžmon ht...\n",
              "1                1  ...  late 2014 socium marketplac make shop fundamen...\n",
              "2             1086  ...  inspir smart funni folk @replyal @gimletmedia ...\n",
              "4               11  ...                   inspir cook everywher sinc 1956 \n",
              "5                1  ...          guy tri good tell everyon els get better \n",
              "\n",
              "[5 rows x 12 columns]"
            ]
          },
          "metadata": {
            "tags": []
          },
          "execution_count": 14
        }
      ]
    },
    {
      "cell_type": "markdown",
      "metadata": {
        "id": "JTLu_QfT51Uy"
      },
      "source": [
        "The language column is our only true categorical column"
      ]
    },
    {
      "cell_type": "code",
      "metadata": {
        "colab": {
          "base_uri": "https://localhost:8080/"
        },
        "id": "cCvQutKl5SPS",
        "outputId": "286ea219-6dbd-4493-a953-32545b9e66f5"
      },
      "source": [
        "twitter6['lang'].value_counts()"
      ],
      "execution_count": 15,
      "outputs": [
        {
          "output_type": "execute_result",
          "data": {
            "text/plain": [
              "en         2065\n",
              "\"en\"        100\n",
              "pt           55\n",
              "en-gb        53\n",
              "es           21\n",
              "de            9\n",
              "fr            8\n",
              "\"ja\"          6\n",
              "it            6\n",
              "ja            4\n",
              "\"es\"          3\n",
              "\"pt\"          3\n",
              "nl            2\n",
              "tr            2\n",
              "ru            2\n",
              "zh-cn         2\n",
              "\"en-gb\"       2\n",
              "zh-CN         2\n",
              "\"zh-CN\"       1\n",
              "\"zh-cn\"       1\n",
              "th            1\n",
              "gl            1\n",
              "\"ko\"          1\n",
              "ar            1\n",
              "\"fr\"          1\n",
              "ta            1\n",
              "\"it\"          1\n",
              "\"da\"          1\n",
              "Name: lang, dtype: int64"
            ]
          },
          "metadata": {
            "tags": []
          },
          "execution_count": 15
        }
      ]
    },
    {
      "cell_type": "markdown",
      "metadata": {
        "id": "nYOudidU5mHf"
      },
      "source": [
        "Further cleaning of the language column is needed."
      ]
    },
    {
      "cell_type": "code",
      "metadata": {
        "id": "Y1BUeLqD5qo7"
      },
      "source": [
        "# function that will remove excess quote marks and lower case everything\n",
        "def text_cleaner(text):\n",
        "    # remove quotes\n",
        "    text = re.sub(\"[\\\"\\']\", \"\", text)\n",
        "    text = ' '.join(text.split())\n",
        "    return text.lower()"
      ],
      "execution_count": 16,
      "outputs": []
    },
    {
      "cell_type": "code",
      "metadata": {
        "colab": {
          "base_uri": "https://localhost:8080/"
        },
        "id": "h8hqMkjh5-ry",
        "outputId": "d279fd69-6341-46c0-d692-6c74bff10e4a"
      },
      "source": [
        "twitter6['lang'] = [text_cleaner(word) for word in twitter6['lang']]\n",
        "\n",
        "twitter6['lang'].value_counts()"
      ],
      "execution_count": 17,
      "outputs": [
        {
          "output_type": "execute_result",
          "data": {
            "text/plain": [
              "en       2165\n",
              "pt         58\n",
              "en-gb      55\n",
              "es         24\n",
              "ja         10\n",
              "fr          9\n",
              "de          9\n",
              "it          7\n",
              "zh-cn       6\n",
              "nl          2\n",
              "tr          2\n",
              "ru          2\n",
              "gl          1\n",
              "th          1\n",
              "ar          1\n",
              "ta          1\n",
              "ko          1\n",
              "da          1\n",
              "Name: lang, dtype: int64"
            ]
          },
          "metadata": {
            "tags": []
          },
          "execution_count": 17
        }
      ]
    },
    {
      "cell_type": "code",
      "metadata": {
        "id": "jcb0fb4_jh4Q",
        "colab": {
          "base_uri": "https://localhost:8080/",
          "height": 411
        },
        "outputId": "bc653cbf-9e3c-40fe-a8a5-699d878ca513"
      },
      "source": [
        "# create dummy variables for lang column\n",
        "twitter7 = pd.get_dummies(twitter6,columns=['lang'])\n",
        "\n",
        "twitter7.head()"
      ],
      "execution_count": 18,
      "outputs": [
        {
          "output_type": "execute_result",
          "data": {
            "text/html": [
              "<div>\n",
              "<style scoped>\n",
              "    .dataframe tbody tr th:only-of-type {\n",
              "        vertical-align: middle;\n",
              "    }\n",
              "\n",
              "    .dataframe tbody tr th {\n",
              "        vertical-align: top;\n",
              "    }\n",
              "\n",
              "    .dataframe thead th {\n",
              "        text-align: right;\n",
              "    }\n",
              "</style>\n",
              "<table border=\"1\" class=\"dataframe\">\n",
              "  <thead>\n",
              "    <tr style=\"text-align: right;\">\n",
              "      <th></th>\n",
              "      <th>followers_count</th>\n",
              "      <th>friends_count</th>\n",
              "      <th>listed_count</th>\n",
              "      <th>favourites_count</th>\n",
              "      <th>verified</th>\n",
              "      <th>statuses_count</th>\n",
              "      <th>default_profile</th>\n",
              "      <th>default_profile_image</th>\n",
              "      <th>has_extended_profile</th>\n",
              "      <th>bot</th>\n",
              "      <th>normalized_text</th>\n",
              "      <th>lang_ar</th>\n",
              "      <th>lang_da</th>\n",
              "      <th>lang_de</th>\n",
              "      <th>lang_en</th>\n",
              "      <th>lang_en-gb</th>\n",
              "      <th>lang_es</th>\n",
              "      <th>lang_fr</th>\n",
              "      <th>lang_gl</th>\n",
              "      <th>lang_it</th>\n",
              "      <th>lang_ja</th>\n",
              "      <th>lang_ko</th>\n",
              "      <th>lang_nl</th>\n",
              "      <th>lang_pt</th>\n",
              "      <th>lang_ru</th>\n",
              "      <th>lang_ta</th>\n",
              "      <th>lang_th</th>\n",
              "      <th>lang_tr</th>\n",
              "      <th>lang_zh-cn</th>\n",
              "    </tr>\n",
              "  </thead>\n",
              "  <tbody>\n",
              "    <tr>\n",
              "      <th>0</th>\n",
              "      <td>1291</td>\n",
              "      <td>0</td>\n",
              "      <td>10</td>\n",
              "      <td>0</td>\n",
              "      <td>0</td>\n",
              "      <td>78554</td>\n",
              "      <td>1</td>\n",
              "      <td>0</td>\n",
              "      <td>0</td>\n",
              "      <td>1</td>\n",
              "      <td>rare strong pokžmon houston tx see pokžmon ht...</td>\n",
              "      <td>0</td>\n",
              "      <td>0</td>\n",
              "      <td>0</td>\n",
              "      <td>1</td>\n",
              "      <td>0</td>\n",
              "      <td>0</td>\n",
              "      <td>0</td>\n",
              "      <td>0</td>\n",
              "      <td>0</td>\n",
              "      <td>0</td>\n",
              "      <td>0</td>\n",
              "      <td>0</td>\n",
              "      <td>0</td>\n",
              "      <td>0</td>\n",
              "      <td>0</td>\n",
              "      <td>0</td>\n",
              "      <td>0</td>\n",
              "      <td>0</td>\n",
              "    </tr>\n",
              "    <tr>\n",
              "      <th>1</th>\n",
              "      <td>1</td>\n",
              "      <td>349</td>\n",
              "      <td>0</td>\n",
              "      <td>38</td>\n",
              "      <td>0</td>\n",
              "      <td>31</td>\n",
              "      <td>1</td>\n",
              "      <td>0</td>\n",
              "      <td>0</td>\n",
              "      <td>1</td>\n",
              "      <td>late 2014 socium marketplac make shop fundamen...</td>\n",
              "      <td>0</td>\n",
              "      <td>0</td>\n",
              "      <td>0</td>\n",
              "      <td>1</td>\n",
              "      <td>0</td>\n",
              "      <td>0</td>\n",
              "      <td>0</td>\n",
              "      <td>0</td>\n",
              "      <td>0</td>\n",
              "      <td>0</td>\n",
              "      <td>0</td>\n",
              "      <td>0</td>\n",
              "      <td>0</td>\n",
              "      <td>0</td>\n",
              "      <td>0</td>\n",
              "      <td>0</td>\n",
              "      <td>0</td>\n",
              "      <td>0</td>\n",
              "    </tr>\n",
              "    <tr>\n",
              "      <th>2</th>\n",
              "      <td>1086</td>\n",
              "      <td>0</td>\n",
              "      <td>14</td>\n",
              "      <td>0</td>\n",
              "      <td>0</td>\n",
              "      <td>713</td>\n",
              "      <td>1</td>\n",
              "      <td>0</td>\n",
              "      <td>0</td>\n",
              "      <td>1</td>\n",
              "      <td>inspir smart funni folk @replyal @gimletmedia ...</td>\n",
              "      <td>0</td>\n",
              "      <td>0</td>\n",
              "      <td>0</td>\n",
              "      <td>1</td>\n",
              "      <td>0</td>\n",
              "      <td>0</td>\n",
              "      <td>0</td>\n",
              "      <td>0</td>\n",
              "      <td>0</td>\n",
              "      <td>0</td>\n",
              "      <td>0</td>\n",
              "      <td>0</td>\n",
              "      <td>0</td>\n",
              "      <td>0</td>\n",
              "      <td>0</td>\n",
              "      <td>0</td>\n",
              "      <td>0</td>\n",
              "      <td>0</td>\n",
              "    </tr>\n",
              "    <tr>\n",
              "      <th>4</th>\n",
              "      <td>11</td>\n",
              "      <td>745</td>\n",
              "      <td>0</td>\n",
              "      <td>146</td>\n",
              "      <td>0</td>\n",
              "      <td>185</td>\n",
              "      <td>0</td>\n",
              "      <td>0</td>\n",
              "      <td>0</td>\n",
              "      <td>1</td>\n",
              "      <td>inspir cook everywher sinc 1956</td>\n",
              "      <td>0</td>\n",
              "      <td>0</td>\n",
              "      <td>0</td>\n",
              "      <td>1</td>\n",
              "      <td>0</td>\n",
              "      <td>0</td>\n",
              "      <td>0</td>\n",
              "      <td>0</td>\n",
              "      <td>0</td>\n",
              "      <td>0</td>\n",
              "      <td>0</td>\n",
              "      <td>0</td>\n",
              "      <td>0</td>\n",
              "      <td>0</td>\n",
              "      <td>0</td>\n",
              "      <td>0</td>\n",
              "      <td>0</td>\n",
              "      <td>0</td>\n",
              "    </tr>\n",
              "    <tr>\n",
              "      <th>5</th>\n",
              "      <td>1</td>\n",
              "      <td>186</td>\n",
              "      <td>0</td>\n",
              "      <td>0</td>\n",
              "      <td>0</td>\n",
              "      <td>11</td>\n",
              "      <td>1</td>\n",
              "      <td>0</td>\n",
              "      <td>1</td>\n",
              "      <td>1</td>\n",
              "      <td>guy tri good tell everyon els get better</td>\n",
              "      <td>0</td>\n",
              "      <td>0</td>\n",
              "      <td>0</td>\n",
              "      <td>1</td>\n",
              "      <td>0</td>\n",
              "      <td>0</td>\n",
              "      <td>0</td>\n",
              "      <td>0</td>\n",
              "      <td>0</td>\n",
              "      <td>0</td>\n",
              "      <td>0</td>\n",
              "      <td>0</td>\n",
              "      <td>0</td>\n",
              "      <td>0</td>\n",
              "      <td>0</td>\n",
              "      <td>0</td>\n",
              "      <td>0</td>\n",
              "      <td>0</td>\n",
              "    </tr>\n",
              "  </tbody>\n",
              "</table>\n",
              "</div>"
            ],
            "text/plain": [
              "   followers_count  friends_count  listed_count  ...  lang_th  lang_tr  lang_zh-cn\n",
              "0             1291              0            10  ...        0        0           0\n",
              "1                1            349             0  ...        0        0           0\n",
              "2             1086              0            14  ...        0        0           0\n",
              "4               11            745             0  ...        0        0           0\n",
              "5                1            186             0  ...        0        0           0\n",
              "\n",
              "[5 rows x 29 columns]"
            ]
          },
          "metadata": {
            "tags": []
          },
          "execution_count": 18
        }
      ]
    },
    {
      "cell_type": "markdown",
      "metadata": {
        "id": "OM1NT0I6jh4S"
      },
      "source": [
        "Min max scale the data decribing each user (do not min max scale the word embeddings)."
      ]
    },
    {
      "cell_type": "code",
      "metadata": {
        "id": "FWjM6c2fjh4T",
        "colab": {
          "base_uri": "https://localhost:8080/",
          "height": 411
        },
        "outputId": "12948a80-6379-4842-a30d-3ee0e188dc21"
      },
      "source": [
        "# min max scale continuous columns\n",
        "scale = MinMaxScaler()\n",
        "\n",
        "counts = twitter7.filter(like='_count')\n",
        "counts_scaled = pd.DataFrame(scale.fit_transform(counts), columns=counts.columns)\n",
        "\n",
        "twitter8 = pd.concat([counts_scaled, twitter7.drop(columns=counts.columns).reset_index()], axis=1)\n",
        "twitter8.head()\n",
        "\n"
      ],
      "execution_count": 19,
      "outputs": [
        {
          "output_type": "execute_result",
          "data": {
            "text/html": [
              "<div>\n",
              "<style scoped>\n",
              "    .dataframe tbody tr th:only-of-type {\n",
              "        vertical-align: middle;\n",
              "    }\n",
              "\n",
              "    .dataframe tbody tr th {\n",
              "        vertical-align: top;\n",
              "    }\n",
              "\n",
              "    .dataframe thead th {\n",
              "        text-align: right;\n",
              "    }\n",
              "</style>\n",
              "<table border=\"1\" class=\"dataframe\">\n",
              "  <thead>\n",
              "    <tr style=\"text-align: right;\">\n",
              "      <th></th>\n",
              "      <th>followers_count</th>\n",
              "      <th>friends_count</th>\n",
              "      <th>listed_count</th>\n",
              "      <th>favourites_count</th>\n",
              "      <th>statuses_count</th>\n",
              "      <th>index</th>\n",
              "      <th>verified</th>\n",
              "      <th>default_profile</th>\n",
              "      <th>default_profile_image</th>\n",
              "      <th>has_extended_profile</th>\n",
              "      <th>bot</th>\n",
              "      <th>normalized_text</th>\n",
              "      <th>lang_ar</th>\n",
              "      <th>lang_da</th>\n",
              "      <th>lang_de</th>\n",
              "      <th>lang_en</th>\n",
              "      <th>lang_en-gb</th>\n",
              "      <th>lang_es</th>\n",
              "      <th>lang_fr</th>\n",
              "      <th>lang_gl</th>\n",
              "      <th>lang_it</th>\n",
              "      <th>lang_ja</th>\n",
              "      <th>lang_ko</th>\n",
              "      <th>lang_nl</th>\n",
              "      <th>lang_pt</th>\n",
              "      <th>lang_ru</th>\n",
              "      <th>lang_ta</th>\n",
              "      <th>lang_th</th>\n",
              "      <th>lang_tr</th>\n",
              "      <th>lang_zh-cn</th>\n",
              "    </tr>\n",
              "  </thead>\n",
              "  <tbody>\n",
              "    <tr>\n",
              "      <th>0</th>\n",
              "      <td>1.340302e-05</td>\n",
              "      <td>0.000000</td>\n",
              "      <td>0.000016</td>\n",
              "      <td>0.000000</td>\n",
              "      <td>0.011445</td>\n",
              "      <td>0</td>\n",
              "      <td>0</td>\n",
              "      <td>1</td>\n",
              "      <td>0</td>\n",
              "      <td>0</td>\n",
              "      <td>1</td>\n",
              "      <td>rare strong pokžmon houston tx see pokžmon ht...</td>\n",
              "      <td>0</td>\n",
              "      <td>0</td>\n",
              "      <td>0</td>\n",
              "      <td>1</td>\n",
              "      <td>0</td>\n",
              "      <td>0</td>\n",
              "      <td>0</td>\n",
              "      <td>0</td>\n",
              "      <td>0</td>\n",
              "      <td>0</td>\n",
              "      <td>0</td>\n",
              "      <td>0</td>\n",
              "      <td>0</td>\n",
              "      <td>0</td>\n",
              "      <td>0</td>\n",
              "      <td>0</td>\n",
              "      <td>0</td>\n",
              "      <td>0</td>\n",
              "    </tr>\n",
              "    <tr>\n",
              "      <th>1</th>\n",
              "      <td>1.038189e-08</td>\n",
              "      <td>0.000354</td>\n",
              "      <td>0.000000</td>\n",
              "      <td>0.000053</td>\n",
              "      <td>0.000005</td>\n",
              "      <td>1</td>\n",
              "      <td>0</td>\n",
              "      <td>1</td>\n",
              "      <td>0</td>\n",
              "      <td>0</td>\n",
              "      <td>1</td>\n",
              "      <td>late 2014 socium marketplac make shop fundamen...</td>\n",
              "      <td>0</td>\n",
              "      <td>0</td>\n",
              "      <td>0</td>\n",
              "      <td>1</td>\n",
              "      <td>0</td>\n",
              "      <td>0</td>\n",
              "      <td>0</td>\n",
              "      <td>0</td>\n",
              "      <td>0</td>\n",
              "      <td>0</td>\n",
              "      <td>0</td>\n",
              "      <td>0</td>\n",
              "      <td>0</td>\n",
              "      <td>0</td>\n",
              "      <td>0</td>\n",
              "      <td>0</td>\n",
              "      <td>0</td>\n",
              "      <td>0</td>\n",
              "    </tr>\n",
              "    <tr>\n",
              "      <th>2</th>\n",
              "      <td>1.127473e-05</td>\n",
              "      <td>0.000000</td>\n",
              "      <td>0.000023</td>\n",
              "      <td>0.000000</td>\n",
              "      <td>0.000104</td>\n",
              "      <td>2</td>\n",
              "      <td>0</td>\n",
              "      <td>1</td>\n",
              "      <td>0</td>\n",
              "      <td>0</td>\n",
              "      <td>1</td>\n",
              "      <td>inspir smart funni folk @replyal @gimletmedia ...</td>\n",
              "      <td>0</td>\n",
              "      <td>0</td>\n",
              "      <td>0</td>\n",
              "      <td>1</td>\n",
              "      <td>0</td>\n",
              "      <td>0</td>\n",
              "      <td>0</td>\n",
              "      <td>0</td>\n",
              "      <td>0</td>\n",
              "      <td>0</td>\n",
              "      <td>0</td>\n",
              "      <td>0</td>\n",
              "      <td>0</td>\n",
              "      <td>0</td>\n",
              "      <td>0</td>\n",
              "      <td>0</td>\n",
              "      <td>0</td>\n",
              "      <td>0</td>\n",
              "    </tr>\n",
              "    <tr>\n",
              "      <th>3</th>\n",
              "      <td>1.142008e-07</td>\n",
              "      <td>0.000756</td>\n",
              "      <td>0.000000</td>\n",
              "      <td>0.000204</td>\n",
              "      <td>0.000027</td>\n",
              "      <td>4</td>\n",
              "      <td>0</td>\n",
              "      <td>0</td>\n",
              "      <td>0</td>\n",
              "      <td>0</td>\n",
              "      <td>1</td>\n",
              "      <td>inspir cook everywher sinc 1956</td>\n",
              "      <td>0</td>\n",
              "      <td>0</td>\n",
              "      <td>0</td>\n",
              "      <td>1</td>\n",
              "      <td>0</td>\n",
              "      <td>0</td>\n",
              "      <td>0</td>\n",
              "      <td>0</td>\n",
              "      <td>0</td>\n",
              "      <td>0</td>\n",
              "      <td>0</td>\n",
              "      <td>0</td>\n",
              "      <td>0</td>\n",
              "      <td>0</td>\n",
              "      <td>0</td>\n",
              "      <td>0</td>\n",
              "      <td>0</td>\n",
              "      <td>0</td>\n",
              "    </tr>\n",
              "    <tr>\n",
              "      <th>4</th>\n",
              "      <td>1.038189e-08</td>\n",
              "      <td>0.000189</td>\n",
              "      <td>0.000000</td>\n",
              "      <td>0.000000</td>\n",
              "      <td>0.000002</td>\n",
              "      <td>5</td>\n",
              "      <td>0</td>\n",
              "      <td>1</td>\n",
              "      <td>0</td>\n",
              "      <td>1</td>\n",
              "      <td>1</td>\n",
              "      <td>guy tri good tell everyon els get better</td>\n",
              "      <td>0</td>\n",
              "      <td>0</td>\n",
              "      <td>0</td>\n",
              "      <td>1</td>\n",
              "      <td>0</td>\n",
              "      <td>0</td>\n",
              "      <td>0</td>\n",
              "      <td>0</td>\n",
              "      <td>0</td>\n",
              "      <td>0</td>\n",
              "      <td>0</td>\n",
              "      <td>0</td>\n",
              "      <td>0</td>\n",
              "      <td>0</td>\n",
              "      <td>0</td>\n",
              "      <td>0</td>\n",
              "      <td>0</td>\n",
              "      <td>0</td>\n",
              "    </tr>\n",
              "  </tbody>\n",
              "</table>\n",
              "</div>"
            ],
            "text/plain": [
              "   followers_count  friends_count  listed_count  ...  lang_th  lang_tr  lang_zh-cn\n",
              "0     1.340302e-05       0.000000      0.000016  ...        0        0           0\n",
              "1     1.038189e-08       0.000354      0.000000  ...        0        0           0\n",
              "2     1.127473e-05       0.000000      0.000023  ...        0        0           0\n",
              "3     1.142008e-07       0.000756      0.000000  ...        0        0           0\n",
              "4     1.038189e-08       0.000189      0.000000  ...        0        0           0\n",
              "\n",
              "[5 rows x 30 columns]"
            ]
          },
          "metadata": {
            "tags": []
          },
          "execution_count": 19
        }
      ]
    },
    {
      "cell_type": "code",
      "metadata": {
        "colab": {
          "base_uri": "https://localhost:8080/",
          "height": 411
        },
        "id": "cNLxwcxi_sun",
        "outputId": "406aef03-187d-4c3e-f599-9a9efbe67edd"
      },
      "source": [
        "twitter9 = twitter8.drop('index',axis=1)\n",
        "twitter9.head()"
      ],
      "execution_count": 20,
      "outputs": [
        {
          "output_type": "execute_result",
          "data": {
            "text/html": [
              "<div>\n",
              "<style scoped>\n",
              "    .dataframe tbody tr th:only-of-type {\n",
              "        vertical-align: middle;\n",
              "    }\n",
              "\n",
              "    .dataframe tbody tr th {\n",
              "        vertical-align: top;\n",
              "    }\n",
              "\n",
              "    .dataframe thead th {\n",
              "        text-align: right;\n",
              "    }\n",
              "</style>\n",
              "<table border=\"1\" class=\"dataframe\">\n",
              "  <thead>\n",
              "    <tr style=\"text-align: right;\">\n",
              "      <th></th>\n",
              "      <th>followers_count</th>\n",
              "      <th>friends_count</th>\n",
              "      <th>listed_count</th>\n",
              "      <th>favourites_count</th>\n",
              "      <th>statuses_count</th>\n",
              "      <th>verified</th>\n",
              "      <th>default_profile</th>\n",
              "      <th>default_profile_image</th>\n",
              "      <th>has_extended_profile</th>\n",
              "      <th>bot</th>\n",
              "      <th>normalized_text</th>\n",
              "      <th>lang_ar</th>\n",
              "      <th>lang_da</th>\n",
              "      <th>lang_de</th>\n",
              "      <th>lang_en</th>\n",
              "      <th>lang_en-gb</th>\n",
              "      <th>lang_es</th>\n",
              "      <th>lang_fr</th>\n",
              "      <th>lang_gl</th>\n",
              "      <th>lang_it</th>\n",
              "      <th>lang_ja</th>\n",
              "      <th>lang_ko</th>\n",
              "      <th>lang_nl</th>\n",
              "      <th>lang_pt</th>\n",
              "      <th>lang_ru</th>\n",
              "      <th>lang_ta</th>\n",
              "      <th>lang_th</th>\n",
              "      <th>lang_tr</th>\n",
              "      <th>lang_zh-cn</th>\n",
              "    </tr>\n",
              "  </thead>\n",
              "  <tbody>\n",
              "    <tr>\n",
              "      <th>0</th>\n",
              "      <td>1.340302e-05</td>\n",
              "      <td>0.000000</td>\n",
              "      <td>0.000016</td>\n",
              "      <td>0.000000</td>\n",
              "      <td>0.011445</td>\n",
              "      <td>0</td>\n",
              "      <td>1</td>\n",
              "      <td>0</td>\n",
              "      <td>0</td>\n",
              "      <td>1</td>\n",
              "      <td>rare strong pokžmon houston tx see pokžmon ht...</td>\n",
              "      <td>0</td>\n",
              "      <td>0</td>\n",
              "      <td>0</td>\n",
              "      <td>1</td>\n",
              "      <td>0</td>\n",
              "      <td>0</td>\n",
              "      <td>0</td>\n",
              "      <td>0</td>\n",
              "      <td>0</td>\n",
              "      <td>0</td>\n",
              "      <td>0</td>\n",
              "      <td>0</td>\n",
              "      <td>0</td>\n",
              "      <td>0</td>\n",
              "      <td>0</td>\n",
              "      <td>0</td>\n",
              "      <td>0</td>\n",
              "      <td>0</td>\n",
              "    </tr>\n",
              "    <tr>\n",
              "      <th>1</th>\n",
              "      <td>1.038189e-08</td>\n",
              "      <td>0.000354</td>\n",
              "      <td>0.000000</td>\n",
              "      <td>0.000053</td>\n",
              "      <td>0.000005</td>\n",
              "      <td>0</td>\n",
              "      <td>1</td>\n",
              "      <td>0</td>\n",
              "      <td>0</td>\n",
              "      <td>1</td>\n",
              "      <td>late 2014 socium marketplac make shop fundamen...</td>\n",
              "      <td>0</td>\n",
              "      <td>0</td>\n",
              "      <td>0</td>\n",
              "      <td>1</td>\n",
              "      <td>0</td>\n",
              "      <td>0</td>\n",
              "      <td>0</td>\n",
              "      <td>0</td>\n",
              "      <td>0</td>\n",
              "      <td>0</td>\n",
              "      <td>0</td>\n",
              "      <td>0</td>\n",
              "      <td>0</td>\n",
              "      <td>0</td>\n",
              "      <td>0</td>\n",
              "      <td>0</td>\n",
              "      <td>0</td>\n",
              "      <td>0</td>\n",
              "    </tr>\n",
              "    <tr>\n",
              "      <th>2</th>\n",
              "      <td>1.127473e-05</td>\n",
              "      <td>0.000000</td>\n",
              "      <td>0.000023</td>\n",
              "      <td>0.000000</td>\n",
              "      <td>0.000104</td>\n",
              "      <td>0</td>\n",
              "      <td>1</td>\n",
              "      <td>0</td>\n",
              "      <td>0</td>\n",
              "      <td>1</td>\n",
              "      <td>inspir smart funni folk @replyal @gimletmedia ...</td>\n",
              "      <td>0</td>\n",
              "      <td>0</td>\n",
              "      <td>0</td>\n",
              "      <td>1</td>\n",
              "      <td>0</td>\n",
              "      <td>0</td>\n",
              "      <td>0</td>\n",
              "      <td>0</td>\n",
              "      <td>0</td>\n",
              "      <td>0</td>\n",
              "      <td>0</td>\n",
              "      <td>0</td>\n",
              "      <td>0</td>\n",
              "      <td>0</td>\n",
              "      <td>0</td>\n",
              "      <td>0</td>\n",
              "      <td>0</td>\n",
              "      <td>0</td>\n",
              "    </tr>\n",
              "    <tr>\n",
              "      <th>3</th>\n",
              "      <td>1.142008e-07</td>\n",
              "      <td>0.000756</td>\n",
              "      <td>0.000000</td>\n",
              "      <td>0.000204</td>\n",
              "      <td>0.000027</td>\n",
              "      <td>0</td>\n",
              "      <td>0</td>\n",
              "      <td>0</td>\n",
              "      <td>0</td>\n",
              "      <td>1</td>\n",
              "      <td>inspir cook everywher sinc 1956</td>\n",
              "      <td>0</td>\n",
              "      <td>0</td>\n",
              "      <td>0</td>\n",
              "      <td>1</td>\n",
              "      <td>0</td>\n",
              "      <td>0</td>\n",
              "      <td>0</td>\n",
              "      <td>0</td>\n",
              "      <td>0</td>\n",
              "      <td>0</td>\n",
              "      <td>0</td>\n",
              "      <td>0</td>\n",
              "      <td>0</td>\n",
              "      <td>0</td>\n",
              "      <td>0</td>\n",
              "      <td>0</td>\n",
              "      <td>0</td>\n",
              "      <td>0</td>\n",
              "    </tr>\n",
              "    <tr>\n",
              "      <th>4</th>\n",
              "      <td>1.038189e-08</td>\n",
              "      <td>0.000189</td>\n",
              "      <td>0.000000</td>\n",
              "      <td>0.000000</td>\n",
              "      <td>0.000002</td>\n",
              "      <td>0</td>\n",
              "      <td>1</td>\n",
              "      <td>0</td>\n",
              "      <td>1</td>\n",
              "      <td>1</td>\n",
              "      <td>guy tri good tell everyon els get better</td>\n",
              "      <td>0</td>\n",
              "      <td>0</td>\n",
              "      <td>0</td>\n",
              "      <td>1</td>\n",
              "      <td>0</td>\n",
              "      <td>0</td>\n",
              "      <td>0</td>\n",
              "      <td>0</td>\n",
              "      <td>0</td>\n",
              "      <td>0</td>\n",
              "      <td>0</td>\n",
              "      <td>0</td>\n",
              "      <td>0</td>\n",
              "      <td>0</td>\n",
              "      <td>0</td>\n",
              "      <td>0</td>\n",
              "      <td>0</td>\n",
              "      <td>0</td>\n",
              "    </tr>\n",
              "  </tbody>\n",
              "</table>\n",
              "</div>"
            ],
            "text/plain": [
              "   followers_count  friends_count  listed_count  ...  lang_th  lang_tr  lang_zh-cn\n",
              "0     1.340302e-05       0.000000      0.000016  ...        0        0           0\n",
              "1     1.038189e-08       0.000354      0.000000  ...        0        0           0\n",
              "2     1.127473e-05       0.000000      0.000023  ...        0        0           0\n",
              "3     1.142008e-07       0.000756      0.000000  ...        0        0           0\n",
              "4     1.038189e-08       0.000189      0.000000  ...        0        0           0\n",
              "\n",
              "[5 rows x 29 columns]"
            ]
          },
          "metadata": {
            "tags": []
          },
          "execution_count": 20
        }
      ]
    },
    {
      "cell_type": "code",
      "metadata": {
        "id": "zQIN71U2CxNb"
      },
      "source": [
        "# define x and y\n",
        "X = twitter9.drop(['bot'], axis=1)\n",
        "y = twitter9['bot']"
      ],
      "execution_count": 21,
      "outputs": []
    },
    {
      "cell_type": "code",
      "metadata": {
        "colab": {
          "base_uri": "https://localhost:8080/",
          "height": 411
        },
        "id": "oUs4zMWrDWmg",
        "outputId": "c342ead7-6719-4e61-cb52-c0ddca086cf5"
      },
      "source": [
        "# inspect X\n",
        "X.head()"
      ],
      "execution_count": 22,
      "outputs": [
        {
          "output_type": "execute_result",
          "data": {
            "text/html": [
              "<div>\n",
              "<style scoped>\n",
              "    .dataframe tbody tr th:only-of-type {\n",
              "        vertical-align: middle;\n",
              "    }\n",
              "\n",
              "    .dataframe tbody tr th {\n",
              "        vertical-align: top;\n",
              "    }\n",
              "\n",
              "    .dataframe thead th {\n",
              "        text-align: right;\n",
              "    }\n",
              "</style>\n",
              "<table border=\"1\" class=\"dataframe\">\n",
              "  <thead>\n",
              "    <tr style=\"text-align: right;\">\n",
              "      <th></th>\n",
              "      <th>followers_count</th>\n",
              "      <th>friends_count</th>\n",
              "      <th>listed_count</th>\n",
              "      <th>favourites_count</th>\n",
              "      <th>statuses_count</th>\n",
              "      <th>verified</th>\n",
              "      <th>default_profile</th>\n",
              "      <th>default_profile_image</th>\n",
              "      <th>has_extended_profile</th>\n",
              "      <th>normalized_text</th>\n",
              "      <th>lang_ar</th>\n",
              "      <th>lang_da</th>\n",
              "      <th>lang_de</th>\n",
              "      <th>lang_en</th>\n",
              "      <th>lang_en-gb</th>\n",
              "      <th>lang_es</th>\n",
              "      <th>lang_fr</th>\n",
              "      <th>lang_gl</th>\n",
              "      <th>lang_it</th>\n",
              "      <th>lang_ja</th>\n",
              "      <th>lang_ko</th>\n",
              "      <th>lang_nl</th>\n",
              "      <th>lang_pt</th>\n",
              "      <th>lang_ru</th>\n",
              "      <th>lang_ta</th>\n",
              "      <th>lang_th</th>\n",
              "      <th>lang_tr</th>\n",
              "      <th>lang_zh-cn</th>\n",
              "    </tr>\n",
              "  </thead>\n",
              "  <tbody>\n",
              "    <tr>\n",
              "      <th>0</th>\n",
              "      <td>1.340302e-05</td>\n",
              "      <td>0.000000</td>\n",
              "      <td>0.000016</td>\n",
              "      <td>0.000000</td>\n",
              "      <td>0.011445</td>\n",
              "      <td>0</td>\n",
              "      <td>1</td>\n",
              "      <td>0</td>\n",
              "      <td>0</td>\n",
              "      <td>rare strong pokžmon houston tx see pokžmon ht...</td>\n",
              "      <td>0</td>\n",
              "      <td>0</td>\n",
              "      <td>0</td>\n",
              "      <td>1</td>\n",
              "      <td>0</td>\n",
              "      <td>0</td>\n",
              "      <td>0</td>\n",
              "      <td>0</td>\n",
              "      <td>0</td>\n",
              "      <td>0</td>\n",
              "      <td>0</td>\n",
              "      <td>0</td>\n",
              "      <td>0</td>\n",
              "      <td>0</td>\n",
              "      <td>0</td>\n",
              "      <td>0</td>\n",
              "      <td>0</td>\n",
              "      <td>0</td>\n",
              "    </tr>\n",
              "    <tr>\n",
              "      <th>1</th>\n",
              "      <td>1.038189e-08</td>\n",
              "      <td>0.000354</td>\n",
              "      <td>0.000000</td>\n",
              "      <td>0.000053</td>\n",
              "      <td>0.000005</td>\n",
              "      <td>0</td>\n",
              "      <td>1</td>\n",
              "      <td>0</td>\n",
              "      <td>0</td>\n",
              "      <td>late 2014 socium marketplac make shop fundamen...</td>\n",
              "      <td>0</td>\n",
              "      <td>0</td>\n",
              "      <td>0</td>\n",
              "      <td>1</td>\n",
              "      <td>0</td>\n",
              "      <td>0</td>\n",
              "      <td>0</td>\n",
              "      <td>0</td>\n",
              "      <td>0</td>\n",
              "      <td>0</td>\n",
              "      <td>0</td>\n",
              "      <td>0</td>\n",
              "      <td>0</td>\n",
              "      <td>0</td>\n",
              "      <td>0</td>\n",
              "      <td>0</td>\n",
              "      <td>0</td>\n",
              "      <td>0</td>\n",
              "    </tr>\n",
              "    <tr>\n",
              "      <th>2</th>\n",
              "      <td>1.127473e-05</td>\n",
              "      <td>0.000000</td>\n",
              "      <td>0.000023</td>\n",
              "      <td>0.000000</td>\n",
              "      <td>0.000104</td>\n",
              "      <td>0</td>\n",
              "      <td>1</td>\n",
              "      <td>0</td>\n",
              "      <td>0</td>\n",
              "      <td>inspir smart funni folk @replyal @gimletmedia ...</td>\n",
              "      <td>0</td>\n",
              "      <td>0</td>\n",
              "      <td>0</td>\n",
              "      <td>1</td>\n",
              "      <td>0</td>\n",
              "      <td>0</td>\n",
              "      <td>0</td>\n",
              "      <td>0</td>\n",
              "      <td>0</td>\n",
              "      <td>0</td>\n",
              "      <td>0</td>\n",
              "      <td>0</td>\n",
              "      <td>0</td>\n",
              "      <td>0</td>\n",
              "      <td>0</td>\n",
              "      <td>0</td>\n",
              "      <td>0</td>\n",
              "      <td>0</td>\n",
              "    </tr>\n",
              "    <tr>\n",
              "      <th>3</th>\n",
              "      <td>1.142008e-07</td>\n",
              "      <td>0.000756</td>\n",
              "      <td>0.000000</td>\n",
              "      <td>0.000204</td>\n",
              "      <td>0.000027</td>\n",
              "      <td>0</td>\n",
              "      <td>0</td>\n",
              "      <td>0</td>\n",
              "      <td>0</td>\n",
              "      <td>inspir cook everywher sinc 1956</td>\n",
              "      <td>0</td>\n",
              "      <td>0</td>\n",
              "      <td>0</td>\n",
              "      <td>1</td>\n",
              "      <td>0</td>\n",
              "      <td>0</td>\n",
              "      <td>0</td>\n",
              "      <td>0</td>\n",
              "      <td>0</td>\n",
              "      <td>0</td>\n",
              "      <td>0</td>\n",
              "      <td>0</td>\n",
              "      <td>0</td>\n",
              "      <td>0</td>\n",
              "      <td>0</td>\n",
              "      <td>0</td>\n",
              "      <td>0</td>\n",
              "      <td>0</td>\n",
              "    </tr>\n",
              "    <tr>\n",
              "      <th>4</th>\n",
              "      <td>1.038189e-08</td>\n",
              "      <td>0.000189</td>\n",
              "      <td>0.000000</td>\n",
              "      <td>0.000000</td>\n",
              "      <td>0.000002</td>\n",
              "      <td>0</td>\n",
              "      <td>1</td>\n",
              "      <td>0</td>\n",
              "      <td>1</td>\n",
              "      <td>guy tri good tell everyon els get better</td>\n",
              "      <td>0</td>\n",
              "      <td>0</td>\n",
              "      <td>0</td>\n",
              "      <td>1</td>\n",
              "      <td>0</td>\n",
              "      <td>0</td>\n",
              "      <td>0</td>\n",
              "      <td>0</td>\n",
              "      <td>0</td>\n",
              "      <td>0</td>\n",
              "      <td>0</td>\n",
              "      <td>0</td>\n",
              "      <td>0</td>\n",
              "      <td>0</td>\n",
              "      <td>0</td>\n",
              "      <td>0</td>\n",
              "      <td>0</td>\n",
              "      <td>0</td>\n",
              "    </tr>\n",
              "  </tbody>\n",
              "</table>\n",
              "</div>"
            ],
            "text/plain": [
              "   followers_count  friends_count  listed_count  ...  lang_th  lang_tr  lang_zh-cn\n",
              "0     1.340302e-05       0.000000      0.000016  ...        0        0           0\n",
              "1     1.038189e-08       0.000354      0.000000  ...        0        0           0\n",
              "2     1.127473e-05       0.000000      0.000023  ...        0        0           0\n",
              "3     1.142008e-07       0.000756      0.000000  ...        0        0           0\n",
              "4     1.038189e-08       0.000189      0.000000  ...        0        0           0\n",
              "\n",
              "[5 rows x 28 columns]"
            ]
          },
          "metadata": {
            "tags": []
          },
          "execution_count": 22
        }
      ]
    },
    {
      "cell_type": "code",
      "metadata": {
        "id": "3Ypmef-31bso"
      },
      "source": [
        "# train test split\n",
        "X_train, X_test, y_train, y_test = train_test_split(X, y, test_size=0.2)"
      ],
      "execution_count": 23,
      "outputs": []
    },
    {
      "cell_type": "code",
      "metadata": {
        "id": "G24r87U115lo"
      },
      "source": [
        "# split X train and X test sets by numeric and text data\n",
        "X_train_num = X_train.drop(['normalized_text'], axis=1)\n",
        "X_test_num = X_test.drop(['normalized_text'], axis=1)\n",
        "X_train_text = X_train['normalized_text']\n",
        "X_test_text = X_test['normalized_text']\n"
      ],
      "execution_count": 24,
      "outputs": []
    },
    {
      "cell_type": "code",
      "metadata": {
        "colab": {
          "base_uri": "https://localhost:8080/",
          "height": 241
        },
        "id": "YAphR35Q_XyI",
        "outputId": "cb723515-f8d5-45a0-901d-f6732171dd51"
      },
      "source": [
        "X_train_num.head()"
      ],
      "execution_count": 25,
      "outputs": [
        {
          "output_type": "execute_result",
          "data": {
            "text/html": [
              "<div>\n",
              "<style scoped>\n",
              "    .dataframe tbody tr th:only-of-type {\n",
              "        vertical-align: middle;\n",
              "    }\n",
              "\n",
              "    .dataframe tbody tr th {\n",
              "        vertical-align: top;\n",
              "    }\n",
              "\n",
              "    .dataframe thead th {\n",
              "        text-align: right;\n",
              "    }\n",
              "</style>\n",
              "<table border=\"1\" class=\"dataframe\">\n",
              "  <thead>\n",
              "    <tr style=\"text-align: right;\">\n",
              "      <th></th>\n",
              "      <th>followers_count</th>\n",
              "      <th>friends_count</th>\n",
              "      <th>listed_count</th>\n",
              "      <th>favourites_count</th>\n",
              "      <th>statuses_count</th>\n",
              "      <th>verified</th>\n",
              "      <th>default_profile</th>\n",
              "      <th>default_profile_image</th>\n",
              "      <th>has_extended_profile</th>\n",
              "      <th>lang_ar</th>\n",
              "      <th>lang_da</th>\n",
              "      <th>lang_de</th>\n",
              "      <th>lang_en</th>\n",
              "      <th>lang_en-gb</th>\n",
              "      <th>lang_es</th>\n",
              "      <th>lang_fr</th>\n",
              "      <th>lang_gl</th>\n",
              "      <th>lang_it</th>\n",
              "      <th>lang_ja</th>\n",
              "      <th>lang_ko</th>\n",
              "      <th>lang_nl</th>\n",
              "      <th>lang_pt</th>\n",
              "      <th>lang_ru</th>\n",
              "      <th>lang_ta</th>\n",
              "      <th>lang_th</th>\n",
              "      <th>lang_tr</th>\n",
              "      <th>lang_zh-cn</th>\n",
              "    </tr>\n",
              "  </thead>\n",
              "  <tbody>\n",
              "    <tr>\n",
              "      <th>1613</th>\n",
              "      <td>1.390447e-04</td>\n",
              "      <td>0.001008</td>\n",
              "      <td>0.001185</td>\n",
              "      <td>0.005830</td>\n",
              "      <td>0.000940</td>\n",
              "      <td>1</td>\n",
              "      <td>0</td>\n",
              "      <td>0</td>\n",
              "      <td>1</td>\n",
              "      <td>0</td>\n",
              "      <td>0</td>\n",
              "      <td>0</td>\n",
              "      <td>1</td>\n",
              "      <td>0</td>\n",
              "      <td>0</td>\n",
              "      <td>0</td>\n",
              "      <td>0</td>\n",
              "      <td>0</td>\n",
              "      <td>0</td>\n",
              "      <td>0</td>\n",
              "      <td>0</td>\n",
              "      <td>0</td>\n",
              "      <td>0</td>\n",
              "      <td>0</td>\n",
              "      <td>0</td>\n",
              "      <td>0</td>\n",
              "      <td>0</td>\n",
              "    </tr>\n",
              "    <tr>\n",
              "      <th>1923</th>\n",
              "      <td>2.180197e-07</td>\n",
              "      <td>0.000116</td>\n",
              "      <td>0.000000</td>\n",
              "      <td>0.000000</td>\n",
              "      <td>0.000001</td>\n",
              "      <td>0</td>\n",
              "      <td>0</td>\n",
              "      <td>0</td>\n",
              "      <td>0</td>\n",
              "      <td>0</td>\n",
              "      <td>0</td>\n",
              "      <td>0</td>\n",
              "      <td>1</td>\n",
              "      <td>0</td>\n",
              "      <td>0</td>\n",
              "      <td>0</td>\n",
              "      <td>0</td>\n",
              "      <td>0</td>\n",
              "      <td>0</td>\n",
              "      <td>0</td>\n",
              "      <td>0</td>\n",
              "      <td>0</td>\n",
              "      <td>0</td>\n",
              "      <td>0</td>\n",
              "      <td>0</td>\n",
              "      <td>0</td>\n",
              "      <td>0</td>\n",
              "    </tr>\n",
              "    <tr>\n",
              "      <th>1327</th>\n",
              "      <td>9.094537e-06</td>\n",
              "      <td>0.000454</td>\n",
              "      <td>0.000061</td>\n",
              "      <td>0.000094</td>\n",
              "      <td>0.001418</td>\n",
              "      <td>0</td>\n",
              "      <td>0</td>\n",
              "      <td>0</td>\n",
              "      <td>1</td>\n",
              "      <td>0</td>\n",
              "      <td>0</td>\n",
              "      <td>0</td>\n",
              "      <td>1</td>\n",
              "      <td>0</td>\n",
              "      <td>0</td>\n",
              "      <td>0</td>\n",
              "      <td>0</td>\n",
              "      <td>0</td>\n",
              "      <td>0</td>\n",
              "      <td>0</td>\n",
              "      <td>0</td>\n",
              "      <td>0</td>\n",
              "      <td>0</td>\n",
              "      <td>0</td>\n",
              "      <td>0</td>\n",
              "      <td>0</td>\n",
              "      <td>0</td>\n",
              "    </tr>\n",
              "    <tr>\n",
              "      <th>1587</th>\n",
              "      <td>2.151839e-02</td>\n",
              "      <td>0.000645</td>\n",
              "      <td>0.031917</td>\n",
              "      <td>0.017474</td>\n",
              "      <td>0.009522</td>\n",
              "      <td>1</td>\n",
              "      <td>0</td>\n",
              "      <td>0</td>\n",
              "      <td>0</td>\n",
              "      <td>0</td>\n",
              "      <td>0</td>\n",
              "      <td>0</td>\n",
              "      <td>1</td>\n",
              "      <td>0</td>\n",
              "      <td>0</td>\n",
              "      <td>0</td>\n",
              "      <td>0</td>\n",
              "      <td>0</td>\n",
              "      <td>0</td>\n",
              "      <td>0</td>\n",
              "      <td>0</td>\n",
              "      <td>0</td>\n",
              "      <td>0</td>\n",
              "      <td>0</td>\n",
              "      <td>0</td>\n",
              "      <td>0</td>\n",
              "      <td>0</td>\n",
              "    </tr>\n",
              "    <tr>\n",
              "      <th>1909</th>\n",
              "      <td>4.464213e-07</td>\n",
              "      <td>0.000118</td>\n",
              "      <td>0.000000</td>\n",
              "      <td>0.000382</td>\n",
              "      <td>0.000021</td>\n",
              "      <td>0</td>\n",
              "      <td>1</td>\n",
              "      <td>0</td>\n",
              "      <td>1</td>\n",
              "      <td>0</td>\n",
              "      <td>0</td>\n",
              "      <td>0</td>\n",
              "      <td>1</td>\n",
              "      <td>0</td>\n",
              "      <td>0</td>\n",
              "      <td>0</td>\n",
              "      <td>0</td>\n",
              "      <td>0</td>\n",
              "      <td>0</td>\n",
              "      <td>0</td>\n",
              "      <td>0</td>\n",
              "      <td>0</td>\n",
              "      <td>0</td>\n",
              "      <td>0</td>\n",
              "      <td>0</td>\n",
              "      <td>0</td>\n",
              "      <td>0</td>\n",
              "    </tr>\n",
              "  </tbody>\n",
              "</table>\n",
              "</div>"
            ],
            "text/plain": [
              "      followers_count  friends_count  ...  lang_tr  lang_zh-cn\n",
              "1613     1.390447e-04       0.001008  ...        0           0\n",
              "1923     2.180197e-07       0.000116  ...        0           0\n",
              "1327     9.094537e-06       0.000454  ...        0           0\n",
              "1587     2.151839e-02       0.000645  ...        0           0\n",
              "1909     4.464213e-07       0.000118  ...        0           0\n",
              "\n",
              "[5 rows x 27 columns]"
            ]
          },
          "metadata": {
            "tags": []
          },
          "execution_count": 25
        }
      ]
    },
    {
      "cell_type": "code",
      "metadata": {
        "colab": {
          "base_uri": "https://localhost:8080/"
        },
        "id": "yoxCp6vt7oq5",
        "outputId": "9e2a50d7-2427-44d8-c466-57527b43a5fd"
      },
      "source": [
        "X_train_text"
      ],
      "execution_count": 26,
      "outputs": [
        {
          "output_type": "execute_result",
          "data": {
            "text/plain": [
              "1613    backward high heel marri @astro_oz grammi 2 go...\n",
              "1923                                           mineirinha\n",
              "1327    sue lay may nah gitch /// #cuj13 /// kennysul ...\n",
              "1587                              nine year nfl two ring \n",
              "1909                                      kati lin spear \n",
              "                              ...                        \n",
              "2241                                  presid intel corpor\n",
              "648                               let s play letter game \n",
              "1413                                    live life fullest\n",
              "321                            feed paper network biolog \n",
              "2161                not alway flip sarcast sometim sleep \n",
              "Name: normalized_text, Length: 1884, dtype: object"
            ]
          },
          "metadata": {
            "tags": []
          },
          "execution_count": 26
        }
      ]
    },
    {
      "cell_type": "code",
      "metadata": {
        "colab": {
          "base_uri": "https://localhost:8080/"
        },
        "id": "8HhZGzdz9n3f",
        "outputId": "0ffef482-79c2-4ac0-b3d4-1720bdb0860a"
      },
      "source": [
        "X_test_text "
      ],
      "execution_count": 27,
      "outputs": [
        {
          "output_type": "execute_result",
          "data": {
            "text/plain": [
              "584     twitterbot paper ancient dna human genom arxiv...\n",
              "1678    hardcor gamer passion game develop love make f...\n",
              "1503    gener counsel @campaignleg cnn contributor for...\n",
              "997     purveyor custom scientif eponym sinc 2014 epon...\n",
              "1431                            water melanin bone blood \n",
              "                              ...                        \n",
              "1723    i m actor movi like didn t sometim i m pretti ...\n",
              "1968                                      make music can \n",
              "220                                start second half life\n",
              "1330    @mashabl social editor book nerd #mashread per...\n",
              "388        serv finest artisan cuisin perfect dine experi\n",
              "Name: normalized_text, Length: 471, dtype: object"
            ]
          },
          "metadata": {
            "tags": []
          },
          "execution_count": 27
        }
      ]
    },
    {
      "cell_type": "code",
      "metadata": {
        "colab": {
          "base_uri": "https://localhost:8080/"
        },
        "id": "DVjS1GGuz-y5",
        "outputId": "a48734b8-a24f-4f6a-cdd4-061d081a5ace"
      },
      "source": [
        "# complete preprocessing text data\n",
        "# create vocab for one hot encode\n",
        "vocab = \" \".join(X_train_text.tolist())\n",
        "vocab = vocab.split(\" \")\n",
        "vocab = list(filter(None, vocab))\n",
        "vocab_size = len(set(vocab))\n",
        "vocab_size"
      ],
      "execution_count": 28,
      "outputs": [
        {
          "output_type": "execute_result",
          "data": {
            "text/plain": [
              "6904"
            ]
          },
          "metadata": {
            "tags": []
          },
          "execution_count": 28
        }
      ]
    },
    {
      "cell_type": "code",
      "metadata": {
        "id": "_koTOJ1ETHPZ"
      },
      "source": [
        "# one hot encode each word\n",
        "encoded_tweets = [one_hot(tweet, vocab_size) for tweet in X_train_text]\n",
        "# pad the encoded sequences\n",
        "X_train_text = pad_sequences(encoded_tweets)"
      ],
      "execution_count": 29,
      "outputs": []
    },
    {
      "cell_type": "code",
      "metadata": {
        "id": "vwFR7bVqTBDa"
      },
      "source": [
        "# vecotorize x test text data\n",
        "encoded_tweets = [one_hot(tweet, vocab_size) for tweet in X_test_text]\n",
        "# pad the encoded sequences\n",
        "X_test_text = pad_sequences(encoded_tweets)"
      ],
      "execution_count": 30,
      "outputs": []
    },
    {
      "cell_type": "code",
      "metadata": {
        "colab": {
          "base_uri": "https://localhost:8080/"
        },
        "id": "kkJ3c0AfWO5U",
        "outputId": "563490eb-07e0-4815-a238-1a23c14f6be6"
      },
      "source": [
        "X_train_text.shape, X_test_text.shape"
      ],
      "execution_count": 31,
      "outputs": [
        {
          "output_type": "execute_result",
          "data": {
            "text/plain": [
              "((1884, 66), (471, 26))"
            ]
          },
          "metadata": {
            "tags": []
          },
          "execution_count": 31
        }
      ]
    },
    {
      "cell_type": "code",
      "metadata": {
        "id": "6h6QgVNJVOoz"
      },
      "source": [
        "# left pad X_test_text to match the same dimensions as X_train_text\n",
        "X_test_text_pad = np.pad(X_test_text,((0,0),((X_train_text.shape[1]-X_test_text.shape[1]),0)), 'constant')"
      ],
      "execution_count": 32,
      "outputs": []
    },
    {
      "cell_type": "code",
      "metadata": {
        "colab": {
          "base_uri": "https://localhost:8080/"
        },
        "id": "E6aviYaD8VtN",
        "outputId": "3089fe0d-b9d6-4482-e2d1-a310f6383bc4"
      },
      "source": [
        "X_train_text.shape, X_test_text_pad.shape"
      ],
      "execution_count": 33,
      "outputs": [
        {
          "output_type": "execute_result",
          "data": {
            "text/plain": [
              "((1884, 66), (471, 66))"
            ]
          },
          "metadata": {
            "tags": []
          },
          "execution_count": 33
        }
      ]
    },
    {
      "cell_type": "code",
      "metadata": {
        "colab": {
          "base_uri": "https://localhost:8080/"
        },
        "id": "dN4P-Rs9Wn0Z",
        "outputId": "2b444b3f-e3f1-4809-b667-48f45a38c7c4"
      },
      "source": [
        "X_test_text_pad[:1]"
      ],
      "execution_count": 34,
      "outputs": [
        {
          "output_type": "execute_result",
          "data": {
            "text/plain": [
              "array([[   0,    0,    0,    0,    0,    0,    0,    0,    0,    0,    0,\n",
              "           0,    0,    0,    0,    0,    0,    0,    0,    0,    0,    0,\n",
              "           0,    0,    0,    0,    0,    0,    0,    0,    0,    0,    0,\n",
              "           0,    0,    0,    0,    0,    0,    0,    0,    0,    0,    0,\n",
              "           0,    0,    0,    0,    0,    0,    0,    0,    0,    0,    0,\n",
              "         354, 6579, 4297, 2763, 1913, 5200, 1249, 3679, 3509, 3892, 5317]],\n",
              "      dtype=int32)"
            ]
          },
          "metadata": {
            "tags": []
          },
          "execution_count": 34
        }
      ]
    },
    {
      "cell_type": "code",
      "metadata": {
        "id": "ZK0giOVZdeBl"
      },
      "source": [
        "X_test_text = X_test_text_pad"
      ],
      "execution_count": 35,
      "outputs": []
    },
    {
      "cell_type": "markdown",
      "metadata": {
        "id": "KqnpUBKqjh4V"
      },
      "source": [
        "Now we'll create the two branches. Create a model for the numeric data that consists of 3 dense layers. An input layer and two hidden layers of size 32."
      ]
    },
    {
      "cell_type": "code",
      "metadata": {
        "id": "qazo_4w8jh4V"
      },
      "source": [
        "# layer 1 - numeric branch\n",
        "\n",
        "# create input\n",
        "inputs_num = Input(shape=X_train_num.shape[1],name='num_input')\n",
        "\n",
        "# hidden layers\n",
        "h1_num = Dense(32, activation='relu',name='num_h1')(inputs_num)\n",
        "path_num = Dense(32, activation='relu',name='num_path')(h1_num)"
      ],
      "execution_count": 36,
      "outputs": []
    },
    {
      "cell_type": "markdown",
      "metadata": {
        "id": "yRP-ou9Ejh4X"
      },
      "source": [
        "Create the second branch of the model using the encoded words. This branch will consist of 4 layers: An input layer, an embedding layer returning data of dimension 100, an LSTM layer of unit size 32 and a dense layer of unit size 32. "
      ]
    },
    {
      "cell_type": "code",
      "metadata": {
        "colab": {
          "base_uri": "https://localhost:8080/"
        },
        "id": "GguMp0H6Lf4x",
        "outputId": "89cedbfe-f1bb-45b0-ae07-5245783d3062"
      },
      "source": [
        "X_train_text.shape[1]"
      ],
      "execution_count": 37,
      "outputs": [
        {
          "output_type": "execute_result",
          "data": {
            "text/plain": [
              "66"
            ]
          },
          "metadata": {
            "tags": []
          },
          "execution_count": 37
        }
      ]
    },
    {
      "cell_type": "code",
      "metadata": {
        "id": "I1bLnn2Sjh4Y"
      },
      "source": [
        "# layer 2 - text branch\n",
        "\n",
        "# create input\n",
        "inputs_text = Input(shape=X_train_text.shape[1],name='text_input')\n",
        "# embedding layer\n",
        "embed_text = Embedding(input_dim=vocab_size+1, output_dim=100,name='text_embed')(inputs_text)\n",
        "# lstm layer\n",
        "lstm_text = LSTM(32,name='text_lstm')(embed_text)\n",
        "# hidden layers\n",
        "path_text = Dense(32, activation='relu',name='text_path')(lstm_text)\n"
      ],
      "execution_count": 38,
      "outputs": []
    },
    {
      "cell_type": "markdown",
      "metadata": {
        "id": "Pbx549Vljh4Z"
      },
      "source": [
        "Merge the two models using the `concatenate` function (merge the two final dense layers in each branch) and create an output dense layer."
      ]
    },
    {
      "cell_type": "code",
      "metadata": {
        "id": "p6QrfrYijh4a"
      },
      "source": [
        "# concatenate both paths\n",
        "merge = concatenate([path_num,path_text],name='merge')\n",
        "\n",
        "output = Dense(1, activation='sigmoid',name='output')(merge)\n",
        "#output = Dense(1, activation='sigmoid')(path_text)"
      ],
      "execution_count": 39,
      "outputs": []
    },
    {
      "cell_type": "markdown",
      "metadata": {
        "id": "lz0-pz-Cjh4b"
      },
      "source": [
        "Create a model using the two inputs and the single output and print the summary"
      ]
    },
    {
      "cell_type": "code",
      "metadata": {
        "id": "6ZJtI6wAjh4c",
        "colab": {
          "base_uri": "https://localhost:8080/"
        },
        "outputId": "75fb5235-7b55-48cf-d85f-0bb2e4d8b15a"
      },
      "source": [
        "# create model\n",
        "#model = Model(inputs=inputs_text, outputs=output)\n",
        "model = Model(inputs=[inputs_num,inputs_text], outputs=output)\n",
        "model.summary()"
      ],
      "execution_count": 40,
      "outputs": [
        {
          "output_type": "stream",
          "text": [
            "Model: \"model\"\n",
            "__________________________________________________________________________________________________\n",
            "Layer (type)                    Output Shape         Param #     Connected to                     \n",
            "==================================================================================================\n",
            "text_input (InputLayer)         [(None, 66)]         0                                            \n",
            "__________________________________________________________________________________________________\n",
            "num_input (InputLayer)          [(None, 27)]         0                                            \n",
            "__________________________________________________________________________________________________\n",
            "text_embed (Embedding)          (None, 66, 100)      690500      text_input[0][0]                 \n",
            "__________________________________________________________________________________________________\n",
            "num_h1 (Dense)                  (None, 32)           896         num_input[0][0]                  \n",
            "__________________________________________________________________________________________________\n",
            "text_lstm (LSTM)                (None, 32)           17024       text_embed[0][0]                 \n",
            "__________________________________________________________________________________________________\n",
            "num_path (Dense)                (None, 32)           1056        num_h1[0][0]                     \n",
            "__________________________________________________________________________________________________\n",
            "text_path (Dense)               (None, 32)           1056        text_lstm[0][0]                  \n",
            "__________________________________________________________________________________________________\n",
            "merge (Concatenate)             (None, 64)           0           num_path[0][0]                   \n",
            "                                                                 text_path[0][0]                  \n",
            "__________________________________________________________________________________________________\n",
            "output (Dense)                  (None, 1)            65          merge[0][0]                      \n",
            "==================================================================================================\n",
            "Total params: 710,597\n",
            "Trainable params: 710,597\n",
            "Non-trainable params: 0\n",
            "__________________________________________________________________________________________________\n"
          ],
          "name": "stdout"
        }
      ]
    },
    {
      "cell_type": "code",
      "metadata": {
        "colab": {
          "base_uri": "https://localhost:8080/",
          "height": 564
        },
        "id": "VS2pF6iPOx32",
        "outputId": "66674539-fe7c-4e07-b02d-c697635acf59"
      },
      "source": [
        "# plot model\n",
        "plot_model(model, to_file='two_inputs_one_output.png')"
      ],
      "execution_count": 41,
      "outputs": [
        {
          "output_type": "execute_result",
          "data": {
            "image/png": "[encoded data removed]",
            "text/plain": [
              "<IPython.core.display.Image object>"
            ]
          },
          "metadata": {
            "tags": []
          },
          "execution_count": 41
        }
      ]
    },
    {
      "cell_type": "markdown",
      "metadata": {
        "id": "pHk3RhaSjh4e"
      },
      "source": [
        "Compile and fit the model using the appropriate optimizer, loss, and metrics. Train the model for 10 epochs with a batch size of 128."
      ]
    },
    {
      "cell_type": "code",
      "metadata": {
        "id": "4ceKDMXNjh4e",
        "colab": {
          "base_uri": "https://localhost:8080/"
        },
        "outputId": "4faf2cdd-2a2c-4436-df6f-0eb499d46c92"
      },
      "source": [
        "# compile model\n",
        "model.compile(loss='binary_crossentropy', optimizer='adam', metrics=['accuracy'])\n",
        "# fit model\n",
        "history = model.fit([X_train_num,X_train_text], y_train, validation_data=([X_test_num,X_test_text], y_test), epochs=50, batch_size=128)\n",
        "    \n",
        "    "
      ],
      "execution_count": 42,
      "outputs": [
        {
          "output_type": "stream",
          "text": [
            "Epoch 1/50\n",
            "15/15 [==============================] - 4s 61ms/step - loss: 0.6884 - accuracy: 0.5202 - val_loss: 0.6652 - val_accuracy: 0.7261\n",
            "Epoch 2/50\n",
            "15/15 [==============================] - 0s 16ms/step - loss: 0.6491 - accuracy: 0.7600 - val_loss: 0.6210 - val_accuracy: 0.6752\n",
            "Epoch 3/50\n",
            "15/15 [==============================] - 0s 17ms/step - loss: 0.5617 - accuracy: 0.7995 - val_loss: 0.5211 - val_accuracy: 0.8280\n",
            "Epoch 4/50\n",
            "15/15 [==============================] - 0s 17ms/step - loss: 0.4062 - accuracy: 0.9089 - val_loss: 0.4658 - val_accuracy: 0.8089\n",
            "Epoch 5/50\n",
            "15/15 [==============================] - 0s 17ms/step - loss: 0.2532 - accuracy: 0.9516 - val_loss: 0.4620 - val_accuracy: 0.8047\n",
            "Epoch 6/50\n",
            "15/15 [==============================] - 0s 16ms/step - loss: 0.1541 - accuracy: 0.9704 - val_loss: 0.4649 - val_accuracy: 0.7919\n",
            "Epoch 7/50\n",
            "15/15 [==============================] - 0s 17ms/step - loss: 0.0970 - accuracy: 0.9801 - val_loss: 0.5229 - val_accuracy: 0.7919\n",
            "Epoch 8/50\n",
            "15/15 [==============================] - 0s 17ms/step - loss: 0.0682 - accuracy: 0.9851 - val_loss: 0.6083 - val_accuracy: 0.7834\n",
            "Epoch 9/50\n",
            "15/15 [==============================] - 0s 16ms/step - loss: 0.0454 - accuracy: 0.9897 - val_loss: 0.6964 - val_accuracy: 0.7771\n",
            "Epoch 10/50\n",
            "15/15 [==============================] - 0s 16ms/step - loss: 0.0306 - accuracy: 0.9933 - val_loss: 0.7497 - val_accuracy: 0.7834\n",
            "Epoch 11/50\n",
            "15/15 [==============================] - 0s 17ms/step - loss: 0.0316 - accuracy: 0.9940 - val_loss: 0.7757 - val_accuracy: 0.7771\n",
            "Epoch 12/50\n",
            "15/15 [==============================] - 0s 18ms/step - loss: 0.0252 - accuracy: 0.9945 - val_loss: 0.7959 - val_accuracy: 0.7707\n",
            "Epoch 13/50\n",
            "15/15 [==============================] - 0s 17ms/step - loss: 0.0218 - accuracy: 0.9957 - val_loss: 0.8584 - val_accuracy: 0.7686\n",
            "Epoch 14/50\n",
            "15/15 [==============================] - 0s 17ms/step - loss: 0.0211 - accuracy: 0.9950 - val_loss: 0.9513 - val_accuracy: 0.7686\n",
            "Epoch 15/50\n",
            "15/15 [==============================] - 0s 17ms/step - loss: 0.0165 - accuracy: 0.9963 - val_loss: 0.8816 - val_accuracy: 0.7686\n",
            "Epoch 16/50\n",
            "15/15 [==============================] - 0s 18ms/step - loss: 0.0153 - accuracy: 0.9960 - val_loss: 0.9013 - val_accuracy: 0.7643\n",
            "Epoch 17/50\n",
            "15/15 [==============================] - 0s 17ms/step - loss: 0.0155 - accuracy: 0.9950 - val_loss: 0.9761 - val_accuracy: 0.7643\n",
            "Epoch 18/50\n",
            "15/15 [==============================] - 0s 16ms/step - loss: 0.0156 - accuracy: 0.9934 - val_loss: 0.8920 - val_accuracy: 0.7622\n",
            "Epoch 19/50\n",
            "15/15 [==============================] - 0s 16ms/step - loss: 0.0135 - accuracy: 0.9942 - val_loss: 0.9596 - val_accuracy: 0.7686\n",
            "Epoch 20/50\n",
            "15/15 [==============================] - 0s 17ms/step - loss: 0.0131 - accuracy: 0.9951 - val_loss: 1.0701 - val_accuracy: 0.7622\n",
            "Epoch 21/50\n",
            "15/15 [==============================] - 0s 18ms/step - loss: 0.0141 - accuracy: 0.9935 - val_loss: 1.0315 - val_accuracy: 0.7643\n",
            "Epoch 22/50\n",
            "15/15 [==============================] - 0s 19ms/step - loss: 0.0163 - accuracy: 0.9941 - val_loss: 0.9403 - val_accuracy: 0.7558\n",
            "Epoch 23/50\n",
            "15/15 [==============================] - 0s 17ms/step - loss: 0.0171 - accuracy: 0.9898 - val_loss: 0.9542 - val_accuracy: 0.7686\n",
            "Epoch 24/50\n",
            "15/15 [==============================] - 0s 17ms/step - loss: 0.0096 - accuracy: 0.9966 - val_loss: 0.9909 - val_accuracy: 0.7601\n",
            "Epoch 25/50\n",
            "15/15 [==============================] - 0s 16ms/step - loss: 0.0100 - accuracy: 0.9965 - val_loss: 0.9995 - val_accuracy: 0.7686\n",
            "Epoch 26/50\n",
            "15/15 [==============================] - 0s 18ms/step - loss: 0.0128 - accuracy: 0.9928 - val_loss: 0.9767 - val_accuracy: 0.7686\n",
            "Epoch 27/50\n",
            "15/15 [==============================] - 0s 25ms/step - loss: 0.0111 - accuracy: 0.9937 - val_loss: 0.9725 - val_accuracy: 0.7728\n",
            "Epoch 28/50\n",
            "15/15 [==============================] - 0s 16ms/step - loss: 0.0072 - accuracy: 0.9973 - val_loss: 1.0123 - val_accuracy: 0.7665\n",
            "Epoch 29/50\n",
            "15/15 [==============================] - 0s 17ms/step - loss: 0.0138 - accuracy: 0.9904 - val_loss: 1.0138 - val_accuracy: 0.7665\n",
            "Epoch 30/50\n",
            "15/15 [==============================] - 0s 17ms/step - loss: 0.0103 - accuracy: 0.9950 - val_loss: 0.9831 - val_accuracy: 0.7580\n",
            "Epoch 31/50\n",
            "15/15 [==============================] - 0s 18ms/step - loss: 0.0075 - accuracy: 0.9949 - val_loss: 0.9916 - val_accuracy: 0.7643\n",
            "Epoch 32/50\n",
            "15/15 [==============================] - 0s 17ms/step - loss: 0.0078 - accuracy: 0.9972 - val_loss: 0.9940 - val_accuracy: 0.7665\n",
            "Epoch 33/50\n",
            "15/15 [==============================] - 0s 18ms/step - loss: 0.0082 - accuracy: 0.9983 - val_loss: 1.0218 - val_accuracy: 0.7686\n",
            "Epoch 34/50\n",
            "15/15 [==============================] - 0s 18ms/step - loss: 0.0076 - accuracy: 0.9966 - val_loss: 1.0295 - val_accuracy: 0.7707\n",
            "Epoch 35/50\n",
            "15/15 [==============================] - 0s 18ms/step - loss: 0.0079 - accuracy: 0.9965 - val_loss: 1.0473 - val_accuracy: 0.7643\n",
            "Epoch 36/50\n",
            "15/15 [==============================] - 0s 17ms/step - loss: 0.0096 - accuracy: 0.9939 - val_loss: 1.0527 - val_accuracy: 0.7580\n",
            "Epoch 37/50\n",
            "15/15 [==============================] - 0s 17ms/step - loss: 0.0091 - accuracy: 0.9948 - val_loss: 1.0714 - val_accuracy: 0.7686\n",
            "Epoch 38/50\n",
            "15/15 [==============================] - 0s 18ms/step - loss: 0.0117 - accuracy: 0.9928 - val_loss: 1.0728 - val_accuracy: 0.7601\n",
            "Epoch 39/50\n",
            "15/15 [==============================] - 0s 18ms/step - loss: 0.0063 - accuracy: 0.9963 - val_loss: 1.0701 - val_accuracy: 0.7643\n",
            "Epoch 40/50\n",
            "15/15 [==============================] - 0s 17ms/step - loss: 0.0095 - accuracy: 0.9946 - val_loss: 1.0822 - val_accuracy: 0.7643\n",
            "Epoch 41/50\n",
            "15/15 [==============================] - 0s 17ms/step - loss: 0.0064 - accuracy: 0.9966 - val_loss: 1.0820 - val_accuracy: 0.7580\n",
            "Epoch 42/50\n",
            "15/15 [==============================] - 0s 17ms/step - loss: 0.0092 - accuracy: 0.9970 - val_loss: 1.1184 - val_accuracy: 0.7622\n",
            "Epoch 43/50\n",
            "15/15 [==============================] - 0s 18ms/step - loss: 0.0111 - accuracy: 0.9954 - val_loss: 1.0815 - val_accuracy: 0.7580\n",
            "Epoch 44/50\n",
            "15/15 [==============================] - 0s 17ms/step - loss: 0.0078 - accuracy: 0.9949 - val_loss: 1.0877 - val_accuracy: 0.7601\n",
            "Epoch 45/50\n",
            "15/15 [==============================] - 0s 16ms/step - loss: 0.0055 - accuracy: 0.9977 - val_loss: 1.1022 - val_accuracy: 0.7516\n",
            "Epoch 46/50\n",
            "15/15 [==============================] - 0s 17ms/step - loss: 0.0081 - accuracy: 0.9954 - val_loss: 1.0891 - val_accuracy: 0.7622\n",
            "Epoch 47/50\n",
            "15/15 [==============================] - 0s 17ms/step - loss: 0.0063 - accuracy: 0.9964 - val_loss: 1.0820 - val_accuracy: 0.7580\n",
            "Epoch 48/50\n",
            "15/15 [==============================] - 0s 17ms/step - loss: 0.0077 - accuracy: 0.9983 - val_loss: 1.0937 - val_accuracy: 0.7537\n",
            "Epoch 49/50\n",
            "15/15 [==============================] - 0s 17ms/step - loss: 0.0074 - accuracy: 0.9947 - val_loss: 1.0894 - val_accuracy: 0.7601\n",
            "Epoch 50/50\n",
            "15/15 [==============================] - 0s 16ms/step - loss: 0.0079 - accuracy: 0.9965 - val_loss: 1.1012 - val_accuracy: 0.7643\n"
          ],
          "name": "stdout"
        }
      ]
    },
    {
      "cell_type": "code",
      "metadata": {
        "id": "aP8Qdhv-irK_"
      },
      "source": [
        "def results(model,history,model_name='Model'):\n",
        "  # dataframe with epoch history\n",
        "  model_df = pd.DataFrame(history.history)\n",
        "  # plot model loss over epochs\n",
        "  model_df[['loss', 'val_loss']].plot(figsize=(20,10))\n",
        "  plt.title(f'{model_name} Loss'.capitalize() )\n",
        "  plt.show()\n",
        "  # plot model accuracy over epochs\n",
        "  model_df[['accuracy', 'val_accuracy']].plot(figsize=(20,10))\n",
        "  plt.title(f'{model_name} Accuracy'.capitalize() )\n",
        "  plt.show()  \n",
        "  # final epoch model results\n",
        "  results = model.evaluate([X_test_num,X_test_text], y_test, verbose=0)\n",
        "  print(f'{model_name} Loss: '.capitalize() , round(results[0],6))\n",
        "  print(f'{model_name} Accuracy: '.capitalize() , round(results[1],6))"
      ],
      "execution_count": 43,
      "outputs": []
    },
    {
      "cell_type": "code",
      "metadata": {
        "colab": {
          "base_uri": "https://localhost:8080/",
          "height": 1000
        },
        "id": "VF4v9auziq9e",
        "outputId": "c3e9cb69-3f40-4f49-95cd-5e898eeed666"
      },
      "source": [
        "results(model, history)"
      ],
      "execution_count": 44,
      "outputs": [
        {
          "output_type": "display_data",
          "data": {
            "image/png": "[encoded data removed]",
            "text/plain": [
              "<Figure size 1440x720 with 1 Axes>"
            ]
          },
          "metadata": {
            "tags": [],
            "needs_background": "light"
          }
        },
        {
          "output_type": "display_data",
          "data": {
            "image/png": "[encoded data removed]",
            "text/plain": [
              "<Figure size 1440x720 with 1 Axes>"
            ]
          },
          "metadata": {
            "tags": [],
            "needs_background": "light"
          }
        },
        {
          "output_type": "stream",
          "text": [
            "Model loss:  1.101222\n",
            "Model accuracy:  0.764331\n"
          ],
          "name": "stdout"
        }
      ]
    },
    {
      "cell_type": "code",
      "metadata": {
        "id": "NhlBHQVnjh4h"
      },
      "source": [
        "#plot confustion matric helper function\n",
        "def plot_confusion_matrix(cm,\n",
        "                          target_names,\n",
        "                          title='Confusion matrix',\n",
        "                          cmap=None,\n",
        "                          normalize=True):\n",
        "    \"\"\"\n",
        "    Given a scikit-learn confusion matrix (CM), make a nice plot.\n",
        "\n",
        "    Arguments\n",
        "    ---------\n",
        "    cm:           Confusion matrix from sklearn.metrics.confusion_matrix\n",
        "\n",
        "    target_names: Given classification classes, such as [0, 1, 2]\n",
        "                  The class names, for example, ['high', 'medium', 'low']\n",
        "\n",
        "    title:        The text to display at the top of the matrix\n",
        "\n",
        "    cmap:         The gradient of the values displayed from matplotlib.pyplot.cm\n",
        "                  See http://matplotlib.org/examples/color/colormaps_reference.html\n",
        "                  `plt.get_cmap('jet')` or `plt.cm.Blues`\n",
        "\n",
        "    normalize:    If `False`, plot the raw numbers\n",
        "                  If `True`, plot the proportions\n",
        "\n",
        "    Usage\n",
        "    -----\n",
        "    plot_confusion_matrix(cm           = cm,                  # Confusion matrix created by\n",
        "                                                              # `sklearn.metrics.confusion_matrix`\n",
        "                          normalize    = True,                # Show proportions\n",
        "                          target_names = y_labels_vals,       # List of names of the classes\n",
        "                          title        = best_estimator_name) # Title of graph\n",
        "\n",
        "    Citation\n",
        "    ---------\n",
        "    http://scikit-learn.org/stable/auto_examples/model_selection/plot_confusion_matrix.html\n",
        "\n",
        "    \"\"\"\n",
        "    import matplotlib.pyplot as plt\n",
        "    import numpy as np\n",
        "    import itertools\n",
        "\n",
        "    accuracy = np.trace(cm) / float(np.sum(cm))\n",
        "    misclass = 1 - accuracy\n",
        "\n",
        "    if cmap is None:\n",
        "        cmap = plt.get_cmap('Blues')\n",
        "\n",
        "    plt.figure(figsize=(8, 6))\n",
        "    plt.imshow(cm, interpolation='nearest', cmap=cmap)\n",
        "    plt.title(title)\n",
        "    plt.colorbar()\n",
        "\n",
        "    if target_names is not None:\n",
        "        tick_marks = np.arange(len(target_names))\n",
        "        plt.xticks(tick_marks, target_names, rotation=45)\n",
        "        plt.yticks(tick_marks, target_names)\n",
        "\n",
        "    if normalize:\n",
        "        cm = cm.astype('float') / cm.sum(axis=1)[:, np.newaxis]\n",
        "\n",
        "\n",
        "    thresh = cm.max() / 1.5 if normalize else cm.max() / 2\n",
        "    for i, j in itertools.product(range(cm.shape[0]), range(cm.shape[1])):\n",
        "        if normalize:\n",
        "            plt.text(j, i, \"{:0.4f}\".format(cm[i, j]),\n",
        "                     horizontalalignment=\"center\",\n",
        "                     color=\"white\" if cm[i, j] > thresh else \"black\")\n",
        "        else:\n",
        "            plt.text(j, i, \"{:,}\".format(cm[i, j]),\n",
        "                     horizontalalignment=\"center\",\n",
        "                     color=\"white\" if cm[i, j] > thresh else \"black\")\n",
        "\n",
        "    plt.grid(False)\n",
        "    plt.tight_layout()\n",
        "    plt.ylabel('Predicted label')\n",
        "    plt.xlabel('True label\\naccuracy={:0.4f}; misclass={:0.4f}'.format(accuracy, misclass))\n",
        "    plt.show()"
      ],
      "execution_count": 45,
      "outputs": []
    },
    {
      "cell_type": "code",
      "metadata": {
        "colab": {
          "base_uri": "https://localhost:8080/"
        },
        "id": "EqgPgnt6g_q9",
        "outputId": "66465054-de16-49b5-f291-40cdb7d617e4"
      },
      "source": [
        "# get y test preds for combined model\n",
        "y_test_pred = pd.Series(model.predict([X_test_num,X_test_text]).flatten() > 0.5) *1\n",
        "y_test_pred"
      ],
      "execution_count": 46,
      "outputs": [
        {
          "output_type": "execute_result",
          "data": {
            "text/plain": [
              "0      1\n",
              "1      0\n",
              "2      0\n",
              "3      1\n",
              "4      0\n",
              "      ..\n",
              "466    0\n",
              "467    0\n",
              "468    0\n",
              "469    0\n",
              "470    0\n",
              "Length: 471, dtype: int64"
            ]
          },
          "metadata": {
            "tags": []
          },
          "execution_count": 46
        }
      ]
    },
    {
      "cell_type": "code",
      "metadata": {
        "colab": {
          "base_uri": "https://localhost:8080/",
          "height": 467
        },
        "id": "FwIZQZDhjnCJ",
        "outputId": "14b8aad8-74ed-44e5-d253-6c7dfa9e6b17"
      },
      "source": [
        "# plot model confusion matrix\n",
        "confusion = confusion_matrix(y_test, y_test_pred)\n",
        "plot_confusion_matrix(cm=confusion, target_names=['Not a Bot','Bot'],title = 'Bot or Not Confusion Matrix',normalize=False)"
      ],
      "execution_count": 47,
      "outputs": [
        {
          "output_type": "display_data",
          "data": {
            "image/png": "[encoded data removed]",
            "text/plain": [
              "<Figure size 576x432 with 2 Axes>"
            ]
          },
          "metadata": {
            "tags": [],
            "needs_background": "light"
          }
        }
      ]
    },
    {
      "cell_type": "code",
      "metadata": {
        "colab": {
          "base_uri": "https://localhost:8080/"
        },
        "id": "3fQDdv1ukNNP",
        "outputId": "a20881c6-1196-4dbe-b735-22e56d3d59cc"
      },
      "source": [
        "# model classifcation report\n",
        "print(classification_report(y_test, y_test_pred))"
      ],
      "execution_count": 48,
      "outputs": [
        {
          "output_type": "stream",
          "text": [
            "              precision    recall  f1-score   support\n",
            "\n",
            "           0       0.76      0.77      0.76       230\n",
            "           1       0.77      0.76      0.77       241\n",
            "\n",
            "    accuracy                           0.76       471\n",
            "   macro avg       0.76      0.76      0.76       471\n",
            "weighted avg       0.76      0.76      0.76       471\n",
            "\n"
          ],
          "name": "stdout"
        }
      ]
    }
  ]
}