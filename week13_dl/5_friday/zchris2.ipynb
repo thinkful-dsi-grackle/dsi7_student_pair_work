{
  "nbformat": 4,
  "nbformat_minor": 0,
  "metadata": {
    "kernelspec": {
      "display_name": "Python 3",
      "language": "python",
      "name": "python3"
    },
    "language_info": {
      "codemirror_mode": {
        "name": "ipython",
        "version": 3
      },
      "file_extension": ".py",
      "mimetype": "text/x-python",
      "name": "python",
      "nbconvert_exporter": "python",
      "pygments_lexer": "ipython3",
      "version": "3.7.0"
    },
    "colab": {
      "name": "Day 80 Lecture 2 Assignment.ipynb",
      "provenance": [],
      "collapsed_sections": []
    }
  },
  "cells": [
    {
      "cell_type": "markdown",
      "metadata": {
        "id": "mkd31of4jh35"
      },
      "source": [
        "## Day 85 Lecture 1 Assignment\n",
        "\n",
        "In this assignment, we will learn how to use the other layers to improve our model performance."
      ]
    },
    {
      "cell_type": "code",
      "metadata": {
        "id": "GtUi79zbjh36"
      },
      "source": [
        "import numpy as np\n",
        "import pandas as pd"
      ],
      "execution_count": 201,
      "outputs": []
    },
    {
      "cell_type": "markdown",
      "metadata": {
        "id": "aZ2DH6Ndjh39"
      },
      "source": [
        "We will explore a dataset containing information about twitter users and will detect whether or not the user is a bot."
      ]
    },
    {
      "cell_type": "code",
      "metadata": {
        "id": "cj8bsG8Ijh3-"
      },
      "source": [
        "twitter = pd.read_csv('https://tf-assets-prod.s3.amazonaws.com/tf-curric/data-science/training_data_2_csv_UTF.csv')"
      ],
      "execution_count": 202,
      "outputs": []
    },
    {
      "cell_type": "code",
      "metadata": {
        "id": "X2MhRde7jh4A",
        "colab": {
          "base_uri": "https://localhost:8080/",
          "height": 496
        },
        "outputId": "c6984c00-d015-499f-b0d2-3441059b99f3"
      },
      "source": [
        "twitter.head()"
      ],
      "execution_count": 203,
      "outputs": [
        {
          "output_type": "execute_result",
          "data": {
            "text/html": [
              "<div>\n",
              "<style scoped>\n",
              "    .dataframe tbody tr th:only-of-type {\n",
              "        vertical-align: middle;\n",
              "    }\n",
              "\n",
              "    .dataframe tbody tr th {\n",
              "        vertical-align: top;\n",
              "    }\n",
              "\n",
              "    .dataframe thead th {\n",
              "        text-align: right;\n",
              "    }\n",
              "</style>\n",
              "<table border=\"1\" class=\"dataframe\">\n",
              "  <thead>\n",
              "    <tr style=\"text-align: right;\">\n",
              "      <th></th>\n",
              "      <th>id</th>\n",
              "      <th>id_str</th>\n",
              "      <th>screen_name</th>\n",
              "      <th>location</th>\n",
              "      <th>description</th>\n",
              "      <th>url</th>\n",
              "      <th>followers_count</th>\n",
              "      <th>friends_count</th>\n",
              "      <th>listed_count</th>\n",
              "      <th>created_at</th>\n",
              "      <th>favourites_count</th>\n",
              "      <th>verified</th>\n",
              "      <th>statuses_count</th>\n",
              "      <th>lang</th>\n",
              "      <th>status</th>\n",
              "      <th>default_profile</th>\n",
              "      <th>default_profile_image</th>\n",
              "      <th>has_extended_profile</th>\n",
              "      <th>name</th>\n",
              "      <th>bot</th>\n",
              "    </tr>\n",
              "  </thead>\n",
              "  <tbody>\n",
              "    <tr>\n",
              "      <th>0</th>\n",
              "      <td>8.160000e+17</td>\n",
              "      <td>\"815745789754417152\"</td>\n",
              "      <td>\"HoustonPokeMap\"</td>\n",
              "      <td>\"Houston, TX\"</td>\n",
              "      <td>\"Rare and strong PokŽmon in Houston, TX. See m...</td>\n",
              "      <td>\"https://t.co/dnWuDbFRkt\"</td>\n",
              "      <td>1291</td>\n",
              "      <td>0</td>\n",
              "      <td>10</td>\n",
              "      <td>\"Mon Jan 02 02:25:26 +0000 2017\"</td>\n",
              "      <td>0</td>\n",
              "      <td>False</td>\n",
              "      <td>78554</td>\n",
              "      <td>\"en\"</td>\n",
              "      <td>{\\r      \"created_at\": \"Sun Mar 12 15:44:04 +0...</td>\n",
              "      <td>True</td>\n",
              "      <td>False</td>\n",
              "      <td>False</td>\n",
              "      <td>\"Houston PokŽ Alert\"</td>\n",
              "      <td>1</td>\n",
              "    </tr>\n",
              "    <tr>\n",
              "      <th>1</th>\n",
              "      <td>4.843621e+09</td>\n",
              "      <td>4843621225</td>\n",
              "      <td>kernyeahx</td>\n",
              "      <td>Templeville town, MD, USA</td>\n",
              "      <td>From late 2014 Socium Marketplace will make sh...</td>\n",
              "      <td>NaN</td>\n",
              "      <td>1</td>\n",
              "      <td>349</td>\n",
              "      <td>0</td>\n",
              "      <td>2/1/2016 7:37</td>\n",
              "      <td>38</td>\n",
              "      <td>False</td>\n",
              "      <td>31</td>\n",
              "      <td>en</td>\n",
              "      <td>NaN</td>\n",
              "      <td>True</td>\n",
              "      <td>False</td>\n",
              "      <td>False</td>\n",
              "      <td>Keri Nelson</td>\n",
              "      <td>1</td>\n",
              "    </tr>\n",
              "    <tr>\n",
              "      <th>2</th>\n",
              "      <td>4.303727e+09</td>\n",
              "      <td>4303727112</td>\n",
              "      <td>mattlieberisbot</td>\n",
              "      <td>NaN</td>\n",
              "      <td>Inspired by the smart, funny folks at @replyal...</td>\n",
              "      <td>https://t.co/P1e1o0m4KC</td>\n",
              "      <td>1086</td>\n",
              "      <td>0</td>\n",
              "      <td>14</td>\n",
              "      <td>Fri Nov 20 18:53:22 +0000 2015</td>\n",
              "      <td>0</td>\n",
              "      <td>False</td>\n",
              "      <td>713</td>\n",
              "      <td>en</td>\n",
              "      <td>{'retweeted': False, 'is_quote_status': False,...</td>\n",
              "      <td>True</td>\n",
              "      <td>False</td>\n",
              "      <td>False</td>\n",
              "      <td>Matt Lieber Is Bot</td>\n",
              "      <td>1</td>\n",
              "    </tr>\n",
              "    <tr>\n",
              "      <th>3</th>\n",
              "      <td>3.063139e+09</td>\n",
              "      <td>3063139353</td>\n",
              "      <td>sc_papers</td>\n",
              "      <td>NaN</td>\n",
              "      <td>NaN</td>\n",
              "      <td>NaN</td>\n",
              "      <td>33</td>\n",
              "      <td>0</td>\n",
              "      <td>8</td>\n",
              "      <td>2/25/2015 20:11</td>\n",
              "      <td>0</td>\n",
              "      <td>False</td>\n",
              "      <td>676</td>\n",
              "      <td>en</td>\n",
              "      <td>Construction of human anti-tetanus single-chai...</td>\n",
              "      <td>True</td>\n",
              "      <td>True</td>\n",
              "      <td>False</td>\n",
              "      <td>single cell papers</td>\n",
              "      <td>1</td>\n",
              "    </tr>\n",
              "    <tr>\n",
              "      <th>4</th>\n",
              "      <td>2.955142e+09</td>\n",
              "      <td>2955142070</td>\n",
              "      <td>lucarivera16</td>\n",
              "      <td>Dublin, United States</td>\n",
              "      <td>Inspiring cooks everywhere since 1956.</td>\n",
              "      <td>NaN</td>\n",
              "      <td>11</td>\n",
              "      <td>745</td>\n",
              "      <td>0</td>\n",
              "      <td>1/1/2015 17:44</td>\n",
              "      <td>146</td>\n",
              "      <td>False</td>\n",
              "      <td>185</td>\n",
              "      <td>en</td>\n",
              "      <td>NaN</td>\n",
              "      <td>False</td>\n",
              "      <td>False</td>\n",
              "      <td>False</td>\n",
              "      <td>lucarivera16</td>\n",
              "      <td>1</td>\n",
              "    </tr>\n",
              "  </tbody>\n",
              "</table>\n",
              "</div>"
            ],
            "text/plain": [
              "             id                id_str  ...                  name bot\n",
              "0  8.160000e+17  \"815745789754417152\"  ...  \"Houston PokŽ Alert\"   1\n",
              "1  4.843621e+09            4843621225  ...           Keri Nelson   1\n",
              "2  4.303727e+09            4303727112  ...    Matt Lieber Is Bot   1\n",
              "3  3.063139e+09            3063139353  ...    single cell papers   1\n",
              "4  2.955142e+09            2955142070  ...          lucarivera16   1\n",
              "\n",
              "[5 rows x 20 columns]"
            ]
          },
          "metadata": {
            "tags": []
          },
          "execution_count": 203
        }
      ]
    },
    {
      "cell_type": "code",
      "metadata": {
        "id": "zV0g49h5jh4D",
        "colab": {
          "base_uri": "https://localhost:8080/"
        },
        "outputId": "af245743-b91e-4baf-e17a-d9cf6091b289"
      },
      "source": [
        "twitter.shape"
      ],
      "execution_count": 204,
      "outputs": [
        {
          "output_type": "execute_result",
          "data": {
            "text/plain": [
              "(2797, 20)"
            ]
          },
          "metadata": {
            "tags": []
          },
          "execution_count": 204
        }
      ]
    },
    {
      "cell_type": "markdown",
      "metadata": {
        "id": "dsXMG4zajh4E"
      },
      "source": [
        "Start by getting rid of all columns that are not useful."
      ]
    },
    {
      "cell_type": "code",
      "metadata": {
        "id": "vE1y_FXejh4F",
        "colab": {
          "base_uri": "https://localhost:8080/",
          "height": 881
        },
        "outputId": "5ff0dc07-d49a-4039-9931-5646e2b62fb1"
      },
      "source": [
        "# Answer below:\n",
        "twitter = twitter.drop(['id','id_str','screen_name','url','status','name','created_at','location',],axis=1)\n",
        "twitter"
      ],
      "execution_count": 205,
      "outputs": [
        {
          "output_type": "execute_result",
          "data": {
            "text/html": [
              "<div>\n",
              "<style scoped>\n",
              "    .dataframe tbody tr th:only-of-type {\n",
              "        vertical-align: middle;\n",
              "    }\n",
              "\n",
              "    .dataframe tbody tr th {\n",
              "        vertical-align: top;\n",
              "    }\n",
              "\n",
              "    .dataframe thead th {\n",
              "        text-align: right;\n",
              "    }\n",
              "</style>\n",
              "<table border=\"1\" class=\"dataframe\">\n",
              "  <thead>\n",
              "    <tr style=\"text-align: right;\">\n",
              "      <th></th>\n",
              "      <th>description</th>\n",
              "      <th>followers_count</th>\n",
              "      <th>friends_count</th>\n",
              "      <th>listed_count</th>\n",
              "      <th>favourites_count</th>\n",
              "      <th>verified</th>\n",
              "      <th>statuses_count</th>\n",
              "      <th>lang</th>\n",
              "      <th>default_profile</th>\n",
              "      <th>default_profile_image</th>\n",
              "      <th>has_extended_profile</th>\n",
              "      <th>bot</th>\n",
              "    </tr>\n",
              "  </thead>\n",
              "  <tbody>\n",
              "    <tr>\n",
              "      <th>0</th>\n",
              "      <td>\"Rare and strong PokŽmon in Houston, TX. See m...</td>\n",
              "      <td>1291</td>\n",
              "      <td>0</td>\n",
              "      <td>10</td>\n",
              "      <td>0</td>\n",
              "      <td>False</td>\n",
              "      <td>78554</td>\n",
              "      <td>\"en\"</td>\n",
              "      <td>True</td>\n",
              "      <td>False</td>\n",
              "      <td>False</td>\n",
              "      <td>1</td>\n",
              "    </tr>\n",
              "    <tr>\n",
              "      <th>1</th>\n",
              "      <td>From late 2014 Socium Marketplace will make sh...</td>\n",
              "      <td>1</td>\n",
              "      <td>349</td>\n",
              "      <td>0</td>\n",
              "      <td>38</td>\n",
              "      <td>False</td>\n",
              "      <td>31</td>\n",
              "      <td>en</td>\n",
              "      <td>True</td>\n",
              "      <td>False</td>\n",
              "      <td>False</td>\n",
              "      <td>1</td>\n",
              "    </tr>\n",
              "    <tr>\n",
              "      <th>2</th>\n",
              "      <td>Inspired by the smart, funny folks at @replyal...</td>\n",
              "      <td>1086</td>\n",
              "      <td>0</td>\n",
              "      <td>14</td>\n",
              "      <td>0</td>\n",
              "      <td>False</td>\n",
              "      <td>713</td>\n",
              "      <td>en</td>\n",
              "      <td>True</td>\n",
              "      <td>False</td>\n",
              "      <td>False</td>\n",
              "      <td>1</td>\n",
              "    </tr>\n",
              "    <tr>\n",
              "      <th>3</th>\n",
              "      <td>NaN</td>\n",
              "      <td>33</td>\n",
              "      <td>0</td>\n",
              "      <td>8</td>\n",
              "      <td>0</td>\n",
              "      <td>False</td>\n",
              "      <td>676</td>\n",
              "      <td>en</td>\n",
              "      <td>True</td>\n",
              "      <td>True</td>\n",
              "      <td>False</td>\n",
              "      <td>1</td>\n",
              "    </tr>\n",
              "    <tr>\n",
              "      <th>4</th>\n",
              "      <td>Inspiring cooks everywhere since 1956.</td>\n",
              "      <td>11</td>\n",
              "      <td>745</td>\n",
              "      <td>0</td>\n",
              "      <td>146</td>\n",
              "      <td>False</td>\n",
              "      <td>185</td>\n",
              "      <td>en</td>\n",
              "      <td>False</td>\n",
              "      <td>False</td>\n",
              "      <td>False</td>\n",
              "      <td>1</td>\n",
              "    </tr>\n",
              "    <tr>\n",
              "      <th>...</th>\n",
              "      <td>...</td>\n",
              "      <td>...</td>\n",
              "      <td>...</td>\n",
              "      <td>...</td>\n",
              "      <td>...</td>\n",
              "      <td>...</td>\n",
              "      <td>...</td>\n",
              "      <td>...</td>\n",
              "      <td>...</td>\n",
              "      <td>...</td>\n",
              "      <td>...</td>\n",
              "      <td>...</td>\n",
              "    </tr>\n",
              "    <tr>\n",
              "      <th>2792</th>\n",
              "      <td>Twitter CMO. Favorite title: Mama. Never, ever...</td>\n",
              "      <td>18998</td>\n",
              "      <td>2005</td>\n",
              "      <td>425</td>\n",
              "      <td>2503</td>\n",
              "      <td>False</td>\n",
              "      <td>3498</td>\n",
              "      <td>en</td>\n",
              "      <td>False</td>\n",
              "      <td>False</td>\n",
              "      <td>True</td>\n",
              "      <td>0</td>\n",
              "    </tr>\n",
              "    <tr>\n",
              "      <th>2793</th>\n",
              "      <td>I live in brooklyn, I'm a bike messenger, I pl...</td>\n",
              "      <td>32</td>\n",
              "      <td>54</td>\n",
              "      <td>0</td>\n",
              "      <td>1</td>\n",
              "      <td>False</td>\n",
              "      <td>97</td>\n",
              "      <td>en</td>\n",
              "      <td>True</td>\n",
              "      <td>False</td>\n",
              "      <td>False</td>\n",
              "      <td>0</td>\n",
              "    </tr>\n",
              "    <tr>\n",
              "      <th>2794</th>\n",
              "      <td>astrophysicist</td>\n",
              "      <td>45044433</td>\n",
              "      <td>7451</td>\n",
              "      <td>68157</td>\n",
              "      <td>24</td>\n",
              "      <td>True</td>\n",
              "      <td>9606</td>\n",
              "      <td>en</td>\n",
              "      <td>False</td>\n",
              "      <td>False</td>\n",
              "      <td>False</td>\n",
              "      <td>0</td>\n",
              "    </tr>\n",
              "    <tr>\n",
              "      <th>2795</th>\n",
              "      <td>I'm quite out of my mind, actually, but people...</td>\n",
              "      <td>16</td>\n",
              "      <td>64</td>\n",
              "      <td>1</td>\n",
              "      <td>15</td>\n",
              "      <td>False</td>\n",
              "      <td>62</td>\n",
              "      <td>en</td>\n",
              "      <td>False</td>\n",
              "      <td>False</td>\n",
              "      <td>True</td>\n",
              "      <td>0</td>\n",
              "    </tr>\n",
              "    <tr>\n",
              "      <th>2796</th>\n",
              "      <td>I work for the people of the 6th District of T...</td>\n",
              "      <td>22490</td>\n",
              "      <td>308</td>\n",
              "      <td>1342</td>\n",
              "      <td>43</td>\n",
              "      <td>True</td>\n",
              "      <td>1897</td>\n",
              "      <td>en</td>\n",
              "      <td>True</td>\n",
              "      <td>False</td>\n",
              "      <td>True</td>\n",
              "      <td>0</td>\n",
              "    </tr>\n",
              "  </tbody>\n",
              "</table>\n",
              "<p>2797 rows × 12 columns</p>\n",
              "</div>"
            ],
            "text/plain": [
              "                                            description  ...  bot\n",
              "0     \"Rare and strong PokŽmon in Houston, TX. See m...  ...    1\n",
              "1     From late 2014 Socium Marketplace will make sh...  ...    1\n",
              "2     Inspired by the smart, funny folks at @replyal...  ...    1\n",
              "3                                                   NaN  ...    1\n",
              "4                Inspiring cooks everywhere since 1956.  ...    1\n",
              "...                                                 ...  ...  ...\n",
              "2792  Twitter CMO. Favorite title: Mama. Never, ever...  ...    0\n",
              "2793  I live in brooklyn, I'm a bike messenger, I pl...  ...    0\n",
              "2794                                     astrophysicist  ...    0\n",
              "2795  I'm quite out of my mind, actually, but people...  ...    0\n",
              "2796  I work for the people of the 6th District of T...  ...    0\n",
              "\n",
              "[2797 rows x 12 columns]"
            ]
          },
          "metadata": {
            "tags": []
          },
          "execution_count": 205
        }
      ]
    },
    {
      "cell_type": "markdown",
      "metadata": {
        "id": "OQBDJyWPjh4H"
      },
      "source": [
        "Next, get rid of all columns that contain more than 30% missing data. After that, remove all rows containing at least one missing observation."
      ]
    },
    {
      "cell_type": "code",
      "metadata": {
        "id": "oiljewDCjh4H",
        "colab": {
          "base_uri": "https://localhost:8080/"
        },
        "outputId": "68134e9f-5463-4215-be45-1847a523a3a4"
      },
      "source": [
        "# Answer below:\n",
        "twitter.isnull().sum() / twitter.shape[0]\n"
      ],
      "execution_count": 206,
      "outputs": [
        {
          "output_type": "execute_result",
          "data": {
            "text/plain": [
              "description              0.144083\n",
              "followers_count          0.000000\n",
              "friends_count            0.000000\n",
              "listed_count             0.000000\n",
              "favourites_count         0.000000\n",
              "verified                 0.000000\n",
              "statuses_count           0.000000\n",
              "lang                     0.000000\n",
              "default_profile          0.000000\n",
              "default_profile_image    0.000000\n",
              "has_extended_profile     0.035395\n",
              "bot                      0.000000\n",
              "dtype: float64"
            ]
          },
          "metadata": {
            "tags": []
          },
          "execution_count": 206
        }
      ]
    },
    {
      "cell_type": "markdown",
      "metadata": {
        "id": "_E-SvW3wjh4J"
      },
      "source": [
        "Now we will use our embedding functions from a previous assignment."
      ]
    },
    {
      "cell_type": "code",
      "metadata": {
        "id": "TeZkChWxjh4K"
      },
      "source": [
        "from nltk.corpus import stopwords\n",
        "import re\n",
        "from nltk.stem.porter import PorterStemmer\n",
        "\n",
        "stemmer = PorterStemmer()\n",
        "\n",
        "def remove_stopwords(input_text):\n",
        "        stopwords_list = stopwords.words('english')\n",
        "        # Some words which might indicate a certain sentiment are kept via a whitelist\n",
        "        whitelist = [\"n't\", \"not\", \"no\"]\n",
        "        words = input_text.split() \n",
        "        clean_words = [word for word in words if (word not in stopwords_list or word in whitelist) and len(word) > 1] \n",
        "        return \" \".join(clean_words)       \n",
        "\n",
        "def stem_list(word_list):\n",
        "    stemmed = []\n",
        "    for word in word_list:\n",
        "        stemmedword = stemmer.stem(word)\n",
        "        stemmed.append(stemmedword)\n",
        "    return stemmed\n",
        "\n",
        "def normalize(terms):\n",
        "    terms = str(terms)\n",
        "    terms = terms.lower()\n",
        "    terms = remove_stopwords(terms)\n",
        "    word_delimiters = u'[\\\\[\\\\]\\n.!?,;:\\t\\\\-\\\\\"\\\\(\\\\)\\\\\\'\\u2019\\u2013 ]'\n",
        "    term_list = re.split(word_delimiters, terms)\n",
        "    trimmed = [x.rstrip() for x in term_list]\n",
        "    stemmed = stem_list(trimmed)\n",
        "    space = ' '\n",
        "    normed = space.join(stemmed)\n",
        "    normed = normed.replace('  ', ' ')\n",
        "    return normed"
      ],
      "execution_count": 207,
      "outputs": []
    },
    {
      "cell_type": "markdown",
      "metadata": {
        "id": "--dr_BGJjh4L"
      },
      "source": [
        "We will create two branches, one branch will process the text data in the description and the other will process all other columns. First, create a numpy array with the encoded data from the description column. Normalize each description, one hot encode the text, pad the row and create a numpy array."
      ]
    },
    {
      "cell_type": "code",
      "metadata": {
        "id": "m7PUiD3rex59",
        "outputId": "c43c1b10-a745-4690-bca7-4f1b87ba88f7",
        "colab": {
          "base_uri": "https://localhost:8080/"
        }
      },
      "source": [
        "import nltk\n",
        "nltk.download('stopwords')"
      ],
      "execution_count": 208,
      "outputs": [
        {
          "output_type": "stream",
          "text": [
            "[nltk_data] Downloading package stopwords to /root/nltk_data...\n",
            "[nltk_data]   Package stopwords is already up-to-date!\n"
          ],
          "name": "stdout"
        },
        {
          "output_type": "execute_result",
          "data": {
            "text/plain": [
              "True"
            ]
          },
          "metadata": {
            "tags": []
          },
          "execution_count": 208
        }
      ]
    },
    {
      "cell_type": "code",
      "metadata": {
        "id": "zx5FsY_8jh4M"
      },
      "source": [
        "# Answer below:\n",
        "twitter.description = twitter.description.apply(normalize)"
      ],
      "execution_count": 209,
      "outputs": []
    },
    {
      "cell_type": "code",
      "metadata": {
        "id": "qjikQlDt3SIs",
        "outputId": "2ba667d0-6409-4037-8d0c-fdc0259d15fd",
        "colab": {
          "base_uri": "https://localhost:8080/"
        }
      },
      "source": [
        "from tensorflow.keras.preprocessing.text import one_hot\n",
        "vocab_size=len(set(twitter.description.sum()))\n",
        "desc = twitter.description.apply(one_hot, args=[vocab_size])\n",
        "desc"
      ],
      "execution_count": 210,
      "outputs": [
        {
          "output_type": "execute_result",
          "data": {
            "text/plain": [
              "0          [84, 90, 67, 53, 22, 54, 67, 18, 76, 105, 104]\n",
              "1       [81, 104, 14, 81, 43, 20, 112, 10, 111, 23, 15...\n",
              "2       [11, 108, 58, 1, 33, 21, 93, 96, 52, 66, 43, 9...\n",
              "3                                                    [48]\n",
              "4                                    [11, 61, 85, 29, 80]\n",
              "                              ...                        \n",
              "2792             [103, 85, 86, 62, 3, 91, 21, 42, 78, 99]\n",
              "2793    [1, 22, 95, 116, 99, 62, 32, 68, 95, 116, 36, ...\n",
              "2794                                                 [16]\n",
              "2795    [95, 116, 54, 68, 57, 110, 4, 92, 49, 76, 76, ...\n",
              "2796                   [110, 110, 12, 5, 10, 109, 67, 62]\n",
              "Name: description, Length: 2797, dtype: object"
            ]
          },
          "metadata": {
            "tags": []
          },
          "execution_count": 210
        }
      ]
    },
    {
      "cell_type": "code",
      "metadata": {
        "id": "qy1SKtcm4RAk",
        "outputId": "251e47dc-d4a6-4c10-ac4e-e48075426ec5",
        "colab": {
          "base_uri": "https://localhost:8080/"
        }
      },
      "source": [
        "from tensorflow.keras.preprocessing.sequence import pad_sequences\n",
        "\n",
        "desc = pad_sequences(desc)\n",
        "desc.shape"
      ],
      "execution_count": 211,
      "outputs": [
        {
          "output_type": "execute_result",
          "data": {
            "text/plain": [
              "(2797, 66)"
            ]
          },
          "metadata": {
            "tags": []
          },
          "execution_count": 211
        }
      ]
    },
    {
      "cell_type": "markdown",
      "metadata": {
        "id": "IXQeqH9Ejh4N"
      },
      "source": [
        "Convert all boolean variables to numeric (zero for false and 1 for true)"
      ]
    },
    {
      "cell_type": "code",
      "metadata": {
        "id": "2zz-sA-YhFAx",
        "outputId": "271a5bee-b8bf-408a-fa49-1f879c851ac1",
        "colab": {
          "base_uri": "https://localhost:8080/"
        }
      },
      "source": [
        "twitter.info()"
      ],
      "execution_count": 212,
      "outputs": [
        {
          "output_type": "stream",
          "text": [
            "<class 'pandas.core.frame.DataFrame'>\n",
            "RangeIndex: 2797 entries, 0 to 2796\n",
            "Data columns (total 12 columns):\n",
            " #   Column                 Non-Null Count  Dtype \n",
            "---  ------                 --------------  ----- \n",
            " 0   description            2797 non-null   object\n",
            " 1   followers_count        2797 non-null   int64 \n",
            " 2   friends_count          2797 non-null   int64 \n",
            " 3   listed_count           2797 non-null   int64 \n",
            " 4   favourites_count       2797 non-null   int64 \n",
            " 5   verified               2797 non-null   bool  \n",
            " 6   statuses_count         2797 non-null   int64 \n",
            " 7   lang                   2797 non-null   object\n",
            " 8   default_profile        2797 non-null   bool  \n",
            " 9   default_profile_image  2797 non-null   bool  \n",
            " 10  has_extended_profile   2698 non-null   object\n",
            " 11  bot                    2797 non-null   int64 \n",
            "dtypes: bool(3), int64(6), object(3)\n",
            "memory usage: 205.0+ KB\n"
          ],
          "name": "stdout"
        }
      ]
    },
    {
      "cell_type": "code",
      "metadata": {
        "id": "a_0zOgJPlxfd",
        "outputId": "dfb061b2-90a2-46ef-d136-a048e2649481",
        "colab": {
          "base_uri": "https://localhost:8080/"
        }
      },
      "source": [
        "twitter.verified[0]"
      ],
      "execution_count": 213,
      "outputs": [
        {
          "output_type": "execute_result",
          "data": {
            "text/plain": [
              "False"
            ]
          },
          "metadata": {
            "tags": []
          },
          "execution_count": 213
        }
      ]
    },
    {
      "cell_type": "code",
      "metadata": {
        "id": "4OtQ7K3ojh4O"
      },
      "source": [
        "# Answer below:\n",
        "twitter['verified'] = twitter['verified'].map(lambda x: 1 if x == True else 0)\n",
        "twitter['default_profile'] = twitter['default_profile'].map(lambda x: 1 if x == True else 0)\n",
        "twitter['default_profile_image'] = twitter['default_profile_image'].map(lambda x: 1 if x == True else 0)\n"
      ],
      "execution_count": 214,
      "outputs": []
    },
    {
      "cell_type": "markdown",
      "metadata": {
        "id": "hm8vuH43jh4Q"
      },
      "source": [
        "Create dummy variables out of the relevant object columns. Take caution when converting columns that may incorrectly classified as object."
      ]
    },
    {
      "cell_type": "code",
      "metadata": {
        "id": "jcb0fb4_jh4Q",
        "colab": {
          "base_uri": "https://localhost:8080/",
          "height": 864
        },
        "outputId": "1d621def-56bb-4b5a-e4fa-366a38bad44e"
      },
      "source": [
        "# Answer below:\n",
        "twitter['has_extended_profile'] = pd.get_dummies(twitter['has_extended_profile'],drop_first=True)\n",
        "twitter['lang'] = pd.get_dummies(twitter['lang'],drop_first=True)\n",
        "twitter"
      ],
      "execution_count": 215,
      "outputs": [
        {
          "output_type": "execute_result",
          "data": {
            "text/html": [
              "<div>\n",
              "<style scoped>\n",
              "    .dataframe tbody tr th:only-of-type {\n",
              "        vertical-align: middle;\n",
              "    }\n",
              "\n",
              "    .dataframe tbody tr th {\n",
              "        vertical-align: top;\n",
              "    }\n",
              "\n",
              "    .dataframe thead th {\n",
              "        text-align: right;\n",
              "    }\n",
              "</style>\n",
              "<table border=\"1\" class=\"dataframe\">\n",
              "  <thead>\n",
              "    <tr style=\"text-align: right;\">\n",
              "      <th></th>\n",
              "      <th>description</th>\n",
              "      <th>followers_count</th>\n",
              "      <th>friends_count</th>\n",
              "      <th>listed_count</th>\n",
              "      <th>favourites_count</th>\n",
              "      <th>verified</th>\n",
              "      <th>statuses_count</th>\n",
              "      <th>lang</th>\n",
              "      <th>default_profile</th>\n",
              "      <th>default_profile_image</th>\n",
              "      <th>has_extended_profile</th>\n",
              "      <th>bot</th>\n",
              "    </tr>\n",
              "  </thead>\n",
              "  <tbody>\n",
              "    <tr>\n",
              "      <th>0</th>\n",
              "      <td>rare strong pokžmon houston tx see pokžmon ht...</td>\n",
              "      <td>1291</td>\n",
              "      <td>0</td>\n",
              "      <td>10</td>\n",
              "      <td>0</td>\n",
              "      <td>0</td>\n",
              "      <td>78554</td>\n",
              "      <td>1</td>\n",
              "      <td>1</td>\n",
              "      <td>0</td>\n",
              "      <td>0</td>\n",
              "      <td>1</td>\n",
              "    </tr>\n",
              "    <tr>\n",
              "      <th>1</th>\n",
              "      <td>late 2014 socium marketplac make shop fundamen...</td>\n",
              "      <td>1</td>\n",
              "      <td>349</td>\n",
              "      <td>0</td>\n",
              "      <td>38</td>\n",
              "      <td>0</td>\n",
              "      <td>31</td>\n",
              "      <td>0</td>\n",
              "      <td>1</td>\n",
              "      <td>0</td>\n",
              "      <td>0</td>\n",
              "      <td>1</td>\n",
              "    </tr>\n",
              "    <tr>\n",
              "      <th>2</th>\n",
              "      <td>inspir smart funni folk @replyal @gimletmedia ...</td>\n",
              "      <td>1086</td>\n",
              "      <td>0</td>\n",
              "      <td>14</td>\n",
              "      <td>0</td>\n",
              "      <td>0</td>\n",
              "      <td>713</td>\n",
              "      <td>0</td>\n",
              "      <td>1</td>\n",
              "      <td>0</td>\n",
              "      <td>0</td>\n",
              "      <td>1</td>\n",
              "    </tr>\n",
              "    <tr>\n",
              "      <th>3</th>\n",
              "      <td>nan</td>\n",
              "      <td>33</td>\n",
              "      <td>0</td>\n",
              "      <td>8</td>\n",
              "      <td>0</td>\n",
              "      <td>0</td>\n",
              "      <td>676</td>\n",
              "      <td>0</td>\n",
              "      <td>1</td>\n",
              "      <td>1</td>\n",
              "      <td>0</td>\n",
              "      <td>1</td>\n",
              "    </tr>\n",
              "    <tr>\n",
              "      <th>4</th>\n",
              "      <td>inspir cook everywher sinc 1956</td>\n",
              "      <td>11</td>\n",
              "      <td>745</td>\n",
              "      <td>0</td>\n",
              "      <td>146</td>\n",
              "      <td>0</td>\n",
              "      <td>185</td>\n",
              "      <td>0</td>\n",
              "      <td>0</td>\n",
              "      <td>0</td>\n",
              "      <td>0</td>\n",
              "      <td>1</td>\n",
              "    </tr>\n",
              "    <tr>\n",
              "      <th>...</th>\n",
              "      <td>...</td>\n",
              "      <td>...</td>\n",
              "      <td>...</td>\n",
              "      <td>...</td>\n",
              "      <td>...</td>\n",
              "      <td>...</td>\n",
              "      <td>...</td>\n",
              "      <td>...</td>\n",
              "      <td>...</td>\n",
              "      <td>...</td>\n",
              "      <td>...</td>\n",
              "      <td>...</td>\n",
              "    </tr>\n",
              "    <tr>\n",
              "      <th>2792</th>\n",
              "      <td>twitter cmo favorit titl mama never ever dull ...</td>\n",
              "      <td>18998</td>\n",
              "      <td>2005</td>\n",
              "      <td>425</td>\n",
              "      <td>2503</td>\n",
              "      <td>0</td>\n",
              "      <td>3498</td>\n",
              "      <td>0</td>\n",
              "      <td>0</td>\n",
              "      <td>0</td>\n",
              "      <td>1</td>\n",
              "      <td>0</td>\n",
              "    </tr>\n",
              "    <tr>\n",
              "      <th>2793</th>\n",
              "      <td>live brooklyn i m bike messeng play band i m u...</td>\n",
              "      <td>32</td>\n",
              "      <td>54</td>\n",
              "      <td>0</td>\n",
              "      <td>1</td>\n",
              "      <td>0</td>\n",
              "      <td>97</td>\n",
              "      <td>0</td>\n",
              "      <td>1</td>\n",
              "      <td>0</td>\n",
              "      <td>0</td>\n",
              "      <td>0</td>\n",
              "    </tr>\n",
              "    <tr>\n",
              "      <th>2794</th>\n",
              "      <td>astrophysicist</td>\n",
              "      <td>45044433</td>\n",
              "      <td>7451</td>\n",
              "      <td>68157</td>\n",
              "      <td>24</td>\n",
              "      <td>1</td>\n",
              "      <td>9606</td>\n",
              "      <td>0</td>\n",
              "      <td>0</td>\n",
              "      <td>0</td>\n",
              "      <td>0</td>\n",
              "      <td>0</td>\n",
              "    </tr>\n",
              "    <tr>\n",
              "      <th>2795</th>\n",
              "      <td>i m quit mind actual peopl continu find amus c...</td>\n",
              "      <td>16</td>\n",
              "      <td>64</td>\n",
              "      <td>1</td>\n",
              "      <td>15</td>\n",
              "      <td>0</td>\n",
              "      <td>62</td>\n",
              "      <td>0</td>\n",
              "      <td>0</td>\n",
              "      <td>0</td>\n",
              "      <td>1</td>\n",
              "      <td>0</td>\n",
              "    </tr>\n",
              "    <tr>\n",
              "      <th>2796</th>\n",
              "      <td>work peopl 6th district texa honor repres wash...</td>\n",
              "      <td>22490</td>\n",
              "      <td>308</td>\n",
              "      <td>1342</td>\n",
              "      <td>43</td>\n",
              "      <td>1</td>\n",
              "      <td>1897</td>\n",
              "      <td>0</td>\n",
              "      <td>1</td>\n",
              "      <td>0</td>\n",
              "      <td>1</td>\n",
              "      <td>0</td>\n",
              "    </tr>\n",
              "  </tbody>\n",
              "</table>\n",
              "<p>2797 rows × 12 columns</p>\n",
              "</div>"
            ],
            "text/plain": [
              "                                            description  ...  bot\n",
              "0      rare strong pokžmon houston tx see pokžmon ht...  ...    1\n",
              "1     late 2014 socium marketplac make shop fundamen...  ...    1\n",
              "2     inspir smart funni folk @replyal @gimletmedia ...  ...    1\n",
              "3                                                   nan  ...    1\n",
              "4                      inspir cook everywher sinc 1956   ...    1\n",
              "...                                                 ...  ...  ...\n",
              "2792  twitter cmo favorit titl mama never ever dull ...  ...    0\n",
              "2793  live brooklyn i m bike messeng play band i m u...  ...    0\n",
              "2794                                     astrophysicist  ...    0\n",
              "2795  i m quit mind actual peopl continu find amus c...  ...    0\n",
              "2796  work peopl 6th district texa honor repres wash...  ...    0\n",
              "\n",
              "[2797 rows x 12 columns]"
            ]
          },
          "metadata": {
            "tags": []
          },
          "execution_count": 215
        }
      ]
    },
    {
      "cell_type": "markdown",
      "metadata": {
        "id": "OM1NT0I6jh4S"
      },
      "source": [
        "Min max scale the data decribing each user (do not min max scale the word embeddings)."
      ]
    },
    {
      "cell_type": "code",
      "metadata": {
        "id": "FWjM6c2fjh4T"
      },
      "source": [
        "# Answer below:\n",
        "X = twitter.drop('description',axis=1)\n",
        "from sklearn.preprocessing import MinMaxScaler\n",
        "scale = MinMaxScaler()\n",
        "X = scale.fit_transform(X)\n"
      ],
      "execution_count": 216,
      "outputs": []
    },
    {
      "cell_type": "markdown",
      "metadata": {
        "id": "KqnpUBKqjh4V"
      },
      "source": [
        "Now we'll create the two branches. Create a model for the numeric data that consists of 3 dense layers. An input layer and two hidden layers of size 32."
      ]
    },
    {
      "cell_type": "code",
      "metadata": {
        "id": "qazo_4w8jh4V"
      },
      "source": [
        "# Answer below:\n",
        "from tensorflow.keras.layers import Dense, Input, Flatten\n",
        "input_layer1 = Input(shape=(X.shape[1],),)\n",
        "h1 = Dense(32,activation='relu')(input_layer1)\n",
        "h2 = Dense(32,activation='relu')(h1)\n",
        "flat1 = Flatten()(h2)\n",
        "\n"
      ],
      "execution_count": 217,
      "outputs": []
    },
    {
      "cell_type": "markdown",
      "metadata": {
        "id": "yRP-ou9Ejh4X"
      },
      "source": [
        "Create the second branch of the model using the encoded words. This branch will consist of 4 layers: An input layer, an embedding layer returning data of dimension 100, an LSTM layer of unit size 32 and a dense layer of unit size 32. "
      ]
    },
    {
      "cell_type": "code",
      "metadata": {
        "id": "I1bLnn2Sjh4Y"
      },
      "source": [
        "# Answer below:\n",
        "from tensorflow.keras.layers import Embedding,LSTM\n",
        "input_layer2 = Input(shape=(desc.shape[1],))\n",
        "h1 = Embedding(np.max(desc)+1,100)(input_layer2)\n",
        "h2 = LSTM(32)(h1)\n",
        "h3 = Dense(32, activation='relu')(h2)\n",
        "flat2 = Flatten()(h3)"
      ],
      "execution_count": 218,
      "outputs": []
    },
    {
      "cell_type": "markdown",
      "metadata": {
        "id": "Pbx549Vljh4Z"
      },
      "source": [
        "Merge the two models using the `concatenate` function (merge the two final dense layers in each branch) and create an output dense layer."
      ]
    },
    {
      "cell_type": "code",
      "metadata": {
        "id": "p6QrfrYijh4a"
      },
      "source": [
        "# Answer below:\n",
        "from tensorflow.keras.layers import concatenate\n",
        "\n",
        "merge = concatenate([flat1, flat2])\n",
        "output = Dense(1, activation='sigmoid')(merge)\n",
        "\n"
      ],
      "execution_count": 219,
      "outputs": []
    },
    {
      "cell_type": "markdown",
      "metadata": {
        "id": "lz0-pz-Cjh4b"
      },
      "source": [
        "Create a model using the two inputs and the single output and print the summary"
      ]
    },
    {
      "cell_type": "code",
      "metadata": {
        "id": "6ZJtI6wAjh4c",
        "colab": {
          "base_uri": "https://localhost:8080/"
        },
        "outputId": "21a8ec1f-9934-4db1-b4e0-8ffc514f78dd"
      },
      "source": [
        "# Answer below: \n",
        "from tensorflow.keras.models import Model\n",
        "\n",
        "model = Model(inputs=[input_layer1, input_layer2], outputs=output)\n",
        "model.summary()\n"
      ],
      "execution_count": 220,
      "outputs": [
        {
          "output_type": "stream",
          "text": [
            "Model: \"model_2\"\n",
            "__________________________________________________________________________________________________\n",
            "Layer (type)                    Output Shape         Param #     Connected to                     \n",
            "==================================================================================================\n",
            "input_2 (InputLayer)            [(None, 66)]         0                                            \n",
            "__________________________________________________________________________________________________\n",
            "input_1 (InputLayer)            [(None, 11)]         0                                            \n",
            "__________________________________________________________________________________________________\n",
            "embedding_4 (Embedding)         (None, 66, 100)      11800       input_2[0][0]                    \n",
            "__________________________________________________________________________________________________\n",
            "dense_16 (Dense)                (None, 32)           384         input_1[0][0]                    \n",
            "__________________________________________________________________________________________________\n",
            "lstm_4 (LSTM)                   (None, 32)           17024       embedding_4[0][0]                \n",
            "__________________________________________________________________________________________________\n",
            "dense_17 (Dense)                (None, 32)           1056        dense_16[0][0]                   \n",
            "__________________________________________________________________________________________________\n",
            "dense_18 (Dense)                (None, 32)           1056        lstm_4[0][0]                     \n",
            "__________________________________________________________________________________________________\n",
            "flatten_6 (Flatten)             (None, 32)           0           dense_17[0][0]                   \n",
            "__________________________________________________________________________________________________\n",
            "flatten_7 (Flatten)             (None, 32)           0           dense_18[0][0]                   \n",
            "__________________________________________________________________________________________________\n",
            "concatenate_1 (Concatenate)     (None, 64)           0           flatten_6[0][0]                  \n",
            "                                                                 flatten_7[0][0]                  \n",
            "__________________________________________________________________________________________________\n",
            "dense_19 (Dense)                (None, 1)            65          concatenate_1[0][0]              \n",
            "==================================================================================================\n",
            "Total params: 31,385\n",
            "Trainable params: 31,385\n",
            "Non-trainable params: 0\n",
            "__________________________________________________________________________________________________\n"
          ],
          "name": "stdout"
        }
      ]
    },
    {
      "cell_type": "markdown",
      "metadata": {
        "id": "pHk3RhaSjh4e"
      },
      "source": [
        "Compile and fit the model using the appropriate optimizer, loss, and metrics. Train the model for 10 epochs with a batch size of 128."
      ]
    },
    {
      "cell_type": "code",
      "metadata": {
        "id": "4ceKDMXNjh4e",
        "colab": {
          "base_uri": "https://localhost:8080/"
        },
        "outputId": "184fce36-1fe3-4c4a-d9d6-4eda4c648530"
      },
      "source": [
        "# Answer below:\n",
        "model.compile(optimizer='adam', loss='binary_crossentropy', metrics=['accuracy'])\n",
        "history = model.fit(x=[X, desc], y=twitter.bot, epochs=50, batch_size=128)\n",
        "#50 epochs seems like a overkill, 10 was just enough"
      ],
      "execution_count": 223,
      "outputs": [
        {
          "output_type": "stream",
          "text": [
            "Epoch 1/50\n",
            "22/22 [==============================] - 4s 58ms/step - loss: 0.6999 - accuracy: 0.4235\n",
            "Epoch 2/50\n",
            "22/22 [==============================] - 1s 58ms/step - loss: 0.6216 - accuracy: 0.7987\n",
            "Epoch 3/50\n",
            "22/22 [==============================] - 1s 58ms/step - loss: 0.5200 - accuracy: 0.9264\n",
            "Epoch 4/50\n",
            "22/22 [==============================] - 1s 60ms/step - loss: 0.3971 - accuracy: 0.9145\n",
            "Epoch 5/50\n",
            "22/22 [==============================] - 1s 59ms/step - loss: 0.2778 - accuracy: 0.9571\n",
            "Epoch 6/50\n",
            "22/22 [==============================] - 1s 60ms/step - loss: 0.1728 - accuracy: 0.9907\n",
            "Epoch 7/50\n",
            "22/22 [==============================] - 1s 60ms/step - loss: 0.1060 - accuracy: 0.9954\n",
            "Epoch 8/50\n",
            "22/22 [==============================] - 1s 59ms/step - loss: 0.0622 - accuracy: 0.9979\n",
            "Epoch 9/50\n",
            "22/22 [==============================] - 1s 59ms/step - loss: 0.0387 - accuracy: 1.0000\n",
            "Epoch 10/50\n",
            "22/22 [==============================] - 1s 59ms/step - loss: 0.0251 - accuracy: 1.0000\n",
            "Epoch 11/50\n",
            "22/22 [==============================] - 1s 57ms/step - loss: 0.0168 - accuracy: 1.0000\n",
            "Epoch 12/50\n",
            "22/22 [==============================] - 1s 58ms/step - loss: 0.0117 - accuracy: 1.0000\n",
            "Epoch 13/50\n",
            "22/22 [==============================] - 1s 59ms/step - loss: 0.0087 - accuracy: 1.0000\n",
            "Epoch 14/50\n",
            "22/22 [==============================] - 1s 59ms/step - loss: 0.0066 - accuracy: 1.0000\n",
            "Epoch 15/50\n",
            "22/22 [==============================] - 1s 58ms/step - loss: 0.0052 - accuracy: 1.0000\n",
            "Epoch 16/50\n",
            "22/22 [==============================] - 1s 58ms/step - loss: 0.0041 - accuracy: 1.0000\n",
            "Epoch 17/50\n",
            "22/22 [==============================] - 1s 55ms/step - loss: 0.0034 - accuracy: 1.0000\n",
            "Epoch 18/50\n",
            "22/22 [==============================] - 1s 56ms/step - loss: 0.0029 - accuracy: 1.0000\n",
            "Epoch 19/50\n",
            "22/22 [==============================] - 1s 56ms/step - loss: 0.0024 - accuracy: 1.0000\n",
            "Epoch 20/50\n",
            "22/22 [==============================] - 1s 56ms/step - loss: 0.0021 - accuracy: 1.0000\n",
            "Epoch 21/50\n",
            "22/22 [==============================] - 1s 56ms/step - loss: 0.0019 - accuracy: 1.0000\n",
            "Epoch 22/50\n",
            "22/22 [==============================] - 1s 58ms/step - loss: 0.0016 - accuracy: 1.0000\n",
            "Epoch 23/50\n",
            "22/22 [==============================] - 1s 56ms/step - loss: 0.0015 - accuracy: 1.0000\n",
            "Epoch 24/50\n",
            "22/22 [==============================] - 1s 55ms/step - loss: 0.0014 - accuracy: 1.0000\n",
            "Epoch 25/50\n",
            "22/22 [==============================] - 1s 56ms/step - loss: 0.0012 - accuracy: 1.0000\n",
            "Epoch 26/50\n",
            "22/22 [==============================] - 1s 56ms/step - loss: 0.0011 - accuracy: 1.0000\n",
            "Epoch 27/50\n",
            "22/22 [==============================] - 1s 55ms/step - loss: 9.6893e-04 - accuracy: 1.0000\n",
            "Epoch 28/50\n",
            "22/22 [==============================] - 1s 54ms/step - loss: 9.2131e-04 - accuracy: 1.0000\n",
            "Epoch 29/50\n",
            "22/22 [==============================] - 1s 55ms/step - loss: 7.8177e-04 - accuracy: 1.0000\n",
            "Epoch 30/50\n",
            "22/22 [==============================] - 1s 55ms/step - loss: 7.7085e-04 - accuracy: 1.0000\n",
            "Epoch 31/50\n",
            "22/22 [==============================] - 1s 56ms/step - loss: 7.0699e-04 - accuracy: 1.0000\n",
            "Epoch 32/50\n",
            "22/22 [==============================] - 1s 57ms/step - loss: 6.5189e-04 - accuracy: 1.0000\n",
            "Epoch 33/50\n",
            "22/22 [==============================] - 1s 57ms/step - loss: 6.0494e-04 - accuracy: 1.0000\n",
            "Epoch 34/50\n",
            "22/22 [==============================] - 1s 57ms/step - loss: 5.6018e-04 - accuracy: 1.0000\n",
            "Epoch 35/50\n",
            "22/22 [==============================] - 1s 58ms/step - loss: 5.2841e-04 - accuracy: 1.0000\n",
            "Epoch 36/50\n",
            "22/22 [==============================] - 1s 58ms/step - loss: 4.9795e-04 - accuracy: 1.0000\n",
            "Epoch 37/50\n",
            "22/22 [==============================] - 1s 57ms/step - loss: 4.4611e-04 - accuracy: 1.0000\n",
            "Epoch 38/50\n",
            "22/22 [==============================] - 1s 59ms/step - loss: 4.5986e-04 - accuracy: 1.0000\n",
            "Epoch 39/50\n",
            "22/22 [==============================] - 1s 57ms/step - loss: 3.9852e-04 - accuracy: 1.0000\n",
            "Epoch 40/50\n",
            "22/22 [==============================] - 1s 57ms/step - loss: 3.7685e-04 - accuracy: 1.0000\n",
            "Epoch 41/50\n",
            "22/22 [==============================] - 1s 58ms/step - loss: 3.6811e-04 - accuracy: 1.0000\n",
            "Epoch 42/50\n",
            "22/22 [==============================] - 1s 60ms/step - loss: 3.3367e-04 - accuracy: 1.0000\n",
            "Epoch 43/50\n",
            "22/22 [==============================] - 1s 58ms/step - loss: 3.2997e-04 - accuracy: 1.0000\n",
            "Epoch 44/50\n",
            "22/22 [==============================] - 1s 57ms/step - loss: 3.0835e-04 - accuracy: 1.0000\n",
            "Epoch 45/50\n",
            "22/22 [==============================] - 1s 57ms/step - loss: 2.8951e-04 - accuracy: 1.0000\n",
            "Epoch 46/50\n",
            "22/22 [==============================] - 1s 58ms/step - loss: 2.8084e-04 - accuracy: 1.0000\n",
            "Epoch 47/50\n",
            "22/22 [==============================] - 1s 57ms/step - loss: 2.8086e-04 - accuracy: 1.0000\n",
            "Epoch 48/50\n",
            "22/22 [==============================] - 1s 58ms/step - loss: 2.6412e-04 - accuracy: 1.0000\n",
            "Epoch 49/50\n",
            "22/22 [==============================] - 1s 57ms/step - loss: 2.5089e-04 - accuracy: 1.0000\n",
            "Epoch 50/50\n",
            "22/22 [==============================] - 1s 56ms/step - loss: 2.3672e-04 - accuracy: 1.0000\n"
          ],
          "name": "stdout"
        }
      ]
    },
    {
      "cell_type": "code",
      "metadata": {
        "id": "fd486mSQ5kQL"
      },
      "source": [
        ""
      ],
      "execution_count": null,
      "outputs": []
    }
  ]
}