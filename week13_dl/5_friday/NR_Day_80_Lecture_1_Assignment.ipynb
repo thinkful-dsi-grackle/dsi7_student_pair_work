{
  "nbformat": 4,
  "nbformat_minor": 0,
  "metadata": {
    "kernelspec": {
      "display_name": "Python 3",
      "language": "python",
      "name": "python3"
    },
    "language_info": {
      "codemirror_mode": {
        "name": "ipython",
        "version": 3
      },
      "file_extension": ".py",
      "mimetype": "text/x-python",
      "name": "python",
      "nbconvert_exporter": "python",
      "pygments_lexer": "ipython3",
      "version": "3.7.0"
    },
    "colab": {
      "name": "NR  Day 80 Lecture 1 Assignment",
      "provenance": [],
      "collapsed_sections": []
    }
  },
  "cells": [
    {
      "cell_type": "markdown",
      "metadata": {
        "id": "s3b2_cqaKWkw"
      },
      "source": [
        "## Long Short-Term Memory \n",
        "\n",
        "In this assignment, we will learn about LSTM models. We will create an LSTM model for time series prediction."
      ]
    },
    {
      "cell_type": "code",
      "metadata": {
        "id": "k0a6OKp4KWkz"
      },
      "source": [
        "import numpy as np\n",
        "import os\n",
        "import pandas as pd\n",
        "\n",
        "from tensorflow.keras.models import Sequential\n",
        "from tensorflow.keras.layers import Dense, LSTM, Dropout, Flatten\n",
        "from tensorflow.keras.utils import to_categorical"
      ],
      "execution_count": 1,
      "outputs": []
    },
    {
      "cell_type": "code",
      "metadata": {
        "id": "mne4psN7CpYz",
        "colab": {
          "base_uri": "https://localhost:8080/"
        },
        "outputId": "8da03750-dd13-4211-de66-9b5a1dfd3379"
      },
      "source": [
        "from google.colab import drive\r\n",
        "drive.mount('/content/drive')\r\n"
      ],
      "execution_count": 5,
      "outputs": [
        {
          "output_type": "stream",
          "text": [
            "Mounted at /content/drive\n"
          ],
          "name": "stdout"
        }
      ]
    },
    {
      "cell_type": "markdown",
      "metadata": {
        "id": "UY5p0gThKWk1"
      },
      "source": [
        "Below is a function for loading time series data collected by sensors. There are 9 different files, We have data about body acceleration, body gyro, and total acceleration for the x, y, and z axis"
      ]
    },
    {
      "cell_type": "code",
      "metadata": {
        "id": "kAhD_8wwKWk2"
      },
      "source": [
        "def load_func(path, file_ind=False):\n",
        "    data_list = []\n",
        "    if file_ind:\n",
        "        filenames = [path]\n",
        "    else:\n",
        "        files = os.listdir(path)\n",
        "        filenames = [path + '/' + f for f in files]\n",
        "    for f in filenames:\n",
        "        dataframe = pd.read_csv(f, header=None, delim_whitespace=True)\n",
        "        data_list.append(dataframe.values)\n",
        "    if len(data_list) > 1:\n",
        "        return np.dstack(data_list)\n",
        "    else:\n",
        "        return data_list[0]"
      ],
      "execution_count": 4,
      "outputs": []
    },
    {
      "cell_type": "code",
      "metadata": {
        "id": "j7qmKsYJZk1n"
      },
      "source": [
        "PATH = '/content/drive/MyDrive/Data/UCI HAR Dataset/'"
      ],
      "execution_count": 13,
      "outputs": []
    },
    {
      "cell_type": "code",
      "metadata": {
        "id": "06u-u8e4KWk4",
        "colab": {
          "base_uri": "https://localhost:8080/",
          "height": 197
        },
        "outputId": "126cd312-af7c-4a67-88e6-de64a11f0c9c"
      },
      "source": [
        "\r\n",
        "os.listdir(f'{PATH}train/Inertial Signals')"
      ],
      "execution_count": 14,
      "outputs": [
        {
          "output_type": "error",
          "ename": "FileNotFoundError",
          "evalue": "ignored",
          "traceback": [
            "\u001b[0;31m---------------------------------------------------------------------------\u001b[0m",
            "\u001b[0;31mFileNotFoundError\u001b[0m                         Traceback (most recent call last)",
            "\u001b[0;32m<ipython-input-14-a08737175220>\u001b[0m in \u001b[0;36m<module>\u001b[0;34m()\u001b[0m\n\u001b[1;32m      1\u001b[0m \u001b[0;34m\u001b[0m\u001b[0m\n\u001b[0;32m----> 2\u001b[0;31m \u001b[0mos\u001b[0m\u001b[0;34m.\u001b[0m\u001b[0mlistdir\u001b[0m\u001b[0;34m(\u001b[0m\u001b[0;34mf'{PATH}train/Inertial Signals'\u001b[0m\u001b[0;34m)\u001b[0m\u001b[0;34m\u001b[0m\u001b[0;34m\u001b[0m\u001b[0m\n\u001b[0m",
            "\u001b[0;31mFileNotFoundError\u001b[0m: [Errno 2] No such file or directory: '/content/drive/MyDrive/Data/UCI HAR Dataset/train/Inertial Signals'"
          ]
        }
      ]
    },
    {
      "cell_type": "code",
      "metadata": {
        "id": "c5_0OBVeKWk7",
        "colab": {
          "base_uri": "https://localhost:8080/",
          "height": 333
        },
        "outputId": "f289898a-c106-46d4-b222-f3bec05afc4d"
      },
      "source": [
        "X_train = load_func(\"./train/Inertial Signals\")\n",
        "X_test = load_func(\"./test/Inertial Signals\")\n",
        "y_train_cat = load_func('./train/y_train.txt', True)\n",
        "y_test_cat = load_func('./test/y_test.txt', True)"
      ],
      "execution_count": 15,
      "outputs": [
        {
          "output_type": "error",
          "ename": "FileNotFoundError",
          "evalue": "ignored",
          "traceback": [
            "\u001b[0;31m---------------------------------------------------------------------------\u001b[0m",
            "\u001b[0;31mFileNotFoundError\u001b[0m                         Traceback (most recent call last)",
            "\u001b[0;32m<ipython-input-15-d1747032147b>\u001b[0m in \u001b[0;36m<module>\u001b[0;34m()\u001b[0m\n\u001b[0;32m----> 1\u001b[0;31m \u001b[0mX_train\u001b[0m \u001b[0;34m=\u001b[0m \u001b[0mload_func\u001b[0m\u001b[0;34m(\u001b[0m\u001b[0;34m\"./train/Inertial Signals\"\u001b[0m\u001b[0;34m)\u001b[0m\u001b[0;34m\u001b[0m\u001b[0;34m\u001b[0m\u001b[0m\n\u001b[0m\u001b[1;32m      2\u001b[0m \u001b[0mX_test\u001b[0m \u001b[0;34m=\u001b[0m \u001b[0mload_func\u001b[0m\u001b[0;34m(\u001b[0m\u001b[0;34m\"./test/Inertial Signals\"\u001b[0m\u001b[0;34m)\u001b[0m\u001b[0;34m\u001b[0m\u001b[0;34m\u001b[0m\u001b[0m\n\u001b[1;32m      3\u001b[0m \u001b[0my_train_cat\u001b[0m \u001b[0;34m=\u001b[0m \u001b[0mload_func\u001b[0m\u001b[0;34m(\u001b[0m\u001b[0;34m'./train/y_train.txt'\u001b[0m\u001b[0;34m,\u001b[0m \u001b[0;32mTrue\u001b[0m\u001b[0;34m)\u001b[0m\u001b[0;34m\u001b[0m\u001b[0;34m\u001b[0m\u001b[0m\n\u001b[1;32m      4\u001b[0m \u001b[0my_test_cat\u001b[0m \u001b[0;34m=\u001b[0m \u001b[0mload_func\u001b[0m\u001b[0;34m(\u001b[0m\u001b[0;34m'./test/y_test.txt'\u001b[0m\u001b[0;34m,\u001b[0m \u001b[0;32mTrue\u001b[0m\u001b[0;34m)\u001b[0m\u001b[0;34m\u001b[0m\u001b[0;34m\u001b[0m\u001b[0m\n",
            "\u001b[0;32m<ipython-input-4-63e220ba6865>\u001b[0m in \u001b[0;36mload_func\u001b[0;34m(path, file_ind)\u001b[0m\n\u001b[1;32m      4\u001b[0m         \u001b[0mfilenames\u001b[0m \u001b[0;34m=\u001b[0m \u001b[0;34m[\u001b[0m\u001b[0mpath\u001b[0m\u001b[0;34m]\u001b[0m\u001b[0;34m\u001b[0m\u001b[0;34m\u001b[0m\u001b[0m\n\u001b[1;32m      5\u001b[0m     \u001b[0;32melse\u001b[0m\u001b[0;34m:\u001b[0m\u001b[0;34m\u001b[0m\u001b[0;34m\u001b[0m\u001b[0m\n\u001b[0;32m----> 6\u001b[0;31m         \u001b[0mfiles\u001b[0m \u001b[0;34m=\u001b[0m \u001b[0mos\u001b[0m\u001b[0;34m.\u001b[0m\u001b[0mlistdir\u001b[0m\u001b[0;34m(\u001b[0m\u001b[0mpath\u001b[0m\u001b[0;34m)\u001b[0m\u001b[0;34m\u001b[0m\u001b[0;34m\u001b[0m\u001b[0m\n\u001b[0m\u001b[1;32m      7\u001b[0m         \u001b[0mfilenames\u001b[0m \u001b[0;34m=\u001b[0m \u001b[0;34m[\u001b[0m\u001b[0mpath\u001b[0m \u001b[0;34m+\u001b[0m \u001b[0;34m'/'\u001b[0m \u001b[0;34m+\u001b[0m \u001b[0mf\u001b[0m \u001b[0;32mfor\u001b[0m \u001b[0mf\u001b[0m \u001b[0;32min\u001b[0m \u001b[0mfiles\u001b[0m\u001b[0;34m]\u001b[0m\u001b[0;34m\u001b[0m\u001b[0;34m\u001b[0m\u001b[0m\n\u001b[1;32m      8\u001b[0m     \u001b[0;32mfor\u001b[0m \u001b[0mf\u001b[0m \u001b[0;32min\u001b[0m \u001b[0mfilenames\u001b[0m\u001b[0;34m:\u001b[0m\u001b[0;34m\u001b[0m\u001b[0;34m\u001b[0m\u001b[0m\n",
            "\u001b[0;31mFileNotFoundError\u001b[0m: [Errno 2] No such file or directory: './train/Inertial Signals'"
          ]
        }
      ]
    },
    {
      "cell_type": "markdown",
      "metadata": {
        "id": "Rgw_29IQKWk8"
      },
      "source": [
        "Print the dimensions of both the predictor variables and the target."
      ]
    },
    {
      "cell_type": "code",
      "metadata": {
        "id": "BBiwN-zUKWk9"
      },
      "source": [
        "# Answer below:\n",
        "\n",
        "print(f'X train shape: {X_train.shape}')\n",
        "print(f'Y train shape: {y_train_cat.shape}')\n",
        "print(f'X test shape: {X_test.shape}')\n",
        "print(f'Y test shape: {y_test_cat.shape}')"
      ],
      "execution_count": null,
      "outputs": []
    },
    {
      "cell_type": "markdown",
      "metadata": {
        "id": "2rL-Y9KFKWk-"
      },
      "source": [
        "The target variable is categorical. One hot encode the target variable."
      ]
    },
    {
      "cell_type": "code",
      "metadata": {
        "id": "2BzBC9QNKWk_"
      },
      "source": [
        "# Answer below:\n",
        "\n",
        "\n",
        "from sklearn.preprocessing import OneHotEncoder\n",
        "\n",
        "#enc = OneHotEncoder(handle_unknown='ignore') \n",
        "#y_train = enc.fit_transform(y_train_cat).toarray() \n",
        "#y_test = enc.transform(y_test_cat).toarray()\n",
        "\n",
        "y_train = to_categorical(y_train_cat - 1, 6)\n",
        "y_test = to_categorical(y_test_cat - 1, 6)\n",
        "\n",
        "y_train.shape"
      ],
      "execution_count": null,
      "outputs": []
    },
    {
      "cell_type": "markdown",
      "metadata": {
        "id": "HeKcEUwsKWlA"
      },
      "source": [
        "Create a model containing an LSTM layer with unit size 100, and input shape that is the tuple containing the number of columns in X and the number of files in X.\n",
        "\n",
        "The next layer is a dropout layer. Choose 0.5 for the proportion. Then add a dense layer of unit size 100 and finally an output dense layer. "
      ]
    },
    {
      "cell_type": "code",
      "metadata": {
        "id": "ujymmzAFKWlB"
      },
      "source": [
        "# Answer below:\n",
        "\n",
        "\n",
        "from tensorflow.keras import Sequential\n",
        "from tensorflow.keras.layers import Embedding, LSTM, Dense, Dropout\n",
        "\n",
        "# instantiate model\n",
        "model = Sequential()\n",
        "# LSTM layer\n",
        "model.add(LSTM(100, input_shape=(X_train.shape[1],X_train.shape[2])))\n",
        "# dropout layer\n",
        "model.add(Dropout(0.5))\n",
        "# dense layer\n",
        "model.add(Dense(100, activation='relu'))\n",
        "# dense output layer\n",
        "model.add(Dense(y_train.shape[1], activation='softmax'))"
      ],
      "execution_count": null,
      "outputs": []
    },
    {
      "cell_type": "markdown",
      "metadata": {
        "id": "GX4stdzAKWlC"
      },
      "source": [
        "Print the model summary to ensure you have the correct number of parameters."
      ]
    },
    {
      "cell_type": "code",
      "metadata": {
        "id": "AbUNEvSJKWlE"
      },
      "source": [
        "# Answer below:\n",
        "\n",
        "model.summary()"
      ],
      "execution_count": null,
      "outputs": []
    },
    {
      "cell_type": "markdown",
      "metadata": {
        "id": "Ww7tK6UwKWlG"
      },
      "source": [
        "Compile and fit the model. Select the appropriate activation, loss, and optimizer.\n",
        "\n",
        "Run the model for 10 epochs with a batch size of 80."
      ]
    },
    {
      "cell_type": "code",
      "metadata": {
        "id": "qdMikFoMKWlG"
      },
      "source": [
        "# Answer below:\n",
        "\n",
        "# compile model\n",
        "model.compile(loss='categorical_crossentropy', optimizer='adam', metrics=['accuracy'])\n",
        "# fit model\n",
        "model.fit(X_train, y_train, validation_data=(X_test, y_test), epochs=50, batch_size=80)"
      ],
      "execution_count": null,
      "outputs": []
    },
    {
      "cell_type": "markdown",
      "metadata": {
        "id": "h-_IsmrcKWlI"
      },
      "source": [
        "Print the confusion matrix for the test data."
      ]
    },
    {
      "cell_type": "code",
      "metadata": {
        "id": "bDLwv62wKWlI"
      },
      "source": [
        "# Answer below:\n",
        "\n",
        "def plot_confusion_matrix(cm,\n",
        "                          target_names,\n",
        "                          title='Confusion matrix',\n",
        "                          cmap=None,\n",
        "                          normalize=True):\n",
        "    \"\"\"\n",
        "    Given a scikit-learn confusion matrix (CM), make a nice plot.\n",
        "\n",
        "    Arguments\n",
        "    ---------\n",
        "    cm:           Confusion matrix from sklearn.metrics.confusion_matrix\n",
        "\n",
        "    target_names: Given classification classes, such as [0, 1, 2]\n",
        "                  The class names, for example, ['high', 'medium', 'low']\n",
        "\n",
        "    title:        The text to display at the top of the matrix\n",
        "\n",
        "    cmap:         The gradient of the values displayed from matplotlib.pyplot.cm\n",
        "                  See http://matplotlib.org/examples/color/colormaps_reference.html\n",
        "                  `plt.get_cmap('jet')` or `plt.cm.Blues`\n",
        "\n",
        "    normalize:    If `False`, plot the raw numbers\n",
        "                  If `True`, plot the proportions\n",
        "\n",
        "    Usage\n",
        "    -----\n",
        "    plot_confusion_matrix(cm           = cm,                  # Confusion matrix created by\n",
        "                                                              # `sklearn.metrics.confusion_matrix`\n",
        "                          normalize    = True,                # Show proportions\n",
        "                          target_names = y_labels_vals,       # List of names of the classes\n",
        "                          title        = best_estimator_name) # Title of graph\n",
        "\n",
        "    Citation\n",
        "    ---------\n",
        "    http://scikit-learn.org/stable/auto_examples/model_selection/plot_confusion_matrix.html\n",
        "\n",
        "    \"\"\"\n",
        "    import matplotlib.pyplot as plt\n",
        "    import numpy as np\n",
        "    import itertools\n",
        "\n",
        "    accuracy = np.trace(cm) / float(np.sum(cm))\n",
        "    misclass = 1 - accuracy\n",
        "\n",
        "    if cmap is None:\n",
        "        cmap = plt.get_cmap('Blues')\n",
        "\n",
        "    plt.figure(figsize=(8, 6))\n",
        "    plt.imshow(cm, interpolation='nearest', cmap=cmap)\n",
        "    plt.title(title)\n",
        "    plt.colorbar()\n",
        "\n",
        "    if target_names is not None:\n",
        "        tick_marks = np.arange(len(target_names))\n",
        "        plt.xticks(tick_marks, target_names, rotation=45)\n",
        "        plt.yticks(tick_marks, target_names)\n",
        "\n",
        "    if normalize:\n",
        "        cm = cm.astype('float') / cm.sum(axis=1)[:, np.newaxis]\n",
        "\n",
        "\n",
        "    thresh = cm.max() / 1.5 if normalize else cm.max() / 2\n",
        "    for i, j in itertools.product(range(cm.shape[0]), range(cm.shape[1])):\n",
        "        if normalize:\n",
        "            plt.text(j, i, \"{:0.4f}\".format(cm[i, j]),\n",
        "                     horizontalalignment=\"center\",\n",
        "                     color=\"white\" if cm[i, j] > thresh else \"black\")\n",
        "        else:\n",
        "            plt.text(j, i, \"{:,}\".format(cm[i, j]),\n",
        "                     horizontalalignment=\"center\",\n",
        "                     color=\"white\" if cm[i, j] > thresh else \"black\")\n",
        "\n",
        "\n",
        "    plt.tight_layout()\n",
        "    plt.ylabel('Predicted label')\n",
        "    plt.xlabel('True label\\naccuracy={:0.4f}; misclass={:0.4f}'.format(accuracy, misclass))\n",
        "    plt.show()"
      ],
      "execution_count": null,
      "outputs": []
    },
    {
      "cell_type": "code",
      "metadata": {
        "id": "ceYZ8zW4KWlK"
      },
      "source": [
        "y_test_pred = np.argmax(model.predict(X_test), axis=-1)\r\n",
        "y_test_pred\r\n",
        "\r\n",
        "y_test_pred[1]"
      ],
      "execution_count": null,
      "outputs": []
    },
    {
      "cell_type": "code",
      "metadata": {
        "id": "7wM31ne7a0Cw"
      },
      "source": [
        "\r\n",
        "from sklearn.metrics import  classification_report, confusion_matrix\r\n",
        "\r\n",
        "# plot model confusion matrix\r\n",
        "confusion = confusion_matrix(y_test_cat-1, y_test_pred)\r\n",
        "plot_confusion_matrix(cm=confusion, target_names=[1,2,3,4,5,6],title = 'Model Confusion Matrix',normalize=False)"
      ],
      "execution_count": null,
      "outputs": []
    },
    {
      "cell_type": "code",
      "metadata": {
        "id": "qqIPX1dSa7UZ"
      },
      "source": [
        ":\r\n",
        "# model classifcation report\r\n",
        "print(classification_report(y_test_cat-1, y_test_pred))"
      ],
      "execution_count": null,
      "outputs": []
    }
  ]
}