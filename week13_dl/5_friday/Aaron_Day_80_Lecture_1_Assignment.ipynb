{
  "nbformat": 4,
  "nbformat_minor": 0,
  "metadata": {
    "kernelspec": {
      "display_name": "Python 3",
      "language": "python",
      "name": "python3"
    },
    "language_info": {
      "codemirror_mode": {
        "name": "ipython",
        "version": 3
      },
      "file_extension": ".py",
      "mimetype": "text/x-python",
      "name": "python",
      "nbconvert_exporter": "python",
      "pygments_lexer": "ipython3",
      "version": "3.7.0"
    },
    "colab": {
      "name": "Aaron_Day_80_Lecture_1_Assignment.ipynb",
      "provenance": [],
      "collapsed_sections": []
    },
    "accelerator": "GPU"
  },
  "cells": [
    {
      "cell_type": "markdown",
      "metadata": {
        "id": "s3b2_cqaKWkw"
      },
      "source": [
        "## Long Short-Term Memory \n",
        "\n",
        "In this assignment, we will learn about LSTM models. We will create an LSTM model for time series prediction."
      ]
    },
    {
      "cell_type": "code",
      "metadata": {
        "id": "k0a6OKp4KWkz"
      },
      "source": [
        "import numpy as np\n",
        "import os\n",
        "import pandas as pd\n",
        "\n",
        "from tensorflow.keras.models import Sequential\n",
        "from tensorflow.keras.layers import Dense, LSTM, Dropout, Flatten\n",
        "from tensorflow.keras.utils import to_categorical"
      ],
      "execution_count": 1,
      "outputs": []
    },
    {
      "cell_type": "code",
      "metadata": {
        "id": "mne4psN7CpYz"
      },
      "source": [
        ""
      ],
      "execution_count": 1,
      "outputs": []
    },
    {
      "cell_type": "markdown",
      "metadata": {
        "id": "UY5p0gThKWk1"
      },
      "source": [
        "Below is a function for loading time series data collected by sensors. There are 9 different files, We have data about body acceleration, body gyro, and total acceleration for the x, y, and z axis"
      ]
    },
    {
      "cell_type": "code",
      "metadata": {
        "id": "kAhD_8wwKWk2"
      },
      "source": [
        "def load_func(path, file_ind=False):\n",
        "    data_list = []\n",
        "    if file_ind:\n",
        "        filenames = [path]\n",
        "    else:\n",
        "        files = os.listdir(path)\n",
        "        files.sort()\n",
        "        filenames = [path + '/' + f for f in files]\n",
        "    for f in filenames:\n",
        "        dataframe = pd.read_csv(f, header=None, delim_whitespace=True)\n",
        "        data_list.append(dataframe.values)\n",
        "    if len(data_list) > 1:\n",
        "        return np.dstack(data_list)\n",
        "    else:\n",
        "        return data_list[0]"
      ],
      "execution_count": 2,
      "outputs": []
    },
    {
      "cell_type": "code",
      "metadata": {
        "id": "06u-u8e4KWk4",
        "colab": {
          "base_uri": "https://localhost:8080/"
        },
        "outputId": "a1ab2bc0-0ccd-4221-d40a-fb1d77ff6b82"
      },
      "source": [
        "files_train = os.listdir('/content/drive/MyDrive/Datasets/UCI_HAR_Dataset/train/Inertial_Signals')\n",
        "files_train.sort()\n",
        "files_train"
      ],
      "execution_count": 3,
      "outputs": [
        {
          "output_type": "execute_result",
          "data": {
            "text/plain": [
              "['body_acc_x_train.txt',\n",
              " 'body_acc_y_train.txt',\n",
              " 'body_acc_z_train.txt',\n",
              " 'body_gyro_x_train.txt',\n",
              " 'body_gyro_y_train.txt',\n",
              " 'body_gyro_z_train.txt',\n",
              " 'total_acc_x_train.txt',\n",
              " 'total_acc_y_train.txt',\n",
              " 'total_acc_z_train.txt']"
            ]
          },
          "metadata": {
            "tags": []
          },
          "execution_count": 3
        }
      ]
    },
    {
      "cell_type": "code",
      "metadata": {
        "colab": {
          "base_uri": "https://localhost:8080/"
        },
        "id": "cavE20y7ZjuH",
        "outputId": "ea1723cf-1933-4880-89ee-cd587b5031f4"
      },
      "source": [
        "files_test = os.listdir('/content/drive/MyDrive/Datasets/UCI_HAR_Dataset/test/Inertial_Signals')\n",
        "files_test.sort()\n",
        "files_test"
      ],
      "execution_count": 24,
      "outputs": [
        {
          "output_type": "execute_result",
          "data": {
            "text/plain": [
              "['body_acc_x_test.txt',\n",
              " 'body_acc_y_test.txt',\n",
              " 'body_acc_z_test.txt',\n",
              " 'body_gyro_x_test.txt',\n",
              " 'body_gyro_y_test.txt',\n",
              " 'body_gyro_z_test.txt',\n",
              " 'total_acc_x_test.txt',\n",
              " 'total_acc_y_test.txt',\n",
              " 'total_acc_z_test.txt']"
            ]
          },
          "metadata": {
            "tags": []
          },
          "execution_count": 24
        }
      ]
    },
    {
      "cell_type": "code",
      "metadata": {
        "id": "c5_0OBVeKWk7"
      },
      "source": [
        "X_train = load_func(\"/content/drive/MyDrive/Datasets/UCI_HAR_Dataset/train/Inertial_Signals\")\n",
        "X_test = load_func(\"/content/drive/MyDrive/Datasets/UCI_HAR_Dataset/test/Inertial_Signals\")\n",
        "y_train_cat = load_func('/content/drive/MyDrive/Datasets/UCI_HAR_Dataset/train/y_train.txt', True)\n",
        "y_test_cat = load_func('/content/drive/MyDrive/Datasets/UCI_HAR_Dataset/test/y_test.txt', True)"
      ],
      "execution_count": 5,
      "outputs": []
    },
    {
      "cell_type": "markdown",
      "metadata": {
        "id": "Rgw_29IQKWk8"
      },
      "source": [
        "Print the dimensions of both the predictor variables and the target."
      ]
    },
    {
      "cell_type": "code",
      "metadata": {
        "id": "BBiwN-zUKWk9",
        "colab": {
          "base_uri": "https://localhost:8080/"
        },
        "outputId": "bf9bbbaf-9e3a-4651-c27c-e07bda47bed9"
      },
      "source": [
        "# Answer below:\n",
        "print('predictor dimensions')\n",
        "print('train')\n",
        "print(X_train.shape)\n",
        "print('test')\n",
        "print(X_test.shape)\n",
        "\n",
        "\n",
        "print('target dimensions')\n",
        "print('train')\n",
        "print(y_train_cat.shape)\n",
        "print('test')\n",
        "print(y_test_cat.shape)"
      ],
      "execution_count": 6,
      "outputs": [
        {
          "output_type": "stream",
          "text": [
            "predictor dimensions\n",
            "train\n",
            "(7352, 128, 9)\n",
            "test\n",
            "(2947, 128, 9)\n",
            "target dimensions\n",
            "train\n",
            "(7352, 1)\n",
            "test\n",
            "(2947, 1)\n"
          ],
          "name": "stdout"
        }
      ]
    },
    {
      "cell_type": "markdown",
      "metadata": {
        "id": "2rL-Y9KFKWk-"
      },
      "source": [
        "The target variable is categorical. One hot encode the target variable."
      ]
    },
    {
      "cell_type": "code",
      "metadata": {
        "id": "oG1efs11z25d"
      },
      "source": [
        "y_train_cat = y_train_cat.reshape(y_train_cat.shape[0])\n",
        "\n",
        "y_test_cat = y_test_cat.reshape(y_test_cat.shape[0])\n"
      ],
      "execution_count": 7,
      "outputs": []
    },
    {
      "cell_type": "code",
      "metadata": {
        "colab": {
          "base_uri": "https://localhost:8080/"
        },
        "id": "4i5zmw6c0k4c",
        "outputId": "0ba07f88-fd5e-40c2-9e71-2f7d42870cb0"
      },
      "source": [
        "print(y_train_cat.shape)\n",
        "\n",
        "print(y_test_cat.shape)"
      ],
      "execution_count": 8,
      "outputs": [
        {
          "output_type": "stream",
          "text": [
            "(7352,)\n",
            "(2947,)\n"
          ],
          "name": "stdout"
        }
      ]
    },
    {
      "cell_type": "code",
      "metadata": {
        "id": "2BzBC9QNKWk_"
      },
      "source": [
        "# Answer below:\n",
        "\n",
        "y_train = to_categorical(y_train_cat, 7).astype('int32')\n",
        "\n",
        "y_test = to_categorical(y_test_cat, 7).astype('int32')"
      ],
      "execution_count": 9,
      "outputs": []
    },
    {
      "cell_type": "code",
      "metadata": {
        "colab": {
          "base_uri": "https://localhost:8080/"
        },
        "id": "PpKqpPEB2gyI",
        "outputId": "2cbbc094-f0f5-406b-cde5-f0d9caedefe4"
      },
      "source": [
        "y_train"
      ],
      "execution_count": 10,
      "outputs": [
        {
          "output_type": "execute_result",
          "data": {
            "text/plain": [
              "array([[0, 0, 0, ..., 0, 1, 0],\n",
              "       [0, 0, 0, ..., 0, 1, 0],\n",
              "       [0, 0, 0, ..., 0, 1, 0],\n",
              "       ...,\n",
              "       [0, 0, 1, ..., 0, 0, 0],\n",
              "       [0, 0, 1, ..., 0, 0, 0],\n",
              "       [0, 0, 1, ..., 0, 0, 0]], dtype=int32)"
            ]
          },
          "metadata": {
            "tags": []
          },
          "execution_count": 10
        }
      ]
    },
    {
      "cell_type": "code",
      "metadata": {
        "colab": {
          "base_uri": "https://localhost:8080/"
        },
        "id": "_ghmargI-QHL",
        "outputId": "c150f2f2-a164-4c1b-f2fc-827e2acfca63"
      },
      "source": [
        "y_test[500]"
      ],
      "execution_count": 11,
      "outputs": [
        {
          "output_type": "execute_result",
          "data": {
            "text/plain": [
              "array([0, 0, 0, 0, 1, 0, 0], dtype=int32)"
            ]
          },
          "metadata": {
            "tags": []
          },
          "execution_count": 11
        }
      ]
    },
    {
      "cell_type": "code",
      "metadata": {
        "colab": {
          "base_uri": "https://localhost:8080/"
        },
        "id": "_jK2LtDz-TMr",
        "outputId": "05decabf-0a4d-4d5d-c061-d5215dab14e0"
      },
      "source": [
        "y_test_cat[500]"
      ],
      "execution_count": 12,
      "outputs": [
        {
          "output_type": "execute_result",
          "data": {
            "text/plain": [
              "4"
            ]
          },
          "metadata": {
            "tags": []
          },
          "execution_count": 12
        }
      ]
    },
    {
      "cell_type": "code",
      "metadata": {
        "colab": {
          "base_uri": "https://localhost:8080/"
        },
        "id": "qlfrre_M5Z11",
        "outputId": "ff33e5e0-9dbf-4171-a448-b2889dc665ef"
      },
      "source": [
        "y_test"
      ],
      "execution_count": 13,
      "outputs": [
        {
          "output_type": "execute_result",
          "data": {
            "text/plain": [
              "array([[0, 0, 0, ..., 0, 1, 0],\n",
              "       [0, 0, 0, ..., 0, 1, 0],\n",
              "       [0, 0, 0, ..., 0, 1, 0],\n",
              "       ...,\n",
              "       [0, 0, 1, ..., 0, 0, 0],\n",
              "       [0, 0, 1, ..., 0, 0, 0],\n",
              "       [0, 0, 1, ..., 0, 0, 0]], dtype=int32)"
            ]
          },
          "metadata": {
            "tags": []
          },
          "execution_count": 13
        }
      ]
    },
    {
      "cell_type": "markdown",
      "metadata": {
        "id": "HeKcEUwsKWlA"
      },
      "source": [
        "Create a model containing an LSTM layer with unit size 100, and input shape that is the tuple containing the number of columns in X and the number of files in X.\n",
        "\n",
        "The next layer is a dropout layer. Choose 0.5 for the proportion. Then add a dense layer of unit size 100 and finally an output dense layer. "
      ]
    },
    {
      "cell_type": "code",
      "metadata": {
        "colab": {
          "base_uri": "https://localhost:8080/"
        },
        "id": "-n5EIPSi3TpJ",
        "outputId": "e378c61a-3ac9-4b7a-c8c3-e60003bca1b5"
      },
      "source": [
        "X_train.shape[1]"
      ],
      "execution_count": 14,
      "outputs": [
        {
          "output_type": "execute_result",
          "data": {
            "text/plain": [
              "128"
            ]
          },
          "metadata": {
            "tags": []
          },
          "execution_count": 14
        }
      ]
    },
    {
      "cell_type": "code",
      "metadata": {
        "colab": {
          "base_uri": "https://localhost:8080/"
        },
        "id": "JhtTvRDO3Xth",
        "outputId": "11928bf8-ca4a-4c43-9e8d-aec27097e871"
      },
      "source": [
        "X_train.shape[2]"
      ],
      "execution_count": 15,
      "outputs": [
        {
          "output_type": "execute_result",
          "data": {
            "text/plain": [
              "9"
            ]
          },
          "metadata": {
            "tags": []
          },
          "execution_count": 15
        }
      ]
    },
    {
      "cell_type": "code",
      "metadata": {
        "colab": {
          "base_uri": "https://localhost:8080/"
        },
        "id": "J8a26XxLC6_4",
        "outputId": "e56589e2-008e-4427-c6de-4f4eac2202dd"
      },
      "source": [
        "input_shape = (X_train.shape[1], X_train.shape[2])\n",
        "\n",
        "input_shape "
      ],
      "execution_count": 16,
      "outputs": [
        {
          "output_type": "execute_result",
          "data": {
            "text/plain": [
              "(128, 9)"
            ]
          },
          "metadata": {
            "tags": []
          },
          "execution_count": 16
        }
      ]
    },
    {
      "cell_type": "code",
      "metadata": {
        "colab": {
          "base_uri": "https://localhost:8080/"
        },
        "id": "NVhyjsUQKa5L",
        "outputId": "bbe5c50e-a5c6-4e60-df9f-26a8d6e25f67"
      },
      "source": [
        "y_train.shape, y_test.shape"
      ],
      "execution_count": 17,
      "outputs": [
        {
          "output_type": "execute_result",
          "data": {
            "text/plain": [
              "((7352, 7), (2947, 7))"
            ]
          },
          "metadata": {
            "tags": []
          },
          "execution_count": 17
        }
      ]
    },
    {
      "cell_type": "code",
      "metadata": {
        "id": "ujymmzAFKWlB"
      },
      "source": [
        "# Answer below:\n",
        "model = Sequential()\n",
        "\n",
        "model.add(LSTM(100, input_shape=input_shape))\n",
        "model.add(Dropout(0.5))\n",
        "model.add(Dense(100, activation='relu'))\n",
        "model.add(Dense(7, activation='softmax'))"
      ],
      "execution_count": 18,
      "outputs": []
    },
    {
      "cell_type": "markdown",
      "metadata": {
        "id": "GX4stdzAKWlC"
      },
      "source": [
        "Print the model summary to ensure you have the correct number of parameters."
      ]
    },
    {
      "cell_type": "code",
      "metadata": {
        "id": "AbUNEvSJKWlE",
        "colab": {
          "base_uri": "https://localhost:8080/"
        },
        "outputId": "fb001602-5e6f-4bc7-c25b-1bac49b4a9f5"
      },
      "source": [
        "# Answer below:\n",
        "model.summary()\n"
      ],
      "execution_count": 19,
      "outputs": [
        {
          "output_type": "stream",
          "text": [
            "Model: \"sequential\"\n",
            "_________________________________________________________________\n",
            "Layer (type)                 Output Shape              Param #   \n",
            "=================================================================\n",
            "lstm (LSTM)                  (None, 100)               44000     \n",
            "_________________________________________________________________\n",
            "dropout (Dropout)            (None, 100)               0         \n",
            "_________________________________________________________________\n",
            "dense (Dense)                (None, 100)               10100     \n",
            "_________________________________________________________________\n",
            "dense_1 (Dense)              (None, 7)                 707       \n",
            "=================================================================\n",
            "Total params: 54,807\n",
            "Trainable params: 54,807\n",
            "Non-trainable params: 0\n",
            "_________________________________________________________________\n"
          ],
          "name": "stdout"
        }
      ]
    },
    {
      "cell_type": "markdown",
      "metadata": {
        "id": "Ww7tK6UwKWlG"
      },
      "source": [
        "Compile and fit the model. Select the appropriate activation, loss, and optimizer.\n",
        "\n",
        "Run the model for 10 epochs with a batch size of 80."
      ]
    },
    {
      "cell_type": "code",
      "metadata": {
        "id": "qdMikFoMKWlG",
        "colab": {
          "base_uri": "https://localhost:8080/"
        },
        "outputId": "c735392d-a8d4-4dbb-e8c2-8e594f22e19a"
      },
      "source": [
        "# Answer below:\n",
        "\n",
        "model.compile(optimizer='adam', loss='categorical_crossentropy', metrics=['accuracy'])\n",
        "\n",
        "model.fit(X_train, y_train, validation_data=(X_test, y_test), epochs=10, batch_size=80)"
      ],
      "execution_count": 20,
      "outputs": [
        {
          "output_type": "stream",
          "text": [
            "Epoch 1/10\n",
            "92/92 [==============================] - 4s 16ms/step - loss: 1.5508 - accuracy: 0.3702 - val_loss: 1.1098 - val_accuracy: 0.5260\n",
            "Epoch 2/10\n",
            "92/92 [==============================] - 1s 11ms/step - loss: 0.9156 - accuracy: 0.6173 - val_loss: 0.8418 - val_accuracy: 0.6936\n",
            "Epoch 3/10\n",
            "92/92 [==============================] - 1s 11ms/step - loss: 0.7253 - accuracy: 0.7206 - val_loss: 1.0169 - val_accuracy: 0.6003\n",
            "Epoch 4/10\n",
            "92/92 [==============================] - 1s 10ms/step - loss: 0.8101 - accuracy: 0.6620 - val_loss: 0.7100 - val_accuracy: 0.6895\n",
            "Epoch 5/10\n",
            "92/92 [==============================] - 1s 10ms/step - loss: 0.5790 - accuracy: 0.7569 - val_loss: 0.6163 - val_accuracy: 0.7655\n",
            "Epoch 6/10\n",
            "92/92 [==============================] - 1s 11ms/step - loss: 0.4714 - accuracy: 0.8264 - val_loss: 0.5133 - val_accuracy: 0.8140\n",
            "Epoch 7/10\n",
            "92/92 [==============================] - 1s 11ms/step - loss: 0.3342 - accuracy: 0.8886 - val_loss: 0.5000 - val_accuracy: 0.8398\n",
            "Epoch 8/10\n",
            "92/92 [==============================] - 1s 11ms/step - loss: 0.2416 - accuracy: 0.9251 - val_loss: 0.5078 - val_accuracy: 0.8449\n",
            "Epoch 9/10\n",
            "92/92 [==============================] - 1s 11ms/step - loss: 0.1942 - accuracy: 0.9380 - val_loss: 0.3701 - val_accuracy: 0.8765\n",
            "Epoch 10/10\n",
            "92/92 [==============================] - 1s 11ms/step - loss: 0.1805 - accuracy: 0.9350 - val_loss: 0.3808 - val_accuracy: 0.8755\n"
          ],
          "name": "stdout"
        },
        {
          "output_type": "execute_result",
          "data": {
            "text/plain": [
              "<tensorflow.python.keras.callbacks.History at 0x7fe6c2094668>"
            ]
          },
          "metadata": {
            "tags": []
          },
          "execution_count": 20
        }
      ]
    },
    {
      "cell_type": "markdown",
      "metadata": {
        "id": "h-_IsmrcKWlI"
      },
      "source": [
        "Print the confusion matrix for the test data."
      ]
    },
    {
      "cell_type": "code",
      "metadata": {
        "id": "bDLwv62wKWlI"
      },
      "source": [
        "# Answer below:\n",
        "\n",
        "from sklearn.metrics import confusion_matrix\n",
        "import seaborn as sns"
      ],
      "execution_count": 21,
      "outputs": []
    },
    {
      "cell_type": "code",
      "metadata": {
        "id": "ceYZ8zW4KWlK",
        "colab": {
          "base_uri": "https://localhost:8080/",
          "height": 282
        },
        "outputId": "2fb2124b-287c-4fbf-db72-53e94061ed85"
      },
      "source": [
        "y_test_pred = (model.predict(X_test) > 0.5) * 1\n",
        "\n",
        "y_test_class = np.argmax(y_test, axis=1)\n",
        "\n",
        "y_test_pred_class = np.argmax(y_test_pred, axis=1)\n",
        "\n",
        "sns.heatmap(confusion_matrix(y_test_class, y_test_pred_class), annot=True)"
      ],
      "execution_count": 22,
      "outputs": [
        {
          "output_type": "execute_result",
          "data": {
            "text/plain": [
              "<matplotlib.axes._subplots.AxesSubplot at 0x7fe68256f898>"
            ]
          },
          "metadata": {
            "tags": []
          },
          "execution_count": 22
        },
        {
          "output_type": "display_data",
          "data": {
            "image/png": "[encoded data removed]",
            "text/plain": [
              "<Figure size 432x288 with 2 Axes>"
            ]
          },
          "metadata": {
            "tags": [],
            "needs_background": "light"
          }
        }
      ]
    },
    {
      "cell_type": "code",
      "metadata": {
        "colab": {
          "base_uri": "https://localhost:8080/",
          "height": 285
        },
        "id": "mDGIDXQJ66io",
        "outputId": "018ba1a3-5d11-41ca-9b88-8e98796e071f"
      },
      "source": [
        "y_train_pred = (model.predict(X_train) > 0.5) * 1\n",
        "\n",
        "y_train_class = np.argmax(y_train, axis=1)\n",
        "\n",
        "y_train_pred_class = np.argmax(y_train_pred, axis=1)\n",
        "\n",
        "sns.heatmap(confusion_matrix(y_train_class, y_train_pred_class), annot=True)\n",
        "\n"
      ],
      "execution_count": 23,
      "outputs": [
        {
          "output_type": "execute_result",
          "data": {
            "text/plain": [
              "<matplotlib.axes._subplots.AxesSubplot at 0x7fe67ff61978>"
            ]
          },
          "metadata": {
            "tags": []
          },
          "execution_count": 23
        },
        {
          "output_type": "display_data",
          "data": {
            "image/png": "[encoded data removed]",
            "text/plain": [
              "<Figure size 432x288 with 2 Axes>"
            ]
          },
          "metadata": {
            "tags": [],
            "needs_background": "light"
          }
        }
      ]
    }
  ]
}