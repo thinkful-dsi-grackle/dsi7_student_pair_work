{
  "nbformat": 4,
  "nbformat_minor": 0,
  "metadata": {
    "kernelspec": {
      "display_name": "Python 3",
      "language": "python",
      "name": "python3"
    },
    "language_info": {
      "codemirror_mode": {
        "name": "ipython",
        "version": 3
      },
      "file_extension": ".py",
      "mimetype": "text/x-python",
      "name": "python",
      "nbconvert_exporter": "python",
      "pygments_lexer": "ipython3",
      "version": "3.7.0"
    },
    "colab": {
      "name": "Gee_D80_L1_LSTM.ipynb",
      "provenance": [],
      "collapsed_sections": []
    },
    "accelerator": "GPU"
  },
  "cells": [
    {
      "cell_type": "markdown",
      "metadata": {
        "id": "s3b2_cqaKWkw"
      },
      "source": [
        "## Long Short-Term Memory \n",
        "\n",
        "In this assignment, we will learn about LSTM models. We will create an LSTM model for time series prediction."
      ]
    },
    {
      "cell_type": "code",
      "metadata": {
        "id": "R4y9PCtS-dVQ",
        "colab": {
          "base_uri": "https://localhost:8080/"
        },
        "outputId": "e21fbe2a-865b-4a8d-ec35-b2541f93b93d"
      },
      "source": [
        "from google.colab import drive\n",
        "drive.mount('/content/drive')"
      ],
      "execution_count": 2,
      "outputs": [
        {
          "output_type": "stream",
          "text": [
            "Mounted at /content/drive\n"
          ],
          "name": "stdout"
        }
      ]
    },
    {
      "cell_type": "code",
      "metadata": {
        "id": "k0a6OKp4KWkz"
      },
      "source": [
        "import numpy as np\n",
        "import os\n",
        "import pandas as pd\n",
        "\n",
        "from tensorflow.keras.models import Sequential\n",
        "from tensorflow.keras.layers import Dense, LSTM, Dropout, Flatten\n",
        "from tensorflow.keras.utils import to_categorical"
      ],
      "execution_count": 3,
      "outputs": []
    },
    {
      "cell_type": "markdown",
      "metadata": {
        "id": "UY5p0gThKWk1"
      },
      "source": [
        "Below is a function for loading time series data collected by sensors. There are 9 different files, We have data about body acceleration, body gyro, and total acceleration for the x, y, and z axis"
      ]
    },
    {
      "cell_type": "code",
      "metadata": {
        "id": "kAhD_8wwKWk2"
      },
      "source": [
        "def load_func(path, file_ind=False):\n",
        "    data_list = []\n",
        "    if file_ind:\n",
        "        filenames = [path]\n",
        "    else:\n",
        "        files = os.listdir(path)\n",
        "        filenames = [path + '/' + f for f in files]\n",
        "    for f in filenames:\n",
        "        dataframe = pd.read_csv(f, header=None, delim_whitespace=True)\n",
        "        data_list.append(dataframe.values)\n",
        "    if len(data_list) > 1:\n",
        "        return np.dstack(data_list)\n",
        "    else:\n",
        "        return data_list[0]"
      ],
      "execution_count": 4,
      "outputs": []
    },
    {
      "cell_type": "code",
      "metadata": {
        "id": "06u-u8e4KWk4",
        "colab": {
          "base_uri": "https://localhost:8080/"
        },
        "outputId": "4e8e334a-0986-4f94-9172-0121500764df"
      },
      "source": [
        "os.listdir('/content/drive/MyDrive/python_for_data_scientists/UCI HAR Dataset/train/Inertial Signals/')"
      ],
      "execution_count": 28,
      "outputs": [
        {
          "output_type": "execute_result",
          "data": {
            "text/plain": [
              "['body_acc_x_train.txt',\n",
              " 'body_acc_z_train.txt',\n",
              " 'total_acc_y_train.txt',\n",
              " 'body_gyro_z_train.txt',\n",
              " 'total_acc_x_train.txt',\n",
              " 'body_gyro_y_train.txt',\n",
              " 'body_gyro_x_train.txt',\n",
              " 'body_acc_y_train.txt',\n",
              " 'total_acc_z_train.txt']"
            ]
          },
          "metadata": {
            "tags": []
          },
          "execution_count": 28
        }
      ]
    },
    {
      "cell_type": "code",
      "metadata": {
        "id": "c5_0OBVeKWk7"
      },
      "source": [
        "X_train = load_func(\"/content/drive/MyDrive/python_for_data_scientists/UCI HAR Dataset/train/Inertial Signals\")\n",
        "X_test = load_func(\"/content/drive/MyDrive/python_for_data_scientists/UCI HAR Dataset/test/Inertial Signals\")\n",
        "y_train_cat = load_func('/content/drive/MyDrive/python_for_data_scientists/UCI HAR Dataset/train/y_train.txt', True)\n",
        "y_test_cat = load_func('/content/drive/MyDrive/python_for_data_scientists/UCI HAR Dataset/test/y_test.txt', True)"
      ],
      "execution_count": 31,
      "outputs": []
    },
    {
      "cell_type": "markdown",
      "metadata": {
        "id": "Rgw_29IQKWk8"
      },
      "source": [
        "Print the dimensions of both the predictor variables and the target."
      ]
    },
    {
      "cell_type": "code",
      "metadata": {
        "id": "BBiwN-zUKWk9",
        "colab": {
          "base_uri": "https://localhost:8080/"
        },
        "outputId": "e4b436c7-36bc-43ed-ad8a-7d8aa8e6252e"
      },
      "source": [
        "# Answer below:\n",
        "print(X_train.shape)\n",
        "print(X_test.shape)\n",
        "print(y_train_cat.shape)\n",
        "print(y_test_cat.shape)"
      ],
      "execution_count": 33,
      "outputs": [
        {
          "output_type": "stream",
          "text": [
            "(7352, 128, 9)\n",
            "(2947, 128, 9)\n",
            "(7352, 1)\n",
            "(2947, 1)\n"
          ],
          "name": "stdout"
        }
      ]
    },
    {
      "cell_type": "markdown",
      "metadata": {
        "id": "2rL-Y9KFKWk-"
      },
      "source": [
        "The target variable is categorical. One hot encode the target variable."
      ]
    },
    {
      "cell_type": "code",
      "metadata": {
        "id": "3-WN2Tq7MskH"
      },
      "source": [
        "y = pd.DataFrame(y_train_cat)"
      ],
      "execution_count": 34,
      "outputs": []
    },
    {
      "cell_type": "code",
      "metadata": {
        "colab": {
          "base_uri": "https://localhost:8080/"
        },
        "id": "M21VlJWMM3fZ",
        "outputId": "10edda62-4d90-4acd-f98f-7ab182705448"
      },
      "source": [
        "y[0].unique()"
      ],
      "execution_count": 35,
      "outputs": [
        {
          "output_type": "execute_result",
          "data": {
            "text/plain": [
              "array([5, 4, 6, 1, 3, 2])"
            ]
          },
          "metadata": {
            "tags": []
          },
          "execution_count": 35
        }
      ]
    },
    {
      "cell_type": "code",
      "metadata": {
        "id": "unHoYH7uBo6N"
      },
      "source": [
        "from sklearn.preprocessing import OneHotEncoder"
      ],
      "execution_count": 36,
      "outputs": []
    },
    {
      "cell_type": "code",
      "metadata": {
        "id": "qi_SpkHBJ1zP"
      },
      "source": [
        "hottrain = to_categorical(y_train_cat)\r\n",
        "hottest = to_categorical(y_test_cat)"
      ],
      "execution_count": 37,
      "outputs": []
    },
    {
      "cell_type": "code",
      "metadata": {
        "colab": {
          "base_uri": "https://localhost:8080/"
        },
        "id": "A8Ii2zw1N6qc",
        "outputId": "5937f45d-39ff-4399-9d93-6673720d48d3"
      },
      "source": [
        "print(hottrain.shape)\r\n",
        "print(hottest.shape)"
      ],
      "execution_count": 38,
      "outputs": [
        {
          "output_type": "stream",
          "text": [
            "(7352, 7)\n",
            "(2947, 7)\n"
          ],
          "name": "stdout"
        }
      ]
    },
    {
      "cell_type": "code",
      "metadata": {
        "id": "2BzBC9QNKWk_"
      },
      "source": [
        "# Answer below:\n",
        "onehot = OneHotEncoder(sparse=False)\n",
        "trainhot = onehot.fit_transform(y_train_cat)\n",
        "testhot = onehot.transform(y_test_cat)"
      ],
      "execution_count": 39,
      "outputs": []
    },
    {
      "cell_type": "code",
      "metadata": {
        "colab": {
          "base_uri": "https://localhost:8080/"
        },
        "id": "Bdzn9WEuCPOj",
        "outputId": "efadb788-9f96-4c01-f183-10f88077fe3f"
      },
      "source": [
        "print(trainhot.shape)\r\n",
        "print(testhot.shape)"
      ],
      "execution_count": 40,
      "outputs": [
        {
          "output_type": "stream",
          "text": [
            "(7352, 6)\n",
            "(2947, 6)\n"
          ],
          "name": "stdout"
        }
      ]
    },
    {
      "cell_type": "code",
      "metadata": {
        "colab": {
          "base_uri": "https://localhost:8080/"
        },
        "id": "A18vpOJZR377",
        "outputId": "46c2a91e-efc1-41a6-ebc4-3195dbff45c8"
      },
      "source": [
        "X_train.shape"
      ],
      "execution_count": 41,
      "outputs": [
        {
          "output_type": "execute_result",
          "data": {
            "text/plain": [
              "(7352, 128, 9)"
            ]
          },
          "metadata": {
            "tags": []
          },
          "execution_count": 41
        }
      ]
    },
    {
      "cell_type": "markdown",
      "metadata": {
        "id": "HeKcEUwsKWlA"
      },
      "source": [
        "Create a model containing an LSTM layer with unit size 100, and input shape that is the tuple containing the number of columns in X and the number of files in X.\n",
        "\n",
        "The next layer is a dropout layer. Choose 0.5 for the proportion. Then add a dense layer of unit size 100 and finally an output dense layer. "
      ]
    },
    {
      "cell_type": "code",
      "metadata": {
        "id": "ujymmzAFKWlB"
      },
      "source": [
        "# Answer below:\n",
        "model = Sequential()\n",
        "model.add(LSTM(100, input_shape=(X_train.shape[1], X_train.shape[2])))\n",
        "model.add(Dropout(.5))\n",
        "model.add(Dense(100, activation='relu'))\n",
        "model.add(Dense(7, activation='softmax'))"
      ],
      "execution_count": 42,
      "outputs": []
    },
    {
      "cell_type": "markdown",
      "metadata": {
        "id": "GX4stdzAKWlC"
      },
      "source": [
        "Print the model summary to ensure you have the correct number of parameters."
      ]
    },
    {
      "cell_type": "code",
      "metadata": {
        "id": "AbUNEvSJKWlE",
        "colab": {
          "base_uri": "https://localhost:8080/"
        },
        "outputId": "33e91bbd-8c6d-44b8-91a9-8bbcb18bb79a"
      },
      "source": [
        "# Answer below:\n",
        "model.summary()"
      ],
      "execution_count": 43,
      "outputs": [
        {
          "output_type": "stream",
          "text": [
            "Model: \"sequential_2\"\n",
            "_________________________________________________________________\n",
            "Layer (type)                 Output Shape              Param #   \n",
            "=================================================================\n",
            "lstm_2 (LSTM)                (None, 100)               44000     \n",
            "_________________________________________________________________\n",
            "dropout_2 (Dropout)          (None, 100)               0         \n",
            "_________________________________________________________________\n",
            "dense_4 (Dense)              (None, 100)               10100     \n",
            "_________________________________________________________________\n",
            "dense_5 (Dense)              (None, 7)                 707       \n",
            "=================================================================\n",
            "Total params: 54,807\n",
            "Trainable params: 54,807\n",
            "Non-trainable params: 0\n",
            "_________________________________________________________________\n"
          ],
          "name": "stdout"
        }
      ]
    },
    {
      "cell_type": "markdown",
      "metadata": {
        "id": "Ww7tK6UwKWlG"
      },
      "source": [
        "Compile and fit the model. Select the appropriate activation, loss, and optimizer.\n",
        "\n",
        "Run the model for 10 epochs with a batch size of 80."
      ]
    },
    {
      "cell_type": "code",
      "metadata": {
        "id": "qdMikFoMKWlG",
        "colab": {
          "base_uri": "https://localhost:8080/"
        },
        "outputId": "6232fdcc-292b-4bb9-8a7b-5dc662ff3aeb"
      },
      "source": [
        "# Answer below:\n",
        "model.compile(optimizer='adam', loss='categorical_crossentropy', metrics=['accuracy'])\n",
        "history = model.fit(X_train, hottrain, validation_data=(X_test, hottest), batch_size=80, epochs=10)"
      ],
      "execution_count": 44,
      "outputs": [
        {
          "output_type": "stream",
          "text": [
            "Epoch 1/10\n",
            "92/92 [==============================] - 3s 16ms/step - loss: 1.5675 - accuracy: 0.3622 - val_loss: 1.9704 - val_accuracy: 0.2803\n",
            "Epoch 2/10\n",
            "92/92 [==============================] - 1s 10ms/step - loss: 0.9426 - accuracy: 0.5903 - val_loss: 2.2519 - val_accuracy: 0.2810\n",
            "Epoch 3/10\n",
            "92/92 [==============================] - 1s 11ms/step - loss: 0.6904 - accuracy: 0.7032 - val_loss: 2.1043 - val_accuracy: 0.2806\n",
            "Epoch 4/10\n",
            "92/92 [==============================] - 1s 11ms/step - loss: 0.4997 - accuracy: 0.7863 - val_loss: 1.9730 - val_accuracy: 0.2827\n",
            "Epoch 5/10\n",
            "92/92 [==============================] - 1s 10ms/step - loss: 0.4284 - accuracy: 0.8394 - val_loss: 2.4868 - val_accuracy: 0.2687\n",
            "Epoch 6/10\n",
            "92/92 [==============================] - 1s 10ms/step - loss: 0.2504 - accuracy: 0.9141 - val_loss: 3.0735 - val_accuracy: 0.2430\n",
            "Epoch 7/10\n",
            "92/92 [==============================] - 1s 11ms/step - loss: 0.1834 - accuracy: 0.9358 - val_loss: 3.3015 - val_accuracy: 0.2538\n",
            "Epoch 8/10\n",
            "92/92 [==============================] - 1s 10ms/step - loss: 0.1810 - accuracy: 0.9316 - val_loss: 4.0754 - val_accuracy: 0.2250\n",
            "Epoch 9/10\n",
            "92/92 [==============================] - 1s 11ms/step - loss: 0.1706 - accuracy: 0.9389 - val_loss: 4.0018 - val_accuracy: 0.2565\n",
            "Epoch 10/10\n",
            "92/92 [==============================] - 1s 10ms/step - loss: 0.1419 - accuracy: 0.9429 - val_loss: 4.4118 - val_accuracy: 0.2223\n"
          ],
          "name": "stdout"
        }
      ]
    },
    {
      "cell_type": "markdown",
      "metadata": {
        "id": "h-_IsmrcKWlI"
      },
      "source": [
        "Print the confusion matrix for the test data."
      ]
    },
    {
      "cell_type": "code",
      "metadata": {
        "id": "ceYZ8zW4KWlK"
      },
      "source": [
        "from sklearn.metrics import confusion_matrix"
      ],
      "execution_count": 45,
      "outputs": []
    },
    {
      "cell_type": "code",
      "metadata": {
        "id": "bDLwv62wKWlI"
      },
      "source": [
        "# Answer below:\n",
        "preds = np.argmax(model.predict(X_test), axis=-1)"
      ],
      "execution_count": 46,
      "outputs": []
    },
    {
      "cell_type": "code",
      "metadata": {
        "id": "y1s6YPd8JpFQ"
      },
      "source": [
        "true = np.argmax(testhot, axis=1)"
      ],
      "execution_count": 47,
      "outputs": []
    },
    {
      "cell_type": "code",
      "metadata": {
        "colab": {
          "base_uri": "https://localhost:8080/"
        },
        "id": "Yr-EAm5KKLdO",
        "outputId": "79b4a542-0e3e-48db-ff21-0d2cc26acbde"
      },
      "source": [
        "# Either print with unencoded target\r\n",
        "print(confusion_matrix(y_test_cat, preds))"
      ],
      "execution_count": 48,
      "outputs": [
        {
          "output_type": "stream",
          "text": [
            "[[  0   0 494   0   0   2]\n",
            " [  0  22 440   0   0   9]\n",
            " [  0   5 374   0   0  41]\n",
            " [  0   1 490   0   0   0]\n",
            " [  0   0 531   0   0   1]\n",
            " [  0   0 276   2   0 259]]\n"
          ],
          "name": "stdout"
        }
      ]
    },
    {
      "cell_type": "code",
      "metadata": {
        "colab": {
          "base_uri": "https://localhost:8080/"
        },
        "id": "8vTKGD2DI-RK",
        "outputId": "c5311cc8-a576-48a1-956c-100c015b2759"
      },
      "source": [
        "# Or print with np.argmax decoder? function\r\n",
        "print(confusion_matrix(true, preds))"
      ],
      "execution_count": 49,
      "outputs": [
        {
          "output_type": "stream",
          "text": [
            "[[  0   0   0 494   0   0   2]\n",
            " [  0   0  22 440   0   0   9]\n",
            " [  0   0   5 374   0   0  41]\n",
            " [  0   0   1 490   0   0   0]\n",
            " [  0   0   0 531   0   0   1]\n",
            " [  0   0   0 276   2   0 259]\n",
            " [  0   0   0   0   0   0   0]]\n"
          ],
          "name": "stdout"
        }
      ]
    },
    {
      "cell_type": "markdown",
      "metadata": {
        "id": "fquD8kzZNoeP"
      },
      "source": [
        ""
      ]
    },
    {
      "cell_type": "code",
      "metadata": {
        "colab": {
          "base_uri": "https://localhost:8080/"
        },
        "id": "NZQNIYPWNoyV",
        "outputId": "1537062f-6acf-4631-c13a-7cf76daa6248"
      },
      "source": [
        "model1 = Sequential()\r\n",
        "model1.add(LSTM(100, input_shape=(X_train.shape[1], X_train.shape[2])))\r\n",
        "model1.add(Dropout(.5))\r\n",
        "model1.add(Dense(100, activation='relu'))\r\n",
        "model1.add(Dense(6, activation='softmax'))\r\n",
        "model1.compile(optimizer='adam', loss='categorical_crossentropy', metrics=['accuracy'])\r\n",
        "history1 = model1.fit(X_train, trainhot, validation_data=(X_test, testhot), batch_size=80, epochs=10)"
      ],
      "execution_count": 50,
      "outputs": [
        {
          "output_type": "stream",
          "text": [
            "Epoch 1/10\n",
            "92/92 [==============================] - 3s 18ms/step - loss: 1.3874 - accuracy: 0.4354 - val_loss: 2.7817 - val_accuracy: 0.1551\n",
            "Epoch 2/10\n",
            "92/92 [==============================] - 1s 11ms/step - loss: 0.7803 - accuracy: 0.6719 - val_loss: 1.8750 - val_accuracy: 0.2372\n",
            "Epoch 3/10\n",
            "92/92 [==============================] - 1s 10ms/step - loss: 0.5495 - accuracy: 0.7902 - val_loss: 2.6531 - val_accuracy: 0.3186\n",
            "Epoch 4/10\n",
            "92/92 [==============================] - 1s 11ms/step - loss: 0.4823 - accuracy: 0.8158 - val_loss: 3.9380 - val_accuracy: 0.2620\n",
            "Epoch 5/10\n",
            "92/92 [==============================] - 1s 11ms/step - loss: 0.2536 - accuracy: 0.9166 - val_loss: 4.3252 - val_accuracy: 0.2650\n",
            "Epoch 6/10\n",
            "92/92 [==============================] - 1s 11ms/step - loss: 0.2161 - accuracy: 0.9286 - val_loss: 5.3879 - val_accuracy: 0.2562\n",
            "Epoch 7/10\n",
            "92/92 [==============================] - 1s 10ms/step - loss: 0.2737 - accuracy: 0.9011 - val_loss: 5.5447 - val_accuracy: 0.2260\n",
            "Epoch 8/10\n",
            "92/92 [==============================] - 1s 11ms/step - loss: 0.1810 - accuracy: 0.9337 - val_loss: 6.6404 - val_accuracy: 0.2094\n",
            "Epoch 9/10\n",
            "92/92 [==============================] - 1s 11ms/step - loss: 0.1459 - accuracy: 0.9416 - val_loss: 6.9802 - val_accuracy: 0.2212\n",
            "Epoch 10/10\n",
            "92/92 [==============================] - 1s 11ms/step - loss: 0.1280 - accuracy: 0.9482 - val_loss: 5.7784 - val_accuracy: 0.2633\n"
          ],
          "name": "stdout"
        }
      ]
    },
    {
      "cell_type": "code",
      "metadata": {
        "colab": {
          "base_uri": "https://localhost:8080/"
        },
        "id": "jt3PPE0eTa1G",
        "outputId": "a8103a2c-dda9-4ccf-ce4e-90426127bd94"
      },
      "source": [
        "model1.summary()"
      ],
      "execution_count": 51,
      "outputs": [
        {
          "output_type": "stream",
          "text": [
            "Model: \"sequential_3\"\n",
            "_________________________________________________________________\n",
            "Layer (type)                 Output Shape              Param #   \n",
            "=================================================================\n",
            "lstm_3 (LSTM)                (None, 100)               44000     \n",
            "_________________________________________________________________\n",
            "dropout_3 (Dropout)          (None, 100)               0         \n",
            "_________________________________________________________________\n",
            "dense_6 (Dense)              (None, 100)               10100     \n",
            "_________________________________________________________________\n",
            "dense_7 (Dense)              (None, 6)                 606       \n",
            "=================================================================\n",
            "Total params: 54,706\n",
            "Trainable params: 54,706\n",
            "Non-trainable params: 0\n",
            "_________________________________________________________________\n"
          ],
          "name": "stdout"
        }
      ]
    },
    {
      "cell_type": "code",
      "metadata": {
        "colab": {
          "base_uri": "https://localhost:8080/",
          "height": 282
        },
        "id": "GbpwuSnka2zD",
        "outputId": "64bea662-2164-4cab-df6e-285d93863414"
      },
      "source": [
        "import seaborn as sns\r\n",
        "cm = confusion_matrix(y_test_cat, preds)\r\n",
        "sns.heatmap(cm, annot=True, cmap='Blues')"
      ],
      "execution_count": 52,
      "outputs": [
        {
          "output_type": "execute_result",
          "data": {
            "text/plain": [
              "<matplotlib.axes._subplots.AxesSubplot at 0x7f4f7f31ee10>"
            ]
          },
          "metadata": {
            "tags": []
          },
          "execution_count": 52
        },
        {
          "output_type": "display_data",
          "data": {
            "image/png": "[encoded data removed]",
            "text/plain": [
              "<Figure size 432x288 with 2 Axes>"
            ]
          },
          "metadata": {
            "tags": [],
            "needs_background": "light"
          }
        }
      ]
    },
    {
      "cell_type": "code",
      "metadata": {
        "colab": {
          "base_uri": "https://localhost:8080/"
        },
        "id": "aY1lXCTcmMfG",
        "outputId": "5861a0a2-807e-4d1d-c022-871808641a86"
      },
      "source": [
        "confusion_matrix(y_test_cat, preds)"
      ],
      "execution_count": 53,
      "outputs": [
        {
          "output_type": "execute_result",
          "data": {
            "text/plain": [
              "array([[  0,   0, 494,   0,   0,   2],\n",
              "       [  0,  22, 440,   0,   0,   9],\n",
              "       [  0,   5, 374,   0,   0,  41],\n",
              "       [  0,   1, 490,   0,   0,   0],\n",
              "       [  0,   0, 531,   0,   0,   1],\n",
              "       [  0,   0, 276,   2,   0, 259]])"
            ]
          },
          "metadata": {
            "tags": []
          },
          "execution_count": 53
        }
      ]
    }
  ]
}