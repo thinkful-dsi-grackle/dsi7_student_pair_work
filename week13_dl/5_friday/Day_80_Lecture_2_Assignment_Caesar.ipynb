{
  "nbformat": 4,
  "nbformat_minor": 0,
  "metadata": {
    "kernelspec": {
      "display_name": "Python 3",
      "language": "python",
      "name": "python3"
    },
    "language_info": {
      "codemirror_mode": {
        "name": "ipython",
        "version": 3
      },
      "file_extension": ".py",
      "mimetype": "text/x-python",
      "name": "python",
      "nbconvert_exporter": "python",
      "pygments_lexer": "ipython3",
      "version": "3.7.0"
    },
    "colab": {
      "name": "Day 80 Lecture 2 Assignment_Caesar.ipynb",
      "provenance": [],
      "collapsed_sections": []
    },
    "accelerator": "GPU"
  },
  "cells": [
    {
      "cell_type": "markdown",
      "metadata": {
        "id": "mkd31of4jh35"
      },
      "source": [
        "## Day 80 Lecture 2 Assignment\n",
        "\n",
        "In this assignment, we will learn how to use the other layers to improve our model performance."
      ]
    },
    {
      "cell_type": "code",
      "metadata": {
        "id": "GtUi79zbjh36"
      },
      "source": [
        "import numpy as np\n",
        "import pandas as pd\n",
        "\n",
        "from tensorflow.keras.layers import Input, Dense\n",
        "from tensorflow.keras.models import Model"
      ],
      "execution_count": 1,
      "outputs": []
    },
    {
      "cell_type": "markdown",
      "metadata": {
        "id": "aZ2DH6Ndjh39"
      },
      "source": [
        "We will explore a dataset containing information about twitter users and will detect whether or not the user is a bot."
      ]
    },
    {
      "cell_type": "code",
      "metadata": {
        "id": "cj8bsG8Ijh3-"
      },
      "source": [
        "twitter = pd.read_csv('https://tf-assets-prod.s3.amazonaws.com/tf-curric/data-science/training_data_2_csv_UTF.csv')"
      ],
      "execution_count": 2,
      "outputs": []
    },
    {
      "cell_type": "code",
      "metadata": {
        "id": "X2MhRde7jh4A",
        "colab": {
          "base_uri": "https://localhost:8080/",
          "height": 513
        },
        "outputId": "7ad25f9e-f052-4162-ed11-7072bbbfe008"
      },
      "source": [
        "twitter.head()"
      ],
      "execution_count": 3,
      "outputs": [
        {
          "output_type": "execute_result",
          "data": {
            "text/html": [
              "<div>\n",
              "<style scoped>\n",
              "    .dataframe tbody tr th:only-of-type {\n",
              "        vertical-align: middle;\n",
              "    }\n",
              "\n",
              "    .dataframe tbody tr th {\n",
              "        vertical-align: top;\n",
              "    }\n",
              "\n",
              "    .dataframe thead th {\n",
              "        text-align: right;\n",
              "    }\n",
              "</style>\n",
              "<table border=\"1\" class=\"dataframe\">\n",
              "  <thead>\n",
              "    <tr style=\"text-align: right;\">\n",
              "      <th></th>\n",
              "      <th>id</th>\n",
              "      <th>id_str</th>\n",
              "      <th>screen_name</th>\n",
              "      <th>location</th>\n",
              "      <th>description</th>\n",
              "      <th>url</th>\n",
              "      <th>followers_count</th>\n",
              "      <th>friends_count</th>\n",
              "      <th>listed_count</th>\n",
              "      <th>created_at</th>\n",
              "      <th>favourites_count</th>\n",
              "      <th>verified</th>\n",
              "      <th>statuses_count</th>\n",
              "      <th>lang</th>\n",
              "      <th>status</th>\n",
              "      <th>default_profile</th>\n",
              "      <th>default_profile_image</th>\n",
              "      <th>has_extended_profile</th>\n",
              "      <th>name</th>\n",
              "      <th>bot</th>\n",
              "    </tr>\n",
              "  </thead>\n",
              "  <tbody>\n",
              "    <tr>\n",
              "      <th>0</th>\n",
              "      <td>8.160000e+17</td>\n",
              "      <td>\"815745789754417152\"</td>\n",
              "      <td>\"HoustonPokeMap\"</td>\n",
              "      <td>\"Houston, TX\"</td>\n",
              "      <td>\"Rare and strong PokŽmon in Houston, TX. See m...</td>\n",
              "      <td>\"https://t.co/dnWuDbFRkt\"</td>\n",
              "      <td>1291</td>\n",
              "      <td>0</td>\n",
              "      <td>10</td>\n",
              "      <td>\"Mon Jan 02 02:25:26 +0000 2017\"</td>\n",
              "      <td>0</td>\n",
              "      <td>False</td>\n",
              "      <td>78554</td>\n",
              "      <td>\"en\"</td>\n",
              "      <td>{\\r      \"created_at\": \"Sun Mar 12 15:44:04 +0...</td>\n",
              "      <td>True</td>\n",
              "      <td>False</td>\n",
              "      <td>False</td>\n",
              "      <td>\"Houston PokŽ Alert\"</td>\n",
              "      <td>1</td>\n",
              "    </tr>\n",
              "    <tr>\n",
              "      <th>1</th>\n",
              "      <td>4.843621e+09</td>\n",
              "      <td>4843621225</td>\n",
              "      <td>kernyeahx</td>\n",
              "      <td>Templeville town, MD, USA</td>\n",
              "      <td>From late 2014 Socium Marketplace will make sh...</td>\n",
              "      <td>NaN</td>\n",
              "      <td>1</td>\n",
              "      <td>349</td>\n",
              "      <td>0</td>\n",
              "      <td>2/1/2016 7:37</td>\n",
              "      <td>38</td>\n",
              "      <td>False</td>\n",
              "      <td>31</td>\n",
              "      <td>en</td>\n",
              "      <td>NaN</td>\n",
              "      <td>True</td>\n",
              "      <td>False</td>\n",
              "      <td>False</td>\n",
              "      <td>Keri Nelson</td>\n",
              "      <td>1</td>\n",
              "    </tr>\n",
              "    <tr>\n",
              "      <th>2</th>\n",
              "      <td>4.303727e+09</td>\n",
              "      <td>4303727112</td>\n",
              "      <td>mattlieberisbot</td>\n",
              "      <td>NaN</td>\n",
              "      <td>Inspired by the smart, funny folks at @replyal...</td>\n",
              "      <td>https://t.co/P1e1o0m4KC</td>\n",
              "      <td>1086</td>\n",
              "      <td>0</td>\n",
              "      <td>14</td>\n",
              "      <td>Fri Nov 20 18:53:22 +0000 2015</td>\n",
              "      <td>0</td>\n",
              "      <td>False</td>\n",
              "      <td>713</td>\n",
              "      <td>en</td>\n",
              "      <td>{'retweeted': False, 'is_quote_status': False,...</td>\n",
              "      <td>True</td>\n",
              "      <td>False</td>\n",
              "      <td>False</td>\n",
              "      <td>Matt Lieber Is Bot</td>\n",
              "      <td>1</td>\n",
              "    </tr>\n",
              "    <tr>\n",
              "      <th>3</th>\n",
              "      <td>3.063139e+09</td>\n",
              "      <td>3063139353</td>\n",
              "      <td>sc_papers</td>\n",
              "      <td>NaN</td>\n",
              "      <td>NaN</td>\n",
              "      <td>NaN</td>\n",
              "      <td>33</td>\n",
              "      <td>0</td>\n",
              "      <td>8</td>\n",
              "      <td>2/25/2015 20:11</td>\n",
              "      <td>0</td>\n",
              "      <td>False</td>\n",
              "      <td>676</td>\n",
              "      <td>en</td>\n",
              "      <td>Construction of human anti-tetanus single-chai...</td>\n",
              "      <td>True</td>\n",
              "      <td>True</td>\n",
              "      <td>False</td>\n",
              "      <td>single cell papers</td>\n",
              "      <td>1</td>\n",
              "    </tr>\n",
              "    <tr>\n",
              "      <th>4</th>\n",
              "      <td>2.955142e+09</td>\n",
              "      <td>2955142070</td>\n",
              "      <td>lucarivera16</td>\n",
              "      <td>Dublin, United States</td>\n",
              "      <td>Inspiring cooks everywhere since 1956.</td>\n",
              "      <td>NaN</td>\n",
              "      <td>11</td>\n",
              "      <td>745</td>\n",
              "      <td>0</td>\n",
              "      <td>1/1/2015 17:44</td>\n",
              "      <td>146</td>\n",
              "      <td>False</td>\n",
              "      <td>185</td>\n",
              "      <td>en</td>\n",
              "      <td>NaN</td>\n",
              "      <td>False</td>\n",
              "      <td>False</td>\n",
              "      <td>False</td>\n",
              "      <td>lucarivera16</td>\n",
              "      <td>1</td>\n",
              "    </tr>\n",
              "  </tbody>\n",
              "</table>\n",
              "</div>"
            ],
            "text/plain": [
              "             id                id_str  ...                  name bot\n",
              "0  8.160000e+17  \"815745789754417152\"  ...  \"Houston PokŽ Alert\"   1\n",
              "1  4.843621e+09            4843621225  ...           Keri Nelson   1\n",
              "2  4.303727e+09            4303727112  ...    Matt Lieber Is Bot   1\n",
              "3  3.063139e+09            3063139353  ...    single cell papers   1\n",
              "4  2.955142e+09            2955142070  ...          lucarivera16   1\n",
              "\n",
              "[5 rows x 20 columns]"
            ]
          },
          "metadata": {
            "tags": []
          },
          "execution_count": 3
        }
      ]
    },
    {
      "cell_type": "code",
      "metadata": {
        "colab": {
          "base_uri": "https://localhost:8080/"
        },
        "id": "VESaWMyjzqyY",
        "outputId": "a508ad59-c6ae-4204-fe46-9b50c6ea1c90"
      },
      "source": [
        "twitter.info()"
      ],
      "execution_count": 4,
      "outputs": [
        {
          "output_type": "stream",
          "text": [
            "<class 'pandas.core.frame.DataFrame'>\n",
            "RangeIndex: 2797 entries, 0 to 2796\n",
            "Data columns (total 20 columns):\n",
            " #   Column                 Non-Null Count  Dtype  \n",
            "---  ------                 --------------  -----  \n",
            " 0   id                     2797 non-null   float64\n",
            " 1   id_str                 2797 non-null   object \n",
            " 2   screen_name            2797 non-null   object \n",
            " 3   location               1777 non-null   object \n",
            " 4   description            2394 non-null   object \n",
            " 5   url                    1455 non-null   object \n",
            " 6   followers_count        2797 non-null   int64  \n",
            " 7   friends_count          2797 non-null   int64  \n",
            " 8   listed_count           2797 non-null   int64  \n",
            " 9   created_at             2797 non-null   object \n",
            " 10  favourites_count       2797 non-null   int64  \n",
            " 11  verified               2797 non-null   bool   \n",
            " 12  statuses_count         2797 non-null   int64  \n",
            " 13  lang                   2797 non-null   object \n",
            " 14  status                 2508 non-null   object \n",
            " 15  default_profile        2797 non-null   bool   \n",
            " 16  default_profile_image  2797 non-null   bool   \n",
            " 17  has_extended_profile   2698 non-null   object \n",
            " 18  name                   2797 non-null   object \n",
            " 19  bot                    2797 non-null   int64  \n",
            "dtypes: bool(3), float64(1), int64(6), object(10)\n",
            "memory usage: 379.8+ KB\n"
          ],
          "name": "stdout"
        }
      ]
    },
    {
      "cell_type": "code",
      "metadata": {
        "id": "zV0g49h5jh4D",
        "colab": {
          "base_uri": "https://localhost:8080/"
        },
        "outputId": "4e226f0e-e4a2-4196-e349-a588f2ff9b33"
      },
      "source": [
        "twitter.shape"
      ],
      "execution_count": 5,
      "outputs": [
        {
          "output_type": "execute_result",
          "data": {
            "text/plain": [
              "(2797, 20)"
            ]
          },
          "metadata": {
            "tags": []
          },
          "execution_count": 5
        }
      ]
    },
    {
      "cell_type": "markdown",
      "metadata": {
        "id": "dsXMG4zajh4E"
      },
      "source": [
        "Start by getting rid of all columns that are not useful."
      ]
    },
    {
      "cell_type": "code",
      "metadata": {
        "colab": {
          "base_uri": "https://localhost:8080/",
          "height": 513
        },
        "id": "3K4WxRSdmaL3",
        "outputId": "68771088-b540-49d4-8665-50854ca3642c"
      },
      "source": [
        "twitter = twitter[list(twitter.columns[2:])]\r\n",
        "twitter.head()"
      ],
      "execution_count": 6,
      "outputs": [
        {
          "output_type": "execute_result",
          "data": {
            "text/html": [
              "<div>\n",
              "<style scoped>\n",
              "    .dataframe tbody tr th:only-of-type {\n",
              "        vertical-align: middle;\n",
              "    }\n",
              "\n",
              "    .dataframe tbody tr th {\n",
              "        vertical-align: top;\n",
              "    }\n",
              "\n",
              "    .dataframe thead th {\n",
              "        text-align: right;\n",
              "    }\n",
              "</style>\n",
              "<table border=\"1\" class=\"dataframe\">\n",
              "  <thead>\n",
              "    <tr style=\"text-align: right;\">\n",
              "      <th></th>\n",
              "      <th>screen_name</th>\n",
              "      <th>location</th>\n",
              "      <th>description</th>\n",
              "      <th>url</th>\n",
              "      <th>followers_count</th>\n",
              "      <th>friends_count</th>\n",
              "      <th>listed_count</th>\n",
              "      <th>created_at</th>\n",
              "      <th>favourites_count</th>\n",
              "      <th>verified</th>\n",
              "      <th>statuses_count</th>\n",
              "      <th>lang</th>\n",
              "      <th>status</th>\n",
              "      <th>default_profile</th>\n",
              "      <th>default_profile_image</th>\n",
              "      <th>has_extended_profile</th>\n",
              "      <th>name</th>\n",
              "      <th>bot</th>\n",
              "    </tr>\n",
              "  </thead>\n",
              "  <tbody>\n",
              "    <tr>\n",
              "      <th>0</th>\n",
              "      <td>\"HoustonPokeMap\"</td>\n",
              "      <td>\"Houston, TX\"</td>\n",
              "      <td>\"Rare and strong PokŽmon in Houston, TX. See m...</td>\n",
              "      <td>\"https://t.co/dnWuDbFRkt\"</td>\n",
              "      <td>1291</td>\n",
              "      <td>0</td>\n",
              "      <td>10</td>\n",
              "      <td>\"Mon Jan 02 02:25:26 +0000 2017\"</td>\n",
              "      <td>0</td>\n",
              "      <td>False</td>\n",
              "      <td>78554</td>\n",
              "      <td>\"en\"</td>\n",
              "      <td>{\\r      \"created_at\": \"Sun Mar 12 15:44:04 +0...</td>\n",
              "      <td>True</td>\n",
              "      <td>False</td>\n",
              "      <td>False</td>\n",
              "      <td>\"Houston PokŽ Alert\"</td>\n",
              "      <td>1</td>\n",
              "    </tr>\n",
              "    <tr>\n",
              "      <th>1</th>\n",
              "      <td>kernyeahx</td>\n",
              "      <td>Templeville town, MD, USA</td>\n",
              "      <td>From late 2014 Socium Marketplace will make sh...</td>\n",
              "      <td>NaN</td>\n",
              "      <td>1</td>\n",
              "      <td>349</td>\n",
              "      <td>0</td>\n",
              "      <td>2/1/2016 7:37</td>\n",
              "      <td>38</td>\n",
              "      <td>False</td>\n",
              "      <td>31</td>\n",
              "      <td>en</td>\n",
              "      <td>NaN</td>\n",
              "      <td>True</td>\n",
              "      <td>False</td>\n",
              "      <td>False</td>\n",
              "      <td>Keri Nelson</td>\n",
              "      <td>1</td>\n",
              "    </tr>\n",
              "    <tr>\n",
              "      <th>2</th>\n",
              "      <td>mattlieberisbot</td>\n",
              "      <td>NaN</td>\n",
              "      <td>Inspired by the smart, funny folks at @replyal...</td>\n",
              "      <td>https://t.co/P1e1o0m4KC</td>\n",
              "      <td>1086</td>\n",
              "      <td>0</td>\n",
              "      <td>14</td>\n",
              "      <td>Fri Nov 20 18:53:22 +0000 2015</td>\n",
              "      <td>0</td>\n",
              "      <td>False</td>\n",
              "      <td>713</td>\n",
              "      <td>en</td>\n",
              "      <td>{'retweeted': False, 'is_quote_status': False,...</td>\n",
              "      <td>True</td>\n",
              "      <td>False</td>\n",
              "      <td>False</td>\n",
              "      <td>Matt Lieber Is Bot</td>\n",
              "      <td>1</td>\n",
              "    </tr>\n",
              "    <tr>\n",
              "      <th>3</th>\n",
              "      <td>sc_papers</td>\n",
              "      <td>NaN</td>\n",
              "      <td>NaN</td>\n",
              "      <td>NaN</td>\n",
              "      <td>33</td>\n",
              "      <td>0</td>\n",
              "      <td>8</td>\n",
              "      <td>2/25/2015 20:11</td>\n",
              "      <td>0</td>\n",
              "      <td>False</td>\n",
              "      <td>676</td>\n",
              "      <td>en</td>\n",
              "      <td>Construction of human anti-tetanus single-chai...</td>\n",
              "      <td>True</td>\n",
              "      <td>True</td>\n",
              "      <td>False</td>\n",
              "      <td>single cell papers</td>\n",
              "      <td>1</td>\n",
              "    </tr>\n",
              "    <tr>\n",
              "      <th>4</th>\n",
              "      <td>lucarivera16</td>\n",
              "      <td>Dublin, United States</td>\n",
              "      <td>Inspiring cooks everywhere since 1956.</td>\n",
              "      <td>NaN</td>\n",
              "      <td>11</td>\n",
              "      <td>745</td>\n",
              "      <td>0</td>\n",
              "      <td>1/1/2015 17:44</td>\n",
              "      <td>146</td>\n",
              "      <td>False</td>\n",
              "      <td>185</td>\n",
              "      <td>en</td>\n",
              "      <td>NaN</td>\n",
              "      <td>False</td>\n",
              "      <td>False</td>\n",
              "      <td>False</td>\n",
              "      <td>lucarivera16</td>\n",
              "      <td>1</td>\n",
              "    </tr>\n",
              "  </tbody>\n",
              "</table>\n",
              "</div>"
            ],
            "text/plain": [
              "        screen_name                   location  ...                  name bot\n",
              "0  \"HoustonPokeMap\"              \"Houston, TX\"  ...  \"Houston PokŽ Alert\"   1\n",
              "1         kernyeahx  Templeville town, MD, USA  ...           Keri Nelson   1\n",
              "2   mattlieberisbot                        NaN  ...    Matt Lieber Is Bot   1\n",
              "3         sc_papers                        NaN  ...    single cell papers   1\n",
              "4      lucarivera16      Dublin, United States  ...          lucarivera16   1\n",
              "\n",
              "[5 rows x 18 columns]"
            ]
          },
          "metadata": {
            "tags": []
          },
          "execution_count": 6
        }
      ]
    },
    {
      "cell_type": "markdown",
      "metadata": {
        "id": "OQBDJyWPjh4H"
      },
      "source": [
        "Next, get rid of all columns that contain more than 30% missing data. After that, remove all rows containing at least one missing observation."
      ]
    },
    {
      "cell_type": "code",
      "metadata": {
        "id": "oiljewDCjh4H",
        "colab": {
          "base_uri": "https://localhost:8080/"
        },
        "outputId": "eb87c68e-982d-4755-9dbd-8ecad502cd60"
      },
      "source": [
        "twitter.isnull().mean()"
      ],
      "execution_count": 7,
      "outputs": [
        {
          "output_type": "execute_result",
          "data": {
            "text/plain": [
              "screen_name              0.000000\n",
              "location                 0.364676\n",
              "description              0.144083\n",
              "url                      0.479800\n",
              "followers_count          0.000000\n",
              "friends_count            0.000000\n",
              "listed_count             0.000000\n",
              "created_at               0.000000\n",
              "favourites_count         0.000000\n",
              "verified                 0.000000\n",
              "statuses_count           0.000000\n",
              "lang                     0.000000\n",
              "status                   0.103325\n",
              "default_profile          0.000000\n",
              "default_profile_image    0.000000\n",
              "has_extended_profile     0.035395\n",
              "name                     0.000000\n",
              "bot                      0.000000\n",
              "dtype: float64"
            ]
          },
          "metadata": {
            "tags": []
          },
          "execution_count": 7
        }
      ]
    },
    {
      "cell_type": "code",
      "metadata": {
        "colab": {
          "base_uri": "https://localhost:8080/"
        },
        "id": "Dz-Q8DQaneJO",
        "outputId": "34b09b6d-ba3a-4120-a6d5-7b76555c290b"
      },
      "source": [
        "limitPer = len(twitter) * .70\r\n",
        "twitter.dropna(thresh=limitPer, axis=1, inplace=True)\r\n",
        "twitter.isnull().mean()"
      ],
      "execution_count": 8,
      "outputs": [
        {
          "output_type": "execute_result",
          "data": {
            "text/plain": [
              "screen_name              0.000000\n",
              "description              0.144083\n",
              "followers_count          0.000000\n",
              "friends_count            0.000000\n",
              "listed_count             0.000000\n",
              "created_at               0.000000\n",
              "favourites_count         0.000000\n",
              "verified                 0.000000\n",
              "statuses_count           0.000000\n",
              "lang                     0.000000\n",
              "status                   0.103325\n",
              "default_profile          0.000000\n",
              "default_profile_image    0.000000\n",
              "has_extended_profile     0.035395\n",
              "name                     0.000000\n",
              "bot                      0.000000\n",
              "dtype: float64"
            ]
          },
          "metadata": {
            "tags": []
          },
          "execution_count": 8
        }
      ]
    },
    {
      "cell_type": "code",
      "metadata": {
        "id": "pf54tYpppwNo"
      },
      "source": [
        "twitter.dropna(inplace=True)"
      ],
      "execution_count": 9,
      "outputs": []
    },
    {
      "cell_type": "markdown",
      "metadata": {
        "id": "_E-SvW3wjh4J"
      },
      "source": [
        "Now we will use our embedding functions from a previous assignment."
      ]
    },
    {
      "cell_type": "code",
      "metadata": {
        "id": "TeZkChWxjh4K"
      },
      "source": [
        "from nltk.corpus import stopwords\n",
        "import re\n",
        "from nltk.stem.porter import PorterStemmer\n",
        "\n",
        "stemmer = PorterStemmer()\n",
        "\n",
        "def remove_stopwords(input_text):\n",
        "        stopwords_list = stopwords.words('english')\n",
        "        # Some words which might indicate a certain sentiment are kept via a whitelist\n",
        "        whitelist = [\"n't\", \"not\", \"no\"]\n",
        "        words = input_text.split() \n",
        "        clean_words = [word for word in words if (word not in stopwords_list or word in whitelist) and len(word) > 1] \n",
        "        return \" \".join(clean_words)       \n",
        "\n",
        "def stem_list(word_list):\n",
        "    stemmed = []\n",
        "    for word in word_list:\n",
        "        stemmedword = stemmer.stem(word)\n",
        "        stemmed.append(stemmedword)\n",
        "    return stemmed\n",
        "\n",
        "def normalize(terms):\n",
        "    terms = terms.lower()\n",
        "    terms = remove_stopwords(terms)\n",
        "    word_delimiters = u'[\\\\[\\\\]\\n.!?,;:\\t\\\\-\\\\\"\\\\(\\\\)\\\\\\'\\u2019\\u2013 ]'\n",
        "    term_list = re.split(word_delimiters, terms)\n",
        "    trimmed = [x.rstrip() for x in term_list]\n",
        "    stemmed = stem_list(trimmed)\n",
        "    space = ' '\n",
        "    normed = space.join(stemmed)\n",
        "    normed = normed.replace('  ', ' ')\n",
        "    return normed"
      ],
      "execution_count": 10,
      "outputs": []
    },
    {
      "cell_type": "markdown",
      "metadata": {
        "id": "--dr_BGJjh4L"
      },
      "source": [
        "We will create two branches, one branch will process the text data in the description and the other will process all other columns. First, create a numpy array with the encoded data from the description column. Normalize each description, one hot encode the text, pad the row and create a numpy array."
      ]
    },
    {
      "cell_type": "code",
      "metadata": {
        "colab": {
          "base_uri": "https://localhost:8080/"
        },
        "id": "M5e1410ppjeO",
        "outputId": "9942f206-a53f-4e2e-d3b3-721d9eeca7eb"
      },
      "source": [
        "import nltk\r\n",
        "from nltk import word_tokenize\r\n",
        "from tensorflow.keras.preprocessing.text import one_hot\r\n",
        "from tensorflow.keras.preprocessing.sequence import pad_sequences\r\n",
        "\r\n",
        "nltk.download('stopwords')\r\n",
        "nltk.download('punkt')"
      ],
      "execution_count": 11,
      "outputs": [
        {
          "output_type": "stream",
          "text": [
            "[nltk_data] Downloading package stopwords to /root/nltk_data...\n",
            "[nltk_data]   Unzipping corpora/stopwords.zip.\n",
            "[nltk_data] Downloading package punkt to /root/nltk_data...\n",
            "[nltk_data]   Unzipping tokenizers/punkt.zip.\n"
          ],
          "name": "stdout"
        },
        {
          "output_type": "execute_result",
          "data": {
            "text/plain": [
              "True"
            ]
          },
          "metadata": {
            "tags": []
          },
          "execution_count": 11
        }
      ]
    },
    {
      "cell_type": "code",
      "metadata": {
        "id": "zx5FsY_8jh4M",
        "colab": {
          "base_uri": "https://localhost:8080/",
          "height": 496
        },
        "outputId": "202ead46-b671-4bc0-cf50-20f3c88c5d1a"
      },
      "source": [
        "twitter['normalized'] = twitter.description.apply(lambda x: normalize(x))\n",
        "twitter.head()"
      ],
      "execution_count": 12,
      "outputs": [
        {
          "output_type": "execute_result",
          "data": {
            "text/html": [
              "<div>\n",
              "<style scoped>\n",
              "    .dataframe tbody tr th:only-of-type {\n",
              "        vertical-align: middle;\n",
              "    }\n",
              "\n",
              "    .dataframe tbody tr th {\n",
              "        vertical-align: top;\n",
              "    }\n",
              "\n",
              "    .dataframe thead th {\n",
              "        text-align: right;\n",
              "    }\n",
              "</style>\n",
              "<table border=\"1\" class=\"dataframe\">\n",
              "  <thead>\n",
              "    <tr style=\"text-align: right;\">\n",
              "      <th></th>\n",
              "      <th>screen_name</th>\n",
              "      <th>description</th>\n",
              "      <th>followers_count</th>\n",
              "      <th>friends_count</th>\n",
              "      <th>listed_count</th>\n",
              "      <th>created_at</th>\n",
              "      <th>favourites_count</th>\n",
              "      <th>verified</th>\n",
              "      <th>statuses_count</th>\n",
              "      <th>lang</th>\n",
              "      <th>status</th>\n",
              "      <th>default_profile</th>\n",
              "      <th>default_profile_image</th>\n",
              "      <th>has_extended_profile</th>\n",
              "      <th>name</th>\n",
              "      <th>bot</th>\n",
              "      <th>normalized</th>\n",
              "    </tr>\n",
              "  </thead>\n",
              "  <tbody>\n",
              "    <tr>\n",
              "      <th>0</th>\n",
              "      <td>\"HoustonPokeMap\"</td>\n",
              "      <td>\"Rare and strong PokŽmon in Houston, TX. See m...</td>\n",
              "      <td>1291</td>\n",
              "      <td>0</td>\n",
              "      <td>10</td>\n",
              "      <td>\"Mon Jan 02 02:25:26 +0000 2017\"</td>\n",
              "      <td>0</td>\n",
              "      <td>False</td>\n",
              "      <td>78554</td>\n",
              "      <td>\"en\"</td>\n",
              "      <td>{\\r      \"created_at\": \"Sun Mar 12 15:44:04 +0...</td>\n",
              "      <td>True</td>\n",
              "      <td>False</td>\n",
              "      <td>False</td>\n",
              "      <td>\"Houston PokŽ Alert\"</td>\n",
              "      <td>1</td>\n",
              "      <td>rare strong pokžmon houston tx see pokžmon ht...</td>\n",
              "    </tr>\n",
              "    <tr>\n",
              "      <th>2</th>\n",
              "      <td>mattlieberisbot</td>\n",
              "      <td>Inspired by the smart, funny folks at @replyal...</td>\n",
              "      <td>1086</td>\n",
              "      <td>0</td>\n",
              "      <td>14</td>\n",
              "      <td>Fri Nov 20 18:53:22 +0000 2015</td>\n",
              "      <td>0</td>\n",
              "      <td>False</td>\n",
              "      <td>713</td>\n",
              "      <td>en</td>\n",
              "      <td>{'retweeted': False, 'is_quote_status': False,...</td>\n",
              "      <td>True</td>\n",
              "      <td>False</td>\n",
              "      <td>False</td>\n",
              "      <td>Matt Lieber Is Bot</td>\n",
              "      <td>1</td>\n",
              "      <td>inspir smart funni folk @replyal @gimletmedia ...</td>\n",
              "    </tr>\n",
              "    <tr>\n",
              "      <th>5</th>\n",
              "      <td>dantheimprover</td>\n",
              "      <td>Just a guy trying to do good by telling everyo...</td>\n",
              "      <td>1</td>\n",
              "      <td>186</td>\n",
              "      <td>0</td>\n",
              "      <td>13/03/2017 22:53</td>\n",
              "      <td>0</td>\n",
              "      <td>False</td>\n",
              "      <td>11</td>\n",
              "      <td>en</td>\n",
              "      <td>Status(_api=&lt;tweepy.api.API object at 0x101927...</td>\n",
              "      <td>True</td>\n",
              "      <td>False</td>\n",
              "      <td>True</td>\n",
              "      <td>dantheimprover</td>\n",
              "      <td>1</td>\n",
              "      <td>guy tri good tell everyon els get better</td>\n",
              "    </tr>\n",
              "    <tr>\n",
              "      <th>6</th>\n",
              "      <td>_all_of_us_</td>\n",
              "      <td>bot by @rubicon</td>\n",
              "      <td>193</td>\n",
              "      <td>0</td>\n",
              "      <td>19</td>\n",
              "      <td>Wed May 07 22:29:25 +0000 2014</td>\n",
              "      <td>0</td>\n",
              "      <td>False</td>\n",
              "      <td>6068</td>\n",
              "      <td>en</td>\n",
              "      <td>{u'contributors': None, u'truncated': False, u...</td>\n",
              "      <td>False</td>\n",
              "      <td>False</td>\n",
              "      <td>False</td>\n",
              "      <td>everything always</td>\n",
              "      <td>1</td>\n",
              "      <td>bot @rubicon</td>\n",
              "    </tr>\n",
              "    <tr>\n",
              "      <th>7</th>\n",
              "      <td>KatamariItems</td>\n",
              "      <td>[Bot rolled up by @BeachEpisode] Cataloguing e...</td>\n",
              "      <td>8227</td>\n",
              "      <td>2</td>\n",
              "      <td>89</td>\n",
              "      <td>Thu Jun 18 22:07:31 +0000 2015</td>\n",
              "      <td>26</td>\n",
              "      <td>False</td>\n",
              "      <td>2597</td>\n",
              "      <td>en</td>\n",
              "      <td>{u'contributors': None, u'truncated': False, u...</td>\n",
              "      <td>True</td>\n",
              "      <td>False</td>\n",
              "      <td>False</td>\n",
              "      <td>Katamari Collection</td>\n",
              "      <td>1</td>\n",
              "      <td>bot roll @beachepisod catalogu everi item kat...</td>\n",
              "    </tr>\n",
              "  </tbody>\n",
              "</table>\n",
              "</div>"
            ],
            "text/plain": [
              "        screen_name  ...                                         normalized\n",
              "0  \"HoustonPokeMap\"  ...   rare strong pokžmon houston tx see pokžmon ht...\n",
              "2   mattlieberisbot  ...  inspir smart funni folk @replyal @gimletmedia ...\n",
              "5    dantheimprover  ...          guy tri good tell everyon els get better \n",
              "6       _all_of_us_  ...                                       bot @rubicon\n",
              "7     KatamariItems  ...   bot roll @beachepisod catalogu everi item kat...\n",
              "\n",
              "[5 rows x 17 columns]"
            ]
          },
          "metadata": {
            "tags": []
          },
          "execution_count": 12
        }
      ]
    },
    {
      "cell_type": "code",
      "metadata": {
        "colab": {
          "base_uri": "https://localhost:8080/"
        },
        "id": "i4PkWqTzp4Aa",
        "outputId": "4c4fbb15-d2a3-4d4a-c84f-08ebc2c3c69b"
      },
      "source": [
        "words = []\r\n",
        "for doc in twitter.normalized:\r\n",
        "    for word in word_tokenize(doc):\r\n",
        "        words.append(word)\r\n",
        "\r\n",
        "unique = set(words)\r\n",
        "unique_words = len(unique)\r\n",
        "unique_words"
      ],
      "execution_count": 13,
      "outputs": [
        {
          "output_type": "execute_result",
          "data": {
            "text/plain": [
              "7253"
            ]
          },
          "metadata": {
            "tags": []
          },
          "execution_count": 13
        }
      ]
    },
    {
      "cell_type": "code",
      "metadata": {
        "colab": {
          "base_uri": "https://localhost:8080/"
        },
        "id": "FbyWpnCLqB8L",
        "outputId": "92d4a2d3-b94d-44a7-9b0c-18223bc9e3d7"
      },
      "source": [
        "encoded_text = [one_hot(doc, unique_words) for doc in twitter.normalized]\r\n",
        "encoded_text[0:2]"
      ],
      "execution_count": 14,
      "outputs": [
        {
          "output_type": "execute_result",
          "data": {
            "text/plain": [
              "[[5886, 3113, 2945, 5329, 7150, 1350, 2945, 6512, 2463, 5145, 5584],\n",
              " [4810,\n",
              "  5264,\n",
              "  2377,\n",
              "  4799,\n",
              "  2650,\n",
              "  1192,\n",
              "  7003,\n",
              "  2999,\n",
              "  6806,\n",
              "  3435,\n",
              "  197,\n",
              "  7003,\n",
              "  5528,\n",
              "  4793]]"
            ]
          },
          "metadata": {
            "tags": []
          },
          "execution_count": 14
        }
      ]
    },
    {
      "cell_type": "code",
      "metadata": {
        "id": "-8-wFLNurTJP"
      },
      "source": [
        "ind_vars = pad_sequences(encoded_text)"
      ],
      "execution_count": 15,
      "outputs": []
    },
    {
      "cell_type": "code",
      "metadata": {
        "colab": {
          "base_uri": "https://localhost:8080/"
        },
        "id": "0c5wkuKvrUlT",
        "outputId": "b4b790b9-1011-4153-f42f-1b1efa01dc81"
      },
      "source": [
        "ind_vars[0]"
      ],
      "execution_count": 16,
      "outputs": [
        {
          "output_type": "execute_result",
          "data": {
            "text/plain": [
              "array([   0,    0,    0,    0,    0,    0,    0,    0,    0,    0,    0,\n",
              "          0,    0,    0,    0,    0,    0,    0,    0,    0,    0,    0,\n",
              "          0,    0,    0,    0,    0,    0,    0,    0,    0,    0,    0,\n",
              "          0,    0,    0,    0,    0,    0,    0,    0,    0,    0,    0,\n",
              "          0,    0,    0,    0,    0,    0,    0,    0,    0,    0,    0,\n",
              "       5886, 3113, 2945, 5329, 7150, 1350, 2945, 6512, 2463, 5145, 5584],\n",
              "      dtype=int32)"
            ]
          },
          "metadata": {
            "tags": []
          },
          "execution_count": 16
        }
      ]
    },
    {
      "cell_type": "markdown",
      "metadata": {
        "id": "IXQeqH9Ejh4N"
      },
      "source": [
        "Convert all boolean variables to numeric (zero for false and 1 for true)"
      ]
    },
    {
      "cell_type": "code",
      "metadata": {
        "colab": {
          "base_uri": "https://localhost:8080/"
        },
        "id": "7jFZe8Z_p2r7",
        "outputId": "852d9675-1e2a-43b7-ae11-4d6baf27911d"
      },
      "source": [
        "twitter.info()"
      ],
      "execution_count": 17,
      "outputs": [
        {
          "output_type": "stream",
          "text": [
            "<class 'pandas.core.frame.DataFrame'>\n",
            "Int64Index: 2121 entries, 0 to 2796\n",
            "Data columns (total 17 columns):\n",
            " #   Column                 Non-Null Count  Dtype \n",
            "---  ------                 --------------  ----- \n",
            " 0   screen_name            2121 non-null   object\n",
            " 1   description            2121 non-null   object\n",
            " 2   followers_count        2121 non-null   int64 \n",
            " 3   friends_count          2121 non-null   int64 \n",
            " 4   listed_count           2121 non-null   int64 \n",
            " 5   created_at             2121 non-null   object\n",
            " 6   favourites_count       2121 non-null   int64 \n",
            " 7   verified               2121 non-null   bool  \n",
            " 8   statuses_count         2121 non-null   int64 \n",
            " 9   lang                   2121 non-null   object\n",
            " 10  status                 2121 non-null   object\n",
            " 11  default_profile        2121 non-null   bool  \n",
            " 12  default_profile_image  2121 non-null   bool  \n",
            " 13  has_extended_profile   2121 non-null   object\n",
            " 14  name                   2121 non-null   object\n",
            " 15  bot                    2121 non-null   int64 \n",
            " 16  normalized             2121 non-null   object\n",
            "dtypes: bool(3), int64(6), object(8)\n",
            "memory usage: 254.8+ KB\n"
          ],
          "name": "stdout"
        }
      ]
    },
    {
      "cell_type": "code",
      "metadata": {
        "id": "PUHRBt2azzhz"
      },
      "source": [
        "twitter.has_extended_profile = twitter.has_extended_profile.astype(\"bool\")"
      ],
      "execution_count": 18,
      "outputs": []
    },
    {
      "cell_type": "code",
      "metadata": {
        "id": "sj3WX5IKvYHn"
      },
      "source": [
        "bools = twitter.select_dtypes(include=\"bool\").columns"
      ],
      "execution_count": 19,
      "outputs": []
    },
    {
      "cell_type": "code",
      "metadata": {
        "colab": {
          "base_uri": "https://localhost:8080/",
          "height": 496
        },
        "id": "87OYSP6IwQZv",
        "outputId": "fd9e3d25-f050-41cc-f405-748b9dc22750"
      },
      "source": [
        "for col in bools:\r\n",
        "    twitter[col] = twitter[col]+0\r\n",
        "\r\n",
        "twitter.head()"
      ],
      "execution_count": 20,
      "outputs": [
        {
          "output_type": "execute_result",
          "data": {
            "text/html": [
              "<div>\n",
              "<style scoped>\n",
              "    .dataframe tbody tr th:only-of-type {\n",
              "        vertical-align: middle;\n",
              "    }\n",
              "\n",
              "    .dataframe tbody tr th {\n",
              "        vertical-align: top;\n",
              "    }\n",
              "\n",
              "    .dataframe thead th {\n",
              "        text-align: right;\n",
              "    }\n",
              "</style>\n",
              "<table border=\"1\" class=\"dataframe\">\n",
              "  <thead>\n",
              "    <tr style=\"text-align: right;\">\n",
              "      <th></th>\n",
              "      <th>screen_name</th>\n",
              "      <th>description</th>\n",
              "      <th>followers_count</th>\n",
              "      <th>friends_count</th>\n",
              "      <th>listed_count</th>\n",
              "      <th>created_at</th>\n",
              "      <th>favourites_count</th>\n",
              "      <th>verified</th>\n",
              "      <th>statuses_count</th>\n",
              "      <th>lang</th>\n",
              "      <th>status</th>\n",
              "      <th>default_profile</th>\n",
              "      <th>default_profile_image</th>\n",
              "      <th>has_extended_profile</th>\n",
              "      <th>name</th>\n",
              "      <th>bot</th>\n",
              "      <th>normalized</th>\n",
              "    </tr>\n",
              "  </thead>\n",
              "  <tbody>\n",
              "    <tr>\n",
              "      <th>0</th>\n",
              "      <td>\"HoustonPokeMap\"</td>\n",
              "      <td>\"Rare and strong PokŽmon in Houston, TX. See m...</td>\n",
              "      <td>1291</td>\n",
              "      <td>0</td>\n",
              "      <td>10</td>\n",
              "      <td>\"Mon Jan 02 02:25:26 +0000 2017\"</td>\n",
              "      <td>0</td>\n",
              "      <td>0</td>\n",
              "      <td>78554</td>\n",
              "      <td>\"en\"</td>\n",
              "      <td>{\\r      \"created_at\": \"Sun Mar 12 15:44:04 +0...</td>\n",
              "      <td>1</td>\n",
              "      <td>0</td>\n",
              "      <td>0</td>\n",
              "      <td>\"Houston PokŽ Alert\"</td>\n",
              "      <td>1</td>\n",
              "      <td>rare strong pokžmon houston tx see pokžmon ht...</td>\n",
              "    </tr>\n",
              "    <tr>\n",
              "      <th>2</th>\n",
              "      <td>mattlieberisbot</td>\n",
              "      <td>Inspired by the smart, funny folks at @replyal...</td>\n",
              "      <td>1086</td>\n",
              "      <td>0</td>\n",
              "      <td>14</td>\n",
              "      <td>Fri Nov 20 18:53:22 +0000 2015</td>\n",
              "      <td>0</td>\n",
              "      <td>0</td>\n",
              "      <td>713</td>\n",
              "      <td>en</td>\n",
              "      <td>{'retweeted': False, 'is_quote_status': False,...</td>\n",
              "      <td>1</td>\n",
              "      <td>0</td>\n",
              "      <td>0</td>\n",
              "      <td>Matt Lieber Is Bot</td>\n",
              "      <td>1</td>\n",
              "      <td>inspir smart funni folk @replyal @gimletmedia ...</td>\n",
              "    </tr>\n",
              "    <tr>\n",
              "      <th>5</th>\n",
              "      <td>dantheimprover</td>\n",
              "      <td>Just a guy trying to do good by telling everyo...</td>\n",
              "      <td>1</td>\n",
              "      <td>186</td>\n",
              "      <td>0</td>\n",
              "      <td>13/03/2017 22:53</td>\n",
              "      <td>0</td>\n",
              "      <td>0</td>\n",
              "      <td>11</td>\n",
              "      <td>en</td>\n",
              "      <td>Status(_api=&lt;tweepy.api.API object at 0x101927...</td>\n",
              "      <td>1</td>\n",
              "      <td>0</td>\n",
              "      <td>1</td>\n",
              "      <td>dantheimprover</td>\n",
              "      <td>1</td>\n",
              "      <td>guy tri good tell everyon els get better</td>\n",
              "    </tr>\n",
              "    <tr>\n",
              "      <th>6</th>\n",
              "      <td>_all_of_us_</td>\n",
              "      <td>bot by @rubicon</td>\n",
              "      <td>193</td>\n",
              "      <td>0</td>\n",
              "      <td>19</td>\n",
              "      <td>Wed May 07 22:29:25 +0000 2014</td>\n",
              "      <td>0</td>\n",
              "      <td>0</td>\n",
              "      <td>6068</td>\n",
              "      <td>en</td>\n",
              "      <td>{u'contributors': None, u'truncated': False, u...</td>\n",
              "      <td>0</td>\n",
              "      <td>0</td>\n",
              "      <td>0</td>\n",
              "      <td>everything always</td>\n",
              "      <td>1</td>\n",
              "      <td>bot @rubicon</td>\n",
              "    </tr>\n",
              "    <tr>\n",
              "      <th>7</th>\n",
              "      <td>KatamariItems</td>\n",
              "      <td>[Bot rolled up by @BeachEpisode] Cataloguing e...</td>\n",
              "      <td>8227</td>\n",
              "      <td>2</td>\n",
              "      <td>89</td>\n",
              "      <td>Thu Jun 18 22:07:31 +0000 2015</td>\n",
              "      <td>26</td>\n",
              "      <td>0</td>\n",
              "      <td>2597</td>\n",
              "      <td>en</td>\n",
              "      <td>{u'contributors': None, u'truncated': False, u...</td>\n",
              "      <td>1</td>\n",
              "      <td>0</td>\n",
              "      <td>0</td>\n",
              "      <td>Katamari Collection</td>\n",
              "      <td>1</td>\n",
              "      <td>bot roll @beachepisod catalogu everi item kat...</td>\n",
              "    </tr>\n",
              "  </tbody>\n",
              "</table>\n",
              "</div>"
            ],
            "text/plain": [
              "        screen_name  ...                                         normalized\n",
              "0  \"HoustonPokeMap\"  ...   rare strong pokžmon houston tx see pokžmon ht...\n",
              "2   mattlieberisbot  ...  inspir smart funni folk @replyal @gimletmedia ...\n",
              "5    dantheimprover  ...          guy tri good tell everyon els get better \n",
              "6       _all_of_us_  ...                                       bot @rubicon\n",
              "7     KatamariItems  ...   bot roll @beachepisod catalogu everi item kat...\n",
              "\n",
              "[5 rows x 17 columns]"
            ]
          },
          "metadata": {
            "tags": []
          },
          "execution_count": 20
        }
      ]
    },
    {
      "cell_type": "markdown",
      "metadata": {
        "id": "hm8vuH43jh4Q"
      },
      "source": [
        "Create dummy variables out of the relevant object columns. Take caution when converting columns that may incorrectly classified as object."
      ]
    },
    {
      "cell_type": "code",
      "metadata": {
        "id": "jcb0fb4_jh4Q",
        "colab": {
          "base_uri": "https://localhost:8080/",
          "height": 513
        },
        "outputId": "04b0305d-fa43-45b7-b82a-199ca7951954"
      },
      "source": [
        "twitter = pd.get_dummies(twitter, columns=[\"lang\"], drop_first=True)\n",
        "twitter.head()"
      ],
      "execution_count": 21,
      "outputs": [
        {
          "output_type": "execute_result",
          "data": {
            "text/html": [
              "<div>\n",
              "<style scoped>\n",
              "    .dataframe tbody tr th:only-of-type {\n",
              "        vertical-align: middle;\n",
              "    }\n",
              "\n",
              "    .dataframe tbody tr th {\n",
              "        vertical-align: top;\n",
              "    }\n",
              "\n",
              "    .dataframe thead th {\n",
              "        text-align: right;\n",
              "    }\n",
              "</style>\n",
              "<table border=\"1\" class=\"dataframe\">\n",
              "  <thead>\n",
              "    <tr style=\"text-align: right;\">\n",
              "      <th></th>\n",
              "      <th>screen_name</th>\n",
              "      <th>description</th>\n",
              "      <th>followers_count</th>\n",
              "      <th>friends_count</th>\n",
              "      <th>listed_count</th>\n",
              "      <th>created_at</th>\n",
              "      <th>favourites_count</th>\n",
              "      <th>verified</th>\n",
              "      <th>statuses_count</th>\n",
              "      <th>status</th>\n",
              "      <th>default_profile</th>\n",
              "      <th>default_profile_image</th>\n",
              "      <th>has_extended_profile</th>\n",
              "      <th>name</th>\n",
              "      <th>bot</th>\n",
              "      <th>normalized</th>\n",
              "      <th>lang_\"en\"</th>\n",
              "      <th>lang_\"en-gb\"</th>\n",
              "      <th>lang_\"es\"</th>\n",
              "      <th>lang_\"fr\"</th>\n",
              "      <th>lang_\"it\"</th>\n",
              "      <th>lang_\"ja\"</th>\n",
              "      <th>lang_\"ko\"</th>\n",
              "      <th>lang_\"pt\"</th>\n",
              "      <th>lang_\"zh-CN\"</th>\n",
              "      <th>lang_\"zh-cn\"</th>\n",
              "      <th>lang_ar</th>\n",
              "      <th>lang_de</th>\n",
              "      <th>lang_en</th>\n",
              "      <th>lang_en-gb</th>\n",
              "      <th>lang_es</th>\n",
              "      <th>lang_fr</th>\n",
              "      <th>lang_gl</th>\n",
              "      <th>lang_it</th>\n",
              "      <th>lang_ja</th>\n",
              "      <th>lang_nl</th>\n",
              "      <th>lang_pt</th>\n",
              "      <th>lang_ru</th>\n",
              "      <th>lang_ta</th>\n",
              "      <th>lang_tr</th>\n",
              "      <th>lang_zh-CN</th>\n",
              "      <th>lang_zh-cn</th>\n",
              "    </tr>\n",
              "  </thead>\n",
              "  <tbody>\n",
              "    <tr>\n",
              "      <th>0</th>\n",
              "      <td>\"HoustonPokeMap\"</td>\n",
              "      <td>\"Rare and strong PokŽmon in Houston, TX. See m...</td>\n",
              "      <td>1291</td>\n",
              "      <td>0</td>\n",
              "      <td>10</td>\n",
              "      <td>\"Mon Jan 02 02:25:26 +0000 2017\"</td>\n",
              "      <td>0</td>\n",
              "      <td>0</td>\n",
              "      <td>78554</td>\n",
              "      <td>{\\r      \"created_at\": \"Sun Mar 12 15:44:04 +0...</td>\n",
              "      <td>1</td>\n",
              "      <td>0</td>\n",
              "      <td>0</td>\n",
              "      <td>\"Houston PokŽ Alert\"</td>\n",
              "      <td>1</td>\n",
              "      <td>rare strong pokžmon houston tx see pokžmon ht...</td>\n",
              "      <td>1</td>\n",
              "      <td>0</td>\n",
              "      <td>0</td>\n",
              "      <td>0</td>\n",
              "      <td>0</td>\n",
              "      <td>0</td>\n",
              "      <td>0</td>\n",
              "      <td>0</td>\n",
              "      <td>0</td>\n",
              "      <td>0</td>\n",
              "      <td>0</td>\n",
              "      <td>0</td>\n",
              "      <td>0</td>\n",
              "      <td>0</td>\n",
              "      <td>0</td>\n",
              "      <td>0</td>\n",
              "      <td>0</td>\n",
              "      <td>0</td>\n",
              "      <td>0</td>\n",
              "      <td>0</td>\n",
              "      <td>0</td>\n",
              "      <td>0</td>\n",
              "      <td>0</td>\n",
              "      <td>0</td>\n",
              "      <td>0</td>\n",
              "      <td>0</td>\n",
              "    </tr>\n",
              "    <tr>\n",
              "      <th>2</th>\n",
              "      <td>mattlieberisbot</td>\n",
              "      <td>Inspired by the smart, funny folks at @replyal...</td>\n",
              "      <td>1086</td>\n",
              "      <td>0</td>\n",
              "      <td>14</td>\n",
              "      <td>Fri Nov 20 18:53:22 +0000 2015</td>\n",
              "      <td>0</td>\n",
              "      <td>0</td>\n",
              "      <td>713</td>\n",
              "      <td>{'retweeted': False, 'is_quote_status': False,...</td>\n",
              "      <td>1</td>\n",
              "      <td>0</td>\n",
              "      <td>0</td>\n",
              "      <td>Matt Lieber Is Bot</td>\n",
              "      <td>1</td>\n",
              "      <td>inspir smart funni folk @replyal @gimletmedia ...</td>\n",
              "      <td>0</td>\n",
              "      <td>0</td>\n",
              "      <td>0</td>\n",
              "      <td>0</td>\n",
              "      <td>0</td>\n",
              "      <td>0</td>\n",
              "      <td>0</td>\n",
              "      <td>0</td>\n",
              "      <td>0</td>\n",
              "      <td>0</td>\n",
              "      <td>0</td>\n",
              "      <td>0</td>\n",
              "      <td>1</td>\n",
              "      <td>0</td>\n",
              "      <td>0</td>\n",
              "      <td>0</td>\n",
              "      <td>0</td>\n",
              "      <td>0</td>\n",
              "      <td>0</td>\n",
              "      <td>0</td>\n",
              "      <td>0</td>\n",
              "      <td>0</td>\n",
              "      <td>0</td>\n",
              "      <td>0</td>\n",
              "      <td>0</td>\n",
              "      <td>0</td>\n",
              "    </tr>\n",
              "    <tr>\n",
              "      <th>5</th>\n",
              "      <td>dantheimprover</td>\n",
              "      <td>Just a guy trying to do good by telling everyo...</td>\n",
              "      <td>1</td>\n",
              "      <td>186</td>\n",
              "      <td>0</td>\n",
              "      <td>13/03/2017 22:53</td>\n",
              "      <td>0</td>\n",
              "      <td>0</td>\n",
              "      <td>11</td>\n",
              "      <td>Status(_api=&lt;tweepy.api.API object at 0x101927...</td>\n",
              "      <td>1</td>\n",
              "      <td>0</td>\n",
              "      <td>1</td>\n",
              "      <td>dantheimprover</td>\n",
              "      <td>1</td>\n",
              "      <td>guy tri good tell everyon els get better</td>\n",
              "      <td>0</td>\n",
              "      <td>0</td>\n",
              "      <td>0</td>\n",
              "      <td>0</td>\n",
              "      <td>0</td>\n",
              "      <td>0</td>\n",
              "      <td>0</td>\n",
              "      <td>0</td>\n",
              "      <td>0</td>\n",
              "      <td>0</td>\n",
              "      <td>0</td>\n",
              "      <td>0</td>\n",
              "      <td>1</td>\n",
              "      <td>0</td>\n",
              "      <td>0</td>\n",
              "      <td>0</td>\n",
              "      <td>0</td>\n",
              "      <td>0</td>\n",
              "      <td>0</td>\n",
              "      <td>0</td>\n",
              "      <td>0</td>\n",
              "      <td>0</td>\n",
              "      <td>0</td>\n",
              "      <td>0</td>\n",
              "      <td>0</td>\n",
              "      <td>0</td>\n",
              "    </tr>\n",
              "    <tr>\n",
              "      <th>6</th>\n",
              "      <td>_all_of_us_</td>\n",
              "      <td>bot by @rubicon</td>\n",
              "      <td>193</td>\n",
              "      <td>0</td>\n",
              "      <td>19</td>\n",
              "      <td>Wed May 07 22:29:25 +0000 2014</td>\n",
              "      <td>0</td>\n",
              "      <td>0</td>\n",
              "      <td>6068</td>\n",
              "      <td>{u'contributors': None, u'truncated': False, u...</td>\n",
              "      <td>0</td>\n",
              "      <td>0</td>\n",
              "      <td>0</td>\n",
              "      <td>everything always</td>\n",
              "      <td>1</td>\n",
              "      <td>bot @rubicon</td>\n",
              "      <td>0</td>\n",
              "      <td>0</td>\n",
              "      <td>0</td>\n",
              "      <td>0</td>\n",
              "      <td>0</td>\n",
              "      <td>0</td>\n",
              "      <td>0</td>\n",
              "      <td>0</td>\n",
              "      <td>0</td>\n",
              "      <td>0</td>\n",
              "      <td>0</td>\n",
              "      <td>0</td>\n",
              "      <td>1</td>\n",
              "      <td>0</td>\n",
              "      <td>0</td>\n",
              "      <td>0</td>\n",
              "      <td>0</td>\n",
              "      <td>0</td>\n",
              "      <td>0</td>\n",
              "      <td>0</td>\n",
              "      <td>0</td>\n",
              "      <td>0</td>\n",
              "      <td>0</td>\n",
              "      <td>0</td>\n",
              "      <td>0</td>\n",
              "      <td>0</td>\n",
              "    </tr>\n",
              "    <tr>\n",
              "      <th>7</th>\n",
              "      <td>KatamariItems</td>\n",
              "      <td>[Bot rolled up by @BeachEpisode] Cataloguing e...</td>\n",
              "      <td>8227</td>\n",
              "      <td>2</td>\n",
              "      <td>89</td>\n",
              "      <td>Thu Jun 18 22:07:31 +0000 2015</td>\n",
              "      <td>26</td>\n",
              "      <td>0</td>\n",
              "      <td>2597</td>\n",
              "      <td>{u'contributors': None, u'truncated': False, u...</td>\n",
              "      <td>1</td>\n",
              "      <td>0</td>\n",
              "      <td>0</td>\n",
              "      <td>Katamari Collection</td>\n",
              "      <td>1</td>\n",
              "      <td>bot roll @beachepisod catalogu everi item kat...</td>\n",
              "      <td>0</td>\n",
              "      <td>0</td>\n",
              "      <td>0</td>\n",
              "      <td>0</td>\n",
              "      <td>0</td>\n",
              "      <td>0</td>\n",
              "      <td>0</td>\n",
              "      <td>0</td>\n",
              "      <td>0</td>\n",
              "      <td>0</td>\n",
              "      <td>0</td>\n",
              "      <td>0</td>\n",
              "      <td>1</td>\n",
              "      <td>0</td>\n",
              "      <td>0</td>\n",
              "      <td>0</td>\n",
              "      <td>0</td>\n",
              "      <td>0</td>\n",
              "      <td>0</td>\n",
              "      <td>0</td>\n",
              "      <td>0</td>\n",
              "      <td>0</td>\n",
              "      <td>0</td>\n",
              "      <td>0</td>\n",
              "      <td>0</td>\n",
              "      <td>0</td>\n",
              "    </tr>\n",
              "  </tbody>\n",
              "</table>\n",
              "</div>"
            ],
            "text/plain": [
              "        screen_name  ... lang_zh-cn\n",
              "0  \"HoustonPokeMap\"  ...          0\n",
              "2   mattlieberisbot  ...          0\n",
              "5    dantheimprover  ...          0\n",
              "6       _all_of_us_  ...          0\n",
              "7     KatamariItems  ...          0\n",
              "\n",
              "[5 rows x 42 columns]"
            ]
          },
          "metadata": {
            "tags": []
          },
          "execution_count": 21
        }
      ]
    },
    {
      "cell_type": "markdown",
      "metadata": {
        "id": "OM1NT0I6jh4S"
      },
      "source": [
        "Min max scale the data decribing each user (do not min max scale the word embeddings)."
      ]
    },
    {
      "cell_type": "code",
      "metadata": {
        "id": "FWjM6c2fjh4T"
      },
      "source": [
        "from sklearn.preprocessing import MinMaxScaler\n",
        "\n",
        "to_scale = [\"followers_count\", \"friends_count\", \"listed_count\",\n",
        "            \"favourites_count\", \"verified\", \"statuses_count\"]\n",
        "mms = MinMaxScaler()\n",
        "twitter[to_scale] = mms.fit_transform(twitter[to_scale])"
      ],
      "execution_count": 22,
      "outputs": []
    },
    {
      "cell_type": "code",
      "metadata": {
        "colab": {
          "base_uri": "https://localhost:8080/",
          "height": 513
        },
        "id": "_58bMfeK2Gfe",
        "outputId": "e1904ca5-1f1b-4779-8c79-1177590c649c"
      },
      "source": [
        "twitter.head()"
      ],
      "execution_count": 23,
      "outputs": [
        {
          "output_type": "execute_result",
          "data": {
            "text/html": [
              "<div>\n",
              "<style scoped>\n",
              "    .dataframe tbody tr th:only-of-type {\n",
              "        vertical-align: middle;\n",
              "    }\n",
              "\n",
              "    .dataframe tbody tr th {\n",
              "        vertical-align: top;\n",
              "    }\n",
              "\n",
              "    .dataframe thead th {\n",
              "        text-align: right;\n",
              "    }\n",
              "</style>\n",
              "<table border=\"1\" class=\"dataframe\">\n",
              "  <thead>\n",
              "    <tr style=\"text-align: right;\">\n",
              "      <th></th>\n",
              "      <th>screen_name</th>\n",
              "      <th>description</th>\n",
              "      <th>followers_count</th>\n",
              "      <th>friends_count</th>\n",
              "      <th>listed_count</th>\n",
              "      <th>created_at</th>\n",
              "      <th>favourites_count</th>\n",
              "      <th>verified</th>\n",
              "      <th>statuses_count</th>\n",
              "      <th>status</th>\n",
              "      <th>default_profile</th>\n",
              "      <th>default_profile_image</th>\n",
              "      <th>has_extended_profile</th>\n",
              "      <th>name</th>\n",
              "      <th>bot</th>\n",
              "      <th>normalized</th>\n",
              "      <th>lang_\"en\"</th>\n",
              "      <th>lang_\"en-gb\"</th>\n",
              "      <th>lang_\"es\"</th>\n",
              "      <th>lang_\"fr\"</th>\n",
              "      <th>lang_\"it\"</th>\n",
              "      <th>lang_\"ja\"</th>\n",
              "      <th>lang_\"ko\"</th>\n",
              "      <th>lang_\"pt\"</th>\n",
              "      <th>lang_\"zh-CN\"</th>\n",
              "      <th>lang_\"zh-cn\"</th>\n",
              "      <th>lang_ar</th>\n",
              "      <th>lang_de</th>\n",
              "      <th>lang_en</th>\n",
              "      <th>lang_en-gb</th>\n",
              "      <th>lang_es</th>\n",
              "      <th>lang_fr</th>\n",
              "      <th>lang_gl</th>\n",
              "      <th>lang_it</th>\n",
              "      <th>lang_ja</th>\n",
              "      <th>lang_nl</th>\n",
              "      <th>lang_pt</th>\n",
              "      <th>lang_ru</th>\n",
              "      <th>lang_ta</th>\n",
              "      <th>lang_tr</th>\n",
              "      <th>lang_zh-CN</th>\n",
              "      <th>lang_zh-cn</th>\n",
              "    </tr>\n",
              "  </thead>\n",
              "  <tbody>\n",
              "    <tr>\n",
              "      <th>0</th>\n",
              "      <td>\"HoustonPokeMap\"</td>\n",
              "      <td>\"Rare and strong PokŽmon in Houston, TX. See m...</td>\n",
              "      <td>1.340302e-05</td>\n",
              "      <td>0.000000</td>\n",
              "      <td>0.000016</td>\n",
              "      <td>\"Mon Jan 02 02:25:26 +0000 2017\"</td>\n",
              "      <td>0.000000</td>\n",
              "      <td>0.0</td>\n",
              "      <td>0.011445</td>\n",
              "      <td>{\\r      \"created_at\": \"Sun Mar 12 15:44:04 +0...</td>\n",
              "      <td>1</td>\n",
              "      <td>0</td>\n",
              "      <td>0</td>\n",
              "      <td>\"Houston PokŽ Alert\"</td>\n",
              "      <td>1</td>\n",
              "      <td>rare strong pokžmon houston tx see pokžmon ht...</td>\n",
              "      <td>1</td>\n",
              "      <td>0</td>\n",
              "      <td>0</td>\n",
              "      <td>0</td>\n",
              "      <td>0</td>\n",
              "      <td>0</td>\n",
              "      <td>0</td>\n",
              "      <td>0</td>\n",
              "      <td>0</td>\n",
              "      <td>0</td>\n",
              "      <td>0</td>\n",
              "      <td>0</td>\n",
              "      <td>0</td>\n",
              "      <td>0</td>\n",
              "      <td>0</td>\n",
              "      <td>0</td>\n",
              "      <td>0</td>\n",
              "      <td>0</td>\n",
              "      <td>0</td>\n",
              "      <td>0</td>\n",
              "      <td>0</td>\n",
              "      <td>0</td>\n",
              "      <td>0</td>\n",
              "      <td>0</td>\n",
              "      <td>0</td>\n",
              "      <td>0</td>\n",
              "    </tr>\n",
              "    <tr>\n",
              "      <th>2</th>\n",
              "      <td>mattlieberisbot</td>\n",
              "      <td>Inspired by the smart, funny folks at @replyal...</td>\n",
              "      <td>1.127473e-05</td>\n",
              "      <td>0.000000</td>\n",
              "      <td>0.000023</td>\n",
              "      <td>Fri Nov 20 18:53:22 +0000 2015</td>\n",
              "      <td>0.000000</td>\n",
              "      <td>0.0</td>\n",
              "      <td>0.000104</td>\n",
              "      <td>{'retweeted': False, 'is_quote_status': False,...</td>\n",
              "      <td>1</td>\n",
              "      <td>0</td>\n",
              "      <td>0</td>\n",
              "      <td>Matt Lieber Is Bot</td>\n",
              "      <td>1</td>\n",
              "      <td>inspir smart funni folk @replyal @gimletmedia ...</td>\n",
              "      <td>0</td>\n",
              "      <td>0</td>\n",
              "      <td>0</td>\n",
              "      <td>0</td>\n",
              "      <td>0</td>\n",
              "      <td>0</td>\n",
              "      <td>0</td>\n",
              "      <td>0</td>\n",
              "      <td>0</td>\n",
              "      <td>0</td>\n",
              "      <td>0</td>\n",
              "      <td>0</td>\n",
              "      <td>1</td>\n",
              "      <td>0</td>\n",
              "      <td>0</td>\n",
              "      <td>0</td>\n",
              "      <td>0</td>\n",
              "      <td>0</td>\n",
              "      <td>0</td>\n",
              "      <td>0</td>\n",
              "      <td>0</td>\n",
              "      <td>0</td>\n",
              "      <td>0</td>\n",
              "      <td>0</td>\n",
              "      <td>0</td>\n",
              "      <td>0</td>\n",
              "    </tr>\n",
              "    <tr>\n",
              "      <th>5</th>\n",
              "      <td>dantheimprover</td>\n",
              "      <td>Just a guy trying to do good by telling everyo...</td>\n",
              "      <td>1.038189e-08</td>\n",
              "      <td>0.000189</td>\n",
              "      <td>0.000000</td>\n",
              "      <td>13/03/2017 22:53</td>\n",
              "      <td>0.000000</td>\n",
              "      <td>0.0</td>\n",
              "      <td>0.000001</td>\n",
              "      <td>Status(_api=&lt;tweepy.api.API object at 0x101927...</td>\n",
              "      <td>1</td>\n",
              "      <td>0</td>\n",
              "      <td>1</td>\n",
              "      <td>dantheimprover</td>\n",
              "      <td>1</td>\n",
              "      <td>guy tri good tell everyon els get better</td>\n",
              "      <td>0</td>\n",
              "      <td>0</td>\n",
              "      <td>0</td>\n",
              "      <td>0</td>\n",
              "      <td>0</td>\n",
              "      <td>0</td>\n",
              "      <td>0</td>\n",
              "      <td>0</td>\n",
              "      <td>0</td>\n",
              "      <td>0</td>\n",
              "      <td>0</td>\n",
              "      <td>0</td>\n",
              "      <td>1</td>\n",
              "      <td>0</td>\n",
              "      <td>0</td>\n",
              "      <td>0</td>\n",
              "      <td>0</td>\n",
              "      <td>0</td>\n",
              "      <td>0</td>\n",
              "      <td>0</td>\n",
              "      <td>0</td>\n",
              "      <td>0</td>\n",
              "      <td>0</td>\n",
              "      <td>0</td>\n",
              "      <td>0</td>\n",
              "      <td>0</td>\n",
              "    </tr>\n",
              "    <tr>\n",
              "      <th>6</th>\n",
              "      <td>_all_of_us_</td>\n",
              "      <td>bot by @rubicon</td>\n",
              "      <td>2.003705e-06</td>\n",
              "      <td>0.000000</td>\n",
              "      <td>0.000031</td>\n",
              "      <td>Wed May 07 22:29:25 +0000 2014</td>\n",
              "      <td>0.000000</td>\n",
              "      <td>0.0</td>\n",
              "      <td>0.000884</td>\n",
              "      <td>{u'contributors': None, u'truncated': False, u...</td>\n",
              "      <td>0</td>\n",
              "      <td>0</td>\n",
              "      <td>0</td>\n",
              "      <td>everything always</td>\n",
              "      <td>1</td>\n",
              "      <td>bot @rubicon</td>\n",
              "      <td>0</td>\n",
              "      <td>0</td>\n",
              "      <td>0</td>\n",
              "      <td>0</td>\n",
              "      <td>0</td>\n",
              "      <td>0</td>\n",
              "      <td>0</td>\n",
              "      <td>0</td>\n",
              "      <td>0</td>\n",
              "      <td>0</td>\n",
              "      <td>0</td>\n",
              "      <td>0</td>\n",
              "      <td>1</td>\n",
              "      <td>0</td>\n",
              "      <td>0</td>\n",
              "      <td>0</td>\n",
              "      <td>0</td>\n",
              "      <td>0</td>\n",
              "      <td>0</td>\n",
              "      <td>0</td>\n",
              "      <td>0</td>\n",
              "      <td>0</td>\n",
              "      <td>0</td>\n",
              "      <td>0</td>\n",
              "      <td>0</td>\n",
              "      <td>0</td>\n",
              "    </tr>\n",
              "    <tr>\n",
              "      <th>7</th>\n",
              "      <td>KatamariItems</td>\n",
              "      <td>[Bot rolled up by @BeachEpisode] Cataloguing e...</td>\n",
              "      <td>8.541182e-05</td>\n",
              "      <td>0.000002</td>\n",
              "      <td>0.000143</td>\n",
              "      <td>Thu Jun 18 22:07:31 +0000 2015</td>\n",
              "      <td>0.000036</td>\n",
              "      <td>0.0</td>\n",
              "      <td>0.000378</td>\n",
              "      <td>{u'contributors': None, u'truncated': False, u...</td>\n",
              "      <td>1</td>\n",
              "      <td>0</td>\n",
              "      <td>0</td>\n",
              "      <td>Katamari Collection</td>\n",
              "      <td>1</td>\n",
              "      <td>bot roll @beachepisod catalogu everi item kat...</td>\n",
              "      <td>0</td>\n",
              "      <td>0</td>\n",
              "      <td>0</td>\n",
              "      <td>0</td>\n",
              "      <td>0</td>\n",
              "      <td>0</td>\n",
              "      <td>0</td>\n",
              "      <td>0</td>\n",
              "      <td>0</td>\n",
              "      <td>0</td>\n",
              "      <td>0</td>\n",
              "      <td>0</td>\n",
              "      <td>1</td>\n",
              "      <td>0</td>\n",
              "      <td>0</td>\n",
              "      <td>0</td>\n",
              "      <td>0</td>\n",
              "      <td>0</td>\n",
              "      <td>0</td>\n",
              "      <td>0</td>\n",
              "      <td>0</td>\n",
              "      <td>0</td>\n",
              "      <td>0</td>\n",
              "      <td>0</td>\n",
              "      <td>0</td>\n",
              "      <td>0</td>\n",
              "    </tr>\n",
              "  </tbody>\n",
              "</table>\n",
              "</div>"
            ],
            "text/plain": [
              "        screen_name  ... lang_zh-cn\n",
              "0  \"HoustonPokeMap\"  ...          0\n",
              "2   mattlieberisbot  ...          0\n",
              "5    dantheimprover  ...          0\n",
              "6       _all_of_us_  ...          0\n",
              "7     KatamariItems  ...          0\n",
              "\n",
              "[5 rows x 42 columns]"
            ]
          },
          "metadata": {
            "tags": []
          },
          "execution_count": 23
        }
      ]
    },
    {
      "cell_type": "markdown",
      "metadata": {
        "id": "KqnpUBKqjh4V"
      },
      "source": [
        "Now we'll create the two branches. Create a model for the numeric data that consists of 3 dense layers. An input layer and two hidden layers of size 32."
      ]
    },
    {
      "cell_type": "code",
      "metadata": {
        "id": "VnYjVKmK4a8s"
      },
      "source": [
        "input_1 = twitter.select_dtypes(\"number\").drop(columns=[\"bot\"])\r\n",
        "input_2 = ind_vars"
      ],
      "execution_count": 24,
      "outputs": []
    },
    {
      "cell_type": "code",
      "metadata": {
        "id": "SBhJTW0G6IXF"
      },
      "source": [
        "from sklearn.model_selection import train_test_split as tts\r\n",
        "\r\n",
        "# train-test split\r\n",
        "X_train_1, X_test_1, y_train_1, y_test_1 = tts(input_1, twitter.bot, test_size=0.2, random_state=117)\r\n",
        "X_train_2, X_test_2, y_train_2, y_test_2 = tts(input_2, twitter.bot, test_size=0.2, random_state=117)"
      ],
      "execution_count": 25,
      "outputs": []
    },
    {
      "cell_type": "code",
      "metadata": {
        "id": "qazo_4w8jh4V"
      },
      "source": [
        "from tensorflow.keras.layers import LSTM, Embedding, Flatten, Dropout, concatenate\n",
        "from tensorflow.keras.utils import plot_model\n",
        "# 1I2O\n",
        "\n",
        "# first branch\n",
        "# input layer\n",
        "input_layer_1 = Input(shape=X_train_1.shape[1],)\n",
        "# hidden layers\n",
        "path1_1 = Dense(32, activation='relu')(input_layer_1)\n",
        "path1_2 = Dense(32, activation='relu')(path1_1)\n",
        "#flat1 = Flatten()(path1_2)"
      ],
      "execution_count": 26,
      "outputs": []
    },
    {
      "cell_type": "markdown",
      "metadata": {
        "id": "yRP-ou9Ejh4X"
      },
      "source": [
        "Create the second branch of the model using the encoded words. This branch will consist of 4 layers: An input layer, an embedding layer returning data of dimension 100, an LSTM layer of unit size 32 and a dense layer of unit size 32. "
      ]
    },
    {
      "cell_type": "code",
      "metadata": {
        "id": "I1bLnn2Sjh4Y"
      },
      "source": [
        "# second branch\n",
        "# input layer\n",
        "input_layer_2 = Input(shape=X_train_2.shape[1],)\n",
        "# embedding\n",
        "embed_1 = Embedding(unique_words, 100)(input_layer_2)\n",
        "lstm_1 = LSTM(32)(embed_1)\n",
        "# hidden layer\n",
        "path2_1 = Dense(32, activation='relu')(lstm_1)\n",
        "#flat2 = Flatten()(path2_1)"
      ],
      "execution_count": 27,
      "outputs": []
    },
    {
      "cell_type": "markdown",
      "metadata": {
        "id": "Pbx549Vljh4Z"
      },
      "source": [
        "Merge the two models using the `concatenate` function (merge the two final dense layers in each branch) and create an output dense layer."
      ]
    },
    {
      "cell_type": "code",
      "metadata": {
        "id": "p6QrfrYijh4a"
      },
      "source": [
        "merge = concatenate([path1_2, path2_1])\n",
        "output = Dense(1, activation='sigmoid')(merge)"
      ],
      "execution_count": 28,
      "outputs": []
    },
    {
      "cell_type": "markdown",
      "metadata": {
        "id": "lz0-pz-Cjh4b"
      },
      "source": [
        "Create a model using the two inputs and the single output and print the summary"
      ]
    },
    {
      "cell_type": "code",
      "metadata": {
        "id": "6ZJtI6wAjh4c",
        "colab": {
          "base_uri": "https://localhost:8080/"
        },
        "outputId": "649720a0-c37e-4101-8b00-48f90ce2de0a"
      },
      "source": [
        "model = Model(inputs=[input_layer_1, input_layer_2], outputs=output)\n",
        "model.summary()"
      ],
      "execution_count": 29,
      "outputs": [
        {
          "output_type": "stream",
          "text": [
            "Model: \"model\"\n",
            "__________________________________________________________________________________________________\n",
            "Layer (type)                    Output Shape         Param #     Connected to                     \n",
            "==================================================================================================\n",
            "input_2 (InputLayer)            [(None, 66)]         0                                            \n",
            "__________________________________________________________________________________________________\n",
            "input_1 (InputLayer)            [(None, 35)]         0                                            \n",
            "__________________________________________________________________________________________________\n",
            "embedding (Embedding)           (None, 66, 100)      725300      input_2[0][0]                    \n",
            "__________________________________________________________________________________________________\n",
            "dense (Dense)                   (None, 32)           1152        input_1[0][0]                    \n",
            "__________________________________________________________________________________________________\n",
            "lstm (LSTM)                     (None, 32)           17024       embedding[0][0]                  \n",
            "__________________________________________________________________________________________________\n",
            "dense_1 (Dense)                 (None, 32)           1056        dense[0][0]                      \n",
            "__________________________________________________________________________________________________\n",
            "dense_2 (Dense)                 (None, 32)           1056        lstm[0][0]                       \n",
            "__________________________________________________________________________________________________\n",
            "concatenate (Concatenate)       (None, 64)           0           dense_1[0][0]                    \n",
            "                                                                 dense_2[0][0]                    \n",
            "__________________________________________________________________________________________________\n",
            "dense_3 (Dense)                 (None, 1)            65          concatenate[0][0]                \n",
            "==================================================================================================\n",
            "Total params: 745,653\n",
            "Trainable params: 745,653\n",
            "Non-trainable params: 0\n",
            "__________________________________________________________________________________________________\n"
          ],
          "name": "stdout"
        }
      ]
    },
    {
      "cell_type": "markdown",
      "metadata": {
        "id": "pHk3RhaSjh4e"
      },
      "source": [
        "Compile and fit the model using the appropriate optimizer, loss, and metrics. Train the model for 10 epochs with a batch size of 128."
      ]
    },
    {
      "cell_type": "code",
      "metadata": {
        "id": "4ceKDMXNjh4e",
        "colab": {
          "base_uri": "https://localhost:8080/"
        },
        "outputId": "dbf1172e-efeb-4d7e-e296-6858abeddb85"
      },
      "source": [
        "model.compile(optimizer='adam', loss='binary_crossentropy', metrics=['accuracy'])\n",
        "hist = model.fit(x=[X_train_1, X_train_2], y=y_train_1, epochs=10, batch_size=128, validation_data=([X_test_1, X_test_2], y_test_1))"
      ],
      "execution_count": 31,
      "outputs": [
        {
          "output_type": "stream",
          "text": [
            "Epoch 1/10\n",
            "14/14 [==============================] - 2s 52ms/step - loss: 0.6774 - accuracy: 0.7278 - val_loss: 0.6502 - val_accuracy: 0.7012\n",
            "Epoch 2/10\n",
            "14/14 [==============================] - 0s 18ms/step - loss: 0.6306 - accuracy: 0.7501 - val_loss: 0.5888 - val_accuracy: 0.7694\n",
            "Epoch 3/10\n",
            "14/14 [==============================] - 0s 18ms/step - loss: 0.5310 - accuracy: 0.8284 - val_loss: 0.4787 - val_accuracy: 0.8071\n",
            "Epoch 4/10\n",
            "14/14 [==============================] - 0s 17ms/step - loss: 0.3334 - accuracy: 0.9113 - val_loss: 0.4586 - val_accuracy: 0.8000\n",
            "Epoch 5/10\n",
            "14/14 [==============================] - 0s 18ms/step - loss: 0.2015 - accuracy: 0.9405 - val_loss: 0.3713 - val_accuracy: 0.8447\n",
            "Epoch 6/10\n",
            "14/14 [==============================] - 0s 18ms/step - loss: 0.1031 - accuracy: 0.9782 - val_loss: 0.4030 - val_accuracy: 0.8424\n",
            "Epoch 7/10\n",
            "14/14 [==============================] - 0s 17ms/step - loss: 0.0575 - accuracy: 0.9910 - val_loss: 0.4898 - val_accuracy: 0.8329\n",
            "Epoch 8/10\n",
            "14/14 [==============================] - 0s 18ms/step - loss: 0.0478 - accuracy: 0.9858 - val_loss: 0.4774 - val_accuracy: 0.8306\n",
            "Epoch 9/10\n",
            "14/14 [==============================] - 0s 18ms/step - loss: 0.0404 - accuracy: 0.9926 - val_loss: 0.5241 - val_accuracy: 0.8447\n",
            "Epoch 10/10\n",
            "14/14 [==============================] - 0s 17ms/step - loss: 0.0218 - accuracy: 0.9960 - val_loss: 0.5564 - val_accuracy: 0.8259\n"
          ],
          "name": "stdout"
        }
      ]
    },
    {
      "cell_type": "code",
      "metadata": {
        "colab": {
          "base_uri": "https://localhost:8080/",
          "height": 445
        },
        "id": "jDnAfda5_TG2",
        "outputId": "5c68442c-d93d-4f9e-8649-d0ac996a5baa"
      },
      "source": [
        "import matplotlib.pyplot as plt\r\n",
        "\r\n",
        "res = pd.DataFrame(hist.history)\r\n",
        "\r\n",
        "res[[\"accuracy\", \"val_accuracy\"]].plot(figsize=(12,7))"
      ],
      "execution_count": 41,
      "outputs": [
        {
          "output_type": "execute_result",
          "data": {
            "text/plain": [
              "<matplotlib.axes._subplots.AxesSubplot at 0x7fb634901940>"
            ]
          },
          "metadata": {
            "tags": []
          },
          "execution_count": 41
        },
        {
          "output_type": "display_data",
          "data": {
            "image/png": "[encoded data removed]",
            "text/plain": [
              "<Figure size 864x504 with 1 Axes>"
            ]
          },
          "metadata": {
            "tags": [],
            "needs_background": "light"
          }
        }
      ]
    },
    {
      "cell_type": "code",
      "metadata": {
        "colab": {
          "base_uri": "https://localhost:8080/",
          "height": 448
        },
        "id": "tzs1v3hB_a13",
        "outputId": "4b36ee9b-1dad-4e6f-a33b-53c6d6ce1959"
      },
      "source": [
        "res[[\"loss\", \"val_loss\"]].plot(figsize=(12,7))"
      ],
      "execution_count": 42,
      "outputs": [
        {
          "output_type": "execute_result",
          "data": {
            "text/plain": [
              "<matplotlib.axes._subplots.AxesSubplot at 0x7fb634955da0>"
            ]
          },
          "metadata": {
            "tags": []
          },
          "execution_count": 42
        },
        {
          "output_type": "display_data",
          "data": {
            "image/png": "[encoded data removed]",
            "text/plain": [
              "<Figure size 864x504 with 1 Axes>"
            ]
          },
          "metadata": {
            "tags": [],
            "needs_background": "light"
          }
        }
      ]
    }
  ]
}