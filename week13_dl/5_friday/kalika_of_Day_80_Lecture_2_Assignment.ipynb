{
  "nbformat": 4,
  "nbformat_minor": 0,
  "metadata": {
    "kernelspec": {
      "display_name": "Python 3",
      "language": "python",
      "name": "python3"
    },
    "language_info": {
      "codemirror_mode": {
        "name": "ipython",
        "version": 3
      },
      "file_extension": ".py",
      "mimetype": "text/x-python",
      "name": "python",
      "nbconvert_exporter": "python",
      "pygments_lexer": "ipython3",
      "version": "3.7.0"
    },
    "colab": {
      "name": "kalika of Day 80 Lecture 2 Assignment.ipynb",
      "provenance": [],
      "collapsed_sections": []
    }
  },
  "cells": [
    {
      "cell_type": "markdown",
      "metadata": {
        "id": "mkd31of4jh35"
      },
      "source": [
        "## Day 85 Lecture 1 Assignment\n",
        "\n",
        "In this assignment, we will learn how to use the other layers to improve our model performance."
      ]
    },
    {
      "cell_type": "code",
      "metadata": {
        "id": "GtUi79zbjh36"
      },
      "source": [
        "import numpy as np\n",
        "import pandas as pd"
      ],
      "execution_count": 1,
      "outputs": []
    },
    {
      "cell_type": "markdown",
      "metadata": {
        "id": "aZ2DH6Ndjh39"
      },
      "source": [
        "We will explore a dataset containing information about twitter users and will detect whether or not the user is a bot."
      ]
    },
    {
      "cell_type": "code",
      "metadata": {
        "id": "cj8bsG8Ijh3-"
      },
      "source": [
        "twitter = pd.read_csv('https://tf-assets-prod.s3.amazonaws.com/tf-curric/data-science/training_data_2_csv_UTF.csv')"
      ],
      "execution_count": 2,
      "outputs": []
    },
    {
      "cell_type": "code",
      "metadata": {
        "id": "X2MhRde7jh4A",
        "colab": {
          "base_uri": "https://localhost:8080/",
          "height": 501
        },
        "outputId": "46f6d954-f6a3-473d-b59c-5fb2f2bfca56"
      },
      "source": [
        "twitter.head()"
      ],
      "execution_count": 3,
      "outputs": [
        {
          "output_type": "execute_result",
          "data": {
            "text/html": [
              "<div>\n",
              "<style scoped>\n",
              "    .dataframe tbody tr th:only-of-type {\n",
              "        vertical-align: middle;\n",
              "    }\n",
              "\n",
              "    .dataframe tbody tr th {\n",
              "        vertical-align: top;\n",
              "    }\n",
              "\n",
              "    .dataframe thead th {\n",
              "        text-align: right;\n",
              "    }\n",
              "</style>\n",
              "<table border=\"1\" class=\"dataframe\">\n",
              "  <thead>\n",
              "    <tr style=\"text-align: right;\">\n",
              "      <th></th>\n",
              "      <th>id</th>\n",
              "      <th>id_str</th>\n",
              "      <th>screen_name</th>\n",
              "      <th>location</th>\n",
              "      <th>description</th>\n",
              "      <th>url</th>\n",
              "      <th>followers_count</th>\n",
              "      <th>friends_count</th>\n",
              "      <th>listed_count</th>\n",
              "      <th>created_at</th>\n",
              "      <th>favourites_count</th>\n",
              "      <th>verified</th>\n",
              "      <th>statuses_count</th>\n",
              "      <th>lang</th>\n",
              "      <th>status</th>\n",
              "      <th>default_profile</th>\n",
              "      <th>default_profile_image</th>\n",
              "      <th>has_extended_profile</th>\n",
              "      <th>name</th>\n",
              "      <th>bot</th>\n",
              "    </tr>\n",
              "  </thead>\n",
              "  <tbody>\n",
              "    <tr>\n",
              "      <th>0</th>\n",
              "      <td>8.160000e+17</td>\n",
              "      <td>\"815745789754417152\"</td>\n",
              "      <td>\"HoustonPokeMap\"</td>\n",
              "      <td>\"Houston, TX\"</td>\n",
              "      <td>\"Rare and strong PokŽmon in Houston, TX. See m...</td>\n",
              "      <td>\"https://t.co/dnWuDbFRkt\"</td>\n",
              "      <td>1291</td>\n",
              "      <td>0</td>\n",
              "      <td>10</td>\n",
              "      <td>\"Mon Jan 02 02:25:26 +0000 2017\"</td>\n",
              "      <td>0</td>\n",
              "      <td>False</td>\n",
              "      <td>78554</td>\n",
              "      <td>\"en\"</td>\n",
              "      <td>{\\r      \"created_at\": \"Sun Mar 12 15:44:04 +0...</td>\n",
              "      <td>True</td>\n",
              "      <td>False</td>\n",
              "      <td>False</td>\n",
              "      <td>\"Houston PokŽ Alert\"</td>\n",
              "      <td>1</td>\n",
              "    </tr>\n",
              "    <tr>\n",
              "      <th>1</th>\n",
              "      <td>4.843621e+09</td>\n",
              "      <td>4843621225</td>\n",
              "      <td>kernyeahx</td>\n",
              "      <td>Templeville town, MD, USA</td>\n",
              "      <td>From late 2014 Socium Marketplace will make sh...</td>\n",
              "      <td>NaN</td>\n",
              "      <td>1</td>\n",
              "      <td>349</td>\n",
              "      <td>0</td>\n",
              "      <td>2/1/2016 7:37</td>\n",
              "      <td>38</td>\n",
              "      <td>False</td>\n",
              "      <td>31</td>\n",
              "      <td>en</td>\n",
              "      <td>NaN</td>\n",
              "      <td>True</td>\n",
              "      <td>False</td>\n",
              "      <td>False</td>\n",
              "      <td>Keri Nelson</td>\n",
              "      <td>1</td>\n",
              "    </tr>\n",
              "    <tr>\n",
              "      <th>2</th>\n",
              "      <td>4.303727e+09</td>\n",
              "      <td>4303727112</td>\n",
              "      <td>mattlieberisbot</td>\n",
              "      <td>NaN</td>\n",
              "      <td>Inspired by the smart, funny folks at @replyal...</td>\n",
              "      <td>https://t.co/P1e1o0m4KC</td>\n",
              "      <td>1086</td>\n",
              "      <td>0</td>\n",
              "      <td>14</td>\n",
              "      <td>Fri Nov 20 18:53:22 +0000 2015</td>\n",
              "      <td>0</td>\n",
              "      <td>False</td>\n",
              "      <td>713</td>\n",
              "      <td>en</td>\n",
              "      <td>{'retweeted': False, 'is_quote_status': False,...</td>\n",
              "      <td>True</td>\n",
              "      <td>False</td>\n",
              "      <td>False</td>\n",
              "      <td>Matt Lieber Is Bot</td>\n",
              "      <td>1</td>\n",
              "    </tr>\n",
              "    <tr>\n",
              "      <th>3</th>\n",
              "      <td>3.063139e+09</td>\n",
              "      <td>3063139353</td>\n",
              "      <td>sc_papers</td>\n",
              "      <td>NaN</td>\n",
              "      <td>NaN</td>\n",
              "      <td>NaN</td>\n",
              "      <td>33</td>\n",
              "      <td>0</td>\n",
              "      <td>8</td>\n",
              "      <td>2/25/2015 20:11</td>\n",
              "      <td>0</td>\n",
              "      <td>False</td>\n",
              "      <td>676</td>\n",
              "      <td>en</td>\n",
              "      <td>Construction of human anti-tetanus single-chai...</td>\n",
              "      <td>True</td>\n",
              "      <td>True</td>\n",
              "      <td>False</td>\n",
              "      <td>single cell papers</td>\n",
              "      <td>1</td>\n",
              "    </tr>\n",
              "    <tr>\n",
              "      <th>4</th>\n",
              "      <td>2.955142e+09</td>\n",
              "      <td>2955142070</td>\n",
              "      <td>lucarivera16</td>\n",
              "      <td>Dublin, United States</td>\n",
              "      <td>Inspiring cooks everywhere since 1956.</td>\n",
              "      <td>NaN</td>\n",
              "      <td>11</td>\n",
              "      <td>745</td>\n",
              "      <td>0</td>\n",
              "      <td>1/1/2015 17:44</td>\n",
              "      <td>146</td>\n",
              "      <td>False</td>\n",
              "      <td>185</td>\n",
              "      <td>en</td>\n",
              "      <td>NaN</td>\n",
              "      <td>False</td>\n",
              "      <td>False</td>\n",
              "      <td>False</td>\n",
              "      <td>lucarivera16</td>\n",
              "      <td>1</td>\n",
              "    </tr>\n",
              "  </tbody>\n",
              "</table>\n",
              "</div>"
            ],
            "text/plain": [
              "             id                id_str  ...                  name bot\n",
              "0  8.160000e+17  \"815745789754417152\"  ...  \"Houston PokŽ Alert\"   1\n",
              "1  4.843621e+09            4843621225  ...           Keri Nelson   1\n",
              "2  4.303727e+09            4303727112  ...    Matt Lieber Is Bot   1\n",
              "3  3.063139e+09            3063139353  ...    single cell papers   1\n",
              "4  2.955142e+09            2955142070  ...          lucarivera16   1\n",
              "\n",
              "[5 rows x 20 columns]"
            ]
          },
          "metadata": {
            "tags": []
          },
          "execution_count": 3
        }
      ]
    },
    {
      "cell_type": "code",
      "metadata": {
        "id": "zV0g49h5jh4D",
        "colab": {
          "base_uri": "https://localhost:8080/"
        },
        "outputId": "7b0bca09-5f45-4c57-c72a-3128a651dcf2"
      },
      "source": [
        "twitter.shape"
      ],
      "execution_count": 4,
      "outputs": [
        {
          "output_type": "execute_result",
          "data": {
            "text/plain": [
              "(2797, 20)"
            ]
          },
          "metadata": {
            "tags": []
          },
          "execution_count": 4
        }
      ]
    },
    {
      "cell_type": "markdown",
      "metadata": {
        "id": "dsXMG4zajh4E"
      },
      "source": [
        "Start by getting rid of all columns that are not useful."
      ]
    },
    {
      "cell_type": "markdown",
      "metadata": {
        "id": "OQBDJyWPjh4H"
      },
      "source": [
        "Next, get rid of all columns that contain more than 30% missing data. After that, remove all rows containing at least one missing observation."
      ]
    },
    {
      "cell_type": "code",
      "metadata": {
        "id": "xSWc5t9Hjg2q"
      },
      "source": [
        "#A summary of missing variables represented as a percentage of the total missing content. \n",
        "def missingness_summary(df, print_log=False, sort='ascending'):\n",
        "  s = df.isnull().sum()*100/df.isnull().count()\n",
        "    \n",
        "  if sort.lower() == 'ascending':\n",
        "    s = s.sort_values(ascending=True)\n",
        "  elif sort.lower() == 'descending':\n",
        "    s = s.sort_values(ascending=False)  \n",
        "  if print_log: \n",
        "    print(s)\n",
        "  \n",
        "  return pd.Series(s)"
      ],
      "execution_count": 5,
      "outputs": []
    },
    {
      "cell_type": "code",
      "metadata": {
        "id": "vE1y_FXejh4F",
        "colab": {
          "base_uri": "https://localhost:8080/"
        },
        "outputId": "07ede3b4-b189-4963-e2f0-050cab3f1fc8"
      },
      "source": [
        "# Answer below:\n",
        "missingness_summary(twitter)"
      ],
      "execution_count": 6,
      "outputs": [
        {
          "output_type": "execute_result",
          "data": {
            "text/plain": [
              "id                        0.000000\n",
              "default_profile_image     0.000000\n",
              "default_profile           0.000000\n",
              "lang                      0.000000\n",
              "statuses_count            0.000000\n",
              "verified                  0.000000\n",
              "favourites_count          0.000000\n",
              "name                      0.000000\n",
              "created_at                0.000000\n",
              "friends_count             0.000000\n",
              "followers_count           0.000000\n",
              "screen_name               0.000000\n",
              "id_str                    0.000000\n",
              "listed_count              0.000000\n",
              "bot                       0.000000\n",
              "has_extended_profile      3.539507\n",
              "status                   10.332499\n",
              "description              14.408295\n",
              "location                 36.467644\n",
              "url                      47.979979\n",
              "dtype: float64"
            ]
          },
          "metadata": {
            "tags": []
          },
          "execution_count": 6
        }
      ]
    },
    {
      "cell_type": "code",
      "metadata": {
        "colab": {
          "base_uri": "https://localhost:8080/"
        },
        "id": "eyJBGm2Wj9Bc",
        "outputId": "b4350294-657f-40a2-c895-4b18a5b9e57f"
      },
      "source": [
        "twitter[['id', 'id_str']].nunique()"
      ],
      "execution_count": 7,
      "outputs": [
        {
          "output_type": "execute_result",
          "data": {
            "text/plain": [
              "id        2393\n",
              "id_str    2432\n",
              "dtype: int64"
            ]
          },
          "metadata": {
            "tags": []
          },
          "execution_count": 7
        }
      ]
    },
    {
      "cell_type": "code",
      "metadata": {
        "id": "oiljewDCjh4H",
        "colab": {
          "base_uri": "https://localhost:8080/",
          "height": 467
        },
        "outputId": "594c5886-e45e-4935-9145-7ec13f390aa5"
      },
      "source": [
        "# Answer below:\n",
        "data = twitter.drop(columns=['id', 'id_str', 'url', 'location']).dropna()\n",
        "data.head()"
      ],
      "execution_count": 8,
      "outputs": [
        {
          "output_type": "execute_result",
          "data": {
            "text/html": [
              "<div>\n",
              "<style scoped>\n",
              "    .dataframe tbody tr th:only-of-type {\n",
              "        vertical-align: middle;\n",
              "    }\n",
              "\n",
              "    .dataframe tbody tr th {\n",
              "        vertical-align: top;\n",
              "    }\n",
              "\n",
              "    .dataframe thead th {\n",
              "        text-align: right;\n",
              "    }\n",
              "</style>\n",
              "<table border=\"1\" class=\"dataframe\">\n",
              "  <thead>\n",
              "    <tr style=\"text-align: right;\">\n",
              "      <th></th>\n",
              "      <th>screen_name</th>\n",
              "      <th>description</th>\n",
              "      <th>followers_count</th>\n",
              "      <th>friends_count</th>\n",
              "      <th>listed_count</th>\n",
              "      <th>created_at</th>\n",
              "      <th>favourites_count</th>\n",
              "      <th>verified</th>\n",
              "      <th>statuses_count</th>\n",
              "      <th>lang</th>\n",
              "      <th>status</th>\n",
              "      <th>default_profile</th>\n",
              "      <th>default_profile_image</th>\n",
              "      <th>has_extended_profile</th>\n",
              "      <th>name</th>\n",
              "      <th>bot</th>\n",
              "    </tr>\n",
              "  </thead>\n",
              "  <tbody>\n",
              "    <tr>\n",
              "      <th>0</th>\n",
              "      <td>\"HoustonPokeMap\"</td>\n",
              "      <td>\"Rare and strong PokŽmon in Houston, TX. See m...</td>\n",
              "      <td>1291</td>\n",
              "      <td>0</td>\n",
              "      <td>10</td>\n",
              "      <td>\"Mon Jan 02 02:25:26 +0000 2017\"</td>\n",
              "      <td>0</td>\n",
              "      <td>False</td>\n",
              "      <td>78554</td>\n",
              "      <td>\"en\"</td>\n",
              "      <td>{\\r      \"created_at\": \"Sun Mar 12 15:44:04 +0...</td>\n",
              "      <td>True</td>\n",
              "      <td>False</td>\n",
              "      <td>False</td>\n",
              "      <td>\"Houston PokŽ Alert\"</td>\n",
              "      <td>1</td>\n",
              "    </tr>\n",
              "    <tr>\n",
              "      <th>2</th>\n",
              "      <td>mattlieberisbot</td>\n",
              "      <td>Inspired by the smart, funny folks at @replyal...</td>\n",
              "      <td>1086</td>\n",
              "      <td>0</td>\n",
              "      <td>14</td>\n",
              "      <td>Fri Nov 20 18:53:22 +0000 2015</td>\n",
              "      <td>0</td>\n",
              "      <td>False</td>\n",
              "      <td>713</td>\n",
              "      <td>en</td>\n",
              "      <td>{'retweeted': False, 'is_quote_status': False,...</td>\n",
              "      <td>True</td>\n",
              "      <td>False</td>\n",
              "      <td>False</td>\n",
              "      <td>Matt Lieber Is Bot</td>\n",
              "      <td>1</td>\n",
              "    </tr>\n",
              "    <tr>\n",
              "      <th>5</th>\n",
              "      <td>dantheimprover</td>\n",
              "      <td>Just a guy trying to do good by telling everyo...</td>\n",
              "      <td>1</td>\n",
              "      <td>186</td>\n",
              "      <td>0</td>\n",
              "      <td>13/03/2017 22:53</td>\n",
              "      <td>0</td>\n",
              "      <td>False</td>\n",
              "      <td>11</td>\n",
              "      <td>en</td>\n",
              "      <td>Status(_api=&lt;tweepy.api.API object at 0x101927...</td>\n",
              "      <td>True</td>\n",
              "      <td>False</td>\n",
              "      <td>True</td>\n",
              "      <td>dantheimprover</td>\n",
              "      <td>1</td>\n",
              "    </tr>\n",
              "    <tr>\n",
              "      <th>6</th>\n",
              "      <td>_all_of_us_</td>\n",
              "      <td>bot by @rubicon</td>\n",
              "      <td>193</td>\n",
              "      <td>0</td>\n",
              "      <td>19</td>\n",
              "      <td>Wed May 07 22:29:25 +0000 2014</td>\n",
              "      <td>0</td>\n",
              "      <td>False</td>\n",
              "      <td>6068</td>\n",
              "      <td>en</td>\n",
              "      <td>{u'contributors': None, u'truncated': False, u...</td>\n",
              "      <td>False</td>\n",
              "      <td>False</td>\n",
              "      <td>False</td>\n",
              "      <td>everything always</td>\n",
              "      <td>1</td>\n",
              "    </tr>\n",
              "    <tr>\n",
              "      <th>7</th>\n",
              "      <td>KatamariItems</td>\n",
              "      <td>[Bot rolled up by @BeachEpisode] Cataloguing e...</td>\n",
              "      <td>8227</td>\n",
              "      <td>2</td>\n",
              "      <td>89</td>\n",
              "      <td>Thu Jun 18 22:07:31 +0000 2015</td>\n",
              "      <td>26</td>\n",
              "      <td>False</td>\n",
              "      <td>2597</td>\n",
              "      <td>en</td>\n",
              "      <td>{u'contributors': None, u'truncated': False, u...</td>\n",
              "      <td>True</td>\n",
              "      <td>False</td>\n",
              "      <td>False</td>\n",
              "      <td>Katamari Collection</td>\n",
              "      <td>1</td>\n",
              "    </tr>\n",
              "  </tbody>\n",
              "</table>\n",
              "</div>"
            ],
            "text/plain": [
              "        screen_name  ... bot\n",
              "0  \"HoustonPokeMap\"  ...   1\n",
              "2   mattlieberisbot  ...   1\n",
              "5    dantheimprover  ...   1\n",
              "6       _all_of_us_  ...   1\n",
              "7     KatamariItems  ...   1\n",
              "\n",
              "[5 rows x 16 columns]"
            ]
          },
          "metadata": {
            "tags": []
          },
          "execution_count": 8
        }
      ]
    },
    {
      "cell_type": "markdown",
      "metadata": {
        "id": "_E-SvW3wjh4J"
      },
      "source": [
        "Now we will use our embedding functions from a previous assignment."
      ]
    },
    {
      "cell_type": "code",
      "metadata": {
        "id": "TeZkChWxjh4K",
        "colab": {
          "base_uri": "https://localhost:8080/"
        },
        "outputId": "db83975b-770a-4742-bf04-0dde1debfd26"
      },
      "source": [
        "import nltk\n",
        "nltk.download('stopwords')\n",
        "\n",
        "from nltk.corpus import stopwords\n",
        "import re\n",
        "from nltk.stem.porter import PorterStemmer\n",
        "stemmer = PorterStemmer()\n",
        "\n",
        "def remove_stopwords(input_text):\n",
        "        stopwords_list = stopwords.words('english')\n",
        "        # Some words which might indicate a certain sentiment are kept via a whitelist\n",
        "        whitelist = [\"n't\", \"not\", \"no\"]\n",
        "        words = input_text.split() \n",
        "        clean_words = [word for word in words if (word not in stopwords_list or word in whitelist) and len(word) > 1] \n",
        "        return \" \".join(clean_words)       \n",
        "\n",
        "def stem_list(word_list):\n",
        "    stemmed = []\n",
        "    for word in word_list:\n",
        "        stemmedword = stemmer.stem(word)\n",
        "        stemmed.append(stemmedword)\n",
        "    return stemmed\n",
        "\n",
        "def normalize(terms):\n",
        "    terms = terms.lower()\n",
        "    terms = remove_stopwords(terms)\n",
        "    word_delimiters = u'[\\\\[\\\\]\\n.!?,;:\\t\\\\-\\\\\"\\\\(\\\\)\\\\\\'\\u2019\\u2013 ]'\n",
        "    term_list = re.split(word_delimiters, terms)\n",
        "    trimmed = [x.rstrip() for x in term_list]\n",
        "    stemmed = stem_list(trimmed)\n",
        "    space = ' '\n",
        "    normed = space.join(stemmed)\n",
        "    normed = normed.replace('  ', ' ')\n",
        "    return normed"
      ],
      "execution_count": 9,
      "outputs": [
        {
          "output_type": "stream",
          "text": [
            "[nltk_data] Downloading package stopwords to /root/nltk_data...\n",
            "[nltk_data]   Package stopwords is already up-to-date!\n"
          ],
          "name": "stdout"
        }
      ]
    },
    {
      "cell_type": "markdown",
      "metadata": {
        "id": "--dr_BGJjh4L"
      },
      "source": [
        "We will create two branches, one branch will process the text data in the description and the other will process all other columns. First, create a numpy array with the encoded data from the description column. Normalize each description, one hot encode the text, pad the row and create a numpy array."
      ]
    },
    {
      "cell_type": "code",
      "metadata": {
        "id": "zx5FsY_8jh4M",
        "colab": {
          "base_uri": "https://localhost:8080/"
        },
        "outputId": "b0295b96-e8e5-4119-d8db-79db5155150d"
      },
      "source": [
        "# Answer below:\n",
        "from tensorflow.keras.preprocessing.sequence import pad_sequences\n",
        "from tensorflow.keras.preprocessing.text import one_hot\n",
        "data['desc_norm'] = data.description.apply(normalize)\n",
        "enc = data.desc_norm.apply(one_hot, args=[5000])\n",
        "enc = pad_sequences(enc)\n",
        "enc"
      ],
      "execution_count": 10,
      "outputs": [
        {
          "output_type": "execute_result",
          "data": {
            "text/plain": [
              "array([[   0,    0,    0, ...,  492, 1709, 1547],\n",
              "       [   0,    0,    0, ..., 1311, 4636,  581],\n",
              "       [   0,    0,    0, ..., 2575, 3313, 3888],\n",
              "       ...,\n",
              "       [   0,    0,    0, ...,    0,    0, 3623],\n",
              "       [   0,    0,    0, ..., 4253, 1955, 2484],\n",
              "       [   0,    0,    0, ..., 2541,  440,  448]], dtype=int32)"
            ]
          },
          "metadata": {
            "tags": []
          },
          "execution_count": 10
        }
      ]
    },
    {
      "cell_type": "markdown",
      "metadata": {
        "id": "IXQeqH9Ejh4N"
      },
      "source": [
        "Convert all boolean variables to numeric (zero for false and 1 for true)"
      ]
    },
    {
      "cell_type": "code",
      "metadata": {
        "id": "4OtQ7K3ojh4O",
        "colab": {
          "base_uri": "https://localhost:8080/"
        },
        "outputId": "56301664-c050-4dfa-9e14-5b917efbe4ea"
      },
      "source": [
        "# Answer below:\n",
        "bv = data.dtypes[data.dtypes.values == bool].keys()\n",
        "for val in bv:\n",
        "  data[val] = data[val].astype(int)\n",
        "\n",
        "data.dtypes"
      ],
      "execution_count": 11,
      "outputs": [
        {
          "output_type": "execute_result",
          "data": {
            "text/plain": [
              "screen_name              object\n",
              "description              object\n",
              "followers_count           int64\n",
              "friends_count             int64\n",
              "listed_count              int64\n",
              "created_at               object\n",
              "favourites_count          int64\n",
              "verified                  int64\n",
              "statuses_count            int64\n",
              "lang                     object\n",
              "status                   object\n",
              "default_profile           int64\n",
              "default_profile_image     int64\n",
              "has_extended_profile     object\n",
              "name                     object\n",
              "bot                       int64\n",
              "desc_norm                object\n",
              "dtype: object"
            ]
          },
          "metadata": {
            "tags": []
          },
          "execution_count": 11
        }
      ]
    },
    {
      "cell_type": "code",
      "metadata": {
        "colab": {
          "base_uri": "https://localhost:8080/",
          "height": 284
        },
        "id": "DtBvQa-YoLf7",
        "outputId": "5fe119aa-6d8a-4c89-e992-324ce68a5360"
      },
      "source": [
        "data.describe()"
      ],
      "execution_count": 12,
      "outputs": [
        {
          "output_type": "execute_result",
          "data": {
            "text/html": [
              "<div>\n",
              "<style scoped>\n",
              "    .dataframe tbody tr th:only-of-type {\n",
              "        vertical-align: middle;\n",
              "    }\n",
              "\n",
              "    .dataframe tbody tr th {\n",
              "        vertical-align: top;\n",
              "    }\n",
              "\n",
              "    .dataframe thead th {\n",
              "        text-align: right;\n",
              "    }\n",
              "</style>\n",
              "<table border=\"1\" class=\"dataframe\">\n",
              "  <thead>\n",
              "    <tr style=\"text-align: right;\">\n",
              "      <th></th>\n",
              "      <th>followers_count</th>\n",
              "      <th>friends_count</th>\n",
              "      <th>listed_count</th>\n",
              "      <th>favourites_count</th>\n",
              "      <th>verified</th>\n",
              "      <th>statuses_count</th>\n",
              "      <th>default_profile</th>\n",
              "      <th>default_profile_image</th>\n",
              "      <th>bot</th>\n",
              "    </tr>\n",
              "  </thead>\n",
              "  <tbody>\n",
              "    <tr>\n",
              "      <th>count</th>\n",
              "      <td>2.121000e+03</td>\n",
              "      <td>2121.000000</td>\n",
              "      <td>2121.000000</td>\n",
              "      <td>2121.000000</td>\n",
              "      <td>2121.000000</td>\n",
              "      <td>2.121000e+03</td>\n",
              "      <td>2121.000000</td>\n",
              "      <td>2121.000000</td>\n",
              "      <td>2121.000000</td>\n",
              "    </tr>\n",
              "    <tr>\n",
              "      <th>mean</th>\n",
              "      <td>1.163806e+06</td>\n",
              "      <td>4813.884960</td>\n",
              "      <td>3801.734088</td>\n",
              "      <td>2525.816124</td>\n",
              "      <td>0.287129</td>\n",
              "      <td>2.468691e+04</td>\n",
              "      <td>0.378124</td>\n",
              "      <td>0.015087</td>\n",
              "      <td>0.463932</td>\n",
              "    </tr>\n",
              "    <tr>\n",
              "      <th>std</th>\n",
              "      <td>5.943476e+06</td>\n",
              "      <td>45589.697276</td>\n",
              "      <td>18842.921887</td>\n",
              "      <td>18388.214376</td>\n",
              "      <td>0.452529</td>\n",
              "      <td>1.768575e+05</td>\n",
              "      <td>0.485033</td>\n",
              "      <td>0.121929</td>\n",
              "      <td>0.498815</td>\n",
              "    </tr>\n",
              "    <tr>\n",
              "      <th>min</th>\n",
              "      <td>0.000000e+00</td>\n",
              "      <td>0.000000</td>\n",
              "      <td>0.000000</td>\n",
              "      <td>0.000000</td>\n",
              "      <td>0.000000</td>\n",
              "      <td>1.000000e+00</td>\n",
              "      <td>0.000000</td>\n",
              "      <td>0.000000</td>\n",
              "      <td>0.000000</td>\n",
              "    </tr>\n",
              "    <tr>\n",
              "      <th>25%</th>\n",
              "      <td>1.130000e+02</td>\n",
              "      <td>3.000000</td>\n",
              "      <td>7.000000</td>\n",
              "      <td>0.000000</td>\n",
              "      <td>0.000000</td>\n",
              "      <td>6.340000e+02</td>\n",
              "      <td>0.000000</td>\n",
              "      <td>0.000000</td>\n",
              "      <td>0.000000</td>\n",
              "    </tr>\n",
              "    <tr>\n",
              "      <th>50%</th>\n",
              "      <td>9.040000e+02</td>\n",
              "      <td>183.000000</td>\n",
              "      <td>36.000000</td>\n",
              "      <td>42.000000</td>\n",
              "      <td>0.000000</td>\n",
              "      <td>3.918000e+03</td>\n",
              "      <td>0.000000</td>\n",
              "      <td>0.000000</td>\n",
              "      <td>0.000000</td>\n",
              "    </tr>\n",
              "    <tr>\n",
              "      <th>75%</th>\n",
              "      <td>4.884800e+04</td>\n",
              "      <td>763.000000</td>\n",
              "      <td>836.000000</td>\n",
              "      <td>770.000000</td>\n",
              "      <td>1.000000</td>\n",
              "      <td>1.393600e+04</td>\n",
              "      <td>1.000000</td>\n",
              "      <td>0.000000</td>\n",
              "      <td>1.000000</td>\n",
              "    </tr>\n",
              "    <tr>\n",
              "      <th>max</th>\n",
              "      <td>9.632156e+07</td>\n",
              "      <td>985943.000000</td>\n",
              "      <td>620331.000000</td>\n",
              "      <td>714021.000000</td>\n",
              "      <td>1.000000</td>\n",
              "      <td>6.863363e+06</td>\n",
              "      <td>1.000000</td>\n",
              "      <td>1.000000</td>\n",
              "      <td>1.000000</td>\n",
              "    </tr>\n",
              "  </tbody>\n",
              "</table>\n",
              "</div>"
            ],
            "text/plain": [
              "       followers_count  friends_count  ...  default_profile_image          bot\n",
              "count     2.121000e+03    2121.000000  ...            2121.000000  2121.000000\n",
              "mean      1.163806e+06    4813.884960  ...               0.015087     0.463932\n",
              "std       5.943476e+06   45589.697276  ...               0.121929     0.498815\n",
              "min       0.000000e+00       0.000000  ...               0.000000     0.000000\n",
              "25%       1.130000e+02       3.000000  ...               0.000000     0.000000\n",
              "50%       9.040000e+02     183.000000  ...               0.000000     0.000000\n",
              "75%       4.884800e+04     763.000000  ...               0.000000     1.000000\n",
              "max       9.632156e+07  985943.000000  ...               1.000000     1.000000\n",
              "\n",
              "[8 rows x 9 columns]"
            ]
          },
          "metadata": {
            "tags": []
          },
          "execution_count": 12
        }
      ]
    },
    {
      "cell_type": "markdown",
      "metadata": {
        "id": "hm8vuH43jh4Q"
      },
      "source": [
        "Create dummy variables out of the relevant object columns. Take caution when converting columns that may incorrectly classified as object."
      ]
    },
    {
      "cell_type": "code",
      "metadata": {
        "colab": {
          "base_uri": "https://localhost:8080/",
          "height": 195
        },
        "id": "O1KLHL3qoYP8",
        "outputId": "16088481-2158-4294-e785-1dcacee97c9f"
      },
      "source": [
        "data[['lang', 'has_extended_profile', ]].head()"
      ],
      "execution_count": 13,
      "outputs": [
        {
          "output_type": "execute_result",
          "data": {
            "text/html": [
              "<div>\n",
              "<style scoped>\n",
              "    .dataframe tbody tr th:only-of-type {\n",
              "        vertical-align: middle;\n",
              "    }\n",
              "\n",
              "    .dataframe tbody tr th {\n",
              "        vertical-align: top;\n",
              "    }\n",
              "\n",
              "    .dataframe thead th {\n",
              "        text-align: right;\n",
              "    }\n",
              "</style>\n",
              "<table border=\"1\" class=\"dataframe\">\n",
              "  <thead>\n",
              "    <tr style=\"text-align: right;\">\n",
              "      <th></th>\n",
              "      <th>lang</th>\n",
              "      <th>has_extended_profile</th>\n",
              "    </tr>\n",
              "  </thead>\n",
              "  <tbody>\n",
              "    <tr>\n",
              "      <th>0</th>\n",
              "      <td>\"en\"</td>\n",
              "      <td>False</td>\n",
              "    </tr>\n",
              "    <tr>\n",
              "      <th>2</th>\n",
              "      <td>en</td>\n",
              "      <td>False</td>\n",
              "    </tr>\n",
              "    <tr>\n",
              "      <th>5</th>\n",
              "      <td>en</td>\n",
              "      <td>True</td>\n",
              "    </tr>\n",
              "    <tr>\n",
              "      <th>6</th>\n",
              "      <td>en</td>\n",
              "      <td>False</td>\n",
              "    </tr>\n",
              "    <tr>\n",
              "      <th>7</th>\n",
              "      <td>en</td>\n",
              "      <td>False</td>\n",
              "    </tr>\n",
              "  </tbody>\n",
              "</table>\n",
              "</div>"
            ],
            "text/plain": [
              "   lang has_extended_profile\n",
              "0  \"en\"                False\n",
              "2    en                False\n",
              "5    en                 True\n",
              "6    en                False\n",
              "7    en                False"
            ]
          },
          "metadata": {
            "tags": []
          },
          "execution_count": 13
        }
      ]
    },
    {
      "cell_type": "code",
      "metadata": {
        "colab": {
          "base_uri": "https://localhost:8080/"
        },
        "id": "-m-yXCj2pEpi",
        "outputId": "f3c3c86e-93c1-4e25-c6c8-7d42a0e13d32"
      },
      "source": [
        "data[['lang', 'has_extended_profile', ]].nunique()"
      ],
      "execution_count": 14,
      "outputs": [
        {
          "output_type": "execute_result",
          "data": {
            "text/plain": [
              "lang                    27\n",
              "has_extended_profile     2\n",
              "dtype: int64"
            ]
          },
          "metadata": {
            "tags": []
          },
          "execution_count": 14
        }
      ]
    },
    {
      "cell_type": "code",
      "metadata": {
        "id": "_S7Xr7-epzOa"
      },
      "source": [
        "data.has_extended_profile = data.has_extended_profile.astype(int)"
      ],
      "execution_count": 15,
      "outputs": []
    },
    {
      "cell_type": "code",
      "metadata": {
        "colab": {
          "base_uri": "https://localhost:8080/"
        },
        "id": "F8zsFO6Mp6No",
        "outputId": "73bdf498-3224-4a53-910b-19da1f43d239"
      },
      "source": [
        "data.has_extended_profile.value_counts()"
      ],
      "execution_count": 16,
      "outputs": [
        {
          "output_type": "execute_result",
          "data": {
            "text/plain": [
              "0    1788\n",
              "1     333\n",
              "Name: has_extended_profile, dtype: int64"
            ]
          },
          "metadata": {
            "tags": []
          },
          "execution_count": 16
        }
      ]
    },
    {
      "cell_type": "code",
      "metadata": {
        "colab": {
          "base_uri": "https://localhost:8080/"
        },
        "id": "ecMXUfk_pMpP",
        "outputId": "0dba1b03-2be6-4d1e-a00f-1b654fa9c238"
      },
      "source": [
        "data.lang.value_counts()"
      ],
      "execution_count": 17,
      "outputs": [
        {
          "output_type": "execute_result",
          "data": {
            "text/plain": [
              "en         1883\n",
              "\"en\"         94\n",
              "en-gb        52\n",
              "es           19\n",
              "pt           14\n",
              "fr            8\n",
              "de            8\n",
              "it            6\n",
              "\"ja\"          6\n",
              "ja            4\n",
              "\"es\"          3\n",
              "\"pt\"          3\n",
              "nl            2\n",
              "ru            2\n",
              "zh-CN         2\n",
              "zh-cn         2\n",
              "\"en-gb\"       2\n",
              "tr            2\n",
              "\"zh-cn\"       1\n",
              "\"zh-CN\"       1\n",
              "ta            1\n",
              "\"fr\"          1\n",
              "gl            1\n",
              "\"ko\"          1\n",
              "\"da\"          1\n",
              "\"it\"          1\n",
              "ar            1\n",
              "Name: lang, dtype: int64"
            ]
          },
          "metadata": {
            "tags": []
          },
          "execution_count": 17
        }
      ]
    },
    {
      "cell_type": "code",
      "metadata": {
        "id": "ZyZzWBLfpWQZ"
      },
      "source": [
        "data.lang = data.lang.str.replace('\"', '')"
      ],
      "execution_count": 18,
      "outputs": []
    },
    {
      "cell_type": "code",
      "metadata": {
        "id": "jcb0fb4_jh4Q",
        "colab": {
          "base_uri": "https://localhost:8080/"
        },
        "outputId": "839b0620-073b-4e52-cb44-c9b2fa4d35e1"
      },
      "source": [
        "# Answer below:\n",
        "data.lang.value_counts()\n"
      ],
      "execution_count": 19,
      "outputs": [
        {
          "output_type": "execute_result",
          "data": {
            "text/plain": [
              "en       1977\n",
              "en-gb      54\n",
              "es         22\n",
              "pt         17\n",
              "ja         10\n",
              "fr          9\n",
              "de          8\n",
              "it          7\n",
              "zh-cn       3\n",
              "zh-CN       3\n",
              "ru          2\n",
              "tr          2\n",
              "nl          2\n",
              "da          1\n",
              "ta          1\n",
              "ko          1\n",
              "ar          1\n",
              "gl          1\n",
              "Name: lang, dtype: int64"
            ]
          },
          "metadata": {
            "tags": []
          },
          "execution_count": 19
        }
      ]
    },
    {
      "cell_type": "code",
      "metadata": {
        "colab": {
          "base_uri": "https://localhost:8080/"
        },
        "id": "t8hNSWsYqqX0",
        "outputId": "d6267330-ebb4-45d3-acfe-ddd06edad629"
      },
      "source": [
        "data.screen_name.nunique()"
      ],
      "execution_count": 20,
      "outputs": [
        {
          "output_type": "execute_result",
          "data": {
            "text/plain": [
              "2114"
            ]
          },
          "metadata": {
            "tags": []
          },
          "execution_count": 20
        }
      ]
    },
    {
      "cell_type": "code",
      "metadata": {
        "colab": {
          "base_uri": "https://localhost:8080/",
          "height": 501
        },
        "id": "Yn9qnGBWqCNY",
        "outputId": "37eca03e-09c5-4dfa-e54a-c13659672663"
      },
      "source": [
        "data = pd.get_dummies(data, drop_first=True, columns=['lang'])\r\n",
        "data.head()"
      ],
      "execution_count": 21,
      "outputs": [
        {
          "output_type": "execute_result",
          "data": {
            "text/html": [
              "<div>\n",
              "<style scoped>\n",
              "    .dataframe tbody tr th:only-of-type {\n",
              "        vertical-align: middle;\n",
              "    }\n",
              "\n",
              "    .dataframe tbody tr th {\n",
              "        vertical-align: top;\n",
              "    }\n",
              "\n",
              "    .dataframe thead th {\n",
              "        text-align: right;\n",
              "    }\n",
              "</style>\n",
              "<table border=\"1\" class=\"dataframe\">\n",
              "  <thead>\n",
              "    <tr style=\"text-align: right;\">\n",
              "      <th></th>\n",
              "      <th>screen_name</th>\n",
              "      <th>description</th>\n",
              "      <th>followers_count</th>\n",
              "      <th>friends_count</th>\n",
              "      <th>listed_count</th>\n",
              "      <th>created_at</th>\n",
              "      <th>favourites_count</th>\n",
              "      <th>verified</th>\n",
              "      <th>statuses_count</th>\n",
              "      <th>status</th>\n",
              "      <th>default_profile</th>\n",
              "      <th>default_profile_image</th>\n",
              "      <th>has_extended_profile</th>\n",
              "      <th>name</th>\n",
              "      <th>bot</th>\n",
              "      <th>desc_norm</th>\n",
              "      <th>lang_da</th>\n",
              "      <th>lang_de</th>\n",
              "      <th>lang_en</th>\n",
              "      <th>lang_en-gb</th>\n",
              "      <th>lang_es</th>\n",
              "      <th>lang_fr</th>\n",
              "      <th>lang_gl</th>\n",
              "      <th>lang_it</th>\n",
              "      <th>lang_ja</th>\n",
              "      <th>lang_ko</th>\n",
              "      <th>lang_nl</th>\n",
              "      <th>lang_pt</th>\n",
              "      <th>lang_ru</th>\n",
              "      <th>lang_ta</th>\n",
              "      <th>lang_tr</th>\n",
              "      <th>lang_zh-CN</th>\n",
              "      <th>lang_zh-cn</th>\n",
              "    </tr>\n",
              "  </thead>\n",
              "  <tbody>\n",
              "    <tr>\n",
              "      <th>0</th>\n",
              "      <td>\"HoustonPokeMap\"</td>\n",
              "      <td>\"Rare and strong PokŽmon in Houston, TX. See m...</td>\n",
              "      <td>1291</td>\n",
              "      <td>0</td>\n",
              "      <td>10</td>\n",
              "      <td>\"Mon Jan 02 02:25:26 +0000 2017\"</td>\n",
              "      <td>0</td>\n",
              "      <td>0</td>\n",
              "      <td>78554</td>\n",
              "      <td>{\\r      \"created_at\": \"Sun Mar 12 15:44:04 +0...</td>\n",
              "      <td>1</td>\n",
              "      <td>0</td>\n",
              "      <td>0</td>\n",
              "      <td>\"Houston PokŽ Alert\"</td>\n",
              "      <td>1</td>\n",
              "      <td>rare strong pokžmon houston tx see pokžmon ht...</td>\n",
              "      <td>0</td>\n",
              "      <td>0</td>\n",
              "      <td>1</td>\n",
              "      <td>0</td>\n",
              "      <td>0</td>\n",
              "      <td>0</td>\n",
              "      <td>0</td>\n",
              "      <td>0</td>\n",
              "      <td>0</td>\n",
              "      <td>0</td>\n",
              "      <td>0</td>\n",
              "      <td>0</td>\n",
              "      <td>0</td>\n",
              "      <td>0</td>\n",
              "      <td>0</td>\n",
              "      <td>0</td>\n",
              "      <td>0</td>\n",
              "    </tr>\n",
              "    <tr>\n",
              "      <th>2</th>\n",
              "      <td>mattlieberisbot</td>\n",
              "      <td>Inspired by the smart, funny folks at @replyal...</td>\n",
              "      <td>1086</td>\n",
              "      <td>0</td>\n",
              "      <td>14</td>\n",
              "      <td>Fri Nov 20 18:53:22 +0000 2015</td>\n",
              "      <td>0</td>\n",
              "      <td>0</td>\n",
              "      <td>713</td>\n",
              "      <td>{'retweeted': False, 'is_quote_status': False,...</td>\n",
              "      <td>1</td>\n",
              "      <td>0</td>\n",
              "      <td>0</td>\n",
              "      <td>Matt Lieber Is Bot</td>\n",
              "      <td>1</td>\n",
              "      <td>inspir smart funni folk @replyal @gimletmedia ...</td>\n",
              "      <td>0</td>\n",
              "      <td>0</td>\n",
              "      <td>1</td>\n",
              "      <td>0</td>\n",
              "      <td>0</td>\n",
              "      <td>0</td>\n",
              "      <td>0</td>\n",
              "      <td>0</td>\n",
              "      <td>0</td>\n",
              "      <td>0</td>\n",
              "      <td>0</td>\n",
              "      <td>0</td>\n",
              "      <td>0</td>\n",
              "      <td>0</td>\n",
              "      <td>0</td>\n",
              "      <td>0</td>\n",
              "      <td>0</td>\n",
              "    </tr>\n",
              "    <tr>\n",
              "      <th>5</th>\n",
              "      <td>dantheimprover</td>\n",
              "      <td>Just a guy trying to do good by telling everyo...</td>\n",
              "      <td>1</td>\n",
              "      <td>186</td>\n",
              "      <td>0</td>\n",
              "      <td>13/03/2017 22:53</td>\n",
              "      <td>0</td>\n",
              "      <td>0</td>\n",
              "      <td>11</td>\n",
              "      <td>Status(_api=&lt;tweepy.api.API object at 0x101927...</td>\n",
              "      <td>1</td>\n",
              "      <td>0</td>\n",
              "      <td>1</td>\n",
              "      <td>dantheimprover</td>\n",
              "      <td>1</td>\n",
              "      <td>guy tri good tell everyon els get better</td>\n",
              "      <td>0</td>\n",
              "      <td>0</td>\n",
              "      <td>1</td>\n",
              "      <td>0</td>\n",
              "      <td>0</td>\n",
              "      <td>0</td>\n",
              "      <td>0</td>\n",
              "      <td>0</td>\n",
              "      <td>0</td>\n",
              "      <td>0</td>\n",
              "      <td>0</td>\n",
              "      <td>0</td>\n",
              "      <td>0</td>\n",
              "      <td>0</td>\n",
              "      <td>0</td>\n",
              "      <td>0</td>\n",
              "      <td>0</td>\n",
              "    </tr>\n",
              "    <tr>\n",
              "      <th>6</th>\n",
              "      <td>_all_of_us_</td>\n",
              "      <td>bot by @rubicon</td>\n",
              "      <td>193</td>\n",
              "      <td>0</td>\n",
              "      <td>19</td>\n",
              "      <td>Wed May 07 22:29:25 +0000 2014</td>\n",
              "      <td>0</td>\n",
              "      <td>0</td>\n",
              "      <td>6068</td>\n",
              "      <td>{u'contributors': None, u'truncated': False, u...</td>\n",
              "      <td>0</td>\n",
              "      <td>0</td>\n",
              "      <td>0</td>\n",
              "      <td>everything always</td>\n",
              "      <td>1</td>\n",
              "      <td>bot @rubicon</td>\n",
              "      <td>0</td>\n",
              "      <td>0</td>\n",
              "      <td>1</td>\n",
              "      <td>0</td>\n",
              "      <td>0</td>\n",
              "      <td>0</td>\n",
              "      <td>0</td>\n",
              "      <td>0</td>\n",
              "      <td>0</td>\n",
              "      <td>0</td>\n",
              "      <td>0</td>\n",
              "      <td>0</td>\n",
              "      <td>0</td>\n",
              "      <td>0</td>\n",
              "      <td>0</td>\n",
              "      <td>0</td>\n",
              "      <td>0</td>\n",
              "    </tr>\n",
              "    <tr>\n",
              "      <th>7</th>\n",
              "      <td>KatamariItems</td>\n",
              "      <td>[Bot rolled up by @BeachEpisode] Cataloguing e...</td>\n",
              "      <td>8227</td>\n",
              "      <td>2</td>\n",
              "      <td>89</td>\n",
              "      <td>Thu Jun 18 22:07:31 +0000 2015</td>\n",
              "      <td>26</td>\n",
              "      <td>0</td>\n",
              "      <td>2597</td>\n",
              "      <td>{u'contributors': None, u'truncated': False, u...</td>\n",
              "      <td>1</td>\n",
              "      <td>0</td>\n",
              "      <td>0</td>\n",
              "      <td>Katamari Collection</td>\n",
              "      <td>1</td>\n",
              "      <td>bot roll @beachepisod catalogu everi item kat...</td>\n",
              "      <td>0</td>\n",
              "      <td>0</td>\n",
              "      <td>1</td>\n",
              "      <td>0</td>\n",
              "      <td>0</td>\n",
              "      <td>0</td>\n",
              "      <td>0</td>\n",
              "      <td>0</td>\n",
              "      <td>0</td>\n",
              "      <td>0</td>\n",
              "      <td>0</td>\n",
              "      <td>0</td>\n",
              "      <td>0</td>\n",
              "      <td>0</td>\n",
              "      <td>0</td>\n",
              "      <td>0</td>\n",
              "      <td>0</td>\n",
              "    </tr>\n",
              "  </tbody>\n",
              "</table>\n",
              "</div>"
            ],
            "text/plain": [
              "        screen_name  ... lang_zh-cn\n",
              "0  \"HoustonPokeMap\"  ...          0\n",
              "2   mattlieberisbot  ...          0\n",
              "5    dantheimprover  ...          0\n",
              "6       _all_of_us_  ...          0\n",
              "7     KatamariItems  ...          0\n",
              "\n",
              "[5 rows x 33 columns]"
            ]
          },
          "metadata": {
            "tags": []
          },
          "execution_count": 21
        }
      ]
    },
    {
      "cell_type": "markdown",
      "metadata": {
        "id": "OM1NT0I6jh4S"
      },
      "source": [
        "Min max scale the data decribing each user (do not min max scale the word embeddings)."
      ]
    },
    {
      "cell_type": "code",
      "metadata": {
        "colab": {
          "base_uri": "https://localhost:8080/"
        },
        "id": "MGicB0XerOf5",
        "outputId": "1b085d3f-9bd4-47a9-b900-a25fdabbd10f"
      },
      "source": [
        "data.columns"
      ],
      "execution_count": 22,
      "outputs": [
        {
          "output_type": "execute_result",
          "data": {
            "text/plain": [
              "Index(['screen_name', 'description', 'followers_count', 'friends_count',\n",
              "       'listed_count', 'created_at', 'favourites_count', 'verified',\n",
              "       'statuses_count', 'status', 'default_profile', 'default_profile_image',\n",
              "       'has_extended_profile', 'name', 'bot', 'desc_norm', 'lang_da',\n",
              "       'lang_de', 'lang_en', 'lang_en-gb', 'lang_es', 'lang_fr', 'lang_gl',\n",
              "       'lang_it', 'lang_ja', 'lang_ko', 'lang_nl', 'lang_pt', 'lang_ru',\n",
              "       'lang_ta', 'lang_tr', 'lang_zh-CN', 'lang_zh-cn'],\n",
              "      dtype='object')"
            ]
          },
          "metadata": {
            "tags": []
          },
          "execution_count": 22
        }
      ]
    },
    {
      "cell_type": "code",
      "metadata": {
        "id": "FWjM6c2fjh4T"
      },
      "source": [
        "# Answer below:\n",
        "from sklearn.preprocessing import MinMaxScaler\n",
        "\n",
        "scaler = MinMaxScaler()\n",
        "X_desc =data[['followers_count', 'friends_count',\n",
        "       'listed_count', 'favourites_count', 'verified',\n",
        "       'statuses_count', 'default_profile', 'default_profile_image',\n",
        "       'has_extended_profile', 'lang_da',\n",
        "       'lang_de', 'lang_en', 'lang_en-gb', 'lang_es', 'lang_fr', 'lang_gl',\n",
        "       'lang_it', 'lang_ja', 'lang_ko', 'lang_nl', 'lang_pt', 'lang_ru',\n",
        "       'lang_ta', 'lang_tr', 'lang_zh-CN', 'lang_zh-cn']]\n",
        "X_desc = scaler.fit_transform(X_desc)\n",
        "y = data.bot"
      ],
      "execution_count": 23,
      "outputs": []
    },
    {
      "cell_type": "markdown",
      "metadata": {
        "id": "KqnpUBKqjh4V"
      },
      "source": [
        "Now we'll create the two branches. Create a model for the numeric data that consists of 3 dense layers. An input layer and two hidden layers of size 32."
      ]
    },
    {
      "cell_type": "code",
      "metadata": {
        "colab": {
          "base_uri": "https://localhost:8080/"
        },
        "id": "enFMoJcitEsz",
        "outputId": "e2564831-2fac-456d-dfa0-64de47da4532"
      },
      "source": [
        "X_desc.shape"
      ],
      "execution_count": 24,
      "outputs": [
        {
          "output_type": "execute_result",
          "data": {
            "text/plain": [
              "(2121, 26)"
            ]
          },
          "metadata": {
            "tags": []
          },
          "execution_count": 24
        }
      ]
    },
    {
      "cell_type": "code",
      "metadata": {
        "id": "qazo_4w8jh4V"
      },
      "source": [
        "#NUMERIC BRANCH  \n",
        "\n",
        "# Answer below:\n",
        "from tensorflow.keras.layers import Input, Dense\n",
        "from tensorflow.keras.models import Model\n",
        "\n",
        "# create input\n",
        "inputs = Input(shape=X_desc.shape[1], name='numeric_input')\n",
        "\n",
        "# hidden layers\n",
        "h1 = Dense(32, activation='relu', name='numeric_hidden_1')(inputs)\n",
        "h2 = Dense(32, activation='relu', name='numeric_hidden_2')(h1)"
      ],
      "execution_count": 25,
      "outputs": []
    },
    {
      "cell_type": "markdown",
      "metadata": {
        "id": "yRP-ou9Ejh4X"
      },
      "source": [
        "Create the second branch of the model using the encoded words. This branch will consist of 4 layers: An input layer, an embedding layer returning data of dimension 100, an LSTM layer of unit size 32 and a dense layer of unit size 32. "
      ]
    },
    {
      "cell_type": "code",
      "metadata": {
        "id": "I1bLnn2Sjh4Y"
      },
      "source": [
        "#WORD BRANCH\n",
        "from tensorflow.keras.layers import LSTM, Embedding, Input, Flatten, Dense\n",
        "\n",
        "# input layer\n",
        "inputTensor = Input(shape=(enc.shape[1], ), name='word_input' )\n",
        "\n",
        "# embedding layer\n",
        "embed = Embedding(5000, 100, input_length=(enc.shape[1], ), name='word_embed')(inputTensor)\n",
        "\n",
        "\n",
        "# lstm layer\n",
        "lstm = LSTM(32, name='word_lstm')(embed)\n",
        "\n",
        "# dense layer\n",
        "h1 = Dense(32, activation='relu', name='word_hidden_1')(lstm)\n"
      ],
      "execution_count": 26,
      "outputs": []
    },
    {
      "cell_type": "markdown",
      "metadata": {
        "id": "Pbx549Vljh4Z"
      },
      "source": [
        "Merge the two models using the `concatenate` function (merge the two final dense layers in each branch) and create an output dense layer."
      ]
    },
    {
      "cell_type": "code",
      "metadata": {
        "id": "p6QrfrYijh4a"
      },
      "source": [
        "from tensorflow.keras.layers import concatenate\n",
        "# Answer below:\n",
        "concat = concatenate([h2, h1])\n",
        "\n",
        "# output\n",
        "output = Dense(1, activation='sigmoid', name='output')(concat) "
      ],
      "execution_count": 27,
      "outputs": []
    },
    {
      "cell_type": "markdown",
      "metadata": {
        "id": "lz0-pz-Cjh4b"
      },
      "source": [
        "Create a model using the two inputs and the single output and print the summary"
      ]
    },
    {
      "cell_type": "code",
      "metadata": {
        "id": "6ZJtI6wAjh4c"
      },
      "source": [
        "# Answer below: \n",
        "model = Model(inputs=[inputs, inputTensor], outputs=output)"
      ],
      "execution_count": 28,
      "outputs": []
    },
    {
      "cell_type": "code",
      "metadata": {
        "id": "NhlBHQVnjh4h",
        "colab": {
          "base_uri": "https://localhost:8080/"
        },
        "outputId": "e8242711-a089-4bd6-8513-d19c10d46b1e"
      },
      "source": [
        "model.summary()"
      ],
      "execution_count": 29,
      "outputs": [
        {
          "output_type": "stream",
          "text": [
            "Model: \"model\"\n",
            "__________________________________________________________________________________________________\n",
            "Layer (type)                    Output Shape         Param #     Connected to                     \n",
            "==================================================================================================\n",
            "word_input (InputLayer)         [(None, 66)]         0                                            \n",
            "__________________________________________________________________________________________________\n",
            "numeric_input (InputLayer)      [(None, 26)]         0                                            \n",
            "__________________________________________________________________________________________________\n",
            "word_embed (Embedding)          (None, 66, 100)      500000      word_input[0][0]                 \n",
            "__________________________________________________________________________________________________\n",
            "numeric_hidden_1 (Dense)        (None, 32)           864         numeric_input[0][0]              \n",
            "__________________________________________________________________________________________________\n",
            "word_lstm (LSTM)                (None, 32)           17024       word_embed[0][0]                 \n",
            "__________________________________________________________________________________________________\n",
            "numeric_hidden_2 (Dense)        (None, 32)           1056        numeric_hidden_1[0][0]           \n",
            "__________________________________________________________________________________________________\n",
            "word_hidden_1 (Dense)           (None, 32)           1056        word_lstm[0][0]                  \n",
            "__________________________________________________________________________________________________\n",
            "concatenate (Concatenate)       (None, 64)           0           numeric_hidden_2[0][0]           \n",
            "                                                                 word_hidden_1[0][0]              \n",
            "__________________________________________________________________________________________________\n",
            "output (Dense)                  (None, 1)            65          concatenate[0][0]                \n",
            "==================================================================================================\n",
            "Total params: 520,065\n",
            "Trainable params: 520,065\n",
            "Non-trainable params: 0\n",
            "__________________________________________________________________________________________________\n"
          ],
          "name": "stdout"
        }
      ]
    },
    {
      "cell_type": "markdown",
      "metadata": {
        "id": "pHk3RhaSjh4e"
      },
      "source": [
        "Compile and fit the model using the appropriate optimizer, loss, and metrics. Train the model for 10 epochs with a batch size of 128."
      ]
    },
    {
      "cell_type": "code",
      "metadata": {
        "id": "4ceKDMXNjh4e"
      },
      "source": [
        "# Answer below:\n",
        "model.compile(optimizer='RMSProp', \n",
        "              loss='binary_crossentropy', \n",
        "              metrics=['accuracy']) \n",
        "    "
      ],
      "execution_count": 30,
      "outputs": []
    },
    {
      "cell_type": "code",
      "metadata": {
        "colab": {
          "base_uri": "https://localhost:8080/"
        },
        "id": "SsUxW2oreI-q",
        "outputId": "8ae429fc-e5cf-4ea1-afa6-6b9287e4da76"
      },
      "source": [
        "model.fit(x=[X_desc, enc], y=y, epochs=10, batch_size=128)"
      ],
      "execution_count": 31,
      "outputs": [
        {
          "output_type": "stream",
          "text": [
            "Epoch 1/10\n",
            "17/17 [==============================] - 3s 59ms/step - loss: 0.6734 - accuracy: 0.5653\n",
            "Epoch 2/10\n",
            "17/17 [==============================] - 1s 59ms/step - loss: 0.5431 - accuracy: 0.8741\n",
            "Epoch 3/10\n",
            "17/17 [==============================] - 1s 58ms/step - loss: 0.3243 - accuracy: 0.9133\n",
            "Epoch 4/10\n",
            "17/17 [==============================] - 1s 58ms/step - loss: 0.2264 - accuracy: 0.9313\n",
            "Epoch 5/10\n",
            "17/17 [==============================] - 1s 58ms/step - loss: 0.1539 - accuracy: 0.9492\n",
            "Epoch 6/10\n",
            "17/17 [==============================] - 1s 57ms/step - loss: 0.1135 - accuracy: 0.9724\n",
            "Epoch 7/10\n",
            "17/17 [==============================] - 1s 59ms/step - loss: 0.0914 - accuracy: 0.9679\n",
            "Epoch 8/10\n",
            "17/17 [==============================] - 1s 57ms/step - loss: 0.0538 - accuracy: 0.9864\n",
            "Epoch 9/10\n",
            "17/17 [==============================] - 1s 59ms/step - loss: 0.0416 - accuracy: 0.9899\n",
            "Epoch 10/10\n",
            "17/17 [==============================] - 1s 59ms/step - loss: 0.0410 - accuracy: 0.9879\n"
          ],
          "name": "stdout"
        },
        {
          "output_type": "execute_result",
          "data": {
            "text/plain": [
              "<tensorflow.python.keras.callbacks.History at 0x7f3001cd0160>"
            ]
          },
          "metadata": {
            "tags": []
          },
          "execution_count": 31
        }
      ]
    },
    {
      "cell_type": "code",
      "metadata": {
        "id": "w32rKtaIgUnW"
      },
      "source": [
        "#NUMERIC BRANCH  \r\n",
        "\r\n",
        "# Answer below:\r\n",
        "from tensorflow.keras.layers import Input, Dense\r\n",
        "from tensorflow.keras.models import Model\r\n",
        "\r\n",
        "# create input\r\n",
        "inputs = Input(shape=X_desc.shape[1], name='numeric_input')\r\n",
        "\r\n",
        "# hidden layers\r\n",
        "h1 = Dense(32, activation='relu', name='numeric_hidden_1')(inputs)\r\n",
        "h2 = Dense(32, activation='relu', name='numeric_hidden_2')(h1)\r\n",
        "\r\n",
        "\r\n",
        "#WORD BRANCH\r\n",
        "from tensorflow.keras.layers import LSTM, Embedding, Input, Flatten, Dense\r\n",
        "\r\n",
        "# input layer\r\n",
        "inputTensor = Input(shape=(enc.shape[1], ), name='word_input' )\r\n",
        "\r\n",
        "# embedding layer\r\n",
        "embed = Embedding(5000, 100, input_length=(enc.shape[1], ), name='word_embed')(inputTensor)\r\n",
        "\r\n",
        "\r\n",
        "# lstm layer\r\n",
        "lstm = LSTM(32, name='word_lstm')(embed)\r\n",
        "\r\n",
        "# dense layer\r\n",
        "h1 = Dense(32, activation='relu', name='word_hidden_1')(lstm)\r\n",
        "\r\n",
        "\r\n",
        "from tensorflow.keras.layers import concatenate\r\n",
        "# Answer below:\r\n",
        "concat = concatenate([h2, h1])\r\n",
        "\r\n",
        "# output\r\n",
        "output = Dense(1, activation='sigmoid', name='output')(concat) \r\n",
        "\r\n",
        "\r\n",
        "# Answer below: \r\n",
        "model = Model(inputs=[inputs, inputTensor], outputs=output)"
      ],
      "execution_count": 32,
      "outputs": []
    },
    {
      "cell_type": "code",
      "metadata": {
        "colab": {
          "base_uri": "https://localhost:8080/"
        },
        "id": "dCK1smeheX_7",
        "outputId": "381fc048-b760-4061-8c2a-28167918ce9a"
      },
      "source": [
        "# Answer below:\r\n",
        "model.compile(optimizer='adam', \r\n",
        "              loss='binary_crossentropy', \r\n",
        "              metrics=['accuracy']) \r\n",
        "    \r\n",
        "model.fit(x=[X_desc, enc], y=y, epochs=10, batch_size=128)"
      ],
      "execution_count": 33,
      "outputs": [
        {
          "output_type": "stream",
          "text": [
            "Epoch 1/10\n",
            "17/17 [==============================] - 3s 64ms/step - loss: 0.6750 - accuracy: 0.6779\n",
            "Epoch 2/10\n",
            "17/17 [==============================] - 1s 64ms/step - loss: 0.6150 - accuracy: 0.7488\n",
            "Epoch 3/10\n",
            "17/17 [==============================] - 1s 64ms/step - loss: 0.4365 - accuracy: 0.8985\n",
            "Epoch 4/10\n",
            "17/17 [==============================] - 1s 65ms/step - loss: 0.2296 - accuracy: 0.9478\n",
            "Epoch 5/10\n",
            "17/17 [==============================] - 1s 64ms/step - loss: 0.1322 - accuracy: 0.9638\n",
            "Epoch 6/10\n",
            "17/17 [==============================] - 1s 62ms/step - loss: 0.0878 - accuracy: 0.9812\n",
            "Epoch 7/10\n",
            "17/17 [==============================] - 1s 60ms/step - loss: 0.0507 - accuracy: 0.9871\n",
            "Epoch 8/10\n",
            "17/17 [==============================] - 1s 59ms/step - loss: 0.0379 - accuracy: 0.9915\n",
            "Epoch 9/10\n",
            "17/17 [==============================] - 1s 60ms/step - loss: 0.0414 - accuracy: 0.9920\n",
            "Epoch 10/10\n",
            "17/17 [==============================] - 1s 60ms/step - loss: 0.0296 - accuracy: 0.9886\n"
          ],
          "name": "stdout"
        },
        {
          "output_type": "execute_result",
          "data": {
            "text/plain": [
              "<tensorflow.python.keras.callbacks.History at 0x7f2fc94ba400>"
            ]
          },
          "metadata": {
            "tags": []
          },
          "execution_count": 33
        }
      ]
    },
    {
      "cell_type": "code",
      "metadata": {
        "id": "YxWJSvOFf5l6"
      },
      "source": [
        ""
      ],
      "execution_count": 33,
      "outputs": []
    }
  ]
}