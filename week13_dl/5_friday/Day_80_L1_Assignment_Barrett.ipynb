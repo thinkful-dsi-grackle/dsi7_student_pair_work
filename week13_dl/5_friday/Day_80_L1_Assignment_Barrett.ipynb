{
  "nbformat": 4,
  "nbformat_minor": 0,
  "metadata": {
    "kernelspec": {
      "display_name": "Python 3",
      "language": "python",
      "name": "python3"
    },
    "language_info": {
      "codemirror_mode": {
        "name": "ipython",
        "version": 3
      },
      "file_extension": ".py",
      "mimetype": "text/x-python",
      "name": "python",
      "nbconvert_exporter": "python",
      "pygments_lexer": "ipython3",
      "version": "3.7.0"
    },
    "colab": {
      "name": "Day_80_L1_Assignment_Barrett.ipynb",
      "provenance": [],
      "collapsed_sections": []
    },
    "accelerator": "GPU"
  },
  "cells": [
    {
      "cell_type": "markdown",
      "metadata": {
        "id": "s3b2_cqaKWkw"
      },
      "source": [
        "## Long Short-Term Memory \n",
        "\n",
        "In this assignment, we will learn about LSTM models. We will create an LSTM model for time series prediction."
      ]
    },
    {
      "cell_type": "code",
      "metadata": {
        "id": "k0a6OKp4KWkz"
      },
      "source": [
        "import numpy as np\n",
        "import os\n",
        "import pandas as pd\n",
        "import seaborn as sns\n",
        "from sklearn.metrics import confusion_matrix\n",
        "\n",
        "from tensorflow.keras.preprocessing.text import one_hot\n",
        "from tensorflow.keras.preprocessing.sequence import pad_sequences\n",
        "from tensorflow.keras.models import Sequential\n",
        "from tensorflow.keras.layers import Dense, Embedding, SimpleRNN, LSTM, Dropout, Flatten, GRU\n",
        "from tensorflow.keras.utils import to_categorical\n",
        "\n",
        "from sklearn.model_selection import train_test_split"
      ],
      "execution_count": 56,
      "outputs": []
    },
    {
      "cell_type": "code",
      "metadata": {
        "colab": {
          "base_uri": "https://localhost:8080/"
        },
        "id": "xkGd7APJkxsS",
        "outputId": "2d67721f-ed7b-407a-f02e-3babadd8d666"
      },
      "source": [
        "from google.colab import drive\n",
        "drive.mount('/content/drive')"
      ],
      "execution_count": 40,
      "outputs": [
        {
          "output_type": "stream",
          "text": [
            "Drive already mounted at /content/drive; to attempt to forcibly remount, call drive.mount(\"/content/drive\", force_remount=True).\n"
          ],
          "name": "stdout"
        }
      ]
    },
    {
      "cell_type": "markdown",
      "metadata": {
        "id": "UY5p0gThKWk1"
      },
      "source": [
        "Below is a function for loading time series data collected by sensors. There are 9 different files, We have data about body acceleration, body gyro, and total acceleration for the x, y, and z axis"
      ]
    },
    {
      "cell_type": "code",
      "metadata": {
        "id": "kAhD_8wwKWk2"
      },
      "source": [
        "def load_func(path, file_ind=False):\n",
        "    data_list = []\n",
        "    if file_ind:\n",
        "        filenames = [path]\n",
        "    else:\n",
        "        files = os.listdir(path)\n",
        "        files.sort()\n",
        "        filenames = [path + '/' + f for f in files]\n",
        "    for f in filenames:\n",
        "        dataframe = pd.read_csv(f, header=None, delim_whitespace=True)\n",
        "        data_list.append(dataframe.values)\n",
        "    if len(data_list) > 1:\n",
        "        return np.dstack(data_list)\n",
        "    else:\n",
        "        return data_list[0]"
      ],
      "execution_count": 75,
      "outputs": []
    },
    {
      "cell_type": "code",
      "metadata": {
        "id": "06u-u8e4KWk4",
        "colab": {
          "base_uri": "https://localhost:8080/"
        },
        "outputId": "f2122842-525c-44b8-b104-078f5778656d"
      },
      "source": [
        "os.listdir('/content/drive/MyDrive/Thinkful/DL/UCI HAR Dataset/train/Inertial Signals/')"
      ],
      "execution_count": 76,
      "outputs": [
        {
          "output_type": "execute_result",
          "data": {
            "text/plain": [
              "['body_acc_y_train.txt',\n",
              " 'body_gyro_z_train.txt',\n",
              " 'body_acc_x_train.txt',\n",
              " 'total_acc_z_train.txt',\n",
              " 'body_gyro_x_train.txt',\n",
              " 'body_gyro_y_train.txt',\n",
              " 'total_acc_y_train.txt',\n",
              " 'total_acc_x_train.txt',\n",
              " 'body_acc_z_train.txt']"
            ]
          },
          "metadata": {
            "tags": []
          },
          "execution_count": 76
        }
      ]
    },
    {
      "cell_type": "code",
      "metadata": {
        "id": "c5_0OBVeKWk7"
      },
      "source": [
        "X_train = load_func(\"/content/drive/MyDrive/Thinkful/DL/UCI HAR Dataset/train/Inertial Signals\")\n",
        "X_test = load_func(\"/content/drive/MyDrive/Thinkful/DL/UCI HAR Dataset/test/Inertial Signals\")\n",
        "y_train_cat = load_func('/content/drive/MyDrive/Thinkful/DL/UCI HAR Dataset/train/y_train.txt', True)\n",
        "y_test_cat = load_func('/content/drive/MyDrive/Thinkful/DL/UCI HAR Dataset/test/y_test.txt', True)"
      ],
      "execution_count": 79,
      "outputs": []
    },
    {
      "cell_type": "markdown",
      "metadata": {
        "id": "Rgw_29IQKWk8"
      },
      "source": [
        "Print the dimensions of both the predictor variables and the target."
      ]
    },
    {
      "cell_type": "code",
      "metadata": {
        "id": "BBiwN-zUKWk9",
        "colab": {
          "base_uri": "https://localhost:8080/"
        },
        "outputId": "c4bcfc56-7a08-4513-b7c0-3ba7f31e9fda"
      },
      "source": [
        "# Answer below:\n",
        "print(X_train.shape, y_train_cat.shape)\n",
        "print(X_test.shape, y_test_cat.shape)"
      ],
      "execution_count": 80,
      "outputs": [
        {
          "output_type": "stream",
          "text": [
            "(7352, 128, 9) (7352, 1)\n",
            "(2947, 128, 9) (2947, 1)\n"
          ],
          "name": "stdout"
        }
      ]
    },
    {
      "cell_type": "markdown",
      "metadata": {
        "id": "2rL-Y9KFKWk-"
      },
      "source": [
        "The target variable is categorical. One hot encode the target variable."
      ]
    },
    {
      "cell_type": "code",
      "metadata": {
        "id": "1-SItyKI9IVo"
      },
      "source": [
        "# Answer below:\n",
        "# y_train_encoded = np.zeros((y_train_cat.flatten().size, y_train_cat.flatten().max()))\n",
        "# y_train_encoded[np.arange(y_train_cat.flatten().size),(y_train_cat.flatten()-1)] = 1\n",
        "# y_train_encoded.shape"
      ],
      "execution_count": 81,
      "outputs": []
    },
    {
      "cell_type": "code",
      "metadata": {
        "id": "5TkEROCu9vH3"
      },
      "source": [
        "# y_test_encoded = np.zeros((y_test_cat.flatten().size, y_test_cat.flatten().max()))\n",
        "# y_test_encoded[np.arange(y_test_cat.flatten().size),(y_test_cat.flatten()-1)] = 1\n",
        "# y_test_encoded.shape"
      ],
      "execution_count": 82,
      "outputs": []
    },
    {
      "cell_type": "code",
      "metadata": {
        "id": "D5FFYCOJ9Y67"
      },
      "source": [
        "# y_train_encoded = np.zeros((y_train_cat.flatten().size, y_train_cat.flatten().max()+1))\n",
        "# y_train_encoded[np.arange(y_train_cat.flatten().size),y_train_cat.flatten()] = 1\n",
        "# y_train_encoded.shape"
      ],
      "execution_count": 83,
      "outputs": []
    },
    {
      "cell_type": "code",
      "metadata": {
        "colab": {
          "base_uri": "https://localhost:8080/"
        },
        "id": "iVJV-_b1If0A",
        "outputId": "4e75b13c-e9fd-47da-e0b1-77d5280745e6"
      },
      "source": [
        "y_train = to_categorical(y_train_cat.flatten() - 1, 6)\n",
        "y_train"
      ],
      "execution_count": 84,
      "outputs": [
        {
          "output_type": "execute_result",
          "data": {
            "text/plain": [
              "array([[0., 0., 0., 0., 1., 0.],\n",
              "       [0., 0., 0., 0., 1., 0.],\n",
              "       [0., 0., 0., 0., 1., 0.],\n",
              "       ...,\n",
              "       [0., 1., 0., 0., 0., 0.],\n",
              "       [0., 1., 0., 0., 0., 0.],\n",
              "       [0., 1., 0., 0., 0., 0.]], dtype=float32)"
            ]
          },
          "metadata": {
            "tags": []
          },
          "execution_count": 84
        }
      ]
    },
    {
      "cell_type": "code",
      "metadata": {
        "colab": {
          "base_uri": "https://localhost:8080/"
        },
        "id": "V6JWpuC5IsIy",
        "outputId": "3f515674-4d03-4731-ef8e-7b123b98128e"
      },
      "source": [
        "y_test= to_categorical(y_test_cat.flatten() - 1, 6)\n",
        "y_test"
      ],
      "execution_count": 85,
      "outputs": [
        {
          "output_type": "execute_result",
          "data": {
            "text/plain": [
              "array([[0., 0., 0., 0., 1., 0.],\n",
              "       [0., 0., 0., 0., 1., 0.],\n",
              "       [0., 0., 0., 0., 1., 0.],\n",
              "       ...,\n",
              "       [0., 1., 0., 0., 0., 0.],\n",
              "       [0., 1., 0., 0., 0., 0.],\n",
              "       [0., 1., 0., 0., 0., 0.]], dtype=float32)"
            ]
          },
          "metadata": {
            "tags": []
          },
          "execution_count": 85
        }
      ]
    },
    {
      "cell_type": "markdown",
      "metadata": {
        "id": "HeKcEUwsKWlA"
      },
      "source": [
        "Create a model containing an LSTM layer with unit size 100, and input shape that is the tuple containing the number of columns in X and the number of files in X.\n",
        "\n",
        "The next layer is a dropout layer. Choose 0.5 for the proportion. Then add a dense layer of unit size 100 and finally an output dense layer. "
      ]
    },
    {
      "cell_type": "code",
      "metadata": {
        "colab": {
          "base_uri": "https://localhost:8080/"
        },
        "id": "bCuCGK2OKim8",
        "outputId": "f8603586-0e7c-43fe-d1fa-7cdcf8a8d0c4"
      },
      "source": [
        "n_timesteps, n_features, n_outputs = X_train.shape[1], X_train.shape[2], y_train.shape[1]\n",
        "n_timesteps, n_features, n_outputs"
      ],
      "execution_count": 86,
      "outputs": [
        {
          "output_type": "execute_result",
          "data": {
            "text/plain": [
              "(128, 9, 6)"
            ]
          },
          "metadata": {
            "tags": []
          },
          "execution_count": 86
        }
      ]
    },
    {
      "cell_type": "code",
      "metadata": {
        "id": "lIa69H5kBO2V"
      },
      "source": [
        "model = Sequential()\n",
        "\n",
        "model.add(LSTM(100, input_shape=(n_timesteps, n_features)))\n",
        "model.add(Dropout(0.5))\n",
        "model.add(Dense(100, activation='relu'))\n",
        "model.add(Dense(n_outputs, activation='softmax'))"
      ],
      "execution_count": 87,
      "outputs": []
    },
    {
      "cell_type": "markdown",
      "metadata": {
        "id": "GX4stdzAKWlC"
      },
      "source": [
        "Print the model summary to ensure you have the correct number of parameters."
      ]
    },
    {
      "cell_type": "code",
      "metadata": {
        "id": "AbUNEvSJKWlE",
        "colab": {
          "base_uri": "https://localhost:8080/"
        },
        "outputId": "aeeec496-e949-4558-d1b5-2d1acb409263"
      },
      "source": [
        "# Answer below:\n",
        "model.summary()"
      ],
      "execution_count": 88,
      "outputs": [
        {
          "output_type": "stream",
          "text": [
            "Model: \"sequential_3\"\n",
            "_________________________________________________________________\n",
            "Layer (type)                 Output Shape              Param #   \n",
            "=================================================================\n",
            "lstm_3 (LSTM)                (None, 100)               44000     \n",
            "_________________________________________________________________\n",
            "dropout_3 (Dropout)          (None, 100)               0         \n",
            "_________________________________________________________________\n",
            "dense_6 (Dense)              (None, 100)               10100     \n",
            "_________________________________________________________________\n",
            "dense_7 (Dense)              (None, 6)                 606       \n",
            "=================================================================\n",
            "Total params: 54,706\n",
            "Trainable params: 54,706\n",
            "Non-trainable params: 0\n",
            "_________________________________________________________________\n"
          ],
          "name": "stdout"
        }
      ]
    },
    {
      "cell_type": "markdown",
      "metadata": {
        "id": "Ww7tK6UwKWlG"
      },
      "source": [
        "Compile and fit the model. Select the appropriate activation, loss, and optimizer.\n",
        "\n",
        "Run the model for 10 epochs with a batch size of 80."
      ]
    },
    {
      "cell_type": "code",
      "metadata": {
        "id": "qdMikFoMKWlG",
        "colab": {
          "base_uri": "https://localhost:8080/"
        },
        "outputId": "879496ba-ea85-4e3d-ffe5-07d62b3ce605"
      },
      "source": [
        "# Answer below:\n",
        "model.compile(loss='categorical_crossentropy', optimizer='adam', metrics=['accuracy'])\n",
        "history = model.fit(X_train, y_train, epochs=10, batch_size=80,\n",
        "          validation_data=(X_test, y_test))"
      ],
      "execution_count": 89,
      "outputs": [
        {
          "output_type": "stream",
          "text": [
            "Epoch 1/10\n",
            "92/92 [==============================] - 3s 17ms/step - loss: 1.4494 - accuracy: 0.3887 - val_loss: 1.1224 - val_accuracy: 0.5083\n",
            "Epoch 2/10\n",
            "92/92 [==============================] - 1s 11ms/step - loss: 1.0456 - accuracy: 0.5613 - val_loss: 0.8007 - val_accuracy: 0.6685\n",
            "Epoch 3/10\n",
            "92/92 [==============================] - 1s 11ms/step - loss: 0.6525 - accuracy: 0.7179 - val_loss: 0.6040 - val_accuracy: 0.7587\n",
            "Epoch 4/10\n",
            "92/92 [==============================] - 1s 11ms/step - loss: 0.4912 - accuracy: 0.8045 - val_loss: 0.5956 - val_accuracy: 0.7923\n",
            "Epoch 5/10\n",
            "92/92 [==============================] - 1s 11ms/step - loss: 0.3897 - accuracy: 0.8575 - val_loss: 0.4426 - val_accuracy: 0.8375\n",
            "Epoch 6/10\n",
            "92/92 [==============================] - 1s 11ms/step - loss: 0.3036 - accuracy: 0.8954 - val_loss: 0.4390 - val_accuracy: 0.8565\n",
            "Epoch 7/10\n",
            "92/92 [==============================] - 1s 11ms/step - loss: 0.2152 - accuracy: 0.9244 - val_loss: 0.3896 - val_accuracy: 0.8802\n",
            "Epoch 8/10\n",
            "92/92 [==============================] - 1s 11ms/step - loss: 0.2221 - accuracy: 0.9241 - val_loss: 0.4090 - val_accuracy: 0.8653\n",
            "Epoch 9/10\n",
            "92/92 [==============================] - 1s 11ms/step - loss: 0.2225 - accuracy: 0.9169 - val_loss: 0.4300 - val_accuracy: 0.8470\n",
            "Epoch 10/10\n",
            "92/92 [==============================] - 1s 11ms/step - loss: 0.1825 - accuracy: 0.9356 - val_loss: 0.3360 - val_accuracy: 0.8826\n"
          ],
          "name": "stdout"
        }
      ]
    },
    {
      "cell_type": "markdown",
      "metadata": {
        "id": "h-_IsmrcKWlI"
      },
      "source": [
        "Print the confusion matrix for the test data."
      ]
    },
    {
      "cell_type": "code",
      "metadata": {
        "id": "JSL7sJZFDA6W"
      },
      "source": [
        "y_pred = np.argmax(model.predict(X_test), axis=-1)+1"
      ],
      "execution_count": 90,
      "outputs": []
    },
    {
      "cell_type": "code",
      "metadata": {
        "colab": {
          "base_uri": "https://localhost:8080/"
        },
        "id": "XSklEe7eLGqV",
        "outputId": "fbfc5d18-0151-451d-f61f-eff79a773682"
      },
      "source": [
        "np.unique(y_pred)"
      ],
      "execution_count": 91,
      "outputs": [
        {
          "output_type": "execute_result",
          "data": {
            "text/plain": [
              "array([1, 2, 3, 4, 5, 6])"
            ]
          },
          "metadata": {
            "tags": []
          },
          "execution_count": 91
        }
      ]
    },
    {
      "cell_type": "code",
      "metadata": {
        "colab": {
          "base_uri": "https://localhost:8080/"
        },
        "id": "296Pz5SrfUwz",
        "outputId": "25ecb2e4-8c0c-475d-bc24-e6d78e48886c"
      },
      "source": [
        "np.unique(y_test_cat)"
      ],
      "execution_count": 92,
      "outputs": [
        {
          "output_type": "execute_result",
          "data": {
            "text/plain": [
              "array([1, 2, 3, 4, 5, 6])"
            ]
          },
          "metadata": {
            "tags": []
          },
          "execution_count": 92
        }
      ]
    },
    {
      "cell_type": "code",
      "metadata": {
        "id": "B_UZ_QIsdjz8",
        "colab": {
          "base_uri": "https://localhost:8080/"
        },
        "outputId": "1a363c56-4a81-4d7c-d886-2ca8dc21d83d"
      },
      "source": [
        "cm = confusion_matrix(y_test_cat, y_pred)\n",
        "cm"
      ],
      "execution_count": 98,
      "outputs": [
        {
          "output_type": "execute_result",
          "data": {
            "text/plain": [
              "array([[477,  16,   3,   0,   0,   0],\n",
              "       [ 39, 421,   9,   0,   2,   0],\n",
              "       [  4,  22, 394,   0,   0,   0],\n",
              "       [  0,  15,   2, 299, 172,   3],\n",
              "       [  1,   1,   0,  30, 500,   0],\n",
              "       [  0,  27,   0,   0,   0, 510]])"
            ]
          },
          "metadata": {
            "tags": []
          },
          "execution_count": 98
        }
      ]
    },
    {
      "cell_type": "code",
      "metadata": {
        "colab": {
          "base_uri": "https://localhost:8080/",
          "height": 282
        },
        "id": "61QkecTiMFWu",
        "outputId": "83a7d194-6988-475c-9236-b63fc2ae90b6"
      },
      "source": [
        "sns.heatmap(cm, annot=True, cmap='Blues', fmt='.0f')"
      ],
      "execution_count": 99,
      "outputs": [
        {
          "output_type": "execute_result",
          "data": {
            "text/plain": [
              "<matplotlib.axes._subplots.AxesSubplot at 0x7f08dfe86860>"
            ]
          },
          "metadata": {
            "tags": []
          },
          "execution_count": 99
        },
        {
          "output_type": "display_data",
          "data": {
            "image/png": "[encoded data removed]",
            "text/plain": [
              "<Figure size 432x288 with 2 Axes>"
            ]
          },
          "metadata": {
            "tags": [],
            "needs_background": "light"
          }
        }
      ]
    },
    {
      "cell_type": "markdown",
      "metadata": {
        "id": "-kuBkx41mOTa"
      },
      "source": [
        "#Lecture Notes"
      ]
    },
    {
      "cell_type": "code",
      "metadata": {
        "id": "aWYBpvlBdPH8"
      },
      "source": [
        "from nltk.corpus import stopwords\n",
        "import re\n",
        "from nltk.stem.porter import PorterStemmer\n",
        "\n",
        "import nltk\n",
        "nltk.download('stopwords')"
      ],
      "execution_count": null,
      "outputs": []
    },
    {
      "cell_type": "code",
      "metadata": {
        "id": "2Av1VsDKmN6e"
      },
      "source": [
        "tweets = pd.read_csv('https://tf-assets-prod.s3.amazonaws.com/tf-curric/data-science/Tweets.csv')"
      ],
      "execution_count": 13,
      "outputs": []
    },
    {
      "cell_type": "code",
      "metadata": {
        "id": "hLeNIvwIqcUJ"
      },
      "source": [
        "tweets = tweets[['text','airline_sentiment']]"
      ],
      "execution_count": 14,
      "outputs": []
    },
    {
      "cell_type": "code",
      "metadata": {
        "id": "KSuoK-nJqdCB"
      },
      "source": [
        "\n",
        "stemmer = PorterStemmer()\n",
        "\n",
        "def remove_stopwords(input_text):\n",
        "        stopwords_list = stopwords.words('english')\n",
        "        # Some words which might indicate a certain sentiment are kept via a whitelist\n",
        "        whitelist = [\"n't\", \"not\", \"no\"]\n",
        "        words = input_text.split() \n",
        "        clean_words = [word for word in words if (word not in stopwords_list or word in whitelist) and len(word) > 1] \n",
        "        return \" \".join(clean_words)       \n",
        "\n",
        "def remove_mentions(input_text):\n",
        "  return re.sub(r'@\\w+', '', input_text)\n",
        "\n",
        "def stem_list(word_list):\n",
        "    stemmed = []\n",
        "    for word in word_list:\n",
        "        stemmedword = stemmer.stem(word)\n",
        "        stemmed.append(stemmedword)\n",
        "    return stemmed\n",
        "\n",
        "def normalize(terms):\n",
        "    terms = terms.lower()\n",
        "    terms = remove_stopwords(terms)\n",
        "    word_delimiters = u'[\\\\[\\\\]\\n.!?,;:\\t\\\\-\\\\\"\\\\(\\\\)\\\\\\'\\u2019\\u2013 ]'\n",
        "    term_list = re.split(word_delimiters, terms)\n",
        "    trimmed = [x.strip() for x in term_list]\n",
        "    stemmed = stem_list(trimmed)\n",
        "    space = ' '\n",
        "    normed = space.join(stemmed)\n",
        "    normed = normed.replace('  ', ' ').replace('  ', ' ')\n",
        "    return normed.strip()"
      ],
      "execution_count": 15,
      "outputs": []
    },
    {
      "cell_type": "code",
      "metadata": {
        "id": "35XJGSDRrLJE"
      },
      "source": [
        "tweets.text = tweets.text.apply(remove_stopwords).apply(remove_mentions)"
      ],
      "execution_count": 16,
      "outputs": []
    },
    {
      "cell_type": "code",
      "metadata": {
        "id": "QvIcPw1wrWF5"
      },
      "source": [
        "tweets['normalized'] = tweets.text.apply(normalize)"
      ],
      "execution_count": 17,
      "outputs": []
    },
    {
      "cell_type": "code",
      "metadata": {
        "colab": {
          "base_uri": "https://localhost:8080/"
        },
        "id": "IwZ2EXrasGER",
        "outputId": "e27a2fef-a0dc-4450-ea4d-6332f8a0f13c"
      },
      "source": [
        "vocab_size = len(list(set(tweets['normalized'].apply(lambda x:x.split(' ')).sum())))\n",
        "vocab_size"
      ],
      "execution_count": 19,
      "outputs": [
        {
          "output_type": "execute_result",
          "data": {
            "text/plain": [
              "13038"
            ]
          },
          "metadata": {
            "tags": []
          },
          "execution_count": 19
        }
      ]
    },
    {
      "cell_type": "code",
      "metadata": {
        "id": "UV8EfZenseJP"
      },
      "source": [
        "tweets['encoded'] = tweets['normalized'].apply(one_hot, args=[vocab_size])"
      ],
      "execution_count": 20,
      "outputs": []
    },
    {
      "cell_type": "code",
      "metadata": {
        "colab": {
          "base_uri": "https://localhost:8080/"
        },
        "id": "yIIWqsp4svtV",
        "outputId": "cf4316da-5285-46b9-92f1-039d35881d4e"
      },
      "source": [
        "ind_vars = pad_sequences(tweets['encoded'])\n",
        "ind_vars"
      ],
      "execution_count": 21,
      "outputs": [
        {
          "output_type": "execute_result",
          "data": {
            "text/plain": [
              "array([[    0,     0,     0, ...,     0,     0,  6281],\n",
              "       [    0,     0,     0, ...,  6552,  5174,  7926],\n",
              "       [    0,     0,     0, ...,  3538,   643,  3451],\n",
              "       ...,\n",
              "       [    0,     0,     0, ..., 12836,  6257,  9850],\n",
              "       [    0,     0,     0, ..., 11568,  9207, 12128],\n",
              "       [    0,     0,     0, ...,  4389,  5578, 12551]], dtype=int32)"
            ]
          },
          "metadata": {
            "tags": []
          },
          "execution_count": 21
        }
      ]
    },
    {
      "cell_type": "code",
      "metadata": {
        "colab": {
          "base_uri": "https://localhost:8080/"
        },
        "id": "ccL9l2F0s16F",
        "outputId": "84226b80-a56e-4b6f-c01f-e934238bfadd"
      },
      "source": [
        "tweets['airline_sentiment'].unique()"
      ],
      "execution_count": 22,
      "outputs": [
        {
          "output_type": "execute_result",
          "data": {
            "text/plain": [
              "array(['neutral', 'positive', 'negative'], dtype=object)"
            ]
          },
          "metadata": {
            "tags": []
          },
          "execution_count": 22
        }
      ]
    },
    {
      "cell_type": "code",
      "metadata": {
        "id": "uyqrAIRAs7Lk"
      },
      "source": [
        "target = pd.get_dummies(tweets['airline_sentiment'])"
      ],
      "execution_count": 23,
      "outputs": []
    },
    {
      "cell_type": "code",
      "metadata": {
        "id": "-OIpLu9WtAi5"
      },
      "source": [
        "X_train, X_test, y_train, y_test = train_test_split(ind_vars, target, test_size=0.2)"
      ],
      "execution_count": 24,
      "outputs": []
    },
    {
      "cell_type": "code",
      "metadata": {
        "colab": {
          "base_uri": "https://localhost:8080/"
        },
        "id": "xO0l-nP2tQpg",
        "outputId": "8d98544a-4981-497f-cfa4-0f4a711ffb22"
      },
      "source": [
        "max_words = np.max(ind_vars) + 1 #grabs largest numeric encoded value\n",
        "max_words"
      ],
      "execution_count": 25,
      "outputs": [
        {
          "output_type": "execute_result",
          "data": {
            "text/plain": [
              "13037"
            ]
          },
          "metadata": {
            "tags": []
          },
          "execution_count": 25
        }
      ]
    },
    {
      "cell_type": "code",
      "metadata": {
        "id": "UjQir9aVtU3m"
      },
      "source": [
        "num_class = target.shape[1]\n",
        "max_len = X_train.shape[1]"
      ],
      "execution_count": 26,
      "outputs": []
    },
    {
      "cell_type": "code",
      "metadata": {
        "colab": {
          "base_uri": "https://localhost:8080/"
        },
        "id": "bAfW_hILtYsc",
        "outputId": "792a1648-1713-4b7a-bd65-5c4c108d35ec"
      },
      "source": [
        "model = Sequential()\n",
        "model.add(Embedding(max_words, 100, input_length = max_len)) # 100 is output of embedding layer\n",
        "model.add(LSTM(256))\n",
        "model.add(Dense(512, activation='relu'))\n",
        "model.add(Dense(num_class, activation='softmax'))\n",
        "model.summary()"
      ],
      "execution_count": 27,
      "outputs": [
        {
          "output_type": "stream",
          "text": [
            "Model: \"sequential\"\n",
            "_________________________________________________________________\n",
            "Layer (type)                 Output Shape              Param #   \n",
            "=================================================================\n",
            "embedding (Embedding)        (None, 26, 100)           1303700   \n",
            "_________________________________________________________________\n",
            "lstm (LSTM)                  (None, 256)               365568    \n",
            "_________________________________________________________________\n",
            "dense (Dense)                (None, 512)               131584    \n",
            "_________________________________________________________________\n",
            "dense_1 (Dense)              (None, 3)                 1539      \n",
            "=================================================================\n",
            "Total params: 1,802,391\n",
            "Trainable params: 1,802,391\n",
            "Non-trainable params: 0\n",
            "_________________________________________________________________\n"
          ],
          "name": "stdout"
        }
      ]
    },
    {
      "cell_type": "code",
      "metadata": {
        "colab": {
          "base_uri": "https://localhost:8080/"
        },
        "id": "afpq2LyytmIv",
        "outputId": "03e7c429-6ce7-4ba6-e915-d78d57249094"
      },
      "source": [
        "model.compile(loss='categorical_crossentropy', optimizer='adam', metrics=['accuracy'])\n",
        "model.fit(X_train, y_train, epochs=50, batch_size=128,\n",
        "          validation_data=(X_test, y_test))"
      ],
      "execution_count": 28,
      "outputs": [
        {
          "output_type": "stream",
          "text": [
            "Epoch 1/50\n",
            "92/92 [==============================] - 11s 29ms/step - loss: 0.8650 - accuracy: 0.6296 - val_loss: 0.5704 - val_accuracy: 0.7643\n",
            "Epoch 2/50\n",
            "92/92 [==============================] - 2s 21ms/step - loss: 0.4762 - accuracy: 0.8106 - val_loss: 0.5462 - val_accuracy: 0.7773\n",
            "Epoch 3/50\n",
            "92/92 [==============================] - 2s 22ms/step - loss: 0.3290 - accuracy: 0.8759 - val_loss: 0.6181 - val_accuracy: 0.7616\n",
            "Epoch 4/50\n",
            "92/92 [==============================] - 2s 21ms/step - loss: 0.2645 - accuracy: 0.9048 - val_loss: 0.6840 - val_accuracy: 0.7480\n",
            "Epoch 5/50\n",
            "92/92 [==============================] - 2s 21ms/step - loss: 0.2112 - accuracy: 0.9287 - val_loss: 0.7542 - val_accuracy: 0.7592\n",
            "Epoch 6/50\n",
            "92/92 [==============================] - 2s 22ms/step - loss: 0.1487 - accuracy: 0.9523 - val_loss: 0.8756 - val_accuracy: 0.7462\n",
            "Epoch 7/50\n",
            "92/92 [==============================] - 2s 21ms/step - loss: 0.1185 - accuracy: 0.9608 - val_loss: 0.9603 - val_accuracy: 0.7339\n",
            "Epoch 8/50\n",
            "92/92 [==============================] - 2s 21ms/step - loss: 0.1037 - accuracy: 0.9681 - val_loss: 1.0903 - val_accuracy: 0.7295\n",
            "Epoch 9/50\n",
            "92/92 [==============================] - 2s 22ms/step - loss: 0.0962 - accuracy: 0.9666 - val_loss: 1.2647 - val_accuracy: 0.7333\n",
            "Epoch 10/50\n",
            "92/92 [==============================] - 2s 21ms/step - loss: 0.0718 - accuracy: 0.9767 - val_loss: 1.2976 - val_accuracy: 0.7339\n",
            "Epoch 11/50\n",
            "92/92 [==============================] - 2s 22ms/step - loss: 0.0593 - accuracy: 0.9807 - val_loss: 1.5266 - val_accuracy: 0.7367\n",
            "Epoch 12/50\n",
            "92/92 [==============================] - 2s 22ms/step - loss: 0.0425 - accuracy: 0.9869 - val_loss: 1.4322 - val_accuracy: 0.7367\n",
            "Epoch 13/50\n",
            "92/92 [==============================] - 2s 21ms/step - loss: 0.0454 - accuracy: 0.9844 - val_loss: 1.5877 - val_accuracy: 0.7295\n",
            "Epoch 14/50\n",
            "92/92 [==============================] - 2s 23ms/step - loss: 0.0538 - accuracy: 0.9825 - val_loss: 1.7516 - val_accuracy: 0.7312\n",
            "Epoch 15/50\n",
            "92/92 [==============================] - 2s 21ms/step - loss: 0.0444 - accuracy: 0.9845 - val_loss: 1.6973 - val_accuracy: 0.7176\n",
            "Epoch 16/50\n",
            "92/92 [==============================] - 2s 21ms/step - loss: 0.0397 - accuracy: 0.9850 - val_loss: 1.7455 - val_accuracy: 0.7179\n",
            "Epoch 17/50\n",
            "92/92 [==============================] - 2s 21ms/step - loss: 0.0420 - accuracy: 0.9857 - val_loss: 2.0745 - val_accuracy: 0.7247\n",
            "Epoch 18/50\n",
            "92/92 [==============================] - 2s 22ms/step - loss: 0.0341 - accuracy: 0.9875 - val_loss: 2.1042 - val_accuracy: 0.7339\n",
            "Epoch 19/50\n",
            "92/92 [==============================] - 2s 21ms/step - loss: 0.0298 - accuracy: 0.9908 - val_loss: 2.1694 - val_accuracy: 0.7206\n",
            "Epoch 20/50\n",
            "92/92 [==============================] - 2s 22ms/step - loss: 0.0229 - accuracy: 0.9924 - val_loss: 2.3705 - val_accuracy: 0.7312\n",
            "Epoch 21/50\n",
            "92/92 [==============================] - 2s 21ms/step - loss: 0.0223 - accuracy: 0.9916 - val_loss: 2.3499 - val_accuracy: 0.7199\n",
            "Epoch 22/50\n",
            "92/92 [==============================] - 2s 21ms/step - loss: 0.0180 - accuracy: 0.9936 - val_loss: 2.5288 - val_accuracy: 0.7333\n",
            "Epoch 23/50\n",
            "92/92 [==============================] - 2s 22ms/step - loss: 0.0254 - accuracy: 0.9917 - val_loss: 2.4916 - val_accuracy: 0.7292\n",
            "Epoch 24/50\n",
            "92/92 [==============================] - 2s 21ms/step - loss: 0.0273 - accuracy: 0.9906 - val_loss: 2.4517 - val_accuracy: 0.7199\n",
            "Epoch 25/50\n",
            "92/92 [==============================] - 2s 21ms/step - loss: 0.0201 - accuracy: 0.9925 - val_loss: 2.7652 - val_accuracy: 0.7220\n",
            "Epoch 26/50\n",
            "92/92 [==============================] - 2s 21ms/step - loss: 0.0246 - accuracy: 0.9912 - val_loss: 2.6541 - val_accuracy: 0.7247\n",
            "Epoch 27/50\n",
            "92/92 [==============================] - 2s 21ms/step - loss: 0.0250 - accuracy: 0.9913 - val_loss: 2.5010 - val_accuracy: 0.7244\n",
            "Epoch 28/50\n",
            "92/92 [==============================] - 2s 21ms/step - loss: 0.0219 - accuracy: 0.9932 - val_loss: 2.5949 - val_accuracy: 0.7234\n",
            "Epoch 29/50\n",
            "92/92 [==============================] - 2s 21ms/step - loss: 0.0165 - accuracy: 0.9936 - val_loss: 2.9272 - val_accuracy: 0.7271\n",
            "Epoch 30/50\n",
            "92/92 [==============================] - 2s 21ms/step - loss: 0.0149 - accuracy: 0.9943 - val_loss: 2.9238 - val_accuracy: 0.7251\n",
            "Epoch 31/50\n",
            "92/92 [==============================] - 2s 21ms/step - loss: 0.0229 - accuracy: 0.9908 - val_loss: 2.8458 - val_accuracy: 0.7199\n",
            "Epoch 32/50\n",
            "92/92 [==============================] - 2s 21ms/step - loss: 0.0273 - accuracy: 0.9895 - val_loss: 2.6569 - val_accuracy: 0.7179\n",
            "Epoch 33/50\n",
            "92/92 [==============================] - 2s 22ms/step - loss: 0.0326 - accuracy: 0.9890 - val_loss: 2.5398 - val_accuracy: 0.7172\n",
            "Epoch 34/50\n",
            "92/92 [==============================] - 2s 22ms/step - loss: 0.0208 - accuracy: 0.9926 - val_loss: 2.8687 - val_accuracy: 0.7196\n",
            "Epoch 35/50\n",
            "92/92 [==============================] - 2s 22ms/step - loss: 0.0176 - accuracy: 0.9938 - val_loss: 3.0518 - val_accuracy: 0.7240\n",
            "Epoch 36/50\n",
            "92/92 [==============================] - 2s 22ms/step - loss: 0.0127 - accuracy: 0.9953 - val_loss: 3.1362 - val_accuracy: 0.7237\n",
            "Epoch 37/50\n",
            "92/92 [==============================] - 2s 22ms/step - loss: 0.0145 - accuracy: 0.9942 - val_loss: 3.1358 - val_accuracy: 0.7244\n",
            "Epoch 38/50\n",
            "92/92 [==============================] - 2s 22ms/step - loss: 0.0124 - accuracy: 0.9957 - val_loss: 3.0992 - val_accuracy: 0.7230\n",
            "Epoch 39/50\n",
            "92/92 [==============================] - 2s 22ms/step - loss: 0.0120 - accuracy: 0.9954 - val_loss: 3.2695 - val_accuracy: 0.7189\n",
            "Epoch 40/50\n",
            "92/92 [==============================] - 2s 22ms/step - loss: 0.0123 - accuracy: 0.9951 - val_loss: 3.3522 - val_accuracy: 0.7193\n",
            "Epoch 41/50\n",
            "92/92 [==============================] - 2s 22ms/step - loss: 0.0107 - accuracy: 0.9955 - val_loss: 3.3944 - val_accuracy: 0.7247\n",
            "Epoch 42/50\n",
            "92/92 [==============================] - 2s 22ms/step - loss: 0.0098 - accuracy: 0.9960 - val_loss: 3.5339 - val_accuracy: 0.7244\n",
            "Epoch 43/50\n",
            "92/92 [==============================] - 2s 22ms/step - loss: 0.0106 - accuracy: 0.9955 - val_loss: 3.5481 - val_accuracy: 0.7251\n",
            "Epoch 44/50\n",
            "92/92 [==============================] - 2s 22ms/step - loss: 0.0102 - accuracy: 0.9958 - val_loss: 3.6827 - val_accuracy: 0.7281\n",
            "Epoch 45/50\n",
            "92/92 [==============================] - 2s 21ms/step - loss: 0.0100 - accuracy: 0.9956 - val_loss: 3.7259 - val_accuracy: 0.7237\n",
            "Epoch 46/50\n",
            "92/92 [==============================] - 2s 21ms/step - loss: 0.0105 - accuracy: 0.9948 - val_loss: 3.8131 - val_accuracy: 0.7240\n",
            "Epoch 47/50\n",
            "92/92 [==============================] - 2s 21ms/step - loss: 0.0113 - accuracy: 0.9941 - val_loss: 3.8040 - val_accuracy: 0.7227\n",
            "Epoch 48/50\n",
            "92/92 [==============================] - 2s 21ms/step - loss: 0.0100 - accuracy: 0.9951 - val_loss: 3.8884 - val_accuracy: 0.7251\n",
            "Epoch 49/50\n",
            "92/92 [==============================] - 2s 21ms/step - loss: 0.0089 - accuracy: 0.9959 - val_loss: 3.9696 - val_accuracy: 0.7237\n",
            "Epoch 50/50\n",
            "92/92 [==============================] - 2s 21ms/step - loss: 0.0149 - accuracy: 0.9943 - val_loss: 3.2620 - val_accuracy: 0.7189\n"
          ],
          "name": "stdout"
        },
        {
          "output_type": "execute_result",
          "data": {
            "text/plain": [
              "<tensorflow.python.keras.callbacks.History at 0x7fcbe047d6d8>"
            ]
          },
          "metadata": {
            "tags": []
          },
          "execution_count": 28
        }
      ]
    },
    {
      "cell_type": "code",
      "metadata": {
        "colab": {
          "base_uri": "https://localhost:8080/"
        },
        "id": "r1DZe7DuuQA6",
        "outputId": "3f6817a9-6c66-42bf-8717-31d382b0b765"
      },
      "source": [
        "from tensorflow.keras.layers import GRU\n",
        "\n",
        "model = Sequential()\n",
        "model.add(Embedding(max_words, 100, input_length = max_len)) # 100 is output of embedding layer\n",
        "model.add(GRU(256))\n",
        "model.add(Dense(512, activation='relu'))\n",
        "model.add(Dense(num_class, activation='softmax'))\n",
        "model.summary()"
      ],
      "execution_count": 30,
      "outputs": [
        {
          "output_type": "stream",
          "text": [
            "Model: \"sequential_2\"\n",
            "_________________________________________________________________\n",
            "Layer (type)                 Output Shape              Param #   \n",
            "=================================================================\n",
            "embedding_2 (Embedding)      (None, 26, 100)           1303700   \n",
            "_________________________________________________________________\n",
            "gru_1 (GRU)                  (None, 256)               274944    \n",
            "_________________________________________________________________\n",
            "dense_4 (Dense)              (None, 512)               131584    \n",
            "_________________________________________________________________\n",
            "dense_5 (Dense)              (None, 3)                 1539      \n",
            "=================================================================\n",
            "Total params: 1,711,767\n",
            "Trainable params: 1,711,767\n",
            "Non-trainable params: 0\n",
            "_________________________________________________________________\n"
          ],
          "name": "stdout"
        }
      ]
    },
    {
      "cell_type": "code",
      "metadata": {
        "colab": {
          "base_uri": "https://localhost:8080/"
        },
        "id": "z-GXc2n-ulyJ",
        "outputId": "46e5abdd-d3fe-4dfe-e682-7f355020983f"
      },
      "source": [
        "model.compile(loss='categorical_crossentropy', optimizer='adam', metrics=['accuracy'])\n",
        "model.fit(X_train, y_train, epochs=10, batch_size=128,\n",
        "          validation_data=(X_test, y_test))"
      ],
      "execution_count": 31,
      "outputs": [
        {
          "output_type": "stream",
          "text": [
            "Epoch 1/10\n",
            "92/92 [==============================] - 4s 25ms/step - loss: 0.8477 - accuracy: 0.6457 - val_loss: 0.5830 - val_accuracy: 0.7654\n",
            "Epoch 2/10\n",
            "92/92 [==============================] - 2s 21ms/step - loss: 0.4772 - accuracy: 0.8157 - val_loss: 0.5593 - val_accuracy: 0.7780\n",
            "Epoch 3/10\n",
            "92/92 [==============================] - 2s 21ms/step - loss: 0.3226 - accuracy: 0.8870 - val_loss: 0.6563 - val_accuracy: 0.7630\n",
            "Epoch 4/10\n",
            "92/92 [==============================] - 2s 21ms/step - loss: 0.2380 - accuracy: 0.9141 - val_loss: 0.7112 - val_accuracy: 0.7517\n",
            "Epoch 5/10\n",
            "92/92 [==============================] - 2s 20ms/step - loss: 0.1782 - accuracy: 0.9386 - val_loss: 0.7782 - val_accuracy: 0.7493\n",
            "Epoch 6/10\n",
            "92/92 [==============================] - 2s 21ms/step - loss: 0.1321 - accuracy: 0.9561 - val_loss: 0.9573 - val_accuracy: 0.7377\n",
            "Epoch 7/10\n",
            "92/92 [==============================] - 2s 21ms/step - loss: 0.1069 - accuracy: 0.9637 - val_loss: 1.0439 - val_accuracy: 0.7275\n",
            "Epoch 8/10\n",
            "92/92 [==============================] - 2s 21ms/step - loss: 0.0783 - accuracy: 0.9734 - val_loss: 1.1052 - val_accuracy: 0.7391\n",
            "Epoch 9/10\n",
            "92/92 [==============================] - 2s 21ms/step - loss: 0.0695 - accuracy: 0.9759 - val_loss: 1.3222 - val_accuracy: 0.7278\n",
            "Epoch 10/10\n",
            "92/92 [==============================] - 2s 21ms/step - loss: 0.0579 - accuracy: 0.9800 - val_loss: 1.5360 - val_accuracy: 0.7220\n"
          ],
          "name": "stdout"
        },
        {
          "output_type": "execute_result",
          "data": {
            "text/plain": [
              "<tensorflow.python.keras.callbacks.History at 0x7fcb904bc6d8>"
            ]
          },
          "metadata": {
            "tags": []
          },
          "execution_count": 31
        }
      ]
    },
    {
      "cell_type": "code",
      "metadata": {
        "colab": {
          "base_uri": "https://localhost:8080/"
        },
        "id": "EBJqYcs6uWXt",
        "outputId": "f4d634cf-912d-4f92-96e5-1949dda65c58"
      },
      "source": [
        "model = Sequential()\n",
        "model.add(Embedding(max_words, 100, input_length = max_len)) # 100 is output of embedding layer\n",
        "model.add(LSTM(256, return_sequences=True))\n",
        "model.add(LSTM(256))\n",
        "model.add(Dense(512, activation='relu'))\n",
        "model.add(Dense(num_class, activation='softmax'))\n",
        "model.summary()"
      ],
      "execution_count": 32,
      "outputs": [
        {
          "output_type": "stream",
          "text": [
            "Model: \"sequential_3\"\n",
            "_________________________________________________________________\n",
            "Layer (type)                 Output Shape              Param #   \n",
            "=================================================================\n",
            "embedding_3 (Embedding)      (None, 26, 100)           1303700   \n",
            "_________________________________________________________________\n",
            "lstm_1 (LSTM)                (None, 26, 256)           365568    \n",
            "_________________________________________________________________\n",
            "lstm_2 (LSTM)                (None, 256)               525312    \n",
            "_________________________________________________________________\n",
            "dense_6 (Dense)              (None, 512)               131584    \n",
            "_________________________________________________________________\n",
            "dense_7 (Dense)              (None, 3)                 1539      \n",
            "=================================================================\n",
            "Total params: 2,327,703\n",
            "Trainable params: 2,327,703\n",
            "Non-trainable params: 0\n",
            "_________________________________________________________________\n"
          ],
          "name": "stdout"
        }
      ]
    },
    {
      "cell_type": "code",
      "metadata": {
        "colab": {
          "base_uri": "https://localhost:8080/"
        },
        "id": "tAeTYZwbuqaN",
        "outputId": "7929d474-7713-4256-ab28-671f61eba0fd"
      },
      "source": [
        "model.compile(loss='categorical_crossentropy', optimizer='adam', metrics=['accuracy'])\n",
        "model.fit(X_train, y_train, epochs=10, batch_size=128,\n",
        "          validation_data=(X_test, y_test))"
      ],
      "execution_count": 33,
      "outputs": [
        {
          "output_type": "stream",
          "text": [
            "Epoch 1/10\n",
            "92/92 [==============================] - 6s 34ms/step - loss: 0.8766 - accuracy: 0.6126 - val_loss: 0.6210 - val_accuracy: 0.7343\n",
            "Epoch 2/10\n",
            "92/92 [==============================] - 3s 27ms/step - loss: 0.5208 - accuracy: 0.7900 - val_loss: 0.5459 - val_accuracy: 0.7848\n",
            "Epoch 3/10\n",
            "92/92 [==============================] - 2s 25ms/step - loss: 0.3657 - accuracy: 0.8630 - val_loss: 0.5800 - val_accuracy: 0.7722\n",
            "Epoch 4/10\n",
            "92/92 [==============================] - 2s 25ms/step - loss: 0.2871 - accuracy: 0.8971 - val_loss: 0.6811 - val_accuracy: 0.7534\n",
            "Epoch 5/10\n",
            "92/92 [==============================] - 2s 24ms/step - loss: 0.1998 - accuracy: 0.9337 - val_loss: 0.7793 - val_accuracy: 0.7561\n",
            "Epoch 6/10\n",
            "92/92 [==============================] - 2s 25ms/step - loss: 0.1633 - accuracy: 0.9429 - val_loss: 0.8475 - val_accuracy: 0.7459\n",
            "Epoch 7/10\n",
            "92/92 [==============================] - 2s 24ms/step - loss: 0.1325 - accuracy: 0.9559 - val_loss: 1.0730 - val_accuracy: 0.7298\n",
            "Epoch 8/10\n",
            "92/92 [==============================] - 2s 24ms/step - loss: 0.1062 - accuracy: 0.9639 - val_loss: 1.0609 - val_accuracy: 0.7486\n",
            "Epoch 9/10\n",
            "92/92 [==============================] - 2s 24ms/step - loss: 0.0861 - accuracy: 0.9740 - val_loss: 1.1801 - val_accuracy: 0.7329\n",
            "Epoch 10/10\n",
            "92/92 [==============================] - 2s 24ms/step - loss: 0.0730 - accuracy: 0.9748 - val_loss: 1.3717 - val_accuracy: 0.7435\n"
          ],
          "name": "stdout"
        },
        {
          "output_type": "execute_result",
          "data": {
            "text/plain": [
              "<tensorflow.python.keras.callbacks.History at 0x7fcb865c9da0>"
            ]
          },
          "metadata": {
            "tags": []
          },
          "execution_count": 33
        }
      ]
    },
    {
      "cell_type": "code",
      "metadata": {
        "colab": {
          "base_uri": "https://localhost:8080/"
        },
        "id": "7pnyRMaHurJX",
        "outputId": "d6f04396-8eaa-421e-fee8-285458e9f693"
      },
      "source": [
        "model = Sequential()\n",
        "model.add(Embedding(max_words, 100, input_length = max_len)) # 100 is output of embedding layer\n",
        "model.add(GRU(256, return_sequences=True))\n",
        "model.add(GRU(256))\n",
        "model.add(Dense(512, activation='relu'))\n",
        "model.add(Dense(num_class, activation='softmax'))\n",
        "model.summary()"
      ],
      "execution_count": 34,
      "outputs": [
        {
          "output_type": "stream",
          "text": [
            "Model: \"sequential_4\"\n",
            "_________________________________________________________________\n",
            "Layer (type)                 Output Shape              Param #   \n",
            "=================================================================\n",
            "embedding_4 (Embedding)      (None, 26, 100)           1303700   \n",
            "_________________________________________________________________\n",
            "gru_2 (GRU)                  (None, 26, 256)           274944    \n",
            "_________________________________________________________________\n",
            "gru_3 (GRU)                  (None, 256)               394752    \n",
            "_________________________________________________________________\n",
            "dense_8 (Dense)              (None, 512)               131584    \n",
            "_________________________________________________________________\n",
            "dense_9 (Dense)              (None, 3)                 1539      \n",
            "=================================================================\n",
            "Total params: 2,106,519\n",
            "Trainable params: 2,106,519\n",
            "Non-trainable params: 0\n",
            "_________________________________________________________________\n"
          ],
          "name": "stdout"
        }
      ]
    },
    {
      "cell_type": "code",
      "metadata": {
        "colab": {
          "base_uri": "https://localhost:8080/"
        },
        "id": "rtCQZmgquwMo",
        "outputId": "f827caf2-bfb3-4384-ca99-c8d29ed18461"
      },
      "source": [
        "model.compile(loss='categorical_crossentropy', optimizer='adam', metrics=['accuracy'])\n",
        "model.fit(X_train, y_train, epochs=10, batch_size=128,\n",
        "          validation_data=(X_test, y_test))"
      ],
      "execution_count": 35,
      "outputs": [
        {
          "output_type": "stream",
          "text": [
            "Epoch 1/10\n",
            "92/92 [==============================] - 5s 33ms/step - loss: 0.8273 - accuracy: 0.6379 - val_loss: 0.5934 - val_accuracy: 0.7565\n",
            "Epoch 2/10\n",
            "92/92 [==============================] - 2s 24ms/step - loss: 0.4571 - accuracy: 0.8233 - val_loss: 0.5660 - val_accuracy: 0.7719\n",
            "Epoch 3/10\n",
            "92/92 [==============================] - 2s 24ms/step - loss: 0.3203 - accuracy: 0.8797 - val_loss: 0.6018 - val_accuracy: 0.7657\n",
            "Epoch 4/10\n",
            "92/92 [==============================] - 2s 25ms/step - loss: 0.2284 - accuracy: 0.9199 - val_loss: 0.6883 - val_accuracy: 0.7541\n",
            "Epoch 5/10\n",
            "92/92 [==============================] - 2s 24ms/step - loss: 0.1894 - accuracy: 0.9326 - val_loss: 0.8142 - val_accuracy: 0.7555\n",
            "Epoch 6/10\n",
            "92/92 [==============================] - 2s 24ms/step - loss: 0.1361 - accuracy: 0.9537 - val_loss: 0.9806 - val_accuracy: 0.7449\n",
            "Epoch 7/10\n",
            "92/92 [==============================] - 2s 24ms/step - loss: 0.1067 - accuracy: 0.9645 - val_loss: 1.0886 - val_accuracy: 0.7377\n",
            "Epoch 8/10\n",
            "92/92 [==============================] - 2s 25ms/step - loss: 0.0861 - accuracy: 0.9722 - val_loss: 1.1583 - val_accuracy: 0.7285\n",
            "Epoch 9/10\n",
            "92/92 [==============================] - 2s 23ms/step - loss: 0.0749 - accuracy: 0.9769 - val_loss: 1.1844 - val_accuracy: 0.7384\n",
            "Epoch 10/10\n",
            "92/92 [==============================] - 2s 24ms/step - loss: 0.0598 - accuracy: 0.9798 - val_loss: 1.2515 - val_accuracy: 0.7254\n"
          ],
          "name": "stdout"
        },
        {
          "output_type": "execute_result",
          "data": {
            "text/plain": [
              "<tensorflow.python.keras.callbacks.History at 0x7fcb823db550>"
            ]
          },
          "metadata": {
            "tags": []
          },
          "execution_count": 35
        }
      ]
    },
    {
      "cell_type": "code",
      "metadata": {
        "id": "JjmbuSN1uxyt"
      },
      "source": [
        ""
      ],
      "execution_count": null,
      "outputs": []
    }
  ]
}