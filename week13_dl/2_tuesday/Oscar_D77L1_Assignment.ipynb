{
  "nbformat": 4,
  "nbformat_minor": 0,
  "metadata": {
    "kernelspec": {
      "display_name": "Python 3",
      "language": "python",
      "name": "python3"
    },
    "language_info": {
      "codemirror_mode": {
        "name": "ipython",
        "version": 3
      },
      "file_extension": ".py",
      "mimetype": "text/x-python",
      "name": "python",
      "nbconvert_exporter": "python",
      "pygments_lexer": "ipython3",
      "version": "3.7.0"
    },
    "colab": {
      "name": "Oscar_D77L1_Assignment.ipynb",
      "provenance": [],
      "collapsed_sections": []
    }
  },
  "cells": [
    {
      "cell_type": "markdown",
      "metadata": {
        "id": "tEyRSqh_0jS7"
      },
      "source": [
        "## Day 82 Lecture 1 Assignment\n",
        "\n",
        "In this assignment, we will learn about activation functions. We will create a neural network and measure the model's performance using different activations."
      ]
    },
    {
      "cell_type": "code",
      "metadata": {
        "id": "DgLFu1Hs0jS-"
      },
      "source": [
        "import numpy as np\n",
        "import pandas as pd"
      ],
      "execution_count": 2,
      "outputs": []
    },
    {
      "cell_type": "markdown",
      "metadata": {
        "id": "BTzJti900jTA"
      },
      "source": [
        "We will import the famous titanic dataset below and produce a neural network that will predict the chance of survival for a passenger."
      ]
    },
    {
      "cell_type": "code",
      "metadata": {
        "id": "CDlLGz270jTB"
      },
      "source": [
        "titanic = pd.read_csv('https://tf-assets-prod.s3.amazonaws.com/tf-curric/data-science/titanic.csv')"
      ],
      "execution_count": 3,
      "outputs": []
    },
    {
      "cell_type": "code",
      "metadata": {
        "id": "z01i6-rV0jTD",
        "colab": {
          "base_uri": "https://localhost:8080/",
          "height": 197
        },
        "outputId": "67bf1596-2b21-4231-e145-8784791602b1"
      },
      "source": [
        "titanic.head()"
      ],
      "execution_count": 4,
      "outputs": [
        {
          "output_type": "execute_result",
          "data": {
            "text/html": [
              "<div>\n",
              "<style scoped>\n",
              "    .dataframe tbody tr th:only-of-type {\n",
              "        vertical-align: middle;\n",
              "    }\n",
              "\n",
              "    .dataframe tbody tr th {\n",
              "        vertical-align: top;\n",
              "    }\n",
              "\n",
              "    .dataframe thead th {\n",
              "        text-align: right;\n",
              "    }\n",
              "</style>\n",
              "<table border=\"1\" class=\"dataframe\">\n",
              "  <thead>\n",
              "    <tr style=\"text-align: right;\">\n",
              "      <th></th>\n",
              "      <th>PassengerId</th>\n",
              "      <th>Survived</th>\n",
              "      <th>Pclass</th>\n",
              "      <th>Name</th>\n",
              "      <th>Sex</th>\n",
              "      <th>Age</th>\n",
              "      <th>SibSp</th>\n",
              "      <th>Parch</th>\n",
              "      <th>Ticket</th>\n",
              "      <th>Fare</th>\n",
              "      <th>Cabin</th>\n",
              "      <th>Embarked</th>\n",
              "    </tr>\n",
              "  </thead>\n",
              "  <tbody>\n",
              "    <tr>\n",
              "      <th>0</th>\n",
              "      <td>1</td>\n",
              "      <td>0</td>\n",
              "      <td>3</td>\n",
              "      <td>Braund, Mr. Owen Harris</td>\n",
              "      <td>male</td>\n",
              "      <td>22.0</td>\n",
              "      <td>1</td>\n",
              "      <td>0</td>\n",
              "      <td>A/5 21171</td>\n",
              "      <td>7.2500</td>\n",
              "      <td>NaN</td>\n",
              "      <td>S</td>\n",
              "    </tr>\n",
              "    <tr>\n",
              "      <th>1</th>\n",
              "      <td>2</td>\n",
              "      <td>1</td>\n",
              "      <td>1</td>\n",
              "      <td>Cumings, Mrs. John Bradley (Florence Briggs Th...</td>\n",
              "      <td>female</td>\n",
              "      <td>38.0</td>\n",
              "      <td>1</td>\n",
              "      <td>0</td>\n",
              "      <td>PC 17599</td>\n",
              "      <td>71.2833</td>\n",
              "      <td>C85</td>\n",
              "      <td>C</td>\n",
              "    </tr>\n",
              "    <tr>\n",
              "      <th>2</th>\n",
              "      <td>3</td>\n",
              "      <td>1</td>\n",
              "      <td>3</td>\n",
              "      <td>Heikkinen, Miss. Laina</td>\n",
              "      <td>female</td>\n",
              "      <td>26.0</td>\n",
              "      <td>0</td>\n",
              "      <td>0</td>\n",
              "      <td>STON/O2. 3101282</td>\n",
              "      <td>7.9250</td>\n",
              "      <td>NaN</td>\n",
              "      <td>S</td>\n",
              "    </tr>\n",
              "    <tr>\n",
              "      <th>3</th>\n",
              "      <td>4</td>\n",
              "      <td>1</td>\n",
              "      <td>1</td>\n",
              "      <td>Futrelle, Mrs. Jacques Heath (Lily May Peel)</td>\n",
              "      <td>female</td>\n",
              "      <td>35.0</td>\n",
              "      <td>1</td>\n",
              "      <td>0</td>\n",
              "      <td>113803</td>\n",
              "      <td>53.1000</td>\n",
              "      <td>C123</td>\n",
              "      <td>S</td>\n",
              "    </tr>\n",
              "    <tr>\n",
              "      <th>4</th>\n",
              "      <td>5</td>\n",
              "      <td>0</td>\n",
              "      <td>3</td>\n",
              "      <td>Allen, Mr. William Henry</td>\n",
              "      <td>male</td>\n",
              "      <td>35.0</td>\n",
              "      <td>0</td>\n",
              "      <td>0</td>\n",
              "      <td>373450</td>\n",
              "      <td>8.0500</td>\n",
              "      <td>NaN</td>\n",
              "      <td>S</td>\n",
              "    </tr>\n",
              "  </tbody>\n",
              "</table>\n",
              "</div>"
            ],
            "text/plain": [
              "   PassengerId  Survived  Pclass  ...     Fare Cabin  Embarked\n",
              "0            1         0       3  ...   7.2500   NaN         S\n",
              "1            2         1       1  ...  71.2833   C85         C\n",
              "2            3         1       3  ...   7.9250   NaN         S\n",
              "3            4         1       1  ...  53.1000  C123         S\n",
              "4            5         0       3  ...   8.0500   NaN         S\n",
              "\n",
              "[5 rows x 12 columns]"
            ]
          },
          "metadata": {
            "tags": []
          },
          "execution_count": 4
        }
      ]
    },
    {
      "cell_type": "markdown",
      "metadata": {
        "id": "xyD_6NR00jTG"
      },
      "source": [
        "We'll perform some feature engineering\n",
        "\n",
        "Let's start by keeping only the columns we'd like to use for our analysis. Keep only the columns: Survived, Pclass, Sex, SibSp, Parch, and Embarked"
      ]
    },
    {
      "cell_type": "code",
      "metadata": {
        "id": "Lfp0XlLk0jTG",
        "colab": {
          "base_uri": "https://localhost:8080/",
          "height": 107
        },
        "outputId": "ae0e8544-e292-442c-f41b-cc8eb1658d1e"
      },
      "source": [
        "# Answer below:\n",
        "df = titanic[['Survived', 'Pclass', 'Sex', 'SibSp', 'Parch', 'Embarked']]\n",
        "df.head(2)\n"
      ],
      "execution_count": 5,
      "outputs": [
        {
          "output_type": "execute_result",
          "data": {
            "text/html": [
              "<div>\n",
              "<style scoped>\n",
              "    .dataframe tbody tr th:only-of-type {\n",
              "        vertical-align: middle;\n",
              "    }\n",
              "\n",
              "    .dataframe tbody tr th {\n",
              "        vertical-align: top;\n",
              "    }\n",
              "\n",
              "    .dataframe thead th {\n",
              "        text-align: right;\n",
              "    }\n",
              "</style>\n",
              "<table border=\"1\" class=\"dataframe\">\n",
              "  <thead>\n",
              "    <tr style=\"text-align: right;\">\n",
              "      <th></th>\n",
              "      <th>Survived</th>\n",
              "      <th>Pclass</th>\n",
              "      <th>Sex</th>\n",
              "      <th>SibSp</th>\n",
              "      <th>Parch</th>\n",
              "      <th>Embarked</th>\n",
              "    </tr>\n",
              "  </thead>\n",
              "  <tbody>\n",
              "    <tr>\n",
              "      <th>0</th>\n",
              "      <td>0</td>\n",
              "      <td>3</td>\n",
              "      <td>male</td>\n",
              "      <td>1</td>\n",
              "      <td>0</td>\n",
              "      <td>S</td>\n",
              "    </tr>\n",
              "    <tr>\n",
              "      <th>1</th>\n",
              "      <td>1</td>\n",
              "      <td>1</td>\n",
              "      <td>female</td>\n",
              "      <td>1</td>\n",
              "      <td>0</td>\n",
              "      <td>C</td>\n",
              "    </tr>\n",
              "  </tbody>\n",
              "</table>\n",
              "</div>"
            ],
            "text/plain": [
              "   Survived  Pclass     Sex  SibSp  Parch Embarked\n",
              "0         0       3    male      1      0        S\n",
              "1         1       1  female      1      0        C"
            ]
          },
          "metadata": {
            "tags": []
          },
          "execution_count": 5
        }
      ]
    },
    {
      "cell_type": "markdown",
      "metadata": {
        "id": "uvBUzjzG0jTI"
      },
      "source": [
        "Now examine how many rows contain missing data. Given how much missing data we have, should we remove the column with the most missing data, or remove all rows containing missing data? Do what you think is best."
      ]
    },
    {
      "cell_type": "code",
      "metadata": {
        "id": "PwnHzNjP0jTJ",
        "colab": {
          "base_uri": "https://localhost:8080/"
        },
        "outputId": "ec5ea8b8-5eaf-478a-8d73-2d51e0d104ba"
      },
      "source": [
        "# Answer below: \n",
        "df.isnull().sum()\n"
      ],
      "execution_count": 6,
      "outputs": [
        {
          "output_type": "execute_result",
          "data": {
            "text/plain": [
              "Survived    0\n",
              "Pclass      0\n",
              "Sex         0\n",
              "SibSp       0\n",
              "Parch       0\n",
              "Embarked    2\n",
              "dtype: int64"
            ]
          },
          "metadata": {
            "tags": []
          },
          "execution_count": 6
        }
      ]
    },
    {
      "cell_type": "code",
      "metadata": {
        "colab": {
          "base_uri": "https://localhost:8080/"
        },
        "id": "www7s8goIIE-",
        "outputId": "33a24267-80b3-43f8-b030-e09e8893ada0"
      },
      "source": [
        "df.dropna(inplace=True)\n",
        "df.isnull().sum()"
      ],
      "execution_count": 8,
      "outputs": [
        {
          "output_type": "stream",
          "text": [
            "/usr/local/lib/python3.6/dist-packages/ipykernel_launcher.py:1: SettingWithCopyWarning: \n",
            "A value is trying to be set on a copy of a slice from a DataFrame\n",
            "\n",
            "See the caveats in the documentation: https://pandas.pydata.org/pandas-docs/stable/user_guide/indexing.html#returning-a-view-versus-a-copy\n",
            "  \"\"\"Entry point for launching an IPython kernel.\n"
          ],
          "name": "stderr"
        },
        {
          "output_type": "execute_result",
          "data": {
            "text/plain": [
              "Survived    0\n",
              "Pclass      0\n",
              "Sex         0\n",
              "SibSp       0\n",
              "Parch       0\n",
              "Embarked    0\n",
              "dtype: int64"
            ]
          },
          "metadata": {
            "tags": []
          },
          "execution_count": 8
        }
      ]
    },
    {
      "cell_type": "markdown",
      "metadata": {
        "id": "imTrmBpL0jTK"
      },
      "source": [
        "Now we'll create a one hot encoding of the variables Pclass, sex, and Embarked"
      ]
    },
    {
      "cell_type": "code",
      "metadata": {
        "id": "SD_qCdv60jTL",
        "colab": {
          "base_uri": "https://localhost:8080/",
          "height": 197
        },
        "outputId": "477edec2-0d00-41d6-8138-5cc155ddeb30"
      },
      "source": [
        "# Answer below:\n",
        "df = pd.get_dummies(data=df, columns=['Pclass', 'Sex', 'Embarked'], drop_first=True)\n",
        "df.head()\n"
      ],
      "execution_count": 12,
      "outputs": [
        {
          "output_type": "execute_result",
          "data": {
            "text/html": [
              "<div>\n",
              "<style scoped>\n",
              "    .dataframe tbody tr th:only-of-type {\n",
              "        vertical-align: middle;\n",
              "    }\n",
              "\n",
              "    .dataframe tbody tr th {\n",
              "        vertical-align: top;\n",
              "    }\n",
              "\n",
              "    .dataframe thead th {\n",
              "        text-align: right;\n",
              "    }\n",
              "</style>\n",
              "<table border=\"1\" class=\"dataframe\">\n",
              "  <thead>\n",
              "    <tr style=\"text-align: right;\">\n",
              "      <th></th>\n",
              "      <th>Survived</th>\n",
              "      <th>SibSp</th>\n",
              "      <th>Parch</th>\n",
              "      <th>Pclass_2</th>\n",
              "      <th>Pclass_3</th>\n",
              "      <th>Sex_male</th>\n",
              "      <th>Embarked_Q</th>\n",
              "      <th>Embarked_S</th>\n",
              "    </tr>\n",
              "  </thead>\n",
              "  <tbody>\n",
              "    <tr>\n",
              "      <th>0</th>\n",
              "      <td>0</td>\n",
              "      <td>1</td>\n",
              "      <td>0</td>\n",
              "      <td>0</td>\n",
              "      <td>1</td>\n",
              "      <td>1</td>\n",
              "      <td>0</td>\n",
              "      <td>1</td>\n",
              "    </tr>\n",
              "    <tr>\n",
              "      <th>1</th>\n",
              "      <td>1</td>\n",
              "      <td>1</td>\n",
              "      <td>0</td>\n",
              "      <td>0</td>\n",
              "      <td>0</td>\n",
              "      <td>0</td>\n",
              "      <td>0</td>\n",
              "      <td>0</td>\n",
              "    </tr>\n",
              "    <tr>\n",
              "      <th>2</th>\n",
              "      <td>1</td>\n",
              "      <td>0</td>\n",
              "      <td>0</td>\n",
              "      <td>0</td>\n",
              "      <td>1</td>\n",
              "      <td>0</td>\n",
              "      <td>0</td>\n",
              "      <td>1</td>\n",
              "    </tr>\n",
              "    <tr>\n",
              "      <th>3</th>\n",
              "      <td>1</td>\n",
              "      <td>1</td>\n",
              "      <td>0</td>\n",
              "      <td>0</td>\n",
              "      <td>0</td>\n",
              "      <td>0</td>\n",
              "      <td>0</td>\n",
              "      <td>1</td>\n",
              "    </tr>\n",
              "    <tr>\n",
              "      <th>4</th>\n",
              "      <td>0</td>\n",
              "      <td>0</td>\n",
              "      <td>0</td>\n",
              "      <td>0</td>\n",
              "      <td>1</td>\n",
              "      <td>1</td>\n",
              "      <td>0</td>\n",
              "      <td>1</td>\n",
              "    </tr>\n",
              "  </tbody>\n",
              "</table>\n",
              "</div>"
            ],
            "text/plain": [
              "   Survived  SibSp  Parch  Pclass_2  Pclass_3  Sex_male  Embarked_Q  Embarked_S\n",
              "0         0      1      0         0         1         1           0           1\n",
              "1         1      1      0         0         0         0           0           0\n",
              "2         1      0      0         0         1         0           0           1\n",
              "3         1      1      0         0         0         0           0           1\n",
              "4         0      0      0         0         1         1           0           1"
            ]
          },
          "metadata": {
            "tags": []
          },
          "execution_count": 12
        }
      ]
    },
    {
      "cell_type": "markdown",
      "metadata": {
        "id": "5vv2pncX0jTM"
      },
      "source": [
        "Split the data into train and test. 20% of the data should be set aside for testing. Use Survived as your target variable."
      ]
    },
    {
      "cell_type": "code",
      "metadata": {
        "id": "4DzzK0j-0jTN"
      },
      "source": [
        "# Answer below\n",
        "from sklearn.model_selection import train_test_split\n",
        "X = df.drop(columns=['Survived'])\n",
        "y = df['Survived']\n",
        "X_train, X_test, y_train, y_test = train_test_split(X, y, test_size=0.2, random_state=42)"
      ],
      "execution_count": 13,
      "outputs": []
    },
    {
      "cell_type": "markdown",
      "metadata": {
        "id": "H-27Xq4M0jTP"
      },
      "source": [
        "At this point, we are ready to create a model. Import `Sequential` and `Dense` from Keras"
      ]
    },
    {
      "cell_type": "code",
      "metadata": {
        "id": "PDcPIuoD0jTP"
      },
      "source": [
        "# Answer below:\n",
        "from tensorflow.keras.models import Sequential\n",
        "from tensorflow.keras.layers import Dense"
      ],
      "execution_count": 15,
      "outputs": []
    },
    {
      "cell_type": "markdown",
      "metadata": {
        "id": "ub0uCwyH0jTR"
      },
      "source": [
        "Create a model with 5 layers. The first layer should be a dense layer that receives the input, the last layer should be of size 1. You determine the remaining layer sizes.\n",
        "\n",
        "Use a tanh activation for the output layer."
      ]
    },
    {
      "cell_type": "code",
      "metadata": {
        "id": "wSiTyR7D0jTR"
      },
      "source": [
        "# Answer below\n",
        "model = Sequential()\n",
        "model.add(Dense(32, input_dim=X_train.shape[1], activation='relu'))\n",
        "model.add(Dense(16, activation='relu'))\n",
        "model.add(Dense(16, activation='relu'))\n",
        "model.add(Dense(16, activation='relu'))\n",
        "model.add(Dense(1, activation='tanh'))\n"
      ],
      "execution_count": 43,
      "outputs": []
    },
    {
      "cell_type": "markdown",
      "metadata": {
        "id": "yh-Ely-K0jTT"
      },
      "source": [
        "Compile the model using the adam optimizer, binary crossentropy loss, and the accuracy metric.\n",
        "\n",
        "Fit the model using a batch size of 80 over 200 epochs."
      ]
    },
    {
      "cell_type": "code",
      "metadata": {
        "id": "lT-9MGP30jTT",
        "colab": {
          "base_uri": "https://localhost:8080/"
        },
        "outputId": "877ab190-3e2d-4441-8012-658a1703d7a9"
      },
      "source": [
        "# Answer below:\n",
        "model.compile(loss='binary_crossentropy', optimizer='adam', metrics=['accuracy'])\n",
        "model.fit(X_train, y_train, epochs=20, batch_size=16, validation_data=(X_test, y_test))\n"
      ],
      "execution_count": 44,
      "outputs": [
        {
          "output_type": "stream",
          "text": [
            "Epoch 1/20\n",
            "45/45 [==============================] - 1s 5ms/step - loss: 0.8980 - accuracy: 0.6027 - val_loss: 0.6592 - val_accuracy: 0.6236\n",
            "Epoch 2/20\n",
            "45/45 [==============================] - 0s 2ms/step - loss: 0.6621 - accuracy: 0.6129 - val_loss: 0.5806 - val_accuracy: 0.7079\n",
            "Epoch 3/20\n",
            "45/45 [==============================] - 0s 2ms/step - loss: 0.5501 - accuracy: 0.7113 - val_loss: 0.5435 - val_accuracy: 0.7247\n",
            "Epoch 4/20\n",
            "45/45 [==============================] - 0s 2ms/step - loss: 0.5485 - accuracy: 0.7207 - val_loss: 0.4998 - val_accuracy: 0.7978\n",
            "Epoch 5/20\n",
            "45/45 [==============================] - 0s 2ms/step - loss: 0.4888 - accuracy: 0.8024 - val_loss: 0.4717 - val_accuracy: 0.8034\n",
            "Epoch 6/20\n",
            "45/45 [==============================] - 0s 2ms/step - loss: 0.4751 - accuracy: 0.7937 - val_loss: 0.4684 - val_accuracy: 0.7978\n",
            "Epoch 7/20\n",
            "45/45 [==============================] - 0s 2ms/step - loss: 0.4490 - accuracy: 0.7961 - val_loss: 0.4619 - val_accuracy: 0.8090\n",
            "Epoch 8/20\n",
            "45/45 [==============================] - 0s 2ms/step - loss: 0.4551 - accuracy: 0.8061 - val_loss: 0.4558 - val_accuracy: 0.8034\n",
            "Epoch 9/20\n",
            "45/45 [==============================] - 0s 2ms/step - loss: 0.4087 - accuracy: 0.8413 - val_loss: 0.5268 - val_accuracy: 0.7978\n",
            "Epoch 10/20\n",
            "45/45 [==============================] - 0s 2ms/step - loss: 0.4339 - accuracy: 0.8358 - val_loss: 0.4669 - val_accuracy: 0.8034\n",
            "Epoch 11/20\n",
            "45/45 [==============================] - 0s 6ms/step - loss: 0.4233 - accuracy: 0.8072 - val_loss: 0.5451 - val_accuracy: 0.7978\n",
            "Epoch 12/20\n",
            "45/45 [==============================] - 0s 2ms/step - loss: 0.4511 - accuracy: 0.8095 - val_loss: 0.5178 - val_accuracy: 0.8090\n",
            "Epoch 13/20\n",
            "45/45 [==============================] - 0s 2ms/step - loss: 0.4372 - accuracy: 0.8131 - val_loss: 0.5211 - val_accuracy: 0.8090\n",
            "Epoch 14/20\n",
            "45/45 [==============================] - 0s 3ms/step - loss: 0.4628 - accuracy: 0.8235 - val_loss: 0.5600 - val_accuracy: 0.6629\n",
            "Epoch 15/20\n",
            "45/45 [==============================] - 0s 2ms/step - loss: 0.5986 - accuracy: 0.6770 - val_loss: 0.5223 - val_accuracy: 0.7079\n",
            "Epoch 16/20\n",
            "45/45 [==============================] - 0s 2ms/step - loss: 0.4612 - accuracy: 0.7519 - val_loss: 0.4845 - val_accuracy: 0.8090\n",
            "Epoch 17/20\n",
            "45/45 [==============================] - 0s 2ms/step - loss: 0.4508 - accuracy: 0.8194 - val_loss: 0.4551 - val_accuracy: 0.8090\n",
            "Epoch 18/20\n",
            "45/45 [==============================] - 0s 2ms/step - loss: 0.4593 - accuracy: 0.7922 - val_loss: 0.4505 - val_accuracy: 0.8090\n",
            "Epoch 19/20\n",
            "45/45 [==============================] - 0s 2ms/step - loss: 0.4464 - accuracy: 0.8033 - val_loss: 0.4486 - val_accuracy: 0.8090\n",
            "Epoch 20/20\n",
            "45/45 [==============================] - 0s 2ms/step - loss: 0.3931 - accuracy: 0.8389 - val_loss: 0.4656 - val_accuracy: 0.8034\n"
          ],
          "name": "stdout"
        },
        {
          "output_type": "execute_result",
          "data": {
            "text/plain": [
              "<tensorflow.python.keras.callbacks.History at 0x7fa0dc418240>"
            ]
          },
          "metadata": {
            "tags": []
          },
          "execution_count": 44
        }
      ]
    },
    {
      "cell_type": "markdown",
      "metadata": {
        "id": "zsDsEJ0b0jTV"
      },
      "source": [
        "Redefine the model using a sigmoid activation for the last layer. What is the difference in accuracy."
      ]
    },
    {
      "cell_type": "code",
      "metadata": {
        "id": "RsbGU_gM0jTV"
      },
      "source": [
        "# Answer below\n",
        "model = Sequential()\n",
        "model.add(Dense(32, input_dim=X_train.shape[1], activation='relu'))\n",
        "model.add(Dense(16, activation='relu'))\n",
        "model.add(Dense(16, activation='relu'))\n",
        "model.add(Dense(16, activation='relu'))\n",
        "model.add(Dense(1, activation='sigmoid'))\n"
      ],
      "execution_count": 45,
      "outputs": []
    },
    {
      "cell_type": "code",
      "metadata": {
        "id": "m8BpyzL40jTX",
        "colab": {
          "base_uri": "https://localhost:8080/"
        },
        "outputId": "e74d34ee-db99-4aa5-a860-f690bfcc5d6e"
      },
      "source": [
        "model.compile(loss='binary_crossentropy', optimizer='adam', metrics=['accuracy'])\n",
        "model.fit(X_train, y_train, epochs=20, batch_size=16, validation_data=(X_test, y_test))"
      ],
      "execution_count": 46,
      "outputs": [
        {
          "output_type": "stream",
          "text": [
            "Epoch 1/20\n",
            "45/45 [==============================] - 1s 6ms/step - loss: 0.6744 - accuracy: 0.5583 - val_loss: 0.6216 - val_accuracy: 0.6124\n",
            "Epoch 2/20\n",
            "45/45 [==============================] - 0s 2ms/step - loss: 0.6113 - accuracy: 0.6290 - val_loss: 0.5482 - val_accuracy: 0.7247\n",
            "Epoch 3/20\n",
            "45/45 [==============================] - 0s 2ms/step - loss: 0.5616 - accuracy: 0.7249 - val_loss: 0.4957 - val_accuracy: 0.7921\n",
            "Epoch 4/20\n",
            "45/45 [==============================] - 0s 2ms/step - loss: 0.4868 - accuracy: 0.7929 - val_loss: 0.4726 - val_accuracy: 0.8090\n",
            "Epoch 5/20\n",
            "45/45 [==============================] - 0s 2ms/step - loss: 0.4932 - accuracy: 0.7937 - val_loss: 0.4608 - val_accuracy: 0.8034\n",
            "Epoch 6/20\n",
            "45/45 [==============================] - 0s 2ms/step - loss: 0.4638 - accuracy: 0.7957 - val_loss: 0.4590 - val_accuracy: 0.8090\n",
            "Epoch 7/20\n",
            "45/45 [==============================] - 0s 2ms/step - loss: 0.4390 - accuracy: 0.7885 - val_loss: 0.4560 - val_accuracy: 0.8034\n",
            "Epoch 8/20\n",
            "45/45 [==============================] - 0s 2ms/step - loss: 0.4067 - accuracy: 0.8311 - val_loss: 0.4509 - val_accuracy: 0.8034\n",
            "Epoch 9/20\n",
            "45/45 [==============================] - 0s 2ms/step - loss: 0.4408 - accuracy: 0.8014 - val_loss: 0.4588 - val_accuracy: 0.7978\n",
            "Epoch 10/20\n",
            "45/45 [==============================] - 0s 2ms/step - loss: 0.4293 - accuracy: 0.8019 - val_loss: 0.4588 - val_accuracy: 0.7978\n",
            "Epoch 11/20\n",
            "45/45 [==============================] - 0s 2ms/step - loss: 0.4386 - accuracy: 0.7973 - val_loss: 0.4543 - val_accuracy: 0.8090\n",
            "Epoch 12/20\n",
            "45/45 [==============================] - 0s 2ms/step - loss: 0.4303 - accuracy: 0.8067 - val_loss: 0.4532 - val_accuracy: 0.8034\n",
            "Epoch 13/20\n",
            "45/45 [==============================] - 0s 2ms/step - loss: 0.4059 - accuracy: 0.8243 - val_loss: 0.4670 - val_accuracy: 0.8034\n",
            "Epoch 14/20\n",
            "45/45 [==============================] - 0s 2ms/step - loss: 0.4176 - accuracy: 0.8208 - val_loss: 0.4598 - val_accuracy: 0.8034\n",
            "Epoch 15/20\n",
            "45/45 [==============================] - 0s 2ms/step - loss: 0.4401 - accuracy: 0.8081 - val_loss: 0.4583 - val_accuracy: 0.7978\n",
            "Epoch 16/20\n",
            "45/45 [==============================] - 0s 2ms/step - loss: 0.4374 - accuracy: 0.7940 - val_loss: 0.4594 - val_accuracy: 0.7978\n",
            "Epoch 17/20\n",
            "45/45 [==============================] - 0s 2ms/step - loss: 0.3755 - accuracy: 0.8363 - val_loss: 0.4720 - val_accuracy: 0.7865\n",
            "Epoch 18/20\n",
            "45/45 [==============================] - 0s 2ms/step - loss: 0.4045 - accuracy: 0.8195 - val_loss: 0.4644 - val_accuracy: 0.7921\n",
            "Epoch 19/20\n",
            "45/45 [==============================] - 0s 2ms/step - loss: 0.3960 - accuracy: 0.8321 - val_loss: 0.4718 - val_accuracy: 0.7921\n",
            "Epoch 20/20\n",
            "45/45 [==============================] - 0s 2ms/step - loss: 0.3780 - accuracy: 0.8383 - val_loss: 0.4705 - val_accuracy: 0.7921\n"
          ],
          "name": "stdout"
        },
        {
          "output_type": "execute_result",
          "data": {
            "text/plain": [
              "<tensorflow.python.keras.callbacks.History at 0x7fa0e54b84a8>"
            ]
          },
          "metadata": {
            "tags": []
          },
          "execution_count": 46
        }
      ]
    },
    {
      "cell_type": "code",
      "metadata": {
        "id": "PCp9a2F5SmlZ"
      },
      "source": [
        "# the accuracy slightly increased but only by about 1%"
      ],
      "execution_count": null,
      "outputs": []
    }
  ]
}