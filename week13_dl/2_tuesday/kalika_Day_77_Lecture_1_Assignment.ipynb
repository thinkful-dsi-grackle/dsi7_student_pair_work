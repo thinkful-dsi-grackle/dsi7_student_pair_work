{
  "nbformat": 4,
  "nbformat_minor": 0,
  "metadata": {
    "kernelspec": {
      "display_name": "Python 3",
      "language": "python",
      "name": "python3"
    },
    "language_info": {
      "codemirror_mode": {
        "name": "ipython",
        "version": 3
      },
      "file_extension": ".py",
      "mimetype": "text/x-python",
      "name": "python",
      "nbconvert_exporter": "python",
      "pygments_lexer": "ipython3",
      "version": "3.7.0"
    },
    "colab": {
      "name": "kalika Day 77 Lecture 1 Assignment.ipynb",
      "provenance": [],
      "collapsed_sections": []
    }
  },
  "cells": [
    {
      "cell_type": "markdown",
      "metadata": {
        "id": "tEyRSqh_0jS7"
      },
      "source": [
        "## Day 82 Lecture 1 Assignment\n",
        "\n",
        "In this assignment, we will learn about activation functions. We will create a neural network and measure the model's performance using different activations."
      ]
    },
    {
      "cell_type": "code",
      "metadata": {
        "id": "DgLFu1Hs0jS-"
      },
      "source": [
        "import numpy as np\n",
        "import pandas as pd"
      ],
      "execution_count": 1,
      "outputs": []
    },
    {
      "cell_type": "markdown",
      "metadata": {
        "id": "BTzJti900jTA"
      },
      "source": [
        "We will import the famous titanic dataset below and produce a neural network that will predict the chance of survival for a passenger."
      ]
    },
    {
      "cell_type": "code",
      "metadata": {
        "id": "CDlLGz270jTB"
      },
      "source": [
        "titanic = pd.read_csv('https://tf-assets-prod.s3.amazonaws.com/tf-curric/data-science/titanic.csv')"
      ],
      "execution_count": 2,
      "outputs": []
    },
    {
      "cell_type": "code",
      "metadata": {
        "id": "z01i6-rV0jTD",
        "colab": {
          "base_uri": "https://localhost:8080/",
          "height": 195
        },
        "outputId": "cd05a6d2-672a-4be2-c98d-017c48f1e563"
      },
      "source": [
        "titanic.head()"
      ],
      "execution_count": 3,
      "outputs": [
        {
          "output_type": "execute_result",
          "data": {
            "text/html": [
              "<div>\n",
              "<style scoped>\n",
              "    .dataframe tbody tr th:only-of-type {\n",
              "        vertical-align: middle;\n",
              "    }\n",
              "\n",
              "    .dataframe tbody tr th {\n",
              "        vertical-align: top;\n",
              "    }\n",
              "\n",
              "    .dataframe thead th {\n",
              "        text-align: right;\n",
              "    }\n",
              "</style>\n",
              "<table border=\"1\" class=\"dataframe\">\n",
              "  <thead>\n",
              "    <tr style=\"text-align: right;\">\n",
              "      <th></th>\n",
              "      <th>PassengerId</th>\n",
              "      <th>Survived</th>\n",
              "      <th>Pclass</th>\n",
              "      <th>Name</th>\n",
              "      <th>Sex</th>\n",
              "      <th>Age</th>\n",
              "      <th>SibSp</th>\n",
              "      <th>Parch</th>\n",
              "      <th>Ticket</th>\n",
              "      <th>Fare</th>\n",
              "      <th>Cabin</th>\n",
              "      <th>Embarked</th>\n",
              "    </tr>\n",
              "  </thead>\n",
              "  <tbody>\n",
              "    <tr>\n",
              "      <th>0</th>\n",
              "      <td>1</td>\n",
              "      <td>0</td>\n",
              "      <td>3</td>\n",
              "      <td>Braund, Mr. Owen Harris</td>\n",
              "      <td>male</td>\n",
              "      <td>22.0</td>\n",
              "      <td>1</td>\n",
              "      <td>0</td>\n",
              "      <td>A/5 21171</td>\n",
              "      <td>7.2500</td>\n",
              "      <td>NaN</td>\n",
              "      <td>S</td>\n",
              "    </tr>\n",
              "    <tr>\n",
              "      <th>1</th>\n",
              "      <td>2</td>\n",
              "      <td>1</td>\n",
              "      <td>1</td>\n",
              "      <td>Cumings, Mrs. John Bradley (Florence Briggs Th...</td>\n",
              "      <td>female</td>\n",
              "      <td>38.0</td>\n",
              "      <td>1</td>\n",
              "      <td>0</td>\n",
              "      <td>PC 17599</td>\n",
              "      <td>71.2833</td>\n",
              "      <td>C85</td>\n",
              "      <td>C</td>\n",
              "    </tr>\n",
              "    <tr>\n",
              "      <th>2</th>\n",
              "      <td>3</td>\n",
              "      <td>1</td>\n",
              "      <td>3</td>\n",
              "      <td>Heikkinen, Miss. Laina</td>\n",
              "      <td>female</td>\n",
              "      <td>26.0</td>\n",
              "      <td>0</td>\n",
              "      <td>0</td>\n",
              "      <td>STON/O2. 3101282</td>\n",
              "      <td>7.9250</td>\n",
              "      <td>NaN</td>\n",
              "      <td>S</td>\n",
              "    </tr>\n",
              "    <tr>\n",
              "      <th>3</th>\n",
              "      <td>4</td>\n",
              "      <td>1</td>\n",
              "      <td>1</td>\n",
              "      <td>Futrelle, Mrs. Jacques Heath (Lily May Peel)</td>\n",
              "      <td>female</td>\n",
              "      <td>35.0</td>\n",
              "      <td>1</td>\n",
              "      <td>0</td>\n",
              "      <td>113803</td>\n",
              "      <td>53.1000</td>\n",
              "      <td>C123</td>\n",
              "      <td>S</td>\n",
              "    </tr>\n",
              "    <tr>\n",
              "      <th>4</th>\n",
              "      <td>5</td>\n",
              "      <td>0</td>\n",
              "      <td>3</td>\n",
              "      <td>Allen, Mr. William Henry</td>\n",
              "      <td>male</td>\n",
              "      <td>35.0</td>\n",
              "      <td>0</td>\n",
              "      <td>0</td>\n",
              "      <td>373450</td>\n",
              "      <td>8.0500</td>\n",
              "      <td>NaN</td>\n",
              "      <td>S</td>\n",
              "    </tr>\n",
              "  </tbody>\n",
              "</table>\n",
              "</div>"
            ],
            "text/plain": [
              "   PassengerId  Survived  Pclass  ...     Fare Cabin  Embarked\n",
              "0            1         0       3  ...   7.2500   NaN         S\n",
              "1            2         1       1  ...  71.2833   C85         C\n",
              "2            3         1       3  ...   7.9250   NaN         S\n",
              "3            4         1       1  ...  53.1000  C123         S\n",
              "4            5         0       3  ...   8.0500   NaN         S\n",
              "\n",
              "[5 rows x 12 columns]"
            ]
          },
          "metadata": {
            "tags": []
          },
          "execution_count": 3
        }
      ]
    },
    {
      "cell_type": "markdown",
      "metadata": {
        "id": "xyD_6NR00jTG"
      },
      "source": [
        "We'll perform some feature engineering\n",
        "\n",
        "Let's start by keeping only the columns we'd like to use for our analysis. Keep only the columns: Survived, Pclass, Sex, SibSp, Parch, and Embarked"
      ]
    },
    {
      "cell_type": "code",
      "metadata": {
        "id": "Lfp0XlLk0jTG",
        "colab": {
          "base_uri": "https://localhost:8080/",
          "height": 195
        },
        "outputId": "47cd4441-ba71-42c1-bd4b-ff18b9e52886"
      },
      "source": [
        "# Answer below:\n",
        "dft = titanic.drop(columns=['PassengerId', 'Name', 'Age', 'Parch', 'Ticket', 'Fare', 'Cabin'])\n",
        "dft.head()"
      ],
      "execution_count": 4,
      "outputs": [
        {
          "output_type": "execute_result",
          "data": {
            "text/html": [
              "<div>\n",
              "<style scoped>\n",
              "    .dataframe tbody tr th:only-of-type {\n",
              "        vertical-align: middle;\n",
              "    }\n",
              "\n",
              "    .dataframe tbody tr th {\n",
              "        vertical-align: top;\n",
              "    }\n",
              "\n",
              "    .dataframe thead th {\n",
              "        text-align: right;\n",
              "    }\n",
              "</style>\n",
              "<table border=\"1\" class=\"dataframe\">\n",
              "  <thead>\n",
              "    <tr style=\"text-align: right;\">\n",
              "      <th></th>\n",
              "      <th>Survived</th>\n",
              "      <th>Pclass</th>\n",
              "      <th>Sex</th>\n",
              "      <th>SibSp</th>\n",
              "      <th>Embarked</th>\n",
              "    </tr>\n",
              "  </thead>\n",
              "  <tbody>\n",
              "    <tr>\n",
              "      <th>0</th>\n",
              "      <td>0</td>\n",
              "      <td>3</td>\n",
              "      <td>male</td>\n",
              "      <td>1</td>\n",
              "      <td>S</td>\n",
              "    </tr>\n",
              "    <tr>\n",
              "      <th>1</th>\n",
              "      <td>1</td>\n",
              "      <td>1</td>\n",
              "      <td>female</td>\n",
              "      <td>1</td>\n",
              "      <td>C</td>\n",
              "    </tr>\n",
              "    <tr>\n",
              "      <th>2</th>\n",
              "      <td>1</td>\n",
              "      <td>3</td>\n",
              "      <td>female</td>\n",
              "      <td>0</td>\n",
              "      <td>S</td>\n",
              "    </tr>\n",
              "    <tr>\n",
              "      <th>3</th>\n",
              "      <td>1</td>\n",
              "      <td>1</td>\n",
              "      <td>female</td>\n",
              "      <td>1</td>\n",
              "      <td>S</td>\n",
              "    </tr>\n",
              "    <tr>\n",
              "      <th>4</th>\n",
              "      <td>0</td>\n",
              "      <td>3</td>\n",
              "      <td>male</td>\n",
              "      <td>0</td>\n",
              "      <td>S</td>\n",
              "    </tr>\n",
              "  </tbody>\n",
              "</table>\n",
              "</div>"
            ],
            "text/plain": [
              "   Survived  Pclass     Sex  SibSp Embarked\n",
              "0         0       3    male      1        S\n",
              "1         1       1  female      1        C\n",
              "2         1       3  female      0        S\n",
              "3         1       1  female      1        S\n",
              "4         0       3    male      0        S"
            ]
          },
          "metadata": {
            "tags": []
          },
          "execution_count": 4
        }
      ]
    },
    {
      "cell_type": "markdown",
      "metadata": {
        "id": "uvBUzjzG0jTI"
      },
      "source": [
        "Now examine how many rows contain missing data. Given how much missing data we have, should we remove the column with the most missing data, or remove all rows containing missing data? Do what you think is best."
      ]
    },
    {
      "cell_type": "code",
      "metadata": {
        "id": "UuKzTWbcPEAx"
      },
      "source": [
        "#A summary of missing variables represented as a percentage of the total missing content. \n",
        "def missingness_summary(df, print_log=False, sort='ascending'):\n",
        "  s = df.isnull().sum()*100/df.isnull().count()\n",
        "    \n",
        "  if sort.lower() == 'ascending':\n",
        "    s = s.sort_values(ascending=True)\n",
        "  elif sort.lower() == 'descending':\n",
        "    s = s.sort_values(ascending=False)  \n",
        "  if print_log: \n",
        "    print(s)\n",
        "  \n",
        "  return pd.Series(s)"
      ],
      "execution_count": 5,
      "outputs": []
    },
    {
      "cell_type": "code",
      "metadata": {
        "id": "PwnHzNjP0jTJ",
        "colab": {
          "base_uri": "https://localhost:8080/"
        },
        "outputId": "d700eed0-e24e-486f-ec41-18b1edf19626"
      },
      "source": [
        "# Answer below: \n",
        "missingness_summary(dft)\n"
      ],
      "execution_count": 6,
      "outputs": [
        {
          "output_type": "execute_result",
          "data": {
            "text/plain": [
              "Survived    0.000000\n",
              "Pclass      0.000000\n",
              "Sex         0.000000\n",
              "SibSp       0.000000\n",
              "Embarked    0.224467\n",
              "dtype: float64"
            ]
          },
          "metadata": {
            "tags": []
          },
          "execution_count": 6
        }
      ]
    },
    {
      "cell_type": "code",
      "metadata": {
        "colab": {
          "base_uri": "https://localhost:8080/"
        },
        "id": "AP78BlsLVDBM",
        "outputId": "05964bd0-71ed-46bf-ae3b-d888f2a4f04c"
      },
      "source": [
        "missingness_summary(titanic)"
      ],
      "execution_count": 7,
      "outputs": [
        {
          "output_type": "execute_result",
          "data": {
            "text/plain": [
              "PassengerId     0.000000\n",
              "Survived        0.000000\n",
              "Pclass          0.000000\n",
              "Name            0.000000\n",
              "Sex             0.000000\n",
              "SibSp           0.000000\n",
              "Parch           0.000000\n",
              "Ticket          0.000000\n",
              "Fare            0.000000\n",
              "Embarked        0.224467\n",
              "Age            19.865320\n",
              "Cabin          77.104377\n",
              "dtype: float64"
            ]
          },
          "metadata": {
            "tags": []
          },
          "execution_count": 7
        }
      ]
    },
    {
      "cell_type": "markdown",
      "metadata": {
        "id": "jd3JcqIWPOaS"
      },
      "source": [
        "Judging by the next question, I should drop 22% of the data. "
      ]
    },
    {
      "cell_type": "code",
      "metadata": {
        "id": "vTCoXN75PV8e"
      },
      "source": [
        "dft.dropna(inplace=True)"
      ],
      "execution_count": 8,
      "outputs": []
    },
    {
      "cell_type": "markdown",
      "metadata": {
        "id": "imTrmBpL0jTK"
      },
      "source": [
        "Now we'll create a one hot encoding of the variables Pclass, sex, and Embarked"
      ]
    },
    {
      "cell_type": "code",
      "metadata": {
        "id": "SD_qCdv60jTL"
      },
      "source": [
        "# Answer below:\n",
        "dums = pd.get_dummies(dft, columns=['Pclass', 'Sex', 'Embarked'], drop_first=True)"
      ],
      "execution_count": 9,
      "outputs": []
    },
    {
      "cell_type": "markdown",
      "metadata": {
        "id": "5vv2pncX0jTM"
      },
      "source": [
        "Split the data into train and test. 20% of the data should be set aside for testing. Use Survived as your target variable."
      ]
    },
    {
      "cell_type": "code",
      "metadata": {
        "id": "4DzzK0j-0jTN"
      },
      "source": [
        "# Answer below\n",
        "y = dums.Survived\n",
        "X = dums.drop(columns=['Survived'])\n",
        "\n",
        "from sklearn.model_selection import train_test_split\n",
        "\n",
        "X_train, X_test, y_train, y_test = train_test_split(X, y, test_size=0.3, random_state=42)"
      ],
      "execution_count": 10,
      "outputs": []
    },
    {
      "cell_type": "code",
      "metadata": {
        "id": "YRNX2MI3WX_S"
      },
      "source": [
        "X_val, X_test, y_val, y_test = train_test_split(X_test, y_test, test_size=0.1, random_state=42)"
      ],
      "execution_count": 11,
      "outputs": []
    },
    {
      "cell_type": "code",
      "metadata": {
        "colab": {
          "base_uri": "https://localhost:8080/"
        },
        "id": "idwhf_peWqTi",
        "outputId": "c77fcad1-1dc2-4002-8bdb-72eb6a85f93f"
      },
      "source": [
        "X_val.shape"
      ],
      "execution_count": 12,
      "outputs": [
        {
          "output_type": "execute_result",
          "data": {
            "text/plain": [
              "(240, 6)"
            ]
          },
          "metadata": {
            "tags": []
          },
          "execution_count": 12
        }
      ]
    },
    {
      "cell_type": "code",
      "metadata": {
        "colab": {
          "base_uri": "https://localhost:8080/"
        },
        "id": "cjRg71NeWsVJ",
        "outputId": "ccf47112-587c-4d7b-ba1a-a38694648f15"
      },
      "source": [
        "X_test.shape"
      ],
      "execution_count": 13,
      "outputs": [
        {
          "output_type": "execute_result",
          "data": {
            "text/plain": [
              "(27, 6)"
            ]
          },
          "metadata": {
            "tags": []
          },
          "execution_count": 13
        }
      ]
    },
    {
      "cell_type": "markdown",
      "metadata": {
        "id": "H-27Xq4M0jTP"
      },
      "source": [
        "At this point, we are ready to create a model. Import `Sequential` and `Dense` from Keras"
      ]
    },
    {
      "cell_type": "code",
      "metadata": {
        "id": "PDcPIuoD0jTP"
      },
      "source": [
        "# Answer below:\n",
        "from tensorflow.keras.models import Sequential\n",
        "from tensorflow.keras.layers import Dense"
      ],
      "execution_count": 14,
      "outputs": []
    },
    {
      "cell_type": "markdown",
      "metadata": {
        "id": "ub0uCwyH0jTR"
      },
      "source": [
        "Create a model with 5 layers. The first layer should be a dense layer that receives the input, the last layer should be of size 1. You determine the remaining layer sizes.\n",
        "\n",
        "Use a tanh activation for the output layer."
      ]
    },
    {
      "cell_type": "code",
      "metadata": {
        "id": "wSiTyR7D0jTR"
      },
      "source": [
        "# Answer below\n",
        "model = Sequential()\n",
        "#One\n",
        "model.add(Dense(32, input_dim=X_train.shape[1], activation='relu'))\n",
        "#Two\n",
        "model.add(Dense(16, activation='relu'))\n",
        "#Three\n",
        "model.add(Dense(9, activation='sigmoid'))\n",
        "#Four\n",
        "model.add(Dense(3, activation='relu'))\n",
        "#Five\n",
        "model.add(Dense(1, activation='tanh'))\n"
      ],
      "execution_count": 15,
      "outputs": []
    },
    {
      "cell_type": "markdown",
      "metadata": {
        "id": "yh-Ely-K0jTT"
      },
      "source": [
        "Compile the model using the adam optimizer, binary crossentropy loss, and the accuracy metric.\n",
        "\n",
        "Fit the model using a batch size of 80 over 200 epochs."
      ]
    },
    {
      "cell_type": "code",
      "metadata": {
        "id": "lT-9MGP30jTT"
      },
      "source": [
        "# Answer below:\n",
        "model.compile(loss='binary_crossentropy', optimizer='adam', \n",
        "              metrics=['accuracy'])"
      ],
      "execution_count": 16,
      "outputs": []
    },
    {
      "cell_type": "code",
      "metadata": {
        "colab": {
          "base_uri": "https://localhost:8080/"
        },
        "id": "o8IvNyjqTOaB",
        "outputId": "6882d1f2-e854-4fdc-8cff-5b072fd77dc1"
      },
      "source": [
        "model.fit(X_train, y_train, epochs=200, batch_size=80, \r\n",
        "          validation_data=(X_val, y_val))"
      ],
      "execution_count": 17,
      "outputs": [
        {
          "output_type": "stream",
          "text": [
            "Epoch 1/200\n",
            "8/8 [==============================] - 1s 61ms/step - loss: 0.7790 - accuracy: 0.5950 - val_loss: 0.6872 - val_accuracy: 0.6375\n",
            "Epoch 2/200\n",
            "8/8 [==============================] - 0s 6ms/step - loss: 0.7125 - accuracy: 0.6035 - val_loss: 0.6648 - val_accuracy: 0.6375\n",
            "Epoch 3/200\n",
            "8/8 [==============================] - 0s 6ms/step - loss: 0.6692 - accuracy: 0.6211 - val_loss: 0.6510 - val_accuracy: 0.6375\n",
            "Epoch 4/200\n",
            "8/8 [==============================] - 0s 6ms/step - loss: 0.6725 - accuracy: 0.6006 - val_loss: 0.6384 - val_accuracy: 0.6375\n",
            "Epoch 5/200\n",
            "8/8 [==============================] - 0s 6ms/step - loss: 0.6528 - accuracy: 0.6078 - val_loss: 0.6232 - val_accuracy: 0.6375\n",
            "Epoch 6/200\n",
            "8/8 [==============================] - 0s 22ms/step - loss: 0.6400 - accuracy: 0.6063 - val_loss: 0.6066 - val_accuracy: 0.6375\n",
            "Epoch 7/200\n",
            "8/8 [==============================] - 0s 6ms/step - loss: 0.6244 - accuracy: 0.6084 - val_loss: 0.5904 - val_accuracy: 0.6375\n",
            "Epoch 8/200\n",
            "8/8 [==============================] - 0s 6ms/step - loss: 0.6036 - accuracy: 0.6312 - val_loss: 0.5741 - val_accuracy: 0.6875\n",
            "Epoch 9/200\n",
            "8/8 [==============================] - 0s 7ms/step - loss: 0.6048 - accuracy: 0.6465 - val_loss: 0.5586 - val_accuracy: 0.7000\n",
            "Epoch 10/200\n",
            "8/8 [==============================] - 0s 7ms/step - loss: 0.5753 - accuracy: 0.6834 - val_loss: 0.5440 - val_accuracy: 0.7042\n",
            "Epoch 11/200\n",
            "8/8 [==============================] - 0s 6ms/step - loss: 0.5741 - accuracy: 0.6798 - val_loss: 0.5309 - val_accuracy: 0.7333\n",
            "Epoch 12/200\n",
            "8/8 [==============================] - 0s 6ms/step - loss: 0.5567 - accuracy: 0.7127 - val_loss: 0.5167 - val_accuracy: 0.7625\n",
            "Epoch 13/200\n",
            "8/8 [==============================] - 0s 6ms/step - loss: 0.5527 - accuracy: 0.7468 - val_loss: 0.5054 - val_accuracy: 0.7958\n",
            "Epoch 14/200\n",
            "8/8 [==============================] - 0s 6ms/step - loss: 0.5504 - accuracy: 0.7707 - val_loss: 0.4972 - val_accuracy: 0.8042\n",
            "Epoch 15/200\n",
            "8/8 [==============================] - 0s 6ms/step - loss: 0.5312 - accuracy: 0.7691 - val_loss: 0.4866 - val_accuracy: 0.8083\n",
            "Epoch 16/200\n",
            "8/8 [==============================] - 0s 6ms/step - loss: 0.5043 - accuracy: 0.7956 - val_loss: 0.4758 - val_accuracy: 0.8083\n",
            "Epoch 17/200\n",
            "8/8 [==============================] - 0s 6ms/step - loss: 0.5183 - accuracy: 0.7899 - val_loss: 0.4772 - val_accuracy: 0.8250\n",
            "Epoch 18/200\n",
            "8/8 [==============================] - 0s 6ms/step - loss: 0.5151 - accuracy: 0.7944 - val_loss: 0.4641 - val_accuracy: 0.8250\n",
            "Epoch 19/200\n",
            "8/8 [==============================] - 0s 6ms/step - loss: 0.4964 - accuracy: 0.8085 - val_loss: 0.4572 - val_accuracy: 0.8250\n",
            "Epoch 20/200\n",
            "8/8 [==============================] - 0s 9ms/step - loss: 0.4814 - accuracy: 0.8114 - val_loss: 0.4523 - val_accuracy: 0.8250\n",
            "Epoch 21/200\n",
            "8/8 [==============================] - 0s 6ms/step - loss: 0.5097 - accuracy: 0.7836 - val_loss: 0.4513 - val_accuracy: 0.8292\n",
            "Epoch 22/200\n",
            "8/8 [==============================] - 0s 6ms/step - loss: 0.4960 - accuracy: 0.8050 - val_loss: 0.4427 - val_accuracy: 0.8292\n",
            "Epoch 23/200\n",
            "8/8 [==============================] - 0s 6ms/step - loss: 0.4685 - accuracy: 0.8131 - val_loss: 0.4379 - val_accuracy: 0.8250\n",
            "Epoch 24/200\n",
            "8/8 [==============================] - 0s 6ms/step - loss: 0.4571 - accuracy: 0.8181 - val_loss: 0.4370 - val_accuracy: 0.8292\n",
            "Epoch 25/200\n",
            "8/8 [==============================] - 0s 6ms/step - loss: 0.4581 - accuracy: 0.8151 - val_loss: 0.4356 - val_accuracy: 0.8292\n",
            "Epoch 26/200\n",
            "8/8 [==============================] - 0s 6ms/step - loss: 0.4736 - accuracy: 0.8109 - val_loss: 0.4306 - val_accuracy: 0.8292\n",
            "Epoch 27/200\n",
            "8/8 [==============================] - 0s 6ms/step - loss: 0.4687 - accuracy: 0.8059 - val_loss: 0.4267 - val_accuracy: 0.8292\n",
            "Epoch 28/200\n",
            "8/8 [==============================] - 0s 6ms/step - loss: 0.4570 - accuracy: 0.8013 - val_loss: 0.4261 - val_accuracy: 0.8292\n",
            "Epoch 29/200\n",
            "8/8 [==============================] - 0s 6ms/step - loss: 0.4379 - accuracy: 0.8151 - val_loss: 0.4238 - val_accuracy: 0.8292\n",
            "Epoch 30/200\n",
            "8/8 [==============================] - 0s 7ms/step - loss: 0.4524 - accuracy: 0.8070 - val_loss: 0.4212 - val_accuracy: 0.8292\n",
            "Epoch 31/200\n",
            "8/8 [==============================] - 0s 6ms/step - loss: 0.4336 - accuracy: 0.8231 - val_loss: 0.4219 - val_accuracy: 0.8292\n",
            "Epoch 32/200\n",
            "8/8 [==============================] - 0s 7ms/step - loss: 0.4220 - accuracy: 0.8234 - val_loss: 0.4190 - val_accuracy: 0.8292\n",
            "Epoch 33/200\n",
            "8/8 [==============================] - 0s 7ms/step - loss: 0.4055 - accuracy: 0.8354 - val_loss: 0.4197 - val_accuracy: 0.8250\n",
            "Epoch 34/200\n",
            "8/8 [==============================] - 0s 7ms/step - loss: 0.4501 - accuracy: 0.7967 - val_loss: 0.4183 - val_accuracy: 0.8250\n",
            "Epoch 35/200\n",
            "8/8 [==============================] - 0s 7ms/step - loss: 0.4283 - accuracy: 0.8167 - val_loss: 0.4157 - val_accuracy: 0.8250\n",
            "Epoch 36/200\n",
            "8/8 [==============================] - 0s 6ms/step - loss: 0.4295 - accuracy: 0.8205 - val_loss: 0.4159 - val_accuracy: 0.8250\n",
            "Epoch 37/200\n",
            "8/8 [==============================] - 0s 6ms/step - loss: 0.4684 - accuracy: 0.7982 - val_loss: 0.4209 - val_accuracy: 0.8250\n",
            "Epoch 38/200\n",
            "8/8 [==============================] - 0s 7ms/step - loss: 0.4155 - accuracy: 0.8293 - val_loss: 0.4150 - val_accuracy: 0.8250\n",
            "Epoch 39/200\n",
            "8/8 [==============================] - 0s 6ms/step - loss: 0.4326 - accuracy: 0.8165 - val_loss: 0.4160 - val_accuracy: 0.8250\n",
            "Epoch 40/200\n",
            "8/8 [==============================] - 0s 7ms/step - loss: 0.4518 - accuracy: 0.8021 - val_loss: 0.4175 - val_accuracy: 0.8250\n",
            "Epoch 41/200\n",
            "8/8 [==============================] - 0s 6ms/step - loss: 0.4316 - accuracy: 0.8185 - val_loss: 0.4145 - val_accuracy: 0.8250\n",
            "Epoch 42/200\n",
            "8/8 [==============================] - 0s 7ms/step - loss: 0.4338 - accuracy: 0.8237 - val_loss: 0.4169 - val_accuracy: 0.8250\n",
            "Epoch 43/200\n",
            "8/8 [==============================] - 0s 7ms/step - loss: 0.4517 - accuracy: 0.8050 - val_loss: 0.4173 - val_accuracy: 0.8208\n",
            "Epoch 44/200\n",
            "8/8 [==============================] - 0s 7ms/step - loss: 0.4350 - accuracy: 0.8105 - val_loss: 0.4123 - val_accuracy: 0.8208\n",
            "Epoch 45/200\n",
            "8/8 [==============================] - 0s 6ms/step - loss: 0.4636 - accuracy: 0.7989 - val_loss: 0.4216 - val_accuracy: 0.8208\n",
            "Epoch 46/200\n",
            "8/8 [==============================] - 0s 6ms/step - loss: 0.4283 - accuracy: 0.8183 - val_loss: 0.4130 - val_accuracy: 0.8208\n",
            "Epoch 47/200\n",
            "8/8 [==============================] - 0s 6ms/step - loss: 0.4214 - accuracy: 0.8140 - val_loss: 0.4158 - val_accuracy: 0.8208\n",
            "Epoch 48/200\n",
            "8/8 [==============================] - 0s 6ms/step - loss: 0.4229 - accuracy: 0.8270 - val_loss: 0.4233 - val_accuracy: 0.8208\n",
            "Epoch 49/200\n",
            "8/8 [==============================] - 0s 7ms/step - loss: 0.4409 - accuracy: 0.8022 - val_loss: 0.4190 - val_accuracy: 0.8208\n",
            "Epoch 50/200\n",
            "8/8 [==============================] - 0s 6ms/step - loss: 0.4278 - accuracy: 0.8167 - val_loss: 0.4142 - val_accuracy: 0.8208\n",
            "Epoch 51/200\n",
            "8/8 [==============================] - 0s 6ms/step - loss: 0.4215 - accuracy: 0.8099 - val_loss: 0.4162 - val_accuracy: 0.8208\n",
            "Epoch 52/200\n",
            "8/8 [==============================] - 0s 7ms/step - loss: 0.4291 - accuracy: 0.8133 - val_loss: 0.4175 - val_accuracy: 0.8208\n",
            "Epoch 53/200\n",
            "8/8 [==============================] - 0s 6ms/step - loss: 0.4408 - accuracy: 0.8022 - val_loss: 0.4167 - val_accuracy: 0.8167\n",
            "Epoch 54/200\n",
            "8/8 [==============================] - 0s 6ms/step - loss: 0.4128 - accuracy: 0.8285 - val_loss: 0.4183 - val_accuracy: 0.8167\n",
            "Epoch 55/200\n",
            "8/8 [==============================] - 0s 7ms/step - loss: 0.4302 - accuracy: 0.8192 - val_loss: 0.4175 - val_accuracy: 0.8167\n",
            "Epoch 56/200\n",
            "8/8 [==============================] - 0s 7ms/step - loss: 0.4197 - accuracy: 0.8241 - val_loss: 0.4174 - val_accuracy: 0.8167\n",
            "Epoch 57/200\n",
            "8/8 [==============================] - 0s 6ms/step - loss: 0.4148 - accuracy: 0.8318 - val_loss: 0.4172 - val_accuracy: 0.8167\n",
            "Epoch 58/200\n",
            "8/8 [==============================] - 0s 7ms/step - loss: 0.4111 - accuracy: 0.8341 - val_loss: 0.4193 - val_accuracy: 0.8167\n",
            "Epoch 59/200\n",
            "8/8 [==============================] - 0s 8ms/step - loss: 0.4305 - accuracy: 0.8135 - val_loss: 0.4240 - val_accuracy: 0.8208\n",
            "Epoch 60/200\n",
            "8/8 [==============================] - 0s 22ms/step - loss: 0.4082 - accuracy: 0.8302 - val_loss: 0.4153 - val_accuracy: 0.8208\n",
            "Epoch 61/200\n",
            "8/8 [==============================] - 0s 7ms/step - loss: 0.4104 - accuracy: 0.8220 - val_loss: 0.4217 - val_accuracy: 0.8167\n",
            "Epoch 62/200\n",
            "8/8 [==============================] - 0s 7ms/step - loss: 0.4258 - accuracy: 0.8254 - val_loss: 0.4218 - val_accuracy: 0.8208\n",
            "Epoch 63/200\n",
            "8/8 [==============================] - 0s 7ms/step - loss: 0.4104 - accuracy: 0.8279 - val_loss: 0.4149 - val_accuracy: 0.8208\n",
            "Epoch 64/200\n",
            "8/8 [==============================] - 0s 7ms/step - loss: 0.4596 - accuracy: 0.8038 - val_loss: 0.4217 - val_accuracy: 0.8167\n",
            "Epoch 65/200\n",
            "8/8 [==============================] - 0s 6ms/step - loss: 0.4222 - accuracy: 0.8170 - val_loss: 0.4206 - val_accuracy: 0.8167\n",
            "Epoch 66/200\n",
            "8/8 [==============================] - 0s 7ms/step - loss: 0.4370 - accuracy: 0.8018 - val_loss: 0.4199 - val_accuracy: 0.8167\n",
            "Epoch 67/200\n",
            "8/8 [==============================] - 0s 7ms/step - loss: 0.4191 - accuracy: 0.8122 - val_loss: 0.4160 - val_accuracy: 0.8167\n",
            "Epoch 68/200\n",
            "8/8 [==============================] - 0s 6ms/step - loss: 0.4020 - accuracy: 0.8297 - val_loss: 0.4203 - val_accuracy: 0.8167\n",
            "Epoch 69/200\n",
            "8/8 [==============================] - 0s 6ms/step - loss: 0.4002 - accuracy: 0.8289 - val_loss: 0.4227 - val_accuracy: 0.8167\n",
            "Epoch 70/200\n",
            "8/8 [==============================] - 0s 7ms/step - loss: 0.4224 - accuracy: 0.8156 - val_loss: 0.4209 - val_accuracy: 0.8167\n",
            "Epoch 71/200\n",
            "8/8 [==============================] - 0s 8ms/step - loss: 0.4213 - accuracy: 0.8160 - val_loss: 0.4211 - val_accuracy: 0.8167\n",
            "Epoch 72/200\n",
            "8/8 [==============================] - 0s 6ms/step - loss: 0.4343 - accuracy: 0.8168 - val_loss: 0.4208 - val_accuracy: 0.8167\n",
            "Epoch 73/200\n",
            "8/8 [==============================] - 0s 7ms/step - loss: 0.4024 - accuracy: 0.8248 - val_loss: 0.4239 - val_accuracy: 0.8167\n",
            "Epoch 74/200\n",
            "8/8 [==============================] - 0s 6ms/step - loss: 0.4400 - accuracy: 0.8137 - val_loss: 0.4225 - val_accuracy: 0.8167\n",
            "Epoch 75/200\n",
            "8/8 [==============================] - 0s 6ms/step - loss: 0.4371 - accuracy: 0.8198 - val_loss: 0.4176 - val_accuracy: 0.8167\n",
            "Epoch 76/200\n",
            "8/8 [==============================] - 0s 6ms/step - loss: 0.4203 - accuracy: 0.8259 - val_loss: 0.4218 - val_accuracy: 0.8167\n",
            "Epoch 77/200\n",
            "8/8 [==============================] - 0s 6ms/step - loss: 0.4282 - accuracy: 0.8163 - val_loss: 0.4210 - val_accuracy: 0.8167\n",
            "Epoch 78/200\n",
            "8/8 [==============================] - 0s 6ms/step - loss: 0.4394 - accuracy: 0.8129 - val_loss: 0.4222 - val_accuracy: 0.8167\n",
            "Epoch 79/200\n",
            "8/8 [==============================] - 0s 6ms/step - loss: 0.4368 - accuracy: 0.8153 - val_loss: 0.4226 - val_accuracy: 0.8167\n",
            "Epoch 80/200\n",
            "8/8 [==============================] - 0s 6ms/step - loss: 0.4387 - accuracy: 0.7960 - val_loss: 0.4192 - val_accuracy: 0.8167\n",
            "Epoch 81/200\n",
            "8/8 [==============================] - 0s 7ms/step - loss: 0.3914 - accuracy: 0.8397 - val_loss: 0.4208 - val_accuracy: 0.8167\n",
            "Epoch 82/200\n",
            "8/8 [==============================] - 0s 7ms/step - loss: 0.4183 - accuracy: 0.8221 - val_loss: 0.4250 - val_accuracy: 0.8167\n",
            "Epoch 83/200\n",
            "8/8 [==============================] - 0s 6ms/step - loss: 0.4171 - accuracy: 0.8205 - val_loss: 0.4241 - val_accuracy: 0.8208\n",
            "Epoch 84/200\n",
            "8/8 [==============================] - 0s 6ms/step - loss: 0.3912 - accuracy: 0.8443 - val_loss: 0.4210 - val_accuracy: 0.8167\n",
            "Epoch 85/200\n",
            "8/8 [==============================] - 0s 7ms/step - loss: 0.4376 - accuracy: 0.8002 - val_loss: 0.4225 - val_accuracy: 0.8167\n",
            "Epoch 86/200\n",
            "8/8 [==============================] - 0s 6ms/step - loss: 0.4318 - accuracy: 0.8069 - val_loss: 0.4191 - val_accuracy: 0.8208\n",
            "Epoch 87/200\n",
            "8/8 [==============================] - 0s 6ms/step - loss: 0.4447 - accuracy: 0.8123 - val_loss: 0.4222 - val_accuracy: 0.8208\n",
            "Epoch 88/200\n",
            "8/8 [==============================] - 0s 7ms/step - loss: 0.4132 - accuracy: 0.8238 - val_loss: 0.4252 - val_accuracy: 0.8208\n",
            "Epoch 89/200\n",
            "8/8 [==============================] - 0s 6ms/step - loss: 0.4265 - accuracy: 0.8195 - val_loss: 0.4257 - val_accuracy: 0.8167\n",
            "Epoch 90/200\n",
            "8/8 [==============================] - 0s 6ms/step - loss: 0.4221 - accuracy: 0.8188 - val_loss: 0.4211 - val_accuracy: 0.8167\n",
            "Epoch 91/200\n",
            "8/8 [==============================] - 0s 7ms/step - loss: 0.3923 - accuracy: 0.8321 - val_loss: 0.4210 - val_accuracy: 0.8167\n",
            "Epoch 92/200\n",
            "8/8 [==============================] - 0s 7ms/step - loss: 0.4207 - accuracy: 0.8217 - val_loss: 0.4231 - val_accuracy: 0.8167\n",
            "Epoch 93/200\n",
            "8/8 [==============================] - 0s 7ms/step - loss: 0.4217 - accuracy: 0.8175 - val_loss: 0.4285 - val_accuracy: 0.8167\n",
            "Epoch 94/200\n",
            "8/8 [==============================] - 0s 6ms/step - loss: 0.4368 - accuracy: 0.8041 - val_loss: 0.4266 - val_accuracy: 0.8167\n",
            "Epoch 95/200\n",
            "8/8 [==============================] - 0s 6ms/step - loss: 0.4225 - accuracy: 0.8161 - val_loss: 0.4222 - val_accuracy: 0.8167\n",
            "Epoch 96/200\n",
            "8/8 [==============================] - 0s 6ms/step - loss: 0.4530 - accuracy: 0.7934 - val_loss: 0.4210 - val_accuracy: 0.8167\n",
            "Epoch 97/200\n",
            "8/8 [==============================] - 0s 7ms/step - loss: 0.4267 - accuracy: 0.8103 - val_loss: 0.4227 - val_accuracy: 0.8167\n",
            "Epoch 98/200\n",
            "8/8 [==============================] - 0s 6ms/step - loss: 0.4149 - accuracy: 0.8243 - val_loss: 0.4222 - val_accuracy: 0.8167\n",
            "Epoch 99/200\n",
            "8/8 [==============================] - 0s 7ms/step - loss: 0.4186 - accuracy: 0.8263 - val_loss: 0.4254 - val_accuracy: 0.8167\n",
            "Epoch 100/200\n",
            "8/8 [==============================] - 0s 8ms/step - loss: 0.4178 - accuracy: 0.8223 - val_loss: 0.4236 - val_accuracy: 0.8167\n",
            "Epoch 101/200\n",
            "8/8 [==============================] - 0s 7ms/step - loss: 0.4819 - accuracy: 0.7817 - val_loss: 0.4237 - val_accuracy: 0.8167\n",
            "Epoch 102/200\n",
            "8/8 [==============================] - 0s 7ms/step - loss: 0.4283 - accuracy: 0.8119 - val_loss: 0.4224 - val_accuracy: 0.8167\n",
            "Epoch 103/200\n",
            "8/8 [==============================] - 0s 6ms/step - loss: 0.4096 - accuracy: 0.8213 - val_loss: 0.4288 - val_accuracy: 0.8167\n",
            "Epoch 104/200\n",
            "8/8 [==============================] - 0s 23ms/step - loss: 0.4215 - accuracy: 0.8251 - val_loss: 0.4222 - val_accuracy: 0.8167\n",
            "Epoch 105/200\n",
            "8/8 [==============================] - 0s 7ms/step - loss: 0.4261 - accuracy: 0.8127 - val_loss: 0.4235 - val_accuracy: 0.8208\n",
            "Epoch 106/200\n",
            "8/8 [==============================] - 0s 7ms/step - loss: 0.4158 - accuracy: 0.8201 - val_loss: 0.4226 - val_accuracy: 0.8208\n",
            "Epoch 107/200\n",
            "8/8 [==============================] - 0s 6ms/step - loss: 0.4028 - accuracy: 0.8246 - val_loss: 0.4264 - val_accuracy: 0.8167\n",
            "Epoch 108/200\n",
            "8/8 [==============================] - 0s 7ms/step - loss: 0.4207 - accuracy: 0.8188 - val_loss: 0.4255 - val_accuracy: 0.8167\n",
            "Epoch 109/200\n",
            "8/8 [==============================] - 0s 6ms/step - loss: 0.4175 - accuracy: 0.8252 - val_loss: 0.4213 - val_accuracy: 0.8208\n",
            "Epoch 110/200\n",
            "8/8 [==============================] - 0s 6ms/step - loss: 0.4212 - accuracy: 0.8210 - val_loss: 0.4316 - val_accuracy: 0.8167\n",
            "Epoch 111/200\n",
            "8/8 [==============================] - 0s 6ms/step - loss: 0.4203 - accuracy: 0.8128 - val_loss: 0.4242 - val_accuracy: 0.8167\n",
            "Epoch 112/200\n",
            "8/8 [==============================] - 0s 6ms/step - loss: 0.4067 - accuracy: 0.8247 - val_loss: 0.4241 - val_accuracy: 0.8208\n",
            "Epoch 113/200\n",
            "8/8 [==============================] - 0s 6ms/step - loss: 0.4050 - accuracy: 0.8373 - val_loss: 0.4255 - val_accuracy: 0.8167\n",
            "Epoch 114/200\n",
            "8/8 [==============================] - 0s 6ms/step - loss: 0.4468 - accuracy: 0.7948 - val_loss: 0.4273 - val_accuracy: 0.8167\n",
            "Epoch 115/200\n",
            "8/8 [==============================] - 0s 6ms/step - loss: 0.4047 - accuracy: 0.8291 - val_loss: 0.4191 - val_accuracy: 0.8208\n",
            "Epoch 116/200\n",
            "8/8 [==============================] - 0s 7ms/step - loss: 0.4217 - accuracy: 0.8108 - val_loss: 0.4231 - val_accuracy: 0.8208\n",
            "Epoch 117/200\n",
            "8/8 [==============================] - 0s 7ms/step - loss: 0.4336 - accuracy: 0.8040 - val_loss: 0.4251 - val_accuracy: 0.8208\n",
            "Epoch 118/200\n",
            "8/8 [==============================] - 0s 7ms/step - loss: 0.4048 - accuracy: 0.8332 - val_loss: 0.4226 - val_accuracy: 0.8208\n",
            "Epoch 119/200\n",
            "8/8 [==============================] - 0s 6ms/step - loss: 0.4295 - accuracy: 0.8175 - val_loss: 0.4260 - val_accuracy: 0.8208\n",
            "Epoch 120/200\n",
            "8/8 [==============================] - 0s 6ms/step - loss: 0.4284 - accuracy: 0.8169 - val_loss: 0.4244 - val_accuracy: 0.8208\n",
            "Epoch 121/200\n",
            "8/8 [==============================] - 0s 7ms/step - loss: 0.4235 - accuracy: 0.8044 - val_loss: 0.4238 - val_accuracy: 0.8208\n",
            "Epoch 122/200\n",
            "8/8 [==============================] - 0s 7ms/step - loss: 0.4422 - accuracy: 0.8042 - val_loss: 0.4243 - val_accuracy: 0.8208\n",
            "Epoch 123/200\n",
            "8/8 [==============================] - 0s 8ms/step - loss: 0.3972 - accuracy: 0.8475 - val_loss: 0.4223 - val_accuracy: 0.8208\n",
            "Epoch 124/200\n",
            "8/8 [==============================] - 0s 8ms/step - loss: 0.4203 - accuracy: 0.8200 - val_loss: 0.4301 - val_accuracy: 0.8167\n",
            "Epoch 125/200\n",
            "8/8 [==============================] - 0s 7ms/step - loss: 0.4186 - accuracy: 0.8277 - val_loss: 0.4264 - val_accuracy: 0.8208\n",
            "Epoch 126/200\n",
            "8/8 [==============================] - 0s 7ms/step - loss: 0.4478 - accuracy: 0.7990 - val_loss: 0.4265 - val_accuracy: 0.8208\n",
            "Epoch 127/200\n",
            "8/8 [==============================] - 0s 7ms/step - loss: 0.4209 - accuracy: 0.8150 - val_loss: 0.4238 - val_accuracy: 0.8208\n",
            "Epoch 128/200\n",
            "8/8 [==============================] - 0s 6ms/step - loss: 0.3923 - accuracy: 0.8356 - val_loss: 0.4236 - val_accuracy: 0.8167\n",
            "Epoch 129/200\n",
            "8/8 [==============================] - 0s 7ms/step - loss: 0.4579 - accuracy: 0.8046 - val_loss: 0.4289 - val_accuracy: 0.8167\n",
            "Epoch 130/200\n",
            "8/8 [==============================] - 0s 7ms/step - loss: 0.4438 - accuracy: 0.8014 - val_loss: 0.4273 - val_accuracy: 0.8208\n",
            "Epoch 131/200\n",
            "8/8 [==============================] - 0s 8ms/step - loss: 0.4203 - accuracy: 0.8196 - val_loss: 0.4225 - val_accuracy: 0.8208\n",
            "Epoch 132/200\n",
            "8/8 [==============================] - 0s 7ms/step - loss: 0.4036 - accuracy: 0.8232 - val_loss: 0.4258 - val_accuracy: 0.8167\n",
            "Epoch 133/200\n",
            "8/8 [==============================] - 0s 6ms/step - loss: 0.4246 - accuracy: 0.8166 - val_loss: 0.4257 - val_accuracy: 0.8167\n",
            "Epoch 134/200\n",
            "8/8 [==============================] - 0s 7ms/step - loss: 0.4021 - accuracy: 0.8350 - val_loss: 0.4231 - val_accuracy: 0.8208\n",
            "Epoch 135/200\n",
            "8/8 [==============================] - 0s 6ms/step - loss: 0.4588 - accuracy: 0.8054 - val_loss: 0.4310 - val_accuracy: 0.8167\n",
            "Epoch 136/200\n",
            "8/8 [==============================] - 0s 8ms/step - loss: 0.4280 - accuracy: 0.8108 - val_loss: 0.4255 - val_accuracy: 0.8208\n",
            "Epoch 137/200\n",
            "8/8 [==============================] - 0s 8ms/step - loss: 0.4074 - accuracy: 0.8184 - val_loss: 0.4230 - val_accuracy: 0.8167\n",
            "Epoch 138/200\n",
            "8/8 [==============================] - 0s 7ms/step - loss: 0.4044 - accuracy: 0.8200 - val_loss: 0.4275 - val_accuracy: 0.8167\n",
            "Epoch 139/200\n",
            "8/8 [==============================] - 0s 7ms/step - loss: 0.4102 - accuracy: 0.8243 - val_loss: 0.4259 - val_accuracy: 0.8167\n",
            "Epoch 140/200\n",
            "8/8 [==============================] - 0s 6ms/step - loss: 0.3919 - accuracy: 0.8306 - val_loss: 0.4253 - val_accuracy: 0.8167\n",
            "Epoch 141/200\n",
            "8/8 [==============================] - 0s 6ms/step - loss: 0.4118 - accuracy: 0.8147 - val_loss: 0.4279 - val_accuracy: 0.8208\n",
            "Epoch 142/200\n",
            "8/8 [==============================] - 0s 6ms/step - loss: 0.4145 - accuracy: 0.8314 - val_loss: 0.4250 - val_accuracy: 0.8167\n",
            "Epoch 143/200\n",
            "8/8 [==============================] - 0s 7ms/step - loss: 0.4053 - accuracy: 0.8203 - val_loss: 0.4244 - val_accuracy: 0.8167\n",
            "Epoch 144/200\n",
            "8/8 [==============================] - 0s 6ms/step - loss: 0.4167 - accuracy: 0.8220 - val_loss: 0.4298 - val_accuracy: 0.8167\n",
            "Epoch 145/200\n",
            "8/8 [==============================] - 0s 6ms/step - loss: 0.4309 - accuracy: 0.8117 - val_loss: 0.4263 - val_accuracy: 0.8167\n",
            "Epoch 146/200\n",
            "8/8 [==============================] - 0s 6ms/step - loss: 0.4416 - accuracy: 0.8015 - val_loss: 0.4231 - val_accuracy: 0.8167\n",
            "Epoch 147/200\n",
            "8/8 [==============================] - 0s 7ms/step - loss: 0.4192 - accuracy: 0.8101 - val_loss: 0.4244 - val_accuracy: 0.8167\n",
            "Epoch 148/200\n",
            "8/8 [==============================] - 0s 7ms/step - loss: 0.4404 - accuracy: 0.8079 - val_loss: 0.4270 - val_accuracy: 0.8208\n",
            "Epoch 149/200\n",
            "8/8 [==============================] - 0s 6ms/step - loss: 0.4131 - accuracy: 0.8287 - val_loss: 0.4273 - val_accuracy: 0.8208\n",
            "Epoch 150/200\n",
            "8/8 [==============================] - 0s 6ms/step - loss: 0.4230 - accuracy: 0.8163 - val_loss: 0.4324 - val_accuracy: 0.8167\n",
            "Epoch 151/200\n",
            "8/8 [==============================] - 0s 6ms/step - loss: 0.4162 - accuracy: 0.8292 - val_loss: 0.4238 - val_accuracy: 0.8167\n",
            "Epoch 152/200\n",
            "8/8 [==============================] - 0s 8ms/step - loss: 0.4428 - accuracy: 0.8117 - val_loss: 0.4244 - val_accuracy: 0.8208\n",
            "Epoch 153/200\n",
            "8/8 [==============================] - 0s 7ms/step - loss: 0.4173 - accuracy: 0.8202 - val_loss: 0.4262 - val_accuracy: 0.8208\n",
            "Epoch 154/200\n",
            "8/8 [==============================] - 0s 6ms/step - loss: 0.4032 - accuracy: 0.8222 - val_loss: 0.4272 - val_accuracy: 0.8208\n",
            "Epoch 155/200\n",
            "8/8 [==============================] - 0s 6ms/step - loss: 0.4080 - accuracy: 0.8218 - val_loss: 0.4300 - val_accuracy: 0.8167\n",
            "Epoch 156/200\n",
            "8/8 [==============================] - 0s 6ms/step - loss: 0.4125 - accuracy: 0.8224 - val_loss: 0.4261 - val_accuracy: 0.8167\n",
            "Epoch 157/200\n",
            "8/8 [==============================] - 0s 7ms/step - loss: 0.3961 - accuracy: 0.8294 - val_loss: 0.4263 - val_accuracy: 0.8167\n",
            "Epoch 158/200\n",
            "8/8 [==============================] - 0s 23ms/step - loss: 0.3822 - accuracy: 0.8464 - val_loss: 0.4273 - val_accuracy: 0.8167\n",
            "Epoch 159/200\n",
            "8/8 [==============================] - 0s 6ms/step - loss: 0.4165 - accuracy: 0.8267 - val_loss: 0.4287 - val_accuracy: 0.8167\n",
            "Epoch 160/200\n",
            "8/8 [==============================] - 0s 6ms/step - loss: 0.4183 - accuracy: 0.8145 - val_loss: 0.4284 - val_accuracy: 0.8167\n",
            "Epoch 161/200\n",
            "8/8 [==============================] - 0s 6ms/step - loss: 0.4267 - accuracy: 0.8177 - val_loss: 0.4271 - val_accuracy: 0.8167\n",
            "Epoch 162/200\n",
            "8/8 [==============================] - 0s 6ms/step - loss: 0.4126 - accuracy: 0.8171 - val_loss: 0.4253 - val_accuracy: 0.8167\n",
            "Epoch 163/200\n",
            "8/8 [==============================] - 0s 7ms/step - loss: 0.4147 - accuracy: 0.8320 - val_loss: 0.4255 - val_accuracy: 0.8167\n",
            "Epoch 164/200\n",
            "8/8 [==============================] - 0s 7ms/step - loss: 0.3962 - accuracy: 0.8284 - val_loss: 0.4252 - val_accuracy: 0.8167\n",
            "Epoch 165/200\n",
            "8/8 [==============================] - 0s 6ms/step - loss: 0.4313 - accuracy: 0.8139 - val_loss: 0.4327 - val_accuracy: 0.8167\n",
            "Epoch 166/200\n",
            "8/8 [==============================] - 0s 6ms/step - loss: 0.4602 - accuracy: 0.7922 - val_loss: 0.4271 - val_accuracy: 0.8208\n",
            "Epoch 167/200\n",
            "8/8 [==============================] - 0s 8ms/step - loss: 0.3892 - accuracy: 0.8429 - val_loss: 0.4260 - val_accuracy: 0.8208\n",
            "Epoch 168/200\n",
            "8/8 [==============================] - 0s 7ms/step - loss: 0.4125 - accuracy: 0.8270 - val_loss: 0.4409 - val_accuracy: 0.8208\n",
            "Epoch 169/200\n",
            "8/8 [==============================] - 0s 7ms/step - loss: 0.4292 - accuracy: 0.8170 - val_loss: 0.4240 - val_accuracy: 0.8167\n",
            "Epoch 170/200\n",
            "8/8 [==============================] - 0s 7ms/step - loss: 0.4245 - accuracy: 0.8102 - val_loss: 0.4215 - val_accuracy: 0.8208\n",
            "Epoch 171/200\n",
            "8/8 [==============================] - 0s 6ms/step - loss: 0.4304 - accuracy: 0.8107 - val_loss: 0.4261 - val_accuracy: 0.8167\n",
            "Epoch 172/200\n",
            "8/8 [==============================] - 0s 7ms/step - loss: 0.4575 - accuracy: 0.7974 - val_loss: 0.4295 - val_accuracy: 0.8167\n",
            "Epoch 173/200\n",
            "8/8 [==============================] - 0s 7ms/step - loss: 0.4174 - accuracy: 0.8164 - val_loss: 0.4272 - val_accuracy: 0.8167\n",
            "Epoch 174/200\n",
            "8/8 [==============================] - 0s 7ms/step - loss: 0.4313 - accuracy: 0.8068 - val_loss: 0.4296 - val_accuracy: 0.8167\n",
            "Epoch 175/200\n",
            "8/8 [==============================] - 0s 7ms/step - loss: 0.3841 - accuracy: 0.8443 - val_loss: 0.4245 - val_accuracy: 0.8167\n",
            "Epoch 176/200\n",
            "8/8 [==============================] - 0s 7ms/step - loss: 0.4081 - accuracy: 0.8179 - val_loss: 0.4317 - val_accuracy: 0.8167\n",
            "Epoch 177/200\n",
            "8/8 [==============================] - 0s 6ms/step - loss: 0.4256 - accuracy: 0.8199 - val_loss: 0.4267 - val_accuracy: 0.8167\n",
            "Epoch 178/200\n",
            "8/8 [==============================] - 0s 6ms/step - loss: 0.4076 - accuracy: 0.8194 - val_loss: 0.4270 - val_accuracy: 0.8167\n",
            "Epoch 179/200\n",
            "8/8 [==============================] - 0s 7ms/step - loss: 0.3921 - accuracy: 0.8338 - val_loss: 0.4257 - val_accuracy: 0.8167\n",
            "Epoch 180/200\n",
            "8/8 [==============================] - 0s 6ms/step - loss: 0.3932 - accuracy: 0.8289 - val_loss: 0.4331 - val_accuracy: 0.8167\n",
            "Epoch 181/200\n",
            "8/8 [==============================] - 0s 7ms/step - loss: 0.4036 - accuracy: 0.8323 - val_loss: 0.4294 - val_accuracy: 0.8167\n",
            "Epoch 182/200\n",
            "8/8 [==============================] - 0s 7ms/step - loss: 0.4217 - accuracy: 0.8147 - val_loss: 0.4303 - val_accuracy: 0.8167\n",
            "Epoch 183/200\n",
            "8/8 [==============================] - 0s 7ms/step - loss: 0.3979 - accuracy: 0.8309 - val_loss: 0.4266 - val_accuracy: 0.8167\n",
            "Epoch 184/200\n",
            "8/8 [==============================] - 0s 6ms/step - loss: 0.4253 - accuracy: 0.8162 - val_loss: 0.4285 - val_accuracy: 0.8167\n",
            "Epoch 185/200\n",
            "8/8 [==============================] - 0s 7ms/step - loss: 0.4260 - accuracy: 0.8085 - val_loss: 0.4281 - val_accuracy: 0.8167\n",
            "Epoch 186/200\n",
            "8/8 [==============================] - 0s 6ms/step - loss: 0.4314 - accuracy: 0.8122 - val_loss: 0.4279 - val_accuracy: 0.8167\n",
            "Epoch 187/200\n",
            "8/8 [==============================] - 0s 6ms/step - loss: 0.4233 - accuracy: 0.8029 - val_loss: 0.4265 - val_accuracy: 0.8167\n",
            "Epoch 188/200\n",
            "8/8 [==============================] - 0s 6ms/step - loss: 0.4056 - accuracy: 0.8372 - val_loss: 0.4262 - val_accuracy: 0.8167\n",
            "Epoch 189/200\n",
            "8/8 [==============================] - 0s 7ms/step - loss: 0.4312 - accuracy: 0.8229 - val_loss: 0.4305 - val_accuracy: 0.8167\n",
            "Epoch 190/200\n",
            "8/8 [==============================] - 0s 6ms/step - loss: 0.4142 - accuracy: 0.8204 - val_loss: 0.4286 - val_accuracy: 0.8167\n",
            "Epoch 191/200\n",
            "8/8 [==============================] - 0s 7ms/step - loss: 0.4224 - accuracy: 0.8058 - val_loss: 0.4276 - val_accuracy: 0.8167\n",
            "Epoch 192/200\n",
            "8/8 [==============================] - 0s 6ms/step - loss: 0.3904 - accuracy: 0.8288 - val_loss: 0.4278 - val_accuracy: 0.8167\n",
            "Epoch 193/200\n",
            "8/8 [==============================] - 0s 7ms/step - loss: 0.4276 - accuracy: 0.8148 - val_loss: 0.4316 - val_accuracy: 0.8167\n",
            "Epoch 194/200\n",
            "8/8 [==============================] - 0s 7ms/step - loss: 0.4118 - accuracy: 0.8237 - val_loss: 0.4278 - val_accuracy: 0.8167\n",
            "Epoch 195/200\n",
            "8/8 [==============================] - 0s 6ms/step - loss: 0.4019 - accuracy: 0.8272 - val_loss: 0.4289 - val_accuracy: 0.8167\n",
            "Epoch 196/200\n",
            "8/8 [==============================] - 0s 6ms/step - loss: 0.4003 - accuracy: 0.8291 - val_loss: 0.4296 - val_accuracy: 0.8167\n",
            "Epoch 197/200\n",
            "8/8 [==============================] - 0s 6ms/step - loss: 0.4229 - accuracy: 0.8133 - val_loss: 0.4283 - val_accuracy: 0.8167\n",
            "Epoch 198/200\n",
            "8/8 [==============================] - 0s 7ms/step - loss: 0.3958 - accuracy: 0.8312 - val_loss: 0.4295 - val_accuracy: 0.8167\n",
            "Epoch 199/200\n",
            "8/8 [==============================] - 0s 6ms/step - loss: 0.4475 - accuracy: 0.7933 - val_loss: 0.4353 - val_accuracy: 0.8208\n",
            "Epoch 200/200\n",
            "8/8 [==============================] - 0s 22ms/step - loss: 0.3844 - accuracy: 0.8370 - val_loss: 0.4243 - val_accuracy: 0.8167\n"
          ],
          "name": "stdout"
        },
        {
          "output_type": "execute_result",
          "data": {
            "text/plain": [
              "<tensorflow.python.keras.callbacks.History at 0x7fe944392198>"
            ]
          },
          "metadata": {
            "tags": []
          },
          "execution_count": 17
        }
      ]
    },
    {
      "cell_type": "code",
      "metadata": {
        "colab": {
          "base_uri": "https://localhost:8080/"
        },
        "id": "oRu2a2AbYBmv",
        "outputId": "cb9f553c-35b3-493b-e1b7-b35455487ef1"
      },
      "source": [
        "pred=model.predict(X_test)\r\n",
        "from sklearn.metrics import classification_report\r\n",
        "\r\n",
        "#predicted_class_indices=np.argmax(pred,axis=-1) \r\n",
        "predicted_class_indices=(pred > 0.5).astype(\"int32\") #binary class identification.\r\n",
        "y_true = y_test\r\n",
        "\r\n",
        "print(classification_report(y_true, \r\n",
        "                            predicted_class_indices))"
      ],
      "execution_count": 18,
      "outputs": [
        {
          "output_type": "stream",
          "text": [
            "              precision    recall  f1-score   support\n",
            "\n",
            "           0       0.61      0.79      0.69        14\n",
            "           1       0.67      0.46      0.55        13\n",
            "\n",
            "    accuracy                           0.63        27\n",
            "   macro avg       0.64      0.62      0.62        27\n",
            "weighted avg       0.64      0.63      0.62        27\n",
            "\n"
          ],
          "name": "stdout"
        }
      ]
    },
    {
      "cell_type": "markdown",
      "metadata": {
        "id": "zsDsEJ0b0jTV"
      },
      "source": [
        "Redefine the model using a sigmoid activation for the last layer. What is the difference in accuracy."
      ]
    },
    {
      "cell_type": "code",
      "metadata": {
        "id": "RsbGU_gM0jTV",
        "colab": {
          "base_uri": "https://localhost:8080/"
        },
        "outputId": "372c5c87-d645-49b4-b285-1c51ac56fcea"
      },
      "source": [
        "# Answer below\n",
        "# Answer below\n",
        "model = Sequential()\n",
        "#One\n",
        "model.add(Dense(32, input_dim=X_train.shape[1], activation='relu'))\n",
        "#Two\n",
        "model.add(Dense(16, activation='relu'))\n",
        "#Three\n",
        "model.add(Dense(9, activation='sigmoid'))\n",
        "#Four\n",
        "model.add(Dense(3, activation='relu'))\n",
        "#Five\n",
        "model.add(Dense(1, activation='sigmoid'))\n",
        "\n",
        "# Answer below:\n",
        "model.compile(loss='binary_crossentropy', optimizer='adam', \n",
        "              metrics=['accuracy'])\n",
        "\n",
        "\n",
        "model.fit(X_train, y_train, epochs=200, batch_size=80, \n",
        "          validation_data=(X_val, y_val))"
      ],
      "execution_count": 19,
      "outputs": [
        {
          "output_type": "stream",
          "text": [
            "Epoch 1/200\n",
            "8/8 [==============================] - 1s 27ms/step - loss: 0.7526 - accuracy: 0.6276 - val_loss: 0.7187 - val_accuracy: 0.6375\n",
            "Epoch 2/200\n",
            "8/8 [==============================] - 0s 6ms/step - loss: 0.7194 - accuracy: 0.6331 - val_loss: 0.6977 - val_accuracy: 0.6375\n",
            "Epoch 3/200\n",
            "8/8 [==============================] - 0s 6ms/step - loss: 0.7392 - accuracy: 0.6013 - val_loss: 0.6802 - val_accuracy: 0.6375\n",
            "Epoch 4/200\n",
            "8/8 [==============================] - 0s 6ms/step - loss: 0.7111 - accuracy: 0.6063 - val_loss: 0.6656 - val_accuracy: 0.6375\n",
            "Epoch 5/200\n",
            "8/8 [==============================] - 0s 6ms/step - loss: 0.6693 - accuracy: 0.6343 - val_loss: 0.6571 - val_accuracy: 0.6375\n",
            "Epoch 6/200\n",
            "8/8 [==============================] - 0s 6ms/step - loss: 0.6806 - accuracy: 0.6120 - val_loss: 0.6497 - val_accuracy: 0.6375\n",
            "Epoch 7/200\n",
            "8/8 [==============================] - 0s 6ms/step - loss: 0.6639 - accuracy: 0.6231 - val_loss: 0.6425 - val_accuracy: 0.6375\n",
            "Epoch 8/200\n",
            "8/8 [==============================] - 0s 7ms/step - loss: 0.6569 - accuracy: 0.6225 - val_loss: 0.6347 - val_accuracy: 0.6375\n",
            "Epoch 9/200\n",
            "8/8 [==============================] - 0s 6ms/step - loss: 0.6651 - accuracy: 0.6027 - val_loss: 0.6258 - val_accuracy: 0.6375\n",
            "Epoch 10/200\n",
            "8/8 [==============================] - 0s 6ms/step - loss: 0.6401 - accuracy: 0.6200 - val_loss: 0.6154 - val_accuracy: 0.6375\n",
            "Epoch 11/200\n",
            "8/8 [==============================] - 0s 6ms/step - loss: 0.6323 - accuracy: 0.6167 - val_loss: 0.6049 - val_accuracy: 0.6375\n",
            "Epoch 12/200\n",
            "8/8 [==============================] - 0s 6ms/step - loss: 0.6290 - accuracy: 0.6105 - val_loss: 0.5944 - val_accuracy: 0.6375\n",
            "Epoch 13/200\n",
            "8/8 [==============================] - 0s 6ms/step - loss: 0.6195 - accuracy: 0.6105 - val_loss: 0.5838 - val_accuracy: 0.6375\n",
            "Epoch 14/200\n",
            "8/8 [==============================] - 0s 7ms/step - loss: 0.6100 - accuracy: 0.6167 - val_loss: 0.5725 - val_accuracy: 0.6375\n",
            "Epoch 15/200\n",
            "8/8 [==============================] - 0s 7ms/step - loss: 0.6021 - accuracy: 0.6086 - val_loss: 0.5603 - val_accuracy: 0.6375\n",
            "Epoch 16/200\n",
            "8/8 [==============================] - 0s 7ms/step - loss: 0.5816 - accuracy: 0.6218 - val_loss: 0.5482 - val_accuracy: 0.6375\n",
            "Epoch 17/200\n",
            "8/8 [==============================] - 0s 7ms/step - loss: 0.5749 - accuracy: 0.6285 - val_loss: 0.5359 - val_accuracy: 0.7042\n",
            "Epoch 18/200\n",
            "8/8 [==============================] - 0s 7ms/step - loss: 0.5729 - accuracy: 0.6707 - val_loss: 0.5244 - val_accuracy: 0.7375\n",
            "Epoch 19/200\n",
            "8/8 [==============================] - 0s 7ms/step - loss: 0.5567 - accuracy: 0.7154 - val_loss: 0.5143 - val_accuracy: 0.7708\n",
            "Epoch 20/200\n",
            "8/8 [==============================] - 0s 6ms/step - loss: 0.5540 - accuracy: 0.7582 - val_loss: 0.5067 - val_accuracy: 0.7958\n",
            "Epoch 21/200\n",
            "8/8 [==============================] - 0s 6ms/step - loss: 0.5260 - accuracy: 0.8099 - val_loss: 0.4997 - val_accuracy: 0.8208\n",
            "Epoch 22/200\n",
            "8/8 [==============================] - 0s 6ms/step - loss: 0.5254 - accuracy: 0.8172 - val_loss: 0.4949 - val_accuracy: 0.8250\n",
            "Epoch 23/200\n",
            "8/8 [==============================] - 0s 6ms/step - loss: 0.5307 - accuracy: 0.8038 - val_loss: 0.4896 - val_accuracy: 0.8250\n",
            "Epoch 24/200\n",
            "8/8 [==============================] - 0s 6ms/step - loss: 0.5289 - accuracy: 0.8079 - val_loss: 0.4853 - val_accuracy: 0.8250\n",
            "Epoch 25/200\n",
            "8/8 [==============================] - 0s 6ms/step - loss: 0.5449 - accuracy: 0.7780 - val_loss: 0.4814 - val_accuracy: 0.8208\n",
            "Epoch 26/200\n",
            "8/8 [==============================] - 0s 7ms/step - loss: 0.5296 - accuracy: 0.7987 - val_loss: 0.4777 - val_accuracy: 0.8208\n",
            "Epoch 27/200\n",
            "8/8 [==============================] - 0s 6ms/step - loss: 0.5106 - accuracy: 0.8167 - val_loss: 0.4742 - val_accuracy: 0.8208\n",
            "Epoch 28/200\n",
            "8/8 [==============================] - 0s 6ms/step - loss: 0.4909 - accuracy: 0.8313 - val_loss: 0.4710 - val_accuracy: 0.8208\n",
            "Epoch 29/200\n",
            "8/8 [==============================] - 0s 6ms/step - loss: 0.4918 - accuracy: 0.8310 - val_loss: 0.4685 - val_accuracy: 0.8208\n",
            "Epoch 30/200\n",
            "8/8 [==============================] - 0s 6ms/step - loss: 0.4999 - accuracy: 0.8169 - val_loss: 0.4660 - val_accuracy: 0.8250\n",
            "Epoch 31/200\n",
            "8/8 [==============================] - 0s 6ms/step - loss: 0.4925 - accuracy: 0.8114 - val_loss: 0.4623 - val_accuracy: 0.8208\n",
            "Epoch 32/200\n",
            "8/8 [==============================] - 0s 6ms/step - loss: 0.5039 - accuracy: 0.8012 - val_loss: 0.4595 - val_accuracy: 0.8250\n",
            "Epoch 33/200\n",
            "8/8 [==============================] - 0s 6ms/step - loss: 0.4846 - accuracy: 0.8200 - val_loss: 0.4566 - val_accuracy: 0.8250\n",
            "Epoch 34/200\n",
            "8/8 [==============================] - 0s 8ms/step - loss: 0.4893 - accuracy: 0.8136 - val_loss: 0.4546 - val_accuracy: 0.8250\n",
            "Epoch 35/200\n",
            "8/8 [==============================] - 0s 6ms/step - loss: 0.4961 - accuracy: 0.8008 - val_loss: 0.4509 - val_accuracy: 0.8250\n",
            "Epoch 36/200\n",
            "8/8 [==============================] - 0s 23ms/step - loss: 0.4869 - accuracy: 0.8055 - val_loss: 0.4482 - val_accuracy: 0.8250\n",
            "Epoch 37/200\n",
            "8/8 [==============================] - 0s 6ms/step - loss: 0.4760 - accuracy: 0.8075 - val_loss: 0.4459 - val_accuracy: 0.8250\n",
            "Epoch 38/200\n",
            "8/8 [==============================] - 0s 7ms/step - loss: 0.4789 - accuracy: 0.8080 - val_loss: 0.4432 - val_accuracy: 0.8250\n",
            "Epoch 39/200\n",
            "8/8 [==============================] - 0s 6ms/step - loss: 0.4713 - accuracy: 0.8165 - val_loss: 0.4410 - val_accuracy: 0.8250\n",
            "Epoch 40/200\n",
            "8/8 [==============================] - 0s 6ms/step - loss: 0.4709 - accuracy: 0.8073 - val_loss: 0.4396 - val_accuracy: 0.8250\n",
            "Epoch 41/200\n",
            "8/8 [==============================] - 0s 6ms/step - loss: 0.4643 - accuracy: 0.8172 - val_loss: 0.4376 - val_accuracy: 0.8250\n",
            "Epoch 42/200\n",
            "8/8 [==============================] - 0s 6ms/step - loss: 0.4816 - accuracy: 0.8000 - val_loss: 0.4361 - val_accuracy: 0.8250\n",
            "Epoch 43/200\n",
            "8/8 [==============================] - 0s 6ms/step - loss: 0.4624 - accuracy: 0.8122 - val_loss: 0.4341 - val_accuracy: 0.8250\n",
            "Epoch 44/200\n",
            "8/8 [==============================] - 0s 6ms/step - loss: 0.4446 - accuracy: 0.8287 - val_loss: 0.4324 - val_accuracy: 0.8250\n",
            "Epoch 45/200\n",
            "8/8 [==============================] - 0s 7ms/step - loss: 0.4532 - accuracy: 0.8190 - val_loss: 0.4313 - val_accuracy: 0.8250\n",
            "Epoch 46/200\n",
            "8/8 [==============================] - 0s 6ms/step - loss: 0.4801 - accuracy: 0.7946 - val_loss: 0.4306 - val_accuracy: 0.8250\n",
            "Epoch 47/200\n",
            "8/8 [==============================] - 0s 7ms/step - loss: 0.4596 - accuracy: 0.8191 - val_loss: 0.4291 - val_accuracy: 0.8250\n",
            "Epoch 48/200\n",
            "8/8 [==============================] - 0s 6ms/step - loss: 0.4663 - accuracy: 0.8006 - val_loss: 0.4279 - val_accuracy: 0.8250\n",
            "Epoch 49/200\n",
            "8/8 [==============================] - 0s 6ms/step - loss: 0.4452 - accuracy: 0.8220 - val_loss: 0.4259 - val_accuracy: 0.8250\n",
            "Epoch 50/200\n",
            "8/8 [==============================] - 0s 7ms/step - loss: 0.4252 - accuracy: 0.8237 - val_loss: 0.4246 - val_accuracy: 0.8250\n",
            "Epoch 51/200\n",
            "8/8 [==============================] - 0s 6ms/step - loss: 0.4498 - accuracy: 0.8135 - val_loss: 0.4238 - val_accuracy: 0.8250\n",
            "Epoch 52/200\n",
            "8/8 [==============================] - 0s 8ms/step - loss: 0.4757 - accuracy: 0.8023 - val_loss: 0.4236 - val_accuracy: 0.8250\n",
            "Epoch 53/200\n",
            "8/8 [==============================] - 0s 6ms/step - loss: 0.4299 - accuracy: 0.8287 - val_loss: 0.4229 - val_accuracy: 0.8208\n",
            "Epoch 54/200\n",
            "8/8 [==============================] - 0s 6ms/step - loss: 0.4381 - accuracy: 0.8228 - val_loss: 0.4222 - val_accuracy: 0.8208\n",
            "Epoch 55/200\n",
            "8/8 [==============================] - 0s 7ms/step - loss: 0.4500 - accuracy: 0.8117 - val_loss: 0.4215 - val_accuracy: 0.8208\n",
            "Epoch 56/200\n",
            "8/8 [==============================] - 0s 6ms/step - loss: 0.4334 - accuracy: 0.8252 - val_loss: 0.4208 - val_accuracy: 0.8208\n",
            "Epoch 57/200\n",
            "8/8 [==============================] - 0s 8ms/step - loss: 0.4411 - accuracy: 0.8223 - val_loss: 0.4205 - val_accuracy: 0.8208\n",
            "Epoch 58/200\n",
            "8/8 [==============================] - 0s 6ms/step - loss: 0.4316 - accuracy: 0.8304 - val_loss: 0.4191 - val_accuracy: 0.8208\n",
            "Epoch 59/200\n",
            "8/8 [==============================] - 0s 6ms/step - loss: 0.4455 - accuracy: 0.8136 - val_loss: 0.4206 - val_accuracy: 0.8208\n",
            "Epoch 60/200\n",
            "8/8 [==============================] - 0s 6ms/step - loss: 0.4521 - accuracy: 0.8149 - val_loss: 0.4195 - val_accuracy: 0.8208\n",
            "Epoch 61/200\n",
            "8/8 [==============================] - 0s 6ms/step - loss: 0.4341 - accuracy: 0.8212 - val_loss: 0.4183 - val_accuracy: 0.8208\n",
            "Epoch 62/200\n",
            "8/8 [==============================] - 0s 7ms/step - loss: 0.4392 - accuracy: 0.8253 - val_loss: 0.4183 - val_accuracy: 0.8208\n",
            "Epoch 63/200\n",
            "8/8 [==============================] - 0s 7ms/step - loss: 0.4309 - accuracy: 0.8314 - val_loss: 0.4180 - val_accuracy: 0.8208\n",
            "Epoch 64/200\n",
            "8/8 [==============================] - 0s 6ms/step - loss: 0.4474 - accuracy: 0.8220 - val_loss: 0.4185 - val_accuracy: 0.8208\n",
            "Epoch 65/200\n",
            "8/8 [==============================] - 0s 7ms/step - loss: 0.4374 - accuracy: 0.8180 - val_loss: 0.4177 - val_accuracy: 0.8208\n",
            "Epoch 66/200\n",
            "8/8 [==============================] - 0s 6ms/step - loss: 0.4467 - accuracy: 0.8147 - val_loss: 0.4172 - val_accuracy: 0.8208\n",
            "Epoch 67/200\n",
            "8/8 [==============================] - 0s 7ms/step - loss: 0.4334 - accuracy: 0.8275 - val_loss: 0.4171 - val_accuracy: 0.8208\n",
            "Epoch 68/200\n",
            "8/8 [==============================] - 0s 6ms/step - loss: 0.4510 - accuracy: 0.8086 - val_loss: 0.4172 - val_accuracy: 0.8208\n",
            "Epoch 69/200\n",
            "8/8 [==============================] - 0s 6ms/step - loss: 0.4133 - accuracy: 0.8395 - val_loss: 0.4164 - val_accuracy: 0.8208\n",
            "Epoch 70/200\n",
            "8/8 [==============================] - 0s 6ms/step - loss: 0.4112 - accuracy: 0.8299 - val_loss: 0.4166 - val_accuracy: 0.8208\n",
            "Epoch 71/200\n",
            "8/8 [==============================] - 0s 7ms/step - loss: 0.4474 - accuracy: 0.8145 - val_loss: 0.4170 - val_accuracy: 0.8208\n",
            "Epoch 72/200\n",
            "8/8 [==============================] - 0s 6ms/step - loss: 0.4187 - accuracy: 0.8362 - val_loss: 0.4159 - val_accuracy: 0.8208\n",
            "Epoch 73/200\n",
            "8/8 [==============================] - 0s 6ms/step - loss: 0.4447 - accuracy: 0.8009 - val_loss: 0.4177 - val_accuracy: 0.8208\n",
            "Epoch 74/200\n",
            "8/8 [==============================] - 0s 6ms/step - loss: 0.4318 - accuracy: 0.8212 - val_loss: 0.4159 - val_accuracy: 0.8208\n",
            "Epoch 75/200\n",
            "8/8 [==============================] - 0s 6ms/step - loss: 0.4319 - accuracy: 0.8146 - val_loss: 0.4162 - val_accuracy: 0.8208\n",
            "Epoch 76/200\n",
            "8/8 [==============================] - 0s 6ms/step - loss: 0.4405 - accuracy: 0.8105 - val_loss: 0.4161 - val_accuracy: 0.8208\n",
            "Epoch 77/200\n",
            "8/8 [==============================] - 0s 7ms/step - loss: 0.4280 - accuracy: 0.8287 - val_loss: 0.4161 - val_accuracy: 0.8208\n",
            "Epoch 78/200\n",
            "8/8 [==============================] - 0s 6ms/step - loss: 0.4070 - accuracy: 0.8312 - val_loss: 0.4161 - val_accuracy: 0.8208\n",
            "Epoch 79/200\n",
            "8/8 [==============================] - 0s 6ms/step - loss: 0.4495 - accuracy: 0.8115 - val_loss: 0.4167 - val_accuracy: 0.8208\n",
            "Epoch 80/200\n",
            "8/8 [==============================] - 0s 6ms/step - loss: 0.4281 - accuracy: 0.8211 - val_loss: 0.4158 - val_accuracy: 0.8208\n",
            "Epoch 81/200\n",
            "8/8 [==============================] - 0s 6ms/step - loss: 0.4327 - accuracy: 0.8177 - val_loss: 0.4162 - val_accuracy: 0.8208\n",
            "Epoch 82/200\n",
            "8/8 [==============================] - 0s 6ms/step - loss: 0.4469 - accuracy: 0.8116 - val_loss: 0.4161 - val_accuracy: 0.8208\n",
            "Epoch 83/200\n",
            "8/8 [==============================] - 0s 6ms/step - loss: 0.4261 - accuracy: 0.8223 - val_loss: 0.4157 - val_accuracy: 0.8208\n",
            "Epoch 84/200\n",
            "8/8 [==============================] - 0s 6ms/step - loss: 0.4346 - accuracy: 0.8201 - val_loss: 0.4157 - val_accuracy: 0.8208\n",
            "Epoch 85/200\n",
            "8/8 [==============================] - 0s 6ms/step - loss: 0.4307 - accuracy: 0.8297 - val_loss: 0.4164 - val_accuracy: 0.8208\n",
            "Epoch 86/200\n",
            "8/8 [==============================] - 0s 6ms/step - loss: 0.4313 - accuracy: 0.8159 - val_loss: 0.4174 - val_accuracy: 0.8250\n",
            "Epoch 87/200\n",
            "8/8 [==============================] - 0s 7ms/step - loss: 0.4427 - accuracy: 0.8090 - val_loss: 0.4151 - val_accuracy: 0.8208\n",
            "Epoch 88/200\n",
            "8/8 [==============================] - 0s 7ms/step - loss: 0.4711 - accuracy: 0.7910 - val_loss: 0.4155 - val_accuracy: 0.8208\n",
            "Epoch 89/200\n",
            "8/8 [==============================] - 0s 6ms/step - loss: 0.4395 - accuracy: 0.8065 - val_loss: 0.4157 - val_accuracy: 0.8208\n",
            "Epoch 90/200\n",
            "8/8 [==============================] - 0s 22ms/step - loss: 0.4320 - accuracy: 0.8234 - val_loss: 0.4153 - val_accuracy: 0.8208\n",
            "Epoch 91/200\n",
            "8/8 [==============================] - 0s 6ms/step - loss: 0.4368 - accuracy: 0.8101 - val_loss: 0.4156 - val_accuracy: 0.8208\n",
            "Epoch 92/200\n",
            "8/8 [==============================] - 0s 6ms/step - loss: 0.4121 - accuracy: 0.8353 - val_loss: 0.4157 - val_accuracy: 0.8208\n",
            "Epoch 93/200\n",
            "8/8 [==============================] - 0s 6ms/step - loss: 0.4421 - accuracy: 0.8158 - val_loss: 0.4168 - val_accuracy: 0.8208\n",
            "Epoch 94/200\n",
            "8/8 [==============================] - 0s 6ms/step - loss: 0.4368 - accuracy: 0.8104 - val_loss: 0.4157 - val_accuracy: 0.8208\n",
            "Epoch 95/200\n",
            "8/8 [==============================] - 0s 6ms/step - loss: 0.4153 - accuracy: 0.8236 - val_loss: 0.4159 - val_accuracy: 0.8208\n",
            "Epoch 96/200\n",
            "8/8 [==============================] - 0s 7ms/step - loss: 0.4218 - accuracy: 0.8326 - val_loss: 0.4157 - val_accuracy: 0.8208\n",
            "Epoch 97/200\n",
            "8/8 [==============================] - 0s 7ms/step - loss: 0.4426 - accuracy: 0.8167 - val_loss: 0.4162 - val_accuracy: 0.8208\n",
            "Epoch 98/200\n",
            "8/8 [==============================] - 0s 6ms/step - loss: 0.4183 - accuracy: 0.8143 - val_loss: 0.4157 - val_accuracy: 0.8208\n",
            "Epoch 99/200\n",
            "8/8 [==============================] - 0s 7ms/step - loss: 0.4204 - accuracy: 0.8236 - val_loss: 0.4158 - val_accuracy: 0.8208\n",
            "Epoch 100/200\n",
            "8/8 [==============================] - 0s 8ms/step - loss: 0.4152 - accuracy: 0.8239 - val_loss: 0.4160 - val_accuracy: 0.8208\n",
            "Epoch 101/200\n",
            "8/8 [==============================] - 0s 7ms/step - loss: 0.4427 - accuracy: 0.8159 - val_loss: 0.4162 - val_accuracy: 0.8208\n",
            "Epoch 102/200\n",
            "8/8 [==============================] - 0s 6ms/step - loss: 0.4077 - accuracy: 0.8344 - val_loss: 0.4152 - val_accuracy: 0.8208\n",
            "Epoch 103/200\n",
            "8/8 [==============================] - 0s 7ms/step - loss: 0.4265 - accuracy: 0.8172 - val_loss: 0.4157 - val_accuracy: 0.8208\n",
            "Epoch 104/200\n",
            "8/8 [==============================] - 0s 6ms/step - loss: 0.4287 - accuracy: 0.8129 - val_loss: 0.4161 - val_accuracy: 0.8208\n",
            "Epoch 105/200\n",
            "8/8 [==============================] - 0s 6ms/step - loss: 0.4399 - accuracy: 0.8129 - val_loss: 0.4161 - val_accuracy: 0.8208\n",
            "Epoch 106/200\n",
            "8/8 [==============================] - 0s 6ms/step - loss: 0.4404 - accuracy: 0.8109 - val_loss: 0.4159 - val_accuracy: 0.8208\n",
            "Epoch 107/200\n",
            "8/8 [==============================] - 0s 6ms/step - loss: 0.3995 - accuracy: 0.8446 - val_loss: 0.4150 - val_accuracy: 0.8208\n",
            "Epoch 108/200\n",
            "8/8 [==============================] - 0s 6ms/step - loss: 0.4283 - accuracy: 0.8191 - val_loss: 0.4165 - val_accuracy: 0.8208\n",
            "Epoch 109/200\n",
            "8/8 [==============================] - 0s 7ms/step - loss: 0.4083 - accuracy: 0.8342 - val_loss: 0.4173 - val_accuracy: 0.8208\n",
            "Epoch 110/200\n",
            "8/8 [==============================] - 0s 6ms/step - loss: 0.4280 - accuracy: 0.8272 - val_loss: 0.4158 - val_accuracy: 0.8208\n",
            "Epoch 111/200\n",
            "8/8 [==============================] - 0s 6ms/step - loss: 0.4276 - accuracy: 0.8130 - val_loss: 0.4157 - val_accuracy: 0.8208\n",
            "Epoch 112/200\n",
            "8/8 [==============================] - 0s 7ms/step - loss: 0.4338 - accuracy: 0.8111 - val_loss: 0.4157 - val_accuracy: 0.8208\n",
            "Epoch 113/200\n",
            "8/8 [==============================] - 0s 7ms/step - loss: 0.4401 - accuracy: 0.8121 - val_loss: 0.4155 - val_accuracy: 0.8208\n",
            "Epoch 114/200\n",
            "8/8 [==============================] - 0s 6ms/step - loss: 0.4390 - accuracy: 0.8109 - val_loss: 0.4161 - val_accuracy: 0.8208\n",
            "Epoch 115/200\n",
            "8/8 [==============================] - 0s 6ms/step - loss: 0.4371 - accuracy: 0.8167 - val_loss: 0.4155 - val_accuracy: 0.8208\n",
            "Epoch 116/200\n",
            "8/8 [==============================] - 0s 6ms/step - loss: 0.4164 - accuracy: 0.8258 - val_loss: 0.4156 - val_accuracy: 0.8208\n",
            "Epoch 117/200\n",
            "8/8 [==============================] - 0s 6ms/step - loss: 0.4496 - accuracy: 0.7967 - val_loss: 0.4173 - val_accuracy: 0.8208\n",
            "Epoch 118/200\n",
            "8/8 [==============================] - 0s 7ms/step - loss: 0.4220 - accuracy: 0.8305 - val_loss: 0.4157 - val_accuracy: 0.8208\n",
            "Epoch 119/200\n",
            "8/8 [==============================] - 0s 7ms/step - loss: 0.4428 - accuracy: 0.8078 - val_loss: 0.4158 - val_accuracy: 0.8208\n",
            "Epoch 120/200\n",
            "8/8 [==============================] - 0s 7ms/step - loss: 0.4145 - accuracy: 0.8281 - val_loss: 0.4160 - val_accuracy: 0.8208\n",
            "Epoch 121/200\n",
            "8/8 [==============================] - 0s 7ms/step - loss: 0.4269 - accuracy: 0.8249 - val_loss: 0.4173 - val_accuracy: 0.8208\n",
            "Epoch 122/200\n",
            "8/8 [==============================] - 0s 6ms/step - loss: 0.4066 - accuracy: 0.8414 - val_loss: 0.4157 - val_accuracy: 0.8208\n",
            "Epoch 123/200\n",
            "8/8 [==============================] - 0s 6ms/step - loss: 0.4365 - accuracy: 0.8183 - val_loss: 0.4164 - val_accuracy: 0.8208\n",
            "Epoch 124/200\n",
            "8/8 [==============================] - 0s 7ms/step - loss: 0.4462 - accuracy: 0.8070 - val_loss: 0.4166 - val_accuracy: 0.8208\n",
            "Epoch 125/200\n",
            "8/8 [==============================] - 0s 6ms/step - loss: 0.4315 - accuracy: 0.8179 - val_loss: 0.4158 - val_accuracy: 0.8208\n",
            "Epoch 126/200\n",
            "8/8 [==============================] - 0s 7ms/step - loss: 0.4469 - accuracy: 0.7988 - val_loss: 0.4161 - val_accuracy: 0.8208\n",
            "Epoch 127/200\n",
            "8/8 [==============================] - 0s 7ms/step - loss: 0.4422 - accuracy: 0.8112 - val_loss: 0.4162 - val_accuracy: 0.8208\n",
            "Epoch 128/200\n",
            "8/8 [==============================] - 0s 7ms/step - loss: 0.4318 - accuracy: 0.8081 - val_loss: 0.4161 - val_accuracy: 0.8208\n",
            "Epoch 129/200\n",
            "8/8 [==============================] - 0s 6ms/step - loss: 0.4278 - accuracy: 0.8139 - val_loss: 0.4158 - val_accuracy: 0.8208\n",
            "Epoch 130/200\n",
            "8/8 [==============================] - 0s 6ms/step - loss: 0.4420 - accuracy: 0.8105 - val_loss: 0.4165 - val_accuracy: 0.8208\n",
            "Epoch 131/200\n",
            "8/8 [==============================] - 0s 6ms/step - loss: 0.4269 - accuracy: 0.8211 - val_loss: 0.4153 - val_accuracy: 0.8208\n",
            "Epoch 132/200\n",
            "8/8 [==============================] - 0s 7ms/step - loss: 0.3891 - accuracy: 0.8413 - val_loss: 0.4151 - val_accuracy: 0.8208\n",
            "Epoch 133/200\n",
            "8/8 [==============================] - 0s 7ms/step - loss: 0.4284 - accuracy: 0.8226 - val_loss: 0.4171 - val_accuracy: 0.8208\n",
            "Epoch 134/200\n",
            "8/8 [==============================] - 0s 23ms/step - loss: 0.4292 - accuracy: 0.8165 - val_loss: 0.4171 - val_accuracy: 0.8208\n",
            "Epoch 135/200\n",
            "8/8 [==============================] - 0s 7ms/step - loss: 0.3951 - accuracy: 0.8339 - val_loss: 0.4154 - val_accuracy: 0.8208\n",
            "Epoch 136/200\n",
            "8/8 [==============================] - 0s 6ms/step - loss: 0.3907 - accuracy: 0.8454 - val_loss: 0.4153 - val_accuracy: 0.8208\n",
            "Epoch 137/200\n",
            "8/8 [==============================] - 0s 7ms/step - loss: 0.4540 - accuracy: 0.8072 - val_loss: 0.4182 - val_accuracy: 0.8208\n",
            "Epoch 138/200\n",
            "8/8 [==============================] - 0s 8ms/step - loss: 0.4163 - accuracy: 0.8272 - val_loss: 0.4163 - val_accuracy: 0.8208\n",
            "Epoch 139/200\n",
            "8/8 [==============================] - 0s 7ms/step - loss: 0.4201 - accuracy: 0.8187 - val_loss: 0.4161 - val_accuracy: 0.8208\n",
            "Epoch 140/200\n",
            "8/8 [==============================] - 0s 6ms/step - loss: 0.4414 - accuracy: 0.8088 - val_loss: 0.4160 - val_accuracy: 0.8208\n",
            "Epoch 141/200\n",
            "8/8 [==============================] - 0s 6ms/step - loss: 0.4186 - accuracy: 0.8169 - val_loss: 0.4162 - val_accuracy: 0.8208\n",
            "Epoch 142/200\n",
            "8/8 [==============================] - 0s 6ms/step - loss: 0.4177 - accuracy: 0.8232 - val_loss: 0.4152 - val_accuracy: 0.8208\n",
            "Epoch 143/200\n",
            "8/8 [==============================] - 0s 6ms/step - loss: 0.4466 - accuracy: 0.8016 - val_loss: 0.4166 - val_accuracy: 0.8208\n",
            "Epoch 144/200\n",
            "8/8 [==============================] - 0s 7ms/step - loss: 0.4319 - accuracy: 0.8151 - val_loss: 0.4167 - val_accuracy: 0.8208\n",
            "Epoch 145/200\n",
            "8/8 [==============================] - 0s 8ms/step - loss: 0.4384 - accuracy: 0.8105 - val_loss: 0.4159 - val_accuracy: 0.8208\n",
            "Epoch 146/200\n",
            "8/8 [==============================] - 0s 6ms/step - loss: 0.4057 - accuracy: 0.8283 - val_loss: 0.4160 - val_accuracy: 0.8208\n",
            "Epoch 147/200\n",
            "8/8 [==============================] - 0s 6ms/step - loss: 0.4164 - accuracy: 0.8272 - val_loss: 0.4162 - val_accuracy: 0.8208\n",
            "Epoch 148/200\n",
            "8/8 [==============================] - 0s 6ms/step - loss: 0.4523 - accuracy: 0.7995 - val_loss: 0.4158 - val_accuracy: 0.8208\n",
            "Epoch 149/200\n",
            "8/8 [==============================] - 0s 7ms/step - loss: 0.4339 - accuracy: 0.8216 - val_loss: 0.4165 - val_accuracy: 0.8208\n",
            "Epoch 150/200\n",
            "8/8 [==============================] - 0s 7ms/step - loss: 0.4220 - accuracy: 0.8161 - val_loss: 0.4163 - val_accuracy: 0.8208\n",
            "Epoch 151/200\n",
            "8/8 [==============================] - 0s 9ms/step - loss: 0.4360 - accuracy: 0.8078 - val_loss: 0.4163 - val_accuracy: 0.8208\n",
            "Epoch 152/200\n",
            "8/8 [==============================] - 0s 7ms/step - loss: 0.3976 - accuracy: 0.8365 - val_loss: 0.4162 - val_accuracy: 0.8208\n",
            "Epoch 153/200\n",
            "8/8 [==============================] - 0s 6ms/step - loss: 0.4224 - accuracy: 0.8119 - val_loss: 0.4166 - val_accuracy: 0.8208\n",
            "Epoch 154/200\n",
            "8/8 [==============================] - 0s 7ms/step - loss: 0.4273 - accuracy: 0.8193 - val_loss: 0.4159 - val_accuracy: 0.8208\n",
            "Epoch 155/200\n",
            "8/8 [==============================] - 0s 7ms/step - loss: 0.4140 - accuracy: 0.8289 - val_loss: 0.4158 - val_accuracy: 0.8208\n",
            "Epoch 156/200\n",
            "8/8 [==============================] - 0s 7ms/step - loss: 0.4245 - accuracy: 0.8159 - val_loss: 0.4166 - val_accuracy: 0.8208\n",
            "Epoch 157/200\n",
            "8/8 [==============================] - 0s 6ms/step - loss: 0.4241 - accuracy: 0.8231 - val_loss: 0.4167 - val_accuracy: 0.8208\n",
            "Epoch 158/200\n",
            "8/8 [==============================] - 0s 6ms/step - loss: 0.4375 - accuracy: 0.8131 - val_loss: 0.4163 - val_accuracy: 0.8208\n",
            "Epoch 159/200\n",
            "8/8 [==============================] - 0s 7ms/step - loss: 0.4584 - accuracy: 0.7977 - val_loss: 0.4159 - val_accuracy: 0.8208\n",
            "Epoch 160/200\n",
            "8/8 [==============================] - 0s 7ms/step - loss: 0.4315 - accuracy: 0.8173 - val_loss: 0.4164 - val_accuracy: 0.8208\n",
            "Epoch 161/200\n",
            "8/8 [==============================] - 0s 6ms/step - loss: 0.4131 - accuracy: 0.8234 - val_loss: 0.4157 - val_accuracy: 0.8208\n",
            "Epoch 162/200\n",
            "8/8 [==============================] - 0s 6ms/step - loss: 0.4031 - accuracy: 0.8298 - val_loss: 0.4153 - val_accuracy: 0.8208\n",
            "Epoch 163/200\n",
            "8/8 [==============================] - 0s 7ms/step - loss: 0.4022 - accuracy: 0.8320 - val_loss: 0.4159 - val_accuracy: 0.8208\n",
            "Epoch 164/200\n",
            "8/8 [==============================] - 0s 7ms/step - loss: 0.4047 - accuracy: 0.8273 - val_loss: 0.4167 - val_accuracy: 0.8208\n",
            "Epoch 165/200\n",
            "8/8 [==============================] - 0s 6ms/step - loss: 0.4470 - accuracy: 0.8086 - val_loss: 0.4169 - val_accuracy: 0.8208\n",
            "Epoch 166/200\n",
            "8/8 [==============================] - 0s 6ms/step - loss: 0.4426 - accuracy: 0.8033 - val_loss: 0.4162 - val_accuracy: 0.8208\n",
            "Epoch 167/200\n",
            "8/8 [==============================] - 0s 6ms/step - loss: 0.4108 - accuracy: 0.8267 - val_loss: 0.4158 - val_accuracy: 0.8208\n",
            "Epoch 168/200\n",
            "8/8 [==============================] - 0s 6ms/step - loss: 0.4229 - accuracy: 0.8189 - val_loss: 0.4158 - val_accuracy: 0.8208\n",
            "Epoch 169/200\n",
            "8/8 [==============================] - 0s 7ms/step - loss: 0.4360 - accuracy: 0.8090 - val_loss: 0.4167 - val_accuracy: 0.8208\n",
            "Epoch 170/200\n",
            "8/8 [==============================] - 0s 6ms/step - loss: 0.4104 - accuracy: 0.8299 - val_loss: 0.4155 - val_accuracy: 0.8208\n",
            "Epoch 171/200\n",
            "8/8 [==============================] - 0s 6ms/step - loss: 0.4307 - accuracy: 0.8042 - val_loss: 0.4158 - val_accuracy: 0.8208\n",
            "Epoch 172/200\n",
            "8/8 [==============================] - 0s 6ms/step - loss: 0.4286 - accuracy: 0.8129 - val_loss: 0.4153 - val_accuracy: 0.8208\n",
            "Epoch 173/200\n",
            "8/8 [==============================] - 0s 6ms/step - loss: 0.4187 - accuracy: 0.8212 - val_loss: 0.4168 - val_accuracy: 0.8208\n",
            "Epoch 174/200\n",
            "8/8 [==============================] - 0s 7ms/step - loss: 0.4483 - accuracy: 0.8023 - val_loss: 0.4165 - val_accuracy: 0.8208\n",
            "Epoch 175/200\n",
            "8/8 [==============================] - 0s 6ms/step - loss: 0.4093 - accuracy: 0.8249 - val_loss: 0.4162 - val_accuracy: 0.8208\n",
            "Epoch 176/200\n",
            "8/8 [==============================] - 0s 7ms/step - loss: 0.4053 - accuracy: 0.8286 - val_loss: 0.4159 - val_accuracy: 0.8208\n",
            "Epoch 177/200\n",
            "8/8 [==============================] - 0s 8ms/step - loss: 0.4125 - accuracy: 0.8233 - val_loss: 0.4158 - val_accuracy: 0.8208\n",
            "Epoch 178/200\n",
            "8/8 [==============================] - 0s 7ms/step - loss: 0.4241 - accuracy: 0.8269 - val_loss: 0.4170 - val_accuracy: 0.8208\n",
            "Epoch 179/200\n",
            "8/8 [==============================] - 0s 6ms/step - loss: 0.4030 - accuracy: 0.8233 - val_loss: 0.4172 - val_accuracy: 0.8208\n",
            "Epoch 180/200\n",
            "8/8 [==============================] - 0s 6ms/step - loss: 0.4741 - accuracy: 0.7856 - val_loss: 0.4172 - val_accuracy: 0.8208\n",
            "Epoch 181/200\n",
            "8/8 [==============================] - 0s 7ms/step - loss: 0.4180 - accuracy: 0.8273 - val_loss: 0.4161 - val_accuracy: 0.8208\n",
            "Epoch 182/200\n",
            "8/8 [==============================] - 0s 8ms/step - loss: 0.4198 - accuracy: 0.8140 - val_loss: 0.4161 - val_accuracy: 0.8208\n",
            "Epoch 183/200\n",
            "8/8 [==============================] - 0s 7ms/step - loss: 0.4393 - accuracy: 0.8011 - val_loss: 0.4162 - val_accuracy: 0.8208\n",
            "Epoch 184/200\n",
            "8/8 [==============================] - 0s 6ms/step - loss: 0.4419 - accuracy: 0.8052 - val_loss: 0.4163 - val_accuracy: 0.8208\n",
            "Epoch 185/200\n",
            "8/8 [==============================] - 0s 7ms/step - loss: 0.4123 - accuracy: 0.8251 - val_loss: 0.4161 - val_accuracy: 0.8208\n",
            "Epoch 186/200\n",
            "8/8 [==============================] - 0s 7ms/step - loss: 0.4095 - accuracy: 0.8197 - val_loss: 0.4173 - val_accuracy: 0.8208\n",
            "Epoch 187/200\n",
            "8/8 [==============================] - 0s 7ms/step - loss: 0.3943 - accuracy: 0.8413 - val_loss: 0.4156 - val_accuracy: 0.8208\n",
            "Epoch 188/200\n",
            "8/8 [==============================] - 0s 23ms/step - loss: 0.4283 - accuracy: 0.8143 - val_loss: 0.4175 - val_accuracy: 0.8208\n",
            "Epoch 189/200\n",
            "8/8 [==============================] - 0s 6ms/step - loss: 0.4268 - accuracy: 0.8192 - val_loss: 0.4171 - val_accuracy: 0.8208\n",
            "Epoch 190/200\n",
            "8/8 [==============================] - 0s 6ms/step - loss: 0.4566 - accuracy: 0.8030 - val_loss: 0.4167 - val_accuracy: 0.8208\n",
            "Epoch 191/200\n",
            "8/8 [==============================] - 0s 8ms/step - loss: 0.4290 - accuracy: 0.8122 - val_loss: 0.4167 - val_accuracy: 0.8208\n",
            "Epoch 192/200\n",
            "8/8 [==============================] - 0s 6ms/step - loss: 0.4218 - accuracy: 0.8173 - val_loss: 0.4179 - val_accuracy: 0.8208\n",
            "Epoch 193/200\n",
            "8/8 [==============================] - 0s 7ms/step - loss: 0.4327 - accuracy: 0.8083 - val_loss: 0.4179 - val_accuracy: 0.8208\n",
            "Epoch 194/200\n",
            "8/8 [==============================] - 0s 7ms/step - loss: 0.4444 - accuracy: 0.8078 - val_loss: 0.4159 - val_accuracy: 0.8208\n",
            "Epoch 195/200\n",
            "8/8 [==============================] - 0s 7ms/step - loss: 0.4243 - accuracy: 0.8164 - val_loss: 0.4163 - val_accuracy: 0.8208\n",
            "Epoch 196/200\n",
            "8/8 [==============================] - 0s 7ms/step - loss: 0.4061 - accuracy: 0.8292 - val_loss: 0.4176 - val_accuracy: 0.8208\n",
            "Epoch 197/200\n",
            "8/8 [==============================] - 0s 7ms/step - loss: 0.4142 - accuracy: 0.8263 - val_loss: 0.4180 - val_accuracy: 0.8208\n",
            "Epoch 198/200\n",
            "8/8 [==============================] - 0s 7ms/step - loss: 0.4323 - accuracy: 0.8101 - val_loss: 0.4171 - val_accuracy: 0.8208\n",
            "Epoch 199/200\n",
            "8/8 [==============================] - 0s 6ms/step - loss: 0.4339 - accuracy: 0.8129 - val_loss: 0.4167 - val_accuracy: 0.8208\n",
            "Epoch 200/200\n",
            "8/8 [==============================] - 0s 7ms/step - loss: 0.4199 - accuracy: 0.8098 - val_loss: 0.4166 - val_accuracy: 0.8208\n"
          ],
          "name": "stdout"
        },
        {
          "output_type": "execute_result",
          "data": {
            "text/plain": [
              "<tensorflow.python.keras.callbacks.History at 0x7fe940a981d0>"
            ]
          },
          "metadata": {
            "tags": []
          },
          "execution_count": 19
        }
      ]
    },
    {
      "cell_type": "code",
      "metadata": {
        "id": "m8BpyzL40jTX",
        "colab": {
          "base_uri": "https://localhost:8080/"
        },
        "outputId": "9d2b8075-7873-4d20-c6ab-75fcf07d67a9"
      },
      "source": [
        "pred=model.predict(X_test)\r\n",
        "from sklearn.metrics import classification_report\r\n",
        "\r\n",
        "#predicted_class_indices=np.argmax(pred,axis=-1) \r\n",
        "predicted_class_indices=(pred > 0.5).astype(\"int32\") #binary class identification.\r\n",
        "y_true = y_test\r\n",
        "\r\n",
        "print(classification_report(y_true, \r\n",
        "                            predicted_class_indices))"
      ],
      "execution_count": 20,
      "outputs": [
        {
          "output_type": "stream",
          "text": [
            "              precision    recall  f1-score   support\n",
            "\n",
            "           0       0.61      0.79      0.69        14\n",
            "           1       0.67      0.46      0.55        13\n",
            "\n",
            "    accuracy                           0.63        27\n",
            "   macro avg       0.64      0.62      0.62        27\n",
            "weighted avg       0.64      0.63      0.62        27\n",
            "\n"
          ],
          "name": "stdout"
        }
      ]
    },
    {
      "cell_type": "code",
      "metadata": {
        "id": "AoFGVGWMXucH"
      },
      "source": [
        ""
      ],
      "execution_count": 20,
      "outputs": []
    }
  ]
}