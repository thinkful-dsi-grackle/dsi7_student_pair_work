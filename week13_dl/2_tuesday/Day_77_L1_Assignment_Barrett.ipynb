{
  "nbformat": 4,
  "nbformat_minor": 0,
  "metadata": {
    "kernelspec": {
      "display_name": "Python 3",
      "language": "python",
      "name": "python3"
    },
    "language_info": {
      "codemirror_mode": {
        "name": "ipython",
        "version": 3
      },
      "file_extension": ".py",
      "mimetype": "text/x-python",
      "name": "python",
      "nbconvert_exporter": "python",
      "pygments_lexer": "ipython3",
      "version": "3.7.0"
    },
    "colab": {
      "name": "Day_77_L1_Assignment_Barrett.ipynb",
      "provenance": [],
      "collapsed_sections": []
    }
  },
  "cells": [
    {
      "cell_type": "markdown",
      "metadata": {
        "id": "tEyRSqh_0jS7"
      },
      "source": [
        "## Day 77 Lecture 1 Assignment\n",
        "\n",
        "In this assignment, we will learn about activation functions. We will create a neural network and measure the model's performance using different activations."
      ]
    },
    {
      "cell_type": "code",
      "metadata": {
        "id": "DgLFu1Hs0jS-"
      },
      "source": [
        "import numpy as np\n",
        "import pandas as pd\n",
        "\n",
        "from sklearn.preprocessing import OneHotEncoder\n",
        "from sklearn.model_selection import train_test_split\n",
        "\n",
        "from tensorflow.keras.models import Sequential\n",
        "from tensorflow.keras.layers import Dense"
      ],
      "execution_count": 1,
      "outputs": []
    },
    {
      "cell_type": "markdown",
      "metadata": {
        "id": "BTzJti900jTA"
      },
      "source": [
        "We will import the famous titanic dataset below and produce a neural network that will predict the chance of survival for a passenger."
      ]
    },
    {
      "cell_type": "code",
      "metadata": {
        "id": "CDlLGz270jTB"
      },
      "source": [
        "titanic = pd.read_csv('https://tf-assets-prod.s3.amazonaws.com/tf-curric/data-science/titanic.csv')"
      ],
      "execution_count": 2,
      "outputs": []
    },
    {
      "cell_type": "code",
      "metadata": {
        "id": "z01i6-rV0jTD",
        "colab": {
          "base_uri": "https://localhost:8080/",
          "height": 495
        },
        "outputId": "f80f110e-3036-4151-feea-2ee356220910"
      },
      "source": [
        "titanic.head()"
      ],
      "execution_count": 3,
      "outputs": [
        {
          "output_type": "execute_result",
          "data": {
            "text/html": [
              "<div>\n",
              "<style scoped>\n",
              "    .dataframe tbody tr th:only-of-type {\n",
              "        vertical-align: middle;\n",
              "    }\n",
              "\n",
              "    .dataframe tbody tr th {\n",
              "        vertical-align: top;\n",
              "    }\n",
              "\n",
              "    .dataframe thead th {\n",
              "        text-align: right;\n",
              "    }\n",
              "</style>\n",
              "<table border=\"1\" class=\"dataframe\">\n",
              "  <thead>\n",
              "    <tr style=\"text-align: right;\">\n",
              "      <th></th>\n",
              "      <th>PassengerId</th>\n",
              "      <th>Survived</th>\n",
              "      <th>Pclass</th>\n",
              "      <th>Name</th>\n",
              "      <th>Sex</th>\n",
              "      <th>Age</th>\n",
              "      <th>SibSp</th>\n",
              "      <th>Parch</th>\n",
              "      <th>Ticket</th>\n",
              "      <th>Fare</th>\n",
              "      <th>Cabin</th>\n",
              "      <th>Embarked</th>\n",
              "    </tr>\n",
              "  </thead>\n",
              "  <tbody>\n",
              "    <tr>\n",
              "      <th>0</th>\n",
              "      <td>1</td>\n",
              "      <td>0</td>\n",
              "      <td>3</td>\n",
              "      <td>Braund, Mr. Owen Harris</td>\n",
              "      <td>male</td>\n",
              "      <td>22.0</td>\n",
              "      <td>1</td>\n",
              "      <td>0</td>\n",
              "      <td>A/5 21171</td>\n",
              "      <td>7.2500</td>\n",
              "      <td>NaN</td>\n",
              "      <td>S</td>\n",
              "    </tr>\n",
              "    <tr>\n",
              "      <th>1</th>\n",
              "      <td>2</td>\n",
              "      <td>1</td>\n",
              "      <td>1</td>\n",
              "      <td>Cumings, Mrs. John Bradley (Florence Briggs Th...</td>\n",
              "      <td>female</td>\n",
              "      <td>38.0</td>\n",
              "      <td>1</td>\n",
              "      <td>0</td>\n",
              "      <td>PC 17599</td>\n",
              "      <td>71.2833</td>\n",
              "      <td>C85</td>\n",
              "      <td>C</td>\n",
              "    </tr>\n",
              "    <tr>\n",
              "      <th>2</th>\n",
              "      <td>3</td>\n",
              "      <td>1</td>\n",
              "      <td>3</td>\n",
              "      <td>Heikkinen, Miss. Laina</td>\n",
              "      <td>female</td>\n",
              "      <td>26.0</td>\n",
              "      <td>0</td>\n",
              "      <td>0</td>\n",
              "      <td>STON/O2. 3101282</td>\n",
              "      <td>7.9250</td>\n",
              "      <td>NaN</td>\n",
              "      <td>S</td>\n",
              "    </tr>\n",
              "    <tr>\n",
              "      <th>3</th>\n",
              "      <td>4</td>\n",
              "      <td>1</td>\n",
              "      <td>1</td>\n",
              "      <td>Futrelle, Mrs. Jacques Heath (Lily May Peel)</td>\n",
              "      <td>female</td>\n",
              "      <td>35.0</td>\n",
              "      <td>1</td>\n",
              "      <td>0</td>\n",
              "      <td>113803</td>\n",
              "      <td>53.1000</td>\n",
              "      <td>C123</td>\n",
              "      <td>S</td>\n",
              "    </tr>\n",
              "    <tr>\n",
              "      <th>4</th>\n",
              "      <td>5</td>\n",
              "      <td>0</td>\n",
              "      <td>3</td>\n",
              "      <td>Allen, Mr. William Henry</td>\n",
              "      <td>male</td>\n",
              "      <td>35.0</td>\n",
              "      <td>0</td>\n",
              "      <td>0</td>\n",
              "      <td>373450</td>\n",
              "      <td>8.0500</td>\n",
              "      <td>NaN</td>\n",
              "      <td>S</td>\n",
              "    </tr>\n",
              "  </tbody>\n",
              "</table>\n",
              "</div>"
            ],
            "text/plain": [
              "   PassengerId  Survived  Pclass  ...     Fare Cabin  Embarked\n",
              "0            1         0       3  ...   7.2500   NaN         S\n",
              "1            2         1       1  ...  71.2833   C85         C\n",
              "2            3         1       3  ...   7.9250   NaN         S\n",
              "3            4         1       1  ...  53.1000  C123         S\n",
              "4            5         0       3  ...   8.0500   NaN         S\n",
              "\n",
              "[5 rows x 12 columns]"
            ]
          },
          "metadata": {
            "tags": []
          },
          "execution_count": 3
        }
      ]
    },
    {
      "cell_type": "code",
      "metadata": {
        "colab": {
          "base_uri": "https://localhost:8080/"
        },
        "id": "jRGaT4afDKyo",
        "outputId": "b3a2b3bf-82b9-4274-b403-c353f16f9f63"
      },
      "source": [
        "titanic.info()"
      ],
      "execution_count": 4,
      "outputs": [
        {
          "output_type": "stream",
          "text": [
            "<class 'pandas.core.frame.DataFrame'>\n",
            "RangeIndex: 891 entries, 0 to 890\n",
            "Data columns (total 12 columns):\n",
            " #   Column       Non-Null Count  Dtype  \n",
            "---  ------       --------------  -----  \n",
            " 0   PassengerId  891 non-null    int64  \n",
            " 1   Survived     891 non-null    int64  \n",
            " 2   Pclass       891 non-null    int64  \n",
            " 3   Name         891 non-null    object \n",
            " 4   Sex          891 non-null    object \n",
            " 5   Age          714 non-null    float64\n",
            " 6   SibSp        891 non-null    int64  \n",
            " 7   Parch        891 non-null    int64  \n",
            " 8   Ticket       891 non-null    object \n",
            " 9   Fare         891 non-null    float64\n",
            " 10  Cabin        204 non-null    object \n",
            " 11  Embarked     889 non-null    object \n",
            "dtypes: float64(2), int64(5), object(5)\n",
            "memory usage: 83.7+ KB\n"
          ],
          "name": "stdout"
        }
      ]
    },
    {
      "cell_type": "markdown",
      "metadata": {
        "id": "xyD_6NR00jTG"
      },
      "source": [
        "We'll perform some feature engineering\n",
        "\n",
        "Let's start by keeping only the columns we'd like to use for our analysis. Keep only the columns: Survived, Pclass, Sex, SibSp, Parch, and Embarked"
      ]
    },
    {
      "cell_type": "code",
      "metadata": {
        "id": "Lfp0XlLk0jTG",
        "colab": {
          "base_uri": "https://localhost:8080/"
        },
        "outputId": "807399a7-9c90-4654-a9ab-a80ad3eff7a6"
      },
      "source": [
        "# Answer below:\n",
        "titanic = titanic[['Survived', 'Pclass', 'Sex', 'SibSp', 'Parch', 'Embarked']]\n",
        "titanic.info()"
      ],
      "execution_count": 5,
      "outputs": [
        {
          "output_type": "stream",
          "text": [
            "<class 'pandas.core.frame.DataFrame'>\n",
            "RangeIndex: 891 entries, 0 to 890\n",
            "Data columns (total 6 columns):\n",
            " #   Column    Non-Null Count  Dtype \n",
            "---  ------    --------------  ----- \n",
            " 0   Survived  891 non-null    int64 \n",
            " 1   Pclass    891 non-null    int64 \n",
            " 2   Sex       891 non-null    object\n",
            " 3   SibSp     891 non-null    int64 \n",
            " 4   Parch     891 non-null    int64 \n",
            " 5   Embarked  889 non-null    object\n",
            "dtypes: int64(4), object(2)\n",
            "memory usage: 41.9+ KB\n"
          ],
          "name": "stdout"
        }
      ]
    },
    {
      "cell_type": "markdown",
      "metadata": {
        "id": "uvBUzjzG0jTI"
      },
      "source": [
        "Now examine how many rows contain missing data. Given how much missing data we have, should we remove the column with the most missing data, or remove all rows containing missing data? Do what you think is best."
      ]
    },
    {
      "cell_type": "code",
      "metadata": {
        "id": "PwnHzNjP0jTJ",
        "colab": {
          "base_uri": "https://localhost:8080/"
        },
        "outputId": "c686ca5b-d4be-4caf-d1e1-de5f0e736385"
      },
      "source": [
        "# Answer below: \n",
        "titanic.dropna(inplace=True)\n",
        "titanic.info()"
      ],
      "execution_count": 6,
      "outputs": [
        {
          "output_type": "stream",
          "text": [
            "<class 'pandas.core.frame.DataFrame'>\n",
            "Int64Index: 889 entries, 0 to 890\n",
            "Data columns (total 6 columns):\n",
            " #   Column    Non-Null Count  Dtype \n",
            "---  ------    --------------  ----- \n",
            " 0   Survived  889 non-null    int64 \n",
            " 1   Pclass    889 non-null    int64 \n",
            " 2   Sex       889 non-null    object\n",
            " 3   SibSp     889 non-null    int64 \n",
            " 4   Parch     889 non-null    int64 \n",
            " 5   Embarked  889 non-null    object\n",
            "dtypes: int64(4), object(2)\n",
            "memory usage: 48.6+ KB\n"
          ],
          "name": "stdout"
        }
      ]
    },
    {
      "cell_type": "markdown",
      "metadata": {
        "id": "imTrmBpL0jTK"
      },
      "source": [
        "Now we'll create a one hot encoding of the variables Pclass, sex, and Embarked"
      ]
    },
    {
      "cell_type": "code",
      "metadata": {
        "id": "SD_qCdv60jTL",
        "colab": {
          "base_uri": "https://localhost:8080/",
          "height": 207
        },
        "outputId": "e3449c1c-e596-4d4c-92e8-955cc050cde8"
      },
      "source": [
        "# Answer below:\n",
        "display(titanic['Pclass'].value_counts())\n",
        "display(titanic['Sex'].value_counts())\n",
        "display(titanic['Embarked'].value_counts())"
      ],
      "execution_count": 7,
      "outputs": [
        {
          "output_type": "display_data",
          "data": {
            "text/plain": [
              "3    491\n",
              "1    214\n",
              "2    184\n",
              "Name: Pclass, dtype: int64"
            ]
          },
          "metadata": {
            "tags": []
          }
        },
        {
          "output_type": "display_data",
          "data": {
            "text/plain": [
              "male      577\n",
              "female    312\n",
              "Name: Sex, dtype: int64"
            ]
          },
          "metadata": {
            "tags": []
          }
        },
        {
          "output_type": "display_data",
          "data": {
            "text/plain": [
              "S    644\n",
              "C    168\n",
              "Q     77\n",
              "Name: Embarked, dtype: int64"
            ]
          },
          "metadata": {
            "tags": []
          }
        }
      ]
    },
    {
      "cell_type": "code",
      "metadata": {
        "colab": {
          "base_uri": "https://localhost:8080/",
          "height": 407
        },
        "id": "ck0aK6mIJZZc",
        "outputId": "eaa1e473-08f8-48a9-fc6a-b0878b0586a0"
      },
      "source": [
        "t_dummies = pd.get_dummies(titanic, columns=['Pclass', 'Sex', 'Embarked'],\n",
        "                           drop_first=True)\n",
        "\n",
        "t_dummies"
      ],
      "execution_count": 8,
      "outputs": [
        {
          "output_type": "execute_result",
          "data": {
            "text/html": [
              "<div>\n",
              "<style scoped>\n",
              "    .dataframe tbody tr th:only-of-type {\n",
              "        vertical-align: middle;\n",
              "    }\n",
              "\n",
              "    .dataframe tbody tr th {\n",
              "        vertical-align: top;\n",
              "    }\n",
              "\n",
              "    .dataframe thead th {\n",
              "        text-align: right;\n",
              "    }\n",
              "</style>\n",
              "<table border=\"1\" class=\"dataframe\">\n",
              "  <thead>\n",
              "    <tr style=\"text-align: right;\">\n",
              "      <th></th>\n",
              "      <th>Survived</th>\n",
              "      <th>SibSp</th>\n",
              "      <th>Parch</th>\n",
              "      <th>Pclass_2</th>\n",
              "      <th>Pclass_3</th>\n",
              "      <th>Sex_male</th>\n",
              "      <th>Embarked_Q</th>\n",
              "      <th>Embarked_S</th>\n",
              "    </tr>\n",
              "  </thead>\n",
              "  <tbody>\n",
              "    <tr>\n",
              "      <th>0</th>\n",
              "      <td>0</td>\n",
              "      <td>1</td>\n",
              "      <td>0</td>\n",
              "      <td>0</td>\n",
              "      <td>1</td>\n",
              "      <td>1</td>\n",
              "      <td>0</td>\n",
              "      <td>1</td>\n",
              "    </tr>\n",
              "    <tr>\n",
              "      <th>1</th>\n",
              "      <td>1</td>\n",
              "      <td>1</td>\n",
              "      <td>0</td>\n",
              "      <td>0</td>\n",
              "      <td>0</td>\n",
              "      <td>0</td>\n",
              "      <td>0</td>\n",
              "      <td>0</td>\n",
              "    </tr>\n",
              "    <tr>\n",
              "      <th>2</th>\n",
              "      <td>1</td>\n",
              "      <td>0</td>\n",
              "      <td>0</td>\n",
              "      <td>0</td>\n",
              "      <td>1</td>\n",
              "      <td>0</td>\n",
              "      <td>0</td>\n",
              "      <td>1</td>\n",
              "    </tr>\n",
              "    <tr>\n",
              "      <th>3</th>\n",
              "      <td>1</td>\n",
              "      <td>1</td>\n",
              "      <td>0</td>\n",
              "      <td>0</td>\n",
              "      <td>0</td>\n",
              "      <td>0</td>\n",
              "      <td>0</td>\n",
              "      <td>1</td>\n",
              "    </tr>\n",
              "    <tr>\n",
              "      <th>4</th>\n",
              "      <td>0</td>\n",
              "      <td>0</td>\n",
              "      <td>0</td>\n",
              "      <td>0</td>\n",
              "      <td>1</td>\n",
              "      <td>1</td>\n",
              "      <td>0</td>\n",
              "      <td>1</td>\n",
              "    </tr>\n",
              "    <tr>\n",
              "      <th>...</th>\n",
              "      <td>...</td>\n",
              "      <td>...</td>\n",
              "      <td>...</td>\n",
              "      <td>...</td>\n",
              "      <td>...</td>\n",
              "      <td>...</td>\n",
              "      <td>...</td>\n",
              "      <td>...</td>\n",
              "    </tr>\n",
              "    <tr>\n",
              "      <th>886</th>\n",
              "      <td>0</td>\n",
              "      <td>0</td>\n",
              "      <td>0</td>\n",
              "      <td>1</td>\n",
              "      <td>0</td>\n",
              "      <td>1</td>\n",
              "      <td>0</td>\n",
              "      <td>1</td>\n",
              "    </tr>\n",
              "    <tr>\n",
              "      <th>887</th>\n",
              "      <td>1</td>\n",
              "      <td>0</td>\n",
              "      <td>0</td>\n",
              "      <td>0</td>\n",
              "      <td>0</td>\n",
              "      <td>0</td>\n",
              "      <td>0</td>\n",
              "      <td>1</td>\n",
              "    </tr>\n",
              "    <tr>\n",
              "      <th>888</th>\n",
              "      <td>0</td>\n",
              "      <td>1</td>\n",
              "      <td>2</td>\n",
              "      <td>0</td>\n",
              "      <td>1</td>\n",
              "      <td>0</td>\n",
              "      <td>0</td>\n",
              "      <td>1</td>\n",
              "    </tr>\n",
              "    <tr>\n",
              "      <th>889</th>\n",
              "      <td>1</td>\n",
              "      <td>0</td>\n",
              "      <td>0</td>\n",
              "      <td>0</td>\n",
              "      <td>0</td>\n",
              "      <td>1</td>\n",
              "      <td>0</td>\n",
              "      <td>0</td>\n",
              "    </tr>\n",
              "    <tr>\n",
              "      <th>890</th>\n",
              "      <td>0</td>\n",
              "      <td>0</td>\n",
              "      <td>0</td>\n",
              "      <td>0</td>\n",
              "      <td>1</td>\n",
              "      <td>1</td>\n",
              "      <td>1</td>\n",
              "      <td>0</td>\n",
              "    </tr>\n",
              "  </tbody>\n",
              "</table>\n",
              "<p>889 rows × 8 columns</p>\n",
              "</div>"
            ],
            "text/plain": [
              "     Survived  SibSp  Parch  ...  Sex_male  Embarked_Q  Embarked_S\n",
              "0           0      1      0  ...         1           0           1\n",
              "1           1      1      0  ...         0           0           0\n",
              "2           1      0      0  ...         0           0           1\n",
              "3           1      1      0  ...         0           0           1\n",
              "4           0      0      0  ...         1           0           1\n",
              "..        ...    ...    ...  ...       ...         ...         ...\n",
              "886         0      0      0  ...         1           0           1\n",
              "887         1      0      0  ...         0           0           1\n",
              "888         0      1      2  ...         0           0           1\n",
              "889         1      0      0  ...         1           0           0\n",
              "890         0      0      0  ...         1           1           0\n",
              "\n",
              "[889 rows x 8 columns]"
            ]
          },
          "metadata": {
            "tags": []
          },
          "execution_count": 8
        }
      ]
    },
    {
      "cell_type": "markdown",
      "metadata": {
        "id": "5vv2pncX0jTM"
      },
      "source": [
        "Split the data into train and test. 20% of the data should be set aside for testing. Use Survived as your target variable."
      ]
    },
    {
      "cell_type": "code",
      "metadata": {
        "id": "4DzzK0j-0jTN"
      },
      "source": [
        "# Answer below\n",
        "X = t_dummies.drop('Survived', 1)\n",
        "y = t_dummies['Survived']\n",
        "\n",
        "X_train, X_test, y_train, y_test = train_test_split(X, y, test_size=0.2)"
      ],
      "execution_count": 9,
      "outputs": []
    },
    {
      "cell_type": "markdown",
      "metadata": {
        "id": "H-27Xq4M0jTP"
      },
      "source": [
        "At this point, we are ready to create a model. Import `Sequential` and `Dense` from Keras"
      ]
    },
    {
      "cell_type": "markdown",
      "metadata": {
        "id": "ub0uCwyH0jTR"
      },
      "source": [
        "Create a model with 5 layers. The first layer should be a dense layer that receives the input, the last layer should be of size 1. You determine the remaining layer sizes.\n",
        "\n",
        "Use a tanh activation for the output layer."
      ]
    },
    {
      "cell_type": "code",
      "metadata": {
        "id": "PDcPIuoD0jTP"
      },
      "source": [
        "# Answer below:\n",
        "model = Sequential()\n",
        "\n",
        "model.add(Dense(64, input_dim=X_train.shape[1], activation='relu'))\n",
        "model.add(Dense(64, activation='relu'))\n",
        "model.add(Dense(64, activation='relu'))\n",
        "model.add(Dense(64, activation='relu'))\n",
        "model.add(Dense(1, activation='tanh'))"
      ],
      "execution_count": 10,
      "outputs": []
    },
    {
      "cell_type": "code",
      "metadata": {
        "colab": {
          "base_uri": "https://localhost:8080/"
        },
        "id": "2tnK9hlwSGIR",
        "outputId": "c58ce93d-3de1-457f-c40e-b233752ed143"
      },
      "source": [
        "model.summary()"
      ],
      "execution_count": 11,
      "outputs": [
        {
          "output_type": "stream",
          "text": [
            "Model: \"sequential\"\n",
            "_________________________________________________________________\n",
            "Layer (type)                 Output Shape              Param #   \n",
            "=================================================================\n",
            "dense (Dense)                (None, 64)                512       \n",
            "_________________________________________________________________\n",
            "dense_1 (Dense)              (None, 64)                4160      \n",
            "_________________________________________________________________\n",
            "dense_2 (Dense)              (None, 64)                4160      \n",
            "_________________________________________________________________\n",
            "dense_3 (Dense)              (None, 64)                4160      \n",
            "_________________________________________________________________\n",
            "dense_4 (Dense)              (None, 1)                 65        \n",
            "=================================================================\n",
            "Total params: 13,057\n",
            "Trainable params: 13,057\n",
            "Non-trainable params: 0\n",
            "_________________________________________________________________\n"
          ],
          "name": "stdout"
        }
      ]
    },
    {
      "cell_type": "markdown",
      "metadata": {
        "id": "yh-Ely-K0jTT"
      },
      "source": [
        "Compile the model using the adam optimizer, binary crossentropy loss, and the accuracy metric.\n",
        "\n",
        "Fit the model using a batch size of 80 over 200 epochs."
      ]
    },
    {
      "cell_type": "code",
      "metadata": {
        "id": "lT-9MGP30jTT",
        "colab": {
          "base_uri": "https://localhost:8080/"
        },
        "outputId": "bac006e0-a06e-4e09-e0f0-334e8f6c53ec"
      },
      "source": [
        "# Answer below:\n",
        "model.compile(loss='binary_crossentropy', optimizer='adam', \n",
        "              metrics=['accuracy'])\n",
        "\n",
        "\n",
        "model.fit(X_train, y_train, epochs=200, batch_size=80, \n",
        "          validation_data=(X_test, y_test))"
      ],
      "execution_count": 12,
      "outputs": [
        {
          "output_type": "stream",
          "text": [
            "Epoch 1/200\n",
            "9/9 [==============================] - 1s 64ms/step - loss: 6.2387 - accuracy: 0.5955 - val_loss: 5.7194 - val_accuracy: 0.6292\n",
            "Epoch 2/200\n",
            "9/9 [==============================] - 0s 6ms/step - loss: 5.7653 - accuracy: 0.6262 - val_loss: 5.7194 - val_accuracy: 0.6292\n",
            "Epoch 3/200\n",
            "9/9 [==============================] - 0s 6ms/step - loss: 5.9457 - accuracy: 0.6145 - val_loss: 5.7194 - val_accuracy: 0.6292\n",
            "Epoch 4/200\n",
            "9/9 [==============================] - 0s 7ms/step - loss: 5.8830 - accuracy: 0.6186 - val_loss: 5.7194 - val_accuracy: 0.6292\n",
            "Epoch 5/200\n",
            "9/9 [==============================] - 0s 7ms/step - loss: 5.7163 - accuracy: 0.6294 - val_loss: 5.7194 - val_accuracy: 0.6292\n",
            "Epoch 6/200\n",
            "9/9 [==============================] - 0s 19ms/step - loss: 5.6153 - accuracy: 0.6360 - val_loss: 5.7194 - val_accuracy: 0.6292\n",
            "Epoch 7/200\n",
            "9/9 [==============================] - 0s 9ms/step - loss: 5.9055 - accuracy: 0.6171 - val_loss: 5.7194 - val_accuracy: 0.6292\n",
            "Epoch 8/200\n",
            "9/9 [==============================] - 0s 6ms/step - loss: 5.6366 - accuracy: 0.6346 - val_loss: 5.7194 - val_accuracy: 0.6292\n",
            "Epoch 9/200\n",
            "9/9 [==============================] - 0s 6ms/step - loss: 5.7800 - accuracy: 0.6253 - val_loss: 5.7194 - val_accuracy: 0.6292\n",
            "Epoch 10/200\n",
            "9/9 [==============================] - 0s 6ms/step - loss: 5.6271 - accuracy: 0.6352 - val_loss: 5.7194 - val_accuracy: 0.6292\n",
            "Epoch 11/200\n",
            "9/9 [==============================] - 0s 6ms/step - loss: 6.1449 - accuracy: 0.6016 - val_loss: 5.7194 - val_accuracy: 0.6292\n",
            "Epoch 12/200\n",
            "9/9 [==============================] - 0s 6ms/step - loss: 5.9627 - accuracy: 0.6134 - val_loss: 5.7194 - val_accuracy: 0.6292\n",
            "Epoch 13/200\n",
            "9/9 [==============================] - 0s 7ms/step - loss: 5.8428 - accuracy: 0.6212 - val_loss: 5.7194 - val_accuracy: 0.6292\n",
            "Epoch 14/200\n",
            "9/9 [==============================] - 0s 6ms/step - loss: 5.6680 - accuracy: 0.6325 - val_loss: 5.7194 - val_accuracy: 0.6292\n",
            "Epoch 15/200\n",
            "9/9 [==============================] - 0s 6ms/step - loss: 5.8065 - accuracy: 0.6236 - val_loss: 5.7194 - val_accuracy: 0.6292\n",
            "Epoch 16/200\n",
            "9/9 [==============================] - 0s 6ms/step - loss: 6.2453 - accuracy: 0.5951 - val_loss: 5.7194 - val_accuracy: 0.6292\n",
            "Epoch 17/200\n",
            "9/9 [==============================] - 0s 6ms/step - loss: 5.7360 - accuracy: 0.6281 - val_loss: 5.7194 - val_accuracy: 0.6292\n",
            "Epoch 18/200\n",
            "9/9 [==============================] - 0s 6ms/step - loss: 6.0026 - accuracy: 0.6109 - val_loss: 5.7194 - val_accuracy: 0.6292\n",
            "Epoch 19/200\n",
            "9/9 [==============================] - 0s 6ms/step - loss: 6.1656 - accuracy: 0.6003 - val_loss: 5.7194 - val_accuracy: 0.6292\n",
            "Epoch 20/200\n",
            "9/9 [==============================] - 0s 6ms/step - loss: 5.6887 - accuracy: 0.6312 - val_loss: 5.7194 - val_accuracy: 0.6292\n",
            "Epoch 21/200\n",
            "9/9 [==============================] - 0s 6ms/step - loss: 5.9991 - accuracy: 0.6111 - val_loss: 5.7194 - val_accuracy: 0.6292\n",
            "Epoch 22/200\n",
            "9/9 [==============================] - 0s 7ms/step - loss: 5.7959 - accuracy: 0.6242 - val_loss: 5.7194 - val_accuracy: 0.6292\n",
            "Epoch 23/200\n",
            "9/9 [==============================] - 0s 6ms/step - loss: 6.1917 - accuracy: 0.5986 - val_loss: 5.7194 - val_accuracy: 0.6292\n",
            "Epoch 24/200\n",
            "9/9 [==============================] - 0s 6ms/step - loss: 5.6930 - accuracy: 0.6309 - val_loss: 5.7194 - val_accuracy: 0.6292\n",
            "Epoch 25/200\n",
            "9/9 [==============================] - 0s 6ms/step - loss: 5.7329 - accuracy: 0.6283 - val_loss: 5.7194 - val_accuracy: 0.6292\n",
            "Epoch 26/200\n",
            "9/9 [==============================] - 0s 6ms/step - loss: 5.9218 - accuracy: 0.6161 - val_loss: 5.7194 - val_accuracy: 0.6292\n",
            "Epoch 27/200\n",
            "9/9 [==============================] - 0s 6ms/step - loss: 6.3507 - accuracy: 0.5883 - val_loss: 5.7194 - val_accuracy: 0.6292\n",
            "Epoch 28/200\n",
            "9/9 [==============================] - 0s 7ms/step - loss: 5.8592 - accuracy: 0.6201 - val_loss: 5.7194 - val_accuracy: 0.6292\n",
            "Epoch 29/200\n",
            "9/9 [==============================] - 0s 6ms/step - loss: 5.6592 - accuracy: 0.6331 - val_loss: 5.7194 - val_accuracy: 0.6292\n",
            "Epoch 30/200\n",
            "9/9 [==============================] - 0s 6ms/step - loss: 5.7485 - accuracy: 0.6273 - val_loss: 5.7194 - val_accuracy: 0.6292\n",
            "Epoch 31/200\n",
            "9/9 [==============================] - 0s 6ms/step - loss: 6.1843 - accuracy: 0.5991 - val_loss: 5.7194 - val_accuracy: 0.6292\n",
            "Epoch 32/200\n",
            "9/9 [==============================] - 0s 6ms/step - loss: 5.7926 - accuracy: 0.6245 - val_loss: 5.7194 - val_accuracy: 0.6292\n",
            "Epoch 33/200\n",
            "9/9 [==============================] - 0s 6ms/step - loss: 5.9030 - accuracy: 0.6173 - val_loss: 5.7194 - val_accuracy: 0.6292\n",
            "Epoch 34/200\n",
            "9/9 [==============================] - 0s 6ms/step - loss: 5.9707 - accuracy: 0.6129 - val_loss: 5.7194 - val_accuracy: 0.6292\n",
            "Epoch 35/200\n",
            "9/9 [==============================] - 0s 7ms/step - loss: 6.0177 - accuracy: 0.6099 - val_loss: 5.7194 - val_accuracy: 0.6292\n",
            "Epoch 36/200\n",
            "9/9 [==============================] - 0s 7ms/step - loss: 5.9555 - accuracy: 0.6139 - val_loss: 5.7194 - val_accuracy: 0.6292\n",
            "Epoch 37/200\n",
            "9/9 [==============================] - 0s 6ms/step - loss: 6.1981 - accuracy: 0.5982 - val_loss: 5.7194 - val_accuracy: 0.6292\n",
            "Epoch 38/200\n",
            "9/9 [==============================] - 0s 6ms/step - loss: 5.9401 - accuracy: 0.6149 - val_loss: 5.7194 - val_accuracy: 0.6292\n",
            "Epoch 39/200\n",
            "9/9 [==============================] - 0s 7ms/step - loss: 6.2620 - accuracy: 0.5940 - val_loss: 5.7194 - val_accuracy: 0.6292\n",
            "Epoch 40/200\n",
            "9/9 [==============================] - 0s 7ms/step - loss: 5.9249 - accuracy: 0.6159 - val_loss: 5.7194 - val_accuracy: 0.6292\n",
            "Epoch 41/200\n",
            "9/9 [==============================] - 0s 7ms/step - loss: 6.1679 - accuracy: 0.6001 - val_loss: 5.7194 - val_accuracy: 0.6292\n",
            "Epoch 42/200\n",
            "9/9 [==============================] - 0s 7ms/step - loss: 5.9927 - accuracy: 0.6115 - val_loss: 5.7194 - val_accuracy: 0.6292\n",
            "Epoch 43/200\n",
            "9/9 [==============================] - 0s 6ms/step - loss: 5.8877 - accuracy: 0.6183 - val_loss: 5.7194 - val_accuracy: 0.6292\n",
            "Epoch 44/200\n",
            "9/9 [==============================] - 0s 6ms/step - loss: 5.9171 - accuracy: 0.6164 - val_loss: 5.7194 - val_accuracy: 0.6292\n",
            "Epoch 45/200\n",
            "9/9 [==============================] - 0s 6ms/step - loss: 5.5210 - accuracy: 0.6421 - val_loss: 5.7194 - val_accuracy: 0.6292\n",
            "Epoch 46/200\n",
            "9/9 [==============================] - 0s 6ms/step - loss: 6.0521 - accuracy: 0.6076 - val_loss: 5.7194 - val_accuracy: 0.6292\n",
            "Epoch 47/200\n",
            "9/9 [==============================] - 0s 7ms/step - loss: 6.0429 - accuracy: 0.6082 - val_loss: 5.7194 - val_accuracy: 0.6292\n",
            "Epoch 48/200\n",
            "9/9 [==============================] - 0s 7ms/step - loss: 5.9672 - accuracy: 0.6131 - val_loss: 5.7194 - val_accuracy: 0.6292\n",
            "Epoch 49/200\n",
            "9/9 [==============================] - 0s 7ms/step - loss: 5.9792 - accuracy: 0.6124 - val_loss: 5.7194 - val_accuracy: 0.6292\n",
            "Epoch 50/200\n",
            "9/9 [==============================] - 0s 6ms/step - loss: 6.1589 - accuracy: 0.6007 - val_loss: 5.7194 - val_accuracy: 0.6292\n",
            "Epoch 51/200\n",
            "9/9 [==============================] - 0s 7ms/step - loss: 6.1385 - accuracy: 0.6020 - val_loss: 5.7194 - val_accuracy: 0.6292\n",
            "Epoch 52/200\n",
            "9/9 [==============================] - 0s 6ms/step - loss: 6.2221 - accuracy: 0.5966 - val_loss: 5.7194 - val_accuracy: 0.6292\n",
            "Epoch 53/200\n",
            "9/9 [==============================] - 0s 6ms/step - loss: 5.6889 - accuracy: 0.6312 - val_loss: 5.7194 - val_accuracy: 0.6292\n",
            "Epoch 54/200\n",
            "9/9 [==============================] - 0s 6ms/step - loss: 5.9329 - accuracy: 0.6154 - val_loss: 5.7194 - val_accuracy: 0.6292\n",
            "Epoch 55/200\n",
            "9/9 [==============================] - 0s 6ms/step - loss: 6.4288 - accuracy: 0.5832 - val_loss: 5.7194 - val_accuracy: 0.6292\n",
            "Epoch 56/200\n",
            "9/9 [==============================] - 0s 6ms/step - loss: 6.5471 - accuracy: 0.5755 - val_loss: 5.7194 - val_accuracy: 0.6292\n",
            "Epoch 57/200\n",
            "9/9 [==============================] - 0s 6ms/step - loss: 5.6278 - accuracy: 0.6352 - val_loss: 5.7194 - val_accuracy: 0.6292\n",
            "Epoch 58/200\n",
            "9/9 [==============================] - 0s 6ms/step - loss: 5.8622 - accuracy: 0.6200 - val_loss: 5.7194 - val_accuracy: 0.6292\n",
            "Epoch 59/200\n",
            "9/9 [==============================] - 0s 6ms/step - loss: 6.1011 - accuracy: 0.6045 - val_loss: 5.7194 - val_accuracy: 0.6292\n",
            "Epoch 60/200\n",
            "9/9 [==============================] - 0s 20ms/step - loss: 5.8731 - accuracy: 0.6192 - val_loss: 5.7194 - val_accuracy: 0.6292\n",
            "Epoch 61/200\n",
            "9/9 [==============================] - 0s 6ms/step - loss: 6.0789 - accuracy: 0.6059 - val_loss: 5.7194 - val_accuracy: 0.6292\n",
            "Epoch 62/200\n",
            "9/9 [==============================] - 0s 6ms/step - loss: 6.0456 - accuracy: 0.6081 - val_loss: 5.7194 - val_accuracy: 0.6292\n",
            "Epoch 63/200\n",
            "9/9 [==============================] - 0s 6ms/step - loss: 5.9009 - accuracy: 0.6174 - val_loss: 5.7194 - val_accuracy: 0.6292\n",
            "Epoch 64/200\n",
            "9/9 [==============================] - 0s 7ms/step - loss: 5.9933 - accuracy: 0.6115 - val_loss: 5.7194 - val_accuracy: 0.6292\n",
            "Epoch 65/200\n",
            "9/9 [==============================] - 0s 6ms/step - loss: 5.7148 - accuracy: 0.6295 - val_loss: 5.7194 - val_accuracy: 0.6292\n",
            "Epoch 66/200\n",
            "9/9 [==============================] - 0s 6ms/step - loss: 6.2018 - accuracy: 0.5979 - val_loss: 5.7194 - val_accuracy: 0.6292\n",
            "Epoch 67/200\n",
            "9/9 [==============================] - 0s 6ms/step - loss: 5.8918 - accuracy: 0.6180 - val_loss: 5.7194 - val_accuracy: 0.6292\n",
            "Epoch 68/200\n",
            "9/9 [==============================] - 0s 6ms/step - loss: 6.0690 - accuracy: 0.6065 - val_loss: 5.7194 - val_accuracy: 0.6292\n",
            "Epoch 69/200\n",
            "9/9 [==============================] - 0s 6ms/step - loss: 5.7647 - accuracy: 0.6263 - val_loss: 5.7194 - val_accuracy: 0.6292\n",
            "Epoch 70/200\n",
            "9/9 [==============================] - 0s 6ms/step - loss: 5.7881 - accuracy: 0.6248 - val_loss: 5.7194 - val_accuracy: 0.6292\n",
            "Epoch 71/200\n",
            "9/9 [==============================] - 0s 6ms/step - loss: 5.7349 - accuracy: 0.6282 - val_loss: 5.7194 - val_accuracy: 0.6292\n",
            "Epoch 72/200\n",
            "9/9 [==============================] - 0s 6ms/step - loss: 5.9607 - accuracy: 0.6136 - val_loss: 5.7194 - val_accuracy: 0.6292\n",
            "Epoch 73/200\n",
            "9/9 [==============================] - 0s 7ms/step - loss: 5.7206 - accuracy: 0.6291 - val_loss: 5.7194 - val_accuracy: 0.6292\n",
            "Epoch 74/200\n",
            "9/9 [==============================] - 0s 7ms/step - loss: 6.0204 - accuracy: 0.6097 - val_loss: 5.7194 - val_accuracy: 0.6292\n",
            "Epoch 75/200\n",
            "9/9 [==============================] - 0s 8ms/step - loss: 5.8532 - accuracy: 0.6205 - val_loss: 5.7194 - val_accuracy: 0.6292\n",
            "Epoch 76/200\n",
            "9/9 [==============================] - 0s 7ms/step - loss: 6.1673 - accuracy: 0.6002 - val_loss: 5.7194 - val_accuracy: 0.6292\n",
            "Epoch 77/200\n",
            "9/9 [==============================] - 0s 8ms/step - loss: 6.5646 - accuracy: 0.5744 - val_loss: 5.7194 - val_accuracy: 0.6292\n",
            "Epoch 78/200\n",
            "9/9 [==============================] - 0s 7ms/step - loss: 6.3475 - accuracy: 0.5885 - val_loss: 5.7194 - val_accuracy: 0.6292\n",
            "Epoch 79/200\n",
            "9/9 [==============================] - 0s 7ms/step - loss: 6.1864 - accuracy: 0.5989 - val_loss: 5.7194 - val_accuracy: 0.6292\n",
            "Epoch 80/200\n",
            "9/9 [==============================] - 0s 7ms/step - loss: 6.2422 - accuracy: 0.5953 - val_loss: 5.7194 - val_accuracy: 0.6292\n",
            "Epoch 81/200\n",
            "9/9 [==============================] - 0s 7ms/step - loss: 6.4608 - accuracy: 0.5811 - val_loss: 5.7194 - val_accuracy: 0.6292\n",
            "Epoch 82/200\n",
            "9/9 [==============================] - 0s 6ms/step - loss: 5.9323 - accuracy: 0.6154 - val_loss: 5.7194 - val_accuracy: 0.6292\n",
            "Epoch 83/200\n",
            "9/9 [==============================] - 0s 7ms/step - loss: 5.8015 - accuracy: 0.6239 - val_loss: 5.7194 - val_accuracy: 0.6292\n",
            "Epoch 84/200\n",
            "9/9 [==============================] - 0s 6ms/step - loss: 5.5381 - accuracy: 0.6410 - val_loss: 5.7194 - val_accuracy: 0.6292\n",
            "Epoch 85/200\n",
            "9/9 [==============================] - 0s 7ms/step - loss: 6.0273 - accuracy: 0.6093 - val_loss: 5.7194 - val_accuracy: 0.6292\n",
            "Epoch 86/200\n",
            "9/9 [==============================] - 0s 7ms/step - loss: 6.0542 - accuracy: 0.6075 - val_loss: 5.7194 - val_accuracy: 0.6292\n",
            "Epoch 87/200\n",
            "9/9 [==============================] - 0s 7ms/step - loss: 5.8245 - accuracy: 0.6224 - val_loss: 5.7194 - val_accuracy: 0.6292\n",
            "Epoch 88/200\n",
            "9/9 [==============================] - 0s 6ms/step - loss: 5.8012 - accuracy: 0.6239 - val_loss: 5.7194 - val_accuracy: 0.6292\n",
            "Epoch 89/200\n",
            "9/9 [==============================] - 0s 6ms/step - loss: 5.8573 - accuracy: 0.6203 - val_loss: 5.7194 - val_accuracy: 0.6292\n",
            "Epoch 90/200\n",
            "9/9 [==============================] - 0s 6ms/step - loss: 5.7765 - accuracy: 0.6255 - val_loss: 5.7194 - val_accuracy: 0.6292\n",
            "Epoch 91/200\n",
            "9/9 [==============================] - 0s 7ms/step - loss: 6.0121 - accuracy: 0.6102 - val_loss: 5.7194 - val_accuracy: 0.6292\n",
            "Epoch 92/200\n",
            "9/9 [==============================] - 0s 6ms/step - loss: 6.0437 - accuracy: 0.6082 - val_loss: 5.7194 - val_accuracy: 0.6292\n",
            "Epoch 93/200\n",
            "9/9 [==============================] - 0s 7ms/step - loss: 5.9625 - accuracy: 0.6134 - val_loss: 5.7194 - val_accuracy: 0.6292\n",
            "Epoch 94/200\n",
            "9/9 [==============================] - 0s 7ms/step - loss: 5.9404 - accuracy: 0.6149 - val_loss: 5.7194 - val_accuracy: 0.6292\n",
            "Epoch 95/200\n",
            "9/9 [==============================] - 0s 7ms/step - loss: 5.7518 - accuracy: 0.6271 - val_loss: 5.7194 - val_accuracy: 0.6292\n",
            "Epoch 96/200\n",
            "9/9 [==============================] - 0s 6ms/step - loss: 5.7793 - accuracy: 0.6253 - val_loss: 5.7194 - val_accuracy: 0.6292\n",
            "Epoch 97/200\n",
            "9/9 [==============================] - 0s 6ms/step - loss: 5.9103 - accuracy: 0.6168 - val_loss: 5.7194 - val_accuracy: 0.6292\n",
            "Epoch 98/200\n",
            "9/9 [==============================] - 0s 7ms/step - loss: 6.0222 - accuracy: 0.6096 - val_loss: 5.7194 - val_accuracy: 0.6292\n",
            "Epoch 99/200\n",
            "9/9 [==============================] - 0s 6ms/step - loss: 6.0356 - accuracy: 0.6087 - val_loss: 5.7194 - val_accuracy: 0.6292\n",
            "Epoch 100/200\n",
            "9/9 [==============================] - 0s 6ms/step - loss: 5.6479 - accuracy: 0.6338 - val_loss: 5.7194 - val_accuracy: 0.6292\n",
            "Epoch 101/200\n",
            "9/9 [==============================] - 0s 7ms/step - loss: 6.1413 - accuracy: 0.6019 - val_loss: 5.7194 - val_accuracy: 0.6292\n",
            "Epoch 102/200\n",
            "9/9 [==============================] - 0s 7ms/step - loss: 5.7045 - accuracy: 0.6302 - val_loss: 5.7194 - val_accuracy: 0.6292\n",
            "Epoch 103/200\n",
            "9/9 [==============================] - 0s 6ms/step - loss: 5.7666 - accuracy: 0.6262 - val_loss: 5.7194 - val_accuracy: 0.6292\n",
            "Epoch 104/200\n",
            "9/9 [==============================] - 0s 20ms/step - loss: 6.0120 - accuracy: 0.6102 - val_loss: 5.7194 - val_accuracy: 0.6292\n",
            "Epoch 105/200\n",
            "9/9 [==============================] - 0s 7ms/step - loss: 5.8967 - accuracy: 0.6177 - val_loss: 5.7194 - val_accuracy: 0.6292\n",
            "Epoch 106/200\n",
            "9/9 [==============================] - 0s 6ms/step - loss: 5.9906 - accuracy: 0.6116 - val_loss: 5.7194 - val_accuracy: 0.6292\n",
            "Epoch 107/200\n",
            "9/9 [==============================] - 0s 6ms/step - loss: 6.1706 - accuracy: 0.6000 - val_loss: 5.7194 - val_accuracy: 0.6292\n",
            "Epoch 108/200\n",
            "9/9 [==============================] - 0s 6ms/step - loss: 6.1386 - accuracy: 0.6020 - val_loss: 5.7194 - val_accuracy: 0.6292\n",
            "Epoch 109/200\n",
            "9/9 [==============================] - 0s 6ms/step - loss: 5.9006 - accuracy: 0.6175 - val_loss: 5.7194 - val_accuracy: 0.6292\n",
            "Epoch 110/200\n",
            "9/9 [==============================] - 0s 6ms/step - loss: 6.0242 - accuracy: 0.6094 - val_loss: 5.7194 - val_accuracy: 0.6292\n",
            "Epoch 111/200\n",
            "9/9 [==============================] - 0s 6ms/step - loss: 6.2113 - accuracy: 0.5973 - val_loss: 5.7194 - val_accuracy: 0.6292\n",
            "Epoch 112/200\n",
            "9/9 [==============================] - 0s 7ms/step - loss: 6.0393 - accuracy: 0.6085 - val_loss: 5.7194 - val_accuracy: 0.6292\n",
            "Epoch 113/200\n",
            "9/9 [==============================] - 0s 6ms/step - loss: 5.9761 - accuracy: 0.6126 - val_loss: 5.7194 - val_accuracy: 0.6292\n",
            "Epoch 114/200\n",
            "9/9 [==============================] - 0s 6ms/step - loss: 6.1993 - accuracy: 0.5981 - val_loss: 5.7194 - val_accuracy: 0.6292\n",
            "Epoch 115/200\n",
            "9/9 [==============================] - 0s 6ms/step - loss: 6.1132 - accuracy: 0.6037 - val_loss: 5.7194 - val_accuracy: 0.6292\n",
            "Epoch 116/200\n",
            "9/9 [==============================] - 0s 7ms/step - loss: 5.7635 - accuracy: 0.6264 - val_loss: 5.7194 - val_accuracy: 0.6292\n",
            "Epoch 117/200\n",
            "9/9 [==============================] - 0s 6ms/step - loss: 5.7119 - accuracy: 0.6297 - val_loss: 5.7194 - val_accuracy: 0.6292\n",
            "Epoch 118/200\n",
            "9/9 [==============================] - 0s 6ms/step - loss: 6.0459 - accuracy: 0.6080 - val_loss: 5.7194 - val_accuracy: 0.6292\n",
            "Epoch 119/200\n",
            "9/9 [==============================] - 0s 7ms/step - loss: 5.5676 - accuracy: 0.6391 - val_loss: 5.7194 - val_accuracy: 0.6292\n",
            "Epoch 120/200\n",
            "9/9 [==============================] - 0s 7ms/step - loss: 5.9534 - accuracy: 0.6140 - val_loss: 5.7194 - val_accuracy: 0.6292\n",
            "Epoch 121/200\n",
            "9/9 [==============================] - 0s 6ms/step - loss: 5.9142 - accuracy: 0.6166 - val_loss: 5.7194 - val_accuracy: 0.6292\n",
            "Epoch 122/200\n",
            "9/9 [==============================] - 0s 7ms/step - loss: 5.9294 - accuracy: 0.6156 - val_loss: 5.7194 - val_accuracy: 0.6292\n",
            "Epoch 123/200\n",
            "9/9 [==============================] - 0s 7ms/step - loss: 5.8834 - accuracy: 0.6186 - val_loss: 5.7194 - val_accuracy: 0.6292\n",
            "Epoch 124/200\n",
            "9/9 [==============================] - 0s 7ms/step - loss: 5.6789 - accuracy: 0.6318 - val_loss: 5.7194 - val_accuracy: 0.6292\n",
            "Epoch 125/200\n",
            "9/9 [==============================] - 0s 6ms/step - loss: 5.9172 - accuracy: 0.6164 - val_loss: 5.7194 - val_accuracy: 0.6292\n",
            "Epoch 126/200\n",
            "9/9 [==============================] - 0s 7ms/step - loss: 6.0616 - accuracy: 0.6070 - val_loss: 5.7194 - val_accuracy: 0.6292\n",
            "Epoch 127/200\n",
            "9/9 [==============================] - 0s 7ms/step - loss: 6.3560 - accuracy: 0.5879 - val_loss: 5.7194 - val_accuracy: 0.6292\n",
            "Epoch 128/200\n",
            "9/9 [==============================] - 0s 6ms/step - loss: 6.2930 - accuracy: 0.5920 - val_loss: 5.7194 - val_accuracy: 0.6292\n",
            "Epoch 129/200\n",
            "9/9 [==============================] - 0s 7ms/step - loss: 5.8593 - accuracy: 0.6201 - val_loss: 5.7194 - val_accuracy: 0.6292\n",
            "Epoch 130/200\n",
            "9/9 [==============================] - 0s 7ms/step - loss: 5.8842 - accuracy: 0.6185 - val_loss: 5.7194 - val_accuracy: 0.6292\n",
            "Epoch 131/200\n",
            "9/9 [==============================] - 0s 7ms/step - loss: 5.9202 - accuracy: 0.6162 - val_loss: 5.7194 - val_accuracy: 0.6292\n",
            "Epoch 132/200\n",
            "9/9 [==============================] - 0s 6ms/step - loss: 5.7812 - accuracy: 0.6252 - val_loss: 5.7194 - val_accuracy: 0.6292\n",
            "Epoch 133/200\n",
            "9/9 [==============================] - 0s 8ms/step - loss: 5.8899 - accuracy: 0.6182 - val_loss: 5.7194 - val_accuracy: 0.6292\n",
            "Epoch 134/200\n",
            "9/9 [==============================] - 0s 7ms/step - loss: 6.1448 - accuracy: 0.6016 - val_loss: 5.7194 - val_accuracy: 0.6292\n",
            "Epoch 135/200\n",
            "9/9 [==============================] - 0s 6ms/step - loss: 5.8536 - accuracy: 0.6205 - val_loss: 5.7194 - val_accuracy: 0.6292\n",
            "Epoch 136/200\n",
            "9/9 [==============================] - 0s 6ms/step - loss: 6.2268 - accuracy: 0.5963 - val_loss: 5.7194 - val_accuracy: 0.6292\n",
            "Epoch 137/200\n",
            "9/9 [==============================] - 0s 7ms/step - loss: 5.8703 - accuracy: 0.6194 - val_loss: 5.7194 - val_accuracy: 0.6292\n",
            "Epoch 138/200\n",
            "9/9 [==============================] - 0s 7ms/step - loss: 5.6421 - accuracy: 0.6342 - val_loss: 5.7194 - val_accuracy: 0.6292\n",
            "Epoch 139/200\n",
            "9/9 [==============================] - 0s 7ms/step - loss: 5.9656 - accuracy: 0.6132 - val_loss: 5.7194 - val_accuracy: 0.6292\n",
            "Epoch 140/200\n",
            "9/9 [==============================] - 0s 7ms/step - loss: 5.8023 - accuracy: 0.6238 - val_loss: 5.7194 - val_accuracy: 0.6292\n",
            "Epoch 141/200\n",
            "9/9 [==============================] - 0s 6ms/step - loss: 6.3388 - accuracy: 0.5891 - val_loss: 5.7194 - val_accuracy: 0.6292\n",
            "Epoch 142/200\n",
            "9/9 [==============================] - 0s 7ms/step - loss: 5.7283 - accuracy: 0.6286 - val_loss: 5.7194 - val_accuracy: 0.6292\n",
            "Epoch 143/200\n",
            "9/9 [==============================] - 0s 7ms/step - loss: 6.0158 - accuracy: 0.6100 - val_loss: 5.7194 - val_accuracy: 0.6292\n",
            "Epoch 144/200\n",
            "9/9 [==============================] - 0s 7ms/step - loss: 5.7020 - accuracy: 0.6303 - val_loss: 5.7194 - val_accuracy: 0.6292\n",
            "Epoch 145/200\n",
            "9/9 [==============================] - 0s 7ms/step - loss: 6.0499 - accuracy: 0.6078 - val_loss: 5.7194 - val_accuracy: 0.6292\n",
            "Epoch 146/200\n",
            "9/9 [==============================] - 0s 7ms/step - loss: 5.8662 - accuracy: 0.6197 - val_loss: 5.7194 - val_accuracy: 0.6292\n",
            "Epoch 147/200\n",
            "9/9 [==============================] - 0s 7ms/step - loss: 6.1510 - accuracy: 0.6012 - val_loss: 5.7194 - val_accuracy: 0.6292\n",
            "Epoch 148/200\n",
            "9/9 [==============================] - 0s 7ms/step - loss: 6.0880 - accuracy: 0.6053 - val_loss: 5.7194 - val_accuracy: 0.6292\n",
            "Epoch 149/200\n",
            "9/9 [==============================] - 0s 7ms/step - loss: 5.9740 - accuracy: 0.6127 - val_loss: 5.7194 - val_accuracy: 0.6292\n",
            "Epoch 150/200\n",
            "9/9 [==============================] - 0s 6ms/step - loss: 5.7870 - accuracy: 0.6248 - val_loss: 5.7194 - val_accuracy: 0.6292\n",
            "Epoch 151/200\n",
            "9/9 [==============================] - 0s 6ms/step - loss: 5.8385 - accuracy: 0.6215 - val_loss: 5.7194 - val_accuracy: 0.6292\n",
            "Epoch 152/200\n",
            "9/9 [==============================] - 0s 7ms/step - loss: 5.8432 - accuracy: 0.6212 - val_loss: 5.7194 - val_accuracy: 0.6292\n",
            "Epoch 153/200\n",
            "9/9 [==============================] - 0s 6ms/step - loss: 6.0414 - accuracy: 0.6083 - val_loss: 5.7194 - val_accuracy: 0.6292\n",
            "Epoch 154/200\n",
            "9/9 [==============================] - 0s 7ms/step - loss: 5.6211 - accuracy: 0.6356 - val_loss: 5.7194 - val_accuracy: 0.6292\n",
            "Epoch 155/200\n",
            "9/9 [==============================] - 0s 7ms/step - loss: 6.1726 - accuracy: 0.5998 - val_loss: 5.7194 - val_accuracy: 0.6292\n",
            "Epoch 156/200\n",
            "9/9 [==============================] - 0s 7ms/step - loss: 6.0871 - accuracy: 0.6054 - val_loss: 5.7194 - val_accuracy: 0.6292\n",
            "Epoch 157/200\n",
            "9/9 [==============================] - 0s 6ms/step - loss: 5.8548 - accuracy: 0.6204 - val_loss: 5.7194 - val_accuracy: 0.6292\n",
            "Epoch 158/200\n",
            "9/9 [==============================] - 0s 19ms/step - loss: 5.9581 - accuracy: 0.6137 - val_loss: 5.7194 - val_accuracy: 0.6292\n",
            "Epoch 159/200\n",
            "9/9 [==============================] - 0s 7ms/step - loss: 5.9653 - accuracy: 0.6133 - val_loss: 5.7194 - val_accuracy: 0.6292\n",
            "Epoch 160/200\n",
            "9/9 [==============================] - 0s 7ms/step - loss: 6.3424 - accuracy: 0.5888 - val_loss: 5.7194 - val_accuracy: 0.6292\n",
            "Epoch 161/200\n",
            "9/9 [==============================] - 0s 7ms/step - loss: 5.8777 - accuracy: 0.6190 - val_loss: 5.7194 - val_accuracy: 0.6292\n",
            "Epoch 162/200\n",
            "9/9 [==============================] - 0s 7ms/step - loss: 5.9144 - accuracy: 0.6166 - val_loss: 5.7194 - val_accuracy: 0.6292\n",
            "Epoch 163/200\n",
            "9/9 [==============================] - 0s 6ms/step - loss: 5.8997 - accuracy: 0.6175 - val_loss: 5.7194 - val_accuracy: 0.6292\n",
            "Epoch 164/200\n",
            "9/9 [==============================] - 0s 7ms/step - loss: 6.2262 - accuracy: 0.5964 - val_loss: 5.7194 - val_accuracy: 0.6292\n",
            "Epoch 165/200\n",
            "9/9 [==============================] - 0s 6ms/step - loss: 5.8818 - accuracy: 0.6187 - val_loss: 5.7194 - val_accuracy: 0.6292\n",
            "Epoch 166/200\n",
            "9/9 [==============================] - 0s 6ms/step - loss: 6.1172 - accuracy: 0.6034 - val_loss: 5.7194 - val_accuracy: 0.6292\n",
            "Epoch 167/200\n",
            "9/9 [==============================] - 0s 6ms/step - loss: 5.8538 - accuracy: 0.6205 - val_loss: 5.7194 - val_accuracy: 0.6292\n",
            "Epoch 168/200\n",
            "9/9 [==============================] - 0s 7ms/step - loss: 5.9478 - accuracy: 0.6144 - val_loss: 5.7194 - val_accuracy: 0.6292\n",
            "Epoch 169/200\n",
            "9/9 [==============================] - 0s 7ms/step - loss: 6.0455 - accuracy: 0.6081 - val_loss: 5.7194 - val_accuracy: 0.6292\n",
            "Epoch 170/200\n",
            "9/9 [==============================] - 0s 7ms/step - loss: 5.8148 - accuracy: 0.6230 - val_loss: 5.7194 - val_accuracy: 0.6292\n",
            "Epoch 171/200\n",
            "9/9 [==============================] - 0s 7ms/step - loss: 5.9834 - accuracy: 0.6121 - val_loss: 5.7194 - val_accuracy: 0.6292\n",
            "Epoch 172/200\n",
            "9/9 [==============================] - 0s 6ms/step - loss: 5.5891 - accuracy: 0.6377 - val_loss: 5.7194 - val_accuracy: 0.6292\n",
            "Epoch 173/200\n",
            "9/9 [==============================] - 0s 7ms/step - loss: 6.1602 - accuracy: 0.6006 - val_loss: 5.7194 - val_accuracy: 0.6292\n",
            "Epoch 174/200\n",
            "9/9 [==============================] - 0s 7ms/step - loss: 5.9156 - accuracy: 0.6165 - val_loss: 5.7194 - val_accuracy: 0.6292\n",
            "Epoch 175/200\n",
            "9/9 [==============================] - 0s 7ms/step - loss: 5.8449 - accuracy: 0.6211 - val_loss: 5.7194 - val_accuracy: 0.6292\n",
            "Epoch 176/200\n",
            "9/9 [==============================] - 0s 6ms/step - loss: 5.7040 - accuracy: 0.6302 - val_loss: 5.7194 - val_accuracy: 0.6292\n",
            "Epoch 177/200\n",
            "9/9 [==============================] - 0s 8ms/step - loss: 5.9010 - accuracy: 0.6174 - val_loss: 5.7194 - val_accuracy: 0.6292\n",
            "Epoch 178/200\n",
            "9/9 [==============================] - 0s 7ms/step - loss: 6.4594 - accuracy: 0.5812 - val_loss: 5.7194 - val_accuracy: 0.6292\n",
            "Epoch 179/200\n",
            "9/9 [==============================] - 0s 6ms/step - loss: 6.0930 - accuracy: 0.6050 - val_loss: 5.7194 - val_accuracy: 0.6292\n",
            "Epoch 180/200\n",
            "9/9 [==============================] - 0s 6ms/step - loss: 5.9635 - accuracy: 0.6134 - val_loss: 5.7194 - val_accuracy: 0.6292\n",
            "Epoch 181/200\n",
            "9/9 [==============================] - 0s 7ms/step - loss: 5.8317 - accuracy: 0.6219 - val_loss: 5.7194 - val_accuracy: 0.6292\n",
            "Epoch 182/200\n",
            "9/9 [==============================] - 0s 7ms/step - loss: 6.2591 - accuracy: 0.5942 - val_loss: 5.7194 - val_accuracy: 0.6292\n",
            "Epoch 183/200\n",
            "9/9 [==============================] - 0s 7ms/step - loss: 6.1757 - accuracy: 0.5996 - val_loss: 5.7194 - val_accuracy: 0.6292\n",
            "Epoch 184/200\n",
            "9/9 [==============================] - 0s 7ms/step - loss: 5.6894 - accuracy: 0.6312 - val_loss: 5.7194 - val_accuracy: 0.6292\n",
            "Epoch 185/200\n",
            "9/9 [==============================] - 0s 6ms/step - loss: 5.7343 - accuracy: 0.6282 - val_loss: 5.7194 - val_accuracy: 0.6292\n",
            "Epoch 186/200\n",
            "9/9 [==============================] - 0s 7ms/step - loss: 6.0923 - accuracy: 0.6050 - val_loss: 5.7194 - val_accuracy: 0.6292\n",
            "Epoch 187/200\n",
            "9/9 [==============================] - 0s 6ms/step - loss: 6.0574 - accuracy: 0.6073 - val_loss: 5.7194 - val_accuracy: 0.6292\n",
            "Epoch 188/200\n",
            "9/9 [==============================] - 0s 6ms/step - loss: 5.6946 - accuracy: 0.6308 - val_loss: 5.7194 - val_accuracy: 0.6292\n",
            "Epoch 189/200\n",
            "9/9 [==============================] - 0s 8ms/step - loss: 5.8351 - accuracy: 0.6217 - val_loss: 5.7194 - val_accuracy: 0.6292\n",
            "Epoch 190/200\n",
            "9/9 [==============================] - 0s 7ms/step - loss: 6.0502 - accuracy: 0.6078 - val_loss: 5.7194 - val_accuracy: 0.6292\n",
            "Epoch 191/200\n",
            "9/9 [==============================] - 0s 6ms/step - loss: 6.1784 - accuracy: 0.5995 - val_loss: 5.7194 - val_accuracy: 0.6292\n",
            "Epoch 192/200\n",
            "9/9 [==============================] - 0s 7ms/step - loss: 5.9195 - accuracy: 0.6162 - val_loss: 5.7194 - val_accuracy: 0.6292\n",
            "Epoch 193/200\n",
            "9/9 [==============================] - 0s 8ms/step - loss: 5.7837 - accuracy: 0.6250 - val_loss: 5.7194 - val_accuracy: 0.6292\n",
            "Epoch 194/200\n",
            "9/9 [==============================] - 0s 7ms/step - loss: 5.9288 - accuracy: 0.6156 - val_loss: 5.7194 - val_accuracy: 0.6292\n",
            "Epoch 195/200\n",
            "9/9 [==============================] - 0s 6ms/step - loss: 6.1592 - accuracy: 0.6007 - val_loss: 5.7194 - val_accuracy: 0.6292\n",
            "Epoch 196/200\n",
            "9/9 [==============================] - 0s 6ms/step - loss: 5.7977 - accuracy: 0.6241 - val_loss: 5.7194 - val_accuracy: 0.6292\n",
            "Epoch 197/200\n",
            "9/9 [==============================] - 0s 7ms/step - loss: 6.3576 - accuracy: 0.5878 - val_loss: 5.7194 - val_accuracy: 0.6292\n",
            "Epoch 198/200\n",
            "9/9 [==============================] - 0s 6ms/step - loss: 6.2528 - accuracy: 0.5946 - val_loss: 5.7194 - val_accuracy: 0.6292\n",
            "Epoch 199/200\n",
            "9/9 [==============================] - 0s 6ms/step - loss: 5.8394 - accuracy: 0.6214 - val_loss: 5.7194 - val_accuracy: 0.6292\n",
            "Epoch 200/200\n",
            "9/9 [==============================] - 0s 6ms/step - loss: 6.0150 - accuracy: 0.6100 - val_loss: 5.7194 - val_accuracy: 0.6292\n"
          ],
          "name": "stdout"
        },
        {
          "output_type": "execute_result",
          "data": {
            "text/plain": [
              "<tensorflow.python.keras.callbacks.History at 0x7fe7ed012898>"
            ]
          },
          "metadata": {
            "tags": []
          },
          "execution_count": 12
        }
      ]
    },
    {
      "cell_type": "code",
      "metadata": {
        "colab": {
          "base_uri": "https://localhost:8080/"
        },
        "id": "a7gVsmc6S2mG",
        "outputId": "509419c0-b39e-4ac4-b09e-84f3624cc7c6"
      },
      "source": [
        "score = model.evaluate(X_test, y_test)\n",
        "print(f'Test loss: {score[0]}\\n Test accuracy: {score[1]}')"
      ],
      "execution_count": 13,
      "outputs": [
        {
          "output_type": "stream",
          "text": [
            "6/6 [==============================] - 0s 1ms/step - loss: 5.7194 - accuracy: 0.6292\n",
            "Test loss: 5.719362735748291\n",
            " Test accuracy: 0.6292135119438171\n"
          ],
          "name": "stdout"
        }
      ]
    },
    {
      "cell_type": "markdown",
      "metadata": {
        "id": "zsDsEJ0b0jTV"
      },
      "source": [
        "Redefine the model using a sigmoid activation for the last layer. What is the difference in accuracy."
      ]
    },
    {
      "cell_type": "code",
      "metadata": {
        "id": "RsbGU_gM0jTV",
        "colab": {
          "base_uri": "https://localhost:8080/"
        },
        "outputId": "a12d01a1-34a2-4c17-f87c-47f7d6f27d18"
      },
      "source": [
        "# Answer below\n",
        "model = Sequential()\n",
        "\n",
        "model.add(Dense(64, input_dim=X_train.shape[1], activation='relu'))\n",
        "model.add(Dense(64, activation='relu'))\n",
        "model.add(Dense(64, activation='relu'))\n",
        "model.add(Dense(64, activation='relu'))\n",
        "model.add(Dense(1, activation='sigmoid'))\n",
        "\n",
        "model.compile(loss='binary_crossentropy', optimizer='adam', \n",
        "              metrics=['accuracy'])\n",
        "\n",
        "\n",
        "model.fit(X_train, y_train, epochs=200, batch_size=80, \n",
        "          validation_data=(X_test, y_test))"
      ],
      "execution_count": 14,
      "outputs": [
        {
          "output_type": "stream",
          "text": [
            "Epoch 1/200\n",
            "9/9 [==============================] - 1s 25ms/step - loss: 0.6936 - accuracy: 0.5334 - val_loss: 0.6658 - val_accuracy: 0.6404\n",
            "Epoch 2/200\n",
            "9/9 [==============================] - 0s 6ms/step - loss: 0.6577 - accuracy: 0.6075 - val_loss: 0.6289 - val_accuracy: 0.6292\n",
            "Epoch 3/200\n",
            "9/9 [==============================] - 0s 6ms/step - loss: 0.6161 - accuracy: 0.6287 - val_loss: 0.5880 - val_accuracy: 0.6461\n",
            "Epoch 4/200\n",
            "9/9 [==============================] - 0s 6ms/step - loss: 0.5768 - accuracy: 0.6939 - val_loss: 0.5455 - val_accuracy: 0.7697\n",
            "Epoch 5/200\n",
            "9/9 [==============================] - 0s 6ms/step - loss: 0.5366 - accuracy: 0.7917 - val_loss: 0.5128 - val_accuracy: 0.7640\n",
            "Epoch 6/200\n",
            "9/9 [==============================] - 0s 6ms/step - loss: 0.5154 - accuracy: 0.7710 - val_loss: 0.4869 - val_accuracy: 0.7640\n",
            "Epoch 7/200\n",
            "9/9 [==============================] - 0s 6ms/step - loss: 0.4531 - accuracy: 0.8082 - val_loss: 0.4864 - val_accuracy: 0.7978\n",
            "Epoch 8/200\n",
            "9/9 [==============================] - 0s 6ms/step - loss: 0.4350 - accuracy: 0.8070 - val_loss: 0.4685 - val_accuracy: 0.8034\n",
            "Epoch 9/200\n",
            "9/9 [==============================] - 0s 6ms/step - loss: 0.4370 - accuracy: 0.7985 - val_loss: 0.4685 - val_accuracy: 0.7921\n",
            "Epoch 10/200\n",
            "9/9 [==============================] - 0s 6ms/step - loss: 0.3914 - accuracy: 0.8266 - val_loss: 0.4713 - val_accuracy: 0.7921\n",
            "Epoch 11/200\n",
            "9/9 [==============================] - 0s 6ms/step - loss: 0.3993 - accuracy: 0.8254 - val_loss: 0.4653 - val_accuracy: 0.7865\n",
            "Epoch 12/200\n",
            "9/9 [==============================] - 0s 8ms/step - loss: 0.3896 - accuracy: 0.8353 - val_loss: 0.4786 - val_accuracy: 0.7753\n",
            "Epoch 13/200\n",
            "9/9 [==============================] - 0s 6ms/step - loss: 0.3923 - accuracy: 0.8250 - val_loss: 0.4634 - val_accuracy: 0.7865\n",
            "Epoch 14/200\n",
            "9/9 [==============================] - 0s 6ms/step - loss: 0.4093 - accuracy: 0.8168 - val_loss: 0.4651 - val_accuracy: 0.7865\n",
            "Epoch 15/200\n",
            "9/9 [==============================] - 0s 6ms/step - loss: 0.3608 - accuracy: 0.8478 - val_loss: 0.4638 - val_accuracy: 0.7809\n",
            "Epoch 16/200\n",
            "9/9 [==============================] - 0s 7ms/step - loss: 0.4187 - accuracy: 0.8107 - val_loss: 0.4608 - val_accuracy: 0.7809\n",
            "Epoch 17/200\n",
            "9/9 [==============================] - 0s 6ms/step - loss: 0.4016 - accuracy: 0.8221 - val_loss: 0.4710 - val_accuracy: 0.7809\n",
            "Epoch 18/200\n",
            "9/9 [==============================] - 0s 6ms/step - loss: 0.3833 - accuracy: 0.8459 - val_loss: 0.4610 - val_accuracy: 0.7809\n",
            "Epoch 19/200\n",
            "9/9 [==============================] - 0s 6ms/step - loss: 0.4009 - accuracy: 0.8180 - val_loss: 0.4676 - val_accuracy: 0.7753\n",
            "Epoch 20/200\n",
            "9/9 [==============================] - 0s 6ms/step - loss: 0.4258 - accuracy: 0.7935 - val_loss: 0.4619 - val_accuracy: 0.7809\n",
            "Epoch 21/200\n",
            "9/9 [==============================] - 0s 6ms/step - loss: 0.3899 - accuracy: 0.8284 - val_loss: 0.4693 - val_accuracy: 0.7865\n",
            "Epoch 22/200\n",
            "9/9 [==============================] - 0s 6ms/step - loss: 0.4007 - accuracy: 0.8211 - val_loss: 0.4639 - val_accuracy: 0.7809\n",
            "Epoch 23/200\n",
            "9/9 [==============================] - 0s 6ms/step - loss: 0.3899 - accuracy: 0.8280 - val_loss: 0.4636 - val_accuracy: 0.7809\n",
            "Epoch 24/200\n",
            "9/9 [==============================] - 0s 7ms/step - loss: 0.4214 - accuracy: 0.8095 - val_loss: 0.4668 - val_accuracy: 0.7640\n",
            "Epoch 25/200\n",
            "9/9 [==============================] - 0s 7ms/step - loss: 0.3790 - accuracy: 0.8356 - val_loss: 0.4682 - val_accuracy: 0.7753\n",
            "Epoch 26/200\n",
            "9/9 [==============================] - 0s 6ms/step - loss: 0.3823 - accuracy: 0.8323 - val_loss: 0.4788 - val_accuracy: 0.7809\n",
            "Epoch 27/200\n",
            "9/9 [==============================] - 0s 6ms/step - loss: 0.4187 - accuracy: 0.8247 - val_loss: 0.4662 - val_accuracy: 0.7809\n",
            "Epoch 28/200\n",
            "9/9 [==============================] - 0s 7ms/step - loss: 0.3894 - accuracy: 0.8282 - val_loss: 0.4778 - val_accuracy: 0.7753\n",
            "Epoch 29/200\n",
            "9/9 [==============================] - 0s 8ms/step - loss: 0.4093 - accuracy: 0.8111 - val_loss: 0.4635 - val_accuracy: 0.7809\n",
            "Epoch 30/200\n",
            "9/9 [==============================] - 0s 6ms/step - loss: 0.3951 - accuracy: 0.8147 - val_loss: 0.4823 - val_accuracy: 0.7753\n",
            "Epoch 31/200\n",
            "9/9 [==============================] - 0s 6ms/step - loss: 0.3735 - accuracy: 0.8406 - val_loss: 0.4785 - val_accuracy: 0.7753\n",
            "Epoch 32/200\n",
            "9/9 [==============================] - 0s 6ms/step - loss: 0.3783 - accuracy: 0.8366 - val_loss: 0.4744 - val_accuracy: 0.7584\n",
            "Epoch 33/200\n",
            "9/9 [==============================] - 0s 6ms/step - loss: 0.3949 - accuracy: 0.8270 - val_loss: 0.4807 - val_accuracy: 0.7753\n",
            "Epoch 34/200\n",
            "9/9 [==============================] - 0s 6ms/step - loss: 0.3817 - accuracy: 0.8274 - val_loss: 0.4735 - val_accuracy: 0.7640\n",
            "Epoch 35/200\n",
            "9/9 [==============================] - 0s 6ms/step - loss: 0.3706 - accuracy: 0.8427 - val_loss: 0.4800 - val_accuracy: 0.7584\n",
            "Epoch 36/200\n",
            "9/9 [==============================] - 0s 6ms/step - loss: 0.3794 - accuracy: 0.8344 - val_loss: 0.4803 - val_accuracy: 0.7584\n",
            "Epoch 37/200\n",
            "9/9 [==============================] - 0s 6ms/step - loss: 0.4022 - accuracy: 0.8213 - val_loss: 0.4908 - val_accuracy: 0.7528\n",
            "Epoch 38/200\n",
            "9/9 [==============================] - 0s 6ms/step - loss: 0.4138 - accuracy: 0.8104 - val_loss: 0.4772 - val_accuracy: 0.7809\n",
            "Epoch 39/200\n",
            "9/9 [==============================] - 0s 6ms/step - loss: 0.3366 - accuracy: 0.8641 - val_loss: 0.5004 - val_accuracy: 0.7640\n",
            "Epoch 40/200\n",
            "9/9 [==============================] - 0s 8ms/step - loss: 0.4082 - accuracy: 0.8214 - val_loss: 0.4803 - val_accuracy: 0.7584\n",
            "Epoch 41/200\n",
            "9/9 [==============================] - 0s 6ms/step - loss: 0.3929 - accuracy: 0.8297 - val_loss: 0.4790 - val_accuracy: 0.7584\n",
            "Epoch 42/200\n",
            "9/9 [==============================] - 0s 19ms/step - loss: 0.3962 - accuracy: 0.8121 - val_loss: 0.4951 - val_accuracy: 0.7753\n",
            "Epoch 43/200\n",
            "9/9 [==============================] - 0s 6ms/step - loss: 0.4031 - accuracy: 0.8287 - val_loss: 0.4742 - val_accuracy: 0.7809\n",
            "Epoch 44/200\n",
            "9/9 [==============================] - 0s 6ms/step - loss: 0.4049 - accuracy: 0.8213 - val_loss: 0.4966 - val_accuracy: 0.7528\n",
            "Epoch 45/200\n",
            "9/9 [==============================] - 0s 7ms/step - loss: 0.3769 - accuracy: 0.8468 - val_loss: 0.4931 - val_accuracy: 0.7640\n",
            "Epoch 46/200\n",
            "9/9 [==============================] - 0s 6ms/step - loss: 0.3717 - accuracy: 0.8482 - val_loss: 0.4994 - val_accuracy: 0.7640\n",
            "Epoch 47/200\n",
            "9/9 [==============================] - 0s 6ms/step - loss: 0.3578 - accuracy: 0.8547 - val_loss: 0.4887 - val_accuracy: 0.7640\n",
            "Epoch 48/200\n",
            "9/9 [==============================] - 0s 6ms/step - loss: 0.4139 - accuracy: 0.8121 - val_loss: 0.4857 - val_accuracy: 0.7640\n",
            "Epoch 49/200\n",
            "9/9 [==============================] - 0s 6ms/step - loss: 0.3878 - accuracy: 0.8272 - val_loss: 0.4958 - val_accuracy: 0.7753\n",
            "Epoch 50/200\n",
            "9/9 [==============================] - 0s 6ms/step - loss: 0.3985 - accuracy: 0.8332 - val_loss: 0.5098 - val_accuracy: 0.7697\n",
            "Epoch 51/200\n",
            "9/9 [==============================] - 0s 7ms/step - loss: 0.4012 - accuracy: 0.8170 - val_loss: 0.4959 - val_accuracy: 0.7809\n",
            "Epoch 52/200\n",
            "9/9 [==============================] - 0s 6ms/step - loss: 0.3908 - accuracy: 0.8341 - val_loss: 0.5008 - val_accuracy: 0.7584\n",
            "Epoch 53/200\n",
            "9/9 [==============================] - 0s 6ms/step - loss: 0.3805 - accuracy: 0.8340 - val_loss: 0.5017 - val_accuracy: 0.7640\n",
            "Epoch 54/200\n",
            "9/9 [==============================] - 0s 6ms/step - loss: 0.3950 - accuracy: 0.8247 - val_loss: 0.5082 - val_accuracy: 0.7640\n",
            "Epoch 55/200\n",
            "9/9 [==============================] - 0s 6ms/step - loss: 0.3643 - accuracy: 0.8330 - val_loss: 0.5081 - val_accuracy: 0.7753\n",
            "Epoch 56/200\n",
            "9/9 [==============================] - 0s 6ms/step - loss: 0.3919 - accuracy: 0.8280 - val_loss: 0.5042 - val_accuracy: 0.7584\n",
            "Epoch 57/200\n",
            "9/9 [==============================] - 0s 6ms/step - loss: 0.3631 - accuracy: 0.8386 - val_loss: 0.5065 - val_accuracy: 0.7809\n",
            "Epoch 58/200\n",
            "9/9 [==============================] - 0s 7ms/step - loss: 0.3739 - accuracy: 0.8381 - val_loss: 0.5053 - val_accuracy: 0.7640\n",
            "Epoch 59/200\n",
            "9/9 [==============================] - 0s 6ms/step - loss: 0.3566 - accuracy: 0.8407 - val_loss: 0.5288 - val_accuracy: 0.7640\n",
            "Epoch 60/200\n",
            "9/9 [==============================] - 0s 6ms/step - loss: 0.4002 - accuracy: 0.8357 - val_loss: 0.4944 - val_accuracy: 0.7809\n",
            "Epoch 61/200\n",
            "9/9 [==============================] - 0s 6ms/step - loss: 0.4059 - accuracy: 0.8072 - val_loss: 0.5301 - val_accuracy: 0.7584\n",
            "Epoch 62/200\n",
            "9/9 [==============================] - 0s 6ms/step - loss: 0.3604 - accuracy: 0.8420 - val_loss: 0.5020 - val_accuracy: 0.7809\n",
            "Epoch 63/200\n",
            "9/9 [==============================] - 0s 7ms/step - loss: 0.3859 - accuracy: 0.8281 - val_loss: 0.5184 - val_accuracy: 0.7697\n",
            "Epoch 64/200\n",
            "9/9 [==============================] - 0s 6ms/step - loss: 0.3783 - accuracy: 0.8255 - val_loss: 0.5093 - val_accuracy: 0.7640\n",
            "Epoch 65/200\n",
            "9/9 [==============================] - 0s 7ms/step - loss: 0.3875 - accuracy: 0.8248 - val_loss: 0.5253 - val_accuracy: 0.7584\n",
            "Epoch 66/200\n",
            "9/9 [==============================] - 0s 6ms/step - loss: 0.3678 - accuracy: 0.8372 - val_loss: 0.5100 - val_accuracy: 0.7865\n",
            "Epoch 67/200\n",
            "9/9 [==============================] - 0s 6ms/step - loss: 0.3803 - accuracy: 0.8300 - val_loss: 0.5262 - val_accuracy: 0.7472\n",
            "Epoch 68/200\n",
            "9/9 [==============================] - 0s 6ms/step - loss: 0.3699 - accuracy: 0.8429 - val_loss: 0.5149 - val_accuracy: 0.7809\n",
            "Epoch 69/200\n",
            "9/9 [==============================] - 0s 6ms/step - loss: 0.3414 - accuracy: 0.8558 - val_loss: 0.5533 - val_accuracy: 0.7528\n",
            "Epoch 70/200\n",
            "9/9 [==============================] - 0s 7ms/step - loss: 0.3756 - accuracy: 0.8335 - val_loss: 0.5086 - val_accuracy: 0.7865\n",
            "Epoch 71/200\n",
            "9/9 [==============================] - 0s 6ms/step - loss: 0.4016 - accuracy: 0.8107 - val_loss: 0.5288 - val_accuracy: 0.7472\n",
            "Epoch 72/200\n",
            "9/9 [==============================] - 0s 6ms/step - loss: 0.3759 - accuracy: 0.8279 - val_loss: 0.5338 - val_accuracy: 0.7528\n",
            "Epoch 73/200\n",
            "9/9 [==============================] - 0s 6ms/step - loss: 0.3831 - accuracy: 0.8274 - val_loss: 0.5105 - val_accuracy: 0.7809\n",
            "Epoch 74/200\n",
            "9/9 [==============================] - 0s 7ms/step - loss: 0.3930 - accuracy: 0.8286 - val_loss: 0.5393 - val_accuracy: 0.7584\n",
            "Epoch 75/200\n",
            "9/9 [==============================] - 0s 6ms/step - loss: 0.3839 - accuracy: 0.8264 - val_loss: 0.5266 - val_accuracy: 0.7809\n",
            "Epoch 76/200\n",
            "9/9 [==============================] - 0s 7ms/step - loss: 0.4044 - accuracy: 0.8157 - val_loss: 0.5363 - val_accuracy: 0.7584\n",
            "Epoch 77/200\n",
            "9/9 [==============================] - 0s 7ms/step - loss: 0.3730 - accuracy: 0.8382 - val_loss: 0.5334 - val_accuracy: 0.7640\n",
            "Epoch 78/200\n",
            "9/9 [==============================] - 0s 6ms/step - loss: 0.3888 - accuracy: 0.8239 - val_loss: 0.5327 - val_accuracy: 0.7584\n",
            "Epoch 79/200\n",
            "9/9 [==============================] - 0s 7ms/step - loss: 0.3584 - accuracy: 0.8425 - val_loss: 0.5418 - val_accuracy: 0.7697\n",
            "Epoch 80/200\n",
            "9/9 [==============================] - 0s 7ms/step - loss: 0.3823 - accuracy: 0.8341 - val_loss: 0.5517 - val_accuracy: 0.7584\n",
            "Epoch 81/200\n",
            "9/9 [==============================] - 0s 6ms/step - loss: 0.3531 - accuracy: 0.8493 - val_loss: 0.5385 - val_accuracy: 0.7809\n",
            "Epoch 82/200\n",
            "9/9 [==============================] - 0s 6ms/step - loss: 0.3949 - accuracy: 0.8088 - val_loss: 0.5234 - val_accuracy: 0.7753\n",
            "Epoch 83/200\n",
            "9/9 [==============================] - 0s 6ms/step - loss: 0.3660 - accuracy: 0.8373 - val_loss: 0.5478 - val_accuracy: 0.7640\n",
            "Epoch 84/200\n",
            "9/9 [==============================] - 0s 6ms/step - loss: 0.3435 - accuracy: 0.8521 - val_loss: 0.5309 - val_accuracy: 0.7809\n",
            "Epoch 85/200\n",
            "9/9 [==============================] - 0s 6ms/step - loss: 0.3516 - accuracy: 0.8437 - val_loss: 0.5556 - val_accuracy: 0.7528\n",
            "Epoch 86/200\n",
            "9/9 [==============================] - 0s 20ms/step - loss: 0.3918 - accuracy: 0.8160 - val_loss: 0.5306 - val_accuracy: 0.7809\n",
            "Epoch 87/200\n",
            "9/9 [==============================] - 0s 7ms/step - loss: 0.3460 - accuracy: 0.8479 - val_loss: 0.5553 - val_accuracy: 0.7528\n",
            "Epoch 88/200\n",
            "9/9 [==============================] - 0s 7ms/step - loss: 0.3501 - accuracy: 0.8443 - val_loss: 0.5345 - val_accuracy: 0.7697\n",
            "Epoch 89/200\n",
            "9/9 [==============================] - 0s 6ms/step - loss: 0.3742 - accuracy: 0.8419 - val_loss: 0.5510 - val_accuracy: 0.7753\n",
            "Epoch 90/200\n",
            "9/9 [==============================] - 0s 7ms/step - loss: 0.3791 - accuracy: 0.8341 - val_loss: 0.5313 - val_accuracy: 0.7809\n",
            "Epoch 91/200\n",
            "9/9 [==============================] - 0s 7ms/step - loss: 0.3701 - accuracy: 0.8340 - val_loss: 0.5488 - val_accuracy: 0.7753\n",
            "Epoch 92/200\n",
            "9/9 [==============================] - 0s 6ms/step - loss: 0.3787 - accuracy: 0.8269 - val_loss: 0.5483 - val_accuracy: 0.7697\n",
            "Epoch 93/200\n",
            "9/9 [==============================] - 0s 7ms/step - loss: 0.3622 - accuracy: 0.8407 - val_loss: 0.5475 - val_accuracy: 0.7753\n",
            "Epoch 94/200\n",
            "9/9 [==============================] - 0s 6ms/step - loss: 0.3465 - accuracy: 0.8456 - val_loss: 0.5583 - val_accuracy: 0.7697\n",
            "Epoch 95/200\n",
            "9/9 [==============================] - 0s 6ms/step - loss: 0.3459 - accuracy: 0.8538 - val_loss: 0.5555 - val_accuracy: 0.7697\n",
            "Epoch 96/200\n",
            "9/9 [==============================] - 0s 9ms/step - loss: 0.3720 - accuracy: 0.8232 - val_loss: 0.5467 - val_accuracy: 0.7809\n",
            "Epoch 97/200\n",
            "9/9 [==============================] - 0s 7ms/step - loss: 0.3764 - accuracy: 0.8213 - val_loss: 0.5549 - val_accuracy: 0.7809\n",
            "Epoch 98/200\n",
            "9/9 [==============================] - 0s 6ms/step - loss: 0.3521 - accuracy: 0.8502 - val_loss: 0.5489 - val_accuracy: 0.7809\n",
            "Epoch 99/200\n",
            "9/9 [==============================] - 0s 6ms/step - loss: 0.3591 - accuracy: 0.8456 - val_loss: 0.5721 - val_accuracy: 0.7697\n",
            "Epoch 100/200\n",
            "9/9 [==============================] - 0s 6ms/step - loss: 0.3450 - accuracy: 0.8543 - val_loss: 0.5442 - val_accuracy: 0.7809\n",
            "Epoch 101/200\n",
            "9/9 [==============================] - 0s 6ms/step - loss: 0.3566 - accuracy: 0.8443 - val_loss: 0.5560 - val_accuracy: 0.7697\n",
            "Epoch 102/200\n",
            "9/9 [==============================] - 0s 7ms/step - loss: 0.3729 - accuracy: 0.8456 - val_loss: 0.5764 - val_accuracy: 0.7640\n",
            "Epoch 103/200\n",
            "9/9 [==============================] - 0s 6ms/step - loss: 0.3789 - accuracy: 0.8336 - val_loss: 0.5550 - val_accuracy: 0.7809\n",
            "Epoch 104/200\n",
            "9/9 [==============================] - 0s 8ms/step - loss: 0.3869 - accuracy: 0.8115 - val_loss: 0.5475 - val_accuracy: 0.7865\n",
            "Epoch 105/200\n",
            "9/9 [==============================] - 0s 7ms/step - loss: 0.3842 - accuracy: 0.8248 - val_loss: 0.5935 - val_accuracy: 0.7472\n",
            "Epoch 106/200\n",
            "9/9 [==============================] - 0s 7ms/step - loss: 0.3644 - accuracy: 0.8290 - val_loss: 0.5451 - val_accuracy: 0.7865\n",
            "Epoch 107/200\n",
            "9/9 [==============================] - 0s 7ms/step - loss: 0.3585 - accuracy: 0.8435 - val_loss: 0.5693 - val_accuracy: 0.7528\n",
            "Epoch 108/200\n",
            "9/9 [==============================] - 0s 6ms/step - loss: 0.3534 - accuracy: 0.8373 - val_loss: 0.5576 - val_accuracy: 0.7809\n",
            "Epoch 109/200\n",
            "9/9 [==============================] - 0s 6ms/step - loss: 0.3433 - accuracy: 0.8539 - val_loss: 0.5898 - val_accuracy: 0.7472\n",
            "Epoch 110/200\n",
            "9/9 [==============================] - 0s 7ms/step - loss: 0.3808 - accuracy: 0.8189 - val_loss: 0.5629 - val_accuracy: 0.7753\n",
            "Epoch 111/200\n",
            "9/9 [==============================] - 0s 6ms/step - loss: 0.3771 - accuracy: 0.8278 - val_loss: 0.5748 - val_accuracy: 0.7640\n",
            "Epoch 112/200\n",
            "9/9 [==============================] - 0s 8ms/step - loss: 0.3485 - accuracy: 0.8471 - val_loss: 0.5807 - val_accuracy: 0.7528\n",
            "Epoch 113/200\n",
            "9/9 [==============================] - 0s 6ms/step - loss: 0.3700 - accuracy: 0.8395 - val_loss: 0.5656 - val_accuracy: 0.7921\n",
            "Epoch 114/200\n",
            "9/9 [==============================] - 0s 6ms/step - loss: 0.3555 - accuracy: 0.8416 - val_loss: 0.5861 - val_accuracy: 0.7640\n",
            "Epoch 115/200\n",
            "9/9 [==============================] - 0s 7ms/step - loss: 0.3438 - accuracy: 0.8493 - val_loss: 0.5827 - val_accuracy: 0.7753\n",
            "Epoch 116/200\n",
            "9/9 [==============================] - 0s 6ms/step - loss: 0.3518 - accuracy: 0.8484 - val_loss: 0.5663 - val_accuracy: 0.7640\n",
            "Epoch 117/200\n",
            "9/9 [==============================] - 0s 6ms/step - loss: 0.3602 - accuracy: 0.8284 - val_loss: 0.5975 - val_accuracy: 0.7584\n",
            "Epoch 118/200\n",
            "9/9 [==============================] - 0s 6ms/step - loss: 0.3707 - accuracy: 0.8420 - val_loss: 0.5554 - val_accuracy: 0.7921\n",
            "Epoch 119/200\n",
            "9/9 [==============================] - 0s 7ms/step - loss: 0.3679 - accuracy: 0.8361 - val_loss: 0.5876 - val_accuracy: 0.7472\n",
            "Epoch 120/200\n",
            "9/9 [==============================] - 0s 7ms/step - loss: 0.3783 - accuracy: 0.8276 - val_loss: 0.5655 - val_accuracy: 0.7584\n",
            "Epoch 121/200\n",
            "9/9 [==============================] - 0s 6ms/step - loss: 0.3482 - accuracy: 0.8548 - val_loss: 0.5931 - val_accuracy: 0.7640\n",
            "Epoch 122/200\n",
            "9/9 [==============================] - 0s 7ms/step - loss: 0.3561 - accuracy: 0.8397 - val_loss: 0.5718 - val_accuracy: 0.7865\n",
            "Epoch 123/200\n",
            "9/9 [==============================] - 0s 6ms/step - loss: 0.3240 - accuracy: 0.8582 - val_loss: 0.5836 - val_accuracy: 0.7640\n",
            "Epoch 124/200\n",
            "9/9 [==============================] - 0s 7ms/step - loss: 0.3603 - accuracy: 0.8371 - val_loss: 0.5763 - val_accuracy: 0.7584\n",
            "Epoch 125/200\n",
            "9/9 [==============================] - 0s 7ms/step - loss: 0.3798 - accuracy: 0.8247 - val_loss: 0.5752 - val_accuracy: 0.7809\n",
            "Epoch 126/200\n",
            "9/9 [==============================] - 0s 7ms/step - loss: 0.3564 - accuracy: 0.8392 - val_loss: 0.5891 - val_accuracy: 0.7472\n",
            "Epoch 127/200\n",
            "9/9 [==============================] - 0s 7ms/step - loss: 0.3570 - accuracy: 0.8430 - val_loss: 0.5995 - val_accuracy: 0.7640\n",
            "Epoch 128/200\n",
            "9/9 [==============================] - 0s 6ms/step - loss: 0.3693 - accuracy: 0.8398 - val_loss: 0.5868 - val_accuracy: 0.7753\n",
            "Epoch 129/200\n",
            "9/9 [==============================] - 0s 6ms/step - loss: 0.3492 - accuracy: 0.8447 - val_loss: 0.6078 - val_accuracy: 0.7640\n",
            "Epoch 130/200\n",
            "9/9 [==============================] - 0s 6ms/step - loss: 0.3897 - accuracy: 0.8188 - val_loss: 0.5858 - val_accuracy: 0.7528\n",
            "Epoch 131/200\n",
            "9/9 [==============================] - 0s 6ms/step - loss: 0.3443 - accuracy: 0.8592 - val_loss: 0.6108 - val_accuracy: 0.7528\n",
            "Epoch 132/200\n",
            "9/9 [==============================] - 0s 7ms/step - loss: 0.3803 - accuracy: 0.8355 - val_loss: 0.5919 - val_accuracy: 0.7640\n",
            "Epoch 133/200\n",
            "9/9 [==============================] - 0s 8ms/step - loss: 0.3558 - accuracy: 0.8383 - val_loss: 0.6056 - val_accuracy: 0.7528\n",
            "Epoch 134/200\n",
            "9/9 [==============================] - 0s 7ms/step - loss: 0.3447 - accuracy: 0.8462 - val_loss: 0.6065 - val_accuracy: 0.7753\n",
            "Epoch 135/200\n",
            "9/9 [==============================] - 0s 7ms/step - loss: 0.3717 - accuracy: 0.8445 - val_loss: 0.5910 - val_accuracy: 0.7753\n",
            "Epoch 136/200\n",
            "9/9 [==============================] - 0s 6ms/step - loss: 0.3779 - accuracy: 0.8266 - val_loss: 0.5999 - val_accuracy: 0.7753\n",
            "Epoch 137/200\n",
            "9/9 [==============================] - 0s 6ms/step - loss: 0.3584 - accuracy: 0.8437 - val_loss: 0.6073 - val_accuracy: 0.7584\n",
            "Epoch 138/200\n",
            "9/9 [==============================] - 0s 7ms/step - loss: 0.3483 - accuracy: 0.8401 - val_loss: 0.6141 - val_accuracy: 0.7640\n",
            "Epoch 139/200\n",
            "9/9 [==============================] - 0s 7ms/step - loss: 0.3745 - accuracy: 0.8303 - val_loss: 0.6136 - val_accuracy: 0.7360\n",
            "Epoch 140/200\n",
            "9/9 [==============================] - 0s 20ms/step - loss: 0.3937 - accuracy: 0.8230 - val_loss: 0.6126 - val_accuracy: 0.7753\n",
            "Epoch 141/200\n",
            "9/9 [==============================] - 0s 6ms/step - loss: 0.3652 - accuracy: 0.8223 - val_loss: 0.5991 - val_accuracy: 0.7809\n",
            "Epoch 142/200\n",
            "9/9 [==============================] - 0s 6ms/step - loss: 0.3625 - accuracy: 0.8394 - val_loss: 0.6150 - val_accuracy: 0.7528\n",
            "Epoch 143/200\n",
            "9/9 [==============================] - 0s 6ms/step - loss: 0.3620 - accuracy: 0.8381 - val_loss: 0.6266 - val_accuracy: 0.7528\n",
            "Epoch 144/200\n",
            "9/9 [==============================] - 0s 8ms/step - loss: 0.3502 - accuracy: 0.8320 - val_loss: 0.6154 - val_accuracy: 0.7528\n",
            "Epoch 145/200\n",
            "9/9 [==============================] - 0s 6ms/step - loss: 0.3426 - accuracy: 0.8438 - val_loss: 0.6343 - val_accuracy: 0.7472\n",
            "Epoch 146/200\n",
            "9/9 [==============================] - 0s 7ms/step - loss: 0.3808 - accuracy: 0.8273 - val_loss: 0.5873 - val_accuracy: 0.7921\n",
            "Epoch 147/200\n",
            "9/9 [==============================] - 0s 7ms/step - loss: 0.3452 - accuracy: 0.8410 - val_loss: 0.6240 - val_accuracy: 0.7640\n",
            "Epoch 148/200\n",
            "9/9 [==============================] - 0s 7ms/step - loss: 0.3396 - accuracy: 0.8450 - val_loss: 0.6051 - val_accuracy: 0.7697\n",
            "Epoch 149/200\n",
            "9/9 [==============================] - 0s 7ms/step - loss: 0.3802 - accuracy: 0.8308 - val_loss: 0.6505 - val_accuracy: 0.7303\n",
            "Epoch 150/200\n",
            "9/9 [==============================] - 0s 7ms/step - loss: 0.3402 - accuracy: 0.8506 - val_loss: 0.6095 - val_accuracy: 0.7921\n",
            "Epoch 151/200\n",
            "9/9 [==============================] - 0s 7ms/step - loss: 0.3670 - accuracy: 0.8379 - val_loss: 0.6109 - val_accuracy: 0.7640\n",
            "Epoch 152/200\n",
            "9/9 [==============================] - 0s 7ms/step - loss: 0.3736 - accuracy: 0.8365 - val_loss: 0.6038 - val_accuracy: 0.7809\n",
            "Epoch 153/200\n",
            "9/9 [==============================] - 0s 6ms/step - loss: 0.3518 - accuracy: 0.8409 - val_loss: 0.6178 - val_accuracy: 0.7640\n",
            "Epoch 154/200\n",
            "9/9 [==============================] - 0s 7ms/step - loss: 0.3728 - accuracy: 0.8299 - val_loss: 0.6140 - val_accuracy: 0.7640\n",
            "Epoch 155/200\n",
            "9/9 [==============================] - 0s 7ms/step - loss: 0.3648 - accuracy: 0.8455 - val_loss: 0.6111 - val_accuracy: 0.7921\n",
            "Epoch 156/200\n",
            "9/9 [==============================] - 0s 7ms/step - loss: 0.3660 - accuracy: 0.8344 - val_loss: 0.6379 - val_accuracy: 0.7640\n",
            "Epoch 157/200\n",
            "9/9 [==============================] - 0s 7ms/step - loss: 0.3505 - accuracy: 0.8502 - val_loss: 0.6155 - val_accuracy: 0.7809\n",
            "Epoch 158/200\n",
            "9/9 [==============================] - 0s 7ms/step - loss: 0.3710 - accuracy: 0.8420 - val_loss: 0.6284 - val_accuracy: 0.7584\n",
            "Epoch 159/200\n",
            "9/9 [==============================] - 0s 8ms/step - loss: 0.3481 - accuracy: 0.8481 - val_loss: 0.6296 - val_accuracy: 0.7640\n",
            "Epoch 160/200\n",
            "9/9 [==============================] - 0s 8ms/step - loss: 0.3471 - accuracy: 0.8650 - val_loss: 0.6235 - val_accuracy: 0.7753\n",
            "Epoch 161/200\n",
            "9/9 [==============================] - 0s 6ms/step - loss: 0.3710 - accuracy: 0.8285 - val_loss: 0.6255 - val_accuracy: 0.7584\n",
            "Epoch 162/200\n",
            "9/9 [==============================] - 0s 6ms/step - loss: 0.3578 - accuracy: 0.8389 - val_loss: 0.6458 - val_accuracy: 0.7472\n",
            "Epoch 163/200\n",
            "9/9 [==============================] - 0s 7ms/step - loss: 0.3616 - accuracy: 0.8337 - val_loss: 0.6041 - val_accuracy: 0.7809\n",
            "Epoch 164/200\n",
            "9/9 [==============================] - 0s 7ms/step - loss: 0.3594 - accuracy: 0.8323 - val_loss: 0.6342 - val_accuracy: 0.7640\n",
            "Epoch 165/200\n",
            "9/9 [==============================] - 0s 7ms/step - loss: 0.3555 - accuracy: 0.8484 - val_loss: 0.6384 - val_accuracy: 0.7697\n",
            "Epoch 166/200\n",
            "9/9 [==============================] - 0s 6ms/step - loss: 0.3457 - accuracy: 0.8457 - val_loss: 0.6439 - val_accuracy: 0.7753\n",
            "Epoch 167/200\n",
            "9/9 [==============================] - 0s 6ms/step - loss: 0.3512 - accuracy: 0.8451 - val_loss: 0.6310 - val_accuracy: 0.7753\n",
            "Epoch 168/200\n",
            "9/9 [==============================] - 0s 7ms/step - loss: 0.3325 - accuracy: 0.8585 - val_loss: 0.6451 - val_accuracy: 0.7753\n",
            "Epoch 169/200\n",
            "9/9 [==============================] - 0s 8ms/step - loss: 0.3769 - accuracy: 0.8251 - val_loss: 0.6346 - val_accuracy: 0.7640\n",
            "Epoch 170/200\n",
            "9/9 [==============================] - 0s 7ms/step - loss: 0.3637 - accuracy: 0.8394 - val_loss: 0.6477 - val_accuracy: 0.7584\n",
            "Epoch 171/200\n",
            "9/9 [==============================] - 0s 6ms/step - loss: 0.3779 - accuracy: 0.8314 - val_loss: 0.6112 - val_accuracy: 0.7809\n",
            "Epoch 172/200\n",
            "9/9 [==============================] - 0s 6ms/step - loss: 0.3725 - accuracy: 0.8259 - val_loss: 0.6560 - val_accuracy: 0.7753\n",
            "Epoch 173/200\n",
            "9/9 [==============================] - 0s 8ms/step - loss: 0.3634 - accuracy: 0.8430 - val_loss: 0.6424 - val_accuracy: 0.7753\n",
            "Epoch 174/200\n",
            "9/9 [==============================] - 0s 7ms/step - loss: 0.3789 - accuracy: 0.8231 - val_loss: 0.6490 - val_accuracy: 0.7584\n",
            "Epoch 175/200\n",
            "9/9 [==============================] - 0s 6ms/step - loss: 0.3451 - accuracy: 0.8433 - val_loss: 0.6391 - val_accuracy: 0.7753\n",
            "Epoch 176/200\n",
            "9/9 [==============================] - 0s 7ms/step - loss: 0.3742 - accuracy: 0.8293 - val_loss: 0.6788 - val_accuracy: 0.7472\n",
            "Epoch 177/200\n",
            "9/9 [==============================] - 0s 7ms/step - loss: 0.3757 - accuracy: 0.8296 - val_loss: 0.6068 - val_accuracy: 0.7921\n",
            "Epoch 178/200\n",
            "9/9 [==============================] - 0s 7ms/step - loss: 0.3471 - accuracy: 0.8381 - val_loss: 0.6685 - val_accuracy: 0.7472\n",
            "Epoch 179/200\n",
            "9/9 [==============================] - 0s 8ms/step - loss: 0.3762 - accuracy: 0.8332 - val_loss: 0.6095 - val_accuracy: 0.7865\n",
            "Epoch 180/200\n",
            "9/9 [==============================] - 0s 8ms/step - loss: 0.3638 - accuracy: 0.8366 - val_loss: 0.6717 - val_accuracy: 0.7584\n",
            "Epoch 181/200\n",
            "9/9 [==============================] - 0s 7ms/step - loss: 0.3582 - accuracy: 0.8377 - val_loss: 0.6205 - val_accuracy: 0.7865\n",
            "Epoch 182/200\n",
            "9/9 [==============================] - 0s 7ms/step - loss: 0.3352 - accuracy: 0.8595 - val_loss: 0.6439 - val_accuracy: 0.7584\n",
            "Epoch 183/200\n",
            "9/9 [==============================] - 0s 7ms/step - loss: 0.3542 - accuracy: 0.8372 - val_loss: 0.6272 - val_accuracy: 0.7753\n",
            "Epoch 184/200\n",
            "9/9 [==============================] - 0s 7ms/step - loss: 0.3583 - accuracy: 0.8414 - val_loss: 0.6547 - val_accuracy: 0.7528\n",
            "Epoch 185/200\n",
            "9/9 [==============================] - 0s 20ms/step - loss: 0.3576 - accuracy: 0.8377 - val_loss: 0.6323 - val_accuracy: 0.7640\n",
            "Epoch 186/200\n",
            "9/9 [==============================] - 0s 7ms/step - loss: 0.3448 - accuracy: 0.8442 - val_loss: 0.6423 - val_accuracy: 0.7809\n",
            "Epoch 187/200\n",
            "9/9 [==============================] - 0s 7ms/step - loss: 0.3896 - accuracy: 0.8151 - val_loss: 0.6623 - val_accuracy: 0.7640\n",
            "Epoch 188/200\n",
            "9/9 [==============================] - 0s 7ms/step - loss: 0.3399 - accuracy: 0.8431 - val_loss: 0.6608 - val_accuracy: 0.7865\n",
            "Epoch 189/200\n",
            "9/9 [==============================] - 0s 8ms/step - loss: 0.3710 - accuracy: 0.8242 - val_loss: 0.6348 - val_accuracy: 0.7809\n",
            "Epoch 190/200\n",
            "9/9 [==============================] - 0s 7ms/step - loss: 0.3670 - accuracy: 0.8350 - val_loss: 0.6574 - val_accuracy: 0.7640\n",
            "Epoch 191/200\n",
            "9/9 [==============================] - 0s 6ms/step - loss: 0.3626 - accuracy: 0.8438 - val_loss: 0.6338 - val_accuracy: 0.7865\n",
            "Epoch 192/200\n",
            "9/9 [==============================] - 0s 6ms/step - loss: 0.3455 - accuracy: 0.8443 - val_loss: 0.6591 - val_accuracy: 0.7640\n",
            "Epoch 193/200\n",
            "9/9 [==============================] - 0s 8ms/step - loss: 0.3694 - accuracy: 0.8355 - val_loss: 0.6539 - val_accuracy: 0.7753\n",
            "Epoch 194/200\n",
            "9/9 [==============================] - 0s 7ms/step - loss: 0.3466 - accuracy: 0.8411 - val_loss: 0.6350 - val_accuracy: 0.7865\n",
            "Epoch 195/200\n",
            "9/9 [==============================] - 0s 6ms/step - loss: 0.3662 - accuracy: 0.8341 - val_loss: 0.6534 - val_accuracy: 0.7640\n",
            "Epoch 196/200\n",
            "9/9 [==============================] - 0s 8ms/step - loss: 0.3602 - accuracy: 0.8475 - val_loss: 0.6537 - val_accuracy: 0.7640\n",
            "Epoch 197/200\n",
            "9/9 [==============================] - 0s 7ms/step - loss: 0.3687 - accuracy: 0.8215 - val_loss: 0.6506 - val_accuracy: 0.7640\n",
            "Epoch 198/200\n",
            "9/9 [==============================] - 0s 6ms/step - loss: 0.3673 - accuracy: 0.8364 - val_loss: 0.6460 - val_accuracy: 0.7809\n",
            "Epoch 199/200\n",
            "9/9 [==============================] - 0s 6ms/step - loss: 0.3581 - accuracy: 0.8338 - val_loss: 0.6474 - val_accuracy: 0.7584\n",
            "Epoch 200/200\n",
            "9/9 [==============================] - 0s 8ms/step - loss: 0.3732 - accuracy: 0.8400 - val_loss: 0.6580 - val_accuracy: 0.7640\n"
          ],
          "name": "stdout"
        },
        {
          "output_type": "execute_result",
          "data": {
            "text/plain": [
              "<tensorflow.python.keras.callbacks.History at 0x7fe7ed0adb38>"
            ]
          },
          "metadata": {
            "tags": []
          },
          "execution_count": 14
        }
      ]
    },
    {
      "cell_type": "code",
      "metadata": {
        "id": "m8BpyzL40jTX",
        "colab": {
          "base_uri": "https://localhost:8080/"
        },
        "outputId": "464997b4-34a7-488e-a8c5-5c6fb40d95d7"
      },
      "source": [
        "score = model.evaluate(X_test, y_test)\n",
        "print(f'Test loss: {score[0]}\\n Test accuracy: {score[1]}')"
      ],
      "execution_count": 15,
      "outputs": [
        {
          "output_type": "stream",
          "text": [
            "6/6 [==============================] - 0s 1ms/step - loss: 0.6580 - accuracy: 0.7640\n",
            "Test loss: 0.6579905152320862\n",
            " Test accuracy: 0.7640449404716492\n"
          ],
          "name": "stdout"
        }
      ]
    },
    {
      "cell_type": "markdown",
      "metadata": {
        "id": "lBNGbbe9HX6f"
      },
      "source": [
        "# Lecture Notes"
      ]
    },
    {
      "cell_type": "code",
      "metadata": {
        "id": "RLB1hc_MHXuu"
      },
      "source": [
        "def relu(x):\n",
        "  if x > 0:\n",
        "    return x\n",
        "    \n",
        "  return 0"
      ],
      "execution_count": 16,
      "outputs": []
    },
    {
      "cell_type": "code",
      "metadata": {
        "id": "623iLvpiHeid"
      },
      "source": [
        "x = np.linspace(-5,5,101)\n",
        "y = [relu(z) for z in x]"
      ],
      "execution_count": 17,
      "outputs": []
    },
    {
      "cell_type": "code",
      "metadata": {
        "colab": {
          "base_uri": "https://localhost:8080/",
          "height": 407
        },
        "id": "JzdEGLxZHrpr",
        "outputId": "60ad3d5c-6bf7-401a-c22a-5624664f3e07"
      },
      "source": [
        "df = pd.DataFrame({'x':x, 'y':y})\n",
        "df"
      ],
      "execution_count": 18,
      "outputs": [
        {
          "output_type": "execute_result",
          "data": {
            "text/html": [
              "<div>\n",
              "<style scoped>\n",
              "    .dataframe tbody tr th:only-of-type {\n",
              "        vertical-align: middle;\n",
              "    }\n",
              "\n",
              "    .dataframe tbody tr th {\n",
              "        vertical-align: top;\n",
              "    }\n",
              "\n",
              "    .dataframe thead th {\n",
              "        text-align: right;\n",
              "    }\n",
              "</style>\n",
              "<table border=\"1\" class=\"dataframe\">\n",
              "  <thead>\n",
              "    <tr style=\"text-align: right;\">\n",
              "      <th></th>\n",
              "      <th>x</th>\n",
              "      <th>y</th>\n",
              "    </tr>\n",
              "  </thead>\n",
              "  <tbody>\n",
              "    <tr>\n",
              "      <th>0</th>\n",
              "      <td>-5.0</td>\n",
              "      <td>0.0</td>\n",
              "    </tr>\n",
              "    <tr>\n",
              "      <th>1</th>\n",
              "      <td>-4.9</td>\n",
              "      <td>0.0</td>\n",
              "    </tr>\n",
              "    <tr>\n",
              "      <th>2</th>\n",
              "      <td>-4.8</td>\n",
              "      <td>0.0</td>\n",
              "    </tr>\n",
              "    <tr>\n",
              "      <th>3</th>\n",
              "      <td>-4.7</td>\n",
              "      <td>0.0</td>\n",
              "    </tr>\n",
              "    <tr>\n",
              "      <th>4</th>\n",
              "      <td>-4.6</td>\n",
              "      <td>0.0</td>\n",
              "    </tr>\n",
              "    <tr>\n",
              "      <th>...</th>\n",
              "      <td>...</td>\n",
              "      <td>...</td>\n",
              "    </tr>\n",
              "    <tr>\n",
              "      <th>96</th>\n",
              "      <td>4.6</td>\n",
              "      <td>4.6</td>\n",
              "    </tr>\n",
              "    <tr>\n",
              "      <th>97</th>\n",
              "      <td>4.7</td>\n",
              "      <td>4.7</td>\n",
              "    </tr>\n",
              "    <tr>\n",
              "      <th>98</th>\n",
              "      <td>4.8</td>\n",
              "      <td>4.8</td>\n",
              "    </tr>\n",
              "    <tr>\n",
              "      <th>99</th>\n",
              "      <td>4.9</td>\n",
              "      <td>4.9</td>\n",
              "    </tr>\n",
              "    <tr>\n",
              "      <th>100</th>\n",
              "      <td>5.0</td>\n",
              "      <td>5.0</td>\n",
              "    </tr>\n",
              "  </tbody>\n",
              "</table>\n",
              "<p>101 rows × 2 columns</p>\n",
              "</div>"
            ],
            "text/plain": [
              "       x    y\n",
              "0   -5.0  0.0\n",
              "1   -4.9  0.0\n",
              "2   -4.8  0.0\n",
              "3   -4.7  0.0\n",
              "4   -4.6  0.0\n",
              "..   ...  ...\n",
              "96   4.6  4.6\n",
              "97   4.7  4.7\n",
              "98   4.8  4.8\n",
              "99   4.9  4.9\n",
              "100  5.0  5.0\n",
              "\n",
              "[101 rows x 2 columns]"
            ]
          },
          "metadata": {
            "tags": []
          },
          "execution_count": 18
        }
      ]
    },
    {
      "cell_type": "code",
      "metadata": {
        "colab": {
          "base_uri": "https://localhost:8080/",
          "height": 296
        },
        "id": "ryQSMrPJH0DA",
        "outputId": "8021d6e0-c150-4a2e-f86f-820f30168daf"
      },
      "source": [
        "df.plot(x='x',y='y', kind='line')"
      ],
      "execution_count": 19,
      "outputs": [
        {
          "output_type": "execute_result",
          "data": {
            "text/plain": [
              "<matplotlib.axes._subplots.AxesSubplot at 0x7fe7e8573d30>"
            ]
          },
          "metadata": {
            "tags": []
          },
          "execution_count": 19
        },
        {
          "output_type": "display_data",
          "data": {
            "image/png": "[encoded data removed]",
            "text/plain": [
              "<Figure size 432x288 with 1 Axes>"
            ]
          },
          "metadata": {
            "tags": [],
            "needs_background": "light"
          }
        }
      ]
    },
    {
      "cell_type": "code",
      "metadata": {
        "id": "dP5-pzWoH35z"
      },
      "source": [
        "def sigmoid(x):\n",
        "  return 1/(1+np.exp(-x))"
      ],
      "execution_count": 20,
      "outputs": []
    },
    {
      "cell_type": "code",
      "metadata": {
        "colab": {
          "base_uri": "https://localhost:8080/",
          "height": 296
        },
        "id": "juuWf7lTIThS",
        "outputId": "069461e2-61aa-4b53-85b3-a084f9401519"
      },
      "source": [
        "x = np.linspace(-5,5,101)\n",
        "y = [sigmoid(z) for z in x]\n",
        "df = pd.DataFrame({'x':x, 'y':y})\n",
        "df.plot(x='x',y='y', kind='line')"
      ],
      "execution_count": 21,
      "outputs": [
        {
          "output_type": "execute_result",
          "data": {
            "text/plain": [
              "<matplotlib.axes._subplots.AxesSubplot at 0x7fe7e84c6be0>"
            ]
          },
          "metadata": {
            "tags": []
          },
          "execution_count": 21
        },
        {
          "output_type": "display_data",
          "data": {
            "image/png": "[encoded data removed]",
            "text/plain": [
              "<Figure size 432x288 with 1 Axes>"
            ]
          },
          "metadata": {
            "tags": [],
            "needs_background": "light"
          }
        }
      ]
    },
    {
      "cell_type": "code",
      "metadata": {
        "id": "4fgzQHJfIaA0"
      },
      "source": [
        "def leaky_relu(x):\n",
        "  if x > 0:\n",
        "    return x\n",
        "    \n",
        "  return x*0.01"
      ],
      "execution_count": 22,
      "outputs": []
    },
    {
      "cell_type": "code",
      "metadata": {
        "colab": {
          "base_uri": "https://localhost:8080/",
          "height": 296
        },
        "id": "QkDT6XGVJISf",
        "outputId": "4dcbf12f-fd6d-43e6-f98d-de889fb26da4"
      },
      "source": [
        "x = np.linspace(-5,5,101)\n",
        "y = [leaky_relu(z) for z in x]\n",
        "df = pd.DataFrame({'x':x, 'y':y})\n",
        "df.plot(x='x',y='y', kind='line')"
      ],
      "execution_count": 23,
      "outputs": [
        {
          "output_type": "execute_result",
          "data": {
            "text/plain": [
              "<matplotlib.axes._subplots.AxesSubplot at 0x7fe7e804a908>"
            ]
          },
          "metadata": {
            "tags": []
          },
          "execution_count": 23
        },
        {
          "output_type": "display_data",
          "data": {
            "image/png": "[encoded data removed]",
            "text/plain": [
              "<Figure size 432x288 with 1 Axes>"
            ]
          },
          "metadata": {
            "tags": [],
            "needs_background": "light"
          }
        }
      ]
    },
    {
      "cell_type": "code",
      "metadata": {
        "id": "f-SxYw2eJKsv"
      },
      "source": [
        "def prelu(x, a):\n",
        "  if x > 0:\n",
        "    return x\n",
        "    \n",
        "  return x*a"
      ],
      "execution_count": 24,
      "outputs": []
    },
    {
      "cell_type": "code",
      "metadata": {
        "id": "qR-WVPB9JPbm"
      },
      "source": [
        "csection = pd.read_csv('https://tf-assets-prod.s3.amazonaws.com/tf-curric/data-science/csection.csv')"
      ],
      "execution_count": 25,
      "outputs": []
    },
    {
      "cell_type": "code",
      "metadata": {
        "colab": {
          "base_uri": "https://localhost:8080/"
        },
        "id": "_ap2HtSxKCHY",
        "outputId": "bb6e95d3-d47a-403b-c6ac-cdd551f4c5e1"
      },
      "source": [
        "csection.info()"
      ],
      "execution_count": 26,
      "outputs": [
        {
          "output_type": "stream",
          "text": [
            "<class 'pandas.core.frame.DataFrame'>\n",
            "RangeIndex: 80 entries, 0 to 79\n",
            "Data columns (total 6 columns):\n",
            " #   Column           Non-Null Count  Dtype\n",
            "---  ------           --------------  -----\n",
            " 0   Age              80 non-null     int64\n",
            " 1   Delivery number  80 non-null     int64\n",
            " 2   Delivery time    80 non-null     int64\n",
            " 3   Blood Pressure   80 non-null     int64\n",
            " 4   Heart Problem    80 non-null     int64\n",
            " 5   Caesarian        80 non-null     int64\n",
            "dtypes: int64(6)\n",
            "memory usage: 3.9 KB\n"
          ],
          "name": "stdout"
        }
      ]
    },
    {
      "cell_type": "code",
      "metadata": {
        "id": "30xnOpN3KEjt"
      },
      "source": [
        "c_dummy = pd.get_dummies(csection, columns=['Delivery number', 'Delivery time', 'Blood Pressure'], drop_first=True)\n",
        "\n",
        "x = c_dummy.drop(columns=['Caesarian'])\n",
        "y = c_dummy['Caesarian']"
      ],
      "execution_count": 27,
      "outputs": []
    },
    {
      "cell_type": "code",
      "metadata": {
        "id": "0Us_0AVnKirP"
      },
      "source": [
        "X_train, X_test, y_train, y_test = train_test_split(x, y, test_size=0.2)"
      ],
      "execution_count": 28,
      "outputs": []
    },
    {
      "cell_type": "code",
      "metadata": {
        "colab": {
          "base_uri": "https://localhost:8080/"
        },
        "id": "XVcmuXWKLCZr",
        "outputId": "1ff631b6-ae87-4159-e446-c06a4f67f8fb"
      },
      "source": [
        "X_train.shape[1]"
      ],
      "execution_count": 29,
      "outputs": [
        {
          "output_type": "execute_result",
          "data": {
            "text/plain": [
              "9"
            ]
          },
          "metadata": {
            "tags": []
          },
          "execution_count": 29
        }
      ]
    },
    {
      "cell_type": "code",
      "metadata": {
        "id": "BAQrTj8zKtoo"
      },
      "source": [
        "model = Sequential()\n",
        "\n",
        "model.add(Dense(32, input_dim=X_train.shape[1], activation='relu'))\n",
        "model.add(Dense(16, activation='relu'))\n",
        "model.add(Dense(1, activation='tanh'))"
      ],
      "execution_count": 30,
      "outputs": []
    },
    {
      "cell_type": "code",
      "metadata": {
        "colab": {
          "base_uri": "https://localhost:8080/"
        },
        "id": "D5mwAwyuLSFh",
        "outputId": "bb90113d-ab7e-4074-c186-2cb0207823ad"
      },
      "source": [
        "model.summary()"
      ],
      "execution_count": 31,
      "outputs": [
        {
          "output_type": "stream",
          "text": [
            "Model: \"sequential_2\"\n",
            "_________________________________________________________________\n",
            "Layer (type)                 Output Shape              Param #   \n",
            "=================================================================\n",
            "dense_10 (Dense)             (None, 32)                320       \n",
            "_________________________________________________________________\n",
            "dense_11 (Dense)             (None, 16)                528       \n",
            "_________________________________________________________________\n",
            "dense_12 (Dense)             (None, 1)                 17        \n",
            "=================================================================\n",
            "Total params: 865\n",
            "Trainable params: 865\n",
            "Non-trainable params: 0\n",
            "_________________________________________________________________\n"
          ],
          "name": "stdout"
        }
      ]
    },
    {
      "cell_type": "code",
      "metadata": {
        "id": "Vw_H-89hLTiA"
      },
      "source": [
        "model.compile(loss='binary_crossentropy', optimizer='adam', \n",
        "              metrics=['accuracy'])"
      ],
      "execution_count": 32,
      "outputs": []
    },
    {
      "cell_type": "code",
      "metadata": {
        "colab": {
          "base_uri": "https://localhost:8080/"
        },
        "id": "EVVDsLJLLha4",
        "outputId": "1ace81eb-bd3a-4612-f31d-990eb1e14987"
      },
      "source": [
        "model.fit(X_train, y_train, epochs=20, batch_size=20, \n",
        "          validation_data=(X_test, y_test))"
      ],
      "execution_count": 33,
      "outputs": [
        {
          "output_type": "stream",
          "text": [
            "Epoch 1/20\n",
            "4/4 [==============================] - 1s 61ms/step - loss: 0.9238 - accuracy: 0.5525 - val_loss: 0.7034 - val_accuracy: 0.5625\n",
            "Epoch 2/20\n",
            "4/4 [==============================] - 0s 14ms/step - loss: 0.7124 - accuracy: 0.5083 - val_loss: 1.0033 - val_accuracy: 0.2500\n",
            "Epoch 3/20\n",
            "4/4 [==============================] - 0s 15ms/step - loss: 0.7153 - accuracy: 0.5600 - val_loss: 0.7900 - val_accuracy: 0.3750\n",
            "Epoch 4/20\n",
            "4/4 [==============================] - 0s 14ms/step - loss: 0.6367 - accuracy: 0.6146 - val_loss: 0.6927 - val_accuracy: 0.5000\n",
            "Epoch 5/20\n",
            "4/4 [==============================] - 0s 13ms/step - loss: 0.6885 - accuracy: 0.4946 - val_loss: 0.6654 - val_accuracy: 0.6250\n",
            "Epoch 6/20\n",
            "4/4 [==============================] - 0s 14ms/step - loss: 0.7305 - accuracy: 0.5192 - val_loss: 0.6827 - val_accuracy: 0.5000\n",
            "Epoch 7/20\n",
            "4/4 [==============================] - 0s 17ms/step - loss: 0.6554 - accuracy: 0.5946 - val_loss: 0.7494 - val_accuracy: 0.4375\n",
            "Epoch 8/20\n",
            "4/4 [==============================] - 0s 15ms/step - loss: 0.6408 - accuracy: 0.6138 - val_loss: 0.7888 - val_accuracy: 0.4375\n",
            "Epoch 9/20\n",
            "4/4 [==============================] - 0s 12ms/step - loss: 0.6452 - accuracy: 0.6217 - val_loss: 0.7971 - val_accuracy: 0.4375\n",
            "Epoch 10/20\n",
            "4/4 [==============================] - 0s 13ms/step - loss: 0.6427 - accuracy: 0.6283 - val_loss: 0.7039 - val_accuracy: 0.4375\n",
            "Epoch 11/20\n",
            "4/4 [==============================] - 0s 13ms/step - loss: 0.6200 - accuracy: 0.6433 - val_loss: 0.7174 - val_accuracy: 0.4375\n",
            "Epoch 12/20\n",
            "4/4 [==============================] - 0s 13ms/step - loss: 0.6522 - accuracy: 0.6029 - val_loss: 0.7447 - val_accuracy: 0.4375\n",
            "Epoch 13/20\n",
            "4/4 [==============================] - 0s 13ms/step - loss: 0.6435 - accuracy: 0.6587 - val_loss: 0.7276 - val_accuracy: 0.4375\n",
            "Epoch 14/20\n",
            "4/4 [==============================] - 0s 14ms/step - loss: 0.6279 - accuracy: 0.6950 - val_loss: 0.6801 - val_accuracy: 0.5625\n",
            "Epoch 15/20\n",
            "4/4 [==============================] - 0s 13ms/step - loss: 0.6242 - accuracy: 0.6612 - val_loss: 0.6819 - val_accuracy: 0.5625\n",
            "Epoch 16/20\n",
            "4/4 [==============================] - 0s 12ms/step - loss: 0.6487 - accuracy: 0.5750 - val_loss: 0.7045 - val_accuracy: 0.5000\n",
            "Epoch 17/20\n",
            "4/4 [==============================] - 0s 14ms/step - loss: 0.6416 - accuracy: 0.6567 - val_loss: 0.7280 - val_accuracy: 0.5000\n",
            "Epoch 18/20\n",
            "4/4 [==============================] - 0s 14ms/step - loss: 0.6348 - accuracy: 0.6708 - val_loss: 0.7168 - val_accuracy: 0.5000\n",
            "Epoch 19/20\n",
            "4/4 [==============================] - 0s 12ms/step - loss: 0.6281 - accuracy: 0.6621 - val_loss: 0.7144 - val_accuracy: 0.5000\n",
            "Epoch 20/20\n",
            "4/4 [==============================] - 0s 13ms/step - loss: 0.6163 - accuracy: 0.6929 - val_loss: 0.7382 - val_accuracy: 0.5000\n"
          ],
          "name": "stdout"
        },
        {
          "output_type": "execute_result",
          "data": {
            "text/plain": [
              "<tensorflow.python.keras.callbacks.History at 0x7fe7e7f8e4a8>"
            ]
          },
          "metadata": {
            "tags": []
          },
          "execution_count": 33
        }
      ]
    },
    {
      "cell_type": "code",
      "metadata": {
        "id": "e5lt69QbLtqs"
      },
      "source": [
        "model = Sequential()\n",
        "\n",
        "model.add(Dense(32, input_dim=X_train.shape[1], activation='relu'))\n",
        "model.add(Dense(16, activation='relu'))\n",
        "model.add(Dense(1, activation='sigmoid')) #use 'softmax' for multiclass"
      ],
      "execution_count": 34,
      "outputs": []
    },
    {
      "cell_type": "code",
      "metadata": {
        "id": "isOqMfg2L_qQ"
      },
      "source": [
        "model.compile(loss='binary_crossentropy', optimizer='adam', \n",
        "              metrics=['accuracy'])"
      ],
      "execution_count": 35,
      "outputs": []
    },
    {
      "cell_type": "code",
      "metadata": {
        "colab": {
          "base_uri": "https://localhost:8080/"
        },
        "id": "5bAt4leOMBH8",
        "outputId": "e42ab2b9-9beb-4b6b-c424-2330c191661a"
      },
      "source": [
        "history = model.fit(X_train, y_train, epochs=20, batch_size=20, \n",
        "          validation_data=(X_test, y_test))"
      ],
      "execution_count": 36,
      "outputs": [
        {
          "output_type": "stream",
          "text": [
            "Epoch 1/20\n",
            "4/4 [==============================] - 1s 105ms/step - loss: 1.8778 - accuracy: 0.5171 - val_loss: 1.0258 - val_accuracy: 0.6875\n",
            "Epoch 2/20\n",
            "4/4 [==============================] - 0s 12ms/step - loss: 1.3924 - accuracy: 0.5538 - val_loss: 0.8153 - val_accuracy: 0.6875\n",
            "Epoch 3/20\n",
            "4/4 [==============================] - 0s 14ms/step - loss: 1.0814 - accuracy: 0.5554 - val_loss: 0.6676 - val_accuracy: 0.6875\n",
            "Epoch 4/20\n",
            "4/4 [==============================] - 0s 14ms/step - loss: 0.8277 - accuracy: 0.5538 - val_loss: 0.6208 - val_accuracy: 0.6875\n",
            "Epoch 5/20\n",
            "4/4 [==============================] - 0s 12ms/step - loss: 0.7372 - accuracy: 0.5254 - val_loss: 0.6734 - val_accuracy: 0.7500\n",
            "Epoch 6/20\n",
            "4/4 [==============================] - 0s 13ms/step - loss: 0.7058 - accuracy: 0.4450 - val_loss: 0.7405 - val_accuracy: 0.3125\n",
            "Epoch 7/20\n",
            "4/4 [==============================] - 0s 13ms/step - loss: 0.7317 - accuracy: 0.4379 - val_loss: 0.7431 - val_accuracy: 0.3125\n",
            "Epoch 8/20\n",
            "4/4 [==============================] - 0s 13ms/step - loss: 0.7182 - accuracy: 0.4662 - val_loss: 0.7023 - val_accuracy: 0.3125\n",
            "Epoch 9/20\n",
            "4/4 [==============================] - 0s 14ms/step - loss: 0.6975 - accuracy: 0.4975 - val_loss: 0.6657 - val_accuracy: 0.7500\n",
            "Epoch 10/20\n",
            "4/4 [==============================] - 0s 14ms/step - loss: 0.6933 - accuracy: 0.5254 - val_loss: 0.6389 - val_accuracy: 0.6875\n",
            "Epoch 11/20\n",
            "4/4 [==============================] - 0s 14ms/step - loss: 0.7009 - accuracy: 0.5154 - val_loss: 0.6262 - val_accuracy: 0.6875\n",
            "Epoch 12/20\n",
            "4/4 [==============================] - 0s 14ms/step - loss: 0.7139 - accuracy: 0.5154 - val_loss: 0.6218 - val_accuracy: 0.6875\n",
            "Epoch 13/20\n",
            "4/4 [==============================] - 0s 14ms/step - loss: 0.7109 - accuracy: 0.5354 - val_loss: 0.6214 - val_accuracy: 0.6875\n",
            "Epoch 14/20\n",
            "4/4 [==============================] - 0s 12ms/step - loss: 0.6915 - accuracy: 0.5604 - val_loss: 0.6230 - val_accuracy: 0.6875\n",
            "Epoch 15/20\n",
            "4/4 [==============================] - 0s 12ms/step - loss: 0.6943 - accuracy: 0.5488 - val_loss: 0.6292 - val_accuracy: 0.6875\n",
            "Epoch 16/20\n",
            "4/4 [==============================] - 0s 12ms/step - loss: 0.6868 - accuracy: 0.5437 - val_loss: 0.6430 - val_accuracy: 0.6875\n",
            "Epoch 17/20\n",
            "4/4 [==============================] - 0s 13ms/step - loss: 0.7017 - accuracy: 0.4746 - val_loss: 0.6621 - val_accuracy: 0.6875\n",
            "Epoch 18/20\n",
            "4/4 [==============================] - 0s 14ms/step - loss: 0.6858 - accuracy: 0.4746 - val_loss: 0.6620 - val_accuracy: 0.6875\n",
            "Epoch 19/20\n",
            "4/4 [==============================] - 0s 14ms/step - loss: 0.6828 - accuracy: 0.5112 - val_loss: 0.6629 - val_accuracy: 0.6875\n",
            "Epoch 20/20\n",
            "4/4 [==============================] - 0s 15ms/step - loss: 0.6880 - accuracy: 0.4567 - val_loss: 0.6761 - val_accuracy: 0.6875\n"
          ],
          "name": "stdout"
        }
      ]
    },
    {
      "cell_type": "code",
      "metadata": {
        "id": "qciu44EJMC2V"
      },
      "source": [
        "df = pd.DataFrame(history.history)"
      ],
      "execution_count": 37,
      "outputs": []
    },
    {
      "cell_type": "code",
      "metadata": {
        "colab": {
          "base_uri": "https://localhost:8080/",
          "height": 282
        },
        "id": "ZvD9wi4dNCWW",
        "outputId": "91a3aded-b057-4901-f665-60dd191e9b70"
      },
      "source": [
        "df[['accuracy', 'val_accuracy']].plot()"
      ],
      "execution_count": 38,
      "outputs": [
        {
          "output_type": "execute_result",
          "data": {
            "text/plain": [
              "<matplotlib.axes._subplots.AxesSubplot at 0x7fe7e7f7cef0>"
            ]
          },
          "metadata": {
            "tags": []
          },
          "execution_count": 38
        },
        {
          "output_type": "display_data",
          "data": {
            "image/png": "[encoded data removed]",
            "text/plain": [
              "<Figure size 432x288 with 1 Axes>"
            ]
          },
          "metadata": {
            "tags": [],
            "needs_background": "light"
          }
        }
      ]
    },
    {
      "cell_type": "code",
      "metadata": {
        "id": "tWnbvDCQNGQ_"
      },
      "source": [
        ""
      ],
      "execution_count": 38,
      "outputs": []
    }
  ]
}