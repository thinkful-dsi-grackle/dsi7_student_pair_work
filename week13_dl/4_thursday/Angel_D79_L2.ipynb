{
  "nbformat": 4,
  "nbformat_minor": 0,
  "metadata": {
    "kernelspec": {
      "display_name": "Python 3",
      "language": "python",
      "name": "python3"
    },
    "language_info": {
      "codemirror_mode": {
        "name": "ipython",
        "version": 3
      },
      "file_extension": ".py",
      "mimetype": "text/x-python",
      "name": "python",
      "nbconvert_exporter": "python",
      "pygments_lexer": "ipython3",
      "version": "3.7.0"
    },
    "colab": {
      "name": "Angel_D79_L2.ipynb",
      "provenance": [],
      "collapsed_sections": []
    },
    "accelerator": "GPU"
  },
  "cells": [
    {
      "cell_type": "markdown",
      "metadata": {
        "id": "oQfS-31Jh-bL"
      },
      "source": [
        "## Recurrent Neural Networks\n",
        "\n",
        "In this assignment, we will learn about recurrent neural networks. We will create an RNN and learn to classify text data."
      ]
    },
    {
      "cell_type": "code",
      "metadata": {
        "id": "BOy993_Xh-bM",
        "colab": {
          "base_uri": "https://localhost:8080/"
        },
        "outputId": "5315de45-ca1d-4371-bb4b-dd8ca4ae8eb2"
      },
      "source": [
        "import warnings\n",
        "warnings.filterwarnings(\"ignore\")\n",
        "\n",
        "import numpy as np\n",
        "import pandas as pd\n",
        "\n",
        "import nltk\n",
        "nltk.download('stopwords')\n",
        "nltk.download('punkt')"
      ],
      "execution_count": 18,
      "outputs": [
        {
          "output_type": "stream",
          "text": [
            "[nltk_data] Downloading package stopwords to /root/nltk_data...\n",
            "[nltk_data]   Package stopwords is already up-to-date!\n",
            "[nltk_data] Downloading package punkt to /root/nltk_data...\n",
            "[nltk_data]   Package punkt is already up-to-date!\n"
          ],
          "name": "stdout"
        },
        {
          "output_type": "execute_result",
          "data": {
            "text/plain": [
              "True"
            ]
          },
          "metadata": {
            "tags": []
          },
          "execution_count": 18
        }
      ]
    },
    {
      "cell_type": "code",
      "metadata": {
        "id": "ToNRsZf5h-bP",
        "colab": {
          "base_uri": "https://localhost:8080/"
        },
        "outputId": "75bb0da9-f584-49a7-ca82-a4276ea9b3ee"
      },
      "source": [
        "yelp = pd.read_csv('https://tf-assets-prod.s3.amazonaws.com/tf-curric/data-science/yelp_labeled.csv', error_bad_lines=False)"
      ],
      "execution_count": 19,
      "outputs": [
        {
          "output_type": "stream",
          "text": [
            "b'Skipping line 281: expected 2 fields, saw 3\\nSkipping line 290: expected 2 fields, saw 3\\nSkipping line 296: expected 2 fields, saw 3\\nSkipping line 322: expected 2 fields, saw 3\\nSkipping line 373: expected 2 fields, saw 3\\nSkipping line 417: expected 2 fields, saw 3\\nSkipping line 427: expected 2 fields, saw 3\\nSkipping line 429: expected 2 fields, saw 3\\nSkipping line 577: expected 2 fields, saw 3\\nSkipping line 578: expected 2 fields, saw 3\\nSkipping line 611: expected 2 fields, saw 3\\nSkipping line 677: expected 2 fields, saw 3\\nSkipping line 771: expected 2 fields, saw 3\\nSkipping line 930: expected 2 fields, saw 3\\nSkipping line 979: expected 2 fields, saw 4\\nSkipping line 980: expected 2 fields, saw 3\\n'\n"
          ],
          "name": "stderr"
        }
      ]
    },
    {
      "cell_type": "code",
      "metadata": {
        "id": "7fKQfObOh-bX",
        "colab": {
          "base_uri": "https://localhost:8080/",
          "height": 202
        },
        "outputId": "eb58533e-90f2-42e0-d03d-83aa5ce19a4e"
      },
      "source": [
        "yelp.head()"
      ],
      "execution_count": 20,
      "outputs": [
        {
          "output_type": "execute_result",
          "data": {
            "text/html": [
              "<div>\n",
              "<style scoped>\n",
              "    .dataframe tbody tr th:only-of-type {\n",
              "        vertical-align: middle;\n",
              "    }\n",
              "\n",
              "    .dataframe tbody tr th {\n",
              "        vertical-align: top;\n",
              "    }\n",
              "\n",
              "    .dataframe thead th {\n",
              "        text-align: right;\n",
              "    }\n",
              "</style>\n",
              "<table border=\"1\" class=\"dataframe\">\n",
              "  <thead>\n",
              "    <tr style=\"text-align: right;\">\n",
              "      <th></th>\n",
              "      <th>text</th>\n",
              "      <th>sentiment</th>\n",
              "    </tr>\n",
              "  </thead>\n",
              "  <tbody>\n",
              "    <tr>\n",
              "      <th>0</th>\n",
              "      <td>Wow... Loved this place.</td>\n",
              "      <td>1</td>\n",
              "    </tr>\n",
              "    <tr>\n",
              "      <th>1</th>\n",
              "      <td>Crust is not good.</td>\n",
              "      <td>0</td>\n",
              "    </tr>\n",
              "    <tr>\n",
              "      <th>2</th>\n",
              "      <td>Not tasty and the texture was just nasty.</td>\n",
              "      <td>0</td>\n",
              "    </tr>\n",
              "    <tr>\n",
              "      <th>3</th>\n",
              "      <td>Stopped by during the late May bank holiday of...</td>\n",
              "      <td>1</td>\n",
              "    </tr>\n",
              "    <tr>\n",
              "      <th>4</th>\n",
              "      <td>The selection on the menu was great and so wer...</td>\n",
              "      <td>1</td>\n",
              "    </tr>\n",
              "  </tbody>\n",
              "</table>\n",
              "</div>"
            ],
            "text/plain": [
              "                                                text  sentiment\n",
              "0                           Wow... Loved this place.          1\n",
              "1                                 Crust is not good.          0\n",
              "2          Not tasty and the texture was just nasty.          0\n",
              "3  Stopped by during the late May bank holiday of...          1\n",
              "4  The selection on the menu was great and so wer...          1"
            ]
          },
          "metadata": {
            "tags": []
          },
          "execution_count": 20
        }
      ]
    },
    {
      "cell_type": "code",
      "metadata": {
        "id": "yXyJFyo9h-bZ",
        "colab": {
          "base_uri": "https://localhost:8080/"
        },
        "outputId": "5c3b1470-2ed6-4708-9c4d-9ac484d30a50"
      },
      "source": [
        "yelp.sentiment.value_counts()"
      ],
      "execution_count": 21,
      "outputs": [
        {
          "output_type": "execute_result",
          "data": {
            "text/plain": [
              "1    494\n",
              "0    482\n",
              "Name: sentiment, dtype: int64"
            ]
          },
          "metadata": {
            "tags": []
          },
          "execution_count": 21
        }
      ]
    },
    {
      "cell_type": "markdown",
      "metadata": {
        "id": "bp0a4qU9h-bb"
      },
      "source": [
        "We have loaded a Yelp review dataset above. A positive sentiment is classified as 1 and a negative sentiment is classified as 0. "
      ]
    },
    {
      "cell_type": "code",
      "metadata": {
        "id": "Zyboex_Vh-bb"
      },
      "source": [
        "from nltk.corpus import stopwords\n",
        "import re\n",
        "from nltk.stem.porter import PorterStemmer\n",
        "\n",
        "stemmer = PorterStemmer()\n",
        "\n",
        "def remove_stopwords(input_text):\n",
        "        stopwords_list = stopwords.words('english')\n",
        "        # Some words which might indicate a certain sentiment are kept via a whitelist\n",
        "        whitelist = [\"n't\", \"not\", \"no\"]\n",
        "        words = input_text.split() \n",
        "        clean_words = [word for word in words if (word not in stopwords_list or word in whitelist) and len(word) > 1] \n",
        "        return \" \".join(clean_words)       \n",
        "\n",
        "def stem_list(word_list):\n",
        "    stemmed = []\n",
        "    for word in word_list:\n",
        "        stemmedword = stemmer.stem(word)\n",
        "        stemmed.append(stemmedword)\n",
        "    return stemmed\n",
        "\n",
        "def normalize(terms):\n",
        "    terms = terms.lower()\n",
        "    terms = remove_stopwords(terms)\n",
        "    word_delimiters = u'[\\\\[\\\\]\\n.!?,;:\\t\\\\-\\\\\"\\\\(\\\\)\\\\\\'\\u2019\\u2013 ]'\n",
        "    term_list = re.split(word_delimiters, terms)\n",
        "    trimmed = [x.rstrip() for x in term_list]\n",
        "    stemmed = stem_list(trimmed)\n",
        "    space = ' '\n",
        "    normed = space.join(stemmed)\n",
        "    normed = normed.replace('  ', ' ')\n",
        "    return normed"
      ],
      "execution_count": 22,
      "outputs": []
    },
    {
      "cell_type": "markdown",
      "metadata": {
        "id": "CsuGlOW8h-bd"
      },
      "source": [
        "In the code block above, we have functions to remove stopwords, stem, and normalize the text (remove special characters and trim white space). Apply the normalize function to every yelp review and assign the normalized text to a new column."
      ]
    },
    {
      "cell_type": "code",
      "metadata": {
        "id": "BDWbek-Yh-be",
        "colab": {
          "base_uri": "https://localhost:8080/",
          "height": 202
        },
        "outputId": "dfc59413-0d9b-4b2d-a661-7b027826d27b"
      },
      "source": [
        "# Answer below:\n",
        "yelp['norm_text'] = yelp['text'].apply(normalize)\n",
        "yelp.head()"
      ],
      "execution_count": 23,
      "outputs": [
        {
          "output_type": "execute_result",
          "data": {
            "text/html": [
              "<div>\n",
              "<style scoped>\n",
              "    .dataframe tbody tr th:only-of-type {\n",
              "        vertical-align: middle;\n",
              "    }\n",
              "\n",
              "    .dataframe tbody tr th {\n",
              "        vertical-align: top;\n",
              "    }\n",
              "\n",
              "    .dataframe thead th {\n",
              "        text-align: right;\n",
              "    }\n",
              "</style>\n",
              "<table border=\"1\" class=\"dataframe\">\n",
              "  <thead>\n",
              "    <tr style=\"text-align: right;\">\n",
              "      <th></th>\n",
              "      <th>text</th>\n",
              "      <th>sentiment</th>\n",
              "      <th>norm_text</th>\n",
              "    </tr>\n",
              "  </thead>\n",
              "  <tbody>\n",
              "    <tr>\n",
              "      <th>0</th>\n",
              "      <td>Wow... Loved this place.</td>\n",
              "      <td>1</td>\n",
              "      <td>wow  love place</td>\n",
              "    </tr>\n",
              "    <tr>\n",
              "      <th>1</th>\n",
              "      <td>Crust is not good.</td>\n",
              "      <td>0</td>\n",
              "      <td>crust not good</td>\n",
              "    </tr>\n",
              "    <tr>\n",
              "      <th>2</th>\n",
              "      <td>Not tasty and the texture was just nasty.</td>\n",
              "      <td>0</td>\n",
              "      <td>not tasti textur nasti</td>\n",
              "    </tr>\n",
              "    <tr>\n",
              "      <th>3</th>\n",
              "      <td>Stopped by during the late May bank holiday of...</td>\n",
              "      <td>1</td>\n",
              "      <td>stop late may bank holiday rick steve recommen...</td>\n",
              "    </tr>\n",
              "    <tr>\n",
              "      <th>4</th>\n",
              "      <td>The selection on the menu was great and so wer...</td>\n",
              "      <td>1</td>\n",
              "      <td>select menu great price</td>\n",
              "    </tr>\n",
              "  </tbody>\n",
              "</table>\n",
              "</div>"
            ],
            "text/plain": [
              "                                                text  ...                                          norm_text\n",
              "0                           Wow... Loved this place.  ...                                   wow  love place \n",
              "1                                 Crust is not good.  ...                                    crust not good \n",
              "2          Not tasty and the texture was just nasty.  ...                            not tasti textur nasti \n",
              "3  Stopped by during the late May bank holiday of...  ...  stop late may bank holiday rick steve recommen...\n",
              "4  The selection on the menu was great and so wer...  ...                           select menu great price \n",
              "\n",
              "[5 rows x 3 columns]"
            ]
          },
          "metadata": {
            "tags": []
          },
          "execution_count": 23
        }
      ]
    },
    {
      "cell_type": "markdown",
      "metadata": {
        "id": "tywlufjyh-bf"
      },
      "source": [
        "Next, use the one hot function for text encoding and encode the normalized text. Determine the vocabulary size to perform the encoding."
      ]
    },
    {
      "cell_type": "code",
      "metadata": {
        "colab": {
          "base_uri": "https://localhost:8080/"
        },
        "id": "yUWjcKNL6EG_",
        "outputId": "195ec79f-3802-49c3-8627-06492c424d9d"
      },
      "source": [
        "from nltk import word_tokenize\r\n",
        "vocab_size = len(set(''.join(yelp.norm_text).split()))\r\n",
        "vocab_size"
      ],
      "execution_count": 24,
      "outputs": [
        {
          "output_type": "execute_result",
          "data": {
            "text/plain": [
              "1637"
            ]
          },
          "metadata": {
            "tags": []
          },
          "execution_count": 24
        }
      ]
    },
    {
      "cell_type": "code",
      "metadata": {
        "id": "NWKnOSd_h-bg",
        "colab": {
          "base_uri": "https://localhost:8080/"
        },
        "outputId": "e1673a58-a0b0-4f31-85aa-951687a53993"
      },
      "source": [
        "# Answer below:\n",
        "from tensorflow.keras.preprocessing.text import one_hot\n",
        "\n",
        "docs = yelp.norm_text\n",
        "\n",
        "encoded_docs = [one_hot(doc, vocab_size) for doc in docs]\n",
        "encoded_docs[:5]"
      ],
      "execution_count": 25,
      "outputs": [
        {
          "output_type": "execute_result",
          "data": {
            "text/plain": [
              "[[1601, 123, 1627],\n",
              " [554, 1243, 1113],\n",
              " [1243, 983, 1402, 250],\n",
              " [779, 1229, 1073, 457, 894, 1002, 555, 96, 123, 1612],\n",
              " [205, 303, 821, 947]]"
            ]
          },
          "metadata": {
            "tags": []
          },
          "execution_count": 25
        }
      ]
    },
    {
      "cell_type": "markdown",
      "metadata": {
        "id": "FnRMy2S0h-bh"
      },
      "source": [
        "Convert the encoded sequences into a numpy array and make sure all reviews are the same length using the `pad_sequences` function in Keras."
      ]
    },
    {
      "cell_type": "code",
      "metadata": {
        "id": "pk24Behch-bi",
        "colab": {
          "base_uri": "https://localhost:8080/"
        },
        "outputId": "15172813-29e9-4128-8cd2-e61ce3ad3cf3"
      },
      "source": [
        "# Answer below:\n",
        "from tensorflow.keras.preprocessing.sequence import pad_sequences\n",
        "\n",
        "ind_vars = pad_sequences(encoded_docs)\n",
        "ind_vars[:5]"
      ],
      "execution_count": 26,
      "outputs": [
        {
          "output_type": "execute_result",
          "data": {
            "text/plain": [
              "array([[   0,    0,    0,    0,    0,    0,    0,    0,    0,    0,    0,\n",
              "           0,    0,    0,    0,    0,    0,    0,    0,    0,    0,    0,\n",
              "           0,    0,    0,    0,    0,    0,    0,    0,    0,    0,    0,\n",
              "           0,    0,    0,    0,    0,    0,    0,    0,    0,    0,    0,\n",
              "           0,    0,    0,    0,    0,    0,    0,    0,    0,    0,    0,\n",
              "           0,    0,    0,    0,    0,    0,    0,    0,    0,    0,    0,\n",
              "           0,    0,    0,    0,    0,    0,    0,    0,    0,    0,    0,\n",
              "           0,    0,    0, 1601,  123, 1627],\n",
              "       [   0,    0,    0,    0,    0,    0,    0,    0,    0,    0,    0,\n",
              "           0,    0,    0,    0,    0,    0,    0,    0,    0,    0,    0,\n",
              "           0,    0,    0,    0,    0,    0,    0,    0,    0,    0,    0,\n",
              "           0,    0,    0,    0,    0,    0,    0,    0,    0,    0,    0,\n",
              "           0,    0,    0,    0,    0,    0,    0,    0,    0,    0,    0,\n",
              "           0,    0,    0,    0,    0,    0,    0,    0,    0,    0,    0,\n",
              "           0,    0,    0,    0,    0,    0,    0,    0,    0,    0,    0,\n",
              "           0,    0,    0,  554, 1243, 1113],\n",
              "       [   0,    0,    0,    0,    0,    0,    0,    0,    0,    0,    0,\n",
              "           0,    0,    0,    0,    0,    0,    0,    0,    0,    0,    0,\n",
              "           0,    0,    0,    0,    0,    0,    0,    0,    0,    0,    0,\n",
              "           0,    0,    0,    0,    0,    0,    0,    0,    0,    0,    0,\n",
              "           0,    0,    0,    0,    0,    0,    0,    0,    0,    0,    0,\n",
              "           0,    0,    0,    0,    0,    0,    0,    0,    0,    0,    0,\n",
              "           0,    0,    0,    0,    0,    0,    0,    0,    0,    0,    0,\n",
              "           0,    0, 1243,  983, 1402,  250],\n",
              "       [   0,    0,    0,    0,    0,    0,    0,    0,    0,    0,    0,\n",
              "           0,    0,    0,    0,    0,    0,    0,    0,    0,    0,    0,\n",
              "           0,    0,    0,    0,    0,    0,    0,    0,    0,    0,    0,\n",
              "           0,    0,    0,    0,    0,    0,    0,    0,    0,    0,    0,\n",
              "           0,    0,    0,    0,    0,    0,    0,    0,    0,    0,    0,\n",
              "           0,    0,    0,    0,    0,    0,    0,    0,    0,    0,    0,\n",
              "           0,    0,    0,    0,    0,    0,    0,  779, 1229, 1073,  457,\n",
              "         894, 1002,  555,   96,  123, 1612],\n",
              "       [   0,    0,    0,    0,    0,    0,    0,    0,    0,    0,    0,\n",
              "           0,    0,    0,    0,    0,    0,    0,    0,    0,    0,    0,\n",
              "           0,    0,    0,    0,    0,    0,    0,    0,    0,    0,    0,\n",
              "           0,    0,    0,    0,    0,    0,    0,    0,    0,    0,    0,\n",
              "           0,    0,    0,    0,    0,    0,    0,    0,    0,    0,    0,\n",
              "           0,    0,    0,    0,    0,    0,    0,    0,    0,    0,    0,\n",
              "           0,    0,    0,    0,    0,    0,    0,    0,    0,    0,    0,\n",
              "           0,    0,  205,  303,  821,  947]], dtype=int32)"
            ]
          },
          "metadata": {
            "tags": []
          },
          "execution_count": 26
        }
      ]
    },
    {
      "cell_type": "markdown",
      "metadata": {
        "id": "XIclszsJh-bj"
      },
      "source": [
        "Split the data into train and test. Use 20% for test. The sentiment column should be used as the target variable."
      ]
    },
    {
      "cell_type": "code",
      "metadata": {
        "id": "zlaZSo-Yh-bk"
      },
      "source": [
        "# Answer below:\n",
        "from sklearn.model_selection import train_test_split\n",
        "\n",
        "y = yelp['sentiment']\n",
        "X = ind_vars\n",
        "\n",
        "X_train, X_test, y_train, y_test = train_test_split(X, y, test_size=0.2)"
      ],
      "execution_count": 27,
      "outputs": []
    },
    {
      "cell_type": "code",
      "metadata": {
        "colab": {
          "base_uri": "https://localhost:8080/"
        },
        "id": "1JWL9OQX_L5d",
        "outputId": "86768e9d-aef1-4e11-9fa5-f7f780de888e"
      },
      "source": [
        "X_train.shape, X_test.shape, y_train.shape, y_test.shape"
      ],
      "execution_count": 28,
      "outputs": [
        {
          "output_type": "execute_result",
          "data": {
            "text/plain": [
              "((780, 83), (196, 83), (780,), (196,))"
            ]
          },
          "metadata": {
            "tags": []
          },
          "execution_count": 28
        }
      ]
    },
    {
      "cell_type": "markdown",
      "metadata": {
        "id": "EAsqg_REh-bm"
      },
      "source": [
        "Create a sequential model. The model should contain an embedding layer with input dim that is the size of the largest encoding in the vocabulary. The output dim should be 100, the input length is the number of columns in the training data. \n",
        "After the embedding layer, add a SimpleRNN layer with unit size 32, a dense layer of size 8 and a dense output layer."
      ]
    },
    {
      "cell_type": "code",
      "metadata": {
        "colab": {
          "base_uri": "https://localhost:8080/"
        },
        "id": "txTW231T-Rkf",
        "outputId": "cd13c0c0-0ed1-4e0f-c679-04f486301e74"
      },
      "source": [
        "ind_vars.shape"
      ],
      "execution_count": 29,
      "outputs": [
        {
          "output_type": "execute_result",
          "data": {
            "text/plain": [
              "(976, 83)"
            ]
          },
          "metadata": {
            "tags": []
          },
          "execution_count": 29
        }
      ]
    },
    {
      "cell_type": "code",
      "metadata": {
        "id": "ssougKQUh-bm",
        "colab": {
          "base_uri": "https://localhost:8080/"
        },
        "outputId": "ad031947-419a-4d10-904e-5b71ee4e0e70"
      },
      "source": [
        "# Answer below:\n",
        "from tensorflow.keras import Sequential\n",
        "from tensorflow.keras.layers import Dense, Embedding, SimpleRNN\n",
        "\n",
        "model = Sequential()\n",
        "model.add(Embedding(input_dim=vocab_size, output_dim=100 , input_length=ind_vars.shape[1]))\n",
        "model.add(SimpleRNN(32))\n",
        "model.add(Dense(8, activation='relu'))\n",
        "model.add(Dense(1, activation='sigmoid'))\n",
        "model.summary()"
      ],
      "execution_count": 30,
      "outputs": [
        {
          "output_type": "stream",
          "text": [
            "Model: \"sequential_2\"\n",
            "_________________________________________________________________\n",
            "Layer (type)                 Output Shape              Param #   \n",
            "=================================================================\n",
            "embedding_2 (Embedding)      (None, 83, 100)           163700    \n",
            "_________________________________________________________________\n",
            "simple_rnn_2 (SimpleRNN)     (None, 32)                4256      \n",
            "_________________________________________________________________\n",
            "dense_4 (Dense)              (None, 8)                 264       \n",
            "_________________________________________________________________\n",
            "dense_5 (Dense)              (None, 1)                 9         \n",
            "=================================================================\n",
            "Total params: 168,229\n",
            "Trainable params: 168,229\n",
            "Non-trainable params: 0\n",
            "_________________________________________________________________\n"
          ],
          "name": "stdout"
        }
      ]
    },
    {
      "cell_type": "markdown",
      "metadata": {
        "id": "tjgqWnioh-bo"
      },
      "source": [
        "Compile using the optimizer of your choice, use crossentropy for your loss function. Fit the model using a batch size of 128 and 50 epochs"
      ]
    },
    {
      "cell_type": "code",
      "metadata": {
        "id": "ewNbf3fKh-bo",
        "colab": {
          "base_uri": "https://localhost:8080/"
        },
        "outputId": "13cf6f94-2c47-4925-e6b0-01ca631f6467"
      },
      "source": [
        "# Answer below:\n",
        "model.compile(loss='binary_crossentropy', optimizer='adam', metrics=['accuracy'])\n",
        "model.fit(\n",
        "    X_train,  \n",
        "    y_train, \n",
        "    batch_size=128,  \n",
        "    epochs=50, \n",
        "    validation_data=(X_test, y_test)\n",
        "    )"
      ],
      "execution_count": 31,
      "outputs": [
        {
          "output_type": "stream",
          "text": [
            "Epoch 1/50\n",
            "7/7 [==============================] - 2s 113ms/step - loss: 0.6882 - accuracy: 0.5437 - val_loss: 0.7009 - val_accuracy: 0.4439\n",
            "Epoch 2/50\n",
            "7/7 [==============================] - 1s 97ms/step - loss: 0.6526 - accuracy: 0.6283 - val_loss: 0.6941 - val_accuracy: 0.4592\n",
            "Epoch 3/50\n",
            "7/7 [==============================] - 0s 72ms/step - loss: 0.6111 - accuracy: 0.7198 - val_loss: 0.6905 - val_accuracy: 0.4694\n",
            "Epoch 4/50\n",
            "7/7 [==============================] - 1s 75ms/step - loss: 0.5629 - accuracy: 0.7481 - val_loss: 0.6452 - val_accuracy: 0.6122\n",
            "Epoch 5/50\n",
            "7/7 [==============================] - 1s 74ms/step - loss: 0.4790 - accuracy: 0.9227 - val_loss: 0.6039 - val_accuracy: 0.6939\n",
            "Epoch 6/50\n",
            "7/7 [==============================] - 1s 74ms/step - loss: 0.4039 - accuracy: 0.9544 - val_loss: 0.5408 - val_accuracy: 0.7500\n",
            "Epoch 7/50\n",
            "7/7 [==============================] - 0s 72ms/step - loss: 0.3336 - accuracy: 0.9597 - val_loss: 0.5371 - val_accuracy: 0.7347\n",
            "Epoch 8/50\n",
            "7/7 [==============================] - 1s 77ms/step - loss: 0.2589 - accuracy: 0.9794 - val_loss: 0.4872 - val_accuracy: 0.7653\n",
            "Epoch 9/50\n",
            "7/7 [==============================] - 1s 76ms/step - loss: 0.2035 - accuracy: 0.9804 - val_loss: 0.4611 - val_accuracy: 0.7755\n",
            "Epoch 10/50\n",
            "7/7 [==============================] - 0s 72ms/step - loss: 0.1513 - accuracy: 0.9883 - val_loss: 0.4626 - val_accuracy: 0.7704\n",
            "Epoch 11/50\n",
            "7/7 [==============================] - 1s 73ms/step - loss: 0.1207 - accuracy: 0.9864 - val_loss: 0.4544 - val_accuracy: 0.7806\n",
            "Epoch 12/50\n",
            "7/7 [==============================] - 1s 81ms/step - loss: 0.0905 - accuracy: 0.9921 - val_loss: 0.6442 - val_accuracy: 0.6888\n",
            "Epoch 13/50\n",
            "7/7 [==============================] - 1s 78ms/step - loss: 0.0969 - accuracy: 0.9682 - val_loss: 0.4564 - val_accuracy: 0.8061\n",
            "Epoch 14/50\n",
            "7/7 [==============================] - 1s 76ms/step - loss: 0.0771 - accuracy: 0.9862 - val_loss: 0.4980 - val_accuracy: 0.7704\n",
            "Epoch 15/50\n",
            "7/7 [==============================] - 1s 75ms/step - loss: 0.0550 - accuracy: 0.9976 - val_loss: 0.4968 - val_accuracy: 0.7908\n",
            "Epoch 16/50\n",
            "7/7 [==============================] - 1s 75ms/step - loss: 0.0531 - accuracy: 0.9973 - val_loss: 0.5352 - val_accuracy: 0.7806\n",
            "Epoch 17/50\n",
            "7/7 [==============================] - 1s 79ms/step - loss: 0.0430 - accuracy: 0.9956 - val_loss: 0.5174 - val_accuracy: 0.7959\n",
            "Epoch 18/50\n",
            "7/7 [==============================] - 1s 81ms/step - loss: 0.0371 - accuracy: 0.9975 - val_loss: 0.4881 - val_accuracy: 0.7908\n",
            "Epoch 19/50\n",
            "7/7 [==============================] - 1s 77ms/step - loss: 0.0351 - accuracy: 0.9957 - val_loss: 0.5097 - val_accuracy: 0.7908\n",
            "Epoch 20/50\n",
            "7/7 [==============================] - 1s 79ms/step - loss: 0.0285 - accuracy: 0.9983 - val_loss: 0.5711 - val_accuracy: 0.7755\n",
            "Epoch 21/50\n",
            "7/7 [==============================] - 1s 78ms/step - loss: 0.0308 - accuracy: 0.9991 - val_loss: 0.5288 - val_accuracy: 0.7857\n",
            "Epoch 22/50\n",
            "7/7 [==============================] - 1s 79ms/step - loss: 0.0207 - accuracy: 0.9986 - val_loss: 0.5065 - val_accuracy: 0.7857\n",
            "Epoch 23/50\n",
            "7/7 [==============================] - 1s 79ms/step - loss: 0.0226 - accuracy: 0.9991 - val_loss: 0.5406 - val_accuracy: 0.7806\n",
            "Epoch 24/50\n",
            "7/7 [==============================] - 1s 80ms/step - loss: 0.0184 - accuracy: 0.9988 - val_loss: 0.5583 - val_accuracy: 0.7806\n",
            "Epoch 25/50\n",
            "7/7 [==============================] - 1s 77ms/step - loss: 0.0155 - accuracy: 0.9993 - val_loss: 0.5726 - val_accuracy: 0.7857\n",
            "Epoch 26/50\n",
            "7/7 [==============================] - 1s 75ms/step - loss: 0.0162 - accuracy: 0.9973 - val_loss: 0.5912 - val_accuracy: 0.7806\n",
            "Epoch 27/50\n",
            "7/7 [==============================] - 1s 74ms/step - loss: 0.0129 - accuracy: 0.9993 - val_loss: 0.5972 - val_accuracy: 0.7806\n",
            "Epoch 28/50\n",
            "7/7 [==============================] - 1s 81ms/step - loss: 0.0113 - accuracy: 0.9993 - val_loss: 0.5971 - val_accuracy: 0.7908\n",
            "Epoch 29/50\n",
            "7/7 [==============================] - 1s 82ms/step - loss: 0.0137 - accuracy: 0.9973 - val_loss: 0.6194 - val_accuracy: 0.7806\n",
            "Epoch 30/50\n",
            "7/7 [==============================] - 1s 76ms/step - loss: 0.0112 - accuracy: 0.9988 - val_loss: 0.6163 - val_accuracy: 0.7806\n",
            "Epoch 31/50\n",
            "7/7 [==============================] - 1s 79ms/step - loss: 0.0088 - accuracy: 0.9993 - val_loss: 0.6390 - val_accuracy: 0.7857\n",
            "Epoch 32/50\n",
            "7/7 [==============================] - 1s 74ms/step - loss: 0.0105 - accuracy: 0.9983 - val_loss: 0.6459 - val_accuracy: 0.7857\n",
            "Epoch 33/50\n",
            "7/7 [==============================] - 1s 77ms/step - loss: 0.0098 - accuracy: 0.9983 - val_loss: 0.6321 - val_accuracy: 0.7806\n",
            "Epoch 34/50\n",
            "7/7 [==============================] - 1s 80ms/step - loss: 0.0074 - accuracy: 0.9991 - val_loss: 0.6555 - val_accuracy: 0.7857\n",
            "Epoch 35/50\n",
            "7/7 [==============================] - 1s 74ms/step - loss: 0.0100 - accuracy: 0.9973 - val_loss: 0.6675 - val_accuracy: 0.7857\n",
            "Epoch 36/50\n",
            "7/7 [==============================] - 1s 77ms/step - loss: 0.0085 - accuracy: 0.9988 - val_loss: 0.6617 - val_accuracy: 0.7857\n",
            "Epoch 37/50\n",
            "7/7 [==============================] - 1s 78ms/step - loss: 0.0099 - accuracy: 0.9973 - val_loss: 0.6759 - val_accuracy: 0.7857\n",
            "Epoch 38/50\n",
            "7/7 [==============================] - 1s 77ms/step - loss: 0.0096 - accuracy: 0.9973 - val_loss: 0.6830 - val_accuracy: 0.7806\n",
            "Epoch 39/50\n",
            "7/7 [==============================] - 1s 76ms/step - loss: 0.0075 - accuracy: 0.9993 - val_loss: 0.6922 - val_accuracy: 0.7857\n",
            "Epoch 40/50\n",
            "7/7 [==============================] - 0s 73ms/step - loss: 0.0059 - accuracy: 0.9993 - val_loss: 0.6764 - val_accuracy: 0.7704\n",
            "Epoch 41/50\n",
            "7/7 [==============================] - 1s 76ms/step - loss: 0.0077 - accuracy: 0.9973 - val_loss: 0.7099 - val_accuracy: 0.7857\n",
            "Epoch 42/50\n",
            "7/7 [==============================] - 1s 77ms/step - loss: 0.0086 - accuracy: 0.9973 - val_loss: 0.7115 - val_accuracy: 0.7857\n",
            "Epoch 43/50\n",
            "7/7 [==============================] - 1s 76ms/step - loss: 0.0052 - accuracy: 0.9995 - val_loss: 0.7144 - val_accuracy: 0.7857\n",
            "Epoch 44/50\n",
            "7/7 [==============================] - 1s 78ms/step - loss: 0.0064 - accuracy: 0.9983 - val_loss: 0.7291 - val_accuracy: 0.7857\n",
            "Epoch 45/50\n",
            "7/7 [==============================] - 1s 77ms/step - loss: 0.0115 - accuracy: 0.9986 - val_loss: 0.7261 - val_accuracy: 0.7857\n",
            "Epoch 46/50\n",
            "7/7 [==============================] - 1s 77ms/step - loss: 0.0161 - accuracy: 0.9973 - val_loss: 0.6859 - val_accuracy: 0.7857\n",
            "Epoch 47/50\n",
            "7/7 [==============================] - 1s 73ms/step - loss: 0.0100 - accuracy: 0.9973 - val_loss: 0.7074 - val_accuracy: 0.8010\n",
            "Epoch 48/50\n",
            "7/7 [==============================] - 1s 75ms/step - loss: 0.0083 - accuracy: 0.9988 - val_loss: 0.7220 - val_accuracy: 0.8061\n",
            "Epoch 49/50\n",
            "7/7 [==============================] - 1s 78ms/step - loss: 0.0083 - accuracy: 0.9973 - val_loss: 0.7582 - val_accuracy: 0.7857\n",
            "Epoch 50/50\n",
            "7/7 [==============================] - 1s 98ms/step - loss: 0.0053 - accuracy: 0.9993 - val_loss: 0.7216 - val_accuracy: 0.7908\n"
          ],
          "name": "stdout"
        },
        {
          "output_type": "execute_result",
          "data": {
            "text/plain": [
              "<tensorflow.python.keras.callbacks.History at 0x7fc86cbc76d8>"
            ]
          },
          "metadata": {
            "tags": []
          },
          "execution_count": 31
        }
      ]
    },
    {
      "cell_type": "code",
      "metadata": {
        "id": "jk88z8R8h-bq"
      },
      "source": [
        ""
      ],
      "execution_count": 31,
      "outputs": []
    }
  ]
}