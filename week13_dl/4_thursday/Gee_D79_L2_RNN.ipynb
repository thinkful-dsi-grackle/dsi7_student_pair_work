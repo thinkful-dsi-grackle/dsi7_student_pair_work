{
  "nbformat": 4,
  "nbformat_minor": 0,
  "metadata": {
    "kernelspec": {
      "display_name": "Python 3",
      "language": "python",
      "name": "python3"
    },
    "language_info": {
      "codemirror_mode": {
        "name": "ipython",
        "version": 3
      },
      "file_extension": ".py",
      "mimetype": "text/x-python",
      "name": "python",
      "nbconvert_exporter": "python",
      "pygments_lexer": "ipython3",
      "version": "3.7.0"
    },
    "colab": {
      "name": "Gee_D79_L2_RNN.ipynb",
      "provenance": [],
      "collapsed_sections": []
    }
  },
  "cells": [
    {
      "cell_type": "markdown",
      "metadata": {
        "id": "oQfS-31Jh-bL"
      },
      "source": [
        "## Recurrent Neural Networks\n",
        "\n",
        "In this assignment, we will learn about recurrent neural networks. We will create an RNN and learn to classify text data."
      ]
    },
    {
      "cell_type": "code",
      "metadata": {
        "id": "BOy993_Xh-bM"
      },
      "source": [
        "import warnings\n",
        "warnings.filterwarnings(\"ignore\")\n",
        "\n",
        "import numpy as np\n",
        "import pandas as pd\n",
        "import spacy\n",
        "import nltk\n",
        "from tensorflow.keras.preprocessing.text import one_hot\n",
        "from tensorflow.keras.preprocessing.sequence import pad_sequences\n",
        "from tensorflow.keras.models import Sequential\n",
        "from tensorflow.keras.layers import Dense, Embedding, SimpleRNN\n",
        "from sklearn.model_selection import train_test_split\n"
      ],
      "execution_count": 122,
      "outputs": []
    },
    {
      "cell_type": "code",
      "metadata": {
        "colab": {
          "base_uri": "https://localhost:8080/"
        },
        "id": "EXyZd_qtfFrk",
        "outputId": "18c19e6c-966a-4a95-95bb-45b5d391a316"
      },
      "source": [
        "nltk.download('stopwords')"
      ],
      "execution_count": 29,
      "outputs": [
        {
          "output_type": "stream",
          "text": [
            "[nltk_data] Downloading package stopwords to /root/nltk_data...\n",
            "[nltk_data]   Unzipping corpora/stopwords.zip.\n"
          ],
          "name": "stdout"
        },
        {
          "output_type": "execute_result",
          "data": {
            "text/plain": [
              "True"
            ]
          },
          "metadata": {
            "tags": []
          },
          "execution_count": 29
        }
      ]
    },
    {
      "cell_type": "code",
      "metadata": {
        "id": "ToNRsZf5h-bP",
        "colab": {
          "base_uri": "https://localhost:8080/"
        },
        "outputId": "19a6d206-e5fd-412b-b21d-d703fc482401"
      },
      "source": [
        "yelp = pd.read_csv('https://tf-assets-prod.s3.amazonaws.com/tf-curric/data-science/yelp_labeled.csv', error_bad_lines=False)"
      ],
      "execution_count": 2,
      "outputs": [
        {
          "output_type": "stream",
          "text": [
            "b'Skipping line 281: expected 2 fields, saw 3\\nSkipping line 290: expected 2 fields, saw 3\\nSkipping line 296: expected 2 fields, saw 3\\nSkipping line 322: expected 2 fields, saw 3\\nSkipping line 373: expected 2 fields, saw 3\\nSkipping line 417: expected 2 fields, saw 3\\nSkipping line 427: expected 2 fields, saw 3\\nSkipping line 429: expected 2 fields, saw 3\\nSkipping line 577: expected 2 fields, saw 3\\nSkipping line 578: expected 2 fields, saw 3\\nSkipping line 611: expected 2 fields, saw 3\\nSkipping line 677: expected 2 fields, saw 3\\nSkipping line 771: expected 2 fields, saw 3\\nSkipping line 930: expected 2 fields, saw 3\\nSkipping line 979: expected 2 fields, saw 4\\nSkipping line 980: expected 2 fields, saw 3\\n'\n"
          ],
          "name": "stderr"
        }
      ]
    },
    {
      "cell_type": "code",
      "metadata": {
        "id": "7fKQfObOh-bX",
        "colab": {
          "base_uri": "https://localhost:8080/",
          "height": 204
        },
        "outputId": "daad894d-bae0-4fb2-9a9b-256e45936a66"
      },
      "source": [
        "yelp.head()"
      ],
      "execution_count": 3,
      "outputs": [
        {
          "output_type": "execute_result",
          "data": {
            "text/html": [
              "<div>\n",
              "<style scoped>\n",
              "    .dataframe tbody tr th:only-of-type {\n",
              "        vertical-align: middle;\n",
              "    }\n",
              "\n",
              "    .dataframe tbody tr th {\n",
              "        vertical-align: top;\n",
              "    }\n",
              "\n",
              "    .dataframe thead th {\n",
              "        text-align: right;\n",
              "    }\n",
              "</style>\n",
              "<table border=\"1\" class=\"dataframe\">\n",
              "  <thead>\n",
              "    <tr style=\"text-align: right;\">\n",
              "      <th></th>\n",
              "      <th>text</th>\n",
              "      <th>sentiment</th>\n",
              "    </tr>\n",
              "  </thead>\n",
              "  <tbody>\n",
              "    <tr>\n",
              "      <th>0</th>\n",
              "      <td>Wow... Loved this place.</td>\n",
              "      <td>1</td>\n",
              "    </tr>\n",
              "    <tr>\n",
              "      <th>1</th>\n",
              "      <td>Crust is not good.</td>\n",
              "      <td>0</td>\n",
              "    </tr>\n",
              "    <tr>\n",
              "      <th>2</th>\n",
              "      <td>Not tasty and the texture was just nasty.</td>\n",
              "      <td>0</td>\n",
              "    </tr>\n",
              "    <tr>\n",
              "      <th>3</th>\n",
              "      <td>Stopped by during the late May bank holiday of...</td>\n",
              "      <td>1</td>\n",
              "    </tr>\n",
              "    <tr>\n",
              "      <th>4</th>\n",
              "      <td>The selection on the menu was great and so wer...</td>\n",
              "      <td>1</td>\n",
              "    </tr>\n",
              "  </tbody>\n",
              "</table>\n",
              "</div>"
            ],
            "text/plain": [
              "                                                text  sentiment\n",
              "0                           Wow... Loved this place.          1\n",
              "1                                 Crust is not good.          0\n",
              "2          Not tasty and the texture was just nasty.          0\n",
              "3  Stopped by during the late May bank holiday of...          1\n",
              "4  The selection on the menu was great and so wer...          1"
            ]
          },
          "metadata": {
            "tags": []
          },
          "execution_count": 3
        }
      ]
    },
    {
      "cell_type": "code",
      "metadata": {
        "id": "yXyJFyo9h-bZ",
        "colab": {
          "base_uri": "https://localhost:8080/"
        },
        "outputId": "afb1caad-c31f-41e5-8e93-fdafd883232e"
      },
      "source": [
        "yelp.sentiment.value_counts()"
      ],
      "execution_count": 4,
      "outputs": [
        {
          "output_type": "execute_result",
          "data": {
            "text/plain": [
              "1    494\n",
              "0    482\n",
              "Name: sentiment, dtype: int64"
            ]
          },
          "metadata": {
            "tags": []
          },
          "execution_count": 4
        }
      ]
    },
    {
      "cell_type": "markdown",
      "metadata": {
        "id": "bp0a4qU9h-bb"
      },
      "source": [
        "We have loaded a Yelp review dataset above. A positive sentiment is classified as 1 and a negative sentiment is classified as 0. "
      ]
    },
    {
      "cell_type": "code",
      "metadata": {
        "id": "Zyboex_Vh-bb"
      },
      "source": [
        "from nltk.corpus import stopwords\n",
        "import re\n",
        "from nltk.stem.porter import PorterStemmer\n",
        "\n",
        "stemmer = PorterStemmer()\n",
        "\n",
        "def remove_stopwords(input_text):\n",
        "    stopwords_list = stopwords.words('english')\n",
        "    # Some words which might indicate a certain sentiment are kept via a whitelist\n",
        "    whitelist = [\"n't\", \"not\", \"no\"]\n",
        "    words = input_text.split() \n",
        "    clean_words = [word for word in words if (word not in stopwords_list or word in whitelist) and len(word) > 1] \n",
        "    return \" \".join(clean_words)       \n",
        "\n",
        "def stem_list(word_list):\n",
        "    stemmed = []\n",
        "    for word in word_list:\n",
        "        stemmedword = stemmer.stem(word)\n",
        "        stemmed.append(stemmedword)\n",
        "    return stemmed\n",
        "\n",
        "def normalize(terms):\n",
        "    terms = terms.lower()\n",
        "    terms = remove_stopwords(terms)\n",
        "    word_delimiters = u'[\\\\[\\\\]\\n.!?,;:\\t\\\\-\\\\\"\\\\(\\\\)\\\\\\'\\u2019\\u2013 ]'\n",
        "    term_list = re.split(word_delimiters, terms)\n",
        "    trimmed = [x.rstrip() for x in term_list]\n",
        "    stemmed = stem_list(trimmed)\n",
        "    space = ' '\n",
        "    normed = space.join(stemmed)\n",
        "    normed = normed.replace('  ', ' ')\n",
        "    return normed"
      ],
      "execution_count": 5,
      "outputs": []
    },
    {
      "cell_type": "markdown",
      "metadata": {
        "id": "CsuGlOW8h-bd"
      },
      "source": [
        "In the code block above, we have functions to remove stopwords, stem, and normalize the text (remove special characters and trim white space). Apply the normalize function to every yelp review and assign the normalized text to a new column."
      ]
    },
    {
      "cell_type": "code",
      "metadata": {
        "colab": {
          "base_uri": "https://localhost:8080/"
        },
        "id": "-ih8US5ydzgE",
        "outputId": "4485255d-f71d-4adc-db14-52c484f89874"
      },
      "source": [
        "for a in yelp['text'][1].split():\r\n",
        "  a = normalize(a)\r\n",
        "  print(a)"
      ],
      "execution_count": 30,
      "outputs": [
        {
          "output_type": "stream",
          "text": [
            "crust\n",
            "\n",
            "not\n",
            "good \n"
          ],
          "name": "stdout"
        }
      ]
    },
    {
      "cell_type": "code",
      "metadata": {
        "id": "kiPJbBxkfhd_"
      },
      "source": [
        "# Answer below:\r\n",
        "\r\n",
        "yelp['clean'] = ''\r\n",
        "for i in range(yelp.shape[0]):\r\n",
        "  temp = ''\r\n",
        "  for word in yelp['text'][i].split():\r\n",
        "    b = normalize(word)\r\n",
        "    temp += (str(b)+' ')\r\n",
        "  yelp['clean'][i] = temp"
      ],
      "execution_count": 51,
      "outputs": []
    },
    {
      "cell_type": "code",
      "metadata": {
        "colab": {
          "base_uri": "https://localhost:8080/"
        },
        "id": "D3RwrMmFgOy2",
        "outputId": "9ded024e-5ded-4921-a0c6-bcf5db5991b2"
      },
      "source": [
        "yelp['clean'].head()"
      ],
      "execution_count": 52,
      "outputs": [
        {
          "output_type": "execute_result",
          "data": {
            "text/plain": [
              "0                                  wow   love  place  \n",
              "1                                    crust  not good  \n",
              "2                         not tasti   textur   nasti  \n",
              "3    stop    late may bank holiday  rick steve reco...\n",
              "4                     select   menu  great     price  \n",
              "Name: clean, dtype: object"
            ]
          },
          "metadata": {
            "tags": []
          },
          "execution_count": 52
        }
      ]
    },
    {
      "cell_type": "markdown",
      "metadata": {
        "id": "tywlufjyh-bf"
      },
      "source": [
        "Next, use the one hot function for text encoding and encode the normalized text. Determine the vocabulary size to perform the encoding."
      ]
    },
    {
      "cell_type": "code",
      "metadata": {
        "id": "1R5VWkm6jWeF"
      },
      "source": [
        "vocab = []\r\n",
        "for i in range(yelp.shape[0]):\r\n",
        "  temp = []\r\n",
        "  for a in yelp['clean'][i].split():\r\n",
        "    temp.append(a)\r\n",
        "  vocab += temp"
      ],
      "execution_count": 75,
      "outputs": []
    },
    {
      "cell_type": "code",
      "metadata": {
        "id": "dapLH4yrksbS"
      },
      "source": [
        "vocab = len(set(vocab))"
      ],
      "execution_count": 148,
      "outputs": []
    },
    {
      "cell_type": "code",
      "metadata": {
        "id": "NWKnOSd_h-bg"
      },
      "source": [
        "# Answer below:\n",
        "encoded = []\n",
        "for i in range(yelp.shape[0]):\n",
        "  temp = []\n",
        "  for a in yelp['clean'][i].split():\n",
        "    b = one_hot(a, vocab)\n",
        "    temp.extend(b)\n",
        "  encoded.append(temp)"
      ],
      "execution_count": 150,
      "outputs": []
    },
    {
      "cell_type": "code",
      "metadata": {
        "colab": {
          "base_uri": "https://localhost:8080/",
          "height": 35
        },
        "id": "0f_pkYHOmwC9",
        "outputId": "11103677-287b-4652-d6d6-cf0133533ee3"
      },
      "source": [
        "yelp['clean'][0]"
      ],
      "execution_count": 151,
      "outputs": [
        {
          "output_type": "execute_result",
          "data": {
            "application/vnd.google.colaboratory.intrinsic+json": {
              "type": "string"
            },
            "text/plain": [
              "'wow   love  place  '"
            ]
          },
          "metadata": {
            "tags": []
          },
          "execution_count": 151
        }
      ]
    },
    {
      "cell_type": "code",
      "metadata": {
        "id": "twjWcq1Ol_qX"
      },
      "source": [
        "encoded"
      ],
      "execution_count": null,
      "outputs": []
    },
    {
      "cell_type": "markdown",
      "metadata": {
        "id": "FnRMy2S0h-bh"
      },
      "source": [
        "Convert the encoded sequences into a numpy array and make sure all reviews are the same length using the `pad_sequences` function in Keras."
      ]
    },
    {
      "cell_type": "code",
      "metadata": {
        "id": "pk24Behch-bi",
        "colab": {
          "base_uri": "https://localhost:8080/"
        },
        "outputId": "0d2f71bd-2cf5-41cf-974e-8337751f36a2"
      },
      "source": [
        "# Answer below:\n",
        "features_array = pad_sequences(encoded)\n",
        "features_array.shape"
      ],
      "execution_count": 155,
      "outputs": [
        {
          "output_type": "execute_result",
          "data": {
            "text/plain": [
              "(976, 83)"
            ]
          },
          "metadata": {
            "tags": []
          },
          "execution_count": 155
        }
      ]
    },
    {
      "cell_type": "code",
      "metadata": {
        "colab": {
          "base_uri": "https://localhost:8080/"
        },
        "id": "GaZ4bf5_qy4T",
        "outputId": "1293d019-55c6-4471-9c02-9995c6c8dd23"
      },
      "source": [
        "maxw = np.max(features_array)\r\n",
        "maxw"
      ],
      "execution_count": 156,
      "outputs": [
        {
          "output_type": "execute_result",
          "data": {
            "text/plain": [
              "1627"
            ]
          },
          "metadata": {
            "tags": []
          },
          "execution_count": 156
        }
      ]
    },
    {
      "cell_type": "markdown",
      "metadata": {
        "id": "XIclszsJh-bj"
      },
      "source": [
        "Split the data into train and test. Use 20% for test. The sentiment column should be used as the target variable."
      ]
    },
    {
      "cell_type": "code",
      "metadata": {
        "id": "zlaZSo-Yh-bk"
      },
      "source": [
        "# Answer below:\n",
        "X_train, X_test, y_train, y_test = train_test_split(features_array, yelp['sentiment'], test_size=0.2)"
      ],
      "execution_count": 157,
      "outputs": []
    },
    {
      "cell_type": "markdown",
      "metadata": {
        "id": "EAsqg_REh-bm"
      },
      "source": [
        "Create a sequential model. The model should contain an embedding layer with input dim that is the size of the largest encoding in the vocabulary. The output dim should be 100, the input length is the number of columns in the training data. \n",
        "After the embedding layer, add a SimpleRNN layer with unit size 32, a dense layer of size 8 and a dense output layer."
      ]
    },
    {
      "cell_type": "code",
      "metadata": {
        "id": "ssougKQUh-bm",
        "colab": {
          "base_uri": "https://localhost:8080/"
        },
        "outputId": "c134e315-28d8-4b7f-c848-c11d26f3cb1d"
      },
      "source": [
        "# Answer below:\n",
        "model = Sequential()\n",
        "model.add(Embedding(maxw+1, output_dim=100, input_length=features_array.shape[1]))\n",
        "model.add(SimpleRNN(32))\n",
        "model.add(Dense(8, activation='relu'))\n",
        "model.add(Dense(1, activation='sigmoid'))\n",
        "model.summary()"
      ],
      "execution_count": 160,
      "outputs": [
        {
          "output_type": "stream",
          "text": [
            "Model: \"sequential_5\"\n",
            "_________________________________________________________________\n",
            "Layer (type)                 Output Shape              Param #   \n",
            "=================================================================\n",
            "embedding_5 (Embedding)      (None, 83, 100)           162800    \n",
            "_________________________________________________________________\n",
            "simple_rnn_5 (SimpleRNN)     (None, 32)                4256      \n",
            "_________________________________________________________________\n",
            "dense_10 (Dense)             (None, 8)                 264       \n",
            "_________________________________________________________________\n",
            "dense_11 (Dense)             (None, 1)                 9         \n",
            "=================================================================\n",
            "Total params: 167,329\n",
            "Trainable params: 167,329\n",
            "Non-trainable params: 0\n",
            "_________________________________________________________________\n"
          ],
          "name": "stdout"
        }
      ]
    },
    {
      "cell_type": "markdown",
      "metadata": {
        "id": "tjgqWnioh-bo"
      },
      "source": [
        "Compile using the optimizer of your choice, use crossentropy for your loss function. Fit the model using a batch size of 128 and 50 epochs"
      ]
    },
    {
      "cell_type": "code",
      "metadata": {
        "id": "ewNbf3fKh-bo",
        "colab": {
          "base_uri": "https://localhost:8080/"
        },
        "outputId": "67b09356-1c53-4d4f-fd72-cbc89d5cf6ea"
      },
      "source": [
        "# Answer below:\n",
        "model.compile(optimizer='adam', loss='binary_crossentropy', metrics=['accuracy'])\n",
        "model.fit(X_train, y_train, validation_data=(X_test, y_test), batch_size=128 , epochs=50 )"
      ],
      "execution_count": 161,
      "outputs": [
        {
          "output_type": "stream",
          "text": [
            "Epoch 1/50\n",
            "7/7 [==============================] - 2s 106ms/step - loss: 0.6925 - accuracy: 0.5112 - val_loss: 0.6935 - val_accuracy: 0.4490\n",
            "Epoch 2/50\n",
            "7/7 [==============================] - 0s 39ms/step - loss: 0.6775 - accuracy: 0.7159 - val_loss: 0.6919 - val_accuracy: 0.4847\n",
            "Epoch 3/50\n",
            "7/7 [==============================] - 0s 38ms/step - loss: 0.6569 - accuracy: 0.8506 - val_loss: 0.6876 - val_accuracy: 0.5663\n",
            "Epoch 4/50\n",
            "7/7 [==============================] - 0s 37ms/step - loss: 0.6324 - accuracy: 0.8251 - val_loss: 0.6861 - val_accuracy: 0.5663\n",
            "Epoch 5/50\n",
            "7/7 [==============================] - 0s 38ms/step - loss: 0.6068 - accuracy: 0.7575 - val_loss: 0.6811 - val_accuracy: 0.5459\n",
            "Epoch 6/50\n",
            "7/7 [==============================] - 0s 37ms/step - loss: 0.5612 - accuracy: 0.8391 - val_loss: 0.7019 - val_accuracy: 0.5255\n",
            "Epoch 7/50\n",
            "7/7 [==============================] - 0s 37ms/step - loss: 0.5256 - accuracy: 0.8247 - val_loss: 0.6809 - val_accuracy: 0.5714\n",
            "Epoch 8/50\n",
            "7/7 [==============================] - 0s 35ms/step - loss: 0.4608 - accuracy: 0.9251 - val_loss: 0.6555 - val_accuracy: 0.5918\n",
            "Epoch 9/50\n",
            "7/7 [==============================] - 0s 36ms/step - loss: 0.3935 - accuracy: 0.9396 - val_loss: 0.6595 - val_accuracy: 0.5918\n",
            "Epoch 10/50\n",
            "7/7 [==============================] - 0s 38ms/step - loss: 0.3343 - accuracy: 0.9574 - val_loss: 0.6448 - val_accuracy: 0.6020\n",
            "Epoch 11/50\n",
            "7/7 [==============================] - 0s 36ms/step - loss: 0.2784 - accuracy: 0.9576 - val_loss: 0.6520 - val_accuracy: 0.5969\n",
            "Epoch 12/50\n",
            "7/7 [==============================] - 0s 36ms/step - loss: 0.2443 - accuracy: 0.9522 - val_loss: 0.6485 - val_accuracy: 0.6122\n",
            "Epoch 13/50\n",
            "7/7 [==============================] - 0s 40ms/step - loss: 0.1924 - accuracy: 0.9791 - val_loss: 0.6624 - val_accuracy: 0.6327\n",
            "Epoch 14/50\n",
            "7/7 [==============================] - 0s 40ms/step - loss: 0.1587 - accuracy: 0.9854 - val_loss: 0.6728 - val_accuracy: 0.6327\n",
            "Epoch 15/50\n",
            "7/7 [==============================] - 0s 37ms/step - loss: 0.1323 - accuracy: 0.9912 - val_loss: 0.6810 - val_accuracy: 0.6173\n",
            "Epoch 16/50\n",
            "7/7 [==============================] - 0s 38ms/step - loss: 0.1122 - accuracy: 0.9910 - val_loss: 0.7307 - val_accuracy: 0.6735\n",
            "Epoch 17/50\n",
            "7/7 [==============================] - 0s 37ms/step - loss: 0.1017 - accuracy: 0.9884 - val_loss: 0.6966 - val_accuracy: 0.6224\n",
            "Epoch 18/50\n",
            "7/7 [==============================] - 0s 38ms/step - loss: 0.0842 - accuracy: 0.9933 - val_loss: 0.7083 - val_accuracy: 0.6071\n",
            "Epoch 19/50\n",
            "7/7 [==============================] - 0s 40ms/step - loss: 0.0692 - accuracy: 0.9911 - val_loss: 0.7350 - val_accuracy: 0.6122\n",
            "Epoch 20/50\n",
            "7/7 [==============================] - 0s 38ms/step - loss: 0.0616 - accuracy: 0.9947 - val_loss: 0.7241 - val_accuracy: 0.6224\n",
            "Epoch 21/50\n",
            "7/7 [==============================] - 0s 36ms/step - loss: 0.0542 - accuracy: 0.9926 - val_loss: 0.7400 - val_accuracy: 0.6327\n",
            "Epoch 22/50\n",
            "7/7 [==============================] - 0s 41ms/step - loss: 0.0585 - accuracy: 0.9910 - val_loss: 0.7627 - val_accuracy: 0.6276\n",
            "Epoch 23/50\n",
            "7/7 [==============================] - 0s 39ms/step - loss: 0.0476 - accuracy: 0.9970 - val_loss: 0.7668 - val_accuracy: 0.6378\n",
            "Epoch 24/50\n",
            "7/7 [==============================] - 0s 38ms/step - loss: 0.0405 - accuracy: 0.9953 - val_loss: 0.7898 - val_accuracy: 0.6173\n",
            "Epoch 25/50\n",
            "7/7 [==============================] - 0s 39ms/step - loss: 0.0400 - accuracy: 0.9916 - val_loss: 0.7914 - val_accuracy: 0.6378\n",
            "Epoch 26/50\n",
            "7/7 [==============================] - 0s 38ms/step - loss: 0.0346 - accuracy: 0.9931 - val_loss: 0.8042 - val_accuracy: 0.6276\n",
            "Epoch 27/50\n",
            "7/7 [==============================] - 0s 36ms/step - loss: 0.0292 - accuracy: 0.9944 - val_loss: 0.8274 - val_accuracy: 0.6173\n",
            "Epoch 28/50\n",
            "7/7 [==============================] - 0s 37ms/step - loss: 0.0275 - accuracy: 0.9947 - val_loss: 0.8394 - val_accuracy: 0.6173\n",
            "Epoch 29/50\n",
            "7/7 [==============================] - 0s 37ms/step - loss: 0.0247 - accuracy: 0.9948 - val_loss: 0.8426 - val_accuracy: 0.6429\n",
            "Epoch 30/50\n",
            "7/7 [==============================] - 0s 37ms/step - loss: 0.0306 - accuracy: 0.9961 - val_loss: 0.8527 - val_accuracy: 0.6276\n",
            "Epoch 31/50\n",
            "7/7 [==============================] - 0s 39ms/step - loss: 0.0254 - accuracy: 0.9933 - val_loss: 0.8534 - val_accuracy: 0.6327\n",
            "Epoch 32/50\n",
            "7/7 [==============================] - 0s 36ms/step - loss: 0.0221 - accuracy: 0.9961 - val_loss: 0.8661 - val_accuracy: 0.6276\n",
            "Epoch 33/50\n",
            "7/7 [==============================] - 0s 38ms/step - loss: 0.0247 - accuracy: 0.9958 - val_loss: 0.8867 - val_accuracy: 0.6378\n",
            "Epoch 34/50\n",
            "7/7 [==============================] - 0s 38ms/step - loss: 0.0176 - accuracy: 0.9967 - val_loss: 0.8872 - val_accuracy: 0.6429\n",
            "Epoch 35/50\n",
            "7/7 [==============================] - 0s 43ms/step - loss: 0.0170 - accuracy: 0.9972 - val_loss: 0.8932 - val_accuracy: 0.6378\n",
            "Epoch 36/50\n",
            "7/7 [==============================] - 0s 36ms/step - loss: 0.0171 - accuracy: 0.9978 - val_loss: 0.9093 - val_accuracy: 0.6429\n",
            "Epoch 37/50\n",
            "7/7 [==============================] - 0s 38ms/step - loss: 0.0160 - accuracy: 0.9973 - val_loss: 0.9073 - val_accuracy: 0.6480\n",
            "Epoch 38/50\n",
            "7/7 [==============================] - 0s 37ms/step - loss: 0.0206 - accuracy: 0.9937 - val_loss: 0.9169 - val_accuracy: 0.6429\n",
            "Epoch 39/50\n",
            "7/7 [==============================] - 0s 64ms/step - loss: 0.0175 - accuracy: 0.9933 - val_loss: 0.9184 - val_accuracy: 0.6582\n",
            "Epoch 40/50\n",
            "7/7 [==============================] - 0s 39ms/step - loss: 0.0155 - accuracy: 0.9951 - val_loss: 0.9410 - val_accuracy: 0.6378\n",
            "Epoch 41/50\n",
            "7/7 [==============================] - 0s 37ms/step - loss: 0.0140 - accuracy: 0.9983 - val_loss: 0.9453 - val_accuracy: 0.6429\n",
            "Epoch 42/50\n",
            "7/7 [==============================] - 0s 39ms/step - loss: 0.0147 - accuracy: 0.9973 - val_loss: 0.9404 - val_accuracy: 0.6531\n",
            "Epoch 43/50\n",
            "7/7 [==============================] - 0s 42ms/step - loss: 0.0113 - accuracy: 0.9986 - val_loss: 0.9572 - val_accuracy: 0.6480\n",
            "Epoch 44/50\n",
            "7/7 [==============================] - 0s 39ms/step - loss: 0.0116 - accuracy: 0.9959 - val_loss: 0.9633 - val_accuracy: 0.6480\n",
            "Epoch 45/50\n",
            "7/7 [==============================] - 0s 39ms/step - loss: 0.0120 - accuracy: 0.9978 - val_loss: 0.9639 - val_accuracy: 0.6480\n",
            "Epoch 46/50\n",
            "7/7 [==============================] - 0s 37ms/step - loss: 0.0102 - accuracy: 0.9986 - val_loss: 0.9813 - val_accuracy: 0.6429\n",
            "Epoch 47/50\n",
            "7/7 [==============================] - 0s 36ms/step - loss: 0.0101 - accuracy: 0.9973 - val_loss: 0.9780 - val_accuracy: 0.6480\n",
            "Epoch 48/50\n",
            "7/7 [==============================] - 0s 38ms/step - loss: 0.0094 - accuracy: 0.9990 - val_loss: 0.9898 - val_accuracy: 0.6378\n",
            "Epoch 49/50\n",
            "7/7 [==============================] - 0s 43ms/step - loss: 0.0169 - accuracy: 0.9928 - val_loss: 0.9969 - val_accuracy: 0.6378\n",
            "Epoch 50/50\n",
            "7/7 [==============================] - 0s 36ms/step - loss: 0.0117 - accuracy: 0.9957 - val_loss: 1.0047 - val_accuracy: 0.6429\n"
          ],
          "name": "stdout"
        },
        {
          "output_type": "execute_result",
          "data": {
            "text/plain": [
              "<tensorflow.python.keras.callbacks.History at 0x7f6bbf1b61d0>"
            ]
          },
          "metadata": {
            "tags": []
          },
          "execution_count": 161
        }
      ]
    },
    {
      "cell_type": "code",
      "metadata": {
        "id": "jk88z8R8h-bq"
      },
      "source": [
        ""
      ],
      "execution_count": null,
      "outputs": []
    }
  ]
}