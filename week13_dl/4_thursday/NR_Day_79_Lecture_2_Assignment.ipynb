{
  "nbformat": 4,
  "nbformat_minor": 0,
  "metadata": {
    "kernelspec": {
      "display_name": "Python 3",
      "language": "python",
      "name": "python3"
    },
    "language_info": {
      "codemirror_mode": {
        "name": "ipython",
        "version": 3
      },
      "file_extension": ".py",
      "mimetype": "text/x-python",
      "name": "python",
      "nbconvert_exporter": "python",
      "pygments_lexer": "ipython3",
      "version": "3.7.0"
    },
    "colab": {
      "name": "NR Day 79 Lecture 2 Assignment",
      "provenance": [],
      "collapsed_sections": []
    }
  },
  "cells": [
    {
      "cell_type": "markdown",
      "metadata": {
        "id": "oQfS-31Jh-bL"
      },
      "source": [
        "## Recurrent Neural Networks\n",
        "\n",
        "In this assignment, we will learn about recurrent neural networks. We will create an RNN and learn to classify text data."
      ]
    },
    {
      "cell_type": "code",
      "metadata": {
        "colab": {
          "base_uri": "https://localhost:8080/",
          "height": 69
        },
        "id": "Z8vrcpRqVWsR",
        "outputId": "8d7ca0a2-a1ba-458d-d11c-e8a56f4f009c"
      },
      "source": [
        "import nltk\r\n",
        "nltk.download('stopwords')\r\n",
        "\r\n",
        "import tensorflow as tf\r\n",
        "tf.test.gpu_device_name()"
      ],
      "execution_count": 3,
      "outputs": [
        {
          "output_type": "stream",
          "text": [
            "[nltk_data] Downloading package stopwords to /root/nltk_data...\n",
            "[nltk_data]   Unzipping corpora/stopwords.zip.\n"
          ],
          "name": "stdout"
        },
        {
          "output_type": "execute_result",
          "data": {
            "application/vnd.google.colaboratory.intrinsic+json": {
              "type": "string"
            },
            "text/plain": [
              "''"
            ]
          },
          "metadata": {
            "tags": []
          },
          "execution_count": 3
        }
      ]
    },
    {
      "cell_type": "code",
      "metadata": {
        "id": "BOy993_Xh-bM"
      },
      "source": [
        "import warnings\n",
        "warnings.filterwarnings(\"ignore\")\n",
        "from tensorflow.keras.preprocessing.text import one_hot\n",
        "import numpy as np\n",
        "import pandas as pd"
      ],
      "execution_count": 2,
      "outputs": []
    },
    {
      "cell_type": "code",
      "metadata": {
        "id": "ToNRsZf5h-bP",
        "colab": {
          "base_uri": "https://localhost:8080/"
        },
        "outputId": "5f2177f1-b441-488f-e4d7-99012bee5109"
      },
      "source": [
        "yelp = pd.read_csv('https://tf-assets-prod.s3.amazonaws.com/tf-curric/data-science/yelp_labeled.csv', error_bad_lines=False)"
      ],
      "execution_count": 6,
      "outputs": [
        {
          "output_type": "stream",
          "text": [
            "b'Skipping line 281: expected 2 fields, saw 3\\nSkipping line 290: expected 2 fields, saw 3\\nSkipping line 296: expected 2 fields, saw 3\\nSkipping line 322: expected 2 fields, saw 3\\nSkipping line 373: expected 2 fields, saw 3\\nSkipping line 417: expected 2 fields, saw 3\\nSkipping line 427: expected 2 fields, saw 3\\nSkipping line 429: expected 2 fields, saw 3\\nSkipping line 577: expected 2 fields, saw 3\\nSkipping line 578: expected 2 fields, saw 3\\nSkipping line 611: expected 2 fields, saw 3\\nSkipping line 677: expected 2 fields, saw 3\\nSkipping line 771: expected 2 fields, saw 3\\nSkipping line 930: expected 2 fields, saw 3\\nSkipping line 979: expected 2 fields, saw 4\\nSkipping line 980: expected 2 fields, saw 3\\n'\n"
          ],
          "name": "stderr"
        }
      ]
    },
    {
      "cell_type": "code",
      "metadata": {
        "id": "7fKQfObOh-bX",
        "outputId": "9deafdf6-9637-4fea-d013-3519015b3b1c"
      },
      "source": [
        "yelp.head()"
      ],
      "execution_count": null,
      "outputs": [
        {
          "output_type": "execute_result",
          "data": {
            "text/html": [
              "<div>\n",
              "<style scoped>\n",
              "    .dataframe tbody tr th:only-of-type {\n",
              "        vertical-align: middle;\n",
              "    }\n",
              "\n",
              "    .dataframe tbody tr th {\n",
              "        vertical-align: top;\n",
              "    }\n",
              "\n",
              "    .dataframe thead th {\n",
              "        text-align: right;\n",
              "    }\n",
              "</style>\n",
              "<table border=\"1\" class=\"dataframe\">\n",
              "  <thead>\n",
              "    <tr style=\"text-align: right;\">\n",
              "      <th></th>\n",
              "      <th>text</th>\n",
              "      <th>sentiment</th>\n",
              "    </tr>\n",
              "  </thead>\n",
              "  <tbody>\n",
              "    <tr>\n",
              "      <th>0</th>\n",
              "      <td>Wow... Loved this place.</td>\n",
              "      <td>1</td>\n",
              "    </tr>\n",
              "    <tr>\n",
              "      <th>1</th>\n",
              "      <td>Crust is not good.</td>\n",
              "      <td>0</td>\n",
              "    </tr>\n",
              "    <tr>\n",
              "      <th>2</th>\n",
              "      <td>Not tasty and the texture was just nasty.</td>\n",
              "      <td>0</td>\n",
              "    </tr>\n",
              "    <tr>\n",
              "      <th>3</th>\n",
              "      <td>Stopped by during the late May bank holiday of...</td>\n",
              "      <td>1</td>\n",
              "    </tr>\n",
              "    <tr>\n",
              "      <th>4</th>\n",
              "      <td>The selection on the menu was great and so wer...</td>\n",
              "      <td>1</td>\n",
              "    </tr>\n",
              "  </tbody>\n",
              "</table>\n",
              "</div>"
            ],
            "text/plain": [
              "                                                text  sentiment\n",
              "0                           Wow... Loved this place.          1\n",
              "1                                 Crust is not good.          0\n",
              "2          Not tasty and the texture was just nasty.          0\n",
              "3  Stopped by during the late May bank holiday of...          1\n",
              "4  The selection on the menu was great and so wer...          1"
            ]
          },
          "metadata": {
            "tags": []
          },
          "execution_count": 27
        }
      ]
    },
    {
      "cell_type": "code",
      "metadata": {
        "id": "yXyJFyo9h-bZ",
        "outputId": "6b3f7a76-0987-4680-abd2-c182a0339952"
      },
      "source": [
        "yelp.sentiment.value_counts()"
      ],
      "execution_count": null,
      "outputs": [
        {
          "output_type": "execute_result",
          "data": {
            "text/plain": [
              "1    494\n",
              "0    482\n",
              "Name: sentiment, dtype: int64"
            ]
          },
          "metadata": {
            "tags": []
          },
          "execution_count": 28
        }
      ]
    },
    {
      "cell_type": "markdown",
      "metadata": {
        "id": "bp0a4qU9h-bb"
      },
      "source": [
        "We have loaded a Yelp review dataset above. A positive sentiment is classified as 1 and a negative sentiment is classified as 0. "
      ]
    },
    {
      "cell_type": "code",
      "metadata": {
        "id": "Zyboex_Vh-bb"
      },
      "source": [
        "from nltk.corpus import stopwords\n",
        "import re\n",
        "from nltk.stem.porter import PorterStemmer\n",
        "\n",
        "stemmer = PorterStemmer()\n",
        "\n",
        "def remove_stopwords(input_text):\n",
        "        stopwords_list = stopwords.words('english')\n",
        "        # Some words which might indicate a certain sentiment are kept via a whitelist\n",
        "        whitelist = [\"n't\", \"not\", \"no\"]\n",
        "        words = input_text.split() \n",
        "        clean_words = [word for word in words if (word not in stopwords_list or word in whitelist) and len(word) > 1] \n",
        "        return \" \".join(clean_words)       \n",
        "\n",
        "def stem_list(word_list):\n",
        "    stemmed = []\n",
        "    for word in word_list:\n",
        "        stemmedword = stemmer.stem(word)\n",
        "        stemmed.append(stemmedword)\n",
        "    return stemmed\n",
        "\n",
        "def normalize(terms):\n",
        "    terms = terms.lower()\n",
        "    terms = remove_stopwords(terms)\n",
        "    word_delimiters = u'[\\\\[\\\\]\\n.!?,;:\\t\\\\-\\\\\"\\\\(\\\\)\\\\\\'\\u2019\\u2013 ]'\n",
        "    term_list = re.split(word_delimiters, terms)\n",
        "    trimmed = [x.rstrip() for x in term_list]\n",
        "    stemmed = stem_list(trimmed)\n",
        "    space = ' '\n",
        "    normed = space.join(stemmed)\n",
        "    normed = normed.replace('  ', ' ')\n",
        "    return normed"
      ],
      "execution_count": 7,
      "outputs": []
    },
    {
      "cell_type": "markdown",
      "metadata": {
        "id": "CsuGlOW8h-bd"
      },
      "source": [
        "In the code block above, we have functions to remove stopwords, stem, and normalize the text (remove special characters and trim white space). Apply the normalize function to every yelp review and assign the normalized text to a new column."
      ]
    },
    {
      "cell_type": "code",
      "metadata": {
        "id": "BDWbek-Yh-be",
        "colab": {
          "base_uri": "https://localhost:8080/",
          "height": 204
        },
        "outputId": "c7b6febc-c76a-426d-e079-d3f29d192933"
      },
      "source": [
        "# Answer below:\n",
        "\n",
        "yelp['normalized_text'] = [normalize(text) for text in yelp['text']]\n",
        "\n",
        "yelp.head()"
      ],
      "execution_count": 8,
      "outputs": [
        {
          "output_type": "execute_result",
          "data": {
            "text/html": [
              "<div>\n",
              "<style scoped>\n",
              "    .dataframe tbody tr th:only-of-type {\n",
              "        vertical-align: middle;\n",
              "    }\n",
              "\n",
              "    .dataframe tbody tr th {\n",
              "        vertical-align: top;\n",
              "    }\n",
              "\n",
              "    .dataframe thead th {\n",
              "        text-align: right;\n",
              "    }\n",
              "</style>\n",
              "<table border=\"1\" class=\"dataframe\">\n",
              "  <thead>\n",
              "    <tr style=\"text-align: right;\">\n",
              "      <th></th>\n",
              "      <th>text</th>\n",
              "      <th>sentiment</th>\n",
              "      <th>normalized_text</th>\n",
              "    </tr>\n",
              "  </thead>\n",
              "  <tbody>\n",
              "    <tr>\n",
              "      <th>0</th>\n",
              "      <td>Wow... Loved this place.</td>\n",
              "      <td>1</td>\n",
              "      <td>wow  love place</td>\n",
              "    </tr>\n",
              "    <tr>\n",
              "      <th>1</th>\n",
              "      <td>Crust is not good.</td>\n",
              "      <td>0</td>\n",
              "      <td>crust not good</td>\n",
              "    </tr>\n",
              "    <tr>\n",
              "      <th>2</th>\n",
              "      <td>Not tasty and the texture was just nasty.</td>\n",
              "      <td>0</td>\n",
              "      <td>not tasti textur nasti</td>\n",
              "    </tr>\n",
              "    <tr>\n",
              "      <th>3</th>\n",
              "      <td>Stopped by during the late May bank holiday of...</td>\n",
              "      <td>1</td>\n",
              "      <td>stop late may bank holiday rick steve recommen...</td>\n",
              "    </tr>\n",
              "    <tr>\n",
              "      <th>4</th>\n",
              "      <td>The selection on the menu was great and so wer...</td>\n",
              "      <td>1</td>\n",
              "      <td>select menu great price</td>\n",
              "    </tr>\n",
              "  </tbody>\n",
              "</table>\n",
              "</div>"
            ],
            "text/plain": [
              "                                                text  ...                                    normalized_text\n",
              "0                           Wow... Loved this place.  ...                                   wow  love place \n",
              "1                                 Crust is not good.  ...                                    crust not good \n",
              "2          Not tasty and the texture was just nasty.  ...                            not tasti textur nasti \n",
              "3  Stopped by during the late May bank holiday of...  ...  stop late may bank holiday rick steve recommen...\n",
              "4  The selection on the menu was great and so wer...  ...                           select menu great price \n",
              "\n",
              "[5 rows x 3 columns]"
            ]
          },
          "metadata": {
            "tags": []
          },
          "execution_count": 8
        }
      ]
    },
    {
      "cell_type": "markdown",
      "metadata": {
        "id": "tywlufjyh-bf"
      },
      "source": [
        "Next, use the one hot function for text encoding and encode the normalized text. Determine the vocabulary size to perform the encoding."
      ]
    },
    {
      "cell_type": "code",
      "metadata": {
        "id": "NWKnOSd_h-bg",
        "colab": {
          "base_uri": "https://localhost:8080/"
        },
        "outputId": "0571feab-b36f-4dc6-c18a-40dab8bf1e28"
      },
      "source": [
        "# Answer below:\n",
        "\n",
        "vocab = \" \".join(yelp['normalized_text'].tolist())\n",
        "vocab = vocab.split(\" \")\n",
        "vocab = list(filter(None, vocab))\n",
        "vocab_size = len(set(vocab))\n",
        "vocab[:20]\n",
        "len(set(vocab))"
      ],
      "execution_count": 10,
      "outputs": [
        {
          "output_type": "execute_result",
          "data": {
            "text/plain": [
              "1628"
            ]
          },
          "metadata": {
            "tags": []
          },
          "execution_count": 10
        }
      ]
    },
    {
      "cell_type": "code",
      "metadata": {
        "id": "dV8h-1mKVstM"
      },
      "source": [
        "vocab_size = len(set(vocab))\r\n",
        "encoded_docs = [one_hot(doc, vocab_size) for doc in yelp['normalized_text']]"
      ],
      "execution_count": 11,
      "outputs": []
    },
    {
      "cell_type": "code",
      "metadata": {
        "colab": {
          "base_uri": "https://localhost:8080/"
        },
        "id": "rEaYq0ozVuN2",
        "outputId": "28871ccd-7299-48da-8ea0-a8978081681b"
      },
      "source": [
        "encoded_docs[:20]"
      ],
      "execution_count": 12,
      "outputs": [
        {
          "output_type": "execute_result",
          "data": {
            "text/plain": [
              "[[341, 862, 993],\n",
              " [677, 958, 232],\n",
              " [958, 850, 146, 522],\n",
              " [1377, 1177, 1043, 1558, 265, 210, 344, 707, 862, 791],\n",
              " [335, 201, 1523, 607],\n",
              " [45, 5, 521, 1400, 703],\n",
              " [315, 1600, 1126],\n",
              " [1102, 598, 923, 1356, 805, 817, 297, 103, 1556, 934],\n",
              " [1605, 1523, 467],\n",
              " [1523, 532],\n",
              " [1380, 731],\n",
              " [1000, 958, 931, 412],\n",
              " [1306, 1280, 460, 1625, 132, 591, 388, 251, 1518],\n",
              " [360, 463, 1373, 85, 328, 13, 324],\n",
              " [402, 1249, 89, 137, 1396],\n",
              " [814, 1280, 593, 759, 342, 1545],\n",
              " [119, 707],\n",
              " [1527, 891, 1054, 1380],\n",
              " [993, 958, 466, 103, 646, 650, 181],\n",
              " [958, 598, 772]]"
            ]
          },
          "metadata": {
            "tags": []
          },
          "execution_count": 12
        }
      ]
    },
    {
      "cell_type": "markdown",
      "metadata": {
        "id": "FnRMy2S0h-bh"
      },
      "source": [
        "Convert the encoded sequences into a numpy array and make sure all reviews are the same length using the `pad_sequences` function in Keras."
      ]
    },
    {
      "cell_type": "code",
      "metadata": {
        "id": "pk24Behch-bi",
        "colab": {
          "base_uri": "https://localhost:8080/"
        },
        "outputId": "4d510803-d765-44fe-ccbc-c67a381437ce"
      },
      "source": [
        "# Answer below:\n",
        "\n",
        "from tensorflow.keras.preprocessing.sequence import pad_sequences\n",
        "\n",
        "ind_vars = pad_sequences(encoded_docs)\n",
        "\n",
        "ind_vars[:20]"
      ],
      "execution_count": 13,
      "outputs": [
        {
          "output_type": "execute_result",
          "data": {
            "text/plain": [
              "array([[   0,    0,    0, ...,  341,  862,  993],\n",
              "       [   0,    0,    0, ...,  677,  958,  232],\n",
              "       [   0,    0,    0, ...,  850,  146,  522],\n",
              "       ...,\n",
              "       [   0,    0,    0, ...,  891, 1054, 1380],\n",
              "       [   0,    0,    0, ...,  646,  650,  181],\n",
              "       [   0,    0,    0, ...,  958,  598,  772]], dtype=int32)"
            ]
          },
          "metadata": {
            "tags": []
          },
          "execution_count": 13
        }
      ]
    },
    {
      "cell_type": "markdown",
      "metadata": {
        "id": "XIclszsJh-bj"
      },
      "source": [
        "Split the data into train and test. Use 20% for test. The sentiment column should be used as the target variable."
      ]
    },
    {
      "cell_type": "code",
      "metadata": {
        "id": "zlaZSo-Yh-bk"
      },
      "source": [
        "# Answer below:\n",
        "\n",
        "from sklearn.model_selection import train_test_split\n",
        "\n",
        "# define X and y\n",
        "X = ind_vars\n",
        "y = yelp['sentiment']\n",
        "\n",
        "# test/train split our data\n",
        "X_train, X_test, y_train, y_test = train_test_split(X, y, test_size=0.2)"
      ],
      "execution_count": 14,
      "outputs": []
    },
    {
      "cell_type": "code",
      "metadata": {
        "colab": {
          "base_uri": "https://localhost:8080/"
        },
        "id": "uZZyy7KlWASm",
        "outputId": "92fe4735-970e-4f7d-d42a-5d39b411216b"
      },
      "source": [
        "max_words = np.max(X_train)\r\n",
        "max_words"
      ],
      "execution_count": 16,
      "outputs": [
        {
          "output_type": "execute_result",
          "data": {
            "text/plain": [
              "1627"
            ]
          },
          "metadata": {
            "tags": []
          },
          "execution_count": 16
        }
      ]
    },
    {
      "cell_type": "markdown",
      "metadata": {
        "id": "EAsqg_REh-bm"
      },
      "source": [
        "Create a sequential model. The model should contain an embedding layer with input dim that is the size of the largest encoding in the vocabulary. The output dim should be 100, the input length is the number of columns in the training data. \n",
        "After the embedding layer, add a SimpleRNN layer with unit size 32, a dense layer of size 8 and a dense output layer."
      ]
    },
    {
      "cell_type": "code",
      "metadata": {
        "id": "ssougKQUh-bm",
        "colab": {
          "base_uri": "https://localhost:8080/"
        },
        "outputId": "d3e65bf6-867b-421f-996a-296ca4cdc628"
      },
      "source": [
        "# Answer below:\n",
        "\n",
        "import numpy as np\n",
        "from tensorflow.keras.models import Sequential \n",
        "from tensorflow.keras.layers import Dense, Embedding, SimpleRNN\n",
        "\n",
        "# instantiate model\n",
        "model = Sequential()\n",
        "# embedding layer\n",
        "model.add(Embedding(input_dim=max_words+1, output_dim=100, input_length=X_train.shape[1]))\n",
        "# simple RNN layer\n",
        "model.add(SimpleRNN(32))\n",
        "# dense layer\n",
        "model.add(Dense(8, activation='relu'))\n",
        "# dense output layer\n",
        "model.add(Dense(1, activation='sigmoid'))\n",
        "model.summary()"
      ],
      "execution_count": 17,
      "outputs": [
        {
          "output_type": "stream",
          "text": [
            "Model: \"sequential_1\"\n",
            "_________________________________________________________________\n",
            "Layer (type)                 Output Shape              Param #   \n",
            "=================================================================\n",
            "embedding (Embedding)        (None, 83, 100)           162800    \n",
            "_________________________________________________________________\n",
            "simple_rnn (SimpleRNN)       (None, 32)                4256      \n",
            "_________________________________________________________________\n",
            "dense (Dense)                (None, 8)                 264       \n",
            "_________________________________________________________________\n",
            "dense_1 (Dense)              (None, 1)                 9         \n",
            "=================================================================\n",
            "Total params: 167,329\n",
            "Trainable params: 167,329\n",
            "Non-trainable params: 0\n",
            "_________________________________________________________________\n"
          ],
          "name": "stdout"
        }
      ]
    },
    {
      "cell_type": "markdown",
      "metadata": {
        "id": "tjgqWnioh-bo"
      },
      "source": [
        "Compile using the optimizer of your choice, use crossentropy for your loss function. Fit the model using a batch size of 128 and 50 epochs"
      ]
    },
    {
      "cell_type": "code",
      "metadata": {
        "id": "ewNbf3fKh-bo",
        "colab": {
          "base_uri": "https://localhost:8080/"
        },
        "outputId": "d81329ed-7632-4e94-cd51-1d14156e21f3"
      },
      "source": [
        "# Answer below:\n",
        "\n",
        "model.compile(loss='binary_crossentropy', optimizer='adam', metrics=['accuracy'])\n",
        "# fit model\n",
        "model.fit(X_train, y_train, validation_data=(X_test, y_test), epochs=50, batch_size=128)"
      ],
      "execution_count": 18,
      "outputs": [
        {
          "output_type": "stream",
          "text": [
            "Epoch 1/50\n",
            "7/7 [==============================] - 2s 89ms/step - loss: 0.6943 - accuracy: 0.5174 - val_loss: 0.6928 - val_accuracy: 0.4949\n",
            "Epoch 2/50\n",
            "7/7 [==============================] - 0s 40ms/step - loss: 0.6759 - accuracy: 0.5225 - val_loss: 0.6896 - val_accuracy: 0.5306\n",
            "Epoch 3/50\n",
            "7/7 [==============================] - 0s 42ms/step - loss: 0.6493 - accuracy: 0.6157 - val_loss: 0.6854 - val_accuracy: 0.5000\n",
            "Epoch 4/50\n",
            "7/7 [==============================] - 0s 38ms/step - loss: 0.6181 - accuracy: 0.5755 - val_loss: 0.6787 - val_accuracy: 0.5255\n",
            "Epoch 5/50\n",
            "7/7 [==============================] - 0s 37ms/step - loss: 0.5818 - accuracy: 0.6852 - val_loss: 0.6776 - val_accuracy: 0.5102\n",
            "Epoch 6/50\n",
            "7/7 [==============================] - 0s 39ms/step - loss: 0.5440 - accuracy: 0.7474 - val_loss: 0.6926 - val_accuracy: 0.5102\n",
            "Epoch 7/50\n",
            "7/7 [==============================] - 0s 37ms/step - loss: 0.4941 - accuracy: 0.8159 - val_loss: 0.6600 - val_accuracy: 0.5663\n",
            "Epoch 8/50\n",
            "7/7 [==============================] - 0s 37ms/step - loss: 0.4487 - accuracy: 0.9186 - val_loss: 0.6667 - val_accuracy: 0.5510\n",
            "Epoch 9/50\n",
            "7/7 [==============================] - 0s 38ms/step - loss: 0.3948 - accuracy: 0.9437 - val_loss: 0.6963 - val_accuracy: 0.5510\n",
            "Epoch 10/50\n",
            "7/7 [==============================] - 0s 40ms/step - loss: 0.3540 - accuracy: 0.9304 - val_loss: 0.7760 - val_accuracy: 0.5255\n",
            "Epoch 11/50\n",
            "7/7 [==============================] - 0s 41ms/step - loss: 0.3316 - accuracy: 0.9161 - val_loss: 0.6638 - val_accuracy: 0.5969\n",
            "Epoch 12/50\n",
            "7/7 [==============================] - 0s 36ms/step - loss: 0.2924 - accuracy: 0.9768 - val_loss: 0.6398 - val_accuracy: 0.6071\n",
            "Epoch 13/50\n",
            "7/7 [==============================] - 0s 37ms/step - loss: 0.2605 - accuracy: 0.9915 - val_loss: 0.6519 - val_accuracy: 0.6071\n",
            "Epoch 14/50\n",
            "7/7 [==============================] - 0s 40ms/step - loss: 0.2407 - accuracy: 0.9910 - val_loss: 0.6449 - val_accuracy: 0.6276\n",
            "Epoch 15/50\n",
            "7/7 [==============================] - 0s 41ms/step - loss: 0.2098 - accuracy: 0.9905 - val_loss: 0.6736 - val_accuracy: 0.6173\n",
            "Epoch 16/50\n",
            "7/7 [==============================] - 0s 35ms/step - loss: 0.1905 - accuracy: 0.9919 - val_loss: 0.6614 - val_accuracy: 0.6327\n",
            "Epoch 17/50\n",
            "7/7 [==============================] - 0s 38ms/step - loss: 0.1678 - accuracy: 0.9960 - val_loss: 0.6578 - val_accuracy: 0.6378\n",
            "Epoch 18/50\n",
            "7/7 [==============================] - 0s 37ms/step - loss: 0.1472 - accuracy: 0.9960 - val_loss: 0.6732 - val_accuracy: 0.6327\n",
            "Epoch 19/50\n",
            "7/7 [==============================] - 0s 36ms/step - loss: 0.1264 - accuracy: 0.9981 - val_loss: 0.6794 - val_accuracy: 0.6429\n",
            "Epoch 20/50\n",
            "7/7 [==============================] - 0s 41ms/step - loss: 0.1133 - accuracy: 0.9984 - val_loss: 0.6734 - val_accuracy: 0.6531\n",
            "Epoch 21/50\n",
            "7/7 [==============================] - 0s 39ms/step - loss: 0.1036 - accuracy: 0.9956 - val_loss: 0.6919 - val_accuracy: 0.6429\n",
            "Epoch 22/50\n",
            "7/7 [==============================] - 0s 36ms/step - loss: 0.0893 - accuracy: 0.9970 - val_loss: 0.6719 - val_accuracy: 0.6582\n",
            "Epoch 23/50\n",
            "7/7 [==============================] - 0s 38ms/step - loss: 0.0817 - accuracy: 0.9988 - val_loss: 0.6697 - val_accuracy: 0.6888\n",
            "Epoch 24/50\n",
            "7/7 [==============================] - 0s 37ms/step - loss: 0.0743 - accuracy: 0.9964 - val_loss: 0.7208 - val_accuracy: 0.6684\n",
            "Epoch 25/50\n",
            "7/7 [==============================] - 0s 38ms/step - loss: 0.0675 - accuracy: 0.9991 - val_loss: 0.7522 - val_accuracy: 0.6531\n",
            "Epoch 26/50\n",
            "7/7 [==============================] - 0s 36ms/step - loss: 0.0592 - accuracy: 0.9965 - val_loss: 0.7059 - val_accuracy: 0.6684\n",
            "Epoch 27/50\n",
            "7/7 [==============================] - 0s 35ms/step - loss: 0.0509 - accuracy: 0.9981 - val_loss: 0.7033 - val_accuracy: 0.6735\n",
            "Epoch 28/50\n",
            "7/7 [==============================] - 0s 37ms/step - loss: 0.0512 - accuracy: 0.9960 - val_loss: 0.7258 - val_accuracy: 0.6837\n",
            "Epoch 29/50\n",
            "7/7 [==============================] - 0s 38ms/step - loss: 0.0433 - accuracy: 0.9968 - val_loss: 0.7302 - val_accuracy: 0.6837\n",
            "Epoch 30/50\n",
            "7/7 [==============================] - 0s 37ms/step - loss: 0.0396 - accuracy: 0.9976 - val_loss: 0.7280 - val_accuracy: 0.6735\n",
            "Epoch 31/50\n",
            "7/7 [==============================] - 0s 60ms/step - loss: 0.0359 - accuracy: 0.9981 - val_loss: 0.7476 - val_accuracy: 0.6990\n",
            "Epoch 32/50\n",
            "7/7 [==============================] - 0s 43ms/step - loss: 0.0339 - accuracy: 0.9970 - val_loss: 0.7333 - val_accuracy: 0.6684\n",
            "Epoch 33/50\n",
            "7/7 [==============================] - 0s 39ms/step - loss: 0.0299 - accuracy: 0.9988 - val_loss: 0.7329 - val_accuracy: 0.6888\n",
            "Epoch 34/50\n",
            "7/7 [==============================] - 0s 37ms/step - loss: 0.0276 - accuracy: 0.9986 - val_loss: 0.7471 - val_accuracy: 0.6786\n",
            "Epoch 35/50\n",
            "7/7 [==============================] - 0s 38ms/step - loss: 0.0268 - accuracy: 0.9970 - val_loss: 0.7645 - val_accuracy: 0.6837\n",
            "Epoch 36/50\n",
            "7/7 [==============================] - 0s 40ms/step - loss: 0.0268 - accuracy: 0.9968 - val_loss: 0.7773 - val_accuracy: 0.6837\n",
            "Epoch 37/50\n",
            "7/7 [==============================] - 0s 37ms/step - loss: 0.0241 - accuracy: 0.9978 - val_loss: 0.7751 - val_accuracy: 0.6837\n",
            "Epoch 38/50\n",
            "7/7 [==============================] - 0s 37ms/step - loss: 0.0204 - accuracy: 0.9990 - val_loss: 0.7747 - val_accuracy: 0.6837\n",
            "Epoch 39/50\n",
            "7/7 [==============================] - 0s 36ms/step - loss: 0.0324 - accuracy: 0.9988 - val_loss: 0.7570 - val_accuracy: 0.6786\n",
            "Epoch 40/50\n",
            "7/7 [==============================] - 0s 38ms/step - loss: 0.0258 - accuracy: 0.9984 - val_loss: 0.7948 - val_accuracy: 0.6786\n",
            "Epoch 41/50\n",
            "7/7 [==============================] - 0s 39ms/step - loss: 0.0261 - accuracy: 0.9973 - val_loss: 0.8333 - val_accuracy: 0.6684\n",
            "Epoch 42/50\n",
            "7/7 [==============================] - 0s 38ms/step - loss: 0.0201 - accuracy: 0.9979 - val_loss: 0.8389 - val_accuracy: 0.6684\n",
            "Epoch 43/50\n",
            "7/7 [==============================] - 0s 35ms/step - loss: 0.0197 - accuracy: 0.9951 - val_loss: 0.8587 - val_accuracy: 0.6837\n",
            "Epoch 44/50\n",
            "7/7 [==============================] - 0s 38ms/step - loss: 0.0154 - accuracy: 0.9986 - val_loss: 0.8523 - val_accuracy: 0.6888\n",
            "Epoch 45/50\n",
            "7/7 [==============================] - 0s 36ms/step - loss: 0.0154 - accuracy: 0.9971 - val_loss: 0.8475 - val_accuracy: 0.6888\n",
            "Epoch 46/50\n",
            "7/7 [==============================] - 0s 38ms/step - loss: 0.0133 - accuracy: 0.9984 - val_loss: 0.8495 - val_accuracy: 0.6786\n",
            "Epoch 47/50\n",
            "7/7 [==============================] - 0s 37ms/step - loss: 0.0135 - accuracy: 0.9986 - val_loss: 0.8564 - val_accuracy: 0.6837\n",
            "Epoch 48/50\n",
            "7/7 [==============================] - 0s 41ms/step - loss: 0.0133 - accuracy: 0.9986 - val_loss: 0.8640 - val_accuracy: 0.6786\n",
            "Epoch 49/50\n",
            "7/7 [==============================] - 0s 43ms/step - loss: 0.0124 - accuracy: 0.9988 - val_loss: 0.8683 - val_accuracy: 0.6888\n",
            "Epoch 50/50\n",
            "7/7 [==============================] - 0s 40ms/step - loss: 0.0112 - accuracy: 0.9986 - val_loss: 0.8731 - val_accuracy: 0.6786\n"
          ],
          "name": "stdout"
        },
        {
          "output_type": "execute_result",
          "data": {
            "text/plain": [
              "<tensorflow.python.keras.callbacks.History at 0x7f9a6f371630>"
            ]
          },
          "metadata": {
            "tags": []
          },
          "execution_count": 18
        }
      ]
    },
    {
      "cell_type": "code",
      "metadata": {
        "id": "jk88z8R8h-bq"
      },
      "source": [
        ""
      ],
      "execution_count": null,
      "outputs": []
    }
  ]
}