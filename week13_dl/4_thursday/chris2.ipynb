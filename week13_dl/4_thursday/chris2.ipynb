{
  "nbformat": 4,
  "nbformat_minor": 0,
  "metadata": {
    "kernelspec": {
      "display_name": "Python 3",
      "language": "python",
      "name": "python3"
    },
    "language_info": {
      "codemirror_mode": {
        "name": "ipython",
        "version": 3
      },
      "file_extension": ".py",
      "mimetype": "text/x-python",
      "name": "python",
      "nbconvert_exporter": "python",
      "pygments_lexer": "ipython3",
      "version": "3.7.0"
    },
    "colab": {
      "name": "Day 79 Lecture 2 Assignment.ipynb",
      "provenance": [],
      "collapsed_sections": []
    }
  },
  "cells": [
    {
      "cell_type": "markdown",
      "metadata": {
        "id": "oQfS-31Jh-bL"
      },
      "source": [
        "## Recurrent Neural Networks\n",
        "\n",
        "In this assignment, we will learn about recurrent neural networks. We will create an RNN and learn to classify text data."
      ]
    },
    {
      "cell_type": "code",
      "metadata": {
        "id": "BOy993_Xh-bM"
      },
      "source": [
        "import warnings\n",
        "warnings.filterwarnings(\"ignore\")\n",
        "\n",
        "import numpy as np\n",
        "import pandas as pd"
      ],
      "execution_count": 52,
      "outputs": []
    },
    {
      "cell_type": "code",
      "metadata": {
        "id": "ToNRsZf5h-bP",
        "colab": {
          "base_uri": "https://localhost:8080/"
        },
        "outputId": "0083c9a1-ca78-4826-f9a4-42a92e0fc7bd"
      },
      "source": [
        "yelp = pd.read_csv('https://tf-assets-prod.s3.amazonaws.com/tf-curric/data-science/yelp_labeled.csv', error_bad_lines=False)"
      ],
      "execution_count": 53,
      "outputs": [
        {
          "output_type": "stream",
          "text": [
            "b'Skipping line 281: expected 2 fields, saw 3\\nSkipping line 290: expected 2 fields, saw 3\\nSkipping line 296: expected 2 fields, saw 3\\nSkipping line 322: expected 2 fields, saw 3\\nSkipping line 373: expected 2 fields, saw 3\\nSkipping line 417: expected 2 fields, saw 3\\nSkipping line 427: expected 2 fields, saw 3\\nSkipping line 429: expected 2 fields, saw 3\\nSkipping line 577: expected 2 fields, saw 3\\nSkipping line 578: expected 2 fields, saw 3\\nSkipping line 611: expected 2 fields, saw 3\\nSkipping line 677: expected 2 fields, saw 3\\nSkipping line 771: expected 2 fields, saw 3\\nSkipping line 930: expected 2 fields, saw 3\\nSkipping line 979: expected 2 fields, saw 4\\nSkipping line 980: expected 2 fields, saw 3\\n'\n"
          ],
          "name": "stderr"
        }
      ]
    },
    {
      "cell_type": "code",
      "metadata": {
        "id": "7fKQfObOh-bX",
        "colab": {
          "base_uri": "https://localhost:8080/",
          "height": 204
        },
        "outputId": "2a13b454-0049-4583-8e07-b19f5b0dd646"
      },
      "source": [
        "yelp.head()"
      ],
      "execution_count": 54,
      "outputs": [
        {
          "output_type": "execute_result",
          "data": {
            "text/html": [
              "<div>\n",
              "<style scoped>\n",
              "    .dataframe tbody tr th:only-of-type {\n",
              "        vertical-align: middle;\n",
              "    }\n",
              "\n",
              "    .dataframe tbody tr th {\n",
              "        vertical-align: top;\n",
              "    }\n",
              "\n",
              "    .dataframe thead th {\n",
              "        text-align: right;\n",
              "    }\n",
              "</style>\n",
              "<table border=\"1\" class=\"dataframe\">\n",
              "  <thead>\n",
              "    <tr style=\"text-align: right;\">\n",
              "      <th></th>\n",
              "      <th>text</th>\n",
              "      <th>sentiment</th>\n",
              "    </tr>\n",
              "  </thead>\n",
              "  <tbody>\n",
              "    <tr>\n",
              "      <th>0</th>\n",
              "      <td>Wow... Loved this place.</td>\n",
              "      <td>1</td>\n",
              "    </tr>\n",
              "    <tr>\n",
              "      <th>1</th>\n",
              "      <td>Crust is not good.</td>\n",
              "      <td>0</td>\n",
              "    </tr>\n",
              "    <tr>\n",
              "      <th>2</th>\n",
              "      <td>Not tasty and the texture was just nasty.</td>\n",
              "      <td>0</td>\n",
              "    </tr>\n",
              "    <tr>\n",
              "      <th>3</th>\n",
              "      <td>Stopped by during the late May bank holiday of...</td>\n",
              "      <td>1</td>\n",
              "    </tr>\n",
              "    <tr>\n",
              "      <th>4</th>\n",
              "      <td>The selection on the menu was great and so wer...</td>\n",
              "      <td>1</td>\n",
              "    </tr>\n",
              "  </tbody>\n",
              "</table>\n",
              "</div>"
            ],
            "text/plain": [
              "                                                text  sentiment\n",
              "0                           Wow... Loved this place.          1\n",
              "1                                 Crust is not good.          0\n",
              "2          Not tasty and the texture was just nasty.          0\n",
              "3  Stopped by during the late May bank holiday of...          1\n",
              "4  The selection on the menu was great and so wer...          1"
            ]
          },
          "metadata": {
            "tags": []
          },
          "execution_count": 54
        }
      ]
    },
    {
      "cell_type": "code",
      "metadata": {
        "id": "yXyJFyo9h-bZ",
        "colab": {
          "base_uri": "https://localhost:8080/"
        },
        "outputId": "c907db50-89ed-4a7e-b748-032f5f7df8a0"
      },
      "source": [
        "yelp.sentiment.value_counts()"
      ],
      "execution_count": 55,
      "outputs": [
        {
          "output_type": "execute_result",
          "data": {
            "text/plain": [
              "1    494\n",
              "0    482\n",
              "Name: sentiment, dtype: int64"
            ]
          },
          "metadata": {
            "tags": []
          },
          "execution_count": 55
        }
      ]
    },
    {
      "cell_type": "markdown",
      "metadata": {
        "id": "bp0a4qU9h-bb"
      },
      "source": [
        "We have loaded a Yelp review dataset above. A positive sentiment is classified as 1 and a negative sentiment is classified as 0. "
      ]
    },
    {
      "cell_type": "code",
      "metadata": {
        "id": "Zyboex_Vh-bb"
      },
      "source": [
        "from nltk.corpus import stopwords\n",
        "import re\n",
        "from nltk.stem.porter import PorterStemmer\n",
        "\n",
        "stemmer = PorterStemmer()\n",
        "\n",
        "def remove_stopwords(input_text):\n",
        "        stopwords_list = stopwords.words('english')\n",
        "        # Some words which might indicate a certain sentiment are kept via a whitelist\n",
        "        whitelist = [\"n't\", \"not\", \"no\"]\n",
        "        words = input_text.split() \n",
        "        clean_words = [word for word in words if (word not in stopwords_list or word in whitelist) and len(word) > 1] \n",
        "        return \" \".join(clean_words)       \n",
        "\n",
        "def stem_list(word_list):\n",
        "    stemmed = []\n",
        "    for word in word_list:\n",
        "        stemmedword = stemmer.stem(word)\n",
        "        stemmed.append(stemmedword)\n",
        "    return stemmed\n",
        "\n",
        "def normalize(terms):\n",
        "    terms = terms.lower()\n",
        "    terms = remove_stopwords(terms)\n",
        "    word_delimiters = u'[\\\\[\\\\]\\n.!?,;:\\t\\\\-\\\\\"\\\\(\\\\)\\\\\\'\\u2019\\u2013 ]'\n",
        "    term_list = re.split(word_delimiters, terms)\n",
        "    trimmed = [x.rstrip() for x in term_list]\n",
        "    stemmed = stem_list(trimmed)\n",
        "    space = ' '\n",
        "    normed = space.join(stemmed)\n",
        "    normed = normed.replace('  ', ' ')\n",
        "    return normed"
      ],
      "execution_count": 56,
      "outputs": []
    },
    {
      "cell_type": "markdown",
      "metadata": {
        "id": "CsuGlOW8h-bd"
      },
      "source": [
        "In the code block above, we have functions to remove stopwords, stem, and normalize the text (remove special characters and trim white space). Apply the normalize function to every yelp review and assign the normalized text to a new column."
      ]
    },
    {
      "cell_type": "code",
      "metadata": {
        "id": "DlmPqzshPOVJ",
        "outputId": "716af4d3-eb7f-4a5c-b301-f16901d77f15",
        "colab": {
          "base_uri": "https://localhost:8080/"
        }
      },
      "source": [
        "import nltk\n",
        "nltk.download('stopwords')"
      ],
      "execution_count": 57,
      "outputs": [
        {
          "output_type": "stream",
          "text": [
            "[nltk_data] Downloading package stopwords to /root/nltk_data...\n",
            "[nltk_data]   Package stopwords is already up-to-date!\n"
          ],
          "name": "stdout"
        },
        {
          "output_type": "execute_result",
          "data": {
            "text/plain": [
              "True"
            ]
          },
          "metadata": {
            "tags": []
          },
          "execution_count": 57
        }
      ]
    },
    {
      "cell_type": "code",
      "metadata": {
        "id": "BDWbek-Yh-be",
        "colab": {
          "base_uri": "https://localhost:8080/",
          "height": 419
        },
        "outputId": "18577ee7-6ea5-4d81-d73f-688c30d65139"
      },
      "source": [
        "# Answer below:\n",
        "yelp['normal'] = yelp.text.map(lambda x: normalize(x))\n",
        "yelp"
      ],
      "execution_count": 58,
      "outputs": [
        {
          "output_type": "execute_result",
          "data": {
            "text/html": [
              "<div>\n",
              "<style scoped>\n",
              "    .dataframe tbody tr th:only-of-type {\n",
              "        vertical-align: middle;\n",
              "    }\n",
              "\n",
              "    .dataframe tbody tr th {\n",
              "        vertical-align: top;\n",
              "    }\n",
              "\n",
              "    .dataframe thead th {\n",
              "        text-align: right;\n",
              "    }\n",
              "</style>\n",
              "<table border=\"1\" class=\"dataframe\">\n",
              "  <thead>\n",
              "    <tr style=\"text-align: right;\">\n",
              "      <th></th>\n",
              "      <th>text</th>\n",
              "      <th>sentiment</th>\n",
              "      <th>normal</th>\n",
              "    </tr>\n",
              "  </thead>\n",
              "  <tbody>\n",
              "    <tr>\n",
              "      <th>0</th>\n",
              "      <td>Wow... Loved this place.</td>\n",
              "      <td>1</td>\n",
              "      <td>wow  love place</td>\n",
              "    </tr>\n",
              "    <tr>\n",
              "      <th>1</th>\n",
              "      <td>Crust is not good.</td>\n",
              "      <td>0</td>\n",
              "      <td>crust not good</td>\n",
              "    </tr>\n",
              "    <tr>\n",
              "      <th>2</th>\n",
              "      <td>Not tasty and the texture was just nasty.</td>\n",
              "      <td>0</td>\n",
              "      <td>not tasti textur nasti</td>\n",
              "    </tr>\n",
              "    <tr>\n",
              "      <th>3</th>\n",
              "      <td>Stopped by during the late May bank holiday of...</td>\n",
              "      <td>1</td>\n",
              "      <td>stop late may bank holiday rick steve recommen...</td>\n",
              "    </tr>\n",
              "    <tr>\n",
              "      <th>4</th>\n",
              "      <td>The selection on the menu was great and so wer...</td>\n",
              "      <td>1</td>\n",
              "      <td>select menu great price</td>\n",
              "    </tr>\n",
              "    <tr>\n",
              "      <th>...</th>\n",
              "      <td>...</td>\n",
              "      <td>...</td>\n",
              "      <td>...</td>\n",
              "    </tr>\n",
              "    <tr>\n",
              "      <th>971</th>\n",
              "      <td>I think food should have flavor and texture an...</td>\n",
              "      <td>0</td>\n",
              "      <td>think food flavor textur lack</td>\n",
              "    </tr>\n",
              "    <tr>\n",
              "      <th>972</th>\n",
              "      <td>Appetite instantly gone.</td>\n",
              "      <td>0</td>\n",
              "      <td>appetit instantli gone</td>\n",
              "    </tr>\n",
              "    <tr>\n",
              "      <th>973</th>\n",
              "      <td>Overall I was not impressed and would not go b...</td>\n",
              "      <td>0</td>\n",
              "      <td>overal not impress would not go back</td>\n",
              "    </tr>\n",
              "    <tr>\n",
              "      <th>974</th>\n",
              "      <td>The whole experience was underwhelming and I t...</td>\n",
              "      <td>0</td>\n",
              "      <td>whole experi underwhelm think we ll go ninja s...</td>\n",
              "    </tr>\n",
              "    <tr>\n",
              "      <th>975</th>\n",
              "      <td>Then as if I hadn't wasted enough of my life t...</td>\n",
              "      <td>0</td>\n",
              "      <td>wast enough life pour salt wound draw time too...</td>\n",
              "    </tr>\n",
              "  </tbody>\n",
              "</table>\n",
              "<p>976 rows × 3 columns</p>\n",
              "</div>"
            ],
            "text/plain": [
              "                                                  text  ...                                             normal\n",
              "0                             Wow... Loved this place.  ...                                   wow  love place \n",
              "1                                   Crust is not good.  ...                                    crust not good \n",
              "2            Not tasty and the texture was just nasty.  ...                            not tasti textur nasti \n",
              "3    Stopped by during the late May bank holiday of...  ...  stop late may bank holiday rick steve recommen...\n",
              "4    The selection on the menu was great and so wer...  ...                           select menu great price \n",
              "..                                                 ...  ...                                                ...\n",
              "971  I think food should have flavor and texture an...  ...                     think food flavor textur lack \n",
              "972                           Appetite instantly gone.  ...                            appetit instantli gone \n",
              "973  Overall I was not impressed and would not go b...  ...              overal not impress would not go back \n",
              "974  The whole experience was underwhelming and I t...  ...  whole experi underwhelm think we ll go ninja s...\n",
              "975  Then as if I hadn't wasted enough of my life t...  ...  wast enough life pour salt wound draw time too...\n",
              "\n",
              "[976 rows x 3 columns]"
            ]
          },
          "metadata": {
            "tags": []
          },
          "execution_count": 58
        }
      ]
    },
    {
      "cell_type": "markdown",
      "metadata": {
        "id": "tywlufjyh-bf"
      },
      "source": [
        "Next, use the one hot function for text encoding and encode the normalized text. Determine the vocabulary size to perform the encoding."
      ]
    },
    {
      "cell_type": "code",
      "metadata": {
        "id": "NWKnOSd_h-bg",
        "colab": {
          "base_uri": "https://localhost:8080/",
          "height": 419
        },
        "outputId": "34384a56-df52-432d-cd1e-934ee8f26595"
      },
      "source": [
        "# Answer below:\n",
        "from tensorflow.keras.preprocessing.text import one_hot\n",
        "yelp['encode'] = [one_hot(yelp, 1000) for yelp in yelp['normal']]\n",
        "yelp"
      ],
      "execution_count": 59,
      "outputs": [
        {
          "output_type": "execute_result",
          "data": {
            "text/html": [
              "<div>\n",
              "<style scoped>\n",
              "    .dataframe tbody tr th:only-of-type {\n",
              "        vertical-align: middle;\n",
              "    }\n",
              "\n",
              "    .dataframe tbody tr th {\n",
              "        vertical-align: top;\n",
              "    }\n",
              "\n",
              "    .dataframe thead th {\n",
              "        text-align: right;\n",
              "    }\n",
              "</style>\n",
              "<table border=\"1\" class=\"dataframe\">\n",
              "  <thead>\n",
              "    <tr style=\"text-align: right;\">\n",
              "      <th></th>\n",
              "      <th>text</th>\n",
              "      <th>sentiment</th>\n",
              "      <th>normal</th>\n",
              "      <th>encode</th>\n",
              "    </tr>\n",
              "  </thead>\n",
              "  <tbody>\n",
              "    <tr>\n",
              "      <th>0</th>\n",
              "      <td>Wow... Loved this place.</td>\n",
              "      <td>1</td>\n",
              "      <td>wow  love place</td>\n",
              "      <td>[59, 325, 481]</td>\n",
              "    </tr>\n",
              "    <tr>\n",
              "      <th>1</th>\n",
              "      <td>Crust is not good.</td>\n",
              "      <td>0</td>\n",
              "      <td>crust not good</td>\n",
              "      <td>[265, 36, 144]</td>\n",
              "    </tr>\n",
              "    <tr>\n",
              "      <th>2</th>\n",
              "      <td>Not tasty and the texture was just nasty.</td>\n",
              "      <td>0</td>\n",
              "      <td>not tasti textur nasti</td>\n",
              "      <td>[36, 268, 274, 448]</td>\n",
              "    </tr>\n",
              "    <tr>\n",
              "      <th>3</th>\n",
              "      <td>Stopped by during the late May bank holiday of...</td>\n",
              "      <td>1</td>\n",
              "      <td>stop late may bank holiday rick steve recommen...</td>\n",
              "      <td>[68, 419, 414, 78, 102, 250, 77, 318, 325, 213]</td>\n",
              "    </tr>\n",
              "    <tr>\n",
              "      <th>4</th>\n",
              "      <td>The selection on the menu was great and so wer...</td>\n",
              "      <td>1</td>\n",
              "      <td>select menu great price</td>\n",
              "      <td>[318, 198, 376, 277]</td>\n",
              "    </tr>\n",
              "    <tr>\n",
              "      <th>...</th>\n",
              "      <td>...</td>\n",
              "      <td>...</td>\n",
              "      <td>...</td>\n",
              "      <td>...</td>\n",
              "    </tr>\n",
              "    <tr>\n",
              "      <th>971</th>\n",
              "      <td>I think food should have flavor and texture an...</td>\n",
              "      <td>0</td>\n",
              "      <td>think food flavor textur lack</td>\n",
              "      <td>[382, 78, 64, 274, 455]</td>\n",
              "    </tr>\n",
              "    <tr>\n",
              "      <th>972</th>\n",
              "      <td>Appetite instantly gone.</td>\n",
              "      <td>0</td>\n",
              "      <td>appetit instantli gone</td>\n",
              "      <td>[497, 225, 405]</td>\n",
              "    </tr>\n",
              "    <tr>\n",
              "      <th>973</th>\n",
              "      <td>Overall I was not impressed and would not go b...</td>\n",
              "      <td>0</td>\n",
              "      <td>overal not impress would not go back</td>\n",
              "      <td>[295, 36, 234, 406, 36, 83, 426]</td>\n",
              "    </tr>\n",
              "    <tr>\n",
              "      <th>974</th>\n",
              "      <td>The whole experience was underwhelming and I t...</td>\n",
              "      <td>0</td>\n",
              "      <td>whole experi underwhelm think we ll go ninja s...</td>\n",
              "      <td>[130, 195, 285, 382, 163, 234, 83, 338, 271, 3...</td>\n",
              "    </tr>\n",
              "    <tr>\n",
              "      <th>975</th>\n",
              "      <td>Then as if I hadn't wasted enough of my life t...</td>\n",
              "      <td>0</td>\n",
              "      <td>wast enough life pour salt wound draw time too...</td>\n",
              "      <td>[133, 128, 120, 54, 395, 427, 87, 238, 412, 20...</td>\n",
              "    </tr>\n",
              "  </tbody>\n",
              "</table>\n",
              "<p>976 rows × 4 columns</p>\n",
              "</div>"
            ],
            "text/plain": [
              "                                                  text  ...                                             encode\n",
              "0                             Wow... Loved this place.  ...                                     [59, 325, 481]\n",
              "1                                   Crust is not good.  ...                                     [265, 36, 144]\n",
              "2            Not tasty and the texture was just nasty.  ...                                [36, 268, 274, 448]\n",
              "3    Stopped by during the late May bank holiday of...  ...    [68, 419, 414, 78, 102, 250, 77, 318, 325, 213]\n",
              "4    The selection on the menu was great and so wer...  ...                               [318, 198, 376, 277]\n",
              "..                                                 ...  ...                                                ...\n",
              "971  I think food should have flavor and texture an...  ...                            [382, 78, 64, 274, 455]\n",
              "972                           Appetite instantly gone.  ...                                    [497, 225, 405]\n",
              "973  Overall I was not impressed and would not go b...  ...                   [295, 36, 234, 406, 36, 83, 426]\n",
              "974  The whole experience was underwhelming and I t...  ...  [130, 195, 285, 382, 163, 234, 83, 338, 271, 3...\n",
              "975  Then as if I hadn't wasted enough of my life t...  ...  [133, 128, 120, 54, 395, 427, 87, 238, 412, 20...\n",
              "\n",
              "[976 rows x 4 columns]"
            ]
          },
          "metadata": {
            "tags": []
          },
          "execution_count": 59
        }
      ]
    },
    {
      "cell_type": "markdown",
      "metadata": {
        "id": "FnRMy2S0h-bh"
      },
      "source": [
        "Convert the encoded sequences into a numpy array and make sure all reviews are the same length using the `pad_sequences` function in Keras."
      ]
    },
    {
      "cell_type": "code",
      "metadata": {
        "id": "pk24Behch-bi"
      },
      "source": [
        "# Answer below:\n",
        "from tensorflow.keras.preprocessing.sequence import pad_sequences\n",
        "\n",
        "ind_var = pad_sequences(yelp['encode'])\n",
        "ind = pd.DataFrame(ind_var)\n",
        "yelp = pd.concat([yelp,ind],axis=1)\n",
        "yelp = yelp.drop('encode',axis=1)"
      ],
      "execution_count": 60,
      "outputs": []
    },
    {
      "cell_type": "markdown",
      "metadata": {
        "id": "XIclszsJh-bj"
      },
      "source": [
        "Split the data into train and test. Use 20% for test. The sentiment column should be used as the target variable."
      ]
    },
    {
      "cell_type": "code",
      "metadata": {
        "id": "zlaZSo-Yh-bk"
      },
      "source": [
        "# Answer below:\n",
        "from sklearn.model_selection import train_test_split\n",
        "y = yelp.sentiment\n",
        "X = ind_var\n",
        "\n",
        "X_train,X_test,y_train,y_test = train_test_split(X,y,test_size=0.2)\n"
      ],
      "execution_count": 83,
      "outputs": []
    },
    {
      "cell_type": "markdown",
      "metadata": {
        "id": "EAsqg_REh-bm"
      },
      "source": [
        "Create a sequential model. The model should contain an embedding layer with input dim that is the size of the largest encoding in the vocabulary. The output dim should be 100, the input length is the number of columns in the training data. \n",
        "After the embedding layer, add a SimpleRNN layer with unit size 32, a dense layer of size 8 and a dense output layer."
      ]
    },
    {
      "cell_type": "code",
      "metadata": {
        "id": "ssougKQUh-bm",
        "colab": {
          "base_uri": "https://localhost:8080/"
        },
        "outputId": "dfd3c033-a006-4e3a-eed2-6ffffbed3296"
      },
      "source": [
        "# Answer below:\n",
        "from tensorflow.keras.models import Sequential\n",
        "from tensorflow.keras.layers import Dense, Embedding, SimpleRNN\n",
        "\n",
        "max_words = np.max(ind_var)\n",
        "model = Sequential()\n",
        "model.add(Embedding(500, 100, input_length=ind_var.shape[1]))\n",
        "model.add(SimpleRNN(32))\n",
        "model.add(Dense(8, activation='relu'))\n",
        "model.add(Dense(1, activation='sigmoid'))\n",
        "model.summary()\n"
      ],
      "execution_count": 84,
      "outputs": [
        {
          "output_type": "stream",
          "text": [
            "Model: \"sequential_8\"\n",
            "_________________________________________________________________\n",
            "Layer (type)                 Output Shape              Param #   \n",
            "=================================================================\n",
            "embedding_6 (Embedding)      (None, 83, 100)           50000     \n",
            "_________________________________________________________________\n",
            "simple_rnn_6 (SimpleRNN)     (None, 32)                4256      \n",
            "_________________________________________________________________\n",
            "dense_12 (Dense)             (None, 8)                 264       \n",
            "_________________________________________________________________\n",
            "dense_13 (Dense)             (None, 1)                 9         \n",
            "=================================================================\n",
            "Total params: 54,529\n",
            "Trainable params: 54,529\n",
            "Non-trainable params: 0\n",
            "_________________________________________________________________\n"
          ],
          "name": "stdout"
        }
      ]
    },
    {
      "cell_type": "markdown",
      "metadata": {
        "id": "tjgqWnioh-bo"
      },
      "source": [
        "Compile using the optimizer of your choice, use crossentropy for your loss function. Fit the model using a batch size of 128 and 50 epochs"
      ]
    },
    {
      "cell_type": "code",
      "metadata": {
        "id": "ewNbf3fKh-bo",
        "colab": {
          "base_uri": "https://localhost:8080/"
        },
        "outputId": "5faf5563-0e4e-41a2-e895-86ea33deca84"
      },
      "source": [
        "# Answer below:\n",
        "\n",
        "model.compile(loss='binary_crossentropy', optimizer='adam', metrics=['accuracy'])\n",
        "model.fit(X_train, y_train, validation_data=(X_test, y_test), epochs=50, batch_size=128)"
      ],
      "execution_count": 85,
      "outputs": [
        {
          "output_type": "stream",
          "text": [
            "Epoch 1/50\n",
            "7/7 [==============================] - 1s 81ms/step - loss: 0.6919 - accuracy: 0.5390 - val_loss: 0.6965 - val_accuracy: 0.4337\n",
            "Epoch 2/50\n",
            "7/7 [==============================] - 0s 37ms/step - loss: 0.6666 - accuracy: 0.6373 - val_loss: 0.6978 - val_accuracy: 0.4490\n",
            "Epoch 3/50\n",
            "7/7 [==============================] - 0s 36ms/step - loss: 0.6341 - accuracy: 0.7135 - val_loss: 0.6901 - val_accuracy: 0.5357\n",
            "Epoch 4/50\n",
            "7/7 [==============================] - 0s 37ms/step - loss: 0.5764 - accuracy: 0.8275 - val_loss: 0.6898 - val_accuracy: 0.5306\n",
            "Epoch 5/50\n",
            "7/7 [==============================] - 0s 36ms/step - loss: 0.5103 - accuracy: 0.9016 - val_loss: 0.6821 - val_accuracy: 0.5714\n",
            "Epoch 6/50\n",
            "7/7 [==============================] - 0s 37ms/step - loss: 0.4449 - accuracy: 0.9235 - val_loss: 0.6830 - val_accuracy: 0.5867\n",
            "Epoch 7/50\n",
            "7/7 [==============================] - 0s 37ms/step - loss: 0.3796 - accuracy: 0.9236 - val_loss: 0.6944 - val_accuracy: 0.5816\n",
            "Epoch 8/50\n",
            "7/7 [==============================] - 0s 38ms/step - loss: 0.3180 - accuracy: 0.9533 - val_loss: 0.6803 - val_accuracy: 0.6224\n",
            "Epoch 9/50\n",
            "7/7 [==============================] - 0s 35ms/step - loss: 0.2623 - accuracy: 0.9608 - val_loss: 0.6922 - val_accuracy: 0.6480\n",
            "Epoch 10/50\n",
            "7/7 [==============================] - 0s 36ms/step - loss: 0.2029 - accuracy: 0.9778 - val_loss: 0.7015 - val_accuracy: 0.6327\n",
            "Epoch 11/50\n",
            "7/7 [==============================] - 0s 37ms/step - loss: 0.1801 - accuracy: 0.9777 - val_loss: 0.7121 - val_accuracy: 0.6327\n",
            "Epoch 12/50\n",
            "7/7 [==============================] - 0s 36ms/step - loss: 0.1417 - accuracy: 0.9857 - val_loss: 0.7253 - val_accuracy: 0.6327\n",
            "Epoch 13/50\n",
            "7/7 [==============================] - 1s 86ms/step - loss: 0.1194 - accuracy: 0.9872 - val_loss: 0.7638 - val_accuracy: 0.6378\n",
            "Epoch 14/50\n",
            "7/7 [==============================] - 0s 39ms/step - loss: 0.0963 - accuracy: 0.9902 - val_loss: 0.7568 - val_accuracy: 0.6480\n",
            "Epoch 15/50\n",
            "7/7 [==============================] - 0s 36ms/step - loss: 0.0908 - accuracy: 0.9810 - val_loss: 0.8106 - val_accuracy: 0.6378\n",
            "Epoch 16/50\n",
            "7/7 [==============================] - 0s 36ms/step - loss: 0.0731 - accuracy: 0.9899 - val_loss: 0.8696 - val_accuracy: 0.6327\n",
            "Epoch 17/50\n",
            "7/7 [==============================] - 0s 36ms/step - loss: 0.0634 - accuracy: 0.9922 - val_loss: 0.8864 - val_accuracy: 0.6378\n",
            "Epoch 18/50\n",
            "7/7 [==============================] - 0s 38ms/step - loss: 0.0543 - accuracy: 0.9927 - val_loss: 0.9190 - val_accuracy: 0.6122\n",
            "Epoch 19/50\n",
            "7/7 [==============================] - 0s 35ms/step - loss: 0.0476 - accuracy: 0.9915 - val_loss: 0.9440 - val_accuracy: 0.6173\n",
            "Epoch 20/50\n",
            "7/7 [==============================] - 0s 36ms/step - loss: 0.0353 - accuracy: 0.9979 - val_loss: 0.9944 - val_accuracy: 0.6327\n",
            "Epoch 21/50\n",
            "7/7 [==============================] - 0s 39ms/step - loss: 0.0397 - accuracy: 0.9897 - val_loss: 1.0082 - val_accuracy: 0.6173\n",
            "Epoch 22/50\n",
            "7/7 [==============================] - 0s 38ms/step - loss: 0.0318 - accuracy: 0.9979 - val_loss: 1.0197 - val_accuracy: 0.6122\n",
            "Epoch 23/50\n",
            "7/7 [==============================] - 0s 36ms/step - loss: 0.0298 - accuracy: 0.9977 - val_loss: 1.0438 - val_accuracy: 0.6224\n",
            "Epoch 24/50\n",
            "7/7 [==============================] - 0s 37ms/step - loss: 0.0235 - accuracy: 0.9988 - val_loss: 1.0990 - val_accuracy: 0.6378\n",
            "Epoch 25/50\n",
            "7/7 [==============================] - 0s 37ms/step - loss: 0.0263 - accuracy: 0.9960 - val_loss: 1.1114 - val_accuracy: 0.6224\n",
            "Epoch 26/50\n",
            "7/7 [==============================] - 0s 37ms/step - loss: 0.0215 - accuracy: 0.9983 - val_loss: 1.1261 - val_accuracy: 0.6224\n",
            "Epoch 27/50\n",
            "7/7 [==============================] - 0s 36ms/step - loss: 0.0208 - accuracy: 0.9951 - val_loss: 1.1395 - val_accuracy: 0.6173\n",
            "Epoch 28/50\n",
            "7/7 [==============================] - 0s 35ms/step - loss: 0.0152 - accuracy: 0.9988 - val_loss: 1.1624 - val_accuracy: 0.6173\n",
            "Epoch 29/50\n",
            "7/7 [==============================] - 0s 39ms/step - loss: 0.0179 - accuracy: 0.9964 - val_loss: 1.1800 - val_accuracy: 0.6173\n",
            "Epoch 30/50\n",
            "7/7 [==============================] - 0s 37ms/step - loss: 0.0157 - accuracy: 0.9976 - val_loss: 1.1905 - val_accuracy: 0.6173\n",
            "Epoch 31/50\n",
            "7/7 [==============================] - 0s 35ms/step - loss: 0.0153 - accuracy: 0.9986 - val_loss: 1.2111 - val_accuracy: 0.6173\n",
            "Epoch 32/50\n",
            "7/7 [==============================] - 0s 38ms/step - loss: 0.0154 - accuracy: 0.9965 - val_loss: 1.2316 - val_accuracy: 0.6173\n",
            "Epoch 33/50\n",
            "7/7 [==============================] - 0s 36ms/step - loss: 0.0119 - accuracy: 0.9986 - val_loss: 1.2445 - val_accuracy: 0.6173\n",
            "Epoch 34/50\n",
            "7/7 [==============================] - 0s 39ms/step - loss: 0.0114 - accuracy: 0.9978 - val_loss: 1.2607 - val_accuracy: 0.6173\n",
            "Epoch 35/50\n",
            "7/7 [==============================] - 0s 36ms/step - loss: 0.0134 - accuracy: 0.9967 - val_loss: 1.3007 - val_accuracy: 0.6276\n",
            "Epoch 36/50\n",
            "7/7 [==============================] - 0s 41ms/step - loss: 0.0118 - accuracy: 0.9988 - val_loss: 1.2846 - val_accuracy: 0.6071\n",
            "Epoch 37/50\n",
            "7/7 [==============================] - 0s 37ms/step - loss: 0.0104 - accuracy: 0.9990 - val_loss: 1.3260 - val_accuracy: 0.6071\n",
            "Epoch 38/50\n",
            "7/7 [==============================] - 0s 38ms/step - loss: 0.0115 - accuracy: 0.9981 - val_loss: 1.3766 - val_accuracy: 0.6327\n",
            "Epoch 39/50\n",
            "7/7 [==============================] - 0s 40ms/step - loss: 0.0106 - accuracy: 0.9981 - val_loss: 1.3914 - val_accuracy: 0.6327\n",
            "Epoch 40/50\n",
            "7/7 [==============================] - 0s 38ms/step - loss: 0.0110 - accuracy: 0.9976 - val_loss: 1.3759 - val_accuracy: 0.6122\n",
            "Epoch 41/50\n",
            "7/7 [==============================] - 0s 40ms/step - loss: 0.0138 - accuracy: 0.9966 - val_loss: 1.4016 - val_accuracy: 0.6173\n",
            "Epoch 42/50\n",
            "7/7 [==============================] - 0s 39ms/step - loss: 0.0119 - accuracy: 0.9964 - val_loss: 1.4121 - val_accuracy: 0.6173\n",
            "Epoch 43/50\n",
            "7/7 [==============================] - 0s 36ms/step - loss: 0.0070 - accuracy: 0.9988 - val_loss: 1.4239 - val_accuracy: 0.6224\n",
            "Epoch 44/50\n",
            "7/7 [==============================] - 0s 37ms/step - loss: 0.0082 - accuracy: 0.9975 - val_loss: 1.4235 - val_accuracy: 0.6224\n",
            "Epoch 45/50\n",
            "7/7 [==============================] - 0s 38ms/step - loss: 0.0085 - accuracy: 0.9978 - val_loss: 1.4418 - val_accuracy: 0.6224\n",
            "Epoch 46/50\n",
            "7/7 [==============================] - 0s 38ms/step - loss: 0.0086 - accuracy: 0.9981 - val_loss: 1.4375 - val_accuracy: 0.6173\n",
            "Epoch 47/50\n",
            "7/7 [==============================] - 0s 37ms/step - loss: 0.0105 - accuracy: 0.9960 - val_loss: 1.4420 - val_accuracy: 0.6173\n",
            "Epoch 48/50\n",
            "7/7 [==============================] - 0s 38ms/step - loss: 0.0088 - accuracy: 0.9981 - val_loss: 1.4812 - val_accuracy: 0.6276\n",
            "Epoch 49/50\n",
            "7/7 [==============================] - 0s 42ms/step - loss: 0.0095 - accuracy: 0.9970 - val_loss: 1.4778 - val_accuracy: 0.6224\n",
            "Epoch 50/50\n",
            "7/7 [==============================] - 0s 39ms/step - loss: 0.0079 - accuracy: 0.9990 - val_loss: 1.4800 - val_accuracy: 0.6122\n"
          ],
          "name": "stdout"
        },
        {
          "output_type": "execute_result",
          "data": {
            "text/plain": [
              "<tensorflow.python.keras.callbacks.History at 0x7fd62e55f588>"
            ]
          },
          "metadata": {
            "tags": []
          },
          "execution_count": 85
        }
      ]
    }
  ]
}