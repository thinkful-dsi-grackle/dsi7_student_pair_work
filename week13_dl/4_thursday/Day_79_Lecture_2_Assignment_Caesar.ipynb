{
  "nbformat": 4,
  "nbformat_minor": 0,
  "metadata": {
    "kernelspec": {
      "display_name": "Python 3",
      "language": "python",
      "name": "python3"
    },
    "language_info": {
      "codemirror_mode": {
        "name": "ipython",
        "version": 3
      },
      "file_extension": ".py",
      "mimetype": "text/x-python",
      "name": "python",
      "nbconvert_exporter": "python",
      "pygments_lexer": "ipython3",
      "version": "3.7.0"
    },
    "colab": {
      "name": "Day 79 Lecture 2 Assignment_Caesar.ipynb",
      "provenance": [],
      "collapsed_sections": []
    }
  },
  "cells": [
    {
      "cell_type": "markdown",
      "metadata": {
        "id": "oQfS-31Jh-bL"
      },
      "source": [
        "## Recurrent Neural Networks\n",
        "\n",
        "In this assignment, we will learn about recurrent neural networks. We will create an RNN and learn to classify text data."
      ]
    },
    {
      "cell_type": "code",
      "metadata": {
        "id": "BOy993_Xh-bM"
      },
      "source": [
        "import warnings\n",
        "warnings.filterwarnings(\"ignore\")\n",
        "\n",
        "import numpy as np\n",
        "import pandas as pd"
      ],
      "execution_count": 1,
      "outputs": []
    },
    {
      "cell_type": "code",
      "metadata": {
        "id": "ToNRsZf5h-bP",
        "colab": {
          "base_uri": "https://localhost:8080/"
        },
        "outputId": "c9a5d601-c50a-41cf-cffb-a5474f936b7e"
      },
      "source": [
        "yelp = pd.read_csv('https://tf-assets-prod.s3.amazonaws.com/tf-curric/data-science/yelp_labeled.csv', error_bad_lines=False)"
      ],
      "execution_count": 2,
      "outputs": [
        {
          "output_type": "stream",
          "text": [
            "b'Skipping line 281: expected 2 fields, saw 3\\nSkipping line 290: expected 2 fields, saw 3\\nSkipping line 296: expected 2 fields, saw 3\\nSkipping line 322: expected 2 fields, saw 3\\nSkipping line 373: expected 2 fields, saw 3\\nSkipping line 417: expected 2 fields, saw 3\\nSkipping line 427: expected 2 fields, saw 3\\nSkipping line 429: expected 2 fields, saw 3\\nSkipping line 577: expected 2 fields, saw 3\\nSkipping line 578: expected 2 fields, saw 3\\nSkipping line 611: expected 2 fields, saw 3\\nSkipping line 677: expected 2 fields, saw 3\\nSkipping line 771: expected 2 fields, saw 3\\nSkipping line 930: expected 2 fields, saw 3\\nSkipping line 979: expected 2 fields, saw 4\\nSkipping line 980: expected 2 fields, saw 3\\n'\n"
          ],
          "name": "stderr"
        }
      ]
    },
    {
      "cell_type": "code",
      "metadata": {
        "id": "7fKQfObOh-bX",
        "colab": {
          "base_uri": "https://localhost:8080/",
          "height": 204
        },
        "outputId": "ebbd0234-f7fe-4f17-eed6-1513eed862ba"
      },
      "source": [
        "yelp.head()"
      ],
      "execution_count": 3,
      "outputs": [
        {
          "output_type": "execute_result",
          "data": {
            "text/html": [
              "<div>\n",
              "<style scoped>\n",
              "    .dataframe tbody tr th:only-of-type {\n",
              "        vertical-align: middle;\n",
              "    }\n",
              "\n",
              "    .dataframe tbody tr th {\n",
              "        vertical-align: top;\n",
              "    }\n",
              "\n",
              "    .dataframe thead th {\n",
              "        text-align: right;\n",
              "    }\n",
              "</style>\n",
              "<table border=\"1\" class=\"dataframe\">\n",
              "  <thead>\n",
              "    <tr style=\"text-align: right;\">\n",
              "      <th></th>\n",
              "      <th>text</th>\n",
              "      <th>sentiment</th>\n",
              "    </tr>\n",
              "  </thead>\n",
              "  <tbody>\n",
              "    <tr>\n",
              "      <th>0</th>\n",
              "      <td>Wow... Loved this place.</td>\n",
              "      <td>1</td>\n",
              "    </tr>\n",
              "    <tr>\n",
              "      <th>1</th>\n",
              "      <td>Crust is not good.</td>\n",
              "      <td>0</td>\n",
              "    </tr>\n",
              "    <tr>\n",
              "      <th>2</th>\n",
              "      <td>Not tasty and the texture was just nasty.</td>\n",
              "      <td>0</td>\n",
              "    </tr>\n",
              "    <tr>\n",
              "      <th>3</th>\n",
              "      <td>Stopped by during the late May bank holiday of...</td>\n",
              "      <td>1</td>\n",
              "    </tr>\n",
              "    <tr>\n",
              "      <th>4</th>\n",
              "      <td>The selection on the menu was great and so wer...</td>\n",
              "      <td>1</td>\n",
              "    </tr>\n",
              "  </tbody>\n",
              "</table>\n",
              "</div>"
            ],
            "text/plain": [
              "                                                text  sentiment\n",
              "0                           Wow... Loved this place.          1\n",
              "1                                 Crust is not good.          0\n",
              "2          Not tasty and the texture was just nasty.          0\n",
              "3  Stopped by during the late May bank holiday of...          1\n",
              "4  The selection on the menu was great and so wer...          1"
            ]
          },
          "metadata": {
            "tags": []
          },
          "execution_count": 3
        }
      ]
    },
    {
      "cell_type": "code",
      "metadata": {
        "id": "yXyJFyo9h-bZ",
        "colab": {
          "base_uri": "https://localhost:8080/"
        },
        "outputId": "0f4bb234-01fd-4677-8152-66f494438701"
      },
      "source": [
        "yelp.sentiment.value_counts()"
      ],
      "execution_count": 4,
      "outputs": [
        {
          "output_type": "execute_result",
          "data": {
            "text/plain": [
              "1    494\n",
              "0    482\n",
              "Name: sentiment, dtype: int64"
            ]
          },
          "metadata": {
            "tags": []
          },
          "execution_count": 4
        }
      ]
    },
    {
      "cell_type": "markdown",
      "metadata": {
        "id": "bp0a4qU9h-bb"
      },
      "source": [
        "We have loaded a Yelp review dataset above. A positive sentiment is classified as 1 and a negative sentiment is classified as 0. "
      ]
    },
    {
      "cell_type": "code",
      "metadata": {
        "id": "Zyboex_Vh-bb"
      },
      "source": [
        "from nltk.corpus import stopwords\n",
        "import re\n",
        "import nltk\n",
        "from nltk.stem.porter import PorterStemmer\n",
        "\n",
        "stemmer = PorterStemmer()\n",
        "\n",
        "def remove_stopwords(input_text):\n",
        "        stopwords_list = stopwords.words('english')\n",
        "        # Some words which might indicate a certain sentiment are kept via a whitelist\n",
        "        whitelist = [\"n't\", \"not\", \"no\"]\n",
        "        words = input_text.split() \n",
        "        clean_words = [word for word in words if (word not in stopwords_list or word in whitelist) and len(word) > 1] \n",
        "        return \" \".join(clean_words)       \n",
        "\n",
        "def stem_list(word_list):\n",
        "    stemmed = []\n",
        "    for word in word_list:\n",
        "        stemmedword = stemmer.stem(word)\n",
        "        stemmed.append(stemmedword)\n",
        "    return stemmed\n",
        "\n",
        "def normalize(terms):\n",
        "    terms = terms.lower()\n",
        "    terms = remove_stopwords(terms)\n",
        "    word_delimiters = u'[\\\\[\\\\]\\n.!?,;:\\t\\\\-\\\\\"\\\\(\\\\)\\\\\\'\\u2019\\u2013 ]'\n",
        "    term_list = re.split(word_delimiters, terms)\n",
        "    trimmed = [x.rstrip() for x in term_list]\n",
        "    stemmed = stem_list(trimmed)\n",
        "    space = ' '\n",
        "    normed = space.join(stemmed)\n",
        "    normed = normed.replace('  ', ' ')\n",
        "    return normed"
      ],
      "execution_count": 5,
      "outputs": []
    },
    {
      "cell_type": "code",
      "metadata": {
        "colab": {
          "base_uri": "https://localhost:8080/"
        },
        "id": "s439pzWRSF_F",
        "outputId": "0556560c-b0bf-4082-acdb-4fba204f74df"
      },
      "source": [
        "nltk.download('stopwords')\r\n",
        "nltk.download('punkt')"
      ],
      "execution_count": 27,
      "outputs": [
        {
          "output_type": "stream",
          "text": [
            "[nltk_data] Downloading package stopwords to /root/nltk_data...\n",
            "[nltk_data]   Package stopwords is already up-to-date!\n",
            "[nltk_data] Downloading package punkt to /root/nltk_data...\n",
            "[nltk_data]   Unzipping tokenizers/punkt.zip.\n"
          ],
          "name": "stdout"
        },
        {
          "output_type": "execute_result",
          "data": {
            "text/plain": [
              "True"
            ]
          },
          "metadata": {
            "tags": []
          },
          "execution_count": 27
        }
      ]
    },
    {
      "cell_type": "markdown",
      "metadata": {
        "id": "CsuGlOW8h-bd"
      },
      "source": [
        "In the code block above, we have functions to remove stopwords, stem, and normalize the text (remove special characters and trim white space). Apply the normalize function to every yelp review and assign the normalized text to a new column."
      ]
    },
    {
      "cell_type": "code",
      "metadata": {
        "id": "BDWbek-Yh-be",
        "colab": {
          "base_uri": "https://localhost:8080/",
          "height": 204
        },
        "outputId": "257167b5-223b-4fd3-8ae7-c687935b3b3c"
      },
      "source": [
        "# Answer below:\n",
        "yelp['normalized'] = yelp.text.apply(lambda x: normalize(x))\n",
        "yelp.head()"
      ],
      "execution_count": 28,
      "outputs": [
        {
          "output_type": "execute_result",
          "data": {
            "text/html": [
              "<div>\n",
              "<style scoped>\n",
              "    .dataframe tbody tr th:only-of-type {\n",
              "        vertical-align: middle;\n",
              "    }\n",
              "\n",
              "    .dataframe tbody tr th {\n",
              "        vertical-align: top;\n",
              "    }\n",
              "\n",
              "    .dataframe thead th {\n",
              "        text-align: right;\n",
              "    }\n",
              "</style>\n",
              "<table border=\"1\" class=\"dataframe\">\n",
              "  <thead>\n",
              "    <tr style=\"text-align: right;\">\n",
              "      <th></th>\n",
              "      <th>text</th>\n",
              "      <th>sentiment</th>\n",
              "      <th>normalized</th>\n",
              "    </tr>\n",
              "  </thead>\n",
              "  <tbody>\n",
              "    <tr>\n",
              "      <th>0</th>\n",
              "      <td>Wow... Loved this place.</td>\n",
              "      <td>1</td>\n",
              "      <td>wow  love place</td>\n",
              "    </tr>\n",
              "    <tr>\n",
              "      <th>1</th>\n",
              "      <td>Crust is not good.</td>\n",
              "      <td>0</td>\n",
              "      <td>crust not good</td>\n",
              "    </tr>\n",
              "    <tr>\n",
              "      <th>2</th>\n",
              "      <td>Not tasty and the texture was just nasty.</td>\n",
              "      <td>0</td>\n",
              "      <td>not tasti textur nasti</td>\n",
              "    </tr>\n",
              "    <tr>\n",
              "      <th>3</th>\n",
              "      <td>Stopped by during the late May bank holiday of...</td>\n",
              "      <td>1</td>\n",
              "      <td>stop late may bank holiday rick steve recommen...</td>\n",
              "    </tr>\n",
              "    <tr>\n",
              "      <th>4</th>\n",
              "      <td>The selection on the menu was great and so wer...</td>\n",
              "      <td>1</td>\n",
              "      <td>select menu great price</td>\n",
              "    </tr>\n",
              "  </tbody>\n",
              "</table>\n",
              "</div>"
            ],
            "text/plain": [
              "                                                text  ...                                         normalized\n",
              "0                           Wow... Loved this place.  ...                                   wow  love place \n",
              "1                                 Crust is not good.  ...                                    crust not good \n",
              "2          Not tasty and the texture was just nasty.  ...                            not tasti textur nasti \n",
              "3  Stopped by during the late May bank holiday of...  ...  stop late may bank holiday rick steve recommen...\n",
              "4  The selection on the menu was great and so wer...  ...                           select menu great price \n",
              "\n",
              "[5 rows x 3 columns]"
            ]
          },
          "metadata": {
            "tags": []
          },
          "execution_count": 28
        }
      ]
    },
    {
      "cell_type": "markdown",
      "metadata": {
        "id": "tywlufjyh-bf"
      },
      "source": [
        "Next, use the one hot function for text encoding and encode the normalized text. Determine the vocabulary size to perform the encoding."
      ]
    },
    {
      "cell_type": "code",
      "metadata": {
        "colab": {
          "base_uri": "https://localhost:8080/"
        },
        "id": "UxdOO0SL4u9M",
        "outputId": "ab6b4030-8127-4493-b003-1adcdb3c16e9"
      },
      "source": [
        "from nltk import word_tokenize\r\n",
        "\r\n",
        "words = []\r\n",
        "for doc in yelp.normalized:\r\n",
        "  for word in word_tokenize(doc):\r\n",
        "      words.append(word)\r\n",
        "\r\n",
        "unique = set(words)\r\n",
        "nb_unique_words = len(unique)\r\n",
        "nb_unique_words"
      ],
      "execution_count": 29,
      "outputs": [
        {
          "output_type": "execute_result",
          "data": {
            "text/plain": [
              "1626"
            ]
          },
          "metadata": {
            "tags": []
          },
          "execution_count": 29
        }
      ]
    },
    {
      "cell_type": "code",
      "metadata": {
        "id": "NWKnOSd_h-bg"
      },
      "source": [
        "from tensorflow.keras.preprocessing.text import one_hot\n",
        "\n",
        "vocab_size = nb_unique_words\n",
        "encoded_text = [one_hot(doc, vocab_size) for doc in yelp.normalized]"
      ],
      "execution_count": 30,
      "outputs": []
    },
    {
      "cell_type": "code",
      "metadata": {
        "colab": {
          "base_uri": "https://localhost:8080/"
        },
        "id": "OMKRHlY1afGG",
        "outputId": "809589e4-7fd4-4ae5-d8ba-c5614de37c5d"
      },
      "source": [
        "encoded_text[0:5]"
      ],
      "execution_count": 31,
      "outputs": [
        {
          "output_type": "execute_result",
          "data": {
            "text/plain": [
              "[[828, 1235, 1265],\n",
              " [50, 1095, 186],\n",
              " [1095, 1444, 241, 853],\n",
              " [918, 96, 260, 644, 1363, 714, 584, 1599, 1235, 1067],\n",
              " [84, 362, 503, 598]]"
            ]
          },
          "metadata": {
            "tags": []
          },
          "execution_count": 31
        }
      ]
    },
    {
      "cell_type": "markdown",
      "metadata": {
        "id": "FnRMy2S0h-bh"
      },
      "source": [
        "Convert the encoded sequences into a numpy array and make sure all reviews are the same length using the `pad_sequences` function in Keras."
      ]
    },
    {
      "cell_type": "code",
      "metadata": {
        "id": "pk24Behch-bi"
      },
      "source": [
        "from tensorflow.keras.preprocessing.sequence import pad_sequences\n",
        "\n",
        "ind_vars = pad_sequences(encoded_text)"
      ],
      "execution_count": 17,
      "outputs": []
    },
    {
      "cell_type": "code",
      "metadata": {
        "colab": {
          "base_uri": "https://localhost:8080/"
        },
        "id": "lSBqTWE8alZ4",
        "outputId": "fb37c232-ce71-4d54-fd01-f6c638517461"
      },
      "source": [
        "ind_vars[0]"
      ],
      "execution_count": 18,
      "outputs": [
        {
          "output_type": "execute_result",
          "data": {
            "text/plain": [
              "array([  0,   0,   0,   0,   0,   0,   0,   0,   0,   0,   0,   0,   0,\n",
              "         0,   0,   0,   0,   0,   0,   0,   0,   0,   0,   0,   0,   0,\n",
              "         0,   0,   0,   0,   0,   0,   0,   0,   0,   0,   0,   0,   0,\n",
              "         0,   0,   0,   0,   0,   0,   0,   0,   0,   0,   0,   0,   0,\n",
              "         0,   0,   0,   0,   0,   0,   0,   0,   0,   0,   0,   0,   0,\n",
              "         0,   0,   0,   0,   0,   0,   0,   0,   0,   0,   0,   0,   0,\n",
              "         0,   0, 245,  80, 791], dtype=int32)"
            ]
          },
          "metadata": {
            "tags": []
          },
          "execution_count": 18
        }
      ]
    },
    {
      "cell_type": "markdown",
      "metadata": {
        "id": "XIclszsJh-bj"
      },
      "source": [
        "Split the data into train and test. Use 20% for test. The sentiment column should be used as the target variable."
      ]
    },
    {
      "cell_type": "code",
      "metadata": {
        "id": "zlaZSo-Yh-bk"
      },
      "source": [
        "from sklearn.model_selection import train_test_split as tts\n",
        "\n",
        "x = ind_vars\n",
        "y = np.array(yelp.sentiment)\n",
        "\n",
        "X_train, X_test, y_train, y_test = tts(x, y, test_size=0.2)"
      ],
      "execution_count": 32,
      "outputs": []
    },
    {
      "cell_type": "markdown",
      "metadata": {
        "id": "EAsqg_REh-bm"
      },
      "source": [
        "Create a sequential model. The model should contain an embedding layer with input dim that is the size of the largest encoding in the vocabulary. The output dim should be 100, the input length is the number of columns in the training data. \n",
        "After the embedding layer, add a SimpleRNN layer with unit size 32, a dense layer of size 8 and a dense output layer."
      ]
    },
    {
      "cell_type": "code",
      "metadata": {
        "colab": {
          "base_uri": "https://localhost:8080/"
        },
        "id": "eENYEFnja6bv",
        "outputId": "0786e3a9-100e-4d48-bb33-8940b76329c8"
      },
      "source": [
        "import numpy as np\r\n",
        "from tensorflow.keras.models import Sequential \r\n",
        "from tensorflow.keras.layers import Dense, Embedding, SimpleRNN\r\n",
        "\r\n",
        "max_words = np.max(ind_vars)\r\n",
        "max_words"
      ],
      "execution_count": 33,
      "outputs": [
        {
          "output_type": "execute_result",
          "data": {
            "text/plain": [
              "999"
            ]
          },
          "metadata": {
            "tags": []
          },
          "execution_count": 33
        }
      ]
    },
    {
      "cell_type": "code",
      "metadata": {
        "colab": {
          "base_uri": "https://localhost:8080/"
        },
        "id": "7zK7h6lr5Y-q",
        "outputId": "9a40f3be-221c-419c-bcf0-453d33312bfa"
      },
      "source": [
        "ind_vars.shape[1]"
      ],
      "execution_count": 37,
      "outputs": [
        {
          "output_type": "execute_result",
          "data": {
            "text/plain": [
              "83"
            ]
          },
          "metadata": {
            "tags": []
          },
          "execution_count": 37
        }
      ]
    },
    {
      "cell_type": "code",
      "metadata": {
        "colab": {
          "base_uri": "https://localhost:8080/"
        },
        "id": "Hg9Dl_315gEv",
        "outputId": "3582c60c-2a98-49f6-b9a1-5e4a586edeaf"
      },
      "source": [
        "X_train.shape[1]"
      ],
      "execution_count": 39,
      "outputs": [
        {
          "output_type": "execute_result",
          "data": {
            "text/plain": [
              "83"
            ]
          },
          "metadata": {
            "tags": []
          },
          "execution_count": 39
        }
      ]
    },
    {
      "cell_type": "code",
      "metadata": {
        "colab": {
          "base_uri": "https://localhost:8080/"
        },
        "id": "0EQLY43W5B_m",
        "outputId": "36339654-112b-4af9-cea5-34d03f475306"
      },
      "source": [
        "model = Sequential()\r\n",
        "model.add(Embedding(vocab_size, 100, input_length=X_train.shape[1]))\r\n",
        "model.add(SimpleRNN(32))\r\n",
        "model.add(Dense(8, activation='relu'))\r\n",
        "model.add(Dense(1, activation='sigmoid'))\r\n",
        "model.summary()"
      ],
      "execution_count": 40,
      "outputs": [
        {
          "output_type": "stream",
          "text": [
            "Model: \"sequential_4\"\n",
            "_________________________________________________________________\n",
            "Layer (type)                 Output Shape              Param #   \n",
            "=================================================================\n",
            "embedding_3 (Embedding)      (None, 83, 100)           162600    \n",
            "_________________________________________________________________\n",
            "simple_rnn_3 (SimpleRNN)     (None, 32)                4256      \n",
            "_________________________________________________________________\n",
            "dense_6 (Dense)              (None, 8)                 264       \n",
            "_________________________________________________________________\n",
            "dense_7 (Dense)              (None, 1)                 9         \n",
            "=================================================================\n",
            "Total params: 167,129\n",
            "Trainable params: 167,129\n",
            "Non-trainable params: 0\n",
            "_________________________________________________________________\n"
          ],
          "name": "stdout"
        }
      ]
    },
    {
      "cell_type": "markdown",
      "metadata": {
        "id": "tjgqWnioh-bo"
      },
      "source": [
        "Compile using the optimizer of your choice, use crossentropy for your loss function. Fit the model using a batch size of 128 and 50 epochs"
      ]
    },
    {
      "cell_type": "code",
      "metadata": {
        "id": "ewNbf3fKh-bo",
        "colab": {
          "base_uri": "https://localhost:8080/"
        },
        "outputId": "264ae59c-d2c8-4dad-8264-cd9077057967"
      },
      "source": [
        "model.compile(optimizer='adam', loss='binary_crossentropy', metrics=['accuracy'])\n",
        "model.fit(X_train, y_train, epochs=50, batch_size=128, validation_data=(X_test, y_test))"
      ],
      "execution_count": 36,
      "outputs": [
        {
          "output_type": "stream",
          "text": [
            "Epoch 1/50\n",
            "7/7 [==============================] - 2s 89ms/step - loss: 0.6952 - accuracy: 0.5251 - val_loss: 0.6917 - val_accuracy: 0.5255\n",
            "Epoch 2/50\n",
            "7/7 [==============================] - 0s 41ms/step - loss: 0.6694 - accuracy: 0.7398 - val_loss: 0.6882 - val_accuracy: 0.5306\n",
            "Epoch 3/50\n",
            "7/7 [==============================] - 0s 42ms/step - loss: 0.6330 - accuracy: 0.7523 - val_loss: 0.6801 - val_accuracy: 0.5765\n",
            "Epoch 4/50\n",
            "7/7 [==============================] - 0s 37ms/step - loss: 0.5934 - accuracy: 0.8172 - val_loss: 0.6623 - val_accuracy: 0.6224\n",
            "Epoch 5/50\n",
            "7/7 [==============================] - 0s 37ms/step - loss: 0.5291 - accuracy: 0.9315 - val_loss: 0.6469 - val_accuracy: 0.5969\n",
            "Epoch 6/50\n",
            "7/7 [==============================] - 0s 39ms/step - loss: 0.4673 - accuracy: 0.9362 - val_loss: 0.6505 - val_accuracy: 0.5816\n",
            "Epoch 7/50\n",
            "7/7 [==============================] - 1s 84ms/step - loss: 0.4169 - accuracy: 0.8624 - val_loss: 0.6050 - val_accuracy: 0.6582\n",
            "Epoch 8/50\n",
            "7/7 [==============================] - 0s 39ms/step - loss: 0.3449 - accuracy: 0.9709 - val_loss: 0.5877 - val_accuracy: 0.6480\n",
            "Epoch 9/50\n",
            "7/7 [==============================] - 0s 40ms/step - loss: 0.2928 - accuracy: 0.9724 - val_loss: 0.5794 - val_accuracy: 0.6480\n",
            "Epoch 10/50\n",
            "7/7 [==============================] - 0s 37ms/step - loss: 0.2439 - accuracy: 0.9618 - val_loss: 0.5662 - val_accuracy: 0.6990\n",
            "Epoch 11/50\n",
            "7/7 [==============================] - 0s 39ms/step - loss: 0.1945 - accuracy: 0.9802 - val_loss: 0.5846 - val_accuracy: 0.6582\n",
            "Epoch 12/50\n",
            "7/7 [==============================] - 0s 43ms/step - loss: 0.1676 - accuracy: 0.9794 - val_loss: 0.5708 - val_accuracy: 0.7398\n",
            "Epoch 13/50\n",
            "7/7 [==============================] - 0s 40ms/step - loss: 0.1301 - accuracy: 0.9924 - val_loss: 0.6113 - val_accuracy: 0.6837\n",
            "Epoch 14/50\n",
            "7/7 [==============================] - 0s 40ms/step - loss: 0.1130 - accuracy: 0.9881 - val_loss: 0.6012 - val_accuracy: 0.7143\n",
            "Epoch 15/50\n",
            "7/7 [==============================] - 0s 40ms/step - loss: 0.0984 - accuracy: 0.9887 - val_loss: 0.5799 - val_accuracy: 0.7194\n",
            "Epoch 16/50\n",
            "7/7 [==============================] - 0s 41ms/step - loss: 0.0879 - accuracy: 0.9921 - val_loss: 0.6199 - val_accuracy: 0.7143\n",
            "Epoch 17/50\n",
            "7/7 [==============================] - 0s 42ms/step - loss: 0.0752 - accuracy: 0.9954 - val_loss: 0.5898 - val_accuracy: 0.7449\n",
            "Epoch 18/50\n",
            "7/7 [==============================] - 0s 39ms/step - loss: 0.0629 - accuracy: 0.9941 - val_loss: 0.6138 - val_accuracy: 0.7398\n",
            "Epoch 19/50\n",
            "7/7 [==============================] - 0s 40ms/step - loss: 0.0565 - accuracy: 0.9956 - val_loss: 0.6340 - val_accuracy: 0.7449\n",
            "Epoch 20/50\n",
            "7/7 [==============================] - 0s 40ms/step - loss: 0.0491 - accuracy: 0.9973 - val_loss: 0.7329 - val_accuracy: 0.6939\n",
            "Epoch 21/50\n",
            "7/7 [==============================] - 0s 41ms/step - loss: 0.0517 - accuracy: 0.9935 - val_loss: 0.6599 - val_accuracy: 0.7398\n",
            "Epoch 22/50\n",
            "7/7 [==============================] - 0s 39ms/step - loss: 0.0411 - accuracy: 0.9964 - val_loss: 0.6588 - val_accuracy: 0.7500\n",
            "Epoch 23/50\n",
            "7/7 [==============================] - 0s 41ms/step - loss: 0.0380 - accuracy: 0.9960 - val_loss: 0.6847 - val_accuracy: 0.7551\n",
            "Epoch 24/50\n",
            "7/7 [==============================] - 0s 40ms/step - loss: 0.0314 - accuracy: 0.9964 - val_loss: 0.7111 - val_accuracy: 0.7347\n",
            "Epoch 25/50\n",
            "7/7 [==============================] - 0s 42ms/step - loss: 0.0245 - accuracy: 0.9995 - val_loss: 0.7329 - val_accuracy: 0.7347\n",
            "Epoch 26/50\n",
            "7/7 [==============================] - 0s 40ms/step - loss: 0.0220 - accuracy: 0.9993 - val_loss: 0.7417 - val_accuracy: 0.7500\n",
            "Epoch 27/50\n",
            "7/7 [==============================] - 0s 40ms/step - loss: 0.0207 - accuracy: 0.9988 - val_loss: 0.7563 - val_accuracy: 0.7449\n",
            "Epoch 28/50\n",
            "7/7 [==============================] - 0s 40ms/step - loss: 0.0211 - accuracy: 0.9973 - val_loss: 0.7716 - val_accuracy: 0.7449\n",
            "Epoch 29/50\n",
            "7/7 [==============================] - 0s 40ms/step - loss: 0.0143 - accuracy: 0.9995 - val_loss: 0.7856 - val_accuracy: 0.7500\n",
            "Epoch 30/50\n",
            "7/7 [==============================] - 0s 40ms/step - loss: 0.0152 - accuracy: 0.9993 - val_loss: 0.8009 - val_accuracy: 0.7551\n",
            "Epoch 31/50\n",
            "7/7 [==============================] - 0s 40ms/step - loss: 0.0142 - accuracy: 0.9993 - val_loss: 0.8150 - val_accuracy: 0.7500\n",
            "Epoch 32/50\n",
            "7/7 [==============================] - 0s 42ms/step - loss: 0.0132 - accuracy: 0.9991 - val_loss: 0.8294 - val_accuracy: 0.7500\n",
            "Epoch 33/50\n",
            "7/7 [==============================] - 0s 43ms/step - loss: 0.0117 - accuracy: 0.9995 - val_loss: 0.8433 - val_accuracy: 0.7551\n",
            "Epoch 34/50\n",
            "7/7 [==============================] - 0s 40ms/step - loss: 0.0123 - accuracy: 0.9983 - val_loss: 0.8568 - val_accuracy: 0.7551\n",
            "Epoch 35/50\n",
            "7/7 [==============================] - 0s 40ms/step - loss: 0.0109 - accuracy: 0.9988 - val_loss: 0.8698 - val_accuracy: 0.7500\n",
            "Epoch 36/50\n",
            "7/7 [==============================] - 0s 39ms/step - loss: 0.0129 - accuracy: 0.9983 - val_loss: 0.8818 - val_accuracy: 0.7500\n",
            "Epoch 37/50\n",
            "7/7 [==============================] - 0s 38ms/step - loss: 0.0104 - accuracy: 0.9993 - val_loss: 0.8914 - val_accuracy: 0.7449\n",
            "Epoch 38/50\n",
            "7/7 [==============================] - 0s 40ms/step - loss: 0.0132 - accuracy: 0.9973 - val_loss: 0.9050 - val_accuracy: 0.7551\n",
            "Epoch 39/50\n",
            "7/7 [==============================] - 0s 38ms/step - loss: 0.0083 - accuracy: 0.9991 - val_loss: 0.9143 - val_accuracy: 0.7551\n",
            "Epoch 40/50\n",
            "7/7 [==============================] - 0s 38ms/step - loss: 0.0090 - accuracy: 0.9988 - val_loss: 0.9250 - val_accuracy: 0.7500\n",
            "Epoch 41/50\n",
            "7/7 [==============================] - 0s 42ms/step - loss: 0.0089 - accuracy: 0.9991 - val_loss: 0.9443 - val_accuracy: 0.7296\n",
            "Epoch 42/50\n",
            "7/7 [==============================] - 0s 41ms/step - loss: 0.0092 - accuracy: 0.9993 - val_loss: 0.9437 - val_accuracy: 0.7551\n",
            "Epoch 43/50\n",
            "7/7 [==============================] - 0s 41ms/step - loss: 0.0072 - accuracy: 0.9993 - val_loss: 0.9620 - val_accuracy: 0.7551\n",
            "Epoch 44/50\n",
            "7/7 [==============================] - 0s 38ms/step - loss: 0.0061 - accuracy: 0.9995 - val_loss: 0.9653 - val_accuracy: 0.7551\n",
            "Epoch 45/50\n",
            "7/7 [==============================] - 0s 43ms/step - loss: 0.0059 - accuracy: 0.9995 - val_loss: 0.9782 - val_accuracy: 0.7551\n",
            "Epoch 46/50\n",
            "7/7 [==============================] - 0s 39ms/step - loss: 0.0061 - accuracy: 0.9993 - val_loss: 0.9875 - val_accuracy: 0.7551\n",
            "Epoch 47/50\n",
            "7/7 [==============================] - 0s 40ms/step - loss: 0.0084 - accuracy: 0.9973 - val_loss: 0.9961 - val_accuracy: 0.7500\n",
            "Epoch 48/50\n",
            "7/7 [==============================] - 0s 63ms/step - loss: 0.0079 - accuracy: 0.9973 - val_loss: 1.0051 - val_accuracy: 0.7500\n",
            "Epoch 49/50\n",
            "7/7 [==============================] - 0s 41ms/step - loss: 0.0070 - accuracy: 0.9991 - val_loss: 1.0107 - val_accuracy: 0.7551\n",
            "Epoch 50/50\n",
            "7/7 [==============================] - 0s 38ms/step - loss: 0.0046 - accuracy: 0.9995 - val_loss: 1.0211 - val_accuracy: 0.7551\n"
          ],
          "name": "stdout"
        },
        {
          "output_type": "execute_result",
          "data": {
            "text/plain": [
              "<tensorflow.python.keras.callbacks.History at 0x7f8b6682abe0>"
            ]
          },
          "metadata": {
            "tags": []
          },
          "execution_count": 36
        }
      ]
    }
  ]
}