{
  "nbformat": 4,
  "nbformat_minor": 0,
  "metadata": {
    "kernelspec": {
      "display_name": "Python 3",
      "language": "python",
      "name": "python3"
    },
    "language_info": {
      "codemirror_mode": {
        "name": "ipython",
        "version": 3
      },
      "file_extension": ".py",
      "mimetype": "text/x-python",
      "name": "python",
      "nbconvert_exporter": "python",
      "pygments_lexer": "ipython3",
      "version": "3.7.0"
    },
    "colab": {
      "name": "kalika of Day 79 Lecture 1 Assignment.ipynb",
      "provenance": [],
      "collapsed_sections": []
    },
    "accelerator": "GPU"
  },
  "cells": [
    {
      "cell_type": "markdown",
      "metadata": {
        "id": "DuT0K8LDKm45"
      },
      "source": [
        "## Convolutional Neural Networks\n",
        "\n",
        "In this assignment, we will learn about convolutional neural networks. We will create a CNN and learn to classify image data."
      ]
    },
    {
      "cell_type": "markdown",
      "metadata": {
        "id": "tMD7Nr8hKm47"
      },
      "source": [
        "In this lecture, we will use the image data generator to classify our data. The data is loaded below:"
      ]
    },
    {
      "cell_type": "code",
      "metadata": {
        "id": "6swIc-rGKm47"
      },
      "source": [
        "import numpy as np\n",
        "import pandas as pd\n",
        "\n",
        "from tensorflow.keras.preprocessing.image import ImageDataGenerator\n",
        "from tensorflow.keras.models import Sequential\n",
        "from tensorflow.keras.layers import Conv2D, MaxPooling2D\n",
        "from tensorflow.keras.layers import Activation, Dropout, Flatten, Dense, BatchNormalization \n",
        "from tensorflow.keras import backend as K\n",
        "from tensorflow.keras.models import Model"
      ],
      "execution_count": 1,
      "outputs": []
    },
    {
      "cell_type": "code",
      "metadata": {
        "id": "WxuDmAQlKm4-"
      },
      "source": [
        "PATH = '/content/drive/MyDrive/content'\n",
        "train_data_dir = PATH + '/dogs-vs-cats/train/'\n",
        "test_data_dir = PATH + '/dogs-vs-cats/test/'\n",
        "\n",
        "img_width, img_height = 150, 150\n",
        "batch_size = 80"
      ],
      "execution_count": 2,
      "outputs": []
    },
    {
      "cell_type": "code",
      "metadata": {
        "id": "SCfRV8VGKm5A"
      },
      "source": [
        "#This block of code is used to ensure the input shape is correct\n",
        "\n",
        "if K.image_data_format() == 'channels_first':\n",
        "    input_shape = (3, img_width, img_height)\n",
        "else:\n",
        "    input_shape = (img_width, img_height, 3)"
      ],
      "execution_count": 3,
      "outputs": []
    },
    {
      "cell_type": "markdown",
      "metadata": {
        "id": "T4x9el54Km5C"
      },
      "source": [
        "Define a train data generator with shear range of 0.3, zoom range of 0.1 and rescale to 1./255 (note that we must make 1 a float to produce a correct fraction). Use the ImageDataGenerator function."
      ]
    },
    {
      "cell_type": "code",
      "metadata": {
        "id": "EfKBxGZpKm5D"
      },
      "source": [
        "# Answer below:\n",
        "\n",
        "#parameters\n",
        "class_mode = 'binary'\n",
        "\n",
        "# create generator\n",
        "datagen = ImageDataGenerator(rescale=1./255.,validation_split=0.25, \n",
        "                             shear_range = 0.3,\n",
        "                              zoom_range = 0.1)\n"
      ],
      "execution_count": 4,
      "outputs": []
    },
    {
      "cell_type": "markdown",
      "metadata": {
        "id": "5oQJZOxNKm5E"
      },
      "source": [
        "Define a test data generator that only rescales to 1./255. Use the ImageDataGenerator function."
      ]
    },
    {
      "cell_type": "code",
      "metadata": {
        "id": "_U3XQZVLKm5F"
      },
      "source": [
        "# Answer below:\n",
        "# create generator\n",
        "testgen = ImageDataGenerator(rescale=1./255., shear_range = 0.3,\n",
        "                                            zoom_range = 0.1,)"
      ],
      "execution_count": 5,
      "outputs": []
    },
    {
      "cell_type": "markdown",
      "metadata": {
        "id": "S0NCOxrCKm5G"
      },
      "source": [
        "The train generator and the test generator are defined below:"
      ]
    },
    {
      "cell_type": "code",
      "metadata": {
        "id": "zDgonF6uKm5H",
        "colab": {
          "base_uri": "https://localhost:8080/"
        },
        "outputId": "19914004-e27f-4fb2-e625-8b32e5000ebe"
      },
      "source": [
        "# prepare an iterators for each dataset\n",
        "train = datagen.flow_from_directory(train_data_dir, \n",
        "                                    class_mode=class_mode, \n",
        "                                    target_size =(img_width, img_height), \n",
        "                                    shuffle=True,\n",
        "                                    batch_size=32,\n",
        "                                    subset=\"training\")\n",
        "\n",
        "valid = datagen.flow_from_directory(train_data_dir,\n",
        "                                            shuffle=True,\n",
        "                                            class_mode=class_mode,\n",
        "                                            target_size=(img_width, img_height), \n",
        "                                            batch_size=32,\n",
        "                                            subset=\"validation\")\n",
        "\n",
        "\n",
        "#Shuffle off for test data so that I can run the classification report against prediction made on this data. \n",
        "test = testgen.flow_from_directory(test_data_dir, \n",
        "                                   shuffle=False,\n",
        "                                   class_mode=class_mode,\n",
        "                                   batch_size = 10,\n",
        "                                   target_size=(img_width, img_height))\n",
        "# confirm the iterator works\n",
        "batchX, batchy = train.next()\n",
        "print('Batch shape=%s, min=%.3f, max=%.3f' % (batchX.shape, batchX.min(), batchX.max()))"
      ],
      "execution_count": 6,
      "outputs": [
        {
          "output_type": "stream",
          "text": [
            "Found 1500 images belonging to 2 classes.\n",
            "Found 500 images belonging to 2 classes.\n",
            "Found 802 images belonging to 2 classes.\n",
            "Batch shape=(32, 150, 150, 3), min=0.000, max=1.000\n"
          ],
          "name": "stdout"
        }
      ]
    },
    {
      "cell_type": "markdown",
      "metadata": {
        "id": "0lq09r31Km5K"
      },
      "source": [
        "We'll start with a simple model. In CNNs, we first convolve the to extract features and then we add the dense layers. \n",
        "\n",
        "Create a model with one layer of convolution of size 64, one layer of activation, one layer of max pooling with pool size (2,2) and then one flattening layer, one dense layer of unit size 64 with a ReLU activation and one dense output layer. The output layer should have a sigmoid activation."
      ]
    },
    {
      "cell_type": "code",
      "metadata": {
        "colab": {
          "base_uri": "https://localhost:8080/"
        },
        "id": "mmLbvL8JxFwP",
        "outputId": "1d48e763-ce72-4731-967d-d1aac4ff9aa0"
      },
      "source": [
        "input_shape"
      ],
      "execution_count": 7,
      "outputs": [
        {
          "output_type": "execute_result",
          "data": {
            "text/plain": [
              "(150, 150, 3)"
            ]
          },
          "metadata": {
            "tags": []
          },
          "execution_count": 7
        }
      ]
    },
    {
      "cell_type": "code",
      "metadata": {
        "id": "IJqkMx3tKm5K"
      },
      "source": [
        "# Answer below:\n",
        "\n",
        "CNN_model = Sequential()\n",
        "\n",
        "#Input Layer\n",
        "CNN_model.add(Conv2D(64, (3, 3), padding='same',\n",
        "                 input_shape=input_shape))\n",
        "CNN_model.add(Activation('relu'))\n",
        "CNN_model.add(MaxPooling2D(pool_size=(2, 2)))\n",
        "\n",
        "#Output Layer\n",
        "CNN_model.add(Flatten())\n",
        "CNN_model.add(Dense(64, activation='relu'))\n",
        "CNN_model.add(Dense(1, activation='sigmoid'))"
      ],
      "execution_count": 8,
      "outputs": []
    },
    {
      "cell_type": "code",
      "metadata": {
        "colab": {
          "base_uri": "https://localhost:8080/"
        },
        "id": "-FN3QGBcvnSy",
        "outputId": "01219f37-64eb-489c-e1de-b0acb31e9654"
      },
      "source": [
        "CNN_model.summary()"
      ],
      "execution_count": 9,
      "outputs": [
        {
          "output_type": "stream",
          "text": [
            "Model: \"sequential\"\n",
            "_________________________________________________________________\n",
            "Layer (type)                 Output Shape              Param #   \n",
            "=================================================================\n",
            "conv2d (Conv2D)              (None, 150, 150, 64)      1792      \n",
            "_________________________________________________________________\n",
            "activation (Activation)      (None, 150, 150, 64)      0         \n",
            "_________________________________________________________________\n",
            "max_pooling2d (MaxPooling2D) (None, 75, 75, 64)        0         \n",
            "_________________________________________________________________\n",
            "flatten (Flatten)            (None, 360000)            0         \n",
            "_________________________________________________________________\n",
            "dense (Dense)                (None, 64)                23040064  \n",
            "_________________________________________________________________\n",
            "dense_1 (Dense)              (None, 1)                 65        \n",
            "=================================================================\n",
            "Total params: 23,041,921\n",
            "Trainable params: 23,041,921\n",
            "Non-trainable params: 0\n",
            "_________________________________________________________________\n"
          ],
          "name": "stdout"
        }
      ]
    },
    {
      "cell_type": "markdown",
      "metadata": {
        "id": "hEBJ5GXcKm5M"
      },
      "source": [
        "Compile the model using RMSprop."
      ]
    },
    {
      "cell_type": "code",
      "metadata": {
        "id": "85uyZ1yTKm5M"
      },
      "source": [
        "# Answer below:\n",
        "CNN_model.compile(optimizer='rmsprop',loss=\"binary_crossentropy\",metrics=[\"MSE\", \"accuracy\"])"
      ],
      "execution_count": 10,
      "outputs": []
    },
    {
      "cell_type": "markdown",
      "metadata": {
        "id": "uIKSpMe-Km5O"
      },
      "source": [
        "Fit the model using a fit generator. Use 50 epochs, 25 training steps and 15 validation steps"
      ]
    },
    {
      "cell_type": "code",
      "metadata": {
        "id": "NFfKyhLzKm5O",
        "colab": {
          "base_uri": "https://localhost:8080/"
        },
        "outputId": "05492194-5608-41db-931e-1768f2fe6470"
      },
      "source": [
        "EPOCHS = 50\n",
        "STEP_SIZE_TRAIN = 25\n",
        "STEP_SIZE_VALID = 15\n",
        "\n",
        "# Answer below:\n",
        "CNN_history = CNN_model.fit(train,\n",
        "                    steps_per_epoch=STEP_SIZE_TRAIN,\n",
        "                    validation_data=valid,\n",
        "                    validation_steps=STEP_SIZE_VALID,            \n",
        "                    epochs = EPOCHS)\n",
        "history = pd.DataFrame(CNN_history.history)\n",
        "history['model'] = \"One\""
      ],
      "execution_count": 11,
      "outputs": [
        {
          "output_type": "stream",
          "text": [
            "Epoch 1/50\n",
            "25/25 [==============================] - 14s 448ms/step - loss: 8.2943 - MSE: 0.3944 - accuracy: 0.4827 - val_loss: 0.6650 - val_MSE: 0.2362 - val_accuracy: 0.5917\n",
            "Epoch 2/50\n",
            "25/25 [==============================] - 11s 436ms/step - loss: 0.6793 - MSE: 0.2420 - accuracy: 0.5728 - val_loss: 0.6914 - val_MSE: 0.2460 - val_accuracy: 0.6083\n",
            "Epoch 3/50\n",
            "25/25 [==============================] - 11s 435ms/step - loss: 0.6690 - MSE: 0.2383 - accuracy: 0.5961 - val_loss: 0.6900 - val_MSE: 0.2486 - val_accuracy: 0.5292\n",
            "Epoch 4/50\n",
            "25/25 [==============================] - 11s 429ms/step - loss: 0.6711 - MSE: 0.2364 - accuracy: 0.6225 - val_loss: 0.6502 - val_MSE: 0.2273 - val_accuracy: 0.6708\n",
            "Epoch 5/50\n",
            "25/25 [==============================] - 11s 433ms/step - loss: 0.6250 - MSE: 0.2179 - accuracy: 0.6498 - val_loss: 0.6423 - val_MSE: 0.2240 - val_accuracy: 0.6583\n",
            "Epoch 6/50\n",
            "25/25 [==============================] - 11s 430ms/step - loss: 0.6035 - MSE: 0.2076 - accuracy: 0.7067 - val_loss: 0.6228 - val_MSE: 0.2145 - val_accuracy: 0.6792\n",
            "Epoch 7/50\n",
            "25/25 [==============================] - 11s 427ms/step - loss: 0.5992 - MSE: 0.2027 - accuracy: 0.6959 - val_loss: 0.6258 - val_MSE: 0.2128 - val_accuracy: 0.6792\n",
            "Epoch 8/50\n",
            "25/25 [==============================] - 11s 432ms/step - loss: 0.6682 - MSE: 0.2242 - accuracy: 0.6727 - val_loss: 0.6295 - val_MSE: 0.2184 - val_accuracy: 0.6396\n",
            "Epoch 9/50\n",
            "25/25 [==============================] - 11s 428ms/step - loss: 0.5507 - MSE: 0.1819 - accuracy: 0.7289 - val_loss: 0.6423 - val_MSE: 0.2244 - val_accuracy: 0.6292\n",
            "Epoch 10/50\n",
            "25/25 [==============================] - 11s 430ms/step - loss: 0.5085 - MSE: 0.1694 - accuracy: 0.7419 - val_loss: 0.6214 - val_MSE: 0.2124 - val_accuracy: 0.6938\n",
            "Epoch 11/50\n",
            "25/25 [==============================] - 11s 432ms/step - loss: 0.5062 - MSE: 0.1632 - accuracy: 0.7792 - val_loss: 0.7168 - val_MSE: 0.2432 - val_accuracy: 0.6375\n",
            "Epoch 12/50\n",
            "25/25 [==============================] - 11s 432ms/step - loss: 0.4957 - MSE: 0.1650 - accuracy: 0.7559 - val_loss: 0.6498 - val_MSE: 0.2201 - val_accuracy: 0.6521\n",
            "Epoch 13/50\n",
            "25/25 [==============================] - 11s 428ms/step - loss: 0.4805 - MSE: 0.1570 - accuracy: 0.7630 - val_loss: 0.6222 - val_MSE: 0.2134 - val_accuracy: 0.6687\n",
            "Epoch 14/50\n",
            "25/25 [==============================] - 11s 430ms/step - loss: 0.4355 - MSE: 0.1396 - accuracy: 0.7879 - val_loss: 0.7258 - val_MSE: 0.2334 - val_accuracy: 0.6583\n",
            "Epoch 15/50\n",
            "25/25 [==============================] - 11s 435ms/step - loss: 0.4320 - MSE: 0.1441 - accuracy: 0.7658 - val_loss: 0.7247 - val_MSE: 0.2474 - val_accuracy: 0.6125\n",
            "Epoch 16/50\n",
            "25/25 [==============================] - 11s 430ms/step - loss: 0.4282 - MSE: 0.1374 - accuracy: 0.7942 - val_loss: 0.8457 - val_MSE: 0.2671 - val_accuracy: 0.6229\n",
            "Epoch 17/50\n",
            "25/25 [==============================] - 11s 429ms/step - loss: 0.4102 - MSE: 0.1344 - accuracy: 0.8062 - val_loss: 0.9216 - val_MSE: 0.2854 - val_accuracy: 0.5917\n",
            "Epoch 18/50\n",
            "25/25 [==============================] - 11s 431ms/step - loss: 0.3981 - MSE: 0.1273 - accuracy: 0.8083 - val_loss: 0.6443 - val_MSE: 0.2154 - val_accuracy: 0.6875\n",
            "Epoch 19/50\n",
            "25/25 [==============================] - 11s 430ms/step - loss: 0.3280 - MSE: 0.1025 - accuracy: 0.8567 - val_loss: 1.1717 - val_MSE: 0.3240 - val_accuracy: 0.5833\n",
            "Epoch 20/50\n",
            "25/25 [==============================] - 11s 430ms/step - loss: 0.3874 - MSE: 0.1243 - accuracy: 0.8138 - val_loss: 0.6603 - val_MSE: 0.2179 - val_accuracy: 0.6833\n",
            "Epoch 21/50\n",
            "25/25 [==============================] - 11s 431ms/step - loss: 0.2900 - MSE: 0.0851 - accuracy: 0.8834 - val_loss: 1.0686 - val_MSE: 0.3099 - val_accuracy: 0.5750\n",
            "Epoch 22/50\n",
            "25/25 [==============================] - 11s 457ms/step - loss: 0.3326 - MSE: 0.1028 - accuracy: 0.8657 - val_loss: 0.7029 - val_MSE: 0.2264 - val_accuracy: 0.6708\n",
            "Epoch 23/50\n",
            "25/25 [==============================] - 11s 437ms/step - loss: 0.2229 - MSE: 0.0633 - accuracy: 0.9243 - val_loss: 0.8360 - val_MSE: 0.2365 - val_accuracy: 0.6812\n",
            "Epoch 24/50\n",
            "25/25 [==============================] - 11s 429ms/step - loss: 0.3179 - MSE: 0.1005 - accuracy: 0.8510 - val_loss: 0.8337 - val_MSE: 0.2581 - val_accuracy: 0.6438\n",
            "Epoch 25/50\n",
            "25/25 [==============================] - 11s 429ms/step - loss: 0.2771 - MSE: 0.0864 - accuracy: 0.8746 - val_loss: 0.8572 - val_MSE: 0.2367 - val_accuracy: 0.6708\n",
            "Epoch 26/50\n",
            "25/25 [==============================] - 11s 427ms/step - loss: 0.2448 - MSE: 0.0766 - accuracy: 0.8871 - val_loss: 0.7778 - val_MSE: 0.2261 - val_accuracy: 0.6771\n",
            "Epoch 27/50\n",
            "25/25 [==============================] - 11s 427ms/step - loss: 0.2018 - MSE: 0.0578 - accuracy: 0.9322 - val_loss: 0.8447 - val_MSE: 0.2484 - val_accuracy: 0.6458\n",
            "Epoch 28/50\n",
            "25/25 [==============================] - 11s 429ms/step - loss: 0.1815 - MSE: 0.0488 - accuracy: 0.9369 - val_loss: 0.8649 - val_MSE: 0.2384 - val_accuracy: 0.6708\n",
            "Epoch 29/50\n",
            "25/25 [==============================] - 11s 434ms/step - loss: 0.1640 - MSE: 0.0474 - accuracy: 0.9444 - val_loss: 0.8929 - val_MSE: 0.2416 - val_accuracy: 0.6812\n",
            "Epoch 30/50\n",
            "25/25 [==============================] - 11s 433ms/step - loss: 0.1775 - MSE: 0.0532 - accuracy: 0.9307 - val_loss: 0.8707 - val_MSE: 0.2545 - val_accuracy: 0.6583\n",
            "Epoch 31/50\n",
            "25/25 [==============================] - 11s 429ms/step - loss: 0.1668 - MSE: 0.0446 - accuracy: 0.9324 - val_loss: 0.9338 - val_MSE: 0.2498 - val_accuracy: 0.6729\n",
            "Epoch 32/50\n",
            "25/25 [==============================] - 11s 427ms/step - loss: 0.1514 - MSE: 0.0437 - accuracy: 0.9366 - val_loss: 1.2466 - val_MSE: 0.2996 - val_accuracy: 0.6250\n",
            "Epoch 33/50\n",
            "25/25 [==============================] - 11s 429ms/step - loss: 0.1847 - MSE: 0.0564 - accuracy: 0.9203 - val_loss: 0.9595 - val_MSE: 0.2533 - val_accuracy: 0.6729\n",
            "Epoch 34/50\n",
            "25/25 [==============================] - 11s 432ms/step - loss: 0.1085 - MSE: 0.0292 - accuracy: 0.9621 - val_loss: 1.0887 - val_MSE: 0.2660 - val_accuracy: 0.6625\n",
            "Epoch 35/50\n",
            "25/25 [==============================] - 11s 427ms/step - loss: 0.1446 - MSE: 0.0416 - accuracy: 0.9379 - val_loss: 1.0385 - val_MSE: 0.2666 - val_accuracy: 0.6562\n",
            "Epoch 36/50\n",
            "25/25 [==============================] - 11s 428ms/step - loss: 0.0988 - MSE: 0.0261 - accuracy: 0.9701 - val_loss: 1.0065 - val_MSE: 0.2546 - val_accuracy: 0.6667\n",
            "Epoch 37/50\n",
            "25/25 [==============================] - 11s 428ms/step - loss: 0.1292 - MSE: 0.0358 - accuracy: 0.9642 - val_loss: 0.9790 - val_MSE: 0.2495 - val_accuracy: 0.6833\n",
            "Epoch 38/50\n",
            "25/25 [==============================] - 11s 435ms/step - loss: 0.0699 - MSE: 0.0172 - accuracy: 0.9775 - val_loss: 0.9138 - val_MSE: 0.2477 - val_accuracy: 0.6625\n",
            "Epoch 39/50\n",
            "25/25 [==============================] - 11s 428ms/step - loss: 0.0972 - MSE: 0.0246 - accuracy: 0.9747 - val_loss: 1.1493 - val_MSE: 0.2567 - val_accuracy: 0.6708\n",
            "Epoch 40/50\n",
            "25/25 [==============================] - 11s 431ms/step - loss: 0.0734 - MSE: 0.0192 - accuracy: 0.9783 - val_loss: 1.1656 - val_MSE: 0.2695 - val_accuracy: 0.6521\n",
            "Epoch 41/50\n",
            "25/25 [==============================] - 11s 427ms/step - loss: 0.0540 - MSE: 0.0132 - accuracy: 0.9875 - val_loss: 1.4283 - val_MSE: 0.2791 - val_accuracy: 0.6646\n",
            "Epoch 42/50\n",
            "25/25 [==============================] - 11s 426ms/step - loss: 0.2959 - MSE: 0.0465 - accuracy: 0.9510 - val_loss: 1.0281 - val_MSE: 0.2503 - val_accuracy: 0.6833\n",
            "Epoch 43/50\n",
            "25/25 [==============================] - 11s 428ms/step - loss: 0.0534 - MSE: 0.0121 - accuracy: 0.9830 - val_loss: 1.3056 - val_MSE: 0.2686 - val_accuracy: 0.6750\n",
            "Epoch 44/50\n",
            "25/25 [==============================] - 10s 424ms/step - loss: 0.0851 - MSE: 0.0235 - accuracy: 0.9651 - val_loss: 1.2112 - val_MSE: 0.2621 - val_accuracy: 0.6687\n",
            "Epoch 45/50\n",
            "25/25 [==============================] - 11s 433ms/step - loss: 0.0628 - MSE: 0.0174 - accuracy: 0.9808 - val_loss: 1.3346 - val_MSE: 0.2729 - val_accuracy: 0.6833\n",
            "Epoch 46/50\n",
            "25/25 [==============================] - 11s 433ms/step - loss: 0.0529 - MSE: 0.0124 - accuracy: 0.9900 - val_loss: 1.2565 - val_MSE: 0.2718 - val_accuracy: 0.6646\n",
            "Epoch 47/50\n",
            "25/25 [==============================] - 11s 427ms/step - loss: 0.1083 - MSE: 0.0355 - accuracy: 0.9455 - val_loss: 1.2759 - val_MSE: 0.2756 - val_accuracy: 0.6646\n",
            "Epoch 48/50\n",
            "25/25 [==============================] - 11s 426ms/step - loss: 0.0695 - MSE: 0.0201 - accuracy: 0.9766 - val_loss: 1.2810 - val_MSE: 0.2710 - val_accuracy: 0.6792\n",
            "Epoch 49/50\n",
            "25/25 [==============================] - 11s 426ms/step - loss: 0.0237 - MSE: 0.0039 - accuracy: 0.9979 - val_loss: 1.5878 - val_MSE: 0.3216 - val_accuracy: 0.6042\n",
            "Epoch 50/50\n",
            "25/25 [==============================] - 11s 430ms/step - loss: 0.1684 - MSE: 0.0353 - accuracy: 0.9585 - val_loss: 1.2782 - val_MSE: 0.2734 - val_accuracy: 0.6583\n"
          ],
          "name": "stdout"
        }
      ]
    },
    {
      "cell_type": "markdown",
      "metadata": {
        "id": "QAZ1IeybKm5Q"
      },
      "source": [
        "Create a new model by adding an additional group of convolution, activation and max pooling layers before the flatten layer. Make the convolution layer of unit size 32. Keep everything else the same."
      ]
    },
    {
      "cell_type": "code",
      "metadata": {
        "id": "651SH4QGKm5Q"
      },
      "source": [
        "# Answer below:\n",
        "# Answer below:\n",
        "\n",
        "new_model = Sequential()\n",
        "\n",
        "#Input Layer\n",
        "new_model.add(Conv2D(64, (3, 3), padding='same',\n",
        "                 input_shape=input_shape))\n",
        "new_model.add(Activation('relu'))\n",
        "new_model.add(MaxPooling2D(pool_size=(2, 2)))\n",
        "\n",
        "#Second Convolutional layer.\n",
        "new_model.add(Conv2D(32, (3, 3), padding='same',\n",
        "                 input_shape=input_shape))\n",
        "new_model.add(Activation('relu'))\n",
        "new_model.add(MaxPooling2D(pool_size=(2, 2)))\n",
        "\n",
        "\n",
        "#Output Layer\n",
        "new_model.add(Flatten())\n",
        "new_model.add(Dense(64, activation='relu'))\n",
        "new_model.add(Dense(1, activation='sigmoid'))\n"
      ],
      "execution_count": 12,
      "outputs": []
    },
    {
      "cell_type": "markdown",
      "metadata": {
        "id": "fHfpSfgyKm5S"
      },
      "source": [
        "Fit and compile the model in the same way you did with the previous model. How did the results improve?"
      ]
    },
    {
      "cell_type": "code",
      "metadata": {
        "id": "k5nPg_LmKm5S",
        "colab": {
          "base_uri": "https://localhost:8080/"
        },
        "outputId": "5fc88b08-b992-4bc3-ec5e-d45b6e44c400"
      },
      "source": [
        "# Answer below:\n",
        "# Answer below:\n",
        "new_model.compile(optimizer='rmsprop',loss=\"binary_crossentropy\",metrics=[\"MSE\", \"accuracy\"])\n",
        "\n",
        "# Answer below:\n",
        "new_history = new_model.fit(train,\n",
        "                    steps_per_epoch=STEP_SIZE_TRAIN,\n",
        "                    validation_data=valid,\n",
        "                    validation_steps=STEP_SIZE_VALID,            \n",
        "                    epochs = EPOCHS)\n",
        "\n",
        "new_history = pd.DataFrame(new_history.history)\n",
        "new_history['model'] = 'Two'\n",
        "history = pd.concat([history, new_history])"
      ],
      "execution_count": 13,
      "outputs": [
        {
          "output_type": "stream",
          "text": [
            "Epoch 1/50\n",
            "25/25 [==============================] - 12s 465ms/step - loss: 1.1490 - MSE: 0.2816 - accuracy: 0.5204 - val_loss: 0.6919 - val_MSE: 0.2494 - val_accuracy: 0.5104\n",
            "Epoch 2/50\n",
            "25/25 [==============================] - 11s 436ms/step - loss: 0.7170 - MSE: 0.2595 - accuracy: 0.5345 - val_loss: 0.6859 - val_MSE: 0.2464 - val_accuracy: 0.6438\n",
            "Epoch 3/50\n",
            "25/25 [==============================] - 11s 439ms/step - loss: 0.6951 - MSE: 0.2487 - accuracy: 0.6092 - val_loss: 1.7247 - val_MSE: 0.4529 - val_accuracy: 0.5104\n",
            "Epoch 4/50\n",
            "25/25 [==============================] - 11s 433ms/step - loss: 0.7850 - MSE: 0.2635 - accuracy: 0.6358 - val_loss: 0.6487 - val_MSE: 0.2288 - val_accuracy: 0.6646\n",
            "Epoch 5/50\n",
            "25/25 [==============================] - 11s 434ms/step - loss: 0.7615 - MSE: 0.2451 - accuracy: 0.6367 - val_loss: 0.6563 - val_MSE: 0.2304 - val_accuracy: 0.6375\n",
            "Epoch 6/50\n",
            "25/25 [==============================] - 11s 428ms/step - loss: 0.6709 - MSE: 0.2363 - accuracy: 0.6230 - val_loss: 0.6558 - val_MSE: 0.2316 - val_accuracy: 0.6250\n",
            "Epoch 7/50\n",
            "25/25 [==============================] - 11s 438ms/step - loss: 0.6038 - MSE: 0.2065 - accuracy: 0.6946 - val_loss: 0.6129 - val_MSE: 0.2124 - val_accuracy: 0.6646\n",
            "Epoch 8/50\n",
            "25/25 [==============================] - 11s 434ms/step - loss: 0.5656 - MSE: 0.1885 - accuracy: 0.7077 - val_loss: 0.6145 - val_MSE: 0.2073 - val_accuracy: 0.6792\n",
            "Epoch 9/50\n",
            "25/25 [==============================] - 11s 433ms/step - loss: 0.5416 - MSE: 0.1808 - accuracy: 0.7298 - val_loss: 0.6393 - val_MSE: 0.2219 - val_accuracy: 0.6396\n",
            "Epoch 10/50\n",
            "25/25 [==============================] - 11s 434ms/step - loss: 0.5803 - MSE: 0.1977 - accuracy: 0.6890 - val_loss: 0.6107 - val_MSE: 0.2068 - val_accuracy: 0.6812\n",
            "Epoch 11/50\n",
            "25/25 [==============================] - 11s 434ms/step - loss: 0.4778 - MSE: 0.1569 - accuracy: 0.7797 - val_loss: 0.6122 - val_MSE: 0.2131 - val_accuracy: 0.6479\n",
            "Epoch 12/50\n",
            "25/25 [==============================] - 11s 434ms/step - loss: 0.4730 - MSE: 0.1559 - accuracy: 0.7717 - val_loss: 0.9004 - val_MSE: 0.2790 - val_accuracy: 0.5875\n",
            "Epoch 13/50\n",
            "25/25 [==============================] - 11s 429ms/step - loss: 0.5302 - MSE: 0.1729 - accuracy: 0.7498 - val_loss: 0.6739 - val_MSE: 0.2310 - val_accuracy: 0.6208\n",
            "Epoch 14/50\n",
            "25/25 [==============================] - 11s 428ms/step - loss: 0.3829 - MSE: 0.1218 - accuracy: 0.8328 - val_loss: 0.7703 - val_MSE: 0.2487 - val_accuracy: 0.6333\n",
            "Epoch 15/50\n",
            "25/25 [==============================] - 11s 430ms/step - loss: 0.4055 - MSE: 0.1315 - accuracy: 0.8242 - val_loss: 0.8103 - val_MSE: 0.2493 - val_accuracy: 0.6375\n",
            "Epoch 16/50\n",
            "25/25 [==============================] - 11s 443ms/step - loss: 0.4280 - MSE: 0.1327 - accuracy: 0.8082 - val_loss: 1.6869 - val_MSE: 0.3900 - val_accuracy: 0.5542\n",
            "Epoch 17/50\n",
            "25/25 [==============================] - 11s 437ms/step - loss: 0.4567 - MSE: 0.1314 - accuracy: 0.8363 - val_loss: 0.7288 - val_MSE: 0.2264 - val_accuracy: 0.6708\n",
            "Epoch 18/50\n",
            "25/25 [==============================] - 11s 447ms/step - loss: 0.3099 - MSE: 0.0924 - accuracy: 0.8755 - val_loss: 0.8395 - val_MSE: 0.2438 - val_accuracy: 0.6625\n",
            "Epoch 19/50\n",
            "25/25 [==============================] - 11s 437ms/step - loss: 0.3121 - MSE: 0.0952 - accuracy: 0.8747 - val_loss: 0.7228 - val_MSE: 0.2325 - val_accuracy: 0.6625\n",
            "Epoch 20/50\n",
            "25/25 [==============================] - 11s 437ms/step - loss: 0.2612 - MSE: 0.0799 - accuracy: 0.8943 - val_loss: 0.7697 - val_MSE: 0.2337 - val_accuracy: 0.6646\n",
            "Epoch 21/50\n",
            "25/25 [==============================] - 11s 438ms/step - loss: 0.3690 - MSE: 0.0996 - accuracy: 0.8666 - val_loss: 1.2894 - val_MSE: 0.3123 - val_accuracy: 0.6104\n",
            "Epoch 22/50\n",
            "25/25 [==============================] - 11s 437ms/step - loss: 0.2857 - MSE: 0.0894 - accuracy: 0.8862 - val_loss: 0.9911 - val_MSE: 0.2581 - val_accuracy: 0.6646\n",
            "Epoch 23/50\n",
            "25/25 [==============================] - 11s 437ms/step - loss: 0.2200 - MSE: 0.0605 - accuracy: 0.9193 - val_loss: 0.9569 - val_MSE: 0.2610 - val_accuracy: 0.6500\n",
            "Epoch 24/50\n",
            "25/25 [==============================] - 11s 437ms/step - loss: 0.2334 - MSE: 0.0681 - accuracy: 0.9073 - val_loss: 1.3405 - val_MSE: 0.3234 - val_accuracy: 0.5896\n",
            "Epoch 25/50\n",
            "25/25 [==============================] - 11s 442ms/step - loss: 0.2701 - MSE: 0.0813 - accuracy: 0.8810 - val_loss: 1.3157 - val_MSE: 0.2878 - val_accuracy: 0.6562\n",
            "Epoch 26/50\n",
            "25/25 [==============================] - 11s 441ms/step - loss: 0.2586 - MSE: 0.0780 - accuracy: 0.8946 - val_loss: 0.9949 - val_MSE: 0.2448 - val_accuracy: 0.6812\n",
            "Epoch 27/50\n",
            "25/25 [==============================] - 11s 435ms/step - loss: 0.2130 - MSE: 0.0657 - accuracy: 0.9063 - val_loss: 1.0724 - val_MSE: 0.2821 - val_accuracy: 0.6250\n",
            "Epoch 28/50\n",
            "25/25 [==============================] - 11s 436ms/step - loss: 0.1869 - MSE: 0.0537 - accuracy: 0.9317 - val_loss: 1.0538 - val_MSE: 0.2658 - val_accuracy: 0.6521\n",
            "Epoch 29/50\n",
            "25/25 [==============================] - 11s 439ms/step - loss: 0.2142 - MSE: 0.0613 - accuracy: 0.9298 - val_loss: 1.1214 - val_MSE: 0.2742 - val_accuracy: 0.6396\n",
            "Epoch 30/50\n",
            "25/25 [==============================] - 12s 468ms/step - loss: 0.1543 - MSE: 0.0412 - accuracy: 0.9433 - val_loss: 1.1065 - val_MSE: 0.2541 - val_accuracy: 0.6687\n",
            "Epoch 31/50\n",
            "25/25 [==============================] - 11s 438ms/step - loss: 0.1713 - MSE: 0.0485 - accuracy: 0.9334 - val_loss: 1.1575 - val_MSE: 0.2780 - val_accuracy: 0.6375\n",
            "Epoch 32/50\n",
            "25/25 [==============================] - 11s 441ms/step - loss: 0.1132 - MSE: 0.0312 - accuracy: 0.9610 - val_loss: 1.3264 - val_MSE: 0.2871 - val_accuracy: 0.6438\n",
            "Epoch 33/50\n",
            "25/25 [==============================] - 11s 439ms/step - loss: 0.1242 - MSE: 0.0322 - accuracy: 0.9597 - val_loss: 1.1195 - val_MSE: 0.2682 - val_accuracy: 0.6500\n",
            "Epoch 34/50\n",
            "25/25 [==============================] - 11s 438ms/step - loss: 0.2118 - MSE: 0.0534 - accuracy: 0.9334 - val_loss: 1.3159 - val_MSE: 0.2890 - val_accuracy: 0.6354\n",
            "Epoch 35/50\n",
            "25/25 [==============================] - 11s 442ms/step - loss: 0.0817 - MSE: 0.0214 - accuracy: 0.9775 - val_loss: 1.7233 - val_MSE: 0.3165 - val_accuracy: 0.6375\n",
            "Epoch 36/50\n",
            "25/25 [==============================] - 11s 439ms/step - loss: 0.1935 - MSE: 0.0487 - accuracy: 0.9280 - val_loss: 1.2701 - val_MSE: 0.2787 - val_accuracy: 0.6646\n",
            "Epoch 37/50\n",
            "25/25 [==============================] - 11s 440ms/step - loss: 0.0724 - MSE: 0.0195 - accuracy: 0.9764 - val_loss: 1.2797 - val_MSE: 0.2636 - val_accuracy: 0.6729\n",
            "Epoch 38/50\n",
            "25/25 [==============================] - 11s 438ms/step - loss: 0.0876 - MSE: 0.0244 - accuracy: 0.9632 - val_loss: 1.3377 - val_MSE: 0.2748 - val_accuracy: 0.6750\n",
            "Epoch 39/50\n",
            "25/25 [==============================] - 11s 442ms/step - loss: 0.1438 - MSE: 0.0400 - accuracy: 0.9433 - val_loss: 1.6280 - val_MSE: 0.2895 - val_accuracy: 0.6479\n",
            "Epoch 40/50\n",
            "25/25 [==============================] - 11s 446ms/step - loss: 0.0841 - MSE: 0.0210 - accuracy: 0.9745 - val_loss: 1.3784 - val_MSE: 0.2822 - val_accuracy: 0.6417\n",
            "Epoch 41/50\n",
            "25/25 [==============================] - 11s 442ms/step - loss: 0.0421 - MSE: 0.0088 - accuracy: 0.9932 - val_loss: 1.5166 - val_MSE: 0.2858 - val_accuracy: 0.6458\n",
            "Epoch 42/50\n",
            "25/25 [==============================] - 11s 440ms/step - loss: 0.0470 - MSE: 0.0126 - accuracy: 0.9820 - val_loss: 1.6481 - val_MSE: 0.2882 - val_accuracy: 0.6542\n",
            "Epoch 43/50\n",
            "25/25 [==============================] - 11s 433ms/step - loss: 0.0759 - MSE: 0.0187 - accuracy: 0.9794 - val_loss: 1.2149 - val_MSE: 0.2992 - val_accuracy: 0.6062\n",
            "Epoch 44/50\n",
            "25/25 [==============================] - 11s 429ms/step - loss: 0.0735 - MSE: 0.0178 - accuracy: 0.9810 - val_loss: 1.6001 - val_MSE: 0.2846 - val_accuracy: 0.6583\n",
            "Epoch 45/50\n",
            "25/25 [==============================] - 11s 433ms/step - loss: 0.0540 - MSE: 0.0150 - accuracy: 0.9832 - val_loss: 1.6704 - val_MSE: 0.2734 - val_accuracy: 0.6750\n",
            "Epoch 46/50\n",
            "25/25 [==============================] - 11s 435ms/step - loss: 0.1216 - MSE: 0.0273 - accuracy: 0.9645 - val_loss: 1.5289 - val_MSE: 0.2735 - val_accuracy: 0.6792\n",
            "Epoch 47/50\n",
            "25/25 [==============================] - 11s 434ms/step - loss: 0.0388 - MSE: 0.0101 - accuracy: 0.9909 - val_loss: 1.6997 - val_MSE: 0.2943 - val_accuracy: 0.6562\n",
            "Epoch 48/50\n",
            "25/25 [==============================] - 11s 435ms/step - loss: 0.0352 - MSE: 0.0085 - accuracy: 0.9912 - val_loss: 1.6723 - val_MSE: 0.2832 - val_accuracy: 0.6646\n",
            "Epoch 49/50\n",
            "25/25 [==============================] - 11s 442ms/step - loss: 0.0588 - MSE: 0.0133 - accuracy: 0.9803 - val_loss: 1.7540 - val_MSE: 0.3003 - val_accuracy: 0.6417\n",
            "Epoch 50/50\n",
            "25/25 [==============================] - 11s 438ms/step - loss: 0.0377 - MSE: 0.0100 - accuracy: 0.9847 - val_loss: 1.4504 - val_MSE: 0.2740 - val_accuracy: 0.6750\n"
          ],
          "name": "stdout"
        }
      ]
    },
    {
      "cell_type": "markdown",
      "metadata": {
        "id": "ebENKsjh37BJ"
      },
      "source": [
        "It looks like there isn't an improvement. "
      ]
    },
    {
      "cell_type": "markdown",
      "metadata": {
        "id": "LgKv1_tCKm5U"
      },
      "source": [
        "Create a new model based on the model above. Add an additional dense layer of size 64 with a ReLU activation after the flatten layer."
      ]
    },
    {
      "cell_type": "code",
      "metadata": {
        "id": "KlzEuIt3Km5U"
      },
      "source": [
        "# Answer below:\n",
        "# Answer below:\n",
        "# Answer below:\n",
        "\n",
        "new_model = Sequential()\n",
        "\n",
        "#Input Layer\n",
        "new_model.add(Conv2D(64, (3, 3), padding='same',\n",
        "                 input_shape=input_shape))\n",
        "new_model.add(Activation('relu'))\n",
        "new_model.add(MaxPooling2D(pool_size=(2, 2)))\n",
        "\n",
        "#Second Convolutional layer.\n",
        "new_model.add(Conv2D(32, (3, 3), padding='same',\n",
        "                 input_shape=input_shape))\n",
        "new_model.add(Activation('relu'))\n",
        "new_model.add(MaxPooling2D(pool_size=(2, 2)))\n",
        "\n",
        "\n",
        "\n",
        "#Dense Layer\n",
        "new_model.add(Flatten())\n",
        "new_model.add(Dense(64, activation='relu'))\n",
        "new_model.add(Dense(64, activation='relu'))\n",
        "\n",
        "#Output Layer\n",
        "new_model.add(Dense(1, activation='sigmoid'))\n",
        "\n"
      ],
      "execution_count": 14,
      "outputs": []
    },
    {
      "cell_type": "markdown",
      "metadata": {
        "id": "GMg6k7tHKm5W"
      },
      "source": [
        "Fit and compile in the same way as above. Describe the difference in performance and speed."
      ]
    },
    {
      "cell_type": "code",
      "metadata": {
        "id": "pqIEZC6YKm5W",
        "colab": {
          "base_uri": "https://localhost:8080/"
        },
        "outputId": "7e8a7481-e600-4962-c735-e5020ef8c1d9"
      },
      "source": [
        "# Answer below:\n",
        "# Answer below:\n",
        "# Answer below:\n",
        "new_model.compile(optimizer='rmsprop',loss=\"binary_crossentropy\",metrics=[\"MSE\", \"accuracy\"])\n",
        "\n",
        "# Answer below:\n",
        "new_history = new_model.fit(train,\n",
        "                    steps_per_epoch=STEP_SIZE_TRAIN,\n",
        "                    validation_data=valid,\n",
        "                    validation_steps=STEP_SIZE_VALID,            \n",
        "                    epochs = EPOCHS)\n",
        "\n",
        "new_history = pd.DataFrame(new_history.history)\n",
        "new_history['model'] = 'Three'\n",
        "history = pd.concat([history, new_history])"
      ],
      "execution_count": 15,
      "outputs": [
        {
          "output_type": "stream",
          "text": [
            "Epoch 1/50\n",
            "25/25 [==============================] - 12s 449ms/step - loss: 0.8915 - MSE: 0.2811 - accuracy: 0.4975 - val_loss: 0.6926 - val_MSE: 0.2497 - val_accuracy: 0.5271\n",
            "Epoch 2/50\n",
            "25/25 [==============================] - 11s 427ms/step - loss: 0.6943 - MSE: 0.2506 - accuracy: 0.4855 - val_loss: 0.6857 - val_MSE: 0.2463 - val_accuracy: 0.5104\n",
            "Epoch 3/50\n",
            "25/25 [==============================] - 11s 429ms/step - loss: 0.7283 - MSE: 0.2608 - accuracy: 0.5738 - val_loss: 0.6639 - val_MSE: 0.2356 - val_accuracy: 0.5854\n",
            "Epoch 4/50\n",
            "25/25 [==============================] - 11s 429ms/step - loss: 0.7150 - MSE: 0.2546 - accuracy: 0.5588 - val_loss: 0.7434 - val_MSE: 0.2730 - val_accuracy: 0.5063\n",
            "Epoch 5/50\n",
            "25/25 [==============================] - 11s 442ms/step - loss: 0.7106 - MSE: 0.2505 - accuracy: 0.5840 - val_loss: 0.6684 - val_MSE: 0.2337 - val_accuracy: 0.6500\n",
            "Epoch 6/50\n",
            "25/25 [==============================] - 11s 430ms/step - loss: 0.6773 - MSE: 0.2398 - accuracy: 0.6185 - val_loss: 0.6344 - val_MSE: 0.2198 - val_accuracy: 0.6625\n",
            "Epoch 7/50\n",
            "25/25 [==============================] - 11s 433ms/step - loss: 0.6255 - MSE: 0.2183 - accuracy: 0.6778 - val_loss: 0.6842 - val_MSE: 0.2429 - val_accuracy: 0.5771\n",
            "Epoch 8/50\n",
            "25/25 [==============================] - 11s 445ms/step - loss: 0.6232 - MSE: 0.2158 - accuracy: 0.6675 - val_loss: 0.6606 - val_MSE: 0.2263 - val_accuracy: 0.6812\n",
            "Epoch 9/50\n",
            "25/25 [==============================] - 11s 452ms/step - loss: 0.5822 - MSE: 0.1995 - accuracy: 0.6929 - val_loss: 0.6405 - val_MSE: 0.2176 - val_accuracy: 0.6771\n",
            "Epoch 10/50\n",
            "25/25 [==============================] - 11s 432ms/step - loss: 0.5601 - MSE: 0.1887 - accuracy: 0.7064 - val_loss: 0.6178 - val_MSE: 0.2144 - val_accuracy: 0.6708\n",
            "Epoch 11/50\n",
            "25/25 [==============================] - 11s 435ms/step - loss: 0.5011 - MSE: 0.1624 - accuracy: 0.7604 - val_loss: 0.6005 - val_MSE: 0.2039 - val_accuracy: 0.6896\n",
            "Epoch 12/50\n",
            "25/25 [==============================] - 11s 441ms/step - loss: 0.4523 - MSE: 0.1455 - accuracy: 0.7907 - val_loss: 0.6538 - val_MSE: 0.2319 - val_accuracy: 0.6042\n",
            "Epoch 13/50\n",
            "25/25 [==============================] - 11s 446ms/step - loss: 0.5015 - MSE: 0.1687 - accuracy: 0.7430 - val_loss: 0.6286 - val_MSE: 0.2034 - val_accuracy: 0.7104\n",
            "Epoch 14/50\n",
            "25/25 [==============================] - 11s 439ms/step - loss: 0.4526 - MSE: 0.1423 - accuracy: 0.7957 - val_loss: 0.5956 - val_MSE: 0.2042 - val_accuracy: 0.6708\n",
            "Epoch 15/50\n",
            "25/25 [==============================] - 11s 435ms/step - loss: 0.4057 - MSE: 0.1243 - accuracy: 0.8475 - val_loss: 0.6039 - val_MSE: 0.2019 - val_accuracy: 0.6854\n",
            "Epoch 16/50\n",
            "25/25 [==============================] - 11s 435ms/step - loss: 0.3362 - MSE: 0.1047 - accuracy: 0.8590 - val_loss: 0.6936 - val_MSE: 0.2200 - val_accuracy: 0.6896\n",
            "Epoch 17/50\n",
            "25/25 [==============================] - 11s 439ms/step - loss: 0.3092 - MSE: 0.0965 - accuracy: 0.8469 - val_loss: 0.6858 - val_MSE: 0.2277 - val_accuracy: 0.6667\n",
            "Epoch 18/50\n",
            "25/25 [==============================] - 11s 440ms/step - loss: 0.2890 - MSE: 0.0857 - accuracy: 0.8969 - val_loss: 0.7832 - val_MSE: 0.2297 - val_accuracy: 0.6854\n",
            "Epoch 19/50\n",
            "25/25 [==============================] - 11s 438ms/step - loss: 0.2697 - MSE: 0.0797 - accuracy: 0.8914 - val_loss: 0.9060 - val_MSE: 0.2424 - val_accuracy: 0.6687\n",
            "Epoch 20/50\n",
            "25/25 [==============================] - 11s 440ms/step - loss: 0.3405 - MSE: 0.0947 - accuracy: 0.8924 - val_loss: 0.7837 - val_MSE: 0.2451 - val_accuracy: 0.6521\n",
            "Epoch 21/50\n",
            "25/25 [==============================] - 11s 438ms/step - loss: 0.2028 - MSE: 0.0564 - accuracy: 0.9315 - val_loss: 0.7640 - val_MSE: 0.2304 - val_accuracy: 0.6771\n",
            "Epoch 22/50\n",
            "25/25 [==============================] - 11s 437ms/step - loss: 0.1742 - MSE: 0.0498 - accuracy: 0.9395 - val_loss: 0.8871 - val_MSE: 0.2464 - val_accuracy: 0.6729\n",
            "Epoch 23/50\n",
            "25/25 [==============================] - 11s 440ms/step - loss: 0.1600 - MSE: 0.0445 - accuracy: 0.9456 - val_loss: 0.9112 - val_MSE: 0.2476 - val_accuracy: 0.6771\n",
            "Epoch 24/50\n",
            "25/25 [==============================] - 11s 439ms/step - loss: 0.1988 - MSE: 0.0545 - accuracy: 0.9338 - val_loss: 0.9696 - val_MSE: 0.2389 - val_accuracy: 0.6875\n",
            "Epoch 25/50\n",
            "25/25 [==============================] - 11s 438ms/step - loss: 0.1431 - MSE: 0.0412 - accuracy: 0.9483 - val_loss: 1.0149 - val_MSE: 0.2395 - val_accuracy: 0.6938\n",
            "Epoch 26/50\n",
            "25/25 [==============================] - 11s 437ms/step - loss: 0.1304 - MSE: 0.0314 - accuracy: 0.9609 - val_loss: 1.0551 - val_MSE: 0.2371 - val_accuracy: 0.7042\n",
            "Epoch 27/50\n",
            "25/25 [==============================] - 11s 443ms/step - loss: 0.1126 - MSE: 0.0322 - accuracy: 0.9583 - val_loss: 1.0206 - val_MSE: 0.2440 - val_accuracy: 0.6812\n",
            "Epoch 28/50\n",
            "25/25 [==============================] - 11s 441ms/step - loss: 0.1269 - MSE: 0.0366 - accuracy: 0.9514 - val_loss: 1.0659 - val_MSE: 0.2600 - val_accuracy: 0.6687\n",
            "Epoch 29/50\n",
            "25/25 [==============================] - 11s 439ms/step - loss: 0.1154 - MSE: 0.0324 - accuracy: 0.9610 - val_loss: 1.1161 - val_MSE: 0.2566 - val_accuracy: 0.6833\n",
            "Epoch 30/50\n",
            "25/25 [==============================] - 11s 437ms/step - loss: 0.0868 - MSE: 0.0246 - accuracy: 0.9679 - val_loss: 1.8023 - val_MSE: 0.2894 - val_accuracy: 0.6729\n",
            "Epoch 31/50\n",
            "25/25 [==============================] - 11s 438ms/step - loss: 0.1329 - MSE: 0.0381 - accuracy: 0.9561 - val_loss: 1.1780 - val_MSE: 0.2461 - val_accuracy: 0.6958\n",
            "Epoch 32/50\n",
            "25/25 [==============================] - 11s 439ms/step - loss: 0.1110 - MSE: 0.0305 - accuracy: 0.9589 - val_loss: 1.2759 - val_MSE: 0.2705 - val_accuracy: 0.6708\n",
            "Epoch 33/50\n",
            "25/25 [==============================] - 11s 440ms/step - loss: 0.0707 - MSE: 0.0217 - accuracy: 0.9637 - val_loss: 1.1774 - val_MSE: 0.2596 - val_accuracy: 0.6708\n",
            "Epoch 34/50\n",
            "25/25 [==============================] - 11s 447ms/step - loss: 0.0788 - MSE: 0.0204 - accuracy: 0.9769 - val_loss: 1.7957 - val_MSE: 0.3205 - val_accuracy: 0.6229\n",
            "Epoch 35/50\n",
            "25/25 [==============================] - 11s 447ms/step - loss: 0.1079 - MSE: 0.0295 - accuracy: 0.9614 - val_loss: 1.3780 - val_MSE: 0.2582 - val_accuracy: 0.6917\n",
            "Epoch 36/50\n",
            "25/25 [==============================] - 11s 439ms/step - loss: 0.1013 - MSE: 0.0237 - accuracy: 0.9712 - val_loss: 1.5506 - val_MSE: 0.2663 - val_accuracy: 0.6854\n",
            "Epoch 37/50\n",
            "25/25 [==============================] - 11s 459ms/step - loss: 0.0681 - MSE: 0.0151 - accuracy: 0.9806 - val_loss: 1.1573 - val_MSE: 0.2475 - val_accuracy: 0.6896\n",
            "Epoch 38/50\n",
            "25/25 [==============================] - 11s 442ms/step - loss: 0.0354 - MSE: 0.0088 - accuracy: 0.9888 - val_loss: 1.4024 - val_MSE: 0.2589 - val_accuracy: 0.6771\n",
            "Epoch 39/50\n",
            "25/25 [==============================] - 11s 438ms/step - loss: 0.0472 - MSE: 0.0099 - accuracy: 0.9883 - val_loss: 1.6939 - val_MSE: 0.2835 - val_accuracy: 0.6604\n",
            "Epoch 40/50\n",
            "25/25 [==============================] - 11s 441ms/step - loss: 0.0303 - MSE: 0.0086 - accuracy: 0.9891 - val_loss: 1.8927 - val_MSE: 0.2979 - val_accuracy: 0.6604\n",
            "Epoch 41/50\n",
            "25/25 [==============================] - 11s 442ms/step - loss: 0.3922 - MSE: 0.0685 - accuracy: 0.9180 - val_loss: 1.8735 - val_MSE: 0.2888 - val_accuracy: 0.6667\n",
            "Epoch 42/50\n",
            "25/25 [==============================] - 11s 447ms/step - loss: 0.0933 - MSE: 0.0246 - accuracy: 0.9677 - val_loss: 1.7402 - val_MSE: 0.2778 - val_accuracy: 0.6708\n",
            "Epoch 43/50\n",
            "25/25 [==============================] - 11s 438ms/step - loss: 0.0295 - MSE: 0.0069 - accuracy: 0.9878 - val_loss: 1.5402 - val_MSE: 0.2937 - val_accuracy: 0.6562\n",
            "Epoch 44/50\n",
            "25/25 [==============================] - 11s 438ms/step - loss: 0.0402 - MSE: 0.0100 - accuracy: 0.9894 - val_loss: 1.6603 - val_MSE: 0.2789 - val_accuracy: 0.6729\n",
            "Epoch 45/50\n",
            "25/25 [==============================] - 11s 439ms/step - loss: 0.0330 - MSE: 0.0080 - accuracy: 0.9908 - val_loss: 2.4271 - val_MSE: 0.3006 - val_accuracy: 0.6542\n",
            "Epoch 46/50\n",
            "25/25 [==============================] - 11s 440ms/step - loss: 0.0733 - MSE: 0.0224 - accuracy: 0.9678 - val_loss: 1.7354 - val_MSE: 0.2841 - val_accuracy: 0.6667\n",
            "Epoch 47/50\n",
            "25/25 [==============================] - 11s 439ms/step - loss: 0.0463 - MSE: 0.0113 - accuracy: 0.9887 - val_loss: 1.4464 - val_MSE: 0.2710 - val_accuracy: 0.6854\n",
            "Epoch 48/50\n",
            "25/25 [==============================] - 11s 442ms/step - loss: 0.0116 - MSE: 0.0020 - accuracy: 0.9981 - val_loss: 1.8462 - val_MSE: 0.2908 - val_accuracy: 0.6583\n",
            "Epoch 49/50\n",
            "25/25 [==============================] - 11s 444ms/step - loss: 0.0567 - MSE: 0.0154 - accuracy: 0.9808 - val_loss: 1.8707 - val_MSE: 0.2820 - val_accuracy: 0.6833\n",
            "Epoch 50/50\n",
            "25/25 [==============================] - 11s 440ms/step - loss: 0.0077 - MSE: 0.0016 - accuracy: 0.9997 - val_loss: 2.6030 - val_MSE: 0.2941 - val_accuracy: 0.6771\n"
          ],
          "name": "stdout"
        }
      ]
    },
    {
      "cell_type": "markdown",
      "metadata": {
        "id": "I8kK7TT37V3t"
      },
      "source": [
        "I'm still seeing an increase in my validation loss."
      ]
    },
    {
      "cell_type": "markdown",
      "metadata": {
        "id": "iRCyPKJfKm5Y"
      },
      "source": [
        "Fit and compile using the Adam optimizer. Describe the difference in performance between the Adam and RMSprop optimizers."
      ]
    },
    {
      "cell_type": "code",
      "metadata": {
        "id": "eqzQbCl8Km5Z",
        "colab": {
          "base_uri": "https://localhost:8080/"
        },
        "outputId": "c2dbf065-3631-4273-d7e9-acd5879bc4fb"
      },
      "source": [
        "# Answer below:\n",
        "new_model.compile(optimizer='adam',loss=\"binary_crossentropy\",metrics=[\"MSE\", \"accuracy\"])\n",
        "\n",
        "# Answer below:\n",
        "new_history = new_model.fit(train,\n",
        "                    steps_per_epoch=STEP_SIZE_TRAIN,\n",
        "                    validation_data=valid,\n",
        "                    validation_steps=STEP_SIZE_VALID,            \n",
        "                    epochs = EPOCHS)\n",
        "new_history = pd.DataFrame(new_history.history)\n",
        "new_history['model'] = 'Four'\n",
        "history = pd.concat([history, new_history])"
      ],
      "execution_count": 16,
      "outputs": [
        {
          "output_type": "stream",
          "text": [
            "Epoch 1/50\n",
            "25/25 [==============================] - 12s 453ms/step - loss: 0.0614 - MSE: 0.0150 - accuracy: 0.9803 - val_loss: 2.0783 - val_MSE: 0.2790 - val_accuracy: 0.6833\n",
            "Epoch 2/50\n",
            "25/25 [==============================] - 11s 439ms/step - loss: 0.0443 - MSE: 0.0132 - accuracy: 0.9821 - val_loss: 2.0200 - val_MSE: 0.2986 - val_accuracy: 0.6625\n",
            "Epoch 3/50\n",
            "25/25 [==============================] - 11s 440ms/step - loss: 0.0291 - MSE: 0.0086 - accuracy: 0.9885 - val_loss: 2.1469 - val_MSE: 0.2874 - val_accuracy: 0.6771\n",
            "Epoch 4/50\n",
            "25/25 [==============================] - 11s 438ms/step - loss: 0.0360 - MSE: 0.0056 - accuracy: 0.9952 - val_loss: 2.0677 - val_MSE: 0.2868 - val_accuracy: 0.6792\n",
            "Epoch 5/50\n",
            "25/25 [==============================] - 11s 441ms/step - loss: 0.0293 - MSE: 0.0089 - accuracy: 0.9871 - val_loss: 2.1678 - val_MSE: 0.3072 - val_accuracy: 0.6479\n",
            "Epoch 6/50\n",
            "25/25 [==============================] - 11s 444ms/step - loss: 0.0190 - MSE: 0.0047 - accuracy: 0.9956 - val_loss: 1.8981 - val_MSE: 0.2746 - val_accuracy: 0.6833\n",
            "Epoch 7/50\n",
            "25/25 [==============================] - 11s 446ms/step - loss: 0.0106 - MSE: 0.0030 - accuracy: 0.9974 - val_loss: 2.6637 - val_MSE: 0.2893 - val_accuracy: 0.6833\n",
            "Epoch 8/50\n",
            "25/25 [==============================] - 11s 442ms/step - loss: 0.0775 - MSE: 0.0166 - accuracy: 0.9758 - val_loss: 2.2045 - val_MSE: 0.3101 - val_accuracy: 0.6583\n",
            "Epoch 9/50\n",
            "25/25 [==============================] - 11s 438ms/step - loss: 0.1323 - MSE: 0.0260 - accuracy: 0.9690 - val_loss: 1.9648 - val_MSE: 0.2902 - val_accuracy: 0.6729\n",
            "Epoch 10/50\n",
            "25/25 [==============================] - 11s 440ms/step - loss: 0.1313 - MSE: 0.0324 - accuracy: 0.9647 - val_loss: 1.7537 - val_MSE: 0.2863 - val_accuracy: 0.6667\n",
            "Epoch 11/50\n",
            "25/25 [==============================] - 11s 442ms/step - loss: 0.1152 - MSE: 0.0342 - accuracy: 0.9551 - val_loss: 1.5004 - val_MSE: 0.2690 - val_accuracy: 0.6938\n",
            "Epoch 12/50\n",
            "25/25 [==============================] - 11s 443ms/step - loss: 0.0247 - MSE: 0.0062 - accuracy: 0.9946 - val_loss: 1.7530 - val_MSE: 0.2706 - val_accuracy: 0.6854\n",
            "Epoch 13/50\n",
            "25/25 [==============================] - 11s 441ms/step - loss: 0.0155 - MSE: 0.0039 - accuracy: 0.9962 - val_loss: 1.6480 - val_MSE: 0.2866 - val_accuracy: 0.6687\n",
            "Epoch 14/50\n",
            "25/25 [==============================] - 11s 449ms/step - loss: 0.0169 - MSE: 0.0034 - accuracy: 0.9971 - val_loss: 1.6757 - val_MSE: 0.2579 - val_accuracy: 0.7000\n",
            "Epoch 15/50\n",
            "25/25 [==============================] - 11s 453ms/step - loss: 0.0099 - MSE: 0.0020 - accuracy: 0.9977 - val_loss: 1.8100 - val_MSE: 0.2787 - val_accuracy: 0.6833\n",
            "Epoch 16/50\n",
            "25/25 [==============================] - 11s 456ms/step - loss: 0.0324 - MSE: 0.0070 - accuracy: 0.9918 - val_loss: 1.7181 - val_MSE: 0.2769 - val_accuracy: 0.6875\n",
            "Epoch 17/50\n",
            "25/25 [==============================] - 11s 443ms/step - loss: 0.0138 - MSE: 0.0027 - accuracy: 0.9964 - val_loss: 1.7818 - val_MSE: 0.2894 - val_accuracy: 0.6583\n",
            "Epoch 18/50\n",
            "25/25 [==============================] - 11s 443ms/step - loss: 0.0072 - MSE: 8.1857e-04 - accuracy: 0.9999 - val_loss: 1.9967 - val_MSE: 0.2968 - val_accuracy: 0.6667\n",
            "Epoch 19/50\n",
            "25/25 [==============================] - 11s 453ms/step - loss: 0.0065 - MSE: 0.0017 - accuracy: 0.9975 - val_loss: 1.9409 - val_MSE: 0.2893 - val_accuracy: 0.6729\n",
            "Epoch 20/50\n",
            "25/25 [==============================] - 11s 446ms/step - loss: 0.0140 - MSE: 0.0041 - accuracy: 0.9920 - val_loss: 2.0445 - val_MSE: 0.2804 - val_accuracy: 0.6854\n",
            "Epoch 21/50\n",
            "25/25 [==============================] - 11s 446ms/step - loss: 0.0320 - MSE: 0.0114 - accuracy: 0.9811 - val_loss: 1.9803 - val_MSE: 0.2902 - val_accuracy: 0.6646\n",
            "Epoch 22/50\n",
            "25/25 [==============================] - 11s 444ms/step - loss: 0.0139 - MSE: 0.0038 - accuracy: 0.9950 - val_loss: 2.4381 - val_MSE: 0.3131 - val_accuracy: 0.6438\n",
            "Epoch 23/50\n",
            "25/25 [==============================] - 11s 441ms/step - loss: 0.0272 - MSE: 0.0073 - accuracy: 0.9918 - val_loss: 1.6124 - val_MSE: 0.2807 - val_accuracy: 0.6750\n",
            "Epoch 24/50\n",
            "25/25 [==============================] - 11s 441ms/step - loss: 0.0325 - MSE: 0.0089 - accuracy: 0.9873 - val_loss: 2.0103 - val_MSE: 0.3135 - val_accuracy: 0.6375\n",
            "Epoch 25/50\n",
            "25/25 [==============================] - 11s 444ms/step - loss: 0.0241 - MSE: 0.0070 - accuracy: 0.9917 - val_loss: 2.1793 - val_MSE: 0.3063 - val_accuracy: 0.6542\n",
            "Epoch 26/50\n",
            "25/25 [==============================] - 11s 442ms/step - loss: 0.0376 - MSE: 0.0095 - accuracy: 0.9900 - val_loss: 2.1928 - val_MSE: 0.3033 - val_accuracy: 0.6583\n",
            "Epoch 27/50\n",
            "25/25 [==============================] - 11s 438ms/step - loss: 0.0402 - MSE: 0.0114 - accuracy: 0.9841 - val_loss: 1.8733 - val_MSE: 0.2807 - val_accuracy: 0.6667\n",
            "Epoch 28/50\n",
            "25/25 [==============================] - 11s 443ms/step - loss: 0.0292 - MSE: 0.0089 - accuracy: 0.9836 - val_loss: 2.6851 - val_MSE: 0.3022 - val_accuracy: 0.6542\n",
            "Epoch 29/50\n",
            "25/25 [==============================] - 11s 445ms/step - loss: 0.0531 - MSE: 0.0135 - accuracy: 0.9786 - val_loss: 2.0358 - val_MSE: 0.2935 - val_accuracy: 0.6708\n",
            "Epoch 30/50\n",
            "25/25 [==============================] - 11s 440ms/step - loss: 0.0628 - MSE: 0.0159 - accuracy: 0.9787 - val_loss: 1.6718 - val_MSE: 0.2773 - val_accuracy: 0.6792\n",
            "Epoch 31/50\n",
            "25/25 [==============================] - 11s 440ms/step - loss: 0.0108 - MSE: 0.0022 - accuracy: 0.9976 - val_loss: 1.9352 - val_MSE: 0.2881 - val_accuracy: 0.6687\n",
            "Epoch 32/50\n",
            "25/25 [==============================] - 11s 441ms/step - loss: 0.0172 - MSE: 0.0031 - accuracy: 0.9964 - val_loss: 2.0499 - val_MSE: 0.3121 - val_accuracy: 0.6354\n",
            "Epoch 33/50\n",
            "25/25 [==============================] - 11s 437ms/step - loss: 0.0281 - MSE: 0.0088 - accuracy: 0.9881 - val_loss: 2.2757 - val_MSE: 0.2893 - val_accuracy: 0.6750\n",
            "Epoch 34/50\n",
            "25/25 [==============================] - 11s 441ms/step - loss: 0.0261 - MSE: 0.0084 - accuracy: 0.9878 - val_loss: 1.9501 - val_MSE: 0.2929 - val_accuracy: 0.6583\n",
            "Epoch 35/50\n",
            "25/25 [==============================] - 11s 438ms/step - loss: 0.0173 - MSE: 0.0041 - accuracy: 0.9947 - val_loss: 1.8713 - val_MSE: 0.2833 - val_accuracy: 0.6687\n",
            "Epoch 36/50\n",
            "25/25 [==============================] - 11s 445ms/step - loss: 0.0236 - MSE: 0.0060 - accuracy: 0.9919 - val_loss: 2.1060 - val_MSE: 0.2887 - val_accuracy: 0.6687\n",
            "Epoch 37/50\n",
            "25/25 [==============================] - 11s 438ms/step - loss: 0.0780 - MSE: 0.0120 - accuracy: 0.9841 - val_loss: 1.5848 - val_MSE: 0.2837 - val_accuracy: 0.6667\n",
            "Epoch 38/50\n",
            "25/25 [==============================] - 11s 443ms/step - loss: 0.0144 - MSE: 0.0028 - accuracy: 0.9940 - val_loss: 2.1297 - val_MSE: 0.2913 - val_accuracy: 0.6667\n",
            "Epoch 39/50\n",
            "25/25 [==============================] - 11s 443ms/step - loss: 0.0479 - MSE: 0.0087 - accuracy: 0.9904 - val_loss: 2.3683 - val_MSE: 0.3020 - val_accuracy: 0.6687\n",
            "Epoch 40/50\n",
            "25/25 [==============================] - 11s 448ms/step - loss: 0.0631 - MSE: 0.0111 - accuracy: 0.9862 - val_loss: 1.9651 - val_MSE: 0.2853 - val_accuracy: 0.6750\n",
            "Epoch 41/50\n",
            "25/25 [==============================] - 11s 440ms/step - loss: 0.0228 - MSE: 0.0057 - accuracy: 0.9943 - val_loss: 1.8002 - val_MSE: 0.2701 - val_accuracy: 0.6875\n",
            "Epoch 42/50\n",
            "25/25 [==============================] - 11s 432ms/step - loss: 0.0209 - MSE: 0.0051 - accuracy: 0.9928 - val_loss: 1.8190 - val_MSE: 0.2919 - val_accuracy: 0.6625\n",
            "Epoch 43/50\n",
            "25/25 [==============================] - 11s 431ms/step - loss: 0.0128 - MSE: 0.0034 - accuracy: 0.9942 - val_loss: 2.1711 - val_MSE: 0.2896 - val_accuracy: 0.6792\n",
            "Epoch 44/50\n",
            "25/25 [==============================] - 11s 461ms/step - loss: 0.0225 - MSE: 0.0056 - accuracy: 0.9910 - val_loss: 2.1970 - val_MSE: 0.2938 - val_accuracy: 0.6729\n",
            "Epoch 45/50\n",
            "25/25 [==============================] - 11s 430ms/step - loss: 0.0300 - MSE: 0.0086 - accuracy: 0.9902 - val_loss: 1.9361 - val_MSE: 0.2879 - val_accuracy: 0.6729\n",
            "Epoch 46/50\n",
            "25/25 [==============================] - 11s 430ms/step - loss: 0.0155 - MSE: 0.0045 - accuracy: 0.9949 - val_loss: 2.0367 - val_MSE: 0.2854 - val_accuracy: 0.6750\n",
            "Epoch 47/50\n",
            "25/25 [==============================] - 11s 435ms/step - loss: 0.0024 - MSE: 2.0706e-04 - accuracy: 1.0000 - val_loss: 1.9996 - val_MSE: 0.2746 - val_accuracy: 0.6917\n",
            "Epoch 48/50\n",
            "25/25 [==============================] - 11s 430ms/step - loss: 0.0035 - MSE: 5.4486e-04 - accuracy: 1.0000 - val_loss: 2.2816 - val_MSE: 0.2758 - val_accuracy: 0.6979\n",
            "Epoch 49/50\n",
            "25/25 [==============================] - 11s 429ms/step - loss: 0.0038 - MSE: 0.0010 - accuracy: 0.9980 - val_loss: 2.0272 - val_MSE: 0.2678 - val_accuracy: 0.6896\n",
            "Epoch 50/50\n",
            "25/25 [==============================] - 11s 429ms/step - loss: 0.0014 - MSE: 1.3286e-04 - accuracy: 1.0000 - val_loss: 2.1193 - val_MSE: 0.2696 - val_accuracy: 0.6938\n"
          ],
          "name": "stdout"
        }
      ]
    },
    {
      "cell_type": "code",
      "metadata": {
        "id": "q1JO-EvqAasN"
      },
      "source": [
        "results = history.copy()"
      ],
      "execution_count": 27,
      "outputs": []
    },
    {
      "cell_type": "code",
      "metadata": {
        "colab": {
          "base_uri": "https://localhost:8080/",
          "height": 431
        },
        "id": "5qTPWkScUh1a",
        "outputId": "e3b36883-5f07-47ac-cbd8-eb9e9631661f"
      },
      "source": [
        "results.set_index('model')"
      ],
      "execution_count": 29,
      "outputs": [
        {
          "output_type": "execute_result",
          "data": {
            "text/html": [
              "<div>\n",
              "<style scoped>\n",
              "    .dataframe tbody tr th:only-of-type {\n",
              "        vertical-align: middle;\n",
              "    }\n",
              "\n",
              "    .dataframe tbody tr th {\n",
              "        vertical-align: top;\n",
              "    }\n",
              "\n",
              "    .dataframe thead th {\n",
              "        text-align: right;\n",
              "    }\n",
              "</style>\n",
              "<table border=\"1\" class=\"dataframe\">\n",
              "  <thead>\n",
              "    <tr style=\"text-align: right;\">\n",
              "      <th></th>\n",
              "      <th>loss</th>\n",
              "      <th>MSE</th>\n",
              "      <th>accuracy</th>\n",
              "      <th>val_loss</th>\n",
              "      <th>val_MSE</th>\n",
              "      <th>val_accuracy</th>\n",
              "    </tr>\n",
              "    <tr>\n",
              "      <th>model</th>\n",
              "      <th></th>\n",
              "      <th></th>\n",
              "      <th></th>\n",
              "      <th></th>\n",
              "      <th></th>\n",
              "      <th></th>\n",
              "    </tr>\n",
              "  </thead>\n",
              "  <tbody>\n",
              "    <tr>\n",
              "      <th>One</th>\n",
              "      <td>4.044320</td>\n",
              "      <td>0.355415</td>\n",
              "      <td>0.495000</td>\n",
              "      <td>0.665045</td>\n",
              "      <td>0.236179</td>\n",
              "      <td>0.591667</td>\n",
              "    </tr>\n",
              "    <tr>\n",
              "      <th>One</th>\n",
              "      <td>0.683487</td>\n",
              "      <td>0.241729</td>\n",
              "      <td>0.592965</td>\n",
              "      <td>0.691367</td>\n",
              "      <td>0.246047</td>\n",
              "      <td>0.608333</td>\n",
              "    </tr>\n",
              "    <tr>\n",
              "      <th>One</th>\n",
              "      <td>0.673814</td>\n",
              "      <td>0.239848</td>\n",
              "      <td>0.601250</td>\n",
              "      <td>0.689977</td>\n",
              "      <td>0.248601</td>\n",
              "      <td>0.529167</td>\n",
              "    </tr>\n",
              "    <tr>\n",
              "      <th>One</th>\n",
              "      <td>0.666562</td>\n",
              "      <td>0.234593</td>\n",
              "      <td>0.621859</td>\n",
              "      <td>0.650245</td>\n",
              "      <td>0.227253</td>\n",
              "      <td>0.670833</td>\n",
              "    </tr>\n",
              "    <tr>\n",
              "      <th>One</th>\n",
              "      <td>0.642137</td>\n",
              "      <td>0.220017</td>\n",
              "      <td>0.651250</td>\n",
              "      <td>0.642254</td>\n",
              "      <td>0.223983</td>\n",
              "      <td>0.658333</td>\n",
              "    </tr>\n",
              "    <tr>\n",
              "      <th>...</th>\n",
              "      <td>...</td>\n",
              "      <td>...</td>\n",
              "      <td>...</td>\n",
              "      <td>...</td>\n",
              "      <td>...</td>\n",
              "      <td>...</td>\n",
              "    </tr>\n",
              "    <tr>\n",
              "      <th>Four</th>\n",
              "      <td>0.009060</td>\n",
              "      <td>0.002266</td>\n",
              "      <td>0.997487</td>\n",
              "      <td>2.036657</td>\n",
              "      <td>0.285432</td>\n",
              "      <td>0.675000</td>\n",
              "    </tr>\n",
              "    <tr>\n",
              "      <th>Four</th>\n",
              "      <td>0.003281</td>\n",
              "      <td>0.000484</td>\n",
              "      <td>1.000000</td>\n",
              "      <td>1.999580</td>\n",
              "      <td>0.274591</td>\n",
              "      <td>0.691667</td>\n",
              "    </tr>\n",
              "    <tr>\n",
              "      <th>Four</th>\n",
              "      <td>0.003887</td>\n",
              "      <td>0.000717</td>\n",
              "      <td>1.000000</td>\n",
              "      <td>2.281620</td>\n",
              "      <td>0.275794</td>\n",
              "      <td>0.697917</td>\n",
              "    </tr>\n",
              "    <tr>\n",
              "      <th>Four</th>\n",
              "      <td>0.004892</td>\n",
              "      <td>0.001422</td>\n",
              "      <td>0.997500</td>\n",
              "      <td>2.027171</td>\n",
              "      <td>0.267800</td>\n",
              "      <td>0.689583</td>\n",
              "    </tr>\n",
              "    <tr>\n",
              "      <th>Four</th>\n",
              "      <td>0.001898</td>\n",
              "      <td>0.000252</td>\n",
              "      <td>1.000000</td>\n",
              "      <td>2.119323</td>\n",
              "      <td>0.269577</td>\n",
              "      <td>0.693750</td>\n",
              "    </tr>\n",
              "  </tbody>\n",
              "</table>\n",
              "<p>200 rows × 6 columns</p>\n",
              "</div>"
            ],
            "text/plain": [
              "           loss       MSE  accuracy  val_loss   val_MSE  val_accuracy\n",
              "model                                                                \n",
              "One    4.044320  0.355415  0.495000  0.665045  0.236179      0.591667\n",
              "One    0.683487  0.241729  0.592965  0.691367  0.246047      0.608333\n",
              "One    0.673814  0.239848  0.601250  0.689977  0.248601      0.529167\n",
              "One    0.666562  0.234593  0.621859  0.650245  0.227253      0.670833\n",
              "One    0.642137  0.220017  0.651250  0.642254  0.223983      0.658333\n",
              "...         ...       ...       ...       ...       ...           ...\n",
              "Four   0.009060  0.002266  0.997487  2.036657  0.285432      0.675000\n",
              "Four   0.003281  0.000484  1.000000  1.999580  0.274591      0.691667\n",
              "Four   0.003887  0.000717  1.000000  2.281620  0.275794      0.697917\n",
              "Four   0.004892  0.001422  0.997500  2.027171  0.267800      0.689583\n",
              "Four   0.001898  0.000252  1.000000  2.119323  0.269577      0.693750\n",
              "\n",
              "[200 rows x 6 columns]"
            ]
          },
          "metadata": {
            "tags": []
          },
          "execution_count": 29
        }
      ]
    },
    {
      "cell_type": "code",
      "metadata": {
        "id": "pXxbE91FAbo4"
      },
      "source": [
        "grr = results.groupby(by='model').agg(['mean', 'min', 'max']) "
      ],
      "execution_count": 52,
      "outputs": []
    },
    {
      "cell_type": "code",
      "metadata": {
        "colab": {
          "base_uri": "https://localhost:8080/",
          "height": 225
        },
        "id": "ofNu0k9mUudl",
        "outputId": "ba1d63f2-c2a1-4007-9789-c23dc7cda68b"
      },
      "source": [
        "grr"
      ],
      "execution_count": 54,
      "outputs": [
        {
          "output_type": "execute_result",
          "data": {
            "text/html": [
              "<div>\n",
              "<style scoped>\n",
              "    .dataframe tbody tr th:only-of-type {\n",
              "        vertical-align: middle;\n",
              "    }\n",
              "\n",
              "    .dataframe tbody tr th {\n",
              "        vertical-align: top;\n",
              "    }\n",
              "\n",
              "    .dataframe thead tr th {\n",
              "        text-align: left;\n",
              "    }\n",
              "\n",
              "    .dataframe thead tr:last-of-type th {\n",
              "        text-align: right;\n",
              "    }\n",
              "</style>\n",
              "<table border=\"1\" class=\"dataframe\">\n",
              "  <thead>\n",
              "    <tr>\n",
              "      <th></th>\n",
              "      <th colspan=\"3\" halign=\"left\">loss</th>\n",
              "      <th colspan=\"3\" halign=\"left\">MSE</th>\n",
              "      <th colspan=\"3\" halign=\"left\">accuracy</th>\n",
              "      <th colspan=\"3\" halign=\"left\">val_loss</th>\n",
              "      <th colspan=\"3\" halign=\"left\">val_MSE</th>\n",
              "      <th colspan=\"3\" halign=\"left\">val_accuracy</th>\n",
              "    </tr>\n",
              "    <tr>\n",
              "      <th></th>\n",
              "      <th>mean</th>\n",
              "      <th>min</th>\n",
              "      <th>max</th>\n",
              "      <th>mean</th>\n",
              "      <th>min</th>\n",
              "      <th>max</th>\n",
              "      <th>mean</th>\n",
              "      <th>min</th>\n",
              "      <th>max</th>\n",
              "      <th>mean</th>\n",
              "      <th>min</th>\n",
              "      <th>max</th>\n",
              "      <th>mean</th>\n",
              "      <th>min</th>\n",
              "      <th>max</th>\n",
              "      <th>mean</th>\n",
              "      <th>min</th>\n",
              "      <th>max</th>\n",
              "    </tr>\n",
              "    <tr>\n",
              "      <th>model</th>\n",
              "      <th></th>\n",
              "      <th></th>\n",
              "      <th></th>\n",
              "      <th></th>\n",
              "      <th></th>\n",
              "      <th></th>\n",
              "      <th></th>\n",
              "      <th></th>\n",
              "      <th></th>\n",
              "      <th></th>\n",
              "      <th></th>\n",
              "      <th></th>\n",
              "      <th></th>\n",
              "      <th></th>\n",
              "      <th></th>\n",
              "      <th></th>\n",
              "      <th></th>\n",
              "      <th></th>\n",
              "    </tr>\n",
              "  </thead>\n",
              "  <tbody>\n",
              "    <tr>\n",
              "      <th>Four</th>\n",
              "      <td>0.031002</td>\n",
              "      <td>0.001898</td>\n",
              "      <td>0.133832</td>\n",
              "      <td>0.007600</td>\n",
              "      <td>0.000252</td>\n",
              "      <td>0.034892</td>\n",
              "      <td>0.990402</td>\n",
              "      <td>0.956030</td>\n",
              "      <td>1.000000</td>\n",
              "      <td>2.002751</td>\n",
              "      <td>1.500390</td>\n",
              "      <td>2.685107</td>\n",
              "      <td>0.287781</td>\n",
              "      <td>0.257918</td>\n",
              "      <td>0.313488</td>\n",
              "      <td>0.671917</td>\n",
              "      <td>0.635417</td>\n",
              "      <td>0.700000</td>\n",
              "    </tr>\n",
              "    <tr>\n",
              "      <th>One</th>\n",
              "      <td>0.380865</td>\n",
              "      <td>0.038096</td>\n",
              "      <td>4.044320</td>\n",
              "      <td>0.101164</td>\n",
              "      <td>0.007002</td>\n",
              "      <td>0.355415</td>\n",
              "      <td>0.853479</td>\n",
              "      <td>0.495000</td>\n",
              "      <td>0.994975</td>\n",
              "      <td>0.923629</td>\n",
              "      <td>0.621371</td>\n",
              "      <td>1.587795</td>\n",
              "      <td>0.251363</td>\n",
              "      <td>0.212446</td>\n",
              "      <td>0.324046</td>\n",
              "      <td>0.652458</td>\n",
              "      <td>0.529167</td>\n",
              "      <td>0.693750</td>\n",
              "    </tr>\n",
              "    <tr>\n",
              "      <th>Three</th>\n",
              "      <td>0.277141</td>\n",
              "      <td>0.009445</td>\n",
              "      <td>0.780069</td>\n",
              "      <td>0.088382</td>\n",
              "      <td>0.002177</td>\n",
              "      <td>0.266936</td>\n",
              "      <td>0.865977</td>\n",
              "      <td>0.495000</td>\n",
              "      <td>0.998744</td>\n",
              "      <td>1.149555</td>\n",
              "      <td>0.595599</td>\n",
              "      <td>2.602982</td>\n",
              "      <td>0.252597</td>\n",
              "      <td>0.201940</td>\n",
              "      <td>0.320512</td>\n",
              "      <td>0.660125</td>\n",
              "      <td>0.506250</td>\n",
              "      <td>0.710417</td>\n",
              "    </tr>\n",
              "    <tr>\n",
              "      <th>Two</th>\n",
              "      <td>0.300108</td>\n",
              "      <td>0.043992</td>\n",
              "      <td>0.881170</td>\n",
              "      <td>0.094247</td>\n",
              "      <td>0.011982</td>\n",
              "      <td>0.266933</td>\n",
              "      <td>0.861577</td>\n",
              "      <td>0.525126</td>\n",
              "      <td>0.983750</td>\n",
              "      <td>1.131796</td>\n",
              "      <td>0.610746</td>\n",
              "      <td>1.754041</td>\n",
              "      <td>0.269662</td>\n",
              "      <td>0.206833</td>\n",
              "      <td>0.452866</td>\n",
              "      <td>0.641958</td>\n",
              "      <td>0.510417</td>\n",
              "      <td>0.681250</td>\n",
              "    </tr>\n",
              "  </tbody>\n",
              "</table>\n",
              "</div>"
            ],
            "text/plain": [
              "           loss                      ... val_accuracy                    \n",
              "           mean       min       max  ...         mean       min       max\n",
              "model                                ...                                 \n",
              "Four   0.031002  0.001898  0.133832  ...     0.671917  0.635417  0.700000\n",
              "One    0.380865  0.038096  4.044320  ...     0.652458  0.529167  0.693750\n",
              "Three  0.277141  0.009445  0.780069  ...     0.660125  0.506250  0.710417\n",
              "Two    0.300108  0.043992  0.881170  ...     0.641958  0.510417  0.681250\n",
              "\n",
              "[4 rows x 18 columns]"
            ]
          },
          "metadata": {
            "tags": []
          },
          "execution_count": 54
        }
      ]
    },
    {
      "cell_type": "code",
      "metadata": {
        "id": "MfetBr7lXNT9"
      },
      "source": [
        ""
      ],
      "execution_count": null,
      "outputs": []
    }
  ]
}