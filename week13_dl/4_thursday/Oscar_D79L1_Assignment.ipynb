{
  "nbformat": 4,
  "nbformat_minor": 0,
  "metadata": {
    "kernelspec": {
      "display_name": "Python 3",
      "language": "python",
      "name": "python3"
    },
    "language_info": {
      "codemirror_mode": {
        "name": "ipython",
        "version": 3
      },
      "file_extension": ".py",
      "mimetype": "text/x-python",
      "name": "python",
      "nbconvert_exporter": "python",
      "pygments_lexer": "ipython3",
      "version": "3.7.0"
    },
    "colab": {
      "name": "Oscar_D79L1_Assignment.ipynb",
      "provenance": [],
      "collapsed_sections": [],
      "toc_visible": true
    },
    "accelerator": "GPU"
  },
  "cells": [
    {
      "cell_type": "markdown",
      "metadata": {
        "id": "DuT0K8LDKm45"
      },
      "source": [
        "## Convolutional Neural Networks\n",
        "\n",
        "In this assignment, we will learn about convolutional neural networks. We will create a CNN and learn to classify image data."
      ]
    },
    {
      "cell_type": "markdown",
      "metadata": {
        "id": "tMD7Nr8hKm47"
      },
      "source": [
        "In this lecture, we will use the image data generator to classify our data. The data is loaded below:"
      ]
    },
    {
      "cell_type": "code",
      "metadata": {
        "id": "6swIc-rGKm47"
      },
      "source": [
        "import numpy as np\n",
        "import pandas as pd\n",
        "\n",
        "from tensorflow.keras.preprocessing.image import ImageDataGenerator\n",
        "from tensorflow.keras.models import Sequential\n",
        "from tensorflow.keras.layers import Conv2D, MaxPooling2D\n",
        "from tensorflow.keras.layers import Activation, Dropout, Flatten, Dense, BatchNormalization \n",
        "from tensorflow.keras import backend as K\n",
        "from tensorflow.keras.models import Model\n",
        "import time"
      ],
      "execution_count": 1,
      "outputs": []
    },
    {
      "cell_type": "code",
      "metadata": {
        "colab": {
          "base_uri": "https://localhost:8080/"
        },
        "id": "e31vcaY-y6P_",
        "outputId": "db736426-4693-4b1c-d2ed-474eda1edb3f"
      },
      "source": [
        "from google.colab import drive\n",
        "drive.mount('/content/drive')"
      ],
      "execution_count": 21,
      "outputs": [
        {
          "output_type": "stream",
          "text": [
            "Drive already mounted at /content/drive; to attempt to forcibly remount, call drive.mount(\"/content/drive\", force_remount=True).\n"
          ],
          "name": "stdout"
        }
      ]
    },
    {
      "cell_type": "code",
      "metadata": {
        "id": "WxuDmAQlKm4-"
      },
      "source": [
        "train_data_dir = '/content/drive/MyDrive/python_for_data_scientists/DSI07/DataSets/dogs-vs-cats-processed/train'\n",
        "validation_data_dir = '/content/drive/MyDrive/python_for_data_scientists/DSI07/DataSets/dogs-vs-cats-processed/test'\n",
        "\n",
        "img_width, img_height = 150, 150\n",
        "batch_size = 80"
      ],
      "execution_count": 22,
      "outputs": []
    },
    {
      "cell_type": "code",
      "metadata": {
        "id": "SCfRV8VGKm5A"
      },
      "source": [
        "#This block of code is used to ensure the input shape is correct\n",
        "\n",
        "if K.image_data_format() == 'channels_first':\n",
        "    input_shape = (3, img_width, img_height)\n",
        "else:\n",
        "    input_shape = (img_width, img_height, 3)"
      ],
      "execution_count": 23,
      "outputs": []
    },
    {
      "cell_type": "markdown",
      "metadata": {
        "id": "T4x9el54Km5C"
      },
      "source": [
        "Define a train data generator with shear range of 0.3, zoom range of 0.1 and rescale to 1./255 (note that we must make 1 a float to produce a correct fraction). Use the ImageDataGenerator function."
      ]
    },
    {
      "cell_type": "code",
      "metadata": {
        "id": "EfKBxGZpKm5D"
      },
      "source": [
        "# Answer below:\n",
        "train_datagen = ImageDataGenerator(\n",
        "    rescale=1. / 255, \n",
        "    shear_range=0.3, \n",
        "    zoom_range=0.1, \n",
        "    horizontal_flip=True,\n",
        "    # validation_split=0.2\n",
        "    )"
      ],
      "execution_count": 24,
      "outputs": []
    },
    {
      "cell_type": "markdown",
      "metadata": {
        "id": "5oQJZOxNKm5E"
      },
      "source": [
        "Define a test data generator that only rescales to 1./255. Use the ImageDataGenerator function."
      ]
    },
    {
      "cell_type": "code",
      "metadata": {
        "id": "_U3XQZVLKm5F"
      },
      "source": [
        "# Answer below:\n",
        "test_datagen = ImageDataGenerator(rescale=1. / 255)\n"
      ],
      "execution_count": 25,
      "outputs": []
    },
    {
      "cell_type": "markdown",
      "metadata": {
        "id": "S0NCOxrCKm5G"
      },
      "source": [
        "The train generator and the test generator are defined below:"
      ]
    },
    {
      "cell_type": "code",
      "metadata": {
        "id": "zDgonF6uKm5H",
        "colab": {
          "base_uri": "https://localhost:8080/"
        },
        "outputId": "7b60db2f-06b8-46f1-eaf3-9c7c0187a82c"
      },
      "source": [
        "train_generator = train_datagen.flow_from_directory(\n",
        "    train_data_dir,\n",
        "    target_size=(img_width, img_height),\n",
        "    batch_size=batch_size,\n",
        "    class_mode='binary')\n",
        "\n",
        "validation_generator = test_datagen.flow_from_directory(\n",
        "    validation_data_dir,\n",
        "    target_size=(img_width, img_height),\n",
        "    batch_size=batch_size,\n",
        "    #shuffle=False,\n",
        "    class_mode='binary')"
      ],
      "execution_count": 26,
      "outputs": [
        {
          "output_type": "stream",
          "text": [
            "Found 2000 images belonging to 2 classes.\n",
            "Found 802 images belonging to 2 classes.\n"
          ],
          "name": "stdout"
        }
      ]
    },
    {
      "cell_type": "code",
      "metadata": {
        "colab": {
          "base_uri": "https://localhost:8080/"
        },
        "id": "mvjV1m8ch-M3",
        "outputId": "ee346786-7978-45b5-c596-6f9adf12d2ab"
      },
      "source": [
        "input_shape"
      ],
      "execution_count": 27,
      "outputs": [
        {
          "output_type": "execute_result",
          "data": {
            "text/plain": [
              "(150, 150, 3)"
            ]
          },
          "metadata": {
            "tags": []
          },
          "execution_count": 27
        }
      ]
    },
    {
      "cell_type": "markdown",
      "metadata": {
        "id": "0lq09r31Km5K"
      },
      "source": [
        "We'll start with a simple model. In CNNs, we first convolve the to extract features and then we add the dense layers. \n",
        "\n",
        "Create a model with one layer of convolution of size 64, one layer of activation, one layer of max pooling with pool size (2,2) and then one flattening layer, one dense layer of unit size 64 with a ReLU activation and one dense output layer. The output layer should have a sigmoid activation."
      ]
    },
    {
      "cell_type": "code",
      "metadata": {
        "id": "IJqkMx3tKm5K"
      },
      "source": [
        "# Answer below:\n",
        "model = Sequential()\n",
        "model.add(Conv2D(64, (2,2), input_shape=input_shape))\n",
        "model.add(Activation('relu'))\n",
        "model.add(MaxPooling2D(pool_size=(2,2)))\n",
        "model.add(Flatten())\n",
        "model.add(Dense(64))\n",
        "model.add(Activation('relu'))\n",
        "model.add(Dropout(0.5))\n",
        "model.add(Dense(1))\n",
        "model.add(Activation('sigmoid'))"
      ],
      "execution_count": 9,
      "outputs": []
    },
    {
      "cell_type": "code",
      "metadata": {
        "colab": {
          "base_uri": "https://localhost:8080/"
        },
        "id": "x5YpEk0YidCM",
        "outputId": "e368d767-eed8-4aeb-884f-40262a4b4896"
      },
      "source": [
        "model.summary()"
      ],
      "execution_count": 10,
      "outputs": [
        {
          "output_type": "stream",
          "text": [
            "Model: \"sequential\"\n",
            "_________________________________________________________________\n",
            "Layer (type)                 Output Shape              Param #   \n",
            "=================================================================\n",
            "conv2d (Conv2D)              (None, 149, 149, 64)      832       \n",
            "_________________________________________________________________\n",
            "activation (Activation)      (None, 149, 149, 64)      0         \n",
            "_________________________________________________________________\n",
            "max_pooling2d (MaxPooling2D) (None, 74, 74, 64)        0         \n",
            "_________________________________________________________________\n",
            "flatten (Flatten)            (None, 350464)            0         \n",
            "_________________________________________________________________\n",
            "dense (Dense)                (None, 64)                22429760  \n",
            "_________________________________________________________________\n",
            "activation_1 (Activation)    (None, 64)                0         \n",
            "_________________________________________________________________\n",
            "dropout (Dropout)            (None, 64)                0         \n",
            "_________________________________________________________________\n",
            "dense_1 (Dense)              (None, 1)                 65        \n",
            "_________________________________________________________________\n",
            "activation_2 (Activation)    (None, 1)                 0         \n",
            "=================================================================\n",
            "Total params: 22,430,657\n",
            "Trainable params: 22,430,657\n",
            "Non-trainable params: 0\n",
            "_________________________________________________________________\n"
          ],
          "name": "stdout"
        }
      ]
    },
    {
      "cell_type": "markdown",
      "metadata": {
        "id": "hEBJ5GXcKm5M"
      },
      "source": [
        "Compile the model using RMSprop."
      ]
    },
    {
      "cell_type": "code",
      "metadata": {
        "id": "85uyZ1yTKm5M"
      },
      "source": [
        "# Answer below:\n",
        "model.compile(loss='binary_crossentropy', optimizer='RMSprop', metrics=['accuracy'])\n"
      ],
      "execution_count": 11,
      "outputs": []
    },
    {
      "cell_type": "markdown",
      "metadata": {
        "id": "uIKSpMe-Km5O"
      },
      "source": [
        "Fit the model using a fit generator. Use 50 epochs, 25 training steps and 15 validation steps"
      ]
    },
    {
      "cell_type": "code",
      "metadata": {
        "id": "NFfKyhLzKm5O",
        "colab": {
          "base_uri": "https://localhost:8080/"
        },
        "outputId": "0dab72c4-3c9d-4a75-fe78-f759f70d8c8a"
      },
      "source": [
        "# Answer below:\n",
        "start_time = time.time()\n",
        "\n",
        "model.fit(train_generator, \n",
        "          steps_per_epoch=25, \n",
        "          epochs=10, \n",
        "          validation_data=validation_generator, \n",
        "          validation_steps=5)\n",
        "\n",
        "print(f'RBF Runtime: {time.time() - start_time}')\n"
      ],
      "execution_count": 12,
      "outputs": [
        {
          "output_type": "stream",
          "text": [
            "Epoch 1/10\n",
            "25/25 [==============================] - 401s 16s/step - loss: 17.7809 - accuracy: 0.4905 - val_loss: 0.6929 - val_accuracy: 0.4925\n",
            "Epoch 2/10\n",
            "25/25 [==============================] - 49s 2s/step - loss: 0.7147 - accuracy: 0.4943 - val_loss: 0.6932 - val_accuracy: 0.4800\n",
            "Epoch 3/10\n",
            "25/25 [==============================] - 27s 1s/step - loss: 0.7046 - accuracy: 0.5129 - val_loss: 0.6930 - val_accuracy: 0.5350\n",
            "Epoch 4/10\n",
            "25/25 [==============================] - 21s 864ms/step - loss: 0.7726 - accuracy: 0.5127 - val_loss: 0.6931 - val_accuracy: 0.5050\n",
            "Epoch 5/10\n",
            "25/25 [==============================] - 18s 738ms/step - loss: 0.6953 - accuracy: 0.4954 - val_loss: 0.6931 - val_accuracy: 0.5175\n",
            "Epoch 6/10\n",
            "25/25 [==============================] - 17s 682ms/step - loss: 0.7665 - accuracy: 0.5002 - val_loss: 0.6931 - val_accuracy: 0.4875\n",
            "Epoch 7/10\n",
            "25/25 [==============================] - 17s 663ms/step - loss: 0.6924 - accuracy: 0.5049 - val_loss: 0.6930 - val_accuracy: 0.5250\n",
            "Epoch 8/10\n",
            "25/25 [==============================] - 17s 666ms/step - loss: 0.7038 - accuracy: 0.5044 - val_loss: 0.6906 - val_accuracy: 0.5100\n",
            "Epoch 9/10\n",
            "25/25 [==============================] - 16s 657ms/step - loss: 0.6910 - accuracy: 0.5082 - val_loss: 0.6918 - val_accuracy: 0.4875\n",
            "Epoch 10/10\n",
            "25/25 [==============================] - 17s 669ms/step - loss: 0.7087 - accuracy: 0.5114 - val_loss: 0.6915 - val_accuracy: 0.5100\n",
            "RBF Runtime: 614.4811687469482\n"
          ],
          "name": "stdout"
        }
      ]
    },
    {
      "cell_type": "markdown",
      "metadata": {
        "id": "QAZ1IeybKm5Q"
      },
      "source": [
        "Create a new model by adding an additional group of convolution, activation and max pooling layers before the flatten layer. Make the convolution layer of unit size 32. Keep everything else the same."
      ]
    },
    {
      "cell_type": "code",
      "metadata": {
        "id": "651SH4QGKm5Q"
      },
      "source": [
        "# Answer below:\n",
        "model = Sequential()\n",
        "model.add(Conv2D(64, (2,2), input_shape=input_shape))\n",
        "model.add(Activation('relu'))\n",
        "model.add(MaxPooling2D(pool_size=(2,2)))\n",
        "\n",
        "model.add(Conv2D(32, (2,2)))\n",
        "model.add(Activation('relu'))\n",
        "model.add(MaxPooling2D(pool_size=(2,2)))\n",
        "\n",
        "model.add(Flatten())\n",
        "model.add(Dense(64))\n",
        "model.add(Activation('relu'))\n",
        "model.add(Dropout(0.5))\n",
        "model.add(Dense(1))\n",
        "model.add(Activation('sigmoid'))\n"
      ],
      "execution_count": 13,
      "outputs": []
    },
    {
      "cell_type": "markdown",
      "metadata": {
        "id": "fHfpSfgyKm5S"
      },
      "source": [
        "Fit and compile the model in the same way you did with the previous model. How did the results improve?"
      ]
    },
    {
      "cell_type": "code",
      "metadata": {
        "id": "k5nPg_LmKm5S"
      },
      "source": [
        "# Answer below:\n",
        "model.compile(loss='binary_crossentropy', optimizer='RMSprop', metrics=['accuracy'])"
      ],
      "execution_count": 14,
      "outputs": []
    },
    {
      "cell_type": "code",
      "metadata": {
        "colab": {
          "base_uri": "https://localhost:8080/"
        },
        "id": "JGwX3YVflC1h",
        "outputId": "cd563f04-115b-41df-ad7b-924589b171be"
      },
      "source": [
        "start_time = time.time()\n",
        "\n",
        "model.fit(train_generator, \n",
        "          steps_per_epoch=25, \n",
        "          epochs=10, \n",
        "          validation_data=validation_generator, \n",
        "          validation_steps=5)\n",
        "\n",
        "print(f'RBF Runtime: {time.time() - start_time}')"
      ],
      "execution_count": 15,
      "outputs": [
        {
          "output_type": "stream",
          "text": [
            "Epoch 1/10\n",
            "25/25 [==============================] - 17s 666ms/step - loss: 2.0608 - accuracy: 0.5025 - val_loss: 0.6844 - val_accuracy: 0.5775\n",
            "Epoch 2/10\n",
            "25/25 [==============================] - 16s 658ms/step - loss: 0.6924 - accuracy: 0.5511 - val_loss: 0.6648 - val_accuracy: 0.5525\n",
            "Epoch 3/10\n",
            "25/25 [==============================] - 16s 657ms/step - loss: 0.6733 - accuracy: 0.5750 - val_loss: 0.6538 - val_accuracy: 0.6125\n",
            "Epoch 4/10\n",
            "25/25 [==============================] - 16s 656ms/step - loss: 0.6731 - accuracy: 0.5933 - val_loss: 0.6417 - val_accuracy: 0.6425\n",
            "Epoch 5/10\n",
            "25/25 [==============================] - 16s 658ms/step - loss: 0.6331 - accuracy: 0.6615 - val_loss: 0.6334 - val_accuracy: 0.6175\n",
            "Epoch 6/10\n",
            "25/25 [==============================] - 16s 656ms/step - loss: 0.6171 - accuracy: 0.6681 - val_loss: 0.5879 - val_accuracy: 0.6900\n",
            "Epoch 7/10\n",
            "25/25 [==============================] - 16s 652ms/step - loss: 0.5989 - accuracy: 0.6804 - val_loss: 0.6481 - val_accuracy: 0.6525\n",
            "Epoch 8/10\n",
            "25/25 [==============================] - 16s 657ms/step - loss: 0.5744 - accuracy: 0.7125 - val_loss: 0.5807 - val_accuracy: 0.7075\n",
            "Epoch 9/10\n",
            "25/25 [==============================] - 16s 658ms/step - loss: 0.5719 - accuracy: 0.7129 - val_loss: 0.6141 - val_accuracy: 0.6775\n",
            "Epoch 10/10\n",
            "25/25 [==============================] - 16s 656ms/step - loss: 0.5470 - accuracy: 0.7095 - val_loss: 0.5665 - val_accuracy: 0.7150\n",
            "RBF Runtime: 165.5034728050232\n"
          ],
          "name": "stdout"
        }
      ]
    },
    {
      "cell_type": "markdown",
      "metadata": {
        "id": "LgKv1_tCKm5U"
      },
      "source": [
        "Create a new model based on the model above. Add an additional dense layer of size 64 with a ReLU activation after the flatten layer."
      ]
    },
    {
      "cell_type": "code",
      "metadata": {
        "id": "KlzEuIt3Km5U"
      },
      "source": [
        "# Answer below:\n",
        "model = Sequential()\n",
        "model.add(Conv2D(64, (2,2), input_shape=input_shape))\n",
        "model.add(Activation('relu'))\n",
        "model.add(MaxPooling2D(pool_size=(2,2)))\n",
        "\n",
        "model.add(Conv2D(32, (2,2)))\n",
        "model.add(Activation('relu'))\n",
        "model.add(MaxPooling2D(pool_size=(2,2)))\n",
        "\n",
        "model.add(Flatten())\n",
        "\n",
        "model.add(Dense(64))\n",
        "model.add(Activation('relu'))\n",
        "\n",
        "model.add(Dense(64))\n",
        "model.add(Activation('relu'))\n",
        "model.add(Dropout(0.5))\n",
        "model.add(Dense(1))\n",
        "model.add(Activation('sigmoid'))\n"
      ],
      "execution_count": 16,
      "outputs": []
    },
    {
      "cell_type": "markdown",
      "metadata": {
        "id": "GMg6k7tHKm5W"
      },
      "source": [
        "Fit and compile in the same way as above. Describe the difference in performance and speed."
      ]
    },
    {
      "cell_type": "code",
      "metadata": {
        "id": "pqIEZC6YKm5W"
      },
      "source": [
        "# Answer below:\n",
        "model.compile(loss='binary_crossentropy', optimizer='RMSprop', metrics=['accuracy'])"
      ],
      "execution_count": 17,
      "outputs": []
    },
    {
      "cell_type": "code",
      "metadata": {
        "colab": {
          "base_uri": "https://localhost:8080/"
        },
        "id": "LtnoPG9VlZpD",
        "outputId": "69f29032-5146-4fb4-9135-7ee1216bf8e7"
      },
      "source": [
        "start_time = time.time()\n",
        "\n",
        "model.fit(train_generator, \n",
        "          steps_per_epoch=25, \n",
        "          epochs=10, \n",
        "          validation_data=validation_generator, \n",
        "          validation_steps=5)\n",
        "\n",
        "print(f'RBF Runtime: {time.time() - start_time}')"
      ],
      "execution_count": 18,
      "outputs": [
        {
          "output_type": "stream",
          "text": [
            "Epoch 1/10\n",
            "25/25 [==============================] - 17s 678ms/step - loss: 0.9731 - accuracy: 0.4995 - val_loss: 0.6829 - val_accuracy: 0.5825\n",
            "Epoch 2/10\n",
            "25/25 [==============================] - 17s 663ms/step - loss: 0.6748 - accuracy: 0.5446 - val_loss: 0.6735 - val_accuracy: 0.6050\n",
            "Epoch 3/10\n",
            "25/25 [==============================] - 17s 665ms/step - loss: 0.6584 - accuracy: 0.6134 - val_loss: 0.6378 - val_accuracy: 0.6975\n",
            "Epoch 4/10\n",
            "25/25 [==============================] - 16s 658ms/step - loss: 0.6263 - accuracy: 0.6634 - val_loss: 0.7564 - val_accuracy: 0.5475\n",
            "Epoch 5/10\n",
            "25/25 [==============================] - 16s 654ms/step - loss: 0.6167 - accuracy: 0.6627 - val_loss: 0.6113 - val_accuracy: 0.6775\n",
            "Epoch 6/10\n",
            "25/25 [==============================] - 16s 655ms/step - loss: 0.5875 - accuracy: 0.6963 - val_loss: 1.0562 - val_accuracy: 0.5950\n",
            "Epoch 7/10\n",
            "25/25 [==============================] - 16s 654ms/step - loss: 0.6080 - accuracy: 0.6832 - val_loss: 0.6005 - val_accuracy: 0.6850\n",
            "Epoch 8/10\n",
            "25/25 [==============================] - 16s 653ms/step - loss: 0.5454 - accuracy: 0.7322 - val_loss: 0.5816 - val_accuracy: 0.7100\n",
            "Epoch 9/10\n",
            "25/25 [==============================] - 16s 660ms/step - loss: 0.5296 - accuracy: 0.7486 - val_loss: 0.6100 - val_accuracy: 0.6600\n",
            "Epoch 10/10\n",
            "25/25 [==============================] - 16s 654ms/step - loss: 0.5018 - accuracy: 0.7549 - val_loss: 0.9392 - val_accuracy: 0.6275\n",
            "RBF Runtime: 165.90322947502136\n"
          ],
          "name": "stdout"
        }
      ]
    },
    {
      "cell_type": "markdown",
      "metadata": {
        "id": "iRCyPKJfKm5Y"
      },
      "source": [
        "Fit and compile using the Adam optimizer. Describe the difference in performance between the Adam and RMSprop optimizers."
      ]
    },
    {
      "cell_type": "code",
      "metadata": {
        "id": "eqzQbCl8Km5Z"
      },
      "source": [
        "# Answer below:\n",
        "model.compile(loss='binary_crossentropy', optimizer='adam', metrics=['accuracy'])\n"
      ],
      "execution_count": 19,
      "outputs": []
    },
    {
      "cell_type": "code",
      "metadata": {
        "id": "drRBa855Km5a",
        "colab": {
          "base_uri": "https://localhost:8080/"
        },
        "outputId": "592f03c1-2643-444a-895c-e7afc0c57cb3"
      },
      "source": [
        "start_time = time.time()\n",
        "\n",
        "model.fit(train_generator, \n",
        "          steps_per_epoch=25, \n",
        "          epochs=10, \n",
        "          validation_data=validation_generator, \n",
        "          validation_steps=5)\n",
        "\n",
        "print(f'RBF Runtime: {time.time() - start_time}')"
      ],
      "execution_count": 20,
      "outputs": [
        {
          "output_type": "stream",
          "text": [
            "Epoch 1/10\n",
            "25/25 [==============================] - 17s 672ms/step - loss: 0.5271 - accuracy: 0.7425 - val_loss: 0.5985 - val_accuracy: 0.6850\n",
            "Epoch 2/10\n",
            "25/25 [==============================] - 16s 656ms/step - loss: 0.4598 - accuracy: 0.7792 - val_loss: 0.6144 - val_accuracy: 0.7300\n",
            "Epoch 3/10\n",
            "25/25 [==============================] - 16s 652ms/step - loss: 0.4407 - accuracy: 0.8063 - val_loss: 0.6558 - val_accuracy: 0.7050\n",
            "Epoch 4/10\n",
            "25/25 [==============================] - 16s 654ms/step - loss: 0.4115 - accuracy: 0.8127 - val_loss: 0.6251 - val_accuracy: 0.7150\n",
            "Epoch 5/10\n",
            "25/25 [==============================] - 16s 646ms/step - loss: 0.3985 - accuracy: 0.8181 - val_loss: 0.6334 - val_accuracy: 0.6975\n",
            "Epoch 6/10\n",
            "25/25 [==============================] - 16s 650ms/step - loss: 0.3543 - accuracy: 0.8472 - val_loss: 0.5705 - val_accuracy: 0.7375\n",
            "Epoch 7/10\n",
            "25/25 [==============================] - 16s 649ms/step - loss: 0.3442 - accuracy: 0.8504 - val_loss: 0.5349 - val_accuracy: 0.7600\n",
            "Epoch 8/10\n",
            "25/25 [==============================] - 16s 651ms/step - loss: 0.3222 - accuracy: 0.8743 - val_loss: 0.6021 - val_accuracy: 0.7525\n",
            "Epoch 9/10\n",
            "25/25 [==============================] - 16s 647ms/step - loss: 0.2826 - accuracy: 0.8751 - val_loss: 0.7567 - val_accuracy: 0.7125\n",
            "Epoch 10/10\n",
            "25/25 [==============================] - 16s 649ms/step - loss: 0.2527 - accuracy: 0.8970 - val_loss: 0.6641 - val_accuracy: 0.7175\n",
            "RBF Runtime: 163.99967050552368\n"
          ],
          "name": "stdout"
        }
      ]
    },
    {
      "cell_type": "markdown",
      "metadata": {
        "id": "3mnxoNcRqxgr"
      },
      "source": [
        "The perfomance of the Adam optimizer exceeds the RMSprop optimizer. It had significantly lower loss and at least 10% more accuracy than the RMSprop.\n"
      ]
    },
    {
      "cell_type": "code",
      "metadata": {
        "id": "q55-XM2mq42V"
      },
      "source": [
        ""
      ],
      "execution_count": null,
      "outputs": []
    }
  ]
}