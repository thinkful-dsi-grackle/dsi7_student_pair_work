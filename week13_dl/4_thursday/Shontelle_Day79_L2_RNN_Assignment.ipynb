{
  "nbformat": 4,
  "nbformat_minor": 0,
  "metadata": {
    "kernelspec": {
      "display_name": "Python 3",
      "language": "python",
      "name": "python3"
    },
    "language_info": {
      "codemirror_mode": {
        "name": "ipython",
        "version": 3
      },
      "file_extension": ".py",
      "mimetype": "text/x-python",
      "name": "python",
      "nbconvert_exporter": "python",
      "pygments_lexer": "ipython3",
      "version": "3.7.0"
    },
    "colab": {
      "name": "Shontelle_Day79_L2_RNN_Assignment.ipynb",
      "provenance": [],
      "collapsed_sections": []
    }
  },
  "cells": [
    {
      "cell_type": "markdown",
      "metadata": {
        "id": "oQfS-31Jh-bL"
      },
      "source": [
        "## Recurrent Neural Networks\n",
        "\n",
        "In this assignment, we will learn about recurrent neural networks. We will create an RNN and learn to classify text data."
      ]
    },
    {
      "cell_type": "code",
      "metadata": {
        "id": "BOy993_Xh-bM"
      },
      "source": [
        "import warnings\n",
        "warnings.filterwarnings(\"ignore\")\n",
        "\n",
        "import numpy as np\n",
        "import pandas as pd"
      ],
      "execution_count": 1,
      "outputs": []
    },
    {
      "cell_type": "code",
      "metadata": {
        "colab": {
          "base_uri": "https://localhost:8080/"
        },
        "id": "I65tV0ASRgNX",
        "outputId": "04e0f052-28b1-4b54-938a-e58b40eebc5f"
      },
      "source": [
        "import nltk\n",
        "nltk.download('stopwords')"
      ],
      "execution_count": 2,
      "outputs": [
        {
          "output_type": "stream",
          "text": [
            "[nltk_data] Downloading package stopwords to /root/nltk_data...\n",
            "[nltk_data]   Unzipping corpora/stopwords.zip.\n"
          ],
          "name": "stdout"
        },
        {
          "output_type": "execute_result",
          "data": {
            "text/plain": [
              "True"
            ]
          },
          "metadata": {
            "tags": []
          },
          "execution_count": 2
        }
      ]
    },
    {
      "cell_type": "code",
      "metadata": {
        "id": "ToNRsZf5h-bP",
        "colab": {
          "base_uri": "https://localhost:8080/"
        },
        "outputId": "a0704d1f-6f35-4d0d-ee80-3922272b94d9"
      },
      "source": [
        "yelp = pd.read_csv('https://tf-assets-prod.s3.amazonaws.com/tf-curric/data-science/yelp_labeled.csv', error_bad_lines=False)"
      ],
      "execution_count": 3,
      "outputs": [
        {
          "output_type": "stream",
          "text": [
            "b'Skipping line 281: expected 2 fields, saw 3\\nSkipping line 290: expected 2 fields, saw 3\\nSkipping line 296: expected 2 fields, saw 3\\nSkipping line 322: expected 2 fields, saw 3\\nSkipping line 373: expected 2 fields, saw 3\\nSkipping line 417: expected 2 fields, saw 3\\nSkipping line 427: expected 2 fields, saw 3\\nSkipping line 429: expected 2 fields, saw 3\\nSkipping line 577: expected 2 fields, saw 3\\nSkipping line 578: expected 2 fields, saw 3\\nSkipping line 611: expected 2 fields, saw 3\\nSkipping line 677: expected 2 fields, saw 3\\nSkipping line 771: expected 2 fields, saw 3\\nSkipping line 930: expected 2 fields, saw 3\\nSkipping line 979: expected 2 fields, saw 4\\nSkipping line 980: expected 2 fields, saw 3\\n'\n"
          ],
          "name": "stderr"
        }
      ]
    },
    {
      "cell_type": "code",
      "metadata": {
        "id": "7fKQfObOh-bX",
        "colab": {
          "base_uri": "https://localhost:8080/",
          "height": 204
        },
        "outputId": "42fdfe28-7034-45f3-8511-20d0e038bbd0"
      },
      "source": [
        "yelp.head()"
      ],
      "execution_count": 4,
      "outputs": [
        {
          "output_type": "execute_result",
          "data": {
            "text/html": [
              "<div>\n",
              "<style scoped>\n",
              "    .dataframe tbody tr th:only-of-type {\n",
              "        vertical-align: middle;\n",
              "    }\n",
              "\n",
              "    .dataframe tbody tr th {\n",
              "        vertical-align: top;\n",
              "    }\n",
              "\n",
              "    .dataframe thead th {\n",
              "        text-align: right;\n",
              "    }\n",
              "</style>\n",
              "<table border=\"1\" class=\"dataframe\">\n",
              "  <thead>\n",
              "    <tr style=\"text-align: right;\">\n",
              "      <th></th>\n",
              "      <th>text</th>\n",
              "      <th>sentiment</th>\n",
              "    </tr>\n",
              "  </thead>\n",
              "  <tbody>\n",
              "    <tr>\n",
              "      <th>0</th>\n",
              "      <td>Wow... Loved this place.</td>\n",
              "      <td>1</td>\n",
              "    </tr>\n",
              "    <tr>\n",
              "      <th>1</th>\n",
              "      <td>Crust is not good.</td>\n",
              "      <td>0</td>\n",
              "    </tr>\n",
              "    <tr>\n",
              "      <th>2</th>\n",
              "      <td>Not tasty and the texture was just nasty.</td>\n",
              "      <td>0</td>\n",
              "    </tr>\n",
              "    <tr>\n",
              "      <th>3</th>\n",
              "      <td>Stopped by during the late May bank holiday of...</td>\n",
              "      <td>1</td>\n",
              "    </tr>\n",
              "    <tr>\n",
              "      <th>4</th>\n",
              "      <td>The selection on the menu was great and so wer...</td>\n",
              "      <td>1</td>\n",
              "    </tr>\n",
              "  </tbody>\n",
              "</table>\n",
              "</div>"
            ],
            "text/plain": [
              "                                                text  sentiment\n",
              "0                           Wow... Loved this place.          1\n",
              "1                                 Crust is not good.          0\n",
              "2          Not tasty and the texture was just nasty.          0\n",
              "3  Stopped by during the late May bank holiday of...          1\n",
              "4  The selection on the menu was great and so wer...          1"
            ]
          },
          "metadata": {
            "tags": []
          },
          "execution_count": 4
        }
      ]
    },
    {
      "cell_type": "code",
      "metadata": {
        "id": "yXyJFyo9h-bZ",
        "colab": {
          "base_uri": "https://localhost:8080/"
        },
        "outputId": "b066bd0d-bd17-4cc8-b9f6-fe30cf023c8b"
      },
      "source": [
        "yelp.sentiment.value_counts()\n",
        "#positive = 1\n",
        "#negative = 0"
      ],
      "execution_count": 5,
      "outputs": [
        {
          "output_type": "execute_result",
          "data": {
            "text/plain": [
              "1    494\n",
              "0    482\n",
              "Name: sentiment, dtype: int64"
            ]
          },
          "metadata": {
            "tags": []
          },
          "execution_count": 5
        }
      ]
    },
    {
      "cell_type": "markdown",
      "metadata": {
        "id": "bp0a4qU9h-bb"
      },
      "source": [
        "We have loaded a Yelp review dataset above. A positive sentiment is classified as 1 and a negative sentiment is classified as 0. "
      ]
    },
    {
      "cell_type": "code",
      "metadata": {
        "id": "Zyboex_Vh-bb"
      },
      "source": [
        "from nltk.corpus import stopwords\n",
        "import re\n",
        "from nltk.stem.porter import PorterStemmer\n",
        "\n",
        "stemmer = PorterStemmer()\n",
        "\n",
        "def remove_stopwords(input_text):\n",
        "        stopwords_list = stopwords.words('english')\n",
        "        # Some words which might indicate a certain sentiment are kept via a whitelist\n",
        "        whitelist = [\"n't\", \"not\", \"no\"]\n",
        "        words = input_text.split() \n",
        "        clean_words = [word for word in words if (word not in stopwords_list or word in whitelist) and len(word) > 1] \n",
        "        return \" \".join(clean_words)       \n",
        "\n",
        "def stem_list(word_list):\n",
        "    stemmed = []\n",
        "    for word in word_list:\n",
        "        stemmedword = stemmer.stem(word)\n",
        "        stemmed.append(stemmedword)\n",
        "    return stemmed\n",
        "\n",
        "def normalize(terms):\n",
        "    terms = terms.lower()\n",
        "    terms = remove_stopwords(terms)\n",
        "    word_delimiters = u'[\\\\[\\\\]\\n.!?,;:\\t\\\\-\\\\\"\\\\(\\\\)\\\\\\'\\u2019\\u2013 ]'\n",
        "    term_list = re.split(word_delimiters, terms)\n",
        "    trimmed = [x.rstrip() for x in term_list]\n",
        "    stemmed = stem_list(trimmed)\n",
        "    space = ' '\n",
        "    normed = space.join(stemmed)\n",
        "    normed = normed.replace('  ', ' ')\n",
        "    return normed"
      ],
      "execution_count": 6,
      "outputs": []
    },
    {
      "cell_type": "markdown",
      "metadata": {
        "id": "CsuGlOW8h-bd"
      },
      "source": [
        "In the code block above, we have functions to remove stopwords, stem, and normalize the text (remove special characters and trim white space). Apply the normalize function to every yelp review and assign the normalized text to a new column."
      ]
    },
    {
      "cell_type": "code",
      "metadata": {
        "colab": {
          "base_uri": "https://localhost:8080/",
          "height": 35
        },
        "id": "jCR-ezI7RMyF",
        "outputId": "5ed4ed6a-1e44-46a2-96f0-def098ed8d9f"
      },
      "source": [
        "list(yelp.text)[0]"
      ],
      "execution_count": 7,
      "outputs": [
        {
          "output_type": "execute_result",
          "data": {
            "application/vnd.google.colaboratory.intrinsic+json": {
              "type": "string"
            },
            "text/plain": [
              "'Wow... Loved this place.'"
            ]
          },
          "metadata": {
            "tags": []
          },
          "execution_count": 7
        }
      ]
    },
    {
      "cell_type": "code",
      "metadata": {
        "id": "BDWbek-Yh-be",
        "colab": {
          "base_uri": "https://localhost:8080/",
          "height": 204
        },
        "outputId": "701a2b39-e41e-4563-d126-975e206e83b9"
      },
      "source": [
        "# Answer below:\n",
        "yelp['text_norm'] = yelp.text.apply(lambda x: normalize(x))\n",
        "yelp.head()\n",
        "\n",
        "#yelp.text.apply(normalize)"
      ],
      "execution_count": 8,
      "outputs": [
        {
          "output_type": "execute_result",
          "data": {
            "text/html": [
              "<div>\n",
              "<style scoped>\n",
              "    .dataframe tbody tr th:only-of-type {\n",
              "        vertical-align: middle;\n",
              "    }\n",
              "\n",
              "    .dataframe tbody tr th {\n",
              "        vertical-align: top;\n",
              "    }\n",
              "\n",
              "    .dataframe thead th {\n",
              "        text-align: right;\n",
              "    }\n",
              "</style>\n",
              "<table border=\"1\" class=\"dataframe\">\n",
              "  <thead>\n",
              "    <tr style=\"text-align: right;\">\n",
              "      <th></th>\n",
              "      <th>text</th>\n",
              "      <th>sentiment</th>\n",
              "      <th>text_norm</th>\n",
              "    </tr>\n",
              "  </thead>\n",
              "  <tbody>\n",
              "    <tr>\n",
              "      <th>0</th>\n",
              "      <td>Wow... Loved this place.</td>\n",
              "      <td>1</td>\n",
              "      <td>wow  love place</td>\n",
              "    </tr>\n",
              "    <tr>\n",
              "      <th>1</th>\n",
              "      <td>Crust is not good.</td>\n",
              "      <td>0</td>\n",
              "      <td>crust not good</td>\n",
              "    </tr>\n",
              "    <tr>\n",
              "      <th>2</th>\n",
              "      <td>Not tasty and the texture was just nasty.</td>\n",
              "      <td>0</td>\n",
              "      <td>not tasti textur nasti</td>\n",
              "    </tr>\n",
              "    <tr>\n",
              "      <th>3</th>\n",
              "      <td>Stopped by during the late May bank holiday of...</td>\n",
              "      <td>1</td>\n",
              "      <td>stop late may bank holiday rick steve recommen...</td>\n",
              "    </tr>\n",
              "    <tr>\n",
              "      <th>4</th>\n",
              "      <td>The selection on the menu was great and so wer...</td>\n",
              "      <td>1</td>\n",
              "      <td>select menu great price</td>\n",
              "    </tr>\n",
              "  </tbody>\n",
              "</table>\n",
              "</div>"
            ],
            "text/plain": [
              "                                                text  ...                                          text_norm\n",
              "0                           Wow... Loved this place.  ...                                   wow  love place \n",
              "1                                 Crust is not good.  ...                                    crust not good \n",
              "2          Not tasty and the texture was just nasty.  ...                            not tasti textur nasti \n",
              "3  Stopped by during the late May bank holiday of...  ...  stop late may bank holiday rick steve recommen...\n",
              "4  The selection on the menu was great and so wer...  ...                           select menu great price \n",
              "\n",
              "[5 rows x 3 columns]"
            ]
          },
          "metadata": {
            "tags": []
          },
          "execution_count": 8
        }
      ]
    },
    {
      "cell_type": "markdown",
      "metadata": {
        "id": "tywlufjyh-bf"
      },
      "source": [
        "Next, use the one hot function for text encoding and encode the normalized text. Determine the vocabulary size to perform the encoding."
      ]
    },
    {
      "cell_type": "code",
      "metadata": {
        "id": "NWKnOSd_h-bg",
        "colab": {
          "base_uri": "https://localhost:8080/"
        },
        "outputId": "1142ae67-bbbf-4d06-f856-67f5ce4ea283"
      },
      "source": [
        "# Answer below:\n",
        "from tensorflow.keras.preprocessing.text import one_hot\n",
        "\n",
        "vocab_size = len(set(yelp['text_norm'].apply(lambda x: x.strip().split(' ')).sum())) \n",
        "vocab_size\n",
        "#splitting individ words, putting into list then one long list then counting how many unique words"
      ],
      "execution_count": 9,
      "outputs": [
        {
          "output_type": "execute_result",
          "data": {
            "text/plain": [
              "1629"
            ]
          },
          "metadata": {
            "tags": []
          },
          "execution_count": 9
        }
      ]
    },
    {
      "cell_type": "code",
      "metadata": {
        "id": "TJBD_PQAkH2S"
      },
      "source": [
        "#len(set(yelp['text_norm'].sum().split(' ')))\n",
        "#different approach to above be aware there's different amount"
      ],
      "execution_count": null,
      "outputs": []
    },
    {
      "cell_type": "code",
      "metadata": {
        "colab": {
          "base_uri": "https://localhost:8080/",
          "height": 238
        },
        "id": "YcUfiCTKkpWI",
        "outputId": "413b635e-916a-41ae-f10f-c556e27b2779"
      },
      "source": [
        "yelp['encoded'] = yelp['text_norm'].apply(one_hot, args=[vocab_size])\n",
        "yelp.head()"
      ],
      "execution_count": 10,
      "outputs": [
        {
          "output_type": "execute_result",
          "data": {
            "text/html": [
              "<div>\n",
              "<style scoped>\n",
              "    .dataframe tbody tr th:only-of-type {\n",
              "        vertical-align: middle;\n",
              "    }\n",
              "\n",
              "    .dataframe tbody tr th {\n",
              "        vertical-align: top;\n",
              "    }\n",
              "\n",
              "    .dataframe thead th {\n",
              "        text-align: right;\n",
              "    }\n",
              "</style>\n",
              "<table border=\"1\" class=\"dataframe\">\n",
              "  <thead>\n",
              "    <tr style=\"text-align: right;\">\n",
              "      <th></th>\n",
              "      <th>text</th>\n",
              "      <th>sentiment</th>\n",
              "      <th>text_norm</th>\n",
              "      <th>encoded</th>\n",
              "    </tr>\n",
              "  </thead>\n",
              "  <tbody>\n",
              "    <tr>\n",
              "      <th>0</th>\n",
              "      <td>Wow... Loved this place.</td>\n",
              "      <td>1</td>\n",
              "      <td>wow  love place</td>\n",
              "      <td>[1015, 828, 930]</td>\n",
              "    </tr>\n",
              "    <tr>\n",
              "      <th>1</th>\n",
              "      <td>Crust is not good.</td>\n",
              "      <td>0</td>\n",
              "      <td>crust not good</td>\n",
              "      <td>[747, 15, 520]</td>\n",
              "    </tr>\n",
              "    <tr>\n",
              "      <th>2</th>\n",
              "      <td>Not tasty and the texture was just nasty.</td>\n",
              "      <td>0</td>\n",
              "      <td>not tasti textur nasti</td>\n",
              "      <td>[15, 135, 1258, 1551]</td>\n",
              "    </tr>\n",
              "    <tr>\n",
              "      <th>3</th>\n",
              "      <td>Stopped by during the late May bank holiday of...</td>\n",
              "      <td>1</td>\n",
              "      <td>stop late may bank holiday rick steve recommen...</td>\n",
              "      <td>[610, 1047, 902, 656, 1163, 387, 192, 42, 828,...</td>\n",
              "    </tr>\n",
              "    <tr>\n",
              "      <th>4</th>\n",
              "      <td>The selection on the menu was great and so wer...</td>\n",
              "      <td>1</td>\n",
              "      <td>select menu great price</td>\n",
              "      <td>[1174, 583, 853, 1340]</td>\n",
              "    </tr>\n",
              "  </tbody>\n",
              "</table>\n",
              "</div>"
            ],
            "text/plain": [
              "                                                text  ...                                            encoded\n",
              "0                           Wow... Loved this place.  ...                                   [1015, 828, 930]\n",
              "1                                 Crust is not good.  ...                                     [747, 15, 520]\n",
              "2          Not tasty and the texture was just nasty.  ...                              [15, 135, 1258, 1551]\n",
              "3  Stopped by during the late May bank holiday of...  ...  [610, 1047, 902, 656, 1163, 387, 192, 42, 828,...\n",
              "4  The selection on the menu was great and so wer...  ...                             [1174, 583, 853, 1340]\n",
              "\n",
              "[5 rows x 4 columns]"
            ]
          },
          "metadata": {
            "tags": []
          },
          "execution_count": 10
        }
      ]
    },
    {
      "cell_type": "markdown",
      "metadata": {
        "id": "FnRMy2S0h-bh"
      },
      "source": [
        "Convert the encoded sequences into a numpy array and make sure all reviews are the same length using the `pad_sequences` function in Keras."
      ]
    },
    {
      "cell_type": "code",
      "metadata": {
        "id": "pk24Behch-bi",
        "colab": {
          "base_uri": "https://localhost:8080/"
        },
        "outputId": "324e48b9-8fae-4c28-a96d-acff3963b702"
      },
      "source": [
        "# Answer below:\n",
        "from tensorflow.keras.preprocessing.sequence import pad_sequences\n",
        "\n",
        "indep_vars = pad_sequences(yelp['encoded'])\n",
        "indep_vars"
      ],
      "execution_count": 12,
      "outputs": [
        {
          "output_type": "execute_result",
          "data": {
            "text/plain": [
              "array([[   0,    0,    0, ..., 1015,  828,  930],\n",
              "       [   0,    0,    0, ...,  747,   15,  520],\n",
              "       [   0,    0,    0, ...,  135, 1258, 1551],\n",
              "       ...,\n",
              "       [   0,    0,    0, ...,   15, 1341,  963],\n",
              "       [   0,    0,    0, ..., 1587,  893,  914],\n",
              "       [   0,    0,    0, ..., 1203, 1003,  660]], dtype=int32)"
            ]
          },
          "metadata": {
            "tags": []
          },
          "execution_count": 12
        }
      ]
    },
    {
      "cell_type": "code",
      "metadata": {
        "colab": {
          "base_uri": "https://localhost:8080/"
        },
        "id": "VQy1ObLOmGZk",
        "outputId": "c3918169-027c-41ee-c76b-b881457b2be8"
      },
      "source": [
        "indep_vars.shape"
      ],
      "execution_count": 13,
      "outputs": [
        {
          "output_type": "execute_result",
          "data": {
            "text/plain": [
              "(976, 83)"
            ]
          },
          "metadata": {
            "tags": []
          },
          "execution_count": 13
        }
      ]
    },
    {
      "cell_type": "markdown",
      "metadata": {
        "id": "XIclszsJh-bj"
      },
      "source": [
        "Split the data into train and test. Use 20% for test. The sentiment column should be used as the target variable."
      ]
    },
    {
      "cell_type": "code",
      "metadata": {
        "id": "zlaZSo-Yh-bk"
      },
      "source": [
        "# Answer below:\n",
        "from sklearn.model_selection import train_test_split\n",
        "\n",
        "target = yelp['sentiment']\n",
        "\n",
        "X_train, X_test, y_train, y_test = train_test_split(indep_vars, target, test_size=0.2, random_state=42)"
      ],
      "execution_count": 14,
      "outputs": []
    },
    {
      "cell_type": "markdown",
      "metadata": {
        "id": "EAsqg_REh-bm"
      },
      "source": [
        "Create a sequential model. The model should contain an embedding layer with input dim that is the size of the largest encoding in the vocabulary. The output dim should be 100, the input length is the number of columns in the training data. \n",
        "After the embedding layer, add a SimpleRNN layer with unit size 32, a dense layer of size 8 and a dense output layer."
      ]
    },
    {
      "cell_type": "code",
      "metadata": {
        "id": "ssougKQUh-bm",
        "colab": {
          "base_uri": "https://localhost:8080/"
        },
        "outputId": "7fb411f5-d49a-438c-8f93-5c7f558b6593"
      },
      "source": [
        "# Answer below:\n",
        "from tensorflow.keras.models import Sequential\n",
        "from tensorflow.keras.layers import Dense, Embedding, SimpleRNN\n",
        "\n",
        "max_words = np.max(X_train) + 1\n",
        "\n",
        "model = Sequential()\n",
        "model.add(Embedding(max_words, 100, input_length=X_train.shape[1]))\n",
        "model.add(SimpleRNN(32))\n",
        "model.add(Dense(8, activation='relu'))\n",
        "model.add(Dense(1, activation='sigmoid'))\n",
        "\n",
        "model.summary()"
      ],
      "execution_count": 17,
      "outputs": [
        {
          "output_type": "stream",
          "text": [
            "Model: \"sequential\"\n",
            "_________________________________________________________________\n",
            "Layer (type)                 Output Shape              Param #   \n",
            "=================================================================\n",
            "embedding (Embedding)        (None, 83, 100)           162800    \n",
            "_________________________________________________________________\n",
            "simple_rnn (SimpleRNN)       (None, 32)                4256      \n",
            "_________________________________________________________________\n",
            "dense (Dense)                (None, 8)                 264       \n",
            "_________________________________________________________________\n",
            "dense_1 (Dense)              (None, 1)                 9         \n",
            "=================================================================\n",
            "Total params: 167,329\n",
            "Trainable params: 167,329\n",
            "Non-trainable params: 0\n",
            "_________________________________________________________________\n"
          ],
          "name": "stdout"
        }
      ]
    },
    {
      "cell_type": "markdown",
      "metadata": {
        "id": "tjgqWnioh-bo"
      },
      "source": [
        "Compile using the optimizer of your choice, use crossentropy for your loss function. Fit the model using a batch size of 128 and 50 epochs"
      ]
    },
    {
      "cell_type": "code",
      "metadata": {
        "id": "ewNbf3fKh-bo",
        "colab": {
          "base_uri": "https://localhost:8080/"
        },
        "outputId": "be4b99e3-117b-4949-9771-02e70f9cd09b"
      },
      "source": [
        "# Answer below:\n",
        "model.compile(loss='binary_crossentropy', optimizer='adam', metrics=['accuracy'])\n",
        "\n",
        "#fitting\n",
        "model.fit(X_train, y_train,\n",
        "          validation_data=(X_test, y_test), \n",
        "          batch_size=128,\n",
        "          epochs=50)"
      ],
      "execution_count": 19,
      "outputs": [
        {
          "output_type": "stream",
          "text": [
            "Epoch 1/50\n",
            "7/7 [==============================] - 2s 71ms/step - loss: 0.6929 - accuracy: 0.4980 - val_loss: 0.6910 - val_accuracy: 0.5510\n",
            "Epoch 2/50\n",
            "7/7 [==============================] - 0s 33ms/step - loss: 0.6669 - accuracy: 0.7305 - val_loss: 0.6901 - val_accuracy: 0.5204\n",
            "Epoch 3/50\n",
            "7/7 [==============================] - 0s 36ms/step - loss: 0.6409 - accuracy: 0.8363 - val_loss: 0.6859 - val_accuracy: 0.5408\n",
            "Epoch 4/50\n",
            "7/7 [==============================] - 0s 33ms/step - loss: 0.6074 - accuracy: 0.8864 - val_loss: 0.6814 - val_accuracy: 0.5714\n",
            "Epoch 5/50\n",
            "7/7 [==============================] - 0s 33ms/step - loss: 0.5564 - accuracy: 0.8880 - val_loss: 0.6770 - val_accuracy: 0.5816\n",
            "Epoch 6/50\n",
            "7/7 [==============================] - 0s 32ms/step - loss: 0.4880 - accuracy: 0.9120 - val_loss: 0.6823 - val_accuracy: 0.5561\n",
            "Epoch 7/50\n",
            "7/7 [==============================] - 0s 34ms/step - loss: 0.4413 - accuracy: 0.8696 - val_loss: 0.6674 - val_accuracy: 0.6020\n",
            "Epoch 8/50\n",
            "7/7 [==============================] - 0s 33ms/step - loss: 0.3742 - accuracy: 0.9419 - val_loss: 0.6735 - val_accuracy: 0.5918\n",
            "Epoch 9/50\n",
            "7/7 [==============================] - 0s 32ms/step - loss: 0.3202 - accuracy: 0.9378 - val_loss: 0.6836 - val_accuracy: 0.6173\n",
            "Epoch 10/50\n",
            "7/7 [==============================] - 0s 32ms/step - loss: 0.2720 - accuracy: 0.9761 - val_loss: 0.6851 - val_accuracy: 0.6020\n",
            "Epoch 11/50\n",
            "7/7 [==============================] - 0s 22ms/step - loss: 0.2204 - accuracy: 0.9835 - val_loss: 0.7011 - val_accuracy: 0.6173\n",
            "Epoch 12/50\n",
            "7/7 [==============================] - 0s 52ms/step - loss: 0.1809 - accuracy: 0.9716 - val_loss: 0.7140 - val_accuracy: 0.6378\n",
            "Epoch 13/50\n",
            "7/7 [==============================] - 0s 35ms/step - loss: 0.1496 - accuracy: 0.9913 - val_loss: 0.7179 - val_accuracy: 0.6071\n",
            "Epoch 14/50\n",
            "7/7 [==============================] - 0s 32ms/step - loss: 0.1198 - accuracy: 0.9899 - val_loss: 0.7367 - val_accuracy: 0.6071\n",
            "Epoch 15/50\n",
            "7/7 [==============================] - 0s 32ms/step - loss: 0.1025 - accuracy: 0.9906 - val_loss: 0.7526 - val_accuracy: 0.6071\n",
            "Epoch 16/50\n",
            "7/7 [==============================] - 0s 31ms/step - loss: 0.0826 - accuracy: 0.9927 - val_loss: 0.7670 - val_accuracy: 0.6020\n",
            "Epoch 17/50\n",
            "7/7 [==============================] - 0s 33ms/step - loss: 0.0651 - accuracy: 0.9991 - val_loss: 0.7789 - val_accuracy: 0.6276\n",
            "Epoch 18/50\n",
            "7/7 [==============================] - 0s 33ms/step - loss: 0.0620 - accuracy: 0.9956 - val_loss: 0.7831 - val_accuracy: 0.6224\n",
            "Epoch 19/50\n",
            "7/7 [==============================] - 0s 36ms/step - loss: 0.0504 - accuracy: 0.9983 - val_loss: 0.7992 - val_accuracy: 0.6327\n",
            "Epoch 20/50\n",
            "7/7 [==============================] - 0s 32ms/step - loss: 0.0422 - accuracy: 0.9988 - val_loss: 0.8059 - val_accuracy: 0.6480\n",
            "Epoch 21/50\n",
            "7/7 [==============================] - 0s 32ms/step - loss: 0.0346 - accuracy: 0.9997 - val_loss: 0.8036 - val_accuracy: 0.6531\n",
            "Epoch 22/50\n",
            "7/7 [==============================] - 0s 33ms/step - loss: 0.0350 - accuracy: 0.9973 - val_loss: 0.7958 - val_accuracy: 0.6378\n",
            "Epoch 23/50\n",
            "7/7 [==============================] - 0s 31ms/step - loss: 0.0423 - accuracy: 0.9973 - val_loss: 0.8351 - val_accuracy: 0.6480\n",
            "Epoch 24/50\n",
            "7/7 [==============================] - 0s 33ms/step - loss: 0.0283 - accuracy: 0.9973 - val_loss: 0.8306 - val_accuracy: 0.6480\n",
            "Epoch 25/50\n",
            "7/7 [==============================] - 0s 33ms/step - loss: 0.0240 - accuracy: 0.9973 - val_loss: 0.8681 - val_accuracy: 0.6531\n",
            "Epoch 26/50\n",
            "7/7 [==============================] - 0s 33ms/step - loss: 0.0213 - accuracy: 0.9993 - val_loss: 0.8818 - val_accuracy: 0.6633\n",
            "Epoch 27/50\n",
            "7/7 [==============================] - 0s 31ms/step - loss: 0.0184 - accuracy: 0.9991 - val_loss: 0.8893 - val_accuracy: 0.6429\n",
            "Epoch 28/50\n",
            "7/7 [==============================] - 0s 32ms/step - loss: 0.0191 - accuracy: 0.9973 - val_loss: 0.8953 - val_accuracy: 0.6531\n",
            "Epoch 29/50\n",
            "7/7 [==============================] - 0s 34ms/step - loss: 0.0155 - accuracy: 0.9982 - val_loss: 0.9128 - val_accuracy: 0.6531\n",
            "Epoch 30/50\n",
            "7/7 [==============================] - 0s 32ms/step - loss: 0.0126 - accuracy: 0.9993 - val_loss: 0.9150 - val_accuracy: 0.6582\n",
            "Epoch 31/50\n",
            "7/7 [==============================] - 0s 32ms/step - loss: 0.0122 - accuracy: 0.9991 - val_loss: 0.9322 - val_accuracy: 0.6480\n",
            "Epoch 32/50\n",
            "7/7 [==============================] - 0s 32ms/step - loss: 0.0123 - accuracy: 0.9988 - val_loss: 0.9462 - val_accuracy: 0.6378\n",
            "Epoch 33/50\n",
            "7/7 [==============================] - 0s 32ms/step - loss: 0.0114 - accuracy: 0.9995 - val_loss: 0.9544 - val_accuracy: 0.6429\n",
            "Epoch 34/50\n",
            "7/7 [==============================] - 0s 34ms/step - loss: 0.0128 - accuracy: 0.9973 - val_loss: 0.9625 - val_accuracy: 0.6429\n",
            "Epoch 35/50\n",
            "7/7 [==============================] - 0s 32ms/step - loss: 0.0091 - accuracy: 0.9993 - val_loss: 0.9701 - val_accuracy: 0.6429\n",
            "Epoch 36/50\n",
            "7/7 [==============================] - 0s 33ms/step - loss: 0.0098 - accuracy: 0.9983 - val_loss: 0.9809 - val_accuracy: 0.6480\n",
            "Epoch 37/50\n",
            "7/7 [==============================] - 0s 32ms/step - loss: 0.0104 - accuracy: 0.9991 - val_loss: 0.9868 - val_accuracy: 0.6531\n",
            "Epoch 38/50\n",
            "7/7 [==============================] - 0s 34ms/step - loss: 0.0074 - accuracy: 0.9993 - val_loss: 0.9952 - val_accuracy: 0.6480\n",
            "Epoch 39/50\n",
            "7/7 [==============================] - 0s 33ms/step - loss: 0.0073 - accuracy: 0.9995 - val_loss: 1.0039 - val_accuracy: 0.6429\n",
            "Epoch 40/50\n",
            "7/7 [==============================] - 0s 32ms/step - loss: 0.0089 - accuracy: 0.9983 - val_loss: 1.0068 - val_accuracy: 0.6480\n",
            "Epoch 41/50\n",
            "7/7 [==============================] - 0s 34ms/step - loss: 0.0094 - accuracy: 0.9983 - val_loss: 1.0114 - val_accuracy: 0.6531\n",
            "Epoch 42/50\n",
            "7/7 [==============================] - 0s 32ms/step - loss: 0.0065 - accuracy: 0.9993 - val_loss: 1.0219 - val_accuracy: 0.6480\n",
            "Epoch 43/50\n",
            "7/7 [==============================] - 0s 32ms/step - loss: 0.0057 - accuracy: 0.9993 - val_loss: 1.0294 - val_accuracy: 0.6480\n",
            "Epoch 44/50\n",
            "7/7 [==============================] - 0s 32ms/step - loss: 0.0082 - accuracy: 0.9988 - val_loss: 1.0227 - val_accuracy: 0.6378\n",
            "Epoch 45/50\n",
            "7/7 [==============================] - 0s 57ms/step - loss: 0.0055 - accuracy: 0.9997 - val_loss: 1.0238 - val_accuracy: 0.6429\n",
            "Epoch 46/50\n",
            "7/7 [==============================] - 0s 31ms/step - loss: 0.0058 - accuracy: 0.9995 - val_loss: 1.0838 - val_accuracy: 0.6327\n",
            "Epoch 47/50\n",
            "7/7 [==============================] - 0s 32ms/step - loss: 0.0086 - accuracy: 0.9956 - val_loss: 1.0902 - val_accuracy: 0.6276\n",
            "Epoch 48/50\n",
            "7/7 [==============================] - 0s 32ms/step - loss: 0.0103 - accuracy: 0.9968 - val_loss: 1.0781 - val_accuracy: 0.6378\n",
            "Epoch 49/50\n",
            "7/7 [==============================] - 0s 33ms/step - loss: 0.0064 - accuracy: 0.9978 - val_loss: 1.0854 - val_accuracy: 0.6429\n",
            "Epoch 50/50\n",
            "7/7 [==============================] - 0s 30ms/step - loss: 0.0056 - accuracy: 0.9983 - val_loss: 1.0882 - val_accuracy: 0.6480\n"
          ],
          "name": "stdout"
        },
        {
          "output_type": "execute_result",
          "data": {
            "text/plain": [
              "<tensorflow.python.keras.callbacks.History at 0x7f205c168470>"
            ]
          },
          "metadata": {
            "tags": []
          },
          "execution_count": 19
        }
      ]
    },
    {
      "cell_type": "code",
      "metadata": {
        "id": "jk88z8R8h-bq",
        "colab": {
          "base_uri": "https://localhost:8080/"
        },
        "outputId": "1f735ded-6f6a-4c96-d5c6-1e01dafc344a"
      },
      "source": [
        "model.evaluate(X_test, y_test)"
      ],
      "execution_count": 20,
      "outputs": [
        {
          "output_type": "stream",
          "text": [
            "7/7 [==============================] - 0s 5ms/step - loss: 1.0882 - accuracy: 0.6480\n"
          ],
          "name": "stdout"
        },
        {
          "output_type": "execute_result",
          "data": {
            "text/plain": [
              "[1.088241696357727, 0.6479591727256775]"
            ]
          },
          "metadata": {
            "tags": []
          },
          "execution_count": 20
        }
      ]
    },
    {
      "cell_type": "code",
      "metadata": {
        "id": "Aay6F99VgS0f"
      },
      "source": [
        ""
      ],
      "execution_count": null,
      "outputs": []
    }
  ]
}