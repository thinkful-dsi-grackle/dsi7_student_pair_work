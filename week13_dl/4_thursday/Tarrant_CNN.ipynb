{
  "nbformat": 4,
  "nbformat_minor": 0,
  "metadata": {
    "kernelspec": {
      "display_name": "Python 3",
      "language": "python",
      "name": "python3"
    },
    "language_info": {
      "codemirror_mode": {
        "name": "ipython",
        "version": 3
      },
      "file_extension": ".py",
      "mimetype": "text/x-python",
      "name": "python",
      "nbconvert_exporter": "python",
      "pygments_lexer": "ipython3",
      "version": "3.7.0"
    },
    "colab": {
      "name": "Tarrant_CNN.ipynb",
      "provenance": [],
      "collapsed_sections": []
    },
    "accelerator": "GPU"
  },
  "cells": [
    {
      "cell_type": "markdown",
      "metadata": {
        "id": "DuT0K8LDKm45"
      },
      "source": [
        "## Convolutional Neural Networks\n",
        "\n",
        "In this assignment, we will learn about convolutional neural networks. We will create a CNN and learn to classify image data."
      ]
    },
    {
      "cell_type": "markdown",
      "metadata": {
        "id": "tMD7Nr8hKm47"
      },
      "source": [
        "In this lecture, we will use the image data generator to classify our data. The data is loaded below:"
      ]
    },
    {
      "cell_type": "code",
      "metadata": {
        "id": "6swIc-rGKm47"
      },
      "source": [
        "import numpy as np\n",
        "import pandas as pd\n",
        "\n",
        "from tensorflow.keras.preprocessing.image import ImageDataGenerator\n",
        "from tensorflow.keras.models import Sequential\n",
        "from tensorflow.keras.layers import Conv2D, MaxPooling2D\n",
        "from tensorflow.keras.layers import Activation, Dropout, Flatten, Dense, BatchNormalization \n",
        "from tensorflow.keras import backend as K\n",
        "from tensorflow.keras.models import Model\n",
        "import tensorflow as tf"
      ],
      "execution_count": 1,
      "outputs": []
    },
    {
      "cell_type": "code",
      "metadata": {
        "colab": {
          "base_uri": "https://localhost:8080/",
          "height": 35
        },
        "id": "q0nszh6B451r",
        "outputId": "94d24723-9e8e-4448-9605-8124b1af6938"
      },
      "source": [
        "tf.test.gpu_device_name()"
      ],
      "execution_count": 2,
      "outputs": [
        {
          "output_type": "execute_result",
          "data": {
            "application/vnd.google.colaboratory.intrinsic+json": {
              "type": "string"
            },
            "text/plain": [
              "'/device:GPU:0'"
            ]
          },
          "metadata": {
            "tags": []
          },
          "execution_count": 2
        }
      ]
    },
    {
      "cell_type": "code",
      "metadata": {
        "colab": {
          "base_uri": "https://localhost:8080/"
        },
        "id": "aut9zZGxhy_y",
        "outputId": "c452f643-0d5f-4bbf-9e48-5f13a16573bb"
      },
      "source": [
        "from google.colab import drive\n",
        "drive.mount('/content/drive')"
      ],
      "execution_count": 3,
      "outputs": [
        {
          "output_type": "stream",
          "text": [
            "Drive already mounted at /content/drive; to attempt to forcibly remount, call drive.mount(\"/content/drive\", force_remount=True).\n"
          ],
          "name": "stdout"
        }
      ]
    },
    {
      "cell_type": "code",
      "metadata": {
        "id": "WxuDmAQlKm4-"
      },
      "source": [
        "train_data_dir = '/content/drive/MyDrive/dogs-vs-cats-processed.zip (Unzipped Files)/dogs-vs-cats-processed/train'\n",
        "validation_data_dir = '/content/drive/MyDrive/dogs-vs-cats-processed.zip (Unzipped Files)/dogs-vs-cats-processed/test'\n",
        "\n",
        "img_width, img_height = 150, 150\n",
        "batch_size = 80"
      ],
      "execution_count": 4,
      "outputs": []
    },
    {
      "cell_type": "code",
      "metadata": {
        "id": "SCfRV8VGKm5A"
      },
      "source": [
        "#This block of code is used to ensure the input shape is correct\n",
        "\n",
        "if K.image_data_format() == 'channels_first':\n",
        "    input_shape = (3, img_width, img_height)\n",
        "else:\n",
        "    input_shape = (img_width, img_height, 3)"
      ],
      "execution_count": 5,
      "outputs": []
    },
    {
      "cell_type": "markdown",
      "metadata": {
        "id": "T4x9el54Km5C"
      },
      "source": [
        "Define a train data generator with shear range of 0.3, zoom range of 0.1 and rescale to 1./255 (note that we must make 1 a float to produce a correct fraction). Use the ImageDataGenerator function."
      ]
    },
    {
      "cell_type": "code",
      "metadata": {
        "id": "EfKBxGZpKm5D"
      },
      "source": [
        "# make training data generator\n",
        "train_datagen = ImageDataGenerator(rescale=1./255,shear_range=.3,zoom_range=.1)\n"
      ],
      "execution_count": 6,
      "outputs": []
    },
    {
      "cell_type": "markdown",
      "metadata": {
        "id": "5oQJZOxNKm5E"
      },
      "source": [
        "Define a test data generator that only rescales to 1./255. Use the ImageDataGenerator function."
      ]
    },
    {
      "cell_type": "code",
      "metadata": {
        "id": "_U3XQZVLKm5F"
      },
      "source": [
        "# make test data generator\n",
        "test_datagen = ImageDataGenerator(rescale=1. / 255)\n"
      ],
      "execution_count": 7,
      "outputs": []
    },
    {
      "cell_type": "markdown",
      "metadata": {
        "id": "S0NCOxrCKm5G"
      },
      "source": [
        "The train generator and the test generator are defined below:"
      ]
    },
    {
      "cell_type": "code",
      "metadata": {
        "id": "zDgonF6uKm5H",
        "colab": {
          "base_uri": "https://localhost:8080/"
        },
        "outputId": "b3efdf4a-736a-4e6b-a40c-55893c793923"
      },
      "source": [
        "train_generator = train_datagen.flow_from_directory(\n",
        "    train_data_dir,\n",
        "    target_size=(img_width, img_height),\n",
        "    batch_size=batch_size,\n",
        "    class_mode='binary')\n",
        "\n",
        "validation_generator = test_datagen.flow_from_directory(\n",
        "    validation_data_dir,\n",
        "    target_size=(img_width, img_height),\n",
        "    batch_size=batch_size,\n",
        "    #shuffle=False,\n",
        "    class_mode='binary')"
      ],
      "execution_count": 8,
      "outputs": [
        {
          "output_type": "stream",
          "text": [
            "Found 2000 images belonging to 2 classes.\n",
            "Found 802 images belonging to 2 classes.\n"
          ],
          "name": "stdout"
        }
      ]
    },
    {
      "cell_type": "markdown",
      "metadata": {
        "id": "0lq09r31Km5K"
      },
      "source": [
        "We'll start with a simple model. In CNNs, we first convolve the to extract features and then we add the dense layers. \n",
        "\n",
        "Create a model with one layer of convolution of size 64, one layer of activation, one layer of max pooling with pool size (2,2) and then one flattening layer, one dense layer of unit size 64 with a ReLU activation and one dense output layer. The output layer should have a sigmoid activation."
      ]
    },
    {
      "cell_type": "code",
      "metadata": {
        "id": "IJqkMx3tKm5K"
      },
      "source": [
        "# make cnn model\n",
        "model = Sequential()\n",
        "model.add(Conv2D(64, (3,3), input_shape=input_shape))\n",
        "model.add(Activation('relu'))\n",
        "model.add(MaxPooling2D(pool_size=(2,2)))\n",
        "\n",
        "model.add(Flatten())\n",
        "model.add(Dense(64))\n",
        "model.add(Activation('relu'))\n",
        "model.add(Dense(1))\n",
        "model.add(Activation('sigmoid'))\n"
      ],
      "execution_count": 9,
      "outputs": []
    },
    {
      "cell_type": "code",
      "metadata": {
        "colab": {
          "base_uri": "https://localhost:8080/"
        },
        "id": "VyHH1-39wOtd",
        "outputId": "67b29dd1-bb57-41f5-baa6-a723043018ae"
      },
      "source": [
        "model.summary()"
      ],
      "execution_count": 10,
      "outputs": [
        {
          "output_type": "stream",
          "text": [
            "Model: \"sequential\"\n",
            "_________________________________________________________________\n",
            "Layer (type)                 Output Shape              Param #   \n",
            "=================================================================\n",
            "conv2d (Conv2D)              (None, 148, 148, 64)      1792      \n",
            "_________________________________________________________________\n",
            "activation (Activation)      (None, 148, 148, 64)      0         \n",
            "_________________________________________________________________\n",
            "max_pooling2d (MaxPooling2D) (None, 74, 74, 64)        0         \n",
            "_________________________________________________________________\n",
            "flatten (Flatten)            (None, 350464)            0         \n",
            "_________________________________________________________________\n",
            "dense (Dense)                (None, 64)                22429760  \n",
            "_________________________________________________________________\n",
            "activation_1 (Activation)    (None, 64)                0         \n",
            "_________________________________________________________________\n",
            "dense_1 (Dense)              (None, 1)                 65        \n",
            "_________________________________________________________________\n",
            "activation_2 (Activation)    (None, 1)                 0         \n",
            "=================================================================\n",
            "Total params: 22,431,617\n",
            "Trainable params: 22,431,617\n",
            "Non-trainable params: 0\n",
            "_________________________________________________________________\n"
          ],
          "name": "stdout"
        }
      ]
    },
    {
      "cell_type": "markdown",
      "metadata": {
        "id": "hEBJ5GXcKm5M"
      },
      "source": [
        "Compile the model using RMSprop."
      ]
    },
    {
      "cell_type": "code",
      "metadata": {
        "id": "85uyZ1yTKm5M"
      },
      "source": [
        "# compile RMSprop model\n",
        "model.compile(loss='binary_crossentropy', optimizer='RMSprop', metrics=['accuracy'])\n"
      ],
      "execution_count": 11,
      "outputs": []
    },
    {
      "cell_type": "markdown",
      "metadata": {
        "id": "uIKSpMe-Km5O"
      },
      "source": [
        "Fit the model using a fit generator. Use 50 epochs, 25 training steps and 15 validation steps"
      ]
    },
    {
      "cell_type": "code",
      "metadata": {
        "id": "NFfKyhLzKm5O",
        "colab": {
          "base_uri": "https://localhost:8080/"
        },
        "outputId": "df5ae3f5-df60-4b55-8225-99d7a71e8f88"
      },
      "source": [
        "# fit model\n",
        "## had to use validation steps of 5 to prevent running out of validation data\n",
        "model.fit(train_generator, \n",
        "          steps_per_epoch=25, \n",
        "          epochs=50, \n",
        "          validation_data=validation_generator, \n",
        "          validation_steps=5)\n"
      ],
      "execution_count": 12,
      "outputs": [
        {
          "output_type": "stream",
          "text": [
            "Epoch 1/50\n",
            "25/25 [==============================] - 19s 647ms/step - loss: 12.0658 - accuracy: 0.5061 - val_loss: 0.7045 - val_accuracy: 0.5700\n",
            "Epoch 2/50\n",
            "25/25 [==============================] - 16s 651ms/step - loss: 0.7210 - accuracy: 0.5529 - val_loss: 0.6780 - val_accuracy: 0.6000\n",
            "Epoch 3/50\n",
            "25/25 [==============================] - 16s 653ms/step - loss: 0.6379 - accuracy: 0.6431 - val_loss: 0.6309 - val_accuracy: 0.7000\n",
            "Epoch 4/50\n",
            "25/25 [==============================] - 16s 648ms/step - loss: 0.5999 - accuracy: 0.6955 - val_loss: 0.5842 - val_accuracy: 0.7175\n",
            "Epoch 5/50\n",
            "25/25 [==============================] - 16s 647ms/step - loss: 0.6430 - accuracy: 0.7260 - val_loss: 0.6166 - val_accuracy: 0.6700\n",
            "Epoch 6/50\n",
            "25/25 [==============================] - 16s 648ms/step - loss: 0.5038 - accuracy: 0.7630 - val_loss: 0.5878 - val_accuracy: 0.6825\n",
            "Epoch 7/50\n",
            "25/25 [==============================] - 16s 654ms/step - loss: 0.4860 - accuracy: 0.7856 - val_loss: 0.6192 - val_accuracy: 0.6925\n",
            "Epoch 8/50\n",
            "25/25 [==============================] - 16s 652ms/step - loss: 0.5224 - accuracy: 0.7729 - val_loss: 0.6610 - val_accuracy: 0.7050\n",
            "Epoch 9/50\n",
            "25/25 [==============================] - 16s 646ms/step - loss: 0.4014 - accuracy: 0.8161 - val_loss: 0.7465 - val_accuracy: 0.6550\n",
            "Epoch 10/50\n",
            "25/25 [==============================] - 16s 646ms/step - loss: 0.4000 - accuracy: 0.8247 - val_loss: 0.7245 - val_accuracy: 0.6775\n",
            "Epoch 11/50\n",
            "25/25 [==============================] - 16s 652ms/step - loss: 0.3723 - accuracy: 0.8333 - val_loss: 0.7985 - val_accuracy: 0.6600\n",
            "Epoch 12/50\n",
            "25/25 [==============================] - 16s 645ms/step - loss: 0.3485 - accuracy: 0.8500 - val_loss: 0.8612 - val_accuracy: 0.6425\n",
            "Epoch 13/50\n",
            "25/25 [==============================] - 16s 661ms/step - loss: 0.3394 - accuracy: 0.8473 - val_loss: 0.7583 - val_accuracy: 0.6650\n",
            "Epoch 14/50\n",
            "25/25 [==============================] - 16s 657ms/step - loss: 0.2870 - accuracy: 0.9046 - val_loss: 0.7478 - val_accuracy: 0.7175\n",
            "Epoch 15/50\n",
            "25/25 [==============================] - 16s 648ms/step - loss: 0.2553 - accuracy: 0.9016 - val_loss: 1.3678 - val_accuracy: 0.6100\n",
            "Epoch 16/50\n",
            "25/25 [==============================] - 16s 645ms/step - loss: 0.2471 - accuracy: 0.8929 - val_loss: 0.7992 - val_accuracy: 0.6875\n",
            "Epoch 17/50\n",
            "25/25 [==============================] - 16s 653ms/step - loss: 0.1924 - accuracy: 0.9375 - val_loss: 0.8806 - val_accuracy: 0.6800\n",
            "Epoch 18/50\n",
            "25/25 [==============================] - 16s 651ms/step - loss: 0.1911 - accuracy: 0.9309 - val_loss: 0.9873 - val_accuracy: 0.6525\n",
            "Epoch 19/50\n",
            "25/25 [==============================] - 16s 649ms/step - loss: 0.1804 - accuracy: 0.9418 - val_loss: 0.9352 - val_accuracy: 0.6850\n",
            "Epoch 20/50\n",
            "25/25 [==============================] - 16s 646ms/step - loss: 0.1386 - accuracy: 0.9541 - val_loss: 0.8405 - val_accuracy: 0.6600\n",
            "Epoch 21/50\n",
            "25/25 [==============================] - 16s 653ms/step - loss: 0.1279 - accuracy: 0.9641 - val_loss: 1.0072 - val_accuracy: 0.6425\n",
            "Epoch 22/50\n",
            "25/25 [==============================] - 16s 653ms/step - loss: 0.4131 - accuracy: 0.9164 - val_loss: 1.5129 - val_accuracy: 0.6050\n",
            "Epoch 23/50\n",
            "25/25 [==============================] - 16s 652ms/step - loss: 0.1264 - accuracy: 0.9561 - val_loss: 1.1263 - val_accuracy: 0.7075\n",
            "Epoch 24/50\n",
            "25/25 [==============================] - 16s 645ms/step - loss: 0.0830 - accuracy: 0.9857 - val_loss: 1.8086 - val_accuracy: 0.5900\n",
            "Epoch 25/50\n",
            "25/25 [==============================] - 16s 652ms/step - loss: 0.1384 - accuracy: 0.9449 - val_loss: 0.9627 - val_accuracy: 0.7025\n",
            "Epoch 26/50\n",
            "25/25 [==============================] - 16s 649ms/step - loss: 0.0726 - accuracy: 0.9804 - val_loss: 1.2675 - val_accuracy: 0.6775\n",
            "Epoch 27/50\n",
            "25/25 [==============================] - 16s 656ms/step - loss: 0.0650 - accuracy: 0.9849 - val_loss: 1.1893 - val_accuracy: 0.6400\n",
            "Epoch 28/50\n",
            "25/25 [==============================] - 16s 647ms/step - loss: 0.0761 - accuracy: 0.9852 - val_loss: 1.2955 - val_accuracy: 0.6775\n",
            "Epoch 29/50\n",
            "25/25 [==============================] - 16s 655ms/step - loss: 0.0592 - accuracy: 0.9797 - val_loss: 4.5046 - val_accuracy: 0.5575\n",
            "Epoch 30/50\n",
            "25/25 [==============================] - 16s 645ms/step - loss: 0.2885 - accuracy: 0.9227 - val_loss: 1.2573 - val_accuracy: 0.6875\n",
            "Epoch 31/50\n",
            "25/25 [==============================] - 16s 647ms/step - loss: 0.0323 - accuracy: 0.9933 - val_loss: 1.0586 - val_accuracy: 0.7100\n",
            "Epoch 32/50\n",
            "25/25 [==============================] - 17s 662ms/step - loss: 0.0415 - accuracy: 0.9953 - val_loss: 1.3952 - val_accuracy: 0.6900\n",
            "Epoch 33/50\n",
            "25/25 [==============================] - 16s 656ms/step - loss: 0.0342 - accuracy: 0.9903 - val_loss: 1.3205 - val_accuracy: 0.6825\n",
            "Epoch 34/50\n",
            "25/25 [==============================] - 16s 652ms/step - loss: 0.0968 - accuracy: 0.9835 - val_loss: 1.2910 - val_accuracy: 0.6825\n",
            "Epoch 35/50\n",
            "25/25 [==============================] - 16s 647ms/step - loss: 0.0344 - accuracy: 0.9922 - val_loss: 1.4459 - val_accuracy: 0.6375\n",
            "Epoch 36/50\n",
            "25/25 [==============================] - 16s 648ms/step - loss: 0.0169 - accuracy: 0.9975 - val_loss: 1.6875 - val_accuracy: 0.6725\n",
            "Epoch 37/50\n",
            "25/25 [==============================] - 16s 650ms/step - loss: 0.0751 - accuracy: 0.9797 - val_loss: 1.1478 - val_accuracy: 0.6850\n",
            "Epoch 38/50\n",
            "25/25 [==============================] - 16s 647ms/step - loss: 0.0231 - accuracy: 0.9975 - val_loss: 1.6412 - val_accuracy: 0.6625\n",
            "Epoch 39/50\n",
            "25/25 [==============================] - 16s 649ms/step - loss: 0.0425 - accuracy: 0.9901 - val_loss: 1.2922 - val_accuracy: 0.6900\n",
            "Epoch 40/50\n",
            "25/25 [==============================] - 16s 649ms/step - loss: 0.0201 - accuracy: 0.9958 - val_loss: 1.4028 - val_accuracy: 0.7050\n",
            "Epoch 41/50\n",
            "25/25 [==============================] - 16s 652ms/step - loss: 0.0396 - accuracy: 0.9854 - val_loss: 1.6548 - val_accuracy: 0.6550\n",
            "Epoch 42/50\n",
            "25/25 [==============================] - 16s 649ms/step - loss: 0.1490 - accuracy: 0.9643 - val_loss: 1.4359 - val_accuracy: 0.6775\n",
            "Epoch 43/50\n",
            "25/25 [==============================] - 16s 647ms/step - loss: 0.0106 - accuracy: 0.9976 - val_loss: 1.4641 - val_accuracy: 0.6750\n",
            "Epoch 44/50\n",
            "25/25 [==============================] - 16s 654ms/step - loss: 0.0537 - accuracy: 0.9883 - val_loss: 1.3144 - val_accuracy: 0.6700\n",
            "Epoch 45/50\n",
            "25/25 [==============================] - 16s 649ms/step - loss: 0.0137 - accuracy: 1.0000 - val_loss: 1.3682 - val_accuracy: 0.6800\n",
            "Epoch 46/50\n",
            "25/25 [==============================] - 16s 650ms/step - loss: 0.0263 - accuracy: 0.9946 - val_loss: 1.4254 - val_accuracy: 0.6825\n",
            "Epoch 47/50\n",
            "25/25 [==============================] - 16s 649ms/step - loss: 0.0143 - accuracy: 0.9970 - val_loss: 1.7526 - val_accuracy: 0.6725\n",
            "Epoch 48/50\n",
            "25/25 [==============================] - 16s 650ms/step - loss: 0.0268 - accuracy: 0.9930 - val_loss: 1.5084 - val_accuracy: 0.6600\n",
            "Epoch 49/50\n",
            "25/25 [==============================] - 16s 646ms/step - loss: 0.0191 - accuracy: 0.9969 - val_loss: 1.5741 - val_accuracy: 0.6950\n",
            "Epoch 50/50\n",
            "25/25 [==============================] - 16s 648ms/step - loss: 0.0058 - accuracy: 0.9998 - val_loss: 2.0393 - val_accuracy: 0.6675\n"
          ],
          "name": "stdout"
        },
        {
          "output_type": "execute_result",
          "data": {
            "text/plain": [
              "<tensorflow.python.keras.callbacks.History at 0x7f932825cac8>"
            ]
          },
          "metadata": {
            "tags": []
          },
          "execution_count": 12
        }
      ]
    },
    {
      "cell_type": "markdown",
      "metadata": {
        "id": "QAZ1IeybKm5Q"
      },
      "source": [
        "Create a new model by adding an additional group of convolution, activation and max pooling layers before the flatten layer. Make the convolution layer of unit size 32. Keep everything else the same."
      ]
    },
    {
      "cell_type": "code",
      "metadata": {
        "id": "651SH4QGKm5Q"
      },
      "source": [
        "# make cnn model with two conv layers\n",
        "model = Sequential()\n",
        "model.add(Conv2D(64, (3,3), input_shape=input_shape))\n",
        "model.add(Activation('relu'))\n",
        "model.add(MaxPooling2D(pool_size=(2,2)))\n",
        "\n",
        "model.add(Conv2D(32, (3,3)))\n",
        "model.add(Activation('relu'))\n",
        "model.add(MaxPooling2D(pool_size=(2,2)))\n",
        "\n",
        "model.add(Flatten())\n",
        "model.add(Dense(64))\n",
        "model.add(Activation('relu'))\n",
        "model.add(Dense(1))\n",
        "model.add(Activation('sigmoid'))\n"
      ],
      "execution_count": 13,
      "outputs": []
    },
    {
      "cell_type": "markdown",
      "metadata": {
        "id": "fHfpSfgyKm5S"
      },
      "source": [
        "Fit and compile the model in the same way you did with the previous model. How did the results improve?"
      ]
    },
    {
      "cell_type": "code",
      "metadata": {
        "id": "k5nPg_LmKm5S",
        "colab": {
          "base_uri": "https://localhost:8080/"
        },
        "outputId": "0ac75e58-2d18-4809-94c3-2c33feba050f"
      },
      "source": [
        "# compile RMSprop model\n",
        "model.compile(loss='binary_crossentropy', optimizer='RMSprop', metrics=['accuracy'])\n",
        "\n",
        "# fit model\n",
        "## had to use validation steps of 5 to prevent running out of validation data\n",
        "model.fit(train_generator, \n",
        "          steps_per_epoch=25, \n",
        "          epochs=50, \n",
        "          validation_data=validation_generator, \n",
        "          validation_steps=5)\n"
      ],
      "execution_count": 14,
      "outputs": [
        {
          "output_type": "stream",
          "text": [
            "Epoch 1/50\n",
            "25/25 [==============================] - 18s 677ms/step - loss: 1.2096 - accuracy: 0.5317 - val_loss: 0.7231 - val_accuracy: 0.5025\n",
            "Epoch 2/50\n",
            "25/25 [==============================] - 16s 658ms/step - loss: 0.6866 - accuracy: 0.5570 - val_loss: 0.7567 - val_accuracy: 0.5075\n",
            "Epoch 3/50\n",
            "25/25 [==============================] - 16s 650ms/step - loss: 0.6734 - accuracy: 0.5967 - val_loss: 0.6639 - val_accuracy: 0.6025\n",
            "Epoch 4/50\n",
            "25/25 [==============================] - 16s 653ms/step - loss: 0.6651 - accuracy: 0.6380 - val_loss: 0.6680 - val_accuracy: 0.5700\n",
            "Epoch 5/50\n",
            "25/25 [==============================] - 16s 653ms/step - loss: 0.6020 - accuracy: 0.6862 - val_loss: 0.6505 - val_accuracy: 0.6375\n",
            "Epoch 6/50\n",
            "25/25 [==============================] - 16s 652ms/step - loss: 0.5705 - accuracy: 0.7070 - val_loss: 0.6255 - val_accuracy: 0.6375\n",
            "Epoch 7/50\n",
            "25/25 [==============================] - 16s 655ms/step - loss: 0.5299 - accuracy: 0.7393 - val_loss: 0.5981 - val_accuracy: 0.6875\n",
            "Epoch 8/50\n",
            "25/25 [==============================] - 16s 654ms/step - loss: 0.5001 - accuracy: 0.7534 - val_loss: 0.6016 - val_accuracy: 0.6800\n",
            "Epoch 9/50\n",
            "25/25 [==============================] - 16s 649ms/step - loss: 0.4431 - accuracy: 0.7997 - val_loss: 0.6442 - val_accuracy: 0.6750\n",
            "Epoch 10/50\n",
            "25/25 [==============================] - 16s 654ms/step - loss: 0.5810 - accuracy: 0.7751 - val_loss: 0.6364 - val_accuracy: 0.6875\n",
            "Epoch 11/50\n",
            "25/25 [==============================] - 16s 649ms/step - loss: 0.3911 - accuracy: 0.8212 - val_loss: 0.6833 - val_accuracy: 0.6975\n",
            "Epoch 12/50\n",
            "25/25 [==============================] - 16s 654ms/step - loss: 0.4137 - accuracy: 0.8299 - val_loss: 0.7620 - val_accuracy: 0.6900\n",
            "Epoch 13/50\n",
            "25/25 [==============================] - 16s 651ms/step - loss: 0.3876 - accuracy: 0.8287 - val_loss: 0.8498 - val_accuracy: 0.6525\n",
            "Epoch 14/50\n",
            "25/25 [==============================] - 16s 654ms/step - loss: 0.3395 - accuracy: 0.8528 - val_loss: 0.9495 - val_accuracy: 0.6525\n",
            "Epoch 15/50\n",
            "25/25 [==============================] - 16s 651ms/step - loss: 0.3228 - accuracy: 0.8557 - val_loss: 0.7736 - val_accuracy: 0.6975\n",
            "Epoch 16/50\n",
            "25/25 [==============================] - 17s 662ms/step - loss: 0.2749 - accuracy: 0.8951 - val_loss: 0.7552 - val_accuracy: 0.6925\n",
            "Epoch 17/50\n",
            "25/25 [==============================] - 16s 656ms/step - loss: 0.2349 - accuracy: 0.9131 - val_loss: 0.8555 - val_accuracy: 0.6850\n",
            "Epoch 18/50\n",
            "25/25 [==============================] - 16s 652ms/step - loss: 0.2162 - accuracy: 0.9211 - val_loss: 0.9088 - val_accuracy: 0.6850\n",
            "Epoch 19/50\n",
            "25/25 [==============================] - 16s 652ms/step - loss: 0.4431 - accuracy: 0.8853 - val_loss: 0.9565 - val_accuracy: 0.6725\n",
            "Epoch 20/50\n",
            "25/25 [==============================] - 17s 668ms/step - loss: 0.1458 - accuracy: 0.9527 - val_loss: 0.8865 - val_accuracy: 0.6725\n",
            "Epoch 21/50\n",
            "25/25 [==============================] - 16s 653ms/step - loss: 0.1325 - accuracy: 0.9520 - val_loss: 0.9945 - val_accuracy: 0.7050\n",
            "Epoch 22/50\n",
            "25/25 [==============================] - 16s 653ms/step - loss: 0.1590 - accuracy: 0.9415 - val_loss: 1.4918 - val_accuracy: 0.6275\n",
            "Epoch 23/50\n",
            "25/25 [==============================] - 16s 655ms/step - loss: 0.2382 - accuracy: 0.9148 - val_loss: 1.0525 - val_accuracy: 0.7250\n",
            "Epoch 24/50\n",
            "25/25 [==============================] - 16s 654ms/step - loss: 0.1131 - accuracy: 0.9556 - val_loss: 1.6879 - val_accuracy: 0.6525\n",
            "Epoch 25/50\n",
            "25/25 [==============================] - 16s 653ms/step - loss: 0.1712 - accuracy: 0.9389 - val_loss: 1.0044 - val_accuracy: 0.5975\n",
            "Epoch 26/50\n",
            "25/25 [==============================] - 16s 651ms/step - loss: 0.1019 - accuracy: 0.9684 - val_loss: 1.3541 - val_accuracy: 0.6425\n",
            "Epoch 27/50\n",
            "25/25 [==============================] - 16s 653ms/step - loss: 0.0581 - accuracy: 0.9878 - val_loss: 1.2267 - val_accuracy: 0.7050\n",
            "Epoch 28/50\n",
            "25/25 [==============================] - 16s 646ms/step - loss: 0.0848 - accuracy: 0.9662 - val_loss: 1.3279 - val_accuracy: 0.7050\n",
            "Epoch 29/50\n",
            "25/25 [==============================] - 16s 656ms/step - loss: 0.1389 - accuracy: 0.9722 - val_loss: 1.0961 - val_accuracy: 0.6700\n",
            "Epoch 30/50\n",
            "25/25 [==============================] - 16s 649ms/step - loss: 0.0490 - accuracy: 0.9894 - val_loss: 1.2857 - val_accuracy: 0.6650\n",
            "Epoch 31/50\n",
            "25/25 [==============================] - 16s 661ms/step - loss: 0.0322 - accuracy: 0.9918 - val_loss: 1.3408 - val_accuracy: 0.6600\n",
            "Epoch 32/50\n",
            "25/25 [==============================] - 16s 652ms/step - loss: 0.0432 - accuracy: 0.9875 - val_loss: 1.3701 - val_accuracy: 0.7100\n",
            "Epoch 33/50\n",
            "25/25 [==============================] - 16s 654ms/step - loss: 0.0960 - accuracy: 0.9741 - val_loss: 1.3243 - val_accuracy: 0.6925\n",
            "Epoch 34/50\n",
            "25/25 [==============================] - 16s 657ms/step - loss: 0.0261 - accuracy: 0.9943 - val_loss: 1.3958 - val_accuracy: 0.6800\n",
            "Epoch 35/50\n",
            "25/25 [==============================] - 16s 655ms/step - loss: 0.0261 - accuracy: 0.9933 - val_loss: 1.3284 - val_accuracy: 0.6875\n",
            "Epoch 36/50\n",
            "25/25 [==============================] - 16s 653ms/step - loss: 0.0214 - accuracy: 0.9944 - val_loss: 2.5416 - val_accuracy: 0.6375\n",
            "Epoch 37/50\n",
            "25/25 [==============================] - 16s 655ms/step - loss: 0.1344 - accuracy: 0.9628 - val_loss: 1.8003 - val_accuracy: 0.6525\n",
            "Epoch 38/50\n",
            "25/25 [==============================] - 16s 656ms/step - loss: 0.0437 - accuracy: 0.9859 - val_loss: 1.3280 - val_accuracy: 0.6950\n",
            "Epoch 39/50\n",
            "25/25 [==============================] - 17s 670ms/step - loss: 0.0141 - accuracy: 0.9984 - val_loss: 1.6887 - val_accuracy: 0.6700\n",
            "Epoch 40/50\n",
            "25/25 [==============================] - 16s 651ms/step - loss: 0.0099 - accuracy: 0.9988 - val_loss: 2.0462 - val_accuracy: 0.6675\n",
            "Epoch 41/50\n",
            "25/25 [==============================] - 16s 658ms/step - loss: 0.1734 - accuracy: 0.9762 - val_loss: 1.5167 - val_accuracy: 0.6850\n",
            "Epoch 42/50\n",
            "25/25 [==============================] - 16s 654ms/step - loss: 0.0152 - accuracy: 0.9988 - val_loss: 1.6983 - val_accuracy: 0.6825\n",
            "Epoch 43/50\n",
            "25/25 [==============================] - 16s 653ms/step - loss: 0.0076 - accuracy: 0.9993 - val_loss: 2.2464 - val_accuracy: 0.6650\n",
            "Epoch 44/50\n",
            "25/25 [==============================] - 16s 649ms/step - loss: 0.0478 - accuracy: 0.9817 - val_loss: 1.5699 - val_accuracy: 0.7150\n",
            "Epoch 45/50\n",
            "25/25 [==============================] - 16s 655ms/step - loss: 0.1805 - accuracy: 0.9783 - val_loss: 1.3424 - val_accuracy: 0.6975\n",
            "Epoch 46/50\n",
            "25/25 [==============================] - 16s 655ms/step - loss: 0.0083 - accuracy: 0.9996 - val_loss: 1.6692 - val_accuracy: 0.6950\n",
            "Epoch 47/50\n",
            "25/25 [==============================] - 16s 652ms/step - loss: 0.0149 - accuracy: 0.9974 - val_loss: 1.9530 - val_accuracy: 0.6475\n",
            "Epoch 48/50\n",
            "25/25 [==============================] - 16s 656ms/step - loss: 0.0089 - accuracy: 0.9961 - val_loss: 1.6096 - val_accuracy: 0.7150\n",
            "Epoch 49/50\n",
            "25/25 [==============================] - 16s 652ms/step - loss: 0.0418 - accuracy: 0.9914 - val_loss: 1.4690 - val_accuracy: 0.6875\n",
            "Epoch 50/50\n",
            "25/25 [==============================] - 16s 658ms/step - loss: 0.0108 - accuracy: 0.9995 - val_loss: 2.3412 - val_accuracy: 0.6525\n"
          ],
          "name": "stdout"
        },
        {
          "output_type": "execute_result",
          "data": {
            "text/plain": [
              "<tensorflow.python.keras.callbacks.History at 0x7f92c0d3e400>"
            ]
          },
          "metadata": {
            "tags": []
          },
          "execution_count": 14
        }
      ]
    },
    {
      "cell_type": "markdown",
      "metadata": {
        "id": "LgKv1_tCKm5U"
      },
      "source": [
        "Create a new model based on the model above. Add an additional dense layer of size 64 with a ReLU activation after the flatten layer."
      ]
    },
    {
      "cell_type": "code",
      "metadata": {
        "id": "KlzEuIt3Km5U"
      },
      "source": [
        "# make cnn model with two conv layers and two dense layers\n",
        "# instantiate model\n",
        "model = Sequential()\n",
        "# convolution layer 1\n",
        "model.add(Conv2D(64, (3,3), input_shape=input_shape))\n",
        "model.add(Activation('relu'))\n",
        "model.add(MaxPooling2D(pool_size=(2,2)))\n",
        "# convolution layer 2\n",
        "model.add(Conv2D(32, (3,3)))\n",
        "model.add(Activation('relu'))\n",
        "model.add(MaxPooling2D(pool_size=(2,2)))\n",
        "#flatten layer\n",
        "model.add(Flatten())\n",
        "# dense layer 1\n",
        "model.add(Dense(64))\n",
        "model.add(Activation('relu'))\n",
        "#dense layer 2\n",
        "model.add(Dense(64))\n",
        "model.add(Activation('relu'))\n",
        "#dense layer 3 / output layer\n",
        "model.add(Dense(1))\n",
        "model.add(Activation('sigmoid'))\n"
      ],
      "execution_count": 15,
      "outputs": []
    },
    {
      "cell_type": "markdown",
      "metadata": {
        "id": "GMg6k7tHKm5W"
      },
      "source": [
        "Fit and compile in the same way as above. Describe the difference in performance and speed."
      ]
    },
    {
      "cell_type": "code",
      "metadata": {
        "id": "pqIEZC6YKm5W",
        "colab": {
          "base_uri": "https://localhost:8080/"
        },
        "outputId": "099e520f-5b63-42d4-b7de-6a4f8f08ab3f"
      },
      "source": [
        "# compile RMSprop model\n",
        "model.compile(loss='binary_crossentropy', optimizer='RMSprop', metrics=['accuracy'])\n",
        "\n",
        "# fit model\n",
        "## had to use validation steps of 5 to prevent running out of validation data\n",
        "model.fit(train_generator, \n",
        "          steps_per_epoch=25, \n",
        "          epochs=50, \n",
        "          validation_data=validation_generator, \n",
        "          validation_steps=5)"
      ],
      "execution_count": 16,
      "outputs": [
        {
          "output_type": "stream",
          "text": [
            "Epoch 1/50\n",
            "25/25 [==============================] - 17s 667ms/step - loss: 1.0933 - accuracy: 0.5169 - val_loss: 0.6841 - val_accuracy: 0.5900\n",
            "Epoch 2/50\n",
            "25/25 [==============================] - 16s 655ms/step - loss: 0.6883 - accuracy: 0.5962 - val_loss: 0.6728 - val_accuracy: 0.5500\n",
            "Epoch 3/50\n",
            "25/25 [==============================] - 16s 648ms/step - loss: 0.6965 - accuracy: 0.5963 - val_loss: 0.6488 - val_accuracy: 0.6500\n",
            "Epoch 4/50\n",
            "25/25 [==============================] - 16s 654ms/step - loss: 0.6626 - accuracy: 0.6449 - val_loss: 0.6465 - val_accuracy: 0.6225\n",
            "Epoch 5/50\n",
            "25/25 [==============================] - 16s 652ms/step - loss: 0.6746 - accuracy: 0.6863 - val_loss: 0.6389 - val_accuracy: 0.6550\n",
            "Epoch 6/50\n",
            "25/25 [==============================] - 16s 659ms/step - loss: 0.5904 - accuracy: 0.7325 - val_loss: 0.6429 - val_accuracy: 0.6600\n",
            "Epoch 7/50\n",
            "25/25 [==============================] - 16s 659ms/step - loss: 0.5275 - accuracy: 0.7310 - val_loss: 0.6623 - val_accuracy: 0.6500\n",
            "Epoch 8/50\n",
            "25/25 [==============================] - 17s 666ms/step - loss: 0.4951 - accuracy: 0.7478 - val_loss: 0.6631 - val_accuracy: 0.6675\n",
            "Epoch 9/50\n",
            "25/25 [==============================] - 16s 650ms/step - loss: 0.5103 - accuracy: 0.7733 - val_loss: 0.6880 - val_accuracy: 0.6400\n",
            "Epoch 10/50\n",
            "25/25 [==============================] - 16s 656ms/step - loss: 0.4500 - accuracy: 0.7875 - val_loss: 1.1935 - val_accuracy: 0.6175\n",
            "Epoch 11/50\n",
            "25/25 [==============================] - 16s 655ms/step - loss: 0.4275 - accuracy: 0.8168 - val_loss: 0.7428 - val_accuracy: 0.6475\n",
            "Epoch 12/50\n",
            "25/25 [==============================] - 16s 656ms/step - loss: 0.3308 - accuracy: 0.8491 - val_loss: 0.8361 - val_accuracy: 0.6600\n",
            "Epoch 13/50\n",
            "25/25 [==============================] - 16s 652ms/step - loss: 0.3310 - accuracy: 0.8520 - val_loss: 0.8422 - val_accuracy: 0.6850\n",
            "Epoch 14/50\n",
            "25/25 [==============================] - 16s 657ms/step - loss: 0.2651 - accuracy: 0.8878 - val_loss: 0.7079 - val_accuracy: 0.6975\n",
            "Epoch 15/50\n",
            "25/25 [==============================] - 16s 650ms/step - loss: 0.2198 - accuracy: 0.9112 - val_loss: 0.9792 - val_accuracy: 0.6350\n",
            "Epoch 16/50\n",
            "25/25 [==============================] - 16s 658ms/step - loss: 0.2791 - accuracy: 0.8834 - val_loss: 1.0013 - val_accuracy: 0.6650\n",
            "Epoch 17/50\n",
            "25/25 [==============================] - 16s 654ms/step - loss: 0.1262 - accuracy: 0.9555 - val_loss: 1.1682 - val_accuracy: 0.6200\n",
            "Epoch 18/50\n",
            "25/25 [==============================] - 16s 654ms/step - loss: 0.1665 - accuracy: 0.9355 - val_loss: 0.9960 - val_accuracy: 0.6575\n",
            "Epoch 19/50\n",
            "25/25 [==============================] - 16s 653ms/step - loss: 0.1182 - accuracy: 0.9642 - val_loss: 1.0857 - val_accuracy: 0.6800\n",
            "Epoch 20/50\n",
            "25/25 [==============================] - 16s 650ms/step - loss: 0.0794 - accuracy: 0.9781 - val_loss: 1.2044 - val_accuracy: 0.6725\n",
            "Epoch 21/50\n",
            "25/25 [==============================] - 16s 657ms/step - loss: 0.1224 - accuracy: 0.9618 - val_loss: 1.3191 - val_accuracy: 0.6775\n",
            "Epoch 22/50\n",
            "25/25 [==============================] - 16s 655ms/step - loss: 0.1308 - accuracy: 0.9546 - val_loss: 1.2716 - val_accuracy: 0.6775\n",
            "Epoch 23/50\n",
            "25/25 [==============================] - 16s 656ms/step - loss: 0.0460 - accuracy: 0.9859 - val_loss: 1.4096 - val_accuracy: 0.6650\n",
            "Epoch 24/50\n",
            "25/25 [==============================] - 16s 651ms/step - loss: 0.0526 - accuracy: 0.9851 - val_loss: 1.6215 - val_accuracy: 0.6600\n",
            "Epoch 25/50\n",
            "25/25 [==============================] - 16s 655ms/step - loss: 0.6098 - accuracy: 0.9202 - val_loss: 1.1405 - val_accuracy: 0.6900\n",
            "Epoch 26/50\n",
            "25/25 [==============================] - 16s 657ms/step - loss: 0.0391 - accuracy: 0.9908 - val_loss: 2.3556 - val_accuracy: 0.5675\n",
            "Epoch 27/50\n",
            "25/25 [==============================] - 17s 663ms/step - loss: 0.1016 - accuracy: 0.9676 - val_loss: 1.7703 - val_accuracy: 0.6675\n",
            "Epoch 28/50\n",
            "25/25 [==============================] - 16s 650ms/step - loss: 0.1557 - accuracy: 0.9730 - val_loss: 1.1580 - val_accuracy: 0.7025\n",
            "Epoch 29/50\n",
            "25/25 [==============================] - 16s 654ms/step - loss: 0.0413 - accuracy: 0.9870 - val_loss: 1.5574 - val_accuracy: 0.6425\n",
            "Epoch 30/50\n",
            "25/25 [==============================] - 16s 649ms/step - loss: 0.0684 - accuracy: 0.9831 - val_loss: 1.2856 - val_accuracy: 0.6400\n",
            "Epoch 31/50\n",
            "25/25 [==============================] - 16s 652ms/step - loss: 0.0277 - accuracy: 0.9964 - val_loss: 1.7492 - val_accuracy: 0.6425\n",
            "Epoch 32/50\n",
            "25/25 [==============================] - 16s 652ms/step - loss: 0.0167 - accuracy: 0.9958 - val_loss: 2.0628 - val_accuracy: 0.6400\n",
            "Epoch 33/50\n",
            "25/25 [==============================] - 16s 655ms/step - loss: 0.0331 - accuracy: 0.9875 - val_loss: 1.9968 - val_accuracy: 0.6725\n",
            "Epoch 34/50\n",
            "25/25 [==============================] - 16s 650ms/step - loss: 0.0513 - accuracy: 0.9849 - val_loss: 2.0287 - val_accuracy: 0.6650\n",
            "Epoch 35/50\n",
            "25/25 [==============================] - 16s 652ms/step - loss: 0.6903 - accuracy: 0.9057 - val_loss: 1.4102 - val_accuracy: 0.6950\n",
            "Epoch 36/50\n",
            "25/25 [==============================] - 16s 655ms/step - loss: 0.0151 - accuracy: 0.9975 - val_loss: 2.1351 - val_accuracy: 0.6475\n",
            "Epoch 37/50\n",
            "25/25 [==============================] - 16s 654ms/step - loss: 0.0583 - accuracy: 0.9870 - val_loss: 1.6403 - val_accuracy: 0.5875\n",
            "Epoch 38/50\n",
            "25/25 [==============================] - 16s 649ms/step - loss: 0.0187 - accuracy: 0.9961 - val_loss: 1.8561 - val_accuracy: 0.6900\n",
            "Epoch 39/50\n",
            "25/25 [==============================] - 16s 659ms/step - loss: 0.0517 - accuracy: 0.9840 - val_loss: 1.5242 - val_accuracy: 0.6800\n",
            "Epoch 40/50\n",
            "25/25 [==============================] - 16s 650ms/step - loss: 0.0428 - accuracy: 0.9900 - val_loss: 1.4726 - val_accuracy: 0.6625\n",
            "Epoch 41/50\n",
            "25/25 [==============================] - 16s 654ms/step - loss: 0.0170 - accuracy: 0.9958 - val_loss: 1.3896 - val_accuracy: 0.6750\n",
            "Epoch 42/50\n",
            "25/25 [==============================] - 16s 650ms/step - loss: 0.0093 - accuracy: 0.9968 - val_loss: 2.1576 - val_accuracy: 0.6925\n",
            "Epoch 43/50\n",
            "25/25 [==============================] - 16s 656ms/step - loss: 0.0630 - accuracy: 0.9777 - val_loss: 2.3251 - val_accuracy: 0.6525\n",
            "Epoch 44/50\n",
            "25/25 [==============================] - 16s 651ms/step - loss: 0.0090 - accuracy: 0.9973 - val_loss: 3.5931 - val_accuracy: 0.5925\n",
            "Epoch 45/50\n",
            "25/25 [==============================] - 16s 658ms/step - loss: 1.3745 - accuracy: 0.8305 - val_loss: 2.0873 - val_accuracy: 0.6550\n",
            "Epoch 46/50\n",
            "25/25 [==============================] - 17s 662ms/step - loss: 0.0052 - accuracy: 0.9996 - val_loss: 2.3039 - val_accuracy: 0.6625\n",
            "Epoch 47/50\n",
            "25/25 [==============================] - 16s 654ms/step - loss: 0.0059 - accuracy: 0.9978 - val_loss: 4.1663 - val_accuracy: 0.5950\n",
            "Epoch 48/50\n",
            "25/25 [==============================] - 16s 654ms/step - loss: 0.3010 - accuracy: 0.9342 - val_loss: 2.0229 - val_accuracy: 0.6750\n",
            "Epoch 49/50\n",
            "25/25 [==============================] - 16s 649ms/step - loss: 0.0290 - accuracy: 0.9933 - val_loss: 2.1225 - val_accuracy: 0.6625\n",
            "Epoch 50/50\n",
            "25/25 [==============================] - 16s 657ms/step - loss: 0.0101 - accuracy: 0.9983 - val_loss: 2.0786 - val_accuracy: 0.6775\n"
          ],
          "name": "stdout"
        },
        {
          "output_type": "execute_result",
          "data": {
            "text/plain": [
              "<tensorflow.python.keras.callbacks.History at 0x7f92c0ba93c8>"
            ]
          },
          "metadata": {
            "tags": []
          },
          "execution_count": 16
        }
      ]
    },
    {
      "cell_type": "markdown",
      "metadata": {
        "id": "iRCyPKJfKm5Y"
      },
      "source": [
        "Fit and compile using the Adam optimizer. Describe the difference in performance between the Adam and RMSprop optimizers."
      ]
    },
    {
      "cell_type": "code",
      "metadata": {
        "id": "eqzQbCl8Km5Z",
        "colab": {
          "base_uri": "https://localhost:8080/"
        },
        "outputId": "8faa99a5-2737-4205-8317-c841d5927087"
      },
      "source": [
        "# compile Adam model\n",
        "model.compile(loss='binary_crossentropy', optimizer='Adam', metrics=['accuracy'])\n",
        "\n",
        "# fit model\n",
        "## had to use validation steps of 5 to prevent running out of validation data\n",
        "model.fit(train_generator, \n",
        "          steps_per_epoch=25, \n",
        "          epochs=50, \n",
        "          validation_data=validation_generator, \n",
        "          validation_steps=5)"
      ],
      "execution_count": 17,
      "outputs": [
        {
          "output_type": "stream",
          "text": [
            "Epoch 1/50\n",
            "25/25 [==============================] - 17s 664ms/step - loss: 0.0189 - accuracy: 0.9935 - val_loss: 2.5723 - val_accuracy: 0.6475\n",
            "Epoch 2/50\n",
            "25/25 [==============================] - 16s 651ms/step - loss: 0.0160 - accuracy: 0.9938 - val_loss: 2.6727 - val_accuracy: 0.6700\n",
            "Epoch 3/50\n",
            "25/25 [==============================] - 16s 648ms/step - loss: 0.0125 - accuracy: 0.9968 - val_loss: 2.1494 - val_accuracy: 0.6700\n",
            "Epoch 4/50\n",
            "25/25 [==============================] - 16s 659ms/step - loss: 0.0121 - accuracy: 0.9948 - val_loss: 2.2464 - val_accuracy: 0.7075\n",
            "Epoch 5/50\n",
            "25/25 [==============================] - 16s 657ms/step - loss: 0.0092 - accuracy: 0.9979 - val_loss: 2.1433 - val_accuracy: 0.6825\n",
            "Epoch 6/50\n",
            "25/25 [==============================] - 16s 653ms/step - loss: 0.0241 - accuracy: 0.9934 - val_loss: 1.9916 - val_accuracy: 0.6325\n",
            "Epoch 7/50\n",
            "25/25 [==============================] - 16s 648ms/step - loss: 0.0170 - accuracy: 0.9934 - val_loss: 2.0988 - val_accuracy: 0.6675\n",
            "Epoch 8/50\n",
            "25/25 [==============================] - 16s 651ms/step - loss: 0.0134 - accuracy: 0.9958 - val_loss: 2.1504 - val_accuracy: 0.6825\n",
            "Epoch 9/50\n",
            "25/25 [==============================] - 16s 649ms/step - loss: 0.0231 - accuracy: 0.9946 - val_loss: 2.3164 - val_accuracy: 0.6725\n",
            "Epoch 10/50\n",
            "25/25 [==============================] - 16s 655ms/step - loss: 0.0241 - accuracy: 0.9969 - val_loss: 2.0644 - val_accuracy: 0.6475\n",
            "Epoch 11/50\n",
            "25/25 [==============================] - 16s 651ms/step - loss: 0.0361 - accuracy: 0.9901 - val_loss: 2.0004 - val_accuracy: 0.7075\n",
            "Epoch 12/50\n",
            "25/25 [==============================] - 16s 652ms/step - loss: 0.0139 - accuracy: 0.9968 - val_loss: 2.4024 - val_accuracy: 0.6725\n",
            "Epoch 13/50\n",
            "25/25 [==============================] - 16s 655ms/step - loss: 0.0062 - accuracy: 0.9985 - val_loss: 1.9926 - val_accuracy: 0.6825\n",
            "Epoch 14/50\n",
            "25/25 [==============================] - 16s 652ms/step - loss: 0.0056 - accuracy: 0.9985 - val_loss: 2.6537 - val_accuracy: 0.6550\n",
            "Epoch 15/50\n",
            "25/25 [==============================] - 17s 670ms/step - loss: 0.0096 - accuracy: 0.9971 - val_loss: 2.4578 - val_accuracy: 0.6725\n",
            "Epoch 16/50\n",
            "25/25 [==============================] - 16s 653ms/step - loss: 0.0063 - accuracy: 0.9983 - val_loss: 2.2088 - val_accuracy: 0.6650\n",
            "Epoch 17/50\n",
            "25/25 [==============================] - 16s 649ms/step - loss: 0.0073 - accuracy: 0.9975 - val_loss: 2.2833 - val_accuracy: 0.6775\n",
            "Epoch 18/50\n",
            "25/25 [==============================] - 16s 649ms/step - loss: 0.0059 - accuracy: 0.9982 - val_loss: 2.3742 - val_accuracy: 0.6400\n",
            "Epoch 19/50\n",
            "25/25 [==============================] - 16s 651ms/step - loss: 0.0218 - accuracy: 0.9939 - val_loss: 2.3376 - val_accuracy: 0.6600\n",
            "Epoch 20/50\n",
            "25/25 [==============================] - 16s 652ms/step - loss: 0.0041 - accuracy: 0.9989 - val_loss: 2.1113 - val_accuracy: 0.6900\n",
            "Epoch 21/50\n",
            "25/25 [==============================] - 16s 651ms/step - loss: 0.0036 - accuracy: 0.9984 - val_loss: 2.3567 - val_accuracy: 0.6775\n",
            "Epoch 22/50\n",
            "25/25 [==============================] - 16s 652ms/step - loss: 0.0072 - accuracy: 0.9966 - val_loss: 2.1836 - val_accuracy: 0.6600\n",
            "Epoch 23/50\n",
            "25/25 [==============================] - 16s 656ms/step - loss: 0.0068 - accuracy: 0.9974 - val_loss: 2.1394 - val_accuracy: 0.7025\n",
            "Epoch 24/50\n",
            "25/25 [==============================] - 16s 652ms/step - loss: 0.0277 - accuracy: 0.9952 - val_loss: 2.4480 - val_accuracy: 0.6800\n",
            "Epoch 25/50\n",
            "25/25 [==============================] - 16s 653ms/step - loss: 0.0314 - accuracy: 0.9898 - val_loss: 2.0337 - val_accuracy: 0.6400\n",
            "Epoch 26/50\n",
            "25/25 [==============================] - 16s 651ms/step - loss: 0.0266 - accuracy: 0.9934 - val_loss: 2.0891 - val_accuracy: 0.6775\n",
            "Epoch 27/50\n",
            "25/25 [==============================] - 16s 655ms/step - loss: 0.0212 - accuracy: 0.9954 - val_loss: 2.0994 - val_accuracy: 0.6675\n",
            "Epoch 28/50\n",
            "25/25 [==============================] - 16s 652ms/step - loss: 0.0254 - accuracy: 0.9907 - val_loss: 2.1207 - val_accuracy: 0.7025\n",
            "Epoch 29/50\n",
            "25/25 [==============================] - 16s 651ms/step - loss: 0.0142 - accuracy: 0.9985 - val_loss: 2.0139 - val_accuracy: 0.6900\n",
            "Epoch 30/50\n",
            "25/25 [==============================] - 16s 657ms/step - loss: 0.0095 - accuracy: 0.9976 - val_loss: 2.2933 - val_accuracy: 0.6800\n",
            "Epoch 31/50\n",
            "25/25 [==============================] - 16s 655ms/step - loss: 0.0146 - accuracy: 0.9969 - val_loss: 2.3357 - val_accuracy: 0.6575\n",
            "Epoch 32/50\n",
            "25/25 [==============================] - 16s 656ms/step - loss: 0.0164 - accuracy: 0.9959 - val_loss: 1.9746 - val_accuracy: 0.6775\n",
            "Epoch 33/50\n",
            "25/25 [==============================] - 16s 661ms/step - loss: 0.0222 - accuracy: 0.9961 - val_loss: 2.5547 - val_accuracy: 0.6650\n",
            "Epoch 34/50\n",
            "25/25 [==============================] - 17s 666ms/step - loss: 0.0080 - accuracy: 0.9985 - val_loss: 2.1933 - val_accuracy: 0.6800\n",
            "Epoch 35/50\n",
            "25/25 [==============================] - 16s 654ms/step - loss: 0.0152 - accuracy: 0.9949 - val_loss: 2.4660 - val_accuracy: 0.6875\n",
            "Epoch 36/50\n",
            "25/25 [==============================] - 16s 650ms/step - loss: 0.0131 - accuracy: 0.9978 - val_loss: 1.6388 - val_accuracy: 0.7425\n",
            "Epoch 37/50\n",
            "25/25 [==============================] - 16s 657ms/step - loss: 0.0120 - accuracy: 0.9952 - val_loss: 2.3388 - val_accuracy: 0.7075\n",
            "Epoch 38/50\n",
            "25/25 [==============================] - 16s 652ms/step - loss: 0.0044 - accuracy: 0.9982 - val_loss: 2.0961 - val_accuracy: 0.6775\n",
            "Epoch 39/50\n",
            "25/25 [==============================] - 16s 657ms/step - loss: 0.0110 - accuracy: 0.9981 - val_loss: 2.5033 - val_accuracy: 0.6600\n",
            "Epoch 40/50\n",
            "25/25 [==============================] - 16s 652ms/step - loss: 0.0095 - accuracy: 0.9972 - val_loss: 2.4322 - val_accuracy: 0.6625\n",
            "Epoch 41/50\n",
            "25/25 [==============================] - 16s 658ms/step - loss: 0.0100 - accuracy: 0.9972 - val_loss: 2.5602 - val_accuracy: 0.6500\n",
            "Epoch 42/50\n",
            "25/25 [==============================] - 16s 656ms/step - loss: 0.0033 - accuracy: 0.9992 - val_loss: 2.4363 - val_accuracy: 0.6800\n",
            "Epoch 43/50\n",
            "25/25 [==============================] - 16s 652ms/step - loss: 0.0017 - accuracy: 1.0000 - val_loss: 2.9564 - val_accuracy: 0.6625\n",
            "Epoch 44/50\n",
            "25/25 [==============================] - 16s 655ms/step - loss: 0.0064 - accuracy: 0.9974 - val_loss: 2.7165 - val_accuracy: 0.6325\n",
            "Epoch 45/50\n",
            "25/25 [==============================] - 16s 655ms/step - loss: 0.0215 - accuracy: 0.9898 - val_loss: 2.1814 - val_accuracy: 0.6175\n",
            "Epoch 46/50\n",
            "25/25 [==============================] - 16s 650ms/step - loss: 0.0273 - accuracy: 0.9860 - val_loss: 2.4915 - val_accuracy: 0.6375\n",
            "Epoch 47/50\n",
            "25/25 [==============================] - 16s 650ms/step - loss: 0.0105 - accuracy: 0.9970 - val_loss: 2.6033 - val_accuracy: 0.6300\n",
            "Epoch 48/50\n",
            "25/25 [==============================] - 17s 665ms/step - loss: 0.0038 - accuracy: 0.9996 - val_loss: 2.7867 - val_accuracy: 0.6575\n",
            "Epoch 49/50\n",
            "25/25 [==============================] - 16s 654ms/step - loss: 0.0087 - accuracy: 0.9967 - val_loss: 2.2744 - val_accuracy: 0.6725\n",
            "Epoch 50/50\n",
            "25/25 [==============================] - 17s 663ms/step - loss: 0.0148 - accuracy: 0.9947 - val_loss: 2.6387 - val_accuracy: 0.6625\n"
          ],
          "name": "stdout"
        },
        {
          "output_type": "execute_result",
          "data": {
            "text/plain": [
              "<tensorflow.python.keras.callbacks.History at 0x7f92c1fbcfd0>"
            ]
          },
          "metadata": {
            "tags": []
          },
          "execution_count": 17
        }
      ]
    },
    {
      "cell_type": "code",
      "metadata": {
        "id": "drRBa855Km5a"
      },
      "source": [
        ""
      ],
      "execution_count": 17,
      "outputs": []
    }
  ]
}