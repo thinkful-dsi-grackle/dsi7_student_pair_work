{
  "nbformat": 4,
  "nbformat_minor": 0,
  "metadata": {
    "kernelspec": {
      "display_name": "Python 3",
      "language": "python",
      "name": "python3"
    },
    "language_info": {
      "codemirror_mode": {
        "name": "ipython",
        "version": 3
      },
      "file_extension": ".py",
      "mimetype": "text/x-python",
      "name": "python",
      "nbconvert_exporter": "python",
      "pygments_lexer": "ipython3",
      "version": "3.7.0"
    },
    "colab": {
      "name": "Gee_D79_L1_CNN.ipynb",
      "provenance": [],
      "collapsed_sections": []
    },
    "accelerator": "GPU"
  },
  "cells": [
    {
      "cell_type": "markdown",
      "metadata": {
        "id": "DuT0K8LDKm45"
      },
      "source": [
        "## Convolutional Neural Networks\n",
        "\n",
        "In this assignment, we will learn about convolutional neural networks. We will create a CNN and learn to classify image data."
      ]
    },
    {
      "cell_type": "code",
      "metadata": {
        "colab": {
          "base_uri": "https://localhost:8080/"
        },
        "id": "cvA7_3zI1t1y",
        "outputId": "373a6fe5-dfa3-4e58-cf9d-a038e370328b"
      },
      "source": [
        "from google.colab import drive\n",
        "drive.mount('/content/drive')"
      ],
      "execution_count": 1,
      "outputs": [
        {
          "output_type": "stream",
          "text": [
            "Mounted at /content/drive\n"
          ],
          "name": "stdout"
        }
      ]
    },
    {
      "cell_type": "markdown",
      "metadata": {
        "id": "tMD7Nr8hKm47"
      },
      "source": [
        "In this lecture, we will use the image data generator to classify our data. The data is loaded below:"
      ]
    },
    {
      "cell_type": "code",
      "metadata": {
        "id": "6swIc-rGKm47"
      },
      "source": [
        "import numpy as np\n",
        "import pandas as pd\n",
        "\n",
        "from tensorflow.keras.preprocessing.image import ImageDataGenerator\n",
        "from tensorflow.keras.models import Sequential\n",
        "from tensorflow.keras.layers import Conv2D, MaxPooling2D\n",
        "from tensorflow.keras.layers import Activation, Dropout, Flatten, Dense, BatchNormalization \n",
        "from tensorflow.keras import backend as K\n",
        "from tensorflow.keras.models import Model\n",
        "import time"
      ],
      "execution_count": 15,
      "outputs": []
    },
    {
      "cell_type": "code",
      "metadata": {
        "id": "WxuDmAQlKm4-"
      },
      "source": [
        "train_data_dir = '/content/drive/MyDrive/python_for_data_scientists/C_D/train/'\n",
        "validation_data_dir = '/content/drive/MyDrive/python_for_data_scientists/C_D/test/'\n",
        "\n",
        "img_width, img_height = 150, 150\n",
        "batch_size = 80"
      ],
      "execution_count": 3,
      "outputs": []
    },
    {
      "cell_type": "code",
      "metadata": {
        "id": "SCfRV8VGKm5A"
      },
      "source": [
        "#This block of code is used to ensure the input shape is correct\n",
        "\n",
        "if K.image_data_format() == 'channels_first':\n",
        "    input_shape = (3, img_width, img_height)\n",
        "else:\n",
        "    input_shape = (img_width, img_height, 3)"
      ],
      "execution_count": 4,
      "outputs": []
    },
    {
      "cell_type": "markdown",
      "metadata": {
        "id": "T4x9el54Km5C"
      },
      "source": [
        "Define a train data generator with shear range of 0.3, zoom range of 0.1 and rescale to 1./255 (note that we must make 1 a float to produce a correct fraction). Use the ImageDataGenerator function."
      ]
    },
    {
      "cell_type": "code",
      "metadata": {
        "id": "EfKBxGZpKm5D"
      },
      "source": [
        "# Answer below:\n",
        "train_gen = ImageDataGenerator(\n",
        "    rescale=1. / 255,\n",
        "    shear_range=0.3,\n",
        "    zoom_range=0.1,)\n"
      ],
      "execution_count": 6,
      "outputs": []
    },
    {
      "cell_type": "markdown",
      "metadata": {
        "id": "5oQJZOxNKm5E"
      },
      "source": [
        "Define a test data generator that only rescales to 1./255. Use the ImageDataGenerator function."
      ]
    },
    {
      "cell_type": "code",
      "metadata": {
        "id": "_U3XQZVLKm5F"
      },
      "source": [
        "# Answer below:\n",
        "test_gen = ImageDataGenerator(\n",
        "    rescale = 1. /255)\n"
      ],
      "execution_count": 7,
      "outputs": []
    },
    {
      "cell_type": "markdown",
      "metadata": {
        "id": "S0NCOxrCKm5G"
      },
      "source": [
        "The train generator and the test generator are defined below:"
      ]
    },
    {
      "cell_type": "code",
      "metadata": {
        "id": "zDgonF6uKm5H",
        "colab": {
          "base_uri": "https://localhost:8080/"
        },
        "outputId": "8fc082d9-293f-4ea7-e3aa-2346ba288618"
      },
      "source": [
        "train_generator = train_gen.flow_from_directory(\n",
        "    train_data_dir,\n",
        "    target_size=(img_width, img_height),\n",
        "    batch_size=batch_size,\n",
        "    class_mode='binary')\n",
        "\n",
        "validation_generator = test_gen.flow_from_directory(\n",
        "    validation_data_dir,\n",
        "    target_size=(img_width, img_height),\n",
        "    batch_size=batch_size,\n",
        "    #shuffle=False,\n",
        "    class_mode='binary')"
      ],
      "execution_count": 8,
      "outputs": [
        {
          "output_type": "stream",
          "text": [
            "Found 2000 images belonging to 2 classes.\n",
            "Found 802 images belonging to 2 classes.\n"
          ],
          "name": "stdout"
        }
      ]
    },
    {
      "cell_type": "markdown",
      "metadata": {
        "id": "0lq09r31Km5K"
      },
      "source": [
        "We'll start with a simple model. In CNNs, we first convolve the to extract features and then we add the dense layers. \n",
        "\n",
        "Create a model with one layer of convolution of size 64, one layer of activation, one layer of max pooling with pool size (2,2) and then one flattening layer, one dense layer of unit size 64 with a ReLU activation and one dense output layer. The output layer should have a sigmoid activation."
      ]
    },
    {
      "cell_type": "code",
      "metadata": {
        "id": "8v2TNIt-4qRe"
      },
      "source": [
        "ABRACADABRA = 'sigmoid'"
      ],
      "execution_count": 9,
      "outputs": []
    },
    {
      "cell_type": "code",
      "metadata": {
        "id": "IJqkMx3tKm5K"
      },
      "source": [
        "# Answer below:\n",
        "model = Sequential()\n",
        "\n",
        "model.add(Conv2D(64, (3, 3), input_shape=input_shape))\n",
        "model.add(Activation('relu'))\n",
        "model.add(MaxPooling2D(pool_size=(2, 2)))\n",
        "\n",
        "model.add(Flatten())\n",
        "\n",
        "model.add(Dense(64))\n",
        "model.add(Activation('relu'))\n",
        "\n",
        "model.add(Dense(1))\n",
        "model.add(Activation(ABRACADABRA))\n"
      ],
      "execution_count": 41,
      "outputs": []
    },
    {
      "cell_type": "markdown",
      "metadata": {
        "id": "hEBJ5GXcKm5M"
      },
      "source": [
        "Compile the model using RMSprop."
      ]
    },
    {
      "cell_type": "code",
      "metadata": {
        "id": "85uyZ1yTKm5M"
      },
      "source": [
        "# Answer below:\n",
        "model.compile(loss='binary_crossentropy',\n",
        "              optimizer='rmsprop',\n",
        "              metrics=['accuracy'])\n"
      ],
      "execution_count": 42,
      "outputs": []
    },
    {
      "cell_type": "markdown",
      "metadata": {
        "id": "uIKSpMe-Km5O"
      },
      "source": [
        "Fit the model using a fit generator. Use 50 epochs, 25 training steps and 15 validation steps"
      ]
    },
    {
      "cell_type": "code",
      "metadata": {
        "id": "NFfKyhLzKm5O",
        "colab": {
          "base_uri": "https://localhost:8080/"
        },
        "outputId": "c805c6b1-9331-48ce-8067-f257d3a6f8c0"
      },
      "source": [
        "# Answer below:\n",
        "start = time.time()\n",
        "\n",
        "model.fit(\n",
        "    train_generator,\n",
        "    steps_per_epoch = 25,\n",
        "    epochs = 50,\n",
        "    validation_data = validation_generator,\n",
        "    validation_steps = 10)\n",
        "\n",
        "print('Seconds = ', time.time()-start)"
      ],
      "execution_count": 43,
      "outputs": [
        {
          "output_type": "stream",
          "text": [
            "Epoch 1/50\n",
            "25/25 [==============================] - 19s 729ms/step - loss: 7.0918 - accuracy: 0.4916 - val_loss: 1.1198 - val_accuracy: 0.5013\n",
            "Epoch 2/50\n",
            "25/25 [==============================] - 18s 714ms/step - loss: 0.7921 - accuracy: 0.5366 - val_loss: 0.6388 - val_accuracy: 0.6400\n",
            "Epoch 3/50\n",
            "25/25 [==============================] - 18s 712ms/step - loss: 0.6715 - accuracy: 0.6249 - val_loss: 0.7294 - val_accuracy: 0.5663\n",
            "Epoch 4/50\n",
            "25/25 [==============================] - 18s 722ms/step - loss: 0.6791 - accuracy: 0.5949 - val_loss: 0.7039 - val_accuracy: 0.5700\n",
            "Epoch 5/50\n",
            "25/25 [==============================] - 18s 722ms/step - loss: 0.5898 - accuracy: 0.6961 - val_loss: 0.6141 - val_accuracy: 0.6388\n",
            "Epoch 6/50\n",
            "25/25 [==============================] - 19s 743ms/step - loss: 0.5476 - accuracy: 0.7379 - val_loss: 0.6002 - val_accuracy: 0.6762\n",
            "Epoch 7/50\n",
            "25/25 [==============================] - 18s 724ms/step - loss: 0.5213 - accuracy: 0.7631 - val_loss: 0.6279 - val_accuracy: 0.6900\n",
            "Epoch 8/50\n",
            "25/25 [==============================] - 18s 728ms/step - loss: 0.4820 - accuracy: 0.7473 - val_loss: 0.8101 - val_accuracy: 0.6325\n",
            "Epoch 9/50\n",
            "25/25 [==============================] - 18s 726ms/step - loss: 0.4357 - accuracy: 0.8017 - val_loss: 0.7716 - val_accuracy: 0.6425\n",
            "Epoch 10/50\n",
            "25/25 [==============================] - 18s 722ms/step - loss: 0.4791 - accuracy: 0.8283 - val_loss: 0.7747 - val_accuracy: 0.6625\n",
            "Epoch 11/50\n",
            "25/25 [==============================] - 18s 722ms/step - loss: 0.3746 - accuracy: 0.8291 - val_loss: 0.6685 - val_accuracy: 0.6938\n",
            "Epoch 12/50\n",
            "25/25 [==============================] - 18s 725ms/step - loss: 0.3160 - accuracy: 0.8831 - val_loss: 0.8879 - val_accuracy: 0.5925\n",
            "Epoch 13/50\n",
            "25/25 [==============================] - 18s 730ms/step - loss: 0.2897 - accuracy: 0.8858 - val_loss: 0.7223 - val_accuracy: 0.6737\n",
            "Epoch 14/50\n",
            "25/25 [==============================] - 18s 726ms/step - loss: 0.2633 - accuracy: 0.9038 - val_loss: 0.8235 - val_accuracy: 0.6775\n",
            "Epoch 15/50\n",
            "25/25 [==============================] - 18s 724ms/step - loss: 0.2220 - accuracy: 0.9312 - val_loss: 0.7292 - val_accuracy: 0.6700\n",
            "Epoch 16/50\n",
            "25/25 [==============================] - 21s 831ms/step - loss: 0.2244 - accuracy: 0.9292 - val_loss: 0.8811 - val_accuracy: 0.6800\n",
            "Epoch 17/50\n",
            "25/25 [==============================] - 21s 825ms/step - loss: 0.1885 - accuracy: 0.9351 - val_loss: 0.9358 - val_accuracy: 0.6800\n",
            "Epoch 18/50\n",
            "25/25 [==============================] - 20s 791ms/step - loss: 0.1784 - accuracy: 0.9352 - val_loss: 0.9431 - val_accuracy: 0.6800\n",
            "Epoch 19/50\n",
            "25/25 [==============================] - 20s 817ms/step - loss: 0.1933 - accuracy: 0.9396 - val_loss: 1.0673 - val_accuracy: 0.6775\n",
            "Epoch 20/50\n",
            "25/25 [==============================] - 20s 802ms/step - loss: 0.1477 - accuracy: 0.9425 - val_loss: 1.1132 - val_accuracy: 0.6737\n",
            "Epoch 21/50\n",
            "25/25 [==============================] - 20s 803ms/step - loss: 0.2017 - accuracy: 0.9266 - val_loss: 1.9264 - val_accuracy: 0.6350\n",
            "Epoch 22/50\n",
            "25/25 [==============================] - 20s 820ms/step - loss: 0.2361 - accuracy: 0.9174 - val_loss: 0.9772 - val_accuracy: 0.6687\n",
            "Epoch 23/50\n",
            "25/25 [==============================] - 20s 794ms/step - loss: 0.1133 - accuracy: 0.9632 - val_loss: 0.9750 - val_accuracy: 0.6837\n",
            "Epoch 24/50\n",
            "25/25 [==============================] - 20s 805ms/step - loss: 0.0760 - accuracy: 0.9821 - val_loss: 0.9916 - val_accuracy: 0.6625\n",
            "Epoch 25/50\n",
            "25/25 [==============================] - 20s 784ms/step - loss: 0.0687 - accuracy: 0.9841 - val_loss: 1.2067 - val_accuracy: 0.6762\n",
            "Epoch 26/50\n",
            "25/25 [==============================] - 18s 735ms/step - loss: 0.1014 - accuracy: 0.9644 - val_loss: 1.0810 - val_accuracy: 0.6750\n",
            "Epoch 27/50\n",
            "25/25 [==============================] - 18s 719ms/step - loss: 0.0600 - accuracy: 0.9871 - val_loss: 1.2629 - val_accuracy: 0.6600\n",
            "Epoch 28/50\n",
            "25/25 [==============================] - 18s 719ms/step - loss: 0.0872 - accuracy: 0.9703 - val_loss: 1.3858 - val_accuracy: 0.6687\n",
            "Epoch 29/50\n",
            "25/25 [==============================] - 18s 719ms/step - loss: 0.0502 - accuracy: 0.9910 - val_loss: 1.8263 - val_accuracy: 0.6388\n",
            "Epoch 30/50\n",
            "25/25 [==============================] - 18s 727ms/step - loss: 0.1384 - accuracy: 0.9672 - val_loss: 1.1215 - val_accuracy: 0.6712\n",
            "Epoch 31/50\n",
            "25/25 [==============================] - 18s 720ms/step - loss: 0.0342 - accuracy: 0.9947 - val_loss: 1.3686 - val_accuracy: 0.6700\n",
            "Epoch 32/50\n",
            "25/25 [==============================] - 18s 718ms/step - loss: 0.0505 - accuracy: 0.9835 - val_loss: 1.3470 - val_accuracy: 0.6737\n",
            "Epoch 33/50\n",
            "25/25 [==============================] - 18s 718ms/step - loss: 0.0393 - accuracy: 0.9903 - val_loss: 1.6012 - val_accuracy: 0.6687\n",
            "Epoch 34/50\n",
            "25/25 [==============================] - 18s 725ms/step - loss: 0.0916 - accuracy: 0.9637 - val_loss: 1.1969 - val_accuracy: 0.6725\n",
            "Epoch 35/50\n",
            "25/25 [==============================] - 18s 716ms/step - loss: 0.0256 - accuracy: 0.9981 - val_loss: 1.5109 - val_accuracy: 0.6862\n",
            "Epoch 36/50\n",
            "25/25 [==============================] - 18s 725ms/step - loss: 0.0685 - accuracy: 0.9781 - val_loss: 1.3138 - val_accuracy: 0.6875\n",
            "Epoch 37/50\n",
            "25/25 [==============================] - 18s 720ms/step - loss: 0.0191 - accuracy: 0.9974 - val_loss: 1.4856 - val_accuracy: 0.6675\n",
            "Epoch 38/50\n",
            "25/25 [==============================] - 18s 726ms/step - loss: 0.0540 - accuracy: 0.9887 - val_loss: 1.2814 - val_accuracy: 0.6800\n",
            "Epoch 39/50\n",
            "25/25 [==============================] - 19s 750ms/step - loss: 0.0176 - accuracy: 0.9984 - val_loss: 1.5773 - val_accuracy: 0.6825\n",
            "Epoch 40/50\n",
            "25/25 [==============================] - 18s 718ms/step - loss: 0.1409 - accuracy: 0.9570 - val_loss: 1.5468 - val_accuracy: 0.6862\n",
            "Epoch 41/50\n",
            "25/25 [==============================] - 18s 720ms/step - loss: 0.0468 - accuracy: 0.9908 - val_loss: 1.4081 - val_accuracy: 0.6787\n",
            "Epoch 42/50\n",
            "25/25 [==============================] - 18s 718ms/step - loss: 0.0214 - accuracy: 0.9976 - val_loss: 1.6202 - val_accuracy: 0.6900\n",
            "Epoch 43/50\n",
            "25/25 [==============================] - 18s 724ms/step - loss: 0.0401 - accuracy: 0.9907 - val_loss: 1.4360 - val_accuracy: 0.6687\n",
            "Epoch 44/50\n",
            "25/25 [==============================] - 18s 717ms/step - loss: 0.0120 - accuracy: 0.9994 - val_loss: 1.6157 - val_accuracy: 0.6925\n",
            "Epoch 45/50\n",
            "25/25 [==============================] - 18s 718ms/step - loss: 0.1976 - accuracy: 0.9723 - val_loss: 1.3935 - val_accuracy: 0.6900\n",
            "Epoch 46/50\n",
            "25/25 [==============================] - 18s 721ms/step - loss: 0.0106 - accuracy: 0.9987 - val_loss: 3.6840 - val_accuracy: 0.6425\n",
            "Epoch 47/50\n",
            "25/25 [==============================] - 18s 730ms/step - loss: 0.0903 - accuracy: 0.9729 - val_loss: 1.7316 - val_accuracy: 0.6875\n",
            "Epoch 48/50\n",
            "25/25 [==============================] - 18s 721ms/step - loss: 0.2675 - accuracy: 0.9602 - val_loss: 1.5075 - val_accuracy: 0.6900\n",
            "Epoch 49/50\n",
            "25/25 [==============================] - 18s 717ms/step - loss: 0.0089 - accuracy: 0.9979 - val_loss: 1.7681 - val_accuracy: 0.6925\n",
            "Epoch 50/50\n",
            "25/25 [==============================] - 18s 717ms/step - loss: 0.0500 - accuracy: 0.9834 - val_loss: 1.6077 - val_accuracy: 0.6825\n",
            "Seconds =  923.6247413158417\n"
          ],
          "name": "stdout"
        }
      ]
    },
    {
      "cell_type": "markdown",
      "metadata": {
        "id": "QAZ1IeybKm5Q"
      },
      "source": [
        "Create a new model by adding an additional group of convolution, activation and max pooling layers before the flatten layer. Make the convolution layer of unit size 32. Keep everything else the same."
      ]
    },
    {
      "cell_type": "code",
      "metadata": {
        "id": "651SH4QGKm5Q"
      },
      "source": [
        "# Answer below:\n",
        "\n",
        "model1 = Sequential()\n",
        "\n",
        "model1.add(Conv2D(64, (3, 3), input_shape=input_shape))\n",
        "model1.add(Activation('relu'))\n",
        "model1.add(MaxPooling2D(pool_size=(2, 2)))\n",
        "\n",
        "model1.add(Conv2D(32, (3, 3)))\n",
        "model1.add(Activation('relu'))\n",
        "model1.add(MaxPooling2D(pool_size=(2, 2)))\n",
        "\n",
        "model1.add(Flatten())\n",
        "\n",
        "model1.add(Dense(64))\n",
        "model1.add(Activation('relu'))\n",
        "\n",
        "model1.add(Dense(1))\n",
        "model1.add(Activation(ABRACADABRA))\n"
      ],
      "execution_count": 35,
      "outputs": []
    },
    {
      "cell_type": "markdown",
      "metadata": {
        "id": "fHfpSfgyKm5S"
      },
      "source": [
        "Fit and compile the model in the same way you did with the previous model. How did the results improve?"
      ]
    },
    {
      "cell_type": "code",
      "metadata": {
        "id": "k5nPg_LmKm5S",
        "colab": {
          "base_uri": "https://localhost:8080/"
        },
        "outputId": "c36a700c-6763-48e9-958c-d03ebe522f07"
      },
      "source": [
        "# Answer below:\n",
        "start = time.time()\n",
        "model1.compile(loss='binary_crossentropy',\n",
        "              optimizer='rmsprop',\n",
        "              metrics=['accuracy'])\n",
        "model1.fit(\n",
        "    train_generator,\n",
        "    steps_per_epoch= 25,\n",
        "    epochs = 50,\n",
        "    validation_data = validation_generator,\n",
        "    validation_steps = 10)\n",
        "\n",
        "print('Seconds = ', time.time()-start)"
      ],
      "execution_count": 36,
      "outputs": [
        {
          "output_type": "stream",
          "text": [
            "Epoch 1/50\n",
            "25/25 [==============================] - 20s 768ms/step - loss: 1.6147 - accuracy: 0.5093 - val_loss: 0.6863 - val_accuracy: 0.5100\n",
            "Epoch 2/50\n",
            "25/25 [==============================] - 18s 736ms/step - loss: 0.6917 - accuracy: 0.5436 - val_loss: 0.6853 - val_accuracy: 0.5500\n",
            "Epoch 3/50\n",
            "25/25 [==============================] - 18s 740ms/step - loss: 0.6860 - accuracy: 0.5751 - val_loss: 0.6444 - val_accuracy: 0.6475\n",
            "Epoch 4/50\n",
            "25/25 [==============================] - 18s 733ms/step - loss: 0.8259 - accuracy: 0.5971 - val_loss: 0.6555 - val_accuracy: 0.6612\n",
            "Epoch 5/50\n",
            "25/25 [==============================] - 18s 730ms/step - loss: 0.6323 - accuracy: 0.6924 - val_loss: 0.6369 - val_accuracy: 0.6187\n",
            "Epoch 6/50\n",
            "25/25 [==============================] - 18s 728ms/step - loss: 0.6284 - accuracy: 0.6506 - val_loss: 0.6256 - val_accuracy: 0.6413\n",
            "Epoch 7/50\n",
            "25/25 [==============================] - 18s 734ms/step - loss: 0.5866 - accuracy: 0.7130 - val_loss: 0.6191 - val_accuracy: 0.6700\n",
            "Epoch 8/50\n",
            "25/25 [==============================] - 18s 726ms/step - loss: 0.5483 - accuracy: 0.7205 - val_loss: 0.6329 - val_accuracy: 0.6700\n",
            "Epoch 9/50\n",
            "25/25 [==============================] - 18s 728ms/step - loss: 0.4863 - accuracy: 0.7797 - val_loss: 0.6199 - val_accuracy: 0.6787\n",
            "Epoch 10/50\n",
            "25/25 [==============================] - 18s 732ms/step - loss: 0.4717 - accuracy: 0.7838 - val_loss: 0.6914 - val_accuracy: 0.6850\n",
            "Epoch 11/50\n",
            "25/25 [==============================] - 18s 727ms/step - loss: 0.4164 - accuracy: 0.8065 - val_loss: 0.6781 - val_accuracy: 0.6775\n",
            "Epoch 12/50\n",
            "25/25 [==============================] - 19s 744ms/step - loss: 0.4164 - accuracy: 0.8181 - val_loss: 0.7386 - val_accuracy: 0.6700\n",
            "Epoch 13/50\n",
            "25/25 [==============================] - 18s 728ms/step - loss: 0.3728 - accuracy: 0.8308 - val_loss: 0.7709 - val_accuracy: 0.6938\n",
            "Epoch 14/50\n",
            "25/25 [==============================] - 18s 730ms/step - loss: 0.3115 - accuracy: 0.8672 - val_loss: 0.7078 - val_accuracy: 0.6963\n",
            "Epoch 15/50\n",
            "25/25 [==============================] - 18s 727ms/step - loss: 0.2823 - accuracy: 0.8740 - val_loss: 0.8526 - val_accuracy: 0.6837\n",
            "Epoch 16/50\n",
            "25/25 [==============================] - 18s 734ms/step - loss: 0.3157 - accuracy: 0.8625 - val_loss: 0.7689 - val_accuracy: 0.6812\n",
            "Epoch 17/50\n",
            "25/25 [==============================] - 18s 731ms/step - loss: 0.2147 - accuracy: 0.9179 - val_loss: 0.9943 - val_accuracy: 0.6325\n",
            "Epoch 18/50\n",
            "25/25 [==============================] - 19s 754ms/step - loss: 0.2121 - accuracy: 0.9185 - val_loss: 0.8609 - val_accuracy: 0.6950\n",
            "Epoch 19/50\n",
            "25/25 [==============================] - 18s 729ms/step - loss: 0.1883 - accuracy: 0.9313 - val_loss: 0.8614 - val_accuracy: 0.6687\n",
            "Epoch 20/50\n",
            "25/25 [==============================] - 18s 732ms/step - loss: 0.1548 - accuracy: 0.9525 - val_loss: 0.9801 - val_accuracy: 0.6637\n",
            "Epoch 21/50\n",
            "25/25 [==============================] - 18s 732ms/step - loss: 0.1491 - accuracy: 0.9574 - val_loss: 0.9713 - val_accuracy: 0.7000\n",
            "Epoch 22/50\n",
            "25/25 [==============================] - 18s 726ms/step - loss: 0.1459 - accuracy: 0.9488 - val_loss: 1.0832 - val_accuracy: 0.6938\n",
            "Epoch 23/50\n",
            "25/25 [==============================] - 18s 730ms/step - loss: 0.1649 - accuracy: 0.9362 - val_loss: 1.0037 - val_accuracy: 0.6900\n",
            "Epoch 24/50\n",
            "25/25 [==============================] - 18s 727ms/step - loss: 0.0941 - accuracy: 0.9728 - val_loss: 1.2132 - val_accuracy: 0.7025\n",
            "Epoch 25/50\n",
            "25/25 [==============================] - 18s 731ms/step - loss: 0.0901 - accuracy: 0.9723 - val_loss: 1.2688 - val_accuracy: 0.6875\n",
            "Epoch 26/50\n",
            "25/25 [==============================] - 18s 729ms/step - loss: 0.0640 - accuracy: 0.9820 - val_loss: 1.0979 - val_accuracy: 0.6700\n",
            "Epoch 27/50\n",
            "25/25 [==============================] - 18s 724ms/step - loss: 0.0658 - accuracy: 0.9815 - val_loss: 2.4022 - val_accuracy: 0.6587\n",
            "Epoch 28/50\n",
            "25/25 [==============================] - 18s 728ms/step - loss: 0.1652 - accuracy: 0.9411 - val_loss: 1.1860 - val_accuracy: 0.6712\n",
            "Epoch 29/50\n",
            "25/25 [==============================] - 18s 737ms/step - loss: 0.0421 - accuracy: 0.9891 - val_loss: 1.3731 - val_accuracy: 0.6888\n",
            "Epoch 30/50\n",
            "25/25 [==============================] - 18s 728ms/step - loss: 0.0967 - accuracy: 0.9677 - val_loss: 1.3539 - val_accuracy: 0.6812\n",
            "Epoch 31/50\n",
            "25/25 [==============================] - 18s 722ms/step - loss: 0.0288 - accuracy: 0.9932 - val_loss: 1.3847 - val_accuracy: 0.6900\n",
            "Epoch 32/50\n",
            "25/25 [==============================] - 18s 725ms/step - loss: 0.0258 - accuracy: 0.9952 - val_loss: 2.3628 - val_accuracy: 0.5875\n",
            "Epoch 33/50\n",
            "25/25 [==============================] - 18s 734ms/step - loss: 0.1703 - accuracy: 0.9421 - val_loss: 1.4446 - val_accuracy: 0.6938\n",
            "Epoch 34/50\n",
            "25/25 [==============================] - 18s 732ms/step - loss: 0.0418 - accuracy: 0.9871 - val_loss: 1.8475 - val_accuracy: 0.6837\n",
            "Epoch 35/50\n",
            "25/25 [==============================] - 19s 757ms/step - loss: 0.0294 - accuracy: 0.9937 - val_loss: 1.8099 - val_accuracy: 0.6463\n",
            "Epoch 36/50\n",
            "25/25 [==============================] - 18s 728ms/step - loss: 0.0516 - accuracy: 0.9925 - val_loss: 1.5757 - val_accuracy: 0.6800\n",
            "Epoch 37/50\n",
            "25/25 [==============================] - 18s 726ms/step - loss: 0.0453 - accuracy: 0.9871 - val_loss: 1.6881 - val_accuracy: 0.6725\n",
            "Epoch 38/50\n",
            "25/25 [==============================] - 18s 726ms/step - loss: 0.0191 - accuracy: 0.9946 - val_loss: 1.6913 - val_accuracy: 0.6888\n",
            "Epoch 39/50\n",
            "25/25 [==============================] - 18s 722ms/step - loss: 0.0197 - accuracy: 0.9960 - val_loss: 2.0720 - val_accuracy: 0.6750\n",
            "Epoch 40/50\n",
            "25/25 [==============================] - 18s 724ms/step - loss: 0.0863 - accuracy: 0.9747 - val_loss: 1.5034 - val_accuracy: 0.6888\n",
            "Epoch 41/50\n",
            "25/25 [==============================] - 18s 721ms/step - loss: 0.0126 - accuracy: 0.9958 - val_loss: 1.8696 - val_accuracy: 0.6925\n",
            "Epoch 42/50\n",
            "25/25 [==============================] - 18s 722ms/step - loss: 0.0652 - accuracy: 0.9785 - val_loss: 1.4407 - val_accuracy: 0.7075\n",
            "Epoch 43/50\n",
            "25/25 [==============================] - 18s 725ms/step - loss: 0.0110 - accuracy: 0.9993 - val_loss: 1.8169 - val_accuracy: 0.7013\n",
            "Epoch 44/50\n",
            "25/25 [==============================] - 18s 722ms/step - loss: 0.0278 - accuracy: 0.9953 - val_loss: 1.6182 - val_accuracy: 0.6913\n",
            "Epoch 45/50\n",
            "25/25 [==============================] - 18s 721ms/step - loss: 0.0064 - accuracy: 1.0000 - val_loss: 2.0299 - val_accuracy: 0.6675\n",
            "Epoch 46/50\n",
            "25/25 [==============================] - 18s 731ms/step - loss: 0.0213 - accuracy: 0.9928 - val_loss: 1.8092 - val_accuracy: 0.6925\n",
            "Epoch 47/50\n",
            "25/25 [==============================] - 18s 732ms/step - loss: 0.0089 - accuracy: 0.9972 - val_loss: 2.7878 - val_accuracy: 0.6750\n",
            "Epoch 48/50\n",
            "25/25 [==============================] - 18s 719ms/step - loss: 0.1452 - accuracy: 0.9612 - val_loss: 1.7405 - val_accuracy: 0.6963\n",
            "Epoch 49/50\n",
            "25/25 [==============================] - 18s 721ms/step - loss: 0.0065 - accuracy: 0.9990 - val_loss: 1.6269 - val_accuracy: 0.6800\n",
            "Epoch 50/50\n",
            "25/25 [==============================] - 18s 723ms/step - loss: 0.0061 - accuracy: 0.9997 - val_loss: 2.0638 - val_accuracy: 0.6975\n",
            "Seconds =  911.5177097320557\n"
          ],
          "name": "stdout"
        }
      ]
    },
    {
      "cell_type": "markdown",
      "metadata": {
        "id": "LgKv1_tCKm5U"
      },
      "source": [
        "Create a new model based on the model above. Add an additional dense layer of size 64 with a ReLU activation after the flatten layer."
      ]
    },
    {
      "cell_type": "code",
      "metadata": {
        "id": "KlzEuIt3Km5U"
      },
      "source": [
        "# Answer below:\n",
        "model2 = Sequential()\n",
        "\n",
        "model2.add(Conv2D(64, (3, 3), input_shape=input_shape))\n",
        "model2.add(Activation('relu'))\n",
        "model2.add(MaxPooling2D(pool_size=(2, 2)))\n",
        "\n",
        "model2.add(Conv2D(32, (3, 3)))\n",
        "model2.add(Activation('relu'))\n",
        "model2.add(MaxPooling2D(pool_size=(2, 2)))\n",
        "\n",
        "model2.add(Flatten())\n",
        "\n",
        "model2.add(Dense(64))\n",
        "model2.add(Activation('relu'))\n",
        "\n",
        "model2.add(Dense(64))\n",
        "model2.add(Activation('relu'))\n",
        "\n",
        "model2.add(Dense(1))\n",
        "model2.add(Activation(ABRACADABRA))\n"
      ],
      "execution_count": 37,
      "outputs": []
    },
    {
      "cell_type": "markdown",
      "metadata": {
        "id": "GMg6k7tHKm5W"
      },
      "source": [
        "Fit and compile in the same way as above. Describe the difference in performance and speed."
      ]
    },
    {
      "cell_type": "code",
      "metadata": {
        "id": "pqIEZC6YKm5W",
        "colab": {
          "base_uri": "https://localhost:8080/"
        },
        "outputId": "8728d650-972a-483b-a7df-f68b38a0d481"
      },
      "source": [
        "# Answer below:\n",
        "start = time.time()\n",
        "model2.compile(loss='binary_crossentropy',\n",
        "              optimizer='rmsprop',\n",
        "              metrics=['accuracy'])\n",
        "model2.fit(\n",
        "    train_generator,\n",
        "    steps_per_epoch= 25,\n",
        "    epochs = 50,\n",
        "    validation_data = validation_generator,\n",
        "    validation_steps = 10)\n",
        "\n",
        "print('Seconds = ', time.time()-start)"
      ],
      "execution_count": 38,
      "outputs": [
        {
          "output_type": "stream",
          "text": [
            "Epoch 1/50\n",
            "25/25 [==============================] - 19s 734ms/step - loss: 1.0547 - accuracy: 0.5285 - val_loss: 0.6882 - val_accuracy: 0.5000\n",
            "Epoch 2/50\n",
            "25/25 [==============================] - 18s 743ms/step - loss: 0.7046 - accuracy: 0.5353 - val_loss: 0.7804 - val_accuracy: 0.5000\n",
            "Epoch 3/50\n",
            "25/25 [==============================] - 18s 720ms/step - loss: 0.7571 - accuracy: 0.5464 - val_loss: 0.6671 - val_accuracy: 0.6112\n",
            "Epoch 4/50\n",
            "25/25 [==============================] - 18s 715ms/step - loss: 0.6900 - accuracy: 0.5754 - val_loss: 0.6740 - val_accuracy: 0.6212\n",
            "Epoch 5/50\n",
            "25/25 [==============================] - 18s 714ms/step - loss: 0.6347 - accuracy: 0.6705 - val_loss: 0.6516 - val_accuracy: 0.6525\n",
            "Epoch 6/50\n",
            "25/25 [==============================] - 18s 721ms/step - loss: 0.6534 - accuracy: 0.7015 - val_loss: 0.6229 - val_accuracy: 0.6275\n",
            "Epoch 7/50\n",
            "25/25 [==============================] - 18s 712ms/step - loss: 0.5884 - accuracy: 0.6976 - val_loss: 0.6226 - val_accuracy: 0.6562\n",
            "Epoch 8/50\n",
            "25/25 [==============================] - 18s 717ms/step - loss: 0.5262 - accuracy: 0.7595 - val_loss: 0.6052 - val_accuracy: 0.6950\n",
            "Epoch 9/50\n",
            "25/25 [==============================] - 18s 715ms/step - loss: 0.4859 - accuracy: 0.7782 - val_loss: 0.6453 - val_accuracy: 0.6500\n",
            "Epoch 10/50\n",
            "25/25 [==============================] - 18s 719ms/step - loss: 0.4369 - accuracy: 0.8164 - val_loss: 0.9812 - val_accuracy: 0.6237\n",
            "Epoch 11/50\n",
            "25/25 [==============================] - 18s 711ms/step - loss: 0.4338 - accuracy: 0.7907 - val_loss: 0.6759 - val_accuracy: 0.6762\n",
            "Epoch 12/50\n",
            "25/25 [==============================] - 18s 712ms/step - loss: 0.3488 - accuracy: 0.8639 - val_loss: 0.6520 - val_accuracy: 0.6737\n",
            "Epoch 13/50\n",
            "25/25 [==============================] - 18s 731ms/step - loss: 0.4182 - accuracy: 0.8472 - val_loss: 0.7137 - val_accuracy: 0.6850\n",
            "Epoch 14/50\n",
            "25/25 [==============================] - 18s 741ms/step - loss: 0.2759 - accuracy: 0.8837 - val_loss: 0.7934 - val_accuracy: 0.6862\n",
            "Epoch 15/50\n",
            "25/25 [==============================] - 19s 753ms/step - loss: 0.3466 - accuracy: 0.8888 - val_loss: 0.9910 - val_accuracy: 0.6363\n",
            "Epoch 16/50\n",
            "25/25 [==============================] - 19s 743ms/step - loss: 0.2200 - accuracy: 0.9138 - val_loss: 0.8747 - val_accuracy: 0.6975\n",
            "Epoch 17/50\n",
            "25/25 [==============================] - 18s 728ms/step - loss: 0.1737 - accuracy: 0.9256 - val_loss: 0.9486 - val_accuracy: 0.6862\n",
            "Epoch 18/50\n",
            "25/25 [==============================] - 18s 729ms/step - loss: 0.1596 - accuracy: 0.9374 - val_loss: 0.9802 - val_accuracy: 0.6787\n",
            "Epoch 19/50\n",
            "25/25 [==============================] - 19s 751ms/step - loss: 0.2712 - accuracy: 0.9022 - val_loss: 1.0536 - val_accuracy: 0.6737\n",
            "Epoch 20/50\n",
            "25/25 [==============================] - 19s 745ms/step - loss: 0.1300 - accuracy: 0.9499 - val_loss: 1.1178 - val_accuracy: 0.6875\n",
            "Epoch 21/50\n",
            "25/25 [==============================] - 18s 717ms/step - loss: 0.1389 - accuracy: 0.9497 - val_loss: 1.2339 - val_accuracy: 0.6587\n",
            "Epoch 22/50\n",
            "25/25 [==============================] - 18s 721ms/step - loss: 0.1930 - accuracy: 0.9462 - val_loss: 1.0019 - val_accuracy: 0.6812\n",
            "Epoch 23/50\n",
            "25/25 [==============================] - 18s 721ms/step - loss: 0.0528 - accuracy: 0.9901 - val_loss: 1.1680 - val_accuracy: 0.7025\n",
            "Epoch 24/50\n",
            "25/25 [==============================] - 18s 730ms/step - loss: 0.3236 - accuracy: 0.9411 - val_loss: 0.9748 - val_accuracy: 0.6913\n",
            "Epoch 25/50\n",
            "25/25 [==============================] - 18s 715ms/step - loss: 0.0474 - accuracy: 0.9911 - val_loss: 1.2837 - val_accuracy: 0.7013\n",
            "Epoch 26/50\n",
            "25/25 [==============================] - 18s 724ms/step - loss: 0.0373 - accuracy: 0.9904 - val_loss: 1.5343 - val_accuracy: 0.6975\n",
            "Epoch 27/50\n",
            "25/25 [==============================] - 18s 724ms/step - loss: 0.1292 - accuracy: 0.9535 - val_loss: 1.3366 - val_accuracy: 0.6950\n",
            "Epoch 28/50\n",
            "25/25 [==============================] - 18s 723ms/step - loss: 0.2237 - accuracy: 0.9284 - val_loss: 1.2476 - val_accuracy: 0.6963\n",
            "Epoch 29/50\n",
            "25/25 [==============================] - 18s 724ms/step - loss: 0.0310 - accuracy: 0.9903 - val_loss: 1.7444 - val_accuracy: 0.6587\n",
            "Epoch 30/50\n",
            "25/25 [==============================] - 18s 721ms/step - loss: 0.2313 - accuracy: 0.9245 - val_loss: 1.4680 - val_accuracy: 0.6938\n",
            "Epoch 31/50\n",
            "25/25 [==============================] - 18s 714ms/step - loss: 0.0344 - accuracy: 0.9851 - val_loss: 1.5402 - val_accuracy: 0.6963\n",
            "Epoch 32/50\n",
            "25/25 [==============================] - 18s 714ms/step - loss: 0.0286 - accuracy: 0.9913 - val_loss: 1.6271 - val_accuracy: 0.7100\n",
            "Epoch 33/50\n",
            "25/25 [==============================] - 18s 721ms/step - loss: 0.1990 - accuracy: 0.9510 - val_loss: 1.5026 - val_accuracy: 0.6712\n",
            "Epoch 34/50\n",
            "25/25 [==============================] - 18s 715ms/step - loss: 0.0179 - accuracy: 0.9962 - val_loss: 1.7932 - val_accuracy: 0.7013\n",
            "Epoch 35/50\n",
            "25/25 [==============================] - 18s 714ms/step - loss: 0.0870 - accuracy: 0.9732 - val_loss: 1.7156 - val_accuracy: 0.6762\n",
            "Epoch 36/50\n",
            "25/25 [==============================] - 18s 712ms/step - loss: 0.0475 - accuracy: 0.9868 - val_loss: 1.6970 - val_accuracy: 0.6850\n",
            "Epoch 37/50\n",
            "25/25 [==============================] - 19s 745ms/step - loss: 0.0160 - accuracy: 0.9961 - val_loss: 1.6233 - val_accuracy: 0.6900\n",
            "Epoch 38/50\n",
            "25/25 [==============================] - 18s 710ms/step - loss: 0.0891 - accuracy: 0.9925 - val_loss: 1.3599 - val_accuracy: 0.6800\n",
            "Epoch 39/50\n",
            "25/25 [==============================] - 18s 713ms/step - loss: 0.0211 - accuracy: 0.9961 - val_loss: 1.5175 - val_accuracy: 0.7063\n",
            "Epoch 40/50\n",
            "25/25 [==============================] - 18s 714ms/step - loss: 0.0111 - accuracy: 0.9967 - val_loss: 1.7311 - val_accuracy: 0.6975\n",
            "Epoch 41/50\n",
            "25/25 [==============================] - 18s 716ms/step - loss: 0.0084 - accuracy: 0.9970 - val_loss: 4.4859 - val_accuracy: 0.6388\n",
            "Epoch 42/50\n",
            "25/25 [==============================] - 18s 717ms/step - loss: 1.3593 - accuracy: 0.8807 - val_loss: 1.5185 - val_accuracy: 0.7025\n",
            "Epoch 43/50\n",
            "25/25 [==============================] - 18s 714ms/step - loss: 0.0062 - accuracy: 0.9979 - val_loss: 1.7198 - val_accuracy: 0.6950\n",
            "Epoch 44/50\n",
            "25/25 [==============================] - 18s 714ms/step - loss: 0.0067 - accuracy: 0.9964 - val_loss: 2.0222 - val_accuracy: 0.6675\n",
            "Epoch 45/50\n",
            "25/25 [==============================] - 18s 709ms/step - loss: 1.0188 - accuracy: 0.9022 - val_loss: 1.6641 - val_accuracy: 0.6600\n",
            "Epoch 46/50\n",
            "25/25 [==============================] - 18s 718ms/step - loss: 0.0067 - accuracy: 0.9977 - val_loss: 1.9203 - val_accuracy: 0.6900\n",
            "Epoch 47/50\n",
            "25/25 [==============================] - 18s 716ms/step - loss: 0.0158 - accuracy: 0.9954 - val_loss: 2.2864 - val_accuracy: 0.6913\n",
            "Epoch 48/50\n",
            "25/25 [==============================] - 18s 710ms/step - loss: 0.2767 - accuracy: 0.9745 - val_loss: 1.5839 - val_accuracy: 0.6762\n",
            "Epoch 49/50\n",
            "25/25 [==============================] - 18s 723ms/step - loss: 0.0084 - accuracy: 0.9989 - val_loss: 1.7202 - val_accuracy: 0.6963\n",
            "Epoch 50/50\n",
            "25/25 [==============================] - 18s 724ms/step - loss: 0.0063 - accuracy: 0.9993 - val_loss: 2.0294 - val_accuracy: 0.6825\n",
            "Seconds =  901.3062510490417\n"
          ],
          "name": "stdout"
        }
      ]
    },
    {
      "cell_type": "markdown",
      "metadata": {
        "id": "iRCyPKJfKm5Y"
      },
      "source": [
        "Fit and compile using the Adam optimizer. Describe the difference in performance between the Adam and RMSprop optimizers."
      ]
    },
    {
      "cell_type": "code",
      "metadata": {
        "id": "eqzQbCl8Km5Z"
      },
      "source": [
        "# Answer below:\n",
        "model3 = Sequential()\n",
        "\n",
        "model3.add(Conv2D(64, (3, 3), input_shape=input_shape))\n",
        "model3.add(Activation('relu'))\n",
        "model3.add(MaxPooling2D(pool_size=(2, 2)))\n",
        "\n",
        "model3.add(Conv2D(32, (3, 3)))\n",
        "model3.add(Activation('relu'))\n",
        "model3.add(MaxPooling2D(pool_size=(2, 2)))\n",
        "\n",
        "model3.add(Flatten())\n",
        "\n",
        "model3.add(Dense(64))\n",
        "model3.add(Activation('relu'))\n",
        "\n",
        "model3.add(Dense(64))\n",
        "model3.add(Activation('relu'))\n",
        "\n",
        "model3.add(Dense(1))\n",
        "model3.add(Activation(ABRACADABRA))\n"
      ],
      "execution_count": 39,
      "outputs": []
    },
    {
      "cell_type": "code",
      "metadata": {
        "id": "drRBa855Km5a",
        "colab": {
          "base_uri": "https://localhost:8080/"
        },
        "outputId": "1367bb1f-25f0-43e4-faa8-2ad490dc6b81"
      },
      "source": [
        "start = time.time()\r\n",
        "model3.compile(loss='binary_crossentropy',\r\n",
        "              optimizer='rmsprop',\r\n",
        "              metrics=['accuracy'])\r\n",
        "model3.fit(\r\n",
        "    train_generator,\r\n",
        "    steps_per_epoch= 25,\r\n",
        "    epochs = 50,\r\n",
        "    validation_data = validation_generator,\r\n",
        "    validation_steps = 10)\r\n",
        "\r\n",
        "\r\n",
        "\r\n",
        "print('Seconds = ', time.time()-start)"
      ],
      "execution_count": 40,
      "outputs": [
        {
          "output_type": "stream",
          "text": [
            "Epoch 1/50\n",
            "25/25 [==============================] - 19s 730ms/step - loss: 1.4416 - accuracy: 0.4962 - val_loss: 0.6861 - val_accuracy: 0.5000\n",
            "Epoch 2/50\n",
            "25/25 [==============================] - 18s 718ms/step - loss: 0.6894 - accuracy: 0.5333 - val_loss: 0.6805 - val_accuracy: 0.5325\n",
            "Epoch 3/50\n",
            "25/25 [==============================] - 18s 727ms/step - loss: 0.7257 - accuracy: 0.5630 - val_loss: 0.6832 - val_accuracy: 0.6300\n",
            "Epoch 4/50\n",
            "25/25 [==============================] - 19s 779ms/step - loss: 0.6895 - accuracy: 0.5965 - val_loss: 0.6610 - val_accuracy: 0.6100\n",
            "Epoch 5/50\n",
            "25/25 [==============================] - 19s 764ms/step - loss: 0.6580 - accuracy: 0.6607 - val_loss: 0.6601 - val_accuracy: 0.6525\n",
            "Epoch 6/50\n",
            "25/25 [==============================] - 18s 734ms/step - loss: 0.6436 - accuracy: 0.6666 - val_loss: 0.7713 - val_accuracy: 0.5138\n",
            "Epoch 7/50\n",
            "25/25 [==============================] - 18s 729ms/step - loss: 0.6153 - accuracy: 0.6654 - val_loss: 0.6825 - val_accuracy: 0.6137\n",
            "Epoch 8/50\n",
            "25/25 [==============================] - 18s 723ms/step - loss: 0.6109 - accuracy: 0.7351 - val_loss: 0.6085 - val_accuracy: 0.6775\n",
            "Epoch 9/50\n",
            "25/25 [==============================] - 18s 728ms/step - loss: 0.5155 - accuracy: 0.7641 - val_loss: 0.6229 - val_accuracy: 0.6938\n",
            "Epoch 10/50\n",
            "25/25 [==============================] - 18s 730ms/step - loss: 0.6872 - accuracy: 0.7452 - val_loss: 0.5994 - val_accuracy: 0.6875\n",
            "Epoch 11/50\n",
            "25/25 [==============================] - 18s 724ms/step - loss: 0.4691 - accuracy: 0.8018 - val_loss: 0.6096 - val_accuracy: 0.7113\n",
            "Epoch 12/50\n",
            "25/25 [==============================] - 18s 732ms/step - loss: 0.4013 - accuracy: 0.8204 - val_loss: 0.6831 - val_accuracy: 0.7025\n",
            "Epoch 13/50\n",
            "25/25 [==============================] - 18s 743ms/step - loss: 0.3731 - accuracy: 0.8302 - val_loss: 0.9041 - val_accuracy: 0.6187\n",
            "Epoch 14/50\n",
            "25/25 [==============================] - 18s 730ms/step - loss: 0.4379 - accuracy: 0.8115 - val_loss: 0.6942 - val_accuracy: 0.7025\n",
            "Epoch 15/50\n",
            "25/25 [==============================] - 18s 718ms/step - loss: 0.3011 - accuracy: 0.8716 - val_loss: 0.7320 - val_accuracy: 0.6850\n",
            "Epoch 16/50\n",
            "25/25 [==============================] - 18s 723ms/step - loss: 0.2943 - accuracy: 0.8681 - val_loss: 0.7505 - val_accuracy: 0.6925\n",
            "Epoch 17/50\n",
            "25/25 [==============================] - 18s 722ms/step - loss: 0.2581 - accuracy: 0.8990 - val_loss: 0.9503 - val_accuracy: 0.6988\n",
            "Epoch 18/50\n",
            "25/25 [==============================] - 18s 726ms/step - loss: 0.2553 - accuracy: 0.8942 - val_loss: 0.8505 - val_accuracy: 0.6925\n",
            "Epoch 19/50\n",
            "25/25 [==============================] - 18s 724ms/step - loss: 0.2095 - accuracy: 0.9197 - val_loss: 0.8421 - val_accuracy: 0.6875\n",
            "Epoch 20/50\n",
            "25/25 [==============================] - 18s 722ms/step - loss: 0.1370 - accuracy: 0.9516 - val_loss: 1.1239 - val_accuracy: 0.6750\n",
            "Epoch 21/50\n",
            "25/25 [==============================] - 19s 748ms/step - loss: 0.2011 - accuracy: 0.9176 - val_loss: 0.8241 - val_accuracy: 0.7000\n",
            "Epoch 22/50\n",
            "25/25 [==============================] - 18s 720ms/step - loss: 0.0866 - accuracy: 0.9778 - val_loss: 1.2793 - val_accuracy: 0.6438\n",
            "Epoch 23/50\n",
            "25/25 [==============================] - 18s 725ms/step - loss: 0.1488 - accuracy: 0.9490 - val_loss: 1.1144 - val_accuracy: 0.6975\n",
            "Epoch 24/50\n",
            "25/25 [==============================] - 18s 720ms/step - loss: 0.1493 - accuracy: 0.9460 - val_loss: 1.0703 - val_accuracy: 0.7125\n",
            "Epoch 25/50\n",
            "25/25 [==============================] - 18s 717ms/step - loss: 0.0769 - accuracy: 0.9757 - val_loss: 1.0960 - val_accuracy: 0.6950\n",
            "Epoch 26/50\n",
            "25/25 [==============================] - 18s 722ms/step - loss: 0.0521 - accuracy: 0.9820 - val_loss: 1.2072 - val_accuracy: 0.7063\n",
            "Epoch 27/50\n",
            "25/25 [==============================] - 18s 729ms/step - loss: 0.0420 - accuracy: 0.9887 - val_loss: 1.0377 - val_accuracy: 0.6938\n",
            "Epoch 28/50\n",
            "25/25 [==============================] - 18s 719ms/step - loss: 0.0544 - accuracy: 0.9871 - val_loss: 1.2320 - val_accuracy: 0.6888\n",
            "Epoch 29/50\n",
            "25/25 [==============================] - 18s 719ms/step - loss: 0.0473 - accuracy: 0.9894 - val_loss: 1.1702 - val_accuracy: 0.6975\n",
            "Epoch 30/50\n",
            "25/25 [==============================] - 18s 727ms/step - loss: 0.0334 - accuracy: 0.9922 - val_loss: 1.5070 - val_accuracy: 0.6900\n",
            "Epoch 31/50\n",
            "25/25 [==============================] - 18s 716ms/step - loss: 0.0476 - accuracy: 0.9835 - val_loss: 1.6648 - val_accuracy: 0.6900\n",
            "Epoch 32/50\n",
            "25/25 [==============================] - 18s 722ms/step - loss: 0.0507 - accuracy: 0.9830 - val_loss: 1.6033 - val_accuracy: 0.6837\n",
            "Epoch 33/50\n",
            "25/25 [==============================] - 18s 717ms/step - loss: 0.1880 - accuracy: 0.9806 - val_loss: 1.2941 - val_accuracy: 0.6875\n",
            "Epoch 34/50\n",
            "25/25 [==============================] - 18s 717ms/step - loss: 0.0197 - accuracy: 0.9971 - val_loss: 1.5693 - val_accuracy: 0.6812\n",
            "Epoch 35/50\n",
            "25/25 [==============================] - 18s 720ms/step - loss: 0.0066 - accuracy: 0.9998 - val_loss: 1.8343 - val_accuracy: 0.6963\n",
            "Epoch 36/50\n",
            "25/25 [==============================] - 18s 722ms/step - loss: 0.1264 - accuracy: 0.9705 - val_loss: 1.6847 - val_accuracy: 0.6888\n",
            "Epoch 37/50\n",
            "25/25 [==============================] - 18s 717ms/step - loss: 0.0196 - accuracy: 0.9962 - val_loss: 1.3162 - val_accuracy: 0.6862\n",
            "Epoch 38/50\n",
            "25/25 [==============================] - 18s 735ms/step - loss: 0.0226 - accuracy: 0.9937 - val_loss: 1.7750 - val_accuracy: 0.6888\n",
            "Epoch 39/50\n",
            "25/25 [==============================] - 18s 722ms/step - loss: 0.0440 - accuracy: 0.9883 - val_loss: 1.4045 - val_accuracy: 0.7100\n",
            "Epoch 40/50\n",
            "25/25 [==============================] - 18s 721ms/step - loss: 0.0082 - accuracy: 0.9990 - val_loss: 1.6966 - val_accuracy: 0.6988\n",
            "Epoch 41/50\n",
            "25/25 [==============================] - 18s 719ms/step - loss: 0.0227 - accuracy: 0.9919 - val_loss: 1.7018 - val_accuracy: 0.7050\n",
            "Epoch 42/50\n",
            "25/25 [==============================] - 18s 714ms/step - loss: 0.0088 - accuracy: 0.9979 - val_loss: 5.2309 - val_accuracy: 0.5362\n",
            "Epoch 43/50\n",
            "25/25 [==============================] - 18s 718ms/step - loss: 0.2960 - accuracy: 0.9414 - val_loss: 1.7242 - val_accuracy: 0.6712\n",
            "Epoch 44/50\n",
            "25/25 [==============================] - 18s 718ms/step - loss: 0.0522 - accuracy: 0.9881 - val_loss: 1.6652 - val_accuracy: 0.6900\n",
            "Epoch 45/50\n",
            "25/25 [==============================] - 18s 720ms/step - loss: 0.0231 - accuracy: 0.9951 - val_loss: 1.7479 - val_accuracy: 0.6862\n",
            "Epoch 46/50\n",
            "25/25 [==============================] - 18s 713ms/step - loss: 0.0446 - accuracy: 0.9900 - val_loss: 1.5010 - val_accuracy: 0.6900\n",
            "Epoch 47/50\n",
            "25/25 [==============================] - 18s 723ms/step - loss: 0.0095 - accuracy: 0.9978 - val_loss: 1.8173 - val_accuracy: 0.6900\n",
            "Epoch 48/50\n",
            "25/25 [==============================] - 18s 711ms/step - loss: 0.0015 - accuracy: 0.9999 - val_loss: 2.5850 - val_accuracy: 0.6862\n",
            "Epoch 49/50\n",
            "25/25 [==============================] - 18s 713ms/step - loss: 0.2753 - accuracy: 0.9440 - val_loss: 1.9231 - val_accuracy: 0.7013\n",
            "Epoch 50/50\n",
            "25/25 [==============================] - 18s 720ms/step - loss: 0.0128 - accuracy: 0.9966 - val_loss: 1.7696 - val_accuracy: 0.7000\n",
            "Seconds =  904.9304416179657\n"
          ],
          "name": "stdout"
        }
      ]
    }
  ]
}