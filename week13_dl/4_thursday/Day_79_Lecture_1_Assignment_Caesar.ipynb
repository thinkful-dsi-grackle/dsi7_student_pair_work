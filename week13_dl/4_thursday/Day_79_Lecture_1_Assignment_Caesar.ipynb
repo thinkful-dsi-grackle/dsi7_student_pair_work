{
  "nbformat": 4,
  "nbformat_minor": 0,
  "metadata": {
    "kernelspec": {
      "display_name": "Python 3",
      "language": "python",
      "name": "python3"
    },
    "language_info": {
      "codemirror_mode": {
        "name": "ipython",
        "version": 3
      },
      "file_extension": ".py",
      "mimetype": "text/x-python",
      "name": "python",
      "nbconvert_exporter": "python",
      "pygments_lexer": "ipython3",
      "version": "3.7.0"
    },
    "colab": {
      "name": "Day 79 Lecture 1 Assignment_Caesar.ipynb",
      "provenance": [],
      "collapsed_sections": []
    },
    "accelerator": "GPU"
  },
  "cells": [
    {
      "cell_type": "markdown",
      "metadata": {
        "id": "DuT0K8LDKm45"
      },
      "source": [
        "## Convolutional Neural Networks\n",
        "\n",
        "In this assignment, we will learn about convolutional neural networks. We will create a CNN and learn to classify image data."
      ]
    },
    {
      "cell_type": "markdown",
      "metadata": {
        "id": "tMD7Nr8hKm47"
      },
      "source": [
        "In this lecture, we will use the image data generator to classify our data. The data is loaded below:"
      ]
    },
    {
      "cell_type": "code",
      "metadata": {
        "colab": {
          "base_uri": "https://localhost:8080/",
          "height": 1000
        },
        "id": "UaJKU1wrMIeZ",
        "outputId": "1996d59c-c18d-40ef-9396-d149548c8f39"
      },
      "source": [
        "!pip install tensorflow-gpu\r\n",
        "!pip install tf-nightly"
      ],
      "execution_count": 31,
      "outputs": [
        {
          "output_type": "stream",
          "text": [
            "Collecting tensorflow-gpu\n",
            "\u001b[?25l  Downloading https://files.pythonhosted.org/packages/f1/aa/ae64be5acaac9055329289e6bfd54c1efa28bfe792f9021cea495fe2b89d/tensorflow_gpu-2.4.0-cp36-cp36m-manylinux2010_x86_64.whl (394.7MB)\n",
            "\u001b[K     |████████████████████████████████| 394.7MB 45kB/s \n",
            "\u001b[?25hRequirement already satisfied: numpy~=1.19.2 in /usr/local/lib/python3.6/dist-packages (from tensorflow-gpu) (1.19.4)\n",
            "Requirement already satisfied: wheel~=0.35 in /usr/local/lib/python3.6/dist-packages (from tensorflow-gpu) (0.36.2)\n",
            "Requirement already satisfied: flatbuffers~=1.12.0 in /usr/local/lib/python3.6/dist-packages (from tensorflow-gpu) (1.12)\n",
            "Requirement already satisfied: wrapt~=1.12.1 in /usr/local/lib/python3.6/dist-packages (from tensorflow-gpu) (1.12.1)\n",
            "Requirement already satisfied: tensorboard~=2.4 in /usr/local/lib/python3.6/dist-packages (from tensorflow-gpu) (2.4.0)\n",
            "Requirement already satisfied: tensorflow-estimator<2.5.0,>=2.4.0rc0 in /usr/local/lib/python3.6/dist-packages (from tensorflow-gpu) (2.4.0)\n",
            "Requirement already satisfied: six~=1.15.0 in /usr/local/lib/python3.6/dist-packages (from tensorflow-gpu) (1.15.0)\n",
            "Requirement already satisfied: keras-preprocessing~=1.1.2 in /usr/local/lib/python3.6/dist-packages (from tensorflow-gpu) (1.1.2)\n",
            "Requirement already satisfied: opt-einsum~=3.3.0 in /usr/local/lib/python3.6/dist-packages (from tensorflow-gpu) (3.3.0)\n",
            "Requirement already satisfied: gast==0.3.3 in /usr/local/lib/python3.6/dist-packages (from tensorflow-gpu) (0.3.3)\n",
            "Requirement already satisfied: google-pasta~=0.2 in /usr/local/lib/python3.6/dist-packages (from tensorflow-gpu) (0.2.0)\n",
            "Requirement already satisfied: termcolor~=1.1.0 in /usr/local/lib/python3.6/dist-packages (from tensorflow-gpu) (1.1.0)\n",
            "Requirement already satisfied: typing-extensions~=3.7.4 in /usr/local/lib/python3.6/dist-packages (from tensorflow-gpu) (3.7.4.3)\n",
            "Requirement already satisfied: h5py~=2.10.0 in /usr/local/lib/python3.6/dist-packages (from tensorflow-gpu) (2.10.0)\n",
            "Requirement already satisfied: grpcio~=1.32.0 in /usr/local/lib/python3.6/dist-packages (from tensorflow-gpu) (1.32.0)\n",
            "Requirement already satisfied: astunparse~=1.6.3 in /usr/local/lib/python3.6/dist-packages (from tensorflow-gpu) (1.6.3)\n",
            "Requirement already satisfied: protobuf>=3.9.2 in /usr/local/lib/python3.6/dist-packages (from tensorflow-gpu) (3.12.4)\n",
            "Requirement already satisfied: absl-py~=0.10 in /usr/local/lib/python3.6/dist-packages (from tensorflow-gpu) (0.10.0)\n",
            "Requirement already satisfied: tensorboard-plugin-wit>=1.6.0 in /usr/local/lib/python3.6/dist-packages (from tensorboard~=2.4->tensorflow-gpu) (1.7.0)\n",
            "Requirement already satisfied: werkzeug>=0.11.15 in /usr/local/lib/python3.6/dist-packages (from tensorboard~=2.4->tensorflow-gpu) (1.0.1)\n",
            "Requirement already satisfied: requests<3,>=2.21.0 in /usr/local/lib/python3.6/dist-packages (from tensorboard~=2.4->tensorflow-gpu) (2.23.0)\n",
            "Requirement already satisfied: google-auth-oauthlib<0.5,>=0.4.1 in /usr/local/lib/python3.6/dist-packages (from tensorboard~=2.4->tensorflow-gpu) (0.4.2)\n",
            "Requirement already satisfied: google-auth<2,>=1.6.3 in /usr/local/lib/python3.6/dist-packages (from tensorboard~=2.4->tensorflow-gpu) (1.17.2)\n",
            "Requirement already satisfied: markdown>=2.6.8 in /usr/local/lib/python3.6/dist-packages (from tensorboard~=2.4->tensorflow-gpu) (3.3.3)\n",
            "Requirement already satisfied: setuptools>=41.0.0 in /usr/local/lib/python3.6/dist-packages (from tensorboard~=2.4->tensorflow-gpu) (51.1.1)\n",
            "Requirement already satisfied: idna<3,>=2.5 in /usr/local/lib/python3.6/dist-packages (from requests<3,>=2.21.0->tensorboard~=2.4->tensorflow-gpu) (2.10)\n",
            "Requirement already satisfied: urllib3!=1.25.0,!=1.25.1,<1.26,>=1.21.1 in /usr/local/lib/python3.6/dist-packages (from requests<3,>=2.21.0->tensorboard~=2.4->tensorflow-gpu) (1.24.3)\n",
            "Requirement already satisfied: chardet<4,>=3.0.2 in /usr/local/lib/python3.6/dist-packages (from requests<3,>=2.21.0->tensorboard~=2.4->tensorflow-gpu) (3.0.4)\n",
            "Requirement already satisfied: certifi>=2017.4.17 in /usr/local/lib/python3.6/dist-packages (from requests<3,>=2.21.0->tensorboard~=2.4->tensorflow-gpu) (2020.12.5)\n",
            "Requirement already satisfied: requests-oauthlib>=0.7.0 in /usr/local/lib/python3.6/dist-packages (from google-auth-oauthlib<0.5,>=0.4.1->tensorboard~=2.4->tensorflow-gpu) (1.3.0)\n",
            "Requirement already satisfied: rsa<5,>=3.1.4; python_version >= \"3\" in /usr/local/lib/python3.6/dist-packages (from google-auth<2,>=1.6.3->tensorboard~=2.4->tensorflow-gpu) (4.6)\n",
            "Requirement already satisfied: cachetools<5.0,>=2.0.0 in /usr/local/lib/python3.6/dist-packages (from google-auth<2,>=1.6.3->tensorboard~=2.4->tensorflow-gpu) (4.2.0)\n",
            "Requirement already satisfied: pyasn1-modules>=0.2.1 in /usr/local/lib/python3.6/dist-packages (from google-auth<2,>=1.6.3->tensorboard~=2.4->tensorflow-gpu) (0.2.8)\n",
            "Requirement already satisfied: importlib-metadata; python_version < \"3.8\" in /usr/local/lib/python3.6/dist-packages (from markdown>=2.6.8->tensorboard~=2.4->tensorflow-gpu) (3.3.0)\n",
            "Requirement already satisfied: oauthlib>=3.0.0 in /usr/local/lib/python3.6/dist-packages (from requests-oauthlib>=0.7.0->google-auth-oauthlib<0.5,>=0.4.1->tensorboard~=2.4->tensorflow-gpu) (3.1.0)\n",
            "Requirement already satisfied: pyasn1>=0.1.3 in /usr/local/lib/python3.6/dist-packages (from rsa<5,>=3.1.4; python_version >= \"3\"->google-auth<2,>=1.6.3->tensorboard~=2.4->tensorflow-gpu) (0.4.8)\n",
            "Requirement already satisfied: zipp>=0.5 in /usr/local/lib/python3.6/dist-packages (from importlib-metadata; python_version < \"3.8\"->markdown>=2.6.8->tensorboard~=2.4->tensorflow-gpu) (3.4.0)\n",
            "Installing collected packages: tensorflow-gpu\n",
            "Successfully installed tensorflow-gpu-2.4.0\n"
          ],
          "name": "stdout"
        },
        {
          "output_type": "display_data",
          "data": {
            "application/vnd.colab-display-data+json": {
              "pip_warning": {
                "packages": [
                  "tensorflow"
                ]
              }
            }
          },
          "metadata": {
            "tags": []
          }
        },
        {
          "output_type": "stream",
          "text": [
            "Collecting tf-nightly\n",
            "\u001b[?25l  Downloading https://files.pythonhosted.org/packages/b7/b5/b86174633d698972ef438aa9719909f82c36cfdff21f5ed34037e47fd77a/tf_nightly-2.5.0.dev20210107-cp36-cp36m-manylinux2010_x86_64.whl (399.9MB)\n",
            "\u001b[K     |████████████████████████████████| 399.9MB 42kB/s \n",
            "\u001b[?25hRequirement already satisfied: flatbuffers~=1.12.0 in /usr/local/lib/python3.6/dist-packages (from tf-nightly) (1.12)\n",
            "Requirement already satisfied: keras-preprocessing~=1.1.2 in /usr/local/lib/python3.6/dist-packages (from tf-nightly) (1.1.2)\n",
            "Requirement already satisfied: termcolor~=1.1.0 in /usr/local/lib/python3.6/dist-packages (from tf-nightly) (1.1.0)\n",
            "Requirement already satisfied: typing-extensions~=3.7.4 in /usr/local/lib/python3.6/dist-packages (from tf-nightly) (3.7.4.3)\n",
            "Collecting tf-estimator-nightly~=2.5.0.dev\n",
            "\u001b[?25l  Downloading https://files.pythonhosted.org/packages/85/04/f299f6039a136a752df35ca3d6a22749fd7276015434c2cb1d8bdce95289/tf_estimator_nightly-2.5.0.dev2021010701-py2.py3-none-any.whl (462kB)\n",
            "\u001b[K     |████████████████████████████████| 471kB 57.1MB/s \n",
            "\u001b[?25hRequirement already satisfied: absl-py~=0.10 in /usr/local/lib/python3.6/dist-packages (from tf-nightly) (0.10.0)\n",
            "Requirement already satisfied: astunparse~=1.6.3 in /usr/local/lib/python3.6/dist-packages (from tf-nightly) (1.6.3)\n",
            "Collecting h5py~=3.1.0\n",
            "\u001b[?25l  Downloading https://files.pythonhosted.org/packages/70/7a/e53e500335afb6b1aade11227cdf107fca54106a1dca5c9d13242a043f3b/h5py-3.1.0-cp36-cp36m-manylinux1_x86_64.whl (4.0MB)\n",
            "\u001b[K     |████████████████████████████████| 4.0MB 57.9MB/s \n",
            "\u001b[?25hRequirement already satisfied: wrapt~=1.12.1 in /usr/local/lib/python3.6/dist-packages (from tf-nightly) (1.12.1)\n",
            "Requirement already satisfied: wheel~=0.35 in /usr/local/lib/python3.6/dist-packages (from tf-nightly) (0.36.2)\n",
            "Requirement already satisfied: protobuf>=3.9.2 in /usr/local/lib/python3.6/dist-packages (from tf-nightly) (3.12.4)\n",
            "Collecting gast==0.4.0\n",
            "  Downloading https://files.pythonhosted.org/packages/b6/48/583c032b79ae5b3daa02225a675aeb673e58d2cb698e78510feceb11958c/gast-0.4.0-py3-none-any.whl\n",
            "Collecting tb-nightly~=2.5.0.a\n",
            "\u001b[?25l  Downloading https://files.pythonhosted.org/packages/ea/53/90d10e8c2d316a39bc97d00c51a9ab4d2febbf25d449d0f713cdaee72865/tb_nightly-2.5.0a20210107-py3-none-any.whl (12.2MB)\n",
            "\u001b[K     |████████████████████████████████| 12.2MB 260kB/s \n",
            "\u001b[?25hRequirement already satisfied: opt-einsum~=3.3.0 in /usr/local/lib/python3.6/dist-packages (from tf-nightly) (3.3.0)\n",
            "Requirement already satisfied: numpy~=1.19.2 in /usr/local/lib/python3.6/dist-packages (from tf-nightly) (1.19.4)\n",
            "Requirement already satisfied: google-pasta~=0.2 in /usr/local/lib/python3.6/dist-packages (from tf-nightly) (0.2.0)\n",
            "Collecting grpcio~=1.34.0\n",
            "\u001b[?25l  Downloading https://files.pythonhosted.org/packages/91/ab/8a7b37278fb59f3688af01cd069a5a4d2f3383eea2a2f78ddea4c7be047a/grpcio-1.34.0-cp36-cp36m-manylinux2014_x86_64.whl (4.0MB)\n",
            "\u001b[K     |████████████████████████████████| 4.0MB 53.2MB/s \n",
            "\u001b[?25hRequirement already satisfied: six~=1.15.0 in /usr/local/lib/python3.6/dist-packages (from tf-nightly) (1.15.0)\n",
            "Collecting cached-property; python_version < \"3.8\"\n",
            "  Downloading https://files.pythonhosted.org/packages/48/19/f2090f7dad41e225c7f2326e4cfe6fff49e57dedb5b53636c9551f86b069/cached_property-1.5.2-py2.py3-none-any.whl\n",
            "Requirement already satisfied: setuptools in /usr/local/lib/python3.6/dist-packages (from protobuf>=3.9.2->tf-nightly) (51.1.1)\n",
            "Requirement already satisfied: requests<3,>=2.21.0 in /usr/local/lib/python3.6/dist-packages (from tb-nightly~=2.5.0.a->tf-nightly) (2.23.0)\n",
            "Requirement already satisfied: google-auth<2,>=1.6.3 in /usr/local/lib/python3.6/dist-packages (from tb-nightly~=2.5.0.a->tf-nightly) (1.17.2)\n",
            "Requirement already satisfied: google-auth-oauthlib<0.5,>=0.4.1 in /usr/local/lib/python3.6/dist-packages (from tb-nightly~=2.5.0.a->tf-nightly) (0.4.2)\n",
            "Requirement already satisfied: markdown>=2.6.8 in /usr/local/lib/python3.6/dist-packages (from tb-nightly~=2.5.0.a->tf-nightly) (3.3.3)\n",
            "Requirement already satisfied: tensorboard-plugin-wit>=1.6.0 in /usr/local/lib/python3.6/dist-packages (from tb-nightly~=2.5.0.a->tf-nightly) (1.7.0)\n",
            "Requirement already satisfied: werkzeug>=0.11.15 in /usr/local/lib/python3.6/dist-packages (from tb-nightly~=2.5.0.a->tf-nightly) (1.0.1)\n",
            "Requirement already satisfied: idna<3,>=2.5 in /usr/local/lib/python3.6/dist-packages (from requests<3,>=2.21.0->tb-nightly~=2.5.0.a->tf-nightly) (2.10)\n",
            "Requirement already satisfied: urllib3!=1.25.0,!=1.25.1,<1.26,>=1.21.1 in /usr/local/lib/python3.6/dist-packages (from requests<3,>=2.21.0->tb-nightly~=2.5.0.a->tf-nightly) (1.24.3)\n",
            "Requirement already satisfied: chardet<4,>=3.0.2 in /usr/local/lib/python3.6/dist-packages (from requests<3,>=2.21.0->tb-nightly~=2.5.0.a->tf-nightly) (3.0.4)\n",
            "Requirement already satisfied: certifi>=2017.4.17 in /usr/local/lib/python3.6/dist-packages (from requests<3,>=2.21.0->tb-nightly~=2.5.0.a->tf-nightly) (2020.12.5)\n",
            "Requirement already satisfied: rsa<5,>=3.1.4; python_version >= \"3\" in /usr/local/lib/python3.6/dist-packages (from google-auth<2,>=1.6.3->tb-nightly~=2.5.0.a->tf-nightly) (4.6)\n",
            "Requirement already satisfied: pyasn1-modules>=0.2.1 in /usr/local/lib/python3.6/dist-packages (from google-auth<2,>=1.6.3->tb-nightly~=2.5.0.a->tf-nightly) (0.2.8)\n",
            "Requirement already satisfied: cachetools<5.0,>=2.0.0 in /usr/local/lib/python3.6/dist-packages (from google-auth<2,>=1.6.3->tb-nightly~=2.5.0.a->tf-nightly) (4.2.0)\n",
            "Requirement already satisfied: requests-oauthlib>=0.7.0 in /usr/local/lib/python3.6/dist-packages (from google-auth-oauthlib<0.5,>=0.4.1->tb-nightly~=2.5.0.a->tf-nightly) (1.3.0)\n",
            "Requirement already satisfied: importlib-metadata; python_version < \"3.8\" in /usr/local/lib/python3.6/dist-packages (from markdown>=2.6.8->tb-nightly~=2.5.0.a->tf-nightly) (3.3.0)\n",
            "Requirement already satisfied: pyasn1>=0.1.3 in /usr/local/lib/python3.6/dist-packages (from rsa<5,>=3.1.4; python_version >= \"3\"->google-auth<2,>=1.6.3->tb-nightly~=2.5.0.a->tf-nightly) (0.4.8)\n",
            "Requirement already satisfied: oauthlib>=3.0.0 in /usr/local/lib/python3.6/dist-packages (from requests-oauthlib>=0.7.0->google-auth-oauthlib<0.5,>=0.4.1->tb-nightly~=2.5.0.a->tf-nightly) (3.1.0)\n",
            "Requirement already satisfied: zipp>=0.5 in /usr/local/lib/python3.6/dist-packages (from importlib-metadata; python_version < \"3.8\"->markdown>=2.6.8->tb-nightly~=2.5.0.a->tf-nightly) (3.4.0)\n",
            "\u001b[31mERROR: tensorflow 2.4.0 has requirement gast==0.3.3, but you'll have gast 0.4.0 which is incompatible.\u001b[0m\n",
            "\u001b[31mERROR: tensorflow 2.4.0 has requirement grpcio~=1.32.0, but you'll have grpcio 1.34.0 which is incompatible.\u001b[0m\n",
            "\u001b[31mERROR: tensorflow 2.4.0 has requirement h5py~=2.10.0, but you'll have h5py 3.1.0 which is incompatible.\u001b[0m\n",
            "\u001b[31mERROR: tensorflow-gpu 2.4.0 has requirement gast==0.3.3, but you'll have gast 0.4.0 which is incompatible.\u001b[0m\n",
            "\u001b[31mERROR: tensorflow-gpu 2.4.0 has requirement grpcio~=1.32.0, but you'll have grpcio 1.34.0 which is incompatible.\u001b[0m\n",
            "\u001b[31mERROR: tensorflow-gpu 2.4.0 has requirement h5py~=2.10.0, but you'll have h5py 3.1.0 which is incompatible.\u001b[0m\n",
            "Installing collected packages: tf-estimator-nightly, cached-property, h5py, gast, grpcio, tb-nightly, tf-nightly\n",
            "  Found existing installation: h5py 2.10.0\n",
            "    Uninstalling h5py-2.10.0:\n",
            "      Successfully uninstalled h5py-2.10.0\n",
            "  Found existing installation: gast 0.3.3\n",
            "    Uninstalling gast-0.3.3:\n",
            "      Successfully uninstalled gast-0.3.3\n",
            "  Found existing installation: grpcio 1.32.0\n",
            "    Uninstalling grpcio-1.32.0:\n",
            "      Successfully uninstalled grpcio-1.32.0\n",
            "Successfully installed cached-property-1.5.2 gast-0.4.0 grpcio-1.34.0 h5py-3.1.0 tb-nightly-2.5.0a20210107 tf-estimator-nightly-2.5.0.dev2021010701 tf-nightly-2.5.0.dev20210107\n"
          ],
          "name": "stdout"
        },
        {
          "output_type": "display_data",
          "data": {
            "application/vnd.colab-display-data+json": {
              "pip_warning": {
                "packages": [
                  "gast",
                  "grpc",
                  "h5py",
                  "tensorboard",
                  "tensorflow"
                ]
              }
            }
          },
          "metadata": {
            "tags": []
          }
        }
      ]
    },
    {
      "cell_type": "code",
      "metadata": {
        "id": "6swIc-rGKm47"
      },
      "source": [
        "import numpy as np\n",
        "import pandas as pd\n",
        "import tensorflow as tf\n",
        "\n",
        "from tensorflow.keras.preprocessing.image import ImageDataGenerator\n",
        "from tensorflow.keras.models import Sequential\n",
        "from tensorflow.keras.layers import Conv2D, MaxPooling2D\n",
        "from tensorflow.keras.layers import Activation, Dropout, Flatten, Dense, BatchNormalization \n",
        "from tensorflow.keras import backend as K\n",
        "from tensorflow.keras.models import Model"
      ],
      "execution_count": 7,
      "outputs": []
    },
    {
      "cell_type": "code",
      "metadata": {
        "colab": {
          "base_uri": "https://localhost:8080/"
        },
        "id": "OPKjKXh65RIZ",
        "outputId": "f199ed47-f301-45a1-83c3-f39eee4ac962"
      },
      "source": [
        "from google.colab import drive\r\n",
        "drive.mount('/content/drive', force_remount=True)"
      ],
      "execution_count": 2,
      "outputs": [
        {
          "output_type": "stream",
          "text": [
            "Mounted at /content/drive\n"
          ],
          "name": "stdout"
        }
      ]
    },
    {
      "cell_type": "code",
      "metadata": {
        "id": "WxuDmAQlKm4-"
      },
      "source": [
        "train_data_dir = '/content/drive/MyDrive/dogs-vs-cats-processed/dogs-vs-cats-processed/train'\n",
        "validation_data_dir = '/content/drive/MyDrive/dogs-vs-cats-processed/dogs-vs-cats-processed/test'\n",
        "\n",
        "img_width, img_height = 150, 150\n",
        "batch_size = 80"
      ],
      "execution_count": 26,
      "outputs": []
    },
    {
      "cell_type": "code",
      "metadata": {
        "id": "SCfRV8VGKm5A"
      },
      "source": [
        "#This block of code is used to ensure the input shape is correct\n",
        "\n",
        "if K.image_data_format() == 'channels_first':\n",
        "    input_shape = (3, img_width, img_height)\n",
        "else:\n",
        "    input_shape = (img_width, img_height, 3)"
      ],
      "execution_count": 13,
      "outputs": []
    },
    {
      "cell_type": "markdown",
      "metadata": {
        "id": "T4x9el54Km5C"
      },
      "source": [
        "Define a train data generator with shear range of 0.3, zoom range of 0.1 and rescale to 1./255 (note that we must make 1 a float to produce a correct fraction). Use the ImageDataGenerator function."
      ]
    },
    {
      "cell_type": "code",
      "metadata": {
        "id": "EfKBxGZpKm5D"
      },
      "source": [
        "# Answer below:\n",
        "train_datagen = ImageDataGenerator(\n",
        "    rescale=1./255,\n",
        "    shear_range=0.3,\n",
        "    zoom_range=0.1,\n",
        "    horizontal_flip=True\n",
        ")"
      ],
      "execution_count": 4,
      "outputs": []
    },
    {
      "cell_type": "markdown",
      "metadata": {
        "id": "5oQJZOxNKm5E"
      },
      "source": [
        "Define a test data generator that only rescales to 1./255. Use the ImageDataGenerator function."
      ]
    },
    {
      "cell_type": "code",
      "metadata": {
        "id": "_U3XQZVLKm5F"
      },
      "source": [
        "# Answer below:\n",
        "test_datagen = ImageDataGenerator(rescale=1./255)"
      ],
      "execution_count": 5,
      "outputs": []
    },
    {
      "cell_type": "markdown",
      "metadata": {
        "id": "S0NCOxrCKm5G"
      },
      "source": [
        "The train generator and the test generator are defined below:"
      ]
    },
    {
      "cell_type": "code",
      "metadata": {
        "id": "zDgonF6uKm5H",
        "colab": {
          "base_uri": "https://localhost:8080/"
        },
        "outputId": "b7a0fb36-b7a7-4aa6-d96f-7eca30fe7dba"
      },
      "source": [
        "train_generator = train_datagen.flow_from_directory(\n",
        "    train_data_dir,\n",
        "    target_size=(img_width, img_height),\n",
        "    batch_size=batch_size,\n",
        "    class_mode='binary')\n",
        "\n",
        "validation_generator = test_datagen.flow_from_directory(\n",
        "    validation_data_dir,\n",
        "    target_size=(img_width, img_height),\n",
        "    batch_size=batch_size,\n",
        "    #shuffle=False,\n",
        "    class_mode='binary')"
      ],
      "execution_count": 27,
      "outputs": [
        {
          "output_type": "stream",
          "text": [
            "Found 2000 images belonging to 2 classes.\n",
            "Found 802 images belonging to 2 classes.\n"
          ],
          "name": "stdout"
        }
      ]
    },
    {
      "cell_type": "markdown",
      "metadata": {
        "id": "0lq09r31Km5K"
      },
      "source": [
        "We'll start with a simple model. In CNNs, we first convolve the to extract features and then we add the dense layers. \n",
        "\n",
        "Create a model with one layer of convolution of size 64, one layer of activation, one layer of max pooling with pool size (2,2) and then one flattening layer, one dense layer of unit size 64 with a ReLU activation and one dense output layer. The output layer should have a sigmoid activation."
      ]
    },
    {
      "cell_type": "code",
      "metadata": {
        "colab": {
          "base_uri": "https://localhost:8080/"
        },
        "id": "hQ9lkVHX_Uxa",
        "outputId": "01aa84eb-ca90-4a1f-8621-ffd741efeeaa"
      },
      "source": [
        "device_name = tf.test.gpu_device_name()\r\n",
        "if device_name != '/device:GPU:0':\r\n",
        "  raise SystemError('GPU device not found')\r\n",
        "print('Found GPU at: {}'.format(device_name))"
      ],
      "execution_count": 8,
      "outputs": [
        {
          "output_type": "stream",
          "text": [
            "Found GPU at: /device:GPU:0\n"
          ],
          "name": "stdout"
        }
      ]
    },
    {
      "cell_type": "code",
      "metadata": {
        "id": "IJqkMx3tKm5K"
      },
      "source": [
        "# Answer below:\n",
        "with tf.device('/device:GPU:0'):\n",
        "    model = Sequential()\n",
        "    model.add(Conv2D(64, (3,3), input_shape=input_shape))\n",
        "    model.add(Activation(\"relu\"))\n",
        "    model.add(MaxPooling2D(pool_size=(2,2)))\n",
        "    # flattening\n",
        "    model.add(Flatten())\n",
        "    model.add(Dense(64))\n",
        "    model.add(Activation(\"relu\"))\n",
        "    # regularization\n",
        "    model.add(Dropout(0.5))\n",
        "    model.add(Dense(1))\n",
        "    model.add(Activation(\"relu\"))"
      ],
      "execution_count": 38,
      "outputs": []
    },
    {
      "cell_type": "markdown",
      "metadata": {
        "id": "hEBJ5GXcKm5M"
      },
      "source": [
        "Compile the model using RMSprop."
      ]
    },
    {
      "cell_type": "code",
      "metadata": {
        "id": "85uyZ1yTKm5M"
      },
      "source": [
        "# Answer below:\n",
        "nb_train_samples = 2000\n",
        "nb_test_samples = 800\n",
        "epochs = 50\n",
        "batch_size = 4\n",
        "\n",
        "model.compile(loss=\"binary_crossentropy\", optimizer=\"rmsprop\", metrics=[\"accuracy\"])"
      ],
      "execution_count": 39,
      "outputs": []
    },
    {
      "cell_type": "markdown",
      "metadata": {
        "id": "uIKSpMe-Km5O"
      },
      "source": [
        "Fit the model using a fit generator. Use 50 epochs, 25 training steps and 15 validation steps"
      ]
    },
    {
      "cell_type": "code",
      "metadata": {
        "colab": {
          "base_uri": "https://localhost:8080/"
        },
        "id": "lRw_gAzhNAmA",
        "outputId": "6a15e49d-7737-405f-eae7-b5c1e62f76e3"
      },
      "source": [
        "print(tf.__version__)\r\n",
        "print(tf.test.gpu_device_name())\r\n",
        "print(\"Num GPUs Available: \", len(tf.config.experimental.list_physical_devices('GPU')))"
      ],
      "execution_count": 40,
      "outputs": [
        {
          "output_type": "stream",
          "text": [
            "2.4.0\n",
            "/device:GPU:0\n",
            "Num GPUs Available:  1\n"
          ],
          "name": "stdout"
        }
      ]
    },
    {
      "cell_type": "code",
      "metadata": {
        "id": "NFfKyhLzKm5O",
        "colab": {
          "base_uri": "https://localhost:8080/"
        },
        "outputId": "aea9fc88-610e-456c-b1bc-ffd8c29e9ce1"
      },
      "source": [
        "# Answer below:\n",
        "import time\n",
        "\n",
        "start = time.time()\n",
        "with tf.device('/device:GPU:0'):\n",
        "    m1_hist = model.fit(\n",
        "        train_generator,\n",
        "        steps_per_epoch=25,\n",
        "        epochs=epochs,\n",
        "        validation_data=validation_generator,\n",
        "        validation_steps=5)\n",
        "m1_time = time.time() - start"
      ],
      "execution_count": 43,
      "outputs": [
        {
          "output_type": "stream",
          "text": [
            "Epoch 1/50\n",
            "25/25 [==============================] - 17s 662ms/step - loss: 7.6246 - accuracy: 0.5000 - val_loss: 8.1202 - val_accuracy: 0.4675\n",
            "Epoch 2/50\n",
            "25/25 [==============================] - 17s 662ms/step - loss: 7.6246 - accuracy: 0.5000 - val_loss: 7.6246 - val_accuracy: 0.5000\n",
            "Epoch 3/50\n",
            "25/25 [==============================] - 16s 657ms/step - loss: 7.6246 - accuracy: 0.5000 - val_loss: 7.6627 - val_accuracy: 0.4975\n",
            "Epoch 4/50\n",
            "25/25 [==============================] - 17s 664ms/step - loss: 7.6246 - accuracy: 0.5000 - val_loss: 7.7771 - val_accuracy: 0.4900\n",
            "Epoch 5/50\n",
            "25/25 [==============================] - 16s 659ms/step - loss: 7.6246 - accuracy: 0.5000 - val_loss: 7.3196 - val_accuracy: 0.5200\n",
            "Epoch 6/50\n",
            "25/25 [==============================] - 16s 657ms/step - loss: 7.6170 - accuracy: 0.5005 - val_loss: 7.4340 - val_accuracy: 0.5125\n",
            "Epoch 7/50\n",
            "25/25 [==============================] - 17s 664ms/step - loss: 7.6323 - accuracy: 0.4995 - val_loss: 7.7771 - val_accuracy: 0.4900\n",
            "Epoch 8/50\n",
            "25/25 [==============================] - 17s 666ms/step - loss: 7.6246 - accuracy: 0.5000 - val_loss: 8.1965 - val_accuracy: 0.4625\n",
            "Epoch 9/50\n",
            "25/25 [==============================] - 17s 662ms/step - loss: 7.6246 - accuracy: 0.5000 - val_loss: 7.7009 - val_accuracy: 0.4950\n",
            "Epoch 10/50\n",
            "25/25 [==============================] - 16s 658ms/step - loss: 7.6246 - accuracy: 0.5000 - val_loss: 7.2053 - val_accuracy: 0.5275\n",
            "Epoch 11/50\n",
            "25/25 [==============================] - 16s 660ms/step - loss: 7.6246 - accuracy: 0.5000 - val_loss: 7.8915 - val_accuracy: 0.4825\n",
            "Epoch 12/50\n",
            "25/25 [==============================] - 17s 668ms/step - loss: 7.6246 - accuracy: 0.5000 - val_loss: 7.6627 - val_accuracy: 0.4975\n",
            "Epoch 13/50\n",
            "25/25 [==============================] - 17s 665ms/step - loss: 7.6246 - accuracy: 0.5000 - val_loss: 7.4721 - val_accuracy: 0.5100\n",
            "Epoch 14/50\n",
            "25/25 [==============================] - 17s 662ms/step - loss: 7.6323 - accuracy: 0.4995 - val_loss: 7.2815 - val_accuracy: 0.5225\n",
            "Epoch 15/50\n",
            "25/25 [==============================] - 16s 659ms/step - loss: 7.6246 - accuracy: 0.5000 - val_loss: 7.1671 - val_accuracy: 0.5300\n",
            "Epoch 16/50\n",
            "25/25 [==============================] - 16s 659ms/step - loss: 7.6171 - accuracy: 0.5005 - val_loss: 7.8152 - val_accuracy: 0.4875\n",
            "Epoch 17/50\n",
            "25/25 [==============================] - 16s 655ms/step - loss: 7.6246 - accuracy: 0.5000 - val_loss: 7.5484 - val_accuracy: 0.5050\n",
            "Epoch 18/50\n",
            "25/25 [==============================] - 17s 663ms/step - loss: 7.6246 - accuracy: 0.5000 - val_loss: 7.3196 - val_accuracy: 0.5200\n",
            "Epoch 19/50\n",
            "25/25 [==============================] - 16s 659ms/step - loss: 7.6246 - accuracy: 0.5000 - val_loss: 8.0059 - val_accuracy: 0.4750\n",
            "Epoch 20/50\n",
            "25/25 [==============================] - 16s 660ms/step - loss: 7.6259 - accuracy: 0.4995 - val_loss: 7.2434 - val_accuracy: 0.5250\n",
            "Epoch 21/50\n",
            "25/25 [==============================] - 16s 658ms/step - loss: 7.6246 - accuracy: 0.5000 - val_loss: 7.3959 - val_accuracy: 0.5150\n",
            "Epoch 22/50\n",
            "25/25 [==============================] - 16s 660ms/step - loss: 7.6246 - accuracy: 0.5000 - val_loss: 7.8915 - val_accuracy: 0.4825\n",
            "Epoch 23/50\n",
            "25/25 [==============================] - 16s 661ms/step - loss: 7.6246 - accuracy: 0.5000 - val_loss: 7.2434 - val_accuracy: 0.5250\n",
            "Epoch 24/50\n",
            "25/25 [==============================] - 17s 662ms/step - loss: 7.6246 - accuracy: 0.5000 - val_loss: 8.3108 - val_accuracy: 0.4550\n",
            "Epoch 25/50\n",
            "25/25 [==============================] - 16s 658ms/step - loss: 7.6246 - accuracy: 0.5000 - val_loss: 7.9677 - val_accuracy: 0.4775\n",
            "Epoch 26/50\n",
            "25/25 [==============================] - 16s 660ms/step - loss: 7.6246 - accuracy: 0.5000 - val_loss: 7.5484 - val_accuracy: 0.5050\n",
            "Epoch 27/50\n",
            "25/25 [==============================] - 17s 666ms/step - loss: 7.6246 - accuracy: 0.5000 - val_loss: 7.8152 - val_accuracy: 0.4875\n",
            "Epoch 28/50\n",
            "25/25 [==============================] - 17s 662ms/step - loss: 7.6246 - accuracy: 0.5000 - val_loss: 7.8152 - val_accuracy: 0.4875\n",
            "Epoch 29/50\n",
            "25/25 [==============================] - 16s 657ms/step - loss: 7.6246 - accuracy: 0.5000 - val_loss: 7.4340 - val_accuracy: 0.5125\n",
            "Epoch 30/50\n",
            "25/25 [==============================] - 16s 660ms/step - loss: 7.6246 - accuracy: 0.5000 - val_loss: 7.5103 - val_accuracy: 0.5075\n",
            "Epoch 31/50\n",
            "25/25 [==============================] - 17s 670ms/step - loss: 7.6246 - accuracy: 0.5000 - val_loss: 7.2434 - val_accuracy: 0.5250\n",
            "Epoch 32/50\n",
            "25/25 [==============================] - 17s 662ms/step - loss: 7.6246 - accuracy: 0.5000 - val_loss: 7.2434 - val_accuracy: 0.5250\n",
            "Epoch 33/50\n",
            "25/25 [==============================] - 16s 661ms/step - loss: 7.6246 - accuracy: 0.5000 - val_loss: 7.8534 - val_accuracy: 0.4850\n",
            "Epoch 34/50\n",
            "25/25 [==============================] - 16s 656ms/step - loss: 7.6246 - accuracy: 0.5000 - val_loss: 7.4340 - val_accuracy: 0.5125\n",
            "Epoch 35/50\n",
            "25/25 [==============================] - 16s 659ms/step - loss: 7.6246 - accuracy: 0.5000 - val_loss: 7.5865 - val_accuracy: 0.5025\n",
            "Epoch 36/50\n",
            "25/25 [==============================] - 16s 656ms/step - loss: 7.6246 - accuracy: 0.5000 - val_loss: 7.8534 - val_accuracy: 0.4850\n",
            "Epoch 37/50\n",
            "25/25 [==============================] - 17s 666ms/step - loss: 7.6246 - accuracy: 0.5000 - val_loss: 7.6627 - val_accuracy: 0.4975\n",
            "Epoch 38/50\n",
            "25/25 [==============================] - 17s 662ms/step - loss: 7.6246 - accuracy: 0.5000 - val_loss: 7.2434 - val_accuracy: 0.5250\n",
            "Epoch 39/50\n",
            "25/25 [==============================] - 16s 658ms/step - loss: 7.6246 - accuracy: 0.5000 - val_loss: 7.3959 - val_accuracy: 0.5150\n",
            "Epoch 40/50\n",
            "25/25 [==============================] - 16s 655ms/step - loss: 7.6246 - accuracy: 0.5000 - val_loss: 7.8152 - val_accuracy: 0.4875\n",
            "Epoch 41/50\n",
            "25/25 [==============================] - 16s 658ms/step - loss: 7.6246 - accuracy: 0.5000 - val_loss: 7.5865 - val_accuracy: 0.5025\n",
            "Epoch 42/50\n",
            "25/25 [==============================] - 16s 656ms/step - loss: 7.6246 - accuracy: 0.5000 - val_loss: 7.9296 - val_accuracy: 0.4800\n",
            "Epoch 43/50\n",
            "25/25 [==============================] - 17s 678ms/step - loss: 7.6246 - accuracy: 0.5000 - val_loss: 7.5102 - val_accuracy: 0.5075\n",
            "Epoch 44/50\n",
            "25/25 [==============================] - 16s 661ms/step - loss: 7.6246 - accuracy: 0.5000 - val_loss: 7.7009 - val_accuracy: 0.4950\n",
            "Epoch 45/50\n",
            "25/25 [==============================] - 17s 666ms/step - loss: 7.6246 - accuracy: 0.5000 - val_loss: 7.0528 - val_accuracy: 0.5375\n",
            "Epoch 46/50\n",
            "25/25 [==============================] - 16s 660ms/step - loss: 7.6246 - accuracy: 0.5000 - val_loss: 7.2434 - val_accuracy: 0.5250\n",
            "Epoch 47/50\n",
            "25/25 [==============================] - 17s 662ms/step - loss: 7.6246 - accuracy: 0.5000 - val_loss: 7.5103 - val_accuracy: 0.5075\n",
            "Epoch 48/50\n",
            "25/25 [==============================] - 17s 667ms/step - loss: 7.6246 - accuracy: 0.5000 - val_loss: 7.3196 - val_accuracy: 0.5200\n",
            "Epoch 49/50\n",
            "25/25 [==============================] - 17s 664ms/step - loss: 7.6246 - accuracy: 0.5000 - val_loss: 7.3959 - val_accuracy: 0.5150\n",
            "Epoch 50/50\n",
            "25/25 [==============================] - 17s 676ms/step - loss: 7.6246 - accuracy: 0.5000 - val_loss: 7.3959 - val_accuracy: 0.5150\n"
          ],
          "name": "stdout"
        }
      ]
    },
    {
      "cell_type": "markdown",
      "metadata": {
        "id": "QAZ1IeybKm5Q"
      },
      "source": [
        "Create a new model by adding an additional group of convolution, activation and max pooling layers before the flatten layer. Make the convolution layer of unit size 32. Keep everything else the same."
      ]
    },
    {
      "cell_type": "code",
      "metadata": {
        "id": "651SH4QGKm5Q"
      },
      "source": [
        "# Answer below:\n",
        "with tf.device(\":/device:GPU:0\"):\n",
        "    m2 = Sequential()\n",
        "    m2.add(Conv2D(64, (3,3), input_shape=input_shape))\n",
        "    m2.add(Activation(\"relu\"))\n",
        "    m2.add(MaxPooling2D(pool_size=(2,2)))\n",
        "    # second group\n",
        "    m2.add(Conv2D(32, (3,3)))\n",
        "    m2.add(Activation(\"relu\"))\n",
        "    m2.add(MaxPooling2D(pool_size=(2,2)))\n",
        "    # flattening\n",
        "    m2.add(Flatten())\n",
        "    m2.add(Dense(64))\n",
        "    m2.add(Activation(\"relu\"))\n",
        "    # regularization\n",
        "    m2.add(Dropout(0.5))\n",
        "    m2.add(Dense(1))\n",
        "    m2.add(Activation(\"relu\"))"
      ],
      "execution_count": 44,
      "outputs": []
    },
    {
      "cell_type": "markdown",
      "metadata": {
        "id": "fHfpSfgyKm5S"
      },
      "source": [
        "Fit and compile the model in the same way you did with the previous model. How did the results improve?"
      ]
    },
    {
      "cell_type": "code",
      "metadata": {
        "id": "k5nPg_LmKm5S",
        "colab": {
          "base_uri": "https://localhost:8080/"
        },
        "outputId": "1bdd30b3-b66e-49b9-a6b7-beefb4f3fdd9"
      },
      "source": [
        "# Answer below:\n",
        "m2.compile(loss=\"binary_crossentropy\", optimizer=\"rmsprop\", metrics=[\"accuracy\"])\n",
        "with tf.device(\":/device:GPU:0\"):\n",
        "    start = time.time()\n",
        "    m2_hist = m2.fit(\n",
        "        train_generator,\n",
        "        steps_per_epoch=25,\n",
        "        epochs=epochs,\n",
        "        validation_data=validation_generator,\n",
        "        validation_steps=5)\n",
        "    m2_time = time.time() - start"
      ],
      "execution_count": 47,
      "outputs": [
        {
          "output_type": "stream",
          "text": [
            "Epoch 1/50\n",
            "25/25 [==============================] - 17s 663ms/step - loss: 6.6625 - accuracy: 0.5138 - val_loss: 7.5102 - val_accuracy: 0.5075\n",
            "Epoch 2/50\n",
            "25/25 [==============================] - 16s 653ms/step - loss: 7.8756 - accuracy: 0.4835 - val_loss: 7.4340 - val_accuracy: 0.5125\n",
            "Epoch 3/50\n",
            "25/25 [==============================] - 16s 656ms/step - loss: 7.7891 - accuracy: 0.4892 - val_loss: 7.9296 - val_accuracy: 0.4800\n",
            "Epoch 4/50\n",
            "25/25 [==============================] - 16s 654ms/step - loss: 7.4119 - accuracy: 0.5140 - val_loss: 7.7771 - val_accuracy: 0.4900\n",
            "Epoch 5/50\n",
            "25/25 [==============================] - 16s 651ms/step - loss: 7.5198 - accuracy: 0.5069 - val_loss: 7.5484 - val_accuracy: 0.5050\n",
            "Epoch 6/50\n",
            "25/25 [==============================] - 16s 651ms/step - loss: 7.7383 - accuracy: 0.4925 - val_loss: 7.5865 - val_accuracy: 0.5025\n",
            "Epoch 7/50\n",
            "25/25 [==============================] - 16s 654ms/step - loss: 7.6312 - accuracy: 0.4996 - val_loss: 7.8152 - val_accuracy: 0.4875\n",
            "Epoch 8/50\n",
            "25/25 [==============================] - 16s 652ms/step - loss: 7.5976 - accuracy: 0.5018 - val_loss: 7.9296 - val_accuracy: 0.4800\n",
            "Epoch 9/50\n",
            "25/25 [==============================] - 16s 658ms/step - loss: 7.7199 - accuracy: 0.4937 - val_loss: 7.2434 - val_accuracy: 0.5250\n",
            "Epoch 10/50\n",
            "25/25 [==============================] - 16s 658ms/step - loss: 7.7331 - accuracy: 0.4929 - val_loss: 7.9677 - val_accuracy: 0.4775\n",
            "Epoch 11/50\n",
            "25/25 [==============================] - 17s 664ms/step - loss: 7.6576 - accuracy: 0.4978 - val_loss: 7.6246 - val_accuracy: 0.5000\n",
            "Epoch 12/50\n",
            "25/25 [==============================] - 16s 653ms/step - loss: 7.5642 - accuracy: 0.5040 - val_loss: 7.6246 - val_accuracy: 0.5000\n",
            "Epoch 13/50\n",
            "25/25 [==============================] - 16s 656ms/step - loss: 7.8441 - accuracy: 0.4856 - val_loss: 7.6246 - val_accuracy: 0.5000\n",
            "Epoch 14/50\n",
            "25/25 [==============================] - 17s 664ms/step - loss: 7.6640 - accuracy: 0.4974 - val_loss: 7.5103 - val_accuracy: 0.5075\n",
            "Epoch 15/50\n",
            "25/25 [==============================] - 16s 652ms/step - loss: 7.4342 - accuracy: 0.5125 - val_loss: 7.7009 - val_accuracy: 0.4950\n",
            "Epoch 16/50\n",
            "25/25 [==============================] - 16s 652ms/step - loss: 7.4918 - accuracy: 0.5087 - val_loss: 7.4721 - val_accuracy: 0.5100\n",
            "Epoch 17/50\n",
            "25/25 [==============================] - 16s 656ms/step - loss: 7.5349 - accuracy: 0.5059 - val_loss: 7.6246 - val_accuracy: 0.5000\n",
            "Epoch 18/50\n",
            "25/25 [==============================] - 16s 655ms/step - loss: 7.5456 - accuracy: 0.5052 - val_loss: 7.0909 - val_accuracy: 0.5350\n",
            "Epoch 19/50\n",
            "25/25 [==============================] - 16s 648ms/step - loss: 7.7917 - accuracy: 0.4890 - val_loss: 7.3196 - val_accuracy: 0.5200\n",
            "Epoch 20/50\n",
            "25/25 [==============================] - 16s 650ms/step - loss: 7.5915 - accuracy: 0.5022 - val_loss: 7.4340 - val_accuracy: 0.5125\n",
            "Epoch 21/50\n",
            "25/25 [==============================] - 16s 646ms/step - loss: 7.7770 - accuracy: 0.4900 - val_loss: 7.5865 - val_accuracy: 0.5025\n",
            "Epoch 22/50\n",
            "25/25 [==============================] - 16s 656ms/step - loss: 7.4884 - accuracy: 0.5089 - val_loss: 7.5102 - val_accuracy: 0.5075\n",
            "Epoch 23/50\n",
            "25/25 [==============================] - 16s 646ms/step - loss: 7.6905 - accuracy: 0.4957 - val_loss: 7.6627 - val_accuracy: 0.4975\n",
            "Epoch 24/50\n",
            "25/25 [==============================] - 16s 649ms/step - loss: 7.5131 - accuracy: 0.5073 - val_loss: 8.4633 - val_accuracy: 0.4450\n",
            "Epoch 25/50\n",
            "25/25 [==============================] - 16s 653ms/step - loss: 7.5950 - accuracy: 0.5019 - val_loss: 7.7009 - val_accuracy: 0.4950\n",
            "Epoch 26/50\n",
            "25/25 [==============================] - 16s 652ms/step - loss: 7.6337 - accuracy: 0.4994 - val_loss: 7.8534 - val_accuracy: 0.4850\n",
            "Epoch 27/50\n",
            "25/25 [==============================] - 16s 653ms/step - loss: 7.7183 - accuracy: 0.4939 - val_loss: 7.3959 - val_accuracy: 0.5150\n",
            "Epoch 28/50\n",
            "25/25 [==============================] - 16s 650ms/step - loss: 7.7151 - accuracy: 0.4941 - val_loss: 7.6246 - val_accuracy: 0.5000\n",
            "Epoch 29/50\n",
            "25/25 [==============================] - 16s 649ms/step - loss: 7.7551 - accuracy: 0.4914 - val_loss: 7.3959 - val_accuracy: 0.5150\n",
            "Epoch 30/50\n",
            "25/25 [==============================] - 16s 649ms/step - loss: 7.6526 - accuracy: 0.4982 - val_loss: 7.5484 - val_accuracy: 0.5050\n",
            "Epoch 31/50\n",
            "25/25 [==============================] - 16s 647ms/step - loss: 7.3945 - accuracy: 0.5151 - val_loss: 7.0528 - val_accuracy: 0.5375\n",
            "Epoch 32/50\n",
            "25/25 [==============================] - 16s 650ms/step - loss: 7.4002 - accuracy: 0.5147 - val_loss: 7.5103 - val_accuracy: 0.5075\n",
            "Epoch 33/50\n",
            "25/25 [==============================] - 17s 662ms/step - loss: 7.6765 - accuracy: 0.4966 - val_loss: 7.3959 - val_accuracy: 0.5150\n",
            "Epoch 34/50\n",
            "25/25 [==============================] - 16s 647ms/step - loss: 7.8982 - accuracy: 0.4821 - val_loss: 7.8534 - val_accuracy: 0.4850\n",
            "Epoch 35/50\n",
            "25/25 [==============================] - 16s 645ms/step - loss: 7.4473 - accuracy: 0.5116 - val_loss: 7.7009 - val_accuracy: 0.4950\n",
            "Epoch 36/50\n",
            "25/25 [==============================] - 16s 649ms/step - loss: 7.5674 - accuracy: 0.5038 - val_loss: 7.8534 - val_accuracy: 0.4850\n",
            "Epoch 37/50\n",
            "25/25 [==============================] - 16s 650ms/step - loss: 7.4538 - accuracy: 0.5112 - val_loss: 7.5865 - val_accuracy: 0.5025\n",
            "Epoch 38/50\n",
            "25/25 [==============================] - 16s 656ms/step - loss: 7.5802 - accuracy: 0.5029 - val_loss: 8.3490 - val_accuracy: 0.4525\n",
            "Epoch 39/50\n",
            "25/25 [==============================] - 16s 653ms/step - loss: 7.5553 - accuracy: 0.5045 - val_loss: 7.8152 - val_accuracy: 0.4875\n",
            "Epoch 40/50\n",
            "25/25 [==============================] - 16s 657ms/step - loss: 7.7911 - accuracy: 0.4891 - val_loss: 7.2434 - val_accuracy: 0.5250\n",
            "Epoch 41/50\n",
            "25/25 [==============================] - 16s 651ms/step - loss: 7.5905 - accuracy: 0.5022 - val_loss: 7.3578 - val_accuracy: 0.5175\n",
            "Epoch 42/50\n",
            "25/25 [==============================] - 16s 658ms/step - loss: 7.2998 - accuracy: 0.5213 - val_loss: 8.0058 - val_accuracy: 0.4750\n",
            "Epoch 43/50\n",
            "25/25 [==============================] - 16s 650ms/step - loss: 7.6117 - accuracy: 0.5008 - val_loss: 7.2053 - val_accuracy: 0.5275\n",
            "Epoch 44/50\n",
            "25/25 [==============================] - 16s 655ms/step - loss: 7.8851 - accuracy: 0.4829 - val_loss: 7.4340 - val_accuracy: 0.5125\n",
            "Epoch 45/50\n",
            "25/25 [==============================] - 16s 654ms/step - loss: 7.7501 - accuracy: 0.4918 - val_loss: 7.7771 - val_accuracy: 0.4900\n",
            "Epoch 46/50\n",
            "25/25 [==============================] - 16s 660ms/step - loss: 7.5666 - accuracy: 0.5038 - val_loss: 7.6627 - val_accuracy: 0.4975\n",
            "Epoch 47/50\n",
            "25/25 [==============================] - 17s 661ms/step - loss: 7.5649 - accuracy: 0.5039 - val_loss: 7.8915 - val_accuracy: 0.4825\n",
            "Epoch 48/50\n",
            "25/25 [==============================] - 16s 660ms/step - loss: 7.6586 - accuracy: 0.4978 - val_loss: 7.7390 - val_accuracy: 0.4925\n",
            "Epoch 49/50\n",
            "25/25 [==============================] - 16s 655ms/step - loss: 7.5453 - accuracy: 0.5052 - val_loss: 7.6627 - val_accuracy: 0.4975\n",
            "Epoch 50/50\n",
            "25/25 [==============================] - 16s 651ms/step - loss: 7.5555 - accuracy: 0.5045 - val_loss: 7.3959 - val_accuracy: 0.5150\n"
          ],
          "name": "stdout"
        }
      ]
    },
    {
      "cell_type": "markdown",
      "metadata": {
        "id": "LgKv1_tCKm5U"
      },
      "source": [
        "Create a new model based on the model above. Add an additional dense layer of size 64 with a ReLU activation after the flatten layer."
      ]
    },
    {
      "cell_type": "code",
      "metadata": {
        "id": "KlzEuIt3Km5U"
      },
      "source": [
        "# Answer below:\n",
        "with tf.device(\":/device:GPU:0\"):\n",
        "    m3 = Sequential()\n",
        "    m3.add(Conv2D(64, (3,3), input_shape=input_shape))\n",
        "    m3.add(Activation(\"relu\"))\n",
        "    m3.add(MaxPooling2D(pool_size=(2,2)))\n",
        "    # second group\n",
        "    m3.add(Conv2D(32, (3,3)))\n",
        "    m3.add(Activation(\"relu\"))\n",
        "    m3.add(MaxPooling2D(pool_size=(2,2)))\n",
        "    # flattening\n",
        "    m3.add(Flatten())\n",
        "    m3.add(Dense(64))\n",
        "    m3.add(Activation(\"relu\"))\n",
        "    # third group\n",
        "    m3.add(Dense(64))\n",
        "    m3.add(Activation(\"relu\"))\n",
        "    # regularization\n",
        "    m3.add(Dropout(0.5))\n",
        "    m3.add(Dense(1))\n",
        "    m3.add(Activation(\"relu\"))"
      ],
      "execution_count": 48,
      "outputs": []
    },
    {
      "cell_type": "markdown",
      "metadata": {
        "id": "GMg6k7tHKm5W"
      },
      "source": [
        "Fit and compile in the same way as above. Describe the difference in performance and speed."
      ]
    },
    {
      "cell_type": "code",
      "metadata": {
        "id": "pqIEZC6YKm5W",
        "colab": {
          "base_uri": "https://localhost:8080/"
        },
        "outputId": "a0e9d15c-799e-4a9d-81b7-5bf201a484f9"
      },
      "source": [
        "# Answer below:\n",
        "m3.compile(loss=\"binary_crossentropy\", optimizer=\"rmsprop\", metrics=[\"accuracy\"])\n",
        "with tf.device(\":/device:GPU:0\"):\n",
        "    start = time.time()\n",
        "    m3_hist = m3.fit(\n",
        "        train_generator,\n",
        "        steps_per_epoch=25,\n",
        "        epochs=epochs,\n",
        "        validation_data=validation_generator,\n",
        "        validation_steps=5)\n",
        "    m3_time = time.time() - start"
      ],
      "execution_count": 49,
      "outputs": [
        {
          "output_type": "stream",
          "text": [
            "Epoch 1/50\n",
            "25/25 [==============================] - 17s 675ms/step - loss: 7.3626 - accuracy: 0.4796 - val_loss: 7.3578 - val_accuracy: 0.5175\n",
            "Epoch 2/50\n",
            "25/25 [==============================] - 17s 661ms/step - loss: 7.4059 - accuracy: 0.5116 - val_loss: 7.5484 - val_accuracy: 0.5050\n",
            "Epoch 3/50\n",
            "25/25 [==============================] - 16s 652ms/step - loss: 7.4186 - accuracy: 0.5132 - val_loss: 7.5865 - val_accuracy: 0.5025\n",
            "Epoch 4/50\n",
            "25/25 [==============================] - 16s 649ms/step - loss: 7.1280 - accuracy: 0.5314 - val_loss: 7.3959 - val_accuracy: 0.5150\n",
            "Epoch 5/50\n",
            "25/25 [==============================] - 16s 651ms/step - loss: 7.5551 - accuracy: 0.5042 - val_loss: 7.5865 - val_accuracy: 0.5025\n",
            "Epoch 6/50\n",
            "25/25 [==============================] - 16s 649ms/step - loss: 7.3496 - accuracy: 0.5172 - val_loss: 7.5865 - val_accuracy: 0.5025\n",
            "Epoch 7/50\n",
            "25/25 [==============================] - 16s 653ms/step - loss: 7.4625 - accuracy: 0.5066 - val_loss: 7.3196 - val_accuracy: 0.5200\n",
            "Epoch 8/50\n",
            "25/25 [==============================] - 16s 651ms/step - loss: 7.5827 - accuracy: 0.5011 - val_loss: 7.3196 - val_accuracy: 0.5200\n",
            "Epoch 9/50\n",
            "25/25 [==============================] - 16s 653ms/step - loss: 7.9440 - accuracy: 0.4758 - val_loss: 7.7510 - val_accuracy: 0.4975\n",
            "Epoch 10/50\n",
            "25/25 [==============================] - 16s 650ms/step - loss: 7.5881 - accuracy: 0.4931 - val_loss: 7.7896 - val_accuracy: 0.4950\n",
            "Epoch 11/50\n",
            "25/25 [==============================] - 16s 653ms/step - loss: 7.1388 - accuracy: 0.5144 - val_loss: 1.7578 - val_accuracy: 0.5000\n",
            "Epoch 12/50\n",
            "25/25 [==============================] - 16s 651ms/step - loss: 3.2766 - accuracy: 0.4840 - val_loss: 0.6636 - val_accuracy: 0.6150\n",
            "Epoch 13/50\n",
            "25/25 [==============================] - 16s 652ms/step - loss: 0.7548 - accuracy: 0.5568 - val_loss: 0.6946 - val_accuracy: 0.5700\n",
            "Epoch 14/50\n",
            "25/25 [==============================] - 16s 647ms/step - loss: 0.7333 - accuracy: 0.5594 - val_loss: 0.6819 - val_accuracy: 0.6150\n",
            "Epoch 15/50\n",
            "25/25 [==============================] - 16s 659ms/step - loss: 1.1954 - accuracy: 0.5533 - val_loss: 0.6328 - val_accuracy: 0.6650\n",
            "Epoch 16/50\n",
            "25/25 [==============================] - 16s 652ms/step - loss: 0.7496 - accuracy: 0.5891 - val_loss: 0.6291 - val_accuracy: 0.6100\n",
            "Epoch 17/50\n",
            "25/25 [==============================] - 16s 652ms/step - loss: 0.7207 - accuracy: 0.5914 - val_loss: 0.6422 - val_accuracy: 0.6125\n",
            "Epoch 18/50\n",
            "25/25 [==============================] - 16s 650ms/step - loss: 0.7579 - accuracy: 0.6082 - val_loss: 0.6070 - val_accuracy: 0.6575\n",
            "Epoch 19/50\n",
            "25/25 [==============================] - 16s 650ms/step - loss: 0.7635 - accuracy: 0.6106 - val_loss: 1.3380 - val_accuracy: 0.6050\n",
            "Epoch 20/50\n",
            "25/25 [==============================] - 16s 657ms/step - loss: 0.7632 - accuracy: 0.6320 - val_loss: 0.6656 - val_accuracy: 0.5975\n",
            "Epoch 21/50\n",
            "25/25 [==============================] - 17s 667ms/step - loss: 0.7168 - accuracy: 0.6348 - val_loss: 0.6750 - val_accuracy: 0.6775\n",
            "Epoch 22/50\n",
            "25/25 [==============================] - 16s 653ms/step - loss: 0.6411 - accuracy: 0.6796 - val_loss: 0.6265 - val_accuracy: 0.6150\n",
            "Epoch 23/50\n",
            "25/25 [==============================] - 16s 652ms/step - loss: 0.7339 - accuracy: 0.6463 - val_loss: 0.7907 - val_accuracy: 0.6800\n",
            "Epoch 24/50\n",
            "25/25 [==============================] - 16s 651ms/step - loss: 0.6864 - accuracy: 0.6984 - val_loss: 0.6733 - val_accuracy: 0.7000\n",
            "Epoch 25/50\n",
            "25/25 [==============================] - 16s 652ms/step - loss: 0.9374 - accuracy: 0.6154 - val_loss: 0.6739 - val_accuracy: 0.7000\n",
            "Epoch 26/50\n",
            "25/25 [==============================] - 16s 652ms/step - loss: 0.6535 - accuracy: 0.6858 - val_loss: 0.7132 - val_accuracy: 0.6600\n",
            "Epoch 27/50\n",
            "25/25 [==============================] - 16s 653ms/step - loss: 0.7413 - accuracy: 0.6945 - val_loss: 0.6334 - val_accuracy: 0.6950\n",
            "Epoch 28/50\n",
            "25/25 [==============================] - 16s 652ms/step - loss: 0.7259 - accuracy: 0.7125 - val_loss: 0.8219 - val_accuracy: 0.6550\n",
            "Epoch 29/50\n",
            "25/25 [==============================] - 16s 650ms/step - loss: 0.7851 - accuracy: 0.6760 - val_loss: 0.7984 - val_accuracy: 0.6375\n",
            "Epoch 30/50\n",
            "25/25 [==============================] - 16s 651ms/step - loss: 0.7705 - accuracy: 0.6433 - val_loss: 0.7389 - val_accuracy: 0.5700\n",
            "Epoch 31/50\n",
            "25/25 [==============================] - 16s 657ms/step - loss: 0.7236 - accuracy: 0.6472 - val_loss: 0.8082 - val_accuracy: 0.6975\n",
            "Epoch 32/50\n",
            "25/25 [==============================] - 16s 660ms/step - loss: 0.6202 - accuracy: 0.7348 - val_loss: 0.6976 - val_accuracy: 0.7000\n",
            "Epoch 33/50\n",
            "25/25 [==============================] - 16s 656ms/step - loss: 0.6779 - accuracy: 0.7263 - val_loss: 0.8452 - val_accuracy: 0.6625\n",
            "Epoch 34/50\n",
            "25/25 [==============================] - 16s 658ms/step - loss: 0.6672 - accuracy: 0.7212 - val_loss: 0.6384 - val_accuracy: 0.6825\n",
            "Epoch 35/50\n",
            "25/25 [==============================] - 16s 649ms/step - loss: 0.6718 - accuracy: 0.7447 - val_loss: 1.2502 - val_accuracy: 0.5950\n",
            "Epoch 36/50\n",
            "25/25 [==============================] - 16s 657ms/step - loss: 0.6801 - accuracy: 0.7046 - val_loss: 2.0551 - val_accuracy: 0.6050\n",
            "Epoch 37/50\n",
            "25/25 [==============================] - 16s 648ms/step - loss: 0.9466 - accuracy: 0.6770 - val_loss: 1.1539 - val_accuracy: 0.7125\n",
            "Epoch 38/50\n",
            "25/25 [==============================] - 16s 654ms/step - loss: 0.6417 - accuracy: 0.7596 - val_loss: 1.1103 - val_accuracy: 0.6875\n",
            "Epoch 39/50\n",
            "25/25 [==============================] - 16s 653ms/step - loss: 0.6387 - accuracy: 0.7756 - val_loss: 1.2002 - val_accuracy: 0.7300\n",
            "Epoch 40/50\n",
            "25/25 [==============================] - 17s 663ms/step - loss: 0.6639 - accuracy: 0.7526 - val_loss: 1.4351 - val_accuracy: 0.5425\n",
            "Epoch 41/50\n",
            "25/25 [==============================] - 16s 654ms/step - loss: 0.8842 - accuracy: 0.7164 - val_loss: 1.0409 - val_accuracy: 0.7050\n",
            "Epoch 42/50\n",
            "25/25 [==============================] - 16s 654ms/step - loss: 0.5407 - accuracy: 0.7840 - val_loss: 0.9862 - val_accuracy: 0.7125\n",
            "Epoch 43/50\n",
            "25/25 [==============================] - 16s 654ms/step - loss: 0.6400 - accuracy: 0.7829 - val_loss: 1.0655 - val_accuracy: 0.7125\n",
            "Epoch 44/50\n",
            "25/25 [==============================] - 16s 654ms/step - loss: 0.6444 - accuracy: 0.7812 - val_loss: 1.1902 - val_accuracy: 0.7200\n",
            "Epoch 45/50\n",
            "25/25 [==============================] - 16s 656ms/step - loss: 0.6676 - accuracy: 0.7803 - val_loss: 0.9477 - val_accuracy: 0.7075\n",
            "Epoch 46/50\n",
            "25/25 [==============================] - 16s 656ms/step - loss: 0.5462 - accuracy: 0.8017 - val_loss: 1.3180 - val_accuracy: 0.6925\n",
            "Epoch 47/50\n",
            "25/25 [==============================] - 16s 652ms/step - loss: 0.6283 - accuracy: 0.7443 - val_loss: 1.4948 - val_accuracy: 0.7200\n",
            "Epoch 48/50\n",
            "25/25 [==============================] - 16s 648ms/step - loss: 0.5873 - accuracy: 0.7508 - val_loss: 1.1609 - val_accuracy: 0.6875\n",
            "Epoch 49/50\n",
            "25/25 [==============================] - 16s 653ms/step - loss: 0.6074 - accuracy: 0.7640 - val_loss: 1.2589 - val_accuracy: 0.6975\n",
            "Epoch 50/50\n",
            "25/25 [==============================] - 16s 651ms/step - loss: 0.6178 - accuracy: 0.7700 - val_loss: 1.5839 - val_accuracy: 0.7000\n"
          ],
          "name": "stdout"
        }
      ]
    },
    {
      "cell_type": "markdown",
      "metadata": {
        "id": "iRCyPKJfKm5Y"
      },
      "source": [
        "Fit and compile using the Adam optimizer. Describe the difference in performance between the Adam and RMSprop optimizers."
      ]
    },
    {
      "cell_type": "code",
      "metadata": {
        "id": "eqzQbCl8Km5Z",
        "colab": {
          "base_uri": "https://localhost:8080/"
        },
        "outputId": "4657bb59-558d-4aa6-c81a-5da08389e139"
      },
      "source": [
        "# adam opt\n",
        "m3.compile(loss=\"binary_crossentropy\", optimizer=\"adam\", metrics=[\"accuracy\"])\n",
        "with tf.device(\":/device:GPU:0\"):\n",
        "    start = time.time()\n",
        "    m4_hist = m3.fit(\n",
        "        train_generator,\n",
        "        steps_per_epoch=25,\n",
        "        epochs=epochs,\n",
        "        validation_data=validation_generator,\n",
        "        validation_steps=5)\n",
        "    m4_time = time.time() - start"
      ],
      "execution_count": 50,
      "outputs": [
        {
          "output_type": "stream",
          "text": [
            "Epoch 1/50\n",
            "25/25 [==============================] - 17s 667ms/step - loss: 0.8049 - accuracy: 0.7902 - val_loss: 1.4321 - val_accuracy: 0.7050\n",
            "Epoch 2/50\n",
            "25/25 [==============================] - 16s 657ms/step - loss: 0.7075 - accuracy: 0.8213 - val_loss: 0.9892 - val_accuracy: 0.7200\n",
            "Epoch 3/50\n",
            "25/25 [==============================] - 16s 653ms/step - loss: 0.5309 - accuracy: 0.7745 - val_loss: 1.1564 - val_accuracy: 0.7125\n",
            "Epoch 4/50\n",
            "25/25 [==============================] - 16s 648ms/step - loss: 0.4850 - accuracy: 0.8271 - val_loss: 1.4652 - val_accuracy: 0.7275\n",
            "Epoch 5/50\n",
            "25/25 [==============================] - 16s 653ms/step - loss: 0.4509 - accuracy: 0.8257 - val_loss: 1.3916 - val_accuracy: 0.7000\n",
            "Epoch 6/50\n",
            "25/25 [==============================] - 16s 656ms/step - loss: 0.4877 - accuracy: 0.8090 - val_loss: 1.3998 - val_accuracy: 0.6825\n",
            "Epoch 7/50\n",
            "25/25 [==============================] - 16s 653ms/step - loss: 0.4928 - accuracy: 0.8208 - val_loss: 1.0521 - val_accuracy: 0.7125\n",
            "Epoch 8/50\n",
            "25/25 [==============================] - 16s 657ms/step - loss: 0.4815 - accuracy: 0.8031 - val_loss: 1.1311 - val_accuracy: 0.6925\n",
            "Epoch 9/50\n",
            "25/25 [==============================] - 17s 665ms/step - loss: 0.5240 - accuracy: 0.7587 - val_loss: 1.4057 - val_accuracy: 0.6875\n",
            "Epoch 10/50\n",
            "25/25 [==============================] - 16s 657ms/step - loss: 0.5346 - accuracy: 0.8057 - val_loss: 1.4047 - val_accuracy: 0.7275\n",
            "Epoch 11/50\n",
            "25/25 [==============================] - 17s 663ms/step - loss: 0.5054 - accuracy: 0.8306 - val_loss: 1.5618 - val_accuracy: 0.7150\n",
            "Epoch 12/50\n",
            "25/25 [==============================] - 16s 652ms/step - loss: 0.5578 - accuracy: 0.7710 - val_loss: 0.9192 - val_accuracy: 0.6225\n",
            "Epoch 13/50\n",
            "25/25 [==============================] - 16s 656ms/step - loss: 0.5859 - accuracy: 0.7120 - val_loss: 1.2476 - val_accuracy: 0.6950\n",
            "Epoch 14/50\n",
            "25/25 [==============================] - 16s 657ms/step - loss: 0.5412 - accuracy: 0.7937 - val_loss: 1.7261 - val_accuracy: 0.6875\n",
            "Epoch 15/50\n",
            "25/25 [==============================] - 16s 659ms/step - loss: 0.5257 - accuracy: 0.8395 - val_loss: 1.2381 - val_accuracy: 0.7025\n",
            "Epoch 16/50\n",
            "25/25 [==============================] - 16s 653ms/step - loss: 0.4596 - accuracy: 0.8213 - val_loss: 1.2852 - val_accuracy: 0.6850\n",
            "Epoch 17/50\n",
            "25/25 [==============================] - 16s 656ms/step - loss: 0.4929 - accuracy: 0.8217 - val_loss: 1.3721 - val_accuracy: 0.7275\n",
            "Epoch 18/50\n",
            "25/25 [==============================] - 16s 651ms/step - loss: 0.4034 - accuracy: 0.8840 - val_loss: 1.8826 - val_accuracy: 0.7175\n",
            "Epoch 19/50\n",
            "25/25 [==============================] - 16s 652ms/step - loss: 0.4268 - accuracy: 0.8520 - val_loss: 1.0773 - val_accuracy: 0.6550\n",
            "Epoch 20/50\n",
            "25/25 [==============================] - 16s 652ms/step - loss: 0.5151 - accuracy: 0.8193 - val_loss: 1.5661 - val_accuracy: 0.7300\n",
            "Epoch 21/50\n",
            "25/25 [==============================] - 16s 659ms/step - loss: 0.3909 - accuracy: 0.8575 - val_loss: 1.5881 - val_accuracy: 0.6825\n",
            "Epoch 22/50\n",
            "25/25 [==============================] - 16s 652ms/step - loss: 0.5566 - accuracy: 0.8077 - val_loss: 1.2052 - val_accuracy: 0.6850\n",
            "Epoch 23/50\n",
            "25/25 [==============================] - 16s 650ms/step - loss: 0.5346 - accuracy: 0.8658 - val_loss: 1.4011 - val_accuracy: 0.7300\n",
            "Epoch 24/50\n",
            "25/25 [==============================] - 16s 661ms/step - loss: 0.4626 - accuracy: 0.8734 - val_loss: 1.3925 - val_accuracy: 0.7000\n",
            "Epoch 25/50\n",
            "25/25 [==============================] - 16s 656ms/step - loss: 0.4280 - accuracy: 0.8386 - val_loss: 1.5924 - val_accuracy: 0.6600\n",
            "Epoch 26/50\n",
            "25/25 [==============================] - 17s 666ms/step - loss: 0.6635 - accuracy: 0.7277 - val_loss: 1.3497 - val_accuracy: 0.6775\n",
            "Epoch 27/50\n",
            "25/25 [==============================] - 17s 674ms/step - loss: 0.5618 - accuracy: 0.8170 - val_loss: 1.4282 - val_accuracy: 0.6725\n",
            "Epoch 28/50\n",
            "25/25 [==============================] - 17s 671ms/step - loss: 0.4960 - accuracy: 0.8470 - val_loss: 1.9014 - val_accuracy: 0.6625\n",
            "Epoch 29/50\n",
            "25/25 [==============================] - 16s 656ms/step - loss: 0.4899 - accuracy: 0.8679 - val_loss: 1.5138 - val_accuracy: 0.6825\n",
            "Epoch 30/50\n",
            "25/25 [==============================] - 16s 656ms/step - loss: 0.4367 - accuracy: 0.8572 - val_loss: 1.4681 - val_accuracy: 0.7150\n",
            "Epoch 31/50\n",
            "25/25 [==============================] - 16s 656ms/step - loss: 0.3621 - accuracy: 0.8879 - val_loss: 2.2510 - val_accuracy: 0.6725\n",
            "Epoch 32/50\n",
            "25/25 [==============================] - 16s 657ms/step - loss: 0.3374 - accuracy: 0.9079 - val_loss: 1.6125 - val_accuracy: 0.7200\n",
            "Epoch 33/50\n",
            "25/25 [==============================] - 16s 652ms/step - loss: 0.4126 - accuracy: 0.8847 - val_loss: 1.6926 - val_accuracy: 0.6700\n",
            "Epoch 34/50\n",
            "25/25 [==============================] - 16s 657ms/step - loss: 0.3566 - accuracy: 0.8949 - val_loss: 1.8237 - val_accuracy: 0.6725\n",
            "Epoch 35/50\n",
            "25/25 [==============================] - 16s 658ms/step - loss: 0.4751 - accuracy: 0.8826 - val_loss: 1.7347 - val_accuracy: 0.6425\n",
            "Epoch 36/50\n",
            "25/25 [==============================] - 17s 662ms/step - loss: 0.3912 - accuracy: 0.8471 - val_loss: 1.3135 - val_accuracy: 0.7025\n",
            "Epoch 37/50\n",
            "25/25 [==============================] - 16s 652ms/step - loss: 0.3858 - accuracy: 0.8715 - val_loss: 2.0134 - val_accuracy: 0.6650\n",
            "Epoch 38/50\n",
            "25/25 [==============================] - 16s 652ms/step - loss: 0.4920 - accuracy: 0.8357 - val_loss: 1.5489 - val_accuracy: 0.6575\n",
            "Epoch 39/50\n",
            "25/25 [==============================] - 17s 663ms/step - loss: 0.5401 - accuracy: 0.8428 - val_loss: 1.5556 - val_accuracy: 0.6550\n",
            "Epoch 40/50\n",
            "25/25 [==============================] - 16s 660ms/step - loss: 0.5194 - accuracy: 0.8423 - val_loss: 4.0368 - val_accuracy: 0.5650\n",
            "Epoch 41/50\n",
            "25/25 [==============================] - 16s 654ms/step - loss: 1.1283 - accuracy: 0.7278 - val_loss: 1.2731 - val_accuracy: 0.6525\n",
            "Epoch 42/50\n",
            "25/25 [==============================] - 16s 658ms/step - loss: 0.5831 - accuracy: 0.8041 - val_loss: 1.4938 - val_accuracy: 0.6425\n",
            "Epoch 43/50\n",
            "25/25 [==============================] - 16s 659ms/step - loss: 1.1091 - accuracy: 0.7061 - val_loss: 0.8242 - val_accuracy: 0.5975\n",
            "Epoch 44/50\n",
            "25/25 [==============================] - 16s 653ms/step - loss: 0.5944 - accuracy: 0.7592 - val_loss: 1.2598 - val_accuracy: 0.6400\n",
            "Epoch 45/50\n",
            "25/25 [==============================] - 16s 661ms/step - loss: 0.9317 - accuracy: 0.7786 - val_loss: 5.3324 - val_accuracy: 0.5100\n",
            "Epoch 46/50\n",
            "25/25 [==============================] - 17s 662ms/step - loss: 7.3591 - accuracy: 0.4899 - val_loss: 7.4434 - val_accuracy: 0.5075\n",
            "Epoch 47/50\n",
            "25/25 [==============================] - 17s 661ms/step - loss: 7.0693 - accuracy: 0.5277 - val_loss: 7.3328 - val_accuracy: 0.5150\n",
            "Epoch 48/50\n",
            "25/25 [==============================] - 16s 657ms/step - loss: 7.1932 - accuracy: 0.5229 - val_loss: 7.4721 - val_accuracy: 0.5100\n",
            "Epoch 49/50\n",
            "25/25 [==============================] - 16s 659ms/step - loss: 7.5806 - accuracy: 0.4935 - val_loss: 7.8534 - val_accuracy: 0.4850\n",
            "Epoch 50/50\n",
            "25/25 [==============================] - 16s 660ms/step - loss: 7.6293 - accuracy: 0.4990 - val_loss: 7.7390 - val_accuracy: 0.4925\n"
          ],
          "name": "stdout"
        }
      ]
    },
    {
      "cell_type": "code",
      "metadata": {
        "id": "drRBa855Km5a"
      },
      "source": [
        "d = {\"RMSProp_base\" : m1_hist.history[\"accuracy\"],\r\n",
        "     \"RMSProp_+1\" : m2_hist.history[\"accuracy\"],\r\n",
        "     \"RMSProp_+1+D\" : m3_hist.history[\"accuracy\"],\r\n",
        "     \"Adam\" : m4_hist.history[\"accuracy\"]}\r\n",
        "results = pd.DataFrame(\r\n",
        "    data=d)"
      ],
      "execution_count": 51,
      "outputs": []
    },
    {
      "cell_type": "code",
      "metadata": {
        "colab": {
          "base_uri": "https://localhost:8080/",
          "height": 499
        },
        "id": "tIG_WinXQLng",
        "outputId": "197172b6-4f39-492d-c007-10c29d0ba1de"
      },
      "source": [
        "import seaborn as sns\r\n",
        "import matplotlib.pyplot as plt\r\n",
        "\r\n",
        "plt.figure(figsize=(12,8))\r\n",
        "plt.title(\"Accuracy\")\r\n",
        "sns.lineplot(data=results)\r\n",
        "plt.show()"
      ],
      "execution_count": 52,
      "outputs": [
        {
          "output_type": "display_data",
          "data": {
            "image/png": "[encoded data removed]",
            "text/plain": [
              "<Figure size 864x576 with 1 Axes>"
            ]
          },
          "metadata": {
            "tags": [],
            "needs_background": "light"
          }
        }
      ]
    },
    {
      "cell_type": "code",
      "metadata": {
        "colab": {
          "base_uri": "https://localhost:8080/",
          "height": 173
        },
        "id": "3olSdoGOQMZG",
        "outputId": "b7817316-8013-49a5-8d30-6afde870caad"
      },
      "source": [
        "runtime = pd.DataFrame(index=[\"RMSProp_base\", \"RMSProp_+1\", \"RMSProp_+1+D\", \"Adam\"],\r\n",
        "                       data={\"runtime\" : [m1_time, m2_time, m3_time, m4_time]})\r\n",
        "runtime.head()"
      ],
      "execution_count": 53,
      "outputs": [
        {
          "output_type": "execute_result",
          "data": {
            "text/html": [
              "<div>\n",
              "<style scoped>\n",
              "    .dataframe tbody tr th:only-of-type {\n",
              "        vertical-align: middle;\n",
              "    }\n",
              "\n",
              "    .dataframe tbody tr th {\n",
              "        vertical-align: top;\n",
              "    }\n",
              "\n",
              "    .dataframe thead th {\n",
              "        text-align: right;\n",
              "    }\n",
              "</style>\n",
              "<table border=\"1\" class=\"dataframe\">\n",
              "  <thead>\n",
              "    <tr style=\"text-align: right;\">\n",
              "      <th></th>\n",
              "      <th>runtime</th>\n",
              "    </tr>\n",
              "  </thead>\n",
              "  <tbody>\n",
              "    <tr>\n",
              "      <th>RMSProp_base</th>\n",
              "      <td>826.688099</td>\n",
              "    </tr>\n",
              "    <tr>\n",
              "      <th>RMSProp_+1</th>\n",
              "      <td>817.998547</td>\n",
              "    </tr>\n",
              "    <tr>\n",
              "      <th>RMSProp_+1+D</th>\n",
              "      <td>818.175227</td>\n",
              "    </tr>\n",
              "    <tr>\n",
              "      <th>Adam</th>\n",
              "      <td>822.419061</td>\n",
              "    </tr>\n",
              "  </tbody>\n",
              "</table>\n",
              "</div>"
            ],
            "text/plain": [
              "                 runtime\n",
              "RMSProp_base  826.688099\n",
              "RMSProp_+1    817.998547\n",
              "RMSProp_+1+D  818.175227\n",
              "Adam          822.419061"
            ]
          },
          "metadata": {
            "tags": []
          },
          "execution_count": 53
        }
      ]
    },
    {
      "cell_type": "markdown",
      "metadata": {
        "id": "GFiYJSzxQaVv"
      },
      "source": [
        ""
      ]
    }
  ]
}