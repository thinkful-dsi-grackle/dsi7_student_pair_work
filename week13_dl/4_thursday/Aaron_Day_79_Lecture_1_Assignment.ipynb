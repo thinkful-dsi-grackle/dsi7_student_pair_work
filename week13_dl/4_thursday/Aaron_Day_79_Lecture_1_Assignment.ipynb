{
  "nbformat": 4,
  "nbformat_minor": 0,
  "metadata": {
    "kernelspec": {
      "display_name": "Python 3",
      "language": "python",
      "name": "python3"
    },
    "language_info": {
      "codemirror_mode": {
        "name": "ipython",
        "version": 3
      },
      "file_extension": ".py",
      "mimetype": "text/x-python",
      "name": "python",
      "nbconvert_exporter": "python",
      "pygments_lexer": "ipython3",
      "version": "3.7.0"
    },
    "colab": {
      "name": "Aaron_Day_79_Lecture_1_Assignment.ipynb",
      "provenance": [],
      "collapsed_sections": []
    },
    "accelerator": "GPU"
  },
  "cells": [
    {
      "cell_type": "markdown",
      "metadata": {
        "id": "DuT0K8LDKm45"
      },
      "source": [
        "## Convolutional Neural Networks\n",
        "\n",
        "In this assignment, we will learn about convolutional neural networks. We will create a CNN and learn to classify image data."
      ]
    },
    {
      "cell_type": "markdown",
      "metadata": {
        "id": "tMD7Nr8hKm47"
      },
      "source": [
        "In this lecture, we will use the image data generator to classify our data. The data is loaded below:"
      ]
    },
    {
      "cell_type": "code",
      "metadata": {
        "id": "6swIc-rGKm47"
      },
      "source": [
        "import numpy as np\n",
        "import pandas as pd\n",
        "\n",
        "from tensorflow.keras.preprocessing.image import ImageDataGenerator\n",
        "from tensorflow.keras.models import Sequential\n",
        "from tensorflow.keras.layers import Conv2D, MaxPooling2D\n",
        "from tensorflow.keras.layers import Activation, Dropout, Flatten, Dense, BatchNormalization \n",
        "from tensorflow.keras import backend as K\n",
        "from tensorflow.keras.models import Model"
      ],
      "execution_count": null,
      "outputs": []
    },
    {
      "cell_type": "code",
      "metadata": {
        "id": "WxuDmAQlKm4-"
      },
      "source": [
        "train_data_dir = '/content/drive/MyDrive/Datasets/dogs-vs-cats-processed/train'\n",
        "validation_data_dir = '/content/drive/MyDrive/Datasets/dogs-vs-cats-processed/test'\n",
        "\n",
        "img_width, img_height = 150, 150\n",
        "batch_size = 80"
      ],
      "execution_count": null,
      "outputs": []
    },
    {
      "cell_type": "code",
      "metadata": {
        "id": "SCfRV8VGKm5A"
      },
      "source": [
        "#This block of code is used to ensure the input shape is correct\n",
        "\n",
        "if K.image_data_format() == 'channels_first':\n",
        "    input_shape = (3, img_width, img_height)\n",
        "else:\n",
        "    input_shape = (img_width, img_height, 3)"
      ],
      "execution_count": null,
      "outputs": []
    },
    {
      "cell_type": "markdown",
      "metadata": {
        "id": "T4x9el54Km5C"
      },
      "source": [
        "Define a train data generator with shear range of 0.3, zoom range of 0.1 and rescale to 1./255 (note that we must make 1 a float to produce a correct fraction). Use the ImageDataGenerator function."
      ]
    },
    {
      "cell_type": "code",
      "metadata": {
        "id": "EfKBxGZpKm5D"
      },
      "source": [
        "# Answer below:\n",
        "train_datagen = ImageDataGenerator(\n",
        "    rescale=1./255,\n",
        "    shear_range=0.3,\n",
        "    zoom_range=0.1, \n",
        ")"
      ],
      "execution_count": null,
      "outputs": []
    },
    {
      "cell_type": "markdown",
      "metadata": {
        "id": "5oQJZOxNKm5E"
      },
      "source": [
        "Define a test data generator that only rescales to 1./255. Use the ImageDataGenerator function."
      ]
    },
    {
      "cell_type": "code",
      "metadata": {
        "id": "_U3XQZVLKm5F"
      },
      "source": [
        "# Answer below:\n",
        "\n",
        "test_datagen = ImageDataGenerator(rescale=1./255)"
      ],
      "execution_count": null,
      "outputs": []
    },
    {
      "cell_type": "markdown",
      "metadata": {
        "id": "S0NCOxrCKm5G"
      },
      "source": [
        "The train generator and the test generator are defined below:"
      ]
    },
    {
      "cell_type": "code",
      "metadata": {
        "id": "zDgonF6uKm5H",
        "colab": {
          "base_uri": "https://localhost:8080/"
        },
        "outputId": "4207d66e-beff-47fd-c475-f3fa72788b95"
      },
      "source": [
        "train_generator = train_datagen.flow_from_directory(\n",
        "    train_data_dir,\n",
        "    target_size=(img_width, img_height),\n",
        "    batch_size=batch_size,\n",
        "    class_mode='binary')\n",
        "\n",
        "validation_generator = test_datagen.flow_from_directory(\n",
        "    validation_data_dir,\n",
        "    target_size=(img_width, img_height),\n",
        "    batch_size=batch_size,\n",
        "    #shuffle=False,\n",
        "    class_mode='binary')"
      ],
      "execution_count": null,
      "outputs": [
        {
          "output_type": "stream",
          "text": [
            "Found 2000 images belonging to 2 classes.\n",
            "Found 802 images belonging to 2 classes.\n"
          ],
          "name": "stdout"
        }
      ]
    },
    {
      "cell_type": "markdown",
      "metadata": {
        "id": "0lq09r31Km5K"
      },
      "source": [
        "We'll start with a simple model. In CNNs, we first convolve the to extract features and then we add the dense layers. \n",
        "\n",
        "Create a model with one layer of convolution of size 64, one layer of activation, one layer of max pooling with pool size (2,2) and then one flattening layer, one dense layer of unit size 64 with a ReLU activation and one dense output layer. The output layer should have a sigmoid activation."
      ]
    },
    {
      "cell_type": "code",
      "metadata": {
        "colab": {
          "base_uri": "https://localhost:8080/"
        },
        "id": "d0Zh7i1Kp_QJ",
        "outputId": "d9dcdf48-b6bc-4b14-ccaa-712413d053da"
      },
      "source": [
        "input_shape"
      ],
      "execution_count": null,
      "outputs": [
        {
          "output_type": "execute_result",
          "data": {
            "text/plain": [
              "(150, 150, 3)"
            ]
          },
          "metadata": {
            "tags": []
          },
          "execution_count": 18
        }
      ]
    },
    {
      "cell_type": "code",
      "metadata": {
        "id": "IJqkMx3tKm5K",
        "colab": {
          "base_uri": "https://localhost:8080/"
        },
        "outputId": "49657a80-e5db-4bcc-b1f9-a618633dd7de"
      },
      "source": [
        "# Answer below:\n",
        "\n",
        "model = Sequential()\n",
        "\n",
        "model.add(Conv2D(64,  (3,3), input_shape=input_shape))\n",
        "model.add(Activation('relu'))\n",
        "model.add(MaxPooling2D(pool_size=(2,2)))\n",
        "\n",
        "model.add(Flatten())\n",
        "model.add(Dense(64, activation='relu'))\n",
        "model.add(Dense(1, activation='sigmoid'))\n",
        "\n",
        "model.summary()"
      ],
      "execution_count": null,
      "outputs": [
        {
          "output_type": "stream",
          "text": [
            "Model: \"sequential_1\"\n",
            "_________________________________________________________________\n",
            "Layer (type)                 Output Shape              Param #   \n",
            "=================================================================\n",
            "conv2d (Conv2D)              (None, 148, 148, 64)      1792      \n",
            "_________________________________________________________________\n",
            "activation (Activation)      (None, 148, 148, 64)      0         \n",
            "_________________________________________________________________\n",
            "max_pooling2d (MaxPooling2D) (None, 74, 74, 64)        0         \n",
            "_________________________________________________________________\n",
            "flatten (Flatten)            (None, 350464)            0         \n",
            "_________________________________________________________________\n",
            "dense (Dense)                (None, 64)                22429760  \n",
            "_________________________________________________________________\n",
            "dense_1 (Dense)              (None, 1)                 65        \n",
            "=================================================================\n",
            "Total params: 22,431,617\n",
            "Trainable params: 22,431,617\n",
            "Non-trainable params: 0\n",
            "_________________________________________________________________\n"
          ],
          "name": "stdout"
        }
      ]
    },
    {
      "cell_type": "markdown",
      "metadata": {
        "id": "hEBJ5GXcKm5M"
      },
      "source": [
        "Compile the model using RMSprop."
      ]
    },
    {
      "cell_type": "code",
      "metadata": {
        "id": "85uyZ1yTKm5M"
      },
      "source": [
        "# Answer below:\n",
        "\n",
        "model.compile(optimizer='rmsprop', loss='binary_crossentropy', metrics=['accuracy'])\n"
      ],
      "execution_count": null,
      "outputs": []
    },
    {
      "cell_type": "markdown",
      "metadata": {
        "id": "uIKSpMe-Km5O"
      },
      "source": [
        "Fit the model using a fit generator. Use 50 epochs, 25 training steps and 15 validation steps"
      ]
    },
    {
      "cell_type": "code",
      "metadata": {
        "id": "NFfKyhLzKm5O",
        "colab": {
          "base_uri": "https://localhost:8080/"
        },
        "outputId": "d612214f-988a-4313-ea19-c6a7fa4e0e33"
      },
      "source": [
        "# Answer below:\n",
        "\n",
        "nb_epochs = 50\n",
        "nb_training_steps = 25\n",
        "nb_validation_steps = 10\n",
        "\n",
        "model.fit(train_generator, \n",
        "                    epochs=nb_epochs, \n",
        "                    steps_per_epoch=nb_training_steps, \n",
        "                    validation_data=validation_generator, \n",
        "                    validation_steps=nb_validation_steps\n",
        "                    )"
      ],
      "execution_count": null,
      "outputs": [
        {
          "output_type": "stream",
          "text": [
            "Epoch 1/50\n",
            "25/25 [==============================] - 599s 24s/step - loss: 9.1047 - accuracy: 0.5125 - val_loss: 1.0635 - val_accuracy: 0.4988\n",
            "Epoch 2/50\n",
            "25/25 [==============================] - 18s 724ms/step - loss: 0.7744 - accuracy: 0.5206 - val_loss: 0.6588 - val_accuracy: 0.5975\n",
            "Epoch 3/50\n",
            "25/25 [==============================] - 18s 721ms/step - loss: 0.6995 - accuracy: 0.5985 - val_loss: 0.6434 - val_accuracy: 0.6212\n",
            "Epoch 4/50\n",
            "25/25 [==============================] - 18s 723ms/step - loss: 0.6581 - accuracy: 0.6561 - val_loss: 0.6362 - val_accuracy: 0.6350\n",
            "Epoch 5/50\n",
            "25/25 [==============================] - 18s 715ms/step - loss: 0.6357 - accuracy: 0.6574 - val_loss: 0.6330 - val_accuracy: 0.6762\n",
            "Epoch 6/50\n",
            "25/25 [==============================] - 18s 725ms/step - loss: 0.6104 - accuracy: 0.6843 - val_loss: 0.6440 - val_accuracy: 0.6787\n",
            "Epoch 7/50\n",
            "25/25 [==============================] - 18s 731ms/step - loss: 0.5779 - accuracy: 0.7359 - val_loss: 0.6331 - val_accuracy: 0.6550\n",
            "Epoch 8/50\n",
            "25/25 [==============================] - 18s 725ms/step - loss: 0.5611 - accuracy: 0.7092 - val_loss: 0.6229 - val_accuracy: 0.6425\n",
            "Epoch 9/50\n",
            "25/25 [==============================] - 18s 729ms/step - loss: 0.5456 - accuracy: 0.7487 - val_loss: 0.5956 - val_accuracy: 0.6950\n",
            "Epoch 10/50\n",
            "25/25 [==============================] - 18s 720ms/step - loss: 0.5058 - accuracy: 0.7702 - val_loss: 0.7950 - val_accuracy: 0.5925\n",
            "Epoch 11/50\n",
            "25/25 [==============================] - 18s 737ms/step - loss: 0.5193 - accuracy: 0.7379 - val_loss: 0.6155 - val_accuracy: 0.6862\n",
            "Epoch 12/50\n",
            "25/25 [==============================] - 18s 729ms/step - loss: 0.4642 - accuracy: 0.7816 - val_loss: 0.6149 - val_accuracy: 0.6812\n",
            "Epoch 13/50\n",
            "25/25 [==============================] - 18s 741ms/step - loss: 0.4360 - accuracy: 0.8120 - val_loss: 0.6415 - val_accuracy: 0.6850\n",
            "Epoch 14/50\n",
            "25/25 [==============================] - 19s 748ms/step - loss: 0.4037 - accuracy: 0.8366 - val_loss: 0.6212 - val_accuracy: 0.6875\n",
            "Epoch 15/50\n",
            "25/25 [==============================] - 18s 732ms/step - loss: 0.4028 - accuracy: 0.8229 - val_loss: 0.8924 - val_accuracy: 0.6212\n",
            "Epoch 16/50\n",
            "25/25 [==============================] - 18s 740ms/step - loss: 0.4088 - accuracy: 0.8224 - val_loss: 0.6884 - val_accuracy: 0.6800\n",
            "Epoch 17/50\n",
            "25/25 [==============================] - 18s 740ms/step - loss: 0.3263 - accuracy: 0.8795 - val_loss: 0.7048 - val_accuracy: 0.6687\n",
            "Epoch 18/50\n",
            "25/25 [==============================] - 18s 735ms/step - loss: 0.3337 - accuracy: 0.8491 - val_loss: 0.6836 - val_accuracy: 0.6975\n",
            "Epoch 19/50\n",
            "25/25 [==============================] - 18s 739ms/step - loss: 0.3296 - accuracy: 0.8682 - val_loss: 0.7359 - val_accuracy: 0.6850\n",
            "Epoch 20/50\n",
            "25/25 [==============================] - 19s 751ms/step - loss: 0.3238 - accuracy: 0.8651 - val_loss: 0.6672 - val_accuracy: 0.6925\n",
            "Epoch 21/50\n",
            "25/25 [==============================] - 18s 731ms/step - loss: 0.2503 - accuracy: 0.9221 - val_loss: 0.8392 - val_accuracy: 0.6787\n",
            "Epoch 22/50\n",
            "25/25 [==============================] - 18s 739ms/step - loss: 0.2727 - accuracy: 0.8833 - val_loss: 0.7886 - val_accuracy: 0.6900\n",
            "Epoch 23/50\n",
            "25/25 [==============================] - 18s 735ms/step - loss: 0.2580 - accuracy: 0.8963 - val_loss: 0.8259 - val_accuracy: 0.6775\n",
            "Epoch 24/50\n",
            "25/25 [==============================] - 19s 746ms/step - loss: 0.2076 - accuracy: 0.9219 - val_loss: 0.7648 - val_accuracy: 0.7025\n",
            "Epoch 25/50\n",
            "25/25 [==============================] - 19s 745ms/step - loss: 0.2116 - accuracy: 0.9229 - val_loss: 0.8647 - val_accuracy: 0.7000\n",
            "Epoch 26/50\n",
            "25/25 [==============================] - 19s 747ms/step - loss: 0.1787 - accuracy: 0.9282 - val_loss: 0.7782 - val_accuracy: 0.6988\n",
            "Epoch 27/50\n",
            "25/25 [==============================] - 18s 741ms/step - loss: 0.1690 - accuracy: 0.9386 - val_loss: 0.8328 - val_accuracy: 0.6875\n",
            "Epoch 28/50\n",
            "25/25 [==============================] - 18s 743ms/step - loss: 0.1492 - accuracy: 0.9453 - val_loss: 0.9988 - val_accuracy: 0.6800\n",
            "Epoch 29/50\n",
            "25/25 [==============================] - 19s 749ms/step - loss: 0.1231 - accuracy: 0.9599 - val_loss: 1.1704 - val_accuracy: 0.6862\n",
            "Epoch 30/50\n",
            "25/25 [==============================] - 19s 759ms/step - loss: 0.1846 - accuracy: 0.9333 - val_loss: 2.0780 - val_accuracy: 0.5562\n",
            "Epoch 31/50\n",
            "25/25 [==============================] - 19s 752ms/step - loss: 0.1953 - accuracy: 0.9225 - val_loss: 0.8949 - val_accuracy: 0.6700\n",
            "Epoch 32/50\n",
            "25/25 [==============================] - 19s 746ms/step - loss: 0.1069 - accuracy: 0.9724 - val_loss: 0.9237 - val_accuracy: 0.6900\n",
            "Epoch 33/50\n",
            "25/25 [==============================] - 19s 750ms/step - loss: 0.1047 - accuracy: 0.9699 - val_loss: 1.0411 - val_accuracy: 0.6913\n",
            "Epoch 34/50\n",
            "25/25 [==============================] - 19s 744ms/step - loss: 0.0794 - accuracy: 0.9784 - val_loss: 0.9946 - val_accuracy: 0.6762\n",
            "Epoch 35/50\n",
            "25/25 [==============================] - 19s 741ms/step - loss: 0.0808 - accuracy: 0.9770 - val_loss: 1.1776 - val_accuracy: 0.7000\n",
            "Epoch 36/50\n",
            "25/25 [==============================] - 19s 746ms/step - loss: 0.1301 - accuracy: 0.9510 - val_loss: 2.1502 - val_accuracy: 0.6325\n",
            "Epoch 37/50\n",
            "25/25 [==============================] - 19s 749ms/step - loss: 0.1795 - accuracy: 0.9453 - val_loss: 1.1378 - val_accuracy: 0.7025\n",
            "Epoch 38/50\n",
            "25/25 [==============================] - 19s 745ms/step - loss: 0.1431 - accuracy: 0.9485 - val_loss: 1.1257 - val_accuracy: 0.6925\n",
            "Epoch 39/50\n",
            "25/25 [==============================] - 19s 744ms/step - loss: 0.0711 - accuracy: 0.9779 - val_loss: 1.1051 - val_accuracy: 0.6975\n",
            "Epoch 40/50\n",
            "25/25 [==============================] - 18s 742ms/step - loss: 0.0419 - accuracy: 0.9899 - val_loss: 1.8827 - val_accuracy: 0.6500\n",
            "Epoch 41/50\n",
            "25/25 [==============================] - 19s 746ms/step - loss: 0.1079 - accuracy: 0.9623 - val_loss: 2.0640 - val_accuracy: 0.6012\n",
            "Epoch 42/50\n",
            "25/25 [==============================] - 19s 760ms/step - loss: 0.1175 - accuracy: 0.9553 - val_loss: 1.0883 - val_accuracy: 0.6913\n",
            "Epoch 43/50\n",
            "25/25 [==============================] - 19s 753ms/step - loss: 0.0365 - accuracy: 0.9935 - val_loss: 1.2667 - val_accuracy: 0.6913\n",
            "Epoch 44/50\n",
            "25/25 [==============================] - 19s 746ms/step - loss: 0.0977 - accuracy: 0.9615 - val_loss: 1.3435 - val_accuracy: 0.6825\n",
            "Epoch 45/50\n",
            "25/25 [==============================] - 19s 747ms/step - loss: 0.0885 - accuracy: 0.9634 - val_loss: 1.2976 - val_accuracy: 0.6850\n",
            "Epoch 46/50\n",
            "25/25 [==============================] - 19s 751ms/step - loss: 0.0401 - accuracy: 0.9918 - val_loss: 1.0919 - val_accuracy: 0.6675\n",
            "Epoch 47/50\n",
            "25/25 [==============================] - 19s 766ms/step - loss: 0.0251 - accuracy: 0.9990 - val_loss: 2.5408 - val_accuracy: 0.6400\n",
            "Epoch 48/50\n",
            "25/25 [==============================] - 19s 745ms/step - loss: 0.1176 - accuracy: 0.9561 - val_loss: 1.3168 - val_accuracy: 0.6975\n",
            "Epoch 49/50\n",
            "25/25 [==============================] - 18s 742ms/step - loss: 0.0354 - accuracy: 0.9892 - val_loss: 1.2297 - val_accuracy: 0.6975\n",
            "Epoch 50/50\n",
            "25/25 [==============================] - 19s 745ms/step - loss: 0.0289 - accuracy: 0.9896 - val_loss: 1.4772 - val_accuracy: 0.6812\n"
          ],
          "name": "stdout"
        },
        {
          "output_type": "execute_result",
          "data": {
            "text/plain": [
              "<tensorflow.python.keras.callbacks.History at 0x7eff52a37f28>"
            ]
          },
          "metadata": {
            "tags": []
          },
          "execution_count": 24
        }
      ]
    },
    {
      "cell_type": "markdown",
      "metadata": {
        "id": "QAZ1IeybKm5Q"
      },
      "source": [
        "Create a new model by adding an additional group of convolution, activation and max pooling layers before the flatten layer. Make the convolution layer of unit size 32. Keep everything else the same."
      ]
    },
    {
      "cell_type": "code",
      "metadata": {
        "id": "651SH4QGKm5Q",
        "colab": {
          "base_uri": "https://localhost:8080/"
        },
        "outputId": "e354c077-a72c-42da-9b9f-ddacd0fafdee"
      },
      "source": [
        "# Answer below:\n",
        "\n",
        "model = Sequential()\n",
        "\n",
        "model.add(Conv2D(64,  (3,3), input_shape=input_shape))\n",
        "model.add(Activation('relu'))\n",
        "model.add(MaxPooling2D(pool_size=(2,2)))\n",
        "\n",
        "model.add(Conv2D(32,  (3,3)))\n",
        "model.add(Activation('relu'))\n",
        "model.add(MaxPooling2D(pool_size=(2,2)))\n",
        "\n",
        "model.add(Flatten())\n",
        "model.add(Dense(64, activation='relu'))\n",
        "model.add(Dense(1, activation='sigmoid'))\n",
        "\n",
        "model.summary()\n"
      ],
      "execution_count": null,
      "outputs": [
        {
          "output_type": "stream",
          "text": [
            "Model: \"sequential_2\"\n",
            "_________________________________________________________________\n",
            "Layer (type)                 Output Shape              Param #   \n",
            "=================================================================\n",
            "conv2d_1 (Conv2D)            (None, 148, 148, 64)      1792      \n",
            "_________________________________________________________________\n",
            "activation_1 (Activation)    (None, 148, 148, 64)      0         \n",
            "_________________________________________________________________\n",
            "max_pooling2d_1 (MaxPooling2 (None, 74, 74, 64)        0         \n",
            "_________________________________________________________________\n",
            "conv2d_2 (Conv2D)            (None, 72, 72, 32)        18464     \n",
            "_________________________________________________________________\n",
            "activation_2 (Activation)    (None, 72, 72, 32)        0         \n",
            "_________________________________________________________________\n",
            "max_pooling2d_2 (MaxPooling2 (None, 36, 36, 32)        0         \n",
            "_________________________________________________________________\n",
            "flatten_1 (Flatten)          (None, 41472)             0         \n",
            "_________________________________________________________________\n",
            "dense_2 (Dense)              (None, 64)                2654272   \n",
            "_________________________________________________________________\n",
            "dense_3 (Dense)              (None, 1)                 65        \n",
            "=================================================================\n",
            "Total params: 2,674,593\n",
            "Trainable params: 2,674,593\n",
            "Non-trainable params: 0\n",
            "_________________________________________________________________\n"
          ],
          "name": "stdout"
        }
      ]
    },
    {
      "cell_type": "markdown",
      "metadata": {
        "id": "fHfpSfgyKm5S"
      },
      "source": [
        "Fit and compile the model in the same way you did with the previous model. How did the results improve?"
      ]
    },
    {
      "cell_type": "code",
      "metadata": {
        "id": "k5nPg_LmKm5S",
        "colab": {
          "base_uri": "https://localhost:8080/"
        },
        "outputId": "d06512cd-7d78-458e-f846-cec2edc2c0bf"
      },
      "source": [
        "# Answer below:\n",
        "\n",
        "model.compile(optimizer='rmsprop', loss='binary_crossentropy', metrics=['accuracy'])\n",
        "\n",
        "model.fit(train_generator, \n",
        "                    epochs=nb_epochs, \n",
        "                    steps_per_epoch=nb_training_steps, \n",
        "                    validation_data=validation_generator, \n",
        "                    validation_steps=nb_validation_steps\n",
        "                    )"
      ],
      "execution_count": null,
      "outputs": [
        {
          "output_type": "stream",
          "text": [
            "Epoch 1/50\n",
            "25/25 [==============================] - 20s 765ms/step - loss: 2.0847 - accuracy: 0.5459 - val_loss: 0.6866 - val_accuracy: 0.5600\n",
            "Epoch 2/50\n",
            "25/25 [==============================] - 19s 761ms/step - loss: 0.7514 - accuracy: 0.5941 - val_loss: 0.6897 - val_accuracy: 0.5263\n",
            "Epoch 3/50\n",
            "25/25 [==============================] - 19s 750ms/step - loss: 0.6697 - accuracy: 0.6172 - val_loss: 0.6856 - val_accuracy: 0.5650\n",
            "Epoch 4/50\n",
            "25/25 [==============================] - 19s 748ms/step - loss: 0.6590 - accuracy: 0.6715 - val_loss: 0.6693 - val_accuracy: 0.5813\n",
            "Epoch 5/50\n",
            "25/25 [==============================] - 19s 750ms/step - loss: 0.6053 - accuracy: 0.6898 - val_loss: 0.6679 - val_accuracy: 0.5913\n",
            "Epoch 6/50\n",
            "25/25 [==============================] - 19s 755ms/step - loss: 0.6616 - accuracy: 0.6911 - val_loss: 0.6217 - val_accuracy: 0.6612\n",
            "Epoch 7/50\n",
            "25/25 [==============================] - 19s 758ms/step - loss: 0.6620 - accuracy: 0.6936 - val_loss: 0.6224 - val_accuracy: 0.6700\n",
            "Epoch 8/50\n",
            "25/25 [==============================] - 19s 761ms/step - loss: 0.5506 - accuracy: 0.7249 - val_loss: 0.6716 - val_accuracy: 0.6525\n",
            "Epoch 9/50\n",
            "25/25 [==============================] - 19s 754ms/step - loss: 0.4824 - accuracy: 0.7451 - val_loss: 0.6564 - val_accuracy: 0.6587\n",
            "Epoch 10/50\n",
            "25/25 [==============================] - 19s 761ms/step - loss: 0.4480 - accuracy: 0.7923 - val_loss: 0.6685 - val_accuracy: 0.6438\n",
            "Epoch 11/50\n",
            "25/25 [==============================] - 19s 754ms/step - loss: 0.4412 - accuracy: 0.7992 - val_loss: 0.7027 - val_accuracy: 0.6363\n",
            "Epoch 12/50\n",
            "25/25 [==============================] - 19s 754ms/step - loss: 0.3979 - accuracy: 0.8173 - val_loss: 1.7788 - val_accuracy: 0.5288\n",
            "Epoch 13/50\n",
            "25/25 [==============================] - 19s 765ms/step - loss: 0.4642 - accuracy: 0.8016 - val_loss: 0.6983 - val_accuracy: 0.6762\n",
            "Epoch 14/50\n",
            "25/25 [==============================] - 19s 778ms/step - loss: 0.5268 - accuracy: 0.8091 - val_loss: 0.7542 - val_accuracy: 0.6875\n",
            "Epoch 15/50\n",
            "25/25 [==============================] - 19s 757ms/step - loss: 0.3205 - accuracy: 0.8560 - val_loss: 0.7221 - val_accuracy: 0.6762\n",
            "Epoch 16/50\n",
            "25/25 [==============================] - 19s 755ms/step - loss: 0.3053 - accuracy: 0.8814 - val_loss: 0.8853 - val_accuracy: 0.6612\n",
            "Epoch 17/50\n",
            "25/25 [==============================] - 19s 767ms/step - loss: 0.2815 - accuracy: 0.8834 - val_loss: 0.8153 - val_accuracy: 0.6662\n",
            "Epoch 18/50\n",
            "25/25 [==============================] - 19s 757ms/step - loss: 0.2260 - accuracy: 0.9045 - val_loss: 0.8582 - val_accuracy: 0.6988\n",
            "Epoch 19/50\n",
            "25/25 [==============================] - 19s 751ms/step - loss: 0.2597 - accuracy: 0.8943 - val_loss: 0.8503 - val_accuracy: 0.6750\n",
            "Epoch 20/50\n",
            "25/25 [==============================] - 19s 756ms/step - loss: 0.2110 - accuracy: 0.9177 - val_loss: 0.9053 - val_accuracy: 0.6750\n",
            "Epoch 21/50\n",
            "25/25 [==============================] - 19s 749ms/step - loss: 0.1977 - accuracy: 0.9320 - val_loss: 1.0461 - val_accuracy: 0.6775\n",
            "Epoch 22/50\n",
            "25/25 [==============================] - 19s 756ms/step - loss: 0.1441 - accuracy: 0.9540 - val_loss: 1.1081 - val_accuracy: 0.6750\n",
            "Epoch 23/50\n",
            "25/25 [==============================] - 20s 788ms/step - loss: 0.1366 - accuracy: 0.9519 - val_loss: 1.3533 - val_accuracy: 0.6637\n",
            "Epoch 24/50\n",
            "25/25 [==============================] - 20s 800ms/step - loss: 0.1386 - accuracy: 0.9483 - val_loss: 1.1691 - val_accuracy: 0.6725\n",
            "Epoch 25/50\n",
            "25/25 [==============================] - 20s 787ms/step - loss: 0.1006 - accuracy: 0.9609 - val_loss: 1.3340 - val_accuracy: 0.6550\n",
            "Epoch 26/50\n",
            "25/25 [==============================] - 19s 777ms/step - loss: 0.1438 - accuracy: 0.9461 - val_loss: 1.1465 - val_accuracy: 0.6900\n",
            "Epoch 27/50\n",
            "25/25 [==============================] - 19s 779ms/step - loss: 0.0807 - accuracy: 0.9783 - val_loss: 1.4814 - val_accuracy: 0.6538\n",
            "Epoch 28/50\n",
            "25/25 [==============================] - 19s 767ms/step - loss: 0.0868 - accuracy: 0.9631 - val_loss: 1.5718 - val_accuracy: 0.6175\n",
            "Epoch 29/50\n",
            "25/25 [==============================] - 19s 767ms/step - loss: 0.3370 - accuracy: 0.9081 - val_loss: 1.4770 - val_accuracy: 0.6787\n",
            "Epoch 30/50\n",
            "25/25 [==============================] - 20s 787ms/step - loss: 0.0678 - accuracy: 0.9812 - val_loss: 1.4157 - val_accuracy: 0.6650\n",
            "Epoch 31/50\n",
            "25/25 [==============================] - 19s 766ms/step - loss: 0.0912 - accuracy: 0.9725 - val_loss: 1.2433 - val_accuracy: 0.6625\n",
            "Epoch 32/50\n",
            "25/25 [==============================] - 19s 764ms/step - loss: 0.0431 - accuracy: 0.9918 - val_loss: 1.4476 - val_accuracy: 0.6637\n",
            "Epoch 33/50\n",
            "25/25 [==============================] - 20s 792ms/step - loss: 0.0631 - accuracy: 0.9804 - val_loss: 1.4394 - val_accuracy: 0.6700\n",
            "Epoch 34/50\n",
            "25/25 [==============================] - 20s 801ms/step - loss: 0.0467 - accuracy: 0.9849 - val_loss: 1.4134 - val_accuracy: 0.6800\n",
            "Epoch 35/50\n",
            "25/25 [==============================] - 20s 796ms/step - loss: 0.0249 - accuracy: 0.9936 - val_loss: 1.7662 - val_accuracy: 0.6637\n",
            "Epoch 36/50\n",
            "25/25 [==============================] - 19s 778ms/step - loss: 0.0546 - accuracy: 0.9826 - val_loss: 1.6012 - val_accuracy: 0.6750\n",
            "Epoch 37/50\n",
            "25/25 [==============================] - 19s 778ms/step - loss: 0.0433 - accuracy: 0.9861 - val_loss: 1.4449 - val_accuracy: 0.6712\n",
            "Epoch 38/50\n",
            "25/25 [==============================] - 19s 779ms/step - loss: 0.0229 - accuracy: 0.9944 - val_loss: 1.8119 - val_accuracy: 0.6675\n",
            "Epoch 39/50\n",
            "25/25 [==============================] - 20s 794ms/step - loss: 0.1017 - accuracy: 0.9715 - val_loss: 1.7339 - val_accuracy: 0.6525\n",
            "Epoch 40/50\n",
            "25/25 [==============================] - 19s 779ms/step - loss: 0.0283 - accuracy: 0.9929 - val_loss: 1.9194 - val_accuracy: 0.6625\n",
            "Epoch 41/50\n",
            "25/25 [==============================] - 19s 772ms/step - loss: 0.0617 - accuracy: 0.9768 - val_loss: 1.9655 - val_accuracy: 0.6550\n",
            "Epoch 42/50\n",
            "25/25 [==============================] - 19s 773ms/step - loss: 0.0264 - accuracy: 0.9922 - val_loss: 1.4440 - val_accuracy: 0.6438\n",
            "Epoch 43/50\n",
            "25/25 [==============================] - 19s 775ms/step - loss: 0.0414 - accuracy: 0.9892 - val_loss: 1.8157 - val_accuracy: 0.6562\n",
            "Epoch 44/50\n",
            "25/25 [==============================] - 19s 770ms/step - loss: 0.0135 - accuracy: 0.9978 - val_loss: 1.9239 - val_accuracy: 0.6775\n",
            "Epoch 45/50\n",
            "25/25 [==============================] - 19s 773ms/step - loss: 0.0284 - accuracy: 0.9907 - val_loss: 1.7218 - val_accuracy: 0.6525\n",
            "Epoch 46/50\n",
            "25/25 [==============================] - 20s 788ms/step - loss: 0.1067 - accuracy: 0.9868 - val_loss: 1.6204 - val_accuracy: 0.6725\n",
            "Epoch 47/50\n",
            "25/25 [==============================] - 19s 775ms/step - loss: 0.0159 - accuracy: 0.9968 - val_loss: 1.8056 - val_accuracy: 0.6637\n",
            "Epoch 48/50\n",
            "25/25 [==============================] - 19s 771ms/step - loss: 0.0077 - accuracy: 0.9987 - val_loss: 1.8996 - val_accuracy: 0.6750\n",
            "Epoch 49/50\n",
            "25/25 [==============================] - 19s 764ms/step - loss: 0.0126 - accuracy: 0.9965 - val_loss: 2.0577 - val_accuracy: 0.6775\n",
            "Epoch 50/50\n",
            "25/25 [==============================] - 19s 767ms/step - loss: 0.0234 - accuracy: 0.9915 - val_loss: 1.8775 - val_accuracy: 0.6712\n"
          ],
          "name": "stdout"
        },
        {
          "output_type": "execute_result",
          "data": {
            "text/plain": [
              "<tensorflow.python.keras.callbacks.History at 0x7effdf127c88>"
            ]
          },
          "metadata": {
            "tags": []
          },
          "execution_count": 26
        }
      ]
    },
    {
      "cell_type": "markdown",
      "metadata": {
        "id": "LgKv1_tCKm5U"
      },
      "source": [
        "Create a new model based on the model above. Add an additional dense layer of size 64 with a ReLU activation after the flatten layer."
      ]
    },
    {
      "cell_type": "code",
      "metadata": {
        "id": "KlzEuIt3Km5U",
        "colab": {
          "base_uri": "https://localhost:8080/"
        },
        "outputId": "23cca457-11a9-4004-c04b-3f83eacf622e"
      },
      "source": [
        "# Answer below:\n",
        "\n",
        "model = Sequential()\n",
        "\n",
        "model.add(Conv2D(64,  (3,3), input_shape=input_shape))\n",
        "model.add(Activation('relu'))\n",
        "model.add(MaxPooling2D(pool_size=(2,2)))\n",
        "\n",
        "model.add(Conv2D(32,  (3,3)))\n",
        "model.add(Activation('relu'))\n",
        "model.add(MaxPooling2D(pool_size=(2,2)))\n",
        "\n",
        "model.add(Flatten())\n",
        "model.add(Dense(64, activation='relu'))\n",
        "model.add(Dense(64, activation='relu'))\n",
        "model.add(Dense(1, activation='sigmoid'))\n",
        "\n",
        "model.summary()"
      ],
      "execution_count": null,
      "outputs": [
        {
          "output_type": "stream",
          "text": [
            "Model: \"sequential_3\"\n",
            "_________________________________________________________________\n",
            "Layer (type)                 Output Shape              Param #   \n",
            "=================================================================\n",
            "conv2d_3 (Conv2D)            (None, 148, 148, 64)      1792      \n",
            "_________________________________________________________________\n",
            "activation_3 (Activation)    (None, 148, 148, 64)      0         \n",
            "_________________________________________________________________\n",
            "max_pooling2d_3 (MaxPooling2 (None, 74, 74, 64)        0         \n",
            "_________________________________________________________________\n",
            "conv2d_4 (Conv2D)            (None, 72, 72, 32)        18464     \n",
            "_________________________________________________________________\n",
            "activation_4 (Activation)    (None, 72, 72, 32)        0         \n",
            "_________________________________________________________________\n",
            "max_pooling2d_4 (MaxPooling2 (None, 36, 36, 32)        0         \n",
            "_________________________________________________________________\n",
            "flatten_2 (Flatten)          (None, 41472)             0         \n",
            "_________________________________________________________________\n",
            "dense_4 (Dense)              (None, 64)                2654272   \n",
            "_________________________________________________________________\n",
            "dense_5 (Dense)              (None, 64)                4160      \n",
            "_________________________________________________________________\n",
            "dense_6 (Dense)              (None, 1)                 65        \n",
            "=================================================================\n",
            "Total params: 2,678,753\n",
            "Trainable params: 2,678,753\n",
            "Non-trainable params: 0\n",
            "_________________________________________________________________\n"
          ],
          "name": "stdout"
        }
      ]
    },
    {
      "cell_type": "markdown",
      "metadata": {
        "id": "GMg6k7tHKm5W"
      },
      "source": [
        "Fit and compile in the same way as above. Describe the difference in performance and speed."
      ]
    },
    {
      "cell_type": "code",
      "metadata": {
        "id": "pqIEZC6YKm5W",
        "colab": {
          "base_uri": "https://localhost:8080/"
        },
        "outputId": "0b493f44-0af8-4d66-a39a-f79795e265b4"
      },
      "source": [
        "# Answer below:\n",
        "\n",
        "model.compile(optimizer='rmsprop', loss='binary_crossentropy', metrics=['accuracy'])\n",
        "\n",
        "model.fit(train_generator, \n",
        "                    epochs=nb_epochs, \n",
        "                    steps_per_epoch=nb_training_steps, \n",
        "                    validation_data=validation_generator, \n",
        "                    validation_steps=nb_validation_steps\n",
        "                    )\n",
        "\n"
      ],
      "execution_count": null,
      "outputs": [
        {
          "output_type": "stream",
          "text": [
            "Epoch 1/50\n",
            "25/25 [==============================] - 20s 767ms/step - loss: 0.8572 - accuracy: 0.4955 - val_loss: 0.6876 - val_accuracy: 0.5375\n",
            "Epoch 2/50\n",
            "25/25 [==============================] - 19s 758ms/step - loss: 0.6937 - accuracy: 0.5338 - val_loss: 0.6747 - val_accuracy: 0.5525\n",
            "Epoch 3/50\n",
            "25/25 [==============================] - 19s 754ms/step - loss: 0.6804 - accuracy: 0.5733 - val_loss: 0.6422 - val_accuracy: 0.6513\n",
            "Epoch 4/50\n",
            "25/25 [==============================] - 19s 758ms/step - loss: 0.6993 - accuracy: 0.6426 - val_loss: 0.6479 - val_accuracy: 0.6150\n",
            "Epoch 5/50\n",
            "25/25 [==============================] - 19s 755ms/step - loss: 0.6385 - accuracy: 0.6435 - val_loss: 0.6319 - val_accuracy: 0.6300\n",
            "Epoch 6/50\n",
            "25/25 [==============================] - 19s 758ms/step - loss: 0.6054 - accuracy: 0.6753 - val_loss: 0.6161 - val_accuracy: 0.6712\n",
            "Epoch 7/50\n",
            "25/25 [==============================] - 19s 758ms/step - loss: 0.5612 - accuracy: 0.7138 - val_loss: 0.6858 - val_accuracy: 0.6488\n",
            "Epoch 8/50\n",
            "25/25 [==============================] - 19s 757ms/step - loss: 0.5434 - accuracy: 0.7147 - val_loss: 0.6339 - val_accuracy: 0.6700\n",
            "Epoch 9/50\n",
            "25/25 [==============================] - 19s 761ms/step - loss: 0.5056 - accuracy: 0.7482 - val_loss: 0.6595 - val_accuracy: 0.6737\n",
            "Epoch 10/50\n",
            "25/25 [==============================] - 19s 756ms/step - loss: 0.4691 - accuracy: 0.7581 - val_loss: 0.6772 - val_accuracy: 0.6000\n",
            "Epoch 11/50\n",
            "25/25 [==============================] - 19s 763ms/step - loss: 0.4320 - accuracy: 0.7869 - val_loss: 0.6971 - val_accuracy: 0.6450\n",
            "Epoch 12/50\n",
            "25/25 [==============================] - 19s 757ms/step - loss: 0.4232 - accuracy: 0.8102 - val_loss: 0.6595 - val_accuracy: 0.6500\n",
            "Epoch 13/50\n",
            "25/25 [==============================] - 19s 776ms/step - loss: 0.3890 - accuracy: 0.8240 - val_loss: 0.7678 - val_accuracy: 0.6463\n",
            "Epoch 14/50\n",
            "25/25 [==============================] - 19s 772ms/step - loss: 0.4377 - accuracy: 0.8447 - val_loss: 0.8114 - val_accuracy: 0.6450\n",
            "Epoch 15/50\n",
            "25/25 [==============================] - 19s 753ms/step - loss: 0.3387 - accuracy: 0.8613 - val_loss: 0.7720 - val_accuracy: 0.6787\n",
            "Epoch 16/50\n",
            "25/25 [==============================] - 19s 751ms/step - loss: 0.2887 - accuracy: 0.8881 - val_loss: 0.8896 - val_accuracy: 0.7050\n",
            "Epoch 17/50\n",
            "25/25 [==============================] - 19s 763ms/step - loss: 0.2277 - accuracy: 0.8962 - val_loss: 0.9262 - val_accuracy: 0.6750\n",
            "Epoch 18/50\n",
            "25/25 [==============================] - 19s 755ms/step - loss: 0.2985 - accuracy: 0.8829 - val_loss: 1.2270 - val_accuracy: 0.6250\n",
            "Epoch 19/50\n",
            "25/25 [==============================] - 19s 751ms/step - loss: 0.2345 - accuracy: 0.9034 - val_loss: 1.0069 - val_accuracy: 0.6762\n",
            "Epoch 20/50\n",
            "25/25 [==============================] - 19s 756ms/step - loss: 0.1400 - accuracy: 0.9511 - val_loss: 1.3465 - val_accuracy: 0.6400\n",
            "Epoch 21/50\n",
            "25/25 [==============================] - 19s 763ms/step - loss: 0.1730 - accuracy: 0.9348 - val_loss: 1.2175 - val_accuracy: 0.6712\n",
            "Epoch 22/50\n",
            "25/25 [==============================] - 19s 766ms/step - loss: 0.1272 - accuracy: 0.9517 - val_loss: 1.9454 - val_accuracy: 0.6363\n",
            "Epoch 23/50\n",
            "25/25 [==============================] - 19s 753ms/step - loss: 0.3130 - accuracy: 0.9026 - val_loss: 1.2428 - val_accuracy: 0.6700\n",
            "Epoch 24/50\n",
            "25/25 [==============================] - 19s 759ms/step - loss: 0.1169 - accuracy: 0.9604 - val_loss: 1.3206 - val_accuracy: 0.6650\n",
            "Epoch 25/50\n",
            "25/25 [==============================] - 19s 756ms/step - loss: 0.0759 - accuracy: 0.9804 - val_loss: 1.1542 - val_accuracy: 0.6800\n",
            "Epoch 26/50\n",
            "25/25 [==============================] - 19s 756ms/step - loss: 0.0462 - accuracy: 0.9865 - val_loss: 1.4798 - val_accuracy: 0.6687\n",
            "Epoch 27/50\n",
            "25/25 [==============================] - 19s 756ms/step - loss: 0.1916 - accuracy: 0.9395 - val_loss: 1.4186 - val_accuracy: 0.6862\n",
            "Epoch 28/50\n",
            "25/25 [==============================] - 19s 758ms/step - loss: 0.0688 - accuracy: 0.9792 - val_loss: 1.4703 - val_accuracy: 0.6750\n",
            "Epoch 29/50\n",
            "25/25 [==============================] - 19s 753ms/step - loss: 0.0394 - accuracy: 0.9871 - val_loss: 1.6721 - val_accuracy: 0.6687\n",
            "Epoch 30/50\n",
            "25/25 [==============================] - 20s 787ms/step - loss: 0.0932 - accuracy: 0.9685 - val_loss: 1.3860 - val_accuracy: 0.6750\n",
            "Epoch 31/50\n",
            "25/25 [==============================] - 19s 752ms/step - loss: 0.0366 - accuracy: 0.9886 - val_loss: 1.3914 - val_accuracy: 0.6750\n",
            "Epoch 32/50\n",
            "25/25 [==============================] - 19s 744ms/step - loss: 0.0385 - accuracy: 0.9921 - val_loss: 1.2694 - val_accuracy: 0.6675\n",
            "Epoch 33/50\n",
            "25/25 [==============================] - 19s 747ms/step - loss: 0.0212 - accuracy: 0.9953 - val_loss: 1.5583 - val_accuracy: 0.6775\n",
            "Epoch 34/50\n",
            "25/25 [==============================] - 19s 745ms/step - loss: 0.0192 - accuracy: 0.9953 - val_loss: 1.4434 - val_accuracy: 0.6750\n",
            "Epoch 35/50\n",
            "25/25 [==============================] - 18s 736ms/step - loss: 0.0129 - accuracy: 0.9991 - val_loss: 1.8175 - val_accuracy: 0.6538\n",
            "Epoch 36/50\n",
            "25/25 [==============================] - 18s 739ms/step - loss: 0.0256 - accuracy: 0.9867 - val_loss: 1.9002 - val_accuracy: 0.6913\n",
            "Epoch 37/50\n",
            "25/25 [==============================] - 19s 744ms/step - loss: 0.1733 - accuracy: 0.9515 - val_loss: 1.6080 - val_accuracy: 0.6750\n",
            "Epoch 38/50\n",
            "25/25 [==============================] - 18s 741ms/step - loss: 0.0143 - accuracy: 0.9946 - val_loss: 1.8170 - val_accuracy: 0.6800\n",
            "Epoch 39/50\n",
            "25/25 [==============================] - 19s 745ms/step - loss: 0.1279 - accuracy: 0.9758 - val_loss: 1.6017 - val_accuracy: 0.6775\n",
            "Epoch 40/50\n",
            "25/25 [==============================] - 18s 734ms/step - loss: 0.0083 - accuracy: 0.9998 - val_loss: 1.9908 - val_accuracy: 0.6850\n",
            "Epoch 41/50\n",
            "25/25 [==============================] - 18s 740ms/step - loss: 0.1354 - accuracy: 0.9756 - val_loss: 1.6205 - val_accuracy: 0.6725\n",
            "Epoch 42/50\n",
            "25/25 [==============================] - 18s 738ms/step - loss: 0.0111 - accuracy: 0.9985 - val_loss: 1.9486 - val_accuracy: 0.6762\n",
            "Epoch 43/50\n",
            "25/25 [==============================] - 19s 744ms/step - loss: 0.0560 - accuracy: 0.9895 - val_loss: 1.6307 - val_accuracy: 0.6725\n",
            "Epoch 44/50\n",
            "25/25 [==============================] - 18s 739ms/step - loss: 0.0276 - accuracy: 0.9959 - val_loss: 1.7297 - val_accuracy: 0.6938\n",
            "Epoch 45/50\n",
            "25/25 [==============================] - 18s 733ms/step - loss: 0.0068 - accuracy: 0.9977 - val_loss: 1.8487 - val_accuracy: 0.7063\n",
            "Epoch 46/50\n",
            "25/25 [==============================] - 18s 739ms/step - loss: 0.0315 - accuracy: 0.9928 - val_loss: 1.6249 - val_accuracy: 0.6950\n",
            "Epoch 47/50\n",
            "25/25 [==============================] - 19s 772ms/step - loss: 0.0098 - accuracy: 0.9985 - val_loss: 2.3104 - val_accuracy: 0.6837\n",
            "Epoch 48/50\n",
            "25/25 [==============================] - 19s 749ms/step - loss: 0.1984 - accuracy: 0.9811 - val_loss: 1.4507 - val_accuracy: 0.6675\n",
            "Epoch 49/50\n",
            "25/25 [==============================] - 19s 747ms/step - loss: 0.0166 - accuracy: 0.9977 - val_loss: 1.8819 - val_accuracy: 0.6800\n",
            "Epoch 50/50\n",
            "25/25 [==============================] - 19s 750ms/step - loss: 0.0089 - accuracy: 0.9979 - val_loss: 2.0385 - val_accuracy: 0.6963\n"
          ],
          "name": "stdout"
        },
        {
          "output_type": "execute_result",
          "data": {
            "text/plain": [
              "<tensorflow.python.keras.callbacks.History at 0x7eff824d3470>"
            ]
          },
          "metadata": {
            "tags": []
          },
          "execution_count": 28
        }
      ]
    },
    {
      "cell_type": "markdown",
      "metadata": {
        "id": "iRCyPKJfKm5Y"
      },
      "source": [
        "Fit and compile using the Adam optimizer. Describe the difference in performance between the Adam and RMSprop optimizers."
      ]
    },
    {
      "cell_type": "code",
      "metadata": {
        "id": "eqzQbCl8Km5Z",
        "colab": {
          "base_uri": "https://localhost:8080/"
        },
        "outputId": "afccd390-eb03-43dc-ec4c-045c3d62823f"
      },
      "source": [
        "# Answer below:\n",
        "\n",
        "model = Sequential()\n",
        "\n",
        "model.add(Conv2D(64,  (3,3), input_shape=input_shape))\n",
        "model.add(Activation('relu'))\n",
        "model.add(MaxPooling2D(pool_size=(2,2)))\n",
        "\n",
        "model.add(Conv2D(32,  (3,3)))\n",
        "model.add(Activation('relu'))\n",
        "model.add(MaxPooling2D(pool_size=(2,2)))\n",
        "\n",
        "model.add(Flatten())\n",
        "model.add(Dense(64, activation='relu'))\n",
        "model.add(Dense(64, activation='relu'))\n",
        "model.add(Dense(1, activation='sigmoid'))\n",
        "\n",
        "model.summary()"
      ],
      "execution_count": null,
      "outputs": [
        {
          "output_type": "stream",
          "text": [
            "Model: \"sequential_4\"\n",
            "_________________________________________________________________\n",
            "Layer (type)                 Output Shape              Param #   \n",
            "=================================================================\n",
            "conv2d_5 (Conv2D)            (None, 148, 148, 64)      1792      \n",
            "_________________________________________________________________\n",
            "activation_5 (Activation)    (None, 148, 148, 64)      0         \n",
            "_________________________________________________________________\n",
            "max_pooling2d_5 (MaxPooling2 (None, 74, 74, 64)        0         \n",
            "_________________________________________________________________\n",
            "conv2d_6 (Conv2D)            (None, 72, 72, 32)        18464     \n",
            "_________________________________________________________________\n",
            "activation_6 (Activation)    (None, 72, 72, 32)        0         \n",
            "_________________________________________________________________\n",
            "max_pooling2d_6 (MaxPooling2 (None, 36, 36, 32)        0         \n",
            "_________________________________________________________________\n",
            "flatten_3 (Flatten)          (None, 41472)             0         \n",
            "_________________________________________________________________\n",
            "dense_7 (Dense)              (None, 64)                2654272   \n",
            "_________________________________________________________________\n",
            "dense_8 (Dense)              (None, 64)                4160      \n",
            "_________________________________________________________________\n",
            "dense_9 (Dense)              (None, 1)                 65        \n",
            "=================================================================\n",
            "Total params: 2,678,753\n",
            "Trainable params: 2,678,753\n",
            "Non-trainable params: 0\n",
            "_________________________________________________________________\n"
          ],
          "name": "stdout"
        }
      ]
    },
    {
      "cell_type": "code",
      "metadata": {
        "id": "drRBa855Km5a",
        "colab": {
          "base_uri": "https://localhost:8080/"
        },
        "outputId": "01b7d708-1ffe-4556-a63d-105661a9e44a"
      },
      "source": [
        "model.compile(optimizer='adam', loss='binary_crossentropy', metrics=['accuracy'])\n",
        "\n",
        "model.fit(train_generator, \n",
        "                    epochs=nb_epochs, \n",
        "                    steps_per_epoch=nb_training_steps, \n",
        "                    validation_data=validation_generator, \n",
        "                    validation_steps=nb_validation_steps\n",
        "                    )\n",
        "\n"
      ],
      "execution_count": null,
      "outputs": [
        {
          "output_type": "stream",
          "text": [
            "Epoch 1/50\n",
            "25/25 [==============================] - 19s 754ms/step - loss: 0.7073 - accuracy: 0.4848 - val_loss: 0.6880 - val_accuracy: 0.5550\n",
            "Epoch 2/50\n",
            "25/25 [==============================] - 18s 741ms/step - loss: 0.6879 - accuracy: 0.5907 - val_loss: 0.6785 - val_accuracy: 0.5638\n",
            "Epoch 3/50\n",
            "25/25 [==============================] - 19s 759ms/step - loss: 0.6573 - accuracy: 0.6251 - val_loss: 0.6711 - val_accuracy: 0.6012\n",
            "Epoch 4/50\n",
            "25/25 [==============================] - 19s 747ms/step - loss: 0.6048 - accuracy: 0.6862 - val_loss: 0.6327 - val_accuracy: 0.6700\n",
            "Epoch 5/50\n",
            "25/25 [==============================] - 19s 750ms/step - loss: 0.5314 - accuracy: 0.7446 - val_loss: 0.6435 - val_accuracy: 0.6388\n",
            "Epoch 6/50\n",
            "25/25 [==============================] - 19s 752ms/step - loss: 0.5021 - accuracy: 0.7695 - val_loss: 0.6682 - val_accuracy: 0.6425\n",
            "Epoch 7/50\n",
            "25/25 [==============================] - 19s 753ms/step - loss: 0.4865 - accuracy: 0.7620 - val_loss: 0.7222 - val_accuracy: 0.6775\n",
            "Epoch 8/50\n",
            "25/25 [==============================] - 19s 757ms/step - loss: 0.3950 - accuracy: 0.8221 - val_loss: 0.7343 - val_accuracy: 0.6675\n",
            "Epoch 9/50\n",
            "25/25 [==============================] - 19s 756ms/step - loss: 0.3598 - accuracy: 0.8391 - val_loss: 0.7660 - val_accuracy: 0.6612\n",
            "Epoch 10/50\n",
            "25/25 [==============================] - 19s 754ms/step - loss: 0.3394 - accuracy: 0.8586 - val_loss: 0.8224 - val_accuracy: 0.6913\n",
            "Epoch 11/50\n",
            "25/25 [==============================] - 19s 776ms/step - loss: 0.2868 - accuracy: 0.8862 - val_loss: 0.8644 - val_accuracy: 0.6687\n",
            "Epoch 12/50\n",
            "25/25 [==============================] - 19s 767ms/step - loss: 0.2467 - accuracy: 0.9001 - val_loss: 0.9712 - val_accuracy: 0.6787\n",
            "Epoch 13/50\n",
            "25/25 [==============================] - 19s 753ms/step - loss: 0.2457 - accuracy: 0.9019 - val_loss: 0.9710 - val_accuracy: 0.6662\n",
            "Epoch 14/50\n",
            "25/25 [==============================] - 19s 756ms/step - loss: 0.1920 - accuracy: 0.9186 - val_loss: 1.0213 - val_accuracy: 0.6650\n",
            "Epoch 15/50\n",
            "25/25 [==============================] - 19s 758ms/step - loss: 0.1497 - accuracy: 0.9397 - val_loss: 1.0660 - val_accuracy: 0.6700\n",
            "Epoch 16/50\n",
            "25/25 [==============================] - 19s 762ms/step - loss: 0.1399 - accuracy: 0.9495 - val_loss: 1.1451 - val_accuracy: 0.6712\n",
            "Epoch 17/50\n",
            "25/25 [==============================] - 19s 758ms/step - loss: 0.1228 - accuracy: 0.9546 - val_loss: 1.2897 - val_accuracy: 0.6800\n",
            "Epoch 18/50\n",
            "25/25 [==============================] - 19s 759ms/step - loss: 0.0985 - accuracy: 0.9635 - val_loss: 1.2094 - val_accuracy: 0.6812\n",
            "Epoch 19/50\n",
            "25/25 [==============================] - 19s 759ms/step - loss: 0.0793 - accuracy: 0.9685 - val_loss: 1.3720 - val_accuracy: 0.6762\n",
            "Epoch 20/50\n",
            "25/25 [==============================] - 19s 757ms/step - loss: 0.0749 - accuracy: 0.9693 - val_loss: 1.3140 - val_accuracy: 0.6700\n",
            "Epoch 21/50\n",
            "25/25 [==============================] - 19s 756ms/step - loss: 0.0503 - accuracy: 0.9838 - val_loss: 1.4206 - val_accuracy: 0.6888\n",
            "Epoch 22/50\n",
            "25/25 [==============================] - 19s 756ms/step - loss: 0.0705 - accuracy: 0.9796 - val_loss: 1.3533 - val_accuracy: 0.6662\n",
            "Epoch 23/50\n",
            "25/25 [==============================] - 19s 768ms/step - loss: 0.0655 - accuracy: 0.9798 - val_loss: 1.4394 - val_accuracy: 0.6888\n",
            "Epoch 24/50\n",
            "25/25 [==============================] - 19s 770ms/step - loss: 0.0446 - accuracy: 0.9887 - val_loss: 1.4370 - val_accuracy: 0.6850\n",
            "Epoch 25/50\n",
            "25/25 [==============================] - 20s 783ms/step - loss: 0.0314 - accuracy: 0.9916 - val_loss: 1.7597 - val_accuracy: 0.6900\n",
            "Epoch 26/50\n",
            "25/25 [==============================] - 19s 759ms/step - loss: 0.0375 - accuracy: 0.9870 - val_loss: 1.5607 - val_accuracy: 0.6875\n",
            "Epoch 27/50\n",
            "25/25 [==============================] - 19s 781ms/step - loss: 0.0303 - accuracy: 0.9912 - val_loss: 1.5792 - val_accuracy: 0.6900\n",
            "Epoch 28/50\n",
            "25/25 [==============================] - 19s 762ms/step - loss: 0.0562 - accuracy: 0.9894 - val_loss: 1.7516 - val_accuracy: 0.6475\n",
            "Epoch 29/50\n",
            "25/25 [==============================] - 19s 761ms/step - loss: 0.0513 - accuracy: 0.9816 - val_loss: 1.7821 - val_accuracy: 0.6800\n",
            "Epoch 30/50\n",
            "25/25 [==============================] - 19s 759ms/step - loss: 0.0208 - accuracy: 0.9937 - val_loss: 1.7924 - val_accuracy: 0.6787\n",
            "Epoch 31/50\n",
            "25/25 [==============================] - 19s 760ms/step - loss: 0.0313 - accuracy: 0.9903 - val_loss: 1.6946 - val_accuracy: 0.6725\n",
            "Epoch 32/50\n",
            "25/25 [==============================] - 19s 759ms/step - loss: 0.0240 - accuracy: 0.9900 - val_loss: 1.5239 - val_accuracy: 0.6888\n",
            "Epoch 33/50\n",
            "25/25 [==============================] - 19s 758ms/step - loss: 0.0244 - accuracy: 0.9916 - val_loss: 1.7344 - val_accuracy: 0.6900\n",
            "Epoch 34/50\n",
            "25/25 [==============================] - 19s 751ms/step - loss: 0.0174 - accuracy: 0.9955 - val_loss: 1.8109 - val_accuracy: 0.6975\n",
            "Epoch 35/50\n",
            "25/25 [==============================] - 19s 765ms/step - loss: 0.0179 - accuracy: 0.9931 - val_loss: 1.8086 - val_accuracy: 0.6837\n",
            "Epoch 36/50\n",
            "25/25 [==============================] - 19s 751ms/step - loss: 0.0120 - accuracy: 0.9977 - val_loss: 2.0583 - val_accuracy: 0.6737\n",
            "Epoch 37/50\n",
            "25/25 [==============================] - 19s 752ms/step - loss: 0.0186 - accuracy: 0.9937 - val_loss: 1.8244 - val_accuracy: 0.6750\n",
            "Epoch 38/50\n",
            "25/25 [==============================] - 19s 759ms/step - loss: 0.0093 - accuracy: 0.9990 - val_loss: 1.9697 - val_accuracy: 0.6775\n",
            "Epoch 39/50\n",
            "25/25 [==============================] - 19s 753ms/step - loss: 0.0142 - accuracy: 0.9936 - val_loss: 1.8097 - val_accuracy: 0.6825\n",
            "Epoch 40/50\n",
            "25/25 [==============================] - 19s 749ms/step - loss: 0.0090 - accuracy: 0.9974 - val_loss: 2.1628 - val_accuracy: 0.7050\n",
            "Epoch 41/50\n",
            "25/25 [==============================] - 19s 755ms/step - loss: 0.0230 - accuracy: 0.9933 - val_loss: 1.9015 - val_accuracy: 0.6913\n",
            "Epoch 42/50\n",
            "25/25 [==============================] - 19s 751ms/step - loss: 0.0105 - accuracy: 0.9985 - val_loss: 1.9847 - val_accuracy: 0.7025\n",
            "Epoch 43/50\n",
            "25/25 [==============================] - 19s 754ms/step - loss: 0.0069 - accuracy: 0.9985 - val_loss: 2.1927 - val_accuracy: 0.6888\n",
            "Epoch 44/50\n",
            "25/25 [==============================] - 19s 773ms/step - loss: 0.0157 - accuracy: 0.9951 - val_loss: 2.1141 - val_accuracy: 0.7000\n",
            "Epoch 45/50\n",
            "25/25 [==============================] - 19s 750ms/step - loss: 0.0163 - accuracy: 0.9957 - val_loss: 2.4095 - val_accuracy: 0.6775\n",
            "Epoch 46/50\n",
            "25/25 [==============================] - 19s 752ms/step - loss: 0.1309 - accuracy: 0.9568 - val_loss: 1.4845 - val_accuracy: 0.6700\n",
            "Epoch 47/50\n",
            "25/25 [==============================] - 19s 750ms/step - loss: 0.0404 - accuracy: 0.9852 - val_loss: 1.5339 - val_accuracy: 0.6850\n",
            "Epoch 48/50\n",
            "25/25 [==============================] - 19s 752ms/step - loss: 0.0177 - accuracy: 0.9950 - val_loss: 1.7056 - val_accuracy: 0.6700\n",
            "Epoch 49/50\n",
            "25/25 [==============================] - 19s 748ms/step - loss: 0.0166 - accuracy: 0.9952 - val_loss: 1.8597 - val_accuracy: 0.6837\n",
            "Epoch 50/50\n",
            "25/25 [==============================] - 19s 748ms/step - loss: 0.0118 - accuracy: 0.9948 - val_loss: 1.9816 - val_accuracy: 0.6612\n"
          ],
          "name": "stdout"
        },
        {
          "output_type": "execute_result",
          "data": {
            "text/plain": [
              "<tensorflow.python.keras.callbacks.History at 0x7eff81296ba8>"
            ]
          },
          "metadata": {
            "tags": []
          },
          "execution_count": 30
        }
      ]
    },
    {
      "cell_type": "code",
      "metadata": {
        "colab": {
          "base_uri": "https://localhost:8080/"
        },
        "id": "z84BAMdF-GmF",
        "outputId": "dbe7924b-4be9-4e95-e799-3dfd84967892"
      },
      "source": [
        "model = Sequential()\n",
        "\n",
        "model.add(Conv2D(64,  (3,3), input_shape=input_shape))\n",
        "model.add(Activation('relu'))\n",
        "model.add(MaxPooling2D(pool_size=(2,2)))\n",
        "\n",
        "model.add(Conv2D(32,  (3,3)))\n",
        "model.add(Activation('relu'))\n",
        "model.add(MaxPooling2D(pool_size=(2,2)))\n",
        "\n",
        "model.add(Flatten())\n",
        "model.add(Dense(64, activation='relu'))\n",
        "model.add(Dropout(0.3))\n",
        "model.add(Dense(64, activation='relu'))\n",
        "model.add(Dense(1, activation='sigmoid'))\n",
        "\n",
        "model.summary()\n",
        "\n",
        "model.compile(optimizer='adam', loss='binary_crossentropy', metrics=['accuracy'])\n",
        "\n",
        "model.fit(train_generator, \n",
        "                    epochs=nb_epochs, \n",
        "                    steps_per_epoch=nb_training_steps, \n",
        "                    validation_data=validation_generator, \n",
        "                    validation_steps=5\n",
        "                    )"
      ],
      "execution_count": null,
      "outputs": [
        {
          "output_type": "stream",
          "text": [
            "Model: \"sequential_5\"\n",
            "_________________________________________________________________\n",
            "Layer (type)                 Output Shape              Param #   \n",
            "=================================================================\n",
            "conv2d_7 (Conv2D)            (None, 148, 148, 64)      1792      \n",
            "_________________________________________________________________\n",
            "activation_7 (Activation)    (None, 148, 148, 64)      0         \n",
            "_________________________________________________________________\n",
            "max_pooling2d_7 (MaxPooling2 (None, 74, 74, 64)        0         \n",
            "_________________________________________________________________\n",
            "conv2d_8 (Conv2D)            (None, 72, 72, 32)        18464     \n",
            "_________________________________________________________________\n",
            "activation_8 (Activation)    (None, 72, 72, 32)        0         \n",
            "_________________________________________________________________\n",
            "max_pooling2d_8 (MaxPooling2 (None, 36, 36, 32)        0         \n",
            "_________________________________________________________________\n",
            "flatten_4 (Flatten)          (None, 41472)             0         \n",
            "_________________________________________________________________\n",
            "dense_10 (Dense)             (None, 64)                2654272   \n",
            "_________________________________________________________________\n",
            "dropout (Dropout)            (None, 64)                0         \n",
            "_________________________________________________________________\n",
            "dense_11 (Dense)             (None, 64)                4160      \n",
            "_________________________________________________________________\n",
            "dense_12 (Dense)             (None, 1)                 65        \n",
            "=================================================================\n",
            "Total params: 2,678,753\n",
            "Trainable params: 2,678,753\n",
            "Non-trainable params: 0\n",
            "_________________________________________________________________\n",
            "Epoch 1/50\n",
            "25/25 [==============================] - 19s 762ms/step - loss: 0.7806 - accuracy: 0.4973 - val_loss: 0.6936 - val_accuracy: 0.4350\n",
            "Epoch 2/50\n",
            "25/25 [==============================] - 18s 723ms/step - loss: 0.6930 - accuracy: 0.5090 - val_loss: 0.6930 - val_accuracy: 0.5200\n",
            "Epoch 3/50\n",
            "25/25 [==============================] - 18s 727ms/step - loss: 0.6930 - accuracy: 0.5054 - val_loss: 0.6924 - val_accuracy: 0.4950\n",
            "Epoch 4/50\n",
            "25/25 [==============================] - 19s 743ms/step - loss: 0.6901 - accuracy: 0.5423 - val_loss: 0.6918 - val_accuracy: 0.5275\n",
            "Epoch 5/50\n",
            "25/25 [==============================] - 18s 729ms/step - loss: 0.6928 - accuracy: 0.5037 - val_loss: 0.6914 - val_accuracy: 0.5425\n",
            "Epoch 6/50\n",
            "25/25 [==============================] - 18s 741ms/step - loss: 0.6899 - accuracy: 0.5569 - val_loss: 0.6719 - val_accuracy: 0.5900\n",
            "Epoch 7/50\n",
            "25/25 [==============================] - 18s 714ms/step - loss: 0.6788 - accuracy: 0.5890 - val_loss: 0.6739 - val_accuracy: 0.6025\n",
            "Epoch 8/50\n",
            "25/25 [==============================] - 18s 709ms/step - loss: 0.6621 - accuracy: 0.6190 - val_loss: 0.6717 - val_accuracy: 0.6150\n",
            "Epoch 9/50\n",
            "25/25 [==============================] - 18s 723ms/step - loss: 0.6223 - accuracy: 0.6614 - val_loss: 0.6848 - val_accuracy: 0.6025\n",
            "Epoch 10/50\n",
            "25/25 [==============================] - 18s 712ms/step - loss: 0.5859 - accuracy: 0.6980 - val_loss: 0.6781 - val_accuracy: 0.5825\n",
            "Epoch 11/50\n",
            "25/25 [==============================] - 18s 720ms/step - loss: 0.5657 - accuracy: 0.6987 - val_loss: 0.6945 - val_accuracy: 0.6550\n",
            "Epoch 12/50\n",
            "25/25 [==============================] - 18s 721ms/step - loss: 0.5004 - accuracy: 0.7575 - val_loss: 0.6828 - val_accuracy: 0.6475\n",
            "Epoch 13/50\n",
            "25/25 [==============================] - 18s 726ms/step - loss: 0.4566 - accuracy: 0.7861 - val_loss: 0.7435 - val_accuracy: 0.6400\n",
            "Epoch 14/50\n",
            "25/25 [==============================] - 18s 735ms/step - loss: 0.4205 - accuracy: 0.8052 - val_loss: 0.9253 - val_accuracy: 0.6225\n",
            "Epoch 15/50\n",
            "25/25 [==============================] - 18s 729ms/step - loss: 0.3548 - accuracy: 0.8435 - val_loss: 0.8694 - val_accuracy: 0.6350\n",
            "Epoch 16/50\n",
            "25/25 [==============================] - 18s 733ms/step - loss: 0.3128 - accuracy: 0.8610 - val_loss: 0.7942 - val_accuracy: 0.6725\n",
            "Epoch 17/50\n",
            "25/25 [==============================] - 18s 711ms/step - loss: 0.2622 - accuracy: 0.8972 - val_loss: 1.0232 - val_accuracy: 0.6650\n",
            "Epoch 18/50\n",
            "25/25 [==============================] - 18s 712ms/step - loss: 0.2314 - accuracy: 0.9118 - val_loss: 1.1772 - val_accuracy: 0.6700\n",
            "Epoch 19/50\n",
            "25/25 [==============================] - 18s 717ms/step - loss: 0.1766 - accuracy: 0.9350 - val_loss: 1.2117 - val_accuracy: 0.6450\n",
            "Epoch 20/50\n",
            "25/25 [==============================] - 18s 736ms/step - loss: 0.1904 - accuracy: 0.9234 - val_loss: 1.3027 - val_accuracy: 0.6150\n",
            "Epoch 21/50\n",
            "25/25 [==============================] - 19s 757ms/step - loss: 0.1764 - accuracy: 0.9333 - val_loss: 1.1917 - val_accuracy: 0.6325\n",
            "Epoch 22/50\n",
            "25/25 [==============================] - 19s 765ms/step - loss: 0.1331 - accuracy: 0.9512 - val_loss: 1.2906 - val_accuracy: 0.6625\n",
            "Epoch 23/50\n",
            "25/25 [==============================] - 20s 784ms/step - loss: 0.1397 - accuracy: 0.9427 - val_loss: 1.3071 - val_accuracy: 0.6275\n",
            "Epoch 24/50\n",
            "25/25 [==============================] - 19s 751ms/step - loss: 0.1271 - accuracy: 0.9594 - val_loss: 1.7989 - val_accuracy: 0.6600\n",
            "Epoch 25/50\n",
            "25/25 [==============================] - 19s 756ms/step - loss: 0.1106 - accuracy: 0.9635 - val_loss: 1.3949 - val_accuracy: 0.6725\n",
            "Epoch 26/50\n",
            "25/25 [==============================] - 19s 754ms/step - loss: 0.1149 - accuracy: 0.9617 - val_loss: 1.3781 - val_accuracy: 0.6425\n",
            "Epoch 27/50\n",
            "25/25 [==============================] - 19s 751ms/step - loss: 0.1162 - accuracy: 0.9633 - val_loss: 1.7014 - val_accuracy: 0.6100\n",
            "Epoch 28/50\n",
            "25/25 [==============================] - 19s 743ms/step - loss: 0.0897 - accuracy: 0.9745 - val_loss: 1.5687 - val_accuracy: 0.6650\n",
            "Epoch 29/50\n",
            "25/25 [==============================] - 18s 735ms/step - loss: 0.0779 - accuracy: 0.9747 - val_loss: 1.7341 - val_accuracy: 0.6300\n",
            "Epoch 30/50\n",
            "25/25 [==============================] - 18s 738ms/step - loss: 0.0797 - accuracy: 0.9724 - val_loss: 1.9541 - val_accuracy: 0.6450\n",
            "Epoch 31/50\n",
            "25/25 [==============================] - 18s 738ms/step - loss: 0.0683 - accuracy: 0.9765 - val_loss: 1.5561 - val_accuracy: 0.6625\n",
            "Epoch 32/50\n",
            "25/25 [==============================] - 18s 733ms/step - loss: 0.0687 - accuracy: 0.9769 - val_loss: 1.9403 - val_accuracy: 0.6525\n",
            "Epoch 33/50\n",
            "25/25 [==============================] - 18s 730ms/step - loss: 0.0659 - accuracy: 0.9745 - val_loss: 1.7600 - val_accuracy: 0.6375\n",
            "Epoch 34/50\n",
            "25/25 [==============================] - 18s 732ms/step - loss: 0.0648 - accuracy: 0.9752 - val_loss: 1.8292 - val_accuracy: 0.6300\n",
            "Epoch 35/50\n",
            "25/25 [==============================] - 18s 734ms/step - loss: 0.0748 - accuracy: 0.9726 - val_loss: 1.8757 - val_accuracy: 0.6450\n",
            "Epoch 36/50\n",
            "25/25 [==============================] - 18s 731ms/step - loss: 0.0642 - accuracy: 0.9742 - val_loss: 1.6253 - val_accuracy: 0.6450\n",
            "Epoch 37/50\n",
            "25/25 [==============================] - 18s 731ms/step - loss: 0.0736 - accuracy: 0.9739 - val_loss: 1.8273 - val_accuracy: 0.6550\n",
            "Epoch 38/50\n",
            "25/25 [==============================] - 19s 742ms/step - loss: 0.0478 - accuracy: 0.9801 - val_loss: 1.8977 - val_accuracy: 0.6400\n",
            "Epoch 39/50\n",
            "25/25 [==============================] - 19s 741ms/step - loss: 0.0595 - accuracy: 0.9784 - val_loss: 1.8420 - val_accuracy: 0.6375\n",
            "Epoch 40/50\n",
            "25/25 [==============================] - 19s 768ms/step - loss: 0.0432 - accuracy: 0.9865 - val_loss: 2.0112 - val_accuracy: 0.6500\n",
            "Epoch 41/50\n",
            "25/25 [==============================] - 18s 737ms/step - loss: 0.0390 - accuracy: 0.9834 - val_loss: 2.0999 - val_accuracy: 0.6325\n",
            "Epoch 42/50\n",
            "25/25 [==============================] - 19s 745ms/step - loss: 0.0578 - accuracy: 0.9827 - val_loss: 1.6861 - val_accuracy: 0.6500\n",
            "Epoch 43/50\n",
            "25/25 [==============================] - 18s 732ms/step - loss: 0.0299 - accuracy: 0.9927 - val_loss: 2.1630 - val_accuracy: 0.6525\n",
            "Epoch 44/50\n",
            "25/25 [==============================] - 18s 729ms/step - loss: 0.0329 - accuracy: 0.9892 - val_loss: 1.9006 - val_accuracy: 0.6525\n",
            "Epoch 45/50\n",
            "25/25 [==============================] - 18s 736ms/step - loss: 0.0521 - accuracy: 0.9863 - val_loss: 2.0267 - val_accuracy: 0.6525\n",
            "Epoch 46/50\n",
            "25/25 [==============================] - 18s 733ms/step - loss: 0.0469 - accuracy: 0.9835 - val_loss: 2.0337 - val_accuracy: 0.6375\n",
            "Epoch 47/50\n",
            "25/25 [==============================] - 18s 724ms/step - loss: 0.0290 - accuracy: 0.9926 - val_loss: 2.1706 - val_accuracy: 0.6200\n",
            "Epoch 48/50\n",
            "25/25 [==============================] - 18s 727ms/step - loss: 0.0415 - accuracy: 0.9869 - val_loss: 2.1236 - val_accuracy: 0.6250\n",
            "Epoch 49/50\n",
            "25/25 [==============================] - 18s 724ms/step - loss: 0.0456 - accuracy: 0.9824 - val_loss: 2.0970 - val_accuracy: 0.6250\n",
            "Epoch 50/50\n",
            "25/25 [==============================] - 18s 725ms/step - loss: 0.0335 - accuracy: 0.9885 - val_loss: 2.2055 - val_accuracy: 0.6900\n"
          ],
          "name": "stdout"
        },
        {
          "output_type": "execute_result",
          "data": {
            "text/plain": [
              "<tensorflow.python.keras.callbacks.History at 0x7eff800dc9b0>"
            ]
          },
          "metadata": {
            "tags": []
          },
          "execution_count": 31
        }
      ]
    },
    {
      "cell_type": "code",
      "metadata": {
        "id": "KQPYtYrPCBJL"
      },
      "source": [
        ""
      ],
      "execution_count": null,
      "outputs": []
    }
  ]
}