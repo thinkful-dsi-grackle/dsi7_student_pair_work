{
  "nbformat": 4,
  "nbformat_minor": 0,
  "metadata": {
    "kernelspec": {
      "display_name": "Python 3",
      "language": "python",
      "name": "python3"
    },
    "language_info": {
      "codemirror_mode": {
        "name": "ipython",
        "version": 3
      },
      "file_extension": ".py",
      "mimetype": "text/x-python",
      "name": "python",
      "nbconvert_exporter": "python",
      "pygments_lexer": "ipython3",
      "version": "3.7.0"
    },
    "colab": {
      "name": "Shontelle_Day79_L1_CNN_Assignment.ipynb",
      "provenance": [],
      "collapsed_sections": []
    },
    "accelerator": "GPU"
  },
  "cells": [
    {
      "cell_type": "markdown",
      "metadata": {
        "id": "DuT0K8LDKm45"
      },
      "source": [
        "## Convolutional Neural Networks\n",
        "\n",
        "In this assignment, we will learn about convolutional neural networks. We will create a CNN and learn to classify image data."
      ]
    },
    {
      "cell_type": "markdown",
      "metadata": {
        "id": "tMD7Nr8hKm47"
      },
      "source": [
        "In this lecture, we will use the image data generator to classify our data. The data is loaded below:"
      ]
    },
    {
      "cell_type": "code",
      "metadata": {
        "colab": {
          "base_uri": "https://localhost:8080/"
        },
        "id": "O_0NQJ7uy7Ar",
        "outputId": "8c74bbf4-4c26-46e5-c6f8-aee78af8a5ec"
      },
      "source": [
        "from google.colab import drive\n",
        "drive.mount('/content/drive')"
      ],
      "execution_count": 1,
      "outputs": [
        {
          "output_type": "stream",
          "text": [
            "Drive already mounted at /content/drive; to attempt to forcibly remount, call drive.mount(\"/content/drive\", force_remount=True).\n"
          ],
          "name": "stdout"
        }
      ]
    },
    {
      "cell_type": "code",
      "metadata": {
        "id": "6swIc-rGKm47"
      },
      "source": [
        "import numpy as np\n",
        "import pandas as pd\n",
        "\n",
        "from tensorflow.keras.preprocessing.image import ImageDataGenerator\n",
        "from tensorflow.keras.models import Sequential\n",
        "from tensorflow.keras.layers import Conv2D, MaxPooling2D\n",
        "from tensorflow.keras.layers import Activation, Dropout, Flatten, Dense, BatchNormalization \n",
        "from tensorflow.keras import backend as K\n",
        "from tensorflow.keras.models import Model"
      ],
      "execution_count": 2,
      "outputs": []
    },
    {
      "cell_type": "code",
      "metadata": {
        "id": "WxuDmAQlKm4-"
      },
      "source": [
        "train_data_dir = '/content/drive/MyDrive/dogs-vs-cats-processed/train/'\n",
        "validation_data_dir = '/content/drive/MyDrive/dogs-vs-cats-processed/test/'\n",
        "\n",
        "img_width, img_height = 150, 150\n",
        "batch_size = 80"
      ],
      "execution_count": 3,
      "outputs": []
    },
    {
      "cell_type": "code",
      "metadata": {
        "id": "SCfRV8VGKm5A"
      },
      "source": [
        "#This block of code is used to ensure the input shape is correct\n",
        "\n",
        "if K.image_data_format() == 'channels_first':\n",
        "    input_shape = (3, img_width, img_height)\n",
        "else:\n",
        "    input_shape = (img_width, img_height, 3)"
      ],
      "execution_count": 4,
      "outputs": []
    },
    {
      "cell_type": "markdown",
      "metadata": {
        "id": "T4x9el54Km5C"
      },
      "source": [
        "Define a train data generator with shear range of 0.3, zoom range of 0.1 and rescale to 1./255 (note that we must make 1 a float to produce a correct fraction). Use the ImageDataGenerator function."
      ]
    },
    {
      "cell_type": "code",
      "metadata": {
        "id": "EfKBxGZpKm5D"
      },
      "source": [
        "# Answer below:\n",
        "train_datagen = ImageDataGenerator(\n",
        "    rescale=1. / 255,\n",
        "    shear_range=0.3,\n",
        "    zoom_range=0.1,\n",
        "    horizontal_flip=True\n",
        ")\n"
      ],
      "execution_count": 5,
      "outputs": []
    },
    {
      "cell_type": "markdown",
      "metadata": {
        "id": "5oQJZOxNKm5E"
      },
      "source": [
        "Define a test data generator that only rescales to 1./255. Use the ImageDataGenerator function."
      ]
    },
    {
      "cell_type": "code",
      "metadata": {
        "id": "_U3XQZVLKm5F"
      },
      "source": [
        "# Answer below:\n",
        "test_datagen = ImageDataGenerator(rescale=1. /255) \n",
        "#only need to rescale for test"
      ],
      "execution_count": 6,
      "outputs": []
    },
    {
      "cell_type": "markdown",
      "metadata": {
        "id": "S0NCOxrCKm5G"
      },
      "source": [
        "The train generator and the test generator are defined below:"
      ]
    },
    {
      "cell_type": "code",
      "metadata": {
        "id": "zDgonF6uKm5H",
        "colab": {
          "base_uri": "https://localhost:8080/"
        },
        "outputId": "6b4ab3e3-6960-4a64-e29a-d692b826f2c2"
      },
      "source": [
        "train_generator = train_datagen.flow_from_directory(\n",
        "    train_data_dir,\n",
        "    target_size=(img_width, img_height),\n",
        "    batch_size=batch_size,\n",
        "    class_mode='binary')\n",
        "\n",
        "validation_generator = test_datagen.flow_from_directory(\n",
        "    validation_data_dir,\n",
        "    target_size=(img_width, img_height),\n",
        "    batch_size=batch_size,\n",
        "    #shuffle=False,\n",
        "    class_mode='binary')"
      ],
      "execution_count": 7,
      "outputs": [
        {
          "output_type": "stream",
          "text": [
            "Found 2000 images belonging to 2 classes.\n",
            "Found 802 images belonging to 2 classes.\n"
          ],
          "name": "stdout"
        }
      ]
    },
    {
      "cell_type": "markdown",
      "metadata": {
        "id": "0lq09r31Km5K"
      },
      "source": [
        "We'll start with a simple model. In CNNs, we first convolve the to extract features and then we add the dense layers. \n",
        "\n",
        "Create a model with one layer of convolution of size 64, one layer of activation, one layer of max pooling with pool size (2,2) and then one flattening layer, one dense layer of unit size 64 with a ReLU activation and one dense output layer. The output layer should have a sigmoid activation."
      ]
    },
    {
      "cell_type": "code",
      "metadata": {
        "id": "IJqkMx3tKm5K",
        "colab": {
          "base_uri": "https://localhost:8080/"
        },
        "outputId": "b414b5c1-12b6-4df2-9a96-cc7e8c9a48ce"
      },
      "source": [
        "# Answer below:\n",
        "model = Sequential()\n",
        "model.add(Conv2D(64, (3,3), input_shape=input_shape))\n",
        "model.add(Activation('relu'))\n",
        "model.add(MaxPooling2D(pool_size=(2,2)))\n",
        "\n",
        "model.add(Flatten())\n",
        "model.add(Dense(64))\n",
        "model.add(Activation('relu'))\n",
        "model.add(Dropout(rate=0.5)) #used for regularization to prevent overfitting\n",
        "model.add(Dense(1))\n",
        "model.add(Activation('sigmoid'))\n",
        "\n",
        "model.summary()"
      ],
      "execution_count": 8,
      "outputs": [
        {
          "output_type": "stream",
          "text": [
            "Model: \"sequential\"\n",
            "_________________________________________________________________\n",
            "Layer (type)                 Output Shape              Param #   \n",
            "=================================================================\n",
            "conv2d (Conv2D)              (None, 148, 148, 64)      1792      \n",
            "_________________________________________________________________\n",
            "activation (Activation)      (None, 148, 148, 64)      0         \n",
            "_________________________________________________________________\n",
            "max_pooling2d (MaxPooling2D) (None, 74, 74, 64)        0         \n",
            "_________________________________________________________________\n",
            "flatten (Flatten)            (None, 350464)            0         \n",
            "_________________________________________________________________\n",
            "dense (Dense)                (None, 64)                22429760  \n",
            "_________________________________________________________________\n",
            "activation_1 (Activation)    (None, 64)                0         \n",
            "_________________________________________________________________\n",
            "dropout (Dropout)            (None, 64)                0         \n",
            "_________________________________________________________________\n",
            "dense_1 (Dense)              (None, 1)                 65        \n",
            "_________________________________________________________________\n",
            "activation_2 (Activation)    (None, 1)                 0         \n",
            "=================================================================\n",
            "Total params: 22,431,617\n",
            "Trainable params: 22,431,617\n",
            "Non-trainable params: 0\n",
            "_________________________________________________________________\n"
          ],
          "name": "stdout"
        }
      ]
    },
    {
      "cell_type": "markdown",
      "metadata": {
        "id": "hEBJ5GXcKm5M"
      },
      "source": [
        "Compile the model using RMSprop."
      ]
    },
    {
      "cell_type": "code",
      "metadata": {
        "id": "85uyZ1yTKm5M"
      },
      "source": [
        "# Answer below:\n",
        "model.compile(loss='binary_crossentropy', optimizer='rmsprop', metrics=['accuracy'])\n"
      ],
      "execution_count": 9,
      "outputs": []
    },
    {
      "cell_type": "markdown",
      "metadata": {
        "id": "uIKSpMe-Km5O"
      },
      "source": [
        "Fit the model using a fit generator. Use 50 epochs, 25 training steps and 15 validation steps"
      ]
    },
    {
      "cell_type": "code",
      "metadata": {
        "id": "NFfKyhLzKm5O",
        "colab": {
          "base_uri": "https://localhost:8080/"
        },
        "outputId": "7bf638ce-2dfe-4fa5-cc10-c0525406dc83"
      },
      "source": [
        "# Answer below:\n",
        "#validation_steps=10 or 5\n",
        "import time\n",
        "\n",
        "start_time = time.time()\n",
        "model.fit(\n",
        "          train_generator, \n",
        "          steps_per_epoch=25,\n",
        "          epochs=50,\n",
        "          validation_data=validation_generator,\n",
        "          validation_steps=10)\n",
        "exec = (time.time() - start_time)"
      ],
      "execution_count": 10,
      "outputs": [
        {
          "output_type": "stream",
          "text": [
            "Epoch 1/50\n",
            "25/25 [==============================] - 757s 31s/step - loss: 13.0422 - accuracy: 0.5248 - val_loss: 0.6957 - val_accuracy: 0.4963\n",
            "Epoch 2/50\n",
            "25/25 [==============================] - 19s 746ms/step - loss: 0.6943 - accuracy: 0.4846 - val_loss: 0.6932 - val_accuracy: 0.4988\n",
            "Epoch 3/50\n",
            "25/25 [==============================] - 18s 741ms/step - loss: 0.6932 - accuracy: 0.4956 - val_loss: 0.6931 - val_accuracy: 0.5000\n",
            "Epoch 4/50\n",
            "25/25 [==============================] - 18s 741ms/step - loss: 0.7429 - accuracy: 0.5006 - val_loss: 0.6931 - val_accuracy: 0.5013\n",
            "Epoch 5/50\n",
            "25/25 [==============================] - 18s 737ms/step - loss: 0.6964 - accuracy: 0.4982 - val_loss: 0.6932 - val_accuracy: 0.5000\n",
            "Epoch 6/50\n",
            "25/25 [==============================] - 19s 745ms/step - loss: 0.6934 - accuracy: 0.4752 - val_loss: 0.6932 - val_accuracy: 0.4988\n",
            "Epoch 7/50\n",
            "25/25 [==============================] - 18s 740ms/step - loss: 0.6930 - accuracy: 0.5189 - val_loss: 0.6932 - val_accuracy: 0.5000\n",
            "Epoch 8/50\n",
            "25/25 [==============================] - 18s 738ms/step - loss: 0.6931 - accuracy: 0.5101 - val_loss: 0.6931 - val_accuracy: 0.5013\n",
            "Epoch 9/50\n",
            "25/25 [==============================] - 18s 734ms/step - loss: 0.6931 - accuracy: 0.5085 - val_loss: 0.6932 - val_accuracy: 0.5000\n",
            "Epoch 10/50\n",
            "25/25 [==============================] - 19s 775ms/step - loss: 0.6932 - accuracy: 0.5028 - val_loss: 0.6932 - val_accuracy: 0.4988\n",
            "Epoch 11/50\n",
            "25/25 [==============================] - 19s 744ms/step - loss: 0.6932 - accuracy: 0.5025 - val_loss: 0.6931 - val_accuracy: 0.5013\n",
            "Epoch 12/50\n",
            "25/25 [==============================] - 18s 742ms/step - loss: 0.6931 - accuracy: 0.5122 - val_loss: 0.6931 - val_accuracy: 0.5000\n",
            "Epoch 13/50\n",
            "25/25 [==============================] - 18s 741ms/step - loss: 0.6932 - accuracy: 0.4975 - val_loss: 0.6931 - val_accuracy: 0.5013\n",
            "Epoch 14/50\n",
            "25/25 [==============================] - 18s 737ms/step - loss: 0.6932 - accuracy: 0.4953 - val_loss: 0.6931 - val_accuracy: 0.5000\n",
            "Epoch 15/50\n",
            "25/25 [==============================] - 19s 757ms/step - loss: 0.6932 - accuracy: 0.4904 - val_loss: 0.6931 - val_accuracy: 0.5013\n",
            "Epoch 16/50\n",
            "25/25 [==============================] - 18s 740ms/step - loss: 0.6932 - accuracy: 0.4922 - val_loss: 0.6931 - val_accuracy: 0.5000\n",
            "Epoch 17/50\n",
            "25/25 [==============================] - 19s 744ms/step - loss: 0.6932 - accuracy: 0.4962 - val_loss: 0.6932 - val_accuracy: 0.4988\n",
            "Epoch 18/50\n",
            "25/25 [==============================] - 18s 742ms/step - loss: 0.6932 - accuracy: 0.4960 - val_loss: 0.6932 - val_accuracy: 0.4988\n",
            "Epoch 19/50\n",
            "25/25 [==============================] - 19s 750ms/step - loss: 0.6932 - accuracy: 0.4758 - val_loss: 0.6932 - val_accuracy: 0.4988\n",
            "Epoch 20/50\n",
            "25/25 [==============================] - 19s 750ms/step - loss: 0.6932 - accuracy: 0.4832 - val_loss: 0.6931 - val_accuracy: 0.5000\n",
            "Epoch 21/50\n",
            "25/25 [==============================] - 18s 739ms/step - loss: 0.6932 - accuracy: 0.4783 - val_loss: 0.6931 - val_accuracy: 0.5000\n",
            "Epoch 22/50\n",
            "25/25 [==============================] - 18s 735ms/step - loss: 0.6931 - accuracy: 0.5021 - val_loss: 0.6931 - val_accuracy: 0.5000\n",
            "Epoch 23/50\n",
            "25/25 [==============================] - 18s 733ms/step - loss: 0.7528 - accuracy: 0.5240 - val_loss: 0.6808 - val_accuracy: 0.5025\n",
            "Epoch 24/50\n",
            "25/25 [==============================] - 18s 738ms/step - loss: 0.6947 - accuracy: 0.5533 - val_loss: 0.6954 - val_accuracy: 0.5025\n",
            "Epoch 25/50\n",
            "25/25 [==============================] - 18s 738ms/step - loss: 0.6728 - accuracy: 0.6082 - val_loss: 0.6766 - val_accuracy: 0.5088\n",
            "Epoch 26/50\n",
            "25/25 [==============================] - 19s 754ms/step - loss: 0.6637 - accuracy: 0.5884 - val_loss: 0.6206 - val_accuracy: 0.6350\n",
            "Epoch 27/50\n",
            "25/25 [==============================] - 19s 760ms/step - loss: 0.6423 - accuracy: 0.6556 - val_loss: 0.6051 - val_accuracy: 0.6675\n",
            "Epoch 28/50\n",
            "25/25 [==============================] - 18s 743ms/step - loss: 0.5926 - accuracy: 0.6633 - val_loss: 0.5954 - val_accuracy: 0.6800\n",
            "Epoch 29/50\n",
            "25/25 [==============================] - 18s 737ms/step - loss: 0.6118 - accuracy: 0.6855 - val_loss: 0.5914 - val_accuracy: 0.6837\n",
            "Epoch 30/50\n",
            "25/25 [==============================] - 18s 736ms/step - loss: 0.5712 - accuracy: 0.7165 - val_loss: 0.6379 - val_accuracy: 0.6762\n",
            "Epoch 31/50\n",
            "25/25 [==============================] - 18s 738ms/step - loss: 0.5602 - accuracy: 0.7222 - val_loss: 0.6320 - val_accuracy: 0.6500\n",
            "Epoch 32/50\n",
            "25/25 [==============================] - 19s 744ms/step - loss: 0.5817 - accuracy: 0.7138 - val_loss: 0.5776 - val_accuracy: 0.7063\n",
            "Epoch 33/50\n",
            "25/25 [==============================] - 19s 745ms/step - loss: 0.5158 - accuracy: 0.7549 - val_loss: 0.7292 - val_accuracy: 0.6050\n",
            "Epoch 34/50\n",
            "25/25 [==============================] - 19s 747ms/step - loss: 0.5144 - accuracy: 0.7381 - val_loss: 0.5966 - val_accuracy: 0.6862\n",
            "Epoch 35/50\n",
            "25/25 [==============================] - 18s 743ms/step - loss: 0.5196 - accuracy: 0.7596 - val_loss: 0.6216 - val_accuracy: 0.6800\n",
            "Epoch 36/50\n",
            "25/25 [==============================] - 18s 737ms/step - loss: 0.5088 - accuracy: 0.7649 - val_loss: 0.6380 - val_accuracy: 0.6800\n",
            "Epoch 37/50\n",
            "25/25 [==============================] - 19s 748ms/step - loss: 0.4892 - accuracy: 0.7561 - val_loss: 0.6781 - val_accuracy: 0.6250\n",
            "Epoch 38/50\n",
            "25/25 [==============================] - 18s 728ms/step - loss: 0.4657 - accuracy: 0.7822 - val_loss: 0.6322 - val_accuracy: 0.6737\n",
            "Epoch 39/50\n",
            "25/25 [==============================] - 18s 730ms/step - loss: 0.4569 - accuracy: 0.7921 - val_loss: 0.6112 - val_accuracy: 0.7163\n",
            "Epoch 40/50\n",
            "25/25 [==============================] - 18s 732ms/step - loss: 0.4209 - accuracy: 0.8028 - val_loss: 0.7439 - val_accuracy: 0.6600\n",
            "Epoch 41/50\n",
            "25/25 [==============================] - 18s 736ms/step - loss: 0.4434 - accuracy: 0.7916 - val_loss: 0.6413 - val_accuracy: 0.7050\n",
            "Epoch 42/50\n",
            "25/25 [==============================] - 18s 730ms/step - loss: 0.3979 - accuracy: 0.8299 - val_loss: 0.6269 - val_accuracy: 0.7113\n",
            "Epoch 43/50\n",
            "25/25 [==============================] - 19s 762ms/step - loss: 0.4429 - accuracy: 0.7961 - val_loss: 0.6370 - val_accuracy: 0.6825\n",
            "Epoch 44/50\n",
            "25/25 [==============================] - 19s 753ms/step - loss: 0.4242 - accuracy: 0.8051 - val_loss: 0.9547 - val_accuracy: 0.6050\n",
            "Epoch 45/50\n",
            "25/25 [==============================] - 19s 746ms/step - loss: 0.4020 - accuracy: 0.8074 - val_loss: 0.7157 - val_accuracy: 0.7237\n",
            "Epoch 46/50\n",
            "25/25 [==============================] - 19s 749ms/step - loss: 0.4055 - accuracy: 0.8162 - val_loss: 0.9848 - val_accuracy: 0.6812\n",
            "Epoch 47/50\n",
            "25/25 [==============================] - 18s 730ms/step - loss: 0.4463 - accuracy: 0.8047 - val_loss: 0.9573 - val_accuracy: 0.6475\n",
            "Epoch 48/50\n",
            "25/25 [==============================] - 19s 744ms/step - loss: 0.3904 - accuracy: 0.8064 - val_loss: 0.8420 - val_accuracy: 0.6913\n",
            "Epoch 49/50\n",
            "25/25 [==============================] - 18s 731ms/step - loss: 0.3521 - accuracy: 0.8467 - val_loss: 0.7380 - val_accuracy: 0.7175\n",
            "Epoch 50/50\n",
            "25/25 [==============================] - 18s 734ms/step - loss: 0.3534 - accuracy: 0.8427 - val_loss: 0.7088 - val_accuracy: 0.7088\n"
          ],
          "name": "stdout"
        }
      ]
    },
    {
      "cell_type": "code",
      "metadata": {
        "colab": {
          "base_uri": "https://localhost:8080/"
        },
        "id": "PuFTJltGDP-U",
        "outputId": "3d4520b2-7a3e-4ed0-8e84-c281835b1613"
      },
      "source": [
        "exec_1 = exec\n",
        "exec_1"
      ],
      "execution_count": 13,
      "outputs": [
        {
          "output_type": "execute_result",
          "data": {
            "text/plain": [
              "1685.880499124527"
            ]
          },
          "metadata": {
            "tags": []
          },
          "execution_count": 13
        }
      ]
    },
    {
      "cell_type": "markdown",
      "metadata": {
        "id": "QAZ1IeybKm5Q"
      },
      "source": [
        "Create a new model by adding an additional group of convolution, activation and max pooling layers before the flatten layer. Make the convolution layer of unit size 32. Keep everything else the same."
      ]
    },
    {
      "cell_type": "code",
      "metadata": {
        "id": "651SH4QGKm5Q",
        "colab": {
          "base_uri": "https://localhost:8080/"
        },
        "outputId": "60418fcf-b69f-44ce-d561-433a5227b121"
      },
      "source": [
        "# Answer below:\n",
        "model = Sequential()\n",
        "model.add(Conv2D(64, (3,3), input_shape=input_shape))\n",
        "model.add(Activation('relu'))\n",
        "model.add(MaxPooling2D(pool_size=(2,2)))\n",
        "\n",
        "model.add(Conv2D(32, (3,3), input_shape=input_shape))\n",
        "model.add(Activation('relu'))\n",
        "model.add(MaxPooling2D(pool_size=(2,2)))\n",
        "\n",
        "model.add(Flatten())\n",
        "model.add(Dense(64))\n",
        "model.add(Activation('relu'))\n",
        "\n",
        "model.add(Dropout(rate=0.5)) #\n",
        "model.add(Dense(1))\n",
        "model.add(Activation('sigmoid'))\n",
        "\n",
        "model.summary()"
      ],
      "execution_count": 11,
      "outputs": [
        {
          "output_type": "stream",
          "text": [
            "Model: \"sequential_1\"\n",
            "_________________________________________________________________\n",
            "Layer (type)                 Output Shape              Param #   \n",
            "=================================================================\n",
            "conv2d_1 (Conv2D)            (None, 148, 148, 64)      1792      \n",
            "_________________________________________________________________\n",
            "activation_3 (Activation)    (None, 148, 148, 64)      0         \n",
            "_________________________________________________________________\n",
            "max_pooling2d_1 (MaxPooling2 (None, 74, 74, 64)        0         \n",
            "_________________________________________________________________\n",
            "conv2d_2 (Conv2D)            (None, 72, 72, 32)        18464     \n",
            "_________________________________________________________________\n",
            "activation_4 (Activation)    (None, 72, 72, 32)        0         \n",
            "_________________________________________________________________\n",
            "max_pooling2d_2 (MaxPooling2 (None, 36, 36, 32)        0         \n",
            "_________________________________________________________________\n",
            "flatten_1 (Flatten)          (None, 41472)             0         \n",
            "_________________________________________________________________\n",
            "dense_2 (Dense)              (None, 64)                2654272   \n",
            "_________________________________________________________________\n",
            "activation_5 (Activation)    (None, 64)                0         \n",
            "_________________________________________________________________\n",
            "dropout_1 (Dropout)          (None, 64)                0         \n",
            "_________________________________________________________________\n",
            "dense_3 (Dense)              (None, 1)                 65        \n",
            "_________________________________________________________________\n",
            "activation_6 (Activation)    (None, 1)                 0         \n",
            "=================================================================\n",
            "Total params: 2,674,593\n",
            "Trainable params: 2,674,593\n",
            "Non-trainable params: 0\n",
            "_________________________________________________________________\n"
          ],
          "name": "stdout"
        }
      ]
    },
    {
      "cell_type": "markdown",
      "metadata": {
        "id": "fHfpSfgyKm5S"
      },
      "source": [
        "Fit and compile the model in the same way you did with the previous model. How did the results improve?"
      ]
    },
    {
      "cell_type": "code",
      "metadata": {
        "id": "k5nPg_LmKm5S",
        "colab": {
          "base_uri": "https://localhost:8080/"
        },
        "outputId": "d4be6f3a-6253-4133-daf8-d11f1d1a0081"
      },
      "source": [
        "# Answer below:\n",
        "model.compile(loss='binary_crossentropy', optimizer='rmsprop', metrics=['accuracy'])\n",
        "\n",
        "start_time = time.time()\n",
        "#fitting\n",
        "model.fit(train_generator, \n",
        "          steps_per_epoch=25,\n",
        "          epochs=50,\n",
        "          validation_data=validation_generator,\n",
        "          validation_steps=10)\n",
        "exec_2 = (time.time() - start_time)"
      ],
      "execution_count": 15,
      "outputs": [
        {
          "output_type": "stream",
          "text": [
            "Epoch 1/50\n",
            "25/25 [==============================] - 19s 749ms/step - loss: 1.2494 - accuracy: 0.4982 - val_loss: 0.6861 - val_accuracy: 0.5038\n",
            "Epoch 2/50\n",
            "25/25 [==============================] - 18s 741ms/step - loss: 0.6909 - accuracy: 0.5512 - val_loss: 0.6847 - val_accuracy: 0.6263\n",
            "Epoch 3/50\n",
            "25/25 [==============================] - 19s 747ms/step - loss: 0.7102 - accuracy: 0.5984 - val_loss: 0.6600 - val_accuracy: 0.6150\n",
            "Epoch 4/50\n",
            "25/25 [==============================] - 19s 745ms/step - loss: 0.6834 - accuracy: 0.6137 - val_loss: 0.6513 - val_accuracy: 0.6375\n",
            "Epoch 5/50\n",
            "25/25 [==============================] - 18s 741ms/step - loss: 0.6699 - accuracy: 0.6212 - val_loss: 0.6251 - val_accuracy: 0.6450\n",
            "Epoch 6/50\n",
            "25/25 [==============================] - 19s 757ms/step - loss: 0.6996 - accuracy: 0.6295 - val_loss: 0.6379 - val_accuracy: 0.6775\n",
            "Epoch 7/50\n",
            "25/25 [==============================] - 19s 751ms/step - loss: 0.6053 - accuracy: 0.7099 - val_loss: 0.6067 - val_accuracy: 0.6762\n",
            "Epoch 8/50\n",
            "25/25 [==============================] - 19s 751ms/step - loss: 0.5999 - accuracy: 0.6917 - val_loss: 0.5845 - val_accuracy: 0.7063\n",
            "Epoch 9/50\n",
            "25/25 [==============================] - 18s 742ms/step - loss: 0.5728 - accuracy: 0.7223 - val_loss: 0.6080 - val_accuracy: 0.6363\n",
            "Epoch 10/50\n",
            "25/25 [==============================] - 19s 743ms/step - loss: 0.5456 - accuracy: 0.7247 - val_loss: 0.5663 - val_accuracy: 0.6963\n",
            "Epoch 11/50\n",
            "25/25 [==============================] - 19s 747ms/step - loss: 0.5198 - accuracy: 0.7600 - val_loss: 0.5576 - val_accuracy: 0.7163\n",
            "Epoch 12/50\n",
            "25/25 [==============================] - 19s 757ms/step - loss: 0.5112 - accuracy: 0.7628 - val_loss: 0.6391 - val_accuracy: 0.6550\n",
            "Epoch 13/50\n",
            "25/25 [==============================] - 19s 767ms/step - loss: 0.4937 - accuracy: 0.7622 - val_loss: 0.5581 - val_accuracy: 0.7163\n",
            "Epoch 14/50\n",
            "25/25 [==============================] - 18s 741ms/step - loss: 0.5343 - accuracy: 0.7533 - val_loss: 0.7147 - val_accuracy: 0.6737\n",
            "Epoch 15/50\n",
            "25/25 [==============================] - 18s 741ms/step - loss: 0.4696 - accuracy: 0.7719 - val_loss: 0.5737 - val_accuracy: 0.7337\n",
            "Epoch 16/50\n",
            "25/25 [==============================] - 19s 748ms/step - loss: 0.4514 - accuracy: 0.7772 - val_loss: 0.5696 - val_accuracy: 0.7200\n",
            "Epoch 17/50\n",
            "25/25 [==============================] - 19s 752ms/step - loss: 0.4283 - accuracy: 0.8186 - val_loss: 0.6644 - val_accuracy: 0.6900\n",
            "Epoch 18/50\n",
            "25/25 [==============================] - 18s 743ms/step - loss: 0.4493 - accuracy: 0.7999 - val_loss: 0.7066 - val_accuracy: 0.6712\n",
            "Epoch 19/50\n",
            "25/25 [==============================] - 19s 744ms/step - loss: 0.4276 - accuracy: 0.7955 - val_loss: 0.6174 - val_accuracy: 0.6825\n",
            "Epoch 20/50\n",
            "25/25 [==============================] - 19s 744ms/step - loss: 0.4194 - accuracy: 0.8096 - val_loss: 0.6029 - val_accuracy: 0.7337\n",
            "Epoch 21/50\n",
            "25/25 [==============================] - 19s 747ms/step - loss: 0.4367 - accuracy: 0.8103 - val_loss: 0.5566 - val_accuracy: 0.7425\n",
            "Epoch 22/50\n",
            "25/25 [==============================] - 18s 739ms/step - loss: 0.3781 - accuracy: 0.8277 - val_loss: 0.7117 - val_accuracy: 0.7050\n",
            "Epoch 23/50\n",
            "25/25 [==============================] - 19s 745ms/step - loss: 0.3544 - accuracy: 0.8444 - val_loss: 0.5903 - val_accuracy: 0.7450\n",
            "Epoch 24/50\n",
            "25/25 [==============================] - 19s 751ms/step - loss: 0.3484 - accuracy: 0.8440 - val_loss: 0.5823 - val_accuracy: 0.7487\n",
            "Epoch 25/50\n",
            "25/25 [==============================] - 18s 742ms/step - loss: 0.3415 - accuracy: 0.8543 - val_loss: 0.6227 - val_accuracy: 0.7337\n",
            "Epoch 26/50\n",
            "25/25 [==============================] - 18s 738ms/step - loss: 0.3167 - accuracy: 0.8641 - val_loss: 0.6909 - val_accuracy: 0.7275\n",
            "Epoch 27/50\n",
            "25/25 [==============================] - 18s 732ms/step - loss: 0.3626 - accuracy: 0.8487 - val_loss: 0.6094 - val_accuracy: 0.7437\n",
            "Epoch 28/50\n",
            "25/25 [==============================] - 18s 723ms/step - loss: 0.2937 - accuracy: 0.8742 - val_loss: 0.5808 - val_accuracy: 0.7538\n",
            "Epoch 29/50\n",
            "25/25 [==============================] - 18s 738ms/step - loss: 0.3042 - accuracy: 0.8683 - val_loss: 0.6942 - val_accuracy: 0.7212\n",
            "Epoch 30/50\n",
            "25/25 [==============================] - 19s 758ms/step - loss: 0.2594 - accuracy: 0.8863 - val_loss: 0.6874 - val_accuracy: 0.7312\n",
            "Epoch 31/50\n",
            "25/25 [==============================] - 18s 726ms/step - loss: 0.2607 - accuracy: 0.9001 - val_loss: 0.6095 - val_accuracy: 0.7538\n",
            "Epoch 32/50\n",
            "25/25 [==============================] - 18s 719ms/step - loss: 0.2510 - accuracy: 0.8960 - val_loss: 0.6883 - val_accuracy: 0.7487\n",
            "Epoch 33/50\n",
            "25/25 [==============================] - 18s 729ms/step - loss: 0.2474 - accuracy: 0.8965 - val_loss: 0.6415 - val_accuracy: 0.7400\n",
            "Epoch 34/50\n",
            "25/25 [==============================] - 18s 731ms/step - loss: 0.2253 - accuracy: 0.9145 - val_loss: 0.7595 - val_accuracy: 0.7325\n",
            "Epoch 35/50\n",
            "25/25 [==============================] - 18s 719ms/step - loss: 0.2361 - accuracy: 0.9100 - val_loss: 0.7128 - val_accuracy: 0.7575\n",
            "Epoch 36/50\n",
            "25/25 [==============================] - 18s 728ms/step - loss: 0.1982 - accuracy: 0.9201 - val_loss: 0.8222 - val_accuracy: 0.7362\n",
            "Epoch 37/50\n",
            "25/25 [==============================] - 18s 743ms/step - loss: 0.2446 - accuracy: 0.9091 - val_loss: 0.7190 - val_accuracy: 0.7350\n",
            "Epoch 38/50\n",
            "25/25 [==============================] - 18s 742ms/step - loss: 0.2183 - accuracy: 0.9016 - val_loss: 1.0142 - val_accuracy: 0.7125\n",
            "Epoch 39/50\n",
            "25/25 [==============================] - 18s 735ms/step - loss: 0.2539 - accuracy: 0.9038 - val_loss: 0.7564 - val_accuracy: 0.7575\n",
            "Epoch 40/50\n",
            "25/25 [==============================] - 18s 733ms/step - loss: 0.2308 - accuracy: 0.9106 - val_loss: 0.7339 - val_accuracy: 0.7563\n",
            "Epoch 41/50\n",
            "25/25 [==============================] - 18s 734ms/step - loss: 0.1718 - accuracy: 0.9352 - val_loss: 0.9012 - val_accuracy: 0.7262\n",
            "Epoch 42/50\n",
            "25/25 [==============================] - 18s 740ms/step - loss: 0.1877 - accuracy: 0.9272 - val_loss: 0.8400 - val_accuracy: 0.7375\n",
            "Epoch 43/50\n",
            "25/25 [==============================] - 19s 746ms/step - loss: 0.1806 - accuracy: 0.9354 - val_loss: 0.9171 - val_accuracy: 0.7237\n",
            "Epoch 44/50\n",
            "25/25 [==============================] - 18s 739ms/step - loss: 0.1745 - accuracy: 0.9352 - val_loss: 0.8347 - val_accuracy: 0.7088\n",
            "Epoch 45/50\n",
            "25/25 [==============================] - 18s 739ms/step - loss: 0.1517 - accuracy: 0.9310 - val_loss: 1.0296 - val_accuracy: 0.7350\n",
            "Epoch 46/50\n",
            "25/25 [==============================] - 19s 747ms/step - loss: 0.1566 - accuracy: 0.9373 - val_loss: 0.9396 - val_accuracy: 0.7487\n",
            "Epoch 47/50\n",
            "25/25 [==============================] - 19s 753ms/step - loss: 0.1490 - accuracy: 0.9465 - val_loss: 0.8481 - val_accuracy: 0.7450\n",
            "Epoch 48/50\n",
            "25/25 [==============================] - 18s 733ms/step - loss: 0.1317 - accuracy: 0.9511 - val_loss: 0.9011 - val_accuracy: 0.7450\n",
            "Epoch 49/50\n",
            "25/25 [==============================] - 18s 727ms/step - loss: 0.1395 - accuracy: 0.9494 - val_loss: 0.9401 - val_accuracy: 0.7450\n",
            "Epoch 50/50\n",
            "25/25 [==============================] - 18s 739ms/step - loss: 0.1593 - accuracy: 0.9329 - val_loss: 1.0708 - val_accuracy: 0.7325\n"
          ],
          "name": "stdout"
        }
      ]
    },
    {
      "cell_type": "code",
      "metadata": {
        "colab": {
          "base_uri": "https://localhost:8080/"
        },
        "id": "t0D04i5dOiji",
        "outputId": "b5de1666-f836-4401-8ad3-d848c68a13b7"
      },
      "source": [
        "exec_2"
      ],
      "execution_count": 18,
      "outputs": [
        {
          "output_type": "execute_result",
          "data": {
            "text/plain": [
              "925.4985637664795"
            ]
          },
          "metadata": {
            "tags": []
          },
          "execution_count": 18
        }
      ]
    },
    {
      "cell_type": "markdown",
      "metadata": {
        "id": "LgKv1_tCKm5U"
      },
      "source": [
        "Create a new model based on the model above. Add an additional dense layer of size 64 with a ReLU activation after the flatten layer."
      ]
    },
    {
      "cell_type": "code",
      "metadata": {
        "id": "KlzEuIt3Km5U",
        "colab": {
          "base_uri": "https://localhost:8080/"
        },
        "outputId": "2c00d3ca-d6e3-40db-89f5-457fa6886872"
      },
      "source": [
        "# Answer below:\n",
        "model = Sequential()\n",
        "model.add(Conv2D(64, (3,3), input_shape=input_shape))\n",
        "model.add(Activation('relu'))\n",
        "model.add(MaxPooling2D(pool_size=(2,2)))\n",
        "\n",
        "model.add(Conv2D(32, (3,3), input_shape=input_shape))\n",
        "model.add(Activation('relu'))\n",
        "model.add(MaxPooling2D(pool_size=(2,2)))\n",
        "\n",
        "model.add(Flatten())\n",
        "model.add(Dense(64))\n",
        "model.add(Activation('relu'))\n",
        "\n",
        "model.add(Dense(64))\n",
        "model.add(Activation('relu'))\n",
        "model.add(Dropout(rate=0.5)) \n",
        "model.add(Dense(1))\n",
        "model.add(Activation('sigmoid'))\n",
        "\n",
        "model.summary()"
      ],
      "execution_count": 16,
      "outputs": [
        {
          "output_type": "stream",
          "text": [
            "Model: \"sequential_2\"\n",
            "_________________________________________________________________\n",
            "Layer (type)                 Output Shape              Param #   \n",
            "=================================================================\n",
            "conv2d_3 (Conv2D)            (None, 148, 148, 64)      1792      \n",
            "_________________________________________________________________\n",
            "activation_7 (Activation)    (None, 148, 148, 64)      0         \n",
            "_________________________________________________________________\n",
            "max_pooling2d_3 (MaxPooling2 (None, 74, 74, 64)        0         \n",
            "_________________________________________________________________\n",
            "conv2d_4 (Conv2D)            (None, 72, 72, 32)        18464     \n",
            "_________________________________________________________________\n",
            "activation_8 (Activation)    (None, 72, 72, 32)        0         \n",
            "_________________________________________________________________\n",
            "max_pooling2d_4 (MaxPooling2 (None, 36, 36, 32)        0         \n",
            "_________________________________________________________________\n",
            "flatten_2 (Flatten)          (None, 41472)             0         \n",
            "_________________________________________________________________\n",
            "dense_4 (Dense)              (None, 64)                2654272   \n",
            "_________________________________________________________________\n",
            "activation_9 (Activation)    (None, 64)                0         \n",
            "_________________________________________________________________\n",
            "dense_5 (Dense)              (None, 64)                4160      \n",
            "_________________________________________________________________\n",
            "activation_10 (Activation)   (None, 64)                0         \n",
            "_________________________________________________________________\n",
            "dropout_2 (Dropout)          (None, 64)                0         \n",
            "_________________________________________________________________\n",
            "dense_6 (Dense)              (None, 1)                 65        \n",
            "_________________________________________________________________\n",
            "activation_11 (Activation)   (None, 1)                 0         \n",
            "=================================================================\n",
            "Total params: 2,678,753\n",
            "Trainable params: 2,678,753\n",
            "Non-trainable params: 0\n",
            "_________________________________________________________________\n"
          ],
          "name": "stdout"
        }
      ]
    },
    {
      "cell_type": "markdown",
      "metadata": {
        "id": "GMg6k7tHKm5W"
      },
      "source": [
        "Fit and compile in the same way as above. Describe the difference in performance and speed."
      ]
    },
    {
      "cell_type": "code",
      "metadata": {
        "id": "pqIEZC6YKm5W",
        "colab": {
          "base_uri": "https://localhost:8080/"
        },
        "outputId": "3fcb736a-7f89-48b3-e064-d2013f81f8aa"
      },
      "source": [
        "# Answer below:\n",
        "model.compile(loss='binary_crossentropy', optimizer='rmsprop', metrics=['accuracy'])\n",
        "\n",
        "start_time = time.time()\n",
        "#fitting\n",
        "model.fit(train_generator, \n",
        "          steps_per_epoch=25,\n",
        "          epochs=50,\n",
        "          validation_data=validation_generator,\n",
        "          validation_steps=10)\n",
        "exec_3 = (time.time() - start_time)"
      ],
      "execution_count": 17,
      "outputs": [
        {
          "output_type": "stream",
          "text": [
            "Epoch 1/50\n",
            "25/25 [==============================] - 20s 758ms/step - loss: 1.5467 - accuracy: 0.5125 - val_loss: 0.6849 - val_accuracy: 0.5263\n",
            "Epoch 2/50\n",
            "25/25 [==============================] - 18s 730ms/step - loss: 0.6909 - accuracy: 0.5524 - val_loss: 0.7422 - val_accuracy: 0.5013\n",
            "Epoch 3/50\n",
            "25/25 [==============================] - 18s 724ms/step - loss: 0.6944 - accuracy: 0.5786 - val_loss: 0.6444 - val_accuracy: 0.6250\n",
            "Epoch 4/50\n",
            "25/25 [==============================] - 18s 733ms/step - loss: 0.6816 - accuracy: 0.5997 - val_loss: 0.6519 - val_accuracy: 0.6313\n",
            "Epoch 5/50\n",
            "25/25 [==============================] - 18s 732ms/step - loss: 0.6430 - accuracy: 0.6356 - val_loss: 0.6856 - val_accuracy: 0.5700\n",
            "Epoch 6/50\n",
            "25/25 [==============================] - 18s 731ms/step - loss: 0.6182 - accuracy: 0.6678 - val_loss: 0.6226 - val_accuracy: 0.6800\n",
            "Epoch 7/50\n",
            "25/25 [==============================] - 18s 708ms/step - loss: 0.5765 - accuracy: 0.7021 - val_loss: 0.6143 - val_accuracy: 0.6425\n",
            "Epoch 8/50\n",
            "25/25 [==============================] - 18s 713ms/step - loss: 0.5765 - accuracy: 0.6954 - val_loss: 0.5923 - val_accuracy: 0.6762\n",
            "Epoch 9/50\n",
            "25/25 [==============================] - 18s 713ms/step - loss: 0.5776 - accuracy: 0.7245 - val_loss: 0.7316 - val_accuracy: 0.5512\n",
            "Epoch 10/50\n",
            "25/25 [==============================] - 18s 718ms/step - loss: 0.5666 - accuracy: 0.6978 - val_loss: 0.6370 - val_accuracy: 0.6612\n",
            "Epoch 11/50\n",
            "25/25 [==============================] - 18s 714ms/step - loss: 0.5353 - accuracy: 0.7311 - val_loss: 0.5890 - val_accuracy: 0.6862\n",
            "Epoch 12/50\n",
            "25/25 [==============================] - 18s 706ms/step - loss: 0.4988 - accuracy: 0.7543 - val_loss: 0.5694 - val_accuracy: 0.6938\n",
            "Epoch 13/50\n",
            "25/25 [==============================] - 19s 747ms/step - loss: 0.4917 - accuracy: 0.7401 - val_loss: 0.5915 - val_accuracy: 0.6938\n",
            "Epoch 14/50\n",
            "25/25 [==============================] - 18s 721ms/step - loss: 0.4745 - accuracy: 0.7817 - val_loss: 0.6063 - val_accuracy: 0.7050\n",
            "Epoch 15/50\n",
            "25/25 [==============================] - 18s 713ms/step - loss: 0.4680 - accuracy: 0.7749 - val_loss: 0.6398 - val_accuracy: 0.7025\n",
            "Epoch 16/50\n",
            "25/25 [==============================] - 18s 711ms/step - loss: 0.4541 - accuracy: 0.7799 - val_loss: 0.6582 - val_accuracy: 0.7100\n",
            "Epoch 17/50\n",
            "25/25 [==============================] - 18s 710ms/step - loss: 0.4774 - accuracy: 0.7586 - val_loss: 0.5660 - val_accuracy: 0.7287\n",
            "Epoch 18/50\n",
            "25/25 [==============================] - 18s 711ms/step - loss: 0.4182 - accuracy: 0.8245 - val_loss: 0.5925 - val_accuracy: 0.7038\n",
            "Epoch 19/50\n",
            "25/25 [==============================] - 17s 702ms/step - loss: 0.4048 - accuracy: 0.8186 - val_loss: 0.6556 - val_accuracy: 0.7125\n",
            "Epoch 20/50\n",
            "25/25 [==============================] - 18s 709ms/step - loss: 0.4194 - accuracy: 0.8087 - val_loss: 0.5866 - val_accuracy: 0.7262\n",
            "Epoch 21/50\n",
            "25/25 [==============================] - 17s 698ms/step - loss: 0.3271 - accuracy: 0.8710 - val_loss: 0.6147 - val_accuracy: 0.7275\n",
            "Epoch 22/50\n",
            "25/25 [==============================] - 18s 705ms/step - loss: 0.3461 - accuracy: 0.8538 - val_loss: 0.6153 - val_accuracy: 0.7312\n",
            "Epoch 23/50\n",
            "25/25 [==============================] - 17s 700ms/step - loss: 0.3354 - accuracy: 0.8589 - val_loss: 0.6103 - val_accuracy: 0.7362\n",
            "Epoch 24/50\n",
            "25/25 [==============================] - 17s 699ms/step - loss: 0.3130 - accuracy: 0.8565 - val_loss: 0.7746 - val_accuracy: 0.6250\n",
            "Epoch 25/50\n",
            "25/25 [==============================] - 17s 698ms/step - loss: 0.2934 - accuracy: 0.8698 - val_loss: 0.7265 - val_accuracy: 0.7325\n",
            "Epoch 26/50\n",
            "25/25 [==============================] - 17s 699ms/step - loss: 0.3335 - accuracy: 0.8552 - val_loss: 0.6791 - val_accuracy: 0.7275\n",
            "Epoch 27/50\n",
            "25/25 [==============================] - 17s 701ms/step - loss: 0.2465 - accuracy: 0.9045 - val_loss: 0.6498 - val_accuracy: 0.7150\n",
            "Epoch 28/50\n",
            "25/25 [==============================] - 17s 700ms/step - loss: 0.2476 - accuracy: 0.9023 - val_loss: 0.7629 - val_accuracy: 0.7325\n",
            "Epoch 29/50\n",
            "25/25 [==============================] - 17s 699ms/step - loss: 0.2325 - accuracy: 0.9041 - val_loss: 0.8588 - val_accuracy: 0.6812\n",
            "Epoch 30/50\n",
            "25/25 [==============================] - 17s 702ms/step - loss: 0.2822 - accuracy: 0.8856 - val_loss: 0.7884 - val_accuracy: 0.7225\n",
            "Epoch 31/50\n",
            "25/25 [==============================] - 18s 724ms/step - loss: 0.1856 - accuracy: 0.9339 - val_loss: 0.7897 - val_accuracy: 0.7262\n",
            "Epoch 32/50\n",
            "25/25 [==============================] - 18s 705ms/step - loss: 0.1914 - accuracy: 0.9246 - val_loss: 0.8973 - val_accuracy: 0.7138\n",
            "Epoch 33/50\n",
            "25/25 [==============================] - 17s 699ms/step - loss: 0.2204 - accuracy: 0.9151 - val_loss: 0.7417 - val_accuracy: 0.7163\n",
            "Epoch 34/50\n",
            "25/25 [==============================] - 18s 707ms/step - loss: 0.1599 - accuracy: 0.9399 - val_loss: 0.8994 - val_accuracy: 0.7312\n",
            "Epoch 35/50\n",
            "25/25 [==============================] - 18s 703ms/step - loss: 0.1666 - accuracy: 0.9374 - val_loss: 0.8952 - val_accuracy: 0.7337\n",
            "Epoch 36/50\n",
            "25/25 [==============================] - 17s 701ms/step - loss: 0.1779 - accuracy: 0.9298 - val_loss: 0.8767 - val_accuracy: 0.7275\n",
            "Epoch 37/50\n",
            "25/25 [==============================] - 17s 698ms/step - loss: 0.1630 - accuracy: 0.9354 - val_loss: 0.8982 - val_accuracy: 0.7287\n",
            "Epoch 38/50\n",
            "25/25 [==============================] - 17s 697ms/step - loss: 0.1528 - accuracy: 0.9482 - val_loss: 0.9709 - val_accuracy: 0.7262\n",
            "Epoch 39/50\n",
            "25/25 [==============================] - 17s 695ms/step - loss: 0.3051 - accuracy: 0.9362 - val_loss: 0.8923 - val_accuracy: 0.7287\n",
            "Epoch 40/50\n",
            "25/25 [==============================] - 18s 704ms/step - loss: 0.1148 - accuracy: 0.9615 - val_loss: 0.9515 - val_accuracy: 0.6950\n",
            "Epoch 41/50\n",
            "25/25 [==============================] - 17s 700ms/step - loss: 0.1243 - accuracy: 0.9594 - val_loss: 1.1020 - val_accuracy: 0.7088\n",
            "Epoch 42/50\n",
            "25/25 [==============================] - 17s 701ms/step - loss: 0.1407 - accuracy: 0.9518 - val_loss: 1.1697 - val_accuracy: 0.7050\n",
            "Epoch 43/50\n",
            "25/25 [==============================] - 17s 701ms/step - loss: 0.1334 - accuracy: 0.9487 - val_loss: 1.1194 - val_accuracy: 0.7312\n",
            "Epoch 44/50\n",
            "25/25 [==============================] - 17s 700ms/step - loss: 0.1142 - accuracy: 0.9646 - val_loss: 1.1877 - val_accuracy: 0.6988\n",
            "Epoch 45/50\n",
            "25/25 [==============================] - 18s 711ms/step - loss: 0.1179 - accuracy: 0.9657 - val_loss: 1.5727 - val_accuracy: 0.6875\n",
            "Epoch 46/50\n",
            "25/25 [==============================] - 17s 699ms/step - loss: 0.1207 - accuracy: 0.9627 - val_loss: 1.2776 - val_accuracy: 0.7188\n",
            "Epoch 47/50\n",
            "25/25 [==============================] - 18s 703ms/step - loss: 0.1264 - accuracy: 0.9564 - val_loss: 1.2965 - val_accuracy: 0.7325\n",
            "Epoch 48/50\n",
            "25/25 [==============================] - 18s 716ms/step - loss: 0.0788 - accuracy: 0.9725 - val_loss: 1.2563 - val_accuracy: 0.7150\n",
            "Epoch 49/50\n",
            "25/25 [==============================] - 18s 715ms/step - loss: 0.0555 - accuracy: 0.9833 - val_loss: 1.0866 - val_accuracy: 0.7312\n",
            "Epoch 50/50\n",
            "25/25 [==============================] - 17s 701ms/step - loss: 0.0793 - accuracy: 0.9734 - val_loss: 1.3861 - val_accuracy: 0.7462\n"
          ],
          "name": "stdout"
        }
      ]
    },
    {
      "cell_type": "code",
      "metadata": {
        "colab": {
          "base_uri": "https://localhost:8080/"
        },
        "id": "3zFrJ2-9X_1u",
        "outputId": "9538b953-7386-44f2-8151-87b30385b13c"
      },
      "source": [
        "exec_3"
      ],
      "execution_count": 19,
      "outputs": [
        {
          "output_type": "execute_result",
          "data": {
            "text/plain": [
              "886.284665107727"
            ]
          },
          "metadata": {
            "tags": []
          },
          "execution_count": 19
        }
      ]
    },
    {
      "cell_type": "markdown",
      "metadata": {
        "id": "iRCyPKJfKm5Y"
      },
      "source": [
        "Fit and compile using the Adam optimizer. Describe the difference in performance between the Adam and RMSprop optimizers."
      ]
    },
    {
      "cell_type": "code",
      "metadata": {
        "id": "eqzQbCl8Km5Z",
        "colab": {
          "base_uri": "https://localhost:8080/"
        },
        "outputId": "242fbf7f-963d-498b-f0e5-14a28bc9bb1b"
      },
      "source": [
        "# Answer below:\n",
        "model = Sequential()\n",
        "model.add(Conv2D(64, (3,3), input_shape=input_shape))\n",
        "model.add(Activation('relu'))\n",
        "model.add(MaxPooling2D(pool_size=(2,2)))\n",
        "\n",
        "model.add(Conv2D(32, (3,3)))\n",
        "model.add(Activation('relu'))\n",
        "model.add(MaxPooling2D(pool_size=(2,2)))\n",
        "\n",
        "model.add(Flatten())\n",
        "model.add(Dense(64))\n",
        "model.add(Activation('relu'))\n",
        "\n",
        "model.add(Dense(64))\n",
        "model.add(Activation('relu'))\n",
        "model.add(Dropout(rate=0.5)) \n",
        "model.add(Dense(1))\n",
        "model.add(Activation('sigmoid'))\n",
        "\n",
        "model.summary()\n"
      ],
      "execution_count": 20,
      "outputs": [
        {
          "output_type": "stream",
          "text": [
            "Model: \"sequential_3\"\n",
            "_________________________________________________________________\n",
            "Layer (type)                 Output Shape              Param #   \n",
            "=================================================================\n",
            "conv2d_5 (Conv2D)            (None, 148, 148, 64)      1792      \n",
            "_________________________________________________________________\n",
            "activation_12 (Activation)   (None, 148, 148, 64)      0         \n",
            "_________________________________________________________________\n",
            "max_pooling2d_5 (MaxPooling2 (None, 74, 74, 64)        0         \n",
            "_________________________________________________________________\n",
            "conv2d_6 (Conv2D)            (None, 72, 72, 32)        18464     \n",
            "_________________________________________________________________\n",
            "activation_13 (Activation)   (None, 72, 72, 32)        0         \n",
            "_________________________________________________________________\n",
            "max_pooling2d_6 (MaxPooling2 (None, 36, 36, 32)        0         \n",
            "_________________________________________________________________\n",
            "flatten_3 (Flatten)          (None, 41472)             0         \n",
            "_________________________________________________________________\n",
            "dense_7 (Dense)              (None, 64)                2654272   \n",
            "_________________________________________________________________\n",
            "activation_14 (Activation)   (None, 64)                0         \n",
            "_________________________________________________________________\n",
            "dense_8 (Dense)              (None, 64)                4160      \n",
            "_________________________________________________________________\n",
            "activation_15 (Activation)   (None, 64)                0         \n",
            "_________________________________________________________________\n",
            "dropout_3 (Dropout)          (None, 64)                0         \n",
            "_________________________________________________________________\n",
            "dense_9 (Dense)              (None, 1)                 65        \n",
            "_________________________________________________________________\n",
            "activation_16 (Activation)   (None, 1)                 0         \n",
            "=================================================================\n",
            "Total params: 2,678,753\n",
            "Trainable params: 2,678,753\n",
            "Non-trainable params: 0\n",
            "_________________________________________________________________\n"
          ],
          "name": "stdout"
        }
      ]
    },
    {
      "cell_type": "code",
      "metadata": {
        "id": "drRBa855Km5a",
        "colab": {
          "base_uri": "https://localhost:8080/"
        },
        "outputId": "e3239228-dd75-43e9-d324-4aed1c8573f2"
      },
      "source": [
        "#using adam for opt\n",
        "model.compile(optimizer='adam', loss='binary_crossentropy', metrics=['accuracy'])\n",
        "\n",
        "#fitting\n",
        "start_time = time.time()\n",
        "model.fit(train_generator, \n",
        "          steps_per_epoch=25,\n",
        "          epochs=50,\n",
        "          validation_data=validation_generator,\n",
        "          validation_steps=10)\n",
        "exec_4 = (time.time() - start_time)"
      ],
      "execution_count": 21,
      "outputs": [
        {
          "output_type": "stream",
          "text": [
            "Epoch 1/50\n",
            "25/25 [==============================] - 18s 717ms/step - loss: 0.9803 - accuracy: 0.4925 - val_loss: 0.6931 - val_accuracy: 0.5013\n",
            "Epoch 2/50\n",
            "25/25 [==============================] - 18s 729ms/step - loss: 0.6930 - accuracy: 0.5087 - val_loss: 0.6922 - val_accuracy: 0.5000\n",
            "Epoch 3/50\n",
            "25/25 [==============================] - 17s 694ms/step - loss: 0.6943 - accuracy: 0.5020 - val_loss: 0.6931 - val_accuracy: 0.5163\n",
            "Epoch 4/50\n",
            "25/25 [==============================] - 17s 696ms/step - loss: 0.6934 - accuracy: 0.4593 - val_loss: 0.6931 - val_accuracy: 0.5038\n",
            "Epoch 5/50\n",
            "25/25 [==============================] - 17s 698ms/step - loss: 0.6931 - accuracy: 0.5030 - val_loss: 0.6931 - val_accuracy: 0.5188\n",
            "Epoch 6/50\n",
            "25/25 [==============================] - 17s 694ms/step - loss: 0.6932 - accuracy: 0.5142 - val_loss: 0.6930 - val_accuracy: 0.5088\n",
            "Epoch 7/50\n",
            "25/25 [==============================] - 17s 700ms/step - loss: 0.6932 - accuracy: 0.4843 - val_loss: 0.6930 - val_accuracy: 0.5400\n",
            "Epoch 8/50\n",
            "25/25 [==============================] - 17s 697ms/step - loss: 0.6930 - accuracy: 0.5200 - val_loss: 0.6920 - val_accuracy: 0.5713\n",
            "Epoch 9/50\n",
            "25/25 [==============================] - 17s 696ms/step - loss: 0.6910 - accuracy: 0.5418 - val_loss: 0.6909 - val_accuracy: 0.5400\n",
            "Epoch 10/50\n",
            "25/25 [==============================] - 17s 699ms/step - loss: 0.6893 - accuracy: 0.5514 - val_loss: 0.6860 - val_accuracy: 0.5625\n",
            "Epoch 11/50\n",
            "25/25 [==============================] - 17s 702ms/step - loss: 0.6788 - accuracy: 0.5714 - val_loss: 0.6680 - val_accuracy: 0.5888\n",
            "Epoch 12/50\n",
            "25/25 [==============================] - 17s 699ms/step - loss: 0.7007 - accuracy: 0.5786 - val_loss: 0.6677 - val_accuracy: 0.6037\n",
            "Epoch 13/50\n",
            "25/25 [==============================] - 17s 693ms/step - loss: 0.6496 - accuracy: 0.6334 - val_loss: 0.6617 - val_accuracy: 0.6137\n",
            "Epoch 14/50\n",
            "25/25 [==============================] - 17s 697ms/step - loss: 0.6152 - accuracy: 0.6635 - val_loss: 0.6436 - val_accuracy: 0.5975\n",
            "Epoch 15/50\n",
            "25/25 [==============================] - 17s 697ms/step - loss: 0.6026 - accuracy: 0.6721 - val_loss: 0.7003 - val_accuracy: 0.6112\n",
            "Epoch 16/50\n",
            "25/25 [==============================] - 17s 702ms/step - loss: 0.6111 - accuracy: 0.6820 - val_loss: 0.6845 - val_accuracy: 0.6237\n",
            "Epoch 17/50\n",
            "25/25 [==============================] - 17s 696ms/step - loss: 0.5748 - accuracy: 0.7111 - val_loss: 0.6435 - val_accuracy: 0.6425\n",
            "Epoch 18/50\n",
            "25/25 [==============================] - 18s 703ms/step - loss: 0.5410 - accuracy: 0.7193 - val_loss: 0.6363 - val_accuracy: 0.6475\n",
            "Epoch 19/50\n",
            "25/25 [==============================] - 17s 695ms/step - loss: 0.5202 - accuracy: 0.7263 - val_loss: 0.6385 - val_accuracy: 0.6438\n",
            "Epoch 20/50\n",
            "25/25 [==============================] - 18s 721ms/step - loss: 0.5047 - accuracy: 0.7590 - val_loss: 0.6607 - val_accuracy: 0.6612\n",
            "Epoch 21/50\n",
            "25/25 [==============================] - 17s 699ms/step - loss: 0.4519 - accuracy: 0.7801 - val_loss: 0.6589 - val_accuracy: 0.6513\n",
            "Epoch 22/50\n",
            "25/25 [==============================] - 17s 696ms/step - loss: 0.4241 - accuracy: 0.8088 - val_loss: 0.6800 - val_accuracy: 0.6687\n",
            "Epoch 23/50\n",
            "25/25 [==============================] - 17s 702ms/step - loss: 0.3677 - accuracy: 0.8500 - val_loss: 0.7102 - val_accuracy: 0.6637\n",
            "Epoch 24/50\n",
            "25/25 [==============================] - 17s 699ms/step - loss: 0.3538 - accuracy: 0.8547 - val_loss: 0.7302 - val_accuracy: 0.6662\n",
            "Epoch 25/50\n",
            "25/25 [==============================] - 17s 701ms/step - loss: 0.3110 - accuracy: 0.8793 - val_loss: 0.7643 - val_accuracy: 0.6575\n",
            "Epoch 26/50\n",
            "25/25 [==============================] - 17s 694ms/step - loss: 0.3207 - accuracy: 0.8687 - val_loss: 0.7432 - val_accuracy: 0.6675\n",
            "Epoch 27/50\n",
            "25/25 [==============================] - 17s 694ms/step - loss: 0.3005 - accuracy: 0.8707 - val_loss: 0.7788 - val_accuracy: 0.6587\n",
            "Epoch 28/50\n",
            "25/25 [==============================] - 17s 696ms/step - loss: 0.2738 - accuracy: 0.8969 - val_loss: 0.8086 - val_accuracy: 0.6712\n",
            "Epoch 29/50\n",
            "25/25 [==============================] - 17s 699ms/step - loss: 0.2480 - accuracy: 0.9012 - val_loss: 0.8722 - val_accuracy: 0.6787\n",
            "Epoch 30/50\n",
            "25/25 [==============================] - 18s 703ms/step - loss: 0.2023 - accuracy: 0.9223 - val_loss: 0.8945 - val_accuracy: 0.6775\n",
            "Epoch 31/50\n",
            "25/25 [==============================] - 17s 697ms/step - loss: 0.1861 - accuracy: 0.9354 - val_loss: 0.9428 - val_accuracy: 0.6762\n",
            "Epoch 32/50\n",
            "25/25 [==============================] - 17s 698ms/step - loss: 0.1935 - accuracy: 0.9258 - val_loss: 1.0581 - val_accuracy: 0.6562\n",
            "Epoch 33/50\n",
            "25/25 [==============================] - 17s 699ms/step - loss: 0.1663 - accuracy: 0.9398 - val_loss: 0.9753 - val_accuracy: 0.6650\n",
            "Epoch 34/50\n",
            "25/25 [==============================] - 17s 699ms/step - loss: 0.1928 - accuracy: 0.9302 - val_loss: 0.9479 - val_accuracy: 0.6800\n",
            "Epoch 35/50\n",
            "25/25 [==============================] - 17s 700ms/step - loss: 0.1610 - accuracy: 0.9387 - val_loss: 1.0317 - val_accuracy: 0.6675\n",
            "Epoch 36/50\n",
            "25/25 [==============================] - 18s 705ms/step - loss: 0.1823 - accuracy: 0.9249 - val_loss: 0.9990 - val_accuracy: 0.6825\n",
            "Epoch 37/50\n",
            "25/25 [==============================] - 18s 711ms/step - loss: 0.1118 - accuracy: 0.9628 - val_loss: 1.1570 - val_accuracy: 0.6737\n",
            "Epoch 38/50\n",
            "25/25 [==============================] - 18s 709ms/step - loss: 0.1218 - accuracy: 0.9560 - val_loss: 1.0515 - val_accuracy: 0.6950\n",
            "Epoch 39/50\n",
            "25/25 [==============================] - 17s 702ms/step - loss: 0.1052 - accuracy: 0.9613 - val_loss: 1.1739 - val_accuracy: 0.6900\n",
            "Epoch 40/50\n",
            "25/25 [==============================] - 17s 698ms/step - loss: 0.1037 - accuracy: 0.9635 - val_loss: 1.2359 - val_accuracy: 0.6875\n",
            "Epoch 41/50\n",
            "25/25 [==============================] - 17s 696ms/step - loss: 0.0887 - accuracy: 0.9725 - val_loss: 1.2945 - val_accuracy: 0.6800\n",
            "Epoch 42/50\n",
            "25/25 [==============================] - 17s 695ms/step - loss: 0.0871 - accuracy: 0.9664 - val_loss: 1.2414 - val_accuracy: 0.6875\n",
            "Epoch 43/50\n",
            "25/25 [==============================] - 17s 698ms/step - loss: 0.0916 - accuracy: 0.9660 - val_loss: 1.4637 - val_accuracy: 0.6675\n",
            "Epoch 44/50\n",
            "25/25 [==============================] - 17s 699ms/step - loss: 0.0642 - accuracy: 0.9824 - val_loss: 1.5197 - val_accuracy: 0.6562\n",
            "Epoch 45/50\n",
            "25/25 [==============================] - 17s 697ms/step - loss: 0.0891 - accuracy: 0.9746 - val_loss: 1.4357 - val_accuracy: 0.6675\n",
            "Epoch 46/50\n",
            "25/25 [==============================] - 17s 697ms/step - loss: 0.0779 - accuracy: 0.9712 - val_loss: 1.4833 - val_accuracy: 0.6700\n",
            "Epoch 47/50\n",
            "25/25 [==============================] - 17s 697ms/step - loss: 0.0588 - accuracy: 0.9798 - val_loss: 1.6011 - val_accuracy: 0.6687\n",
            "Epoch 48/50\n",
            "25/25 [==============================] - 17s 701ms/step - loss: 0.1047 - accuracy: 0.9576 - val_loss: 1.5582 - val_accuracy: 0.6700\n",
            "Epoch 49/50\n",
            "25/25 [==============================] - 17s 698ms/step - loss: 0.1034 - accuracy: 0.9614 - val_loss: 1.4060 - val_accuracy: 0.6562\n",
            "Epoch 50/50\n",
            "25/25 [==============================] - 17s 697ms/step - loss: 0.0611 - accuracy: 0.9803 - val_loss: 1.4394 - val_accuracy: 0.6750\n"
          ],
          "name": "stdout"
        }
      ]
    },
    {
      "cell_type": "code",
      "metadata": {
        "colab": {
          "base_uri": "https://localhost:8080/"
        },
        "id": "MjfGpm-CYwyt",
        "outputId": "5dd4f672-3ffa-44fb-deca-697a546e77c1"
      },
      "source": [
        "exec_4"
      ],
      "execution_count": 22,
      "outputs": [
        {
          "output_type": "execute_result",
          "data": {
            "text/plain": [
              "873.956027507782"
            ]
          },
          "metadata": {
            "tags": []
          },
          "execution_count": 22
        }
      ]
    },
    {
      "cell_type": "code",
      "metadata": {
        "id": "_yHvimMlcJCr"
      },
      "source": [
        ""
      ],
      "execution_count": null,
      "outputs": []
    }
  ]
}