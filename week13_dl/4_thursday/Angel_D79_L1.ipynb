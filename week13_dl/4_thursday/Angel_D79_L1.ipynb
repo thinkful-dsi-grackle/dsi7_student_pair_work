{
  "nbformat": 4,
  "nbformat_minor": 0,
  "metadata": {
    "kernelspec": {
      "display_name": "Python 3",
      "language": "python",
      "name": "python3"
    },
    "language_info": {
      "codemirror_mode": {
        "name": "ipython",
        "version": 3
      },
      "file_extension": ".py",
      "mimetype": "text/x-python",
      "name": "python",
      "nbconvert_exporter": "python",
      "pygments_lexer": "ipython3",
      "version": "3.7.0"
    },
    "colab": {
      "name": "Angel_D79_L1.ipynb",
      "provenance": [],
      "collapsed_sections": []
    },
    "accelerator": "GPU"
  },
  "cells": [
    {
      "cell_type": "markdown",
      "metadata": {
        "id": "DuT0K8LDKm45"
      },
      "source": [
        "## Convolutional Neural Networks\n",
        "\n",
        "In this assignment, we will learn about convolutional neural networks. We will create a CNN and learn to classify image data."
      ]
    },
    {
      "cell_type": "markdown",
      "metadata": {
        "id": "tMD7Nr8hKm47"
      },
      "source": [
        "In this lecture, we will use the image data generator to classify our data. The data is loaded below:"
      ]
    },
    {
      "cell_type": "code",
      "metadata": {
        "id": "6swIc-rGKm47"
      },
      "source": [
        "import numpy as np\n",
        "import pandas as pd\n",
        "\n",
        "from tensorflow.keras.preprocessing.image import ImageDataGenerator\n",
        "from tensorflow.keras.models import Sequential\n",
        "from tensorflow.keras.layers import Conv2D, MaxPooling2D\n",
        "from tensorflow.keras.layers import Activation, Dropout, Flatten, Dense, BatchNormalization \n",
        "from tensorflow.keras import backend as K\n",
        "from tensorflow.keras.models import Model"
      ],
      "execution_count": 1,
      "outputs": []
    },
    {
      "cell_type": "code",
      "metadata": {
        "colab": {
          "base_uri": "https://localhost:8080/"
        },
        "id": "wTAJAzK0oisu",
        "outputId": "87e943d8-cdda-44bd-84cb-3c16a6476df8"
      },
      "source": [
        "from google.colab import drive\n",
        "drive.mount('/content/drive')"
      ],
      "execution_count": 2,
      "outputs": [
        {
          "output_type": "stream",
          "text": [
            "Drive already mounted at /content/drive; to attempt to forcibly remount, call drive.mount(\"/content/drive\", force_remount=True).\n"
          ],
          "name": "stdout"
        }
      ]
    },
    {
      "cell_type": "code",
      "metadata": {
        "id": "WxuDmAQlKm4-"
      },
      "source": [
        "train_data_dir = '/content/drive/MyDrive/dogs-vs-cats-processed/train/'\n",
        "validation_data_dir = '/content/drive/MyDrive/dogs-vs-cats-processed/test/'\n",
        "\n",
        "img_width, img_height = 150, 150\n",
        "batch_size = 80"
      ],
      "execution_count": 3,
      "outputs": []
    },
    {
      "cell_type": "code",
      "metadata": {
        "id": "SCfRV8VGKm5A"
      },
      "source": [
        "#This block of code is used to ensure the input shape is correct\n",
        "\n",
        "if K.image_data_format() == 'channels_first':\n",
        "    input_shape = (3, img_width, img_height)\n",
        "else:\n",
        "    input_shape = (img_width, img_height, 3)"
      ],
      "execution_count": 4,
      "outputs": []
    },
    {
      "cell_type": "markdown",
      "metadata": {
        "id": "T4x9el54Km5C"
      },
      "source": [
        "Define a train data generator with shear range of 0.3, zoom range of 0.1 and rescale to 1./255 (note that we must make 1 a float to produce a correct fraction). Use the ImageDataGenerator function."
      ]
    },
    {
      "cell_type": "code",
      "metadata": {
        "id": "EfKBxGZpKm5D"
      },
      "source": [
        "# Answer below:\n",
        "train_datagen = ImageDataGenerator(\n",
        "    rescale=1. / 255,\n",
        "    shear_range=0.3,\n",
        "    zoom_range=0.1,\n",
        ")"
      ],
      "execution_count": 5,
      "outputs": []
    },
    {
      "cell_type": "markdown",
      "metadata": {
        "id": "5oQJZOxNKm5E"
      },
      "source": [
        "Define a test data generator that only rescales to 1./255. Use the ImageDataGenerator function."
      ]
    },
    {
      "cell_type": "code",
      "metadata": {
        "id": "_U3XQZVLKm5F"
      },
      "source": [
        "# Answer below:\n",
        "test_datagen = ImageDataGenerator(rescale=1. / 255)"
      ],
      "execution_count": 6,
      "outputs": []
    },
    {
      "cell_type": "markdown",
      "metadata": {
        "id": "S0NCOxrCKm5G"
      },
      "source": [
        "The train generator and the test generator are defined below:"
      ]
    },
    {
      "cell_type": "code",
      "metadata": {
        "id": "zDgonF6uKm5H",
        "colab": {
          "base_uri": "https://localhost:8080/"
        },
        "outputId": "6de32912-873a-47ed-bcc9-695ca5e23a68"
      },
      "source": [
        "train_generator = train_datagen.flow_from_directory(\n",
        "    train_data_dir,\n",
        "    target_size=(img_width, img_height),\n",
        "    batch_size=batch_size,\n",
        "    class_mode='binary')\n",
        "\n",
        "validation_generator = test_datagen.flow_from_directory(\n",
        "    validation_data_dir,\n",
        "    target_size=(img_width, img_height),\n",
        "    batch_size=batch_size,\n",
        "    #shuffle=False,\n",
        "    class_mode='binary')"
      ],
      "execution_count": 7,
      "outputs": [
        {
          "output_type": "stream",
          "text": [
            "Found 2000 images belonging to 2 classes.\n",
            "Found 802 images belonging to 2 classes.\n"
          ],
          "name": "stdout"
        }
      ]
    },
    {
      "cell_type": "markdown",
      "metadata": {
        "id": "0lq09r31Km5K"
      },
      "source": [
        "We'll start with a simple model. In CNNs, we first convolve the to extract features and then we add the dense layers. \n",
        "\n",
        "Create a model with one layer of convolution of size 64, one layer of activation, one layer of max pooling with pool size (2,2) and then one flattening layer, one dense layer of unit size 64 with a ReLU activation and one dense output layer. The output layer should have a sigmoid activation."
      ]
    },
    {
      "cell_type": "code",
      "metadata": {
        "colab": {
          "base_uri": "https://localhost:8080/"
        },
        "id": "xIOZlez-hlEm",
        "outputId": "b106fe0c-9e60-4528-e330-f33d8299ae22"
      },
      "source": [
        "input_shape"
      ],
      "execution_count": 8,
      "outputs": [
        {
          "output_type": "execute_result",
          "data": {
            "text/plain": [
              "(150, 150, 3)"
            ]
          },
          "metadata": {
            "tags": []
          },
          "execution_count": 8
        }
      ]
    },
    {
      "cell_type": "code",
      "metadata": {
        "id": "IJqkMx3tKm5K",
        "colab": {
          "base_uri": "https://localhost:8080/"
        },
        "outputId": "4ab2bb94-07d2-432c-b3ae-a0adef1e8909"
      },
      "source": [
        "# Answer below:\n",
        "model = Sequential()\n",
        "model.add(Conv2D(64, (3,3), input_shape=input_shape))\n",
        "model.add(Activation('relu'))\n",
        "model.add(MaxPooling2D(pool_size=(2,2)))\n",
        "model.add(Flatten())\n",
        "model.add(Dense(64))\n",
        "model.add(Activation('relu'))\n",
        "model.add(Dense(1))\n",
        "model.add(Activation('sigmoid'))\n",
        "\n",
        "model.summary()"
      ],
      "execution_count": 9,
      "outputs": [
        {
          "output_type": "stream",
          "text": [
            "Model: \"sequential\"\n",
            "_________________________________________________________________\n",
            "Layer (type)                 Output Shape              Param #   \n",
            "=================================================================\n",
            "conv2d (Conv2D)              (None, 148, 148, 64)      1792      \n",
            "_________________________________________________________________\n",
            "activation (Activation)      (None, 148, 148, 64)      0         \n",
            "_________________________________________________________________\n",
            "max_pooling2d (MaxPooling2D) (None, 74, 74, 64)        0         \n",
            "_________________________________________________________________\n",
            "flatten (Flatten)            (None, 350464)            0         \n",
            "_________________________________________________________________\n",
            "dense (Dense)                (None, 64)                22429760  \n",
            "_________________________________________________________________\n",
            "activation_1 (Activation)    (None, 64)                0         \n",
            "_________________________________________________________________\n",
            "dense_1 (Dense)              (None, 1)                 65        \n",
            "_________________________________________________________________\n",
            "activation_2 (Activation)    (None, 1)                 0         \n",
            "=================================================================\n",
            "Total params: 22,431,617\n",
            "Trainable params: 22,431,617\n",
            "Non-trainable params: 0\n",
            "_________________________________________________________________\n"
          ],
          "name": "stdout"
        }
      ]
    },
    {
      "cell_type": "markdown",
      "metadata": {
        "id": "hEBJ5GXcKm5M"
      },
      "source": [
        "Compile the model using RMSprop."
      ]
    },
    {
      "cell_type": "code",
      "metadata": {
        "id": "85uyZ1yTKm5M"
      },
      "source": [
        "# Answer below:\n",
        "model.compile(optimizer='rmsprop', loss='binary_crossentropy', metrics=['accuracy'])"
      ],
      "execution_count": 10,
      "outputs": []
    },
    {
      "cell_type": "markdown",
      "metadata": {
        "id": "uIKSpMe-Km5O"
      },
      "source": [
        "Fit the model using a fit generator. Use 50 epochs, 25 training steps and 15 validation steps"
      ]
    },
    {
      "cell_type": "code",
      "metadata": {
        "id": "NFfKyhLzKm5O",
        "colab": {
          "base_uri": "https://localhost:8080/"
        },
        "outputId": "2fc0e255-6798-41ec-f24b-859afedf116c"
      },
      "source": [
        "# Answer below:\n",
        "model.fit(\n",
        "    train_generator,\n",
        "    steps_per_epoch=25,\n",
        "    epochs=50,\n",
        "    validation_data=validation_generator,\n",
        "    validation_steps=10\n",
        ")\n"
      ],
      "execution_count": 11,
      "outputs": [
        {
          "output_type": "stream",
          "text": [
            "Epoch 1/50\n",
            "25/25 [==============================] - 20s 687ms/step - loss: 13.5507 - accuracy: 0.5013 - val_loss: 1.0234 - val_accuracy: 0.5000\n",
            "Epoch 2/50\n",
            "25/25 [==============================] - 17s 690ms/step - loss: 0.8306 - accuracy: 0.5401 - val_loss: 0.6271 - val_accuracy: 0.6513\n",
            "Epoch 3/50\n",
            "25/25 [==============================] - 17s 690ms/step - loss: 0.6636 - accuracy: 0.6318 - val_loss: 0.6464 - val_accuracy: 0.6513\n",
            "Epoch 4/50\n",
            "25/25 [==============================] - 17s 690ms/step - loss: 0.6146 - accuracy: 0.6653 - val_loss: 0.6333 - val_accuracy: 0.6500\n",
            "Epoch 5/50\n",
            "25/25 [==============================] - 17s 690ms/step - loss: 0.5890 - accuracy: 0.7093 - val_loss: 0.6187 - val_accuracy: 0.6800\n",
            "Epoch 6/50\n",
            "25/25 [==============================] - 17s 689ms/step - loss: 0.5749 - accuracy: 0.7289 - val_loss: 0.6097 - val_accuracy: 0.6787\n",
            "Epoch 7/50\n",
            "25/25 [==============================] - 17s 686ms/step - loss: 0.4989 - accuracy: 0.7676 - val_loss: 0.7120 - val_accuracy: 0.6325\n",
            "Epoch 8/50\n",
            "25/25 [==============================] - 17s 686ms/step - loss: 0.5102 - accuracy: 0.7590 - val_loss: 0.6274 - val_accuracy: 0.6975\n",
            "Epoch 9/50\n",
            "25/25 [==============================] - 17s 688ms/step - loss: 0.4718 - accuracy: 0.7969 - val_loss: 0.6314 - val_accuracy: 0.6975\n",
            "Epoch 10/50\n",
            "25/25 [==============================] - 17s 694ms/step - loss: 0.4044 - accuracy: 0.8130 - val_loss: 0.7808 - val_accuracy: 0.6775\n",
            "Epoch 11/50\n",
            "25/25 [==============================] - 17s 685ms/step - loss: 0.4061 - accuracy: 0.8236 - val_loss: 0.7515 - val_accuracy: 0.6725\n",
            "Epoch 12/50\n",
            "25/25 [==============================] - 17s 683ms/step - loss: 0.4604 - accuracy: 0.8241 - val_loss: 0.6936 - val_accuracy: 0.6988\n",
            "Epoch 13/50\n",
            "25/25 [==============================] - 17s 687ms/step - loss: 0.3839 - accuracy: 0.8304 - val_loss: 1.0549 - val_accuracy: 0.6250\n",
            "Epoch 14/50\n",
            "25/25 [==============================] - 17s 691ms/step - loss: 0.3136 - accuracy: 0.8628 - val_loss: 0.7569 - val_accuracy: 0.6737\n",
            "Epoch 15/50\n",
            "25/25 [==============================] - 17s 698ms/step - loss: 0.2892 - accuracy: 0.8896 - val_loss: 0.8864 - val_accuracy: 0.6725\n",
            "Epoch 16/50\n",
            "25/25 [==============================] - 17s 686ms/step - loss: 0.2770 - accuracy: 0.8913 - val_loss: 0.8443 - val_accuracy: 0.6900\n",
            "Epoch 17/50\n",
            "25/25 [==============================] - 17s 689ms/step - loss: 0.2592 - accuracy: 0.8870 - val_loss: 0.8199 - val_accuracy: 0.6963\n",
            "Epoch 18/50\n",
            "25/25 [==============================] - 17s 689ms/step - loss: 0.1944 - accuracy: 0.9345 - val_loss: 0.9785 - val_accuracy: 0.6338\n",
            "Epoch 19/50\n",
            "25/25 [==============================] - 17s 689ms/step - loss: 0.2008 - accuracy: 0.9321 - val_loss: 0.9060 - val_accuracy: 0.6775\n",
            "Epoch 20/50\n",
            "25/25 [==============================] - 17s 698ms/step - loss: 0.1747 - accuracy: 0.9438 - val_loss: 1.0233 - val_accuracy: 0.6538\n",
            "Epoch 21/50\n",
            "25/25 [==============================] - 17s 683ms/step - loss: 0.2839 - accuracy: 0.9430 - val_loss: 1.1161 - val_accuracy: 0.6737\n",
            "Epoch 22/50\n",
            "25/25 [==============================] - 17s 690ms/step - loss: 0.2054 - accuracy: 0.9286 - val_loss: 1.0113 - val_accuracy: 0.6913\n",
            "Epoch 23/50\n",
            "25/25 [==============================] - 17s 686ms/step - loss: 0.2163 - accuracy: 0.9340 - val_loss: 1.0160 - val_accuracy: 0.6787\n",
            "Epoch 24/50\n",
            "25/25 [==============================] - 17s 689ms/step - loss: 0.1467 - accuracy: 0.9490 - val_loss: 2.1928 - val_accuracy: 0.5825\n",
            "Epoch 25/50\n",
            "25/25 [==============================] - 17s 683ms/step - loss: 0.2222 - accuracy: 0.9296 - val_loss: 1.1067 - val_accuracy: 0.6762\n",
            "Epoch 26/50\n",
            "25/25 [==============================] - 17s 686ms/step - loss: 0.1200 - accuracy: 0.9631 - val_loss: 1.0523 - val_accuracy: 0.6775\n",
            "Epoch 27/50\n",
            "25/25 [==============================] - 17s 688ms/step - loss: 0.0524 - accuracy: 0.9919 - val_loss: 1.1929 - val_accuracy: 0.6900\n",
            "Epoch 28/50\n",
            "25/25 [==============================] - 17s 693ms/step - loss: 0.0796 - accuracy: 0.9759 - val_loss: 1.2501 - val_accuracy: 0.6888\n",
            "Epoch 29/50\n",
            "25/25 [==============================] - 17s 687ms/step - loss: 0.1145 - accuracy: 0.9630 - val_loss: 1.4032 - val_accuracy: 0.6375\n",
            "Epoch 30/50\n",
            "25/25 [==============================] - 17s 685ms/step - loss: 0.0604 - accuracy: 0.9884 - val_loss: 1.3612 - val_accuracy: 0.6525\n",
            "Epoch 31/50\n",
            "25/25 [==============================] - 17s 686ms/step - loss: 0.1296 - accuracy: 0.9597 - val_loss: 1.3190 - val_accuracy: 0.6675\n",
            "Epoch 32/50\n",
            "25/25 [==============================] - 17s 686ms/step - loss: 0.0704 - accuracy: 0.9809 - val_loss: 1.3436 - val_accuracy: 0.6837\n",
            "Epoch 33/50\n",
            "25/25 [==============================] - 17s 702ms/step - loss: 0.0422 - accuracy: 0.9917 - val_loss: 1.2405 - val_accuracy: 0.6637\n",
            "Epoch 34/50\n",
            "25/25 [==============================] - 17s 688ms/step - loss: 0.0327 - accuracy: 0.9944 - val_loss: 1.7734 - val_accuracy: 0.6587\n",
            "Epoch 35/50\n",
            "25/25 [==============================] - 17s 682ms/step - loss: 0.0766 - accuracy: 0.9746 - val_loss: 1.9876 - val_accuracy: 0.6812\n",
            "Epoch 36/50\n",
            "25/25 [==============================] - 17s 684ms/step - loss: 0.1600 - accuracy: 0.9699 - val_loss: 1.1841 - val_accuracy: 0.6775\n",
            "Epoch 37/50\n",
            "25/25 [==============================] - 17s 689ms/step - loss: 0.0264 - accuracy: 0.9980 - val_loss: 1.4618 - val_accuracy: 0.6837\n",
            "Epoch 38/50\n",
            "25/25 [==============================] - 17s 686ms/step - loss: 0.2043 - accuracy: 0.9463 - val_loss: 1.4176 - val_accuracy: 0.6762\n",
            "Epoch 39/50\n",
            "25/25 [==============================] - 17s 685ms/step - loss: 0.0241 - accuracy: 0.9964 - val_loss: 2.7663 - val_accuracy: 0.6137\n",
            "Epoch 40/50\n",
            "25/25 [==============================] - 17s 685ms/step - loss: 0.1282 - accuracy: 0.9567 - val_loss: 1.5233 - val_accuracy: 0.6963\n",
            "Epoch 41/50\n",
            "25/25 [==============================] - 17s 686ms/step - loss: 0.0746 - accuracy: 0.9817 - val_loss: 1.4765 - val_accuracy: 0.6913\n",
            "Epoch 42/50\n",
            "25/25 [==============================] - 17s 688ms/step - loss: 0.0236 - accuracy: 0.9952 - val_loss: 1.8760 - val_accuracy: 0.6488\n",
            "Epoch 43/50\n",
            "25/25 [==============================] - 17s 686ms/step - loss: 0.0989 - accuracy: 0.9741 - val_loss: 1.4025 - val_accuracy: 0.6913\n",
            "Epoch 44/50\n",
            "25/25 [==============================] - 17s 685ms/step - loss: 0.0148 - accuracy: 0.9967 - val_loss: 1.8085 - val_accuracy: 0.6662\n",
            "Epoch 45/50\n",
            "25/25 [==============================] - 17s 683ms/step - loss: 0.0164 - accuracy: 0.9965 - val_loss: 1.9511 - val_accuracy: 0.6612\n",
            "Epoch 46/50\n",
            "25/25 [==============================] - 17s 694ms/step - loss: 0.1593 - accuracy: 0.9566 - val_loss: 1.5427 - val_accuracy: 0.6775\n",
            "Epoch 47/50\n",
            "25/25 [==============================] - 17s 685ms/step - loss: 0.0142 - accuracy: 0.9972 - val_loss: 1.7318 - val_accuracy: 0.6862\n",
            "Epoch 48/50\n",
            "25/25 [==============================] - 17s 686ms/step - loss: 0.0262 - accuracy: 0.9926 - val_loss: 1.8200 - val_accuracy: 0.6963\n",
            "Epoch 49/50\n",
            "25/25 [==============================] - 17s 681ms/step - loss: 0.1641 - accuracy: 0.9626 - val_loss: 1.5003 - val_accuracy: 0.6913\n",
            "Epoch 50/50\n",
            "25/25 [==============================] - 17s 683ms/step - loss: 0.0086 - accuracy: 0.9993 - val_loss: 1.9001 - val_accuracy: 0.6825\n"
          ],
          "name": "stdout"
        },
        {
          "output_type": "execute_result",
          "data": {
            "text/plain": [
              "<tensorflow.python.keras.callbacks.History at 0x7f5b01893630>"
            ]
          },
          "metadata": {
            "tags": []
          },
          "execution_count": 11
        }
      ]
    },
    {
      "cell_type": "markdown",
      "metadata": {
        "id": "QAZ1IeybKm5Q"
      },
      "source": [
        "Create a new model by adding an additional group of convolution, activation and max pooling layers before the flatten layer. Make the convolution layer of unit size 32. Keep everything else the same."
      ]
    },
    {
      "cell_type": "code",
      "metadata": {
        "id": "651SH4QGKm5Q"
      },
      "source": [
        "# Answer below:\n",
        "model = Sequential()\n",
        "\n",
        "model.add(Conv2D(64, (3,3), input_shape=input_shape))\n",
        "model.add(Activation('relu'))\n",
        "model.add(MaxPooling2D(pool_size=(2,2)))\n",
        "\n",
        "model.add(Conv2D(32, (3,3), input_shape=input_shape))\n",
        "model.add(Activation('relu'))\n",
        "model.add(MaxPooling2D(pool_size=(2,2)))\n",
        "\n",
        "model.add(Flatten())\n",
        "model.add(Dense(64))\n",
        "model.add(Activation('relu'))\n",
        "model.add(Dense(1))\n",
        "model.add(Activation('sigmoid'))\n"
      ],
      "execution_count": 12,
      "outputs": []
    },
    {
      "cell_type": "markdown",
      "metadata": {
        "id": "fHfpSfgyKm5S"
      },
      "source": [
        "Fit and compile the model in the same way you did with the previous model. How did the results improve?"
      ]
    },
    {
      "cell_type": "code",
      "metadata": {
        "id": "k5nPg_LmKm5S",
        "colab": {
          "base_uri": "https://localhost:8080/"
        },
        "outputId": "e1ae2972-1793-4a4b-e614-da6dc0c31987"
      },
      "source": [
        "# Answer below:\n",
        "model.compile(optimizer='rmsprop', loss='binary_crossentropy', metrics=['accuracy'])\n",
        "\n",
        "model.fit(\n",
        "    train_generator,\n",
        "    steps_per_epoch=25,\n",
        "    epochs=50,\n",
        "    validation_data=validation_generator,\n",
        "    validation_steps=10\n",
        ")\n",
        "# Note the increase in accuracy"
      ],
      "execution_count": 13,
      "outputs": [
        {
          "output_type": "stream",
          "text": [
            "Epoch 1/50\n",
            "25/25 [==============================] - 18s 715ms/step - loss: 1.9092 - accuracy: 0.4791 - val_loss: 0.6905 - val_accuracy: 0.5475\n",
            "Epoch 2/50\n",
            "25/25 [==============================] - 17s 690ms/step - loss: 0.6934 - accuracy: 0.5364 - val_loss: 0.9201 - val_accuracy: 0.5013\n",
            "Epoch 3/50\n",
            "25/25 [==============================] - 17s 690ms/step - loss: 0.7278 - accuracy: 0.5224 - val_loss: 0.6841 - val_accuracy: 0.5025\n",
            "Epoch 4/50\n",
            "25/25 [==============================] - 17s 689ms/step - loss: 0.6931 - accuracy: 0.5313 - val_loss: 0.6783 - val_accuracy: 0.5663\n",
            "Epoch 5/50\n",
            "25/25 [==============================] - 17s 696ms/step - loss: 0.6851 - accuracy: 0.5764 - val_loss: 0.6547 - val_accuracy: 0.6500\n",
            "Epoch 6/50\n",
            "25/25 [==============================] - 17s 694ms/step - loss: 0.6626 - accuracy: 0.6224 - val_loss: 0.6456 - val_accuracy: 0.5987\n",
            "Epoch 7/50\n",
            "25/25 [==============================] - 17s 690ms/step - loss: 0.6410 - accuracy: 0.6540 - val_loss: 0.6343 - val_accuracy: 0.6438\n",
            "Epoch 8/50\n",
            "25/25 [==============================] - 17s 689ms/step - loss: 0.5963 - accuracy: 0.6783 - val_loss: 0.6253 - val_accuracy: 0.6612\n",
            "Epoch 9/50\n",
            "25/25 [==============================] - 17s 690ms/step - loss: 0.5995 - accuracy: 0.6979 - val_loss: 0.6036 - val_accuracy: 0.6737\n",
            "Epoch 10/50\n",
            "25/25 [==============================] - 17s 688ms/step - loss: 0.5423 - accuracy: 0.7406 - val_loss: 0.6459 - val_accuracy: 0.6575\n",
            "Epoch 11/50\n",
            "25/25 [==============================] - 17s 692ms/step - loss: 0.6217 - accuracy: 0.6953 - val_loss: 0.5713 - val_accuracy: 0.7075\n",
            "Epoch 12/50\n",
            "25/25 [==============================] - 17s 691ms/step - loss: 0.4975 - accuracy: 0.7784 - val_loss: 0.7148 - val_accuracy: 0.6200\n",
            "Epoch 13/50\n",
            "25/25 [==============================] - 17s 693ms/step - loss: 0.4978 - accuracy: 0.7490 - val_loss: 0.6052 - val_accuracy: 0.7000\n",
            "Epoch 14/50\n",
            "25/25 [==============================] - 17s 692ms/step - loss: 0.4541 - accuracy: 0.7882 - val_loss: 0.6075 - val_accuracy: 0.6950\n",
            "Epoch 15/50\n",
            "25/25 [==============================] - 17s 690ms/step - loss: 0.4435 - accuracy: 0.8042 - val_loss: 0.6301 - val_accuracy: 0.6787\n",
            "Epoch 16/50\n",
            "25/25 [==============================] - 17s 694ms/step - loss: 0.4333 - accuracy: 0.7994 - val_loss: 0.5974 - val_accuracy: 0.7150\n",
            "Epoch 17/50\n",
            "25/25 [==============================] - 17s 689ms/step - loss: 0.3853 - accuracy: 0.8373 - val_loss: 0.6724 - val_accuracy: 0.6762\n",
            "Epoch 18/50\n",
            "25/25 [==============================] - 17s 692ms/step - loss: 0.3741 - accuracy: 0.8421 - val_loss: 0.6522 - val_accuracy: 0.6963\n",
            "Epoch 19/50\n",
            "25/25 [==============================] - 18s 704ms/step - loss: 0.3515 - accuracy: 0.8519 - val_loss: 0.6198 - val_accuracy: 0.7013\n",
            "Epoch 20/50\n",
            "25/25 [==============================] - 17s 698ms/step - loss: 0.3256 - accuracy: 0.8552 - val_loss: 0.7082 - val_accuracy: 0.6837\n",
            "Epoch 21/50\n",
            "25/25 [==============================] - 17s 690ms/step - loss: 0.3124 - accuracy: 0.8686 - val_loss: 0.6725 - val_accuracy: 0.7337\n",
            "Epoch 22/50\n",
            "25/25 [==============================] - 17s 690ms/step - loss: 0.2724 - accuracy: 0.8889 - val_loss: 0.7302 - val_accuracy: 0.6913\n",
            "Epoch 23/50\n",
            "25/25 [==============================] - 17s 692ms/step - loss: 0.3247 - accuracy: 0.8590 - val_loss: 0.7993 - val_accuracy: 0.7237\n",
            "Epoch 24/50\n",
            "25/25 [==============================] - 17s 690ms/step - loss: 0.2624 - accuracy: 0.8961 - val_loss: 0.8146 - val_accuracy: 0.7025\n",
            "Epoch 25/50\n",
            "25/25 [==============================] - 17s 694ms/step - loss: 0.2415 - accuracy: 0.9013 - val_loss: 0.7486 - val_accuracy: 0.7175\n",
            "Epoch 26/50\n",
            "25/25 [==============================] - 17s 689ms/step - loss: 0.2019 - accuracy: 0.9122 - val_loss: 0.8461 - val_accuracy: 0.7038\n",
            "Epoch 27/50\n",
            "25/25 [==============================] - 17s 690ms/step - loss: 0.2344 - accuracy: 0.9053 - val_loss: 0.8179 - val_accuracy: 0.6900\n",
            "Epoch 28/50\n",
            "25/25 [==============================] - 17s 687ms/step - loss: 0.1444 - accuracy: 0.9532 - val_loss: 0.9805 - val_accuracy: 0.6988\n",
            "Epoch 29/50\n",
            "25/25 [==============================] - 17s 692ms/step - loss: 0.2013 - accuracy: 0.9228 - val_loss: 0.8865 - val_accuracy: 0.6787\n",
            "Epoch 30/50\n",
            "25/25 [==============================] - 17s 688ms/step - loss: 0.1391 - accuracy: 0.9496 - val_loss: 0.8951 - val_accuracy: 0.7050\n",
            "Epoch 31/50\n",
            "25/25 [==============================] - 17s 691ms/step - loss: 0.1437 - accuracy: 0.9502 - val_loss: 0.8098 - val_accuracy: 0.6975\n",
            "Epoch 32/50\n",
            "25/25 [==============================] - 17s 690ms/step - loss: 0.1168 - accuracy: 0.9657 - val_loss: 0.8450 - val_accuracy: 0.7038\n",
            "Epoch 33/50\n",
            "25/25 [==============================] - 17s 693ms/step - loss: 0.0924 - accuracy: 0.9761 - val_loss: 1.0352 - val_accuracy: 0.6775\n",
            "Epoch 34/50\n",
            "25/25 [==============================] - 17s 693ms/step - loss: 0.1296 - accuracy: 0.9548 - val_loss: 1.0914 - val_accuracy: 0.6862\n",
            "Epoch 35/50\n",
            "25/25 [==============================] - 17s 691ms/step - loss: 0.0851 - accuracy: 0.9740 - val_loss: 1.0101 - val_accuracy: 0.7113\n",
            "Epoch 36/50\n",
            "25/25 [==============================] - 17s 691ms/step - loss: 0.0680 - accuracy: 0.9762 - val_loss: 1.0554 - val_accuracy: 0.6938\n",
            "Epoch 37/50\n",
            "25/25 [==============================] - 18s 703ms/step - loss: 0.1460 - accuracy: 0.9398 - val_loss: 1.1585 - val_accuracy: 0.7100\n",
            "Epoch 38/50\n",
            "25/25 [==============================] - 17s 693ms/step - loss: 0.1246 - accuracy: 0.9627 - val_loss: 1.0776 - val_accuracy: 0.7088\n",
            "Epoch 39/50\n",
            "25/25 [==============================] - 17s 690ms/step - loss: 0.0603 - accuracy: 0.9820 - val_loss: 1.0630 - val_accuracy: 0.7063\n",
            "Epoch 40/50\n",
            "25/25 [==============================] - 17s 693ms/step - loss: 0.0552 - accuracy: 0.9818 - val_loss: 1.0613 - val_accuracy: 0.7063\n",
            "Epoch 41/50\n",
            "25/25 [==============================] - 17s 687ms/step - loss: 0.0556 - accuracy: 0.9827 - val_loss: 1.1692 - val_accuracy: 0.6988\n",
            "Epoch 42/50\n",
            "25/25 [==============================] - 17s 692ms/step - loss: 0.0627 - accuracy: 0.9803 - val_loss: 1.1655 - val_accuracy: 0.6975\n",
            "Epoch 43/50\n",
            "25/25 [==============================] - 17s 694ms/step - loss: 0.0269 - accuracy: 0.9939 - val_loss: 1.4306 - val_accuracy: 0.6963\n",
            "Epoch 44/50\n",
            "25/25 [==============================] - 17s 689ms/step - loss: 0.0598 - accuracy: 0.9785 - val_loss: 1.2080 - val_accuracy: 0.7063\n",
            "Epoch 45/50\n",
            "25/25 [==============================] - 17s 692ms/step - loss: 0.1092 - accuracy: 0.9672 - val_loss: 1.2538 - val_accuracy: 0.6700\n",
            "Epoch 46/50\n",
            "25/25 [==============================] - 17s 689ms/step - loss: 0.0310 - accuracy: 0.9924 - val_loss: 1.6038 - val_accuracy: 0.6900\n",
            "Epoch 47/50\n",
            "25/25 [==============================] - 17s 693ms/step - loss: 0.0350 - accuracy: 0.9902 - val_loss: 1.2858 - val_accuracy: 0.6963\n",
            "Epoch 48/50\n",
            "25/25 [==============================] - 17s 692ms/step - loss: 0.0194 - accuracy: 0.9978 - val_loss: 1.5515 - val_accuracy: 0.7088\n",
            "Epoch 49/50\n",
            "25/25 [==============================] - 17s 697ms/step - loss: 0.1345 - accuracy: 0.9581 - val_loss: 1.4662 - val_accuracy: 0.7000\n",
            "Epoch 50/50\n",
            "25/25 [==============================] - 17s 691ms/step - loss: 0.0090 - accuracy: 0.9997 - val_loss: 3.6273 - val_accuracy: 0.5863\n"
          ],
          "name": "stdout"
        },
        {
          "output_type": "execute_result",
          "data": {
            "text/plain": [
              "<tensorflow.python.keras.callbacks.History at 0x7f5af86a94e0>"
            ]
          },
          "metadata": {
            "tags": []
          },
          "execution_count": 13
        }
      ]
    },
    {
      "cell_type": "markdown",
      "metadata": {
        "id": "LgKv1_tCKm5U"
      },
      "source": [
        "Create a new model based on the model above. Add an additional dense layer of size 64 with a ReLU activation after the flatten layer."
      ]
    },
    {
      "cell_type": "code",
      "metadata": {
        "id": "KlzEuIt3Km5U"
      },
      "source": [
        "# Answer below:\n",
        "model = Sequential()\n",
        "\n",
        "model.add(Conv2D(64, (3,3), input_shape=input_shape))\n",
        "model.add(Activation('relu'))\n",
        "model.add(MaxPooling2D(pool_size=(2,2)))\n",
        "\n",
        "model.add(Conv2D(32, (3,3), input_shape=input_shape))\n",
        "model.add(Activation('relu'))\n",
        "model.add(MaxPooling2D(pool_size=(2,2)))\n",
        "\n",
        "model.add(Flatten())\n",
        "model.add(Dense(64))\n",
        "model.add(Activation('relu'))\n",
        "model.add(Dense(64))\n",
        "model.add(Activation('relu'))\n",
        "model.add(Dense(1))\n",
        "model.add(Activation('sigmoid'))"
      ],
      "execution_count": 14,
      "outputs": []
    },
    {
      "cell_type": "markdown",
      "metadata": {
        "id": "GMg6k7tHKm5W"
      },
      "source": [
        "Fit and compile in the same way as above. Describe the difference in performance and speed."
      ]
    },
    {
      "cell_type": "code",
      "metadata": {
        "id": "pqIEZC6YKm5W",
        "colab": {
          "base_uri": "https://localhost:8080/"
        },
        "outputId": "24551d9a-54b1-439b-c91e-9837c07faf28"
      },
      "source": [
        "# Answer below:\n",
        "model.compile(optimizer='rmsprop', loss='binary_crossentropy', metrics=['accuracy'])\n",
        "\n",
        "model.fit(\n",
        "    train_generator,\n",
        "    steps_per_epoch=25,\n",
        "    epochs=50,\n",
        "    validation_data=validation_generator,\n",
        "    validation_steps=10\n",
        ")\n"
      ],
      "execution_count": 15,
      "outputs": [
        {
          "output_type": "stream",
          "text": [
            "Epoch 1/50\n",
            "25/25 [==============================] - 18s 701ms/step - loss: 1.1618 - accuracy: 0.5247 - val_loss: 0.6785 - val_accuracy: 0.5362\n",
            "Epoch 2/50\n",
            "25/25 [==============================] - 17s 689ms/step - loss: 0.6968 - accuracy: 0.5808 - val_loss: 0.6653 - val_accuracy: 0.5825\n",
            "Epoch 3/50\n",
            "25/25 [==============================] - 17s 691ms/step - loss: 0.6732 - accuracy: 0.5988 - val_loss: 0.6648 - val_accuracy: 0.6600\n",
            "Epoch 4/50\n",
            "25/25 [==============================] - 17s 692ms/step - loss: 0.6546 - accuracy: 0.6326 - val_loss: 0.6996 - val_accuracy: 0.6075\n",
            "Epoch 5/50\n",
            "25/25 [==============================] - 17s 700ms/step - loss: 0.6470 - accuracy: 0.6578 - val_loss: 0.6488 - val_accuracy: 0.6212\n",
            "Epoch 6/50\n",
            "25/25 [==============================] - 17s 692ms/step - loss: 0.5573 - accuracy: 0.7037 - val_loss: 0.6162 - val_accuracy: 0.6737\n",
            "Epoch 7/50\n",
            "25/25 [==============================] - 17s 693ms/step - loss: 0.5258 - accuracy: 0.7502 - val_loss: 0.6688 - val_accuracy: 0.6175\n",
            "Epoch 8/50\n",
            "25/25 [==============================] - 17s 690ms/step - loss: 0.5241 - accuracy: 0.7407 - val_loss: 0.5883 - val_accuracy: 0.6988\n",
            "Epoch 9/50\n",
            "25/25 [==============================] - 17s 686ms/step - loss: 0.4515 - accuracy: 0.7865 - val_loss: 0.8328 - val_accuracy: 0.5850\n",
            "Epoch 10/50\n",
            "25/25 [==============================] - 17s 691ms/step - loss: 0.4461 - accuracy: 0.7925 - val_loss: 1.2139 - val_accuracy: 0.5663\n",
            "Epoch 11/50\n",
            "25/25 [==============================] - 17s 693ms/step - loss: 0.4914 - accuracy: 0.7844 - val_loss: 0.8533 - val_accuracy: 0.6288\n",
            "Epoch 12/50\n",
            "25/25 [==============================] - 17s 693ms/step - loss: 0.3669 - accuracy: 0.8367 - val_loss: 0.7343 - val_accuracy: 0.6787\n",
            "Epoch 13/50\n",
            "25/25 [==============================] - 17s 690ms/step - loss: 0.3268 - accuracy: 0.8606 - val_loss: 0.7038 - val_accuracy: 0.7000\n",
            "Epoch 14/50\n",
            "25/25 [==============================] - 17s 692ms/step - loss: 0.2542 - accuracy: 0.9005 - val_loss: 0.7977 - val_accuracy: 0.7025\n",
            "Epoch 15/50\n",
            "25/25 [==============================] - 17s 690ms/step - loss: 0.2652 - accuracy: 0.9020 - val_loss: 0.7805 - val_accuracy: 0.6988\n",
            "Epoch 16/50\n",
            "25/25 [==============================] - 17s 691ms/step - loss: 0.2079 - accuracy: 0.9117 - val_loss: 0.8732 - val_accuracy: 0.6938\n",
            "Epoch 17/50\n",
            "25/25 [==============================] - 17s 693ms/step - loss: 0.2857 - accuracy: 0.9122 - val_loss: 0.8963 - val_accuracy: 0.6988\n",
            "Epoch 18/50\n",
            "25/25 [==============================] - 17s 691ms/step - loss: 0.1522 - accuracy: 0.9491 - val_loss: 0.9050 - val_accuracy: 0.7075\n",
            "Epoch 19/50\n",
            "25/25 [==============================] - 17s 688ms/step - loss: 0.1289 - accuracy: 0.9543 - val_loss: 0.8803 - val_accuracy: 0.6925\n",
            "Epoch 20/50\n",
            "25/25 [==============================] - 17s 688ms/step - loss: 0.0983 - accuracy: 0.9697 - val_loss: 1.2071 - val_accuracy: 0.6550\n",
            "Epoch 21/50\n",
            "25/25 [==============================] - 17s 692ms/step - loss: 0.1145 - accuracy: 0.9579 - val_loss: 0.9650 - val_accuracy: 0.7075\n",
            "Epoch 22/50\n",
            "25/25 [==============================] - 17s 689ms/step - loss: 0.0989 - accuracy: 0.9668 - val_loss: 1.4772 - val_accuracy: 0.6575\n",
            "Epoch 23/50\n",
            "25/25 [==============================] - 17s 701ms/step - loss: 0.1002 - accuracy: 0.9609 - val_loss: 1.9943 - val_accuracy: 0.6837\n",
            "Epoch 24/50\n",
            "25/25 [==============================] - 17s 690ms/step - loss: 0.7787 - accuracy: 0.8795 - val_loss: 1.1797 - val_accuracy: 0.7000\n",
            "Epoch 25/50\n",
            "25/25 [==============================] - 17s 695ms/step - loss: 0.0422 - accuracy: 0.9835 - val_loss: 1.2697 - val_accuracy: 0.7038\n",
            "Epoch 26/50\n",
            "25/25 [==============================] - 17s 693ms/step - loss: 0.2253 - accuracy: 0.9553 - val_loss: 1.1374 - val_accuracy: 0.7050\n",
            "Epoch 27/50\n",
            "25/25 [==============================] - 17s 689ms/step - loss: 0.0272 - accuracy: 0.9930 - val_loss: 1.6257 - val_accuracy: 0.6700\n",
            "Epoch 28/50\n",
            "25/25 [==============================] - 17s 693ms/step - loss: 0.1143 - accuracy: 0.9643 - val_loss: 1.1772 - val_accuracy: 0.6875\n",
            "Epoch 29/50\n",
            "25/25 [==============================] - 17s 688ms/step - loss: 0.0998 - accuracy: 0.9734 - val_loss: 1.2995 - val_accuracy: 0.7000\n",
            "Epoch 30/50\n",
            "25/25 [==============================] - 17s 690ms/step - loss: 0.0350 - accuracy: 0.9885 - val_loss: 1.2634 - val_accuracy: 0.7100\n",
            "Epoch 31/50\n",
            "25/25 [==============================] - 17s 691ms/step - loss: 0.0346 - accuracy: 0.9900 - val_loss: 1.7114 - val_accuracy: 0.7038\n",
            "Epoch 32/50\n",
            "25/25 [==============================] - 17s 692ms/step - loss: 0.0456 - accuracy: 0.9849 - val_loss: 1.4970 - val_accuracy: 0.7038\n",
            "Epoch 33/50\n",
            "25/25 [==============================] - 17s 688ms/step - loss: 0.0140 - accuracy: 0.9961 - val_loss: 1.7915 - val_accuracy: 0.6850\n",
            "Epoch 34/50\n",
            "25/25 [==============================] - 17s 697ms/step - loss: 0.4891 - accuracy: 0.9229 - val_loss: 1.3463 - val_accuracy: 0.7100\n",
            "Epoch 35/50\n",
            "25/25 [==============================] - 17s 694ms/step - loss: 0.0109 - accuracy: 0.9977 - val_loss: 1.7487 - val_accuracy: 0.6900\n",
            "Epoch 36/50\n",
            "25/25 [==============================] - 17s 688ms/step - loss: 0.7505 - accuracy: 0.9353 - val_loss: 1.2858 - val_accuracy: 0.7113\n",
            "Epoch 37/50\n",
            "25/25 [==============================] - 17s 692ms/step - loss: 0.0137 - accuracy: 0.9979 - val_loss: 1.6457 - val_accuracy: 0.7237\n",
            "Epoch 38/50\n",
            "25/25 [==============================] - 17s 690ms/step - loss: 0.0290 - accuracy: 0.9929 - val_loss: 1.8805 - val_accuracy: 0.7113\n",
            "Epoch 39/50\n",
            "25/25 [==============================] - 17s 693ms/step - loss: 0.0764 - accuracy: 0.9760 - val_loss: 1.5755 - val_accuracy: 0.7000\n",
            "Epoch 40/50\n",
            "25/25 [==============================] - 17s 694ms/step - loss: 0.0424 - accuracy: 0.9931 - val_loss: 1.1751 - val_accuracy: 0.6875\n",
            "Epoch 41/50\n",
            "25/25 [==============================] - 18s 703ms/step - loss: 0.0178 - accuracy: 0.9977 - val_loss: 1.7060 - val_accuracy: 0.6762\n",
            "Epoch 42/50\n",
            "25/25 [==============================] - 17s 691ms/step - loss: 0.0045 - accuracy: 0.9991 - val_loss: 1.7492 - val_accuracy: 0.7063\n",
            "Epoch 43/50\n",
            "25/25 [==============================] - 17s 691ms/step - loss: 0.5730 - accuracy: 0.9423 - val_loss: 1.2968 - val_accuracy: 0.6963\n",
            "Epoch 44/50\n",
            "25/25 [==============================] - 17s 693ms/step - loss: 0.0114 - accuracy: 0.9986 - val_loss: 1.4864 - val_accuracy: 0.7100\n",
            "Epoch 45/50\n",
            "25/25 [==============================] - 17s 694ms/step - loss: 0.0036 - accuracy: 1.0000 - val_loss: 1.5885 - val_accuracy: 0.7063\n",
            "Epoch 46/50\n",
            "25/25 [==============================] - 17s 693ms/step - loss: 0.1291 - accuracy: 0.9883 - val_loss: 1.3521 - val_accuracy: 0.7013\n",
            "Epoch 47/50\n",
            "25/25 [==============================] - 17s 688ms/step - loss: 0.0134 - accuracy: 0.9975 - val_loss: 1.5257 - val_accuracy: 0.7113\n",
            "Epoch 48/50\n",
            "25/25 [==============================] - 17s 691ms/step - loss: 0.0179 - accuracy: 0.9949 - val_loss: 1.7850 - val_accuracy: 0.7138\n",
            "Epoch 49/50\n",
            "25/25 [==============================] - 17s 693ms/step - loss: 0.0109 - accuracy: 0.9970 - val_loss: 1.8147 - val_accuracy: 0.7038\n",
            "Epoch 50/50\n",
            "25/25 [==============================] - 17s 691ms/step - loss: 0.0330 - accuracy: 0.9876 - val_loss: 2.0471 - val_accuracy: 0.7100\n"
          ],
          "name": "stdout"
        },
        {
          "output_type": "execute_result",
          "data": {
            "text/plain": [
              "<tensorflow.python.keras.callbacks.History at 0x7f5af84f12e8>"
            ]
          },
          "metadata": {
            "tags": []
          },
          "execution_count": 15
        }
      ]
    },
    {
      "cell_type": "markdown",
      "metadata": {
        "id": "iRCyPKJfKm5Y"
      },
      "source": [
        "Fit and compile using the Adam optimizer. Describe the difference in performance between the Adam and RMSprop optimizers."
      ]
    },
    {
      "cell_type": "code",
      "metadata": {
        "id": "eqzQbCl8Km5Z",
        "colab": {
          "base_uri": "https://localhost:8080/"
        },
        "outputId": "084e6d2d-196b-4097-8ea7-c2bc8eccdd5e"
      },
      "source": [
        "# Answer below:\n",
        "model.compile(optimizer='adam', loss='binary_crossentropy', metrics=['accuracy'])\n",
        "\n",
        "model.fit(\n",
        "    train_generator,\n",
        "    steps_per_epoch=25,\n",
        "    epochs=50,\n",
        "    validation_data=validation_generator,\n",
        "    validation_steps=10\n",
        ")\n"
      ],
      "execution_count": 16,
      "outputs": [
        {
          "output_type": "stream",
          "text": [
            "Epoch 1/50\n",
            "25/25 [==============================] - 18s 703ms/step - loss: 0.0094 - accuracy: 0.9982 - val_loss: 2.3393 - val_accuracy: 0.6888\n",
            "Epoch 2/50\n",
            "25/25 [==============================] - 17s 695ms/step - loss: 0.0318 - accuracy: 0.9901 - val_loss: 1.7989 - val_accuracy: 0.7088\n",
            "Epoch 3/50\n",
            "25/25 [==============================] - 17s 687ms/step - loss: 0.0185 - accuracy: 0.9953 - val_loss: 1.6719 - val_accuracy: 0.6975\n",
            "Epoch 4/50\n",
            "25/25 [==============================] - 17s 690ms/step - loss: 0.0057 - accuracy: 1.0000 - val_loss: 2.1720 - val_accuracy: 0.7025\n",
            "Epoch 5/50\n",
            "25/25 [==============================] - 17s 689ms/step - loss: 0.0120 - accuracy: 0.9965 - val_loss: 2.0197 - val_accuracy: 0.6787\n",
            "Epoch 6/50\n",
            "25/25 [==============================] - 17s 690ms/step - loss: 0.0148 - accuracy: 0.9940 - val_loss: 1.9898 - val_accuracy: 0.6762\n",
            "Epoch 7/50\n",
            "25/25 [==============================] - 17s 688ms/step - loss: 0.0220 - accuracy: 0.9952 - val_loss: 1.9481 - val_accuracy: 0.6775\n",
            "Epoch 8/50\n",
            "25/25 [==============================] - 17s 687ms/step - loss: 0.0170 - accuracy: 0.9944 - val_loss: 1.8379 - val_accuracy: 0.6875\n",
            "Epoch 9/50\n",
            "25/25 [==============================] - 17s 701ms/step - loss: 0.0309 - accuracy: 0.9904 - val_loss: 1.6571 - val_accuracy: 0.6800\n",
            "Epoch 10/50\n",
            "25/25 [==============================] - 17s 685ms/step - loss: 0.0198 - accuracy: 0.9950 - val_loss: 1.7483 - val_accuracy: 0.6787\n",
            "Epoch 11/50\n",
            "25/25 [==============================] - 17s 685ms/step - loss: 0.0271 - accuracy: 0.9925 - val_loss: 1.6773 - val_accuracy: 0.6862\n",
            "Epoch 12/50\n",
            "25/25 [==============================] - 17s 689ms/step - loss: 0.0058 - accuracy: 0.9989 - val_loss: 1.9960 - val_accuracy: 0.6837\n",
            "Epoch 13/50\n",
            "25/25 [==============================] - 17s 692ms/step - loss: 0.0089 - accuracy: 0.9984 - val_loss: 1.8500 - val_accuracy: 0.7138\n",
            "Epoch 14/50\n",
            "25/25 [==============================] - 17s 685ms/step - loss: 0.0230 - accuracy: 0.9913 - val_loss: 2.0396 - val_accuracy: 0.6875\n",
            "Epoch 15/50\n",
            "25/25 [==============================] - 17s 691ms/step - loss: 0.0207 - accuracy: 0.9923 - val_loss: 2.1223 - val_accuracy: 0.6725\n",
            "Epoch 16/50\n",
            "25/25 [==============================] - 17s 693ms/step - loss: 0.0271 - accuracy: 0.9922 - val_loss: 1.8065 - val_accuracy: 0.6612\n",
            "Epoch 17/50\n",
            "25/25 [==============================] - 17s 686ms/step - loss: 0.0246 - accuracy: 0.9934 - val_loss: 1.8389 - val_accuracy: 0.6800\n",
            "Epoch 18/50\n",
            "25/25 [==============================] - 17s 692ms/step - loss: 0.0051 - accuracy: 0.9991 - val_loss: 2.2602 - val_accuracy: 0.6612\n",
            "Epoch 19/50\n",
            "25/25 [==============================] - 17s 690ms/step - loss: 0.0138 - accuracy: 0.9944 - val_loss: 1.8817 - val_accuracy: 0.6925\n",
            "Epoch 20/50\n",
            "25/25 [==============================] - 17s 700ms/step - loss: 0.0066 - accuracy: 0.9978 - val_loss: 2.1410 - val_accuracy: 0.7150\n",
            "Epoch 21/50\n",
            "25/25 [==============================] - 17s 685ms/step - loss: 0.0041 - accuracy: 0.9990 - val_loss: 2.1017 - val_accuracy: 0.6762\n",
            "Epoch 22/50\n",
            "25/25 [==============================] - 17s 692ms/step - loss: 0.0025 - accuracy: 0.9989 - val_loss: 2.0051 - val_accuracy: 0.6875\n",
            "Epoch 23/50\n",
            "25/25 [==============================] - 17s 692ms/step - loss: 0.0026 - accuracy: 0.9986 - val_loss: 2.2651 - val_accuracy: 0.6725\n",
            "Epoch 24/50\n",
            "25/25 [==============================] - 17s 690ms/step - loss: 0.0155 - accuracy: 0.9957 - val_loss: 2.2409 - val_accuracy: 0.6925\n",
            "Epoch 25/50\n",
            "25/25 [==============================] - 17s 687ms/step - loss: 0.0119 - accuracy: 0.9960 - val_loss: 2.5201 - val_accuracy: 0.6800\n",
            "Epoch 26/50\n",
            "25/25 [==============================] - 17s 691ms/step - loss: 0.0264 - accuracy: 0.9935 - val_loss: 2.0305 - val_accuracy: 0.6787\n",
            "Epoch 27/50\n",
            "25/25 [==============================] - 18s 708ms/step - loss: 0.0219 - accuracy: 0.9926 - val_loss: 1.8219 - val_accuracy: 0.6888\n",
            "Epoch 28/50\n",
            "25/25 [==============================] - 17s 685ms/step - loss: 0.0078 - accuracy: 0.9969 - val_loss: 1.8646 - val_accuracy: 0.7125\n",
            "Epoch 29/50\n",
            "25/25 [==============================] - 17s 689ms/step - loss: 0.0087 - accuracy: 0.9965 - val_loss: 1.9260 - val_accuracy: 0.6963\n",
            "Epoch 30/50\n",
            "25/25 [==============================] - 17s 691ms/step - loss: 0.0169 - accuracy: 0.9948 - val_loss: 2.0083 - val_accuracy: 0.6850\n",
            "Epoch 31/50\n",
            "25/25 [==============================] - 17s 690ms/step - loss: 0.0351 - accuracy: 0.9907 - val_loss: 1.7895 - val_accuracy: 0.6762\n",
            "Epoch 32/50\n",
            "25/25 [==============================] - 17s 690ms/step - loss: 0.0211 - accuracy: 0.9904 - val_loss: 1.8804 - val_accuracy: 0.6800\n",
            "Epoch 33/50\n",
            "25/25 [==============================] - 17s 691ms/step - loss: 0.0041 - accuracy: 0.9989 - val_loss: 2.0575 - val_accuracy: 0.6900\n",
            "Epoch 34/50\n",
            "25/25 [==============================] - 17s 693ms/step - loss: 0.0016 - accuracy: 0.9998 - val_loss: 2.0497 - val_accuracy: 0.6950\n",
            "Epoch 35/50\n",
            "25/25 [==============================] - 17s 690ms/step - loss: 0.0019 - accuracy: 1.0000 - val_loss: 2.2091 - val_accuracy: 0.6737\n",
            "Epoch 36/50\n",
            "25/25 [==============================] - 17s 689ms/step - loss: 7.1229e-04 - accuracy: 1.0000 - val_loss: 2.2661 - val_accuracy: 0.6913\n",
            "Epoch 37/50\n",
            "25/25 [==============================] - 17s 699ms/step - loss: 0.0023 - accuracy: 0.9995 - val_loss: 2.2072 - val_accuracy: 0.7050\n",
            "Epoch 38/50\n",
            "25/25 [==============================] - 17s 690ms/step - loss: 0.0081 - accuracy: 0.9957 - val_loss: 2.6204 - val_accuracy: 0.7000\n",
            "Epoch 39/50\n",
            "25/25 [==============================] - 17s 685ms/step - loss: 0.0093 - accuracy: 0.9940 - val_loss: 2.2457 - val_accuracy: 0.6862\n",
            "Epoch 40/50\n",
            "25/25 [==============================] - 17s 691ms/step - loss: 0.0073 - accuracy: 0.9966 - val_loss: 1.9568 - val_accuracy: 0.7050\n",
            "Epoch 41/50\n",
            "25/25 [==============================] - 17s 690ms/step - loss: 0.0098 - accuracy: 0.9965 - val_loss: 2.0841 - val_accuracy: 0.7063\n",
            "Epoch 42/50\n",
            "25/25 [==============================] - 17s 689ms/step - loss: 0.0067 - accuracy: 0.9971 - val_loss: 1.9065 - val_accuracy: 0.6862\n",
            "Epoch 43/50\n",
            "25/25 [==============================] - 17s 684ms/step - loss: 0.0073 - accuracy: 0.9970 - val_loss: 2.0974 - val_accuracy: 0.6900\n",
            "Epoch 44/50\n",
            "25/25 [==============================] - 17s 691ms/step - loss: 0.0044 - accuracy: 0.9994 - val_loss: 2.2606 - val_accuracy: 0.7050\n",
            "Epoch 45/50\n",
            "25/25 [==============================] - 17s 700ms/step - loss: 0.0043 - accuracy: 0.9990 - val_loss: 2.4996 - val_accuracy: 0.6988\n",
            "Epoch 46/50\n",
            "25/25 [==============================] - 17s 690ms/step - loss: 0.0302 - accuracy: 0.9904 - val_loss: 2.0084 - val_accuracy: 0.6888\n",
            "Epoch 47/50\n",
            "25/25 [==============================] - 17s 687ms/step - loss: 0.0125 - accuracy: 0.9964 - val_loss: 2.2620 - val_accuracy: 0.6950\n",
            "Epoch 48/50\n",
            "25/25 [==============================] - 17s 697ms/step - loss: 0.0033 - accuracy: 0.9997 - val_loss: 2.4259 - val_accuracy: 0.6787\n",
            "Epoch 49/50\n",
            "25/25 [==============================] - 17s 688ms/step - loss: 0.0020 - accuracy: 0.9992 - val_loss: 2.4500 - val_accuracy: 0.6850\n",
            "Epoch 50/50\n",
            "25/25 [==============================] - 17s 687ms/step - loss: 0.0039 - accuracy: 0.9996 - val_loss: 2.2042 - val_accuracy: 0.7100\n"
          ],
          "name": "stdout"
        },
        {
          "output_type": "execute_result",
          "data": {
            "text/plain": [
              "<tensorflow.python.keras.callbacks.History at 0x7f5af82caef0>"
            ]
          },
          "metadata": {
            "tags": []
          },
          "execution_count": 16
        }
      ]
    },
    {
      "cell_type": "code",
      "metadata": {
        "id": "drRBa855Km5a"
      },
      "source": [
        ""
      ],
      "execution_count": 16,
      "outputs": []
    }
  ]
}