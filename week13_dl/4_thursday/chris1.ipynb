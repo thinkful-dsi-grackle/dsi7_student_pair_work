{
  "nbformat": 4,
  "nbformat_minor": 0,
  "metadata": {
    "kernelspec": {
      "display_name": "Python 3",
      "language": "python",
      "name": "python3"
    },
    "language_info": {
      "codemirror_mode": {
        "name": "ipython",
        "version": 3
      },
      "file_extension": ".py",
      "mimetype": "text/x-python",
      "name": "python",
      "nbconvert_exporter": "python",
      "pygments_lexer": "ipython3",
      "version": "3.7.0"
    },
    "colab": {
      "name": "Copy of Day 79 Lecture 1 Assignment.ipynb",
      "provenance": [],
      "collapsed_sections": []
    }
  },
  "cells": [
    {
      "cell_type": "markdown",
      "metadata": {
        "id": "DuT0K8LDKm45"
      },
      "source": [
        "## Convolutional Neural Networks\n",
        "\n",
        "In this assignment, we will learn about convolutional neural networks. We will create a CNN and learn to classify image data."
      ]
    },
    {
      "cell_type": "markdown",
      "metadata": {
        "id": "tMD7Nr8hKm47"
      },
      "source": [
        "In this lecture, we will use the image data generator to classify our data. The data is loaded below:"
      ]
    },
    {
      "cell_type": "code",
      "metadata": {
        "id": "6swIc-rGKm47"
      },
      "source": [
        "import numpy as np\n",
        "import pandas as pd\n",
        "\n",
        "from tensorflow.keras.preprocessing.image import ImageDataGenerator\n",
        "from tensorflow.keras.models import Sequential\n",
        "from tensorflow.keras.layers import Conv2D, MaxPooling2D\n",
        "from tensorflow.keras.layers import Activation, Dropout, Flatten, Dense, BatchNormalization \n",
        "from tensorflow.keras import backend as K\n",
        "from tensorflow.keras.models import Model"
      ],
      "execution_count": 22,
      "outputs": []
    },
    {
      "cell_type": "code",
      "metadata": {
        "id": "WxuDmAQlKm4-"
      },
      "source": [
        "train_data_dir = '/content/drive/MyDrive/ConvolutionNeuralNetworks/dogs-vs-cats-processed/train'\n",
        "validation_data_dir = '/content/drive/MyDrive/ConvolutionNeuralNetworks/dogs-vs-cats-processed/test'\n",
        "\n",
        "img_width, img_height = 150, 150\n",
        "batch_size = 80"
      ],
      "execution_count": 23,
      "outputs": []
    },
    {
      "cell_type": "code",
      "metadata": {
        "id": "SCfRV8VGKm5A"
      },
      "source": [
        "#This block of code is used to ensure the input shape is correct\n",
        "\n",
        "if K.image_data_format() == 'channels_first':\n",
        "    input_shape = (3, img_width, img_height)\n",
        "else:\n",
        "    input_shape = (img_width, img_height, 3)"
      ],
      "execution_count": 24,
      "outputs": []
    },
    {
      "cell_type": "markdown",
      "metadata": {
        "id": "T4x9el54Km5C"
      },
      "source": [
        "Define a train data generator with shear range of 0.3, zoom range of 0.1 and rescale to 1./255 (note that we must make 1 a float to produce a correct fraction). Use the ImageDataGenerator function."
      ]
    },
    {
      "cell_type": "code",
      "metadata": {
        "id": "EfKBxGZpKm5D"
      },
      "source": [
        "# Answer below:\n",
        "train_datagen = ImageDataGenerator(\n",
        "    rescale = 1./255,\n",
        "    shear_range = 0.3,\n",
        "    zoom_range = 0.1\n",
        ")\n"
      ],
      "execution_count": 25,
      "outputs": []
    },
    {
      "cell_type": "markdown",
      "metadata": {
        "id": "5oQJZOxNKm5E"
      },
      "source": [
        "Define a test data generator that only rescales to 1./255. Use the ImageDataGenerator function."
      ]
    },
    {
      "cell_type": "code",
      "metadata": {
        "id": "_U3XQZVLKm5F"
      },
      "source": [
        "# Answer below:\n",
        "test_datagen = ImageDataGenerator(rescale=1./255)\n"
      ],
      "execution_count": 26,
      "outputs": []
    },
    {
      "cell_type": "markdown",
      "metadata": {
        "id": "S0NCOxrCKm5G"
      },
      "source": [
        "The train generator and the test generator are defined below:"
      ]
    },
    {
      "cell_type": "code",
      "metadata": {
        "id": "zDgonF6uKm5H",
        "colab": {
          "base_uri": "https://localhost:8080/"
        },
        "outputId": "42068840-ffdc-47d7-a977-bcd497cedbaa"
      },
      "source": [
        "train_generator = train_datagen.flow_from_directory(\n",
        "    train_data_dir,\n",
        "    target_size=(img_width, img_height),\n",
        "    batch_size=batch_size,\n",
        "    class_mode='binary')\n",
        "\n",
        "validation_generator = test_datagen.flow_from_directory(\n",
        "    validation_data_dir,\n",
        "    target_size=(img_width, img_height),\n",
        "    batch_size=batch_size,\n",
        "    shuffle=False,\n",
        "    class_mode='binary')"
      ],
      "execution_count": 27,
      "outputs": [
        {
          "output_type": "stream",
          "text": [
            "Found 2000 images belonging to 2 classes.\n",
            "Found 802 images belonging to 2 classes.\n"
          ],
          "name": "stdout"
        }
      ]
    },
    {
      "cell_type": "markdown",
      "metadata": {
        "id": "0lq09r31Km5K"
      },
      "source": [
        "We'll start with a simple model. In CNNs, we first convolve the to extract features and then we add the dense layers. \n",
        "\n",
        "Create a model with one layer of convolution of size 64, one layer of activation, one layer of max pooling with pool size (2,2) and then one flattening layer, one dense layer of unit size 64 with a ReLU activation and one dense output layer. The output layer should have a sigmoid activation."
      ]
    },
    {
      "cell_type": "code",
      "metadata": {
        "id": "IJqkMx3tKm5K"
      },
      "source": [
        "# Answer below:\n",
        "model = Sequential()\n",
        "model.add(Conv2D(64, (3, 3), input_shape=input_shape))\n",
        "model.add(Activation('relu'))\n",
        "model.add(MaxPooling2D(pool_size=(2, 2)))\n",
        "\n",
        "model.add(Flatten())\n",
        "model.add(Dense(64))\n",
        "model.add(Activation('relu'))\n",
        "\n",
        "model.add(Dense(1))\n",
        "model.add(Activation('sigmoid'))\n"
      ],
      "execution_count": 28,
      "outputs": []
    },
    {
      "cell_type": "markdown",
      "metadata": {
        "id": "hEBJ5GXcKm5M"
      },
      "source": [
        "Compile the model using RMSprop."
      ]
    },
    {
      "cell_type": "code",
      "metadata": {
        "id": "85uyZ1yTKm5M"
      },
      "source": [
        "# Answer below:\n",
        "model.compile(loss='binary_crossentropy',\n",
        "              optimizer='rmsprop',\n",
        "              metrics=['accuracy'])\n"
      ],
      "execution_count": 29,
      "outputs": []
    },
    {
      "cell_type": "markdown",
      "metadata": {
        "id": "uIKSpMe-Km5O"
      },
      "source": [
        "Fit the model using a fit generator. Use 50 epochs, 25 training steps and 15 validation steps"
      ]
    },
    {
      "cell_type": "code",
      "metadata": {
        "id": "NFfKyhLzKm5O",
        "colab": {
          "base_uri": "https://localhost:8080/"
        },
        "outputId": "c1f1b6c5-e10b-4836-ddf5-e4d83d1bce70"
      },
      "source": [
        "# Answer below:\n",
        "model.fit_generator(\n",
        "    train_generator,\n",
        "    steps_per_epoch=5,\n",
        "    epochs=10,\n",
        "    validation_data=validation_generator,\n",
        "    validation_steps=3)\n"
      ],
      "execution_count": 31,
      "outputs": [
        {
          "output_type": "stream",
          "text": [
            "/usr/local/lib/python3.6/dist-packages/tensorflow/python/keras/engine/training.py:1844: UserWarning: `Model.fit_generator` is deprecated and will be removed in a future version. Please use `Model.fit`, which supports generators.\n",
            "  warnings.warn('`Model.fit_generator` is deprecated and '\n"
          ],
          "name": "stderr"
        },
        {
          "output_type": "stream",
          "text": [
            "Epoch 1/10\n",
            "5/5 [==============================] - 15s 3s/step - loss: 0.6276 - accuracy: 0.6900 - val_loss: 0.6969 - val_accuracy: 0.5083\n",
            "Epoch 2/10\n",
            "5/5 [==============================] - 14s 3s/step - loss: 0.5804 - accuracy: 0.7375 - val_loss: 1.3136 - val_accuracy: 0.0792\n",
            "Epoch 3/10\n",
            "5/5 [==============================] - 15s 3s/step - loss: 0.6450 - accuracy: 0.6625 - val_loss: 0.7150 - val_accuracy: 0.4542\n",
            "Epoch 4/10\n",
            "5/5 [==============================] - 14s 3s/step - loss: 0.5704 - accuracy: 0.7400 - val_loss: 0.9470 - val_accuracy: 0.2750\n",
            "Epoch 5/10\n",
            "5/5 [==============================] - 14s 3s/step - loss: 0.5388 - accuracy: 0.7175 - val_loss: 0.9760 - val_accuracy: 0.2833\n",
            "Epoch 6/10\n",
            "5/5 [==============================] - 17s 4s/step - loss: 0.6320 - accuracy: 0.6725 - val_loss: 0.6181 - val_accuracy: 0.6250\n",
            "Epoch 7/10\n",
            "5/5 [==============================] - 15s 3s/step - loss: 0.5714 - accuracy: 0.7475 - val_loss: 1.1645 - val_accuracy: 0.2083\n",
            "Epoch 8/10\n",
            "5/5 [==============================] - 14s 3s/step - loss: 0.5248 - accuracy: 0.7325 - val_loss: 0.2450 - val_accuracy: 0.9458\n",
            "Epoch 9/10\n",
            "5/5 [==============================] - 15s 3s/step - loss: 0.5635 - accuracy: 0.7075 - val_loss: 0.6805 - val_accuracy: 0.5750\n",
            "Epoch 10/10\n",
            "5/5 [==============================] - 15s 3s/step - loss: 0.5711 - accuracy: 0.7150 - val_loss: 0.6523 - val_accuracy: 0.5667\n"
          ],
          "name": "stdout"
        },
        {
          "output_type": "execute_result",
          "data": {
            "text/plain": [
              "<tensorflow.python.keras.callbacks.History at 0x7fdfb2df3860>"
            ]
          },
          "metadata": {
            "tags": []
          },
          "execution_count": 31
        }
      ]
    },
    {
      "cell_type": "markdown",
      "metadata": {
        "id": "QAZ1IeybKm5Q"
      },
      "source": [
        "Create a new model by adding an additional group of convolution, activation and max pooling layers before the flatten layer. Make the convolution layer of unit size 32. Keep everything else the same."
      ]
    },
    {
      "cell_type": "code",
      "metadata": {
        "id": "651SH4QGKm5Q"
      },
      "source": [
        "# Answer below:\n",
        "model = Sequential()\n",
        "model.add(Conv2D(64, (3, 3), input_shape=input_shape))\n",
        "model.add(Activation('relu'))\n",
        "model.add(MaxPooling2D(pool_size=(2, 2)))\n",
        "\n",
        "model.add(Conv2D(32, (3, 3)))\n",
        "model.add(Activation('relu'))\n",
        "model.add(MaxPooling2D(pool_size=(2, 2)))\n",
        "\n",
        "model.add(Flatten())\n",
        "model.add(Dense(64))\n",
        "model.add(Activation('relu'))\n",
        "\n",
        "model.add(Dense(1))\n",
        "model.add(Activation('sigmoid'))\n"
      ],
      "execution_count": 32,
      "outputs": []
    },
    {
      "cell_type": "markdown",
      "metadata": {
        "id": "fHfpSfgyKm5S"
      },
      "source": [
        "Fit and compile the model in the same way you did with the previous model. How did the results improve?"
      ]
    },
    {
      "cell_type": "code",
      "metadata": {
        "id": "k5nPg_LmKm5S",
        "colab": {
          "base_uri": "https://localhost:8080/"
        },
        "outputId": "d3d91d9b-5e6f-4aaf-d251-a749a89ff729"
      },
      "source": [
        "# Answer below:\n",
        "model.compile(loss='binary_crossentropy',\n",
        "              optimizer='rmsprop',\n",
        "              metrics=['accuracy'])\n",
        "model.fit_generator(\n",
        "    train_generator,\n",
        "    steps_per_epoch=5,\n",
        "    epochs=10,\n",
        "    validation_data=validation_generator,\n",
        "    validation_steps=3)"
      ],
      "execution_count": 34,
      "outputs": [
        {
          "output_type": "stream",
          "text": [
            "/usr/local/lib/python3.6/dist-packages/tensorflow/python/keras/engine/training.py:1844: UserWarning: `Model.fit_generator` is deprecated and will be removed in a future version. Please use `Model.fit`, which supports generators.\n",
            "  warnings.warn('`Model.fit_generator` is deprecated and '\n"
          ],
          "name": "stderr"
        },
        {
          "output_type": "stream",
          "text": [
            "Epoch 1/10\n",
            "5/5 [==============================] - 23s 4s/step - loss: 0.8027 - accuracy: 0.5548 - val_loss: 0.6573 - val_accuracy: 0.8292\n",
            "Epoch 2/10\n",
            "5/5 [==============================] - 22s 4s/step - loss: 0.6801 - accuracy: 0.5390 - val_loss: 0.3736 - val_accuracy: 0.9875\n",
            "Epoch 3/10\n",
            "5/5 [==============================] - 22s 4s/step - loss: 0.6915 - accuracy: 0.5339 - val_loss: 0.7874 - val_accuracy: 0.1708\n",
            "Epoch 4/10\n",
            "5/5 [==============================] - 22s 4s/step - loss: 0.6750 - accuracy: 0.5791 - val_loss: 0.5657 - val_accuracy: 0.8833\n",
            "Epoch 5/10\n",
            "5/5 [==============================] - 22s 4s/step - loss: 0.6627 - accuracy: 0.6114 - val_loss: 0.9658 - val_accuracy: 0.0750\n",
            "Epoch 6/10\n",
            "5/5 [==============================] - 22s 4s/step - loss: 0.6799 - accuracy: 0.5827 - val_loss: 0.8017 - val_accuracy: 0.2875\n",
            "Epoch 7/10\n",
            "5/5 [==============================] - 22s 4s/step - loss: 0.7127 - accuracy: 0.5182 - val_loss: 0.6912 - val_accuracy: 0.4792\n",
            "Epoch 8/10\n",
            "5/5 [==============================] - 22s 4s/step - loss: 0.6592 - accuracy: 0.6453 - val_loss: 0.6557 - val_accuracy: 0.5708\n",
            "Epoch 9/10\n",
            "5/5 [==============================] - 22s 4s/step - loss: 0.6616 - accuracy: 0.6199 - val_loss: 0.9898 - val_accuracy: 0.1458\n",
            "Epoch 10/10\n",
            "5/5 [==============================] - 22s 4s/step - loss: 0.6694 - accuracy: 0.5444 - val_loss: 0.7333 - val_accuracy: 0.4042\n"
          ],
          "name": "stdout"
        },
        {
          "output_type": "execute_result",
          "data": {
            "text/plain": [
              "<tensorflow.python.keras.callbacks.History at 0x7fdfb2c82f60>"
            ]
          },
          "metadata": {
            "tags": []
          },
          "execution_count": 34
        }
      ]
    },
    {
      "cell_type": "markdown",
      "metadata": {
        "id": "LgKv1_tCKm5U"
      },
      "source": [
        "Create a new model based on the model above. Add an additional dense layer of size 64 with a ReLU activation after the flatten layer."
      ]
    },
    {
      "cell_type": "code",
      "metadata": {
        "id": "KlzEuIt3Km5U"
      },
      "source": [
        "# Answer below:\n",
        "model = Sequential()\n",
        "model.add(Conv2D(64, (3, 3), input_shape=input_shape))\n",
        "model.add(Activation('relu'))\n",
        "model.add(MaxPooling2D(pool_size=(2, 2)))\n",
        "\n",
        "model.add(Conv2D(32, (3, 3)))\n",
        "model.add(Activation('relu'))\n",
        "model.add(MaxPooling2D(pool_size=(2, 2)))\n",
        "\n",
        "model.add(Flatten())\n",
        "model.add(Dense(64))\n",
        "model.add(Activation('relu'))\n",
        "\n",
        "model.add(Dense(64))\n",
        "model.add(Activation('relu'))\n",
        "\n",
        "model.add(Dense(1))\n",
        "model.add(Activation('sigmoid'))\n"
      ],
      "execution_count": 35,
      "outputs": []
    },
    {
      "cell_type": "markdown",
      "metadata": {
        "id": "GMg6k7tHKm5W"
      },
      "source": [
        "Fit and compile in the same way as above. Describe the difference in performance and speed."
      ]
    },
    {
      "cell_type": "code",
      "metadata": {
        "id": "pqIEZC6YKm5W",
        "colab": {
          "base_uri": "https://localhost:8080/"
        },
        "outputId": "2933cfdb-8de6-466c-e3c7-9ef488e9dc8b"
      },
      "source": [
        "# Answer below:\n",
        "model.compile(loss='binary_crossentropy',\n",
        "              optimizer='rmsprop',\n",
        "              metrics=['accuracy'])\n",
        "model.fit_generator(\n",
        "    train_generator,\n",
        "    steps_per_epoch=5,\n",
        "    epochs=10,\n",
        "    validation_data=validation_generator,\n",
        "    validation_steps=3)\n"
      ],
      "execution_count": 36,
      "outputs": [
        {
          "output_type": "stream",
          "text": [
            "/usr/local/lib/python3.6/dist-packages/tensorflow/python/keras/engine/training.py:1844: UserWarning: `Model.fit_generator` is deprecated and will be removed in a future version. Please use `Model.fit`, which supports generators.\n",
            "  warnings.warn('`Model.fit_generator` is deprecated and '\n"
          ],
          "name": "stderr"
        },
        {
          "output_type": "stream",
          "text": [
            "Epoch 1/10\n",
            "5/5 [==============================] - 23s 4s/step - loss: 2.8036 - accuracy: 0.5034 - val_loss: 0.6631 - val_accuracy: 0.9958\n",
            "Epoch 2/10\n",
            "5/5 [==============================] - 22s 4s/step - loss: 0.6968 - accuracy: 0.4536 - val_loss: 0.7114 - val_accuracy: 0.0083\n",
            "Epoch 3/10\n",
            "5/5 [==============================] - 22s 4s/step - loss: 0.7271 - accuracy: 0.5488 - val_loss: 0.7934 - val_accuracy: 0.0083\n",
            "Epoch 4/10\n",
            "5/5 [==============================] - 22s 4s/step - loss: 0.6851 - accuracy: 0.5358 - val_loss: 0.8746 - val_accuracy: 0.0125\n",
            "Epoch 5/10\n",
            "5/5 [==============================] - 21s 4s/step - loss: 0.6758 - accuracy: 0.5861 - val_loss: 0.7719 - val_accuracy: 0.0458\n",
            "Epoch 6/10\n",
            "5/5 [==============================] - 22s 4s/step - loss: 0.6879 - accuracy: 0.5416 - val_loss: 0.9835 - val_accuracy: 0.0083\n",
            "Epoch 7/10\n",
            "5/5 [==============================] - 22s 4s/step - loss: 0.7092 - accuracy: 0.5570 - val_loss: 0.6864 - val_accuracy: 0.5083\n",
            "Epoch 8/10\n",
            "5/5 [==============================] - 21s 4s/step - loss: 0.6958 - accuracy: 0.6342 - val_loss: 0.7410 - val_accuracy: 0.1250\n",
            "Epoch 9/10\n",
            "5/5 [==============================] - 24s 5s/step - loss: 0.6725 - accuracy: 0.5864 - val_loss: 1.1234 - val_accuracy: 0.0333\n",
            "Epoch 10/10\n",
            "5/5 [==============================] - 23s 4s/step - loss: 0.7063 - accuracy: 0.5373 - val_loss: 1.0240 - val_accuracy: 0.1167\n"
          ],
          "name": "stdout"
        },
        {
          "output_type": "execute_result",
          "data": {
            "text/plain": [
              "<tensorflow.python.keras.callbacks.History at 0x7fdfb30fe5f8>"
            ]
          },
          "metadata": {
            "tags": []
          },
          "execution_count": 36
        }
      ]
    },
    {
      "cell_type": "markdown",
      "metadata": {
        "id": "iRCyPKJfKm5Y"
      },
      "source": [
        "Fit and compile using the Adam optimizer. Describe the difference in performance between the Adam and RMSprop optimizers."
      ]
    },
    {
      "cell_type": "code",
      "metadata": {
        "id": "eqzQbCl8Km5Z",
        "colab": {
          "base_uri": "https://localhost:8080/"
        },
        "outputId": "49ca6540-56e5-435b-ab42-9f7275a42daa"
      },
      "source": [
        "# Answer below:\n",
        "model = Sequential()\n",
        "model.add(Conv2D(64, (3, 3), input_shape=input_shape))\n",
        "model.add(Activation('relu'))\n",
        "model.add(MaxPooling2D(pool_size=(2, 2)))\n",
        "\n",
        "model.add(Conv2D(32, (3, 3)))\n",
        "model.add(Activation('relu'))\n",
        "model.add(MaxPooling2D(pool_size=(2, 2)))\n",
        "\n",
        "model.add(Flatten())\n",
        "model.add(Dense(64))\n",
        "model.add(Activation('relu'))\n",
        "\n",
        "model.add(Dense(64))\n",
        "model.add(Activation('relu'))\n",
        "\n",
        "model.add(Dense(1))\n",
        "model.add(Activation('sigmoid'))\n",
        "\n",
        "model.compile(loss='binary_crossentropy',\n",
        "              optimizer='adam',\n",
        "              metrics=['accuracy'])\n",
        "model.fit_generator(\n",
        "    train_generator,\n",
        "    steps_per_epoch=5,\n",
        "    epochs=10,\n",
        "    validation_data=validation_generator,\n",
        "    validation_steps=3)\n"
      ],
      "execution_count": 38,
      "outputs": [
        {
          "output_type": "stream",
          "text": [
            "/usr/local/lib/python3.6/dist-packages/tensorflow/python/keras/engine/training.py:1844: UserWarning: `Model.fit_generator` is deprecated and will be removed in a future version. Please use `Model.fit`, which supports generators.\n",
            "  warnings.warn('`Model.fit_generator` is deprecated and '\n"
          ],
          "name": "stderr"
        },
        {
          "output_type": "stream",
          "text": [
            "Epoch 1/10\n",
            "5/5 [==============================] - 22s 4s/step - loss: 0.9515 - accuracy: 0.5036 - val_loss: 0.7986 - val_accuracy: 0.0000e+00\n",
            "Epoch 2/10\n",
            "5/5 [==============================] - 21s 4s/step - loss: 0.6928 - accuracy: 0.5023 - val_loss: 0.7172 - val_accuracy: 0.0000e+00\n",
            "Epoch 3/10\n",
            "5/5 [==============================] - 21s 4s/step - loss: 0.6893 - accuracy: 0.4925 - val_loss: 0.7388 - val_accuracy: 0.0667\n",
            "Epoch 4/10\n",
            "5/5 [==============================] - 22s 4s/step - loss: 0.6888 - accuracy: 0.5182 - val_loss: 0.9955 - val_accuracy: 0.0000e+00\n",
            "Epoch 5/10\n",
            "5/5 [==============================] - 22s 4s/step - loss: 0.6970 - accuracy: 0.5078 - val_loss: 0.7009 - val_accuracy: 0.3500\n",
            "Epoch 6/10\n",
            "5/5 [==============================] - 21s 4s/step - loss: 0.6895 - accuracy: 0.5688 - val_loss: 0.6690 - val_accuracy: 0.9083\n",
            "Epoch 7/10\n",
            "5/5 [==============================] - 21s 4s/step - loss: 0.6849 - accuracy: 0.6295 - val_loss: 0.7226 - val_accuracy: 0.2250\n",
            "Epoch 8/10\n",
            "5/5 [==============================] - 21s 4s/step - loss: 0.6857 - accuracy: 0.5631 - val_loss: 0.7320 - val_accuracy: 0.2750\n",
            "Epoch 9/10\n",
            "5/5 [==============================] - 21s 4s/step - loss: 0.6703 - accuracy: 0.6045 - val_loss: 0.5724 - val_accuracy: 0.8375\n",
            "Epoch 10/10\n",
            "5/5 [==============================] - 21s 4s/step - loss: 0.6488 - accuracy: 0.6576 - val_loss: 0.9152 - val_accuracy: 0.1833\n"
          ],
          "name": "stdout"
        },
        {
          "output_type": "execute_result",
          "data": {
            "text/plain": [
              "<tensorflow.python.keras.callbacks.History at 0x7fdfaee3a0f0>"
            ]
          },
          "metadata": {
            "tags": []
          },
          "execution_count": 38
        }
      ]
    }
  ]
}