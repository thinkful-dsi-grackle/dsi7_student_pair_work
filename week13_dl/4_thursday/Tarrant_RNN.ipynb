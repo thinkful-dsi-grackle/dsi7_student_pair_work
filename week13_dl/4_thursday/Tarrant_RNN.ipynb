{
  "nbformat": 4,
  "nbformat_minor": 0,
  "metadata": {
    "kernelspec": {
      "display_name": "Python 3",
      "language": "python",
      "name": "python3"
    },
    "language_info": {
      "codemirror_mode": {
        "name": "ipython",
        "version": 3
      },
      "file_extension": ".py",
      "mimetype": "text/x-python",
      "name": "python",
      "nbconvert_exporter": "python",
      "pygments_lexer": "ipython3",
      "version": "3.7.0"
    },
    "colab": {
      "name": "Tarrant_RNN.ipynb",
      "provenance": [],
      "collapsed_sections": []
    },
    "accelerator": "GPU"
  },
  "cells": [
    {
      "cell_type": "markdown",
      "metadata": {
        "id": "oQfS-31Jh-bL"
      },
      "source": [
        "## Recurrent Neural Networks\n",
        "\n",
        "In this assignment, we will learn about recurrent neural networks. We will create an RNN and learn to classify text data."
      ]
    },
    {
      "cell_type": "code",
      "metadata": {
        "id": "BOy993_Xh-bM"
      },
      "source": [
        "import warnings\n",
        "warnings.filterwarnings(\"ignore\")\n",
        "\n",
        "import numpy as np\n",
        "import pandas as pd\n",
        "from tensorflow.keras.preprocessing.text import one_hot"
      ],
      "execution_count": 1,
      "outputs": []
    },
    {
      "cell_type": "code",
      "metadata": {
        "colab": {
          "base_uri": "https://localhost:8080/"
        },
        "id": "GWW59c5DPSSz",
        "outputId": "31ae9eac-0cad-4c4f-d982-64c3aa533675"
      },
      "source": [
        "import nltk\n",
        "nltk.download('stopwords')"
      ],
      "execution_count": 2,
      "outputs": [
        {
          "output_type": "stream",
          "text": [
            "[nltk_data] Downloading package stopwords to /root/nltk_data...\n",
            "[nltk_data]   Package stopwords is already up-to-date!\n"
          ],
          "name": "stdout"
        },
        {
          "output_type": "execute_result",
          "data": {
            "text/plain": [
              "True"
            ]
          },
          "metadata": {
            "tags": []
          },
          "execution_count": 2
        }
      ]
    },
    {
      "cell_type": "code",
      "metadata": {
        "colab": {
          "base_uri": "https://localhost:8080/",
          "height": 35
        },
        "id": "BXPl_Bw9OFND",
        "outputId": "4bbf7596-34be-453a-9717-a293a1e7858d"
      },
      "source": [
        "import tensorflow as tf\n",
        "tf.test.gpu_device_name()"
      ],
      "execution_count": 3,
      "outputs": [
        {
          "output_type": "execute_result",
          "data": {
            "application/vnd.google.colaboratory.intrinsic+json": {
              "type": "string"
            },
            "text/plain": [
              "'/device:GPU:0'"
            ]
          },
          "metadata": {
            "tags": []
          },
          "execution_count": 3
        }
      ]
    },
    {
      "cell_type": "code",
      "metadata": {
        "id": "ToNRsZf5h-bP",
        "colab": {
          "base_uri": "https://localhost:8080/"
        },
        "outputId": "977af080-cc17-44d6-ec5b-6ee35098be2f"
      },
      "source": [
        "yelp = pd.read_csv('https://tf-assets-prod.s3.amazonaws.com/tf-curric/data-science/yelp_labeled.csv', error_bad_lines=False)"
      ],
      "execution_count": 4,
      "outputs": [
        {
          "output_type": "stream",
          "text": [
            "b'Skipping line 281: expected 2 fields, saw 3\\nSkipping line 290: expected 2 fields, saw 3\\nSkipping line 296: expected 2 fields, saw 3\\nSkipping line 322: expected 2 fields, saw 3\\nSkipping line 373: expected 2 fields, saw 3\\nSkipping line 417: expected 2 fields, saw 3\\nSkipping line 427: expected 2 fields, saw 3\\nSkipping line 429: expected 2 fields, saw 3\\nSkipping line 577: expected 2 fields, saw 3\\nSkipping line 578: expected 2 fields, saw 3\\nSkipping line 611: expected 2 fields, saw 3\\nSkipping line 677: expected 2 fields, saw 3\\nSkipping line 771: expected 2 fields, saw 3\\nSkipping line 930: expected 2 fields, saw 3\\nSkipping line 979: expected 2 fields, saw 4\\nSkipping line 980: expected 2 fields, saw 3\\n'\n"
          ],
          "name": "stderr"
        }
      ]
    },
    {
      "cell_type": "code",
      "metadata": {
        "id": "7fKQfObOh-bX",
        "colab": {
          "base_uri": "https://localhost:8080/",
          "height": 204
        },
        "outputId": "41fd2572-4e09-47ed-b9fa-6b49d1ab911c"
      },
      "source": [
        "yelp.head()"
      ],
      "execution_count": 5,
      "outputs": [
        {
          "output_type": "execute_result",
          "data": {
            "text/html": [
              "<div>\n",
              "<style scoped>\n",
              "    .dataframe tbody tr th:only-of-type {\n",
              "        vertical-align: middle;\n",
              "    }\n",
              "\n",
              "    .dataframe tbody tr th {\n",
              "        vertical-align: top;\n",
              "    }\n",
              "\n",
              "    .dataframe thead th {\n",
              "        text-align: right;\n",
              "    }\n",
              "</style>\n",
              "<table border=\"1\" class=\"dataframe\">\n",
              "  <thead>\n",
              "    <tr style=\"text-align: right;\">\n",
              "      <th></th>\n",
              "      <th>text</th>\n",
              "      <th>sentiment</th>\n",
              "    </tr>\n",
              "  </thead>\n",
              "  <tbody>\n",
              "    <tr>\n",
              "      <th>0</th>\n",
              "      <td>Wow... Loved this place.</td>\n",
              "      <td>1</td>\n",
              "    </tr>\n",
              "    <tr>\n",
              "      <th>1</th>\n",
              "      <td>Crust is not good.</td>\n",
              "      <td>0</td>\n",
              "    </tr>\n",
              "    <tr>\n",
              "      <th>2</th>\n",
              "      <td>Not tasty and the texture was just nasty.</td>\n",
              "      <td>0</td>\n",
              "    </tr>\n",
              "    <tr>\n",
              "      <th>3</th>\n",
              "      <td>Stopped by during the late May bank holiday of...</td>\n",
              "      <td>1</td>\n",
              "    </tr>\n",
              "    <tr>\n",
              "      <th>4</th>\n",
              "      <td>The selection on the menu was great and so wer...</td>\n",
              "      <td>1</td>\n",
              "    </tr>\n",
              "  </tbody>\n",
              "</table>\n",
              "</div>"
            ],
            "text/plain": [
              "                                                text  sentiment\n",
              "0                           Wow... Loved this place.          1\n",
              "1                                 Crust is not good.          0\n",
              "2          Not tasty and the texture was just nasty.          0\n",
              "3  Stopped by during the late May bank holiday of...          1\n",
              "4  The selection on the menu was great and so wer...          1"
            ]
          },
          "metadata": {
            "tags": []
          },
          "execution_count": 5
        }
      ]
    },
    {
      "cell_type": "code",
      "metadata": {
        "colab": {
          "base_uri": "https://localhost:8080/"
        },
        "id": "a-k8WB7KYcn_",
        "outputId": "1c33530d-cfaa-4213-8ae9-151415fc13f1"
      },
      "source": [
        "yelp.shape"
      ],
      "execution_count": 6,
      "outputs": [
        {
          "output_type": "execute_result",
          "data": {
            "text/plain": [
              "(976, 2)"
            ]
          },
          "metadata": {
            "tags": []
          },
          "execution_count": 6
        }
      ]
    },
    {
      "cell_type": "code",
      "metadata": {
        "id": "yXyJFyo9h-bZ",
        "colab": {
          "base_uri": "https://localhost:8080/"
        },
        "outputId": "e61d2cbd-09a7-4cd2-83d5-ba00ee84e08b"
      },
      "source": [
        "# check target for class balance\n",
        "yelp.sentiment.value_counts()"
      ],
      "execution_count": 7,
      "outputs": [
        {
          "output_type": "execute_result",
          "data": {
            "text/plain": [
              "1    494\n",
              "0    482\n",
              "Name: sentiment, dtype: int64"
            ]
          },
          "metadata": {
            "tags": []
          },
          "execution_count": 7
        }
      ]
    },
    {
      "cell_type": "markdown",
      "metadata": {
        "id": "bp0a4qU9h-bb"
      },
      "source": [
        "We have loaded a Yelp review dataset above. A positive sentiment is classified as 1 and a negative sentiment is classified as 0. "
      ]
    },
    {
      "cell_type": "code",
      "metadata": {
        "id": "Zyboex_Vh-bb"
      },
      "source": [
        "from nltk.corpus import stopwords\n",
        "import re\n",
        "from nltk.stem.porter import PorterStemmer\n",
        "\n",
        "stemmer = PorterStemmer()\n",
        "\n",
        "def remove_stopwords(input_text):\n",
        "        stopwords_list = stopwords.words('english')\n",
        "        # Some words which might indicate a certain sentiment are kept via a whitelist\n",
        "        whitelist = [\"n't\", \"not\", \"no\"]\n",
        "        words = input_text.split() \n",
        "        clean_words = [word for word in words if (word not in stopwords_list or word in whitelist) and len(word) > 1] \n",
        "        return \" \".join(clean_words)       \n",
        "\n",
        "def stem_list(word_list):\n",
        "    stemmed = []\n",
        "    for word in word_list:\n",
        "        stemmedword = stemmer.stem(word)\n",
        "        stemmed.append(stemmedword)\n",
        "    return stemmed\n",
        "\n",
        "def normalize(terms):\n",
        "    terms = terms.lower()\n",
        "    terms = remove_stopwords(terms)\n",
        "    word_delimiters = u'[\\\\[\\\\]\\n.!?,;:\\t\\\\-\\\\\"\\\\(\\\\)\\\\\\'\\u2019\\u2013 ]'\n",
        "    term_list = re.split(word_delimiters, terms)\n",
        "    trimmed = [x.rstrip() for x in term_list]\n",
        "    stemmed = stem_list(trimmed)\n",
        "    space = ' '\n",
        "    normed = space.join(stemmed)\n",
        "    normed = normed.replace('  ', ' ')\n",
        "    return normed"
      ],
      "execution_count": 8,
      "outputs": []
    },
    {
      "cell_type": "markdown",
      "metadata": {
        "id": "CsuGlOW8h-bd"
      },
      "source": [
        "In the code block above, we have functions to remove stopwords, stem, and normalize the text (remove special characters and trim white space). Apply the normalize function to every yelp review and assign the normalized text to a new column."
      ]
    },
    {
      "cell_type": "code",
      "metadata": {
        "id": "BDWbek-Yh-be",
        "colab": {
          "base_uri": "https://localhost:8080/",
          "height": 204
        },
        "outputId": "a1cd9c34-96a6-49db-d330-488687d897dc"
      },
      "source": [
        "# apply normalized function\n",
        "yelp['normalized_text'] = [normalize(text) for text in yelp['text']]\n",
        "\n",
        "yelp.head()"
      ],
      "execution_count": 9,
      "outputs": [
        {
          "output_type": "execute_result",
          "data": {
            "text/html": [
              "<div>\n",
              "<style scoped>\n",
              "    .dataframe tbody tr th:only-of-type {\n",
              "        vertical-align: middle;\n",
              "    }\n",
              "\n",
              "    .dataframe tbody tr th {\n",
              "        vertical-align: top;\n",
              "    }\n",
              "\n",
              "    .dataframe thead th {\n",
              "        text-align: right;\n",
              "    }\n",
              "</style>\n",
              "<table border=\"1\" class=\"dataframe\">\n",
              "  <thead>\n",
              "    <tr style=\"text-align: right;\">\n",
              "      <th></th>\n",
              "      <th>text</th>\n",
              "      <th>sentiment</th>\n",
              "      <th>normalized_text</th>\n",
              "    </tr>\n",
              "  </thead>\n",
              "  <tbody>\n",
              "    <tr>\n",
              "      <th>0</th>\n",
              "      <td>Wow... Loved this place.</td>\n",
              "      <td>1</td>\n",
              "      <td>wow  love place</td>\n",
              "    </tr>\n",
              "    <tr>\n",
              "      <th>1</th>\n",
              "      <td>Crust is not good.</td>\n",
              "      <td>0</td>\n",
              "      <td>crust not good</td>\n",
              "    </tr>\n",
              "    <tr>\n",
              "      <th>2</th>\n",
              "      <td>Not tasty and the texture was just nasty.</td>\n",
              "      <td>0</td>\n",
              "      <td>not tasti textur nasti</td>\n",
              "    </tr>\n",
              "    <tr>\n",
              "      <th>3</th>\n",
              "      <td>Stopped by during the late May bank holiday of...</td>\n",
              "      <td>1</td>\n",
              "      <td>stop late may bank holiday rick steve recommen...</td>\n",
              "    </tr>\n",
              "    <tr>\n",
              "      <th>4</th>\n",
              "      <td>The selection on the menu was great and so wer...</td>\n",
              "      <td>1</td>\n",
              "      <td>select menu great price</td>\n",
              "    </tr>\n",
              "  </tbody>\n",
              "</table>\n",
              "</div>"
            ],
            "text/plain": [
              "                                                text  ...                                    normalized_text\n",
              "0                           Wow... Loved this place.  ...                                   wow  love place \n",
              "1                                 Crust is not good.  ...                                    crust not good \n",
              "2          Not tasty and the texture was just nasty.  ...                            not tasti textur nasti \n",
              "3  Stopped by during the late May bank holiday of...  ...  stop late may bank holiday rick steve recommen...\n",
              "4  The selection on the menu was great and so wer...  ...                           select menu great price \n",
              "\n",
              "[5 rows x 3 columns]"
            ]
          },
          "metadata": {
            "tags": []
          },
          "execution_count": 9
        }
      ]
    },
    {
      "cell_type": "markdown",
      "metadata": {
        "id": "tywlufjyh-bf"
      },
      "source": [
        "Next, use the one hot function for text encoding and encode the normalized text. Determine the vocabulary size to perform the encoding."
      ]
    },
    {
      "cell_type": "code",
      "metadata": {
        "colab": {
          "base_uri": "https://localhost:8080/"
        },
        "id": "7tqQj7kpRUbV",
        "outputId": "d3e24c75-8dae-469a-83c8-8f33b19b6c30"
      },
      "source": [
        "vocab = \" \".join(yelp['normalized_text'].tolist())\n",
        "vocab = vocab.split(\" \")\n",
        "vocab = list(filter(None, vocab))\n",
        "vocab_size = len(set(vocab))\n",
        "vocab[:20]"
      ],
      "execution_count": 10,
      "outputs": [
        {
          "output_type": "execute_result",
          "data": {
            "text/plain": [
              "['wow',\n",
              " 'love',\n",
              " 'place',\n",
              " 'crust',\n",
              " 'not',\n",
              " 'good',\n",
              " 'not',\n",
              " 'tasti',\n",
              " 'textur',\n",
              " 'nasti',\n",
              " 'stop',\n",
              " 'late',\n",
              " 'may',\n",
              " 'bank',\n",
              " 'holiday',\n",
              " 'rick',\n",
              " 'steve',\n",
              " 'recommend',\n",
              " 'love',\n",
              " 'it']"
            ]
          },
          "metadata": {
            "tags": []
          },
          "execution_count": 10
        }
      ]
    },
    {
      "cell_type": "code",
      "metadata": {
        "colab": {
          "base_uri": "https://localhost:8080/"
        },
        "id": "WjifK-WwV71y",
        "outputId": "4bed8ebd-1617-41de-9250-69b0a640f4c6"
      },
      "source": [
        "len(set(vocab))"
      ],
      "execution_count": 11,
      "outputs": [
        {
          "output_type": "execute_result",
          "data": {
            "text/plain": [
              "1628"
            ]
          },
          "metadata": {
            "tags": []
          },
          "execution_count": 11
        }
      ]
    },
    {
      "cell_type": "code",
      "metadata": {
        "id": "NWKnOSd_h-bg"
      },
      "source": [
        "# Answer below:\n",
        "vocab_size = len(set(vocab))\n",
        "encoded_docs = [one_hot(doc, vocab_size) for doc in yelp['normalized_text']]\n"
      ],
      "execution_count": 26,
      "outputs": []
    },
    {
      "cell_type": "code",
      "metadata": {
        "colab": {
          "base_uri": "https://localhost:8080/"
        },
        "id": "cPKz7o-UW3EF",
        "outputId": "a17837b8-315a-4b5c-bdaa-cec824cea54b"
      },
      "source": [
        "encoded_docs[:20]"
      ],
      "execution_count": 27,
      "outputs": [
        {
          "output_type": "execute_result",
          "data": {
            "text/plain": [
              "[[246, 1567, 117],\n",
              " [1561, 215, 549],\n",
              " [215, 603, 1297, 1551],\n",
              " [464, 1043, 361, 89, 373, 422, 894, 94, 1567, 1337],\n",
              " [701, 48, 257, 1575],\n",
              " [953, 172, 595, 1131, 161],\n",
              " [786, 959, 135],\n",
              " [1447, 344, 1376, 678, 1502, 1073, 1159, 1605, 110, 1067],\n",
              " [679, 257, 1479],\n",
              " [257, 592],\n",
              " [1369, 1436],\n",
              " [1496, 215, 589, 672],\n",
              " [415, 787, 714, 231, 1058, 238, 53, 1393, 659],\n",
              " [216, 1083, 641, 1266, 1160, 1350, 891],\n",
              " [1266, 691, 1349, 1541, 128],\n",
              " [424, 787, 889, 1079, 32, 200],\n",
              " [546, 94],\n",
              " [414, 856, 1186, 1369],\n",
              " [117, 215, 1354, 1605, 205, 1087, 210],\n",
              " [215, 344, 756]]"
            ]
          },
          "metadata": {
            "tags": []
          },
          "execution_count": 27
        }
      ]
    },
    {
      "cell_type": "markdown",
      "metadata": {
        "id": "FnRMy2S0h-bh"
      },
      "source": [
        "Convert the encoded sequences into a numpy array and make sure all reviews are the same length using the `pad_sequences` function in Keras."
      ]
    },
    {
      "cell_type": "code",
      "metadata": {
        "id": "pk24Behch-bi",
        "colab": {
          "base_uri": "https://localhost:8080/"
        },
        "outputId": "9854deda-adbb-44e8-af14-12500c5f1390"
      },
      "source": [
        "from tensorflow.keras.preprocessing.sequence import pad_sequences\n",
        "# pad the encoded sequences\n",
        "ind_vars = pad_sequences(encoded_docs)\n",
        "\n",
        "ind_vars[:20]"
      ],
      "execution_count": 14,
      "outputs": [
        {
          "output_type": "execute_result",
          "data": {
            "text/plain": [
              "array([[   0,    0,    0, ...,  246, 1567,  117],\n",
              "       [   0,    0,    0, ..., 1561,  215,  549],\n",
              "       [   0,    0,    0, ...,  603, 1297, 1551],\n",
              "       ...,\n",
              "       [   0,    0,    0, ...,  856, 1186, 1369],\n",
              "       [   0,    0,    0, ...,  205, 1087,  210],\n",
              "       [   0,    0,    0, ...,  215,  344,  756]], dtype=int32)"
            ]
          },
          "metadata": {
            "tags": []
          },
          "execution_count": 14
        }
      ]
    },
    {
      "cell_type": "code",
      "metadata": {
        "colab": {
          "base_uri": "https://localhost:8080/"
        },
        "id": "qLOvFFIPZ6YD",
        "outputId": "647e1661-53b7-42bf-8764-4164132b0173"
      },
      "source": [
        "ind_vars.shape"
      ],
      "execution_count": 15,
      "outputs": [
        {
          "output_type": "execute_result",
          "data": {
            "text/plain": [
              "(976, 83)"
            ]
          },
          "metadata": {
            "tags": []
          },
          "execution_count": 15
        }
      ]
    },
    {
      "cell_type": "markdown",
      "metadata": {
        "id": "XIclszsJh-bj"
      },
      "source": [
        "Split the data into train and test. Use 20% for test. The sentiment column should be used as the target variable."
      ]
    },
    {
      "cell_type": "code",
      "metadata": {
        "id": "zlaZSo-Yh-bk"
      },
      "source": [
        "from sklearn.model_selection import train_test_split\n",
        "\n",
        "# define X and y\n",
        "X = ind_vars\n",
        "y = yelp['sentiment']\n",
        "\n",
        "# test/train split our data\n",
        "X_train, X_test, y_train, y_test = train_test_split(X, y, test_size=0.2)\n"
      ],
      "execution_count": 16,
      "outputs": []
    },
    {
      "cell_type": "code",
      "metadata": {
        "colab": {
          "base_uri": "https://localhost:8080/"
        },
        "id": "isXDJyryjbw7",
        "outputId": "9afddedc-e58d-4577-a6ef-78186cc1af1c"
      },
      "source": [
        "max_words = np.max(X_train)\n",
        "max_words"
      ],
      "execution_count": 17,
      "outputs": [
        {
          "output_type": "execute_result",
          "data": {
            "text/plain": [
              "1627"
            ]
          },
          "metadata": {
            "tags": []
          },
          "execution_count": 17
        }
      ]
    },
    {
      "cell_type": "code",
      "metadata": {
        "colab": {
          "base_uri": "https://localhost:8080/"
        },
        "id": "ywID9ZFQenEc",
        "outputId": "3b0cb95e-3874-4424-dfe2-dea0b0741241"
      },
      "source": [
        "X_train.shape"
      ],
      "execution_count": 18,
      "outputs": [
        {
          "output_type": "execute_result",
          "data": {
            "text/plain": [
              "(780, 83)"
            ]
          },
          "metadata": {
            "tags": []
          },
          "execution_count": 18
        }
      ]
    },
    {
      "cell_type": "code",
      "metadata": {
        "colab": {
          "base_uri": "https://localhost:8080/"
        },
        "id": "f5WM9rxHe6nB",
        "outputId": "a89912ca-7f62-4ac6-e73c-2fedd1af9ffa"
      },
      "source": [
        "y_train.shape"
      ],
      "execution_count": 19,
      "outputs": [
        {
          "output_type": "execute_result",
          "data": {
            "text/plain": [
              "(780,)"
            ]
          },
          "metadata": {
            "tags": []
          },
          "execution_count": 19
        }
      ]
    },
    {
      "cell_type": "code",
      "metadata": {
        "colab": {
          "base_uri": "https://localhost:8080/"
        },
        "id": "vRuZDb0ifBcN",
        "outputId": "2185065f-5cc9-4f62-814f-e77f52cc2624"
      },
      "source": [
        "X_test.shape"
      ],
      "execution_count": 20,
      "outputs": [
        {
          "output_type": "execute_result",
          "data": {
            "text/plain": [
              "(196, 83)"
            ]
          },
          "metadata": {
            "tags": []
          },
          "execution_count": 20
        }
      ]
    },
    {
      "cell_type": "code",
      "metadata": {
        "colab": {
          "base_uri": "https://localhost:8080/"
        },
        "id": "BlQcl1gvfDGG",
        "outputId": "047e3631-ad82-4a9f-ef69-67ad8da4643a"
      },
      "source": [
        "y_test.shape"
      ],
      "execution_count": 21,
      "outputs": [
        {
          "output_type": "execute_result",
          "data": {
            "text/plain": [
              "(196,)"
            ]
          },
          "metadata": {
            "tags": []
          },
          "execution_count": 21
        }
      ]
    },
    {
      "cell_type": "markdown",
      "metadata": {
        "id": "EAsqg_REh-bm"
      },
      "source": [
        "Create a sequential model. The model should contain an embedding layer with input dim that is the size of the largest encoding in the vocabulary. The output dim should be 100, the input length is the number of columns in the training data. \n",
        "After the embedding layer, add a SimpleRNN layer with unit size 32, a dense layer of size 8 and a dense output layer."
      ]
    },
    {
      "cell_type": "code",
      "metadata": {
        "id": "ssougKQUh-bm",
        "colab": {
          "base_uri": "https://localhost:8080/"
        },
        "outputId": "d0461b1c-f324-4551-faf9-df272abb104f"
      },
      "source": [
        "import numpy as np\n",
        "from tensorflow.keras.models import Sequential \n",
        "from tensorflow.keras.layers import Dense, Embedding, SimpleRNN\n",
        "\n",
        "# instantiate model\n",
        "model = Sequential()\n",
        "# embedding layer\n",
        "model.add(Embedding(input_dim=max_words+1, output_dim=100, input_length=X_train.shape[1]))\n",
        "# simple RNN layer\n",
        "model.add(SimpleRNN(32))\n",
        "# dense layer\n",
        "model.add(Dense(8, activation='relu'))\n",
        "# dense output layer\n",
        "model.add(Dense(1, activation='sigmoid'))\n",
        "model.summary()\n"
      ],
      "execution_count": 28,
      "outputs": [
        {
          "output_type": "stream",
          "text": [
            "Model: \"sequential_1\"\n",
            "_________________________________________________________________\n",
            "Layer (type)                 Output Shape              Param #   \n",
            "=================================================================\n",
            "embedding_1 (Embedding)      (None, 83, 100)           162800    \n",
            "_________________________________________________________________\n",
            "simple_rnn_1 (SimpleRNN)     (None, 32)                4256      \n",
            "_________________________________________________________________\n",
            "dense_2 (Dense)              (None, 8)                 264       \n",
            "_________________________________________________________________\n",
            "dense_3 (Dense)              (None, 1)                 9         \n",
            "=================================================================\n",
            "Total params: 167,329\n",
            "Trainable params: 167,329\n",
            "Non-trainable params: 0\n",
            "_________________________________________________________________\n"
          ],
          "name": "stdout"
        }
      ]
    },
    {
      "cell_type": "markdown",
      "metadata": {
        "id": "tjgqWnioh-bo"
      },
      "source": [
        "Compile using the optimizer of your choice, use crossentropy for your loss function. Fit the model using a batch size of 128 and 50 epochs"
      ]
    },
    {
      "cell_type": "code",
      "metadata": {
        "id": "ewNbf3fKh-bo",
        "colab": {
          "base_uri": "https://localhost:8080/"
        },
        "outputId": "619c3a01-bea8-4849-9e07-5982895bf890"
      },
      "source": [
        "# compile model\n",
        "model.compile(loss='binary_crossentropy', optimizer='adam', metrics=['accuracy'])\n",
        "# fit model\n",
        "model.fit(X_train, y_train, validation_data=(X_test, y_test), epochs=50, batch_size=128)"
      ],
      "execution_count": 29,
      "outputs": [
        {
          "output_type": "stream",
          "text": [
            "Epoch 1/50\n",
            "7/7 [==============================] - 2s 110ms/step - loss: 0.6953 - accuracy: 0.4833 - val_loss: 0.6825 - val_accuracy: 0.5765\n",
            "Epoch 2/50\n",
            "7/7 [==============================] - 1s 84ms/step - loss: 0.6559 - accuracy: 0.7210 - val_loss: 0.6763 - val_accuracy: 0.6071\n",
            "Epoch 3/50\n",
            "7/7 [==============================] - 1s 84ms/step - loss: 0.6058 - accuracy: 0.8302 - val_loss: 0.6614 - val_accuracy: 0.6020\n",
            "Epoch 4/50\n",
            "7/7 [==============================] - 1s 85ms/step - loss: 0.5688 - accuracy: 0.7459 - val_loss: 0.6563 - val_accuracy: 0.6429\n",
            "Epoch 5/50\n",
            "7/7 [==============================] - 1s 81ms/step - loss: 0.4976 - accuracy: 0.9220 - val_loss: 0.6362 - val_accuracy: 0.6837\n",
            "Epoch 6/50\n",
            "7/7 [==============================] - 0s 73ms/step - loss: 0.4342 - accuracy: 0.9460 - val_loss: 0.6194 - val_accuracy: 0.6990\n",
            "Epoch 7/50\n",
            "7/7 [==============================] - 1s 79ms/step - loss: 0.3633 - accuracy: 0.9784 - val_loss: 0.6130 - val_accuracy: 0.6990\n",
            "Epoch 8/50\n",
            "7/7 [==============================] - 1s 73ms/step - loss: 0.2947 - accuracy: 0.9805 - val_loss: 0.6059 - val_accuracy: 0.6939\n",
            "Epoch 9/50\n",
            "7/7 [==============================] - 0s 71ms/step - loss: 0.2382 - accuracy: 0.9848 - val_loss: 0.6339 - val_accuracy: 0.6786\n",
            "Epoch 10/50\n",
            "7/7 [==============================] - 1s 74ms/step - loss: 0.1931 - accuracy: 0.9819 - val_loss: 0.6069 - val_accuracy: 0.7194\n",
            "Epoch 11/50\n",
            "7/7 [==============================] - 0s 68ms/step - loss: 0.1492 - accuracy: 0.9845 - val_loss: 0.5765 - val_accuracy: 0.7245\n",
            "Epoch 12/50\n",
            "7/7 [==============================] - 1s 98ms/step - loss: 0.1201 - accuracy: 0.9957 - val_loss: 0.5818 - val_accuracy: 0.7245\n",
            "Epoch 13/50\n",
            "7/7 [==============================] - 1s 85ms/step - loss: 0.0922 - accuracy: 0.9950 - val_loss: 0.6210 - val_accuracy: 0.7194\n",
            "Epoch 14/50\n",
            "7/7 [==============================] - 1s 82ms/step - loss: 0.0741 - accuracy: 0.9956 - val_loss: 0.6011 - val_accuracy: 0.7143\n",
            "Epoch 15/50\n",
            "7/7 [==============================] - 1s 78ms/step - loss: 0.0581 - accuracy: 0.9988 - val_loss: 0.6079 - val_accuracy: 0.7194\n",
            "Epoch 16/50\n",
            "7/7 [==============================] - 1s 74ms/step - loss: 0.0491 - accuracy: 1.0000 - val_loss: 0.6128 - val_accuracy: 0.7347\n",
            "Epoch 17/50\n",
            "7/7 [==============================] - 0s 70ms/step - loss: 0.0375 - accuracy: 1.0000 - val_loss: 0.6220 - val_accuracy: 0.7143\n",
            "Epoch 18/50\n",
            "7/7 [==============================] - 0s 73ms/step - loss: 0.0330 - accuracy: 1.0000 - val_loss: 0.6324 - val_accuracy: 0.7092\n",
            "Epoch 19/50\n",
            "7/7 [==============================] - 1s 83ms/step - loss: 0.0269 - accuracy: 1.0000 - val_loss: 0.6718 - val_accuracy: 0.7449\n",
            "Epoch 20/50\n",
            "7/7 [==============================] - 0s 73ms/step - loss: 0.0247 - accuracy: 1.0000 - val_loss: 0.6581 - val_accuracy: 0.7092\n",
            "Epoch 21/50\n",
            "7/7 [==============================] - 1s 78ms/step - loss: 0.0214 - accuracy: 1.0000 - val_loss: 0.6687 - val_accuracy: 0.7041\n",
            "Epoch 22/50\n",
            "7/7 [==============================] - 1s 77ms/step - loss: 0.0177 - accuracy: 1.0000 - val_loss: 0.6899 - val_accuracy: 0.7296\n",
            "Epoch 23/50\n",
            "7/7 [==============================] - 1s 79ms/step - loss: 0.0174 - accuracy: 1.0000 - val_loss: 0.6894 - val_accuracy: 0.7041\n",
            "Epoch 24/50\n",
            "7/7 [==============================] - 1s 88ms/step - loss: 0.0143 - accuracy: 1.0000 - val_loss: 0.6958 - val_accuracy: 0.6990\n",
            "Epoch 25/50\n",
            "7/7 [==============================] - 1s 79ms/step - loss: 0.0130 - accuracy: 1.0000 - val_loss: 0.7115 - val_accuracy: 0.7143\n",
            "Epoch 26/50\n",
            "7/7 [==============================] - 1s 77ms/step - loss: 0.0109 - accuracy: 1.0000 - val_loss: 0.7106 - val_accuracy: 0.7092\n",
            "Epoch 27/50\n",
            "7/7 [==============================] - 1s 73ms/step - loss: 0.0107 - accuracy: 1.0000 - val_loss: 0.7176 - val_accuracy: 0.7194\n",
            "Epoch 28/50\n",
            "7/7 [==============================] - 1s 81ms/step - loss: 0.0096 - accuracy: 1.0000 - val_loss: 0.7253 - val_accuracy: 0.7092\n",
            "Epoch 29/50\n",
            "7/7 [==============================] - 1s 74ms/step - loss: 0.0093 - accuracy: 1.0000 - val_loss: 0.7655 - val_accuracy: 0.7194\n",
            "Epoch 30/50\n",
            "7/7 [==============================] - 1s 88ms/step - loss: 0.0084 - accuracy: 1.0000 - val_loss: 0.7440 - val_accuracy: 0.7092\n",
            "Epoch 31/50\n",
            "7/7 [==============================] - 1s 81ms/step - loss: 0.0080 - accuracy: 1.0000 - val_loss: 0.7617 - val_accuracy: 0.7143\n",
            "Epoch 32/50\n",
            "7/7 [==============================] - 1s 81ms/step - loss: 0.0073 - accuracy: 1.0000 - val_loss: 0.7656 - val_accuracy: 0.6990\n",
            "Epoch 33/50\n",
            "7/7 [==============================] - 1s 75ms/step - loss: 0.0067 - accuracy: 1.0000 - val_loss: 0.7686 - val_accuracy: 0.6990\n",
            "Epoch 34/50\n",
            "7/7 [==============================] - 1s 75ms/step - loss: 0.0064 - accuracy: 1.0000 - val_loss: 0.7785 - val_accuracy: 0.7092\n",
            "Epoch 35/50\n",
            "7/7 [==============================] - 1s 85ms/step - loss: 0.0080 - accuracy: 0.9988 - val_loss: 0.7769 - val_accuracy: 0.6990\n",
            "Epoch 36/50\n",
            "7/7 [==============================] - 1s 91ms/step - loss: 0.0065 - accuracy: 1.0000 - val_loss: 0.7807 - val_accuracy: 0.6939\n",
            "Epoch 37/50\n",
            "7/7 [==============================] - 1s 87ms/step - loss: 0.0062 - accuracy: 1.0000 - val_loss: 0.7850 - val_accuracy: 0.6837\n",
            "Epoch 38/50\n",
            "7/7 [==============================] - 1s 86ms/step - loss: 0.0056 - accuracy: 1.0000 - val_loss: 0.8019 - val_accuracy: 0.6990\n",
            "Epoch 39/50\n",
            "7/7 [==============================] - 1s 73ms/step - loss: 0.0049 - accuracy: 1.0000 - val_loss: 0.8054 - val_accuracy: 0.6888\n",
            "Epoch 40/50\n",
            "7/7 [==============================] - 1s 85ms/step - loss: 0.0049 - accuracy: 1.0000 - val_loss: 0.8166 - val_accuracy: 0.6888\n",
            "Epoch 41/50\n",
            "7/7 [==============================] - 1s 79ms/step - loss: 0.0043 - accuracy: 1.0000 - val_loss: 0.8241 - val_accuracy: 0.6888\n",
            "Epoch 42/50\n",
            "7/7 [==============================] - 1s 81ms/step - loss: 0.0039 - accuracy: 1.0000 - val_loss: 0.8298 - val_accuracy: 0.6939\n",
            "Epoch 43/50\n",
            "7/7 [==============================] - 0s 69ms/step - loss: 0.0042 - accuracy: 1.0000 - val_loss: 0.8450 - val_accuracy: 0.6837\n",
            "Epoch 44/50\n",
            "7/7 [==============================] - 1s 87ms/step - loss: 0.0037 - accuracy: 1.0000 - val_loss: 0.8578 - val_accuracy: 0.6888\n",
            "Epoch 45/50\n",
            "7/7 [==============================] - 1s 88ms/step - loss: 0.0035 - accuracy: 1.0000 - val_loss: 0.8569 - val_accuracy: 0.6786\n",
            "Epoch 46/50\n",
            "7/7 [==============================] - 1s 75ms/step - loss: 0.0032 - accuracy: 1.0000 - val_loss: 0.8713 - val_accuracy: 0.6990\n",
            "Epoch 47/50\n",
            "7/7 [==============================] - 1s 76ms/step - loss: 0.0031 - accuracy: 1.0000 - val_loss: 0.8666 - val_accuracy: 0.6888\n",
            "Epoch 48/50\n",
            "7/7 [==============================] - 1s 74ms/step - loss: 0.0031 - accuracy: 1.0000 - val_loss: 0.8781 - val_accuracy: 0.6888\n",
            "Epoch 49/50\n",
            "7/7 [==============================] - 1s 81ms/step - loss: 0.0024 - accuracy: 1.0000 - val_loss: 0.8842 - val_accuracy: 0.6786\n",
            "Epoch 50/50\n",
            "7/7 [==============================] - 0s 68ms/step - loss: 0.0026 - accuracy: 1.0000 - val_loss: 0.8864 - val_accuracy: 0.6888\n"
          ],
          "name": "stdout"
        },
        {
          "output_type": "execute_result",
          "data": {
            "text/plain": [
              "<tensorflow.python.keras.callbacks.History at 0x7fe5104de898>"
            ]
          },
          "metadata": {
            "tags": []
          },
          "execution_count": 29
        }
      ]
    }
  ]
}