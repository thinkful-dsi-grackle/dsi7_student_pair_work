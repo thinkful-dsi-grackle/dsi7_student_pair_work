{
  "nbformat": 4,
  "nbformat_minor": 0,
  "metadata": {
    "kernelspec": {
      "display_name": "Python 3",
      "language": "python",
      "name": "python3"
    },
    "language_info": {
      "codemirror_mode": {
        "name": "ipython",
        "version": 3
      },
      "file_extension": ".py",
      "mimetype": "text/x-python",
      "name": "python",
      "nbconvert_exporter": "python",
      "pygments_lexer": "ipython3",
      "version": "3.7.0"
    },
    "colab": {
      "name": "Day_79_L1_Assignment_Barrett.ipynb",
      "provenance": [],
      "collapsed_sections": []
    },
    "accelerator": "GPU"
  },
  "cells": [
    {
      "cell_type": "markdown",
      "metadata": {
        "id": "DuT0K8LDKm45"
      },
      "source": [
        "## Convolutional Neural Networks\n",
        "\n",
        "In this assignment, we will learn about convolutional neural networks. We will create a CNN and learn to classify image data."
      ]
    },
    {
      "cell_type": "code",
      "metadata": {
        "colab": {
          "base_uri": "https://localhost:8080/"
        },
        "id": "wzYVqJa9V_rQ",
        "outputId": "03416dbd-5806-4967-8d74-391855dbc881"
      },
      "source": [
        "from google.colab import drive\n",
        "drive.mount('/content/drive')"
      ],
      "execution_count": 1,
      "outputs": [
        {
          "output_type": "stream",
          "text": [
            "Drive already mounted at /content/drive; to attempt to forcibly remount, call drive.mount(\"/content/drive\", force_remount=True).\n"
          ],
          "name": "stdout"
        }
      ]
    },
    {
      "cell_type": "code",
      "metadata": {
        "id": "6swIc-rGKm47"
      },
      "source": [
        "import numpy as np\n",
        "import pandas as pd\n",
        "import matplotlib.pyplot as plt\n",
        "import itertools\n",
        "from sklearn.metrics import confusion_matrix\n",
        "\n",
        "from tensorflow.keras.preprocessing.image import ImageDataGenerator\n",
        "from tensorflow.keras.models import Sequential\n",
        "from tensorflow.keras.layers import Conv2D, MaxPooling2D\n",
        "from tensorflow.keras.layers import Activation, Dropout, Flatten, Dense, BatchNormalization \n",
        "from tensorflow.keras import backend as K\n",
        "from tensorflow.keras.models import Model"
      ],
      "execution_count": 2,
      "outputs": []
    },
    {
      "cell_type": "code",
      "metadata": {
        "id": "r30C_ptBw6xm"
      },
      "source": [
        "def plot_confusion_matrix(cm, classes,\n",
        "                        normalize=False,\n",
        "                        title='Confusion matrix',\n",
        "                        cmap=plt.cm.Reds):\n",
        "    \"\"\"\n",
        "    This function prints and plots the confusion matrix.\n",
        "    Normalization can be applied by setting `normalize=True`.\n",
        "    \"\"\"\n",
        "    plt.imshow(cm, interpolation='nearest', cmap=cmap)\n",
        "    plt.title(title)\n",
        "    plt.colorbar()\n",
        "    tick_marks = np.arange(len(classes))\n",
        "    plt.xticks(tick_marks, classes, rotation=45)\n",
        "    plt.yticks(tick_marks, classes)\n",
        "\n",
        "    if normalize:\n",
        "        cm = cm.astype('float') / cm.sum(axis=1)[:, np.newaxis]\n",
        "        print(\"Normalized confusion matrix\")\n",
        "    else:\n",
        "        print('Confusion matrix, without normalization')\n",
        "\n",
        "    print(cm)\n",
        "\n",
        "    thresh = cm.max() / 2.\n",
        "    for i, j in itertools.product(range(cm.shape[0]), range(cm.shape[1])):\n",
        "        plt.text(j, i, cm[i, j],\n",
        "            horizontalalignment=\"center\",\n",
        "            color=\"black\")\n",
        "\n",
        "    plt.tight_layout()\n",
        "    plt.ylabel('True label')\n",
        "    plt.xlabel('Predicted label')"
      ],
      "execution_count": 3,
      "outputs": []
    },
    {
      "cell_type": "markdown",
      "metadata": {
        "id": "tMD7Nr8hKm47"
      },
      "source": [
        "In this lecture, we will use the image data generator to classify our data. The data is loaded below:"
      ]
    },
    {
      "cell_type": "code",
      "metadata": {
        "id": "WxuDmAQlKm4-"
      },
      "source": [
        "train_data_dir = '/content/drive/MyDrive/Thinkful/DL/dogs-vs-cats-processed/train/'\n",
        "validation_data_dir = '/content/drive/MyDrive/Thinkful/DL/dogs-vs-cats-processed/test/'\n",
        "\n",
        "img_width, img_height = 150, 150\n",
        "batch_size = 80"
      ],
      "execution_count": 4,
      "outputs": []
    },
    {
      "cell_type": "code",
      "metadata": {
        "id": "SCfRV8VGKm5A"
      },
      "source": [
        "#This block of code is used to ensure the input shape is correct\n",
        "\n",
        "if K.image_data_format() == 'channels_first':\n",
        "    input_shape = (3, img_width, img_height)\n",
        "else:\n",
        "    input_shape = (img_width, img_height, 3)"
      ],
      "execution_count": 5,
      "outputs": []
    },
    {
      "cell_type": "markdown",
      "metadata": {
        "id": "T4x9el54Km5C"
      },
      "source": [
        "Define a train data generator with shear range of 0.3, zoom range of 0.1 and rescale to 1./255 (note that we must make 1 a float to produce a correct fraction). Use the ImageDataGenerator function."
      ]
    },
    {
      "cell_type": "code",
      "metadata": {
        "id": "EfKBxGZpKm5D"
      },
      "source": [
        "# Answer below:\n",
        "train_datagen = ImageDataGenerator(\n",
        "    rescale=1./255,\n",
        "    shear_range=0.3,\n",
        "    zoom_range=0.1,\n",
        "    horizontal_flip=True\n",
        ")"
      ],
      "execution_count": 6,
      "outputs": []
    },
    {
      "cell_type": "markdown",
      "metadata": {
        "id": "5oQJZOxNKm5E"
      },
      "source": [
        "Define a test data generator that only rescales to 1./255. Use the ImageDataGenerator function."
      ]
    },
    {
      "cell_type": "code",
      "metadata": {
        "id": "_U3XQZVLKm5F"
      },
      "source": [
        "# Answer below:\n",
        "test_datagen = ImageDataGenerator(rescale=1. /255)"
      ],
      "execution_count": 7,
      "outputs": []
    },
    {
      "cell_type": "markdown",
      "metadata": {
        "id": "S0NCOxrCKm5G"
      },
      "source": [
        "The train generator and the test generator are defined below:"
      ]
    },
    {
      "cell_type": "code",
      "metadata": {
        "id": "zDgonF6uKm5H",
        "colab": {
          "base_uri": "https://localhost:8080/"
        },
        "outputId": "a72db8a3-6434-4861-c76b-f3b37bf69882"
      },
      "source": [
        "train_generator = train_datagen.flow_from_directory(\n",
        "    train_data_dir,\n",
        "    target_size=(img_width, img_height),\n",
        "    batch_size=batch_size,\n",
        "    class_mode='binary')\n",
        "\n",
        "validation_generator = test_datagen.flow_from_directory(\n",
        "    validation_data_dir,\n",
        "    target_size=(img_width, img_height),\n",
        "    batch_size=batch_size,\n",
        "    shuffle=False,\n",
        "    class_mode='binary')"
      ],
      "execution_count": 8,
      "outputs": [
        {
          "output_type": "stream",
          "text": [
            "Found 2000 images belonging to 2 classes.\n",
            "Found 802 images belonging to 2 classes.\n"
          ],
          "name": "stdout"
        }
      ]
    },
    {
      "cell_type": "markdown",
      "metadata": {
        "id": "0lq09r31Km5K"
      },
      "source": [
        "We'll start with a simple model. In CNNs, we first convolve the to extract features and then we add the dense layers. \n",
        "\n",
        "Create a model with one layer of convolution of size 64, one layer of activation, one layer of max pooling with pool size (2,2) and then one flattening layer, one dense layer of unit size 64 with a ReLU activation and one dense output layer. The output layer should have a sigmoid activation."
      ]
    },
    {
      "cell_type": "code",
      "metadata": {
        "id": "IJqkMx3tKm5K"
      },
      "source": [
        "# Answer below:\n",
        "base_model = Sequential()\n",
        "\n",
        "base_model.add(Conv2D(64, (3,3), input_shape=input_shape)) #, strides=\n",
        "base_model.add(Activation('relu'))\n",
        "base_model.add(MaxPooling2D(pool_size=(2,2)))\n",
        "\n",
        "base_model.add(Flatten())\n",
        "\n",
        "base_model.add(Dense(64))\n",
        "base_model.add(Activation('relu'))\n",
        "base_model.add(Dropout(0.5))\n",
        "base_model.add(Dense(1, activation='sigmoid'))"
      ],
      "execution_count": 9,
      "outputs": []
    },
    {
      "cell_type": "markdown",
      "metadata": {
        "id": "hEBJ5GXcKm5M"
      },
      "source": [
        "Compile the model using RMSprop."
      ]
    },
    {
      "cell_type": "code",
      "metadata": {
        "id": "85uyZ1yTKm5M"
      },
      "source": [
        "# Answer below:\n",
        "base_model.compile(loss='binary_crossentropy', optimizer='rmsprop', metrics=['accuracy'])"
      ],
      "execution_count": 10,
      "outputs": []
    },
    {
      "cell_type": "markdown",
      "metadata": {
        "id": "uIKSpMe-Km5O"
      },
      "source": [
        "Fit the model using a fit generator. Use 50 epochs, 25 training steps and ~~15~~ 10 validation steps"
      ]
    },
    {
      "cell_type": "code",
      "metadata": {
        "id": "NFfKyhLzKm5O"
      },
      "source": [
        "# Answer below:\n",
        "nb_train_samples = 2000\n",
        "nb_validation_samples = 800\n",
        "batch_size = 80 "
      ],
      "execution_count": 11,
      "outputs": []
    },
    {
      "cell_type": "code",
      "metadata": {
        "colab": {
          "base_uri": "https://localhost:8080/"
        },
        "id": "0rMoBFR4fJdS",
        "outputId": "84689fb1-b0f7-4aed-d850-6d3b0a217a37"
      },
      "source": [
        "base_model_history = base_model.fit(\n",
        "    train_generator,\n",
        "    steps_per_epoch= nb_train_samples // batch_size,\n",
        "    epochs = 50,\n",
        "    validation_data = validation_generator,\n",
        "    validation_steps = nb_validation_samples // batch_size\n",
        "    )"
      ],
      "execution_count": 12,
      "outputs": [
        {
          "output_type": "stream",
          "text": [
            "Epoch 1/50\n",
            "25/25 [==============================] - 24s 857ms/step - loss: 16.8931 - accuracy: 0.5297 - val_loss: 1.4413 - val_accuracy: 0.5013\n",
            "Epoch 2/50\n",
            "25/25 [==============================] - 21s 839ms/step - loss: 0.8048 - accuracy: 0.4905 - val_loss: 0.6990 - val_accuracy: 0.4950\n",
            "Epoch 3/50\n",
            "25/25 [==============================] - 21s 856ms/step - loss: 0.6882 - accuracy: 0.5192 - val_loss: 0.6846 - val_accuracy: 0.5063\n",
            "Epoch 4/50\n",
            "25/25 [==============================] - 21s 859ms/step - loss: 0.7046 - accuracy: 0.5339 - val_loss: 0.6690 - val_accuracy: 0.6050\n",
            "Epoch 5/50\n",
            "25/25 [==============================] - 21s 846ms/step - loss: 0.6983 - accuracy: 0.5289 - val_loss: 0.6610 - val_accuracy: 0.5863\n",
            "Epoch 6/50\n",
            "25/25 [==============================] - 21s 840ms/step - loss: 0.6827 - accuracy: 0.5633 - val_loss: 0.6871 - val_accuracy: 0.5587\n",
            "Epoch 7/50\n",
            "25/25 [==============================] - 21s 840ms/step - loss: 0.6563 - accuracy: 0.5881 - val_loss: 0.6443 - val_accuracy: 0.6325\n",
            "Epoch 8/50\n",
            "25/25 [==============================] - 21s 839ms/step - loss: 0.6457 - accuracy: 0.6263 - val_loss: 0.6503 - val_accuracy: 0.6087\n",
            "Epoch 9/50\n",
            "25/25 [==============================] - 21s 843ms/step - loss: 0.6143 - accuracy: 0.6577 - val_loss: 0.5947 - val_accuracy: 0.6875\n",
            "Epoch 10/50\n",
            "25/25 [==============================] - 22s 875ms/step - loss: 0.6113 - accuracy: 0.6857 - val_loss: 0.5971 - val_accuracy: 0.7013\n",
            "Epoch 11/50\n",
            "25/25 [==============================] - 21s 853ms/step - loss: 0.6364 - accuracy: 0.6630 - val_loss: 0.6382 - val_accuracy: 0.6388\n",
            "Epoch 12/50\n",
            "25/25 [==============================] - 21s 847ms/step - loss: 0.5693 - accuracy: 0.6918 - val_loss: 0.6779 - val_accuracy: 0.6288\n",
            "Epoch 13/50\n",
            "25/25 [==============================] - 21s 840ms/step - loss: 0.5802 - accuracy: 0.6888 - val_loss: 0.6530 - val_accuracy: 0.6263\n",
            "Epoch 14/50\n",
            "25/25 [==============================] - 21s 841ms/step - loss: 0.5604 - accuracy: 0.7242 - val_loss: 0.5782 - val_accuracy: 0.7088\n",
            "Epoch 15/50\n",
            "25/25 [==============================] - 21s 847ms/step - loss: 0.5224 - accuracy: 0.7288 - val_loss: 0.6027 - val_accuracy: 0.6787\n",
            "Epoch 16/50\n",
            "25/25 [==============================] - 21s 849ms/step - loss: 0.5048 - accuracy: 0.7339 - val_loss: 0.5926 - val_accuracy: 0.6837\n",
            "Epoch 17/50\n",
            "25/25 [==============================] - 21s 844ms/step - loss: 0.5316 - accuracy: 0.7314 - val_loss: 0.5961 - val_accuracy: 0.7025\n",
            "Epoch 18/50\n",
            "25/25 [==============================] - 21s 858ms/step - loss: 0.4924 - accuracy: 0.7560 - val_loss: 0.5942 - val_accuracy: 0.7025\n",
            "Epoch 19/50\n",
            "25/25 [==============================] - 21s 844ms/step - loss: 0.4643 - accuracy: 0.7849 - val_loss: 0.6233 - val_accuracy: 0.7088\n",
            "Epoch 20/50\n",
            "25/25 [==============================] - 21s 844ms/step - loss: 0.4719 - accuracy: 0.7756 - val_loss: 0.6182 - val_accuracy: 0.6950\n",
            "Epoch 21/50\n",
            "25/25 [==============================] - 21s 839ms/step - loss: 0.4480 - accuracy: 0.7858 - val_loss: 0.6524 - val_accuracy: 0.6900\n",
            "Epoch 22/50\n",
            "25/25 [==============================] - 21s 852ms/step - loss: 0.4544 - accuracy: 0.7820 - val_loss: 0.6114 - val_accuracy: 0.6975\n",
            "Epoch 23/50\n",
            "25/25 [==============================] - 21s 850ms/step - loss: 0.4319 - accuracy: 0.7850 - val_loss: 0.6488 - val_accuracy: 0.6975\n",
            "Epoch 24/50\n",
            "25/25 [==============================] - 22s 873ms/step - loss: 0.4460 - accuracy: 0.7855 - val_loss: 0.6722 - val_accuracy: 0.6750\n",
            "Epoch 25/50\n",
            "25/25 [==============================] - 21s 852ms/step - loss: 0.4061 - accuracy: 0.7993 - val_loss: 1.0052 - val_accuracy: 0.6062\n",
            "Epoch 26/50\n",
            "25/25 [==============================] - 21s 840ms/step - loss: 0.5093 - accuracy: 0.7599 - val_loss: 0.7601 - val_accuracy: 0.6825\n",
            "Epoch 27/50\n",
            "25/25 [==============================] - 21s 844ms/step - loss: 0.4322 - accuracy: 0.7949 - val_loss: 0.7183 - val_accuracy: 0.7188\n",
            "Epoch 28/50\n",
            "25/25 [==============================] - 21s 841ms/step - loss: 0.3848 - accuracy: 0.8134 - val_loss: 0.7978 - val_accuracy: 0.7000\n",
            "Epoch 29/50\n",
            "25/25 [==============================] - 21s 845ms/step - loss: 0.4203 - accuracy: 0.8059 - val_loss: 0.7570 - val_accuracy: 0.6850\n",
            "Epoch 30/50\n",
            "25/25 [==============================] - 21s 847ms/step - loss: 0.3807 - accuracy: 0.8309 - val_loss: 0.7111 - val_accuracy: 0.7250\n",
            "Epoch 31/50\n",
            "25/25 [==============================] - 21s 842ms/step - loss: 0.4121 - accuracy: 0.8063 - val_loss: 0.7260 - val_accuracy: 0.6963\n",
            "Epoch 32/50\n",
            "25/25 [==============================] - 21s 862ms/step - loss: 0.3579 - accuracy: 0.8391 - val_loss: 0.7488 - val_accuracy: 0.7138\n",
            "Epoch 33/50\n",
            "25/25 [==============================] - 21s 845ms/step - loss: 0.3519 - accuracy: 0.8468 - val_loss: 0.6774 - val_accuracy: 0.7337\n",
            "Epoch 34/50\n",
            "25/25 [==============================] - 21s 845ms/step - loss: 0.3415 - accuracy: 0.8496 - val_loss: 0.8197 - val_accuracy: 0.7025\n",
            "Epoch 35/50\n",
            "25/25 [==============================] - 21s 846ms/step - loss: 0.3422 - accuracy: 0.8604 - val_loss: 0.8158 - val_accuracy: 0.7013\n",
            "Epoch 36/50\n",
            "25/25 [==============================] - 21s 844ms/step - loss: 0.3384 - accuracy: 0.8576 - val_loss: 0.8433 - val_accuracy: 0.6988\n",
            "Epoch 37/50\n",
            "25/25 [==============================] - 21s 849ms/step - loss: 0.3386 - accuracy: 0.8620 - val_loss: 0.7741 - val_accuracy: 0.7013\n",
            "Epoch 38/50\n",
            "25/25 [==============================] - 21s 848ms/step - loss: 0.3253 - accuracy: 0.8576 - val_loss: 0.9145 - val_accuracy: 0.6712\n",
            "Epoch 39/50\n",
            "25/25 [==============================] - 22s 884ms/step - loss: 0.3260 - accuracy: 0.8528 - val_loss: 0.8647 - val_accuracy: 0.6963\n",
            "Epoch 40/50\n",
            "25/25 [==============================] - 21s 845ms/step - loss: 0.3209 - accuracy: 0.8592 - val_loss: 0.8518 - val_accuracy: 0.7050\n",
            "Epoch 41/50\n",
            "25/25 [==============================] - 21s 844ms/step - loss: 0.3237 - accuracy: 0.8615 - val_loss: 1.0305 - val_accuracy: 0.6913\n",
            "Epoch 42/50\n",
            "25/25 [==============================] - 21s 846ms/step - loss: 0.3439 - accuracy: 0.8378 - val_loss: 0.8538 - val_accuracy: 0.7150\n",
            "Epoch 43/50\n",
            "25/25 [==============================] - 21s 847ms/step - loss: 0.2916 - accuracy: 0.8745 - val_loss: 0.8563 - val_accuracy: 0.7138\n",
            "Epoch 44/50\n",
            "25/25 [==============================] - 21s 839ms/step - loss: 0.3134 - accuracy: 0.8707 - val_loss: 0.8923 - val_accuracy: 0.7175\n",
            "Epoch 45/50\n",
            "25/25 [==============================] - 21s 849ms/step - loss: 0.2790 - accuracy: 0.8804 - val_loss: 1.0056 - val_accuracy: 0.7200\n",
            "Epoch 46/50\n",
            "25/25 [==============================] - 21s 840ms/step - loss: 0.2980 - accuracy: 0.8825 - val_loss: 0.8531 - val_accuracy: 0.6975\n",
            "Epoch 47/50\n",
            "25/25 [==============================] - 22s 869ms/step - loss: 0.2730 - accuracy: 0.8753 - val_loss: 1.0633 - val_accuracy: 0.7250\n",
            "Epoch 48/50\n",
            "25/25 [==============================] - 21s 848ms/step - loss: 0.2693 - accuracy: 0.8853 - val_loss: 1.2366 - val_accuracy: 0.7075\n",
            "Epoch 49/50\n",
            "25/25 [==============================] - 21s 845ms/step - loss: 0.2831 - accuracy: 0.8873 - val_loss: 1.0056 - val_accuracy: 0.7188\n",
            "Epoch 50/50\n",
            "25/25 [==============================] - 21s 851ms/step - loss: 0.2479 - accuracy: 0.8887 - val_loss: 0.9052 - val_accuracy: 0.7175\n"
          ],
          "name": "stdout"
        }
      ]
    },
    {
      "cell_type": "code",
      "metadata": {
        "id": "dJVOFYER1u3N"
      },
      "source": [
        "y_true = validation_generator.classes"
      ],
      "execution_count": 14,
      "outputs": []
    },
    {
      "cell_type": "code",
      "metadata": {
        "id": "o2ygvVR-v-vg"
      },
      "source": [
        "base_model_y_pred = (base_model.predict(validation_generator, 10) > 0.5).flatten().astype(\"int32\")"
      ],
      "execution_count": 15,
      "outputs": []
    },
    {
      "cell_type": "code",
      "metadata": {
        "id": "vjPAxQK7wOKl"
      },
      "source": [
        "base_model_cm = confusion_matrix(y_true, base_model_y_pred)"
      ],
      "execution_count": 16,
      "outputs": []
    },
    {
      "cell_type": "code",
      "metadata": {
        "colab": {
          "base_uri": "https://localhost:8080/",
          "height": 363
        },
        "id": "nY_79-OsxIPJ",
        "outputId": "f5f3db84-9dd7-4877-fcb1-692622c7dabc"
      },
      "source": [
        "plot_confusion_matrix(base_model_cm, [0,1])"
      ],
      "execution_count": 17,
      "outputs": [
        {
          "output_type": "stream",
          "text": [
            "Confusion matrix, without normalization\n",
            "[[269 132]\n",
            " [ 95 306]]\n"
          ],
          "name": "stdout"
        },
        {
          "output_type": "display_data",
          "data": {
            "image/png": "[encoded data removed]",
            "text/plain": [
              "<Figure size 432x288 with 2 Axes>"
            ]
          },
          "metadata": {
            "tags": [],
            "needs_background": "light"
          }
        }
      ]
    },
    {
      "cell_type": "code",
      "metadata": {
        "colab": {
          "base_uri": "https://localhost:8080/"
        },
        "id": "PAlfODdD2zbz",
        "outputId": "02e67f19-f7c1-47ca-9c6b-612048a8baf0"
      },
      "source": [
        "base_model_scores = {k:v[-1] for k,v in base_model_history.history.items()}\n",
        "base_model_scores"
      ],
      "execution_count": 25,
      "outputs": [
        {
          "output_type": "execute_result",
          "data": {
            "text/plain": [
              "{'accuracy': 0.8830000162124634,\n",
              " 'loss': 0.26688677072525024,\n",
              " 'val_accuracy': 0.7174999713897705,\n",
              " 'val_loss': 0.9051521420478821}"
            ]
          },
          "metadata": {
            "tags": []
          },
          "execution_count": 25
        }
      ]
    },
    {
      "cell_type": "markdown",
      "metadata": {
        "id": "QAZ1IeybKm5Q"
      },
      "source": [
        "Create a new model by adding an additional group of convolution, activation and max pooling layers before the flatten layer. Make the convolution layer of unit size 32. Keep everything else the same."
      ]
    },
    {
      "cell_type": "code",
      "metadata": {
        "id": "651SH4QGKm5Q"
      },
      "source": [
        "# Answer below:\n",
        "model_dbl_conv = Sequential()\n",
        "\n",
        "model_dbl_conv.add(Conv2D(64, (3,3), input_shape=input_shape))\n",
        "model_dbl_conv.add(Activation('relu'))\n",
        "model_dbl_conv.add(MaxPooling2D(pool_size=(2,2)))\n",
        "\n",
        "model_dbl_conv.add(Conv2D(32, (3,3)))\n",
        "model_dbl_conv.add(Activation('relu'))\n",
        "model_dbl_conv.add(MaxPooling2D(pool_size=(2,2)))\n",
        "\n",
        "model_dbl_conv.add(Flatten())\n",
        "\n",
        "model_dbl_conv.add(Dense(64))\n",
        "model_dbl_conv.add(Activation('relu'))\n",
        "model_dbl_conv.add(Dropout(0.5))\n",
        "model_dbl_conv.add(Dense(1, activation='sigmoid'))"
      ],
      "execution_count": 28,
      "outputs": []
    },
    {
      "cell_type": "markdown",
      "metadata": {
        "id": "fHfpSfgyKm5S"
      },
      "source": [
        "Fit and compile the model in the same way you did with the previous model. How did the results improve?"
      ]
    },
    {
      "cell_type": "code",
      "metadata": {
        "id": "k5nPg_LmKm5S",
        "colab": {
          "base_uri": "https://localhost:8080/"
        },
        "outputId": "4dab430f-985c-4184-b4b1-00de9f82b7b8"
      },
      "source": [
        "# Answer below:\n",
        "model_dbl_conv.compile(loss='binary_crossentropy', optimizer='rmsprop', metrics=['accuracy'])\n",
        "model_dbl_conv_history = model_dbl_conv.fit(\n",
        "    train_generator,\n",
        "    steps_per_epoch= nb_train_samples // batch_size,\n",
        "    epochs = 50,\n",
        "    validation_data = validation_generator,\n",
        "    validation_steps = nb_validation_samples // batch_size\n",
        "    )"
      ],
      "execution_count": 29,
      "outputs": [
        {
          "output_type": "stream",
          "text": [
            "Epoch 1/50\n",
            "25/25 [==============================] - 23s 860ms/step - loss: 1.4435 - accuracy: 0.5014 - val_loss: 0.6885 - val_accuracy: 0.5650\n",
            "Epoch 2/50\n",
            "25/25 [==============================] - 21s 849ms/step - loss: 0.6881 - accuracy: 0.5487 - val_loss: 0.6669 - val_accuracy: 0.6125\n",
            "Epoch 3/50\n",
            "25/25 [==============================] - 21s 849ms/step - loss: 0.6823 - accuracy: 0.5808 - val_loss: 0.6489 - val_accuracy: 0.6075\n",
            "Epoch 4/50\n",
            "25/25 [==============================] - 21s 848ms/step - loss: 0.6726 - accuracy: 0.6292 - val_loss: 0.6277 - val_accuracy: 0.6825\n",
            "Epoch 5/50\n",
            "25/25 [==============================] - 21s 846ms/step - loss: 0.6300 - accuracy: 0.6630 - val_loss: 0.6614 - val_accuracy: 0.6363\n",
            "Epoch 6/50\n",
            "25/25 [==============================] - 22s 873ms/step - loss: 0.6135 - accuracy: 0.6720 - val_loss: 0.5975 - val_accuracy: 0.6637\n",
            "Epoch 7/50\n",
            "25/25 [==============================] - 22s 882ms/step - loss: 0.6221 - accuracy: 0.6692 - val_loss: 0.6500 - val_accuracy: 0.6200\n",
            "Epoch 8/50\n",
            "25/25 [==============================] - 21s 858ms/step - loss: 0.6017 - accuracy: 0.6899 - val_loss: 0.5899 - val_accuracy: 0.6825\n",
            "Epoch 9/50\n",
            "25/25 [==============================] - 21s 863ms/step - loss: 0.5772 - accuracy: 0.6972 - val_loss: 0.5633 - val_accuracy: 0.7175\n",
            "Epoch 10/50\n",
            "25/25 [==============================] - 21s 861ms/step - loss: 0.5360 - accuracy: 0.7428 - val_loss: 0.5677 - val_accuracy: 0.7013\n",
            "Epoch 11/50\n",
            "25/25 [==============================] - 22s 869ms/step - loss: 0.5416 - accuracy: 0.7392 - val_loss: 0.5736 - val_accuracy: 0.7088\n",
            "Epoch 12/50\n",
            "25/25 [==============================] - 22s 862ms/step - loss: 0.5347 - accuracy: 0.7296 - val_loss: 0.5674 - val_accuracy: 0.7175\n",
            "Epoch 13/50\n",
            "25/25 [==============================] - 21s 856ms/step - loss: 0.5000 - accuracy: 0.7741 - val_loss: 0.5693 - val_accuracy: 0.7025\n",
            "Epoch 14/50\n",
            "25/25 [==============================] - 21s 856ms/step - loss: 0.4859 - accuracy: 0.7741 - val_loss: 0.5548 - val_accuracy: 0.7312\n",
            "Epoch 15/50\n",
            "25/25 [==============================] - 22s 901ms/step - loss: 0.4585 - accuracy: 0.7959 - val_loss: 0.5704 - val_accuracy: 0.7375\n",
            "Epoch 16/50\n",
            "25/25 [==============================] - 21s 855ms/step - loss: 0.4763 - accuracy: 0.7739 - val_loss: 0.5506 - val_accuracy: 0.7250\n",
            "Epoch 17/50\n",
            "25/25 [==============================] - 21s 856ms/step - loss: 0.4587 - accuracy: 0.7988 - val_loss: 0.5571 - val_accuracy: 0.7350\n",
            "Epoch 18/50\n",
            "25/25 [==============================] - 21s 860ms/step - loss: 0.4263 - accuracy: 0.8129 - val_loss: 0.5339 - val_accuracy: 0.7525\n",
            "Epoch 19/50\n",
            "25/25 [==============================] - 21s 854ms/step - loss: 0.4194 - accuracy: 0.8147 - val_loss: 0.5918 - val_accuracy: 0.6950\n",
            "Epoch 20/50\n",
            "25/25 [==============================] - 21s 857ms/step - loss: 0.4537 - accuracy: 0.7913 - val_loss: 0.6078 - val_accuracy: 0.7325\n",
            "Epoch 21/50\n",
            "25/25 [==============================] - 22s 871ms/step - loss: 0.4170 - accuracy: 0.8066 - val_loss: 0.5347 - val_accuracy: 0.7425\n",
            "Epoch 22/50\n",
            "25/25 [==============================] - 22s 870ms/step - loss: 0.3843 - accuracy: 0.8261 - val_loss: 0.5422 - val_accuracy: 0.7350\n",
            "Epoch 23/50\n",
            "25/25 [==============================] - 21s 859ms/step - loss: 0.3757 - accuracy: 0.8442 - val_loss: 0.6086 - val_accuracy: 0.7075\n",
            "Epoch 24/50\n",
            "25/25 [==============================] - 21s 851ms/step - loss: 0.3906 - accuracy: 0.8332 - val_loss: 0.6244 - val_accuracy: 0.7287\n",
            "Epoch 25/50\n",
            "25/25 [==============================] - 21s 863ms/step - loss: 0.3492 - accuracy: 0.8418 - val_loss: 0.6168 - val_accuracy: 0.7312\n",
            "Epoch 26/50\n",
            "25/25 [==============================] - 21s 859ms/step - loss: 0.3758 - accuracy: 0.8184 - val_loss: 0.5594 - val_accuracy: 0.7325\n",
            "Epoch 27/50\n",
            "25/25 [==============================] - 21s 862ms/step - loss: 0.3376 - accuracy: 0.8549 - val_loss: 0.6319 - val_accuracy: 0.7150\n",
            "Epoch 28/50\n",
            "25/25 [==============================] - 21s 859ms/step - loss: 0.3181 - accuracy: 0.8736 - val_loss: 0.6232 - val_accuracy: 0.7312\n",
            "Epoch 29/50\n",
            "25/25 [==============================] - 22s 896ms/step - loss: 0.3021 - accuracy: 0.8690 - val_loss: 0.6043 - val_accuracy: 0.7412\n",
            "Epoch 30/50\n",
            "25/25 [==============================] - 21s 860ms/step - loss: 0.3251 - accuracy: 0.8632 - val_loss: 0.7043 - val_accuracy: 0.7138\n",
            "Epoch 31/50\n",
            "25/25 [==============================] - 21s 861ms/step - loss: 0.3257 - accuracy: 0.8620 - val_loss: 0.6056 - val_accuracy: 0.7538\n",
            "Epoch 32/50\n",
            "25/25 [==============================] - 22s 867ms/step - loss: 0.2921 - accuracy: 0.8750 - val_loss: 0.5998 - val_accuracy: 0.7412\n",
            "Epoch 33/50\n",
            "25/25 [==============================] - 22s 864ms/step - loss: 0.2795 - accuracy: 0.8726 - val_loss: 0.6132 - val_accuracy: 0.7337\n",
            "Epoch 34/50\n",
            "25/25 [==============================] - 22s 874ms/step - loss: 0.2766 - accuracy: 0.8816 - val_loss: 0.7285 - val_accuracy: 0.7150\n",
            "Epoch 35/50\n",
            "25/25 [==============================] - 22s 897ms/step - loss: 0.2836 - accuracy: 0.8775 - val_loss: 0.7095 - val_accuracy: 0.7287\n",
            "Epoch 36/50\n",
            "25/25 [==============================] - 23s 904ms/step - loss: 0.2646 - accuracy: 0.8796 - val_loss: 0.6570 - val_accuracy: 0.7375\n",
            "Epoch 37/50\n",
            "25/25 [==============================] - 23s 906ms/step - loss: 0.2605 - accuracy: 0.8972 - val_loss: 0.6566 - val_accuracy: 0.7487\n",
            "Epoch 38/50\n",
            "25/25 [==============================] - 22s 896ms/step - loss: 0.2626 - accuracy: 0.8809 - val_loss: 0.6901 - val_accuracy: 0.7400\n",
            "Epoch 39/50\n",
            "25/25 [==============================] - 23s 908ms/step - loss: 0.2689 - accuracy: 0.8844 - val_loss: 0.6999 - val_accuracy: 0.7362\n",
            "Epoch 40/50\n",
            "25/25 [==============================] - 23s 902ms/step - loss: 0.2376 - accuracy: 0.9055 - val_loss: 0.7381 - val_accuracy: 0.7425\n",
            "Epoch 41/50\n",
            "25/25 [==============================] - 22s 894ms/step - loss: 0.2519 - accuracy: 0.9091 - val_loss: 0.6849 - val_accuracy: 0.7362\n",
            "Epoch 42/50\n",
            "25/25 [==============================] - 22s 891ms/step - loss: 0.2022 - accuracy: 0.9143 - val_loss: 0.7264 - val_accuracy: 0.7538\n",
            "Epoch 43/50\n",
            "25/25 [==============================] - 24s 947ms/step - loss: 0.2474 - accuracy: 0.8961 - val_loss: 0.8518 - val_accuracy: 0.7275\n",
            "Epoch 44/50\n",
            "25/25 [==============================] - 23s 907ms/step - loss: 0.2205 - accuracy: 0.9131 - val_loss: 0.6833 - val_accuracy: 0.7300\n",
            "Epoch 45/50\n",
            "25/25 [==============================] - 23s 907ms/step - loss: 0.2240 - accuracy: 0.9128 - val_loss: 0.7728 - val_accuracy: 0.7262\n",
            "Epoch 46/50\n",
            "25/25 [==============================] - 23s 908ms/step - loss: 0.1853 - accuracy: 0.9293 - val_loss: 0.9634 - val_accuracy: 0.7075\n",
            "Epoch 47/50\n",
            "25/25 [==============================] - 23s 909ms/step - loss: 0.2111 - accuracy: 0.9176 - val_loss: 0.7874 - val_accuracy: 0.7275\n",
            "Epoch 48/50\n",
            "25/25 [==============================] - 23s 905ms/step - loss: 0.1831 - accuracy: 0.9275 - val_loss: 0.7969 - val_accuracy: 0.7500\n",
            "Epoch 49/50\n",
            "25/25 [==============================] - 23s 918ms/step - loss: 0.1767 - accuracy: 0.9366 - val_loss: 0.9613 - val_accuracy: 0.7500\n",
            "Epoch 50/50\n",
            "25/25 [==============================] - 23s 904ms/step - loss: 0.1759 - accuracy: 0.9210 - val_loss: 0.8870 - val_accuracy: 0.7337\n"
          ],
          "name": "stdout"
        }
      ]
    },
    {
      "cell_type": "code",
      "metadata": {
        "id": "r0kinNGU3paH"
      },
      "source": [
        "model_dbl_conv_y_pred = (model_dbl_conv.predict(validation_generator, 10) > 0.5).flatten().astype(\"int32\")"
      ],
      "execution_count": 30,
      "outputs": []
    },
    {
      "cell_type": "code",
      "metadata": {
        "colab": {
          "base_uri": "https://localhost:8080/",
          "height": 363
        },
        "id": "NiuFGfdE3paI",
        "outputId": "6d55726b-d5a0-42ae-d68e-c841075f0a77"
      },
      "source": [
        "plot_confusion_matrix(confusion_matrix(y_true, model_dbl_conv_y_pred), [0,1])"
      ],
      "execution_count": 31,
      "outputs": [
        {
          "output_type": "stream",
          "text": [
            "Confusion matrix, without normalization\n",
            "[[253 148]\n",
            " [ 66 335]]\n"
          ],
          "name": "stdout"
        },
        {
          "output_type": "display_data",
          "data": {
            "image/png": "[encoded data removed]",
            "text/plain": [
              "<Figure size 432x288 with 2 Axes>"
            ]
          },
          "metadata": {
            "tags": [],
            "needs_background": "light"
          }
        }
      ]
    },
    {
      "cell_type": "code",
      "metadata": {
        "colab": {
          "base_uri": "https://localhost:8080/"
        },
        "id": "zKx-I97w3paJ",
        "outputId": "bb480a0c-42ba-48cd-9814-375e5301e0e1"
      },
      "source": [
        "model_dbl_conv_scores = {k:v[-1] for k,v in model_dbl_conv_history.history.items()}\n",
        "model_dbl_conv_scores"
      ],
      "execution_count": 32,
      "outputs": [
        {
          "output_type": "execute_result",
          "data": {
            "text/plain": [
              "{'accuracy': 0.9154999852180481,\n",
              " 'loss': 0.19508028030395508,\n",
              " 'val_accuracy': 0.7337499856948853,\n",
              " 'val_loss': 0.8870292901992798}"
            ]
          },
          "metadata": {
            "tags": []
          },
          "execution_count": 32
        }
      ]
    },
    {
      "cell_type": "markdown",
      "metadata": {
        "id": "LgKv1_tCKm5U"
      },
      "source": [
        "Create a new model based on the model above. Add an additional dense layer of size 64 with a ReLU activation after the flatten layer."
      ]
    },
    {
      "cell_type": "code",
      "metadata": {
        "id": "KlzEuIt3Km5U"
      },
      "source": [
        "# Answer below:\n",
        "model_dbl_conv_den = Sequential()\n",
        "\n",
        "model_dbl_conv_den.add(Conv2D(64, (3,3), input_shape=input_shape))\n",
        "model_dbl_conv_den.add(Activation('relu'))\n",
        "model_dbl_conv_den.add(MaxPooling2D(pool_size=(2,2)))\n",
        "\n",
        "model_dbl_conv_den.add(Conv2D(32, (3,3)))\n",
        "model_dbl_conv_den.add(Activation('relu'))\n",
        "model_dbl_conv_den.add(MaxPooling2D(pool_size=(2,2)))\n",
        "\n",
        "model_dbl_conv_den.add(Flatten())\n",
        "\n",
        "model_dbl_conv_den.add(Dense(64))\n",
        "model_dbl_conv_den.add(Activation('relu'))\n",
        "model_dbl_conv_den.add(Dense(64))\n",
        "model_dbl_conv_den.add(Activation('relu'))\n",
        "model_dbl_conv_den.add(Dropout(0.5))\n",
        "model_dbl_conv_den.add(Dense(1, activation='sigmoid'))"
      ],
      "execution_count": 33,
      "outputs": []
    },
    {
      "cell_type": "markdown",
      "metadata": {
        "id": "GMg6k7tHKm5W"
      },
      "source": [
        "Fit and compile in the same way as above. Describe the difference in performance and speed."
      ]
    },
    {
      "cell_type": "code",
      "metadata": {
        "id": "pqIEZC6YKm5W",
        "colab": {
          "base_uri": "https://localhost:8080/"
        },
        "outputId": "7d69a5d9-34fe-45d2-dd38-cdea8466efdb"
      },
      "source": [
        "# Answer below:\n",
        "model_dbl_conv_den.compile(loss='binary_crossentropy', optimizer='rmsprop', metrics=['accuracy'])\n",
        "model_dbl_conv_den_history = model_dbl_conv_den.fit(\n",
        "    train_generator,\n",
        "    steps_per_epoch= nb_train_samples // batch_size,\n",
        "    epochs = 50,\n",
        "    validation_data = validation_generator,\n",
        "    validation_steps = nb_validation_samples // batch_size\n",
        "    )"
      ],
      "execution_count": 34,
      "outputs": [
        {
          "output_type": "stream",
          "text": [
            "Epoch 1/50\n",
            "25/25 [==============================] - 24s 910ms/step - loss: 0.9495 - accuracy: 0.5152 - val_loss: 0.6831 - val_accuracy: 0.5925\n",
            "Epoch 2/50\n",
            "25/25 [==============================] - 22s 891ms/step - loss: 0.6859 - accuracy: 0.5651 - val_loss: 2.4587 - val_accuracy: 0.4988\n",
            "Epoch 3/50\n",
            "25/25 [==============================] - 22s 894ms/step - loss: 0.8500 - accuracy: 0.5753 - val_loss: 0.6773 - val_accuracy: 0.5562\n",
            "Epoch 4/50\n",
            "25/25 [==============================] - 22s 899ms/step - loss: 0.6871 - accuracy: 0.6093 - val_loss: 0.7281 - val_accuracy: 0.5163\n",
            "Epoch 5/50\n",
            "25/25 [==============================] - 22s 897ms/step - loss: 0.6590 - accuracy: 0.6334 - val_loss: 0.6362 - val_accuracy: 0.6850\n",
            "Epoch 6/50\n",
            "25/25 [==============================] - 22s 900ms/step - loss: 0.6308 - accuracy: 0.6583 - val_loss: 0.6359 - val_accuracy: 0.6388\n",
            "Epoch 7/50\n",
            "25/25 [==============================] - 23s 910ms/step - loss: 0.5978 - accuracy: 0.6855 - val_loss: 0.5796 - val_accuracy: 0.6975\n",
            "Epoch 8/50\n",
            "25/25 [==============================] - 24s 944ms/step - loss: 0.5688 - accuracy: 0.7129 - val_loss: 0.7443 - val_accuracy: 0.5913\n",
            "Epoch 9/50\n",
            "25/25 [==============================] - 23s 933ms/step - loss: 0.5637 - accuracy: 0.7025 - val_loss: 0.5613 - val_accuracy: 0.7188\n",
            "Epoch 10/50\n",
            "25/25 [==============================] - 23s 941ms/step - loss: 0.5711 - accuracy: 0.7316 - val_loss: 0.5597 - val_accuracy: 0.7150\n",
            "Epoch 11/50\n",
            "25/25 [==============================] - 23s 938ms/step - loss: 0.4770 - accuracy: 0.7838 - val_loss: 0.5621 - val_accuracy: 0.7163\n",
            "Epoch 12/50\n",
            "25/25 [==============================] - 23s 937ms/step - loss: 0.4941 - accuracy: 0.7692 - val_loss: 0.5724 - val_accuracy: 0.7075\n",
            "Epoch 13/50\n",
            "25/25 [==============================] - 24s 955ms/step - loss: 0.4624 - accuracy: 0.7814 - val_loss: 0.5268 - val_accuracy: 0.7450\n",
            "Epoch 14/50\n",
            "25/25 [==============================] - 23s 942ms/step - loss: 0.4954 - accuracy: 0.7681 - val_loss: 0.5277 - val_accuracy: 0.7325\n",
            "Epoch 15/50\n",
            "25/25 [==============================] - 23s 939ms/step - loss: 0.4923 - accuracy: 0.7900 - val_loss: 0.5748 - val_accuracy: 0.7113\n",
            "Epoch 16/50\n",
            "25/25 [==============================] - 23s 938ms/step - loss: 0.4248 - accuracy: 0.8105 - val_loss: 0.5619 - val_accuracy: 0.7250\n",
            "Epoch 17/50\n",
            "25/25 [==============================] - 23s 938ms/step - loss: 0.3890 - accuracy: 0.8293 - val_loss: 0.6618 - val_accuracy: 0.7063\n",
            "Epoch 18/50\n",
            "25/25 [==============================] - 23s 909ms/step - loss: 0.4010 - accuracy: 0.8210 - val_loss: 0.6582 - val_accuracy: 0.7063\n",
            "Epoch 19/50\n",
            "25/25 [==============================] - 23s 911ms/step - loss: 0.3922 - accuracy: 0.8245 - val_loss: 0.5784 - val_accuracy: 0.7275\n",
            "Epoch 20/50\n",
            "25/25 [==============================] - 23s 942ms/step - loss: 0.3287 - accuracy: 0.8683 - val_loss: 0.6324 - val_accuracy: 0.7200\n",
            "Epoch 21/50\n",
            "25/25 [==============================] - 24s 982ms/step - loss: 0.3254 - accuracy: 0.8679 - val_loss: 0.6644 - val_accuracy: 0.7462\n",
            "Epoch 22/50\n",
            "25/25 [==============================] - 23s 939ms/step - loss: 0.3220 - accuracy: 0.8549 - val_loss: 0.6134 - val_accuracy: 0.7287\n",
            "Epoch 23/50\n",
            "25/25 [==============================] - 23s 941ms/step - loss: 0.3120 - accuracy: 0.8658 - val_loss: 0.7202 - val_accuracy: 0.7262\n",
            "Epoch 24/50\n",
            "25/25 [==============================] - 23s 941ms/step - loss: 0.2834 - accuracy: 0.8851 - val_loss: 0.6389 - val_accuracy: 0.7450\n",
            "Epoch 25/50\n",
            "25/25 [==============================] - 23s 913ms/step - loss: 0.2686 - accuracy: 0.8867 - val_loss: 0.6998 - val_accuracy: 0.7437\n",
            "Epoch 26/50\n",
            "25/25 [==============================] - 23s 906ms/step - loss: 0.2550 - accuracy: 0.9006 - val_loss: 0.6573 - val_accuracy: 0.7525\n",
            "Epoch 27/50\n",
            "25/25 [==============================] - 22s 899ms/step - loss: 0.2440 - accuracy: 0.9019 - val_loss: 0.7131 - val_accuracy: 0.7437\n",
            "Epoch 28/50\n",
            "25/25 [==============================] - 22s 901ms/step - loss: 0.2358 - accuracy: 0.9105 - val_loss: 0.7766 - val_accuracy: 0.7525\n",
            "Epoch 29/50\n",
            "25/25 [==============================] - 22s 894ms/step - loss: 0.3382 - accuracy: 0.8696 - val_loss: 0.7170 - val_accuracy: 0.7450\n",
            "Epoch 30/50\n",
            "25/25 [==============================] - 22s 895ms/step - loss: 0.1773 - accuracy: 0.9343 - val_loss: 0.8340 - val_accuracy: 0.7613\n",
            "Epoch 31/50\n",
            "25/25 [==============================] - 22s 894ms/step - loss: 0.1543 - accuracy: 0.9455 - val_loss: 0.8122 - val_accuracy: 0.7312\n",
            "Epoch 32/50\n",
            "25/25 [==============================] - 22s 898ms/step - loss: 0.1559 - accuracy: 0.9465 - val_loss: 0.8982 - val_accuracy: 0.7613\n",
            "Epoch 33/50\n",
            "25/25 [==============================] - 22s 897ms/step - loss: 0.1645 - accuracy: 0.9381 - val_loss: 0.9490 - val_accuracy: 0.7237\n",
            "Epoch 34/50\n",
            "25/25 [==============================] - 23s 917ms/step - loss: 0.1875 - accuracy: 0.9328 - val_loss: 0.9821 - val_accuracy: 0.7538\n",
            "Epoch 35/50\n",
            "25/25 [==============================] - 23s 924ms/step - loss: 0.1064 - accuracy: 0.9628 - val_loss: 0.9789 - val_accuracy: 0.7462\n",
            "Epoch 36/50\n",
            "25/25 [==============================] - 22s 889ms/step - loss: 0.1090 - accuracy: 0.9615 - val_loss: 0.8772 - val_accuracy: 0.7412\n",
            "Epoch 37/50\n",
            "25/25 [==============================] - 22s 901ms/step - loss: 0.1295 - accuracy: 0.9539 - val_loss: 1.0271 - val_accuracy: 0.7400\n",
            "Epoch 38/50\n",
            "25/25 [==============================] - 22s 897ms/step - loss: 0.1148 - accuracy: 0.9588 - val_loss: 1.2222 - val_accuracy: 0.7163\n",
            "Epoch 39/50\n",
            "25/25 [==============================] - 22s 898ms/step - loss: 0.1794 - accuracy: 0.9384 - val_loss: 1.0947 - val_accuracy: 0.7500\n",
            "Epoch 40/50\n",
            "25/25 [==============================] - 23s 913ms/step - loss: 0.0816 - accuracy: 0.9716 - val_loss: 1.4329 - val_accuracy: 0.7287\n",
            "Epoch 41/50\n",
            "25/25 [==============================] - 22s 895ms/step - loss: 0.1147 - accuracy: 0.9581 - val_loss: 1.0005 - val_accuracy: 0.7588\n",
            "Epoch 42/50\n",
            "25/25 [==============================] - 22s 902ms/step - loss: 0.0942 - accuracy: 0.9690 - val_loss: 1.0433 - val_accuracy: 0.7475\n",
            "Epoch 43/50\n",
            "25/25 [==============================] - 22s 895ms/step - loss: 0.0940 - accuracy: 0.9728 - val_loss: 1.0662 - val_accuracy: 0.7475\n",
            "Epoch 44/50\n",
            "25/25 [==============================] - 22s 897ms/step - loss: 0.0596 - accuracy: 0.9762 - val_loss: 1.3550 - val_accuracy: 0.7375\n",
            "Epoch 45/50\n",
            "25/25 [==============================] - 23s 904ms/step - loss: 0.0745 - accuracy: 0.9723 - val_loss: 1.2076 - val_accuracy: 0.7287\n",
            "Epoch 46/50\n",
            "25/25 [==============================] - 23s 902ms/step - loss: 0.0574 - accuracy: 0.9863 - val_loss: 1.2057 - val_accuracy: 0.7262\n",
            "Epoch 47/50\n",
            "25/25 [==============================] - 23s 911ms/step - loss: 0.0932 - accuracy: 0.9647 - val_loss: 1.2671 - val_accuracy: 0.7325\n",
            "Epoch 48/50\n",
            "25/25 [==============================] - 23s 941ms/step - loss: 0.0738 - accuracy: 0.9813 - val_loss: 1.3402 - val_accuracy: 0.7100\n",
            "Epoch 49/50\n",
            "25/25 [==============================] - 23s 910ms/step - loss: 0.0668 - accuracy: 0.9798 - val_loss: 1.6815 - val_accuracy: 0.6950\n",
            "Epoch 50/50\n",
            "25/25 [==============================] - 22s 884ms/step - loss: 0.1123 - accuracy: 0.9636 - val_loss: 1.6439 - val_accuracy: 0.7600\n"
          ],
          "name": "stdout"
        }
      ]
    },
    {
      "cell_type": "code",
      "metadata": {
        "id": "hUIWb7Ub4OvE"
      },
      "source": [
        "model_dbl_conv_den_y_pred = (model_dbl_conv_den.predict(validation_generator, 10) > 0.5).flatten().astype(\"int32\")"
      ],
      "execution_count": 35,
      "outputs": []
    },
    {
      "cell_type": "code",
      "metadata": {
        "colab": {
          "base_uri": "https://localhost:8080/",
          "height": 363
        },
        "id": "M_sP-4RP4OvF",
        "outputId": "2f918389-c75a-4a7f-dd3c-330a568b3708"
      },
      "source": [
        "plot_confusion_matrix(confusion_matrix(y_true, model_dbl_conv_den_y_pred), [0,1])"
      ],
      "execution_count": 36,
      "outputs": [
        {
          "output_type": "stream",
          "text": [
            "Confusion matrix, without normalization\n",
            "[[291 110]\n",
            " [ 83 318]]\n"
          ],
          "name": "stdout"
        },
        {
          "output_type": "display_data",
          "data": {
            "image/png": "[encoded data removed]",
            "text/plain": [
              "<Figure size 432x288 with 2 Axes>"
            ]
          },
          "metadata": {
            "tags": [],
            "needs_background": "light"
          }
        }
      ]
    },
    {
      "cell_type": "code",
      "metadata": {
        "colab": {
          "base_uri": "https://localhost:8080/"
        },
        "id": "ggo6VU5Z4OvF",
        "outputId": "683a69eb-841c-42dc-c7e3-ccb8084e9470"
      },
      "source": [
        "model_dbl_conv_den_scores = {k:v[-1] for k,v in model_dbl_conv_den_history.history.items()}\n",
        "model_dbl_conv_den_scores"
      ],
      "execution_count": 37,
      "outputs": [
        {
          "output_type": "execute_result",
          "data": {
            "text/plain": [
              "{'accuracy': 0.9754999876022339,\n",
              " 'loss': 0.07588648051023483,\n",
              " 'val_accuracy': 0.7599999904632568,\n",
              " 'val_loss': 1.6438654661178589}"
            ]
          },
          "metadata": {
            "tags": []
          },
          "execution_count": 37
        }
      ]
    },
    {
      "cell_type": "markdown",
      "metadata": {
        "id": "iRCyPKJfKm5Y"
      },
      "source": [
        "Fit and compile using the Adam optimizer. Describe the difference in performance between the Adam and RMSprop optimizers."
      ]
    },
    {
      "cell_type": "code",
      "metadata": {
        "id": "eqzQbCl8Km5Z"
      },
      "source": [
        "# Answer below:\n",
        "model_dbl_conv_den_adam = Sequential()\n",
        "\n",
        "model_dbl_conv_den_adam.add(Conv2D(64, (3,3), input_shape=input_shape))\n",
        "model_dbl_conv_den_adam.add(Activation('relu'))\n",
        "model_dbl_conv_den_adam.add(MaxPooling2D(pool_size=(2,2)))\n",
        "\n",
        "model_dbl_conv_den_adam.add(Conv2D(32, (3,3)))\n",
        "model_dbl_conv_den_adam.add(Activation('relu'))\n",
        "model_dbl_conv_den_adam.add(MaxPooling2D(pool_size=(2,2)))\n",
        "\n",
        "model_dbl_conv_den_adam.add(Flatten())\n",
        "\n",
        "model_dbl_conv_den_adam.add(Dense(64))\n",
        "model_dbl_conv_den_adam.add(Activation('relu'))\n",
        "model_dbl_conv_den_adam.add(Dense(64))\n",
        "model_dbl_conv_den_adam.add(Activation('relu'))\n",
        "model_dbl_conv_den_adam.add(Dropout(0.5))\n",
        "model_dbl_conv_den_adam.add(Dense(1, activation='sigmoid'))\n"
      ],
      "execution_count": 38,
      "outputs": []
    },
    {
      "cell_type": "code",
      "metadata": {
        "id": "drRBa855Km5a",
        "colab": {
          "base_uri": "https://localhost:8080/"
        },
        "outputId": "798eaa7a-4b4f-45d8-87d9-a9da95ebab61"
      },
      "source": [
        "model_dbl_conv_den_adam.compile(loss='binary_crossentropy', optimizer='adam', metrics=['accuracy'])\n",
        "model_dbl_conv_den_adam_history = model_dbl_conv_den_adam.fit(\n",
        "    train_generator,\n",
        "    steps_per_epoch= nb_train_samples // batch_size,\n",
        "    epochs = 50,\n",
        "    validation_data = validation_generator,\n",
        "    validation_steps = nb_validation_samples // batch_size\n",
        "    )"
      ],
      "execution_count": 39,
      "outputs": [
        {
          "output_type": "stream",
          "text": [
            "Epoch 1/50\n",
            "25/25 [==============================] - 23s 900ms/step - loss: 0.7558 - accuracy: 0.5113 - val_loss: 0.6931 - val_accuracy: 0.4963\n",
            "Epoch 2/50\n",
            "25/25 [==============================] - 22s 884ms/step - loss: 0.6929 - accuracy: 0.5093 - val_loss: 0.6930 - val_accuracy: 0.5088\n",
            "Epoch 3/50\n",
            "25/25 [==============================] - 22s 902ms/step - loss: 0.6941 - accuracy: 0.5214 - val_loss: 0.6928 - val_accuracy: 0.5587\n",
            "Epoch 4/50\n",
            "25/25 [==============================] - 22s 880ms/step - loss: 0.6930 - accuracy: 0.5339 - val_loss: 0.6922 - val_accuracy: 0.5437\n",
            "Epoch 5/50\n",
            "25/25 [==============================] - 22s 890ms/step - loss: 0.6874 - accuracy: 0.5689 - val_loss: 0.6906 - val_accuracy: 0.5962\n",
            "Epoch 6/50\n",
            "25/25 [==============================] - 22s 887ms/step - loss: 0.6890 - accuracy: 0.5517 - val_loss: 0.6638 - val_accuracy: 0.6250\n",
            "Epoch 7/50\n",
            "25/25 [==============================] - 22s 882ms/step - loss: 0.6693 - accuracy: 0.6328 - val_loss: 0.6566 - val_accuracy: 0.6325\n",
            "Epoch 8/50\n",
            "25/25 [==============================] - 22s 892ms/step - loss: 0.6533 - accuracy: 0.6366 - val_loss: 0.6436 - val_accuracy: 0.6400\n",
            "Epoch 9/50\n",
            "25/25 [==============================] - 22s 894ms/step - loss: 0.6298 - accuracy: 0.6418 - val_loss: 0.6470 - val_accuracy: 0.6475\n",
            "Epoch 10/50\n",
            "25/25 [==============================] - 22s 896ms/step - loss: 0.6250 - accuracy: 0.6595 - val_loss: 0.6373 - val_accuracy: 0.6525\n",
            "Epoch 11/50\n",
            "25/25 [==============================] - 23s 903ms/step - loss: 0.5921 - accuracy: 0.6934 - val_loss: 0.6267 - val_accuracy: 0.6650\n",
            "Epoch 12/50\n",
            "25/25 [==============================] - 23s 942ms/step - loss: 0.5631 - accuracy: 0.7084 - val_loss: 0.6325 - val_accuracy: 0.6575\n",
            "Epoch 13/50\n",
            "25/25 [==============================] - 22s 885ms/step - loss: 0.5497 - accuracy: 0.7225 - val_loss: 0.6439 - val_accuracy: 0.6725\n",
            "Epoch 14/50\n",
            "25/25 [==============================] - 22s 889ms/step - loss: 0.5164 - accuracy: 0.7576 - val_loss: 0.6237 - val_accuracy: 0.6625\n",
            "Epoch 15/50\n",
            "25/25 [==============================] - 22s 887ms/step - loss: 0.5173 - accuracy: 0.7468 - val_loss: 0.6363 - val_accuracy: 0.6587\n",
            "Epoch 16/50\n",
            "25/25 [==============================] - 22s 883ms/step - loss: 0.4874 - accuracy: 0.7757 - val_loss: 0.6605 - val_accuracy: 0.6737\n",
            "Epoch 17/50\n",
            "25/25 [==============================] - 22s 890ms/step - loss: 0.4638 - accuracy: 0.7976 - val_loss: 0.6921 - val_accuracy: 0.6737\n",
            "Epoch 18/50\n",
            "25/25 [==============================] - 22s 880ms/step - loss: 0.4292 - accuracy: 0.7916 - val_loss: 0.7257 - val_accuracy: 0.6750\n",
            "Epoch 19/50\n",
            "25/25 [==============================] - 22s 887ms/step - loss: 0.4075 - accuracy: 0.8316 - val_loss: 0.8137 - val_accuracy: 0.6750\n",
            "Epoch 20/50\n",
            "25/25 [==============================] - 22s 883ms/step - loss: 0.3583 - accuracy: 0.8446 - val_loss: 0.8001 - val_accuracy: 0.6637\n",
            "Epoch 21/50\n",
            "25/25 [==============================] - 22s 886ms/step - loss: 0.3212 - accuracy: 0.8632 - val_loss: 0.7847 - val_accuracy: 0.6725\n",
            "Epoch 22/50\n",
            "25/25 [==============================] - 22s 882ms/step - loss: 0.3389 - accuracy: 0.8589 - val_loss: 0.7883 - val_accuracy: 0.6762\n",
            "Epoch 23/50\n",
            "25/25 [==============================] - 22s 879ms/step - loss: 0.3076 - accuracy: 0.8788 - val_loss: 0.8557 - val_accuracy: 0.6263\n",
            "Epoch 24/50\n",
            "25/25 [==============================] - 22s 887ms/step - loss: 0.3353 - accuracy: 0.8596 - val_loss: 0.8949 - val_accuracy: 0.6700\n",
            "Epoch 25/50\n",
            "25/25 [==============================] - 22s 882ms/step - loss: 0.2369 - accuracy: 0.9060 - val_loss: 0.9428 - val_accuracy: 0.6737\n",
            "Epoch 26/50\n",
            "25/25 [==============================] - 23s 914ms/step - loss: 0.2519 - accuracy: 0.9031 - val_loss: 0.9057 - val_accuracy: 0.6650\n",
            "Epoch 27/50\n",
            "25/25 [==============================] - 22s 882ms/step - loss: 0.2292 - accuracy: 0.9072 - val_loss: 1.0440 - val_accuracy: 0.6575\n",
            "Epoch 28/50\n",
            "25/25 [==============================] - 22s 874ms/step - loss: 0.1966 - accuracy: 0.9145 - val_loss: 1.1892 - val_accuracy: 0.6612\n",
            "Epoch 29/50\n",
            "25/25 [==============================] - 22s 882ms/step - loss: 0.1923 - accuracy: 0.9320 - val_loss: 1.0143 - val_accuracy: 0.6475\n",
            "Epoch 30/50\n",
            "25/25 [==============================] - 23s 905ms/step - loss: 0.1740 - accuracy: 0.9349 - val_loss: 1.0581 - val_accuracy: 0.6762\n",
            "Epoch 31/50\n",
            "25/25 [==============================] - 22s 877ms/step - loss: 0.1464 - accuracy: 0.9415 - val_loss: 1.1006 - val_accuracy: 0.6662\n",
            "Epoch 32/50\n",
            "25/25 [==============================] - 22s 882ms/step - loss: 0.1396 - accuracy: 0.9470 - val_loss: 1.1940 - val_accuracy: 0.6575\n",
            "Epoch 33/50\n",
            "25/25 [==============================] - 22s 882ms/step - loss: 0.0919 - accuracy: 0.9673 - val_loss: 1.3013 - val_accuracy: 0.6662\n",
            "Epoch 34/50\n",
            "25/25 [==============================] - 22s 881ms/step - loss: 0.1192 - accuracy: 0.9622 - val_loss: 1.3289 - val_accuracy: 0.6712\n",
            "Epoch 35/50\n",
            "25/25 [==============================] - 22s 883ms/step - loss: 0.1152 - accuracy: 0.9581 - val_loss: 1.2269 - val_accuracy: 0.6438\n",
            "Epoch 36/50\n",
            "25/25 [==============================] - 22s 879ms/step - loss: 0.1321 - accuracy: 0.9576 - val_loss: 1.3462 - val_accuracy: 0.6513\n",
            "Epoch 37/50\n",
            "25/25 [==============================] - 22s 874ms/step - loss: 0.0897 - accuracy: 0.9691 - val_loss: 1.5298 - val_accuracy: 0.6600\n",
            "Epoch 38/50\n",
            "25/25 [==============================] - 22s 875ms/step - loss: 0.0859 - accuracy: 0.9707 - val_loss: 1.5068 - val_accuracy: 0.6500\n",
            "Epoch 39/50\n",
            "25/25 [==============================] - 22s 877ms/step - loss: 0.0845 - accuracy: 0.9766 - val_loss: 1.6215 - val_accuracy: 0.6637\n",
            "Epoch 40/50\n",
            "25/25 [==============================] - 23s 907ms/step - loss: 0.0845 - accuracy: 0.9703 - val_loss: 1.6604 - val_accuracy: 0.6737\n",
            "Epoch 41/50\n",
            "25/25 [==============================] - 22s 877ms/step - loss: 0.1161 - accuracy: 0.9497 - val_loss: 1.4269 - val_accuracy: 0.6513\n",
            "Epoch 42/50\n",
            "25/25 [==============================] - 22s 873ms/step - loss: 0.0845 - accuracy: 0.9701 - val_loss: 1.5165 - val_accuracy: 0.6587\n",
            "Epoch 43/50\n",
            "25/25 [==============================] - 22s 875ms/step - loss: 0.0935 - accuracy: 0.9671 - val_loss: 1.6199 - val_accuracy: 0.6687\n",
            "Epoch 44/50\n",
            "25/25 [==============================] - 22s 886ms/step - loss: 0.0599 - accuracy: 0.9859 - val_loss: 1.7803 - val_accuracy: 0.6675\n",
            "Epoch 45/50\n",
            "25/25 [==============================] - 22s 875ms/step - loss: 0.0669 - accuracy: 0.9794 - val_loss: 1.5583 - val_accuracy: 0.6712\n",
            "Epoch 46/50\n",
            "25/25 [==============================] - 22s 872ms/step - loss: 0.0614 - accuracy: 0.9809 - val_loss: 1.6667 - val_accuracy: 0.6837\n",
            "Epoch 47/50\n",
            "25/25 [==============================] - 22s 874ms/step - loss: 0.0511 - accuracy: 0.9845 - val_loss: 1.8060 - val_accuracy: 0.6737\n",
            "Epoch 48/50\n",
            "25/25 [==============================] - 22s 878ms/step - loss: 0.0729 - accuracy: 0.9817 - val_loss: 1.6349 - val_accuracy: 0.6650\n",
            "Epoch 49/50\n",
            "25/25 [==============================] - 22s 879ms/step - loss: 0.0495 - accuracy: 0.9816 - val_loss: 1.7529 - val_accuracy: 0.6737\n",
            "Epoch 50/50\n",
            "25/25 [==============================] - 22s 876ms/step - loss: 0.0433 - accuracy: 0.9836 - val_loss: 1.8871 - val_accuracy: 0.6637\n"
          ],
          "name": "stdout"
        }
      ]
    },
    {
      "cell_type": "code",
      "metadata": {
        "id": "_2yUW31I7SNP"
      },
      "source": [
        "model_dbl_conv_den_adam_y_pred = (model_dbl_conv_den_adam.predict(validation_generator, 10) > 0.5).flatten().astype(\"int32\")"
      ],
      "execution_count": 40,
      "outputs": []
    },
    {
      "cell_type": "code",
      "metadata": {
        "colab": {
          "base_uri": "https://localhost:8080/",
          "height": 363
        },
        "id": "HweqkSfw7SNZ",
        "outputId": "451c6e60-37ae-4f76-ba87-b99bc65146ba"
      },
      "source": [
        "plot_confusion_matrix(confusion_matrix(y_true, model_dbl_conv_den_adam_y_pred), [0,1])"
      ],
      "execution_count": 41,
      "outputs": [
        {
          "output_type": "stream",
          "text": [
            "Confusion matrix, without normalization\n",
            "[[254 147]\n",
            " [123 278]]\n"
          ],
          "name": "stdout"
        },
        {
          "output_type": "display_data",
          "data": {
            "image/png": "[encoded data removed]",
            "text/plain": [
              "<Figure size 432x288 with 2 Axes>"
            ]
          },
          "metadata": {
            "tags": [],
            "needs_background": "light"
          }
        }
      ]
    },
    {
      "cell_type": "code",
      "metadata": {
        "colab": {
          "base_uri": "https://localhost:8080/"
        },
        "id": "HumeWndl7SNa",
        "outputId": "59975b7a-b88f-4d6d-a65f-ebedb68359f5"
      },
      "source": [
        "model_dbl_conv_den_adam_scores = {k:v[-1] for k,v in model_dbl_conv_den_adam_history.history.items()}\n",
        "model_dbl_conv_den_adam_scores"
      ],
      "execution_count": 42,
      "outputs": [
        {
          "output_type": "execute_result",
          "data": {
            "text/plain": [
              "{'accuracy': 0.984499990940094,\n",
              " 'loss': 0.04458635672926903,\n",
              " 'val_accuracy': 0.6637499928474426,\n",
              " 'val_loss': 1.8871110677719116}"
            ]
          },
          "metadata": {
            "tags": []
          },
          "execution_count": 42
        }
      ]
    },
    {
      "cell_type": "code",
      "metadata": {
        "id": "58Gn5i8-7FTk"
      },
      "source": [
        ""
      ],
      "execution_count": null,
      "outputs": []
    },
    {
      "cell_type": "markdown",
      "metadata": {
        "id": "O6yv3FAfXU3s"
      },
      "source": [
        "#Lecture Notes"
      ]
    },
    {
      "cell_type": "code",
      "metadata": {
        "id": "L2T3AUnnXUnM"
      },
      "source": [
        "train_datagen_split = ImageDataGenerator(\n",
        "    rescale=1./255,\n",
        "    shear_range=0.3,\n",
        "    zoom_range=0.1,\n",
        "    horizontal_flip=True,\n",
        "    validation_split=0.2\n",
        "    )\n",
        "\n",
        "train_generator_split = train_datagen_split.flow_from_directory(\n",
        "    train_data_dir,\n",
        "    target_size=(img_width, img_height),\n",
        "    batch_size=batch_size,\n",
        "    class_mode='binary',\n",
        "    subset='training'\n",
        "    )\n",
        "\n",
        "validation_generator_split = train_datagen_split.flow_from_directory(\n",
        "    train_data_dir,\n",
        "    target_size=(img_width, img_height),\n",
        "    batch_size=batch_size,\n",
        "    class_mode='binary',\n",
        "    subset='validation'\n",
        "    )"
      ],
      "execution_count": null,
      "outputs": []
    },
    {
      "cell_type": "code",
      "metadata": {
        "id": "NQ5I-CyLEPuI"
      },
      "source": [
        ""
      ],
      "execution_count": null,
      "outputs": []
    },
    {
      "cell_type": "code",
      "metadata": {
        "id": "YilTZcfMG047"
      },
      "source": [
        ""
      ],
      "execution_count": null,
      "outputs": []
    }
  ]
}