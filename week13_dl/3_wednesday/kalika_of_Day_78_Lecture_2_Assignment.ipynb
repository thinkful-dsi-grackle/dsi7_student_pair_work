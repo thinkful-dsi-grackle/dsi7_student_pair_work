{
  "nbformat": 4,
  "nbformat_minor": 0,
  "metadata": {
    "kernelspec": {
      "display_name": "Python 3",
      "language": "python",
      "name": "python3"
    },
    "language_info": {
      "codemirror_mode": {
        "name": "ipython",
        "version": 3
      },
      "file_extension": ".py",
      "mimetype": "text/x-python",
      "name": "python",
      "nbconvert_exporter": "python",
      "pygments_lexer": "ipython3",
      "version": "3.7.0"
    },
    "colab": {
      "name": "kalika of Day 78 Lecture 2 Assignment.ipynb",
      "provenance": [],
      "collapsed_sections": []
    }
  },
  "cells": [
    {
      "cell_type": "markdown",
      "metadata": {
        "id": "3vEszfzSgGvb"
      },
      "source": [
        "## Day 83 Lecture 2 Assignment\n",
        "\n",
        "In this assignment, we will learn about other optimization algorithms. We will create a neural network and try out the different optimization algorithms and compare their performance."
      ]
    },
    {
      "cell_type": "code",
      "metadata": {
        "id": "grVMFvpMgGvd"
      },
      "source": [
        "import numpy as np\n",
        "import pandas as pd\n",
        "\n",
        "from keras.models import Sequential\n",
        "from keras.layers import Dense"
      ],
      "execution_count": 1,
      "outputs": []
    },
    {
      "cell_type": "markdown",
      "metadata": {
        "id": "uJfwGXExgGvf"
      },
      "source": [
        "In this assignment, we will be using the cancer data that we have worked with in previous lessons. The pre-processed data is loaded below."
      ]
    },
    {
      "cell_type": "code",
      "metadata": {
        "id": "itA0U381gGvg"
      },
      "source": [
        "cancer = pd.read_csv('https://tf-assets-prod.s3.amazonaws.com/tf-curric/data-science/cancer_processed.csv')"
      ],
      "execution_count": 2,
      "outputs": []
    },
    {
      "cell_type": "code",
      "metadata": {
        "id": "ocNzndc-gGvi",
        "colab": {
          "base_uri": "https://localhost:8080/",
          "height": 195
        },
        "outputId": "83004207-7eef-4dac-c21a-3ce64e619a9b"
      },
      "source": [
        "cancer.head()"
      ],
      "execution_count": 3,
      "outputs": [
        {
          "output_type": "execute_result",
          "data": {
            "text/html": [
              "<div>\n",
              "<style scoped>\n",
              "    .dataframe tbody tr th:only-of-type {\n",
              "        vertical-align: middle;\n",
              "    }\n",
              "\n",
              "    .dataframe tbody tr th {\n",
              "        vertical-align: top;\n",
              "    }\n",
              "\n",
              "    .dataframe thead th {\n",
              "        text-align: right;\n",
              "    }\n",
              "</style>\n",
              "<table border=\"1\" class=\"dataframe\">\n",
              "  <thead>\n",
              "    <tr style=\"text-align: right;\">\n",
              "      <th></th>\n",
              "      <th>radius_mean</th>\n",
              "      <th>texture_mean</th>\n",
              "      <th>perimeter_mean</th>\n",
              "      <th>area_mean</th>\n",
              "      <th>smoothness_mean</th>\n",
              "      <th>compactness_mean</th>\n",
              "      <th>concavity_mean</th>\n",
              "      <th>concave points_mean</th>\n",
              "      <th>symmetry_mean</th>\n",
              "      <th>fractal_dimension_mean</th>\n",
              "      <th>diagnosis</th>\n",
              "    </tr>\n",
              "  </thead>\n",
              "  <tbody>\n",
              "    <tr>\n",
              "      <th>0</th>\n",
              "      <td>17.99</td>\n",
              "      <td>10.38</td>\n",
              "      <td>122.80</td>\n",
              "      <td>1001.0</td>\n",
              "      <td>0.11840</td>\n",
              "      <td>0.27760</td>\n",
              "      <td>0.3001</td>\n",
              "      <td>0.14710</td>\n",
              "      <td>0.2419</td>\n",
              "      <td>0.07871</td>\n",
              "      <td>M</td>\n",
              "    </tr>\n",
              "    <tr>\n",
              "      <th>1</th>\n",
              "      <td>20.57</td>\n",
              "      <td>17.77</td>\n",
              "      <td>132.90</td>\n",
              "      <td>1326.0</td>\n",
              "      <td>0.08474</td>\n",
              "      <td>0.07864</td>\n",
              "      <td>0.0869</td>\n",
              "      <td>0.07017</td>\n",
              "      <td>0.1812</td>\n",
              "      <td>0.05667</td>\n",
              "      <td>M</td>\n",
              "    </tr>\n",
              "    <tr>\n",
              "      <th>2</th>\n",
              "      <td>19.69</td>\n",
              "      <td>21.25</td>\n",
              "      <td>130.00</td>\n",
              "      <td>1203.0</td>\n",
              "      <td>0.10960</td>\n",
              "      <td>0.15990</td>\n",
              "      <td>0.1974</td>\n",
              "      <td>0.12790</td>\n",
              "      <td>0.2069</td>\n",
              "      <td>0.05999</td>\n",
              "      <td>M</td>\n",
              "    </tr>\n",
              "    <tr>\n",
              "      <th>3</th>\n",
              "      <td>11.42</td>\n",
              "      <td>20.38</td>\n",
              "      <td>77.58</td>\n",
              "      <td>386.1</td>\n",
              "      <td>0.14250</td>\n",
              "      <td>0.28390</td>\n",
              "      <td>0.2414</td>\n",
              "      <td>0.10520</td>\n",
              "      <td>0.2597</td>\n",
              "      <td>0.09744</td>\n",
              "      <td>M</td>\n",
              "    </tr>\n",
              "    <tr>\n",
              "      <th>4</th>\n",
              "      <td>20.29</td>\n",
              "      <td>14.34</td>\n",
              "      <td>135.10</td>\n",
              "      <td>1297.0</td>\n",
              "      <td>0.10030</td>\n",
              "      <td>0.13280</td>\n",
              "      <td>0.1980</td>\n",
              "      <td>0.10430</td>\n",
              "      <td>0.1809</td>\n",
              "      <td>0.05883</td>\n",
              "      <td>M</td>\n",
              "    </tr>\n",
              "  </tbody>\n",
              "</table>\n",
              "</div>"
            ],
            "text/plain": [
              "   radius_mean  texture_mean  ...  fractal_dimension_mean  diagnosis\n",
              "0        17.99         10.38  ...                 0.07871          M\n",
              "1        20.57         17.77  ...                 0.05667          M\n",
              "2        19.69         21.25  ...                 0.05999          M\n",
              "3        11.42         20.38  ...                 0.09744          M\n",
              "4        20.29         14.34  ...                 0.05883          M\n",
              "\n",
              "[5 rows x 11 columns]"
            ]
          },
          "metadata": {
            "tags": []
          },
          "execution_count": 3
        }
      ]
    },
    {
      "cell_type": "markdown",
      "metadata": {
        "id": "UMyeFkQTgGvm"
      },
      "source": [
        "As you may recall, diagnosis is the target variable. One hot encode the diagnosis column."
      ]
    },
    {
      "cell_type": "code",
      "metadata": {
        "id": "2tCQR6LjgGvn",
        "colab": {
          "base_uri": "https://localhost:8080/",
          "height": 402
        },
        "outputId": "7f6193b9-2812-4895-fe8e-067148617682"
      },
      "source": [
        "# Answer below:\n",
        "y = pd.get_dummies(cancer.diagnosis)\n",
        "y\n"
      ],
      "execution_count": 4,
      "outputs": [
        {
          "output_type": "execute_result",
          "data": {
            "text/html": [
              "<div>\n",
              "<style scoped>\n",
              "    .dataframe tbody tr th:only-of-type {\n",
              "        vertical-align: middle;\n",
              "    }\n",
              "\n",
              "    .dataframe tbody tr th {\n",
              "        vertical-align: top;\n",
              "    }\n",
              "\n",
              "    .dataframe thead th {\n",
              "        text-align: right;\n",
              "    }\n",
              "</style>\n",
              "<table border=\"1\" class=\"dataframe\">\n",
              "  <thead>\n",
              "    <tr style=\"text-align: right;\">\n",
              "      <th></th>\n",
              "      <th>B</th>\n",
              "      <th>M</th>\n",
              "    </tr>\n",
              "  </thead>\n",
              "  <tbody>\n",
              "    <tr>\n",
              "      <th>0</th>\n",
              "      <td>0</td>\n",
              "      <td>1</td>\n",
              "    </tr>\n",
              "    <tr>\n",
              "      <th>1</th>\n",
              "      <td>0</td>\n",
              "      <td>1</td>\n",
              "    </tr>\n",
              "    <tr>\n",
              "      <th>2</th>\n",
              "      <td>0</td>\n",
              "      <td>1</td>\n",
              "    </tr>\n",
              "    <tr>\n",
              "      <th>3</th>\n",
              "      <td>0</td>\n",
              "      <td>1</td>\n",
              "    </tr>\n",
              "    <tr>\n",
              "      <th>4</th>\n",
              "      <td>0</td>\n",
              "      <td>1</td>\n",
              "    </tr>\n",
              "    <tr>\n",
              "      <th>...</th>\n",
              "      <td>...</td>\n",
              "      <td>...</td>\n",
              "    </tr>\n",
              "    <tr>\n",
              "      <th>564</th>\n",
              "      <td>0</td>\n",
              "      <td>1</td>\n",
              "    </tr>\n",
              "    <tr>\n",
              "      <th>565</th>\n",
              "      <td>0</td>\n",
              "      <td>1</td>\n",
              "    </tr>\n",
              "    <tr>\n",
              "      <th>566</th>\n",
              "      <td>0</td>\n",
              "      <td>1</td>\n",
              "    </tr>\n",
              "    <tr>\n",
              "      <th>567</th>\n",
              "      <td>0</td>\n",
              "      <td>1</td>\n",
              "    </tr>\n",
              "    <tr>\n",
              "      <th>568</th>\n",
              "      <td>1</td>\n",
              "      <td>0</td>\n",
              "    </tr>\n",
              "  </tbody>\n",
              "</table>\n",
              "<p>569 rows × 2 columns</p>\n",
              "</div>"
            ],
            "text/plain": [
              "     B  M\n",
              "0    0  1\n",
              "1    0  1\n",
              "2    0  1\n",
              "3    0  1\n",
              "4    0  1\n",
              "..  .. ..\n",
              "564  0  1\n",
              "565  0  1\n",
              "566  0  1\n",
              "567  0  1\n",
              "568  1  0\n",
              "\n",
              "[569 rows x 2 columns]"
            ]
          },
          "metadata": {
            "tags": []
          },
          "execution_count": 4
        }
      ]
    },
    {
      "cell_type": "markdown",
      "metadata": {
        "id": "LcJDxAb7gGvp"
      },
      "source": [
        "Split the data into train and test with 20% of the data in test."
      ]
    },
    {
      "cell_type": "code",
      "metadata": {
        "colab": {
          "base_uri": "https://localhost:8080/"
        },
        "cellView": "form",
        "id": "Gy54BhqIBCm1",
        "outputId": "6c907ab3-6d66-4e35-ab95-67d6f64a2ba5"
      },
      "source": [
        "#@Split Train Test for Models\n",
        "#Size of the test set and target variable to split the data.\n",
        "\n",
        "df =  cancer#@param dataframe\n",
        "target =  'diagnosis'#@param target\n",
        "SIZE = 0.2 #@param split rate\n",
        "\n",
        "X = df.drop(columns=[target])\n",
        "\n",
        "from sklearn.model_selection import train_test_split, cross_val_score\n",
        "\n",
        "X_train, X_test, y_train, y_test = train_test_split(X, y, test_size=SIZE)\n",
        "print('There are {:d} training samples and {:d} test samples'.format(X_train.shape[0], X_test.shape[0]))"
      ],
      "execution_count": 5,
      "outputs": [
        {
          "output_type": "stream",
          "text": [
            "There are 455 training samples and 114 test samples\n"
          ],
          "name": "stdout"
        }
      ]
    },
    {
      "cell_type": "markdown",
      "metadata": {
        "id": "9eghtF43gGvk"
      },
      "source": [
        "Scale all other variables using the standard scaler."
      ]
    },
    {
      "cell_type": "code",
      "metadata": {
        "id": "e7cjZatEgGvk"
      },
      "source": [
        "# Answer below:\n",
        "from sklearn.preprocessing import StandardScaler\n",
        "\n",
        "scaler = StandardScaler()\n",
        "X_train = scaler.fit_transform(X_train)\n",
        "X_test = scaler.transform(X_test)\n"
      ],
      "execution_count": 6,
      "outputs": []
    },
    {
      "cell_type": "markdown",
      "metadata": {
        "id": "GTOKHMqrgGvr"
      },
      "source": [
        "Generate a sequential model consisting of 5 layers. The layers should be of size 128, 64, 32, 32, 1. Use the appropriate activation for the output layer based on the type of prediction algorithm we are producing."
      ]
    },
    {
      "cell_type": "code",
      "metadata": {
        "id": "SuLbt7X2gGvs",
        "colab": {
          "base_uri": "https://localhost:8080/"
        },
        "outputId": "75164ee2-1f16-4c02-cd1e-d2aa45fb97ae"
      },
      "source": [
        "# Answer below\n",
        "input_size = 128\n",
        "sizes = [64, 32, 32]\n",
        "output_size = y_train.shape[1]\n",
        "\n",
        "model = Sequential()\n",
        "\n",
        "# Layer One: Input\n",
        "model.add(Dense(input_size, input_dim=X_train.shape[1], activation='relu'))\n",
        "\n",
        "#Layers 2,3,4\n",
        "for size in sizes:\n",
        "  model.add(Dense(size, activation='relu'))\n",
        "\n",
        "#Layer Five: Output\n",
        "model.add(Dense(output_size, activation='softmax'))\n",
        "model.summary()"
      ],
      "execution_count": 7,
      "outputs": [
        {
          "output_type": "stream",
          "text": [
            "Model: \"sequential\"\n",
            "_________________________________________________________________\n",
            "Layer (type)                 Output Shape              Param #   \n",
            "=================================================================\n",
            "dense (Dense)                (None, 128)               1408      \n",
            "_________________________________________________________________\n",
            "dense_1 (Dense)              (None, 64)                8256      \n",
            "_________________________________________________________________\n",
            "dense_2 (Dense)              (None, 32)                2080      \n",
            "_________________________________________________________________\n",
            "dense_3 (Dense)              (None, 32)                1056      \n",
            "_________________________________________________________________\n",
            "dense_4 (Dense)              (None, 2)                 66        \n",
            "=================================================================\n",
            "Total params: 12,866\n",
            "Trainable params: 12,866\n",
            "Non-trainable params: 0\n",
            "_________________________________________________________________\n"
          ],
          "name": "stdout"
        }
      ]
    },
    {
      "cell_type": "markdown",
      "metadata": {
        "id": "LLyq5KXtgGvt"
      },
      "source": [
        "Initialize a SGD optimizer with learning rate 0.05 and momentum 0.9."
      ]
    },
    {
      "cell_type": "code",
      "metadata": {
        "id": "jlNXLxoUgGvu"
      },
      "source": [
        "# Answer below:\n",
        "from keras.optimizers import SGD\n",
        "\n",
        "sgd = SGD(learning_rate=0.05, momentum=0.9)\n"
      ],
      "execution_count": 8,
      "outputs": []
    },
    {
      "cell_type": "code",
      "metadata": {
        "id": "3qUZQyuvSKE2"
      },
      "source": [
        "loss = 'categorical_crossentropy'"
      ],
      "execution_count": 9,
      "outputs": []
    },
    {
      "cell_type": "markdown",
      "metadata": {
        "id": "X-O0YHk_gGvv"
      },
      "source": [
        "Compile and fit the model using the appropriate loss function and metric and use the optimizers defined above.\n",
        "\n",
        "batch size = 100, epochs = 200"
      ]
    },
    {
      "cell_type": "code",
      "metadata": {
        "id": "SD9IZdHMgGvw",
        "colab": {
          "base_uri": "https://localhost:8080/"
        },
        "outputId": "d7cf2e94-8a50-4c3f-8dec-1c676dd8fc7c"
      },
      "source": [
        "#@title Answer below:\n",
        "\n",
        "batch_size = 100#@param\n",
        "epochs = 200#@param\n",
        "opt = sgd #@param\n",
        "\n",
        "import time\n",
        "\n",
        "start_time = time.time()\n",
        "# Answer below:\n",
        "model.compile(loss=loss, optimizer=opt, \n",
        "              metrics=['accuracy'])\n",
        "model.fit(X_train, y_train, verbose=0, epochs=epochs, batch_size=batch_size)\n",
        "exec = (time.time() - start_time)\n",
        "evals = model.evaluate(X_test, y_test)\n",
        "results = {'model' : 'sgd', 'loss': evals[0], 'accuracy': evals[1], 'exec': exec}\n"
      ],
      "execution_count": 10,
      "outputs": [
        {
          "output_type": "stream",
          "text": [
            "4/4 [==============================] - 0s 3ms/step - loss: 0.2660 - accuracy: 0.9386\n"
          ],
          "name": "stdout"
        }
      ]
    },
    {
      "cell_type": "markdown",
      "metadata": {
        "id": "9sRBwGzsgGvx"
      },
      "source": [
        "Define the RMSprop optimizer with a learning rate of 0.05."
      ]
    },
    {
      "cell_type": "code",
      "metadata": {
        "id": "odyJo-kugGvy"
      },
      "source": [
        "# Answer below:\n",
        "from keras.optimizers import RMSprop\n",
        "\n",
        "rms = RMSprop(learning_rate=0.05)"
      ],
      "execution_count": 11,
      "outputs": []
    },
    {
      "cell_type": "markdown",
      "metadata": {
        "id": "o7GaEJGugGvz"
      },
      "source": [
        "Compile and fit the model using the optimizer defined above. What do you notice about the accuracy?"
      ]
    },
    {
      "cell_type": "code",
      "metadata": {
        "id": "477zsxjvgGv0",
        "colab": {
          "base_uri": "https://localhost:8080/"
        },
        "outputId": "61c34a26-2e56-4a71-b626-998227e2afad"
      },
      "source": [
        "#@title Answer below:\n",
        "\n",
        "batch_size = 100#@param\n",
        "epochs = 200#@param\n",
        "optimizer = rms #@param\n",
        "\n",
        "start_time = time.time()\n",
        "# Answer below:\n",
        "model.compile(loss=loss, optimizer=opt, \n",
        "              metrics=['accuracy'])\n",
        "model.fit(X_train, y_train, verbose=0, epochs=epochs, batch_size=batch_size)\n",
        "evals = model.evaluate(X_test, y_test)\n",
        "exec = (time.time() - start_time)"
      ],
      "execution_count": 12,
      "outputs": [
        {
          "output_type": "stream",
          "text": [
            "4/4 [==============================] - 0s 2ms/step - loss: 0.4923 - accuracy: 0.9386\n"
          ],
          "name": "stdout"
        }
      ]
    },
    {
      "cell_type": "code",
      "metadata": {
        "colab": {
          "base_uri": "https://localhost:8080/",
          "height": 106
        },
        "id": "-FkDBkUpHEVf",
        "outputId": "c641e8ea-6bc3-406a-88c2-b94d2ac87a01"
      },
      "source": [
        "results = pd.DataFrame([results, {'model' : 'rms', 'loss': evals[0], 'accuracy': evals[1], 'exec':exec}])\r\n",
        "results"
      ],
      "execution_count": 13,
      "outputs": [
        {
          "output_type": "execute_result",
          "data": {
            "text/html": [
              "<div>\n",
              "<style scoped>\n",
              "    .dataframe tbody tr th:only-of-type {\n",
              "        vertical-align: middle;\n",
              "    }\n",
              "\n",
              "    .dataframe tbody tr th {\n",
              "        vertical-align: top;\n",
              "    }\n",
              "\n",
              "    .dataframe thead th {\n",
              "        text-align: right;\n",
              "    }\n",
              "</style>\n",
              "<table border=\"1\" class=\"dataframe\">\n",
              "  <thead>\n",
              "    <tr style=\"text-align: right;\">\n",
              "      <th></th>\n",
              "      <th>model</th>\n",
              "      <th>loss</th>\n",
              "      <th>accuracy</th>\n",
              "      <th>exec</th>\n",
              "    </tr>\n",
              "  </thead>\n",
              "  <tbody>\n",
              "    <tr>\n",
              "      <th>0</th>\n",
              "      <td>sgd</td>\n",
              "      <td>0.266043</td>\n",
              "      <td>0.938596</td>\n",
              "      <td>1.579051</td>\n",
              "    </tr>\n",
              "    <tr>\n",
              "      <th>1</th>\n",
              "      <td>rms</td>\n",
              "      <td>0.492339</td>\n",
              "      <td>0.938596</td>\n",
              "      <td>1.598686</td>\n",
              "    </tr>\n",
              "  </tbody>\n",
              "</table>\n",
              "</div>"
            ],
            "text/plain": [
              "  model      loss  accuracy      exec\n",
              "0   sgd  0.266043  0.938596  1.579051\n",
              "1   rms  0.492339  0.938596  1.598686"
            ]
          },
          "metadata": {
            "tags": []
          },
          "execution_count": 13
        }
      ]
    },
    {
      "cell_type": "markdown",
      "metadata": {
        "id": "E3KhWb3igGv1"
      },
      "source": [
        "Define the Adam optimizer with learning rate 0.01"
      ]
    },
    {
      "cell_type": "code",
      "metadata": {
        "id": "ewtmWJI3gGv1"
      },
      "source": [
        "# Answer below:\n",
        "from keras.optimizers import Adam\n",
        "\n",
        "adam = Adam(learning_rate=0.01)\n"
      ],
      "execution_count": 14,
      "outputs": []
    },
    {
      "cell_type": "markdown",
      "metadata": {
        "id": "lnxqbb7CgGv3"
      },
      "source": [
        "Compile and fit the model using the optimizer defined above. How does the peformance differ with this optimizer?"
      ]
    },
    {
      "cell_type": "code",
      "metadata": {
        "id": "rG9-9Nk4gGv3",
        "colab": {
          "base_uri": "https://localhost:8080/"
        },
        "outputId": "30ec5aec-d1fd-421f-b7f9-7a90a40e9a7a"
      },
      "source": [
        "# Answer below:\n",
        "#@title Answer below:\n",
        "\n",
        "batch_size = 100#@param\n",
        "epochs = 200#@param\n",
        "opt = adam #@param\n",
        "\n",
        "start_time = time.time()\n",
        "# Answer below:\n",
        "model.compile(loss=loss, optimizer=opt, \n",
        "              metrics=['accuracy'])\n",
        "model.fit(X_train, y_train, verbose=0, epochs=epochs, batch_size=batch_size)\n",
        "evals = model.evaluate(X_test, y_test)\n",
        "exec = (time.time() - start_time)\n"
      ],
      "execution_count": 15,
      "outputs": [
        {
          "output_type": "stream",
          "text": [
            "4/4 [==============================] - 0s 3ms/step - loss: 0.5778 - accuracy: 0.9474\n"
          ],
          "name": "stdout"
        }
      ]
    },
    {
      "cell_type": "code",
      "metadata": {
        "id": "yxXMtGKMIE11"
      },
      "source": [
        "results = results.append({'model' : 'adam', 'loss': evals[0], 'accuracy': evals[1], 'exec':exec}, ignore_index=True)"
      ],
      "execution_count": 16,
      "outputs": []
    },
    {
      "cell_type": "markdown",
      "metadata": {
        "id": "1opnI2qCgGv5"
      },
      "source": [
        "Now change the learning rate to 0.1 in your Adam optimizer and compare the results (both speed and accuracy)."
      ]
    },
    {
      "cell_type": "code",
      "metadata": {
        "id": "aIGTzU1DgGv6",
        "colab": {
          "base_uri": "https://localhost:8080/"
        },
        "outputId": "9cf99a17-2c99-4bd4-f2c3-18cb2ff57385"
      },
      "source": [
        "# Answer below:\n",
        "#@title Answer below:\n",
        "\n",
        "batch_size = 100#@param\n",
        "epochs = 200#@param\n",
        "opt =  Adam(learning_rate=0.1)#@param\n",
        "\n",
        "# Answer below:\n",
        "start_time = time.time()\n",
        "model.compile(loss=loss, optimizer=opt, \n",
        "              metrics=['accuracy'])\n",
        "model.fit(X_train, y_train, verbose=0, epochs=epochs, batch_size=batch_size)\n",
        "evals = model.evaluate(X_test, y_test)\n",
        "exec = (time.time() - start_time)\n",
        "\n",
        "\n"
      ],
      "execution_count": 17,
      "outputs": [
        {
          "output_type": "stream",
          "text": [
            "4/4 [==============================] - 0s 2ms/step - loss: 0.1769 - accuracy: 0.9386\n"
          ],
          "name": "stdout"
        }
      ]
    },
    {
      "cell_type": "code",
      "metadata": {
        "colab": {
          "base_uri": "https://localhost:8080/"
        },
        "id": "xyfWtdiSOE0s",
        "outputId": "0de6b226-e15c-4302-c077-ed67f79945fd"
      },
      "source": [
        "evals"
      ],
      "execution_count": 18,
      "outputs": [
        {
          "output_type": "execute_result",
          "data": {
            "text/plain": [
              "[0.1769086867570877, 0.9385964870452881]"
            ]
          },
          "metadata": {
            "tags": []
          },
          "execution_count": 18
        }
      ]
    },
    {
      "cell_type": "code",
      "metadata": {
        "id": "e91KQiHqgGv7",
        "colab": {
          "base_uri": "https://localhost:8080/",
          "height": 166
        },
        "outputId": "c746830a-79b4-4ded-d245-0fc6ab2ad7d1"
      },
      "source": [
        "results = results.append({'model' : 'Adam0.1', 'loss': evals[0], 'accuracy': evals[1], 'exec': exec}, ignore_index=True)\r\n",
        "results"
      ],
      "execution_count": 19,
      "outputs": [
        {
          "output_type": "execute_result",
          "data": {
            "text/html": [
              "<div>\n",
              "<style scoped>\n",
              "    .dataframe tbody tr th:only-of-type {\n",
              "        vertical-align: middle;\n",
              "    }\n",
              "\n",
              "    .dataframe tbody tr th {\n",
              "        vertical-align: top;\n",
              "    }\n",
              "\n",
              "    .dataframe thead th {\n",
              "        text-align: right;\n",
              "    }\n",
              "</style>\n",
              "<table border=\"1\" class=\"dataframe\">\n",
              "  <thead>\n",
              "    <tr style=\"text-align: right;\">\n",
              "      <th></th>\n",
              "      <th>model</th>\n",
              "      <th>loss</th>\n",
              "      <th>accuracy</th>\n",
              "      <th>exec</th>\n",
              "    </tr>\n",
              "  </thead>\n",
              "  <tbody>\n",
              "    <tr>\n",
              "      <th>0</th>\n",
              "      <td>sgd</td>\n",
              "      <td>0.266043</td>\n",
              "      <td>0.938596</td>\n",
              "      <td>1.579051</td>\n",
              "    </tr>\n",
              "    <tr>\n",
              "      <th>1</th>\n",
              "      <td>rms</td>\n",
              "      <td>0.492339</td>\n",
              "      <td>0.938596</td>\n",
              "      <td>1.598686</td>\n",
              "    </tr>\n",
              "    <tr>\n",
              "      <th>2</th>\n",
              "      <td>adam</td>\n",
              "      <td>0.577823</td>\n",
              "      <td>0.947368</td>\n",
              "      <td>1.823656</td>\n",
              "    </tr>\n",
              "    <tr>\n",
              "      <th>3</th>\n",
              "      <td>Adam0.1</td>\n",
              "      <td>0.176909</td>\n",
              "      <td>0.938596</td>\n",
              "      <td>1.952690</td>\n",
              "    </tr>\n",
              "  </tbody>\n",
              "</table>\n",
              "</div>"
            ],
            "text/plain": [
              "     model      loss  accuracy      exec\n",
              "0      sgd  0.266043  0.938596  1.579051\n",
              "1      rms  0.492339  0.938596  1.598686\n",
              "2     adam  0.577823  0.947368  1.823656\n",
              "3  Adam0.1  0.176909  0.938596  1.952690"
            ]
          },
          "metadata": {
            "tags": []
          },
          "execution_count": 19
        }
      ]
    }
  ]
}