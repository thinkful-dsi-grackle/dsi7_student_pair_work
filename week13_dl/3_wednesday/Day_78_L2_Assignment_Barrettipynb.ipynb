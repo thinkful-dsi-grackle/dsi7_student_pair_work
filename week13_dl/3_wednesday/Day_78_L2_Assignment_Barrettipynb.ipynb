{
  "nbformat": 4,
  "nbformat_minor": 0,
  "metadata": {
    "kernelspec": {
      "display_name": "Python 3",
      "language": "python",
      "name": "python3"
    },
    "language_info": {
      "codemirror_mode": {
        "name": "ipython",
        "version": 3
      },
      "file_extension": ".py",
      "mimetype": "text/x-python",
      "name": "python",
      "nbconvert_exporter": "python",
      "pygments_lexer": "ipython3",
      "version": "3.7.0"
    },
    "colab": {
      "name": "Day_78_L2_Assignment_Barrettipynb.ipynb",
      "provenance": [],
      "collapsed_sections": []
    }
  },
  "cells": [
    {
      "cell_type": "markdown",
      "metadata": {
        "id": "3vEszfzSgGvb"
      },
      "source": [
        "## Day 83 Lecture 2 Assignment\n",
        "\n",
        "In this assignment, we will learn about other optimization algorithms. We will create a neural network and try out the different optimization algorithms and compare their performance."
      ]
    },
    {
      "cell_type": "code",
      "metadata": {
        "id": "grVMFvpMgGvd"
      },
      "source": [
        "import numpy as np\n",
        "import pandas as pd\n",
        "import matplotlib.pyplot as plt\n",
        "import seaborn as sns\n",
        "%matplotlib inline\n",
        "\n",
        "from tensorflow.keras.models import Sequential\n",
        "from tensorflow.keras.layers import Dense\n",
        "from tensorflow.keras.optimizers import SGD, RMSprop, Adam, Adagrad\n",
        "from tensorflow.keras.callbacks import EarlyStopping\n",
        "\n",
        "from sklearn.model_selection import train_test_split\n",
        "from sklearn.preprocessing import MinMaxScaler, StandardScaler"
      ],
      "execution_count": 19,
      "outputs": []
    },
    {
      "cell_type": "markdown",
      "metadata": {
        "id": "uJfwGXExgGvf"
      },
      "source": [
        "In this assignment, we will be using the cancer data that we have worked with in previous lessons. The pre-processed data is loaded below."
      ]
    },
    {
      "cell_type": "code",
      "metadata": {
        "id": "itA0U381gGvg"
      },
      "source": [
        "cancer = pd.read_csv('https://tf-assets-prod.s3.amazonaws.com/tf-curric/data-science/cancer_processed.csv')"
      ],
      "execution_count": 20,
      "outputs": []
    },
    {
      "cell_type": "code",
      "metadata": {
        "id": "ocNzndc-gGvi",
        "colab": {
          "base_uri": "https://localhost:8080/",
          "height": 235
        },
        "outputId": "04f4d0d2-0b55-410b-bacc-c38f5787e1eb"
      },
      "source": [
        "cancer.head()"
      ],
      "execution_count": 21,
      "outputs": [
        {
          "output_type": "execute_result",
          "data": {
            "text/html": [
              "<div>\n",
              "<style scoped>\n",
              "    .dataframe tbody tr th:only-of-type {\n",
              "        vertical-align: middle;\n",
              "    }\n",
              "\n",
              "    .dataframe tbody tr th {\n",
              "        vertical-align: top;\n",
              "    }\n",
              "\n",
              "    .dataframe thead th {\n",
              "        text-align: right;\n",
              "    }\n",
              "</style>\n",
              "<table border=\"1\" class=\"dataframe\">\n",
              "  <thead>\n",
              "    <tr style=\"text-align: right;\">\n",
              "      <th></th>\n",
              "      <th>radius_mean</th>\n",
              "      <th>texture_mean</th>\n",
              "      <th>perimeter_mean</th>\n",
              "      <th>area_mean</th>\n",
              "      <th>smoothness_mean</th>\n",
              "      <th>compactness_mean</th>\n",
              "      <th>concavity_mean</th>\n",
              "      <th>concave points_mean</th>\n",
              "      <th>symmetry_mean</th>\n",
              "      <th>fractal_dimension_mean</th>\n",
              "      <th>diagnosis</th>\n",
              "    </tr>\n",
              "  </thead>\n",
              "  <tbody>\n",
              "    <tr>\n",
              "      <th>0</th>\n",
              "      <td>17.99</td>\n",
              "      <td>10.38</td>\n",
              "      <td>122.80</td>\n",
              "      <td>1001.0</td>\n",
              "      <td>0.11840</td>\n",
              "      <td>0.27760</td>\n",
              "      <td>0.3001</td>\n",
              "      <td>0.14710</td>\n",
              "      <td>0.2419</td>\n",
              "      <td>0.07871</td>\n",
              "      <td>M</td>\n",
              "    </tr>\n",
              "    <tr>\n",
              "      <th>1</th>\n",
              "      <td>20.57</td>\n",
              "      <td>17.77</td>\n",
              "      <td>132.90</td>\n",
              "      <td>1326.0</td>\n",
              "      <td>0.08474</td>\n",
              "      <td>0.07864</td>\n",
              "      <td>0.0869</td>\n",
              "      <td>0.07017</td>\n",
              "      <td>0.1812</td>\n",
              "      <td>0.05667</td>\n",
              "      <td>M</td>\n",
              "    </tr>\n",
              "    <tr>\n",
              "      <th>2</th>\n",
              "      <td>19.69</td>\n",
              "      <td>21.25</td>\n",
              "      <td>130.00</td>\n",
              "      <td>1203.0</td>\n",
              "      <td>0.10960</td>\n",
              "      <td>0.15990</td>\n",
              "      <td>0.1974</td>\n",
              "      <td>0.12790</td>\n",
              "      <td>0.2069</td>\n",
              "      <td>0.05999</td>\n",
              "      <td>M</td>\n",
              "    </tr>\n",
              "    <tr>\n",
              "      <th>3</th>\n",
              "      <td>11.42</td>\n",
              "      <td>20.38</td>\n",
              "      <td>77.58</td>\n",
              "      <td>386.1</td>\n",
              "      <td>0.14250</td>\n",
              "      <td>0.28390</td>\n",
              "      <td>0.2414</td>\n",
              "      <td>0.10520</td>\n",
              "      <td>0.2597</td>\n",
              "      <td>0.09744</td>\n",
              "      <td>M</td>\n",
              "    </tr>\n",
              "    <tr>\n",
              "      <th>4</th>\n",
              "      <td>20.29</td>\n",
              "      <td>14.34</td>\n",
              "      <td>135.10</td>\n",
              "      <td>1297.0</td>\n",
              "      <td>0.10030</td>\n",
              "      <td>0.13280</td>\n",
              "      <td>0.1980</td>\n",
              "      <td>0.10430</td>\n",
              "      <td>0.1809</td>\n",
              "      <td>0.05883</td>\n",
              "      <td>M</td>\n",
              "    </tr>\n",
              "  </tbody>\n",
              "</table>\n",
              "</div>"
            ],
            "text/plain": [
              "   radius_mean  texture_mean  ...  fractal_dimension_mean  diagnosis\n",
              "0        17.99         10.38  ...                 0.07871          M\n",
              "1        20.57         17.77  ...                 0.05667          M\n",
              "2        19.69         21.25  ...                 0.05999          M\n",
              "3        11.42         20.38  ...                 0.09744          M\n",
              "4        20.29         14.34  ...                 0.05883          M\n",
              "\n",
              "[5 rows x 11 columns]"
            ]
          },
          "metadata": {
            "tags": []
          },
          "execution_count": 21
        }
      ]
    },
    {
      "cell_type": "markdown",
      "metadata": {
        "id": "UMyeFkQTgGvm"
      },
      "source": [
        "As you may recall, diagnosis is the target variable. One hot encode the diagnosis column."
      ]
    },
    {
      "cell_type": "code",
      "metadata": {
        "colab": {
          "base_uri": "https://localhost:8080/"
        },
        "id": "sBDZOIuH2FzE",
        "outputId": "47a75ec3-ded9-43b8-8844-c80d44418c36"
      },
      "source": [
        "cancer['diagnosis'].value_counts()"
      ],
      "execution_count": 22,
      "outputs": [
        {
          "output_type": "execute_result",
          "data": {
            "text/plain": [
              "B    357\n",
              "M    212\n",
              "Name: diagnosis, dtype: int64"
            ]
          },
          "metadata": {
            "tags": []
          },
          "execution_count": 22
        }
      ]
    },
    {
      "cell_type": "code",
      "metadata": {
        "id": "2tCQR6LjgGvn",
        "colab": {
          "base_uri": "https://localhost:8080/"
        },
        "outputId": "dfd05475-7374-4c06-acb6-bdf457a25735"
      },
      "source": [
        "cancer['target'] = np.where(cancer['diagnosis'] == 'M', 1, 0)\n",
        "cancer['target'].value_counts()"
      ],
      "execution_count": 23,
      "outputs": [
        {
          "output_type": "execute_result",
          "data": {
            "text/plain": [
              "0    357\n",
              "1    212\n",
              "Name: target, dtype: int64"
            ]
          },
          "metadata": {
            "tags": []
          },
          "execution_count": 23
        }
      ]
    },
    {
      "cell_type": "markdown",
      "metadata": {
        "id": "LcJDxAb7gGvp"
      },
      "source": [
        "Split the data into train and test with 20% of the data in test."
      ]
    },
    {
      "cell_type": "code",
      "metadata": {
        "id": "o9DgU09lgGvq"
      },
      "source": [
        "# Answer below\n",
        "X = cancer.drop(['target', 'diagnosis'], 1)\n",
        "y = cancer['target']\n",
        "\n",
        "X_train, X_test, y_train, y_test = train_test_split(X, y, test_size=0.2)"
      ],
      "execution_count": 24,
      "outputs": []
    },
    {
      "cell_type": "markdown",
      "metadata": {
        "id": "9eghtF43gGvk"
      },
      "source": [
        "Scale all other variables using the standard scaler."
      ]
    },
    {
      "cell_type": "code",
      "metadata": {
        "id": "e7cjZatEgGvk"
      },
      "source": [
        "# Answer below:\n",
        "scaler = StandardScaler()\n",
        "\n",
        "X_train_scaled = scaler.fit_transform(X_train)\n",
        "X_test_scaled = scaler.transform(X_test)"
      ],
      "execution_count": 25,
      "outputs": []
    },
    {
      "cell_type": "markdown",
      "metadata": {
        "id": "GTOKHMqrgGvr"
      },
      "source": [
        "Generate a sequential model consisting of 5 layers. The layers should be of size 128, 64, 32, 32, 1. Use the appropriate activation for the output layer based on the type of prediction algorithm we are producing."
      ]
    },
    {
      "cell_type": "code",
      "metadata": {
        "id": "SuLbt7X2gGvs"
      },
      "source": [
        "# Answer below\n",
        "def build_model(opt='adam'):\n",
        "  model = Sequential()\n",
        "  model.add(Dense(128, input_dim=X_train.shape[1], activation='relu'))\n",
        "  model.add(Dense(64, activation='relu'))\n",
        "  model.add(Dense(32, activation='relu'))\n",
        "  model.add(Dense(32, activation='relu'))\n",
        "  model.add(Dense(1, activation='sigmoid'))\n",
        "  model.compile(optimizer=opt, loss='binary_crossentropy', metrics=['accuracy'])\n",
        "  # model.summary()\n",
        "  return model"
      ],
      "execution_count": 26,
      "outputs": []
    },
    {
      "cell_type": "markdown",
      "metadata": {
        "id": "LLyq5KXtgGvt"
      },
      "source": [
        "Initialize a SGD optimizer with learning rate 0.05 and momentum 0.9."
      ]
    },
    {
      "cell_type": "code",
      "metadata": {
        "id": "jlNXLxoUgGvu"
      },
      "source": [
        "# Answer below:\n",
        "sgd = SGD(lr=0.05, momentum=0.9)"
      ],
      "execution_count": 27,
      "outputs": []
    },
    {
      "cell_type": "markdown",
      "metadata": {
        "id": "X-O0YHk_gGvv"
      },
      "source": [
        "Compile and fit the model using the appropriate loss function and metric and use the optimizers defined above.\n",
        "\n",
        "batch size = 100, epochs = 200"
      ]
    },
    {
      "cell_type": "code",
      "metadata": {
        "id": "SD9IZdHMgGvw",
        "colab": {
          "base_uri": "https://localhost:8080/"
        },
        "outputId": "b0835031-81db-4dff-d1dc-a5a835cc1f2b"
      },
      "source": [
        "# Answer below:\n",
        "sgd_model = build_model(sgd)\n",
        "history = sgd_model.fit(X_train, y_train, validation_data=(X_test, y_test),\n",
        "              batch_size=100, epochs= 200)"
      ],
      "execution_count": 28,
      "outputs": [
        {
          "output_type": "stream",
          "text": [
            "Epoch 1/200\n",
            "5/5 [==============================] - 1s 49ms/step - loss: 15706391906.2283 - accuracy: 0.4796 - val_loss: 50.6110 - val_accuracy: 0.6316\n",
            "Epoch 2/200\n",
            "5/5 [==============================] - 0s 15ms/step - loss: 36.7411 - accuracy: 0.6153 - val_loss: 0.6753 - val_accuracy: 0.6316\n",
            "Epoch 3/200\n",
            "5/5 [==============================] - 0s 11ms/step - loss: 0.6757 - accuracy: 0.6156 - val_loss: 0.6657 - val_accuracy: 0.6316\n",
            "Epoch 4/200\n",
            "5/5 [==============================] - 0s 11ms/step - loss: 0.6716 - accuracy: 0.6042 - val_loss: 0.6598 - val_accuracy: 0.6316\n",
            "Epoch 5/200\n",
            "5/5 [==============================] - 0s 10ms/step - loss: 0.6656 - accuracy: 0.6157 - val_loss: 0.6581 - val_accuracy: 0.6316\n",
            "Epoch 6/200\n",
            "5/5 [==============================] - 0s 9ms/step - loss: 0.6598 - accuracy: 0.6285 - val_loss: 0.6583 - val_accuracy: 0.6316\n",
            "Epoch 7/200\n",
            "5/5 [==============================] - 0s 9ms/step - loss: 0.6611 - accuracy: 0.6271 - val_loss: 0.6585 - val_accuracy: 0.6316\n",
            "Epoch 8/200\n",
            "5/5 [==============================] - 0s 10ms/step - loss: 0.6650 - accuracy: 0.6207 - val_loss: 0.6584 - val_accuracy: 0.6316\n",
            "Epoch 9/200\n",
            "5/5 [==============================] - 0s 11ms/step - loss: 0.6666 - accuracy: 0.6177 - val_loss: 0.6582 - val_accuracy: 0.6316\n",
            "Epoch 10/200\n",
            "5/5 [==============================] - 0s 10ms/step - loss: 0.6668 - accuracy: 0.6166 - val_loss: 0.6581 - val_accuracy: 0.6316\n",
            "Epoch 11/200\n",
            "5/5 [==============================] - 0s 10ms/step - loss: 0.6611 - accuracy: 0.6262 - val_loss: 0.6581 - val_accuracy: 0.6316\n",
            "Epoch 12/200\n",
            "5/5 [==============================] - 0s 12ms/step - loss: 0.6622 - accuracy: 0.6239 - val_loss: 0.6582 - val_accuracy: 0.6316\n",
            "Epoch 13/200\n",
            "5/5 [==============================] - 0s 11ms/step - loss: 0.6661 - accuracy: 0.6163 - val_loss: 0.6583 - val_accuracy: 0.6316\n",
            "Epoch 14/200\n",
            "5/5 [==============================] - 0s 10ms/step - loss: 0.6573 - accuracy: 0.6337 - val_loss: 0.6582 - val_accuracy: 0.6316\n",
            "Epoch 15/200\n",
            "5/5 [==============================] - 0s 10ms/step - loss: 0.6503 - accuracy: 0.6474 - val_loss: 0.6581 - val_accuracy: 0.6316\n",
            "Epoch 16/200\n",
            "5/5 [==============================] - 0s 10ms/step - loss: 0.6541 - accuracy: 0.6395 - val_loss: 0.6582 - val_accuracy: 0.6316\n",
            "Epoch 17/200\n",
            "5/5 [==============================] - 0s 9ms/step - loss: 0.6740 - accuracy: 0.6012 - val_loss: 0.6584 - val_accuracy: 0.6316\n",
            "Epoch 18/200\n",
            "5/5 [==============================] - 0s 10ms/step - loss: 0.6691 - accuracy: 0.6098 - val_loss: 0.6583 - val_accuracy: 0.6316\n",
            "Epoch 19/200\n",
            "5/5 [==============================] - 0s 9ms/step - loss: 0.6539 - accuracy: 0.6409 - val_loss: 0.6582 - val_accuracy: 0.6316\n",
            "Epoch 20/200\n",
            "5/5 [==============================] - 0s 11ms/step - loss: 0.6579 - accuracy: 0.6323 - val_loss: 0.6581 - val_accuracy: 0.6316\n",
            "Epoch 21/200\n",
            "5/5 [==============================] - 0s 14ms/step - loss: 0.6544 - accuracy: 0.6388 - val_loss: 0.6581 - val_accuracy: 0.6316\n",
            "Epoch 22/200\n",
            "5/5 [==============================] - 0s 12ms/step - loss: 0.6452 - accuracy: 0.6560 - val_loss: 0.6581 - val_accuracy: 0.6316\n",
            "Epoch 23/200\n",
            "5/5 [==============================] - 0s 13ms/step - loss: 0.6684 - accuracy: 0.6127 - val_loss: 0.6581 - val_accuracy: 0.6316\n",
            "Epoch 24/200\n",
            "5/5 [==============================] - 0s 12ms/step - loss: 0.6567 - accuracy: 0.6345 - val_loss: 0.6581 - val_accuracy: 0.6316\n",
            "Epoch 25/200\n",
            "5/5 [==============================] - 0s 11ms/step - loss: 0.6611 - accuracy: 0.6260 - val_loss: 0.6582 - val_accuracy: 0.6316\n",
            "Epoch 26/200\n",
            "5/5 [==============================] - 0s 12ms/step - loss: 0.6597 - accuracy: 0.6287 - val_loss: 0.6581 - val_accuracy: 0.6316\n",
            "Epoch 27/200\n",
            "5/5 [==============================] - 0s 12ms/step - loss: 0.6634 - accuracy: 0.6218 - val_loss: 0.6581 - val_accuracy: 0.6316\n",
            "Epoch 28/200\n",
            "5/5 [==============================] - 0s 11ms/step - loss: 0.6633 - accuracy: 0.6217 - val_loss: 0.6581 - val_accuracy: 0.6316\n",
            "Epoch 29/200\n",
            "5/5 [==============================] - 0s 12ms/step - loss: 0.6618 - accuracy: 0.6248 - val_loss: 0.6581 - val_accuracy: 0.6316\n",
            "Epoch 30/200\n",
            "5/5 [==============================] - 0s 12ms/step - loss: 0.6504 - accuracy: 0.6460 - val_loss: 0.6581 - val_accuracy: 0.6316\n",
            "Epoch 31/200\n",
            "5/5 [==============================] - 0s 14ms/step - loss: 0.6653 - accuracy: 0.6184 - val_loss: 0.6581 - val_accuracy: 0.6316\n",
            "Epoch 32/200\n",
            "5/5 [==============================] - 0s 16ms/step - loss: 0.6535 - accuracy: 0.6405 - val_loss: 0.6581 - val_accuracy: 0.6316\n",
            "Epoch 33/200\n",
            "5/5 [==============================] - 0s 10ms/step - loss: 0.6567 - accuracy: 0.6343 - val_loss: 0.6582 - val_accuracy: 0.6316\n",
            "Epoch 34/200\n",
            "5/5 [==============================] - 0s 10ms/step - loss: 0.6558 - accuracy: 0.6362 - val_loss: 0.6582 - val_accuracy: 0.6316\n",
            "Epoch 35/200\n",
            "5/5 [==============================] - 0s 40ms/step - loss: 0.6692 - accuracy: 0.6102 - val_loss: 0.6582 - val_accuracy: 0.6316\n",
            "Epoch 36/200\n",
            "5/5 [==============================] - 0s 11ms/step - loss: 0.6614 - accuracy: 0.6253 - val_loss: 0.6581 - val_accuracy: 0.6316\n",
            "Epoch 37/200\n",
            "5/5 [==============================] - 0s 11ms/step - loss: 0.6656 - accuracy: 0.6174 - val_loss: 0.6581 - val_accuracy: 0.6316\n",
            "Epoch 38/200\n",
            "5/5 [==============================] - 0s 11ms/step - loss: 0.6657 - accuracy: 0.6171 - val_loss: 0.6582 - val_accuracy: 0.6316\n",
            "Epoch 39/200\n",
            "5/5 [==============================] - 0s 10ms/step - loss: 0.6581 - accuracy: 0.6317 - val_loss: 0.6581 - val_accuracy: 0.6316\n",
            "Epoch 40/200\n",
            "5/5 [==============================] - 0s 10ms/step - loss: 0.6569 - accuracy: 0.6339 - val_loss: 0.6581 - val_accuracy: 0.6316\n",
            "Epoch 41/200\n",
            "5/5 [==============================] - 0s 12ms/step - loss: 0.6651 - accuracy: 0.6182 - val_loss: 0.6582 - val_accuracy: 0.6316\n",
            "Epoch 42/200\n",
            "5/5 [==============================] - 0s 11ms/step - loss: 0.6578 - accuracy: 0.6323 - val_loss: 0.6581 - val_accuracy: 0.6316\n",
            "Epoch 43/200\n",
            "5/5 [==============================] - 0s 10ms/step - loss: 0.6673 - accuracy: 0.6142 - val_loss: 0.6582 - val_accuracy: 0.6316\n",
            "Epoch 44/200\n",
            "5/5 [==============================] - 0s 10ms/step - loss: 0.6521 - accuracy: 0.6434 - val_loss: 0.6581 - val_accuracy: 0.6316\n",
            "Epoch 45/200\n",
            "5/5 [==============================] - 0s 10ms/step - loss: 0.6606 - accuracy: 0.6270 - val_loss: 0.6582 - val_accuracy: 0.6316\n",
            "Epoch 46/200\n",
            "5/5 [==============================] - 0s 11ms/step - loss: 0.6595 - accuracy: 0.6289 - val_loss: 0.6582 - val_accuracy: 0.6316\n",
            "Epoch 47/200\n",
            "5/5 [==============================] - 0s 10ms/step - loss: 0.6732 - accuracy: 0.6027 - val_loss: 0.6583 - val_accuracy: 0.6316\n",
            "Epoch 48/200\n",
            "5/5 [==============================] - 0s 11ms/step - loss: 0.6682 - accuracy: 0.6117 - val_loss: 0.6582 - val_accuracy: 0.6316\n",
            "Epoch 49/200\n",
            "5/5 [==============================] - 0s 12ms/step - loss: 0.6523 - accuracy: 0.6435 - val_loss: 0.6581 - val_accuracy: 0.6316\n",
            "Epoch 50/200\n",
            "5/5 [==============================] - 0s 11ms/step - loss: 0.6453 - accuracy: 0.6563 - val_loss: 0.6581 - val_accuracy: 0.6316\n",
            "Epoch 51/200\n",
            "5/5 [==============================] - 0s 15ms/step - loss: 0.6539 - accuracy: 0.6395 - val_loss: 0.6582 - val_accuracy: 0.6316\n",
            "Epoch 52/200\n",
            "5/5 [==============================] - 0s 14ms/step - loss: 0.6614 - accuracy: 0.6255 - val_loss: 0.6583 - val_accuracy: 0.6316\n",
            "Epoch 53/200\n",
            "5/5 [==============================] - 0s 11ms/step - loss: 0.6675 - accuracy: 0.6132 - val_loss: 0.6584 - val_accuracy: 0.6316\n",
            "Epoch 54/200\n",
            "5/5 [==============================] - 0s 10ms/step - loss: 0.6719 - accuracy: 0.6041 - val_loss: 0.6584 - val_accuracy: 0.6316\n",
            "Epoch 55/200\n",
            "5/5 [==============================] - 0s 11ms/step - loss: 0.6562 - accuracy: 0.6363 - val_loss: 0.6582 - val_accuracy: 0.6316\n",
            "Epoch 56/200\n",
            "5/5 [==============================] - 0s 10ms/step - loss: 0.6681 - accuracy: 0.6121 - val_loss: 0.6582 - val_accuracy: 0.6316\n",
            "Epoch 57/200\n",
            "5/5 [==============================] - 0s 10ms/step - loss: 0.6619 - accuracy: 0.6243 - val_loss: 0.6581 - val_accuracy: 0.6316\n",
            "Epoch 58/200\n",
            "5/5 [==============================] - 0s 10ms/step - loss: 0.6523 - accuracy: 0.6430 - val_loss: 0.6581 - val_accuracy: 0.6316\n",
            "Epoch 59/200\n",
            "5/5 [==============================] - 0s 11ms/step - loss: 0.6716 - accuracy: 0.6064 - val_loss: 0.6582 - val_accuracy: 0.6316\n",
            "Epoch 60/200\n",
            "5/5 [==============================] - 0s 11ms/step - loss: 0.6588 - accuracy: 0.6303 - val_loss: 0.6582 - val_accuracy: 0.6316\n",
            "Epoch 61/200\n",
            "5/5 [==============================] - 0s 10ms/step - loss: 0.6671 - accuracy: 0.6145 - val_loss: 0.6582 - val_accuracy: 0.6316\n",
            "Epoch 62/200\n",
            "5/5 [==============================] - 0s 11ms/step - loss: 0.6493 - accuracy: 0.6492 - val_loss: 0.6582 - val_accuracy: 0.6316\n",
            "Epoch 63/200\n",
            "5/5 [==============================] - 0s 11ms/step - loss: 0.6641 - accuracy: 0.6202 - val_loss: 0.6582 - val_accuracy: 0.6316\n",
            "Epoch 64/200\n",
            "5/5 [==============================] - 0s 12ms/step - loss: 0.6675 - accuracy: 0.6135 - val_loss: 0.6582 - val_accuracy: 0.6316\n",
            "Epoch 65/200\n",
            "5/5 [==============================] - 0s 11ms/step - loss: 0.6489 - accuracy: 0.6503 - val_loss: 0.6581 - val_accuracy: 0.6316\n",
            "Epoch 66/200\n",
            "5/5 [==============================] - 0s 11ms/step - loss: 0.6623 - accuracy: 0.6237 - val_loss: 0.6581 - val_accuracy: 0.6316\n",
            "Epoch 67/200\n",
            "5/5 [==============================] - 0s 10ms/step - loss: 0.6651 - accuracy: 0.6184 - val_loss: 0.6581 - val_accuracy: 0.6316\n",
            "Epoch 68/200\n",
            "5/5 [==============================] - 0s 10ms/step - loss: 0.6612 - accuracy: 0.6257 - val_loss: 0.6581 - val_accuracy: 0.6316\n",
            "Epoch 69/200\n",
            "5/5 [==============================] - 0s 12ms/step - loss: 0.6648 - accuracy: 0.6191 - val_loss: 0.6581 - val_accuracy: 0.6316\n",
            "Epoch 70/200\n",
            "5/5 [==============================] - 0s 11ms/step - loss: 0.6601 - accuracy: 0.6278 - val_loss: 0.6581 - val_accuracy: 0.6316\n",
            "Epoch 71/200\n",
            "5/5 [==============================] - 0s 10ms/step - loss: 0.6651 - accuracy: 0.6184 - val_loss: 0.6582 - val_accuracy: 0.6316\n",
            "Epoch 72/200\n",
            "5/5 [==============================] - 0s 12ms/step - loss: 0.6581 - accuracy: 0.6318 - val_loss: 0.6582 - val_accuracy: 0.6316\n",
            "Epoch 73/200\n",
            "5/5 [==============================] - 0s 11ms/step - loss: 0.6529 - accuracy: 0.6418 - val_loss: 0.6582 - val_accuracy: 0.6316\n",
            "Epoch 74/200\n",
            "5/5 [==============================] - 0s 11ms/step - loss: 0.6546 - accuracy: 0.6385 - val_loss: 0.6583 - val_accuracy: 0.6316\n",
            "Epoch 75/200\n",
            "5/5 [==============================] - 0s 10ms/step - loss: 0.6638 - accuracy: 0.6206 - val_loss: 0.6584 - val_accuracy: 0.6316\n",
            "Epoch 76/200\n",
            "5/5 [==============================] - 0s 11ms/step - loss: 0.6523 - accuracy: 0.6443 - val_loss: 0.6583 - val_accuracy: 0.6316\n",
            "Epoch 77/200\n",
            "5/5 [==============================] - 0s 11ms/step - loss: 0.6643 - accuracy: 0.6198 - val_loss: 0.6584 - val_accuracy: 0.6316\n",
            "Epoch 78/200\n",
            "5/5 [==============================] - 0s 10ms/step - loss: 0.6652 - accuracy: 0.6180 - val_loss: 0.6584 - val_accuracy: 0.6316\n",
            "Epoch 79/200\n",
            "5/5 [==============================] - 0s 11ms/step - loss: 0.6660 - accuracy: 0.6162 - val_loss: 0.6583 - val_accuracy: 0.6316\n",
            "Epoch 80/200\n",
            "5/5 [==============================] - 0s 11ms/step - loss: 0.6656 - accuracy: 0.6171 - val_loss: 0.6582 - val_accuracy: 0.6316\n",
            "Epoch 81/200\n",
            "5/5 [==============================] - 0s 40ms/step - loss: 0.6639 - accuracy: 0.6205 - val_loss: 0.6581 - val_accuracy: 0.6316\n",
            "Epoch 82/200\n",
            "5/5 [==============================] - 0s 12ms/step - loss: 0.6493 - accuracy: 0.6482 - val_loss: 0.6582 - val_accuracy: 0.6316\n",
            "Epoch 83/200\n",
            "5/5 [==============================] - 0s 11ms/step - loss: 0.6551 - accuracy: 0.6370 - val_loss: 0.6581 - val_accuracy: 0.6316\n",
            "Epoch 84/200\n",
            "5/5 [==============================] - 0s 10ms/step - loss: 0.6664 - accuracy: 0.6166 - val_loss: 0.6581 - val_accuracy: 0.6316\n",
            "Epoch 85/200\n",
            "5/5 [==============================] - 0s 10ms/step - loss: 0.6564 - accuracy: 0.6350 - val_loss: 0.6582 - val_accuracy: 0.6316\n",
            "Epoch 86/200\n",
            "5/5 [==============================] - 0s 10ms/step - loss: 0.6551 - accuracy: 0.6378 - val_loss: 0.6582 - val_accuracy: 0.6316\n",
            "Epoch 87/200\n",
            "5/5 [==============================] - 0s 11ms/step - loss: 0.6547 - accuracy: 0.6382 - val_loss: 0.6582 - val_accuracy: 0.6316\n",
            "Epoch 88/200\n",
            "5/5 [==============================] - 0s 10ms/step - loss: 0.6694 - accuracy: 0.6100 - val_loss: 0.6582 - val_accuracy: 0.6316\n",
            "Epoch 89/200\n",
            "5/5 [==============================] - 0s 10ms/step - loss: 0.6572 - accuracy: 0.6338 - val_loss: 0.6582 - val_accuracy: 0.6316\n",
            "Epoch 90/200\n",
            "5/5 [==============================] - 0s 10ms/step - loss: 0.6602 - accuracy: 0.6278 - val_loss: 0.6582 - val_accuracy: 0.6316\n",
            "Epoch 91/200\n",
            "5/5 [==============================] - 0s 11ms/step - loss: 0.6560 - accuracy: 0.6359 - val_loss: 0.6581 - val_accuracy: 0.6316\n",
            "Epoch 92/200\n",
            "5/5 [==============================] - 0s 15ms/step - loss: 0.6485 - accuracy: 0.6500 - val_loss: 0.6581 - val_accuracy: 0.6316\n",
            "Epoch 93/200\n",
            "5/5 [==============================] - 0s 10ms/step - loss: 0.6618 - accuracy: 0.6246 - val_loss: 0.6583 - val_accuracy: 0.6316\n",
            "Epoch 94/200\n",
            "5/5 [==============================] - 0s 11ms/step - loss: 0.6684 - accuracy: 0.6116 - val_loss: 0.6583 - val_accuracy: 0.6316\n",
            "Epoch 95/200\n",
            "5/5 [==============================] - 0s 11ms/step - loss: 0.6621 - accuracy: 0.6241 - val_loss: 0.6583 - val_accuracy: 0.6316\n",
            "Epoch 96/200\n",
            "5/5 [==============================] - 0s 10ms/step - loss: 0.6703 - accuracy: 0.6074 - val_loss: 0.6583 - val_accuracy: 0.6316\n",
            "Epoch 97/200\n",
            "5/5 [==============================] - 0s 11ms/step - loss: 0.6611 - accuracy: 0.6260 - val_loss: 0.6582 - val_accuracy: 0.6316\n",
            "Epoch 98/200\n",
            "5/5 [==============================] - 0s 12ms/step - loss: 0.6654 - accuracy: 0.6175 - val_loss: 0.6582 - val_accuracy: 0.6316\n",
            "Epoch 99/200\n",
            "5/5 [==============================] - 0s 11ms/step - loss: 0.6507 - accuracy: 0.6463 - val_loss: 0.6581 - val_accuracy: 0.6316\n",
            "Epoch 100/200\n",
            "5/5 [==============================] - 0s 11ms/step - loss: 0.6640 - accuracy: 0.6205 - val_loss: 0.6581 - val_accuracy: 0.6316\n",
            "Epoch 101/200\n",
            "5/5 [==============================] - 0s 10ms/step - loss: 0.6514 - accuracy: 0.6445 - val_loss: 0.6581 - val_accuracy: 0.6316\n",
            "Epoch 102/200\n",
            "5/5 [==============================] - 0s 11ms/step - loss: 0.6608 - accuracy: 0.6266 - val_loss: 0.6583 - val_accuracy: 0.6316\n",
            "Epoch 103/200\n",
            "5/5 [==============================] - 0s 12ms/step - loss: 0.6631 - accuracy: 0.6221 - val_loss: 0.6584 - val_accuracy: 0.6316\n",
            "Epoch 104/200\n",
            "5/5 [==============================] - 0s 10ms/step - loss: 0.6576 - accuracy: 0.6332 - val_loss: 0.6583 - val_accuracy: 0.6316\n",
            "Epoch 105/200\n",
            "5/5 [==============================] - 0s 11ms/step - loss: 0.6656 - accuracy: 0.6170 - val_loss: 0.6584 - val_accuracy: 0.6316\n",
            "Epoch 106/200\n",
            "5/5 [==============================] - 0s 14ms/step - loss: 0.6600 - accuracy: 0.6284 - val_loss: 0.6583 - val_accuracy: 0.6316\n",
            "Epoch 107/200\n",
            "5/5 [==============================] - 0s 11ms/step - loss: 0.6610 - accuracy: 0.6262 - val_loss: 0.6582 - val_accuracy: 0.6316\n",
            "Epoch 108/200\n",
            "5/5 [==============================] - 0s 10ms/step - loss: 0.6557 - accuracy: 0.6366 - val_loss: 0.6581 - val_accuracy: 0.6316\n",
            "Epoch 109/200\n",
            "5/5 [==============================] - 0s 12ms/step - loss: 0.6573 - accuracy: 0.6332 - val_loss: 0.6581 - val_accuracy: 0.6316\n",
            "Epoch 110/200\n",
            "5/5 [==============================] - 0s 10ms/step - loss: 0.6752 - accuracy: 0.5993 - val_loss: 0.6582 - val_accuracy: 0.6316\n",
            "Epoch 111/200\n",
            "5/5 [==============================] - 0s 11ms/step - loss: 0.6661 - accuracy: 0.6163 - val_loss: 0.6581 - val_accuracy: 0.6316\n",
            "Epoch 112/200\n",
            "5/5 [==============================] - 0s 11ms/step - loss: 0.6634 - accuracy: 0.6216 - val_loss: 0.6581 - val_accuracy: 0.6316\n",
            "Epoch 113/200\n",
            "5/5 [==============================] - 0s 10ms/step - loss: 0.6649 - accuracy: 0.6188 - val_loss: 0.6581 - val_accuracy: 0.6316\n",
            "Epoch 114/200\n",
            "5/5 [==============================] - 0s 10ms/step - loss: 0.6429 - accuracy: 0.6607 - val_loss: 0.6581 - val_accuracy: 0.6316\n",
            "Epoch 115/200\n",
            "5/5 [==============================] - 0s 12ms/step - loss: 0.6657 - accuracy: 0.6175 - val_loss: 0.6582 - val_accuracy: 0.6316\n",
            "Epoch 116/200\n",
            "5/5 [==============================] - 0s 11ms/step - loss: 0.6622 - accuracy: 0.6238 - val_loss: 0.6583 - val_accuracy: 0.6316\n",
            "Epoch 117/200\n",
            "5/5 [==============================] - 0s 11ms/step - loss: 0.6563 - accuracy: 0.6357 - val_loss: 0.6583 - val_accuracy: 0.6316\n",
            "Epoch 118/200\n",
            "5/5 [==============================] - 0s 10ms/step - loss: 0.6576 - accuracy: 0.6332 - val_loss: 0.6582 - val_accuracy: 0.6316\n",
            "Epoch 119/200\n",
            "5/5 [==============================] - 0s 10ms/step - loss: 0.6613 - accuracy: 0.6255 - val_loss: 0.6581 - val_accuracy: 0.6316\n",
            "Epoch 120/200\n",
            "5/5 [==============================] - 0s 12ms/step - loss: 0.6507 - accuracy: 0.6459 - val_loss: 0.6581 - val_accuracy: 0.6316\n",
            "Epoch 121/200\n",
            "5/5 [==============================] - 0s 11ms/step - loss: 0.6683 - accuracy: 0.6124 - val_loss: 0.6582 - val_accuracy: 0.6316\n",
            "Epoch 122/200\n",
            "5/5 [==============================] - 0s 11ms/step - loss: 0.6598 - accuracy: 0.6285 - val_loss: 0.6582 - val_accuracy: 0.6316\n",
            "Epoch 123/200\n",
            "5/5 [==============================] - 0s 12ms/step - loss: 0.6669 - accuracy: 0.6148 - val_loss: 0.6583 - val_accuracy: 0.6316\n",
            "Epoch 124/200\n",
            "5/5 [==============================] - 0s 10ms/step - loss: 0.6668 - accuracy: 0.6148 - val_loss: 0.6584 - val_accuracy: 0.6316\n",
            "Epoch 125/200\n",
            "5/5 [==============================] - 0s 10ms/step - loss: 0.6676 - accuracy: 0.6128 - val_loss: 0.6583 - val_accuracy: 0.6316\n",
            "Epoch 126/200\n",
            "5/5 [==============================] - 0s 13ms/step - loss: 0.6450 - accuracy: 0.6584 - val_loss: 0.6581 - val_accuracy: 0.6316\n",
            "Epoch 127/200\n",
            "5/5 [==============================] - 0s 10ms/step - loss: 0.6575 - accuracy: 0.6328 - val_loss: 0.6581 - val_accuracy: 0.6316\n",
            "Epoch 128/200\n",
            "5/5 [==============================] - 0s 11ms/step - loss: 0.6482 - accuracy: 0.6506 - val_loss: 0.6582 - val_accuracy: 0.6316\n",
            "Epoch 129/200\n",
            "5/5 [==============================] - 0s 12ms/step - loss: 0.6711 - accuracy: 0.6068 - val_loss: 0.6583 - val_accuracy: 0.6316\n",
            "Epoch 130/200\n",
            "5/5 [==============================] - 0s 12ms/step - loss: 0.6706 - accuracy: 0.6071 - val_loss: 0.6583 - val_accuracy: 0.6316\n",
            "Epoch 131/200\n",
            "5/5 [==============================] - 0s 12ms/step - loss: 0.6586 - accuracy: 0.6310 - val_loss: 0.6582 - val_accuracy: 0.6316\n",
            "Epoch 132/200\n",
            "5/5 [==============================] - 0s 11ms/step - loss: 0.6596 - accuracy: 0.6288 - val_loss: 0.6581 - val_accuracy: 0.6316\n",
            "Epoch 133/200\n",
            "5/5 [==============================] - 0s 12ms/step - loss: 0.6620 - accuracy: 0.6242 - val_loss: 0.6581 - val_accuracy: 0.6316\n",
            "Epoch 134/200\n",
            "5/5 [==============================] - 0s 12ms/step - loss: 0.6583 - accuracy: 0.6313 - val_loss: 0.6581 - val_accuracy: 0.6316\n",
            "Epoch 135/200\n",
            "5/5 [==============================] - 0s 11ms/step - loss: 0.6544 - accuracy: 0.6384 - val_loss: 0.6581 - val_accuracy: 0.6316\n",
            "Epoch 136/200\n",
            "5/5 [==============================] - 0s 11ms/step - loss: 0.6634 - accuracy: 0.6217 - val_loss: 0.6582 - val_accuracy: 0.6316\n",
            "Epoch 137/200\n",
            "5/5 [==============================] - 0s 39ms/step - loss: 0.6728 - accuracy: 0.6034 - val_loss: 0.6584 - val_accuracy: 0.6316\n",
            "Epoch 138/200\n",
            "5/5 [==============================] - 0s 10ms/step - loss: 0.6627 - accuracy: 0.6228 - val_loss: 0.6582 - val_accuracy: 0.6316\n",
            "Epoch 139/200\n",
            "5/5 [==============================] - 0s 11ms/step - loss: 0.6481 - accuracy: 0.6518 - val_loss: 0.6581 - val_accuracy: 0.6316\n",
            "Epoch 140/200\n",
            "5/5 [==============================] - 0s 11ms/step - loss: 0.6659 - accuracy: 0.6167 - val_loss: 0.6582 - val_accuracy: 0.6316\n",
            "Epoch 141/200\n",
            "5/5 [==============================] - 0s 10ms/step - loss: 0.6736 - accuracy: 0.6018 - val_loss: 0.6582 - val_accuracy: 0.6316\n",
            "Epoch 142/200\n",
            "5/5 [==============================] - 0s 11ms/step - loss: 0.6643 - accuracy: 0.6196 - val_loss: 0.6581 - val_accuracy: 0.6316\n",
            "Epoch 143/200\n",
            "5/5 [==============================] - 0s 12ms/step - loss: 0.6569 - accuracy: 0.6339 - val_loss: 0.6581 - val_accuracy: 0.6316\n",
            "Epoch 144/200\n",
            "5/5 [==============================] - 0s 12ms/step - loss: 0.6610 - accuracy: 0.6263 - val_loss: 0.6581 - val_accuracy: 0.6316\n",
            "Epoch 145/200\n",
            "5/5 [==============================] - 0s 11ms/step - loss: 0.6666 - accuracy: 0.6155 - val_loss: 0.6582 - val_accuracy: 0.6316\n",
            "Epoch 146/200\n",
            "5/5 [==============================] - 0s 10ms/step - loss: 0.6656 - accuracy: 0.6173 - val_loss: 0.6582 - val_accuracy: 0.6316\n",
            "Epoch 147/200\n",
            "5/5 [==============================] - 0s 11ms/step - loss: 0.6635 - accuracy: 0.6212 - val_loss: 0.6581 - val_accuracy: 0.6316\n",
            "Epoch 148/200\n",
            "5/5 [==============================] - 0s 11ms/step - loss: 0.6509 - accuracy: 0.6456 - val_loss: 0.6581 - val_accuracy: 0.6316\n",
            "Epoch 149/200\n",
            "5/5 [==============================] - 0s 12ms/step - loss: 0.6582 - accuracy: 0.6313 - val_loss: 0.6582 - val_accuracy: 0.6316\n",
            "Epoch 150/200\n",
            "5/5 [==============================] - 0s 12ms/step - loss: 0.6614 - accuracy: 0.6253 - val_loss: 0.6582 - val_accuracy: 0.6316\n",
            "Epoch 151/200\n",
            "5/5 [==============================] - 0s 13ms/step - loss: 0.6548 - accuracy: 0.6384 - val_loss: 0.6582 - val_accuracy: 0.6316\n",
            "Epoch 152/200\n",
            "5/5 [==============================] - 0s 10ms/step - loss: 0.6674 - accuracy: 0.6135 - val_loss: 0.6583 - val_accuracy: 0.6316\n",
            "Epoch 153/200\n",
            "5/5 [==============================] - 0s 10ms/step - loss: 0.6677 - accuracy: 0.6127 - val_loss: 0.6583 - val_accuracy: 0.6316\n",
            "Epoch 154/200\n",
            "5/5 [==============================] - 0s 11ms/step - loss: 0.6478 - accuracy: 0.6530 - val_loss: 0.6581 - val_accuracy: 0.6316\n",
            "Epoch 155/200\n",
            "5/5 [==============================] - 0s 11ms/step - loss: 0.6415 - accuracy: 0.6635 - val_loss: 0.6581 - val_accuracy: 0.6316\n",
            "Epoch 156/200\n",
            "5/5 [==============================] - 0s 11ms/step - loss: 0.6542 - accuracy: 0.6388 - val_loss: 0.6581 - val_accuracy: 0.6316\n",
            "Epoch 157/200\n",
            "5/5 [==============================] - 0s 12ms/step - loss: 0.6645 - accuracy: 0.6196 - val_loss: 0.6582 - val_accuracy: 0.6316\n",
            "Epoch 158/200\n",
            "5/5 [==============================] - 0s 12ms/step - loss: 0.6637 - accuracy: 0.6207 - val_loss: 0.6582 - val_accuracy: 0.6316\n",
            "Epoch 159/200\n",
            "5/5 [==============================] - 0s 12ms/step - loss: 0.6686 - accuracy: 0.6110 - val_loss: 0.6582 - val_accuracy: 0.6316\n",
            "Epoch 160/200\n",
            "5/5 [==============================] - 0s 12ms/step - loss: 0.6605 - accuracy: 0.6271 - val_loss: 0.6581 - val_accuracy: 0.6316\n",
            "Epoch 161/200\n",
            "5/5 [==============================] - 0s 11ms/step - loss: 0.6615 - accuracy: 0.6253 - val_loss: 0.6581 - val_accuracy: 0.6316\n",
            "Epoch 162/200\n",
            "5/5 [==============================] - 0s 12ms/step - loss: 0.6515 - accuracy: 0.6442 - val_loss: 0.6581 - val_accuracy: 0.6316\n",
            "Epoch 163/200\n",
            "5/5 [==============================] - 0s 11ms/step - loss: 0.6658 - accuracy: 0.6174 - val_loss: 0.6581 - val_accuracy: 0.6316\n",
            "Epoch 164/200\n",
            "5/5 [==============================] - 0s 12ms/step - loss: 0.6709 - accuracy: 0.6077 - val_loss: 0.6581 - val_accuracy: 0.6316\n",
            "Epoch 165/200\n",
            "5/5 [==============================] - 0s 12ms/step - loss: 0.6493 - accuracy: 0.6484 - val_loss: 0.6581 - val_accuracy: 0.6316\n",
            "Epoch 166/200\n",
            "5/5 [==============================] - 0s 12ms/step - loss: 0.6596 - accuracy: 0.6289 - val_loss: 0.6581 - val_accuracy: 0.6316\n",
            "Epoch 167/200\n",
            "5/5 [==============================] - 0s 11ms/step - loss: 0.6628 - accuracy: 0.6228 - val_loss: 0.6581 - val_accuracy: 0.6316\n",
            "Epoch 168/200\n",
            "5/5 [==============================] - 0s 11ms/step - loss: 0.6628 - accuracy: 0.6227 - val_loss: 0.6582 - val_accuracy: 0.6316\n",
            "Epoch 169/200\n",
            "5/5 [==============================] - 0s 13ms/step - loss: 0.6582 - accuracy: 0.6316 - val_loss: 0.6582 - val_accuracy: 0.6316\n",
            "Epoch 170/200\n",
            "5/5 [==============================] - 0s 11ms/step - loss: 0.6640 - accuracy: 0.6203 - val_loss: 0.6582 - val_accuracy: 0.6316\n",
            "Epoch 171/200\n",
            "5/5 [==============================] - 0s 11ms/step - loss: 0.6634 - accuracy: 0.6214 - val_loss: 0.6582 - val_accuracy: 0.6316\n",
            "Epoch 172/200\n",
            "5/5 [==============================] - 0s 11ms/step - loss: 0.6639 - accuracy: 0.6205 - val_loss: 0.6583 - val_accuracy: 0.6316\n",
            "Epoch 173/200\n",
            "5/5 [==============================] - 0s 11ms/step - loss: 0.6561 - accuracy: 0.6359 - val_loss: 0.6582 - val_accuracy: 0.6316\n",
            "Epoch 174/200\n",
            "5/5 [==============================] - 0s 12ms/step - loss: 0.6766 - accuracy: 0.5960 - val_loss: 0.6583 - val_accuracy: 0.6316\n",
            "Epoch 175/200\n",
            "5/5 [==============================] - 0s 14ms/step - loss: 0.6605 - accuracy: 0.6271 - val_loss: 0.6582 - val_accuracy: 0.6316\n",
            "Epoch 176/200\n",
            "5/5 [==============================] - 0s 11ms/step - loss: 0.6576 - accuracy: 0.6328 - val_loss: 0.6581 - val_accuracy: 0.6316\n",
            "Epoch 177/200\n",
            "5/5 [==============================] - 0s 11ms/step - loss: 0.6684 - accuracy: 0.6120 - val_loss: 0.6581 - val_accuracy: 0.6316\n",
            "Epoch 178/200\n",
            "5/5 [==============================] - 0s 12ms/step - loss: 0.6543 - accuracy: 0.6392 - val_loss: 0.6581 - val_accuracy: 0.6316\n",
            "Epoch 179/200\n",
            "5/5 [==============================] - 0s 13ms/step - loss: 0.6612 - accuracy: 0.6257 - val_loss: 0.6581 - val_accuracy: 0.6316\n",
            "Epoch 180/200\n",
            "5/5 [==============================] - 0s 13ms/step - loss: 0.6537 - accuracy: 0.6400 - val_loss: 0.6581 - val_accuracy: 0.6316\n",
            "Epoch 181/200\n",
            "5/5 [==============================] - 0s 13ms/step - loss: 0.6500 - accuracy: 0.6468 - val_loss: 0.6581 - val_accuracy: 0.6316\n",
            "Epoch 182/200\n",
            "5/5 [==============================] - 0s 12ms/step - loss: 0.6553 - accuracy: 0.6368 - val_loss: 0.6581 - val_accuracy: 0.6316\n",
            "Epoch 183/200\n",
            "5/5 [==============================] - 0s 39ms/step - loss: 0.6608 - accuracy: 0.6266 - val_loss: 0.6582 - val_accuracy: 0.6316\n",
            "Epoch 184/200\n",
            "5/5 [==============================] - 0s 11ms/step - loss: 0.6562 - accuracy: 0.6355 - val_loss: 0.6582 - val_accuracy: 0.6316\n",
            "Epoch 185/200\n",
            "5/5 [==============================] - 0s 11ms/step - loss: 0.6688 - accuracy: 0.6109 - val_loss: 0.6583 - val_accuracy: 0.6316\n",
            "Epoch 186/200\n",
            "5/5 [==============================] - 0s 13ms/step - loss: 0.6679 - accuracy: 0.6123 - val_loss: 0.6583 - val_accuracy: 0.6316\n",
            "Epoch 187/200\n",
            "5/5 [==============================] - 0s 12ms/step - loss: 0.6627 - accuracy: 0.6227 - val_loss: 0.6582 - val_accuracy: 0.6316\n",
            "Epoch 188/200\n",
            "5/5 [==============================] - 0s 12ms/step - loss: 0.6520 - accuracy: 0.6438 - val_loss: 0.6581 - val_accuracy: 0.6316\n",
            "Epoch 189/200\n",
            "5/5 [==============================] - 0s 11ms/step - loss: 0.6705 - accuracy: 0.6080 - val_loss: 0.6582 - val_accuracy: 0.6316\n",
            "Epoch 190/200\n",
            "5/5 [==============================] - 0s 16ms/step - loss: 0.6658 - accuracy: 0.6166 - val_loss: 0.6582 - val_accuracy: 0.6316\n",
            "Epoch 191/200\n",
            "5/5 [==============================] - 0s 13ms/step - loss: 0.6670 - accuracy: 0.6145 - val_loss: 0.6581 - val_accuracy: 0.6316\n",
            "Epoch 192/200\n",
            "5/5 [==============================] - 0s 11ms/step - loss: 0.6687 - accuracy: 0.6113 - val_loss: 0.6581 - val_accuracy: 0.6316\n",
            "Epoch 193/200\n",
            "5/5 [==============================] - 0s 12ms/step - loss: 0.6645 - accuracy: 0.6196 - val_loss: 0.6581 - val_accuracy: 0.6316\n",
            "Epoch 194/200\n",
            "5/5 [==============================] - 0s 10ms/step - loss: 0.6620 - accuracy: 0.6245 - val_loss: 0.6581 - val_accuracy: 0.6316\n",
            "Epoch 195/200\n",
            "5/5 [==============================] - 0s 12ms/step - loss: 0.6702 - accuracy: 0.6096 - val_loss: 0.6581 - val_accuracy: 0.6316\n",
            "Epoch 196/200\n",
            "5/5 [==============================] - 0s 11ms/step - loss: 0.6603 - accuracy: 0.6275 - val_loss: 0.6581 - val_accuracy: 0.6316\n",
            "Epoch 197/200\n",
            "5/5 [==============================] - 0s 11ms/step - loss: 0.6555 - accuracy: 0.6364 - val_loss: 0.6581 - val_accuracy: 0.6316\n",
            "Epoch 198/200\n",
            "5/5 [==============================] - 0s 13ms/step - loss: 0.6559 - accuracy: 0.6357 - val_loss: 0.6581 - val_accuracy: 0.6316\n",
            "Epoch 199/200\n",
            "5/5 [==============================] - 0s 11ms/step - loss: 0.6568 - accuracy: 0.6341 - val_loss: 0.6582 - val_accuracy: 0.6316\n",
            "Epoch 200/200\n",
            "5/5 [==============================] - 0s 11ms/step - loss: 0.6567 - accuracy: 0.6346 - val_loss: 0.6582 - val_accuracy: 0.6316\n"
          ],
          "name": "stdout"
        }
      ]
    },
    {
      "cell_type": "code",
      "metadata": {
        "colab": {
          "base_uri": "https://localhost:8080/"
        },
        "id": "RaLMkaGI3and",
        "outputId": "a1e83d67-15e0-4434-827c-48ff509554a0"
      },
      "source": [
        "sgd_model.evaluate(X_test, y_test)"
      ],
      "execution_count": 29,
      "outputs": [
        {
          "output_type": "stream",
          "text": [
            "4/4 [==============================] - 0s 2ms/step - loss: 0.6582 - accuracy: 0.6316\n"
          ],
          "name": "stdout"
        },
        {
          "output_type": "execute_result",
          "data": {
            "text/plain": [
              "[0.6582157611846924, 0.6315789222717285]"
            ]
          },
          "metadata": {
            "tags": []
          },
          "execution_count": 29
        }
      ]
    },
    {
      "cell_type": "code",
      "metadata": {
        "colab": {
          "base_uri": "https://localhost:8080/",
          "height": 269
        },
        "id": "GFhGgwhc5Htr",
        "outputId": "4f52ca11-5557-49d4-b4d5-ae7230962485"
      },
      "source": [
        "df = pd.DataFrame(history.history)\n",
        "sns.lineplot(y=df['accuracy'], x=df.index, label='Training Accuracy')\n",
        "sns.lineplot(y=df['val_accuracy'], x=df.index, label='Test Accuracy')\n",
        "plt.ylim([0, 1])\n",
        "plt.legend()\n",
        "plt.show()"
      ],
      "execution_count": 30,
      "outputs": [
        {
          "output_type": "display_data",
          "data": {
            "image/png": "[encoded data removed]",
            "text/plain": [
              "<Figure size 432x288 with 1 Axes>"
            ]
          },
          "metadata": {
            "tags": [],
            "needs_background": "light"
          }
        }
      ]
    },
    {
      "cell_type": "markdown",
      "metadata": {
        "id": "9sRBwGzsgGvx"
      },
      "source": [
        "Define the RMSprop optimizer with a learning rate of 0.05."
      ]
    },
    {
      "cell_type": "code",
      "metadata": {
        "id": "odyJo-kugGvy"
      },
      "source": [
        "# Answer below:\n",
        "rms = RMSprop(learning_rate=0.05)"
      ],
      "execution_count": 31,
      "outputs": []
    },
    {
      "cell_type": "markdown",
      "metadata": {
        "id": "o7GaEJGugGvz"
      },
      "source": [
        "Compile and fit the model using the optimizer defined above. What do you notice about the accuracy?"
      ]
    },
    {
      "cell_type": "code",
      "metadata": {
        "id": "477zsxjvgGv0",
        "colab": {
          "base_uri": "https://localhost:8080/"
        },
        "outputId": "91f6c480-77d6-4e02-d6a3-6f5189806b8f"
      },
      "source": [
        "# Answer below:\n",
        "rms_model = build_model(rms)\n",
        "history = rms_model.fit(X_train, y_train, validation_data=(X_test, y_test),\n",
        "              batch_size=100, epochs= 200)"
      ],
      "execution_count": 32,
      "outputs": [
        {
          "output_type": "stream",
          "text": [
            "Epoch 1/200\n",
            "5/5 [==============================] - 1s 53ms/step - loss: 513.6250 - accuracy: 0.4788 - val_loss: 59.3297 - val_accuracy: 0.3684\n",
            "Epoch 2/200\n",
            "5/5 [==============================] - 0s 11ms/step - loss: 25.2940 - accuracy: 0.4430 - val_loss: 0.6664 - val_accuracy: 0.6316\n",
            "Epoch 3/200\n",
            "5/5 [==============================] - 0s 10ms/step - loss: 0.6662 - accuracy: 0.6287 - val_loss: 0.6635 - val_accuracy: 0.6316\n",
            "Epoch 4/200\n",
            "5/5 [==============================] - 0s 12ms/step - loss: 0.6701 - accuracy: 0.6102 - val_loss: 0.6605 - val_accuracy: 0.6316\n",
            "Epoch 5/200\n",
            "5/5 [==============================] - 0s 10ms/step - loss: 0.6644 - accuracy: 0.6213 - val_loss: 0.6589 - val_accuracy: 0.6316\n",
            "Epoch 6/200\n",
            "5/5 [==============================] - 0s 10ms/step - loss: 0.6559 - accuracy: 0.6385 - val_loss: 0.6586 - val_accuracy: 0.6316\n",
            "Epoch 7/200\n",
            "5/5 [==============================] - 0s 10ms/step - loss: 0.6600 - accuracy: 0.6285 - val_loss: 0.6585 - val_accuracy: 0.6316\n",
            "Epoch 8/200\n",
            "5/5 [==============================] - 0s 11ms/step - loss: 0.6627 - accuracy: 0.6241 - val_loss: 0.6589 - val_accuracy: 0.6316\n",
            "Epoch 9/200\n",
            "5/5 [==============================] - 0s 11ms/step - loss: 0.6584 - accuracy: 0.6330 - val_loss: 0.6592 - val_accuracy: 0.6316\n",
            "Epoch 10/200\n",
            "5/5 [==============================] - 0s 11ms/step - loss: 0.6599 - accuracy: 0.6305 - val_loss: 0.6581 - val_accuracy: 0.6316\n",
            "Epoch 11/200\n",
            "5/5 [==============================] - 0s 13ms/step - loss: 0.6569 - accuracy: 0.6360 - val_loss: 0.6583 - val_accuracy: 0.6316\n",
            "Epoch 12/200\n",
            "5/5 [==============================] - 0s 11ms/step - loss: 0.6653 - accuracy: 0.6195 - val_loss: 0.6581 - val_accuracy: 0.6316\n",
            "Epoch 13/200\n",
            "5/5 [==============================] - 0s 12ms/step - loss: 0.6654 - accuracy: 0.6180 - val_loss: 0.6581 - val_accuracy: 0.6316\n",
            "Epoch 14/200\n",
            "5/5 [==============================] - 0s 11ms/step - loss: 0.6617 - accuracy: 0.6288 - val_loss: 0.6581 - val_accuracy: 0.6316\n",
            "Epoch 15/200\n",
            "5/5 [==============================] - 0s 10ms/step - loss: 0.6593 - accuracy: 0.6300 - val_loss: 0.6592 - val_accuracy: 0.6316\n",
            "Epoch 16/200\n",
            "5/5 [==============================] - 0s 11ms/step - loss: 0.6651 - accuracy: 0.6180 - val_loss: 0.6582 - val_accuracy: 0.6316\n",
            "Epoch 17/200\n",
            "5/5 [==============================] - 0s 12ms/step - loss: 0.6639 - accuracy: 0.6225 - val_loss: 0.6582 - val_accuracy: 0.6316\n",
            "Epoch 18/200\n",
            "5/5 [==============================] - 0s 12ms/step - loss: 0.6755 - accuracy: 0.6023 - val_loss: 0.6598 - val_accuracy: 0.6316\n",
            "Epoch 19/200\n",
            "5/5 [==============================] - 0s 10ms/step - loss: 0.6593 - accuracy: 0.6330 - val_loss: 0.6586 - val_accuracy: 0.6316\n",
            "Epoch 20/200\n",
            "5/5 [==============================] - 0s 11ms/step - loss: 0.6573 - accuracy: 0.6339 - val_loss: 0.6581 - val_accuracy: 0.6316\n",
            "Epoch 21/200\n",
            "5/5 [==============================] - 0s 10ms/step - loss: 0.6650 - accuracy: 0.6195 - val_loss: 0.6584 - val_accuracy: 0.6316\n",
            "Epoch 22/200\n",
            "5/5 [==============================] - 0s 10ms/step - loss: 0.6570 - accuracy: 0.6343 - val_loss: 0.6581 - val_accuracy: 0.6316\n",
            "Epoch 23/200\n",
            "5/5 [==============================] - 0s 11ms/step - loss: 0.6715 - accuracy: 0.6092 - val_loss: 0.6581 - val_accuracy: 0.6316\n",
            "Epoch 24/200\n",
            "5/5 [==============================] - 0s 10ms/step - loss: 0.6487 - accuracy: 0.6496 - val_loss: 0.6610 - val_accuracy: 0.6316\n",
            "Epoch 25/200\n",
            "5/5 [==============================] - 0s 10ms/step - loss: 0.6605 - accuracy: 0.6317 - val_loss: 0.6601 - val_accuracy: 0.6316\n",
            "Epoch 26/200\n",
            "5/5 [==============================] - 0s 43ms/step - loss: 0.6732 - accuracy: 0.6002 - val_loss: 0.6587 - val_accuracy: 0.6316\n",
            "Epoch 27/200\n",
            "5/5 [==============================] - 0s 10ms/step - loss: 0.6583 - accuracy: 0.6334 - val_loss: 0.6581 - val_accuracy: 0.6316\n",
            "Epoch 28/200\n",
            "5/5 [==============================] - 0s 10ms/step - loss: 0.6597 - accuracy: 0.6306 - val_loss: 0.6593 - val_accuracy: 0.6316\n",
            "Epoch 29/200\n",
            "5/5 [==============================] - 0s 12ms/step - loss: 0.6595 - accuracy: 0.6335 - val_loss: 0.6581 - val_accuracy: 0.6316\n",
            "Epoch 30/200\n",
            "5/5 [==============================] - 0s 12ms/step - loss: 0.6669 - accuracy: 0.6160 - val_loss: 0.6581 - val_accuracy: 0.6316\n",
            "Epoch 31/200\n",
            "5/5 [==============================] - 0s 10ms/step - loss: 0.6712 - accuracy: 0.6100 - val_loss: 0.6583 - val_accuracy: 0.6316\n",
            "Epoch 32/200\n",
            "5/5 [==============================] - 0s 10ms/step - loss: 0.6574 - accuracy: 0.6335 - val_loss: 0.6600 - val_accuracy: 0.6316\n",
            "Epoch 33/200\n",
            "5/5 [==============================] - 0s 11ms/step - loss: 0.6594 - accuracy: 0.6342 - val_loss: 0.6581 - val_accuracy: 0.6316\n",
            "Epoch 34/200\n",
            "5/5 [==============================] - 0s 10ms/step - loss: 0.6578 - accuracy: 0.6353 - val_loss: 0.6585 - val_accuracy: 0.6316\n",
            "Epoch 35/200\n",
            "5/5 [==============================] - 0s 12ms/step - loss: 0.6677 - accuracy: 0.6142 - val_loss: 0.6588 - val_accuracy: 0.6316\n",
            "Epoch 36/200\n",
            "5/5 [==============================] - 0s 10ms/step - loss: 0.6665 - accuracy: 0.6149 - val_loss: 0.6584 - val_accuracy: 0.6316\n",
            "Epoch 37/200\n",
            "5/5 [==============================] - 0s 10ms/step - loss: 0.6638 - accuracy: 0.6228 - val_loss: 0.6583 - val_accuracy: 0.6316\n",
            "Epoch 38/200\n",
            "5/5 [==============================] - 0s 10ms/step - loss: 0.6610 - accuracy: 0.6292 - val_loss: 0.6581 - val_accuracy: 0.6316\n",
            "Epoch 39/200\n",
            "5/5 [==============================] - 0s 10ms/step - loss: 0.6669 - accuracy: 0.6167 - val_loss: 0.6586 - val_accuracy: 0.6316\n",
            "Epoch 40/200\n",
            "5/5 [==============================] - 0s 10ms/step - loss: 0.6607 - accuracy: 0.6282 - val_loss: 0.6582 - val_accuracy: 0.6316\n",
            "Epoch 41/200\n",
            "5/5 [==============================] - 0s 10ms/step - loss: 0.6602 - accuracy: 0.6293 - val_loss: 0.6596 - val_accuracy: 0.6316\n",
            "Epoch 42/200\n",
            "5/5 [==============================] - 0s 10ms/step - loss: 0.6605 - accuracy: 0.6288 - val_loss: 0.6592 - val_accuracy: 0.6316\n",
            "Epoch 43/200\n",
            "5/5 [==============================] - 0s 10ms/step - loss: 0.6669 - accuracy: 0.6163 - val_loss: 0.6589 - val_accuracy: 0.6316\n",
            "Epoch 44/200\n",
            "5/5 [==============================] - 0s 11ms/step - loss: 0.6574 - accuracy: 0.6371 - val_loss: 0.6591 - val_accuracy: 0.6316\n",
            "Epoch 45/200\n",
            "5/5 [==============================] - 0s 10ms/step - loss: 0.6646 - accuracy: 0.6202 - val_loss: 0.6581 - val_accuracy: 0.6316\n",
            "Epoch 46/200\n",
            "5/5 [==============================] - 0s 10ms/step - loss: 0.6549 - accuracy: 0.6385 - val_loss: 0.6581 - val_accuracy: 0.6316\n",
            "Epoch 47/200\n",
            "5/5 [==============================] - 0s 10ms/step - loss: 0.6633 - accuracy: 0.6224 - val_loss: 0.6583 - val_accuracy: 0.6316\n",
            "Epoch 48/200\n",
            "5/5 [==============================] - 0s 13ms/step - loss: 0.6636 - accuracy: 0.6216 - val_loss: 0.6582 - val_accuracy: 0.6316\n",
            "Epoch 49/200\n",
            "5/5 [==============================] - 0s 11ms/step - loss: 0.6674 - accuracy: 0.6167 - val_loss: 0.6581 - val_accuracy: 0.6316\n",
            "Epoch 50/200\n",
            "5/5 [==============================] - 0s 12ms/step - loss: 0.6619 - accuracy: 0.6248 - val_loss: 0.6582 - val_accuracy: 0.6316\n",
            "Epoch 51/200\n",
            "5/5 [==============================] - 0s 14ms/step - loss: 0.6565 - accuracy: 0.6355 - val_loss: 0.6597 - val_accuracy: 0.6316\n",
            "Epoch 52/200\n",
            "5/5 [==============================] - 0s 10ms/step - loss: 0.6637 - accuracy: 0.6224 - val_loss: 0.6581 - val_accuracy: 0.6316\n",
            "Epoch 53/200\n",
            "5/5 [==============================] - 0s 11ms/step - loss: 0.6607 - accuracy: 0.6277 - val_loss: 0.6586 - val_accuracy: 0.6316\n",
            "Epoch 54/200\n",
            "5/5 [==============================] - 0s 10ms/step - loss: 0.6682 - accuracy: 0.6152 - val_loss: 0.6585 - val_accuracy: 0.6316\n",
            "Epoch 55/200\n",
            "5/5 [==============================] - 0s 10ms/step - loss: 0.6552 - accuracy: 0.6395 - val_loss: 0.6582 - val_accuracy: 0.6316\n",
            "Epoch 56/200\n",
            "5/5 [==============================] - 0s 10ms/step - loss: 0.6467 - accuracy: 0.6564 - val_loss: 0.6585 - val_accuracy: 0.6316\n",
            "Epoch 57/200\n",
            "5/5 [==============================] - 0s 11ms/step - loss: 0.6599 - accuracy: 0.6287 - val_loss: 0.6586 - val_accuracy: 0.6316\n",
            "Epoch 58/200\n",
            "5/5 [==============================] - 0s 10ms/step - loss: 0.6643 - accuracy: 0.6198 - val_loss: 0.6581 - val_accuracy: 0.6316\n",
            "Epoch 59/200\n",
            "5/5 [==============================] - 0s 10ms/step - loss: 0.6517 - accuracy: 0.6437 - val_loss: 0.6595 - val_accuracy: 0.6316\n",
            "Epoch 60/200\n",
            "5/5 [==============================] - 0s 11ms/step - loss: 0.6491 - accuracy: 0.6556 - val_loss: 0.6601 - val_accuracy: 0.6316\n",
            "Epoch 61/200\n",
            "5/5 [==============================] - 0s 10ms/step - loss: 0.6605 - accuracy: 0.6302 - val_loss: 0.6588 - val_accuracy: 0.6316\n",
            "Epoch 62/200\n",
            "5/5 [==============================] - 0s 11ms/step - loss: 0.6571 - accuracy: 0.6350 - val_loss: 0.6585 - val_accuracy: 0.6316\n",
            "Epoch 63/200\n",
            "5/5 [==============================] - 0s 11ms/step - loss: 0.6631 - accuracy: 0.6234 - val_loss: 0.6582 - val_accuracy: 0.6316\n",
            "Epoch 64/200\n",
            "5/5 [==============================] - 0s 10ms/step - loss: 0.6605 - accuracy: 0.6275 - val_loss: 0.6585 - val_accuracy: 0.6316\n",
            "Epoch 65/200\n",
            "5/5 [==============================] - 0s 11ms/step - loss: 0.6610 - accuracy: 0.6270 - val_loss: 0.6586 - val_accuracy: 0.6316\n",
            "Epoch 66/200\n",
            "5/5 [==============================] - 0s 11ms/step - loss: 0.6697 - accuracy: 0.6102 - val_loss: 0.6581 - val_accuracy: 0.6316\n",
            "Epoch 67/200\n",
            "5/5 [==============================] - 0s 12ms/step - loss: 0.6590 - accuracy: 0.6318 - val_loss: 0.6581 - val_accuracy: 0.6316\n",
            "Epoch 68/200\n",
            "5/5 [==============================] - 0s 11ms/step - loss: 0.6548 - accuracy: 0.6382 - val_loss: 0.6581 - val_accuracy: 0.6316\n",
            "Epoch 69/200\n",
            "5/5 [==============================] - 0s 13ms/step - loss: 0.6529 - accuracy: 0.6441 - val_loss: 0.6585 - val_accuracy: 0.6316\n",
            "Epoch 70/200\n",
            "5/5 [==============================] - 0s 10ms/step - loss: 0.6590 - accuracy: 0.6324 - val_loss: 0.6581 - val_accuracy: 0.6316\n",
            "Epoch 71/200\n",
            "5/5 [==============================] - 0s 11ms/step - loss: 0.6586 - accuracy: 0.6325 - val_loss: 0.6587 - val_accuracy: 0.6316\n",
            "Epoch 72/200\n",
            "5/5 [==============================] - 0s 41ms/step - loss: 0.6622 - accuracy: 0.6241 - val_loss: 0.6582 - val_accuracy: 0.6316\n",
            "Epoch 73/200\n",
            "5/5 [==============================] - 0s 11ms/step - loss: 0.6542 - accuracy: 0.6399 - val_loss: 0.6590 - val_accuracy: 0.6316\n",
            "Epoch 74/200\n",
            "5/5 [==============================] - 0s 11ms/step - loss: 0.6565 - accuracy: 0.6367 - val_loss: 0.6592 - val_accuracy: 0.6316\n",
            "Epoch 75/200\n",
            "5/5 [==============================] - 0s 11ms/step - loss: 0.6726 - accuracy: 0.6041 - val_loss: 0.6581 - val_accuracy: 0.6316\n",
            "Epoch 76/200\n",
            "5/5 [==============================] - 0s 12ms/step - loss: 0.6812 - accuracy: 0.5898 - val_loss: 0.6584 - val_accuracy: 0.6316\n",
            "Epoch 77/200\n",
            "5/5 [==============================] - 0s 11ms/step - loss: 0.6552 - accuracy: 0.6377 - val_loss: 0.6583 - val_accuracy: 0.6316\n",
            "Epoch 78/200\n",
            "5/5 [==============================] - 0s 11ms/step - loss: 0.6559 - accuracy: 0.6368 - val_loss: 0.6583 - val_accuracy: 0.6316\n",
            "Epoch 79/200\n",
            "5/5 [==============================] - 0s 11ms/step - loss: 0.6630 - accuracy: 0.6227 - val_loss: 0.6584 - val_accuracy: 0.6316\n",
            "Epoch 80/200\n",
            "5/5 [==============================] - 0s 11ms/step - loss: 0.6549 - accuracy: 0.6414 - val_loss: 0.6586 - val_accuracy: 0.6316\n",
            "Epoch 81/200\n",
            "5/5 [==============================] - 0s 12ms/step - loss: 0.6665 - accuracy: 0.6155 - val_loss: 0.6581 - val_accuracy: 0.6316\n",
            "Epoch 82/200\n",
            "5/5 [==============================] - 0s 12ms/step - loss: 0.6579 - accuracy: 0.6331 - val_loss: 0.6582 - val_accuracy: 0.6316\n",
            "Epoch 83/200\n",
            "5/5 [==============================] - 0s 11ms/step - loss: 0.6643 - accuracy: 0.6206 - val_loss: 0.6583 - val_accuracy: 0.6316\n",
            "Epoch 84/200\n",
            "5/5 [==============================] - 0s 11ms/step - loss: 0.6510 - accuracy: 0.6455 - val_loss: 0.6585 - val_accuracy: 0.6316\n",
            "Epoch 85/200\n",
            "5/5 [==============================] - 0s 11ms/step - loss: 0.6711 - accuracy: 0.6084 - val_loss: 0.6584 - val_accuracy: 0.6316\n",
            "Epoch 86/200\n",
            "5/5 [==============================] - 0s 14ms/step - loss: 0.6691 - accuracy: 0.6103 - val_loss: 0.6581 - val_accuracy: 0.6316\n",
            "Epoch 87/200\n",
            "5/5 [==============================] - 0s 12ms/step - loss: 0.6666 - accuracy: 0.6203 - val_loss: 0.6585 - val_accuracy: 0.6316\n",
            "Epoch 88/200\n",
            "5/5 [==============================] - 0s 11ms/step - loss: 0.6624 - accuracy: 0.6242 - val_loss: 0.6583 - val_accuracy: 0.6316\n",
            "Epoch 89/200\n",
            "5/5 [==============================] - 0s 10ms/step - loss: 0.6576 - accuracy: 0.6332 - val_loss: 0.6582 - val_accuracy: 0.6316\n",
            "Epoch 90/200\n",
            "5/5 [==============================] - 0s 11ms/step - loss: 0.6663 - accuracy: 0.6164 - val_loss: 0.6582 - val_accuracy: 0.6316\n",
            "Epoch 91/200\n",
            "5/5 [==============================] - 0s 12ms/step - loss: 0.6586 - accuracy: 0.6314 - val_loss: 0.6586 - val_accuracy: 0.6316\n",
            "Epoch 92/200\n",
            "5/5 [==============================] - 0s 11ms/step - loss: 0.6542 - accuracy: 0.6457 - val_loss: 0.6588 - val_accuracy: 0.6316\n",
            "Epoch 93/200\n",
            "5/5 [==============================] - 0s 12ms/step - loss: 0.6527 - accuracy: 0.6443 - val_loss: 0.6597 - val_accuracy: 0.6316\n",
            "Epoch 94/200\n",
            "5/5 [==============================] - 0s 11ms/step - loss: 0.6606 - accuracy: 0.6288 - val_loss: 0.6587 - val_accuracy: 0.6316\n",
            "Epoch 95/200\n",
            "5/5 [==============================] - 0s 13ms/step - loss: 0.6587 - accuracy: 0.6334 - val_loss: 0.6594 - val_accuracy: 0.6316\n",
            "Epoch 96/200\n",
            "5/5 [==============================] - 0s 12ms/step - loss: 0.6613 - accuracy: 0.6270 - val_loss: 0.6590 - val_accuracy: 0.6316\n",
            "Epoch 97/200\n",
            "5/5 [==============================] - 0s 11ms/step - loss: 0.6633 - accuracy: 0.6223 - val_loss: 0.6585 - val_accuracy: 0.6316\n",
            "Epoch 98/200\n",
            "5/5 [==============================] - 0s 12ms/step - loss: 0.6546 - accuracy: 0.6424 - val_loss: 0.6581 - val_accuracy: 0.6316\n",
            "Epoch 99/200\n",
            "5/5 [==============================] - 0s 12ms/step - loss: 0.6533 - accuracy: 0.6410 - val_loss: 0.6582 - val_accuracy: 0.6316\n",
            "Epoch 100/200\n",
            "5/5 [==============================] - 0s 11ms/step - loss: 0.6531 - accuracy: 0.6432 - val_loss: 0.6584 - val_accuracy: 0.6316\n",
            "Epoch 101/200\n",
            "5/5 [==============================] - 0s 11ms/step - loss: 0.6625 - accuracy: 0.6232 - val_loss: 0.6582 - val_accuracy: 0.6316\n",
            "Epoch 102/200\n",
            "5/5 [==============================] - 0s 11ms/step - loss: 0.6652 - accuracy: 0.6203 - val_loss: 0.6583 - val_accuracy: 0.6316\n",
            "Epoch 103/200\n",
            "5/5 [==============================] - 0s 13ms/step - loss: 0.6623 - accuracy: 0.6246 - val_loss: 0.6584 - val_accuracy: 0.6316\n",
            "Epoch 104/200\n",
            "5/5 [==============================] - 0s 13ms/step - loss: 0.6588 - accuracy: 0.6323 - val_loss: 0.6583 - val_accuracy: 0.6316\n",
            "Epoch 105/200\n",
            "5/5 [==============================] - 0s 14ms/step - loss: 0.6472 - accuracy: 0.6550 - val_loss: 0.6595 - val_accuracy: 0.6316\n",
            "Epoch 106/200\n",
            "5/5 [==============================] - 0s 11ms/step - loss: 0.6651 - accuracy: 0.6189 - val_loss: 0.6582 - val_accuracy: 0.6316\n",
            "Epoch 107/200\n",
            "5/5 [==============================] - 0s 11ms/step - loss: 0.6719 - accuracy: 0.6062 - val_loss: 0.6582 - val_accuracy: 0.6316\n",
            "Epoch 108/200\n",
            "5/5 [==============================] - 0s 12ms/step - loss: 0.6573 - accuracy: 0.6332 - val_loss: 0.6587 - val_accuracy: 0.6316\n",
            "Epoch 109/200\n",
            "5/5 [==============================] - 0s 11ms/step - loss: 0.6573 - accuracy: 0.6349 - val_loss: 0.6591 - val_accuracy: 0.6316\n",
            "Epoch 110/200\n",
            "5/5 [==============================] - 0s 11ms/step - loss: 0.6663 - accuracy: 0.6164 - val_loss: 0.6582 - val_accuracy: 0.6316\n",
            "Epoch 111/200\n",
            "5/5 [==============================] - 0s 11ms/step - loss: 0.6659 - accuracy: 0.6171 - val_loss: 0.6582 - val_accuracy: 0.6316\n",
            "Epoch 112/200\n",
            "5/5 [==============================] - 0s 11ms/step - loss: 0.6584 - accuracy: 0.6317 - val_loss: 0.6581 - val_accuracy: 0.6316\n",
            "Epoch 113/200\n",
            "5/5 [==============================] - 0s 11ms/step - loss: 0.6639 - accuracy: 0.6212 - val_loss: 0.6582 - val_accuracy: 0.6316\n",
            "Epoch 114/200\n",
            "5/5 [==============================] - 0s 12ms/step - loss: 0.6586 - accuracy: 0.6314 - val_loss: 0.6585 - val_accuracy: 0.6316\n",
            "Epoch 115/200\n",
            "5/5 [==============================] - 0s 11ms/step - loss: 0.6634 - accuracy: 0.6230 - val_loss: 0.6582 - val_accuracy: 0.6316\n",
            "Epoch 116/200\n",
            "5/5 [==============================] - 0s 10ms/step - loss: 0.6649 - accuracy: 0.6207 - val_loss: 0.6583 - val_accuracy: 0.6316\n",
            "Epoch 117/200\n",
            "5/5 [==============================] - 0s 11ms/step - loss: 0.6629 - accuracy: 0.6234 - val_loss: 0.6581 - val_accuracy: 0.6316\n",
            "Epoch 118/200\n",
            "5/5 [==============================] - 0s 11ms/step - loss: 0.6572 - accuracy: 0.6337 - val_loss: 0.6587 - val_accuracy: 0.6316\n",
            "Epoch 119/200\n",
            "5/5 [==============================] - 0s 11ms/step - loss: 0.6589 - accuracy: 0.6316 - val_loss: 0.6583 - val_accuracy: 0.6316\n",
            "Epoch 120/200\n",
            "5/5 [==============================] - 0s 11ms/step - loss: 0.6496 - accuracy: 0.6496 - val_loss: 0.6592 - val_accuracy: 0.6316\n",
            "Epoch 121/200\n",
            "5/5 [==============================] - 0s 10ms/step - loss: 0.6621 - accuracy: 0.6246 - val_loss: 0.6585 - val_accuracy: 0.6316\n",
            "Epoch 122/200\n",
            "5/5 [==============================] - 0s 10ms/step - loss: 0.6762 - accuracy: 0.5966 - val_loss: 0.6582 - val_accuracy: 0.6316\n",
            "Epoch 123/200\n",
            "5/5 [==============================] - 0s 11ms/step - loss: 0.6626 - accuracy: 0.6243 - val_loss: 0.6582 - val_accuracy: 0.6316\n",
            "Epoch 124/200\n",
            "5/5 [==============================] - 0s 14ms/step - loss: 0.6512 - accuracy: 0.6473 - val_loss: 0.6584 - val_accuracy: 0.6316\n",
            "Epoch 125/200\n",
            "5/5 [==============================] - 0s 12ms/step - loss: 0.6443 - accuracy: 0.6610 - val_loss: 0.6593 - val_accuracy: 0.6316\n",
            "Epoch 126/200\n",
            "5/5 [==============================] - 0s 13ms/step - loss: 0.6609 - accuracy: 0.6278 - val_loss: 0.6584 - val_accuracy: 0.6316\n",
            "Epoch 127/200\n",
            "5/5 [==============================] - 0s 11ms/step - loss: 0.6536 - accuracy: 0.6432 - val_loss: 0.6581 - val_accuracy: 0.6316\n",
            "Epoch 128/200\n",
            "5/5 [==============================] - 0s 11ms/step - loss: 0.6601 - accuracy: 0.6285 - val_loss: 0.6582 - val_accuracy: 0.6316\n",
            "Epoch 129/200\n",
            "5/5 [==============================] - 0s 10ms/step - loss: 0.6605 - accuracy: 0.6277 - val_loss: 0.6585 - val_accuracy: 0.6316\n",
            "Epoch 130/200\n",
            "5/5 [==============================] - 0s 40ms/step - loss: 0.6617 - accuracy: 0.6259 - val_loss: 0.6586 - val_accuracy: 0.6316\n",
            "Epoch 131/200\n",
            "5/5 [==============================] - 0s 12ms/step - loss: 0.6631 - accuracy: 0.6223 - val_loss: 0.6581 - val_accuracy: 0.6316\n",
            "Epoch 132/200\n",
            "5/5 [==============================] - 0s 12ms/step - loss: 0.6561 - accuracy: 0.6364 - val_loss: 0.6583 - val_accuracy: 0.6316\n",
            "Epoch 133/200\n",
            "5/5 [==============================] - 0s 10ms/step - loss: 0.6627 - accuracy: 0.6231 - val_loss: 0.6585 - val_accuracy: 0.6316\n",
            "Epoch 134/200\n",
            "5/5 [==============================] - 0s 11ms/step - loss: 0.6524 - accuracy: 0.6441 - val_loss: 0.6596 - val_accuracy: 0.6316\n",
            "Epoch 135/200\n",
            "5/5 [==============================] - 0s 11ms/step - loss: 0.6750 - accuracy: 0.5970 - val_loss: 0.6581 - val_accuracy: 0.6316\n",
            "Epoch 136/200\n",
            "5/5 [==============================] - 0s 13ms/step - loss: 0.6670 - accuracy: 0.6166 - val_loss: 0.6582 - val_accuracy: 0.6316\n",
            "Epoch 137/200\n",
            "5/5 [==============================] - 0s 12ms/step - loss: 0.6634 - accuracy: 0.6220 - val_loss: 0.6582 - val_accuracy: 0.6316\n",
            "Epoch 138/200\n",
            "5/5 [==============================] - 0s 11ms/step - loss: 0.6622 - accuracy: 0.6245 - val_loss: 0.6581 - val_accuracy: 0.6316\n",
            "Epoch 139/200\n",
            "5/5 [==============================] - 0s 10ms/step - loss: 0.6738 - accuracy: 0.6024 - val_loss: 0.6585 - val_accuracy: 0.6316\n",
            "Epoch 140/200\n",
            "5/5 [==============================] - 0s 11ms/step - loss: 0.6588 - accuracy: 0.6314 - val_loss: 0.6582 - val_accuracy: 0.6316\n",
            "Epoch 141/200\n",
            "5/5 [==============================] - 0s 13ms/step - loss: 0.6589 - accuracy: 0.6303 - val_loss: 0.6581 - val_accuracy: 0.6316\n",
            "Epoch 142/200\n",
            "5/5 [==============================] - 0s 12ms/step - loss: 0.6643 - accuracy: 0.6216 - val_loss: 0.6581 - val_accuracy: 0.6316\n",
            "Epoch 143/200\n",
            "5/5 [==============================] - 0s 12ms/step - loss: 0.6596 - accuracy: 0.6300 - val_loss: 0.6585 - val_accuracy: 0.6316\n",
            "Epoch 144/200\n",
            "5/5 [==============================] - 0s 11ms/step - loss: 0.6492 - accuracy: 0.6539 - val_loss: 0.6591 - val_accuracy: 0.6316\n",
            "Epoch 145/200\n",
            "5/5 [==============================] - 0s 11ms/step - loss: 0.6613 - accuracy: 0.6264 - val_loss: 0.6584 - val_accuracy: 0.6316\n",
            "Epoch 146/200\n",
            "5/5 [==============================] - 0s 12ms/step - loss: 0.6645 - accuracy: 0.6195 - val_loss: 0.6582 - val_accuracy: 0.6316\n",
            "Epoch 147/200\n",
            "5/5 [==============================] - 0s 12ms/step - loss: 0.6610 - accuracy: 0.6274 - val_loss: 0.6582 - val_accuracy: 0.6316\n",
            "Epoch 148/200\n",
            "5/5 [==============================] - 0s 12ms/step - loss: 0.6558 - accuracy: 0.6363 - val_loss: 0.6582 - val_accuracy: 0.6316\n",
            "Epoch 149/200\n",
            "5/5 [==============================] - 0s 11ms/step - loss: 0.6597 - accuracy: 0.6302 - val_loss: 0.6584 - val_accuracy: 0.6316\n",
            "Epoch 150/200\n",
            "5/5 [==============================] - 0s 11ms/step - loss: 0.6683 - accuracy: 0.6118 - val_loss: 0.6583 - val_accuracy: 0.6316\n",
            "Epoch 151/200\n",
            "5/5 [==============================] - 0s 13ms/step - loss: 0.6542 - accuracy: 0.6398 - val_loss: 0.6581 - val_accuracy: 0.6316\n",
            "Epoch 152/200\n",
            "5/5 [==============================] - 0s 12ms/step - loss: 0.6691 - accuracy: 0.6116 - val_loss: 0.6583 - val_accuracy: 0.6316\n",
            "Epoch 153/200\n",
            "5/5 [==============================] - 0s 18ms/step - loss: 0.6532 - accuracy: 0.6414 - val_loss: 0.6581 - val_accuracy: 0.6316\n",
            "Epoch 154/200\n",
            "5/5 [==============================] - 0s 13ms/step - loss: 0.6628 - accuracy: 0.6231 - val_loss: 0.6582 - val_accuracy: 0.6316\n",
            "Epoch 155/200\n",
            "5/5 [==============================] - 0s 12ms/step - loss: 0.6643 - accuracy: 0.6218 - val_loss: 0.6583 - val_accuracy: 0.6316\n",
            "Epoch 156/200\n",
            "5/5 [==============================] - 0s 12ms/step - loss: 0.6569 - accuracy: 0.6359 - val_loss: 0.6583 - val_accuracy: 0.6316\n",
            "Epoch 157/200\n",
            "5/5 [==============================] - 0s 13ms/step - loss: 0.6604 - accuracy: 0.6292 - val_loss: 0.6581 - val_accuracy: 0.6316\n",
            "Epoch 158/200\n",
            "5/5 [==============================] - 0s 11ms/step - loss: 0.6427 - accuracy: 0.6599 - val_loss: 0.6593 - val_accuracy: 0.6316\n",
            "Epoch 159/200\n",
            "5/5 [==============================] - 0s 12ms/step - loss: 0.6665 - accuracy: 0.6152 - val_loss: 0.6581 - val_accuracy: 0.6316\n",
            "Epoch 160/200\n",
            "5/5 [==============================] - 0s 11ms/step - loss: 0.6652 - accuracy: 0.6188 - val_loss: 0.6581 - val_accuracy: 0.6316\n",
            "Epoch 161/200\n",
            "5/5 [==============================] - 0s 12ms/step - loss: 0.6562 - accuracy: 0.6362 - val_loss: 0.6585 - val_accuracy: 0.6316\n",
            "Epoch 162/200\n",
            "5/5 [==============================] - 0s 13ms/step - loss: 0.6670 - accuracy: 0.6148 - val_loss: 0.6584 - val_accuracy: 0.6316\n",
            "Epoch 163/200\n",
            "5/5 [==============================] - 0s 11ms/step - loss: 0.6628 - accuracy: 0.6231 - val_loss: 0.6582 - val_accuracy: 0.6316\n",
            "Epoch 164/200\n",
            "5/5 [==============================] - 0s 10ms/step - loss: 0.6470 - accuracy: 0.6539 - val_loss: 0.6596 - val_accuracy: 0.6316\n",
            "Epoch 165/200\n",
            "5/5 [==============================] - 0s 10ms/step - loss: 0.6574 - accuracy: 0.6357 - val_loss: 0.6593 - val_accuracy: 0.6316\n",
            "Epoch 166/200\n",
            "5/5 [==============================] - 0s 12ms/step - loss: 0.6631 - accuracy: 0.6230 - val_loss: 0.6588 - val_accuracy: 0.6316\n",
            "Epoch 167/200\n",
            "5/5 [==============================] - 0s 10ms/step - loss: 0.6655 - accuracy: 0.6171 - val_loss: 0.6582 - val_accuracy: 0.6316\n",
            "Epoch 168/200\n",
            "5/5 [==============================] - 0s 11ms/step - loss: 0.6551 - accuracy: 0.6373 - val_loss: 0.6586 - val_accuracy: 0.6316\n",
            "Epoch 169/200\n",
            "5/5 [==============================] - 0s 11ms/step - loss: 0.6567 - accuracy: 0.6364 - val_loss: 0.6587 - val_accuracy: 0.6316\n",
            "Epoch 170/200\n",
            "5/5 [==============================] - 0s 11ms/step - loss: 0.6632 - accuracy: 0.6224 - val_loss: 0.6581 - val_accuracy: 0.6316\n",
            "Epoch 171/200\n",
            "5/5 [==============================] - 0s 11ms/step - loss: 0.6502 - accuracy: 0.6493 - val_loss: 0.6582 - val_accuracy: 0.6316\n",
            "Epoch 172/200\n",
            "5/5 [==============================] - 0s 11ms/step - loss: 0.6659 - accuracy: 0.6170 - val_loss: 0.6581 - val_accuracy: 0.6316\n",
            "Epoch 173/200\n",
            "5/5 [==============================] - 0s 12ms/step - loss: 0.6574 - accuracy: 0.6334 - val_loss: 0.6583 - val_accuracy: 0.6316\n",
            "Epoch 174/200\n",
            "5/5 [==============================] - 0s 11ms/step - loss: 0.6556 - accuracy: 0.6371 - val_loss: 0.6593 - val_accuracy: 0.6316\n",
            "Epoch 175/200\n",
            "5/5 [==============================] - 0s 11ms/step - loss: 0.6620 - accuracy: 0.6282 - val_loss: 0.6581 - val_accuracy: 0.6316\n",
            "Epoch 176/200\n",
            "5/5 [==============================] - 0s 12ms/step - loss: 0.6661 - accuracy: 0.6164 - val_loss: 0.6581 - val_accuracy: 0.6316\n",
            "Epoch 177/200\n",
            "5/5 [==============================] - 0s 40ms/step - loss: 0.6709 - accuracy: 0.6105 - val_loss: 0.6582 - val_accuracy: 0.6316\n",
            "Epoch 178/200\n",
            "5/5 [==============================] - 0s 10ms/step - loss: 0.6571 - accuracy: 0.6341 - val_loss: 0.6581 - val_accuracy: 0.6316\n",
            "Epoch 179/200\n",
            "5/5 [==============================] - 0s 11ms/step - loss: 0.6619 - accuracy: 0.6259 - val_loss: 0.6583 - val_accuracy: 0.6316\n",
            "Epoch 180/200\n",
            "5/5 [==============================] - 0s 12ms/step - loss: 0.6660 - accuracy: 0.6171 - val_loss: 0.6581 - val_accuracy: 0.6316\n",
            "Epoch 181/200\n",
            "5/5 [==============================] - 0s 13ms/step - loss: 0.6522 - accuracy: 0.6427 - val_loss: 0.6586 - val_accuracy: 0.6316\n",
            "Epoch 182/200\n",
            "5/5 [==============================] - 0s 12ms/step - loss: 0.6644 - accuracy: 0.6198 - val_loss: 0.6586 - val_accuracy: 0.6316\n",
            "Epoch 183/200\n",
            "5/5 [==============================] - 0s 11ms/step - loss: 0.6725 - accuracy: 0.6030 - val_loss: 0.6581 - val_accuracy: 0.6316\n",
            "Epoch 184/200\n",
            "5/5 [==============================] - 0s 12ms/step - loss: 0.6614 - accuracy: 0.6266 - val_loss: 0.6582 - val_accuracy: 0.6316\n",
            "Epoch 185/200\n",
            "5/5 [==============================] - 0s 12ms/step - loss: 0.6655 - accuracy: 0.6177 - val_loss: 0.6581 - val_accuracy: 0.6316\n",
            "Epoch 186/200\n",
            "5/5 [==============================] - 0s 10ms/step - loss: 0.6763 - accuracy: 0.5988 - val_loss: 0.6582 - val_accuracy: 0.6316\n",
            "Epoch 187/200\n",
            "5/5 [==============================] - 0s 10ms/step - loss: 0.6584 - accuracy: 0.6323 - val_loss: 0.6581 - val_accuracy: 0.6316\n",
            "Epoch 188/200\n",
            "5/5 [==============================] - 0s 12ms/step - loss: 0.6592 - accuracy: 0.6303 - val_loss: 0.6581 - val_accuracy: 0.6316\n",
            "Epoch 189/200\n",
            "5/5 [==============================] - 0s 11ms/step - loss: 0.6578 - accuracy: 0.6328 - val_loss: 0.6586 - val_accuracy: 0.6316\n",
            "Epoch 190/200\n",
            "5/5 [==============================] - 0s 11ms/step - loss: 0.6734 - accuracy: 0.6013 - val_loss: 0.6581 - val_accuracy: 0.6316\n",
            "Epoch 191/200\n",
            "5/5 [==============================] - 0s 11ms/step - loss: 0.6674 - accuracy: 0.6162 - val_loss: 0.6582 - val_accuracy: 0.6316\n",
            "Epoch 192/200\n",
            "5/5 [==============================] - 0s 11ms/step - loss: 0.6615 - accuracy: 0.6259 - val_loss: 0.6581 - val_accuracy: 0.6316\n",
            "Epoch 193/200\n",
            "5/5 [==============================] - 0s 12ms/step - loss: 0.6640 - accuracy: 0.6214 - val_loss: 0.6583 - val_accuracy: 0.6316\n",
            "Epoch 194/200\n",
            "5/5 [==============================] - 0s 11ms/step - loss: 0.6521 - accuracy: 0.6453 - val_loss: 0.6592 - val_accuracy: 0.6316\n",
            "Epoch 195/200\n",
            "5/5 [==============================] - 0s 16ms/step - loss: 0.6625 - accuracy: 0.6238 - val_loss: 0.6582 - val_accuracy: 0.6316\n",
            "Epoch 196/200\n",
            "5/5 [==============================] - 0s 13ms/step - loss: 0.6528 - accuracy: 0.6439 - val_loss: 0.6592 - val_accuracy: 0.6316\n",
            "Epoch 197/200\n",
            "5/5 [==============================] - 0s 14ms/step - loss: 0.6559 - accuracy: 0.6402 - val_loss: 0.6587 - val_accuracy: 0.6316\n",
            "Epoch 198/200\n",
            "5/5 [==============================] - 0s 15ms/step - loss: 0.6704 - accuracy: 0.6074 - val_loss: 0.6581 - val_accuracy: 0.6316\n",
            "Epoch 199/200\n",
            "5/5 [==============================] - 0s 14ms/step - loss: 0.6642 - accuracy: 0.6203 - val_loss: 0.6582 - val_accuracy: 0.6316\n",
            "Epoch 200/200\n",
            "5/5 [==============================] - 0s 15ms/step - loss: 0.6482 - accuracy: 0.6531 - val_loss: 0.6582 - val_accuracy: 0.6316\n"
          ],
          "name": "stdout"
        }
      ]
    },
    {
      "cell_type": "code",
      "metadata": {
        "colab": {
          "base_uri": "https://localhost:8080/"
        },
        "id": "GGxg30Bo4rMj",
        "outputId": "39dcc8bf-3af1-4b13-940c-3520c893a7fe"
      },
      "source": [
        "rms_model.evaluate(X_test, y_test)"
      ],
      "execution_count": 33,
      "outputs": [
        {
          "output_type": "stream",
          "text": [
            "4/4 [==============================] - 0s 2ms/step - loss: 0.6582 - accuracy: 0.6316\n"
          ],
          "name": "stdout"
        },
        {
          "output_type": "execute_result",
          "data": {
            "text/plain": [
              "[0.6581771969795227, 0.6315789222717285]"
            ]
          },
          "metadata": {
            "tags": []
          },
          "execution_count": 33
        }
      ]
    },
    {
      "cell_type": "code",
      "metadata": {
        "colab": {
          "base_uri": "https://localhost:8080/",
          "height": 269
        },
        "id": "IdvjQN9z5QBc",
        "outputId": "0db195b2-91d7-4538-ad57-0591d7417781"
      },
      "source": [
        "df = pd.DataFrame(history.history)\n",
        "sns.lineplot(y=df['accuracy'], x=df.index, label='Training Accuracy')\n",
        "sns.lineplot(y=df['val_accuracy'], x=df.index, label='Test Accuracy')\n",
        "plt.ylim([0, 1])\n",
        "plt.legend()\n",
        "plt.show()"
      ],
      "execution_count": 34,
      "outputs": [
        {
          "output_type": "display_data",
          "data": {
            "image/png": "[encoded data removed]",
            "text/plain": [
              "<Figure size 432x288 with 1 Axes>"
            ]
          },
          "metadata": {
            "tags": [],
            "needs_background": "light"
          }
        }
      ]
    },
    {
      "cell_type": "markdown",
      "metadata": {
        "id": "E3KhWb3igGv1"
      },
      "source": [
        "Define the Adam optimizer with learning rate 0.01"
      ]
    },
    {
      "cell_type": "code",
      "metadata": {
        "id": "ewtmWJI3gGv1"
      },
      "source": [
        "# Answer below:\n",
        "adam = Adam(learning_rate=0.01)"
      ],
      "execution_count": 35,
      "outputs": []
    },
    {
      "cell_type": "markdown",
      "metadata": {
        "id": "lnxqbb7CgGv3"
      },
      "source": [
        "Compile and fit the model using the optimizer defined above. How does the peformance differ with this optimizer?"
      ]
    },
    {
      "cell_type": "code",
      "metadata": {
        "id": "rG9-9Nk4gGv3",
        "colab": {
          "base_uri": "https://localhost:8080/"
        },
        "outputId": "b344c206-1d2c-4e94-daa9-5159bb05b2b9"
      },
      "source": [
        "# Answer below:\n",
        "adam_model = build_model(adam)\n",
        "history = adam_model.fit(X_train, y_train, validation_data=(X_test, y_test),\n",
        "              batch_size=100, epochs= 200)"
      ],
      "execution_count": 36,
      "outputs": [
        {
          "output_type": "stream",
          "text": [
            "Epoch 1/200\n",
            "5/5 [==============================] - 1s 70ms/step - loss: 20.0753 - accuracy: 0.4646 - val_loss: 23.3624 - val_accuracy: 0.6316\n",
            "Epoch 2/200\n",
            "5/5 [==============================] - 0s 14ms/step - loss: 18.6831 - accuracy: 0.5559 - val_loss: 20.2214 - val_accuracy: 0.3684\n",
            "Epoch 3/200\n",
            "5/5 [==============================] - 0s 12ms/step - loss: 13.5560 - accuracy: 0.4064 - val_loss: 8.5140 - val_accuracy: 0.6316\n",
            "Epoch 4/200\n",
            "5/5 [==============================] - 0s 14ms/step - loss: 6.0073 - accuracy: 0.5198 - val_loss: 4.9943 - val_accuracy: 0.3684\n",
            "Epoch 5/200\n",
            "5/5 [==============================] - 0s 15ms/step - loss: 3.1823 - accuracy: 0.4177 - val_loss: 2.1393 - val_accuracy: 0.6316\n",
            "Epoch 6/200\n",
            "5/5 [==============================] - 0s 11ms/step - loss: 1.6415 - accuracy: 0.6485 - val_loss: 0.6904 - val_accuracy: 0.4386\n",
            "Epoch 7/200\n",
            "5/5 [==============================] - 0s 13ms/step - loss: 0.6760 - accuracy: 0.5159 - val_loss: 0.5664 - val_accuracy: 0.6842\n",
            "Epoch 8/200\n",
            "5/5 [==============================] - 0s 12ms/step - loss: 0.5691 - accuracy: 0.7138 - val_loss: 0.4331 - val_accuracy: 0.9123\n",
            "Epoch 9/200\n",
            "5/5 [==============================] - 0s 12ms/step - loss: 0.4923 - accuracy: 0.8058 - val_loss: 0.4394 - val_accuracy: 0.8596\n",
            "Epoch 10/200\n",
            "5/5 [==============================] - 0s 10ms/step - loss: 0.4727 - accuracy: 0.8211 - val_loss: 0.4296 - val_accuracy: 0.8509\n",
            "Epoch 11/200\n",
            "5/5 [==============================] - 0s 12ms/step - loss: 0.4385 - accuracy: 0.8375 - val_loss: 0.4506 - val_accuracy: 0.7982\n",
            "Epoch 12/200\n",
            "5/5 [==============================] - 0s 12ms/step - loss: 0.4114 - accuracy: 0.8348 - val_loss: 0.3442 - val_accuracy: 0.8684\n",
            "Epoch 13/200\n",
            "5/5 [==============================] - 0s 10ms/step - loss: 0.4040 - accuracy: 0.8318 - val_loss: 0.3226 - val_accuracy: 0.8684\n",
            "Epoch 14/200\n",
            "5/5 [==============================] - 0s 12ms/step - loss: 0.4260 - accuracy: 0.8268 - val_loss: 0.3360 - val_accuracy: 0.8772\n",
            "Epoch 15/200\n",
            "5/5 [==============================] - 0s 10ms/step - loss: 0.4062 - accuracy: 0.8270 - val_loss: 0.3964 - val_accuracy: 0.8246\n",
            "Epoch 16/200\n",
            "5/5 [==============================] - 0s 11ms/step - loss: 0.4029 - accuracy: 0.8164 - val_loss: 0.3041 - val_accuracy: 0.8684\n",
            "Epoch 17/200\n",
            "5/5 [==============================] - 0s 11ms/step - loss: 0.4039 - accuracy: 0.8011 - val_loss: 0.3131 - val_accuracy: 0.8684\n",
            "Epoch 18/200\n",
            "5/5 [==============================] - 0s 10ms/step - loss: 0.4025 - accuracy: 0.8138 - val_loss: 0.2857 - val_accuracy: 0.9211\n",
            "Epoch 19/200\n",
            "5/5 [==============================] - 0s 42ms/step - loss: 0.3585 - accuracy: 0.8395 - val_loss: 0.3477 - val_accuracy: 0.8596\n",
            "Epoch 20/200\n",
            "5/5 [==============================] - 0s 13ms/step - loss: 0.3709 - accuracy: 0.8367 - val_loss: 0.2764 - val_accuracy: 0.9123\n",
            "Epoch 21/200\n",
            "5/5 [==============================] - 0s 14ms/step - loss: 0.3556 - accuracy: 0.8488 - val_loss: 0.2747 - val_accuracy: 0.9123\n",
            "Epoch 22/200\n",
            "5/5 [==============================] - 0s 11ms/step - loss: 0.3628 - accuracy: 0.8425 - val_loss: 0.2835 - val_accuracy: 0.9123\n",
            "Epoch 23/200\n",
            "5/5 [==============================] - 0s 11ms/step - loss: 0.3556 - accuracy: 0.8298 - val_loss: 0.2723 - val_accuracy: 0.9211\n",
            "Epoch 24/200\n",
            "5/5 [==============================] - 0s 11ms/step - loss: 0.3686 - accuracy: 0.8412 - val_loss: 0.2755 - val_accuracy: 0.9035\n",
            "Epoch 25/200\n",
            "5/5 [==============================] - 0s 10ms/step - loss: 0.3739 - accuracy: 0.8296 - val_loss: 0.2834 - val_accuracy: 0.9123\n",
            "Epoch 26/200\n",
            "5/5 [==============================] - 0s 12ms/step - loss: 0.3656 - accuracy: 0.8191 - val_loss: 0.2698 - val_accuracy: 0.9211\n",
            "Epoch 27/200\n",
            "5/5 [==============================] - 0s 10ms/step - loss: 0.3795 - accuracy: 0.8429 - val_loss: 0.2896 - val_accuracy: 0.8684\n",
            "Epoch 28/200\n",
            "5/5 [==============================] - 0s 11ms/step - loss: 0.3590 - accuracy: 0.8515 - val_loss: 0.2769 - val_accuracy: 0.9123\n",
            "Epoch 29/200\n",
            "5/5 [==============================] - 0s 10ms/step - loss: 0.3465 - accuracy: 0.8337 - val_loss: 0.3194 - val_accuracy: 0.8596\n",
            "Epoch 30/200\n",
            "5/5 [==============================] - 0s 11ms/step - loss: 0.3652 - accuracy: 0.8545 - val_loss: 0.2577 - val_accuracy: 0.9298\n",
            "Epoch 31/200\n",
            "5/5 [==============================] - 0s 11ms/step - loss: 0.3414 - accuracy: 0.8586 - val_loss: 0.3843 - val_accuracy: 0.8246\n",
            "Epoch 32/200\n",
            "5/5 [==============================] - 0s 10ms/step - loss: 0.3827 - accuracy: 0.8322 - val_loss: 0.3107 - val_accuracy: 0.8684\n",
            "Epoch 33/200\n",
            "5/5 [==============================] - 0s 10ms/step - loss: 0.3567 - accuracy: 0.8456 - val_loss: 0.2621 - val_accuracy: 0.9123\n",
            "Epoch 34/200\n",
            "5/5 [==============================] - 0s 12ms/step - loss: 0.3320 - accuracy: 0.8689 - val_loss: 0.2630 - val_accuracy: 0.9123\n",
            "Epoch 35/200\n",
            "5/5 [==============================] - 0s 10ms/step - loss: 0.3271 - accuracy: 0.8544 - val_loss: 0.2670 - val_accuracy: 0.9123\n",
            "Epoch 36/200\n",
            "5/5 [==============================] - 0s 10ms/step - loss: 0.3357 - accuracy: 0.8375 - val_loss: 0.2478 - val_accuracy: 0.9211\n",
            "Epoch 37/200\n",
            "5/5 [==============================] - 0s 11ms/step - loss: 0.3257 - accuracy: 0.8488 - val_loss: 0.2482 - val_accuracy: 0.9123\n",
            "Epoch 38/200\n",
            "5/5 [==============================] - 0s 11ms/step - loss: 0.3190 - accuracy: 0.8575 - val_loss: 0.2477 - val_accuracy: 0.9123\n",
            "Epoch 39/200\n",
            "5/5 [==============================] - 0s 10ms/step - loss: 0.3311 - accuracy: 0.8399 - val_loss: 0.2477 - val_accuracy: 0.9123\n",
            "Epoch 40/200\n",
            "5/5 [==============================] - 0s 11ms/step - loss: 0.3356 - accuracy: 0.8519 - val_loss: 0.2503 - val_accuracy: 0.9211\n",
            "Epoch 41/200\n",
            "5/5 [==============================] - 0s 11ms/step - loss: 0.3168 - accuracy: 0.8753 - val_loss: 0.3879 - val_accuracy: 0.8158\n",
            "Epoch 42/200\n",
            "5/5 [==============================] - 0s 10ms/step - loss: 0.3820 - accuracy: 0.8262 - val_loss: 0.2649 - val_accuracy: 0.9123\n",
            "Epoch 43/200\n",
            "5/5 [==============================] - 0s 12ms/step - loss: 0.3249 - accuracy: 0.8485 - val_loss: 0.2498 - val_accuracy: 0.9035\n",
            "Epoch 44/200\n",
            "5/5 [==============================] - 0s 12ms/step - loss: 0.3369 - accuracy: 0.8661 - val_loss: 0.2564 - val_accuracy: 0.9123\n",
            "Epoch 45/200\n",
            "5/5 [==============================] - 0s 12ms/step - loss: 0.3016 - accuracy: 0.8820 - val_loss: 0.2586 - val_accuracy: 0.9123\n",
            "Epoch 46/200\n",
            "5/5 [==============================] - 0s 11ms/step - loss: 0.3405 - accuracy: 0.8511 - val_loss: 0.2517 - val_accuracy: 0.9123\n",
            "Epoch 47/200\n",
            "5/5 [==============================] - 0s 10ms/step - loss: 0.3309 - accuracy: 0.8449 - val_loss: 0.2759 - val_accuracy: 0.9035\n",
            "Epoch 48/200\n",
            "5/5 [==============================] - 0s 11ms/step - loss: 0.2977 - accuracy: 0.8707 - val_loss: 0.2410 - val_accuracy: 0.9211\n",
            "Epoch 49/200\n",
            "5/5 [==============================] - 0s 10ms/step - loss: 0.3059 - accuracy: 0.8743 - val_loss: 0.3945 - val_accuracy: 0.8333\n",
            "Epoch 50/200\n",
            "5/5 [==============================] - 0s 11ms/step - loss: 0.3887 - accuracy: 0.8230 - val_loss: 0.4210 - val_accuracy: 0.7895\n",
            "Epoch 51/200\n",
            "5/5 [==============================] - 0s 11ms/step - loss: 0.4021 - accuracy: 0.8162 - val_loss: 0.2553 - val_accuracy: 0.9035\n",
            "Epoch 52/200\n",
            "5/5 [==============================] - 0s 11ms/step - loss: 0.3511 - accuracy: 0.8372 - val_loss: 0.2810 - val_accuracy: 0.8684\n",
            "Epoch 53/200\n",
            "5/5 [==============================] - 0s 11ms/step - loss: 0.3197 - accuracy: 0.8555 - val_loss: 0.2569 - val_accuracy: 0.8860\n",
            "Epoch 54/200\n",
            "5/5 [==============================] - 0s 10ms/step - loss: 0.3385 - accuracy: 0.8419 - val_loss: 0.2607 - val_accuracy: 0.9123\n",
            "Epoch 55/200\n",
            "5/5 [==============================] - 0s 11ms/step - loss: 0.3236 - accuracy: 0.8655 - val_loss: 0.3162 - val_accuracy: 0.8596\n",
            "Epoch 56/200\n",
            "5/5 [==============================] - 0s 12ms/step - loss: 0.3278 - accuracy: 0.8568 - val_loss: 0.2443 - val_accuracy: 0.9123\n",
            "Epoch 57/200\n",
            "5/5 [==============================] - 0s 11ms/step - loss: 0.3089 - accuracy: 0.8694 - val_loss: 0.2660 - val_accuracy: 0.8947\n",
            "Epoch 58/200\n",
            "5/5 [==============================] - 0s 10ms/step - loss: 0.3126 - accuracy: 0.8718 - val_loss: 0.2367 - val_accuracy: 0.9123\n",
            "Epoch 59/200\n",
            "5/5 [==============================] - 0s 11ms/step - loss: 0.3184 - accuracy: 0.8611 - val_loss: 0.2325 - val_accuracy: 0.9474\n",
            "Epoch 60/200\n",
            "5/5 [==============================] - 0s 10ms/step - loss: 0.3220 - accuracy: 0.8761 - val_loss: 0.4688 - val_accuracy: 0.7719\n",
            "Epoch 61/200\n",
            "5/5 [==============================] - 0s 10ms/step - loss: 0.4074 - accuracy: 0.8038 - val_loss: 0.2678 - val_accuracy: 0.9035\n",
            "Epoch 62/200\n",
            "5/5 [==============================] - 0s 10ms/step - loss: 0.3932 - accuracy: 0.8196 - val_loss: 0.4520 - val_accuracy: 0.7982\n",
            "Epoch 63/200\n",
            "5/5 [==============================] - 0s 11ms/step - loss: 0.4558 - accuracy: 0.8062 - val_loss: 0.4195 - val_accuracy: 0.7982\n",
            "Epoch 64/200\n",
            "5/5 [==============================] - 0s 11ms/step - loss: 0.4019 - accuracy: 0.8054 - val_loss: 0.2527 - val_accuracy: 0.9298\n",
            "Epoch 65/200\n",
            "5/5 [==============================] - 0s 12ms/step - loss: 0.3341 - accuracy: 0.8520 - val_loss: 0.2644 - val_accuracy: 0.9211\n",
            "Epoch 66/200\n",
            "5/5 [==============================] - 0s 10ms/step - loss: 0.3026 - accuracy: 0.8826 - val_loss: 0.2549 - val_accuracy: 0.9298\n",
            "Epoch 67/200\n",
            "5/5 [==============================] - 0s 11ms/step - loss: 0.3009 - accuracy: 0.8958 - val_loss: 0.2590 - val_accuracy: 0.9035\n",
            "Epoch 68/200\n",
            "5/5 [==============================] - 0s 10ms/step - loss: 0.3320 - accuracy: 0.8609 - val_loss: 0.2517 - val_accuracy: 0.9035\n",
            "Epoch 69/200\n",
            "5/5 [==============================] - 0s 10ms/step - loss: 0.3252 - accuracy: 0.8459 - val_loss: 0.2607 - val_accuracy: 0.9035\n",
            "Epoch 70/200\n",
            "5/5 [==============================] - 0s 12ms/step - loss: 0.3183 - accuracy: 0.8531 - val_loss: 0.2601 - val_accuracy: 0.9035\n",
            "Epoch 71/200\n",
            "5/5 [==============================] - 0s 12ms/step - loss: 0.3217 - accuracy: 0.8571 - val_loss: 0.2381 - val_accuracy: 0.9035\n",
            "Epoch 72/200\n",
            "5/5 [==============================] - 0s 10ms/step - loss: 0.3028 - accuracy: 0.8675 - val_loss: 0.3242 - val_accuracy: 0.8509\n",
            "Epoch 73/200\n",
            "5/5 [==============================] - 0s 11ms/step - loss: 0.3431 - accuracy: 0.8397 - val_loss: 0.2482 - val_accuracy: 0.9035\n",
            "Epoch 74/200\n",
            "5/5 [==============================] - 0s 10ms/step - loss: 0.3585 - accuracy: 0.8292 - val_loss: 0.2724 - val_accuracy: 0.8684\n",
            "Epoch 75/200\n",
            "5/5 [==============================] - 0s 10ms/step - loss: 0.3527 - accuracy: 0.8453 - val_loss: 0.3113 - val_accuracy: 0.8596\n",
            "Epoch 76/200\n",
            "5/5 [==============================] - 0s 11ms/step - loss: 0.3258 - accuracy: 0.8613 - val_loss: 0.2306 - val_accuracy: 0.9298\n",
            "Epoch 77/200\n",
            "5/5 [==============================] - 0s 11ms/step - loss: 0.2930 - accuracy: 0.8864 - val_loss: 0.2358 - val_accuracy: 0.9386\n",
            "Epoch 78/200\n",
            "5/5 [==============================] - 0s 10ms/step - loss: 0.3119 - accuracy: 0.8624 - val_loss: 0.3617 - val_accuracy: 0.8333\n",
            "Epoch 79/200\n",
            "5/5 [==============================] - 0s 40ms/step - loss: 0.4042 - accuracy: 0.8358 - val_loss: 0.2920 - val_accuracy: 0.8684\n",
            "Epoch 80/200\n",
            "5/5 [==============================] - 0s 12ms/step - loss: 0.3476 - accuracy: 0.8546 - val_loss: 0.2680 - val_accuracy: 0.9035\n",
            "Epoch 81/200\n",
            "5/5 [==============================] - 0s 11ms/step - loss: 0.3469 - accuracy: 0.8420 - val_loss: 0.3106 - val_accuracy: 0.8596\n",
            "Epoch 82/200\n",
            "5/5 [==============================] - 0s 12ms/step - loss: 0.3805 - accuracy: 0.8426 - val_loss: 0.3963 - val_accuracy: 0.8246\n",
            "Epoch 83/200\n",
            "5/5 [==============================] - 0s 11ms/step - loss: 0.3698 - accuracy: 0.8259 - val_loss: 0.2423 - val_accuracy: 0.9386\n",
            "Epoch 84/200\n",
            "5/5 [==============================] - 0s 11ms/step - loss: 0.3464 - accuracy: 0.8645 - val_loss: 0.2397 - val_accuracy: 0.9035\n",
            "Epoch 85/200\n",
            "5/5 [==============================] - 0s 11ms/step - loss: 0.3303 - accuracy: 0.8566 - val_loss: 0.2784 - val_accuracy: 0.9035\n",
            "Epoch 86/200\n",
            "5/5 [==============================] - 0s 11ms/step - loss: 0.3451 - accuracy: 0.8446 - val_loss: 0.2879 - val_accuracy: 0.8860\n",
            "Epoch 87/200\n",
            "5/5 [==============================] - 0s 11ms/step - loss: 0.3255 - accuracy: 0.8541 - val_loss: 0.2565 - val_accuracy: 0.9035\n",
            "Epoch 88/200\n",
            "5/5 [==============================] - 0s 11ms/step - loss: 0.2910 - accuracy: 0.8809 - val_loss: 0.2279 - val_accuracy: 0.9298\n",
            "Epoch 89/200\n",
            "5/5 [==============================] - 0s 10ms/step - loss: 0.2961 - accuracy: 0.8713 - val_loss: 0.2641 - val_accuracy: 0.9035\n",
            "Epoch 90/200\n",
            "5/5 [==============================] - 0s 12ms/step - loss: 0.2850 - accuracy: 0.8764 - val_loss: 0.2257 - val_accuracy: 0.9298\n",
            "Epoch 91/200\n",
            "5/5 [==============================] - 0s 11ms/step - loss: 0.3414 - accuracy: 0.8578 - val_loss: 0.2232 - val_accuracy: 0.9298\n",
            "Epoch 92/200\n",
            "5/5 [==============================] - 0s 11ms/step - loss: 0.3270 - accuracy: 0.8555 - val_loss: 0.2992 - val_accuracy: 0.8860\n",
            "Epoch 93/200\n",
            "5/5 [==============================] - 0s 19ms/step - loss: 0.3345 - accuracy: 0.8530 - val_loss: 0.2314 - val_accuracy: 0.9035\n",
            "Epoch 94/200\n",
            "5/5 [==============================] - 0s 13ms/step - loss: 0.3364 - accuracy: 0.8541 - val_loss: 0.2369 - val_accuracy: 0.9123\n",
            "Epoch 95/200\n",
            "5/5 [==============================] - 0s 12ms/step - loss: 0.2922 - accuracy: 0.8668 - val_loss: 0.2264 - val_accuracy: 0.9298\n",
            "Epoch 96/200\n",
            "5/5 [==============================] - 0s 11ms/step - loss: 0.2884 - accuracy: 0.8678 - val_loss: 0.2560 - val_accuracy: 0.9035\n",
            "Epoch 97/200\n",
            "5/5 [==============================] - 0s 10ms/step - loss: 0.2852 - accuracy: 0.8736 - val_loss: 0.2172 - val_accuracy: 0.9298\n",
            "Epoch 98/200\n",
            "5/5 [==============================] - 0s 10ms/step - loss: 0.2751 - accuracy: 0.8889 - val_loss: 0.2384 - val_accuracy: 0.9035\n",
            "Epoch 99/200\n",
            "5/5 [==============================] - 0s 13ms/step - loss: 0.3213 - accuracy: 0.8518 - val_loss: 0.2640 - val_accuracy: 0.9035\n",
            "Epoch 100/200\n",
            "5/5 [==============================] - 0s 11ms/step - loss: 0.3101 - accuracy: 0.8572 - val_loss: 0.2134 - val_accuracy: 0.9298\n",
            "Epoch 101/200\n",
            "5/5 [==============================] - 0s 13ms/step - loss: 0.2904 - accuracy: 0.8856 - val_loss: 0.2351 - val_accuracy: 0.9035\n",
            "Epoch 102/200\n",
            "5/5 [==============================] - 0s 12ms/step - loss: 0.2790 - accuracy: 0.9003 - val_loss: 0.2272 - val_accuracy: 0.9298\n",
            "Epoch 103/200\n",
            "5/5 [==============================] - 0s 11ms/step - loss: 0.2696 - accuracy: 0.8900 - val_loss: 0.2126 - val_accuracy: 0.9386\n",
            "Epoch 104/200\n",
            "5/5 [==============================] - 0s 11ms/step - loss: 0.2579 - accuracy: 0.8880 - val_loss: 0.2645 - val_accuracy: 0.8947\n",
            "Epoch 105/200\n",
            "5/5 [==============================] - 0s 11ms/step - loss: 0.3099 - accuracy: 0.8600 - val_loss: 0.3275 - val_accuracy: 0.8421\n",
            "Epoch 106/200\n",
            "5/5 [==============================] - 0s 11ms/step - loss: 0.3561 - accuracy: 0.8401 - val_loss: 0.2575 - val_accuracy: 0.8684\n",
            "Epoch 107/200\n",
            "5/5 [==============================] - 0s 12ms/step - loss: 0.3601 - accuracy: 0.8326 - val_loss: 0.2312 - val_accuracy: 0.9298\n",
            "Epoch 108/200\n",
            "5/5 [==============================] - 0s 11ms/step - loss: 0.2943 - accuracy: 0.8576 - val_loss: 0.2329 - val_accuracy: 0.9211\n",
            "Epoch 109/200\n",
            "5/5 [==============================] - 0s 12ms/step - loss: 0.2849 - accuracy: 0.8783 - val_loss: 0.2215 - val_accuracy: 0.9211\n",
            "Epoch 110/200\n",
            "5/5 [==============================] - 0s 11ms/step - loss: 0.2954 - accuracy: 0.8705 - val_loss: 0.3110 - val_accuracy: 0.8596\n",
            "Epoch 111/200\n",
            "5/5 [==============================] - 0s 11ms/step - loss: 0.2994 - accuracy: 0.8728 - val_loss: 0.2101 - val_accuracy: 0.9298\n",
            "Epoch 112/200\n",
            "5/5 [==============================] - 0s 11ms/step - loss: 0.2933 - accuracy: 0.8769 - val_loss: 0.2213 - val_accuracy: 0.9298\n",
            "Epoch 113/200\n",
            "5/5 [==============================] - 0s 13ms/step - loss: 0.2916 - accuracy: 0.8788 - val_loss: 0.2169 - val_accuracy: 0.9211\n",
            "Epoch 114/200\n",
            "5/5 [==============================] - 0s 16ms/step - loss: 0.2770 - accuracy: 0.8789 - val_loss: 0.2276 - val_accuracy: 0.9298\n",
            "Epoch 115/200\n",
            "5/5 [==============================] - 0s 12ms/step - loss: 0.2615 - accuracy: 0.8849 - val_loss: 0.2098 - val_accuracy: 0.9298\n",
            "Epoch 116/200\n",
            "5/5 [==============================] - 0s 11ms/step - loss: 0.3027 - accuracy: 0.8633 - val_loss: 0.2114 - val_accuracy: 0.9211\n",
            "Epoch 117/200\n",
            "5/5 [==============================] - 0s 10ms/step - loss: 0.2734 - accuracy: 0.8929 - val_loss: 0.2790 - val_accuracy: 0.8860\n",
            "Epoch 118/200\n",
            "5/5 [==============================] - 0s 11ms/step - loss: 0.3158 - accuracy: 0.8623 - val_loss: 0.2344 - val_accuracy: 0.9035\n",
            "Epoch 119/200\n",
            "5/5 [==============================] - 0s 14ms/step - loss: 0.3014 - accuracy: 0.8657 - val_loss: 0.3027 - val_accuracy: 0.8509\n",
            "Epoch 120/200\n",
            "5/5 [==============================] - 0s 12ms/step - loss: 0.3579 - accuracy: 0.8487 - val_loss: 0.2780 - val_accuracy: 0.8860\n",
            "Epoch 121/200\n",
            "5/5 [==============================] - 0s 11ms/step - loss: 0.3024 - accuracy: 0.8722 - val_loss: 0.3158 - val_accuracy: 0.8509\n",
            "Epoch 122/200\n",
            "5/5 [==============================] - 0s 13ms/step - loss: 0.3516 - accuracy: 0.8347 - val_loss: 0.2608 - val_accuracy: 0.8684\n",
            "Epoch 123/200\n",
            "5/5 [==============================] - 0s 13ms/step - loss: 0.3553 - accuracy: 0.8431 - val_loss: 0.2662 - val_accuracy: 0.8947\n",
            "Epoch 124/200\n",
            "5/5 [==============================] - 0s 11ms/step - loss: 0.3326 - accuracy: 0.8418 - val_loss: 0.2231 - val_accuracy: 0.9298\n",
            "Epoch 125/200\n",
            "5/5 [==============================] - 0s 15ms/step - loss: 0.3116 - accuracy: 0.8546 - val_loss: 0.2211 - val_accuracy: 0.9211\n",
            "Epoch 126/200\n",
            "5/5 [==============================] - 0s 13ms/step - loss: 0.2821 - accuracy: 0.8875 - val_loss: 0.2443 - val_accuracy: 0.9035\n",
            "Epoch 127/200\n",
            "5/5 [==============================] - 0s 45ms/step - loss: 0.2969 - accuracy: 0.8618 - val_loss: 0.2141 - val_accuracy: 0.9298\n",
            "Epoch 128/200\n",
            "5/5 [==============================] - 0s 18ms/step - loss: 0.2829 - accuracy: 0.8772 - val_loss: 0.2555 - val_accuracy: 0.8947\n",
            "Epoch 129/200\n",
            "5/5 [==============================] - 0s 11ms/step - loss: 0.2959 - accuracy: 0.8745 - val_loss: 0.2076 - val_accuracy: 0.9298\n",
            "Epoch 130/200\n",
            "5/5 [==============================] - 0s 11ms/step - loss: 0.2787 - accuracy: 0.8813 - val_loss: 0.2235 - val_accuracy: 0.9298\n",
            "Epoch 131/200\n",
            "5/5 [==============================] - 0s 12ms/step - loss: 0.2689 - accuracy: 0.8855 - val_loss: 0.2097 - val_accuracy: 0.9298\n",
            "Epoch 132/200\n",
            "5/5 [==============================] - 0s 10ms/step - loss: 0.2913 - accuracy: 0.8837 - val_loss: 0.2027 - val_accuracy: 0.9298\n",
            "Epoch 133/200\n",
            "5/5 [==============================] - 0s 11ms/step - loss: 0.2787 - accuracy: 0.8744 - val_loss: 0.2208 - val_accuracy: 0.9211\n",
            "Epoch 134/200\n",
            "5/5 [==============================] - 0s 18ms/step - loss: 0.2762 - accuracy: 0.8738 - val_loss: 0.2006 - val_accuracy: 0.9211\n",
            "Epoch 135/200\n",
            "5/5 [==============================] - 0s 12ms/step - loss: 0.2826 - accuracy: 0.8891 - val_loss: 0.2448 - val_accuracy: 0.8947\n",
            "Epoch 136/200\n",
            "5/5 [==============================] - 0s 11ms/step - loss: 0.2639 - accuracy: 0.8980 - val_loss: 0.1995 - val_accuracy: 0.9298\n",
            "Epoch 137/200\n",
            "5/5 [==============================] - 0s 11ms/step - loss: 0.2790 - accuracy: 0.8778 - val_loss: 0.1975 - val_accuracy: 0.9298\n",
            "Epoch 138/200\n",
            "5/5 [==============================] - 0s 11ms/step - loss: 0.3063 - accuracy: 0.8587 - val_loss: 0.2468 - val_accuracy: 0.8860\n",
            "Epoch 139/200\n",
            "5/5 [==============================] - 0s 11ms/step - loss: 0.2774 - accuracy: 0.8866 - val_loss: 0.2172 - val_accuracy: 0.9298\n",
            "Epoch 140/200\n",
            "5/5 [==============================] - 0s 12ms/step - loss: 0.2857 - accuracy: 0.8897 - val_loss: 0.1999 - val_accuracy: 0.9211\n",
            "Epoch 141/200\n",
            "5/5 [==============================] - 0s 12ms/step - loss: 0.2523 - accuracy: 0.8994 - val_loss: 0.2098 - val_accuracy: 0.9298\n",
            "Epoch 142/200\n",
            "5/5 [==============================] - 0s 11ms/step - loss: 0.2588 - accuracy: 0.8973 - val_loss: 0.2100 - val_accuracy: 0.9298\n",
            "Epoch 143/200\n",
            "5/5 [==============================] - 0s 11ms/step - loss: 0.2733 - accuracy: 0.8861 - val_loss: 0.2233 - val_accuracy: 0.9211\n",
            "Epoch 144/200\n",
            "5/5 [==============================] - 0s 11ms/step - loss: 0.2675 - accuracy: 0.9053 - val_loss: 0.1920 - val_accuracy: 0.9123\n",
            "Epoch 145/200\n",
            "5/5 [==============================] - 0s 13ms/step - loss: 0.2526 - accuracy: 0.8911 - val_loss: 0.1910 - val_accuracy: 0.9123\n",
            "Epoch 146/200\n",
            "5/5 [==============================] - 0s 11ms/step - loss: 0.2625 - accuracy: 0.8806 - val_loss: 0.2092 - val_accuracy: 0.9298\n",
            "Epoch 147/200\n",
            "5/5 [==============================] - 0s 11ms/step - loss: 0.2510 - accuracy: 0.9017 - val_loss: 0.1888 - val_accuracy: 0.9123\n",
            "Epoch 148/200\n",
            "5/5 [==============================] - 0s 11ms/step - loss: 0.2586 - accuracy: 0.8793 - val_loss: 0.1879 - val_accuracy: 0.9123\n",
            "Epoch 149/200\n",
            "5/5 [==============================] - 0s 11ms/step - loss: 0.2551 - accuracy: 0.8918 - val_loss: 0.2653 - val_accuracy: 0.8860\n",
            "Epoch 150/200\n",
            "5/5 [==============================] - 0s 13ms/step - loss: 0.2973 - accuracy: 0.8688 - val_loss: 0.2258 - val_accuracy: 0.9035\n",
            "Epoch 151/200\n",
            "5/5 [==============================] - 0s 16ms/step - loss: 0.2587 - accuracy: 0.8935 - val_loss: 0.1865 - val_accuracy: 0.9123\n",
            "Epoch 152/200\n",
            "5/5 [==============================] - 0s 14ms/step - loss: 0.2801 - accuracy: 0.8856 - val_loss: 0.1914 - val_accuracy: 0.9298\n",
            "Epoch 153/200\n",
            "5/5 [==============================] - 0s 11ms/step - loss: 0.3133 - accuracy: 0.8582 - val_loss: 0.1880 - val_accuracy: 0.9123\n",
            "Epoch 154/200\n",
            "5/5 [==============================] - 0s 11ms/step - loss: 0.2958 - accuracy: 0.8617 - val_loss: 0.1893 - val_accuracy: 0.9123\n",
            "Epoch 155/200\n",
            "5/5 [==============================] - 0s 12ms/step - loss: 0.2872 - accuracy: 0.8797 - val_loss: 0.2571 - val_accuracy: 0.8860\n",
            "Epoch 156/200\n",
            "5/5 [==============================] - 0s 12ms/step - loss: 0.2702 - accuracy: 0.8838 - val_loss: 0.2300 - val_accuracy: 0.9035\n",
            "Epoch 157/200\n",
            "5/5 [==============================] - 0s 11ms/step - loss: 0.2835 - accuracy: 0.8764 - val_loss: 0.2337 - val_accuracy: 0.9035\n",
            "Epoch 158/200\n",
            "5/5 [==============================] - 0s 12ms/step - loss: 0.2788 - accuracy: 0.8882 - val_loss: 0.1877 - val_accuracy: 0.9211\n",
            "Epoch 159/200\n",
            "5/5 [==============================] - 0s 11ms/step - loss: 0.2835 - accuracy: 0.8760 - val_loss: 0.2255 - val_accuracy: 0.9035\n",
            "Epoch 160/200\n",
            "5/5 [==============================] - 0s 14ms/step - loss: 0.3091 - accuracy: 0.8490 - val_loss: 0.1916 - val_accuracy: 0.9123\n",
            "Epoch 161/200\n",
            "5/5 [==============================] - 0s 13ms/step - loss: 0.2808 - accuracy: 0.8857 - val_loss: 0.2620 - val_accuracy: 0.8860\n",
            "Epoch 162/200\n",
            "5/5 [==============================] - 0s 12ms/step - loss: 0.2897 - accuracy: 0.8580 - val_loss: 0.1900 - val_accuracy: 0.9123\n",
            "Epoch 163/200\n",
            "5/5 [==============================] - 0s 12ms/step - loss: 0.2613 - accuracy: 0.8838 - val_loss: 0.1893 - val_accuracy: 0.9298\n",
            "Epoch 164/200\n",
            "5/5 [==============================] - 0s 11ms/step - loss: 0.2516 - accuracy: 0.8820 - val_loss: 0.1910 - val_accuracy: 0.9211\n",
            "Epoch 165/200\n",
            "5/5 [==============================] - 0s 12ms/step - loss: 0.2732 - accuracy: 0.8810 - val_loss: 0.1871 - val_accuracy: 0.9123\n",
            "Epoch 166/200\n",
            "5/5 [==============================] - 0s 12ms/step - loss: 0.2354 - accuracy: 0.9102 - val_loss: 0.2606 - val_accuracy: 0.9035\n",
            "Epoch 167/200\n",
            "5/5 [==============================] - 0s 11ms/step - loss: 0.2969 - accuracy: 0.8758 - val_loss: 0.1825 - val_accuracy: 0.9123\n",
            "Epoch 168/200\n",
            "5/5 [==============================] - 0s 11ms/step - loss: 0.2824 - accuracy: 0.8810 - val_loss: 0.2449 - val_accuracy: 0.8772\n",
            "Epoch 169/200\n",
            "5/5 [==============================] - 0s 15ms/step - loss: 0.2853 - accuracy: 0.8832 - val_loss: 0.2119 - val_accuracy: 0.9211\n",
            "Epoch 170/200\n",
            "5/5 [==============================] - 0s 14ms/step - loss: 0.2781 - accuracy: 0.8841 - val_loss: 0.2317 - val_accuracy: 0.9035\n",
            "Epoch 171/200\n",
            "5/5 [==============================] - 0s 12ms/step - loss: 0.2446 - accuracy: 0.8968 - val_loss: 0.1889 - val_accuracy: 0.9211\n",
            "Epoch 172/200\n",
            "5/5 [==============================] - 0s 11ms/step - loss: 0.2473 - accuracy: 0.9023 - val_loss: 0.1842 - val_accuracy: 0.9123\n",
            "Epoch 173/200\n",
            "5/5 [==============================] - 0s 11ms/step - loss: 0.2331 - accuracy: 0.8979 - val_loss: 0.1870 - val_accuracy: 0.9211\n",
            "Epoch 174/200\n",
            "5/5 [==============================] - 0s 11ms/step - loss: 0.2676 - accuracy: 0.8889 - val_loss: 0.1787 - val_accuracy: 0.9123\n",
            "Epoch 175/200\n",
            "5/5 [==============================] - 0s 13ms/step - loss: 0.2445 - accuracy: 0.8947 - val_loss: 0.1802 - val_accuracy: 0.9298\n",
            "Epoch 176/200\n",
            "5/5 [==============================] - 0s 11ms/step - loss: 0.2949 - accuracy: 0.8867 - val_loss: 0.1864 - val_accuracy: 0.9211\n",
            "Epoch 177/200\n",
            "5/5 [==============================] - 0s 13ms/step - loss: 0.2375 - accuracy: 0.8996 - val_loss: 0.1806 - val_accuracy: 0.9211\n",
            "Epoch 178/200\n",
            "5/5 [==============================] - 0s 11ms/step - loss: 0.2531 - accuracy: 0.8936 - val_loss: 0.1802 - val_accuracy: 0.9123\n",
            "Epoch 179/200\n",
            "5/5 [==============================] - 0s 13ms/step - loss: 0.2436 - accuracy: 0.9135 - val_loss: 0.1995 - val_accuracy: 0.9123\n",
            "Epoch 180/200\n",
            "5/5 [==============================] - 0s 13ms/step - loss: 0.2778 - accuracy: 0.8816 - val_loss: 0.2494 - val_accuracy: 0.8860\n",
            "Epoch 181/200\n",
            "5/5 [==============================] - 0s 14ms/step - loss: 0.3563 - accuracy: 0.8325 - val_loss: 0.1830 - val_accuracy: 0.9298\n",
            "Epoch 182/200\n",
            "5/5 [==============================] - 0s 11ms/step - loss: 0.3048 - accuracy: 0.8506 - val_loss: 0.2294 - val_accuracy: 0.9123\n",
            "Epoch 183/200\n",
            "5/5 [==============================] - 0s 14ms/step - loss: 0.2803 - accuracy: 0.8711 - val_loss: 0.3339 - val_accuracy: 0.8772\n",
            "Epoch 184/200\n",
            "5/5 [==============================] - 0s 13ms/step - loss: 0.3151 - accuracy: 0.8530 - val_loss: 0.2126 - val_accuracy: 0.9123\n",
            "Epoch 185/200\n",
            "5/5 [==============================] - 0s 42ms/step - loss: 0.2697 - accuracy: 0.8836 - val_loss: 0.1832 - val_accuracy: 0.9211\n",
            "Epoch 186/200\n",
            "5/5 [==============================] - 0s 12ms/step - loss: 0.2427 - accuracy: 0.8985 - val_loss: 0.1789 - val_accuracy: 0.9123\n",
            "Epoch 187/200\n",
            "5/5 [==============================] - 0s 12ms/step - loss: 0.2692 - accuracy: 0.8827 - val_loss: 0.1839 - val_accuracy: 0.9298\n",
            "Epoch 188/200\n",
            "5/5 [==============================] - 0s 13ms/step - loss: 0.2725 - accuracy: 0.8790 - val_loss: 0.2018 - val_accuracy: 0.9123\n",
            "Epoch 189/200\n",
            "5/5 [==============================] - 0s 11ms/step - loss: 0.2808 - accuracy: 0.8754 - val_loss: 0.1756 - val_accuracy: 0.9123\n",
            "Epoch 190/200\n",
            "5/5 [==============================] - 0s 12ms/step - loss: 0.2203 - accuracy: 0.9133 - val_loss: 0.2472 - val_accuracy: 0.8947\n",
            "Epoch 191/200\n",
            "5/5 [==============================] - 0s 11ms/step - loss: 0.2628 - accuracy: 0.9066 - val_loss: 0.3511 - val_accuracy: 0.8421\n",
            "Epoch 192/200\n",
            "5/5 [==============================] - 0s 12ms/step - loss: 0.3511 - accuracy: 0.8523 - val_loss: 0.2030 - val_accuracy: 0.9298\n",
            "Epoch 193/200\n",
            "5/5 [==============================] - 0s 12ms/step - loss: 0.2965 - accuracy: 0.8734 - val_loss: 0.2455 - val_accuracy: 0.8772\n",
            "Epoch 194/200\n",
            "5/5 [==============================] - 0s 10ms/step - loss: 0.3212 - accuracy: 0.8533 - val_loss: 0.3201 - val_accuracy: 0.8596\n",
            "Epoch 195/200\n",
            "5/5 [==============================] - 0s 11ms/step - loss: 0.3195 - accuracy: 0.8470 - val_loss: 0.1953 - val_accuracy: 0.9123\n",
            "Epoch 196/200\n",
            "5/5 [==============================] - 0s 12ms/step - loss: 0.2837 - accuracy: 0.8884 - val_loss: 0.2146 - val_accuracy: 0.9211\n",
            "Epoch 197/200\n",
            "5/5 [==============================] - 0s 12ms/step - loss: 0.2826 - accuracy: 0.8847 - val_loss: 0.1996 - val_accuracy: 0.9386\n",
            "Epoch 198/200\n",
            "5/5 [==============================] - 0s 11ms/step - loss: 0.2514 - accuracy: 0.9021 - val_loss: 0.1977 - val_accuracy: 0.9211\n",
            "Epoch 199/200\n",
            "5/5 [==============================] - 0s 10ms/step - loss: 0.2518 - accuracy: 0.8941 - val_loss: 0.1889 - val_accuracy: 0.9211\n",
            "Epoch 200/200\n",
            "5/5 [==============================] - 0s 12ms/step - loss: 0.2542 - accuracy: 0.8959 - val_loss: 0.1868 - val_accuracy: 0.9123\n"
          ],
          "name": "stdout"
        }
      ]
    },
    {
      "cell_type": "code",
      "metadata": {
        "colab": {
          "base_uri": "https://localhost:8080/"
        },
        "id": "RqY3P7AZ476M",
        "outputId": "88ce11b2-076e-4812-d64c-8053691ccf5f"
      },
      "source": [
        "adam_model.evaluate(X_test, y_test)"
      ],
      "execution_count": 37,
      "outputs": [
        {
          "output_type": "stream",
          "text": [
            "4/4 [==============================] - 0s 3ms/step - loss: 0.1868 - accuracy: 0.9123\n"
          ],
          "name": "stdout"
        },
        {
          "output_type": "execute_result",
          "data": {
            "text/plain": [
              "[0.18684616684913635, 0.9122806787490845]"
            ]
          },
          "metadata": {
            "tags": []
          },
          "execution_count": 37
        }
      ]
    },
    {
      "cell_type": "code",
      "metadata": {
        "colab": {
          "base_uri": "https://localhost:8080/",
          "height": 269
        },
        "id": "7TtUZsVp5QyH",
        "outputId": "0c650764-890e-4577-8050-b436604af02a"
      },
      "source": [
        "df = pd.DataFrame(history.history)\n",
        "sns.lineplot(y=df['accuracy'], x=df.index, label='Training Accuracy')\n",
        "sns.lineplot(y=df['val_accuracy'], x=df.index, label='Test Accuracy')\n",
        "plt.ylim([0, 1])\n",
        "plt.legend()\n",
        "plt.show()"
      ],
      "execution_count": 38,
      "outputs": [
        {
          "output_type": "display_data",
          "data": {
            "image/png": "[encoded data removed]",
            "text/plain": [
              "<Figure size 432x288 with 1 Axes>"
            ]
          },
          "metadata": {
            "tags": [],
            "needs_background": "light"
          }
        }
      ]
    },
    {
      "cell_type": "markdown",
      "metadata": {
        "id": "1opnI2qCgGv5"
      },
      "source": [
        "Now change the learning rate to 0.1 in your Adam optimizer and compare the results (both speed and accuracy)."
      ]
    },
    {
      "cell_type": "code",
      "metadata": {
        "id": "aIGTzU1DgGv6"
      },
      "source": [
        "# Answer below:\n",
        "adam = Adam(learning_rate=0.1)"
      ],
      "execution_count": 39,
      "outputs": []
    },
    {
      "cell_type": "code",
      "metadata": {
        "id": "e91KQiHqgGv7",
        "colab": {
          "base_uri": "https://localhost:8080/"
        },
        "outputId": "fb81a764-d5d9-4007-ec92-36f16ce337e6"
      },
      "source": [
        "adam_model = build_model(adam)\n",
        "history = adam_model.fit(X_train, y_train, validation_data=(X_test, y_test),\n",
        "              batch_size=100, epochs= 200)"
      ],
      "execution_count": 40,
      "outputs": [
        {
          "output_type": "stream",
          "text": [
            "Epoch 1/200\n",
            "5/5 [==============================] - 1s 51ms/step - loss: 309.5890 - accuracy: 0.5098 - val_loss: 1.1498 - val_accuracy: 0.3684\n",
            "Epoch 2/200\n",
            "5/5 [==============================] - 0s 11ms/step - loss: 0.8014 - accuracy: 0.5249 - val_loss: 0.6583 - val_accuracy: 0.6316\n",
            "Epoch 3/200\n",
            "5/5 [==============================] - 0s 12ms/step - loss: 0.6563 - accuracy: 0.6371 - val_loss: 0.6597 - val_accuracy: 0.6316\n",
            "Epoch 4/200\n",
            "5/5 [==============================] - 0s 11ms/step - loss: 0.6674 - accuracy: 0.6199 - val_loss: 0.6585 - val_accuracy: 0.6316\n",
            "Epoch 5/200\n",
            "5/5 [==============================] - 0s 10ms/step - loss: 0.6655 - accuracy: 0.6206 - val_loss: 0.6581 - val_accuracy: 0.6316\n",
            "Epoch 6/200\n",
            "5/5 [==============================] - 0s 11ms/step - loss: 0.6725 - accuracy: 0.6121 - val_loss: 0.6595 - val_accuracy: 0.6316\n",
            "Epoch 7/200\n",
            "5/5 [==============================] - 0s 12ms/step - loss: 0.6681 - accuracy: 0.6220 - val_loss: 0.6584 - val_accuracy: 0.6316\n",
            "Epoch 8/200\n",
            "5/5 [==============================] - 0s 11ms/step - loss: 0.6607 - accuracy: 0.6278 - val_loss: 0.6583 - val_accuracy: 0.6316\n",
            "Epoch 9/200\n",
            "5/5 [==============================] - 0s 10ms/step - loss: 0.6610 - accuracy: 0.6342 - val_loss: 0.6584 - val_accuracy: 0.6316\n",
            "Epoch 10/200\n",
            "5/5 [==============================] - 0s 11ms/step - loss: 0.6651 - accuracy: 0.6214 - val_loss: 0.6590 - val_accuracy: 0.6316\n",
            "Epoch 11/200\n",
            "5/5 [==============================] - 0s 11ms/step - loss: 0.6809 - accuracy: 0.5917 - val_loss: 0.6581 - val_accuracy: 0.6316\n",
            "Epoch 12/200\n",
            "5/5 [==============================] - 0s 10ms/step - loss: 0.6743 - accuracy: 0.5999 - val_loss: 0.6645 - val_accuracy: 0.6316\n",
            "Epoch 13/200\n",
            "5/5 [==============================] - 0s 11ms/step - loss: 0.6743 - accuracy: 0.6166 - val_loss: 0.6586 - val_accuracy: 0.6316\n",
            "Epoch 14/200\n",
            "5/5 [==============================] - 0s 11ms/step - loss: 0.6581 - accuracy: 0.6335 - val_loss: 0.6594 - val_accuracy: 0.6316\n",
            "Epoch 15/200\n",
            "5/5 [==============================] - 0s 11ms/step - loss: 0.6735 - accuracy: 0.6012 - val_loss: 0.6583 - val_accuracy: 0.6316\n",
            "Epoch 16/200\n",
            "5/5 [==============================] - 0s 15ms/step - loss: 0.6642 - accuracy: 0.6227 - val_loss: 0.6615 - val_accuracy: 0.6316\n",
            "Epoch 17/200\n",
            "5/5 [==============================] - 0s 14ms/step - loss: 0.6574 - accuracy: 0.6366 - val_loss: 0.6581 - val_accuracy: 0.6316\n",
            "Epoch 18/200\n",
            "5/5 [==============================] - 0s 11ms/step - loss: 0.6700 - accuracy: 0.6138 - val_loss: 0.6634 - val_accuracy: 0.6316\n",
            "Epoch 19/200\n",
            "5/5 [==============================] - 0s 13ms/step - loss: 0.6720 - accuracy: 0.5980 - val_loss: 0.6593 - val_accuracy: 0.6316\n",
            "Epoch 20/200\n",
            "5/5 [==============================] - 0s 10ms/step - loss: 0.6560 - accuracy: 0.6456 - val_loss: 0.6620 - val_accuracy: 0.6316\n",
            "Epoch 21/200\n",
            "5/5 [==============================] - 0s 10ms/step - loss: 0.6743 - accuracy: 0.6141 - val_loss: 0.6619 - val_accuracy: 0.6316\n",
            "Epoch 22/200\n",
            "5/5 [==============================] - 0s 10ms/step - loss: 0.6636 - accuracy: 0.6284 - val_loss: 0.6597 - val_accuracy: 0.6316\n",
            "Epoch 23/200\n",
            "5/5 [==============================] - 0s 11ms/step - loss: 0.6557 - accuracy: 0.6413 - val_loss: 0.6587 - val_accuracy: 0.6316\n",
            "Epoch 24/200\n",
            "5/5 [==============================] - 0s 11ms/step - loss: 0.6747 - accuracy: 0.6070 - val_loss: 0.6588 - val_accuracy: 0.6316\n",
            "Epoch 25/200\n",
            "5/5 [==============================] - 0s 10ms/step - loss: 0.6660 - accuracy: 0.6174 - val_loss: 0.6583 - val_accuracy: 0.6316\n",
            "Epoch 26/200\n",
            "5/5 [==============================] - 0s 10ms/step - loss: 0.6565 - accuracy: 0.6360 - val_loss: 0.6582 - val_accuracy: 0.6316\n",
            "Epoch 27/200\n",
            "5/5 [==============================] - 0s 11ms/step - loss: 0.6592 - accuracy: 0.6298 - val_loss: 0.6582 - val_accuracy: 0.6316\n",
            "Epoch 28/200\n",
            "5/5 [==============================] - 0s 11ms/step - loss: 0.6600 - accuracy: 0.6282 - val_loss: 0.6582 - val_accuracy: 0.6316\n",
            "Epoch 29/200\n",
            "5/5 [==============================] - 0s 10ms/step - loss: 0.6707 - accuracy: 0.6081 - val_loss: 0.6586 - val_accuracy: 0.6316\n",
            "Epoch 30/200\n",
            "5/5 [==============================] - 0s 11ms/step - loss: 0.6592 - accuracy: 0.6306 - val_loss: 0.6598 - val_accuracy: 0.6316\n",
            "Epoch 31/200\n",
            "5/5 [==============================] - 0s 42ms/step - loss: 0.6628 - accuracy: 0.6260 - val_loss: 0.6586 - val_accuracy: 0.6316\n",
            "Epoch 32/200\n",
            "5/5 [==============================] - 0s 10ms/step - loss: 0.6664 - accuracy: 0.6162 - val_loss: 0.6589 - val_accuracy: 0.6316\n",
            "Epoch 33/200\n",
            "5/5 [==============================] - 0s 11ms/step - loss: 0.6592 - accuracy: 0.6316 - val_loss: 0.6585 - val_accuracy: 0.6316\n",
            "Epoch 34/200\n",
            "5/5 [==============================] - 0s 11ms/step - loss: 0.6575 - accuracy: 0.6342 - val_loss: 0.6582 - val_accuracy: 0.6316\n",
            "Epoch 35/200\n",
            "5/5 [==============================] - 0s 11ms/step - loss: 0.6672 - accuracy: 0.6180 - val_loss: 0.6594 - val_accuracy: 0.6316\n",
            "Epoch 36/200\n",
            "5/5 [==============================] - 0s 11ms/step - loss: 0.6699 - accuracy: 0.6091 - val_loss: 0.6585 - val_accuracy: 0.6316\n",
            "Epoch 37/200\n",
            "5/5 [==============================] - 0s 11ms/step - loss: 0.6683 - accuracy: 0.6116 - val_loss: 0.6587 - val_accuracy: 0.6316\n",
            "Epoch 38/200\n",
            "5/5 [==============================] - 0s 11ms/step - loss: 0.6595 - accuracy: 0.6320 - val_loss: 0.6597 - val_accuracy: 0.6316\n",
            "Epoch 39/200\n",
            "5/5 [==============================] - 0s 11ms/step - loss: 0.6819 - accuracy: 0.6000 - val_loss: 0.6613 - val_accuracy: 0.6316\n",
            "Epoch 40/200\n",
            "5/5 [==============================] - 0s 14ms/step - loss: 0.6617 - accuracy: 0.6281 - val_loss: 0.6582 - val_accuracy: 0.6316\n",
            "Epoch 41/200\n",
            "5/5 [==============================] - 0s 12ms/step - loss: 0.6618 - accuracy: 0.6262 - val_loss: 0.6585 - val_accuracy: 0.6316\n",
            "Epoch 42/200\n",
            "5/5 [==============================] - 0s 11ms/step - loss: 0.6613 - accuracy: 0.6275 - val_loss: 0.6589 - val_accuracy: 0.6316\n",
            "Epoch 43/200\n",
            "5/5 [==============================] - 0s 11ms/step - loss: 0.6589 - accuracy: 0.6328 - val_loss: 0.6581 - val_accuracy: 0.6316\n",
            "Epoch 44/200\n",
            "5/5 [==============================] - 0s 10ms/step - loss: 0.6479 - accuracy: 0.6523 - val_loss: 0.6581 - val_accuracy: 0.6316\n",
            "Epoch 45/200\n",
            "5/5 [==============================] - 0s 10ms/step - loss: 0.6654 - accuracy: 0.6195 - val_loss: 0.6606 - val_accuracy: 0.6316\n",
            "Epoch 46/200\n",
            "5/5 [==============================] - 0s 11ms/step - loss: 0.6618 - accuracy: 0.6271 - val_loss: 0.6581 - val_accuracy: 0.6316\n",
            "Epoch 47/200\n",
            "5/5 [==============================] - 0s 12ms/step - loss: 0.6615 - accuracy: 0.6259 - val_loss: 0.6583 - val_accuracy: 0.6316\n",
            "Epoch 48/200\n",
            "5/5 [==============================] - 0s 11ms/step - loss: 0.6542 - accuracy: 0.6387 - val_loss: 0.6581 - val_accuracy: 0.6316\n",
            "Epoch 49/200\n",
            "5/5 [==============================] - 0s 11ms/step - loss: 0.6652 - accuracy: 0.6195 - val_loss: 0.6594 - val_accuracy: 0.6316\n",
            "Epoch 50/200\n",
            "5/5 [==============================] - 0s 11ms/step - loss: 0.6590 - accuracy: 0.6324 - val_loss: 0.6582 - val_accuracy: 0.6316\n",
            "Epoch 51/200\n",
            "5/5 [==============================] - 0s 11ms/step - loss: 0.6590 - accuracy: 0.6310 - val_loss: 0.6583 - val_accuracy: 0.6316\n",
            "Epoch 52/200\n",
            "5/5 [==============================] - 0s 10ms/step - loss: 0.6558 - accuracy: 0.6364 - val_loss: 0.6581 - val_accuracy: 0.6316\n",
            "Epoch 53/200\n",
            "5/5 [==============================] - 0s 11ms/step - loss: 0.6716 - accuracy: 0.6085 - val_loss: 0.6591 - val_accuracy: 0.6316\n",
            "Epoch 54/200\n",
            "5/5 [==============================] - 0s 11ms/step - loss: 0.6667 - accuracy: 0.6137 - val_loss: 0.6585 - val_accuracy: 0.6316\n",
            "Epoch 55/200\n",
            "5/5 [==============================] - 0s 11ms/step - loss: 0.6631 - accuracy: 0.6245 - val_loss: 0.6587 - val_accuracy: 0.6316\n",
            "Epoch 56/200\n",
            "5/5 [==============================] - 0s 13ms/step - loss: 0.6580 - accuracy: 0.6327 - val_loss: 0.6590 - val_accuracy: 0.6316\n",
            "Epoch 57/200\n",
            "5/5 [==============================] - 0s 11ms/step - loss: 0.6617 - accuracy: 0.6260 - val_loss: 0.6587 - val_accuracy: 0.6316\n",
            "Epoch 58/200\n",
            "5/5 [==============================] - 0s 11ms/step - loss: 0.6668 - accuracy: 0.6149 - val_loss: 0.6581 - val_accuracy: 0.6316\n",
            "Epoch 59/200\n",
            "5/5 [==============================] - 0s 12ms/step - loss: 0.6646 - accuracy: 0.6202 - val_loss: 0.6588 - val_accuracy: 0.6316\n",
            "Epoch 60/200\n",
            "5/5 [==============================] - 0s 10ms/step - loss: 0.6562 - accuracy: 0.6364 - val_loss: 0.6581 - val_accuracy: 0.6316\n",
            "Epoch 61/200\n",
            "5/5 [==============================] - 0s 11ms/step - loss: 0.6560 - accuracy: 0.6355 - val_loss: 0.6601 - val_accuracy: 0.6316\n",
            "Epoch 62/200\n",
            "5/5 [==============================] - 0s 11ms/step - loss: 0.6743 - accuracy: 0.5991 - val_loss: 0.6589 - val_accuracy: 0.6316\n",
            "Epoch 63/200\n",
            "5/5 [==============================] - 0s 10ms/step - loss: 0.6560 - accuracy: 0.6424 - val_loss: 0.6599 - val_accuracy: 0.6316\n",
            "Epoch 64/200\n",
            "5/5 [==============================] - 0s 11ms/step - loss: 0.6652 - accuracy: 0.6235 - val_loss: 0.6582 - val_accuracy: 0.6316\n",
            "Epoch 65/200\n",
            "5/5 [==============================] - 0s 11ms/step - loss: 0.6650 - accuracy: 0.6198 - val_loss: 0.6587 - val_accuracy: 0.6316\n",
            "Epoch 66/200\n",
            "5/5 [==============================] - 0s 11ms/step - loss: 0.6588 - accuracy: 0.6313 - val_loss: 0.6581 - val_accuracy: 0.6316\n",
            "Epoch 67/200\n",
            "5/5 [==============================] - 0s 12ms/step - loss: 0.6693 - accuracy: 0.6110 - val_loss: 0.6581 - val_accuracy: 0.6316\n",
            "Epoch 68/200\n",
            "5/5 [==============================] - 0s 12ms/step - loss: 0.6528 - accuracy: 0.6431 - val_loss: 0.6581 - val_accuracy: 0.6316\n",
            "Epoch 69/200\n",
            "5/5 [==============================] - 0s 11ms/step - loss: 0.6620 - accuracy: 0.6250 - val_loss: 0.6584 - val_accuracy: 0.6316\n",
            "Epoch 70/200\n",
            "5/5 [==============================] - 0s 11ms/step - loss: 0.6607 - accuracy: 0.6271 - val_loss: 0.6585 - val_accuracy: 0.6316\n",
            "Epoch 71/200\n",
            "5/5 [==============================] - 0s 10ms/step - loss: 0.6591 - accuracy: 0.6303 - val_loss: 0.6581 - val_accuracy: 0.6316\n",
            "Epoch 72/200\n",
            "5/5 [==============================] - 0s 11ms/step - loss: 0.6624 - accuracy: 0.6237 - val_loss: 0.6581 - val_accuracy: 0.6316\n",
            "Epoch 73/200\n",
            "5/5 [==============================] - 0s 16ms/step - loss: 0.6707 - accuracy: 0.6092 - val_loss: 0.6587 - val_accuracy: 0.6316\n",
            "Epoch 74/200\n",
            "5/5 [==============================] - 0s 10ms/step - loss: 0.6651 - accuracy: 0.6173 - val_loss: 0.6584 - val_accuracy: 0.6316\n",
            "Epoch 75/200\n",
            "5/5 [==============================] - 0s 10ms/step - loss: 0.6622 - accuracy: 0.6257 - val_loss: 0.6582 - val_accuracy: 0.6316\n",
            "Epoch 76/200\n",
            "5/5 [==============================] - 0s 11ms/step - loss: 0.6528 - accuracy: 0.6413 - val_loss: 0.6582 - val_accuracy: 0.6316\n",
            "Epoch 77/200\n",
            "5/5 [==============================] - 0s 10ms/step - loss: 0.6644 - accuracy: 0.6206 - val_loss: 0.6593 - val_accuracy: 0.6316\n",
            "Epoch 78/200\n",
            "5/5 [==============================] - 0s 11ms/step - loss: 0.6639 - accuracy: 0.6245 - val_loss: 0.6586 - val_accuracy: 0.6316\n",
            "Epoch 79/200\n",
            "5/5 [==============================] - 0s 13ms/step - loss: 0.6676 - accuracy: 0.6124 - val_loss: 0.6591 - val_accuracy: 0.6316\n",
            "Epoch 80/200\n",
            "5/5 [==============================] - 0s 11ms/step - loss: 0.6583 - accuracy: 0.6349 - val_loss: 0.6602 - val_accuracy: 0.6316\n",
            "Epoch 81/200\n",
            "5/5 [==============================] - 0s 40ms/step - loss: 0.6461 - accuracy: 0.6502 - val_loss: 0.6588 - val_accuracy: 0.6316\n",
            "Epoch 82/200\n",
            "5/5 [==============================] - 0s 10ms/step - loss: 0.6669 - accuracy: 0.6170 - val_loss: 0.6615 - val_accuracy: 0.6316\n",
            "Epoch 83/200\n",
            "5/5 [==============================] - 0s 10ms/step - loss: 0.6589 - accuracy: 0.6368 - val_loss: 0.6587 - val_accuracy: 0.6316\n",
            "Epoch 84/200\n",
            "5/5 [==============================] - 0s 11ms/step - loss: 0.6715 - accuracy: 0.6107 - val_loss: 0.6582 - val_accuracy: 0.6316\n",
            "Epoch 85/200\n",
            "5/5 [==============================] - 0s 11ms/step - loss: 0.6567 - accuracy: 0.6341 - val_loss: 0.6582 - val_accuracy: 0.6316\n",
            "Epoch 86/200\n",
            "5/5 [==============================] - 0s 11ms/step - loss: 0.6649 - accuracy: 0.6191 - val_loss: 0.6596 - val_accuracy: 0.6316\n",
            "Epoch 87/200\n",
            "5/5 [==============================] - 0s 10ms/step - loss: 0.6663 - accuracy: 0.6149 - val_loss: 0.6581 - val_accuracy: 0.6316\n",
            "Epoch 88/200\n",
            "5/5 [==============================] - 0s 12ms/step - loss: 0.6592 - accuracy: 0.6316 - val_loss: 0.6582 - val_accuracy: 0.6316\n",
            "Epoch 89/200\n",
            "5/5 [==============================] - 0s 11ms/step - loss: 0.6605 - accuracy: 0.6278 - val_loss: 0.6582 - val_accuracy: 0.6316\n",
            "Epoch 90/200\n",
            "5/5 [==============================] - 0s 10ms/step - loss: 0.6632 - accuracy: 0.6225 - val_loss: 0.6586 - val_accuracy: 0.6316\n",
            "Epoch 91/200\n",
            "5/5 [==============================] - 0s 10ms/step - loss: 0.6648 - accuracy: 0.6191 - val_loss: 0.6583 - val_accuracy: 0.6316\n",
            "Epoch 92/200\n",
            "5/5 [==============================] - 0s 12ms/step - loss: 0.6561 - accuracy: 0.6373 - val_loss: 0.6582 - val_accuracy: 0.6316\n",
            "Epoch 93/200\n",
            "5/5 [==============================] - 0s 11ms/step - loss: 0.6565 - accuracy: 0.6360 - val_loss: 0.6581 - val_accuracy: 0.6316\n",
            "Epoch 94/200\n",
            "5/5 [==============================] - 0s 11ms/step - loss: 0.6686 - accuracy: 0.6139 - val_loss: 0.6584 - val_accuracy: 0.6316\n",
            "Epoch 95/200\n",
            "5/5 [==============================] - 0s 11ms/step - loss: 0.6525 - accuracy: 0.6445 - val_loss: 0.6582 - val_accuracy: 0.6316\n",
            "Epoch 96/200\n",
            "5/5 [==============================] - 0s 11ms/step - loss: 0.6687 - accuracy: 0.6118 - val_loss: 0.6587 - val_accuracy: 0.6316\n",
            "Epoch 97/200\n",
            "5/5 [==============================] - 0s 10ms/step - loss: 0.6666 - accuracy: 0.6143 - val_loss: 0.6584 - val_accuracy: 0.6316\n",
            "Epoch 98/200\n",
            "5/5 [==============================] - 0s 13ms/step - loss: 0.6648 - accuracy: 0.6212 - val_loss: 0.6584 - val_accuracy: 0.6316\n",
            "Epoch 99/200\n",
            "5/5 [==============================] - 0s 12ms/step - loss: 0.6646 - accuracy: 0.6217 - val_loss: 0.6585 - val_accuracy: 0.6316\n",
            "Epoch 100/200\n",
            "5/5 [==============================] - 0s 11ms/step - loss: 0.6704 - accuracy: 0.6091 - val_loss: 0.6595 - val_accuracy: 0.6316\n",
            "Epoch 101/200\n",
            "5/5 [==============================] - 0s 10ms/step - loss: 0.6762 - accuracy: 0.5920 - val_loss: 0.6581 - val_accuracy: 0.6316\n",
            "Epoch 102/200\n",
            "5/5 [==============================] - 0s 11ms/step - loss: 0.6592 - accuracy: 0.6335 - val_loss: 0.6612 - val_accuracy: 0.6316\n",
            "Epoch 103/200\n",
            "5/5 [==============================] - 0s 12ms/step - loss: 0.6758 - accuracy: 0.6103 - val_loss: 0.6582 - val_accuracy: 0.6316\n",
            "Epoch 104/200\n",
            "5/5 [==============================] - 0s 10ms/step - loss: 0.6619 - accuracy: 0.6250 - val_loss: 0.6600 - val_accuracy: 0.6316\n",
            "Epoch 105/200\n",
            "5/5 [==============================] - 0s 11ms/step - loss: 0.6577 - accuracy: 0.6367 - val_loss: 0.6582 - val_accuracy: 0.6316\n",
            "Epoch 106/200\n",
            "5/5 [==============================] - 0s 12ms/step - loss: 0.6689 - accuracy: 0.6134 - val_loss: 0.6581 - val_accuracy: 0.6316\n",
            "Epoch 107/200\n",
            "5/5 [==============================] - 0s 11ms/step - loss: 0.6643 - accuracy: 0.6202 - val_loss: 0.6585 - val_accuracy: 0.6316\n",
            "Epoch 108/200\n",
            "5/5 [==============================] - 0s 10ms/step - loss: 0.6547 - accuracy: 0.6412 - val_loss: 0.6581 - val_accuracy: 0.6316\n",
            "Epoch 109/200\n",
            "5/5 [==============================] - 0s 11ms/step - loss: 0.6666 - accuracy: 0.6160 - val_loss: 0.6583 - val_accuracy: 0.6316\n",
            "Epoch 110/200\n",
            "5/5 [==============================] - 0s 10ms/step - loss: 0.6699 - accuracy: 0.6092 - val_loss: 0.6581 - val_accuracy: 0.6316\n",
            "Epoch 111/200\n",
            "5/5 [==============================] - 0s 11ms/step - loss: 0.6599 - accuracy: 0.6284 - val_loss: 0.6582 - val_accuracy: 0.6316\n",
            "Epoch 112/200\n",
            "5/5 [==============================] - 0s 11ms/step - loss: 0.6531 - accuracy: 0.6414 - val_loss: 0.6581 - val_accuracy: 0.6316\n",
            "Epoch 113/200\n",
            "5/5 [==============================] - 0s 11ms/step - loss: 0.6663 - accuracy: 0.6171 - val_loss: 0.6586 - val_accuracy: 0.6316\n",
            "Epoch 114/200\n",
            "5/5 [==============================] - 0s 12ms/step - loss: 0.6497 - accuracy: 0.6531 - val_loss: 0.6581 - val_accuracy: 0.6316\n",
            "Epoch 115/200\n",
            "5/5 [==============================] - 0s 13ms/step - loss: 0.6616 - accuracy: 0.6252 - val_loss: 0.6584 - val_accuracy: 0.6316\n",
            "Epoch 116/200\n",
            "5/5 [==============================] - 0s 11ms/step - loss: 0.6702 - accuracy: 0.6087 - val_loss: 0.6587 - val_accuracy: 0.6316\n",
            "Epoch 117/200\n",
            "5/5 [==============================] - 0s 10ms/step - loss: 0.6633 - accuracy: 0.6217 - val_loss: 0.6586 - val_accuracy: 0.6316\n",
            "Epoch 118/200\n",
            "5/5 [==============================] - 0s 11ms/step - loss: 0.6549 - accuracy: 0.6389 - val_loss: 0.6586 - val_accuracy: 0.6316\n",
            "Epoch 119/200\n",
            "5/5 [==============================] - 0s 12ms/step - loss: 0.6575 - accuracy: 0.6328 - val_loss: 0.6593 - val_accuracy: 0.6316\n",
            "Epoch 120/200\n",
            "5/5 [==============================] - 0s 11ms/step - loss: 0.6540 - accuracy: 0.6438 - val_loss: 0.6587 - val_accuracy: 0.6316\n",
            "Epoch 121/200\n",
            "5/5 [==============================] - 0s 12ms/step - loss: 0.6634 - accuracy: 0.6214 - val_loss: 0.6582 - val_accuracy: 0.6316\n",
            "Epoch 122/200\n",
            "5/5 [==============================] - 0s 15ms/step - loss: 0.6528 - accuracy: 0.6437 - val_loss: 0.6583 - val_accuracy: 0.6316\n",
            "Epoch 123/200\n",
            "5/5 [==============================] - 0s 11ms/step - loss: 0.6538 - accuracy: 0.6396 - val_loss: 0.6582 - val_accuracy: 0.6316\n",
            "Epoch 124/200\n",
            "5/5 [==============================] - 0s 14ms/step - loss: 0.6692 - accuracy: 0.6138 - val_loss: 0.6611 - val_accuracy: 0.6316\n",
            "Epoch 125/200\n",
            "5/5 [==============================] - 0s 12ms/step - loss: 0.6646 - accuracy: 0.6202 - val_loss: 0.6581 - val_accuracy: 0.6316\n",
            "Epoch 126/200\n",
            "5/5 [==============================] - 0s 11ms/step - loss: 0.6559 - accuracy: 0.6388 - val_loss: 0.6589 - val_accuracy: 0.6316\n",
            "Epoch 127/200\n",
            "5/5 [==============================] - 0s 11ms/step - loss: 0.6492 - accuracy: 0.6477 - val_loss: 0.6581 - val_accuracy: 0.6316\n",
            "Epoch 128/200\n",
            "5/5 [==============================] - 0s 12ms/step - loss: 0.6531 - accuracy: 0.6402 - val_loss: 0.6600 - val_accuracy: 0.6316\n",
            "Epoch 129/200\n",
            "5/5 [==============================] - 0s 11ms/step - loss: 0.6562 - accuracy: 0.6407 - val_loss: 0.6589 - val_accuracy: 0.6316\n",
            "Epoch 130/200\n",
            "5/5 [==============================] - 0s 11ms/step - loss: 0.6599 - accuracy: 0.6302 - val_loss: 0.6582 - val_accuracy: 0.6316\n",
            "Epoch 131/200\n",
            "5/5 [==============================] - 0s 11ms/step - loss: 0.6611 - accuracy: 0.6262 - val_loss: 0.6581 - val_accuracy: 0.6316\n",
            "Epoch 132/200\n",
            "5/5 [==============================] - 0s 12ms/step - loss: 0.6630 - accuracy: 0.6238 - val_loss: 0.6581 - val_accuracy: 0.6316\n",
            "Epoch 133/200\n",
            "5/5 [==============================] - 0s 15ms/step - loss: 0.6541 - accuracy: 0.6387 - val_loss: 0.6595 - val_accuracy: 0.6316\n",
            "Epoch 134/200\n",
            "5/5 [==============================] - 0s 12ms/step - loss: 0.6664 - accuracy: 0.6188 - val_loss: 0.6593 - val_accuracy: 0.6316\n",
            "Epoch 135/200\n",
            "5/5 [==============================] - 0s 12ms/step - loss: 0.6560 - accuracy: 0.6412 - val_loss: 0.6582 - val_accuracy: 0.6316\n",
            "Epoch 136/200\n",
            "5/5 [==============================] - 0s 10ms/step - loss: 0.6637 - accuracy: 0.6223 - val_loss: 0.6581 - val_accuracy: 0.6316\n",
            "Epoch 137/200\n",
            "5/5 [==============================] - 0s 11ms/step - loss: 0.6674 - accuracy: 0.6157 - val_loss: 0.6592 - val_accuracy: 0.6316\n",
            "Epoch 138/200\n",
            "5/5 [==============================] - 0s 12ms/step - loss: 0.6661 - accuracy: 0.6167 - val_loss: 0.6583 - val_accuracy: 0.6316\n",
            "Epoch 139/200\n",
            "5/5 [==============================] - 0s 11ms/step - loss: 0.6733 - accuracy: 0.6017 - val_loss: 0.6582 - val_accuracy: 0.6316\n",
            "Epoch 140/200\n",
            "5/5 [==============================] - 0s 12ms/step - loss: 0.6516 - accuracy: 0.6478 - val_loss: 0.6588 - val_accuracy: 0.6316\n",
            "Epoch 141/200\n",
            "5/5 [==============================] - 0s 42ms/step - loss: 0.6676 - accuracy: 0.6175 - val_loss: 0.6585 - val_accuracy: 0.6316\n",
            "Epoch 142/200\n",
            "5/5 [==============================] - 0s 11ms/step - loss: 0.6743 - accuracy: 0.6048 - val_loss: 0.6608 - val_accuracy: 0.6316\n",
            "Epoch 143/200\n",
            "5/5 [==============================] - 0s 11ms/step - loss: 0.6580 - accuracy: 0.6387 - val_loss: 0.6587 - val_accuracy: 0.6316\n",
            "Epoch 144/200\n",
            "5/5 [==============================] - 0s 12ms/step - loss: 0.6446 - accuracy: 0.6578 - val_loss: 0.6591 - val_accuracy: 0.6316\n",
            "Epoch 145/200\n",
            "5/5 [==============================] - 0s 15ms/step - loss: 0.6654 - accuracy: 0.6206 - val_loss: 0.6617 - val_accuracy: 0.6316\n",
            "Epoch 146/200\n",
            "5/5 [==============================] - 0s 11ms/step - loss: 0.6619 - accuracy: 0.6300 - val_loss: 0.6586 - val_accuracy: 0.6316\n",
            "Epoch 147/200\n",
            "5/5 [==============================] - 0s 12ms/step - loss: 0.6563 - accuracy: 0.6380 - val_loss: 0.6587 - val_accuracy: 0.6316\n",
            "Epoch 148/200\n",
            "5/5 [==============================] - 0s 11ms/step - loss: 0.6574 - accuracy: 0.6337 - val_loss: 0.6581 - val_accuracy: 0.6316\n",
            "Epoch 149/200\n",
            "5/5 [==============================] - 0s 12ms/step - loss: 0.6549 - accuracy: 0.6374 - val_loss: 0.6590 - val_accuracy: 0.6316\n",
            "Epoch 150/200\n",
            "5/5 [==============================] - 0s 13ms/step - loss: 0.6558 - accuracy: 0.6405 - val_loss: 0.6586 - val_accuracy: 0.6316\n",
            "Epoch 151/200\n",
            "5/5 [==============================] - 0s 12ms/step - loss: 0.6486 - accuracy: 0.6539 - val_loss: 0.6581 - val_accuracy: 0.6316\n",
            "Epoch 152/200\n",
            "5/5 [==============================] - 0s 11ms/step - loss: 0.6649 - accuracy: 0.6198 - val_loss: 0.6599 - val_accuracy: 0.6316\n",
            "Epoch 153/200\n",
            "5/5 [==============================] - 0s 11ms/step - loss: 0.6615 - accuracy: 0.6277 - val_loss: 0.6582 - val_accuracy: 0.6316\n",
            "Epoch 154/200\n",
            "5/5 [==============================] - 0s 11ms/step - loss: 0.6688 - accuracy: 0.6113 - val_loss: 0.6583 - val_accuracy: 0.6316\n",
            "Epoch 155/200\n",
            "5/5 [==============================] - 0s 13ms/step - loss: 0.6616 - accuracy: 0.6266 - val_loss: 0.6581 - val_accuracy: 0.6316\n",
            "Epoch 156/200\n",
            "5/5 [==============================] - 0s 11ms/step - loss: 0.6567 - accuracy: 0.6342 - val_loss: 0.6581 - val_accuracy: 0.6316\n",
            "Epoch 157/200\n",
            "5/5 [==============================] - 0s 11ms/step - loss: 0.6532 - accuracy: 0.6410 - val_loss: 0.6587 - val_accuracy: 0.6316\n",
            "Epoch 158/200\n",
            "5/5 [==============================] - 0s 12ms/step - loss: 0.6692 - accuracy: 0.6106 - val_loss: 0.6591 - val_accuracy: 0.6316\n",
            "Epoch 159/200\n",
            "5/5 [==============================] - 0s 11ms/step - loss: 0.6624 - accuracy: 0.6232 - val_loss: 0.6587 - val_accuracy: 0.6316\n",
            "Epoch 160/200\n",
            "5/5 [==============================] - 0s 13ms/step - loss: 0.6685 - accuracy: 0.6156 - val_loss: 0.6581 - val_accuracy: 0.6316\n",
            "Epoch 161/200\n",
            "5/5 [==============================] - 0s 12ms/step - loss: 0.6582 - accuracy: 0.6313 - val_loss: 0.6585 - val_accuracy: 0.6316\n",
            "Epoch 162/200\n",
            "5/5 [==============================] - 0s 10ms/step - loss: 0.6526 - accuracy: 0.6445 - val_loss: 0.6582 - val_accuracy: 0.6316\n",
            "Epoch 163/200\n",
            "5/5 [==============================] - 0s 11ms/step - loss: 0.6561 - accuracy: 0.6360 - val_loss: 0.6584 - val_accuracy: 0.6316\n",
            "Epoch 164/200\n",
            "5/5 [==============================] - 0s 13ms/step - loss: 0.6629 - accuracy: 0.6225 - val_loss: 0.6586 - val_accuracy: 0.6316\n",
            "Epoch 165/200\n",
            "5/5 [==============================] - 0s 13ms/step - loss: 0.6531 - accuracy: 0.6455 - val_loss: 0.6586 - val_accuracy: 0.6316\n",
            "Epoch 166/200\n",
            "5/5 [==============================] - 0s 11ms/step - loss: 0.6566 - accuracy: 0.6345 - val_loss: 0.6582 - val_accuracy: 0.6316\n",
            "Epoch 167/200\n",
            "5/5 [==============================] - 0s 15ms/step - loss: 0.6605 - accuracy: 0.6275 - val_loss: 0.6594 - val_accuracy: 0.6316\n",
            "Epoch 168/200\n",
            "5/5 [==============================] - 0s 11ms/step - loss: 0.6603 - accuracy: 0.6310 - val_loss: 0.6583 - val_accuracy: 0.6316\n",
            "Epoch 169/200\n",
            "5/5 [==============================] - 0s 11ms/step - loss: 0.6602 - accuracy: 0.6282 - val_loss: 0.6583 - val_accuracy: 0.6316\n",
            "Epoch 170/200\n",
            "5/5 [==============================] - 0s 12ms/step - loss: 0.6515 - accuracy: 0.6459 - val_loss: 0.6581 - val_accuracy: 0.6316\n",
            "Epoch 171/200\n",
            "5/5 [==============================] - 0s 12ms/step - loss: 0.6620 - accuracy: 0.6250 - val_loss: 0.6594 - val_accuracy: 0.6316\n",
            "Epoch 172/200\n",
            "5/5 [==============================] - 0s 11ms/step - loss: 0.6632 - accuracy: 0.6237 - val_loss: 0.6582 - val_accuracy: 0.6316\n",
            "Epoch 173/200\n",
            "5/5 [==============================] - 0s 11ms/step - loss: 0.6438 - accuracy: 0.6625 - val_loss: 0.6583 - val_accuracy: 0.6316\n",
            "Epoch 174/200\n",
            "5/5 [==============================] - 0s 12ms/step - loss: 0.6627 - accuracy: 0.6250 - val_loss: 0.6603 - val_accuracy: 0.6316\n",
            "Epoch 175/200\n",
            "5/5 [==============================] - 0s 12ms/step - loss: 0.6622 - accuracy: 0.6268 - val_loss: 0.6592 - val_accuracy: 0.6316\n",
            "Epoch 176/200\n",
            "5/5 [==============================] - 0s 11ms/step - loss: 0.6640 - accuracy: 0.6198 - val_loss: 0.6585 - val_accuracy: 0.6316\n",
            "Epoch 177/200\n",
            "5/5 [==============================] - 0s 11ms/step - loss: 0.6676 - accuracy: 0.6166 - val_loss: 0.6584 - val_accuracy: 0.6316\n",
            "Epoch 178/200\n",
            "5/5 [==============================] - 0s 11ms/step - loss: 0.6571 - accuracy: 0.6332 - val_loss: 0.6585 - val_accuracy: 0.6316\n",
            "Epoch 179/200\n",
            "5/5 [==============================] - 0s 12ms/step - loss: 0.6683 - accuracy: 0.6128 - val_loss: 0.6595 - val_accuracy: 0.6316\n",
            "Epoch 180/200\n",
            "5/5 [==============================] - 0s 12ms/step - loss: 0.6614 - accuracy: 0.6270 - val_loss: 0.6583 - val_accuracy: 0.6316\n",
            "Epoch 181/200\n",
            "5/5 [==============================] - 0s 12ms/step - loss: 0.6628 - accuracy: 0.6248 - val_loss: 0.6581 - val_accuracy: 0.6316\n",
            "Epoch 182/200\n",
            "5/5 [==============================] - 0s 11ms/step - loss: 0.6712 - accuracy: 0.6085 - val_loss: 0.6584 - val_accuracy: 0.6316\n",
            "Epoch 183/200\n",
            "5/5 [==============================] - 0s 13ms/step - loss: 0.6531 - accuracy: 0.6434 - val_loss: 0.6582 - val_accuracy: 0.6316\n",
            "Epoch 184/200\n",
            "5/5 [==============================] - 0s 13ms/step - loss: 0.6602 - accuracy: 0.6284 - val_loss: 0.6586 - val_accuracy: 0.6316\n",
            "Epoch 185/200\n",
            "5/5 [==============================] - 0s 12ms/step - loss: 0.6630 - accuracy: 0.6223 - val_loss: 0.6583 - val_accuracy: 0.6316\n",
            "Epoch 186/200\n",
            "5/5 [==============================] - 0s 11ms/step - loss: 0.6586 - accuracy: 0.6312 - val_loss: 0.6582 - val_accuracy: 0.6316\n",
            "Epoch 187/200\n",
            "5/5 [==============================] - 0s 11ms/step - loss: 0.6771 - accuracy: 0.5993 - val_loss: 0.6586 - val_accuracy: 0.6316\n",
            "Epoch 188/200\n",
            "5/5 [==============================] - 0s 13ms/step - loss: 0.6620 - accuracy: 0.6260 - val_loss: 0.6597 - val_accuracy: 0.6316\n",
            "Epoch 189/200\n",
            "5/5 [==============================] - 0s 42ms/step - loss: 0.6601 - accuracy: 0.6325 - val_loss: 0.6589 - val_accuracy: 0.6316\n",
            "Epoch 190/200\n",
            "5/5 [==============================] - 0s 10ms/step - loss: 0.6412 - accuracy: 0.6600 - val_loss: 0.6585 - val_accuracy: 0.6316\n",
            "Epoch 191/200\n",
            "5/5 [==============================] - 0s 11ms/step - loss: 0.6627 - accuracy: 0.6278 - val_loss: 0.6607 - val_accuracy: 0.6316\n",
            "Epoch 192/200\n",
            "5/5 [==============================] - 0s 12ms/step - loss: 0.6656 - accuracy: 0.6198 - val_loss: 0.6592 - val_accuracy: 0.6316\n",
            "Epoch 193/200\n",
            "5/5 [==============================] - 0s 11ms/step - loss: 0.6584 - accuracy: 0.6343 - val_loss: 0.6591 - val_accuracy: 0.6316\n",
            "Epoch 194/200\n",
            "5/5 [==============================] - 0s 11ms/step - loss: 0.6683 - accuracy: 0.6175 - val_loss: 0.6582 - val_accuracy: 0.6316\n",
            "Epoch 195/200\n",
            "5/5 [==============================] - 0s 10ms/step - loss: 0.6691 - accuracy: 0.6138 - val_loss: 0.6591 - val_accuracy: 0.6316\n",
            "Epoch 196/200\n",
            "5/5 [==============================] - 0s 11ms/step - loss: 0.6593 - accuracy: 0.6317 - val_loss: 0.6581 - val_accuracy: 0.6316\n",
            "Epoch 197/200\n",
            "5/5 [==============================] - 0s 13ms/step - loss: 0.6602 - accuracy: 0.6281 - val_loss: 0.6583 - val_accuracy: 0.6316\n",
            "Epoch 198/200\n",
            "5/5 [==============================] - 0s 16ms/step - loss: 0.6533 - accuracy: 0.6402 - val_loss: 0.6582 - val_accuracy: 0.6316\n",
            "Epoch 199/200\n",
            "5/5 [==============================] - 0s 13ms/step - loss: 0.6679 - accuracy: 0.6143 - val_loss: 0.6595 - val_accuracy: 0.6316\n",
            "Epoch 200/200\n",
            "5/5 [==============================] - 0s 14ms/step - loss: 0.6664 - accuracy: 0.6149 - val_loss: 0.6581 - val_accuracy: 0.6316\n"
          ],
          "name": "stdout"
        }
      ]
    },
    {
      "cell_type": "code",
      "metadata": {
        "colab": {
          "base_uri": "https://localhost:8080/"
        },
        "id": "_I0hRIoL5TNa",
        "outputId": "6068b3a4-80a5-45dc-e76d-751eac976ce0"
      },
      "source": [
        "adam_model.evaluate(X_test, y_test)"
      ],
      "execution_count": 41,
      "outputs": [
        {
          "output_type": "stream",
          "text": [
            "4/4 [==============================] - 0s 3ms/step - loss: 0.6581 - accuracy: 0.6316\n"
          ],
          "name": "stdout"
        },
        {
          "output_type": "execute_result",
          "data": {
            "text/plain": [
              "[0.6581193804740906, 0.6315789222717285]"
            ]
          },
          "metadata": {
            "tags": []
          },
          "execution_count": 41
        }
      ]
    },
    {
      "cell_type": "code",
      "metadata": {
        "colab": {
          "base_uri": "https://localhost:8080/",
          "height": 269
        },
        "id": "4LwWuXHz6oIO",
        "outputId": "c9e97eaf-13a2-49c9-8707-b9696e980cfd"
      },
      "source": [
        "df = pd.DataFrame(history.history)\n",
        "sns.lineplot(y=df['accuracy'], x=df.index, label='Training Accuracy')\n",
        "sns.lineplot(y=df['val_accuracy'], x=df.index, label='Test Accuracy')\n",
        "plt.ylim([0, 1])\n",
        "plt.legend()\n",
        "plt.show()"
      ],
      "execution_count": 42,
      "outputs": [
        {
          "output_type": "display_data",
          "data": {
            "image/png": "[encoded data removed]",
            "text/plain": [
              "<Figure size 432x288 with 1 Axes>"
            ]
          },
          "metadata": {
            "tags": [],
            "needs_background": "light"
          }
        }
      ]
    },
    {
      "cell_type": "code",
      "metadata": {
        "id": "iznstn60BXFa"
      },
      "source": [
        "es = EarlyStopping(monitor='val_loss', mode='min', verbose=1)"
      ],
      "execution_count": 43,
      "outputs": []
    },
    {
      "cell_type": "code",
      "metadata": {
        "id": "ipTYHBAxBXCV"
      },
      "source": [
        "adam = Adam(learning_rate=0.1)"
      ],
      "execution_count": 44,
      "outputs": []
    },
    {
      "cell_type": "code",
      "metadata": {
        "colab": {
          "base_uri": "https://localhost:8080/"
        },
        "id": "_bEpGILpBW-H",
        "outputId": "a8926eac-2db8-4e96-e86c-6c09be17189a"
      },
      "source": [
        "adam_model = build_model(adam)\n",
        "history = adam_model.fit(X_train, y_train, validation_data=(X_test, y_test),\n",
        "              batch_size=100, epochs= 200, callbacks=[es])"
      ],
      "execution_count": 45,
      "outputs": [
        {
          "output_type": "stream",
          "text": [
            "Epoch 1/200\n",
            "5/5 [==============================] - 1s 58ms/step - loss: 209.1712 - accuracy: 0.5673 - val_loss: 9.3214 - val_accuracy: 0.6316\n",
            "Epoch 2/200\n",
            "5/5 [==============================] - 0s 11ms/step - loss: 7.4717 - accuracy: 0.5793 - val_loss: 0.7107 - val_accuracy: 0.3684\n",
            "Epoch 3/200\n",
            "5/5 [==============================] - 0s 11ms/step - loss: 2.7672 - accuracy: 0.4286 - val_loss: 2.8690 - val_accuracy: 0.6316\n",
            "Epoch 00003: early stopping\n"
          ],
          "name": "stdout"
        }
      ]
    },
    {
      "cell_type": "markdown",
      "metadata": {
        "id": "x3nIyjSb5Tdl"
      },
      "source": [
        "# Lecture Notes"
      ]
    },
    {
      "cell_type": "code",
      "metadata": {
        "id": "T2npT5LQ7jW_"
      },
      "source": [
        "from tensorflow.keras.datasets import mnist\n",
        "from tensorflow.keras.utils import to_categorical\n",
        "\n",
        "(X_train, y_train), (X_test, y_test) = mnist.load_data()\n",
        "\n",
        "input_dim = 784 #28x28\n",
        "output_dim = num_classes = 10 #number of classes 0-9\n",
        "batch_size = 128\n",
        "num_epochs = 10\n",
        "\n",
        "X_train = X_train.reshape(60000,784).astype('float32')\n",
        "X_test = X_test.reshape(10000, input_dim).astype('float32')\n",
        "X_train /= 255\n",
        "X_test /= 255\n",
        "\n",
        "y_train = to_categorical(y_train, num_classes)\n",
        "y_test= to_categorical(y_test, num_classes)"
      ],
      "execution_count": 50,
      "outputs": []
    },
    {
      "cell_type": "code",
      "metadata": {
        "id": "Vx0JtOY57dDj"
      },
      "source": [
        "def build_model(opt='adam'):\n",
        "  model = Sequential()\n",
        "\n",
        "  model.add(Dense(128, input_dim=X_train.shape[1], activation='relu'))\n",
        "  model.add(Dense(64, activation='relu'))\n",
        "  model.add(Dense(output_dim, activation='softmax'))\n",
        "  model.compile(optimizer=opt, loss='categorical_crossentropy', \n",
        "              metrics=['accuracy'])\n",
        "  return model\n"
      ],
      "execution_count": 51,
      "outputs": []
    },
    {
      "cell_type": "code",
      "metadata": {
        "colab": {
          "base_uri": "https://localhost:8080/"
        },
        "id": "KU0N3syM71wf",
        "outputId": "a4268444-eca0-40f7-868a-ebeafeac473a"
      },
      "source": [
        "sgd = SGD(lr=0.01, momentum=0.9)\n",
        "sgd_model = build_model(sgd)\n",
        "history = sgd_model.fit(X_train, y_train, validation_data=(X_test, y_test),\n",
        "              batch_size=batch_size, epochs= num_epochs)"
      ],
      "execution_count": 52,
      "outputs": [
        {
          "output_type": "stream",
          "text": [
            "Epoch 1/10\n",
            "469/469 [==============================] - 2s 4ms/step - loss: 0.9040 - accuracy: 0.7359 - val_loss: 0.2461 - val_accuracy: 0.9285\n",
            "Epoch 2/10\n",
            "469/469 [==============================] - 2s 3ms/step - loss: 0.2395 - accuracy: 0.9308 - val_loss: 0.1806 - val_accuracy: 0.9463\n",
            "Epoch 3/10\n",
            "469/469 [==============================] - 2s 3ms/step - loss: 0.1745 - accuracy: 0.9496 - val_loss: 0.1418 - val_accuracy: 0.9574\n",
            "Epoch 4/10\n",
            "469/469 [==============================] - 2s 3ms/step - loss: 0.1334 - accuracy: 0.9620 - val_loss: 0.1328 - val_accuracy: 0.9610\n",
            "Epoch 5/10\n",
            "469/469 [==============================] - 2s 4ms/step - loss: 0.1152 - accuracy: 0.9667 - val_loss: 0.1129 - val_accuracy: 0.9680\n",
            "Epoch 6/10\n",
            "469/469 [==============================] - 2s 3ms/step - loss: 0.0934 - accuracy: 0.9728 - val_loss: 0.1033 - val_accuracy: 0.9702\n",
            "Epoch 7/10\n",
            "469/469 [==============================] - 2s 3ms/step - loss: 0.0814 - accuracy: 0.9766 - val_loss: 0.0931 - val_accuracy: 0.9721\n",
            "Epoch 8/10\n",
            "469/469 [==============================] - 2s 3ms/step - loss: 0.0717 - accuracy: 0.9795 - val_loss: 0.0865 - val_accuracy: 0.9721\n",
            "Epoch 9/10\n",
            "469/469 [==============================] - 2s 3ms/step - loss: 0.0628 - accuracy: 0.9820 - val_loss: 0.0909 - val_accuracy: 0.9729\n",
            "Epoch 10/10\n",
            "469/469 [==============================] - 1s 3ms/step - loss: 0.0572 - accuracy: 0.9837 - val_loss: 0.0835 - val_accuracy: 0.9744\n"
          ],
          "name": "stdout"
        }
      ]
    },
    {
      "cell_type": "code",
      "metadata": {
        "colab": {
          "base_uri": "https://localhost:8080/",
          "height": 269
        },
        "id": "hXwUXZnJ9hOQ",
        "outputId": "a6317a56-33a9-4b7e-ff11-3cd674f1da0d"
      },
      "source": [
        "df = pd.DataFrame(history.history)\n",
        "sns.lineplot(y=df['accuracy'], x=df.index, label='Training Accuracy')\n",
        "sns.lineplot(y=df['val_accuracy'], x=df.index, label='Test Accuracy')\n",
        "plt.ylim([0.8, 1])\n",
        "plt.legend()\n",
        "plt.show()"
      ],
      "execution_count": 53,
      "outputs": [
        {
          "output_type": "display_data",
          "data": {
            "image/png": "[encoded data removed]",
            "text/plain": [
              "<Figure size 432x288 with 1 Axes>"
            ]
          },
          "metadata": {
            "tags": [],
            "needs_background": "light"
          }
        }
      ]
    },
    {
      "cell_type": "code",
      "metadata": {
        "colab": {
          "base_uri": "https://localhost:8080/"
        },
        "id": "dF7_Jqxe8mCZ",
        "outputId": "52e312c8-71c1-45ae-9845-82438c3d4171"
      },
      "source": [
        "adagrad = Adagrad(learning_rate=0.01)\n",
        "sgd_model = build_model(adagrad)\n",
        "history = sgd_model.fit(X_train, y_train, validation_data=(X_test, y_test),\n",
        "              batch_size=batch_size, epochs= num_epochs)"
      ],
      "execution_count": 54,
      "outputs": [
        {
          "output_type": "stream",
          "text": [
            "Epoch 1/10\n",
            "469/469 [==============================] - 2s 4ms/step - loss: 1.2332 - accuracy: 0.6442 - val_loss: 0.3559 - val_accuracy: 0.9023\n",
            "Epoch 2/10\n",
            "469/469 [==============================] - 2s 4ms/step - loss: 0.3461 - accuracy: 0.9016 - val_loss: 0.2804 - val_accuracy: 0.9233\n",
            "Epoch 3/10\n",
            "469/469 [==============================] - 2s 3ms/step - loss: 0.2809 - accuracy: 0.9201 - val_loss: 0.2450 - val_accuracy: 0.9302\n",
            "Epoch 4/10\n",
            "469/469 [==============================] - 2s 3ms/step - loss: 0.2435 - accuracy: 0.9307 - val_loss: 0.2209 - val_accuracy: 0.9379\n",
            "Epoch 5/10\n",
            "469/469 [==============================] - 2s 3ms/step - loss: 0.2241 - accuracy: 0.9353 - val_loss: 0.2012 - val_accuracy: 0.9421\n",
            "Epoch 6/10\n",
            "469/469 [==============================] - 2s 3ms/step - loss: 0.2054 - accuracy: 0.9418 - val_loss: 0.1858 - val_accuracy: 0.9458\n",
            "Epoch 7/10\n",
            "469/469 [==============================] - 2s 3ms/step - loss: 0.1850 - accuracy: 0.9483 - val_loss: 0.1775 - val_accuracy: 0.9480\n",
            "Epoch 8/10\n",
            "469/469 [==============================] - 2s 3ms/step - loss: 0.1705 - accuracy: 0.9527 - val_loss: 0.1649 - val_accuracy: 0.9508\n",
            "Epoch 9/10\n",
            "469/469 [==============================] - 2s 3ms/step - loss: 0.1601 - accuracy: 0.9552 - val_loss: 0.1579 - val_accuracy: 0.9527\n",
            "Epoch 10/10\n",
            "469/469 [==============================] - 1s 3ms/step - loss: 0.1481 - accuracy: 0.9583 - val_loss: 0.1506 - val_accuracy: 0.9550\n"
          ],
          "name": "stdout"
        }
      ]
    },
    {
      "cell_type": "code",
      "metadata": {
        "colab": {
          "base_uri": "https://localhost:8080/",
          "height": 269
        },
        "id": "kv06WYi49ioD",
        "outputId": "1033a1d2-00a4-4f73-f5f8-91d4702c6fe1"
      },
      "source": [
        "df = pd.DataFrame(history.history)\n",
        "sns.lineplot(y=df['accuracy'], x=df.index, label='Training Accuracy')\n",
        "sns.lineplot(y=df['val_accuracy'], x=df.index, label='Test Accuracy')\n",
        "plt.ylim([0.8, 1])\n",
        "plt.legend()\n",
        "plt.show()"
      ],
      "execution_count": 55,
      "outputs": [
        {
          "output_type": "display_data",
          "data": {
            "image/png": "[encoded data removed]",
            "text/plain": [
              "<Figure size 432x288 with 1 Axes>"
            ]
          },
          "metadata": {
            "tags": [],
            "needs_background": "light"
          }
        }
      ]
    },
    {
      "cell_type": "code",
      "metadata": {
        "colab": {
          "base_uri": "https://localhost:8080/"
        },
        "id": "0Jp9fhcY8qct",
        "outputId": "e3511623-d8aa-4bb8-f5ec-30ccd65a8d59"
      },
      "source": [
        "rms = RMSprop(learning_rate=0.01)\n",
        "sgd_model = build_model(rms)\n",
        "history = sgd_model.fit(X_train, y_train, validation_data=(X_test, y_test),\n",
        "              batch_size=batch_size, epochs= num_epochs)"
      ],
      "execution_count": 56,
      "outputs": [
        {
          "output_type": "stream",
          "text": [
            "Epoch 1/10\n",
            "469/469 [==============================] - 3s 4ms/step - loss: 0.5674 - accuracy: 0.8283 - val_loss: 0.1635 - val_accuracy: 0.9532\n",
            "Epoch 2/10\n",
            "469/469 [==============================] - 2s 4ms/step - loss: 0.1500 - accuracy: 0.9571 - val_loss: 0.1595 - val_accuracy: 0.9546\n",
            "Epoch 3/10\n",
            "469/469 [==============================] - 2s 4ms/step - loss: 0.1237 - accuracy: 0.9660 - val_loss: 0.1572 - val_accuracy: 0.9613\n",
            "Epoch 4/10\n",
            "469/469 [==============================] - 2s 4ms/step - loss: 0.1209 - accuracy: 0.9683 - val_loss: 0.1881 - val_accuracy: 0.9652\n",
            "Epoch 5/10\n",
            "469/469 [==============================] - 2s 4ms/step - loss: 0.1143 - accuracy: 0.9715 - val_loss: 0.1722 - val_accuracy: 0.9663\n",
            "Epoch 6/10\n",
            "469/469 [==============================] - 2s 4ms/step - loss: 0.1115 - accuracy: 0.9732 - val_loss: 0.1822 - val_accuracy: 0.9667\n",
            "Epoch 7/10\n",
            "469/469 [==============================] - 2s 4ms/step - loss: 0.1053 - accuracy: 0.9746 - val_loss: 0.2187 - val_accuracy: 0.9638\n",
            "Epoch 8/10\n",
            "469/469 [==============================] - 2s 4ms/step - loss: 0.1088 - accuracy: 0.9758 - val_loss: 0.2447 - val_accuracy: 0.9605\n",
            "Epoch 9/10\n",
            "469/469 [==============================] - 2s 4ms/step - loss: 0.1088 - accuracy: 0.9761 - val_loss: 0.2870 - val_accuracy: 0.9654\n",
            "Epoch 10/10\n",
            "469/469 [==============================] - 2s 4ms/step - loss: 0.1024 - accuracy: 0.9778 - val_loss: 0.2509 - val_accuracy: 0.9612\n"
          ],
          "name": "stdout"
        }
      ]
    },
    {
      "cell_type": "code",
      "metadata": {
        "colab": {
          "base_uri": "https://localhost:8080/",
          "height": 269
        },
        "id": "1l9nsdSL9jLQ",
        "outputId": "d35f36fc-74a2-4cc2-a715-9e851a8ac574"
      },
      "source": [
        "df = pd.DataFrame(history.history)\n",
        "sns.lineplot(y=df['accuracy'], x=df.index, label='Training Accuracy')\n",
        "sns.lineplot(y=df['val_accuracy'], x=df.index, label='Test Accuracy')\n",
        "plt.ylim([0.8, 1])\n",
        "plt.legend()\n",
        "plt.show()"
      ],
      "execution_count": 57,
      "outputs": [
        {
          "output_type": "display_data",
          "data": {
            "image/png": "[encoded data removed]",
            "text/plain": [
              "<Figure size 432x288 with 1 Axes>"
            ]
          },
          "metadata": {
            "tags": [],
            "needs_background": "light"
          }
        }
      ]
    },
    {
      "cell_type": "code",
      "metadata": {
        "colab": {
          "base_uri": "https://localhost:8080/"
        },
        "id": "BohHBZk58uhW",
        "outputId": "090696fc-299f-4148-ae44-138e59c2c498"
      },
      "source": [
        "adam = Adam(learning_rate=0.01)\n",
        "sgd_model = build_model(adam)\n",
        "history = sgd_model.fit(X_train, y_train, validation_data=(X_test, y_test),\n",
        "              batch_size=batch_size, epochs= num_epochs)"
      ],
      "execution_count": 58,
      "outputs": [
        {
          "output_type": "stream",
          "text": [
            "Epoch 1/10\n",
            "469/469 [==============================] - 2s 4ms/step - loss: 0.4216 - accuracy: 0.8697 - val_loss: 0.1407 - val_accuracy: 0.9577\n",
            "Epoch 2/10\n",
            "469/469 [==============================] - 2s 3ms/step - loss: 0.1191 - accuracy: 0.9633 - val_loss: 0.1218 - val_accuracy: 0.9646\n",
            "Epoch 3/10\n",
            "469/469 [==============================] - 2s 4ms/step - loss: 0.0970 - accuracy: 0.9694 - val_loss: 0.1211 - val_accuracy: 0.9683\n",
            "Epoch 4/10\n",
            "469/469 [==============================] - 2s 3ms/step - loss: 0.0776 - accuracy: 0.9762 - val_loss: 0.1348 - val_accuracy: 0.9633\n",
            "Epoch 5/10\n",
            "469/469 [==============================] - 2s 3ms/step - loss: 0.0713 - accuracy: 0.9789 - val_loss: 0.1148 - val_accuracy: 0.9688\n",
            "Epoch 6/10\n",
            "469/469 [==============================] - 2s 3ms/step - loss: 0.0660 - accuracy: 0.9796 - val_loss: 0.1260 - val_accuracy: 0.9692\n",
            "Epoch 7/10\n",
            "469/469 [==============================] - 2s 3ms/step - loss: 0.0661 - accuracy: 0.9803 - val_loss: 0.1437 - val_accuracy: 0.9669\n",
            "Epoch 8/10\n",
            "469/469 [==============================] - 2s 3ms/step - loss: 0.0556 - accuracy: 0.9836 - val_loss: 0.1299 - val_accuracy: 0.9704\n",
            "Epoch 9/10\n",
            "469/469 [==============================] - 2s 4ms/step - loss: 0.0522 - accuracy: 0.9843 - val_loss: 0.1585 - val_accuracy: 0.9643\n",
            "Epoch 10/10\n",
            "469/469 [==============================] - 2s 4ms/step - loss: 0.0609 - accuracy: 0.9817 - val_loss: 0.1526 - val_accuracy: 0.9673\n"
          ],
          "name": "stdout"
        }
      ]
    },
    {
      "cell_type": "code",
      "metadata": {
        "colab": {
          "base_uri": "https://localhost:8080/",
          "height": 269
        },
        "id": "u4QyhqTu9j7l",
        "outputId": "fc0383e8-1c43-4615-d5c0-62547029735a"
      },
      "source": [
        "df = pd.DataFrame(history.history)\n",
        "sns.lineplot(y=df['accuracy'], x=df.index, label='Training Accuracy')\n",
        "sns.lineplot(y=df['val_accuracy'], x=df.index, label='Test Accuracy')\n",
        "plt.ylim([0.8, 1])\n",
        "plt.legend()\n",
        "plt.show()"
      ],
      "execution_count": 59,
      "outputs": [
        {
          "output_type": "display_data",
          "data": {
            "image/png": "[encoded data removed]",
            "text/plain": [
              "<Figure size 432x288 with 1 Axes>"
            ]
          },
          "metadata": {
            "tags": [],
            "needs_background": "light"
          }
        }
      ]
    },
    {
      "cell_type": "code",
      "metadata": {
        "id": "SfwL1d6-9qRY"
      },
      "source": [
        ""
      ],
      "execution_count": 59,
      "outputs": []
    }
  ]
}