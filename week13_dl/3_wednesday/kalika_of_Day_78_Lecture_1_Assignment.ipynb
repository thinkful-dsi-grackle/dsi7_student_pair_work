{
  "nbformat": 4,
  "nbformat_minor": 0,
  "metadata": {
    "kernelspec": {
      "display_name": "Python 3",
      "language": "python",
      "name": "python3"
    },
    "language_info": {
      "codemirror_mode": {
        "name": "ipython",
        "version": 3
      },
      "file_extension": ".py",
      "mimetype": "text/x-python",
      "name": "python",
      "nbconvert_exporter": "python",
      "pygments_lexer": "ipython3",
      "version": "3.7.0"
    },
    "colab": {
      "name": "kalika of Day 78 Lecture 1 Assignment.ipynb",
      "provenance": [],
      "collapsed_sections": []
    }
  },
  "cells": [
    {
      "cell_type": "markdown",
      "metadata": {
        "id": "yqtxiRasgEsb"
      },
      "source": [
        "## Gradient Descent and Backpropagation\n",
        "\n",
        "In this assignment, we will learn about gradient descent and backpropagation algorithms. We will create a neural network and tweak some of the parameters in SGD."
      ]
    },
    {
      "cell_type": "code",
      "metadata": {
        "id": "aOd2GWD5gEsd"
      },
      "source": [
        "import numpy as np\n",
        "import pandas as pd\n",
        "\n",
        "from tensorflow.keras.models import Sequential\n",
        "from tensorflow.keras.layers import Dense\n",
        "from tensorflow.keras.optimizers import SGD"
      ],
      "execution_count": 74,
      "outputs": []
    },
    {
      "cell_type": "markdown",
      "metadata": {
        "id": "661suxNdgEsg"
      },
      "source": [
        "Let's use the data we processed in the titanic assigment and load it below."
      ]
    },
    {
      "cell_type": "code",
      "metadata": {
        "id": "TvmZdYdEgEsg"
      },
      "source": [
        "titanic = pd.read_csv('https://tf-assets-prod.s3.amazonaws.com/tf-curric/data-science/titanic_processed.csv')"
      ],
      "execution_count": 75,
      "outputs": []
    },
    {
      "cell_type": "code",
      "metadata": {
        "id": "mSpXsYXpgEsi",
        "colab": {
          "base_uri": "https://localhost:8080/",
          "height": 195
        },
        "outputId": "b970e71e-c84b-4a3d-b6d7-9fb7b148bcf8"
      },
      "source": [
        "titanic.head()"
      ],
      "execution_count": 76,
      "outputs": [
        {
          "output_type": "execute_result",
          "data": {
            "text/html": [
              "<div>\n",
              "<style scoped>\n",
              "    .dataframe tbody tr th:only-of-type {\n",
              "        vertical-align: middle;\n",
              "    }\n",
              "\n",
              "    .dataframe tbody tr th {\n",
              "        vertical-align: top;\n",
              "    }\n",
              "\n",
              "    .dataframe thead th {\n",
              "        text-align: right;\n",
              "    }\n",
              "</style>\n",
              "<table border=\"1\" class=\"dataframe\">\n",
              "  <thead>\n",
              "    <tr style=\"text-align: right;\">\n",
              "      <th></th>\n",
              "      <th>Survived</th>\n",
              "      <th>SibSp</th>\n",
              "      <th>Parch</th>\n",
              "      <th>Pclass_1</th>\n",
              "      <th>Pclass_2</th>\n",
              "      <th>Pclass_3</th>\n",
              "      <th>Sex_female</th>\n",
              "      <th>Sex_male</th>\n",
              "      <th>Embarked_C</th>\n",
              "      <th>Embarked_Q</th>\n",
              "      <th>Embarked_S</th>\n",
              "    </tr>\n",
              "  </thead>\n",
              "  <tbody>\n",
              "    <tr>\n",
              "      <th>0</th>\n",
              "      <td>0</td>\n",
              "      <td>1</td>\n",
              "      <td>0</td>\n",
              "      <td>0</td>\n",
              "      <td>0</td>\n",
              "      <td>1</td>\n",
              "      <td>0</td>\n",
              "      <td>1</td>\n",
              "      <td>0</td>\n",
              "      <td>0</td>\n",
              "      <td>1</td>\n",
              "    </tr>\n",
              "    <tr>\n",
              "      <th>1</th>\n",
              "      <td>1</td>\n",
              "      <td>1</td>\n",
              "      <td>0</td>\n",
              "      <td>1</td>\n",
              "      <td>0</td>\n",
              "      <td>0</td>\n",
              "      <td>1</td>\n",
              "      <td>0</td>\n",
              "      <td>1</td>\n",
              "      <td>0</td>\n",
              "      <td>0</td>\n",
              "    </tr>\n",
              "    <tr>\n",
              "      <th>2</th>\n",
              "      <td>1</td>\n",
              "      <td>0</td>\n",
              "      <td>0</td>\n",
              "      <td>0</td>\n",
              "      <td>0</td>\n",
              "      <td>1</td>\n",
              "      <td>1</td>\n",
              "      <td>0</td>\n",
              "      <td>0</td>\n",
              "      <td>0</td>\n",
              "      <td>1</td>\n",
              "    </tr>\n",
              "    <tr>\n",
              "      <th>3</th>\n",
              "      <td>1</td>\n",
              "      <td>1</td>\n",
              "      <td>0</td>\n",
              "      <td>1</td>\n",
              "      <td>0</td>\n",
              "      <td>0</td>\n",
              "      <td>1</td>\n",
              "      <td>0</td>\n",
              "      <td>0</td>\n",
              "      <td>0</td>\n",
              "      <td>1</td>\n",
              "    </tr>\n",
              "    <tr>\n",
              "      <th>4</th>\n",
              "      <td>0</td>\n",
              "      <td>0</td>\n",
              "      <td>0</td>\n",
              "      <td>0</td>\n",
              "      <td>0</td>\n",
              "      <td>1</td>\n",
              "      <td>0</td>\n",
              "      <td>1</td>\n",
              "      <td>0</td>\n",
              "      <td>0</td>\n",
              "      <td>1</td>\n",
              "    </tr>\n",
              "  </tbody>\n",
              "</table>\n",
              "</div>"
            ],
            "text/plain": [
              "   Survived  SibSp  Parch  ...  Embarked_C  Embarked_Q  Embarked_S\n",
              "0         0      1      0  ...           0           0           1\n",
              "1         1      1      0  ...           1           0           0\n",
              "2         1      0      0  ...           0           0           1\n",
              "3         1      1      0  ...           0           0           1\n",
              "4         0      0      0  ...           0           0           1\n",
              "\n",
              "[5 rows x 11 columns]"
            ]
          },
          "metadata": {
            "tags": []
          },
          "execution_count": 76
        }
      ]
    },
    {
      "cell_type": "markdown",
      "metadata": {
        "id": "Vc_uypIkgEsk"
      },
      "source": [
        "Split the data into train and test with 20% of data in test."
      ]
    },
    {
      "cell_type": "code",
      "metadata": {
        "colab": {
          "base_uri": "https://localhost:8080/"
        },
        "cellView": "form",
        "id": "t8kQzX-ubJMK",
        "outputId": "7645f9a4-8ffe-43ac-9cbe-fc7deb928be9"
      },
      "source": [
        "#@Split Train Test for Models\n",
        "#Size of the test set and target variable to split the data.\n",
        "\n",
        "df =  titanic#@param dataframe\n",
        "target = 'Survived' #@param target\n",
        "SIZE = 0.2 #@param split rate\n",
        "\n",
        "y = df[target]\n",
        "X = df.drop(columns=[target])\n",
        "\n",
        "from sklearn.model_selection import train_test_split, cross_val_score\n",
        "\n",
        "X_train, X_test, y_train, y_test = train_test_split(X, y, test_size=SIZE)\n",
        "print('There are {:d} training samples and {:d} test samples'.format(X_train.shape[0], X_test.shape[0]))"
      ],
      "execution_count": 77,
      "outputs": [
        {
          "output_type": "stream",
          "text": [
            "There are 711 training samples and 178 test samples\n"
          ],
          "name": "stdout"
        }
      ]
    },
    {
      "cell_type": "markdown",
      "metadata": {
        "id": "9QBmGKEpgEsm"
      },
      "source": [
        "Create a model with 5 layers - The first layer should be of unit size 128 and input shape with the shape of the input and the last layer should be of size 1. The hidden layers should be of size 64, 32, and 32, respectively. Use a sigmoid activation."
      ]
    },
    {
      "cell_type": "code",
      "metadata": {
        "id": "DVefZBONgEsn",
        "colab": {
          "base_uri": "https://localhost:8080/"
        },
        "outputId": "7f92d278-3417-41f9-e533-fd7f4be013d2"
      },
      "source": [
        "# Answer below\n",
        "\n",
        "model = Sequential()\n",
        "#One\n",
        "model.add(Dense(128, input_dim=X_train.shape[1], activation='relu'))\n",
        "#Two\n",
        "model.add(Dense(64, activation='relu'))\n",
        "#Three\n",
        "model.add(Dense(32, activation='relu'))\n",
        "#Four\n",
        "model.add(Dense(32, activation='relu'))\n",
        "#Five\n",
        "model.add(Dense(1, activation='sigmoid'))\n",
        "model.summary()"
      ],
      "execution_count": 78,
      "outputs": [
        {
          "output_type": "stream",
          "text": [
            "Model: \"sequential_4\"\n",
            "_________________________________________________________________\n",
            "Layer (type)                 Output Shape              Param #   \n",
            "=================================================================\n",
            "dense_22 (Dense)             (None, 128)               1408      \n",
            "_________________________________________________________________\n",
            "dense_23 (Dense)             (None, 64)                8256      \n",
            "_________________________________________________________________\n",
            "dense_24 (Dense)             (None, 32)                2080      \n",
            "_________________________________________________________________\n",
            "dense_25 (Dense)             (None, 32)                1056      \n",
            "_________________________________________________________________\n",
            "dense_26 (Dense)             (None, 1)                 33        \n",
            "=================================================================\n",
            "Total params: 12,833\n",
            "Trainable params: 12,833\n",
            "Non-trainable params: 0\n",
            "_________________________________________________________________\n"
          ],
          "name": "stdout"
        }
      ]
    },
    {
      "cell_type": "markdown",
      "metadata": {
        "id": "8IADHujAgEso"
      },
      "source": [
        "Initialize an SGD optimizer with learning rate 0.05. Note that in older versions of keras, we use `lr` instead of `learning_rate`."
      ]
    },
    {
      "cell_type": "code",
      "metadata": {
        "id": "bhM1nLP1gEsp"
      },
      "source": [
        "# Answer below:\n",
        "from keras.optimizers import SGD\n",
        "\n",
        "opt = SGD(learning_rate=0.05)\n"
      ],
      "execution_count": 79,
      "outputs": []
    },
    {
      "cell_type": "markdown",
      "metadata": {
        "id": "x6cVa2JHgEsq"
      },
      "source": [
        "compile and fit the model using the optimizer you initialized above. Use a batch size of 100 and 50 epochs"
      ]
    },
    {
      "cell_type": "code",
      "metadata": {
        "id": "6AbyqTAigEsr",
        "colab": {
          "base_uri": "https://localhost:8080/"
        },
        "outputId": "e0328673-df0f-4f60-b229-d6b366e7e7a2"
      },
      "source": [
        "# Answer below:\n",
        "model.compile(loss='MSE', optimizer=opt, \n",
        "              metrics=['accuracy'])\n",
        "model.fit(X_train, y_train, verbose=0, epochs=50, batch_size=100)\n",
        "evals = model.evaluate(X_test, y_test)\n",
        "results = {'model' : 'B100E50', 'loss': evals[0], 'accuracy': evals[1]}"
      ],
      "execution_count": 80,
      "outputs": [
        {
          "output_type": "stream",
          "text": [
            "6/6 [==============================] - 0s 2ms/step - loss: 0.1485 - accuracy: 0.7753\n"
          ],
          "name": "stdout"
        }
      ]
    },
    {
      "cell_type": "markdown",
      "metadata": {
        "id": "lRoBkaAkgEss"
      },
      "source": [
        "Now use the same batch size, but fit your model using 500 epochs. Is there a difference in performance?"
      ]
    },
    {
      "cell_type": "code",
      "metadata": {
        "id": "pp9JQJDTgEst",
        "colab": {
          "base_uri": "https://localhost:8080/"
        },
        "outputId": "d420825b-8afc-492d-adb7-c9d238e061ea"
      },
      "source": [
        "# Answer below:\n",
        "# Answer below:\n",
        "model.compile(loss='MSE', optimizer=opt, \n",
        "              metrics=['accuracy'])\n",
        "model.fit(X_train, y_train, epochs=500, batch_size=100, validation_data=(X_test, y_test), verbose=0)\n",
        "evals = model.evaluate(X_test, y_test)"
      ],
      "execution_count": 81,
      "outputs": [
        {
          "output_type": "stream",
          "text": [
            "6/6 [==============================] - 0s 2ms/step - loss: 0.1473 - accuracy: 0.7978\n"
          ],
          "name": "stdout"
        }
      ]
    },
    {
      "cell_type": "code",
      "metadata": {
        "colab": {
          "base_uri": "https://localhost:8080/",
          "height": 106
        },
        "id": "v21UAbvYghmS",
        "outputId": "a94f7a47-fa65-4d38-bc26-db858377205e"
      },
      "source": [
        "results = pd.DataFrame([results, {'model' : 'B100E500', 'loss': evals[0], 'accuracy': evals[1]}])\r\n",
        "results"
      ],
      "execution_count": 82,
      "outputs": [
        {
          "output_type": "execute_result",
          "data": {
            "text/html": [
              "<div>\n",
              "<style scoped>\n",
              "    .dataframe tbody tr th:only-of-type {\n",
              "        vertical-align: middle;\n",
              "    }\n",
              "\n",
              "    .dataframe tbody tr th {\n",
              "        vertical-align: top;\n",
              "    }\n",
              "\n",
              "    .dataframe thead th {\n",
              "        text-align: right;\n",
              "    }\n",
              "</style>\n",
              "<table border=\"1\" class=\"dataframe\">\n",
              "  <thead>\n",
              "    <tr style=\"text-align: right;\">\n",
              "      <th></th>\n",
              "      <th>model</th>\n",
              "      <th>loss</th>\n",
              "      <th>accuracy</th>\n",
              "    </tr>\n",
              "  </thead>\n",
              "  <tbody>\n",
              "    <tr>\n",
              "      <th>0</th>\n",
              "      <td>B100E50</td>\n",
              "      <td>0.148451</td>\n",
              "      <td>0.775281</td>\n",
              "    </tr>\n",
              "    <tr>\n",
              "      <th>1</th>\n",
              "      <td>B100E500</td>\n",
              "      <td>0.147343</td>\n",
              "      <td>0.797753</td>\n",
              "    </tr>\n",
              "  </tbody>\n",
              "</table>\n",
              "</div>"
            ],
            "text/plain": [
              "      model      loss  accuracy\n",
              "0   B100E50  0.148451  0.775281\n",
              "1  B100E500  0.147343  0.797753"
            ]
          },
          "metadata": {
            "tags": []
          },
          "execution_count": 82
        }
      ]
    },
    {
      "cell_type": "markdown",
      "metadata": {
        "id": "uBBI1uSrgEsu"
      },
      "source": [
        "Now use a batch size of 200 and 200 epochs. Have you observed a significant difference in performance?"
      ]
    },
    {
      "cell_type": "code",
      "metadata": {
        "id": "a0n0qLX_gEsv",
        "colab": {
          "base_uri": "https://localhost:8080/"
        },
        "outputId": "ddd40261-eef3-4fe0-d474-f927e99f1049"
      },
      "source": [
        "# Answer below:\n",
        "# Answer below:\n",
        "# Answer below:\n",
        "model.compile(loss='MSE', optimizer=opt, \n",
        "              metrics=['accuracy'])\n",
        "model.fit(X_train, y_train, epochs=200, batch_size=200, validation_data=(X_test, y_test), verbose=0)\n",
        "evals = model.evaluate(X_test, y_test)\n"
      ],
      "execution_count": 83,
      "outputs": [
        {
          "output_type": "stream",
          "text": [
            "6/6 [==============================] - 0s 2ms/step - loss: 0.1479 - accuracy: 0.7921\n"
          ],
          "name": "stdout"
        }
      ]
    },
    {
      "cell_type": "code",
      "metadata": {
        "colab": {
          "base_uri": "https://localhost:8080/",
          "height": 136
        },
        "id": "5BrVwLBhgzvt",
        "outputId": "9d9e9cd1-4f51-4f2b-e29d-55a726184873"
      },
      "source": [
        "results = results.append({'model' : 'B200E200', 'loss': evals[0], 'accuracy': evals[1]}, ignore_index=True)\r\n",
        "results"
      ],
      "execution_count": 84,
      "outputs": [
        {
          "output_type": "execute_result",
          "data": {
            "text/html": [
              "<div>\n",
              "<style scoped>\n",
              "    .dataframe tbody tr th:only-of-type {\n",
              "        vertical-align: middle;\n",
              "    }\n",
              "\n",
              "    .dataframe tbody tr th {\n",
              "        vertical-align: top;\n",
              "    }\n",
              "\n",
              "    .dataframe thead th {\n",
              "        text-align: right;\n",
              "    }\n",
              "</style>\n",
              "<table border=\"1\" class=\"dataframe\">\n",
              "  <thead>\n",
              "    <tr style=\"text-align: right;\">\n",
              "      <th></th>\n",
              "      <th>model</th>\n",
              "      <th>loss</th>\n",
              "      <th>accuracy</th>\n",
              "    </tr>\n",
              "  </thead>\n",
              "  <tbody>\n",
              "    <tr>\n",
              "      <th>0</th>\n",
              "      <td>B100E50</td>\n",
              "      <td>0.148451</td>\n",
              "      <td>0.775281</td>\n",
              "    </tr>\n",
              "    <tr>\n",
              "      <th>1</th>\n",
              "      <td>B100E500</td>\n",
              "      <td>0.147343</td>\n",
              "      <td>0.797753</td>\n",
              "    </tr>\n",
              "    <tr>\n",
              "      <th>2</th>\n",
              "      <td>B200E200</td>\n",
              "      <td>0.147934</td>\n",
              "      <td>0.792135</td>\n",
              "    </tr>\n",
              "  </tbody>\n",
              "</table>\n",
              "</div>"
            ],
            "text/plain": [
              "      model      loss  accuracy\n",
              "0   B100E50  0.148451  0.775281\n",
              "1  B100E500  0.147343  0.797753\n",
              "2  B200E200  0.147934  0.792135"
            ]
          },
          "metadata": {
            "tags": []
          },
          "execution_count": 84
        }
      ]
    },
    {
      "cell_type": "code",
      "metadata": {
        "colab": {
          "base_uri": "https://localhost:8080/",
          "height": 483
        },
        "id": "0XDBNGQBitcc",
        "outputId": "2e5b92e5-a61f-4cd3-a72a-4626687d6048"
      },
      "source": [
        "import matplotlib.pyplot as plt\r\n",
        "plt.style.use(['dark_background'])\r\n",
        "results.plot.bar(figsize=(7,7), x='model')\r\n",
        "plt.show()"
      ],
      "execution_count": 85,
      "outputs": [
        {
          "output_type": "display_data",
          "data": {
            "image/png": "[encoded data removed]",
            "text/plain": [
              "<Figure size 504x504 with 1 Axes>"
            ]
          },
          "metadata": {
            "tags": []
          }
        }
      ]
    },
    {
      "cell_type": "markdown",
      "metadata": {
        "id": "NyY8ex2MgEsw"
      },
      "source": [
        "Now create a model with 7 layers. The model should have an input layer with unit size 128, then hidden layers of size 128, 64, 64, 32, 32, and an output layer of size 1. Use a sigmoid activation."
      ]
    },
    {
      "cell_type": "code",
      "metadata": {
        "id": "Q0Nv70YugEsx",
        "colab": {
          "base_uri": "https://localhost:8080/"
        },
        "outputId": "9e8e151d-3f09-4da7-b273-07650a098808"
      },
      "source": [
        "# Answer below\n",
        "\n",
        "model = Sequential()\n",
        "#One\n",
        "model.add(Dense(128, input_dim=X_train.shape[1], activation='relu'))\n",
        "#Two\n",
        "model.add(Dense(128, input_dim=X_train.shape[1], activation='relu'))\n",
        "#Three\n",
        "model.add(Dense(64, activation='relu'))\n",
        "#Four\n",
        "model.add(Dense(64, activation='relu'))\n",
        "#Five\n",
        "model.add(Dense(32, activation='relu'))\n",
        "#Six\n",
        "model.add(Dense(32, activation='relu'))\n",
        "#Seven\n",
        "model.add(Dense(1, activation='sigmoid'))\n",
        "model.summary()\n"
      ],
      "execution_count": 86,
      "outputs": [
        {
          "output_type": "stream",
          "text": [
            "Model: \"sequential_5\"\n",
            "_________________________________________________________________\n",
            "Layer (type)                 Output Shape              Param #   \n",
            "=================================================================\n",
            "dense_27 (Dense)             (None, 128)               1408      \n",
            "_________________________________________________________________\n",
            "dense_28 (Dense)             (None, 128)               16512     \n",
            "_________________________________________________________________\n",
            "dense_29 (Dense)             (None, 64)                8256      \n",
            "_________________________________________________________________\n",
            "dense_30 (Dense)             (None, 64)                4160      \n",
            "_________________________________________________________________\n",
            "dense_31 (Dense)             (None, 32)                2080      \n",
            "_________________________________________________________________\n",
            "dense_32 (Dense)             (None, 32)                1056      \n",
            "_________________________________________________________________\n",
            "dense_33 (Dense)             (None, 1)                 33        \n",
            "=================================================================\n",
            "Total params: 33,505\n",
            "Trainable params: 33,505\n",
            "Non-trainable params: 0\n",
            "_________________________________________________________________\n"
          ],
          "name": "stdout"
        }
      ]
    },
    {
      "cell_type": "markdown",
      "metadata": {
        "id": "ClJbIQ5AgEsy"
      },
      "source": [
        "Fit and compile the model using the SGD optimizer you previously defined, batch size = 80 and epochs = 200"
      ]
    },
    {
      "cell_type": "code",
      "metadata": {
        "id": "Z9B2GhuLgEsz",
        "colab": {
          "base_uri": "https://localhost:8080/"
        },
        "outputId": "4627cd59-d8c8-42dd-b6e5-de2677643098"
      },
      "source": [
        "# Answer below:\n",
        "# Answer below:\n",
        "# Answer below:\n",
        "# Answer below:\n",
        "model.compile(loss='MSE', optimizer=opt, \n",
        "              metrics=['accuracy'])\n",
        "model.fit(X_train, y_train, epochs=200, batch_size=80, validation_data=(X_test, y_test), verbose=0)\n",
        "evals = model.evaluate(X_test, y_test)"
      ],
      "execution_count": 87,
      "outputs": [
        {
          "output_type": "stream",
          "text": [
            "6/6 [==============================] - 0s 2ms/step - loss: 0.1454 - accuracy: 0.7921\n"
          ],
          "name": "stdout"
        }
      ]
    },
    {
      "cell_type": "code",
      "metadata": {
        "colab": {
          "base_uri": "https://localhost:8080/",
          "height": 166
        },
        "id": "3suZocgEkI-i",
        "outputId": "3aa6da19-6d9e-4b93-9b1a-06aa8332ee62"
      },
      "source": [
        "results = results.append({'model' : '7LB200E200', 'loss': evals[0], 'accuracy': evals[1]}, ignore_index=True)\r\n",
        "results"
      ],
      "execution_count": 88,
      "outputs": [
        {
          "output_type": "execute_result",
          "data": {
            "text/html": [
              "<div>\n",
              "<style scoped>\n",
              "    .dataframe tbody tr th:only-of-type {\n",
              "        vertical-align: middle;\n",
              "    }\n",
              "\n",
              "    .dataframe tbody tr th {\n",
              "        vertical-align: top;\n",
              "    }\n",
              "\n",
              "    .dataframe thead th {\n",
              "        text-align: right;\n",
              "    }\n",
              "</style>\n",
              "<table border=\"1\" class=\"dataframe\">\n",
              "  <thead>\n",
              "    <tr style=\"text-align: right;\">\n",
              "      <th></th>\n",
              "      <th>model</th>\n",
              "      <th>loss</th>\n",
              "      <th>accuracy</th>\n",
              "    </tr>\n",
              "  </thead>\n",
              "  <tbody>\n",
              "    <tr>\n",
              "      <th>0</th>\n",
              "      <td>B100E50</td>\n",
              "      <td>0.148451</td>\n",
              "      <td>0.775281</td>\n",
              "    </tr>\n",
              "    <tr>\n",
              "      <th>1</th>\n",
              "      <td>B100E500</td>\n",
              "      <td>0.147343</td>\n",
              "      <td>0.797753</td>\n",
              "    </tr>\n",
              "    <tr>\n",
              "      <th>2</th>\n",
              "      <td>B200E200</td>\n",
              "      <td>0.147934</td>\n",
              "      <td>0.792135</td>\n",
              "    </tr>\n",
              "    <tr>\n",
              "      <th>3</th>\n",
              "      <td>7LB200E200</td>\n",
              "      <td>0.145403</td>\n",
              "      <td>0.792135</td>\n",
              "    </tr>\n",
              "  </tbody>\n",
              "</table>\n",
              "</div>"
            ],
            "text/plain": [
              "        model      loss  accuracy\n",
              "0     B100E50  0.148451  0.775281\n",
              "1    B100E500  0.147343  0.797753\n",
              "2    B200E200  0.147934  0.792135\n",
              "3  7LB200E200  0.145403  0.792135"
            ]
          },
          "metadata": {
            "tags": []
          },
          "execution_count": 88
        }
      ]
    },
    {
      "cell_type": "markdown",
      "metadata": {
        "id": "clQxRuz8gEs0"
      },
      "source": [
        "Define a new SGD optimizer with a learning rate of 0.001"
      ]
    },
    {
      "cell_type": "code",
      "metadata": {
        "id": "DWdxpU9hgEs1"
      },
      "source": [
        "# Answer below:\n",
        "opt2= SGD(learning_rate=0.001)\n"
      ],
      "execution_count": 89,
      "outputs": []
    },
    {
      "cell_type": "markdown",
      "metadata": {
        "id": "_dGgoNlrgEs2"
      },
      "source": [
        "Fit and compile the model using this SGD optimizer, batch size = 80 and epochs = 200. Compare to previous results. What do you think went wrong and why?"
      ]
    },
    {
      "cell_type": "code",
      "metadata": {
        "id": "4uRr-yCvgEs3",
        "colab": {
          "base_uri": "https://localhost:8080/"
        },
        "outputId": "f78d4f65-901d-4f31-a2a2-cd91471c24ad"
      },
      "source": [
        "# Answer below:\n",
        "# Answer below:\n",
        "# Answer below:\n",
        "# Answer below:\n",
        "# Answer below:\n",
        "model.compile(loss='MSE', optimizer=opt2, \n",
        "              metrics=['accuracy'])\n",
        "model.fit(X_train, y_train, epochs=200, batch_size=80, validation_data=(X_test, y_test), verbose=0)\n",
        "evals = model.evaluate(X_test, y_test)\n"
      ],
      "execution_count": 90,
      "outputs": [
        {
          "output_type": "stream",
          "text": [
            "6/6 [==============================] - 0s 2ms/step - loss: 0.1436 - accuracy: 0.7865\n"
          ],
          "name": "stdout"
        }
      ]
    },
    {
      "cell_type": "code",
      "metadata": {
        "id": "QnrbpyIGlYcn"
      },
      "source": [
        "results = results.append({'model' : 'OPT27LB200E200', 'loss': evals[0], 'accuracy': evals[1]}, ignore_index=True)\r\n"
      ],
      "execution_count": 91,
      "outputs": []
    },
    {
      "cell_type": "code",
      "metadata": {
        "colab": {
          "base_uri": "https://localhost:8080/",
          "height": 195
        },
        "id": "33_abijDlph3",
        "outputId": "ba8d6aaf-6f36-4b59-f25a-808b323d6ca0"
      },
      "source": [
        "results"
      ],
      "execution_count": 92,
      "outputs": [
        {
          "output_type": "execute_result",
          "data": {
            "text/html": [
              "<div>\n",
              "<style scoped>\n",
              "    .dataframe tbody tr th:only-of-type {\n",
              "        vertical-align: middle;\n",
              "    }\n",
              "\n",
              "    .dataframe tbody tr th {\n",
              "        vertical-align: top;\n",
              "    }\n",
              "\n",
              "    .dataframe thead th {\n",
              "        text-align: right;\n",
              "    }\n",
              "</style>\n",
              "<table border=\"1\" class=\"dataframe\">\n",
              "  <thead>\n",
              "    <tr style=\"text-align: right;\">\n",
              "      <th></th>\n",
              "      <th>model</th>\n",
              "      <th>loss</th>\n",
              "      <th>accuracy</th>\n",
              "    </tr>\n",
              "  </thead>\n",
              "  <tbody>\n",
              "    <tr>\n",
              "      <th>0</th>\n",
              "      <td>B100E50</td>\n",
              "      <td>0.148451</td>\n",
              "      <td>0.775281</td>\n",
              "    </tr>\n",
              "    <tr>\n",
              "      <th>1</th>\n",
              "      <td>B100E500</td>\n",
              "      <td>0.147343</td>\n",
              "      <td>0.797753</td>\n",
              "    </tr>\n",
              "    <tr>\n",
              "      <th>2</th>\n",
              "      <td>B200E200</td>\n",
              "      <td>0.147934</td>\n",
              "      <td>0.792135</td>\n",
              "    </tr>\n",
              "    <tr>\n",
              "      <th>3</th>\n",
              "      <td>7LB200E200</td>\n",
              "      <td>0.145403</td>\n",
              "      <td>0.792135</td>\n",
              "    </tr>\n",
              "    <tr>\n",
              "      <th>4</th>\n",
              "      <td>OPT27LB200E200</td>\n",
              "      <td>0.143596</td>\n",
              "      <td>0.786517</td>\n",
              "    </tr>\n",
              "  </tbody>\n",
              "</table>\n",
              "</div>"
            ],
            "text/plain": [
              "            model      loss  accuracy\n",
              "0         B100E50  0.148451  0.775281\n",
              "1        B100E500  0.147343  0.797753\n",
              "2        B200E200  0.147934  0.792135\n",
              "3      7LB200E200  0.145403  0.792135\n",
              "4  OPT27LB200E200  0.143596  0.786517"
            ]
          },
          "metadata": {
            "tags": []
          },
          "execution_count": 92
        }
      ]
    },
    {
      "cell_type": "markdown",
      "metadata": {
        "id": "5vWC_Kpdl_zH"
      },
      "source": [
        "I have fewer iterations and a smaller batch size with a smaller learning rate. A smaller learning rate means that there are smaller steps being taken, so it can take longer to get there. "
      ]
    },
    {
      "cell_type": "markdown",
      "metadata": {
        "id": "uBk_SyQ0gEs4"
      },
      "source": [
        "Look at the prediction for the training and test data. Print the confusion matrix for the test data."
      ]
    },
    {
      "cell_type": "code",
      "metadata": {
        "id": "w86ti17zmbM8"
      },
      "source": [
        "#Returns an dataframe of my predicted data, actual data, and the errors\r\n",
        "def error_table(pred, actual):\r\n",
        "  errs = pd.DataFrame({'prediction': pred, 'actual': actual})\r\n",
        "  errs['err'] = pred - actual\r\n",
        "  errs['err_size'] = abs(pred - actual)\r\n",
        "  errs['isErr'] = np.where(errs['err_size'] > 0, 1, 0)\r\n",
        "  return errs"
      ],
      "execution_count": 95,
      "outputs": []
    },
    {
      "cell_type": "code",
      "metadata": {
        "id": "vfKxxtoygEs4",
        "colab": {
          "base_uri": "https://localhost:8080/",
          "height": 195
        },
        "outputId": "5b798209-02ff-4410-8a41-b8fb0d8a8c54"
      },
      "source": [
        "# Answer below:\n",
        "preds = (model.predict(X_test) > 0.5).astype(\"int32\")\n",
        "preds = preds.reshape(preds.shape[0],)\n",
        "errs = error_table(preds, y_test)\n",
        "\n",
        "errs.head()"
      ],
      "execution_count": 97,
      "outputs": [
        {
          "output_type": "execute_result",
          "data": {
            "text/html": [
              "<div>\n",
              "<style scoped>\n",
              "    .dataframe tbody tr th:only-of-type {\n",
              "        vertical-align: middle;\n",
              "    }\n",
              "\n",
              "    .dataframe tbody tr th {\n",
              "        vertical-align: top;\n",
              "    }\n",
              "\n",
              "    .dataframe thead th {\n",
              "        text-align: right;\n",
              "    }\n",
              "</style>\n",
              "<table border=\"1\" class=\"dataframe\">\n",
              "  <thead>\n",
              "    <tr style=\"text-align: right;\">\n",
              "      <th></th>\n",
              "      <th>prediction</th>\n",
              "      <th>actual</th>\n",
              "      <th>err</th>\n",
              "      <th>err_size</th>\n",
              "      <th>isErr</th>\n",
              "    </tr>\n",
              "  </thead>\n",
              "  <tbody>\n",
              "    <tr>\n",
              "      <th>662</th>\n",
              "      <td>0</td>\n",
              "      <td>0</td>\n",
              "      <td>0</td>\n",
              "      <td>0</td>\n",
              "      <td>0</td>\n",
              "    </tr>\n",
              "    <tr>\n",
              "      <th>819</th>\n",
              "      <td>1</td>\n",
              "      <td>1</td>\n",
              "      <td>0</td>\n",
              "      <td>0</td>\n",
              "      <td>0</td>\n",
              "    </tr>\n",
              "    <tr>\n",
              "      <th>88</th>\n",
              "      <td>0</td>\n",
              "      <td>0</td>\n",
              "      <td>0</td>\n",
              "      <td>0</td>\n",
              "      <td>0</td>\n",
              "    </tr>\n",
              "    <tr>\n",
              "      <th>539</th>\n",
              "      <td>1</td>\n",
              "      <td>1</td>\n",
              "      <td>0</td>\n",
              "      <td>0</td>\n",
              "      <td>0</td>\n",
              "    </tr>\n",
              "    <tr>\n",
              "      <th>23</th>\n",
              "      <td>0</td>\n",
              "      <td>1</td>\n",
              "      <td>-1</td>\n",
              "      <td>1</td>\n",
              "      <td>1</td>\n",
              "    </tr>\n",
              "  </tbody>\n",
              "</table>\n",
              "</div>"
            ],
            "text/plain": [
              "     prediction  actual  err  err_size  isErr\n",
              "662           0       0    0         0      0\n",
              "819           1       1    0         0      0\n",
              "88            0       0    0         0      0\n",
              "539           1       1    0         0      0\n",
              "23            0       1   -1         1      1"
            ]
          },
          "metadata": {
            "tags": []
          },
          "execution_count": 97
        }
      ]
    },
    {
      "cell_type": "code",
      "metadata": {
        "id": "xgkF5e2UgEs6",
        "colab": {
          "base_uri": "https://localhost:8080/"
        },
        "outputId": "a4a92621-9144-4630-cb69-f7369693949e"
      },
      "source": [
        "from sklearn.metrics import confusion_matrix\r\n",
        "\r\n",
        "confusion_matrix(y_test, preds)"
      ],
      "execution_count": 98,
      "outputs": [
        {
          "output_type": "execute_result",
          "data": {
            "text/plain": [
              "array([[96, 14],\n",
              "       [24, 44]])"
            ]
          },
          "metadata": {
            "tags": []
          },
          "execution_count": 98
        }
      ]
    },
    {
      "cell_type": "code",
      "metadata": {
        "id": "Q876P-lPnFPe"
      },
      "source": [
        ""
      ],
      "execution_count": null,
      "outputs": []
    }
  ]
}