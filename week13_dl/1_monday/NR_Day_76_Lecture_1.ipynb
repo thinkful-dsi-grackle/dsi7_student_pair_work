{
  "nbformat": 4,
  "nbformat_minor": 0,
  "metadata": {
    "kernelspec": {
      "display_name": "Python 3",
      "language": "python",
      "name": "python3"
    },
    "language_info": {
      "codemirror_mode": {
        "name": "ipython",
        "version": 3
      },
      "file_extension": ".py",
      "mimetype": "text/x-python",
      "name": "python",
      "nbconvert_exporter": "python",
      "pygments_lexer": "ipython3",
      "version": "3.7.0"
    },
    "colab": {
      "name": "NR Day 76 Lecture 1 ",
      "provenance": [],
      "collapsed_sections": []
    }
  },
  "cells": [
    {
      "cell_type": "markdown",
      "metadata": {
        "id": "T-xOZ1mZ51O8"
      },
      "source": [
        "## Introduction to Deep Learning\n",
        "\n",
        "In this assignment, we will learn about deep learning and neural networks. Answer the questions below:"
      ]
    },
    {
      "cell_type": "markdown",
      "metadata": {
        "id": "TUBtirr_51O-"
      },
      "source": [
        "#### 1. How do neural networks differ from linear models?"
      ]
    },
    {
      "cell_type": "markdown",
      "metadata": {
        "id": "fGwHenMJ51O-"
      },
      "source": [
        "The nural networks have many layers compared to linear models which have only one single layer. Reading does mention every node in a layer is a linear model.\n"
      ]
    },
    {
      "cell_type": "markdown",
      "metadata": {
        "id": "tJF-uwtC51O_"
      },
      "source": [
        "#### 2. Why do deep networks outperform shallow networks?"
      ]
    },
    {
      "cell_type": "markdown",
      "metadata": {
        "id": "JMwwlwBH51PA"
      },
      "source": [
        "The reason is because many more layers can learn a complex structure in the data than single layer model\n",
        "\n"
      ]
    },
    {
      "cell_type": "markdown",
      "metadata": {
        "id": "8asF2DFW51PA"
      },
      "source": [
        "#### 3. Why are dense layers called this way? What is a different name for them? Could we have a layer that is not dense?"
      ]
    },
    {
      "cell_type": "markdown",
      "metadata": {
        "id": "05hZS0ea51PB"
      },
      "source": [
        "The more dense layers are mentioned to be fully connected layers because each node is connected to every other node in the layer before.  Where as the other types of layers are convolutional layers and recurrent layers\n"
      ]
    },
    {
      "cell_type": "markdown",
      "metadata": {
        "id": "FAPTWoY251PB"
      },
      "source": [
        "#### 4. Do neural networks tend to overfit less than other models? If so, how?"
      ]
    },
    {
      "cell_type": "code",
      "metadata": {
        "id": "-qxTVXyc51PC"
      },
      "source": [
        "#The neural networks do overfit due to their optimization. \n",
        "#This can be reduced by regularization also a large amount of traing data will help."
      ],
      "execution_count": null,
      "outputs": []
    },
    {
      "cell_type": "markdown",
      "metadata": {
        "id": "S0CALsKQ51PE"
      },
      "source": [
        "#### 5. Will a model with more hidden layers always have a more accurate prediction? Why or why not?"
      ]
    },
    {
      "cell_type": "code",
      "metadata": {
        "id": "DzhstMjg51PF"
      },
      "source": [
        "\n",
        "#More hidden layers will not always provide more accurate predictions becase at some point all the information contained in the data will be learned by the network and adding additional layers after that won't have anything to contribute in predicting the output.\n"
      ],
      "execution_count": null,
      "outputs": []
    },
    {
      "cell_type": "markdown",
      "metadata": {
        "id": "2qxJk3Km51PG"
      },
      "source": [
        "#### 6. We generate a neural network for a dataset 10 features. If we have three layers, the first with 64 nodes and the second and third with 32 nodes, how many parameters do we need to estimate?"
      ]
    },
    {
      "cell_type": "code",
      "metadata": {
        "id": "kKbl9Xq251PH",
        "colab": {
          "base_uri": "https://localhost:8080/"
        },
        "outputId": "056de771-e060-4176-fef4-31c720c7ae3e"
      },
      "source": [
        "\n",
        "f_layer = (10+1) * 64\n",
        "\n",
        "s_layer = (64+1) * 32\n",
        "\n",
        "t_layer = (32+1) * 32\n",
        "\n",
        "p = f_layer + s_layer + t_layer\n",
        "p"
      ],
      "execution_count": 3,
      "outputs": [
        {
          "output_type": "execute_result",
          "data": {
            "text/plain": [
              "3840"
            ]
          },
          "metadata": {
            "tags": []
          },
          "execution_count": 3
        }
      ]
    },
    {
      "cell_type": "code",
      "metadata": {
        "id": "u8ctWaaBvBgG"
      },
      "source": [
        ""
      ],
      "execution_count": null,
      "outputs": []
    }
  ]
}