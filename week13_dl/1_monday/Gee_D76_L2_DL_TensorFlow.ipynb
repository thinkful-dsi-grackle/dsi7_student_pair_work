{
  "nbformat": 4,
  "nbformat_minor": 0,
  "metadata": {
    "kernelspec": {
      "display_name": "Python 3",
      "language": "python",
      "name": "python3"
    },
    "language_info": {
      "codemirror_mode": {
        "name": "ipython",
        "version": 3
      },
      "file_extension": ".py",
      "mimetype": "text/x-python",
      "name": "python",
      "nbconvert_exporter": "python",
      "pygments_lexer": "ipython3",
      "version": "3.7.0"
    },
    "colab": {
      "name": "Gee_D76_L2_DL_TensorFlow.ipynb",
      "provenance": [],
      "collapsed_sections": []
    },
    "accelerator": "GPU"
  },
  "cells": [
    {
      "cell_type": "code",
      "metadata": {
        "id": "ZqkMSb4B1kma",
        "colab": {
          "base_uri": "https://localhost:8080/"
        },
        "outputId": "853f8380-4c97-4eaa-cc79-9497ce7e56e1"
      },
      "source": [
        "!pip install tensorflow-gpu==2.0.0-rc1 --quiet"
      ],
      "execution_count": 1,
      "outputs": [
        {
          "output_type": "stream",
          "text": [
            "\u001b[K     |████████████████████████████████| 380.5MB 44kB/s \n",
            "\u001b[K     |████████████████████████████████| 51kB 7.9MB/s \n",
            "\u001b[K     |████████████████████████████████| 4.3MB 44.2MB/s \n",
            "\u001b[K     |████████████████████████████████| 501kB 56.4MB/s \n",
            "\u001b[?25h"
          ],
          "name": "stdout"
        }
      ]
    },
    {
      "cell_type": "markdown",
      "metadata": {
        "id": "z95-VM4TlJ5g"
      },
      "source": [
        "## Keras and TensorFlow\n",
        "\n",
        "In this assignment, we will learn about Keras and TensorFlow. We will create a neural network and measure the model's performance."
      ]
    },
    {
      "cell_type": "code",
      "metadata": {
        "id": "3B-HR0FKlJ5i"
      },
      "source": [
        "import numpy as np\n",
        "import pandas as pd\n"
      ],
      "execution_count": 2,
      "outputs": []
    },
    {
      "cell_type": "code",
      "metadata": {
        "id": "s3XUEm8JlJ5l"
      },
      "source": [
        "cancer = pd.read_csv('https://tf-assets-prod.s3.amazonaws.com/tf-curric/data-science/breast_cancer.csv')"
      ],
      "execution_count": 3,
      "outputs": []
    },
    {
      "cell_type": "code",
      "metadata": {
        "id": "UlUp5jhulJ5n",
        "colab": {
          "base_uri": "https://localhost:8080/",
          "height": 479
        },
        "outputId": "ea318b87-e489-4760-8617-2ce0cd1ba438"
      },
      "source": [
        "print(cancer.info)\r\n",
        "cancer.head()"
      ],
      "execution_count": 4,
      "outputs": [
        {
          "output_type": "stream",
          "text": [
            "<bound method DataFrame.info of            id diagnosis  ...  symmetry_worst  fractal_dimension_worst\n",
            "0      842302         M  ...          0.4601                  0.11890\n",
            "1      842517         M  ...          0.2750                  0.08902\n",
            "2    84300903         M  ...          0.3613                  0.08758\n",
            "3    84348301         M  ...          0.6638                  0.17300\n",
            "4    84358402         M  ...          0.2364                  0.07678\n",
            "..        ...       ...  ...             ...                      ...\n",
            "564    926424         M  ...          0.2060                  0.07115\n",
            "565    926682         M  ...          0.2572                  0.06637\n",
            "566    926954         M  ...          0.2218                  0.07820\n",
            "567    927241         M  ...          0.4087                  0.12400\n",
            "568     92751         B  ...          0.2871                  0.07039\n",
            "\n",
            "[569 rows x 32 columns]>\n"
          ],
          "name": "stdout"
        },
        {
          "output_type": "execute_result",
          "data": {
            "text/html": [
              "<div>\n",
              "<style scoped>\n",
              "    .dataframe tbody tr th:only-of-type {\n",
              "        vertical-align: middle;\n",
              "    }\n",
              "\n",
              "    .dataframe tbody tr th {\n",
              "        vertical-align: top;\n",
              "    }\n",
              "\n",
              "    .dataframe thead th {\n",
              "        text-align: right;\n",
              "    }\n",
              "</style>\n",
              "<table border=\"1\" class=\"dataframe\">\n",
              "  <thead>\n",
              "    <tr style=\"text-align: right;\">\n",
              "      <th></th>\n",
              "      <th>id</th>\n",
              "      <th>diagnosis</th>\n",
              "      <th>radius_mean</th>\n",
              "      <th>texture_mean</th>\n",
              "      <th>perimeter_mean</th>\n",
              "      <th>area_mean</th>\n",
              "      <th>smoothness_mean</th>\n",
              "      <th>compactness_mean</th>\n",
              "      <th>concavity_mean</th>\n",
              "      <th>concave points_mean</th>\n",
              "      <th>symmetry_mean</th>\n",
              "      <th>fractal_dimension_mean</th>\n",
              "      <th>radius_se</th>\n",
              "      <th>texture_se</th>\n",
              "      <th>perimeter_se</th>\n",
              "      <th>area_se</th>\n",
              "      <th>smoothness_se</th>\n",
              "      <th>compactness_se</th>\n",
              "      <th>concavity_se</th>\n",
              "      <th>concave points_se</th>\n",
              "      <th>symmetry_se</th>\n",
              "      <th>fractal_dimension_se</th>\n",
              "      <th>radius_worst</th>\n",
              "      <th>texture_worst</th>\n",
              "      <th>perimeter_worst</th>\n",
              "      <th>area_worst</th>\n",
              "      <th>smoothness_worst</th>\n",
              "      <th>compactness_worst</th>\n",
              "      <th>concavity_worst</th>\n",
              "      <th>concave points_worst</th>\n",
              "      <th>symmetry_worst</th>\n",
              "      <th>fractal_dimension_worst</th>\n",
              "    </tr>\n",
              "  </thead>\n",
              "  <tbody>\n",
              "    <tr>\n",
              "      <th>0</th>\n",
              "      <td>842302</td>\n",
              "      <td>M</td>\n",
              "      <td>17.99</td>\n",
              "      <td>10.38</td>\n",
              "      <td>122.80</td>\n",
              "      <td>1001.0</td>\n",
              "      <td>0.11840</td>\n",
              "      <td>0.27760</td>\n",
              "      <td>0.3001</td>\n",
              "      <td>0.14710</td>\n",
              "      <td>0.2419</td>\n",
              "      <td>0.07871</td>\n",
              "      <td>1.0950</td>\n",
              "      <td>0.9053</td>\n",
              "      <td>8.589</td>\n",
              "      <td>153.40</td>\n",
              "      <td>0.006399</td>\n",
              "      <td>0.04904</td>\n",
              "      <td>0.05373</td>\n",
              "      <td>0.01587</td>\n",
              "      <td>0.03003</td>\n",
              "      <td>0.006193</td>\n",
              "      <td>25.38</td>\n",
              "      <td>17.33</td>\n",
              "      <td>184.60</td>\n",
              "      <td>2019.0</td>\n",
              "      <td>0.1622</td>\n",
              "      <td>0.6656</td>\n",
              "      <td>0.7119</td>\n",
              "      <td>0.2654</td>\n",
              "      <td>0.4601</td>\n",
              "      <td>0.11890</td>\n",
              "    </tr>\n",
              "    <tr>\n",
              "      <th>1</th>\n",
              "      <td>842517</td>\n",
              "      <td>M</td>\n",
              "      <td>20.57</td>\n",
              "      <td>17.77</td>\n",
              "      <td>132.90</td>\n",
              "      <td>1326.0</td>\n",
              "      <td>0.08474</td>\n",
              "      <td>0.07864</td>\n",
              "      <td>0.0869</td>\n",
              "      <td>0.07017</td>\n",
              "      <td>0.1812</td>\n",
              "      <td>0.05667</td>\n",
              "      <td>0.5435</td>\n",
              "      <td>0.7339</td>\n",
              "      <td>3.398</td>\n",
              "      <td>74.08</td>\n",
              "      <td>0.005225</td>\n",
              "      <td>0.01308</td>\n",
              "      <td>0.01860</td>\n",
              "      <td>0.01340</td>\n",
              "      <td>0.01389</td>\n",
              "      <td>0.003532</td>\n",
              "      <td>24.99</td>\n",
              "      <td>23.41</td>\n",
              "      <td>158.80</td>\n",
              "      <td>1956.0</td>\n",
              "      <td>0.1238</td>\n",
              "      <td>0.1866</td>\n",
              "      <td>0.2416</td>\n",
              "      <td>0.1860</td>\n",
              "      <td>0.2750</td>\n",
              "      <td>0.08902</td>\n",
              "    </tr>\n",
              "    <tr>\n",
              "      <th>2</th>\n",
              "      <td>84300903</td>\n",
              "      <td>M</td>\n",
              "      <td>19.69</td>\n",
              "      <td>21.25</td>\n",
              "      <td>130.00</td>\n",
              "      <td>1203.0</td>\n",
              "      <td>0.10960</td>\n",
              "      <td>0.15990</td>\n",
              "      <td>0.1974</td>\n",
              "      <td>0.12790</td>\n",
              "      <td>0.2069</td>\n",
              "      <td>0.05999</td>\n",
              "      <td>0.7456</td>\n",
              "      <td>0.7869</td>\n",
              "      <td>4.585</td>\n",
              "      <td>94.03</td>\n",
              "      <td>0.006150</td>\n",
              "      <td>0.04006</td>\n",
              "      <td>0.03832</td>\n",
              "      <td>0.02058</td>\n",
              "      <td>0.02250</td>\n",
              "      <td>0.004571</td>\n",
              "      <td>23.57</td>\n",
              "      <td>25.53</td>\n",
              "      <td>152.50</td>\n",
              "      <td>1709.0</td>\n",
              "      <td>0.1444</td>\n",
              "      <td>0.4245</td>\n",
              "      <td>0.4504</td>\n",
              "      <td>0.2430</td>\n",
              "      <td>0.3613</td>\n",
              "      <td>0.08758</td>\n",
              "    </tr>\n",
              "    <tr>\n",
              "      <th>3</th>\n",
              "      <td>84348301</td>\n",
              "      <td>M</td>\n",
              "      <td>11.42</td>\n",
              "      <td>20.38</td>\n",
              "      <td>77.58</td>\n",
              "      <td>386.1</td>\n",
              "      <td>0.14250</td>\n",
              "      <td>0.28390</td>\n",
              "      <td>0.2414</td>\n",
              "      <td>0.10520</td>\n",
              "      <td>0.2597</td>\n",
              "      <td>0.09744</td>\n",
              "      <td>0.4956</td>\n",
              "      <td>1.1560</td>\n",
              "      <td>3.445</td>\n",
              "      <td>27.23</td>\n",
              "      <td>0.009110</td>\n",
              "      <td>0.07458</td>\n",
              "      <td>0.05661</td>\n",
              "      <td>0.01867</td>\n",
              "      <td>0.05963</td>\n",
              "      <td>0.009208</td>\n",
              "      <td>14.91</td>\n",
              "      <td>26.50</td>\n",
              "      <td>98.87</td>\n",
              "      <td>567.7</td>\n",
              "      <td>0.2098</td>\n",
              "      <td>0.8663</td>\n",
              "      <td>0.6869</td>\n",
              "      <td>0.2575</td>\n",
              "      <td>0.6638</td>\n",
              "      <td>0.17300</td>\n",
              "    </tr>\n",
              "    <tr>\n",
              "      <th>4</th>\n",
              "      <td>84358402</td>\n",
              "      <td>M</td>\n",
              "      <td>20.29</td>\n",
              "      <td>14.34</td>\n",
              "      <td>135.10</td>\n",
              "      <td>1297.0</td>\n",
              "      <td>0.10030</td>\n",
              "      <td>0.13280</td>\n",
              "      <td>0.1980</td>\n",
              "      <td>0.10430</td>\n",
              "      <td>0.1809</td>\n",
              "      <td>0.05883</td>\n",
              "      <td>0.7572</td>\n",
              "      <td>0.7813</td>\n",
              "      <td>5.438</td>\n",
              "      <td>94.44</td>\n",
              "      <td>0.011490</td>\n",
              "      <td>0.02461</td>\n",
              "      <td>0.05688</td>\n",
              "      <td>0.01885</td>\n",
              "      <td>0.01756</td>\n",
              "      <td>0.005115</td>\n",
              "      <td>22.54</td>\n",
              "      <td>16.67</td>\n",
              "      <td>152.20</td>\n",
              "      <td>1575.0</td>\n",
              "      <td>0.1374</td>\n",
              "      <td>0.2050</td>\n",
              "      <td>0.4000</td>\n",
              "      <td>0.1625</td>\n",
              "      <td>0.2364</td>\n",
              "      <td>0.07678</td>\n",
              "    </tr>\n",
              "  </tbody>\n",
              "</table>\n",
              "</div>"
            ],
            "text/plain": [
              "         id diagnosis  ...  symmetry_worst  fractal_dimension_worst\n",
              "0    842302         M  ...          0.4601                  0.11890\n",
              "1    842517         M  ...          0.2750                  0.08902\n",
              "2  84300903         M  ...          0.3613                  0.08758\n",
              "3  84348301         M  ...          0.6638                  0.17300\n",
              "4  84358402         M  ...          0.2364                  0.07678\n",
              "\n",
              "[5 rows x 32 columns]"
            ]
          },
          "metadata": {
            "tags": []
          },
          "execution_count": 4
        }
      ]
    },
    {
      "cell_type": "markdown",
      "metadata": {
        "id": "wYZLhYV8lJ5q"
      },
      "source": [
        "We'll start with some data cleaning. First remove the id column since we have no use for it. Then check for missing data and remove all rows containing missing data."
      ]
    },
    {
      "cell_type": "code",
      "metadata": {
        "id": "Dc4wwsNOlJ5q",
        "colab": {
          "base_uri": "https://localhost:8080/"
        },
        "outputId": "bf74ca28-0d81-4983-a6d6-5fe622f742a6"
      },
      "source": [
        "# Answer below:\n",
        "cancer.drop(columns='id', inplace=True)\n",
        "cancer.dropna(inplace=True)\n",
        "cancer.info()"
      ],
      "execution_count": 5,
      "outputs": [
        {
          "output_type": "stream",
          "text": [
            "<class 'pandas.core.frame.DataFrame'>\n",
            "Int64Index: 569 entries, 0 to 568\n",
            "Data columns (total 31 columns):\n",
            " #   Column                   Non-Null Count  Dtype  \n",
            "---  ------                   --------------  -----  \n",
            " 0   diagnosis                569 non-null    object \n",
            " 1   radius_mean              569 non-null    float64\n",
            " 2   texture_mean             569 non-null    float64\n",
            " 3   perimeter_mean           569 non-null    float64\n",
            " 4   area_mean                569 non-null    float64\n",
            " 5   smoothness_mean          569 non-null    float64\n",
            " 6   compactness_mean         569 non-null    float64\n",
            " 7   concavity_mean           569 non-null    float64\n",
            " 8   concave points_mean      569 non-null    float64\n",
            " 9   symmetry_mean            569 non-null    float64\n",
            " 10  fractal_dimension_mean   569 non-null    float64\n",
            " 11  radius_se                569 non-null    float64\n",
            " 12  texture_se               569 non-null    float64\n",
            " 13  perimeter_se             569 non-null    float64\n",
            " 14  area_se                  569 non-null    float64\n",
            " 15  smoothness_se            569 non-null    float64\n",
            " 16  compactness_se           569 non-null    float64\n",
            " 17  concavity_se             569 non-null    float64\n",
            " 18  concave points_se        569 non-null    float64\n",
            " 19  symmetry_se              569 non-null    float64\n",
            " 20  fractal_dimension_se     569 non-null    float64\n",
            " 21  radius_worst             569 non-null    float64\n",
            " 22  texture_worst            569 non-null    float64\n",
            " 23  perimeter_worst          569 non-null    float64\n",
            " 24  area_worst               569 non-null    float64\n",
            " 25  smoothness_worst         569 non-null    float64\n",
            " 26  compactness_worst        569 non-null    float64\n",
            " 27  concavity_worst          569 non-null    float64\n",
            " 28  concave points_worst     569 non-null    float64\n",
            " 29  symmetry_worst           569 non-null    float64\n",
            " 30  fractal_dimension_worst  569 non-null    float64\n",
            "dtypes: float64(30), object(1)\n",
            "memory usage: 142.2+ KB\n"
          ],
          "name": "stdout"
        }
      ]
    },
    {
      "cell_type": "markdown",
      "metadata": {
        "id": "vS4Ez5PblJ5s"
      },
      "source": [
        "The diagnosis columnn is our target variable. How many possible values are in this variable?"
      ]
    },
    {
      "cell_type": "code",
      "metadata": {
        "id": "z9Y8CrdblJ5t",
        "colab": {
          "base_uri": "https://localhost:8080/"
        },
        "outputId": "2093a586-9728-430d-f207-2af0d8541d35"
      },
      "source": [
        "# Answer below:\n",
        "nb_classes = cancer.diagnosis.value_counts().count()\n",
        "nb_classes\n",
        "# Two possible values for the diagnosis variables 'B': Benign or 'M': Malignant"
      ],
      "execution_count": 6,
      "outputs": [
        {
          "output_type": "execute_result",
          "data": {
            "text/plain": [
              "2"
            ]
          },
          "metadata": {
            "tags": []
          },
          "execution_count": 6
        }
      ]
    },
    {
      "cell_type": "code",
      "metadata": {
        "id": "Wr7zdJTfCIHo"
      },
      "source": [
        "diag = cancer.diagnosis.values"
      ],
      "execution_count": 7,
      "outputs": []
    },
    {
      "cell_type": "markdown",
      "metadata": {
        "id": "4HIxH-KzlJ5u"
      },
      "source": [
        "Create one or multiple dummy variables for this column and store this encoded data in a numpy array called `target`"
      ]
    },
    {
      "cell_type": "code",
      "metadata": {
        "id": "jcPTpi5glJ5v"
      },
      "source": [
        "# Answer below:\n",
        "from sklearn.preprocessing import OneHotEncoder\n",
        "\n",
        "target = OneHotEncoder(sparse=False).fit_transform(diag.reshape(-1,1))"
      ],
      "execution_count": 8,
      "outputs": []
    },
    {
      "cell_type": "markdown",
      "metadata": {
        "id": "nTeGX95alJ5x"
      },
      "source": [
        "When looking at the columm names, you may have noticed that for each attribute we have a mean of the attribute, a standard error, and a worst value. Let's create a list of column names for only the means columns. Use this list to create a new dataframe containing only the means columns."
      ]
    },
    {
      "cell_type": "code",
      "metadata": {
        "colab": {
          "base_uri": "https://localhost:8080/"
        },
        "id": "44Rv187vFHiQ",
        "outputId": "eae3d88e-3868-4122-c0fe-da07ee769b78"
      },
      "source": [
        "cancer.columns"
      ],
      "execution_count": 9,
      "outputs": [
        {
          "output_type": "execute_result",
          "data": {
            "text/plain": [
              "Index(['diagnosis', 'radius_mean', 'texture_mean', 'perimeter_mean',\n",
              "       'area_mean', 'smoothness_mean', 'compactness_mean', 'concavity_mean',\n",
              "       'concave points_mean', 'symmetry_mean', 'fractal_dimension_mean',\n",
              "       'radius_se', 'texture_se', 'perimeter_se', 'area_se', 'smoothness_se',\n",
              "       'compactness_se', 'concavity_se', 'concave points_se', 'symmetry_se',\n",
              "       'fractal_dimension_se', 'radius_worst', 'texture_worst',\n",
              "       'perimeter_worst', 'area_worst', 'smoothness_worst',\n",
              "       'compactness_worst', 'concavity_worst', 'concave points_worst',\n",
              "       'symmetry_worst', 'fractal_dimension_worst'],\n",
              "      dtype='object')"
            ]
          },
          "metadata": {
            "tags": []
          },
          "execution_count": 9
        }
      ]
    },
    {
      "cell_type": "code",
      "metadata": {
        "id": "bPO8gG35lJ5x"
      },
      "source": [
        "# Answer below:\n",
        "cols = ['radius_mean','texture_mean','perimeter_mean','area_mean',\n",
        "        'smoothness_mean','compactness_mean','concavity_mean', \n",
        "        'concave points_mean', 'symmetry_mean', 'fractal_dimension_mean']\n",
        "df = cancer[cols]"
      ],
      "execution_count": 10,
      "outputs": []
    },
    {
      "cell_type": "markdown",
      "metadata": {
        "id": "oBuO5BOIlJ51"
      },
      "source": [
        "Split the data into train and test samples. The test sample should contain 20% of the data."
      ]
    },
    {
      "cell_type": "code",
      "metadata": {
        "id": "mv0hKnzklJ51"
      },
      "source": [
        "# Answer below\n",
        "from sklearn.model_selection import train_test_split\n",
        "\n",
        "X_train, X_test, y_train, y_test = train_test_split(df, target, test_size=.2)\n"
      ],
      "execution_count": 11,
      "outputs": []
    },
    {
      "cell_type": "code",
      "metadata": {
        "colab": {
          "base_uri": "https://localhost:8080/"
        },
        "id": "aVQD2r0wGW9N",
        "outputId": "83e99891-a2ef-4714-a2c0-0f66437defe8"
      },
      "source": [
        "print(X_train.shape)\r\n",
        "print(X_test.shape)\r\n",
        "print(y_train.shape)\r\n",
        "print(y_test.shape)"
      ],
      "execution_count": 12,
      "outputs": [
        {
          "output_type": "stream",
          "text": [
            "(455, 10)\n",
            "(114, 10)\n",
            "(455, 2)\n",
            "(114, 2)\n"
          ],
          "name": "stdout"
        }
      ]
    },
    {
      "cell_type": "markdown",
      "metadata": {
        "id": "h0X26vkklJ5z"
      },
      "source": [
        "Now we'll use the minmax scaler to ensure that all columns have values between zero and 1. Apply this transformations for all columns to be used in the prediction."
      ]
    },
    {
      "cell_type": "code",
      "metadata": {
        "id": "febZFy_tlJ5z"
      },
      "source": [
        "# Answer below:\n",
        "from sklearn.preprocessing import MinMaxScaler\n",
        "\n",
        "scaler = MinMaxScaler(feature_range=(0,1))\n",
        "xtrain_scale = scaler.fit_transform(X_train)\n",
        "ytrain_scale = scaler.fit_transform(y_train)\n",
        "xtest_scale = scaler.fit_transform(X_test)\n",
        "ytest_scale = scaler.fit_transform(y_test)"
      ],
      "execution_count": 13,
      "outputs": []
    },
    {
      "cell_type": "markdown",
      "metadata": {
        "id": "Z4gNH9_slJ53"
      },
      "source": [
        "Now we can proceed with our model. In the cell below, import the `Sequential`, and `Dense` functions."
      ]
    },
    {
      "cell_type": "code",
      "metadata": {
        "id": "0EFVNpW3lJ53"
      },
      "source": [
        "# Answer below:\n",
        "from tensorflow.keras.models import Sequential\n",
        "from tensorflow.keras.layers import Dense\n"
      ],
      "execution_count": 14,
      "outputs": []
    },
    {
      "cell_type": "markdown",
      "metadata": {
        "id": "AhrP-ICtlJ55"
      },
      "source": [
        "create a model that takes the training data and predicts the target variable. The model will have 3 layers. The input layer should be of unit size 12 and the hidden layer will be of size 10. The output layer size will be determined by the size of the target variable. Use the sigmoid activation function for the last layer"
      ]
    },
    {
      "cell_type": "code",
      "metadata": {
        "id": "ni5BKZqYlJ55"
      },
      "source": [
        "# Answer below\n",
        "model = Sequential()\n",
        "model.add(Dense(132, input_dim=xtrain_scale.shape[1], activation='relu'))\n",
        "model.add(Dense(130, activation='relu'))\n",
        "model.add(Dense(nb_classes, activation='sigmoid'))\n"
      ],
      "execution_count": 15,
      "outputs": []
    },
    {
      "cell_type": "code",
      "metadata": {
        "colab": {
          "base_uri": "https://localhost:8080/"
        },
        "id": "HRYg7JJhMAEg",
        "outputId": "8f37021b-f681-4c26-f26e-095b3dcf34cc"
      },
      "source": [
        "model.summary()"
      ],
      "execution_count": 16,
      "outputs": [
        {
          "output_type": "stream",
          "text": [
            "Model: \"sequential\"\n",
            "_________________________________________________________________\n",
            "Layer (type)                 Output Shape              Param #   \n",
            "=================================================================\n",
            "dense (Dense)                (None, 132)               1452      \n",
            "_________________________________________________________________\n",
            "dense_1 (Dense)              (None, 130)               17290     \n",
            "_________________________________________________________________\n",
            "dense_2 (Dense)              (None, 2)                 262       \n",
            "=================================================================\n",
            "Total params: 19,004\n",
            "Trainable params: 19,004\n",
            "Non-trainable params: 0\n",
            "_________________________________________________________________\n"
          ],
          "name": "stdout"
        }
      ]
    },
    {
      "cell_type": "markdown",
      "metadata": {
        "id": "VH4UZYIqlJ57"
      },
      "source": [
        "Compile and fit the model. Use the adam optimizer and the binary crossentropy loss function. Train the model for 200 epochs with a batch size of 80. Make sure touse the test data into the model as well."
      ]
    },
    {
      "cell_type": "code",
      "metadata": {
        "id": "Qy3HSNm6lJ58",
        "colab": {
          "base_uri": "https://localhost:8080/"
        },
        "outputId": "81e736da-b4f8-41c0-8d97-826fffee943b"
      },
      "source": [
        "# Answer below:\n",
        "model.compile(optimizer='adam', loss='binary_crossentropy', metrics=['accuracy'])\n",
        "\n",
        "his = model.fit(xtrain_scale, ytrain_scale, \n",
        "                validation_data=(xtest_scale, ytest_scale), \n",
        "                batch_size=80, epochs=200, verbose=1)"
      ],
      "execution_count": 17,
      "outputs": [
        {
          "output_type": "stream",
          "text": [
            "Train on 455 samples, validate on 114 samples\n",
            "Epoch 1/200\n",
            "WARNING:tensorflow:From /usr/local/lib/python3.6/dist-packages/tensorflow_core/python/ops/nn_impl.py:183: where (from tensorflow.python.ops.array_ops) is deprecated and will be removed in a future version.\n",
            "Instructions for updating:\n",
            "Use tf.where in 2.0, which has the same broadcast rule as np.where\n",
            "WARNING:tensorflow:Entity <function Function._initialize_uninitialized_variables.<locals>.initialize_variables at 0x7f89b00a7f28> could not be transformed and will be executed as-is. Please report this to the AutoGraph team. When filing the bug, set the verbosity to 10 (on Linux, `export AUTOGRAPH_VERBOSITY=10`) and attach the full output. Cause: module 'gast' has no attribute 'Num'\n",
            "WARNING: Entity <function Function._initialize_uninitialized_variables.<locals>.initialize_variables at 0x7f89b00a7f28> could not be transformed and will be executed as-is. Please report this to the AutoGraph team. When filing the bug, set the verbosity to 10 (on Linux, `export AUTOGRAPH_VERBOSITY=10`) and attach the full output. Cause: module 'gast' has no attribute 'Num'\n",
            "455/455 [==============================] - 2s 4ms/sample - loss: 0.6790 - accuracy: 0.6495 - val_loss: 0.6582 - val_accuracy: 0.8289\n",
            "Epoch 2/200\n",
            "455/455 [==============================] - 0s 85us/sample - loss: 0.6406 - accuracy: 0.8692 - val_loss: 0.6262 - val_accuracy: 0.8289\n",
            "Epoch 3/200\n",
            "455/455 [==============================] - 0s 80us/sample - loss: 0.6017 - accuracy: 0.8890 - val_loss: 0.5888 - val_accuracy: 0.8465\n",
            "Epoch 4/200\n",
            "455/455 [==============================] - 0s 86us/sample - loss: 0.5559 - accuracy: 0.8846 - val_loss: 0.5463 - val_accuracy: 0.8421\n",
            "Epoch 5/200\n",
            "455/455 [==============================] - 0s 83us/sample - loss: 0.5044 - accuracy: 0.8846 - val_loss: 0.4973 - val_accuracy: 0.8640\n",
            "Epoch 6/200\n",
            "455/455 [==============================] - 0s 83us/sample - loss: 0.4463 - accuracy: 0.8901 - val_loss: 0.4464 - val_accuracy: 0.8596\n",
            "Epoch 7/200\n",
            "455/455 [==============================] - 0s 83us/sample - loss: 0.3880 - accuracy: 0.8934 - val_loss: 0.3992 - val_accuracy: 0.8640\n",
            "Epoch 8/200\n",
            "455/455 [==============================] - 0s 85us/sample - loss: 0.3379 - accuracy: 0.8945 - val_loss: 0.3563 - val_accuracy: 0.8728\n",
            "Epoch 9/200\n",
            "455/455 [==============================] - 0s 96us/sample - loss: 0.2967 - accuracy: 0.8967 - val_loss: 0.3305 - val_accuracy: 0.8553\n",
            "Epoch 10/200\n",
            "455/455 [==============================] - 0s 85us/sample - loss: 0.2623 - accuracy: 0.9088 - val_loss: 0.2960 - val_accuracy: 0.8728\n",
            "Epoch 11/200\n",
            "455/455 [==============================] - 0s 85us/sample - loss: 0.2412 - accuracy: 0.9077 - val_loss: 0.2749 - val_accuracy: 0.8684\n",
            "Epoch 12/200\n",
            "455/455 [==============================] - 0s 74us/sample - loss: 0.2224 - accuracy: 0.9121 - val_loss: 0.2550 - val_accuracy: 0.8816\n",
            "Epoch 13/200\n",
            "455/455 [==============================] - 0s 100us/sample - loss: 0.2099 - accuracy: 0.9110 - val_loss: 0.2425 - val_accuracy: 0.8860\n",
            "Epoch 14/200\n",
            "455/455 [==============================] - 0s 105us/sample - loss: 0.1997 - accuracy: 0.9209 - val_loss: 0.2351 - val_accuracy: 0.8947\n",
            "Epoch 15/200\n",
            "455/455 [==============================] - 0s 86us/sample - loss: 0.1906 - accuracy: 0.9264 - val_loss: 0.2193 - val_accuracy: 0.9123\n",
            "Epoch 16/200\n",
            "455/455 [==============================] - 0s 85us/sample - loss: 0.1860 - accuracy: 0.9209 - val_loss: 0.2076 - val_accuracy: 0.9211\n",
            "Epoch 17/200\n",
            "455/455 [==============================] - 0s 79us/sample - loss: 0.1788 - accuracy: 0.9209 - val_loss: 0.2079 - val_accuracy: 0.9167\n",
            "Epoch 18/200\n",
            "455/455 [==============================] - 0s 86us/sample - loss: 0.1736 - accuracy: 0.9264 - val_loss: 0.1930 - val_accuracy: 0.9298\n",
            "Epoch 19/200\n",
            "455/455 [==============================] - 0s 89us/sample - loss: 0.1701 - accuracy: 0.9275 - val_loss: 0.1910 - val_accuracy: 0.9298\n",
            "Epoch 20/200\n",
            "455/455 [==============================] - 0s 87us/sample - loss: 0.1656 - accuracy: 0.9330 - val_loss: 0.1928 - val_accuracy: 0.9298\n",
            "Epoch 21/200\n",
            "455/455 [==============================] - 0s 87us/sample - loss: 0.1650 - accuracy: 0.9297 - val_loss: 0.1820 - val_accuracy: 0.9386\n",
            "Epoch 22/200\n",
            "455/455 [==============================] - 0s 91us/sample - loss: 0.1620 - accuracy: 0.9319 - val_loss: 0.1781 - val_accuracy: 0.9386\n",
            "Epoch 23/200\n",
            "455/455 [==============================] - 0s 87us/sample - loss: 0.1658 - accuracy: 0.9286 - val_loss: 0.1825 - val_accuracy: 0.9298\n",
            "Epoch 24/200\n",
            "455/455 [==============================] - 0s 78us/sample - loss: 0.1528 - accuracy: 0.9451 - val_loss: 0.1705 - val_accuracy: 0.9474\n",
            "Epoch 25/200\n",
            "455/455 [==============================] - 0s 74us/sample - loss: 0.1531 - accuracy: 0.9352 - val_loss: 0.1698 - val_accuracy: 0.9386\n",
            "Epoch 26/200\n",
            "455/455 [==============================] - 0s 80us/sample - loss: 0.1516 - accuracy: 0.9396 - val_loss: 0.1750 - val_accuracy: 0.9298\n",
            "Epoch 27/200\n",
            "455/455 [==============================] - 0s 82us/sample - loss: 0.1632 - accuracy: 0.9319 - val_loss: 0.1631 - val_accuracy: 0.9430\n",
            "Epoch 28/200\n",
            "455/455 [==============================] - 0s 76us/sample - loss: 0.1504 - accuracy: 0.9374 - val_loss: 0.1890 - val_accuracy: 0.9211\n",
            "Epoch 29/200\n",
            "455/455 [==============================] - 0s 81us/sample - loss: 0.1508 - accuracy: 0.9352 - val_loss: 0.1601 - val_accuracy: 0.9430\n",
            "Epoch 30/200\n",
            "455/455 [==============================] - 0s 87us/sample - loss: 0.1469 - accuracy: 0.9396 - val_loss: 0.1598 - val_accuracy: 0.9386\n",
            "Epoch 31/200\n",
            "455/455 [==============================] - 0s 88us/sample - loss: 0.1439 - accuracy: 0.9418 - val_loss: 0.1622 - val_accuracy: 0.9386\n",
            "Epoch 32/200\n",
            "455/455 [==============================] - 0s 94us/sample - loss: 0.1414 - accuracy: 0.9385 - val_loss: 0.1569 - val_accuracy: 0.9474\n",
            "Epoch 33/200\n",
            "455/455 [==============================] - 0s 84us/sample - loss: 0.1404 - accuracy: 0.9440 - val_loss: 0.1583 - val_accuracy: 0.9386\n",
            "Epoch 34/200\n",
            "455/455 [==============================] - 0s 84us/sample - loss: 0.1388 - accuracy: 0.9462 - val_loss: 0.1549 - val_accuracy: 0.9386\n",
            "Epoch 35/200\n",
            "455/455 [==============================] - 0s 81us/sample - loss: 0.1383 - accuracy: 0.9462 - val_loss: 0.1529 - val_accuracy: 0.9386\n",
            "Epoch 36/200\n",
            "455/455 [==============================] - 0s 79us/sample - loss: 0.1376 - accuracy: 0.9451 - val_loss: 0.1523 - val_accuracy: 0.9386\n",
            "Epoch 37/200\n",
            "455/455 [==============================] - 0s 94us/sample - loss: 0.1351 - accuracy: 0.9451 - val_loss: 0.1490 - val_accuracy: 0.9561\n",
            "Epoch 38/200\n",
            "455/455 [==============================] - 0s 102us/sample - loss: 0.1347 - accuracy: 0.9451 - val_loss: 0.1497 - val_accuracy: 0.9386\n",
            "Epoch 39/200\n",
            "455/455 [==============================] - 0s 82us/sample - loss: 0.1377 - accuracy: 0.9451 - val_loss: 0.1525 - val_accuracy: 0.9386\n",
            "Epoch 40/200\n",
            "455/455 [==============================] - 0s 84us/sample - loss: 0.1367 - accuracy: 0.9516 - val_loss: 0.1475 - val_accuracy: 0.9474\n",
            "Epoch 41/200\n",
            "455/455 [==============================] - 0s 101us/sample - loss: 0.1343 - accuracy: 0.9473 - val_loss: 0.1501 - val_accuracy: 0.9386\n",
            "Epoch 42/200\n",
            "455/455 [==============================] - 0s 86us/sample - loss: 0.1317 - accuracy: 0.9451 - val_loss: 0.1442 - val_accuracy: 0.9430\n",
            "Epoch 43/200\n",
            "455/455 [==============================] - 0s 84us/sample - loss: 0.1304 - accuracy: 0.9473 - val_loss: 0.1428 - val_accuracy: 0.9561\n",
            "Epoch 44/200\n",
            "455/455 [==============================] - 0s 80us/sample - loss: 0.1299 - accuracy: 0.9407 - val_loss: 0.1470 - val_accuracy: 0.9386\n",
            "Epoch 45/200\n",
            "455/455 [==============================] - 0s 90us/sample - loss: 0.1332 - accuracy: 0.9473 - val_loss: 0.1405 - val_accuracy: 0.9561\n",
            "Epoch 46/200\n",
            "455/455 [==============================] - 0s 91us/sample - loss: 0.1269 - accuracy: 0.9451 - val_loss: 0.1419 - val_accuracy: 0.9386\n",
            "Epoch 47/200\n",
            "455/455 [==============================] - 0s 86us/sample - loss: 0.1328 - accuracy: 0.9462 - val_loss: 0.1417 - val_accuracy: 0.9386\n",
            "Epoch 48/200\n",
            "455/455 [==============================] - 0s 90us/sample - loss: 0.1288 - accuracy: 0.9473 - val_loss: 0.1387 - val_accuracy: 0.9474\n",
            "Epoch 49/200\n",
            "455/455 [==============================] - 0s 83us/sample - loss: 0.1232 - accuracy: 0.9473 - val_loss: 0.1425 - val_accuracy: 0.9474\n",
            "Epoch 50/200\n",
            "455/455 [==============================] - 0s 85us/sample - loss: 0.1286 - accuracy: 0.9451 - val_loss: 0.1353 - val_accuracy: 0.9561\n",
            "Epoch 51/200\n",
            "455/455 [==============================] - 0s 85us/sample - loss: 0.1231 - accuracy: 0.9516 - val_loss: 0.1335 - val_accuracy: 0.9518\n",
            "Epoch 52/200\n",
            "455/455 [==============================] - 0s 84us/sample - loss: 0.1216 - accuracy: 0.9527 - val_loss: 0.1338 - val_accuracy: 0.9474\n",
            "Epoch 53/200\n",
            "455/455 [==============================] - 0s 83us/sample - loss: 0.1223 - accuracy: 0.9495 - val_loss: 0.1310 - val_accuracy: 0.9518\n",
            "Epoch 54/200\n",
            "455/455 [==============================] - 0s 121us/sample - loss: 0.1211 - accuracy: 0.9538 - val_loss: 0.1328 - val_accuracy: 0.9561\n",
            "Epoch 55/200\n",
            "455/455 [==============================] - 0s 103us/sample - loss: 0.1200 - accuracy: 0.9473 - val_loss: 0.1287 - val_accuracy: 0.9474\n",
            "Epoch 56/200\n",
            "455/455 [==============================] - 0s 88us/sample - loss: 0.1219 - accuracy: 0.9495 - val_loss: 0.1299 - val_accuracy: 0.9474\n",
            "Epoch 57/200\n",
            "455/455 [==============================] - 0s 80us/sample - loss: 0.1209 - accuracy: 0.9538 - val_loss: 0.1283 - val_accuracy: 0.9561\n",
            "Epoch 58/200\n",
            "455/455 [==============================] - 0s 78us/sample - loss: 0.1171 - accuracy: 0.9549 - val_loss: 0.1284 - val_accuracy: 0.9561\n",
            "Epoch 59/200\n",
            "455/455 [==============================] - 0s 80us/sample - loss: 0.1177 - accuracy: 0.9538 - val_loss: 0.1251 - val_accuracy: 0.9474\n",
            "Epoch 60/200\n",
            "455/455 [==============================] - 0s 86us/sample - loss: 0.1247 - accuracy: 0.9527 - val_loss: 0.1250 - val_accuracy: 0.9561\n",
            "Epoch 61/200\n",
            "455/455 [==============================] - 0s 81us/sample - loss: 0.1230 - accuracy: 0.9451 - val_loss: 0.1356 - val_accuracy: 0.9474\n",
            "Epoch 62/200\n",
            "455/455 [==============================] - 0s 81us/sample - loss: 0.1174 - accuracy: 0.9538 - val_loss: 0.1266 - val_accuracy: 0.9474\n",
            "Epoch 63/200\n",
            "455/455 [==============================] - 0s 111us/sample - loss: 0.1191 - accuracy: 0.9516 - val_loss: 0.1272 - val_accuracy: 0.9561\n",
            "Epoch 64/200\n",
            "455/455 [==============================] - 0s 109us/sample - loss: 0.1155 - accuracy: 0.9571 - val_loss: 0.1248 - val_accuracy: 0.9561\n",
            "Epoch 65/200\n",
            "455/455 [==============================] - 0s 92us/sample - loss: 0.1164 - accuracy: 0.9560 - val_loss: 0.1218 - val_accuracy: 0.9561\n",
            "Epoch 66/200\n",
            "455/455 [==============================] - 0s 81us/sample - loss: 0.1129 - accuracy: 0.9604 - val_loss: 0.1223 - val_accuracy: 0.9561\n",
            "Epoch 67/200\n",
            "455/455 [==============================] - 0s 76us/sample - loss: 0.1143 - accuracy: 0.9582 - val_loss: 0.1210 - val_accuracy: 0.9561\n",
            "Epoch 68/200\n",
            "455/455 [==============================] - 0s 83us/sample - loss: 0.1125 - accuracy: 0.9604 - val_loss: 0.1196 - val_accuracy: 0.9561\n",
            "Epoch 69/200\n",
            "455/455 [==============================] - 0s 90us/sample - loss: 0.1119 - accuracy: 0.9604 - val_loss: 0.1174 - val_accuracy: 0.9561\n",
            "Epoch 70/200\n",
            "455/455 [==============================] - 0s 92us/sample - loss: 0.1124 - accuracy: 0.9549 - val_loss: 0.1202 - val_accuracy: 0.9561\n",
            "Epoch 71/200\n",
            "455/455 [==============================] - 0s 96us/sample - loss: 0.1143 - accuracy: 0.9593 - val_loss: 0.1195 - val_accuracy: 0.9561\n",
            "Epoch 72/200\n",
            "455/455 [==============================] - 0s 100us/sample - loss: 0.1193 - accuracy: 0.9582 - val_loss: 0.1166 - val_accuracy: 0.9561\n",
            "Epoch 73/200\n",
            "455/455 [==============================] - 0s 87us/sample - loss: 0.1175 - accuracy: 0.9527 - val_loss: 0.1189 - val_accuracy: 0.9561\n",
            "Epoch 74/200\n",
            "455/455 [==============================] - 0s 77us/sample - loss: 0.1082 - accuracy: 0.9604 - val_loss: 0.1127 - val_accuracy: 0.9561\n",
            "Epoch 75/200\n",
            "455/455 [==============================] - 0s 88us/sample - loss: 0.1101 - accuracy: 0.9604 - val_loss: 0.1121 - val_accuracy: 0.9561\n",
            "Epoch 76/200\n",
            "455/455 [==============================] - 0s 86us/sample - loss: 0.1109 - accuracy: 0.9582 - val_loss: 0.1117 - val_accuracy: 0.9561\n",
            "Epoch 77/200\n",
            "455/455 [==============================] - 0s 91us/sample - loss: 0.1082 - accuracy: 0.9604 - val_loss: 0.1161 - val_accuracy: 0.9561\n",
            "Epoch 78/200\n",
            "455/455 [==============================] - 0s 93us/sample - loss: 0.1064 - accuracy: 0.9626 - val_loss: 0.1109 - val_accuracy: 0.9561\n",
            "Epoch 79/200\n",
            "455/455 [==============================] - 0s 86us/sample - loss: 0.1088 - accuracy: 0.9560 - val_loss: 0.1095 - val_accuracy: 0.9605\n",
            "Epoch 80/200\n",
            "455/455 [==============================] - 0s 96us/sample - loss: 0.1088 - accuracy: 0.9582 - val_loss: 0.1131 - val_accuracy: 0.9561\n",
            "Epoch 81/200\n",
            "455/455 [==============================] - 0s 82us/sample - loss: 0.1070 - accuracy: 0.9626 - val_loss: 0.1091 - val_accuracy: 0.9561\n",
            "Epoch 82/200\n",
            "455/455 [==============================] - 0s 77us/sample - loss: 0.1045 - accuracy: 0.9670 - val_loss: 0.1128 - val_accuracy: 0.9561\n",
            "Epoch 83/200\n",
            "455/455 [==============================] - 0s 93us/sample - loss: 0.1059 - accuracy: 0.9604 - val_loss: 0.1097 - val_accuracy: 0.9561\n",
            "Epoch 84/200\n",
            "455/455 [==============================] - 0s 85us/sample - loss: 0.1027 - accuracy: 0.9670 - val_loss: 0.1077 - val_accuracy: 0.9649\n",
            "Epoch 85/200\n",
            "455/455 [==============================] - 0s 101us/sample - loss: 0.1047 - accuracy: 0.9659 - val_loss: 0.1063 - val_accuracy: 0.9561\n",
            "Epoch 86/200\n",
            "455/455 [==============================] - 0s 85us/sample - loss: 0.1046 - accuracy: 0.9582 - val_loss: 0.1069 - val_accuracy: 0.9561\n",
            "Epoch 87/200\n",
            "455/455 [==============================] - 0s 94us/sample - loss: 0.1057 - accuracy: 0.9604 - val_loss: 0.1044 - val_accuracy: 0.9649\n",
            "Epoch 88/200\n",
            "455/455 [==============================] - 0s 82us/sample - loss: 0.1032 - accuracy: 0.9582 - val_loss: 0.1068 - val_accuracy: 0.9561\n",
            "Epoch 89/200\n",
            "455/455 [==============================] - 0s 88us/sample - loss: 0.1044 - accuracy: 0.9604 - val_loss: 0.1036 - val_accuracy: 0.9693\n",
            "Epoch 90/200\n",
            "455/455 [==============================] - 0s 98us/sample - loss: 0.1020 - accuracy: 0.9648 - val_loss: 0.1095 - val_accuracy: 0.9561\n",
            "Epoch 91/200\n",
            "455/455 [==============================] - 0s 93us/sample - loss: 0.1025 - accuracy: 0.9582 - val_loss: 0.1076 - val_accuracy: 0.9561\n",
            "Epoch 92/200\n",
            "455/455 [==============================] - 0s 81us/sample - loss: 0.1037 - accuracy: 0.9582 - val_loss: 0.1030 - val_accuracy: 0.9561\n",
            "Epoch 93/200\n",
            "455/455 [==============================] - 0s 81us/sample - loss: 0.1006 - accuracy: 0.9670 - val_loss: 0.1010 - val_accuracy: 0.9737\n",
            "Epoch 94/200\n",
            "455/455 [==============================] - 0s 94us/sample - loss: 0.1025 - accuracy: 0.9593 - val_loss: 0.1025 - val_accuracy: 0.9561\n",
            "Epoch 95/200\n",
            "455/455 [==============================] - 0s 107us/sample - loss: 0.0989 - accuracy: 0.9659 - val_loss: 0.1011 - val_accuracy: 0.9737\n",
            "Epoch 96/200\n",
            "455/455 [==============================] - 0s 89us/sample - loss: 0.0993 - accuracy: 0.9670 - val_loss: 0.1032 - val_accuracy: 0.9561\n",
            "Epoch 97/200\n",
            "455/455 [==============================] - 0s 80us/sample - loss: 0.0999 - accuracy: 0.9648 - val_loss: 0.1031 - val_accuracy: 0.9561\n",
            "Epoch 98/200\n",
            "455/455 [==============================] - 0s 82us/sample - loss: 0.0994 - accuracy: 0.9670 - val_loss: 0.0992 - val_accuracy: 0.9649\n",
            "Epoch 99/200\n",
            "455/455 [==============================] - 0s 87us/sample - loss: 0.0975 - accuracy: 0.9648 - val_loss: 0.1005 - val_accuracy: 0.9561\n",
            "Epoch 100/200\n",
            "455/455 [==============================] - 0s 100us/sample - loss: 0.0990 - accuracy: 0.9626 - val_loss: 0.0998 - val_accuracy: 0.9605\n",
            "Epoch 101/200\n",
            "455/455 [==============================] - 0s 82us/sample - loss: 0.0986 - accuracy: 0.9626 - val_loss: 0.0987 - val_accuracy: 0.9649\n",
            "Epoch 102/200\n",
            "455/455 [==============================] - 0s 84us/sample - loss: 0.0983 - accuracy: 0.9626 - val_loss: 0.1020 - val_accuracy: 0.9561\n",
            "Epoch 103/200\n",
            "455/455 [==============================] - 0s 84us/sample - loss: 0.0982 - accuracy: 0.9626 - val_loss: 0.0981 - val_accuracy: 0.9737\n",
            "Epoch 104/200\n",
            "455/455 [==============================] - 0s 93us/sample - loss: 0.0977 - accuracy: 0.9626 - val_loss: 0.0995 - val_accuracy: 0.9649\n",
            "Epoch 105/200\n",
            "455/455 [==============================] - 0s 96us/sample - loss: 0.0977 - accuracy: 0.9582 - val_loss: 0.0964 - val_accuracy: 0.9649\n",
            "Epoch 106/200\n",
            "455/455 [==============================] - 0s 93us/sample - loss: 0.0996 - accuracy: 0.9692 - val_loss: 0.0951 - val_accuracy: 0.9649\n",
            "Epoch 107/200\n",
            "455/455 [==============================] - 0s 90us/sample - loss: 0.0953 - accuracy: 0.9626 - val_loss: 0.1030 - val_accuracy: 0.9561\n",
            "Epoch 108/200\n",
            "455/455 [==============================] - 0s 94us/sample - loss: 0.0984 - accuracy: 0.9604 - val_loss: 0.0966 - val_accuracy: 0.9649\n",
            "Epoch 109/200\n",
            "455/455 [==============================] - 0s 94us/sample - loss: 0.0947 - accuracy: 0.9604 - val_loss: 0.1017 - val_accuracy: 0.9649\n",
            "Epoch 110/200\n",
            "455/455 [==============================] - 0s 80us/sample - loss: 0.0951 - accuracy: 0.9648 - val_loss: 0.0945 - val_accuracy: 0.9649\n",
            "Epoch 111/200\n",
            "455/455 [==============================] - 0s 120us/sample - loss: 0.0953 - accuracy: 0.9648 - val_loss: 0.0984 - val_accuracy: 0.9649\n",
            "Epoch 112/200\n",
            "455/455 [==============================] - 0s 98us/sample - loss: 0.0934 - accuracy: 0.9670 - val_loss: 0.0963 - val_accuracy: 0.9649\n",
            "Epoch 113/200\n",
            "455/455 [==============================] - 0s 86us/sample - loss: 0.0935 - accuracy: 0.9648 - val_loss: 0.0966 - val_accuracy: 0.9649\n",
            "Epoch 114/200\n",
            "455/455 [==============================] - 0s 81us/sample - loss: 0.0927 - accuracy: 0.9626 - val_loss: 0.0982 - val_accuracy: 0.9649\n",
            "Epoch 115/200\n",
            "455/455 [==============================] - 0s 85us/sample - loss: 0.0937 - accuracy: 0.9615 - val_loss: 0.0958 - val_accuracy: 0.9649\n",
            "Epoch 116/200\n",
            "455/455 [==============================] - 0s 82us/sample - loss: 0.0940 - accuracy: 0.9648 - val_loss: 0.0944 - val_accuracy: 0.9649\n",
            "Epoch 117/200\n",
            "455/455 [==============================] - 0s 102us/sample - loss: 0.0926 - accuracy: 0.9626 - val_loss: 0.0957 - val_accuracy: 0.9649\n",
            "Epoch 118/200\n",
            "455/455 [==============================] - 0s 86us/sample - loss: 0.0907 - accuracy: 0.9670 - val_loss: 0.0919 - val_accuracy: 0.9649\n",
            "Epoch 119/200\n",
            "455/455 [==============================] - 0s 91us/sample - loss: 0.0920 - accuracy: 0.9670 - val_loss: 0.0933 - val_accuracy: 0.9649\n",
            "Epoch 120/200\n",
            "455/455 [==============================] - 0s 89us/sample - loss: 0.0923 - accuracy: 0.9626 - val_loss: 0.0927 - val_accuracy: 0.9649\n",
            "Epoch 121/200\n",
            "455/455 [==============================] - 0s 88us/sample - loss: 0.0925 - accuracy: 0.9670 - val_loss: 0.0911 - val_accuracy: 0.9649\n",
            "Epoch 122/200\n",
            "455/455 [==============================] - 0s 90us/sample - loss: 0.0914 - accuracy: 0.9637 - val_loss: 0.0989 - val_accuracy: 0.9605\n",
            "Epoch 123/200\n",
            "455/455 [==============================] - 0s 93us/sample - loss: 0.0912 - accuracy: 0.9604 - val_loss: 0.0892 - val_accuracy: 0.9649\n",
            "Epoch 124/200\n",
            "455/455 [==============================] - 0s 88us/sample - loss: 0.0916 - accuracy: 0.9659 - val_loss: 0.0997 - val_accuracy: 0.9649\n",
            "Epoch 125/200\n",
            "455/455 [==============================] - 0s 78us/sample - loss: 0.0911 - accuracy: 0.9648 - val_loss: 0.0945 - val_accuracy: 0.9649\n",
            "Epoch 126/200\n",
            "455/455 [==============================] - 0s 84us/sample - loss: 0.0922 - accuracy: 0.9692 - val_loss: 0.0913 - val_accuracy: 0.9649\n",
            "Epoch 127/200\n",
            "455/455 [==============================] - 0s 98us/sample - loss: 0.0930 - accuracy: 0.9604 - val_loss: 0.1013 - val_accuracy: 0.9561\n",
            "Epoch 128/200\n",
            "455/455 [==============================] - 0s 92us/sample - loss: 0.0897 - accuracy: 0.9670 - val_loss: 0.0923 - val_accuracy: 0.9649\n",
            "Epoch 129/200\n",
            "455/455 [==============================] - 0s 89us/sample - loss: 0.0912 - accuracy: 0.9648 - val_loss: 0.0984 - val_accuracy: 0.9649\n",
            "Epoch 130/200\n",
            "455/455 [==============================] - 0s 85us/sample - loss: 0.0892 - accuracy: 0.9670 - val_loss: 0.0924 - val_accuracy: 0.9649\n",
            "Epoch 131/200\n",
            "455/455 [==============================] - 0s 90us/sample - loss: 0.0883 - accuracy: 0.9648 - val_loss: 0.0984 - val_accuracy: 0.9649\n",
            "Epoch 132/200\n",
            "455/455 [==============================] - 0s 94us/sample - loss: 0.0879 - accuracy: 0.9648 - val_loss: 0.0917 - val_accuracy: 0.9649\n",
            "Epoch 133/200\n",
            "455/455 [==============================] - 0s 82us/sample - loss: 0.0882 - accuracy: 0.9648 - val_loss: 0.0926 - val_accuracy: 0.9649\n",
            "Epoch 134/200\n",
            "455/455 [==============================] - 0s 104us/sample - loss: 0.0867 - accuracy: 0.9659 - val_loss: 0.0918 - val_accuracy: 0.9649\n",
            "Epoch 135/200\n",
            "455/455 [==============================] - 0s 97us/sample - loss: 0.0870 - accuracy: 0.9670 - val_loss: 0.0944 - val_accuracy: 0.9649\n",
            "Epoch 136/200\n",
            "455/455 [==============================] - 0s 84us/sample - loss: 0.0901 - accuracy: 0.9692 - val_loss: 0.0971 - val_accuracy: 0.9649\n",
            "Epoch 137/200\n",
            "455/455 [==============================] - 0s 97us/sample - loss: 0.0878 - accuracy: 0.9670 - val_loss: 0.0903 - val_accuracy: 0.9649\n",
            "Epoch 138/200\n",
            "455/455 [==============================] - 0s 89us/sample - loss: 0.0878 - accuracy: 0.9648 - val_loss: 0.0888 - val_accuracy: 0.9649\n",
            "Epoch 139/200\n",
            "455/455 [==============================] - 0s 84us/sample - loss: 0.0876 - accuracy: 0.9626 - val_loss: 0.0897 - val_accuracy: 0.9649\n",
            "Epoch 140/200\n",
            "455/455 [==============================] - 0s 82us/sample - loss: 0.0855 - accuracy: 0.9626 - val_loss: 0.0879 - val_accuracy: 0.9649\n",
            "Epoch 141/200\n",
            "455/455 [==============================] - 0s 85us/sample - loss: 0.0861 - accuracy: 0.9626 - val_loss: 0.0926 - val_accuracy: 0.9649\n",
            "Epoch 142/200\n",
            "455/455 [==============================] - 0s 87us/sample - loss: 0.0851 - accuracy: 0.9670 - val_loss: 0.0934 - val_accuracy: 0.9649\n",
            "Epoch 143/200\n",
            "455/455 [==============================] - 0s 107us/sample - loss: 0.0863 - accuracy: 0.9648 - val_loss: 0.0913 - val_accuracy: 0.9649\n",
            "Epoch 144/200\n",
            "455/455 [==============================] - 0s 98us/sample - loss: 0.0865 - accuracy: 0.9648 - val_loss: 0.0926 - val_accuracy: 0.9649\n",
            "Epoch 145/200\n",
            "455/455 [==============================] - 0s 81us/sample - loss: 0.0840 - accuracy: 0.9648 - val_loss: 0.0947 - val_accuracy: 0.9737\n",
            "Epoch 146/200\n",
            "455/455 [==============================] - 0s 81us/sample - loss: 0.0863 - accuracy: 0.9692 - val_loss: 0.0912 - val_accuracy: 0.9649\n",
            "Epoch 147/200\n",
            "455/455 [==============================] - 0s 92us/sample - loss: 0.0855 - accuracy: 0.9681 - val_loss: 0.0917 - val_accuracy: 0.9649\n",
            "Epoch 148/200\n",
            "455/455 [==============================] - 0s 95us/sample - loss: 0.0843 - accuracy: 0.9681 - val_loss: 0.0966 - val_accuracy: 0.9737\n",
            "Epoch 149/200\n",
            "455/455 [==============================] - 0s 91us/sample - loss: 0.0872 - accuracy: 0.9670 - val_loss: 0.0908 - val_accuracy: 0.9649\n",
            "Epoch 150/200\n",
            "455/455 [==============================] - 0s 85us/sample - loss: 0.0828 - accuracy: 0.9670 - val_loss: 0.0953 - val_accuracy: 0.9737\n",
            "Epoch 151/200\n",
            "455/455 [==============================] - 0s 101us/sample - loss: 0.0839 - accuracy: 0.9670 - val_loss: 0.0909 - val_accuracy: 0.9649\n",
            "Epoch 152/200\n",
            "455/455 [==============================] - 0s 92us/sample - loss: 0.0849 - accuracy: 0.9648 - val_loss: 0.0949 - val_accuracy: 0.9737\n",
            "Epoch 153/200\n",
            "455/455 [==============================] - 0s 87us/sample - loss: 0.0837 - accuracy: 0.9692 - val_loss: 0.0879 - val_accuracy: 0.9649\n",
            "Epoch 154/200\n",
            "455/455 [==============================] - 0s 82us/sample - loss: 0.0875 - accuracy: 0.9648 - val_loss: 0.1111 - val_accuracy: 0.9649\n",
            "Epoch 155/200\n",
            "455/455 [==============================] - 0s 86us/sample - loss: 0.0842 - accuracy: 0.9670 - val_loss: 0.0918 - val_accuracy: 0.9649\n",
            "Epoch 156/200\n",
            "455/455 [==============================] - 0s 106us/sample - loss: 0.0873 - accuracy: 0.9736 - val_loss: 0.0976 - val_accuracy: 0.9737\n",
            "Epoch 157/200\n",
            "455/455 [==============================] - 0s 92us/sample - loss: 0.0921 - accuracy: 0.9626 - val_loss: 0.0942 - val_accuracy: 0.9737\n",
            "Epoch 158/200\n",
            "455/455 [==============================] - 0s 97us/sample - loss: 0.0889 - accuracy: 0.9714 - val_loss: 0.0871 - val_accuracy: 0.9649\n",
            "Epoch 159/200\n",
            "455/455 [==============================] - 0s 99us/sample - loss: 0.0829 - accuracy: 0.9725 - val_loss: 0.1009 - val_accuracy: 0.9649\n",
            "Epoch 160/200\n",
            "455/455 [==============================] - 0s 99us/sample - loss: 0.0857 - accuracy: 0.9659 - val_loss: 0.0905 - val_accuracy: 0.9737\n",
            "Epoch 161/200\n",
            "455/455 [==============================] - 0s 104us/sample - loss: 0.0820 - accuracy: 0.9692 - val_loss: 0.0990 - val_accuracy: 0.9649\n",
            "Epoch 162/200\n",
            "455/455 [==============================] - 0s 90us/sample - loss: 0.0826 - accuracy: 0.9736 - val_loss: 0.0863 - val_accuracy: 0.9737\n",
            "Epoch 163/200\n",
            "455/455 [==============================] - 0s 90us/sample - loss: 0.0807 - accuracy: 0.9670 - val_loss: 0.0951 - val_accuracy: 0.9649\n",
            "Epoch 164/200\n",
            "455/455 [==============================] - 0s 88us/sample - loss: 0.0822 - accuracy: 0.9648 - val_loss: 0.0901 - val_accuracy: 0.9737\n",
            "Epoch 165/200\n",
            "455/455 [==============================] - 0s 105us/sample - loss: 0.0803 - accuracy: 0.9692 - val_loss: 0.0969 - val_accuracy: 0.9737\n",
            "Epoch 166/200\n",
            "455/455 [==============================] - 0s 98us/sample - loss: 0.0799 - accuracy: 0.9692 - val_loss: 0.0920 - val_accuracy: 0.9649\n",
            "Epoch 167/200\n",
            "455/455 [==============================] - 0s 96us/sample - loss: 0.0817 - accuracy: 0.9670 - val_loss: 0.0926 - val_accuracy: 0.9649\n",
            "Epoch 168/200\n",
            "455/455 [==============================] - 0s 87us/sample - loss: 0.0812 - accuracy: 0.9681 - val_loss: 0.1056 - val_accuracy: 0.9649\n",
            "Epoch 169/200\n",
            "455/455 [==============================] - 0s 99us/sample - loss: 0.0796 - accuracy: 0.9670 - val_loss: 0.0898 - val_accuracy: 0.9737\n",
            "Epoch 170/200\n",
            "455/455 [==============================] - 0s 100us/sample - loss: 0.0805 - accuracy: 0.9648 - val_loss: 0.0929 - val_accuracy: 0.9737\n",
            "Epoch 171/200\n",
            "455/455 [==============================] - 0s 93us/sample - loss: 0.0842 - accuracy: 0.9659 - val_loss: 0.0941 - val_accuracy: 0.9649\n",
            "Epoch 172/200\n",
            "455/455 [==============================] - 0s 90us/sample - loss: 0.0827 - accuracy: 0.9714 - val_loss: 0.0938 - val_accuracy: 0.9737\n",
            "Epoch 173/200\n",
            "455/455 [==============================] - 0s 94us/sample - loss: 0.0821 - accuracy: 0.9670 - val_loss: 0.1025 - val_accuracy: 0.9737\n",
            "Epoch 174/200\n",
            "455/455 [==============================] - 0s 113us/sample - loss: 0.0794 - accuracy: 0.9714 - val_loss: 0.1000 - val_accuracy: 0.9737\n",
            "Epoch 175/200\n",
            "455/455 [==============================] - 0s 92us/sample - loss: 0.0777 - accuracy: 0.9692 - val_loss: 0.0911 - val_accuracy: 0.9737\n",
            "Epoch 176/200\n",
            "455/455 [==============================] - 0s 94us/sample - loss: 0.0802 - accuracy: 0.9670 - val_loss: 0.0942 - val_accuracy: 0.9737\n",
            "Epoch 177/200\n",
            "455/455 [==============================] - 0s 91us/sample - loss: 0.0797 - accuracy: 0.9692 - val_loss: 0.0981 - val_accuracy: 0.9737\n",
            "Epoch 178/200\n",
            "455/455 [==============================] - 0s 100us/sample - loss: 0.0772 - accuracy: 0.9692 - val_loss: 0.0927 - val_accuracy: 0.9737\n",
            "Epoch 179/200\n",
            "455/455 [==============================] - 0s 114us/sample - loss: 0.0805 - accuracy: 0.9692 - val_loss: 0.0985 - val_accuracy: 0.9737\n",
            "Epoch 180/200\n",
            "455/455 [==============================] - 0s 99us/sample - loss: 0.0806 - accuracy: 0.9681 - val_loss: 0.1005 - val_accuracy: 0.9737\n",
            "Epoch 181/200\n",
            "455/455 [==============================] - 0s 89us/sample - loss: 0.0849 - accuracy: 0.9626 - val_loss: 0.0990 - val_accuracy: 0.9737\n",
            "Epoch 182/200\n",
            "455/455 [==============================] - 0s 116us/sample - loss: 0.0806 - accuracy: 0.9714 - val_loss: 0.0956 - val_accuracy: 0.9649\n",
            "Epoch 183/200\n",
            "455/455 [==============================] - 0s 99us/sample - loss: 0.0766 - accuracy: 0.9714 - val_loss: 0.1123 - val_accuracy: 0.9561\n",
            "Epoch 184/200\n",
            "455/455 [==============================] - 0s 91us/sample - loss: 0.0789 - accuracy: 0.9692 - val_loss: 0.0943 - val_accuracy: 0.9737\n",
            "Epoch 185/200\n",
            "455/455 [==============================] - 0s 86us/sample - loss: 0.0784 - accuracy: 0.9714 - val_loss: 0.0995 - val_accuracy: 0.9737\n",
            "Epoch 186/200\n",
            "455/455 [==============================] - 0s 96us/sample - loss: 0.0794 - accuracy: 0.9714 - val_loss: 0.1004 - val_accuracy: 0.9649\n",
            "Epoch 187/200\n",
            "455/455 [==============================] - 0s 97us/sample - loss: 0.0783 - accuracy: 0.9758 - val_loss: 0.0946 - val_accuracy: 0.9737\n",
            "Epoch 188/200\n",
            "455/455 [==============================] - 0s 98us/sample - loss: 0.0821 - accuracy: 0.9670 - val_loss: 0.1052 - val_accuracy: 0.9649\n",
            "Epoch 189/200\n",
            "455/455 [==============================] - 0s 97us/sample - loss: 0.0767 - accuracy: 0.9736 - val_loss: 0.0968 - val_accuracy: 0.9737\n",
            "Epoch 190/200\n",
            "455/455 [==============================] - 0s 97us/sample - loss: 0.0773 - accuracy: 0.9736 - val_loss: 0.1052 - val_accuracy: 0.9649\n",
            "Epoch 191/200\n",
            "455/455 [==============================] - 0s 92us/sample - loss: 0.0768 - accuracy: 0.9736 - val_loss: 0.1023 - val_accuracy: 0.9737\n",
            "Epoch 192/200\n",
            "455/455 [==============================] - 0s 85us/sample - loss: 0.0762 - accuracy: 0.9714 - val_loss: 0.0994 - val_accuracy: 0.9737\n",
            "Epoch 193/200\n",
            "455/455 [==============================] - 0s 90us/sample - loss: 0.0770 - accuracy: 0.9736 - val_loss: 0.1070 - val_accuracy: 0.9561\n",
            "Epoch 194/200\n",
            "455/455 [==============================] - 0s 92us/sample - loss: 0.0766 - accuracy: 0.9725 - val_loss: 0.1034 - val_accuracy: 0.9561\n",
            "Epoch 195/200\n",
            "455/455 [==============================] - 0s 101us/sample - loss: 0.0761 - accuracy: 0.9714 - val_loss: 0.0972 - val_accuracy: 0.9737\n",
            "Epoch 196/200\n",
            "455/455 [==============================] - 0s 87us/sample - loss: 0.0767 - accuracy: 0.9714 - val_loss: 0.1082 - val_accuracy: 0.9561\n",
            "Epoch 197/200\n",
            "455/455 [==============================] - 0s 97us/sample - loss: 0.0778 - accuracy: 0.9758 - val_loss: 0.0950 - val_accuracy: 0.9737\n",
            "Epoch 198/200\n",
            "455/455 [==============================] - 0s 92us/sample - loss: 0.0759 - accuracy: 0.9758 - val_loss: 0.1106 - val_accuracy: 0.9561\n",
            "Epoch 199/200\n",
            "455/455 [==============================] - 0s 86us/sample - loss: 0.0745 - accuracy: 0.9714 - val_loss: 0.0949 - val_accuracy: 0.9737\n",
            "Epoch 200/200\n",
            "455/455 [==============================] - 0s 95us/sample - loss: 0.0803 - accuracy: 0.9714 - val_loss: 0.1088 - val_accuracy: 0.9561\n"
          ],
          "name": "stdout"
        }
      ]
    },
    {
      "cell_type": "markdown",
      "metadata": {
        "id": "ccJ-FDiAlJ5-"
      },
      "source": [
        "Report the accuracy of the test sample."
      ]
    },
    {
      "cell_type": "code",
      "metadata": {
        "id": "b-LeTBenlJ6A"
      },
      "source": [
        "scoredf = pd.DataFrame(his.history)\r\n",
        "#scoredf.head()"
      ],
      "execution_count": 18,
      "outputs": []
    },
    {
      "cell_type": "code",
      "metadata": {
        "id": "lS9eVCRAlJ5-",
        "colab": {
          "base_uri": "https://localhost:8080/"
        },
        "outputId": "00801d21-e82f-426e-9140-c422f0b9b62e"
      },
      "source": [
        "# Answer below:\n",
        "score = model.evaluate(xtest_scale, ytest_scale, verbose=0)\n",
        "print('Test loss     : ', score[0])\n",
        "print('Test accuracy : ', score[1])\n"
      ],
      "execution_count": 19,
      "outputs": [
        {
          "output_type": "stream",
          "text": [
            "Test loss     :  0.10877920412703564\n",
            "Test accuracy :  0.95614034\n"
          ],
          "name": "stdout"
        }
      ]
    },
    {
      "cell_type": "code",
      "metadata": {
        "colab": {
          "base_uri": "https://localhost:8080/"
        },
        "id": "c1qiGTfUZfLi",
        "outputId": "d84bc631-4dc4-4a89-86d3-6c553d9718ef"
      },
      "source": [
        "print('Avg. Test loss     : ', scoredf.val_loss.mean())\r\n",
        "print('Avg. Test accuracy : ', scoredf.val_accuracy.mean())\r\n"
      ],
      "execution_count": 20,
      "outputs": [
        {
          "output_type": "stream",
          "text": [
            "Avg. Test loss     :  0.13525318755327087\n",
            "Avg. Test accuracy :  0.9518640345335007\n"
          ],
          "name": "stdout"
        }
      ]
    }
  ]
}