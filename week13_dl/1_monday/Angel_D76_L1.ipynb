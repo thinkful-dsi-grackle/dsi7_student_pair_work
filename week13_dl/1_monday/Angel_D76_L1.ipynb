{
  "nbformat": 4,
  "nbformat_minor": 0,
  "metadata": {
    "kernelspec": {
      "display_name": "Python 3",
      "language": "python",
      "name": "python3"
    },
    "language_info": {
      "codemirror_mode": {
        "name": "ipython",
        "version": 3
      },
      "file_extension": ".py",
      "mimetype": "text/x-python",
      "name": "python",
      "nbconvert_exporter": "python",
      "pygments_lexer": "ipython3",
      "version": "3.7.0"
    },
    "colab": {
      "name": "Angel_D76_L1.ipynb",
      "provenance": [],
      "collapsed_sections": []
    }
  },
  "cells": [
    {
      "cell_type": "markdown",
      "metadata": {
        "id": "T-xOZ1mZ51O8"
      },
      "source": [
        "## Introduction to Deep Learning\n",
        "\n",
        "In this assignment, we will learn about deep learning and neural networks. Answer the questions below:"
      ]
    },
    {
      "cell_type": "markdown",
      "metadata": {
        "id": "TUBtirr_51O-"
      },
      "source": [
        "#### 1. How do neural networks differ from linear models?"
      ]
    },
    {
      "cell_type": "markdown",
      "metadata": {
        "id": "fGwHenMJ51O-"
      },
      "source": [
        "*They consist of the serial processing of the input, layer by layer while linear models consist of only one layer.*\n",
        "\n"
      ]
    },
    {
      "cell_type": "markdown",
      "metadata": {
        "id": "tJF-uwtC51O_"
      },
      "source": [
        "#### 2. Why do deep networks outperform shallow networks?"
      ]
    },
    {
      "cell_type": "markdown",
      "metadata": {
        "id": "JMwwlwBH51PA"
      },
      "source": [
        "1. *The layered structure of deep-learning models enables them to discover complex patterns, layer by layer. That's to say, in the first layer, the primitive patterns are discovered. In the second layer, more complex patterns that are the combinations of the previously discovered primitive patterns are discovered. Similarly, a subsequent layer discovers the useful combinations of the previous layer's discoveries, and so on.*\n",
        "2. Representation learning: deep-learning models are very successful at discovering useful features from complex data, such as image, video, and text\n",
        "\n"
      ]
    },
    {
      "cell_type": "markdown",
      "metadata": {
        "id": "8asF2DFW51PA"
      },
      "source": [
        "#### 3. Why are dense layers called this way? What is a different name for them? Could we have a layer that is not dense?"
      ]
    },
    {
      "cell_type": "markdown",
      "metadata": {
        "id": "05hZS0ea51PB"
      },
      "source": [
        "*Dense layers are called this way because all the nodes from the previous layer connect to the current layer-Fully Connected Layers. There can also be convulational or recurrent layers*\n",
        "\n"
      ]
    },
    {
      "cell_type": "markdown",
      "metadata": {
        "id": "FAPTWoY251PB"
      },
      "source": [
        "#### 4. Do neural networks tend to overfit less than other models? If so, how?"
      ]
    },
    {
      "cell_type": "markdown",
      "metadata": {
        "id": "IV-Jee5xjiuj"
      },
      "source": [
        "No, they actually tend to overfit due to their optimization"
      ]
    },
    {
      "cell_type": "markdown",
      "metadata": {
        "id": "S0CALsKQ51PE"
      },
      "source": [
        "#### 5. Will a model with more hidden layers always have a more accurate prediction? Why or why not?"
      ]
    },
    {
      "cell_type": "markdown",
      "metadata": {
        "id": "t3cghxSGNxC6"
      },
      "source": [
        "*Not neccessarily, adding more layers would increase the number of weights, and therefore the model complexity while not necessarilly adding any net positive outcomes. But we could simply be overfitting the model, rather an increasing the accuracy. An increase in accuracy would most likely be the result of more data.*\r\n",
        "\r\n"
      ]
    },
    {
      "cell_type": "markdown",
      "metadata": {
        "id": "2qxJk3Km51PG"
      },
      "source": [
        "#### 6. We generate a neural network for a dataset 10 features. If we have three layers, the first with 64 nodes and the second and third with 32 nodes, how many parameters do we need to estimate?"
      ]
    },
    {
      "cell_type": "code",
      "metadata": {
        "id": "kKbl9Xq251PH"
      },
      "source": [
        "def estimate_params(a, b, c, d):\n",
        "  first_layer = (a + 1) * b\n",
        "  second_layer = (b + 1) * c\n",
        "  third_layer = (c + 1) * d\n",
        "  print(sum([first_layer, second_layer, third_layer]))"
      ],
      "execution_count": 7,
      "outputs": []
    },
    {
      "cell_type": "code",
      "metadata": {
        "colab": {
          "base_uri": "https://localhost:8080/"
        },
        "id": "N3zSly5mlJcL",
        "outputId": "23e341bb-43c7-46c2-f60e-87574135ffba"
      },
      "source": [
        "estimate_params(10, 64, 32, 32)"
      ],
      "execution_count": 8,
      "outputs": [
        {
          "output_type": "stream",
          "text": [
            "3840\n"
          ],
          "name": "stdout"
        }
      ]
    }
  ]
}