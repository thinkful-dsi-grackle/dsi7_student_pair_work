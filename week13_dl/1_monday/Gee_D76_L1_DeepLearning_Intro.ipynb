{
  "nbformat": 4,
  "nbformat_minor": 0,
  "metadata": {
    "kernelspec": {
      "display_name": "Python 3",
      "language": "python",
      "name": "python3"
    },
    "language_info": {
      "codemirror_mode": {
        "name": "ipython",
        "version": 3
      },
      "file_extension": ".py",
      "mimetype": "text/x-python",
      "name": "python",
      "nbconvert_exporter": "python",
      "pygments_lexer": "ipython3",
      "version": "3.7.0"
    },
    "colab": {
      "name": "Gee_D76_L1_DeepLearning_Intro.ipynb",
      "provenance": [],
      "collapsed_sections": []
    }
  },
  "cells": [
    {
      "cell_type": "markdown",
      "metadata": {
        "id": "T-xOZ1mZ51O8"
      },
      "source": [
        "## Introduction to Deep Learning\n",
        "\n",
        "In this assignment, we will learn about deep learning and neural networks. Answer the questions below:"
      ]
    },
    {
      "cell_type": "markdown",
      "metadata": {
        "id": "TUBtirr_51O-"
      },
      "source": [
        "#### 1. How do neural networks differ from linear models?"
      ]
    },
    {
      "cell_type": "markdown",
      "metadata": {
        "id": "fGwHenMJ51O-"
      },
      "source": [
        "Linear models have two layers just an input to an output while neural networks have any number of additional hidden layers that look for hidden relationships within the data in that layer. Neural networks also need far more data in order to optimize performance. A NN is multiple linear models in one.\n"
      ]
    },
    {
      "cell_type": "markdown",
      "metadata": {
        "id": "tJF-uwtC51O_"
      },
      "source": [
        "#### 2. Why do deep networks outperform shallow networks?"
      ]
    },
    {
      "cell_type": "markdown",
      "metadata": {
        "id": "JMwwlwBH51PA"
      },
      "source": [
        "Additional layers allow for more relationships to be discerned from the data. The greater understanding of the relationships within the data the more powerful the model can become.  \n",
        "\n",
        "Deep networks can discover complex patterns where each layer discovers patterns based off the previous layer(s).\n",
        "\n"
      ]
    },
    {
      "cell_type": "markdown",
      "metadata": {
        "id": "8asF2DFW51PA"
      },
      "source": [
        "#### 3. Why are dense layers called this way? What is a different name for them? Could we have a layer that is not dense?"
      ]
    },
    {
      "cell_type": "markdown",
      "metadata": {
        "id": "05hZS0ea51PB"
      },
      "source": [
        "Dense layers are layers in which all the nodes from the previous layer are connected to all the nodes in the current layer. A different name is a fully connected layer.  Convoluted and recurrent layers are examples of less dense layers.\n",
        "\n"
      ]
    },
    {
      "cell_type": "markdown",
      "metadata": {
        "id": "FAPTWoY251PB"
      },
      "source": [
        "#### 4. Do neural networks tend to overfit less than other models? If so, how?"
      ]
    },
    {
      "cell_type": "markdown",
      "metadata": {
        "id": "EfrPY2VJYOM2"
      },
      "source": [
        "They do but every model has the potential to have issues with overfitting. They can be built to minimize overfitting by reducing the complexity of the layers. Perhaps reducing the density of the layers will reduce the noise associated with overfitting. Layers that contain batches of nodes as opposed to accessing all the nodes. They tend to overfit due to their optimzation objective. "
      ]
    },
    {
      "cell_type": "markdown",
      "metadata": {
        "id": "S0CALsKQ51PE"
      },
      "source": [
        "#### 5. Will a model with more hidden layers always have a more accurate prediction? Why or why not?"
      ]
    },
    {
      "cell_type": "markdown",
      "metadata": {
        "id": "JkFwcTaMSrDr"
      },
      "source": [
        "No, at some point all the maximum \"loss\" will be accounted for and the additional layers will not add to the predictive accuracy. "
      ]
    },
    {
      "cell_type": "markdown",
      "metadata": {
        "id": "2qxJk3Km51PG"
      },
      "source": [
        "#### 6. We generate a neural network for a dataset 10 features. If we have three layers, the first with 64 nodes and the second and third with 32 nodes, how many parameters do we need to estimate?"
      ]
    },
    {
      "cell_type": "code",
      "metadata": {
        "id": "kKbl9Xq251PH"
      },
      "source": [
        "layer1 = (10 + 1) * 64\n",
        "layer2 = (64 + 1) * 32\n",
        "layer3 = (32 + 1) * 32"
      ],
      "execution_count": null,
      "outputs": []
    },
    {
      "cell_type": "code",
      "metadata": {
        "id": "MXjnqJuicNWK",
        "colab": {
          "base_uri": "https://localhost:8080/"
        },
        "outputId": "886dea42-0bfe-4b17-a7da-ee70d790a05e"
      },
      "source": [
        "TotalParams = layer1+layer2+layer3\r\n",
        "TotalParams"
      ],
      "execution_count": null,
      "outputs": [
        {
          "output_type": "execute_result",
          "data": {
            "text/plain": [
              "3840"
            ]
          },
          "metadata": {
            "tags": []
          },
          "execution_count": 4
        }
      ]
    }
  ]
}