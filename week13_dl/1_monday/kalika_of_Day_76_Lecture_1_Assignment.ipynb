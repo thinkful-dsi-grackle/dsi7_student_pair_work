{
  "nbformat": 4,
  "nbformat_minor": 0,
  "metadata": {
    "kernelspec": {
      "display_name": "Python 3",
      "language": "python",
      "name": "python3"
    },
    "language_info": {
      "codemirror_mode": {
        "name": "ipython",
        "version": 3
      },
      "file_extension": ".py",
      "mimetype": "text/x-python",
      "name": "python",
      "nbconvert_exporter": "python",
      "pygments_lexer": "ipython3",
      "version": "3.7.0"
    },
    "colab": {
      "name": "kalika of Day 76 Lecture 1 Assignment.ipynb",
      "provenance": [],
      "collapsed_sections": []
    }
  },
  "cells": [
    {
      "cell_type": "markdown",
      "metadata": {
        "id": "T-xOZ1mZ51O8"
      },
      "source": [
        "## Introduction to Deep Learning\n",
        "\n",
        "In this assignment, we will learn about deep learning and neural networks. Answer the questions below:"
      ]
    },
    {
      "cell_type": "markdown",
      "metadata": {
        "id": "TUBtirr_51O-"
      },
      "source": [
        "#### 1. How do neural networks differ from linear models?"
      ]
    },
    {
      "cell_type": "markdown",
      "metadata": {
        "id": "fGwHenMJ51O-"
      },
      "source": [
        "They have more functions involved. Using these extra functions they are able to learn from the data. \n"
      ]
    },
    {
      "cell_type": "markdown",
      "metadata": {
        "id": "tJF-uwtC51O_"
      },
      "source": [
        "#### 2. Why do deep networks outperform shallow networks?"
      ]
    },
    {
      "cell_type": "markdown",
      "metadata": {
        "id": "JMwwlwBH51PA"
      },
      "source": [
        "The automated process of iterating through the data to learn from it and correct for it's errors. \n",
        "\n",
        "Similar to the random forest approach; the data is continually assessed and readdressed over a number of iterations that allows the model to adapt/adjust/correct it's errors. \n",
        "\n"
      ]
    },
    {
      "cell_type": "markdown",
      "metadata": {
        "id": "8asF2DFW51PA"
      },
      "source": [
        "#### 3. Why are dense layers called this way? What is a different name for them? Could we have a layer that is not dense?"
      ]
    },
    {
      "cell_type": "markdown",
      "metadata": {
        "id": "05hZS0ea51PB"
      },
      "source": [
        "They are called dense layers becaue they're fully connected. Another term for a dense layer is a fully connected layer. They consist of all the information from the previous layer. \n",
        "\n",
        "Yes we can have a layer that is not dense, in fact dense layers are explicitly called Dense in their declaration. "
      ]
    },
    {
      "cell_type": "markdown",
      "metadata": {
        "id": "FAPTWoY251PB"
      },
      "source": [
        "#### 4. Do neural networks tend to overfit less than other models? If so, how?"
      ]
    },
    {
      "cell_type": "code",
      "metadata": {
        "id": "-qxTVXyc51PC"
      },
      "source": [
        "Neural networks are also subject to overfitting training data. To reduce the overfitting problem, similar techniques are used such as splitting data, model optimization. \n",
        "One can also reduce overfitting by adjusting layers or adding/reducing iterations (epochs).\n",
        "\n"
      ],
      "execution_count": null,
      "outputs": []
    },
    {
      "cell_type": "markdown",
      "metadata": {
        "id": "S0CALsKQ51PE"
      },
      "source": [
        "#### 5. Will a model with more hidden layers always have a more accurate prediction? Why or why not?"
      ]
    },
    {
      "cell_type": "code",
      "metadata": {
        "id": "DzhstMjg51PF"
      },
      "source": [
        "No. Sometimes you will get the same prediction and sometimes there will be less of one. \n",
        "\n"
      ],
      "execution_count": null,
      "outputs": []
    },
    {
      "cell_type": "markdown",
      "metadata": {
        "id": "2qxJk3Km51PG"
      },
      "source": [
        "#### 6. We generate a neural network for a dataset 10 features. If we have three layers, the first with 64 nodes and the second and third with 32 nodes, how many parameters do we need to estimate?"
      ]
    },
    {
      "cell_type": "code",
      "metadata": {
        "id": "kKbl9Xq251PH",
        "colab": {
          "base_uri": "https://localhost:8080/"
        },
        "outputId": "a56b3d52-cd64-4694-a8a5-91352f3dd11d"
      },
      "source": [
        "(10+1) * 64 +(64 +1) * 32 + (32+1) * 32\n"
      ],
      "execution_count": null,
      "outputs": [
        {
          "output_type": "execute_result",
          "data": {
            "text/plain": [
              "3840"
            ]
          },
          "metadata": {
            "tags": []
          },
          "execution_count": 1
        }
      ]
    },
    {
      "cell_type": "code",
      "metadata": {
        "id": "dVMLuzP8IgJZ"
      },
      "source": [
        ""
      ],
      "execution_count": null,
      "outputs": []
    }
  ]
}