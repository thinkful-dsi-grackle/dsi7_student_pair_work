{
  "nbformat": 4,
  "nbformat_minor": 0,
  "metadata": {
    "kernelspec": {
      "display_name": "Python 3",
      "language": "python",
      "name": "python3"
    },
    "language_info": {
      "codemirror_mode": {
        "name": "ipython",
        "version": 3
      },
      "file_extension": ".py",
      "mimetype": "text/x-python",
      "name": "python",
      "nbconvert_exporter": "python",
      "pygments_lexer": "ipython3",
      "version": "3.7.0"
    },
    "colab": {
      "name": "Shontelle_Day76_L1_Intro_DL.ipynb",
      "provenance": [],
      "collapsed_sections": []
    }
  },
  "cells": [
    {
      "cell_type": "markdown",
      "metadata": {
        "id": "T-xOZ1mZ51O8"
      },
      "source": [
        "## Introduction to Deep Learning\n",
        "\n",
        "In this assignment, we will learn about deep learning and neural networks. Answer the questions below:"
      ]
    },
    {
      "cell_type": "markdown",
      "metadata": {
        "id": "TUBtirr_51O-"
      },
      "source": [
        "#### 1. How do neural networks differ from linear models?"
      ]
    },
    {
      "cell_type": "markdown",
      "metadata": {
        "id": "fGwHenMJ51O-"
      },
      "source": [
        "Neural networks have hidden layers between input layers and output layers. Allows for self-learning process over parallel models. \n",
        "\n",
        "*Basically made up of multiple linear models. Linear models = single nodes.* \n",
        "\n"
      ]
    },
    {
      "cell_type": "markdown",
      "metadata": {
        "id": "tJF-uwtC51O_"
      },
      "source": [
        "#### 2. Why do deep networks outperform shallow networks?"
      ]
    },
    {
      "cell_type": "markdown",
      "metadata": {
        "id": "JMwwlwBH51PA"
      },
      "source": [
        "Deep networks outperform shallow networks because of computational time and number of parameters. Many layers contain multiple non-linear transformations, which means that they are able to model more complex behavior. Deep-learning models are very successful at discovering useful features from complex data, such as image, video, and text. The magic of these models is their feature-engineering capabilities. One of the main advantages of deep learning is in the model’s ability to perform automated feature engineering. Shallow networks only have input and output layers with no iteration process. \n",
        "\n",
        "\n",
        "*Deep networks can discover complex patterns where each layer discovers patterns based off the previous layer(s).* Learning from mistakes = optimization *3Blue1Brown*\n",
        "\n"
      ]
    },
    {
      "cell_type": "markdown",
      "metadata": {
        "id": "8asF2DFW51PA"
      },
      "source": [
        "#### 3. Why are dense layers called this way? What is a different name for them? Could we have a layer that is not dense?"
      ]
    },
    {
      "cell_type": "markdown",
      "metadata": {
        "id": "05hZS0ea51PB"
      },
      "source": [
        "Dense layer is a **fully connected layer** (another name for them) used in the ANNs. This means that all nodes from the previous layer are connected to all nodes in the current layer.\n",
        "A dense layer consists of several neurons, and the number of neurons in a dense layer is a hyperparameter of the network that needs to be determined. A dense layer is a type of hidden layer in deep learning. Other types of layers in hidden layers are Convolutional and Recurrent. \n",
        "\n"
      ]
    },
    {
      "cell_type": "markdown",
      "metadata": {
        "id": "FAPTWoY251PB"
      },
      "source": [
        "#### 4. Do neural networks tend to overfit less than other models? If so, how?"
      ]
    },
    {
      "cell_type": "code",
      "metadata": {
        "id": "-qxTVXyc51PC"
      },
      "source": [
        "#neural networks tend to adapt to any data -- yes tend to overfitting -- \n",
        "#so you have to be aware of \"overtraining\"\n",
        "# which is when you have more than need hidden layers/neurons for the model. \n",
        "#trying to be as good as can for optimal output\n",
        "#can use regularization to prevent this\n",
        "\n",
        "#It depends on how many iterations and the activation function too. \n",
        "#Having too much epochs can cause underfitting while having less than ideal can cause overfitting."
      ],
      "execution_count": null,
      "outputs": []
    },
    {
      "cell_type": "markdown",
      "metadata": {
        "id": "S0CALsKQ51PE"
      },
      "source": [
        "#### 5. Will a model with more hidden layers always have a more accurate prediction? Why or why not?"
      ]
    },
    {
      "cell_type": "code",
      "metadata": {
        "id": "DzhstMjg51PF"
      },
      "source": [
        "#no\n",
        "#the goal is to minimize loss once that is accomplished then there is no need for more layers\n",
        "#sometimes that means more layers with few neurons and \n",
        "#sometimes means more neurons in a fewer layers. \n",
        "\n",
        "#just because adding more layers doesn't mean the model is still learning -- so some layers will be useless\n",
        "#there is an optimal number of layers"
      ],
      "execution_count": null,
      "outputs": []
    },
    {
      "cell_type": "markdown",
      "metadata": {
        "id": "2qxJk3Km51PG"
      },
      "source": [
        "#### 6. We generate a neural network for a dataset 10 features. If we have three layers, the first with 64 nodes and the second and third with 32 nodes, how many parameters do we need to estimate?"
      ]
    },
    {
      "cell_type": "code",
      "metadata": {
        "id": "kKbl9Xq251PH",
        "colab": {
          "base_uri": "https://localhost:8080/"
        },
        "outputId": "bce69873-3853-4bb6-d94a-910c14f40b71"
      },
      "source": [
        "#input = 10 features\n",
        "# 3 layers\n",
        "#   first = 64 nodes   (10+1) * 64\n",
        "#   second = 32       (64+1) * 32\n",
        "#   third = 32        (32+1) * 32\n",
        "\n",
        "one_layer = (10 + 1) * 64\n",
        "two_layer = (64 + 1) * 32\n",
        "three_layer = (32 + 1) * 32\n",
        "\n",
        "one_layer + two_layer + three_layer"
      ],
      "execution_count": null,
      "outputs": [
        {
          "output_type": "execute_result",
          "data": {
            "text/plain": [
              "3840"
            ]
          },
          "metadata": {
            "tags": []
          },
          "execution_count": 5
        }
      ]
    },
    {
      "cell_type": "code",
      "metadata": {
        "colab": {
          "base_uri": "https://localhost:8080/"
        },
        "id": "kNJy255SQC0L",
        "outputId": "976836aa-12ff-4a0b-ae14-fff2bba88fd5"
      },
      "source": [
        "64 + 64"
      ],
      "execution_count": null,
      "outputs": [
        {
          "output_type": "execute_result",
          "data": {
            "text/plain": [
              "128"
            ]
          },
          "metadata": {
            "tags": []
          },
          "execution_count": 6
        }
      ]
    },
    {
      "cell_type": "code",
      "metadata": {
        "id": "44mFN2uuQYD_"
      },
      "source": [
        ""
      ],
      "execution_count": null,
      "outputs": []
    }
  ]
}