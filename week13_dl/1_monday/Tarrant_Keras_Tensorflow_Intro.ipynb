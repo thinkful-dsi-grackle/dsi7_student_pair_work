{
  "nbformat": 4,
  "nbformat_minor": 0,
  "metadata": {
    "kernelspec": {
      "display_name": "Python 3",
      "language": "python",
      "name": "python3"
    },
    "language_info": {
      "codemirror_mode": {
        "name": "ipython",
        "version": 3
      },
      "file_extension": ".py",
      "mimetype": "text/x-python",
      "name": "python",
      "nbconvert_exporter": "python",
      "pygments_lexer": "ipython3",
      "version": "3.7.0"
    },
    "colab": {
      "name": "Tarrant_Keras_Tensorflow_Intro.ipynb",
      "provenance": [],
      "collapsed_sections": []
    }
  },
  "cells": [
    {
      "cell_type": "markdown",
      "metadata": {
        "id": "z95-VM4TlJ5g"
      },
      "source": [
        "## Keras and TensorFlow\n",
        "\n",
        "In this assignment, we will learn about Keras and TensorFlow. We will create a neural network and measure the model's performance."
      ]
    },
    {
      "cell_type": "code",
      "metadata": {
        "id": "3B-HR0FKlJ5i"
      },
      "source": [
        "import numpy as np\n",
        "import pandas as pd"
      ],
      "execution_count": 1,
      "outputs": []
    },
    {
      "cell_type": "code",
      "metadata": {
        "id": "s3XUEm8JlJ5l"
      },
      "source": [
        "cancer = pd.read_csv('https://tf-assets-prod.s3.amazonaws.com/tf-curric/data-science/breast_cancer.csv')"
      ],
      "execution_count": 2,
      "outputs": []
    },
    {
      "cell_type": "code",
      "metadata": {
        "id": "UlUp5jhulJ5n",
        "colab": {
          "base_uri": "https://localhost:8080/",
          "height": 241
        },
        "outputId": "26501acb-3598-47a3-a431-2a77d196129e"
      },
      "source": [
        "cancer.head()"
      ],
      "execution_count": 3,
      "outputs": [
        {
          "output_type": "execute_result",
          "data": {
            "text/html": [
              "<div>\n",
              "<style scoped>\n",
              "    .dataframe tbody tr th:only-of-type {\n",
              "        vertical-align: middle;\n",
              "    }\n",
              "\n",
              "    .dataframe tbody tr th {\n",
              "        vertical-align: top;\n",
              "    }\n",
              "\n",
              "    .dataframe thead th {\n",
              "        text-align: right;\n",
              "    }\n",
              "</style>\n",
              "<table border=\"1\" class=\"dataframe\">\n",
              "  <thead>\n",
              "    <tr style=\"text-align: right;\">\n",
              "      <th></th>\n",
              "      <th>id</th>\n",
              "      <th>diagnosis</th>\n",
              "      <th>radius_mean</th>\n",
              "      <th>texture_mean</th>\n",
              "      <th>perimeter_mean</th>\n",
              "      <th>area_mean</th>\n",
              "      <th>smoothness_mean</th>\n",
              "      <th>compactness_mean</th>\n",
              "      <th>concavity_mean</th>\n",
              "      <th>concave points_mean</th>\n",
              "      <th>symmetry_mean</th>\n",
              "      <th>fractal_dimension_mean</th>\n",
              "      <th>radius_se</th>\n",
              "      <th>texture_se</th>\n",
              "      <th>perimeter_se</th>\n",
              "      <th>area_se</th>\n",
              "      <th>smoothness_se</th>\n",
              "      <th>compactness_se</th>\n",
              "      <th>concavity_se</th>\n",
              "      <th>concave points_se</th>\n",
              "      <th>symmetry_se</th>\n",
              "      <th>fractal_dimension_se</th>\n",
              "      <th>radius_worst</th>\n",
              "      <th>texture_worst</th>\n",
              "      <th>perimeter_worst</th>\n",
              "      <th>area_worst</th>\n",
              "      <th>smoothness_worst</th>\n",
              "      <th>compactness_worst</th>\n",
              "      <th>concavity_worst</th>\n",
              "      <th>concave points_worst</th>\n",
              "      <th>symmetry_worst</th>\n",
              "      <th>fractal_dimension_worst</th>\n",
              "    </tr>\n",
              "  </thead>\n",
              "  <tbody>\n",
              "    <tr>\n",
              "      <th>0</th>\n",
              "      <td>842302</td>\n",
              "      <td>M</td>\n",
              "      <td>17.99</td>\n",
              "      <td>10.38</td>\n",
              "      <td>122.80</td>\n",
              "      <td>1001.0</td>\n",
              "      <td>0.11840</td>\n",
              "      <td>0.27760</td>\n",
              "      <td>0.3001</td>\n",
              "      <td>0.14710</td>\n",
              "      <td>0.2419</td>\n",
              "      <td>0.07871</td>\n",
              "      <td>1.0950</td>\n",
              "      <td>0.9053</td>\n",
              "      <td>8.589</td>\n",
              "      <td>153.40</td>\n",
              "      <td>0.006399</td>\n",
              "      <td>0.04904</td>\n",
              "      <td>0.05373</td>\n",
              "      <td>0.01587</td>\n",
              "      <td>0.03003</td>\n",
              "      <td>0.006193</td>\n",
              "      <td>25.38</td>\n",
              "      <td>17.33</td>\n",
              "      <td>184.60</td>\n",
              "      <td>2019.0</td>\n",
              "      <td>0.1622</td>\n",
              "      <td>0.6656</td>\n",
              "      <td>0.7119</td>\n",
              "      <td>0.2654</td>\n",
              "      <td>0.4601</td>\n",
              "      <td>0.11890</td>\n",
              "    </tr>\n",
              "    <tr>\n",
              "      <th>1</th>\n",
              "      <td>842517</td>\n",
              "      <td>M</td>\n",
              "      <td>20.57</td>\n",
              "      <td>17.77</td>\n",
              "      <td>132.90</td>\n",
              "      <td>1326.0</td>\n",
              "      <td>0.08474</td>\n",
              "      <td>0.07864</td>\n",
              "      <td>0.0869</td>\n",
              "      <td>0.07017</td>\n",
              "      <td>0.1812</td>\n",
              "      <td>0.05667</td>\n",
              "      <td>0.5435</td>\n",
              "      <td>0.7339</td>\n",
              "      <td>3.398</td>\n",
              "      <td>74.08</td>\n",
              "      <td>0.005225</td>\n",
              "      <td>0.01308</td>\n",
              "      <td>0.01860</td>\n",
              "      <td>0.01340</td>\n",
              "      <td>0.01389</td>\n",
              "      <td>0.003532</td>\n",
              "      <td>24.99</td>\n",
              "      <td>23.41</td>\n",
              "      <td>158.80</td>\n",
              "      <td>1956.0</td>\n",
              "      <td>0.1238</td>\n",
              "      <td>0.1866</td>\n",
              "      <td>0.2416</td>\n",
              "      <td>0.1860</td>\n",
              "      <td>0.2750</td>\n",
              "      <td>0.08902</td>\n",
              "    </tr>\n",
              "    <tr>\n",
              "      <th>2</th>\n",
              "      <td>84300903</td>\n",
              "      <td>M</td>\n",
              "      <td>19.69</td>\n",
              "      <td>21.25</td>\n",
              "      <td>130.00</td>\n",
              "      <td>1203.0</td>\n",
              "      <td>0.10960</td>\n",
              "      <td>0.15990</td>\n",
              "      <td>0.1974</td>\n",
              "      <td>0.12790</td>\n",
              "      <td>0.2069</td>\n",
              "      <td>0.05999</td>\n",
              "      <td>0.7456</td>\n",
              "      <td>0.7869</td>\n",
              "      <td>4.585</td>\n",
              "      <td>94.03</td>\n",
              "      <td>0.006150</td>\n",
              "      <td>0.04006</td>\n",
              "      <td>0.03832</td>\n",
              "      <td>0.02058</td>\n",
              "      <td>0.02250</td>\n",
              "      <td>0.004571</td>\n",
              "      <td>23.57</td>\n",
              "      <td>25.53</td>\n",
              "      <td>152.50</td>\n",
              "      <td>1709.0</td>\n",
              "      <td>0.1444</td>\n",
              "      <td>0.4245</td>\n",
              "      <td>0.4504</td>\n",
              "      <td>0.2430</td>\n",
              "      <td>0.3613</td>\n",
              "      <td>0.08758</td>\n",
              "    </tr>\n",
              "    <tr>\n",
              "      <th>3</th>\n",
              "      <td>84348301</td>\n",
              "      <td>M</td>\n",
              "      <td>11.42</td>\n",
              "      <td>20.38</td>\n",
              "      <td>77.58</td>\n",
              "      <td>386.1</td>\n",
              "      <td>0.14250</td>\n",
              "      <td>0.28390</td>\n",
              "      <td>0.2414</td>\n",
              "      <td>0.10520</td>\n",
              "      <td>0.2597</td>\n",
              "      <td>0.09744</td>\n",
              "      <td>0.4956</td>\n",
              "      <td>1.1560</td>\n",
              "      <td>3.445</td>\n",
              "      <td>27.23</td>\n",
              "      <td>0.009110</td>\n",
              "      <td>0.07458</td>\n",
              "      <td>0.05661</td>\n",
              "      <td>0.01867</td>\n",
              "      <td>0.05963</td>\n",
              "      <td>0.009208</td>\n",
              "      <td>14.91</td>\n",
              "      <td>26.50</td>\n",
              "      <td>98.87</td>\n",
              "      <td>567.7</td>\n",
              "      <td>0.2098</td>\n",
              "      <td>0.8663</td>\n",
              "      <td>0.6869</td>\n",
              "      <td>0.2575</td>\n",
              "      <td>0.6638</td>\n",
              "      <td>0.17300</td>\n",
              "    </tr>\n",
              "    <tr>\n",
              "      <th>4</th>\n",
              "      <td>84358402</td>\n",
              "      <td>M</td>\n",
              "      <td>20.29</td>\n",
              "      <td>14.34</td>\n",
              "      <td>135.10</td>\n",
              "      <td>1297.0</td>\n",
              "      <td>0.10030</td>\n",
              "      <td>0.13280</td>\n",
              "      <td>0.1980</td>\n",
              "      <td>0.10430</td>\n",
              "      <td>0.1809</td>\n",
              "      <td>0.05883</td>\n",
              "      <td>0.7572</td>\n",
              "      <td>0.7813</td>\n",
              "      <td>5.438</td>\n",
              "      <td>94.44</td>\n",
              "      <td>0.011490</td>\n",
              "      <td>0.02461</td>\n",
              "      <td>0.05688</td>\n",
              "      <td>0.01885</td>\n",
              "      <td>0.01756</td>\n",
              "      <td>0.005115</td>\n",
              "      <td>22.54</td>\n",
              "      <td>16.67</td>\n",
              "      <td>152.20</td>\n",
              "      <td>1575.0</td>\n",
              "      <td>0.1374</td>\n",
              "      <td>0.2050</td>\n",
              "      <td>0.4000</td>\n",
              "      <td>0.1625</td>\n",
              "      <td>0.2364</td>\n",
              "      <td>0.07678</td>\n",
              "    </tr>\n",
              "  </tbody>\n",
              "</table>\n",
              "</div>"
            ],
            "text/plain": [
              "         id diagnosis  ...  symmetry_worst  fractal_dimension_worst\n",
              "0    842302         M  ...          0.4601                  0.11890\n",
              "1    842517         M  ...          0.2750                  0.08902\n",
              "2  84300903         M  ...          0.3613                  0.08758\n",
              "3  84348301         M  ...          0.6638                  0.17300\n",
              "4  84358402         M  ...          0.2364                  0.07678\n",
              "\n",
              "[5 rows x 32 columns]"
            ]
          },
          "metadata": {
            "tags": []
          },
          "execution_count": 3
        }
      ]
    },
    {
      "cell_type": "markdown",
      "metadata": {
        "id": "wYZLhYV8lJ5q"
      },
      "source": [
        "We'll start with some data cleaning. First remove the id column since we have no use for it. Then check for missing data and remove all rows containing missing data."
      ]
    },
    {
      "cell_type": "code",
      "metadata": {
        "id": "Dc4wwsNOlJ5q",
        "colab": {
          "base_uri": "https://localhost:8080/"
        },
        "outputId": "d4f4aef8-183e-411c-83cb-17996d6c658d"
      },
      "source": [
        "# Answer below:\n",
        "cancer2 = cancer.drop('id',axis=1)\n",
        "\n",
        "cancer2.isnull().sum()\n"
      ],
      "execution_count": 4,
      "outputs": [
        {
          "output_type": "execute_result",
          "data": {
            "text/plain": [
              "diagnosis                  0\n",
              "radius_mean                0\n",
              "texture_mean               0\n",
              "perimeter_mean             0\n",
              "area_mean                  0\n",
              "smoothness_mean            0\n",
              "compactness_mean           0\n",
              "concavity_mean             0\n",
              "concave points_mean        0\n",
              "symmetry_mean              0\n",
              "fractal_dimension_mean     0\n",
              "radius_se                  0\n",
              "texture_se                 0\n",
              "perimeter_se               0\n",
              "area_se                    0\n",
              "smoothness_se              0\n",
              "compactness_se             0\n",
              "concavity_se               0\n",
              "concave points_se          0\n",
              "symmetry_se                0\n",
              "fractal_dimension_se       0\n",
              "radius_worst               0\n",
              "texture_worst              0\n",
              "perimeter_worst            0\n",
              "area_worst                 0\n",
              "smoothness_worst           0\n",
              "compactness_worst          0\n",
              "concavity_worst            0\n",
              "concave points_worst       0\n",
              "symmetry_worst             0\n",
              "fractal_dimension_worst    0\n",
              "dtype: int64"
            ]
          },
          "metadata": {
            "tags": []
          },
          "execution_count": 4
        }
      ]
    },
    {
      "cell_type": "markdown",
      "metadata": {
        "id": "vS4Ez5PblJ5s"
      },
      "source": [
        "The diagnosis columnn is our target variable. How many possible values are in this variable?"
      ]
    },
    {
      "cell_type": "code",
      "metadata": {
        "id": "z9Y8CrdblJ5t",
        "colab": {
          "base_uri": "https://localhost:8080/"
        },
        "outputId": "6a16fdad-116e-43b3-b6d7-73f7a37b011f"
      },
      "source": [
        "# Answer below:\n",
        "cancer2['diagnosis'].value_counts()\n"
      ],
      "execution_count": 5,
      "outputs": [
        {
          "output_type": "execute_result",
          "data": {
            "text/plain": [
              "B    357\n",
              "M    212\n",
              "Name: diagnosis, dtype: int64"
            ]
          },
          "metadata": {
            "tags": []
          },
          "execution_count": 5
        }
      ]
    },
    {
      "cell_type": "markdown",
      "metadata": {
        "id": "4HIxH-KzlJ5u"
      },
      "source": [
        "Create one or multiple dummy variables for this column and store this encoded data in a numpy array called `target`"
      ]
    },
    {
      "cell_type": "code",
      "metadata": {
        "id": "jcPTpi5glJ5v",
        "colab": {
          "base_uri": "https://localhost:8080/",
          "height": 241
        },
        "outputId": "4649c5ff-efae-4193-da05-1ddfe1ccbc8c"
      },
      "source": [
        "# Answer below:\n",
        "cancer3 = pd.get_dummies(data=cancer2,columns=['diagnosis'], drop_first=True)\n",
        "\n",
        "cancer3.head()"
      ],
      "execution_count": 6,
      "outputs": [
        {
          "output_type": "execute_result",
          "data": {
            "text/html": [
              "<div>\n",
              "<style scoped>\n",
              "    .dataframe tbody tr th:only-of-type {\n",
              "        vertical-align: middle;\n",
              "    }\n",
              "\n",
              "    .dataframe tbody tr th {\n",
              "        vertical-align: top;\n",
              "    }\n",
              "\n",
              "    .dataframe thead th {\n",
              "        text-align: right;\n",
              "    }\n",
              "</style>\n",
              "<table border=\"1\" class=\"dataframe\">\n",
              "  <thead>\n",
              "    <tr style=\"text-align: right;\">\n",
              "      <th></th>\n",
              "      <th>radius_mean</th>\n",
              "      <th>texture_mean</th>\n",
              "      <th>perimeter_mean</th>\n",
              "      <th>area_mean</th>\n",
              "      <th>smoothness_mean</th>\n",
              "      <th>compactness_mean</th>\n",
              "      <th>concavity_mean</th>\n",
              "      <th>concave points_mean</th>\n",
              "      <th>symmetry_mean</th>\n",
              "      <th>fractal_dimension_mean</th>\n",
              "      <th>radius_se</th>\n",
              "      <th>texture_se</th>\n",
              "      <th>perimeter_se</th>\n",
              "      <th>area_se</th>\n",
              "      <th>smoothness_se</th>\n",
              "      <th>compactness_se</th>\n",
              "      <th>concavity_se</th>\n",
              "      <th>concave points_se</th>\n",
              "      <th>symmetry_se</th>\n",
              "      <th>fractal_dimension_se</th>\n",
              "      <th>radius_worst</th>\n",
              "      <th>texture_worst</th>\n",
              "      <th>perimeter_worst</th>\n",
              "      <th>area_worst</th>\n",
              "      <th>smoothness_worst</th>\n",
              "      <th>compactness_worst</th>\n",
              "      <th>concavity_worst</th>\n",
              "      <th>concave points_worst</th>\n",
              "      <th>symmetry_worst</th>\n",
              "      <th>fractal_dimension_worst</th>\n",
              "      <th>diagnosis_M</th>\n",
              "    </tr>\n",
              "  </thead>\n",
              "  <tbody>\n",
              "    <tr>\n",
              "      <th>0</th>\n",
              "      <td>17.99</td>\n",
              "      <td>10.38</td>\n",
              "      <td>122.80</td>\n",
              "      <td>1001.0</td>\n",
              "      <td>0.11840</td>\n",
              "      <td>0.27760</td>\n",
              "      <td>0.3001</td>\n",
              "      <td>0.14710</td>\n",
              "      <td>0.2419</td>\n",
              "      <td>0.07871</td>\n",
              "      <td>1.0950</td>\n",
              "      <td>0.9053</td>\n",
              "      <td>8.589</td>\n",
              "      <td>153.40</td>\n",
              "      <td>0.006399</td>\n",
              "      <td>0.04904</td>\n",
              "      <td>0.05373</td>\n",
              "      <td>0.01587</td>\n",
              "      <td>0.03003</td>\n",
              "      <td>0.006193</td>\n",
              "      <td>25.38</td>\n",
              "      <td>17.33</td>\n",
              "      <td>184.60</td>\n",
              "      <td>2019.0</td>\n",
              "      <td>0.1622</td>\n",
              "      <td>0.6656</td>\n",
              "      <td>0.7119</td>\n",
              "      <td>0.2654</td>\n",
              "      <td>0.4601</td>\n",
              "      <td>0.11890</td>\n",
              "      <td>1</td>\n",
              "    </tr>\n",
              "    <tr>\n",
              "      <th>1</th>\n",
              "      <td>20.57</td>\n",
              "      <td>17.77</td>\n",
              "      <td>132.90</td>\n",
              "      <td>1326.0</td>\n",
              "      <td>0.08474</td>\n",
              "      <td>0.07864</td>\n",
              "      <td>0.0869</td>\n",
              "      <td>0.07017</td>\n",
              "      <td>0.1812</td>\n",
              "      <td>0.05667</td>\n",
              "      <td>0.5435</td>\n",
              "      <td>0.7339</td>\n",
              "      <td>3.398</td>\n",
              "      <td>74.08</td>\n",
              "      <td>0.005225</td>\n",
              "      <td>0.01308</td>\n",
              "      <td>0.01860</td>\n",
              "      <td>0.01340</td>\n",
              "      <td>0.01389</td>\n",
              "      <td>0.003532</td>\n",
              "      <td>24.99</td>\n",
              "      <td>23.41</td>\n",
              "      <td>158.80</td>\n",
              "      <td>1956.0</td>\n",
              "      <td>0.1238</td>\n",
              "      <td>0.1866</td>\n",
              "      <td>0.2416</td>\n",
              "      <td>0.1860</td>\n",
              "      <td>0.2750</td>\n",
              "      <td>0.08902</td>\n",
              "      <td>1</td>\n",
              "    </tr>\n",
              "    <tr>\n",
              "      <th>2</th>\n",
              "      <td>19.69</td>\n",
              "      <td>21.25</td>\n",
              "      <td>130.00</td>\n",
              "      <td>1203.0</td>\n",
              "      <td>0.10960</td>\n",
              "      <td>0.15990</td>\n",
              "      <td>0.1974</td>\n",
              "      <td>0.12790</td>\n",
              "      <td>0.2069</td>\n",
              "      <td>0.05999</td>\n",
              "      <td>0.7456</td>\n",
              "      <td>0.7869</td>\n",
              "      <td>4.585</td>\n",
              "      <td>94.03</td>\n",
              "      <td>0.006150</td>\n",
              "      <td>0.04006</td>\n",
              "      <td>0.03832</td>\n",
              "      <td>0.02058</td>\n",
              "      <td>0.02250</td>\n",
              "      <td>0.004571</td>\n",
              "      <td>23.57</td>\n",
              "      <td>25.53</td>\n",
              "      <td>152.50</td>\n",
              "      <td>1709.0</td>\n",
              "      <td>0.1444</td>\n",
              "      <td>0.4245</td>\n",
              "      <td>0.4504</td>\n",
              "      <td>0.2430</td>\n",
              "      <td>0.3613</td>\n",
              "      <td>0.08758</td>\n",
              "      <td>1</td>\n",
              "    </tr>\n",
              "    <tr>\n",
              "      <th>3</th>\n",
              "      <td>11.42</td>\n",
              "      <td>20.38</td>\n",
              "      <td>77.58</td>\n",
              "      <td>386.1</td>\n",
              "      <td>0.14250</td>\n",
              "      <td>0.28390</td>\n",
              "      <td>0.2414</td>\n",
              "      <td>0.10520</td>\n",
              "      <td>0.2597</td>\n",
              "      <td>0.09744</td>\n",
              "      <td>0.4956</td>\n",
              "      <td>1.1560</td>\n",
              "      <td>3.445</td>\n",
              "      <td>27.23</td>\n",
              "      <td>0.009110</td>\n",
              "      <td>0.07458</td>\n",
              "      <td>0.05661</td>\n",
              "      <td>0.01867</td>\n",
              "      <td>0.05963</td>\n",
              "      <td>0.009208</td>\n",
              "      <td>14.91</td>\n",
              "      <td>26.50</td>\n",
              "      <td>98.87</td>\n",
              "      <td>567.7</td>\n",
              "      <td>0.2098</td>\n",
              "      <td>0.8663</td>\n",
              "      <td>0.6869</td>\n",
              "      <td>0.2575</td>\n",
              "      <td>0.6638</td>\n",
              "      <td>0.17300</td>\n",
              "      <td>1</td>\n",
              "    </tr>\n",
              "    <tr>\n",
              "      <th>4</th>\n",
              "      <td>20.29</td>\n",
              "      <td>14.34</td>\n",
              "      <td>135.10</td>\n",
              "      <td>1297.0</td>\n",
              "      <td>0.10030</td>\n",
              "      <td>0.13280</td>\n",
              "      <td>0.1980</td>\n",
              "      <td>0.10430</td>\n",
              "      <td>0.1809</td>\n",
              "      <td>0.05883</td>\n",
              "      <td>0.7572</td>\n",
              "      <td>0.7813</td>\n",
              "      <td>5.438</td>\n",
              "      <td>94.44</td>\n",
              "      <td>0.011490</td>\n",
              "      <td>0.02461</td>\n",
              "      <td>0.05688</td>\n",
              "      <td>0.01885</td>\n",
              "      <td>0.01756</td>\n",
              "      <td>0.005115</td>\n",
              "      <td>22.54</td>\n",
              "      <td>16.67</td>\n",
              "      <td>152.20</td>\n",
              "      <td>1575.0</td>\n",
              "      <td>0.1374</td>\n",
              "      <td>0.2050</td>\n",
              "      <td>0.4000</td>\n",
              "      <td>0.1625</td>\n",
              "      <td>0.2364</td>\n",
              "      <td>0.07678</td>\n",
              "      <td>1</td>\n",
              "    </tr>\n",
              "  </tbody>\n",
              "</table>\n",
              "</div>"
            ],
            "text/plain": [
              "   radius_mean  texture_mean  ...  fractal_dimension_worst  diagnosis_M\n",
              "0        17.99         10.38  ...                  0.11890            1\n",
              "1        20.57         17.77  ...                  0.08902            1\n",
              "2        19.69         21.25  ...                  0.08758            1\n",
              "3        11.42         20.38  ...                  0.17300            1\n",
              "4        20.29         14.34  ...                  0.07678            1\n",
              "\n",
              "[5 rows x 31 columns]"
            ]
          },
          "metadata": {
            "tags": []
          },
          "execution_count": 6
        }
      ]
    },
    {
      "cell_type": "code",
      "metadata": {
        "colab": {
          "base_uri": "https://localhost:8080/"
        },
        "id": "P7bIbFAPrv-j",
        "outputId": "d14bc6d2-8933-473a-f9b6-7ec8695e0456"
      },
      "source": [
        "target_df = cancer3['diagnosis_M']\n",
        "target_df"
      ],
      "execution_count": 7,
      "outputs": [
        {
          "output_type": "execute_result",
          "data": {
            "text/plain": [
              "0      1\n",
              "1      1\n",
              "2      1\n",
              "3      1\n",
              "4      1\n",
              "      ..\n",
              "564    1\n",
              "565    1\n",
              "566    1\n",
              "567    1\n",
              "568    0\n",
              "Name: diagnosis_M, Length: 569, dtype: uint8"
            ]
          },
          "metadata": {
            "tags": []
          },
          "execution_count": 7
        }
      ]
    },
    {
      "cell_type": "code",
      "metadata": {
        "colab": {
          "base_uri": "https://localhost:8080/"
        },
        "id": "NuppUR3FpJIF",
        "outputId": "bc10a2b2-e0f5-42b5-f159-2bb16bd03d76"
      },
      "source": [
        "target = np.array(cancer3['diagnosis_M'])\n",
        "target"
      ],
      "execution_count": 8,
      "outputs": [
        {
          "output_type": "execute_result",
          "data": {
            "text/plain": [
              "array([1, 1, 1, 1, 1, 1, 1, 1, 1, 1, 1, 1, 1, 1, 1, 1, 1, 1, 1, 0, 0, 0,\n",
              "       1, 1, 1, 1, 1, 1, 1, 1, 1, 1, 1, 1, 1, 1, 1, 0, 1, 1, 1, 1, 1, 1,\n",
              "       1, 1, 0, 1, 0, 0, 0, 0, 0, 1, 1, 0, 1, 1, 0, 0, 0, 0, 1, 0, 1, 1,\n",
              "       0, 0, 0, 0, 1, 0, 1, 1, 0, 1, 0, 1, 1, 0, 0, 0, 1, 1, 0, 1, 1, 1,\n",
              "       0, 0, 0, 1, 0, 0, 1, 1, 0, 0, 0, 1, 1, 0, 0, 0, 0, 1, 0, 0, 1, 0,\n",
              "       0, 0, 0, 0, 0, 0, 0, 1, 1, 1, 0, 1, 1, 0, 0, 0, 1, 1, 0, 1, 0, 1,\n",
              "       1, 0, 1, 1, 0, 0, 1, 0, 0, 1, 0, 0, 0, 0, 1, 0, 0, 0, 0, 0, 0, 0,\n",
              "       0, 0, 1, 0, 0, 0, 0, 1, 1, 0, 1, 0, 0, 1, 1, 0, 0, 1, 1, 0, 0, 0,\n",
              "       0, 1, 0, 0, 1, 1, 1, 0, 1, 0, 1, 0, 0, 0, 1, 0, 0, 1, 1, 0, 1, 1,\n",
              "       1, 1, 0, 1, 1, 1, 0, 1, 0, 1, 0, 0, 1, 0, 1, 1, 1, 1, 0, 0, 1, 1,\n",
              "       0, 0, 0, 1, 0, 0, 0, 0, 0, 1, 1, 0, 0, 1, 0, 0, 1, 1, 0, 1, 0, 0,\n",
              "       0, 0, 1, 0, 0, 0, 0, 0, 1, 0, 1, 1, 1, 1, 1, 1, 1, 1, 1, 1, 1, 1,\n",
              "       1, 1, 0, 0, 0, 0, 0, 0, 1, 0, 1, 0, 0, 1, 0, 0, 1, 0, 1, 1, 0, 0,\n",
              "       0, 0, 0, 0, 0, 0, 0, 0, 0, 0, 0, 1, 0, 0, 1, 0, 1, 0, 0, 0, 0, 0,\n",
              "       0, 0, 0, 0, 0, 0, 0, 0, 0, 1, 0, 0, 0, 1, 0, 1, 0, 0, 0, 0, 1, 1,\n",
              "       1, 0, 0, 0, 0, 1, 0, 1, 0, 1, 0, 0, 0, 1, 0, 0, 0, 0, 0, 0, 0, 1,\n",
              "       1, 1, 0, 0, 0, 0, 0, 0, 0, 0, 0, 0, 0, 1, 1, 0, 1, 1, 1, 0, 1, 1,\n",
              "       0, 0, 0, 0, 0, 1, 0, 0, 0, 0, 0, 1, 0, 0, 0, 1, 0, 0, 1, 1, 0, 0,\n",
              "       0, 0, 0, 0, 1, 0, 0, 0, 0, 0, 0, 0, 1, 0, 0, 0, 0, 0, 1, 0, 0, 1,\n",
              "       0, 0, 0, 0, 0, 0, 0, 0, 0, 0, 0, 0, 1, 0, 1, 1, 0, 1, 0, 0, 0, 0,\n",
              "       0, 1, 0, 0, 1, 0, 1, 0, 0, 1, 0, 1, 0, 0, 0, 0, 0, 0, 0, 0, 1, 1,\n",
              "       0, 0, 0, 0, 0, 0, 1, 0, 0, 0, 0, 0, 0, 0, 0, 0, 0, 1, 0, 0, 0, 0,\n",
              "       0, 0, 0, 1, 0, 1, 0, 0, 1, 0, 0, 0, 0, 0, 1, 1, 0, 1, 0, 1, 0, 0,\n",
              "       0, 0, 0, 1, 0, 0, 1, 0, 1, 0, 1, 1, 0, 0, 0, 1, 0, 0, 0, 0, 0, 0,\n",
              "       0, 0, 0, 0, 0, 1, 0, 1, 1, 0, 0, 0, 0, 0, 0, 0, 0, 0, 0, 0, 0, 0,\n",
              "       0, 0, 0, 0, 0, 0, 0, 0, 0, 0, 0, 0, 1, 1, 1, 1, 1, 1, 0],\n",
              "      dtype=uint8)"
            ]
          },
          "metadata": {
            "tags": []
          },
          "execution_count": 8
        }
      ]
    },
    {
      "cell_type": "markdown",
      "metadata": {
        "id": "nTeGX95alJ5x"
      },
      "source": [
        "When looking at the columm names, you may have noticed that for each attribute we have a mean of the attribute, a standard error, and a worst value. Let's create a list of column names for only the means columns. Use this list to create a new dataframe containing only the means columns."
      ]
    },
    {
      "cell_type": "code",
      "metadata": {
        "id": "bPO8gG35lJ5x",
        "colab": {
          "base_uri": "https://localhost:8080/",
          "height": 241
        },
        "outputId": "79babe10-de59-4ece-87db-0b793589a434"
      },
      "source": [
        "# Answer below:\n",
        "cancer4 = cancer3.filter(like='mean', axis=1)\n",
        "cancer4.head()"
      ],
      "execution_count": 9,
      "outputs": [
        {
          "output_type": "execute_result",
          "data": {
            "text/html": [
              "<div>\n",
              "<style scoped>\n",
              "    .dataframe tbody tr th:only-of-type {\n",
              "        vertical-align: middle;\n",
              "    }\n",
              "\n",
              "    .dataframe tbody tr th {\n",
              "        vertical-align: top;\n",
              "    }\n",
              "\n",
              "    .dataframe thead th {\n",
              "        text-align: right;\n",
              "    }\n",
              "</style>\n",
              "<table border=\"1\" class=\"dataframe\">\n",
              "  <thead>\n",
              "    <tr style=\"text-align: right;\">\n",
              "      <th></th>\n",
              "      <th>radius_mean</th>\n",
              "      <th>texture_mean</th>\n",
              "      <th>perimeter_mean</th>\n",
              "      <th>area_mean</th>\n",
              "      <th>smoothness_mean</th>\n",
              "      <th>compactness_mean</th>\n",
              "      <th>concavity_mean</th>\n",
              "      <th>concave points_mean</th>\n",
              "      <th>symmetry_mean</th>\n",
              "      <th>fractal_dimension_mean</th>\n",
              "    </tr>\n",
              "  </thead>\n",
              "  <tbody>\n",
              "    <tr>\n",
              "      <th>0</th>\n",
              "      <td>17.99</td>\n",
              "      <td>10.38</td>\n",
              "      <td>122.80</td>\n",
              "      <td>1001.0</td>\n",
              "      <td>0.11840</td>\n",
              "      <td>0.27760</td>\n",
              "      <td>0.3001</td>\n",
              "      <td>0.14710</td>\n",
              "      <td>0.2419</td>\n",
              "      <td>0.07871</td>\n",
              "    </tr>\n",
              "    <tr>\n",
              "      <th>1</th>\n",
              "      <td>20.57</td>\n",
              "      <td>17.77</td>\n",
              "      <td>132.90</td>\n",
              "      <td>1326.0</td>\n",
              "      <td>0.08474</td>\n",
              "      <td>0.07864</td>\n",
              "      <td>0.0869</td>\n",
              "      <td>0.07017</td>\n",
              "      <td>0.1812</td>\n",
              "      <td>0.05667</td>\n",
              "    </tr>\n",
              "    <tr>\n",
              "      <th>2</th>\n",
              "      <td>19.69</td>\n",
              "      <td>21.25</td>\n",
              "      <td>130.00</td>\n",
              "      <td>1203.0</td>\n",
              "      <td>0.10960</td>\n",
              "      <td>0.15990</td>\n",
              "      <td>0.1974</td>\n",
              "      <td>0.12790</td>\n",
              "      <td>0.2069</td>\n",
              "      <td>0.05999</td>\n",
              "    </tr>\n",
              "    <tr>\n",
              "      <th>3</th>\n",
              "      <td>11.42</td>\n",
              "      <td>20.38</td>\n",
              "      <td>77.58</td>\n",
              "      <td>386.1</td>\n",
              "      <td>0.14250</td>\n",
              "      <td>0.28390</td>\n",
              "      <td>0.2414</td>\n",
              "      <td>0.10520</td>\n",
              "      <td>0.2597</td>\n",
              "      <td>0.09744</td>\n",
              "    </tr>\n",
              "    <tr>\n",
              "      <th>4</th>\n",
              "      <td>20.29</td>\n",
              "      <td>14.34</td>\n",
              "      <td>135.10</td>\n",
              "      <td>1297.0</td>\n",
              "      <td>0.10030</td>\n",
              "      <td>0.13280</td>\n",
              "      <td>0.1980</td>\n",
              "      <td>0.10430</td>\n",
              "      <td>0.1809</td>\n",
              "      <td>0.05883</td>\n",
              "    </tr>\n",
              "  </tbody>\n",
              "</table>\n",
              "</div>"
            ],
            "text/plain": [
              "   radius_mean  texture_mean  ...  symmetry_mean  fractal_dimension_mean\n",
              "0        17.99         10.38  ...         0.2419                 0.07871\n",
              "1        20.57         17.77  ...         0.1812                 0.05667\n",
              "2        19.69         21.25  ...         0.2069                 0.05999\n",
              "3        11.42         20.38  ...         0.2597                 0.09744\n",
              "4        20.29         14.34  ...         0.1809                 0.05883\n",
              "\n",
              "[5 rows x 10 columns]"
            ]
          },
          "metadata": {
            "tags": []
          },
          "execution_count": 9
        }
      ]
    },
    {
      "cell_type": "markdown",
      "metadata": {
        "id": "oBuO5BOIlJ51"
      },
      "source": [
        "Split the data into train and test samples. The test sample should contain 20% of the data."
      ]
    },
    {
      "cell_type": "code",
      "metadata": {
        "id": "mv0hKnzklJ51"
      },
      "source": [
        "# Answer below\n",
        "from sklearn.model_selection import train_test_split\n",
        "\n",
        "X = cancer4\n",
        "y = target\n",
        "\n",
        "X_train, X_test, y_train, y_test = train_test_split(X, y, test_size=0.2)\n"
      ],
      "execution_count": 10,
      "outputs": []
    },
    {
      "cell_type": "markdown",
      "metadata": {
        "id": "h0X26vkklJ5z"
      },
      "source": [
        "Now we'll use the minmax scaler to ensure that all columns have values between zero and 1. Apply this transformations for all columns to be used in the prediction."
      ]
    },
    {
      "cell_type": "code",
      "metadata": {
        "id": "febZFy_tlJ5z"
      },
      "source": [
        "# Answer below:\n",
        "from sklearn.preprocessing import MinMaxScaler\n",
        "\n",
        "scale = MinMaxScaler()\n",
        "\n",
        "X_train_scale = scale.fit_transform(X_train)\n",
        "X_test_scale = scale.transform(X_test)\n"
      ],
      "execution_count": 11,
      "outputs": []
    },
    {
      "cell_type": "code",
      "metadata": {
        "colab": {
          "base_uri": "https://localhost:8080/"
        },
        "id": "N-Kc7zyvx7_u",
        "outputId": "c3e11350-2e9a-4c98-86aa-60aa7532b746"
      },
      "source": [
        "X_train_scale.shape"
      ],
      "execution_count": 12,
      "outputs": [
        {
          "output_type": "execute_result",
          "data": {
            "text/plain": [
              "(455, 10)"
            ]
          },
          "metadata": {
            "tags": []
          },
          "execution_count": 12
        }
      ]
    },
    {
      "cell_type": "markdown",
      "metadata": {
        "id": "Z4gNH9_slJ53"
      },
      "source": [
        "Now we can proceed with our model. In the cell below, import the `Sequential`, and `Dense` functions."
      ]
    },
    {
      "cell_type": "code",
      "metadata": {
        "id": "0EFVNpW3lJ53"
      },
      "source": [
        "# Answer below:\n",
        "from tensorflow.keras.models import Sequential\n",
        "from tensorflow.keras.layers import Dense"
      ],
      "execution_count": 13,
      "outputs": []
    },
    {
      "cell_type": "markdown",
      "metadata": {
        "id": "AhrP-ICtlJ55"
      },
      "source": [
        "create a model that takes the training data and predicts the target variable. The model will have 3 layers. The input layer should be of unit size 12 and the hidden layer will be of size 10. The output layer size will be determined by the size of the target variable. Use the sigmoid activation function for the last layer"
      ]
    },
    {
      "cell_type": "code",
      "metadata": {
        "id": "ni5BKZqYlJ55"
      },
      "source": [
        "# Answer below\n",
        "model = Sequential()\n",
        "#first layer\n",
        "model.add(Dense(12, input_dim=X_train_scale.shape[1] ,activation='relu'))\n",
        "#second layer\n",
        "model.add(Dense(10 ,activation='relu'))\n",
        "#third layer/output layer\n",
        "model.add(Dense(1 ,activation='sigmoid'))"
      ],
      "execution_count": 14,
      "outputs": []
    },
    {
      "cell_type": "code",
      "metadata": {
        "id": "Qy3HSNm6lJ58",
        "colab": {
          "base_uri": "https://localhost:8080/"
        },
        "outputId": "0fed800d-e650-4351-ce20-51b6950eb2b9"
      },
      "source": [
        "# Answer below:\n",
        "model.summary()"
      ],
      "execution_count": 15,
      "outputs": [
        {
          "output_type": "stream",
          "text": [
            "Model: \"sequential\"\n",
            "_________________________________________________________________\n",
            "Layer (type)                 Output Shape              Param #   \n",
            "=================================================================\n",
            "dense (Dense)                (None, 12)                132       \n",
            "_________________________________________________________________\n",
            "dense_1 (Dense)              (None, 10)                130       \n",
            "_________________________________________________________________\n",
            "dense_2 (Dense)              (None, 1)                 11        \n",
            "=================================================================\n",
            "Total params: 273\n",
            "Trainable params: 273\n",
            "Non-trainable params: 0\n",
            "_________________________________________________________________\n"
          ],
          "name": "stdout"
        }
      ]
    },
    {
      "cell_type": "markdown",
      "metadata": {
        "id": "VH4UZYIqlJ57"
      },
      "source": [
        "Compile and fit the model. Use the adam optimizer and the binary crossentropy loss function. Train the model for 200 epochs with a batch size of 80. Make sure to use the test data into the model as well."
      ]
    },
    {
      "cell_type": "code",
      "metadata": {
        "id": "VrGUWAPrz9CT"
      },
      "source": [
        "model.compile(optimizer='adam', loss='binary_crossentropy', \n",
        "              metrics=['accuracy'])"
      ],
      "execution_count": 16,
      "outputs": []
    },
    {
      "cell_type": "code",
      "metadata": {
        "id": "lS9eVCRAlJ5-",
        "colab": {
          "base_uri": "https://localhost:8080/"
        },
        "outputId": "13b28b63-e2e4-48b5-b63d-28a8835fe2f2"
      },
      "source": [
        "# Answer below:\n",
        "history = model.fit(X_train_scale, y_train, validation_data=(X_test_scale, y_test), batch_size=80, epochs=200, verbose=2)"
      ],
      "execution_count": 17,
      "outputs": [
        {
          "output_type": "stream",
          "text": [
            "Epoch 1/200\n",
            "6/6 - 1s - loss: 0.7046 - accuracy: 0.6264 - val_loss: 0.6980 - val_accuracy: 0.6316\n",
            "Epoch 2/200\n",
            "6/6 - 0s - loss: 0.6940 - accuracy: 0.6264 - val_loss: 0.6880 - val_accuracy: 0.6316\n",
            "Epoch 3/200\n",
            "6/6 - 0s - loss: 0.6848 - accuracy: 0.6264 - val_loss: 0.6789 - val_accuracy: 0.6404\n",
            "Epoch 4/200\n",
            "6/6 - 0s - loss: 0.6770 - accuracy: 0.6264 - val_loss: 0.6706 - val_accuracy: 0.6491\n",
            "Epoch 5/200\n",
            "6/6 - 0s - loss: 0.6695 - accuracy: 0.6286 - val_loss: 0.6631 - val_accuracy: 0.6667\n",
            "Epoch 6/200\n",
            "6/6 - 0s - loss: 0.6622 - accuracy: 0.6352 - val_loss: 0.6559 - val_accuracy: 0.6667\n",
            "Epoch 7/200\n",
            "6/6 - 0s - loss: 0.6549 - accuracy: 0.6593 - val_loss: 0.6485 - val_accuracy: 0.6930\n",
            "Epoch 8/200\n",
            "6/6 - 0s - loss: 0.6476 - accuracy: 0.6725 - val_loss: 0.6409 - val_accuracy: 0.7193\n",
            "Epoch 9/200\n",
            "6/6 - 0s - loss: 0.6400 - accuracy: 0.6967 - val_loss: 0.6333 - val_accuracy: 0.7544\n",
            "Epoch 10/200\n",
            "6/6 - 0s - loss: 0.6324 - accuracy: 0.7121 - val_loss: 0.6255 - val_accuracy: 0.7719\n",
            "Epoch 11/200\n",
            "6/6 - 0s - loss: 0.6247 - accuracy: 0.7297 - val_loss: 0.6174 - val_accuracy: 0.7719\n",
            "Epoch 12/200\n",
            "6/6 - 0s - loss: 0.6164 - accuracy: 0.7385 - val_loss: 0.6092 - val_accuracy: 0.7895\n",
            "Epoch 13/200\n",
            "6/6 - 0s - loss: 0.6081 - accuracy: 0.7560 - val_loss: 0.6004 - val_accuracy: 0.7982\n",
            "Epoch 14/200\n",
            "6/6 - 0s - loss: 0.5995 - accuracy: 0.7714 - val_loss: 0.5914 - val_accuracy: 0.7982\n",
            "Epoch 15/200\n",
            "6/6 - 0s - loss: 0.5904 - accuracy: 0.7956 - val_loss: 0.5822 - val_accuracy: 0.8070\n",
            "Epoch 16/200\n",
            "6/6 - 0s - loss: 0.5810 - accuracy: 0.8176 - val_loss: 0.5727 - val_accuracy: 0.8158\n",
            "Epoch 17/200\n",
            "6/6 - 0s - loss: 0.5711 - accuracy: 0.8264 - val_loss: 0.5624 - val_accuracy: 0.8158\n",
            "Epoch 18/200\n",
            "6/6 - 0s - loss: 0.5607 - accuracy: 0.8286 - val_loss: 0.5516 - val_accuracy: 0.8246\n",
            "Epoch 19/200\n",
            "6/6 - 0s - loss: 0.5500 - accuracy: 0.8330 - val_loss: 0.5405 - val_accuracy: 0.8246\n",
            "Epoch 20/200\n",
            "6/6 - 0s - loss: 0.5389 - accuracy: 0.8418 - val_loss: 0.5290 - val_accuracy: 0.8509\n",
            "Epoch 21/200\n",
            "6/6 - 0s - loss: 0.5274 - accuracy: 0.8505 - val_loss: 0.5171 - val_accuracy: 0.8509\n",
            "Epoch 22/200\n",
            "6/6 - 0s - loss: 0.5153 - accuracy: 0.8549 - val_loss: 0.5048 - val_accuracy: 0.8509\n",
            "Epoch 23/200\n",
            "6/6 - 0s - loss: 0.5031 - accuracy: 0.8593 - val_loss: 0.4924 - val_accuracy: 0.8509\n",
            "Epoch 24/200\n",
            "6/6 - 0s - loss: 0.4906 - accuracy: 0.8637 - val_loss: 0.4797 - val_accuracy: 0.8596\n",
            "Epoch 25/200\n",
            "6/6 - 0s - loss: 0.4776 - accuracy: 0.8835 - val_loss: 0.4669 - val_accuracy: 0.8684\n",
            "Epoch 26/200\n",
            "6/6 - 0s - loss: 0.4648 - accuracy: 0.8901 - val_loss: 0.4541 - val_accuracy: 0.8684\n",
            "Epoch 27/200\n",
            "6/6 - 0s - loss: 0.4518 - accuracy: 0.8923 - val_loss: 0.4413 - val_accuracy: 0.8684\n",
            "Epoch 28/200\n",
            "6/6 - 0s - loss: 0.4390 - accuracy: 0.8945 - val_loss: 0.4284 - val_accuracy: 0.8684\n",
            "Epoch 29/200\n",
            "6/6 - 0s - loss: 0.4261 - accuracy: 0.8967 - val_loss: 0.4158 - val_accuracy: 0.8684\n",
            "Epoch 30/200\n",
            "6/6 - 0s - loss: 0.4132 - accuracy: 0.8967 - val_loss: 0.4031 - val_accuracy: 0.8772\n",
            "Epoch 31/200\n",
            "6/6 - 0s - loss: 0.4005 - accuracy: 0.9011 - val_loss: 0.3908 - val_accuracy: 0.8772\n",
            "Epoch 32/200\n",
            "6/6 - 0s - loss: 0.3882 - accuracy: 0.9055 - val_loss: 0.3788 - val_accuracy: 0.8772\n",
            "Epoch 33/200\n",
            "6/6 - 0s - loss: 0.3769 - accuracy: 0.9055 - val_loss: 0.3677 - val_accuracy: 0.8772\n",
            "Epoch 34/200\n",
            "6/6 - 0s - loss: 0.3645 - accuracy: 0.9077 - val_loss: 0.3563 - val_accuracy: 0.8947\n",
            "Epoch 35/200\n",
            "6/6 - 0s - loss: 0.3537 - accuracy: 0.9077 - val_loss: 0.3456 - val_accuracy: 0.8947\n",
            "Epoch 36/200\n",
            "6/6 - 0s - loss: 0.3433 - accuracy: 0.9099 - val_loss: 0.3360 - val_accuracy: 0.8947\n",
            "Epoch 37/200\n",
            "6/6 - 0s - loss: 0.3331 - accuracy: 0.9143 - val_loss: 0.3262 - val_accuracy: 0.8947\n",
            "Epoch 38/200\n",
            "6/6 - 0s - loss: 0.3231 - accuracy: 0.9143 - val_loss: 0.3175 - val_accuracy: 0.8947\n",
            "Epoch 39/200\n",
            "6/6 - 0s - loss: 0.3140 - accuracy: 0.9143 - val_loss: 0.3095 - val_accuracy: 0.8947\n",
            "Epoch 40/200\n",
            "6/6 - 0s - loss: 0.3057 - accuracy: 0.9165 - val_loss: 0.3012 - val_accuracy: 0.8947\n",
            "Epoch 41/200\n",
            "6/6 - 0s - loss: 0.2973 - accuracy: 0.9165 - val_loss: 0.2937 - val_accuracy: 0.8947\n",
            "Epoch 42/200\n",
            "6/6 - 0s - loss: 0.2898 - accuracy: 0.9165 - val_loss: 0.2871 - val_accuracy: 0.8947\n",
            "Epoch 43/200\n",
            "6/6 - 0s - loss: 0.2824 - accuracy: 0.9165 - val_loss: 0.2796 - val_accuracy: 0.8947\n",
            "Epoch 44/200\n",
            "6/6 - 0s - loss: 0.2761 - accuracy: 0.9165 - val_loss: 0.2731 - val_accuracy: 0.8947\n",
            "Epoch 45/200\n",
            "6/6 - 0s - loss: 0.2695 - accuracy: 0.9165 - val_loss: 0.2680 - val_accuracy: 0.8947\n",
            "Epoch 46/200\n",
            "6/6 - 0s - loss: 0.2636 - accuracy: 0.9165 - val_loss: 0.2624 - val_accuracy: 0.8947\n",
            "Epoch 47/200\n",
            "6/6 - 0s - loss: 0.2582 - accuracy: 0.9187 - val_loss: 0.2580 - val_accuracy: 0.8947\n",
            "Epoch 48/200\n",
            "6/6 - 0s - loss: 0.2529 - accuracy: 0.9165 - val_loss: 0.2531 - val_accuracy: 0.8947\n",
            "Epoch 49/200\n",
            "6/6 - 0s - loss: 0.2484 - accuracy: 0.9231 - val_loss: 0.2483 - val_accuracy: 0.9123\n",
            "Epoch 50/200\n",
            "6/6 - 0s - loss: 0.2438 - accuracy: 0.9209 - val_loss: 0.2449 - val_accuracy: 0.9035\n",
            "Epoch 51/200\n",
            "6/6 - 0s - loss: 0.2396 - accuracy: 0.9231 - val_loss: 0.2406 - val_accuracy: 0.9123\n",
            "Epoch 52/200\n",
            "6/6 - 0s - loss: 0.2356 - accuracy: 0.9231 - val_loss: 0.2370 - val_accuracy: 0.9123\n",
            "Epoch 53/200\n",
            "6/6 - 0s - loss: 0.2322 - accuracy: 0.9231 - val_loss: 0.2344 - val_accuracy: 0.9123\n",
            "Epoch 54/200\n",
            "6/6 - 0s - loss: 0.2283 - accuracy: 0.9231 - val_loss: 0.2308 - val_accuracy: 0.9123\n",
            "Epoch 55/200\n",
            "6/6 - 0s - loss: 0.2252 - accuracy: 0.9231 - val_loss: 0.2272 - val_accuracy: 0.9035\n",
            "Epoch 56/200\n",
            "6/6 - 0s - loss: 0.2220 - accuracy: 0.9231 - val_loss: 0.2244 - val_accuracy: 0.9035\n",
            "Epoch 57/200\n",
            "6/6 - 0s - loss: 0.2190 - accuracy: 0.9231 - val_loss: 0.2222 - val_accuracy: 0.9035\n",
            "Epoch 58/200\n",
            "6/6 - 0s - loss: 0.2162 - accuracy: 0.9231 - val_loss: 0.2202 - val_accuracy: 0.9123\n",
            "Epoch 59/200\n",
            "6/6 - 0s - loss: 0.2138 - accuracy: 0.9231 - val_loss: 0.2168 - val_accuracy: 0.9035\n",
            "Epoch 60/200\n",
            "6/6 - 0s - loss: 0.2112 - accuracy: 0.9231 - val_loss: 0.2153 - val_accuracy: 0.9035\n",
            "Epoch 61/200\n",
            "6/6 - 0s - loss: 0.2089 - accuracy: 0.9231 - val_loss: 0.2133 - val_accuracy: 0.9035\n",
            "Epoch 62/200\n",
            "6/6 - 0s - loss: 0.2072 - accuracy: 0.9253 - val_loss: 0.2102 - val_accuracy: 0.9035\n",
            "Epoch 63/200\n",
            "6/6 - 0s - loss: 0.2047 - accuracy: 0.9253 - val_loss: 0.2097 - val_accuracy: 0.9035\n",
            "Epoch 64/200\n",
            "6/6 - 0s - loss: 0.2026 - accuracy: 0.9231 - val_loss: 0.2079 - val_accuracy: 0.9035\n",
            "Epoch 65/200\n",
            "6/6 - 0s - loss: 0.2011 - accuracy: 0.9231 - val_loss: 0.2057 - val_accuracy: 0.9035\n",
            "Epoch 66/200\n",
            "6/6 - 0s - loss: 0.1991 - accuracy: 0.9231 - val_loss: 0.2036 - val_accuracy: 0.9123\n",
            "Epoch 67/200\n",
            "6/6 - 0s - loss: 0.1974 - accuracy: 0.9231 - val_loss: 0.2028 - val_accuracy: 0.9035\n",
            "Epoch 68/200\n",
            "6/6 - 0s - loss: 0.1956 - accuracy: 0.9253 - val_loss: 0.2013 - val_accuracy: 0.9123\n",
            "Epoch 69/200\n",
            "6/6 - 0s - loss: 0.1941 - accuracy: 0.9253 - val_loss: 0.1999 - val_accuracy: 0.9123\n",
            "Epoch 70/200\n",
            "6/6 - 0s - loss: 0.1927 - accuracy: 0.9253 - val_loss: 0.1980 - val_accuracy: 0.9211\n",
            "Epoch 71/200\n",
            "6/6 - 0s - loss: 0.1915 - accuracy: 0.9253 - val_loss: 0.1964 - val_accuracy: 0.9211\n",
            "Epoch 72/200\n",
            "6/6 - 0s - loss: 0.1902 - accuracy: 0.9253 - val_loss: 0.1958 - val_accuracy: 0.9211\n",
            "Epoch 73/200\n",
            "6/6 - 0s - loss: 0.1890 - accuracy: 0.9231 - val_loss: 0.1959 - val_accuracy: 0.9123\n",
            "Epoch 74/200\n",
            "6/6 - 0s - loss: 0.1883 - accuracy: 0.9231 - val_loss: 0.1956 - val_accuracy: 0.9123\n",
            "Epoch 75/200\n",
            "6/6 - 0s - loss: 0.1864 - accuracy: 0.9231 - val_loss: 0.1927 - val_accuracy: 0.9211\n",
            "Epoch 76/200\n",
            "6/6 - 0s - loss: 0.1853 - accuracy: 0.9275 - val_loss: 0.1916 - val_accuracy: 0.9211\n",
            "Epoch 77/200\n",
            "6/6 - 0s - loss: 0.1842 - accuracy: 0.9275 - val_loss: 0.1903 - val_accuracy: 0.9211\n",
            "Epoch 78/200\n",
            "6/6 - 0s - loss: 0.1834 - accuracy: 0.9275 - val_loss: 0.1893 - val_accuracy: 0.9211\n",
            "Epoch 79/200\n",
            "6/6 - 0s - loss: 0.1823 - accuracy: 0.9275 - val_loss: 0.1895 - val_accuracy: 0.9211\n",
            "Epoch 80/200\n",
            "6/6 - 0s - loss: 0.1814 - accuracy: 0.9275 - val_loss: 0.1883 - val_accuracy: 0.9211\n",
            "Epoch 81/200\n",
            "6/6 - 0s - loss: 0.1804 - accuracy: 0.9275 - val_loss: 0.1880 - val_accuracy: 0.9211\n",
            "Epoch 82/200\n",
            "6/6 - 0s - loss: 0.1796 - accuracy: 0.9253 - val_loss: 0.1869 - val_accuracy: 0.9211\n",
            "Epoch 83/200\n",
            "6/6 - 0s - loss: 0.1785 - accuracy: 0.9275 - val_loss: 0.1864 - val_accuracy: 0.9211\n",
            "Epoch 84/200\n",
            "6/6 - 0s - loss: 0.1778 - accuracy: 0.9253 - val_loss: 0.1856 - val_accuracy: 0.9211\n",
            "Epoch 85/200\n",
            "6/6 - 0s - loss: 0.1770 - accuracy: 0.9297 - val_loss: 0.1843 - val_accuracy: 0.9211\n",
            "Epoch 86/200\n",
            "6/6 - 0s - loss: 0.1762 - accuracy: 0.9297 - val_loss: 0.1836 - val_accuracy: 0.9211\n",
            "Epoch 87/200\n",
            "6/6 - 0s - loss: 0.1757 - accuracy: 0.9297 - val_loss: 0.1829 - val_accuracy: 0.9211\n",
            "Epoch 88/200\n",
            "6/6 - 0s - loss: 0.1748 - accuracy: 0.9297 - val_loss: 0.1828 - val_accuracy: 0.9211\n",
            "Epoch 89/200\n",
            "6/6 - 0s - loss: 0.1741 - accuracy: 0.9297 - val_loss: 0.1826 - val_accuracy: 0.9211\n",
            "Epoch 90/200\n",
            "6/6 - 0s - loss: 0.1734 - accuracy: 0.9297 - val_loss: 0.1816 - val_accuracy: 0.9211\n",
            "Epoch 91/200\n",
            "6/6 - 0s - loss: 0.1727 - accuracy: 0.9297 - val_loss: 0.1808 - val_accuracy: 0.9211\n",
            "Epoch 92/200\n",
            "6/6 - 0s - loss: 0.1722 - accuracy: 0.9297 - val_loss: 0.1811 - val_accuracy: 0.9211\n",
            "Epoch 93/200\n",
            "6/6 - 0s - loss: 0.1715 - accuracy: 0.9297 - val_loss: 0.1795 - val_accuracy: 0.9211\n",
            "Epoch 94/200\n",
            "6/6 - 0s - loss: 0.1708 - accuracy: 0.9319 - val_loss: 0.1790 - val_accuracy: 0.9211\n",
            "Epoch 95/200\n",
            "6/6 - 0s - loss: 0.1704 - accuracy: 0.9319 - val_loss: 0.1789 - val_accuracy: 0.9211\n",
            "Epoch 96/200\n",
            "6/6 - 0s - loss: 0.1695 - accuracy: 0.9319 - val_loss: 0.1779 - val_accuracy: 0.9211\n",
            "Epoch 97/200\n",
            "6/6 - 0s - loss: 0.1701 - accuracy: 0.9319 - val_loss: 0.1765 - val_accuracy: 0.9211\n",
            "Epoch 98/200\n",
            "6/6 - 0s - loss: 0.1692 - accuracy: 0.9341 - val_loss: 0.1778 - val_accuracy: 0.9211\n",
            "Epoch 99/200\n",
            "6/6 - 0s - loss: 0.1683 - accuracy: 0.9341 - val_loss: 0.1767 - val_accuracy: 0.9211\n",
            "Epoch 100/200\n",
            "6/6 - 0s - loss: 0.1679 - accuracy: 0.9341 - val_loss: 0.1767 - val_accuracy: 0.9211\n",
            "Epoch 101/200\n",
            "6/6 - 0s - loss: 0.1671 - accuracy: 0.9341 - val_loss: 0.1755 - val_accuracy: 0.9123\n",
            "Epoch 102/200\n",
            "6/6 - 0s - loss: 0.1666 - accuracy: 0.9319 - val_loss: 0.1748 - val_accuracy: 0.9123\n",
            "Epoch 103/200\n",
            "6/6 - 0s - loss: 0.1661 - accuracy: 0.9341 - val_loss: 0.1749 - val_accuracy: 0.9211\n",
            "Epoch 104/200\n",
            "6/6 - 0s - loss: 0.1657 - accuracy: 0.9341 - val_loss: 0.1748 - val_accuracy: 0.9211\n",
            "Epoch 105/200\n",
            "6/6 - 0s - loss: 0.1652 - accuracy: 0.9363 - val_loss: 0.1746 - val_accuracy: 0.9211\n",
            "Epoch 106/200\n",
            "6/6 - 0s - loss: 0.1653 - accuracy: 0.9319 - val_loss: 0.1734 - val_accuracy: 0.9123\n",
            "Epoch 107/200\n",
            "6/6 - 0s - loss: 0.1644 - accuracy: 0.9341 - val_loss: 0.1737 - val_accuracy: 0.9211\n",
            "Epoch 108/200\n",
            "6/6 - 0s - loss: 0.1647 - accuracy: 0.9363 - val_loss: 0.1744 - val_accuracy: 0.9211\n",
            "Epoch 109/200\n",
            "6/6 - 0s - loss: 0.1641 - accuracy: 0.9341 - val_loss: 0.1720 - val_accuracy: 0.9211\n",
            "Epoch 110/200\n",
            "6/6 - 0s - loss: 0.1633 - accuracy: 0.9341 - val_loss: 0.1721 - val_accuracy: 0.9211\n",
            "Epoch 111/200\n",
            "6/6 - 0s - loss: 0.1629 - accuracy: 0.9341 - val_loss: 0.1721 - val_accuracy: 0.9123\n",
            "Epoch 112/200\n",
            "6/6 - 0s - loss: 0.1624 - accuracy: 0.9341 - val_loss: 0.1714 - val_accuracy: 0.9211\n",
            "Epoch 113/200\n",
            "6/6 - 0s - loss: 0.1622 - accuracy: 0.9319 - val_loss: 0.1709 - val_accuracy: 0.9211\n",
            "Epoch 114/200\n",
            "6/6 - 0s - loss: 0.1621 - accuracy: 0.9363 - val_loss: 0.1720 - val_accuracy: 0.9211\n",
            "Epoch 115/200\n",
            "6/6 - 0s - loss: 0.1618 - accuracy: 0.9363 - val_loss: 0.1717 - val_accuracy: 0.9211\n",
            "Epoch 116/200\n",
            "6/6 - 0s - loss: 0.1616 - accuracy: 0.9341 - val_loss: 0.1698 - val_accuracy: 0.9211\n",
            "Epoch 117/200\n",
            "6/6 - 0s - loss: 0.1610 - accuracy: 0.9341 - val_loss: 0.1701 - val_accuracy: 0.9123\n",
            "Epoch 118/200\n",
            "6/6 - 0s - loss: 0.1604 - accuracy: 0.9341 - val_loss: 0.1694 - val_accuracy: 0.9211\n",
            "Epoch 119/200\n",
            "6/6 - 0s - loss: 0.1601 - accuracy: 0.9341 - val_loss: 0.1694 - val_accuracy: 0.9211\n",
            "Epoch 120/200\n",
            "6/6 - 0s - loss: 0.1598 - accuracy: 0.9341 - val_loss: 0.1690 - val_accuracy: 0.9211\n",
            "Epoch 121/200\n",
            "6/6 - 0s - loss: 0.1595 - accuracy: 0.9363 - val_loss: 0.1687 - val_accuracy: 0.9211\n",
            "Epoch 122/200\n",
            "6/6 - 0s - loss: 0.1592 - accuracy: 0.9341 - val_loss: 0.1690 - val_accuracy: 0.9123\n",
            "Epoch 123/200\n",
            "6/6 - 0s - loss: 0.1589 - accuracy: 0.9341 - val_loss: 0.1688 - val_accuracy: 0.9123\n",
            "Epoch 124/200\n",
            "6/6 - 0s - loss: 0.1588 - accuracy: 0.9341 - val_loss: 0.1686 - val_accuracy: 0.9123\n",
            "Epoch 125/200\n",
            "6/6 - 0s - loss: 0.1589 - accuracy: 0.9363 - val_loss: 0.1675 - val_accuracy: 0.9211\n",
            "Epoch 126/200\n",
            "6/6 - 0s - loss: 0.1581 - accuracy: 0.9363 - val_loss: 0.1678 - val_accuracy: 0.9123\n",
            "Epoch 127/200\n",
            "6/6 - 0s - loss: 0.1579 - accuracy: 0.9341 - val_loss: 0.1677 - val_accuracy: 0.9123\n",
            "Epoch 128/200\n",
            "6/6 - 0s - loss: 0.1577 - accuracy: 0.9363 - val_loss: 0.1664 - val_accuracy: 0.9211\n",
            "Epoch 129/200\n",
            "6/6 - 0s - loss: 0.1575 - accuracy: 0.9385 - val_loss: 0.1663 - val_accuracy: 0.9211\n",
            "Epoch 130/200\n",
            "6/6 - 0s - loss: 0.1574 - accuracy: 0.9363 - val_loss: 0.1668 - val_accuracy: 0.9123\n",
            "Epoch 131/200\n",
            "6/6 - 0s - loss: 0.1568 - accuracy: 0.9363 - val_loss: 0.1663 - val_accuracy: 0.9211\n",
            "Epoch 132/200\n",
            "6/6 - 0s - loss: 0.1568 - accuracy: 0.9363 - val_loss: 0.1660 - val_accuracy: 0.9211\n",
            "Epoch 133/200\n",
            "6/6 - 0s - loss: 0.1563 - accuracy: 0.9385 - val_loss: 0.1653 - val_accuracy: 0.9211\n",
            "Epoch 134/200\n",
            "6/6 - 0s - loss: 0.1563 - accuracy: 0.9385 - val_loss: 0.1648 - val_accuracy: 0.9211\n",
            "Epoch 135/200\n",
            "6/6 - 0s - loss: 0.1559 - accuracy: 0.9385 - val_loss: 0.1651 - val_accuracy: 0.9211\n",
            "Epoch 136/200\n",
            "6/6 - 0s - loss: 0.1557 - accuracy: 0.9363 - val_loss: 0.1659 - val_accuracy: 0.9123\n",
            "Epoch 137/200\n",
            "6/6 - 0s - loss: 0.1557 - accuracy: 0.9363 - val_loss: 0.1648 - val_accuracy: 0.9211\n",
            "Epoch 138/200\n",
            "6/6 - 0s - loss: 0.1554 - accuracy: 0.9407 - val_loss: 0.1643 - val_accuracy: 0.9211\n",
            "Epoch 139/200\n",
            "6/6 - 0s - loss: 0.1550 - accuracy: 0.9407 - val_loss: 0.1645 - val_accuracy: 0.9211\n",
            "Epoch 140/200\n",
            "6/6 - 0s - loss: 0.1549 - accuracy: 0.9385 - val_loss: 0.1644 - val_accuracy: 0.9211\n",
            "Epoch 141/200\n",
            "6/6 - 0s - loss: 0.1547 - accuracy: 0.9385 - val_loss: 0.1645 - val_accuracy: 0.9211\n",
            "Epoch 142/200\n",
            "6/6 - 0s - loss: 0.1545 - accuracy: 0.9385 - val_loss: 0.1643 - val_accuracy: 0.9211\n",
            "Epoch 143/200\n",
            "6/6 - 0s - loss: 0.1542 - accuracy: 0.9363 - val_loss: 0.1638 - val_accuracy: 0.9211\n",
            "Epoch 144/200\n",
            "6/6 - 0s - loss: 0.1544 - accuracy: 0.9363 - val_loss: 0.1641 - val_accuracy: 0.9211\n",
            "Epoch 145/200\n",
            "6/6 - 0s - loss: 0.1538 - accuracy: 0.9363 - val_loss: 0.1634 - val_accuracy: 0.9211\n",
            "Epoch 146/200\n",
            "6/6 - 0s - loss: 0.1537 - accuracy: 0.9407 - val_loss: 0.1629 - val_accuracy: 0.9211\n",
            "Epoch 147/200\n",
            "6/6 - 0s - loss: 0.1534 - accuracy: 0.9407 - val_loss: 0.1628 - val_accuracy: 0.9211\n",
            "Epoch 148/200\n",
            "6/6 - 0s - loss: 0.1535 - accuracy: 0.9363 - val_loss: 0.1633 - val_accuracy: 0.9211\n",
            "Epoch 149/200\n",
            "6/6 - 0s - loss: 0.1529 - accuracy: 0.9385 - val_loss: 0.1629 - val_accuracy: 0.9211\n",
            "Epoch 150/200\n",
            "6/6 - 0s - loss: 0.1528 - accuracy: 0.9407 - val_loss: 0.1625 - val_accuracy: 0.9211\n",
            "Epoch 151/200\n",
            "6/6 - 0s - loss: 0.1528 - accuracy: 0.9385 - val_loss: 0.1619 - val_accuracy: 0.9211\n",
            "Epoch 152/200\n",
            "6/6 - 0s - loss: 0.1527 - accuracy: 0.9407 - val_loss: 0.1622 - val_accuracy: 0.9211\n",
            "Epoch 153/200\n",
            "6/6 - 0s - loss: 0.1531 - accuracy: 0.9407 - val_loss: 0.1631 - val_accuracy: 0.9123\n",
            "Epoch 154/200\n",
            "6/6 - 0s - loss: 0.1521 - accuracy: 0.9407 - val_loss: 0.1617 - val_accuracy: 0.9211\n",
            "Epoch 155/200\n",
            "6/6 - 0s - loss: 0.1524 - accuracy: 0.9429 - val_loss: 0.1618 - val_accuracy: 0.9211\n",
            "Epoch 156/200\n",
            "6/6 - 0s - loss: 0.1520 - accuracy: 0.9385 - val_loss: 0.1613 - val_accuracy: 0.9211\n",
            "Epoch 157/200\n",
            "6/6 - 0s - loss: 0.1516 - accuracy: 0.9385 - val_loss: 0.1615 - val_accuracy: 0.9211\n",
            "Epoch 158/200\n",
            "6/6 - 0s - loss: 0.1513 - accuracy: 0.9429 - val_loss: 0.1620 - val_accuracy: 0.9211\n",
            "Epoch 159/200\n",
            "6/6 - 0s - loss: 0.1517 - accuracy: 0.9429 - val_loss: 0.1628 - val_accuracy: 0.9123\n",
            "Epoch 160/200\n",
            "6/6 - 0s - loss: 0.1515 - accuracy: 0.9407 - val_loss: 0.1616 - val_accuracy: 0.9211\n",
            "Epoch 161/200\n",
            "6/6 - 0s - loss: 0.1521 - accuracy: 0.9429 - val_loss: 0.1605 - val_accuracy: 0.9211\n",
            "Epoch 162/200\n",
            "6/6 - 0s - loss: 0.1507 - accuracy: 0.9407 - val_loss: 0.1612 - val_accuracy: 0.9211\n",
            "Epoch 163/200\n",
            "6/6 - 0s - loss: 0.1505 - accuracy: 0.9451 - val_loss: 0.1616 - val_accuracy: 0.9211\n",
            "Epoch 164/200\n",
            "6/6 - 0s - loss: 0.1505 - accuracy: 0.9451 - val_loss: 0.1612 - val_accuracy: 0.9211\n",
            "Epoch 165/200\n",
            "6/6 - 0s - loss: 0.1505 - accuracy: 0.9451 - val_loss: 0.1607 - val_accuracy: 0.9211\n",
            "Epoch 166/200\n",
            "6/6 - 0s - loss: 0.1502 - accuracy: 0.9429 - val_loss: 0.1601 - val_accuracy: 0.9211\n",
            "Epoch 167/200\n",
            "6/6 - 0s - loss: 0.1501 - accuracy: 0.9429 - val_loss: 0.1599 - val_accuracy: 0.9211\n",
            "Epoch 168/200\n",
            "6/6 - 0s - loss: 0.1497 - accuracy: 0.9429 - val_loss: 0.1601 - val_accuracy: 0.9211\n",
            "Epoch 169/200\n",
            "6/6 - 0s - loss: 0.1494 - accuracy: 0.9451 - val_loss: 0.1601 - val_accuracy: 0.9211\n",
            "Epoch 170/200\n",
            "6/6 - 0s - loss: 0.1492 - accuracy: 0.9451 - val_loss: 0.1599 - val_accuracy: 0.9211\n",
            "Epoch 171/200\n",
            "6/6 - 0s - loss: 0.1492 - accuracy: 0.9451 - val_loss: 0.1594 - val_accuracy: 0.9211\n",
            "Epoch 172/200\n",
            "6/6 - 0s - loss: 0.1503 - accuracy: 0.9429 - val_loss: 0.1603 - val_accuracy: 0.9211\n",
            "Epoch 173/200\n",
            "6/6 - 0s - loss: 0.1493 - accuracy: 0.9429 - val_loss: 0.1588 - val_accuracy: 0.9211\n",
            "Epoch 174/200\n",
            "6/6 - 0s - loss: 0.1484 - accuracy: 0.9429 - val_loss: 0.1587 - val_accuracy: 0.9211\n",
            "Epoch 175/200\n",
            "6/6 - 0s - loss: 0.1485 - accuracy: 0.9429 - val_loss: 0.1592 - val_accuracy: 0.9211\n",
            "Epoch 176/200\n",
            "6/6 - 0s - loss: 0.1482 - accuracy: 0.9451 - val_loss: 0.1588 - val_accuracy: 0.9211\n",
            "Epoch 177/200\n",
            "6/6 - 0s - loss: 0.1478 - accuracy: 0.9451 - val_loss: 0.1589 - val_accuracy: 0.9211\n",
            "Epoch 178/200\n",
            "6/6 - 0s - loss: 0.1476 - accuracy: 0.9429 - val_loss: 0.1582 - val_accuracy: 0.9211\n",
            "Epoch 179/200\n",
            "6/6 - 0s - loss: 0.1472 - accuracy: 0.9429 - val_loss: 0.1582 - val_accuracy: 0.9211\n",
            "Epoch 180/200\n",
            "6/6 - 0s - loss: 0.1471 - accuracy: 0.9429 - val_loss: 0.1582 - val_accuracy: 0.9211\n",
            "Epoch 181/200\n",
            "6/6 - 0s - loss: 0.1468 - accuracy: 0.9451 - val_loss: 0.1580 - val_accuracy: 0.9211\n",
            "Epoch 182/200\n",
            "6/6 - 0s - loss: 0.1466 - accuracy: 0.9429 - val_loss: 0.1576 - val_accuracy: 0.9211\n",
            "Epoch 183/200\n",
            "6/6 - 0s - loss: 0.1466 - accuracy: 0.9429 - val_loss: 0.1578 - val_accuracy: 0.9211\n",
            "Epoch 184/200\n",
            "6/6 - 0s - loss: 0.1462 - accuracy: 0.9429 - val_loss: 0.1575 - val_accuracy: 0.9211\n",
            "Epoch 185/200\n",
            "6/6 - 0s - loss: 0.1459 - accuracy: 0.9429 - val_loss: 0.1568 - val_accuracy: 0.9211\n",
            "Epoch 186/200\n",
            "6/6 - 0s - loss: 0.1461 - accuracy: 0.9429 - val_loss: 0.1567 - val_accuracy: 0.9211\n",
            "Epoch 187/200\n",
            "6/6 - 0s - loss: 0.1467 - accuracy: 0.9429 - val_loss: 0.1578 - val_accuracy: 0.9211\n",
            "Epoch 188/200\n",
            "6/6 - 0s - loss: 0.1453 - accuracy: 0.9451 - val_loss: 0.1569 - val_accuracy: 0.9211\n",
            "Epoch 189/200\n",
            "6/6 - 0s - loss: 0.1454 - accuracy: 0.9429 - val_loss: 0.1563 - val_accuracy: 0.9211\n",
            "Epoch 190/200\n",
            "6/6 - 0s - loss: 0.1452 - accuracy: 0.9429 - val_loss: 0.1564 - val_accuracy: 0.9298\n",
            "Epoch 191/200\n",
            "6/6 - 0s - loss: 0.1448 - accuracy: 0.9429 - val_loss: 0.1565 - val_accuracy: 0.9211\n",
            "Epoch 192/200\n",
            "6/6 - 0s - loss: 0.1447 - accuracy: 0.9429 - val_loss: 0.1567 - val_accuracy: 0.9211\n",
            "Epoch 193/200\n",
            "6/6 - 0s - loss: 0.1443 - accuracy: 0.9429 - val_loss: 0.1560 - val_accuracy: 0.9211\n",
            "Epoch 194/200\n",
            "6/6 - 0s - loss: 0.1444 - accuracy: 0.9429 - val_loss: 0.1558 - val_accuracy: 0.9211\n",
            "Epoch 195/200\n",
            "6/6 - 0s - loss: 0.1439 - accuracy: 0.9451 - val_loss: 0.1561 - val_accuracy: 0.9298\n",
            "Epoch 196/200\n",
            "6/6 - 0s - loss: 0.1439 - accuracy: 0.9429 - val_loss: 0.1564 - val_accuracy: 0.9211\n",
            "Epoch 197/200\n",
            "6/6 - 0s - loss: 0.1436 - accuracy: 0.9429 - val_loss: 0.1559 - val_accuracy: 0.9211\n",
            "Epoch 198/200\n",
            "6/6 - 0s - loss: 0.1434 - accuracy: 0.9429 - val_loss: 0.1559 - val_accuracy: 0.9211\n",
            "Epoch 199/200\n",
            "6/6 - 0s - loss: 0.1433 - accuracy: 0.9429 - val_loss: 0.1552 - val_accuracy: 0.9211\n",
            "Epoch 200/200\n",
            "6/6 - 0s - loss: 0.1432 - accuracy: 0.9429 - val_loss: 0.1553 - val_accuracy: 0.9211\n"
          ],
          "name": "stdout"
        }
      ]
    },
    {
      "cell_type": "code",
      "metadata": {
        "colab": {
          "base_uri": "https://localhost:8080/",
          "height": 204
        },
        "id": "VsLsCbcq2TLK",
        "outputId": "d3fa85cf-1b66-48bb-d86f-295531cf4ab3"
      },
      "source": [
        "model_df = pd.DataFrame(history.history)\n",
        "model_df.head()"
      ],
      "execution_count": 18,
      "outputs": [
        {
          "output_type": "execute_result",
          "data": {
            "text/html": [
              "<div>\n",
              "<style scoped>\n",
              "    .dataframe tbody tr th:only-of-type {\n",
              "        vertical-align: middle;\n",
              "    }\n",
              "\n",
              "    .dataframe tbody tr th {\n",
              "        vertical-align: top;\n",
              "    }\n",
              "\n",
              "    .dataframe thead th {\n",
              "        text-align: right;\n",
              "    }\n",
              "</style>\n",
              "<table border=\"1\" class=\"dataframe\">\n",
              "  <thead>\n",
              "    <tr style=\"text-align: right;\">\n",
              "      <th></th>\n",
              "      <th>loss</th>\n",
              "      <th>accuracy</th>\n",
              "      <th>val_loss</th>\n",
              "      <th>val_accuracy</th>\n",
              "    </tr>\n",
              "  </thead>\n",
              "  <tbody>\n",
              "    <tr>\n",
              "      <th>0</th>\n",
              "      <td>0.704564</td>\n",
              "      <td>0.626374</td>\n",
              "      <td>0.697970</td>\n",
              "      <td>0.631579</td>\n",
              "    </tr>\n",
              "    <tr>\n",
              "      <th>1</th>\n",
              "      <td>0.693954</td>\n",
              "      <td>0.626374</td>\n",
              "      <td>0.687951</td>\n",
              "      <td>0.631579</td>\n",
              "    </tr>\n",
              "    <tr>\n",
              "      <th>2</th>\n",
              "      <td>0.684821</td>\n",
              "      <td>0.626374</td>\n",
              "      <td>0.678859</td>\n",
              "      <td>0.640351</td>\n",
              "    </tr>\n",
              "    <tr>\n",
              "      <th>3</th>\n",
              "      <td>0.677042</td>\n",
              "      <td>0.626374</td>\n",
              "      <td>0.670593</td>\n",
              "      <td>0.649123</td>\n",
              "    </tr>\n",
              "    <tr>\n",
              "      <th>4</th>\n",
              "      <td>0.669485</td>\n",
              "      <td>0.628571</td>\n",
              "      <td>0.663078</td>\n",
              "      <td>0.666667</td>\n",
              "    </tr>\n",
              "  </tbody>\n",
              "</table>\n",
              "</div>"
            ],
            "text/plain": [
              "       loss  accuracy  val_loss  val_accuracy\n",
              "0  0.704564  0.626374  0.697970      0.631579\n",
              "1  0.693954  0.626374  0.687951      0.631579\n",
              "2  0.684821  0.626374  0.678859      0.640351\n",
              "3  0.677042  0.626374  0.670593      0.649123\n",
              "4  0.669485  0.628571  0.663078      0.666667"
            ]
          },
          "metadata": {
            "tags": []
          },
          "execution_count": 18
        }
      ]
    },
    {
      "cell_type": "code",
      "metadata": {
        "colab": {
          "base_uri": "https://localhost:8080/",
          "height": 609
        },
        "id": "mmXS2Und2W_P",
        "outputId": "ef3d7e2e-6363-459c-8ee4-e83d6323e858"
      },
      "source": [
        "model_df[['loss', 'val_loss']].plot(figsize=(18,10))"
      ],
      "execution_count": 19,
      "outputs": [
        {
          "output_type": "execute_result",
          "data": {
            "text/plain": [
              "<matplotlib.axes._subplots.AxesSubplot at 0x7f219105f5f8>"
            ]
          },
          "metadata": {
            "tags": []
          },
          "execution_count": 19
        },
        {
          "output_type": "display_data",
          "data": {
            "image/png": "[encoded data removed]",
            "text/plain": [
              "<Figure size 1296x720 with 1 Axes>"
            ]
          },
          "metadata": {
            "tags": [],
            "needs_background": "light"
          }
        }
      ]
    },
    {
      "cell_type": "code",
      "metadata": {
        "colab": {
          "base_uri": "https://localhost:8080/",
          "height": 609
        },
        "id": "c-Xmj9YW2fZo",
        "outputId": "0ec6a839-2c26-487c-89ce-28441fee4348"
      },
      "source": [
        "model_df[['accuracy', 'val_accuracy']].plot(figsize=(18,10))"
      ],
      "execution_count": 20,
      "outputs": [
        {
          "output_type": "execute_result",
          "data": {
            "text/plain": [
              "<matplotlib.axes._subplots.AxesSubplot at 0x7f218ff6ceb8>"
            ]
          },
          "metadata": {
            "tags": []
          },
          "execution_count": 20
        },
        {
          "output_type": "display_data",
          "data": {
            "image/png": "[encoded data removed]",
            "text/plain": [
              "<Figure size 1296x720 with 1 Axes>"
            ]
          },
          "metadata": {
            "tags": [],
            "needs_background": "light"
          }
        }
      ]
    },
    {
      "cell_type": "markdown",
      "metadata": {
        "id": "ccJ-FDiAlJ5-"
      },
      "source": [
        "Report the accuracy of the test sample."
      ]
    },
    {
      "cell_type": "code",
      "metadata": {
        "id": "b-LeTBenlJ6A",
        "colab": {
          "base_uri": "https://localhost:8080/"
        },
        "outputId": "50347420-5524-4641-ac8b-5e0f26a82079"
      },
      "source": [
        "results = model.evaluate(X_test_scale, y_test, verbose=0)\n",
        "print(\"loss: \", round(results[0],6))\n",
        "print(\"accuracy: \", round(results[1],6))"
      ],
      "execution_count": 37,
      "outputs": [
        {
          "output_type": "stream",
          "text": [
            "loss:  0.15525\n",
            "accuracy:  0.921053\n"
          ],
          "name": "stdout"
        }
      ]
    }
  ]
}