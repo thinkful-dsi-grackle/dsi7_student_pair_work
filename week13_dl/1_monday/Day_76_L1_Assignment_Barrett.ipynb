{
  "nbformat": 4,
  "nbformat_minor": 0,
  "metadata": {
    "kernelspec": {
      "display_name": "Python 3",
      "language": "python",
      "name": "python3"
    },
    "language_info": {
      "codemirror_mode": {
        "name": "ipython",
        "version": 3
      },
      "file_extension": ".py",
      "mimetype": "text/x-python",
      "name": "python",
      "nbconvert_exporter": "python",
      "pygments_lexer": "ipython3",
      "version": "3.7.0"
    },
    "colab": {
      "name": "Day_76_L1_Assignment_Barrett.ipynb",
      "provenance": [],
      "collapsed_sections": []
    }
  },
  "cells": [
    {
      "cell_type": "markdown",
      "metadata": {
        "id": "T-xOZ1mZ51O8"
      },
      "source": [
        "## Introduction to Deep Learning\n",
        "\n",
        "In this assignment, we will learn about deep learning and neural networks. Answer the questions below:"
      ]
    },
    {
      "cell_type": "markdown",
      "metadata": {
        "id": "TUBtirr_51O-"
      },
      "source": [
        "#### 1. How do neural networks differ from linear models?"
      ]
    },
    {
      "cell_type": "markdown",
      "metadata": {
        "id": "fGwHenMJ51O-"
      },
      "source": [
        "NN and Linear models differ in a few key factors:\n",
        "\n",
        "* NNs have layers and are made up multiple linear models\n",
        "\n",
        "* NNs can handle non-linearities with more accuracy due to the complexity of the method.\n",
        "\n",
        "* NNs have many more parameters and are very difficult to explain. Where some Linear models can be easily understood.\n",
        "\n",
        "* NNs require more data to perform well, where normal Linear models plateau.\n",
        "\n",
        "* NNs require more computational power and time to run.\n",
        "\n"
      ]
    },
    {
      "cell_type": "markdown",
      "metadata": {
        "id": "tJF-uwtC51O_"
      },
      "source": [
        "#### 2. Why do deep networks outperform shallow networks?"
      ]
    },
    {
      "cell_type": "markdown",
      "metadata": {
        "id": "JMwwlwBH51PA"
      },
      "source": [
        "Deeper models are able to handle more complex behavior since it contains more layers of multiple non-linear transformations.\n",
        "\n"
      ]
    },
    {
      "cell_type": "markdown",
      "metadata": {
        "id": "8asF2DFW51PA"
      },
      "source": [
        "#### 3. Why are dense layers called this way? What is a different name for them? Could we have a layer that is not dense?"
      ]
    },
    {
      "cell_type": "markdown",
      "metadata": {
        "id": "05hZS0ea51PB"
      },
      "source": [
        "Dense layer is a fully connected layer. This means that all nodes from the previous layer are connected to all nodes in the current layer.\n",
        "\n",
        "Yes, such as Convolutional and Recurrent layers. But these require consistent features with a small repetitive field.\n",
        "\n",
        "\n"
      ]
    },
    {
      "cell_type": "markdown",
      "metadata": {
        "id": "FAPTWoY251PB"
      },
      "source": [
        "#### 4. Do neural networks tend to overfit less than other models? If so, how?"
      ]
    },
    {
      "cell_type": "markdown",
      "metadata": {
        "id": "LCzv3i3p5L8c"
      },
      "source": [
        "Yes, generally. NNs can produce a model with too much capacity can learn it too well and overfit the training dataset. \n",
        "\n",
        "There are two ways to approach an overfit NN model:\n",
        "\n",
        "* Reduce overfitting by training the network on more examples.\n",
        "* Reduce overfitting by changing the complexity of the network. (i.e. Regularization)"
      ]
    },
    {
      "cell_type": "markdown",
      "metadata": {
        "id": "S0CALsKQ51PE"
      },
      "source": [
        "#### 5. Will a model with more hidden layers always have a more accurate prediction? Why or why not?"
      ]
    },
    {
      "cell_type": "markdown",
      "metadata": {
        "id": "DsJsQkww5NHU"
      },
      "source": [
        "No, there is an optimal number of layers and there is no well defined connection between number of hidden layers and accuracy. How many hidden layers you keep depends much on problem at hand for which you are training your ANN model. A linearly separable dataset will need no hidden layers. A nonlinear dataset may need one or more hidden layers. It depends on how complicated dataset you are using to train your ANN."
      ]
    },
    {
      "cell_type": "markdown",
      "metadata": {
        "id": "2qxJk3Km51PG"
      },
      "source": [
        "#### 6. We generate a neural network for a dataset 10 features. If we have three layers, the first with 64 nodes and the second and third with 32 nodes, how many parameters do we need to estimate?"
      ]
    },
    {
      "cell_type": "code",
      "metadata": {
        "id": "kKbl9Xq251PH",
        "colab": {
          "base_uri": "https://localhost:8080/"
        },
        "outputId": "f9320014-0b1a-4e3b-89d4-2ef5047e73df"
      },
      "source": [
        "n_input = 10\n",
        "m_1 = 64\n",
        "first_layer = (n_input + 1) * m_1\n",
        "# display(first_layer)\n",
        "\n",
        "m_2 = 32\n",
        "second_layer = (m_1 + 1) * m_2\n",
        "# display(second_layer)\n",
        "\n",
        "m_3 = 32\n",
        "third_layer = (m_2 + 1) * m_3\n",
        "# display(third_layer)\n",
        "\n",
        "first_layer + second_layer + third_layer"
      ],
      "execution_count": 10,
      "outputs": [
        {
          "output_type": "execute_result",
          "data": {
            "text/plain": [
              "3840"
            ]
          },
          "metadata": {
            "tags": []
          },
          "execution_count": 10
        }
      ]
    },
    {
      "cell_type": "code",
      "metadata": {
        "id": "7Z8e1aXoi8wC"
      },
      "source": [
        "from tensorflow.keras.models import Sequential\n",
        "from tensorflow.keras.layers import Dense"
      ],
      "execution_count": 11,
      "outputs": []
    },
    {
      "cell_type": "code",
      "metadata": {
        "id": "uWZuMXfsi8ss"
      },
      "source": [
        "model = Sequential()\n",
        "\n",
        "model.add(Dense(64, input_dim=10))\n",
        "\n",
        "model.add(Dense(32))\n",
        "\n",
        "model.add(Dense(32))"
      ],
      "execution_count": 12,
      "outputs": []
    },
    {
      "cell_type": "code",
      "metadata": {
        "colab": {
          "base_uri": "https://localhost:8080/"
        },
        "id": "y9duiAv8i8qM",
        "outputId": "b8627ba1-ca01-41fe-fa1c-a011b989abd2"
      },
      "source": [
        "model.summary()"
      ],
      "execution_count": 13,
      "outputs": [
        {
          "output_type": "stream",
          "text": [
            "Model: \"sequential\"\n",
            "_________________________________________________________________\n",
            "Layer (type)                 Output Shape              Param #   \n",
            "=================================================================\n",
            "dense (Dense)                (None, 64)                704       \n",
            "_________________________________________________________________\n",
            "dense_1 (Dense)              (None, 32)                2080      \n",
            "_________________________________________________________________\n",
            "dense_2 (Dense)              (None, 32)                1056      \n",
            "=================================================================\n",
            "Total params: 3,840\n",
            "Trainable params: 3,840\n",
            "Non-trainable params: 0\n",
            "_________________________________________________________________\n"
          ],
          "name": "stdout"
        }
      ]
    },
    {
      "cell_type": "markdown",
      "metadata": {
        "id": "NzObZwic_D0i"
      },
      "source": [
        "#Lecture Notes"
      ]
    },
    {
      "cell_type": "code",
      "metadata": {
        "colab": {
          "base_uri": "https://localhost:8080/",
          "height": 86
        },
        "id": "HWLsSPu7_AdP",
        "outputId": "752c6100-725b-4b80-b52e-1d8dd9546303"
      },
      "source": [
        "# input layer - 10 inputs/features\n",
        "# 1st layer - 32 nodes/neurons\n",
        "# 2nd layer - 64 nodes\n",
        "# 3rd layer - 64 nodes\n",
        "n_input = 10\n",
        "m_1 = 32\n",
        "first_layer = (n_input + 1) * m_1\n",
        "display(first_layer)\n",
        "\n",
        "m_2 = 64\n",
        "second_layer = (m_1 + 1) * m_2\n",
        "display(second_layer)\n",
        "\n",
        "m_3 = 64\n",
        "third_layer = (m_2 + 1) * m_3\n",
        "display(third_layer)\n",
        "\n",
        "first_layer + second_layer + third_layer"
      ],
      "execution_count": 7,
      "outputs": [
        {
          "output_type": "display_data",
          "data": {
            "text/plain": [
              "352"
            ]
          },
          "metadata": {
            "tags": []
          }
        },
        {
          "output_type": "display_data",
          "data": {
            "text/plain": [
              "2112"
            ]
          },
          "metadata": {
            "tags": []
          }
        },
        {
          "output_type": "display_data",
          "data": {
            "text/plain": [
              "4160"
            ]
          },
          "metadata": {
            "tags": []
          }
        },
        {
          "output_type": "execute_result",
          "data": {
            "text/plain": [
              "6624"
            ]
          },
          "metadata": {
            "tags": []
          },
          "execution_count": 7
        }
      ]
    },
    {
      "cell_type": "code",
      "metadata": {
        "id": "PkVOny-SANdx"
      },
      "source": [
        ""
      ],
      "execution_count": null,
      "outputs": []
    }
  ]
}