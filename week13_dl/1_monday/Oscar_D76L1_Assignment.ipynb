{
  "nbformat": 4,
  "nbformat_minor": 0,
  "metadata": {
    "kernelspec": {
      "display_name": "Python 3",
      "language": "python",
      "name": "python3"
    },
    "language_info": {
      "codemirror_mode": {
        "name": "ipython",
        "version": 3
      },
      "file_extension": ".py",
      "mimetype": "text/x-python",
      "name": "python",
      "nbconvert_exporter": "python",
      "pygments_lexer": "ipython3",
      "version": "3.7.0"
    },
    "colab": {
      "name": "Oscar_D76L1_Assignment.ipynb",
      "provenance": [],
      "collapsed_sections": []
    }
  },
  "cells": [
    {
      "cell_type": "markdown",
      "metadata": {
        "id": "T-xOZ1mZ51O8"
      },
      "source": [
        "## Introduction to Deep Learning\n",
        "\n",
        "In this assignment, we will learn about deep learning and neural networks. Answer the questions below:"
      ]
    },
    {
      "cell_type": "markdown",
      "metadata": {
        "id": "TUBtirr_51O-"
      },
      "source": [
        "#### 1. How do neural networks differ from linear models?"
      ]
    },
    {
      "cell_type": "markdown",
      "metadata": {
        "id": "fGwHenMJ51O-"
      },
      "source": [
        "Neural networks work with multiple layers whereas linear regression models only have one layer. \n",
        "\n"
      ]
    },
    {
      "cell_type": "markdown",
      "metadata": {
        "id": "tJF-uwtC51O_"
      },
      "source": [
        "#### 2. Why do deep networks outperform shallow networks?"
      ]
    },
    {
      "cell_type": "markdown",
      "metadata": {
        "id": "JMwwlwBH51PA"
      },
      "source": [
        "\n",
        "Deep networks can discover complex patterns where each layer discovers patterns based off the previous layer(s).\n",
        "\n",
        "\n"
      ]
    },
    {
      "cell_type": "markdown",
      "metadata": {
        "id": "8asF2DFW51PA"
      },
      "source": [
        "#### 3. Why are dense layers called this way? What is a different name for them? Could we have a layer that is not dense?"
      ]
    },
    {
      "cell_type": "markdown",
      "metadata": {
        "id": "05hZS0ea51PB"
      },
      "source": [
        "Dense layers are one in which each output from one layer is completely connected to each input in another layer. Another name for dense layer is a fully connected layer.\n",
        "\n",
        "Non-dense layer are known as convoluted and recurrent layers\n",
        "\n"
      ]
    },
    {
      "cell_type": "markdown",
      "metadata": {
        "id": "FAPTWoY251PB"
      },
      "source": [
        "#### 4. Do neural networks tend to overfit less than other models? If so, how?"
      ]
    },
    {
      "cell_type": "markdown",
      "metadata": {
        "id": "KQs5_oNnetIx"
      },
      "source": [
        "Neural networks are also prone to overfitting. If anything, they overfit more. The objective is to optimize. We can use regularization (dropout) to prevent this."
      ]
    },
    {
      "cell_type": "markdown",
      "metadata": {
        "id": "S0CALsKQ51PE"
      },
      "source": [
        "#### 5. Will a model with more hidden layers always have a more accurate prediction? Why or why not?"
      ]
    },
    {
      "cell_type": "markdown",
      "metadata": {
        "id": "eJowuzZwexlV"
      },
      "source": [
        "Not necessarily. At some point, adding more layers does not add to accuracy. \n",
        "\n",
        "Each layer is reprocessing the previous layer's output."
      ]
    },
    {
      "cell_type": "markdown",
      "metadata": {
        "id": "2qxJk3Km51PG"
      },
      "source": [
        "#### 6. We generate a neural network for a dataset 10 features. If we have three layers, the first with 64 nodes and the second and third with 32 nodes, how many parameters do we need to estimate?\n",
        "\n"
      ]
    },
    {
      "cell_type": "code",
      "metadata": {
        "id": "kKbl9Xq251PH"
      },
      "source": [
        "# 10 inputs\n",
        "\n",
        "# 1st layer - 64 nodes\n",
        "# 2nd layer - 32 nodes\n",
        "# 3rd layer - 32 nodes\n",
        "\n",
        "# (number of inputs + 1) * number of nodes\n",
        "\n",
        "# 1st layer\n",
        "first = (10 + 1) * 64\n",
        "\n",
        "# 2nd layer\n",
        "second = (64 + 1) * 32\n",
        "\n",
        "# 3rd layer\n",
        "third = (32 + 1) * 32"
      ],
      "execution_count": 1,
      "outputs": []
    },
    {
      "cell_type": "code",
      "metadata": {
        "colab": {
          "base_uri": "https://localhost:8080/"
        },
        "id": "25TdEQGTkfRP",
        "outputId": "a0613edd-c7fa-4d90-e0ac-35999f888a34"
      },
      "source": [
        "total = first + second + third\n",
        "\n",
        "print(f'the total number of parameters needed are {total}')"
      ],
      "execution_count": 3,
      "outputs": [
        {
          "output_type": "stream",
          "text": [
            "the total number of parameters needed are 3840\n"
          ],
          "name": "stdout"
        }
      ]
    },
    {
      "cell_type": "code",
      "metadata": {
        "id": "NIqpUD6Ckhhs"
      },
      "source": [
        "from tensorflow.keras.models import Sequential\n",
        "from tensorflow.keras.layers import Dense\n",
        "\n",
        "model = Sequential()\n",
        "model.add(Dense(64, input_dim=10))\n",
        "model.add(Dense(32))\n",
        "model.add(Dense(32))"
      ],
      "execution_count": 5,
      "outputs": []
    },
    {
      "cell_type": "code",
      "metadata": {
        "colab": {
          "base_uri": "https://localhost:8080/"
        },
        "id": "C8J7dW48lE_k",
        "outputId": "4b02685b-f1e7-4b0b-a682-999ed01c4d8d"
      },
      "source": [
        "model.summary()"
      ],
      "execution_count": 6,
      "outputs": [
        {
          "output_type": "stream",
          "text": [
            "Model: \"sequential\"\n",
            "_________________________________________________________________\n",
            "Layer (type)                 Output Shape              Param #   \n",
            "=================================================================\n",
            "dense (Dense)                (None, 64)                704       \n",
            "_________________________________________________________________\n",
            "dense_1 (Dense)              (None, 32)                2080      \n",
            "_________________________________________________________________\n",
            "dense_2 (Dense)              (None, 32)                1056      \n",
            "=================================================================\n",
            "Total params: 3,840\n",
            "Trainable params: 3,840\n",
            "Non-trainable params: 0\n",
            "_________________________________________________________________\n"
          ],
          "name": "stdout"
        }
      ]
    },
    {
      "cell_type": "code",
      "metadata": {
        "id": "DY74DRnWlLNZ"
      },
      "source": [
        ""
      ],
      "execution_count": null,
      "outputs": []
    }
  ]
}