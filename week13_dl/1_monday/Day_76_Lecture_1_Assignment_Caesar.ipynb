{
  "nbformat": 4,
  "nbformat_minor": 0,
  "metadata": {
    "kernelspec": {
      "display_name": "Python 3",
      "language": "python",
      "name": "python3"
    },
    "language_info": {
      "codemirror_mode": {
        "name": "ipython",
        "version": 3
      },
      "file_extension": ".py",
      "mimetype": "text/x-python",
      "name": "python",
      "nbconvert_exporter": "python",
      "pygments_lexer": "ipython3",
      "version": "3.7.0"
    },
    "colab": {
      "name": "Day 76 Lecture 1 Assignment.ipynb",
      "provenance": [],
      "collapsed_sections": []
    }
  },
  "cells": [
    {
      "cell_type": "markdown",
      "metadata": {
        "id": "T-xOZ1mZ51O8"
      },
      "source": [
        "## Introduction to Deep Learning\n",
        "\n",
        "In this assignment, we will learn about deep learning and neural networks. Answer the questions below:"
      ]
    },
    {
      "cell_type": "markdown",
      "metadata": {
        "id": "TUBtirr_51O-"
      },
      "source": [
        "#### 1. How do neural networks differ from linear models?"
      ]
    },
    {
      "cell_type": "markdown",
      "metadata": {
        "id": "fGwHenMJ51O-"
      },
      "source": [
        "Neural networks have layers, allowing for self-learning process over a series of parallel models.\n",
        "\n"
      ]
    },
    {
      "cell_type": "markdown",
      "metadata": {
        "id": "tJF-uwtC51O_"
      },
      "source": [
        "#### 2. Why do deep networks outperform shallow networks?"
      ]
    },
    {
      "cell_type": "markdown",
      "metadata": {
        "id": "JMwwlwBH51PA"
      },
      "source": [
        "Deep networks allow the inputs be processed and reprocessed through different layers whereas shallow networks can only take a set of inputs to output a set of outputs without iteration."
      ]
    },
    {
      "cell_type": "markdown",
      "metadata": {
        "id": "8asF2DFW51PA"
      },
      "source": [
        "#### 3. Why are dense layers called this way? What is a different name for them? Could we have a layer that is not dense?"
      ]
    },
    {
      "cell_type": "markdown",
      "metadata": {
        "id": "05hZS0ea51PB"
      },
      "source": [
        "They are dense because the previous layers are connected to every node in the current layer."
      ]
    },
    {
      "cell_type": "markdown",
      "metadata": {
        "id": "FAPTWoY251PB"
      },
      "source": [
        "#### 4. Do neural networks tend to overfit less than other models? If so, how?"
      ]
    },
    {
      "cell_type": "markdown",
      "metadata": {
        "id": "-qxTVXyc51PC"
      },
      "source": [
        "It depends on how many iterations and the activation function too. Having too much epochs can cause underfitting while having less than ideal can cause overfitting."
      ]
    },
    {
      "cell_type": "markdown",
      "metadata": {
        "id": "S0CALsKQ51PE"
      },
      "source": [
        "#### 5. Will a model with more hidden layers always have a more accurate prediction? Why or why not?"
      ]
    },
    {
      "cell_type": "markdown",
      "metadata": {
        "id": "DzhstMjg51PF"
      },
      "source": [
        "Theoretically, no. The data would just be regurgitated over and over once you get past having 3 hidden layers. It also depends on data complexity."
      ]
    },
    {
      "cell_type": "markdown",
      "metadata": {
        "id": "2qxJk3Km51PG"
      },
      "source": [
        "#### 6. We generate a neural network for a dataset 10 features. If we have three layers, the first with 64 nodes and the second and third with 32 nodes, how many parameters do we need to estimate?"
      ]
    },
    {
      "cell_type": "markdown",
      "metadata": {
        "id": "kKbl9Xq251PH"
      },
      "source": [
        "3840"
      ]
    }
  ]
}