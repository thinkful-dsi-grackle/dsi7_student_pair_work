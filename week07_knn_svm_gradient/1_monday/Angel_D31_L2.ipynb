{
  "nbformat": 4,
  "nbformat_minor": 0,
  "metadata": {
    "kernelspec": {
      "display_name": "Python 3",
      "language": "python",
      "name": "python3"
    },
    "language_info": {
      "codemirror_mode": {
        "name": "ipython",
        "version": 3
      },
      "file_extension": ".py",
      "mimetype": "text/x-python",
      "name": "python",
      "nbconvert_exporter": "python",
      "pygments_lexer": "ipython3",
      "version": "3.7.0"
    },
    "colab": {
      "name": "Angel_D31_L2.ipynb",
      "provenance": [],
      "collapsed_sections": []
    }
  },
  "cells": [
    {
      "cell_type": "markdown",
      "metadata": {
        "id": "vliMc6Csnjac"
      },
      "source": [
        "## Day 31 Lecture 2 Assignment\n",
        "\n",
        "In this assignment, we will learn about the weighting and scaling with the K nearest neighbor algorithm. We will use the wine quality dataset loaded below and analyze the model generated for this dataset."
      ]
    },
    {
      "cell_type": "code",
      "metadata": {
        "id": "6RVluDSdnjad"
      },
      "source": [
        "%matplotlib inline\n",
        "\n",
        "import math\n",
        "\n",
        "import matplotlib.pyplot as plt\n",
        "import numpy as np\n",
        "import pandas as pd"
      ],
      "execution_count": 1,
      "outputs": []
    },
    {
      "cell_type": "code",
      "metadata": {
        "id": "fovh3n2tnjaf",
        "outputId": "24927a12-7e1c-4249-fd6f-7e4bd71178fa",
        "colab": {
          "base_uri": "https://localhost:8080/",
          "height": 222
        }
      },
      "source": [
        "wine = pd.read_csv('https://raw.githubusercontent.com/Thinkful-Ed/data-science-lectures/master/wineQualityReds.csv', index_col=0)\n",
        "wine.head()"
      ],
      "execution_count": 2,
      "outputs": [
        {
          "output_type": "execute_result",
          "data": {
            "text/html": [
              "<div>\n",
              "<style scoped>\n",
              "    .dataframe tbody tr th:only-of-type {\n",
              "        vertical-align: middle;\n",
              "    }\n",
              "\n",
              "    .dataframe tbody tr th {\n",
              "        vertical-align: top;\n",
              "    }\n",
              "\n",
              "    .dataframe thead th {\n",
              "        text-align: right;\n",
              "    }\n",
              "</style>\n",
              "<table border=\"1\" class=\"dataframe\">\n",
              "  <thead>\n",
              "    <tr style=\"text-align: right;\">\n",
              "      <th></th>\n",
              "      <th>fixed.acidity</th>\n",
              "      <th>volatile.acidity</th>\n",
              "      <th>citric.acid</th>\n",
              "      <th>residual.sugar</th>\n",
              "      <th>chlorides</th>\n",
              "      <th>free.sulfur.dioxide</th>\n",
              "      <th>total.sulfur.dioxide</th>\n",
              "      <th>density</th>\n",
              "      <th>pH</th>\n",
              "      <th>sulphates</th>\n",
              "      <th>alcohol</th>\n",
              "      <th>quality</th>\n",
              "    </tr>\n",
              "  </thead>\n",
              "  <tbody>\n",
              "    <tr>\n",
              "      <th>1</th>\n",
              "      <td>7.4</td>\n",
              "      <td>0.70</td>\n",
              "      <td>0.00</td>\n",
              "      <td>1.9</td>\n",
              "      <td>0.076</td>\n",
              "      <td>11.0</td>\n",
              "      <td>34.0</td>\n",
              "      <td>0.9978</td>\n",
              "      <td>3.51</td>\n",
              "      <td>0.56</td>\n",
              "      <td>9.4</td>\n",
              "      <td>5</td>\n",
              "    </tr>\n",
              "    <tr>\n",
              "      <th>2</th>\n",
              "      <td>7.8</td>\n",
              "      <td>0.88</td>\n",
              "      <td>0.00</td>\n",
              "      <td>2.6</td>\n",
              "      <td>0.098</td>\n",
              "      <td>25.0</td>\n",
              "      <td>67.0</td>\n",
              "      <td>0.9968</td>\n",
              "      <td>3.20</td>\n",
              "      <td>0.68</td>\n",
              "      <td>9.8</td>\n",
              "      <td>5</td>\n",
              "    </tr>\n",
              "    <tr>\n",
              "      <th>3</th>\n",
              "      <td>7.8</td>\n",
              "      <td>0.76</td>\n",
              "      <td>0.04</td>\n",
              "      <td>2.3</td>\n",
              "      <td>0.092</td>\n",
              "      <td>15.0</td>\n",
              "      <td>54.0</td>\n",
              "      <td>0.9970</td>\n",
              "      <td>3.26</td>\n",
              "      <td>0.65</td>\n",
              "      <td>9.8</td>\n",
              "      <td>5</td>\n",
              "    </tr>\n",
              "    <tr>\n",
              "      <th>4</th>\n",
              "      <td>11.2</td>\n",
              "      <td>0.28</td>\n",
              "      <td>0.56</td>\n",
              "      <td>1.9</td>\n",
              "      <td>0.075</td>\n",
              "      <td>17.0</td>\n",
              "      <td>60.0</td>\n",
              "      <td>0.9980</td>\n",
              "      <td>3.16</td>\n",
              "      <td>0.58</td>\n",
              "      <td>9.8</td>\n",
              "      <td>6</td>\n",
              "    </tr>\n",
              "    <tr>\n",
              "      <th>5</th>\n",
              "      <td>7.4</td>\n",
              "      <td>0.70</td>\n",
              "      <td>0.00</td>\n",
              "      <td>1.9</td>\n",
              "      <td>0.076</td>\n",
              "      <td>11.0</td>\n",
              "      <td>34.0</td>\n",
              "      <td>0.9978</td>\n",
              "      <td>3.51</td>\n",
              "      <td>0.56</td>\n",
              "      <td>9.4</td>\n",
              "      <td>5</td>\n",
              "    </tr>\n",
              "  </tbody>\n",
              "</table>\n",
              "</div>"
            ],
            "text/plain": [
              "   fixed.acidity  volatile.acidity  citric.acid  ...  sulphates  alcohol  quality\n",
              "1            7.4              0.70         0.00  ...       0.56      9.4        5\n",
              "2            7.8              0.88         0.00  ...       0.68      9.8        5\n",
              "3            7.8              0.76         0.04  ...       0.65      9.8        5\n",
              "4           11.2              0.28         0.56  ...       0.58      9.8        6\n",
              "5            7.4              0.70         0.00  ...       0.56      9.4        5\n",
              "\n",
              "[5 rows x 12 columns]"
            ]
          },
          "metadata": {
            "tags": []
          },
          "execution_count": 2
        }
      ]
    },
    {
      "cell_type": "markdown",
      "metadata": {
        "id": "1Lo-pnPdnjah"
      },
      "source": [
        "Recall that we need to check for missing data."
      ]
    },
    {
      "cell_type": "code",
      "metadata": {
        "id": "sYRfJnELSb_n",
        "outputId": "965d4b52-7a33-41d0-81cd-3e02f9e98835",
        "colab": {
          "base_uri": "https://localhost:8080/",
          "height": 347
        }
      },
      "source": [
        "wine.info()"
      ],
      "execution_count": 3,
      "outputs": [
        {
          "output_type": "stream",
          "text": [
            "<class 'pandas.core.frame.DataFrame'>\n",
            "Int64Index: 1599 entries, 1 to 1599\n",
            "Data columns (total 12 columns):\n",
            " #   Column                Non-Null Count  Dtype  \n",
            "---  ------                --------------  -----  \n",
            " 0   fixed.acidity         1599 non-null   float64\n",
            " 1   volatile.acidity      1599 non-null   float64\n",
            " 2   citric.acid           1599 non-null   float64\n",
            " 3   residual.sugar        1599 non-null   float64\n",
            " 4   chlorides             1599 non-null   float64\n",
            " 5   free.sulfur.dioxide   1599 non-null   float64\n",
            " 6   total.sulfur.dioxide  1599 non-null   float64\n",
            " 7   density               1599 non-null   float64\n",
            " 8   pH                    1599 non-null   float64\n",
            " 9   sulphates             1599 non-null   float64\n",
            " 10  alcohol               1599 non-null   float64\n",
            " 11  quality               1599 non-null   int64  \n",
            "dtypes: float64(11), int64(1)\n",
            "memory usage: 162.4 KB\n"
          ],
          "name": "stdout"
        }
      ]
    },
    {
      "cell_type": "markdown",
      "metadata": {
        "id": "XomjgOAv8zRo"
      },
      "source": [
        "Convert quality to a binary variable, with the dividing line between 5 and 6."
      ]
    },
    {
      "cell_type": "code",
      "metadata": {
        "id": "e5Ezw-EuSzl7",
        "outputId": "13175b75-909a-49a1-e364-08c65a4f8045",
        "colab": {
          "base_uri": "https://localhost:8080/",
          "height": 139
        }
      },
      "source": [
        "wine.quality.value_counts()"
      ],
      "execution_count": 4,
      "outputs": [
        {
          "output_type": "execute_result",
          "data": {
            "text/plain": [
              "5    681\n",
              "6    638\n",
              "7    199\n",
              "4     53\n",
              "8     18\n",
              "3     10\n",
              "Name: quality, dtype: int64"
            ]
          },
          "metadata": {
            "tags": []
          },
          "execution_count": 4
        }
      ]
    },
    {
      "cell_type": "code",
      "metadata": {
        "id": "IvecpkSF8zcB",
        "outputId": "0754657f-06cb-4b9e-adb8-cef6d24a9319",
        "colab": {
          "base_uri": "https://localhost:8080/",
          "height": 69
        }
      },
      "source": [
        "# answer below\n",
        "wine['High_Quality'] = np.where(wine['quality'] >= 5, 1, 0)\n",
        "clean_wine = wine.drop(columns='quality')\n",
        "clean_wine.head(3)\n",
        "clean_wine.High_Quality.value_counts()"
      ],
      "execution_count": 5,
      "outputs": [
        {
          "output_type": "execute_result",
          "data": {
            "text/plain": [
              "1    1536\n",
              "0      63\n",
              "Name: High_Quality, dtype: int64"
            ]
          },
          "metadata": {
            "tags": []
          },
          "execution_count": 5
        }
      ]
    },
    {
      "cell_type": "markdown",
      "metadata": {
        "id": "YErN51WPnjal"
      },
      "source": [
        "Create a train test split with 20% of the data in the test subsample."
      ]
    },
    {
      "cell_type": "code",
      "metadata": {
        "id": "QgDv0Ab7njaj"
      },
      "source": [
        "# answer below:\n",
        "from sklearn.model_selection import train_test_split\n",
        "\n",
        "y = clean_wine.High_Quality\n",
        "X = clean_wine.drop(columns='High_Quality')\n",
        "\n",
        "X_train, X_test, y_train, y_test = train_test_split(X, y, test_size= 0.20)"
      ],
      "execution_count": 6,
      "outputs": []
    },
    {
      "cell_type": "markdown",
      "metadata": {
        "id": "7bdvaPDTnjaj"
      },
      "source": [
        "Scale only the independent variables using the minmax scaler."
      ]
    },
    {
      "cell_type": "code",
      "metadata": {
        "id": "Uh6ruAjbnjal"
      },
      "source": [
        "# answer below:\n",
        "from sklearn.preprocessing import MinMaxScaler\n",
        "\n",
        "scaler = MinMaxScaler()\n",
        "\n",
        "X_train_scaled = scaler.fit_transform(X_train)\n",
        "X_test_scaled = scaler.fit_transform(X_test)"
      ],
      "execution_count": 7,
      "outputs": []
    },
    {
      "cell_type": "markdown",
      "metadata": {
        "id": "OP3laD_Nnjan"
      },
      "source": [
        "Create a KNN model with k=5 and report the accuracy scores. Then make a second model using the scaled data and compare your results."
      ]
    },
    {
      "cell_type": "code",
      "metadata": {
        "id": "6JBzmK3_njan",
        "outputId": "d0d64132-93df-4efe-ca31-c1651ef71721",
        "colab": {
          "base_uri": "https://localhost:8080/",
          "height": 52
        }
      },
      "source": [
        "# answer below:\n",
        "from sklearn.neighbors import KNeighborsClassifier\n",
        "\n",
        "neighbors = KNeighborsClassifier(n_neighbors= 5)\n",
        "\n",
        "neighbors.fit(X_train, y_train)\n",
        "\n",
        "print('Train Score: {:.4f}'.format(neighbors.score(X_train, y_train)))\n",
        "print('Test Score: {:.4f}'.format(neighbors.score(X_test, y_test)))"
      ],
      "execution_count": 8,
      "outputs": [
        {
          "output_type": "stream",
          "text": [
            "Train Score: 0.9672\n",
            "Test Score: 0.9437\n"
          ],
          "name": "stdout"
        }
      ]
    },
    {
      "cell_type": "code",
      "metadata": {
        "id": "TLDpHAGXXqpB",
        "outputId": "1233c14b-313a-446e-dd7e-bc13a21b33e0",
        "colab": {
          "base_uri": "https://localhost:8080/",
          "height": 52
        }
      },
      "source": [
        "neighbors.fit(X_train_scaled, y_train)\n",
        "\n",
        "print('Train Score: {:.4f}'.format(neighbors.score(X_train_scaled, y_train)))\n",
        "print('Test Score: {:.4f}'.format(neighbors.score(X_test_scaled, y_test)))\n",
        "\n",
        "# When the sets are scaled, we don't see as much underfitting"
      ],
      "execution_count": 9,
      "outputs": [
        {
          "output_type": "stream",
          "text": [
            "Train Score: 0.9664\n",
            "Test Score: 0.9500\n"
          ],
          "name": "stdout"
        }
      ]
    },
    {
      "cell_type": "markdown",
      "metadata": {
        "id": "Hxx2nBnEnjap"
      },
      "source": [
        "When generating a KNN model, we can use the weighted model by setting `weights='distance'`. We can also write our own custom weights function.\n",
        "\n",
        "Write a custom weight function that assigns the weight of 1/sqrt(distance) and use this function in your model. Report the accuracy score.\n",
        "\n",
        "Hint: Use the `_get_weights` function in scikit learn as a resource. The code is <a href=\"https://github.com/scikit-learn/scikit-learn/blob/fdbaa58acbead5a254f2e6d597dc1ab3b947f4c6/sklearn/neighbors/base.py#L63\" title=\"_get_weights\">here</a>."
      ]
    },
    {
      "cell_type": "code",
      "metadata": {
        "id": "G0KE1nDanjap",
        "outputId": "29623ac3-1cbc-47e9-90ed-9cf9a28fb602",
        "colab": {
          "base_uri": "https://localhost:8080/",
          "height": 52
        }
      },
      "source": [
        "# answer below:\n",
        "# weight of 1/sqrt(distance)\n",
        "\n",
        "def new_weight(dist):\n",
        "  with np.errstate(divide='ignore'):\n",
        "    dist = 1. / np.sqrt(dist)\n",
        "  inf_mask = np.isinf(dist)\n",
        "  inf_row = np.any(inf_mask, axis=1)\n",
        "  dist[inf_row] = inf_mask[inf_row]\n",
        "  return dist\n",
        "\n",
        "neighbors = KNeighborsClassifier(n_neighbors= 5, weights=new_weight)\n",
        "\n",
        "neighbors.fit(X_train, y_train)\n",
        "\n",
        "print('Train Score: {:.4f}'.format(neighbors.score(X_train, y_train)))\n",
        "print('Test Score: {:.4f}'.format(neighbors.score(X_test, y_test)))"
      ],
      "execution_count": 10,
      "outputs": [
        {
          "output_type": "stream",
          "text": [
            "Train Score: 1.0000\n",
            "Test Score: 0.9437\n"
          ],
          "name": "stdout"
        }
      ]
    },
    {
      "cell_type": "code",
      "metadata": {
        "id": "Q3aKxIqHjdvT",
        "outputId": "068e4db0-e70c-49ce-bae2-49155b996fcb",
        "colab": {
          "base_uri": "https://localhost:8080/",
          "height": 52
        }
      },
      "source": [
        "neighbors = KNeighborsClassifier(n_neighbors= 5, weights=new_weight)\n",
        "\n",
        "neighbors.fit(X_train_scaled, y_train)\n",
        "\n",
        "print('Train Score: {:.4f}'.format(neighbors.score(X_train_scaled, y_train)))\n",
        "print('Test Score: {:.4f}'.format(neighbors.score(X_test_scaled, y_test)))"
      ],
      "execution_count": 11,
      "outputs": [
        {
          "output_type": "stream",
          "text": [
            "Train Score: 1.0000\n",
            "Test Score: 0.9500\n"
          ],
          "name": "stdout"
        }
      ]
    },
    {
      "cell_type": "code",
      "metadata": {
        "id": "k4IO-RSDj5Mr"
      },
      "source": [
        ""
      ],
      "execution_count": 11,
      "outputs": []
    }
  ]
}