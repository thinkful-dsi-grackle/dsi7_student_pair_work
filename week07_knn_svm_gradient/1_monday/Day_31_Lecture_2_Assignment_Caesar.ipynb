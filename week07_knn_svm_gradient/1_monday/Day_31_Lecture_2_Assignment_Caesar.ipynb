{
  "nbformat": 4,
  "nbformat_minor": 0,
  "metadata": {
    "kernelspec": {
      "display_name": "Python 3",
      "language": "python",
      "name": "python3"
    },
    "language_info": {
      "codemirror_mode": {
        "name": "ipython",
        "version": 3
      },
      "file_extension": ".py",
      "mimetype": "text/x-python",
      "name": "python",
      "nbconvert_exporter": "python",
      "pygments_lexer": "ipython3",
      "version": "3.7.0"
    },
    "colab": {
      "name": "Day 31 Lecture 2 Assignment_Caesar.ipynb",
      "provenance": [],
      "collapsed_sections": []
    }
  },
  "cells": [
    {
      "cell_type": "markdown",
      "metadata": {
        "id": "vliMc6Csnjac"
      },
      "source": [
        "## Day 31 Lecture 2 Assignment\n",
        "\n",
        "In this assignment, we will learn about the weighting and scaling with the K nearest neighbor algorithm. We will use the wine quality dataset loaded below and analyze the model generated for this dataset."
      ]
    },
    {
      "cell_type": "code",
      "metadata": {
        "id": "6RVluDSdnjad"
      },
      "source": [
        "%matplotlib inline\n",
        "\n",
        "import math\n",
        "import matplotlib.pyplot as plt\n",
        "import numpy as np\n",
        "import pandas as pd\n",
        "\n",
        "from sklearn.preprocessing import MinMaxScaler\n",
        "from sklearn.neighbors import KNeighborsClassifier\n",
        "from sklearn.model_selection import train_test_split"
      ],
      "execution_count": 16,
      "outputs": []
    },
    {
      "cell_type": "code",
      "metadata": {
        "id": "fovh3n2tnjaf",
        "outputId": "02fb533d-d701-46c8-e9fc-322ab96bdbcb",
        "colab": {
          "base_uri": "https://localhost:8080/",
          "height": 198
        }
      },
      "source": [
        "wine = pd.read_csv('https://raw.githubusercontent.com/Thinkful-Ed/data-science-lectures/master/wineQualityReds.csv', index_col=0)\n",
        "wine.head()"
      ],
      "execution_count": 2,
      "outputs": [
        {
          "output_type": "execute_result",
          "data": {
            "text/html": [
              "<div>\n",
              "<style scoped>\n",
              "    .dataframe tbody tr th:only-of-type {\n",
              "        vertical-align: middle;\n",
              "    }\n",
              "\n",
              "    .dataframe tbody tr th {\n",
              "        vertical-align: top;\n",
              "    }\n",
              "\n",
              "    .dataframe thead th {\n",
              "        text-align: right;\n",
              "    }\n",
              "</style>\n",
              "<table border=\"1\" class=\"dataframe\">\n",
              "  <thead>\n",
              "    <tr style=\"text-align: right;\">\n",
              "      <th></th>\n",
              "      <th>fixed.acidity</th>\n",
              "      <th>volatile.acidity</th>\n",
              "      <th>citric.acid</th>\n",
              "      <th>residual.sugar</th>\n",
              "      <th>chlorides</th>\n",
              "      <th>free.sulfur.dioxide</th>\n",
              "      <th>total.sulfur.dioxide</th>\n",
              "      <th>density</th>\n",
              "      <th>pH</th>\n",
              "      <th>sulphates</th>\n",
              "      <th>alcohol</th>\n",
              "      <th>quality</th>\n",
              "    </tr>\n",
              "  </thead>\n",
              "  <tbody>\n",
              "    <tr>\n",
              "      <th>1</th>\n",
              "      <td>7.4</td>\n",
              "      <td>0.70</td>\n",
              "      <td>0.00</td>\n",
              "      <td>1.9</td>\n",
              "      <td>0.076</td>\n",
              "      <td>11.0</td>\n",
              "      <td>34.0</td>\n",
              "      <td>0.9978</td>\n",
              "      <td>3.51</td>\n",
              "      <td>0.56</td>\n",
              "      <td>9.4</td>\n",
              "      <td>5</td>\n",
              "    </tr>\n",
              "    <tr>\n",
              "      <th>2</th>\n",
              "      <td>7.8</td>\n",
              "      <td>0.88</td>\n",
              "      <td>0.00</td>\n",
              "      <td>2.6</td>\n",
              "      <td>0.098</td>\n",
              "      <td>25.0</td>\n",
              "      <td>67.0</td>\n",
              "      <td>0.9968</td>\n",
              "      <td>3.20</td>\n",
              "      <td>0.68</td>\n",
              "      <td>9.8</td>\n",
              "      <td>5</td>\n",
              "    </tr>\n",
              "    <tr>\n",
              "      <th>3</th>\n",
              "      <td>7.8</td>\n",
              "      <td>0.76</td>\n",
              "      <td>0.04</td>\n",
              "      <td>2.3</td>\n",
              "      <td>0.092</td>\n",
              "      <td>15.0</td>\n",
              "      <td>54.0</td>\n",
              "      <td>0.9970</td>\n",
              "      <td>3.26</td>\n",
              "      <td>0.65</td>\n",
              "      <td>9.8</td>\n",
              "      <td>5</td>\n",
              "    </tr>\n",
              "    <tr>\n",
              "      <th>4</th>\n",
              "      <td>11.2</td>\n",
              "      <td>0.28</td>\n",
              "      <td>0.56</td>\n",
              "      <td>1.9</td>\n",
              "      <td>0.075</td>\n",
              "      <td>17.0</td>\n",
              "      <td>60.0</td>\n",
              "      <td>0.9980</td>\n",
              "      <td>3.16</td>\n",
              "      <td>0.58</td>\n",
              "      <td>9.8</td>\n",
              "      <td>6</td>\n",
              "    </tr>\n",
              "    <tr>\n",
              "      <th>5</th>\n",
              "      <td>7.4</td>\n",
              "      <td>0.70</td>\n",
              "      <td>0.00</td>\n",
              "      <td>1.9</td>\n",
              "      <td>0.076</td>\n",
              "      <td>11.0</td>\n",
              "      <td>34.0</td>\n",
              "      <td>0.9978</td>\n",
              "      <td>3.51</td>\n",
              "      <td>0.56</td>\n",
              "      <td>9.4</td>\n",
              "      <td>5</td>\n",
              "    </tr>\n",
              "  </tbody>\n",
              "</table>\n",
              "</div>"
            ],
            "text/plain": [
              "   fixed.acidity  volatile.acidity  citric.acid  ...  sulphates  alcohol  quality\n",
              "1            7.4              0.70         0.00  ...       0.56      9.4        5\n",
              "2            7.8              0.88         0.00  ...       0.68      9.8        5\n",
              "3            7.8              0.76         0.04  ...       0.65      9.8        5\n",
              "4           11.2              0.28         0.56  ...       0.58      9.8        6\n",
              "5            7.4              0.70         0.00  ...       0.56      9.4        5\n",
              "\n",
              "[5 rows x 12 columns]"
            ]
          },
          "metadata": {
            "tags": []
          },
          "execution_count": 2
        }
      ]
    },
    {
      "cell_type": "markdown",
      "metadata": {
        "id": "1Lo-pnPdnjah"
      },
      "source": [
        "Recall that we need to check for missing data."
      ]
    },
    {
      "cell_type": "code",
      "metadata": {
        "id": "ERbtxOpvnjah",
        "outputId": "1d8c866d-7861-4d00-c705-a7327f089c26",
        "colab": {
          "base_uri": "https://localhost:8080/",
          "height": 254
        }
      },
      "source": [
        "# answer below:\n",
        "wine.isnull().mean()"
      ],
      "execution_count": 3,
      "outputs": [
        {
          "output_type": "execute_result",
          "data": {
            "text/plain": [
              "fixed.acidity           0.0\n",
              "volatile.acidity        0.0\n",
              "citric.acid             0.0\n",
              "residual.sugar          0.0\n",
              "chlorides               0.0\n",
              "free.sulfur.dioxide     0.0\n",
              "total.sulfur.dioxide    0.0\n",
              "density                 0.0\n",
              "pH                      0.0\n",
              "sulphates               0.0\n",
              "alcohol                 0.0\n",
              "quality                 0.0\n",
              "dtype: float64"
            ]
          },
          "metadata": {
            "tags": []
          },
          "execution_count": 3
        }
      ]
    },
    {
      "cell_type": "code",
      "metadata": {
        "id": "ZeOsLrc1Al-K",
        "outputId": "28f74812-3788-46d2-b566-6eb730d08e12",
        "colab": {
          "base_uri": "https://localhost:8080/",
          "height": 145
        }
      },
      "source": [
        "wine.quality.value_counts()"
      ],
      "execution_count": 7,
      "outputs": [
        {
          "output_type": "execute_result",
          "data": {
            "text/plain": [
              "5    681\n",
              "6    638\n",
              "7    199\n",
              "4     53\n",
              "8     18\n",
              "3     10\n",
              "Name: quality, dtype: int64"
            ]
          },
          "metadata": {
            "tags": []
          },
          "execution_count": 7
        }
      ]
    },
    {
      "cell_type": "markdown",
      "metadata": {
        "id": "XomjgOAv8zRo"
      },
      "source": [
        "Convert quality to a binary variable, with the dividing line between 5 and 6."
      ]
    },
    {
      "cell_type": "code",
      "metadata": {
        "id": "IvecpkSF8zcB"
      },
      "source": [
        "# answer below\n",
        "bin = [0,5,8]\n",
        "category = pd.cut(wine.quality, bin, labels=[0, 1])\n",
        "category = category.to_frame()\n",
        "category.columns = ['qual_above5']\n",
        "wine_ = pd.concat([wine.drop('quality', axis=1), category], axis=1)"
      ],
      "execution_count": 12,
      "outputs": []
    },
    {
      "cell_type": "code",
      "metadata": {
        "id": "7yTTnneSBans",
        "outputId": "320155b0-58a0-4bbf-84be-3864eb72f78d",
        "colab": {
          "base_uri": "https://localhost:8080/",
          "height": 198
        }
      },
      "source": [
        "wine_.head()"
      ],
      "execution_count": 13,
      "outputs": [
        {
          "output_type": "execute_result",
          "data": {
            "text/html": [
              "<div>\n",
              "<style scoped>\n",
              "    .dataframe tbody tr th:only-of-type {\n",
              "        vertical-align: middle;\n",
              "    }\n",
              "\n",
              "    .dataframe tbody tr th {\n",
              "        vertical-align: top;\n",
              "    }\n",
              "\n",
              "    .dataframe thead th {\n",
              "        text-align: right;\n",
              "    }\n",
              "</style>\n",
              "<table border=\"1\" class=\"dataframe\">\n",
              "  <thead>\n",
              "    <tr style=\"text-align: right;\">\n",
              "      <th></th>\n",
              "      <th>fixed.acidity</th>\n",
              "      <th>volatile.acidity</th>\n",
              "      <th>citric.acid</th>\n",
              "      <th>residual.sugar</th>\n",
              "      <th>chlorides</th>\n",
              "      <th>free.sulfur.dioxide</th>\n",
              "      <th>total.sulfur.dioxide</th>\n",
              "      <th>density</th>\n",
              "      <th>pH</th>\n",
              "      <th>sulphates</th>\n",
              "      <th>alcohol</th>\n",
              "      <th>qual_above5</th>\n",
              "    </tr>\n",
              "  </thead>\n",
              "  <tbody>\n",
              "    <tr>\n",
              "      <th>1</th>\n",
              "      <td>7.4</td>\n",
              "      <td>0.70</td>\n",
              "      <td>0.00</td>\n",
              "      <td>1.9</td>\n",
              "      <td>0.076</td>\n",
              "      <td>11.0</td>\n",
              "      <td>34.0</td>\n",
              "      <td>0.9978</td>\n",
              "      <td>3.51</td>\n",
              "      <td>0.56</td>\n",
              "      <td>9.4</td>\n",
              "      <td>0</td>\n",
              "    </tr>\n",
              "    <tr>\n",
              "      <th>2</th>\n",
              "      <td>7.8</td>\n",
              "      <td>0.88</td>\n",
              "      <td>0.00</td>\n",
              "      <td>2.6</td>\n",
              "      <td>0.098</td>\n",
              "      <td>25.0</td>\n",
              "      <td>67.0</td>\n",
              "      <td>0.9968</td>\n",
              "      <td>3.20</td>\n",
              "      <td>0.68</td>\n",
              "      <td>9.8</td>\n",
              "      <td>0</td>\n",
              "    </tr>\n",
              "    <tr>\n",
              "      <th>3</th>\n",
              "      <td>7.8</td>\n",
              "      <td>0.76</td>\n",
              "      <td>0.04</td>\n",
              "      <td>2.3</td>\n",
              "      <td>0.092</td>\n",
              "      <td>15.0</td>\n",
              "      <td>54.0</td>\n",
              "      <td>0.9970</td>\n",
              "      <td>3.26</td>\n",
              "      <td>0.65</td>\n",
              "      <td>9.8</td>\n",
              "      <td>0</td>\n",
              "    </tr>\n",
              "    <tr>\n",
              "      <th>4</th>\n",
              "      <td>11.2</td>\n",
              "      <td>0.28</td>\n",
              "      <td>0.56</td>\n",
              "      <td>1.9</td>\n",
              "      <td>0.075</td>\n",
              "      <td>17.0</td>\n",
              "      <td>60.0</td>\n",
              "      <td>0.9980</td>\n",
              "      <td>3.16</td>\n",
              "      <td>0.58</td>\n",
              "      <td>9.8</td>\n",
              "      <td>1</td>\n",
              "    </tr>\n",
              "    <tr>\n",
              "      <th>5</th>\n",
              "      <td>7.4</td>\n",
              "      <td>0.70</td>\n",
              "      <td>0.00</td>\n",
              "      <td>1.9</td>\n",
              "      <td>0.076</td>\n",
              "      <td>11.0</td>\n",
              "      <td>34.0</td>\n",
              "      <td>0.9978</td>\n",
              "      <td>3.51</td>\n",
              "      <td>0.56</td>\n",
              "      <td>9.4</td>\n",
              "      <td>0</td>\n",
              "    </tr>\n",
              "  </tbody>\n",
              "</table>\n",
              "</div>"
            ],
            "text/plain": [
              "   fixed.acidity  volatile.acidity  citric.acid  ...  sulphates  alcohol  qual_above5\n",
              "1            7.4              0.70         0.00  ...       0.56      9.4            0\n",
              "2            7.8              0.88         0.00  ...       0.68      9.8            0\n",
              "3            7.8              0.76         0.04  ...       0.65      9.8            0\n",
              "4           11.2              0.28         0.56  ...       0.58      9.8            1\n",
              "5            7.4              0.70         0.00  ...       0.56      9.4            0\n",
              "\n",
              "[5 rows x 12 columns]"
            ]
          },
          "metadata": {
            "tags": []
          },
          "execution_count": 13
        }
      ]
    },
    {
      "cell_type": "markdown",
      "metadata": {
        "id": "YErN51WPnjal"
      },
      "source": [
        "Create a train test split with 20% of the data in the test subsample."
      ]
    },
    {
      "cell_type": "code",
      "metadata": {
        "id": "QgDv0Ab7njaj"
      },
      "source": [
        "# answer below:\n",
        "X = wine_.drop('qual_above5', axis=1)\n",
        "Y = wine_.qual_above5\n",
        "\n",
        "X_train, X_test, y_train, y_test = train_test_split(X, Y, test_size=0.2)"
      ],
      "execution_count": 17,
      "outputs": []
    },
    {
      "cell_type": "markdown",
      "metadata": {
        "id": "7bdvaPDTnjaj"
      },
      "source": [
        "Scale only the independent variables using the minmax scaler."
      ]
    },
    {
      "cell_type": "code",
      "metadata": {
        "id": "Uh6ruAjbnjal"
      },
      "source": [
        "# answer below:\n",
        "scale = MinMaxScaler()\n",
        "\n",
        "X_train_ = scale.fit_transform(X_train)\n",
        "X_test_ = scale.transform(X_test)"
      ],
      "execution_count": 19,
      "outputs": []
    },
    {
      "cell_type": "markdown",
      "metadata": {
        "id": "OP3laD_Nnjan"
      },
      "source": [
        "Create a KNN model with k=5 and report the accuracy scores. Then make a second model using the scaled data and compare your results."
      ]
    },
    {
      "cell_type": "code",
      "metadata": {
        "id": "6JBzmK3_njan",
        "outputId": "caf03243-a2f3-4de9-dacf-8e7f74fbe452",
        "colab": {
          "base_uri": "https://localhost:8080/",
          "height": 54
        }
      },
      "source": [
        "# answer below:\n",
        "knn = KNeighborsClassifier(n_neighbors=5)\n",
        "knn.fit(X_train, y_train)\n",
        "\n",
        "knn_ = KNeighborsClassifier(n_neighbors=5)\n",
        "knn_.fit(X_train_, y_train)\n",
        "\n",
        "print(f'Non-scaled KNN accuracy: {knn.score(X_test, y_test)}')\n",
        "print(f'Scaled KNN accuracy: {knn_.score(X_test_, y_test)}')"
      ],
      "execution_count": 20,
      "outputs": [
        {
          "output_type": "stream",
          "text": [
            "Non-scaled KNN accuracy: 0.625\n",
            "Scaled KNN accuracy: 0.675\n"
          ],
          "name": "stdout"
        }
      ]
    },
    {
      "cell_type": "markdown",
      "metadata": {
        "id": "Hxx2nBnEnjap"
      },
      "source": [
        "When generating a KNN model, we can use the weighted model by setting `weights='distance'`. We can also write our own custom weights function.\n",
        "\n",
        "Write a custom weight function that assigns the weight of 1/sqrt(distance) and use this function in your model. Report the accuracy score.\n",
        "\n",
        "Hint: Use the `_get_weights` function in scikit learn as a resource. The code is <a href=\"https://github.com/scikit-learn/scikit-learn/blob/fdbaa58acbead5a254f2e6d597dc1ab3b947f4c6/sklearn/neighbors/base.py#L63\" title=\"_get_weights\">here</a>."
      ]
    },
    {
      "cell_type": "code",
      "metadata": {
        "id": "S3YLU1c5njaq"
      },
      "source": [
        "def _set_weight(dist):\n",
        "    if dist.dtype is np.dtype(object):\n",
        "        for point_dist_i, point_dist in enumerate(dist):\n",
        "            if hasattr(point_dist, '__contains__') and 0. in point_dist:\n",
        "                dist[point_dist_i] = point_dist == 0.\n",
        "            else:\n",
        "                dist[point_dist_i] = 1. / np.sqrt(point_dist)\n",
        "    else:\n",
        "        with np.errstate(divide='ignore'):\n",
        "            dist = 1. / np.sqrt(dist)\n",
        "        inf_mask = np.isinf(dist)\n",
        "        inf_row = np.any(inf_mask, axis=1)\n",
        "        dist[inf_row] = inf_mask[inf_row]\n",
        "    return dist"
      ],
      "execution_count": 34,
      "outputs": []
    },
    {
      "cell_type": "code",
      "metadata": {
        "id": "eExsEiA-njas"
      },
      "source": [
        "n_weight = _set_weight(X_train_)"
      ],
      "execution_count": 35,
      "outputs": []
    },
    {
      "cell_type": "code",
      "metadata": {
        "id": "8lOnLRVUE9U6",
        "outputId": "6250edd5-759d-4443-a401-4b9987f89eb6",
        "colab": {
          "base_uri": "https://localhost:8080/",
          "height": 54
        }
      },
      "source": [
        "ideal_k = np.round(np.sqrt(len(wine_)))\n",
        "print(f'Ideal K: {ideal_k}\\n')"
      ],
      "execution_count": 28,
      "outputs": [
        {
          "output_type": "stream",
          "text": [
            "Ideal K: 40.0\n",
            "\n"
          ],
          "name": "stdout"
        }
      ]
    },
    {
      "cell_type": "code",
      "metadata": {
        "id": "Ew6aR5WLEqm6"
      },
      "source": [
        "knn_d_ = KNeighborsClassifier(n_neighbors=5, weights='distance')\n",
        "knn_d_.fit(X_train_, y_train)"
      ],
      "execution_count": null,
      "outputs": []
    },
    {
      "cell_type": "code",
      "metadata": {
        "id": "bJsiDyRDKJzv"
      },
      "source": [
        "knn_c_ = KNeighborsClassifier(n_neighbors=5, weights=_set_weight)\n",
        "knn_c_.fit(X_train_, y_train)"
      ],
      "execution_count": null,
      "outputs": []
    },
    {
      "cell_type": "code",
      "metadata": {
        "id": "UTHve3lAKI2C"
      },
      "source": [
        "knn_i_ = KNeighborsClassifier(n_neighbors=40, weights=_set_weight)\n",
        "knn_i_.fit(X_train_, y_train)"
      ],
      "execution_count": null,
      "outputs": []
    },
    {
      "cell_type": "code",
      "metadata": {
        "id": "N4uHoDgyKj7v"
      },
      "source": [
        "knn_if_ = KNeighborsClassifier(n_neighbors=40)\n",
        "knn_if_.fit(X_train_, y_train)"
      ],
      "execution_count": null,
      "outputs": []
    },
    {
      "cell_type": "code",
      "metadata": {
        "id": "z6i1ss_gFe-k",
        "outputId": "272977ef-f82d-44e5-886b-2ae10afadd48",
        "colab": {
          "base_uri": "https://localhost:8080/",
          "height": 272
        }
      },
      "source": [
        "print(f'\\nNon-scaled KNN train accuracy: {knn.score(X_train, y_train)}')\n",
        "print(f'Scaled KNN train accuracy: {knn_.score(X_train_, y_train)}')\n",
        "print(f'Weighted(distance), Scaled KNN train accuracy: {knn_d_.score(X_train_, y_train)}')\n",
        "print(f'Weighted(c), Scaled KNN train accuracy: {knn_c_.score(X_train_, y_train)}')\n",
        "print(f'Ideal K, Weighted(c), Scaled KNN train accuracy: {knn_i_.score(X_train_, y_train)}')\n",
        "print(f'Ideal K, Scaled KNN train accuracy: {knn_if_.score(X_train_, y_train)}')\n",
        "\n",
        "print(f'\\nNon-scaled KNN test accuracy: {knn.score(X_test, y_test)}')\n",
        "print(f'Scaled KNN test accuracy: {knn_.score(X_test_, y_test)}')\n",
        "print(f'Weighted(distance), Scaled KNN test accuracy: {knn_d_.score(X_test_, y_test)}')\n",
        "print(f'Weighted(c), Scaled KNN test accuracy: {knn_c_.score(X_test_, y_test)}')\n",
        "print(f'Ideal K, Weighted(c), Scaled KNN test accuracy: {knn_i_.score(X_test_, y_test)}')\n",
        "print(f'Ideal K, Scaled KNN test accuracy: {knn_if_.score(X_test_, y_test)}')"
      ],
      "execution_count": 58,
      "outputs": [
        {
          "output_type": "stream",
          "text": [
            "\n",
            "Non-scaled KNN train accuracy: 0.7615324472243941\n",
            "Scaled KNN train accuracy: 0.8248631743549648\n",
            "Weighted(distance), Scaled KNN train accuracy: 1.0\n",
            "Weighted(c), Scaled KNN train accuracy: 1.0\n",
            "Ideal K, Weighted(c), Scaled KNN train accuracy: 1.0\n",
            "Ideal K, Scaled KNN train accuracy: 0.7560594214229867\n",
            "\n",
            "Non-scaled KNN test accuracy: 0.625\n",
            "Scaled KNN test accuracy: 0.675\n",
            "Weighted(distance), Scaled KNN test accuracy: 0.746875\n",
            "Weighted(c), Scaled KNN test accuracy: 0.7375\n",
            "Ideal K, Weighted(c), Scaled KNN test accuracy: 0.778125\n",
            "Ideal K, Scaled KNN test accuracy: 0.721875\n"
          ],
          "name": "stdout"
        }
      ]
    },
    {
      "cell_type": "markdown",
      "metadata": {
        "id": "Cg6Dh3okJp62"
      },
      "source": [
        "*With custom weights, the train accuracy becomes perfect which is initially  worrying. On the other hand, the best test scores comes from the model with an ideal K-value, custom weights, and scaled independent features.*"
      ]
    }
  ]
}