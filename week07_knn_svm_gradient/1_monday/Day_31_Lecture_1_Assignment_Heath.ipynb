{
  "nbformat": 4,
  "nbformat_minor": 0,
  "metadata": {
    "colab": {
      "name": "Day 31 Lecture 1 Assignment.ipynb",
      "provenance": [],
      "collapsed_sections": []
    },
    "kernelspec": {
      "display_name": "Python 3",
      "language": "python",
      "name": "python3"
    },
    "language_info": {
      "codemirror_mode": {
        "name": "ipython",
        "version": 3
      },
      "file_extension": ".py",
      "mimetype": "text/x-python",
      "name": "python",
      "nbconvert_exporter": "python",
      "pygments_lexer": "ipython3",
      "version": "3.6.8"
    }
  },
  "cells": [
    {
      "cell_type": "markdown",
      "metadata": {
        "id": "Zrf-3-WBni8C"
      },
      "source": [
        "## Day 31 Lecture 1 Assignment\n",
        "\n",
        "In this assignment, we will learn about the K nearest neighbor algorithm. We will use the titanic dataset and create a model that can predict if a passenger will survive the Titanic Shipwreck or not {0, 1}."
      ]
    },
    {
      "cell_type": "code",
      "metadata": {
        "id": "gqWRoLL-ni8D"
      },
      "source": [
        "%matplotlib inline\n",
        "import matplotlib.pyplot as plt\n",
        "import numpy as np\n",
        "import pandas as pd"
      ],
      "execution_count": 1,
      "outputs": []
    },
    {
      "cell_type": "markdown",
      "metadata": {
        "id": "mquW1WIJvuNg"
      },
      "source": [
        "Columns:\n",
        "- 'PassengerId': id of the passenger\n",
        "- 'Survived': \n",
        "- 'Pclass': Ticket class\n",
        "- 'Name': Name\n",
        "- 'Sex': sex\n",
        "- 'Age': Age in years\n",
        "- 'SibSp': # of siblings / spouses aboard the Titanic\n",
        "- 'Parch': # of parents / children aboard the Titanic\n",
        "- 'Ticket': \n",
        "- 'Fare': Passenger fare\n",
        "- 'Cabin': Cabin number\n",
        "- 'Embarked': Port of Embarkation"
      ]
    },
    {
      "cell_type": "code",
      "metadata": {
        "id": "wSzfEaauni8F",
        "outputId": "aa83753b-4f01-4c9f-a6af-55b376fef6b8",
        "colab": {
          "base_uri": "https://localhost:8080/",
          "height": 204
        }
      },
      "source": [
        "data = pd.read_csv('https://tf-assets-prod.s3.amazonaws.com/tf-curric/data-science/titanic.csv')\n",
        "data.head()"
      ],
      "execution_count": 2,
      "outputs": [
        {
          "output_type": "execute_result",
          "data": {
            "text/html": [
              "<div>\n",
              "<style scoped>\n",
              "    .dataframe tbody tr th:only-of-type {\n",
              "        vertical-align: middle;\n",
              "    }\n",
              "\n",
              "    .dataframe tbody tr th {\n",
              "        vertical-align: top;\n",
              "    }\n",
              "\n",
              "    .dataframe thead th {\n",
              "        text-align: right;\n",
              "    }\n",
              "</style>\n",
              "<table border=\"1\" class=\"dataframe\">\n",
              "  <thead>\n",
              "    <tr style=\"text-align: right;\">\n",
              "      <th></th>\n",
              "      <th>PassengerId</th>\n",
              "      <th>Survived</th>\n",
              "      <th>Pclass</th>\n",
              "      <th>Name</th>\n",
              "      <th>Sex</th>\n",
              "      <th>Age</th>\n",
              "      <th>SibSp</th>\n",
              "      <th>Parch</th>\n",
              "      <th>Ticket</th>\n",
              "      <th>Fare</th>\n",
              "      <th>Cabin</th>\n",
              "      <th>Embarked</th>\n",
              "    </tr>\n",
              "  </thead>\n",
              "  <tbody>\n",
              "    <tr>\n",
              "      <th>0</th>\n",
              "      <td>1</td>\n",
              "      <td>0</td>\n",
              "      <td>3</td>\n",
              "      <td>Braund, Mr. Owen Harris</td>\n",
              "      <td>male</td>\n",
              "      <td>22.0</td>\n",
              "      <td>1</td>\n",
              "      <td>0</td>\n",
              "      <td>A/5 21171</td>\n",
              "      <td>7.2500</td>\n",
              "      <td>NaN</td>\n",
              "      <td>S</td>\n",
              "    </tr>\n",
              "    <tr>\n",
              "      <th>1</th>\n",
              "      <td>2</td>\n",
              "      <td>1</td>\n",
              "      <td>1</td>\n",
              "      <td>Cumings, Mrs. John Bradley (Florence Briggs Th...</td>\n",
              "      <td>female</td>\n",
              "      <td>38.0</td>\n",
              "      <td>1</td>\n",
              "      <td>0</td>\n",
              "      <td>PC 17599</td>\n",
              "      <td>71.2833</td>\n",
              "      <td>C85</td>\n",
              "      <td>C</td>\n",
              "    </tr>\n",
              "    <tr>\n",
              "      <th>2</th>\n",
              "      <td>3</td>\n",
              "      <td>1</td>\n",
              "      <td>3</td>\n",
              "      <td>Heikkinen, Miss. Laina</td>\n",
              "      <td>female</td>\n",
              "      <td>26.0</td>\n",
              "      <td>0</td>\n",
              "      <td>0</td>\n",
              "      <td>STON/O2. 3101282</td>\n",
              "      <td>7.9250</td>\n",
              "      <td>NaN</td>\n",
              "      <td>S</td>\n",
              "    </tr>\n",
              "    <tr>\n",
              "      <th>3</th>\n",
              "      <td>4</td>\n",
              "      <td>1</td>\n",
              "      <td>1</td>\n",
              "      <td>Futrelle, Mrs. Jacques Heath (Lily May Peel)</td>\n",
              "      <td>female</td>\n",
              "      <td>35.0</td>\n",
              "      <td>1</td>\n",
              "      <td>0</td>\n",
              "      <td>113803</td>\n",
              "      <td>53.1000</td>\n",
              "      <td>C123</td>\n",
              "      <td>S</td>\n",
              "    </tr>\n",
              "    <tr>\n",
              "      <th>4</th>\n",
              "      <td>5</td>\n",
              "      <td>0</td>\n",
              "      <td>3</td>\n",
              "      <td>Allen, Mr. William Henry</td>\n",
              "      <td>male</td>\n",
              "      <td>35.0</td>\n",
              "      <td>0</td>\n",
              "      <td>0</td>\n",
              "      <td>373450</td>\n",
              "      <td>8.0500</td>\n",
              "      <td>NaN</td>\n",
              "      <td>S</td>\n",
              "    </tr>\n",
              "  </tbody>\n",
              "</table>\n",
              "</div>"
            ],
            "text/plain": [
              "   PassengerId  Survived  Pclass  ...     Fare Cabin  Embarked\n",
              "0            1         0       3  ...   7.2500   NaN         S\n",
              "1            2         1       1  ...  71.2833   C85         C\n",
              "2            3         1       3  ...   7.9250   NaN         S\n",
              "3            4         1       1  ...  53.1000  C123         S\n",
              "4            5         0       3  ...   8.0500   NaN         S\n",
              "\n",
              "[5 rows x 12 columns]"
            ]
          },
          "metadata": {
            "tags": []
          },
          "execution_count": 2
        }
      ]
    },
    {
      "cell_type": "markdown",
      "metadata": {
        "id": "bkE7pnkOvuNk"
      },
      "source": [
        "We check the distribution of variables for the column we want to predict."
      ]
    },
    {
      "cell_type": "code",
      "metadata": {
        "id": "df0WkOQFvuNl",
        "outputId": "ecb9af67-6075-4376-8d1c-287e41e55bbb",
        "colab": {
          "base_uri": "https://localhost:8080/",
          "height": 68
        }
      },
      "source": [
        "# Calculate value counts for the Survived column\n",
        "data.Survived.value_counts()\n",
        "\n"
      ],
      "execution_count": 3,
      "outputs": [
        {
          "output_type": "execute_result",
          "data": {
            "text/plain": [
              "0    549\n",
              "1    342\n",
              "Name: Survived, dtype: int64"
            ]
          },
          "metadata": {
            "tags": []
          },
          "execution_count": 3
        }
      ]
    },
    {
      "cell_type": "markdown",
      "metadata": {
        "id": "5dk0oqeBni8I"
      },
      "source": [
        "First, check for missing data and remove all columns containing missing data"
      ]
    },
    {
      "cell_type": "code",
      "metadata": {
        "id": "6qtb2pXfJjz9"
      },
      "source": [
        "def missingness_summary(df, print_log=False, sort='none'):\n",
        "    summary = df.apply(lambda x: x.isna().sum() / x.shape[0])\n",
        "    \n",
        "    if sort == 'none':\n",
        "        summary = summary\n",
        "    elif sort == 'ascending':\n",
        "        summary = summary.sort_values()\n",
        "    elif sort == 'descending':\n",
        "        summary = summary.sort_values(ascending=False)\n",
        "    else:\n",
        "        print('Invalid value for sort parameter.')\n",
        "    \n",
        "    if print_log:\n",
        "        print(summary)\n",
        "        \n",
        "    return summary"
      ],
      "execution_count": 4,
      "outputs": []
    },
    {
      "cell_type": "code",
      "metadata": {
        "id": "JT9kbyCJni8J",
        "outputId": "67988c6d-4de0-467d-be30-5bfb310b885d",
        "colab": {
          "base_uri": "https://localhost:8080/",
          "height": 238
        }
      },
      "source": [
        "# Calculate NA values per column\n",
        "print(missingness_summary(data))\n",
        "\n",
        "clean_data = data.drop(columns=['Age', 'Cabin', 'Embarked'], axis=1)\n"
      ],
      "execution_count": 12,
      "outputs": [
        {
          "output_type": "stream",
          "text": [
            "PassengerId    0.000000\n",
            "Survived       0.000000\n",
            "Pclass         0.000000\n",
            "Name           0.000000\n",
            "Sex            0.000000\n",
            "Age            0.198653\n",
            "SibSp          0.000000\n",
            "Parch          0.000000\n",
            "Ticket         0.000000\n",
            "Fare           0.000000\n",
            "Cabin          0.771044\n",
            "Embarked       0.002245\n",
            "dtype: float64\n"
          ],
          "name": "stdout"
        }
      ]
    },
    {
      "cell_type": "code",
      "metadata": {
        "id": "MjpctYZ5J1Ph",
        "outputId": "3f20d5a2-a328-4d0a-ffbc-42a75966448b",
        "colab": {
          "base_uri": "https://localhost:8080/",
          "height": 187
        }
      },
      "source": [
        "missingness_summary(clean_data)"
      ],
      "execution_count": 7,
      "outputs": [
        {
          "output_type": "execute_result",
          "data": {
            "text/plain": [
              "PassengerId    0.0\n",
              "Survived       0.0\n",
              "Pclass         0.0\n",
              "Name           0.0\n",
              "Sex            0.0\n",
              "SibSp          0.0\n",
              "Parch          0.0\n",
              "Ticket         0.0\n",
              "Fare           0.0\n",
              "dtype: float64"
            ]
          },
          "metadata": {
            "tags": []
          },
          "execution_count": 7
        }
      ]
    },
    {
      "cell_type": "markdown",
      "metadata": {
        "id": "BdXDgyNCvuNw"
      },
      "source": [
        "We also drop columns that are not informative and contain too many unique values(e.g. name)"
      ]
    },
    {
      "cell_type": "code",
      "metadata": {
        "id": "5QOylqV_vuNx",
        "outputId": "2cb16886-a8a4-47c0-88c1-21d608e3f2ee",
        "colab": {
          "base_uri": "https://localhost:8080/",
          "height": 221
        }
      },
      "source": [
        "# Calculate unique values for each column\n",
        "print('\\n'.join([f\"Column with name '{c}' has {data[c].nunique()} unique values\" for c in data.columns]))    "
      ],
      "execution_count": 9,
      "outputs": [
        {
          "output_type": "stream",
          "text": [
            "Column with name 'PassengerId' has 891 unique values\n",
            "Column with name 'Survived' has 2 unique values\n",
            "Column with name 'Pclass' has 3 unique values\n",
            "Column with name 'Name' has 891 unique values\n",
            "Column with name 'Sex' has 2 unique values\n",
            "Column with name 'Age' has 88 unique values\n",
            "Column with name 'SibSp' has 7 unique values\n",
            "Column with name 'Parch' has 7 unique values\n",
            "Column with name 'Ticket' has 681 unique values\n",
            "Column with name 'Fare' has 248 unique values\n",
            "Column with name 'Cabin' has 147 unique values\n",
            "Column with name 'Embarked' has 3 unique values\n"
          ],
          "name": "stdout"
        }
      ]
    },
    {
      "cell_type": "code",
      "metadata": {
        "id": "ARnS2ZLLvuN0"
      },
      "source": [
        "# Drop columns 'PassengerId', 'Name' and 'Ticket'.\n",
        "df = clean_data.drop(columns=['PassengerId', 'Name', 'Ticket'], axis=1)\n",
        "\n"
      ],
      "execution_count": 10,
      "outputs": []
    },
    {
      "cell_type": "code",
      "metadata": {
        "id": "VvZgMx74KMFL",
        "outputId": "a7383cc1-e182-42fc-bee5-7a5cad689ea5",
        "colab": {
          "base_uri": "https://localhost:8080/",
          "height": 204
        }
      },
      "source": [
        "df.head()"
      ],
      "execution_count": 11,
      "outputs": [
        {
          "output_type": "execute_result",
          "data": {
            "text/html": [
              "<div>\n",
              "<style scoped>\n",
              "    .dataframe tbody tr th:only-of-type {\n",
              "        vertical-align: middle;\n",
              "    }\n",
              "\n",
              "    .dataframe tbody tr th {\n",
              "        vertical-align: top;\n",
              "    }\n",
              "\n",
              "    .dataframe thead th {\n",
              "        text-align: right;\n",
              "    }\n",
              "</style>\n",
              "<table border=\"1\" class=\"dataframe\">\n",
              "  <thead>\n",
              "    <tr style=\"text-align: right;\">\n",
              "      <th></th>\n",
              "      <th>Survived</th>\n",
              "      <th>Pclass</th>\n",
              "      <th>Sex</th>\n",
              "      <th>SibSp</th>\n",
              "      <th>Parch</th>\n",
              "      <th>Fare</th>\n",
              "    </tr>\n",
              "  </thead>\n",
              "  <tbody>\n",
              "    <tr>\n",
              "      <th>0</th>\n",
              "      <td>0</td>\n",
              "      <td>3</td>\n",
              "      <td>male</td>\n",
              "      <td>1</td>\n",
              "      <td>0</td>\n",
              "      <td>7.2500</td>\n",
              "    </tr>\n",
              "    <tr>\n",
              "      <th>1</th>\n",
              "      <td>1</td>\n",
              "      <td>1</td>\n",
              "      <td>female</td>\n",
              "      <td>1</td>\n",
              "      <td>0</td>\n",
              "      <td>71.2833</td>\n",
              "    </tr>\n",
              "    <tr>\n",
              "      <th>2</th>\n",
              "      <td>1</td>\n",
              "      <td>3</td>\n",
              "      <td>female</td>\n",
              "      <td>0</td>\n",
              "      <td>0</td>\n",
              "      <td>7.9250</td>\n",
              "    </tr>\n",
              "    <tr>\n",
              "      <th>3</th>\n",
              "      <td>1</td>\n",
              "      <td>1</td>\n",
              "      <td>female</td>\n",
              "      <td>1</td>\n",
              "      <td>0</td>\n",
              "      <td>53.1000</td>\n",
              "    </tr>\n",
              "    <tr>\n",
              "      <th>4</th>\n",
              "      <td>0</td>\n",
              "      <td>3</td>\n",
              "      <td>male</td>\n",
              "      <td>0</td>\n",
              "      <td>0</td>\n",
              "      <td>8.0500</td>\n",
              "    </tr>\n",
              "  </tbody>\n",
              "</table>\n",
              "</div>"
            ],
            "text/plain": [
              "   Survived  Pclass     Sex  SibSp  Parch     Fare\n",
              "0         0       3    male      1      0   7.2500\n",
              "1         1       1  female      1      0  71.2833\n",
              "2         1       3  female      0      0   7.9250\n",
              "3         1       1  female      1      0  53.1000\n",
              "4         0       3    male      0      0   8.0500"
            ]
          },
          "metadata": {
            "tags": []
          },
          "execution_count": 11
        }
      ]
    },
    {
      "cell_type": "markdown",
      "metadata": {
        "id": "zC2YmEBTni8K"
      },
      "source": [
        "To use the data, we must convert all columns to numeric. Do this by replacing yes and no with 1 and 0."
      ]
    },
    {
      "cell_type": "code",
      "metadata": {
        "id": "5SKAcRjJGFZC"
      },
      "source": [
        "# Use get_dummies to get a dataset with one hot encoded columns for categorical variables\n",
        "# Survived should be excluded.\n",
        "sex = pd.get_dummies(df['Sex'], drop_first=True)\n",
        "X = pd.concat([df.drop(columns=['Survived', 'Sex'], axis=1), sex], axis=1)\n",
        "y = df['Survived']\n",
        "\n"
      ],
      "execution_count": 21,
      "outputs": []
    },
    {
      "cell_type": "code",
      "metadata": {
        "id": "ke0Y2xf9vuN5",
        "outputId": "5a35abbf-50f1-432f-b0af-7a3143031c11",
        "colab": {
          "base_uri": "https://localhost:8080/",
          "height": 238
        }
      },
      "source": [
        "# Let's check the new columns\n",
        "print(X.columns)\n",
        "print(y)\n",
        "\n"
      ],
      "execution_count": 23,
      "outputs": [
        {
          "output_type": "stream",
          "text": [
            "Index(['Pclass', 'SibSp', 'Parch', 'Fare', 'male'], dtype='object')\n",
            "0      0\n",
            "1      1\n",
            "2      1\n",
            "3      1\n",
            "4      0\n",
            "      ..\n",
            "886    0\n",
            "887    1\n",
            "888    0\n",
            "889    1\n",
            "890    0\n",
            "Name: Survived, Length: 891, dtype: int64\n"
          ],
          "name": "stdout"
        }
      ]
    },
    {
      "cell_type": "markdown",
      "metadata": {
        "id": "7wR6bliDni8M"
      },
      "source": [
        "Split the data into train and test. Use 20% of the data for our test subset. We will use the train_test_split function from scikit-learn for this."
      ]
    },
    {
      "cell_type": "code",
      "metadata": {
        "id": "VzB9rC4kni8N"
      },
      "source": [
        "# Split the dataset. Remember that the y arrays should include only the 'Survived' column which should be excluded from\n",
        "# the X arrays\n",
        "from sklearn.model_selection import train_test_split\n",
        "X_train, X_test, y_train, y_test = train_test_split(X, y, test_size=0.2)\n",
        "\n",
        "\n"
      ],
      "execution_count": 24,
      "outputs": []
    },
    {
      "cell_type": "markdown",
      "metadata": {
        "id": "T0rFQRHvni8O"
      },
      "source": [
        "Generate a KNN model with k=1 for the dataset. What is the accuracy score for the train and test subsamples?"
      ]
    },
    {
      "cell_type": "code",
      "metadata": {
        "id": "947BjIolni8P",
        "outputId": "d08a93e7-0790-4485-ceb8-8a28b90d9a87",
        "colab": {
          "base_uri": "https://localhost:8080/",
          "height": 51
        }
      },
      "source": [
        "from sklearn.neighbors import KNeighborsClassifier\n",
        "# answer below:\n",
        "knn = KNeighborsClassifier()\n",
        "fit = knn.fit(X_train, y_train)\n",
        "\n",
        "train_score = knn.score(X_train, y_train)\n",
        "test_score = knn.score(X_test, y_test)\n",
        "print('train_score:', train_score)\n",
        "print('test_score:', test_score)\n"
      ],
      "execution_count": 27,
      "outputs": [
        {
          "output_type": "stream",
          "text": [
            "train_score: 0.824438202247191\n",
            "test_score: 0.8100558659217877\n"
          ],
          "name": "stdout"
        }
      ]
    },
    {
      "cell_type": "markdown",
      "metadata": {
        "id": "lKfx59-Hni8S"
      },
      "source": [
        "Would you say the model overfits? Why or why not? Put your answer in the comment below."
      ]
    },
    {
      "cell_type": "code",
      "metadata": {
        "id": "Lxdoh4dZni8S"
      },
      "source": [
        "# answer below:\n",
        "\n"
      ],
      "execution_count": null,
      "outputs": []
    },
    {
      "cell_type": "markdown",
      "metadata": {
        "id": "0P6bHOPOni8U"
      },
      "source": [
        "Let's optimize k. A good idea is to create plots that depict train and test accuracy for each candidate k. Since we have 2 classes, we will be selecting odd numbers in order to deal with possible ties. By selecting a really small k, e.g. k=1, we increase variance and the model is prone to overfitting since it will only take into account the nearest neighbor where there could be a lot of other close samples belonging to another class. By doing the opposite, selecting a big k we are prone to underfitting, as we increase bias as there is a higher probability to select the majority class.\n"
      ]
    },
    {
      "cell_type": "code",
      "metadata": {
        "id": "S0WEG25bni8U",
        "outputId": "efbeb11a-9f32-401b-aabf-1ec63b68d43c",
        "colab": {
          "base_uri": "https://localhost:8080/",
          "height": 34
        }
      },
      "source": [
        "from sklearn.metrics import accuracy_score, f1_score\n",
        "\n",
        "accuracy_train = []\n",
        "accuracy_test = []\n",
        "f1_train = []\n",
        "f1_test = []\n",
        "k_list = list(range(1, 15, 2))\n",
        "print(k_list)"
      ],
      "execution_count": 69,
      "outputs": [
        {
          "output_type": "stream",
          "text": [
            "[1, 3, 5, 7, 9, 11, 13]\n"
          ],
          "name": "stdout"
        }
      ]
    },
    {
      "cell_type": "markdown",
      "metadata": {
        "id": "TaFOfaUBvuOI"
      },
      "source": [
        "For each k value in the list created above we want to create and fit a knn instance on X_train, y_train and then make predictions both on the training set (X_train) as well as on the test set(X_test) and calculate accuracy and f1 score and append it to the corrensponding list."
      ]
    },
    {
      "cell_type": "code",
      "metadata": {
        "id": "tCGDJ4K5vuOJ",
        "outputId": "b5f9af8f-9ab5-48ec-c5d6-75abdc703ab1",
        "colab": {
          "base_uri": "https://localhost:8080/",
          "height": 85
        }
      },
      "source": [
        "# answer below:\n",
        "for k_values in k_list:\n",
        "  knn = KNeighborsClassifier(n_neighbors=k_values)\n",
        "  fit = knn.fit(X_train, y_train)\n",
        "  accuracy_train.append(accuracy_score(y_train, knn.predict(X_train)))\n",
        "  accuracy_test.append(accuracy_score(y_test, knn.predict(X_test)))\n",
        "  f1_train.append(f1_score(y_train, knn.predict(X_train)))\n",
        "  f1_test.append(f1_score(y_test, knn.predict(X_test)))\n",
        "\n",
        "print(accuracy_train)\n",
        "print(accuracy_test)\n",
        "print(f1_train)\n",
        "print(f1_test)\n"
      ],
      "execution_count": 70,
      "outputs": [
        {
          "output_type": "stream",
          "text": [
            "[0.8848314606741573, 0.8553370786516854, 0.824438202247191, 0.8103932584269663, 0.797752808988764, 0.773876404494382, 0.7682584269662921]\n",
            "[0.7374301675977654, 0.8100558659217877, 0.8100558659217877, 0.8268156424581006, 0.8212290502793296, 0.7821229050279329, 0.776536312849162]\n",
            "[0.8581314878892734, 0.8110091743119267, 0.7714808043875686, 0.7531992687385741, 0.7391304347826086, 0.7119856887298748, 0.703770197486535]\n",
            "[0.6802721088435375, 0.7536231884057972, 0.75, 0.776978417266187, 0.7611940298507462, 0.7111111111111111, 0.7058823529411765]\n"
          ],
          "name": "stdout"
        }
      ]
    },
    {
      "cell_type": "markdown",
      "metadata": {
        "id": "JlnKcCBWvuOL"
      },
      "source": [
        "In the following plot we want to select the k that achieves the highest test score. \n",
        "\n",
        "Create a two plots with each of them depicting the following information:\n",
        "1. Two lines, one for training accuracy and one for test accuracy for each k value.\n",
        "2. Two lines, one for training F1score and one for test F1 score for each k value."
      ]
    },
    {
      "cell_type": "code",
      "metadata": {
        "id": "lxex9RjSvuOL",
        "outputId": "c5e41196-975f-470b-a54b-a6ae3aabb2ac",
        "colab": {
          "base_uri": "https://localhost:8080/",
          "height": 513
        }
      },
      "source": [
        "# answer below:\n",
        "plt.figure()\n",
        "plt.plot(k_list, accuracy_train)\n",
        "plt.plot(k_list, accuracy_test)\n",
        "plt.legend(['accuracy_train', 'accuracy_test'])\n",
        "plt.show()\n",
        "\n",
        "plt.figure()\n",
        "plt.plot(k_list, f1_train)\n",
        "plt.plot(k_list, f1_test)\n",
        "plt.legend(['f1_train', 'f1_test'])\n",
        "plt.show()"
      ],
      "execution_count": 71,
      "outputs": [
        {
          "output_type": "display_data",
          "data": {
            "image/png": "[encoded data removed]",
            "text/plain": [
              "<Figure size 432x288 with 1 Axes>"
            ]
          },
          "metadata": {
            "tags": [],
            "needs_background": "light"
          }
        },
        {
          "output_type": "display_data",
          "data": {
            "image/png": "[encoded data removed]",
            "text/plain": [
              "<Figure size 432x288 with 1 Axes>"
            ]
          },
          "metadata": {
            "tags": [],
            "needs_background": "light"
          }
        }
      ]
    },
    {
      "cell_type": "markdown",
      "metadata": {
        "id": "Bs-_v9vVvuOP"
      },
      "source": [
        "Please comment the results of the plots above"
      ]
    },
    {
      "cell_type": "code",
      "metadata": {
        "id": "L5xK-UfVvuOP"
      },
      "source": [
        "# Add your observations in comments below.\n",
        "# It looks like accuracy for the test set increases for a while based on k nearest neighbors, but decreases after a while as well, indicating there is a best k value to choose for high accuracy\n",
        "# this is also represented in the f1 scores, both seems to indicate a best k value of 7 n_neighbors\n"
      ],
      "execution_count": null,
      "outputs": []
    }
  ]
}