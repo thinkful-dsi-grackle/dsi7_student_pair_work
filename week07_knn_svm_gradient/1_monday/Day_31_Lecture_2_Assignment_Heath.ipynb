{
  "nbformat": 4,
  "nbformat_minor": 0,
  "metadata": {
    "kernelspec": {
      "display_name": "Python 3",
      "language": "python",
      "name": "python3"
    },
    "language_info": {
      "codemirror_mode": {
        "name": "ipython",
        "version": 3
      },
      "file_extension": ".py",
      "mimetype": "text/x-python",
      "name": "python",
      "nbconvert_exporter": "python",
      "pygments_lexer": "ipython3",
      "version": "3.7.0"
    },
    "colab": {
      "name": "Day 31 Lecture 2 Assignment.ipynb",
      "provenance": [],
      "collapsed_sections": []
    }
  },
  "cells": [
    {
      "cell_type": "markdown",
      "metadata": {
        "id": "vliMc6Csnjac"
      },
      "source": [
        "## Day 31 Lecture 2 Assignment\n",
        "\n",
        "In this assignment, we will learn about the weighting and scaling with the K nearest neighbor algorithm. We will use the wine quality dataset loaded below and analyze the model generated for this dataset."
      ]
    },
    {
      "cell_type": "code",
      "metadata": {
        "id": "6RVluDSdnjad"
      },
      "source": [
        "%matplotlib inline\n",
        "\n",
        "import math\n",
        "\n",
        "import matplotlib.pyplot as plt\n",
        "import numpy as np\n",
        "import pandas as pd"
      ],
      "execution_count": 1,
      "outputs": []
    },
    {
      "cell_type": "code",
      "metadata": {
        "id": "fovh3n2tnjaf",
        "outputId": "63810bd5-7572-41b1-dbee-eb6e8c86eb08",
        "colab": {
          "base_uri": "https://localhost:8080/",
          "height": 204
        }
      },
      "source": [
        "wine = pd.read_csv('https://raw.githubusercontent.com/Thinkful-Ed/data-science-lectures/master/wineQualityReds.csv', index_col=0)\n",
        "wine.head()"
      ],
      "execution_count": 2,
      "outputs": [
        {
          "output_type": "execute_result",
          "data": {
            "text/html": [
              "<div>\n",
              "<style scoped>\n",
              "    .dataframe tbody tr th:only-of-type {\n",
              "        vertical-align: middle;\n",
              "    }\n",
              "\n",
              "    .dataframe tbody tr th {\n",
              "        vertical-align: top;\n",
              "    }\n",
              "\n",
              "    .dataframe thead th {\n",
              "        text-align: right;\n",
              "    }\n",
              "</style>\n",
              "<table border=\"1\" class=\"dataframe\">\n",
              "  <thead>\n",
              "    <tr style=\"text-align: right;\">\n",
              "      <th></th>\n",
              "      <th>fixed.acidity</th>\n",
              "      <th>volatile.acidity</th>\n",
              "      <th>citric.acid</th>\n",
              "      <th>residual.sugar</th>\n",
              "      <th>chlorides</th>\n",
              "      <th>free.sulfur.dioxide</th>\n",
              "      <th>total.sulfur.dioxide</th>\n",
              "      <th>density</th>\n",
              "      <th>pH</th>\n",
              "      <th>sulphates</th>\n",
              "      <th>alcohol</th>\n",
              "      <th>quality</th>\n",
              "    </tr>\n",
              "  </thead>\n",
              "  <tbody>\n",
              "    <tr>\n",
              "      <th>1</th>\n",
              "      <td>7.4</td>\n",
              "      <td>0.70</td>\n",
              "      <td>0.00</td>\n",
              "      <td>1.9</td>\n",
              "      <td>0.076</td>\n",
              "      <td>11.0</td>\n",
              "      <td>34.0</td>\n",
              "      <td>0.9978</td>\n",
              "      <td>3.51</td>\n",
              "      <td>0.56</td>\n",
              "      <td>9.4</td>\n",
              "      <td>5</td>\n",
              "    </tr>\n",
              "    <tr>\n",
              "      <th>2</th>\n",
              "      <td>7.8</td>\n",
              "      <td>0.88</td>\n",
              "      <td>0.00</td>\n",
              "      <td>2.6</td>\n",
              "      <td>0.098</td>\n",
              "      <td>25.0</td>\n",
              "      <td>67.0</td>\n",
              "      <td>0.9968</td>\n",
              "      <td>3.20</td>\n",
              "      <td>0.68</td>\n",
              "      <td>9.8</td>\n",
              "      <td>5</td>\n",
              "    </tr>\n",
              "    <tr>\n",
              "      <th>3</th>\n",
              "      <td>7.8</td>\n",
              "      <td>0.76</td>\n",
              "      <td>0.04</td>\n",
              "      <td>2.3</td>\n",
              "      <td>0.092</td>\n",
              "      <td>15.0</td>\n",
              "      <td>54.0</td>\n",
              "      <td>0.9970</td>\n",
              "      <td>3.26</td>\n",
              "      <td>0.65</td>\n",
              "      <td>9.8</td>\n",
              "      <td>5</td>\n",
              "    </tr>\n",
              "    <tr>\n",
              "      <th>4</th>\n",
              "      <td>11.2</td>\n",
              "      <td>0.28</td>\n",
              "      <td>0.56</td>\n",
              "      <td>1.9</td>\n",
              "      <td>0.075</td>\n",
              "      <td>17.0</td>\n",
              "      <td>60.0</td>\n",
              "      <td>0.9980</td>\n",
              "      <td>3.16</td>\n",
              "      <td>0.58</td>\n",
              "      <td>9.8</td>\n",
              "      <td>6</td>\n",
              "    </tr>\n",
              "    <tr>\n",
              "      <th>5</th>\n",
              "      <td>7.4</td>\n",
              "      <td>0.70</td>\n",
              "      <td>0.00</td>\n",
              "      <td>1.9</td>\n",
              "      <td>0.076</td>\n",
              "      <td>11.0</td>\n",
              "      <td>34.0</td>\n",
              "      <td>0.9978</td>\n",
              "      <td>3.51</td>\n",
              "      <td>0.56</td>\n",
              "      <td>9.4</td>\n",
              "      <td>5</td>\n",
              "    </tr>\n",
              "  </tbody>\n",
              "</table>\n",
              "</div>"
            ],
            "text/plain": [
              "   fixed.acidity  volatile.acidity  citric.acid  ...  sulphates  alcohol  quality\n",
              "1            7.4              0.70         0.00  ...       0.56      9.4        5\n",
              "2            7.8              0.88         0.00  ...       0.68      9.8        5\n",
              "3            7.8              0.76         0.04  ...       0.65      9.8        5\n",
              "4           11.2              0.28         0.56  ...       0.58      9.8        6\n",
              "5            7.4              0.70         0.00  ...       0.56      9.4        5\n",
              "\n",
              "[5 rows x 12 columns]"
            ]
          },
          "metadata": {
            "tags": []
          },
          "execution_count": 2
        }
      ]
    },
    {
      "cell_type": "markdown",
      "metadata": {
        "id": "1Lo-pnPdnjah"
      },
      "source": [
        "Recall that we need to check for missing data."
      ]
    },
    {
      "cell_type": "code",
      "metadata": {
        "id": "Im9_NgTKzjGt"
      },
      "source": [
        "def missingness_summary(df, print_log=False, sort='none'):\n",
        "    summary = df.apply(lambda x: x.isna().sum() / x.shape[0])\n",
        "    \n",
        "    if sort == 'none':\n",
        "        summary = summary\n",
        "    elif sort == 'ascending':\n",
        "        summary = summary.sort_values()\n",
        "    elif sort == 'descending':\n",
        "        summary = summary.sort_values(ascending=False)\n",
        "    else:\n",
        "        print('Invalid value for sort parameter.')\n",
        "    \n",
        "    if print_log:\n",
        "        print(summary)\n",
        "        \n",
        "    return summary"
      ],
      "execution_count": 3,
      "outputs": []
    },
    {
      "cell_type": "code",
      "metadata": {
        "id": "ERbtxOpvnjah",
        "outputId": "0c25737b-6ee3-491b-db06-7419f77d7d8c",
        "colab": {
          "base_uri": "https://localhost:8080/",
          "height": 238
        }
      },
      "source": [
        "# answer below:\n",
        "missingness_summary(wine)\n"
      ],
      "execution_count": 4,
      "outputs": [
        {
          "output_type": "execute_result",
          "data": {
            "text/plain": [
              "fixed.acidity           0.0\n",
              "volatile.acidity        0.0\n",
              "citric.acid             0.0\n",
              "residual.sugar          0.0\n",
              "chlorides               0.0\n",
              "free.sulfur.dioxide     0.0\n",
              "total.sulfur.dioxide    0.0\n",
              "density                 0.0\n",
              "pH                      0.0\n",
              "sulphates               0.0\n",
              "alcohol                 0.0\n",
              "quality                 0.0\n",
              "dtype: float64"
            ]
          },
          "metadata": {
            "tags": []
          },
          "execution_count": 4
        }
      ]
    },
    {
      "cell_type": "markdown",
      "metadata": {
        "id": "XomjgOAv8zRo"
      },
      "source": [
        "Convert quality to a binary variable, with the dividing line between 5 and 6."
      ]
    },
    {
      "cell_type": "code",
      "metadata": {
        "id": "IvecpkSF8zcB",
        "outputId": "f50ecfbf-6bde-4ace-c13d-dcac62eb8292",
        "colab": {
          "base_uri": "https://localhost:8080/",
          "height": 419
        }
      },
      "source": [
        "# answer below\n",
        "wine.quality.value_counts()\n",
        "def bin_split(value, split):\n",
        "  if value < split:\n",
        "    return 0\n",
        "  else:\n",
        "    return 1\n",
        "\n",
        "\n",
        "bin_quality = wine['quality'].apply(lambda x: bin_split(x, 6))\n",
        "clean_wine = wine.drop('quality', axis=1)\n",
        "clean_wine = pd.concat([clean_wine, bin_quality], axis=1)\n",
        "clean_wine"
      ],
      "execution_count": 14,
      "outputs": [
        {
          "output_type": "execute_result",
          "data": {
            "text/html": [
              "<div>\n",
              "<style scoped>\n",
              "    .dataframe tbody tr th:only-of-type {\n",
              "        vertical-align: middle;\n",
              "    }\n",
              "\n",
              "    .dataframe tbody tr th {\n",
              "        vertical-align: top;\n",
              "    }\n",
              "\n",
              "    .dataframe thead th {\n",
              "        text-align: right;\n",
              "    }\n",
              "</style>\n",
              "<table border=\"1\" class=\"dataframe\">\n",
              "  <thead>\n",
              "    <tr style=\"text-align: right;\">\n",
              "      <th></th>\n",
              "      <th>fixed.acidity</th>\n",
              "      <th>volatile.acidity</th>\n",
              "      <th>citric.acid</th>\n",
              "      <th>residual.sugar</th>\n",
              "      <th>chlorides</th>\n",
              "      <th>free.sulfur.dioxide</th>\n",
              "      <th>total.sulfur.dioxide</th>\n",
              "      <th>density</th>\n",
              "      <th>pH</th>\n",
              "      <th>sulphates</th>\n",
              "      <th>alcohol</th>\n",
              "      <th>quality</th>\n",
              "    </tr>\n",
              "  </thead>\n",
              "  <tbody>\n",
              "    <tr>\n",
              "      <th>1</th>\n",
              "      <td>7.4</td>\n",
              "      <td>0.700</td>\n",
              "      <td>0.00</td>\n",
              "      <td>1.9</td>\n",
              "      <td>0.076</td>\n",
              "      <td>11.0</td>\n",
              "      <td>34.0</td>\n",
              "      <td>0.99780</td>\n",
              "      <td>3.51</td>\n",
              "      <td>0.56</td>\n",
              "      <td>9.4</td>\n",
              "      <td>0</td>\n",
              "    </tr>\n",
              "    <tr>\n",
              "      <th>2</th>\n",
              "      <td>7.8</td>\n",
              "      <td>0.880</td>\n",
              "      <td>0.00</td>\n",
              "      <td>2.6</td>\n",
              "      <td>0.098</td>\n",
              "      <td>25.0</td>\n",
              "      <td>67.0</td>\n",
              "      <td>0.99680</td>\n",
              "      <td>3.20</td>\n",
              "      <td>0.68</td>\n",
              "      <td>9.8</td>\n",
              "      <td>0</td>\n",
              "    </tr>\n",
              "    <tr>\n",
              "      <th>3</th>\n",
              "      <td>7.8</td>\n",
              "      <td>0.760</td>\n",
              "      <td>0.04</td>\n",
              "      <td>2.3</td>\n",
              "      <td>0.092</td>\n",
              "      <td>15.0</td>\n",
              "      <td>54.0</td>\n",
              "      <td>0.99700</td>\n",
              "      <td>3.26</td>\n",
              "      <td>0.65</td>\n",
              "      <td>9.8</td>\n",
              "      <td>0</td>\n",
              "    </tr>\n",
              "    <tr>\n",
              "      <th>4</th>\n",
              "      <td>11.2</td>\n",
              "      <td>0.280</td>\n",
              "      <td>0.56</td>\n",
              "      <td>1.9</td>\n",
              "      <td>0.075</td>\n",
              "      <td>17.0</td>\n",
              "      <td>60.0</td>\n",
              "      <td>0.99800</td>\n",
              "      <td>3.16</td>\n",
              "      <td>0.58</td>\n",
              "      <td>9.8</td>\n",
              "      <td>1</td>\n",
              "    </tr>\n",
              "    <tr>\n",
              "      <th>5</th>\n",
              "      <td>7.4</td>\n",
              "      <td>0.700</td>\n",
              "      <td>0.00</td>\n",
              "      <td>1.9</td>\n",
              "      <td>0.076</td>\n",
              "      <td>11.0</td>\n",
              "      <td>34.0</td>\n",
              "      <td>0.99780</td>\n",
              "      <td>3.51</td>\n",
              "      <td>0.56</td>\n",
              "      <td>9.4</td>\n",
              "      <td>0</td>\n",
              "    </tr>\n",
              "    <tr>\n",
              "      <th>...</th>\n",
              "      <td>...</td>\n",
              "      <td>...</td>\n",
              "      <td>...</td>\n",
              "      <td>...</td>\n",
              "      <td>...</td>\n",
              "      <td>...</td>\n",
              "      <td>...</td>\n",
              "      <td>...</td>\n",
              "      <td>...</td>\n",
              "      <td>...</td>\n",
              "      <td>...</td>\n",
              "      <td>...</td>\n",
              "    </tr>\n",
              "    <tr>\n",
              "      <th>1595</th>\n",
              "      <td>6.2</td>\n",
              "      <td>0.600</td>\n",
              "      <td>0.08</td>\n",
              "      <td>2.0</td>\n",
              "      <td>0.090</td>\n",
              "      <td>32.0</td>\n",
              "      <td>44.0</td>\n",
              "      <td>0.99490</td>\n",
              "      <td>3.45</td>\n",
              "      <td>0.58</td>\n",
              "      <td>10.5</td>\n",
              "      <td>0</td>\n",
              "    </tr>\n",
              "    <tr>\n",
              "      <th>1596</th>\n",
              "      <td>5.9</td>\n",
              "      <td>0.550</td>\n",
              "      <td>0.10</td>\n",
              "      <td>2.2</td>\n",
              "      <td>0.062</td>\n",
              "      <td>39.0</td>\n",
              "      <td>51.0</td>\n",
              "      <td>0.99512</td>\n",
              "      <td>3.52</td>\n",
              "      <td>0.76</td>\n",
              "      <td>11.2</td>\n",
              "      <td>1</td>\n",
              "    </tr>\n",
              "    <tr>\n",
              "      <th>1597</th>\n",
              "      <td>6.3</td>\n",
              "      <td>0.510</td>\n",
              "      <td>0.13</td>\n",
              "      <td>2.3</td>\n",
              "      <td>0.076</td>\n",
              "      <td>29.0</td>\n",
              "      <td>40.0</td>\n",
              "      <td>0.99574</td>\n",
              "      <td>3.42</td>\n",
              "      <td>0.75</td>\n",
              "      <td>11.0</td>\n",
              "      <td>1</td>\n",
              "    </tr>\n",
              "    <tr>\n",
              "      <th>1598</th>\n",
              "      <td>5.9</td>\n",
              "      <td>0.645</td>\n",
              "      <td>0.12</td>\n",
              "      <td>2.0</td>\n",
              "      <td>0.075</td>\n",
              "      <td>32.0</td>\n",
              "      <td>44.0</td>\n",
              "      <td>0.99547</td>\n",
              "      <td>3.57</td>\n",
              "      <td>0.71</td>\n",
              "      <td>10.2</td>\n",
              "      <td>0</td>\n",
              "    </tr>\n",
              "    <tr>\n",
              "      <th>1599</th>\n",
              "      <td>6.0</td>\n",
              "      <td>0.310</td>\n",
              "      <td>0.47</td>\n",
              "      <td>3.6</td>\n",
              "      <td>0.067</td>\n",
              "      <td>18.0</td>\n",
              "      <td>42.0</td>\n",
              "      <td>0.99549</td>\n",
              "      <td>3.39</td>\n",
              "      <td>0.66</td>\n",
              "      <td>11.0</td>\n",
              "      <td>1</td>\n",
              "    </tr>\n",
              "  </tbody>\n",
              "</table>\n",
              "<p>1599 rows × 12 columns</p>\n",
              "</div>"
            ],
            "text/plain": [
              "      fixed.acidity  volatile.acidity  citric.acid  ...  sulphates  alcohol  quality\n",
              "1               7.4             0.700         0.00  ...       0.56      9.4        0\n",
              "2               7.8             0.880         0.00  ...       0.68      9.8        0\n",
              "3               7.8             0.760         0.04  ...       0.65      9.8        0\n",
              "4              11.2             0.280         0.56  ...       0.58      9.8        1\n",
              "5               7.4             0.700         0.00  ...       0.56      9.4        0\n",
              "...             ...               ...          ...  ...        ...      ...      ...\n",
              "1595            6.2             0.600         0.08  ...       0.58     10.5        0\n",
              "1596            5.9             0.550         0.10  ...       0.76     11.2        1\n",
              "1597            6.3             0.510         0.13  ...       0.75     11.0        1\n",
              "1598            5.9             0.645         0.12  ...       0.71     10.2        0\n",
              "1599            6.0             0.310         0.47  ...       0.66     11.0        1\n",
              "\n",
              "[1599 rows x 12 columns]"
            ]
          },
          "metadata": {
            "tags": []
          },
          "execution_count": 14
        }
      ]
    },
    {
      "cell_type": "markdown",
      "metadata": {
        "id": "YErN51WPnjal"
      },
      "source": [
        "Create a train test split with 20% of the data in the test subsample."
      ]
    },
    {
      "cell_type": "code",
      "metadata": {
        "id": "QgDv0Ab7njaj"
      },
      "source": [
        "# answer below:\n",
        "from sklearn.model_selection import train_test_split\n",
        "X = clean_wine.drop('quality', axis=1)\n",
        "y = clean_wine['quality']\n",
        "X_train, X_test, y_train, y_test = train_test_split(X, y, test_size=0.2)\n"
      ],
      "execution_count": 15,
      "outputs": []
    },
    {
      "cell_type": "markdown",
      "metadata": {
        "id": "7bdvaPDTnjaj"
      },
      "source": [
        "Scale only the independent variables using the minmax scaler."
      ]
    },
    {
      "cell_type": "code",
      "metadata": {
        "id": "Uh6ruAjbnjal"
      },
      "source": [
        "# answer below:\n",
        "from sklearn.preprocessing import MinMaxScaler\n",
        "scaler = MinMaxScaler()\n",
        "scaler.fit(X_train)\n",
        "X_train_fitted = pd.DataFrame(scaler.transform(X_train), columns=X_train.columns)\n",
        "X_test_fitted = pd.DataFrame(scaler.transform(X_test), columns=X_test.columns)\n",
        "\n"
      ],
      "execution_count": 25,
      "outputs": []
    },
    {
      "cell_type": "markdown",
      "metadata": {
        "id": "OP3laD_Nnjan"
      },
      "source": [
        "Create a KNN model with k=5 and report the accuracy scores. Then make a second model using the scaled data and compare your results."
      ]
    },
    {
      "cell_type": "code",
      "metadata": {
        "id": "6JBzmK3_njan",
        "outputId": "76aec2f5-ec47-4ef5-ddc1-24caffd4456c",
        "colab": {
          "base_uri": "https://localhost:8080/",
          "height": 85
        }
      },
      "source": [
        "# answer below:\n",
        "from sklearn.metrics import accuracy_score\n",
        "from sklearn.neighbors import KNeighborsClassifier\n",
        "\n",
        "knn = KNeighborsClassifier(n_neighbors=5)\n",
        "fit = knn.fit(X_train, y_train)\n",
        "unscaled_train_pred = fit.predict(X_train)\n",
        "unscaled_test_pred = fit.predict(X_test)\n",
        "\n",
        "train_score = accuracy_score(unscaled_train_pred, y_train)\n",
        "test_score = accuracy_score(unscaled_test_pred, y_test)\n",
        "print('unscaled train_score:', train_score)\n",
        "print('unscaled test_score:', test_score)\n",
        "\n",
        "knn = KNeighborsClassifier(n_neighbors=5)\n",
        "fit = knn.fit(X_train_fitted, y_train)\n",
        "scaled_train_pred = fit.predict(X_train_fitted)\n",
        "scaled_test_pred = fit.predict(X_test_fitted)\n",
        "\n",
        "train_score = accuracy_score(scaled_train_pred, y_train)\n",
        "test_score = accuracy_score(scaled_test_pred, y_test)\n",
        "print('scaled train_score:', train_score)\n",
        "print('scaled test_score:', test_score)\n"
      ],
      "execution_count": 127,
      "outputs": [
        {
          "output_type": "stream",
          "text": [
            "unscaled train_score: 0.7771696637998436\n",
            "unscaled test_score: 0.659375\n",
            "scaled train_score: 0.8037529319781079\n",
            "scaled test_score: 0.728125\n"
          ],
          "name": "stdout"
        }
      ]
    },
    {
      "cell_type": "markdown",
      "metadata": {
        "id": "Hxx2nBnEnjap"
      },
      "source": [
        "When generating a KNN model, we can use the weighted model by setting `weights='distance'`. We can also write our own custom weights function.\n",
        "\n",
        "Write a custom weight function that assigns the weight of 1/sqrt(distance) and use this function in your model. Report the accuracy score.\n",
        "\n",
        "Hint: Use the `_get_weights` function in scikit learn as a resource. The code is <a href=\"https://github.com/scikit-learn/scikit-learn/blob/fdbaa58acbead5a254f2e6d597dc1ab3b947f4c6/sklearn/neighbors/base.py#L63\" title=\"_get_weights\">here</a>."
      ]
    },
    {
      "cell_type": "code",
      "metadata": {
        "id": "DvBZopNLBK7p"
      },
      "source": [
        "def inv_sqrt_1(dist):\n",
        "  for i in range(len(dist)):\n",
        "    for j in range(len(dist[i])):\n",
        "      if dist[i][j] != 0:\n",
        "        dist[i][j] = math.sqrt(dist[i][j])\n",
        "      else:\n",
        "        dist[i][j] = math.inf\n",
        "  return dist\n",
        "  \n",
        "    "
      ],
      "execution_count": 126,
      "outputs": []
    },
    {
      "cell_type": "code",
      "metadata": {
        "id": "eExsEiA-njas"
      },
      "source": [
        "def inv_sqrt(dist):\n",
        "  # if user attempts to classify a point that was zero distance from one\n",
        "  # or more training points, those training points are weighted as 1.0\n",
        "  # and the other points as 0.0\n",
        "  if dist.dtype is np.dtype(object):\n",
        "      for point_dist_i, point_dist in enumerate(dist):\n",
        "          # check if point_dist is iterable\n",
        "          # (ex: RadiusNeighborClassifier.predict may set an element of\n",
        "          # dist to 1e-6 to represent an 'outlier')\n",
        "          if hasattr(point_dist, '__contains__') and 0. in point_dist:\n",
        "              dist[point_dist_i] = point_dist == 0.\n",
        "          else:\n",
        "              dist[point_dist_i] = 1. / point_dist\n",
        "              dist[point_dist_i] = dist[point_dist_i].apply(lambda x: math.sqrt(x))\n",
        "  else:\n",
        "      with np.errstate(divide='ignore'):\n",
        "          dist = 1. / dist\n",
        "      inf_mask = np.isinf(dist)\n",
        "      inf_row = np.any(inf_mask, axis=1)\n",
        "      dist[inf_row] = inf_mask[inf_row]\n",
        "  return dist"
      ],
      "execution_count": 123,
      "outputs": []
    },
    {
      "cell_type": "code",
      "metadata": {
        "id": "S3YLU1c5njaq",
        "outputId": "55e680f8-2841-4d20-ed8c-e3cd642ec892",
        "colab": {
          "base_uri": "https://localhost:8080/",
          "height": 51
        }
      },
      "source": [
        "knn = KNeighborsClassifier(n_neighbors=5, weights=inv_sqrt_1)\n",
        "fit = knn.fit(X_train_fitted, y_train)\n",
        "scaled_train_pred = fit.predict(X_train_fitted)\n",
        "scaled_test_pred = fit.predict(X_test_fitted)\n",
        "\n",
        "train_score = accuracy_score(scaled_train_pred, y_train)\n",
        "test_score = accuracy_score(scaled_test_pred, y_test)\n",
        "print('scaled train_score:', train_score)\n",
        "print('scaled test_score:', test_score)"
      ],
      "execution_count": 125,
      "outputs": [
        {
          "output_type": "stream",
          "text": [
            "scaled train_score: 0.6489444878811571\n",
            "scaled test_score: 0.696875\n"
          ],
          "name": "stdout"
        }
      ]
    }
  ]
}