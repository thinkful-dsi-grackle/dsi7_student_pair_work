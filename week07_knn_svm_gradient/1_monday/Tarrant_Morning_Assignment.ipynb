{
  "nbformat": 4,
  "nbformat_minor": 0,
  "metadata": {
    "colab": {
      "name": "Tarrant_Morning_Assignment.ipynb",
      "provenance": [],
      "collapsed_sections": []
    },
    "kernelspec": {
      "display_name": "Python 3",
      "language": "python",
      "name": "python3"
    },
    "language_info": {
      "codemirror_mode": {
        "name": "ipython",
        "version": 3
      },
      "file_extension": ".py",
      "mimetype": "text/x-python",
      "name": "python",
      "nbconvert_exporter": "python",
      "pygments_lexer": "ipython3",
      "version": "3.6.8"
    }
  },
  "cells": [
    {
      "cell_type": "markdown",
      "metadata": {
        "id": "Zrf-3-WBni8C"
      },
      "source": [
        "## Day 31 Lecture 1 Assignment\n",
        "\n",
        "In this assignment, we will learn about the K nearest neighbor algorithm. We will use the titanic dataset and create a model that can predict if a passenger will survive the Titanic Shipwreck or not {0, 1}."
      ]
    },
    {
      "cell_type": "code",
      "metadata": {
        "id": "gqWRoLL-ni8D"
      },
      "source": [
        "%matplotlib inline\n",
        "import matplotlib.pyplot as plt\n",
        "import numpy as np\n",
        "import pandas as pd"
      ],
      "execution_count": 1,
      "outputs": []
    },
    {
      "cell_type": "markdown",
      "metadata": {
        "id": "mquW1WIJvuNg"
      },
      "source": [
        "Columns:\n",
        "- 'PassengerId': id of the passenger\n",
        "- 'Survived': \n",
        "- 'Pclass': Ticket class\n",
        "- 'Name': Name\n",
        "- 'Sex': sex\n",
        "- 'Age': Age in years\n",
        "- 'SibSp': # of siblings / spouses aboard the Titanic\n",
        "- 'Parch': # of parents / children aboard the Titanic\n",
        "- 'Ticket': \n",
        "- 'Fare': Passenger fare\n",
        "- 'Cabin': Cabin number\n",
        "- 'Embarked': Port of Embarkation"
      ]
    },
    {
      "cell_type": "code",
      "metadata": {
        "id": "wSzfEaauni8F",
        "outputId": "5a491f9e-8632-4cd8-ddd2-558ee421e419",
        "colab": {
          "base_uri": "https://localhost:8080/",
          "height": 204
        }
      },
      "source": [
        "data = pd.read_csv('https://tf-assets-prod.s3.amazonaws.com/tf-curric/data-science/titanic.csv')\n",
        "data.head()"
      ],
      "execution_count": 2,
      "outputs": [
        {
          "output_type": "execute_result",
          "data": {
            "text/html": [
              "<div>\n",
              "<style scoped>\n",
              "    .dataframe tbody tr th:only-of-type {\n",
              "        vertical-align: middle;\n",
              "    }\n",
              "\n",
              "    .dataframe tbody tr th {\n",
              "        vertical-align: top;\n",
              "    }\n",
              "\n",
              "    .dataframe thead th {\n",
              "        text-align: right;\n",
              "    }\n",
              "</style>\n",
              "<table border=\"1\" class=\"dataframe\">\n",
              "  <thead>\n",
              "    <tr style=\"text-align: right;\">\n",
              "      <th></th>\n",
              "      <th>PassengerId</th>\n",
              "      <th>Survived</th>\n",
              "      <th>Pclass</th>\n",
              "      <th>Name</th>\n",
              "      <th>Sex</th>\n",
              "      <th>Age</th>\n",
              "      <th>SibSp</th>\n",
              "      <th>Parch</th>\n",
              "      <th>Ticket</th>\n",
              "      <th>Fare</th>\n",
              "      <th>Cabin</th>\n",
              "      <th>Embarked</th>\n",
              "    </tr>\n",
              "  </thead>\n",
              "  <tbody>\n",
              "    <tr>\n",
              "      <th>0</th>\n",
              "      <td>1</td>\n",
              "      <td>0</td>\n",
              "      <td>3</td>\n",
              "      <td>Braund, Mr. Owen Harris</td>\n",
              "      <td>male</td>\n",
              "      <td>22.0</td>\n",
              "      <td>1</td>\n",
              "      <td>0</td>\n",
              "      <td>A/5 21171</td>\n",
              "      <td>7.2500</td>\n",
              "      <td>NaN</td>\n",
              "      <td>S</td>\n",
              "    </tr>\n",
              "    <tr>\n",
              "      <th>1</th>\n",
              "      <td>2</td>\n",
              "      <td>1</td>\n",
              "      <td>1</td>\n",
              "      <td>Cumings, Mrs. John Bradley (Florence Briggs Th...</td>\n",
              "      <td>female</td>\n",
              "      <td>38.0</td>\n",
              "      <td>1</td>\n",
              "      <td>0</td>\n",
              "      <td>PC 17599</td>\n",
              "      <td>71.2833</td>\n",
              "      <td>C85</td>\n",
              "      <td>C</td>\n",
              "    </tr>\n",
              "    <tr>\n",
              "      <th>2</th>\n",
              "      <td>3</td>\n",
              "      <td>1</td>\n",
              "      <td>3</td>\n",
              "      <td>Heikkinen, Miss. Laina</td>\n",
              "      <td>female</td>\n",
              "      <td>26.0</td>\n",
              "      <td>0</td>\n",
              "      <td>0</td>\n",
              "      <td>STON/O2. 3101282</td>\n",
              "      <td>7.9250</td>\n",
              "      <td>NaN</td>\n",
              "      <td>S</td>\n",
              "    </tr>\n",
              "    <tr>\n",
              "      <th>3</th>\n",
              "      <td>4</td>\n",
              "      <td>1</td>\n",
              "      <td>1</td>\n",
              "      <td>Futrelle, Mrs. Jacques Heath (Lily May Peel)</td>\n",
              "      <td>female</td>\n",
              "      <td>35.0</td>\n",
              "      <td>1</td>\n",
              "      <td>0</td>\n",
              "      <td>113803</td>\n",
              "      <td>53.1000</td>\n",
              "      <td>C123</td>\n",
              "      <td>S</td>\n",
              "    </tr>\n",
              "    <tr>\n",
              "      <th>4</th>\n",
              "      <td>5</td>\n",
              "      <td>0</td>\n",
              "      <td>3</td>\n",
              "      <td>Allen, Mr. William Henry</td>\n",
              "      <td>male</td>\n",
              "      <td>35.0</td>\n",
              "      <td>0</td>\n",
              "      <td>0</td>\n",
              "      <td>373450</td>\n",
              "      <td>8.0500</td>\n",
              "      <td>NaN</td>\n",
              "      <td>S</td>\n",
              "    </tr>\n",
              "  </tbody>\n",
              "</table>\n",
              "</div>"
            ],
            "text/plain": [
              "   PassengerId  Survived  Pclass  ...     Fare Cabin  Embarked\n",
              "0            1         0       3  ...   7.2500   NaN         S\n",
              "1            2         1       1  ...  71.2833   C85         C\n",
              "2            3         1       3  ...   7.9250   NaN         S\n",
              "3            4         1       1  ...  53.1000  C123         S\n",
              "4            5         0       3  ...   8.0500   NaN         S\n",
              "\n",
              "[5 rows x 12 columns]"
            ]
          },
          "metadata": {
            "tags": []
          },
          "execution_count": 2
        }
      ]
    },
    {
      "cell_type": "code",
      "metadata": {
        "id": "acfoK9EYfZMj",
        "outputId": "772380ef-7b85-4ffd-8cb7-50315c2e7559",
        "colab": {
          "base_uri": "https://localhost:8080/",
          "height": 34
        }
      },
      "source": [
        "data.shape"
      ],
      "execution_count": 3,
      "outputs": [
        {
          "output_type": "execute_result",
          "data": {
            "text/plain": [
              "(891, 12)"
            ]
          },
          "metadata": {
            "tags": []
          },
          "execution_count": 3
        }
      ]
    },
    {
      "cell_type": "markdown",
      "metadata": {
        "id": "bkE7pnkOvuNk"
      },
      "source": [
        "We check the distribution of variables for the column we want to predict."
      ]
    },
    {
      "cell_type": "code",
      "metadata": {
        "id": "df0WkOQFvuNl",
        "outputId": "34b46012-c134-4b01-cebd-fb2bf7bc5550",
        "colab": {
          "base_uri": "https://localhost:8080/",
          "height": 332
        }
      },
      "source": [
        "# Calculate value counts for the Survived column\n",
        "data.hist('Survived')\n",
        "plt.show()\n",
        "data['Survived'].value_counts()\n"
      ],
      "execution_count": 4,
      "outputs": [
        {
          "output_type": "display_data",
          "data": {
            "image/png": "[encoded data removed]",
            "text/plain": [
              "<Figure size 432x288 with 1 Axes>"
            ]
          },
          "metadata": {
            "tags": [],
            "needs_background": "light"
          }
        },
        {
          "output_type": "execute_result",
          "data": {
            "text/plain": [
              "0    549\n",
              "1    342\n",
              "Name: Survived, dtype: int64"
            ]
          },
          "metadata": {
            "tags": []
          },
          "execution_count": 4
        }
      ]
    },
    {
      "cell_type": "markdown",
      "metadata": {
        "id": "5dk0oqeBni8I"
      },
      "source": [
        "First, check for missing data and remove all columns containing missing data"
      ]
    },
    {
      "cell_type": "code",
      "metadata": {
        "id": "JT9kbyCJni8J",
        "outputId": "088a36a2-3354-48c7-9af6-3a9a2345a47d",
        "colab": {
          "base_uri": "https://localhost:8080/",
          "height": 238
        }
      },
      "source": [
        "# Calculate NA values per column\n",
        "data.isnull().sum()"
      ],
      "execution_count": 5,
      "outputs": [
        {
          "output_type": "execute_result",
          "data": {
            "text/plain": [
              "PassengerId      0\n",
              "Survived         0\n",
              "Pclass           0\n",
              "Name             0\n",
              "Sex              0\n",
              "Age            177\n",
              "SibSp            0\n",
              "Parch            0\n",
              "Ticket           0\n",
              "Fare             0\n",
              "Cabin          687\n",
              "Embarked         2\n",
              "dtype: int64"
            ]
          },
          "metadata": {
            "tags": []
          },
          "execution_count": 5
        }
      ]
    },
    {
      "cell_type": "code",
      "metadata": {
        "id": "LhKVN9SXfdeh",
        "outputId": "2405929d-544c-4655-c72b-5bf3cc22644b",
        "colab": {
          "base_uri": "https://localhost:8080/",
          "height": 34
        }
      },
      "source": [
        "df = data.drop(['Age','Cabin','Embarked'],axis=1)\n",
        "df.shape"
      ],
      "execution_count": 6,
      "outputs": [
        {
          "output_type": "execute_result",
          "data": {
            "text/plain": [
              "(891, 9)"
            ]
          },
          "metadata": {
            "tags": []
          },
          "execution_count": 6
        }
      ]
    },
    {
      "cell_type": "markdown",
      "metadata": {
        "id": "BdXDgyNCvuNw"
      },
      "source": [
        "We also drop columns that are not informative and contain too many unique values(e.g. name)"
      ]
    },
    {
      "cell_type": "code",
      "metadata": {
        "id": "5QOylqV_vuNx",
        "outputId": "be116aad-4e0b-4dc2-f03b-a6ba9ce21590",
        "colab": {
          "base_uri": "https://localhost:8080/",
          "height": 170
        }
      },
      "source": [
        "# Calculate unique values for each column\n",
        "print('\\n'.join([f\"Column with name '{c}' has {data[c].nunique()} unique values\" for c in df.columns]))    "
      ],
      "execution_count": 7,
      "outputs": [
        {
          "output_type": "stream",
          "text": [
            "Column with name 'PassengerId' has 891 unique values\n",
            "Column with name 'Survived' has 2 unique values\n",
            "Column with name 'Pclass' has 3 unique values\n",
            "Column with name 'Name' has 891 unique values\n",
            "Column with name 'Sex' has 2 unique values\n",
            "Column with name 'SibSp' has 7 unique values\n",
            "Column with name 'Parch' has 7 unique values\n",
            "Column with name 'Ticket' has 681 unique values\n",
            "Column with name 'Fare' has 248 unique values\n"
          ],
          "name": "stdout"
        }
      ]
    },
    {
      "cell_type": "code",
      "metadata": {
        "id": "ARnS2ZLLvuN0",
        "outputId": "30db7629-af1c-48e1-da40-8234278a3f59",
        "colab": {
          "base_uri": "https://localhost:8080/",
          "height": 34
        }
      },
      "source": [
        "# Drop columns 'PassengerId', 'Name' and 'Ticket'.\n",
        "df2 = df.drop(columns=['PassengerId','Name','Ticket'])\n",
        "df2.shape\n",
        "\n"
      ],
      "execution_count": 8,
      "outputs": [
        {
          "output_type": "execute_result",
          "data": {
            "text/plain": [
              "(891, 6)"
            ]
          },
          "metadata": {
            "tags": []
          },
          "execution_count": 8
        }
      ]
    },
    {
      "cell_type": "markdown",
      "metadata": {
        "id": "zC2YmEBTni8K"
      },
      "source": [
        "To use the data, we must convert all columns to numeric. Do this by replacing yes and no with 1 and 0."
      ]
    },
    {
      "cell_type": "code",
      "metadata": {
        "id": "cEdiuwfCgLID",
        "outputId": "58652e6c-da38-40df-ccde-28061b606e91",
        "colab": {
          "base_uri": "https://localhost:8080/",
          "height": 297
        }
      },
      "source": [
        "df2.describe()"
      ],
      "execution_count": 9,
      "outputs": [
        {
          "output_type": "execute_result",
          "data": {
            "text/html": [
              "<div>\n",
              "<style scoped>\n",
              "    .dataframe tbody tr th:only-of-type {\n",
              "        vertical-align: middle;\n",
              "    }\n",
              "\n",
              "    .dataframe tbody tr th {\n",
              "        vertical-align: top;\n",
              "    }\n",
              "\n",
              "    .dataframe thead th {\n",
              "        text-align: right;\n",
              "    }\n",
              "</style>\n",
              "<table border=\"1\" class=\"dataframe\">\n",
              "  <thead>\n",
              "    <tr style=\"text-align: right;\">\n",
              "      <th></th>\n",
              "      <th>Survived</th>\n",
              "      <th>Pclass</th>\n",
              "      <th>SibSp</th>\n",
              "      <th>Parch</th>\n",
              "      <th>Fare</th>\n",
              "    </tr>\n",
              "  </thead>\n",
              "  <tbody>\n",
              "    <tr>\n",
              "      <th>count</th>\n",
              "      <td>891.000000</td>\n",
              "      <td>891.000000</td>\n",
              "      <td>891.000000</td>\n",
              "      <td>891.000000</td>\n",
              "      <td>891.000000</td>\n",
              "    </tr>\n",
              "    <tr>\n",
              "      <th>mean</th>\n",
              "      <td>0.383838</td>\n",
              "      <td>2.308642</td>\n",
              "      <td>0.523008</td>\n",
              "      <td>0.381594</td>\n",
              "      <td>32.204208</td>\n",
              "    </tr>\n",
              "    <tr>\n",
              "      <th>std</th>\n",
              "      <td>0.486592</td>\n",
              "      <td>0.836071</td>\n",
              "      <td>1.102743</td>\n",
              "      <td>0.806057</td>\n",
              "      <td>49.693429</td>\n",
              "    </tr>\n",
              "    <tr>\n",
              "      <th>min</th>\n",
              "      <td>0.000000</td>\n",
              "      <td>1.000000</td>\n",
              "      <td>0.000000</td>\n",
              "      <td>0.000000</td>\n",
              "      <td>0.000000</td>\n",
              "    </tr>\n",
              "    <tr>\n",
              "      <th>25%</th>\n",
              "      <td>0.000000</td>\n",
              "      <td>2.000000</td>\n",
              "      <td>0.000000</td>\n",
              "      <td>0.000000</td>\n",
              "      <td>7.910400</td>\n",
              "    </tr>\n",
              "    <tr>\n",
              "      <th>50%</th>\n",
              "      <td>0.000000</td>\n",
              "      <td>3.000000</td>\n",
              "      <td>0.000000</td>\n",
              "      <td>0.000000</td>\n",
              "      <td>14.454200</td>\n",
              "    </tr>\n",
              "    <tr>\n",
              "      <th>75%</th>\n",
              "      <td>1.000000</td>\n",
              "      <td>3.000000</td>\n",
              "      <td>1.000000</td>\n",
              "      <td>0.000000</td>\n",
              "      <td>31.000000</td>\n",
              "    </tr>\n",
              "    <tr>\n",
              "      <th>max</th>\n",
              "      <td>1.000000</td>\n",
              "      <td>3.000000</td>\n",
              "      <td>8.000000</td>\n",
              "      <td>6.000000</td>\n",
              "      <td>512.329200</td>\n",
              "    </tr>\n",
              "  </tbody>\n",
              "</table>\n",
              "</div>"
            ],
            "text/plain": [
              "         Survived      Pclass       SibSp       Parch        Fare\n",
              "count  891.000000  891.000000  891.000000  891.000000  891.000000\n",
              "mean     0.383838    2.308642    0.523008    0.381594   32.204208\n",
              "std      0.486592    0.836071    1.102743    0.806057   49.693429\n",
              "min      0.000000    1.000000    0.000000    0.000000    0.000000\n",
              "25%      0.000000    2.000000    0.000000    0.000000    7.910400\n",
              "50%      0.000000    3.000000    0.000000    0.000000   14.454200\n",
              "75%      1.000000    3.000000    1.000000    0.000000   31.000000\n",
              "max      1.000000    3.000000    8.000000    6.000000  512.329200"
            ]
          },
          "metadata": {
            "tags": []
          },
          "execution_count": 9
        }
      ]
    },
    {
      "cell_type": "code",
      "metadata": {
        "id": "5SKAcRjJGFZC"
      },
      "source": [
        "# Use get_dummies to get a dataset with one hot encoded columns for categorical variables\n",
        "# Survived should be excluded.\n",
        "df3 = pd.get_dummies(data=df2, columns=['Sex'], drop_first=True)"
      ],
      "execution_count": 10,
      "outputs": []
    },
    {
      "cell_type": "code",
      "metadata": {
        "id": "ke0Y2xf9vuN5",
        "outputId": "82edf5c7-beee-4d64-bd16-7b1fb5442658",
        "colab": {
          "base_uri": "https://localhost:8080/",
          "height": 221
        }
      },
      "source": [
        "# Let's check the new columns\n",
        "print(df3.shape)\n",
        "df3.head()\n",
        "\n"
      ],
      "execution_count": 11,
      "outputs": [
        {
          "output_type": "stream",
          "text": [
            "(891, 6)\n"
          ],
          "name": "stdout"
        },
        {
          "output_type": "execute_result",
          "data": {
            "text/html": [
              "<div>\n",
              "<style scoped>\n",
              "    .dataframe tbody tr th:only-of-type {\n",
              "        vertical-align: middle;\n",
              "    }\n",
              "\n",
              "    .dataframe tbody tr th {\n",
              "        vertical-align: top;\n",
              "    }\n",
              "\n",
              "    .dataframe thead th {\n",
              "        text-align: right;\n",
              "    }\n",
              "</style>\n",
              "<table border=\"1\" class=\"dataframe\">\n",
              "  <thead>\n",
              "    <tr style=\"text-align: right;\">\n",
              "      <th></th>\n",
              "      <th>Survived</th>\n",
              "      <th>Pclass</th>\n",
              "      <th>SibSp</th>\n",
              "      <th>Parch</th>\n",
              "      <th>Fare</th>\n",
              "      <th>Sex_male</th>\n",
              "    </tr>\n",
              "  </thead>\n",
              "  <tbody>\n",
              "    <tr>\n",
              "      <th>0</th>\n",
              "      <td>0</td>\n",
              "      <td>3</td>\n",
              "      <td>1</td>\n",
              "      <td>0</td>\n",
              "      <td>7.2500</td>\n",
              "      <td>1</td>\n",
              "    </tr>\n",
              "    <tr>\n",
              "      <th>1</th>\n",
              "      <td>1</td>\n",
              "      <td>1</td>\n",
              "      <td>1</td>\n",
              "      <td>0</td>\n",
              "      <td>71.2833</td>\n",
              "      <td>0</td>\n",
              "    </tr>\n",
              "    <tr>\n",
              "      <th>2</th>\n",
              "      <td>1</td>\n",
              "      <td>3</td>\n",
              "      <td>0</td>\n",
              "      <td>0</td>\n",
              "      <td>7.9250</td>\n",
              "      <td>0</td>\n",
              "    </tr>\n",
              "    <tr>\n",
              "      <th>3</th>\n",
              "      <td>1</td>\n",
              "      <td>1</td>\n",
              "      <td>1</td>\n",
              "      <td>0</td>\n",
              "      <td>53.1000</td>\n",
              "      <td>0</td>\n",
              "    </tr>\n",
              "    <tr>\n",
              "      <th>4</th>\n",
              "      <td>0</td>\n",
              "      <td>3</td>\n",
              "      <td>0</td>\n",
              "      <td>0</td>\n",
              "      <td>8.0500</td>\n",
              "      <td>1</td>\n",
              "    </tr>\n",
              "  </tbody>\n",
              "</table>\n",
              "</div>"
            ],
            "text/plain": [
              "   Survived  Pclass  SibSp  Parch     Fare  Sex_male\n",
              "0         0       3      1      0   7.2500         1\n",
              "1         1       1      1      0  71.2833         0\n",
              "2         1       3      0      0   7.9250         0\n",
              "3         1       1      1      0  53.1000         0\n",
              "4         0       3      0      0   8.0500         1"
            ]
          },
          "metadata": {
            "tags": []
          },
          "execution_count": 11
        }
      ]
    },
    {
      "cell_type": "markdown",
      "metadata": {
        "id": "7wR6bliDni8M"
      },
      "source": [
        "Split the data into train and test. Use 20% of the data for our test subset. We will use the train_test_split function from scikit-learn for this."
      ]
    },
    {
      "cell_type": "code",
      "metadata": {
        "id": "VzB9rC4kni8N"
      },
      "source": [
        "# Split the dataset. Remember that the y arrays should include only the 'Survived' column which should be excluded from\n",
        "# the X arrays\n",
        "from sklearn.model_selection import train_test_split\n",
        "\n",
        "X = df3.drop('Survived', axis=1)\n",
        "y = df3['Survived']\n",
        "\n",
        "X_train, X_test, y_train, y_test = train_test_split(X, y, test_size=0.2)\n"
      ],
      "execution_count": 12,
      "outputs": []
    },
    {
      "cell_type": "markdown",
      "metadata": {
        "id": "T0rFQRHvni8O"
      },
      "source": [
        "Generate a KNN model with k=1 for the dataset. What is the accuracy score for the train and test subsamples?"
      ]
    },
    {
      "cell_type": "code",
      "metadata": {
        "id": "947BjIolni8P",
        "outputId": "bfb24d14-b546-4587-ecf4-09045d6133ad",
        "colab": {
          "base_uri": "https://localhost:8080/",
          "height": 51
        }
      },
      "source": [
        "from sklearn.neighbors import KNeighborsClassifier\n",
        "# answer below:\n",
        "neighbors = KNeighborsClassifier(1)\n",
        "\n",
        "neighbors.fit(X_train,y_train)\n",
        "\n",
        "print(f\"KNN Train Score: {neighbors.score(X_train, y_train):.3f}\")\n",
        "print(f\"KNN Test Score: {neighbors.score(X_test, y_test):.3f}\")"
      ],
      "execution_count": 13,
      "outputs": [
        {
          "output_type": "stream",
          "text": [
            "KNN Train Score: 0.900\n",
            "KNN Test Score: 0.749\n"
          ],
          "name": "stdout"
        }
      ]
    },
    {
      "cell_type": "markdown",
      "metadata": {
        "id": "lKfx59-Hni8S"
      },
      "source": [
        "Would you say the model overfits? Why or why not? Put your answer in the comment below."
      ]
    },
    {
      "cell_type": "code",
      "metadata": {
        "id": "Lxdoh4dZni8S"
      },
      "source": [
        "# answer below:\n",
        "\n"
      ],
      "execution_count": 14,
      "outputs": []
    },
    {
      "cell_type": "markdown",
      "metadata": {
        "id": "6ip6NeiUnkb6"
      },
      "source": [
        "The model is overfitting because we are fitting to one neighbor. "
      ]
    },
    {
      "cell_type": "markdown",
      "metadata": {
        "id": "0P6bHOPOni8U"
      },
      "source": [
        "Let's optimize k. A good idea is to create plots that depict train and test accuracy for each candidate k. Since we have 2 classes, we will be selecting odd numbers in order to deal with possible ties. By selecting a really small k, e.g. k=1, we increase variance and the model is prone to overfitting since it will only take into account the nearest neighbor where there could be a lot of other close samples belonging to another class. By doing the opposite, selecting a big k we are prone to underfitting, as we increase bias as there is a higher probability to select the majority class.\n"
      ]
    },
    {
      "cell_type": "code",
      "metadata": {
        "id": "S0WEG25bni8U"
      },
      "source": [
        "from sklearn.metrics import accuracy_score, f1_score\n",
        "\n",
        "accuracy_train = []\n",
        "accuracy_test = []\n",
        "f1_train = []\n",
        "f1_test = []\n",
        "k_list = range(1, 15, 2)"
      ],
      "execution_count": 15,
      "outputs": []
    },
    {
      "cell_type": "markdown",
      "metadata": {
        "id": "TaFOfaUBvuOI"
      },
      "source": [
        "For each k value in the list created above we want to create and fit a knn instance on X_train, y_train and then make predictions both on the training set (X_train) as well as on the test set(X_test) and calculate accuracy and f1 score and append it to the corrensponding list."
      ]
    },
    {
      "cell_type": "code",
      "metadata": {
        "id": "tCGDJ4K5vuOJ"
      },
      "source": [
        "# answer below:\n",
        "for k_val in k_list:\n",
        "  neighbors = KNeighborsClassifier(n_neighbors=k_val)\n",
        "  neighbors.fit(X_train, y_train)\n",
        "  accuracy_train.append(neighbors.score(X_train,y_train))\n",
        "  accuracy_test.append(neighbors.score(X_test,y_test))\n",
        "  f1_train.append(f1_score(y_train, neighbors.predict(X_train)))\n",
        "  f1_test.append(f1_score(y_test,neighbors.predict(X_test)))\n"
      ],
      "execution_count": 16,
      "outputs": []
    },
    {
      "cell_type": "markdown",
      "metadata": {
        "id": "JlnKcCBWvuOL"
      },
      "source": [
        "In the following plot we want to select the k that achieves the highest test score. \n",
        "\n",
        "Create a two plots with each of them depicting the following information:\n",
        "1. Two lines, one for training accuracy and one for test accuracy for each k value.\n",
        "2. Two lines, one for training F1score and one for test F1 score for each k value."
      ]
    },
    {
      "cell_type": "code",
      "metadata": {
        "id": "lxex9RjSvuOL",
        "outputId": "9a739e6b-cd4e-4b02-a911-da0138e655f0",
        "colab": {
          "base_uri": "https://localhost:8080/",
          "height": 281
        }
      },
      "source": [
        "# answer below:\n",
        "plt.plot(k_list, accuracy_train)\n",
        "plt.plot(k_list, accuracy_test)\n",
        "plt.title('Accuracy vs Value of K')\n",
        "plt.legend(['accuracy_train', 'accuracy_test'])\n",
        "plt.show()\n",
        "\n",
        "\n"
      ],
      "execution_count": 21,
      "outputs": [
        {
          "output_type": "display_data",
          "data": {
            "image/png": "[encoded data removed]",
            "text/plain": [
              "<Figure size 432x288 with 1 Axes>"
            ]
          },
          "metadata": {
            "tags": [],
            "needs_background": "light"
          }
        }
      ]
    },
    {
      "cell_type": "code",
      "metadata": {
        "id": "IRMCpvERskhR",
        "outputId": "d7d3070b-9a39-4021-ff4e-67b115521eee",
        "colab": {
          "base_uri": "https://localhost:8080/",
          "height": 281
        }
      },
      "source": [
        "plt.plot(k_list, f1_train)\n",
        "plt.plot(k_list, f1_test)\n",
        "plt.title('F1 Score vs Value of K')\n",
        "plt.legend(['f1_train', 'f1_test'])\n",
        "plt.show()"
      ],
      "execution_count": 22,
      "outputs": [
        {
          "output_type": "display_data",
          "data": {
            "image/png": "[encoded data removed]",
            "text/plain": [
              "<Figure size 432x288 with 1 Axes>"
            ]
          },
          "metadata": {
            "tags": [],
            "needs_background": "light"
          }
        }
      ]
    },
    {
      "cell_type": "markdown",
      "metadata": {
        "id": "Bs-_v9vVvuOP"
      },
      "source": [
        "Please comment the results of the plots above"
      ]
    },
    {
      "cell_type": "code",
      "metadata": {
        "id": "L5xK-UfVvuOP"
      },
      "source": [
        "# Add your observations in comments below.\n",
        "\n"
      ],
      "execution_count": 18,
      "outputs": []
    },
    {
      "cell_type": "markdown",
      "metadata": {
        "id": "4rDT7Q18tsjQ"
      },
      "source": [
        "On both plots we see overfitting as value of K decreases from 7 to 1. Seven seems to be the sweet spot for difference between train and test accuracy being the lowest. We see a drop in test accuracy once we increase to more than 8 neighbors, but the train and test accuracy gap from 9-12 neighbors seems to stabalize. "
      ]
    },
    {
      "cell_type": "code",
      "metadata": {
        "id": "Cbco7LeWu-A4"
      },
      "source": [
        ""
      ],
      "execution_count": null,
      "outputs": []
    }
  ]
}