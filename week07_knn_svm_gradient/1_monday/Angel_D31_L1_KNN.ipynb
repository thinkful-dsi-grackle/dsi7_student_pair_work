{
  "nbformat": 4,
  "nbformat_minor": 0,
  "metadata": {
    "colab": {
      "name": "Angel_D31_L1_KNN.ipynb",
      "provenance": [],
      "collapsed_sections": []
    },
    "kernelspec": {
      "display_name": "Python 3",
      "language": "python",
      "name": "python3"
    },
    "language_info": {
      "codemirror_mode": {
        "name": "ipython",
        "version": 3
      },
      "file_extension": ".py",
      "mimetype": "text/x-python",
      "name": "python",
      "nbconvert_exporter": "python",
      "pygments_lexer": "ipython3",
      "version": "3.6.8"
    }
  },
  "cells": [
    {
      "cell_type": "markdown",
      "metadata": {
        "id": "Zrf-3-WBni8C"
      },
      "source": [
        "## Day 31 Lecture 1 Assignment\n",
        "\n",
        "In this assignment, we will learn about the K nearest neighbor algorithm. We will use the titanic dataset and create a model that can predict if a passenger will survive the Titanic Shipwreck or not {0, 1}."
      ]
    },
    {
      "cell_type": "code",
      "metadata": {
        "id": "gqWRoLL-ni8D"
      },
      "source": [
        "%matplotlib inline\n",
        "import matplotlib.pyplot as plt\n",
        "import numpy as np\n",
        "import pandas as pd\n",
        "import seaborn as sns"
      ],
      "execution_count": 1,
      "outputs": []
    },
    {
      "cell_type": "markdown",
      "metadata": {
        "id": "mquW1WIJvuNg"
      },
      "source": [
        "Columns:\n",
        "- 'PassengerId': id of the passenger\n",
        "- 'Survived': \n",
        "- 'Pclass': Ticket class\n",
        "- 'Name': Name\n",
        "- 'Sex': sex\n",
        "- 'Age': Age in years\n",
        "- 'SibSp': # of siblings / spouses aboard the Titanic\n",
        "- 'Parch': # of parents / children aboard the Titanic\n",
        "- 'Ticket': \n",
        "- 'Fare': Passenger fare\n",
        "- 'Cabin': Cabin number\n",
        "- 'Embarked': Port of Embarkation"
      ]
    },
    {
      "cell_type": "code",
      "metadata": {
        "id": "wSzfEaauni8F",
        "outputId": "6f2b2de7-2405-4ae8-e688-207c9f545de1",
        "colab": {
          "base_uri": "https://localhost:8080/",
          "height": 202
        }
      },
      "source": [
        "data = pd.read_csv('https://tf-assets-prod.s3.amazonaws.com/tf-curric/data-science/titanic.csv')\n",
        "data.head()"
      ],
      "execution_count": 2,
      "outputs": [
        {
          "output_type": "execute_result",
          "data": {
            "text/html": [
              "<div>\n",
              "<style scoped>\n",
              "    .dataframe tbody tr th:only-of-type {\n",
              "        vertical-align: middle;\n",
              "    }\n",
              "\n",
              "    .dataframe tbody tr th {\n",
              "        vertical-align: top;\n",
              "    }\n",
              "\n",
              "    .dataframe thead th {\n",
              "        text-align: right;\n",
              "    }\n",
              "</style>\n",
              "<table border=\"1\" class=\"dataframe\">\n",
              "  <thead>\n",
              "    <tr style=\"text-align: right;\">\n",
              "      <th></th>\n",
              "      <th>PassengerId</th>\n",
              "      <th>Survived</th>\n",
              "      <th>Pclass</th>\n",
              "      <th>Name</th>\n",
              "      <th>Sex</th>\n",
              "      <th>Age</th>\n",
              "      <th>SibSp</th>\n",
              "      <th>Parch</th>\n",
              "      <th>Ticket</th>\n",
              "      <th>Fare</th>\n",
              "      <th>Cabin</th>\n",
              "      <th>Embarked</th>\n",
              "    </tr>\n",
              "  </thead>\n",
              "  <tbody>\n",
              "    <tr>\n",
              "      <th>0</th>\n",
              "      <td>1</td>\n",
              "      <td>0</td>\n",
              "      <td>3</td>\n",
              "      <td>Braund, Mr. Owen Harris</td>\n",
              "      <td>male</td>\n",
              "      <td>22.0</td>\n",
              "      <td>1</td>\n",
              "      <td>0</td>\n",
              "      <td>A/5 21171</td>\n",
              "      <td>7.2500</td>\n",
              "      <td>NaN</td>\n",
              "      <td>S</td>\n",
              "    </tr>\n",
              "    <tr>\n",
              "      <th>1</th>\n",
              "      <td>2</td>\n",
              "      <td>1</td>\n",
              "      <td>1</td>\n",
              "      <td>Cumings, Mrs. John Bradley (Florence Briggs Th...</td>\n",
              "      <td>female</td>\n",
              "      <td>38.0</td>\n",
              "      <td>1</td>\n",
              "      <td>0</td>\n",
              "      <td>PC 17599</td>\n",
              "      <td>71.2833</td>\n",
              "      <td>C85</td>\n",
              "      <td>C</td>\n",
              "    </tr>\n",
              "    <tr>\n",
              "      <th>2</th>\n",
              "      <td>3</td>\n",
              "      <td>1</td>\n",
              "      <td>3</td>\n",
              "      <td>Heikkinen, Miss. Laina</td>\n",
              "      <td>female</td>\n",
              "      <td>26.0</td>\n",
              "      <td>0</td>\n",
              "      <td>0</td>\n",
              "      <td>STON/O2. 3101282</td>\n",
              "      <td>7.9250</td>\n",
              "      <td>NaN</td>\n",
              "      <td>S</td>\n",
              "    </tr>\n",
              "    <tr>\n",
              "      <th>3</th>\n",
              "      <td>4</td>\n",
              "      <td>1</td>\n",
              "      <td>1</td>\n",
              "      <td>Futrelle, Mrs. Jacques Heath (Lily May Peel)</td>\n",
              "      <td>female</td>\n",
              "      <td>35.0</td>\n",
              "      <td>1</td>\n",
              "      <td>0</td>\n",
              "      <td>113803</td>\n",
              "      <td>53.1000</td>\n",
              "      <td>C123</td>\n",
              "      <td>S</td>\n",
              "    </tr>\n",
              "    <tr>\n",
              "      <th>4</th>\n",
              "      <td>5</td>\n",
              "      <td>0</td>\n",
              "      <td>3</td>\n",
              "      <td>Allen, Mr. William Henry</td>\n",
              "      <td>male</td>\n",
              "      <td>35.0</td>\n",
              "      <td>0</td>\n",
              "      <td>0</td>\n",
              "      <td>373450</td>\n",
              "      <td>8.0500</td>\n",
              "      <td>NaN</td>\n",
              "      <td>S</td>\n",
              "    </tr>\n",
              "  </tbody>\n",
              "</table>\n",
              "</div>"
            ],
            "text/plain": [
              "   PassengerId  Survived  Pclass  ...     Fare Cabin  Embarked\n",
              "0            1         0       3  ...   7.2500   NaN         S\n",
              "1            2         1       1  ...  71.2833   C85         C\n",
              "2            3         1       3  ...   7.9250   NaN         S\n",
              "3            4         1       1  ...  53.1000  C123         S\n",
              "4            5         0       3  ...   8.0500   NaN         S\n",
              "\n",
              "[5 rows x 12 columns]"
            ]
          },
          "metadata": {
            "tags": []
          },
          "execution_count": 2
        }
      ]
    },
    {
      "cell_type": "markdown",
      "metadata": {
        "id": "bkE7pnkOvuNk"
      },
      "source": [
        "We check the distribution of variables for the column we want to predict."
      ]
    },
    {
      "cell_type": "code",
      "metadata": {
        "id": "df0WkOQFvuNl",
        "outputId": "f5452a6f-c609-468b-b7d1-7763986c1ee7",
        "colab": {
          "base_uri": "https://localhost:8080/",
          "height": 331
        }
      },
      "source": [
        "# Calculate value counts for the Survived column\n",
        "sns.histplot(data.Survived)\n",
        "plt.show()\n",
        "data.Survived.value_counts()"
      ],
      "execution_count": 3,
      "outputs": [
        {
          "output_type": "display_data",
          "data": {
            "image/png": "[encoded data removed]",
            "text/plain": [
              "<Figure size 432x288 with 1 Axes>"
            ]
          },
          "metadata": {
            "tags": [],
            "needs_background": "light"
          }
        },
        {
          "output_type": "execute_result",
          "data": {
            "text/plain": [
              "0    549\n",
              "1    342\n",
              "Name: Survived, dtype: int64"
            ]
          },
          "metadata": {
            "tags": []
          },
          "execution_count": 3
        }
      ]
    },
    {
      "cell_type": "markdown",
      "metadata": {
        "id": "5dk0oqeBni8I"
      },
      "source": [
        "First, check for missing data and remove all columns containing missing data"
      ]
    },
    {
      "cell_type": "code",
      "metadata": {
        "id": "JT9kbyCJni8J",
        "outputId": "2a3f3f8d-e8a2-44d7-d908-d726cb4798e7",
        "colab": {
          "base_uri": "https://localhost:8080/",
          "height": 243
        }
      },
      "source": [
        "# Calculate NA values per column\n",
        "missing = data.isnull().sum()/data.isnull().count()\n",
        "missing.sort_values(ascending=False)"
      ],
      "execution_count": 4,
      "outputs": [
        {
          "output_type": "execute_result",
          "data": {
            "text/plain": [
              "Cabin          0.771044\n",
              "Age            0.198653\n",
              "Embarked       0.002245\n",
              "Fare           0.000000\n",
              "Ticket         0.000000\n",
              "Parch          0.000000\n",
              "SibSp          0.000000\n",
              "Sex            0.000000\n",
              "Name           0.000000\n",
              "Pclass         0.000000\n",
              "Survived       0.000000\n",
              "PassengerId    0.000000\n",
              "dtype: float64"
            ]
          },
          "metadata": {
            "tags": []
          },
          "execution_count": 4
        }
      ]
    },
    {
      "cell_type": "code",
      "metadata": {
        "id": "YG4FoNytgTyD",
        "outputId": "2c19e3a2-637a-401b-ec4f-c960371137ff",
        "colab": {
          "base_uri": "https://localhost:8080/",
          "height": 104
        }
      },
      "source": [
        "categorical = data.select_dtypes(include=['object'])\n",
        "for i in categorical:\n",
        "    column = categorical[i]\n",
        "    print({i:column.nunique()})"
      ],
      "execution_count": 5,
      "outputs": [
        {
          "output_type": "stream",
          "text": [
            "{'Name': 891}\n",
            "{'Sex': 2}\n",
            "{'Ticket': 681}\n",
            "{'Cabin': 147}\n",
            "{'Embarked': 3}\n"
          ],
          "name": "stdout"
        }
      ]
    },
    {
      "cell_type": "code",
      "metadata": {
        "id": "1HgS09pRgdmP"
      },
      "source": [
        "# Will drop ['Cabin', 'Age','Embarked', 'Name', 'Ticket']"
      ],
      "execution_count": 6,
      "outputs": []
    },
    {
      "cell_type": "markdown",
      "metadata": {
        "id": "BdXDgyNCvuNw"
      },
      "source": [
        "We also drop columns that are not informative and contain too many unique values(e.g. name)"
      ]
    },
    {
      "cell_type": "code",
      "metadata": {
        "id": "5QOylqV_vuNx",
        "outputId": "49d44c2b-4209-491c-f2ab-c0468dd65169",
        "colab": {
          "base_uri": "https://localhost:8080/",
          "height": 225
        }
      },
      "source": [
        "# Calculate unique values for each column\n",
        "print('\\n'.join([f\"Column with name '{c}' has {data[c].nunique()} unique values\" for c in data.columns]))    "
      ],
      "execution_count": 7,
      "outputs": [
        {
          "output_type": "stream",
          "text": [
            "Column with name 'PassengerId' has 891 unique values\n",
            "Column with name 'Survived' has 2 unique values\n",
            "Column with name 'Pclass' has 3 unique values\n",
            "Column with name 'Name' has 891 unique values\n",
            "Column with name 'Sex' has 2 unique values\n",
            "Column with name 'Age' has 88 unique values\n",
            "Column with name 'SibSp' has 7 unique values\n",
            "Column with name 'Parch' has 7 unique values\n",
            "Column with name 'Ticket' has 681 unique values\n",
            "Column with name 'Fare' has 248 unique values\n",
            "Column with name 'Cabin' has 147 unique values\n",
            "Column with name 'Embarked' has 3 unique values\n"
          ],
          "name": "stdout"
        }
      ]
    },
    {
      "cell_type": "code",
      "metadata": {
        "id": "ARnS2ZLLvuN0",
        "outputId": "438306fa-98c6-40a2-ac09-9b0c09d24741",
        "colab": {
          "base_uri": "https://localhost:8080/",
          "height": 141
        }
      },
      "source": [
        "# Drop columns 'PassengerId', 'Name' and 'Ticket'.\n",
        "clean_data = data.drop(columns=['PassengerId', 'Cabin', 'Age','Embarked', 'Name', 'Ticket'])\n",
        "clean_data.head(3)"
      ],
      "execution_count": 8,
      "outputs": [
        {
          "output_type": "execute_result",
          "data": {
            "text/html": [
              "<div>\n",
              "<style scoped>\n",
              "    .dataframe tbody tr th:only-of-type {\n",
              "        vertical-align: middle;\n",
              "    }\n",
              "\n",
              "    .dataframe tbody tr th {\n",
              "        vertical-align: top;\n",
              "    }\n",
              "\n",
              "    .dataframe thead th {\n",
              "        text-align: right;\n",
              "    }\n",
              "</style>\n",
              "<table border=\"1\" class=\"dataframe\">\n",
              "  <thead>\n",
              "    <tr style=\"text-align: right;\">\n",
              "      <th></th>\n",
              "      <th>Survived</th>\n",
              "      <th>Pclass</th>\n",
              "      <th>Sex</th>\n",
              "      <th>SibSp</th>\n",
              "      <th>Parch</th>\n",
              "      <th>Fare</th>\n",
              "    </tr>\n",
              "  </thead>\n",
              "  <tbody>\n",
              "    <tr>\n",
              "      <th>0</th>\n",
              "      <td>0</td>\n",
              "      <td>3</td>\n",
              "      <td>male</td>\n",
              "      <td>1</td>\n",
              "      <td>0</td>\n",
              "      <td>7.2500</td>\n",
              "    </tr>\n",
              "    <tr>\n",
              "      <th>1</th>\n",
              "      <td>1</td>\n",
              "      <td>1</td>\n",
              "      <td>female</td>\n",
              "      <td>1</td>\n",
              "      <td>0</td>\n",
              "      <td>71.2833</td>\n",
              "    </tr>\n",
              "    <tr>\n",
              "      <th>2</th>\n",
              "      <td>1</td>\n",
              "      <td>3</td>\n",
              "      <td>female</td>\n",
              "      <td>0</td>\n",
              "      <td>0</td>\n",
              "      <td>7.9250</td>\n",
              "    </tr>\n",
              "  </tbody>\n",
              "</table>\n",
              "</div>"
            ],
            "text/plain": [
              "   Survived  Pclass     Sex  SibSp  Parch     Fare\n",
              "0         0       3    male      1      0   7.2500\n",
              "1         1       1  female      1      0  71.2833\n",
              "2         1       3  female      0      0   7.9250"
            ]
          },
          "metadata": {
            "tags": []
          },
          "execution_count": 8
        }
      ]
    },
    {
      "cell_type": "code",
      "metadata": {
        "id": "-BDcYIBVhysk",
        "outputId": "d2d702cf-f923-4f0d-9af8-0b7384f05d98",
        "colab": {
          "base_uri": "https://localhost:8080/",
          "height": 243
        }
      },
      "source": [
        "clean_data.info()"
      ],
      "execution_count": 9,
      "outputs": [
        {
          "output_type": "stream",
          "text": [
            "<class 'pandas.core.frame.DataFrame'>\n",
            "RangeIndex: 891 entries, 0 to 890\n",
            "Data columns (total 6 columns):\n",
            " #   Column    Non-Null Count  Dtype  \n",
            "---  ------    --------------  -----  \n",
            " 0   Survived  891 non-null    int64  \n",
            " 1   Pclass    891 non-null    int64  \n",
            " 2   Sex       891 non-null    object \n",
            " 3   SibSp     891 non-null    int64  \n",
            " 4   Parch     891 non-null    int64  \n",
            " 5   Fare      891 non-null    float64\n",
            "dtypes: float64(1), int64(4), object(1)\n",
            "memory usage: 41.9+ KB\n"
          ],
          "name": "stdout"
        }
      ]
    },
    {
      "cell_type": "markdown",
      "metadata": {
        "id": "zC2YmEBTni8K"
      },
      "source": [
        "To use the data, we must convert all columns to numeric. Do this by replacing yes and no with 1 and 0."
      ]
    },
    {
      "cell_type": "code",
      "metadata": {
        "id": "5SKAcRjJGFZC"
      },
      "source": [
        "# Use get_dummies to get a dataset with one hot encoded columns for categorical variables\n",
        "# Survived should be excluded.\n",
        "dummied_data = pd.get_dummies(clean_data, columns=['Sex'], drop_first=True)"
      ],
      "execution_count": 10,
      "outputs": []
    },
    {
      "cell_type": "code",
      "metadata": {
        "id": "ke0Y2xf9vuN5",
        "outputId": "4a98389c-f181-42c2-8362-fae2e08e8cc0",
        "colab": {
          "base_uri": "https://localhost:8080/",
          "height": 141
        }
      },
      "source": [
        "# Let's check the new columns\n",
        "dummied_data.head(3)"
      ],
      "execution_count": 11,
      "outputs": [
        {
          "output_type": "execute_result",
          "data": {
            "text/html": [
              "<div>\n",
              "<style scoped>\n",
              "    .dataframe tbody tr th:only-of-type {\n",
              "        vertical-align: middle;\n",
              "    }\n",
              "\n",
              "    .dataframe tbody tr th {\n",
              "        vertical-align: top;\n",
              "    }\n",
              "\n",
              "    .dataframe thead th {\n",
              "        text-align: right;\n",
              "    }\n",
              "</style>\n",
              "<table border=\"1\" class=\"dataframe\">\n",
              "  <thead>\n",
              "    <tr style=\"text-align: right;\">\n",
              "      <th></th>\n",
              "      <th>Survived</th>\n",
              "      <th>Pclass</th>\n",
              "      <th>SibSp</th>\n",
              "      <th>Parch</th>\n",
              "      <th>Fare</th>\n",
              "      <th>Sex_male</th>\n",
              "    </tr>\n",
              "  </thead>\n",
              "  <tbody>\n",
              "    <tr>\n",
              "      <th>0</th>\n",
              "      <td>0</td>\n",
              "      <td>3</td>\n",
              "      <td>1</td>\n",
              "      <td>0</td>\n",
              "      <td>7.2500</td>\n",
              "      <td>1</td>\n",
              "    </tr>\n",
              "    <tr>\n",
              "      <th>1</th>\n",
              "      <td>1</td>\n",
              "      <td>1</td>\n",
              "      <td>1</td>\n",
              "      <td>0</td>\n",
              "      <td>71.2833</td>\n",
              "      <td>0</td>\n",
              "    </tr>\n",
              "    <tr>\n",
              "      <th>2</th>\n",
              "      <td>1</td>\n",
              "      <td>3</td>\n",
              "      <td>0</td>\n",
              "      <td>0</td>\n",
              "      <td>7.9250</td>\n",
              "      <td>0</td>\n",
              "    </tr>\n",
              "  </tbody>\n",
              "</table>\n",
              "</div>"
            ],
            "text/plain": [
              "   Survived  Pclass  SibSp  Parch     Fare  Sex_male\n",
              "0         0       3      1      0   7.2500         1\n",
              "1         1       1      1      0  71.2833         0\n",
              "2         1       3      0      0   7.9250         0"
            ]
          },
          "metadata": {
            "tags": []
          },
          "execution_count": 11
        }
      ]
    },
    {
      "cell_type": "markdown",
      "metadata": {
        "id": "7wR6bliDni8M"
      },
      "source": [
        "Split the data into train and test. Use 20% of the data for our test subset. We will use the train_test_split function from scikit-learn for this."
      ]
    },
    {
      "cell_type": "code",
      "metadata": {
        "id": "VzB9rC4kni8N"
      },
      "source": [
        "# Split the dataset. Remember that the y arrays should include only the 'Survived' column which should be excluded from\n",
        "# the X arrays\n",
        "from sklearn.model_selection import train_test_split\n",
        "\n",
        "y = dummied_data.Survived\n",
        "\n",
        "X = dummied_data.drop(columns='Survived')\n",
        "\n",
        "X_train, X_test, y_train, y_test = train_test_split(X, y, test_size=0.20)"
      ],
      "execution_count": 12,
      "outputs": []
    },
    {
      "cell_type": "markdown",
      "metadata": {
        "id": "T0rFQRHvni8O"
      },
      "source": [
        "Generate a KNN model with k=1 for the dataset. What is the accuracy score for the train and test subsamples?"
      ]
    },
    {
      "cell_type": "code",
      "metadata": {
        "id": "947BjIolni8P",
        "outputId": "47548638-bce0-4681-89dd-845f40c774f8",
        "colab": {
          "base_uri": "https://localhost:8080/",
          "height": 243
        }
      },
      "source": [
        "from sklearn.neighbors import KNeighborsClassifier\n",
        "from sklearn.metrics import classification_report, confusion_matrix\n",
        "# answer below:\n",
        "neighbors = KNeighborsClassifier(n_neighbors=1)\n",
        "\n",
        "neighbors.fit(X, y)\n",
        "\n",
        "train_score = neighbors.score(X_train, y_train)\n",
        "test_score = neighbors.score(X_test, y_test)\n",
        "y_test_preds = neighbors.predict(X_test)\n",
        "print('Train Score: {:.4f}'.format(train_score))\n",
        "print('Test Score: {:.4f}'.format(test_score))\n",
        "print(confusion_matrix(y_test, y_test_preds))\n",
        "print(classification_report(y_test, y_test_preds))"
      ],
      "execution_count": 13,
      "outputs": [
        {
          "output_type": "stream",
          "text": [
            "Train Score: 0.8947\n",
            "Test Score: 0.8771\n",
            "[[92  9]\n",
            " [13 65]]\n",
            "              precision    recall  f1-score   support\n",
            "\n",
            "           0       0.88      0.91      0.89       101\n",
            "           1       0.88      0.83      0.86        78\n",
            "\n",
            "    accuracy                           0.88       179\n",
            "   macro avg       0.88      0.87      0.87       179\n",
            "weighted avg       0.88      0.88      0.88       179\n",
            "\n"
          ],
          "name": "stdout"
        }
      ]
    },
    {
      "cell_type": "markdown",
      "metadata": {
        "id": "lKfx59-Hni8S"
      },
      "source": [
        "Would you say the model overfits? Why or why not? Put your answer in the comment below."
      ]
    },
    {
      "cell_type": "code",
      "metadata": {
        "id": "Lxdoh4dZni8S"
      },
      "source": [
        "# answer below:\n",
        "# Accuracy score is higher for the train set than the test set, indicating that the model is overfitting to the training set\n"
      ],
      "execution_count": 14,
      "outputs": []
    },
    {
      "cell_type": "markdown",
      "metadata": {
        "id": "0P6bHOPOni8U"
      },
      "source": [
        "Let's optimize k. A good idea is to create plots that depict train and test accuracy for each candidate k. Since we have 2 classes, we will be selecting odd numbers in order to deal with possible ties. By selecting a really small k, e.g. k=1, we increase variance and the model is prone to overfitting since it will only take into account the nearest neighbor where there could be a lot of other close samples belonging to another class. By doing the opposite, selecting a big k we are prone to underfitting, as we increase bias as there is a higher probability to select the majority class.\n"
      ]
    },
    {
      "cell_type": "code",
      "metadata": {
        "id": "S0WEG25bni8U"
      },
      "source": [
        "from sklearn.metrics import accuracy_score, f1_score\n",
        "\n",
        "accuracy_train = []\n",
        "accuracy_test = []\n",
        "f1_train = []\n",
        "f1_test = []\n",
        "k_list = range(1, 15, 2)"
      ],
      "execution_count": 15,
      "outputs": []
    },
    {
      "cell_type": "markdown",
      "metadata": {
        "id": "TaFOfaUBvuOI"
      },
      "source": [
        "For each k value in the list created above we want to create and fit a knn instance on X_train, y_train and then make predictions both on the training set (X_train) as well as on the test set(X_test) and calculate accuracy and f1 score and append it to the corrensponding list."
      ]
    },
    {
      "cell_type": "code",
      "metadata": {
        "id": "tCGDJ4K5vuOJ",
        "outputId": "2e129f2f-3600-4578-a89d-7db4d80d962d",
        "colab": {
          "base_uri": "https://localhost:8080/",
          "height": 87
        }
      },
      "source": [
        "# answer below:\n",
        "\n",
        "for k in (k_list):\n",
        "  KNN = KNeighborsClassifier(n_neighbors=k)\n",
        "  KNN.fit(X_train, y_train)\n",
        "  y_train_preds = KNN.predict(X_train)\n",
        "  y_test_preds = KNN.predict(X_test)\n",
        "  accuracy_train.append(accuracy_score(y_train, y_train_preds))\n",
        "  accuracy_test.append(accuracy_score(y_test, y_test_preds))\n",
        "  f1_train.append(f1_score(y_train, y_train_preds))\n",
        "  f1_test.append(f1_score(y_test, y_test_preds))\n",
        "print(accuracy_train)\n",
        "print(accuracy_test)\n",
        "print(f1_train)\n",
        "print(f1_test)\n"
      ],
      "execution_count": 16,
      "outputs": [
        {
          "output_type": "stream",
          "text": [
            "[0.898876404494382, 0.8693820224719101, 0.8398876404494382, 0.8160112359550562, 0.8089887640449438, 0.7991573033707865, 0.7949438202247191]\n",
            "[0.7150837988826816, 0.7653631284916201, 0.7597765363128491, 0.7541899441340782, 0.7486033519553073, 0.7541899441340782, 0.7541899441340782]\n",
            "[0.861003861003861, 0.8201160541586073, 0.77734375, 0.7485604606525911, 0.7404580152671756, 0.7201565557729941, 0.7192307692307692]\n",
            "[0.6482758620689655, 0.7123287671232877, 0.7074829931972789, 0.7066666666666668, 0.693877551020408, 0.7027027027027027, 0.7027027027027027]\n"
          ],
          "name": "stdout"
        }
      ]
    },
    {
      "cell_type": "markdown",
      "metadata": {
        "id": "JlnKcCBWvuOL"
      },
      "source": [
        "In the following plot we want to select the k that achieves the highest test score. \n",
        "\n",
        "Create a two plots with each of them depicting the following information:\n",
        "1. Two lines, one for training accuracy and one for test accuracy for each k value.\n",
        "2. Two lines, one for training F1score and one for test F1 score for each k value."
      ]
    },
    {
      "cell_type": "code",
      "metadata": {
        "id": "jkKDLDIcPlbB",
        "outputId": "afb15370-56e1-4b8d-d4bf-f0073c59d2c7",
        "colab": {
          "base_uri": "https://localhost:8080/",
          "height": 279
        }
      },
      "source": [
        "plt.plot(accuracy_train)\n",
        "plt.plot(accuracy_test)\n",
        "plt.xlabel('k value')\n",
        "plt.ylabel('accuracy score')\n",
        "plt.legend(['train', 'test'])\n",
        "plt.show()"
      ],
      "execution_count": 17,
      "outputs": [
        {
          "output_type": "display_data",
          "data": {
            "image/png": "[encoded data removed]",
            "text/plain": [
              "<Figure size 432x288 with 1 Axes>"
            ]
          },
          "metadata": {
            "tags": [],
            "needs_background": "light"
          }
        }
      ]
    },
    {
      "cell_type": "code",
      "metadata": {
        "id": "fMTgdRDXPzz3",
        "outputId": "859e1413-da05-4d77-aa54-9cdb1ffe39d2",
        "colab": {
          "base_uri": "https://localhost:8080/",
          "height": 279
        }
      },
      "source": [
        "plt.plot(f1_train)\n",
        "plt.plot(f1_test)\n",
        "plt.xlabel('k value')\n",
        "plt.ylabel('f1 score')\n",
        "plt.legend(['train', 'test'])\n",
        "plt.show()"
      ],
      "execution_count": 18,
      "outputs": [
        {
          "output_type": "display_data",
          "data": {
            "image/png": "[encoded data removed]",
            "text/plain": [
              "<Figure size 432x288 with 1 Axes>"
            ]
          },
          "metadata": {
            "tags": [],
            "needs_background": "light"
          }
        }
      ]
    },
    {
      "cell_type": "markdown",
      "metadata": {
        "id": "Bs-_v9vVvuOP"
      },
      "source": [
        "Please comment the results of the plots above"
      ]
    },
    {
      "cell_type": "code",
      "metadata": {
        "id": "L5xK-UfVvuOP"
      },
      "source": [
        "# Add your observations in comments below.\n",
        "# Higher K values result in increased overfitting"
      ],
      "execution_count": 19,
      "outputs": []
    }
  ]
}