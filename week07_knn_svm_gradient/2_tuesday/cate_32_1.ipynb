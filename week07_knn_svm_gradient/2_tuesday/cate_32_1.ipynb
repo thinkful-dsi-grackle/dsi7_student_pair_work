{
  "nbformat": 4,
  "nbformat_minor": 0,
  "metadata": {
    "kernelspec": {
      "display_name": "Python 3",
      "language": "python",
      "name": "python3"
    },
    "language_info": {
      "codemirror_mode": {
        "name": "ipython",
        "version": 3
      },
      "file_extension": ".py",
      "mimetype": "text/x-python",
      "name": "python",
      "nbconvert_exporter": "python",
      "pygments_lexer": "ipython3",
      "version": "3.7.0"
    },
    "colab": {
      "name": "cate_32_1.ipynb",
      "provenance": [],
      "collapsed_sections": []
    }
  },
  "cells": [
    {
      "cell_type": "markdown",
      "metadata": {
        "id": "mI6XEVkcoufQ"
      },
      "source": [
        "## Day 32 Lecture 1 Assignment\n",
        "\n",
        "In this assignment, we will learn about K nearest neighbor regression. We will use the absenteeism at work dataset loaded below and analyze the model generated for this dataset."
      ]
    },
    {
      "cell_type": "markdown",
      "metadata": {
        "id": "FxiwyxhJHY2t"
      },
      "source": [
        "The meaning of the different columns can be found here: https://www.kaggle.com/tonypriyanka2913/employee-absenteeism"
      ]
    },
    {
      "cell_type": "code",
      "metadata": {
        "id": "NEy0xeBdoufR"
      },
      "source": [
        "%matplotlib inline\n",
        "\n",
        "import math\n",
        "\n",
        "import matplotlib.pyplot as plt\n",
        "import numpy as np\n",
        "import pandas as pd"
      ],
      "execution_count": null,
      "outputs": []
    },
    {
      "cell_type": "code",
      "metadata": {
        "id": "YGxZV9tgoufT"
      },
      "source": [
        "absent = pd.read_csv('https://tf-assets-prod.s3.amazonaws.com/tf-curric/data-science/Absenteeism_at_work.csv', sep=';')"
      ],
      "execution_count": null,
      "outputs": []
    },
    {
      "cell_type": "code",
      "metadata": {
        "id": "S1lhtGI0HdSx",
        "outputId": "031806ad-4f4b-4a41-bcc5-1040dc12ceb8",
        "colab": {
          "base_uri": "https://localhost:8080/",
          "height": 34
        }
      },
      "source": [
        "absent.shape"
      ],
      "execution_count": null,
      "outputs": [
        {
          "output_type": "execute_result",
          "data": {
            "text/plain": [
              "(740, 21)"
            ]
          },
          "metadata": {
            "tags": []
          },
          "execution_count": 3
        }
      ]
    },
    {
      "cell_type": "code",
      "metadata": {
        "id": "Akfyq45foufV",
        "outputId": "3b3f4e96-9aef-4c2f-855f-7af912a64da7",
        "colab": {
          "base_uri": "https://localhost:8080/",
          "height": 267
        }
      },
      "source": [
        "absent.head()"
      ],
      "execution_count": null,
      "outputs": [
        {
          "output_type": "execute_result",
          "data": {
            "text/html": [
              "<div>\n",
              "<style scoped>\n",
              "    .dataframe tbody tr th:only-of-type {\n",
              "        vertical-align: middle;\n",
              "    }\n",
              "\n",
              "    .dataframe tbody tr th {\n",
              "        vertical-align: top;\n",
              "    }\n",
              "\n",
              "    .dataframe thead th {\n",
              "        text-align: right;\n",
              "    }\n",
              "</style>\n",
              "<table border=\"1\" class=\"dataframe\">\n",
              "  <thead>\n",
              "    <tr style=\"text-align: right;\">\n",
              "      <th></th>\n",
              "      <th>ID</th>\n",
              "      <th>Reason for absence</th>\n",
              "      <th>Month of absence</th>\n",
              "      <th>Day of the week</th>\n",
              "      <th>Seasons</th>\n",
              "      <th>Transportation expense</th>\n",
              "      <th>Distance from Residence to Work</th>\n",
              "      <th>Service time</th>\n",
              "      <th>Age</th>\n",
              "      <th>Work load Average/day</th>\n",
              "      <th>Hit target</th>\n",
              "      <th>Disciplinary failure</th>\n",
              "      <th>Education</th>\n",
              "      <th>Son</th>\n",
              "      <th>Social drinker</th>\n",
              "      <th>Social smoker</th>\n",
              "      <th>Pet</th>\n",
              "      <th>Weight</th>\n",
              "      <th>Height</th>\n",
              "      <th>Body mass index</th>\n",
              "      <th>Absenteeism time in hours</th>\n",
              "    </tr>\n",
              "  </thead>\n",
              "  <tbody>\n",
              "    <tr>\n",
              "      <th>0</th>\n",
              "      <td>11</td>\n",
              "      <td>26</td>\n",
              "      <td>7</td>\n",
              "      <td>3</td>\n",
              "      <td>1</td>\n",
              "      <td>289</td>\n",
              "      <td>36</td>\n",
              "      <td>13</td>\n",
              "      <td>33</td>\n",
              "      <td>239.554</td>\n",
              "      <td>97</td>\n",
              "      <td>0</td>\n",
              "      <td>1</td>\n",
              "      <td>2</td>\n",
              "      <td>1</td>\n",
              "      <td>0</td>\n",
              "      <td>1</td>\n",
              "      <td>90</td>\n",
              "      <td>172</td>\n",
              "      <td>30</td>\n",
              "      <td>4</td>\n",
              "    </tr>\n",
              "    <tr>\n",
              "      <th>1</th>\n",
              "      <td>36</td>\n",
              "      <td>0</td>\n",
              "      <td>7</td>\n",
              "      <td>3</td>\n",
              "      <td>1</td>\n",
              "      <td>118</td>\n",
              "      <td>13</td>\n",
              "      <td>18</td>\n",
              "      <td>50</td>\n",
              "      <td>239.554</td>\n",
              "      <td>97</td>\n",
              "      <td>1</td>\n",
              "      <td>1</td>\n",
              "      <td>1</td>\n",
              "      <td>1</td>\n",
              "      <td>0</td>\n",
              "      <td>0</td>\n",
              "      <td>98</td>\n",
              "      <td>178</td>\n",
              "      <td>31</td>\n",
              "      <td>0</td>\n",
              "    </tr>\n",
              "    <tr>\n",
              "      <th>2</th>\n",
              "      <td>3</td>\n",
              "      <td>23</td>\n",
              "      <td>7</td>\n",
              "      <td>4</td>\n",
              "      <td>1</td>\n",
              "      <td>179</td>\n",
              "      <td>51</td>\n",
              "      <td>18</td>\n",
              "      <td>38</td>\n",
              "      <td>239.554</td>\n",
              "      <td>97</td>\n",
              "      <td>0</td>\n",
              "      <td>1</td>\n",
              "      <td>0</td>\n",
              "      <td>1</td>\n",
              "      <td>0</td>\n",
              "      <td>0</td>\n",
              "      <td>89</td>\n",
              "      <td>170</td>\n",
              "      <td>31</td>\n",
              "      <td>2</td>\n",
              "    </tr>\n",
              "    <tr>\n",
              "      <th>3</th>\n",
              "      <td>7</td>\n",
              "      <td>7</td>\n",
              "      <td>7</td>\n",
              "      <td>5</td>\n",
              "      <td>1</td>\n",
              "      <td>279</td>\n",
              "      <td>5</td>\n",
              "      <td>14</td>\n",
              "      <td>39</td>\n",
              "      <td>239.554</td>\n",
              "      <td>97</td>\n",
              "      <td>0</td>\n",
              "      <td>1</td>\n",
              "      <td>2</td>\n",
              "      <td>1</td>\n",
              "      <td>1</td>\n",
              "      <td>0</td>\n",
              "      <td>68</td>\n",
              "      <td>168</td>\n",
              "      <td>24</td>\n",
              "      <td>4</td>\n",
              "    </tr>\n",
              "    <tr>\n",
              "      <th>4</th>\n",
              "      <td>11</td>\n",
              "      <td>23</td>\n",
              "      <td>7</td>\n",
              "      <td>5</td>\n",
              "      <td>1</td>\n",
              "      <td>289</td>\n",
              "      <td>36</td>\n",
              "      <td>13</td>\n",
              "      <td>33</td>\n",
              "      <td>239.554</td>\n",
              "      <td>97</td>\n",
              "      <td>0</td>\n",
              "      <td>1</td>\n",
              "      <td>2</td>\n",
              "      <td>1</td>\n",
              "      <td>0</td>\n",
              "      <td>1</td>\n",
              "      <td>90</td>\n",
              "      <td>172</td>\n",
              "      <td>30</td>\n",
              "      <td>2</td>\n",
              "    </tr>\n",
              "  </tbody>\n",
              "</table>\n",
              "</div>"
            ],
            "text/plain": [
              "   ID  Reason for absence  ...  Body mass index  Absenteeism time in hours\n",
              "0  11                  26  ...               30                          4\n",
              "1  36                   0  ...               31                          0\n",
              "2   3                  23  ...               31                          2\n",
              "3   7                   7  ...               24                          4\n",
              "4  11                  23  ...               30                          2\n",
              "\n",
              "[5 rows x 21 columns]"
            ]
          },
          "metadata": {
            "tags": []
          },
          "execution_count": 4
        }
      ]
    },
    {
      "cell_type": "markdown",
      "metadata": {
        "id": "jGLnxKy7oufX"
      },
      "source": [
        "Find which variables have the highest pairwise correlation and remove them from our dataset. Additionally, try to think of which variables are correlated by looking at the column names and remove those columns as well.\n",
        "\n",
        "Note: When choosing between two categorical variables that are correlated, you often want to keep the one with fewer unique values. Why might that be? (Think about the cons of KNN.)"
      ]
    },
    {
      "cell_type": "code",
      "metadata": {
        "id": "NZ2zy083oufX"
      },
      "source": [
        "# find occurances of correlation coeficient over .9\n",
        "def get_high_corrs(df):\n",
        "  corrs = df.corr()\n",
        "  selected_columns = []\n",
        "  for i in corrs.columns:\n",
        "    for j in corrs[i].values:\n",
        "      if j >= .9 and j != 1:\n",
        "        selected_columns.append(i)\n",
        "  return selected_columns\n",
        "\n"
      ],
      "execution_count": null,
      "outputs": []
    },
    {
      "cell_type": "code",
      "metadata": {
        "id": "-pOKECK88ZP4",
        "outputId": "1359a91e-10af-4693-facf-5883abf7be91",
        "colab": {
          "base_uri": "https://localhost:8080/",
          "height": 34
        }
      },
      "source": [
        "get_high_corrs(absent)"
      ],
      "execution_count": null,
      "outputs": [
        {
          "output_type": "execute_result",
          "data": {
            "text/plain": [
              "['Weight', 'Body mass index']"
            ]
          },
          "metadata": {
            "tags": []
          },
          "execution_count": 6
        }
      ]
    },
    {
      "cell_type": "code",
      "metadata": {
        "id": "v-4JrTds9Xe7",
        "outputId": "04020d98-e0c9-4001-ed65-154703e1f4a0",
        "colab": {
          "base_uri": "https://localhost:8080/",
          "height": 52
        }
      },
      "source": [
        "# check which column has more unique values and drop that column\n",
        "print(absent['Weight'].nunique())\n",
        "print(absent['Body mass index'].nunique())\n",
        "\n",
        "# also dropping 'ID' since we don't need it\n",
        "absent.drop(['Weight', 'ID'], axis=1, inplace=True)"
      ],
      "execution_count": null,
      "outputs": [
        {
          "output_type": "stream",
          "text": [
            "26\n",
            "17\n"
          ],
          "name": "stdout"
        }
      ]
    },
    {
      "cell_type": "markdown",
      "metadata": {
        "id": "dGPZCTESoufZ"
      },
      "source": [
        "Figure out which columns actually contain sneaky categorical variables and turn those into dummy variables."
      ]
    },
    {
      "cell_type": "code",
      "metadata": {
        "id": "LHMrtmL8-ypl"
      },
      "source": [
        "absent = pd.get_dummies(absent, columns=['Reason for absence', 'Month of absence', 'Day of the week', 'Seasons', 'Education'], drop_first=True)"
      ],
      "execution_count": null,
      "outputs": []
    },
    {
      "cell_type": "markdown",
      "metadata": {
        "id": "2bUDBGzOrveU"
      },
      "source": [
        "Split the data into train and test with test containing 20% of the data, then scale your features."
      ]
    },
    {
      "cell_type": "code",
      "metadata": {
        "id": "_xuMyL1-oufc"
      },
      "source": [
        "# answer below:\n",
        "from sklearn.model_selection import train_test_split, cross_val_score, cross_validate\n",
        "\n",
        "X = absent.drop('Absenteeism time in hours', axis=1)\n",
        "y = absent['Absenteeism time in hours']\n",
        "\n",
        "X_train, X_test, y_train, y_test = train_test_split(X,y, test_size=.2)"
      ],
      "execution_count": null,
      "outputs": []
    },
    {
      "cell_type": "code",
      "metadata": {
        "id": "zHNqTaM0TKjY"
      },
      "source": [
        "from sklearn.preprocessing import MinMaxScaler\n",
        "scaler = MinMaxScaler()\n",
        "X_sc_train = scaler.fit_transform(X_train)\n",
        "X_sc_test = scaler.transform(X_test)"
      ],
      "execution_count": null,
      "outputs": []
    },
    {
      "cell_type": "markdown",
      "metadata": {
        "id": "J76cyHbvouff"
      },
      "source": [
        "Train a series of KNN regression models with a range of K values. For each K value, use cross validation of the training set and find the average RMSE score. Make a plot of K versus average RMSE. What is the best value of K?"
      ]
    },
    {
      "cell_type": "code",
      "metadata": {
        "id": "dsdykvHkoufg",
        "outputId": "e04f6db7-0100-4692-812d-0e74a5e13fb3",
        "colab": {
          "base_uri": "https://localhost:8080/",
          "height": 301
        }
      },
      "source": [
        "from sklearn.neighbors import KNeighborsRegressor\n",
        "from sklearn.metrics import mean_squared_error\n",
        "# answer below\n",
        "k_list = np.arange(10, 50, 5)\n",
        "\n",
        "k_values = []\n",
        "train_avg_rmse = []\n",
        "test_avg_rmse = []\n",
        "\n",
        "\n",
        "for i in k_list:\n",
        "  knr = KNeighborsRegressor(n_neighbors=i)\n",
        "  knr.fit(X_sc_train, y_train)\n",
        "  k_values.append(i)\n",
        "  train_score = cross_val_score(knr, X_sc_train, y_train, cv=5, scoring='neg_root_mean_squared_error')\n",
        "  test_score = cross_val_score(knr, X_sc_test, y_test, cv=5, scoring='neg_root_mean_squared_error')\n",
        "  train_score = abs(train_score)\n",
        "  test_score = abs(test_score)\n",
        "  train_avg_rmse.append(train_score.mean())\n",
        "  test_avg_rmse.append(test_score.mean())\n",
        "\n",
        "for x, y in zip(k_values, train_avg_rmse):\n",
        "  print(f'Average training RMSE for k of {x}: {y}')\n",
        "\n",
        "for x, y in zip(k_values, test_avg_rmse):\n",
        "  print(f'Average testing RMSE for k of {x}: {y}')"
      ],
      "execution_count": null,
      "outputs": [
        {
          "output_type": "stream",
          "text": [
            "Average training RMSE for k of 10: 12.143425587502772\n",
            "Average training RMSE for k of 15: 12.2340581705597\n",
            "Average training RMSE for k of 20: 12.176142698782295\n",
            "Average training RMSE for k of 25: 12.13633629625165\n",
            "Average training RMSE for k of 30: 12.151058901889805\n",
            "Average training RMSE for k of 35: 12.173176737935583\n",
            "Average training RMSE for k of 40: 12.133801993423443\n",
            "Average training RMSE for k of 45: 12.154530765695405\n",
            "Average testing RMSE for k of 10: 12.850166087096635\n",
            "Average testing RMSE for k of 15: 13.124428939638118\n",
            "Average testing RMSE for k of 20: 12.997088185244042\n",
            "Average testing RMSE for k of 25: 12.927910365498823\n",
            "Average testing RMSE for k of 30: 12.895898161083181\n",
            "Average testing RMSE for k of 35: 12.94938164723968\n",
            "Average testing RMSE for k of 40: 12.964573289772142\n",
            "Average testing RMSE for k of 45: 13.048557555363342\n"
          ],
          "name": "stdout"
        }
      ]
    },
    {
      "cell_type": "code",
      "metadata": {
        "id": "NTKQvpnzviRJ",
        "outputId": "37fd17be-bbe4-42f3-f389-7dd4f0da9670",
        "colab": {
          "base_uri": "https://localhost:8080/",
          "height": 264
        }
      },
      "source": [
        "plt.plot(k_values, train_avg_rmse, label='train')\n",
        "plt.plot(k_values, test_avg_rmse, label='test')\n",
        "plt.legend()\n",
        "plt.show()"
      ],
      "execution_count": null,
      "outputs": [
        {
          "output_type": "display_data",
          "data": {
            "image/png": "[encoded data removed]",
            "text/plain": [
              "<Figure size 432x288 with 1 Axes>"
            ]
          },
          "metadata": {
            "tags": [],
            "needs_background": "light"
          }
        }
      ]
    },
    {
      "cell_type": "markdown",
      "metadata": {
        "id": "PYkLIuvxIGM7"
      },
      "source": [
        "Using your best K, fit a model to all your training data and show the RMSE for the training and testing sets."
      ]
    },
    {
      "cell_type": "code",
      "metadata": {
        "id": "yoXGKDM-oufh",
        "outputId": "0facf8cf-396a-4bf6-a632-f696e20e7c8a",
        "colab": {
          "base_uri": "https://localhost:8080/",
          "height": 107
        }
      },
      "source": [
        "# answer below\n",
        "from statsmodels.tools.eval_measures import rmse\n",
        "\n",
        "knr = KNeighborsRegressor(n_neighbors=35)\n",
        "knr.fit(X_sc_train, y_train)\n",
        "y_pred_train = knr.predict(X_sc_train)\n",
        "y_pred_test = knr.predict(X_sc_test)\n",
        "print('Training rmse: ', rmse(y_train, y_pred_train))\n",
        "print('Testing rmse: ', rmse(y_test, y_pred_test))\n"
      ],
      "execution_count": null,
      "outputs": [
        {
          "output_type": "stream",
          "text": [
            "Training rmse:  12.216582739145748\n",
            "Testing rmse:  13.695513817720913\n"
          ],
          "name": "stdout"
        },
        {
          "output_type": "stream",
          "text": [
            "/usr/local/lib/python3.6/dist-packages/statsmodels/tools/_testing.py:19: FutureWarning: pandas.util.testing is deprecated. Use the functions in the public API at pandas.testing instead.\n",
            "  import pandas.util.testing as tm\n"
          ],
          "name": "stderr"
        }
      ]
    },
    {
      "cell_type": "markdown",
      "metadata": {
        "id": "wzFGMqYHIJeH"
      },
      "source": [
        "Create a homoscedasticity plot (also called residual plot). How is your model performing? What ideas do you have to improve the model?"
      ]
    },
    {
      "cell_type": "code",
      "metadata": {
        "id": "CONUZGpTIPIl",
        "outputId": "06dbd262-5b07-4f80-c940-c2fa1faca9a7",
        "colab": {
          "base_uri": "https://localhost:8080/",
          "height": 294
        }
      },
      "source": [
        "resid = y_train - y_pred_train\n",
        "plt.scatter(y_pred_train, resid)\n",
        "plt.xlabel('predicted')\n",
        "plt.ylabel('residual')\n",
        "plt.axhline(y=0)\n",
        "plt.title('Residual vs. Predicted')\n",
        "plt.show()\n"
      ],
      "execution_count": null,
      "outputs": [
        {
          "output_type": "display_data",
          "data": {
            "image/png": "[encoded data removed]",
            "text/plain": [
              "<Figure size 432x288 with 1 Axes>"
            ]
          },
          "metadata": {
            "tags": [],
            "needs_background": "light"
          }
        }
      ]
    }
  ]
}