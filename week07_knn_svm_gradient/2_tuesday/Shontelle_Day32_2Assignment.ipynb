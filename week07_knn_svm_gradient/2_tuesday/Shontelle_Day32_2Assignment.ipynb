{
  "nbformat": 4,
  "nbformat_minor": 0,
  "metadata": {
    "colab": {
      "name": "Shontelle_Day32_2Assignment.ipynb",
      "provenance": [],
      "collapsed_sections": []
    },
    "kernelspec": {
      "display_name": "Python 3",
      "language": "python",
      "name": "python3"
    },
    "language_info": {
      "codemirror_mode": {
        "name": "ipython",
        "version": 3
      },
      "file_extension": ".py",
      "mimetype": "text/x-python",
      "name": "python",
      "nbconvert_exporter": "python",
      "pygments_lexer": "ipython3",
      "version": "3.7.6"
    }
  },
  "cells": [
    {
      "cell_type": "markdown",
      "metadata": {
        "id": "TNewN9PjovQQ"
      },
      "source": [
        "# Support Vector Machine Assignment"
      ]
    },
    {
      "cell_type": "code",
      "metadata": {
        "id": "LytTJ7m3ovQR"
      },
      "source": [
        "import numpy as np\n",
        "import pandas as pd\n",
        "import seaborn as sns\n",
        "from sklearn.svm import SVC\n",
        "import matplotlib.pyplot as plt\n",
        "from sklearn.model_selection import train_test_split\n",
        "from sklearn.metrics import classification_report"
      ],
      "execution_count": 1,
      "outputs": []
    },
    {
      "cell_type": "markdown",
      "metadata": {
        "id": "-K2eRKbKNHyU"
      },
      "source": [
        "### Import the admissions data set (admissions.csv)."
      ]
    },
    {
      "cell_type": "code",
      "metadata": {
        "id": "67QhNML9NHyV",
        "outputId": "18943aa6-02d2-4794-c86a-a7025f62fe7b",
        "colab": {
          "base_uri": "https://localhost:8080/",
          "height": 204
        }
      },
      "source": [
        "data = pd.read_csv('https://tf-assets-prod.s3.amazonaws.com/tf-curric/data-science/admissions.csv')\n",
        "data.head()"
      ],
      "execution_count": 2,
      "outputs": [
        {
          "output_type": "execute_result",
          "data": {
            "text/html": [
              "<div>\n",
              "<style scoped>\n",
              "    .dataframe tbody tr th:only-of-type {\n",
              "        vertical-align: middle;\n",
              "    }\n",
              "\n",
              "    .dataframe tbody tr th {\n",
              "        vertical-align: top;\n",
              "    }\n",
              "\n",
              "    .dataframe thead th {\n",
              "        text-align: right;\n",
              "    }\n",
              "</style>\n",
              "<table border=\"1\" class=\"dataframe\">\n",
              "  <thead>\n",
              "    <tr style=\"text-align: right;\">\n",
              "      <th></th>\n",
              "      <th>GRE</th>\n",
              "      <th>TOEFL</th>\n",
              "      <th>SchoolRank</th>\n",
              "      <th>SOP</th>\n",
              "      <th>LOR</th>\n",
              "      <th>GPA</th>\n",
              "      <th>Research</th>\n",
              "      <th>Admitted</th>\n",
              "    </tr>\n",
              "  </thead>\n",
              "  <tbody>\n",
              "    <tr>\n",
              "      <th>0</th>\n",
              "      <td>337</td>\n",
              "      <td>118</td>\n",
              "      <td>4</td>\n",
              "      <td>4.5</td>\n",
              "      <td>4.5</td>\n",
              "      <td>9.65</td>\n",
              "      <td>1</td>\n",
              "      <td>1</td>\n",
              "    </tr>\n",
              "    <tr>\n",
              "      <th>1</th>\n",
              "      <td>324</td>\n",
              "      <td>107</td>\n",
              "      <td>4</td>\n",
              "      <td>4.0</td>\n",
              "      <td>4.5</td>\n",
              "      <td>8.87</td>\n",
              "      <td>1</td>\n",
              "      <td>1</td>\n",
              "    </tr>\n",
              "    <tr>\n",
              "      <th>2</th>\n",
              "      <td>316</td>\n",
              "      <td>104</td>\n",
              "      <td>3</td>\n",
              "      <td>3.0</td>\n",
              "      <td>3.5</td>\n",
              "      <td>8.00</td>\n",
              "      <td>1</td>\n",
              "      <td>1</td>\n",
              "    </tr>\n",
              "    <tr>\n",
              "      <th>3</th>\n",
              "      <td>322</td>\n",
              "      <td>110</td>\n",
              "      <td>3</td>\n",
              "      <td>3.5</td>\n",
              "      <td>2.5</td>\n",
              "      <td>8.67</td>\n",
              "      <td>1</td>\n",
              "      <td>1</td>\n",
              "    </tr>\n",
              "    <tr>\n",
              "      <th>4</th>\n",
              "      <td>314</td>\n",
              "      <td>103</td>\n",
              "      <td>2</td>\n",
              "      <td>2.0</td>\n",
              "      <td>3.0</td>\n",
              "      <td>8.21</td>\n",
              "      <td>0</td>\n",
              "      <td>0</td>\n",
              "    </tr>\n",
              "  </tbody>\n",
              "</table>\n",
              "</div>"
            ],
            "text/plain": [
              "   GRE  TOEFL  SchoolRank  SOP  LOR   GPA  Research  Admitted\n",
              "0  337    118           4  4.5  4.5  9.65         1         1\n",
              "1  324    107           4  4.0  4.5  8.87         1         1\n",
              "2  316    104           3  3.0  3.5  8.00         1         1\n",
              "3  322    110           3  3.5  2.5  8.67         1         1\n",
              "4  314    103           2  2.0  3.0  8.21         0         0"
            ]
          },
          "metadata": {
            "tags": []
          },
          "execution_count": 2
        }
      ]
    },
    {
      "cell_type": "markdown",
      "metadata": {
        "id": "nNxDoziuNHyY"
      },
      "source": [
        "## Data Exploration\n",
        "\n",
        "Before jumping into training a model on the data, let's explore it to get a better sense of the relationships between our features and the target variable."
      ]
    },
    {
      "cell_type": "markdown",
      "metadata": {
        "id": "Xtb9mBARNHyZ"
      },
      "source": [
        "### Call the Pandas `describe()` method on the data frame to get view the average values and variability for each variable."
      ]
    },
    {
      "cell_type": "code",
      "metadata": {
        "id": "MemXRhIFNHya",
        "outputId": "2c2aee73-ddb7-4d61-ce72-cd3e3e5c8884",
        "colab": {
          "base_uri": "https://localhost:8080/",
          "height": 297
        }
      },
      "source": [
        "data.describe()"
      ],
      "execution_count": 3,
      "outputs": [
        {
          "output_type": "execute_result",
          "data": {
            "text/html": [
              "<div>\n",
              "<style scoped>\n",
              "    .dataframe tbody tr th:only-of-type {\n",
              "        vertical-align: middle;\n",
              "    }\n",
              "\n",
              "    .dataframe tbody tr th {\n",
              "        vertical-align: top;\n",
              "    }\n",
              "\n",
              "    .dataframe thead th {\n",
              "        text-align: right;\n",
              "    }\n",
              "</style>\n",
              "<table border=\"1\" class=\"dataframe\">\n",
              "  <thead>\n",
              "    <tr style=\"text-align: right;\">\n",
              "      <th></th>\n",
              "      <th>GRE</th>\n",
              "      <th>TOEFL</th>\n",
              "      <th>SchoolRank</th>\n",
              "      <th>SOP</th>\n",
              "      <th>LOR</th>\n",
              "      <th>GPA</th>\n",
              "      <th>Research</th>\n",
              "      <th>Admitted</th>\n",
              "    </tr>\n",
              "  </thead>\n",
              "  <tbody>\n",
              "    <tr>\n",
              "      <th>count</th>\n",
              "      <td>400.000000</td>\n",
              "      <td>400.000000</td>\n",
              "      <td>400.000000</td>\n",
              "      <td>400.000000</td>\n",
              "      <td>400.000000</td>\n",
              "      <td>400.000000</td>\n",
              "      <td>400.000000</td>\n",
              "      <td>400.000000</td>\n",
              "    </tr>\n",
              "    <tr>\n",
              "      <th>mean</th>\n",
              "      <td>316.807500</td>\n",
              "      <td>107.410000</td>\n",
              "      <td>3.087500</td>\n",
              "      <td>3.400000</td>\n",
              "      <td>3.452500</td>\n",
              "      <td>8.598925</td>\n",
              "      <td>0.547500</td>\n",
              "      <td>0.617500</td>\n",
              "    </tr>\n",
              "    <tr>\n",
              "      <th>std</th>\n",
              "      <td>11.473646</td>\n",
              "      <td>6.069514</td>\n",
              "      <td>1.143728</td>\n",
              "      <td>1.006869</td>\n",
              "      <td>0.898478</td>\n",
              "      <td>0.596317</td>\n",
              "      <td>0.498362</td>\n",
              "      <td>0.486606</td>\n",
              "    </tr>\n",
              "    <tr>\n",
              "      <th>min</th>\n",
              "      <td>290.000000</td>\n",
              "      <td>92.000000</td>\n",
              "      <td>1.000000</td>\n",
              "      <td>1.000000</td>\n",
              "      <td>1.000000</td>\n",
              "      <td>6.800000</td>\n",
              "      <td>0.000000</td>\n",
              "      <td>0.000000</td>\n",
              "    </tr>\n",
              "    <tr>\n",
              "      <th>25%</th>\n",
              "      <td>308.000000</td>\n",
              "      <td>103.000000</td>\n",
              "      <td>2.000000</td>\n",
              "      <td>2.500000</td>\n",
              "      <td>3.000000</td>\n",
              "      <td>8.170000</td>\n",
              "      <td>0.000000</td>\n",
              "      <td>0.000000</td>\n",
              "    </tr>\n",
              "    <tr>\n",
              "      <th>50%</th>\n",
              "      <td>317.000000</td>\n",
              "      <td>107.000000</td>\n",
              "      <td>3.000000</td>\n",
              "      <td>3.500000</td>\n",
              "      <td>3.500000</td>\n",
              "      <td>8.610000</td>\n",
              "      <td>1.000000</td>\n",
              "      <td>1.000000</td>\n",
              "    </tr>\n",
              "    <tr>\n",
              "      <th>75%</th>\n",
              "      <td>325.000000</td>\n",
              "      <td>112.000000</td>\n",
              "      <td>4.000000</td>\n",
              "      <td>4.000000</td>\n",
              "      <td>4.000000</td>\n",
              "      <td>9.062500</td>\n",
              "      <td>1.000000</td>\n",
              "      <td>1.000000</td>\n",
              "    </tr>\n",
              "    <tr>\n",
              "      <th>max</th>\n",
              "      <td>340.000000</td>\n",
              "      <td>120.000000</td>\n",
              "      <td>5.000000</td>\n",
              "      <td>5.000000</td>\n",
              "      <td>5.000000</td>\n",
              "      <td>9.920000</td>\n",
              "      <td>1.000000</td>\n",
              "      <td>1.000000</td>\n",
              "    </tr>\n",
              "  </tbody>\n",
              "</table>\n",
              "</div>"
            ],
            "text/plain": [
              "              GRE       TOEFL  SchoolRank  ...         GPA    Research    Admitted\n",
              "count  400.000000  400.000000  400.000000  ...  400.000000  400.000000  400.000000\n",
              "mean   316.807500  107.410000    3.087500  ...    8.598925    0.547500    0.617500\n",
              "std     11.473646    6.069514    1.143728  ...    0.596317    0.498362    0.486606\n",
              "min    290.000000   92.000000    1.000000  ...    6.800000    0.000000    0.000000\n",
              "25%    308.000000  103.000000    2.000000  ...    8.170000    0.000000    0.000000\n",
              "50%    317.000000  107.000000    3.000000  ...    8.610000    1.000000    1.000000\n",
              "75%    325.000000  112.000000    4.000000  ...    9.062500    1.000000    1.000000\n",
              "max    340.000000  120.000000    5.000000  ...    9.920000    1.000000    1.000000\n",
              "\n",
              "[8 rows x 8 columns]"
            ]
          },
          "metadata": {
            "tags": []
          },
          "execution_count": 3
        }
      ]
    },
    {
      "cell_type": "markdown",
      "metadata": {
        "id": "Yk6ksePiNHye"
      },
      "source": [
        "### Group the data by the Admitted field and compute the average values for each field."
      ]
    },
    {
      "cell_type": "code",
      "metadata": {
        "id": "Uf8_rZozNHyf",
        "outputId": "b3aaeb1c-51ce-4e82-fc0e-983527141b29",
        "colab": {
          "base_uri": "https://localhost:8080/",
          "height": 142
        }
      },
      "source": [
        "data.groupby(['Admitted']).mean()"
      ],
      "execution_count": 4,
      "outputs": [
        {
          "output_type": "execute_result",
          "data": {
            "text/html": [
              "<div>\n",
              "<style scoped>\n",
              "    .dataframe tbody tr th:only-of-type {\n",
              "        vertical-align: middle;\n",
              "    }\n",
              "\n",
              "    .dataframe tbody tr th {\n",
              "        vertical-align: top;\n",
              "    }\n",
              "\n",
              "    .dataframe thead th {\n",
              "        text-align: right;\n",
              "    }\n",
              "</style>\n",
              "<table border=\"1\" class=\"dataframe\">\n",
              "  <thead>\n",
              "    <tr style=\"text-align: right;\">\n",
              "      <th></th>\n",
              "      <th>GRE</th>\n",
              "      <th>TOEFL</th>\n",
              "      <th>SchoolRank</th>\n",
              "      <th>SOP</th>\n",
              "      <th>LOR</th>\n",
              "      <th>GPA</th>\n",
              "      <th>Research</th>\n",
              "    </tr>\n",
              "    <tr>\n",
              "      <th>Admitted</th>\n",
              "      <th></th>\n",
              "      <th></th>\n",
              "      <th></th>\n",
              "      <th></th>\n",
              "      <th></th>\n",
              "      <th></th>\n",
              "      <th></th>\n",
              "    </tr>\n",
              "  </thead>\n",
              "  <tbody>\n",
              "    <tr>\n",
              "      <th>0</th>\n",
              "      <td>307.013072</td>\n",
              "      <td>102.588235</td>\n",
              "      <td>2.261438</td>\n",
              "      <td>2.741830</td>\n",
              "      <td>2.875817</td>\n",
              "      <td>8.087974</td>\n",
              "      <td>0.248366</td>\n",
              "    </tr>\n",
              "    <tr>\n",
              "      <th>1</th>\n",
              "      <td>322.874494</td>\n",
              "      <td>110.396761</td>\n",
              "      <td>3.599190</td>\n",
              "      <td>3.807692</td>\n",
              "      <td>3.809717</td>\n",
              "      <td>8.915425</td>\n",
              "      <td>0.732794</td>\n",
              "    </tr>\n",
              "  </tbody>\n",
              "</table>\n",
              "</div>"
            ],
            "text/plain": [
              "                 GRE       TOEFL  SchoolRank  ...       LOR       GPA  Research\n",
              "Admitted                                      ...                              \n",
              "0         307.013072  102.588235    2.261438  ...  2.875817  8.087974  0.248366\n",
              "1         322.874494  110.396761    3.599190  ...  3.809717  8.915425  0.732794\n",
              "\n",
              "[2 rows x 7 columns]"
            ]
          },
          "metadata": {
            "tags": []
          },
          "execution_count": 4
        }
      ]
    },
    {
      "cell_type": "markdown",
      "metadata": {
        "id": "9XfQw8jrNHyi"
      },
      "source": [
        "### How many students that applied were admitted vs. not admitted? What percentage of students were admitted vs. not admitted? "
      ]
    },
    {
      "cell_type": "code",
      "metadata": {
        "id": "CXttCEavNHyi",
        "outputId": "e9e6af35-0fdd-4a2a-f2ae-7ff39af0f79f",
        "colab": {
          "base_uri": "https://localhost:8080/",
          "height": 68
        }
      },
      "source": [
        "#admitted = 1  / not admitted = 0\n",
        "data['Admitted'].value_counts()"
      ],
      "execution_count": 5,
      "outputs": [
        {
          "output_type": "execute_result",
          "data": {
            "text/plain": [
              "1    247\n",
              "0    153\n",
              "Name: Admitted, dtype: int64"
            ]
          },
          "metadata": {
            "tags": []
          },
          "execution_count": 5
        }
      ]
    },
    {
      "cell_type": "code",
      "metadata": {
        "id": "PH84zfnTIHDM",
        "outputId": "5101f75a-ad62-4393-d62c-72e605f35c86",
        "colab": {
          "base_uri": "https://localhost:8080/",
          "height": 68
        }
      },
      "source": [
        "#percentage of admitted vs not\n",
        "data.Admitted.value_counts() / len(data)"
      ],
      "execution_count": 6,
      "outputs": [
        {
          "output_type": "execute_result",
          "data": {
            "text/plain": [
              "1    0.6175\n",
              "0    0.3825\n",
              "Name: Admitted, dtype: float64"
            ]
          },
          "metadata": {
            "tags": []
          },
          "execution_count": 6
        }
      ]
    },
    {
      "cell_type": "markdown",
      "metadata": {
        "id": "V5BbRmfkNHyl"
      },
      "source": [
        "### What percent of students with research experience were admitted?"
      ]
    },
    {
      "cell_type": "code",
      "metadata": {
        "id": "WQCvnl0ua2Mw",
        "outputId": "76e1c0cf-8230-4e8d-abe1-15983e8d57cd",
        "colab": {
          "base_uri": "https://localhost:8080/",
          "height": 68
        }
      },
      "source": [
        "research = data[data['Research'] == 1]\n",
        "research.Admitted.value_counts() / len(research)"
      ],
      "execution_count": 8,
      "outputs": [
        {
          "output_type": "execute_result",
          "data": {
            "text/plain": [
              "1    0.826484\n",
              "0    0.173516\n",
              "Name: Admitted, dtype: float64"
            ]
          },
          "metadata": {
            "tags": []
          },
          "execution_count": 8
        }
      ]
    },
    {
      "cell_type": "markdown",
      "metadata": {
        "id": "Pdq0lx3QNHyo"
      },
      "source": [
        "### What percent of students admitted had research experience?"
      ]
    },
    {
      "cell_type": "code",
      "metadata": {
        "id": "a214ofAdNHyl",
        "outputId": "19be8c3f-bc77-4c37-df67-59f147024876",
        "colab": {
          "base_uri": "https://localhost:8080/",
          "height": 68
        }
      },
      "source": [
        "data.Research.value_counts() / len(data)"
      ],
      "execution_count": 12,
      "outputs": [
        {
          "output_type": "execute_result",
          "data": {
            "text/plain": [
              "1    0.5475\n",
              "0    0.4525\n",
              "Name: Research, dtype: float64"
            ]
          },
          "metadata": {
            "tags": []
          },
          "execution_count": 12
        }
      ]
    },
    {
      "cell_type": "markdown",
      "metadata": {
        "id": "zP0nXko8NHys"
      },
      "source": [
        "### Generate a grouped bar chart showing the number of admissions by SOP score, with separate bars for admitted and not admitted."
      ]
    },
    {
      "cell_type": "code",
      "metadata": {
        "id": "A5sIjslYVRuF",
        "outputId": "eae4fc95-004a-4a0d-bff9-169121137d53",
        "colab": {
          "base_uri": "https://localhost:8080/",
          "height": 34
        }
      },
      "source": [
        "data['SOP'].nunique()"
      ],
      "execution_count": 10,
      "outputs": [
        {
          "output_type": "execute_result",
          "data": {
            "text/plain": [
              "9"
            ]
          },
          "metadata": {
            "tags": []
          },
          "execution_count": 10
        }
      ]
    },
    {
      "cell_type": "code",
      "metadata": {
        "id": "wmN1R2B1fpTP",
        "outputId": "01599657-1cef-400c-f052-1d33a04b93bb",
        "colab": {
          "base_uri": "https://localhost:8080/",
          "height": 295
        }
      },
      "source": [
        "sns.countplot(x='SOP', hue='Admitted', data=data)\n",
        "plt.title('Admissions by SOP score')\n",
        "plt.show()"
      ],
      "execution_count": 14,
      "outputs": [
        {
          "output_type": "display_data",
          "data": {
            "image/png": "[encoded data removed]",
            "text/plain": [
              "<Figure size 432x288 with 1 Axes>"
            ]
          },
          "metadata": {
            "tags": [],
            "needs_background": "light"
          }
        }
      ]
    },
    {
      "cell_type": "markdown",
      "metadata": {
        "id": "rNSpalR0NHyv"
      },
      "source": [
        "### Generate a grouped bar chart showing the number of admissions by LOR score, with separate bars for admitted and not admitted."
      ]
    },
    {
      "cell_type": "code",
      "metadata": {
        "id": "LXYPYdFLNHyv",
        "outputId": "e5eb64d2-ef05-483b-d639-6574304e8ba3",
        "colab": {
          "base_uri": "https://localhost:8080/",
          "height": 295
        }
      },
      "source": [
        "sns.countplot(x='LOR', hue='Admitted', data=data)\n",
        "plt.title('Admissions by LOR score')\n",
        "plt.show()"
      ],
      "execution_count": 15,
      "outputs": [
        {
          "output_type": "display_data",
          "data": {
            "image/png": "[encoded data removed]",
            "text/plain": [
              "<Figure size 432x288 with 1 Axes>"
            ]
          },
          "metadata": {
            "tags": [],
            "needs_background": "light"
          }
        }
      ]
    },
    {
      "cell_type": "markdown",
      "metadata": {
        "id": "8_Z5sqWwNHyx"
      },
      "source": [
        "### Generate a scatter plot where the axes are GRE and TOEFL fields and the data points are color-coded by whether the student was admitted.\n",
        "\n",
        "Think about how you might go about determining the decision boundary to separate admitted from non-admitted students."
      ]
    },
    {
      "cell_type": "code",
      "metadata": {
        "id": "B9wQfCkgNHyy",
        "outputId": "6a475f77-deba-4f17-83c0-b2b214ed2b5b",
        "colab": {
          "base_uri": "https://localhost:8080/",
          "height": 295
        }
      },
      "source": [
        "sns.scatterplot(data=data, x='GRE', y='TOEFL', hue='Admitted')\n",
        "plt.title('Scatter plot Admission by GRE and TOEFL')\n",
        "plt.show()"
      ],
      "execution_count": 17,
      "outputs": [
        {
          "output_type": "display_data",
          "data": {
            "image/png": "[encoded data removed]",
            "text/plain": [
              "<Figure size 432x288 with 1 Axes>"
            ]
          },
          "metadata": {
            "tags": [],
            "needs_background": "light"
          }
        }
      ]
    },
    {
      "cell_type": "markdown",
      "metadata": {
        "id": "isAcJAkpNHy2"
      },
      "source": [
        "### Generate a scatter plot where the axes are GPA and TOEFL fields and the data points are color-coded by whether the student was admitted.\n",
        "\n",
        "Think about how you might go about determining the decision boundary to separate admitted from non-admitted students."
      ]
    },
    {
      "cell_type": "code",
      "metadata": {
        "id": "sZRB7oSKNHy2",
        "outputId": "e7fa0112-1b03-40ec-bb6f-ae0f2c611ba6",
        "colab": {
          "base_uri": "https://localhost:8080/",
          "height": 295
        }
      },
      "source": [
        "sns.scatterplot(x='GPA', y='TOEFL', hue='Admitted', data=data)\n",
        "plt.title('Scatter plot for Admissions based on GPA and TOEFL')\n",
        "plt.show()"
      ],
      "execution_count": 18,
      "outputs": [
        {
          "output_type": "display_data",
          "data": {
            "image/png": "[encoded data removed]",
            "text/plain": [
              "<Figure size 432x288 with 1 Axes>"
            ]
          },
          "metadata": {
            "tags": [],
            "needs_background": "light"
          }
        }
      ]
    },
    {
      "cell_type": "markdown",
      "metadata": {
        "id": "VMeb2uIiNHy4"
      },
      "source": [
        "### Generate a scatter plot where the axes are GRE and GPA fields and the data points are color-coded by whether the student was admitted.\n",
        "\n",
        "Think about how you might go about determining the decision boundary to separate admitted from non-admitted students."
      ]
    },
    {
      "cell_type": "code",
      "metadata": {
        "id": "b6ZhHk8KNHy5",
        "outputId": "7e4cc6fe-c21f-4851-8854-b950facc1127",
        "colab": {
          "base_uri": "https://localhost:8080/",
          "height": 295
        }
      },
      "source": [
        "sns.scatterplot(x='GRE', y='GPA', hue='Admitted', data=data)\n",
        "plt.title('Scatter plot for Admissions based on GRE and GPA')\n",
        "plt.show()"
      ],
      "execution_count": 19,
      "outputs": [
        {
          "output_type": "display_data",
          "data": {
            "image/png": "[encoded data removed]",
            "text/plain": [
              "<Figure size 432x288 with 1 Axes>"
            ]
          },
          "metadata": {
            "tags": [],
            "needs_background": "light"
          }
        }
      ]
    },
    {
      "cell_type": "markdown",
      "metadata": {
        "id": "Qq_rf_7DNHy8"
      },
      "source": [
        "## Model Training and Evaluation\n",
        "\n",
        "Now that we have gained a sense of familiarity with our data, let's train a model to predict admissions."
      ]
    },
    {
      "cell_type": "markdown",
      "metadata": {
        "id": "-H-fgAcvovQg"
      },
      "source": [
        "### Split the data into a training and test sets, where the test set contains 20% of the data."
      ]
    },
    {
      "cell_type": "code",
      "metadata": {
        "id": "Fjauxq1WovQg"
      },
      "source": [
        "X = data.drop(['Admitted'], axis=1)\n",
        "y = data['Admitted']\n",
        "\n",
        "X_train, X_test, y_train, y_test = train_test_split(X, y, test_size=0.2)"
      ],
      "execution_count": 20,
      "outputs": []
    },
    {
      "cell_type": "markdown",
      "metadata": {
        "id": "Dqv8gMI-ovQi"
      },
      "source": [
        "### Use the linear kernel to train a Support Vector Classifier (SVC) model on the training data. Report the scores for both the training and test data."
      ]
    },
    {
      "cell_type": "code",
      "metadata": {
        "id": "Fw3loKixovQi",
        "outputId": "f9a0e63c-a8be-45d6-b0a2-54f952bf43b0",
        "colab": {
          "base_uri": "https://localhost:8080/",
          "height": 51
        }
      },
      "source": [
        "#SVC with kernel='linear'\n",
        "svm = SVC(kernel='linear')\n",
        "svm.fit(X_train, y_train)\n",
        "\n",
        "#scores for SVC\n",
        "print('Train score: ', svm.score(X_train, y_train))\n",
        "print('Test score: ', svm.score(X_test, y_test))"
      ],
      "execution_count": 21,
      "outputs": [
        {
          "output_type": "stream",
          "text": [
            "Train score:  0.890625\n",
            "Test score:  0.8\n"
          ],
          "name": "stdout"
        }
      ]
    },
    {
      "cell_type": "markdown",
      "metadata": {
        "id": "bfwaWwwRNHzC"
      },
      "source": [
        "### Generate a classification report for the SVC model you trained.\n",
        "\n",
        "How do the evaluation metrics differ across classes?"
      ]
    },
    {
      "cell_type": "code",
      "metadata": {
        "id": "tQwTuoggNHzD",
        "outputId": "db1c7bb7-1fc3-41ff-e67c-f5abe4165042",
        "colab": {
          "base_uri": "https://localhost:8080/",
          "height": 357
        }
      },
      "source": [
        "y_train_pred = svm.predict(X_train)\n",
        "y_test_pred = svm.predict(X_test)\n",
        "\n",
        "print('Classification report for Train:\\n {}'.format(classification_report(y_train, y_train_pred)))\n",
        "print('Classification report for Test:\\n {}'.format(classification_report(y_test, y_test_pred)))"
      ],
      "execution_count": 26,
      "outputs": [
        {
          "output_type": "stream",
          "text": [
            "Classification report for Train:\n",
            "               precision    recall  f1-score   support\n",
            "\n",
            "           0       0.86      0.84      0.85       116\n",
            "           1       0.91      0.92      0.91       204\n",
            "\n",
            "    accuracy                           0.89       320\n",
            "   macro avg       0.88      0.88      0.88       320\n",
            "weighted avg       0.89      0.89      0.89       320\n",
            "\n",
            "Classification report for Test:\n",
            "               precision    recall  f1-score   support\n",
            "\n",
            "           0       0.78      0.78      0.78        37\n",
            "           1       0.81      0.81      0.81        43\n",
            "\n",
            "    accuracy                           0.80        80\n",
            "   macro avg       0.80      0.80      0.80        80\n",
            "weighted avg       0.80      0.80      0.80        80\n",
            "\n"
          ],
          "name": "stdout"
        }
      ]
    },
    {
      "cell_type": "code",
      "metadata": {
        "id": "LfO4Jz18mJzk"
      },
      "source": [
        ""
      ],
      "execution_count": null,
      "outputs": []
    }
  ]
}