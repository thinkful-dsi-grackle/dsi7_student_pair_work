{
  "nbformat": 4,
  "nbformat_minor": 0,
  "metadata": {
    "kernelspec": {
      "display_name": "Python 3",
      "language": "python",
      "name": "python3"
    },
    "language_info": {
      "codemirror_mode": {
        "name": "ipython",
        "version": 3
      },
      "file_extension": ".py",
      "mimetype": "text/x-python",
      "name": "python",
      "nbconvert_exporter": "python",
      "pygments_lexer": "ipython3",
      "version": "3.7.0"
    },
    "colab": {
      "name": "Day 32 Lecture 1 Assignment_Caesar.ipynb",
      "provenance": [],
      "collapsed_sections": []
    }
  },
  "cells": [
    {
      "cell_type": "markdown",
      "metadata": {
        "id": "mI6XEVkcoufQ"
      },
      "source": [
        "## Day 32 Lecture 1 Assignment\n",
        "\n",
        "In this assignment, we will learn about K nearest neighbor regression. We will use the absenteeism at work dataset loaded below and analyze the model generated for this dataset."
      ]
    },
    {
      "cell_type": "markdown",
      "metadata": {
        "id": "FxiwyxhJHY2t"
      },
      "source": [
        "The meaning of the different columns can be found here: https://www.kaggle.com/tonypriyanka2913/employee-absenteeism"
      ]
    },
    {
      "cell_type": "code",
      "metadata": {
        "id": "NEy0xeBdoufR"
      },
      "source": [
        "%matplotlib inline\n",
        "\n",
        "import math\n",
        "import matplotlib.pyplot as plt\n",
        "import numpy as np\n",
        "import pandas as pd\n",
        "import seaborn as sns\n",
        "\n",
        "from sklearn.metrics import mean_squared_error\n",
        "from sklearn.model_selection import train_test_split\n",
        "from sklearn.preprocessing import MinMaxScaler\n",
        "from sklearn.neighbors import KNeighborsRegressor"
      ],
      "execution_count": 41,
      "outputs": []
    },
    {
      "cell_type": "code",
      "metadata": {
        "id": "YGxZV9tgoufT"
      },
      "source": [
        "absent = pd.read_csv('https://tf-assets-prod.s3.amazonaws.com/tf-curric/data-science/Absenteeism_at_work.csv', sep=';')"
      ],
      "execution_count": 59,
      "outputs": []
    },
    {
      "cell_type": "code",
      "metadata": {
        "id": "S1lhtGI0HdSx",
        "outputId": "426b00c0-fcd6-4a0d-8811-d05de7ee8c89",
        "colab": {
          "base_uri": "https://localhost:8080/",
          "height": 34
        }
      },
      "source": [
        "absent.shape"
      ],
      "execution_count": 60,
      "outputs": [
        {
          "output_type": "execute_result",
          "data": {
            "text/plain": [
              "(740, 21)"
            ]
          },
          "metadata": {
            "tags": []
          },
          "execution_count": 60
        }
      ]
    },
    {
      "cell_type": "code",
      "metadata": {
        "id": "Akfyq45foufV",
        "outputId": "562a6da0-60e3-409d-d544-c3f49ed998ad",
        "colab": {
          "base_uri": "https://localhost:8080/",
          "height": 238
        }
      },
      "source": [
        "absent.head()"
      ],
      "execution_count": 61,
      "outputs": [
        {
          "output_type": "execute_result",
          "data": {
            "text/html": [
              "<div>\n",
              "<style scoped>\n",
              "    .dataframe tbody tr th:only-of-type {\n",
              "        vertical-align: middle;\n",
              "    }\n",
              "\n",
              "    .dataframe tbody tr th {\n",
              "        vertical-align: top;\n",
              "    }\n",
              "\n",
              "    .dataframe thead th {\n",
              "        text-align: right;\n",
              "    }\n",
              "</style>\n",
              "<table border=\"1\" class=\"dataframe\">\n",
              "  <thead>\n",
              "    <tr style=\"text-align: right;\">\n",
              "      <th></th>\n",
              "      <th>ID</th>\n",
              "      <th>Reason for absence</th>\n",
              "      <th>Month of absence</th>\n",
              "      <th>Day of the week</th>\n",
              "      <th>Seasons</th>\n",
              "      <th>Transportation expense</th>\n",
              "      <th>Distance from Residence to Work</th>\n",
              "      <th>Service time</th>\n",
              "      <th>Age</th>\n",
              "      <th>Work load Average/day</th>\n",
              "      <th>Hit target</th>\n",
              "      <th>Disciplinary failure</th>\n",
              "      <th>Education</th>\n",
              "      <th>Son</th>\n",
              "      <th>Social drinker</th>\n",
              "      <th>Social smoker</th>\n",
              "      <th>Pet</th>\n",
              "      <th>Weight</th>\n",
              "      <th>Height</th>\n",
              "      <th>Body mass index</th>\n",
              "      <th>Absenteeism time in hours</th>\n",
              "    </tr>\n",
              "  </thead>\n",
              "  <tbody>\n",
              "    <tr>\n",
              "      <th>0</th>\n",
              "      <td>11</td>\n",
              "      <td>26</td>\n",
              "      <td>7</td>\n",
              "      <td>3</td>\n",
              "      <td>1</td>\n",
              "      <td>289</td>\n",
              "      <td>36</td>\n",
              "      <td>13</td>\n",
              "      <td>33</td>\n",
              "      <td>239.554</td>\n",
              "      <td>97</td>\n",
              "      <td>0</td>\n",
              "      <td>1</td>\n",
              "      <td>2</td>\n",
              "      <td>1</td>\n",
              "      <td>0</td>\n",
              "      <td>1</td>\n",
              "      <td>90</td>\n",
              "      <td>172</td>\n",
              "      <td>30</td>\n",
              "      <td>4</td>\n",
              "    </tr>\n",
              "    <tr>\n",
              "      <th>1</th>\n",
              "      <td>36</td>\n",
              "      <td>0</td>\n",
              "      <td>7</td>\n",
              "      <td>3</td>\n",
              "      <td>1</td>\n",
              "      <td>118</td>\n",
              "      <td>13</td>\n",
              "      <td>18</td>\n",
              "      <td>50</td>\n",
              "      <td>239.554</td>\n",
              "      <td>97</td>\n",
              "      <td>1</td>\n",
              "      <td>1</td>\n",
              "      <td>1</td>\n",
              "      <td>1</td>\n",
              "      <td>0</td>\n",
              "      <td>0</td>\n",
              "      <td>98</td>\n",
              "      <td>178</td>\n",
              "      <td>31</td>\n",
              "      <td>0</td>\n",
              "    </tr>\n",
              "    <tr>\n",
              "      <th>2</th>\n",
              "      <td>3</td>\n",
              "      <td>23</td>\n",
              "      <td>7</td>\n",
              "      <td>4</td>\n",
              "      <td>1</td>\n",
              "      <td>179</td>\n",
              "      <td>51</td>\n",
              "      <td>18</td>\n",
              "      <td>38</td>\n",
              "      <td>239.554</td>\n",
              "      <td>97</td>\n",
              "      <td>0</td>\n",
              "      <td>1</td>\n",
              "      <td>0</td>\n",
              "      <td>1</td>\n",
              "      <td>0</td>\n",
              "      <td>0</td>\n",
              "      <td>89</td>\n",
              "      <td>170</td>\n",
              "      <td>31</td>\n",
              "      <td>2</td>\n",
              "    </tr>\n",
              "    <tr>\n",
              "      <th>3</th>\n",
              "      <td>7</td>\n",
              "      <td>7</td>\n",
              "      <td>7</td>\n",
              "      <td>5</td>\n",
              "      <td>1</td>\n",
              "      <td>279</td>\n",
              "      <td>5</td>\n",
              "      <td>14</td>\n",
              "      <td>39</td>\n",
              "      <td>239.554</td>\n",
              "      <td>97</td>\n",
              "      <td>0</td>\n",
              "      <td>1</td>\n",
              "      <td>2</td>\n",
              "      <td>1</td>\n",
              "      <td>1</td>\n",
              "      <td>0</td>\n",
              "      <td>68</td>\n",
              "      <td>168</td>\n",
              "      <td>24</td>\n",
              "      <td>4</td>\n",
              "    </tr>\n",
              "    <tr>\n",
              "      <th>4</th>\n",
              "      <td>11</td>\n",
              "      <td>23</td>\n",
              "      <td>7</td>\n",
              "      <td>5</td>\n",
              "      <td>1</td>\n",
              "      <td>289</td>\n",
              "      <td>36</td>\n",
              "      <td>13</td>\n",
              "      <td>33</td>\n",
              "      <td>239.554</td>\n",
              "      <td>97</td>\n",
              "      <td>0</td>\n",
              "      <td>1</td>\n",
              "      <td>2</td>\n",
              "      <td>1</td>\n",
              "      <td>0</td>\n",
              "      <td>1</td>\n",
              "      <td>90</td>\n",
              "      <td>172</td>\n",
              "      <td>30</td>\n",
              "      <td>2</td>\n",
              "    </tr>\n",
              "  </tbody>\n",
              "</table>\n",
              "</div>"
            ],
            "text/plain": [
              "   ID  Reason for absence  ...  Body mass index  Absenteeism time in hours\n",
              "0  11                  26  ...               30                          4\n",
              "1  36                   0  ...               31                          0\n",
              "2   3                  23  ...               31                          2\n",
              "3   7                   7  ...               24                          4\n",
              "4  11                  23  ...               30                          2\n",
              "\n",
              "[5 rows x 21 columns]"
            ]
          },
          "metadata": {
            "tags": []
          },
          "execution_count": 61
        }
      ]
    },
    {
      "cell_type": "markdown",
      "metadata": {
        "id": "jGLnxKy7oufX"
      },
      "source": [
        "Find which variables have the highest pairwise correlation and remove them from our dataset. Additionally, try to think of which variables are correlated by looking at the column names and remove those columns as well.\n",
        "\n",
        "Note: When choosing between two categorical variables that are correlated, you often want to keep the one with fewer unique values. Why might that be? (Think about the cons of KNN.)"
      ]
    },
    {
      "cell_type": "code",
      "metadata": {
        "id": "uyicbxpQ0rIu",
        "outputId": "be460b4b-a3c4-46e6-a7cd-133a9d8d5486",
        "colab": {
          "base_uri": "https://localhost:8080/",
          "height": 493
        }
      },
      "source": [
        "absent.info()"
      ],
      "execution_count": 62,
      "outputs": [
        {
          "output_type": "stream",
          "text": [
            "<class 'pandas.core.frame.DataFrame'>\n",
            "RangeIndex: 740 entries, 0 to 739\n",
            "Data columns (total 21 columns):\n",
            " #   Column                           Non-Null Count  Dtype  \n",
            "---  ------                           --------------  -----  \n",
            " 0   ID                               740 non-null    int64  \n",
            " 1   Reason for absence               740 non-null    int64  \n",
            " 2   Month of absence                 740 non-null    int64  \n",
            " 3   Day of the week                  740 non-null    int64  \n",
            " 4   Seasons                          740 non-null    int64  \n",
            " 5   Transportation expense           740 non-null    int64  \n",
            " 6   Distance from Residence to Work  740 non-null    int64  \n",
            " 7   Service time                     740 non-null    int64  \n",
            " 8   Age                              740 non-null    int64  \n",
            " 9   Work load Average/day            740 non-null    float64\n",
            " 10  Hit target                       740 non-null    int64  \n",
            " 11  Disciplinary failure             740 non-null    int64  \n",
            " 12  Education                        740 non-null    int64  \n",
            " 13  Son                              740 non-null    int64  \n",
            " 14  Social drinker                   740 non-null    int64  \n",
            " 15  Social smoker                    740 non-null    int64  \n",
            " 16  Pet                              740 non-null    int64  \n",
            " 17  Weight                           740 non-null    int64  \n",
            " 18  Height                           740 non-null    int64  \n",
            " 19  Body mass index                  740 non-null    int64  \n",
            " 20  Absenteeism time in hours        740 non-null    int64  \n",
            "dtypes: float64(1), int64(20)\n",
            "memory usage: 121.5 KB\n"
          ],
          "name": "stdout"
        }
      ]
    },
    {
      "cell_type": "code",
      "metadata": {
        "id": "NZ2zy083oufX",
        "outputId": "9730b453-7e5c-45b4-f92e-45dc7b0f27dd",
        "colab": {
          "base_uri": "https://localhost:8080/",
          "height": 768
        }
      },
      "source": [
        "# answer below:\n",
        "plt.figure(figsize=(15,10))\n",
        "sns.heatmap(absent.corr(), cmap='coolwarm')"
      ],
      "execution_count": 63,
      "outputs": [
        {
          "output_type": "execute_result",
          "data": {
            "text/plain": [
              "<matplotlib.axes._subplots.AxesSubplot at 0x7f47d3d04630>"
            ]
          },
          "metadata": {
            "tags": []
          },
          "execution_count": 63
        },
        {
          "output_type": "display_data",
          "data": {
            "image/png": "[encoded data removed]",
            "text/plain": [
              "<Figure size 1080x720 with 2 Axes>"
            ]
          },
          "metadata": {
            "tags": [],
            "needs_background": "light"
          }
        }
      ]
    },
    {
      "cell_type": "code",
      "metadata": {
        "id": "UPKEVuXA1O8t"
      },
      "source": [
        "absent.drop(['Weight', 'Age', 'Month of absence'], axis=1, inplace=True)"
      ],
      "execution_count": 64,
      "outputs": []
    },
    {
      "cell_type": "markdown",
      "metadata": {
        "id": "dGPZCTESoufZ"
      },
      "source": [
        "Figure out which columns actually contain sneaky categorical variables and turn those into dummy variables."
      ]
    },
    {
      "cell_type": "code",
      "metadata": {
        "id": "WghfIt-KoufZ"
      },
      "source": [
        "# answer below:\n",
        "n_absent = pd.concat([pd.get_dummies(absent.Seasons, drop_first=True), absent.drop('Seasons', axis=1)], axis=1)"
      ],
      "execution_count": 65,
      "outputs": []
    },
    {
      "cell_type": "code",
      "metadata": {
        "id": "dFgiC4WY2Nxj"
      },
      "source": [
        "n_absent.drop(['ID'], axis=1, inplace=True)"
      ],
      "execution_count": 66,
      "outputs": []
    },
    {
      "cell_type": "markdown",
      "metadata": {
        "id": "2bUDBGzOrveU"
      },
      "source": [
        "Split the data into train and test with test containing 20% of the data, then scale your features."
      ]
    },
    {
      "cell_type": "code",
      "metadata": {
        "id": "_xuMyL1-oufc"
      },
      "source": [
        "# answer below:\n",
        "X = n_absent.drop('Absenteeism time in hours', axis=1)\n",
        "Y = n_absent['Absenteeism time in hours']\n",
        "\n",
        "X_train, X_test, y_train, y_test = train_test_split(X, Y, test_size=0.2)"
      ],
      "execution_count": 67,
      "outputs": []
    },
    {
      "cell_type": "code",
      "metadata": {
        "id": "lVtzpdiz24Qv"
      },
      "source": [
        "scale = MinMaxScaler()\n",
        "\n",
        "X_train_ = scale.fit_transform(X_train)\n",
        "X_test_ = scale.transform(X_test)"
      ],
      "execution_count": 68,
      "outputs": []
    },
    {
      "cell_type": "markdown",
      "metadata": {
        "id": "J76cyHbvouff"
      },
      "source": [
        "Train a series of KNN regression models with a range of K values. For each K value, use cross validation of the training set and find the average RMSE score. Make a plot of K versus average RMSE. What is the best value of K?"
      ]
    },
    {
      "cell_type": "code",
      "metadata": {
        "id": "dsdykvHkoufg"
      },
      "source": [
        "# answer below\n",
        "k_list = np.arange(1, 30, 2)\n",
        "train_errors = []\n",
        "test_errors = []\n",
        "\n",
        "for i in k_list:\n",
        "    n = KNeighborsRegressor(n_neighbors=i)\n",
        "    n.fit(X_train_, y_train)\n",
        "    y_pred_train = n.predict(X_train_)\n",
        "    y_pred_test = n.predict(X_test_)\n",
        "    train_errors.append(mean_squared_error(y_train, y_pred_train, squared=False))\n",
        "    test_errors.append(mean_squared_error(y_test, y_pred_test, squared=False))"
      ],
      "execution_count": 73,
      "outputs": []
    },
    {
      "cell_type": "code",
      "metadata": {
        "id": "JxaJGUYF53Vt",
        "outputId": "0bd80825-bf95-4f30-f119-b7952c21e35f",
        "colab": {
          "base_uri": "https://localhost:8080/",
          "height": 272
        }
      },
      "source": [
        "train_errors"
      ],
      "execution_count": 77,
      "outputs": [
        {
          "output_type": "execute_result",
          "data": {
            "text/plain": [
              "[3.2314961809613156,\n",
              " 10.134900898194132,\n",
              " 11.68052201721287,\n",
              " 12.27764309045475,\n",
              " 12.362616738618053,\n",
              " 12.534153141489583,\n",
              " 12.727373519402299,\n",
              " 12.915514043312523,\n",
              " 13.010936687545911,\n",
              " 13.062983616016275,\n",
              " 13.152942069710898,\n",
              " 13.202831906333824,\n",
              " 13.233156964354471,\n",
              " 13.279552359274561,\n",
              " 13.329922398625913]"
            ]
          },
          "metadata": {
            "tags": []
          },
          "execution_count": 77
        }
      ]
    },
    {
      "cell_type": "code",
      "metadata": {
        "id": "X6n_7q7056fS",
        "outputId": "d2cc6791-f251-4c53-9e33-6e88a5a477be",
        "colab": {
          "base_uri": "https://localhost:8080/",
          "height": 272
        }
      },
      "source": [
        "test_errors"
      ],
      "execution_count": 78,
      "outputs": [
        {
          "output_type": "execute_result",
          "data": {
            "text/plain": [
              "[19.694113539535312,\n",
              " 13.724635354559172,\n",
              " 11.939792655178255,\n",
              " 10.839875264637309,\n",
              " 10.638978076920163,\n",
              " 10.4543558363319,\n",
              " 10.215100235878358,\n",
              " 10.192980273052964,\n",
              " 10.07691824445981,\n",
              " 10.038367849326198,\n",
              " 9.978993687185419,\n",
              " 10.009591527448304,\n",
              " 10.090875728744903,\n",
              " 10.081726341298678,\n",
              " 9.760736320549702]"
            ]
          },
          "metadata": {
            "tags": []
          },
          "execution_count": 78
        }
      ]
    },
    {
      "cell_type": "code",
      "metadata": {
        "id": "5j5Zpifc3z5t",
        "outputId": "640e141d-770b-4df3-e333-c6d7eaf18034",
        "colab": {
          "base_uri": "https://localhost:8080/",
          "height": 265
        }
      },
      "source": [
        "plt.plot(k_list, train_errors, label='Train')\n",
        "plt.plot(k_list, test_errors, label='Test')\n",
        "plt.legend()\n",
        "plt.show()"
      ],
      "execution_count": 74,
      "outputs": [
        {
          "output_type": "display_data",
          "data": {
            "image/png": "[encoded data removed]",
            "text/plain": [
              "<Figure size 432x288 with 1 Axes>"
            ]
          },
          "metadata": {
            "tags": [],
            "needs_background": "light"
          }
        }
      ]
    },
    {
      "cell_type": "markdown",
      "metadata": {
        "id": "PYkLIuvxIGM7"
      },
      "source": [
        "Using your best K, fit a model to all your training data and show the RMSE for the training and testing sets."
      ]
    },
    {
      "cell_type": "code",
      "metadata": {
        "id": "yoXGKDM-oufh",
        "outputId": "35493771-f28e-4f22-cc6b-5b7f92397cda",
        "colab": {
          "base_uri": "https://localhost:8080/",
          "height": 51
        }
      },
      "source": [
        "# answer below\n",
        "n = KNeighborsRegressor(n_neighbors=5)\n",
        "n.fit(X_train_, y_train)\n",
        "y_pred_train = n.predict(X_train_)\n",
        "y_pred_test = n.predict(X_test_)\n",
        "print(f'Train RMSE: {mean_squared_error(y_train, y_pred_train, squared=False)}')\n",
        "print(f'Test RMSE: {mean_squared_error(y_test, y_pred_test, squared=False)}')"
      ],
      "execution_count": 75,
      "outputs": [
        {
          "output_type": "stream",
          "text": [
            "Train RMSE: 11.68052201721287\n",
            "Test RMSE: 11.939792655178255\n"
          ],
          "name": "stdout"
        }
      ]
    },
    {
      "cell_type": "markdown",
      "metadata": {
        "id": "wzFGMqYHIJeH"
      },
      "source": [
        "Create a homoscedasticity plot (also called residual plot). How is your model performing? What ideas do you have to improve the model?"
      ]
    },
    {
      "cell_type": "code",
      "metadata": {
        "id": "PRtdlHad6hz9"
      },
      "source": [
        "residual = y_train - y_pred_train"
      ],
      "execution_count": 85,
      "outputs": []
    },
    {
      "cell_type": "code",
      "metadata": {
        "id": "cG3BXWIqoufj",
        "outputId": "76a8a56b-709d-4384-9198-db5f4a5dbb62",
        "colab": {
          "base_uri": "https://localhost:8080/",
          "height": 295
        }
      },
      "source": [
        "# answer below\n",
        "plt.scatter(y_pred_train, residual)\n",
        "plt.xlabel('Fit')\n",
        "plt.ylabel('Residual')\n",
        "plt.axhline(y=0)\n",
        "plt.title('Residual vs. Fit')\n",
        "plt.show()"
      ],
      "execution_count": 86,
      "outputs": [
        {
          "output_type": "display_data",
          "data": {
            "image/png": "[encoded data removed]",
            "text/plain": [
              "<Figure size 432x288 with 1 Axes>"
            ]
          },
          "metadata": {
            "tags": [],
            "needs_background": "light"
          }
        }
      ]
    },
    {
      "cell_type": "markdown",
      "metadata": {
        "id": "NOv4de-56SbF"
      },
      "source": [
        "*The model is exhibiting heteroscedasticity which is possibly a tell of variables still being highly correlated in the data set. Minimizing unique values also comes into mind so categorizing by range would possibly yield better results and homoscedasticity.*"
      ]
    }
  ]
}