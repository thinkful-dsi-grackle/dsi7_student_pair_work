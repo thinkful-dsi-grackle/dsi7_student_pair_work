{
  "nbformat": 4,
  "nbformat_minor": 0,
  "metadata": {
    "colab": {
      "name": "Day 32 Lecture 2 Assignment.ipynb",
      "provenance": [],
      "collapsed_sections": []
    },
    "kernelspec": {
      "display_name": "Python 3",
      "language": "python",
      "name": "python3"
    },
    "language_info": {
      "codemirror_mode": {
        "name": "ipython",
        "version": 3
      },
      "file_extension": ".py",
      "mimetype": "text/x-python",
      "name": "python",
      "nbconvert_exporter": "python",
      "pygments_lexer": "ipython3",
      "version": "3.7.6"
    }
  },
  "cells": [
    {
      "cell_type": "markdown",
      "metadata": {
        "id": "TNewN9PjovQQ"
      },
      "source": [
        "# Support Vector Machine Assignment"
      ]
    },
    {
      "cell_type": "code",
      "metadata": {
        "id": "LytTJ7m3ovQR"
      },
      "source": [
        "import numpy as np\n",
        "import pandas as pd\n",
        "import seaborn as sns\n",
        "from sklearn.svm import SVC\n",
        "import matplotlib.pyplot as plt\n",
        "from sklearn.model_selection import train_test_split\n",
        "from sklearn.metrics import classification_report"
      ],
      "execution_count": 1,
      "outputs": []
    },
    {
      "cell_type": "markdown",
      "metadata": {
        "id": "-K2eRKbKNHyU"
      },
      "source": [
        "### Import the admissions data set (admissions.csv)."
      ]
    },
    {
      "cell_type": "code",
      "metadata": {
        "id": "67QhNML9NHyV",
        "outputId": "81cebfe7-4add-4ab1-b7eb-cdc3b905366f",
        "colab": {
          "base_uri": "https://localhost:8080/",
          "height": 204
        }
      },
      "source": [
        "data = pd.read_csv('https://tf-assets-prod.s3.amazonaws.com/tf-curric/data-science/admissions.csv')\n",
        "data.head()"
      ],
      "execution_count": 2,
      "outputs": [
        {
          "output_type": "execute_result",
          "data": {
            "text/html": [
              "<div>\n",
              "<style scoped>\n",
              "    .dataframe tbody tr th:only-of-type {\n",
              "        vertical-align: middle;\n",
              "    }\n",
              "\n",
              "    .dataframe tbody tr th {\n",
              "        vertical-align: top;\n",
              "    }\n",
              "\n",
              "    .dataframe thead th {\n",
              "        text-align: right;\n",
              "    }\n",
              "</style>\n",
              "<table border=\"1\" class=\"dataframe\">\n",
              "  <thead>\n",
              "    <tr style=\"text-align: right;\">\n",
              "      <th></th>\n",
              "      <th>GRE</th>\n",
              "      <th>TOEFL</th>\n",
              "      <th>SchoolRank</th>\n",
              "      <th>SOP</th>\n",
              "      <th>LOR</th>\n",
              "      <th>GPA</th>\n",
              "      <th>Research</th>\n",
              "      <th>Admitted</th>\n",
              "    </tr>\n",
              "  </thead>\n",
              "  <tbody>\n",
              "    <tr>\n",
              "      <th>0</th>\n",
              "      <td>337</td>\n",
              "      <td>118</td>\n",
              "      <td>4</td>\n",
              "      <td>4.5</td>\n",
              "      <td>4.5</td>\n",
              "      <td>9.65</td>\n",
              "      <td>1</td>\n",
              "      <td>1</td>\n",
              "    </tr>\n",
              "    <tr>\n",
              "      <th>1</th>\n",
              "      <td>324</td>\n",
              "      <td>107</td>\n",
              "      <td>4</td>\n",
              "      <td>4.0</td>\n",
              "      <td>4.5</td>\n",
              "      <td>8.87</td>\n",
              "      <td>1</td>\n",
              "      <td>1</td>\n",
              "    </tr>\n",
              "    <tr>\n",
              "      <th>2</th>\n",
              "      <td>316</td>\n",
              "      <td>104</td>\n",
              "      <td>3</td>\n",
              "      <td>3.0</td>\n",
              "      <td>3.5</td>\n",
              "      <td>8.00</td>\n",
              "      <td>1</td>\n",
              "      <td>1</td>\n",
              "    </tr>\n",
              "    <tr>\n",
              "      <th>3</th>\n",
              "      <td>322</td>\n",
              "      <td>110</td>\n",
              "      <td>3</td>\n",
              "      <td>3.5</td>\n",
              "      <td>2.5</td>\n",
              "      <td>8.67</td>\n",
              "      <td>1</td>\n",
              "      <td>1</td>\n",
              "    </tr>\n",
              "    <tr>\n",
              "      <th>4</th>\n",
              "      <td>314</td>\n",
              "      <td>103</td>\n",
              "      <td>2</td>\n",
              "      <td>2.0</td>\n",
              "      <td>3.0</td>\n",
              "      <td>8.21</td>\n",
              "      <td>0</td>\n",
              "      <td>0</td>\n",
              "    </tr>\n",
              "  </tbody>\n",
              "</table>\n",
              "</div>"
            ],
            "text/plain": [
              "   GRE  TOEFL  SchoolRank  SOP  LOR   GPA  Research  Admitted\n",
              "0  337    118           4  4.5  4.5  9.65         1         1\n",
              "1  324    107           4  4.0  4.5  8.87         1         1\n",
              "2  316    104           3  3.0  3.5  8.00         1         1\n",
              "3  322    110           3  3.5  2.5  8.67         1         1\n",
              "4  314    103           2  2.0  3.0  8.21         0         0"
            ]
          },
          "metadata": {
            "tags": []
          },
          "execution_count": 2
        }
      ]
    },
    {
      "cell_type": "markdown",
      "metadata": {
        "id": "nNxDoziuNHyY"
      },
      "source": [
        "## Data Exploration\n",
        "\n",
        "Before jumping into training a model on the data, let's explore it to get a better sense of the relationships between our features and the target variable."
      ]
    },
    {
      "cell_type": "markdown",
      "metadata": {
        "id": "Xtb9mBARNHyZ"
      },
      "source": [
        "### Call the Pandas `describe()` method on the data frame to get view the average values and variability for each variable."
      ]
    },
    {
      "cell_type": "code",
      "metadata": {
        "id": "MemXRhIFNHya",
        "outputId": "c0a8126a-b998-4369-aece-f0a97140d10c",
        "colab": {
          "base_uri": "https://localhost:8080/",
          "height": 297
        }
      },
      "source": [
        "data.describe()"
      ],
      "execution_count": 3,
      "outputs": [
        {
          "output_type": "execute_result",
          "data": {
            "text/html": [
              "<div>\n",
              "<style scoped>\n",
              "    .dataframe tbody tr th:only-of-type {\n",
              "        vertical-align: middle;\n",
              "    }\n",
              "\n",
              "    .dataframe tbody tr th {\n",
              "        vertical-align: top;\n",
              "    }\n",
              "\n",
              "    .dataframe thead th {\n",
              "        text-align: right;\n",
              "    }\n",
              "</style>\n",
              "<table border=\"1\" class=\"dataframe\">\n",
              "  <thead>\n",
              "    <tr style=\"text-align: right;\">\n",
              "      <th></th>\n",
              "      <th>GRE</th>\n",
              "      <th>TOEFL</th>\n",
              "      <th>SchoolRank</th>\n",
              "      <th>SOP</th>\n",
              "      <th>LOR</th>\n",
              "      <th>GPA</th>\n",
              "      <th>Research</th>\n",
              "      <th>Admitted</th>\n",
              "    </tr>\n",
              "  </thead>\n",
              "  <tbody>\n",
              "    <tr>\n",
              "      <th>count</th>\n",
              "      <td>400.000000</td>\n",
              "      <td>400.000000</td>\n",
              "      <td>400.000000</td>\n",
              "      <td>400.000000</td>\n",
              "      <td>400.000000</td>\n",
              "      <td>400.000000</td>\n",
              "      <td>400.000000</td>\n",
              "      <td>400.000000</td>\n",
              "    </tr>\n",
              "    <tr>\n",
              "      <th>mean</th>\n",
              "      <td>316.807500</td>\n",
              "      <td>107.410000</td>\n",
              "      <td>3.087500</td>\n",
              "      <td>3.400000</td>\n",
              "      <td>3.452500</td>\n",
              "      <td>8.598925</td>\n",
              "      <td>0.547500</td>\n",
              "      <td>0.617500</td>\n",
              "    </tr>\n",
              "    <tr>\n",
              "      <th>std</th>\n",
              "      <td>11.473646</td>\n",
              "      <td>6.069514</td>\n",
              "      <td>1.143728</td>\n",
              "      <td>1.006869</td>\n",
              "      <td>0.898478</td>\n",
              "      <td>0.596317</td>\n",
              "      <td>0.498362</td>\n",
              "      <td>0.486606</td>\n",
              "    </tr>\n",
              "    <tr>\n",
              "      <th>min</th>\n",
              "      <td>290.000000</td>\n",
              "      <td>92.000000</td>\n",
              "      <td>1.000000</td>\n",
              "      <td>1.000000</td>\n",
              "      <td>1.000000</td>\n",
              "      <td>6.800000</td>\n",
              "      <td>0.000000</td>\n",
              "      <td>0.000000</td>\n",
              "    </tr>\n",
              "    <tr>\n",
              "      <th>25%</th>\n",
              "      <td>308.000000</td>\n",
              "      <td>103.000000</td>\n",
              "      <td>2.000000</td>\n",
              "      <td>2.500000</td>\n",
              "      <td>3.000000</td>\n",
              "      <td>8.170000</td>\n",
              "      <td>0.000000</td>\n",
              "      <td>0.000000</td>\n",
              "    </tr>\n",
              "    <tr>\n",
              "      <th>50%</th>\n",
              "      <td>317.000000</td>\n",
              "      <td>107.000000</td>\n",
              "      <td>3.000000</td>\n",
              "      <td>3.500000</td>\n",
              "      <td>3.500000</td>\n",
              "      <td>8.610000</td>\n",
              "      <td>1.000000</td>\n",
              "      <td>1.000000</td>\n",
              "    </tr>\n",
              "    <tr>\n",
              "      <th>75%</th>\n",
              "      <td>325.000000</td>\n",
              "      <td>112.000000</td>\n",
              "      <td>4.000000</td>\n",
              "      <td>4.000000</td>\n",
              "      <td>4.000000</td>\n",
              "      <td>9.062500</td>\n",
              "      <td>1.000000</td>\n",
              "      <td>1.000000</td>\n",
              "    </tr>\n",
              "    <tr>\n",
              "      <th>max</th>\n",
              "      <td>340.000000</td>\n",
              "      <td>120.000000</td>\n",
              "      <td>5.000000</td>\n",
              "      <td>5.000000</td>\n",
              "      <td>5.000000</td>\n",
              "      <td>9.920000</td>\n",
              "      <td>1.000000</td>\n",
              "      <td>1.000000</td>\n",
              "    </tr>\n",
              "  </tbody>\n",
              "</table>\n",
              "</div>"
            ],
            "text/plain": [
              "              GRE       TOEFL  SchoolRank  ...         GPA    Research    Admitted\n",
              "count  400.000000  400.000000  400.000000  ...  400.000000  400.000000  400.000000\n",
              "mean   316.807500  107.410000    3.087500  ...    8.598925    0.547500    0.617500\n",
              "std     11.473646    6.069514    1.143728  ...    0.596317    0.498362    0.486606\n",
              "min    290.000000   92.000000    1.000000  ...    6.800000    0.000000    0.000000\n",
              "25%    308.000000  103.000000    2.000000  ...    8.170000    0.000000    0.000000\n",
              "50%    317.000000  107.000000    3.000000  ...    8.610000    1.000000    1.000000\n",
              "75%    325.000000  112.000000    4.000000  ...    9.062500    1.000000    1.000000\n",
              "max    340.000000  120.000000    5.000000  ...    9.920000    1.000000    1.000000\n",
              "\n",
              "[8 rows x 8 columns]"
            ]
          },
          "metadata": {
            "tags": []
          },
          "execution_count": 3
        }
      ]
    },
    {
      "cell_type": "markdown",
      "metadata": {
        "id": "Yk6ksePiNHye"
      },
      "source": [
        "### Group the data by the Admitted field and compute the average values for each field."
      ]
    },
    {
      "cell_type": "code",
      "metadata": {
        "id": "Uf8_rZozNHyf",
        "outputId": "b33259af-c574-4cf5-e202-cfab66b739a2",
        "colab": {
          "base_uri": "https://localhost:8080/",
          "height": 142
        }
      },
      "source": [
        "data.groupby(['Admitted']).mean()"
      ],
      "execution_count": 4,
      "outputs": [
        {
          "output_type": "execute_result",
          "data": {
            "text/html": [
              "<div>\n",
              "<style scoped>\n",
              "    .dataframe tbody tr th:only-of-type {\n",
              "        vertical-align: middle;\n",
              "    }\n",
              "\n",
              "    .dataframe tbody tr th {\n",
              "        vertical-align: top;\n",
              "    }\n",
              "\n",
              "    .dataframe thead th {\n",
              "        text-align: right;\n",
              "    }\n",
              "</style>\n",
              "<table border=\"1\" class=\"dataframe\">\n",
              "  <thead>\n",
              "    <tr style=\"text-align: right;\">\n",
              "      <th></th>\n",
              "      <th>GRE</th>\n",
              "      <th>TOEFL</th>\n",
              "      <th>SchoolRank</th>\n",
              "      <th>SOP</th>\n",
              "      <th>LOR</th>\n",
              "      <th>GPA</th>\n",
              "      <th>Research</th>\n",
              "    </tr>\n",
              "    <tr>\n",
              "      <th>Admitted</th>\n",
              "      <th></th>\n",
              "      <th></th>\n",
              "      <th></th>\n",
              "      <th></th>\n",
              "      <th></th>\n",
              "      <th></th>\n",
              "      <th></th>\n",
              "    </tr>\n",
              "  </thead>\n",
              "  <tbody>\n",
              "    <tr>\n",
              "      <th>0</th>\n",
              "      <td>307.013072</td>\n",
              "      <td>102.588235</td>\n",
              "      <td>2.261438</td>\n",
              "      <td>2.741830</td>\n",
              "      <td>2.875817</td>\n",
              "      <td>8.087974</td>\n",
              "      <td>0.248366</td>\n",
              "    </tr>\n",
              "    <tr>\n",
              "      <th>1</th>\n",
              "      <td>322.874494</td>\n",
              "      <td>110.396761</td>\n",
              "      <td>3.599190</td>\n",
              "      <td>3.807692</td>\n",
              "      <td>3.809717</td>\n",
              "      <td>8.915425</td>\n",
              "      <td>0.732794</td>\n",
              "    </tr>\n",
              "  </tbody>\n",
              "</table>\n",
              "</div>"
            ],
            "text/plain": [
              "                 GRE       TOEFL  SchoolRank  ...       LOR       GPA  Research\n",
              "Admitted                                      ...                              \n",
              "0         307.013072  102.588235    2.261438  ...  2.875817  8.087974  0.248366\n",
              "1         322.874494  110.396761    3.599190  ...  3.809717  8.915425  0.732794\n",
              "\n",
              "[2 rows x 7 columns]"
            ]
          },
          "metadata": {
            "tags": []
          },
          "execution_count": 4
        }
      ]
    },
    {
      "cell_type": "markdown",
      "metadata": {
        "id": "9XfQw8jrNHyi"
      },
      "source": [
        "### How many students that applied were admitted vs. not admitted? What percentage of students were admitted vs. not admitted? "
      ]
    },
    {
      "cell_type": "code",
      "metadata": {
        "id": "CXttCEavNHyi",
        "outputId": "51f7f63d-d392-427b-e241-df3d7447e6f6",
        "colab": {
          "base_uri": "https://localhost:8080/",
          "height": 85
        }
      },
      "source": [
        "admit = len(data[data['Admitted'] == 1])\n",
        "print('Admitted students number: ', admit)\n",
        "print('Admitted percentage: ', admit/len(data))\n",
        "print('Not Admitted students number: ', len(data)-admit)\n",
        "print('Not Admitted percentage: ', (len(data)-admit)/len(data))"
      ],
      "execution_count": 14,
      "outputs": [
        {
          "output_type": "stream",
          "text": [
            "Admitted students number:  247\n",
            "Admitted percentage:  0.6175\n",
            "Not Admitted students number:  153\n",
            "Not Admitted percentage:  0.3825\n"
          ],
          "name": "stdout"
        }
      ]
    },
    {
      "cell_type": "markdown",
      "metadata": {
        "id": "V5BbRmfkNHyl"
      },
      "source": [
        "### What percent of students with research experience were admitted?"
      ]
    },
    {
      "cell_type": "code",
      "metadata": {
        "id": "a214ofAdNHyl",
        "outputId": "b751f7bd-e535-4bf7-c2a6-83ac893f8ab2",
        "colab": {
          "base_uri": "https://localhost:8080/",
          "height": 51
        }
      },
      "source": [
        "research_admit = len(data[(data['Admitted'] == 1) & (data['Research'] == 1)])\n",
        "research_total = len(data[data['Research'] == 1])\n",
        "print('P(admitted|research): ',research_admit/research_total)\n",
        "print(research_admit)"
      ],
      "execution_count": 52,
      "outputs": [
        {
          "output_type": "stream",
          "text": [
            "P(admitted|research):  0.8264840182648402\n",
            "181\n"
          ],
          "name": "stdout"
        }
      ]
    },
    {
      "cell_type": "markdown",
      "metadata": {
        "id": "Pdq0lx3QNHyo"
      },
      "source": [
        "### What percent of students admitted had research experience?"
      ]
    },
    {
      "cell_type": "code",
      "metadata": {
        "id": "XcDAB45VNHyp",
        "outputId": "efa1b8cd-7aab-4109-f4e8-92be825c82b2",
        "colab": {
          "base_uri": "https://localhost:8080/",
          "height": 34
        }
      },
      "source": [
        "print('P(research|admitted): ', research_admit/admit)"
      ],
      "execution_count": 26,
      "outputs": [
        {
          "output_type": "stream",
          "text": [
            "P(research|admitted):  0.7327935222672065\n"
          ],
          "name": "stdout"
        }
      ]
    },
    {
      "cell_type": "markdown",
      "metadata": {
        "id": "zP0nXko8NHys"
      },
      "source": [
        "### Generate a grouped bar chart showing the number of admissions by SOP score, with separate bars for admitted and not admitted."
      ]
    },
    {
      "cell_type": "code",
      "metadata": {
        "id": "wFd6jwD0NHys",
        "outputId": "e445605a-02be-498e-f62d-241f2f74a285",
        "colab": {
          "base_uri": "https://localhost:8080/",
          "height": 281
        }
      },
      "source": [
        "sop = data['SOP'].unique()\n",
        "sop.sort()\n",
        "admitted = []\n",
        "not_adm = []\n",
        "\n",
        "for x in sop:\n",
        "  admitted.append(len(data[(data['SOP'] == x) & (data['Admitted'] == 1)]))\n",
        "  not_adm.append(len(data[(data['SOP'] == x) & (data['Admitted'] == 0)]))\n",
        "\n",
        "N = len(sop)\n",
        "ind = np.arange(N)\n",
        "width = 0.35\n",
        "fig = plt.figure()\n",
        "ax = fig.add_subplot(111)\n",
        "\n",
        "rect1 = ax.bar(ind,admitted,width,label='Admitted')\n",
        "rect2 = ax.bar(ind+width,not_adm,width,label='Not Admitted')\n",
        "\n",
        "ax.set_ylabel('Number of')\n",
        "ax.set_title('Admitted vs. Not Admitted for SOP score')\n",
        "ax.set_xticks(ind + width / 2)\n",
        "ax.set_xticklabels(sop)\n",
        "\n",
        "ax.legend( (rects1[0], rects2[0]), ('Admitted', 'Not Admitted') )\n",
        "\n",
        "plt.show()\n",
        "\n"
      ],
      "execution_count": 41,
      "outputs": [
        {
          "output_type": "display_data",
          "data": {
            "image/png": "[encoded data removed]",
            "text/plain": [
              "<Figure size 432x288 with 1 Axes>"
            ]
          },
          "metadata": {
            "tags": [],
            "needs_background": "light"
          }
        }
      ]
    },
    {
      "cell_type": "markdown",
      "metadata": {
        "id": "rNSpalR0NHyv"
      },
      "source": [
        "### Generate a grouped bar chart showing the number of admissions by LOR score, with separate bars for admitted and not admitted."
      ]
    },
    {
      "cell_type": "code",
      "metadata": {
        "id": "LXYPYdFLNHyv",
        "outputId": "88509bef-429a-42f7-bf90-891ca500f537",
        "colab": {
          "base_uri": "https://localhost:8080/",
          "height": 281
        }
      },
      "source": [
        "lor = data['LOR'].unique()\n",
        "lor.sort()\n",
        "admitted = []\n",
        "not_adm = []\n",
        "\n",
        "for x in lor:\n",
        "  admitted.append(len(data[(data['LOR'] == x) & (data['Admitted'] == 1)]))\n",
        "  not_adm.append(len(data[(data['LOR'] == x) & (data['Admitted'] == 0)]))\n",
        "\n",
        "N = len(lor)\n",
        "ind = np.arange(N)\n",
        "width = 0.35\n",
        "fig = plt.figure()\n",
        "ax = fig.add_subplot(111)\n",
        "\n",
        "rect1 = ax.bar(ind,admitted,width,label='Admitted')\n",
        "rect2 = ax.bar(ind+width,not_adm,width,label='Not Admitted')\n",
        "\n",
        "ax.set_ylabel('Number of')\n",
        "ax.set_title('Admitted vs. Not Admitted for LOR score')\n",
        "ax.set_xticks(ind + width / 2)\n",
        "ax.set_xticklabels(sop)\n",
        "\n",
        "ax.legend( (rects1[0], rects2[0]), ('Admitted', 'Not Admitted') )\n",
        "\n",
        "plt.show()\n",
        "\n"
      ],
      "execution_count": 43,
      "outputs": [
        {
          "output_type": "display_data",
          "data": {
            "image/png": "[encoded data removed]",
            "text/plain": [
              "<Figure size 432x288 with 1 Axes>"
            ]
          },
          "metadata": {
            "tags": [],
            "needs_background": "light"
          }
        }
      ]
    },
    {
      "cell_type": "markdown",
      "metadata": {
        "id": "8_Z5sqWwNHyx"
      },
      "source": [
        "### Generate a scatter plot where the axes are GRE and TOEFL fields and the data points are color-coded by whether the student was admitted.\n",
        "\n",
        "Think about how you might go about determining the decision boundary to separate admitted from non-admitted students."
      ]
    },
    {
      "cell_type": "code",
      "metadata": {
        "id": "B9wQfCkgNHyy",
        "outputId": "56486956-2e75-4d09-f90d-6978a7590488",
        "colab": {
          "base_uri": "https://localhost:8080/",
          "height": 312
        }
      },
      "source": [
        "sns.scatterplot(x='GRE', y='TOEFL',data=data,hue='Admitted')\n",
        "plt.title('GRE vs. TOEFL Admissions')"
      ],
      "execution_count": 46,
      "outputs": [
        {
          "output_type": "execute_result",
          "data": {
            "text/plain": [
              "Text(0.5, 1.0, 'GRE vs. TOEFL Admissions')"
            ]
          },
          "metadata": {
            "tags": []
          },
          "execution_count": 46
        },
        {
          "output_type": "display_data",
          "data": {
            "image/png": "[encoded data removed]",
            "text/plain": [
              "<Figure size 432x288 with 1 Axes>"
            ]
          },
          "metadata": {
            "tags": [],
            "needs_background": "light"
          }
        }
      ]
    },
    {
      "cell_type": "markdown",
      "metadata": {
        "id": "isAcJAkpNHy2"
      },
      "source": [
        "### Generate a scatter plot where the axes are GPA and TOEFL fields and the data points are color-coded by whether the student was admitted.\n",
        "\n",
        "Think about how you might go about determining the decision boundary to separate admitted from non-admitted students."
      ]
    },
    {
      "cell_type": "code",
      "metadata": {
        "id": "sZRB7oSKNHy2",
        "outputId": "3a692de8-260f-413d-efb8-9f6f94130fc9",
        "colab": {
          "base_uri": "https://localhost:8080/",
          "height": 312
        }
      },
      "source": [
        "sns.scatterplot(x='GPA', y='TOEFL',data=data,hue='Admitted')\n",
        "plt.title('GPA vs. TOEFL Admissions')"
      ],
      "execution_count": 47,
      "outputs": [
        {
          "output_type": "execute_result",
          "data": {
            "text/plain": [
              "Text(0.5, 1.0, 'GPA vs. TOEFL Admissions')"
            ]
          },
          "metadata": {
            "tags": []
          },
          "execution_count": 47
        },
        {
          "output_type": "display_data",
          "data": {
            "image/png": "[encoded data removed]",
            "text/plain": [
              "<Figure size 432x288 with 1 Axes>"
            ]
          },
          "metadata": {
            "tags": [],
            "needs_background": "light"
          }
        }
      ]
    },
    {
      "cell_type": "markdown",
      "metadata": {
        "id": "VMeb2uIiNHy4"
      },
      "source": [
        "### Generate a scatter plot where the axes are GRE and GPA fields and the data points are color-coded by whether the student was admitted.\n",
        "\n",
        "Think about how you might go about determining the decision boundary to separate admitted from non-admitted students."
      ]
    },
    {
      "cell_type": "code",
      "metadata": {
        "id": "b6ZhHk8KNHy5",
        "outputId": "ba1845cc-b461-4a6a-c8ca-3ce93686c308",
        "colab": {
          "base_uri": "https://localhost:8080/",
          "height": 312
        }
      },
      "source": [
        "sns.scatterplot(x='GRE', y='GPA',data=data,hue='Admitted')\n",
        "plt.title('GRE vs. GPA Admissions')"
      ],
      "execution_count": 48,
      "outputs": [
        {
          "output_type": "execute_result",
          "data": {
            "text/plain": [
              "Text(0.5, 1.0, 'GRE vs. GPA Admissions')"
            ]
          },
          "metadata": {
            "tags": []
          },
          "execution_count": 48
        },
        {
          "output_type": "display_data",
          "data": {
            "image/png": "[encoded data removed]",
            "text/plain": [
              "<Figure size 432x288 with 1 Axes>"
            ]
          },
          "metadata": {
            "tags": [],
            "needs_background": "light"
          }
        }
      ]
    },
    {
      "cell_type": "markdown",
      "metadata": {
        "id": "Qq_rf_7DNHy8"
      },
      "source": [
        "## Model Training and Evaluation\n",
        "\n",
        "Now that we have gained a sense of familiarity with our data, let's train a model to predict admissions."
      ]
    },
    {
      "cell_type": "markdown",
      "metadata": {
        "id": "-H-fgAcvovQg"
      },
      "source": [
        "### Split the data into a training and test sets, where the test set contains 20% of the data."
      ]
    },
    {
      "cell_type": "code",
      "metadata": {
        "id": "Fjauxq1WovQg"
      },
      "source": [
        "from sklearn.model_selection import train_test_split\n",
        "y = data['Admitted']\n",
        "X = data.drop('Admitted',axis=1)\n",
        "X_train,X_test,y_train,y_test=train_test_split(X,y,test_size = 0.2)"
      ],
      "execution_count": 49,
      "outputs": []
    },
    {
      "cell_type": "markdown",
      "metadata": {
        "id": "Dqv8gMI-ovQi"
      },
      "source": [
        "### Use the linear kernel to train a Support Vector Classifier (SVC) model on the training data. Report the scores for both the training and test data."
      ]
    },
    {
      "cell_type": "code",
      "metadata": {
        "id": "Fw3loKixovQi",
        "outputId": "f320d009-d417-410d-df5a-453786204997",
        "colab": {
          "base_uri": "https://localhost:8080/",
          "height": 51
        }
      },
      "source": [
        "from sklearn.svm import SVC\n",
        "svc = SVC(kernel='linear').fit(X_train, y_train)\n",
        "print('Training score: ', svc.score(X_train,y_train))\n",
        "print('Testing score: ', svc.score(X_test,y_test))"
      ],
      "execution_count": 53,
      "outputs": [
        {
          "output_type": "stream",
          "text": [
            "Training score:  0.875\n",
            "Testing score:  0.875\n"
          ],
          "name": "stdout"
        }
      ]
    },
    {
      "cell_type": "markdown",
      "metadata": {
        "id": "bfwaWwwRNHzC"
      },
      "source": [
        "### Generate a classification report for the SVC model you trained.\n",
        "\n",
        "How do the evaluation metrics differ across classes?"
      ]
    },
    {
      "cell_type": "code",
      "metadata": {
        "id": "tQwTuoggNHzD",
        "outputId": "0cc3b9a5-de44-47bc-e0d9-bbead5009b9e",
        "colab": {
          "base_uri": "https://localhost:8080/",
          "height": 170
        }
      },
      "source": [
        "from sklearn.metrics import classification_report\n",
        "print(classification_report(y_train,svc.predict(X_train)))\n",
        "#Training data"
      ],
      "execution_count": 54,
      "outputs": [
        {
          "output_type": "stream",
          "text": [
            "              precision    recall  f1-score   support\n",
            "\n",
            "           0       0.84      0.85      0.84       126\n",
            "           1       0.90      0.89      0.90       194\n",
            "\n",
            "    accuracy                           0.88       320\n",
            "   macro avg       0.87      0.87      0.87       320\n",
            "weighted avg       0.88      0.88      0.88       320\n",
            "\n"
          ],
          "name": "stdout"
        }
      ]
    },
    {
      "cell_type": "code",
      "metadata": {
        "id": "821YjyvIa841",
        "outputId": "e44510eb-6692-4da5-9919-672566b6015b",
        "colab": {
          "base_uri": "https://localhost:8080/",
          "height": 170
        }
      },
      "source": [
        "print(classification_report(y_test,svc.predict(X_test)))\n",
        "#Testing data"
      ],
      "execution_count": 55,
      "outputs": [
        {
          "output_type": "stream",
          "text": [
            "              precision    recall  f1-score   support\n",
            "\n",
            "           0       0.79      0.85      0.82        27\n",
            "           1       0.92      0.89      0.90        53\n",
            "\n",
            "    accuracy                           0.88        80\n",
            "   macro avg       0.86      0.87      0.86        80\n",
            "weighted avg       0.88      0.88      0.88        80\n",
            "\n"
          ],
          "name": "stdout"
        }
      ]
    }
  ]
}