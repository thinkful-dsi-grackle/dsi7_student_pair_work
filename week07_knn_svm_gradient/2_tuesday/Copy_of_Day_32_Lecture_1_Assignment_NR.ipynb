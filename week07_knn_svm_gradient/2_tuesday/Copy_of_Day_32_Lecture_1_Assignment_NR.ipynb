{
  "nbformat": 4,
  "nbformat_minor": 0,
  "metadata": {
    "kernelspec": {
      "display_name": "Python 3",
      "language": "python",
      "name": "python3"
    },
    "language_info": {
      "codemirror_mode": {
        "name": "ipython",
        "version": 3
      },
      "file_extension": ".py",
      "mimetype": "text/x-python",
      "name": "python",
      "nbconvert_exporter": "python",
      "pygments_lexer": "ipython3",
      "version": "3.7.0"
    },
    "colab": {
      "name": "Copy of Day 32 Lecture 1 Assignment NR",
      "provenance": [],
      "collapsed_sections": []
    }
  },
  "cells": [
    {
      "cell_type": "markdown",
      "metadata": {
        "id": "mI6XEVkcoufQ"
      },
      "source": [
        "## Day 32 Lecture 1 Assignment\n",
        "\n",
        "In this assignment, we will learn about K nearest neighbor regression. We will use the absenteeism at work dataset loaded below and analyze the model generated for this dataset."
      ]
    },
    {
      "cell_type": "markdown",
      "metadata": {
        "id": "FxiwyxhJHY2t"
      },
      "source": [
        "The meaning of the different columns can be found here: https://www.kaggle.com/tonypriyanka2913/employee-absenteeism"
      ]
    },
    {
      "cell_type": "code",
      "metadata": {
        "id": "NEy0xeBdoufR"
      },
      "source": [
        "%matplotlib inline\n",
        "\n",
        "import math\n",
        "\n",
        "import matplotlib.pyplot as plt\n",
        "import numpy as np\n",
        "import pandas as pd\n",
        "import seaborn as sns"
      ],
      "execution_count": 27,
      "outputs": []
    },
    {
      "cell_type": "code",
      "metadata": {
        "id": "YGxZV9tgoufT"
      },
      "source": [
        "absent = pd.read_csv('https://tf-assets-prod.s3.amazonaws.com/tf-curric/data-science/Absenteeism_at_work.csv', sep=';')"
      ],
      "execution_count": 28,
      "outputs": []
    },
    {
      "cell_type": "code",
      "metadata": {
        "id": "S1lhtGI0HdSx",
        "outputId": "a1f0af1c-9022-4101-b665-04fd34497586",
        "colab": {
          "base_uri": "https://localhost:8080/",
          "height": 34
        }
      },
      "source": [
        "absent.shape"
      ],
      "execution_count": 29,
      "outputs": [
        {
          "output_type": "execute_result",
          "data": {
            "text/plain": [
              "(740, 21)"
            ]
          },
          "metadata": {
            "tags": []
          },
          "execution_count": 29
        }
      ]
    },
    {
      "cell_type": "code",
      "metadata": {
        "id": "gvv44ci7L2pK",
        "outputId": "cf69a1da-ceca-4319-f817-bef6edce4d78",
        "colab": {
          "base_uri": "https://localhost:8080/",
          "height": 493
        }
      },
      "source": [
        "absent.info()"
      ],
      "execution_count": 30,
      "outputs": [
        {
          "output_type": "stream",
          "text": [
            "<class 'pandas.core.frame.DataFrame'>\n",
            "RangeIndex: 740 entries, 0 to 739\n",
            "Data columns (total 21 columns):\n",
            " #   Column                           Non-Null Count  Dtype  \n",
            "---  ------                           --------------  -----  \n",
            " 0   ID                               740 non-null    int64  \n",
            " 1   Reason for absence               740 non-null    int64  \n",
            " 2   Month of absence                 740 non-null    int64  \n",
            " 3   Day of the week                  740 non-null    int64  \n",
            " 4   Seasons                          740 non-null    int64  \n",
            " 5   Transportation expense           740 non-null    int64  \n",
            " 6   Distance from Residence to Work  740 non-null    int64  \n",
            " 7   Service time                     740 non-null    int64  \n",
            " 8   Age                              740 non-null    int64  \n",
            " 9   Work load Average/day            740 non-null    float64\n",
            " 10  Hit target                       740 non-null    int64  \n",
            " 11  Disciplinary failure             740 non-null    int64  \n",
            " 12  Education                        740 non-null    int64  \n",
            " 13  Son                              740 non-null    int64  \n",
            " 14  Social drinker                   740 non-null    int64  \n",
            " 15  Social smoker                    740 non-null    int64  \n",
            " 16  Pet                              740 non-null    int64  \n",
            " 17  Weight                           740 non-null    int64  \n",
            " 18  Height                           740 non-null    int64  \n",
            " 19  Body mass index                  740 non-null    int64  \n",
            " 20  Absenteeism time in hours        740 non-null    int64  \n",
            "dtypes: float64(1), int64(20)\n",
            "memory usage: 121.5 KB\n"
          ],
          "name": "stdout"
        }
      ]
    },
    {
      "cell_type": "code",
      "metadata": {
        "id": "Akfyq45foufV",
        "outputId": "0b0d4583-2bbf-4206-965a-1787608dc686"
      },
      "source": [
        "absent.head()"
      ],
      "execution_count": null,
      "outputs": [
        {
          "output_type": "execute_result",
          "data": {
            "text/html": [
              "<div>\n",
              "<style scoped>\n",
              "    .dataframe tbody tr th:only-of-type {\n",
              "        vertical-align: middle;\n",
              "    }\n",
              "\n",
              "    .dataframe tbody tr th {\n",
              "        vertical-align: top;\n",
              "    }\n",
              "\n",
              "    .dataframe thead th {\n",
              "        text-align: right;\n",
              "    }\n",
              "</style>\n",
              "<table border=\"1\" class=\"dataframe\">\n",
              "  <thead>\n",
              "    <tr style=\"text-align: right;\">\n",
              "      <th></th>\n",
              "      <th>ID</th>\n",
              "      <th>Reason for absence</th>\n",
              "      <th>Month of absence</th>\n",
              "      <th>Day of the week</th>\n",
              "      <th>Seasons</th>\n",
              "      <th>Transportation expense</th>\n",
              "      <th>Distance from Residence to Work</th>\n",
              "      <th>Service time</th>\n",
              "      <th>Age</th>\n",
              "      <th>Work load Average/day</th>\n",
              "      <th>...</th>\n",
              "      <th>Disciplinary failure</th>\n",
              "      <th>Education</th>\n",
              "      <th>Son</th>\n",
              "      <th>Social drinker</th>\n",
              "      <th>Social smoker</th>\n",
              "      <th>Pet</th>\n",
              "      <th>Weight</th>\n",
              "      <th>Height</th>\n",
              "      <th>Body mass index</th>\n",
              "      <th>Absenteeism time in hours</th>\n",
              "    </tr>\n",
              "  </thead>\n",
              "  <tbody>\n",
              "    <tr>\n",
              "      <th>0</th>\n",
              "      <td>11</td>\n",
              "      <td>26</td>\n",
              "      <td>7</td>\n",
              "      <td>3</td>\n",
              "      <td>1</td>\n",
              "      <td>289</td>\n",
              "      <td>36</td>\n",
              "      <td>13</td>\n",
              "      <td>33</td>\n",
              "      <td>239.554</td>\n",
              "      <td>...</td>\n",
              "      <td>0</td>\n",
              "      <td>1</td>\n",
              "      <td>2</td>\n",
              "      <td>1</td>\n",
              "      <td>0</td>\n",
              "      <td>1</td>\n",
              "      <td>90</td>\n",
              "      <td>172</td>\n",
              "      <td>30</td>\n",
              "      <td>4</td>\n",
              "    </tr>\n",
              "    <tr>\n",
              "      <th>1</th>\n",
              "      <td>36</td>\n",
              "      <td>0</td>\n",
              "      <td>7</td>\n",
              "      <td>3</td>\n",
              "      <td>1</td>\n",
              "      <td>118</td>\n",
              "      <td>13</td>\n",
              "      <td>18</td>\n",
              "      <td>50</td>\n",
              "      <td>239.554</td>\n",
              "      <td>...</td>\n",
              "      <td>1</td>\n",
              "      <td>1</td>\n",
              "      <td>1</td>\n",
              "      <td>1</td>\n",
              "      <td>0</td>\n",
              "      <td>0</td>\n",
              "      <td>98</td>\n",
              "      <td>178</td>\n",
              "      <td>31</td>\n",
              "      <td>0</td>\n",
              "    </tr>\n",
              "    <tr>\n",
              "      <th>2</th>\n",
              "      <td>3</td>\n",
              "      <td>23</td>\n",
              "      <td>7</td>\n",
              "      <td>4</td>\n",
              "      <td>1</td>\n",
              "      <td>179</td>\n",
              "      <td>51</td>\n",
              "      <td>18</td>\n",
              "      <td>38</td>\n",
              "      <td>239.554</td>\n",
              "      <td>...</td>\n",
              "      <td>0</td>\n",
              "      <td>1</td>\n",
              "      <td>0</td>\n",
              "      <td>1</td>\n",
              "      <td>0</td>\n",
              "      <td>0</td>\n",
              "      <td>89</td>\n",
              "      <td>170</td>\n",
              "      <td>31</td>\n",
              "      <td>2</td>\n",
              "    </tr>\n",
              "    <tr>\n",
              "      <th>3</th>\n",
              "      <td>7</td>\n",
              "      <td>7</td>\n",
              "      <td>7</td>\n",
              "      <td>5</td>\n",
              "      <td>1</td>\n",
              "      <td>279</td>\n",
              "      <td>5</td>\n",
              "      <td>14</td>\n",
              "      <td>39</td>\n",
              "      <td>239.554</td>\n",
              "      <td>...</td>\n",
              "      <td>0</td>\n",
              "      <td>1</td>\n",
              "      <td>2</td>\n",
              "      <td>1</td>\n",
              "      <td>1</td>\n",
              "      <td>0</td>\n",
              "      <td>68</td>\n",
              "      <td>168</td>\n",
              "      <td>24</td>\n",
              "      <td>4</td>\n",
              "    </tr>\n",
              "    <tr>\n",
              "      <th>4</th>\n",
              "      <td>11</td>\n",
              "      <td>23</td>\n",
              "      <td>7</td>\n",
              "      <td>5</td>\n",
              "      <td>1</td>\n",
              "      <td>289</td>\n",
              "      <td>36</td>\n",
              "      <td>13</td>\n",
              "      <td>33</td>\n",
              "      <td>239.554</td>\n",
              "      <td>...</td>\n",
              "      <td>0</td>\n",
              "      <td>1</td>\n",
              "      <td>2</td>\n",
              "      <td>1</td>\n",
              "      <td>0</td>\n",
              "      <td>1</td>\n",
              "      <td>90</td>\n",
              "      <td>172</td>\n",
              "      <td>30</td>\n",
              "      <td>2</td>\n",
              "    </tr>\n",
              "  </tbody>\n",
              "</table>\n",
              "<p>5 rows × 21 columns</p>\n",
              "</div>"
            ],
            "text/plain": [
              "   ID  Reason for absence  Month of absence  Day of the week  Seasons  \\\n",
              "0  11                  26                 7                3        1   \n",
              "1  36                   0                 7                3        1   \n",
              "2   3                  23                 7                4        1   \n",
              "3   7                   7                 7                5        1   \n",
              "4  11                  23                 7                5        1   \n",
              "\n",
              "   Transportation expense  Distance from Residence to Work  Service time  Age  \\\n",
              "0                     289                               36            13   33   \n",
              "1                     118                               13            18   50   \n",
              "2                     179                               51            18   38   \n",
              "3                     279                                5            14   39   \n",
              "4                     289                               36            13   33   \n",
              "\n",
              "   Work load Average/day             ...              Disciplinary failure  \\\n",
              "0                 239.554            ...                                 0   \n",
              "1                 239.554            ...                                 1   \n",
              "2                 239.554            ...                                 0   \n",
              "3                 239.554            ...                                 0   \n",
              "4                 239.554            ...                                 0   \n",
              "\n",
              "   Education  Son  Social drinker  Social smoker  Pet  Weight  Height  \\\n",
              "0          1    2               1              0    1      90     172   \n",
              "1          1    1               1              0    0      98     178   \n",
              "2          1    0               1              0    0      89     170   \n",
              "3          1    2               1              1    0      68     168   \n",
              "4          1    2               1              0    1      90     172   \n",
              "\n",
              "   Body mass index  Absenteeism time in hours  \n",
              "0               30                          4  \n",
              "1               31                          0  \n",
              "2               31                          2  \n",
              "3               24                          4  \n",
              "4               30                          2  \n",
              "\n",
              "[5 rows x 21 columns]"
            ]
          },
          "metadata": {
            "tags": []
          },
          "execution_count": 5
        }
      ]
    },
    {
      "cell_type": "code",
      "metadata": {
        "id": "anZposL2Ld0X",
        "outputId": "b79dcb72-fd17-405d-d457-0174ea6cb877",
        "colab": {
          "base_uri": "https://localhost:8080/",
          "height": 136
        }
      },
      "source": [
        "absent.columns"
      ],
      "execution_count": 5,
      "outputs": [
        {
          "output_type": "execute_result",
          "data": {
            "text/plain": [
              "Index(['ID', 'Reason for absence', 'Month of absence', 'Day of the week',\n",
              "       'Seasons', 'Transportation expense', 'Distance from Residence to Work',\n",
              "       'Service time', 'Age', 'Work load Average/day ', 'Hit target',\n",
              "       'Disciplinary failure', 'Education', 'Son', 'Social drinker',\n",
              "       'Social smoker', 'Pet', 'Weight', 'Height', 'Body mass index',\n",
              "       'Absenteeism time in hours'],\n",
              "      dtype='object')"
            ]
          },
          "metadata": {
            "tags": []
          },
          "execution_count": 5
        }
      ]
    },
    {
      "cell_type": "markdown",
      "metadata": {
        "id": "jGLnxKy7oufX"
      },
      "source": [
        "Find which variables have the highest pairwise correlation and remove them from our dataset. Additionally, try to think of which variables are correlated by looking at the column names and remove those columns as well.\n",
        "\n",
        "Note: When choosing between two categorical variables that are correlated, you often want to keep the one with fewer unique values. Why might that be? (Think about the cons of KNN.)"
      ]
    },
    {
      "cell_type": "code",
      "metadata": {
        "id": "NZ2zy083oufX",
        "outputId": "8e3aeba5-92fa-4dc6-cd3a-b47d892a3126",
        "colab": {
          "base_uri": "https://localhost:8080/",
          "height": 941
        }
      },
      "source": [
        "# answer below:\n",
        "\n",
        "absent.corr()"
      ],
      "execution_count": 12,
      "outputs": [
        {
          "output_type": "execute_result",
          "data": {
            "text/html": [
              "<div>\n",
              "<style scoped>\n",
              "    .dataframe tbody tr th:only-of-type {\n",
              "        vertical-align: middle;\n",
              "    }\n",
              "\n",
              "    .dataframe tbody tr th {\n",
              "        vertical-align: top;\n",
              "    }\n",
              "\n",
              "    .dataframe thead th {\n",
              "        text-align: right;\n",
              "    }\n",
              "</style>\n",
              "<table border=\"1\" class=\"dataframe\">\n",
              "  <thead>\n",
              "    <tr style=\"text-align: right;\">\n",
              "      <th></th>\n",
              "      <th>ID</th>\n",
              "      <th>Reason for absence</th>\n",
              "      <th>Month of absence</th>\n",
              "      <th>Day of the week</th>\n",
              "      <th>Seasons</th>\n",
              "      <th>Transportation expense</th>\n",
              "      <th>Distance from Residence to Work</th>\n",
              "      <th>Service time</th>\n",
              "      <th>Age</th>\n",
              "      <th>Work load Average/day</th>\n",
              "      <th>Hit target</th>\n",
              "      <th>Disciplinary failure</th>\n",
              "      <th>Education</th>\n",
              "      <th>Son</th>\n",
              "      <th>Social drinker</th>\n",
              "      <th>Social smoker</th>\n",
              "      <th>Pet</th>\n",
              "      <th>Weight</th>\n",
              "      <th>Height</th>\n",
              "      <th>Body mass index</th>\n",
              "      <th>Absenteeism time in hours</th>\n",
              "    </tr>\n",
              "  </thead>\n",
              "  <tbody>\n",
              "    <tr>\n",
              "      <th>ID</th>\n",
              "      <td>1.000000</td>\n",
              "      <td>-0.064245</td>\n",
              "      <td>-0.000043</td>\n",
              "      <td>0.034468</td>\n",
              "      <td>0.098495</td>\n",
              "      <td>-0.224163</td>\n",
              "      <td>-0.486160</td>\n",
              "      <td>-0.272704</td>\n",
              "      <td>0.040899</td>\n",
              "      <td>0.092457</td>\n",
              "      <td>0.018789</td>\n",
              "      <td>0.004502</td>\n",
              "      <td>-0.036254</td>\n",
              "      <td>0.002767</td>\n",
              "      <td>-0.451338</td>\n",
              "      <td>-0.010826</td>\n",
              "      <td>-0.041418</td>\n",
              "      <td>-0.254222</td>\n",
              "      <td>0.076363</td>\n",
              "      <td>-0.306924</td>\n",
              "      <td>-0.017997</td>\n",
              "    </tr>\n",
              "    <tr>\n",
              "      <th>Reason for absence</th>\n",
              "      <td>-0.064245</td>\n",
              "      <td>1.000000</td>\n",
              "      <td>-0.083858</td>\n",
              "      <td>0.116319</td>\n",
              "      <td>-0.117925</td>\n",
              "      <td>-0.119381</td>\n",
              "      <td>0.161831</td>\n",
              "      <td>0.048425</td>\n",
              "      <td>-0.078608</td>\n",
              "      <td>-0.123472</td>\n",
              "      <td>0.088943</td>\n",
              "      <td>-0.545054</td>\n",
              "      <td>-0.047357</td>\n",
              "      <td>-0.055364</td>\n",
              "      <td>0.065441</td>\n",
              "      <td>-0.115702</td>\n",
              "      <td>-0.055911</td>\n",
              "      <td>-0.000269</td>\n",
              "      <td>-0.079267</td>\n",
              "      <td>0.037205</td>\n",
              "      <td>-0.173116</td>\n",
              "    </tr>\n",
              "    <tr>\n",
              "      <th>Month of absence</th>\n",
              "      <td>-0.000043</td>\n",
              "      <td>-0.083858</td>\n",
              "      <td>1.000000</td>\n",
              "      <td>-0.006528</td>\n",
              "      <td>0.407770</td>\n",
              "      <td>0.137525</td>\n",
              "      <td>-0.003887</td>\n",
              "      <td>-0.062862</td>\n",
              "      <td>-0.001520</td>\n",
              "      <td>-0.169989</td>\n",
              "      <td>-0.460453</td>\n",
              "      <td>0.107946</td>\n",
              "      <td>-0.066128</td>\n",
              "      <td>0.079031</td>\n",
              "      <td>0.056226</td>\n",
              "      <td>-0.038603</td>\n",
              "      <td>0.047787</td>\n",
              "      <td>0.023278</td>\n",
              "      <td>-0.068942</td>\n",
              "      <td>0.051046</td>\n",
              "      <td>0.024345</td>\n",
              "    </tr>\n",
              "    <tr>\n",
              "      <th>Day of the week</th>\n",
              "      <td>0.034468</td>\n",
              "      <td>0.116319</td>\n",
              "      <td>-0.006528</td>\n",
              "      <td>1.000000</td>\n",
              "      <td>0.046493</td>\n",
              "      <td>0.033988</td>\n",
              "      <td>0.118026</td>\n",
              "      <td>0.021252</td>\n",
              "      <td>0.004459</td>\n",
              "      <td>0.015646</td>\n",
              "      <td>0.030986</td>\n",
              "      <td>-0.015120</td>\n",
              "      <td>0.058516</td>\n",
              "      <td>0.098079</td>\n",
              "      <td>0.041772</td>\n",
              "      <td>0.013156</td>\n",
              "      <td>-0.028885</td>\n",
              "      <td>-0.128980</td>\n",
              "      <td>-0.082133</td>\n",
              "      <td>-0.103578</td>\n",
              "      <td>-0.124361</td>\n",
              "    </tr>\n",
              "    <tr>\n",
              "      <th>Seasons</th>\n",
              "      <td>0.098495</td>\n",
              "      <td>-0.117925</td>\n",
              "      <td>0.407770</td>\n",
              "      <td>0.046493</td>\n",
              "      <td>1.000000</td>\n",
              "      <td>0.036995</td>\n",
              "      <td>-0.063108</td>\n",
              "      <td>-0.010904</td>\n",
              "      <td>-0.012089</td>\n",
              "      <td>0.150439</td>\n",
              "      <td>-0.061154</td>\n",
              "      <td>0.151766</td>\n",
              "      <td>-0.002951</td>\n",
              "      <td>0.046950</td>\n",
              "      <td>-0.045982</td>\n",
              "      <td>-0.048671</td>\n",
              "      <td>0.012356</td>\n",
              "      <td>-0.026278</td>\n",
              "      <td>-0.033737</td>\n",
              "      <td>-0.011031</td>\n",
              "      <td>-0.005615</td>\n",
              "    </tr>\n",
              "    <tr>\n",
              "      <th>Transportation expense</th>\n",
              "      <td>-0.224163</td>\n",
              "      <td>-0.119381</td>\n",
              "      <td>0.137525</td>\n",
              "      <td>0.033988</td>\n",
              "      <td>0.036995</td>\n",
              "      <td>1.000000</td>\n",
              "      <td>0.262183</td>\n",
              "      <td>-0.349887</td>\n",
              "      <td>-0.227542</td>\n",
              "      <td>0.005438</td>\n",
              "      <td>-0.080193</td>\n",
              "      <td>0.109222</td>\n",
              "      <td>-0.055065</td>\n",
              "      <td>0.383001</td>\n",
              "      <td>0.145117</td>\n",
              "      <td>0.044356</td>\n",
              "      <td>0.400080</td>\n",
              "      <td>-0.207435</td>\n",
              "      <td>-0.194496</td>\n",
              "      <td>-0.136517</td>\n",
              "      <td>0.027585</td>\n",
              "    </tr>\n",
              "    <tr>\n",
              "      <th>Distance from Residence to Work</th>\n",
              "      <td>-0.486160</td>\n",
              "      <td>0.161831</td>\n",
              "      <td>-0.003887</td>\n",
              "      <td>0.118026</td>\n",
              "      <td>-0.063108</td>\n",
              "      <td>0.262183</td>\n",
              "      <td>1.000000</td>\n",
              "      <td>0.131730</td>\n",
              "      <td>-0.145886</td>\n",
              "      <td>-0.068677</td>\n",
              "      <td>-0.013865</td>\n",
              "      <td>-0.056527</td>\n",
              "      <td>-0.259605</td>\n",
              "      <td>0.054230</td>\n",
              "      <td>0.452196</td>\n",
              "      <td>-0.075369</td>\n",
              "      <td>0.205941</td>\n",
              "      <td>-0.047859</td>\n",
              "      <td>-0.353372</td>\n",
              "      <td>0.113772</td>\n",
              "      <td>-0.088363</td>\n",
              "    </tr>\n",
              "    <tr>\n",
              "      <th>Service time</th>\n",
              "      <td>-0.272704</td>\n",
              "      <td>0.048425</td>\n",
              "      <td>-0.062862</td>\n",
              "      <td>0.021252</td>\n",
              "      <td>-0.010904</td>\n",
              "      <td>-0.349887</td>\n",
              "      <td>0.131730</td>\n",
              "      <td>1.000000</td>\n",
              "      <td>0.670979</td>\n",
              "      <td>-0.000668</td>\n",
              "      <td>-0.007840</td>\n",
              "      <td>-0.000221</td>\n",
              "      <td>-0.213000</td>\n",
              "      <td>-0.047128</td>\n",
              "      <td>0.353141</td>\n",
              "      <td>0.072424</td>\n",
              "      <td>-0.440301</td>\n",
              "      <td>0.455975</td>\n",
              "      <td>-0.053135</td>\n",
              "      <td>0.499718</td>\n",
              "      <td>0.019029</td>\n",
              "    </tr>\n",
              "    <tr>\n",
              "      <th>Age</th>\n",
              "      <td>0.040899</td>\n",
              "      <td>-0.078608</td>\n",
              "      <td>-0.001520</td>\n",
              "      <td>0.004459</td>\n",
              "      <td>-0.012089</td>\n",
              "      <td>-0.227542</td>\n",
              "      <td>-0.145886</td>\n",
              "      <td>0.670979</td>\n",
              "      <td>1.000000</td>\n",
              "      <td>-0.039425</td>\n",
              "      <td>-0.039224</td>\n",
              "      <td>0.104304</td>\n",
              "      <td>-0.221882</td>\n",
              "      <td>0.056984</td>\n",
              "      <td>0.213183</td>\n",
              "      <td>0.121738</td>\n",
              "      <td>-0.231226</td>\n",
              "      <td>0.418730</td>\n",
              "      <td>-0.062997</td>\n",
              "      <td>0.470688</td>\n",
              "      <td>0.065760</td>\n",
              "    </tr>\n",
              "    <tr>\n",
              "      <th>Work load Average/day</th>\n",
              "      <td>0.092457</td>\n",
              "      <td>-0.123472</td>\n",
              "      <td>-0.169989</td>\n",
              "      <td>0.015646</td>\n",
              "      <td>0.150439</td>\n",
              "      <td>0.005438</td>\n",
              "      <td>-0.068677</td>\n",
              "      <td>-0.000668</td>\n",
              "      <td>-0.039425</td>\n",
              "      <td>1.000000</td>\n",
              "      <td>-0.089445</td>\n",
              "      <td>0.029026</td>\n",
              "      <td>-0.074960</td>\n",
              "      <td>0.027820</td>\n",
              "      <td>-0.033713</td>\n",
              "      <td>0.030968</td>\n",
              "      <td>0.007114</td>\n",
              "      <td>-0.038522</td>\n",
              "      <td>0.103315</td>\n",
              "      <td>-0.090709</td>\n",
              "      <td>0.024749</td>\n",
              "    </tr>\n",
              "    <tr>\n",
              "      <th>Hit target</th>\n",
              "      <td>0.018789</td>\n",
              "      <td>0.088943</td>\n",
              "      <td>-0.460453</td>\n",
              "      <td>0.030986</td>\n",
              "      <td>-0.061154</td>\n",
              "      <td>-0.080193</td>\n",
              "      <td>-0.013865</td>\n",
              "      <td>-0.007840</td>\n",
              "      <td>-0.039224</td>\n",
              "      <td>-0.089445</td>\n",
              "      <td>1.000000</td>\n",
              "      <td>-0.147971</td>\n",
              "      <td>0.101062</td>\n",
              "      <td>-0.014091</td>\n",
              "      <td>-0.102480</td>\n",
              "      <td>0.051254</td>\n",
              "      <td>0.007201</td>\n",
              "      <td>-0.044947</td>\n",
              "      <td>0.093267</td>\n",
              "      <td>-0.088939</td>\n",
              "      <td>0.026695</td>\n",
              "    </tr>\n",
              "    <tr>\n",
              "      <th>Disciplinary failure</th>\n",
              "      <td>0.004502</td>\n",
              "      <td>-0.545054</td>\n",
              "      <td>0.107946</td>\n",
              "      <td>-0.015120</td>\n",
              "      <td>0.151766</td>\n",
              "      <td>0.109222</td>\n",
              "      <td>-0.056527</td>\n",
              "      <td>-0.000221</td>\n",
              "      <td>0.104304</td>\n",
              "      <td>0.029026</td>\n",
              "      <td>-0.147971</td>\n",
              "      <td>1.000000</td>\n",
              "      <td>-0.059298</td>\n",
              "      <td>0.072096</td>\n",
              "      <td>0.051838</td>\n",
              "      <td>0.116748</td>\n",
              "      <td>0.018881</td>\n",
              "      <td>0.072225</td>\n",
              "      <td>-0.010498</td>\n",
              "      <td>0.079428</td>\n",
              "      <td>-0.124248</td>\n",
              "    </tr>\n",
              "    <tr>\n",
              "      <th>Education</th>\n",
              "      <td>-0.036254</td>\n",
              "      <td>-0.047357</td>\n",
              "      <td>-0.066128</td>\n",
              "      <td>0.058516</td>\n",
              "      <td>-0.002951</td>\n",
              "      <td>-0.055065</td>\n",
              "      <td>-0.259605</td>\n",
              "      <td>-0.213000</td>\n",
              "      <td>-0.221882</td>\n",
              "      <td>-0.074960</td>\n",
              "      <td>0.101062</td>\n",
              "      <td>-0.059298</td>\n",
              "      <td>1.000000</td>\n",
              "      <td>-0.188622</td>\n",
              "      <td>-0.420013</td>\n",
              "      <td>0.032727</td>\n",
              "      <td>-0.053554</td>\n",
              "      <td>-0.300574</td>\n",
              "      <td>0.100977</td>\n",
              "      <td>-0.366884</td>\n",
              "      <td>-0.046235</td>\n",
              "    </tr>\n",
              "    <tr>\n",
              "      <th>Son</th>\n",
              "      <td>0.002767</td>\n",
              "      <td>-0.055364</td>\n",
              "      <td>0.079031</td>\n",
              "      <td>0.098079</td>\n",
              "      <td>0.046950</td>\n",
              "      <td>0.383001</td>\n",
              "      <td>0.054230</td>\n",
              "      <td>-0.047128</td>\n",
              "      <td>0.056984</td>\n",
              "      <td>0.027820</td>\n",
              "      <td>-0.014091</td>\n",
              "      <td>0.072096</td>\n",
              "      <td>-0.188622</td>\n",
              "      <td>1.000000</td>\n",
              "      <td>0.206376</td>\n",
              "      <td>0.156088</td>\n",
              "      <td>0.108917</td>\n",
              "      <td>-0.139552</td>\n",
              "      <td>-0.014208</td>\n",
              "      <td>-0.144150</td>\n",
              "      <td>0.113756</td>\n",
              "    </tr>\n",
              "    <tr>\n",
              "      <th>Social drinker</th>\n",
              "      <td>-0.451338</td>\n",
              "      <td>0.065441</td>\n",
              "      <td>0.056226</td>\n",
              "      <td>0.041772</td>\n",
              "      <td>-0.045982</td>\n",
              "      <td>0.145117</td>\n",
              "      <td>0.452196</td>\n",
              "      <td>0.353141</td>\n",
              "      <td>0.213183</td>\n",
              "      <td>-0.033713</td>\n",
              "      <td>-0.102480</td>\n",
              "      <td>0.051838</td>\n",
              "      <td>-0.420013</td>\n",
              "      <td>0.206376</td>\n",
              "      <td>1.000000</td>\n",
              "      <td>-0.111678</td>\n",
              "      <td>-0.122780</td>\n",
              "      <td>0.378664</td>\n",
              "      <td>0.169951</td>\n",
              "      <td>0.323978</td>\n",
              "      <td>0.065067</td>\n",
              "    </tr>\n",
              "    <tr>\n",
              "      <th>Social smoker</th>\n",
              "      <td>-0.010826</td>\n",
              "      <td>-0.115702</td>\n",
              "      <td>-0.038603</td>\n",
              "      <td>0.013156</td>\n",
              "      <td>-0.048671</td>\n",
              "      <td>0.044356</td>\n",
              "      <td>-0.075369</td>\n",
              "      <td>0.072424</td>\n",
              "      <td>0.121738</td>\n",
              "      <td>0.030968</td>\n",
              "      <td>0.051254</td>\n",
              "      <td>0.116748</td>\n",
              "      <td>0.032727</td>\n",
              "      <td>0.156088</td>\n",
              "      <td>-0.111678</td>\n",
              "      <td>1.000000</td>\n",
              "      <td>0.105379</td>\n",
              "      <td>-0.198511</td>\n",
              "      <td>0.003271</td>\n",
              "      <td>-0.196006</td>\n",
              "      <td>-0.008936</td>\n",
              "    </tr>\n",
              "    <tr>\n",
              "      <th>Pet</th>\n",
              "      <td>-0.041418</td>\n",
              "      <td>-0.055911</td>\n",
              "      <td>0.047787</td>\n",
              "      <td>-0.028885</td>\n",
              "      <td>0.012356</td>\n",
              "      <td>0.400080</td>\n",
              "      <td>0.205941</td>\n",
              "      <td>-0.440301</td>\n",
              "      <td>-0.231226</td>\n",
              "      <td>0.007114</td>\n",
              "      <td>0.007201</td>\n",
              "      <td>0.018881</td>\n",
              "      <td>-0.053554</td>\n",
              "      <td>0.108917</td>\n",
              "      <td>-0.122780</td>\n",
              "      <td>0.105379</td>\n",
              "      <td>1.000000</td>\n",
              "      <td>-0.103770</td>\n",
              "      <td>-0.103143</td>\n",
              "      <td>-0.076103</td>\n",
              "      <td>-0.028277</td>\n",
              "    </tr>\n",
              "    <tr>\n",
              "      <th>Weight</th>\n",
              "      <td>-0.254222</td>\n",
              "      <td>-0.000269</td>\n",
              "      <td>0.023278</td>\n",
              "      <td>-0.128980</td>\n",
              "      <td>-0.026278</td>\n",
              "      <td>-0.207435</td>\n",
              "      <td>-0.047859</td>\n",
              "      <td>0.455975</td>\n",
              "      <td>0.418730</td>\n",
              "      <td>-0.038522</td>\n",
              "      <td>-0.044947</td>\n",
              "      <td>0.072225</td>\n",
              "      <td>-0.300574</td>\n",
              "      <td>-0.139552</td>\n",
              "      <td>0.378664</td>\n",
              "      <td>-0.198511</td>\n",
              "      <td>-0.103770</td>\n",
              "      <td>1.000000</td>\n",
              "      <td>0.306802</td>\n",
              "      <td>0.904117</td>\n",
              "      <td>0.015789</td>\n",
              "    </tr>\n",
              "    <tr>\n",
              "      <th>Height</th>\n",
              "      <td>0.076363</td>\n",
              "      <td>-0.079267</td>\n",
              "      <td>-0.068942</td>\n",
              "      <td>-0.082133</td>\n",
              "      <td>-0.033737</td>\n",
              "      <td>-0.194496</td>\n",
              "      <td>-0.353372</td>\n",
              "      <td>-0.053135</td>\n",
              "      <td>-0.062997</td>\n",
              "      <td>0.103315</td>\n",
              "      <td>0.093267</td>\n",
              "      <td>-0.010498</td>\n",
              "      <td>0.100977</td>\n",
              "      <td>-0.014208</td>\n",
              "      <td>0.169951</td>\n",
              "      <td>0.003271</td>\n",
              "      <td>-0.103143</td>\n",
              "      <td>0.306802</td>\n",
              "      <td>1.000000</td>\n",
              "      <td>-0.121049</td>\n",
              "      <td>0.144420</td>\n",
              "    </tr>\n",
              "    <tr>\n",
              "      <th>Body mass index</th>\n",
              "      <td>-0.306924</td>\n",
              "      <td>0.037205</td>\n",
              "      <td>0.051046</td>\n",
              "      <td>-0.103578</td>\n",
              "      <td>-0.011031</td>\n",
              "      <td>-0.136517</td>\n",
              "      <td>0.113772</td>\n",
              "      <td>0.499718</td>\n",
              "      <td>0.470688</td>\n",
              "      <td>-0.090709</td>\n",
              "      <td>-0.088939</td>\n",
              "      <td>0.079428</td>\n",
              "      <td>-0.366884</td>\n",
              "      <td>-0.144150</td>\n",
              "      <td>0.323978</td>\n",
              "      <td>-0.196006</td>\n",
              "      <td>-0.076103</td>\n",
              "      <td>0.904117</td>\n",
              "      <td>-0.121049</td>\n",
              "      <td>1.000000</td>\n",
              "      <td>-0.049719</td>\n",
              "    </tr>\n",
              "    <tr>\n",
              "      <th>Absenteeism time in hours</th>\n",
              "      <td>-0.017997</td>\n",
              "      <td>-0.173116</td>\n",
              "      <td>0.024345</td>\n",
              "      <td>-0.124361</td>\n",
              "      <td>-0.005615</td>\n",
              "      <td>0.027585</td>\n",
              "      <td>-0.088363</td>\n",
              "      <td>0.019029</td>\n",
              "      <td>0.065760</td>\n",
              "      <td>0.024749</td>\n",
              "      <td>0.026695</td>\n",
              "      <td>-0.124248</td>\n",
              "      <td>-0.046235</td>\n",
              "      <td>0.113756</td>\n",
              "      <td>0.065067</td>\n",
              "      <td>-0.008936</td>\n",
              "      <td>-0.028277</td>\n",
              "      <td>0.015789</td>\n",
              "      <td>0.144420</td>\n",
              "      <td>-0.049719</td>\n",
              "      <td>1.000000</td>\n",
              "    </tr>\n",
              "  </tbody>\n",
              "</table>\n",
              "</div>"
            ],
            "text/plain": [
              "                                       ID  ...  Absenteeism time in hours\n",
              "ID                               1.000000  ...                  -0.017997\n",
              "Reason for absence              -0.064245  ...                  -0.173116\n",
              "Month of absence                -0.000043  ...                   0.024345\n",
              "Day of the week                  0.034468  ...                  -0.124361\n",
              "Seasons                          0.098495  ...                  -0.005615\n",
              "Transportation expense          -0.224163  ...                   0.027585\n",
              "Distance from Residence to Work -0.486160  ...                  -0.088363\n",
              "Service time                    -0.272704  ...                   0.019029\n",
              "Age                              0.040899  ...                   0.065760\n",
              "Work load Average/day            0.092457  ...                   0.024749\n",
              "Hit target                       0.018789  ...                   0.026695\n",
              "Disciplinary failure             0.004502  ...                  -0.124248\n",
              "Education                       -0.036254  ...                  -0.046235\n",
              "Son                              0.002767  ...                   0.113756\n",
              "Social drinker                  -0.451338  ...                   0.065067\n",
              "Social smoker                   -0.010826  ...                  -0.008936\n",
              "Pet                             -0.041418  ...                  -0.028277\n",
              "Weight                          -0.254222  ...                   0.015789\n",
              "Height                           0.076363  ...                   0.144420\n",
              "Body mass index                 -0.306924  ...                  -0.049719\n",
              "Absenteeism time in hours       -0.017997  ...                   1.000000\n",
              "\n",
              "[21 rows x 21 columns]"
            ]
          },
          "metadata": {
            "tags": []
          },
          "execution_count": 12
        }
      ]
    },
    {
      "cell_type": "code",
      "metadata": {
        "id": "dyGT7XH0OnlE",
        "outputId": "31b7d441-0504-41ac-c5d4-9a8e07c8b6d2",
        "colab": {
          "base_uri": "https://localhost:8080/",
          "height": 496
        }
      },
      "source": [
        "plt.figure(figsize=(5,5))\n",
        "sns.heatmap(absent.corr())\n"
      ],
      "execution_count": 16,
      "outputs": [
        {
          "output_type": "execute_result",
          "data": {
            "text/plain": [
              "<matplotlib.axes._subplots.AxesSubplot at 0x7fa2b9cadeb8>"
            ]
          },
          "metadata": {
            "tags": []
          },
          "execution_count": 16
        },
        {
          "output_type": "display_data",
          "data": {
            "image/png": "[encoded data removed]",
            "text/plain": [
              "<Figure size 360x360 with 2 Axes>"
            ]
          },
          "metadata": {
            "tags": [],
            "needs_background": "light"
          }
        }
      ]
    },
    {
      "cell_type": "code",
      "metadata": {
        "id": "jLKcXM4yPEBo"
      },
      "source": [
        "absent.drop(['Age', 'Weight'], axis=1, inplace=True)"
      ],
      "execution_count": 31,
      "outputs": []
    },
    {
      "cell_type": "markdown",
      "metadata": {
        "id": "dGPZCTESoufZ"
      },
      "source": [
        "Figure out which columns actually contain sneaky categorical variables and turn those into dummy variables."
      ]
    },
    {
      "cell_type": "code",
      "metadata": {
        "id": "WghfIt-KoufZ"
      },
      "source": [
        "# answer below:\n",
        "\n",
        "a_df = pd.concat([pd.get_dummies(absent.Seasons, drop_first=True), absent.drop('Seasons', axis=1)], axis=1)\n",
        "\n",
        "a_df.drop(['ID'], axis=1, inplace=True)"
      ],
      "execution_count": 33,
      "outputs": []
    },
    {
      "cell_type": "markdown",
      "metadata": {
        "id": "2bUDBGzOrveU"
      },
      "source": [
        "Split the data into train and test with test containing 20% of the data, then scale your features."
      ]
    },
    {
      "cell_type": "code",
      "metadata": {
        "id": "_xuMyL1-oufc"
      },
      "source": [
        "# answer below\n",
        "\n",
        "from sklearn.model_selection import train_test_split\n",
        "\n",
        "X = a_df.drop('Absenteeism time in hours', axis=1)\n",
        "\n",
        "Y = a_df['Absenteeism time in hours']\n",
        "\n",
        "X_train, X_test, y_train, y_test = train_test_split(X, Y, test_size=0.2)"
      ],
      "execution_count": 34,
      "outputs": []
    },
    {
      "cell_type": "code",
      "metadata": {
        "id": "0kAqpwixQkvZ"
      },
      "source": [
        "from sklearn.preprocessing import MinMaxScaler\n",
        "\n",
        "scale = MinMaxScaler()\n",
        "\n",
        "X_train_ = scale.fit_transform(X_train)\n",
        "\n",
        "X_test_ = scale.transform(X_test)"
      ],
      "execution_count": 35,
      "outputs": []
    },
    {
      "cell_type": "markdown",
      "metadata": {
        "id": "J76cyHbvouff"
      },
      "source": [
        "Train a series of KNN regression models with a range of K values. For each K value, use cross validation of the training set and find the average RMSE score. Make a plot of K versus average RMSE. What is the best value of K?"
      ]
    },
    {
      "cell_type": "code",
      "metadata": {
        "id": "dsdykvHkoufg"
      },
      "source": [
        "# answer below"
      ],
      "execution_count": null,
      "outputs": []
    },
    {
      "cell_type": "code",
      "metadata": {
        "id": "iDEZ1VySR5xQ"
      },
      "source": [
        "from sklearn.neighbors import KNeighborsRegressor\n",
        "from sklearn.model_selection import cross_val_score\n",
        "from sklearn.metrics import mean_squared_error"
      ],
      "execution_count": 40,
      "outputs": []
    },
    {
      "cell_type": "code",
      "metadata": {
        "id": "ubz1240nQsms"
      },
      "source": [
        "k_list = np.arange(1, 16, 2)\n",
        "train_errors = []\n",
        "test_errors = []\n",
        "\n",
        "for i in k_list:\n",
        "    n = KNeighborsRegressor(n_neighbors=i)\n",
        "    n.fit(X_train_, y_train)\n",
        "    y_pred_train = n.predict(X_train_)\n",
        "    y_pred_test = n.predict(X_test_)\n",
        "    train_errors.append(mean_squared_error(y_train, y_pred_train, squared=False))\n",
        "    test_errors.append(mean_squared_error(y_test, y_pred_test, squared=False))\n"
      ],
      "execution_count": 48,
      "outputs": []
    },
    {
      "cell_type": "markdown",
      "metadata": {
        "id": "PYkLIuvxIGM7"
      },
      "source": [
        "Using your best K, fit a model to all your training data and show the RMSE for the training and testing sets."
      ]
    },
    {
      "cell_type": "code",
      "metadata": {
        "id": "yoXGKDM-oufh"
      },
      "source": [
        "# answer below\n",
        "\n",
        "knn = KNeighborsRegressor(n_neighbors=5)\n",
        "\n",
        "fit = knn.fit(X_train, y_train)\n",
        "\n",
        "pred_train = fit.predict(X_train)\n",
        "\n",
        "pred_test = fit.predict(X_test)\n",
        "\n",
        "score_train = mean_squared_error(y_train, y_pred_train)\n",
        "\n",
        "score_test = mean_squared_error(y_test, y_pred_test)"
      ],
      "execution_count": 49,
      "outputs": []
    },
    {
      "cell_type": "code",
      "metadata": {
        "id": "KDWxz2ciTSnR",
        "outputId": "7490021e-c588-4c30-f270-25e5dff9a12f",
        "colab": {
          "base_uri": "https://localhost:8080/",
          "height": 51
        }
      },
      "source": [
        "print('train score:', score_train)\n",
        "print('test score:', score_test)"
      ],
      "execution_count": 50,
      "outputs": [
        {
          "output_type": "stream",
          "text": [
            "train score: 152.47777027027027\n",
            "test score: 169.07663663663664\n"
          ],
          "name": "stdout"
        }
      ]
    },
    {
      "cell_type": "markdown",
      "metadata": {
        "id": "wzFGMqYHIJeH"
      },
      "source": [
        "Create a homoscedasticity plot (also called residual plot). How is your model performing? What ideas do you have to improve the model?"
      ]
    },
    {
      "cell_type": "code",
      "metadata": {
        "id": "cG3BXWIqoufj"
      },
      "source": [
        "# answer below"
      ],
      "execution_count": null,
      "outputs": []
    },
    {
      "cell_type": "code",
      "metadata": {
        "id": "CONUZGpTIPIl",
        "outputId": "e4053b28-6019-44b7-a21a-19e2cd214762",
        "colab": {
          "base_uri": "https://localhost:8080/",
          "height": 282
        }
      },
      "source": [
        "\n",
        "residual = y_train - y_pred_train\n",
        "plt.scatter(y_pred_train, residual)"
      ],
      "execution_count": 51,
      "outputs": [
        {
          "output_type": "execute_result",
          "data": {
            "text/plain": [
              "<matplotlib.collections.PathCollection at 0x7fa2b9cad710>"
            ]
          },
          "metadata": {
            "tags": []
          },
          "execution_count": 51
        },
        {
          "output_type": "display_data",
          "data": {
            "image/png": "[encoded data removed]",
            "text/plain": [
              "<Figure size 432x288 with 1 Axes>"
            ]
          },
          "metadata": {
            "tags": [],
            "needs_background": "light"
          }
        }
      ]
    },
    {
      "cell_type": "code",
      "metadata": {
        "id": "DjlV7kh8Tvs-"
      },
      "source": [
        ""
      ],
      "execution_count": null,
      "outputs": []
    }
  ]
}