{
 "cells": [
  {
   "cell_type": "markdown",
   "metadata": {
    "id": "TNewN9PjovQQ"
   },
   "source": [
    "# Support Vector Machine Assignment"
   ]
  },
  {
   "cell_type": "code",
   "execution_count": 76,
   "metadata": {
    "id": "LytTJ7m3ovQR"
   },
   "outputs": [],
   "source": [
    "import numpy as np\n",
    "import pandas as pd\n",
    "import seaborn as sns\n",
    "from sklearn.svm import SVC\n",
    "import matplotlib.pyplot as plt\n",
    "from sklearn.model_selection import train_test_split\n",
    "from sklearn.metrics import classification_report"
   ]
  },
  {
   "cell_type": "markdown",
   "metadata": {
    "id": "-K2eRKbKNHyU"
   },
   "source": [
    "### Import the admissions data set (admissions.csv)."
   ]
  },
  {
   "cell_type": "code",
   "execution_count": 77,
   "metadata": {
    "colab": {
     "base_uri": "https://localhost:8080/",
     "height": 408
    },
    "id": "67QhNML9NHyV",
    "outputId": "8efb41f9-99d0-4c15-93b2-5df17e711395"
   },
   "outputs": [
    {
     "name": "stdout",
     "output_type": "stream",
     "text": [
      "   GRE  TOEFL  SchoolRank  SOP  LOR   GPA  Research  Admitted\n",
      "0  337    118           4  4.5  4.5  9.65         1         1\n",
      "1  324    107           4  4.0  4.5  8.87         1         1\n",
      "2  316    104           3  3.0  3.5  8.00         1         1\n",
      "3  322    110           3  3.5  2.5  8.67         1         1\n",
      "4  314    103           2  2.0  3.0  8.21         0         0\n",
      "<class 'pandas.core.frame.DataFrame'>\n",
      "RangeIndex: 400 entries, 0 to 399\n",
      "Data columns (total 8 columns):\n",
      " #   Column      Non-Null Count  Dtype  \n",
      "---  ------      --------------  -----  \n",
      " 0   GRE         400 non-null    int64  \n",
      " 1   TOEFL       400 non-null    int64  \n",
      " 2   SchoolRank  400 non-null    int64  \n",
      " 3   SOP         400 non-null    float64\n",
      " 4   LOR         400 non-null    float64\n",
      " 5   GPA         400 non-null    float64\n",
      " 6   Research    400 non-null    int64  \n",
      " 7   Admitted    400 non-null    int64  \n",
      "dtypes: float64(3), int64(5)\n",
      "memory usage: 25.1 KB\n",
      "None\n",
      "400\n"
     ]
    }
   ],
   "source": [
    "data = pd.read_csv('https://tf-assets-prod.s3.amazonaws.com/tf-curric/data-science/admissions.csv')\n",
    "print(data.head())\n",
    "print(data.info())\n",
    "print(data.shape[0])"
   ]
  },
  {
   "cell_type": "markdown",
   "metadata": {
    "id": "nNxDoziuNHyY"
   },
   "source": [
    "## Data Exploration\n",
    "\n",
    "Before jumping into training a model on the data, let's explore it to get a better sense of the relationships between our features and the target variable."
   ]
  },
  {
   "cell_type": "markdown",
   "metadata": {
    "id": "Xtb9mBARNHyZ"
   },
   "source": [
    "### Call the Pandas `describe()` method on the data frame to get view the average values and variability for each variable."
   ]
  },
  {
   "cell_type": "code",
   "execution_count": 78,
   "metadata": {
    "colab": {
     "base_uri": "https://localhost:8080/",
     "height": 317
    },
    "id": "MemXRhIFNHya",
    "outputId": "aa5543eb-3bc1-4ad0-f1ec-90d7460a44ad"
   },
   "outputs": [
    {
     "data": {
      "text/html": [
       "<div>\n",
       "<style scoped>\n",
       "    .dataframe tbody tr th:only-of-type {\n",
       "        vertical-align: middle;\n",
       "    }\n",
       "\n",
       "    .dataframe tbody tr th {\n",
       "        vertical-align: top;\n",
       "    }\n",
       "\n",
       "    .dataframe thead th {\n",
       "        text-align: right;\n",
       "    }\n",
       "</style>\n",
       "<table border=\"1\" class=\"dataframe\">\n",
       "  <thead>\n",
       "    <tr style=\"text-align: right;\">\n",
       "      <th></th>\n",
       "      <th>GRE</th>\n",
       "      <th>TOEFL</th>\n",
       "      <th>SchoolRank</th>\n",
       "      <th>SOP</th>\n",
       "      <th>LOR</th>\n",
       "      <th>GPA</th>\n",
       "      <th>Research</th>\n",
       "      <th>Admitted</th>\n",
       "    </tr>\n",
       "  </thead>\n",
       "  <tbody>\n",
       "    <tr>\n",
       "      <th>count</th>\n",
       "      <td>400.000000</td>\n",
       "      <td>400.000000</td>\n",
       "      <td>400.000000</td>\n",
       "      <td>400.000000</td>\n",
       "      <td>400.000000</td>\n",
       "      <td>400.000000</td>\n",
       "      <td>400.000000</td>\n",
       "      <td>400.000000</td>\n",
       "    </tr>\n",
       "    <tr>\n",
       "      <th>mean</th>\n",
       "      <td>316.807500</td>\n",
       "      <td>107.410000</td>\n",
       "      <td>3.087500</td>\n",
       "      <td>3.400000</td>\n",
       "      <td>3.452500</td>\n",
       "      <td>8.598925</td>\n",
       "      <td>0.547500</td>\n",
       "      <td>0.617500</td>\n",
       "    </tr>\n",
       "    <tr>\n",
       "      <th>std</th>\n",
       "      <td>11.473646</td>\n",
       "      <td>6.069514</td>\n",
       "      <td>1.143728</td>\n",
       "      <td>1.006869</td>\n",
       "      <td>0.898478</td>\n",
       "      <td>0.596317</td>\n",
       "      <td>0.498362</td>\n",
       "      <td>0.486606</td>\n",
       "    </tr>\n",
       "    <tr>\n",
       "      <th>min</th>\n",
       "      <td>290.000000</td>\n",
       "      <td>92.000000</td>\n",
       "      <td>1.000000</td>\n",
       "      <td>1.000000</td>\n",
       "      <td>1.000000</td>\n",
       "      <td>6.800000</td>\n",
       "      <td>0.000000</td>\n",
       "      <td>0.000000</td>\n",
       "    </tr>\n",
       "    <tr>\n",
       "      <th>25%</th>\n",
       "      <td>308.000000</td>\n",
       "      <td>103.000000</td>\n",
       "      <td>2.000000</td>\n",
       "      <td>2.500000</td>\n",
       "      <td>3.000000</td>\n",
       "      <td>8.170000</td>\n",
       "      <td>0.000000</td>\n",
       "      <td>0.000000</td>\n",
       "    </tr>\n",
       "    <tr>\n",
       "      <th>50%</th>\n",
       "      <td>317.000000</td>\n",
       "      <td>107.000000</td>\n",
       "      <td>3.000000</td>\n",
       "      <td>3.500000</td>\n",
       "      <td>3.500000</td>\n",
       "      <td>8.610000</td>\n",
       "      <td>1.000000</td>\n",
       "      <td>1.000000</td>\n",
       "    </tr>\n",
       "    <tr>\n",
       "      <th>75%</th>\n",
       "      <td>325.000000</td>\n",
       "      <td>112.000000</td>\n",
       "      <td>4.000000</td>\n",
       "      <td>4.000000</td>\n",
       "      <td>4.000000</td>\n",
       "      <td>9.062500</td>\n",
       "      <td>1.000000</td>\n",
       "      <td>1.000000</td>\n",
       "    </tr>\n",
       "    <tr>\n",
       "      <th>max</th>\n",
       "      <td>340.000000</td>\n",
       "      <td>120.000000</td>\n",
       "      <td>5.000000</td>\n",
       "      <td>5.000000</td>\n",
       "      <td>5.000000</td>\n",
       "      <td>9.920000</td>\n",
       "      <td>1.000000</td>\n",
       "      <td>1.000000</td>\n",
       "    </tr>\n",
       "  </tbody>\n",
       "</table>\n",
       "</div>"
      ],
      "text/plain": [
       "              GRE       TOEFL  SchoolRank  ...         GPA    Research    Admitted\n",
       "count  400.000000  400.000000  400.000000  ...  400.000000  400.000000  400.000000\n",
       "mean   316.807500  107.410000    3.087500  ...    8.598925    0.547500    0.617500\n",
       "std     11.473646    6.069514    1.143728  ...    0.596317    0.498362    0.486606\n",
       "min    290.000000   92.000000    1.000000  ...    6.800000    0.000000    0.000000\n",
       "25%    308.000000  103.000000    2.000000  ...    8.170000    0.000000    0.000000\n",
       "50%    317.000000  107.000000    3.000000  ...    8.610000    1.000000    1.000000\n",
       "75%    325.000000  112.000000    4.000000  ...    9.062500    1.000000    1.000000\n",
       "max    340.000000  120.000000    5.000000  ...    9.920000    1.000000    1.000000\n",
       "\n",
       "[8 rows x 8 columns]"
      ]
     },
     "execution_count": 78,
     "metadata": {
      "tags": []
     },
     "output_type": "execute_result"
    }
   ],
   "source": [
    "data.describe()"
   ]
  },
  {
   "cell_type": "markdown",
   "metadata": {
    "id": "Yk6ksePiNHye"
   },
   "source": [
    "### Group the data by the Admitted field and compute the average values for each field."
   ]
  },
  {
   "cell_type": "code",
   "execution_count": 79,
   "metadata": {
    "colab": {
     "base_uri": "https://localhost:8080/",
     "height": 142
    },
    "id": "Uf8_rZozNHyf",
    "outputId": "b32fe07e-cd7a-4481-fe1e-b2fe720bc8d6"
   },
   "outputs": [
    {
     "data": {
      "text/html": [
       "<div>\n",
       "<style scoped>\n",
       "    .dataframe tbody tr th:only-of-type {\n",
       "        vertical-align: middle;\n",
       "    }\n",
       "\n",
       "    .dataframe tbody tr th {\n",
       "        vertical-align: top;\n",
       "    }\n",
       "\n",
       "    .dataframe thead th {\n",
       "        text-align: right;\n",
       "    }\n",
       "</style>\n",
       "<table border=\"1\" class=\"dataframe\">\n",
       "  <thead>\n",
       "    <tr style=\"text-align: right;\">\n",
       "      <th></th>\n",
       "      <th>GRE</th>\n",
       "      <th>TOEFL</th>\n",
       "      <th>SchoolRank</th>\n",
       "      <th>SOP</th>\n",
       "      <th>LOR</th>\n",
       "      <th>GPA</th>\n",
       "      <th>Research</th>\n",
       "    </tr>\n",
       "    <tr>\n",
       "      <th>Admitted</th>\n",
       "      <th></th>\n",
       "      <th></th>\n",
       "      <th></th>\n",
       "      <th></th>\n",
       "      <th></th>\n",
       "      <th></th>\n",
       "      <th></th>\n",
       "    </tr>\n",
       "  </thead>\n",
       "  <tbody>\n",
       "    <tr>\n",
       "      <th>0</th>\n",
       "      <td>307.013072</td>\n",
       "      <td>102.588235</td>\n",
       "      <td>2.261438</td>\n",
       "      <td>2.741830</td>\n",
       "      <td>2.875817</td>\n",
       "      <td>8.087974</td>\n",
       "      <td>0.248366</td>\n",
       "    </tr>\n",
       "    <tr>\n",
       "      <th>1</th>\n",
       "      <td>322.874494</td>\n",
       "      <td>110.396761</td>\n",
       "      <td>3.599190</td>\n",
       "      <td>3.807692</td>\n",
       "      <td>3.809717</td>\n",
       "      <td>8.915425</td>\n",
       "      <td>0.732794</td>\n",
       "    </tr>\n",
       "  </tbody>\n",
       "</table>\n",
       "</div>"
      ],
      "text/plain": [
       "                 GRE       TOEFL  SchoolRank  ...       LOR       GPA  Research\n",
       "Admitted                                      ...                              \n",
       "0         307.013072  102.588235    2.261438  ...  2.875817  8.087974  0.248366\n",
       "1         322.874494  110.396761    3.599190  ...  3.809717  8.915425  0.732794\n",
       "\n",
       "[2 rows x 7 columns]"
      ]
     },
     "execution_count": 79,
     "metadata": {
      "tags": []
     },
     "output_type": "execute_result"
    }
   ],
   "source": [
    "group = data.groupby(by='Admitted').mean()\n",
    "group"
   ]
  },
  {
   "cell_type": "markdown",
   "metadata": {
    "id": "9XfQw8jrNHyi"
   },
   "source": [
    "### How many students that applied were admitted vs. not admitted? What percentage of students were admitted vs. not admitted? "
   ]
  },
  {
   "cell_type": "code",
   "execution_count": 80,
   "metadata": {
    "colab": {
     "base_uri": "https://localhost:8080/",
     "height": 51
    },
    "id": "CXttCEavNHyi",
    "outputId": "6e42578f-a1b0-4b31-c1d4-5dfc7da78b74"
   },
   "outputs": [
    {
     "name": "stdout",
     "output_type": "stream",
     "text": [
      "Percent admitted:  61.75000000000001 %\n",
      "Percent not admitted:  38.25 %\n"
     ]
    }
   ],
   "source": [
    "admit_percen = ((data['Admitted'] == 1).sum() / (data.shape[0]))*100\n",
    "not_admit_percen = ((data['Admitted'] == 0).sum() / (data.shape[0]))*100\n",
    "\n",
    "print('Percent admitted: ' ,admit_percen,'%')\n",
    "print('Percent not admitted: ' ,not_admit_percen, '%')"
   ]
  },
  {
   "cell_type": "markdown",
   "metadata": {
    "id": "V5BbRmfkNHyl"
   },
   "source": [
    "### What percent of students with research experience were admitted?"
   ]
  },
  {
   "cell_type": "code",
   "execution_count": 81,
   "metadata": {
    "colab": {
     "base_uri": "https://localhost:8080/",
     "height": 34
    },
    "id": "a214ofAdNHyl",
    "outputId": "f2f55a31-509b-4672-e6b5-cff14b68d05e"
   },
   "outputs": [
    {
     "name": "stdout",
     "output_type": "stream",
     "text": [
      "Percent with experience admitted:  82.64840182648402 %\n"
     ]
    }
   ],
   "source": [
    "resea_ad = len(data[(data['Admitted'] == 1) & (data['Research'] == 1)])\n",
    "resea_to = len(data[data['Research'] == 1])\n",
    "\n",
    "print('Percent with experience admitted: ', (resea_ad/resea_to)*100,'%')"
   ]
  },
  {
   "cell_type": "markdown",
   "metadata": {
    "id": "Pdq0lx3QNHyo"
   },
   "source": [
    "### What percent of students admitted had research experience?"
   ]
  },
  {
   "cell_type": "code",
   "execution_count": 82,
   "metadata": {
    "colab": {
     "base_uri": "https://localhost:8080/",
     "height": 34
    },
    "id": "XcDAB45VNHyp",
    "outputId": "704a5fa3-be8c-4485-96ac-ecda672a1293"
   },
   "outputs": [
    {
     "name": "stdout",
     "output_type": "stream",
     "text": [
      "Percent admitted with reserach:  73.27935222672065 %\n"
     ]
    }
   ],
   "source": [
    "print('Percent admitted with reserach: ', (resea_ad / (data['Admitted'] == 1).sum())*100,'%')"
   ]
  },
  {
   "cell_type": "markdown",
   "metadata": {
    "id": "zP0nXko8NHys"
   },
   "source": [
    "### Generate a grouped bar chart showing the number of admissions by SOP score, with separate bars for admitted and not admitted."
   ]
  },
  {
   "cell_type": "code",
   "execution_count": 83,
   "metadata": {
    "colab": {
     "base_uri": "https://localhost:8080/",
     "height": 279
    },
    "id": "wFd6jwD0NHys",
    "outputId": "8e71ec8f-78df-4f9f-b90d-b3253a2cb723"
   },
   "outputs": [
    {
     "data": {
      "image/png": "[encoded data removed]",
      "text/plain": [
       "<Figure size 432x288 with 1 Axes>"
      ]
     },
     "metadata": {
      "needs_background": "light",
      "tags": []
     },
     "output_type": "display_data"
    }
   ],
   "source": [
    "chart = sns.barplot(x=data['Admitted'], y=data['SOP'], hue='Admitted', data=data)"
   ]
  },
  {
   "cell_type": "markdown",
   "metadata": {
    "id": "rNSpalR0NHyv"
   },
   "source": [
    "### Generate a grouped bar chart showing the number of admissions by LOR score, with separate bars for admitted and not admitted."
   ]
  },
  {
   "cell_type": "code",
   "execution_count": 84,
   "metadata": {
    "colab": {
     "base_uri": "https://localhost:8080/",
     "height": 279
    },
    "id": "LXYPYdFLNHyv",
    "outputId": "0e317496-43de-4590-95b5-e041b878dd60"
   },
   "outputs": [
    {
     "data": {
      "image/png": "[encoded data removed]",
      "text/plain": [
       "<Figure size 432x288 with 1 Axes>"
      ]
     },
     "metadata": {
      "needs_background": "light",
      "tags": []
     },
     "output_type": "display_data"
    }
   ],
   "source": [
    "chart1 = sns.barplot(x=data['Admitted'], y=data['LOR'], hue='Admitted', data=data)"
   ]
  },
  {
   "cell_type": "markdown",
   "metadata": {
    "id": "8_Z5sqWwNHyx"
   },
   "source": [
    "### Generate a scatter plot where the axes are GRE and TOEFL fields and the data points are color-coded by whether the student was admitted.\n",
    "\n",
    "Think about how you might go about determining the decision boundary to separate admitted from non-admitted students."
   ]
  },
  {
   "cell_type": "code",
   "execution_count": 85,
   "metadata": {
    "colab": {
     "base_uri": "https://localhost:8080/",
     "height": 296
    },
    "id": "B9wQfCkgNHyy",
    "outputId": "9d8d07d1-2cb7-4c1f-8a80-8057d036746b"
   },
   "outputs": [
    {
     "data": {
      "text/plain": [
       "<matplotlib.axes._subplots.AxesSubplot at 0x7fe6112832e8>"
      ]
     },
     "execution_count": 85,
     "metadata": {
      "tags": []
     },
     "output_type": "execute_result"
    },
    {
     "data": {
      "image/png": "[encoded data removed]",
      "text/plain": [
       "<Figure size 432x288 with 1 Axes>"
      ]
     },
     "metadata": {
      "needs_background": "light",
      "tags": []
     },
     "output_type": "display_data"
    }
   ],
   "source": [
    "sns.scatterplot(x=data['GRE'], y=data['TOEFL'], hue='Admitted', data=data)"
   ]
  },
  {
   "cell_type": "markdown",
   "metadata": {
    "id": "isAcJAkpNHy2"
   },
   "source": [
    "### Generate a scatter plot where the axes are GPA and TOEFL fields and the data points are color-coded by whether the student was admitted.\n",
    "\n",
    "Think about how you might go about determining the decision boundary to separate admitted from non-admitted students."
   ]
  },
  {
   "cell_type": "code",
   "execution_count": 86,
   "metadata": {
    "colab": {
     "base_uri": "https://localhost:8080/",
     "height": 296
    },
    "id": "sZRB7oSKNHy2",
    "outputId": "a13209c8-c582-4e1a-921e-ce918392685c"
   },
   "outputs": [
    {
     "data": {
      "text/plain": [
       "<matplotlib.axes._subplots.AxesSubplot at 0x7fe611201780>"
      ]
     },
     "execution_count": 86,
     "metadata": {
      "tags": []
     },
     "output_type": "execute_result"
    },
    {
     "data": {
      "image/png": "[encoded data removed]",
      "text/plain": [
       "<Figure size 432x288 with 1 Axes>"
      ]
     },
     "metadata": {
      "needs_background": "light",
      "tags": []
     },
     "output_type": "display_data"
    }
   ],
   "source": [
    "sns.scatterplot(x=data['GPA'], y=data['TOEFL'], hue='Admitted', data=data)"
   ]
  },
  {
   "cell_type": "markdown",
   "metadata": {
    "id": "VMeb2uIiNHy4"
   },
   "source": [
    "### Generate a scatter plot where the axes are GRE and GPA fields and the data points are color-coded by whether the student was admitted.\n",
    "\n",
    "Think about how you might go about determining the decision boundary to separate admitted from non-admitted students."
   ]
  },
  {
   "cell_type": "code",
   "execution_count": 87,
   "metadata": {
    "colab": {
     "base_uri": "https://localhost:8080/",
     "height": 296
    },
    "id": "b6ZhHk8KNHy5",
    "outputId": "d33df43b-8cd8-4d1b-b13c-155b31a1079d"
   },
   "outputs": [
    {
     "data": {
      "text/plain": [
       "<matplotlib.axes._subplots.AxesSubplot at 0x7fe6111bc4e0>"
      ]
     },
     "execution_count": 87,
     "metadata": {
      "tags": []
     },
     "output_type": "execute_result"
    },
    {
     "data": {
      "image/png": "[encoded data removed]",
      "text/plain": [
       "<Figure size 432x288 with 1 Axes>"
      ]
     },
     "metadata": {
      "needs_background": "light",
      "tags": []
     },
     "output_type": "display_data"
    }
   ],
   "source": [
    "sns.scatterplot(x=data['GRE'], y=data['GPA'], hue='Admitted', data=data)"
   ]
  },
  {
   "cell_type": "markdown",
   "metadata": {
    "id": "Qq_rf_7DNHy8"
   },
   "source": [
    "## Model Training and Evaluation\n",
    "\n",
    "Now that we have gained a sense of familiarity with our data, let's train a model to predict admissions."
   ]
  },
  {
   "cell_type": "markdown",
   "metadata": {
    "id": "-H-fgAcvovQg"
   },
   "source": [
    "### Split the data into a training and test sets, where the test set contains 20% of the data."
   ]
  },
  {
   "cell_type": "code",
   "execution_count": 88,
   "metadata": {
    "colab": {
     "base_uri": "https://localhost:8080/",
     "height": 51
    },
    "id": "Fjauxq1WovQg",
    "outputId": "7f1c9ca0-705b-4903-f0ce-041a5ba9f4de"
   },
   "outputs": [
    {
     "name": "stdout",
     "output_type": "stream",
     "text": [
      "The number of observations in training set is 320\n",
      "The number of observations in test set is 80\n"
     ]
    }
   ],
   "source": [
    "from sklearn.model_selection import train_test_split\n",
    "\n",
    "X = data.drop(columns='Admitted')\n",
    "y = data['Admitted']\n",
    "\n",
    "X_train, X_test, y_train, y_test = train_test_split(X, y, test_size = 0.2)\n",
    "\n",
    "print(\"The number of observations in training set is {}\".format(X_train.shape[0]))\n",
    "print(\"The number of observations in test set is {}\".format(X_test.shape[0]))"
   ]
  },
  {
   "cell_type": "markdown",
   "metadata": {
    "id": "Dqv8gMI-ovQi"
   },
   "source": [
    "### Use the linear kernel to train a Support Vector Classifier (SVC) model on the training data. Report the scores for both the training and test data."
   ]
  },
  {
   "cell_type": "code",
   "execution_count": 89,
   "metadata": {
    "colab": {
     "base_uri": "https://localhost:8080/",
     "height": 51
    },
    "id": "Fw3loKixovQi",
    "outputId": "315a1127-ab8e-4e17-85ef-f2c2d1c4538e"
   },
   "outputs": [
    {
     "name": "stdout",
     "output_type": "stream",
     "text": [
      "SVM Train Score:  0.871875\n",
      "SVM Test Score:  0.825\n"
     ]
    }
   ],
   "source": [
    "from sklearn.svm import SVC\n",
    "\n",
    "vectored = SVC(kernel='linear')\n",
    "vectored.fit(X_train, y_train)\n",
    "print('SVM Train Score: ', vectored.score(X_train, y_train))\n",
    "print('SVM Test Score: ', vectored.score(X_test, y_test))"
   ]
  },
  {
   "cell_type": "markdown",
   "metadata": {
    "id": "bfwaWwwRNHzC"
   },
   "source": [
    "### Generate a classification report for the SVC model you trained.\n",
    "\n",
    "How do the evaluation metrics differ across classes?"
   ]
  },
  {
   "cell_type": "code",
   "execution_count": 90,
   "metadata": {
    "colab": {
     "base_uri": "https://localhost:8080/",
     "height": 323
    },
    "id": "tQwTuoggNHzD",
    "outputId": "589fe8ff-bfaa-4caa-a23a-6d18bfc47efa"
   },
   "outputs": [
    {
     "name": "stdout",
     "output_type": "stream",
     "text": [
      "              precision    recall  f1-score   support\n",
      "\n",
      "           0       0.85      0.81      0.83       123\n",
      "           1       0.89      0.91      0.90       197\n",
      "\n",
      "    accuracy                           0.87       320\n",
      "   macro avg       0.87      0.86      0.86       320\n",
      "weighted avg       0.87      0.87      0.87       320\n",
      "\n",
      "              precision    recall  f1-score   support\n",
      "\n",
      "           0       0.72      0.87      0.79        30\n",
      "           1       0.91      0.80      0.85        50\n",
      "\n",
      "    accuracy                           0.82        80\n",
      "   macro avg       0.82      0.83      0.82        80\n",
      "weighted avg       0.84      0.82      0.83        80\n",
      "\n"
     ]
    }
   ],
   "source": [
    "from sklearn.metrics import classification_report\n",
    "\n",
    "y_pred_train = vectored.predict(X_train)\n",
    "y_pred_test = vectored.predict(X_test)\n",
    "\n",
    "train_repo = classification_report(y_train, y_pred_train)\n",
    "test_repo = classification_report(y_test, y_pred_test)\n",
    "print(train_repo)\n",
    "print(test_repo)"
   ]
  }
 ],
 "metadata": {
  "colab": {
   "collapsed_sections": [],
   "name": "Day 32 Lecture 2 Assignment.ipynb",
   "provenance": []
  },
  "kernelspec": {
   "display_name": "Python 3",
   "language": "python",
   "name": "python3"
  },
  "language_info": {
   "codemirror_mode": {
    "name": "ipython",
    "version": 3
   },
   "file_extension": ".py",
   "mimetype": "text/x-python",
   "name": "python",
   "nbconvert_exporter": "python",
   "pygments_lexer": "ipython3",
   "version": "3.8.5"
  }
 },
 "nbformat": 4,
 "nbformat_minor": 1
}
