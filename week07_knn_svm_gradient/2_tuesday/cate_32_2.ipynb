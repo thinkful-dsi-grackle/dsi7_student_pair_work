{
  "nbformat": 4,
  "nbformat_minor": 0,
  "metadata": {
    "colab": {
      "name": "cate_32_2.ipynb",
      "provenance": [],
      "collapsed_sections": []
    },
    "kernelspec": {
      "display_name": "Python 3",
      "language": "python",
      "name": "python3"
    },
    "language_info": {
      "codemirror_mode": {
        "name": "ipython",
        "version": 3
      },
      "file_extension": ".py",
      "mimetype": "text/x-python",
      "name": "python",
      "nbconvert_exporter": "python",
      "pygments_lexer": "ipython3",
      "version": "3.7.6"
    }
  },
  "cells": [
    {
      "cell_type": "markdown",
      "metadata": {
        "id": "TNewN9PjovQQ"
      },
      "source": [
        "# Support Vector Machine Assignment"
      ]
    },
    {
      "cell_type": "code",
      "metadata": {
        "id": "LytTJ7m3ovQR"
      },
      "source": [
        "import numpy as np\n",
        "import pandas as pd\n",
        "import seaborn as sns\n",
        "from sklearn.svm import SVC\n",
        "import matplotlib.pyplot as plt\n",
        "from sklearn.model_selection import train_test_split\n",
        "from sklearn.metrics import classification_report"
      ],
      "execution_count": 1,
      "outputs": []
    },
    {
      "cell_type": "markdown",
      "metadata": {
        "id": "-K2eRKbKNHyU"
      },
      "source": [
        "### Import the admissions data set (admissions.csv)."
      ]
    },
    {
      "cell_type": "code",
      "metadata": {
        "id": "67QhNML9NHyV",
        "outputId": "9535254e-4e16-460c-9b93-a5ea00443d47",
        "colab": {
          "base_uri": "https://localhost:8080/",
          "height": 197
        }
      },
      "source": [
        "data = pd.read_csv('https://tf-assets-prod.s3.amazonaws.com/tf-curric/data-science/admissions.csv')\n",
        "data.head()"
      ],
      "execution_count": 2,
      "outputs": [
        {
          "output_type": "execute_result",
          "data": {
            "text/html": [
              "<div>\n",
              "<style scoped>\n",
              "    .dataframe tbody tr th:only-of-type {\n",
              "        vertical-align: middle;\n",
              "    }\n",
              "\n",
              "    .dataframe tbody tr th {\n",
              "        vertical-align: top;\n",
              "    }\n",
              "\n",
              "    .dataframe thead th {\n",
              "        text-align: right;\n",
              "    }\n",
              "</style>\n",
              "<table border=\"1\" class=\"dataframe\">\n",
              "  <thead>\n",
              "    <tr style=\"text-align: right;\">\n",
              "      <th></th>\n",
              "      <th>GRE</th>\n",
              "      <th>TOEFL</th>\n",
              "      <th>SchoolRank</th>\n",
              "      <th>SOP</th>\n",
              "      <th>LOR</th>\n",
              "      <th>GPA</th>\n",
              "      <th>Research</th>\n",
              "      <th>Admitted</th>\n",
              "    </tr>\n",
              "  </thead>\n",
              "  <tbody>\n",
              "    <tr>\n",
              "      <th>0</th>\n",
              "      <td>337</td>\n",
              "      <td>118</td>\n",
              "      <td>4</td>\n",
              "      <td>4.5</td>\n",
              "      <td>4.5</td>\n",
              "      <td>9.65</td>\n",
              "      <td>1</td>\n",
              "      <td>1</td>\n",
              "    </tr>\n",
              "    <tr>\n",
              "      <th>1</th>\n",
              "      <td>324</td>\n",
              "      <td>107</td>\n",
              "      <td>4</td>\n",
              "      <td>4.0</td>\n",
              "      <td>4.5</td>\n",
              "      <td>8.87</td>\n",
              "      <td>1</td>\n",
              "      <td>1</td>\n",
              "    </tr>\n",
              "    <tr>\n",
              "      <th>2</th>\n",
              "      <td>316</td>\n",
              "      <td>104</td>\n",
              "      <td>3</td>\n",
              "      <td>3.0</td>\n",
              "      <td>3.5</td>\n",
              "      <td>8.00</td>\n",
              "      <td>1</td>\n",
              "      <td>1</td>\n",
              "    </tr>\n",
              "    <tr>\n",
              "      <th>3</th>\n",
              "      <td>322</td>\n",
              "      <td>110</td>\n",
              "      <td>3</td>\n",
              "      <td>3.5</td>\n",
              "      <td>2.5</td>\n",
              "      <td>8.67</td>\n",
              "      <td>1</td>\n",
              "      <td>1</td>\n",
              "    </tr>\n",
              "    <tr>\n",
              "      <th>4</th>\n",
              "      <td>314</td>\n",
              "      <td>103</td>\n",
              "      <td>2</td>\n",
              "      <td>2.0</td>\n",
              "      <td>3.0</td>\n",
              "      <td>8.21</td>\n",
              "      <td>0</td>\n",
              "      <td>0</td>\n",
              "    </tr>\n",
              "  </tbody>\n",
              "</table>\n",
              "</div>"
            ],
            "text/plain": [
              "   GRE  TOEFL  SchoolRank  SOP  LOR   GPA  Research  Admitted\n",
              "0  337    118           4  4.5  4.5  9.65         1         1\n",
              "1  324    107           4  4.0  4.5  8.87         1         1\n",
              "2  316    104           3  3.0  3.5  8.00         1         1\n",
              "3  322    110           3  3.5  2.5  8.67         1         1\n",
              "4  314    103           2  2.0  3.0  8.21         0         0"
            ]
          },
          "metadata": {
            "tags": []
          },
          "execution_count": 2
        }
      ]
    },
    {
      "cell_type": "markdown",
      "metadata": {
        "id": "nNxDoziuNHyY"
      },
      "source": [
        "## Data Exploration\n",
        "\n",
        "Before jumping into training a model on the data, let's explore it to get a better sense of the relationships between our features and the target variable."
      ]
    },
    {
      "cell_type": "markdown",
      "metadata": {
        "id": "Xtb9mBARNHyZ"
      },
      "source": [
        "### Call the Pandas `describe()` method on the data frame to get view the average values and variability for each variable."
      ]
    },
    {
      "cell_type": "code",
      "metadata": {
        "id": "MemXRhIFNHya",
        "outputId": "3e3ac954-d1a2-4ffa-f6a9-5addfb100c63",
        "colab": {
          "base_uri": "https://localhost:8080/",
          "height": 287
        }
      },
      "source": [
        "data.describe()"
      ],
      "execution_count": 3,
      "outputs": [
        {
          "output_type": "execute_result",
          "data": {
            "text/html": [
              "<div>\n",
              "<style scoped>\n",
              "    .dataframe tbody tr th:only-of-type {\n",
              "        vertical-align: middle;\n",
              "    }\n",
              "\n",
              "    .dataframe tbody tr th {\n",
              "        vertical-align: top;\n",
              "    }\n",
              "\n",
              "    .dataframe thead th {\n",
              "        text-align: right;\n",
              "    }\n",
              "</style>\n",
              "<table border=\"1\" class=\"dataframe\">\n",
              "  <thead>\n",
              "    <tr style=\"text-align: right;\">\n",
              "      <th></th>\n",
              "      <th>GRE</th>\n",
              "      <th>TOEFL</th>\n",
              "      <th>SchoolRank</th>\n",
              "      <th>SOP</th>\n",
              "      <th>LOR</th>\n",
              "      <th>GPA</th>\n",
              "      <th>Research</th>\n",
              "      <th>Admitted</th>\n",
              "    </tr>\n",
              "  </thead>\n",
              "  <tbody>\n",
              "    <tr>\n",
              "      <th>count</th>\n",
              "      <td>400.000000</td>\n",
              "      <td>400.000000</td>\n",
              "      <td>400.000000</td>\n",
              "      <td>400.000000</td>\n",
              "      <td>400.000000</td>\n",
              "      <td>400.000000</td>\n",
              "      <td>400.000000</td>\n",
              "      <td>400.000000</td>\n",
              "    </tr>\n",
              "    <tr>\n",
              "      <th>mean</th>\n",
              "      <td>316.807500</td>\n",
              "      <td>107.410000</td>\n",
              "      <td>3.087500</td>\n",
              "      <td>3.400000</td>\n",
              "      <td>3.452500</td>\n",
              "      <td>8.598925</td>\n",
              "      <td>0.547500</td>\n",
              "      <td>0.617500</td>\n",
              "    </tr>\n",
              "    <tr>\n",
              "      <th>std</th>\n",
              "      <td>11.473646</td>\n",
              "      <td>6.069514</td>\n",
              "      <td>1.143728</td>\n",
              "      <td>1.006869</td>\n",
              "      <td>0.898478</td>\n",
              "      <td>0.596317</td>\n",
              "      <td>0.498362</td>\n",
              "      <td>0.486606</td>\n",
              "    </tr>\n",
              "    <tr>\n",
              "      <th>min</th>\n",
              "      <td>290.000000</td>\n",
              "      <td>92.000000</td>\n",
              "      <td>1.000000</td>\n",
              "      <td>1.000000</td>\n",
              "      <td>1.000000</td>\n",
              "      <td>6.800000</td>\n",
              "      <td>0.000000</td>\n",
              "      <td>0.000000</td>\n",
              "    </tr>\n",
              "    <tr>\n",
              "      <th>25%</th>\n",
              "      <td>308.000000</td>\n",
              "      <td>103.000000</td>\n",
              "      <td>2.000000</td>\n",
              "      <td>2.500000</td>\n",
              "      <td>3.000000</td>\n",
              "      <td>8.170000</td>\n",
              "      <td>0.000000</td>\n",
              "      <td>0.000000</td>\n",
              "    </tr>\n",
              "    <tr>\n",
              "      <th>50%</th>\n",
              "      <td>317.000000</td>\n",
              "      <td>107.000000</td>\n",
              "      <td>3.000000</td>\n",
              "      <td>3.500000</td>\n",
              "      <td>3.500000</td>\n",
              "      <td>8.610000</td>\n",
              "      <td>1.000000</td>\n",
              "      <td>1.000000</td>\n",
              "    </tr>\n",
              "    <tr>\n",
              "      <th>75%</th>\n",
              "      <td>325.000000</td>\n",
              "      <td>112.000000</td>\n",
              "      <td>4.000000</td>\n",
              "      <td>4.000000</td>\n",
              "      <td>4.000000</td>\n",
              "      <td>9.062500</td>\n",
              "      <td>1.000000</td>\n",
              "      <td>1.000000</td>\n",
              "    </tr>\n",
              "    <tr>\n",
              "      <th>max</th>\n",
              "      <td>340.000000</td>\n",
              "      <td>120.000000</td>\n",
              "      <td>5.000000</td>\n",
              "      <td>5.000000</td>\n",
              "      <td>5.000000</td>\n",
              "      <td>9.920000</td>\n",
              "      <td>1.000000</td>\n",
              "      <td>1.000000</td>\n",
              "    </tr>\n",
              "  </tbody>\n",
              "</table>\n",
              "</div>"
            ],
            "text/plain": [
              "              GRE       TOEFL  SchoolRank  ...         GPA    Research    Admitted\n",
              "count  400.000000  400.000000  400.000000  ...  400.000000  400.000000  400.000000\n",
              "mean   316.807500  107.410000    3.087500  ...    8.598925    0.547500    0.617500\n",
              "std     11.473646    6.069514    1.143728  ...    0.596317    0.498362    0.486606\n",
              "min    290.000000   92.000000    1.000000  ...    6.800000    0.000000    0.000000\n",
              "25%    308.000000  103.000000    2.000000  ...    8.170000    0.000000    0.000000\n",
              "50%    317.000000  107.000000    3.000000  ...    8.610000    1.000000    1.000000\n",
              "75%    325.000000  112.000000    4.000000  ...    9.062500    1.000000    1.000000\n",
              "max    340.000000  120.000000    5.000000  ...    9.920000    1.000000    1.000000\n",
              "\n",
              "[8 rows x 8 columns]"
            ]
          },
          "metadata": {
            "tags": []
          },
          "execution_count": 3
        }
      ]
    },
    {
      "cell_type": "markdown",
      "metadata": {
        "id": "Yk6ksePiNHye"
      },
      "source": [
        "### Group the data by the Admitted field and compute the average values for each field."
      ]
    },
    {
      "cell_type": "code",
      "metadata": {
        "id": "Uf8_rZozNHyf",
        "outputId": "261c3fc4-3576-4be8-ddb1-cd7a7de67760",
        "colab": {
          "base_uri": "https://localhost:8080/",
          "height": 137
        }
      },
      "source": [
        "data.groupby(by=['Admitted']).mean()"
      ],
      "execution_count": 4,
      "outputs": [
        {
          "output_type": "execute_result",
          "data": {
            "text/html": [
              "<div>\n",
              "<style scoped>\n",
              "    .dataframe tbody tr th:only-of-type {\n",
              "        vertical-align: middle;\n",
              "    }\n",
              "\n",
              "    .dataframe tbody tr th {\n",
              "        vertical-align: top;\n",
              "    }\n",
              "\n",
              "    .dataframe thead th {\n",
              "        text-align: right;\n",
              "    }\n",
              "</style>\n",
              "<table border=\"1\" class=\"dataframe\">\n",
              "  <thead>\n",
              "    <tr style=\"text-align: right;\">\n",
              "      <th></th>\n",
              "      <th>GRE</th>\n",
              "      <th>TOEFL</th>\n",
              "      <th>SchoolRank</th>\n",
              "      <th>SOP</th>\n",
              "      <th>LOR</th>\n",
              "      <th>GPA</th>\n",
              "      <th>Research</th>\n",
              "    </tr>\n",
              "    <tr>\n",
              "      <th>Admitted</th>\n",
              "      <th></th>\n",
              "      <th></th>\n",
              "      <th></th>\n",
              "      <th></th>\n",
              "      <th></th>\n",
              "      <th></th>\n",
              "      <th></th>\n",
              "    </tr>\n",
              "  </thead>\n",
              "  <tbody>\n",
              "    <tr>\n",
              "      <th>0</th>\n",
              "      <td>307.013072</td>\n",
              "      <td>102.588235</td>\n",
              "      <td>2.261438</td>\n",
              "      <td>2.741830</td>\n",
              "      <td>2.875817</td>\n",
              "      <td>8.087974</td>\n",
              "      <td>0.248366</td>\n",
              "    </tr>\n",
              "    <tr>\n",
              "      <th>1</th>\n",
              "      <td>322.874494</td>\n",
              "      <td>110.396761</td>\n",
              "      <td>3.599190</td>\n",
              "      <td>3.807692</td>\n",
              "      <td>3.809717</td>\n",
              "      <td>8.915425</td>\n",
              "      <td>0.732794</td>\n",
              "    </tr>\n",
              "  </tbody>\n",
              "</table>\n",
              "</div>"
            ],
            "text/plain": [
              "                 GRE       TOEFL  SchoolRank  ...       LOR       GPA  Research\n",
              "Admitted                                      ...                              \n",
              "0         307.013072  102.588235    2.261438  ...  2.875817  8.087974  0.248366\n",
              "1         322.874494  110.396761    3.599190  ...  3.809717  8.915425  0.732794\n",
              "\n",
              "[2 rows x 7 columns]"
            ]
          },
          "metadata": {
            "tags": []
          },
          "execution_count": 4
        }
      ]
    },
    {
      "cell_type": "markdown",
      "metadata": {
        "id": "9XfQw8jrNHyi"
      },
      "source": [
        "### How many students that applied were admitted vs. not admitted? What percentage of students were admitted vs. not admitted? "
      ]
    },
    {
      "cell_type": "code",
      "metadata": {
        "id": "CXttCEavNHyi",
        "outputId": "1d7969ee-257e-414c-b71c-d1b7e1b31477",
        "colab": {
          "base_uri": "https://localhost:8080/",
          "height": 70
        }
      },
      "source": [
        "data.Admitted.value_counts()"
      ],
      "execution_count": 5,
      "outputs": [
        {
          "output_type": "execute_result",
          "data": {
            "text/plain": [
              "1    247\n",
              "0    153\n",
              "Name: Admitted, dtype: int64"
            ]
          },
          "metadata": {
            "tags": []
          },
          "execution_count": 5
        }
      ]
    },
    {
      "cell_type": "code",
      "metadata": {
        "id": "AIufMZkcGdhf",
        "outputId": "ab3cb63e-70a1-4bda-819f-8698ebcbec50",
        "colab": {
          "base_uri": "https://localhost:8080/",
          "height": 52
        }
      },
      "source": [
        "# data.shape\n",
        "print(f'{round(247/400*100, 2)}% of students were admitted')\n",
        "print(f'{153/400*100}% of students were not admitted')"
      ],
      "execution_count": 6,
      "outputs": [
        {
          "output_type": "stream",
          "text": [
            "61.75% of students were admitted\n",
            "38.25% of students were not admitted\n"
          ],
          "name": "stdout"
        }
      ]
    },
    {
      "cell_type": "markdown",
      "metadata": {
        "id": "V5BbRmfkNHyl"
      },
      "source": [
        "### What percent of students with research experience were admitted?"
      ]
    },
    {
      "cell_type": "code",
      "metadata": {
        "id": "a214ofAdNHyl",
        "outputId": "2c128b63-e6ea-4d68-ad65-208bd5b5204c",
        "colab": {
          "base_uri": "https://localhost:8080/",
          "height": 34
        }
      },
      "source": [
        "res_admit = data[(data['Research']==1) & (data['Admitted'] == 1)].shape[0]\n",
        "res_total = data[(data['Research']==1)].shape[0]\n",
        "print(f'{round(res_admit/res_total * 100, 2)}% of students with research experience were admitted')"
      ],
      "execution_count": 7,
      "outputs": [
        {
          "output_type": "stream",
          "text": [
            "82.65% of students with research experience were admitted\n"
          ],
          "name": "stdout"
        }
      ]
    },
    {
      "cell_type": "markdown",
      "metadata": {
        "id": "Pdq0lx3QNHyo"
      },
      "source": [
        "### What percent of students admitted had research experience?"
      ]
    },
    {
      "cell_type": "code",
      "metadata": {
        "id": "XcDAB45VNHyp",
        "outputId": "f659b622-ccb4-487b-df1f-a8aa2d88d222",
        "colab": {
          "base_uri": "https://localhost:8080/",
          "height": 34
        }
      },
      "source": [
        "stu_total = data.shape[0]\n",
        "res_total = data[(data['Research']==1)].shape[0]\n",
        "print(f'{round(res_total/stu_total * 100, 2)}% of students had research experience')"
      ],
      "execution_count": 8,
      "outputs": [
        {
          "output_type": "stream",
          "text": [
            "54.75% of students had research experience\n"
          ],
          "name": "stdout"
        }
      ]
    },
    {
      "cell_type": "markdown",
      "metadata": {
        "id": "zP0nXko8NHys"
      },
      "source": [
        "### Generate a grouped bar chart showing the number of admissions by SOP score, with separate bars for admitted and not admitted."
      ]
    },
    {
      "cell_type": "code",
      "metadata": {
        "id": "stIQrdbiZVgC",
        "outputId": "5f9b8b22-92ef-4eb9-9198-2bc0d87aabc2",
        "colab": {
          "base_uri": "https://localhost:8080/",
          "height": 294
        }
      },
      "source": [
        "ax = sns.countplot(x='SOP', hue='Admitted', data=data)\n",
        "ax.legend(['Not admitted', 'Admitted'], loc='upper left')\n",
        "plt.ylabel('Number of students')\n",
        "plt.xlabel('SOP score')\n",
        "plt.title('Admissions by SOP score')\n",
        "plt.show()"
      ],
      "execution_count": 29,
      "outputs": [
        {
          "output_type": "display_data",
          "data": {
            "image/png": "[encoded data removed]",
            "text/plain": [
              "<Figure size 432x288 with 1 Axes>"
            ]
          },
          "metadata": {
            "tags": [],
            "needs_background": "light"
          }
        }
      ]
    },
    {
      "cell_type": "markdown",
      "metadata": {
        "id": "rNSpalR0NHyv"
      },
      "source": [
        "### Generate a grouped bar chart showing the number of admissions by LOR score, with separate bars for admitted and not admitted."
      ]
    },
    {
      "cell_type": "code",
      "metadata": {
        "id": "LXYPYdFLNHyv",
        "outputId": "57656c71-54e1-4f57-fe22-8eac4fdbced6",
        "colab": {
          "base_uri": "https://localhost:8080/",
          "height": 294
        }
      },
      "source": [
        "ax = sns.countplot(x='LOR', hue='Admitted', data=data)\n",
        "ax.legend(['Not admitted', 'Admitted'], loc='upper left')\n",
        "plt.ylabel('Number of students')\n",
        "plt.xlabel('LOR score')\n",
        "plt.title('Admissions by LOR score')\n",
        "plt.show()"
      ],
      "execution_count": 28,
      "outputs": [
        {
          "output_type": "display_data",
          "data": {
            "image/png": "[encoded data removed]",
            "text/plain": [
              "<Figure size 432x288 with 1 Axes>"
            ]
          },
          "metadata": {
            "tags": [],
            "needs_background": "light"
          }
        }
      ]
    },
    {
      "cell_type": "markdown",
      "metadata": {
        "id": "8_Z5sqWwNHyx"
      },
      "source": [
        "### Generate a scatter plot where the axes are GRE and TOEFL fields and the data points are color-coded by whether the student was admitted.\n",
        "\n",
        "Think about how you might go about determining the decision boundary to separate admitted from non-admitted students."
      ]
    },
    {
      "cell_type": "code",
      "metadata": {
        "id": "B9wQfCkgNHyy",
        "outputId": "49e6bb35-8492-4ac1-d53e-ceb74c1b3e58",
        "colab": {
          "base_uri": "https://localhost:8080/",
          "height": 334
        }
      },
      "source": [
        "fig, ax = plt.subplots(figsize = (5,5))\n",
        "sns.scatterplot(x ='GRE', y = 'TOEFL', hue='Admitted', ax=ax, data=data)\n",
        "plt.xlabel('GRE Score')\n",
        "plt.ylabel('TOEFL Score')\n",
        "plt.show()"
      ],
      "execution_count": 11,
      "outputs": [
        {
          "output_type": "display_data",
          "data": {
            "image/png": "[encoded data removed]",
            "text/plain": [
              "<Figure size 360x360 with 1 Axes>"
            ]
          },
          "metadata": {
            "tags": [],
            "needs_background": "light"
          }
        }
      ]
    },
    {
      "cell_type": "markdown",
      "metadata": {
        "id": "isAcJAkpNHy2"
      },
      "source": [
        "### Generate a scatter plot where the axes are GPA and TOEFL fields and the data points are color-coded by whether the student was admitted.\n",
        "\n",
        "Think about how you might go about determining the decision boundary to separate admitted from non-admitted students."
      ]
    },
    {
      "cell_type": "code",
      "metadata": {
        "id": "sZRB7oSKNHy2",
        "outputId": "c3fa3fb9-f94f-46dc-8ba2-8047d20d3134",
        "colab": {
          "base_uri": "https://localhost:8080/",
          "height": 334
        }
      },
      "source": [
        "fig, ax = plt.subplots(figsize = (5,5))\n",
        "sns.scatterplot(x ='GPA', y = 'TOEFL', hue='Admitted', ax=ax, data=data)\n",
        "plt.xlabel('GRE Score')\n",
        "plt.ylabel('TOEFL Score')\n",
        "plt.show()"
      ],
      "execution_count": 12,
      "outputs": [
        {
          "output_type": "display_data",
          "data": {
            "image/png": "[encoded data removed]",
            "text/plain": [
              "<Figure size 360x360 with 1 Axes>"
            ]
          },
          "metadata": {
            "tags": [],
            "needs_background": "light"
          }
        }
      ]
    },
    {
      "cell_type": "markdown",
      "metadata": {
        "id": "VMeb2uIiNHy4"
      },
      "source": [
        "### Generate a scatter plot where the axes are GRE and GPA fields and the data points are color-coded by whether the student was admitted.\n",
        "\n",
        "Think about how you might go about determining the decision boundary to separate admitted from non-admitted students."
      ]
    },
    {
      "cell_type": "code",
      "metadata": {
        "id": "b6ZhHk8KNHy5",
        "outputId": "726ccf39-1648-40d5-8ec5-c036f74cc707",
        "colab": {
          "base_uri": "https://localhost:8080/",
          "height": 334
        }
      },
      "source": [
        "fig, ax = plt.subplots(figsize = (5,5))\n",
        "sns.scatterplot(x ='GRE', y = 'GPA', hue='Admitted', ax=ax, data=data)\n",
        "plt.xlabel('GRE Score')\n",
        "plt.ylabel('TOEFL Score')\n",
        "plt.show()"
      ],
      "execution_count": 13,
      "outputs": [
        {
          "output_type": "display_data",
          "data": {
            "image/png": "[encoded data removed]",
            "text/plain": [
              "<Figure size 360x360 with 1 Axes>"
            ]
          },
          "metadata": {
            "tags": [],
            "needs_background": "light"
          }
        }
      ]
    },
    {
      "cell_type": "markdown",
      "metadata": {
        "id": "Qq_rf_7DNHy8"
      },
      "source": [
        "## Model Training and Evaluation\n",
        "\n",
        "Now that we have gained a sense of familiarity with our data, let's train a model to predict admissions."
      ]
    },
    {
      "cell_type": "markdown",
      "metadata": {
        "id": "-H-fgAcvovQg"
      },
      "source": [
        "### Split the data into a training and test sets, where the test set contains 20% of the data."
      ]
    },
    {
      "cell_type": "code",
      "metadata": {
        "id": "Fjauxq1WovQg"
      },
      "source": [
        "from sklearn.model_selection import train_test_split\n",
        "\n",
        "X = data.drop('Admitted', axis=1)\n",
        "y = data['Admitted']\n",
        "\n",
        "X_train, X_test, y_train, y_test = train_test_split(X,y, test_size=.2)"
      ],
      "execution_count": 14,
      "outputs": []
    },
    {
      "cell_type": "markdown",
      "metadata": {
        "id": "Dqv8gMI-ovQi"
      },
      "source": [
        "### Use the linear kernel to train a Support Vector Classifier (SVC) model on the training data. Report the scores for both the training and test data."
      ]
    },
    {
      "cell_type": "code",
      "metadata": {
        "id": "Fw3loKixovQi",
        "outputId": "39fa0f18-d91c-4b30-9abb-79eba2255c9b",
        "colab": {
          "base_uri": "https://localhost:8080/",
          "height": 87
        }
      },
      "source": [
        "from sklearn.svm import SVC\n",
        "svm = SVC(kernel='linear')\n",
        "svm.fit(X_train, y_train)"
      ],
      "execution_count": 15,
      "outputs": [
        {
          "output_type": "execute_result",
          "data": {
            "text/plain": [
              "SVC(C=1.0, break_ties=False, cache_size=200, class_weight=None, coef0=0.0,\n",
              "    decision_function_shape='ovr', degree=3, gamma='scale', kernel='linear',\n",
              "    max_iter=-1, probability=False, random_state=None, shrinking=True,\n",
              "    tol=0.001, verbose=False)"
            ]
          },
          "metadata": {
            "tags": []
          },
          "execution_count": 15
        }
      ]
    },
    {
      "cell_type": "code",
      "metadata": {
        "id": "j39gM41NaniF",
        "outputId": "8777dae1-88dd-4ede-9db8-3df3e3f0b297",
        "colab": {
          "base_uri": "https://localhost:8080/",
          "height": 52
        }
      },
      "source": [
        "print('Training score: ', svm.score(X_train, y_train))\n",
        "print('Test score: ', svm.score(X_test, y_test))"
      ],
      "execution_count": 16,
      "outputs": [
        {
          "output_type": "stream",
          "text": [
            "Training score:  0.890625\n",
            "Test score:  0.875\n"
          ],
          "name": "stdout"
        }
      ]
    },
    {
      "cell_type": "markdown",
      "metadata": {
        "id": "bfwaWwwRNHzC"
      },
      "source": [
        "### Generate a classification report for the SVC model you trained.\n",
        "\n",
        "How do the evaluation metrics differ across classes?"
      ]
    },
    {
      "cell_type": "code",
      "metadata": {
        "id": "tQwTuoggNHzD",
        "outputId": "0c2b4798-2bfb-4995-a6b6-9e7b43d40de9",
        "colab": {
          "base_uri": "https://localhost:8080/",
          "height": 336
        }
      },
      "source": [
        "from sklearn.metrics import classification_report\n",
        "y_train_pred = svm.predict(X_train)\n",
        "y_test_pred = svm.predict(X_test)\n",
        "\n",
        "train_rep = classification_report(y_train, y_train_pred)\n",
        "test_rep = classification_report(y_test, y_test_pred)\n",
        "\n",
        "print(train_rep)\n",
        "print(test_rep)"
      ],
      "execution_count": 17,
      "outputs": [
        {
          "output_type": "stream",
          "text": [
            "              precision    recall  f1-score   support\n",
            "\n",
            "           0       0.85      0.86      0.85       118\n",
            "           1       0.92      0.91      0.91       202\n",
            "\n",
            "    accuracy                           0.89       320\n",
            "   macro avg       0.88      0.88      0.88       320\n",
            "weighted avg       0.89      0.89      0.89       320\n",
            "\n",
            "              precision    recall  f1-score   support\n",
            "\n",
            "           0       0.96      0.74      0.84        35\n",
            "           1       0.83      0.98      0.90        45\n",
            "\n",
            "    accuracy                           0.88        80\n",
            "   macro avg       0.90      0.86      0.87        80\n",
            "weighted avg       0.89      0.88      0.87        80\n",
            "\n"
          ],
          "name": "stdout"
        }
      ]
    }
  ]
}