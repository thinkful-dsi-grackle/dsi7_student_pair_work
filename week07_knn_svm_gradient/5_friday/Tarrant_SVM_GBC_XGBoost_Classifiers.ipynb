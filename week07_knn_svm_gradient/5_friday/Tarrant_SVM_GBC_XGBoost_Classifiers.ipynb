{
  "nbformat": 4,
  "nbformat_minor": 0,
  "metadata": {
    "kernelspec": {
      "display_name": "Python 3",
      "language": "python",
      "name": "python3"
    },
    "language_info": {
      "codemirror_mode": {
        "name": "ipython",
        "version": 3
      },
      "file_extension": ".py",
      "mimetype": "text/x-python",
      "name": "python",
      "nbconvert_exporter": "python",
      "pygments_lexer": "ipython3",
      "version": "3.7.0"
    },
    "colab": {
      "name": "Tarrant_SVM_GBC_XGBoost_Classifiers.ipynb",
      "provenance": [],
      "collapsed_sections": []
    }
  },
  "cells": [
    {
      "cell_type": "markdown",
      "metadata": {
        "id": "dSoIEkGEtESB"
      },
      "source": [
        "## Day 35 Lecture 2 Assignment\n",
        "\n",
        "In this assignment, we will combine what we have learned so far about classification algorithms this week."
      ]
    },
    {
      "cell_type": "code",
      "metadata": {
        "id": "-5YT-oMVtESC"
      },
      "source": [
        "import numpy as np\n",
        "import pandas as pd\n",
        "\n",
        "import matplotlib.pyplot as plt\n",
        "\n",
        "%matplotlib inline"
      ],
      "execution_count": 1,
      "outputs": []
    },
    {
      "cell_type": "code",
      "metadata": {
        "id": "B_y2kppttESD"
      },
      "source": [
        "admission = pd.read_csv('https://tf-assets-prod.s3.amazonaws.com/tf-curric/data-science/Admission_Predict.csv')"
      ],
      "execution_count": 2,
      "outputs": []
    },
    {
      "cell_type": "code",
      "metadata": {
        "id": "gz4Ocl5wtESF",
        "outputId": "5c6e22af-4c3b-4aae-afca-e2e17d2723b2",
        "colab": {
          "base_uri": "https://localhost:8080/",
          "height": 204
        }
      },
      "source": [
        "admission.head()"
      ],
      "execution_count": 3,
      "outputs": [
        {
          "output_type": "execute_result",
          "data": {
            "text/html": [
              "<div>\n",
              "<style scoped>\n",
              "    .dataframe tbody tr th:only-of-type {\n",
              "        vertical-align: middle;\n",
              "    }\n",
              "\n",
              "    .dataframe tbody tr th {\n",
              "        vertical-align: top;\n",
              "    }\n",
              "\n",
              "    .dataframe thead th {\n",
              "        text-align: right;\n",
              "    }\n",
              "</style>\n",
              "<table border=\"1\" class=\"dataframe\">\n",
              "  <thead>\n",
              "    <tr style=\"text-align: right;\">\n",
              "      <th></th>\n",
              "      <th>Serial No.</th>\n",
              "      <th>GRE Score</th>\n",
              "      <th>TOEFL Score</th>\n",
              "      <th>University Rating</th>\n",
              "      <th>SOP</th>\n",
              "      <th>LOR</th>\n",
              "      <th>CGPA</th>\n",
              "      <th>Research</th>\n",
              "      <th>Chance of Admit</th>\n",
              "    </tr>\n",
              "  </thead>\n",
              "  <tbody>\n",
              "    <tr>\n",
              "      <th>0</th>\n",
              "      <td>1</td>\n",
              "      <td>337</td>\n",
              "      <td>118</td>\n",
              "      <td>4</td>\n",
              "      <td>4.5</td>\n",
              "      <td>4.5</td>\n",
              "      <td>9.65</td>\n",
              "      <td>1</td>\n",
              "      <td>0.92</td>\n",
              "    </tr>\n",
              "    <tr>\n",
              "      <th>1</th>\n",
              "      <td>2</td>\n",
              "      <td>324</td>\n",
              "      <td>107</td>\n",
              "      <td>4</td>\n",
              "      <td>4.0</td>\n",
              "      <td>4.5</td>\n",
              "      <td>8.87</td>\n",
              "      <td>1</td>\n",
              "      <td>0.76</td>\n",
              "    </tr>\n",
              "    <tr>\n",
              "      <th>2</th>\n",
              "      <td>3</td>\n",
              "      <td>316</td>\n",
              "      <td>104</td>\n",
              "      <td>3</td>\n",
              "      <td>3.0</td>\n",
              "      <td>3.5</td>\n",
              "      <td>8.00</td>\n",
              "      <td>1</td>\n",
              "      <td>0.72</td>\n",
              "    </tr>\n",
              "    <tr>\n",
              "      <th>3</th>\n",
              "      <td>4</td>\n",
              "      <td>322</td>\n",
              "      <td>110</td>\n",
              "      <td>3</td>\n",
              "      <td>3.5</td>\n",
              "      <td>2.5</td>\n",
              "      <td>8.67</td>\n",
              "      <td>1</td>\n",
              "      <td>0.80</td>\n",
              "    </tr>\n",
              "    <tr>\n",
              "      <th>4</th>\n",
              "      <td>5</td>\n",
              "      <td>314</td>\n",
              "      <td>103</td>\n",
              "      <td>2</td>\n",
              "      <td>2.0</td>\n",
              "      <td>3.0</td>\n",
              "      <td>8.21</td>\n",
              "      <td>0</td>\n",
              "      <td>0.65</td>\n",
              "    </tr>\n",
              "  </tbody>\n",
              "</table>\n",
              "</div>"
            ],
            "text/plain": [
              "   Serial No.  GRE Score  TOEFL Score  ...  CGPA  Research  Chance of Admit \n",
              "0           1        337          118  ...  9.65         1              0.92\n",
              "1           2        324          107  ...  8.87         1              0.76\n",
              "2           3        316          104  ...  8.00         1              0.72\n",
              "3           4        322          110  ...  8.67         1              0.80\n",
              "4           5        314          103  ...  8.21         0              0.65\n",
              "\n",
              "[5 rows x 9 columns]"
            ]
          },
          "metadata": {
            "tags": []
          },
          "execution_count": 3
        }
      ]
    },
    {
      "cell_type": "markdown",
      "metadata": {
        "id": "jcRQ0iIQtESH"
      },
      "source": [
        "In this assignment, we will predict the probability of a student being admitted to a PhD program given their stats. To make the predictions, find the median for the Chance of Admit column. Create an admit column where all probabilities above the median will receive a 1 for that column and all probabilities below the median will be a zero.\n",
        "\n",
        "Below you will process and clean the data, try the SVM classifier, the gradient boosted decision tree classifier and XGBoost, and compare your results.\n",
        "\n",
        "Have fun!"
      ]
    },
    {
      "cell_type": "code",
      "metadata": {
        "id": "BccfFh0JtESH",
        "outputId": "404e9c57-bbe5-44fa-9106-0763302b23a7",
        "colab": {
          "base_uri": "https://localhost:8080/"
        }
      },
      "source": [
        "# Answer below:\n",
        "admission.info()"
      ],
      "execution_count": 4,
      "outputs": [
        {
          "output_type": "stream",
          "text": [
            "<class 'pandas.core.frame.DataFrame'>\n",
            "RangeIndex: 400 entries, 0 to 399\n",
            "Data columns (total 9 columns):\n",
            " #   Column             Non-Null Count  Dtype  \n",
            "---  ------             --------------  -----  \n",
            " 0   Serial No.         400 non-null    int64  \n",
            " 1   GRE Score          400 non-null    int64  \n",
            " 2   TOEFL Score        400 non-null    int64  \n",
            " 3   University Rating  400 non-null    int64  \n",
            " 4   SOP                400 non-null    float64\n",
            " 5   LOR                400 non-null    float64\n",
            " 6   CGPA               400 non-null    float64\n",
            " 7   Research           400 non-null    int64  \n",
            " 8   Chance of Admit    400 non-null    float64\n",
            "dtypes: float64(4), int64(5)\n",
            "memory usage: 28.2 KB\n"
          ],
          "name": "stdout"
        }
      ]
    },
    {
      "cell_type": "code",
      "metadata": {
        "id": "Zz03Y407tESJ",
        "outputId": "aa7d90b3-da91-4b14-a88c-850296e63c16",
        "colab": {
          "base_uri": "https://localhost:8080/",
          "height": 297
        }
      },
      "source": [
        "admission.describe()"
      ],
      "execution_count": 5,
      "outputs": [
        {
          "output_type": "execute_result",
          "data": {
            "text/html": [
              "<div>\n",
              "<style scoped>\n",
              "    .dataframe tbody tr th:only-of-type {\n",
              "        vertical-align: middle;\n",
              "    }\n",
              "\n",
              "    .dataframe tbody tr th {\n",
              "        vertical-align: top;\n",
              "    }\n",
              "\n",
              "    .dataframe thead th {\n",
              "        text-align: right;\n",
              "    }\n",
              "</style>\n",
              "<table border=\"1\" class=\"dataframe\">\n",
              "  <thead>\n",
              "    <tr style=\"text-align: right;\">\n",
              "      <th></th>\n",
              "      <th>Serial No.</th>\n",
              "      <th>GRE Score</th>\n",
              "      <th>TOEFL Score</th>\n",
              "      <th>University Rating</th>\n",
              "      <th>SOP</th>\n",
              "      <th>LOR</th>\n",
              "      <th>CGPA</th>\n",
              "      <th>Research</th>\n",
              "      <th>Chance of Admit</th>\n",
              "    </tr>\n",
              "  </thead>\n",
              "  <tbody>\n",
              "    <tr>\n",
              "      <th>count</th>\n",
              "      <td>400.000000</td>\n",
              "      <td>400.000000</td>\n",
              "      <td>400.000000</td>\n",
              "      <td>400.000000</td>\n",
              "      <td>400.000000</td>\n",
              "      <td>400.000000</td>\n",
              "      <td>400.000000</td>\n",
              "      <td>400.000000</td>\n",
              "      <td>400.000000</td>\n",
              "    </tr>\n",
              "    <tr>\n",
              "      <th>mean</th>\n",
              "      <td>200.500000</td>\n",
              "      <td>316.807500</td>\n",
              "      <td>107.410000</td>\n",
              "      <td>3.087500</td>\n",
              "      <td>3.400000</td>\n",
              "      <td>3.452500</td>\n",
              "      <td>8.598925</td>\n",
              "      <td>0.547500</td>\n",
              "      <td>0.724350</td>\n",
              "    </tr>\n",
              "    <tr>\n",
              "      <th>std</th>\n",
              "      <td>115.614301</td>\n",
              "      <td>11.473646</td>\n",
              "      <td>6.069514</td>\n",
              "      <td>1.143728</td>\n",
              "      <td>1.006869</td>\n",
              "      <td>0.898478</td>\n",
              "      <td>0.596317</td>\n",
              "      <td>0.498362</td>\n",
              "      <td>0.142609</td>\n",
              "    </tr>\n",
              "    <tr>\n",
              "      <th>min</th>\n",
              "      <td>1.000000</td>\n",
              "      <td>290.000000</td>\n",
              "      <td>92.000000</td>\n",
              "      <td>1.000000</td>\n",
              "      <td>1.000000</td>\n",
              "      <td>1.000000</td>\n",
              "      <td>6.800000</td>\n",
              "      <td>0.000000</td>\n",
              "      <td>0.340000</td>\n",
              "    </tr>\n",
              "    <tr>\n",
              "      <th>25%</th>\n",
              "      <td>100.750000</td>\n",
              "      <td>308.000000</td>\n",
              "      <td>103.000000</td>\n",
              "      <td>2.000000</td>\n",
              "      <td>2.500000</td>\n",
              "      <td>3.000000</td>\n",
              "      <td>8.170000</td>\n",
              "      <td>0.000000</td>\n",
              "      <td>0.640000</td>\n",
              "    </tr>\n",
              "    <tr>\n",
              "      <th>50%</th>\n",
              "      <td>200.500000</td>\n",
              "      <td>317.000000</td>\n",
              "      <td>107.000000</td>\n",
              "      <td>3.000000</td>\n",
              "      <td>3.500000</td>\n",
              "      <td>3.500000</td>\n",
              "      <td>8.610000</td>\n",
              "      <td>1.000000</td>\n",
              "      <td>0.730000</td>\n",
              "    </tr>\n",
              "    <tr>\n",
              "      <th>75%</th>\n",
              "      <td>300.250000</td>\n",
              "      <td>325.000000</td>\n",
              "      <td>112.000000</td>\n",
              "      <td>4.000000</td>\n",
              "      <td>4.000000</td>\n",
              "      <td>4.000000</td>\n",
              "      <td>9.062500</td>\n",
              "      <td>1.000000</td>\n",
              "      <td>0.830000</td>\n",
              "    </tr>\n",
              "    <tr>\n",
              "      <th>max</th>\n",
              "      <td>400.000000</td>\n",
              "      <td>340.000000</td>\n",
              "      <td>120.000000</td>\n",
              "      <td>5.000000</td>\n",
              "      <td>5.000000</td>\n",
              "      <td>5.000000</td>\n",
              "      <td>9.920000</td>\n",
              "      <td>1.000000</td>\n",
              "      <td>0.970000</td>\n",
              "    </tr>\n",
              "  </tbody>\n",
              "</table>\n",
              "</div>"
            ],
            "text/plain": [
              "       Serial No.   GRE Score  ...    Research  Chance of Admit \n",
              "count  400.000000  400.000000  ...  400.000000        400.000000\n",
              "mean   200.500000  316.807500  ...    0.547500          0.724350\n",
              "std    115.614301   11.473646  ...    0.498362          0.142609\n",
              "min      1.000000  290.000000  ...    0.000000          0.340000\n",
              "25%    100.750000  308.000000  ...    0.000000          0.640000\n",
              "50%    200.500000  317.000000  ...    1.000000          0.730000\n",
              "75%    300.250000  325.000000  ...    1.000000          0.830000\n",
              "max    400.000000  340.000000  ...    1.000000          0.970000\n",
              "\n",
              "[8 rows x 9 columns]"
            ]
          },
          "metadata": {
            "tags": []
          },
          "execution_count": 5
        }
      ]
    },
    {
      "cell_type": "code",
      "metadata": {
        "id": "qXhVi4_Snk8N",
        "outputId": "2a8582c4-b359-4c60-f200-d802cffa9a07",
        "colab": {
          "base_uri": "https://localhost:8080/"
        }
      },
      "source": [
        "admission.columns"
      ],
      "execution_count": 6,
      "outputs": [
        {
          "output_type": "execute_result",
          "data": {
            "text/plain": [
              "Index(['Serial No.', 'GRE Score', 'TOEFL Score', 'University Rating', 'SOP',\n",
              "       'LOR ', 'CGPA', 'Research', 'Chance of Admit '],\n",
              "      dtype='object')"
            ]
          },
          "metadata": {
            "tags": []
          },
          "execution_count": 6
        }
      ]
    },
    {
      "cell_type": "code",
      "metadata": {
        "id": "7CIQePKqnRAp",
        "outputId": "7ca6bb87-2911-49f2-8221-52a595711602",
        "colab": {
          "base_uri": "https://localhost:8080/"
        }
      },
      "source": [
        "new_columns = ['Serial No.', 'GRE Score', 'TOEFL Score', 'University Rating', 'SOP',\n",
        "       'LOR', 'CGPA', 'Research', 'Chance of Admit']\n",
        "\n",
        "admission.columns = new_columns\n",
        "\n",
        "admission.columns"
      ],
      "execution_count": 13,
      "outputs": [
        {
          "output_type": "execute_result",
          "data": {
            "text/plain": [
              "Index(['Serial No.', 'GRE Score', 'TOEFL Score', 'University Rating', 'SOP',\n",
              "       'LOR', 'CGPA', 'Research', 'Chance of Admit'],\n",
              "      dtype='object')"
            ]
          },
          "metadata": {
            "tags": []
          },
          "execution_count": 13
        }
      ]
    },
    {
      "cell_type": "code",
      "metadata": {
        "id": "UAzEhfjNpfJs",
        "outputId": "43b91c15-30b5-4b64-8554-7f931f6d0b8b",
        "colab": {
          "base_uri": "https://localhost:8080/"
        }
      },
      "source": [
        "admission['Chance of Admit'].median()"
      ],
      "execution_count": 15,
      "outputs": [
        {
          "output_type": "execute_result",
          "data": {
            "text/plain": [
              "0.73"
            ]
          },
          "metadata": {
            "tags": []
          },
          "execution_count": 15
        }
      ]
    },
    {
      "cell_type": "code",
      "metadata": {
        "id": "ZMmyv1nepwSV",
        "outputId": "5d0d36a7-1a74-4fad-bc02-aa876bce53b5",
        "colab": {
          "base_uri": "https://localhost:8080/"
        }
      },
      "source": [
        "admission['Chance of Admit'] = np.where(admission['Chance of Admit'] >= 0.73,1,0)\n",
        "admission['Chance of Admit'].value_counts()"
      ],
      "execution_count": 17,
      "outputs": [
        {
          "output_type": "execute_result",
          "data": {
            "text/plain": [
              "1    204\n",
              "0    196\n",
              "Name: Chance of Admit, dtype: int64"
            ]
          },
          "metadata": {
            "tags": []
          },
          "execution_count": 17
        }
      ]
    },
    {
      "cell_type": "code",
      "metadata": {
        "id": "3-pDUIFYqMZ_"
      },
      "source": [
        "from sklearn.model_selection import train_test_split\n",
        "\n",
        "X = admission.drop('Chance of Admit', axis=1)\n",
        "y = admission['Chance of Admit']\n",
        "\n",
        "X_train, X_test, y_train, y_test = train_test_split(X, y, test_size=0.2)"
      ],
      "execution_count": 18,
      "outputs": []
    },
    {
      "cell_type": "code",
      "metadata": {
        "id": "Ulz7N3F8rMcU",
        "outputId": "be8fbc52-4e84-4936-8eaa-3b0f32af2029",
        "colab": {
          "base_uri": "https://localhost:8080/"
        }
      },
      "source": [
        "#svm model\n",
        "from sklearn.svm import SVC\n",
        "from sklearn.metrics import confusion_matrix, precision_score, recall_score\n",
        "from sklearn.ensemble import GradientBoostingClassifier\n",
        "from sklearn.model_selection import GridSearchCV\n",
        "from datetime import datetime\n",
        "\n",
        "start_time = datetime.now()\n",
        "svc = SVC(kernel='linear',C=10)\n",
        "\n",
        "svc.fit(X_train, y_train)\n",
        "end_time = datetime.now()\n",
        "\n",
        "print(\"Train score: \",svc.score(X_train, y_train))\n",
        "print(\"Test score: \",svc.score(X_test, y_test))\n",
        "print('Duration: {}'.format(end_time - start_time))"
      ],
      "execution_count": 20,
      "outputs": [
        {
          "output_type": "stream",
          "text": [
            "Train score:  0.884375\n",
            "Test score:  0.8625\n",
            "Duration: 0:00:03.828979\n"
          ],
          "name": "stdout"
        }
      ]
    },
    {
      "cell_type": "code",
      "metadata": {
        "id": "3pwlj4Hmvyx2",
        "outputId": "1e331ee8-3880-4c19-9601-460fe057c935",
        "colab": {
          "base_uri": "https://localhost:8080/"
        }
      },
      "source": [
        "start_time = datetime.now()\n",
        "param_grid = {'kernel': ['linear','rbf','poly'], 'C':np.arange(1,100,3)}\n",
        "\n",
        "svc = SVC()\n",
        "\n",
        "svc_grid = GridSearchCV(svc, param_grid=param_grid, scoring='accuracy', cv=3)\n",
        "\n",
        "svc_grid.fit(X_train, y_train)\n",
        "end_time = datetime.now()\n",
        "print('Duration: {}'.format(end_time - start_time))"
      ],
      "execution_count": 55,
      "outputs": [
        {
          "output_type": "stream",
          "text": [
            "Duration: 0:06:49.004888\n"
          ],
          "name": "stdout"
        }
      ]
    },
    {
      "cell_type": "code",
      "metadata": {
        "id": "Tk0Q4sNQwUgX",
        "outputId": "f2cf2946-90d3-41ec-dd19-dc7e2e88e713",
        "colab": {
          "base_uri": "https://localhost:8080/"
        }
      },
      "source": [
        "print(\"Best kernal SVC hyperpararmeter: \",svc_grid.best_estimator_.kernel)\n",
        "print(\"Best C SVC hyperpararmeter: \",svc_grid.best_estimator_.C)"
      ],
      "execution_count": 56,
      "outputs": [
        {
          "output_type": "stream",
          "text": [
            "Best kernal SVC hyperpararmeter:  linear\n",
            "Best C SVC hyperpararmeter:  7\n"
          ],
          "name": "stdout"
        }
      ]
    },
    {
      "cell_type": "code",
      "metadata": {
        "id": "DlTm0uQTwVyM",
        "outputId": "f712f801-1f1d-420a-adae-487d1a278e1f",
        "colab": {
          "base_uri": "https://localhost:8080/"
        }
      },
      "source": [
        "best_svc = SVC(kernel= 'linear', C=7)\n",
        "\n",
        "best_svc.fit(X_train, y_train)\n",
        "\n",
        "print(\"Best Hyperparameters SVC Train score: \",best_svc.score(X_train, y_train))\n",
        "print(\"Best Hyperparameters SVC Test score: \",best_svc.score(X_test, y_test))"
      ],
      "execution_count": 57,
      "outputs": [
        {
          "output_type": "stream",
          "text": [
            "Best Hyperparameters SVC Train score:  0.884375\n",
            "Best Hyperparameters SVC Test score:  0.8625\n"
          ],
          "name": "stdout"
        }
      ]
    },
    {
      "cell_type": "code",
      "metadata": {
        "id": "NbcE8KWUrUub",
        "outputId": "3cf9460f-bc7e-4082-f18d-3647142ff1c6",
        "colab": {
          "base_uri": "https://localhost:8080/"
        }
      },
      "source": [
        "start_time = datetime.now()\n",
        "gbc = GradientBoostingClassifier()\n",
        "\n",
        "gbc.fit(X_train, y_train)\n",
        "end_time = datetime.now()\n",
        "\n",
        "print(\"Train score: \",gbc.score(X_train, y_train))\n",
        "print(\"Test score: \",gbc.score(X_test, y_test))\n",
        "print('Duration: {}'.format(end_time - start_time))"
      ],
      "execution_count": 37,
      "outputs": [
        {
          "output_type": "stream",
          "text": [
            "Train score:  0.99375\n",
            "Test score:  0.875\n",
            "Duration: 0:00:00.110876\n"
          ],
          "name": "stdout"
        }
      ]
    },
    {
      "cell_type": "code",
      "metadata": {
        "id": "f9tT17QpwHmT",
        "outputId": "3114c890-9a1e-4c8a-f5ad-7076a4f18d10",
        "colab": {
          "base_uri": "https://localhost:8080/"
        }
      },
      "source": [
        "start_time = datetime.now()\n",
        "param_grid = {'learning_rate': np.arange(.01,.3,.01),'n_iter_no_change': [10],'n_estimators':[1000], 'max_depth': [2,3,], \n",
        "              'max_features': ['sqrt',.75,1]}\n",
        "\n",
        "gbc = GradientBoostingClassifier()\n",
        "\n",
        "gbc_grid = GridSearchCV(gbc, param_grid=param_grid, scoring='accuracy', cv=5)\n",
        "\n",
        "gbc_grid.fit(X_train, y_train)\n",
        "end_time = datetime.now()\n",
        "print('Duration: {}'.format(end_time - start_time))"
      ],
      "execution_count": 60,
      "outputs": [
        {
          "output_type": "stream",
          "text": [
            "Duration: 0:00:37.699742\n"
          ],
          "name": "stdout"
        }
      ]
    },
    {
      "cell_type": "code",
      "metadata": {
        "id": "GUCVLWb1wqiu",
        "outputId": "e2800351-ba45-4ab5-9d5c-e22b862d37a7",
        "colab": {
          "base_uri": "https://localhost:8080/"
        }
      },
      "source": [
        "print(\"Best learning rate GBC hyperpararmeter: \",gbc_grid.best_estimator_.learning_rate)\n",
        "print(\"Best max depth GBC hyperpararmeter: \",gbc_grid.best_estimator_.max_depth)\n",
        "print(\"Best max features GBC hyperpararmeter: \",gbc_grid.best_estimator_.max_features)"
      ],
      "execution_count": 61,
      "outputs": [
        {
          "output_type": "stream",
          "text": [
            "Best learning rate GBC hyperpararmeter:  0.060000000000000005\n",
            "Best max depth GBC hyperpararmeter:  2\n",
            "Best max features GBC hyperpararmeter:  1\n"
          ],
          "name": "stdout"
        }
      ]
    },
    {
      "cell_type": "code",
      "metadata": {
        "id": "0KH8cHdvwtj3",
        "outputId": "5dfdabf2-eaf9-4c18-b102-6dfb0fdd0d00",
        "colab": {
          "base_uri": "https://localhost:8080/"
        }
      },
      "source": [
        "best_gbc = GradientBoostingClassifier(learning_rate=.06,n_iter_no_change=10,n_estimators=1000, max_depth=2, max_features=1)\n",
        "\n",
        "best_gbc.fit(X_train, y_train)\n",
        "\n",
        "print(\"Best Hyperparameters GBC Train score: \",best_gbc.score(X_train, y_train))\n",
        "print(\"Best Hyperparameters GBC Test score: \",best_gbc.score(X_test, y_test))"
      ],
      "execution_count": 62,
      "outputs": [
        {
          "output_type": "stream",
          "text": [
            "Best Hyperparameters GBC Train score:  0.928125\n",
            "Best Hyperparameters GBC Test score:  0.8875\n"
          ],
          "name": "stdout"
        }
      ]
    },
    {
      "cell_type": "code",
      "metadata": {
        "id": "C0mnOxgosNLN",
        "outputId": "50a56a7c-fcf7-406b-b798-3f7bcc2836c6",
        "colab": {
          "base_uri": "https://localhost:8080/"
        }
      },
      "source": [
        "from xgboost import XGBClassifier\n",
        "\n",
        "start_time = datetime.now()\n",
        "xgb = XGBClassifier()\n",
        "\n",
        "xgb.fit(X_train, y_train)\n",
        "end_time = datetime.now()\n",
        "\n",
        "print(\"Train score: \",xgb.score(X_train, y_train))\n",
        "print(\"Test score: \",xgb.score(X_test, y_test))\n",
        "print('Duration: {}'.format(end_time - start_time))"
      ],
      "execution_count": 63,
      "outputs": [
        {
          "output_type": "stream",
          "text": [
            "Train score:  0.971875\n",
            "Test score:  0.8875\n",
            "Duration: 0:00:00.031829\n"
          ],
          "name": "stdout"
        }
      ]
    },
    {
      "cell_type": "code",
      "metadata": {
        "id": "09stHzGEzgub",
        "outputId": "14c8f1fc-df0f-42c9-8814-f0ef894436f6",
        "colab": {
          "base_uri": "https://localhost:8080/"
        }
      },
      "source": [
        "start_time = datetime.now()\n",
        "param_grid = {'subsample': np.arange(.5,1,.1), 'learning_rate': np.arange(.01,.3,.01), 'max_depth': np.arange(3,10,1), \n",
        "              'lambda': np.arange(0,1,.1),'max_features': ['sqrt',.75,1]}\n",
        "\n",
        "xgb = XGBClassifier()\n",
        "\n",
        "xgb_grid = GridSearchCV(xgb, param_grid=param_grid, scoring='accuracy', cv=5)\n",
        "\n",
        "xgb_grid.fit(X_train, y_train)\n",
        "end_time = datetime.now()\n",
        "print('Duration: {}'.format(end_time - start_time))"
      ],
      "execution_count": 64,
      "outputs": [
        {
          "output_type": "stream",
          "text": [
            "Duration: 1:17:20.141225\n"
          ],
          "name": "stdout"
        }
      ]
    },
    {
      "cell_type": "code",
      "metadata": {
        "id": "HpAgUO5xzjHm",
        "outputId": "f9c206f2-94dc-429c-8d3e-c97e16e31ea7",
        "colab": {
          "base_uri": "https://localhost:8080/"
        }
      },
      "source": [
        "print(\"Best learning rate GBC hyperpararmeter: \",gbc_grid.best_estimator_.learning_rate)\n",
        "print(\"Best max depth GBC hyperpararmeter: \",gbc_grid.best_estimator_.max_depth)\n",
        "print(\"Best max features GBC hyperpararmeter: \",gbc_grid.best_estimator_.max_features)\n",
        "print(\"Best alpha features GBC hyperpararmeter: \",gbc_grid.best_estimator_.alpha)\n",
        "print(\"Best sub sample GBC hyperpararmeter: \",gbc_grid.best_estimator_.subsample)"
      ],
      "execution_count": 70,
      "outputs": [
        {
          "output_type": "stream",
          "text": [
            "Best learning rate GBC hyperpararmeter:  0.060000000000000005\n",
            "Best max depth GBC hyperpararmeter:  2\n",
            "Best max features GBC hyperpararmeter:  1\n",
            "Best alpha features GBC hyperpararmeter:  0.9\n",
            "Best sub sample GBC hyperpararmeter:  1.0\n"
          ],
          "name": "stdout"
        }
      ]
    },
    {
      "cell_type": "code",
      "metadata": {
        "id": "_mIYl9z5zjtQ",
        "outputId": "a703ad5f-6e79-48df-fe7d-f14e18315e4f",
        "colab": {
          "base_uri": "https://localhost:8080/"
        }
      },
      "source": [
        "start_time = datetime.now()\n",
        "xgb = XGBClassifier(learning_rate=.06,max_depth=2,max_features=1, alpha=.9, subsample=1)\n",
        "\n",
        "xgb.fit(X_train, y_train)\n",
        "end_time = datetime.now()\n",
        "\n",
        "print(\"Train score: \",xgb.score(X_train, y_train))\n",
        "print(\"Test score: \",xgb.score(X_test, y_test))\n",
        "print('Duration: {}'.format(end_time - start_time))"
      ],
      "execution_count": 71,
      "outputs": [
        {
          "output_type": "stream",
          "text": [
            "Train score:  0.91875\n",
            "Test score:  0.9\n",
            "Duration: 0:00:00.028604\n"
          ],
          "name": "stdout"
        }
      ]
    },
    {
      "cell_type": "markdown",
      "metadata": {
        "id": "2S_tjROWponG"
      },
      "source": [
        "The XGBoost model had the best optimized test accuray of any model. It also did the least overfitting. "
      ]
    }
  ]
}