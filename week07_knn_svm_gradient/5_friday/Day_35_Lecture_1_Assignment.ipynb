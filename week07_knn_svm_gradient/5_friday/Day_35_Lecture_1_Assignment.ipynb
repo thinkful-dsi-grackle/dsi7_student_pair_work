{
  "nbformat": 4,
  "nbformat_minor": 0,
  "metadata": {
    "kernelspec": {
      "display_name": "Python 3",
      "language": "python",
      "name": "python3"
    },
    "language_info": {
      "codemirror_mode": {
        "name": "ipython",
        "version": 3
      },
      "file_extension": ".py",
      "mimetype": "text/x-python",
      "name": "python",
      "nbconvert_exporter": "python",
      "pygments_lexer": "ipython3",
      "version": "3.7.0"
    },
    "colab": {
      "name": "Day 35 Lecture 1 Assignment.ipynb",
      "provenance": [],
      "collapsed_sections": []
    }
  },
  "cells": [
    {
      "cell_type": "markdown",
      "metadata": {
        "id": "fekXcsQ31Y5o"
      },
      "source": [
        "## Day 35 Lecture 1 Assignment\n",
        "\n",
        "In this assignment, we will learn about gradient boosting. We will use a dataset describing survival rates after breast cancer surgery loaded below and analyze the model generated for this dataset."
      ]
    },
    {
      "cell_type": "code",
      "metadata": {
        "id": "2qjuI9v9JilP",
        "outputId": "f456d7c4-eee2-4d0f-d4d0-01bded822e70",
        "colab": {
          "base_uri": "https://localhost:8080/"
        }
      },
      "source": [
        "!pip install scikit-optimize"
      ],
      "execution_count": 1,
      "outputs": [
        {
          "output_type": "stream",
          "text": [
            "Collecting scikit-optimize\n",
            "\u001b[?25l  Downloading https://files.pythonhosted.org/packages/8b/03/be33e89f55866065a02e515c5b319304a801a9f1027a9b311a9b1d1f8dc7/scikit_optimize-0.8.1-py2.py3-none-any.whl (101kB)\n",
            "\r\u001b[K     |███▎                            | 10kB 15.6MB/s eta 0:00:01\r\u001b[K     |██████▌                         | 20kB 5.6MB/s eta 0:00:01\r\u001b[K     |█████████▊                      | 30kB 5.4MB/s eta 0:00:01\r\u001b[K     |█████████████                   | 40kB 5.7MB/s eta 0:00:01\r\u001b[K     |████████████████▏               | 51kB 5.9MB/s eta 0:00:01\r\u001b[K     |███████████████████▍            | 61kB 6.5MB/s eta 0:00:01\r\u001b[K     |██████████████████████▊         | 71kB 7.1MB/s eta 0:00:01\r\u001b[K     |██████████████████████████      | 81kB 7.5MB/s eta 0:00:01\r\u001b[K     |█████████████████████████████▏  | 92kB 7.2MB/s eta 0:00:01\r\u001b[K     |████████████████████████████████| 102kB 5.2MB/s \n",
            "\u001b[?25hRequirement already satisfied: scipy>=0.19.1 in /usr/local/lib/python3.6/dist-packages (from scikit-optimize) (1.4.1)\n",
            "Requirement already satisfied: scikit-learn>=0.20.0 in /usr/local/lib/python3.6/dist-packages (from scikit-optimize) (0.22.2.post1)\n",
            "Collecting pyaml>=16.9\n",
            "  Downloading https://files.pythonhosted.org/packages/15/c4/1310a054d33abc318426a956e7d6df0df76a6ddfa9c66f6310274fb75d42/pyaml-20.4.0-py2.py3-none-any.whl\n",
            "Requirement already satisfied: numpy>=1.13.3 in /usr/local/lib/python3.6/dist-packages (from scikit-optimize) (1.18.5)\n",
            "Requirement already satisfied: joblib>=0.11 in /usr/local/lib/python3.6/dist-packages (from scikit-optimize) (0.17.0)\n",
            "Requirement already satisfied: PyYAML in /usr/local/lib/python3.6/dist-packages (from pyaml>=16.9->scikit-optimize) (3.13)\n",
            "Installing collected packages: pyaml, scikit-optimize\n",
            "Successfully installed pyaml-20.4.0 scikit-optimize-0.8.1\n"
          ],
          "name": "stdout"
        }
      ]
    },
    {
      "cell_type": "code",
      "metadata": {
        "id": "R5mR8fdy1Y5p"
      },
      "source": [
        "\n",
        "%matplotlib inline\n",
        "from sklearn.metrics import classification_report, confusion_matrix\n",
        "import seaborn as sns\n",
        "import math\n",
        "from sklearn.model_selection import train_test_split\n",
        "import matplotlib.pyplot as plt\n",
        "import numpy as np\n",
        "import pandas as pd\n",
        "from sklearn.ensemble import GradientBoostingClassifier\n",
        "from sklearn.model_selection import GridSearchCV"
      ],
      "execution_count": 17,
      "outputs": []
    },
    {
      "cell_type": "code",
      "metadata": {
        "id": "xFdOjNYx1Y5r"
      },
      "source": [
        "# Attributes:\n",
        "# Age of patient at time of operation (numerical)\n",
        "# Patient's year of operation (year - 1900, numerical)\n",
        "# Number of positive axillary nodes detected (numerical)\n",
        "# Survival status (class attribute)\n",
        "#  -- 1 = the patient survived 5 years or longer\n",
        "#  -- 2 = the patient died within 5 year\n",
        "\n",
        "cols = ['age', 'op_year', 'nodes', 'survival']\n",
        "cancer = pd.read_csv('https://tf-assets-prod.s3.amazonaws.com/tf-curric/data-science/haberman.data', names=cols)"
      ],
      "execution_count": 2,
      "outputs": []
    },
    {
      "cell_type": "code",
      "metadata": {
        "id": "oSr5jOq91Y5t",
        "outputId": "3bf9c308-7dfc-4e25-e97e-e8350213d1a5",
        "colab": {
          "base_uri": "https://localhost:8080/",
          "height": 204
        }
      },
      "source": [
        "cancer.head()"
      ],
      "execution_count": 30,
      "outputs": [
        {
          "output_type": "execute_result",
          "data": {
            "text/html": [
              "<div>\n",
              "<style scoped>\n",
              "    .dataframe tbody tr th:only-of-type {\n",
              "        vertical-align: middle;\n",
              "    }\n",
              "\n",
              "    .dataframe tbody tr th {\n",
              "        vertical-align: top;\n",
              "    }\n",
              "\n",
              "    .dataframe thead th {\n",
              "        text-align: right;\n",
              "    }\n",
              "</style>\n",
              "<table border=\"1\" class=\"dataframe\">\n",
              "  <thead>\n",
              "    <tr style=\"text-align: right;\">\n",
              "      <th></th>\n",
              "      <th>age</th>\n",
              "      <th>op_year</th>\n",
              "      <th>nodes</th>\n",
              "      <th>survival</th>\n",
              "    </tr>\n",
              "  </thead>\n",
              "  <tbody>\n",
              "    <tr>\n",
              "      <th>0</th>\n",
              "      <td>30</td>\n",
              "      <td>64</td>\n",
              "      <td>1</td>\n",
              "      <td>0</td>\n",
              "    </tr>\n",
              "    <tr>\n",
              "      <th>1</th>\n",
              "      <td>30</td>\n",
              "      <td>62</td>\n",
              "      <td>3</td>\n",
              "      <td>0</td>\n",
              "    </tr>\n",
              "    <tr>\n",
              "      <th>2</th>\n",
              "      <td>30</td>\n",
              "      <td>65</td>\n",
              "      <td>0</td>\n",
              "      <td>0</td>\n",
              "    </tr>\n",
              "    <tr>\n",
              "      <th>3</th>\n",
              "      <td>31</td>\n",
              "      <td>59</td>\n",
              "      <td>2</td>\n",
              "      <td>0</td>\n",
              "    </tr>\n",
              "    <tr>\n",
              "      <th>4</th>\n",
              "      <td>31</td>\n",
              "      <td>65</td>\n",
              "      <td>4</td>\n",
              "      <td>0</td>\n",
              "    </tr>\n",
              "  </tbody>\n",
              "</table>\n",
              "</div>"
            ],
            "text/plain": [
              "   age  op_year  nodes  survival\n",
              "0   30       64      1         0\n",
              "1   30       62      3         0\n",
              "2   30       65      0         0\n",
              "3   31       59      2         0\n",
              "4   31       65      4         0"
            ]
          },
          "metadata": {
            "tags": []
          },
          "execution_count": 30
        }
      ]
    },
    {
      "cell_type": "markdown",
      "metadata": {
        "id": "xpzL7uVd1Y5w"
      },
      "source": [
        "Check for missing data and remove all rows containing missing data"
      ]
    },
    {
      "cell_type": "code",
      "metadata": {
        "id": "tu269alM1Y5w",
        "outputId": "d4844633-8e76-4b5f-c73d-893117382819",
        "colab": {
          "base_uri": "https://localhost:8080/"
        }
      },
      "source": [
        "# answer below:\n",
        "#There are no missing values\n",
        "def missingness_summary(df,print_log,sort):\n",
        "  percentage_null = df.isnull().sum()*100/df.isnull().count()\n",
        "  if sort == 'ascending':\n",
        "    return percentage_null.sort_values()\n",
        "  elif sort == 'descending':\n",
        "    return percentage_null.sort_values(ascending=False)\n",
        "  else: \n",
        "    return percentage_null\n",
        "\n",
        "\n",
        "cancer_missing = missingness_summary(cancer,0,'descending')\n",
        "print(cancer_missing)"
      ],
      "execution_count": 4,
      "outputs": [
        {
          "output_type": "stream",
          "text": [
            "survival    0.0\n",
            "nodes       0.0\n",
            "op_year     0.0\n",
            "age         0.0\n",
            "dtype: float64\n"
          ],
          "name": "stdout"
        }
      ]
    },
    {
      "cell_type": "markdown",
      "metadata": {
        "id": "0k1JQp5x1Y5y"
      },
      "source": [
        "Adjust the target variable so that it has values of either 0 or 1"
      ]
    },
    {
      "cell_type": "code",
      "metadata": {
        "id": "KaZ87xnh1Y5y"
      },
      "source": [
        "# answer below:\n",
        "cancer['survival'] = np.where(cancer['survival'] == 1, [0], [1])"
      ],
      "execution_count": 5,
      "outputs": []
    },
    {
      "cell_type": "markdown",
      "metadata": {
        "id": "b5Q3DG0d1Y52"
      },
      "source": [
        "Split the data into train and test (20% in test)"
      ]
    },
    {
      "cell_type": "code",
      "metadata": {
        "id": "oXWw6ZNJ1Y52"
      },
      "source": [
        "# answer below:\n",
        "X = cancer.drop(['survival'], axis=1)\n",
        "y = cancer.survival\n",
        "\n",
        "X_train, X_test, y_train, y_test = train_test_split(X, y, test_size=.20, random_state=42)"
      ],
      "execution_count": 6,
      "outputs": []
    },
    {
      "cell_type": "markdown",
      "metadata": {
        "id": "fM7H5aHv1Y54"
      },
      "source": [
        "Create a gradient boosted classification algorithm with a learning rate of 0.01 and max depth of 5. Report the accuracy."
      ]
    },
    {
      "cell_type": "code",
      "metadata": {
        "id": "a9TAc-mt1Y54",
        "outputId": "01a63f5a-e27a-4e95-fbf8-ade8f614784c",
        "colab": {
          "base_uri": "https://localhost:8080/"
        }
      },
      "source": [
        "# answer below:\n",
        "grad = GradientBoostingClassifier(learning_rate=0.01, max_depth=5)\n",
        "grad.fit(X_train, y_train)"
      ],
      "execution_count": 7,
      "outputs": [
        {
          "output_type": "execute_result",
          "data": {
            "text/plain": [
              "GradientBoostingClassifier(ccp_alpha=0.0, criterion='friedman_mse', init=None,\n",
              "                           learning_rate=0.01, loss='deviance', max_depth=5,\n",
              "                           max_features=None, max_leaf_nodes=None,\n",
              "                           min_impurity_decrease=0.0, min_impurity_split=None,\n",
              "                           min_samples_leaf=1, min_samples_split=2,\n",
              "                           min_weight_fraction_leaf=0.0, n_estimators=100,\n",
              "                           n_iter_no_change=None, presort='deprecated',\n",
              "                           random_state=None, subsample=1.0, tol=0.0001,\n",
              "                           validation_fraction=0.1, verbose=0,\n",
              "                           warm_start=False)"
            ]
          },
          "metadata": {
            "tags": []
          },
          "execution_count": 7
        }
      ]
    },
    {
      "cell_type": "code",
      "metadata": {
        "id": "DHani4-SOHKJ",
        "outputId": "db10a822-7380-4399-98f9-58566d78220e",
        "colab": {
          "base_uri": "https://localhost:8080/"
        }
      },
      "source": [
        "print(grad.score(X_train, y_train))"
      ],
      "execution_count": 22,
      "outputs": [
        {
          "output_type": "stream",
          "text": [
            "0.8852459016393442\n"
          ],
          "name": "stdout"
        }
      ]
    },
    {
      "cell_type": "markdown",
      "metadata": {
        "id": "Esd0b5Bm1Y55"
      },
      "source": [
        "Print the confusion matrix for the test data. What do you notice about our predictions?"
      ]
    },
    {
      "cell_type": "code",
      "metadata": {
        "id": "JIvrO5T11Y56",
        "outputId": "2baee11f-b077-4afc-bf62-c88260d429cf",
        "colab": {
          "base_uri": "https://localhost:8080/",
          "height": 296
        }
      },
      "source": [
        "# answer below:\n",
        "from sklearn.metrics import plot_confusion_matrix\n",
        "plot_confusion_matrix(grad, X_test, y_test)\n"
      ],
      "execution_count": 12,
      "outputs": [
        {
          "output_type": "execute_result",
          "data": {
            "text/plain": [
              "<sklearn.metrics._plot.confusion_matrix.ConfusionMatrixDisplay at 0x7f6d0dfbf5f8>"
            ]
          },
          "metadata": {
            "tags": []
          },
          "execution_count": 12
        },
        {
          "output_type": "display_data",
          "data": {
            "image/png": "[encoded data removed]",
            "text/plain": [
              "<Figure size 432x288 with 2 Axes>"
            ]
          },
          "metadata": {
            "tags": [],
            "needs_background": "light"
          }
        }
      ]
    },
    {
      "cell_type": "markdown",
      "metadata": {
        "id": "ovaWOAlx1Y57"
      },
      "source": [
        "Print the confusion matrix for a learning rate of 1 and a learning rate of 0.5. What do you see now that stands out to you in the confusion matrix?"
      ]
    },
    {
      "cell_type": "code",
      "metadata": {
        "id": "KmDWFQ6W1Y58",
        "outputId": "47bd3ffd-f809-4b1c-9879-ff00618a2e16",
        "colab": {
          "base_uri": "https://localhost:8080/"
        }
      },
      "source": [
        "# answer below:\n",
        "\n",
        "grad1 = GradientBoostingClassifier(learning_rate=1)\n",
        "grad05 = GradientBoostingClassifier(learning_rate=0.05)\n",
        "grad1.fit(X_train, y_train)\n",
        "grad05.fit(X_train, y_train)"
      ],
      "execution_count": 14,
      "outputs": [
        {
          "output_type": "execute_result",
          "data": {
            "text/plain": [
              "GradientBoostingClassifier(ccp_alpha=0.0, criterion='friedman_mse', init=None,\n",
              "                           learning_rate=0.05, loss='deviance', max_depth=3,\n",
              "                           max_features=None, max_leaf_nodes=None,\n",
              "                           min_impurity_decrease=0.0, min_impurity_split=None,\n",
              "                           min_samples_leaf=1, min_samples_split=2,\n",
              "                           min_weight_fraction_leaf=0.0, n_estimators=100,\n",
              "                           n_iter_no_change=None, presort='deprecated',\n",
              "                           random_state=None, subsample=1.0, tol=0.0001,\n",
              "                           validation_fraction=0.1, verbose=0,\n",
              "                           warm_start=False)"
            ]
          },
          "metadata": {
            "tags": []
          },
          "execution_count": 14
        }
      ]
    },
    {
      "cell_type": "code",
      "metadata": {
        "id": "ptVqWBjLCu5w",
        "outputId": "6b5bcf09-6cc0-4cd3-93d3-768b89c3e67c",
        "colab": {
          "base_uri": "https://localhost:8080/",
          "height": 296
        }
      },
      "source": [
        "plot_confusion_matrix(grad1, X_test, y_test)"
      ],
      "execution_count": 15,
      "outputs": [
        {
          "output_type": "execute_result",
          "data": {
            "text/plain": [
              "<sklearn.metrics._plot.confusion_matrix.ConfusionMatrixDisplay at 0x7f6d0df5af98>"
            ]
          },
          "metadata": {
            "tags": []
          },
          "execution_count": 15
        },
        {
          "output_type": "display_data",
          "data": {
            "image/png": "[encoded data removed]",
            "text/plain": [
              "<Figure size 432x288 with 2 Axes>"
            ]
          },
          "metadata": {
            "tags": [],
            "needs_background": "light"
          }
        }
      ]
    },
    {
      "cell_type": "code",
      "metadata": {
        "id": "9WfDc956Cu8r",
        "outputId": "91ce6bcc-942e-41eb-e7fa-25bbf25b21fd",
        "colab": {
          "base_uri": "https://localhost:8080/",
          "height": 296
        }
      },
      "source": [
        "plot_confusion_matrix(grad05, X_test, y_test)"
      ],
      "execution_count": 16,
      "outputs": [
        {
          "output_type": "execute_result",
          "data": {
            "text/plain": [
              "<sklearn.metrics._plot.confusion_matrix.ConfusionMatrixDisplay at 0x7f6d0e6ad748>"
            ]
          },
          "metadata": {
            "tags": []
          },
          "execution_count": 16
        },
        {
          "output_type": "display_data",
          "data": {
            "image/png": "[encoded data removed]",
            "text/plain": [
              "<Figure size 432x288 with 2 Axes>"
            ]
          },
          "metadata": {
            "tags": [],
            "needs_background": "light"
          }
        }
      ]
    },
    {
      "cell_type": "markdown",
      "metadata": {
        "id": "Febdo34L1Y59"
      },
      "source": [
        "Perform a grid search for the optimal learning rate. Instead of accuracy, use a metric that will help your model predict the positive class."
      ]
    },
    {
      "cell_type": "code",
      "metadata": {
        "id": "THIm25lt1Y5-",
        "outputId": "768f06f3-886e-4ffb-9d23-0e5ad43e8980",
        "colab": {
          "base_uri": "https://localhost:8080/"
        }
      },
      "source": [
        "# answer below:\n",
        "from sklearn.model_selection import GridSearchCV\n",
        "\n",
        "param= {'learning_rate': [0.01, .1, .05, 0.75, 1]}\n",
        "\n",
        "gradclass = GradientBoostingClassifier()\n",
        "\n",
        "grid = GridSearchCV(gradclass, param_grid=param, scoring='recall', cv=5)\n",
        "\n",
        "grid.fit(X_train, y_train)"
      ],
      "execution_count": 21,
      "outputs": [
        {
          "output_type": "execute_result",
          "data": {
            "text/plain": [
              "GridSearchCV(cv=5, error_score=nan,\n",
              "             estimator=GradientBoostingClassifier(ccp_alpha=0.0,\n",
              "                                                  criterion='friedman_mse',\n",
              "                                                  init=None, learning_rate=0.1,\n",
              "                                                  loss='deviance', max_depth=3,\n",
              "                                                  max_features=None,\n",
              "                                                  max_leaf_nodes=None,\n",
              "                                                  min_impurity_decrease=0.0,\n",
              "                                                  min_impurity_split=None,\n",
              "                                                  min_samples_leaf=1,\n",
              "                                                  min_samples_split=2,\n",
              "                                                  min_weight_fraction_leaf=0.0,\n",
              "                                                  n_estimators=100,\n",
              "                                                  n_iter_no_change=None,\n",
              "                                                  presort='deprecated',\n",
              "                                                  random_state=None,\n",
              "                                                  subsample=1.0, tol=0.0001,\n",
              "                                                  validation_fraction=0.1,\n",
              "                                                  verbose=0, warm_start=False),\n",
              "             iid='deprecated', n_jobs=None,\n",
              "             param_grid={'learning_rate': [0.01, 0.1, 0.05, 0.75, 1]},\n",
              "             pre_dispatch='2*n_jobs', refit=True, return_train_score=False,\n",
              "             scoring='recall', verbose=0)"
            ]
          },
          "metadata": {
            "tags": []
          },
          "execution_count": 21
        }
      ]
    },
    {
      "cell_type": "code",
      "metadata": {
        "id": "zcTe9ycfU5x0",
        "outputId": "bd4198a2-2c6b-465c-d6e0-eeb118d48a62",
        "colab": {
          "base_uri": "https://localhost:8080/"
        }
      },
      "source": [
        "grid.best_params_"
      ],
      "execution_count": 22,
      "outputs": [
        {
          "output_type": "execute_result",
          "data": {
            "text/plain": [
              "{'learning_rate': 0.1}"
            ]
          },
          "metadata": {
            "tags": []
          },
          "execution_count": 22
        }
      ]
    },
    {
      "cell_type": "markdown",
      "metadata": {
        "id": "1mA0V4c-1Y5_"
      },
      "source": [
        "List the feature importances for the model with the optimal learning rate."
      ]
    },
    {
      "cell_type": "code",
      "metadata": {
        "id": "JvDUGgYE1Y6A",
        "outputId": "2c02b45c-a86b-42ef-8688-4204d2dbc937",
        "colab": {
          "base_uri": "https://localhost:8080/"
        }
      },
      "source": [
        "# answer below:\n",
        "pd.Series(grid.best_estimator_.feature_importances_, index=X_train.columns).sort_values(ascending=False).head(2)"
      ],
      "execution_count": 31,
      "outputs": [
        {
          "output_type": "execute_result",
          "data": {
            "text/plain": [
              "nodes    0.464505\n",
              "age      0.335530\n",
              "dtype: float64"
            ]
          },
          "metadata": {
            "tags": []
          },
          "execution_count": 31
        }
      ]
    },
    {
      "cell_type": "code",
      "metadata": {
        "id": "zY_QwsT-XR2O"
      },
      "source": [
        "#I did not scale X, and we have a small sample (bit more than 300), 3 variables. "
      ],
      "execution_count": null,
      "outputs": []
    }
  ]
}