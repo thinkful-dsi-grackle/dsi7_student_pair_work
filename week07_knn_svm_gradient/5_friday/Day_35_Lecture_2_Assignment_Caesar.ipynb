{
  "nbformat": 4,
  "nbformat_minor": 0,
  "metadata": {
    "kernelspec": {
      "display_name": "Python 3",
      "language": "python",
      "name": "python3"
    },
    "language_info": {
      "codemirror_mode": {
        "name": "ipython",
        "version": 3
      },
      "file_extension": ".py",
      "mimetype": "text/x-python",
      "name": "python",
      "nbconvert_exporter": "python",
      "pygments_lexer": "ipython3",
      "version": "3.7.0"
    },
    "colab": {
      "name": "Day 35 Lecture 2 Assignment_Caesar.ipynb",
      "provenance": [],
      "collapsed_sections": []
    }
  },
  "cells": [
    {
      "cell_type": "markdown",
      "metadata": {
        "id": "dSoIEkGEtESB"
      },
      "source": [
        "## Day 35 Lecture 2 Assignment\n",
        "\n",
        "In this assignment, we will combine what we have learned so far about classification algorithms this week."
      ]
    },
    {
      "cell_type": "code",
      "metadata": {
        "id": "-5YT-oMVtESC"
      },
      "source": [
        "%matplotlib inline\n",
        "\n",
        "import time\n",
        "import numpy as np\n",
        "import pandas as pd\n",
        "import matplotlib.pyplot as plt\n",
        "\n",
        "from sklearn.svm import SVC\n",
        "from xgboost import XGBClassifier\n",
        "from sklearn.preprocessing import StandardScaler\n",
        "from sklearn.model_selection import train_test_split, GridSearchCV\n",
        "from sklearn.ensemble import GradientBoostingClassifier, AdaBoostClassifier\n",
        "from sklearn.metrics import confusion_matrix, plot_confusion_matrix, accuracy_score, classification_report, recall_score"
      ],
      "execution_count": 31,
      "outputs": []
    },
    {
      "cell_type": "code",
      "metadata": {
        "id": "B_y2kppttESD"
      },
      "source": [
        "admission = pd.read_csv('https://tf-assets-prod.s3.amazonaws.com/tf-curric/data-science/Admission_Predict.csv')"
      ],
      "execution_count": 2,
      "outputs": []
    },
    {
      "cell_type": "code",
      "metadata": {
        "id": "gz4Ocl5wtESF",
        "outputId": "792e8fae-21e7-4ed5-fa81-f26e4099d375",
        "colab": {
          "base_uri": "https://localhost:8080/",
          "height": 204
        }
      },
      "source": [
        "admission.head()"
      ],
      "execution_count": 3,
      "outputs": [
        {
          "output_type": "execute_result",
          "data": {
            "text/html": [
              "<div>\n",
              "<style scoped>\n",
              "    .dataframe tbody tr th:only-of-type {\n",
              "        vertical-align: middle;\n",
              "    }\n",
              "\n",
              "    .dataframe tbody tr th {\n",
              "        vertical-align: top;\n",
              "    }\n",
              "\n",
              "    .dataframe thead th {\n",
              "        text-align: right;\n",
              "    }\n",
              "</style>\n",
              "<table border=\"1\" class=\"dataframe\">\n",
              "  <thead>\n",
              "    <tr style=\"text-align: right;\">\n",
              "      <th></th>\n",
              "      <th>Serial No.</th>\n",
              "      <th>GRE Score</th>\n",
              "      <th>TOEFL Score</th>\n",
              "      <th>University Rating</th>\n",
              "      <th>SOP</th>\n",
              "      <th>LOR</th>\n",
              "      <th>CGPA</th>\n",
              "      <th>Research</th>\n",
              "      <th>Chance of Admit</th>\n",
              "    </tr>\n",
              "  </thead>\n",
              "  <tbody>\n",
              "    <tr>\n",
              "      <th>0</th>\n",
              "      <td>1</td>\n",
              "      <td>337</td>\n",
              "      <td>118</td>\n",
              "      <td>4</td>\n",
              "      <td>4.5</td>\n",
              "      <td>4.5</td>\n",
              "      <td>9.65</td>\n",
              "      <td>1</td>\n",
              "      <td>0.92</td>\n",
              "    </tr>\n",
              "    <tr>\n",
              "      <th>1</th>\n",
              "      <td>2</td>\n",
              "      <td>324</td>\n",
              "      <td>107</td>\n",
              "      <td>4</td>\n",
              "      <td>4.0</td>\n",
              "      <td>4.5</td>\n",
              "      <td>8.87</td>\n",
              "      <td>1</td>\n",
              "      <td>0.76</td>\n",
              "    </tr>\n",
              "    <tr>\n",
              "      <th>2</th>\n",
              "      <td>3</td>\n",
              "      <td>316</td>\n",
              "      <td>104</td>\n",
              "      <td>3</td>\n",
              "      <td>3.0</td>\n",
              "      <td>3.5</td>\n",
              "      <td>8.00</td>\n",
              "      <td>1</td>\n",
              "      <td>0.72</td>\n",
              "    </tr>\n",
              "    <tr>\n",
              "      <th>3</th>\n",
              "      <td>4</td>\n",
              "      <td>322</td>\n",
              "      <td>110</td>\n",
              "      <td>3</td>\n",
              "      <td>3.5</td>\n",
              "      <td>2.5</td>\n",
              "      <td>8.67</td>\n",
              "      <td>1</td>\n",
              "      <td>0.80</td>\n",
              "    </tr>\n",
              "    <tr>\n",
              "      <th>4</th>\n",
              "      <td>5</td>\n",
              "      <td>314</td>\n",
              "      <td>103</td>\n",
              "      <td>2</td>\n",
              "      <td>2.0</td>\n",
              "      <td>3.0</td>\n",
              "      <td>8.21</td>\n",
              "      <td>0</td>\n",
              "      <td>0.65</td>\n",
              "    </tr>\n",
              "  </tbody>\n",
              "</table>\n",
              "</div>"
            ],
            "text/plain": [
              "   Serial No.  GRE Score  TOEFL Score  ...  CGPA  Research  Chance of Admit \n",
              "0           1        337          118  ...  9.65         1              0.92\n",
              "1           2        324          107  ...  8.87         1              0.76\n",
              "2           3        316          104  ...  8.00         1              0.72\n",
              "3           4        322          110  ...  8.67         1              0.80\n",
              "4           5        314          103  ...  8.21         0              0.65\n",
              "\n",
              "[5 rows x 9 columns]"
            ]
          },
          "metadata": {
            "tags": []
          },
          "execution_count": 3
        }
      ]
    },
    {
      "cell_type": "markdown",
      "metadata": {
        "id": "jcRQ0iIQtESH"
      },
      "source": [
        "In this assignment, we will predict the probability of a student being admitted to a PhD program given their stats. To make the predictions, find the median for the Chance of Admit column. Create an admit column where all probabilities above the median will receive a 1 for that column and all probabilities below the median will be a zero.\n",
        "\n",
        "Below you will process and clean the data, try the SVM classifier, the gradient boosted decision tree classifier and XGBoost, and compare your results.\n",
        "\n",
        "Have fun!"
      ]
    },
    {
      "cell_type": "code",
      "metadata": {
        "id": "BccfFh0JtESH"
      },
      "source": [
        "coa_median = admission['Chance of Admit '].median()"
      ],
      "execution_count": 5,
      "outputs": []
    },
    {
      "cell_type": "code",
      "metadata": {
        "id": "vLLuklhuxjVb",
        "outputId": "41af01cc-7fe1-4436-9c08-39acfc1bfb17",
        "colab": {
          "base_uri": "https://localhost:8080/",
          "height": 204
        }
      },
      "source": [
        "admission['Admit'] = (admission['Chance of Admit '] > coa_median) + 0\n",
        "admission.head()"
      ],
      "execution_count": 7,
      "outputs": [
        {
          "output_type": "execute_result",
          "data": {
            "text/html": [
              "<div>\n",
              "<style scoped>\n",
              "    .dataframe tbody tr th:only-of-type {\n",
              "        vertical-align: middle;\n",
              "    }\n",
              "\n",
              "    .dataframe tbody tr th {\n",
              "        vertical-align: top;\n",
              "    }\n",
              "\n",
              "    .dataframe thead th {\n",
              "        text-align: right;\n",
              "    }\n",
              "</style>\n",
              "<table border=\"1\" class=\"dataframe\">\n",
              "  <thead>\n",
              "    <tr style=\"text-align: right;\">\n",
              "      <th></th>\n",
              "      <th>Serial No.</th>\n",
              "      <th>GRE Score</th>\n",
              "      <th>TOEFL Score</th>\n",
              "      <th>University Rating</th>\n",
              "      <th>SOP</th>\n",
              "      <th>LOR</th>\n",
              "      <th>CGPA</th>\n",
              "      <th>Research</th>\n",
              "      <th>Chance of Admit</th>\n",
              "      <th>Admit</th>\n",
              "    </tr>\n",
              "  </thead>\n",
              "  <tbody>\n",
              "    <tr>\n",
              "      <th>0</th>\n",
              "      <td>1</td>\n",
              "      <td>337</td>\n",
              "      <td>118</td>\n",
              "      <td>4</td>\n",
              "      <td>4.5</td>\n",
              "      <td>4.5</td>\n",
              "      <td>9.65</td>\n",
              "      <td>1</td>\n",
              "      <td>0.92</td>\n",
              "      <td>1</td>\n",
              "    </tr>\n",
              "    <tr>\n",
              "      <th>1</th>\n",
              "      <td>2</td>\n",
              "      <td>324</td>\n",
              "      <td>107</td>\n",
              "      <td>4</td>\n",
              "      <td>4.0</td>\n",
              "      <td>4.5</td>\n",
              "      <td>8.87</td>\n",
              "      <td>1</td>\n",
              "      <td>0.76</td>\n",
              "      <td>1</td>\n",
              "    </tr>\n",
              "    <tr>\n",
              "      <th>2</th>\n",
              "      <td>3</td>\n",
              "      <td>316</td>\n",
              "      <td>104</td>\n",
              "      <td>3</td>\n",
              "      <td>3.0</td>\n",
              "      <td>3.5</td>\n",
              "      <td>8.00</td>\n",
              "      <td>1</td>\n",
              "      <td>0.72</td>\n",
              "      <td>0</td>\n",
              "    </tr>\n",
              "    <tr>\n",
              "      <th>3</th>\n",
              "      <td>4</td>\n",
              "      <td>322</td>\n",
              "      <td>110</td>\n",
              "      <td>3</td>\n",
              "      <td>3.5</td>\n",
              "      <td>2.5</td>\n",
              "      <td>8.67</td>\n",
              "      <td>1</td>\n",
              "      <td>0.80</td>\n",
              "      <td>1</td>\n",
              "    </tr>\n",
              "    <tr>\n",
              "      <th>4</th>\n",
              "      <td>5</td>\n",
              "      <td>314</td>\n",
              "      <td>103</td>\n",
              "      <td>2</td>\n",
              "      <td>2.0</td>\n",
              "      <td>3.0</td>\n",
              "      <td>8.21</td>\n",
              "      <td>0</td>\n",
              "      <td>0.65</td>\n",
              "      <td>0</td>\n",
              "    </tr>\n",
              "  </tbody>\n",
              "</table>\n",
              "</div>"
            ],
            "text/plain": [
              "   Serial No.  GRE Score  TOEFL Score  ...  Research  Chance of Admit   Admit\n",
              "0           1        337          118  ...         1              0.92      1\n",
              "1           2        324          107  ...         1              0.76      1\n",
              "2           3        316          104  ...         1              0.72      0\n",
              "3           4        322          110  ...         1              0.80      1\n",
              "4           5        314          103  ...         0              0.65      0\n",
              "\n",
              "[5 rows x 10 columns]"
            ]
          },
          "metadata": {
            "tags": []
          },
          "execution_count": 7
        }
      ]
    },
    {
      "cell_type": "code",
      "metadata": {
        "id": "Zz03Y407tESJ"
      },
      "source": [
        "admission.drop('Chance of Admit ', axis=1, inplace=True)"
      ],
      "execution_count": 8,
      "outputs": []
    },
    {
      "cell_type": "code",
      "metadata": {
        "id": "NbBnKWgEx68E",
        "outputId": "3c7d1862-6ef4-4290-b972-ea511cf7a3fa",
        "colab": {
          "base_uri": "https://localhost:8080/"
        }
      },
      "source": [
        "admission.isnull().mean()"
      ],
      "execution_count": 9,
      "outputs": [
        {
          "output_type": "execute_result",
          "data": {
            "text/plain": [
              "Serial No.           0.0\n",
              "GRE Score            0.0\n",
              "TOEFL Score          0.0\n",
              "University Rating    0.0\n",
              "SOP                  0.0\n",
              "LOR                  0.0\n",
              "CGPA                 0.0\n",
              "Research             0.0\n",
              "Admit                0.0\n",
              "dtype: float64"
            ]
          },
          "metadata": {
            "tags": []
          },
          "execution_count": 9
        }
      ]
    },
    {
      "cell_type": "markdown",
      "metadata": {
        "id": "qQLlbKRVx9oU"
      },
      "source": [
        "*No missing data.*"
      ]
    },
    {
      "cell_type": "code",
      "metadata": {
        "id": "aoxmho4ryKgd",
        "outputId": "2c70b873-ad81-48c2-b0f6-4e1f93201cf0",
        "colab": {
          "base_uri": "https://localhost:8080/"
        }
      },
      "source": [
        "admission.Admit.value_counts()"
      ],
      "execution_count": 12,
      "outputs": [
        {
          "output_type": "execute_result",
          "data": {
            "text/plain": [
              "0    209\n",
              "1    191\n",
              "Name: Admit, dtype: int64"
            ]
          },
          "metadata": {
            "tags": []
          },
          "execution_count": 12
        }
      ]
    },
    {
      "cell_type": "code",
      "metadata": {
        "id": "wYyrpz17yR6T",
        "outputId": "86afb7d4-3d50-43c5-d6f7-0c8584bcaef5",
        "colab": {
          "base_uri": "https://localhost:8080/"
        }
      },
      "source": [
        "admission.Research.value_counts()"
      ],
      "execution_count": 13,
      "outputs": [
        {
          "output_type": "execute_result",
          "data": {
            "text/plain": [
              "1    219\n",
              "0    181\n",
              "Name: Research, dtype: int64"
            ]
          },
          "metadata": {
            "tags": []
          },
          "execution_count": 13
        }
      ]
    },
    {
      "cell_type": "code",
      "metadata": {
        "id": "TsmvKzbfyXmE"
      },
      "source": [
        "admission.drop('Serial No.', axis=1, inplace=True)"
      ],
      "execution_count": 14,
      "outputs": []
    },
    {
      "cell_type": "markdown",
      "metadata": {
        "id": "v5gvBALVyM59"
      },
      "source": [
        "*Classes for target variable seem to be balanced and the only categorical independent variable is already encoded. Serial No. is dropped.*"
      ]
    },
    {
      "cell_type": "markdown",
      "metadata": {
        "id": "0JYPjDgtyH03"
      },
      "source": [
        "### Train-Test Split"
      ]
    },
    {
      "cell_type": "code",
      "metadata": {
        "id": "u9gFCuC7x88x"
      },
      "source": [
        "# splitting with 0.2 as test size\n",
        "X = admission.drop('Admit', axis=1)\n",
        "y = admission.Admit\n",
        "\n",
        "X_train, X_test, y_train, y_test = train_test_split(X, y, test_size=0.2)"
      ],
      "execution_count": 35,
      "outputs": []
    },
    {
      "cell_type": "code",
      "metadata": {
        "id": "H-mPW3xr1nae"
      },
      "source": [
        "scaler = StandardScaler()\n",
        "X_train_ = scaler.fit_transform(X_train)\n",
        "X_test_ = scaler.transform(X_test)"
      ],
      "execution_count": 36,
      "outputs": []
    },
    {
      "cell_type": "markdown",
      "metadata": {
        "id": "KrUgigHhzE6-"
      },
      "source": [
        "SVClassifier"
      ]
    },
    {
      "cell_type": "code",
      "metadata": {
        "id": "bHTfhJ6QyseD",
        "outputId": "2ae5eb2a-dd3e-4ff7-c8ca-08fc70e774a6",
        "colab": {
          "base_uri": "https://localhost:8080/"
        }
      },
      "source": [
        "start_time = time.time()\n",
        "\n",
        "svc = SVC()\n",
        "svc.fit(X_train_, y_train)\n",
        "svctrain_predict = svc.predict(X_train_)\n",
        "svctest_predict = svc.predict(X_test_)\n",
        "\n",
        "print('execution time:', \"--- %s seconds ---\" % (time.time() - start_time))\n",
        "\n",
        "print(f'\\nSVC Training accuracy score: {accuracy_score(y_train, svctrain_predict)}')\n",
        "print(f'SVC Test accuracy score: {accuracy_score(y_test, svctest_predict)}')\n",
        "print(f'SVC Training recall score: {recall_score(y_train, svctrain_predict)}')\n",
        "print(f'SVC Test recall score: {recall_score(y_test, svctest_predict)}\\n')\n",
        "print(f'{classification_report(y_test, svctest_predict)}')"
      ],
      "execution_count": 37,
      "outputs": [
        {
          "output_type": "stream",
          "text": [
            "execution time: --- 0.011095762252807617 seconds ---\n",
            "\n",
            "SVC Training accuracy score: 0.896875\n",
            "SVC Test accuracy score: 0.875\n",
            "SVC Training recall score: 0.8846153846153846\n",
            "SVC Test recall score: 0.8285714285714286\n",
            "\n",
            "              precision    recall  f1-score   support\n",
            "\n",
            "           0       0.87      0.91      0.89        45\n",
            "           1       0.88      0.83      0.85        35\n",
            "\n",
            "    accuracy                           0.88        80\n",
            "   macro avg       0.88      0.87      0.87        80\n",
            "weighted avg       0.88      0.88      0.87        80\n",
            "\n"
          ],
          "name": "stdout"
        }
      ]
    },
    {
      "cell_type": "markdown",
      "metadata": {
        "id": "hLHMpRfq0GLi"
      },
      "source": [
        "GradientBoostedClassifier"
      ]
    },
    {
      "cell_type": "code",
      "metadata": {
        "id": "mMvBcx2DzimS",
        "outputId": "7c35663e-6130-4597-bb3c-7c976c0feb53",
        "colab": {
          "base_uri": "https://localhost:8080/"
        }
      },
      "source": [
        "start_time = time.time()\n",
        "\n",
        "gbc = GradientBoostingClassifier(learning_rate=0.05, max_depth=5)\n",
        "gbc.fit(X_train_, y_train)\n",
        "gbctrain_predict = gbc.predict(X_train_)\n",
        "gbctest_predict = gbc.predict(X_test_)\n",
        "\n",
        "print('execution time:', \"--- %s seconds ---\" % (time.time() - start_time))\n",
        "\n",
        "print(f'\\nGBC Training accuracy score: {accuracy_score(y_train, gbctrain_predict)}')\n",
        "print(f'GBC Test accuracy score: {accuracy_score(y_test, gbctest_predict)}')\n",
        "print(f'GBC Training recall score: {recall_score(y_train, gbctrain_predict)}')\n",
        "print(f'GBC Test recall score: {recall_score(y_test, gbctest_predict)}\\n')\n",
        "print(f'{classification_report(y_test, gbctest_predict)}')"
      ],
      "execution_count": 38,
      "outputs": [
        {
          "output_type": "stream",
          "text": [
            "execution time: --- 0.15767979621887207 seconds ---\n",
            "\n",
            "GBC Training accuracy score: 1.0\n",
            "GBC Test accuracy score: 0.8375\n",
            "GBC Training recall score: 1.0\n",
            "GBC Test recall score: 0.7428571428571429\n",
            "\n",
            "              precision    recall  f1-score   support\n",
            "\n",
            "           0       0.82      0.91      0.86        45\n",
            "           1       0.87      0.74      0.80        35\n",
            "\n",
            "    accuracy                           0.84        80\n",
            "   macro avg       0.84      0.83      0.83        80\n",
            "weighted avg       0.84      0.84      0.84        80\n",
            "\n"
          ],
          "name": "stdout"
        }
      ]
    },
    {
      "cell_type": "markdown",
      "metadata": {
        "id": "egQVHeU82UPd"
      },
      "source": [
        "*Gradient boosting is not the best model due to overfitting - possibly caused by the miniscule covariance some features exhibit, causing it to generalize most of the test data without regularization.*"
      ]
    },
    {
      "cell_type": "markdown",
      "metadata": {
        "id": "7RWy7S760lan"
      },
      "source": [
        "AdaBoostClassifier"
      ]
    },
    {
      "cell_type": "code",
      "metadata": {
        "id": "ExzivgYw0lIP",
        "outputId": "82b5346d-db92-4a6a-bfda-2cf2cdbc4f67",
        "colab": {
          "base_uri": "https://localhost:8080/"
        }
      },
      "source": [
        "start_time = time.time()\n",
        "\n",
        "abc = AdaBoostClassifier(learning_rate=0.05)\n",
        "abc.fit(X_train_, y_train)\n",
        "abctrain_predict = abc.predict(X_train_)\n",
        "abctest_predict = abc.predict(X_test_)\n",
        "\n",
        "print('execution time:', \"--- %s seconds ---\" % (time.time() - start_time))\n",
        "\n",
        "print(f'\\nABC Training accuracy score: {accuracy_score(y_train, abctrain_predict)}')\n",
        "print(f'ABC Test accuracy score: {accuracy_score(y_test, abctest_predict)}')\n",
        "print(f'ABC Training recall score: {recall_score(y_train, abctrain_predict)}')\n",
        "print(f'ABC Test recall score: {recall_score(y_test, abctest_predict)}\\n')\n",
        "print(f'{classification_report(y_test, abctest_predict)}')"
      ],
      "execution_count": 39,
      "outputs": [
        {
          "output_type": "stream",
          "text": [
            "execution time: --- 0.09810853004455566 seconds ---\n",
            "\n",
            "ABC Training accuracy score: 0.88125\n",
            "ABC Test accuracy score: 0.9\n",
            "ABC Training recall score: 0.8782051282051282\n",
            "ABC Test recall score: 0.8285714285714286\n",
            "\n",
            "              precision    recall  f1-score   support\n",
            "\n",
            "           0       0.88      0.96      0.91        45\n",
            "           1       0.94      0.83      0.88        35\n",
            "\n",
            "    accuracy                           0.90        80\n",
            "   macro avg       0.91      0.89      0.90        80\n",
            "weighted avg       0.90      0.90      0.90        80\n",
            "\n"
          ],
          "name": "stdout"
        }
      ]
    },
    {
      "cell_type": "markdown",
      "metadata": {
        "id": "HEAVu9ky2quC"
      },
      "source": [
        "*AdaBoost Classifier model looks like the best model due to having the best scores overall without overfitting to the training data. Even if the test accuracy is higher than the training's, it should not be a pain point for this model considering the exponential loss function's better performance for classification thresholds.*"
      ]
    },
    {
      "cell_type": "markdown",
      "metadata": {
        "id": "ZfRR9SFF1GzY"
      },
      "source": [
        "XGBoostClassifier"
      ]
    },
    {
      "cell_type": "code",
      "metadata": {
        "id": "IfOyZJ3l1KL6",
        "outputId": "25e04fa8-f7cf-4c56-8351-75a9d80f1552",
        "colab": {
          "base_uri": "https://localhost:8080/"
        }
      },
      "source": [
        "start_time = time.time()\n",
        "\n",
        "xgb = XGBClassifier(learning_rate=0.05, max_depth=5)\n",
        "xgb.fit(X_train_, y_train)\n",
        "xgbtrain_predict = xgb.predict(X_train_)\n",
        "xgbtest_predict = xgb.predict(X_test_)\n",
        "\n",
        "print('execution time:', \"--- %s seconds ---\" % (time.time() - start_time))\n",
        "\n",
        "print(f'\\nXGB Training accuracy score: {accuracy_score(y_train, xgbtrain_predict)}')\n",
        "print(f'XGB Test accuracy score: {accuracy_score(y_test, xgbtest_predict)}')\n",
        "print(f'XGB Training recall score: {recall_score(y_train, xgbtrain_predict)}')\n",
        "print(f'XGB Test recall score: {recall_score(y_test, xgbtest_predict)}\\n')\n",
        "print(f'{classification_report(y_test, xgbtest_predict)}')"
      ],
      "execution_count": 40,
      "outputs": [
        {
          "output_type": "stream",
          "text": [
            "execution time: --- 0.04252290725708008 seconds ---\n",
            "\n",
            "XGB Training accuracy score: 0.9625\n",
            "XGB Test accuracy score: 0.875\n",
            "XGB Training recall score: 0.9615384615384616\n",
            "XGB Test recall score: 0.8\n",
            "\n",
            "              precision    recall  f1-score   support\n",
            "\n",
            "           0       0.86      0.93      0.89        45\n",
            "           1       0.90      0.80      0.85        35\n",
            "\n",
            "    accuracy                           0.88        80\n",
            "   macro avg       0.88      0.87      0.87        80\n",
            "weighted avg       0.88      0.88      0.87        80\n",
            "\n"
          ],
          "name": "stdout"
        }
      ]
    },
    {
      "cell_type": "markdown",
      "metadata": {
        "id": "oevl1yGC3gmq"
      },
      "source": [
        "*Like Gradient Boost, XGBoost exhibits overfitting possibly due to the relatively low learning rate wrt. the data set's size. While the scores are desirable, other unseen data may exhibit high variance.*"
      ]
    }
  ]
}