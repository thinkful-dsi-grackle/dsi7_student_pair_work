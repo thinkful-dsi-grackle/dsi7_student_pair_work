{
  "nbformat": 4,
  "nbformat_minor": 0,
  "metadata": {
    "kernelspec": {
      "display_name": "Python 3",
      "language": "python",
      "name": "python3"
    },
    "language_info": {
      "codemirror_mode": {
        "name": "ipython",
        "version": 3
      },
      "file_extension": ".py",
      "mimetype": "text/x-python",
      "name": "python",
      "nbconvert_exporter": "python",
      "pygments_lexer": "ipython3",
      "version": "3.7.0"
    },
    "colab": {
      "name": "Gradient_Boosting_Classifiers.ipynb",
      "provenance": [],
      "collapsed_sections": []
    }
  },
  "cells": [
    {
      "cell_type": "markdown",
      "metadata": {
        "id": "fekXcsQ31Y5o"
      },
      "source": [
        "## Day 35 Lecture 1 Assignment\n",
        "\n",
        "In this assignment, we will learn about gradient boosting. We will use a dataset describing survival rates after breast cancer surgery loaded below and analyze the model generated for this dataset."
      ]
    },
    {
      "cell_type": "code",
      "metadata": {
        "id": "R5mR8fdy1Y5p"
      },
      "source": [
        "%matplotlib inline\n",
        "\n",
        "import matplotlib.pyplot as plt\n",
        "import numpy as np\n",
        "import pandas as pd"
      ],
      "execution_count": 1,
      "outputs": []
    },
    {
      "cell_type": "code",
      "metadata": {
        "id": "xFdOjNYx1Y5r"
      },
      "source": [
        "# Attributes:\n",
        "# Age of patient at time of operation (numerical)\n",
        "# Patient's year of operation (year - 1900, numerical)\n",
        "# Number of positive axillary nodes detected (numerical)\n",
        "# Survival status (class attribute)\n",
        "#  -- 1 = the patient survived 5 years or longer\n",
        "#  -- 2 = the patient died within 5 year\n",
        "\n",
        "cols = ['age', 'op_year', 'nodes', 'survival']\n",
        "cancer = pd.read_csv('https://tf-assets-prod.s3.amazonaws.com/tf-curric/data-science/haberman.data', names=cols)"
      ],
      "execution_count": 2,
      "outputs": []
    },
    {
      "cell_type": "code",
      "metadata": {
        "id": "oSr5jOq91Y5t",
        "outputId": "5d6f30a4-03c1-4e30-ab4a-65c24ad13fe0",
        "colab": {
          "base_uri": "https://localhost:8080/",
          "height": 204
        }
      },
      "source": [
        "cancer.head()"
      ],
      "execution_count": 3,
      "outputs": [
        {
          "output_type": "execute_result",
          "data": {
            "text/html": [
              "<div>\n",
              "<style scoped>\n",
              "    .dataframe tbody tr th:only-of-type {\n",
              "        vertical-align: middle;\n",
              "    }\n",
              "\n",
              "    .dataframe tbody tr th {\n",
              "        vertical-align: top;\n",
              "    }\n",
              "\n",
              "    .dataframe thead th {\n",
              "        text-align: right;\n",
              "    }\n",
              "</style>\n",
              "<table border=\"1\" class=\"dataframe\">\n",
              "  <thead>\n",
              "    <tr style=\"text-align: right;\">\n",
              "      <th></th>\n",
              "      <th>age</th>\n",
              "      <th>op_year</th>\n",
              "      <th>nodes</th>\n",
              "      <th>survival</th>\n",
              "    </tr>\n",
              "  </thead>\n",
              "  <tbody>\n",
              "    <tr>\n",
              "      <th>0</th>\n",
              "      <td>30</td>\n",
              "      <td>64</td>\n",
              "      <td>1</td>\n",
              "      <td>1</td>\n",
              "    </tr>\n",
              "    <tr>\n",
              "      <th>1</th>\n",
              "      <td>30</td>\n",
              "      <td>62</td>\n",
              "      <td>3</td>\n",
              "      <td>1</td>\n",
              "    </tr>\n",
              "    <tr>\n",
              "      <th>2</th>\n",
              "      <td>30</td>\n",
              "      <td>65</td>\n",
              "      <td>0</td>\n",
              "      <td>1</td>\n",
              "    </tr>\n",
              "    <tr>\n",
              "      <th>3</th>\n",
              "      <td>31</td>\n",
              "      <td>59</td>\n",
              "      <td>2</td>\n",
              "      <td>1</td>\n",
              "    </tr>\n",
              "    <tr>\n",
              "      <th>4</th>\n",
              "      <td>31</td>\n",
              "      <td>65</td>\n",
              "      <td>4</td>\n",
              "      <td>1</td>\n",
              "    </tr>\n",
              "  </tbody>\n",
              "</table>\n",
              "</div>"
            ],
            "text/plain": [
              "   age  op_year  nodes  survival\n",
              "0   30       64      1         1\n",
              "1   30       62      3         1\n",
              "2   30       65      0         1\n",
              "3   31       59      2         1\n",
              "4   31       65      4         1"
            ]
          },
          "metadata": {
            "tags": []
          },
          "execution_count": 3
        }
      ]
    },
    {
      "cell_type": "markdown",
      "metadata": {
        "id": "xpzL7uVd1Y5w"
      },
      "source": [
        "Check for missing data and remove all rows containing missing data"
      ]
    },
    {
      "cell_type": "code",
      "metadata": {
        "id": "tu269alM1Y5w",
        "outputId": "4f63ede9-315f-4fdd-9588-5fac17f124e5",
        "colab": {
          "base_uri": "https://localhost:8080/"
        }
      },
      "source": [
        "# answer below:\n",
        "cancer.isnull().sum()\n"
      ],
      "execution_count": 4,
      "outputs": [
        {
          "output_type": "execute_result",
          "data": {
            "text/plain": [
              "age         0\n",
              "op_year     0\n",
              "nodes       0\n",
              "survival    0\n",
              "dtype: int64"
            ]
          },
          "metadata": {
            "tags": []
          },
          "execution_count": 4
        }
      ]
    },
    {
      "cell_type": "markdown",
      "metadata": {
        "id": "0k1JQp5x1Y5y"
      },
      "source": [
        "Adjust the target variable so that it has values of either 0 or 1"
      ]
    },
    {
      "cell_type": "code",
      "metadata": {
        "id": "KaZ87xnh1Y5y",
        "outputId": "a090e5cf-6755-4886-b94c-16eeee8a5dfe",
        "colab": {
          "base_uri": "https://localhost:8080/"
        }
      },
      "source": [
        "# answer below:\n",
        "cancer['survival'] = np.where(cancer['survival'] == 1, 1, 0)\n",
        "cancer.survival.value_counts()\n"
      ],
      "execution_count": 5,
      "outputs": [
        {
          "output_type": "execute_result",
          "data": {
            "text/plain": [
              "1    225\n",
              "0     81\n",
              "Name: survival, dtype: int64"
            ]
          },
          "metadata": {
            "tags": []
          },
          "execution_count": 5
        }
      ]
    },
    {
      "cell_type": "markdown",
      "metadata": {
        "id": "b5Q3DG0d1Y52"
      },
      "source": [
        "Split the data into train and test (20% in test)"
      ]
    },
    {
      "cell_type": "code",
      "metadata": {
        "id": "oXWw6ZNJ1Y52"
      },
      "source": [
        "# answer below:\n",
        "from sklearn.model_selection import train_test_split\n",
        "\n",
        "X = cancer.drop('survival', axis=1)\n",
        "y = cancer['survival']\n",
        "\n",
        "X_train, X_test, y_train, y_test = train_test_split(X, y, test_size=0.2)\n"
      ],
      "execution_count": 6,
      "outputs": []
    },
    {
      "cell_type": "code",
      "metadata": {
        "id": "FNznQpoUNuu1"
      },
      "source": [
        "from imblearn.combine import SMOTEENN\n",
        "\n",
        "smote = SMOTEENN(sampling_strategy=1, random_state=21)\n",
        "\n",
        "X_train_samp, y_train_samp = smote.fit_resample(X_train, y_train)\n",
        "\n",
        "y_train_samp = pd.Series(y_train_samp, name='TenYearCHD')\n",
        "\n",
        "scaler = StandardScaler()\n",
        "\n",
        "X_train_scale = scaler.fit_transform(X_train_samp)\n",
        "X_test_scale = scaler.transform(X_test)"
      ],
      "execution_count": null,
      "outputs": []
    },
    {
      "cell_type": "markdown",
      "metadata": {
        "id": "fM7H5aHv1Y54"
      },
      "source": [
        "Create a gradient boosted classification algorithm with a learning rate of 0.01 and max depth of 5. Report the accuracy."
      ]
    },
    {
      "cell_type": "code",
      "metadata": {
        "id": "a9TAc-mt1Y54",
        "outputId": "1a72a459-4087-476e-994c-86fd19e449b4",
        "colab": {
          "base_uri": "https://localhost:8080/"
        }
      },
      "source": [
        "# answer below:\n",
        "from sklearn.metrics import confusion_matrix, precision_score, recall_score\n",
        "from sklearn.ensemble import GradientBoostingClassifier\n",
        "from sklearn.model_selection import GridSearchCV\n",
        "from datetime import datetime\n",
        "\n",
        "gbc = GradientBoostingClassifier(learning_rate=.01,max_depth=5)\n",
        "\n",
        "gbc.fit(X_train, y_train)\n",
        "\n",
        "print(\"Train score: \",gbc.score(X_train, y_train))\n",
        "print(\"Test score: \",gbc.score(X_test, y_test))\n"
      ],
      "execution_count": 7,
      "outputs": [
        {
          "output_type": "stream",
          "text": [
            "Train score:  0.860655737704918\n",
            "Test score:  0.7580645161290323\n"
          ],
          "name": "stdout"
        }
      ]
    },
    {
      "cell_type": "markdown",
      "metadata": {
        "id": "Esd0b5Bm1Y55"
      },
      "source": [
        "Print the confusion matrix for the test data. What do you notice about our predictions?"
      ]
    },
    {
      "cell_type": "code",
      "metadata": {
        "id": "JIvrO5T11Y56"
      },
      "source": [
        "# answer below:\n",
        "def plot_confusion_matrix(cm,\n",
        "                          target_names,\n",
        "                          title='Confusion matrix',\n",
        "                          cmap=None,\n",
        "                          normalize=True):\n",
        "    \"\"\"\n",
        "    Given a scikit-learn confusion matrix (CM), make a nice plot.\n",
        "\n",
        "    Arguments\n",
        "    ---------\n",
        "    cm:           Confusion matrix from sklearn.metrics.confusion_matrix\n",
        "\n",
        "    target_names: Given classification classes, such as [0, 1, 2]\n",
        "                  The class names, for example, ['high', 'medium', 'low']\n",
        "\n",
        "    title:        The text to display at the top of the matrix\n",
        "\n",
        "    cmap:         The gradient of the values displayed from matplotlib.pyplot.cm\n",
        "                  See http://matplotlib.org/examples/color/colormaps_reference.html\n",
        "                  `plt.get_cmap('jet')` or `plt.cm.Blues`\n",
        "\n",
        "    normalize:    If `False`, plot the raw numbers\n",
        "                  If `True`, plot the proportions\n",
        "\n",
        "    Usage\n",
        "    -----\n",
        "    plot_confusion_matrix(cm           = cm,                  # Confusion matrix created by\n",
        "                                                              # `sklearn.metrics.confusion_matrix`\n",
        "                          normalize    = True,                # Show proportions\n",
        "                          target_names = y_labels_vals,       # List of names of the classes\n",
        "                          title        = best_estimator_name) # Title of graph\n",
        "\n",
        "    Citation\n",
        "    ---------\n",
        "    http://scikit-learn.org/stable/auto_examples/model_selection/plot_confusion_matrix.html\n",
        "\n",
        "    \"\"\"\n",
        "    import matplotlib.pyplot as plt\n",
        "    import numpy as np\n",
        "    import itertools\n",
        "\n",
        "    accuracy = np.trace(cm) / float(np.sum(cm))\n",
        "    misclass = 1 - accuracy\n",
        "\n",
        "    if cmap is None:\n",
        "        cmap = plt.get_cmap('Blues')\n",
        "\n",
        "    plt.figure(figsize=(8, 6))\n",
        "    plt.imshow(cm, interpolation='nearest', cmap=cmap)\n",
        "    plt.title(title)\n",
        "    plt.colorbar()\n",
        "\n",
        "    if target_names is not None:\n",
        "        tick_marks = np.arange(len(target_names))\n",
        "        plt.xticks(tick_marks, target_names, rotation=45)\n",
        "        plt.yticks(tick_marks, target_names)\n",
        "\n",
        "    if normalize:\n",
        "        cm = cm.astype('float') / cm.sum(axis=1)[:, np.newaxis]\n",
        "\n",
        "\n",
        "    thresh = cm.max() / 1.5 if normalize else cm.max() / 2\n",
        "    for i, j in itertools.product(range(cm.shape[0]), range(cm.shape[1])):\n",
        "        if normalize:\n",
        "            plt.text(j, i, \"{:0.4f}\".format(cm[i, j]),\n",
        "                     horizontalalignment=\"center\",\n",
        "                     color=\"white\" if cm[i, j] > thresh else \"black\")\n",
        "        else:\n",
        "            plt.text(j, i, \"{:,}\".format(cm[i, j]),\n",
        "                     horizontalalignment=\"center\",\n",
        "                     color=\"white\" if cm[i, j] > thresh else \"black\")\n",
        "\n",
        "\n",
        "    plt.tight_layout()\n",
        "    plt.ylabel('Predicted label')\n",
        "    plt.xlabel('True label\\naccuracy={:0.4f}; misclass={:0.4f}'.format(accuracy, misclass))\n",
        "    plt.show()"
      ],
      "execution_count": 8,
      "outputs": []
    },
    {
      "cell_type": "code",
      "metadata": {
        "id": "kWlyS5niXE0k",
        "outputId": "448612ea-f554-4fdf-8178-c834e0e2d276",
        "colab": {
          "base_uri": "https://localhost:8080/",
          "height": 467
        }
      },
      "source": [
        "from sklearn.metrics import  classification_report, confusion_matrix\n",
        "y_test_pred = gbc.predict(X_test)\n",
        "\n",
        "confusion = confusion_matrix(y_test, y_test_pred)\n",
        "plot_confusion_matrix(cm=confusion, target_names=['Not Survived','Survived'],\n",
        "                      title = 'Cancer Survival 5 years Confusion Matrix',normalize=False)"
      ],
      "execution_count": 9,
      "outputs": [
        {
          "output_type": "display_data",
          "data": {
            "image/png": "[encoded data removed]",
            "text/plain": [
              "<Figure size 576x432 with 2 Axes>"
            ]
          },
          "metadata": {
            "tags": [],
            "needs_background": "light"
          }
        }
      ]
    },
    {
      "cell_type": "code",
      "metadata": {
        "id": "f6Iy2aktXxGX",
        "outputId": "74948036-58fa-42b6-fcd3-03501e71fb86",
        "colab": {
          "base_uri": "https://localhost:8080/"
        }
      },
      "source": [
        "print(classification_report(y_test, y_test_pred))"
      ],
      "execution_count": 10,
      "outputs": [
        {
          "output_type": "stream",
          "text": [
            "              precision    recall  f1-score   support\n",
            "\n",
            "           0       0.60      0.35      0.44        17\n",
            "           1       0.79      0.91      0.85        45\n",
            "\n",
            "    accuracy                           0.76        62\n",
            "   macro avg       0.69      0.63      0.64        62\n",
            "weighted avg       0.74      0.76      0.74        62\n",
            "\n"
          ],
          "name": "stdout"
        }
      ]
    },
    {
      "cell_type": "markdown",
      "metadata": {
        "id": "thwY61yOX20S"
      },
      "source": [
        "We see some overfitting. The model does much better with the dominant class. Precision, recall, and F1 scores were much better for survived (dominant class). "
      ]
    },
    {
      "cell_type": "markdown",
      "metadata": {
        "id": "ovaWOAlx1Y57"
      },
      "source": [
        "Print the confusion matrix for a learning rate of 1 and a learning rate of 0.5. What do you see now that stands out to you in the confusion matrix?"
      ]
    },
    {
      "cell_type": "code",
      "metadata": {
        "id": "KmDWFQ6W1Y58",
        "outputId": "30a8fefe-af6e-49d8-cc2e-dac16510d595",
        "colab": {
          "base_uri": "https://localhost:8080/"
        }
      },
      "source": [
        "gbc2 = GradientBoostingClassifier(learning_rate=1,max_depth=5)\n",
        "\n",
        "gbc2.fit(X_train, y_train)\n",
        "\n",
        "print(\"Train score: \",gbc2.score(X_train, y_train))\n",
        "print(\"Test score: \",gbc2.score(X_test, y_test))\n"
      ],
      "execution_count": 11,
      "outputs": [
        {
          "output_type": "stream",
          "text": [
            "Train score:  0.9836065573770492\n",
            "Test score:  0.6129032258064516\n"
          ],
          "name": "stdout"
        }
      ]
    },
    {
      "cell_type": "code",
      "metadata": {
        "id": "ZL93-QwyY1hQ",
        "outputId": "d956f9bb-e4d3-4905-c1ff-24e4d530ca92",
        "colab": {
          "base_uri": "https://localhost:8080/",
          "height": 467
        }
      },
      "source": [
        "y_test_pred = gbc.predict(X_test)\n",
        "\n",
        "confusion = confusion_matrix(y_test, y_test_pred)\n",
        "plot_confusion_matrix(cm=confusion, target_names=['Not Survived','Survived'],\n",
        "                      title = 'Learning Rate 1.0 - Cancer Survival 5 years Confusion Matrix',normalize=False)"
      ],
      "execution_count": 12,
      "outputs": [
        {
          "output_type": "display_data",
          "data": {
            "image/png": "[encoded data removed]",
            "text/plain": [
              "<Figure size 576x432 with 2 Axes>"
            ]
          },
          "metadata": {
            "tags": [],
            "needs_background": "light"
          }
        }
      ]
    },
    {
      "cell_type": "code",
      "metadata": {
        "id": "PTkA7jGlZLix",
        "outputId": "90f7f2c0-804f-430a-8bae-ff65727214b8",
        "colab": {
          "base_uri": "https://localhost:8080/"
        }
      },
      "source": [
        "print(classification_report(y_test, y_test_pred))"
      ],
      "execution_count": 13,
      "outputs": [
        {
          "output_type": "stream",
          "text": [
            "              precision    recall  f1-score   support\n",
            "\n",
            "           0       0.60      0.35      0.44        17\n",
            "           1       0.79      0.91      0.85        45\n",
            "\n",
            "    accuracy                           0.76        62\n",
            "   macro avg       0.69      0.63      0.64        62\n",
            "weighted avg       0.74      0.76      0.74        62\n",
            "\n"
          ],
          "name": "stdout"
        }
      ]
    },
    {
      "cell_type": "code",
      "metadata": {
        "id": "t7BVM368YpFn",
        "outputId": "07c406ee-bed2-46a5-ffa1-122c792ca182",
        "colab": {
          "base_uri": "https://localhost:8080/"
        }
      },
      "source": [
        "gbc3 = GradientBoostingClassifier(learning_rate=0.5,max_depth=5)\n",
        "\n",
        "gbc3.fit(X_train, y_train)\n",
        "\n",
        "print(\"Train score: \",gbc3.score(X_train, y_train))\n",
        "print(\"Test score: \",gbc3.score(X_test, y_test))\n"
      ],
      "execution_count": 14,
      "outputs": [
        {
          "output_type": "stream",
          "text": [
            "Train score:  0.9836065573770492\n",
            "Test score:  0.6774193548387096\n"
          ],
          "name": "stdout"
        }
      ]
    },
    {
      "cell_type": "code",
      "metadata": {
        "id": "Lz9KABzRY-9X",
        "outputId": "f8f49f94-7919-4522-a537-18bf40aab09c",
        "colab": {
          "base_uri": "https://localhost:8080/",
          "height": 467
        }
      },
      "source": [
        "y_test_pred = gbc.predict(X_test)\n",
        "\n",
        "confusion = confusion_matrix(y_test, y_test_pred)\n",
        "plot_confusion_matrix(cm=confusion, target_names=['Not Survived','Survived'],\n",
        "                      title = 'Learning Rate 0.5 - Cancer Survival 5 years Confusion Matrix',normalize=False)"
      ],
      "execution_count": 15,
      "outputs": [
        {
          "output_type": "display_data",
          "data": {
            "image/png": "[encoded data removed]",
            "text/plain": [
              "<Figure size 576x432 with 2 Axes>"
            ]
          },
          "metadata": {
            "tags": [],
            "needs_background": "light"
          }
        }
      ]
    },
    {
      "cell_type": "code",
      "metadata": {
        "id": "L9qi75q6Zq2l",
        "outputId": "63083796-d8fc-4734-e011-9c4d7146c2f9",
        "colab": {
          "base_uri": "https://localhost:8080/"
        }
      },
      "source": [
        "print(classification_report(y_test, y_test_pred))"
      ],
      "execution_count": 16,
      "outputs": [
        {
          "output_type": "stream",
          "text": [
            "              precision    recall  f1-score   support\n",
            "\n",
            "           0       0.60      0.35      0.44        17\n",
            "           1       0.79      0.91      0.85        45\n",
            "\n",
            "    accuracy                           0.76        62\n",
            "   macro avg       0.69      0.63      0.64        62\n",
            "weighted avg       0.74      0.76      0.74        62\n",
            "\n"
          ],
          "name": "stdout"
        }
      ]
    },
    {
      "cell_type": "markdown",
      "metadata": {
        "id": "w3QOI1GAcFW3"
      },
      "source": [
        "The confusuion matrix's are the exact same for different learning rates. But these models with higher learning rates are overfitting a lot worse than the original model and are less accurate. "
      ]
    },
    {
      "cell_type": "markdown",
      "metadata": {
        "id": "Febdo34L1Y59"
      },
      "source": [
        "Perform a grid search for the optimal learning rate. Instead of accuracy, use a metric that will help your model predict the positive class."
      ]
    },
    {
      "cell_type": "code",
      "metadata": {
        "id": "THIm25lt1Y5-",
        "outputId": "41eaa439-78f2-4aa9-addb-0c00cc106311",
        "colab": {
          "base_uri": "https://localhost:8080/"
        }
      },
      "source": [
        "# answer below:\n",
        "start_time = datetime.now()\n",
        "param_grid = {'learning_rate': np.arange(.01,1,.01),'n_iter_no_change': [10],'n_estimators':[1000]}\n",
        "\n",
        "gbc = GradientBoostingClassifier()\n",
        "\n",
        "gbc_grid = GridSearchCV(gbc, param_grid=param_grid, scoring='f1', cv=5)\n",
        "\n",
        "gbc_grid.fit(X_train, y_train)\n",
        "end_time = datetime.now()\n",
        "print('Duration: {}'.format(end_time - start_time))\n"
      ],
      "execution_count": 103,
      "outputs": [
        {
          "output_type": "stream",
          "text": [
            "Duration: 0:00:08.362559\n"
          ],
          "name": "stdout"
        }
      ]
    },
    {
      "cell_type": "code",
      "metadata": {
        "id": "Jwu6cL1FfSdZ",
        "outputId": "2178bbbe-5b1d-4895-a38f-b642cd4f1b9f",
        "colab": {
          "base_uri": "https://localhost:8080/"
        }
      },
      "source": [
        "print(\"Best learning rate hyperpararmeter: \",gbc_grid.best_estimator_.learning_rate)\n"
      ],
      "execution_count": 104,
      "outputs": [
        {
          "output_type": "stream",
          "text": [
            "Best learning rate hyperpararmeter:  0.04\n"
          ],
          "name": "stdout"
        }
      ]
    },
    {
      "cell_type": "code",
      "metadata": {
        "id": "jItNeEYSf4o-",
        "outputId": "f00da1b6-f193-426b-8d0a-9b6c90001b16",
        "colab": {
          "base_uri": "https://localhost:8080/"
        }
      },
      "source": [
        "best_gbc = GradientBoostingClassifier(learning_rate=.04,n_iter_no_change=10,n_estimators=1000)\n",
        "\n",
        "best_gbc.fit(X_train, y_train)\n",
        "\n",
        "print(\"Best Hyperparameters Train score: \",best_gbc.score(X_train, y_train))\n",
        "print(\"Best Hyperparameters Test score: \",best_gbc.score(X_test, y_test))"
      ],
      "execution_count": 105,
      "outputs": [
        {
          "output_type": "stream",
          "text": [
            "Best Hyperparameters Train score:  0.8401639344262295\n",
            "Best Hyperparameters Test score:  0.7419354838709677\n"
          ],
          "name": "stdout"
        }
      ]
    },
    {
      "cell_type": "code",
      "metadata": {
        "id": "EnLZjgWhgKJe",
        "outputId": "dad99bb8-95ca-4dfe-9459-aa2085fd3f2b",
        "colab": {
          "base_uri": "https://localhost:8080/",
          "height": 467
        }
      },
      "source": [
        "y_test_pred = best_gbc.predict(X_test)\n",
        "\n",
        "confusion = confusion_matrix(y_test, y_test_pred)\n",
        "plot_confusion_matrix(cm=confusion, target_names=['Not Survived','Survived'],\n",
        "                      title = 'Optimal Learning Rate 0.06 - Cancer Survival 5 years Confusion Matrix',normalize=False)"
      ],
      "execution_count": 106,
      "outputs": [
        {
          "output_type": "display_data",
          "data": {
            "image/png": "[encoded data removed]",
            "text/plain": [
              "<Figure size 576x432 with 2 Axes>"
            ]
          },
          "metadata": {
            "tags": [],
            "needs_background": "light"
          }
        }
      ]
    },
    {
      "cell_type": "code",
      "metadata": {
        "id": "NovEieIQhG69",
        "outputId": "5333096c-caf8-43bf-9d39-1bfb335fce32",
        "colab": {
          "base_uri": "https://localhost:8080/"
        }
      },
      "source": [
        "print(classification_report(y_test, y_test_pred))"
      ],
      "execution_count": 107,
      "outputs": [
        {
          "output_type": "stream",
          "text": [
            "              precision    recall  f1-score   support\n",
            "\n",
            "           0       0.55      0.35      0.43        17\n",
            "           1       0.78      0.89      0.83        45\n",
            "\n",
            "    accuracy                           0.74        62\n",
            "   macro avg       0.66      0.62      0.63        62\n",
            "weighted avg       0.72      0.74      0.72        62\n",
            "\n"
          ],
          "name": "stdout"
        }
      ]
    },
    {
      "cell_type": "markdown",
      "metadata": {
        "id": "Zi96SSyCkP1T"
      },
      "source": [
        "Using an optimal learning rate of 0.04 and F1 scoring helped improve the survived class precision. This is .01 better than the other 3 models. We see the most accurate overall score and the least amount of overfitting with this optimized model. "
      ]
    },
    {
      "cell_type": "markdown",
      "metadata": {
        "id": "1mA0V4c-1Y5_"
      },
      "source": [
        "List the feature importances for the model with the optimal learning rate."
      ]
    },
    {
      "cell_type": "code",
      "metadata": {
        "id": "JvDUGgYE1Y6A",
        "outputId": "e743d0a3-ddfb-40a7-e343-b691ed1923fc",
        "colab": {
          "base_uri": "https://localhost:8080/",
          "height": 295
        }
      },
      "source": [
        "# answer below:\n",
        "feature_importance = best_gbc.feature_importances_\n",
        "\n",
        "# Make importances relative to max importance.\n",
        "feature_importance = 100.0 * (feature_importance / feature_importance.max())\n",
        "sorted_idx = np.argsort(feature_importance)\n",
        "pos = np.arange(sorted_idx.shape[0]) + .5\n",
        "plt.subplot(1, 2, 2)\n",
        "plt.barh(pos, feature_importance[sorted_idx], align='center')\n",
        "plt.yticks(pos, X.columns[sorted_idx])\n",
        "plt.xlabel('Relative Importance')\n",
        "plt.title('Variable Importance')\n",
        "plt.show()\n"
      ],
      "execution_count": 108,
      "outputs": [
        {
          "output_type": "display_data",
          "data": {
            "image/png": "[encoded data removed]",
            "text/plain": [
              "<Figure size 432x288 with 1 Axes>"
            ]
          },
          "metadata": {
            "tags": [],
            "needs_background": "light"
          }
        }
      ]
    },
    {
      "cell_type": "code",
      "metadata": {
        "id": "yN6mxZofOGsn",
        "outputId": "8a9083a7-9235-459b-9fb7-8d12c1224531",
        "colab": {
          "base_uri": "https://localhost:8080/"
        }
      },
      "source": [
        "# results with Classes Balanced\n",
        "from imblearn.combine import SMOTEENN\n",
        "\n",
        "smote = SMOTEENN(sampling_strategy=1, random_state=21)\n",
        "\n",
        "X_train_samp, y_train_samp = smote.fit_resample(X_train, y_train)\n",
        "\n",
        "y_train_samp = pd.Series(y_train_samp, name='TenYearCHD')"
      ],
      "execution_count": 77,
      "outputs": [
        {
          "output_type": "stream",
          "text": [
            "/usr/local/lib/python3.6/dist-packages/sklearn/externals/six.py:31: FutureWarning: The module is deprecated in version 0.21 and will be removed in version 0.23 since we've dropped support for Python 2.7. Please rely on the official version of six (https://pypi.org/project/six/).\n",
            "  \"(https://pypi.org/project/six/).\", FutureWarning)\n",
            "/usr/local/lib/python3.6/dist-packages/sklearn/utils/deprecation.py:144: FutureWarning: The sklearn.neighbors.base module is  deprecated in version 0.22 and will be removed in version 0.24. The corresponding classes / functions should instead be imported from sklearn.neighbors. Anything that cannot be imported from sklearn.neighbors is now part of the private API.\n",
            "  warnings.warn(message, FutureWarning)\n",
            "/usr/local/lib/python3.6/dist-packages/sklearn/utils/deprecation.py:87: FutureWarning: Function safe_indexing is deprecated; safe_indexing is deprecated in version 0.22 and will be removed in version 0.24.\n",
            "  warnings.warn(msg, category=FutureWarning)\n",
            "/usr/local/lib/python3.6/dist-packages/sklearn/utils/deprecation.py:87: FutureWarning: Function safe_indexing is deprecated; safe_indexing is deprecated in version 0.22 and will be removed in version 0.24.\n",
            "  warnings.warn(msg, category=FutureWarning)\n",
            "/usr/local/lib/python3.6/dist-packages/sklearn/utils/deprecation.py:87: FutureWarning: Function safe_indexing is deprecated; safe_indexing is deprecated in version 0.22 and will be removed in version 0.24.\n",
            "  warnings.warn(msg, category=FutureWarning)\n",
            "/usr/local/lib/python3.6/dist-packages/sklearn/utils/deprecation.py:87: FutureWarning: Function safe_indexing is deprecated; safe_indexing is deprecated in version 0.22 and will be removed in version 0.24.\n",
            "  warnings.warn(msg, category=FutureWarning)\n"
          ],
          "name": "stderr"
        }
      ]
    },
    {
      "cell_type": "code",
      "metadata": {
        "id": "1c_o-1AtORSM",
        "outputId": "75f2cb1c-2838-4e14-8b3a-1f13ef57f89a",
        "colab": {
          "base_uri": "https://localhost:8080/"
        }
      },
      "source": [
        "gbc = GradientBoostingClassifier(learning_rate=.01,max_depth=5)\n",
        "\n",
        "gbc.fit(X_train_samp, y_train_samp)\n",
        "\n",
        "print(\"Train score: \",gbc.score(X_train_samp, y_train_samp))\n",
        "print(\"Test score: \",gbc.score(X_test, y_test))"
      ],
      "execution_count": 81,
      "outputs": [
        {
          "output_type": "stream",
          "text": [
            "Train score:  0.9681528662420382\n",
            "Test score:  0.7580645161290323\n"
          ],
          "name": "stdout"
        }
      ]
    },
    {
      "cell_type": "code",
      "metadata": {
        "id": "5jZ69Sr9OhHx",
        "outputId": "4d7fd43b-c264-4bc7-e80a-db4aa4c2bf6b",
        "colab": {
          "base_uri": "https://localhost:8080/",
          "height": 467
        }
      },
      "source": [
        "from sklearn.metrics import  classification_report, confusion_matrix\n",
        "y_test_pred = gbc.predict(X_test)\n",
        "\n",
        "confusion = confusion_matrix(y_test, y_test_pred)\n",
        "plot_confusion_matrix(cm=confusion, target_names=['Not Survived','Survived'],\n",
        "                      title = 'Cancer Survival 5 years Confusion Matrix',normalize=False)"
      ],
      "execution_count": 82,
      "outputs": [
        {
          "output_type": "display_data",
          "data": {
            "image/png": "[encoded data removed]",
            "text/plain": [
              "<Figure size 576x432 with 2 Axes>"
            ]
          },
          "metadata": {
            "tags": [],
            "needs_background": "light"
          }
        }
      ]
    },
    {
      "cell_type": "code",
      "metadata": {
        "id": "_6R7Q-BbOoal",
        "outputId": "9470f321-bccf-4886-88d7-b6ff266801ce",
        "colab": {
          "base_uri": "https://localhost:8080/"
        }
      },
      "source": [
        "print(classification_report(y_test, y_test_pred))"
      ],
      "execution_count": 83,
      "outputs": [
        {
          "output_type": "stream",
          "text": [
            "              precision    recall  f1-score   support\n",
            "\n",
            "           0       0.55      0.71      0.62        17\n",
            "           1       0.88      0.78      0.82        45\n",
            "\n",
            "    accuracy                           0.76        62\n",
            "   macro avg       0.71      0.74      0.72        62\n",
            "weighted avg       0.78      0.76      0.77        62\n",
            "\n"
          ],
          "name": "stdout"
        }
      ]
    },
    {
      "cell_type": "markdown",
      "metadata": {
        "id": "PoylIar-O_PK"
      },
      "source": [
        "Precision actually increase on the dominat class an dropped on the minority class when we balanced sample. This was a bit of a suprise. However, our recall and F1 scores significantly increased for the minortiy class. Overall, accuracy stayed the same and we are overfitting more than our unbalanced model. "
      ]
    },
    {
      "cell_type": "code",
      "metadata": {
        "id": "gIAknAaPQk7d",
        "outputId": "fd547d0b-e1bb-4da4-9ef2-55589d46686c",
        "colab": {
          "base_uri": "https://localhost:8080/"
        }
      },
      "source": [
        "start_time = datetime.now()\n",
        "param_grid = {'learning_rate': np.arange(.01,1,.01),'n_iter_no_change': [10],'n_estimators':[1000]}\n",
        "\n",
        "gbc = GradientBoostingClassifier()\n",
        "\n",
        "gbc_grid = GridSearchCV(gbc, param_grid=param_grid, scoring='accuracy', cv=5)\n",
        "\n",
        "gbc_grid.fit(X_train_samp, y_train_samp)\n",
        "end_time = datetime.now()\n",
        "print('Duration: {}'.format(end_time - start_time))"
      ],
      "execution_count": 102,
      "outputs": [
        {
          "output_type": "stream",
          "text": [
            "Duration: 0:00:16.550865\n"
          ],
          "name": "stdout"
        }
      ]
    },
    {
      "cell_type": "code",
      "metadata": {
        "id": "WT35Ps_hRTV3",
        "outputId": "3d93eb7b-1ed1-4802-b285-a648fcccc20e",
        "colab": {
          "base_uri": "https://localhost:8080/"
        }
      },
      "source": [
        "print(\"Best learning rate hyperpararmeter: \",gbc_grid.best_estimator_.learning_rate)"
      ],
      "execution_count": 109,
      "outputs": [
        {
          "output_type": "stream",
          "text": [
            "Best learning rate hyperpararmeter:  0.04\n"
          ],
          "name": "stdout"
        }
      ]
    },
    {
      "cell_type": "code",
      "metadata": {
        "id": "ligm4zu3PeaM",
        "outputId": "cad75b0b-d111-4d93-8031-5cbd8c304356",
        "colab": {
          "base_uri": "https://localhost:8080/"
        }
      },
      "source": [
        "best_gbc = GradientBoostingClassifier(learning_rate=.04,n_iter_no_change=10,n_estimators=1000)\n",
        "\n",
        "best_gbc.fit(X_train_samp, y_train_samp)\n",
        "\n",
        "print(\"Best Hyperparameters Train score: \",best_gbc.score(X_train_samp, y_train_samp))\n",
        "print(\"Best Hyperparameters Test score: \",best_gbc.score(X_test, y_test))"
      ],
      "execution_count": 110,
      "outputs": [
        {
          "output_type": "stream",
          "text": [
            "Best Hyperparameters Train score:  0.9808917197452229\n",
            "Best Hyperparameters Test score:  0.7741935483870968\n"
          ],
          "name": "stdout"
        }
      ]
    },
    {
      "cell_type": "code",
      "metadata": {
        "id": "r6gkzmVRPyCP",
        "outputId": "5e8ee9e8-ab68-46fd-ed09-5339e1c78421",
        "colab": {
          "base_uri": "https://localhost:8080/",
          "height": 467
        }
      },
      "source": [
        "y_test_pred = best_gbc.predict(X_test)\n",
        "\n",
        "confusion = confusion_matrix(y_test, y_test_pred)\n",
        "plot_confusion_matrix(cm=confusion, target_names=['Not Survived','Survived'],\n",
        "                      title = 'Optimal Learning Rate 0.04 - Cancer Survival 5 years Confusion Matrix',normalize=False)"
      ],
      "execution_count": 113,
      "outputs": [
        {
          "output_type": "display_data",
          "data": {
            "image/png": "[encoded data removed]",
            "text/plain": [
              "<Figure size 576x432 with 2 Axes>"
            ]
          },
          "metadata": {
            "tags": [],
            "needs_background": "light"
          }
        }
      ]
    },
    {
      "cell_type": "code",
      "metadata": {
        "id": "ce9ztxppSna2",
        "outputId": "ef27145b-6cb9-44d3-eef0-6c33e7c40751",
        "colab": {
          "base_uri": "https://localhost:8080/"
        }
      },
      "source": [
        "print(classification_report(y_test, y_test_pred))"
      ],
      "execution_count": 112,
      "outputs": [
        {
          "output_type": "stream",
          "text": [
            "              precision    recall  f1-score   support\n",
            "\n",
            "           0       0.55      0.94      0.70        17\n",
            "           1       0.97      0.71      0.82        45\n",
            "\n",
            "    accuracy                           0.77        62\n",
            "   macro avg       0.76      0.83      0.76        62\n",
            "weighted avg       0.86      0.77      0.79        62\n",
            "\n"
          ],
          "name": "stdout"
        }
      ]
    },
    {
      "cell_type": "markdown",
      "metadata": {
        "id": "RoDWI0HBSsXf"
      },
      "source": [
        "The optimized class balanced model did the best. We see the highest precision for the dominant class. It also had the highest weighted avg precision, recall, and F1 scores of any models. It overfit on the training set more than most models, but the test scores are the most accurate of any model. "
      ]
    },
    {
      "cell_type": "code",
      "metadata": {
        "id": "AJZm51TSTbNu"
      },
      "source": [
        ""
      ],
      "execution_count": null,
      "outputs": []
    }
  ]
}