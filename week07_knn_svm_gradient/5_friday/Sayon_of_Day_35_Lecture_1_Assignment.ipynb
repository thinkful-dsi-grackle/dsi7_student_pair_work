{
  "nbformat": 4,
  "nbformat_minor": 0,
  "metadata": {
    "kernelspec": {
      "display_name": "Python 3",
      "language": "python",
      "name": "python3"
    },
    "language_info": {
      "codemirror_mode": {
        "name": "ipython",
        "version": 3
      },
      "file_extension": ".py",
      "mimetype": "text/x-python",
      "name": "python",
      "nbconvert_exporter": "python",
      "pygments_lexer": "ipython3",
      "version": "3.7.0"
    },
    "colab": {
      "name": "Copy of Day 35 Lecture 1 Assignment.ipynb",
      "provenance": [],
      "collapsed_sections": []
    }
  },
  "cells": [
    {
      "cell_type": "markdown",
      "metadata": {
        "id": "fekXcsQ31Y5o"
      },
      "source": [
        "## Day 35 Lecture 1 Assignment\n",
        "\n",
        "In this assignment, we will learn about gradient boosting. We will use a dataset describing survival rates after breast cancer surgery loaded below and analyze the model generated for this dataset."
      ]
    },
    {
      "cell_type": "code",
      "metadata": {
        "id": "R5mR8fdy1Y5p"
      },
      "source": [
        "%matplotlib inline\n",
        "\n",
        "from sklearn.metrics import confusion_matrix\n",
        "import matplotlib.pyplot as plt\n",
        "import numpy as np\n",
        "import pandas as pd"
      ],
      "execution_count": null,
      "outputs": []
    },
    {
      "cell_type": "code",
      "metadata": {
        "id": "xFdOjNYx1Y5r"
      },
      "source": [
        "# Attributes:\n",
        "# Age of patient at time of operation (numerical)\n",
        "# Patient's year of operation (year - 1900, numerical)\n",
        "# Number of positive axillary nodes detected (numerical)\n",
        "# Survival status (class attribute)\n",
        "#  -- 1 = the patient survived 5 years or longer\n",
        "#  -- 2 = the patient died within 5 year\n",
        "\n",
        "cols = ['age', 'op_year', 'nodes', 'survival']\n",
        "cancer = pd.read_csv('https://tf-assets-prod.s3.amazonaws.com/tf-curric/data-science/haberman.data', names=cols)"
      ],
      "execution_count": null,
      "outputs": []
    },
    {
      "cell_type": "code",
      "metadata": {
        "id": "oSr5jOq91Y5t",
        "outputId": "5bf4b38b-83ef-4b15-87bf-a7da61634ac5",
        "colab": {
          "base_uri": "https://localhost:8080/",
          "height": 195
        }
      },
      "source": [
        "cancer.head()"
      ],
      "execution_count": null,
      "outputs": [
        {
          "output_type": "execute_result",
          "data": {
            "text/html": [
              "<div>\n",
              "<style scoped>\n",
              "    .dataframe tbody tr th:only-of-type {\n",
              "        vertical-align: middle;\n",
              "    }\n",
              "\n",
              "    .dataframe tbody tr th {\n",
              "        vertical-align: top;\n",
              "    }\n",
              "\n",
              "    .dataframe thead th {\n",
              "        text-align: right;\n",
              "    }\n",
              "</style>\n",
              "<table border=\"1\" class=\"dataframe\">\n",
              "  <thead>\n",
              "    <tr style=\"text-align: right;\">\n",
              "      <th></th>\n",
              "      <th>age</th>\n",
              "      <th>op_year</th>\n",
              "      <th>nodes</th>\n",
              "      <th>survival</th>\n",
              "    </tr>\n",
              "  </thead>\n",
              "  <tbody>\n",
              "    <tr>\n",
              "      <th>0</th>\n",
              "      <td>30</td>\n",
              "      <td>64</td>\n",
              "      <td>1</td>\n",
              "      <td>1</td>\n",
              "    </tr>\n",
              "    <tr>\n",
              "      <th>1</th>\n",
              "      <td>30</td>\n",
              "      <td>62</td>\n",
              "      <td>3</td>\n",
              "      <td>1</td>\n",
              "    </tr>\n",
              "    <tr>\n",
              "      <th>2</th>\n",
              "      <td>30</td>\n",
              "      <td>65</td>\n",
              "      <td>0</td>\n",
              "      <td>1</td>\n",
              "    </tr>\n",
              "    <tr>\n",
              "      <th>3</th>\n",
              "      <td>31</td>\n",
              "      <td>59</td>\n",
              "      <td>2</td>\n",
              "      <td>1</td>\n",
              "    </tr>\n",
              "    <tr>\n",
              "      <th>4</th>\n",
              "      <td>31</td>\n",
              "      <td>65</td>\n",
              "      <td>4</td>\n",
              "      <td>1</td>\n",
              "    </tr>\n",
              "  </tbody>\n",
              "</table>\n",
              "</div>"
            ],
            "text/plain": [
              "   age  op_year  nodes  survival\n",
              "0   30       64      1         1\n",
              "1   30       62      3         1\n",
              "2   30       65      0         1\n",
              "3   31       59      2         1\n",
              "4   31       65      4         1"
            ]
          },
          "metadata": {
            "tags": []
          },
          "execution_count": 9
        }
      ]
    },
    {
      "cell_type": "markdown",
      "metadata": {
        "id": "xpzL7uVd1Y5w"
      },
      "source": [
        "Check for missing data and remove all rows containing missing data"
      ]
    },
    {
      "cell_type": "code",
      "metadata": {
        "id": "GI-Oxo6mMUjL",
        "outputId": "40fce688-95e3-4b7d-fdd6-b8fd8f3a35fd",
        "colab": {
          "base_uri": "https://localhost:8080/"
        }
      },
      "source": [
        "cancer.isnull().sum()"
      ],
      "execution_count": null,
      "outputs": [
        {
          "output_type": "execute_result",
          "data": {
            "text/plain": [
              "age         0\n",
              "op_year     0\n",
              "nodes       0\n",
              "survival    0\n",
              "dtype: int64"
            ]
          },
          "metadata": {
            "tags": []
          },
          "execution_count": 7
        }
      ]
    },
    {
      "cell_type": "code",
      "metadata": {
        "id": "tu269alM1Y5w"
      },
      "source": [
        "# answer below:\n",
        "# There are no missing values\n"
      ],
      "execution_count": null,
      "outputs": []
    },
    {
      "cell_type": "markdown",
      "metadata": {
        "id": "0k1JQp5x1Y5y"
      },
      "source": [
        "Adjust the target variable so that it has values of either 0 or 1"
      ]
    },
    {
      "cell_type": "code",
      "metadata": {
        "id": "KaZ87xnh1Y5y",
        "outputId": "79781047-70b2-47c4-cfb8-96db7d6f3e33",
        "colab": {
          "base_uri": "https://localhost:8080/"
        }
      },
      "source": [
        "# answer below:\n",
        "cancer.survival.map({1:1, 2:0})"
      ],
      "execution_count": null,
      "outputs": [
        {
          "output_type": "execute_result",
          "data": {
            "text/plain": [
              "0      1\n",
              "1      1\n",
              "2      1\n",
              "3      1\n",
              "4      1\n",
              "      ..\n",
              "301    1\n",
              "302    1\n",
              "303    1\n",
              "304    0\n",
              "305    0\n",
              "Name: survival, Length: 306, dtype: int64"
            ]
          },
          "metadata": {
            "tags": []
          },
          "execution_count": 10
        }
      ]
    },
    {
      "cell_type": "markdown",
      "metadata": {
        "id": "b5Q3DG0d1Y52"
      },
      "source": [
        "Split the data into train and test (20% in test)"
      ]
    },
    {
      "cell_type": "code",
      "metadata": {
        "id": "oXWw6ZNJ1Y52"
      },
      "source": [
        "# answer below:\n",
        "from sklearn.model_selection import train_test_split\n",
        "X=cancer.drop('survival',axis=1)\n",
        "y = cancer['survival']\n",
        "X_train, X_test, y_train, y_test = train_test_split(X,y,test_size=.2,random_state=30)\n"
      ],
      "execution_count": null,
      "outputs": []
    },
    {
      "cell_type": "markdown",
      "metadata": {
        "id": "fM7H5aHv1Y54"
      },
      "source": [
        "Create a gradient boosted classification algorithm with a learning rate of 0.01 and max depth of 5. Report the accuracy."
      ]
    },
    {
      "cell_type": "code",
      "metadata": {
        "id": "a9TAc-mt1Y54",
        "outputId": "5501c774-c19d-4e85-89ed-5bd003606bf7",
        "colab": {
          "base_uri": "https://localhost:8080/"
        }
      },
      "source": [
        "# answer below:\n",
        "from sklearn.ensemble import GradientBoostingClassifier\n",
        "\n",
        "gbr = GradientBoostingClassifier(learning_rate=.01, max_depth=5)\n",
        "gbr.fit(X_train,y_train)\n",
        "print(\"Gradient Boosting Accuracy: \",gbr.score(X_test,y_test))\n"
      ],
      "execution_count": null,
      "outputs": [
        {
          "output_type": "stream",
          "text": [
            "Gradient Boosting Accuracy:  0.7741935483870968\n"
          ],
          "name": "stdout"
        }
      ]
    },
    {
      "cell_type": "markdown",
      "metadata": {
        "id": "Esd0b5Bm1Y55"
      },
      "source": [
        "Print the confusion matrix for the test data. What do you notice about our predictions?"
      ]
    },
    {
      "cell_type": "code",
      "metadata": {
        "id": "K5i0T4Gsb6Q-"
      },
      "source": [
        "y_pred_train = gbr.predict(X_train)\n",
        "y_pred_test = gbr.predict(X_test)"
      ],
      "execution_count": null,
      "outputs": []
    },
    {
      "cell_type": "code",
      "metadata": {
        "id": "qN7IS2Gwe-va",
        "outputId": "317ba59f-eebb-4dcf-b5dd-e2594aa38536",
        "colab": {
          "base_uri": "https://localhost:8080/"
        }
      },
      "source": [
        "y_pred_test"
      ],
      "execution_count": null,
      "outputs": [
        {
          "output_type": "execute_result",
          "data": {
            "text/plain": [
              "array([1, 1, 1, 1, 1, 1, 1, 2, 1, 1, 1, 1, 1, 1, 1, 1, 1, 1, 1, 1, 1, 1,\n",
              "       1, 1, 1, 1, 2, 1, 2, 1, 1, 1, 1, 1, 1, 1, 1, 1, 1, 1, 1, 1, 1, 1,\n",
              "       1, 1, 1, 1, 1, 1, 1, 1, 1, 1, 1, 1, 2, 1, 1, 1, 1, 1])"
            ]
          },
          "metadata": {
            "tags": []
          },
          "execution_count": 26
        }
      ]
    },
    {
      "cell_type": "code",
      "metadata": {
        "id": "JIvrO5T11Y56",
        "outputId": "1f820930-6d13-4cee-fc35-6ca6771604b7",
        "colab": {
          "base_uri": "https://localhost:8080/"
        }
      },
      "source": [
        "# answer below:\n",
        "confusion_matrix(y_test,y_pred_test)\n"
      ],
      "execution_count": null,
      "outputs": [
        {
          "output_type": "execute_result",
          "data": {
            "text/plain": [
              "array([[46,  2],\n",
              "       [12,  2]])"
            ]
          },
          "metadata": {
            "tags": []
          },
          "execution_count": 27
        }
      ]
    },
    {
      "cell_type": "markdown",
      "metadata": {
        "id": "ovaWOAlx1Y57"
      },
      "source": [
        "Print the confusion matrix for a learning rate of 1 and a learning rate of 0.5. What do you see now that stands out to you in the confusion matrix?"
      ]
    },
    {
      "cell_type": "code",
      "metadata": {
        "id": "oS4MgCtPfgT9",
        "outputId": "70b61098-0f13-4341-fc1c-d4ef58cb0147",
        "colab": {
          "base_uri": "https://localhost:8080/"
        }
      },
      "source": [
        "gbr = GradientBoostingClassifier(learning_rate=1, max_depth=5)\n",
        "gbr.fit(X_train,y_train)\n",
        "print(\"Gradient Boosting Accuracy: \",gbr.score(X_test,y_test))\n",
        "y_pred_test = gbr.predict(X_test)"
      ],
      "execution_count": null,
      "outputs": [
        {
          "output_type": "stream",
          "text": [
            "Gradient Boosting Accuracy:  0.6935483870967742\n"
          ],
          "name": "stdout"
        }
      ]
    },
    {
      "cell_type": "code",
      "metadata": {
        "id": "Jng7glDMgJPG",
        "outputId": "42dcb7f1-22a9-409f-c6ee-1aee0723f3fa",
        "colab": {
          "base_uri": "https://localhost:8080/"
        }
      },
      "source": [
        "confusion_matrix(y_test,y_pred_test)"
      ],
      "execution_count": null,
      "outputs": [
        {
          "output_type": "execute_result",
          "data": {
            "text/plain": [
              "array([[37, 11],\n",
              "       [ 8,  6]])"
            ]
          },
          "metadata": {
            "tags": []
          },
          "execution_count": 31
        }
      ]
    },
    {
      "cell_type": "code",
      "metadata": {
        "id": "KmDWFQ6W1Y58",
        "outputId": "d8826927-7399-4ff5-8138-3078c81d9a81",
        "colab": {
          "base_uri": "https://localhost:8080/"
        }
      },
      "source": [
        "# answer below:\n",
        "gbr = GradientBoostingClassifier(learning_rate=.5, max_depth=5)\n",
        "gbr.fit(X_train,y_train)\n",
        "print(\"Gradient Boosting Accuracy: \",gbr.score(X_test,y_test))\n",
        "y_pred_test = gbr.predict(X_test)"
      ],
      "execution_count": null,
      "outputs": [
        {
          "output_type": "stream",
          "text": [
            "Gradient Boosting Accuracy:  0.7096774193548387\n"
          ],
          "name": "stdout"
        }
      ]
    },
    {
      "cell_type": "code",
      "metadata": {
        "id": "n9u1ia46gKqz",
        "outputId": "88e90a17-b029-44c7-fc1d-a1984bd5600e",
        "colab": {
          "base_uri": "https://localhost:8080/"
        }
      },
      "source": [
        "confusion_matrix(y_test,y_pred_test)"
      ],
      "execution_count": null,
      "outputs": [
        {
          "output_type": "execute_result",
          "data": {
            "text/plain": [
              "array([[40,  8],\n",
              "       [10,  4]])"
            ]
          },
          "metadata": {
            "tags": []
          },
          "execution_count": 33
        }
      ]
    },
    {
      "cell_type": "markdown",
      "metadata": {
        "id": "Febdo34L1Y59"
      },
      "source": [
        "Perform a grid search for the optimal learning rate. Instead of accuracy, use a metric that will help your model predict the positive class."
      ]
    },
    {
      "cell_type": "code",
      "metadata": {
        "id": "THIm25lt1Y5-",
        "outputId": "99101751-f51b-463e-9653-89247e7a37c8",
        "colab": {
          "base_uri": "https://localhost:8080/"
        }
      },
      "source": [
        "# answer below:\n",
        "from sklearn.model_selection import GridSearchCV\n",
        "\n",
        "params = {'learning_rate': [.001, .01, .1, .25, .5, .75]}\n",
        "grid = GridSearchCV(GradientBoostingClassifier(), param_grid=params, cv=5, verbose=1, scoring='recall')\n",
        "grid.fit(X_train, y_train)"
      ],
      "execution_count": null,
      "outputs": [
        {
          "output_type": "stream",
          "text": [
            "Fitting 5 folds for each of 6 candidates, totalling 30 fits\n"
          ],
          "name": "stdout"
        },
        {
          "output_type": "stream",
          "text": [
            "[Parallel(n_jobs=1)]: Using backend SequentialBackend with 1 concurrent workers.\n",
            "[Parallel(n_jobs=1)]: Done  30 out of  30 | elapsed:    1.8s finished\n"
          ],
          "name": "stderr"
        },
        {
          "output_type": "execute_result",
          "data": {
            "text/plain": [
              "GridSearchCV(cv=5, error_score=nan,\n",
              "             estimator=GradientBoostingClassifier(ccp_alpha=0.0,\n",
              "                                                  criterion='friedman_mse',\n",
              "                                                  init=None, learning_rate=0.1,\n",
              "                                                  loss='deviance', max_depth=3,\n",
              "                                                  max_features=None,\n",
              "                                                  max_leaf_nodes=None,\n",
              "                                                  min_impurity_decrease=0.0,\n",
              "                                                  min_impurity_split=None,\n",
              "                                                  min_samples_leaf=1,\n",
              "                                                  min_samples_split=2,\n",
              "                                                  min_weight_fraction_leaf=0.0,\n",
              "                                                  n_estimators=100,\n",
              "                                                  n_iter_no_change=None,\n",
              "                                                  presort='deprecated',\n",
              "                                                  random_state=None,\n",
              "                                                  subsample=1.0, tol=0.0001,\n",
              "                                                  validation_fraction=0.1,\n",
              "                                                  verbose=0, warm_start=False),\n",
              "             iid='deprecated', n_jobs=None,\n",
              "             param_grid={'learning_rate': [0.001, 0.01, 0.1, 0.25, 0.5, 0.75]},\n",
              "             pre_dispatch='2*n_jobs', refit=True, return_train_score=False,\n",
              "             scoring='recall', verbose=1)"
            ]
          },
          "metadata": {
            "tags": []
          },
          "execution_count": 34
        }
      ]
    },
    {
      "cell_type": "markdown",
      "metadata": {
        "id": "1mA0V4c-1Y5_"
      },
      "source": [
        "List the feature importances for the model with the optimal learning rate."
      ]
    },
    {
      "cell_type": "code",
      "metadata": {
        "id": "JvDUGgYE1Y6A",
        "outputId": "677452fc-9a9e-4932-a28d-44ee9ef1e1a8",
        "colab": {
          "base_uri": "https://localhost:8080/"
        }
      },
      "source": [
        "# answer below:\n",
        "grid.best_params_\n"
      ],
      "execution_count": null,
      "outputs": [
        {
          "output_type": "execute_result",
          "data": {
            "text/plain": [
              "1.0"
            ]
          },
          "metadata": {
            "tags": []
          },
          "execution_count": 36
        }
      ]
    },
    {
      "cell_type": "code",
      "metadata": {
        "id": "XV_Q55tNiHnk",
        "outputId": "317b021c-d4d4-4cff-aac8-18675880dcea",
        "colab": {
          "base_uri": "https://localhost:8080/"
        }
      },
      "source": [
        "grid.best_score_"
      ],
      "execution_count": null,
      "outputs": [
        {
          "output_type": "execute_result",
          "data": {
            "text/plain": [
              "1.0"
            ]
          },
          "metadata": {
            "tags": []
          },
          "execution_count": 37
        }
      ]
    },
    {
      "cell_type": "code",
      "metadata": {
        "id": "kVRFbi_Z1Y6B"
      },
      "source": [
        ""
      ],
      "execution_count": null,
      "outputs": []
    }
  ]
}