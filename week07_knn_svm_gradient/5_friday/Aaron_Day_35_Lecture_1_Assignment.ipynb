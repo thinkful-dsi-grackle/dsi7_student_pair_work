{
 "cells": [
  {
   "cell_type": "markdown",
   "metadata": {
    "colab_type": "text",
    "id": "fekXcsQ31Y5o"
   },
   "source": [
    "## Day 35 Lecture 1 Assignment\n",
    "\n",
    "In this assignment, we will learn about gradient boosting. We will use a dataset describing survival rates after breast cancer surgery loaded below and analyze the model generated for this dataset."
   ]
  },
  {
   "cell_type": "code",
   "execution_count": 1,
   "metadata": {
    "colab": {},
    "colab_type": "code",
    "id": "R5mR8fdy1Y5p"
   },
   "outputs": [],
   "source": [
    "%matplotlib inline\n",
    "\n",
    "import matplotlib.pyplot as plt\n",
    "import numpy as np\n",
    "import pandas as pd"
   ]
  },
  {
   "cell_type": "code",
   "execution_count": 2,
   "metadata": {
    "colab": {},
    "colab_type": "code",
    "id": "xFdOjNYx1Y5r"
   },
   "outputs": [],
   "source": [
    "# Attributes:\n",
    "# Age of patient at time of operation (numerical)\n",
    "# Patient's year of operation (year - 1900, numerical)\n",
    "# Number of positive axillary nodes detected (numerical)\n",
    "# Survival status (class attribute)\n",
    "#  -- 1 = the patient survived 5 years or longer\n",
    "#  -- 2 = the patient died within 5 year\n",
    "\n",
    "cols = ['age', 'op_year', 'nodes', 'survival']\n",
    "cancer = pd.read_csv('https://tf-assets-prod.s3.amazonaws.com/tf-curric/data-science/haberman.data', names=cols)"
   ]
  },
  {
   "cell_type": "code",
   "execution_count": 3,
   "metadata": {
    "colab": {},
    "colab_type": "code",
    "id": "oSr5jOq91Y5t",
    "outputId": "6a727e31-7456-44e7-dfd9-28d8bb926274"
   },
   "outputs": [
    {
     "data": {
      "text/html": [
       "<div>\n",
       "<style scoped>\n",
       "    .dataframe tbody tr th:only-of-type {\n",
       "        vertical-align: middle;\n",
       "    }\n",
       "\n",
       "    .dataframe tbody tr th {\n",
       "        vertical-align: top;\n",
       "    }\n",
       "\n",
       "    .dataframe thead th {\n",
       "        text-align: right;\n",
       "    }\n",
       "</style>\n",
       "<table border=\"1\" class=\"dataframe\">\n",
       "  <thead>\n",
       "    <tr style=\"text-align: right;\">\n",
       "      <th></th>\n",
       "      <th>age</th>\n",
       "      <th>op_year</th>\n",
       "      <th>nodes</th>\n",
       "      <th>survival</th>\n",
       "    </tr>\n",
       "  </thead>\n",
       "  <tbody>\n",
       "    <tr>\n",
       "      <th>0</th>\n",
       "      <td>30</td>\n",
       "      <td>64</td>\n",
       "      <td>1</td>\n",
       "      <td>1</td>\n",
       "    </tr>\n",
       "    <tr>\n",
       "      <th>1</th>\n",
       "      <td>30</td>\n",
       "      <td>62</td>\n",
       "      <td>3</td>\n",
       "      <td>1</td>\n",
       "    </tr>\n",
       "    <tr>\n",
       "      <th>2</th>\n",
       "      <td>30</td>\n",
       "      <td>65</td>\n",
       "      <td>0</td>\n",
       "      <td>1</td>\n",
       "    </tr>\n",
       "    <tr>\n",
       "      <th>3</th>\n",
       "      <td>31</td>\n",
       "      <td>59</td>\n",
       "      <td>2</td>\n",
       "      <td>1</td>\n",
       "    </tr>\n",
       "    <tr>\n",
       "      <th>4</th>\n",
       "      <td>31</td>\n",
       "      <td>65</td>\n",
       "      <td>4</td>\n",
       "      <td>1</td>\n",
       "    </tr>\n",
       "  </tbody>\n",
       "</table>\n",
       "</div>"
      ],
      "text/plain": [
       "   age  op_year  nodes  survival\n",
       "0   30       64      1         1\n",
       "1   30       62      3         1\n",
       "2   30       65      0         1\n",
       "3   31       59      2         1\n",
       "4   31       65      4         1"
      ]
     },
     "execution_count": 3,
     "metadata": {},
     "output_type": "execute_result"
    }
   ],
   "source": [
    "cancer.head()"
   ]
  },
  {
   "cell_type": "markdown",
   "metadata": {
    "colab_type": "text",
    "id": "xpzL7uVd1Y5w"
   },
   "source": [
    "Check for missing data and remove all rows containing missing data"
   ]
  },
  {
   "cell_type": "code",
   "execution_count": 4,
   "metadata": {
    "colab": {},
    "colab_type": "code",
    "id": "tu269alM1Y5w"
   },
   "outputs": [
    {
     "name": "stdout",
     "output_type": "stream",
     "text": [
      "<class 'pandas.core.frame.DataFrame'>\n",
      "RangeIndex: 306 entries, 0 to 305\n",
      "Data columns (total 4 columns):\n",
      " #   Column    Non-Null Count  Dtype\n",
      "---  ------    --------------  -----\n",
      " 0   age       306 non-null    int64\n",
      " 1   op_year   306 non-null    int64\n",
      " 2   nodes     306 non-null    int64\n",
      " 3   survival  306 non-null    int64\n",
      "dtypes: int64(4)\n",
      "memory usage: 9.7 KB\n"
     ]
    }
   ],
   "source": [
    "# answer below:\n",
    "cancer.info()\n"
   ]
  },
  {
   "cell_type": "markdown",
   "metadata": {
    "colab_type": "text",
    "id": "0k1JQp5x1Y5y"
   },
   "source": [
    "Adjust the target variable so that it has values of either 0 or 1"
   ]
  },
  {
   "cell_type": "code",
   "execution_count": 5,
   "metadata": {
    "colab": {},
    "colab_type": "code",
    "id": "KaZ87xnh1Y5y"
   },
   "outputs": [
    {
     "data": {
      "text/plain": [
       "0      1\n",
       "1      1\n",
       "2      1\n",
       "3      1\n",
       "4      1\n",
       "      ..\n",
       "301    1\n",
       "302    1\n",
       "303    1\n",
       "304    0\n",
       "305    0\n",
       "Name: survival, Length: 306, dtype: int64"
      ]
     },
     "execution_count": 5,
     "metadata": {},
     "output_type": "execute_result"
    }
   ],
   "source": [
    "# answer below:\n",
    "cancer.survival = cancer.survival.map({1:1, 2:0})\n",
    "cancer.survival"
   ]
  },
  {
   "cell_type": "markdown",
   "metadata": {
    "colab_type": "text",
    "id": "b5Q3DG0d1Y52"
   },
   "source": [
    "Split the data into train and test (20% in test)"
   ]
  },
  {
   "cell_type": "code",
   "execution_count": 6,
   "metadata": {
    "colab": {},
    "colab_type": "code",
    "id": "oXWw6ZNJ1Y52"
   },
   "outputs": [],
   "source": [
    "# answer below:\n",
    "from sklearn.model_selection import train_test_split\n",
    "\n",
    "X = cancer.drop('survival', axis=1)\n",
    "y = cancer.survival\n",
    "\n",
    "X_train, X_test, y_train, y_test = train_test_split(X, y, test_size=0.2)"
   ]
  },
  {
   "cell_type": "markdown",
   "metadata": {
    "colab_type": "text",
    "id": "fM7H5aHv1Y54"
   },
   "source": [
    "Create a gradient boosted classification algorithm with a learning rate of 0.01 and max depth of 5. Report the accuracy."
   ]
  },
  {
   "cell_type": "code",
   "execution_count": 7,
   "metadata": {
    "colab": {},
    "colab_type": "code",
    "id": "a9TAc-mt1Y54"
   },
   "outputs": [
    {
     "name": "stdout",
     "output_type": "stream",
     "text": [
      "Train accuracy: 0.8401639344262295\n",
      "Test accuracy: 0.7903225806451613\n",
      "\n"
     ]
    }
   ],
   "source": [
    "# answer below:\n",
    "from sklearn.ensemble import GradientBoostingClassifier\n",
    "\n",
    "gbc = GradientBoostingClassifier(learning_rate=0.01, max_depth=5)\n",
    "\n",
    "gbc.fit(X_train, y_train)\n",
    "\n",
    "print(\n",
    "    f'Train accuracy: {gbc.score(X_train, y_train)}\\n'\n",
    "    f'Test accuracy: {gbc.score(X_test, y_test)}\\n'\n",
    ")"
   ]
  },
  {
   "cell_type": "markdown",
   "metadata": {
    "colab_type": "text",
    "id": "Esd0b5Bm1Y55"
   },
   "source": [
    "Print the confusion matrix for the test data. What do you notice about our predictions?"
   ]
  },
  {
   "cell_type": "code",
   "execution_count": 14,
   "metadata": {
    "colab": {},
    "colab_type": "code",
    "id": "JIvrO5T11Y56"
   },
   "outputs": [
    {
     "data": {
      "text/plain": [
       "array([[ 4, 11],\n",
       "       [ 2, 45]])"
      ]
     },
     "execution_count": 14,
     "metadata": {},
     "output_type": "execute_result"
    }
   ],
   "source": [
    "# answer below:\n",
    "from sklearn.metrics import confusion_matrix\n",
    "\n",
    "y_test_pred = gbc.predict(X_test)\n",
    "\n",
    "confusion_matrix(y_test, y_test_pred)\n",
    "\n"
   ]
  },
  {
   "cell_type": "code",
   "execution_count": null,
   "metadata": {},
   "outputs": [],
   "source": [
    "# Not many true negatives and a large amount of false positives"
   ]
  },
  {
   "cell_type": "markdown",
   "metadata": {
    "colab_type": "text",
    "id": "ovaWOAlx1Y57"
   },
   "source": [
    "Print the confusion matrix for a learning rate of 1 and a learning rate of 0.5. What do you see now that stands out to you in the confusion matrix?"
   ]
  },
  {
   "cell_type": "code",
   "execution_count": 15,
   "metadata": {
    "colab": {},
    "colab_type": "code",
    "id": "KmDWFQ6W1Y58"
   },
   "outputs": [
    {
     "name": "stdout",
     "output_type": "stream",
     "text": [
      "Learning rate: 1\n",
      "[[ 2 13]\n",
      " [11 36]]\n",
      "Learning rate: 0.5\n",
      "[[ 4 11]\n",
      " [10 37]]\n"
     ]
    }
   ],
   "source": [
    "# answer below:\n",
    "\n",
    "gbc2 = GradientBoostingClassifier(learning_rate=1, max_depth=5)\n",
    "gbc3 = GradientBoostingClassifier(learning_rate=0.5, max_depth=5)\n",
    "\n",
    "gbc2.fit(X_train, y_train)\n",
    "gbc3.fit(X_train, y_train)\n",
    "\n",
    "y_test_pred2 = gbc2.predict(X_test)\n",
    "y_test_pred3 = gbc3.predict(X_test)\n",
    "\n",
    "print(f'Learning rate: {gbc2.learning_rate}')\n",
    "print(confusion_matrix(y_test, y_test_pred2))\n",
    "\n",
    "print(f'Learning rate: {gbc3.learning_rate}')\n",
    "print(confusion_matrix(y_test, y_test_pred3))\n",
    "\n"
   ]
  },
  {
   "cell_type": "code",
   "execution_count": null,
   "metadata": {},
   "outputs": [],
   "source": [
    "# Learing rate 1 model is worse at predicting both classes. \n",
    "# Learning rate 0.5 is worse at predicting the positive class."
   ]
  },
  {
   "cell_type": "markdown",
   "metadata": {
    "colab_type": "text",
    "id": "Febdo34L1Y59"
   },
   "source": [
    "Perform a grid search for the optimal learning rate. Instead of accuracy, use a metric that will help your model predict the positive class."
   ]
  },
  {
   "cell_type": "code",
   "execution_count": 39,
   "metadata": {
    "colab": {},
    "colab_type": "code",
    "id": "THIm25lt1Y5-"
   },
   "outputs": [
    {
     "name": "stdout",
     "output_type": "stream",
     "text": [
      "Learning rate: 0.001\n",
      "[[ 0 15]\n",
      " [ 0 47]]\n"
     ]
    }
   ],
   "source": [
    "# answer below:\n",
    "from sklearn.model_selection import GridSearchCV, RandomizedSearchCV\n",
    "\n",
    "gbc4 = GradientBoostingClassifier(max_depth=5, n_iter_no_change=10)\n",
    "\n",
    "param_grid = {\n",
    "    'learning_rate':[0.9, 0.75, 0.5, 0.25, 0.1, 0.01, 0.001]\n",
    "}\n",
    "\n",
    "grid = GridSearchCV(gbc4, param_grid, scoring='recall', n_jobs=-1, cv=5)\n",
    "grid.fit(X_train, y_train)\n",
    "\n",
    "y_test_pred4 = grid.best_estimator_.predict(X_test)\n",
    "\n",
    "print(f'Learning rate: {grid.best_estimator_.learning_rate}')\n",
    "print(confusion_matrix(y_test, y_test_pred4))"
   ]
  },
  {
   "cell_type": "code",
   "execution_count": 46,
   "metadata": {},
   "outputs": [
    {
     "name": "stdout",
     "output_type": "stream",
     "text": [
      "Learning rate: 0.012557095292209797\n",
      "[[ 0 15]\n",
      " [ 0 47]]\n"
     ]
    }
   ],
   "source": [
    "from scipy import stats\n",
    "gbc5 = GradientBoostingClassifier(max_depth=3, n_iter_no_change=10)\n",
    "\n",
    "param_grid = {\n",
    "    'learning_rate':stats.uniform(0.0001, 0.9)\n",
    "}\n",
    "\n",
    "grid2 = RandomizedSearchCV(gbc4, param_grid, scoring='recall', n_jobs=-1, n_iter=100)\n",
    "grid2.fit(X_train, y_train)\n",
    "\n",
    "y_test_pred5 = grid2.best_estimator_.predict(X_test)\n",
    "\n",
    "print(f'Learning rate: {grid2.best_estimator_.learning_rate}')\n",
    "print(confusion_matrix(y_test, y_test_pred5))"
   ]
  },
  {
   "cell_type": "markdown",
   "metadata": {
    "colab_type": "text",
    "id": "1mA0V4c-1Y5_"
   },
   "source": [
    "List the feature importances for the model with the optimal learning rate."
   ]
  },
  {
   "cell_type": "code",
   "execution_count": 49,
   "metadata": {
    "colab": {},
    "colab_type": "code",
    "id": "JvDUGgYE1Y6A"
   },
   "outputs": [
    {
     "data": {
      "text/plain": [
       "age        0.416221\n",
       "op_year    0.052890\n",
       "nodes      0.530889\n",
       "dtype: float64"
      ]
     },
     "execution_count": 49,
     "metadata": {},
     "output_type": "execute_result"
    }
   ],
   "source": [
    "# answer below:\n",
    "\n",
    "pd.Series(grid2.best_estimator_.feature_importances_, index=X_train.columns)\n"
   ]
  },
  {
   "cell_type": "code",
   "execution_count": null,
   "metadata": {},
   "outputs": [],
   "source": []
  }
 ],
 "metadata": {
  "colab": {
   "collapsed_sections": [],
   "name": "Day 35 Lecture 1 Assignment.ipynb",
   "provenance": []
  },
  "kernelspec": {
   "display_name": "Python 3",
   "language": "python",
   "name": "python3"
  },
  "language_info": {
   "codemirror_mode": {
    "name": "ipython",
    "version": 3
   },
   "file_extension": ".py",
   "mimetype": "text/x-python",
   "name": "python",
   "nbconvert_exporter": "python",
   "pygments_lexer": "ipython3",
   "version": "3.8.5"
  }
 },
 "nbformat": 4,
 "nbformat_minor": 1
}
