{
  "nbformat": 4,
  "nbformat_minor": 0,
  "metadata": {
    "kernelspec": {
      "display_name": "Python 3",
      "language": "python",
      "name": "python3"
    },
    "language_info": {
      "codemirror_mode": {
        "name": "ipython",
        "version": 3
      },
      "file_extension": ".py",
      "mimetype": "text/x-python",
      "name": "python",
      "nbconvert_exporter": "python",
      "pygments_lexer": "ipython3",
      "version": "3.7.0"
    },
    "colab": {
      "name": "Day 35 Lecture 2 Assignment.ipynb",
      "provenance": [],
      "collapsed_sections": []
    }
  },
  "cells": [
    {
      "cell_type": "markdown",
      "metadata": {
        "id": "dSoIEkGEtESB"
      },
      "source": [
        "## Day 35 Lecture 2 Assignment\n",
        "\n",
        "In this assignment, we will combine what we have learned so far about classification algorithms this week."
      ]
    },
    {
      "cell_type": "code",
      "metadata": {
        "id": "-5YT-oMVtESC"
      },
      "source": [
        "import numpy as np\n",
        "import pandas as pd\n",
        "\n",
        "import matplotlib.pyplot as plt\n",
        "\n",
        "%matplotlib inline"
      ],
      "execution_count": 36,
      "outputs": []
    },
    {
      "cell_type": "code",
      "metadata": {
        "id": "B_y2kppttESD"
      },
      "source": [
        "admission = pd.read_csv('https://tf-assets-prod.s3.amazonaws.com/tf-curric/data-science/Admission_Predict.csv')"
      ],
      "execution_count": 37,
      "outputs": []
    },
    {
      "cell_type": "code",
      "metadata": {
        "id": "gz4Ocl5wtESF",
        "outputId": "1ea172c1-f569-46fd-da8b-57b171380813",
        "colab": {
          "base_uri": "https://localhost:8080/",
          "height": 221
        }
      },
      "source": [
        "admission.head()\n",
        "#admission.columns"
      ],
      "execution_count": 38,
      "outputs": [
        {
          "output_type": "execute_result",
          "data": {
            "text/html": [
              "<div>\n",
              "<style scoped>\n",
              "    .dataframe tbody tr th:only-of-type {\n",
              "        vertical-align: middle;\n",
              "    }\n",
              "\n",
              "    .dataframe tbody tr th {\n",
              "        vertical-align: top;\n",
              "    }\n",
              "\n",
              "    .dataframe thead th {\n",
              "        text-align: right;\n",
              "    }\n",
              "</style>\n",
              "<table border=\"1\" class=\"dataframe\">\n",
              "  <thead>\n",
              "    <tr style=\"text-align: right;\">\n",
              "      <th></th>\n",
              "      <th>Serial No.</th>\n",
              "      <th>GRE Score</th>\n",
              "      <th>TOEFL Score</th>\n",
              "      <th>University Rating</th>\n",
              "      <th>SOP</th>\n",
              "      <th>LOR</th>\n",
              "      <th>CGPA</th>\n",
              "      <th>Research</th>\n",
              "      <th>Chance of Admit</th>\n",
              "    </tr>\n",
              "  </thead>\n",
              "  <tbody>\n",
              "    <tr>\n",
              "      <th>0</th>\n",
              "      <td>1</td>\n",
              "      <td>337</td>\n",
              "      <td>118</td>\n",
              "      <td>4</td>\n",
              "      <td>4.5</td>\n",
              "      <td>4.5</td>\n",
              "      <td>9.65</td>\n",
              "      <td>1</td>\n",
              "      <td>0.92</td>\n",
              "    </tr>\n",
              "    <tr>\n",
              "      <th>1</th>\n",
              "      <td>2</td>\n",
              "      <td>324</td>\n",
              "      <td>107</td>\n",
              "      <td>4</td>\n",
              "      <td>4.0</td>\n",
              "      <td>4.5</td>\n",
              "      <td>8.87</td>\n",
              "      <td>1</td>\n",
              "      <td>0.76</td>\n",
              "    </tr>\n",
              "    <tr>\n",
              "      <th>2</th>\n",
              "      <td>3</td>\n",
              "      <td>316</td>\n",
              "      <td>104</td>\n",
              "      <td>3</td>\n",
              "      <td>3.0</td>\n",
              "      <td>3.5</td>\n",
              "      <td>8.00</td>\n",
              "      <td>1</td>\n",
              "      <td>0.72</td>\n",
              "    </tr>\n",
              "    <tr>\n",
              "      <th>3</th>\n",
              "      <td>4</td>\n",
              "      <td>322</td>\n",
              "      <td>110</td>\n",
              "      <td>3</td>\n",
              "      <td>3.5</td>\n",
              "      <td>2.5</td>\n",
              "      <td>8.67</td>\n",
              "      <td>1</td>\n",
              "      <td>0.80</td>\n",
              "    </tr>\n",
              "    <tr>\n",
              "      <th>4</th>\n",
              "      <td>5</td>\n",
              "      <td>314</td>\n",
              "      <td>103</td>\n",
              "      <td>2</td>\n",
              "      <td>2.0</td>\n",
              "      <td>3.0</td>\n",
              "      <td>8.21</td>\n",
              "      <td>0</td>\n",
              "      <td>0.65</td>\n",
              "    </tr>\n",
              "  </tbody>\n",
              "</table>\n",
              "</div>"
            ],
            "text/plain": [
              "   Serial No.  GRE Score  TOEFL Score  ...  CGPA  Research  Chance of Admit \n",
              "0           1        337          118  ...  9.65         1              0.92\n",
              "1           2        324          107  ...  8.87         1              0.76\n",
              "2           3        316          104  ...  8.00         1              0.72\n",
              "3           4        322          110  ...  8.67         1              0.80\n",
              "4           5        314          103  ...  8.21         0              0.65\n",
              "\n",
              "[5 rows x 9 columns]"
            ]
          },
          "metadata": {
            "tags": []
          },
          "execution_count": 38
        }
      ]
    },
    {
      "cell_type": "markdown",
      "metadata": {
        "id": "jcRQ0iIQtESH"
      },
      "source": [
        "In this assignment, we will predict the probability of a student being admitted to a PhD program given their stats. To make the predictions, find the median for the Chance of Admit column. Create an admit column where all probabilities above the median will receive a 1 for that column and all probabilities below the median will be a zero.\n",
        "\n",
        "Below you will process and clean the data, try the SVM classifier, the gradient boosted decision tree classifier and XGBoost, and compare your results.\n",
        "\n",
        "Have fun!"
      ]
    },
    {
      "cell_type": "code",
      "metadata": {
        "id": "BccfFh0JtESH"
      },
      "source": [
        "# Answer below:"
      ],
      "execution_count": 39,
      "outputs": []
    },
    {
      "cell_type": "code",
      "metadata": {
        "id": "Zz03Y407tESJ"
      },
      "source": [
        "#admission['Chance of Admit '].median()"
      ],
      "execution_count": 40,
      "outputs": []
    },
    {
      "cell_type": "code",
      "metadata": {
        "id": "57T0aZuUeb0B"
      },
      "source": [
        "#admission['admit'] = np.where(admission['Chance of Admit '] >= admission['Chance of Admit '].median(), 1, 0)"
      ],
      "execution_count": null,
      "outputs": []
    },
    {
      "cell_type": "code",
      "metadata": {
        "id": "Y497kJVp8eqt"
      },
      "source": [
        "admission['Chance of Admit '] = admission['Chance of Admit '] >= admission['Chance of Admit '].median()"
      ],
      "execution_count": 41,
      "outputs": []
    },
    {
      "cell_type": "code",
      "metadata": {
        "id": "vykeZado8tmy",
        "outputId": "892f9c7b-24f9-47da-8329-8b49fbab4cc9",
        "colab": {
          "base_uri": "https://localhost:8080/"
        }
      },
      "source": [
        "admission['Chance of Admit '].value_counts()"
      ],
      "execution_count": 42,
      "outputs": [
        {
          "output_type": "execute_result",
          "data": {
            "text/plain": [
              "True     204\n",
              "False    196\n",
              "Name: Chance of Admit , dtype: int64"
            ]
          },
          "metadata": {
            "tags": []
          },
          "execution_count": 42
        }
      ]
    },
    {
      "cell_type": "code",
      "metadata": {
        "id": "Ueba6wxp81FS"
      },
      "source": [
        "admission = pd.concat([admission,pd.get_dummies(admission['Chance of Admit '], prefix='Admit', drop_first=True)], axis=1)"
      ],
      "execution_count": 43,
      "outputs": []
    },
    {
      "cell_type": "code",
      "metadata": {
        "id": "B4HWcEJl9KBT"
      },
      "source": [
        "admission.drop(columns='Chance of Admit ', inplace=True)"
      ],
      "execution_count": 44,
      "outputs": []
    },
    {
      "cell_type": "code",
      "metadata": {
        "id": "jjDoGYnA9cYg",
        "outputId": "9f46a1e0-7564-4517-bd08-00d456cc28ab",
        "colab": {
          "base_uri": "https://localhost:8080/"
        }
      },
      "source": [
        "admission['Admit_True'].value_counts()"
      ],
      "execution_count": 45,
      "outputs": [
        {
          "output_type": "execute_result",
          "data": {
            "text/plain": [
              "1    204\n",
              "0    196\n",
              "Name: Admit_True, dtype: int64"
            ]
          },
          "metadata": {
            "tags": []
          },
          "execution_count": 45
        }
      ]
    },
    {
      "cell_type": "code",
      "metadata": {
        "id": "naH7lUvN_aQY",
        "outputId": "b65241ee-85d5-4716-cbc2-d3b72a52d9d6",
        "colab": {
          "base_uri": "https://localhost:8080/"
        }
      },
      "source": [
        "admission.isnull().sum()*100/admission.isnull().count()\n"
      ],
      "execution_count": 46,
      "outputs": [
        {
          "output_type": "execute_result",
          "data": {
            "text/plain": [
              "Serial No.           0.0\n",
              "GRE Score            0.0\n",
              "TOEFL Score          0.0\n",
              "University Rating    0.0\n",
              "SOP                  0.0\n",
              "LOR                  0.0\n",
              "CGPA                 0.0\n",
              "Research             0.0\n",
              "Admit_True           0.0\n",
              "dtype: float64"
            ]
          },
          "metadata": {
            "tags": []
          },
          "execution_count": 46
        }
      ]
    },
    {
      "cell_type": "code",
      "metadata": {
        "id": "YP-3gfcA_mRN",
        "outputId": "533634c4-a08b-4933-9644-a1d53a345ec7",
        "colab": {
          "base_uri": "https://localhost:8080/"
        }
      },
      "source": [
        "# answer below:\n",
        "from sklearn.model_selection import train_test_split\n",
        "\n",
        "X = admission.drop(columns='Admit_True')\n",
        "y = admission['Admit_True']\n",
        "\n",
        "X_train, X_test, y_train, y_test = train_test_split(X, y, test_size = 0.2)\n",
        "print(\"The number of observations in training set is {}\".format(X_train.shape[0]))\n",
        "print(\"The number of observations in test set is {}\".format(X_test.shape[0]))"
      ],
      "execution_count": 47,
      "outputs": [
        {
          "output_type": "stream",
          "text": [
            "The number of observations in training set is 320\n",
            "The number of observations in test set is 80\n"
          ],
          "name": "stdout"
        }
      ]
    },
    {
      "cell_type": "code",
      "metadata": {
        "id": "B2l8TGh0Cx6a"
      },
      "source": [
        "from sklearn.preprocessing import StandardScaler\n",
        "\n",
        "scaler = StandardScaler()\n",
        "\n",
        "X_train_scale = scaler.fit_transform(X_train)\n",
        "X_test_scale = scaler.transform(X_test)"
      ],
      "execution_count": 48,
      "outputs": []
    },
    {
      "cell_type": "code",
      "metadata": {
        "id": "_SHUFehvE2xf"
      },
      "source": [
        "from sklearn.metrics import confusion_matrix\n",
        "from sklearn.metrics import classification_report"
      ],
      "execution_count": 50,
      "outputs": []
    },
    {
      "cell_type": "code",
      "metadata": {
        "id": "NGOL8iWn_w11",
        "outputId": "919fcb46-8e63-4723-e100-88409c467cd3",
        "colab": {
          "base_uri": "https://localhost:8080/"
        }
      },
      "source": [
        "from sklearn.svm import SVC\n",
        "\n",
        "svc = SVC()\n",
        "svc.fit(X_train_scale, y_train)\n",
        "\n",
        "print(svc.score(X_train_scale, y_train))\n",
        "print(svc.score(X_test_scale, y_test))\n",
        "\n",
        "\n",
        "y_pred = svc.predict(X_test_scale)\n",
        "print(confusion_matrix(y_test, y_pred))\n",
        "print(classification_report(y_test, y_pred))"
      ],
      "execution_count": 55,
      "outputs": [
        {
          "output_type": "stream",
          "text": [
            "0.921875\n",
            "0.8375\n",
            "[[32  6]\n",
            " [ 7 35]]\n",
            "              precision    recall  f1-score   support\n",
            "\n",
            "           0       0.82      0.84      0.83        38\n",
            "           1       0.85      0.83      0.84        42\n",
            "\n",
            "    accuracy                           0.84        80\n",
            "   macro avg       0.84      0.84      0.84        80\n",
            "weighted avg       0.84      0.84      0.84        80\n",
            "\n"
          ],
          "name": "stdout"
        }
      ]
    },
    {
      "cell_type": "code",
      "metadata": {
        "id": "dbH21sz5_9_t",
        "outputId": "56d02b93-ba72-4c1c-a168-abfbada37573",
        "colab": {
          "base_uri": "https://localhost:8080/"
        }
      },
      "source": [
        "from sklearn.ensemble import GradientBoostingClassifier as GBC\n",
        "\n",
        "gbc = GBC()\n",
        "gbc.fit(X_train_scale, y_train)\n",
        "\n",
        "print(gbc.score(X_train_scale, y_train))\n",
        "print(gbc.score(X_test_scale, y_test))\n",
        "\n",
        "\n",
        "y_pred1 = gbc.predict(X_test_scale)\n",
        "print(confusion_matrix(y_test, y_pred1))\n",
        "print(classification_report(y_test, y_pred1))"
      ],
      "execution_count": 56,
      "outputs": [
        {
          "output_type": "stream",
          "text": [
            "0.996875\n",
            "0.8125\n",
            "[[33  5]\n",
            " [10 32]]\n",
            "              precision    recall  f1-score   support\n",
            "\n",
            "           0       0.77      0.87      0.81        38\n",
            "           1       0.86      0.76      0.81        42\n",
            "\n",
            "    accuracy                           0.81        80\n",
            "   macro avg       0.82      0.82      0.81        80\n",
            "weighted avg       0.82      0.81      0.81        80\n",
            "\n"
          ],
          "name": "stdout"
        }
      ]
    },
    {
      "cell_type": "code",
      "metadata": {
        "id": "9v-Nag0p_-1E",
        "outputId": "91e14906-1725-4a43-dc90-42513d009f68",
        "colab": {
          "base_uri": "https://localhost:8080/"
        }
      },
      "source": [
        "!pip install xgboost"
      ],
      "execution_count": 53,
      "outputs": [
        {
          "output_type": "stream",
          "text": [
            "Requirement already satisfied: xgboost in /usr/local/lib/python3.6/dist-packages (0.90)\n",
            "Requirement already satisfied: scipy in /usr/local/lib/python3.6/dist-packages (from xgboost) (1.4.1)\n",
            "Requirement already satisfied: numpy in /usr/local/lib/python3.6/dist-packages (from xgboost) (1.18.5)\n"
          ],
          "name": "stdout"
        }
      ]
    },
    {
      "cell_type": "code",
      "metadata": {
        "id": "hJ4n8RBFBHc6",
        "outputId": "567fa8e6-9791-4b37-b3f1-2202cc4ae219",
        "colab": {
          "base_uri": "https://localhost:8080/"
        }
      },
      "source": [
        "from xgboost import XGBClassifier as XGBC\n",
        "\n",
        "xgbc = XGBC()\n",
        "xgbc.fit(X_train_scale, y_train)\n",
        "\n",
        "print(xgbc.score(X_train_scale, y_train))\n",
        "print(xgbc.score(X_test_scale, y_test))\n",
        "\n",
        "\n",
        "y_pred2 = xgbc.predict(X_test_scale)\n",
        "print(confusion_matrix(y_test, y_pred2))\n",
        "print(classification_report(y_test, y_pred2))"
      ],
      "execution_count": 57,
      "outputs": [
        {
          "output_type": "stream",
          "text": [
            "0.978125\n",
            "0.825\n",
            "[[33  5]\n",
            " [ 9 33]]\n",
            "              precision    recall  f1-score   support\n",
            "\n",
            "           0       0.79      0.87      0.82        38\n",
            "           1       0.87      0.79      0.82        42\n",
            "\n",
            "    accuracy                           0.82        80\n",
            "   macro avg       0.83      0.83      0.82        80\n",
            "weighted avg       0.83      0.82      0.82        80\n",
            "\n"
          ],
          "name": "stdout"
        }
      ]
    },
    {
      "cell_type": "code",
      "metadata": {
        "id": "MIawfpSxfcAd",
        "outputId": "046153d1-34a3-4a31-d73d-06952e0fd358",
        "colab": {
          "base_uri": "https://localhost:8080/"
        }
      },
      "source": [
        "print('Support Vector Score: ', svc.score(X_test_scale, y_test))\n",
        "\n",
        "print('Gradient Boost Score: ', gbc.score(X_test_scale, y_test))\n",
        "\n",
        "print('XGBoost Score: ', xgbc.score(X_test_scale, y_test))\n"
      ],
      "execution_count": 58,
      "outputs": [
        {
          "output_type": "stream",
          "text": [
            "Support Vector Score:  0.8375\n",
            "Gradient Boost Score:  0.8125\n",
            "XGBoost Score:  0.825\n"
          ],
          "name": "stdout"
        }
      ]
    }
  ]
}