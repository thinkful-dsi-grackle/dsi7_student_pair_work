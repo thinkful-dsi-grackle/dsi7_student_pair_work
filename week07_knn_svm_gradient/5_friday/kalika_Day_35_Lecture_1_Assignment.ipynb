{
  "nbformat": 4,
  "nbformat_minor": 0,
  "metadata": {
    "kernelspec": {
      "display_name": "Python 3",
      "language": "python",
      "name": "python3"
    },
    "language_info": {
      "codemirror_mode": {
        "name": "ipython",
        "version": 3
      },
      "file_extension": ".py",
      "mimetype": "text/x-python",
      "name": "python",
      "nbconvert_exporter": "python",
      "pygments_lexer": "ipython3",
      "version": "3.7.0"
    },
    "colab": {
      "name": "kalika  Day 35 Lecture 1 Assignment.ipynb",
      "provenance": [],
      "collapsed_sections": []
    }
  },
  "cells": [
    {
      "cell_type": "markdown",
      "metadata": {
        "id": "fekXcsQ31Y5o"
      },
      "source": [
        "## Day 35 Lecture 1 Assignment\n",
        "\n",
        "In this assignment, we will learn about gradient boosting. We will use a dataset describing survival rates after breast cancer surgery loaded below and analyze the model generated for this dataset."
      ]
    },
    {
      "cell_type": "code",
      "metadata": {
        "id": "R5mR8fdy1Y5p"
      },
      "source": [
        "%matplotlib inline\n",
        "\n",
        "import matplotlib.pyplot as plt\n",
        "import numpy as np\n",
        "import pandas as pd"
      ],
      "execution_count": 19,
      "outputs": []
    },
    {
      "cell_type": "code",
      "metadata": {
        "id": "xFdOjNYx1Y5r"
      },
      "source": [
        "# Attributes:\n",
        "# Age of patient at time of operation (numerical)\n",
        "# Patient's year of operation (year - 1900, numerical)\n",
        "# Number of positive axillary nodes detected (numerical)\n",
        "# Survival status (class attribute)\n",
        "#  -- 1 = the patient survived 5 years or longer\n",
        "#  -- 2 = the patient died within 5 year\n",
        "\n",
        "cols = ['age', 'op_year', 'nodes', 'survival']\n",
        "cancer = pd.read_csv('https://tf-assets-prod.s3.amazonaws.com/tf-curric/data-science/haberman.data', names=cols)"
      ],
      "execution_count": 20,
      "outputs": []
    },
    {
      "cell_type": "code",
      "metadata": {
        "id": "oSr5jOq91Y5t",
        "outputId": "3c971f5b-936f-45a1-f57d-08e13a0c299d",
        "colab": {
          "base_uri": "https://localhost:8080/",
          "height": 195
        }
      },
      "source": [
        "cancer.head()"
      ],
      "execution_count": 21,
      "outputs": [
        {
          "output_type": "execute_result",
          "data": {
            "text/html": [
              "<div>\n",
              "<style scoped>\n",
              "    .dataframe tbody tr th:only-of-type {\n",
              "        vertical-align: middle;\n",
              "    }\n",
              "\n",
              "    .dataframe tbody tr th {\n",
              "        vertical-align: top;\n",
              "    }\n",
              "\n",
              "    .dataframe thead th {\n",
              "        text-align: right;\n",
              "    }\n",
              "</style>\n",
              "<table border=\"1\" class=\"dataframe\">\n",
              "  <thead>\n",
              "    <tr style=\"text-align: right;\">\n",
              "      <th></th>\n",
              "      <th>age</th>\n",
              "      <th>op_year</th>\n",
              "      <th>nodes</th>\n",
              "      <th>survival</th>\n",
              "    </tr>\n",
              "  </thead>\n",
              "  <tbody>\n",
              "    <tr>\n",
              "      <th>0</th>\n",
              "      <td>30</td>\n",
              "      <td>64</td>\n",
              "      <td>1</td>\n",
              "      <td>1</td>\n",
              "    </tr>\n",
              "    <tr>\n",
              "      <th>1</th>\n",
              "      <td>30</td>\n",
              "      <td>62</td>\n",
              "      <td>3</td>\n",
              "      <td>1</td>\n",
              "    </tr>\n",
              "    <tr>\n",
              "      <th>2</th>\n",
              "      <td>30</td>\n",
              "      <td>65</td>\n",
              "      <td>0</td>\n",
              "      <td>1</td>\n",
              "    </tr>\n",
              "    <tr>\n",
              "      <th>3</th>\n",
              "      <td>31</td>\n",
              "      <td>59</td>\n",
              "      <td>2</td>\n",
              "      <td>1</td>\n",
              "    </tr>\n",
              "    <tr>\n",
              "      <th>4</th>\n",
              "      <td>31</td>\n",
              "      <td>65</td>\n",
              "      <td>4</td>\n",
              "      <td>1</td>\n",
              "    </tr>\n",
              "  </tbody>\n",
              "</table>\n",
              "</div>"
            ],
            "text/plain": [
              "   age  op_year  nodes  survival\n",
              "0   30       64      1         1\n",
              "1   30       62      3         1\n",
              "2   30       65      0         1\n",
              "3   31       59      2         1\n",
              "4   31       65      4         1"
            ]
          },
          "metadata": {
            "tags": []
          },
          "execution_count": 21
        }
      ]
    },
    {
      "cell_type": "markdown",
      "metadata": {
        "id": "xpzL7uVd1Y5w"
      },
      "source": [
        "Check for missing data and remove all rows containing missing data"
      ]
    },
    {
      "cell_type": "code",
      "metadata": {
        "id": "tu269alM1Y5w",
        "outputId": "d163fe37-c039-41b3-ef31-f8c756020e31",
        "colab": {
          "base_uri": "https://localhost:8080/",
          "height": 402
        }
      },
      "source": [
        "# answer below:\n",
        "cancer.dropna()\n"
      ],
      "execution_count": 22,
      "outputs": [
        {
          "output_type": "execute_result",
          "data": {
            "text/html": [
              "<div>\n",
              "<style scoped>\n",
              "    .dataframe tbody tr th:only-of-type {\n",
              "        vertical-align: middle;\n",
              "    }\n",
              "\n",
              "    .dataframe tbody tr th {\n",
              "        vertical-align: top;\n",
              "    }\n",
              "\n",
              "    .dataframe thead th {\n",
              "        text-align: right;\n",
              "    }\n",
              "</style>\n",
              "<table border=\"1\" class=\"dataframe\">\n",
              "  <thead>\n",
              "    <tr style=\"text-align: right;\">\n",
              "      <th></th>\n",
              "      <th>age</th>\n",
              "      <th>op_year</th>\n",
              "      <th>nodes</th>\n",
              "      <th>survival</th>\n",
              "    </tr>\n",
              "  </thead>\n",
              "  <tbody>\n",
              "    <tr>\n",
              "      <th>0</th>\n",
              "      <td>30</td>\n",
              "      <td>64</td>\n",
              "      <td>1</td>\n",
              "      <td>1</td>\n",
              "    </tr>\n",
              "    <tr>\n",
              "      <th>1</th>\n",
              "      <td>30</td>\n",
              "      <td>62</td>\n",
              "      <td>3</td>\n",
              "      <td>1</td>\n",
              "    </tr>\n",
              "    <tr>\n",
              "      <th>2</th>\n",
              "      <td>30</td>\n",
              "      <td>65</td>\n",
              "      <td>0</td>\n",
              "      <td>1</td>\n",
              "    </tr>\n",
              "    <tr>\n",
              "      <th>3</th>\n",
              "      <td>31</td>\n",
              "      <td>59</td>\n",
              "      <td>2</td>\n",
              "      <td>1</td>\n",
              "    </tr>\n",
              "    <tr>\n",
              "      <th>4</th>\n",
              "      <td>31</td>\n",
              "      <td>65</td>\n",
              "      <td>4</td>\n",
              "      <td>1</td>\n",
              "    </tr>\n",
              "    <tr>\n",
              "      <th>...</th>\n",
              "      <td>...</td>\n",
              "      <td>...</td>\n",
              "      <td>...</td>\n",
              "      <td>...</td>\n",
              "    </tr>\n",
              "    <tr>\n",
              "      <th>301</th>\n",
              "      <td>75</td>\n",
              "      <td>62</td>\n",
              "      <td>1</td>\n",
              "      <td>1</td>\n",
              "    </tr>\n",
              "    <tr>\n",
              "      <th>302</th>\n",
              "      <td>76</td>\n",
              "      <td>67</td>\n",
              "      <td>0</td>\n",
              "      <td>1</td>\n",
              "    </tr>\n",
              "    <tr>\n",
              "      <th>303</th>\n",
              "      <td>77</td>\n",
              "      <td>65</td>\n",
              "      <td>3</td>\n",
              "      <td>1</td>\n",
              "    </tr>\n",
              "    <tr>\n",
              "      <th>304</th>\n",
              "      <td>78</td>\n",
              "      <td>65</td>\n",
              "      <td>1</td>\n",
              "      <td>2</td>\n",
              "    </tr>\n",
              "    <tr>\n",
              "      <th>305</th>\n",
              "      <td>83</td>\n",
              "      <td>58</td>\n",
              "      <td>2</td>\n",
              "      <td>2</td>\n",
              "    </tr>\n",
              "  </tbody>\n",
              "</table>\n",
              "<p>306 rows × 4 columns</p>\n",
              "</div>"
            ],
            "text/plain": [
              "     age  op_year  nodes  survival\n",
              "0     30       64      1         1\n",
              "1     30       62      3         1\n",
              "2     30       65      0         1\n",
              "3     31       59      2         1\n",
              "4     31       65      4         1\n",
              "..   ...      ...    ...       ...\n",
              "301   75       62      1         1\n",
              "302   76       67      0         1\n",
              "303   77       65      3         1\n",
              "304   78       65      1         2\n",
              "305   83       58      2         2\n",
              "\n",
              "[306 rows x 4 columns]"
            ]
          },
          "metadata": {
            "tags": []
          },
          "execution_count": 22
        }
      ]
    },
    {
      "cell_type": "markdown",
      "metadata": {
        "id": "0k1JQp5x1Y5y"
      },
      "source": [
        "Adjust the target variable so that it has values of either 0 or 1"
      ]
    },
    {
      "cell_type": "code",
      "metadata": {
        "id": "KaZ87xnh1Y5y"
      },
      "source": [
        "#change two to zero.\n",
        "cancer.loc[cancer.survival == 2, \"survival\"] = 0"
      ],
      "execution_count": 25,
      "outputs": []
    },
    {
      "cell_type": "code",
      "metadata": {
        "id": "_XP1wP9uNM2L",
        "outputId": "9ba3097e-ff11-4fda-90c4-ffa09d286a10",
        "colab": {
          "base_uri": "https://localhost:8080/",
          "height": 284
        }
      },
      "source": [
        "cancer.describe()"
      ],
      "execution_count": 26,
      "outputs": [
        {
          "output_type": "execute_result",
          "data": {
            "text/html": [
              "<div>\n",
              "<style scoped>\n",
              "    .dataframe tbody tr th:only-of-type {\n",
              "        vertical-align: middle;\n",
              "    }\n",
              "\n",
              "    .dataframe tbody tr th {\n",
              "        vertical-align: top;\n",
              "    }\n",
              "\n",
              "    .dataframe thead th {\n",
              "        text-align: right;\n",
              "    }\n",
              "</style>\n",
              "<table border=\"1\" class=\"dataframe\">\n",
              "  <thead>\n",
              "    <tr style=\"text-align: right;\">\n",
              "      <th></th>\n",
              "      <th>age</th>\n",
              "      <th>op_year</th>\n",
              "      <th>nodes</th>\n",
              "      <th>survival</th>\n",
              "    </tr>\n",
              "  </thead>\n",
              "  <tbody>\n",
              "    <tr>\n",
              "      <th>count</th>\n",
              "      <td>306.000000</td>\n",
              "      <td>306.000000</td>\n",
              "      <td>306.000000</td>\n",
              "      <td>306.000000</td>\n",
              "    </tr>\n",
              "    <tr>\n",
              "      <th>mean</th>\n",
              "      <td>52.457516</td>\n",
              "      <td>62.852941</td>\n",
              "      <td>4.026144</td>\n",
              "      <td>0.735294</td>\n",
              "    </tr>\n",
              "    <tr>\n",
              "      <th>std</th>\n",
              "      <td>10.803452</td>\n",
              "      <td>3.249405</td>\n",
              "      <td>7.189654</td>\n",
              "      <td>0.441899</td>\n",
              "    </tr>\n",
              "    <tr>\n",
              "      <th>min</th>\n",
              "      <td>30.000000</td>\n",
              "      <td>58.000000</td>\n",
              "      <td>0.000000</td>\n",
              "      <td>0.000000</td>\n",
              "    </tr>\n",
              "    <tr>\n",
              "      <th>25%</th>\n",
              "      <td>44.000000</td>\n",
              "      <td>60.000000</td>\n",
              "      <td>0.000000</td>\n",
              "      <td>0.000000</td>\n",
              "    </tr>\n",
              "    <tr>\n",
              "      <th>50%</th>\n",
              "      <td>52.000000</td>\n",
              "      <td>63.000000</td>\n",
              "      <td>1.000000</td>\n",
              "      <td>1.000000</td>\n",
              "    </tr>\n",
              "    <tr>\n",
              "      <th>75%</th>\n",
              "      <td>60.750000</td>\n",
              "      <td>65.750000</td>\n",
              "      <td>4.000000</td>\n",
              "      <td>1.000000</td>\n",
              "    </tr>\n",
              "    <tr>\n",
              "      <th>max</th>\n",
              "      <td>83.000000</td>\n",
              "      <td>69.000000</td>\n",
              "      <td>52.000000</td>\n",
              "      <td>1.000000</td>\n",
              "    </tr>\n",
              "  </tbody>\n",
              "</table>\n",
              "</div>"
            ],
            "text/plain": [
              "              age     op_year       nodes    survival\n",
              "count  306.000000  306.000000  306.000000  306.000000\n",
              "mean    52.457516   62.852941    4.026144    0.735294\n",
              "std     10.803452    3.249405    7.189654    0.441899\n",
              "min     30.000000   58.000000    0.000000    0.000000\n",
              "25%     44.000000   60.000000    0.000000    0.000000\n",
              "50%     52.000000   63.000000    1.000000    1.000000\n",
              "75%     60.750000   65.750000    4.000000    1.000000\n",
              "max     83.000000   69.000000   52.000000    1.000000"
            ]
          },
          "metadata": {
            "tags": []
          },
          "execution_count": 26
        }
      ]
    },
    {
      "cell_type": "code",
      "metadata": {
        "id": "rsDxHm1cNW-F",
        "outputId": "7134c4ff-d870-47d1-aabf-bf50ed3942d1",
        "colab": {
          "base_uri": "https://localhost:8080/",
          "height": 402
        }
      },
      "source": [
        "cancer[cancer['survival'] == 0]"
      ],
      "execution_count": 27,
      "outputs": [
        {
          "output_type": "execute_result",
          "data": {
            "text/html": [
              "<div>\n",
              "<style scoped>\n",
              "    .dataframe tbody tr th:only-of-type {\n",
              "        vertical-align: middle;\n",
              "    }\n",
              "\n",
              "    .dataframe tbody tr th {\n",
              "        vertical-align: top;\n",
              "    }\n",
              "\n",
              "    .dataframe thead th {\n",
              "        text-align: right;\n",
              "    }\n",
              "</style>\n",
              "<table border=\"1\" class=\"dataframe\">\n",
              "  <thead>\n",
              "    <tr style=\"text-align: right;\">\n",
              "      <th></th>\n",
              "      <th>age</th>\n",
              "      <th>op_year</th>\n",
              "      <th>nodes</th>\n",
              "      <th>survival</th>\n",
              "    </tr>\n",
              "  </thead>\n",
              "  <tbody>\n",
              "    <tr>\n",
              "      <th>7</th>\n",
              "      <td>34</td>\n",
              "      <td>59</td>\n",
              "      <td>0</td>\n",
              "      <td>0</td>\n",
              "    </tr>\n",
              "    <tr>\n",
              "      <th>8</th>\n",
              "      <td>34</td>\n",
              "      <td>66</td>\n",
              "      <td>9</td>\n",
              "      <td>0</td>\n",
              "    </tr>\n",
              "    <tr>\n",
              "      <th>24</th>\n",
              "      <td>38</td>\n",
              "      <td>69</td>\n",
              "      <td>21</td>\n",
              "      <td>0</td>\n",
              "    </tr>\n",
              "    <tr>\n",
              "      <th>34</th>\n",
              "      <td>39</td>\n",
              "      <td>66</td>\n",
              "      <td>0</td>\n",
              "      <td>0</td>\n",
              "    </tr>\n",
              "    <tr>\n",
              "      <th>43</th>\n",
              "      <td>41</td>\n",
              "      <td>60</td>\n",
              "      <td>23</td>\n",
              "      <td>0</td>\n",
              "    </tr>\n",
              "    <tr>\n",
              "      <th>...</th>\n",
              "      <td>...</td>\n",
              "      <td>...</td>\n",
              "      <td>...</td>\n",
              "      <td>...</td>\n",
              "    </tr>\n",
              "    <tr>\n",
              "      <th>286</th>\n",
              "      <td>70</td>\n",
              "      <td>58</td>\n",
              "      <td>4</td>\n",
              "      <td>0</td>\n",
              "    </tr>\n",
              "    <tr>\n",
              "      <th>293</th>\n",
              "      <td>72</td>\n",
              "      <td>63</td>\n",
              "      <td>0</td>\n",
              "      <td>0</td>\n",
              "    </tr>\n",
              "    <tr>\n",
              "      <th>299</th>\n",
              "      <td>74</td>\n",
              "      <td>65</td>\n",
              "      <td>3</td>\n",
              "      <td>0</td>\n",
              "    </tr>\n",
              "    <tr>\n",
              "      <th>304</th>\n",
              "      <td>78</td>\n",
              "      <td>65</td>\n",
              "      <td>1</td>\n",
              "      <td>0</td>\n",
              "    </tr>\n",
              "    <tr>\n",
              "      <th>305</th>\n",
              "      <td>83</td>\n",
              "      <td>58</td>\n",
              "      <td>2</td>\n",
              "      <td>0</td>\n",
              "    </tr>\n",
              "  </tbody>\n",
              "</table>\n",
              "<p>81 rows × 4 columns</p>\n",
              "</div>"
            ],
            "text/plain": [
              "     age  op_year  nodes  survival\n",
              "7     34       59      0         0\n",
              "8     34       66      9         0\n",
              "24    38       69     21         0\n",
              "34    39       66      0         0\n",
              "43    41       60     23         0\n",
              "..   ...      ...    ...       ...\n",
              "286   70       58      4         0\n",
              "293   72       63      0         0\n",
              "299   74       65      3         0\n",
              "304   78       65      1         0\n",
              "305   83       58      2         0\n",
              "\n",
              "[81 rows x 4 columns]"
            ]
          },
          "metadata": {
            "tags": []
          },
          "execution_count": 27
        }
      ]
    },
    {
      "cell_type": "markdown",
      "metadata": {
        "id": "b5Q3DG0d1Y52"
      },
      "source": [
        "Split the data into train and test (20% in test)"
      ]
    },
    {
      "cell_type": "code",
      "metadata": {
        "id": "oXWw6ZNJ1Y52",
        "outputId": "fb5e9199-7682-4b45-94af-eef9054a336a",
        "colab": {
          "base_uri": "https://localhost:8080/"
        }
      },
      "source": [
        "#Size of the test set and target variable to split the data. set the dataframe to the name of the dataframe that I'm using, for easy usage. \n",
        "#Function potential with params (dataframe, col, size=0.2)\n",
        "\n",
        "target = 'survival'\n",
        "SIZE = 0.2\n",
        "df = cancer\n",
        "\n",
        "y = df[target]\n",
        "X = df.drop(columns=[target])\n",
        "\n",
        "from sklearn.model_selection import train_test_split, cross_val_score\n",
        "\n",
        "X_train, X_test, y_train, y_test = train_test_split(X, y, test_size=SIZE)\n",
        "print('There are {:d} training samples and {:d} test samples'.format(X_train.shape[0], X_test.shape[0]))\n"
      ],
      "execution_count": 29,
      "outputs": [
        {
          "output_type": "stream",
          "text": [
            "There are 244 training samples and 62 test samples\n"
          ],
          "name": "stdout"
        }
      ]
    },
    {
      "cell_type": "markdown",
      "metadata": {
        "id": "fM7H5aHv1Y54"
      },
      "source": [
        "Create a gradient boosted classification algorithm with a learning rate of 0.01 and max depth of 5. Report the accuracy."
      ]
    },
    {
      "cell_type": "code",
      "metadata": {
        "id": "a9TAc-mt1Y54"
      },
      "source": [
        "# answer below:\n",
        "# We'll make 500 iterations, use 2-deep trees, and set our loss function.\n",
        "\n",
        "# *** It's best to update this table for the drill \n",
        "#  at the end of the lesson.  ***\n",
        "from sklearn.preprocessing import StandardScaler\n",
        "from sklearn import ensemble\n",
        "\n",
        "scaler = StandardScaler()\n",
        "\n",
        "scaler.fit_transform(X_train)\n",
        "scaler.transform(X_test)\n",
        "\n",
        "params = {'max_depth': 5,          \n",
        "          'learning_rate': 0.01}\n",
        "\n",
        "#Holding off, but because of the PCA I might want to consider using a standard scalar.\n",
        "# Initialize and fit the model.\n",
        "clf = ensemble.GradientBoostingClassifier(**params)\n",
        "clf.fit(X_train, y_train)\n",
        "\n",
        "predict_train = clf.predict(X_train)\n",
        "predict_test = clf.predict(X_test)\n"
      ],
      "execution_count": 31,
      "outputs": []
    },
    {
      "cell_type": "code",
      "metadata": {
        "id": "c_8kWJotpZ_Z",
        "outputId": "3c34b045-3c80-424a-f13c-98ca578432c2",
        "colab": {
          "base_uri": "https://localhost:8080/"
        }
      },
      "source": [
        "clf.score(X_train, y_train)"
      ],
      "execution_count": 32,
      "outputs": [
        {
          "output_type": "execute_result",
          "data": {
            "text/plain": [
              "0.8770491803278688"
            ]
          },
          "metadata": {
            "tags": []
          },
          "execution_count": 32
        }
      ]
    },
    {
      "cell_type": "code",
      "metadata": {
        "id": "fdaRRWa_piNA",
        "outputId": "5459ee1b-f26b-4342-c1e7-bc76dc946793",
        "colab": {
          "base_uri": "https://localhost:8080/"
        }
      },
      "source": [
        "clf.score(X_test, y_test)"
      ],
      "execution_count": 33,
      "outputs": [
        {
          "output_type": "execute_result",
          "data": {
            "text/plain": [
              "0.7258064516129032"
            ]
          },
          "metadata": {
            "tags": []
          },
          "execution_count": 33
        }
      ]
    },
    {
      "cell_type": "markdown",
      "metadata": {
        "id": "Esd0b5Bm1Y55"
      },
      "source": [
        "Print the confusion matrix for the test data. What do you notice about our predictions?"
      ]
    },
    {
      "cell_type": "code",
      "metadata": {
        "id": "JIvrO5T11Y56",
        "outputId": "39dccaae-d582-47ef-b12c-57227b1ca982",
        "colab": {
          "base_uri": "https://localhost:8080/"
        }
      },
      "source": [
        "# answer below:\n",
        "from sklearn.metrics import confusion_matrix, precision_score, recall_score\n",
        "\n",
        "confusion_matrix(y_train, predict_train)"
      ],
      "execution_count": 35,
      "outputs": [
        {
          "output_type": "execute_result",
          "data": {
            "text/plain": [
              "array([[ 34,  29],\n",
              "       [  1, 180]])"
            ]
          },
          "metadata": {
            "tags": []
          },
          "execution_count": 35
        }
      ]
    },
    {
      "cell_type": "code",
      "metadata": {
        "id": "ZHM3ie50thV9",
        "outputId": "977a095b-a303-410d-8ff3-ba301f09e56d",
        "colab": {
          "base_uri": "https://localhost:8080/"
        }
      },
      "source": [
        "confusion_matrix(y_test, predict_test)"
      ],
      "execution_count": 36,
      "outputs": [
        {
          "output_type": "execute_result",
          "data": {
            "text/plain": [
              "array([[ 3, 15],\n",
              "       [ 2, 42]])"
            ]
          },
          "metadata": {
            "tags": []
          },
          "execution_count": 36
        }
      ]
    },
    {
      "cell_type": "markdown",
      "metadata": {
        "id": "C1NpYTSFtmPB"
      },
      "source": [
        "I forgot which is which. I remember that I've got a lot of them. I knkow I have a high accuracy score. There's a lot of true positives? Or are those false negatives? \n",
        "\n",
        "Hold on. There's not a lot in the 0 value, and there fore they appear to be less accurate. "
      ]
    },
    {
      "cell_type": "markdown",
      "metadata": {
        "id": "ovaWOAlx1Y57"
      },
      "source": [
        "Print the confusion matrix for a learning rate of 1 and a learning rate of 0.5. What do you see now that stands out to you in the confusion matrix?"
      ]
    },
    {
      "cell_type": "code",
      "metadata": {
        "id": "KmDWFQ6W1Y58"
      },
      "source": [
        "# answer below:\n",
        "params = {'max_depth': 5,          \n",
        "          'learning_rate': 1}\n",
        "\n",
        "#Holding off, but because of the PCA I might want to consider using a standard scalar.\n",
        "# Initialize and fit the model.\n",
        "clf = ensemble.GradientBoostingClassifier(**params)\n",
        "clf.fit(X_train, y_train)\n",
        "\n",
        "predict_train = clf.predict(X_train)\n",
        "predict_test = clf.predict(X_test)\n"
      ],
      "execution_count": 37,
      "outputs": []
    },
    {
      "cell_type": "code",
      "metadata": {
        "id": "vK60yjXkuPZk",
        "outputId": "af32854c-252d-4b34-a130-73b583dc2c59",
        "colab": {
          "base_uri": "https://localhost:8080/"
        }
      },
      "source": [
        "confusion_matrix(y_train, predict_train)"
      ],
      "execution_count": 38,
      "outputs": [
        {
          "output_type": "execute_result",
          "data": {
            "text/plain": [
              "array([[ 63,   0],\n",
              "       [  2, 179]])"
            ]
          },
          "metadata": {
            "tags": []
          },
          "execution_count": 38
        }
      ]
    },
    {
      "cell_type": "code",
      "metadata": {
        "id": "yn-Xa1ENuRIE",
        "outputId": "009a3c81-0856-46e2-a596-35d14f7442a0",
        "colab": {
          "base_uri": "https://localhost:8080/"
        }
      },
      "source": [
        "confusion_matrix(y_test, predict_test)"
      ],
      "execution_count": 39,
      "outputs": [
        {
          "output_type": "execute_result",
          "data": {
            "text/plain": [
              "array([[ 5, 13],\n",
              "       [10, 34]])"
            ]
          },
          "metadata": {
            "tags": []
          },
          "execution_count": 39
        }
      ]
    },
    {
      "cell_type": "markdown",
      "metadata": {
        "id": "guyc3eXNudM8"
      },
      "source": [
        "It changed in favor of the other size. "
      ]
    },
    {
      "cell_type": "code",
      "metadata": {
        "id": "rNJCcBwTukJB"
      },
      "source": [
        "# answer below:\n",
        "params = {'max_depth': 5,          \n",
        "          'learning_rate': 0.5}\n",
        "\n",
        "#Holding off, but because of the PCA I might want to consider using a standard scalar.\n",
        "# Initialize and fit the model.\n",
        "clf = ensemble.GradientBoostingClassifier(**params)\n",
        "clf.fit(X_train, y_train)\n",
        "\n",
        "predict_train = clf.predict(X_train)\n",
        "predict_test = clf.predict(X_test)\n"
      ],
      "execution_count": 40,
      "outputs": []
    },
    {
      "cell_type": "code",
      "metadata": {
        "id": "9jPrqX4cuoe5",
        "outputId": "b5863d50-65c2-4596-986e-f4535988021a",
        "colab": {
          "base_uri": "https://localhost:8080/"
        }
      },
      "source": [
        "confusion_matrix(y_train, predict_train)"
      ],
      "execution_count": 41,
      "outputs": [
        {
          "output_type": "execute_result",
          "data": {
            "text/plain": [
              "array([[ 61,   2],\n",
              "       [  0, 181]])"
            ]
          },
          "metadata": {
            "tags": []
          },
          "execution_count": 41
        }
      ]
    },
    {
      "cell_type": "code",
      "metadata": {
        "id": "W4-T6dLHuwSZ"
      },
      "source": [
        "cm = confusion_matrix(y_test, predict_test)"
      ],
      "execution_count": 54,
      "outputs": []
    },
    {
      "cell_type": "markdown",
      "metadata": {
        "id": "P6QfQ8ICu1_J"
      },
      "source": [
        "I still got quite a bit of bias."
      ]
    },
    {
      "cell_type": "code",
      "metadata": {
        "id": "WSHbNAoczLM1",
        "outputId": "95343139-5351-45c6-9ed9-ae53470b69e6",
        "colab": {
          "base_uri": "https://localhost:8080/"
        }
      },
      "source": [
        "cm[0][0:2]"
      ],
      "execution_count": 51,
      "outputs": [
        {
          "output_type": "execute_result",
          "data": {
            "text/plain": [
              "array([ 5, 13])"
            ]
          },
          "metadata": {
            "tags": []
          },
          "execution_count": 51
        }
      ]
    },
    {
      "cell_type": "code",
      "metadata": {
        "id": "6FSCN5jPzfO5",
        "outputId": "1139d130-84ba-4289-debc-14a728b262a4",
        "colab": {
          "base_uri": "https://localhost:8080/"
        }
      },
      "source": [
        "precision_score(y_train, predict_train)"
      ],
      "execution_count": 53,
      "outputs": [
        {
          "output_type": "execute_result",
          "data": {
            "text/plain": [
              "1.0"
            ]
          },
          "metadata": {
            "tags": []
          },
          "execution_count": 53
        }
      ]
    },
    {
      "cell_type": "code",
      "metadata": {
        "id": "2rXrK1Bvz3fi",
        "outputId": "82e08612-bf81-43f4-c481-4ec998e711c7",
        "colab": {
          "base_uri": "https://localhost:8080/"
        }
      },
      "source": [
        "recall_score(y_train, predict_train)"
      ],
      "execution_count": 55,
      "outputs": [
        {
          "output_type": "execute_result",
          "data": {
            "text/plain": [
              "1.0"
            ]
          },
          "metadata": {
            "tags": []
          },
          "execution_count": 55
        }
      ]
    },
    {
      "cell_type": "code",
      "metadata": {
        "id": "I7FeP91S0FJq",
        "outputId": "ad7c74b4-d7c9-4291-c3e6-c9335553d3fd",
        "colab": {
          "base_uri": "https://localhost:8080/"
        }
      },
      "source": [
        "from sklearn.metrics import classification_report\n",
        "\n",
        "print(classification_report(y_train, predict_train))"
      ],
      "execution_count": 58,
      "outputs": [
        {
          "output_type": "stream",
          "text": [
            "              precision    recall  f1-score   support\n",
            "\n",
            "           0       1.00      0.97      0.98        63\n",
            "           1       0.99      1.00      0.99       181\n",
            "\n",
            "    accuracy                           0.99       244\n",
            "   macro avg       0.99      0.98      0.99       244\n",
            "weighted avg       0.99      0.99      0.99       244\n",
            "\n"
          ],
          "name": "stdout"
        }
      ]
    },
    {
      "cell_type": "markdown",
      "metadata": {
        "id": "Febdo34L1Y59"
      },
      "source": [
        "Perform a grid search for the optimal learning rate. Instead of accuracy, use a metric that will help your model predict the positive class."
      ]
    },
    {
      "cell_type": "code",
      "metadata": {
        "id": "THIm25lt1Y5-",
        "outputId": "0d00376c-2647-42d3-b264-51bc4d68764d",
        "colab": {
          "base_uri": "https://localhost:8080/"
        }
      },
      "source": [
        "# answer below:\n",
        "from sklearn.model_selection import GridSearchCV\n",
        "\n",
        "parameters = {'learning_rate':[0.8, 1, 0.2], 'max_features':['auto', 'sqrt', 'log2']}\n",
        "result = GridSearchCV(clf, parameters, scoring='neg_mean_absolute_error')\n",
        "result.fit(X_train, y_train)\n"
      ],
      "execution_count": 59,
      "outputs": [
        {
          "output_type": "execute_result",
          "data": {
            "text/plain": [
              "GridSearchCV(cv=None, error_score=nan,\n",
              "             estimator=GradientBoostingClassifier(ccp_alpha=0.0,\n",
              "                                                  criterion='friedman_mse',\n",
              "                                                  init=None, learning_rate=0.5,\n",
              "                                                  loss='deviance', max_depth=5,\n",
              "                                                  max_features=None,\n",
              "                                                  max_leaf_nodes=None,\n",
              "                                                  min_impurity_decrease=0.0,\n",
              "                                                  min_impurity_split=None,\n",
              "                                                  min_samples_leaf=1,\n",
              "                                                  min_samples_split=2,\n",
              "                                                  min_weight_fraction_leaf=0.0,\n",
              "                                                  n_estimators=100,\n",
              "                                                  n_iter_no_change=None,\n",
              "                                                  presort='deprecated',\n",
              "                                                  random_state=None,\n",
              "                                                  subsample=1.0, tol=0.0001,\n",
              "                                                  validation_fraction=0.1,\n",
              "                                                  verbose=0, warm_start=False),\n",
              "             iid='deprecated', n_jobs=None,\n",
              "             param_grid={'learning_rate': [0.8, 1, 0.2],\n",
              "                         'max_features': ['auto', 'sqrt', 'log2']},\n",
              "             pre_dispatch='2*n_jobs', refit=True, return_train_score=False,\n",
              "             scoring='neg_mean_absolute_error', verbose=0)"
            ]
          },
          "metadata": {
            "tags": []
          },
          "execution_count": 59
        }
      ]
    },
    {
      "cell_type": "code",
      "metadata": {
        "id": "KVD9X0PV2ILW",
        "outputId": "597b8f62-98b6-40af-8d88-4bd84c4ce9d7",
        "colab": {
          "base_uri": "https://localhost:8080/"
        }
      },
      "source": [
        "result.best_params_"
      ],
      "execution_count": 67,
      "outputs": [
        {
          "output_type": "execute_result",
          "data": {
            "text/plain": [
              "{'learning_rate': 0.8, 'max_features': 'sqrt'}"
            ]
          },
          "metadata": {
            "tags": []
          },
          "execution_count": 67
        }
      ]
    },
    {
      "cell_type": "markdown",
      "metadata": {
        "id": "1mA0V4c-1Y5_"
      },
      "source": [
        "List the feature importances for the model with the optimal learning rate."
      ]
    },
    {
      "cell_type": "code",
      "metadata": {
        "id": "1EUIisvR15kq",
        "outputId": "ad7d3f43-41d4-4877-d975-a143bd5c7753",
        "colab": {
          "base_uri": "https://localhost:8080/"
        }
      },
      "source": [
        "print(result.best_estimator_.feature_importances_)"
      ],
      "execution_count": 64,
      "outputs": [
        {
          "output_type": "stream",
          "text": [
            "[0.46905728 0.20526279 0.32567993]\n"
          ],
          "name": "stdout"
        }
      ]
    }
  ]
}