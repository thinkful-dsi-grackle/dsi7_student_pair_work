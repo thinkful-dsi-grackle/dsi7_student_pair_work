{
 "cells": [
  {
   "cell_type": "markdown",
   "metadata": {
    "colab_type": "text",
    "id": "N-dUAbfgpuRb"
   },
   "source": [
    "# Linear SVC Assignment"
   ]
  },
  {
   "cell_type": "code",
   "execution_count": 1,
   "metadata": {
    "colab": {},
    "colab_type": "code",
    "executionInfo": {
     "elapsed": 1360,
     "status": "ok",
     "timestamp": 1599642483585,
     "user": {
      "displayName": "Adam Spannbauer",
      "photoUrl": "https://lh3.googleusercontent.com/a-/AOh14Gh0dsIFeXnf3iRsUkFzJFh96GSrIp79KYpNuPtB=s64",
      "userId": "04097551985177324740"
     },
     "user_tz": 240
    },
    "id": "frNvugKHpuRd"
   },
   "outputs": [],
   "source": [
    "import numpy as np\n",
    "import pandas as pd\n",
    "\n",
    "from sklearn.svm import SVC\n",
    "from sklearn.model_selection import train_test_split\n",
    "from sklearn.metrics import classification_report, confusion_matrix"
   ]
  },
  {
   "cell_type": "markdown",
   "metadata": {
    "colab_type": "text",
    "id": "GePJHOhaPuNE"
   },
   "source": [
    "### Import the admissions data set (admissions.csv)."
   ]
  },
  {
   "cell_type": "code",
   "execution_count": 2,
   "metadata": {
    "colab": {
     "base_uri": "https://localhost:8080/",
     "height": 195
    },
    "colab_type": "code",
    "executionInfo": {
     "elapsed": 769,
     "status": "ok",
     "timestamp": 1599642485090,
     "user": {
      "displayName": "Adam Spannbauer",
      "photoUrl": "https://lh3.googleusercontent.com/a-/AOh14Gh0dsIFeXnf3iRsUkFzJFh96GSrIp79KYpNuPtB=s64",
      "userId": "04097551985177324740"
     },
     "user_tz": 240
    },
    "id": "B_1e4lobpuRf",
    "outputId": "fe918585-ae5e-4774-abdd-02789ffb1cc0"
   },
   "outputs": [
    {
     "data": {
      "text/html": [
       "<div>\n",
       "<style scoped>\n",
       "    .dataframe tbody tr th:only-of-type {\n",
       "        vertical-align: middle;\n",
       "    }\n",
       "\n",
       "    .dataframe tbody tr th {\n",
       "        vertical-align: top;\n",
       "    }\n",
       "\n",
       "    .dataframe thead th {\n",
       "        text-align: right;\n",
       "    }\n",
       "</style>\n",
       "<table border=\"1\" class=\"dataframe\">\n",
       "  <thead>\n",
       "    <tr style=\"text-align: right;\">\n",
       "      <th></th>\n",
       "      <th>GRE</th>\n",
       "      <th>TOEFL</th>\n",
       "      <th>SchoolRank</th>\n",
       "      <th>SOP</th>\n",
       "      <th>LOR</th>\n",
       "      <th>GPA</th>\n",
       "      <th>Research</th>\n",
       "      <th>Admitted</th>\n",
       "    </tr>\n",
       "  </thead>\n",
       "  <tbody>\n",
       "    <tr>\n",
       "      <th>0</th>\n",
       "      <td>337</td>\n",
       "      <td>118</td>\n",
       "      <td>4</td>\n",
       "      <td>4.5</td>\n",
       "      <td>4.5</td>\n",
       "      <td>9.65</td>\n",
       "      <td>1</td>\n",
       "      <td>1</td>\n",
       "    </tr>\n",
       "    <tr>\n",
       "      <th>1</th>\n",
       "      <td>324</td>\n",
       "      <td>107</td>\n",
       "      <td>4</td>\n",
       "      <td>4.0</td>\n",
       "      <td>4.5</td>\n",
       "      <td>8.87</td>\n",
       "      <td>1</td>\n",
       "      <td>1</td>\n",
       "    </tr>\n",
       "    <tr>\n",
       "      <th>2</th>\n",
       "      <td>316</td>\n",
       "      <td>104</td>\n",
       "      <td>3</td>\n",
       "      <td>3.0</td>\n",
       "      <td>3.5</td>\n",
       "      <td>8.00</td>\n",
       "      <td>1</td>\n",
       "      <td>1</td>\n",
       "    </tr>\n",
       "    <tr>\n",
       "      <th>3</th>\n",
       "      <td>322</td>\n",
       "      <td>110</td>\n",
       "      <td>3</td>\n",
       "      <td>3.5</td>\n",
       "      <td>2.5</td>\n",
       "      <td>8.67</td>\n",
       "      <td>1</td>\n",
       "      <td>1</td>\n",
       "    </tr>\n",
       "    <tr>\n",
       "      <th>4</th>\n",
       "      <td>314</td>\n",
       "      <td>103</td>\n",
       "      <td>2</td>\n",
       "      <td>2.0</td>\n",
       "      <td>3.0</td>\n",
       "      <td>8.21</td>\n",
       "      <td>0</td>\n",
       "      <td>0</td>\n",
       "    </tr>\n",
       "  </tbody>\n",
       "</table>\n",
       "</div>"
      ],
      "text/plain": [
       "   GRE  TOEFL  SchoolRank  SOP  LOR   GPA  Research  Admitted\n",
       "0  337    118           4  4.5  4.5  9.65         1         1\n",
       "1  324    107           4  4.0  4.5  8.87         1         1\n",
       "2  316    104           3  3.0  3.5  8.00         1         1\n",
       "3  322    110           3  3.5  2.5  8.67         1         1\n",
       "4  314    103           2  2.0  3.0  8.21         0         0"
      ]
     },
     "execution_count": 2,
     "metadata": {},
     "output_type": "execute_result"
    }
   ],
   "source": [
    "data = pd.read_csv('https://tf-assets-prod.s3.amazonaws.com/tf-curric/data-science/admissions.csv')\n",
    "data.head()"
   ]
  },
  {
   "cell_type": "markdown",
   "metadata": {
    "colab_type": "text",
    "id": "PqbIpTOyPuNM"
   },
   "source": [
    "### Split the data into training and test sets, with the test set comprising 30% of the data.  Use `'Admitted'` as the target."
   ]
  },
  {
   "cell_type": "code",
   "execution_count": 3,
   "metadata": {
    "colab": {},
    "colab_type": "code",
    "id": "uFiTXMGrPuNM"
   },
   "outputs": [],
   "source": [
    "X = data.drop('Admitted', axis=1)\n",
    "y = data.Admitted\n",
    "\n",
    "X_train, X_test, y_train, y_test = train_test_split(X, y, test_size=0.3)"
   ]
  },
  {
   "cell_type": "markdown",
   "metadata": {
    "colab_type": "text",
    "id": "P_h8WYktpuRj"
   },
   "source": [
    "### Generate an SVC model with a linear kernel. Set the regularization parameter (C) = 10. Check the score for both train and test sets. "
   ]
  },
  {
   "cell_type": "code",
   "execution_count": 4,
   "metadata": {
    "colab": {},
    "colab_type": "code",
    "id": "s7ZPqXMGpuRj"
   },
   "outputs": [
    {
     "name": "stdout",
     "output_type": "stream",
     "text": [
      "C: 10\n",
      "Training score: 0.8678571428571429\n",
      "Test score: 0.8916666666666667\n",
      "\n"
     ]
    }
   ],
   "source": [
    "from sklearn.svm import SVC\n",
    "svc = SVC(kernel='linear')\n",
    "def score_svc(C=1, svc=SVC()):\n",
    "    svc.C = C\n",
    "    svc.fit(X_train, y_train)\n",
    "\n",
    "    train_score = svc.score(X_train, y_train)\n",
    "    test_score = svc.score(X_test, y_test)\n",
    "    return train_score, test_score\n",
    "\n",
    "C = 10\n",
    "train_score, test_score = score_svc(C, svc)\n",
    "print(\n",
    "    f'C: {svc.C}\\n'\n",
    "    f'Training score: {train_score}\\n'\n",
    "    f'Test score: {test_score}\\n'\n",
    ")"
   ]
  },
  {
   "cell_type": "markdown",
   "metadata": {
    "colab_type": "text",
    "id": "ahsyvz1LpuRn"
   },
   "source": [
    "### Choose some other values for C and show the difference between the scores for the train and test sets."
   ]
  },
  {
   "cell_type": "code",
   "execution_count": 5,
   "metadata": {
    "colab": {},
    "colab_type": "code",
    "id": "tE_-fqFcpuRo"
   },
   "outputs": [
    {
     "name": "stdout",
     "output_type": "stream",
     "text": [
      "C: 0.001\n",
      "Training score: 0.829\n",
      "Test score: 0.800\n",
      "\n",
      "C: 0.01\n",
      "Training score: 0.846\n",
      "Test score: 0.850\n",
      "\n",
      "C: 0.1\n",
      "Training score: 0.857\n",
      "Test score: 0.867\n",
      "\n",
      "C: 1.0\n",
      "Training score: 0.871\n",
      "Test score: 0.892\n",
      "\n",
      "C: 10.0\n",
      "Training score: 0.868\n",
      "Test score: 0.892\n",
      "\n",
      "C: 100.0\n",
      "Training score: 0.879\n",
      "Test score: 0.858\n",
      "\n",
      "C: 1000.0\n",
      "Training score: 0.846\n",
      "Test score: 0.850\n",
      "\n",
      "C: 10000.0\n",
      "Training score: 0.889\n",
      "Test score: 0.867\n",
      "\n"
     ]
    }
   ],
   "source": [
    "C_list = np.logspace(-3,4, 8)\n",
    "\n",
    "for C in C_list:\n",
    "    train_score, test_score = score_svc(C, svc)\n",
    "    print(\n",
    "        f'C: {svc.C}\\n'\n",
    "        f'Training score: {train_score:0.3f}\\n'\n",
    "        f'Test score: {test_score:0.3f}\\n'\n",
    "    )\n",
    "    "
   ]
  },
  {
   "cell_type": "markdown",
   "metadata": {
    "colab_type": "text",
    "id": "oUzyujbwpuRr"
   },
   "source": [
    "### What if we switched up the target variable? Let assume that we know whether a student was admitted. Let's try to predict what their SchoolRank was. \n",
    "\n",
    "Create an SVC model with a linear kernel with the SchoolRank field as the target variable. Report both the train and the test scores."
   ]
  },
  {
   "cell_type": "code",
   "execution_count": 12,
   "metadata": {
    "colab": {},
    "colab_type": "code",
    "id": "lKPF7TSdpuRs"
   },
   "outputs": [
    {
     "name": "stdout",
     "output_type": "stream",
     "text": [
      "Training score: 0.632\n",
      "Test score: 0.583\n",
      "\n"
     ]
    }
   ],
   "source": [
    "X = data.drop('SchoolRank', axis=1)\n",
    "y = data.SchoolRank\n",
    "\n",
    "X_train, X_test, y_train, y_test = train_test_split(X, y, test_size=0.3)\n",
    "\n",
    "svc2 = SVC(kernel='linear')\n",
    "\n",
    "\n",
    "train_score, test_score = score_svc(10, svc2)\n",
    "\n",
    "print(\n",
    "        f'Training score: {train_score:0.3f}\\n'\n",
    "        f'Test score: {test_score:0.3f}\\n'\n",
    ")\n",
    "    "
   ]
  },
  {
   "cell_type": "markdown",
   "metadata": {
    "colab_type": "text",
    "id": "EQKgbtUm4psY"
   },
   "source": [
    "### Show confusion matrices for the training and test sets, and a classification report for the test set. What trends do you notice?"
   ]
  },
  {
   "cell_type": "code",
   "execution_count": 13,
   "metadata": {
    "colab": {},
    "colab_type": "code",
    "id": "rBSLoqCSpuRt"
   },
   "outputs": [
    {
     "name": "stdout",
     "output_type": "stream",
     "text": [
      "              precision    recall  f1-score   support\n",
      "\n",
      "           1       0.43      0.50      0.46         6\n",
      "           2       0.66      0.59      0.62        39\n",
      "           3       0.63      0.71      0.67        41\n",
      "           4       0.44      0.37      0.40        19\n",
      "           5       0.50      0.53      0.52        15\n",
      "\n",
      "    accuracy                           0.58       120\n",
      "   macro avg       0.53      0.54      0.53       120\n",
      "weighted avg       0.58      0.58      0.58       120\n",
      "\n"
     ]
    }
   ],
   "source": [
    "y_test_pred = svc2.predict(X_test)\n",
    "print(classification_report(y_test, y_test_pred))"
   ]
  },
  {
   "cell_type": "code",
   "execution_count": 8,
   "metadata": {},
   "outputs": [
    {
     "data": {
      "text/plain": [
       "array([[ 4,  2,  1,  0,  0],\n",
       "       [ 5, 17, 16,  0,  1],\n",
       "       [ 0,  4, 29,  4,  0],\n",
       "       [ 1,  1,  5,  9,  8],\n",
       "       [ 0,  0,  1,  5,  7]])"
      ]
     },
     "execution_count": 8,
     "metadata": {},
     "output_type": "execute_result"
    }
   ],
   "source": [
    "confusion_matrix(y_test, y_test_pred)"
   ]
  },
  {
   "cell_type": "code",
   "execution_count": 9,
   "metadata": {},
   "outputs": [],
   "source": [
    "# The classification report and confusion matrix show the model is better at predicting \n",
    "# class 2, 3 which are more common in this particular test split."
   ]
  }
 ],
 "metadata": {
  "colab": {
   "collapsed_sections": [],
   "name": "Day 33 Lecture 1 Assignment.ipynb",
   "provenance": []
  },
  "kernelspec": {
   "display_name": "Python 3",
   "language": "python",
   "name": "python3"
  },
  "language_info": {
   "codemirror_mode": {
    "name": "ipython",
    "version": 3
   },
   "file_extension": ".py",
   "mimetype": "text/x-python",
   "name": "python",
   "nbconvert_exporter": "python",
   "pygments_lexer": "ipython3",
   "version": "3.8.5"
  }
 },
 "nbformat": 4,
 "nbformat_minor": 1
}
