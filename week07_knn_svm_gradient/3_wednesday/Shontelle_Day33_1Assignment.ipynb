{
  "nbformat": 4,
  "nbformat_minor": 0,
  "metadata": {
    "colab": {
      "name": "Shontelle_Day33_1Assignment.ipynb",
      "provenance": [],
      "collapsed_sections": []
    },
    "kernelspec": {
      "display_name": "Python 3",
      "language": "python",
      "name": "python3"
    },
    "language_info": {
      "codemirror_mode": {
        "name": "ipython",
        "version": 3
      },
      "file_extension": ".py",
      "mimetype": "text/x-python",
      "name": "python",
      "nbconvert_exporter": "python",
      "pygments_lexer": "ipython3",
      "version": "3.7.6"
    }
  },
  "cells": [
    {
      "cell_type": "markdown",
      "metadata": {
        "id": "N-dUAbfgpuRb"
      },
      "source": [
        "# Linear SVC Assignment"
      ]
    },
    {
      "cell_type": "code",
      "metadata": {
        "id": "frNvugKHpuRd"
      },
      "source": [
        "import numpy as np\n",
        "import pandas as pd\n",
        "\n",
        "from sklearn.svm import SVC\n",
        "from sklearn.model_selection import train_test_split\n",
        "from sklearn.metrics import classification_report, confusion_matrix"
      ],
      "execution_count": 1,
      "outputs": []
    },
    {
      "cell_type": "markdown",
      "metadata": {
        "id": "GePJHOhaPuNE"
      },
      "source": [
        "### Import the admissions data set (admissions.csv)."
      ]
    },
    {
      "cell_type": "code",
      "metadata": {
        "id": "B_1e4lobpuRf",
        "outputId": "1cf6c397-b58d-415e-bb2d-bf02b10b99d1",
        "colab": {
          "base_uri": "https://localhost:8080/",
          "height": 204
        }
      },
      "source": [
        "data = pd.read_csv('https://tf-assets-prod.s3.amazonaws.com/tf-curric/data-science/admissions.csv')\n",
        "data.head()"
      ],
      "execution_count": 2,
      "outputs": [
        {
          "output_type": "execute_result",
          "data": {
            "text/html": [
              "<div>\n",
              "<style scoped>\n",
              "    .dataframe tbody tr th:only-of-type {\n",
              "        vertical-align: middle;\n",
              "    }\n",
              "\n",
              "    .dataframe tbody tr th {\n",
              "        vertical-align: top;\n",
              "    }\n",
              "\n",
              "    .dataframe thead th {\n",
              "        text-align: right;\n",
              "    }\n",
              "</style>\n",
              "<table border=\"1\" class=\"dataframe\">\n",
              "  <thead>\n",
              "    <tr style=\"text-align: right;\">\n",
              "      <th></th>\n",
              "      <th>GRE</th>\n",
              "      <th>TOEFL</th>\n",
              "      <th>SchoolRank</th>\n",
              "      <th>SOP</th>\n",
              "      <th>LOR</th>\n",
              "      <th>GPA</th>\n",
              "      <th>Research</th>\n",
              "      <th>Admitted</th>\n",
              "    </tr>\n",
              "  </thead>\n",
              "  <tbody>\n",
              "    <tr>\n",
              "      <th>0</th>\n",
              "      <td>337</td>\n",
              "      <td>118</td>\n",
              "      <td>4</td>\n",
              "      <td>4.5</td>\n",
              "      <td>4.5</td>\n",
              "      <td>9.65</td>\n",
              "      <td>1</td>\n",
              "      <td>1</td>\n",
              "    </tr>\n",
              "    <tr>\n",
              "      <th>1</th>\n",
              "      <td>324</td>\n",
              "      <td>107</td>\n",
              "      <td>4</td>\n",
              "      <td>4.0</td>\n",
              "      <td>4.5</td>\n",
              "      <td>8.87</td>\n",
              "      <td>1</td>\n",
              "      <td>1</td>\n",
              "    </tr>\n",
              "    <tr>\n",
              "      <th>2</th>\n",
              "      <td>316</td>\n",
              "      <td>104</td>\n",
              "      <td>3</td>\n",
              "      <td>3.0</td>\n",
              "      <td>3.5</td>\n",
              "      <td>8.00</td>\n",
              "      <td>1</td>\n",
              "      <td>1</td>\n",
              "    </tr>\n",
              "    <tr>\n",
              "      <th>3</th>\n",
              "      <td>322</td>\n",
              "      <td>110</td>\n",
              "      <td>3</td>\n",
              "      <td>3.5</td>\n",
              "      <td>2.5</td>\n",
              "      <td>8.67</td>\n",
              "      <td>1</td>\n",
              "      <td>1</td>\n",
              "    </tr>\n",
              "    <tr>\n",
              "      <th>4</th>\n",
              "      <td>314</td>\n",
              "      <td>103</td>\n",
              "      <td>2</td>\n",
              "      <td>2.0</td>\n",
              "      <td>3.0</td>\n",
              "      <td>8.21</td>\n",
              "      <td>0</td>\n",
              "      <td>0</td>\n",
              "    </tr>\n",
              "  </tbody>\n",
              "</table>\n",
              "</div>"
            ],
            "text/plain": [
              "   GRE  TOEFL  SchoolRank  SOP  LOR   GPA  Research  Admitted\n",
              "0  337    118           4  4.5  4.5  9.65         1         1\n",
              "1  324    107           4  4.0  4.5  8.87         1         1\n",
              "2  316    104           3  3.0  3.5  8.00         1         1\n",
              "3  322    110           3  3.5  2.5  8.67         1         1\n",
              "4  314    103           2  2.0  3.0  8.21         0         0"
            ]
          },
          "metadata": {
            "tags": []
          },
          "execution_count": 2
        }
      ]
    },
    {
      "cell_type": "markdown",
      "metadata": {
        "id": "PqbIpTOyPuNM"
      },
      "source": [
        "### Split the data into training and test sets, with the test set comprising 30% of the data.  Use `'Admitted'` as the target."
      ]
    },
    {
      "cell_type": "code",
      "metadata": {
        "id": "uFiTXMGrPuNM"
      },
      "source": [
        "X = data.drop(['Admitted'], axis=1)\n",
        "y = data['Admitted']\n",
        "\n",
        "X_train, X_test, y_train, y_test = train_test_split(X, y, test_size=0.3)"
      ],
      "execution_count": 3,
      "outputs": []
    },
    {
      "cell_type": "markdown",
      "metadata": {
        "id": "P_h8WYktpuRj"
      },
      "source": [
        "### Generate an SVC model with a linear kernel. Set the regularization parameter (C) = 10. Check the score for both train and test sets. "
      ]
    },
    {
      "cell_type": "code",
      "metadata": {
        "id": "s7ZPqXMGpuRj",
        "outputId": "a0c64be0-0e6d-447d-a458-bf282c966850",
        "colab": {
          "base_uri": "https://localhost:8080/",
          "height": 51
        }
      },
      "source": [
        "#SVC C=10\n",
        "svc = SVC(C=10, kernel='linear')\n",
        "svc.fit(X_train, y_train)\n",
        "\n",
        "#scores\n",
        "print('Train score (C=10):', svc.score(X_train, y_train))\n",
        "print('Test score (C=10):', svc.score(X_test, y_test))"
      ],
      "execution_count": 4,
      "outputs": [
        {
          "output_type": "stream",
          "text": [
            "Train score (C=10): 0.9035714285714286\n",
            "Test score (C=10): 0.85\n"
          ],
          "name": "stdout"
        }
      ]
    },
    {
      "cell_type": "markdown",
      "metadata": {
        "id": "ahsyvz1LpuRn"
      },
      "source": [
        "### Choose some other values for C and show the difference between the scores for the train and test sets."
      ]
    },
    {
      "cell_type": "code",
      "metadata": {
        "id": "tE_-fqFcpuRo",
        "outputId": "f7f86864-1113-4036-eb0c-7ae72a549320",
        "colab": {
          "base_uri": "https://localhost:8080/",
          "height": 425
        }
      },
      "source": [
        "C_list = [0.00001, 0.0001, 0.001, 0.01, 0.1, 1.0, 5, 15]\n",
        "for i in C_list:\n",
        "  svc_ = SVC(C=i, kernel='linear')\n",
        "  svc_.fit(X_train, y_train)\n",
        "  print('C=', i)\n",
        "  print('Train score:', svc_.score(X_train, y_train))\n",
        "  print('Test score:', svc_.score(X_test, y_test))"
      ],
      "execution_count": 9,
      "outputs": [
        {
          "output_type": "stream",
          "text": [
            "C= 1e-05\n",
            "Train score: 0.6178571428571429\n",
            "Test score: 0.6166666666666667\n",
            "C= 0.0001\n",
            "Train score: 0.8321428571428572\n",
            "Test score: 0.7583333333333333\n",
            "C= 0.001\n",
            "Train score: 0.825\n",
            "Test score: 0.8083333333333333\n",
            "C= 0.01\n",
            "Train score: 0.8642857142857143\n",
            "Test score: 0.8166666666666667\n",
            "C= 0.1\n",
            "Train score: 0.8821428571428571\n",
            "Test score: 0.825\n",
            "C= 1.0\n",
            "Train score: 0.8857142857142857\n",
            "Test score: 0.8666666666666667\n",
            "C= 5\n",
            "Train score: 0.8928571428571429\n",
            "Test score: 0.8333333333333334\n",
            "C= 15\n",
            "Train score: 0.9\n",
            "Test score: 0.8416666666666667\n"
          ],
          "name": "stdout"
        }
      ]
    },
    {
      "cell_type": "markdown",
      "metadata": {
        "id": "oUzyujbwpuRr"
      },
      "source": [
        "### What if we switched up the target variable? Let assume that we know whether a student was admitted. Let's try to predict what their SchoolRank was. \n",
        "\n",
        "Create an SVC model with a linear kernel with the SchoolRank field as the target variable. Report both the train and the test scores."
      ]
    },
    {
      "cell_type": "code",
      "metadata": {
        "id": "XpgpYQ0b3uq0",
        "outputId": "f89c1752-0bd3-4fd6-c90a-3a412f5b7a73",
        "colab": {
          "base_uri": "https://localhost:8080/",
          "height": 34
        }
      },
      "source": [
        "data.SchoolRank.nunique()"
      ],
      "execution_count": 11,
      "outputs": [
        {
          "output_type": "execute_result",
          "data": {
            "text/plain": [
              "5"
            ]
          },
          "metadata": {
            "tags": []
          },
          "execution_count": 11
        }
      ]
    },
    {
      "cell_type": "code",
      "metadata": {
        "id": "lKPF7TSdpuRs"
      },
      "source": [
        "X_new = data.drop(['SchoolRank'], axis=1)\n",
        "y_new = data['SchoolRank']\n",
        "\n",
        "X_train_new, X_test_new, y_train_new, y_test_new = train_test_split(X_new, y_new, test_size=0.3)"
      ],
      "execution_count": 10,
      "outputs": []
    },
    {
      "cell_type": "code",
      "metadata": {
        "id": "BrVzbSWt3eVM",
        "outputId": "f44e589f-f2cf-435a-bf4f-2ec17f7fb7d1",
        "colab": {
          "base_uri": "https://localhost:8080/",
          "height": 51
        }
      },
      "source": [
        "#svc model\n",
        "svc_rank = SVC(C=10, kernel='linear')\n",
        "svc_rank.fit(X_train_new, y_train_new)\n",
        "\n",
        "#scores\n",
        "print('Train score (C=10):', svc_rank.score(X_train_new, y_train_new))\n",
        "print('Test score (C=10):', svc_rank.score(X_test_new, y_test_new))"
      ],
      "execution_count": 12,
      "outputs": [
        {
          "output_type": "stream",
          "text": [
            "Train score (C=10): 0.6107142857142858\n",
            "Test score (C=10): 0.6333333333333333\n"
          ],
          "name": "stdout"
        }
      ]
    },
    {
      "cell_type": "code",
      "metadata": {
        "id": "YzW2b8od4eDB",
        "outputId": "efe924a1-c583-4e23-d073-33fb3ed202c0",
        "colab": {
          "base_uri": "https://localhost:8080/",
          "height": 374
        }
      },
      "source": [
        "#see differences in scores when C is changed for target=SchoolRank\n",
        "C_list = [0.0001, 0.001, 0.01, 0.1, 1.0, 5, 15]\n",
        "for i in C_list:\n",
        "  svc_ = SVC(C=i, kernel='linear')\n",
        "  svc_.fit(X_train_new, y_train_new)\n",
        "  print('C=', i)\n",
        "  print('Train score:', svc_.score(X_train_new, y_train_new))\n",
        "  print('Test score:', svc_.score(X_test_new, y_test_new))"
      ],
      "execution_count": 13,
      "outputs": [
        {
          "output_type": "stream",
          "text": [
            "C= 0.0001\n",
            "Train score: 0.3464285714285714\n",
            "Test score: 0.425\n",
            "C= 0.001\n",
            "Train score: 0.44285714285714284\n",
            "Test score: 0.5416666666666666\n",
            "C= 0.01\n",
            "Train score: 0.5142857142857142\n",
            "Test score: 0.55\n",
            "C= 0.1\n",
            "Train score: 0.5821428571428572\n",
            "Test score: 0.6333333333333333\n",
            "C= 1.0\n",
            "Train score: 0.6142857142857143\n",
            "Test score: 0.6333333333333333\n",
            "C= 5\n",
            "Train score: 0.6035714285714285\n",
            "Test score: 0.6083333333333333\n",
            "C= 15\n",
            "Train score: 0.6\n",
            "Test score: 0.65\n"
          ],
          "name": "stdout"
        }
      ]
    },
    {
      "cell_type": "markdown",
      "metadata": {
        "id": "EQKgbtUm4psY"
      },
      "source": [
        "### Show confusion matrices for the training and test sets, and a classification report for the test set. What trends do you notice?"
      ]
    },
    {
      "cell_type": "code",
      "metadata": {
        "id": "46xJRWbq5hdx",
        "outputId": "e018abc6-e538-40a8-dbfc-7dc4ba984614",
        "colab": {
          "base_uri": "https://localhost:8080/",
          "height": 34
        }
      },
      "source": [
        "svc_rank.classes_"
      ],
      "execution_count": 14,
      "outputs": [
        {
          "output_type": "execute_result",
          "data": {
            "text/plain": [
              "array([1, 2, 3, 4, 5])"
            ]
          },
          "metadata": {
            "tags": []
          },
          "execution_count": 14
        }
      ]
    },
    {
      "cell_type": "code",
      "metadata": {
        "id": "xslpFrtq99o5",
        "outputId": "fa97edaa-baaf-4d75-9a94-646da43aad17",
        "colab": {
          "base_uri": "https://localhost:8080/",
          "height": 119
        }
      },
      "source": [
        "data.SchoolRank.value_counts()"
      ],
      "execution_count": 22,
      "outputs": [
        {
          "output_type": "execute_result",
          "data": {
            "text/plain": [
              "3    133\n",
              "2    107\n",
              "4     74\n",
              "5     60\n",
              "1     26\n",
              "Name: SchoolRank, dtype: int64"
            ]
          },
          "metadata": {
            "tags": []
          },
          "execution_count": 22
        }
      ]
    },
    {
      "cell_type": "code",
      "metadata": {
        "id": "rBSLoqCSpuRt",
        "outputId": "9a5b5d60-fae2-4586-f356-ff7bcb6d41cf",
        "colab": {
          "base_uri": "https://localhost:8080/",
          "height": 577
        }
      },
      "source": [
        "from sklearn.metrics import confusion_matrix, plot_confusion_matrix\n",
        "import matplotlib.pyplot as plt\n",
        "%matplotlib inline\n",
        "#confusion matrix for training\n",
        "y_train_pred = svc_rank.predict(X_train_new)\n",
        "cm_train = confusion_matrix(y_train_new, y_train_pred, labels=[1, 2, 3, 4, 5])\n",
        "plot_confusion_matrix(svc_rank, X_train_new, y_train_new, cmap='Blues', xticks_rotation=45)\n",
        "plt.title('Train Confusion Matrix')\n",
        "#confusion matrix for test\n",
        "y_test_pred = svc_rank.predict(X_test_new)\n",
        "cm_test = confusion_matrix(y_test_new, y_test_pred, labels=[1, 2, 3, 4, 5])\n",
        "plot_confusion_matrix(svc_rank, X_test_new, y_test_new, cmap='Blues', xticks_rotation=45)\n",
        "plt.title('Test Confusion Matrix')\n",
        "plt.show()"
      ],
      "execution_count": 18,
      "outputs": [
        {
          "output_type": "display_data",
          "data": {
            "image/png": "[encoded data removed]",
            "text/plain": [
              "<Figure size 432x288 with 2 Axes>"
            ]
          },
          "metadata": {
            "tags": [],
            "needs_background": "light"
          }
        },
        {
          "output_type": "display_data",
          "data": {
            "image/png": "[encoded data removed]",
            "text/plain": [
              "<Figure size 432x288 with 2 Axes>"
            ]
          },
          "metadata": {
            "tags": [],
            "needs_background": "light"
          }
        }
      ]
    },
    {
      "cell_type": "code",
      "metadata": {
        "id": "TeGG88fY6t_n",
        "outputId": "693f3b40-cd24-40de-eb91-2212237dcf80",
        "colab": {
          "base_uri": "https://localhost:8080/",
          "height": 238
        }
      },
      "source": [
        "#classification report for target=SchoolRank\n",
        "print('Classification report for prediciton of School Rank:')\n",
        "print(classification_report(y_test_new, y_test_pred))"
      ],
      "execution_count": 21,
      "outputs": [
        {
          "output_type": "stream",
          "text": [
            "Classification report for prediciton of School Rank:\n",
            "              precision    recall  f1-score   support\n",
            "\n",
            "           1       0.80      0.80      0.80         5\n",
            "           2       0.72      0.67      0.69        27\n",
            "           3       0.73      0.80      0.76        44\n",
            "           4       0.43      0.36      0.39        25\n",
            "           5       0.48      0.53      0.50        19\n",
            "\n",
            "    accuracy                           0.63       120\n",
            "   macro avg       0.63      0.63      0.63       120\n",
            "weighted avg       0.63      0.63      0.63       120\n",
            "\n"
          ],
          "name": "stdout"
        }
      ]
    },
    {
      "cell_type": "markdown",
      "metadata": {
        "id": "bDdF9Ctg8Lw6"
      },
      "source": [
        "There is very small amount of data which shows in the support column. The model is better at predicting School Rank 2 and 3. School Rank 1 shows even numbers because so few numbers of observations in the class."
      ]
    },
    {
      "cell_type": "code",
      "metadata": {
        "id": "e2M2sX_373nP"
      },
      "source": [
        ""
      ],
      "execution_count": null,
      "outputs": []
    }
  ]
}