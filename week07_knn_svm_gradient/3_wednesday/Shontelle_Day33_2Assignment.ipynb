{
  "nbformat": 4,
  "nbformat_minor": 0,
  "metadata": {
    "kernelspec": {
      "display_name": "Python 3",
      "language": "python",
      "name": "python3"
    },
    "language_info": {
      "codemirror_mode": {
        "name": "ipython",
        "version": 3
      },
      "file_extension": ".py",
      "mimetype": "text/x-python",
      "name": "python",
      "nbconvert_exporter": "python",
      "pygments_lexer": "ipython3",
      "version": "3.7.0"
    },
    "colab": {
      "name": "Shontelle_Day33_2Assignment.ipynb",
      "provenance": [],
      "collapsed_sections": []
    }
  },
  "cells": [
    {
      "cell_type": "markdown",
      "metadata": {
        "id": "cHTqUTbNpuwZ"
      },
      "source": [
        "## Day 33 Lecture 2 Assignment\n",
        "\n",
        "In this assignment, we will learn about non linear SVM models. We will use the heart disease dataset loaded below and analyze the model generated for this dataset."
      ]
    },
    {
      "cell_type": "code",
      "metadata": {
        "id": "kQBDnjBLpuwZ"
      },
      "source": [
        "%matplotlib inline\n",
        "\n",
        "import matplotlib.pyplot as plt\n",
        "import numpy as np\n",
        "import pandas as pd"
      ],
      "execution_count": 1,
      "outputs": []
    },
    {
      "cell_type": "code",
      "metadata": {
        "id": "Z1EskWSrpuwb"
      },
      "source": [
        "heart = pd.read_csv('https://tf-assets-prod.s3.amazonaws.com/tf-curric/data-science/framingham_heart_disease.csv')"
      ],
      "execution_count": 2,
      "outputs": []
    },
    {
      "cell_type": "code",
      "metadata": {
        "id": "zwYPk78tBrBy",
        "outputId": "bc3089b9-02a0-4668-8d18-030521c76186",
        "colab": {
          "base_uri": "https://localhost:8080/"
        }
      },
      "source": [
        "heart.shape"
      ],
      "execution_count": 3,
      "outputs": [
        {
          "output_type": "execute_result",
          "data": {
            "text/plain": [
              "(4238, 16)"
            ]
          },
          "metadata": {
            "tags": []
          },
          "execution_count": 3
        }
      ]
    },
    {
      "cell_type": "code",
      "metadata": {
        "id": "Tw1yj9Ehpuwd",
        "outputId": "58978bb9-8898-464b-c654-efee303151e0",
        "colab": {
          "base_uri": "https://localhost:8080/",
          "height": 224
        }
      },
      "source": [
        "heart.head()"
      ],
      "execution_count": 4,
      "outputs": [
        {
          "output_type": "execute_result",
          "data": {
            "text/html": [
              "<div>\n",
              "<style scoped>\n",
              "    .dataframe tbody tr th:only-of-type {\n",
              "        vertical-align: middle;\n",
              "    }\n",
              "\n",
              "    .dataframe tbody tr th {\n",
              "        vertical-align: top;\n",
              "    }\n",
              "\n",
              "    .dataframe thead th {\n",
              "        text-align: right;\n",
              "    }\n",
              "</style>\n",
              "<table border=\"1\" class=\"dataframe\">\n",
              "  <thead>\n",
              "    <tr style=\"text-align: right;\">\n",
              "      <th></th>\n",
              "      <th>male</th>\n",
              "      <th>age</th>\n",
              "      <th>education</th>\n",
              "      <th>currentSmoker</th>\n",
              "      <th>cigsPerDay</th>\n",
              "      <th>BPMeds</th>\n",
              "      <th>prevalentStroke</th>\n",
              "      <th>prevalentHyp</th>\n",
              "      <th>diabetes</th>\n",
              "      <th>totChol</th>\n",
              "      <th>sysBP</th>\n",
              "      <th>diaBP</th>\n",
              "      <th>BMI</th>\n",
              "      <th>heartRate</th>\n",
              "      <th>glucose</th>\n",
              "      <th>TenYearCHD</th>\n",
              "    </tr>\n",
              "  </thead>\n",
              "  <tbody>\n",
              "    <tr>\n",
              "      <th>0</th>\n",
              "      <td>1</td>\n",
              "      <td>39</td>\n",
              "      <td>4.0</td>\n",
              "      <td>0</td>\n",
              "      <td>0.0</td>\n",
              "      <td>0.0</td>\n",
              "      <td>0</td>\n",
              "      <td>0</td>\n",
              "      <td>0</td>\n",
              "      <td>195.0</td>\n",
              "      <td>106.0</td>\n",
              "      <td>70.0</td>\n",
              "      <td>26.97</td>\n",
              "      <td>80.0</td>\n",
              "      <td>77.0</td>\n",
              "      <td>0</td>\n",
              "    </tr>\n",
              "    <tr>\n",
              "      <th>1</th>\n",
              "      <td>0</td>\n",
              "      <td>46</td>\n",
              "      <td>2.0</td>\n",
              "      <td>0</td>\n",
              "      <td>0.0</td>\n",
              "      <td>0.0</td>\n",
              "      <td>0</td>\n",
              "      <td>0</td>\n",
              "      <td>0</td>\n",
              "      <td>250.0</td>\n",
              "      <td>121.0</td>\n",
              "      <td>81.0</td>\n",
              "      <td>28.73</td>\n",
              "      <td>95.0</td>\n",
              "      <td>76.0</td>\n",
              "      <td>0</td>\n",
              "    </tr>\n",
              "    <tr>\n",
              "      <th>2</th>\n",
              "      <td>1</td>\n",
              "      <td>48</td>\n",
              "      <td>1.0</td>\n",
              "      <td>1</td>\n",
              "      <td>20.0</td>\n",
              "      <td>0.0</td>\n",
              "      <td>0</td>\n",
              "      <td>0</td>\n",
              "      <td>0</td>\n",
              "      <td>245.0</td>\n",
              "      <td>127.5</td>\n",
              "      <td>80.0</td>\n",
              "      <td>25.34</td>\n",
              "      <td>75.0</td>\n",
              "      <td>70.0</td>\n",
              "      <td>0</td>\n",
              "    </tr>\n",
              "    <tr>\n",
              "      <th>3</th>\n",
              "      <td>0</td>\n",
              "      <td>61</td>\n",
              "      <td>3.0</td>\n",
              "      <td>1</td>\n",
              "      <td>30.0</td>\n",
              "      <td>0.0</td>\n",
              "      <td>0</td>\n",
              "      <td>1</td>\n",
              "      <td>0</td>\n",
              "      <td>225.0</td>\n",
              "      <td>150.0</td>\n",
              "      <td>95.0</td>\n",
              "      <td>28.58</td>\n",
              "      <td>65.0</td>\n",
              "      <td>103.0</td>\n",
              "      <td>1</td>\n",
              "    </tr>\n",
              "    <tr>\n",
              "      <th>4</th>\n",
              "      <td>0</td>\n",
              "      <td>46</td>\n",
              "      <td>3.0</td>\n",
              "      <td>1</td>\n",
              "      <td>23.0</td>\n",
              "      <td>0.0</td>\n",
              "      <td>0</td>\n",
              "      <td>0</td>\n",
              "      <td>0</td>\n",
              "      <td>285.0</td>\n",
              "      <td>130.0</td>\n",
              "      <td>84.0</td>\n",
              "      <td>23.10</td>\n",
              "      <td>85.0</td>\n",
              "      <td>85.0</td>\n",
              "      <td>0</td>\n",
              "    </tr>\n",
              "  </tbody>\n",
              "</table>\n",
              "</div>"
            ],
            "text/plain": [
              "   male  age  education  currentSmoker  ...    BMI  heartRate  glucose  TenYearCHD\n",
              "0     1   39        4.0              0  ...  26.97       80.0     77.0           0\n",
              "1     0   46        2.0              0  ...  28.73       95.0     76.0           0\n",
              "2     1   48        1.0              1  ...  25.34       75.0     70.0           0\n",
              "3     0   61        3.0              1  ...  28.58       65.0    103.0           1\n",
              "4     0   46        3.0              1  ...  23.10       85.0     85.0           0\n",
              "\n",
              "[5 rows x 16 columns]"
            ]
          },
          "metadata": {
            "tags": []
          },
          "execution_count": 4
        }
      ]
    },
    {
      "cell_type": "markdown",
      "metadata": {
        "id": "q6--xRehpuwf"
      },
      "source": [
        "This dataset helps us predict the probability of coronary heart diease (CHD) in the next 10 years given the risk factors for each subject in the study. Our target variable is `TenYearCHD`.\n",
        "\n",
        "We'll start off by removing any rows containing missing data."
      ]
    },
    {
      "cell_type": "code",
      "metadata": {
        "id": "H7pOIvimpuwg",
        "outputId": "15f2c931-054b-4cac-d3aa-76a3cf1122f7",
        "colab": {
          "base_uri": "https://localhost:8080/"
        }
      },
      "source": [
        "# answer below:\n",
        "#dropping null values\n",
        "heart = heart.dropna()\n",
        "heart.shape"
      ],
      "execution_count": 6,
      "outputs": [
        {
          "output_type": "execute_result",
          "data": {
            "text/plain": [
              "(3656, 16)"
            ]
          },
          "metadata": {
            "tags": []
          },
          "execution_count": 6
        }
      ]
    },
    {
      "cell_type": "markdown",
      "metadata": {
        "id": "3TYgJuyxpuwj"
      },
      "source": [
        "Then, we split the data into train and test with 20% of the data in the test subset."
      ]
    },
    {
      "cell_type": "code",
      "metadata": {
        "id": "MpeydIKspuwi"
      },
      "source": [
        "# answer below:\n",
        "from sklearn.model_selection import train_test_split\n",
        "X = heart.drop(['TenYearCHD'], axis=1)\n",
        "y = heart['TenYearCHD']\n",
        "\n",
        "#splitting data\n",
        "X_train, X_test, y_train, y_test = train_test_split(X, y, test_size=0.2)"
      ],
      "execution_count": 7,
      "outputs": []
    },
    {
      "cell_type": "markdown",
      "metadata": {
        "id": "a-3wmJJupuwh"
      },
      "source": [
        "We will then scale the data using the standard scaler. Do this in the cell below."
      ]
    },
    {
      "cell_type": "code",
      "metadata": {
        "id": "DeYucn7Spuwk"
      },
      "source": [
        "# answer below:\n",
        "#scale data using standard scaler\n",
        "from sklearn.preprocessing import StandardScaler\n",
        "\n",
        "scale = StandardScaler()\n",
        "X_train_scale = scale.fit_transform(X_train)\n",
        "X_test_scale = scale.transform(X_test)"
      ],
      "execution_count": 8,
      "outputs": []
    },
    {
      "cell_type": "markdown",
      "metadata": {
        "id": "k0iL3Twepuwn"
      },
      "source": [
        "Generate a polynomial SVC model and a RBF SVC model. Compare the performance, and the runtime, for the two models."
      ]
    },
    {
      "cell_type": "code",
      "metadata": {
        "id": "mRkYJIPvpuwn",
        "outputId": "1b7a0ed1-84cf-42ec-9f6a-159b4d8969d5",
        "colab": {
          "base_uri": "https://localhost:8080/"
        }
      },
      "source": [
        "# answer below:\n",
        "import time\n",
        "from sklearn.svm import SVC\n",
        "from sklearn.metrics import accuracy_score\n",
        "#polynomial SVC\n",
        "C_list = [0.01, 0.1, 1.0, 10, 100]\n",
        "for i in C_list:\n",
        "  svc_p = SVC(C=i, kernel='poly', gamma='auto')\n",
        "  svc_p.fit(X_train_scale, y_train)\n",
        "  print('C=', i)\n",
        "  print('Train score:', svc_p.score(X_train_scale, y_train))\n",
        "  print('Test score:', svc_p.score(X_test_scale, y_test))\n",
        "\n",
        "time_start = time.time()\n",
        "print('Polynomial time: {}'.format(time.time()-time_start))"
      ],
      "execution_count": 20,
      "outputs": [
        {
          "output_type": "stream",
          "text": [
            "C= 0.01\n",
            "Train score: 0.8512311901504788\n",
            "Test score: 0.855191256830601\n",
            "C= 0.1\n",
            "Train score: 0.8584131326949385\n",
            "Test score: 0.8579234972677595\n",
            "C= 1.0\n",
            "Train score: 0.872093023255814\n",
            "Test score: 0.8524590163934426\n",
            "C= 10\n",
            "Train score: 0.88406292749658\n",
            "Test score: 0.8306010928961749\n",
            "C= 100\n",
            "Train score: 0.8997948016415869\n",
            "Test score: 0.8237704918032787\n",
            "Polynomial time: 9.799003601074219e-05\n"
          ],
          "name": "stdout"
        }
      ]
    },
    {
      "cell_type": "code",
      "metadata": {
        "id": "Add5fPhWaBd9",
        "outputId": "3dc5e533-67eb-4956-c27c-c5c7845e9d13",
        "colab": {
          "base_uri": "https://localhost:8080/"
        }
      },
      "source": [
        "#rbf SVC\n",
        "C_list = [0.01, 0.1, 1.0, 10, 100]\n",
        "for i in C_list:\n",
        "  svc_rbf = SVC(C=i, kernel='rbf', gamma='auto')\n",
        "  svc_rbf.fit(X_train_scale, y_train)\n",
        "  print('C=', i)\n",
        "  print('Train score:', svc_rbf.score(X_train_scale, y_train))\n",
        "  print('Test score:', svc_rbf.score(X_test_scale, y_test))\n",
        "\n",
        "start_time = time.time()\n",
        "print('RBF runtime: {}'.format(time.time()-start_time))"
      ],
      "execution_count": 21,
      "outputs": [
        {
          "output_type": "stream",
          "text": [
            "C= 0.01\n",
            "Train score: 0.8457592339261286\n",
            "Test score: 0.855191256830601\n",
            "C= 0.1\n",
            "Train score: 0.8457592339261286\n",
            "Test score: 0.855191256830601\n",
            "C= 1.0\n",
            "Train score: 0.8604651162790697\n",
            "Test score: 0.8524590163934426\n",
            "C= 10\n",
            "Train score: 0.8974008207934336\n",
            "Test score: 0.8333333333333334\n",
            "C= 100\n",
            "Train score: 0.9449384404924761\n",
            "Test score: 0.7950819672131147\n",
            "RBF runtime: 4.649162292480469e-05\n"
          ],
          "name": "stdout"
        }
      ]
    },
    {
      "cell_type": "markdown",
      "metadata": {
        "id": "BapGqwHvpuwp"
      },
      "source": [
        "Which model overfits more? How would you improve the overfitting?\n",
        "\n",
        "Look at a classification report and confusion matrix. How does the class balance affect your results?"
      ]
    },
    {
      "cell_type": "code",
      "metadata": {
        "id": "0kTbW8Upln45"
      },
      "source": [
        "#poly C=1\n",
        "poly = SVC(kernel='poly', gamma='auto')\n",
        "poly.fit(X_train_scale, y_train)\n",
        "y_pred = poly.predict(X_test_scale)"
      ],
      "execution_count": 30,
      "outputs": []
    },
    {
      "cell_type": "code",
      "metadata": {
        "id": "67PCDHuYmpEm",
        "outputId": "e0fe168e-27ff-4f3a-d7e9-60a5272e0fb9",
        "colab": {
          "base_uri": "https://localhost:8080/"
        }
      },
      "source": [
        "poly.classes_"
      ],
      "execution_count": 28,
      "outputs": [
        {
          "output_type": "execute_result",
          "data": {
            "text/plain": [
              "array([0, 1])"
            ]
          },
          "metadata": {
            "tags": []
          },
          "execution_count": 28
        }
      ]
    },
    {
      "cell_type": "code",
      "metadata": {
        "id": "8m1XQzVumS30"
      },
      "source": [
        "#rbf C=1\n",
        "rbf = SVC(kernel='rbf', gamma='auto')\n",
        "rbf.fit(X_train_scale, y_train)\n",
        "y_pred2 = rbf.predict(X_test_scale)"
      ],
      "execution_count": 27,
      "outputs": []
    },
    {
      "cell_type": "code",
      "metadata": {
        "id": "4GJSWe6Ipuwp",
        "outputId": "4d782ccd-bfde-48e8-e398-9f092680307f",
        "colab": {
          "base_uri": "https://localhost:8080/",
          "height": 577
        }
      },
      "source": [
        "# answer below:\n",
        "from sklearn.metrics import confusion_matrix, plot_confusion_matrix\n",
        "\n",
        "#confusion matrix for poly with C=1\n",
        "cm_train = confusion_matrix(y_test, y_pred)\n",
        "plot_confusion_matrix(poly, X_test_scale, y_test, cmap='Blues', xticks_rotation=45)\n",
        "plt.title('Polynomial Confusion Matrix')\n",
        "\n",
        "#confusion matrix for rbf\n",
        "cm_test = confusion_matrix(y_test, y_pred2)\n",
        "plot_confusion_matrix(rbf, X_test_scale, y_test, cmap='Blues', xticks_rotation=45)\n",
        "plt.title('RBF Confusion Matrix')\n",
        "plt.show()"
      ],
      "execution_count": 32,
      "outputs": [
        {
          "output_type": "display_data",
          "data": {
            "image/png": "[encoded data removed]",
            "text/plain": [
              "<Figure size 432x288 with 2 Axes>"
            ]
          },
          "metadata": {
            "tags": [],
            "needs_background": "light"
          }
        },
        {
          "output_type": "display_data",
          "data": {
            "image/png": "[encoded data removed]",
            "text/plain": [
              "<Figure size 432x288 with 2 Axes>"
            ]
          },
          "metadata": {
            "tags": [],
            "needs_background": "light"
          }
        }
      ]
    },
    {
      "cell_type": "code",
      "metadata": {
        "id": "ENkiRz5WnIp8",
        "outputId": "fe00a56d-2c8d-4fd8-c94a-99099282294f",
        "colab": {
          "base_uri": "https://localhost:8080/"
        }
      },
      "source": [
        "from sklearn.metrics import classification_report\n",
        "#classification report\n",
        "print('Classification report for Polynomial model:')\n",
        "print(classification_report(y_test, y_pred))\n",
        "print('----------------------------------')\n",
        "print('Classification report for RBF model:')\n",
        "print(classification_report(y_test, y_pred2))"
      ],
      "execution_count": 34,
      "outputs": [
        {
          "output_type": "stream",
          "text": [
            "Classification report for Polynomial model:\n",
            "              precision    recall  f1-score   support\n",
            "\n",
            "           0       0.86      0.99      0.92       626\n",
            "           1       0.42      0.05      0.08       106\n",
            "\n",
            "    accuracy                           0.85       732\n",
            "   macro avg       0.64      0.52      0.50       732\n",
            "weighted avg       0.80      0.85      0.80       732\n",
            "\n",
            "----------------------------------\n",
            "Classification report for RBF model:\n",
            "              precision    recall  f1-score   support\n",
            "\n",
            "           0       0.86      1.00      0.92       626\n",
            "           1       0.25      0.01      0.02       106\n",
            "\n",
            "    accuracy                           0.85       732\n",
            "   macro avg       0.55      0.50      0.47       732\n",
            "weighted avg       0.77      0.85      0.79       732\n",
            "\n"
          ],
          "name": "stdout"
        }
      ]
    },
    {
      "cell_type": "markdown",
      "metadata": {
        "id": "gvMlMDcyoOA-"
      },
      "source": [
        "The polynomial model takes longer in the runtime than the RBF. Also it seems that the polynomial overfits a bit more than the RBF.\n",
        "The number of observations for each class are severly disproportional. The numbers for the precision and recall are much lower in the \"1\" (has CHD) class than the 0 (does not have CHD). "
      ]
    },
    {
      "cell_type": "code",
      "metadata": {
        "id": "nFBvvNnIn91G"
      },
      "source": [
        ""
      ],
      "execution_count": null,
      "outputs": []
    }
  ]
}