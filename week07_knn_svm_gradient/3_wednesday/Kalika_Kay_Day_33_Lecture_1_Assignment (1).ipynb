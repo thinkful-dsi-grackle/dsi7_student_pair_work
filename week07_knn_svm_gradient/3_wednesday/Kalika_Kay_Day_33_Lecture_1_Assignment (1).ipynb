{
  "nbformat": 4,
  "nbformat_minor": 0,
  "metadata": {
    "colab": {
      "name": "Kalika Kay Day 33 Lecture 1 Assignment.ipynb",
      "provenance": [],
      "collapsed_sections": []
    },
    "kernelspec": {
      "display_name": "Python 3",
      "language": "python",
      "name": "python3"
    },
    "language_info": {
      "codemirror_mode": {
        "name": "ipython",
        "version": 3
      },
      "file_extension": ".py",
      "mimetype": "text/x-python",
      "name": "python",
      "nbconvert_exporter": "python",
      "pygments_lexer": "ipython3",
      "version": "3.7.6"
    }
  },
  "cells": [
    {
      "cell_type": "markdown",
      "metadata": {
        "id": "N-dUAbfgpuRb"
      },
      "source": [
        "# Linear SVC Assignment"
      ]
    },
    {
      "cell_type": "code",
      "metadata": {
        "id": "frNvugKHpuRd"
      },
      "source": [
        "import numpy as np\n",
        "import pandas as pd\n",
        "\n",
        "from sklearn.svm import SVC\n",
        "from sklearn.model_selection import train_test_split\n",
        "from sklearn.metrics import classification_report, confusion_matrix"
      ],
      "execution_count": 69,
      "outputs": []
    },
    {
      "cell_type": "markdown",
      "metadata": {
        "id": "GePJHOhaPuNE"
      },
      "source": [
        "### Import the admissions data set (admissions.csv)."
      ]
    },
    {
      "cell_type": "code",
      "metadata": {
        "id": "B_1e4lobpuRf",
        "outputId": "91d94ccc-4711-4ae2-d96a-ba73dfa8e5a2",
        "colab": {
          "base_uri": "https://localhost:8080/",
          "height": 194
        }
      },
      "source": [
        "data = pd.read_csv('https://tf-assets-prod.s3.amazonaws.com/tf-curric/data-science/admissions.csv')\n",
        "data.head()"
      ],
      "execution_count": 70,
      "outputs": [
        {
          "output_type": "execute_result",
          "data": {
            "text/html": [
              "<div>\n",
              "<style scoped>\n",
              "    .dataframe tbody tr th:only-of-type {\n",
              "        vertical-align: middle;\n",
              "    }\n",
              "\n",
              "    .dataframe tbody tr th {\n",
              "        vertical-align: top;\n",
              "    }\n",
              "\n",
              "    .dataframe thead th {\n",
              "        text-align: right;\n",
              "    }\n",
              "</style>\n",
              "<table border=\"1\" class=\"dataframe\">\n",
              "  <thead>\n",
              "    <tr style=\"text-align: right;\">\n",
              "      <th></th>\n",
              "      <th>GRE</th>\n",
              "      <th>TOEFL</th>\n",
              "      <th>SchoolRank</th>\n",
              "      <th>SOP</th>\n",
              "      <th>LOR</th>\n",
              "      <th>GPA</th>\n",
              "      <th>Research</th>\n",
              "      <th>Admitted</th>\n",
              "    </tr>\n",
              "  </thead>\n",
              "  <tbody>\n",
              "    <tr>\n",
              "      <th>0</th>\n",
              "      <td>337</td>\n",
              "      <td>118</td>\n",
              "      <td>4</td>\n",
              "      <td>4.5</td>\n",
              "      <td>4.5</td>\n",
              "      <td>9.65</td>\n",
              "      <td>1</td>\n",
              "      <td>1</td>\n",
              "    </tr>\n",
              "    <tr>\n",
              "      <th>1</th>\n",
              "      <td>324</td>\n",
              "      <td>107</td>\n",
              "      <td>4</td>\n",
              "      <td>4.0</td>\n",
              "      <td>4.5</td>\n",
              "      <td>8.87</td>\n",
              "      <td>1</td>\n",
              "      <td>1</td>\n",
              "    </tr>\n",
              "    <tr>\n",
              "      <th>2</th>\n",
              "      <td>316</td>\n",
              "      <td>104</td>\n",
              "      <td>3</td>\n",
              "      <td>3.0</td>\n",
              "      <td>3.5</td>\n",
              "      <td>8.00</td>\n",
              "      <td>1</td>\n",
              "      <td>1</td>\n",
              "    </tr>\n",
              "    <tr>\n",
              "      <th>3</th>\n",
              "      <td>322</td>\n",
              "      <td>110</td>\n",
              "      <td>3</td>\n",
              "      <td>3.5</td>\n",
              "      <td>2.5</td>\n",
              "      <td>8.67</td>\n",
              "      <td>1</td>\n",
              "      <td>1</td>\n",
              "    </tr>\n",
              "    <tr>\n",
              "      <th>4</th>\n",
              "      <td>314</td>\n",
              "      <td>103</td>\n",
              "      <td>2</td>\n",
              "      <td>2.0</td>\n",
              "      <td>3.0</td>\n",
              "      <td>8.21</td>\n",
              "      <td>0</td>\n",
              "      <td>0</td>\n",
              "    </tr>\n",
              "  </tbody>\n",
              "</table>\n",
              "</div>"
            ],
            "text/plain": [
              "   GRE  TOEFL  SchoolRank  SOP  LOR   GPA  Research  Admitted\n",
              "0  337    118           4  4.5  4.5  9.65         1         1\n",
              "1  324    107           4  4.0  4.5  8.87         1         1\n",
              "2  316    104           3  3.0  3.5  8.00         1         1\n",
              "3  322    110           3  3.5  2.5  8.67         1         1\n",
              "4  314    103           2  2.0  3.0  8.21         0         0"
            ]
          },
          "metadata": {
            "tags": []
          },
          "execution_count": 70
        }
      ]
    },
    {
      "cell_type": "code",
      "metadata": {
        "id": "kW_md9Xrww2Z"
      },
      "source": [
        ""
      ],
      "execution_count": 70,
      "outputs": []
    },
    {
      "cell_type": "markdown",
      "metadata": {
        "id": "PqbIpTOyPuNM"
      },
      "source": [
        "### Split the data into training and test sets, with the test set comprising 30% of the data.  Use `'Admitted'` as the target."
      ]
    },
    {
      "cell_type": "code",
      "metadata": {
        "id": "uFiTXMGrPuNM",
        "outputId": "87ee6680-f6b4-4f0c-cdb6-7629e4a59af9",
        "colab": {
          "base_uri": "https://localhost:8080/",
          "height": 35
        }
      },
      "source": [
        "y = data['Admitted']\n",
        "X = data.drop(columns='Admitted')\n",
        "\n",
        "#Size of the test set.\n",
        "SIZE = 0.3\n",
        "X_train, X_test, y_train, y_test = train_test_split(X, y, test_size=SIZE)\n",
        "\n",
        "print('There are {:d} training samples and {:d} test samples'.format(X_train.shape[0], X_test.shape[0]))"
      ],
      "execution_count": 71,
      "outputs": [
        {
          "output_type": "stream",
          "text": [
            "There are 280 training samples and 120 test samples\n"
          ],
          "name": "stdout"
        }
      ]
    },
    {
      "cell_type": "markdown",
      "metadata": {
        "id": "P_h8WYktpuRj"
      },
      "source": [
        "### Generate an SVC model with a linear kernel. Set the regularization parameter (C) = 10. Check the score for both train and test sets. "
      ]
    },
    {
      "cell_type": "code",
      "metadata": {
        "id": "I_gI4OLHyOPd",
        "outputId": "d51d61f4-220c-41cb-ec48-976c4434fc26",
        "colab": {
          "base_uri": "https://localhost:8080/",
          "height": 177
        }
      },
      "source": [
        "from sklearn.pipeline import make_pipeline\n",
        "from sklearn.preprocessing import StandardScaler\n",
        "\n",
        "model = make_pipeline(StandardScaler(), SVC(gamma='auto', C=10))\n",
        "model.fit(X_train, y_train)\n",
        "\n",
        "prediction_train = model.predict(X_train)\n",
        "predictions_test = model.predict(X_test)\n",
        "\n",
        "print(classification_report(y_test, predictions_test))"
      ],
      "execution_count": 72,
      "outputs": [
        {
          "output_type": "stream",
          "text": [
            "              precision    recall  f1-score   support\n",
            "\n",
            "           0       0.63      0.87      0.73        39\n",
            "           1       0.92      0.75      0.83        81\n",
            "\n",
            "    accuracy                           0.79       120\n",
            "   macro avg       0.78      0.81      0.78       120\n",
            "weighted avg       0.83      0.79      0.80       120\n",
            "\n"
          ],
          "name": "stdout"
        }
      ]
    },
    {
      "cell_type": "code",
      "metadata": {
        "id": "s7ZPqXMGpuRj",
        "outputId": "163c8161-52eb-4248-ab46-b358a6e71abc",
        "colab": {
          "base_uri": "https://localhost:8080/",
          "height": 177
        }
      },
      "source": [
        "print(classification_report(y_train, prediction_train))\n"
      ],
      "execution_count": 73,
      "outputs": [
        {
          "output_type": "stream",
          "text": [
            "              precision    recall  f1-score   support\n",
            "\n",
            "           0       0.90      0.91      0.90       114\n",
            "           1       0.94      0.93      0.93       166\n",
            "\n",
            "    accuracy                           0.92       280\n",
            "   macro avg       0.92      0.92      0.92       280\n",
            "weighted avg       0.92      0.92      0.92       280\n",
            "\n"
          ],
          "name": "stdout"
        }
      ]
    },
    {
      "cell_type": "markdown",
      "metadata": {
        "id": "ahsyvz1LpuRn"
      },
      "source": [
        "### Choose some other values for C and show the difference between the scores for the train and test sets."
      ]
    },
    {
      "cell_type": "code",
      "metadata": {
        "id": "tE_-fqFcpuRo",
        "outputId": "0e464795-9777-4db2-ab7b-4ba86bb9ceac",
        "colab": {
          "base_uri": "https://localhost:8080/",
          "height": 355
        }
      },
      "source": [
        "model = make_pipeline(StandardScaler(), SVC(gamma='auto', C=2))\n",
        "model.fit(X_train, y_train)\n",
        "\n",
        "prediction_train = model.predict(X_train)\n",
        "predictions_test = model.predict(X_test)\n",
        "\n",
        "print(classification_report(y_test, predictions_test), '\\n')\n",
        "print(classification_report(y_train, prediction_train))"
      ],
      "execution_count": 74,
      "outputs": [
        {
          "output_type": "stream",
          "text": [
            "              precision    recall  f1-score   support\n",
            "\n",
            "           0       0.63      0.79      0.70        39\n",
            "           1       0.89      0.78      0.83        81\n",
            "\n",
            "    accuracy                           0.78       120\n",
            "   macro avg       0.76      0.79      0.77       120\n",
            "weighted avg       0.80      0.78      0.79       120\n",
            " \n",
            "\n",
            "              precision    recall  f1-score   support\n",
            "\n",
            "           0       0.89      0.89      0.89       114\n",
            "           1       0.92      0.93      0.92       166\n",
            "\n",
            "    accuracy                           0.91       280\n",
            "   macro avg       0.91      0.91      0.91       280\n",
            "weighted avg       0.91      0.91      0.91       280\n",
            "\n"
          ],
          "name": "stdout"
        }
      ]
    },
    {
      "cell_type": "code",
      "metadata": {
        "id": "zO8KtYYRz4sq"
      },
      "source": [
        "def score_svc(c):\n",
        "  model = make_pipeline(StandardScaler(), SVC(gamma='auto', C=c, kernel='linear'))\n",
        "  #model = SVC(gamma='auto', C=c, kernel='linear')\n",
        "  model.fit(X_train, y_train)\n",
        "\n",
        "  prediction_train = model.predict(X_train)\n",
        "  predictions_test = model.predict(X_test)\n",
        "\n",
        "  print(\"Classification Report with c=\", c)\n",
        "  print(classification_report(y_test, predictions_test), '\\n')\n",
        "  print(classification_report(y_train, prediction_train))"
      ],
      "execution_count": 75,
      "outputs": []
    },
    {
      "cell_type": "code",
      "metadata": {
        "id": "4tmsfj4bzpBo",
        "outputId": "33cd27ee-8ac1-4ede-901a-fdb1f73e7b12",
        "colab": {
          "base_uri": "https://localhost:8080/",
          "height": 1000
        }
      },
      "source": [
        "cs = [90, 12, 3, 1]\n",
        "\n",
        "for c in cs:\n",
        "  score_svc(c)\n"
      ],
      "execution_count": 76,
      "outputs": [
        {
          "output_type": "stream",
          "text": [
            "Classification Report with c= 90\n",
            "              precision    recall  f1-score   support\n",
            "\n",
            "           0       0.65      0.77      0.71        39\n",
            "           1       0.88      0.80      0.84        81\n",
            "\n",
            "    accuracy                           0.79       120\n",
            "   macro avg       0.77      0.79      0.77       120\n",
            "weighted avg       0.80      0.79      0.80       120\n",
            " \n",
            "\n",
            "              precision    recall  f1-score   support\n",
            "\n",
            "           0       0.86      0.87      0.86       114\n",
            "           1       0.91      0.90      0.91       166\n",
            "\n",
            "    accuracy                           0.89       280\n",
            "   macro avg       0.88      0.89      0.89       280\n",
            "weighted avg       0.89      0.89      0.89       280\n",
            "\n",
            "Classification Report with c= 12\n",
            "              precision    recall  f1-score   support\n",
            "\n",
            "           0       0.65      0.77      0.71        39\n",
            "           1       0.88      0.80      0.84        81\n",
            "\n",
            "    accuracy                           0.79       120\n",
            "   macro avg       0.77      0.79      0.77       120\n",
            "weighted avg       0.80      0.79      0.80       120\n",
            " \n",
            "\n",
            "              precision    recall  f1-score   support\n",
            "\n",
            "           0       0.86      0.87      0.86       114\n",
            "           1       0.91      0.90      0.91       166\n",
            "\n",
            "    accuracy                           0.89       280\n",
            "   macro avg       0.88      0.89      0.89       280\n",
            "weighted avg       0.89      0.89      0.89       280\n",
            "\n",
            "Classification Report with c= 3\n",
            "              precision    recall  f1-score   support\n",
            "\n",
            "           0       0.66      0.79      0.72        39\n",
            "           1       0.89      0.80      0.84        81\n",
            "\n",
            "    accuracy                           0.80       120\n",
            "   macro avg       0.77      0.80      0.78       120\n",
            "weighted avg       0.82      0.80      0.80       120\n",
            " \n",
            "\n",
            "              precision    recall  f1-score   support\n",
            "\n",
            "           0       0.86      0.87      0.86       114\n",
            "           1       0.91      0.90      0.91       166\n",
            "\n",
            "    accuracy                           0.89       280\n",
            "   macro avg       0.88      0.89      0.89       280\n",
            "weighted avg       0.89      0.89      0.89       280\n",
            "\n",
            "Classification Report with c= 1\n",
            "              precision    recall  f1-score   support\n",
            "\n",
            "           0       0.66      0.79      0.72        39\n",
            "           1       0.89      0.80      0.84        81\n",
            "\n",
            "    accuracy                           0.80       120\n",
            "   macro avg       0.77      0.80      0.78       120\n",
            "weighted avg       0.82      0.80      0.80       120\n",
            " \n",
            "\n",
            "              precision    recall  f1-score   support\n",
            "\n",
            "           0       0.86      0.88      0.87       114\n",
            "           1       0.91      0.90      0.91       166\n",
            "\n",
            "    accuracy                           0.89       280\n",
            "   macro avg       0.89      0.89      0.89       280\n",
            "weighted avg       0.89      0.89      0.89       280\n",
            "\n"
          ],
          "name": "stdout"
        }
      ]
    },
    {
      "cell_type": "markdown",
      "metadata": {
        "id": "oUzyujbwpuRr"
      },
      "source": [
        "### What if we switched up the target variable? Let assume that we know whether a student was admitted. Let's try to predict what their SchoolRank was. \n",
        "\n",
        "Create an SVC model with a linear kernel with the SchoolRank field as the target variable. Report both the train and the test scores."
      ]
    },
    {
      "cell_type": "code",
      "metadata": {
        "id": "lKPF7TSdpuRs",
        "outputId": "955fb97e-95b0-4baa-d5b1-d2447581aa9b",
        "colab": {
          "base_uri": "https://localhost:8080/",
          "height": 35
        }
      },
      "source": [
        "y = data['SchoolRank']\n",
        "X = data.drop(columns='SchoolRank')\n",
        "\n",
        "#Size of the test set.\n",
        "SIZE = 0.3\n",
        "X_train, X_test, y_train, y_test = train_test_split(X, y, test_size=SIZE)\n",
        "\n",
        "print('There are {:d} training samples and {:d} test samples'.format(X_train.shape[0], X_test.shape[0]))"
      ],
      "execution_count": 77,
      "outputs": [
        {
          "output_type": "stream",
          "text": [
            "There are 280 training samples and 120 test samples\n"
          ],
          "name": "stdout"
        }
      ]
    },
    {
      "cell_type": "code",
      "metadata": {
        "id": "egCde54U1KFn",
        "outputId": "b9fb0b4a-b502-4ac5-f6f2-ae7d5dde85e5",
        "colab": {
          "base_uri": "https://localhost:8080/",
          "height": 479
        }
      },
      "source": [
        "score_svc(10)"
      ],
      "execution_count": 78,
      "outputs": [
        {
          "output_type": "stream",
          "text": [
            "Classification Report with c= 10\n",
            "              precision    recall  f1-score   support\n",
            "\n",
            "           1       0.50      0.54      0.52        13\n",
            "           2       0.49      0.53      0.51        32\n",
            "           3       0.61      0.53      0.56        38\n",
            "           4       0.50      0.57      0.53        21\n",
            "           5       0.57      0.50      0.53        16\n",
            "\n",
            "    accuracy                           0.53       120\n",
            "   macro avg       0.53      0.53      0.53       120\n",
            "weighted avg       0.54      0.53      0.53       120\n",
            " \n",
            "\n",
            "              precision    recall  f1-score   support\n",
            "\n",
            "           1       0.70      0.54      0.61        13\n",
            "           2       0.65      0.67      0.66        75\n",
            "           3       0.66      0.75      0.70        95\n",
            "           4       0.55      0.51      0.53        53\n",
            "           5       0.67      0.55      0.60        44\n",
            "\n",
            "    accuracy                           0.64       280\n",
            "   macro avg       0.64      0.60      0.62       280\n",
            "weighted avg       0.64      0.64      0.64       280\n",
            "\n"
          ],
          "name": "stdout"
        }
      ]
    },
    {
      "cell_type": "markdown",
      "metadata": {
        "id": "EQKgbtUm4psY"
      },
      "source": [
        "### Show confusion matrices for the training and test sets, and a classification report for the test set. What trends do you notice?"
      ]
    },
    {
      "cell_type": "code",
      "metadata": {
        "id": "P0jQ3RKy1s01",
        "outputId": "ad8ff80c-bfb4-4014-e708-08566199f2cb",
        "colab": {
          "base_uri": "https://localhost:8080/",
          "height": 35
        }
      },
      "source": [
        "!pip install pygal"
      ],
      "execution_count": 79,
      "outputs": [
        {
          "output_type": "stream",
          "text": [
            "Requirement already satisfied: pygal in /usr/local/lib/python3.6/dist-packages (2.4.0)\n"
          ],
          "name": "stdout"
        }
      ]
    },
    {
      "cell_type": "code",
      "metadata": {
        "id": "rBSLoqCSpuRt",
        "outputId": "c47d5245-4819-4a89-ef84-3a9d0f95b8d8",
        "colab": {
          "base_uri": "https://localhost:8080/",
          "height": 1000
        }
      },
      "source": [
        "#!pip install pygal\n",
        "import pygal\n",
        "from IPython.display import display, HTML\n",
        "from pygal.style import NeonStyle\n",
        "\n",
        "base_html = \"\"\"\n",
        "<!DOCTYPE html>\n",
        "<html>\n",
        "  <head>\n",
        "  <script type=\"text/javascript\" src=\"http://kozea.github.com/pygal.js/javascripts/svg.jquery.js\"></script>\n",
        "  <script type=\"text/javascript\" src=\"https://kozea.github.io/pygal.js/2.0.x/pygal-tooltips.min.js\"\"></script>\n",
        "  </head>\n",
        "  <body>\n",
        "    <figure>\n",
        "      {rendered_chart}\n",
        "    </figure>\n",
        "  </body>\n",
        "</html>\n",
        "\"\"\"\n",
        "\n",
        "def galplot(chart):\n",
        "    rendered_chart = chart.render(is_unicode=True)\n",
        "    plot_html = base_html.format(rendered_chart=rendered_chart)\n",
        "    display(HTML(plot_html))\n",
        "def plot_cm(y_true, y_pred):\n",
        "    labels = np.unique(y_true)\n",
        "    cm = confusion_matrix(y_true, y_pred, labels=labels)\n",
        "    dot_chart = pygal.Dot(x_label_rotation=30, interpolate='cubic', style=NeonStyle)\n",
        "    dot_chart.title = 'Confusion Matrix'\n",
        "    dot_chart.x_labels = labels\n",
        "    for i in range(len(labels)):\n",
        "        dot_chart.add(labels[i], cm[i,:])\n",
        "    galplot(dot_chart)\n",
        "\n",
        "plot_cm(y_test.astype(str), model.predict(X_test).astype(str))"
      ],
      "execution_count": 80,
      "outputs": [
        {
          "output_type": "display_data",
          "data": {
            "text/html": [
              "\n",
              "<!DOCTYPE html>\n",
              "<html>\n",
              "  <head>\n",
              "  <script type=\"text/javascript\" src=\"http://kozea.github.com/pygal.js/javascripts/svg.jquery.js\"></script>\n",
              "  <script type=\"text/javascript\" src=\"https://kozea.github.io/pygal.js/2.0.x/pygal-tooltips.min.js\"\"></script>\n",
              "  </head>\n",
              "  <body>\n",
              "    <figure>\n",
              "      <?xml version='1.0' encoding='utf-8'?>\n",
              "<svg xmlns:xlink=\"http://www.w3.org/1999/xlink\" xmlns=\"http://www.w3.org/2000/svg\" id=\"chart-9704da1f-4d99-486e-b517-bd4dca011020\" class=\"pygal-chart\" viewBox=\"0 0 800 600\"><!--Generated with pygal 2.4.0 (lxml) ©Kozea 2012-2016 on 2020-10-28--><!--http://pygal.org--><!--http://github.com/Kozea/pygal--><defs><style type=\"text/css\">#chart-9704da1f-4d99-486e-b517-bd4dca011020{-webkit-user-select:none;-webkit-font-smoothing:antialiased;font-family:Consolas,\"Liberation Mono\",Menlo,Courier,monospace}#chart-9704da1f-4d99-486e-b517-bd4dca011020 .title{font-family:Consolas,\"Liberation Mono\",Menlo,Courier,monospace;font-size:16px}#chart-9704da1f-4d99-486e-b517-bd4dca011020 .legends .legend text{font-family:Consolas,\"Liberation Mono\",Menlo,Courier,monospace;font-size:14px}#chart-9704da1f-4d99-486e-b517-bd4dca011020 .axis text{font-family:Consolas,\"Liberation Mono\",Menlo,Courier,monospace;font-size:10px}#chart-9704da1f-4d99-486e-b517-bd4dca011020 .axis text.major{font-family:Consolas,\"Liberation Mono\",Menlo,Courier,monospace;font-size:10px}#chart-9704da1f-4d99-486e-b517-bd4dca011020 .text-overlay text.value{font-family:Consolas,\"Liberation Mono\",Menlo,Courier,monospace;font-size:16px}#chart-9704da1f-4d99-486e-b517-bd4dca011020 .text-overlay text.label{font-family:Consolas,\"Liberation Mono\",Menlo,Courier,monospace;font-size:10px}#chart-9704da1f-4d99-486e-b517-bd4dca011020 .tooltip{font-family:Consolas,\"Liberation Mono\",Menlo,Courier,monospace;font-size:14px}#chart-9704da1f-4d99-486e-b517-bd4dca011020 text.no_data{font-family:Consolas,\"Liberation Mono\",Menlo,Courier,monospace;font-size:64px}\n",
              "#chart-9704da1f-4d99-486e-b517-bd4dca011020{background-color:black}#chart-9704da1f-4d99-486e-b517-bd4dca011020 path,#chart-9704da1f-4d99-486e-b517-bd4dca011020 line,#chart-9704da1f-4d99-486e-b517-bd4dca011020 rect,#chart-9704da1f-4d99-486e-b517-bd4dca011020 circle{-webkit-transition:1s ease-out;-moz-transition:1s ease-out;transition:1s ease-out}#chart-9704da1f-4d99-486e-b517-bd4dca011020 .graph &gt; .background{fill:black}#chart-9704da1f-4d99-486e-b517-bd4dca011020 .plot &gt; .background{fill:#111}#chart-9704da1f-4d99-486e-b517-bd4dca011020 .graph{fill:#999}#chart-9704da1f-4d99-486e-b517-bd4dca011020 text.no_data{fill:#eee}#chart-9704da1f-4d99-486e-b517-bd4dca011020 .title{fill:#eee}#chart-9704da1f-4d99-486e-b517-bd4dca011020 .legends .legend text{fill:#999}#chart-9704da1f-4d99-486e-b517-bd4dca011020 .legends .legend:hover text{fill:#eee}#chart-9704da1f-4d99-486e-b517-bd4dca011020 .axis .line{stroke:#eee}#chart-9704da1f-4d99-486e-b517-bd4dca011020 .axis .guide.line{stroke:#555}#chart-9704da1f-4d99-486e-b517-bd4dca011020 .axis .major.line{stroke:#999}#chart-9704da1f-4d99-486e-b517-bd4dca011020 .axis text.major{fill:#eee}#chart-9704da1f-4d99-486e-b517-bd4dca011020 .axis.y .guides:hover .guide.line,#chart-9704da1f-4d99-486e-b517-bd4dca011020 .line-graph .axis.x .guides:hover .guide.line,#chart-9704da1f-4d99-486e-b517-bd4dca011020 .stackedline-graph .axis.x .guides:hover .guide.line,#chart-9704da1f-4d99-486e-b517-bd4dca011020 .xy-graph .axis.x .guides:hover .guide.line{stroke:#eee}#chart-9704da1f-4d99-486e-b517-bd4dca011020 .axis .guides:hover text{fill:#eee}#chart-9704da1f-4d99-486e-b517-bd4dca011020 .reactive{fill-opacity:.1;stroke-opacity:.8}#chart-9704da1f-4d99-486e-b517-bd4dca011020 .ci{stroke:#999}#chart-9704da1f-4d99-486e-b517-bd4dca011020 .reactive.active,#chart-9704da1f-4d99-486e-b517-bd4dca011020 .active .reactive{fill-opacity:.75;stroke-opacity:.9;stroke-width:4}#chart-9704da1f-4d99-486e-b517-bd4dca011020 .ci .reactive.active{stroke-width:1.5}#chart-9704da1f-4d99-486e-b517-bd4dca011020 .series text{fill:#eee}#chart-9704da1f-4d99-486e-b517-bd4dca011020 .tooltip rect{fill:#111;stroke:#eee;-webkit-transition:opacity 1s ease-out;-moz-transition:opacity 1s ease-out;transition:opacity 1s ease-out}#chart-9704da1f-4d99-486e-b517-bd4dca011020 .tooltip .label{fill:#999}#chart-9704da1f-4d99-486e-b517-bd4dca011020 .tooltip .label{fill:#999}#chart-9704da1f-4d99-486e-b517-bd4dca011020 .tooltip .legend{font-size:.8em;fill:#555}#chart-9704da1f-4d99-486e-b517-bd4dca011020 .tooltip .x_label{font-size:.6em;fill:#eee}#chart-9704da1f-4d99-486e-b517-bd4dca011020 .tooltip .xlink{font-size:.5em;text-decoration:underline}#chart-9704da1f-4d99-486e-b517-bd4dca011020 .tooltip .value{font-size:1.5em}#chart-9704da1f-4d99-486e-b517-bd4dca011020 .bound{font-size:.5em}#chart-9704da1f-4d99-486e-b517-bd4dca011020 .max-value{font-size:.75em;fill:#555}#chart-9704da1f-4d99-486e-b517-bd4dca011020 .map-element{fill:#111;stroke:#555 !important}#chart-9704da1f-4d99-486e-b517-bd4dca011020 .map-element .reactive{fill-opacity:inherit;stroke-opacity:inherit}#chart-9704da1f-4d99-486e-b517-bd4dca011020 .color-0,#chart-9704da1f-4d99-486e-b517-bd4dca011020 .color-0 a:visited{stroke:#ff5995;fill:#ff5995}#chart-9704da1f-4d99-486e-b517-bd4dca011020 .color-1,#chart-9704da1f-4d99-486e-b517-bd4dca011020 .color-1 a:visited{stroke:#b6e354;fill:#b6e354}#chart-9704da1f-4d99-486e-b517-bd4dca011020 .color-2,#chart-9704da1f-4d99-486e-b517-bd4dca011020 .color-2 a:visited{stroke:#feed6c;fill:#feed6c}#chart-9704da1f-4d99-486e-b517-bd4dca011020 .color-3,#chart-9704da1f-4d99-486e-b517-bd4dca011020 .color-3 a:visited{stroke:#8cedff;fill:#8cedff}#chart-9704da1f-4d99-486e-b517-bd4dca011020 .color-4,#chart-9704da1f-4d99-486e-b517-bd4dca011020 .color-4 a:visited{stroke:#9e6ffe;fill:#9e6ffe}#chart-9704da1f-4d99-486e-b517-bd4dca011020 .text-overlay .color-0 text{fill:black}#chart-9704da1f-4d99-486e-b517-bd4dca011020 .text-overlay .color-1 text{fill:black}#chart-9704da1f-4d99-486e-b517-bd4dca011020 .text-overlay .color-2 text{fill:black}#chart-9704da1f-4d99-486e-b517-bd4dca011020 .text-overlay .color-3 text{fill:black}#chart-9704da1f-4d99-486e-b517-bd4dca011020 .text-overlay .color-4 text{fill:black}\n",
              "#chart-9704da1f-4d99-486e-b517-bd4dca011020 text.no_data{text-anchor:middle}#chart-9704da1f-4d99-486e-b517-bd4dca011020 .guide.line{fill:none}#chart-9704da1f-4d99-486e-b517-bd4dca011020 .centered{text-anchor:middle}#chart-9704da1f-4d99-486e-b517-bd4dca011020 .title{text-anchor:middle}#chart-9704da1f-4d99-486e-b517-bd4dca011020 .legends .legend text{fill-opacity:1}#chart-9704da1f-4d99-486e-b517-bd4dca011020 .axis.x text{text-anchor:middle}#chart-9704da1f-4d99-486e-b517-bd4dca011020 .axis.x:not(.web) text[transform]{text-anchor:start}#chart-9704da1f-4d99-486e-b517-bd4dca011020 .axis.x:not(.web) text[transform].backwards{text-anchor:end}#chart-9704da1f-4d99-486e-b517-bd4dca011020 .axis.y text{text-anchor:end}#chart-9704da1f-4d99-486e-b517-bd4dca011020 .axis.y text[transform].backwards{text-anchor:start}#chart-9704da1f-4d99-486e-b517-bd4dca011020 .axis.y2 text{text-anchor:start}#chart-9704da1f-4d99-486e-b517-bd4dca011020 .axis.y2 text[transform].backwards{text-anchor:end}#chart-9704da1f-4d99-486e-b517-bd4dca011020 .axis .guide.line{stroke-dasharray:4,4}#chart-9704da1f-4d99-486e-b517-bd4dca011020 .axis .major.guide.line{stroke-dasharray:6,6}#chart-9704da1f-4d99-486e-b517-bd4dca011020 .horizontal .axis.y .guide.line,#chart-9704da1f-4d99-486e-b517-bd4dca011020 .horizontal .axis.y2 .guide.line,#chart-9704da1f-4d99-486e-b517-bd4dca011020 .vertical .axis.x .guide.line{opacity:0}#chart-9704da1f-4d99-486e-b517-bd4dca011020 .horizontal .axis.always_show .guide.line,#chart-9704da1f-4d99-486e-b517-bd4dca011020 .vertical .axis.always_show .guide.line{opacity:1 !important}#chart-9704da1f-4d99-486e-b517-bd4dca011020 .axis.y .guides:hover .guide.line,#chart-9704da1f-4d99-486e-b517-bd4dca011020 .axis.y2 .guides:hover .guide.line,#chart-9704da1f-4d99-486e-b517-bd4dca011020 .axis.x .guides:hover .guide.line{opacity:1}#chart-9704da1f-4d99-486e-b517-bd4dca011020 .axis .guides:hover text{opacity:1}#chart-9704da1f-4d99-486e-b517-bd4dca011020 .nofill{fill:none}#chart-9704da1f-4d99-486e-b517-bd4dca011020 .subtle-fill{fill-opacity:.2}#chart-9704da1f-4d99-486e-b517-bd4dca011020 .dot{stroke-width:1px;fill-opacity:1}#chart-9704da1f-4d99-486e-b517-bd4dca011020 .dot.active{stroke-width:5px}#chart-9704da1f-4d99-486e-b517-bd4dca011020 .dot.negative{fill:transparent}#chart-9704da1f-4d99-486e-b517-bd4dca011020 text,#chart-9704da1f-4d99-486e-b517-bd4dca011020 tspan{stroke:none !important}#chart-9704da1f-4d99-486e-b517-bd4dca011020 .series text.active{opacity:1}#chart-9704da1f-4d99-486e-b517-bd4dca011020 .tooltip rect{fill-opacity:.95;stroke-width:.5}#chart-9704da1f-4d99-486e-b517-bd4dca011020 .tooltip text{fill-opacity:1}#chart-9704da1f-4d99-486e-b517-bd4dca011020 .showable{visibility:hidden}#chart-9704da1f-4d99-486e-b517-bd4dca011020 .showable.shown{visibility:visible}#chart-9704da1f-4d99-486e-b517-bd4dca011020 .gauge-background{fill:rgba(229,229,229,1);stroke:none}#chart-9704da1f-4d99-486e-b517-bd4dca011020 .bg-lines{stroke:black;stroke-width:2px}</style><script type=\"text/javascript\">window.pygal = window.pygal || {};window.pygal.config = window.pygal.config || {};window.pygal.config['9704da1f-4d99-486e-b517-bd4dca011020'] = {\"allow_interruptions\": false, \"box_mode\": \"extremes\", \"classes\": [\"pygal-chart\"], \"css\": [\"file://style.css\", \"file://graph.css\"], \"defs\": [], \"disable_xml_declaration\": false, \"dots_size\": 2.5, \"dynamic_print_values\": false, \"explicit_size\": false, \"fill\": false, \"force_uri_protocol\": \"https\", \"formatter\": null, \"half_pie\": false, \"height\": 600, \"include_x_axis\": false, \"inner_radius\": 0, \"interpolate\": \"cubic\", \"interpolation_parameters\": {}, \"interpolation_precision\": 250, \"inverse_y_axis\": false, \"js\": [\"//kozea.github.io/pygal.js/2.0.x/pygal-tooltips.min.js\"], \"legend_at_bottom\": false, \"legend_at_bottom_columns\": null, \"legend_box_size\": 12, \"logarithmic\": false, \"margin\": 20, \"margin_bottom\": null, \"margin_left\": null, \"margin_right\": null, \"margin_top\": null, \"max_scale\": 16, \"min_scale\": 4, \"missing_value_fill_truncation\": \"x\", \"no_data_text\": \"No data\", \"no_prefix\": false, \"order_min\": null, \"pretty_print\": false, \"print_labels\": false, \"print_values\": false, \"print_values_position\": \"center\", \"print_zeroes\": true, \"range\": null, \"rounded_bars\": null, \"secondary_range\": null, \"show_dots\": true, \"show_legend\": true, \"show_minor_x_labels\": true, \"show_minor_y_labels\": true, \"show_only_major_dots\": false, \"show_x_guides\": false, \"show_x_labels\": true, \"show_y_guides\": true, \"show_y_labels\": true, \"spacing\": 10, \"stack_from_top\": false, \"strict\": false, \"stroke\": true, \"stroke_style\": null, \"style\": {\"background\": \"black\", \"ci_colors\": [], \"colors\": [\"#ff5995\", \"#b6e354\", \"#feed6c\", \"#8cedff\", \"#9e6ffe\", \"#899ca1\", \"#f8f8f2\", \"#bf4646\", \"#516083\", \"#f92672\", \"#82b414\", \"#fd971f\", \"#56c2d6\", \"#808384\", \"#8c54fe\", \"#465457\"], \"font_family\": \"Consolas, \\\"Liberation Mono\\\", Menlo, Courier, monospace\", \"foreground\": \"#999\", \"foreground_strong\": \"#eee\", \"foreground_subtle\": \"#555\", \"guide_stroke_dasharray\": \"4,4\", \"label_font_family\": \"Consolas, \\\"Liberation Mono\\\", Menlo, Courier, monospace\", \"label_font_size\": 10, \"legend_font_family\": \"Consolas, \\\"Liberation Mono\\\", Menlo, Courier, monospace\", \"legend_font_size\": 14, \"major_guide_stroke_dasharray\": \"6,6\", \"major_label_font_family\": \"Consolas, \\\"Liberation Mono\\\", Menlo, Courier, monospace\", \"major_label_font_size\": 10, \"no_data_font_family\": \"Consolas, \\\"Liberation Mono\\\", Menlo, Courier, monospace\", \"no_data_font_size\": 64, \"opacity\": \".1\", \"opacity_hover\": \".75\", \"plot_background\": \"#111\", \"stroke_opacity\": \".8\", \"stroke_opacity_hover\": \".9\", \"title_font_family\": \"Consolas, \\\"Liberation Mono\\\", Menlo, Courier, monospace\", \"title_font_size\": 16, \"tooltip_font_family\": \"Consolas, \\\"Liberation Mono\\\", Menlo, Courier, monospace\", \"tooltip_font_size\": 14, \"transition\": \"1s ease-out\", \"value_background\": \"rgba(229, 229, 229, 1)\", \"value_colors\": [], \"value_font_family\": \"Consolas, \\\"Liberation Mono\\\", Menlo, Courier, monospace\", \"value_font_size\": 16, \"value_label_font_family\": \"Consolas, \\\"Liberation Mono\\\", Menlo, Courier, monospace\", \"value_label_font_size\": 10}, \"title\": \"Confusion Matrix\", \"tooltip_border_radius\": 0, \"tooltip_fancy_mode\": true, \"truncate_label\": null, \"truncate_legend\": null, \"width\": 800, \"x_label_rotation\": 30, \"x_labels\": [\"1\", \"2\", \"3\", \"4\", \"5\"], \"x_labels_major\": null, \"x_labels_major_count\": null, \"x_labels_major_every\": null, \"x_title\": null, \"xrange\": null, \"y_label_rotation\": 0, \"y_labels\": null, \"y_labels_major\": null, \"y_labels_major_count\": null, \"y_labels_major_every\": null, \"y_title\": null, \"zero\": 0, \"legends\": [\"1\", \"2\", \"3\", \"4\", \"5\"]}</script><script type=\"text/javascript\" xlink:href=\"https://kozea.github.io/pygal.js/2.0.x/pygal-tooltips.min.js\"/></defs><title>Confusion Matrix</title><g class=\"graph dot-graph vertical\"><rect class=\"background\" height=\"600\" width=\"800\" x=\"0\" y=\"0\"/><g class=\"plot\" transform=\"translate(70, 46)\"><rect class=\"background\" height=\"514\" width=\"709.6\" x=\"0\" y=\"0\"/><g class=\"axis y always_show\"><path class=\"line\" d=\"M0.000000 514.000000 h709.600000\"/><g class=\"guides\"><path class=\"guide line\" d=\"M0.000000 59.307692 h709.600000\"/><text class=\"\" x=\"-5\" y=\"62.80769230769232\">1</text><title>4.5</title></g><g class=\"guides\"><path class=\"guide line\" d=\"M0.000000 158.153846 h709.600000\"/><text class=\"\" x=\"-5\" y=\"161.65384615384608\">2</text><title>3.5</title></g><g class=\"guides\"><path class=\"guide line\" d=\"M0.000000 257.000000 h709.600000\"/><text class=\"\" x=\"-5\" y=\"260.49999999999994\">3</text><title>2.5</title></g><g class=\"guides\"><path class=\"guide line\" d=\"M0.000000 355.846154 h709.600000\"/><text class=\"\" x=\"-5\" y=\"359.3461538461538\">4</text><title>1.5</title></g><g class=\"guides\"><path class=\"guide line\" d=\"M0.000000 454.692308 h709.600000\"/><text class=\"\" x=\"-5\" y=\"458.1923076923077\">5</text><title>0.5</title></g></g><g class=\"axis x\"><path class=\"line\" d=\"M0.000000 0.000000 v514.000000\"/><g class=\"guides\"><path class=\"guide line\" d=\"M81.876923 0.000000 v514.000000\"/><text class=\"\" x=\"81.87692307692309\" y=\"529.0\" transform=\"rotate(30 81.876923 529.000000)\">1</text></g><g class=\"guides\"><path class=\"guide line\" d=\"M218.338462 0.000000 v514.000000\"/><text class=\"\" x=\"218.3384615384616\" y=\"529.0\" transform=\"rotate(30 218.338462 529.000000)\">2</text></g><g class=\"guides\"><path class=\"guide line\" d=\"M354.800000 0.000000 v514.000000\"/><text class=\"\" x=\"354.80000000000007\" y=\"529.0\" transform=\"rotate(30 354.800000 529.000000)\">3</text></g><g class=\"guides\"><path class=\"guide line\" d=\"M491.261538 0.000000 v514.000000\"/><text class=\"\" x=\"491.2615384615385\" y=\"529.0\" transform=\"rotate(30 491.261538 529.000000)\">4</text></g><g class=\"guides\"><path class=\"guide line\" d=\"M627.723077 0.000000 v514.000000\"/><text class=\"\" x=\"627.723076923077\" y=\"529.0\" transform=\"rotate(30 627.723077 529.000000)\">5</text></g></g><g class=\"series serie-0 color-0\"><g class=\"dots\"><circle class=\"dot reactive tooltip-trigger\" cx=\"81.87692307692309\" cy=\"59.30769230769232\" r=\"16.10275689223059\"/><desc class=\"value\">13</desc><desc class=\"x centered\">81.87692307692309</desc><desc class=\"y centered\">59.30769230769232</desc><desc class=\"x_label\">1</desc></g><g class=\"dots\"><circle class=\"dot reactive tooltip-trigger\" cx=\"218.3384615384616\" cy=\"59.30769230769232\" r=\"0.0\"/><desc class=\"value\">0</desc><desc class=\"x centered\">218.3384615384616</desc><desc class=\"y centered\">59.30769230769232</desc><desc class=\"x_label\">2</desc></g><g class=\"dots\"><circle class=\"dot reactive tooltip-trigger\" cx=\"354.80000000000007\" cy=\"59.30769230769232\" r=\"0.0\"/><desc class=\"value\">0</desc><desc class=\"x centered\">354.80000000000007</desc><desc class=\"y centered\">59.30769230769232</desc><desc class=\"x_label\">3</desc></g><g class=\"dots\"><circle class=\"dot reactive tooltip-trigger\" cx=\"491.2615384615385\" cy=\"59.30769230769232\" r=\"0.0\"/><desc class=\"value\">0</desc><desc class=\"x centered\">491.2615384615385</desc><desc class=\"y centered\">59.30769230769232</desc><desc class=\"x_label\">4</desc></g><g class=\"dots\"><circle class=\"dot reactive tooltip-trigger\" cx=\"627.723076923077\" cy=\"59.30769230769232\" r=\"0.0\"/><desc class=\"value\">0</desc><desc class=\"x centered\">627.723076923077</desc><desc class=\"y centered\">59.30769230769232</desc><desc class=\"x_label\">5</desc></g></g><g class=\"series serie-1 color-1\"><g class=\"dots\"><circle class=\"dot reactive tooltip-trigger\" cx=\"81.87692307692309\" cy=\"158.15384615384608\" r=\"39.63755542702914\"/><desc class=\"value\">32</desc><desc class=\"x centered\">81.87692307692309</desc><desc class=\"y centered\">158.15384615384608</desc><desc class=\"x_label\">1</desc></g><g class=\"dots\"><circle class=\"dot reactive tooltip-trigger\" cx=\"218.3384615384616\" cy=\"158.15384615384608\" r=\"0.0\"/><desc class=\"value\">0</desc><desc class=\"x centered\">218.3384615384616</desc><desc class=\"y centered\">158.15384615384608</desc><desc class=\"x_label\">2</desc></g><g class=\"dots\"><circle class=\"dot reactive tooltip-trigger\" cx=\"354.80000000000007\" cy=\"158.15384615384608\" r=\"0.0\"/><desc class=\"value\">0</desc><desc class=\"x centered\">354.80000000000007</desc><desc class=\"y centered\">158.15384615384608</desc><desc class=\"x_label\">3</desc></g><g class=\"dots\"><circle class=\"dot reactive tooltip-trigger\" cx=\"491.2615384615385\" cy=\"158.15384615384608\" r=\"0.0\"/><desc class=\"value\">0</desc><desc class=\"x centered\">491.2615384615385</desc><desc class=\"y centered\">158.15384615384608</desc><desc class=\"x_label\">4</desc></g><g class=\"dots\"><circle class=\"dot reactive tooltip-trigger\" cx=\"627.723076923077\" cy=\"158.15384615384608\" r=\"0.0\"/><desc class=\"value\">0</desc><desc class=\"x centered\">627.723076923077</desc><desc class=\"y centered\">158.15384615384608</desc><desc class=\"x_label\">5</desc></g></g><g class=\"series serie-2 color-2\"><g class=\"dots\"><circle class=\"dot reactive tooltip-trigger\" cx=\"81.87692307692309\" cy=\"256.99999999999994\" r=\"47.06959706959711\"/><desc class=\"value\">38</desc><desc class=\"x centered\">81.87692307692309</desc><desc class=\"y centered\">256.99999999999994</desc><desc class=\"x_label\">1</desc></g><g class=\"dots\"><circle class=\"dot reactive tooltip-trigger\" cx=\"218.3384615384616\" cy=\"256.99999999999994\" r=\"0.0\"/><desc class=\"value\">0</desc><desc class=\"x centered\">218.3384615384616</desc><desc class=\"y centered\">256.99999999999994</desc><desc class=\"x_label\">2</desc></g><g class=\"dots\"><circle class=\"dot reactive tooltip-trigger\" cx=\"354.80000000000007\" cy=\"256.99999999999994\" r=\"0.0\"/><desc class=\"value\">0</desc><desc class=\"x centered\">354.80000000000007</desc><desc class=\"y centered\">256.99999999999994</desc><desc class=\"x_label\">3</desc></g><g class=\"dots\"><circle class=\"dot reactive tooltip-trigger\" cx=\"491.2615384615385\" cy=\"256.99999999999994\" r=\"0.0\"/><desc class=\"value\">0</desc><desc class=\"x centered\">491.2615384615385</desc><desc class=\"y centered\">256.99999999999994</desc><desc class=\"x_label\">4</desc></g><g class=\"dots\"><circle class=\"dot reactive tooltip-trigger\" cx=\"627.723076923077\" cy=\"256.99999999999994\" r=\"0.0\"/><desc class=\"value\">0</desc><desc class=\"x centered\">627.723076923077</desc><desc class=\"y centered\">256.99999999999994</desc><desc class=\"x_label\">5</desc></g></g><g class=\"series serie-3 color-3\"><g class=\"dots\"><circle class=\"dot reactive tooltip-trigger\" cx=\"81.87692307692309\" cy=\"355.8461538461538\" r=\"26.012145748987876\"/><desc class=\"value\">21</desc><desc class=\"x centered\">81.87692307692309</desc><desc class=\"y centered\">355.8461538461538</desc><desc class=\"x_label\">1</desc></g><g class=\"dots\"><circle class=\"dot reactive tooltip-trigger\" cx=\"218.3384615384616\" cy=\"355.8461538461538\" r=\"0.0\"/><desc class=\"value\">0</desc><desc class=\"x centered\">218.3384615384616</desc><desc class=\"y centered\">355.8461538461538</desc><desc class=\"x_label\">2</desc></g><g class=\"dots\"><circle class=\"dot reactive tooltip-trigger\" cx=\"354.80000000000007\" cy=\"355.8461538461538\" r=\"0.0\"/><desc class=\"value\">0</desc><desc class=\"x centered\">354.80000000000007</desc><desc class=\"y centered\">355.8461538461538</desc><desc class=\"x_label\">3</desc></g><g class=\"dots\"><circle class=\"dot reactive tooltip-trigger\" cx=\"491.2615384615385\" cy=\"355.8461538461538\" r=\"0.0\"/><desc class=\"value\">0</desc><desc class=\"x centered\">491.2615384615385</desc><desc class=\"y centered\">355.8461538461538</desc><desc class=\"x_label\">4</desc></g><g class=\"dots\"><circle class=\"dot reactive tooltip-trigger\" cx=\"627.723076923077\" cy=\"355.8461538461538\" r=\"0.0\"/><desc class=\"value\">0</desc><desc class=\"x centered\">627.723076923077</desc><desc class=\"y centered\">355.8461538461538</desc><desc class=\"x_label\">5</desc></g></g><g class=\"series serie-4 color-4\"><g class=\"dots\"><circle class=\"dot reactive tooltip-trigger\" cx=\"81.87692307692309\" cy=\"454.6923076923077\" r=\"19.81877771351457\"/><desc class=\"value\">16</desc><desc class=\"x centered\">81.87692307692309</desc><desc class=\"y centered\">454.6923076923077</desc><desc class=\"x_label\">1</desc></g><g class=\"dots\"><circle class=\"dot reactive tooltip-trigger\" cx=\"218.3384615384616\" cy=\"454.6923076923077\" r=\"0.0\"/><desc class=\"value\">0</desc><desc class=\"x centered\">218.3384615384616</desc><desc class=\"y centered\">454.6923076923077</desc><desc class=\"x_label\">2</desc></g><g class=\"dots\"><circle class=\"dot reactive tooltip-trigger\" cx=\"354.80000000000007\" cy=\"454.6923076923077\" r=\"0.0\"/><desc class=\"value\">0</desc><desc class=\"x centered\">354.80000000000007</desc><desc class=\"y centered\">454.6923076923077</desc><desc class=\"x_label\">3</desc></g><g class=\"dots\"><circle class=\"dot reactive tooltip-trigger\" cx=\"491.2615384615385\" cy=\"454.6923076923077\" r=\"0.0\"/><desc class=\"value\">0</desc><desc class=\"x centered\">491.2615384615385</desc><desc class=\"y centered\">454.6923076923077</desc><desc class=\"x_label\">4</desc></g><g class=\"dots\"><circle class=\"dot reactive tooltip-trigger\" cx=\"627.723076923077\" cy=\"454.6923076923077\" r=\"0.0\"/><desc class=\"value\">0</desc><desc class=\"x centered\">627.723076923077</desc><desc class=\"y centered\">454.6923076923077</desc><desc class=\"x_label\">5</desc></g></g></g><g class=\"titles\"><text class=\"title plot_title\" x=\"400.0\" y=\"26\">Confusion Matrix</text></g><g class=\"plot overlay\" transform=\"translate(70, 46)\"><g class=\"series serie-0 color-0\"/><g class=\"series serie-1 color-1\"/><g class=\"series serie-2 color-2\"/><g class=\"series serie-3 color-3\"/><g class=\"series serie-4 color-4\"/></g><g class=\"plot text-overlay\" transform=\"translate(70, 46)\"><g class=\"series serie-0 color-0\"/><g class=\"series serie-1 color-1\"/><g class=\"series serie-2 color-2\"/><g class=\"series serie-3 color-3\"/><g class=\"series serie-4 color-4\"/></g><g class=\"plot tooltip-overlay\" transform=\"translate(70, 46)\"><g class=\"tooltip\" style=\"opacity: 0\" transform=\"translate(0 0)\"><rect class=\"tooltip-box\" height=\"0\" rx=\"0\" ry=\"0\" width=\"0\"/><g class=\"text\"/></g></g><g class=\"legends\" transform=\"translate(10, 56)\"><g class=\"legend reactive activate-serie\" id=\"activate-serie-0\"><rect class=\"color-0 reactive\" height=\"12\" width=\"12\" x=\"0.0\" y=\"1.0\"/><text x=\"17.0\" y=\"11.2\">1</text></g><g class=\"legend reactive activate-serie\" id=\"activate-serie-1\"><rect class=\"color-1 reactive\" height=\"12\" width=\"12\" x=\"0.0\" y=\"22.0\"/><text x=\"17.0\" y=\"32.2\">2</text></g><g class=\"legend reactive activate-serie\" id=\"activate-serie-2\"><rect class=\"color-2 reactive\" height=\"12\" width=\"12\" x=\"0.0\" y=\"43.0\"/><text x=\"17.0\" y=\"53.2\">3</text></g><g class=\"legend reactive activate-serie\" id=\"activate-serie-3\"><rect class=\"color-3 reactive\" height=\"12\" width=\"12\" x=\"0.0\" y=\"64.0\"/><text x=\"17.0\" y=\"74.2\">4</text></g><g class=\"legend reactive activate-serie\" id=\"activate-serie-4\"><rect class=\"color-4 reactive\" height=\"12\" width=\"12\" x=\"0.0\" y=\"85.0\"/><text x=\"17.0\" y=\"95.2\">5</text></g></g><g class=\"legends\" transform=\"translate(790, 56)\"/></g></svg>\n",
              "    </figure>\n",
              "  </body>\n",
              "</html>\n"
            ],
            "text/plain": [
              "<IPython.core.display.HTML object>"
            ]
          },
          "metadata": {
            "tags": []
          }
        }
      ]
    },
    {
      "cell_type": "code",
      "metadata": {
        "id": "YzWQsj3K11j7",
        "outputId": "f796df15-e695-4be8-fa18-b07154e80501",
        "colab": {
          "base_uri": "https://localhost:8080/",
          "height": 106
        }
      },
      "source": [
        "confusion_matrix(y_train, model.predict(X_train))"
      ],
      "execution_count": 81,
      "outputs": [
        {
          "output_type": "execute_result",
          "data": {
            "text/plain": [
              "array([[13,  0,  0,  0,  0],\n",
              "       [75,  0,  0,  0,  0],\n",
              "       [95,  0,  0,  0,  0],\n",
              "       [53,  0,  0,  0,  0],\n",
              "       [44,  0,  0,  0,  0]])"
            ]
          },
          "metadata": {
            "tags": []
          },
          "execution_count": 81
        }
      ]
    }
  ]
}