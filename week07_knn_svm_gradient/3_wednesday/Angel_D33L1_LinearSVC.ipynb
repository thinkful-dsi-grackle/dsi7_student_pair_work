{
  "nbformat": 4,
  "nbformat_minor": 0,
  "metadata": {
    "colab": {
      "name": "Angel_D33L1_LinearSVC.ipynb",
      "provenance": [],
      "collapsed_sections": []
    },
    "kernelspec": {
      "display_name": "Python 3",
      "language": "python",
      "name": "python3"
    },
    "language_info": {
      "codemirror_mode": {
        "name": "ipython",
        "version": 3
      },
      "file_extension": ".py",
      "mimetype": "text/x-python",
      "name": "python",
      "nbconvert_exporter": "python",
      "pygments_lexer": "ipython3",
      "version": "3.7.6"
    }
  },
  "cells": [
    {
      "cell_type": "markdown",
      "metadata": {
        "id": "N-dUAbfgpuRb"
      },
      "source": [
        "# Linear SVC Assignment"
      ]
    },
    {
      "cell_type": "code",
      "metadata": {
        "id": "frNvugKHpuRd"
      },
      "source": [
        "import numpy as np\n",
        "import pandas as pd\n",
        "\n",
        "from sklearn.svm import SVC\n",
        "from sklearn.model_selection import train_test_split\n",
        "from sklearn.metrics import classification_report, confusion_matrix"
      ],
      "execution_count": 1,
      "outputs": []
    },
    {
      "cell_type": "markdown",
      "metadata": {
        "id": "GePJHOhaPuNE"
      },
      "source": [
        "### Import the admissions data set (admissions.csv)."
      ]
    },
    {
      "cell_type": "code",
      "metadata": {
        "id": "B_1e4lobpuRf",
        "outputId": "d4d4b57a-6be9-43b8-b4df-a7fafcdad816",
        "colab": {
          "base_uri": "https://localhost:8080/",
          "height": 202
        }
      },
      "source": [
        "data = pd.read_csv('https://tf-assets-prod.s3.amazonaws.com/tf-curric/data-science/admissions.csv')\n",
        "data.head()"
      ],
      "execution_count": 2,
      "outputs": [
        {
          "output_type": "execute_result",
          "data": {
            "text/html": [
              "<div>\n",
              "<style scoped>\n",
              "    .dataframe tbody tr th:only-of-type {\n",
              "        vertical-align: middle;\n",
              "    }\n",
              "\n",
              "    .dataframe tbody tr th {\n",
              "        vertical-align: top;\n",
              "    }\n",
              "\n",
              "    .dataframe thead th {\n",
              "        text-align: right;\n",
              "    }\n",
              "</style>\n",
              "<table border=\"1\" class=\"dataframe\">\n",
              "  <thead>\n",
              "    <tr style=\"text-align: right;\">\n",
              "      <th></th>\n",
              "      <th>GRE</th>\n",
              "      <th>TOEFL</th>\n",
              "      <th>SchoolRank</th>\n",
              "      <th>SOP</th>\n",
              "      <th>LOR</th>\n",
              "      <th>GPA</th>\n",
              "      <th>Research</th>\n",
              "      <th>Admitted</th>\n",
              "    </tr>\n",
              "  </thead>\n",
              "  <tbody>\n",
              "    <tr>\n",
              "      <th>0</th>\n",
              "      <td>337</td>\n",
              "      <td>118</td>\n",
              "      <td>4</td>\n",
              "      <td>4.5</td>\n",
              "      <td>4.5</td>\n",
              "      <td>9.65</td>\n",
              "      <td>1</td>\n",
              "      <td>1</td>\n",
              "    </tr>\n",
              "    <tr>\n",
              "      <th>1</th>\n",
              "      <td>324</td>\n",
              "      <td>107</td>\n",
              "      <td>4</td>\n",
              "      <td>4.0</td>\n",
              "      <td>4.5</td>\n",
              "      <td>8.87</td>\n",
              "      <td>1</td>\n",
              "      <td>1</td>\n",
              "    </tr>\n",
              "    <tr>\n",
              "      <th>2</th>\n",
              "      <td>316</td>\n",
              "      <td>104</td>\n",
              "      <td>3</td>\n",
              "      <td>3.0</td>\n",
              "      <td>3.5</td>\n",
              "      <td>8.00</td>\n",
              "      <td>1</td>\n",
              "      <td>1</td>\n",
              "    </tr>\n",
              "    <tr>\n",
              "      <th>3</th>\n",
              "      <td>322</td>\n",
              "      <td>110</td>\n",
              "      <td>3</td>\n",
              "      <td>3.5</td>\n",
              "      <td>2.5</td>\n",
              "      <td>8.67</td>\n",
              "      <td>1</td>\n",
              "      <td>1</td>\n",
              "    </tr>\n",
              "    <tr>\n",
              "      <th>4</th>\n",
              "      <td>314</td>\n",
              "      <td>103</td>\n",
              "      <td>2</td>\n",
              "      <td>2.0</td>\n",
              "      <td>3.0</td>\n",
              "      <td>8.21</td>\n",
              "      <td>0</td>\n",
              "      <td>0</td>\n",
              "    </tr>\n",
              "  </tbody>\n",
              "</table>\n",
              "</div>"
            ],
            "text/plain": [
              "   GRE  TOEFL  SchoolRank  SOP  LOR   GPA  Research  Admitted\n",
              "0  337    118           4  4.5  4.5  9.65         1         1\n",
              "1  324    107           4  4.0  4.5  8.87         1         1\n",
              "2  316    104           3  3.0  3.5  8.00         1         1\n",
              "3  322    110           3  3.5  2.5  8.67         1         1\n",
              "4  314    103           2  2.0  3.0  8.21         0         0"
            ]
          },
          "metadata": {
            "tags": []
          },
          "execution_count": 2
        }
      ]
    },
    {
      "cell_type": "markdown",
      "metadata": {
        "id": "PqbIpTOyPuNM"
      },
      "source": [
        "### Split the data into training and test sets, with the test set comprising 30% of the data.  Use `'Admitted'` as the target."
      ]
    },
    {
      "cell_type": "code",
      "metadata": {
        "id": "uFiTXMGrPuNM"
      },
      "source": [
        "y = data.Admitted\n",
        "X = data.drop(columns=['Admitted'])\n",
        "\n",
        "X_train, X_test, y_train, y_test = train_test_split(X, y, test_size=0.30)"
      ],
      "execution_count": 3,
      "outputs": []
    },
    {
      "cell_type": "markdown",
      "metadata": {
        "id": "P_h8WYktpuRj"
      },
      "source": [
        "### Generate an SVC model with a linear kernel. Set the regularization parameter (C) = 10. Check the score for both train and test sets. "
      ]
    },
    {
      "cell_type": "code",
      "metadata": {
        "id": "s7ZPqXMGpuRj",
        "outputId": "2533f479-d09f-4ccf-c894-964c7854e8fa",
        "colab": {
          "base_uri": "https://localhost:8080/",
          "height": 52
        }
      },
      "source": [
        "from sklearn.svm import SVC\n",
        "\n",
        "svm = SVC(C=10, kernel='linear')\n",
        "svm.fit(X_train, y_train)\n",
        "\n",
        "print(\"Training Set Score: \", svm.score(X_train, y_train))\n",
        "print(\"Testing Set Score: \", svm.score(X_test, y_test))"
      ],
      "execution_count": 4,
      "outputs": [
        {
          "output_type": "stream",
          "text": [
            "Training Set Score:  0.875\n",
            "Testing Set Score:  0.8666666666666667\n"
          ],
          "name": "stdout"
        }
      ]
    },
    {
      "cell_type": "markdown",
      "metadata": {
        "id": "ahsyvz1LpuRn"
      },
      "source": [
        "### Choose some other values for C and show the difference between the scores for the train and test sets."
      ]
    },
    {
      "cell_type": "code",
      "metadata": {
        "id": "tE_-fqFcpuRo",
        "outputId": "b7be6995-0c95-4d4b-9659-12793b5f93c4",
        "colab": {
          "base_uri": "https://localhost:8080/",
          "height": 52
        }
      },
      "source": [
        "from sklearn.svm import SVC\n",
        "\n",
        "svm = SVC(C=1000, kernel='linear')\n",
        "svm.fit(X_train, y_train)\n",
        "\n",
        "print(\"Training Set Score: \", svm.score(X_train, y_train))\n",
        "print(\"Testing Set Score: \", svm.score(X_test, y_test))"
      ],
      "execution_count": 5,
      "outputs": [
        {
          "output_type": "stream",
          "text": [
            "Training Set Score:  0.8714285714285714\n",
            "Testing Set Score:  0.8833333333333333\n"
          ],
          "name": "stdout"
        }
      ]
    },
    {
      "cell_type": "markdown",
      "metadata": {
        "id": "oUzyujbwpuRr"
      },
      "source": [
        "### What if we switched up the target variable? Let assume that we know whether a student was admitted. Let's try to predict what their SchoolRank was. \n",
        "\n",
        "Create an SVC model with a linear kernel with the SchoolRank field as the target variable. Report both the train and the test scores."
      ]
    },
    {
      "cell_type": "code",
      "metadata": {
        "id": "lKPF7TSdpuRs",
        "outputId": "cd33c3e8-875a-499d-be5a-32479fab2ce0",
        "colab": {
          "base_uri": "https://localhost:8080/",
          "height": 52
        }
      },
      "source": [
        "y = data.SchoolRank\n",
        "X = data.drop(columns=['SchoolRank'])\n",
        "\n",
        "X_train, X_test, y_train, y_test = train_test_split(X, y, test_size=0.30)\n",
        "\n",
        "svm = SVC(C=10, kernel='linear')\n",
        "svm.fit(X_train, y_train)\n",
        "\n",
        "print(\"Training Set Score: \", svm.score(X_train, y_train))\n",
        "print(\"Testing Set Score: \", svm.score(X_test, y_test))"
      ],
      "execution_count": 6,
      "outputs": [
        {
          "output_type": "stream",
          "text": [
            "Training Set Score:  0.6535714285714286\n",
            "Testing Set Score:  0.575\n"
          ],
          "name": "stdout"
        }
      ]
    },
    {
      "cell_type": "markdown",
      "metadata": {
        "id": "EQKgbtUm4psY"
      },
      "source": [
        "### Show confusion matrices for the training and test sets, and a classification report for the test set. What trends do you notice?"
      ]
    },
    {
      "cell_type": "code",
      "metadata": {
        "id": "rBSLoqCSpuRt",
        "outputId": "96020d80-5bbe-485e-aad0-6d74a668b704",
        "colab": {
          "base_uri": "https://localhost:8080/",
          "height": 104
        }
      },
      "source": [
        "from sklearn.metrics import classification_report, confusion_matrix\n",
        "\n",
        "y_pred_train = svm.predict(X_train)\n",
        "confusion = confusion_matrix(y_train, y_pred_train)\n",
        "print(confusion)"
      ],
      "execution_count": 7,
      "outputs": [
        {
          "output_type": "stream",
          "text": [
            "[[ 2 12  1  0  0]\n",
            " [ 0 58 19  0  1]\n",
            " [ 0 11 73  3  1]\n",
            " [ 0  3 14 26 12]\n",
            " [ 0  0  7 13 24]]\n"
          ],
          "name": "stdout"
        }
      ]
    },
    {
      "cell_type": "code",
      "metadata": {
        "id": "3rhLSeh10yB1",
        "outputId": "2205eb0f-b104-49c6-db59-8fd41b9256b4",
        "colab": {
          "base_uri": "https://localhost:8080/",
          "height": 104
        }
      },
      "source": [
        "from sklearn.metrics import classification_report, confusion_matrix\n",
        "\n",
        "y_pred_test = svm.predict(X_test)\n",
        "confusion = confusion_matrix(y_test, y_pred_test)\n",
        "print(confusion)"
      ],
      "execution_count": 8,
      "outputs": [
        {
          "output_type": "stream",
          "text": [
            "[[ 0 11  0  0  0]\n",
            " [ 0 18 10  0  1]\n",
            " [ 0 12 30  3  0]\n",
            " [ 0  1  5  9  4]\n",
            " [ 0  0  1  3 12]]\n"
          ],
          "name": "stdout"
        }
      ]
    },
    {
      "cell_type": "code",
      "metadata": {
        "id": "nWIgL4CJ01t2",
        "outputId": "709119f1-c6d3-48a2-c5bf-7454bb18e415",
        "colab": {
          "base_uri": "https://localhost:8080/",
          "height": 280
        }
      },
      "source": [
        "report = classification_report(y_test, y_pred_test)\n",
        "print(report)"
      ],
      "execution_count": 9,
      "outputs": [
        {
          "output_type": "stream",
          "text": [
            "              precision    recall  f1-score   support\n",
            "\n",
            "           1       0.00      0.00      0.00        11\n",
            "           2       0.43      0.62      0.51        29\n",
            "           3       0.65      0.67      0.66        45\n",
            "           4       0.60      0.47      0.53        19\n",
            "           5       0.71      0.75      0.73        16\n",
            "\n",
            "    accuracy                           0.57       120\n",
            "   macro avg       0.48      0.50      0.48       120\n",
            "weighted avg       0.54      0.57      0.55       120\n",
            "\n"
          ],
          "name": "stdout"
        },
        {
          "output_type": "stream",
          "text": [
            "/usr/local/lib/python3.6/dist-packages/sklearn/metrics/_classification.py:1272: UndefinedMetricWarning: Precision and F-score are ill-defined and being set to 0.0 in labels with no predicted samples. Use `zero_division` parameter to control this behavior.\n",
            "  _warn_prf(average, modifier, msg_start, len(result))\n"
          ],
          "name": "stderr"
        }
      ]
    },
    {
      "cell_type": "markdown",
      "metadata": {
        "id": "s8t2rg4F3ZK5"
      },
      "source": [
        "Because there are less observations of 'SchoolRank' == 5, the model is less able to accurately predict for that class."
      ]
    },
    {
      "cell_type": "code",
      "metadata": {
        "id": "VtJnzbUz06pM"
      },
      "source": [
        ""
      ],
      "execution_count": 9,
      "outputs": []
    }
  ]
}