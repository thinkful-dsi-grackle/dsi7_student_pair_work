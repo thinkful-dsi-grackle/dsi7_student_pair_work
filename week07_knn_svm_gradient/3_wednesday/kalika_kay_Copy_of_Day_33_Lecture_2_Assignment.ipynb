{
  "nbformat": 4,
  "nbformat_minor": 0,
  "metadata": {
    "kernelspec": {
      "display_name": "Python 3",
      "language": "python",
      "name": "python3"
    },
    "language_info": {
      "codemirror_mode": {
        "name": "ipython",
        "version": 3
      },
      "file_extension": ".py",
      "mimetype": "text/x-python",
      "name": "python",
      "nbconvert_exporter": "python",
      "pygments_lexer": "ipython3",
      "version": "3.7.0"
    },
    "colab": {
      "name": "kalika kay Copy of Day 33 Lecture 2 Assignment.ipynb",
      "provenance": [],
      "collapsed_sections": []
    }
  },
  "cells": [
    {
      "cell_type": "markdown",
      "metadata": {
        "id": "cHTqUTbNpuwZ"
      },
      "source": [
        "## Day 33 Lecture 2 Assignment\n",
        "\n",
        "In this assignment, we will learn about non linear SVM models. We will use the heart disease dataset loaded below and analyze the model generated for this dataset."
      ]
    },
    {
      "cell_type": "code",
      "metadata": {
        "id": "kQBDnjBLpuwZ"
      },
      "source": [
        "%matplotlib inline\n",
        "\n",
        "import matplotlib.pyplot as plt\n",
        "import numpy as np\n",
        "import pandas as pd"
      ],
      "execution_count": 30,
      "outputs": []
    },
    {
      "cell_type": "code",
      "metadata": {
        "id": "Z1EskWSrpuwb"
      },
      "source": [
        "heart = pd.read_csv('https://tf-assets-prod.s3.amazonaws.com/tf-curric/data-science/framingham_heart_disease.csv')"
      ],
      "execution_count": 31,
      "outputs": []
    },
    {
      "cell_type": "code",
      "metadata": {
        "id": "zwYPk78tBrBy",
        "outputId": "4ff78378-cd24-42ba-893c-5a2d39d428c5",
        "colab": {
          "base_uri": "https://localhost:8080/"
        }
      },
      "source": [
        "heart.shape"
      ],
      "execution_count": 32,
      "outputs": [
        {
          "output_type": "execute_result",
          "data": {
            "text/plain": [
              "(4238, 16)"
            ]
          },
          "metadata": {
            "tags": []
          },
          "execution_count": 32
        }
      ]
    },
    {
      "cell_type": "code",
      "metadata": {
        "id": "Tw1yj9Ehpuwd",
        "outputId": "3416d8f8-b67c-48a9-e4c4-c0d8478162a9",
        "colab": {
          "base_uri": "https://localhost:8080/",
          "height": 195
        }
      },
      "source": [
        "heart.head()"
      ],
      "execution_count": 33,
      "outputs": [
        {
          "output_type": "execute_result",
          "data": {
            "text/html": [
              "<div>\n",
              "<style scoped>\n",
              "    .dataframe tbody tr th:only-of-type {\n",
              "        vertical-align: middle;\n",
              "    }\n",
              "\n",
              "    .dataframe tbody tr th {\n",
              "        vertical-align: top;\n",
              "    }\n",
              "\n",
              "    .dataframe thead th {\n",
              "        text-align: right;\n",
              "    }\n",
              "</style>\n",
              "<table border=\"1\" class=\"dataframe\">\n",
              "  <thead>\n",
              "    <tr style=\"text-align: right;\">\n",
              "      <th></th>\n",
              "      <th>male</th>\n",
              "      <th>age</th>\n",
              "      <th>education</th>\n",
              "      <th>currentSmoker</th>\n",
              "      <th>cigsPerDay</th>\n",
              "      <th>BPMeds</th>\n",
              "      <th>prevalentStroke</th>\n",
              "      <th>prevalentHyp</th>\n",
              "      <th>diabetes</th>\n",
              "      <th>totChol</th>\n",
              "      <th>sysBP</th>\n",
              "      <th>diaBP</th>\n",
              "      <th>BMI</th>\n",
              "      <th>heartRate</th>\n",
              "      <th>glucose</th>\n",
              "      <th>TenYearCHD</th>\n",
              "    </tr>\n",
              "  </thead>\n",
              "  <tbody>\n",
              "    <tr>\n",
              "      <th>0</th>\n",
              "      <td>1</td>\n",
              "      <td>39</td>\n",
              "      <td>4.0</td>\n",
              "      <td>0</td>\n",
              "      <td>0.0</td>\n",
              "      <td>0.0</td>\n",
              "      <td>0</td>\n",
              "      <td>0</td>\n",
              "      <td>0</td>\n",
              "      <td>195.0</td>\n",
              "      <td>106.0</td>\n",
              "      <td>70.0</td>\n",
              "      <td>26.97</td>\n",
              "      <td>80.0</td>\n",
              "      <td>77.0</td>\n",
              "      <td>0</td>\n",
              "    </tr>\n",
              "    <tr>\n",
              "      <th>1</th>\n",
              "      <td>0</td>\n",
              "      <td>46</td>\n",
              "      <td>2.0</td>\n",
              "      <td>0</td>\n",
              "      <td>0.0</td>\n",
              "      <td>0.0</td>\n",
              "      <td>0</td>\n",
              "      <td>0</td>\n",
              "      <td>0</td>\n",
              "      <td>250.0</td>\n",
              "      <td>121.0</td>\n",
              "      <td>81.0</td>\n",
              "      <td>28.73</td>\n",
              "      <td>95.0</td>\n",
              "      <td>76.0</td>\n",
              "      <td>0</td>\n",
              "    </tr>\n",
              "    <tr>\n",
              "      <th>2</th>\n",
              "      <td>1</td>\n",
              "      <td>48</td>\n",
              "      <td>1.0</td>\n",
              "      <td>1</td>\n",
              "      <td>20.0</td>\n",
              "      <td>0.0</td>\n",
              "      <td>0</td>\n",
              "      <td>0</td>\n",
              "      <td>0</td>\n",
              "      <td>245.0</td>\n",
              "      <td>127.5</td>\n",
              "      <td>80.0</td>\n",
              "      <td>25.34</td>\n",
              "      <td>75.0</td>\n",
              "      <td>70.0</td>\n",
              "      <td>0</td>\n",
              "    </tr>\n",
              "    <tr>\n",
              "      <th>3</th>\n",
              "      <td>0</td>\n",
              "      <td>61</td>\n",
              "      <td>3.0</td>\n",
              "      <td>1</td>\n",
              "      <td>30.0</td>\n",
              "      <td>0.0</td>\n",
              "      <td>0</td>\n",
              "      <td>1</td>\n",
              "      <td>0</td>\n",
              "      <td>225.0</td>\n",
              "      <td>150.0</td>\n",
              "      <td>95.0</td>\n",
              "      <td>28.58</td>\n",
              "      <td>65.0</td>\n",
              "      <td>103.0</td>\n",
              "      <td>1</td>\n",
              "    </tr>\n",
              "    <tr>\n",
              "      <th>4</th>\n",
              "      <td>0</td>\n",
              "      <td>46</td>\n",
              "      <td>3.0</td>\n",
              "      <td>1</td>\n",
              "      <td>23.0</td>\n",
              "      <td>0.0</td>\n",
              "      <td>0</td>\n",
              "      <td>0</td>\n",
              "      <td>0</td>\n",
              "      <td>285.0</td>\n",
              "      <td>130.0</td>\n",
              "      <td>84.0</td>\n",
              "      <td>23.10</td>\n",
              "      <td>85.0</td>\n",
              "      <td>85.0</td>\n",
              "      <td>0</td>\n",
              "    </tr>\n",
              "  </tbody>\n",
              "</table>\n",
              "</div>"
            ],
            "text/plain": [
              "   male  age  education  currentSmoker  ...    BMI  heartRate  glucose  TenYearCHD\n",
              "0     1   39        4.0              0  ...  26.97       80.0     77.0           0\n",
              "1     0   46        2.0              0  ...  28.73       95.0     76.0           0\n",
              "2     1   48        1.0              1  ...  25.34       75.0     70.0           0\n",
              "3     0   61        3.0              1  ...  28.58       65.0    103.0           1\n",
              "4     0   46        3.0              1  ...  23.10       85.0     85.0           0\n",
              "\n",
              "[5 rows x 16 columns]"
            ]
          },
          "metadata": {
            "tags": []
          },
          "execution_count": 33
        }
      ]
    },
    {
      "cell_type": "markdown",
      "metadata": {
        "id": "q6--xRehpuwf"
      },
      "source": [
        "This dataset helps us predict the probability of coronary heart diease (CHD) in the next 10 years given the risk factors for each subject in the study. Our target variable is `TenYearCHD`.\n",
        "\n",
        "We'll start off by removing any rows containing missing data."
      ]
    },
    {
      "cell_type": "code",
      "metadata": {
        "id": "H7pOIvimpuwg"
      },
      "source": [
        "# answer below:\n",
        "X = heart.dropna()\n"
      ],
      "execution_count": 34,
      "outputs": []
    },
    {
      "cell_type": "markdown",
      "metadata": {
        "id": "3TYgJuyxpuwj"
      },
      "source": [
        "Then, we split the data into train and test with 20% of the data in the test subset."
      ]
    },
    {
      "cell_type": "code",
      "metadata": {
        "id": "MpeydIKspuwi"
      },
      "source": [
        "# answer below:\n",
        "from sklearn.model_selection import train_test_split\n",
        "\n",
        "y = X['TenYearCHD']\n",
        "X = X.drop(columns=['TenYearCHD'])\n",
        "\n",
        "SIZE=0.2\n",
        "X_train, X_test, y_train, y_test = train_test_split(X,y, test_size=SIZE)"
      ],
      "execution_count": 35,
      "outputs": []
    },
    {
      "cell_type": "markdown",
      "metadata": {
        "id": "a-3wmJJupuwh"
      },
      "source": [
        "We will then scale the data using the standard scaler. Do this in the cell below."
      ]
    },
    {
      "cell_type": "markdown",
      "metadata": {
        "id": "k0iL3Twepuwn"
      },
      "source": [
        "Generate a polynomial SVC model and a RBF SVC model. Compare the performance, and the runtime, for the two models."
      ]
    },
    {
      "cell_type": "code",
      "metadata": {
        "id": "DeYucn7Spuwk",
        "outputId": "948232ce-04c9-44da-a740-5b1d2877af24",
        "colab": {
          "base_uri": "https://localhost:8080/"
        }
      },
      "source": [
        "# answer below:\n",
        "from sklearn.pipeline import make_pipeline\n",
        "from sklearn.preprocessing import StandardScaler\n",
        "from sklearn.metrics import classification_report, confusion_matrix\n",
        "from sklearn.svm import SVC\n",
        "\n",
        "poly = make_pipeline(StandardScaler(), SVC(gamma='auto', kernel='poly'))\n",
        "poly.fit(X, y)\n",
        "\n",
        "print(classification_report(y_test, poly.predict(X_test)), '\\n')\n",
        "print(classification_report(y_train, poly.predict(X_train)))"
      ],
      "execution_count": 36,
      "outputs": [
        {
          "output_type": "stream",
          "text": [
            "              precision    recall  f1-score   support\n",
            "\n",
            "           0       0.85      1.00      0.92       612\n",
            "           1       1.00      0.11      0.20       120\n",
            "\n",
            "    accuracy                           0.85       732\n",
            "   macro avg       0.93      0.55      0.56       732\n",
            "weighted avg       0.88      0.85      0.80       732\n",
            " \n",
            "\n",
            "              precision    recall  f1-score   support\n",
            "\n",
            "           0       0.87      1.00      0.93      2487\n",
            "           1       0.99      0.15      0.26       437\n",
            "\n",
            "    accuracy                           0.87      2924\n",
            "   macro avg       0.93      0.58      0.60      2924\n",
            "weighted avg       0.89      0.87      0.83      2924\n",
            "\n"
          ],
          "name": "stdout"
        }
      ]
    },
    {
      "cell_type": "code",
      "metadata": {
        "id": "mRkYJIPvpuwn",
        "outputId": "ca4f723e-05be-49dd-8ab1-7228cdc16424",
        "colab": {
          "base_uri": "https://localhost:8080/"
        }
      },
      "source": [
        "# answer below:\n",
        "rbf = make_pipeline(StandardScaler(), SVC(gamma='auto', kernel='rbf'))\n",
        "rbf.fit(X, y)\n",
        "\n",
        "print(classification_report(y_test, rbf.predict(X_test)), '\\n')\n",
        "print(classification_report(y_train, rbf.predict(X_train)))"
      ],
      "execution_count": 37,
      "outputs": [
        {
          "output_type": "stream",
          "text": [
            "              precision    recall  f1-score   support\n",
            "\n",
            "           0       0.84      1.00      0.92       612\n",
            "           1       1.00      0.06      0.11       120\n",
            "\n",
            "    accuracy                           0.85       732\n",
            "   macro avg       0.92      0.53      0.51       732\n",
            "weighted avg       0.87      0.85      0.78       732\n",
            " \n",
            "\n",
            "              precision    recall  f1-score   support\n",
            "\n",
            "           0       0.86      1.00      0.93      2487\n",
            "           1       1.00      0.09      0.16       437\n",
            "\n",
            "    accuracy                           0.86      2924\n",
            "   macro avg       0.93      0.54      0.54      2924\n",
            "weighted avg       0.88      0.86      0.81      2924\n",
            "\n"
          ],
          "name": "stdout"
        }
      ]
    },
    {
      "cell_type": "code",
      "metadata": {
        "id": "UuUS619Pfzfg",
        "outputId": "3ffe4f05-51ba-4520-84ea-6352935bb4db",
        "colab": {
          "base_uri": "https://localhost:8080/"
        }
      },
      "source": [
        "print(\"POLY:\\n train: {} \\n test: {} \\n RBF:\\n train: {} \\n test: {}\".format( poly.score(X_train, y_train), poly.score(X_test, y_test), rbf.score(X_train, y_train), rbf.score(X_test, y_test)))"
      ],
      "execution_count": 38,
      "outputs": [
        {
          "output_type": "stream",
          "text": [
            "POLY:\n",
            " train: 0.8727770177838577 \n",
            " test: 0.8538251366120219 \n",
            " RBF:\n",
            " train: 0.8638850889192886 \n",
            " test: 0.8456284153005464\n"
          ],
          "name": "stdout"
        }
      ]
    },
    {
      "cell_type": "markdown",
      "metadata": {
        "id": "BapGqwHvpuwp"
      },
      "source": [
        "Which model overfits more? How would you improve the overfitting?\n",
        "\n",
        "Look at a classification report and confusion matrix. How does the class balance affect your results?"
      ]
    },
    {
      "cell_type": "markdown",
      "metadata": {
        "id": "Rbe-naodd28b"
      },
      "source": [
        "They both overfit pretty bigtime. Would adjusting my c parameter help with overfitting? How do I even get a total recall and precision that's greater than one? That's just odd. Classification report is above. "
      ]
    },
    {
      "cell_type": "code",
      "metadata": {
        "id": "4GJSWe6Ipuwp",
        "outputId": "3f6e54c4-b9d3-4fae-a3e5-01838afaaaf1",
        "colab": {
          "base_uri": "https://localhost:8080/"
        }
      },
      "source": [
        "# answer below:\n",
        "print(\"Polynomial Confusion\")\n",
        "print(confusion_matrix(y_train, poly.predict(X_train)))\n",
        "print(confusion_matrix(y_test, poly.predict(X_test) ))\n",
        "\n",
        "\n",
        "print(\"RBF Confusion\")\n",
        "print(confusion_matrix(y_train, rbf.predict(X_train)))\n",
        "print(confusion_matrix(y_test, rbf.predict(X_test) ))\n",
        "\n",
        "\n"
      ],
      "execution_count": 41,
      "outputs": [
        {
          "output_type": "stream",
          "text": [
            "Polynomial Confusion\n",
            "[[2486    1]\n",
            " [ 371   66]]\n",
            "[[612   0]\n",
            " [107  13]]\n",
            "RBF Confusion\n",
            "[[2487    0]\n",
            " [ 398   39]]\n",
            "[[612   0]\n",
            " [113   7]]\n"
          ],
          "name": "stdout"
        }
      ]
    }
  ]
}