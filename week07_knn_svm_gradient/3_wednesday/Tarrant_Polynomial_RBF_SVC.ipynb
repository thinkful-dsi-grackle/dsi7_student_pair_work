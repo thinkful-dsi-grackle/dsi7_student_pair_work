{
  "nbformat": 4,
  "nbformat_minor": 0,
  "metadata": {
    "kernelspec": {
      "display_name": "Python 3",
      "language": "python",
      "name": "python3"
    },
    "language_info": {
      "codemirror_mode": {
        "name": "ipython",
        "version": 3
      },
      "file_extension": ".py",
      "mimetype": "text/x-python",
      "name": "python",
      "nbconvert_exporter": "python",
      "pygments_lexer": "ipython3",
      "version": "3.7.0"
    },
    "colab": {
      "name": "Tarrant_Polynomial_RBF_SVC.ipynb",
      "provenance": [],
      "collapsed_sections": []
    }
  },
  "cells": [
    {
      "cell_type": "markdown",
      "metadata": {
        "id": "cHTqUTbNpuwZ"
      },
      "source": [
        "## Day 33 Lecture 2 Assignment\n",
        "\n",
        "In this assignment, we will learn about non linear SVM models. We will use the heart disease dataset loaded below and analyze the model generated for this dataset."
      ]
    },
    {
      "cell_type": "code",
      "metadata": {
        "id": "kQBDnjBLpuwZ"
      },
      "source": [
        "%matplotlib inline\n",
        "\n",
        "import matplotlib.pyplot as plt\n",
        "import numpy as np\n",
        "import pandas as pd"
      ],
      "execution_count": 1,
      "outputs": []
    },
    {
      "cell_type": "code",
      "metadata": {
        "id": "Z1EskWSrpuwb"
      },
      "source": [
        "heart = pd.read_csv('https://tf-assets-prod.s3.amazonaws.com/tf-curric/data-science/framingham_heart_disease.csv')"
      ],
      "execution_count": 2,
      "outputs": []
    },
    {
      "cell_type": "code",
      "metadata": {
        "id": "zwYPk78tBrBy",
        "outputId": "cb4078b9-8fde-49dc-975d-db8506a59cbe",
        "colab": {
          "base_uri": "https://localhost:8080/",
          "height": 34
        }
      },
      "source": [
        "heart.shape"
      ],
      "execution_count": 3,
      "outputs": [
        {
          "output_type": "execute_result",
          "data": {
            "text/plain": [
              "(4238, 16)"
            ]
          },
          "metadata": {
            "tags": []
          },
          "execution_count": 3
        }
      ]
    },
    {
      "cell_type": "code",
      "metadata": {
        "id": "Tw1yj9Ehpuwd",
        "outputId": "2ec39515-b148-4490-da52-07a971a62246",
        "colab": {
          "base_uri": "https://localhost:8080/",
          "height": 224
        }
      },
      "source": [
        "heart.head()"
      ],
      "execution_count": 4,
      "outputs": [
        {
          "output_type": "execute_result",
          "data": {
            "text/html": [
              "<div>\n",
              "<style scoped>\n",
              "    .dataframe tbody tr th:only-of-type {\n",
              "        vertical-align: middle;\n",
              "    }\n",
              "\n",
              "    .dataframe tbody tr th {\n",
              "        vertical-align: top;\n",
              "    }\n",
              "\n",
              "    .dataframe thead th {\n",
              "        text-align: right;\n",
              "    }\n",
              "</style>\n",
              "<table border=\"1\" class=\"dataframe\">\n",
              "  <thead>\n",
              "    <tr style=\"text-align: right;\">\n",
              "      <th></th>\n",
              "      <th>male</th>\n",
              "      <th>age</th>\n",
              "      <th>education</th>\n",
              "      <th>currentSmoker</th>\n",
              "      <th>cigsPerDay</th>\n",
              "      <th>BPMeds</th>\n",
              "      <th>prevalentStroke</th>\n",
              "      <th>prevalentHyp</th>\n",
              "      <th>diabetes</th>\n",
              "      <th>totChol</th>\n",
              "      <th>sysBP</th>\n",
              "      <th>diaBP</th>\n",
              "      <th>BMI</th>\n",
              "      <th>heartRate</th>\n",
              "      <th>glucose</th>\n",
              "      <th>TenYearCHD</th>\n",
              "    </tr>\n",
              "  </thead>\n",
              "  <tbody>\n",
              "    <tr>\n",
              "      <th>0</th>\n",
              "      <td>1</td>\n",
              "      <td>39</td>\n",
              "      <td>4.0</td>\n",
              "      <td>0</td>\n",
              "      <td>0.0</td>\n",
              "      <td>0.0</td>\n",
              "      <td>0</td>\n",
              "      <td>0</td>\n",
              "      <td>0</td>\n",
              "      <td>195.0</td>\n",
              "      <td>106.0</td>\n",
              "      <td>70.0</td>\n",
              "      <td>26.97</td>\n",
              "      <td>80.0</td>\n",
              "      <td>77.0</td>\n",
              "      <td>0</td>\n",
              "    </tr>\n",
              "    <tr>\n",
              "      <th>1</th>\n",
              "      <td>0</td>\n",
              "      <td>46</td>\n",
              "      <td>2.0</td>\n",
              "      <td>0</td>\n",
              "      <td>0.0</td>\n",
              "      <td>0.0</td>\n",
              "      <td>0</td>\n",
              "      <td>0</td>\n",
              "      <td>0</td>\n",
              "      <td>250.0</td>\n",
              "      <td>121.0</td>\n",
              "      <td>81.0</td>\n",
              "      <td>28.73</td>\n",
              "      <td>95.0</td>\n",
              "      <td>76.0</td>\n",
              "      <td>0</td>\n",
              "    </tr>\n",
              "    <tr>\n",
              "      <th>2</th>\n",
              "      <td>1</td>\n",
              "      <td>48</td>\n",
              "      <td>1.0</td>\n",
              "      <td>1</td>\n",
              "      <td>20.0</td>\n",
              "      <td>0.0</td>\n",
              "      <td>0</td>\n",
              "      <td>0</td>\n",
              "      <td>0</td>\n",
              "      <td>245.0</td>\n",
              "      <td>127.5</td>\n",
              "      <td>80.0</td>\n",
              "      <td>25.34</td>\n",
              "      <td>75.0</td>\n",
              "      <td>70.0</td>\n",
              "      <td>0</td>\n",
              "    </tr>\n",
              "    <tr>\n",
              "      <th>3</th>\n",
              "      <td>0</td>\n",
              "      <td>61</td>\n",
              "      <td>3.0</td>\n",
              "      <td>1</td>\n",
              "      <td>30.0</td>\n",
              "      <td>0.0</td>\n",
              "      <td>0</td>\n",
              "      <td>1</td>\n",
              "      <td>0</td>\n",
              "      <td>225.0</td>\n",
              "      <td>150.0</td>\n",
              "      <td>95.0</td>\n",
              "      <td>28.58</td>\n",
              "      <td>65.0</td>\n",
              "      <td>103.0</td>\n",
              "      <td>1</td>\n",
              "    </tr>\n",
              "    <tr>\n",
              "      <th>4</th>\n",
              "      <td>0</td>\n",
              "      <td>46</td>\n",
              "      <td>3.0</td>\n",
              "      <td>1</td>\n",
              "      <td>23.0</td>\n",
              "      <td>0.0</td>\n",
              "      <td>0</td>\n",
              "      <td>0</td>\n",
              "      <td>0</td>\n",
              "      <td>285.0</td>\n",
              "      <td>130.0</td>\n",
              "      <td>84.0</td>\n",
              "      <td>23.10</td>\n",
              "      <td>85.0</td>\n",
              "      <td>85.0</td>\n",
              "      <td>0</td>\n",
              "    </tr>\n",
              "  </tbody>\n",
              "</table>\n",
              "</div>"
            ],
            "text/plain": [
              "   male  age  education  currentSmoker  ...    BMI  heartRate  glucose  TenYearCHD\n",
              "0     1   39        4.0              0  ...  26.97       80.0     77.0           0\n",
              "1     0   46        2.0              0  ...  28.73       95.0     76.0           0\n",
              "2     1   48        1.0              1  ...  25.34       75.0     70.0           0\n",
              "3     0   61        3.0              1  ...  28.58       65.0    103.0           1\n",
              "4     0   46        3.0              1  ...  23.10       85.0     85.0           0\n",
              "\n",
              "[5 rows x 16 columns]"
            ]
          },
          "metadata": {
            "tags": []
          },
          "execution_count": 4
        }
      ]
    },
    {
      "cell_type": "markdown",
      "metadata": {
        "id": "q6--xRehpuwf"
      },
      "source": [
        "This dataset helps us predict the probability of coronary heart diease (CHD) in the next 10 years given the risk factors for each subject in the study. Our target variable is `TenYearCHD`.\n",
        "\n",
        "We'll start off by removing any rows containing missing data."
      ]
    },
    {
      "cell_type": "code",
      "metadata": {
        "id": "H7pOIvimpuwg",
        "outputId": "98f1d993-ad31-4c8b-f3a6-6b63464c5698",
        "colab": {
          "base_uri": "https://localhost:8080/",
          "height": 306
        }
      },
      "source": [
        "# answer below:\n",
        "heart.isnull().sum()\n"
      ],
      "execution_count": 5,
      "outputs": [
        {
          "output_type": "execute_result",
          "data": {
            "text/plain": [
              "male                 0\n",
              "age                  0\n",
              "education          105\n",
              "currentSmoker        0\n",
              "cigsPerDay          29\n",
              "BPMeds              53\n",
              "prevalentStroke      0\n",
              "prevalentHyp         0\n",
              "diabetes             0\n",
              "totChol             50\n",
              "sysBP                0\n",
              "diaBP                0\n",
              "BMI                 19\n",
              "heartRate            1\n",
              "glucose            388\n",
              "TenYearCHD           0\n",
              "dtype: int64"
            ]
          },
          "metadata": {
            "tags": []
          },
          "execution_count": 5
        }
      ]
    },
    {
      "cell_type": "code",
      "metadata": {
        "id": "KWFX76u5_Sdq",
        "outputId": "370d04a7-dcc6-4a12-a6d6-b2289920ae66",
        "colab": {
          "base_uri": "https://localhost:8080/",
          "height": 306
        }
      },
      "source": [
        "df = heart.dropna()\n",
        "df.isnull().sum()"
      ],
      "execution_count": 6,
      "outputs": [
        {
          "output_type": "execute_result",
          "data": {
            "text/plain": [
              "male               0\n",
              "age                0\n",
              "education          0\n",
              "currentSmoker      0\n",
              "cigsPerDay         0\n",
              "BPMeds             0\n",
              "prevalentStroke    0\n",
              "prevalentHyp       0\n",
              "diabetes           0\n",
              "totChol            0\n",
              "sysBP              0\n",
              "diaBP              0\n",
              "BMI                0\n",
              "heartRate          0\n",
              "glucose            0\n",
              "TenYearCHD         0\n",
              "dtype: int64"
            ]
          },
          "metadata": {
            "tags": []
          },
          "execution_count": 6
        }
      ]
    },
    {
      "cell_type": "code",
      "metadata": {
        "id": "D_FbewgsA3Dp",
        "outputId": "043495a4-d5df-4a61-c0cd-c3a0d4ca8f9c",
        "colab": {
          "base_uri": "https://localhost:8080/",
          "height": 68
        }
      },
      "source": [
        "df.TenYearCHD.value_counts()"
      ],
      "execution_count": 7,
      "outputs": [
        {
          "output_type": "execute_result",
          "data": {
            "text/plain": [
              "0    3099\n",
              "1     557\n",
              "Name: TenYearCHD, dtype: int64"
            ]
          },
          "metadata": {
            "tags": []
          },
          "execution_count": 7
        }
      ]
    },
    {
      "cell_type": "markdown",
      "metadata": {
        "id": "3TYgJuyxpuwj"
      },
      "source": [
        "Then, we split the data into train and test with 20% of the data in the test subset."
      ]
    },
    {
      "cell_type": "code",
      "metadata": {
        "id": "MpeydIKspuwi"
      },
      "source": [
        "# answer below:\n",
        "from sklearn.model_selection import train_test_split\n",
        "\n",
        "X = df.drop('TenYearCHD', axis=1)\n",
        "y = df['TenYearCHD']\n",
        "\n",
        "X_train, X_test, y_train, y_test = train_test_split(X, y, test_size=0.2)"
      ],
      "execution_count": 8,
      "outputs": []
    },
    {
      "cell_type": "markdown",
      "metadata": {
        "id": "a-3wmJJupuwh"
      },
      "source": [
        "We will then scale the data using the standard scaler. Do this in the cell below."
      ]
    },
    {
      "cell_type": "code",
      "metadata": {
        "id": "DeYucn7Spuwk"
      },
      "source": [
        "# answer below:\n",
        "from sklearn.preprocessing import StandardScaler\n",
        "\n",
        "scale = StandardScaler()\n",
        "\n",
        "X_train_scaled = scale.fit_transform(X_train)\n",
        "X_test_scaled = scale.transform(X_test)\n"
      ],
      "execution_count": 9,
      "outputs": []
    },
    {
      "cell_type": "markdown",
      "metadata": {
        "id": "k0iL3Twepuwn"
      },
      "source": [
        "Generate a polynomial SVC model and a RBF SVC model. Compare the performance, and the runtime, for the two models."
      ]
    },
    {
      "cell_type": "code",
      "metadata": {
        "id": "_ero77DQEZln",
        "outputId": "640129e1-071c-4536-bf9f-5d944d2413ed",
        "colab": {
          "base_uri": "https://localhost:8080/",
          "height": 68
        }
      },
      "source": [
        "# answer below:\n",
        "from sklearn.svm import SVC\n",
        "from datetime import datetime\n",
        "\n",
        "start_time = datetime.now()\n",
        "svc_poly = SVC(kernel='poly', C=100)\n",
        "\n",
        "svc_poly.fit(X_train_scaled, y_train)\n",
        "end_time = datetime.now()\n",
        "\n",
        "print(\"RBF Train score: \",svc_poly.score(X_train_scaled, y_train))\n",
        "print(\"RBF Test score: \",svc_poly.score(X_test_scaled, y_test))\n",
        "print('Duration: {}'.format(end_time - start_time))"
      ],
      "execution_count": 10,
      "outputs": [
        {
          "output_type": "stream",
          "text": [
            "RBF Train score:  0.8956908344733242\n",
            "RBF Test score:  0.825136612021858\n",
            "Duration: 0:00:05.947113\n"
          ],
          "name": "stdout"
        }
      ]
    },
    {
      "cell_type": "code",
      "metadata": {
        "id": "hElxSNVmEeWd",
        "outputId": "2efc98f0-bc8e-47a6-b4fd-13111a7363ef",
        "colab": {
          "base_uri": "https://localhost:8080/",
          "height": 68
        }
      },
      "source": [
        "start_time = datetime.now()\n",
        "svc_rbf = SVC(kernel='rbf', C=100)\n",
        "\n",
        "svc_rbf.fit(X_train_scaled, y_train)\n",
        "end_time = datetime.now()\n",
        "\n",
        "print(\"RBF Train score: \",svc_rbf.score(X_train_scaled, y_train))\n",
        "print(\"RBF Test score: \",svc_rbf.score(X_test_scaled, y_test))\n",
        "print('Duration: {}'.format(end_time - start_time))"
      ],
      "execution_count": 11,
      "outputs": [
        {
          "output_type": "stream",
          "text": [
            "RBF Train score:  0.9459644322845417\n",
            "RBF Test score:  0.8128415300546448\n",
            "Duration: 0:00:00.928586\n"
          ],
          "name": "stdout"
        }
      ]
    },
    {
      "cell_type": "markdown",
      "metadata": {
        "id": "BapGqwHvpuwp"
      },
      "source": [
        "Which model overfits more? How would you improve the overfitting?"
      ]
    },
    {
      "cell_type": "markdown",
      "metadata": {
        "id": "mpr_6lBUEhzE"
      },
      "source": [
        "When C=100 the RBF model seems to overfits a lot more, and is less accurate on the test set. But the polynomial model takes almost 5 times as long to run. So it seems like there is a trade off in model runtime and model accuracy at higher levels of C. \n"
      ]
    },
    {
      "cell_type": "code",
      "metadata": {
        "id": "mRkYJIPvpuwn",
        "outputId": "855dc219-627b-43a8-e364-982ed70de65c",
        "colab": {
          "base_uri": "https://localhost:8080/",
          "height": 68
        }
      },
      "source": [
        "start_time = datetime.now()\n",
        "svc_poly = SVC(kernel='poly', C=10)\n",
        "\n",
        "svc_poly.fit(X_train_scaled, y_train)\n",
        "end_time = datetime.now()\n",
        "\n",
        "print(\"RBF Train score: \",svc_poly.score(X_train_scaled, y_train))\n",
        "print(\"RBF Test score: \",svc_poly.score(X_test_scaled, y_test))\n",
        "print('Duration: {}'.format(end_time - start_time))"
      ],
      "execution_count": 12,
      "outputs": [
        {
          "output_type": "stream",
          "text": [
            "RBF Train score:  0.8874829001367989\n",
            "RBF Test score:  0.8278688524590164\n",
            "Duration: 0:00:00.869483\n"
          ],
          "name": "stdout"
        }
      ]
    },
    {
      "cell_type": "code",
      "metadata": {
        "id": "PD_nnRb4Bn7D",
        "outputId": "76204b11-8c45-48a1-93a3-ec669e778053",
        "colab": {
          "base_uri": "https://localhost:8080/",
          "height": 68
        }
      },
      "source": [
        "start_time = datetime.now()\n",
        "svc_rbf = SVC(kernel='rbf', C=10)\n",
        "\n",
        "svc_rbf.fit(X_train_scaled, y_train)\n",
        "end_time = datetime.now()\n",
        "\n",
        "print(\"RBF Train score: \",svc_rbf.score(X_train_scaled, y_train))\n",
        "print(\"RBF Test score: \",svc_rbf.score(X_test_scaled, y_test))\n",
        "print('Duration: {}'.format(end_time - start_time))"
      ],
      "execution_count": 13,
      "outputs": [
        {
          "output_type": "stream",
          "text": [
            "RBF Train score:  0.8950068399452804\n",
            "RBF Test score:  0.8306010928961749\n",
            "Duration: 0:00:00.419839\n"
          ],
          "name": "stdout"
        }
      ]
    },
    {
      "cell_type": "markdown",
      "metadata": {
        "id": "d7ykfy3p_8jE"
      },
      "source": [
        "When C=10 the RBF model seems to overfit a bit more, and is also slightly more accurate on the test set. The polynomial model seems slighlty less\n",
        " accurate on test data and its takes longer to run the model. "
      ]
    },
    {
      "cell_type": "code",
      "metadata": {
        "id": "BbRFpKHXTzne",
        "outputId": "17574611-ba80-4456-a17d-aaa46d9374db",
        "colab": {
          "base_uri": "https://localhost:8080/",
          "height": 68
        }
      },
      "source": [
        "start_time = datetime.now()\n",
        "svc_poly = SVC(kernel='poly', C=1)\n",
        "\n",
        "svc_poly.fit(X_train_scaled, y_train)\n",
        "end_time = datetime.now()\n",
        "\n",
        "print(\"RBF Train score: \",svc_poly.score(X_train_scaled, y_train))\n",
        "print(\"RBF Test score: \",svc_poly.score(X_test_scaled, y_test))\n",
        "print('Duration: {}'.format(end_time - start_time))"
      ],
      "execution_count": 14,
      "outputs": [
        {
          "output_type": "stream",
          "text": [
            "RBF Train score:  0.8741450068399452\n",
            "RBF Test score:  0.8319672131147541\n",
            "Duration: 0:00:00.252677\n"
          ],
          "name": "stdout"
        }
      ]
    },
    {
      "cell_type": "code",
      "metadata": {
        "id": "8ruwFHN-TzDD",
        "outputId": "13ae446c-3e62-4c8d-c9fa-774a631a56bb",
        "colab": {
          "base_uri": "https://localhost:8080/",
          "height": 68
        }
      },
      "source": [
        "start_time = datetime.now()\n",
        "svc_rbf = SVC(kernel='rbf', C=1)\n",
        "\n",
        "svc_rbf.fit(X_train_scaled, y_train)\n",
        "end_time = datetime.now()\n",
        "\n",
        "print(\"RBF Train score: \",svc_rbf.score(X_train_scaled, y_train))\n",
        "print(\"RBF Test score: \",svc_rbf.score(X_test_scaled, y_test))\n",
        "print('Duration: {}'.format(end_time - start_time))"
      ],
      "execution_count": 15,
      "outputs": [
        {
          "output_type": "stream",
          "text": [
            "RBF Train score:  0.8635430916552668\n",
            "RBF Test score:  0.825136612021858\n",
            "Duration: 0:00:00.326579\n"
          ],
          "name": "stdout"
        }
      ]
    },
    {
      "cell_type": "markdown",
      "metadata": {
        "id": "vEbdSgOecMaY"
      },
      "source": [
        "When C=1 the RBF model is slightly less accurate on test data, but overfits less. The polynomial model seems to overfit more, but it is also slightly more accurate on the test set."
      ]
    },
    {
      "cell_type": "markdown",
      "metadata": {
        "id": "or-QK2SW_4lV"
      },
      "source": [
        "Look at a classification report and confusion matrix. How does the class balance affect your results?"
      ]
    },
    {
      "cell_type": "code",
      "metadata": {
        "id": "4GJSWe6Ipuwp"
      },
      "source": [
        "# answer below:\n",
        "def plot_confusion_matrix(cm,\n",
        "                          target_names,\n",
        "                          title='Confusion matrix',\n",
        "                          cmap=None,\n",
        "                          normalize=True):\n",
        "    \"\"\"\n",
        "    Given a scikit-learn confusion matrix (CM), make a nice plot.\n",
        "\n",
        "    Arguments\n",
        "    ---------\n",
        "    cm:           Confusion matrix from sklearn.metrics.confusion_matrix\n",
        "\n",
        "    target_names: Given classification classes, such as [0, 1, 2]\n",
        "                  The class names, for example, ['high', 'medium', 'low']\n",
        "\n",
        "    title:        The text to display at the top of the matrix\n",
        "\n",
        "    cmap:         The gradient of the values displayed from matplotlib.pyplot.cm\n",
        "                  See http://matplotlib.org/examples/color/colormaps_reference.html\n",
        "                  `plt.get_cmap('jet')` or `plt.cm.Blues`\n",
        "\n",
        "    normalize:    If `False`, plot the raw numbers\n",
        "                  If `True`, plot the proportions\n",
        "\n",
        "    Usage\n",
        "    -----\n",
        "    plot_confusion_matrix(cm           = cm,                  # Confusion matrix created by\n",
        "                                                              # `sklearn.metrics.confusion_matrix`\n",
        "                          normalize    = True,                # Show proportions\n",
        "                          target_names = y_labels_vals,       # List of names of the classes\n",
        "                          title        = best_estimator_name) # Title of graph\n",
        "\n",
        "    Citation\n",
        "    ---------\n",
        "    http://scikit-learn.org/stable/auto_examples/model_selection/plot_confusion_matrix.html\n",
        "\n",
        "    \"\"\"\n",
        "    import matplotlib.pyplot as plt\n",
        "    import numpy as np\n",
        "    import itertools\n",
        "\n",
        "    accuracy = np.trace(cm) / float(np.sum(cm))\n",
        "    misclass = 1 - accuracy\n",
        "\n",
        "    if cmap is None:\n",
        "        cmap = plt.get_cmap('Blues')\n",
        "\n",
        "    plt.figure(figsize=(8, 6))\n",
        "    plt.imshow(cm, interpolation='nearest', cmap=cmap)\n",
        "    plt.title(title)\n",
        "    plt.colorbar()\n",
        "\n",
        "    if target_names is not None:\n",
        "        tick_marks = np.arange(len(target_names))\n",
        "        plt.xticks(tick_marks, target_names, rotation=45)\n",
        "        plt.yticks(tick_marks, target_names)\n",
        "\n",
        "    if normalize:\n",
        "        cm = cm.astype('float') / cm.sum(axis=1)[:, np.newaxis]\n",
        "\n",
        "\n",
        "    thresh = cm.max() / 1.5 if normalize else cm.max() / 2\n",
        "    for i, j in itertools.product(range(cm.shape[0]), range(cm.shape[1])):\n",
        "        if normalize:\n",
        "            plt.text(j, i, \"{:0.4f}\".format(cm[i, j]),\n",
        "                     horizontalalignment=\"center\",\n",
        "                     color=\"white\" if cm[i, j] > thresh else \"black\")\n",
        "        else:\n",
        "            plt.text(j, i, \"{:,}\".format(cm[i, j]),\n",
        "                     horizontalalignment=\"center\",\n",
        "                     color=\"white\" if cm[i, j] > thresh else \"black\")\n",
        "\n",
        "\n",
        "    plt.tight_layout()\n",
        "    plt.ylabel('Predicted label')\n",
        "    plt.xlabel('True label\\naccuracy={:0.4f}; misclass={:0.4f}'.format(accuracy, misclass))\n",
        "    plt.show()\n"
      ],
      "execution_count": 16,
      "outputs": []
    },
    {
      "cell_type": "code",
      "metadata": {
        "id": "vH7jjSxLFzk9",
        "outputId": "44bdc125-59da-4a3d-fe6f-e6a126d55fe5",
        "colab": {
          "base_uri": "https://localhost:8080/",
          "height": 467
        }
      },
      "source": [
        "from sklearn.metrics import  classification_report, confusion_matrix\n",
        "y_test_pred = svc_poly.predict(X_test_scaled)\n",
        "\n",
        "confusion = confusion_matrix(y_test, y_test_pred)\n",
        "plot_confusion_matrix(cm=confusion, target_names=['No CHD','CHD'],title = 'Most Accurate Polynomial Model Heart Disease',normalize=False)"
      ],
      "execution_count": 25,
      "outputs": [
        {
          "output_type": "display_data",
          "data": {
            "image/png": "[encoded data removed]",
            "text/plain": [
              "<Figure size 576x432 with 2 Axes>"
            ]
          },
          "metadata": {
            "tags": [],
            "needs_background": "light"
          }
        }
      ]
    },
    {
      "cell_type": "code",
      "metadata": {
        "id": "TlbNUoGwQ5tx",
        "outputId": "310b1405-dedd-42ee-cd12-080d4d30e7cd",
        "colab": {
          "base_uri": "https://localhost:8080/",
          "height": 170
        }
      },
      "source": [
        "print(classification_report(y_test, y_test_pred))"
      ],
      "execution_count": 26,
      "outputs": [
        {
          "output_type": "stream",
          "text": [
            "              precision    recall  f1-score   support\n",
            "\n",
            "           0       0.84      0.99      0.91       604\n",
            "           1       0.62      0.10      0.17       128\n",
            "\n",
            "    accuracy                           0.83       732\n",
            "   macro avg       0.73      0.54      0.54       732\n",
            "weighted avg       0.80      0.83      0.78       732\n",
            "\n"
          ],
          "name": "stdout"
        }
      ]
    },
    {
      "cell_type": "code",
      "metadata": {
        "id": "ptqCMJdzgINu",
        "outputId": "5a582630-8be3-4a10-84f8-a2af1adabfe3",
        "colab": {
          "base_uri": "https://localhost:8080/",
          "height": 467
        }
      },
      "source": [
        "y_test_pred = svc_rbf.predict(X_test_scaled)\n",
        "\n",
        "confusion = confusion_matrix(y_test, y_test_pred)\n",
        "plot_confusion_matrix(cm=confusion, target_names=['No CHD','CHD'],title = 'Most Accurate RBF Model Heart Disease',normalize=False)"
      ],
      "execution_count": 27,
      "outputs": [
        {
          "output_type": "display_data",
          "data": {
            "image/png": "[encoded data removed]",
            "text/plain": [
              "<Figure size 576x432 with 2 Axes>"
            ]
          },
          "metadata": {
            "tags": [],
            "needs_background": "light"
          }
        }
      ]
    },
    {
      "cell_type": "code",
      "metadata": {
        "id": "FxOCRwmAgO38",
        "outputId": "a8565dfa-05c4-4433-a51b-69ef0afaae72",
        "colab": {
          "base_uri": "https://localhost:8080/",
          "height": 170
        }
      },
      "source": [
        "print(classification_report(y_test, y_test_pred))"
      ],
      "execution_count": 28,
      "outputs": [
        {
          "output_type": "stream",
          "text": [
            "              precision    recall  f1-score   support\n",
            "\n",
            "           0       0.83      1.00      0.90       604\n",
            "           1       0.50      0.01      0.02       128\n",
            "\n",
            "    accuracy                           0.83       732\n",
            "   macro avg       0.66      0.50      0.46       732\n",
            "weighted avg       0.77      0.83      0.75       732\n",
            "\n"
          ],
          "name": "stdout"
        }
      ]
    },
    {
      "cell_type": "markdown",
      "metadata": {
        "id": "WCRaMWP5f74s"
      },
      "source": [
        "Class imbalance is skewing recall in both models to the dominate class. We see 99-100% recall in the dominant class (No Coronary Heart Disease). Recall is 10% and 1% in both modes for the minority class (Coronary Heart Disease). Precision for CHD was a lot better in the polynomial model (0.62 vs 0.50), but that is expected because it was the most accurately scored model. Both models made very few predictions in the minority class. In fact the RBG model only made 2 predictions. "
      ]
    }
  ]
}