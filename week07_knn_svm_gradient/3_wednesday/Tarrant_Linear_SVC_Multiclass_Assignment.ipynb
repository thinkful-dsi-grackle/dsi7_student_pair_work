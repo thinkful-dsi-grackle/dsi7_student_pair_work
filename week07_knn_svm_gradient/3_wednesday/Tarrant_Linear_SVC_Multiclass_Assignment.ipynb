{
  "nbformat": 4,
  "nbformat_minor": 0,
  "metadata": {
    "colab": {
      "name": "Tarrant_Linear_SVC_Multiclass_Assignment.ipynb",
      "provenance": [],
      "collapsed_sections": []
    },
    "kernelspec": {
      "display_name": "Python 3",
      "language": "python",
      "name": "python3"
    },
    "language_info": {
      "codemirror_mode": {
        "name": "ipython",
        "version": 3
      },
      "file_extension": ".py",
      "mimetype": "text/x-python",
      "name": "python",
      "nbconvert_exporter": "python",
      "pygments_lexer": "ipython3",
      "version": "3.7.6"
    }
  },
  "cells": [
    {
      "cell_type": "markdown",
      "metadata": {
        "id": "N-dUAbfgpuRb"
      },
      "source": [
        "# Linear SVC Assignment"
      ]
    },
    {
      "cell_type": "code",
      "metadata": {
        "id": "frNvugKHpuRd"
      },
      "source": [
        "import numpy as np\n",
        "import pandas as pd\n",
        "\n",
        "from sklearn.svm import SVC\n",
        "from sklearn.model_selection import train_test_split\n",
        "from sklearn.metrics import classification_report, confusion_matrix"
      ],
      "execution_count": 1,
      "outputs": []
    },
    {
      "cell_type": "markdown",
      "metadata": {
        "id": "GePJHOhaPuNE"
      },
      "source": [
        "### Import the admissions data set (admissions.csv)."
      ]
    },
    {
      "cell_type": "code",
      "metadata": {
        "id": "B_1e4lobpuRf",
        "outputId": "ae2d4a07-db6f-40c9-8166-2d0ac591ac88",
        "colab": {
          "base_uri": "https://localhost:8080/",
          "height": 204
        }
      },
      "source": [
        "data = pd.read_csv('https://tf-assets-prod.s3.amazonaws.com/tf-curric/data-science/admissions.csv')\n",
        "data.head()"
      ],
      "execution_count": 2,
      "outputs": [
        {
          "output_type": "execute_result",
          "data": {
            "text/html": [
              "<div>\n",
              "<style scoped>\n",
              "    .dataframe tbody tr th:only-of-type {\n",
              "        vertical-align: middle;\n",
              "    }\n",
              "\n",
              "    .dataframe tbody tr th {\n",
              "        vertical-align: top;\n",
              "    }\n",
              "\n",
              "    .dataframe thead th {\n",
              "        text-align: right;\n",
              "    }\n",
              "</style>\n",
              "<table border=\"1\" class=\"dataframe\">\n",
              "  <thead>\n",
              "    <tr style=\"text-align: right;\">\n",
              "      <th></th>\n",
              "      <th>GRE</th>\n",
              "      <th>TOEFL</th>\n",
              "      <th>SchoolRank</th>\n",
              "      <th>SOP</th>\n",
              "      <th>LOR</th>\n",
              "      <th>GPA</th>\n",
              "      <th>Research</th>\n",
              "      <th>Admitted</th>\n",
              "    </tr>\n",
              "  </thead>\n",
              "  <tbody>\n",
              "    <tr>\n",
              "      <th>0</th>\n",
              "      <td>337</td>\n",
              "      <td>118</td>\n",
              "      <td>4</td>\n",
              "      <td>4.5</td>\n",
              "      <td>4.5</td>\n",
              "      <td>9.65</td>\n",
              "      <td>1</td>\n",
              "      <td>1</td>\n",
              "    </tr>\n",
              "    <tr>\n",
              "      <th>1</th>\n",
              "      <td>324</td>\n",
              "      <td>107</td>\n",
              "      <td>4</td>\n",
              "      <td>4.0</td>\n",
              "      <td>4.5</td>\n",
              "      <td>8.87</td>\n",
              "      <td>1</td>\n",
              "      <td>1</td>\n",
              "    </tr>\n",
              "    <tr>\n",
              "      <th>2</th>\n",
              "      <td>316</td>\n",
              "      <td>104</td>\n",
              "      <td>3</td>\n",
              "      <td>3.0</td>\n",
              "      <td>3.5</td>\n",
              "      <td>8.00</td>\n",
              "      <td>1</td>\n",
              "      <td>1</td>\n",
              "    </tr>\n",
              "    <tr>\n",
              "      <th>3</th>\n",
              "      <td>322</td>\n",
              "      <td>110</td>\n",
              "      <td>3</td>\n",
              "      <td>3.5</td>\n",
              "      <td>2.5</td>\n",
              "      <td>8.67</td>\n",
              "      <td>1</td>\n",
              "      <td>1</td>\n",
              "    </tr>\n",
              "    <tr>\n",
              "      <th>4</th>\n",
              "      <td>314</td>\n",
              "      <td>103</td>\n",
              "      <td>2</td>\n",
              "      <td>2.0</td>\n",
              "      <td>3.0</td>\n",
              "      <td>8.21</td>\n",
              "      <td>0</td>\n",
              "      <td>0</td>\n",
              "    </tr>\n",
              "  </tbody>\n",
              "</table>\n",
              "</div>"
            ],
            "text/plain": [
              "   GRE  TOEFL  SchoolRank  SOP  LOR   GPA  Research  Admitted\n",
              "0  337    118           4  4.5  4.5  9.65         1         1\n",
              "1  324    107           4  4.0  4.5  8.87         1         1\n",
              "2  316    104           3  3.0  3.5  8.00         1         1\n",
              "3  322    110           3  3.5  2.5  8.67         1         1\n",
              "4  314    103           2  2.0  3.0  8.21         0         0"
            ]
          },
          "metadata": {
            "tags": []
          },
          "execution_count": 2
        }
      ]
    },
    {
      "cell_type": "markdown",
      "metadata": {
        "id": "PqbIpTOyPuNM"
      },
      "source": [
        "### Split the data into training and test sets, with the test set comprising 30% of the data.  Use `'Admitted'` as the target."
      ]
    },
    {
      "cell_type": "code",
      "metadata": {
        "id": "uFiTXMGrPuNM"
      },
      "source": [
        "from sklearn.model_selection import train_test_split\n",
        "\n",
        "X = data.drop('Admitted', axis=1)\n",
        "y = data['Admitted']\n",
        "\n",
        "X_train, X_test, y_train, y_test = train_test_split(X, y, test_size=0.3)"
      ],
      "execution_count": 3,
      "outputs": []
    },
    {
      "cell_type": "markdown",
      "metadata": {
        "id": "P_h8WYktpuRj"
      },
      "source": [
        "### Generate an SVC model with a linear kernel. Set the regularization parameter (C) = 10. Check the score for both train and test sets. "
      ]
    },
    {
      "cell_type": "code",
      "metadata": {
        "id": "s7ZPqXMGpuRj",
        "outputId": "52a82c84-7a3f-4b67-acb4-24d94d303744",
        "colab": {
          "base_uri": "https://localhost:8080/",
          "height": 51
        }
      },
      "source": [
        "from sklearn.svm import SVC\n",
        "\n",
        "svc = SVC(kernel='linear',C=10)\n",
        "\n",
        "svc.fit(X_train, y_train)\n",
        "\n",
        "print(\"Train score: \",svc.score(X_train, y_train))\n",
        "print(\"Test score: \",svc.score(X_test, y_test))"
      ],
      "execution_count": 7,
      "outputs": [
        {
          "output_type": "stream",
          "text": [
            "Train score:  0.8714285714285714\n",
            "Test score:  0.8916666666666667\n"
          ],
          "name": "stdout"
        }
      ]
    },
    {
      "cell_type": "markdown",
      "metadata": {
        "id": "ahsyvz1LpuRn"
      },
      "source": [
        "### Choose some other values for C and show the difference between the scores for the train and test sets."
      ]
    },
    {
      "cell_type": "code",
      "metadata": {
        "id": "tE_-fqFcpuRo"
      },
      "source": [
        "from sklearn.metrics import accuracy_score\n",
        "\n",
        "accuracy_train = []\n",
        "accuracy_test = []\n",
        "c_list = np.arange(.1, 10, .1)\n",
        "\n",
        "for c_val in c_list:\n",
        "  svc = SVC(kernel='linear',C=c_val)\n",
        "  svc.fit(X_train, y_train)\n",
        "  accuracy_train.append(svc.score(X_train,y_train))\n",
        "  accuracy_test.append(svc.score(X_test,y_test))"
      ],
      "execution_count": 8,
      "outputs": []
    },
    {
      "cell_type": "code",
      "metadata": {
        "id": "jhtJfmy_yGCS",
        "outputId": "6698f196-4ce7-404d-fd13-d8cb48d78247",
        "colab": {
          "base_uri": "https://localhost:8080/",
          "height": 281
        }
      },
      "source": [
        "%matplotlib inline\n",
        "import matplotlib.pyplot as plt\n",
        "\n",
        "plt.plot(c_list, accuracy_train)\n",
        "plt.plot(c_list, accuracy_test)\n",
        "plt.title('Accuracy vs Value of C')\n",
        "plt.legend(['accuracy_train', 'accuracy_test'])\n",
        "plt.show()"
      ],
      "execution_count": 10,
      "outputs": [
        {
          "output_type": "display_data",
          "data": {
            "image/png": "[encoded data removed]",
            "text/plain": [
              "<Figure size 432x288 with 1 Axes>"
            ]
          },
          "metadata": {
            "tags": [],
            "needs_background": "light"
          }
        }
      ]
    },
    {
      "cell_type": "markdown",
      "metadata": {
        "id": "oUzyujbwpuRr"
      },
      "source": [
        "### What if we switched up the target variable? Let assume that we know whether a student was admitted. Let's try to predict what their SchoolRank was. \n",
        "\n",
        "Create an SVC model with a linear kernel with the SchoolRank field as the target variable. Report both the train and the test scores."
      ]
    },
    {
      "cell_type": "code",
      "metadata": {
        "id": "lKPF7TSdpuRs",
        "outputId": "b4f21bd3-1a03-4e26-c43c-e9dfcd92844e",
        "colab": {
          "base_uri": "https://localhost:8080/",
          "height": 119
        }
      },
      "source": [
        "data.SchoolRank.value_counts()"
      ],
      "execution_count": 11,
      "outputs": [
        {
          "output_type": "execute_result",
          "data": {
            "text/plain": [
              "3    133\n",
              "2    107\n",
              "4     74\n",
              "5     60\n",
              "1     26\n",
              "Name: SchoolRank, dtype: int64"
            ]
          },
          "metadata": {
            "tags": []
          },
          "execution_count": 11
        }
      ]
    },
    {
      "cell_type": "code",
      "metadata": {
        "id": "jwYLsPTaypEm"
      },
      "source": [
        "X = data.drop('SchoolRank', axis=1)\n",
        "y = data['SchoolRank']\n",
        "\n",
        "X_train, X_test, y_train, y_test = train_test_split(X, y, test_size=0.3)"
      ],
      "execution_count": 12,
      "outputs": []
    },
    {
      "cell_type": "code",
      "metadata": {
        "id": "0M9-LOsUztMX",
        "outputId": "11e8a6cd-59ff-4aaf-edc3-0d5faa07d176",
        "colab": {
          "base_uri": "https://localhost:8080/",
          "height": 51
        }
      },
      "source": [
        "svc = SVC(kernel='linear',C=10)\n",
        "\n",
        "svc.fit(X_train, y_train)\n",
        "\n",
        "print(\"Train score: \",svc.score(X_train, y_train))\n",
        "print(\"Test score: \",svc.score(X_test, y_test))"
      ],
      "execution_count": 24,
      "outputs": [
        {
          "output_type": "stream",
          "text": [
            "Train score:  0.6107142857142858\n",
            "Test score:  0.6083333333333333\n"
          ],
          "name": "stdout"
        }
      ]
    },
    {
      "cell_type": "markdown",
      "metadata": {
        "id": "EQKgbtUm4psY"
      },
      "source": [
        "### Show confusion matrices for the training and test sets, and a classification report for the test set. What trends do you notice?"
      ]
    },
    {
      "cell_type": "code",
      "metadata": {
        "id": "rBSLoqCSpuRt"
      },
      "source": [
        "def plot_confusion_matrix(cm,\n",
        "                          target_names,\n",
        "                          title='Confusion matrix',\n",
        "                          cmap=None,\n",
        "                          normalize=True):\n",
        "    \"\"\"\n",
        "    Given a scikit-learn confusion matrix (CM), make a nice plot.\n",
        "\n",
        "    Arguments\n",
        "    ---------\n",
        "    cm:           Confusion matrix from sklearn.metrics.confusion_matrix\n",
        "\n",
        "    target_names: Given classification classes, such as [0, 1, 2]\n",
        "                  The class names, for example, ['high', 'medium', 'low']\n",
        "\n",
        "    title:        The text to display at the top of the matrix\n",
        "\n",
        "    cmap:         The gradient of the values displayed from matplotlib.pyplot.cm\n",
        "                  See http://matplotlib.org/examples/color/colormaps_reference.html\n",
        "                  `plt.get_cmap('jet')` or `plt.cm.Blues`\n",
        "\n",
        "    normalize:    If `False`, plot the raw numbers\n",
        "                  If `True`, plot the proportions\n",
        "\n",
        "    Usage\n",
        "    -----\n",
        "    plot_confusion_matrix(cm           = cm,                  # Confusion matrix created by\n",
        "                                                              # `sklearn.metrics.confusion_matrix`\n",
        "                          normalize    = True,                # Show proportions\n",
        "                          target_names = y_labels_vals,       # List of names of the classes\n",
        "                          title        = best_estimator_name) # Title of graph\n",
        "\n",
        "    Citation\n",
        "    ---------\n",
        "    http://scikit-learn.org/stable/auto_examples/model_selection/plot_confusion_matrix.html\n",
        "\n",
        "    \"\"\"\n",
        "    import matplotlib.pyplot as plt\n",
        "    import numpy as np\n",
        "    import itertools\n",
        "\n",
        "    accuracy = np.trace(cm) / float(np.sum(cm))\n",
        "    misclass = 1 - accuracy\n",
        "\n",
        "    if cmap is None:\n",
        "        cmap = plt.get_cmap('Blues')\n",
        "\n",
        "    plt.figure(figsize=(8, 6))\n",
        "    plt.imshow(cm, interpolation='nearest', cmap=cmap)\n",
        "    plt.title(title)\n",
        "    plt.colorbar()\n",
        "\n",
        "    if target_names is not None:\n",
        "        tick_marks = np.arange(len(target_names))\n",
        "        plt.xticks(tick_marks, target_names, rotation=45)\n",
        "        plt.yticks(tick_marks, target_names)\n",
        "\n",
        "    if normalize:\n",
        "        cm = cm.astype('float') / cm.sum(axis=1)[:, np.newaxis]\n",
        "\n",
        "\n",
        "    thresh = cm.max() / 1.5 if normalize else cm.max() / 2\n",
        "    for i, j in itertools.product(range(cm.shape[0]), range(cm.shape[1])):\n",
        "        if normalize:\n",
        "            plt.text(j, i, \"{:0.4f}\".format(cm[i, j]),\n",
        "                     horizontalalignment=\"center\",\n",
        "                     color=\"white\" if cm[i, j] > thresh else \"black\")\n",
        "        else:\n",
        "            plt.text(j, i, \"{:,}\".format(cm[i, j]),\n",
        "                     horizontalalignment=\"center\",\n",
        "                     color=\"white\" if cm[i, j] > thresh else \"black\")\n",
        "\n",
        "\n",
        "    plt.tight_layout()\n",
        "    plt.ylabel('Predicted label')\n",
        "    plt.xlabel('True label\\naccuracy={:0.4f}; misclass={:0.4f}'.format(accuracy, misclass))\n",
        "    plt.show()"
      ],
      "execution_count": 14,
      "outputs": []
    },
    {
      "cell_type": "code",
      "metadata": {
        "id": "hI0hPBWO0Egz",
        "outputId": "8e493171-cdd1-4beb-ad8f-fbed8ff84620",
        "colab": {
          "base_uri": "https://localhost:8080/",
          "height": 467
        }
      },
      "source": [
        "from sklearn.metrics import  classification_report, confusion_matrix\n",
        "y_test_pred = svc.predict(X_test)\n",
        "\n",
        "confusion = confusion_matrix(y_test, y_test_pred)\n",
        "plot_confusion_matrix(cm=confusion, target_names=['Rank 1','Rank 2','Rank 3','Rank 4','Rank 5'],title = 'School Rank Confusion Matrix',normalize=False)"
      ],
      "execution_count": 28,
      "outputs": [
        {
          "output_type": "display_data",
          "data": {
            "image/png": "[encoded data removed]",
            "text/plain": [
              "<Figure size 576x432 with 2 Axes>"
            ]
          },
          "metadata": {
            "tags": [],
            "needs_background": "light"
          }
        }
      ]
    },
    {
      "cell_type": "code",
      "metadata": {
        "id": "e40_3ZBJ1NzO",
        "outputId": "74578244-b209-4318-b8ef-bff1f929e3b4",
        "colab": {
          "base_uri": "https://localhost:8080/",
          "height": 221
        }
      },
      "source": [
        "print(classification_report(y_test, y_test_pred))"
      ],
      "execution_count": 26,
      "outputs": [
        {
          "output_type": "stream",
          "text": [
            "              precision    recall  f1-score   support\n",
            "\n",
            "           1       0.60      0.43      0.50         7\n",
            "           2       0.67      0.48      0.56        33\n",
            "           3       0.64      0.85      0.73        46\n",
            "           4       0.58      0.32      0.41        22\n",
            "           5       0.44      0.67      0.53        12\n",
            "\n",
            "    accuracy                           0.61       120\n",
            "   macro avg       0.59      0.55      0.55       120\n",
            "weighted avg       0.61      0.61      0.59       120\n",
            "\n"
          ],
          "name": "stdout"
        }
      ]
    },
    {
      "cell_type": "markdown",
      "metadata": {
        "id": "trmkS0Qh1m2_"
      },
      "source": [
        "We see that precision was best with the classes that had the two biggest samples (0.64, 0.67). Precision was relatively worse on the 5th ranked group (0.44) compared to the other group's precision (0.60, 0.67, 0.64, 0.58). \n",
        "\n",
        "Recall was best (0.85) on the group that had the largest number of observations (the 3rd rank class) and was relatively high (0.67) on group 5, which is a bit suprising with the low support for that group. Recall was worst on Group 4 (0.32). \n",
        "\n",
        "F1 Score was best for Group 3 (0.73) which was also the highest support group. F1 Score was worst for group 4 (0.41). \n",
        "\n",
        "Overall its not suprising that the group with the largest support had the best recall and F1 scores and the second best precision score. "
      ]
    }
  ]
}