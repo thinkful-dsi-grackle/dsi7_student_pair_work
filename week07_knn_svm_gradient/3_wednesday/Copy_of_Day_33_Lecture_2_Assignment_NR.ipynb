{
  "nbformat": 4,
  "nbformat_minor": 0,
  "metadata": {
    "kernelspec": {
      "display_name": "Python 3",
      "language": "python",
      "name": "python3"
    },
    "language_info": {
      "codemirror_mode": {
        "name": "ipython",
        "version": 3
      },
      "file_extension": ".py",
      "mimetype": "text/x-python",
      "name": "python",
      "nbconvert_exporter": "python",
      "pygments_lexer": "ipython3",
      "version": "3.7.0"
    },
    "colab": {
      "name": "Copy of Day 33 Lecture 2 Assignment NR",
      "provenance": [],
      "collapsed_sections": []
    }
  },
  "cells": [
    {
      "cell_type": "markdown",
      "metadata": {
        "id": "cHTqUTbNpuwZ"
      },
      "source": [
        "## Day 33 Lecture 2 Assignment\n",
        "\n",
        "In this assignment, we will learn about non linear SVM models. We will use the heart disease dataset loaded below and analyze the model generated for this dataset."
      ]
    },
    {
      "cell_type": "code",
      "metadata": {
        "id": "kQBDnjBLpuwZ"
      },
      "source": [
        "%matplotlib inline\n",
        "\n",
        "import matplotlib.pyplot as plt\n",
        "import numpy as np\n",
        "import pandas as pd\n",
        "from sklearn.model_selection import train_test_split\n",
        "from sklearn.preprocessing import StandardScaler\n",
        "from sklearn.svm import SVC\n",
        "import time\n",
        "from sklearn.metrics import classification_report, confusion_matrix\n"
      ],
      "execution_count": 10,
      "outputs": []
    },
    {
      "cell_type": "code",
      "metadata": {
        "id": "Z1EskWSrpuwb"
      },
      "source": [
        "heart = pd.read_csv('https://tf-assets-prod.s3.amazonaws.com/tf-curric/data-science/framingham_heart_disease.csv')"
      ],
      "execution_count": 4,
      "outputs": []
    },
    {
      "cell_type": "code",
      "metadata": {
        "id": "zwYPk78tBrBy",
        "outputId": "987a771f-2758-4121-a2bb-30f68d6e4ced",
        "colab": {
          "base_uri": "https://localhost:8080/",
          "height": 34
        }
      },
      "source": [
        "heart.shape"
      ],
      "execution_count": null,
      "outputs": [
        {
          "output_type": "execute_result",
          "data": {
            "text/plain": [
              "(4238, 16)"
            ]
          },
          "metadata": {
            "tags": []
          },
          "execution_count": 6
        }
      ]
    },
    {
      "cell_type": "code",
      "metadata": {
        "id": "Tw1yj9Ehpuwd",
        "outputId": "09356b1a-323b-4189-ae88-8a41d4853428",
        "colab": {
          "base_uri": "https://localhost:8080/",
          "height": 224
        }
      },
      "source": [
        "heart.head()"
      ],
      "execution_count": 5,
      "outputs": [
        {
          "output_type": "execute_result",
          "data": {
            "text/html": [
              "<div>\n",
              "<style scoped>\n",
              "    .dataframe tbody tr th:only-of-type {\n",
              "        vertical-align: middle;\n",
              "    }\n",
              "\n",
              "    .dataframe tbody tr th {\n",
              "        vertical-align: top;\n",
              "    }\n",
              "\n",
              "    .dataframe thead th {\n",
              "        text-align: right;\n",
              "    }\n",
              "</style>\n",
              "<table border=\"1\" class=\"dataframe\">\n",
              "  <thead>\n",
              "    <tr style=\"text-align: right;\">\n",
              "      <th></th>\n",
              "      <th>male</th>\n",
              "      <th>age</th>\n",
              "      <th>education</th>\n",
              "      <th>currentSmoker</th>\n",
              "      <th>cigsPerDay</th>\n",
              "      <th>BPMeds</th>\n",
              "      <th>prevalentStroke</th>\n",
              "      <th>prevalentHyp</th>\n",
              "      <th>diabetes</th>\n",
              "      <th>totChol</th>\n",
              "      <th>sysBP</th>\n",
              "      <th>diaBP</th>\n",
              "      <th>BMI</th>\n",
              "      <th>heartRate</th>\n",
              "      <th>glucose</th>\n",
              "      <th>TenYearCHD</th>\n",
              "    </tr>\n",
              "  </thead>\n",
              "  <tbody>\n",
              "    <tr>\n",
              "      <th>0</th>\n",
              "      <td>1</td>\n",
              "      <td>39</td>\n",
              "      <td>4.0</td>\n",
              "      <td>0</td>\n",
              "      <td>0.0</td>\n",
              "      <td>0.0</td>\n",
              "      <td>0</td>\n",
              "      <td>0</td>\n",
              "      <td>0</td>\n",
              "      <td>195.0</td>\n",
              "      <td>106.0</td>\n",
              "      <td>70.0</td>\n",
              "      <td>26.97</td>\n",
              "      <td>80.0</td>\n",
              "      <td>77.0</td>\n",
              "      <td>0</td>\n",
              "    </tr>\n",
              "    <tr>\n",
              "      <th>1</th>\n",
              "      <td>0</td>\n",
              "      <td>46</td>\n",
              "      <td>2.0</td>\n",
              "      <td>0</td>\n",
              "      <td>0.0</td>\n",
              "      <td>0.0</td>\n",
              "      <td>0</td>\n",
              "      <td>0</td>\n",
              "      <td>0</td>\n",
              "      <td>250.0</td>\n",
              "      <td>121.0</td>\n",
              "      <td>81.0</td>\n",
              "      <td>28.73</td>\n",
              "      <td>95.0</td>\n",
              "      <td>76.0</td>\n",
              "      <td>0</td>\n",
              "    </tr>\n",
              "    <tr>\n",
              "      <th>2</th>\n",
              "      <td>1</td>\n",
              "      <td>48</td>\n",
              "      <td>1.0</td>\n",
              "      <td>1</td>\n",
              "      <td>20.0</td>\n",
              "      <td>0.0</td>\n",
              "      <td>0</td>\n",
              "      <td>0</td>\n",
              "      <td>0</td>\n",
              "      <td>245.0</td>\n",
              "      <td>127.5</td>\n",
              "      <td>80.0</td>\n",
              "      <td>25.34</td>\n",
              "      <td>75.0</td>\n",
              "      <td>70.0</td>\n",
              "      <td>0</td>\n",
              "    </tr>\n",
              "    <tr>\n",
              "      <th>3</th>\n",
              "      <td>0</td>\n",
              "      <td>61</td>\n",
              "      <td>3.0</td>\n",
              "      <td>1</td>\n",
              "      <td>30.0</td>\n",
              "      <td>0.0</td>\n",
              "      <td>0</td>\n",
              "      <td>1</td>\n",
              "      <td>0</td>\n",
              "      <td>225.0</td>\n",
              "      <td>150.0</td>\n",
              "      <td>95.0</td>\n",
              "      <td>28.58</td>\n",
              "      <td>65.0</td>\n",
              "      <td>103.0</td>\n",
              "      <td>1</td>\n",
              "    </tr>\n",
              "    <tr>\n",
              "      <th>4</th>\n",
              "      <td>0</td>\n",
              "      <td>46</td>\n",
              "      <td>3.0</td>\n",
              "      <td>1</td>\n",
              "      <td>23.0</td>\n",
              "      <td>0.0</td>\n",
              "      <td>0</td>\n",
              "      <td>0</td>\n",
              "      <td>0</td>\n",
              "      <td>285.0</td>\n",
              "      <td>130.0</td>\n",
              "      <td>84.0</td>\n",
              "      <td>23.10</td>\n",
              "      <td>85.0</td>\n",
              "      <td>85.0</td>\n",
              "      <td>0</td>\n",
              "    </tr>\n",
              "  </tbody>\n",
              "</table>\n",
              "</div>"
            ],
            "text/plain": [
              "   male  age  education  currentSmoker  ...    BMI  heartRate  glucose  TenYearCHD\n",
              "0     1   39        4.0              0  ...  26.97       80.0     77.0           0\n",
              "1     0   46        2.0              0  ...  28.73       95.0     76.0           0\n",
              "2     1   48        1.0              1  ...  25.34       75.0     70.0           0\n",
              "3     0   61        3.0              1  ...  28.58       65.0    103.0           1\n",
              "4     0   46        3.0              1  ...  23.10       85.0     85.0           0\n",
              "\n",
              "[5 rows x 16 columns]"
            ]
          },
          "metadata": {
            "tags": []
          },
          "execution_count": 5
        }
      ]
    },
    {
      "cell_type": "markdown",
      "metadata": {
        "id": "q6--xRehpuwf"
      },
      "source": [
        "This dataset helps us predict the probability of coronary heart diease (CHD) in the next 10 years given the risk factors for each subject in the study. Our target variable is `TenYearCHD`.\n",
        "\n",
        "We'll start off by removing any rows containing missing data."
      ]
    },
    {
      "cell_type": "code",
      "metadata": {
        "id": "H7pOIvimpuwg",
        "outputId": "2779a6c0-907e-4fef-8308-cbc983460dd3",
        "colab": {
          "base_uri": "https://localhost:8080/"
        }
      },
      "source": [
        "# answer below:\n",
        "\n",
        "heart.dropna(inplace=True)\n",
        "heart.isnull().sum()"
      ],
      "execution_count": 6,
      "outputs": [
        {
          "output_type": "execute_result",
          "data": {
            "text/plain": [
              "male               0\n",
              "age                0\n",
              "education          0\n",
              "currentSmoker      0\n",
              "cigsPerDay         0\n",
              "BPMeds             0\n",
              "prevalentStroke    0\n",
              "prevalentHyp       0\n",
              "diabetes           0\n",
              "totChol            0\n",
              "sysBP              0\n",
              "diaBP              0\n",
              "BMI                0\n",
              "heartRate          0\n",
              "glucose            0\n",
              "TenYearCHD         0\n",
              "dtype: int64"
            ]
          },
          "metadata": {
            "tags": []
          },
          "execution_count": 6
        }
      ]
    },
    {
      "cell_type": "markdown",
      "metadata": {
        "id": "3TYgJuyxpuwj"
      },
      "source": [
        "Then, we split the data into train and test with 20% of the data in the test subset."
      ]
    },
    {
      "cell_type": "code",
      "metadata": {
        "id": "MpeydIKspuwi"
      },
      "source": [
        "# answer below:\n",
        "\n",
        "X = heart.drop('TenYearCHD', axis=1)\n",
        "y = heart.TenYearCHD\n",
        "\n",
        "\n",
        "X_train, X_test, y_train, y_test = train_test_split(X, y, test_size=0.2)\n",
        "\n"
      ],
      "execution_count": 8,
      "outputs": []
    },
    {
      "cell_type": "markdown",
      "metadata": {
        "id": "a-3wmJJupuwh"
      },
      "source": [
        "We will then scale the data using the standard scaler. Do this in the cell below."
      ]
    },
    {
      "cell_type": "code",
      "metadata": {
        "id": "DeYucn7Spuwk"
      },
      "source": [
        "# answer below:\n",
        "\n",
        "scale = StandardScaler()\n",
        "X_train_scale = scale.fit_transform(X_train, y_train)\n",
        "X_test_scale = scale.transform(X_test)"
      ],
      "execution_count": 11,
      "outputs": []
    },
    {
      "cell_type": "markdown",
      "metadata": {
        "id": "k0iL3Twepuwn"
      },
      "source": [
        "Generate a polynomial SVC model and a RBF SVC model. Compare the performance, and the runtime, for the two models."
      ]
    },
    {
      "cell_type": "code",
      "metadata": {
        "id": "mRkYJIPvpuwn",
        "outputId": "6a4cba6e-e90a-4c83-e1a9-91e4820b62f1",
        "colab": {
          "base_uri": "https://localhost:8080/"
        }
      },
      "source": [
        "# answer below:\n",
        "\n",
        "poly_svc = SVC(kernel='poly', C=10, degree=3)\n",
        "rbf_svc = SVC(kernel='rbf')\n",
        "\n",
        "star_time = time.time()\n",
        "poly_svc.fit(X_train_scale, y_train)\n",
        "print(f'polynomial SVC train time: {time.time()-star_time} seconds\\n')\n",
        "\n",
        "print(\n",
        "    f'polynomial training score: {poly_svc.score(X_train_scale, y_train)}\\n'\n",
        "    f'polynomial test score: {poly_svc.score(X_test_scale, y_test)}\\n'\n",
        ")"
      ],
      "execution_count": 12,
      "outputs": [
        {
          "output_type": "stream",
          "text": [
            "polynomial SVC train time: 0.8462419509887695 seconds\n",
            "\n",
            "polynomial training score: 0.884404924760602\n",
            "polynomial test score: 0.8497267759562842\n",
            "\n"
          ],
          "name": "stdout"
        }
      ]
    },
    {
      "cell_type": "code",
      "metadata": {
        "id": "lkrleCQV_zHb",
        "outputId": "1f3e57fd-d169-4b5b-8acd-cbef22611540",
        "colab": {
          "base_uri": "https://localhost:8080/"
        }
      },
      "source": [
        "star_time = time.time()\n",
        "rbf_svc.fit(X_train_scale, y_train)\n",
        "print(f'rbf SVC train time: {time.time()-star_time} seconds\\n')\n",
        "\n",
        "print(\n",
        "    f'rbf training score: {rbf_svc.score(X_train_scale, y_train)}\\n'\n",
        "    f'rbf test score: {rbf_svc.score(X_test_scale, y_test)}\\n'\n",
        ")"
      ],
      "execution_count": 13,
      "outputs": [
        {
          "output_type": "stream",
          "text": [
            "rbf SVC train time: 0.3139011859893799 seconds\n",
            "\n",
            "rbf training score: 0.8594391244870041\n",
            "rbf test score: 0.8592896174863388\n",
            "\n"
          ],
          "name": "stdout"
        }
      ]
    },
    {
      "cell_type": "markdown",
      "metadata": {
        "id": "BapGqwHvpuwp"
      },
      "source": [
        "Which model overfits more? How would you improve the overfitting?\n",
        "\n",
        "Look at a classification report and confusion matrix. How does the class balance affect your results?"
      ]
    },
    {
      "cell_type": "code",
      "metadata": {
        "id": "4GJSWe6Ipuwp"
      },
      "source": [
        "# answer below:\n",
        "\n",
        "poly_train_pred = poly_svc.predict(X_train_scale)\n",
        "poly_test_pred = poly_svc.predict(X_test_scale)\n",
        "\n",
        "rbf_train_pred = rbf_svc.predict(X_train_scale)\n",
        "rbf_test_pred = rbf_svc.predict(X_test_scale)"
      ],
      "execution_count": 14,
      "outputs": []
    },
    {
      "cell_type": "code",
      "metadata": {
        "id": "tqE08_-S_6Z7",
        "outputId": "9f20f64a-a1f4-4957-b452-5f9b77be4997",
        "colab": {
          "base_uri": "https://localhost:8080/"
        }
      },
      "source": [
        "print(\n",
        "    f'--------------- Polynomial SVC --------------\\n'\n",
        "    f'Train\\n'\n",
        "    f'{classification_report(y_train, poly_train_pred)}\\n'\n",
        "    f'confusion matrix\\n'\n",
        "    f'{confusion_matrix(y_train, poly_train_pred)}\\n'\n",
        "    f'\\nTest\\n'\n",
        "    f'{classification_report(y_test, poly_test_pred)}\\n'\n",
        "    f'confusion matrix\\n'\n",
        "    f'{confusion_matrix(y_test, poly_test_pred)}\\n\\n'\n",
        ")"
      ],
      "execution_count": 15,
      "outputs": [
        {
          "output_type": "stream",
          "text": [
            "--------------- Polynomial SVC --------------\n",
            "Train\n",
            "              precision    recall  f1-score   support\n",
            "\n",
            "           0       0.88      1.00      0.94      2469\n",
            "           1       0.98      0.26      0.42       455\n",
            "\n",
            "    accuracy                           0.88      2924\n",
            "   macro avg       0.93      0.63      0.68      2924\n",
            "weighted avg       0.90      0.88      0.85      2924\n",
            "\n",
            "confusion matrix\n",
            "[[2466    3]\n",
            " [ 335  120]]\n",
            "\n",
            "Test\n",
            "              precision    recall  f1-score   support\n",
            "\n",
            "           0       0.87      0.98      0.92       630\n",
            "           1       0.30      0.06      0.10       102\n",
            "\n",
            "    accuracy                           0.85       732\n",
            "   macro avg       0.58      0.52      0.51       732\n",
            "weighted avg       0.79      0.85      0.80       732\n",
            "\n",
            "confusion matrix\n",
            "[[616  14]\n",
            " [ 96   6]]\n",
            "\n",
            "\n"
          ],
          "name": "stdout"
        }
      ]
    },
    {
      "cell_type": "code",
      "metadata": {
        "id": "siAa-gBv_9WX",
        "outputId": "f805a5f0-4f6d-49ae-d47b-b25f4e60bfc5",
        "colab": {
          "base_uri": "https://localhost:8080/"
        }
      },
      "source": [
        "print(\n",
        "    f'--------------- rbf SVC --------------\\n'\n",
        "    f'Train\\n'\n",
        "    f'{classification_report(y_train, rbf_train_pred)}\\n'\n",
        "    f'confusion matrix\\n'\n",
        "    f'{confusion_matrix(y_train, rbf_train_pred)}\\n'\n",
        "    f'\\nTest\\n'\n",
        "    f'{classification_report(y_test, rbf_test_pred)}\\n'\n",
        "    f'confusion matrix\\n'\n",
        "    f'{confusion_matrix(y_test, rbf_test_pred)}'\n",
        ")"
      ],
      "execution_count": 16,
      "outputs": [
        {
          "output_type": "stream",
          "text": [
            "--------------- rbf SVC --------------\n",
            "Train\n",
            "              precision    recall  f1-score   support\n",
            "\n",
            "           0       0.86      1.00      0.92      2469\n",
            "           1       0.98      0.10      0.18       455\n",
            "\n",
            "    accuracy                           0.86      2924\n",
            "   macro avg       0.92      0.55      0.55      2924\n",
            "weighted avg       0.88      0.86      0.81      2924\n",
            "\n",
            "confusion matrix\n",
            "[[2468    1]\n",
            " [ 410   45]]\n",
            "\n",
            "Test\n",
            "              precision    recall  f1-score   support\n",
            "\n",
            "           0       0.86      1.00      0.92       630\n",
            "           1       0.00      0.00      0.00       102\n",
            "\n",
            "    accuracy                           0.86       732\n",
            "   macro avg       0.43      0.50      0.46       732\n",
            "weighted avg       0.74      0.86      0.80       732\n",
            "\n",
            "confusion matrix\n",
            "[[629   1]\n",
            " [102   0]]\n"
          ],
          "name": "stdout"
        }
      ]
    },
    {
      "cell_type": "markdown",
      "metadata": {
        "id": "LLstf_0OACnT"
      },
      "source": [
        "few observations of the positive class both models are not\n",
        "good at predicting.\n",
        "\n",
        "polynomial model is best."
      ]
    },
    {
      "cell_type": "code",
      "metadata": {
        "id": "i-LwA48z__Ti"
      },
      "source": [
        ""
      ],
      "execution_count": null,
      "outputs": []
    }
  ]
}