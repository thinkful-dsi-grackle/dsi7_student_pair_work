{
  "nbformat": 4,
  "nbformat_minor": 0,
  "metadata": {
    "kernelspec": {
      "display_name": "Python 3",
      "language": "python",
      "name": "python3"
    },
    "language_info": {
      "codemirror_mode": {
        "name": "ipython",
        "version": 3
      },
      "file_extension": ".py",
      "mimetype": "text/x-python",
      "name": "python",
      "nbconvert_exporter": "python",
      "pygments_lexer": "ipython3",
      "version": "3.7.0"
    },
    "colab": {
      "name": "Day 33 Lecture 2 Assignment_Caesar.ipynb",
      "provenance": [],
      "collapsed_sections": []
    }
  },
  "cells": [
    {
      "cell_type": "markdown",
      "metadata": {
        "id": "cHTqUTbNpuwZ"
      },
      "source": [
        "## Day 33 Lecture 2 Assignment\n",
        "\n",
        "In this assignment, we will learn about non linear SVM models. We will use the heart disease dataset loaded below and analyze the model generated for this dataset."
      ]
    },
    {
      "cell_type": "code",
      "metadata": {
        "id": "kQBDnjBLpuwZ"
      },
      "source": [
        "%matplotlib inline\n",
        "\n",
        "import matplotlib.pyplot as plt\n",
        "import numpy as np\n",
        "import pandas as pd\n",
        "import time\n",
        "\n",
        "from sklearn.model_selection import train_test_split\n",
        "from sklearn.svm import SVC\n",
        "from sklearn.preprocessing import StandardScaler\n",
        "from sklearn.metrics import accuracy_score, classification_report, confusion_matrix"
      ],
      "execution_count": 28,
      "outputs": []
    },
    {
      "cell_type": "code",
      "metadata": {
        "id": "Z1EskWSrpuwb"
      },
      "source": [
        "heart = pd.read_csv('https://tf-assets-prod.s3.amazonaws.com/tf-curric/data-science/framingham_heart_disease.csv')"
      ],
      "execution_count": 2,
      "outputs": []
    },
    {
      "cell_type": "code",
      "metadata": {
        "id": "zwYPk78tBrBy",
        "outputId": "73fc326e-b9f9-4b51-9171-20b73b7f1847",
        "colab": {
          "base_uri": "https://localhost:8080/"
        }
      },
      "source": [
        "heart.shape"
      ],
      "execution_count": 3,
      "outputs": [
        {
          "output_type": "execute_result",
          "data": {
            "text/plain": [
              "(4238, 16)"
            ]
          },
          "metadata": {
            "tags": []
          },
          "execution_count": 3
        }
      ]
    },
    {
      "cell_type": "code",
      "metadata": {
        "id": "Tw1yj9Ehpuwd",
        "outputId": "35a19322-083c-4f00-f79e-1e83a8284723",
        "colab": {
          "base_uri": "https://localhost:8080/",
          "height": 204
        }
      },
      "source": [
        "heart.head()"
      ],
      "execution_count": 4,
      "outputs": [
        {
          "output_type": "execute_result",
          "data": {
            "text/html": [
              "<div>\n",
              "<style scoped>\n",
              "    .dataframe tbody tr th:only-of-type {\n",
              "        vertical-align: middle;\n",
              "    }\n",
              "\n",
              "    .dataframe tbody tr th {\n",
              "        vertical-align: top;\n",
              "    }\n",
              "\n",
              "    .dataframe thead th {\n",
              "        text-align: right;\n",
              "    }\n",
              "</style>\n",
              "<table border=\"1\" class=\"dataframe\">\n",
              "  <thead>\n",
              "    <tr style=\"text-align: right;\">\n",
              "      <th></th>\n",
              "      <th>male</th>\n",
              "      <th>age</th>\n",
              "      <th>education</th>\n",
              "      <th>currentSmoker</th>\n",
              "      <th>cigsPerDay</th>\n",
              "      <th>BPMeds</th>\n",
              "      <th>prevalentStroke</th>\n",
              "      <th>prevalentHyp</th>\n",
              "      <th>diabetes</th>\n",
              "      <th>totChol</th>\n",
              "      <th>sysBP</th>\n",
              "      <th>diaBP</th>\n",
              "      <th>BMI</th>\n",
              "      <th>heartRate</th>\n",
              "      <th>glucose</th>\n",
              "      <th>TenYearCHD</th>\n",
              "    </tr>\n",
              "  </thead>\n",
              "  <tbody>\n",
              "    <tr>\n",
              "      <th>0</th>\n",
              "      <td>1</td>\n",
              "      <td>39</td>\n",
              "      <td>4.0</td>\n",
              "      <td>0</td>\n",
              "      <td>0.0</td>\n",
              "      <td>0.0</td>\n",
              "      <td>0</td>\n",
              "      <td>0</td>\n",
              "      <td>0</td>\n",
              "      <td>195.0</td>\n",
              "      <td>106.0</td>\n",
              "      <td>70.0</td>\n",
              "      <td>26.97</td>\n",
              "      <td>80.0</td>\n",
              "      <td>77.0</td>\n",
              "      <td>0</td>\n",
              "    </tr>\n",
              "    <tr>\n",
              "      <th>1</th>\n",
              "      <td>0</td>\n",
              "      <td>46</td>\n",
              "      <td>2.0</td>\n",
              "      <td>0</td>\n",
              "      <td>0.0</td>\n",
              "      <td>0.0</td>\n",
              "      <td>0</td>\n",
              "      <td>0</td>\n",
              "      <td>0</td>\n",
              "      <td>250.0</td>\n",
              "      <td>121.0</td>\n",
              "      <td>81.0</td>\n",
              "      <td>28.73</td>\n",
              "      <td>95.0</td>\n",
              "      <td>76.0</td>\n",
              "      <td>0</td>\n",
              "    </tr>\n",
              "    <tr>\n",
              "      <th>2</th>\n",
              "      <td>1</td>\n",
              "      <td>48</td>\n",
              "      <td>1.0</td>\n",
              "      <td>1</td>\n",
              "      <td>20.0</td>\n",
              "      <td>0.0</td>\n",
              "      <td>0</td>\n",
              "      <td>0</td>\n",
              "      <td>0</td>\n",
              "      <td>245.0</td>\n",
              "      <td>127.5</td>\n",
              "      <td>80.0</td>\n",
              "      <td>25.34</td>\n",
              "      <td>75.0</td>\n",
              "      <td>70.0</td>\n",
              "      <td>0</td>\n",
              "    </tr>\n",
              "    <tr>\n",
              "      <th>3</th>\n",
              "      <td>0</td>\n",
              "      <td>61</td>\n",
              "      <td>3.0</td>\n",
              "      <td>1</td>\n",
              "      <td>30.0</td>\n",
              "      <td>0.0</td>\n",
              "      <td>0</td>\n",
              "      <td>1</td>\n",
              "      <td>0</td>\n",
              "      <td>225.0</td>\n",
              "      <td>150.0</td>\n",
              "      <td>95.0</td>\n",
              "      <td>28.58</td>\n",
              "      <td>65.0</td>\n",
              "      <td>103.0</td>\n",
              "      <td>1</td>\n",
              "    </tr>\n",
              "    <tr>\n",
              "      <th>4</th>\n",
              "      <td>0</td>\n",
              "      <td>46</td>\n",
              "      <td>3.0</td>\n",
              "      <td>1</td>\n",
              "      <td>23.0</td>\n",
              "      <td>0.0</td>\n",
              "      <td>0</td>\n",
              "      <td>0</td>\n",
              "      <td>0</td>\n",
              "      <td>285.0</td>\n",
              "      <td>130.0</td>\n",
              "      <td>84.0</td>\n",
              "      <td>23.10</td>\n",
              "      <td>85.0</td>\n",
              "      <td>85.0</td>\n",
              "      <td>0</td>\n",
              "    </tr>\n",
              "  </tbody>\n",
              "</table>\n",
              "</div>"
            ],
            "text/plain": [
              "   male  age  education  currentSmoker  ...    BMI  heartRate  glucose  TenYearCHD\n",
              "0     1   39        4.0              0  ...  26.97       80.0     77.0           0\n",
              "1     0   46        2.0              0  ...  28.73       95.0     76.0           0\n",
              "2     1   48        1.0              1  ...  25.34       75.0     70.0           0\n",
              "3     0   61        3.0              1  ...  28.58       65.0    103.0           1\n",
              "4     0   46        3.0              1  ...  23.10       85.0     85.0           0\n",
              "\n",
              "[5 rows x 16 columns]"
            ]
          },
          "metadata": {
            "tags": []
          },
          "execution_count": 4
        }
      ]
    },
    {
      "cell_type": "markdown",
      "metadata": {
        "id": "q6--xRehpuwf"
      },
      "source": [
        "This dataset helps us predict the probability of coronary heart diease (CHD) in the next 10 years given the risk factors for each subject in the study. Our target variable is `TenYearCHD`.\n",
        "\n",
        "We'll start off by removing any rows containing missing data."
      ]
    },
    {
      "cell_type": "code",
      "metadata": {
        "id": "H7pOIvimpuwg"
      },
      "source": [
        "# answer below:\n",
        "heart.dropna(inplace=True)"
      ],
      "execution_count": 5,
      "outputs": []
    },
    {
      "cell_type": "code",
      "metadata": {
        "id": "rEj5YZ-YWxiY",
        "outputId": "187f5dd4-cc62-421b-96b5-5c705b5db711",
        "colab": {
          "base_uri": "https://localhost:8080/"
        }
      },
      "source": [
        "heart.info()"
      ],
      "execution_count": 8,
      "outputs": [
        {
          "output_type": "stream",
          "text": [
            "<class 'pandas.core.frame.DataFrame'>\n",
            "Int64Index: 3656 entries, 0 to 4237\n",
            "Data columns (total 16 columns):\n",
            " #   Column           Non-Null Count  Dtype  \n",
            "---  ------           --------------  -----  \n",
            " 0   male             3656 non-null   int64  \n",
            " 1   age              3656 non-null   int64  \n",
            " 2   education        3656 non-null   float64\n",
            " 3   currentSmoker    3656 non-null   int64  \n",
            " 4   cigsPerDay       3656 non-null   float64\n",
            " 5   BPMeds           3656 non-null   float64\n",
            " 6   prevalentStroke  3656 non-null   int64  \n",
            " 7   prevalentHyp     3656 non-null   int64  \n",
            " 8   diabetes         3656 non-null   int64  \n",
            " 9   totChol          3656 non-null   float64\n",
            " 10  sysBP            3656 non-null   float64\n",
            " 11  diaBP            3656 non-null   float64\n",
            " 12  BMI              3656 non-null   float64\n",
            " 13  heartRate        3656 non-null   float64\n",
            " 14  glucose          3656 non-null   float64\n",
            " 15  TenYearCHD       3656 non-null   int64  \n",
            "dtypes: float64(9), int64(7)\n",
            "memory usage: 485.6 KB\n"
          ],
          "name": "stdout"
        }
      ]
    },
    {
      "cell_type": "markdown",
      "metadata": {
        "id": "3TYgJuyxpuwj"
      },
      "source": [
        "Then, we split the data into train and test with 20% of the data in the test subset."
      ]
    },
    {
      "cell_type": "code",
      "metadata": {
        "id": "MpeydIKspuwi"
      },
      "source": [
        "# answer below:\n",
        "X = heart.drop('TenYearCHD', axis=1)\n",
        "Y = heart.TenYearCHD\n",
        "\n",
        "X_train, X_test, y_train, y_test = train_test_split(X, Y, test_size=0.2)"
      ],
      "execution_count": 9,
      "outputs": []
    },
    {
      "cell_type": "markdown",
      "metadata": {
        "id": "a-3wmJJupuwh"
      },
      "source": [
        "We will then scale the data using the standard scaler. Do this in the cell below."
      ]
    },
    {
      "cell_type": "code",
      "metadata": {
        "id": "DeYucn7Spuwk"
      },
      "source": [
        "# answer below:\n",
        "scaler = StandardScaler()\n",
        "\n",
        "X_train_ = scaler.fit_transform(X_train)\n",
        "X_test_ = scaler.transform(X_test)"
      ],
      "execution_count": 12,
      "outputs": []
    },
    {
      "cell_type": "markdown",
      "metadata": {
        "id": "k0iL3Twepuwn"
      },
      "source": [
        "Generate a polynomial SVC model and a RBF SVC model. Compare the performance, and the runtime, for the two models."
      ]
    },
    {
      "cell_type": "code",
      "metadata": {
        "id": "mRkYJIPvpuwn",
        "outputId": "8502d72a-fe62-428e-db53-63d3f04dbcec",
        "colab": {
          "base_uri": "https://localhost:8080/"
        }
      },
      "source": [
        "# answer below:\n",
        "start_time = time.time()\n",
        "poly = SVC(kernel='poly', C=7, gamma='auto')\n",
        "poly.fit(X_train_, y_train)\n",
        "print(f'Polynomial Runtime: {time.time() - start_time}')\n",
        "\n",
        "poly_pred = poly.predict(X_test_)\n",
        "print(f'Polynomial Accuracy: {accuracy_score(y_test, poly_pred)}')"
      ],
      "execution_count": 38,
      "outputs": [
        {
          "output_type": "stream",
          "text": [
            "Polynomial Runtime: 0.7368285655975342\n",
            "Polynomial Accuracy: 0.8415300546448088\n"
          ],
          "name": "stdout"
        }
      ]
    },
    {
      "cell_type": "code",
      "metadata": {
        "id": "L0FUkZFVX6W-",
        "outputId": "11ea5753-8ea2-45c0-cb43-3cbaf04a8d6b",
        "colab": {
          "base_uri": "https://localhost:8080/"
        }
      },
      "source": [
        "start_time = time.time()\n",
        "rbf = SVC(kernel='rbf', C=7, gamma='auto')\n",
        "rbf.fit(X_train_, y_train)\n",
        "print(f'RBF Runtime: {time.time() - start_time}')\n",
        "\n",
        "rbf_pred = rbf.predict(X_test_)\n",
        "print(f'RBF Accuracy: {accuracy_score(y_test, rbf_pred)}')"
      ],
      "execution_count": 34,
      "outputs": [
        {
          "output_type": "stream",
          "text": [
            "RBF Runtime: 0.39435744285583496\n",
            "RBF Accuracy: 0.8387978142076503\n"
          ],
          "name": "stdout"
        }
      ]
    },
    {
      "cell_type": "markdown",
      "metadata": {
        "id": "BapGqwHvpuwp"
      },
      "source": [
        "Which model overfits more? How would you improve the overfitting?\n",
        "\n",
        "Look at a classification report and confusion matrix. How does the class balance affect your results?"
      ]
    },
    {
      "cell_type": "code",
      "metadata": {
        "id": "4GJSWe6Ipuwp",
        "outputId": "627f1d87-89c3-4c27-a97a-5d0bfd808887",
        "colab": {
          "base_uri": "https://localhost:8080/"
        }
      },
      "source": [
        "# answer below:\n",
        "print(f'Polynomial Confusion Matrix: \\n{confusion_matrix(y_test, poly_pred)}')\n",
        "print(f'Polynomial Report: \\n{classification_report(y_test, poly_pred)}')\n",
        "print(f'\\nRBF Confusion Matrix: \\n{confusion_matrix(y_test, rbf_pred)}')\n",
        "print(f'RBF Report: \\n{classification_report(y_test, rbf_pred)}')"
      ],
      "execution_count": 39,
      "outputs": [
        {
          "output_type": "stream",
          "text": [
            "Polynomial Confusion Matrix: \n",
            "[[600  14]\n",
            " [102  16]]\n",
            "Polynomial Report: \n",
            "              precision    recall  f1-score   support\n",
            "\n",
            "           0       0.85      0.98      0.91       614\n",
            "           1       0.53      0.14      0.22       118\n",
            "\n",
            "    accuracy                           0.84       732\n",
            "   macro avg       0.69      0.56      0.56       732\n",
            "weighted avg       0.80      0.84      0.80       732\n",
            "\n",
            "\n",
            "RBF Confusion Matrix: \n",
            "[[601  13]\n",
            " [105  13]]\n",
            "RBF Report: \n",
            "              precision    recall  f1-score   support\n",
            "\n",
            "           0       0.85      0.98      0.91       614\n",
            "           1       0.50      0.11      0.18       118\n",
            "\n",
            "    accuracy                           0.84       732\n",
            "   macro avg       0.68      0.54      0.55       732\n",
            "weighted avg       0.79      0.84      0.79       732\n",
            "\n"
          ],
          "name": "stdout"
        }
      ]
    },
    {
      "cell_type": "code",
      "metadata": {
        "id": "_kQ_yP6qZQLl",
        "outputId": "9c9230eb-f715-42c4-efa0-35d25ba225ee",
        "colab": {
          "base_uri": "https://localhost:8080/"
        }
      },
      "source": [
        "heart.TenYearCHD.value_counts()"
      ],
      "execution_count": 35,
      "outputs": [
        {
          "output_type": "execute_result",
          "data": {
            "text/plain": [
              "0    3099\n",
              "1     557\n",
              "Name: TenYearCHD, dtype: int64"
            ]
          },
          "metadata": {
            "tags": []
          },
          "execution_count": 35
        }
      ]
    },
    {
      "cell_type": "markdown",
      "metadata": {
        "id": "n9pj298qZlXh"
      },
      "source": [
        "*The SVC with polynomial kernel is overfitting more while the one with RBF kernel finishes modelling faster. Increasing the C value should reduce overfitting for both models but not by much.*\n",
        "\n",
        "*Looking at the class balance, the negatives heavily outweigh the positives. This resulted in low precision and recall scores for the positive classification.*"
      ]
    }
  ]
}