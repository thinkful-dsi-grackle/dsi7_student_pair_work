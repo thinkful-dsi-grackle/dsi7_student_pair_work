{
 "cells": [
  {
   "cell_type": "markdown",
   "metadata": {
    "id": "N-dUAbfgpuRb"
   },
   "source": [
    "# Linear SVC Assignment"
   ]
  },
  {
   "cell_type": "code",
   "execution_count": 25,
   "metadata": {
    "id": "frNvugKHpuRd"
   },
   "outputs": [],
   "source": [
    "import numpy as np\n",
    "import pandas as pd\n",
    "import seaborn as sns\n",
    "from sklearn.svm import SVC\n",
    "from sklearn.model_selection import train_test_split\n",
    "from sklearn.metrics import classification_report, confusion_matrix"
   ]
  },
  {
   "cell_type": "markdown",
   "metadata": {
    "id": "GePJHOhaPuNE"
   },
   "source": [
    "### Import the admissions data set (admissions.csv)."
   ]
  },
  {
   "cell_type": "code",
   "execution_count": 2,
   "metadata": {
    "colab": {
     "base_uri": "https://localhost:8080/",
     "height": 204
    },
    "id": "B_1e4lobpuRf",
    "outputId": "b41873a1-9f35-49dd-be96-52fdc417e59e"
   },
   "outputs": [
    {
     "data": {
      "text/html": [
       "<div>\n",
       "<style scoped>\n",
       "    .dataframe tbody tr th:only-of-type {\n",
       "        vertical-align: middle;\n",
       "    }\n",
       "\n",
       "    .dataframe tbody tr th {\n",
       "        vertical-align: top;\n",
       "    }\n",
       "\n",
       "    .dataframe thead th {\n",
       "        text-align: right;\n",
       "    }\n",
       "</style>\n",
       "<table border=\"1\" class=\"dataframe\">\n",
       "  <thead>\n",
       "    <tr style=\"text-align: right;\">\n",
       "      <th></th>\n",
       "      <th>GRE</th>\n",
       "      <th>TOEFL</th>\n",
       "      <th>SchoolRank</th>\n",
       "      <th>SOP</th>\n",
       "      <th>LOR</th>\n",
       "      <th>GPA</th>\n",
       "      <th>Research</th>\n",
       "      <th>Admitted</th>\n",
       "    </tr>\n",
       "  </thead>\n",
       "  <tbody>\n",
       "    <tr>\n",
       "      <th>0</th>\n",
       "      <td>337</td>\n",
       "      <td>118</td>\n",
       "      <td>4</td>\n",
       "      <td>4.5</td>\n",
       "      <td>4.5</td>\n",
       "      <td>9.65</td>\n",
       "      <td>1</td>\n",
       "      <td>1</td>\n",
       "    </tr>\n",
       "    <tr>\n",
       "      <th>1</th>\n",
       "      <td>324</td>\n",
       "      <td>107</td>\n",
       "      <td>4</td>\n",
       "      <td>4.0</td>\n",
       "      <td>4.5</td>\n",
       "      <td>8.87</td>\n",
       "      <td>1</td>\n",
       "      <td>1</td>\n",
       "    </tr>\n",
       "    <tr>\n",
       "      <th>2</th>\n",
       "      <td>316</td>\n",
       "      <td>104</td>\n",
       "      <td>3</td>\n",
       "      <td>3.0</td>\n",
       "      <td>3.5</td>\n",
       "      <td>8.00</td>\n",
       "      <td>1</td>\n",
       "      <td>1</td>\n",
       "    </tr>\n",
       "    <tr>\n",
       "      <th>3</th>\n",
       "      <td>322</td>\n",
       "      <td>110</td>\n",
       "      <td>3</td>\n",
       "      <td>3.5</td>\n",
       "      <td>2.5</td>\n",
       "      <td>8.67</td>\n",
       "      <td>1</td>\n",
       "      <td>1</td>\n",
       "    </tr>\n",
       "    <tr>\n",
       "      <th>4</th>\n",
       "      <td>314</td>\n",
       "      <td>103</td>\n",
       "      <td>2</td>\n",
       "      <td>2.0</td>\n",
       "      <td>3.0</td>\n",
       "      <td>8.21</td>\n",
       "      <td>0</td>\n",
       "      <td>0</td>\n",
       "    </tr>\n",
       "  </tbody>\n",
       "</table>\n",
       "</div>"
      ],
      "text/plain": [
       "   GRE  TOEFL  SchoolRank  SOP  LOR   GPA  Research  Admitted\n",
       "0  337    118           4  4.5  4.5  9.65         1         1\n",
       "1  324    107           4  4.0  4.5  8.87         1         1\n",
       "2  316    104           3  3.0  3.5  8.00         1         1\n",
       "3  322    110           3  3.5  2.5  8.67         1         1\n",
       "4  314    103           2  2.0  3.0  8.21         0         0"
      ]
     },
     "execution_count": 2,
     "metadata": {
      "tags": []
     },
     "output_type": "execute_result"
    }
   ],
   "source": [
    "data = pd.read_csv('https://tf-assets-prod.s3.amazonaws.com/tf-curric/data-science/admissions.csv')\n",
    "data.head()"
   ]
  },
  {
   "cell_type": "markdown",
   "metadata": {
    "id": "PqbIpTOyPuNM"
   },
   "source": [
    "### Split the data into training and test sets, with the test set comprising 30% of the data.  Use `'Admitted'` as the target."
   ]
  },
  {
   "cell_type": "code",
   "execution_count": 3,
   "metadata": {
    "id": "uFiTXMGrPuNM"
   },
   "outputs": [],
   "source": [
    "X = data.drop(columns='Admitted')\n",
    "y = data['Admitted']\n",
    "\n",
    "X_train, X_test, y_train, y_test = train_test_split(X, y, test_size = 0.3)"
   ]
  },
  {
   "cell_type": "markdown",
   "metadata": {
    "id": "P_h8WYktpuRj"
   },
   "source": [
    "### Generate an SVC model with a linear kernel. Set the regularization parameter (C) = 10. Check the score for both train and test sets. "
   ]
  },
  {
   "cell_type": "code",
   "execution_count": 4,
   "metadata": {
    "colab": {
     "base_uri": "https://localhost:8080/",
     "height": 51
    },
    "id": "s7ZPqXMGpuRj",
    "outputId": "5c93a3ec-ddab-493d-a364-9d01dc4d0193"
   },
   "outputs": [
    {
     "name": "stdout",
     "output_type": "stream",
     "text": [
      "SVM Train Score:  0.8821428571428571\n",
      "SVM Test Score:  0.875\n"
     ]
    }
   ],
   "source": [
    "vectored = SVC(C=10, kernel='linear')\n",
    "vectored.fit(X_train, y_train)\n",
    "print('SVM Train Score: ', vectored.score(X_train, y_train))\n",
    "print('SVM Test Score: ', vectored.score(X_test, y_test))"
   ]
  },
  {
   "cell_type": "markdown",
   "metadata": {
    "id": "ahsyvz1LpuRn"
   },
   "source": [
    "### Choose some other values for C and show the difference between the scores for the train and test sets."
   ]
  },
  {
   "cell_type": "code",
   "execution_count": 33,
   "metadata": {
    "colab": {
     "base_uri": "https://localhost:8080/",
     "height": 51
    },
    "id": "tE_-fqFcpuRo",
    "outputId": "2bef126f-01b6-40ac-b57a-86a4f6c80f65"
   },
   "outputs": [
    {
     "name": "stdout",
     "output_type": "stream",
     "text": [
      "Train scores:  [0.8464285714285714, 0.8607142857142858, 0.875, 0.8714285714285714, 0.8821428571428571]\n",
      "Test scores:  [0.8666666666666667, 0.8833333333333333, 0.8583333333333333, 0.85, 0.875]\n"
     ]
    }
   ],
   "source": [
    "score_train = []\n",
    "score_test = []\n",
    "C_list = [.01, .1, .5, 1, 10]\n",
    "for i in C_list:\n",
    "  vec = SVC(C=i, kernel='linear')\n",
    "  vec.fit(X_train, y_train)\n",
    "  score_train.append(vec.score(X_train, y_train))\n",
    "  score_test.append(vec.score(X_test, y_test))\n",
    "  #f1_train.append(f1_score(y_train, neigh.predict(X_train)))\n",
    "  #f1_test.append(f1_score(y_test, neigh.predict(X_test)))\n",
    "  #y_pred_train = abs.predict(X_train_sca)\n",
    "  #rmse_train.append(mean_squared_error(y_train, y_pred_train, squared=False))\n",
    "  #y_pred_test = abs.predict(X_test_sca)\n",
    "  #rmse_test.append(mean_squared_error(y_test, y_pred_test, squared=False))\n",
    "\n",
    "print('Train scores: ', score_train)\n",
    "print('Test scores: ', score_test)"
   ]
  },
  {
   "cell_type": "markdown",
   "metadata": {
    "id": "oUzyujbwpuRr"
   },
   "source": [
    "### What if we switched up the target variable? Let assume that we know whether a student was admitted. Let's try to predict what their SchoolRank was. \n",
    "\n",
    "Create an SVC model with a linear kernel with the SchoolRank field as the target variable. Report both the train and the test scores."
   ]
  },
  {
   "cell_type": "code",
   "execution_count": 48,
   "metadata": {
    "colab": {
     "base_uri": "https://localhost:8080/",
     "height": 51
    },
    "id": "lKPF7TSdpuRs",
    "outputId": "def8692d-4b82-42d6-dde5-7ad969c7bae9"
   },
   "outputs": [
    {
     "name": "stdout",
     "output_type": "stream",
     "text": [
      "SVM Train Score:  0.6357142857142857\n",
      "SVM Test Score:  0.6\n"
     ]
    }
   ],
   "source": [
    "X1 = data.drop(columns=['SchoolRank'])\n",
    "y1 = data['SchoolRank']\n",
    "\n",
    "X_train1, X_test1, y_train1, y_test1 = train_test_split(X1, y1, test_size = 0.3)\n",
    "\n",
    "vectored1 = SVC(C=1, kernel='linear')\n",
    "vectored1.fit(X_train1, y_train1)\n",
    "print('SVM Train Score: ', vectored1.score(X_train1, y_train1))\n",
    "print('SVM Test Score: ', vectored1.score(X_test1, y_test1))"
   ]
  },
  {
   "cell_type": "markdown",
   "metadata": {
    "id": "EQKgbtUm4psY"
   },
   "source": [
    "### Show confusion matrices for the training and test sets, and a classification report for the test set. What trends do you notice?"
   ]
  },
  {
   "cell_type": "code",
   "execution_count": 49,
   "metadata": {
    "colab": {
     "base_uri": "https://localhost:8080/",
     "height": 425
    },
    "id": "rBSLoqCSpuRt",
    "outputId": "32077578-93c7-4191-d64d-cdac11d16e6a"
   },
   "outputs": [
    {
     "name": "stdout",
     "output_type": "stream",
     "text": [
      "[[10  6  2  0  0]\n",
      " [ 4 43 19  1  0]\n",
      " [ 1 17 66  8  1]\n",
      " [ 1  2  7 35 12]\n",
      " [ 0  1  4 16 24]]\n",
      "\n",
      "[[ 4  4  0  0  0]\n",
      " [ 6 21 11  1  1]\n",
      " [ 0  2 33  5  0]\n",
      " [ 0  1  6  8  2]\n",
      " [ 0  0  2  7  6]]\n",
      "\n",
      "              precision    recall  f1-score   support\n",
      "\n",
      "           1       0.40      0.50      0.44         8\n",
      "           2       0.75      0.53      0.62        40\n",
      "           3       0.63      0.82      0.72        40\n",
      "           4       0.38      0.47      0.42        17\n",
      "           5       0.67      0.40      0.50        15\n",
      "\n",
      "    accuracy                           0.60       120\n",
      "   macro avg       0.57      0.54      0.54       120\n",
      "weighted avg       0.63      0.60      0.60       120\n",
      "\n"
     ]
    }
   ],
   "source": [
    "y_pred_train = vectored1.predict(X_train1)\n",
    "y_pred_test = vectored1.predict(X_test1)\n",
    "\n",
    "conf_train = confusion_matrix(y_train1, y_pred_train)\n",
    "conf_test = confusion_matrix(y_test1, y_pred_test)\n",
    "\n",
    "print(conf_train)\n",
    "print('')\n",
    "print(conf_test)\n",
    "print('')\n",
    "train_repo = classification_report(y_train1, y_pred_train)\n",
    "test_repo = classification_report(y_test1, y_pred_test)\n",
    "#print(train_repo)\n",
    "print(test_repo)"
   ]
  }
 ],
 "metadata": {
  "colab": {
   "collapsed_sections": [],
   "name": "Day 33 Lecture 1 Assignment.ipynb",
   "provenance": []
  },
  "kernelspec": {
   "display_name": "Python 3",
   "language": "python",
   "name": "python3"
  },
  "language_info": {
   "codemirror_mode": {
    "name": "ipython",
    "version": 3
   },
   "file_extension": ".py",
   "mimetype": "text/x-python",
   "name": "python",
   "nbconvert_exporter": "python",
   "pygments_lexer": "ipython3",
   "version": "3.8.5"
  }
 },
 "nbformat": 4,
 "nbformat_minor": 1
}
