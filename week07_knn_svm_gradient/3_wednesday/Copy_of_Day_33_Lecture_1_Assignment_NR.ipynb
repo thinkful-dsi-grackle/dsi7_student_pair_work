{
  "nbformat": 4,
  "nbformat_minor": 0,
  "metadata": {
    "colab": {
      "name": "Copy of Day 33 Lecture 1 Assignment NR",
      "provenance": [],
      "collapsed_sections": []
    },
    "kernelspec": {
      "display_name": "Python 3",
      "language": "python",
      "name": "python3"
    },
    "language_info": {
      "codemirror_mode": {
        "name": "ipython",
        "version": 3
      },
      "file_extension": ".py",
      "mimetype": "text/x-python",
      "name": "python",
      "nbconvert_exporter": "python",
      "pygments_lexer": "ipython3",
      "version": "3.7.6"
    }
  },
  "cells": [
    {
      "cell_type": "markdown",
      "metadata": {
        "id": "N-dUAbfgpuRb"
      },
      "source": [
        "# Linear SVC Assignment"
      ]
    },
    {
      "cell_type": "code",
      "metadata": {
        "id": "frNvugKHpuRd"
      },
      "source": [
        "import numpy as np\n",
        "import pandas as pd\n",
        "import seaborn as sns\n",
        "import matplotlib.pyplot as plt\n",
        "import matplotlib\n",
        "%matplotlib inline\n",
        "\n",
        "import math\n",
        "from sklearn.svm import SVC\n",
        "from sklearn.model_selection import train_test_split\n",
        "from sklearn.metrics import classification_report, confusion_matrix, plot_confusion_matrix"
      ],
      "execution_count": 18,
      "outputs": []
    },
    {
      "cell_type": "markdown",
      "metadata": {
        "id": "GePJHOhaPuNE"
      },
      "source": [
        "### Import the admissions data set (admissions.csv)."
      ]
    },
    {
      "cell_type": "code",
      "metadata": {
        "id": "B_1e4lobpuRf",
        "outputId": "3fe850a3-001a-4ac2-abed-c13dd929567e",
        "colab": {
          "base_uri": "https://localhost:8080/",
          "height": 204
        }
      },
      "source": [
        "data = pd.read_csv('https://tf-assets-prod.s3.amazonaws.com/tf-curric/data-science/admissions.csv')\n",
        "data.head()"
      ],
      "execution_count": 3,
      "outputs": [
        {
          "output_type": "execute_result",
          "data": {
            "text/html": [
              "<div>\n",
              "<style scoped>\n",
              "    .dataframe tbody tr th:only-of-type {\n",
              "        vertical-align: middle;\n",
              "    }\n",
              "\n",
              "    .dataframe tbody tr th {\n",
              "        vertical-align: top;\n",
              "    }\n",
              "\n",
              "    .dataframe thead th {\n",
              "        text-align: right;\n",
              "    }\n",
              "</style>\n",
              "<table border=\"1\" class=\"dataframe\">\n",
              "  <thead>\n",
              "    <tr style=\"text-align: right;\">\n",
              "      <th></th>\n",
              "      <th>GRE</th>\n",
              "      <th>TOEFL</th>\n",
              "      <th>SchoolRank</th>\n",
              "      <th>SOP</th>\n",
              "      <th>LOR</th>\n",
              "      <th>GPA</th>\n",
              "      <th>Research</th>\n",
              "      <th>Admitted</th>\n",
              "    </tr>\n",
              "  </thead>\n",
              "  <tbody>\n",
              "    <tr>\n",
              "      <th>0</th>\n",
              "      <td>337</td>\n",
              "      <td>118</td>\n",
              "      <td>4</td>\n",
              "      <td>4.5</td>\n",
              "      <td>4.5</td>\n",
              "      <td>9.65</td>\n",
              "      <td>1</td>\n",
              "      <td>1</td>\n",
              "    </tr>\n",
              "    <tr>\n",
              "      <th>1</th>\n",
              "      <td>324</td>\n",
              "      <td>107</td>\n",
              "      <td>4</td>\n",
              "      <td>4.0</td>\n",
              "      <td>4.5</td>\n",
              "      <td>8.87</td>\n",
              "      <td>1</td>\n",
              "      <td>1</td>\n",
              "    </tr>\n",
              "    <tr>\n",
              "      <th>2</th>\n",
              "      <td>316</td>\n",
              "      <td>104</td>\n",
              "      <td>3</td>\n",
              "      <td>3.0</td>\n",
              "      <td>3.5</td>\n",
              "      <td>8.00</td>\n",
              "      <td>1</td>\n",
              "      <td>1</td>\n",
              "    </tr>\n",
              "    <tr>\n",
              "      <th>3</th>\n",
              "      <td>322</td>\n",
              "      <td>110</td>\n",
              "      <td>3</td>\n",
              "      <td>3.5</td>\n",
              "      <td>2.5</td>\n",
              "      <td>8.67</td>\n",
              "      <td>1</td>\n",
              "      <td>1</td>\n",
              "    </tr>\n",
              "    <tr>\n",
              "      <th>4</th>\n",
              "      <td>314</td>\n",
              "      <td>103</td>\n",
              "      <td>2</td>\n",
              "      <td>2.0</td>\n",
              "      <td>3.0</td>\n",
              "      <td>8.21</td>\n",
              "      <td>0</td>\n",
              "      <td>0</td>\n",
              "    </tr>\n",
              "  </tbody>\n",
              "</table>\n",
              "</div>"
            ],
            "text/plain": [
              "   GRE  TOEFL  SchoolRank  SOP  LOR   GPA  Research  Admitted\n",
              "0  337    118           4  4.5  4.5  9.65         1         1\n",
              "1  324    107           4  4.0  4.5  8.87         1         1\n",
              "2  316    104           3  3.0  3.5  8.00         1         1\n",
              "3  322    110           3  3.5  2.5  8.67         1         1\n",
              "4  314    103           2  2.0  3.0  8.21         0         0"
            ]
          },
          "metadata": {
            "tags": []
          },
          "execution_count": 3
        }
      ]
    },
    {
      "cell_type": "markdown",
      "metadata": {
        "id": "PqbIpTOyPuNM"
      },
      "source": [
        "### Split the data into training and test sets, with the test set comprising 30% of the data.  Use `'Admitted'` as the target."
      ]
    },
    {
      "cell_type": "code",
      "metadata": {
        "id": "uFiTXMGrPuNM"
      },
      "source": [
        "y = data['Admitted']\n",
        "\n",
        "X = data.drop('Admitted', axis=1)\n",
        "\n",
        "X_train, X_test, y_train, y_test = train_test_split(X, y, test_size=0.3)"
      ],
      "execution_count": 4,
      "outputs": []
    },
    {
      "cell_type": "markdown",
      "metadata": {
        "id": "P_h8WYktpuRj"
      },
      "source": [
        "### Generate an SVC model with a linear kernel. Set the regularization parameter (C) = 10. Check the score for both train and test sets. "
      ]
    },
    {
      "cell_type": "code",
      "metadata": {
        "id": "s7ZPqXMGpuRj",
        "outputId": "3d6a4531-6801-4b08-8cdb-faf821bfcd62",
        "colab": {
          "base_uri": "https://localhost:8080/",
          "height": 51
        }
      },
      "source": [
        "svc = SVC(kernel='linear', C=10)\n",
        "\n",
        "fit = svc.fit(X_train, y_train)\n",
        "\n",
        "print('train score for c=10:', svc.score(X_train, y_train))\n",
        "print('test score for c=10:', svc.score(X_test, y_test))"
      ],
      "execution_count": 5,
      "outputs": [
        {
          "output_type": "stream",
          "text": [
            "train score for c=10: 0.8785714285714286\n",
            "test score for c=10: 0.8916666666666667\n"
          ],
          "name": "stdout"
        }
      ]
    },
    {
      "cell_type": "markdown",
      "metadata": {
        "id": "ahsyvz1LpuRn"
      },
      "source": [
        "### Choose some other values for C and show the difference between the scores for the train and test sets."
      ]
    },
    {
      "cell_type": "code",
      "metadata": {
        "id": "tE_-fqFcpuRo"
      },
      "source": [
        "svc = SVC(kernel='linear', C=100)\n",
        "\n",
        "fit = svc.fit(X_train, y_train)\n",
        "\n",
        "print('train score for c=100:', svc.score(X_train, y_train))\n",
        "print('test score for c=100:', svc.score(X_test, y_test))\n",
        "\n",
        "print()\n",
        "\n",
        "svc = SVC(kernel='linear', C=1)\n",
        "\n",
        "fit = svc.fit(X_train, y_train)\n",
        "\n",
        "print('train score for c=1:', svc.score(X_train, y_train))\n",
        "print('test score for c=1:', svc.score(X_test, y_test))\n",
        "\n",
        "print()\n",
        "\n",
        "svc = SVC(kernel='linear', C=0.1)\n",
        "fit = svc.fit(X_train, y_train)\n",
        "print('train score for c=0.1:', svc.score(X_train, y_train))\n",
        "print('test score for c=0.1:', svc.score(X_test, y_test))"
      ],
      "execution_count": null,
      "outputs": []
    },
    {
      "cell_type": "markdown",
      "metadata": {
        "id": "oUzyujbwpuRr"
      },
      "source": [
        "### What if we switched up the target variable? Let assume that we know whether a student was admitted. Let's try to predict what their SchoolRank was. \n",
        "\n",
        "Create an SVC model with a linear kernel with the SchoolRank field as the target variable. Report both the train and the test scores."
      ]
    },
    {
      "cell_type": "code",
      "metadata": {
        "id": "lKPF7TSdpuRs",
        "outputId": "1dc8f557-76b9-4e11-95e3-8c36fe58a2b3",
        "colab": {
          "base_uri": "https://localhost:8080/",
          "height": 51
        }
      },
      "source": [
        "y = data['SchoolRank']\n",
        "\n",
        "X = data.drop('SchoolRank', axis=1)\n",
        "\n",
        "X_train, X_test, y_train, y_test = train_test_split(X, y, test_size=0.3)\n",
        "\n",
        "svc = SVC(kernel='linear', C=1)\n",
        "\n",
        "fit = svc.fit(X_train, y_train)\n",
        "\n",
        "print('train score for c=1:', svc.score(X_train, y_train))\n",
        "print('test score for c=1:', svc.score(X_test, y_test))"
      ],
      "execution_count": 6,
      "outputs": [
        {
          "output_type": "stream",
          "text": [
            "train score for c=1: 0.675\n",
            "test score for c=1: 0.5416666666666666\n"
          ],
          "name": "stdout"
        }
      ]
    },
    {
      "cell_type": "markdown",
      "metadata": {
        "id": "EQKgbtUm4psY"
      },
      "source": [
        "### Show confusion matrices for the training and test sets, and a classification report for the test set. What trends do you notice?"
      ]
    },
    {
      "cell_type": "code",
      "metadata": {
        "id": "rBSLoqCSpuRt",
        "outputId": "279515dd-80fd-4f9b-95e4-d2c5730b7fed",
        "colab": {
          "base_uri": "https://localhost:8080/",
          "height": 425
        }
      },
      "source": [
        "train_pred = fit.predict(X_train)\n",
        "\n",
        "test_pred = fit.predict(X_test)\n",
        "\n",
        "print(confusion_matrix(y_train, train_pred), '\\n')\n",
        "print(confusion_matrix(y_test, test_pred), '\\n')\n",
        "print(classification_report(y_test, test_pred))"
      ],
      "execution_count": 9,
      "outputs": [
        {
          "output_type": "stream",
          "text": [
            "[[ 5 10  0  0  0]\n",
            " [ 2 51 22  0  1]\n",
            " [ 0 12 78  5  0]\n",
            " [ 0  2 10 22 14]\n",
            " [ 0  1  4  8 33]] \n",
            "\n",
            "[[ 3  6  2  0  0]\n",
            " [ 2 18 10  0  1]\n",
            " [ 0  9 22  4  3]\n",
            " [ 0  2  2 10 12]\n",
            " [ 0  0  1  1 12]] \n",
            "\n",
            "              precision    recall  f1-score   support\n",
            "\n",
            "           1       0.60      0.27      0.37        11\n",
            "           2       0.51      0.58      0.55        31\n",
            "           3       0.59      0.58      0.59        38\n",
            "           4       0.67      0.38      0.49        26\n",
            "           5       0.43      0.86      0.57        14\n",
            "\n",
            "    accuracy                           0.54       120\n",
            "   macro avg       0.56      0.53      0.51       120\n",
            "weighted avg       0.57      0.54      0.53       120\n",
            "\n"
          ],
          "name": "stdout"
        }
      ]
    },
    {
      "cell_type": "code",
      "metadata": {
        "id": "27ggMlSh4OOT"
      },
      "source": [
        ""
      ],
      "execution_count": null,
      "outputs": []
    }
  ]
}