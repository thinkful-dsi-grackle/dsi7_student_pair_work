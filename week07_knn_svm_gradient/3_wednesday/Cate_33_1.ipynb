{
  "nbformat": 4,
  "nbformat_minor": 0,
  "metadata": {
    "colab": {
      "name": "Cate_33_1.ipynb",
      "provenance": [],
      "collapsed_sections": []
    },
    "kernelspec": {
      "display_name": "Python 3",
      "language": "python",
      "name": "python3"
    },
    "language_info": {
      "codemirror_mode": {
        "name": "ipython",
        "version": 3
      },
      "file_extension": ".py",
      "mimetype": "text/x-python",
      "name": "python",
      "nbconvert_exporter": "python",
      "pygments_lexer": "ipython3",
      "version": "3.7.6"
    }
  },
  "cells": [
    {
      "cell_type": "markdown",
      "metadata": {
        "id": "N-dUAbfgpuRb"
      },
      "source": [
        "# Linear SVC Assignment"
      ]
    },
    {
      "cell_type": "code",
      "metadata": {
        "id": "frNvugKHpuRd"
      },
      "source": [
        "import numpy as np\n",
        "import pandas as pd\n",
        "\n",
        "from sklearn.svm import SVC\n",
        "from sklearn.model_selection import train_test_split\n",
        "from sklearn.metrics import classification_report, confusion_matrix"
      ],
      "execution_count": 23,
      "outputs": []
    },
    {
      "cell_type": "markdown",
      "metadata": {
        "id": "GePJHOhaPuNE"
      },
      "source": [
        "### Import the admissions data set (admissions.csv)."
      ]
    },
    {
      "cell_type": "code",
      "metadata": {
        "id": "B_1e4lobpuRf",
        "outputId": "90caba5f-4128-4353-82f9-5b9bd5601a33",
        "colab": {
          "base_uri": "https://localhost:8080/",
          "height": 197
        }
      },
      "source": [
        "data = pd.read_csv('https://tf-assets-prod.s3.amazonaws.com/tf-curric/data-science/admissions.csv')\n",
        "data.head()"
      ],
      "execution_count": 24,
      "outputs": [
        {
          "output_type": "execute_result",
          "data": {
            "text/html": [
              "<div>\n",
              "<style scoped>\n",
              "    .dataframe tbody tr th:only-of-type {\n",
              "        vertical-align: middle;\n",
              "    }\n",
              "\n",
              "    .dataframe tbody tr th {\n",
              "        vertical-align: top;\n",
              "    }\n",
              "\n",
              "    .dataframe thead th {\n",
              "        text-align: right;\n",
              "    }\n",
              "</style>\n",
              "<table border=\"1\" class=\"dataframe\">\n",
              "  <thead>\n",
              "    <tr style=\"text-align: right;\">\n",
              "      <th></th>\n",
              "      <th>GRE</th>\n",
              "      <th>TOEFL</th>\n",
              "      <th>SchoolRank</th>\n",
              "      <th>SOP</th>\n",
              "      <th>LOR</th>\n",
              "      <th>GPA</th>\n",
              "      <th>Research</th>\n",
              "      <th>Admitted</th>\n",
              "    </tr>\n",
              "  </thead>\n",
              "  <tbody>\n",
              "    <tr>\n",
              "      <th>0</th>\n",
              "      <td>337</td>\n",
              "      <td>118</td>\n",
              "      <td>4</td>\n",
              "      <td>4.5</td>\n",
              "      <td>4.5</td>\n",
              "      <td>9.65</td>\n",
              "      <td>1</td>\n",
              "      <td>1</td>\n",
              "    </tr>\n",
              "    <tr>\n",
              "      <th>1</th>\n",
              "      <td>324</td>\n",
              "      <td>107</td>\n",
              "      <td>4</td>\n",
              "      <td>4.0</td>\n",
              "      <td>4.5</td>\n",
              "      <td>8.87</td>\n",
              "      <td>1</td>\n",
              "      <td>1</td>\n",
              "    </tr>\n",
              "    <tr>\n",
              "      <th>2</th>\n",
              "      <td>316</td>\n",
              "      <td>104</td>\n",
              "      <td>3</td>\n",
              "      <td>3.0</td>\n",
              "      <td>3.5</td>\n",
              "      <td>8.00</td>\n",
              "      <td>1</td>\n",
              "      <td>1</td>\n",
              "    </tr>\n",
              "    <tr>\n",
              "      <th>3</th>\n",
              "      <td>322</td>\n",
              "      <td>110</td>\n",
              "      <td>3</td>\n",
              "      <td>3.5</td>\n",
              "      <td>2.5</td>\n",
              "      <td>8.67</td>\n",
              "      <td>1</td>\n",
              "      <td>1</td>\n",
              "    </tr>\n",
              "    <tr>\n",
              "      <th>4</th>\n",
              "      <td>314</td>\n",
              "      <td>103</td>\n",
              "      <td>2</td>\n",
              "      <td>2.0</td>\n",
              "      <td>3.0</td>\n",
              "      <td>8.21</td>\n",
              "      <td>0</td>\n",
              "      <td>0</td>\n",
              "    </tr>\n",
              "  </tbody>\n",
              "</table>\n",
              "</div>"
            ],
            "text/plain": [
              "   GRE  TOEFL  SchoolRank  SOP  LOR   GPA  Research  Admitted\n",
              "0  337    118           4  4.5  4.5  9.65         1         1\n",
              "1  324    107           4  4.0  4.5  8.87         1         1\n",
              "2  316    104           3  3.0  3.5  8.00         1         1\n",
              "3  322    110           3  3.5  2.5  8.67         1         1\n",
              "4  314    103           2  2.0  3.0  8.21         0         0"
            ]
          },
          "metadata": {
            "tags": []
          },
          "execution_count": 24
        }
      ]
    },
    {
      "cell_type": "markdown",
      "metadata": {
        "id": "PqbIpTOyPuNM"
      },
      "source": [
        "### Split the data into training and test sets, with the test set comprising 30% of the data.  Use `'Admitted'` as the target."
      ]
    },
    {
      "cell_type": "code",
      "metadata": {
        "id": "uFiTXMGrPuNM"
      },
      "source": [
        "X = data.drop('Admitted', axis=1)\n",
        "y = data['Admitted']\n",
        "\n",
        "X_train, X_test, y_train, y_test = train_test_split(X,y, test_size=.3)"
      ],
      "execution_count": 25,
      "outputs": []
    },
    {
      "cell_type": "markdown",
      "metadata": {
        "id": "P_h8WYktpuRj"
      },
      "source": [
        "### Generate an SVC model with a linear kernel. Set the regularization parameter (C) = 10. Check the score for both train and test sets. "
      ]
    },
    {
      "cell_type": "code",
      "metadata": {
        "id": "s7ZPqXMGpuRj",
        "outputId": "d1288922-cd84-4e16-d91f-b57c16a604b7",
        "colab": {
          "base_uri": "https://localhost:8080/",
          "height": 87
        }
      },
      "source": [
        "svm = SVC(kernel='linear', C=10)\n",
        "svm.fit(X_train, y_train)"
      ],
      "execution_count": 26,
      "outputs": [
        {
          "output_type": "execute_result",
          "data": {
            "text/plain": [
              "SVC(C=10, break_ties=False, cache_size=200, class_weight=None, coef0=0.0,\n",
              "    decision_function_shape='ovr', degree=3, gamma='scale', kernel='linear',\n",
              "    max_iter=-1, probability=False, random_state=None, shrinking=True,\n",
              "    tol=0.001, verbose=False)"
            ]
          },
          "metadata": {
            "tags": []
          },
          "execution_count": 26
        }
      ]
    },
    {
      "cell_type": "code",
      "metadata": {
        "id": "EoKWFqxHIAry",
        "outputId": "fb79c8b4-c83c-4a7c-ce25-b83ff84ef6f9",
        "colab": {
          "base_uri": "https://localhost:8080/",
          "height": 52
        }
      },
      "source": [
        "print('Training score: ', svm.score(X_train, y_train))\n",
        "print('Test score: ', svm.score(X_test, y_test))"
      ],
      "execution_count": 27,
      "outputs": [
        {
          "output_type": "stream",
          "text": [
            "Training score:  0.8714285714285714\n",
            "Test score:  0.8666666666666667\n"
          ],
          "name": "stdout"
        }
      ]
    },
    {
      "cell_type": "markdown",
      "metadata": {
        "id": "ahsyvz1LpuRn"
      },
      "source": [
        "### Choose some other values for C and show the difference between the scores for the train and test sets."
      ]
    },
    {
      "cell_type": "code",
      "metadata": {
        "id": "tE_-fqFcpuRo",
        "outputId": "d7ce1f46-26e2-45b3-8501-bd334687f3f5",
        "colab": {
          "base_uri": "https://localhost:8080/",
          "height": 158
        }
      },
      "source": [
        "c_list = [.01, .1, 1, 5]\n",
        "\n",
        "c_values = []\n",
        "train_scores = []\n",
        "test_scores = []\n",
        "\n",
        "\n",
        "for i in c_list:\n",
        "  svm = SVC(kernel='linear', C=i)\n",
        "  svm.fit(X_train, y_train)\n",
        "  c_values.append(i)\n",
        "  train_scores.append(svm.score(X_train, y_train))\n",
        "  test_scores.append(svm.score(X_test, y_test))\n",
        "\n",
        "\n",
        "for x, y in zip(c_values, train_scores):\n",
        "  print(f'Training score for C of {x}: {y}')\n",
        "\n",
        "for x, y in zip(c_values, test_scores):\n",
        "  print(f'Testing score for C of {x}: {y}')"
      ],
      "execution_count": 28,
      "outputs": [
        {
          "output_type": "stream",
          "text": [
            "Training score for C of 0.01: 0.825\n",
            "Training score for C of 0.1: 0.8642857142857143\n",
            "Training score for C of 1: 0.875\n",
            "Training score for C of 5: 0.8678571428571429\n",
            "Testing score for C of 0.01: 0.8666666666666667\n",
            "Testing score for C of 0.1: 0.8666666666666667\n",
            "Testing score for C of 1: 0.8583333333333333\n",
            "Testing score for C of 5: 0.8666666666666667\n"
          ],
          "name": "stdout"
        }
      ]
    },
    {
      "cell_type": "markdown",
      "metadata": {
        "id": "oUzyujbwpuRr"
      },
      "source": [
        "### What if we switched up the target variable? Let assume that we know whether a student was admitted. Let's try to predict what their SchoolRank was. \n",
        "\n",
        "Create an SVC model with a linear kernel with the SchoolRank field as the target variable. Report both the train and the test scores."
      ]
    },
    {
      "cell_type": "code",
      "metadata": {
        "id": "lKPF7TSdpuRs"
      },
      "source": [
        "X = data.drop('SchoolRank', axis=1)\n",
        "y = data['SchoolRank']\n",
        "\n",
        "X_train, X_test, y_train, y_test = train_test_split(X,y, test_size=.3)"
      ],
      "execution_count": 29,
      "outputs": []
    },
    {
      "cell_type": "code",
      "metadata": {
        "id": "_FhkU18-wmbU",
        "outputId": "b635eb53-9077-48dc-a65c-e6948287f353",
        "colab": {
          "base_uri": "https://localhost:8080/",
          "height": 52
        }
      },
      "source": [
        "svm = SVC(kernel='linear')\n",
        "svm.fit(X_train, y_train)\n",
        "\n",
        "print('Training score: ', svm.score(X_train, y_train))\n",
        "print('Test score: ', svm.score(X_test, y_test))"
      ],
      "execution_count": 43,
      "outputs": [
        {
          "output_type": "stream",
          "text": [
            "Training score:  0.6178571428571429\n",
            "Test score:  0.55\n"
          ],
          "name": "stdout"
        }
      ]
    },
    {
      "cell_type": "markdown",
      "metadata": {
        "id": "EQKgbtUm4psY"
      },
      "source": [
        "### Show confusion matrices for the training and test sets, and a classification report for the test set. What trends do you notice?"
      ]
    },
    {
      "cell_type": "code",
      "metadata": {
        "id": "rBSLoqCSpuRt",
        "outputId": "e7b3bc58-25d1-4675-ff22-8aefd348414f",
        "colab": {
          "base_uri": "https://localhost:8080/",
          "height": 541
        }
      },
      "source": [
        "from sklearn.metrics import plot_confusion_matrix, classification_report\n",
        "import matplotlib.pyplot as plt\n",
        "\n",
        "y_pred_train = svm.predict(X_train)\n",
        "y_pred_test = svm.predict(X_test)\n",
        "\n",
        "plot_confusion_matrix(svm, X_train, y_train)\n",
        "plot_confusion_matrix(svm, X_test, y_test)\n",
        "plt.show()"
      ],
      "execution_count": 55,
      "outputs": [
        {
          "output_type": "display_data",
          "data": {
            "image/png": "[encoded data removed]",
            "text/plain": [
              "<Figure size 432x288 with 2 Axes>"
            ]
          },
          "metadata": {
            "tags": [],
            "needs_background": "light"
          }
        },
        {
          "output_type": "display_data",
          "data": {
            "image/png": "[encoded data removed]",
            "text/plain": [
              "<Figure size 432x288 with 2 Axes>"
            ]
          },
          "metadata": {
            "tags": [],
            "needs_background": "light"
          }
        }
      ]
    },
    {
      "cell_type": "code",
      "metadata": {
        "id": "1l-z6fDkym8W",
        "outputId": "e92fcd12-2259-45f2-c48d-8eae932b53a7",
        "colab": {
          "base_uri": "https://localhost:8080/",
          "height": 443
        }
      },
      "source": [
        "print(classification_report(y_train, y_pred_train))\n",
        "print(classification_report(y_test, y_pred_test))"
      ],
      "execution_count": 45,
      "outputs": [
        {
          "output_type": "stream",
          "text": [
            "              precision    recall  f1-score   support\n",
            "\n",
            "           1       0.58      0.41      0.48        17\n",
            "           2       0.62      0.62      0.62        73\n",
            "           3       0.65      0.79      0.71        91\n",
            "           4       0.60      0.53      0.57        60\n",
            "           5       0.53      0.44      0.48        39\n",
            "\n",
            "    accuracy                           0.62       280\n",
            "   macro avg       0.60      0.56      0.57       280\n",
            "weighted avg       0.61      0.62      0.61       280\n",
            "\n",
            "              precision    recall  f1-score   support\n",
            "\n",
            "           1       0.33      0.22      0.27         9\n",
            "           2       0.56      0.53      0.55        34\n",
            "           3       0.65      0.74      0.69        42\n",
            "           4       0.21      0.29      0.24        14\n",
            "           5       0.73      0.52      0.61        21\n",
            "\n",
            "    accuracy                           0.55       120\n",
            "   macro avg       0.50      0.46      0.47       120\n",
            "weighted avg       0.56      0.55      0.55       120\n",
            "\n"
          ],
          "name": "stdout"
        }
      ]
    }
  ]
}