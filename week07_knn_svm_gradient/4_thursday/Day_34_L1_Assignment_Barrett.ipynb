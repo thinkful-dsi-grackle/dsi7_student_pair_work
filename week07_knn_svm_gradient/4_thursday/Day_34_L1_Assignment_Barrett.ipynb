{
  "nbformat": 4,
  "nbformat_minor": 0,
  "metadata": {
    "kernelspec": {
      "display_name": "Python 3",
      "language": "python",
      "name": "python3"
    },
    "language_info": {
      "codemirror_mode": {
        "name": "ipython",
        "version": 3
      },
      "file_extension": ".py",
      "mimetype": "text/x-python",
      "name": "python",
      "nbconvert_exporter": "python",
      "pygments_lexer": "ipython3",
      "version": "3.7.0"
    },
    "colab": {
      "name": "Day_34_L1_Assignment_Barrett.ipynb",
      "provenance": [],
      "collapsed_sections": []
    }
  },
  "cells": [
    {
      "cell_type": "markdown",
      "metadata": {
        "id": "ek_P857brqWQ"
      },
      "source": [
        "## Day 34 Lecture 1 Assignment\n",
        "\n",
        "In this assignment, we will learn about SVR. We will use the absenteeism at work dataset loaded below and analyze the model generated for this dataset."
      ]
    },
    {
      "cell_type": "code",
      "metadata": {
        "id": "Y2OJAjVKrqWR",
        "outputId": "3c1e6af9-7f11-4d38-b383-328e13f22011",
        "colab": {
          "base_uri": "https://localhost:8080/"
        }
      },
      "source": [
        "%matplotlib inline\n",
        "\n",
        "import math\n",
        "\n",
        "import matplotlib.pyplot as plt\n",
        "import numpy as np\n",
        "import pandas as pd\n",
        "import seaborn as sns\n",
        "\n",
        "from sklearn.neighbors import KNeighborsRegressor\n",
        "from sklearn.model_selection import train_test_split, GridSearchCV, cross_val_score\n",
        "\n",
        "from sklearn.preprocessing import MinMaxScaler, StandardScaler\n",
        "\n",
        "from sklearn.svm import SVC, SVR\n",
        "\n",
        "from sklearn.metrics import mean_squared_error, r2_score, accuracy_score\n",
        "\n",
        "from statsmodels.stats.outliers_influence import variance_inflation_factor\n",
        "import statsmodels.api as sm"
      ],
      "execution_count": 1,
      "outputs": [
        {
          "output_type": "stream",
          "text": [
            "/usr/local/lib/python3.6/dist-packages/statsmodels/tools/_testing.py:19: FutureWarning: pandas.util.testing is deprecated. Use the functions in the public API at pandas.testing instead.\n",
            "  import pandas.util.testing as tm\n"
          ],
          "name": "stderr"
        }
      ]
    },
    {
      "cell_type": "code",
      "metadata": {
        "id": "2xl3uos0rqWU"
      },
      "source": [
        "absent = pd.read_csv('https://tf-assets-prod.s3.amazonaws.com/tf-curric/data-science/Absenteeism_at_work.csv', sep=';')"
      ],
      "execution_count": 2,
      "outputs": []
    },
    {
      "cell_type": "code",
      "metadata": {
        "id": "pZV57O_ZrqWV",
        "outputId": "3196d3c8-4fb4-4edb-be69-51b2d5a098f4",
        "colab": {
          "base_uri": "https://localhost:8080/",
          "height": 270
        }
      },
      "source": [
        "absent.head()"
      ],
      "execution_count": 3,
      "outputs": [
        {
          "output_type": "execute_result",
          "data": {
            "text/html": [
              "<div>\n",
              "<style scoped>\n",
              "    .dataframe tbody tr th:only-of-type {\n",
              "        vertical-align: middle;\n",
              "    }\n",
              "\n",
              "    .dataframe tbody tr th {\n",
              "        vertical-align: top;\n",
              "    }\n",
              "\n",
              "    .dataframe thead th {\n",
              "        text-align: right;\n",
              "    }\n",
              "</style>\n",
              "<table border=\"1\" class=\"dataframe\">\n",
              "  <thead>\n",
              "    <tr style=\"text-align: right;\">\n",
              "      <th></th>\n",
              "      <th>ID</th>\n",
              "      <th>Reason for absence</th>\n",
              "      <th>Month of absence</th>\n",
              "      <th>Day of the week</th>\n",
              "      <th>Seasons</th>\n",
              "      <th>Transportation expense</th>\n",
              "      <th>Distance from Residence to Work</th>\n",
              "      <th>Service time</th>\n",
              "      <th>Age</th>\n",
              "      <th>Work load Average/day</th>\n",
              "      <th>Hit target</th>\n",
              "      <th>Disciplinary failure</th>\n",
              "      <th>Education</th>\n",
              "      <th>Son</th>\n",
              "      <th>Social drinker</th>\n",
              "      <th>Social smoker</th>\n",
              "      <th>Pet</th>\n",
              "      <th>Weight</th>\n",
              "      <th>Height</th>\n",
              "      <th>Body mass index</th>\n",
              "      <th>Absenteeism time in hours</th>\n",
              "    </tr>\n",
              "  </thead>\n",
              "  <tbody>\n",
              "    <tr>\n",
              "      <th>0</th>\n",
              "      <td>11</td>\n",
              "      <td>26</td>\n",
              "      <td>7</td>\n",
              "      <td>3</td>\n",
              "      <td>1</td>\n",
              "      <td>289</td>\n",
              "      <td>36</td>\n",
              "      <td>13</td>\n",
              "      <td>33</td>\n",
              "      <td>239.554</td>\n",
              "      <td>97</td>\n",
              "      <td>0</td>\n",
              "      <td>1</td>\n",
              "      <td>2</td>\n",
              "      <td>1</td>\n",
              "      <td>0</td>\n",
              "      <td>1</td>\n",
              "      <td>90</td>\n",
              "      <td>172</td>\n",
              "      <td>30</td>\n",
              "      <td>4</td>\n",
              "    </tr>\n",
              "    <tr>\n",
              "      <th>1</th>\n",
              "      <td>36</td>\n",
              "      <td>0</td>\n",
              "      <td>7</td>\n",
              "      <td>3</td>\n",
              "      <td>1</td>\n",
              "      <td>118</td>\n",
              "      <td>13</td>\n",
              "      <td>18</td>\n",
              "      <td>50</td>\n",
              "      <td>239.554</td>\n",
              "      <td>97</td>\n",
              "      <td>1</td>\n",
              "      <td>1</td>\n",
              "      <td>1</td>\n",
              "      <td>1</td>\n",
              "      <td>0</td>\n",
              "      <td>0</td>\n",
              "      <td>98</td>\n",
              "      <td>178</td>\n",
              "      <td>31</td>\n",
              "      <td>0</td>\n",
              "    </tr>\n",
              "    <tr>\n",
              "      <th>2</th>\n",
              "      <td>3</td>\n",
              "      <td>23</td>\n",
              "      <td>7</td>\n",
              "      <td>4</td>\n",
              "      <td>1</td>\n",
              "      <td>179</td>\n",
              "      <td>51</td>\n",
              "      <td>18</td>\n",
              "      <td>38</td>\n",
              "      <td>239.554</td>\n",
              "      <td>97</td>\n",
              "      <td>0</td>\n",
              "      <td>1</td>\n",
              "      <td>0</td>\n",
              "      <td>1</td>\n",
              "      <td>0</td>\n",
              "      <td>0</td>\n",
              "      <td>89</td>\n",
              "      <td>170</td>\n",
              "      <td>31</td>\n",
              "      <td>2</td>\n",
              "    </tr>\n",
              "    <tr>\n",
              "      <th>3</th>\n",
              "      <td>7</td>\n",
              "      <td>7</td>\n",
              "      <td>7</td>\n",
              "      <td>5</td>\n",
              "      <td>1</td>\n",
              "      <td>279</td>\n",
              "      <td>5</td>\n",
              "      <td>14</td>\n",
              "      <td>39</td>\n",
              "      <td>239.554</td>\n",
              "      <td>97</td>\n",
              "      <td>0</td>\n",
              "      <td>1</td>\n",
              "      <td>2</td>\n",
              "      <td>1</td>\n",
              "      <td>1</td>\n",
              "      <td>0</td>\n",
              "      <td>68</td>\n",
              "      <td>168</td>\n",
              "      <td>24</td>\n",
              "      <td>4</td>\n",
              "    </tr>\n",
              "    <tr>\n",
              "      <th>4</th>\n",
              "      <td>11</td>\n",
              "      <td>23</td>\n",
              "      <td>7</td>\n",
              "      <td>5</td>\n",
              "      <td>1</td>\n",
              "      <td>289</td>\n",
              "      <td>36</td>\n",
              "      <td>13</td>\n",
              "      <td>33</td>\n",
              "      <td>239.554</td>\n",
              "      <td>97</td>\n",
              "      <td>0</td>\n",
              "      <td>1</td>\n",
              "      <td>2</td>\n",
              "      <td>1</td>\n",
              "      <td>0</td>\n",
              "      <td>1</td>\n",
              "      <td>90</td>\n",
              "      <td>172</td>\n",
              "      <td>30</td>\n",
              "      <td>2</td>\n",
              "    </tr>\n",
              "  </tbody>\n",
              "</table>\n",
              "</div>"
            ],
            "text/plain": [
              "   ID  Reason for absence  ...  Body mass index  Absenteeism time in hours\n",
              "0  11                  26  ...               30                          4\n",
              "1  36                   0  ...               31                          0\n",
              "2   3                  23  ...               31                          2\n",
              "3   7                   7  ...               24                          4\n",
              "4  11                  23  ...               30                          2\n",
              "\n",
              "[5 rows x 21 columns]"
            ]
          },
          "metadata": {
            "tags": []
          },
          "execution_count": 3
        }
      ]
    },
    {
      "cell_type": "markdown",
      "metadata": {
        "id": "0cY0ffxDrqWY"
      },
      "source": [
        "We previously used this dataset for KNN regression. Recall that we removed all correlated columns as well as columns that are a function of two or more other columns (like BMI and weight and height) as well as columns that are not useful to us (like ID).\n",
        "We also created dummy variables for the categorical columns in our dataset.\n",
        "Finally, we split the data into test and train (with test being 20% of the data).\n",
        "\n",
        "Perform these actions below."
      ]
    },
    {
      "cell_type": "code",
      "metadata": {
        "id": "0ljCMS2urqWY",
        "outputId": "02df99d1-78db-4b81-ad50-564559e8dcef",
        "colab": {
          "base_uri": "https://localhost:8080/",
          "height": 270
        }
      },
      "source": [
        "#answer below:\n",
        "absent.drop('Weight', 1, inplace=True)\n",
        "absent.drop('ID', 1, inplace=True)\n",
        "absent['Reason_groups'] = np.where(absent['Reason for absence'] == 0, 'Disciplinary', \n",
        "                                   np.where(absent['Reason for absence'] < 15, 'Disease',\n",
        "                                   np.where(absent['Reason for absence'] < 22, 'Not_Disease', 'Other')))\n",
        "absent = pd.concat([absent,\n",
        "                    pd.get_dummies(absent['Reason_groups'], prefix='Reason', drop_first=True)],\n",
        "                   axis = 1)\n",
        "absent.drop(['Reason for absence', 'Reason_groups'], 1, inplace=True)\n",
        "\n",
        "absent = absent.loc[absent['Month of absence'] != 0]\n",
        "\n",
        "absent.drop('Month of absence', 1, inplace=True)\n",
        "\n",
        "absent = pd.concat([absent,\n",
        "                    pd.get_dummies(absent['Seasons'], prefix='Season', drop_first=True)],\n",
        "                   axis = 1)\n",
        "\n",
        "absent.drop('Seasons', 1, inplace=True)\n",
        "\n",
        "absent = pd.concat([absent,\n",
        "                    pd.get_dummies(absent['Day of the week'], prefix='Day', drop_first=True)],\n",
        "                   axis = 1)\n",
        "\n",
        "absent.drop('Day of the week', 1, inplace=True)\n",
        "\n",
        "absent.drop('Disciplinary failure', 1, inplace=True)\n",
        "\n",
        "absent = pd.concat([absent,\n",
        "                    pd.get_dummies(absent['Education'], prefix='Education', drop_first=True)],\n",
        "                   axis = 1)\n",
        "\n",
        "absent.drop('Education', 1, inplace=True)\n",
        "\n",
        "absent.head()"
      ],
      "execution_count": 4,
      "outputs": [
        {
          "output_type": "execute_result",
          "data": {
            "text/html": [
              "<div>\n",
              "<style scoped>\n",
              "    .dataframe tbody tr th:only-of-type {\n",
              "        vertical-align: middle;\n",
              "    }\n",
              "\n",
              "    .dataframe tbody tr th {\n",
              "        vertical-align: top;\n",
              "    }\n",
              "\n",
              "    .dataframe thead th {\n",
              "        text-align: right;\n",
              "    }\n",
              "</style>\n",
              "<table border=\"1\" class=\"dataframe\">\n",
              "  <thead>\n",
              "    <tr style=\"text-align: right;\">\n",
              "      <th></th>\n",
              "      <th>Transportation expense</th>\n",
              "      <th>Distance from Residence to Work</th>\n",
              "      <th>Service time</th>\n",
              "      <th>Age</th>\n",
              "      <th>Work load Average/day</th>\n",
              "      <th>Hit target</th>\n",
              "      <th>Son</th>\n",
              "      <th>Social drinker</th>\n",
              "      <th>Social smoker</th>\n",
              "      <th>Pet</th>\n",
              "      <th>Height</th>\n",
              "      <th>Body mass index</th>\n",
              "      <th>Absenteeism time in hours</th>\n",
              "      <th>Reason_Disease</th>\n",
              "      <th>Reason_Not_Disease</th>\n",
              "      <th>Reason_Other</th>\n",
              "      <th>Season_2</th>\n",
              "      <th>Season_3</th>\n",
              "      <th>Season_4</th>\n",
              "      <th>Day_3</th>\n",
              "      <th>Day_4</th>\n",
              "      <th>Day_5</th>\n",
              "      <th>Day_6</th>\n",
              "      <th>Education_2</th>\n",
              "      <th>Education_3</th>\n",
              "      <th>Education_4</th>\n",
              "    </tr>\n",
              "  </thead>\n",
              "  <tbody>\n",
              "    <tr>\n",
              "      <th>0</th>\n",
              "      <td>289</td>\n",
              "      <td>36</td>\n",
              "      <td>13</td>\n",
              "      <td>33</td>\n",
              "      <td>239.554</td>\n",
              "      <td>97</td>\n",
              "      <td>2</td>\n",
              "      <td>1</td>\n",
              "      <td>0</td>\n",
              "      <td>1</td>\n",
              "      <td>172</td>\n",
              "      <td>30</td>\n",
              "      <td>4</td>\n",
              "      <td>0</td>\n",
              "      <td>0</td>\n",
              "      <td>1</td>\n",
              "      <td>0</td>\n",
              "      <td>0</td>\n",
              "      <td>0</td>\n",
              "      <td>1</td>\n",
              "      <td>0</td>\n",
              "      <td>0</td>\n",
              "      <td>0</td>\n",
              "      <td>0</td>\n",
              "      <td>0</td>\n",
              "      <td>0</td>\n",
              "    </tr>\n",
              "    <tr>\n",
              "      <th>1</th>\n",
              "      <td>118</td>\n",
              "      <td>13</td>\n",
              "      <td>18</td>\n",
              "      <td>50</td>\n",
              "      <td>239.554</td>\n",
              "      <td>97</td>\n",
              "      <td>1</td>\n",
              "      <td>1</td>\n",
              "      <td>0</td>\n",
              "      <td>0</td>\n",
              "      <td>178</td>\n",
              "      <td>31</td>\n",
              "      <td>0</td>\n",
              "      <td>0</td>\n",
              "      <td>0</td>\n",
              "      <td>0</td>\n",
              "      <td>0</td>\n",
              "      <td>0</td>\n",
              "      <td>0</td>\n",
              "      <td>1</td>\n",
              "      <td>0</td>\n",
              "      <td>0</td>\n",
              "      <td>0</td>\n",
              "      <td>0</td>\n",
              "      <td>0</td>\n",
              "      <td>0</td>\n",
              "    </tr>\n",
              "    <tr>\n",
              "      <th>2</th>\n",
              "      <td>179</td>\n",
              "      <td>51</td>\n",
              "      <td>18</td>\n",
              "      <td>38</td>\n",
              "      <td>239.554</td>\n",
              "      <td>97</td>\n",
              "      <td>0</td>\n",
              "      <td>1</td>\n",
              "      <td>0</td>\n",
              "      <td>0</td>\n",
              "      <td>170</td>\n",
              "      <td>31</td>\n",
              "      <td>2</td>\n",
              "      <td>0</td>\n",
              "      <td>0</td>\n",
              "      <td>1</td>\n",
              "      <td>0</td>\n",
              "      <td>0</td>\n",
              "      <td>0</td>\n",
              "      <td>0</td>\n",
              "      <td>1</td>\n",
              "      <td>0</td>\n",
              "      <td>0</td>\n",
              "      <td>0</td>\n",
              "      <td>0</td>\n",
              "      <td>0</td>\n",
              "    </tr>\n",
              "    <tr>\n",
              "      <th>3</th>\n",
              "      <td>279</td>\n",
              "      <td>5</td>\n",
              "      <td>14</td>\n",
              "      <td>39</td>\n",
              "      <td>239.554</td>\n",
              "      <td>97</td>\n",
              "      <td>2</td>\n",
              "      <td>1</td>\n",
              "      <td>1</td>\n",
              "      <td>0</td>\n",
              "      <td>168</td>\n",
              "      <td>24</td>\n",
              "      <td>4</td>\n",
              "      <td>1</td>\n",
              "      <td>0</td>\n",
              "      <td>0</td>\n",
              "      <td>0</td>\n",
              "      <td>0</td>\n",
              "      <td>0</td>\n",
              "      <td>0</td>\n",
              "      <td>0</td>\n",
              "      <td>1</td>\n",
              "      <td>0</td>\n",
              "      <td>0</td>\n",
              "      <td>0</td>\n",
              "      <td>0</td>\n",
              "    </tr>\n",
              "    <tr>\n",
              "      <th>4</th>\n",
              "      <td>289</td>\n",
              "      <td>36</td>\n",
              "      <td>13</td>\n",
              "      <td>33</td>\n",
              "      <td>239.554</td>\n",
              "      <td>97</td>\n",
              "      <td>2</td>\n",
              "      <td>1</td>\n",
              "      <td>0</td>\n",
              "      <td>1</td>\n",
              "      <td>172</td>\n",
              "      <td>30</td>\n",
              "      <td>2</td>\n",
              "      <td>0</td>\n",
              "      <td>0</td>\n",
              "      <td>1</td>\n",
              "      <td>0</td>\n",
              "      <td>0</td>\n",
              "      <td>0</td>\n",
              "      <td>0</td>\n",
              "      <td>0</td>\n",
              "      <td>1</td>\n",
              "      <td>0</td>\n",
              "      <td>0</td>\n",
              "      <td>0</td>\n",
              "      <td>0</td>\n",
              "    </tr>\n",
              "  </tbody>\n",
              "</table>\n",
              "</div>"
            ],
            "text/plain": [
              "   Transportation expense  ...  Education_4\n",
              "0                     289  ...            0\n",
              "1                     118  ...            0\n",
              "2                     179  ...            0\n",
              "3                     279  ...            0\n",
              "4                     289  ...            0\n",
              "\n",
              "[5 rows x 26 columns]"
            ]
          },
          "metadata": {
            "tags": []
          },
          "execution_count": 4
        }
      ]
    },
    {
      "cell_type": "code",
      "metadata": {
        "id": "3VePSftDrqWc"
      },
      "source": [
        "y = absent['Absenteeism time in hours']\n",
        "X = absent.drop('Absenteeism time in hours', 1)"
      ],
      "execution_count": 5,
      "outputs": []
    },
    {
      "cell_type": "code",
      "metadata": {
        "id": "-vg8scbMaR_L"
      },
      "source": [
        "X_train, X_test, y_train, y_test = train_test_split(X, y, test_size=0.2)"
      ],
      "execution_count": 6,
      "outputs": []
    },
    {
      "cell_type": "markdown",
      "metadata": {
        "id": "p-_QJzwYrqWa"
      },
      "source": [
        "Scale the independent variables using the standard scaler"
      ]
    },
    {
      "cell_type": "code",
      "metadata": {
        "id": "gLrzWsW9aPtW"
      },
      "source": [
        "# answer below:\n",
        "scaler = StandardScaler()\n",
        "\n",
        "X_train_sc = scaler.fit_transform(X_train)\n",
        "X_test_sc = scaler.transform(X_test)"
      ],
      "execution_count": 7,
      "outputs": []
    },
    {
      "cell_type": "markdown",
      "metadata": {
        "id": "Z7aLdNOIrqWe"
      },
      "source": [
        "Generate an SVR model to predict the number of hours of absenteeism. Compare the train and test scores."
      ]
    },
    {
      "cell_type": "code",
      "metadata": {
        "id": "By2JhvYwrqWe",
        "outputId": "fe1e9ebb-28a1-4a24-e07e-7ac30edf4849",
        "colab": {
          "base_uri": "https://localhost:8080/"
        }
      },
      "source": [
        "# answer below:\n",
        "svr_linear = SVR(kernel='linear')\n",
        "\n",
        "svr_linear.fit(X_train_sc, y_train)"
      ],
      "execution_count": 8,
      "outputs": [
        {
          "output_type": "execute_result",
          "data": {
            "text/plain": [
              "SVR(C=1.0, cache_size=200, coef0=0.0, degree=3, epsilon=0.1, gamma='scale',\n",
              "    kernel='linear', max_iter=-1, shrinking=True, tol=0.001, verbose=False)"
            ]
          },
          "metadata": {
            "tags": []
          },
          "execution_count": 8
        }
      ]
    },
    {
      "cell_type": "code",
      "metadata": {
        "id": "gq0zD1b7bG52"
      },
      "source": [
        "def get_scores(model, X_train, X_test, y_train, y_test, verbose=False):\n",
        "  if verbose:\n",
        "    print(f'Training Scores: {model.score(X_train, y_train)}')\n",
        "    print(f'Test Scores: {model.score(X_test, y_test)}')\n",
        "  return model.score(X_train, y_train), model.score(X_test, y_test)"
      ],
      "execution_count": 9,
      "outputs": []
    },
    {
      "cell_type": "code",
      "metadata": {
        "id": "jnV6U0nVbO8x",
        "outputId": "793da6d0-f700-4675-f8bf-d060c5bfbd45",
        "colab": {
          "base_uri": "https://localhost:8080/"
        }
      },
      "source": [
        "get_scores(svr_linear, X_train_sc, X_test_sc, y_train, y_test, verbose=True)"
      ],
      "execution_count": 10,
      "outputs": [
        {
          "output_type": "stream",
          "text": [
            "Training Scores: 0.07544061981991101\n",
            "Test Scores: 0.1293888441203096\n"
          ],
          "name": "stdout"
        },
        {
          "output_type": "execute_result",
          "data": {
            "text/plain": [
              "(0.07544061981991101, 0.1293888441203096)"
            ]
          },
          "metadata": {
            "tags": []
          },
          "execution_count": 10
        }
      ]
    },
    {
      "cell_type": "markdown",
      "metadata": {
        "id": "_sn-m37hrqWg"
      },
      "source": [
        "If you are unhappy with your model's performance, perform a grid search to optimize C. You may also want to compare something other than R squared, like MSE, and could try some other kernels than just linear."
      ]
    },
    {
      "cell_type": "code",
      "metadata": {
        "id": "BpvxxapErqWg",
        "outputId": "446d7769-7ce0-4757-a1da-702856e83e6e",
        "colab": {
          "base_uri": "https://localhost:8080/"
        }
      },
      "source": [
        "# answer below:\n",
        "svr_best = SVR()\n",
        "\n",
        "params = {'kernel': ['rbf'], 'C': [25,30,35,40,45,50], 'epsilon':[4,4.5,5,5.5,6], 'gamma': ['scale', 'auto']}\n",
        "\n",
        "svr_grid = GridSearchCV(svr_best, param_grid=params, scoring='neg_mean_squared_error', cv=5)\n",
        "svr_grid.fit(X_train_sc, y_train)"
      ],
      "execution_count": 61,
      "outputs": [
        {
          "output_type": "execute_result",
          "data": {
            "text/plain": [
              "GridSearchCV(cv=5, error_score=nan,\n",
              "             estimator=SVR(C=1.0, cache_size=200, coef0=0.0, degree=3,\n",
              "                           epsilon=0.1, gamma='scale', kernel='rbf',\n",
              "                           max_iter=-1, shrinking=True, tol=0.001,\n",
              "                           verbose=False),\n",
              "             iid='deprecated', n_jobs=None,\n",
              "             param_grid={'C': [25, 30, 35, 40, 45, 50],\n",
              "                         'epsilon': [4, 4.5, 5, 5.5, 6],\n",
              "                         'gamma': ['scale', 'auto'], 'kernel': ['rbf']},\n",
              "             pre_dispatch='2*n_jobs', refit=True, return_train_score=False,\n",
              "             scoring='neg_mean_squared_error', verbose=0)"
            ]
          },
          "metadata": {
            "tags": []
          },
          "execution_count": 61
        }
      ]
    },
    {
      "cell_type": "code",
      "metadata": {
        "id": "ArLH5A8reS2y",
        "outputId": "378e8585-209e-4bdf-a60a-8687314ac183",
        "colab": {
          "base_uri": "https://localhost:8080/"
        }
      },
      "source": [
        "svr_grid.best_estimator_"
      ],
      "execution_count": 62,
      "outputs": [
        {
          "output_type": "execute_result",
          "data": {
            "text/plain": [
              "SVR(C=30, cache_size=200, coef0=0.0, degree=3, epsilon=5, gamma='auto',\n",
              "    kernel='rbf', max_iter=-1, shrinking=True, tol=0.001, verbose=False)"
            ]
          },
          "metadata": {
            "tags": []
          },
          "execution_count": 62
        }
      ]
    },
    {
      "cell_type": "code",
      "metadata": {
        "id": "CeiVFusueX-t",
        "outputId": "c6faf83d-8f4f-45b0-d359-037038a99b8f",
        "colab": {
          "base_uri": "https://localhost:8080/"
        }
      },
      "source": [
        "get_scores(svr_grid, X_train_sc, X_test_sc, y_train, y_test, verbose=True)"
      ],
      "execution_count": 63,
      "outputs": [
        {
          "output_type": "stream",
          "text": [
            "Training Scores: -130.74410876980113\n",
            "Test Scores: -70.40132539617656\n"
          ],
          "name": "stdout"
        },
        {
          "output_type": "execute_result",
          "data": {
            "text/plain": [
              "(-130.74410876980113, -70.40132539617656)"
            ]
          },
          "metadata": {
            "tags": []
          },
          "execution_count": 63
        }
      ]
    },
    {
      "cell_type": "code",
      "metadata": {
        "id": "i9WKS551hG67"
      },
      "source": [
        "y_pred_train = svr_grid.best_estimator_.predict(X_train_sc)\n",
        "y_pred_test = svr_grid.predict(X_test_sc)"
      ],
      "execution_count": 64,
      "outputs": []
    },
    {
      "cell_type": "code",
      "metadata": {
        "id": "bEFyZQ4uiI7E",
        "outputId": "25f25609-2162-4b08-9908-a560fa75c4f7",
        "colab": {
          "base_uri": "https://localhost:8080/"
        }
      },
      "source": [
        "print(f'Training R^2: {r2_score(y_train, y_pred_train)}')\n",
        "print(f'Test R^2: {r2_score(y_test, y_pred_test)}')"
      ],
      "execution_count": 65,
      "outputs": [
        {
          "output_type": "stream",
          "text": [
            "Training R^2: 0.3503969672984585\n",
            "Test R^2: 0.17339004367760713\n"
          ],
          "name": "stdout"
        }
      ]
    },
    {
      "cell_type": "markdown",
      "metadata": {
        "id": "BWn-9lYNa1Nh"
      },
      "source": [
        "Create a homoscedasticity (residual) plot. Look back at your KNN regression exercise (Day 32 Lecture 1). How do your model results compare?"
      ]
    },
    {
      "cell_type": "code",
      "metadata": {
        "id": "qkQ846fqrqWi",
        "outputId": "930ec381-aa73-494b-a157-1859c1dc7530",
        "colab": {
          "base_uri": "https://localhost:8080/"
        }
      },
      "source": [
        "# answer below:\n",
        "residuals_training = np.array(y_pred_train) - np.array(y_train)\n",
        "np.mean(residuals_training)"
      ],
      "execution_count": 66,
      "outputs": [
        {
          "output_type": "execute_result",
          "data": {
            "text/plain": [
              "-0.23398479699043187"
            ]
          },
          "metadata": {
            "tags": []
          },
          "execution_count": 66
        }
      ]
    },
    {
      "cell_type": "code",
      "metadata": {
        "id": "1pnYBoWEi_pm",
        "outputId": "f6447a59-1083-42a6-e2db-fca9fbe355f8",
        "colab": {
          "base_uri": "https://localhost:8080/",
          "height": 279
        }
      },
      "source": [
        "plt.scatter(y_pred_train, residuals_training)\n",
        "plt.axhline(y=0)\n",
        "plt.xlabel('Prediction')\n",
        "plt.show()"
      ],
      "execution_count": 68,
      "outputs": [
        {
          "output_type": "display_data",
          "data": {
            "image/png": "[encoded data removed]",
            "text/plain": [
              "<Figure size 432x288 with 1 Axes>"
            ]
          },
          "metadata": {
            "tags": [],
            "needs_background": "light"
          }
        }
      ]
    },
    {
      "cell_type": "markdown",
      "metadata": {
        "id": "sr1sj0i-GH23"
      },
      "source": [
        "The error is greatly reduced compared to the KNN model, though it follows a similar trend. Predicted values of less than 15 have fewer residuals than the KNN model."
      ]
    },
    {
      "cell_type": "markdown",
      "metadata": {
        "id": "-HGkL6HlGFJC"
      },
      "source": [
        "![image.png](data:image/png;base64,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)"
      ]
    },
    {
      "cell_type": "code",
      "metadata": {
        "id": "qkOPG8FpGGBh"
      },
      "source": [
        ""
      ],
      "execution_count": null,
      "outputs": []
    }
  ]
}