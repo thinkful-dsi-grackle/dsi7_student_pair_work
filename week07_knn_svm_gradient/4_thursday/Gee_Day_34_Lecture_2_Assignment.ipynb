{
  "nbformat": 4,
  "nbformat_minor": 0,
  "metadata": {
    "colab": {
      "name": "Day 34 Lecture 2 Assignment.ipynb",
      "provenance": [],
      "collapsed_sections": []
    },
    "kernelspec": {
      "name": "python3",
      "display_name": "Python 3"
    }
  },
  "cells": [
    {
      "cell_type": "markdown",
      "metadata": {
        "id": "UZ0PB7OotRiv"
      },
      "source": [
        "## Day 34 Lecture 2 Assignment\n",
        "\n",
        "In this assignment, we will learn about gradient boosting. We will use a dataset of house information in Ames, Iowa, predicting sale price."
      ]
    },
    {
      "cell_type": "code",
      "metadata": {
        "id": "C0UOmpNaoxY3"
      },
      "source": [
        "%matplotlib inline\n",
        "\n",
        "import numpy as np\n",
        "import pandas as pd\n",
        "import matplotlib.pyplot as plt\n",
        "import seaborn as sns\n",
        "from sklearn.model_selection import train_test_split\n",
        "from sklearn.ensemble import GradientBoostingRegressor\n",
        "from sklearn.metrics import mean_absolute_error\n",
        "from sklearn.model_selection import GridSearchCV\n",
        "from sklearn import metrics"
      ],
      "execution_count": 114,
      "outputs": []
    },
    {
      "cell_type": "code",
      "metadata": {
        "id": "w7Kds8QGozo9",
        "outputId": "711c0f10-eb0c-4d9e-dd59-e16326108a1d",
        "colab": {
          "base_uri": "https://localhost:8080/",
          "height": 270
        }
      },
      "source": [
        "house = pd.read_csv('https://tf-assets-prod.s3.amazonaws.com/tf-curric/data-science/houseprices.csv')\n",
        "print(house.shape)\n",
        "house.head()"
      ],
      "execution_count": 115,
      "outputs": [
        {
          "output_type": "stream",
          "text": [
            "(1460, 81)\n"
          ],
          "name": "stdout"
        },
        {
          "output_type": "execute_result",
          "data": {
            "text/html": [
              "<div>\n",
              "<style scoped>\n",
              "    .dataframe tbody tr th:only-of-type {\n",
              "        vertical-align: middle;\n",
              "    }\n",
              "\n",
              "    .dataframe tbody tr th {\n",
              "        vertical-align: top;\n",
              "    }\n",
              "\n",
              "    .dataframe thead th {\n",
              "        text-align: right;\n",
              "    }\n",
              "</style>\n",
              "<table border=\"1\" class=\"dataframe\">\n",
              "  <thead>\n",
              "    <tr style=\"text-align: right;\">\n",
              "      <th></th>\n",
              "      <th>id</th>\n",
              "      <th>mssubclass</th>\n",
              "      <th>mszoning</th>\n",
              "      <th>lotfrontage</th>\n",
              "      <th>lotarea</th>\n",
              "      <th>street</th>\n",
              "      <th>alley</th>\n",
              "      <th>lotshape</th>\n",
              "      <th>landcontour</th>\n",
              "      <th>utilities</th>\n",
              "      <th>lotconfig</th>\n",
              "      <th>landslope</th>\n",
              "      <th>neighborhood</th>\n",
              "      <th>condition1</th>\n",
              "      <th>condition2</th>\n",
              "      <th>bldgtype</th>\n",
              "      <th>housestyle</th>\n",
              "      <th>overallqual</th>\n",
              "      <th>overallcond</th>\n",
              "      <th>yearbuilt</th>\n",
              "      <th>yearremodadd</th>\n",
              "      <th>roofstyle</th>\n",
              "      <th>roofmatl</th>\n",
              "      <th>exterior1st</th>\n",
              "      <th>exterior2nd</th>\n",
              "      <th>masvnrtype</th>\n",
              "      <th>masvnrarea</th>\n",
              "      <th>exterqual</th>\n",
              "      <th>extercond</th>\n",
              "      <th>foundation</th>\n",
              "      <th>bsmtqual</th>\n",
              "      <th>bsmtcond</th>\n",
              "      <th>bsmtexposure</th>\n",
              "      <th>bsmtfintype1</th>\n",
              "      <th>bsmtfinsf1</th>\n",
              "      <th>bsmtfintype2</th>\n",
              "      <th>bsmtfinsf2</th>\n",
              "      <th>bsmtunfsf</th>\n",
              "      <th>totalbsmtsf</th>\n",
              "      <th>heating</th>\n",
              "      <th>...</th>\n",
              "      <th>centralair</th>\n",
              "      <th>electrical</th>\n",
              "      <th>firstflrsf</th>\n",
              "      <th>secondflrsf</th>\n",
              "      <th>lowqualfinsf</th>\n",
              "      <th>grlivarea</th>\n",
              "      <th>bsmtfullbath</th>\n",
              "      <th>bsmthalfbath</th>\n",
              "      <th>fullbath</th>\n",
              "      <th>halfbath</th>\n",
              "      <th>bedroomabvgr</th>\n",
              "      <th>kitchenabvgr</th>\n",
              "      <th>kitchenqual</th>\n",
              "      <th>totrmsabvgrd</th>\n",
              "      <th>functional</th>\n",
              "      <th>fireplaces</th>\n",
              "      <th>fireplacequ</th>\n",
              "      <th>garagetype</th>\n",
              "      <th>garageyrblt</th>\n",
              "      <th>garagefinish</th>\n",
              "      <th>garagecars</th>\n",
              "      <th>garagearea</th>\n",
              "      <th>garagequal</th>\n",
              "      <th>garagecond</th>\n",
              "      <th>paveddrive</th>\n",
              "      <th>wooddecksf</th>\n",
              "      <th>openporchsf</th>\n",
              "      <th>enclosedporch</th>\n",
              "      <th>threessnporch</th>\n",
              "      <th>screenporch</th>\n",
              "      <th>poolarea</th>\n",
              "      <th>poolqc</th>\n",
              "      <th>fence</th>\n",
              "      <th>miscfeature</th>\n",
              "      <th>miscval</th>\n",
              "      <th>mosold</th>\n",
              "      <th>yrsold</th>\n",
              "      <th>saletype</th>\n",
              "      <th>salecondition</th>\n",
              "      <th>saleprice</th>\n",
              "    </tr>\n",
              "  </thead>\n",
              "  <tbody>\n",
              "    <tr>\n",
              "      <th>0</th>\n",
              "      <td>1</td>\n",
              "      <td>60</td>\n",
              "      <td>RL</td>\n",
              "      <td>65.0</td>\n",
              "      <td>8450</td>\n",
              "      <td>Pave</td>\n",
              "      <td>NaN</td>\n",
              "      <td>Reg</td>\n",
              "      <td>Lvl</td>\n",
              "      <td>AllPub</td>\n",
              "      <td>Inside</td>\n",
              "      <td>Gtl</td>\n",
              "      <td>CollgCr</td>\n",
              "      <td>Norm</td>\n",
              "      <td>Norm</td>\n",
              "      <td>1Fam</td>\n",
              "      <td>2Story</td>\n",
              "      <td>7</td>\n",
              "      <td>5</td>\n",
              "      <td>2003</td>\n",
              "      <td>2003</td>\n",
              "      <td>Gable</td>\n",
              "      <td>CompShg</td>\n",
              "      <td>VinylSd</td>\n",
              "      <td>VinylSd</td>\n",
              "      <td>BrkFace</td>\n",
              "      <td>196.0</td>\n",
              "      <td>Gd</td>\n",
              "      <td>TA</td>\n",
              "      <td>PConc</td>\n",
              "      <td>Gd</td>\n",
              "      <td>TA</td>\n",
              "      <td>No</td>\n",
              "      <td>GLQ</td>\n",
              "      <td>706</td>\n",
              "      <td>Unf</td>\n",
              "      <td>0</td>\n",
              "      <td>150</td>\n",
              "      <td>856</td>\n",
              "      <td>GasA</td>\n",
              "      <td>...</td>\n",
              "      <td>Y</td>\n",
              "      <td>SBrkr</td>\n",
              "      <td>856</td>\n",
              "      <td>854</td>\n",
              "      <td>0</td>\n",
              "      <td>1710</td>\n",
              "      <td>1</td>\n",
              "      <td>0</td>\n",
              "      <td>2</td>\n",
              "      <td>1</td>\n",
              "      <td>3</td>\n",
              "      <td>1</td>\n",
              "      <td>Gd</td>\n",
              "      <td>8</td>\n",
              "      <td>Typ</td>\n",
              "      <td>0</td>\n",
              "      <td>NaN</td>\n",
              "      <td>Attchd</td>\n",
              "      <td>2003.0</td>\n",
              "      <td>RFn</td>\n",
              "      <td>2</td>\n",
              "      <td>548</td>\n",
              "      <td>TA</td>\n",
              "      <td>TA</td>\n",
              "      <td>Y</td>\n",
              "      <td>0</td>\n",
              "      <td>61</td>\n",
              "      <td>0</td>\n",
              "      <td>0</td>\n",
              "      <td>0</td>\n",
              "      <td>0</td>\n",
              "      <td>NaN</td>\n",
              "      <td>NaN</td>\n",
              "      <td>NaN</td>\n",
              "      <td>0</td>\n",
              "      <td>2</td>\n",
              "      <td>2008</td>\n",
              "      <td>WD</td>\n",
              "      <td>Normal</td>\n",
              "      <td>208500</td>\n",
              "    </tr>\n",
              "    <tr>\n",
              "      <th>1</th>\n",
              "      <td>2</td>\n",
              "      <td>20</td>\n",
              "      <td>RL</td>\n",
              "      <td>80.0</td>\n",
              "      <td>9600</td>\n",
              "      <td>Pave</td>\n",
              "      <td>NaN</td>\n",
              "      <td>Reg</td>\n",
              "      <td>Lvl</td>\n",
              "      <td>AllPub</td>\n",
              "      <td>FR2</td>\n",
              "      <td>Gtl</td>\n",
              "      <td>Veenker</td>\n",
              "      <td>Feedr</td>\n",
              "      <td>Norm</td>\n",
              "      <td>1Fam</td>\n",
              "      <td>1Story</td>\n",
              "      <td>6</td>\n",
              "      <td>8</td>\n",
              "      <td>1976</td>\n",
              "      <td>1976</td>\n",
              "      <td>Gable</td>\n",
              "      <td>CompShg</td>\n",
              "      <td>MetalSd</td>\n",
              "      <td>MetalSd</td>\n",
              "      <td>None</td>\n",
              "      <td>0.0</td>\n",
              "      <td>TA</td>\n",
              "      <td>TA</td>\n",
              "      <td>CBlock</td>\n",
              "      <td>Gd</td>\n",
              "      <td>TA</td>\n",
              "      <td>Gd</td>\n",
              "      <td>ALQ</td>\n",
              "      <td>978</td>\n",
              "      <td>Unf</td>\n",
              "      <td>0</td>\n",
              "      <td>284</td>\n",
              "      <td>1262</td>\n",
              "      <td>GasA</td>\n",
              "      <td>...</td>\n",
              "      <td>Y</td>\n",
              "      <td>SBrkr</td>\n",
              "      <td>1262</td>\n",
              "      <td>0</td>\n",
              "      <td>0</td>\n",
              "      <td>1262</td>\n",
              "      <td>0</td>\n",
              "      <td>1</td>\n",
              "      <td>2</td>\n",
              "      <td>0</td>\n",
              "      <td>3</td>\n",
              "      <td>1</td>\n",
              "      <td>TA</td>\n",
              "      <td>6</td>\n",
              "      <td>Typ</td>\n",
              "      <td>1</td>\n",
              "      <td>TA</td>\n",
              "      <td>Attchd</td>\n",
              "      <td>1976.0</td>\n",
              "      <td>RFn</td>\n",
              "      <td>2</td>\n",
              "      <td>460</td>\n",
              "      <td>TA</td>\n",
              "      <td>TA</td>\n",
              "      <td>Y</td>\n",
              "      <td>298</td>\n",
              "      <td>0</td>\n",
              "      <td>0</td>\n",
              "      <td>0</td>\n",
              "      <td>0</td>\n",
              "      <td>0</td>\n",
              "      <td>NaN</td>\n",
              "      <td>NaN</td>\n",
              "      <td>NaN</td>\n",
              "      <td>0</td>\n",
              "      <td>5</td>\n",
              "      <td>2007</td>\n",
              "      <td>WD</td>\n",
              "      <td>Normal</td>\n",
              "      <td>181500</td>\n",
              "    </tr>\n",
              "    <tr>\n",
              "      <th>2</th>\n",
              "      <td>3</td>\n",
              "      <td>60</td>\n",
              "      <td>RL</td>\n",
              "      <td>68.0</td>\n",
              "      <td>11250</td>\n",
              "      <td>Pave</td>\n",
              "      <td>NaN</td>\n",
              "      <td>IR1</td>\n",
              "      <td>Lvl</td>\n",
              "      <td>AllPub</td>\n",
              "      <td>Inside</td>\n",
              "      <td>Gtl</td>\n",
              "      <td>CollgCr</td>\n",
              "      <td>Norm</td>\n",
              "      <td>Norm</td>\n",
              "      <td>1Fam</td>\n",
              "      <td>2Story</td>\n",
              "      <td>7</td>\n",
              "      <td>5</td>\n",
              "      <td>2001</td>\n",
              "      <td>2002</td>\n",
              "      <td>Gable</td>\n",
              "      <td>CompShg</td>\n",
              "      <td>VinylSd</td>\n",
              "      <td>VinylSd</td>\n",
              "      <td>BrkFace</td>\n",
              "      <td>162.0</td>\n",
              "      <td>Gd</td>\n",
              "      <td>TA</td>\n",
              "      <td>PConc</td>\n",
              "      <td>Gd</td>\n",
              "      <td>TA</td>\n",
              "      <td>Mn</td>\n",
              "      <td>GLQ</td>\n",
              "      <td>486</td>\n",
              "      <td>Unf</td>\n",
              "      <td>0</td>\n",
              "      <td>434</td>\n",
              "      <td>920</td>\n",
              "      <td>GasA</td>\n",
              "      <td>...</td>\n",
              "      <td>Y</td>\n",
              "      <td>SBrkr</td>\n",
              "      <td>920</td>\n",
              "      <td>866</td>\n",
              "      <td>0</td>\n",
              "      <td>1786</td>\n",
              "      <td>1</td>\n",
              "      <td>0</td>\n",
              "      <td>2</td>\n",
              "      <td>1</td>\n",
              "      <td>3</td>\n",
              "      <td>1</td>\n",
              "      <td>Gd</td>\n",
              "      <td>6</td>\n",
              "      <td>Typ</td>\n",
              "      <td>1</td>\n",
              "      <td>TA</td>\n",
              "      <td>Attchd</td>\n",
              "      <td>2001.0</td>\n",
              "      <td>RFn</td>\n",
              "      <td>2</td>\n",
              "      <td>608</td>\n",
              "      <td>TA</td>\n",
              "      <td>TA</td>\n",
              "      <td>Y</td>\n",
              "      <td>0</td>\n",
              "      <td>42</td>\n",
              "      <td>0</td>\n",
              "      <td>0</td>\n",
              "      <td>0</td>\n",
              "      <td>0</td>\n",
              "      <td>NaN</td>\n",
              "      <td>NaN</td>\n",
              "      <td>NaN</td>\n",
              "      <td>0</td>\n",
              "      <td>9</td>\n",
              "      <td>2008</td>\n",
              "      <td>WD</td>\n",
              "      <td>Normal</td>\n",
              "      <td>223500</td>\n",
              "    </tr>\n",
              "    <tr>\n",
              "      <th>3</th>\n",
              "      <td>4</td>\n",
              "      <td>70</td>\n",
              "      <td>RL</td>\n",
              "      <td>60.0</td>\n",
              "      <td>9550</td>\n",
              "      <td>Pave</td>\n",
              "      <td>NaN</td>\n",
              "      <td>IR1</td>\n",
              "      <td>Lvl</td>\n",
              "      <td>AllPub</td>\n",
              "      <td>Corner</td>\n",
              "      <td>Gtl</td>\n",
              "      <td>Crawfor</td>\n",
              "      <td>Norm</td>\n",
              "      <td>Norm</td>\n",
              "      <td>1Fam</td>\n",
              "      <td>2Story</td>\n",
              "      <td>7</td>\n",
              "      <td>5</td>\n",
              "      <td>1915</td>\n",
              "      <td>1970</td>\n",
              "      <td>Gable</td>\n",
              "      <td>CompShg</td>\n",
              "      <td>Wd Sdng</td>\n",
              "      <td>Wd Shng</td>\n",
              "      <td>None</td>\n",
              "      <td>0.0</td>\n",
              "      <td>TA</td>\n",
              "      <td>TA</td>\n",
              "      <td>BrkTil</td>\n",
              "      <td>TA</td>\n",
              "      <td>Gd</td>\n",
              "      <td>No</td>\n",
              "      <td>ALQ</td>\n",
              "      <td>216</td>\n",
              "      <td>Unf</td>\n",
              "      <td>0</td>\n",
              "      <td>540</td>\n",
              "      <td>756</td>\n",
              "      <td>GasA</td>\n",
              "      <td>...</td>\n",
              "      <td>Y</td>\n",
              "      <td>SBrkr</td>\n",
              "      <td>961</td>\n",
              "      <td>756</td>\n",
              "      <td>0</td>\n",
              "      <td>1717</td>\n",
              "      <td>1</td>\n",
              "      <td>0</td>\n",
              "      <td>1</td>\n",
              "      <td>0</td>\n",
              "      <td>3</td>\n",
              "      <td>1</td>\n",
              "      <td>Gd</td>\n",
              "      <td>7</td>\n",
              "      <td>Typ</td>\n",
              "      <td>1</td>\n",
              "      <td>Gd</td>\n",
              "      <td>Detchd</td>\n",
              "      <td>1998.0</td>\n",
              "      <td>Unf</td>\n",
              "      <td>3</td>\n",
              "      <td>642</td>\n",
              "      <td>TA</td>\n",
              "      <td>TA</td>\n",
              "      <td>Y</td>\n",
              "      <td>0</td>\n",
              "      <td>35</td>\n",
              "      <td>272</td>\n",
              "      <td>0</td>\n",
              "      <td>0</td>\n",
              "      <td>0</td>\n",
              "      <td>NaN</td>\n",
              "      <td>NaN</td>\n",
              "      <td>NaN</td>\n",
              "      <td>0</td>\n",
              "      <td>2</td>\n",
              "      <td>2006</td>\n",
              "      <td>WD</td>\n",
              "      <td>Abnorml</td>\n",
              "      <td>140000</td>\n",
              "    </tr>\n",
              "    <tr>\n",
              "      <th>4</th>\n",
              "      <td>5</td>\n",
              "      <td>60</td>\n",
              "      <td>RL</td>\n",
              "      <td>84.0</td>\n",
              "      <td>14260</td>\n",
              "      <td>Pave</td>\n",
              "      <td>NaN</td>\n",
              "      <td>IR1</td>\n",
              "      <td>Lvl</td>\n",
              "      <td>AllPub</td>\n",
              "      <td>FR2</td>\n",
              "      <td>Gtl</td>\n",
              "      <td>NoRidge</td>\n",
              "      <td>Norm</td>\n",
              "      <td>Norm</td>\n",
              "      <td>1Fam</td>\n",
              "      <td>2Story</td>\n",
              "      <td>8</td>\n",
              "      <td>5</td>\n",
              "      <td>2000</td>\n",
              "      <td>2000</td>\n",
              "      <td>Gable</td>\n",
              "      <td>CompShg</td>\n",
              "      <td>VinylSd</td>\n",
              "      <td>VinylSd</td>\n",
              "      <td>BrkFace</td>\n",
              "      <td>350.0</td>\n",
              "      <td>Gd</td>\n",
              "      <td>TA</td>\n",
              "      <td>PConc</td>\n",
              "      <td>Gd</td>\n",
              "      <td>TA</td>\n",
              "      <td>Av</td>\n",
              "      <td>GLQ</td>\n",
              "      <td>655</td>\n",
              "      <td>Unf</td>\n",
              "      <td>0</td>\n",
              "      <td>490</td>\n",
              "      <td>1145</td>\n",
              "      <td>GasA</td>\n",
              "      <td>...</td>\n",
              "      <td>Y</td>\n",
              "      <td>SBrkr</td>\n",
              "      <td>1145</td>\n",
              "      <td>1053</td>\n",
              "      <td>0</td>\n",
              "      <td>2198</td>\n",
              "      <td>1</td>\n",
              "      <td>0</td>\n",
              "      <td>2</td>\n",
              "      <td>1</td>\n",
              "      <td>4</td>\n",
              "      <td>1</td>\n",
              "      <td>Gd</td>\n",
              "      <td>9</td>\n",
              "      <td>Typ</td>\n",
              "      <td>1</td>\n",
              "      <td>TA</td>\n",
              "      <td>Attchd</td>\n",
              "      <td>2000.0</td>\n",
              "      <td>RFn</td>\n",
              "      <td>3</td>\n",
              "      <td>836</td>\n",
              "      <td>TA</td>\n",
              "      <td>TA</td>\n",
              "      <td>Y</td>\n",
              "      <td>192</td>\n",
              "      <td>84</td>\n",
              "      <td>0</td>\n",
              "      <td>0</td>\n",
              "      <td>0</td>\n",
              "      <td>0</td>\n",
              "      <td>NaN</td>\n",
              "      <td>NaN</td>\n",
              "      <td>NaN</td>\n",
              "      <td>0</td>\n",
              "      <td>12</td>\n",
              "      <td>2008</td>\n",
              "      <td>WD</td>\n",
              "      <td>Normal</td>\n",
              "      <td>250000</td>\n",
              "    </tr>\n",
              "  </tbody>\n",
              "</table>\n",
              "<p>5 rows × 81 columns</p>\n",
              "</div>"
            ],
            "text/plain": [
              "   id  mssubclass mszoning  ...  saletype  salecondition saleprice\n",
              "0   1          60       RL  ...        WD         Normal    208500\n",
              "1   2          20       RL  ...        WD         Normal    181500\n",
              "2   3          60       RL  ...        WD         Normal    223500\n",
              "3   4          70       RL  ...        WD        Abnorml    140000\n",
              "4   5          60       RL  ...        WD         Normal    250000\n",
              "\n",
              "[5 rows x 81 columns]"
            ]
          },
          "metadata": {
            "tags": []
          },
          "execution_count": 115
        }
      ]
    },
    {
      "cell_type": "code",
      "metadata": {
        "id": "jitiOVz4mJge",
        "outputId": "48f29022-7fb4-4807-b24b-17be6efee3a3",
        "colab": {
          "base_uri": "https://localhost:8080/"
        }
      },
      "source": [
        "house.info()"
      ],
      "execution_count": 116,
      "outputs": [
        {
          "output_type": "stream",
          "text": [
            "<class 'pandas.core.frame.DataFrame'>\n",
            "RangeIndex: 1460 entries, 0 to 1459\n",
            "Data columns (total 81 columns):\n",
            " #   Column         Non-Null Count  Dtype  \n",
            "---  ------         --------------  -----  \n",
            " 0   id             1460 non-null   int64  \n",
            " 1   mssubclass     1460 non-null   int64  \n",
            " 2   mszoning       1460 non-null   object \n",
            " 3   lotfrontage    1201 non-null   float64\n",
            " 4   lotarea        1460 non-null   int64  \n",
            " 5   street         1460 non-null   object \n",
            " 6   alley          91 non-null     object \n",
            " 7   lotshape       1460 non-null   object \n",
            " 8   landcontour    1460 non-null   object \n",
            " 9   utilities      1460 non-null   object \n",
            " 10  lotconfig      1460 non-null   object \n",
            " 11  landslope      1460 non-null   object \n",
            " 12  neighborhood   1460 non-null   object \n",
            " 13  condition1     1460 non-null   object \n",
            " 14  condition2     1460 non-null   object \n",
            " 15  bldgtype       1460 non-null   object \n",
            " 16  housestyle     1460 non-null   object \n",
            " 17  overallqual    1460 non-null   int64  \n",
            " 18  overallcond    1460 non-null   int64  \n",
            " 19  yearbuilt      1460 non-null   int64  \n",
            " 20  yearremodadd   1460 non-null   int64  \n",
            " 21  roofstyle      1460 non-null   object \n",
            " 22  roofmatl       1460 non-null   object \n",
            " 23  exterior1st    1460 non-null   object \n",
            " 24  exterior2nd    1460 non-null   object \n",
            " 25  masvnrtype     1452 non-null   object \n",
            " 26  masvnrarea     1452 non-null   float64\n",
            " 27  exterqual      1460 non-null   object \n",
            " 28  extercond      1460 non-null   object \n",
            " 29  foundation     1460 non-null   object \n",
            " 30  bsmtqual       1423 non-null   object \n",
            " 31  bsmtcond       1423 non-null   object \n",
            " 32  bsmtexposure   1422 non-null   object \n",
            " 33  bsmtfintype1   1423 non-null   object \n",
            " 34  bsmtfinsf1     1460 non-null   int64  \n",
            " 35  bsmtfintype2   1422 non-null   object \n",
            " 36  bsmtfinsf2     1460 non-null   int64  \n",
            " 37  bsmtunfsf      1460 non-null   int64  \n",
            " 38  totalbsmtsf    1460 non-null   int64  \n",
            " 39  heating        1460 non-null   object \n",
            " 40  heatingqc      1460 non-null   object \n",
            " 41  centralair     1460 non-null   object \n",
            " 42  electrical     1459 non-null   object \n",
            " 43  firstflrsf     1460 non-null   int64  \n",
            " 44  secondflrsf    1460 non-null   int64  \n",
            " 45  lowqualfinsf   1460 non-null   int64  \n",
            " 46  grlivarea      1460 non-null   int64  \n",
            " 47  bsmtfullbath   1460 non-null   int64  \n",
            " 48  bsmthalfbath   1460 non-null   int64  \n",
            " 49  fullbath       1460 non-null   int64  \n",
            " 50  halfbath       1460 non-null   int64  \n",
            " 51  bedroomabvgr   1460 non-null   int64  \n",
            " 52  kitchenabvgr   1460 non-null   int64  \n",
            " 53  kitchenqual    1460 non-null   object \n",
            " 54  totrmsabvgrd   1460 non-null   int64  \n",
            " 55  functional     1460 non-null   object \n",
            " 56  fireplaces     1460 non-null   int64  \n",
            " 57  fireplacequ    770 non-null    object \n",
            " 58  garagetype     1379 non-null   object \n",
            " 59  garageyrblt    1379 non-null   float64\n",
            " 60  garagefinish   1379 non-null   object \n",
            " 61  garagecars     1460 non-null   int64  \n",
            " 62  garagearea     1460 non-null   int64  \n",
            " 63  garagequal     1379 non-null   object \n",
            " 64  garagecond     1379 non-null   object \n",
            " 65  paveddrive     1460 non-null   object \n",
            " 66  wooddecksf     1460 non-null   int64  \n",
            " 67  openporchsf    1460 non-null   int64  \n",
            " 68  enclosedporch  1460 non-null   int64  \n",
            " 69  threessnporch  1460 non-null   int64  \n",
            " 70  screenporch    1460 non-null   int64  \n",
            " 71  poolarea       1460 non-null   int64  \n",
            " 72  poolqc         7 non-null      object \n",
            " 73  fence          281 non-null    object \n",
            " 74  miscfeature    54 non-null     object \n",
            " 75  miscval        1460 non-null   int64  \n",
            " 76  mosold         1460 non-null   int64  \n",
            " 77  yrsold         1460 non-null   int64  \n",
            " 78  saletype       1460 non-null   object \n",
            " 79  salecondition  1460 non-null   object \n",
            " 80  saleprice      1460 non-null   int64  \n",
            "dtypes: float64(3), int64(35), object(43)\n",
            "memory usage: 924.0+ KB\n"
          ],
          "name": "stdout"
        }
      ]
    },
    {
      "cell_type": "markdown",
      "metadata": {
        "id": "kFkhcftVtgoB"
      },
      "source": [
        "Check for nulls. Remove any columns with more than 100 nulls, then drop any remaining rows with nulls after that."
      ]
    },
    {
      "cell_type": "code",
      "metadata": {
        "id": "1La2yiOHo-Ws",
        "outputId": "39352d3b-ccd7-436a-c93d-48055873d191",
        "colab": {
          "base_uri": "https://localhost:8080/"
        }
      },
      "source": [
        "# your work here\n",
        "dict(house.isnull().sum())\n",
        "\n",
        "#easy way with sorting\n",
        "#house.isnull().sum().sort_values(ascending=False).head(7)\n"
      ],
      "execution_count": 117,
      "outputs": [
        {
          "output_type": "execute_result",
          "data": {
            "text/plain": [
              "{'alley': 1369,\n",
              " 'bedroomabvgr': 0,\n",
              " 'bldgtype': 0,\n",
              " 'bsmtcond': 37,\n",
              " 'bsmtexposure': 38,\n",
              " 'bsmtfinsf1': 0,\n",
              " 'bsmtfinsf2': 0,\n",
              " 'bsmtfintype1': 37,\n",
              " 'bsmtfintype2': 38,\n",
              " 'bsmtfullbath': 0,\n",
              " 'bsmthalfbath': 0,\n",
              " 'bsmtqual': 37,\n",
              " 'bsmtunfsf': 0,\n",
              " 'centralair': 0,\n",
              " 'condition1': 0,\n",
              " 'condition2': 0,\n",
              " 'electrical': 1,\n",
              " 'enclosedporch': 0,\n",
              " 'extercond': 0,\n",
              " 'exterior1st': 0,\n",
              " 'exterior2nd': 0,\n",
              " 'exterqual': 0,\n",
              " 'fence': 1179,\n",
              " 'fireplacequ': 690,\n",
              " 'fireplaces': 0,\n",
              " 'firstflrsf': 0,\n",
              " 'foundation': 0,\n",
              " 'fullbath': 0,\n",
              " 'functional': 0,\n",
              " 'garagearea': 0,\n",
              " 'garagecars': 0,\n",
              " 'garagecond': 81,\n",
              " 'garagefinish': 81,\n",
              " 'garagequal': 81,\n",
              " 'garagetype': 81,\n",
              " 'garageyrblt': 81,\n",
              " 'grlivarea': 0,\n",
              " 'halfbath': 0,\n",
              " 'heating': 0,\n",
              " 'heatingqc': 0,\n",
              " 'housestyle': 0,\n",
              " 'id': 0,\n",
              " 'kitchenabvgr': 0,\n",
              " 'kitchenqual': 0,\n",
              " 'landcontour': 0,\n",
              " 'landslope': 0,\n",
              " 'lotarea': 0,\n",
              " 'lotconfig': 0,\n",
              " 'lotfrontage': 259,\n",
              " 'lotshape': 0,\n",
              " 'lowqualfinsf': 0,\n",
              " 'masvnrarea': 8,\n",
              " 'masvnrtype': 8,\n",
              " 'miscfeature': 1406,\n",
              " 'miscval': 0,\n",
              " 'mosold': 0,\n",
              " 'mssubclass': 0,\n",
              " 'mszoning': 0,\n",
              " 'neighborhood': 0,\n",
              " 'openporchsf': 0,\n",
              " 'overallcond': 0,\n",
              " 'overallqual': 0,\n",
              " 'paveddrive': 0,\n",
              " 'poolarea': 0,\n",
              " 'poolqc': 1453,\n",
              " 'roofmatl': 0,\n",
              " 'roofstyle': 0,\n",
              " 'salecondition': 0,\n",
              " 'saleprice': 0,\n",
              " 'saletype': 0,\n",
              " 'screenporch': 0,\n",
              " 'secondflrsf': 0,\n",
              " 'street': 0,\n",
              " 'threessnporch': 0,\n",
              " 'totalbsmtsf': 0,\n",
              " 'totrmsabvgrd': 0,\n",
              " 'utilities': 0,\n",
              " 'wooddecksf': 0,\n",
              " 'yearbuilt': 0,\n",
              " 'yearremodadd': 0,\n",
              " 'yrsold': 0}"
            ]
          },
          "metadata": {
            "tags": []
          },
          "execution_count": 117
        }
      ]
    },
    {
      "cell_type": "code",
      "metadata": {
        "id": "nqOaja42o9nX"
      },
      "source": [
        "house.drop(columns=['alley','fence','fireplacequ','lotfrontage','miscfeature','poolqc'], inplace=True)\n",
        "house.dropna(inplace=True)\n"
      ],
      "execution_count": 118,
      "outputs": []
    },
    {
      "cell_type": "code",
      "metadata": {
        "id": "hy_NxLZbpzZn",
        "outputId": "ab0a9620-c9cd-4d70-c697-d298bdb5130d",
        "colab": {
          "base_uri": "https://localhost:8080/"
        }
      },
      "source": [
        "dict(house.isnull().sum()*100/house.isnull().count())\n"
      ],
      "execution_count": 119,
      "outputs": [
        {
          "output_type": "execute_result",
          "data": {
            "text/plain": [
              "{'bedroomabvgr': 0.0,\n",
              " 'bldgtype': 0.0,\n",
              " 'bsmtcond': 0.0,\n",
              " 'bsmtexposure': 0.0,\n",
              " 'bsmtfinsf1': 0.0,\n",
              " 'bsmtfinsf2': 0.0,\n",
              " 'bsmtfintype1': 0.0,\n",
              " 'bsmtfintype2': 0.0,\n",
              " 'bsmtfullbath': 0.0,\n",
              " 'bsmthalfbath': 0.0,\n",
              " 'bsmtqual': 0.0,\n",
              " 'bsmtunfsf': 0.0,\n",
              " 'centralair': 0.0,\n",
              " 'condition1': 0.0,\n",
              " 'condition2': 0.0,\n",
              " 'electrical': 0.0,\n",
              " 'enclosedporch': 0.0,\n",
              " 'extercond': 0.0,\n",
              " 'exterior1st': 0.0,\n",
              " 'exterior2nd': 0.0,\n",
              " 'exterqual': 0.0,\n",
              " 'fireplaces': 0.0,\n",
              " 'firstflrsf': 0.0,\n",
              " 'foundation': 0.0,\n",
              " 'fullbath': 0.0,\n",
              " 'functional': 0.0,\n",
              " 'garagearea': 0.0,\n",
              " 'garagecars': 0.0,\n",
              " 'garagecond': 0.0,\n",
              " 'garagefinish': 0.0,\n",
              " 'garagequal': 0.0,\n",
              " 'garagetype': 0.0,\n",
              " 'garageyrblt': 0.0,\n",
              " 'grlivarea': 0.0,\n",
              " 'halfbath': 0.0,\n",
              " 'heating': 0.0,\n",
              " 'heatingqc': 0.0,\n",
              " 'housestyle': 0.0,\n",
              " 'id': 0.0,\n",
              " 'kitchenabvgr': 0.0,\n",
              " 'kitchenqual': 0.0,\n",
              " 'landcontour': 0.0,\n",
              " 'landslope': 0.0,\n",
              " 'lotarea': 0.0,\n",
              " 'lotconfig': 0.0,\n",
              " 'lotshape': 0.0,\n",
              " 'lowqualfinsf': 0.0,\n",
              " 'masvnrarea': 0.0,\n",
              " 'masvnrtype': 0.0,\n",
              " 'miscval': 0.0,\n",
              " 'mosold': 0.0,\n",
              " 'mssubclass': 0.0,\n",
              " 'mszoning': 0.0,\n",
              " 'neighborhood': 0.0,\n",
              " 'openporchsf': 0.0,\n",
              " 'overallcond': 0.0,\n",
              " 'overallqual': 0.0,\n",
              " 'paveddrive': 0.0,\n",
              " 'poolarea': 0.0,\n",
              " 'roofmatl': 0.0,\n",
              " 'roofstyle': 0.0,\n",
              " 'salecondition': 0.0,\n",
              " 'saleprice': 0.0,\n",
              " 'saletype': 0.0,\n",
              " 'screenporch': 0.0,\n",
              " 'secondflrsf': 0.0,\n",
              " 'street': 0.0,\n",
              " 'threessnporch': 0.0,\n",
              " 'totalbsmtsf': 0.0,\n",
              " 'totrmsabvgrd': 0.0,\n",
              " 'utilities': 0.0,\n",
              " 'wooddecksf': 0.0,\n",
              " 'yearbuilt': 0.0,\n",
              " 'yearremodadd': 0.0,\n",
              " 'yrsold': 0.0}"
            ]
          },
          "metadata": {
            "tags": []
          },
          "execution_count": 119
        }
      ]
    },
    {
      "cell_type": "markdown",
      "metadata": {
        "id": "u5bWpZhCvM9J"
      },
      "source": [
        "One hot encode your categorical features using get_dummies."
      ]
    },
    {
      "cell_type": "code",
      "metadata": {
        "id": "I0rSRGfnr3JC"
      },
      "source": [
        "# your work here\n",
        "\n",
        "categorical = house.select_dtypes(include=['object'])\n",
        "for i in categorical:\n",
        "    col = categorical[i]\n",
        "    house = pd.concat([house,pd.get_dummies(house[i], drop_first=True)], axis=1)\n",
        "    "
      ],
      "execution_count": 120,
      "outputs": []
    },
    {
      "cell_type": "code",
      "metadata": {
        "id": "Goj_P6OtxOes",
        "outputId": "0abfa0d8-2514-4667-af3f-669c5759357e",
        "colab": {
          "base_uri": "https://localhost:8080/"
        }
      },
      "source": [
        "house.shape"
      ],
      "execution_count": 121,
      "outputs": [
        {
          "output_type": "execute_result",
          "data": {
            "text/plain": [
              "(1338, 266)"
            ]
          },
          "metadata": {
            "tags": []
          },
          "execution_count": 121
        }
      ]
    },
    {
      "cell_type": "code",
      "metadata": {
        "id": "Q00AgHLj4q6-"
      },
      "source": [
        "categorical = house.select_dtypes(include=['object'])\n",
        "for i in categorical:\n",
        "    col = categorical[i]\n",
        "    house.drop(columns=i, inplace = True)"
      ],
      "execution_count": 122,
      "outputs": []
    },
    {
      "cell_type": "code",
      "metadata": {
        "id": "-vlBp6hN4q5s",
        "outputId": "3dcabf25-5b3a-47aa-c4f5-8ddeac0f0209",
        "colab": {
          "base_uri": "https://localhost:8080/"
        }
      },
      "source": [
        "house.shape"
      ],
      "execution_count": 123,
      "outputs": [
        {
          "output_type": "execute_result",
          "data": {
            "text/plain": [
              "(1338, 228)"
            ]
          },
          "metadata": {
            "tags": []
          },
          "execution_count": 123
        }
      ]
    },
    {
      "cell_type": "markdown",
      "metadata": {
        "id": "L9B6bZJJ6TMj"
      },
      "source": [
        "Take a look at your outcome variable. It is highly skewed, and has a few very rare large outliers.\n",
        "\n",
        "Let's try log transforming the y variable."
      ]
    },
    {
      "cell_type": "code",
      "metadata": {
        "id": "hBmQkLi4t6HV",
        "outputId": "8d61fe37-80f3-47df-f27d-5a5d46a80713",
        "colab": {
          "base_uri": "https://localhost:8080/"
        }
      },
      "source": [
        "# your work here\n",
        "Y = house['saleprice']\n",
        "print(Y.describe())\n",
        "log_Y = np.log(Y)\n",
        "print(log_Y.describe())"
      ],
      "execution_count": 124,
      "outputs": [
        {
          "output_type": "stream",
          "text": [
            "count      1338.000000\n",
            "mean     186761.782511\n",
            "std       78913.847668\n",
            "min       35311.000000\n",
            "25%      135000.000000\n",
            "50%      168500.000000\n",
            "75%      220000.000000\n",
            "max      755000.000000\n",
            "Name: saleprice, dtype: float64\n",
            "count    1338.000000\n",
            "mean       12.063492\n",
            "std         0.376848\n",
            "min        10.471950\n",
            "25%        11.813030\n",
            "50%        12.034691\n",
            "75%        12.301383\n",
            "max        13.534473\n",
            "Name: saleprice, dtype: float64\n"
          ],
          "name": "stdout"
        }
      ]
    },
    {
      "cell_type": "code",
      "metadata": {
        "id": "9QuIAyYv0gaV"
      },
      "source": [
        "X = house.drop(columns='saleprice')\n",
        "y = log_Y"
      ],
      "execution_count": 125,
      "outputs": []
    },
    {
      "cell_type": "markdown",
      "metadata": {
        "id": "xpuxhGGKvT_Y"
      },
      "source": [
        "We know that there are some rare large values. We can make sure that the training and test sets have about the same distribution by stratifying the train-test split.\n",
        "\n",
        "Split your training and test sets, with a test size of 0.2. Use the given helper function to stratify the continuous outcome. Remember that the outcome variable is now the **log of sale price**."
      ]
    },
    {
      "cell_type": "code",
      "metadata": {
        "id": "I2771hM9FLuS"
      },
      "source": [
        "def binned(y, num_bins):\n",
        "    # Creates an object to put in the stratify keyword in train_test_split\n",
        "    # Specify number of bins to separate your y variable\n",
        "    ymin, ymax = y.min(), y.max()\n",
        "    bins = np.linspace(ymin, ymax, num_bins+1)[:-1]\n",
        "    y_binned = np.digitize(y, bins)\n",
        "    return y_binned"
      ],
      "execution_count": 126,
      "outputs": []
    },
    {
      "cell_type": "code",
      "metadata": {
        "id": "mkTVsoRWp5ca"
      },
      "source": [
        "# your work here\n",
        "X_train, X_test, y_train, y_test = train_test_split(X, y, test_size = 0.2, stratify = binned(y,10))\n"
      ],
      "execution_count": 127,
      "outputs": []
    },
    {
      "cell_type": "code",
      "metadata": {
        "id": "osSxyi_P3NhO"
      },
      "source": [
        ""
      ],
      "execution_count": 127,
      "outputs": []
    },
    {
      "cell_type": "markdown",
      "metadata": {
        "id": "ZXya_EaZvcbS"
      },
      "source": [
        "Create a Gradient Boosting Regressor model. Measure the MAE (Mean Absolute Error) for the training and testing sets."
      ]
    },
    {
      "cell_type": "code",
      "metadata": {
        "id": "01CUTwn9p-WC",
        "outputId": "f95c0e7b-5e5b-491e-8ecf-f6b4833fd832",
        "colab": {
          "base_uri": "https://localhost:8080/"
        }
      },
      "source": [
        "# your work here\n",
        "\n",
        "gbr = GradientBoostingRegressor(learning_rate=.5, max_depth=3, n_iter_no_change=10, n_estimators=10000)\n",
        "gbr.fit(X_train, y_train)"
      ],
      "execution_count": 128,
      "outputs": [
        {
          "output_type": "execute_result",
          "data": {
            "text/plain": [
              "GradientBoostingRegressor(alpha=0.9, ccp_alpha=0.0, criterion='friedman_mse',\n",
              "                          init=None, learning_rate=0.5, loss='ls', max_depth=3,\n",
              "                          max_features=None, max_leaf_nodes=None,\n",
              "                          min_impurity_decrease=0.0, min_impurity_split=None,\n",
              "                          min_samples_leaf=1, min_samples_split=2,\n",
              "                          min_weight_fraction_leaf=0.0, n_estimators=10000,\n",
              "                          n_iter_no_change=10, presort='deprecated',\n",
              "                          random_state=None, subsample=1.0, tol=0.0001,\n",
              "                          validation_fraction=0.1, verbose=0, warm_start=False)"
            ]
          },
          "metadata": {
            "tags": []
          },
          "execution_count": 128
        }
      ]
    },
    {
      "cell_type": "code",
      "metadata": {
        "id": "ENz-nlnS3ZqB",
        "outputId": "3d8ca598-adc6-4e0c-fb35-1d19baf66bd3",
        "colab": {
          "base_uri": "https://localhost:8080/"
        }
      },
      "source": [
        "y_pred_train = gbr.predict(X_train)\n",
        "y_pred_test = gbr.predict(X_test)\n",
        "train_mae = mean_absolute_error(y_pred_train, y_train)\n",
        "test_mae = mean_absolute_error(y_pred_test, y_test)\n",
        "\n",
        "print(train_mae)\n",
        "print(test_mae)"
      ],
      "execution_count": 129,
      "outputs": [
        {
          "output_type": "stream",
          "text": [
            "0.06924502341159987\n",
            "0.1072445312590351\n"
          ],
          "name": "stdout"
        }
      ]
    },
    {
      "cell_type": "markdown",
      "metadata": {
        "id": "plksTuo0zvpp"
      },
      "source": [
        "Create a grid search. Try varying subsample, learning rate, and max features. Use MAE as your scoring metric."
      ]
    },
    {
      "cell_type": "code",
      "metadata": {
        "id": "97R84lg286Zq",
        "outputId": "3bfb86b8-cbb8-411c-f009-f9761341a235",
        "colab": {
          "base_uri": "https://localhost:8080/"
        }
      },
      "source": [
        "sorted(metrics.SCORERS.keys())"
      ],
      "execution_count": 130,
      "outputs": [
        {
          "output_type": "execute_result",
          "data": {
            "text/plain": [
              "['accuracy',\n",
              " 'adjusted_mutual_info_score',\n",
              " 'adjusted_rand_score',\n",
              " 'average_precision',\n",
              " 'balanced_accuracy',\n",
              " 'completeness_score',\n",
              " 'explained_variance',\n",
              " 'f1',\n",
              " 'f1_macro',\n",
              " 'f1_micro',\n",
              " 'f1_samples',\n",
              " 'f1_weighted',\n",
              " 'fowlkes_mallows_score',\n",
              " 'homogeneity_score',\n",
              " 'jaccard',\n",
              " 'jaccard_macro',\n",
              " 'jaccard_micro',\n",
              " 'jaccard_samples',\n",
              " 'jaccard_weighted',\n",
              " 'max_error',\n",
              " 'mutual_info_score',\n",
              " 'neg_brier_score',\n",
              " 'neg_log_loss',\n",
              " 'neg_mean_absolute_error',\n",
              " 'neg_mean_gamma_deviance',\n",
              " 'neg_mean_poisson_deviance',\n",
              " 'neg_mean_squared_error',\n",
              " 'neg_mean_squared_log_error',\n",
              " 'neg_median_absolute_error',\n",
              " 'neg_root_mean_squared_error',\n",
              " 'normalized_mutual_info_score',\n",
              " 'precision',\n",
              " 'precision_macro',\n",
              " 'precision_micro',\n",
              " 'precision_samples',\n",
              " 'precision_weighted',\n",
              " 'r2',\n",
              " 'recall',\n",
              " 'recall_macro',\n",
              " 'recall_micro',\n",
              " 'recall_samples',\n",
              " 'recall_weighted',\n",
              " 'roc_auc',\n",
              " 'roc_auc_ovo',\n",
              " 'roc_auc_ovo_weighted',\n",
              " 'roc_auc_ovr',\n",
              " 'roc_auc_ovr_weighted',\n",
              " 'v_measure_score']"
            ]
          },
          "metadata": {
            "tags": []
          },
          "execution_count": 130
        }
      ]
    },
    {
      "cell_type": "code",
      "metadata": {
        "id": "X24FBB0ZwCju",
        "outputId": "3ca9168c-c342-4fc2-cb7f-5c4dfa561e5c",
        "colab": {
          "base_uri": "https://localhost:8080/"
        }
      },
      "source": [
        "# your work here\n",
        "gbr1 = GradientBoostingRegressor()\n",
        "parameters = {'subsample':[.5, .75, .9], 'learning_rate':[.01, .1 , .25, .5, .75, 1], 'max_features':[5,50,100]}\n",
        "grid = GridSearchCV(estimator=gbr1, param_grid=parameters, scoring='neg_mean_absolute_error', cv=5)\n",
        "grid.fit(X_train, y_train)\n"
      ],
      "execution_count": 131,
      "outputs": [
        {
          "output_type": "execute_result",
          "data": {
            "text/plain": [
              "GridSearchCV(cv=5, error_score=nan,\n",
              "             estimator=GradientBoostingRegressor(alpha=0.9, ccp_alpha=0.0,\n",
              "                                                 criterion='friedman_mse',\n",
              "                                                 init=None, learning_rate=0.1,\n",
              "                                                 loss='ls', max_depth=3,\n",
              "                                                 max_features=None,\n",
              "                                                 max_leaf_nodes=None,\n",
              "                                                 min_impurity_decrease=0.0,\n",
              "                                                 min_impurity_split=None,\n",
              "                                                 min_samples_leaf=1,\n",
              "                                                 min_samples_split=2,\n",
              "                                                 min_weight_fraction_leaf=0.0,\n",
              "                                                 n_estimators=100,\n",
              "                                                 n_iter_n...\n",
              "                                                 presort='deprecated',\n",
              "                                                 random_state=None,\n",
              "                                                 subsample=1.0, tol=0.0001,\n",
              "                                                 validation_fraction=0.1,\n",
              "                                                 verbose=0, warm_start=False),\n",
              "             iid='deprecated', n_jobs=None,\n",
              "             param_grid={'learning_rate': [0.01, 0.1, 0.25, 0.5, 0.75, 1],\n",
              "                         'max_features': [5, 50, 100],\n",
              "                         'subsample': [0.5, 0.75, 0.9]},\n",
              "             pre_dispatch='2*n_jobs', refit=True, return_train_score=False,\n",
              "             scoring='neg_mean_absolute_error', verbose=0)"
            ]
          },
          "metadata": {
            "tags": []
          },
          "execution_count": 131
        }
      ]
    },
    {
      "cell_type": "code",
      "metadata": {
        "id": "IdY_V6wf8yh_"
      },
      "source": [
        ""
      ],
      "execution_count": 131,
      "outputs": []
    },
    {
      "cell_type": "code",
      "metadata": {
        "id": "mvZ22QLGCH5r",
        "outputId": "2f4b1f7a-238f-4c7c-f960-0840dcc945dd",
        "colab": {
          "base_uri": "https://localhost:8080/"
        }
      },
      "source": [
        "print(\n",
        "    f'subsample: {grid.best_estimator_.subsample}\\n'\n",
        "    f'learning_rate: {grid.best_estimator_.learning_rate}\\n'\n",
        "    f'max_features: {grid.best_estimator_.max_features}\\n'\n",
        "    f'train nMAE: {grid.score(X_train, y_train)}\\n'\n",
        "    f'test nMAE: {grid.score(X_test, y_test)}\\n'\n",
        ")"
      ],
      "execution_count": 132,
      "outputs": [
        {
          "output_type": "stream",
          "text": [
            "subsample: 0.5\n",
            "learning_rate: 0.1\n",
            "max_features: 50\n",
            "train nMAE: -0.05899022241084118\n",
            "test nMAE: -0.09392501760958791\n",
            "\n"
          ],
          "name": "stdout"
        }
      ]
    },
    {
      "cell_type": "markdown",
      "metadata": {
        "id": "s-lx4vuW3rKv"
      },
      "source": [
        "Create residual plots of the training and test sets and interpret your results."
      ]
    },
    {
      "cell_type": "code",
      "metadata": {
        "id": "RSdk76JfsdvX"
      },
      "source": [
        "# your work here\n",
        "y_pred_train1 = grid.predict(X_train)\n",
        "y_pred_test1 = grid.predict(X_test)"
      ],
      "execution_count": 133,
      "outputs": []
    },
    {
      "cell_type": "code",
      "metadata": {
        "id": "5yj1rTCGy81y",
        "outputId": "caa1d5fe-eedb-4d51-c7bf-a75f9ff9c1ce",
        "colab": {
          "base_uri": "https://localhost:8080/",
          "height": 366
        }
      },
      "source": [
        "predictions = grid.predict(X_train)\n",
        "errors = y_train - predictions\n",
        "\n",
        "print(\"Mean of the errors in the absenteeism model is: {}\".format(np.mean(errors)))\n",
        "\n",
        "sns.residplot(predictions, errors)\n",
        "plt.xlabel('Predicted')\n",
        "plt.ylabel('Residual')\n",
        "plt.axhline(y=0)\n",
        "plt.title('Residual vs. Predicted')\n",
        "plt.show()"
      ],
      "execution_count": 134,
      "outputs": [
        {
          "output_type": "stream",
          "text": [
            "Mean of the errors in the absenteeism model is: -0.0013973594638432164\n"
          ],
          "name": "stdout"
        },
        {
          "output_type": "stream",
          "text": [
            "/usr/local/lib/python3.6/dist-packages/seaborn/_decorators.py:43: FutureWarning: Pass the following variables as keyword args: x, y. From version 0.12, the only valid positional argument will be `data`, and passing other arguments without an explicit keyword will result in an error or misinterpretation.\n",
            "  FutureWarning\n"
          ],
          "name": "stderr"
        },
        {
          "output_type": "display_data",
          "data": {
            "image/png": "[encoded data removed]",
            "text/plain": [
              "<Figure size 432x288 with 1 Axes>"
            ]
          },
          "metadata": {
            "tags": [],
            "needs_background": "light"
          }
        }
      ]
    },
    {
      "cell_type": "code",
      "metadata": {
        "id": "cf7lmlbW-5SR",
        "outputId": "342b5d43-23bd-4f41-9cb8-a58d9d5d7c93",
        "colab": {
          "base_uri": "https://localhost:8080/",
          "height": 366
        }
      },
      "source": [
        "# answer below:\n",
        "\n",
        "predictions1 = grid.predict(X_test)\n",
        "errors1 = y_test - predictions1\n",
        "\n",
        "print(\"Mean of the errors in the absenteeism model is: {}\".format(np.mean(errors1)))\n",
        "\n",
        "sns.residplot(predictions1, errors1)\n",
        "plt.xlabel('Predicted')\n",
        "plt.ylabel('Residual')\n",
        "plt.axhline(y=0)\n",
        "plt.title('Residual vs. Predicted')\n",
        "plt.show()"
      ],
      "execution_count": 135,
      "outputs": [
        {
          "output_type": "stream",
          "text": [
            "Mean of the errors in the absenteeism model is: -0.001678731406820325\n"
          ],
          "name": "stdout"
        },
        {
          "output_type": "stream",
          "text": [
            "/usr/local/lib/python3.6/dist-packages/seaborn/_decorators.py:43: FutureWarning: Pass the following variables as keyword args: x, y. From version 0.12, the only valid positional argument will be `data`, and passing other arguments without an explicit keyword will result in an error or misinterpretation.\n",
            "  FutureWarning\n"
          ],
          "name": "stderr"
        },
        {
          "output_type": "display_data",
          "data": {
            "image/png": "[encoded data removed]",
            "text/plain": [
              "<Figure size 432x288 with 1 Axes>"
            ]
          },
          "metadata": {
            "tags": [],
            "needs_background": "light"
          }
        }
      ]
    }
  ]
}