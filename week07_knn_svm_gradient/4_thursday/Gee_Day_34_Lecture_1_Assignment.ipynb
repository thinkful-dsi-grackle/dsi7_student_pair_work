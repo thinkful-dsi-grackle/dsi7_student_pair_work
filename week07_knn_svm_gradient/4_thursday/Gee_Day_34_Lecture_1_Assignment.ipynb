{
  "nbformat": 4,
  "nbformat_minor": 0,
  "metadata": {
    "kernelspec": {
      "display_name": "Python 3",
      "language": "python",
      "name": "python3"
    },
    "language_info": {
      "codemirror_mode": {
        "name": "ipython",
        "version": 3
      },
      "file_extension": ".py",
      "mimetype": "text/x-python",
      "name": "python",
      "nbconvert_exporter": "python",
      "pygments_lexer": "ipython3",
      "version": "3.7.0"
    },
    "colab": {
      "name": "Day 34 Lecture 1 Assignment.ipynb",
      "provenance": [],
      "collapsed_sections": []
    }
  },
  "cells": [
    {
      "cell_type": "markdown",
      "metadata": {
        "id": "ek_P857brqWQ"
      },
      "source": [
        "## Day 34 Lecture 1 Assignment\n",
        "\n",
        "In this assignment, we will learn about SVR. We will use the absenteeism at work dataset loaded below and analyze the model generated for this dataset."
      ]
    },
    {
      "cell_type": "code",
      "metadata": {
        "id": "Y2OJAjVKrqWR"
      },
      "source": [
        "%matplotlib inline\n",
        "\n",
        "import math\n",
        "\n",
        "import seaborn as sns\n",
        "import matplotlib.pyplot as plt\n",
        "import numpy as np\n",
        "import pandas as pd\n",
        "from sklearn.preprocessing import OneHotEncoder, StandardScaler\n",
        "from sklearn.compose import ColumnTransformer\n",
        "from sklearn.model_selection import train_test_split\n",
        "from sklearn.svm import SVR\n",
        "from datetime import datetime\n",
        "from sklearn.model_selection import GridSearchCV\n",
        "from sklearn.metrics import mean_squared_error\n"
      ],
      "execution_count": 48,
      "outputs": []
    },
    {
      "cell_type": "code",
      "metadata": {
        "id": "2xl3uos0rqWU"
      },
      "source": [
        "absent = pd.read_csv('https://tf-assets-prod.s3.amazonaws.com/tf-curric/data-science/Absenteeism_at_work.csv', sep=';')"
      ],
      "execution_count": 49,
      "outputs": []
    },
    {
      "cell_type": "code",
      "metadata": {
        "id": "pZV57O_ZrqWV",
        "outputId": "c405fd31-4e8d-4f34-f870-cda3c37332db",
        "colab": {
          "base_uri": "https://localhost:8080/",
          "height": 275
        }
      },
      "source": [
        "absent.head()"
      ],
      "execution_count": 50,
      "outputs": [
        {
          "output_type": "execute_result",
          "data": {
            "text/html": [
              "<div>\n",
              "<style scoped>\n",
              "    .dataframe tbody tr th:only-of-type {\n",
              "        vertical-align: middle;\n",
              "    }\n",
              "\n",
              "    .dataframe tbody tr th {\n",
              "        vertical-align: top;\n",
              "    }\n",
              "\n",
              "    .dataframe thead th {\n",
              "        text-align: right;\n",
              "    }\n",
              "</style>\n",
              "<table border=\"1\" class=\"dataframe\">\n",
              "  <thead>\n",
              "    <tr style=\"text-align: right;\">\n",
              "      <th></th>\n",
              "      <th>ID</th>\n",
              "      <th>Reason for absence</th>\n",
              "      <th>Month of absence</th>\n",
              "      <th>Day of the week</th>\n",
              "      <th>Seasons</th>\n",
              "      <th>Transportation expense</th>\n",
              "      <th>Distance from Residence to Work</th>\n",
              "      <th>Service time</th>\n",
              "      <th>Age</th>\n",
              "      <th>Work load Average/day</th>\n",
              "      <th>Hit target</th>\n",
              "      <th>Disciplinary failure</th>\n",
              "      <th>Education</th>\n",
              "      <th>Son</th>\n",
              "      <th>Social drinker</th>\n",
              "      <th>Social smoker</th>\n",
              "      <th>Pet</th>\n",
              "      <th>Weight</th>\n",
              "      <th>Height</th>\n",
              "      <th>Body mass index</th>\n",
              "      <th>Absenteeism time in hours</th>\n",
              "    </tr>\n",
              "  </thead>\n",
              "  <tbody>\n",
              "    <tr>\n",
              "      <th>0</th>\n",
              "      <td>11</td>\n",
              "      <td>26</td>\n",
              "      <td>7</td>\n",
              "      <td>3</td>\n",
              "      <td>1</td>\n",
              "      <td>289</td>\n",
              "      <td>36</td>\n",
              "      <td>13</td>\n",
              "      <td>33</td>\n",
              "      <td>239.554</td>\n",
              "      <td>97</td>\n",
              "      <td>0</td>\n",
              "      <td>1</td>\n",
              "      <td>2</td>\n",
              "      <td>1</td>\n",
              "      <td>0</td>\n",
              "      <td>1</td>\n",
              "      <td>90</td>\n",
              "      <td>172</td>\n",
              "      <td>30</td>\n",
              "      <td>4</td>\n",
              "    </tr>\n",
              "    <tr>\n",
              "      <th>1</th>\n",
              "      <td>36</td>\n",
              "      <td>0</td>\n",
              "      <td>7</td>\n",
              "      <td>3</td>\n",
              "      <td>1</td>\n",
              "      <td>118</td>\n",
              "      <td>13</td>\n",
              "      <td>18</td>\n",
              "      <td>50</td>\n",
              "      <td>239.554</td>\n",
              "      <td>97</td>\n",
              "      <td>1</td>\n",
              "      <td>1</td>\n",
              "      <td>1</td>\n",
              "      <td>1</td>\n",
              "      <td>0</td>\n",
              "      <td>0</td>\n",
              "      <td>98</td>\n",
              "      <td>178</td>\n",
              "      <td>31</td>\n",
              "      <td>0</td>\n",
              "    </tr>\n",
              "    <tr>\n",
              "      <th>2</th>\n",
              "      <td>3</td>\n",
              "      <td>23</td>\n",
              "      <td>7</td>\n",
              "      <td>4</td>\n",
              "      <td>1</td>\n",
              "      <td>179</td>\n",
              "      <td>51</td>\n",
              "      <td>18</td>\n",
              "      <td>38</td>\n",
              "      <td>239.554</td>\n",
              "      <td>97</td>\n",
              "      <td>0</td>\n",
              "      <td>1</td>\n",
              "      <td>0</td>\n",
              "      <td>1</td>\n",
              "      <td>0</td>\n",
              "      <td>0</td>\n",
              "      <td>89</td>\n",
              "      <td>170</td>\n",
              "      <td>31</td>\n",
              "      <td>2</td>\n",
              "    </tr>\n",
              "    <tr>\n",
              "      <th>3</th>\n",
              "      <td>7</td>\n",
              "      <td>7</td>\n",
              "      <td>7</td>\n",
              "      <td>5</td>\n",
              "      <td>1</td>\n",
              "      <td>279</td>\n",
              "      <td>5</td>\n",
              "      <td>14</td>\n",
              "      <td>39</td>\n",
              "      <td>239.554</td>\n",
              "      <td>97</td>\n",
              "      <td>0</td>\n",
              "      <td>1</td>\n",
              "      <td>2</td>\n",
              "      <td>1</td>\n",
              "      <td>1</td>\n",
              "      <td>0</td>\n",
              "      <td>68</td>\n",
              "      <td>168</td>\n",
              "      <td>24</td>\n",
              "      <td>4</td>\n",
              "    </tr>\n",
              "    <tr>\n",
              "      <th>4</th>\n",
              "      <td>11</td>\n",
              "      <td>23</td>\n",
              "      <td>7</td>\n",
              "      <td>5</td>\n",
              "      <td>1</td>\n",
              "      <td>289</td>\n",
              "      <td>36</td>\n",
              "      <td>13</td>\n",
              "      <td>33</td>\n",
              "      <td>239.554</td>\n",
              "      <td>97</td>\n",
              "      <td>0</td>\n",
              "      <td>1</td>\n",
              "      <td>2</td>\n",
              "      <td>1</td>\n",
              "      <td>0</td>\n",
              "      <td>1</td>\n",
              "      <td>90</td>\n",
              "      <td>172</td>\n",
              "      <td>30</td>\n",
              "      <td>2</td>\n",
              "    </tr>\n",
              "  </tbody>\n",
              "</table>\n",
              "</div>"
            ],
            "text/plain": [
              "   ID  Reason for absence  ...  Body mass index  Absenteeism time in hours\n",
              "0  11                  26  ...               30                          4\n",
              "1  36                   0  ...               31                          0\n",
              "2   3                  23  ...               31                          2\n",
              "3   7                   7  ...               24                          4\n",
              "4  11                  23  ...               30                          2\n",
              "\n",
              "[5 rows x 21 columns]"
            ]
          },
          "metadata": {
            "tags": []
          },
          "execution_count": 50
        }
      ]
    },
    {
      "cell_type": "markdown",
      "metadata": {
        "id": "0cY0ffxDrqWY"
      },
      "source": [
        "We previously used this dataset for KNN regression. Recall that we removed all correlated columns as well as columns that are a function of two or more other columns (like BMI and weight and height) as well as columns that are not useful to us (like ID).\n",
        "We also created dummy variables for the categorical columns in our dataset.\n",
        "Finally, we split the data into test and train (with test being 20% of the data).\n",
        "\n",
        "Perform these actions below."
      ]
    },
    {
      "cell_type": "code",
      "metadata": {
        "id": "0ljCMS2urqWY"
      },
      "source": [
        "#answer below:\n",
        "absent.drop(columns=['ID','Hit target','Reason for absence','Weight','Height','Month of absence'], inplace=True)\n"
      ],
      "execution_count": 51,
      "outputs": []
    },
    {
      "cell_type": "code",
      "metadata": {
        "id": "CFlYQnHz-5C_",
        "outputId": "bdf6f9cb-9e59-43ea-9d8e-a3853c0d2ee8",
        "colab": {
          "base_uri": "https://localhost:8080/"
        }
      },
      "source": [
        "categorical = absent.select_dtypes(include=['int64'])\n",
        "for i in categorical:\n",
        "    column = categorical[i]\n",
        "    print(i)\n",
        "    print({column.nunique()})"
      ],
      "execution_count": 52,
      "outputs": [
        {
          "output_type": "stream",
          "text": [
            "Day of the week\n",
            "{5}\n",
            "Seasons\n",
            "{4}\n",
            "Transportation expense\n",
            "{24}\n",
            "Distance from Residence to Work\n",
            "{25}\n",
            "Service time\n",
            "{18}\n",
            "Age\n",
            "{22}\n",
            "Disciplinary failure\n",
            "{2}\n",
            "Education\n",
            "{4}\n",
            "Son\n",
            "{5}\n",
            "Social drinker\n",
            "{2}\n",
            "Social smoker\n",
            "{2}\n",
            "Pet\n",
            "{6}\n",
            "Body mass index\n",
            "{17}\n",
            "Absenteeism time in hours\n",
            "{19}\n"
          ],
          "name": "stdout"
        }
      ]
    },
    {
      "cell_type": "code",
      "metadata": {
        "id": "wMYmmajH-zab"
      },
      "source": [
        "num_features = ['Transportation expense','Distance from Residence to Work','Service time','Age','Body mass index']\n",
        "cat_features = ['Day of the week', 'Seasons','Disciplinary failure','Education','Son','Social drinker','Social smoker','Pet']"
      ],
      "execution_count": 53,
      "outputs": []
    },
    {
      "cell_type": "code",
      "metadata": {
        "id": "wnN3_akT9HVW"
      },
      "source": [
        "hotcode = OneHotEncoder(drop='first', sparse=False)\n",
        "scaler = StandardScaler()\n",
        "preprocessor = ColumnTransformer(transformers=[('num',scaler,num_features),\n",
        "                                               ('cat',hotcode,cat_features)])"
      ],
      "execution_count": 54,
      "outputs": []
    },
    {
      "cell_type": "code",
      "metadata": {
        "id": "XXrMpJ0sBFOQ",
        "outputId": "b150fcbb-76f9-4439-dd45-104c37dd59c1",
        "colab": {
          "base_uri": "https://localhost:8080/"
        }
      },
      "source": [
        "X = absent.drop(columns='Absenteeism time in hours')\n",
        "y = absent['Absenteeism time in hours']\n",
        "\n",
        "X_train, X_test, y_train, y_test = train_test_split(X, y, test_size = 0.2)\n",
        "print(\"The number of observations in training set is {}\".format(X_train.shape[0]))\n",
        "print(\"The number of observations in test set is {}\".format(X_test.shape[0]))\n"
      ],
      "execution_count": 55,
      "outputs": [
        {
          "output_type": "stream",
          "text": [
            "The number of observations in training set is 592\n",
            "The number of observations in test set is 148\n"
          ],
          "name": "stdout"
        }
      ]
    },
    {
      "cell_type": "code",
      "metadata": {
        "id": "YzSDQ8bXBTWj"
      },
      "source": [
        "X_train_proc = preprocessor.fit_transform(X_train)\n",
        "X_test_proc = preprocessor.transform(X_test)"
      ],
      "execution_count": 56,
      "outputs": []
    },
    {
      "cell_type": "markdown",
      "metadata": {
        "id": "p-_QJzwYrqWa"
      },
      "source": [
        "Scale the independent variables using the standard scaler"
      ]
    },
    {
      "cell_type": "code",
      "metadata": {
        "id": "3VePSftDrqWc"
      },
      "source": [
        "# answer below:\n",
        "# independent variables scaled above to utilize the ColumnTransformer function. \n"
      ],
      "execution_count": 57,
      "outputs": []
    },
    {
      "cell_type": "markdown",
      "metadata": {
        "id": "Z7aLdNOIrqWe"
      },
      "source": [
        "Generate an SVR model to predict the number of hours of absenteeism. Compare the train and test scores."
      ]
    },
    {
      "cell_type": "code",
      "metadata": {
        "id": "By2JhvYwrqWe",
        "outputId": "e1220079-3b74-4dd1-ea6b-f52347791ba2",
        "colab": {
          "base_uri": "https://localhost:8080/"
        }
      },
      "source": [
        "# answer below:\n",
        "\n",
        "start_time = datetime.now()\n",
        "\n",
        "svr_linear = SVR(kernel='linear', C=.1)\n",
        "svr_linear.fit(X_train_proc, y_train)\n",
        "print('Train Score: {:.4f} -- Test Score: {:.4f}'.format(svr_linear.score(X_train_proc, y_train),svr_linear.score(X_test_proc, y_test)))\n",
        "\n",
        "end_time = datetime.now()\n",
        "print('Duration: {}'.format(end_time - start_time))"
      ],
      "execution_count": 58,
      "outputs": [
        {
          "output_type": "stream",
          "text": [
            "Train Score: -0.0233 -- Test Score: -0.0176\n",
            "Duration: 0:00:00.039988\n"
          ],
          "name": "stdout"
        }
      ]
    },
    {
      "cell_type": "code",
      "metadata": {
        "id": "aA13WmRjDw5y",
        "outputId": "abcd2445-ec6a-48e0-a542-de7783927e15",
        "colab": {
          "base_uri": "https://localhost:8080/"
        }
      },
      "source": [
        "start_time1 = datetime.now()\n",
        "\n",
        "svr_poly = SVR(kernel='poly', C=10000, epsilon=1, gamma='scale')\n",
        "svr_poly.fit(X_train_proc, y_train)\n",
        "print('Train Score: {:.4f} -- Test Score: {:.4f}'.format(svr_poly.score(X_train_proc, y_train),svr_poly.score(X_test_proc, y_test)))\n",
        "\n",
        "end_time1 = datetime.now()\n",
        "print('Duration: {}'.format(end_time1 - start_time1))"
      ],
      "execution_count": 59,
      "outputs": [
        {
          "output_type": "stream",
          "text": [
            "Train Score: 0.3886 -- Test Score: -1.5484\n",
            "Duration: 0:00:00.785318\n"
          ],
          "name": "stdout"
        }
      ]
    },
    {
      "cell_type": "code",
      "metadata": {
        "id": "0tewBkMXD9Xw",
        "outputId": "5e7275b3-21ff-40e9-e153-707ac2fdde45",
        "colab": {
          "base_uri": "https://localhost:8080/"
        }
      },
      "source": [
        "start_time2 = datetime.now()\n",
        "\n",
        "svr_rbf = SVR(kernel='rbf', C=10000, epsilon=.1, gamma='scale')\n",
        "svr_rbf.fit(X_train_proc, y_train)\n",
        "print('Train Score: {:.4f} -- Test Score: {:.4f}'.format(svr_rbf.score(X_train_proc, y_train),svr_rbf.score(X_test_proc, y_test)))\n",
        "\n",
        "end_time2 = datetime.now()\n",
        "print('Duration: {}'.format(end_time2 - start_time2))"
      ],
      "execution_count": 60,
      "outputs": [
        {
          "output_type": "stream",
          "text": [
            "Train Score: 0.4180 -- Test Score: -0.6428\n",
            "Duration: 0:00:00.212553\n"
          ],
          "name": "stdout"
        }
      ]
    },
    {
      "cell_type": "markdown",
      "metadata": {
        "id": "_sn-m37hrqWg"
      },
      "source": [
        "If you are unhappy with your model's performance, perform a grid search to optimize C. You may also want to compare something other than R squared, like MSE, and could try some other kernels than just linear."
      ]
    },
    {
      "cell_type": "code",
      "metadata": {
        "id": "BpvxxapErqWg",
        "outputId": "6a26466b-78d5-4ed8-9b4c-4c3b81010113",
        "colab": {
          "base_uri": "https://localhost:8080/"
        }
      },
      "source": [
        "# answer below:\n",
        "svr = SVR(gamma='scale')\n",
        "parameters = {'kernel':('linear','poly','rbf'), 'C':[.1 , 1, 10, 100, 1000, 10000]}\n",
        "grid = GridSearchCV(estimator=SVR(), param_grid=parameters, scoring='neg_root_mean_squared_error', cv=5)\n",
        "grid.fit(X_train_proc, y_train)\n",
        "#grid.score(X_train_proc, y_train)"
      ],
      "execution_count": 61,
      "outputs": [
        {
          "output_type": "execute_result",
          "data": {
            "text/plain": [
              "GridSearchCV(cv=5, error_score=nan,\n",
              "             estimator=SVR(C=1.0, cache_size=200, coef0=0.0, degree=3,\n",
              "                           epsilon=0.1, gamma='scale', kernel='rbf',\n",
              "                           max_iter=-1, shrinking=True, tol=0.001,\n",
              "                           verbose=False),\n",
              "             iid='deprecated', n_jobs=None,\n",
              "             param_grid={'C': [0.1, 1, 10, 100, 1000, 10000],\n",
              "                         'kernel': ('linear', 'poly', 'rbf')},\n",
              "             pre_dispatch='2*n_jobs', refit=True, return_train_score=False,\n",
              "             scoring='neg_root_mean_squared_error', verbose=0)"
            ]
          },
          "metadata": {
            "tags": []
          },
          "execution_count": 61
        }
      ]
    },
    {
      "cell_type": "markdown",
      "metadata": {
        "id": "BWn-9lYNa1Nh"
      },
      "source": [
        "Create a homoscedasticity (residual) plot. Look back at your KNN regression exercise (Day 32 Lecture 1). How do your model results compare?"
      ]
    },
    {
      "cell_type": "code",
      "metadata": {
        "id": "YxeVgJhZEoN_",
        "outputId": "a25fcc9b-0e3d-4e9c-8c69-4039bcda1b0b",
        "colab": {
          "base_uri": "https://localhost:8080/"
        }
      },
      "source": [
        "\n",
        "train_pred = grid.predict(X_train_proc)\n",
        "test_pred = grid.predict(X_test_proc)\n",
        "\n",
        "print(\n",
        "    f'best kernal: {grid.best_estimator_.kernel}\\n'\n",
        "    f'best C: {grid.best_estimator_.C}\\n'\n",
        "    f'train RMSE: {mean_squared_error(train_pred, y_train, squared=False)}\\n'\n",
        "    f'test RMSE: {mean_squared_error(test_pred, y_test, squared=False)}\\n'\n",
        ")"
      ],
      "execution_count": 67,
      "outputs": [
        {
          "output_type": "stream",
          "text": [
            "best kernal: linear\n",
            "best C: 10\n",
            "train RMSE: 13.529846876119448\n",
            "test RMSE: 12.538773995940689\n",
            "\n"
          ],
          "name": "stdout"
        }
      ]
    },
    {
      "cell_type": "code",
      "metadata": {
        "id": "2gFfclcFjF9a",
        "outputId": "fc634c89-d3c3-4a2f-93df-1791f0bedbfa",
        "colab": {
          "base_uri": "https://localhost:8080/"
        }
      },
      "source": [
        "svr1 = SVR(C=1, epsilon=.1, gamma='scale', kernel='rbf')\n",
        "svr1.fit(X_train_proc, y_train)"
      ],
      "execution_count": 63,
      "outputs": [
        {
          "output_type": "execute_result",
          "data": {
            "text/plain": [
              "SVR(C=1, cache_size=200, coef0=0.0, degree=3, epsilon=0.1, gamma='scale',\n",
              "    kernel='rbf', max_iter=-1, shrinking=True, tol=0.001, verbose=False)"
            ]
          },
          "metadata": {
            "tags": []
          },
          "execution_count": 63
        }
      ]
    },
    {
      "cell_type": "code",
      "metadata": {
        "id": "HiOafHaZvRQ8",
        "outputId": "bff3293d-3f10-454e-8a79-69c7409ac64f",
        "colab": {
          "base_uri": "https://localhost:8080/"
        }
      },
      "source": [
        "svr1.score(X_train_proc, y_train)"
      ],
      "execution_count": 64,
      "outputs": [
        {
          "output_type": "execute_result",
          "data": {
            "text/plain": [
              "0.0012321231569041302"
            ]
          },
          "metadata": {
            "tags": []
          },
          "execution_count": 64
        }
      ]
    },
    {
      "cell_type": "code",
      "metadata": {
        "id": "qkQ846fqrqWi",
        "outputId": "4f525ea4-e567-4f66-999c-e2d0193b504d",
        "colab": {
          "base_uri": "https://localhost:8080/",
          "height": 366
        }
      },
      "source": [
        "# answer below:\n",
        "\n",
        "predictions = svr1.predict(X_train_proc)\n",
        "errors = y_train - predictions\n",
        "\n",
        "print(\"Mean of the errors in the absenteeism model is: {}\".format(np.mean(errors)))\n",
        "\n",
        "sns.residplot(predictions, errors)\n",
        "plt.xlabel('Predicted')\n",
        "plt.ylabel('Residual')\n",
        "plt.axhline(y=0)\n",
        "plt.title('Residual vs. Predicted')\n",
        "plt.show()"
      ],
      "execution_count": 65,
      "outputs": [
        {
          "output_type": "stream",
          "text": [
            "Mean of the errors in the absenteeism model is: 2.902421435114505\n"
          ],
          "name": "stdout"
        },
        {
          "output_type": "stream",
          "text": [
            "/usr/local/lib/python3.6/dist-packages/seaborn/_decorators.py:43: FutureWarning: Pass the following variables as keyword args: x, y. From version 0.12, the only valid positional argument will be `data`, and passing other arguments without an explicit keyword will result in an error or misinterpretation.\n",
            "  FutureWarning\n"
          ],
          "name": "stderr"
        },
        {
          "output_type": "display_data",
          "data": {
            "image/png": "[encoded data removed]",
            "text/plain": [
              "<Figure size 432x288 with 1 Axes>"
            ]
          },
          "metadata": {
            "tags": [],
            "needs_background": "light"
          }
        }
      ]
    },
    {
      "cell_type": "code",
      "metadata": {
        "id": "pGNoxoJEFABk",
        "outputId": "0d0bbde6-d34c-40e8-d437-2823c2566ca5",
        "colab": {
          "base_uri": "https://localhost:8080/",
          "height": 366
        }
      },
      "source": [
        "# answer below:\n",
        "\n",
        "predictions1 = svr1.predict(X_test_proc)\n",
        "errors1 = y_test - predictions1\n",
        "\n",
        "print(\"Mean of the errors in the absenteeism model is: {}\".format(np.mean(errors1)))\n",
        "\n",
        "sns.residplot(predictions1, errors1)\n",
        "plt.xlabel('Predicted')\n",
        "plt.ylabel('Residual')\n",
        "plt.axhline(y=0)\n",
        "plt.title('Residual vs. Predicted')\n",
        "plt.show()"
      ],
      "execution_count": 66,
      "outputs": [
        {
          "output_type": "stream",
          "text": [
            "Mean of the errors in the absenteeism model is: 2.230392648378669\n"
          ],
          "name": "stdout"
        },
        {
          "output_type": "stream",
          "text": [
            "/usr/local/lib/python3.6/dist-packages/seaborn/_decorators.py:43: FutureWarning: Pass the following variables as keyword args: x, y. From version 0.12, the only valid positional argument will be `data`, and passing other arguments without an explicit keyword will result in an error or misinterpretation.\n",
            "  FutureWarning\n"
          ],
          "name": "stderr"
        },
        {
          "output_type": "display_data",
          "data": {
            "image/png": "[encoded data removed]",
            "text/plain": [
              "<Figure size 432x288 with 1 Axes>"
            ]
          },
          "metadata": {
            "tags": [],
            "needs_background": "light"
          }
        }
      ]
    }
  ]
}