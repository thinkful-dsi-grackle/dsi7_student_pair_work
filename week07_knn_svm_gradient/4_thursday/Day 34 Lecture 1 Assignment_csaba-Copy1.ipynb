{
 "cells": [
  {
   "cell_type": "markdown",
   "metadata": {
    "colab_type": "text",
    "id": "ek_P857brqWQ"
   },
   "source": [
    "## Day 34 Lecture 1 Assignment\n",
    "\n",
    "In this assignment, we will learn about SVR. We will use the absenteeism at work dataset loaded below and analyze the model generated for this dataset."
   ]
  },
  {
   "cell_type": "code",
   "execution_count": 17,
   "metadata": {
    "colab": {},
    "colab_type": "code",
    "id": "Y2OJAjVKrqWR"
   },
   "outputs": [],
   "source": [
    "%matplotlib inline\n",
    "\n",
    "import math\n",
    "from sklearn.model_selection import train_test_split\n",
    "import matplotlib.pyplot as plt\n",
    "import numpy as np\n",
    "import pandas as pd"
   ]
  },
  {
   "cell_type": "code",
   "execution_count": 18,
   "metadata": {
    "colab": {},
    "colab_type": "code",
    "id": "2xl3uos0rqWU"
   },
   "outputs": [],
   "source": [
    "absent = pd.read_csv('https://tf-assets-prod.s3.amazonaws.com/tf-curric/data-science/Absenteeism_at_work.csv', sep=';')"
   ]
  },
  {
   "cell_type": "code",
   "execution_count": 19,
   "metadata": {
    "colab": {},
    "colab_type": "code",
    "id": "pZV57O_ZrqWV",
    "outputId": "58a07e5a-5d61-479d-c0c9-a2aea084211d"
   },
   "outputs": [
    {
     "name": "stdout",
     "output_type": "stream",
     "text": [
      "<class 'pandas.core.frame.DataFrame'>\n",
      "RangeIndex: 740 entries, 0 to 739\n",
      "Data columns (total 21 columns):\n",
      " #   Column                           Non-Null Count  Dtype  \n",
      "---  ------                           --------------  -----  \n",
      " 0   ID                               740 non-null    int64  \n",
      " 1   Reason for absence               740 non-null    int64  \n",
      " 2   Month of absence                 740 non-null    int64  \n",
      " 3   Day of the week                  740 non-null    int64  \n",
      " 4   Seasons                          740 non-null    int64  \n",
      " 5   Transportation expense           740 non-null    int64  \n",
      " 6   Distance from Residence to Work  740 non-null    int64  \n",
      " 7   Service time                     740 non-null    int64  \n",
      " 8   Age                              740 non-null    int64  \n",
      " 9   Work load Average/day            740 non-null    float64\n",
      " 10  Hit target                       740 non-null    int64  \n",
      " 11  Disciplinary failure             740 non-null    int64  \n",
      " 12  Education                        740 non-null    int64  \n",
      " 13  Son                              740 non-null    int64  \n",
      " 14  Social drinker                   740 non-null    int64  \n",
      " 15  Social smoker                    740 non-null    int64  \n",
      " 16  Pet                              740 non-null    int64  \n",
      " 17  Weight                           740 non-null    int64  \n",
      " 18  Height                           740 non-null    int64  \n",
      " 19  Body mass index                  740 non-null    int64  \n",
      " 20  Absenteeism time in hours        740 non-null    int64  \n",
      "dtypes: float64(1), int64(20)\n",
      "memory usage: 121.5 KB\n"
     ]
    }
   ],
   "source": [
    "absent.info()"
   ]
  },
  {
   "cell_type": "markdown",
   "metadata": {
    "colab_type": "text",
    "id": "0cY0ffxDrqWY"
   },
   "source": [
    "We previously used this dataset for KNN regression. Recall that we removed all correlated columns as well as columns that are a function of two or more other columns (like BMI and weight and height) as well as columns that are not useful to us (like ID).\n",
    "We also created dummy variables for the categorical columns in our dataset.\n",
    "Finally, we split the data into test and train (with test being 20% of the data).\n",
    "\n",
    "Perform these actions below."
   ]
  },
  {
   "cell_type": "code",
   "execution_count": 20,
   "metadata": {
    "colab": {},
    "colab_type": "code",
    "id": "0ljCMS2urqWY"
   },
   "outputs": [],
   "source": [
    "#answer below:\n",
    "absent_ = pd.get_dummies(absent, columns=[\n",
    "    'Seasons',\n",
    "    'Education',\n",
    "    'Social drinker',\n",
    "    'Disciplinary failure',\n",
    "    \n",
    "], drop_first=True)\n"
   ]
  },
  {
   "cell_type": "code",
   "execution_count": 21,
   "metadata": {},
   "outputs": [],
   "source": [
    "absent_.drop(['ID'], axis=1, inplace=True)\n",
    "absent_.drop(['Son'], axis=1, inplace=True)\n",
    "absent_.drop(['Pet'], axis=1, inplace=True)\n",
    "absent_.drop(['Day of the week'], axis=1, inplace=True)\n",
    "absent_.drop(['Reason for absence'], axis=1, inplace=True)\n",
    "absent_.drop(['Social smoker'], axis=1, inplace=True)\n",
    "absent_.drop(['Body mass index'], axis=1, inplace=True)"
   ]
  },
  {
   "cell_type": "code",
   "execution_count": 22,
   "metadata": {},
   "outputs": [],
   "source": [
    "X = absent_.drop('Absenteeism time in hours', axis=1)\n",
    "y = absent_['Absenteeism time in hours']\n",
    "\n",
    "X_train, X_test, y_train, y_test = train_test_split(X, y, test_size=.20, random_state=42)"
   ]
  },
  {
   "cell_type": "markdown",
   "metadata": {
    "colab_type": "text",
    "id": "p-_QJzwYrqWa"
   },
   "source": [
    "Scale the independent variables using the standard scaler"
   ]
  },
  {
   "cell_type": "code",
   "execution_count": 24,
   "metadata": {
    "colab": {},
    "colab_type": "code",
    "id": "3VePSftDrqWc"
   },
   "outputs": [],
   "source": [
    "# answer below:\n",
    "from sklearn.preprocessing import StandardScaler\n",
    "from sklearn.compose import ColumnTransformer\n",
    "\n",
    "num_features = ['Height', 'Weight', 'Hit target', 'Age', 'Service time', 'Distance from Residence to Work', 'Transportation expense', 'Month of absence']\n",
    "scaler = StandardScaler()\n",
    "\n",
    "preprocessor = ColumnTransformer(transformers=[('num', scaler, num_features)])\n",
    "\n",
    "X_train_ = preprocessor.fit_transform(X_train)\n",
    "X_test_ = preprocessor.transform(X_test)"
   ]
  },
  {
   "cell_type": "markdown",
   "metadata": {
    "colab_type": "text",
    "id": "Z7aLdNOIrqWe"
   },
   "source": [
    "Generate an SVR model to predict the number of hours of absenteeism. Compare the train and test scores."
   ]
  },
  {
   "cell_type": "code",
   "execution_count": 25,
   "metadata": {
    "colab": {},
    "colab_type": "code",
    "id": "By2JhvYwrqWe"
   },
   "outputs": [
    {
     "data": {
      "text/plain": [
       "SVR(C=1000, cache_size=200, coef0=0.0, degree=3, epsilon=0.01, gamma='auto',\n",
       "    kernel='linear', max_iter=-1, shrinking=True, tol=0.001, verbose=False)"
      ]
     },
     "execution_count": 25,
     "metadata": {},
     "output_type": "execute_result"
    }
   ],
   "source": [
    "# answer below:\n",
    "from sklearn.svm import SVR\n",
    "svr_rbf = SVR(kernel='linear', C=1000, epsilon=0.01, gamma='auto')\n",
    "svr_rbf.fit(X_train_, y_train)"
   ]
  },
  {
   "cell_type": "code",
   "execution_count": 26,
   "metadata": {},
   "outputs": [
    {
     "name": "stdout",
     "output_type": "stream",
     "text": [
      "-0.05340392133992666\n",
      "-0.030637933740691015\n"
     ]
    }
   ],
   "source": [
    "print(svr_rbf.score(X_train_, y_train))\n",
    "print(svr_rbf.score(X_test_, y_test))"
   ]
  },
  {
   "cell_type": "markdown",
   "metadata": {
    "colab_type": "text",
    "id": "_sn-m37hrqWg"
   },
   "source": [
    "If you are unhappy with your model's performance, perform a grid search to optimize C. You may also want to compare something other than R squared, like MSE, and could try some other kernels than just linear."
   ]
  },
  {
   "cell_type": "code",
   "execution_count": 27,
   "metadata": {
    "colab": {},
    "colab_type": "code",
    "id": "BpvxxapErqWg"
   },
   "outputs": [
    {
     "name": "stdout",
     "output_type": "stream",
     "text": [
      "Fitting 5 folds for each of 54 candidates, totalling 270 fits\n"
     ]
    },
    {
     "name": "stderr",
     "output_type": "stream",
     "text": [
      "[Parallel(n_jobs=1)]: Using backend SequentialBackend with 1 concurrent workers.\n",
      "[Parallel(n_jobs=1)]: Done 270 out of 270 | elapsed:    7.5s finished\n"
     ]
    },
    {
     "data": {
      "text/plain": [
       "GridSearchCV(cv=5, error_score=nan,\n",
       "             estimator=SVR(C=1.0, cache_size=200, coef0=0.0, degree=3,\n",
       "                           epsilon=0.1, gamma='scale', kernel='rbf',\n",
       "                           max_iter=-1, shrinking=True, tol=0.001,\n",
       "                           verbose=False),\n",
       "             iid='deprecated', n_jobs=None,\n",
       "             param_grid={'C': [0.1, 10, 100], 'epsilon': [1, 5, 10],\n",
       "                         'gamma': [0.01, 1, 10], 'kernel': ('rbf', 'linear')},\n",
       "             pre_dispatch='2*n_jobs', refit=True, return_train_score=False,\n",
       "             scoring=None, verbose=1)"
      ]
     },
     "execution_count": 27,
     "metadata": {},
     "output_type": "execute_result"
    }
   ],
   "source": [
    "# answer below:\n",
    "from sklearn.model_selection import GridSearchCV\n",
    "param = {'C': [0.1, 10, 100], 'kernel': ('rbf', 'linear'), 'epsilon': [1, 5, 10], 'gamma': [0.01, 1, 10]}\n",
    "svr = SVR()\n",
    "grid = GridSearchCV(estimator=svr, param_grid=param, cv=5, verbose=1, scoring='mean_squared_error')\n",
    "grid.fit(X_train_, y_train)"
   ]
  },
  {
   "cell_type": "code",
   "execution_count": 28,
   "metadata": {},
   "outputs": [
    {
     "data": {
      "text/plain": [
       "{'C': 10, 'epsilon': 5, 'gamma': 1, 'kernel': 'rbf'}"
      ]
     },
     "execution_count": 28,
     "metadata": {},
     "output_type": "execute_result"
    }
   ],
   "source": [
    "grid.best_params_"
   ]
  },
  {
   "cell_type": "code",
   "execution_count": 29,
   "metadata": {},
   "outputs": [
    {
     "data": {
      "text/plain": [
       "SVR(C=10, cache_size=200, coef0=0.0, degree=3, epsilon=5, gamma=1, kernel='rbf',\n",
       "    max_iter=-1, shrinking=True, tol=0.001, verbose=False)"
      ]
     },
     "execution_count": 29,
     "metadata": {},
     "output_type": "execute_result"
    }
   ],
   "source": [
    "best_svr = SVR(kernel='rbf', C=10, epsilon=5, gamma=1)\n",
    "best_svr.fit(X_train_, y_train)"
   ]
  },
  {
   "cell_type": "code",
   "execution_count": 30,
   "metadata": {},
   "outputs": [
    {
     "name": "stdout",
     "output_type": "stream",
     "text": [
      "0.1426500337144182\n",
      "0.0010265581938898594\n"
     ]
    }
   ],
   "source": [
    "print(best_svr.score(X_train_, y_train))\n",
    "print(best_svr.score(X_test_, y_test))"
   ]
  },
  {
   "cell_type": "markdown",
   "metadata": {
    "colab_type": "text",
    "id": "BWn-9lYNa1Nh"
   },
   "source": [
    "Create a homoscedasticity (residual) plot. Look back at your KNN regression exercise (Day 32 Lecture 1). How do your model results compare?"
   ]
  },
  {
   "cell_type": "code",
   "execution_count": 50,
   "metadata": {
    "colab": {},
    "colab_type": "code",
    "id": "qkQ846fqrqWi"
   },
   "outputs": [
    {
     "data": {
      "image/png": "[encoded data removed]",
      "text/plain": [
       "<Figure size 432x288 with 1 Axes>"
      ]
     },
     "metadata": {
      "needs_background": "light"
     },
     "output_type": "display_data"
    }
   ],
   "source": [
    "# answer below:\n",
    "predict_y = best_svr.predict(X_test_)\n",
    "residual = y_test - predict_y\n",
    "\n",
    "plt.scatter(y_test, residual)\n",
    "plt.show()"
   ]
  },
  {
   "cell_type": "code",
   "execution_count": 49,
   "metadata": {},
   "outputs": [
    {
     "data": {
      "text/plain": [
       "8      208\n",
       "2      157\n",
       "3      112\n",
       "1       88\n",
       "4       60\n",
       "0       44\n",
       "16      19\n",
       "24      16\n",
       "40       7\n",
       "5        7\n",
       "32       6\n",
       "64       3\n",
       "80       3\n",
       "120      3\n",
       "112      2\n",
       "56       2\n",
       "48       1\n",
       "7        1\n",
       "104      1\n",
       "Name: Absenteeism time in hours, dtype: int64"
      ]
     },
     "execution_count": 49,
     "metadata": {},
     "output_type": "execute_result"
    }
   ],
   "source": [
    "#It seems that model is off, despite the gridsearch. Here is why\n",
    "y.value_counts()"
   ]
  },
  {
   "cell_type": "code",
   "execution_count": 48,
   "metadata": {},
   "outputs": [
    {
     "data": {
      "image/png": "[encoded data removed]",
      "text/plain": [
       "<Figure size 432x288 with 1 Axes>"
      ]
     },
     "metadata": {
      "needs_background": "light"
     },
     "output_type": "display_data"
    }
   ],
   "source": [
    "plt.hist(y)\n",
    "plt.show()\n",
    "#basically we do not have a enough variance in our data to conduct a meaningful anaylsis. "
   ]
  }
 ],
 "metadata": {
  "colab": {
   "collapsed_sections": [],
   "name": "Day 34 Lecture 1 Assignment.ipynb",
   "provenance": []
  },
  "kernelspec": {
   "display_name": "Python 3",
   "language": "python",
   "name": "python3"
  },
  "language_info": {
   "codemirror_mode": {
    "name": "ipython",
    "version": 3
   },
   "file_extension": ".py",
   "mimetype": "text/x-python",
   "name": "python",
   "nbconvert_exporter": "python",
   "pygments_lexer": "ipython3",
   "version": "3.7.6"
  }
 },
 "nbformat": 4,
 "nbformat_minor": 1
}
