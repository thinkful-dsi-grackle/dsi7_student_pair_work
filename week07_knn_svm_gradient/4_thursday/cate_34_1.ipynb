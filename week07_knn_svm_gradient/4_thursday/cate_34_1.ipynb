{
  "nbformat": 4,
  "nbformat_minor": 0,
  "metadata": {
    "kernelspec": {
      "display_name": "Python 3",
      "language": "python",
      "name": "python3"
    },
    "language_info": {
      "codemirror_mode": {
        "name": "ipython",
        "version": 3
      },
      "file_extension": ".py",
      "mimetype": "text/x-python",
      "name": "python",
      "nbconvert_exporter": "python",
      "pygments_lexer": "ipython3",
      "version": "3.7.0"
    },
    "colab": {
      "name": "cate_34_1.ipynb",
      "provenance": [],
      "collapsed_sections": []
    }
  },
  "cells": [
    {
      "cell_type": "markdown",
      "metadata": {
        "id": "ek_P857brqWQ"
      },
      "source": [
        "## Day 34 Lecture 1 Assignment\n",
        "\n",
        "In this assignment, we will learn about SVR. We will use the absenteeism at work dataset loaded below and analyze the model generated for this dataset."
      ]
    },
    {
      "cell_type": "code",
      "metadata": {
        "id": "Y2OJAjVKrqWR"
      },
      "source": [
        "%matplotlib inline\n",
        "\n",
        "import math\n",
        "\n",
        "import matplotlib.pyplot as plt\n",
        "import numpy as np\n",
        "import pandas as pd"
      ],
      "execution_count": 1,
      "outputs": []
    },
    {
      "cell_type": "code",
      "metadata": {
        "id": "2xl3uos0rqWU"
      },
      "source": [
        "absent = pd.read_csv('https://tf-assets-prod.s3.amazonaws.com/tf-curric/data-science/Absenteeism_at_work.csv', sep=';')"
      ],
      "execution_count": 2,
      "outputs": []
    },
    {
      "cell_type": "code",
      "metadata": {
        "id": "pZV57O_ZrqWV",
        "outputId": "49f70c68-498a-4b82-ed5a-296d79c8ae1b",
        "colab": {
          "base_uri": "https://localhost:8080/",
          "height": 267
        }
      },
      "source": [
        "absent.head()"
      ],
      "execution_count": 3,
      "outputs": [
        {
          "output_type": "execute_result",
          "data": {
            "text/html": [
              "<div>\n",
              "<style scoped>\n",
              "    .dataframe tbody tr th:only-of-type {\n",
              "        vertical-align: middle;\n",
              "    }\n",
              "\n",
              "    .dataframe tbody tr th {\n",
              "        vertical-align: top;\n",
              "    }\n",
              "\n",
              "    .dataframe thead th {\n",
              "        text-align: right;\n",
              "    }\n",
              "</style>\n",
              "<table border=\"1\" class=\"dataframe\">\n",
              "  <thead>\n",
              "    <tr style=\"text-align: right;\">\n",
              "      <th></th>\n",
              "      <th>ID</th>\n",
              "      <th>Reason for absence</th>\n",
              "      <th>Month of absence</th>\n",
              "      <th>Day of the week</th>\n",
              "      <th>Seasons</th>\n",
              "      <th>Transportation expense</th>\n",
              "      <th>Distance from Residence to Work</th>\n",
              "      <th>Service time</th>\n",
              "      <th>Age</th>\n",
              "      <th>Work load Average/day</th>\n",
              "      <th>Hit target</th>\n",
              "      <th>Disciplinary failure</th>\n",
              "      <th>Education</th>\n",
              "      <th>Son</th>\n",
              "      <th>Social drinker</th>\n",
              "      <th>Social smoker</th>\n",
              "      <th>Pet</th>\n",
              "      <th>Weight</th>\n",
              "      <th>Height</th>\n",
              "      <th>Body mass index</th>\n",
              "      <th>Absenteeism time in hours</th>\n",
              "    </tr>\n",
              "  </thead>\n",
              "  <tbody>\n",
              "    <tr>\n",
              "      <th>0</th>\n",
              "      <td>11</td>\n",
              "      <td>26</td>\n",
              "      <td>7</td>\n",
              "      <td>3</td>\n",
              "      <td>1</td>\n",
              "      <td>289</td>\n",
              "      <td>36</td>\n",
              "      <td>13</td>\n",
              "      <td>33</td>\n",
              "      <td>239.554</td>\n",
              "      <td>97</td>\n",
              "      <td>0</td>\n",
              "      <td>1</td>\n",
              "      <td>2</td>\n",
              "      <td>1</td>\n",
              "      <td>0</td>\n",
              "      <td>1</td>\n",
              "      <td>90</td>\n",
              "      <td>172</td>\n",
              "      <td>30</td>\n",
              "      <td>4</td>\n",
              "    </tr>\n",
              "    <tr>\n",
              "      <th>1</th>\n",
              "      <td>36</td>\n",
              "      <td>0</td>\n",
              "      <td>7</td>\n",
              "      <td>3</td>\n",
              "      <td>1</td>\n",
              "      <td>118</td>\n",
              "      <td>13</td>\n",
              "      <td>18</td>\n",
              "      <td>50</td>\n",
              "      <td>239.554</td>\n",
              "      <td>97</td>\n",
              "      <td>1</td>\n",
              "      <td>1</td>\n",
              "      <td>1</td>\n",
              "      <td>1</td>\n",
              "      <td>0</td>\n",
              "      <td>0</td>\n",
              "      <td>98</td>\n",
              "      <td>178</td>\n",
              "      <td>31</td>\n",
              "      <td>0</td>\n",
              "    </tr>\n",
              "    <tr>\n",
              "      <th>2</th>\n",
              "      <td>3</td>\n",
              "      <td>23</td>\n",
              "      <td>7</td>\n",
              "      <td>4</td>\n",
              "      <td>1</td>\n",
              "      <td>179</td>\n",
              "      <td>51</td>\n",
              "      <td>18</td>\n",
              "      <td>38</td>\n",
              "      <td>239.554</td>\n",
              "      <td>97</td>\n",
              "      <td>0</td>\n",
              "      <td>1</td>\n",
              "      <td>0</td>\n",
              "      <td>1</td>\n",
              "      <td>0</td>\n",
              "      <td>0</td>\n",
              "      <td>89</td>\n",
              "      <td>170</td>\n",
              "      <td>31</td>\n",
              "      <td>2</td>\n",
              "    </tr>\n",
              "    <tr>\n",
              "      <th>3</th>\n",
              "      <td>7</td>\n",
              "      <td>7</td>\n",
              "      <td>7</td>\n",
              "      <td>5</td>\n",
              "      <td>1</td>\n",
              "      <td>279</td>\n",
              "      <td>5</td>\n",
              "      <td>14</td>\n",
              "      <td>39</td>\n",
              "      <td>239.554</td>\n",
              "      <td>97</td>\n",
              "      <td>0</td>\n",
              "      <td>1</td>\n",
              "      <td>2</td>\n",
              "      <td>1</td>\n",
              "      <td>1</td>\n",
              "      <td>0</td>\n",
              "      <td>68</td>\n",
              "      <td>168</td>\n",
              "      <td>24</td>\n",
              "      <td>4</td>\n",
              "    </tr>\n",
              "    <tr>\n",
              "      <th>4</th>\n",
              "      <td>11</td>\n",
              "      <td>23</td>\n",
              "      <td>7</td>\n",
              "      <td>5</td>\n",
              "      <td>1</td>\n",
              "      <td>289</td>\n",
              "      <td>36</td>\n",
              "      <td>13</td>\n",
              "      <td>33</td>\n",
              "      <td>239.554</td>\n",
              "      <td>97</td>\n",
              "      <td>0</td>\n",
              "      <td>1</td>\n",
              "      <td>2</td>\n",
              "      <td>1</td>\n",
              "      <td>0</td>\n",
              "      <td>1</td>\n",
              "      <td>90</td>\n",
              "      <td>172</td>\n",
              "      <td>30</td>\n",
              "      <td>2</td>\n",
              "    </tr>\n",
              "  </tbody>\n",
              "</table>\n",
              "</div>"
            ],
            "text/plain": [
              "   ID  Reason for absence  ...  Body mass index  Absenteeism time in hours\n",
              "0  11                  26  ...               30                          4\n",
              "1  36                   0  ...               31                          0\n",
              "2   3                  23  ...               31                          2\n",
              "3   7                   7  ...               24                          4\n",
              "4  11                  23  ...               30                          2\n",
              "\n",
              "[5 rows x 21 columns]"
            ]
          },
          "metadata": {
            "tags": []
          },
          "execution_count": 3
        }
      ]
    },
    {
      "cell_type": "markdown",
      "metadata": {
        "id": "0cY0ffxDrqWY"
      },
      "source": [
        "We previously used this dataset for KNN regression. Recall that we removed all correlated columns as well as columns that are a function of two or more other columns (like BMI and weight and height) as well as columns that are not useful to us (like ID).\n",
        "We also created dummy variables for the categorical columns in our dataset.\n",
        "Finally, we split the data into test and train (with test being 20% of the data).\n",
        "\n",
        "Perform these actions below."
      ]
    },
    {
      "cell_type": "code",
      "metadata": {
        "id": "NZ2zy083oufX"
      },
      "source": [
        "# find occurances of correlation coeficient over .9\n",
        "def get_high_corrs(df):\n",
        "  corrs = df.corr()\n",
        "  selected_columns = []\n",
        "  for i in corrs.columns:\n",
        "    for j in corrs[i].values:\n",
        "      if j >= abs(.9) and j != 1:\n",
        "        selected_columns.append(i)\n",
        "  return selected_columns"
      ],
      "execution_count": 4,
      "outputs": []
    },
    {
      "cell_type": "code",
      "metadata": {
        "id": "-pOKECK88ZP4",
        "outputId": "8d1ec0f6-0af6-49a8-a80d-30b675f61c9a",
        "colab": {
          "base_uri": "https://localhost:8080/"
        }
      },
      "source": [
        "get_high_corrs(absent)"
      ],
      "execution_count": 5,
      "outputs": [
        {
          "output_type": "execute_result",
          "data": {
            "text/plain": [
              "['Weight', 'Body mass index']"
            ]
          },
          "metadata": {
            "tags": []
          },
          "execution_count": 5
        }
      ]
    },
    {
      "cell_type": "code",
      "metadata": {
        "id": "v-4JrTds9Xe7",
        "outputId": "2f99cf6b-a80b-47e8-bb63-0f012762b1e9",
        "colab": {
          "base_uri": "https://localhost:8080/"
        }
      },
      "source": [
        "# check which column has more unique values and drop that column\n",
        "print(absent['Weight'].nunique())\n",
        "print(absent['Body mass index'].nunique())\n",
        "\n",
        "# also dropping 'ID' since we don't need it\n",
        "absent.drop(['Weight', 'ID', 'Disciplinary failure'], axis=1, inplace=True)"
      ],
      "execution_count": 6,
      "outputs": [
        {
          "output_type": "stream",
          "text": [
            "26\n",
            "17\n"
          ],
          "name": "stdout"
        }
      ]
    },
    {
      "cell_type": "code",
      "metadata": {
        "id": "LHMrtmL8-ypl"
      },
      "source": [
        "# absent = pd.get_dummies(absent, columns=['Reason for absence', 'Month of absence', 'Day of the week', 'Seasons', 'Education'], drop_first=True)"
      ],
      "execution_count": 7,
      "outputs": []
    },
    {
      "cell_type": "code",
      "metadata": {
        "id": "MAyDoFnG9P01"
      },
      "source": [
        "from sklearn.model_selection import train_test_split\n",
        "\n",
        "X = absent.drop('Absenteeism time in hours', axis=1)\n",
        "y = absent['Absenteeism time in hours']\n",
        "\n",
        "\n",
        "X_train, X_test, y_train, y_test = train_test_split(X,y, test_size=.2)"
      ],
      "execution_count": 8,
      "outputs": []
    },
    {
      "cell_type": "markdown",
      "metadata": {
        "id": "p-_QJzwYrqWa"
      },
      "source": [
        "Scale the independent variables using the standard scaler"
      ]
    },
    {
      "cell_type": "code",
      "metadata": {
        "id": "zm0gswwBN759"
      },
      "source": [
        "# from sklearn.preprocessing import StandardScaler\n",
        "# scaler = StandardScaler()\n",
        "# X_train_sc = scaler.fit_transform(X_train)\n",
        "# X_test_sc = scaler.transform(X_test)"
      ],
      "execution_count": 9,
      "outputs": []
    },
    {
      "cell_type": "code",
      "metadata": {
        "id": "3VePSftDrqWc"
      },
      "source": [
        "# answer below:\n",
        "from sklearn.preprocessing import StandardScaler, OneHotEncoder\n",
        "from sklearn.compose import ColumnTransformer\n",
        "\n",
        "\n",
        "num_features = ['Transportation expense', 'Distance from Residence to Work',\n",
        "       'Service time', 'Age', 'Work load Average/day ', 'Hit target', 'Son',\n",
        "       'Social drinker', 'Social smoker', 'Pet', 'Height', 'Body mass index']\n",
        "cat_features = ['Reason for absence', 'Month of absence', 'Day of the week', 'Seasons', 'Education']\n",
        "\n",
        "scaler = StandardScaler()\n",
        "onehot = OneHotEncoder(drop='first', sparse=False)\n",
        "\n",
        "preprocessor = ColumnTransformer(transformers=[('num', scaler, num_features),\n",
        "                                               ('cat', onehot, cat_features)])"
      ],
      "execution_count": 16,
      "outputs": []
    },
    {
      "cell_type": "code",
      "metadata": {
        "id": "SheeH-7466pG"
      },
      "source": [
        "X_train_proc = preprocessor.fit_transform(X_train)\n",
        "X_test_proc = preprocessor.fit(X_test)"
      ],
      "execution_count": 17,
      "outputs": []
    },
    {
      "cell_type": "code",
      "metadata": {
        "id": "By2JhvYwrqWe"
      },
      "source": [
        "# # This threw up the error message:\n",
        "#   # Shape of passed values is (592, 59), indices imply (592, 55)\n",
        "# # answer below:\n",
        "# from sklearn import feature_extraction\n",
        "# onehot_features = preprocessor.named_transformers_['cat'].get_feature_names()\n",
        "# all_features = num_features + list(onehot_features)\n",
        "\n",
        "# pd.DataFrame(X_train_proc, columns=all_features, index=X_train.index).head()"
      ],
      "execution_count": 22,
      "outputs": []
    },
    {
      "cell_type": "markdown",
      "metadata": {
        "id": "Z7aLdNOIrqWe"
      },
      "source": [
        "Generate an SVR model to predict the number of hours of absenteeism. Compare the train and test scores."
      ]
    },
    {
      "cell_type": "code",
      "metadata": {
        "id": "93X8kx8LOHuT",
        "outputId": "5d4d4a0d-c364-4f6d-de67-7461b80463fd",
        "colab": {
          "base_uri": "https://localhost:8080/"
        }
      },
      "source": [
        "from sklearn.svm import SVR\n",
        "from sklearn.metrics import accuracy_score\n",
        "svr = SVR(kernel='linear', C=100, epsilon=.5)\n",
        "svr.fit(X_train_sc, y_train)"
      ],
      "execution_count": 13,
      "outputs": [
        {
          "output_type": "execute_result",
          "data": {
            "text/plain": [
              "SVR(C=100, cache_size=200, coef0=0.0, degree=3, epsilon=0.5, gamma='scale',\n",
              "    kernel='linear', max_iter=-1, shrinking=True, tol=0.001, verbose=False)"
            ]
          },
          "metadata": {
            "tags": []
          },
          "execution_count": 13
        }
      ]
    },
    {
      "cell_type": "code",
      "metadata": {
        "id": "xO7r5UnGOyxc",
        "outputId": "60cced4a-7371-4ab4-c6e2-b37d82d59ca3",
        "colab": {
          "base_uri": "https://localhost:8080/"
        }
      },
      "source": [
        "from statsmodels.tools.eval_measures import rmse\n",
        "print('Training R2: ', svr.score(X_train_sc, y_train))\n",
        "print('Testing R2: ', svr.score(X_test_sc, y_test))\n",
        "\n",
        "y_train_preds = svr.predict(X_train_sc)\n",
        "y_test_preds = svr.predict(X_test_sc)\n",
        "\n",
        "print('Training RMSE: ', rmse(y_train, y_train_preds))\n",
        "print('Testing RMSE: ', rmse(y_test, y_test_preds))"
      ],
      "execution_count": 29,
      "outputs": [
        {
          "output_type": "stream",
          "text": [
            "Training R2:  0.1291837049530431\n",
            "Testing R2:  0.07929495702984246\n",
            "Training RMSE:  12.920013270047694\n",
            "Testing RMSE:  10.499872628228966\n"
          ],
          "name": "stdout"
        }
      ]
    },
    {
      "cell_type": "markdown",
      "metadata": {
        "id": "_sn-m37hrqWg"
      },
      "source": [
        "If you are unhappy with your model's performance, perform a grid search to optimize C. You may also want to compare something other than R squared, like MSE, and could try some other kernels than just linear."
      ]
    },
    {
      "cell_type": "code",
      "metadata": {
        "id": "BpvxxapErqWg",
        "outputId": "3f0c1057-ecea-4862-ef89-a7a53b63e5e9",
        "colab": {
          "base_uri": "https://localhost:8080/"
        }
      },
      "source": [
        "# # answer below:\n",
        "from sklearn.model_selection import GridSearchCV\n",
        "\n",
        "grid = {'C': [.1, 1, 10, 1000], 'kernel': ['poly', 'rbf']}\n",
        "svr_cv = GridSearchCV(SVR(), grid, cv=5)\n",
        "svr_cv.fit(X_train_sc, y_train)"
      ],
      "execution_count": 15,
      "outputs": [
        {
          "output_type": "execute_result",
          "data": {
            "text/plain": [
              "GridSearchCV(cv=5, error_score=nan,\n",
              "             estimator=SVR(C=1.0, cache_size=200, coef0=0.0, degree=3,\n",
              "                           epsilon=0.1, gamma='scale', kernel='rbf',\n",
              "                           max_iter=-1, shrinking=True, tol=0.001,\n",
              "                           verbose=False),\n",
              "             iid='deprecated', n_jobs=None,\n",
              "             param_grid={'C': [0.1, 1, 10, 1000], 'kernel': ['poly', 'rbf']},\n",
              "             pre_dispatch='2*n_jobs', refit=True, return_train_score=False,\n",
              "             scoring=None, verbose=0)"
            ]
          },
          "metadata": {
            "tags": []
          },
          "execution_count": 15
        }
      ]
    },
    {
      "cell_type": "code",
      "metadata": {
        "id": "J-HXfzxlzldM",
        "outputId": "283c1e76-45a6-461a-b390-a2b78c1acf60",
        "colab": {
          "base_uri": "https://localhost:8080/"
        }
      },
      "source": [
        "svr_cv.best_params_"
      ],
      "execution_count": 25,
      "outputs": [
        {
          "output_type": "execute_result",
          "data": {
            "text/plain": [
              "{'C': 10, 'kernel': 'rbf'}"
            ]
          },
          "metadata": {
            "tags": []
          },
          "execution_count": 25
        }
      ]
    },
    {
      "cell_type": "code",
      "metadata": {
        "id": "qkQ846fqrqWi",
        "outputId": "b2fbe7a7-aa95-463a-b075-4645449fdcb9",
        "colab": {
          "base_uri": "https://localhost:8080/"
        }
      },
      "source": [
        "# answer below:\n",
        "print('Training R2: ', svr_cv.score(X_train_sc, y_train))\n",
        "print('Testing R2: ', svr_cv.score(X_test_sc, y_test))\n",
        "\n",
        "y_train_preds = svr_cv.predict(X_train_sc)\n",
        "y_test_preds = svr_cv.predict(X_test_sc)\n",
        "\n",
        "print('Training RMSE: ', rmse(y_train, y_train_preds))\n",
        "print('Testing RMSE: ', rmse(y_test, y_test_preds))"
      ],
      "execution_count": 30,
      "outputs": [
        {
          "output_type": "stream",
          "text": [
            "Training R2:  0.23830707547879093\n",
            "Testing R2:  0.11090371411197186\n",
            "Training RMSE:  12.083413760181116\n",
            "Testing RMSE:  10.31806282329013\n"
          ],
          "name": "stdout"
        }
      ]
    },
    {
      "cell_type": "markdown",
      "metadata": {
        "id": "BWn-9lYNa1Nh"
      },
      "source": [
        "Create a homoscedasticity (residual) plot. Look back at your KNN regression exercise (Day 32 Lecture 1). How do your model results compare?"
      ]
    },
    {
      "cell_type": "code",
      "metadata": {
        "id": "CnUb_cIb3eO_",
        "outputId": "cb6c64f6-d8d6-4f79-ff5c-891c93ddd858",
        "colab": {
          "base_uri": "https://localhost:8080/",
          "height": 573
        }
      },
      "source": [
        "train_resid = y_train - y_train_preds\n",
        "test_resid = y_test - y_test_preds\n",
        "\n",
        "\n",
        "plt.scatter(y_train_preds, train_resid)\n",
        "plt.xlabel('Fit')\n",
        "plt.ylabel('Residual')\n",
        "plt.axhline(y=0)\n",
        "plt.title('Training Fit vs. Residual')\n",
        "plt.show()\n",
        "\n",
        "\n",
        "plt.scatter(y_test_preds, test_resid)\n",
        "plt.xlabel('Fit')\n",
        "plt.ylabel('Residual')\n",
        "plt.axhline(y=0)\n",
        "plt.title('Testing Fit vs. Residual')\n",
        "plt.show()\n"
      ],
      "execution_count": 33,
      "outputs": [
        {
          "output_type": "display_data",
          "data": {
            "image/png": "[encoded data removed]",
            "text/plain": [
              "<Figure size 432x288 with 1 Axes>"
            ]
          },
          "metadata": {
            "tags": [],
            "needs_background": "light"
          }
        },
        {
          "output_type": "display_data",
          "data": {
            "image/png": "[encoded data removed]",
            "text/plain": [
              "<Figure size 432x288 with 1 Axes>"
            ]
          },
          "metadata": {
            "tags": [],
            "needs_background": "light"
          }
        }
      ]
    },
    {
      "cell_type": "markdown",
      "metadata": {
        "id": "UJJm-XqwMtKT"
      },
      "source": [
        "The KNN plot had many more large residuals than these plots. Interestingly, the RMSE scores for the two models were comparable. "
      ]
    }
  ]
}