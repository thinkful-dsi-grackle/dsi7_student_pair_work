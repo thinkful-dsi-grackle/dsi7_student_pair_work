{
  "nbformat": 4,
  "nbformat_minor": 0,
  "metadata": {
    "colab": {
      "name": "cate_47_1.ipynb",
      "provenance": [],
      "collapsed_sections": []
    },
    "kernelspec": {
      "display_name": "Python 3",
      "language": "python",
      "name": "python3"
    },
    "language_info": {
      "codemirror_mode": {
        "name": "ipython",
        "version": 3
      },
      "file_extension": ".py",
      "mimetype": "text/x-python",
      "name": "python",
      "nbconvert_exporter": "python",
      "pygments_lexer": "ipython3",
      "version": "3.7.0"
    }
  },
  "cells": [
    {
      "cell_type": "markdown",
      "metadata": {
        "id": "xdL0Yz0D1D_q"
      },
      "source": [
        "## Day 47 Lecture 1 Assignment\n",
        "\n",
        "In this assignment, we will apply k-means clustering to a dataset containing player-season statistics for NBA players from the past four years."
      ]
    },
    {
      "cell_type": "code",
      "metadata": {
        "id": "OulyiH_C1D_r"
      },
      "source": [
        "%matplotlib inline\n",
        "\n",
        "import matplotlib.pyplot as plt\n",
        "import numpy as np\n",
        "import pandas as pd\n",
        "from sklearn.cluster import KMeans\n",
        "from sklearn.preprocessing import StandardScaler"
      ],
      "execution_count": 1,
      "outputs": []
    },
    {
      "cell_type": "markdown",
      "metadata": {
        "id": "ezMvoRlB1D_t"
      },
      "source": [
        "This dataset contains player-season statistics for NBA players from the past four years. Each row in this dataset represents a player's per-game averages for a single season. \n",
        "\n",
        "This dataset contains the following variables:\n",
        "\n",
        "- Seas: season ('2019' = 2018-2019 season, '2018' = 2017-2018 season, etc.)\n",
        "- Player: player name\n",
        "- Pos: position\n",
        "- Age: age\n",
        "- Tm: team\n",
        "- G: games played\n",
        "- GS: games started\n",
        "- MP: minutes played\n",
        "- FG: field goals\n",
        "- FGA: field goals attempted\n",
        "- FG%: field goal percentage\n",
        "- 3P: 3 pointers\n",
        "- 3PA: 3 pointers attempted\n",
        "- 3P%: 3 point percentage\n",
        "- 2P: 2 pointers\n",
        "- 2PA: 2 pointers attempted\n",
        "- 2P%: 2 point percentage\n",
        "- eFG%: effective field goal percentage\n",
        "- FT: free throws\n",
        "- FTA: free throws attempted\n",
        "- FT%: free throw percentage\n",
        "- ORB: offensive rebound\n",
        "- DRB: defensive rebound\n",
        "- TRB: total rebounds\n",
        "- AST: assists\n",
        "- STL: steals\n",
        "- BLK: blocks\n",
        "- TOV: turnovers\n",
        "- PF: personal fouls\n",
        "- PTS: points\n",
        "\n",
        "Load the dataset."
      ]
    },
    {
      "cell_type": "code",
      "metadata": {
        "id": "wP1U4eQ91D_u"
      },
      "source": [
        "# answer goes here\n",
        "data = pd.read_csv('https://tf-assets-prod.s3.amazonaws.com/tf-curric/data-science/Data%20Sets%20Clustering/nba_player_seasons.csv')"
      ],
      "execution_count": 2,
      "outputs": []
    },
    {
      "cell_type": "markdown",
      "metadata": {
        "id": "o_K1eQ0x1D_y"
      },
      "source": [
        "The goal is to cluster these player-seasons to identify potential player \"archetypes\".\n",
        "\n",
        "Begin by removing players whose season did not meet one of the following criteria:\n",
        "1. Started at least 20 games\n",
        "2. Averaged at least 10 minutes per game"
      ]
    },
    {
      "cell_type": "code",
      "metadata": {
        "id": "xfYVreyw1D_y"
      },
      "source": [
        "# answer goes here\n",
        "data = data[data['GS'] >=20]\n",
        "data = data[data['MP'] >= 10]"
      ],
      "execution_count": 5,
      "outputs": []
    },
    {
      "cell_type": "markdown",
      "metadata": {
        "id": "86lfEP_91D_0"
      },
      "source": [
        "Choose a subset of numeric columns that is interesting to you from an \"archetypal\" standpoint. \n",
        "\n",
        "We will choose the following basic statistics: **points, total rebounds, assists, steals, blocks**, and **turnovers**, but you should feel free to choose other reasonable feature sets if you like. Be careful not to include too many dimensions (curse of dimensionality)."
      ]
    },
    {
      "cell_type": "code",
      "metadata": {
        "id": "o3PUI4l61D_0"
      },
      "source": [
        "# answer goes here\n",
        "data = data[['PTS','TRB', 'AST', 'STL', 'BLK', 'TOV']]"
      ],
      "execution_count": 79,
      "outputs": []
    },
    {
      "cell_type": "markdown",
      "metadata": {
        "id": "MUjcLMMk1D_2"
      },
      "source": [
        "Standardize the features in your dataset using scikit-learn's StandardScaler, which will set the mean of each feature to 0 and the variance to 1."
      ]
    },
    {
      "cell_type": "code",
      "metadata": {
        "id": "6OTdN8oF1D_2"
      },
      "source": [
        "# answer goes here\n",
        "sc = StandardScaler()\n",
        "data_sc = sc.fit_transform(data)\n",
        "data_sc = pd.DataFrame(data_sc, columns=data.columns)"
      ],
      "execution_count": 80,
      "outputs": []
    },
    {
      "cell_type": "markdown",
      "metadata": {
        "id": "ao3Y5FVp1D_4"
      },
      "source": [
        "Run K-means clustering with K = 3 and print out the resulting centroids. When printing the centroids, transform the scaled centroids back into their corresponding unscaled values. What \"archetypes\" do you see?"
      ]
    },
    {
      "cell_type": "code",
      "metadata": {
        "id": "sUhMxZdL1D_4"
      },
      "source": [
        "# answer goes here\n",
        "kmeans = KMeans(n_clusters=3)\n",
        "\n",
        "# fit kmeans model\n",
        "kmeans.fit_predict(data_sc)\n",
        "\n",
        "# get cluster centers and unscale them\n",
        "clusters = sc.inverse_transform(kmeans.cluster_centers_)"
      ],
      "execution_count": 100,
      "outputs": []
    },
    {
      "cell_type": "code",
      "metadata": {
        "id": "qOqwn4C263HX",
        "outputId": "e3caeb1c-7445-413a-a066-ef93b7414678",
        "colab": {
          "base_uri": "https://localhost:8080/",
          "height": 103
        }
      },
      "source": [
        "clusters = pd.DataFrame(clusters, columns = data_sc.columns)\n",
        "clusters.style.background_gradient()"
      ],
      "execution_count": 101,
      "outputs": [
        {
          "output_type": "execute_result",
          "data": {
            "text/html": [
              "<style  type=\"text/css\" >\n",
              "#T_3c105210_28f0_11eb_8ef3_0242ac1c0002row0_col0,#T_3c105210_28f0_11eb_8ef3_0242ac1c0002row0_col2,#T_3c105210_28f0_11eb_8ef3_0242ac1c0002row0_col3,#T_3c105210_28f0_11eb_8ef3_0242ac1c0002row0_col5,#T_3c105210_28f0_11eb_8ef3_0242ac1c0002row1_col1,#T_3c105210_28f0_11eb_8ef3_0242ac1c0002row1_col4{\n",
              "            background-color:  #023858;\n",
              "            color:  #f1f1f1;\n",
              "        }#T_3c105210_28f0_11eb_8ef3_0242ac1c0002row0_col1{\n",
              "            background-color:  #c4cbe3;\n",
              "            color:  #000000;\n",
              "        }#T_3c105210_28f0_11eb_8ef3_0242ac1c0002row0_col4{\n",
              "            background-color:  #ebe6f2;\n",
              "            color:  #000000;\n",
              "        }#T_3c105210_28f0_11eb_8ef3_0242ac1c0002row1_col0{\n",
              "            background-color:  #abbfdc;\n",
              "            color:  #000000;\n",
              "        }#T_3c105210_28f0_11eb_8ef3_0242ac1c0002row1_col2,#T_3c105210_28f0_11eb_8ef3_0242ac1c0002row1_col3,#T_3c105210_28f0_11eb_8ef3_0242ac1c0002row2_col0,#T_3c105210_28f0_11eb_8ef3_0242ac1c0002row2_col1,#T_3c105210_28f0_11eb_8ef3_0242ac1c0002row2_col4,#T_3c105210_28f0_11eb_8ef3_0242ac1c0002row2_col5{\n",
              "            background-color:  #fff7fb;\n",
              "            color:  #000000;\n",
              "        }#T_3c105210_28f0_11eb_8ef3_0242ac1c0002row1_col5{\n",
              "            background-color:  #c8cde4;\n",
              "            color:  #000000;\n",
              "        }#T_3c105210_28f0_11eb_8ef3_0242ac1c0002row2_col2{\n",
              "            background-color:  #faf2f8;\n",
              "            color:  #000000;\n",
              "        }#T_3c105210_28f0_11eb_8ef3_0242ac1c0002row2_col3{\n",
              "            background-color:  #f8f1f8;\n",
              "            color:  #000000;\n",
              "        }</style><table id=\"T_3c105210_28f0_11eb_8ef3_0242ac1c0002\" ><thead>    <tr>        <th class=\"blank level0\" ></th>        <th class=\"col_heading level0 col0\" >PTS</th>        <th class=\"col_heading level0 col1\" >TRB</th>        <th class=\"col_heading level0 col2\" >AST</th>        <th class=\"col_heading level0 col3\" >STL</th>        <th class=\"col_heading level0 col4\" >BLK</th>        <th class=\"col_heading level0 col5\" >TOV</th>    </tr></thead><tbody>\n",
              "                <tr>\n",
              "                        <th id=\"T_3c105210_28f0_11eb_8ef3_0242ac1c0002level0_row0\" class=\"row_heading level0 row0\" >0</th>\n",
              "                        <td id=\"T_3c105210_28f0_11eb_8ef3_0242ac1c0002row0_col0\" class=\"data row0 col0\" >19.491620</td>\n",
              "                        <td id=\"T_3c105210_28f0_11eb_8ef3_0242ac1c0002row0_col1\" class=\"data row0 col1\" >5.293855</td>\n",
              "                        <td id=\"T_3c105210_28f0_11eb_8ef3_0242ac1c0002row0_col2\" class=\"data row0 col2\" >5.934078</td>\n",
              "                        <td id=\"T_3c105210_28f0_11eb_8ef3_0242ac1c0002row0_col3\" class=\"data row0 col3\" >1.354190</td>\n",
              "                        <td id=\"T_3c105210_28f0_11eb_8ef3_0242ac1c0002row0_col4\" class=\"data row0 col4\" >0.486034</td>\n",
              "                        <td id=\"T_3c105210_28f0_11eb_8ef3_0242ac1c0002row0_col5\" class=\"data row0 col5\" >2.797765</td>\n",
              "            </tr>\n",
              "            <tr>\n",
              "                        <th id=\"T_3c105210_28f0_11eb_8ef3_0242ac1c0002level0_row1\" class=\"row_heading level0 row1\" >1</th>\n",
              "                        <td id=\"T_3c105210_28f0_11eb_8ef3_0242ac1c0002row1_col0\" class=\"data row1 col0\" >13.735359</td>\n",
              "                        <td id=\"T_3c105210_28f0_11eb_8ef3_0242ac1c0002row1_col1\" class=\"data row1 col1\" >8.605525</td>\n",
              "                        <td id=\"T_3c105210_28f0_11eb_8ef3_0242ac1c0002row1_col2\" class=\"data row1 col2\" >1.914917</td>\n",
              "                        <td id=\"T_3c105210_28f0_11eb_8ef3_0242ac1c0002row1_col3\" class=\"data row1 col3\" >0.777348</td>\n",
              "                        <td id=\"T_3c105210_28f0_11eb_8ef3_0242ac1c0002row1_col4\" class=\"data row1 col4\" >1.230387</td>\n",
              "                        <td id=\"T_3c105210_28f0_11eb_8ef3_0242ac1c0002row1_col5\" class=\"data row1 col5\" >1.668508</td>\n",
              "            </tr>\n",
              "            <tr>\n",
              "                        <th id=\"T_3c105210_28f0_11eb_8ef3_0242ac1c0002level0_row2\" class=\"row_heading level0 row2\" >2</th>\n",
              "                        <td id=\"T_3c105210_28f0_11eb_8ef3_0242ac1c0002row2_col0\" class=\"data row2 col0\" >10.505405</td>\n",
              "                        <td id=\"T_3c105210_28f0_11eb_8ef3_0242ac1c0002row2_col1\" class=\"data row2 col1\" >3.949775</td>\n",
              "                        <td id=\"T_3c105210_28f0_11eb_8ef3_0242ac1c0002row2_col2\" class=\"data row2 col2\" >2.063739</td>\n",
              "                        <td id=\"T_3c105210_28f0_11eb_8ef3_0242ac1c0002row2_col3\" class=\"data row2 col3\" >0.804730</td>\n",
              "                        <td id=\"T_3c105210_28f0_11eb_8ef3_0242ac1c0002row2_col4\" class=\"data row2 col4\" >0.374324</td>\n",
              "                        <td id=\"T_3c105210_28f0_11eb_8ef3_0242ac1c0002row2_col5\" class=\"data row2 col5\" >1.235135</td>\n",
              "            </tr>\n",
              "    </tbody></table>"
            ],
            "text/plain": [
              "<pandas.io.formats.style.Styler at 0x7f51cf8cdc50>"
            ]
          },
          "metadata": {
            "tags": []
          },
          "execution_count": 101
        }
      ]
    },
    {
      "cell_type": "markdown",
      "metadata": {
        "id": "x_Mn9fQR_rGC"
      },
      "source": [
        "Archetype 0 has the highest points scored and also ranks the highest in 3 of the 5 other columns. For total rebounds and turnovers cluster 1 came in first. That was the second highest scoring group."
      ]
    },
    {
      "cell_type": "markdown",
      "metadata": {
        "id": "y0wBOUWJ1D_6"
      },
      "source": [
        "Experiment with different values of K. Do any further interesting archetypes come out?"
      ]
    },
    {
      "cell_type": "code",
      "metadata": {
        "id": "AdKYEBx61D_6",
        "outputId": "077e2937-d781-4799-fff7-5906879e3cdf",
        "colab": {
          "base_uri": "https://localhost:8080/",
          "height": 82
        }
      },
      "source": [
        "# trying different values for k\n",
        "kmeans = KMeans(n_clusters=2)\n",
        "kmeans.fit_predict(data_sc)\n",
        "clusters = sc.inverse_transform(kmeans.cluster_centers_)\n",
        "clusters = pd.DataFrame(clusters, columns=data_sc.columns)\n",
        "\n",
        "clusters.style.background_gradient()"
      ],
      "execution_count": 96,
      "outputs": [
        {
          "output_type": "execute_result",
          "data": {
            "text/html": [
              "<style  type=\"text/css\" >\n",
              "#T_1d476a1c_28f0_11eb_8ef3_0242ac1c0002row0_col0,#T_1d476a1c_28f0_11eb_8ef3_0242ac1c0002row0_col1,#T_1d476a1c_28f0_11eb_8ef3_0242ac1c0002row0_col2,#T_1d476a1c_28f0_11eb_8ef3_0242ac1c0002row0_col3,#T_1d476a1c_28f0_11eb_8ef3_0242ac1c0002row0_col4,#T_1d476a1c_28f0_11eb_8ef3_0242ac1c0002row0_col5{\n",
              "            background-color:  #fff7fb;\n",
              "            color:  #000000;\n",
              "        }#T_1d476a1c_28f0_11eb_8ef3_0242ac1c0002row1_col0,#T_1d476a1c_28f0_11eb_8ef3_0242ac1c0002row1_col1,#T_1d476a1c_28f0_11eb_8ef3_0242ac1c0002row1_col2,#T_1d476a1c_28f0_11eb_8ef3_0242ac1c0002row1_col3,#T_1d476a1c_28f0_11eb_8ef3_0242ac1c0002row1_col4,#T_1d476a1c_28f0_11eb_8ef3_0242ac1c0002row1_col5{\n",
              "            background-color:  #023858;\n",
              "            color:  #f1f1f1;\n",
              "        }</style><table id=\"T_1d476a1c_28f0_11eb_8ef3_0242ac1c0002\" ><thead>    <tr>        <th class=\"blank level0\" ></th>        <th class=\"col_heading level0 col0\" >PTS</th>        <th class=\"col_heading level0 col1\" >TRB</th>        <th class=\"col_heading level0 col2\" >AST</th>        <th class=\"col_heading level0 col3\" >STL</th>        <th class=\"col_heading level0 col4\" >BLK</th>        <th class=\"col_heading level0 col5\" >TOV</th>    </tr></thead><tbody>\n",
              "                <tr>\n",
              "                        <th id=\"T_1d476a1c_28f0_11eb_8ef3_0242ac1c0002level0_row0\" class=\"row_heading level0 row0\" >0</th>\n",
              "                        <td id=\"T_1d476a1c_28f0_11eb_8ef3_0242ac1c0002row0_col0\" class=\"data row0 col0\" >11.003378</td>\n",
              "                        <td id=\"T_1d476a1c_28f0_11eb_8ef3_0242ac1c0002row0_col1\" class=\"data row0 col1\" >5.025338</td>\n",
              "                        <td id=\"T_1d476a1c_28f0_11eb_8ef3_0242ac1c0002row0_col2\" class=\"data row0 col2\" >1.967230</td>\n",
              "                        <td id=\"T_1d476a1c_28f0_11eb_8ef3_0242ac1c0002row0_col3\" class=\"data row0 col3\" >0.776858</td>\n",
              "                        <td id=\"T_1d476a1c_28f0_11eb_8ef3_0242ac1c0002row0_col4\" class=\"data row0 col4\" >0.573818</td>\n",
              "                        <td id=\"T_1d476a1c_28f0_11eb_8ef3_0242ac1c0002row0_col5\" class=\"data row0 col5\" >1.303209</td>\n",
              "            </tr>\n",
              "            <tr>\n",
              "                        <th id=\"T_1d476a1c_28f0_11eb_8ef3_0242ac1c0002level0_row1\" class=\"row_heading level0 row1\" >1</th>\n",
              "                        <td id=\"T_1d476a1c_28f0_11eb_8ef3_0242ac1c0002row1_col0\" class=\"data row1 col0\" >19.459906</td>\n",
              "                        <td id=\"T_1d476a1c_28f0_11eb_8ef3_0242ac1c0002row1_col1\" class=\"data row1 col1\" >6.056132</td>\n",
              "                        <td id=\"T_1d476a1c_28f0_11eb_8ef3_0242ac1c0002row1_col2\" class=\"data row1 col2\" >5.474057</td>\n",
              "                        <td id=\"T_1d476a1c_28f0_11eb_8ef3_0242ac1c0002row1_col3\" class=\"data row1 col3\" >1.323113</td>\n",
              "                        <td id=\"T_1d476a1c_28f0_11eb_8ef3_0242ac1c0002row1_col4\" class=\"data row1 col4\" >0.642453</td>\n",
              "                        <td id=\"T_1d476a1c_28f0_11eb_8ef3_0242ac1c0002row1_col5\" class=\"data row1 col5\" >2.734434</td>\n",
              "            </tr>\n",
              "    </tbody></table>"
            ],
            "text/plain": [
              "<pandas.io.formats.style.Styler at 0x7f51cf8f1b38>"
            ]
          },
          "metadata": {
            "tags": []
          },
          "execution_count": 96
        }
      ]
    },
    {
      "cell_type": "markdown",
      "metadata": {
        "id": "sx1G7mAdAZxX"
      },
      "source": [
        "In two clusters the players who scores more points also had more of every other column. I don't know anything about baseball/basketball? but, assuming all of these things are good, it makes sense that the players who earn more points would also earn more turnovers, rebounds, etc."
      ]
    },
    {
      "cell_type": "code",
      "metadata": {
        "id": "_Kq0pvrd_XBs",
        "outputId": "d57f1f53-4090-4fe3-ce5e-16c5e27ae5ff",
        "colab": {
          "base_uri": "https://localhost:8080/",
          "height": 124
        }
      },
      "source": [
        "# trying different values for k\n",
        "kmeans = KMeans(n_clusters=4)\n",
        "kmeans.fit_predict(data_sc)\n",
        "clusters = sc.inverse_transform(kmeans.cluster_centers_)\n",
        "clusters = pd.DataFrame(clusters, columns=data_sc.columns)\n",
        "\n",
        "clusters.style.background_gradient()"
      ],
      "execution_count": 97,
      "outputs": [
        {
          "output_type": "execute_result",
          "data": {
            "text/html": [
              "<style  type=\"text/css\" >\n",
              "#T_2a51f074_28f0_11eb_8ef3_0242ac1c0002row0_col0,#T_2a51f074_28f0_11eb_8ef3_0242ac1c0002row0_col2,#T_2a51f074_28f0_11eb_8ef3_0242ac1c0002row0_col3,#T_2a51f074_28f0_11eb_8ef3_0242ac1c0002row0_col5,#T_2a51f074_28f0_11eb_8ef3_0242ac1c0002row1_col1,#T_2a51f074_28f0_11eb_8ef3_0242ac1c0002row1_col4{\n",
              "            background-color:  #fff7fb;\n",
              "            color:  #000000;\n",
              "        }#T_2a51f074_28f0_11eb_8ef3_0242ac1c0002row0_col1{\n",
              "            background-color:  #fdf5fa;\n",
              "            color:  #000000;\n",
              "        }#T_2a51f074_28f0_11eb_8ef3_0242ac1c0002row0_col4{\n",
              "            background-color:  #eae6f1;\n",
              "            color:  #000000;\n",
              "        }#T_2a51f074_28f0_11eb_8ef3_0242ac1c0002row1_col0{\n",
              "            background-color:  #89b1d4;\n",
              "            color:  #000000;\n",
              "        }#T_2a51f074_28f0_11eb_8ef3_0242ac1c0002row1_col2{\n",
              "            background-color:  #b5c4df;\n",
              "            color:  #000000;\n",
              "        }#T_2a51f074_28f0_11eb_8ef3_0242ac1c0002row1_col3{\n",
              "            background-color:  #69a5cc;\n",
              "            color:  #000000;\n",
              "        }#T_2a51f074_28f0_11eb_8ef3_0242ac1c0002row1_col5{\n",
              "            background-color:  #b4c4df;\n",
              "            color:  #000000;\n",
              "        }#T_2a51f074_28f0_11eb_8ef3_0242ac1c0002row2_col0{\n",
              "            background-color:  #569dc8;\n",
              "            color:  #000000;\n",
              "        }#T_2a51f074_28f0_11eb_8ef3_0242ac1c0002row2_col1,#T_2a51f074_28f0_11eb_8ef3_0242ac1c0002row2_col4,#T_2a51f074_28f0_11eb_8ef3_0242ac1c0002row3_col0,#T_2a51f074_28f0_11eb_8ef3_0242ac1c0002row3_col2,#T_2a51f074_28f0_11eb_8ef3_0242ac1c0002row3_col3,#T_2a51f074_28f0_11eb_8ef3_0242ac1c0002row3_col5{\n",
              "            background-color:  #023858;\n",
              "            color:  #f1f1f1;\n",
              "        }#T_2a51f074_28f0_11eb_8ef3_0242ac1c0002row2_col2{\n",
              "            background-color:  #e9e5f1;\n",
              "            color:  #000000;\n",
              "        }#T_2a51f074_28f0_11eb_8ef3_0242ac1c0002row2_col3{\n",
              "            background-color:  #dfddec;\n",
              "            color:  #000000;\n",
              "        }#T_2a51f074_28f0_11eb_8ef3_0242ac1c0002row2_col5{\n",
              "            background-color:  #91b5d6;\n",
              "            color:  #000000;\n",
              "        }#T_2a51f074_28f0_11eb_8ef3_0242ac1c0002row3_col1{\n",
              "            background-color:  #c8cde4;\n",
              "            color:  #000000;\n",
              "        }#T_2a51f074_28f0_11eb_8ef3_0242ac1c0002row3_col4{\n",
              "            background-color:  #e5e1ef;\n",
              "            color:  #000000;\n",
              "        }</style><table id=\"T_2a51f074_28f0_11eb_8ef3_0242ac1c0002\" ><thead>    <tr>        <th class=\"blank level0\" ></th>        <th class=\"col_heading level0 col0\" >PTS</th>        <th class=\"col_heading level0 col1\" >TRB</th>        <th class=\"col_heading level0 col2\" >AST</th>        <th class=\"col_heading level0 col3\" >STL</th>        <th class=\"col_heading level0 col4\" >BLK</th>        <th class=\"col_heading level0 col5\" >TOV</th>    </tr></thead><tbody>\n",
              "                <tr>\n",
              "                        <th id=\"T_2a51f074_28f0_11eb_8ef3_0242ac1c0002level0_row0\" class=\"row_heading level0 row0\" >0</th>\n",
              "                        <td id=\"T_2a51f074_28f0_11eb_8ef3_0242ac1c0002row0_col0\" class=\"data row0 col0\" >8.298893</td>\n",
              "                        <td id=\"T_2a51f074_28f0_11eb_8ef3_0242ac1c0002row0_col1\" class=\"data row0 col1\" >4.282288</td>\n",
              "                        <td id=\"T_2a51f074_28f0_11eb_8ef3_0242ac1c0002row0_col2\" class=\"data row0 col2\" >1.390037</td>\n",
              "                        <td id=\"T_2a51f074_28f0_11eb_8ef3_0242ac1c0002row0_col3\" class=\"data row0 col3\" >0.630996</td>\n",
              "                        <td id=\"T_2a51f074_28f0_11eb_8ef3_0242ac1c0002row0_col4\" class=\"data row0 col4\" >0.482657</td>\n",
              "                        <td id=\"T_2a51f074_28f0_11eb_8ef3_0242ac1c0002row0_col5\" class=\"data row0 col5\" >0.975646</td>\n",
              "            </tr>\n",
              "            <tr>\n",
              "                        <th id=\"T_2a51f074_28f0_11eb_8ef3_0242ac1c0002level0_row1\" class=\"row_heading level0 row1\" >1</th>\n",
              "                        <td id=\"T_2a51f074_28f0_11eb_8ef3_0242ac1c0002row1_col0\" class=\"data row1 col0\" >13.636614</td>\n",
              "                        <td id=\"T_2a51f074_28f0_11eb_8ef3_0242ac1c0002row1_col1\" class=\"data row1 col1\" >4.196063</td>\n",
              "                        <td id=\"T_2a51f074_28f0_11eb_8ef3_0242ac1c0002row1_col2\" class=\"data row1 col2\" >3.003937</td>\n",
              "                        <td id=\"T_2a51f074_28f0_11eb_8ef3_0242ac1c0002row1_col3\" class=\"data row1 col3\" >1.034646</td>\n",
              "                        <td id=\"T_2a51f074_28f0_11eb_8ef3_0242ac1c0002row1_col4\" class=\"data row1 col4\" >0.347638</td>\n",
              "                        <td id=\"T_2a51f074_28f0_11eb_8ef3_0242ac1c0002row1_col5\" class=\"data row1 col5\" >1.637795</td>\n",
              "            </tr>\n",
              "            <tr>\n",
              "                        <th id=\"T_2a51f074_28f0_11eb_8ef3_0242ac1c0002level0_row2\" class=\"row_heading level0 row2\" >2</th>\n",
              "                        <td id=\"T_2a51f074_28f0_11eb_8ef3_0242ac1c0002row2_col0\" class=\"data row2 col0\" >14.960000</td>\n",
              "                        <td id=\"T_2a51f074_28f0_11eb_8ef3_0242ac1c0002row2_col1\" class=\"data row2 col1\" >9.123704</td>\n",
              "                        <td id=\"T_2a51f074_28f0_11eb_8ef3_0242ac1c0002row2_col2\" class=\"data row2 col2\" >2.071852</td>\n",
              "                        <td id=\"T_2a51f074_28f0_11eb_8ef3_0242ac1c0002row2_col3\" class=\"data row2 col3\" >0.773333</td>\n",
              "                        <td id=\"T_2a51f074_28f0_11eb_8ef3_0242ac1c0002row2_col4\" class=\"data row2 col4\" >1.361481</td>\n",
              "                        <td id=\"T_2a51f074_28f0_11eb_8ef3_0242ac1c0002row2_col5\" class=\"data row2 col5\" >1.820000</td>\n",
              "            </tr>\n",
              "            <tr>\n",
              "                        <th id=\"T_2a51f074_28f0_11eb_8ef3_0242ac1c0002level0_row3\" class=\"row_heading level0 row3\" >3</th>\n",
              "                        <td id=\"T_2a51f074_28f0_11eb_8ef3_0242ac1c0002row3_col0\" class=\"data row3 col0\" >20.188889</td>\n",
              "                        <td id=\"T_2a51f074_28f0_11eb_8ef3_0242ac1c0002row3_col1\" class=\"data row3 col1\" >5.561806</td>\n",
              "                        <td id=\"T_2a51f074_28f0_11eb_8ef3_0242ac1c0002row3_col2\" class=\"data row3 col2\" >6.289583</td>\n",
              "                        <td id=\"T_2a51f074_28f0_11eb_8ef3_0242ac1c0002row3_col3\" class=\"data row3 col3\" >1.404167</td>\n",
              "                        <td id=\"T_2a51f074_28f0_11eb_8ef3_0242ac1c0002row3_col4\" class=\"data row3 col4\" >0.506944</td>\n",
              "                        <td id=\"T_2a51f074_28f0_11eb_8ef3_0242ac1c0002row3_col5\" class=\"data row3 col5\" >2.952083</td>\n",
              "            </tr>\n",
              "    </tbody></table>"
            ],
            "text/plain": [
              "<pandas.io.formats.style.Styler at 0x7f51cf8f1390>"
            ]
          },
          "metadata": {
            "tags": []
          },
          "execution_count": 97
        }
      ]
    },
    {
      "cell_type": "code",
      "metadata": {
        "id": "T9IwjRPL_Zek",
        "outputId": "91be27b6-232d-4474-b810-eceb44a8b9ab",
        "colab": {
          "base_uri": "https://localhost:8080/",
          "height": 145
        }
      },
      "source": [
        "# trying different values for k\n",
        "kmeans = KMeans(n_clusters=5)\n",
        "kmeans.fit_predict(data_sc)\n",
        "clusters = sc.inverse_transform(kmeans.cluster_centers_)\n",
        "clusters = pd.DataFrame(clusters, columns=data_sc.columns)\n",
        "\n",
        "clusters.style.background_gradient()"
      ],
      "execution_count": 98,
      "outputs": [
        {
          "output_type": "execute_result",
          "data": {
            "text/html": [
              "<style  type=\"text/css\" >\n",
              "#T_2d156660_28f0_11eb_8ef3_0242ac1c0002row0_col0{\n",
              "            background-color:  #bcc7e1;\n",
              "            color:  #000000;\n",
              "        }#T_2d156660_28f0_11eb_8ef3_0242ac1c0002row0_col1{\n",
              "            background-color:  #65a3cb;\n",
              "            color:  #000000;\n",
              "        }#T_2d156660_28f0_11eb_8ef3_0242ac1c0002row0_col2{\n",
              "            background-color:  #f7f0f7;\n",
              "            color:  #000000;\n",
              "        }#T_2d156660_28f0_11eb_8ef3_0242ac1c0002row0_col3{\n",
              "            background-color:  #f1ebf4;\n",
              "            color:  #000000;\n",
              "        }#T_2d156660_28f0_11eb_8ef3_0242ac1c0002row0_col4{\n",
              "            background-color:  #8eb3d5;\n",
              "            color:  #000000;\n",
              "        }#T_2d156660_28f0_11eb_8ef3_0242ac1c0002row0_col5{\n",
              "            background-color:  #d2d3e7;\n",
              "            color:  #000000;\n",
              "        }#T_2d156660_28f0_11eb_8ef3_0242ac1c0002row1_col0,#T_2d156660_28f0_11eb_8ef3_0242ac1c0002row1_col2,#T_2d156660_28f0_11eb_8ef3_0242ac1c0002row1_col3,#T_2d156660_28f0_11eb_8ef3_0242ac1c0002row1_col5,#T_2d156660_28f0_11eb_8ef3_0242ac1c0002row2_col1,#T_2d156660_28f0_11eb_8ef3_0242ac1c0002row2_col4{\n",
              "            background-color:  #023858;\n",
              "            color:  #f1f1f1;\n",
              "        }#T_2d156660_28f0_11eb_8ef3_0242ac1c0002row1_col1{\n",
              "            background-color:  #d1d2e6;\n",
              "            color:  #000000;\n",
              "        }#T_2d156660_28f0_11eb_8ef3_0242ac1c0002row1_col4{\n",
              "            background-color:  #f2ecf5;\n",
              "            color:  #000000;\n",
              "        }#T_2d156660_28f0_11eb_8ef3_0242ac1c0002row2_col0{\n",
              "            background-color:  #034d79;\n",
              "            color:  #f1f1f1;\n",
              "        }#T_2d156660_28f0_11eb_8ef3_0242ac1c0002row2_col2{\n",
              "            background-color:  #d2d2e7;\n",
              "            color:  #000000;\n",
              "        }#T_2d156660_28f0_11eb_8ef3_0242ac1c0002row2_col3{\n",
              "            background-color:  #83afd3;\n",
              "            color:  #000000;\n",
              "        }#T_2d156660_28f0_11eb_8ef3_0242ac1c0002row2_col5{\n",
              "            background-color:  #1379b5;\n",
              "            color:  #f1f1f1;\n",
              "        }#T_2d156660_28f0_11eb_8ef3_0242ac1c0002row3_col0{\n",
              "            background-color:  #7eadd1;\n",
              "            color:  #000000;\n",
              "        }#T_2d156660_28f0_11eb_8ef3_0242ac1c0002row3_col1{\n",
              "            background-color:  #f3edf5;\n",
              "            color:  #000000;\n",
              "        }#T_2d156660_28f0_11eb_8ef3_0242ac1c0002row3_col2{\n",
              "            background-color:  #b9c6e0;\n",
              "            color:  #000000;\n",
              "        }#T_2d156660_28f0_11eb_8ef3_0242ac1c0002row3_col3{\n",
              "            background-color:  #60a1ca;\n",
              "            color:  #000000;\n",
              "        }#T_2d156660_28f0_11eb_8ef3_0242ac1c0002row3_col4,#T_2d156660_28f0_11eb_8ef3_0242ac1c0002row4_col0,#T_2d156660_28f0_11eb_8ef3_0242ac1c0002row4_col1,#T_2d156660_28f0_11eb_8ef3_0242ac1c0002row4_col2,#T_2d156660_28f0_11eb_8ef3_0242ac1c0002row4_col3,#T_2d156660_28f0_11eb_8ef3_0242ac1c0002row4_col5{\n",
              "            background-color:  #fff7fb;\n",
              "            color:  #000000;\n",
              "        }#T_2d156660_28f0_11eb_8ef3_0242ac1c0002row3_col5{\n",
              "            background-color:  #acc0dd;\n",
              "            color:  #000000;\n",
              "        }#T_2d156660_28f0_11eb_8ef3_0242ac1c0002row4_col4{\n",
              "            background-color:  #fdf5fa;\n",
              "            color:  #000000;\n",
              "        }</style><table id=\"T_2d156660_28f0_11eb_8ef3_0242ac1c0002\" ><thead>    <tr>        <th class=\"blank level0\" ></th>        <th class=\"col_heading level0 col0\" >PTS</th>        <th class=\"col_heading level0 col1\" >TRB</th>        <th class=\"col_heading level0 col2\" >AST</th>        <th class=\"col_heading level0 col3\" >STL</th>        <th class=\"col_heading level0 col4\" >BLK</th>        <th class=\"col_heading level0 col5\" >TOV</th>    </tr></thead><tbody>\n",
              "                <tr>\n",
              "                        <th id=\"T_2d156660_28f0_11eb_8ef3_0242ac1c0002level0_row0\" class=\"row_heading level0 row0\" >0</th>\n",
              "                        <td id=\"T_2d156660_28f0_11eb_8ef3_0242ac1c0002row0_col0\" class=\"data row0 col0\" >11.485185</td>\n",
              "                        <td id=\"T_2d156660_28f0_11eb_8ef3_0242ac1c0002row0_col1\" class=\"data row0 col1\" >7.238272</td>\n",
              "                        <td id=\"T_2d156660_28f0_11eb_8ef3_0242ac1c0002row0_col2\" class=\"data row0 col2\" >1.660494</td>\n",
              "                        <td id=\"T_2d156660_28f0_11eb_8ef3_0242ac1c0002row0_col3\" class=\"data row0 col3\" >0.683951</td>\n",
              "                        <td id=\"T_2d156660_28f0_11eb_8ef3_0242ac1c0002row0_col4\" class=\"data row0 col4\" >0.926543</td>\n",
              "                        <td id=\"T_2d156660_28f0_11eb_8ef3_0242ac1c0002row0_col5\" class=\"data row0 col5\" >1.383333</td>\n",
              "            </tr>\n",
              "            <tr>\n",
              "                        <th id=\"T_2d156660_28f0_11eb_8ef3_0242ac1c0002level0_row1\" class=\"row_heading level0 row1\" >1</th>\n",
              "                        <td id=\"T_2d156660_28f0_11eb_8ef3_0242ac1c0002row1_col0\" class=\"data row1 col0\" >19.707639</td>\n",
              "                        <td id=\"T_2d156660_28f0_11eb_8ef3_0242ac1c0002row1_col1\" class=\"data row1 col1\" >5.226389</td>\n",
              "                        <td id=\"T_2d156660_28f0_11eb_8ef3_0242ac1c0002row1_col2\" class=\"data row1 col2\" >6.286806</td>\n",
              "                        <td id=\"T_2d156660_28f0_11eb_8ef3_0242ac1c0002row1_col3\" class=\"data row1 col3\" >1.395833</td>\n",
              "                        <td id=\"T_2d156660_28f0_11eb_8ef3_0242ac1c0002row1_col4\" class=\"data row1 col4\" >0.454861</td>\n",
              "                        <td id=\"T_2d156660_28f0_11eb_8ef3_0242ac1c0002row1_col5\" class=\"data row1 col5\" >2.878472</td>\n",
              "            </tr>\n",
              "            <tr>\n",
              "                        <th id=\"T_2d156660_28f0_11eb_8ef3_0242ac1c0002level0_row2\" class=\"row_heading level0 row2\" >2</th>\n",
              "                        <td id=\"T_2d156660_28f0_11eb_8ef3_0242ac1c0002row2_col0\" class=\"data row2 col0\" >18.730303</td>\n",
              "                        <td id=\"T_2d156660_28f0_11eb_8ef3_0242ac1c0002row2_col1\" class=\"data row2 col1\" >10.577273</td>\n",
              "                        <td id=\"T_2d156660_28f0_11eb_8ef3_0242ac1c0002row2_col2\" class=\"data row2 col2\" >2.603030</td>\n",
              "                        <td id=\"T_2d156660_28f0_11eb_8ef3_0242ac1c0002row2_col3\" class=\"data row2 col3\" >0.972727</td>\n",
              "                        <td id=\"T_2d156660_28f0_11eb_8ef3_0242ac1c0002row2_col4\" class=\"data row2 col4\" >1.692424</td>\n",
              "                        <td id=\"T_2d156660_28f0_11eb_8ef3_0242ac1c0002row2_col5\" class=\"data row2 col5\" >2.315152</td>\n",
              "            </tr>\n",
              "            <tr>\n",
              "                        <th id=\"T_2d156660_28f0_11eb_8ef3_0242ac1c0002level0_row3\" class=\"row_heading level0 row3\" >3</th>\n",
              "                        <td id=\"T_2d156660_28f0_11eb_8ef3_0242ac1c0002row3_col0\" class=\"data row3 col0\" >13.446639</td>\n",
              "                        <td id=\"T_2d156660_28f0_11eb_8ef3_0242ac1c0002row3_col1\" class=\"data row3 col1\" >4.036975</td>\n",
              "                        <td id=\"T_2d156660_28f0_11eb_8ef3_0242ac1c0002row3_col2\" class=\"data row3 col2\" >2.964286</td>\n",
              "                        <td id=\"T_2d156660_28f0_11eb_8ef3_0242ac1c0002row3_col3\" class=\"data row3 col3\" >1.035294</td>\n",
              "                        <td id=\"T_2d156660_28f0_11eb_8ef3_0242ac1c0002row3_col4\" class=\"data row3 col4\" >0.334034</td>\n",
              "                        <td id=\"T_2d156660_28f0_11eb_8ef3_0242ac1c0002row3_col5\" class=\"data row3 col5\" >1.613025</td>\n",
              "            </tr>\n",
              "            <tr>\n",
              "                        <th id=\"T_2d156660_28f0_11eb_8ef3_0242ac1c0002level0_row4\" class=\"row_heading level0 row4\" >4</th>\n",
              "                        <td id=\"T_2d156660_28f0_11eb_8ef3_0242ac1c0002row4_col0\" class=\"data row4 col0\" >7.755155</td>\n",
              "                        <td id=\"T_2d156660_28f0_11eb_8ef3_0242ac1c0002row4_col1\" class=\"data row4 col1\" >3.478351</td>\n",
              "                        <td id=\"T_2d156660_28f0_11eb_8ef3_0242ac1c0002row4_col2\" class=\"data row4 col2\" >1.409794</td>\n",
              "                        <td id=\"T_2d156660_28f0_11eb_8ef3_0242ac1c0002row4_col3\" class=\"data row4 col3\" >0.608247</td>\n",
              "                        <td id=\"T_2d156660_28f0_11eb_8ef3_0242ac1c0002row4_col4\" class=\"data row4 col4\" >0.356186</td>\n",
              "                        <td id=\"T_2d156660_28f0_11eb_8ef3_0242ac1c0002row4_col5\" class=\"data row4 col5\" >0.906701</td>\n",
              "            </tr>\n",
              "    </tbody></table>"
            ],
            "text/plain": [
              "<pandas.io.formats.style.Styler at 0x7f51cf93c198>"
            ]
          },
          "metadata": {
            "tags": []
          },
          "execution_count": 98
        }
      ]
    },
    {
      "cell_type": "markdown",
      "metadata": {
        "id": "ERjrRb1DA4RY"
      },
      "source": [
        "4 and 5 clusters follow a similar pattern as 3 clusters. For 5 clusters, the players who earned the most points (cluster 1) still had top scores in 3 of the 5 remaining columns. Cluster 2 with players scoring the second most points came in first in rebounds and blocks, just like with the 3 clusters. This also holds true with 4 clusters, with cluster 3 being the top scoring players and cluster 2 the 2nd highest point earners. "
      ]
    },
    {
      "cell_type": "markdown",
      "metadata": {
        "id": "h4jp7wWvEuAU"
      },
      "source": [
        "If I'm interpreting this correctly, 2 clusters seems ideal since we have higher scores in all columns in one group and lower scores for all columns in the other group."
      ]
    }
  ]
}