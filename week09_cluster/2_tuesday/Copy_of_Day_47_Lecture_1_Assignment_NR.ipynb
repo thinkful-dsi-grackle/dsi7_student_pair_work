{
  "nbformat": 4,
  "nbformat_minor": 0,
  "metadata": {
    "colab": {
      "name": "Copy of Day 47 Lecture 1 Assignment NR",
      "provenance": [],
      "collapsed_sections": []
    },
    "kernelspec": {
      "display_name": "Python 3",
      "language": "python",
      "name": "python3"
    },
    "language_info": {
      "codemirror_mode": {
        "name": "ipython",
        "version": 3
      },
      "file_extension": ".py",
      "mimetype": "text/x-python",
      "name": "python",
      "nbconvert_exporter": "python",
      "pygments_lexer": "ipython3",
      "version": "3.7.0"
    }
  },
  "cells": [
    {
      "cell_type": "markdown",
      "metadata": {
        "id": "xdL0Yz0D1D_q"
      },
      "source": [
        "## Day 47 Lecture 1 Assignment\n",
        "\n",
        "In this assignment, we will apply k-means clustering to a dataset containing player-season statistics for NBA players from the past four years."
      ]
    },
    {
      "cell_type": "code",
      "metadata": {
        "id": "OulyiH_C1D_r"
      },
      "source": [
        "%matplotlib inline\n",
        "\n",
        "import matplotlib.pyplot as plt\n",
        "import numpy as np\n",
        "import pandas as pd\n",
        "from sklearn.cluster import KMeans\n",
        "from sklearn.preprocessing import StandardScaler"
      ],
      "execution_count": 1,
      "outputs": []
    },
    {
      "cell_type": "markdown",
      "metadata": {
        "id": "ezMvoRlB1D_t"
      },
      "source": [
        "This dataset contains player-season statistics for NBA players from the past four years. Each row in this dataset represents a player's per-game averages for a single season. \n",
        "\n",
        "This dataset contains the following variables:\n",
        "\n",
        "- Seas: season ('2019' = 2018-2019 season, '2018' = 2017-2018 season, etc.)\n",
        "- Player: player name\n",
        "- Pos: position\n",
        "- Age: age\n",
        "- Tm: team\n",
        "- G: games played\n",
        "- GS: games started\n",
        "- MP: minutes played\n",
        "- FG: field goals\n",
        "- FGA: field goals attempted\n",
        "- FG%: field goal percentage\n",
        "- 3P: 3 pointers\n",
        "- 3PA: 3 pointers attempted\n",
        "- 3P%: 3 point percentage\n",
        "- 2P: 2 pointers\n",
        "- 2PA: 2 pointers attempted\n",
        "- 2P%: 2 point percentage\n",
        "- eFG%: effective field goal percentage\n",
        "- FT: free throws\n",
        "- FTA: free throws attempted\n",
        "- FT%: free throw percentage\n",
        "- ORB: offensive rebound\n",
        "- DRB: defensive rebound\n",
        "- TRB: total rebounds\n",
        "- AST: assists\n",
        "- STL: steals\n",
        "- BLK: blocks\n",
        "- TOV: turnovers\n",
        "- PF: personal fouls\n",
        "- PTS: points\n",
        "\n",
        "Load the dataset."
      ]
    },
    {
      "cell_type": "code",
      "metadata": {
        "id": "wP1U4eQ91D_u",
        "colab": {
          "base_uri": "https://localhost:8080/"
        },
        "outputId": "8dee6642-0a65-4254-c51a-e3965cbc2799"
      },
      "source": [
        "# answer goes here\n",
        "\n",
        "bb_df = pd.read_csv('https://tf-assets-prod.s3.amazonaws.com/tf-curric/data-science/Data%20Sets%20Clustering/nba_player_seasons.csv')\n",
        "\n",
        "bb_df.info()\n"
      ],
      "execution_count": 3,
      "outputs": [
        {
          "output_type": "stream",
          "text": [
            "<class 'pandas.core.frame.DataFrame'>\n",
            "RangeIndex: 2141 entries, 0 to 2140\n",
            "Data columns (total 30 columns):\n",
            " #   Column  Non-Null Count  Dtype  \n",
            "---  ------  --------------  -----  \n",
            " 0   Seas    2141 non-null   int64  \n",
            " 1   Player  2141 non-null   object \n",
            " 2   Pos     2141 non-null   object \n",
            " 3   Age     2141 non-null   int64  \n",
            " 4   Tm      2141 non-null   object \n",
            " 5   G       2141 non-null   int64  \n",
            " 6   GS      2141 non-null   int64  \n",
            " 7   MP      2141 non-null   float64\n",
            " 8   FG      2141 non-null   float64\n",
            " 9   FGA     2141 non-null   float64\n",
            " 10  FG%     2131 non-null   float64\n",
            " 11  3P      2141 non-null   float64\n",
            " 12  3PA     2141 non-null   float64\n",
            " 13  3P%     1967 non-null   float64\n",
            " 14  2P      2141 non-null   float64\n",
            " 15  2PA     2141 non-null   float64\n",
            " 16  2P%     2110 non-null   float64\n",
            " 17  eFG%    2131 non-null   float64\n",
            " 18  FT      2141 non-null   float64\n",
            " 19  FTA     2141 non-null   float64\n",
            " 20  FT%     2037 non-null   float64\n",
            " 21  ORB     2141 non-null   float64\n",
            " 22  DRB     2141 non-null   float64\n",
            " 23  TRB     2141 non-null   float64\n",
            " 24  AST     2141 non-null   float64\n",
            " 25  STL     2141 non-null   float64\n",
            " 26  BLK     2141 non-null   float64\n",
            " 27  TOV     2141 non-null   float64\n",
            " 28  PF      2141 non-null   float64\n",
            " 29  PTS     2141 non-null   float64\n",
            "dtypes: float64(23), int64(4), object(3)\n",
            "memory usage: 501.9+ KB\n"
          ],
          "name": "stdout"
        }
      ]
    },
    {
      "cell_type": "markdown",
      "metadata": {
        "id": "o_K1eQ0x1D_y"
      },
      "source": [
        "The goal is to cluster these player-seasons to identify potential player \"archetypes\".\n",
        "\n",
        "Begin by removing players whose season did not meet one of the following criteria:\n",
        "1. Started at least 20 games\n",
        "2. Averaged at least 10 minutes per game"
      ]
    },
    {
      "cell_type": "code",
      "metadata": {
        "id": "xfYVreyw1D_y"
      },
      "source": [
        "# answer goes here\n",
        "\n",
        "new_df = bb_df.loc[(bb_df.MP >= 10) | (bb_df.GS >= 20)]\n",
        "\n"
      ],
      "execution_count": 4,
      "outputs": []
    },
    {
      "cell_type": "markdown",
      "metadata": {
        "id": "86lfEP_91D_0"
      },
      "source": [
        "Choose a subset of numeric columns that is interesting to you from an \"archetypal\" standpoint. \n",
        "\n",
        "We will choose the following basic statistics: **points, total rebounds, assists, steals, blocks**, and **turnovers**, but you should feel free to choose other reasonable feature sets if you like. Be careful not to include too many dimensions (curse of dimensionality)."
      ]
    },
    {
      "cell_type": "code",
      "metadata": {
        "id": "o3PUI4l61D_0"
      },
      "source": [
        "# answer goes here\n",
        "\n",
        "\n",
        "X = new_df[['PTS', 'TRB', 'AST', 'STL', 'BLK', 'TOV']]\n"
      ],
      "execution_count": 5,
      "outputs": []
    },
    {
      "cell_type": "markdown",
      "metadata": {
        "id": "MUjcLMMk1D_2"
      },
      "source": [
        "Standardize the features in your dataset using scikit-learn's StandardScaler, which will set the mean of each feature to 0 and the variance to 1."
      ]
    },
    {
      "cell_type": "code",
      "metadata": {
        "id": "6OTdN8oF1D_2"
      },
      "source": [
        "# answer goes here\n",
        "\n",
        "scaler = StandardScaler()\n",
        "X_scale = pd.DataFrame(scaler.fit_transform(X), columns=X.columns)\n",
        "\n"
      ],
      "execution_count": 9,
      "outputs": []
    },
    {
      "cell_type": "markdown",
      "metadata": {
        "id": "ao3Y5FVp1D_4"
      },
      "source": [
        "Run K-means clustering with K = 3 and print out the resulting centroids. When printing the centroids, transform the scaled centroids back into their corresponding unscaled values. What \"archetypes\" do you see?"
      ]
    },
    {
      "cell_type": "code",
      "metadata": {
        "id": "sUhMxZdL1D_4"
      },
      "source": [
        "# answer goes here\n",
        "\n",
        "\n",
        "k_means = KMeans(n_clusters=3)\n",
        "X_scale['cluster'] = k_means.fit_predict(X_scale)\n",
        "\n",
        "centers = pd.DataFrame(k_means.cluster_centers_, columns=X.columns)\n"
      ],
      "execution_count": 10,
      "outputs": []
    },
    {
      "cell_type": "code",
      "metadata": {
        "colab": {
          "base_uri": "https://localhost:8080/",
          "height": 103
        },
        "id": "DjzX3Kxouc_p",
        "outputId": "be0fab90-e9cf-4ce8-adec-238366872b47"
      },
      "source": [
        "inverse = pd.DataFrame(scaler.inverse_transform(centers), columns=X.columns)\n",
        "inverse.style.background_gradient()"
      ],
      "execution_count": 11,
      "outputs": [
        {
          "output_type": "execute_result",
          "data": {
            "text/html": [
              "<style  type=\"text/css\" >\n",
              "#T_48212d96_29d0_11eb_819a_0242ac1c0002row0_col0,#T_48212d96_29d0_11eb_819a_0242ac1c0002row0_col1,#T_48212d96_29d0_11eb_819a_0242ac1c0002row0_col2,#T_48212d96_29d0_11eb_819a_0242ac1c0002row0_col3,#T_48212d96_29d0_11eb_819a_0242ac1c0002row0_col4,#T_48212d96_29d0_11eb_819a_0242ac1c0002row0_col5{\n",
              "            background-color:  #fff7fb;\n",
              "            color:  #000000;\n",
              "        }#T_48212d96_29d0_11eb_819a_0242ac1c0002row1_col0{\n",
              "            background-color:  #69a5cc;\n",
              "            color:  #000000;\n",
              "        }#T_48212d96_29d0_11eb_819a_0242ac1c0002row1_col1,#T_48212d96_29d0_11eb_819a_0242ac1c0002row1_col4,#T_48212d96_29d0_11eb_819a_0242ac1c0002row2_col0,#T_48212d96_29d0_11eb_819a_0242ac1c0002row2_col2,#T_48212d96_29d0_11eb_819a_0242ac1c0002row2_col3,#T_48212d96_29d0_11eb_819a_0242ac1c0002row2_col5{\n",
              "            background-color:  #023858;\n",
              "            color:  #f1f1f1;\n",
              "        }#T_48212d96_29d0_11eb_819a_0242ac1c0002row1_col2{\n",
              "            background-color:  #f4edf6;\n",
              "            color:  #000000;\n",
              "        }#T_48212d96_29d0_11eb_819a_0242ac1c0002row1_col3{\n",
              "            background-color:  #9ebad9;\n",
              "            color:  #000000;\n",
              "        }#T_48212d96_29d0_11eb_819a_0242ac1c0002row1_col5{\n",
              "            background-color:  #a7bddb;\n",
              "            color:  #000000;\n",
              "        }#T_48212d96_29d0_11eb_819a_0242ac1c0002row2_col1{\n",
              "            background-color:  #93b5d6;\n",
              "            color:  #000000;\n",
              "        }#T_48212d96_29d0_11eb_819a_0242ac1c0002row2_col4{\n",
              "            background-color:  #dedcec;\n",
              "            color:  #000000;\n",
              "        }</style><table id=\"T_48212d96_29d0_11eb_819a_0242ac1c0002\" ><thead>    <tr>        <th class=\"blank level0\" ></th>        <th class=\"col_heading level0 col0\" >PTS</th>        <th class=\"col_heading level0 col1\" >TRB</th>        <th class=\"col_heading level0 col2\" >AST</th>        <th class=\"col_heading level0 col3\" >STL</th>        <th class=\"col_heading level0 col4\" >BLK</th>        <th class=\"col_heading level0 col5\" >TOV</th>    </tr></thead><tbody>\n",
              "                <tr>\n",
              "                        <th id=\"T_48212d96_29d0_11eb_819a_0242ac1c0002level0_row0\" class=\"row_heading level0 row0\" >0</th>\n",
              "                        <td id=\"T_48212d96_29d0_11eb_819a_0242ac1c0002row0_col0\" class=\"data row0 col0\" >6.770469</td>\n",
              "                        <td id=\"T_48212d96_29d0_11eb_819a_0242ac1c0002row0_col1\" class=\"data row0 col1\" >2.848630</td>\n",
              "                        <td id=\"T_48212d96_29d0_11eb_819a_0242ac1c0002row0_col2\" class=\"data row0 col2\" >1.497613</td>\n",
              "                        <td id=\"T_48212d96_29d0_11eb_819a_0242ac1c0002row0_col3\" class=\"data row0 col3\" >0.553492</td>\n",
              "                        <td id=\"T_48212d96_29d0_11eb_819a_0242ac1c0002row0_col4\" class=\"data row0 col4\" >0.284085</td>\n",
              "                        <td id=\"T_48212d96_29d0_11eb_819a_0242ac1c0002row0_col5\" class=\"data row0 col5\" >0.877011</td>\n",
              "            </tr>\n",
              "            <tr>\n",
              "                        <th id=\"T_48212d96_29d0_11eb_819a_0242ac1c0002level0_row1\" class=\"row_heading level0 row1\" >1</th>\n",
              "                        <td id=\"T_48212d96_29d0_11eb_819a_0242ac1c0002row1_col0\" class=\"data row1 col0\" >12.535457</td>\n",
              "                        <td id=\"T_48212d96_29d0_11eb_819a_0242ac1c0002row1_col1\" class=\"data row1 col1\" >7.197507</td>\n",
              "                        <td id=\"T_48212d96_29d0_11eb_819a_0242ac1c0002row1_col2\" class=\"data row1 col2\" >1.783102</td>\n",
              "                        <td id=\"T_48212d96_29d0_11eb_819a_0242ac1c0002row1_col3\" class=\"data row1 col3\" >0.822715</td>\n",
              "                        <td id=\"T_48212d96_29d0_11eb_819a_0242ac1c0002row1_col4\" class=\"data row1 col4\" >0.981717</td>\n",
              "                        <td id=\"T_48212d96_29d0_11eb_819a_0242ac1c0002row1_col5\" class=\"data row1 col5\" >1.488920</td>\n",
              "            </tr>\n",
              "            <tr>\n",
              "                        <th id=\"T_48212d96_29d0_11eb_819a_0242ac1c0002level0_row2\" class=\"row_heading level0 row2\" >2</th>\n",
              "                        <td id=\"T_48212d96_29d0_11eb_819a_0242ac1c0002row2_col0\" class=\"data row2 col0\" >17.829779</td>\n",
              "                        <td id=\"T_48212d96_29d0_11eb_819a_0242ac1c0002row2_col1\" class=\"data row2 col1\" >4.693382</td>\n",
              "                        <td id=\"T_48212d96_29d0_11eb_819a_0242ac1c0002row2_col2\" class=\"data row2 col2\" >5.204044</td>\n",
              "                        <td id=\"T_48212d96_29d0_11eb_819a_0242ac1c0002row2_col3\" class=\"data row2 col3\" >1.232353</td>\n",
              "                        <td id=\"T_48212d96_29d0_11eb_819a_0242ac1c0002row2_col4\" class=\"data row2 col4\" >0.417279</td>\n",
              "                        <td id=\"T_48212d96_29d0_11eb_819a_0242ac1c0002row2_col5\" class=\"data row2 col5\" >2.519853</td>\n",
              "            </tr>\n",
              "    </tbody></table>"
            ],
            "text/plain": [
              "<pandas.io.formats.style.Styler at 0x7f1cd836a5f8>"
            ]
          },
          "metadata": {
            "tags": []
          },
          "execution_count": 11
        }
      ]
    },
    {
      "cell_type": "markdown",
      "metadata": {
        "id": "y0wBOUWJ1D_6"
      },
      "source": [
        "Experiment with different values of K. Do any further interesting archetypes come out?"
      ]
    },
    {
      "cell_type": "code",
      "metadata": {
        "id": "AdKYEBx61D_6",
        "colab": {
          "base_uri": "https://localhost:8080/",
          "height": 124
        },
        "outputId": "47b522a9-7a0a-457b-e0d3-c4be313887fd"
      },
      "source": [
        "# answer goes here\n",
        "\n",
        "scaler = StandardScaler()\n",
        "X_scale = pd.DataFrame(scaler.fit_transform(X), columns=X.columns)\n",
        "k_means = KMeans(n_clusters=4)\n",
        "X_scale['cluster'] = k_means.fit_predict(X_scale)\n",
        "centers = pd.DataFrame(k_means.cluster_centers_, columns=X.columns)\n",
        "\n",
        "inverse = pd.DataFrame(scaler.inverse_transform(centers), columns=X.columns)\n",
        "inverse.style.background_gradient()\n",
        "\n"
      ],
      "execution_count": 12,
      "outputs": [
        {
          "output_type": "execute_result",
          "data": {
            "text/html": [
              "<style  type=\"text/css\" >\n",
              "#T_6b0d9b1e_29d0_11eb_819a_0242ac1c0002row0_col0,#T_6b0d9b1e_29d0_11eb_819a_0242ac1c0002row0_col2,#T_6b0d9b1e_29d0_11eb_819a_0242ac1c0002row0_col3,#T_6b0d9b1e_29d0_11eb_819a_0242ac1c0002row0_col5,#T_6b0d9b1e_29d0_11eb_819a_0242ac1c0002row2_col1,#T_6b0d9b1e_29d0_11eb_819a_0242ac1c0002row2_col4{\n",
              "            background-color:  #023858;\n",
              "            color:  #f1f1f1;\n",
              "        }#T_6b0d9b1e_29d0_11eb_819a_0242ac1c0002row0_col1{\n",
              "            background-color:  #78abd0;\n",
              "            color:  #000000;\n",
              "        }#T_6b0d9b1e_29d0_11eb_819a_0242ac1c0002row0_col4{\n",
              "            background-color:  #d9d8ea;\n",
              "            color:  #000000;\n",
              "        }#T_6b0d9b1e_29d0_11eb_819a_0242ac1c0002row1_col0,#T_6b0d9b1e_29d0_11eb_819a_0242ac1c0002row1_col1,#T_6b0d9b1e_29d0_11eb_819a_0242ac1c0002row1_col2,#T_6b0d9b1e_29d0_11eb_819a_0242ac1c0002row1_col3,#T_6b0d9b1e_29d0_11eb_819a_0242ac1c0002row1_col4,#T_6b0d9b1e_29d0_11eb_819a_0242ac1c0002row1_col5{\n",
              "            background-color:  #fff7fb;\n",
              "            color:  #000000;\n",
              "        }#T_6b0d9b1e_29d0_11eb_819a_0242ac1c0002row2_col0{\n",
              "            background-color:  #71a8ce;\n",
              "            color:  #000000;\n",
              "        }#T_6b0d9b1e_29d0_11eb_819a_0242ac1c0002row2_col2{\n",
              "            background-color:  #e9e5f1;\n",
              "            color:  #000000;\n",
              "        }#T_6b0d9b1e_29d0_11eb_819a_0242ac1c0002row2_col3{\n",
              "            background-color:  #b7c5df;\n",
              "            color:  #000000;\n",
              "        }#T_6b0d9b1e_29d0_11eb_819a_0242ac1c0002row2_col5{\n",
              "            background-color:  #9ebad9;\n",
              "            color:  #000000;\n",
              "        }#T_6b0d9b1e_29d0_11eb_819a_0242ac1c0002row3_col0{\n",
              "            background-color:  #9fbad9;\n",
              "            color:  #000000;\n",
              "        }#T_6b0d9b1e_29d0_11eb_819a_0242ac1c0002row3_col1{\n",
              "            background-color:  #dedcec;\n",
              "            color:  #000000;\n",
              "        }#T_6b0d9b1e_29d0_11eb_819a_0242ac1c0002row3_col2{\n",
              "            background-color:  #bcc7e1;\n",
              "            color:  #000000;\n",
              "        }#T_6b0d9b1e_29d0_11eb_819a_0242ac1c0002row3_col3{\n",
              "            background-color:  #6da6cd;\n",
              "            color:  #000000;\n",
              "        }#T_6b0d9b1e_29d0_11eb_819a_0242ac1c0002row3_col4{\n",
              "            background-color:  #faf3f9;\n",
              "            color:  #000000;\n",
              "        }#T_6b0d9b1e_29d0_11eb_819a_0242ac1c0002row3_col5{\n",
              "            background-color:  #b5c4df;\n",
              "            color:  #000000;\n",
              "        }</style><table id=\"T_6b0d9b1e_29d0_11eb_819a_0242ac1c0002\" ><thead>    <tr>        <th class=\"blank level0\" ></th>        <th class=\"col_heading level0 col0\" >PTS</th>        <th class=\"col_heading level0 col1\" >TRB</th>        <th class=\"col_heading level0 col2\" >AST</th>        <th class=\"col_heading level0 col3\" >STL</th>        <th class=\"col_heading level0 col4\" >BLK</th>        <th class=\"col_heading level0 col5\" >TOV</th>    </tr></thead><tbody>\n",
              "                <tr>\n",
              "                        <th id=\"T_6b0d9b1e_29d0_11eb_819a_0242ac1c0002level0_row0\" class=\"row_heading level0 row0\" >0</th>\n",
              "                        <td id=\"T_6b0d9b1e_29d0_11eb_819a_0242ac1c0002row0_col0\" class=\"data row0 col0\" >19.837952</td>\n",
              "                        <td id=\"T_6b0d9b1e_29d0_11eb_819a_0242ac1c0002row0_col1\" class=\"data row0 col1\" >5.399398</td>\n",
              "                        <td id=\"T_6b0d9b1e_29d0_11eb_819a_0242ac1c0002row0_col2\" class=\"data row0 col2\" >6.106627</td>\n",
              "                        <td id=\"T_6b0d9b1e_29d0_11eb_819a_0242ac1c0002row0_col3\" class=\"data row0 col3\" >1.374699</td>\n",
              "                        <td id=\"T_6b0d9b1e_29d0_11eb_819a_0242ac1c0002row0_col4\" class=\"data row0 col4\" >0.493976</td>\n",
              "                        <td id=\"T_6b0d9b1e_29d0_11eb_819a_0242ac1c0002row0_col5\" class=\"data row0 col5\" >2.871687</td>\n",
              "            </tr>\n",
              "            <tr>\n",
              "                        <th id=\"T_6b0d9b1e_29d0_11eb_819a_0242ac1c0002level0_row1\" class=\"row_heading level0 row1\" >1</th>\n",
              "                        <td id=\"T_6b0d9b1e_29d0_11eb_819a_0242ac1c0002row1_col0\" class=\"data row1 col0\" >5.763270</td>\n",
              "                        <td id=\"T_6b0d9b1e_29d0_11eb_819a_0242ac1c0002row1_col1\" class=\"data row1 col1\" >2.777725</td>\n",
              "                        <td id=\"T_6b0d9b1e_29d0_11eb_819a_0242ac1c0002row1_col2\" class=\"data row1 col2\" >1.106754</td>\n",
              "                        <td id=\"T_6b0d9b1e_29d0_11eb_819a_0242ac1c0002row1_col3\" class=\"data row1 col3\" >0.444431</td>\n",
              "                        <td id=\"T_6b0d9b1e_29d0_11eb_819a_0242ac1c0002row1_col4\" class=\"data row1 col4\" >0.298934</td>\n",
              "                        <td id=\"T_6b0d9b1e_29d0_11eb_819a_0242ac1c0002row1_col5\" class=\"data row1 col5\" >0.733412</td>\n",
              "            </tr>\n",
              "            <tr>\n",
              "                        <th id=\"T_6b0d9b1e_29d0_11eb_819a_0242ac1c0002level0_row2\" class=\"row_heading level0 row2\" >2</th>\n",
              "                        <td id=\"T_6b0d9b1e_29d0_11eb_819a_0242ac1c0002row2_col0\" class=\"data row2 col0\" >12.897835</td>\n",
              "                        <td id=\"T_6b0d9b1e_29d0_11eb_819a_0242ac1c0002row2_col1\" class=\"data row2 col1\" >8.126407</td>\n",
              "                        <td id=\"T_6b0d9b1e_29d0_11eb_819a_0242ac1c0002row2_col2\" class=\"data row2 col2\" >1.792641</td>\n",
              "                        <td id=\"T_6b0d9b1e_29d0_11eb_819a_0242ac1c0002row2_col3\" class=\"data row2 col3\" >0.746753</td>\n",
              "                        <td id=\"T_6b0d9b1e_29d0_11eb_819a_0242ac1c0002row2_col4\" class=\"data row2 col4\" >1.222078</td>\n",
              "                        <td id=\"T_6b0d9b1e_29d0_11eb_819a_0242ac1c0002row2_col5\" class=\"data row2 col5\" >1.578355</td>\n",
              "            </tr>\n",
              "            <tr>\n",
              "                        <th id=\"T_6b0d9b1e_29d0_11eb_819a_0242ac1c0002level0_row3\" class=\"row_heading level0 row3\" >3</th>\n",
              "                        <td id=\"T_6b0d9b1e_29d0_11eb_819a_0242ac1c0002row3_col0\" class=\"data row3 col0\" >11.272849</td>\n",
              "                        <td id=\"T_6b0d9b1e_29d0_11eb_819a_0242ac1c0002row3_col1\" class=\"data row3 col1\" >3.783556</td>\n",
              "                        <td id=\"T_6b0d9b1e_29d0_11eb_819a_0242ac1c0002row3_col2\" class=\"data row3 col2\" >2.659847</td>\n",
              "                        <td id=\"T_6b0d9b1e_29d0_11eb_819a_0242ac1c0002row3_col3\" class=\"data row3 col3\" >0.922371</td>\n",
              "                        <td id=\"T_6b0d9b1e_29d0_11eb_819a_0242ac1c0002row3_col4\" class=\"data row3 col4\" >0.330019</td>\n",
              "                        <td id=\"T_6b0d9b1e_29d0_11eb_819a_0242ac1c0002row3_col5\" class=\"data row3 col5\" >1.442639</td>\n",
              "            </tr>\n",
              "    </tbody></table>"
            ],
            "text/plain": [
              "<pandas.io.formats.style.Styler at 0x7f1cd836aef0>"
            ]
          },
          "metadata": {
            "tags": []
          },
          "execution_count": 12
        }
      ]
    },
    {
      "cell_type": "code",
      "metadata": {
        "colab": {
          "base_uri": "https://localhost:8080/",
          "height": 166
        },
        "id": "poSotE4Su1y3",
        "outputId": "5be74ea0-0647-40a1-fec6-056c6432b91c"
      },
      "source": [
        "scaler = StandardScaler()\n",
        "X_scale = pd.DataFrame(scaler.fit_transform(X), columns=X.columns)\n",
        "k_means = KMeans(n_clusters=6)\n",
        "X_scale['cluster'] = k_means.fit_predict(X_scale)\n",
        "centers = pd.DataFrame(k_means.cluster_centers_, columns=X.columns)\n",
        "\n",
        "inverse = pd.DataFrame(scaler.inverse_transform(centers), columns=X.columns)\n",
        "inverse.style.background_gradient()"
      ],
      "execution_count": 13,
      "outputs": [
        {
          "output_type": "execute_result",
          "data": {
            "text/html": [
              "<style  type=\"text/css\" >\n",
              "#T_987d31ea_29d0_11eb_819a_0242ac1c0002row0_col0,#T_987d31ea_29d0_11eb_819a_0242ac1c0002row0_col1,#T_987d31ea_29d0_11eb_819a_0242ac1c0002row0_col3,#T_987d31ea_29d0_11eb_819a_0242ac1c0002row0_col4,#T_987d31ea_29d0_11eb_819a_0242ac1c0002row0_col5,#T_987d31ea_29d0_11eb_819a_0242ac1c0002row5_col2{\n",
              "            background-color:  #fff7fb;\n",
              "            color:  #000000;\n",
              "        }#T_987d31ea_29d0_11eb_819a_0242ac1c0002row0_col2{\n",
              "            background-color:  #fef6fa;\n",
              "            color:  #000000;\n",
              "        }#T_987d31ea_29d0_11eb_819a_0242ac1c0002row1_col0{\n",
              "            background-color:  #045e93;\n",
              "            color:  #f1f1f1;\n",
              "        }#T_987d31ea_29d0_11eb_819a_0242ac1c0002row1_col1,#T_987d31ea_29d0_11eb_819a_0242ac1c0002row1_col4,#T_987d31ea_29d0_11eb_819a_0242ac1c0002row4_col0,#T_987d31ea_29d0_11eb_819a_0242ac1c0002row4_col2,#T_987d31ea_29d0_11eb_819a_0242ac1c0002row4_col3,#T_987d31ea_29d0_11eb_819a_0242ac1c0002row4_col5{\n",
              "            background-color:  #023858;\n",
              "            color:  #f1f1f1;\n",
              "        }#T_987d31ea_29d0_11eb_819a_0242ac1c0002row1_col2{\n",
              "            background-color:  #d2d3e7;\n",
              "            color:  #000000;\n",
              "        }#T_987d31ea_29d0_11eb_819a_0242ac1c0002row1_col3{\n",
              "            background-color:  #7dacd1;\n",
              "            color:  #000000;\n",
              "        }#T_987d31ea_29d0_11eb_819a_0242ac1c0002row1_col5{\n",
              "            background-color:  #2081b9;\n",
              "            color:  #000000;\n",
              "        }#T_987d31ea_29d0_11eb_819a_0242ac1c0002row2_col0{\n",
              "            background-color:  #529bc7;\n",
              "            color:  #000000;\n",
              "        }#T_987d31ea_29d0_11eb_819a_0242ac1c0002row2_col1{\n",
              "            background-color:  #569dc8;\n",
              "            color:  #000000;\n",
              "        }#T_987d31ea_29d0_11eb_819a_0242ac1c0002row2_col2{\n",
              "            background-color:  #dddbec;\n",
              "            color:  #000000;\n",
              "        }#T_987d31ea_29d0_11eb_819a_0242ac1c0002row2_col3{\n",
              "            background-color:  #5c9fc9;\n",
              "            color:  #000000;\n",
              "        }#T_987d31ea_29d0_11eb_819a_0242ac1c0002row2_col4{\n",
              "            background-color:  #c6cce3;\n",
              "            color:  #000000;\n",
              "        }#T_987d31ea_29d0_11eb_819a_0242ac1c0002row2_col5{\n",
              "            background-color:  #a1bbda;\n",
              "            color:  #000000;\n",
              "        }#T_987d31ea_29d0_11eb_819a_0242ac1c0002row3_col0,#T_987d31ea_29d0_11eb_819a_0242ac1c0002row3_col5,#T_987d31ea_29d0_11eb_819a_0242ac1c0002row4_col1{\n",
              "            background-color:  #acc0dd;\n",
              "            color:  #000000;\n",
              "        }#T_987d31ea_29d0_11eb_819a_0242ac1c0002row3_col1{\n",
              "            background-color:  #f4edf6;\n",
              "            color:  #000000;\n",
              "        }#T_987d31ea_29d0_11eb_819a_0242ac1c0002row3_col2{\n",
              "            background-color:  #a4bcda;\n",
              "            color:  #000000;\n",
              "        }#T_987d31ea_29d0_11eb_819a_0242ac1c0002row3_col3{\n",
              "            background-color:  #84b0d3;\n",
              "            color:  #000000;\n",
              "        }#T_987d31ea_29d0_11eb_819a_0242ac1c0002row3_col4{\n",
              "            background-color:  #fcf4fa;\n",
              "            color:  #000000;\n",
              "        }#T_987d31ea_29d0_11eb_819a_0242ac1c0002row4_col4{\n",
              "            background-color:  #e7e3f0;\n",
              "            color:  #000000;\n",
              "        }#T_987d31ea_29d0_11eb_819a_0242ac1c0002row5_col0{\n",
              "            background-color:  #ede8f3;\n",
              "            color:  #000000;\n",
              "        }#T_987d31ea_29d0_11eb_819a_0242ac1c0002row5_col1{\n",
              "            background-color:  #b9c6e0;\n",
              "            color:  #000000;\n",
              "        }#T_987d31ea_29d0_11eb_819a_0242ac1c0002row5_col3{\n",
              "            background-color:  #f0eaf4;\n",
              "            color:  #000000;\n",
              "        }#T_987d31ea_29d0_11eb_819a_0242ac1c0002row5_col4{\n",
              "            background-color:  #b3c3de;\n",
              "            color:  #000000;\n",
              "        }#T_987d31ea_29d0_11eb_819a_0242ac1c0002row5_col5{\n",
              "            background-color:  #f2ecf5;\n",
              "            color:  #000000;\n",
              "        }</style><table id=\"T_987d31ea_29d0_11eb_819a_0242ac1c0002\" ><thead>    <tr>        <th class=\"blank level0\" ></th>        <th class=\"col_heading level0 col0\" >PTS</th>        <th class=\"col_heading level0 col1\" >TRB</th>        <th class=\"col_heading level0 col2\" >AST</th>        <th class=\"col_heading level0 col3\" >STL</th>        <th class=\"col_heading level0 col4\" >BLK</th>        <th class=\"col_heading level0 col5\" >TOV</th>    </tr></thead><tbody>\n",
              "                <tr>\n",
              "                        <th id=\"T_987d31ea_29d0_11eb_819a_0242ac1c0002level0_row0\" class=\"row_heading level0 row0\" >0</th>\n",
              "                        <td id=\"T_987d31ea_29d0_11eb_819a_0242ac1c0002row0_col0\" class=\"data row0 col0\" >5.498403</td>\n",
              "                        <td id=\"T_987d31ea_29d0_11eb_819a_0242ac1c0002row0_col1\" class=\"data row0 col1\" >2.329393</td>\n",
              "                        <td id=\"T_987d31ea_29d0_11eb_819a_0242ac1c0002row0_col2\" class=\"data row0 col2\" >1.101438</td>\n",
              "                        <td id=\"T_987d31ea_29d0_11eb_819a_0242ac1c0002row0_col3\" class=\"data row0 col3\" >0.434984</td>\n",
              "                        <td id=\"T_987d31ea_29d0_11eb_819a_0242ac1c0002row0_col4\" class=\"data row0 col4\" >0.197284</td>\n",
              "                        <td id=\"T_987d31ea_29d0_11eb_819a_0242ac1c0002row0_col5\" class=\"data row0 col5\" >0.698083</td>\n",
              "            </tr>\n",
              "            <tr>\n",
              "                        <th id=\"T_987d31ea_29d0_11eb_819a_0242ac1c0002level0_row1\" class=\"row_heading level0 row1\" >1</th>\n",
              "                        <td id=\"T_987d31ea_29d0_11eb_819a_0242ac1c0002row1_col0\" class=\"data row1 col0\" >17.398795</td>\n",
              "                        <td id=\"T_987d31ea_29d0_11eb_819a_0242ac1c0002row1_col1\" class=\"data row1 col1\" >9.968675</td>\n",
              "                        <td id=\"T_987d31ea_29d0_11eb_819a_0242ac1c0002row1_col2\" class=\"data row1 col2\" >2.292771</td>\n",
              "                        <td id=\"T_987d31ea_29d0_11eb_819a_0242ac1c0002row1_col3\" class=\"data row1 col3\" >0.883133</td>\n",
              "                        <td id=\"T_987d31ea_29d0_11eb_819a_0242ac1c0002row1_col4\" class=\"data row1 col4\" >1.771084</td>\n",
              "                        <td id=\"T_987d31ea_29d0_11eb_819a_0242ac1c0002row1_col5\" class=\"data row1 col5\" >2.149398</td>\n",
              "            </tr>\n",
              "            <tr>\n",
              "                        <th id=\"T_987d31ea_29d0_11eb_819a_0242ac1c0002level0_row2\" class=\"row_heading level0 row2\" >2</th>\n",
              "                        <td id=\"T_987d31ea_29d0_11eb_819a_0242ac1c0002row2_col0\" class=\"data row2 col0\" >13.416087</td>\n",
              "                        <td id=\"T_987d31ea_29d0_11eb_819a_0242ac1c0002row2_col1\" class=\"data row2 col1\" >6.600870</td>\n",
              "                        <td id=\"T_987d31ea_29d0_11eb_819a_0242ac1c0002row2_col2\" class=\"data row2 col2\" >2.054348</td>\n",
              "                        <td id=\"T_987d31ea_29d0_11eb_819a_0242ac1c0002row2_col3\" class=\"data row2 col3\" >0.951304</td>\n",
              "                        <td id=\"T_987d31ea_29d0_11eb_819a_0242ac1c0002row2_col4\" class=\"data row2 col4\" >0.639565</td>\n",
              "                        <td id=\"T_987d31ea_29d0_11eb_819a_0242ac1c0002row2_col5\" class=\"data row2 col5\" >1.529565</td>\n",
              "            </tr>\n",
              "            <tr>\n",
              "                        <th id=\"T_987d31ea_29d0_11eb_819a_0242ac1c0002level0_row3\" class=\"row_heading level0 row3\" >3</th>\n",
              "                        <td id=\"T_987d31ea_29d0_11eb_819a_0242ac1c0002row3_col0\" class=\"data row3 col0\" >10.506199</td>\n",
              "                        <td id=\"T_987d31ea_29d0_11eb_819a_0242ac1c0002row3_col1\" class=\"data row3 col1\" >2.921833</td>\n",
              "                        <td id=\"T_987d31ea_29d0_11eb_819a_0242ac1c0002row3_col2\" class=\"data row3 col2\" >3.016981</td>\n",
              "                        <td id=\"T_987d31ea_29d0_11eb_819a_0242ac1c0002row3_col3\" class=\"data row3 col3\" >0.867385</td>\n",
              "                        <td id=\"T_987d31ea_29d0_11eb_819a_0242ac1c0002row3_col4\" class=\"data row3 col4\" >0.231536</td>\n",
              "                        <td id=\"T_987d31ea_29d0_11eb_819a_0242ac1c0002row3_col5\" class=\"data row3 col5\" >1.458760</td>\n",
              "            </tr>\n",
              "            <tr>\n",
              "                        <th id=\"T_987d31ea_29d0_11eb_819a_0242ac1c0002level0_row4\" class=\"row_heading level0 row4\" >4</th>\n",
              "                        <td id=\"T_987d31ea_29d0_11eb_819a_0242ac1c0002row4_col0\" class=\"data row4 col0\" >19.448718</td>\n",
              "                        <td id=\"T_987d31ea_29d0_11eb_819a_0242ac1c0002row4_col1\" class=\"data row4 col1\" >5.061538</td>\n",
              "                        <td id=\"T_987d31ea_29d0_11eb_819a_0242ac1c0002row4_col2\" class=\"data row4 col2\" >6.200000</td>\n",
              "                        <td id=\"T_987d31ea_29d0_11eb_819a_0242ac1c0002row4_col3\" class=\"data row4 col3\" >1.373718</td>\n",
              "                        <td id=\"T_987d31ea_29d0_11eb_819a_0242ac1c0002row4_col4\" class=\"data row4 col4\" >0.433333</td>\n",
              "                        <td id=\"T_987d31ea_29d0_11eb_819a_0242ac1c0002row4_col5\" class=\"data row4 col5\" >2.832051</td>\n",
              "            </tr>\n",
              "            <tr>\n",
              "                        <th id=\"T_987d31ea_29d0_11eb_819a_0242ac1c0002level0_row5\" class=\"row_heading level0 row5\" >5</th>\n",
              "                        <td id=\"T_987d31ea_29d0_11eb_819a_0242ac1c0002row5_col0\" class=\"data row5 col0\" >7.143624</td>\n",
              "                        <td id=\"T_987d31ea_29d0_11eb_819a_0242ac1c0002row5_col1\" class=\"data row5 col1\" >4.762752</td>\n",
              "                        <td id=\"T_987d31ea_29d0_11eb_819a_0242ac1c0002row5_col2\" class=\"data row5 col2\" >1.054362</td>\n",
              "                        <td id=\"T_987d31ea_29d0_11eb_819a_0242ac1c0002row5_col3\" class=\"data row5 col3\" >0.529195</td>\n",
              "                        <td id=\"T_987d31ea_29d0_11eb_819a_0242ac1c0002row5_col4\" class=\"data row5 col4\" >0.731879</td>\n",
              "                        <td id=\"T_987d31ea_29d0_11eb_819a_0242ac1c0002row5_col5\" class=\"data row5 col5\" >0.887919</td>\n",
              "            </tr>\n",
              "    </tbody></table>"
            ],
            "text/plain": [
              "<pandas.io.formats.style.Styler at 0x7f1cd836af28>"
            ]
          },
          "metadata": {
            "tags": []
          },
          "execution_count": 13
        }
      ]
    },
    {
      "cell_type": "code",
      "metadata": {
        "id": "_M1J-2PwvITh"
      },
      "source": [
        "#used clusters 3, 4, and 6 big differences each time. "
      ],
      "execution_count": 14,
      "outputs": []
    },
    {
      "cell_type": "code",
      "metadata": {
        "id": "chqYGJZnvbot"
      },
      "source": [
        ""
      ],
      "execution_count": null,
      "outputs": []
    }
  ]
}