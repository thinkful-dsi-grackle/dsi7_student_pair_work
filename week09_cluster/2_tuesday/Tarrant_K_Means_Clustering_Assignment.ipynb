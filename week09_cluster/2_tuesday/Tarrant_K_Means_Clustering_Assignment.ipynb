{
  "nbformat": 4,
  "nbformat_minor": 0,
  "metadata": {
    "colab": {
      "name": "Tarrant_K_Means_Clustering_Assignment.ipynb",
      "provenance": [],
      "collapsed_sections": []
    },
    "kernelspec": {
      "display_name": "Python 3",
      "language": "python",
      "name": "python3"
    },
    "language_info": {
      "codemirror_mode": {
        "name": "ipython",
        "version": 3
      },
      "file_extension": ".py",
      "mimetype": "text/x-python",
      "name": "python",
      "nbconvert_exporter": "python",
      "pygments_lexer": "ipython3",
      "version": "3.7.0"
    }
  },
  "cells": [
    {
      "cell_type": "markdown",
      "metadata": {
        "id": "xdL0Yz0D1D_q"
      },
      "source": [
        "## Day 47 Lecture 1 Assignment\n",
        "\n",
        "In this assignment, we will apply k-means clustering to a dataset containing player-season statistics for NBA players from the past four years."
      ]
    },
    {
      "cell_type": "code",
      "metadata": {
        "id": "OulyiH_C1D_r"
      },
      "source": [
        "%matplotlib inline\n",
        "\n",
        "import matplotlib.pyplot as plt\n",
        "import numpy as np\n",
        "import pandas as pd\n",
        "from sklearn.cluster import KMeans\n",
        "from sklearn.preprocessing import StandardScaler"
      ],
      "execution_count": 1,
      "outputs": []
    },
    {
      "cell_type": "markdown",
      "metadata": {
        "id": "ezMvoRlB1D_t"
      },
      "source": [
        "This dataset contains player-season statistics for NBA players from the past four years. Each row in this dataset represents a player's per-game averages for a single season. \n",
        "\n",
        "This dataset contains the following variables:\n",
        "\n",
        "- Seas: season ('2019' = 2018-2019 season, '2018' = 2017-2018 season, etc.)\n",
        "- Player: player name\n",
        "- Pos: position\n",
        "- Age: age\n",
        "- Tm: team\n",
        "- G: games played\n",
        "- GS: games started\n",
        "- MP: minutes played\n",
        "- FG: field goals\n",
        "- FGA: field goals attempted\n",
        "- FG%: field goal percentage\n",
        "- 3P: 3 pointers\n",
        "- 3PA: 3 pointers attempted\n",
        "- 3P%: 3 point percentage\n",
        "- 2P: 2 pointers\n",
        "- 2PA: 2 pointers attempted\n",
        "- 2P%: 2 point percentage\n",
        "- eFG%: effective field goal percentage\n",
        "- FT: free throws\n",
        "- FTA: free throws attempted\n",
        "- FT%: free throw percentage\n",
        "- ORB: offensive rebound\n",
        "- DRB: defensive rebound\n",
        "- TRB: total rebounds\n",
        "- AST: assists\n",
        "- STL: steals\n",
        "- BLK: blocks\n",
        "- TOV: turnovers\n",
        "- PF: personal fouls\n",
        "- PTS: points\n",
        "\n",
        "Load the dataset."
      ]
    },
    {
      "cell_type": "code",
      "metadata": {
        "id": "wP1U4eQ91D_u",
        "outputId": "9da6369f-1c16-4bb2-8aa1-27350287c295",
        "colab": {
          "base_uri": "https://localhost:8080/",
          "height": 938
        }
      },
      "source": [
        "# answer goes here\n",
        "df = pd.read_csv('https://tf-assets-prod.s3.amazonaws.com/tf-curric/data-science/Data%20Sets%20Clustering/nba_player_seasons.csv')\n",
        "\n",
        "df.info()\n",
        "df.head()"
      ],
      "execution_count": 2,
      "outputs": [
        {
          "output_type": "stream",
          "text": [
            "<class 'pandas.core.frame.DataFrame'>\n",
            "RangeIndex: 2141 entries, 0 to 2140\n",
            "Data columns (total 30 columns):\n",
            " #   Column  Non-Null Count  Dtype  \n",
            "---  ------  --------------  -----  \n",
            " 0   Seas    2141 non-null   int64  \n",
            " 1   Player  2141 non-null   object \n",
            " 2   Pos     2141 non-null   object \n",
            " 3   Age     2141 non-null   int64  \n",
            " 4   Tm      2141 non-null   object \n",
            " 5   G       2141 non-null   int64  \n",
            " 6   GS      2141 non-null   int64  \n",
            " 7   MP      2141 non-null   float64\n",
            " 8   FG      2141 non-null   float64\n",
            " 9   FGA     2141 non-null   float64\n",
            " 10  FG%     2131 non-null   float64\n",
            " 11  3P      2141 non-null   float64\n",
            " 12  3PA     2141 non-null   float64\n",
            " 13  3P%     1967 non-null   float64\n",
            " 14  2P      2141 non-null   float64\n",
            " 15  2PA     2141 non-null   float64\n",
            " 16  2P%     2110 non-null   float64\n",
            " 17  eFG%    2131 non-null   float64\n",
            " 18  FT      2141 non-null   float64\n",
            " 19  FTA     2141 non-null   float64\n",
            " 20  FT%     2037 non-null   float64\n",
            " 21  ORB     2141 non-null   float64\n",
            " 22  DRB     2141 non-null   float64\n",
            " 23  TRB     2141 non-null   float64\n",
            " 24  AST     2141 non-null   float64\n",
            " 25  STL     2141 non-null   float64\n",
            " 26  BLK     2141 non-null   float64\n",
            " 27  TOV     2141 non-null   float64\n",
            " 28  PF      2141 non-null   float64\n",
            " 29  PTS     2141 non-null   float64\n",
            "dtypes: float64(23), int64(4), object(3)\n",
            "memory usage: 501.9+ KB\n"
          ],
          "name": "stdout"
        },
        {
          "output_type": "execute_result",
          "data": {
            "text/html": [
              "<div>\n",
              "<style scoped>\n",
              "    .dataframe tbody tr th:only-of-type {\n",
              "        vertical-align: middle;\n",
              "    }\n",
              "\n",
              "    .dataframe tbody tr th {\n",
              "        vertical-align: top;\n",
              "    }\n",
              "\n",
              "    .dataframe thead th {\n",
              "        text-align: right;\n",
              "    }\n",
              "</style>\n",
              "<table border=\"1\" class=\"dataframe\">\n",
              "  <thead>\n",
              "    <tr style=\"text-align: right;\">\n",
              "      <th></th>\n",
              "      <th>Seas</th>\n",
              "      <th>Player</th>\n",
              "      <th>Pos</th>\n",
              "      <th>Age</th>\n",
              "      <th>Tm</th>\n",
              "      <th>G</th>\n",
              "      <th>GS</th>\n",
              "      <th>MP</th>\n",
              "      <th>FG</th>\n",
              "      <th>FGA</th>\n",
              "      <th>FG%</th>\n",
              "      <th>3P</th>\n",
              "      <th>3PA</th>\n",
              "      <th>3P%</th>\n",
              "      <th>2P</th>\n",
              "      <th>2PA</th>\n",
              "      <th>2P%</th>\n",
              "      <th>eFG%</th>\n",
              "      <th>FT</th>\n",
              "      <th>FTA</th>\n",
              "      <th>FT%</th>\n",
              "      <th>ORB</th>\n",
              "      <th>DRB</th>\n",
              "      <th>TRB</th>\n",
              "      <th>AST</th>\n",
              "      <th>STL</th>\n",
              "      <th>BLK</th>\n",
              "      <th>TOV</th>\n",
              "      <th>PF</th>\n",
              "      <th>PTS</th>\n",
              "    </tr>\n",
              "  </thead>\n",
              "  <tbody>\n",
              "    <tr>\n",
              "      <th>0</th>\n",
              "      <td>2019</td>\n",
              "      <td>Álex Abrines</td>\n",
              "      <td>SG</td>\n",
              "      <td>25</td>\n",
              "      <td>OKC</td>\n",
              "      <td>31</td>\n",
              "      <td>2</td>\n",
              "      <td>19.0</td>\n",
              "      <td>1.8</td>\n",
              "      <td>5.1</td>\n",
              "      <td>0.357</td>\n",
              "      <td>1.3</td>\n",
              "      <td>4.1</td>\n",
              "      <td>0.323</td>\n",
              "      <td>0.5</td>\n",
              "      <td>1.0</td>\n",
              "      <td>0.500</td>\n",
              "      <td>0.487</td>\n",
              "      <td>0.4</td>\n",
              "      <td>0.4</td>\n",
              "      <td>0.923</td>\n",
              "      <td>0.2</td>\n",
              "      <td>1.4</td>\n",
              "      <td>1.5</td>\n",
              "      <td>0.6</td>\n",
              "      <td>0.5</td>\n",
              "      <td>0.2</td>\n",
              "      <td>0.5</td>\n",
              "      <td>1.7</td>\n",
              "      <td>5.3</td>\n",
              "    </tr>\n",
              "    <tr>\n",
              "      <th>1</th>\n",
              "      <td>2019</td>\n",
              "      <td>Quincy Acy</td>\n",
              "      <td>PF</td>\n",
              "      <td>28</td>\n",
              "      <td>PHO</td>\n",
              "      <td>10</td>\n",
              "      <td>0</td>\n",
              "      <td>12.3</td>\n",
              "      <td>0.4</td>\n",
              "      <td>1.8</td>\n",
              "      <td>0.222</td>\n",
              "      <td>0.2</td>\n",
              "      <td>1.5</td>\n",
              "      <td>0.133</td>\n",
              "      <td>0.2</td>\n",
              "      <td>0.3</td>\n",
              "      <td>0.667</td>\n",
              "      <td>0.278</td>\n",
              "      <td>0.7</td>\n",
              "      <td>1.0</td>\n",
              "      <td>0.700</td>\n",
              "      <td>0.3</td>\n",
              "      <td>2.2</td>\n",
              "      <td>2.5</td>\n",
              "      <td>0.8</td>\n",
              "      <td>0.1</td>\n",
              "      <td>0.4</td>\n",
              "      <td>0.4</td>\n",
              "      <td>2.4</td>\n",
              "      <td>1.7</td>\n",
              "    </tr>\n",
              "    <tr>\n",
              "      <th>2</th>\n",
              "      <td>2019</td>\n",
              "      <td>Jaylen Adams</td>\n",
              "      <td>PG</td>\n",
              "      <td>22</td>\n",
              "      <td>ATL</td>\n",
              "      <td>34</td>\n",
              "      <td>1</td>\n",
              "      <td>12.6</td>\n",
              "      <td>1.1</td>\n",
              "      <td>3.2</td>\n",
              "      <td>0.345</td>\n",
              "      <td>0.7</td>\n",
              "      <td>2.2</td>\n",
              "      <td>0.338</td>\n",
              "      <td>0.4</td>\n",
              "      <td>1.1</td>\n",
              "      <td>0.361</td>\n",
              "      <td>0.459</td>\n",
              "      <td>0.2</td>\n",
              "      <td>0.3</td>\n",
              "      <td>0.778</td>\n",
              "      <td>0.3</td>\n",
              "      <td>1.4</td>\n",
              "      <td>1.8</td>\n",
              "      <td>1.9</td>\n",
              "      <td>0.4</td>\n",
              "      <td>0.1</td>\n",
              "      <td>0.8</td>\n",
              "      <td>1.3</td>\n",
              "      <td>3.2</td>\n",
              "    </tr>\n",
              "    <tr>\n",
              "      <th>3</th>\n",
              "      <td>2019</td>\n",
              "      <td>Steven Adams</td>\n",
              "      <td>C</td>\n",
              "      <td>25</td>\n",
              "      <td>OKC</td>\n",
              "      <td>80</td>\n",
              "      <td>80</td>\n",
              "      <td>33.4</td>\n",
              "      <td>6.0</td>\n",
              "      <td>10.1</td>\n",
              "      <td>0.595</td>\n",
              "      <td>0.0</td>\n",
              "      <td>0.0</td>\n",
              "      <td>0.000</td>\n",
              "      <td>6.0</td>\n",
              "      <td>10.1</td>\n",
              "      <td>0.596</td>\n",
              "      <td>0.595</td>\n",
              "      <td>1.8</td>\n",
              "      <td>3.7</td>\n",
              "      <td>0.500</td>\n",
              "      <td>4.9</td>\n",
              "      <td>4.6</td>\n",
              "      <td>9.5</td>\n",
              "      <td>1.6</td>\n",
              "      <td>1.5</td>\n",
              "      <td>1.0</td>\n",
              "      <td>1.7</td>\n",
              "      <td>2.6</td>\n",
              "      <td>13.9</td>\n",
              "    </tr>\n",
              "    <tr>\n",
              "      <th>4</th>\n",
              "      <td>2019</td>\n",
              "      <td>Bam Adebayo</td>\n",
              "      <td>C</td>\n",
              "      <td>21</td>\n",
              "      <td>MIA</td>\n",
              "      <td>82</td>\n",
              "      <td>28</td>\n",
              "      <td>23.3</td>\n",
              "      <td>3.4</td>\n",
              "      <td>5.9</td>\n",
              "      <td>0.576</td>\n",
              "      <td>0.0</td>\n",
              "      <td>0.2</td>\n",
              "      <td>0.200</td>\n",
              "      <td>3.4</td>\n",
              "      <td>5.7</td>\n",
              "      <td>0.588</td>\n",
              "      <td>0.579</td>\n",
              "      <td>2.0</td>\n",
              "      <td>2.8</td>\n",
              "      <td>0.735</td>\n",
              "      <td>2.0</td>\n",
              "      <td>5.3</td>\n",
              "      <td>7.3</td>\n",
              "      <td>2.2</td>\n",
              "      <td>0.9</td>\n",
              "      <td>0.8</td>\n",
              "      <td>1.5</td>\n",
              "      <td>2.5</td>\n",
              "      <td>8.9</td>\n",
              "    </tr>\n",
              "  </tbody>\n",
              "</table>\n",
              "</div>"
            ],
            "text/plain": [
              "   Seas        Player Pos  Age   Tm   G  GS  ...  TRB  AST  STL  BLK  TOV   PF   PTS\n",
              "0  2019  Álex Abrines  SG   25  OKC  31   2  ...  1.5  0.6  0.5  0.2  0.5  1.7   5.3\n",
              "1  2019    Quincy Acy  PF   28  PHO  10   0  ...  2.5  0.8  0.1  0.4  0.4  2.4   1.7\n",
              "2  2019  Jaylen Adams  PG   22  ATL  34   1  ...  1.8  1.9  0.4  0.1  0.8  1.3   3.2\n",
              "3  2019  Steven Adams   C   25  OKC  80  80  ...  9.5  1.6  1.5  1.0  1.7  2.6  13.9\n",
              "4  2019   Bam Adebayo   C   21  MIA  82  28  ...  7.3  2.2  0.9  0.8  1.5  2.5   8.9\n",
              "\n",
              "[5 rows x 30 columns]"
            ]
          },
          "metadata": {
            "tags": []
          },
          "execution_count": 2
        }
      ]
    },
    {
      "cell_type": "markdown",
      "metadata": {
        "id": "o_K1eQ0x1D_y"
      },
      "source": [
        "The goal is to cluster these player-seasons to identify potential player \"archetypes\".\n",
        "\n",
        "Begin by removing players whose season did not meet one of the following criteria:\n",
        "1. Started at least 20 games\n",
        "2. Averaged at least 10 minutes per game"
      ]
    },
    {
      "cell_type": "code",
      "metadata": {
        "id": "xfYVreyw1D_y",
        "outputId": "1a7063c8-d63d-4ab7-b95e-f3c399e12d84",
        "colab": {
          "base_uri": "https://localhost:8080/"
        }
      },
      "source": [
        "# answer goes here\n",
        "nba = df.loc[(df['GS'] >= 20) & (df['MP'] >= 10)]\n",
        "\n",
        "nba.info()\n",
        "\n",
        "\n"
      ],
      "execution_count": 10,
      "outputs": [
        {
          "output_type": "stream",
          "text": [
            "<class 'pandas.core.frame.DataFrame'>\n",
            "Int64Index: 804 entries, 3 to 2139\n",
            "Data columns (total 30 columns):\n",
            " #   Column  Non-Null Count  Dtype  \n",
            "---  ------  --------------  -----  \n",
            " 0   Seas    804 non-null    int64  \n",
            " 1   Player  804 non-null    object \n",
            " 2   Pos     804 non-null    object \n",
            " 3   Age     804 non-null    int64  \n",
            " 4   Tm      804 non-null    object \n",
            " 5   G       804 non-null    int64  \n",
            " 6   GS      804 non-null    int64  \n",
            " 7   MP      804 non-null    float64\n",
            " 8   FG      804 non-null    float64\n",
            " 9   FGA     804 non-null    float64\n",
            " 10  FG%     804 non-null    float64\n",
            " 11  3P      804 non-null    float64\n",
            " 12  3PA     804 non-null    float64\n",
            " 13  3P%     771 non-null    float64\n",
            " 14  2P      804 non-null    float64\n",
            " 15  2PA     804 non-null    float64\n",
            " 16  2P%     804 non-null    float64\n",
            " 17  eFG%    804 non-null    float64\n",
            " 18  FT      804 non-null    float64\n",
            " 19  FTA     804 non-null    float64\n",
            " 20  FT%     804 non-null    float64\n",
            " 21  ORB     804 non-null    float64\n",
            " 22  DRB     804 non-null    float64\n",
            " 23  TRB     804 non-null    float64\n",
            " 24  AST     804 non-null    float64\n",
            " 25  STL     804 non-null    float64\n",
            " 26  BLK     804 non-null    float64\n",
            " 27  TOV     804 non-null    float64\n",
            " 28  PF      804 non-null    float64\n",
            " 29  PTS     804 non-null    float64\n",
            "dtypes: float64(23), int64(4), object(3)\n",
            "memory usage: 194.7+ KB\n"
          ],
          "name": "stdout"
        }
      ]
    },
    {
      "cell_type": "markdown",
      "metadata": {
        "id": "86lfEP_91D_0"
      },
      "source": [
        "Choose a subset of numeric columns that is interesting to you from an \"archetypal\" standpoint. \n",
        "\n",
        "We will choose the following basic statistics: **points, total rebounds, assists, steals, blocks**, and **turnovers**, but you should feel free to choose other reasonable feature sets if you like. Be careful not to include too many dimensions (curse of dimensionality)."
      ]
    },
    {
      "cell_type": "code",
      "metadata": {
        "id": "o3PUI4l61D_0",
        "outputId": "3a16f1bc-b408-47a4-a9da-101b5438fb75",
        "colab": {
          "base_uri": "https://localhost:8080/"
        }
      },
      "source": [
        "# answer goes here\n",
        "X = nba.loc[:,['PTS','TRB','AST','STL','BLK','TOV']]\n",
        "\n",
        "X.info()\n"
      ],
      "execution_count": 16,
      "outputs": [
        {
          "output_type": "stream",
          "text": [
            "<class 'pandas.core.frame.DataFrame'>\n",
            "Int64Index: 804 entries, 3 to 2139\n",
            "Data columns (total 6 columns):\n",
            " #   Column  Non-Null Count  Dtype  \n",
            "---  ------  --------------  -----  \n",
            " 0   PTS     804 non-null    float64\n",
            " 1   TRB     804 non-null    float64\n",
            " 2   AST     804 non-null    float64\n",
            " 3   STL     804 non-null    float64\n",
            " 4   BLK     804 non-null    float64\n",
            " 5   TOV     804 non-null    float64\n",
            "dtypes: float64(6)\n",
            "memory usage: 44.0 KB\n"
          ],
          "name": "stdout"
        }
      ]
    },
    {
      "cell_type": "markdown",
      "metadata": {
        "id": "MUjcLMMk1D_2"
      },
      "source": [
        "Standardize the features in your dataset using scikit-learn's StandardScaler, which will set the mean of each feature to 0 and the variance to 1."
      ]
    },
    {
      "cell_type": "code",
      "metadata": {
        "id": "6OTdN8oF1D_2"
      },
      "source": [
        "# answer goes here\n",
        "scale = StandardScaler()\n",
        "X_scale = pd.DataFrame(scale.fit_transform(X), columns=X.columns)"
      ],
      "execution_count": 24,
      "outputs": []
    },
    {
      "cell_type": "markdown",
      "metadata": {
        "id": "ao3Y5FVp1D_4"
      },
      "source": [
        "Run K-means clustering with K = 3 and print out the resulting centroids. When printing the centroids, transform the scaled centroids back into their corresponding unscaled values. What \"archetypes\" do you see?"
      ]
    },
    {
      "cell_type": "code",
      "metadata": {
        "id": "sUhMxZdL1D_4",
        "outputId": "959a7e3a-4d6f-4f53-b1f8-233751b0e1d8",
        "colab": {
          "base_uri": "https://localhost:8080/",
          "height": 103
        }
      },
      "source": [
        "# answer goes here\n",
        "kmeans = KMeans(n_clusters=3)\n",
        "\n",
        "kmeans.fit_predict(X_scale)\n",
        "\n",
        "centers = pd.DataFrame(kmeans.cluster_centers_,columns=X.columns)\n",
        "\n",
        "centers_inverse = pd.DataFrame(scale.inverse_transform(centers), columns=X.columns)\n",
        "centers_inverse.style.background_gradient()"
      ],
      "execution_count": 26,
      "outputs": [
        {
          "output_type": "execute_result",
          "data": {
            "text/html": [
              "<style  type=\"text/css\" >\n",
              "#T_a3602322_28f6_11eb_9d35_0242ac1c0002row0_col0,#T_a3602322_28f6_11eb_9d35_0242ac1c0002row0_col1,#T_a3602322_28f6_11eb_9d35_0242ac1c0002row0_col4,#T_a3602322_28f6_11eb_9d35_0242ac1c0002row0_col5,#T_a3602322_28f6_11eb_9d35_0242ac1c0002row1_col2,#T_a3602322_28f6_11eb_9d35_0242ac1c0002row1_col3{\n",
              "            background-color:  #fff7fb;\n",
              "            color:  #000000;\n",
              "        }#T_a3602322_28f6_11eb_9d35_0242ac1c0002row0_col2{\n",
              "            background-color:  #faf2f8;\n",
              "            color:  #000000;\n",
              "        }#T_a3602322_28f6_11eb_9d35_0242ac1c0002row0_col3{\n",
              "            background-color:  #f8f1f8;\n",
              "            color:  #000000;\n",
              "        }#T_a3602322_28f6_11eb_9d35_0242ac1c0002row1_col0{\n",
              "            background-color:  #abbfdc;\n",
              "            color:  #000000;\n",
              "        }#T_a3602322_28f6_11eb_9d35_0242ac1c0002row1_col1,#T_a3602322_28f6_11eb_9d35_0242ac1c0002row1_col4,#T_a3602322_28f6_11eb_9d35_0242ac1c0002row2_col0,#T_a3602322_28f6_11eb_9d35_0242ac1c0002row2_col2,#T_a3602322_28f6_11eb_9d35_0242ac1c0002row2_col3,#T_a3602322_28f6_11eb_9d35_0242ac1c0002row2_col5{\n",
              "            background-color:  #023858;\n",
              "            color:  #f1f1f1;\n",
              "        }#T_a3602322_28f6_11eb_9d35_0242ac1c0002row1_col5{\n",
              "            background-color:  #c8cde4;\n",
              "            color:  #000000;\n",
              "        }#T_a3602322_28f6_11eb_9d35_0242ac1c0002row2_col1{\n",
              "            background-color:  #c4cbe3;\n",
              "            color:  #000000;\n",
              "        }#T_a3602322_28f6_11eb_9d35_0242ac1c0002row2_col4{\n",
              "            background-color:  #ebe6f2;\n",
              "            color:  #000000;\n",
              "        }</style><table id=\"T_a3602322_28f6_11eb_9d35_0242ac1c0002\" ><thead>    <tr>        <th class=\"blank level0\" ></th>        <th class=\"col_heading level0 col0\" >PTS</th>        <th class=\"col_heading level0 col1\" >TRB</th>        <th class=\"col_heading level0 col2\" >AST</th>        <th class=\"col_heading level0 col3\" >STL</th>        <th class=\"col_heading level0 col4\" >BLK</th>        <th class=\"col_heading level0 col5\" >TOV</th>    </tr></thead><tbody>\n",
              "                <tr>\n",
              "                        <th id=\"T_a3602322_28f6_11eb_9d35_0242ac1c0002level0_row0\" class=\"row_heading level0 row0\" >0</th>\n",
              "                        <td id=\"T_a3602322_28f6_11eb_9d35_0242ac1c0002row0_col0\" class=\"data row0 col0\" >10.505405</td>\n",
              "                        <td id=\"T_a3602322_28f6_11eb_9d35_0242ac1c0002row0_col1\" class=\"data row0 col1\" >3.949775</td>\n",
              "                        <td id=\"T_a3602322_28f6_11eb_9d35_0242ac1c0002row0_col2\" class=\"data row0 col2\" >2.063739</td>\n",
              "                        <td id=\"T_a3602322_28f6_11eb_9d35_0242ac1c0002row0_col3\" class=\"data row0 col3\" >0.804730</td>\n",
              "                        <td id=\"T_a3602322_28f6_11eb_9d35_0242ac1c0002row0_col4\" class=\"data row0 col4\" >0.374324</td>\n",
              "                        <td id=\"T_a3602322_28f6_11eb_9d35_0242ac1c0002row0_col5\" class=\"data row0 col5\" >1.235135</td>\n",
              "            </tr>\n",
              "            <tr>\n",
              "                        <th id=\"T_a3602322_28f6_11eb_9d35_0242ac1c0002level0_row1\" class=\"row_heading level0 row1\" >1</th>\n",
              "                        <td id=\"T_a3602322_28f6_11eb_9d35_0242ac1c0002row1_col0\" class=\"data row1 col0\" >13.735359</td>\n",
              "                        <td id=\"T_a3602322_28f6_11eb_9d35_0242ac1c0002row1_col1\" class=\"data row1 col1\" >8.605525</td>\n",
              "                        <td id=\"T_a3602322_28f6_11eb_9d35_0242ac1c0002row1_col2\" class=\"data row1 col2\" >1.914917</td>\n",
              "                        <td id=\"T_a3602322_28f6_11eb_9d35_0242ac1c0002row1_col3\" class=\"data row1 col3\" >0.777348</td>\n",
              "                        <td id=\"T_a3602322_28f6_11eb_9d35_0242ac1c0002row1_col4\" class=\"data row1 col4\" >1.230387</td>\n",
              "                        <td id=\"T_a3602322_28f6_11eb_9d35_0242ac1c0002row1_col5\" class=\"data row1 col5\" >1.668508</td>\n",
              "            </tr>\n",
              "            <tr>\n",
              "                        <th id=\"T_a3602322_28f6_11eb_9d35_0242ac1c0002level0_row2\" class=\"row_heading level0 row2\" >2</th>\n",
              "                        <td id=\"T_a3602322_28f6_11eb_9d35_0242ac1c0002row2_col0\" class=\"data row2 col0\" >19.491620</td>\n",
              "                        <td id=\"T_a3602322_28f6_11eb_9d35_0242ac1c0002row2_col1\" class=\"data row2 col1\" >5.293855</td>\n",
              "                        <td id=\"T_a3602322_28f6_11eb_9d35_0242ac1c0002row2_col2\" class=\"data row2 col2\" >5.934078</td>\n",
              "                        <td id=\"T_a3602322_28f6_11eb_9d35_0242ac1c0002row2_col3\" class=\"data row2 col3\" >1.354190</td>\n",
              "                        <td id=\"T_a3602322_28f6_11eb_9d35_0242ac1c0002row2_col4\" class=\"data row2 col4\" >0.486034</td>\n",
              "                        <td id=\"T_a3602322_28f6_11eb_9d35_0242ac1c0002row2_col5\" class=\"data row2 col5\" >2.797765</td>\n",
              "            </tr>\n",
              "    </tbody></table>"
            ],
            "text/plain": [
              "<pandas.io.formats.style.Styler at 0x7f5c9283a400>"
            ]
          },
          "metadata": {
            "tags": []
          },
          "execution_count": 26
        }
      ]
    },
    {
      "cell_type": "markdown",
      "metadata": {
        "id": "GQa_DmiyKJpX"
      },
      "source": [
        "One group (probably more guards) seems to contain the higher scoring players who also have more assists, steals, and turnovers. Another group (probably more centers and forwards) has players with many more rebounds and blocks. The final group doesn't stand out in any category. This is probably your less skillied role players. "
      ]
    },
    {
      "cell_type": "markdown",
      "metadata": {
        "id": "y0wBOUWJ1D_6"
      },
      "source": [
        "Experiment with different values of K. Do any further interesting archetypes come out?"
      ]
    },
    {
      "cell_type": "code",
      "metadata": {
        "id": "AdKYEBx61D_6",
        "outputId": "27216e5d-39f7-4ac2-8513-f12ddbc216fc",
        "colab": {
          "base_uri": "https://localhost:8080/",
          "height": 166
        }
      },
      "source": [
        "# answer goes here\n",
        "kmeans = KMeans(n_clusters=6)\n",
        "\n",
        "kmeans.fit_predict(X_scale)\n",
        "\n",
        "centers = pd.DataFrame(kmeans.cluster_centers_,columns=X.columns)\n",
        "\n",
        "centers_inverse = pd.DataFrame(scale.inverse_transform(centers), columns=X.columns)\n",
        "centers_inverse.style.background_gradient()\n",
        "\n"
      ],
      "execution_count": 32,
      "outputs": [
        {
          "output_type": "execute_result",
          "data": {
            "text/html": [
              "<style  type=\"text/css\" >\n",
              "#T_8dd9dc9a_28f7_11eb_9d35_0242ac1c0002row0_col0{\n",
              "            background-color:  #308cbe;\n",
              "            color:  #000000;\n",
              "        }#T_8dd9dc9a_28f7_11eb_9d35_0242ac1c0002row0_col1,#T_8dd9dc9a_28f7_11eb_9d35_0242ac1c0002row0_col4,#T_8dd9dc9a_28f7_11eb_9d35_0242ac1c0002row4_col0,#T_8dd9dc9a_28f7_11eb_9d35_0242ac1c0002row4_col2,#T_8dd9dc9a_28f7_11eb_9d35_0242ac1c0002row4_col3,#T_8dd9dc9a_28f7_11eb_9d35_0242ac1c0002row4_col5{\n",
              "            background-color:  #023858;\n",
              "            color:  #f1f1f1;\n",
              "        }#T_8dd9dc9a_28f7_11eb_9d35_0242ac1c0002row0_col2{\n",
              "            background-color:  #e7e3f0;\n",
              "            color:  #000000;\n",
              "        }#T_8dd9dc9a_28f7_11eb_9d35_0242ac1c0002row0_col3{\n",
              "            background-color:  #bfc9e1;\n",
              "            color:  #000000;\n",
              "        }#T_8dd9dc9a_28f7_11eb_9d35_0242ac1c0002row0_col5{\n",
              "            background-color:  #8fb4d6;\n",
              "            color:  #000000;\n",
              "        }#T_8dd9dc9a_28f7_11eb_9d35_0242ac1c0002row1_col0,#T_8dd9dc9a_28f7_11eb_9d35_0242ac1c0002row1_col1,#T_8dd9dc9a_28f7_11eb_9d35_0242ac1c0002row1_col2,#T_8dd9dc9a_28f7_11eb_9d35_0242ac1c0002row1_col3,#T_8dd9dc9a_28f7_11eb_9d35_0242ac1c0002row1_col5,#T_8dd9dc9a_28f7_11eb_9d35_0242ac1c0002row2_col4{\n",
              "            background-color:  #fff7fb;\n",
              "            color:  #000000;\n",
              "        }#T_8dd9dc9a_28f7_11eb_9d35_0242ac1c0002row1_col4{\n",
              "            background-color:  #fdf5fa;\n",
              "            color:  #000000;\n",
              "        }#T_8dd9dc9a_28f7_11eb_9d35_0242ac1c0002row2_col0{\n",
              "            background-color:  #b0c2de;\n",
              "            color:  #000000;\n",
              "        }#T_8dd9dc9a_28f7_11eb_9d35_0242ac1c0002row2_col1,#T_8dd9dc9a_28f7_11eb_9d35_0242ac1c0002row5_col3{\n",
              "            background-color:  #f4edf6;\n",
              "            color:  #000000;\n",
              "        }#T_8dd9dc9a_28f7_11eb_9d35_0242ac1c0002row2_col2,#T_8dd9dc9a_28f7_11eb_9d35_0242ac1c0002row2_col5{\n",
              "            background-color:  #d5d5e8;\n",
              "            color:  #000000;\n",
              "        }#T_8dd9dc9a_28f7_11eb_9d35_0242ac1c0002row2_col3{\n",
              "            background-color:  #99b8d8;\n",
              "            color:  #000000;\n",
              "        }#T_8dd9dc9a_28f7_11eb_9d35_0242ac1c0002row3_col0{\n",
              "            background-color:  #1b7eb7;\n",
              "            color:  #000000;\n",
              "        }#T_8dd9dc9a_28f7_11eb_9d35_0242ac1c0002row3_col1{\n",
              "            background-color:  #e4e1ef;\n",
              "            color:  #000000;\n",
              "        }#T_8dd9dc9a_28f7_11eb_9d35_0242ac1c0002row3_col2{\n",
              "            background-color:  #2383ba;\n",
              "            color:  #000000;\n",
              "        }#T_8dd9dc9a_28f7_11eb_9d35_0242ac1c0002row3_col3{\n",
              "            background-color:  #328dbf;\n",
              "            color:  #000000;\n",
              "        }#T_8dd9dc9a_28f7_11eb_9d35_0242ac1c0002row3_col4{\n",
              "            background-color:  #faf2f8;\n",
              "            color:  #000000;\n",
              "        }#T_8dd9dc9a_28f7_11eb_9d35_0242ac1c0002row3_col5{\n",
              "            background-color:  #4a98c5;\n",
              "            color:  #000000;\n",
              "        }#T_8dd9dc9a_28f7_11eb_9d35_0242ac1c0002row4_col1{\n",
              "            background-color:  #348ebf;\n",
              "            color:  #000000;\n",
              "        }#T_8dd9dc9a_28f7_11eb_9d35_0242ac1c0002row4_col4{\n",
              "            background-color:  #b4c4df;\n",
              "            color:  #000000;\n",
              "        }#T_8dd9dc9a_28f7_11eb_9d35_0242ac1c0002row5_col0{\n",
              "            background-color:  #d2d3e7;\n",
              "            color:  #000000;\n",
              "        }#T_8dd9dc9a_28f7_11eb_9d35_0242ac1c0002row5_col1{\n",
              "            background-color:  #62a2cb;\n",
              "            color:  #000000;\n",
              "        }#T_8dd9dc9a_28f7_11eb_9d35_0242ac1c0002row5_col2{\n",
              "            background-color:  #f9f2f8;\n",
              "            color:  #000000;\n",
              "        }#T_8dd9dc9a_28f7_11eb_9d35_0242ac1c0002row5_col4{\n",
              "            background-color:  #96b6d7;\n",
              "            color:  #000000;\n",
              "        }#T_8dd9dc9a_28f7_11eb_9d35_0242ac1c0002row5_col5{\n",
              "            background-color:  #e3e0ee;\n",
              "            color:  #000000;\n",
              "        }</style><table id=\"T_8dd9dc9a_28f7_11eb_9d35_0242ac1c0002\" ><thead>    <tr>        <th class=\"blank level0\" ></th>        <th class=\"col_heading level0 col0\" >PTS</th>        <th class=\"col_heading level0 col1\" >TRB</th>        <th class=\"col_heading level0 col2\" >AST</th>        <th class=\"col_heading level0 col3\" >STL</th>        <th class=\"col_heading level0 col4\" >BLK</th>        <th class=\"col_heading level0 col5\" >TOV</th>    </tr></thead><tbody>\n",
              "                <tr>\n",
              "                        <th id=\"T_8dd9dc9a_28f7_11eb_9d35_0242ac1c0002level0_row0\" class=\"row_heading level0 row0\" >0</th>\n",
              "                        <td id=\"T_8dd9dc9a_28f7_11eb_9d35_0242ac1c0002row0_col0\" class=\"data row0 col0\" >17.755000</td>\n",
              "                        <td id=\"T_8dd9dc9a_28f7_11eb_9d35_0242ac1c0002row0_col1\" class=\"data row0 col1\" >10.473333</td>\n",
              "                        <td id=\"T_8dd9dc9a_28f7_11eb_9d35_0242ac1c0002row0_col2\" class=\"data row0 col2\" >2.343333</td>\n",
              "                        <td id=\"T_8dd9dc9a_28f7_11eb_9d35_0242ac1c0002row0_col3\" class=\"data row0 col3\" >0.921667</td>\n",
              "                        <td id=\"T_8dd9dc9a_28f7_11eb_9d35_0242ac1c0002row0_col4\" class=\"data row0 col4\" >1.743333</td>\n",
              "                        <td id=\"T_8dd9dc9a_28f7_11eb_9d35_0242ac1c0002row0_col5\" class=\"data row0 col5\" >2.140000</td>\n",
              "            </tr>\n",
              "            <tr>\n",
              "                        <th id=\"T_8dd9dc9a_28f7_11eb_9d35_0242ac1c0002level0_row1\" class=\"row_heading level0 row1\" >1</th>\n",
              "                        <td id=\"T_8dd9dc9a_28f7_11eb_9d35_0242ac1c0002row1_col0\" class=\"data row1 col0\" >7.707853</td>\n",
              "                        <td id=\"T_8dd9dc9a_28f7_11eb_9d35_0242ac1c0002row1_col1\" class=\"data row1 col1\" >3.487958</td>\n",
              "                        <td id=\"T_8dd9dc9a_28f7_11eb_9d35_0242ac1c0002row1_col2\" class=\"data row1 col2\" >1.405236</td>\n",
              "                        <td id=\"T_8dd9dc9a_28f7_11eb_9d35_0242ac1c0002row1_col3\" class=\"data row1 col3\" >0.602094</td>\n",
              "                        <td id=\"T_8dd9dc9a_28f7_11eb_9d35_0242ac1c0002row1_col4\" class=\"data row1 col4\" >0.354974</td>\n",
              "                        <td id=\"T_8dd9dc9a_28f7_11eb_9d35_0242ac1c0002row1_col5\" class=\"data row1 col5\" >0.905759</td>\n",
              "            </tr>\n",
              "            <tr>\n",
              "                        <th id=\"T_8dd9dc9a_28f7_11eb_9d35_0242ac1c0002level0_row2\" class=\"row_heading level0 row2\" >2</th>\n",
              "                        <td id=\"T_8dd9dc9a_28f7_11eb_9d35_0242ac1c0002row2_col0\" class=\"data row2 col0\" >13.139732</td>\n",
              "                        <td id=\"T_8dd9dc9a_28f7_11eb_9d35_0242ac1c0002row2_col1\" class=\"data row2 col1\" >4.013839</td>\n",
              "                        <td id=\"T_8dd9dc9a_28f7_11eb_9d35_0242ac1c0002row2_col2\" class=\"data row2 col2\" >2.829911</td>\n",
              "                        <td id=\"T_8dd9dc9a_28f7_11eb_9d35_0242ac1c0002row2_col3\" class=\"data row2 col3\" >1.032589</td>\n",
              "                        <td id=\"T_8dd9dc9a_28f7_11eb_9d35_0242ac1c0002row2_col4\" class=\"data row2 col4\" >0.333036</td>\n",
              "                        <td id=\"T_8dd9dc9a_28f7_11eb_9d35_0242ac1c0002row2_col5\" class=\"data row2 col5\" >1.562054</td>\n",
              "            </tr>\n",
              "            <tr>\n",
              "                        <th id=\"T_8dd9dc9a_28f7_11eb_9d35_0242ac1c0002level0_row3\" class=\"row_heading level0 row3\" >3</th>\n",
              "                        <td id=\"T_8dd9dc9a_28f7_11eb_9d35_0242ac1c0002row3_col0\" class=\"data row3 col0\" >18.606923</td>\n",
              "                        <td id=\"T_8dd9dc9a_28f7_11eb_9d35_0242ac1c0002row3_col1\" class=\"data row3 col1\" >4.612308</td>\n",
              "                        <td id=\"T_8dd9dc9a_28f7_11eb_9d35_0242ac1c0002row3_col2\" class=\"data row3 col2\" >5.580769</td>\n",
              "                        <td id=\"T_8dd9dc9a_28f7_11eb_9d35_0242ac1c0002row3_col3\" class=\"data row3 col3\" >1.273077</td>\n",
              "                        <td id=\"T_8dd9dc9a_28f7_11eb_9d35_0242ac1c0002row3_col4\" class=\"data row3 col4\" >0.386154</td>\n",
              "                        <td id=\"T_8dd9dc9a_28f7_11eb_9d35_0242ac1c0002row3_col5\" class=\"data row3 col5\" >2.571538</td>\n",
              "            </tr>\n",
              "            <tr>\n",
              "                        <th id=\"T_8dd9dc9a_28f7_11eb_9d35_0242ac1c0002level0_row4\" class=\"row_heading level0 row4\" >4</th>\n",
              "                        <td id=\"T_8dd9dc9a_28f7_11eb_9d35_0242ac1c0002row4_col0\" class=\"data row4 col0\" >23.452632</td>\n",
              "                        <td id=\"T_8dd9dc9a_28f7_11eb_9d35_0242ac1c0002row4_col1\" class=\"data row4 col1\" >7.907895</td>\n",
              "                        <td id=\"T_8dd9dc9a_28f7_11eb_9d35_0242ac1c0002row4_col2\" class=\"data row4 col2\" >7.589474</td>\n",
              "                        <td id=\"T_8dd9dc9a_28f7_11eb_9d35_0242ac1c0002row4_col3\" class=\"data row4 col3\" >1.660526</td>\n",
              "                        <td id=\"T_8dd9dc9a_28f7_11eb_9d35_0242ac1c0002row4_col4\" class=\"data row4 col4\" >0.805263</td>\n",
              "                        <td id=\"T_8dd9dc9a_28f7_11eb_9d35_0242ac1c0002row4_col5\" class=\"data row4 col5\" >3.760526</td>\n",
              "            </tr>\n",
              "            <tr>\n",
              "                        <th id=\"T_8dd9dc9a_28f7_11eb_9d35_0242ac1c0002level0_row5\" class=\"row_heading level0 row5\" >5</th>\n",
              "                        <td id=\"T_8dd9dc9a_28f7_11eb_9d35_0242ac1c0002row5_col0\" class=\"data row5 col0\" >11.481988</td>\n",
              "                        <td id=\"T_8dd9dc9a_28f7_11eb_9d35_0242ac1c0002row5_col1\" class=\"data row5 col1\" >7.236646</td>\n",
              "                        <td id=\"T_8dd9dc9a_28f7_11eb_9d35_0242ac1c0002row5_col2\" class=\"data row5 col2\" >1.666460</td>\n",
              "                        <td id=\"T_8dd9dc9a_28f7_11eb_9d35_0242ac1c0002row5_col3\" class=\"data row5 col3\" >0.684472</td>\n",
              "                        <td id=\"T_8dd9dc9a_28f7_11eb_9d35_0242ac1c0002row5_col4\" class=\"data row5 col4\" >0.919876</td>\n",
              "                        <td id=\"T_8dd9dc9a_28f7_11eb_9d35_0242ac1c0002row5_col5\" class=\"data row5 col5\" >1.383230</td>\n",
              "            </tr>\n",
              "    </tbody></table>"
            ],
            "text/plain": [
              "<pandas.io.formats.style.Styler at 0x7f5c943060b8>"
            ]
          },
          "metadata": {
            "tags": []
          },
          "execution_count": 32
        }
      ]
    },
    {
      "cell_type": "markdown",
      "metadata": {
        "id": "WdEynusJLXlW"
      },
      "source": [
        "At higher Ks (4-7) you start to see sub sets of similiar groups. For example at a K of 6 you have a group (5) of players that scores more per game in 4 of 6 categories than any other gourp. You also see a 2nd group (3) that is similiar, but scores less than the 1st group. However, this group is 2nd in scoring in the same 4 of 6 categories as the first. Just like with a K of 3 we discover an archetype of higher scoring, assists, steals, and turnover, but a higher and lower scoring version of that archetype emerges.\n",
        "\n",
        "You still see a group (0) that clusters around the best rebounds and blocks per game numbers. But you also a see a worse ppg group (5) that has similiar charateristics. There seems to be a higher and lower scoring version of the block/rebound archetype. You also see a group (1) that has really low ppg averages in all categories, just like with a K of 3. \n",
        "\n",
        "Overall, you see sub clusters of similiar groups from what we saw with a K of 3."
      ]
    }
  ]
}