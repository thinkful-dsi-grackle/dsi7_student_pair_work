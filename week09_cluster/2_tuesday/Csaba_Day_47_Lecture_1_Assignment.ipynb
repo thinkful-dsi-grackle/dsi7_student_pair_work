{
  "nbformat": 4,
  "nbformat_minor": 0,
  "metadata": {
    "colab": {
      "name": "Csaba_Day 47 Lecture 1 Assignment.ipynb",
      "provenance": [],
      "collapsed_sections": []
    },
    "kernelspec": {
      "display_name": "Python 3",
      "language": "python",
      "name": "python3"
    },
    "language_info": {
      "codemirror_mode": {
        "name": "ipython",
        "version": 3
      },
      "file_extension": ".py",
      "mimetype": "text/x-python",
      "name": "python",
      "nbconvert_exporter": "python",
      "pygments_lexer": "ipython3",
      "version": "3.7.0"
    }
  },
  "cells": [
    {
      "cell_type": "markdown",
      "metadata": {
        "id": "xdL0Yz0D1D_q"
      },
      "source": [
        "## Day 47 Lecture 1 Assignment\n",
        "\n",
        "In this assignment, we will apply k-means clustering to a dataset containing player-season statistics for NBA players from the past four years."
      ]
    },
    {
      "cell_type": "code",
      "metadata": {
        "id": "OulyiH_C1D_r"
      },
      "source": [
        "%matplotlib inline\n",
        "\n",
        "import matplotlib.pyplot as plt\n",
        "import numpy as np\n",
        "import pandas as pd\n",
        "from sklearn.cluster import KMeans\n",
        "from sklearn.preprocessing import StandardScaler"
      ],
      "execution_count": 2,
      "outputs": []
    },
    {
      "cell_type": "markdown",
      "metadata": {
        "id": "ezMvoRlB1D_t"
      },
      "source": [
        "This dataset contains player-season statistics for NBA players from the past four years. Each row in this dataset represents a player's per-game averages for a single season. \n",
        "\n",
        "This dataset contains the following variables:\n",
        "\n",
        "- Seas: season ('2019' = 2018-2019 season, '2018' = 2017-2018 season, etc.)\n",
        "- Player: player name\n",
        "- Pos: position\n",
        "- Age: age\n",
        "- Tm: team\n",
        "- G: games played\n",
        "- GS: games started\n",
        "- MP: minutes played\n",
        "- FG: field goals\n",
        "- FGA: field goals attempted\n",
        "- FG%: field goal percentage\n",
        "- 3P: 3 pointers\n",
        "- 3PA: 3 pointers attempted\n",
        "- 3P%: 3 point percentage\n",
        "- 2P: 2 pointers\n",
        "- 2PA: 2 pointers attempted\n",
        "- 2P%: 2 point percentage\n",
        "- eFG%: effective field goal percentage\n",
        "- FT: free throws\n",
        "- FTA: free throws attempted\n",
        "- FT%: free throw percentage\n",
        "- ORB: offensive rebound\n",
        "- DRB: defensive rebound\n",
        "- TRB: total rebounds\n",
        "- AST: assists\n",
        "- STL: steals\n",
        "- BLK: blocks\n",
        "- TOV: turnovers\n",
        "- PF: personal fouls\n",
        "- PTS: points\n",
        "\n",
        "Load the dataset."
      ]
    },
    {
      "cell_type": "code",
      "metadata": {
        "id": "wP1U4eQ91D_u",
        "outputId": "f3b2e096-6061-462e-8113-de4be16272df",
        "colab": {
          "base_uri": "https://localhost:8080/",
          "height": 309
        }
      },
      "source": [
        "# answer goes here\n",
        "\n",
        "url = 'https://tf-assets-prod.s3.amazonaws.com/tf-curric/data-science/Data%20Sets%20Clustering/nba_player_seasons.csv'\n",
        "df = pd.read_csv(url)\n",
        "df.head()"
      ],
      "execution_count": 3,
      "outputs": [
        {
          "output_type": "execute_result",
          "data": {
            "text/html": [
              "<div>\n",
              "<style scoped>\n",
              "    .dataframe tbody tr th:only-of-type {\n",
              "        vertical-align: middle;\n",
              "    }\n",
              "\n",
              "    .dataframe tbody tr th {\n",
              "        vertical-align: top;\n",
              "    }\n",
              "\n",
              "    .dataframe thead th {\n",
              "        text-align: right;\n",
              "    }\n",
              "</style>\n",
              "<table border=\"1\" class=\"dataframe\">\n",
              "  <thead>\n",
              "    <tr style=\"text-align: right;\">\n",
              "      <th></th>\n",
              "      <th>Seas</th>\n",
              "      <th>Player</th>\n",
              "      <th>Pos</th>\n",
              "      <th>Age</th>\n",
              "      <th>Tm</th>\n",
              "      <th>G</th>\n",
              "      <th>GS</th>\n",
              "      <th>MP</th>\n",
              "      <th>FG</th>\n",
              "      <th>FGA</th>\n",
              "      <th>FG%</th>\n",
              "      <th>3P</th>\n",
              "      <th>3PA</th>\n",
              "      <th>3P%</th>\n",
              "      <th>2P</th>\n",
              "      <th>2PA</th>\n",
              "      <th>2P%</th>\n",
              "      <th>eFG%</th>\n",
              "      <th>FT</th>\n",
              "      <th>FTA</th>\n",
              "      <th>FT%</th>\n",
              "      <th>ORB</th>\n",
              "      <th>DRB</th>\n",
              "      <th>TRB</th>\n",
              "      <th>AST</th>\n",
              "      <th>STL</th>\n",
              "      <th>BLK</th>\n",
              "      <th>TOV</th>\n",
              "      <th>PF</th>\n",
              "      <th>PTS</th>\n",
              "    </tr>\n",
              "  </thead>\n",
              "  <tbody>\n",
              "    <tr>\n",
              "      <th>0</th>\n",
              "      <td>2019</td>\n",
              "      <td>Álex Abrines</td>\n",
              "      <td>SG</td>\n",
              "      <td>25</td>\n",
              "      <td>OKC</td>\n",
              "      <td>31</td>\n",
              "      <td>2</td>\n",
              "      <td>19.0</td>\n",
              "      <td>1.8</td>\n",
              "      <td>5.1</td>\n",
              "      <td>0.357</td>\n",
              "      <td>1.3</td>\n",
              "      <td>4.1</td>\n",
              "      <td>0.323</td>\n",
              "      <td>0.5</td>\n",
              "      <td>1.0</td>\n",
              "      <td>0.500</td>\n",
              "      <td>0.487</td>\n",
              "      <td>0.4</td>\n",
              "      <td>0.4</td>\n",
              "      <td>0.923</td>\n",
              "      <td>0.2</td>\n",
              "      <td>1.4</td>\n",
              "      <td>1.5</td>\n",
              "      <td>0.6</td>\n",
              "      <td>0.5</td>\n",
              "      <td>0.2</td>\n",
              "      <td>0.5</td>\n",
              "      <td>1.7</td>\n",
              "      <td>5.3</td>\n",
              "    </tr>\n",
              "    <tr>\n",
              "      <th>1</th>\n",
              "      <td>2019</td>\n",
              "      <td>Quincy Acy</td>\n",
              "      <td>PF</td>\n",
              "      <td>28</td>\n",
              "      <td>PHO</td>\n",
              "      <td>10</td>\n",
              "      <td>0</td>\n",
              "      <td>12.3</td>\n",
              "      <td>0.4</td>\n",
              "      <td>1.8</td>\n",
              "      <td>0.222</td>\n",
              "      <td>0.2</td>\n",
              "      <td>1.5</td>\n",
              "      <td>0.133</td>\n",
              "      <td>0.2</td>\n",
              "      <td>0.3</td>\n",
              "      <td>0.667</td>\n",
              "      <td>0.278</td>\n",
              "      <td>0.7</td>\n",
              "      <td>1.0</td>\n",
              "      <td>0.700</td>\n",
              "      <td>0.3</td>\n",
              "      <td>2.2</td>\n",
              "      <td>2.5</td>\n",
              "      <td>0.8</td>\n",
              "      <td>0.1</td>\n",
              "      <td>0.4</td>\n",
              "      <td>0.4</td>\n",
              "      <td>2.4</td>\n",
              "      <td>1.7</td>\n",
              "    </tr>\n",
              "    <tr>\n",
              "      <th>2</th>\n",
              "      <td>2019</td>\n",
              "      <td>Jaylen Adams</td>\n",
              "      <td>PG</td>\n",
              "      <td>22</td>\n",
              "      <td>ATL</td>\n",
              "      <td>34</td>\n",
              "      <td>1</td>\n",
              "      <td>12.6</td>\n",
              "      <td>1.1</td>\n",
              "      <td>3.2</td>\n",
              "      <td>0.345</td>\n",
              "      <td>0.7</td>\n",
              "      <td>2.2</td>\n",
              "      <td>0.338</td>\n",
              "      <td>0.4</td>\n",
              "      <td>1.1</td>\n",
              "      <td>0.361</td>\n",
              "      <td>0.459</td>\n",
              "      <td>0.2</td>\n",
              "      <td>0.3</td>\n",
              "      <td>0.778</td>\n",
              "      <td>0.3</td>\n",
              "      <td>1.4</td>\n",
              "      <td>1.8</td>\n",
              "      <td>1.9</td>\n",
              "      <td>0.4</td>\n",
              "      <td>0.1</td>\n",
              "      <td>0.8</td>\n",
              "      <td>1.3</td>\n",
              "      <td>3.2</td>\n",
              "    </tr>\n",
              "    <tr>\n",
              "      <th>3</th>\n",
              "      <td>2019</td>\n",
              "      <td>Steven Adams</td>\n",
              "      <td>C</td>\n",
              "      <td>25</td>\n",
              "      <td>OKC</td>\n",
              "      <td>80</td>\n",
              "      <td>80</td>\n",
              "      <td>33.4</td>\n",
              "      <td>6.0</td>\n",
              "      <td>10.1</td>\n",
              "      <td>0.595</td>\n",
              "      <td>0.0</td>\n",
              "      <td>0.0</td>\n",
              "      <td>0.000</td>\n",
              "      <td>6.0</td>\n",
              "      <td>10.1</td>\n",
              "      <td>0.596</td>\n",
              "      <td>0.595</td>\n",
              "      <td>1.8</td>\n",
              "      <td>3.7</td>\n",
              "      <td>0.500</td>\n",
              "      <td>4.9</td>\n",
              "      <td>4.6</td>\n",
              "      <td>9.5</td>\n",
              "      <td>1.6</td>\n",
              "      <td>1.5</td>\n",
              "      <td>1.0</td>\n",
              "      <td>1.7</td>\n",
              "      <td>2.6</td>\n",
              "      <td>13.9</td>\n",
              "    </tr>\n",
              "    <tr>\n",
              "      <th>4</th>\n",
              "      <td>2019</td>\n",
              "      <td>Bam Adebayo</td>\n",
              "      <td>C</td>\n",
              "      <td>21</td>\n",
              "      <td>MIA</td>\n",
              "      <td>82</td>\n",
              "      <td>28</td>\n",
              "      <td>23.3</td>\n",
              "      <td>3.4</td>\n",
              "      <td>5.9</td>\n",
              "      <td>0.576</td>\n",
              "      <td>0.0</td>\n",
              "      <td>0.2</td>\n",
              "      <td>0.200</td>\n",
              "      <td>3.4</td>\n",
              "      <td>5.7</td>\n",
              "      <td>0.588</td>\n",
              "      <td>0.579</td>\n",
              "      <td>2.0</td>\n",
              "      <td>2.8</td>\n",
              "      <td>0.735</td>\n",
              "      <td>2.0</td>\n",
              "      <td>5.3</td>\n",
              "      <td>7.3</td>\n",
              "      <td>2.2</td>\n",
              "      <td>0.9</td>\n",
              "      <td>0.8</td>\n",
              "      <td>1.5</td>\n",
              "      <td>2.5</td>\n",
              "      <td>8.9</td>\n",
              "    </tr>\n",
              "  </tbody>\n",
              "</table>\n",
              "</div>"
            ],
            "text/plain": [
              "   Seas        Player Pos  Age   Tm   G  GS  ...  TRB  AST  STL  BLK  TOV   PF   PTS\n",
              "0  2019  Álex Abrines  SG   25  OKC  31   2  ...  1.5  0.6  0.5  0.2  0.5  1.7   5.3\n",
              "1  2019    Quincy Acy  PF   28  PHO  10   0  ...  2.5  0.8  0.1  0.4  0.4  2.4   1.7\n",
              "2  2019  Jaylen Adams  PG   22  ATL  34   1  ...  1.8  1.9  0.4  0.1  0.8  1.3   3.2\n",
              "3  2019  Steven Adams   C   25  OKC  80  80  ...  9.5  1.6  1.5  1.0  1.7  2.6  13.9\n",
              "4  2019   Bam Adebayo   C   21  MIA  82  28  ...  7.3  2.2  0.9  0.8  1.5  2.5   8.9\n",
              "\n",
              "[5 rows x 30 columns]"
            ]
          },
          "metadata": {
            "tags": []
          },
          "execution_count": 3
        }
      ]
    },
    {
      "cell_type": "code",
      "metadata": {
        "id": "9EiWflhta49l",
        "outputId": "8082f502-1c19-4591-bbcc-535409ff3650",
        "colab": {
          "base_uri": "https://localhost:8080/"
        }
      },
      "source": [
        "df.isnull().sum().loc[lambda x: x > 0]"
      ],
      "execution_count": 5,
      "outputs": [
        {
          "output_type": "execute_result",
          "data": {
            "text/plain": [
              "FG%      10\n",
              "3P%     174\n",
              "2P%      31\n",
              "eFG%     10\n",
              "FT%     104\n",
              "dtype: int64"
            ]
          },
          "metadata": {
            "tags": []
          },
          "execution_count": 5
        }
      ]
    },
    {
      "cell_type": "markdown",
      "metadata": {
        "id": "o_K1eQ0x1D_y"
      },
      "source": [
        "The goal is to cluster these player-seasons to identify potential player \"archetypes\".\n",
        "\n",
        "Begin by removing players whose season did not meet one of the following criteria:\n",
        "1. Started at least 20 games\n",
        "2. Averaged at least 10 minutes per game"
      ]
    },
    {
      "cell_type": "code",
      "metadata": {
        "id": "xfYVreyw1D_y"
      },
      "source": [
        "# answer goes here\n",
        "df = df[df['GS'] >=20]\n",
        "df = df[df['MP'] >= 10]"
      ],
      "execution_count": null,
      "outputs": []
    },
    {
      "cell_type": "markdown",
      "metadata": {
        "id": "86lfEP_91D_0"
      },
      "source": [
        "Choose a subset of numeric columns that is interesting to you from an \"archetypal\" standpoint. \n",
        "\n",
        "We will choose the following basic statistics: **points, total rebounds, assists, steals, blocks**, and **turnovers**, but you should feel free to choose other reasonable feature sets if you like. Be careful not to include too many dimensions (curse of dimensionality)."
      ]
    },
    {
      "cell_type": "code",
      "metadata": {
        "id": "o3PUI4l61D_0"
      },
      "source": [
        "# answer goes here\n",
        "X = df[['PTS','TRB', 'AST', 'STL', 'BLK', 'TOV']]"
      ],
      "execution_count": null,
      "outputs": []
    },
    {
      "cell_type": "markdown",
      "metadata": {
        "id": "MUjcLMMk1D_2"
      },
      "source": [
        "Standardize the features in your dataset using scikit-learn's StandardScaler, which will set the mean of each feature to 0 and the variance to 1."
      ]
    },
    {
      "cell_type": "code",
      "metadata": {
        "id": "6OTdN8oF1D_2"
      },
      "source": [
        "# answer goes here\n",
        "scaler = StandardScaler()\n",
        "\n",
        "X_scaled = scaler.fit_transform(X)\n",
        "X_scaled = pd.DataFrame(X_scaled, columns=X.columns)"
      ],
      "execution_count": null,
      "outputs": []
    },
    {
      "cell_type": "markdown",
      "metadata": {
        "id": "ao3Y5FVp1D_4"
      },
      "source": [
        "Run K-means clustering with K = 3 and print out the resulting centroids. When printing the centroids, transform the scaled centroids back into their corresponding unscaled values. What \"archetypes\" do you see?"
      ]
    },
    {
      "cell_type": "code",
      "metadata": {
        "id": "sUhMxZdL1D_4"
      },
      "source": [
        "# answer goes here\n",
        "kmeans3 = KMeans(n_clusters=3)\n",
        "\n",
        "kmeans3.fit_predict(X_scaled)\n",
        "\n",
        "centers = scaler.inverse_transform(kmeans3.cluster_centers_)"
      ],
      "execution_count": null,
      "outputs": []
    },
    {
      "cell_type": "code",
      "metadata": {
        "id": "qV7oIAvJGyDW",
        "outputId": "499a6efc-c1b1-4ad6-ceb0-b1cdbac658a1",
        "colab": {
          "base_uri": "https://localhost:8080/",
          "height": 103
        }
      },
      "source": [
        "centers = pd.DataFrame(centers, columns = X_scaled.columns)\n",
        "centers.style.background_gradient()"
      ],
      "execution_count": null,
      "outputs": [
        {
          "output_type": "execute_result",
          "data": {
            "text/html": [
              "<style  type=\"text/css\" >\n",
              "#T_0dfeefca_28f6_11eb_a2f0_0242ac1c0002row0_col0,#T_0dfeefca_28f6_11eb_a2f0_0242ac1c0002row0_col1,#T_0dfeefca_28f6_11eb_a2f0_0242ac1c0002row0_col4,#T_0dfeefca_28f6_11eb_a2f0_0242ac1c0002row0_col5,#T_0dfeefca_28f6_11eb_a2f0_0242ac1c0002row1_col2,#T_0dfeefca_28f6_11eb_a2f0_0242ac1c0002row1_col3{\n",
              "            background-color:  #fff7fb;\n",
              "            color:  #000000;\n",
              "        }#T_0dfeefca_28f6_11eb_a2f0_0242ac1c0002row0_col2{\n",
              "            background-color:  #faf2f8;\n",
              "            color:  #000000;\n",
              "        }#T_0dfeefca_28f6_11eb_a2f0_0242ac1c0002row0_col3{\n",
              "            background-color:  #f8f1f8;\n",
              "            color:  #000000;\n",
              "        }#T_0dfeefca_28f6_11eb_a2f0_0242ac1c0002row1_col0{\n",
              "            background-color:  #abbfdc;\n",
              "            color:  #000000;\n",
              "        }#T_0dfeefca_28f6_11eb_a2f0_0242ac1c0002row1_col1,#T_0dfeefca_28f6_11eb_a2f0_0242ac1c0002row1_col4,#T_0dfeefca_28f6_11eb_a2f0_0242ac1c0002row2_col0,#T_0dfeefca_28f6_11eb_a2f0_0242ac1c0002row2_col2,#T_0dfeefca_28f6_11eb_a2f0_0242ac1c0002row2_col3,#T_0dfeefca_28f6_11eb_a2f0_0242ac1c0002row2_col5{\n",
              "            background-color:  #023858;\n",
              "            color:  #f1f1f1;\n",
              "        }#T_0dfeefca_28f6_11eb_a2f0_0242ac1c0002row1_col5{\n",
              "            background-color:  #c8cde4;\n",
              "            color:  #000000;\n",
              "        }#T_0dfeefca_28f6_11eb_a2f0_0242ac1c0002row2_col1{\n",
              "            background-color:  #c4cbe3;\n",
              "            color:  #000000;\n",
              "        }#T_0dfeefca_28f6_11eb_a2f0_0242ac1c0002row2_col4{\n",
              "            background-color:  #ebe6f2;\n",
              "            color:  #000000;\n",
              "        }</style><table id=\"T_0dfeefca_28f6_11eb_a2f0_0242ac1c0002\" ><thead>    <tr>        <th class=\"blank level0\" ></th>        <th class=\"col_heading level0 col0\" >PTS</th>        <th class=\"col_heading level0 col1\" >TRB</th>        <th class=\"col_heading level0 col2\" >AST</th>        <th class=\"col_heading level0 col3\" >STL</th>        <th class=\"col_heading level0 col4\" >BLK</th>        <th class=\"col_heading level0 col5\" >TOV</th>    </tr></thead><tbody>\n",
              "                <tr>\n",
              "                        <th id=\"T_0dfeefca_28f6_11eb_a2f0_0242ac1c0002level0_row0\" class=\"row_heading level0 row0\" >0</th>\n",
              "                        <td id=\"T_0dfeefca_28f6_11eb_a2f0_0242ac1c0002row0_col0\" class=\"data row0 col0\" >10.505405</td>\n",
              "                        <td id=\"T_0dfeefca_28f6_11eb_a2f0_0242ac1c0002row0_col1\" class=\"data row0 col1\" >3.949775</td>\n",
              "                        <td id=\"T_0dfeefca_28f6_11eb_a2f0_0242ac1c0002row0_col2\" class=\"data row0 col2\" >2.063739</td>\n",
              "                        <td id=\"T_0dfeefca_28f6_11eb_a2f0_0242ac1c0002row0_col3\" class=\"data row0 col3\" >0.804730</td>\n",
              "                        <td id=\"T_0dfeefca_28f6_11eb_a2f0_0242ac1c0002row0_col4\" class=\"data row0 col4\" >0.374324</td>\n",
              "                        <td id=\"T_0dfeefca_28f6_11eb_a2f0_0242ac1c0002row0_col5\" class=\"data row0 col5\" >1.235135</td>\n",
              "            </tr>\n",
              "            <tr>\n",
              "                        <th id=\"T_0dfeefca_28f6_11eb_a2f0_0242ac1c0002level0_row1\" class=\"row_heading level0 row1\" >1</th>\n",
              "                        <td id=\"T_0dfeefca_28f6_11eb_a2f0_0242ac1c0002row1_col0\" class=\"data row1 col0\" >13.735359</td>\n",
              "                        <td id=\"T_0dfeefca_28f6_11eb_a2f0_0242ac1c0002row1_col1\" class=\"data row1 col1\" >8.605525</td>\n",
              "                        <td id=\"T_0dfeefca_28f6_11eb_a2f0_0242ac1c0002row1_col2\" class=\"data row1 col2\" >1.914917</td>\n",
              "                        <td id=\"T_0dfeefca_28f6_11eb_a2f0_0242ac1c0002row1_col3\" class=\"data row1 col3\" >0.777348</td>\n",
              "                        <td id=\"T_0dfeefca_28f6_11eb_a2f0_0242ac1c0002row1_col4\" class=\"data row1 col4\" >1.230387</td>\n",
              "                        <td id=\"T_0dfeefca_28f6_11eb_a2f0_0242ac1c0002row1_col5\" class=\"data row1 col5\" >1.668508</td>\n",
              "            </tr>\n",
              "            <tr>\n",
              "                        <th id=\"T_0dfeefca_28f6_11eb_a2f0_0242ac1c0002level0_row2\" class=\"row_heading level0 row2\" >2</th>\n",
              "                        <td id=\"T_0dfeefca_28f6_11eb_a2f0_0242ac1c0002row2_col0\" class=\"data row2 col0\" >19.491620</td>\n",
              "                        <td id=\"T_0dfeefca_28f6_11eb_a2f0_0242ac1c0002row2_col1\" class=\"data row2 col1\" >5.293855</td>\n",
              "                        <td id=\"T_0dfeefca_28f6_11eb_a2f0_0242ac1c0002row2_col2\" class=\"data row2 col2\" >5.934078</td>\n",
              "                        <td id=\"T_0dfeefca_28f6_11eb_a2f0_0242ac1c0002row2_col3\" class=\"data row2 col3\" >1.354190</td>\n",
              "                        <td id=\"T_0dfeefca_28f6_11eb_a2f0_0242ac1c0002row2_col4\" class=\"data row2 col4\" >0.486034</td>\n",
              "                        <td id=\"T_0dfeefca_28f6_11eb_a2f0_0242ac1c0002row2_col5\" class=\"data row2 col5\" >2.797765</td>\n",
              "            </tr>\n",
              "    </tbody></table>"
            ],
            "text/plain": [
              "<pandas.io.formats.style.Styler at 0x7f2ee9671cf8>"
            ]
          },
          "metadata": {
            "tags": []
          },
          "execution_count": 26
        }
      ]
    },
    {
      "cell_type": "markdown",
      "metadata": {
        "id": "y0wBOUWJ1D_6"
      },
      "source": [
        "Experiment with different values of K. Do any further interesting archetypes come out?"
      ]
    },
    {
      "cell_type": "code",
      "metadata": {
        "id": "AdKYEBx61D_6"
      },
      "source": [
        "# answer goes here\n",
        "kmeans4 = KMeans(n_clusters=4)\n",
        "\n",
        "kmeans4.fit_predict(X_scaled)\n",
        "\n",
        "centers = scaler.inverse_transform(kmeans4.cluster_centers_)"
      ],
      "execution_count": null,
      "outputs": []
    },
    {
      "cell_type": "code",
      "metadata": {
        "id": "ufAf6BowJKmz",
        "outputId": "32b38b51-5ba1-4074-90cd-72b756868da1",
        "colab": {
          "base_uri": "https://localhost:8080/",
          "height": 124
        }
      },
      "source": [
        "centers = pd.DataFrame(centers, columns = X_scaled.columns)\n",
        "centers.style.background_gradient()"
      ],
      "execution_count": null,
      "outputs": [
        {
          "output_type": "execute_result",
          "data": {
            "text/html": [
              "<style  type=\"text/css\" >\n",
              "#T_25d12d20_28f6_11eb_a2f0_0242ac1c0002row0_col0{\n",
              "            background-color:  #569dc8;\n",
              "            color:  #000000;\n",
              "        }#T_25d12d20_28f6_11eb_a2f0_0242ac1c0002row0_col1,#T_25d12d20_28f6_11eb_a2f0_0242ac1c0002row0_col4,#T_25d12d20_28f6_11eb_a2f0_0242ac1c0002row2_col0,#T_25d12d20_28f6_11eb_a2f0_0242ac1c0002row2_col2,#T_25d12d20_28f6_11eb_a2f0_0242ac1c0002row2_col3,#T_25d12d20_28f6_11eb_a2f0_0242ac1c0002row2_col5{\n",
              "            background-color:  #023858;\n",
              "            color:  #f1f1f1;\n",
              "        }#T_25d12d20_28f6_11eb_a2f0_0242ac1c0002row0_col2{\n",
              "            background-color:  #e9e5f1;\n",
              "            color:  #000000;\n",
              "        }#T_25d12d20_28f6_11eb_a2f0_0242ac1c0002row0_col3{\n",
              "            background-color:  #dfddec;\n",
              "            color:  #000000;\n",
              "        }#T_25d12d20_28f6_11eb_a2f0_0242ac1c0002row0_col5{\n",
              "            background-color:  #91b5d6;\n",
              "            color:  #000000;\n",
              "        }#T_25d12d20_28f6_11eb_a2f0_0242ac1c0002row1_col0,#T_25d12d20_28f6_11eb_a2f0_0242ac1c0002row1_col2,#T_25d12d20_28f6_11eb_a2f0_0242ac1c0002row1_col3,#T_25d12d20_28f6_11eb_a2f0_0242ac1c0002row1_col5,#T_25d12d20_28f6_11eb_a2f0_0242ac1c0002row3_col1,#T_25d12d20_28f6_11eb_a2f0_0242ac1c0002row3_col4{\n",
              "            background-color:  #fff7fb;\n",
              "            color:  #000000;\n",
              "        }#T_25d12d20_28f6_11eb_a2f0_0242ac1c0002row1_col1{\n",
              "            background-color:  #fdf5fa;\n",
              "            color:  #000000;\n",
              "        }#T_25d12d20_28f6_11eb_a2f0_0242ac1c0002row1_col4{\n",
              "            background-color:  #eae6f1;\n",
              "            color:  #000000;\n",
              "        }#T_25d12d20_28f6_11eb_a2f0_0242ac1c0002row2_col1{\n",
              "            background-color:  #c8cde4;\n",
              "            color:  #000000;\n",
              "        }#T_25d12d20_28f6_11eb_a2f0_0242ac1c0002row2_col4{\n",
              "            background-color:  #e5e1ef;\n",
              "            color:  #000000;\n",
              "        }#T_25d12d20_28f6_11eb_a2f0_0242ac1c0002row3_col0{\n",
              "            background-color:  #89b1d4;\n",
              "            color:  #000000;\n",
              "        }#T_25d12d20_28f6_11eb_a2f0_0242ac1c0002row3_col2{\n",
              "            background-color:  #b5c4df;\n",
              "            color:  #000000;\n",
              "        }#T_25d12d20_28f6_11eb_a2f0_0242ac1c0002row3_col3{\n",
              "            background-color:  #69a5cc;\n",
              "            color:  #000000;\n",
              "        }#T_25d12d20_28f6_11eb_a2f0_0242ac1c0002row3_col5{\n",
              "            background-color:  #b4c4df;\n",
              "            color:  #000000;\n",
              "        }</style><table id=\"T_25d12d20_28f6_11eb_a2f0_0242ac1c0002\" ><thead>    <tr>        <th class=\"blank level0\" ></th>        <th class=\"col_heading level0 col0\" >PTS</th>        <th class=\"col_heading level0 col1\" >TRB</th>        <th class=\"col_heading level0 col2\" >AST</th>        <th class=\"col_heading level0 col3\" >STL</th>        <th class=\"col_heading level0 col4\" >BLK</th>        <th class=\"col_heading level0 col5\" >TOV</th>    </tr></thead><tbody>\n",
              "                <tr>\n",
              "                        <th id=\"T_25d12d20_28f6_11eb_a2f0_0242ac1c0002level0_row0\" class=\"row_heading level0 row0\" >0</th>\n",
              "                        <td id=\"T_25d12d20_28f6_11eb_a2f0_0242ac1c0002row0_col0\" class=\"data row0 col0\" >14.960000</td>\n",
              "                        <td id=\"T_25d12d20_28f6_11eb_a2f0_0242ac1c0002row0_col1\" class=\"data row0 col1\" >9.123704</td>\n",
              "                        <td id=\"T_25d12d20_28f6_11eb_a2f0_0242ac1c0002row0_col2\" class=\"data row0 col2\" >2.071852</td>\n",
              "                        <td id=\"T_25d12d20_28f6_11eb_a2f0_0242ac1c0002row0_col3\" class=\"data row0 col3\" >0.773333</td>\n",
              "                        <td id=\"T_25d12d20_28f6_11eb_a2f0_0242ac1c0002row0_col4\" class=\"data row0 col4\" >1.361481</td>\n",
              "                        <td id=\"T_25d12d20_28f6_11eb_a2f0_0242ac1c0002row0_col5\" class=\"data row0 col5\" >1.820000</td>\n",
              "            </tr>\n",
              "            <tr>\n",
              "                        <th id=\"T_25d12d20_28f6_11eb_a2f0_0242ac1c0002level0_row1\" class=\"row_heading level0 row1\" >1</th>\n",
              "                        <td id=\"T_25d12d20_28f6_11eb_a2f0_0242ac1c0002row1_col0\" class=\"data row1 col0\" >8.298893</td>\n",
              "                        <td id=\"T_25d12d20_28f6_11eb_a2f0_0242ac1c0002row1_col1\" class=\"data row1 col1\" >4.282288</td>\n",
              "                        <td id=\"T_25d12d20_28f6_11eb_a2f0_0242ac1c0002row1_col2\" class=\"data row1 col2\" >1.390037</td>\n",
              "                        <td id=\"T_25d12d20_28f6_11eb_a2f0_0242ac1c0002row1_col3\" class=\"data row1 col3\" >0.630996</td>\n",
              "                        <td id=\"T_25d12d20_28f6_11eb_a2f0_0242ac1c0002row1_col4\" class=\"data row1 col4\" >0.482657</td>\n",
              "                        <td id=\"T_25d12d20_28f6_11eb_a2f0_0242ac1c0002row1_col5\" class=\"data row1 col5\" >0.975646</td>\n",
              "            </tr>\n",
              "            <tr>\n",
              "                        <th id=\"T_25d12d20_28f6_11eb_a2f0_0242ac1c0002level0_row2\" class=\"row_heading level0 row2\" >2</th>\n",
              "                        <td id=\"T_25d12d20_28f6_11eb_a2f0_0242ac1c0002row2_col0\" class=\"data row2 col0\" >20.188889</td>\n",
              "                        <td id=\"T_25d12d20_28f6_11eb_a2f0_0242ac1c0002row2_col1\" class=\"data row2 col1\" >5.561806</td>\n",
              "                        <td id=\"T_25d12d20_28f6_11eb_a2f0_0242ac1c0002row2_col2\" class=\"data row2 col2\" >6.289583</td>\n",
              "                        <td id=\"T_25d12d20_28f6_11eb_a2f0_0242ac1c0002row2_col3\" class=\"data row2 col3\" >1.404167</td>\n",
              "                        <td id=\"T_25d12d20_28f6_11eb_a2f0_0242ac1c0002row2_col4\" class=\"data row2 col4\" >0.506944</td>\n",
              "                        <td id=\"T_25d12d20_28f6_11eb_a2f0_0242ac1c0002row2_col5\" class=\"data row2 col5\" >2.952083</td>\n",
              "            </tr>\n",
              "            <tr>\n",
              "                        <th id=\"T_25d12d20_28f6_11eb_a2f0_0242ac1c0002level0_row3\" class=\"row_heading level0 row3\" >3</th>\n",
              "                        <td id=\"T_25d12d20_28f6_11eb_a2f0_0242ac1c0002row3_col0\" class=\"data row3 col0\" >13.636614</td>\n",
              "                        <td id=\"T_25d12d20_28f6_11eb_a2f0_0242ac1c0002row3_col1\" class=\"data row3 col1\" >4.196063</td>\n",
              "                        <td id=\"T_25d12d20_28f6_11eb_a2f0_0242ac1c0002row3_col2\" class=\"data row3 col2\" >3.003937</td>\n",
              "                        <td id=\"T_25d12d20_28f6_11eb_a2f0_0242ac1c0002row3_col3\" class=\"data row3 col3\" >1.034646</td>\n",
              "                        <td id=\"T_25d12d20_28f6_11eb_a2f0_0242ac1c0002row3_col4\" class=\"data row3 col4\" >0.347638</td>\n",
              "                        <td id=\"T_25d12d20_28f6_11eb_a2f0_0242ac1c0002row3_col5\" class=\"data row3 col5\" >1.637795</td>\n",
              "            </tr>\n",
              "    </tbody></table>"
            ],
            "text/plain": [
              "<pandas.io.formats.style.Styler at 0x7f2ee80aea20>"
            ]
          },
          "metadata": {
            "tags": []
          },
          "execution_count": 29
        }
      ]
    },
    {
      "cell_type": "code",
      "metadata": {
        "id": "7x1_njs6JQi6"
      },
      "source": [
        "kmeans5 = KMeans(n_clusters=5)\n",
        "\n",
        "kmeans5.fit_predict(X_scaled)\n",
        "\n",
        "centers = scaler.inverse_transform(kmeans5.cluster_centers_)"
      ],
      "execution_count": null,
      "outputs": []
    },
    {
      "cell_type": "code",
      "metadata": {
        "id": "HiU_Z7wAJOrA",
        "outputId": "d5aa70a3-e749-4a9b-c7aa-e44eccd67513",
        "colab": {
          "base_uri": "https://localhost:8080/",
          "height": 145
        }
      },
      "source": [
        "centers = pd.DataFrame(centers, columns = X_scaled.columns)\n",
        "centers.style.background_gradient()"
      ],
      "execution_count": null,
      "outputs": [
        {
          "output_type": "execute_result",
          "data": {
            "text/html": [
              "<style  type=\"text/css\" >\n",
              "#T_36a55f68_28f6_11eb_a2f0_0242ac1c0002row0_col0,#T_36a55f68_28f6_11eb_a2f0_0242ac1c0002row0_col1,#T_36a55f68_28f6_11eb_a2f0_0242ac1c0002row0_col2,#T_36a55f68_28f6_11eb_a2f0_0242ac1c0002row0_col3,#T_36a55f68_28f6_11eb_a2f0_0242ac1c0002row0_col5,#T_36a55f68_28f6_11eb_a2f0_0242ac1c0002row3_col4{\n",
              "            background-color:  #fff7fb;\n",
              "            color:  #000000;\n",
              "        }#T_36a55f68_28f6_11eb_a2f0_0242ac1c0002row0_col4{\n",
              "            background-color:  #fdf5fa;\n",
              "            color:  #000000;\n",
              "        }#T_36a55f68_28f6_11eb_a2f0_0242ac1c0002row1_col0{\n",
              "            background-color:  #bcc7e1;\n",
              "            color:  #000000;\n",
              "        }#T_36a55f68_28f6_11eb_a2f0_0242ac1c0002row1_col1{\n",
              "            background-color:  #65a3cb;\n",
              "            color:  #000000;\n",
              "        }#T_36a55f68_28f6_11eb_a2f0_0242ac1c0002row1_col2{\n",
              "            background-color:  #f7f0f7;\n",
              "            color:  #000000;\n",
              "        }#T_36a55f68_28f6_11eb_a2f0_0242ac1c0002row1_col3{\n",
              "            background-color:  #f1ebf4;\n",
              "            color:  #000000;\n",
              "        }#T_36a55f68_28f6_11eb_a2f0_0242ac1c0002row1_col4{\n",
              "            background-color:  #8eb3d5;\n",
              "            color:  #000000;\n",
              "        }#T_36a55f68_28f6_11eb_a2f0_0242ac1c0002row1_col5{\n",
              "            background-color:  #d2d3e7;\n",
              "            color:  #000000;\n",
              "        }#T_36a55f68_28f6_11eb_a2f0_0242ac1c0002row2_col0{\n",
              "            background-color:  #034e7b;\n",
              "            color:  #f1f1f1;\n",
              "        }#T_36a55f68_28f6_11eb_a2f0_0242ac1c0002row2_col1,#T_36a55f68_28f6_11eb_a2f0_0242ac1c0002row2_col4,#T_36a55f68_28f6_11eb_a2f0_0242ac1c0002row4_col0,#T_36a55f68_28f6_11eb_a2f0_0242ac1c0002row4_col2,#T_36a55f68_28f6_11eb_a2f0_0242ac1c0002row4_col3,#T_36a55f68_28f6_11eb_a2f0_0242ac1c0002row4_col5{\n",
              "            background-color:  #023858;\n",
              "            color:  #f1f1f1;\n",
              "        }#T_36a55f68_28f6_11eb_a2f0_0242ac1c0002row2_col2{\n",
              "            background-color:  #d2d2e7;\n",
              "            color:  #000000;\n",
              "        }#T_36a55f68_28f6_11eb_a2f0_0242ac1c0002row2_col3{\n",
              "            background-color:  #83afd3;\n",
              "            color:  #000000;\n",
              "        }#T_36a55f68_28f6_11eb_a2f0_0242ac1c0002row2_col5{\n",
              "            background-color:  #1379b5;\n",
              "            color:  #f1f1f1;\n",
              "        }#T_36a55f68_28f6_11eb_a2f0_0242ac1c0002row3_col0{\n",
              "            background-color:  #7eadd1;\n",
              "            color:  #000000;\n",
              "        }#T_36a55f68_28f6_11eb_a2f0_0242ac1c0002row3_col1{\n",
              "            background-color:  #f3edf5;\n",
              "            color:  #000000;\n",
              "        }#T_36a55f68_28f6_11eb_a2f0_0242ac1c0002row3_col2{\n",
              "            background-color:  #b8c6e0;\n",
              "            color:  #000000;\n",
              "        }#T_36a55f68_28f6_11eb_a2f0_0242ac1c0002row3_col3{\n",
              "            background-color:  #60a1ca;\n",
              "            color:  #000000;\n",
              "        }#T_36a55f68_28f6_11eb_a2f0_0242ac1c0002row3_col5{\n",
              "            background-color:  #acc0dd;\n",
              "            color:  #000000;\n",
              "        }#T_36a55f68_28f6_11eb_a2f0_0242ac1c0002row4_col1{\n",
              "            background-color:  #d1d2e6;\n",
              "            color:  #000000;\n",
              "        }#T_36a55f68_28f6_11eb_a2f0_0242ac1c0002row4_col4{\n",
              "            background-color:  #f1ebf5;\n",
              "            color:  #000000;\n",
              "        }</style><table id=\"T_36a55f68_28f6_11eb_a2f0_0242ac1c0002\" ><thead>    <tr>        <th class=\"blank level0\" ></th>        <th class=\"col_heading level0 col0\" >PTS</th>        <th class=\"col_heading level0 col1\" >TRB</th>        <th class=\"col_heading level0 col2\" >AST</th>        <th class=\"col_heading level0 col3\" >STL</th>        <th class=\"col_heading level0 col4\" >BLK</th>        <th class=\"col_heading level0 col5\" >TOV</th>    </tr></thead><tbody>\n",
              "                <tr>\n",
              "                        <th id=\"T_36a55f68_28f6_11eb_a2f0_0242ac1c0002level0_row0\" class=\"row_heading level0 row0\" >0</th>\n",
              "                        <td id=\"T_36a55f68_28f6_11eb_a2f0_0242ac1c0002row0_col0\" class=\"data row0 col0\" >7.755155</td>\n",
              "                        <td id=\"T_36a55f68_28f6_11eb_a2f0_0242ac1c0002row0_col1\" class=\"data row0 col1\" >3.478351</td>\n",
              "                        <td id=\"T_36a55f68_28f6_11eb_a2f0_0242ac1c0002row0_col2\" class=\"data row0 col2\" >1.409794</td>\n",
              "                        <td id=\"T_36a55f68_28f6_11eb_a2f0_0242ac1c0002row0_col3\" class=\"data row0 col3\" >0.608247</td>\n",
              "                        <td id=\"T_36a55f68_28f6_11eb_a2f0_0242ac1c0002row0_col4\" class=\"data row0 col4\" >0.356186</td>\n",
              "                        <td id=\"T_36a55f68_28f6_11eb_a2f0_0242ac1c0002row0_col5\" class=\"data row0 col5\" >0.906701</td>\n",
              "            </tr>\n",
              "            <tr>\n",
              "                        <th id=\"T_36a55f68_28f6_11eb_a2f0_0242ac1c0002level0_row1\" class=\"row_heading level0 row1\" >1</th>\n",
              "                        <td id=\"T_36a55f68_28f6_11eb_a2f0_0242ac1c0002row1_col0\" class=\"data row1 col0\" >11.485185</td>\n",
              "                        <td id=\"T_36a55f68_28f6_11eb_a2f0_0242ac1c0002row1_col1\" class=\"data row1 col1\" >7.238272</td>\n",
              "                        <td id=\"T_36a55f68_28f6_11eb_a2f0_0242ac1c0002row1_col2\" class=\"data row1 col2\" >1.660494</td>\n",
              "                        <td id=\"T_36a55f68_28f6_11eb_a2f0_0242ac1c0002row1_col3\" class=\"data row1 col3\" >0.683951</td>\n",
              "                        <td id=\"T_36a55f68_28f6_11eb_a2f0_0242ac1c0002row1_col4\" class=\"data row1 col4\" >0.926543</td>\n",
              "                        <td id=\"T_36a55f68_28f6_11eb_a2f0_0242ac1c0002row1_col5\" class=\"data row1 col5\" >1.383333</td>\n",
              "            </tr>\n",
              "            <tr>\n",
              "                        <th id=\"T_36a55f68_28f6_11eb_a2f0_0242ac1c0002level0_row2\" class=\"row_heading level0 row2\" >2</th>\n",
              "                        <td id=\"T_36a55f68_28f6_11eb_a2f0_0242ac1c0002row2_col0\" class=\"data row2 col0\" >18.730303</td>\n",
              "                        <td id=\"T_36a55f68_28f6_11eb_a2f0_0242ac1c0002row2_col1\" class=\"data row2 col1\" >10.577273</td>\n",
              "                        <td id=\"T_36a55f68_28f6_11eb_a2f0_0242ac1c0002row2_col2\" class=\"data row2 col2\" >2.603030</td>\n",
              "                        <td id=\"T_36a55f68_28f6_11eb_a2f0_0242ac1c0002row2_col3\" class=\"data row2 col3\" >0.972727</td>\n",
              "                        <td id=\"T_36a55f68_28f6_11eb_a2f0_0242ac1c0002row2_col4\" class=\"data row2 col4\" >1.692424</td>\n",
              "                        <td id=\"T_36a55f68_28f6_11eb_a2f0_0242ac1c0002row2_col5\" class=\"data row2 col5\" >2.315152</td>\n",
              "            </tr>\n",
              "            <tr>\n",
              "                        <th id=\"T_36a55f68_28f6_11eb_a2f0_0242ac1c0002level0_row3\" class=\"row_heading level0 row3\" >3</th>\n",
              "                        <td id=\"T_36a55f68_28f6_11eb_a2f0_0242ac1c0002row3_col0\" class=\"data row3 col0\" >13.441004</td>\n",
              "                        <td id=\"T_36a55f68_28f6_11eb_a2f0_0242ac1c0002row3_col1\" class=\"data row3 col1\" >4.036820</td>\n",
              "                        <td id=\"T_36a55f68_28f6_11eb_a2f0_0242ac1c0002row3_col2\" class=\"data row3 col2\" >2.975732</td>\n",
              "                        <td id=\"T_36a55f68_28f6_11eb_a2f0_0242ac1c0002row3_col3\" class=\"data row3 col3\" >1.035983</td>\n",
              "                        <td id=\"T_36a55f68_28f6_11eb_a2f0_0242ac1c0002row3_col4\" class=\"data row3 col4\" >0.333473</td>\n",
              "                        <td id=\"T_36a55f68_28f6_11eb_a2f0_0242ac1c0002row3_col5\" class=\"data row3 col5\" >1.616318</td>\n",
              "            </tr>\n",
              "            <tr>\n",
              "                        <th id=\"T_36a55f68_28f6_11eb_a2f0_0242ac1c0002level0_row4\" class=\"row_heading level0 row4\" >4</th>\n",
              "                        <td id=\"T_36a55f68_28f6_11eb_a2f0_0242ac1c0002row4_col0\" class=\"data row4 col0\" >19.760839</td>\n",
              "                        <td id=\"T_36a55f68_28f6_11eb_a2f0_0242ac1c0002row4_col1\" class=\"data row4 col1\" >5.234965</td>\n",
              "                        <td id=\"T_36a55f68_28f6_11eb_a2f0_0242ac1c0002row4_col2\" class=\"data row4 col2\" >6.290909</td>\n",
              "                        <td id=\"T_36a55f68_28f6_11eb_a2f0_0242ac1c0002row4_col3\" class=\"data row4 col3\" >1.397203</td>\n",
              "                        <td id=\"T_36a55f68_28f6_11eb_a2f0_0242ac1c0002row4_col4\" class=\"data row4 col4\" >0.456643</td>\n",
              "                        <td id=\"T_36a55f68_28f6_11eb_a2f0_0242ac1c0002row4_col5\" class=\"data row4 col5\" >2.881818</td>\n",
              "            </tr>\n",
              "    </tbody></table>"
            ],
            "text/plain": [
              "<pandas.io.formats.style.Styler at 0x7f2ee80ae9e8>"
            ]
          },
          "metadata": {
            "tags": []
          },
          "execution_count": 31
        }
      ]
    },
    {
      "cell_type": "code",
      "metadata": {
        "id": "h0C_s0kHJVkS"
      },
      "source": [
        "kmeans2 = KMeans(n_clusters=2)\n",
        "\n",
        "kmeans2.fit_predict(X_scaled)\n",
        "\n",
        "centers = scaler.inverse_transform(kmeans2.cluster_centers_)"
      ],
      "execution_count": null,
      "outputs": []
    },
    {
      "cell_type": "code",
      "metadata": {
        "id": "tNCwKFgWJabW",
        "outputId": "6bdb9623-1b06-440c-976a-7a51853a1fd5",
        "colab": {
          "base_uri": "https://localhost:8080/",
          "height": 82
        }
      },
      "source": [
        "centers = pd.DataFrame(centers, columns = X_scaled.columns)\n",
        "centers.style.background_gradient()"
      ],
      "execution_count": null,
      "outputs": [
        {
          "output_type": "execute_result",
          "data": {
            "text/html": [
              "<style  type=\"text/css\" >\n",
              "#T_458bda2a_28f6_11eb_a2f0_0242ac1c0002row0_col0,#T_458bda2a_28f6_11eb_a2f0_0242ac1c0002row0_col1,#T_458bda2a_28f6_11eb_a2f0_0242ac1c0002row0_col2,#T_458bda2a_28f6_11eb_a2f0_0242ac1c0002row0_col3,#T_458bda2a_28f6_11eb_a2f0_0242ac1c0002row0_col4,#T_458bda2a_28f6_11eb_a2f0_0242ac1c0002row0_col5{\n",
              "            background-color:  #fff7fb;\n",
              "            color:  #000000;\n",
              "        }#T_458bda2a_28f6_11eb_a2f0_0242ac1c0002row1_col0,#T_458bda2a_28f6_11eb_a2f0_0242ac1c0002row1_col1,#T_458bda2a_28f6_11eb_a2f0_0242ac1c0002row1_col2,#T_458bda2a_28f6_11eb_a2f0_0242ac1c0002row1_col3,#T_458bda2a_28f6_11eb_a2f0_0242ac1c0002row1_col4,#T_458bda2a_28f6_11eb_a2f0_0242ac1c0002row1_col5{\n",
              "            background-color:  #023858;\n",
              "            color:  #f1f1f1;\n",
              "        }</style><table id=\"T_458bda2a_28f6_11eb_a2f0_0242ac1c0002\" ><thead>    <tr>        <th class=\"blank level0\" ></th>        <th class=\"col_heading level0 col0\" >PTS</th>        <th class=\"col_heading level0 col1\" >TRB</th>        <th class=\"col_heading level0 col2\" >AST</th>        <th class=\"col_heading level0 col3\" >STL</th>        <th class=\"col_heading level0 col4\" >BLK</th>        <th class=\"col_heading level0 col5\" >TOV</th>    </tr></thead><tbody>\n",
              "                <tr>\n",
              "                        <th id=\"T_458bda2a_28f6_11eb_a2f0_0242ac1c0002level0_row0\" class=\"row_heading level0 row0\" >0</th>\n",
              "                        <td id=\"T_458bda2a_28f6_11eb_a2f0_0242ac1c0002row0_col0\" class=\"data row0 col0\" >11.003378</td>\n",
              "                        <td id=\"T_458bda2a_28f6_11eb_a2f0_0242ac1c0002row0_col1\" class=\"data row0 col1\" >5.025338</td>\n",
              "                        <td id=\"T_458bda2a_28f6_11eb_a2f0_0242ac1c0002row0_col2\" class=\"data row0 col2\" >1.967230</td>\n",
              "                        <td id=\"T_458bda2a_28f6_11eb_a2f0_0242ac1c0002row0_col3\" class=\"data row0 col3\" >0.776858</td>\n",
              "                        <td id=\"T_458bda2a_28f6_11eb_a2f0_0242ac1c0002row0_col4\" class=\"data row0 col4\" >0.573818</td>\n",
              "                        <td id=\"T_458bda2a_28f6_11eb_a2f0_0242ac1c0002row0_col5\" class=\"data row0 col5\" >1.303209</td>\n",
              "            </tr>\n",
              "            <tr>\n",
              "                        <th id=\"T_458bda2a_28f6_11eb_a2f0_0242ac1c0002level0_row1\" class=\"row_heading level0 row1\" >1</th>\n",
              "                        <td id=\"T_458bda2a_28f6_11eb_a2f0_0242ac1c0002row1_col0\" class=\"data row1 col0\" >19.459906</td>\n",
              "                        <td id=\"T_458bda2a_28f6_11eb_a2f0_0242ac1c0002row1_col1\" class=\"data row1 col1\" >6.056132</td>\n",
              "                        <td id=\"T_458bda2a_28f6_11eb_a2f0_0242ac1c0002row1_col2\" class=\"data row1 col2\" >5.474057</td>\n",
              "                        <td id=\"T_458bda2a_28f6_11eb_a2f0_0242ac1c0002row1_col3\" class=\"data row1 col3\" >1.323113</td>\n",
              "                        <td id=\"T_458bda2a_28f6_11eb_a2f0_0242ac1c0002row1_col4\" class=\"data row1 col4\" >0.642453</td>\n",
              "                        <td id=\"T_458bda2a_28f6_11eb_a2f0_0242ac1c0002row1_col5\" class=\"data row1 col5\" >2.734434</td>\n",
              "            </tr>\n",
              "    </tbody></table>"
            ],
            "text/plain": [
              "<pandas.io.formats.style.Styler at 0x7f2ee808b470>"
            ]
          },
          "metadata": {
            "tags": []
          },
          "execution_count": 33
        }
      ]
    },
    {
      "cell_type": "markdown",
      "metadata": {
        "id": "pT5YKZ6RJrJ-"
      },
      "source": [
        "The more clusters we have the smaller the variance between the groups in terms of Points, but total rebounds has a low varience between the two archetype in cluster 2, and great variance in cluster 5. "
      ]
    }
  ]
}