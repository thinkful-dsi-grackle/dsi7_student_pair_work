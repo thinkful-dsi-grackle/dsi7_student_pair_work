{
  "nbformat": 4,
  "nbformat_minor": 0,
  "metadata": {
    "colab": {
      "name": "Day 47 Lecture 1 Assignment_Caesar.ipynb",
      "provenance": [],
      "collapsed_sections": []
    },
    "kernelspec": {
      "display_name": "Python 3",
      "language": "python",
      "name": "python3"
    },
    "language_info": {
      "codemirror_mode": {
        "name": "ipython",
        "version": 3
      },
      "file_extension": ".py",
      "mimetype": "text/x-python",
      "name": "python",
      "nbconvert_exporter": "python",
      "pygments_lexer": "ipython3",
      "version": "3.7.0"
    }
  },
  "cells": [
    {
      "cell_type": "markdown",
      "metadata": {
        "id": "xdL0Yz0D1D_q"
      },
      "source": [
        "## Day 47 Lecture 1 Assignment\n",
        "\n",
        "In this assignment, we will apply k-means clustering to a dataset containing player-season statistics for NBA players from the past four years."
      ]
    },
    {
      "cell_type": "code",
      "metadata": {
        "id": "OulyiH_C1D_r"
      },
      "source": [
        "%matplotlib inline\n",
        "\n",
        "import matplotlib.pyplot as plt\n",
        "import numpy as np\n",
        "import pandas as pd\n",
        "from sklearn.cluster import KMeans\n",
        "from sklearn.preprocessing import StandardScaler"
      ],
      "execution_count": 7,
      "outputs": []
    },
    {
      "cell_type": "markdown",
      "metadata": {
        "id": "ezMvoRlB1D_t"
      },
      "source": [
        "This dataset contains player-season statistics for NBA players from the past four years. Each row in this dataset represents a player's per-game averages for a single season. \n",
        "\n",
        "This dataset contains the following variables:\n",
        "\n",
        "- Seas: season ('2019' = 2018-2019 season, '2018' = 2017-2018 season, etc.)\n",
        "- Player: player name\n",
        "- Pos: position\n",
        "- Age: age\n",
        "- Tm: team\n",
        "- G: games played\n",
        "- GS: games started\n",
        "- MP: minutes played\n",
        "- FG: field goals\n",
        "- FGA: field goals attempted\n",
        "- FG%: field goal percentage\n",
        "- 3P: 3 pointers\n",
        "- 3PA: 3 pointers attempted\n",
        "- 3P%: 3 point percentage\n",
        "- 2P: 2 pointers\n",
        "- 2PA: 2 pointers attempted\n",
        "- 2P%: 2 point percentage\n",
        "- eFG%: effective field goal percentage\n",
        "- FT: free throws\n",
        "- FTA: free throws attempted\n",
        "- FT%: free throw percentage\n",
        "- ORB: offensive rebound\n",
        "- DRB: defensive rebound\n",
        "- TRB: total rebounds\n",
        "- AST: assists\n",
        "- STL: steals\n",
        "- BLK: blocks\n",
        "- TOV: turnovers\n",
        "- PF: personal fouls\n",
        "- PTS: points\n",
        "\n",
        "Load the dataset."
      ]
    },
    {
      "cell_type": "code",
      "metadata": {
        "id": "wP1U4eQ91D_u"
      },
      "source": [
        "# answer goes here\n",
        "df = pd.read_csv('https://tf-assets-prod.s3.amazonaws.com/tf-curric/data-science/Data%20Sets%20Clustering/nba_player_seasons.csv')"
      ],
      "execution_count": 11,
      "outputs": []
    },
    {
      "cell_type": "code",
      "metadata": {
        "id": "-JW9iFquCsr7",
        "outputId": "bf12be8a-85c5-4e16-f8b6-6bfd8e0c8c28",
        "colab": {
          "base_uri": "https://localhost:8080/"
        }
      },
      "source": [
        "df.shape"
      ],
      "execution_count": 12,
      "outputs": [
        {
          "output_type": "execute_result",
          "data": {
            "text/plain": [
              "(2141, 30)"
            ]
          },
          "metadata": {
            "tags": []
          },
          "execution_count": 12
        }
      ]
    },
    {
      "cell_type": "markdown",
      "metadata": {
        "id": "o_K1eQ0x1D_y"
      },
      "source": [
        "The goal is to cluster these player-seasons to identify potential player \"archetypes\".\n",
        "\n",
        "Begin by removing players whose season did not meet one of the following criteria:\n",
        "1. Started at least 20 games\n",
        "2. Averaged at least 10 minutes per game"
      ]
    },
    {
      "cell_type": "code",
      "metadata": {
        "id": "xfYVreyw1D_y"
      },
      "source": [
        "# answer goes here\n",
        "df_ = df.loc[(df.MP >= 10) | (df.GS >= 20)]"
      ],
      "execution_count": 62,
      "outputs": []
    },
    {
      "cell_type": "markdown",
      "metadata": {
        "id": "86lfEP_91D_0"
      },
      "source": [
        "Choose a subset of numeric columns that is interesting to you from an \"archetypal\" standpoint. \n",
        "\n",
        "We will choose the following basic statistics: **points, total rebounds, assists, steals, blocks**, and **turnovers**, but you should feel free to choose other reasonable feature sets if you like. Be careful not to include too many dimensions (curse of dimensionality)."
      ]
    },
    {
      "cell_type": "markdown",
      "metadata": {
        "id": "pUlfXOd8DlRX"
      },
      "source": [
        "#### *TRB: total rebounds*\n",
        "#### *AST: assists*\n",
        "#### *STL: steals*\n",
        "#### *BLK: blocks*\n",
        "#### *TOV: turnovers*\n",
        "#### *PTS: points*"
      ]
    },
    {
      "cell_type": "code",
      "metadata": {
        "id": "o3PUI4l61D_0"
      },
      "source": [
        "# answer goes here\n",
        "X = df_[['PTS', 'TRB', 'AST', 'STL', 'BLK', 'TOV']]"
      ],
      "execution_count": 63,
      "outputs": []
    },
    {
      "cell_type": "markdown",
      "metadata": {
        "id": "MUjcLMMk1D_2"
      },
      "source": [
        "Standardize the features in your dataset using scikit-learn's StandardScaler, which will set the mean of each feature to 0 and the variance to 1."
      ]
    },
    {
      "cell_type": "code",
      "metadata": {
        "id": "6OTdN8oF1D_2"
      },
      "source": [
        "# answer goes here\n",
        "scaler = StandardScaler()\n",
        "X_scale = pd.DataFrame(scaler.fit_transform(X), columns=X.columns)"
      ],
      "execution_count": 64,
      "outputs": []
    },
    {
      "cell_type": "markdown",
      "metadata": {
        "id": "ao3Y5FVp1D_4"
      },
      "source": [
        "Run K-means clustering with K = 3 and print out the resulting centroids. When printing the centroids, transform the scaled centroids back into their corresponding unscaled values. What \"archetypes\" do you see?"
      ]
    },
    {
      "cell_type": "code",
      "metadata": {
        "id": "sUhMxZdL1D_4"
      },
      "source": [
        "# answer goes here\n",
        "k_means = KMeans(n_clusters=3)\n",
        "X_scale['cluster'] = k_means.fit_predict(X_scale)\n",
        "\n",
        "centers = pd.DataFrame(k_means.cluster_centers_, columns=X.columns)"
      ],
      "execution_count": 65,
      "outputs": []
    },
    {
      "cell_type": "code",
      "metadata": {
        "id": "mIguGmWIEk4z",
        "outputId": "c7b9ec9f-8e08-4ab0-a524-7c3a11b353f3",
        "colab": {
          "base_uri": "https://localhost:8080/",
          "height": 103
        }
      },
      "source": [
        "inverse = pd.DataFrame(scaler.inverse_transform(centers), columns=X.columns)\n",
        "inverse.style.background_gradient()"
      ],
      "execution_count": 66,
      "outputs": [
        {
          "output_type": "execute_result",
          "data": {
            "text/html": [
              "<style  type=\"text/css\" >\n",
              "#T_2ea03234_28f6_11eb_a8f3_0242ac1c0002row0_col0{\n",
              "            background-color:  #67a4cc;\n",
              "            color:  #000000;\n",
              "        }#T_2ea03234_28f6_11eb_a8f3_0242ac1c0002row0_col1,#T_2ea03234_28f6_11eb_a8f3_0242ac1c0002row0_col4,#T_2ea03234_28f6_11eb_a8f3_0242ac1c0002row2_col0,#T_2ea03234_28f6_11eb_a8f3_0242ac1c0002row2_col2,#T_2ea03234_28f6_11eb_a8f3_0242ac1c0002row2_col3,#T_2ea03234_28f6_11eb_a8f3_0242ac1c0002row2_col5{\n",
              "            background-color:  #023858;\n",
              "            color:  #f1f1f1;\n",
              "        }#T_2ea03234_28f6_11eb_a8f3_0242ac1c0002row0_col2{\n",
              "            background-color:  #f3edf5;\n",
              "            color:  #000000;\n",
              "        }#T_2ea03234_28f6_11eb_a8f3_0242ac1c0002row0_col3{\n",
              "            background-color:  #99b8d8;\n",
              "            color:  #000000;\n",
              "        }#T_2ea03234_28f6_11eb_a8f3_0242ac1c0002row0_col5{\n",
              "            background-color:  #a5bddb;\n",
              "            color:  #000000;\n",
              "        }#T_2ea03234_28f6_11eb_a8f3_0242ac1c0002row1_col0,#T_2ea03234_28f6_11eb_a8f3_0242ac1c0002row1_col1,#T_2ea03234_28f6_11eb_a8f3_0242ac1c0002row1_col2,#T_2ea03234_28f6_11eb_a8f3_0242ac1c0002row1_col3,#T_2ea03234_28f6_11eb_a8f3_0242ac1c0002row1_col4,#T_2ea03234_28f6_11eb_a8f3_0242ac1c0002row1_col5{\n",
              "            background-color:  #fff7fb;\n",
              "            color:  #000000;\n",
              "        }#T_2ea03234_28f6_11eb_a8f3_0242ac1c0002row2_col1{\n",
              "            background-color:  #94b6d7;\n",
              "            color:  #000000;\n",
              "        }#T_2ea03234_28f6_11eb_a8f3_0242ac1c0002row2_col4{\n",
              "            background-color:  #dedcec;\n",
              "            color:  #000000;\n",
              "        }</style><table id=\"T_2ea03234_28f6_11eb_a8f3_0242ac1c0002\" ><thead>    <tr>        <th class=\"blank level0\" ></th>        <th class=\"col_heading level0 col0\" >PTS</th>        <th class=\"col_heading level0 col1\" >TRB</th>        <th class=\"col_heading level0 col2\" >AST</th>        <th class=\"col_heading level0 col3\" >STL</th>        <th class=\"col_heading level0 col4\" >BLK</th>        <th class=\"col_heading level0 col5\" >TOV</th>    </tr></thead><tbody>\n",
              "                <tr>\n",
              "                        <th id=\"T_2ea03234_28f6_11eb_a8f3_0242ac1c0002level0_row0\" class=\"row_heading level0 row0\" >0</th>\n",
              "                        <td id=\"T_2ea03234_28f6_11eb_a8f3_0242ac1c0002row0_col0\" class=\"data row0 col0\" >12.503014</td>\n",
              "                        <td id=\"T_2ea03234_28f6_11eb_a8f3_0242ac1c0002row0_col1\" class=\"data row0 col1\" >7.171781</td>\n",
              "                        <td id=\"T_2ea03234_28f6_11eb_a8f3_0242ac1c0002row0_col2\" class=\"data row0 col2\" >1.785753</td>\n",
              "                        <td id=\"T_2ea03234_28f6_11eb_a8f3_0242ac1c0002row0_col3\" class=\"data row0 col3\" >0.827123</td>\n",
              "                        <td id=\"T_2ea03234_28f6_11eb_a8f3_0242ac1c0002row0_col4\" class=\"data row0 col4\" >0.975068</td>\n",
              "                        <td id=\"T_2ea03234_28f6_11eb_a8f3_0242ac1c0002row0_col5\" class=\"data row0 col5\" >1.486301</td>\n",
              "            </tr>\n",
              "            <tr>\n",
              "                        <th id=\"T_2ea03234_28f6_11eb_a8f3_0242ac1c0002level0_row1\" class=\"row_heading level0 row1\" >1</th>\n",
              "                        <td id=\"T_2ea03234_28f6_11eb_a8f3_0242ac1c0002row1_col0\" class=\"data row1 col0\" >6.744118</td>\n",
              "                        <td id=\"T_2ea03234_28f6_11eb_a8f3_0242ac1c0002row1_col1\" class=\"data row1 col1\" >2.841533</td>\n",
              "                        <td id=\"T_2ea03234_28f6_11eb_a8f3_0242ac1c0002row1_col2\" class=\"data row1 col2\" >1.484670</td>\n",
              "                        <td id=\"T_2ea03234_28f6_11eb_a8f3_0242ac1c0002row1_col3\" class=\"data row1 col3\" >0.549376</td>\n",
              "                        <td id=\"T_2ea03234_28f6_11eb_a8f3_0242ac1c0002row1_col4\" class=\"data row1 col4\" >0.284046</td>\n",
              "                        <td id=\"T_2ea03234_28f6_11eb_a8f3_0242ac1c0002row1_col5\" class=\"data row1 col5\" >0.871925</td>\n",
              "            </tr>\n",
              "            <tr>\n",
              "                        <th id=\"T_2ea03234_28f6_11eb_a8f3_0242ac1c0002level0_row2\" class=\"row_heading level0 row2\" >2</th>\n",
              "                        <td id=\"T_2ea03234_28f6_11eb_a8f3_0242ac1c0002row2_col0\" class=\"data row2 col0\" >17.696390</td>\n",
              "                        <td id=\"T_2ea03234_28f6_11eb_a8f3_0242ac1c0002row2_col1\" class=\"data row2 col1\" >4.659928</td>\n",
              "                        <td id=\"T_2ea03234_28f6_11eb_a8f3_0242ac1c0002row2_col2\" class=\"data row2 col2\" >5.181949</td>\n",
              "                        <td id=\"T_2ea03234_28f6_11eb_a8f3_0242ac1c0002row2_col3\" class=\"data row2 col3\" >1.227076</td>\n",
              "                        <td id=\"T_2ea03234_28f6_11eb_a8f3_0242ac1c0002row2_col4\" class=\"data row2 col4\" >0.413718</td>\n",
              "                        <td id=\"T_2ea03234_28f6_11eb_a8f3_0242ac1c0002row2_col5\" class=\"data row2 col5\" >2.505415</td>\n",
              "            </tr>\n",
              "    </tbody></table>"
            ],
            "text/plain": [
              "<pandas.io.formats.style.Styler at 0x7fe6a21d8d30>"
            ]
          },
          "metadata": {
            "tags": []
          },
          "execution_count": 66
        }
      ]
    },
    {
      "cell_type": "markdown",
      "metadata": {
        "id": "y0wBOUWJ1D_6"
      },
      "source": [
        "Experiment with different values of K. Do any further interesting archetypes come out?"
      ]
    },
    {
      "cell_type": "code",
      "metadata": {
        "id": "o9GTi0xsGTfs",
        "outputId": "60ce0afa-f99b-4b13-8e78-1efc71cad5ee",
        "colab": {
          "base_uri": "https://localhost:8080/",
          "height": 124
        }
      },
      "source": [
        "scaler = StandardScaler()\n",
        "X_scale = pd.DataFrame(scaler.fit_transform(X), columns=X.columns)\n",
        "k_means = KMeans(n_clusters=4)\n",
        "X_scale['cluster'] = k_means.fit_predict(X_scale)\n",
        "centers = pd.DataFrame(k_means.cluster_centers_, columns=X.columns)\n",
        "\n",
        "inverse = pd.DataFrame(scaler.inverse_transform(centers), columns=X.columns)\n",
        "inverse.style.background_gradient()"
      ],
      "execution_count": 75,
      "outputs": [
        {
          "output_type": "execute_result",
          "data": {
            "text/html": [
              "<style  type=\"text/css\" >\n",
              "#T_127f1434_28f7_11eb_a8f3_0242ac1c0002row0_col0,#T_127f1434_28f7_11eb_a8f3_0242ac1c0002row0_col1,#T_127f1434_28f7_11eb_a8f3_0242ac1c0002row0_col2,#T_127f1434_28f7_11eb_a8f3_0242ac1c0002row0_col3,#T_127f1434_28f7_11eb_a8f3_0242ac1c0002row0_col4,#T_127f1434_28f7_11eb_a8f3_0242ac1c0002row0_col5{\n",
              "            background-color:  #fff7fb;\n",
              "            color:  #000000;\n",
              "        }#T_127f1434_28f7_11eb_a8f3_0242ac1c0002row1_col0{\n",
              "            background-color:  #a1bbda;\n",
              "            color:  #000000;\n",
              "        }#T_127f1434_28f7_11eb_a8f3_0242ac1c0002row1_col1{\n",
              "            background-color:  #dfddec;\n",
              "            color:  #000000;\n",
              "        }#T_127f1434_28f7_11eb_a8f3_0242ac1c0002row1_col2{\n",
              "            background-color:  #bcc7e1;\n",
              "            color:  #000000;\n",
              "        }#T_127f1434_28f7_11eb_a8f3_0242ac1c0002row1_col3{\n",
              "            background-color:  #6da6cd;\n",
              "            color:  #000000;\n",
              "        }#T_127f1434_28f7_11eb_a8f3_0242ac1c0002row1_col4{\n",
              "            background-color:  #faf3f9;\n",
              "            color:  #000000;\n",
              "        }#T_127f1434_28f7_11eb_a8f3_0242ac1c0002row1_col5,#T_127f1434_28f7_11eb_a8f3_0242ac1c0002row2_col3{\n",
              "            background-color:  #b5c4df;\n",
              "            color:  #000000;\n",
              "        }#T_127f1434_28f7_11eb_a8f3_0242ac1c0002row2_col0{\n",
              "            background-color:  #6fa7ce;\n",
              "            color:  #000000;\n",
              "        }#T_127f1434_28f7_11eb_a8f3_0242ac1c0002row2_col1,#T_127f1434_28f7_11eb_a8f3_0242ac1c0002row2_col4,#T_127f1434_28f7_11eb_a8f3_0242ac1c0002row3_col0,#T_127f1434_28f7_11eb_a8f3_0242ac1c0002row3_col2,#T_127f1434_28f7_11eb_a8f3_0242ac1c0002row3_col3,#T_127f1434_28f7_11eb_a8f3_0242ac1c0002row3_col5{\n",
              "            background-color:  #023858;\n",
              "            color:  #f1f1f1;\n",
              "        }#T_127f1434_28f7_11eb_a8f3_0242ac1c0002row2_col2{\n",
              "            background-color:  #e9e5f1;\n",
              "            color:  #000000;\n",
              "        }#T_127f1434_28f7_11eb_a8f3_0242ac1c0002row2_col5{\n",
              "            background-color:  #9ebad9;\n",
              "            color:  #000000;\n",
              "        }#T_127f1434_28f7_11eb_a8f3_0242ac1c0002row3_col1{\n",
              "            background-color:  #78abd0;\n",
              "            color:  #000000;\n",
              "        }#T_127f1434_28f7_11eb_a8f3_0242ac1c0002row3_col4{\n",
              "            background-color:  #d9d8ea;\n",
              "            color:  #000000;\n",
              "        }</style><table id=\"T_127f1434_28f7_11eb_a8f3_0242ac1c0002\" ><thead>    <tr>        <th class=\"blank level0\" ></th>        <th class=\"col_heading level0 col0\" >PTS</th>        <th class=\"col_heading level0 col1\" >TRB</th>        <th class=\"col_heading level0 col2\" >AST</th>        <th class=\"col_heading level0 col3\" >STL</th>        <th class=\"col_heading level0 col4\" >BLK</th>        <th class=\"col_heading level0 col5\" >TOV</th>    </tr></thead><tbody>\n",
              "                <tr>\n",
              "                        <th id=\"T_127f1434_28f7_11eb_a8f3_0242ac1c0002level0_row0\" class=\"row_heading level0 row0\" >0</th>\n",
              "                        <td id=\"T_127f1434_28f7_11eb_a8f3_0242ac1c0002row0_col0\" class=\"data row0 col0\" >5.758363</td>\n",
              "                        <td id=\"T_127f1434_28f7_11eb_a8f3_0242ac1c0002row0_col1\" class=\"data row0 col1\" >2.782918</td>\n",
              "                        <td id=\"T_127f1434_28f7_11eb_a8f3_0242ac1c0002row0_col2\" class=\"data row0 col2\" >1.104508</td>\n",
              "                        <td id=\"T_127f1434_28f7_11eb_a8f3_0242ac1c0002row0_col3\" class=\"data row0 col3\" >0.444009</td>\n",
              "                        <td id=\"T_127f1434_28f7_11eb_a8f3_0242ac1c0002row0_col4\" class=\"data row0 col4\" >0.299526</td>\n",
              "                        <td id=\"T_127f1434_28f7_11eb_a8f3_0242ac1c0002row0_col5\" class=\"data row0 col5\" >0.732740</td>\n",
              "            </tr>\n",
              "            <tr>\n",
              "                        <th id=\"T_127f1434_28f7_11eb_a8f3_0242ac1c0002level0_row1\" class=\"row_heading level0 row1\" >1</th>\n",
              "                        <td id=\"T_127f1434_28f7_11eb_a8f3_0242ac1c0002row1_col0\" class=\"data row1 col0\" >11.257252</td>\n",
              "                        <td id=\"T_127f1434_28f7_11eb_a8f3_0242ac1c0002row1_col1\" class=\"data row1 col1\" >3.773855</td>\n",
              "                        <td id=\"T_127f1434_28f7_11eb_a8f3_0242ac1c0002row1_col2\" class=\"data row1 col2\" >2.658206</td>\n",
              "                        <td id=\"T_127f1434_28f7_11eb_a8f3_0242ac1c0002row1_col3\" class=\"data row1 col3\" >0.920420</td>\n",
              "                        <td id=\"T_127f1434_28f7_11eb_a8f3_0242ac1c0002row1_col4\" class=\"data row1 col4\" >0.328817</td>\n",
              "                        <td id=\"T_127f1434_28f7_11eb_a8f3_0242ac1c0002row1_col5\" class=\"data row1 col5\" >1.440267</td>\n",
              "            </tr>\n",
              "            <tr>\n",
              "                        <th id=\"T_127f1434_28f7_11eb_a8f3_0242ac1c0002level0_row2\" class=\"row_heading level0 row2\" >2</th>\n",
              "                        <td id=\"T_127f1434_28f7_11eb_a8f3_0242ac1c0002row2_col0\" class=\"data row2 col0\" >12.927273</td>\n",
              "                        <td id=\"T_127f1434_28f7_11eb_a8f3_0242ac1c0002row2_col1\" class=\"data row2 col1\" >8.125108</td>\n",
              "                        <td id=\"T_127f1434_28f7_11eb_a8f3_0242ac1c0002row2_col2\" class=\"data row2 col2\" >1.797835</td>\n",
              "                        <td id=\"T_127f1434_28f7_11eb_a8f3_0242ac1c0002row2_col3\" class=\"data row2 col3\" >0.750649</td>\n",
              "                        <td id=\"T_127f1434_28f7_11eb_a8f3_0242ac1c0002row2_col4\" class=\"data row2 col4\" >1.222511</td>\n",
              "                        <td id=\"T_127f1434_28f7_11eb_a8f3_0242ac1c0002row2_col5\" class=\"data row2 col5\" >1.583117</td>\n",
              "            </tr>\n",
              "            <tr>\n",
              "                        <th id=\"T_127f1434_28f7_11eb_a8f3_0242ac1c0002level0_row3\" class=\"row_heading level0 row3\" >3</th>\n",
              "                        <td id=\"T_127f1434_28f7_11eb_a8f3_0242ac1c0002row3_col0\" class=\"data row3 col0\" >19.837952</td>\n",
              "                        <td id=\"T_127f1434_28f7_11eb_a8f3_0242ac1c0002row3_col1\" class=\"data row3 col1\" >5.399398</td>\n",
              "                        <td id=\"T_127f1434_28f7_11eb_a8f3_0242ac1c0002row3_col2\" class=\"data row3 col2\" >6.106627</td>\n",
              "                        <td id=\"T_127f1434_28f7_11eb_a8f3_0242ac1c0002row3_col3\" class=\"data row3 col3\" >1.374699</td>\n",
              "                        <td id=\"T_127f1434_28f7_11eb_a8f3_0242ac1c0002row3_col4\" class=\"data row3 col4\" >0.493976</td>\n",
              "                        <td id=\"T_127f1434_28f7_11eb_a8f3_0242ac1c0002row3_col5\" class=\"data row3 col5\" >2.871687</td>\n",
              "            </tr>\n",
              "    </tbody></table>"
            ],
            "text/plain": [
              "<pandas.io.formats.style.Styler at 0x7fe6a3363390>"
            ]
          },
          "metadata": {
            "tags": []
          },
          "execution_count": 75
        }
      ]
    },
    {
      "cell_type": "code",
      "metadata": {
        "id": "4VnONIOcJby6",
        "outputId": "b3ae7d13-a3e9-49a5-a6a2-3987e1371578",
        "colab": {
          "base_uri": "https://localhost:8080/",
          "height": 145
        }
      },
      "source": [
        "scaler = StandardScaler()\n",
        "X_scale = pd.DataFrame(scaler.fit_transform(X), columns=X.columns)\n",
        "k_means = KMeans(n_clusters=5)\n",
        "X_scale['cluster'] = k_means.fit_predict(X_scale)\n",
        "centers = pd.DataFrame(k_means.cluster_centers_, columns=X.columns)\n",
        "\n",
        "inverse = pd.DataFrame(scaler.inverse_transform(centers), columns=X.columns)\n",
        "inverse.style.background_gradient()"
      ],
      "execution_count": 76,
      "outputs": [
        {
          "output_type": "execute_result",
          "data": {
            "text/html": [
              "<style  type=\"text/css\" >\n",
              "#T_12bd3584_28f7_11eb_a8f3_0242ac1c0002row0_col0{\n",
              "            background-color:  #03517e;\n",
              "            color:  #f1f1f1;\n",
              "        }#T_12bd3584_28f7_11eb_a8f3_0242ac1c0002row0_col1,#T_12bd3584_28f7_11eb_a8f3_0242ac1c0002row0_col4,#T_12bd3584_28f7_11eb_a8f3_0242ac1c0002row4_col0,#T_12bd3584_28f7_11eb_a8f3_0242ac1c0002row4_col2,#T_12bd3584_28f7_11eb_a8f3_0242ac1c0002row4_col3,#T_12bd3584_28f7_11eb_a8f3_0242ac1c0002row4_col5{\n",
              "            background-color:  #023858;\n",
              "            color:  #f1f1f1;\n",
              "        }#T_12bd3584_28f7_11eb_a8f3_0242ac1c0002row0_col2{\n",
              "            background-color:  #c2cbe2;\n",
              "            color:  #000000;\n",
              "        }#T_12bd3584_28f7_11eb_a8f3_0242ac1c0002row0_col3{\n",
              "            background-color:  #589ec8;\n",
              "            color:  #000000;\n",
              "        }#T_12bd3584_28f7_11eb_a8f3_0242ac1c0002row0_col5{\n",
              "            background-color:  #056fae;\n",
              "            color:  #f1f1f1;\n",
              "        }#T_12bd3584_28f7_11eb_a8f3_0242ac1c0002row1_col0{\n",
              "            background-color:  #9cb9d9;\n",
              "            color:  #000000;\n",
              "        }#T_12bd3584_28f7_11eb_a8f3_0242ac1c0002row1_col1,#T_12bd3584_28f7_11eb_a8f3_0242ac1c0002row3_col2{\n",
              "            background-color:  #f2ecf5;\n",
              "            color:  #000000;\n",
              "        }#T_12bd3584_28f7_11eb_a8f3_0242ac1c0002row1_col2{\n",
              "            background-color:  #acc0dd;\n",
              "            color:  #000000;\n",
              "        }#T_12bd3584_28f7_11eb_a8f3_0242ac1c0002row1_col3{\n",
              "            background-color:  #6fa7ce;\n",
              "            color:  #000000;\n",
              "        }#T_12bd3584_28f7_11eb_a8f3_0242ac1c0002row1_col4,#T_12bd3584_28f7_11eb_a8f3_0242ac1c0002row2_col0,#T_12bd3584_28f7_11eb_a8f3_0242ac1c0002row2_col1,#T_12bd3584_28f7_11eb_a8f3_0242ac1c0002row2_col2,#T_12bd3584_28f7_11eb_a8f3_0242ac1c0002row2_col3,#T_12bd3584_28f7_11eb_a8f3_0242ac1c0002row2_col4,#T_12bd3584_28f7_11eb_a8f3_0242ac1c0002row2_col5{\n",
              "            background-color:  #fff7fb;\n",
              "            color:  #000000;\n",
              "        }#T_12bd3584_28f7_11eb_a8f3_0242ac1c0002row1_col5,#T_12bd3584_28f7_11eb_a8f3_0242ac1c0002row3_col0{\n",
              "            background-color:  #abbfdc;\n",
              "            color:  #000000;\n",
              "        }#T_12bd3584_28f7_11eb_a8f3_0242ac1c0002row3_col1{\n",
              "            background-color:  #79abd0;\n",
              "            color:  #000000;\n",
              "        }#T_12bd3584_28f7_11eb_a8f3_0242ac1c0002row3_col3,#T_12bd3584_28f7_11eb_a8f3_0242ac1c0002row4_col1{\n",
              "            background-color:  #bbc7e0;\n",
              "            color:  #000000;\n",
              "        }#T_12bd3584_28f7_11eb_a8f3_0242ac1c0002row3_col4{\n",
              "            background-color:  #a2bcda;\n",
              "            color:  #000000;\n",
              "        }#T_12bd3584_28f7_11eb_a8f3_0242ac1c0002row3_col5{\n",
              "            background-color:  #cacee5;\n",
              "            color:  #000000;\n",
              "        }#T_12bd3584_28f7_11eb_a8f3_0242ac1c0002row4_col4{\n",
              "            background-color:  #ede8f3;\n",
              "            color:  #000000;\n",
              "        }</style><table id=\"T_12bd3584_28f7_11eb_a8f3_0242ac1c0002\" ><thead>    <tr>        <th class=\"blank level0\" ></th>        <th class=\"col_heading level0 col0\" >PTS</th>        <th class=\"col_heading level0 col1\" >TRB</th>        <th class=\"col_heading level0 col2\" >AST</th>        <th class=\"col_heading level0 col3\" >STL</th>        <th class=\"col_heading level0 col4\" >BLK</th>        <th class=\"col_heading level0 col5\" >TOV</th>    </tr></thead><tbody>\n",
              "                <tr>\n",
              "                        <th id=\"T_12bd3584_28f7_11eb_a8f3_0242ac1c0002level0_row0\" class=\"row_heading level0 row0\" >0</th>\n",
              "                        <td id=\"T_12bd3584_28f7_11eb_a8f3_0242ac1c0002row0_col0\" class=\"data row0 col0\" >18.183099</td>\n",
              "                        <td id=\"T_12bd3584_28f7_11eb_a8f3_0242ac1c0002row0_col1\" class=\"data row0 col1\" >10.501408</td>\n",
              "                        <td id=\"T_12bd3584_28f7_11eb_a8f3_0242ac1c0002row0_col2\" class=\"data row0 col2\" >2.546479</td>\n",
              "                        <td id=\"T_12bd3584_28f7_11eb_a8f3_0242ac1c0002row0_col3\" class=\"data row0 col3\" >0.956338</td>\n",
              "                        <td id=\"T_12bd3584_28f7_11eb_a8f3_0242ac1c0002row0_col4\" class=\"data row0 col4\" >1.776056</td>\n",
              "                        <td id=\"T_12bd3584_28f7_11eb_a8f3_0242ac1c0002row0_col5\" class=\"data row0 col5\" >2.291549</td>\n",
              "            </tr>\n",
              "            <tr>\n",
              "                        <th id=\"T_12bd3584_28f7_11eb_a8f3_0242ac1c0002level0_row1\" class=\"row_heading level0 row1\" >1</th>\n",
              "                        <td id=\"T_12bd3584_28f7_11eb_a8f3_0242ac1c0002row1_col0\" class=\"data row1 col0\" >11.200457</td>\n",
              "                        <td id=\"T_12bd3584_28f7_11eb_a8f3_0242ac1c0002row1_col1\" class=\"data row1 col1\" >3.360046</td>\n",
              "                        <td id=\"T_12bd3584_28f7_11eb_a8f3_0242ac1c0002row1_col2\" class=\"data row1 col2\" >2.868950</td>\n",
              "                        <td id=\"T_12bd3584_28f7_11eb_a8f3_0242ac1c0002row1_col3\" class=\"data row1 col3\" >0.914384</td>\n",
              "                        <td id=\"T_12bd3584_28f7_11eb_a8f3_0242ac1c0002row1_col4\" class=\"data row1 col4\" >0.271233</td>\n",
              "                        <td id=\"T_12bd3584_28f7_11eb_a8f3_0242ac1c0002row1_col5\" class=\"data row1 col5\" >1.468950</td>\n",
              "            </tr>\n",
              "            <tr>\n",
              "                        <th id=\"T_12bd3584_28f7_11eb_a8f3_0242ac1c0002level0_row2\" class=\"row_heading level0 row2\" >2</th>\n",
              "                        <td id=\"T_12bd3584_28f7_11eb_a8f3_0242ac1c0002row2_col0\" class=\"data row2 col0\" >5.662169</td>\n",
              "                        <td id=\"T_12bd3584_28f7_11eb_a8f3_0242ac1c0002row2_col1\" class=\"data row2 col1\" >2.658134</td>\n",
              "                        <td id=\"T_12bd3584_28f7_11eb_a8f3_0242ac1c0002row2_col2\" class=\"data row2 col2\" >1.094325</td>\n",
              "                        <td id=\"T_12bd3584_28f7_11eb_a8f3_0242ac1c0002row2_col3\" class=\"data row2 col3\" >0.438714</td>\n",
              "                        <td id=\"T_12bd3584_28f7_11eb_a8f3_0242ac1c0002row2_col4\" class=\"data row2 col4\" >0.273770</td>\n",
              "                        <td id=\"T_12bd3584_28f7_11eb_a8f3_0242ac1c0002row2_col5\" class=\"data row2 col5\" >0.719672</td>\n",
              "            </tr>\n",
              "            <tr>\n",
              "                        <th id=\"T_12bd3584_28f7_11eb_a8f3_0242ac1c0002level0_row3\" class=\"row_heading level0 row3\" >3</th>\n",
              "                        <td id=\"T_12bd3584_28f7_11eb_a8f3_0242ac1c0002row3_col0\" class=\"data row3 col0\" >10.628428</td>\n",
              "                        <td id=\"T_12bd3584_28f7_11eb_a8f3_0242ac1c0002row3_col1\" class=\"data row3 col1\" >6.478261</td>\n",
              "                        <td id=\"T_12bd3584_28f7_11eb_a8f3_0242ac1c0002row3_col2\" class=\"data row3 col2\" >1.534114</td>\n",
              "                        <td id=\"T_12bd3584_28f7_11eb_a8f3_0242ac1c0002row3_col3\" class=\"data row3 col3\" >0.730769</td>\n",
              "                        <td id=\"T_12bd3584_28f7_11eb_a8f3_0242ac1c0002row3_col4\" class=\"data row3 col4\" >0.850167</td>\n",
              "                        <td id=\"T_12bd3584_28f7_11eb_a8f3_0242ac1c0002row3_col5\" class=\"data row3 col5\" >1.273913</td>\n",
              "            </tr>\n",
              "            <tr>\n",
              "                        <th id=\"T_12bd3584_28f7_11eb_a8f3_0242ac1c0002level0_row4\" class=\"row_heading level0 row4\" >4</th>\n",
              "                        <td id=\"T_12bd3584_28f7_11eb_a8f3_0242ac1c0002row4_col0\" class=\"data row4 col0\" >19.433129</td>\n",
              "                        <td id=\"T_12bd3584_28f7_11eb_a8f3_0242ac1c0002row4_col1\" class=\"data row4 col1\" >5.119632</td>\n",
              "                        <td id=\"T_12bd3584_28f7_11eb_a8f3_0242ac1c0002row4_col2\" class=\"data row4 col2\" >6.068098</td>\n",
              "                        <td id=\"T_12bd3584_28f7_11eb_a8f3_0242ac1c0002row4_col3\" class=\"data row4 col3\" >1.370552</td>\n",
              "                        <td id=\"T_12bd3584_28f7_11eb_a8f3_0242ac1c0002row4_col4\" class=\"data row4 col4\" >0.447853</td>\n",
              "                        <td id=\"T_12bd3584_28f7_11eb_a8f3_0242ac1c0002row4_col5\" class=\"data row4 col5\" >2.804294</td>\n",
              "            </tr>\n",
              "    </tbody></table>"
            ],
            "text/plain": [
              "<pandas.io.formats.style.Styler at 0x7fe6a21c4ac8>"
            ]
          },
          "metadata": {
            "tags": []
          },
          "execution_count": 76
        }
      ]
    },
    {
      "cell_type": "code",
      "metadata": {
        "id": "7sI040w4Kv88",
        "outputId": "cffba2c5-27b0-4fd6-c159-90303d3c6d53",
        "colab": {
          "base_uri": "https://localhost:8080/",
          "height": 166
        }
      },
      "source": [
        "scaler = StandardScaler()\n",
        "X_scale = pd.DataFrame(scaler.fit_transform(X), columns=X.columns)\n",
        "k_means = KMeans(n_clusters=6)\n",
        "X_scale['cluster'] = k_means.fit_predict(X_scale)\n",
        "centers = pd.DataFrame(k_means.cluster_centers_, columns=X.columns)\n",
        "\n",
        "inverse = pd.DataFrame(scaler.inverse_transform(centers), columns=X.columns)\n",
        "inverse.style.background_gradient()"
      ],
      "execution_count": 77,
      "outputs": [
        {
          "output_type": "execute_result",
          "data": {
            "text/html": [
              "<style  type=\"text/css\" >\n",
              "#T_1495d33e_28f7_11eb_a8f3_0242ac1c0002row0_col0,#T_1495d33e_28f7_11eb_a8f3_0242ac1c0002row2_col3{\n",
              "            background-color:  #d4d4e8;\n",
              "            color:  #000000;\n",
              "        }#T_1495d33e_28f7_11eb_a8f3_0242ac1c0002row0_col1,#T_1495d33e_28f7_11eb_a8f3_0242ac1c0002row0_col4,#T_1495d33e_28f7_11eb_a8f3_0242ac1c0002row3_col0,#T_1495d33e_28f7_11eb_a8f3_0242ac1c0002row3_col1,#T_1495d33e_28f7_11eb_a8f3_0242ac1c0002row3_col2,#T_1495d33e_28f7_11eb_a8f3_0242ac1c0002row3_col3,#T_1495d33e_28f7_11eb_a8f3_0242ac1c0002row3_col5{\n",
              "            background-color:  #fff7fb;\n",
              "            color:  #000000;\n",
              "        }#T_1495d33e_28f7_11eb_a8f3_0242ac1c0002row0_col2,#T_1495d33e_28f7_11eb_a8f3_0242ac1c0002row4_col1{\n",
              "            background-color:  #b9c6e0;\n",
              "            color:  #000000;\n",
              "        }#T_1495d33e_28f7_11eb_a8f3_0242ac1c0002row0_col3{\n",
              "            background-color:  #abbfdc;\n",
              "            color:  #000000;\n",
              "        }#T_1495d33e_28f7_11eb_a8f3_0242ac1c0002row0_col5{\n",
              "            background-color:  #c5cce3;\n",
              "            color:  #000000;\n",
              "        }#T_1495d33e_28f7_11eb_a8f3_0242ac1c0002row1_col0{\n",
              "            background-color:  #045483;\n",
              "            color:  #f1f1f1;\n",
              "        }#T_1495d33e_28f7_11eb_a8f3_0242ac1c0002row1_col1,#T_1495d33e_28f7_11eb_a8f3_0242ac1c0002row1_col4,#T_1495d33e_28f7_11eb_a8f3_0242ac1c0002row4_col0,#T_1495d33e_28f7_11eb_a8f3_0242ac1c0002row4_col2,#T_1495d33e_28f7_11eb_a8f3_0242ac1c0002row4_col3,#T_1495d33e_28f7_11eb_a8f3_0242ac1c0002row4_col5{\n",
              "            background-color:  #023858;\n",
              "            color:  #f1f1f1;\n",
              "        }#T_1495d33e_28f7_11eb_a8f3_0242ac1c0002row1_col2{\n",
              "            background-color:  #c0c9e2;\n",
              "            color:  #000000;\n",
              "        }#T_1495d33e_28f7_11eb_a8f3_0242ac1c0002row1_col3{\n",
              "            background-color:  #509ac6;\n",
              "            color:  #000000;\n",
              "        }#T_1495d33e_28f7_11eb_a8f3_0242ac1c0002row1_col5{\n",
              "            background-color:  #1278b4;\n",
              "            color:  #f1f1f1;\n",
              "        }#T_1495d33e_28f7_11eb_a8f3_0242ac1c0002row2_col0{\n",
              "            background-color:  #c4cbe3;\n",
              "            color:  #000000;\n",
              "        }#T_1495d33e_28f7_11eb_a8f3_0242ac1c0002row2_col1{\n",
              "            background-color:  #81aed2;\n",
              "            color:  #000000;\n",
              "        }#T_1495d33e_28f7_11eb_a8f3_0242ac1c0002row2_col2{\n",
              "            background-color:  #f5eef6;\n",
              "            color:  #000000;\n",
              "        }#T_1495d33e_28f7_11eb_a8f3_0242ac1c0002row2_col4{\n",
              "            background-color:  #83afd3;\n",
              "            color:  #000000;\n",
              "        }#T_1495d33e_28f7_11eb_a8f3_0242ac1c0002row2_col5{\n",
              "            background-color:  #d5d5e8;\n",
              "            color:  #000000;\n",
              "        }#T_1495d33e_28f7_11eb_a8f3_0242ac1c0002row3_col4{\n",
              "            background-color:  #f9f2f8;\n",
              "            color:  #000000;\n",
              "        }#T_1495d33e_28f7_11eb_a8f3_0242ac1c0002row4_col4{\n",
              "            background-color:  #e7e3f0;\n",
              "            color:  #000000;\n",
              "        }#T_1495d33e_28f7_11eb_a8f3_0242ac1c0002row5_col0{\n",
              "            background-color:  #2f8bbe;\n",
              "            color:  #000000;\n",
              "        }#T_1495d33e_28f7_11eb_a8f3_0242ac1c0002row5_col1{\n",
              "            background-color:  #c8cde4;\n",
              "            color:  #000000;\n",
              "        }#T_1495d33e_28f7_11eb_a8f3_0242ac1c0002row5_col2{\n",
              "            background-color:  #b7c5df;\n",
              "            color:  #000000;\n",
              "        }#T_1495d33e_28f7_11eb_a8f3_0242ac1c0002row5_col3{\n",
              "            background-color:  #2182b9;\n",
              "            color:  #000000;\n",
              "        }#T_1495d33e_28f7_11eb_a8f3_0242ac1c0002row5_col4{\n",
              "            background-color:  #ebe6f2;\n",
              "            color:  #000000;\n",
              "        }#T_1495d33e_28f7_11eb_a8f3_0242ac1c0002row5_col5{\n",
              "            background-color:  #86b0d3;\n",
              "            color:  #000000;\n",
              "        }</style><table id=\"T_1495d33e_28f7_11eb_a8f3_0242ac1c0002\" ><thead>    <tr>        <th class=\"blank level0\" ></th>        <th class=\"col_heading level0 col0\" >PTS</th>        <th class=\"col_heading level0 col1\" >TRB</th>        <th class=\"col_heading level0 col2\" >AST</th>        <th class=\"col_heading level0 col3\" >STL</th>        <th class=\"col_heading level0 col4\" >BLK</th>        <th class=\"col_heading level0 col5\" >TOV</th>    </tr></thead><tbody>\n",
              "                <tr>\n",
              "                        <th id=\"T_1495d33e_28f7_11eb_a8f3_0242ac1c0002level0_row0\" class=\"row_heading level0 row0\" >0</th>\n",
              "                        <td id=\"T_1495d33e_28f7_11eb_a8f3_0242ac1c0002row0_col0\" class=\"data row0 col0\" >8.719547</td>\n",
              "                        <td id=\"T_1495d33e_28f7_11eb_a8f3_0242ac1c0002row0_col1\" class=\"data row0 col1\" >2.686686</td>\n",
              "                        <td id=\"T_1495d33e_28f7_11eb_a8f3_0242ac1c0002row0_col2\" class=\"data row0 col2\" >2.703683</td>\n",
              "                        <td id=\"T_1495d33e_28f7_11eb_a8f3_0242ac1c0002row0_col3\" class=\"data row0 col3\" >0.766289</td>\n",
              "                        <td id=\"T_1495d33e_28f7_11eb_a8f3_0242ac1c0002row0_col4\" class=\"data row0 col4\" >0.215581</td>\n",
              "                        <td id=\"T_1495d33e_28f7_11eb_a8f3_0242ac1c0002row0_col5\" class=\"data row0 col5\" >1.294618</td>\n",
              "            </tr>\n",
              "            <tr>\n",
              "                        <th id=\"T_1495d33e_28f7_11eb_a8f3_0242ac1c0002level0_row1\" class=\"row_heading level0 row1\" >1</th>\n",
              "                        <td id=\"T_1495d33e_28f7_11eb_a8f3_0242ac1c0002row1_col0\" class=\"data row1 col0\" >18.072368</td>\n",
              "                        <td id=\"T_1495d33e_28f7_11eb_a8f3_0242ac1c0002row1_col1\" class=\"data row1 col1\" >10.418421</td>\n",
              "                        <td id=\"T_1495d33e_28f7_11eb_a8f3_0242ac1c0002row1_col2\" class=\"data row1 col2\" >2.601316</td>\n",
              "                        <td id=\"T_1495d33e_28f7_11eb_a8f3_0242ac1c0002row1_col3\" class=\"data row1 col3\" >0.968421</td>\n",
              "                        <td id=\"T_1495d33e_28f7_11eb_a8f3_0242ac1c0002row1_col4\" class=\"data row1 col4\" >1.713158</td>\n",
              "                        <td id=\"T_1495d33e_28f7_11eb_a8f3_0242ac1c0002row1_col5\" class=\"data row1 col5\" >2.260526</td>\n",
              "            </tr>\n",
              "            <tr>\n",
              "                        <th id=\"T_1495d33e_28f7_11eb_a8f3_0242ac1c0002level0_row2\" class=\"row_heading level0 row2\" >2</th>\n",
              "                        <td id=\"T_1495d33e_28f7_11eb_a8f3_0242ac1c0002row2_col0\" class=\"data row2 col0\" >9.529482</td>\n",
              "                        <td id=\"T_1495d33e_28f7_11eb_a8f3_0242ac1c0002row2_col1\" class=\"data row2 col1\" >6.276494</td>\n",
              "                        <td id=\"T_1495d33e_28f7_11eb_a8f3_0242ac1c0002row2_col2\" class=\"data row2 col2\" >1.335857</td>\n",
              "                        <td id=\"T_1495d33e_28f7_11eb_a8f3_0242ac1c0002row2_col3\" class=\"data row2 col3\" >0.641434</td>\n",
              "                        <td id=\"T_1495d33e_28f7_11eb_a8f3_0242ac1c0002row2_col4\" class=\"data row2 col4\" >0.905976</td>\n",
              "                        <td id=\"T_1495d33e_28f7_11eb_a8f3_0242ac1c0002row2_col5\" class=\"data row2 col5\" >1.171713</td>\n",
              "            </tr>\n",
              "            <tr>\n",
              "                        <th id=\"T_1495d33e_28f7_11eb_a8f3_0242ac1c0002level0_row3\" class=\"row_heading level0 row3\" >3</th>\n",
              "                        <td id=\"T_1495d33e_28f7_11eb_a8f3_0242ac1c0002row3_col0\" class=\"data row3 col0\" >5.479798</td>\n",
              "                        <td id=\"T_1495d33e_28f7_11eb_a8f3_0242ac1c0002row3_col1\" class=\"data row3 col1\" >2.676912</td>\n",
              "                        <td id=\"T_1495d33e_28f7_11eb_a8f3_0242ac1c0002row3_col2\" class=\"data row3 col2\" >0.970130</td>\n",
              "                        <td id=\"T_1495d33e_28f7_11eb_a8f3_0242ac1c0002row3_col3\" class=\"data row3 col3\" >0.417749</td>\n",
              "                        <td id=\"T_1495d33e_28f7_11eb_a8f3_0242ac1c0002row3_col4\" class=\"data row3 col4\" >0.275902</td>\n",
              "                        <td id=\"T_1495d33e_28f7_11eb_a8f3_0242ac1c0002row3_col5\" class=\"data row3 col5\" >0.666522</td>\n",
              "            </tr>\n",
              "            <tr>\n",
              "                        <th id=\"T_1495d33e_28f7_11eb_a8f3_0242ac1c0002level0_row4\" class=\"row_heading level0 row4\" >4</th>\n",
              "                        <td id=\"T_1495d33e_28f7_11eb_a8f3_0242ac1c0002row4_col0\" class=\"data row4 col0\" >19.520979</td>\n",
              "                        <td id=\"T_1495d33e_28f7_11eb_a8f3_0242ac1c0002row4_col1\" class=\"data row4 col1\" >5.132168</td>\n",
              "                        <td id=\"T_1495d33e_28f7_11eb_a8f3_0242ac1c0002row4_col2\" class=\"data row4 col2\" >6.397203</td>\n",
              "                        <td id=\"T_1495d33e_28f7_11eb_a8f3_0242ac1c0002row4_col3\" class=\"data row4 col3\" >1.382517</td>\n",
              "                        <td id=\"T_1495d33e_28f7_11eb_a8f3_0242ac1c0002row4_col4\" class=\"data row4 col4\" >0.434266</td>\n",
              "                        <td id=\"T_1495d33e_28f7_11eb_a8f3_0242ac1c0002row4_col5\" class=\"data row4 col5\" >2.891608</td>\n",
              "            </tr>\n",
              "            <tr>\n",
              "                        <th id=\"T_1495d33e_28f7_11eb_a8f3_0242ac1c0002level0_row5\" class=\"row_heading level0 row5\" >5</th>\n",
              "                        <td id=\"T_1495d33e_28f7_11eb_a8f3_0242ac1c0002row5_col0\" class=\"data row5 col0\" >14.516129</td>\n",
              "                        <td id=\"T_1495d33e_28f7_11eb_a8f3_0242ac1c0002row5_col1\" class=\"data row5 col1\" >4.806855</td>\n",
              "                        <td id=\"T_1495d33e_28f7_11eb_a8f3_0242ac1c0002row5_col2\" class=\"data row5 col2\" >2.735887</td>\n",
              "                        <td id=\"T_1495d33e_28f7_11eb_a8f3_0242ac1c0002row5_col3\" class=\"data row5 col3\" >1.072177</td>\n",
              "                        <td id=\"T_1495d33e_28f7_11eb_a8f3_0242ac1c0002row5_col4\" class=\"data row5 col4\" >0.412097</td>\n",
              "                        <td id=\"T_1495d33e_28f7_11eb_a8f3_0242ac1c0002row5_col5\" class=\"data row5 col5\" >1.679435</td>\n",
              "            </tr>\n",
              "    </tbody></table>"
            ],
            "text/plain": [
              "<pandas.io.formats.style.Styler at 0x7fe6a311f780>"
            ]
          },
          "metadata": {
            "tags": []
          },
          "execution_count": 77
        }
      ]
    },
    {
      "cell_type": "code",
      "metadata": {
        "id": "3XAOJiGZKwvB",
        "outputId": "576975cc-26c9-4440-b0d7-b7bef2463b0c",
        "colab": {
          "base_uri": "https://localhost:8080/",
          "height": 187
        }
      },
      "source": [
        "scaler = StandardScaler()\n",
        "X_scale = pd.DataFrame(scaler.fit_transform(X), columns=X.columns)\n",
        "k_means = KMeans(n_clusters=7)\n",
        "X_scale['cluster'] = k_means.fit_predict(X_scale)\n",
        "centers = pd.DataFrame(k_means.cluster_centers_, columns=X.columns)\n",
        "\n",
        "inverse = pd.DataFrame(scaler.inverse_transform(centers), columns=X.columns)\n",
        "inverse.style.background_gradient()"
      ],
      "execution_count": 78,
      "outputs": [
        {
          "output_type": "execute_result",
          "data": {
            "text/html": [
              "<style  type=\"text/css\" >\n",
              "#T_18c2546e_28f7_11eb_a8f3_0242ac1c0002row0_col0{\n",
              "            background-color:  #d0d1e6;\n",
              "            color:  #000000;\n",
              "        }#T_18c2546e_28f7_11eb_a8f3_0242ac1c0002row0_col1{\n",
              "            background-color:  #f5eff6;\n",
              "            color:  #000000;\n",
              "        }#T_18c2546e_28f7_11eb_a8f3_0242ac1c0002row0_col2,#T_18c2546e_28f7_11eb_a8f3_0242ac1c0002row6_col1{\n",
              "            background-color:  #c6cce3;\n",
              "            color:  #000000;\n",
              "        }#T_18c2546e_28f7_11eb_a8f3_0242ac1c0002row0_col3{\n",
              "            background-color:  #b3c3de;\n",
              "            color:  #000000;\n",
              "        }#T_18c2546e_28f7_11eb_a8f3_0242ac1c0002row0_col4{\n",
              "            background-color:  #fdf5fa;\n",
              "            color:  #000000;\n",
              "        }#T_18c2546e_28f7_11eb_a8f3_0242ac1c0002row0_col5{\n",
              "            background-color:  #d5d5e8;\n",
              "            color:  #000000;\n",
              "        }#T_18c2546e_28f7_11eb_a8f3_0242ac1c0002row1_col0{\n",
              "            background-color:  #f0eaf4;\n",
              "            color:  #000000;\n",
              "        }#T_18c2546e_28f7_11eb_a8f3_0242ac1c0002row1_col1{\n",
              "            background-color:  #b1c2de;\n",
              "            color:  #000000;\n",
              "        }#T_18c2546e_28f7_11eb_a8f3_0242ac1c0002row1_col2,#T_18c2546e_28f7_11eb_a8f3_0242ac1c0002row3_col0,#T_18c2546e_28f7_11eb_a8f3_0242ac1c0002row3_col1,#T_18c2546e_28f7_11eb_a8f3_0242ac1c0002row3_col2,#T_18c2546e_28f7_11eb_a8f3_0242ac1c0002row3_col3,#T_18c2546e_28f7_11eb_a8f3_0242ac1c0002row3_col4,#T_18c2546e_28f7_11eb_a8f3_0242ac1c0002row3_col5{\n",
              "            background-color:  #fff7fb;\n",
              "            color:  #000000;\n",
              "        }#T_18c2546e_28f7_11eb_a8f3_0242ac1c0002row1_col3{\n",
              "            background-color:  #f2ecf5;\n",
              "            color:  #000000;\n",
              "        }#T_18c2546e_28f7_11eb_a8f3_0242ac1c0002row1_col4{\n",
              "            background-color:  #b0c2de;\n",
              "            color:  #000000;\n",
              "        }#T_18c2546e_28f7_11eb_a8f3_0242ac1c0002row1_col5{\n",
              "            background-color:  #f4eef6;\n",
              "            color:  #000000;\n",
              "        }#T_18c2546e_28f7_11eb_a8f3_0242ac1c0002row2_col0{\n",
              "            background-color:  #4496c3;\n",
              "            color:  #000000;\n",
              "        }#T_18c2546e_28f7_11eb_a8f3_0242ac1c0002row2_col1,#T_18c2546e_28f7_11eb_a8f3_0242ac1c0002row2_col4,#T_18c2546e_28f7_11eb_a8f3_0242ac1c0002row4_col0,#T_18c2546e_28f7_11eb_a8f3_0242ac1c0002row4_col2,#T_18c2546e_28f7_11eb_a8f3_0242ac1c0002row4_col3,#T_18c2546e_28f7_11eb_a8f3_0242ac1c0002row4_col5{\n",
              "            background-color:  #023858;\n",
              "            color:  #f1f1f1;\n",
              "        }#T_18c2546e_28f7_11eb_a8f3_0242ac1c0002row2_col2,#T_18c2546e_28f7_11eb_a8f3_0242ac1c0002row5_col2{\n",
              "            background-color:  #e7e3f0;\n",
              "            color:  #000000;\n",
              "        }#T_18c2546e_28f7_11eb_a8f3_0242ac1c0002row2_col3{\n",
              "            background-color:  #b8c6e0;\n",
              "            color:  #000000;\n",
              "        }#T_18c2546e_28f7_11eb_a8f3_0242ac1c0002row2_col5{\n",
              "            background-color:  #9ebad9;\n",
              "            color:  #000000;\n",
              "        }#T_18c2546e_28f7_11eb_a8f3_0242ac1c0002row4_col1{\n",
              "            background-color:  #04629a;\n",
              "            color:  #f1f1f1;\n",
              "        }#T_18c2546e_28f7_11eb_a8f3_0242ac1c0002row4_col4{\n",
              "            background-color:  #8eb3d5;\n",
              "            color:  #000000;\n",
              "        }#T_18c2546e_28f7_11eb_a8f3_0242ac1c0002row5_col0{\n",
              "            background-color:  #91b5d6;\n",
              "            color:  #000000;\n",
              "        }#T_18c2546e_28f7_11eb_a8f3_0242ac1c0002row5_col1{\n",
              "            background-color:  #529bc7;\n",
              "            color:  #000000;\n",
              "        }#T_18c2546e_28f7_11eb_a8f3_0242ac1c0002row5_col3{\n",
              "            background-color:  #80aed2;\n",
              "            color:  #000000;\n",
              "        }#T_18c2546e_28f7_11eb_a8f3_0242ac1c0002row5_col4{\n",
              "            background-color:  #cdd0e5;\n",
              "            color:  #000000;\n",
              "        }#T_18c2546e_28f7_11eb_a8f3_0242ac1c0002row5_col5{\n",
              "            background-color:  #cccfe5;\n",
              "            color:  #000000;\n",
              "        }#T_18c2546e_28f7_11eb_a8f3_0242ac1c0002row6_col0{\n",
              "            background-color:  #1b7eb7;\n",
              "            color:  #000000;\n",
              "        }#T_18c2546e_28f7_11eb_a8f3_0242ac1c0002row6_col2{\n",
              "            background-color:  #2484ba;\n",
              "            color:  #000000;\n",
              "        }#T_18c2546e_28f7_11eb_a8f3_0242ac1c0002row6_col3{\n",
              "            background-color:  #1077b4;\n",
              "            color:  #f1f1f1;\n",
              "        }#T_18c2546e_28f7_11eb_a8f3_0242ac1c0002row6_col4{\n",
              "            background-color:  #efe9f3;\n",
              "            color:  #000000;\n",
              "        }#T_18c2546e_28f7_11eb_a8f3_0242ac1c0002row6_col5{\n",
              "            background-color:  #4897c4;\n",
              "            color:  #000000;\n",
              "        }</style><table id=\"T_18c2546e_28f7_11eb_a8f3_0242ac1c0002\" ><thead>    <tr>        <th class=\"blank level0\" ></th>        <th class=\"col_heading level0 col0\" >PTS</th>        <th class=\"col_heading level0 col1\" >TRB</th>        <th class=\"col_heading level0 col2\" >AST</th>        <th class=\"col_heading level0 col3\" >STL</th>        <th class=\"col_heading level0 col4\" >BLK</th>        <th class=\"col_heading level0 col5\" >TOV</th>    </tr></thead><tbody>\n",
              "                <tr>\n",
              "                        <th id=\"T_18c2546e_28f7_11eb_a8f3_0242ac1c0002level0_row0\" class=\"row_heading level0 row0\" >0</th>\n",
              "                        <td id=\"T_18c2546e_28f7_11eb_a8f3_0242ac1c0002row0_col0\" class=\"data row0 col0\" >10.022011</td>\n",
              "                        <td id=\"T_18c2546e_28f7_11eb_a8f3_0242ac1c0002row0_col1\" class=\"data row0 col1\" >2.816304</td>\n",
              "                        <td id=\"T_18c2546e_28f7_11eb_a8f3_0242ac1c0002row0_col2\" class=\"data row0 col2\" >2.872283</td>\n",
              "                        <td id=\"T_18c2546e_28f7_11eb_a8f3_0242ac1c0002row0_col3\" class=\"data row0 col3\" >0.826630</td>\n",
              "                        <td id=\"T_18c2546e_28f7_11eb_a8f3_0242ac1c0002row0_col4\" class=\"data row0 col4\" >0.220652</td>\n",
              "                        <td id=\"T_18c2546e_28f7_11eb_a8f3_0242ac1c0002row0_col5\" class=\"data row0 col5\" >1.394565</td>\n",
              "            </tr>\n",
              "            <tr>\n",
              "                        <th id=\"T_18c2546e_28f7_11eb_a8f3_0242ac1c0002level0_row1\" class=\"row_heading level0 row1\" >1</th>\n",
              "                        <td id=\"T_18c2546e_28f7_11eb_a8f3_0242ac1c0002row1_col0\" class=\"data row1 col0\" >7.209060</td>\n",
              "                        <td id=\"T_18c2546e_28f7_11eb_a8f3_0242ac1c0002row1_col1\" class=\"data row1 col1\" >4.840268</td>\n",
              "                        <td id=\"T_18c2546e_28f7_11eb_a8f3_0242ac1c0002row1_col2\" class=\"data row1 col2\" >1.062081</td>\n",
              "                        <td id=\"T_18c2546e_28f7_11eb_a8f3_0242ac1c0002row1_col3\" class=\"data row1 col3\" >0.523826</td>\n",
              "                        <td id=\"T_18c2546e_28f7_11eb_a8f3_0242ac1c0002row1_col4\" class=\"data row1 col4\" >0.738255</td>\n",
              "                        <td id=\"T_18c2546e_28f7_11eb_a8f3_0242ac1c0002row1_col5\" class=\"data row1 col5\" >0.902349</td>\n",
              "            </tr>\n",
              "            <tr>\n",
              "                        <th id=\"T_18c2546e_28f7_11eb_a8f3_0242ac1c0002level0_row2\" class=\"row_heading level0 row2\" >2</th>\n",
              "                        <td id=\"T_18c2546e_28f7_11eb_a8f3_0242ac1c0002row2_col0\" class=\"data row2 col0\" >16.291566</td>\n",
              "                        <td id=\"T_18c2546e_28f7_11eb_a8f3_0242ac1c0002row2_col1\" class=\"data row2 col1\" >9.636145</td>\n",
              "                        <td id=\"T_18c2546e_28f7_11eb_a8f3_0242ac1c0002row2_col2\" class=\"data row2 col2\" >2.036145</td>\n",
              "                        <td id=\"T_18c2546e_28f7_11eb_a8f3_0242ac1c0002row2_col3\" class=\"data row2 col3\" >0.806024</td>\n",
              "                        <td id=\"T_18c2546e_28f7_11eb_a8f3_0242ac1c0002row2_col4\" class=\"data row2 col4\" >1.756627</td>\n",
              "                        <td id=\"T_18c2546e_28f7_11eb_a8f3_0242ac1c0002row2_col5\" class=\"data row2 col5\" >1.916867</td>\n",
              "            </tr>\n",
              "            <tr>\n",
              "                        <th id=\"T_18c2546e_28f7_11eb_a8f3_0242ac1c0002level0_row3\" class=\"row_heading level0 row3\" >3</th>\n",
              "                        <td id=\"T_18c2546e_28f7_11eb_a8f3_0242ac1c0002row3_col0\" class=\"data row3 col0\" >5.400831</td>\n",
              "                        <td id=\"T_18c2546e_28f7_11eb_a8f3_0242ac1c0002row3_col1\" class=\"data row3 col1\" >2.332724</td>\n",
              "                        <td id=\"T_18c2546e_28f7_11eb_a8f3_0242ac1c0002row3_col2\" class=\"data row3 col2\" >1.054153</td>\n",
              "                        <td id=\"T_18c2546e_28f7_11eb_a8f3_0242ac1c0002row3_col3\" class=\"data row3 col3\" >0.426744</td>\n",
              "                        <td id=\"T_18c2546e_28f7_11eb_a8f3_0242ac1c0002row3_col4\" class=\"data row3 col4\" >0.200166</td>\n",
              "                        <td id=\"T_18c2546e_28f7_11eb_a8f3_0242ac1c0002row3_col5\" class=\"data row3 col5\" >0.680233</td>\n",
              "            </tr>\n",
              "            <tr>\n",
              "                        <th id=\"T_18c2546e_28f7_11eb_a8f3_0242ac1c0002level0_row4\" class=\"row_heading level0 row4\" >4</th>\n",
              "                        <td id=\"T_18c2546e_28f7_11eb_a8f3_0242ac1c0002row4_col0\" class=\"data row4 col0\" >23.677778</td>\n",
              "                        <td id=\"T_18c2546e_28f7_11eb_a8f3_0242ac1c0002row4_col1\" class=\"data row4 col1\" >8.369444</td>\n",
              "                        <td id=\"T_18c2546e_28f7_11eb_a8f3_0242ac1c0002row4_col2\" class=\"data row4 col2\" >7.588889</td>\n",
              "                        <td id=\"T_18c2546e_28f7_11eb_a8f3_0242ac1c0002row4_col3\" class=\"data row4 col3\" >1.605556</td>\n",
              "                        <td id=\"T_18c2546e_28f7_11eb_a8f3_0242ac1c0002row4_col4\" class=\"data row4 col4\" >0.877778</td>\n",
              "                        <td id=\"T_18c2546e_28f7_11eb_a8f3_0242ac1c0002row4_col5\" class=\"data row4 col5\" >3.808333</td>\n",
              "            </tr>\n",
              "            <tr>\n",
              "                        <th id=\"T_18c2546e_28f7_11eb_a8f3_0242ac1c0002level0_row5\" class=\"row_heading level0 row5\" >5</th>\n",
              "                        <td id=\"T_18c2546e_28f7_11eb_a8f3_0242ac1c0002row5_col0\" class=\"data row5 col0\" >13.206818</td>\n",
              "                        <td id=\"T_18c2546e_28f7_11eb_a8f3_0242ac1c0002row5_col1\" class=\"data row5 col1\" >6.471818</td>\n",
              "                        <td id=\"T_18c2546e_28f7_11eb_a8f3_0242ac1c0002row5_col2\" class=\"data row5 col2\" >2.042727</td>\n",
              "                        <td id=\"T_18c2546e_28f7_11eb_a8f3_0242ac1c0002row5_col3\" class=\"data row5 col3\" >0.981818</td>\n",
              "                        <td id=\"T_18c2546e_28f7_11eb_a8f3_0242ac1c0002row5_col4\" class=\"data row5 col4\" >0.604091</td>\n",
              "                        <td id=\"T_18c2546e_28f7_11eb_a8f3_0242ac1c0002row5_col5\" class=\"data row5 col5\" >1.506818</td>\n",
              "            </tr>\n",
              "            <tr>\n",
              "                        <th id=\"T_18c2546e_28f7_11eb_a8f3_0242ac1c0002level0_row6\" class=\"row_heading level0 row6\" >6</th>\n",
              "                        <td id=\"T_18c2546e_28f7_11eb_a8f3_0242ac1c0002row6_col0\" class=\"data row6 col0\" >18.054777</td>\n",
              "                        <td id=\"T_18c2546e_28f7_11eb_a8f3_0242ac1c0002row6_col1\" class=\"data row6 col1\" >4.386624</td>\n",
              "                        <td id=\"T_18c2546e_28f7_11eb_a8f3_0242ac1c0002row6_col2\" class=\"data row6 col2\" >5.435032</td>\n",
              "                        <td id=\"T_18c2546e_28f7_11eb_a8f3_0242ac1c0002row6_col3\" class=\"data row6 col3\" >1.275796</td>\n",
              "                        <td id=\"T_18c2546e_28f7_11eb_a8f3_0242ac1c0002row6_col4\" class=\"data row6 col4\" >0.364331</td>\n",
              "                        <td id=\"T_18c2546e_28f7_11eb_a8f3_0242ac1c0002row6_col5\" class=\"data row6 col5\" >2.519108</td>\n",
              "            </tr>\n",
              "    </tbody></table>"
            ],
            "text/plain": [
              "<pandas.io.formats.style.Styler at 0x7fe6a2a2ff60>"
            ]
          },
          "metadata": {
            "tags": []
          },
          "execution_count": 78
        }
      ]
    },
    {
      "cell_type": "code",
      "metadata": {
        "id": "C7ZNoEm8KydJ",
        "outputId": "e7cc7f26-0126-4a40-f34e-6c64cf73e431",
        "colab": {
          "base_uri": "https://localhost:8080/",
          "height": 208
        }
      },
      "source": [
        "scaler = StandardScaler()\n",
        "X_scale = pd.DataFrame(scaler.fit_transform(X), columns=X.columns)\n",
        "k_means = KMeans(n_clusters=8)\n",
        "X_scale['cluster'] = k_means.fit_predict(X_scale)\n",
        "centers = pd.DataFrame(k_means.cluster_centers_, columns=X.columns)\n",
        "\n",
        "inverse = pd.DataFrame(scaler.inverse_transform(centers), columns=X.columns)\n",
        "inverse.style.background_gradient()"
      ],
      "execution_count": 79,
      "outputs": [
        {
          "output_type": "execute_result",
          "data": {
            "text/html": [
              "<style  type=\"text/css\" >\n",
              "#T_1a9dd5ba_28f7_11eb_a8f3_0242ac1c0002row0_col0{\n",
              "            background-color:  #9ab8d8;\n",
              "            color:  #000000;\n",
              "        }#T_1a9dd5ba_28f7_11eb_a8f3_0242ac1c0002row0_col1{\n",
              "            background-color:  #3b92c1;\n",
              "            color:  #000000;\n",
              "        }#T_1a9dd5ba_28f7_11eb_a8f3_0242ac1c0002row0_col2{\n",
              "            background-color:  #e8e4f0;\n",
              "            color:  #000000;\n",
              "        }#T_1a9dd5ba_28f7_11eb_a8f3_0242ac1c0002row0_col3,#T_1a9dd5ba_28f7_11eb_a8f3_0242ac1c0002row7_col0{\n",
              "            background-color:  #d1d2e6;\n",
              "            color:  #000000;\n",
              "        }#T_1a9dd5ba_28f7_11eb_a8f3_0242ac1c0002row0_col4{\n",
              "            background-color:  #a9bfdc;\n",
              "            color:  #000000;\n",
              "        }#T_1a9dd5ba_28f7_11eb_a8f3_0242ac1c0002row0_col5{\n",
              "            background-color:  #cacee5;\n",
              "            color:  #000000;\n",
              "        }#T_1a9dd5ba_28f7_11eb_a8f3_0242ac1c0002row1_col0,#T_1a9dd5ba_28f7_11eb_a8f3_0242ac1c0002row1_col1,#T_1a9dd5ba_28f7_11eb_a8f3_0242ac1c0002row1_col3,#T_1a9dd5ba_28f7_11eb_a8f3_0242ac1c0002row1_col4,#T_1a9dd5ba_28f7_11eb_a8f3_0242ac1c0002row1_col5,#T_1a9dd5ba_28f7_11eb_a8f3_0242ac1c0002row6_col2{\n",
              "            background-color:  #fff7fb;\n",
              "            color:  #000000;\n",
              "        }#T_1a9dd5ba_28f7_11eb_a8f3_0242ac1c0002row1_col2{\n",
              "            background-color:  #fcf4fa;\n",
              "            color:  #000000;\n",
              "        }#T_1a9dd5ba_28f7_11eb_a8f3_0242ac1c0002row2_col0{\n",
              "            background-color:  #c4cbe3;\n",
              "            color:  #000000;\n",
              "        }#T_1a9dd5ba_28f7_11eb_a8f3_0242ac1c0002row2_col1,#T_1a9dd5ba_28f7_11eb_a8f3_0242ac1c0002row6_col0{\n",
              "            background-color:  #f4edf6;\n",
              "            color:  #000000;\n",
              "        }#T_1a9dd5ba_28f7_11eb_a8f3_0242ac1c0002row2_col2{\n",
              "            background-color:  #b8c6e0;\n",
              "            color:  #000000;\n",
              "        }#T_1a9dd5ba_28f7_11eb_a8f3_0242ac1c0002row2_col3{\n",
              "            background-color:  #d0d1e6;\n",
              "            color:  #000000;\n",
              "        }#T_1a9dd5ba_28f7_11eb_a8f3_0242ac1c0002row2_col4{\n",
              "            background-color:  #fef6fa;\n",
              "            color:  #000000;\n",
              "        }#T_1a9dd5ba_28f7_11eb_a8f3_0242ac1c0002row2_col5,#T_1a9dd5ba_28f7_11eb_a8f3_0242ac1c0002row3_col1{\n",
              "            background-color:  #c9cee4;\n",
              "            color:  #000000;\n",
              "        }#T_1a9dd5ba_28f7_11eb_a8f3_0242ac1c0002row3_col0{\n",
              "            background-color:  #197db7;\n",
              "            color:  #000000;\n",
              "        }#T_1a9dd5ba_28f7_11eb_a8f3_0242ac1c0002row3_col2{\n",
              "            background-color:  #2182b9;\n",
              "            color:  #000000;\n",
              "        }#T_1a9dd5ba_28f7_11eb_a8f3_0242ac1c0002row3_col3{\n",
              "            background-color:  #1b7eb7;\n",
              "            color:  #000000;\n",
              "        }#T_1a9dd5ba_28f7_11eb_a8f3_0242ac1c0002row3_col4{\n",
              "            background-color:  #eee8f3;\n",
              "            color:  #000000;\n",
              "        }#T_1a9dd5ba_28f7_11eb_a8f3_0242ac1c0002row3_col5{\n",
              "            background-color:  #4897c4;\n",
              "            color:  #000000;\n",
              "        }#T_1a9dd5ba_28f7_11eb_a8f3_0242ac1c0002row4_col0,#T_1a9dd5ba_28f7_11eb_a8f3_0242ac1c0002row4_col2,#T_1a9dd5ba_28f7_11eb_a8f3_0242ac1c0002row4_col3,#T_1a9dd5ba_28f7_11eb_a8f3_0242ac1c0002row4_col5,#T_1a9dd5ba_28f7_11eb_a8f3_0242ac1c0002row5_col1,#T_1a9dd5ba_28f7_11eb_a8f3_0242ac1c0002row5_col4{\n",
              "            background-color:  #023858;\n",
              "            color:  #f1f1f1;\n",
              "        }#T_1a9dd5ba_28f7_11eb_a8f3_0242ac1c0002row4_col1{\n",
              "            background-color:  #167bb6;\n",
              "            color:  #000000;\n",
              "        }#T_1a9dd5ba_28f7_11eb_a8f3_0242ac1c0002row4_col4{\n",
              "            background-color:  #abbfdc;\n",
              "            color:  #000000;\n",
              "        }#T_1a9dd5ba_28f7_11eb_a8f3_0242ac1c0002row5_col0{\n",
              "            background-color:  #358fc0;\n",
              "            color:  #000000;\n",
              "        }#T_1a9dd5ba_28f7_11eb_a8f3_0242ac1c0002row5_col2{\n",
              "            background-color:  #e2dfee;\n",
              "            color:  #000000;\n",
              "        }#T_1a9dd5ba_28f7_11eb_a8f3_0242ac1c0002row5_col3{\n",
              "            background-color:  #a7bddb;\n",
              "            color:  #000000;\n",
              "        }#T_1a9dd5ba_28f7_11eb_a8f3_0242ac1c0002row5_col5{\n",
              "            background-color:  #86b0d3;\n",
              "            color:  #000000;\n",
              "        }#T_1a9dd5ba_28f7_11eb_a8f3_0242ac1c0002row6_col1{\n",
              "            background-color:  #cdd0e5;\n",
              "            color:  #000000;\n",
              "        }#T_1a9dd5ba_28f7_11eb_a8f3_0242ac1c0002row6_col3{\n",
              "            background-color:  #fbf4f9;\n",
              "            color:  #000000;\n",
              "        }#T_1a9dd5ba_28f7_11eb_a8f3_0242ac1c0002row6_col4{\n",
              "            background-color:  #cccfe5;\n",
              "            color:  #000000;\n",
              "        }#T_1a9dd5ba_28f7_11eb_a8f3_0242ac1c0002row6_col5{\n",
              "            background-color:  #f8f1f8;\n",
              "            color:  #000000;\n",
              "        }#T_1a9dd5ba_28f7_11eb_a8f3_0242ac1c0002row7_col1{\n",
              "            background-color:  #d3d4e7;\n",
              "            color:  #000000;\n",
              "        }#T_1a9dd5ba_28f7_11eb_a8f3_0242ac1c0002row7_col2,#T_1a9dd5ba_28f7_11eb_a8f3_0242ac1c0002row7_col5{\n",
              "            background-color:  #e5e1ef;\n",
              "            color:  #000000;\n",
              "        }#T_1a9dd5ba_28f7_11eb_a8f3_0242ac1c0002row7_col3{\n",
              "            background-color:  #2f8bbe;\n",
              "            color:  #000000;\n",
              "        }#T_1a9dd5ba_28f7_11eb_a8f3_0242ac1c0002row7_col4{\n",
              "            background-color:  #e7e3f0;\n",
              "            color:  #000000;\n",
              "        }</style><table id=\"T_1a9dd5ba_28f7_11eb_a8f3_0242ac1c0002\" ><thead>    <tr>        <th class=\"blank level0\" ></th>        <th class=\"col_heading level0 col0\" >PTS</th>        <th class=\"col_heading level0 col1\" >TRB</th>        <th class=\"col_heading level0 col2\" >AST</th>        <th class=\"col_heading level0 col3\" >STL</th>        <th class=\"col_heading level0 col4\" >BLK</th>        <th class=\"col_heading level0 col5\" >TOV</th>    </tr></thead><tbody>\n",
              "                <tr>\n",
              "                        <th id=\"T_1a9dd5ba_28f7_11eb_a8f3_0242ac1c0002level0_row0\" class=\"row_heading level0 row0\" >0</th>\n",
              "                        <td id=\"T_1a9dd5ba_28f7_11eb_a8f3_0242ac1c0002row0_col0\" class=\"data row0 col0\" >12.637561</td>\n",
              "                        <td id=\"T_1a9dd5ba_28f7_11eb_a8f3_0242ac1c0002row0_col1\" class=\"data row0 col1\" >7.195610</td>\n",
              "                        <td id=\"T_1a9dd5ba_28f7_11eb_a8f3_0242ac1c0002row0_col2\" class=\"data row0 col2\" >1.853171</td>\n",
              "                        <td id=\"T_1a9dd5ba_28f7_11eb_a8f3_0242ac1c0002row0_col3\" class=\"data row0 col3\" >0.726341</td>\n",
              "                        <td id=\"T_1a9dd5ba_28f7_11eb_a8f3_0242ac1c0002row0_col4\" class=\"data row0 col4\" >0.817561</td>\n",
              "                        <td id=\"T_1a9dd5ba_28f7_11eb_a8f3_0242ac1c0002row0_col5\" class=\"data row0 col5\" >1.491220</td>\n",
              "            </tr>\n",
              "            <tr>\n",
              "                        <th id=\"T_1a9dd5ba_28f7_11eb_a8f3_0242ac1c0002level0_row1\" class=\"row_heading level0 row1\" >1</th>\n",
              "                        <td id=\"T_1a9dd5ba_28f7_11eb_a8f3_0242ac1c0002row1_col0\" class=\"data row1 col0\" >5.310909</td>\n",
              "                        <td id=\"T_1a9dd5ba_28f7_11eb_a8f3_0242ac1c0002row1_col1\" class=\"data row1 col1\" >2.201636</td>\n",
              "                        <td id=\"T_1a9dd5ba_28f7_11eb_a8f3_0242ac1c0002row1_col2\" class=\"data row1 col2\" >1.082727</td>\n",
              "                        <td id=\"T_1a9dd5ba_28f7_11eb_a8f3_0242ac1c0002row1_col3\" class=\"data row1 col3\" >0.428909</td>\n",
              "                        <td id=\"T_1a9dd5ba_28f7_11eb_a8f3_0242ac1c0002row1_col4\" class=\"data row1 col4\" >0.182727</td>\n",
              "                        <td id=\"T_1a9dd5ba_28f7_11eb_a8f3_0242ac1c0002row1_col5\" class=\"data row1 col5\" >0.666909</td>\n",
              "            </tr>\n",
              "            <tr>\n",
              "                        <th id=\"T_1a9dd5ba_28f7_11eb_a8f3_0242ac1c0002level0_row2\" class=\"row_heading level0 row2\" >2</th>\n",
              "                        <td id=\"T_1a9dd5ba_28f7_11eb_a8f3_0242ac1c0002row2_col0\" class=\"data row2 col0\" >10.550836</td>\n",
              "                        <td id=\"T_1a9dd5ba_28f7_11eb_a8f3_0242ac1c0002row2_col1\" class=\"data row2 col1\" >2.832441</td>\n",
              "                        <td id=\"T_1a9dd5ba_28f7_11eb_a8f3_0242ac1c0002row2_col2\" class=\"data row2 col2\" >3.025753</td>\n",
              "                        <td id=\"T_1a9dd5ba_28f7_11eb_a8f3_0242ac1c0002row2_col3\" class=\"data row2 col3\" >0.732107</td>\n",
              "                        <td id=\"T_1a9dd5ba_28f7_11eb_a8f3_0242ac1c0002row2_col4\" class=\"data row2 col4\" >0.196656</td>\n",
              "                        <td id=\"T_1a9dd5ba_28f7_11eb_a8f3_0242ac1c0002row2_col5\" class=\"data row2 col5\" >1.496990</td>\n",
              "            </tr>\n",
              "            <tr>\n",
              "                        <th id=\"T_1a9dd5ba_28f7_11eb_a8f3_0242ac1c0002level0_row3\" class=\"row_heading level0 row3\" >3</th>\n",
              "                        <td id=\"T_1a9dd5ba_28f7_11eb_a8f3_0242ac1c0002row3_col0\" class=\"data row3 col0\" >17.948408</td>\n",
              "                        <td id=\"T_1a9dd5ba_28f7_11eb_a8f3_0242ac1c0002row3_col1\" class=\"data row3 col1\" >4.398089</td>\n",
              "                        <td id=\"T_1a9dd5ba_28f7_11eb_a8f3_0242ac1c0002row3_col2\" class=\"data row3 col2\" >5.323567</td>\n",
              "                        <td id=\"T_1a9dd5ba_28f7_11eb_a8f3_0242ac1c0002row3_col3\" class=\"data row3 col3\" >1.255414</td>\n",
              "                        <td id=\"T_1a9dd5ba_28f7_11eb_a8f3_0242ac1c0002row3_col4\" class=\"data row3 col4\" >0.380255</td>\n",
              "                        <td id=\"T_1a9dd5ba_28f7_11eb_a8f3_0242ac1c0002row3_col5\" class=\"data row3 col5\" >2.467516</td>\n",
              "            </tr>\n",
              "            <tr>\n",
              "                        <th id=\"T_1a9dd5ba_28f7_11eb_a8f3_0242ac1c0002level0_row4\" class=\"row_heading level0 row4\" >4</th>\n",
              "                        <td id=\"T_1a9dd5ba_28f7_11eb_a8f3_0242ac1c0002row4_col0\" class=\"data row4 col0\" >23.483333</td>\n",
              "                        <td id=\"T_1a9dd5ba_28f7_11eb_a8f3_0242ac1c0002row4_col1\" class=\"data row4 col1\" >7.942857</td>\n",
              "                        <td id=\"T_1a9dd5ba_28f7_11eb_a8f3_0242ac1c0002row4_col2\" class=\"data row4 col2\" >7.392857</td>\n",
              "                        <td id=\"T_1a9dd5ba_28f7_11eb_a8f3_0242ac1c0002row4_col3\" class=\"data row4 col3\" >1.623810</td>\n",
              "                        <td id=\"T_1a9dd5ba_28f7_11eb_a8f3_0242ac1c0002row4_col4\" class=\"data row4 col4\" >0.811905</td>\n",
              "                        <td id=\"T_1a9dd5ba_28f7_11eb_a8f3_0242ac1c0002row4_col5\" class=\"data row4 col5\" >3.735714</td>\n",
              "            </tr>\n",
              "            <tr>\n",
              "                        <th id=\"T_1a9dd5ba_28f7_11eb_a8f3_0242ac1c0002level0_row5\" class=\"row_heading level0 row5\" >5</th>\n",
              "                        <td id=\"T_1a9dd5ba_28f7_11eb_a8f3_0242ac1c0002row5_col0\" class=\"data row5 col0\" >16.701667</td>\n",
              "                        <td id=\"T_1a9dd5ba_28f7_11eb_a8f3_0242ac1c0002row5_col1\" class=\"data row5 col1\" >10.338333</td>\n",
              "                        <td id=\"T_1a9dd5ba_28f7_11eb_a8f3_0242ac1c0002row5_col2\" class=\"data row5 col2\" >2.038333</td>\n",
              "                        <td id=\"T_1a9dd5ba_28f7_11eb_a8f3_0242ac1c0002row5_col3\" class=\"data row5 col3\" >0.873333</td>\n",
              "                        <td id=\"T_1a9dd5ba_28f7_11eb_a8f3_0242ac1c0002row5_col4\" class=\"data row5 col4\" >1.918333</td>\n",
              "                        <td id=\"T_1a9dd5ba_28f7_11eb_a8f3_0242ac1c0002row5_col5\" class=\"data row5 col5\" >2.065000</td>\n",
              "            </tr>\n",
              "            <tr>\n",
              "                        <th id=\"T_1a9dd5ba_28f7_11eb_a8f3_0242ac1c0002level0_row6\" class=\"row_heading level0 row6\" >6</th>\n",
              "                        <td id=\"T_1a9dd5ba_28f7_11eb_a8f3_0242ac1c0002row6_col0\" class=\"data row6 col0\" >6.672000</td>\n",
              "                        <td id=\"T_1a9dd5ba_28f7_11eb_a8f3_0242ac1c0002row6_col1\" class=\"data row6 col1\" >4.330909</td>\n",
              "                        <td id=\"T_1a9dd5ba_28f7_11eb_a8f3_0242ac1c0002row6_col2\" class=\"data row6 col2\" >0.943636</td>\n",
              "                        <td id=\"T_1a9dd5ba_28f7_11eb_a8f3_0242ac1c0002row6_col3\" class=\"data row6 col3\" >0.457818</td>\n",
              "                        <td id=\"T_1a9dd5ba_28f7_11eb_a8f3_0242ac1c0002row6_col4\" class=\"data row6 col4\" >0.639636</td>\n",
              "                        <td id=\"T_1a9dd5ba_28f7_11eb_a8f3_0242ac1c0002row6_col5\" class=\"data row6 col5\" >0.816364</td>\n",
              "            </tr>\n",
              "            <tr>\n",
              "                        <th id=\"T_1a9dd5ba_28f7_11eb_a8f3_0242ac1c0002level0_row7\" class=\"row_heading level0 row7\" >7</th>\n",
              "                        <td id=\"T_1a9dd5ba_28f7_11eb_a8f3_0242ac1c0002row7_col0\" class=\"data row7 col0\" >9.800568</td>\n",
              "                        <td id=\"T_1a9dd5ba_28f7_11eb_a8f3_0242ac1c0002row7_col1\" class=\"data row7 col1\" >4.138636</td>\n",
              "                        <td id=\"T_1a9dd5ba_28f7_11eb_a8f3_0242ac1c0002row7_col2\" class=\"data row7 col2\" >1.959091</td>\n",
              "                        <td id=\"T_1a9dd5ba_28f7_11eb_a8f3_0242ac1c0002row7_col3\" class=\"data row7 col3\" >1.198295</td>\n",
              "                        <td id=\"T_1a9dd5ba_28f7_11eb_a8f3_0242ac1c0002row7_col4\" class=\"data row7 col4\" >0.440341</td>\n",
              "                        <td id=\"T_1a9dd5ba_28f7_11eb_a8f3_0242ac1c0002row7_col5\" class=\"data row7 col5\" >1.147727</td>\n",
              "            </tr>\n",
              "    </tbody></table>"
            ],
            "text/plain": [
              "<pandas.io.formats.style.Styler at 0x7fe6a2af6f60>"
            ]
          },
          "metadata": {
            "tags": []
          },
          "execution_count": 79
        }
      ]
    },
    {
      "cell_type": "markdown",
      "metadata": {
        "id": "kG26oDJMKzM9"
      },
      "source": [
        "*The best archetype seems to be 4 if K>3 which was originally pushed off from 3 when K=3.*"
      ]
    }
  ]
}