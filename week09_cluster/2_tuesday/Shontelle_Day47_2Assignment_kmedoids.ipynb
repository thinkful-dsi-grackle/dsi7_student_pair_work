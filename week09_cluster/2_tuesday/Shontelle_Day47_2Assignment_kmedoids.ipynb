{
  "nbformat": 4,
  "nbformat_minor": 0,
  "metadata": {
    "colab": {
      "name": "Shontelle_Day47_2Assignment_kmedoids.ipynb",
      "provenance": [],
      "collapsed_sections": []
    },
    "kernelspec": {
      "display_name": "Python 3",
      "language": "python",
      "name": "python3"
    },
    "language_info": {
      "codemirror_mode": {
        "name": "ipython",
        "version": 3
      },
      "file_extension": ".py",
      "mimetype": "text/x-python",
      "name": "python",
      "nbconvert_exporter": "python",
      "pygments_lexer": "ipython3",
      "version": "3.7.0"
    }
  },
  "cells": [
    {
      "cell_type": "markdown",
      "metadata": {
        "id": "xdL0Yz0D1D_q"
      },
      "source": [
        "## Day 47 Lecture 2 Assignment\n",
        "\n",
        "In this assignment, we will perform K-Medoids clustering using responses to a survey about student life at a university."
      ]
    },
    {
      "cell_type": "code",
      "metadata": {
        "colab": {
          "base_uri": "https://localhost:8080/"
        },
        "id": "R3H_6goTkvJY",
        "outputId": "71cd11bd-60ba-494d-d159-351e49624749"
      },
      "source": [
        "!pip install pyclustering"
      ],
      "execution_count": 1,
      "outputs": [
        {
          "output_type": "stream",
          "text": [
            "Requirement already satisfied: pyclustering in /usr/local/lib/python3.6/dist-packages (0.10.0.1)\n",
            "Requirement already satisfied: matplotlib in /usr/local/lib/python3.6/dist-packages (from pyclustering) (3.2.2)\n",
            "Requirement already satisfied: scipy in /usr/local/lib/python3.6/dist-packages (from pyclustering) (1.4.1)\n",
            "Requirement already satisfied: Pillow in /usr/local/lib/python3.6/dist-packages (from pyclustering) (7.0.0)\n",
            "Requirement already satisfied: numpy in /usr/local/lib/python3.6/dist-packages (from pyclustering) (1.18.5)\n",
            "Requirement already satisfied: pyparsing!=2.0.4,!=2.1.2,!=2.1.6,>=2.0.1 in /usr/local/lib/python3.6/dist-packages (from matplotlib->pyclustering) (2.4.7)\n",
            "Requirement already satisfied: python-dateutil>=2.1 in /usr/local/lib/python3.6/dist-packages (from matplotlib->pyclustering) (2.8.1)\n",
            "Requirement already satisfied: kiwisolver>=1.0.1 in /usr/local/lib/python3.6/dist-packages (from matplotlib->pyclustering) (1.3.1)\n",
            "Requirement already satisfied: cycler>=0.10 in /usr/local/lib/python3.6/dist-packages (from matplotlib->pyclustering) (0.10.0)\n",
            "Requirement already satisfied: six>=1.5 in /usr/local/lib/python3.6/dist-packages (from python-dateutil>=2.1->matplotlib->pyclustering) (1.15.0)\n"
          ],
          "name": "stdout"
        }
      ]
    },
    {
      "cell_type": "code",
      "metadata": {
        "id": "OulyiH_C1D_r"
      },
      "source": [
        "%matplotlib inline\n",
        "\n",
        "import matplotlib.pyplot as plt\n",
        "import numpy as np\n",
        "import pandas as pd\n",
        "from scipy.spatial.distance import pdist, squareform\n",
        "from pyclustering.cluster.kmedoids import kmedoids\n",
        "import random"
      ],
      "execution_count": 2,
      "outputs": []
    },
    {
      "cell_type": "markdown",
      "metadata": {
        "id": "ezMvoRlB1D_t"
      },
      "source": [
        "This dataset consists of 35 binary features, each corresponding to a yes/no question that characterizes the student taking the survey.\n",
        "\n",
        "This dataset contains a large number of features, each corresponding to a survey question. The feature name summarizes the survey question, so we will not list them all out here.\n",
        "\n",
        "Load the dataset."
      ]
    },
    {
      "cell_type": "code",
      "metadata": {
        "id": "wP1U4eQ91D_u",
        "colab": {
          "base_uri": "https://localhost:8080/",
          "height": 394
        },
        "outputId": "6a673fc1-1ec7-45c2-bf89-2deb28bead9c"
      },
      "source": [
        "# answer goes here\n",
        "students = pd.read_csv('https://tf-assets-prod.s3.amazonaws.com/tf-curric/data-science/Data%20Sets%20Clustering/student_life_survey.csv')\n",
        "print(students.shape)\n",
        "students.head()"
      ],
      "execution_count": 3,
      "outputs": [
        {
          "output_type": "stream",
          "text": [
            "(2958, 36)\n"
          ],
          "name": "stdout"
        },
        {
          "output_type": "execute_result",
          "data": {
            "text/html": [
              "<div>\n",
              "<style scoped>\n",
              "    .dataframe tbody tr th:only-of-type {\n",
              "        vertical-align: middle;\n",
              "    }\n",
              "\n",
              "    .dataframe tbody tr th {\n",
              "        vertical-align: top;\n",
              "    }\n",
              "\n",
              "    .dataframe thead th {\n",
              "        text-align: right;\n",
              "    }\n",
              "</style>\n",
              "<table border=\"1\" class=\"dataframe\">\n",
              "  <thead>\n",
              "    <tr style=\"text-align: right;\">\n",
              "      <th></th>\n",
              "      <th>Q2-Participated in Societies and Interest Groups</th>\n",
              "      <th>Q2-Participated in Clubs</th>\n",
              "      <th>Q2-Participated in Halls, JCRCs and/or Residential College CSCs</th>\n",
              "      <th>Q2-Participated in University organised events</th>\n",
              "      <th>Q3-Interested in Arts &amp; Culture</th>\n",
              "      <th>Q3-Interested in Science &amp; Technology</th>\n",
              "      <th>Q3-Interested in Research and independent study</th>\n",
              "      <th>Q3-Interested in Sports</th>\n",
              "      <th>Q3-Interested in Other competitions (eg case, debates)</th>\n",
              "      <th>Q3-Interested in Entrepreneurship</th>\n",
              "      <th>Q3-Interested in Volunteering</th>\n",
              "      <th>Q3-Interested in Others</th>\n",
              "      <th>Q4-Passionate about Animal welfare</th>\n",
              "      <th>Q4-Passionate about Arts/Culture/Heritage</th>\n",
              "      <th>Q4-Passionate about Children/Youth</th>\n",
              "      <th>Q4-Passionate about Community building</th>\n",
              "      <th>Q4-Passionate about Diversity &amp; Inclusion (e.g. special needs, migrant worker, interfaith and intercultural understanding)</th>\n",
              "      <th>Q4-Passionate about Environmental sustainability</th>\n",
              "      <th>Q4-Passionate about Families</th>\n",
              "      <th>Q4-Passionate about Health/Well-being (e.g mental health)</th>\n",
              "      <th>Q4-Passionate about Seniors</th>\n",
              "      <th>Q4-Passionate about Poverty reduction</th>\n",
              "      <th>Q4-Passionate about Education</th>\n",
              "      <th>Q4-Passionate about None of the above</th>\n",
              "      <th>Q4-Passionate about Others</th>\n",
              "      <th>Q5-Stressed about Adjustment issues</th>\n",
              "      <th>Q5-Stressed about Academic issues</th>\n",
              "      <th>Q5-Stressed about Financial issues</th>\n",
              "      <th>Q5-Stressed about Family issues</th>\n",
              "      <th>Q5-Stressed about Friendships</th>\n",
              "      <th>Q5-Stressed about Romantic relationships</th>\n",
              "      <th>Q5-Stressed about  Health related issues</th>\n",
              "      <th>Q5-Stressed about Career related issues</th>\n",
              "      <th>Q5-Stressed about My involvement in hostel, clubs, societies, interest groups, etc.</th>\n",
              "      <th>Q5-Stressed about Others</th>\n",
              "      <th>response_id</th>\n",
              "    </tr>\n",
              "  </thead>\n",
              "  <tbody>\n",
              "    <tr>\n",
              "      <th>0</th>\n",
              "      <td>0</td>\n",
              "      <td>1</td>\n",
              "      <td>0</td>\n",
              "      <td>0</td>\n",
              "      <td>0</td>\n",
              "      <td>1</td>\n",
              "      <td>1</td>\n",
              "      <td>0</td>\n",
              "      <td>1</td>\n",
              "      <td>0</td>\n",
              "      <td>0</td>\n",
              "      <td>0</td>\n",
              "      <td>0</td>\n",
              "      <td>0</td>\n",
              "      <td>0</td>\n",
              "      <td>0</td>\n",
              "      <td>0</td>\n",
              "      <td>1</td>\n",
              "      <td>0</td>\n",
              "      <td>0</td>\n",
              "      <td>0</td>\n",
              "      <td>0</td>\n",
              "      <td>0</td>\n",
              "      <td>0</td>\n",
              "      <td>0</td>\n",
              "      <td>0</td>\n",
              "      <td>1</td>\n",
              "      <td>0</td>\n",
              "      <td>0</td>\n",
              "      <td>0</td>\n",
              "      <td>0</td>\n",
              "      <td>0</td>\n",
              "      <td>0</td>\n",
              "      <td>0</td>\n",
              "      <td>0</td>\n",
              "      <td>1</td>\n",
              "    </tr>\n",
              "    <tr>\n",
              "      <th>1</th>\n",
              "      <td>0</td>\n",
              "      <td>1</td>\n",
              "      <td>0</td>\n",
              "      <td>0</td>\n",
              "      <td>1</td>\n",
              "      <td>0</td>\n",
              "      <td>0</td>\n",
              "      <td>1</td>\n",
              "      <td>0</td>\n",
              "      <td>0</td>\n",
              "      <td>0</td>\n",
              "      <td>0</td>\n",
              "      <td>0</td>\n",
              "      <td>0</td>\n",
              "      <td>1</td>\n",
              "      <td>0</td>\n",
              "      <td>1</td>\n",
              "      <td>0</td>\n",
              "      <td>0</td>\n",
              "      <td>0</td>\n",
              "      <td>0</td>\n",
              "      <td>1</td>\n",
              "      <td>0</td>\n",
              "      <td>0</td>\n",
              "      <td>0</td>\n",
              "      <td>0</td>\n",
              "      <td>1</td>\n",
              "      <td>0</td>\n",
              "      <td>0</td>\n",
              "      <td>0</td>\n",
              "      <td>0</td>\n",
              "      <td>0</td>\n",
              "      <td>0</td>\n",
              "      <td>0</td>\n",
              "      <td>0</td>\n",
              "      <td>2</td>\n",
              "    </tr>\n",
              "    <tr>\n",
              "      <th>2</th>\n",
              "      <td>0</td>\n",
              "      <td>0</td>\n",
              "      <td>1</td>\n",
              "      <td>0</td>\n",
              "      <td>0</td>\n",
              "      <td>0</td>\n",
              "      <td>0</td>\n",
              "      <td>1</td>\n",
              "      <td>0</td>\n",
              "      <td>0</td>\n",
              "      <td>0</td>\n",
              "      <td>0</td>\n",
              "      <td>0</td>\n",
              "      <td>1</td>\n",
              "      <td>0</td>\n",
              "      <td>0</td>\n",
              "      <td>1</td>\n",
              "      <td>0</td>\n",
              "      <td>1</td>\n",
              "      <td>1</td>\n",
              "      <td>0</td>\n",
              "      <td>0</td>\n",
              "      <td>1</td>\n",
              "      <td>0</td>\n",
              "      <td>0</td>\n",
              "      <td>0</td>\n",
              "      <td>1</td>\n",
              "      <td>0</td>\n",
              "      <td>0</td>\n",
              "      <td>0</td>\n",
              "      <td>0</td>\n",
              "      <td>0</td>\n",
              "      <td>1</td>\n",
              "      <td>0</td>\n",
              "      <td>0</td>\n",
              "      <td>3</td>\n",
              "    </tr>\n",
              "    <tr>\n",
              "      <th>3</th>\n",
              "      <td>1</td>\n",
              "      <td>1</td>\n",
              "      <td>1</td>\n",
              "      <td>1</td>\n",
              "      <td>0</td>\n",
              "      <td>1</td>\n",
              "      <td>1</td>\n",
              "      <td>0</td>\n",
              "      <td>0</td>\n",
              "      <td>0</td>\n",
              "      <td>1</td>\n",
              "      <td>0</td>\n",
              "      <td>0</td>\n",
              "      <td>0</td>\n",
              "      <td>0</td>\n",
              "      <td>1</td>\n",
              "      <td>0</td>\n",
              "      <td>0</td>\n",
              "      <td>0</td>\n",
              "      <td>1</td>\n",
              "      <td>0</td>\n",
              "      <td>0</td>\n",
              "      <td>1</td>\n",
              "      <td>0</td>\n",
              "      <td>0</td>\n",
              "      <td>1</td>\n",
              "      <td>1</td>\n",
              "      <td>0</td>\n",
              "      <td>1</td>\n",
              "      <td>1</td>\n",
              "      <td>1</td>\n",
              "      <td>1</td>\n",
              "      <td>0</td>\n",
              "      <td>1</td>\n",
              "      <td>0</td>\n",
              "      <td>4</td>\n",
              "    </tr>\n",
              "    <tr>\n",
              "      <th>4</th>\n",
              "      <td>1</td>\n",
              "      <td>0</td>\n",
              "      <td>1</td>\n",
              "      <td>1</td>\n",
              "      <td>0</td>\n",
              "      <td>1</td>\n",
              "      <td>1</td>\n",
              "      <td>0</td>\n",
              "      <td>0</td>\n",
              "      <td>1</td>\n",
              "      <td>1</td>\n",
              "      <td>0</td>\n",
              "      <td>0</td>\n",
              "      <td>0</td>\n",
              "      <td>1</td>\n",
              "      <td>1</td>\n",
              "      <td>0</td>\n",
              "      <td>1</td>\n",
              "      <td>0</td>\n",
              "      <td>1</td>\n",
              "      <td>0</td>\n",
              "      <td>0</td>\n",
              "      <td>1</td>\n",
              "      <td>0</td>\n",
              "      <td>0</td>\n",
              "      <td>0</td>\n",
              "      <td>1</td>\n",
              "      <td>1</td>\n",
              "      <td>0</td>\n",
              "      <td>1</td>\n",
              "      <td>0</td>\n",
              "      <td>0</td>\n",
              "      <td>0</td>\n",
              "      <td>1</td>\n",
              "      <td>0</td>\n",
              "      <td>5</td>\n",
              "    </tr>\n",
              "  </tbody>\n",
              "</table>\n",
              "</div>"
            ],
            "text/plain": [
              "   Q2-Participated in Societies and Interest Groups  ...  response_id\n",
              "0                                                 0  ...            1\n",
              "1                                                 0  ...            2\n",
              "2                                                 0  ...            3\n",
              "3                                                 1  ...            4\n",
              "4                                                 1  ...            5\n",
              "\n",
              "[5 rows x 36 columns]"
            ]
          },
          "metadata": {
            "tags": []
          },
          "execution_count": 3
        }
      ]
    },
    {
      "cell_type": "markdown",
      "metadata": {
        "id": "o_K1eQ0x1D_y"
      },
      "source": [
        "For our analysis, we will focus on a specific subset of the survey that is focused on stress. These questions all begin with the string 'Q5'. Filter the columns that meet this criteria (should be 10 in total)."
      ]
    },
    {
      "cell_type": "code",
      "metadata": {
        "id": "urdZqR8WC4XM",
        "colab": {
          "base_uri": "https://localhost:8080/",
          "height": 306
        },
        "outputId": "2cc57481-b7b1-440b-87d7-401e5d24cf84"
      },
      "source": [
        "# answer goes here\n",
        "#only want stress survey questions (begins with Q5)\n",
        "stress = students.filter(like='Q5', axis=1)\n",
        "print(stress.shape)\n",
        "stress.head()"
      ],
      "execution_count": 4,
      "outputs": [
        {
          "output_type": "stream",
          "text": [
            "(2958, 10)\n"
          ],
          "name": "stdout"
        },
        {
          "output_type": "execute_result",
          "data": {
            "text/html": [
              "<div>\n",
              "<style scoped>\n",
              "    .dataframe tbody tr th:only-of-type {\n",
              "        vertical-align: middle;\n",
              "    }\n",
              "\n",
              "    .dataframe tbody tr th {\n",
              "        vertical-align: top;\n",
              "    }\n",
              "\n",
              "    .dataframe thead th {\n",
              "        text-align: right;\n",
              "    }\n",
              "</style>\n",
              "<table border=\"1\" class=\"dataframe\">\n",
              "  <thead>\n",
              "    <tr style=\"text-align: right;\">\n",
              "      <th></th>\n",
              "      <th>Q5-Stressed about Adjustment issues</th>\n",
              "      <th>Q5-Stressed about Academic issues</th>\n",
              "      <th>Q5-Stressed about Financial issues</th>\n",
              "      <th>Q5-Stressed about Family issues</th>\n",
              "      <th>Q5-Stressed about Friendships</th>\n",
              "      <th>Q5-Stressed about Romantic relationships</th>\n",
              "      <th>Q5-Stressed about  Health related issues</th>\n",
              "      <th>Q5-Stressed about Career related issues</th>\n",
              "      <th>Q5-Stressed about My involvement in hostel, clubs, societies, interest groups, etc.</th>\n",
              "      <th>Q5-Stressed about Others</th>\n",
              "    </tr>\n",
              "  </thead>\n",
              "  <tbody>\n",
              "    <tr>\n",
              "      <th>0</th>\n",
              "      <td>0</td>\n",
              "      <td>1</td>\n",
              "      <td>0</td>\n",
              "      <td>0</td>\n",
              "      <td>0</td>\n",
              "      <td>0</td>\n",
              "      <td>0</td>\n",
              "      <td>0</td>\n",
              "      <td>0</td>\n",
              "      <td>0</td>\n",
              "    </tr>\n",
              "    <tr>\n",
              "      <th>1</th>\n",
              "      <td>0</td>\n",
              "      <td>1</td>\n",
              "      <td>0</td>\n",
              "      <td>0</td>\n",
              "      <td>0</td>\n",
              "      <td>0</td>\n",
              "      <td>0</td>\n",
              "      <td>0</td>\n",
              "      <td>0</td>\n",
              "      <td>0</td>\n",
              "    </tr>\n",
              "    <tr>\n",
              "      <th>2</th>\n",
              "      <td>0</td>\n",
              "      <td>1</td>\n",
              "      <td>0</td>\n",
              "      <td>0</td>\n",
              "      <td>0</td>\n",
              "      <td>0</td>\n",
              "      <td>0</td>\n",
              "      <td>1</td>\n",
              "      <td>0</td>\n",
              "      <td>0</td>\n",
              "    </tr>\n",
              "    <tr>\n",
              "      <th>3</th>\n",
              "      <td>1</td>\n",
              "      <td>1</td>\n",
              "      <td>0</td>\n",
              "      <td>1</td>\n",
              "      <td>1</td>\n",
              "      <td>1</td>\n",
              "      <td>1</td>\n",
              "      <td>0</td>\n",
              "      <td>1</td>\n",
              "      <td>0</td>\n",
              "    </tr>\n",
              "    <tr>\n",
              "      <th>4</th>\n",
              "      <td>0</td>\n",
              "      <td>1</td>\n",
              "      <td>1</td>\n",
              "      <td>0</td>\n",
              "      <td>1</td>\n",
              "      <td>0</td>\n",
              "      <td>0</td>\n",
              "      <td>0</td>\n",
              "      <td>1</td>\n",
              "      <td>0</td>\n",
              "    </tr>\n",
              "  </tbody>\n",
              "</table>\n",
              "</div>"
            ],
            "text/plain": [
              "   Q5-Stressed about Adjustment issues  ...  Q5-Stressed about Others\n",
              "0                                    0  ...                         0\n",
              "1                                    0  ...                         0\n",
              "2                                    0  ...                         0\n",
              "3                                    1  ...                         0\n",
              "4                                    0  ...                         0\n",
              "\n",
              "[5 rows x 10 columns]"
            ]
          },
          "metadata": {
            "tags": []
          },
          "execution_count": 4
        }
      ]
    },
    {
      "cell_type": "markdown",
      "metadata": {
        "id": "OxdvGscfC4XU"
      },
      "source": [
        "The pyclustering implementation of kmedoids supports a variety of distance metrics, but they are primarily for numeric data. We will be using SMC/Hamming dissimilarity and precomputing the similarity matrix (an alternative would be to specify a user-defined function, which you are welcome to try in addition).\n",
        "\n",
        "We'll assume for the next step that a pair of negative values (i.e. both responses are \"no\") is as informative as a pair of positive values. Compute the full distance/dissimilarity matrix for the survey data using matching/hamming distance."
      ]
    },
    {
      "cell_type": "code",
      "metadata": {
        "id": "xfYVreyw1D_y",
        "colab": {
          "base_uri": "https://localhost:8080/"
        },
        "outputId": "8c005d83-a549-40e7-d188-d64ff50b1a41"
      },
      "source": [
        "# answer goes here\n",
        "#hamming distance (0-0 = informative)\n",
        "matrix = pdist(stress, metric='hamming')\n",
        "\n",
        "#keep as array for better results\n",
        "hamming = squareform(matrix)\n",
        "hamming"
      ],
      "execution_count": 5,
      "outputs": [
        {
          "output_type": "execute_result",
          "data": {
            "text/plain": [
              "array([[0. , 0. , 0.1, ..., 0. , 0.2, 0.2],\n",
              "       [0. , 0. , 0.1, ..., 0. , 0.2, 0.2],\n",
              "       [0.1, 0.1, 0. , ..., 0.1, 0.1, 0.1],\n",
              "       ...,\n",
              "       [0. , 0. , 0.1, ..., 0. , 0.2, 0.2],\n",
              "       [0.2, 0.2, 0.1, ..., 0.2, 0. , 0.2],\n",
              "       [0.2, 0.2, 0.1, ..., 0.2, 0.2, 0. ]])"
            ]
          },
          "metadata": {
            "tags": []
          },
          "execution_count": 5
        }
      ]
    },
    {
      "cell_type": "markdown",
      "metadata": {
        "id": "3XUT0a6aC4Xb"
      },
      "source": [
        "Using the dissimilarity matrix, perform kmedoids clustering using k=2. Set the initial medoids randomly. Note that pyclustering expects the distance matrix to be a numpy array; a pandas dataframe may cause errors. \n",
        "\n",
        "Which survey responses are chosen as the cluster representatives? Print out the details of these responses."
      ]
    },
    {
      "cell_type": "code",
      "metadata": {
        "id": "Nv0mDzNSC4Xd",
        "colab": {
          "base_uri": "https://localhost:8080/",
          "height": 150
        },
        "outputId": "2dfe9d0f-445c-4281-c2fb-25485c1f19c0"
      },
      "source": [
        "# answer goes here\n",
        "#k=2\n",
        "num_clusters = 2\n",
        "initial_medoids = stress.sample(num_clusters).index\n",
        "\n",
        "kmedoids_instance = kmedoids(hamming, initial_medoids, data_type='distance_matrix')\n",
        "\n",
        "#fitting\n",
        "kmedoids_instance.process()\n",
        "\n",
        "#medoids\n",
        "medoids = kmedoids_instance.get_medoids()\n",
        "stress.loc[medoids].style.background_gradient()"
      ],
      "execution_count": 6,
      "outputs": [
        {
          "output_type": "execute_result",
          "data": {
            "text/html": [
              "<style  type=\"text/css\" >\n",
              "#T_248d665e_291e_11eb_96da_0242ac1c0002row0_col0,#T_248d665e_291e_11eb_96da_0242ac1c0002row0_col1,#T_248d665e_291e_11eb_96da_0242ac1c0002row0_col2,#T_248d665e_291e_11eb_96da_0242ac1c0002row0_col3,#T_248d665e_291e_11eb_96da_0242ac1c0002row0_col4,#T_248d665e_291e_11eb_96da_0242ac1c0002row0_col5,#T_248d665e_291e_11eb_96da_0242ac1c0002row0_col6,#T_248d665e_291e_11eb_96da_0242ac1c0002row0_col8,#T_248d665e_291e_11eb_96da_0242ac1c0002row0_col9,#T_248d665e_291e_11eb_96da_0242ac1c0002row1_col0,#T_248d665e_291e_11eb_96da_0242ac1c0002row1_col1,#T_248d665e_291e_11eb_96da_0242ac1c0002row1_col3,#T_248d665e_291e_11eb_96da_0242ac1c0002row1_col4,#T_248d665e_291e_11eb_96da_0242ac1c0002row1_col5,#T_248d665e_291e_11eb_96da_0242ac1c0002row1_col6,#T_248d665e_291e_11eb_96da_0242ac1c0002row1_col7,#T_248d665e_291e_11eb_96da_0242ac1c0002row1_col9{\n",
              "            background-color:  #fff7fb;\n",
              "            color:  #000000;\n",
              "        }#T_248d665e_291e_11eb_96da_0242ac1c0002row0_col7,#T_248d665e_291e_11eb_96da_0242ac1c0002row1_col2,#T_248d665e_291e_11eb_96da_0242ac1c0002row1_col8{\n",
              "            background-color:  #023858;\n",
              "            color:  #f1f1f1;\n",
              "        }</style><table id=\"T_248d665e_291e_11eb_96da_0242ac1c0002\" ><thead>    <tr>        <th class=\"blank level0\" ></th>        <th class=\"col_heading level0 col0\" >Q5-Stressed about Adjustment issues</th>        <th class=\"col_heading level0 col1\" >Q5-Stressed about Academic issues</th>        <th class=\"col_heading level0 col2\" >Q5-Stressed about Financial issues</th>        <th class=\"col_heading level0 col3\" >Q5-Stressed about Family issues</th>        <th class=\"col_heading level0 col4\" >Q5-Stressed about Friendships</th>        <th class=\"col_heading level0 col5\" >Q5-Stressed about Romantic relationships</th>        <th class=\"col_heading level0 col6\" >Q5-Stressed about  Health related issues</th>        <th class=\"col_heading level0 col7\" >Q5-Stressed about Career related issues</th>        <th class=\"col_heading level0 col8\" >Q5-Stressed about My involvement in hostel, clubs, societies, interest groups, etc.</th>        <th class=\"col_heading level0 col9\" >Q5-Stressed about Others</th>    </tr></thead><tbody>\n",
              "                <tr>\n",
              "                        <th id=\"T_248d665e_291e_11eb_96da_0242ac1c0002level0_row0\" class=\"row_heading level0 row0\" >2</th>\n",
              "                        <td id=\"T_248d665e_291e_11eb_96da_0242ac1c0002row0_col0\" class=\"data row0 col0\" >0</td>\n",
              "                        <td id=\"T_248d665e_291e_11eb_96da_0242ac1c0002row0_col1\" class=\"data row0 col1\" >1</td>\n",
              "                        <td id=\"T_248d665e_291e_11eb_96da_0242ac1c0002row0_col2\" class=\"data row0 col2\" >0</td>\n",
              "                        <td id=\"T_248d665e_291e_11eb_96da_0242ac1c0002row0_col3\" class=\"data row0 col3\" >0</td>\n",
              "                        <td id=\"T_248d665e_291e_11eb_96da_0242ac1c0002row0_col4\" class=\"data row0 col4\" >0</td>\n",
              "                        <td id=\"T_248d665e_291e_11eb_96da_0242ac1c0002row0_col5\" class=\"data row0 col5\" >0</td>\n",
              "                        <td id=\"T_248d665e_291e_11eb_96da_0242ac1c0002row0_col6\" class=\"data row0 col6\" >0</td>\n",
              "                        <td id=\"T_248d665e_291e_11eb_96da_0242ac1c0002row0_col7\" class=\"data row0 col7\" >1</td>\n",
              "                        <td id=\"T_248d665e_291e_11eb_96da_0242ac1c0002row0_col8\" class=\"data row0 col8\" >0</td>\n",
              "                        <td id=\"T_248d665e_291e_11eb_96da_0242ac1c0002row0_col9\" class=\"data row0 col9\" >0</td>\n",
              "            </tr>\n",
              "            <tr>\n",
              "                        <th id=\"T_248d665e_291e_11eb_96da_0242ac1c0002level0_row1\" class=\"row_heading level0 row1\" >1728</th>\n",
              "                        <td id=\"T_248d665e_291e_11eb_96da_0242ac1c0002row1_col0\" class=\"data row1 col0\" >0</td>\n",
              "                        <td id=\"T_248d665e_291e_11eb_96da_0242ac1c0002row1_col1\" class=\"data row1 col1\" >1</td>\n",
              "                        <td id=\"T_248d665e_291e_11eb_96da_0242ac1c0002row1_col2\" class=\"data row1 col2\" >1</td>\n",
              "                        <td id=\"T_248d665e_291e_11eb_96da_0242ac1c0002row1_col3\" class=\"data row1 col3\" >0</td>\n",
              "                        <td id=\"T_248d665e_291e_11eb_96da_0242ac1c0002row1_col4\" class=\"data row1 col4\" >0</td>\n",
              "                        <td id=\"T_248d665e_291e_11eb_96da_0242ac1c0002row1_col5\" class=\"data row1 col5\" >0</td>\n",
              "                        <td id=\"T_248d665e_291e_11eb_96da_0242ac1c0002row1_col6\" class=\"data row1 col6\" >0</td>\n",
              "                        <td id=\"T_248d665e_291e_11eb_96da_0242ac1c0002row1_col7\" class=\"data row1 col7\" >0</td>\n",
              "                        <td id=\"T_248d665e_291e_11eb_96da_0242ac1c0002row1_col8\" class=\"data row1 col8\" >1</td>\n",
              "                        <td id=\"T_248d665e_291e_11eb_96da_0242ac1c0002row1_col9\" class=\"data row1 col9\" >0</td>\n",
              "            </tr>\n",
              "    </tbody></table>"
            ],
            "text/plain": [
              "<pandas.io.formats.style.Styler at 0x7efddae05550>"
            ]
          },
          "metadata": {
            "tags": []
          },
          "execution_count": 6
        }
      ]
    },
    {
      "cell_type": "code",
      "metadata": {
        "colab": {
          "base_uri": "https://localhost:8080/",
          "height": 847
        },
        "id": "RH90GRh--81k",
        "outputId": "4fb2ec60-2523-47ec-9c41-b0d6f9b702d7"
      },
      "source": [
        "#clusters\n",
        "clusters = kmedoids_instance.get_clusters()\n",
        "\n",
        "stress['cluster'] = 0\n",
        "for i in range(len(clusters)):\n",
        "  stress.loc[clusters[i], 'cluster'] = i\n",
        "\n",
        "stress"
      ],
      "execution_count": 7,
      "outputs": [
        {
          "output_type": "stream",
          "text": [
            "/usr/local/lib/python3.6/dist-packages/ipykernel_launcher.py:4: SettingWithCopyWarning: \n",
            "A value is trying to be set on a copy of a slice from a DataFrame.\n",
            "Try using .loc[row_indexer,col_indexer] = value instead\n",
            "\n",
            "See the caveats in the documentation: https://pandas.pydata.org/pandas-docs/stable/user_guide/indexing.html#returning-a-view-versus-a-copy\n",
            "  after removing the cwd from sys.path.\n",
            "/usr/local/lib/python3.6/dist-packages/pandas/core/indexing.py:670: SettingWithCopyWarning: \n",
            "A value is trying to be set on a copy of a slice from a DataFrame\n",
            "\n",
            "See the caveats in the documentation: https://pandas.pydata.org/pandas-docs/stable/user_guide/indexing.html#returning-a-view-versus-a-copy\n",
            "  iloc._setitem_with_indexer(indexer, value)\n",
            "/usr/local/lib/python3.6/dist-packages/ipykernel_launcher.py:6: SettingWithCopyWarning: \n",
            "A value is trying to be set on a copy of a slice from a DataFrame\n",
            "\n",
            "See the caveats in the documentation: https://pandas.pydata.org/pandas-docs/stable/user_guide/indexing.html#returning-a-view-versus-a-copy\n",
            "  \n"
          ],
          "name": "stderr"
        },
        {
          "output_type": "execute_result",
          "data": {
            "text/html": [
              "<div>\n",
              "<style scoped>\n",
              "    .dataframe tbody tr th:only-of-type {\n",
              "        vertical-align: middle;\n",
              "    }\n",
              "\n",
              "    .dataframe tbody tr th {\n",
              "        vertical-align: top;\n",
              "    }\n",
              "\n",
              "    .dataframe thead th {\n",
              "        text-align: right;\n",
              "    }\n",
              "</style>\n",
              "<table border=\"1\" class=\"dataframe\">\n",
              "  <thead>\n",
              "    <tr style=\"text-align: right;\">\n",
              "      <th></th>\n",
              "      <th>Q5-Stressed about Adjustment issues</th>\n",
              "      <th>Q5-Stressed about Academic issues</th>\n",
              "      <th>Q5-Stressed about Financial issues</th>\n",
              "      <th>Q5-Stressed about Family issues</th>\n",
              "      <th>Q5-Stressed about Friendships</th>\n",
              "      <th>Q5-Stressed about Romantic relationships</th>\n",
              "      <th>Q5-Stressed about  Health related issues</th>\n",
              "      <th>Q5-Stressed about Career related issues</th>\n",
              "      <th>Q5-Stressed about My involvement in hostel, clubs, societies, interest groups, etc.</th>\n",
              "      <th>Q5-Stressed about Others</th>\n",
              "      <th>cluster</th>\n",
              "    </tr>\n",
              "  </thead>\n",
              "  <tbody>\n",
              "    <tr>\n",
              "      <th>0</th>\n",
              "      <td>0</td>\n",
              "      <td>1</td>\n",
              "      <td>0</td>\n",
              "      <td>0</td>\n",
              "      <td>0</td>\n",
              "      <td>0</td>\n",
              "      <td>0</td>\n",
              "      <td>0</td>\n",
              "      <td>0</td>\n",
              "      <td>0</td>\n",
              "      <td>0</td>\n",
              "    </tr>\n",
              "    <tr>\n",
              "      <th>1</th>\n",
              "      <td>0</td>\n",
              "      <td>1</td>\n",
              "      <td>0</td>\n",
              "      <td>0</td>\n",
              "      <td>0</td>\n",
              "      <td>0</td>\n",
              "      <td>0</td>\n",
              "      <td>0</td>\n",
              "      <td>0</td>\n",
              "      <td>0</td>\n",
              "      <td>0</td>\n",
              "    </tr>\n",
              "    <tr>\n",
              "      <th>2</th>\n",
              "      <td>0</td>\n",
              "      <td>1</td>\n",
              "      <td>0</td>\n",
              "      <td>0</td>\n",
              "      <td>0</td>\n",
              "      <td>0</td>\n",
              "      <td>0</td>\n",
              "      <td>1</td>\n",
              "      <td>0</td>\n",
              "      <td>0</td>\n",
              "      <td>0</td>\n",
              "    </tr>\n",
              "    <tr>\n",
              "      <th>3</th>\n",
              "      <td>1</td>\n",
              "      <td>1</td>\n",
              "      <td>0</td>\n",
              "      <td>1</td>\n",
              "      <td>1</td>\n",
              "      <td>1</td>\n",
              "      <td>1</td>\n",
              "      <td>0</td>\n",
              "      <td>1</td>\n",
              "      <td>0</td>\n",
              "      <td>1</td>\n",
              "    </tr>\n",
              "    <tr>\n",
              "      <th>4</th>\n",
              "      <td>0</td>\n",
              "      <td>1</td>\n",
              "      <td>1</td>\n",
              "      <td>0</td>\n",
              "      <td>1</td>\n",
              "      <td>0</td>\n",
              "      <td>0</td>\n",
              "      <td>0</td>\n",
              "      <td>1</td>\n",
              "      <td>0</td>\n",
              "      <td>1</td>\n",
              "    </tr>\n",
              "    <tr>\n",
              "      <th>...</th>\n",
              "      <td>...</td>\n",
              "      <td>...</td>\n",
              "      <td>...</td>\n",
              "      <td>...</td>\n",
              "      <td>...</td>\n",
              "      <td>...</td>\n",
              "      <td>...</td>\n",
              "      <td>...</td>\n",
              "      <td>...</td>\n",
              "      <td>...</td>\n",
              "      <td>...</td>\n",
              "    </tr>\n",
              "    <tr>\n",
              "      <th>2953</th>\n",
              "      <td>0</td>\n",
              "      <td>1</td>\n",
              "      <td>1</td>\n",
              "      <td>0</td>\n",
              "      <td>0</td>\n",
              "      <td>1</td>\n",
              "      <td>0</td>\n",
              "      <td>0</td>\n",
              "      <td>0</td>\n",
              "      <td>0</td>\n",
              "      <td>1</td>\n",
              "    </tr>\n",
              "    <tr>\n",
              "      <th>2954</th>\n",
              "      <td>0</td>\n",
              "      <td>1</td>\n",
              "      <td>0</td>\n",
              "      <td>0</td>\n",
              "      <td>0</td>\n",
              "      <td>0</td>\n",
              "      <td>0</td>\n",
              "      <td>0</td>\n",
              "      <td>0</td>\n",
              "      <td>0</td>\n",
              "      <td>0</td>\n",
              "    </tr>\n",
              "    <tr>\n",
              "      <th>2955</th>\n",
              "      <td>0</td>\n",
              "      <td>1</td>\n",
              "      <td>0</td>\n",
              "      <td>0</td>\n",
              "      <td>0</td>\n",
              "      <td>0</td>\n",
              "      <td>0</td>\n",
              "      <td>0</td>\n",
              "      <td>0</td>\n",
              "      <td>0</td>\n",
              "      <td>0</td>\n",
              "    </tr>\n",
              "    <tr>\n",
              "      <th>2956</th>\n",
              "      <td>0</td>\n",
              "      <td>1</td>\n",
              "      <td>0</td>\n",
              "      <td>0</td>\n",
              "      <td>0</td>\n",
              "      <td>0</td>\n",
              "      <td>1</td>\n",
              "      <td>1</td>\n",
              "      <td>0</td>\n",
              "      <td>0</td>\n",
              "      <td>0</td>\n",
              "    </tr>\n",
              "    <tr>\n",
              "      <th>2957</th>\n",
              "      <td>0</td>\n",
              "      <td>1</td>\n",
              "      <td>1</td>\n",
              "      <td>0</td>\n",
              "      <td>0</td>\n",
              "      <td>0</td>\n",
              "      <td>0</td>\n",
              "      <td>1</td>\n",
              "      <td>0</td>\n",
              "      <td>0</td>\n",
              "      <td>0</td>\n",
              "    </tr>\n",
              "  </tbody>\n",
              "</table>\n",
              "<p>2958 rows × 11 columns</p>\n",
              "</div>"
            ],
            "text/plain": [
              "      Q5-Stressed about Adjustment issues  ...  cluster\n",
              "0                                       0  ...        0\n",
              "1                                       0  ...        0\n",
              "2                                       0  ...        0\n",
              "3                                       1  ...        1\n",
              "4                                       0  ...        1\n",
              "...                                   ...  ...      ...\n",
              "2953                                    0  ...        1\n",
              "2954                                    0  ...        0\n",
              "2955                                    0  ...        0\n",
              "2956                                    0  ...        0\n",
              "2957                                    0  ...        0\n",
              "\n",
              "[2958 rows x 11 columns]"
            ]
          },
          "metadata": {
            "tags": []
          },
          "execution_count": 7
        }
      ]
    },
    {
      "cell_type": "code",
      "metadata": {
        "colab": {
          "base_uri": "https://localhost:8080/"
        },
        "id": "5UMTlKINKPC-",
        "outputId": "118897c2-8abf-4d79-8b10-8210bad488fc"
      },
      "source": [
        "stress['cluster'].value_counts()"
      ],
      "execution_count": 8,
      "outputs": [
        {
          "output_type": "execute_result",
          "data": {
            "text/plain": [
              "0    1951\n",
              "1    1007\n",
              "Name: cluster, dtype: int64"
            ]
          },
          "metadata": {
            "tags": []
          },
          "execution_count": 8
        }
      ]
    },
    {
      "cell_type": "markdown",
      "metadata": {
        "id": "H0tWAoZAC4Xn"
      },
      "source": [
        "If you run the previous cell a few times, you'll probably notice that the medoids are very sensitive to initialization. A common approach to produce well-separated clusters is to choose initial medoids that are far apart. Re-run the previous process, except with a random pair of medoids that have a dissimilarity of 0.8 or higher. Are the results more stable now? How would you describe the typical clusters you see?"
      ]
    },
    {
      "cell_type": "code",
      "metadata": {
        "id": "M9IsvTp3C4Xo"
      },
      "source": [
        "# answer goes here\n",
        "#turn previous array to df\n",
        "ham_dist = pd.DataFrame(squareform(matrix), index=stress.index, columns=stress.index)\n",
        "\n",
        "#use melt\n",
        "ham_dist['id'] = ham_dist.index\n",
        "sim_melted = pd.melt(ham_dist, id_vars=['id'], value_vars=ham_dist.columns[ham_dist.columns != 'id'])\n",
        "sim_melted.columns = ['response_id_1', 'response_id_2', 'dissimilarity']"
      ],
      "execution_count": 9,
      "outputs": []
    },
    {
      "cell_type": "code",
      "metadata": {
        "colab": {
          "base_uri": "https://localhost:8080/",
          "height": 419
        },
        "id": "uq2qayfKDILM",
        "outputId": "40aa7df9-aafb-4eac-fece-3575905293ff"
      },
      "source": [
        "#look for dissimilarity of 0.8 or >\n",
        "dissim_high = sim_melted.loc[lambda x: x['dissimilarity'] >= 0.8]\n",
        "dissim_high"
      ],
      "execution_count": 10,
      "outputs": [
        {
          "output_type": "execute_result",
          "data": {
            "text/html": [
              "<div>\n",
              "<style scoped>\n",
              "    .dataframe tbody tr th:only-of-type {\n",
              "        vertical-align: middle;\n",
              "    }\n",
              "\n",
              "    .dataframe tbody tr th {\n",
              "        vertical-align: top;\n",
              "    }\n",
              "\n",
              "    .dataframe thead th {\n",
              "        text-align: right;\n",
              "    }\n",
              "</style>\n",
              "<table border=\"1\" class=\"dataframe\">\n",
              "  <thead>\n",
              "    <tr style=\"text-align: right;\">\n",
              "      <th></th>\n",
              "      <th>response_id_1</th>\n",
              "      <th>response_id_2</th>\n",
              "      <th>dissimilarity</th>\n",
              "    </tr>\n",
              "  </thead>\n",
              "  <tbody>\n",
              "    <tr>\n",
              "      <th>245</th>\n",
              "      <td>245</td>\n",
              "      <td>0</td>\n",
              "      <td>0.8</td>\n",
              "    </tr>\n",
              "    <tr>\n",
              "      <th>263</th>\n",
              "      <td>263</td>\n",
              "      <td>0</td>\n",
              "      <td>0.8</td>\n",
              "    </tr>\n",
              "    <tr>\n",
              "      <th>496</th>\n",
              "      <td>496</td>\n",
              "      <td>0</td>\n",
              "      <td>0.8</td>\n",
              "    </tr>\n",
              "    <tr>\n",
              "      <th>752</th>\n",
              "      <td>752</td>\n",
              "      <td>0</td>\n",
              "      <td>0.8</td>\n",
              "    </tr>\n",
              "    <tr>\n",
              "      <th>812</th>\n",
              "      <td>812</td>\n",
              "      <td>0</td>\n",
              "      <td>0.8</td>\n",
              "    </tr>\n",
              "    <tr>\n",
              "      <th>...</th>\n",
              "      <td>...</td>\n",
              "      <td>...</td>\n",
              "      <td>...</td>\n",
              "    </tr>\n",
              "    <tr>\n",
              "      <th>8743789</th>\n",
              "      <td>2899</td>\n",
              "      <td>2955</td>\n",
              "      <td>0.8</td>\n",
              "    </tr>\n",
              "    <tr>\n",
              "      <th>8744952</th>\n",
              "      <td>1104</td>\n",
              "      <td>2956</td>\n",
              "      <td>0.8</td>\n",
              "    </tr>\n",
              "    <tr>\n",
              "      <th>8745581</th>\n",
              "      <td>1733</td>\n",
              "      <td>2956</td>\n",
              "      <td>0.8</td>\n",
              "    </tr>\n",
              "    <tr>\n",
              "      <th>8746809</th>\n",
              "      <td>3</td>\n",
              "      <td>2957</td>\n",
              "      <td>0.8</td>\n",
              "    </tr>\n",
              "    <tr>\n",
              "      <th>8747948</th>\n",
              "      <td>1142</td>\n",
              "      <td>2957</td>\n",
              "      <td>0.8</td>\n",
              "    </tr>\n",
              "  </tbody>\n",
              "</table>\n",
              "<p>42828 rows × 3 columns</p>\n",
              "</div>"
            ],
            "text/plain": [
              "         response_id_1 response_id_2  dissimilarity\n",
              "245                245             0            0.8\n",
              "263                263             0            0.8\n",
              "496                496             0            0.8\n",
              "752                752             0            0.8\n",
              "812                812             0            0.8\n",
              "...                ...           ...            ...\n",
              "8743789           2899          2955            0.8\n",
              "8744952           1104          2956            0.8\n",
              "8745581           1733          2956            0.8\n",
              "8746809              3          2957            0.8\n",
              "8747948           1142          2957            0.8\n",
              "\n",
              "[42828 rows x 3 columns]"
            ]
          },
          "metadata": {
            "tags": []
          },
          "execution_count": 10
        }
      ]
    },
    {
      "cell_type": "code",
      "metadata": {
        "colab": {
          "base_uri": "https://localhost:8080/",
          "height": 80
        },
        "id": "CvdOHKHMDKJz",
        "outputId": "1ee140d1-8d91-4ae3-d25c-c9e7527cd33a"
      },
      "source": [
        "#finding random pair for analysis\n",
        "sample = dissim_high.sample(1)\n",
        "sample "
      ],
      "execution_count": 11,
      "outputs": [
        {
          "output_type": "execute_result",
          "data": {
            "text/html": [
              "<div>\n",
              "<style scoped>\n",
              "    .dataframe tbody tr th:only-of-type {\n",
              "        vertical-align: middle;\n",
              "    }\n",
              "\n",
              "    .dataframe tbody tr th {\n",
              "        vertical-align: top;\n",
              "    }\n",
              "\n",
              "    .dataframe thead th {\n",
              "        text-align: right;\n",
              "    }\n",
              "</style>\n",
              "<table border=\"1\" class=\"dataframe\">\n",
              "  <thead>\n",
              "    <tr style=\"text-align: right;\">\n",
              "      <th></th>\n",
              "      <th>response_id_1</th>\n",
              "      <th>response_id_2</th>\n",
              "      <th>dissimilarity</th>\n",
              "    </tr>\n",
              "  </thead>\n",
              "  <tbody>\n",
              "    <tr>\n",
              "      <th>7081937</th>\n",
              "      <td>485</td>\n",
              "      <td>2394</td>\n",
              "      <td>0.8</td>\n",
              "    </tr>\n",
              "  </tbody>\n",
              "</table>\n",
              "</div>"
            ],
            "text/plain": [
              "         response_id_1 response_id_2  dissimilarity\n",
              "7081937            485          2394            0.8"
            ]
          },
          "metadata": {
            "tags": []
          },
          "execution_count": 11
        }
      ]
    },
    {
      "cell_type": "code",
      "metadata": {
        "colab": {
          "base_uri": "https://localhost:8080/"
        },
        "id": "NdeEVr6MJaKp",
        "outputId": "9924dfec-c61c-4e51-985f-f301591963ff"
      },
      "source": [
        "sample.response_id_1.values[0], sample.response_id_2.values[0]"
      ],
      "execution_count": 12,
      "outputs": [
        {
          "output_type": "execute_result",
          "data": {
            "text/plain": [
              "(485, 2394)"
            ]
          },
          "metadata": {
            "tags": []
          },
          "execution_count": 12
        }
      ]
    },
    {
      "cell_type": "code",
      "metadata": {
        "colab": {
          "base_uri": "https://localhost:8080/",
          "height": 150
        },
        "id": "mJq-3yh3EJVd",
        "outputId": "25e8f17e-87cc-4c9b-c6e1-bc54c445df56"
      },
      "source": [
        "initial_medoids = [sample.response_id_1.values[0], sample.response_id_2.values[0]]\n",
        "\n",
        "kmedoids_instance = kmedoids(hamming, initial_medoids, data_type='distance_matrix')\n",
        "\n",
        "#fitting\n",
        "kmedoids_instance.process()\n",
        "\n",
        "#medoids\n",
        "medoids = kmedoids_instance.get_medoids()\n",
        "stress.loc[medoids].style.background_gradient()"
      ],
      "execution_count": 13,
      "outputs": [
        {
          "output_type": "execute_result",
          "data": {
            "text/html": [
              "<style  type=\"text/css\" >\n",
              "#T_269a2798_291e_11eb_96da_0242ac1c0002row0_col0,#T_269a2798_291e_11eb_96da_0242ac1c0002row0_col1,#T_269a2798_291e_11eb_96da_0242ac1c0002row0_col2,#T_269a2798_291e_11eb_96da_0242ac1c0002row0_col3,#T_269a2798_291e_11eb_96da_0242ac1c0002row0_col4,#T_269a2798_291e_11eb_96da_0242ac1c0002row0_col5,#T_269a2798_291e_11eb_96da_0242ac1c0002row0_col6,#T_269a2798_291e_11eb_96da_0242ac1c0002row0_col7,#T_269a2798_291e_11eb_96da_0242ac1c0002row0_col8,#T_269a2798_291e_11eb_96da_0242ac1c0002row0_col9,#T_269a2798_291e_11eb_96da_0242ac1c0002row0_col10,#T_269a2798_291e_11eb_96da_0242ac1c0002row1_col1,#T_269a2798_291e_11eb_96da_0242ac1c0002row1_col3,#T_269a2798_291e_11eb_96da_0242ac1c0002row1_col6,#T_269a2798_291e_11eb_96da_0242ac1c0002row1_col9{\n",
              "            background-color:  #fff7fb;\n",
              "            color:  #000000;\n",
              "        }#T_269a2798_291e_11eb_96da_0242ac1c0002row1_col0,#T_269a2798_291e_11eb_96da_0242ac1c0002row1_col2,#T_269a2798_291e_11eb_96da_0242ac1c0002row1_col4,#T_269a2798_291e_11eb_96da_0242ac1c0002row1_col5,#T_269a2798_291e_11eb_96da_0242ac1c0002row1_col7,#T_269a2798_291e_11eb_96da_0242ac1c0002row1_col8,#T_269a2798_291e_11eb_96da_0242ac1c0002row1_col10{\n",
              "            background-color:  #023858;\n",
              "            color:  #f1f1f1;\n",
              "        }</style><table id=\"T_269a2798_291e_11eb_96da_0242ac1c0002\" ><thead>    <tr>        <th class=\"blank level0\" ></th>        <th class=\"col_heading level0 col0\" >Q5-Stressed about Adjustment issues</th>        <th class=\"col_heading level0 col1\" >Q5-Stressed about Academic issues</th>        <th class=\"col_heading level0 col2\" >Q5-Stressed about Financial issues</th>        <th class=\"col_heading level0 col3\" >Q5-Stressed about Family issues</th>        <th class=\"col_heading level0 col4\" >Q5-Stressed about Friendships</th>        <th class=\"col_heading level0 col5\" >Q5-Stressed about Romantic relationships</th>        <th class=\"col_heading level0 col6\" >Q5-Stressed about  Health related issues</th>        <th class=\"col_heading level0 col7\" >Q5-Stressed about Career related issues</th>        <th class=\"col_heading level0 col8\" >Q5-Stressed about My involvement in hostel, clubs, societies, interest groups, etc.</th>        <th class=\"col_heading level0 col9\" >Q5-Stressed about Others</th>        <th class=\"col_heading level0 col10\" >cluster</th>    </tr></thead><tbody>\n",
              "                <tr>\n",
              "                        <th id=\"T_269a2798_291e_11eb_96da_0242ac1c0002level0_row0\" class=\"row_heading level0 row0\" >0</th>\n",
              "                        <td id=\"T_269a2798_291e_11eb_96da_0242ac1c0002row0_col0\" class=\"data row0 col0\" >0</td>\n",
              "                        <td id=\"T_269a2798_291e_11eb_96da_0242ac1c0002row0_col1\" class=\"data row0 col1\" >1</td>\n",
              "                        <td id=\"T_269a2798_291e_11eb_96da_0242ac1c0002row0_col2\" class=\"data row0 col2\" >0</td>\n",
              "                        <td id=\"T_269a2798_291e_11eb_96da_0242ac1c0002row0_col3\" class=\"data row0 col3\" >0</td>\n",
              "                        <td id=\"T_269a2798_291e_11eb_96da_0242ac1c0002row0_col4\" class=\"data row0 col4\" >0</td>\n",
              "                        <td id=\"T_269a2798_291e_11eb_96da_0242ac1c0002row0_col5\" class=\"data row0 col5\" >0</td>\n",
              "                        <td id=\"T_269a2798_291e_11eb_96da_0242ac1c0002row0_col6\" class=\"data row0 col6\" >0</td>\n",
              "                        <td id=\"T_269a2798_291e_11eb_96da_0242ac1c0002row0_col7\" class=\"data row0 col7\" >0</td>\n",
              "                        <td id=\"T_269a2798_291e_11eb_96da_0242ac1c0002row0_col8\" class=\"data row0 col8\" >0</td>\n",
              "                        <td id=\"T_269a2798_291e_11eb_96da_0242ac1c0002row0_col9\" class=\"data row0 col9\" >0</td>\n",
              "                        <td id=\"T_269a2798_291e_11eb_96da_0242ac1c0002row0_col10\" class=\"data row0 col10\" >0</td>\n",
              "            </tr>\n",
              "            <tr>\n",
              "                        <th id=\"T_269a2798_291e_11eb_96da_0242ac1c0002level0_row1\" class=\"row_heading level0 row1\" >634</th>\n",
              "                        <td id=\"T_269a2798_291e_11eb_96da_0242ac1c0002row1_col0\" class=\"data row1 col0\" >1</td>\n",
              "                        <td id=\"T_269a2798_291e_11eb_96da_0242ac1c0002row1_col1\" class=\"data row1 col1\" >1</td>\n",
              "                        <td id=\"T_269a2798_291e_11eb_96da_0242ac1c0002row1_col2\" class=\"data row1 col2\" >1</td>\n",
              "                        <td id=\"T_269a2798_291e_11eb_96da_0242ac1c0002row1_col3\" class=\"data row1 col3\" >0</td>\n",
              "                        <td id=\"T_269a2798_291e_11eb_96da_0242ac1c0002row1_col4\" class=\"data row1 col4\" >1</td>\n",
              "                        <td id=\"T_269a2798_291e_11eb_96da_0242ac1c0002row1_col5\" class=\"data row1 col5\" >1</td>\n",
              "                        <td id=\"T_269a2798_291e_11eb_96da_0242ac1c0002row1_col6\" class=\"data row1 col6\" >0</td>\n",
              "                        <td id=\"T_269a2798_291e_11eb_96da_0242ac1c0002row1_col7\" class=\"data row1 col7\" >1</td>\n",
              "                        <td id=\"T_269a2798_291e_11eb_96da_0242ac1c0002row1_col8\" class=\"data row1 col8\" >1</td>\n",
              "                        <td id=\"T_269a2798_291e_11eb_96da_0242ac1c0002row1_col9\" class=\"data row1 col9\" >0</td>\n",
              "                        <td id=\"T_269a2798_291e_11eb_96da_0242ac1c0002row1_col10\" class=\"data row1 col10\" >1</td>\n",
              "            </tr>\n",
              "    </tbody></table>"
            ],
            "text/plain": [
              "<pandas.io.formats.style.Styler at 0x7efdd94d2198>"
            ]
          },
          "metadata": {
            "tags": []
          },
          "execution_count": 13
        }
      ]
    },
    {
      "cell_type": "markdown",
      "metadata": {
        "id": "IuqKm3VFJN_l"
      },
      "source": [
        "*Are the results more stable now? How would you describe the typical clusters you see?*\n",
        "\n",
        "I ran the cells a couple of times so my results were different every time. According to this result, it seems that the value counts (shown below) are extremely mismatched compared to the counts when I did not use a sample from dissimilarity >= 0.8. Although the counts are not even the sample version seems to show for the second cluster more answers (more 1's) than in the first cluster. "
      ]
    },
    {
      "cell_type": "code",
      "metadata": {
        "colab": {
          "base_uri": "https://localhost:8080/",
          "height": 847
        },
        "id": "Cmjd1JpaI3kQ",
        "outputId": "537a4f94-0c4b-410b-a431-fdb6eec0a9bf"
      },
      "source": [
        "#clusters\n",
        "clusters = kmedoids_instance.get_clusters()\n",
        "\n",
        "stress['cluster'] = 0\n",
        "for i in range(len(clusters)):\n",
        "  stress.loc[clusters[i], 'cluster'] = i\n",
        "\n",
        "stress"
      ],
      "execution_count": 14,
      "outputs": [
        {
          "output_type": "stream",
          "text": [
            "/usr/local/lib/python3.6/dist-packages/ipykernel_launcher.py:4: SettingWithCopyWarning: \n",
            "A value is trying to be set on a copy of a slice from a DataFrame.\n",
            "Try using .loc[row_indexer,col_indexer] = value instead\n",
            "\n",
            "See the caveats in the documentation: https://pandas.pydata.org/pandas-docs/stable/user_guide/indexing.html#returning-a-view-versus-a-copy\n",
            "  after removing the cwd from sys.path.\n",
            "/usr/local/lib/python3.6/dist-packages/pandas/core/indexing.py:670: SettingWithCopyWarning: \n",
            "A value is trying to be set on a copy of a slice from a DataFrame\n",
            "\n",
            "See the caveats in the documentation: https://pandas.pydata.org/pandas-docs/stable/user_guide/indexing.html#returning-a-view-versus-a-copy\n",
            "  iloc._setitem_with_indexer(indexer, value)\n",
            "/usr/local/lib/python3.6/dist-packages/ipykernel_launcher.py:6: SettingWithCopyWarning: \n",
            "A value is trying to be set on a copy of a slice from a DataFrame\n",
            "\n",
            "See the caveats in the documentation: https://pandas.pydata.org/pandas-docs/stable/user_guide/indexing.html#returning-a-view-versus-a-copy\n",
            "  \n"
          ],
          "name": "stderr"
        },
        {
          "output_type": "execute_result",
          "data": {
            "text/html": [
              "<div>\n",
              "<style scoped>\n",
              "    .dataframe tbody tr th:only-of-type {\n",
              "        vertical-align: middle;\n",
              "    }\n",
              "\n",
              "    .dataframe tbody tr th {\n",
              "        vertical-align: top;\n",
              "    }\n",
              "\n",
              "    .dataframe thead th {\n",
              "        text-align: right;\n",
              "    }\n",
              "</style>\n",
              "<table border=\"1\" class=\"dataframe\">\n",
              "  <thead>\n",
              "    <tr style=\"text-align: right;\">\n",
              "      <th></th>\n",
              "      <th>Q5-Stressed about Adjustment issues</th>\n",
              "      <th>Q5-Stressed about Academic issues</th>\n",
              "      <th>Q5-Stressed about Financial issues</th>\n",
              "      <th>Q5-Stressed about Family issues</th>\n",
              "      <th>Q5-Stressed about Friendships</th>\n",
              "      <th>Q5-Stressed about Romantic relationships</th>\n",
              "      <th>Q5-Stressed about  Health related issues</th>\n",
              "      <th>Q5-Stressed about Career related issues</th>\n",
              "      <th>Q5-Stressed about My involvement in hostel, clubs, societies, interest groups, etc.</th>\n",
              "      <th>Q5-Stressed about Others</th>\n",
              "      <th>cluster</th>\n",
              "    </tr>\n",
              "  </thead>\n",
              "  <tbody>\n",
              "    <tr>\n",
              "      <th>0</th>\n",
              "      <td>0</td>\n",
              "      <td>1</td>\n",
              "      <td>0</td>\n",
              "      <td>0</td>\n",
              "      <td>0</td>\n",
              "      <td>0</td>\n",
              "      <td>0</td>\n",
              "      <td>0</td>\n",
              "      <td>0</td>\n",
              "      <td>0</td>\n",
              "      <td>0</td>\n",
              "    </tr>\n",
              "    <tr>\n",
              "      <th>1</th>\n",
              "      <td>0</td>\n",
              "      <td>1</td>\n",
              "      <td>0</td>\n",
              "      <td>0</td>\n",
              "      <td>0</td>\n",
              "      <td>0</td>\n",
              "      <td>0</td>\n",
              "      <td>0</td>\n",
              "      <td>0</td>\n",
              "      <td>0</td>\n",
              "      <td>0</td>\n",
              "    </tr>\n",
              "    <tr>\n",
              "      <th>2</th>\n",
              "      <td>0</td>\n",
              "      <td>1</td>\n",
              "      <td>0</td>\n",
              "      <td>0</td>\n",
              "      <td>0</td>\n",
              "      <td>0</td>\n",
              "      <td>0</td>\n",
              "      <td>1</td>\n",
              "      <td>0</td>\n",
              "      <td>0</td>\n",
              "      <td>0</td>\n",
              "    </tr>\n",
              "    <tr>\n",
              "      <th>3</th>\n",
              "      <td>1</td>\n",
              "      <td>1</td>\n",
              "      <td>0</td>\n",
              "      <td>1</td>\n",
              "      <td>1</td>\n",
              "      <td>1</td>\n",
              "      <td>1</td>\n",
              "      <td>0</td>\n",
              "      <td>1</td>\n",
              "      <td>0</td>\n",
              "      <td>1</td>\n",
              "    </tr>\n",
              "    <tr>\n",
              "      <th>4</th>\n",
              "      <td>0</td>\n",
              "      <td>1</td>\n",
              "      <td>1</td>\n",
              "      <td>0</td>\n",
              "      <td>1</td>\n",
              "      <td>0</td>\n",
              "      <td>0</td>\n",
              "      <td>0</td>\n",
              "      <td>1</td>\n",
              "      <td>0</td>\n",
              "      <td>0</td>\n",
              "    </tr>\n",
              "    <tr>\n",
              "      <th>...</th>\n",
              "      <td>...</td>\n",
              "      <td>...</td>\n",
              "      <td>...</td>\n",
              "      <td>...</td>\n",
              "      <td>...</td>\n",
              "      <td>...</td>\n",
              "      <td>...</td>\n",
              "      <td>...</td>\n",
              "      <td>...</td>\n",
              "      <td>...</td>\n",
              "      <td>...</td>\n",
              "    </tr>\n",
              "    <tr>\n",
              "      <th>2953</th>\n",
              "      <td>0</td>\n",
              "      <td>1</td>\n",
              "      <td>1</td>\n",
              "      <td>0</td>\n",
              "      <td>0</td>\n",
              "      <td>1</td>\n",
              "      <td>0</td>\n",
              "      <td>0</td>\n",
              "      <td>0</td>\n",
              "      <td>0</td>\n",
              "      <td>0</td>\n",
              "    </tr>\n",
              "    <tr>\n",
              "      <th>2954</th>\n",
              "      <td>0</td>\n",
              "      <td>1</td>\n",
              "      <td>0</td>\n",
              "      <td>0</td>\n",
              "      <td>0</td>\n",
              "      <td>0</td>\n",
              "      <td>0</td>\n",
              "      <td>0</td>\n",
              "      <td>0</td>\n",
              "      <td>0</td>\n",
              "      <td>0</td>\n",
              "    </tr>\n",
              "    <tr>\n",
              "      <th>2955</th>\n",
              "      <td>0</td>\n",
              "      <td>1</td>\n",
              "      <td>0</td>\n",
              "      <td>0</td>\n",
              "      <td>0</td>\n",
              "      <td>0</td>\n",
              "      <td>0</td>\n",
              "      <td>0</td>\n",
              "      <td>0</td>\n",
              "      <td>0</td>\n",
              "      <td>0</td>\n",
              "    </tr>\n",
              "    <tr>\n",
              "      <th>2956</th>\n",
              "      <td>0</td>\n",
              "      <td>1</td>\n",
              "      <td>0</td>\n",
              "      <td>0</td>\n",
              "      <td>0</td>\n",
              "      <td>0</td>\n",
              "      <td>1</td>\n",
              "      <td>1</td>\n",
              "      <td>0</td>\n",
              "      <td>0</td>\n",
              "      <td>0</td>\n",
              "    </tr>\n",
              "    <tr>\n",
              "      <th>2957</th>\n",
              "      <td>0</td>\n",
              "      <td>1</td>\n",
              "      <td>1</td>\n",
              "      <td>0</td>\n",
              "      <td>0</td>\n",
              "      <td>0</td>\n",
              "      <td>0</td>\n",
              "      <td>1</td>\n",
              "      <td>0</td>\n",
              "      <td>0</td>\n",
              "      <td>0</td>\n",
              "    </tr>\n",
              "  </tbody>\n",
              "</table>\n",
              "<p>2958 rows × 11 columns</p>\n",
              "</div>"
            ],
            "text/plain": [
              "      Q5-Stressed about Adjustment issues  ...  cluster\n",
              "0                                       0  ...        0\n",
              "1                                       0  ...        0\n",
              "2                                       0  ...        0\n",
              "3                                       1  ...        1\n",
              "4                                       0  ...        0\n",
              "...                                   ...  ...      ...\n",
              "2953                                    0  ...        0\n",
              "2954                                    0  ...        0\n",
              "2955                                    0  ...        0\n",
              "2956                                    0  ...        0\n",
              "2957                                    0  ...        0\n",
              "\n",
              "[2958 rows x 11 columns]"
            ]
          },
          "metadata": {
            "tags": []
          },
          "execution_count": 14
        }
      ]
    },
    {
      "cell_type": "code",
      "metadata": {
        "colab": {
          "base_uri": "https://localhost:8080/"
        },
        "id": "IA94yxwLJDSZ",
        "outputId": "85262956-c008-437e-c45d-7d61940f17e0"
      },
      "source": [
        "stress['cluster'].value_counts()"
      ],
      "execution_count": 15,
      "outputs": [
        {
          "output_type": "execute_result",
          "data": {
            "text/plain": [
              "0    2605\n",
              "1     353\n",
              "Name: cluster, dtype: int64"
            ]
          },
          "metadata": {
            "tags": []
          },
          "execution_count": 15
        }
      ]
    },
    {
      "cell_type": "code",
      "metadata": {
        "id": "FSZirTldKIoQ"
      },
      "source": [
        ""
      ],
      "execution_count": 15,
      "outputs": []
    }
  ]
}