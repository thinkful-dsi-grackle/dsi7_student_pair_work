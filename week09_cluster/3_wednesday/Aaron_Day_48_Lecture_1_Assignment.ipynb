{
 "cells": [
  {
   "cell_type": "markdown",
   "metadata": {
    "colab_type": "text",
    "id": "xdL0Yz0D1D_q"
   },
   "source": [
    "## Day 48 Lecture 1 Assignment\n",
    "\n",
    "In this assignment, we will apply hierarchical clustering to a dataset containing the locations of all Starbucks in the U.S.\n",
    "\n",
    "Note: this assignment uses geographical data and maps, which will require the use of two specific packages: haversine and plotly. Both of these can be pip installed."
   ]
  },
  {
   "cell_type": "code",
   "execution_count": 1,
   "metadata": {},
   "outputs": [
    {
     "data": {
      "application/javascript": [
       "\n",
       "            setTimeout(function() {\n",
       "                var nbb_cell_id = 1;\n",
       "                var nbb_unformatted_code = \"%load_ext nb_black\";\n",
       "                var nbb_formatted_code = \"%load_ext nb_black\";\n",
       "                var nbb_cells = Jupyter.notebook.get_cells();\n",
       "                for (var i = 0; i < nbb_cells.length; ++i) {\n",
       "                    if (nbb_cells[i].input_prompt_number == nbb_cell_id) {\n",
       "                        if (nbb_cells[i].get_text() == nbb_unformatted_code) {\n",
       "                             nbb_cells[i].set_text(nbb_formatted_code);\n",
       "                        }\n",
       "                        break;\n",
       "                    }\n",
       "                }\n",
       "            }, 500);\n",
       "            "
      ],
      "text/plain": [
       "<IPython.core.display.Javascript object>"
      ]
     },
     "metadata": {},
     "output_type": "display_data"
    }
   ],
   "source": [
    "%load_ext nb_black"
   ]
  },
  {
   "cell_type": "code",
   "execution_count": 2,
   "metadata": {
    "colab": {},
    "colab_type": "code",
    "id": "OulyiH_C1D_r"
   },
   "outputs": [
    {
     "data": {
      "application/javascript": [
       "\n",
       "            setTimeout(function() {\n",
       "                var nbb_cell_id = 2;\n",
       "                var nbb_unformatted_code = \"%matplotlib inline\\n\\nimport matplotlib.pyplot as plt\\nimport numpy as np\\nimport pandas as pd\\nfrom sklearn.cluster import AgglomerativeClustering\\nfrom scipy.cluster.hierarchy import dendrogram\\nfrom haversine import haversine\\nimport plotly.express as px\";\n",
       "                var nbb_formatted_code = \"%matplotlib inline\\n\\nimport matplotlib.pyplot as plt\\nimport numpy as np\\nimport pandas as pd\\nfrom sklearn.cluster import AgglomerativeClustering\\nfrom scipy.cluster.hierarchy import dendrogram\\nfrom haversine import haversine\\nimport plotly.express as px\";\n",
       "                var nbb_cells = Jupyter.notebook.get_cells();\n",
       "                for (var i = 0; i < nbb_cells.length; ++i) {\n",
       "                    if (nbb_cells[i].input_prompt_number == nbb_cell_id) {\n",
       "                        if (nbb_cells[i].get_text() == nbb_unformatted_code) {\n",
       "                             nbb_cells[i].set_text(nbb_formatted_code);\n",
       "                        }\n",
       "                        break;\n",
       "                    }\n",
       "                }\n",
       "            }, 500);\n",
       "            "
      ],
      "text/plain": [
       "<IPython.core.display.Javascript object>"
      ]
     },
     "metadata": {},
     "output_type": "display_data"
    }
   ],
   "source": [
    "%matplotlib inline\n",
    "\n",
    "import matplotlib.pyplot as plt\n",
    "import numpy as np\n",
    "import pandas as pd\n",
    "from sklearn.cluster import AgglomerativeClustering\n",
    "from scipy.cluster.hierarchy import dendrogram\n",
    "from haversine import haversine\n",
    "import plotly.express as px"
   ]
  },
  {
   "cell_type": "markdown",
   "metadata": {
    "colab_type": "text",
    "id": "NFHYqtgvglMA"
   },
   "source": [
    "Below are some convenience functions for calculating geographical distance matrices using lat-long data and plotting a dendrogram by combining a scikit-learn model with scipy's dendrogram plotting functionality."
   ]
  },
  {
   "cell_type": "code",
   "execution_count": 3,
   "metadata": {
    "colab": {},
    "colab_type": "code",
    "id": "jjPmbcf1glMB"
   },
   "outputs": [
    {
     "data": {
      "application/javascript": [
       "\n",
       "            setTimeout(function() {\n",
       "                var nbb_cell_id = 3;\n",
       "                var nbb_unformatted_code = \"def geo_sim_matrix(df, col_name=\\\"Coordinates\\\"):\\n    \\\"\\\"\\\"\\n    A function that computes a geographical distance matrix (in miles).\\n    Each row in the dataframe should correspond to one location.\\n    In addition, the dataframe must have a column containing the lat-long of each location as a tuple (i.e. (lat, long)).\\n\\n    Parameters:\\n        df (pandas dataframe): an nxm dataframe containing the locations to compute similarities between.\\n        col (string): the name of the column containing the lat-long tuples.\\n\\n    Returns:\\n        distance (pandas dataframe): an nxn distance matrix between the geographical coordinates of each location.\\n    \\\"\\\"\\\"\\n\\n    df = df.copy()\\n    df.reset_index(inplace=True)\\n    haver_vec = np.vectorize(haversine, otypes=[np.float32])\\n    distance = df.groupby(\\\"index\\\").apply(\\n        lambda x: pd.Series(haver_vec(df[col_name], x[col_name]))\\n    )\\n    distance = distance / 1.609344\\n    distance.columns = distance.index\\n\\n    return distance\\n\\n\\ndef plot_dendrogram(model, **kwargs):\\n    \\\"\\\"\\\"\\n    A basic function for plotting a dendrogram. Sourced from the following link:\\n    https://github.com/scikit-learn/scikit-learn/blob/70cf4a676caa2d2dad2e3f6e4478d64bcb0506f7/examples/cluster/plot_hierarchical_clustering_dendrogram.py\\n\\n    Parameters:\\n        model (object of class sklearn.cluster.hierarchical.AgglomerativeClustering): a fitted scikit-learn hierarchical clustering model.\\n\\n    Output: a dendrogram based on the model based in the parameters.\\n\\n    Returns: N/A\\n    \\\"\\\"\\\"\\n    # Children of hierarchical clustering\\n    children = model.children_\\n\\n    # Distances between each pair of children\\n    # Since we don't have this information, we can use a uniform one for plotting\\n    distance = np.arange(children.shape[0])\\n\\n    # The number of observations contained in each cluster level\\n    no_of_observations = np.arange(2, children.shape[0] + 2)\\n\\n    # Create linkage matrix and then plot the dendrogram\\n    linkage_matrix = np.column_stack([children, distance, no_of_observations]).astype(\\n        float\\n    )\\n\\n    # Plot the corresponding dendrogram\\n    dendrogram(linkage_matrix, **kwargs)\";\n",
       "                var nbb_formatted_code = \"def geo_sim_matrix(df, col_name=\\\"Coordinates\\\"):\\n    \\\"\\\"\\\"\\n    A function that computes a geographical distance matrix (in miles).\\n    Each row in the dataframe should correspond to one location.\\n    In addition, the dataframe must have a column containing the lat-long of each location as a tuple (i.e. (lat, long)).\\n\\n    Parameters:\\n        df (pandas dataframe): an nxm dataframe containing the locations to compute similarities between.\\n        col (string): the name of the column containing the lat-long tuples.\\n\\n    Returns:\\n        distance (pandas dataframe): an nxn distance matrix between the geographical coordinates of each location.\\n    \\\"\\\"\\\"\\n\\n    df = df.copy()\\n    df.reset_index(inplace=True)\\n    haver_vec = np.vectorize(haversine, otypes=[np.float32])\\n    distance = df.groupby(\\\"index\\\").apply(\\n        lambda x: pd.Series(haver_vec(df[col_name], x[col_name]))\\n    )\\n    distance = distance / 1.609344\\n    distance.columns = distance.index\\n\\n    return distance\\n\\n\\ndef plot_dendrogram(model, **kwargs):\\n    \\\"\\\"\\\"\\n    A basic function for plotting a dendrogram. Sourced from the following link:\\n    https://github.com/scikit-learn/scikit-learn/blob/70cf4a676caa2d2dad2e3f6e4478d64bcb0506f7/examples/cluster/plot_hierarchical_clustering_dendrogram.py\\n\\n    Parameters:\\n        model (object of class sklearn.cluster.hierarchical.AgglomerativeClustering): a fitted scikit-learn hierarchical clustering model.\\n\\n    Output: a dendrogram based on the model based in the parameters.\\n\\n    Returns: N/A\\n    \\\"\\\"\\\"\\n    # Children of hierarchical clustering\\n    children = model.children_\\n\\n    # Distances between each pair of children\\n    # Since we don't have this information, we can use a uniform one for plotting\\n    distance = np.arange(children.shape[0])\\n\\n    # The number of observations contained in each cluster level\\n    no_of_observations = np.arange(2, children.shape[0] + 2)\\n\\n    # Create linkage matrix and then plot the dendrogram\\n    linkage_matrix = np.column_stack([children, distance, no_of_observations]).astype(\\n        float\\n    )\\n\\n    # Plot the corresponding dendrogram\\n    dendrogram(linkage_matrix, **kwargs)\";\n",
       "                var nbb_cells = Jupyter.notebook.get_cells();\n",
       "                for (var i = 0; i < nbb_cells.length; ++i) {\n",
       "                    if (nbb_cells[i].input_prompt_number == nbb_cell_id) {\n",
       "                        if (nbb_cells[i].get_text() == nbb_unformatted_code) {\n",
       "                             nbb_cells[i].set_text(nbb_formatted_code);\n",
       "                        }\n",
       "                        break;\n",
       "                    }\n",
       "                }\n",
       "            }, 500);\n",
       "            "
      ],
      "text/plain": [
       "<IPython.core.display.Javascript object>"
      ]
     },
     "metadata": {},
     "output_type": "display_data"
    }
   ],
   "source": [
    "def geo_sim_matrix(df, col_name=\"Coordinates\"):\n",
    "    \"\"\"\n",
    "    A function that computes a geographical distance matrix (in miles).\n",
    "    Each row in the dataframe should correspond to one location.\n",
    "    In addition, the dataframe must have a column containing the lat-long of each location as a tuple (i.e. (lat, long)).\n",
    "\n",
    "    Parameters:\n",
    "        df (pandas dataframe): an nxm dataframe containing the locations to compute similarities between.\n",
    "        col (string): the name of the column containing the lat-long tuples.\n",
    "\n",
    "    Returns:\n",
    "        distance (pandas dataframe): an nxn distance matrix between the geographical coordinates of each location.\n",
    "    \"\"\"\n",
    "\n",
    "    df = df.copy()\n",
    "    df.reset_index(inplace=True)\n",
    "    haver_vec = np.vectorize(haversine, otypes=[np.float32])\n",
    "    distance = df.groupby(\"index\").apply(\n",
    "        lambda x: pd.Series(haver_vec(df[col_name], x[col_name]))\n",
    "    )\n",
    "    distance = distance / 1.609344\n",
    "    distance.columns = distance.index\n",
    "\n",
    "    return distance\n",
    "\n",
    "\n",
    "def plot_dendrogram(model, **kwargs):\n",
    "    \"\"\"\n",
    "    A basic function for plotting a dendrogram. Sourced from the following link:\n",
    "    https://github.com/scikit-learn/scikit-learn/blob/70cf4a676caa2d2dad2e3f6e4478d64bcb0506f7/examples/cluster/plot_hierarchical_clustering_dendrogram.py\n",
    "\n",
    "    Parameters:\n",
    "        model (object of class sklearn.cluster.hierarchical.AgglomerativeClustering): a fitted scikit-learn hierarchical clustering model.\n",
    "\n",
    "    Output: a dendrogram based on the model based in the parameters.\n",
    "\n",
    "    Returns: N/A\n",
    "    \"\"\"\n",
    "    # Children of hierarchical clustering\n",
    "    children = model.children_\n",
    "\n",
    "    # Distances between each pair of children\n",
    "    # Since we don't have this information, we can use a uniform one for plotting\n",
    "    distance = np.arange(children.shape[0])\n",
    "\n",
    "    # The number of observations contained in each cluster level\n",
    "    no_of_observations = np.arange(2, children.shape[0] + 2)\n",
    "\n",
    "    # Create linkage matrix and then plot the dendrogram\n",
    "    linkage_matrix = np.column_stack([children, distance, no_of_observations]).astype(\n",
    "        float\n",
    "    )\n",
    "\n",
    "    # Plot the corresponding dendrogram\n",
    "    dendrogram(linkage_matrix, **kwargs)"
   ]
  },
  {
   "cell_type": "markdown",
   "metadata": {
    "colab_type": "text",
    "id": "ezMvoRlB1D_t"
   },
   "source": [
    "This dataset contains the latitude and longitude (as well as several other details we will not be using) of every Starbucks in the world as of February 2017. Each row consists of the following features, which are generally self-explanatory:\n",
    "\n",
    "- Brand\n",
    "- Store Number\n",
    "- Store Name\n",
    "- Ownership Type\n",
    "- Street Address\n",
    "- City\n",
    "- State/Province\n",
    "- Country\n",
    "- Postcode\n",
    "- Phone Number\n",
    "- Timezone\n",
    "- Longitude\n",
    "- Latitude\n",
    "\n",
    "Load in the dataset."
   ]
  },
  {
   "cell_type": "code",
   "execution_count": 4,
   "metadata": {
    "colab": {},
    "colab_type": "code",
    "id": "wP1U4eQ91D_u"
   },
   "outputs": [
    {
     "data": {
      "text/html": [
       "<div>\n",
       "<style scoped>\n",
       "    .dataframe tbody tr th:only-of-type {\n",
       "        vertical-align: middle;\n",
       "    }\n",
       "\n",
       "    .dataframe tbody tr th {\n",
       "        vertical-align: top;\n",
       "    }\n",
       "\n",
       "    .dataframe thead th {\n",
       "        text-align: right;\n",
       "    }\n",
       "</style>\n",
       "<table border=\"1\" class=\"dataframe\">\n",
       "  <thead>\n",
       "    <tr style=\"text-align: right;\">\n",
       "      <th></th>\n",
       "      <th>Brand</th>\n",
       "      <th>Store Number</th>\n",
       "      <th>Store Name</th>\n",
       "      <th>Ownership Type</th>\n",
       "      <th>Street Address</th>\n",
       "      <th>City</th>\n",
       "      <th>State/Province</th>\n",
       "      <th>Country</th>\n",
       "      <th>Postcode</th>\n",
       "      <th>Phone Number</th>\n",
       "      <th>Timezone</th>\n",
       "      <th>Longitude</th>\n",
       "      <th>Latitude</th>\n",
       "    </tr>\n",
       "  </thead>\n",
       "  <tbody>\n",
       "    <tr>\n",
       "      <th>0</th>\n",
       "      <td>Starbucks</td>\n",
       "      <td>47370-257954</td>\n",
       "      <td>Meritxell, 96</td>\n",
       "      <td>Licensed</td>\n",
       "      <td>Av. Meritxell, 96</td>\n",
       "      <td>Andorra la Vella</td>\n",
       "      <td>7</td>\n",
       "      <td>AD</td>\n",
       "      <td>AD500</td>\n",
       "      <td>376818720</td>\n",
       "      <td>GMT+1:00 Europe/Andorra</td>\n",
       "      <td>1.53</td>\n",
       "      <td>42.51</td>\n",
       "    </tr>\n",
       "    <tr>\n",
       "      <th>1</th>\n",
       "      <td>Starbucks</td>\n",
       "      <td>22331-212325</td>\n",
       "      <td>Ajman Drive Thru</td>\n",
       "      <td>Licensed</td>\n",
       "      <td>1 Street 69, Al Jarf</td>\n",
       "      <td>Ajman</td>\n",
       "      <td>AJ</td>\n",
       "      <td>AE</td>\n",
       "      <td>NaN</td>\n",
       "      <td>NaN</td>\n",
       "      <td>GMT+04:00 Asia/Dubai</td>\n",
       "      <td>55.47</td>\n",
       "      <td>25.42</td>\n",
       "    </tr>\n",
       "    <tr>\n",
       "      <th>2</th>\n",
       "      <td>Starbucks</td>\n",
       "      <td>47089-256771</td>\n",
       "      <td>Dana Mall</td>\n",
       "      <td>Licensed</td>\n",
       "      <td>Sheikh Khalifa Bin Zayed St.</td>\n",
       "      <td>Ajman</td>\n",
       "      <td>AJ</td>\n",
       "      <td>AE</td>\n",
       "      <td>NaN</td>\n",
       "      <td>NaN</td>\n",
       "      <td>GMT+04:00 Asia/Dubai</td>\n",
       "      <td>55.47</td>\n",
       "      <td>25.39</td>\n",
       "    </tr>\n",
       "    <tr>\n",
       "      <th>3</th>\n",
       "      <td>Starbucks</td>\n",
       "      <td>22126-218024</td>\n",
       "      <td>Twofour 54</td>\n",
       "      <td>Licensed</td>\n",
       "      <td>Al Salam Street</td>\n",
       "      <td>Abu Dhabi</td>\n",
       "      <td>AZ</td>\n",
       "      <td>AE</td>\n",
       "      <td>NaN</td>\n",
       "      <td>NaN</td>\n",
       "      <td>GMT+04:00 Asia/Dubai</td>\n",
       "      <td>54.38</td>\n",
       "      <td>24.48</td>\n",
       "    </tr>\n",
       "    <tr>\n",
       "      <th>4</th>\n",
       "      <td>Starbucks</td>\n",
       "      <td>17127-178586</td>\n",
       "      <td>Al Ain Tower</td>\n",
       "      <td>Licensed</td>\n",
       "      <td>Khaldiya Area, Abu Dhabi Island</td>\n",
       "      <td>Abu Dhabi</td>\n",
       "      <td>AZ</td>\n",
       "      <td>AE</td>\n",
       "      <td>NaN</td>\n",
       "      <td>NaN</td>\n",
       "      <td>GMT+04:00 Asia/Dubai</td>\n",
       "      <td>54.54</td>\n",
       "      <td>24.51</td>\n",
       "    </tr>\n",
       "    <tr>\n",
       "      <th>...</th>\n",
       "      <td>...</td>\n",
       "      <td>...</td>\n",
       "      <td>...</td>\n",
       "      <td>...</td>\n",
       "      <td>...</td>\n",
       "      <td>...</td>\n",
       "      <td>...</td>\n",
       "      <td>...</td>\n",
       "      <td>...</td>\n",
       "      <td>...</td>\n",
       "      <td>...</td>\n",
       "      <td>...</td>\n",
       "      <td>...</td>\n",
       "    </tr>\n",
       "    <tr>\n",
       "      <th>25595</th>\n",
       "      <td>Starbucks</td>\n",
       "      <td>21401-212072</td>\n",
       "      <td>Rex</td>\n",
       "      <td>Licensed</td>\n",
       "      <td>141 Nguyễn Huệ, Quận 1, Góc đường Pasteur và L...</td>\n",
       "      <td>Thành Phố Hồ Chí Minh</td>\n",
       "      <td>SG</td>\n",
       "      <td>VN</td>\n",
       "      <td>70000</td>\n",
       "      <td>08 3824 4668</td>\n",
       "      <td>GMT+000000 Asia/Saigon</td>\n",
       "      <td>106.70</td>\n",
       "      <td>10.78</td>\n",
       "    </tr>\n",
       "    <tr>\n",
       "      <th>25596</th>\n",
       "      <td>Starbucks</td>\n",
       "      <td>24010-226985</td>\n",
       "      <td>Panorama</td>\n",
       "      <td>Licensed</td>\n",
       "      <td>SN-44, Tòa Nhà Panorama, 208 Trần Văn Trà, Quận 7</td>\n",
       "      <td>Thành Phố Hồ Chí Minh</td>\n",
       "      <td>SG</td>\n",
       "      <td>VN</td>\n",
       "      <td>70000</td>\n",
       "      <td>08 5413 8292</td>\n",
       "      <td>GMT+000000 Asia/Saigon</td>\n",
       "      <td>106.71</td>\n",
       "      <td>10.72</td>\n",
       "    </tr>\n",
       "    <tr>\n",
       "      <th>25597</th>\n",
       "      <td>Starbucks</td>\n",
       "      <td>47608-253804</td>\n",
       "      <td>Rosebank Mall</td>\n",
       "      <td>Licensed</td>\n",
       "      <td>Cnr Tyrwhitt and Cradock Avenue, Rosebank</td>\n",
       "      <td>Johannesburg</td>\n",
       "      <td>GT</td>\n",
       "      <td>ZA</td>\n",
       "      <td>2194</td>\n",
       "      <td>27873500159</td>\n",
       "      <td>GMT+000000 Africa/Johannesburg</td>\n",
       "      <td>28.04</td>\n",
       "      <td>-26.15</td>\n",
       "    </tr>\n",
       "    <tr>\n",
       "      <th>25598</th>\n",
       "      <td>Starbucks</td>\n",
       "      <td>47640-253809</td>\n",
       "      <td>Menlyn Maine</td>\n",
       "      <td>Licensed</td>\n",
       "      <td>Shop 61B, Central Square, Cnr Aramist &amp; Coroba...</td>\n",
       "      <td>Menlyn</td>\n",
       "      <td>GT</td>\n",
       "      <td>ZA</td>\n",
       "      <td>181</td>\n",
       "      <td>NaN</td>\n",
       "      <td>GMT+000000 Africa/Johannesburg</td>\n",
       "      <td>28.28</td>\n",
       "      <td>-25.79</td>\n",
       "    </tr>\n",
       "    <tr>\n",
       "      <th>25599</th>\n",
       "      <td>Starbucks</td>\n",
       "      <td>47609-253286</td>\n",
       "      <td>Mall of Africa</td>\n",
       "      <td>Licensed</td>\n",
       "      <td>Shop 2077, Upper Level, Waterfall City</td>\n",
       "      <td>Midrand</td>\n",
       "      <td>GT</td>\n",
       "      <td>ZA</td>\n",
       "      <td>1682</td>\n",
       "      <td>27873500215</td>\n",
       "      <td>GMT+000000 Africa/Johannesburg</td>\n",
       "      <td>28.11</td>\n",
       "      <td>-26.02</td>\n",
       "    </tr>\n",
       "  </tbody>\n",
       "</table>\n",
       "<p>25600 rows × 13 columns</p>\n",
       "</div>"
      ],
      "text/plain": [
       "           Brand  Store Number        Store Name Ownership Type  \\\n",
       "0      Starbucks  47370-257954     Meritxell, 96       Licensed   \n",
       "1      Starbucks  22331-212325  Ajman Drive Thru       Licensed   \n",
       "2      Starbucks  47089-256771         Dana Mall       Licensed   \n",
       "3      Starbucks  22126-218024        Twofour 54       Licensed   \n",
       "4      Starbucks  17127-178586      Al Ain Tower       Licensed   \n",
       "...          ...           ...               ...            ...   \n",
       "25595  Starbucks  21401-212072               Rex       Licensed   \n",
       "25596  Starbucks  24010-226985          Panorama       Licensed   \n",
       "25597  Starbucks  47608-253804     Rosebank Mall       Licensed   \n",
       "25598  Starbucks  47640-253809      Menlyn Maine       Licensed   \n",
       "25599  Starbucks  47609-253286    Mall of Africa       Licensed   \n",
       "\n",
       "                                          Street Address  \\\n",
       "0                                      Av. Meritxell, 96   \n",
       "1                                   1 Street 69, Al Jarf   \n",
       "2                           Sheikh Khalifa Bin Zayed St.   \n",
       "3                                        Al Salam Street   \n",
       "4                        Khaldiya Area, Abu Dhabi Island   \n",
       "...                                                  ...   \n",
       "25595  141 Nguyễn Huệ, Quận 1, Góc đường Pasteur và L...   \n",
       "25596  SN-44, Tòa Nhà Panorama, 208 Trần Văn Trà, Quận 7   \n",
       "25597          Cnr Tyrwhitt and Cradock Avenue, Rosebank   \n",
       "25598  Shop 61B, Central Square, Cnr Aramist & Coroba...   \n",
       "25599             Shop 2077, Upper Level, Waterfall City   \n",
       "\n",
       "                        City State/Province Country Postcode  Phone Number  \\\n",
       "0           Andorra la Vella              7      AD    AD500     376818720   \n",
       "1                      Ajman             AJ      AE      NaN           NaN   \n",
       "2                      Ajman             AJ      AE      NaN           NaN   \n",
       "3                  Abu Dhabi             AZ      AE      NaN           NaN   \n",
       "4                  Abu Dhabi             AZ      AE      NaN           NaN   \n",
       "...                      ...            ...     ...      ...           ...   \n",
       "25595  Thành Phố Hồ Chí Minh             SG      VN    70000  08 3824 4668   \n",
       "25596  Thành Phố Hồ Chí Minh             SG      VN    70000  08 5413 8292   \n",
       "25597           Johannesburg             GT      ZA     2194   27873500159   \n",
       "25598                 Menlyn             GT      ZA      181           NaN   \n",
       "25599                Midrand             GT      ZA     1682   27873500215   \n",
       "\n",
       "                             Timezone  Longitude  Latitude  \n",
       "0             GMT+1:00 Europe/Andorra       1.53     42.51  \n",
       "1                GMT+04:00 Asia/Dubai      55.47     25.42  \n",
       "2                GMT+04:00 Asia/Dubai      55.47     25.39  \n",
       "3                GMT+04:00 Asia/Dubai      54.38     24.48  \n",
       "4                GMT+04:00 Asia/Dubai      54.54     24.51  \n",
       "...                               ...        ...       ...  \n",
       "25595          GMT+000000 Asia/Saigon     106.70     10.78  \n",
       "25596          GMT+000000 Asia/Saigon     106.71     10.72  \n",
       "25597  GMT+000000 Africa/Johannesburg      28.04    -26.15  \n",
       "25598  GMT+000000 Africa/Johannesburg      28.28    -25.79  \n",
       "25599  GMT+000000 Africa/Johannesburg      28.11    -26.02  \n",
       "\n",
       "[25600 rows x 13 columns]"
      ]
     },
     "execution_count": 4,
     "metadata": {},
     "output_type": "execute_result"
    },
    {
     "data": {
      "application/javascript": [
       "\n",
       "            setTimeout(function() {\n",
       "                var nbb_cell_id = 4;\n",
       "                var nbb_unformatted_code = \"# answer goes here\\nstarbucks_df = pd.read_csv('https://tf-assets-prod.s3.amazonaws.com/tf-curric/data-science/Data%20Sets%20Clustering/starbucks_locations.csv')\\nstarbucks_df\";\n",
       "                var nbb_formatted_code = \"# answer goes here\\nstarbucks_df = pd.read_csv(\\n    \\\"https://tf-assets-prod.s3.amazonaws.com/tf-curric/data-science/Data%20Sets%20Clustering/starbucks_locations.csv\\\"\\n)\\nstarbucks_df\";\n",
       "                var nbb_cells = Jupyter.notebook.get_cells();\n",
       "                for (var i = 0; i < nbb_cells.length; ++i) {\n",
       "                    if (nbb_cells[i].input_prompt_number == nbb_cell_id) {\n",
       "                        if (nbb_cells[i].get_text() == nbb_unformatted_code) {\n",
       "                             nbb_cells[i].set_text(nbb_formatted_code);\n",
       "                        }\n",
       "                        break;\n",
       "                    }\n",
       "                }\n",
       "            }, 500);\n",
       "            "
      ],
      "text/plain": [
       "<IPython.core.display.Javascript object>"
      ]
     },
     "metadata": {},
     "output_type": "display_data"
    }
   ],
   "source": [
    "# answer goes here\n",
    "starbucks_df = pd.read_csv('https://tf-assets-prod.s3.amazonaws.com/tf-curric/data-science/Data%20Sets%20Clustering/starbucks_locations.csv')\n",
    "starbucks_df\n",
    "\n"
   ]
  },
  {
   "cell_type": "markdown",
   "metadata": {
    "colab_type": "text",
    "id": "o_K1eQ0x1D_y"
   },
   "source": [
    "Begin by narrowing down the dataset to a specific geographic area of interest. Since we will need to manually compute a distance matrix, which will be on the order of $n^{2}$ in terms of size, we would recommend choosing an area with 3000 or less locations. In this example, we will use California, which has about 2800 locations. Feel free to choose a different region that is of more interest to you, if desired.\n",
    "\n",
    "Subset the dataframe to only include records for Starbucks locations in California."
   ]
  },
  {
   "cell_type": "code",
   "execution_count": 5,
   "metadata": {
    "colab": {},
    "colab_type": "code",
    "id": "xaPTv22LglMK"
   },
   "outputs": [
    {
     "data": {
      "text/html": [
       "<div>\n",
       "<style scoped>\n",
       "    .dataframe tbody tr th:only-of-type {\n",
       "        vertical-align: middle;\n",
       "    }\n",
       "\n",
       "    .dataframe tbody tr th {\n",
       "        vertical-align: top;\n",
       "    }\n",
       "\n",
       "    .dataframe thead th {\n",
       "        text-align: right;\n",
       "    }\n",
       "</style>\n",
       "<table border=\"1\" class=\"dataframe\">\n",
       "  <thead>\n",
       "    <tr style=\"text-align: right;\">\n",
       "      <th></th>\n",
       "      <th>Brand</th>\n",
       "      <th>Store Number</th>\n",
       "      <th>Store Name</th>\n",
       "      <th>Ownership Type</th>\n",
       "      <th>Street Address</th>\n",
       "      <th>City</th>\n",
       "      <th>State/Province</th>\n",
       "      <th>Country</th>\n",
       "      <th>Postcode</th>\n",
       "      <th>Phone Number</th>\n",
       "      <th>Timezone</th>\n",
       "      <th>Longitude</th>\n",
       "      <th>Latitude</th>\n",
       "    </tr>\n",
       "  </thead>\n",
       "  <tbody>\n",
       "    <tr>\n",
       "      <th>12641</th>\n",
       "      <td>Starbucks</td>\n",
       "      <td>10429-100710</td>\n",
       "      <td>Palmdale &amp; Hwy 395</td>\n",
       "      <td>Company Owned</td>\n",
       "      <td>14136 US Hwy 395</td>\n",
       "      <td>Adelanto</td>\n",
       "      <td>CA</td>\n",
       "      <td>US</td>\n",
       "      <td>923016700</td>\n",
       "      <td>760-530-9252</td>\n",
       "      <td>GMT-08:00 America/Los_Angeles</td>\n",
       "      <td>-117.40</td>\n",
       "      <td>34.51</td>\n",
       "    </tr>\n",
       "    <tr>\n",
       "      <th>12642</th>\n",
       "      <td>Starbucks</td>\n",
       "      <td>635-352</td>\n",
       "      <td>Kanan &amp; Thousand Oaks</td>\n",
       "      <td>Company Owned</td>\n",
       "      <td>5827 Kanan Road</td>\n",
       "      <td>Agoura</td>\n",
       "      <td>CA</td>\n",
       "      <td>US</td>\n",
       "      <td>913011651</td>\n",
       "      <td>(818) 735-0268</td>\n",
       "      <td>GMT-08:00 America/Los_Angeles</td>\n",
       "      <td>-118.76</td>\n",
       "      <td>34.16</td>\n",
       "    </tr>\n",
       "    <tr>\n",
       "      <th>12643</th>\n",
       "      <td>Starbucks</td>\n",
       "      <td>74510-27669</td>\n",
       "      <td>Vons-Agoura Hills #2001</td>\n",
       "      <td>Licensed</td>\n",
       "      <td>5671 Kanan Rd.</td>\n",
       "      <td>Agoura Hills</td>\n",
       "      <td>CA</td>\n",
       "      <td>US</td>\n",
       "      <td>913013358</td>\n",
       "      <td>818-991-2857</td>\n",
       "      <td>GMT-08:00 America/Los_Angeles</td>\n",
       "      <td>-118.76</td>\n",
       "      <td>34.15</td>\n",
       "    </tr>\n",
       "    <tr>\n",
       "      <th>12644</th>\n",
       "      <td>Starbucks</td>\n",
       "      <td>29839-255026</td>\n",
       "      <td>Target Anaheim T-0677</td>\n",
       "      <td>Licensed</td>\n",
       "      <td>8148 E SANTA ANA CANYON ROAD</td>\n",
       "      <td>AHAHEIM</td>\n",
       "      <td>CA</td>\n",
       "      <td>US</td>\n",
       "      <td>92808</td>\n",
       "      <td>714-921-9091</td>\n",
       "      <td>GMT-08:00 America/Los_Angeles</td>\n",
       "      <td>-117.75</td>\n",
       "      <td>33.87</td>\n",
       "    </tr>\n",
       "    <tr>\n",
       "      <th>12645</th>\n",
       "      <td>Starbucks</td>\n",
       "      <td>23463-230284</td>\n",
       "      <td>Safeway - Alameda 3281</td>\n",
       "      <td>Licensed</td>\n",
       "      <td>2600 5th Street</td>\n",
       "      <td>Alameda</td>\n",
       "      <td>CA</td>\n",
       "      <td>US</td>\n",
       "      <td>94501</td>\n",
       "      <td>510-523-1804</td>\n",
       "      <td>GMT-08:00 America/Los_Angeles</td>\n",
       "      <td>-122.28</td>\n",
       "      <td>37.79</td>\n",
       "    </tr>\n",
       "    <tr>\n",
       "      <th>...</th>\n",
       "      <td>...</td>\n",
       "      <td>...</td>\n",
       "      <td>...</td>\n",
       "      <td>...</td>\n",
       "      <td>...</td>\n",
       "      <td>...</td>\n",
       "      <td>...</td>\n",
       "      <td>...</td>\n",
       "      <td>...</td>\n",
       "      <td>...</td>\n",
       "      <td>...</td>\n",
       "      <td>...</td>\n",
       "      <td>...</td>\n",
       "    </tr>\n",
       "    <tr>\n",
       "      <th>15457</th>\n",
       "      <td>Starbucks</td>\n",
       "      <td>14071-108147</td>\n",
       "      <td>Hwy 20 &amp; Tharp - Yuba City</td>\n",
       "      <td>Company Owned</td>\n",
       "      <td>1615 Colusa Hwy, Ste 100</td>\n",
       "      <td>Yuba City</td>\n",
       "      <td>CA</td>\n",
       "      <td>US</td>\n",
       "      <td>959939437</td>\n",
       "      <td>530-751-7187</td>\n",
       "      <td>GMT-08:00 America/Los_Angeles</td>\n",
       "      <td>-121.64</td>\n",
       "      <td>39.14</td>\n",
       "    </tr>\n",
       "    <tr>\n",
       "      <th>15458</th>\n",
       "      <td>Starbucks</td>\n",
       "      <td>9974-98559</td>\n",
       "      <td>Yucaipa &amp; Hampton, Yucaipa</td>\n",
       "      <td>Company Owned</td>\n",
       "      <td>31364 Yucaipa Blvd., A</td>\n",
       "      <td>Yucaipa</td>\n",
       "      <td>CA</td>\n",
       "      <td>US</td>\n",
       "      <td>923991570</td>\n",
       "      <td>909-389-9587</td>\n",
       "      <td>GMT-08:00 America/Los_Angeles</td>\n",
       "      <td>-117.12</td>\n",
       "      <td>34.03</td>\n",
       "    </tr>\n",
       "    <tr>\n",
       "      <th>15459</th>\n",
       "      <td>Starbucks</td>\n",
       "      <td>79654-108478</td>\n",
       "      <td>Vons - Yucaipa #1796</td>\n",
       "      <td>Licensed</td>\n",
       "      <td>33644 YUCAIPA BLVD</td>\n",
       "      <td>YUCAIPA</td>\n",
       "      <td>CA</td>\n",
       "      <td>US</td>\n",
       "      <td>923992071</td>\n",
       "      <td>NaN</td>\n",
       "      <td>GMT-08:00 America/Los_Angeles</td>\n",
       "      <td>-117.07</td>\n",
       "      <td>34.04</td>\n",
       "    </tr>\n",
       "    <tr>\n",
       "      <th>15460</th>\n",
       "      <td>Starbucks</td>\n",
       "      <td>6438-245084</td>\n",
       "      <td>Yucaipa &amp; 6th</td>\n",
       "      <td>Company Owned</td>\n",
       "      <td>34050 Yucaipa Blvd., 200</td>\n",
       "      <td>Yucaipa</td>\n",
       "      <td>CA</td>\n",
       "      <td>US</td>\n",
       "      <td>92399</td>\n",
       "      <td>9097977224</td>\n",
       "      <td>GMT-08:00 America/Los_Angeles</td>\n",
       "      <td>-117.06</td>\n",
       "      <td>34.03</td>\n",
       "    </tr>\n",
       "    <tr>\n",
       "      <th>15461</th>\n",
       "      <td>Starbucks</td>\n",
       "      <td>6829-82142</td>\n",
       "      <td>Highway 62 &amp; Warren Vista</td>\n",
       "      <td>Company Owned</td>\n",
       "      <td>57744  29 Palms Highway</td>\n",
       "      <td>Yucca Valley</td>\n",
       "      <td>CA</td>\n",
       "      <td>US</td>\n",
       "      <td>922843065</td>\n",
       "      <td>760-369-9920</td>\n",
       "      <td>GMT-08:00 America/Los_Angeles</td>\n",
       "      <td>-116.40</td>\n",
       "      <td>34.13</td>\n",
       "    </tr>\n",
       "  </tbody>\n",
       "</table>\n",
       "<p>2821 rows × 13 columns</p>\n",
       "</div>"
      ],
      "text/plain": [
       "           Brand  Store Number                  Store Name Ownership Type  \\\n",
       "12641  Starbucks  10429-100710          Palmdale & Hwy 395  Company Owned   \n",
       "12642  Starbucks       635-352       Kanan & Thousand Oaks  Company Owned   \n",
       "12643  Starbucks   74510-27669     Vons-Agoura Hills #2001       Licensed   \n",
       "12644  Starbucks  29839-255026       Target Anaheim T-0677       Licensed   \n",
       "12645  Starbucks  23463-230284      Safeway - Alameda 3281       Licensed   \n",
       "...          ...           ...                         ...            ...   \n",
       "15457  Starbucks  14071-108147  Hwy 20 & Tharp - Yuba City  Company Owned   \n",
       "15458  Starbucks    9974-98559  Yucaipa & Hampton, Yucaipa  Company Owned   \n",
       "15459  Starbucks  79654-108478        Vons - Yucaipa #1796       Licensed   \n",
       "15460  Starbucks   6438-245084               Yucaipa & 6th  Company Owned   \n",
       "15461  Starbucks    6829-82142   Highway 62 & Warren Vista  Company Owned   \n",
       "\n",
       "                     Street Address          City State/Province Country  \\\n",
       "12641              14136 US Hwy 395      Adelanto             CA      US   \n",
       "12642               5827 Kanan Road        Agoura             CA      US   \n",
       "12643                5671 Kanan Rd.  Agoura Hills             CA      US   \n",
       "12644  8148 E SANTA ANA CANYON ROAD       AHAHEIM             CA      US   \n",
       "12645               2600 5th Street       Alameda             CA      US   \n",
       "...                             ...           ...            ...     ...   \n",
       "15457      1615 Colusa Hwy, Ste 100     Yuba City             CA      US   \n",
       "15458        31364 Yucaipa Blvd., A       Yucaipa             CA      US   \n",
       "15459            33644 YUCAIPA BLVD       YUCAIPA             CA      US   \n",
       "15460      34050 Yucaipa Blvd., 200       Yucaipa             CA      US   \n",
       "15461       57744  29 Palms Highway  Yucca Valley             CA      US   \n",
       "\n",
       "        Postcode    Phone Number                       Timezone  Longitude  \\\n",
       "12641  923016700    760-530-9252  GMT-08:00 America/Los_Angeles    -117.40   \n",
       "12642  913011651  (818) 735-0268  GMT-08:00 America/Los_Angeles    -118.76   \n",
       "12643  913013358    818-991-2857  GMT-08:00 America/Los_Angeles    -118.76   \n",
       "12644      92808    714-921-9091  GMT-08:00 America/Los_Angeles    -117.75   \n",
       "12645      94501    510-523-1804  GMT-08:00 America/Los_Angeles    -122.28   \n",
       "...          ...             ...                            ...        ...   \n",
       "15457  959939437    530-751-7187  GMT-08:00 America/Los_Angeles    -121.64   \n",
       "15458  923991570    909-389-9587  GMT-08:00 America/Los_Angeles    -117.12   \n",
       "15459  923992071             NaN  GMT-08:00 America/Los_Angeles    -117.07   \n",
       "15460      92399      9097977224  GMT-08:00 America/Los_Angeles    -117.06   \n",
       "15461  922843065    760-369-9920  GMT-08:00 America/Los_Angeles    -116.40   \n",
       "\n",
       "       Latitude  \n",
       "12641     34.51  \n",
       "12642     34.16  \n",
       "12643     34.15  \n",
       "12644     33.87  \n",
       "12645     37.79  \n",
       "...         ...  \n",
       "15457     39.14  \n",
       "15458     34.03  \n",
       "15459     34.04  \n",
       "15460     34.03  \n",
       "15461     34.13  \n",
       "\n",
       "[2821 rows x 13 columns]"
      ]
     },
     "execution_count": 5,
     "metadata": {},
     "output_type": "execute_result"
    },
    {
     "data": {
      "application/javascript": [
       "\n",
       "            setTimeout(function() {\n",
       "                var nbb_cell_id = 5;\n",
       "                var nbb_unformatted_code = \"# answer goes here\\n\\nstarbucks_ca_df = starbucks_df.loc[lambda x: x['State/Province'] == 'CA'].copy()\\nstarbucks_ca_df\";\n",
       "                var nbb_formatted_code = \"# answer goes here\\n\\nstarbucks_ca_df = starbucks_df.loc[lambda x: x[\\\"State/Province\\\"] == \\\"CA\\\"].copy()\\nstarbucks_ca_df\";\n",
       "                var nbb_cells = Jupyter.notebook.get_cells();\n",
       "                for (var i = 0; i < nbb_cells.length; ++i) {\n",
       "                    if (nbb_cells[i].input_prompt_number == nbb_cell_id) {\n",
       "                        if (nbb_cells[i].get_text() == nbb_unformatted_code) {\n",
       "                             nbb_cells[i].set_text(nbb_formatted_code);\n",
       "                        }\n",
       "                        break;\n",
       "                    }\n",
       "                }\n",
       "            }, 500);\n",
       "            "
      ],
      "text/plain": [
       "<IPython.core.display.Javascript object>"
      ]
     },
     "metadata": {},
     "output_type": "display_data"
    }
   ],
   "source": [
    "# answer goes here\n",
    "\n",
    "starbucks_ca_df = starbucks_df.loc[lambda x: x['State/Province'] == 'CA'].copy()\n",
    "starbucks_ca_df\n",
    "\n"
   ]
  },
  {
   "cell_type": "markdown",
   "metadata": {
    "colab_type": "text",
    "id": "JP466YhlglMN"
   },
   "source": [
    "The haversine package takes tuples with 2 numeric elements and interprets them as lat-long to calculate distance, so add a new column called \"Coordinates\" that converts the lat and long in each row into a tuple. In other words, the last two columns of the dataframe should initially look like this:\n",
    "\n",
    "**Latitude, Longitude**  \n",
    "-121.64, 39.14  \n",
    "-116.40, 34.13  \n",
    "...\n",
    "\n",
    "After adding the new column, the last three columns should look like this:\n",
    "\n",
    "**Latitude, Longitude, Coordinates**  \n",
    "-121.64, 39.14, (-121.64, 39.14)  \n",
    "-116.40, 34.13, (-116.40, 34.13)  \n",
    "..."
   ]
  },
  {
   "cell_type": "code",
   "execution_count": 6,
   "metadata": {
    "colab": {},
    "colab_type": "code",
    "id": "xfYVreyw1D_y"
   },
   "outputs": [
    {
     "data": {
      "text/html": [
       "<div>\n",
       "<style scoped>\n",
       "    .dataframe tbody tr th:only-of-type {\n",
       "        vertical-align: middle;\n",
       "    }\n",
       "\n",
       "    .dataframe tbody tr th {\n",
       "        vertical-align: top;\n",
       "    }\n",
       "\n",
       "    .dataframe thead th {\n",
       "        text-align: right;\n",
       "    }\n",
       "</style>\n",
       "<table border=\"1\" class=\"dataframe\">\n",
       "  <thead>\n",
       "    <tr style=\"text-align: right;\">\n",
       "      <th></th>\n",
       "      <th>Brand</th>\n",
       "      <th>Store Number</th>\n",
       "      <th>Store Name</th>\n",
       "      <th>Ownership Type</th>\n",
       "      <th>Street Address</th>\n",
       "      <th>City</th>\n",
       "      <th>State/Province</th>\n",
       "      <th>Country</th>\n",
       "      <th>Postcode</th>\n",
       "      <th>Phone Number</th>\n",
       "      <th>Timezone</th>\n",
       "      <th>Longitude</th>\n",
       "      <th>Latitude</th>\n",
       "      <th>Coordinates</th>\n",
       "    </tr>\n",
       "  </thead>\n",
       "  <tbody>\n",
       "    <tr>\n",
       "      <th>12641</th>\n",
       "      <td>Starbucks</td>\n",
       "      <td>10429-100710</td>\n",
       "      <td>Palmdale &amp; Hwy 395</td>\n",
       "      <td>Company Owned</td>\n",
       "      <td>14136 US Hwy 395</td>\n",
       "      <td>Adelanto</td>\n",
       "      <td>CA</td>\n",
       "      <td>US</td>\n",
       "      <td>923016700</td>\n",
       "      <td>760-530-9252</td>\n",
       "      <td>GMT-08:00 America/Los_Angeles</td>\n",
       "      <td>-117.40</td>\n",
       "      <td>34.51</td>\n",
       "      <td>(34.51, -117.4)</td>\n",
       "    </tr>\n",
       "    <tr>\n",
       "      <th>12642</th>\n",
       "      <td>Starbucks</td>\n",
       "      <td>635-352</td>\n",
       "      <td>Kanan &amp; Thousand Oaks</td>\n",
       "      <td>Company Owned</td>\n",
       "      <td>5827 Kanan Road</td>\n",
       "      <td>Agoura</td>\n",
       "      <td>CA</td>\n",
       "      <td>US</td>\n",
       "      <td>913011651</td>\n",
       "      <td>(818) 735-0268</td>\n",
       "      <td>GMT-08:00 America/Los_Angeles</td>\n",
       "      <td>-118.76</td>\n",
       "      <td>34.16</td>\n",
       "      <td>(34.16, -118.76)</td>\n",
       "    </tr>\n",
       "    <tr>\n",
       "      <th>12643</th>\n",
       "      <td>Starbucks</td>\n",
       "      <td>74510-27669</td>\n",
       "      <td>Vons-Agoura Hills #2001</td>\n",
       "      <td>Licensed</td>\n",
       "      <td>5671 Kanan Rd.</td>\n",
       "      <td>Agoura Hills</td>\n",
       "      <td>CA</td>\n",
       "      <td>US</td>\n",
       "      <td>913013358</td>\n",
       "      <td>818-991-2857</td>\n",
       "      <td>GMT-08:00 America/Los_Angeles</td>\n",
       "      <td>-118.76</td>\n",
       "      <td>34.15</td>\n",
       "      <td>(34.15, -118.76)</td>\n",
       "    </tr>\n",
       "    <tr>\n",
       "      <th>12644</th>\n",
       "      <td>Starbucks</td>\n",
       "      <td>29839-255026</td>\n",
       "      <td>Target Anaheim T-0677</td>\n",
       "      <td>Licensed</td>\n",
       "      <td>8148 E SANTA ANA CANYON ROAD</td>\n",
       "      <td>AHAHEIM</td>\n",
       "      <td>CA</td>\n",
       "      <td>US</td>\n",
       "      <td>92808</td>\n",
       "      <td>714-921-9091</td>\n",
       "      <td>GMT-08:00 America/Los_Angeles</td>\n",
       "      <td>-117.75</td>\n",
       "      <td>33.87</td>\n",
       "      <td>(33.87, -117.75)</td>\n",
       "    </tr>\n",
       "    <tr>\n",
       "      <th>12645</th>\n",
       "      <td>Starbucks</td>\n",
       "      <td>23463-230284</td>\n",
       "      <td>Safeway - Alameda 3281</td>\n",
       "      <td>Licensed</td>\n",
       "      <td>2600 5th Street</td>\n",
       "      <td>Alameda</td>\n",
       "      <td>CA</td>\n",
       "      <td>US</td>\n",
       "      <td>94501</td>\n",
       "      <td>510-523-1804</td>\n",
       "      <td>GMT-08:00 America/Los_Angeles</td>\n",
       "      <td>-122.28</td>\n",
       "      <td>37.79</td>\n",
       "      <td>(37.79, -122.28)</td>\n",
       "    </tr>\n",
       "  </tbody>\n",
       "</table>\n",
       "</div>"
      ],
      "text/plain": [
       "           Brand  Store Number               Store Name Ownership Type  \\\n",
       "12641  Starbucks  10429-100710       Palmdale & Hwy 395  Company Owned   \n",
       "12642  Starbucks       635-352    Kanan & Thousand Oaks  Company Owned   \n",
       "12643  Starbucks   74510-27669  Vons-Agoura Hills #2001       Licensed   \n",
       "12644  Starbucks  29839-255026    Target Anaheim T-0677       Licensed   \n",
       "12645  Starbucks  23463-230284   Safeway - Alameda 3281       Licensed   \n",
       "\n",
       "                     Street Address          City State/Province Country  \\\n",
       "12641              14136 US Hwy 395      Adelanto             CA      US   \n",
       "12642               5827 Kanan Road        Agoura             CA      US   \n",
       "12643                5671 Kanan Rd.  Agoura Hills             CA      US   \n",
       "12644  8148 E SANTA ANA CANYON ROAD       AHAHEIM             CA      US   \n",
       "12645               2600 5th Street       Alameda             CA      US   \n",
       "\n",
       "        Postcode    Phone Number                       Timezone  Longitude  \\\n",
       "12641  923016700    760-530-9252  GMT-08:00 America/Los_Angeles    -117.40   \n",
       "12642  913011651  (818) 735-0268  GMT-08:00 America/Los_Angeles    -118.76   \n",
       "12643  913013358    818-991-2857  GMT-08:00 America/Los_Angeles    -118.76   \n",
       "12644      92808    714-921-9091  GMT-08:00 America/Los_Angeles    -117.75   \n",
       "12645      94501    510-523-1804  GMT-08:00 America/Los_Angeles    -122.28   \n",
       "\n",
       "       Latitude       Coordinates  \n",
       "12641     34.51   (34.51, -117.4)  \n",
       "12642     34.16  (34.16, -118.76)  \n",
       "12643     34.15  (34.15, -118.76)  \n",
       "12644     33.87  (33.87, -117.75)  \n",
       "12645     37.79  (37.79, -122.28)  "
      ]
     },
     "execution_count": 6,
     "metadata": {},
     "output_type": "execute_result"
    },
    {
     "data": {
      "application/javascript": [
       "\n",
       "            setTimeout(function() {\n",
       "                var nbb_cell_id = 6;\n",
       "                var nbb_unformatted_code = \"# answer goes here\\nstarbucks_ca_df['Coordinates'] = list(zip(starbucks_ca_df['Latitude'], starbucks_ca_df['Longitude']))\\n\\nstarbucks_ca_df.head()\";\n",
       "                var nbb_formatted_code = \"# answer goes here\\nstarbucks_ca_df[\\\"Coordinates\\\"] = list(\\n    zip(starbucks_ca_df[\\\"Latitude\\\"], starbucks_ca_df[\\\"Longitude\\\"])\\n)\\n\\nstarbucks_ca_df.head()\";\n",
       "                var nbb_cells = Jupyter.notebook.get_cells();\n",
       "                for (var i = 0; i < nbb_cells.length; ++i) {\n",
       "                    if (nbb_cells[i].input_prompt_number == nbb_cell_id) {\n",
       "                        if (nbb_cells[i].get_text() == nbb_unformatted_code) {\n",
       "                             nbb_cells[i].set_text(nbb_formatted_code);\n",
       "                        }\n",
       "                        break;\n",
       "                    }\n",
       "                }\n",
       "            }, 500);\n",
       "            "
      ],
      "text/plain": [
       "<IPython.core.display.Javascript object>"
      ]
     },
     "metadata": {},
     "output_type": "display_data"
    }
   ],
   "source": [
    "# answer goes here\n",
    "starbucks_ca_df['Coordinates'] = list(zip(starbucks_ca_df['Latitude'], starbucks_ca_df['Longitude']))\n",
    "\n",
    "starbucks_ca_df.head()\n",
    "\n",
    "\n"
   ]
  },
  {
   "cell_type": "markdown",
   "metadata": {
    "colab_type": "text",
    "id": "ufXIZ40WglMQ"
   },
   "source": [
    "Calculate the distance matrix using the starter code/function geo_sim_matrix() provided earlier in the notebook. It assumes the column containing the coordinates for each location is called \"Coordinates\"; examine the docstring for more details."
   ]
  },
  {
   "cell_type": "code",
   "execution_count": 7,
   "metadata": {
    "colab": {},
    "colab_type": "code",
    "id": "Xn6hPlyGglMR"
   },
   "outputs": [
    {
     "data": {
      "text/html": [
       "<div>\n",
       "<style scoped>\n",
       "    .dataframe tbody tr th:only-of-type {\n",
       "        vertical-align: middle;\n",
       "    }\n",
       "\n",
       "    .dataframe tbody tr th {\n",
       "        vertical-align: top;\n",
       "    }\n",
       "\n",
       "    .dataframe thead th {\n",
       "        text-align: right;\n",
       "    }\n",
       "</style>\n",
       "<table border=\"1\" class=\"dataframe\">\n",
       "  <thead>\n",
       "    <tr style=\"text-align: right;\">\n",
       "      <th>index</th>\n",
       "      <th>12641</th>\n",
       "      <th>12642</th>\n",
       "      <th>12643</th>\n",
       "      <th>12644</th>\n",
       "      <th>12645</th>\n",
       "      <th>12646</th>\n",
       "      <th>12647</th>\n",
       "      <th>12648</th>\n",
       "      <th>12649</th>\n",
       "      <th>12650</th>\n",
       "      <th>...</th>\n",
       "      <th>15452</th>\n",
       "      <th>15453</th>\n",
       "      <th>15454</th>\n",
       "      <th>15455</th>\n",
       "      <th>15456</th>\n",
       "      <th>15457</th>\n",
       "      <th>15458</th>\n",
       "      <th>15459</th>\n",
       "      <th>15460</th>\n",
       "      <th>15461</th>\n",
       "    </tr>\n",
       "    <tr>\n",
       "      <th>index</th>\n",
       "      <th></th>\n",
       "      <th></th>\n",
       "      <th></th>\n",
       "      <th></th>\n",
       "      <th></th>\n",
       "      <th></th>\n",
       "      <th></th>\n",
       "      <th></th>\n",
       "      <th></th>\n",
       "      <th></th>\n",
       "      <th></th>\n",
       "      <th></th>\n",
       "      <th></th>\n",
       "      <th></th>\n",
       "      <th></th>\n",
       "      <th></th>\n",
       "      <th></th>\n",
       "      <th></th>\n",
       "      <th></th>\n",
       "      <th></th>\n",
       "      <th></th>\n",
       "    </tr>\n",
       "  </thead>\n",
       "  <tbody>\n",
       "    <tr>\n",
       "      <th>12641</th>\n",
       "      <td>0.000000</td>\n",
       "      <td>81.273888</td>\n",
       "      <td>81.486519</td>\n",
       "      <td>48.533653</td>\n",
       "      <td>354.143250</td>\n",
       "      <td>351.144196</td>\n",
       "      <td>353.715332</td>\n",
       "      <td>351.573090</td>\n",
       "      <td>351.144806</td>\n",
       "      <td>353.715332</td>\n",
       "      <td>...</td>\n",
       "      <td>572.658875</td>\n",
       "      <td>395.987030</td>\n",
       "      <td>396.757080</td>\n",
       "      <td>397.082825</td>\n",
       "      <td>393.690735</td>\n",
       "      <td>396.534668</td>\n",
       "      <td>36.817173</td>\n",
       "      <td>37.543911</td>\n",
       "      <td>38.428928</td>\n",
       "      <td>62.814312</td>\n",
       "    </tr>\n",
       "    <tr>\n",
       "      <th>12642</th>\n",
       "      <td>81.273888</td>\n",
       "      <td>0.000000</td>\n",
       "      <td>0.690934</td>\n",
       "      <td>61.215416</td>\n",
       "      <td>318.757965</td>\n",
       "      <td>315.771484</td>\n",
       "      <td>318.222595</td>\n",
       "      <td>316.116119</td>\n",
       "      <td>315.964752</td>\n",
       "      <td>318.222595</td>\n",
       "      <td>...</td>\n",
       "      <td>562.278748</td>\n",
       "      <td>378.637146</td>\n",
       "      <td>379.649506</td>\n",
       "      <td>379.881622</td>\n",
       "      <td>376.304321</td>\n",
       "      <td>379.259277</td>\n",
       "      <td>94.263580</td>\n",
       "      <td>97.044540</td>\n",
       "      <td>97.681404</td>\n",
       "      <td>134.964981</td>\n",
       "    </tr>\n",
       "    <tr>\n",
       "      <th>12643</th>\n",
       "      <td>81.486519</td>\n",
       "      <td>0.690934</td>\n",
       "      <td>0.000000</td>\n",
       "      <td>60.995995</td>\n",
       "      <td>319.309296</td>\n",
       "      <td>316.323303</td>\n",
       "      <td>318.773346</td>\n",
       "      <td>316.667389</td>\n",
       "      <td>316.517731</td>\n",
       "      <td>318.773346</td>\n",
       "      <td>...</td>\n",
       "      <td>562.924011</td>\n",
       "      <td>379.268005</td>\n",
       "      <td>380.281128</td>\n",
       "      <td>380.512970</td>\n",
       "      <td>376.935242</td>\n",
       "      <td>379.890350</td>\n",
       "      <td>94.205780</td>\n",
       "      <td>96.993660</td>\n",
       "      <td>97.626030</td>\n",
       "      <td>134.964127</td>\n",
       "    </tr>\n",
       "    <tr>\n",
       "      <th>12644</th>\n",
       "      <td>48.533653</td>\n",
       "      <td>61.215416</td>\n",
       "      <td>60.995995</td>\n",
       "      <td>0.000000</td>\n",
       "      <td>371.048065</td>\n",
       "      <td>368.038574</td>\n",
       "      <td>370.555420</td>\n",
       "      <td>368.421265</td>\n",
       "      <td>368.150513</td>\n",
       "      <td>370.555420</td>\n",
       "      <td>...</td>\n",
       "      <td>603.279236</td>\n",
       "      <td>422.692871</td>\n",
       "      <td>423.584381</td>\n",
       "      <td>423.866547</td>\n",
       "      <td>420.366608</td>\n",
       "      <td>423.279541</td>\n",
       "      <td>37.762600</td>\n",
       "      <td>40.703236</td>\n",
       "      <td>41.063148</td>\n",
       "      <td>79.387924</td>\n",
       "    </tr>\n",
       "    <tr>\n",
       "      <th>12645</th>\n",
       "      <td>354.143250</td>\n",
       "      <td>318.757965</td>\n",
       "      <td>319.309296</td>\n",
       "      <td>371.048065</td>\n",
       "      <td>0.000000</td>\n",
       "      <td>3.011417</td>\n",
       "      <td>0.690934</td>\n",
       "      <td>2.642126</td>\n",
       "      <td>3.060228</td>\n",
       "      <td>0.690934</td>\n",
       "      <td>...</td>\n",
       "      <td>270.868561</td>\n",
       "      <td>98.847420</td>\n",
       "      <td>100.329498</td>\n",
       "      <td>100.141228</td>\n",
       "      <td>97.303230</td>\n",
       "      <td>99.494019</td>\n",
       "      <td>388.301575</td>\n",
       "      <td>389.911224</td>\n",
       "      <td>390.801483</td>\n",
       "      <td>414.681763</td>\n",
       "    </tr>\n",
       "    <tr>\n",
       "      <th>...</th>\n",
       "      <td>...</td>\n",
       "      <td>...</td>\n",
       "      <td>...</td>\n",
       "      <td>...</td>\n",
       "      <td>...</td>\n",
       "      <td>...</td>\n",
       "      <td>...</td>\n",
       "      <td>...</td>\n",
       "      <td>...</td>\n",
       "      <td>...</td>\n",
       "      <td>...</td>\n",
       "      <td>...</td>\n",
       "      <td>...</td>\n",
       "      <td>...</td>\n",
       "      <td>...</td>\n",
       "      <td>...</td>\n",
       "      <td>...</td>\n",
       "      <td>...</td>\n",
       "      <td>...</td>\n",
       "      <td>...</td>\n",
       "      <td>...</td>\n",
       "    </tr>\n",
       "    <tr>\n",
       "      <th>15457</th>\n",
       "      <td>396.534668</td>\n",
       "      <td>379.259277</td>\n",
       "      <td>379.890350</td>\n",
       "      <td>423.279541</td>\n",
       "      <td>99.494019</td>\n",
       "      <td>100.724030</td>\n",
       "      <td>100.142883</td>\n",
       "      <td>100.899719</td>\n",
       "      <td>99.895302</td>\n",
       "      <td>100.142883</td>\n",
       "      <td>...</td>\n",
       "      <td>184.681519</td>\n",
       "      <td>0.690934</td>\n",
       "      <td>0.874374</td>\n",
       "      <td>0.690934</td>\n",
       "      <td>2.964391</td>\n",
       "      <td>0.000000</td>\n",
       "      <td>432.920502</td>\n",
       "      <td>433.959473</td>\n",
       "      <td>434.853058</td>\n",
       "      <td>451.738556</td>\n",
       "    </tr>\n",
       "    <tr>\n",
       "      <th>15458</th>\n",
       "      <td>36.817173</td>\n",
       "      <td>94.263580</td>\n",
       "      <td>94.205780</td>\n",
       "      <td>37.762600</td>\n",
       "      <td>388.301575</td>\n",
       "      <td>385.294434</td>\n",
       "      <td>387.853760</td>\n",
       "      <td>385.710358</td>\n",
       "      <td>385.327972</td>\n",
       "      <td>387.853760</td>\n",
       "      <td>...</td>\n",
       "      <td>609.443787</td>\n",
       "      <td>432.367126</td>\n",
       "      <td>433.154266</td>\n",
       "      <td>433.474243</td>\n",
       "      <td>430.065308</td>\n",
       "      <td>432.920502</td>\n",
       "      <td>0.000000</td>\n",
       "      <td>2.945068</td>\n",
       "      <td>3.435648</td>\n",
       "      <td>41.778664</td>\n",
       "    </tr>\n",
       "    <tr>\n",
       "      <th>15459</th>\n",
       "      <td>37.543911</td>\n",
       "      <td>97.044540</td>\n",
       "      <td>96.993660</td>\n",
       "      <td>40.703236</td>\n",
       "      <td>389.911224</td>\n",
       "      <td>386.905212</td>\n",
       "      <td>389.466766</td>\n",
       "      <td>387.323364</td>\n",
       "      <td>386.933044</td>\n",
       "      <td>389.466766</td>\n",
       "      <td>...</td>\n",
       "      <td>610.182922</td>\n",
       "      <td>433.408752</td>\n",
       "      <td>434.187897</td>\n",
       "      <td>434.510620</td>\n",
       "      <td>431.109436</td>\n",
       "      <td>433.959473</td>\n",
       "      <td>2.945068</td>\n",
       "      <td>0.000000</td>\n",
       "      <td>0.897347</td>\n",
       "      <td>38.840790</td>\n",
       "    </tr>\n",
       "    <tr>\n",
       "      <th>15460</th>\n",
       "      <td>38.428928</td>\n",
       "      <td>97.681404</td>\n",
       "      <td>97.626030</td>\n",
       "      <td>41.063148</td>\n",
       "      <td>390.801483</td>\n",
       "      <td>387.795380</td>\n",
       "      <td>390.356873</td>\n",
       "      <td>388.213470</td>\n",
       "      <td>387.823547</td>\n",
       "      <td>390.356873</td>\n",
       "      <td>...</td>\n",
       "      <td>611.062500</td>\n",
       "      <td>434.302429</td>\n",
       "      <td>435.081299</td>\n",
       "      <td>435.404083</td>\n",
       "      <td>432.003204</td>\n",
       "      <td>434.853058</td>\n",
       "      <td>3.435648</td>\n",
       "      <td>0.897347</td>\n",
       "      <td>0.000000</td>\n",
       "      <td>38.396542</td>\n",
       "    </tr>\n",
       "    <tr>\n",
       "      <th>15461</th>\n",
       "      <td>62.814312</td>\n",
       "      <td>134.964981</td>\n",
       "      <td>134.964127</td>\n",
       "      <td>79.387924</td>\n",
       "      <td>414.681763</td>\n",
       "      <td>411.697540</td>\n",
       "      <td>414.277924</td>\n",
       "      <td>412.140900</td>\n",
       "      <td>411.659241</td>\n",
       "      <td>414.277924</td>\n",
       "      <td>...</td>\n",
       "      <td>623.789368</td>\n",
       "      <td>451.222137</td>\n",
       "      <td>451.900299</td>\n",
       "      <td>452.255493</td>\n",
       "      <td>448.961151</td>\n",
       "      <td>451.738556</td>\n",
       "      <td>41.778664</td>\n",
       "      <td>38.840790</td>\n",
       "      <td>38.396542</td>\n",
       "      <td>0.000000</td>\n",
       "    </tr>\n",
       "  </tbody>\n",
       "</table>\n",
       "<p>2821 rows × 2821 columns</p>\n",
       "</div>"
      ],
      "text/plain": [
       "index       12641       12642       12643       12644       12645       12646  \\\n",
       "index                                                                           \n",
       "12641    0.000000   81.273888   81.486519   48.533653  354.143250  351.144196   \n",
       "12642   81.273888    0.000000    0.690934   61.215416  318.757965  315.771484   \n",
       "12643   81.486519    0.690934    0.000000   60.995995  319.309296  316.323303   \n",
       "12644   48.533653   61.215416   60.995995    0.000000  371.048065  368.038574   \n",
       "12645  354.143250  318.757965  319.309296  371.048065    0.000000    3.011417   \n",
       "...           ...         ...         ...         ...         ...         ...   \n",
       "15457  396.534668  379.259277  379.890350  423.279541   99.494019  100.724030   \n",
       "15458   36.817173   94.263580   94.205780   37.762600  388.301575  385.294434   \n",
       "15459   37.543911   97.044540   96.993660   40.703236  389.911224  386.905212   \n",
       "15460   38.428928   97.681404   97.626030   41.063148  390.801483  387.795380   \n",
       "15461   62.814312  134.964981  134.964127   79.387924  414.681763  411.697540   \n",
       "\n",
       "index       12647       12648       12649       12650  ...       15452  \\\n",
       "index                                                  ...               \n",
       "12641  353.715332  351.573090  351.144806  353.715332  ...  572.658875   \n",
       "12642  318.222595  316.116119  315.964752  318.222595  ...  562.278748   \n",
       "12643  318.773346  316.667389  316.517731  318.773346  ...  562.924011   \n",
       "12644  370.555420  368.421265  368.150513  370.555420  ...  603.279236   \n",
       "12645    0.690934    2.642126    3.060228    0.690934  ...  270.868561   \n",
       "...           ...         ...         ...         ...  ...         ...   \n",
       "15457  100.142883  100.899719   99.895302  100.142883  ...  184.681519   \n",
       "15458  387.853760  385.710358  385.327972  387.853760  ...  609.443787   \n",
       "15459  389.466766  387.323364  386.933044  389.466766  ...  610.182922   \n",
       "15460  390.356873  388.213470  387.823547  390.356873  ...  611.062500   \n",
       "15461  414.277924  412.140900  411.659241  414.277924  ...  623.789368   \n",
       "\n",
       "index       15453       15454       15455       15456       15457       15458  \\\n",
       "index                                                                           \n",
       "12641  395.987030  396.757080  397.082825  393.690735  396.534668   36.817173   \n",
       "12642  378.637146  379.649506  379.881622  376.304321  379.259277   94.263580   \n",
       "12643  379.268005  380.281128  380.512970  376.935242  379.890350   94.205780   \n",
       "12644  422.692871  423.584381  423.866547  420.366608  423.279541   37.762600   \n",
       "12645   98.847420  100.329498  100.141228   97.303230   99.494019  388.301575   \n",
       "...           ...         ...         ...         ...         ...         ...   \n",
       "15457    0.690934    0.874374    0.690934    2.964391    0.000000  432.920502   \n",
       "15458  432.367126  433.154266  433.474243  430.065308  432.920502    0.000000   \n",
       "15459  433.408752  434.187897  434.510620  431.109436  433.959473    2.945068   \n",
       "15460  434.302429  435.081299  435.404083  432.003204  434.853058    3.435648   \n",
       "15461  451.222137  451.900299  452.255493  448.961151  451.738556   41.778664   \n",
       "\n",
       "index       15459       15460       15461  \n",
       "index                                      \n",
       "12641   37.543911   38.428928   62.814312  \n",
       "12642   97.044540   97.681404  134.964981  \n",
       "12643   96.993660   97.626030  134.964127  \n",
       "12644   40.703236   41.063148   79.387924  \n",
       "12645  389.911224  390.801483  414.681763  \n",
       "...           ...         ...         ...  \n",
       "15457  433.959473  434.853058  451.738556  \n",
       "15458    2.945068    3.435648   41.778664  \n",
       "15459    0.000000    0.897347   38.840790  \n",
       "15460    0.897347    0.000000   38.396542  \n",
       "15461   38.840790   38.396542    0.000000  \n",
       "\n",
       "[2821 rows x 2821 columns]"
      ]
     },
     "execution_count": 7,
     "metadata": {},
     "output_type": "execute_result"
    },
    {
     "data": {
      "application/javascript": [
       "\n",
       "            setTimeout(function() {\n",
       "                var nbb_cell_id = 7;\n",
       "                var nbb_unformatted_code = \"# answer goes here\\n\\ndists = geo_sim_matrix(starbucks_ca_df)\\n\\ndists\";\n",
       "                var nbb_formatted_code = \"# answer goes here\\n\\ndists = geo_sim_matrix(starbucks_ca_df)\\n\\ndists\";\n",
       "                var nbb_cells = Jupyter.notebook.get_cells();\n",
       "                for (var i = 0; i < nbb_cells.length; ++i) {\n",
       "                    if (nbb_cells[i].input_prompt_number == nbb_cell_id) {\n",
       "                        if (nbb_cells[i].get_text() == nbb_unformatted_code) {\n",
       "                             nbb_cells[i].set_text(nbb_formatted_code);\n",
       "                        }\n",
       "                        break;\n",
       "                    }\n",
       "                }\n",
       "            }, 500);\n",
       "            "
      ],
      "text/plain": [
       "<IPython.core.display.Javascript object>"
      ]
     },
     "metadata": {},
     "output_type": "display_data"
    }
   ],
   "source": [
    "# answer goes here\n",
    "\n",
    "dists = geo_sim_matrix(starbucks_ca_df)\n",
    "\n",
    "dists"
   ]
  },
  {
   "cell_type": "markdown",
   "metadata": {
    "colab_type": "text",
    "id": "86lfEP_91D_0"
   },
   "source": [
    "Build the hierarchical clustering model using n_clusters = 5 and average linkage. Bear in mind that we are passing a precomputed distance matrix, which will require an additional parameter to be manually specified. \n",
    "\n",
    "Additionally, save the predicted cluster assignments as a new column in your dataframe."
   ]
  },
  {
   "cell_type": "code",
   "execution_count": 8,
   "metadata": {
    "colab": {},
    "colab_type": "code",
    "id": "o3PUI4l61D_0"
   },
   "outputs": [
    {
     "data": {
      "text/html": [
       "<div>\n",
       "<style scoped>\n",
       "    .dataframe tbody tr th:only-of-type {\n",
       "        vertical-align: middle;\n",
       "    }\n",
       "\n",
       "    .dataframe tbody tr th {\n",
       "        vertical-align: top;\n",
       "    }\n",
       "\n",
       "    .dataframe thead th {\n",
       "        text-align: right;\n",
       "    }\n",
       "</style>\n",
       "<table border=\"1\" class=\"dataframe\">\n",
       "  <thead>\n",
       "    <tr style=\"text-align: right;\">\n",
       "      <th></th>\n",
       "      <th>Brand</th>\n",
       "      <th>Store Number</th>\n",
       "      <th>Store Name</th>\n",
       "      <th>Ownership Type</th>\n",
       "      <th>Street Address</th>\n",
       "      <th>City</th>\n",
       "      <th>State/Province</th>\n",
       "      <th>Country</th>\n",
       "      <th>Postcode</th>\n",
       "      <th>Phone Number</th>\n",
       "      <th>Timezone</th>\n",
       "      <th>Longitude</th>\n",
       "      <th>Latitude</th>\n",
       "      <th>Coordinates</th>\n",
       "      <th>clusters</th>\n",
       "    </tr>\n",
       "  </thead>\n",
       "  <tbody>\n",
       "    <tr>\n",
       "      <th>12641</th>\n",
       "      <td>Starbucks</td>\n",
       "      <td>10429-100710</td>\n",
       "      <td>Palmdale &amp; Hwy 395</td>\n",
       "      <td>Company Owned</td>\n",
       "      <td>14136 US Hwy 395</td>\n",
       "      <td>Adelanto</td>\n",
       "      <td>CA</td>\n",
       "      <td>US</td>\n",
       "      <td>923016700</td>\n",
       "      <td>760-530-9252</td>\n",
       "      <td>GMT-08:00 America/Los_Angeles</td>\n",
       "      <td>-117.40</td>\n",
       "      <td>34.51</td>\n",
       "      <td>(34.51, -117.4)</td>\n",
       "      <td>0</td>\n",
       "    </tr>\n",
       "    <tr>\n",
       "      <th>12642</th>\n",
       "      <td>Starbucks</td>\n",
       "      <td>635-352</td>\n",
       "      <td>Kanan &amp; Thousand Oaks</td>\n",
       "      <td>Company Owned</td>\n",
       "      <td>5827 Kanan Road</td>\n",
       "      <td>Agoura</td>\n",
       "      <td>CA</td>\n",
       "      <td>US</td>\n",
       "      <td>913011651</td>\n",
       "      <td>(818) 735-0268</td>\n",
       "      <td>GMT-08:00 America/Los_Angeles</td>\n",
       "      <td>-118.76</td>\n",
       "      <td>34.16</td>\n",
       "      <td>(34.16, -118.76)</td>\n",
       "      <td>0</td>\n",
       "    </tr>\n",
       "    <tr>\n",
       "      <th>12643</th>\n",
       "      <td>Starbucks</td>\n",
       "      <td>74510-27669</td>\n",
       "      <td>Vons-Agoura Hills #2001</td>\n",
       "      <td>Licensed</td>\n",
       "      <td>5671 Kanan Rd.</td>\n",
       "      <td>Agoura Hills</td>\n",
       "      <td>CA</td>\n",
       "      <td>US</td>\n",
       "      <td>913013358</td>\n",
       "      <td>818-991-2857</td>\n",
       "      <td>GMT-08:00 America/Los_Angeles</td>\n",
       "      <td>-118.76</td>\n",
       "      <td>34.15</td>\n",
       "      <td>(34.15, -118.76)</td>\n",
       "      <td>0</td>\n",
       "    </tr>\n",
       "    <tr>\n",
       "      <th>12644</th>\n",
       "      <td>Starbucks</td>\n",
       "      <td>29839-255026</td>\n",
       "      <td>Target Anaheim T-0677</td>\n",
       "      <td>Licensed</td>\n",
       "      <td>8148 E SANTA ANA CANYON ROAD</td>\n",
       "      <td>AHAHEIM</td>\n",
       "      <td>CA</td>\n",
       "      <td>US</td>\n",
       "      <td>92808</td>\n",
       "      <td>714-921-9091</td>\n",
       "      <td>GMT-08:00 America/Los_Angeles</td>\n",
       "      <td>-117.75</td>\n",
       "      <td>33.87</td>\n",
       "      <td>(33.87, -117.75)</td>\n",
       "      <td>0</td>\n",
       "    </tr>\n",
       "    <tr>\n",
       "      <th>12645</th>\n",
       "      <td>Starbucks</td>\n",
       "      <td>23463-230284</td>\n",
       "      <td>Safeway - Alameda 3281</td>\n",
       "      <td>Licensed</td>\n",
       "      <td>2600 5th Street</td>\n",
       "      <td>Alameda</td>\n",
       "      <td>CA</td>\n",
       "      <td>US</td>\n",
       "      <td>94501</td>\n",
       "      <td>510-523-1804</td>\n",
       "      <td>GMT-08:00 America/Los_Angeles</td>\n",
       "      <td>-122.28</td>\n",
       "      <td>37.79</td>\n",
       "      <td>(37.79, -122.28)</td>\n",
       "      <td>3</td>\n",
       "    </tr>\n",
       "    <tr>\n",
       "      <th>...</th>\n",
       "      <td>...</td>\n",
       "      <td>...</td>\n",
       "      <td>...</td>\n",
       "      <td>...</td>\n",
       "      <td>...</td>\n",
       "      <td>...</td>\n",
       "      <td>...</td>\n",
       "      <td>...</td>\n",
       "      <td>...</td>\n",
       "      <td>...</td>\n",
       "      <td>...</td>\n",
       "      <td>...</td>\n",
       "      <td>...</td>\n",
       "      <td>...</td>\n",
       "      <td>...</td>\n",
       "    </tr>\n",
       "    <tr>\n",
       "      <th>15457</th>\n",
       "      <td>Starbucks</td>\n",
       "      <td>14071-108147</td>\n",
       "      <td>Hwy 20 &amp; Tharp - Yuba City</td>\n",
       "      <td>Company Owned</td>\n",
       "      <td>1615 Colusa Hwy, Ste 100</td>\n",
       "      <td>Yuba City</td>\n",
       "      <td>CA</td>\n",
       "      <td>US</td>\n",
       "      <td>959939437</td>\n",
       "      <td>530-751-7187</td>\n",
       "      <td>GMT-08:00 America/Los_Angeles</td>\n",
       "      <td>-121.64</td>\n",
       "      <td>39.14</td>\n",
       "      <td>(39.14, -121.64)</td>\n",
       "      <td>3</td>\n",
       "    </tr>\n",
       "    <tr>\n",
       "      <th>15458</th>\n",
       "      <td>Starbucks</td>\n",
       "      <td>9974-98559</td>\n",
       "      <td>Yucaipa &amp; Hampton, Yucaipa</td>\n",
       "      <td>Company Owned</td>\n",
       "      <td>31364 Yucaipa Blvd., A</td>\n",
       "      <td>Yucaipa</td>\n",
       "      <td>CA</td>\n",
       "      <td>US</td>\n",
       "      <td>923991570</td>\n",
       "      <td>909-389-9587</td>\n",
       "      <td>GMT-08:00 America/Los_Angeles</td>\n",
       "      <td>-117.12</td>\n",
       "      <td>34.03</td>\n",
       "      <td>(34.03, -117.12)</td>\n",
       "      <td>0</td>\n",
       "    </tr>\n",
       "    <tr>\n",
       "      <th>15459</th>\n",
       "      <td>Starbucks</td>\n",
       "      <td>79654-108478</td>\n",
       "      <td>Vons - Yucaipa #1796</td>\n",
       "      <td>Licensed</td>\n",
       "      <td>33644 YUCAIPA BLVD</td>\n",
       "      <td>YUCAIPA</td>\n",
       "      <td>CA</td>\n",
       "      <td>US</td>\n",
       "      <td>923992071</td>\n",
       "      <td>NaN</td>\n",
       "      <td>GMT-08:00 America/Los_Angeles</td>\n",
       "      <td>-117.07</td>\n",
       "      <td>34.04</td>\n",
       "      <td>(34.04, -117.07)</td>\n",
       "      <td>0</td>\n",
       "    </tr>\n",
       "    <tr>\n",
       "      <th>15460</th>\n",
       "      <td>Starbucks</td>\n",
       "      <td>6438-245084</td>\n",
       "      <td>Yucaipa &amp; 6th</td>\n",
       "      <td>Company Owned</td>\n",
       "      <td>34050 Yucaipa Blvd., 200</td>\n",
       "      <td>Yucaipa</td>\n",
       "      <td>CA</td>\n",
       "      <td>US</td>\n",
       "      <td>92399</td>\n",
       "      <td>9097977224</td>\n",
       "      <td>GMT-08:00 America/Los_Angeles</td>\n",
       "      <td>-117.06</td>\n",
       "      <td>34.03</td>\n",
       "      <td>(34.03, -117.06)</td>\n",
       "      <td>0</td>\n",
       "    </tr>\n",
       "    <tr>\n",
       "      <th>15461</th>\n",
       "      <td>Starbucks</td>\n",
       "      <td>6829-82142</td>\n",
       "      <td>Highway 62 &amp; Warren Vista</td>\n",
       "      <td>Company Owned</td>\n",
       "      <td>57744  29 Palms Highway</td>\n",
       "      <td>Yucca Valley</td>\n",
       "      <td>CA</td>\n",
       "      <td>US</td>\n",
       "      <td>922843065</td>\n",
       "      <td>760-369-9920</td>\n",
       "      <td>GMT-08:00 America/Los_Angeles</td>\n",
       "      <td>-116.40</td>\n",
       "      <td>34.13</td>\n",
       "      <td>(34.13, -116.4)</td>\n",
       "      <td>0</td>\n",
       "    </tr>\n",
       "  </tbody>\n",
       "</table>\n",
       "<p>2821 rows × 15 columns</p>\n",
       "</div>"
      ],
      "text/plain": [
       "           Brand  Store Number                  Store Name Ownership Type  \\\n",
       "12641  Starbucks  10429-100710          Palmdale & Hwy 395  Company Owned   \n",
       "12642  Starbucks       635-352       Kanan & Thousand Oaks  Company Owned   \n",
       "12643  Starbucks   74510-27669     Vons-Agoura Hills #2001       Licensed   \n",
       "12644  Starbucks  29839-255026       Target Anaheim T-0677       Licensed   \n",
       "12645  Starbucks  23463-230284      Safeway - Alameda 3281       Licensed   \n",
       "...          ...           ...                         ...            ...   \n",
       "15457  Starbucks  14071-108147  Hwy 20 & Tharp - Yuba City  Company Owned   \n",
       "15458  Starbucks    9974-98559  Yucaipa & Hampton, Yucaipa  Company Owned   \n",
       "15459  Starbucks  79654-108478        Vons - Yucaipa #1796       Licensed   \n",
       "15460  Starbucks   6438-245084               Yucaipa & 6th  Company Owned   \n",
       "15461  Starbucks    6829-82142   Highway 62 & Warren Vista  Company Owned   \n",
       "\n",
       "                     Street Address          City State/Province Country  \\\n",
       "12641              14136 US Hwy 395      Adelanto             CA      US   \n",
       "12642               5827 Kanan Road        Agoura             CA      US   \n",
       "12643                5671 Kanan Rd.  Agoura Hills             CA      US   \n",
       "12644  8148 E SANTA ANA CANYON ROAD       AHAHEIM             CA      US   \n",
       "12645               2600 5th Street       Alameda             CA      US   \n",
       "...                             ...           ...            ...     ...   \n",
       "15457      1615 Colusa Hwy, Ste 100     Yuba City             CA      US   \n",
       "15458        31364 Yucaipa Blvd., A       Yucaipa             CA      US   \n",
       "15459            33644 YUCAIPA BLVD       YUCAIPA             CA      US   \n",
       "15460      34050 Yucaipa Blvd., 200       Yucaipa             CA      US   \n",
       "15461       57744  29 Palms Highway  Yucca Valley             CA      US   \n",
       "\n",
       "        Postcode    Phone Number                       Timezone  Longitude  \\\n",
       "12641  923016700    760-530-9252  GMT-08:00 America/Los_Angeles    -117.40   \n",
       "12642  913011651  (818) 735-0268  GMT-08:00 America/Los_Angeles    -118.76   \n",
       "12643  913013358    818-991-2857  GMT-08:00 America/Los_Angeles    -118.76   \n",
       "12644      92808    714-921-9091  GMT-08:00 America/Los_Angeles    -117.75   \n",
       "12645      94501    510-523-1804  GMT-08:00 America/Los_Angeles    -122.28   \n",
       "...          ...             ...                            ...        ...   \n",
       "15457  959939437    530-751-7187  GMT-08:00 America/Los_Angeles    -121.64   \n",
       "15458  923991570    909-389-9587  GMT-08:00 America/Los_Angeles    -117.12   \n",
       "15459  923992071             NaN  GMT-08:00 America/Los_Angeles    -117.07   \n",
       "15460      92399      9097977224  GMT-08:00 America/Los_Angeles    -117.06   \n",
       "15461  922843065    760-369-9920  GMT-08:00 America/Los_Angeles    -116.40   \n",
       "\n",
       "       Latitude       Coordinates  clusters  \n",
       "12641     34.51   (34.51, -117.4)         0  \n",
       "12642     34.16  (34.16, -118.76)         0  \n",
       "12643     34.15  (34.15, -118.76)         0  \n",
       "12644     33.87  (33.87, -117.75)         0  \n",
       "12645     37.79  (37.79, -122.28)         3  \n",
       "...         ...               ...       ...  \n",
       "15457     39.14  (39.14, -121.64)         3  \n",
       "15458     34.03  (34.03, -117.12)         0  \n",
       "15459     34.04  (34.04, -117.07)         0  \n",
       "15460     34.03  (34.03, -117.06)         0  \n",
       "15461     34.13   (34.13, -116.4)         0  \n",
       "\n",
       "[2821 rows x 15 columns]"
      ]
     },
     "execution_count": 8,
     "metadata": {},
     "output_type": "execute_result"
    },
    {
     "data": {
      "application/javascript": [
       "\n",
       "            setTimeout(function() {\n",
       "                var nbb_cell_id = 8;\n",
       "                var nbb_unformatted_code = \"# answer goes here\\n\\nagg_cluster = AgglomerativeClustering(\\n    n_clusters=5, affinity=\\\"precomputed\\\", linkage=\\\"average\\\"\\n)\\nstarbucks_ca_df[\\\"clusters\\\"] = agg_cluster.fit_predict(dists)\\nstarbucks_ca_df\";\n",
       "                var nbb_formatted_code = \"# answer goes here\\n\\nagg_cluster = AgglomerativeClustering(\\n    n_clusters=5, affinity=\\\"precomputed\\\", linkage=\\\"average\\\"\\n)\\nstarbucks_ca_df[\\\"clusters\\\"] = agg_cluster.fit_predict(dists)\\nstarbucks_ca_df\";\n",
       "                var nbb_cells = Jupyter.notebook.get_cells();\n",
       "                for (var i = 0; i < nbb_cells.length; ++i) {\n",
       "                    if (nbb_cells[i].input_prompt_number == nbb_cell_id) {\n",
       "                        if (nbb_cells[i].get_text() == nbb_unformatted_code) {\n",
       "                             nbb_cells[i].set_text(nbb_formatted_code);\n",
       "                        }\n",
       "                        break;\n",
       "                    }\n",
       "                }\n",
       "            }, 500);\n",
       "            "
      ],
      "text/plain": [
       "<IPython.core.display.Javascript object>"
      ]
     },
     "metadata": {},
     "output_type": "display_data"
    }
   ],
   "source": [
    "# answer goes here\n",
    "\n",
    "agg_cluster = AgglomerativeClustering(\n",
    "    n_clusters=5, affinity=\"precomputed\", linkage=\"average\"\n",
    ")\n",
    "starbucks_ca_df[\"clusters\"] = agg_cluster.fit_predict(dists)\n",
    "starbucks_ca_df"
   ]
  },
  {
   "cell_type": "markdown",
   "metadata": {
    "colab_type": "text",
    "id": "MUjcLMMk1D_2"
   },
   "source": [
    "Plot the dendrogram using the provided starter code/function \"plot_dendrogram\". The dendrogram will be difficult to read because there are so many leaf nodes; try experimenting with smaller geographical areas for easier to read dendrograms."
   ]
  },
  {
   "cell_type": "code",
   "execution_count": 9,
   "metadata": {
    "colab": {},
    "colab_type": "code",
    "id": "6OTdN8oF1D_2"
   },
   "outputs": [
    {
     "data": {
      "image/png": "[encoded data removed]",
      "text/plain": [
       "<Figure size 1152x720 with 1 Axes>"
      ]
     },
     "metadata": {
      "needs_background": "light"
     },
     "output_type": "display_data"
    },
    {
     "data": {
      "application/javascript": [
       "\n",
       "            setTimeout(function() {\n",
       "                var nbb_cell_id = 9;\n",
       "                var nbb_unformatted_code = \"# answer goes here\\n\\nplt.figure(figsize=(16,10))\\nplot_dendrogram(agg_cluster, p=8, truncate_mode='level')\";\n",
       "                var nbb_formatted_code = \"# answer goes here\\n\\nplt.figure(figsize=(16, 10))\\nplot_dendrogram(agg_cluster, p=8, truncate_mode=\\\"level\\\")\";\n",
       "                var nbb_cells = Jupyter.notebook.get_cells();\n",
       "                for (var i = 0; i < nbb_cells.length; ++i) {\n",
       "                    if (nbb_cells[i].input_prompt_number == nbb_cell_id) {\n",
       "                        if (nbb_cells[i].get_text() == nbb_unformatted_code) {\n",
       "                             nbb_cells[i].set_text(nbb_formatted_code);\n",
       "                        }\n",
       "                        break;\n",
       "                    }\n",
       "                }\n",
       "            }, 500);\n",
       "            "
      ],
      "text/plain": [
       "<IPython.core.display.Javascript object>"
      ]
     },
     "metadata": {},
     "output_type": "display_data"
    }
   ],
   "source": [
    "# answer goes here\n",
    "\n",
    "plt.figure(figsize=(16,10))\n",
    "plot_dendrogram(agg_cluster, p=8, truncate_mode='level')\n"
   ]
  },
  {
   "cell_type": "code",
   "execution_count": 10,
   "metadata": {},
   "outputs": [
    {
     "data": {
      "image/png": "[encoded data removed]",
      "text/plain": [
       "<Figure size 1152x720 with 1 Axes>"
      ]
     },
     "metadata": {
      "needs_background": "light"
     },
     "output_type": "display_data"
    },
    {
     "data": {
      "application/javascript": [
       "\n",
       "            setTimeout(function() {\n",
       "                var nbb_cell_id = 10;\n",
       "                var nbb_unformatted_code = \"def state_cluster(state, df_in, n_clusters=5, dendrogram=True):\\n    df = df_in.loc[lambda x: x['State/Province'] == state].copy()\\n\\n    df['Coordinates'] = list(zip(df['Latitude'], df['Longitude']))\\n\\n    dists = geo_sim_matrix(df)\\n\\n    agg_cluster = AgglomerativeClustering(\\n        n_clusters=n_clusters, affinity=\\\"precomputed\\\", linkage=\\\"average\\\"\\n    )\\n    df[\\\"clusters\\\"] = agg_cluster.fit_predict(dists)\\n\\n    if dendrogram:\\n        plt.figure(figsize=(16,10))\\n        plot_dendrogram(agg_cluster, p=9, truncate_mode='level')\\n        \\n    return df\\n\\nstarbucks_pa_df = state_cluster('PA', starbucks_df)\";\n",
       "                var nbb_formatted_code = \"def state_cluster(state, df_in, n_clusters=5, dendrogram=True):\\n    df = df_in.loc[lambda x: x[\\\"State/Province\\\"] == state].copy()\\n\\n    df[\\\"Coordinates\\\"] = list(zip(df[\\\"Latitude\\\"], df[\\\"Longitude\\\"]))\\n\\n    dists = geo_sim_matrix(df)\\n\\n    agg_cluster = AgglomerativeClustering(\\n        n_clusters=n_clusters, affinity=\\\"precomputed\\\", linkage=\\\"average\\\"\\n    )\\n    df[\\\"clusters\\\"] = agg_cluster.fit_predict(dists)\\n\\n    if dendrogram:\\n        plt.figure(figsize=(16, 10))\\n        plot_dendrogram(agg_cluster, p=9, truncate_mode=\\\"level\\\")\\n\\n    return df\\n\\n\\nstarbucks_pa_df = state_cluster(\\\"PA\\\", starbucks_df)\";\n",
       "                var nbb_cells = Jupyter.notebook.get_cells();\n",
       "                for (var i = 0; i < nbb_cells.length; ++i) {\n",
       "                    if (nbb_cells[i].input_prompt_number == nbb_cell_id) {\n",
       "                        if (nbb_cells[i].get_text() == nbb_unformatted_code) {\n",
       "                             nbb_cells[i].set_text(nbb_formatted_code);\n",
       "                        }\n",
       "                        break;\n",
       "                    }\n",
       "                }\n",
       "            }, 500);\n",
       "            "
      ],
      "text/plain": [
       "<IPython.core.display.Javascript object>"
      ]
     },
     "metadata": {},
     "output_type": "display_data"
    }
   ],
   "source": [
    "def state_cluster(state, df_in, n_clusters=5, dendrogram=True):\n",
    "    df = df_in.loc[lambda x: x['State/Province'] == state].copy()\n",
    "\n",
    "    df['Coordinates'] = list(zip(df['Latitude'], df['Longitude']))\n",
    "\n",
    "    dists = geo_sim_matrix(df)\n",
    "\n",
    "    agg_cluster = AgglomerativeClustering(\n",
    "        n_clusters=n_clusters, affinity=\"precomputed\", linkage=\"average\"\n",
    "    )\n",
    "    df[\"clusters\"] = agg_cluster.fit_predict(dists)\n",
    "\n",
    "    if dendrogram:\n",
    "        plt.figure(figsize=(16,10))\n",
    "        plot_dendrogram(agg_cluster, p=9, truncate_mode='level')\n",
    "        \n",
    "    return df\n",
    "\n",
    "starbucks_pa_df = state_cluster('PA', starbucks_df)\n"
   ]
  },
  {
   "cell_type": "markdown",
   "metadata": {
    "colab_type": "text",
    "id": "ao3Y5FVp1D_4"
   },
   "source": [
    "Finally, plot the resulting clusters on a map using the \"scatter_geo\" function from plotly.express. The map defaults to the entire world; the \"scope\" parameter is useful for narrowing down the region plotted in the map. The documentation can be found here:\n",
    "\n",
    "https://www.plotly.express/plotly_express/#plotly_express.scatter_geo\n",
    "\n",
    "Tip: If the markers on the map are too large, their size can be changed with the following line of code:\n",
    "\n",
    "*fig.update_traces(marker=dict(size=...)))*\n",
    "\n",
    "Do the clusters correspond to geographic areas you would expect? Experiment with other values for n_cluster and linkage and see how they affect the results."
   ]
  },
  {
   "cell_type": "code",
   "execution_count": 19,
   "metadata": {
    "colab": {},
    "colab_type": "code",
    "id": "sUhMxZdL1D_4",
    "scrolled": true
   },
   "outputs": [
    {
     "data": {
      "application/vnd.plotly.v1+json": {
       "config": {
        "plotlyServerURL": "https://plot.ly"
       },
       "data": [
        {
         "geo": "geo",
         "hovertemplate": "Latitude=%{lat}<br>Longitude=%{lon}<br>clusters=%{marker.color}<extra></extra>",
         "lat": [
          40.09,
          40.13,
          40.65,
          40.6,
          40.59,
          40.61,
          40.57,
          40.56,
          40.64,
          40.01,
          40.01,
          40.7,
          40.03,
          39.97,
          40.14,
          40.34,
          40.34,
          40.34,
          40.35,
          40.65,
          40.66,
          41.01,
          41.01,
          40.2,
          40,
          40.38,
          40.35,
          39.88,
          39.96,
          39.98,
          40.02,
          40.88,
          40.24,
          40.22,
          40.24,
          40.26,
          40.2,
          40.2,
          40.2,
          40.27,
          39.94,
          39.94,
          40.08,
          41.21,
          41.49,
          40.16,
          40.09,
          40.7,
          40.69,
          40.68,
          40.05,
          41.47,
          40.27,
          40.32,
          40.31,
          40.14,
          40.14,
          40.69,
          40.72,
          39.98,
          40.14,
          40.15,
          40.28,
          40.17,
          42.07,
          42.1,
          42.06,
          42.05,
          42.13,
          42.06,
          40.03,
          40.03,
          40.05,
          40.04,
          40.03,
          40.05,
          40.45,
          40.15,
          40.11,
          40.1,
          39.84,
          40.64,
          40.62,
          39.88,
          39.86,
          39.88,
          40.3,
          40.31,
          41.14,
          39.83,
          39.77,
          40.33,
          40.25,
          40.31,
          40.28,
          40.3,
          40.25,
          39.97,
          39.97,
          40.56,
          41.23,
          40.26,
          40.27,
          40.29,
          40.22,
          40.18,
          40.09,
          40.17,
          40.61,
          40.62,
          40.32,
          40.26,
          40.1,
          40.97,
          40.28,
          39.86,
          40.09,
          40.09,
          40.08,
          40.09,
          40.09,
          40.09,
          40.09,
          40.09,
          40.51,
          40.03,
          40.03,
          40.07,
          40.07,
          40.04,
          40.08,
          40.18,
          40.18,
          40.18,
          40.18,
          40.25,
          40.29,
          40.21,
          40.56,
          40.96,
          40.98,
          40.06,
          40.13,
          40.13,
          41.14,
          40.31,
          40.05,
          40.28,
          40.27,
          40.3,
          40.25,
          40.25,
          40.25,
          40.19,
          39.92,
          40.2,
          40.68,
          40.68,
          40.43,
          40.44,
          40.24,
          40.52,
          41.36,
          41.1,
          41.24,
          40.43,
          40.36,
          40.59,
          40.21,
          40.14,
          40.23,
          39.99,
          40.13,
          40.32,
          40.22,
          40.23,
          40.24,
          40.13,
          40.04,
          39.95,
          39.95,
          40.03,
          39.92,
          39.95,
          40.04,
          40.03,
          40,
          39.95,
          39.95,
          39.95,
          40.01,
          39.98,
          40,
          39.95,
          39.95,
          39.94,
          39.94,
          40.01,
          40.1,
          39.95,
          39.96,
          40.1,
          40.08,
          39.95,
          39.95,
          39.95,
          39.95,
          39.95,
          40.05,
          39.95,
          40.07,
          39.95,
          39.95,
          39.95,
          39.95,
          39.99,
          39.95,
          39.95,
          40,
          39.95,
          39.96,
          40.09,
          39.95,
          39.88,
          39.95,
          39.95,
          40.5,
          40.44,
          40.44,
          40.44,
          40.44,
          40.45,
          40.43,
          40.39,
          40.42,
          40.5,
          40.53,
          40.44,
          40.46,
          40.46,
          40.46,
          40.55,
          40.45,
          40.44,
          40.4,
          40.46,
          40.45,
          40.34,
          40.54,
          40.36,
          40.46,
          40.44,
          40.55,
          40.52,
          40.5,
          40.44,
          40.44,
          40.44,
          40.44,
          40.53,
          40.54,
          40.43,
          40.44,
          40.44,
          40.43,
          40.44,
          40.44,
          40.45,
          40.44,
          40.44,
          40.45,
          40.21,
          40.1,
          40.1,
          40.11,
          40.24,
          40.45,
          40.46,
          40.31,
          40.12,
          40.21,
          40.21,
          41.06,
          41.41,
          41.41,
          40.84,
          40.8,
          40.84,
          40.54,
          40.54,
          40.06,
          39.77,
          41.06,
          40.1,
          40.03,
          40.02,
          40.08,
          39.91,
          39.91,
          40.19,
          40.8,
          40.79,
          40.79,
          40.81,
          40.26,
          40.26,
          40.98,
          40.57,
          40.4,
          40.14,
          40.57,
          40.55,
          39.91,
          40.81,
          39.96,
          40.17,
          40.52,
          40.04,
          40.21,
          40.22,
          40.19,
          40.18,
          40.06,
          40.04,
          40.04,
          40.07,
          39.95,
          39.97,
          40,
          39.96,
          39.82,
          40.41,
          40.41,
          40.34,
          39.9,
          40.62,
          40.62,
          40.63,
          40.63,
          40.63,
          41.24,
          41.24,
          41.24,
          40.14,
          40.14,
          40,
          40,
          40.34,
          40.2,
          40.24,
          39.94,
          39.98,
          39.96,
          39.98,
          39.94,
          39.98,
          39.91
         ],
         "legendgroup": "",
         "lon": [
          -75.09,
          -75.12,
          -75.44,
          -75.47,
          -75.55,
          -75.54,
          -75.56,
          -75.49,
          -75.44,
          -75.29,
          -75.24,
          -80.3,
          -78.49,
          -78.52,
          -79.84,
          -80.05,
          -80.03,
          -80.06,
          -80.05,
          -75.3,
          -75.42,
          -76.45,
          -76.45,
          -76.02,
          -78.24,
          -80.1,
          -80.11,
          -75.4,
          -75.35,
          -75.35,
          -75.32,
          -79.95,
          -76.93,
          -76.93,
          -76.94,
          -80.17,
          -77.18,
          -77.16,
          -77.16,
          -75.24,
          -77.63,
          -77.63,
          -75.16,
          -79.38,
          -75.7,
          -75.48,
          -75.29,
          -80.11,
          -80.08,
          -80.11,
          -75.41,
          -75.64,
          -75.13,
          -75.13,
          -75.13,
          -75.17,
          -75.31,
          -75.27,
          -75.28,
          -75.44,
          -76.59,
          -75.83,
          -77.07,
          -76.16,
          -80.1,
          -80.13,
          -80.09,
          -80.09,
          -80.09,
          -80.1,
          -75.62,
          -75.63,
          -75.66,
          -75.63,
          -75.63,
          -75.66,
          -80.18,
          -75,
          -75.21,
          -75.21,
          -77.2,
          -79.94,
          -80.01,
          -75.53,
          -75.54,
          -75.54,
          -79.5,
          -79.58,
          -80.16,
          -76.99,
          -76.96,
          -76.86,
          -76.81,
          -76.81,
          -76.82,
          -76.85,
          -76.83,
          -75.3,
          -75.32,
          -75.34,
          -80.45,
          -76.68,
          -76.65,
          -76.65,
          -76.79,
          -75.13,
          -75.09,
          -75.07,
          -79.18,
          -79.16,
          -79.69,
          -75.09,
          -75.13,
          -75.64,
          -78.85,
          -75.68,
          -75.39,
          -75.39,
          -75.4,
          -75.36,
          -75.36,
          -75.39,
          -75.38,
          -75.37,
          -75.78,
          -76.2,
          -76.22,
          -76.34,
          -76.34,
          -76.34,
          -76.32,
          -74.88,
          -74.91,
          -74.88,
          -74.88,
          -75.29,
          -79.39,
          -76.57,
          -75.41,
          -76.89,
          -76.88,
          -75.65,
          -76.3,
          -76.31,
          -77.46,
          -76.8,
          -75.52,
          -80.08,
          -80.13,
          -80.1,
          -77.03,
          -77.01,
          -77.01,
          -76.98,
          -75.38,
          -76.76,
          -80.3,
          -80.3,
          -79.79,
          -79.77,
          -75.24,
          -80.22,
          -75.68,
          -75.33,
          -76.83,
          -79.7,
          -74.95,
          -79.75,
          -79.57,
          -77.56,
          -74.94,
          -75.39,
          -75.4,
          -79.69,
          -75.25,
          -75.24,
          -75.24,
          -75.45,
          -75.49,
          -75.21,
          -75.15,
          -75.21,
          -75.17,
          -75.19,
          -75.15,
          -75.23,
          -75.23,
          -75.16,
          -75.17,
          -75.17,
          -75.21,
          -75.15,
          -75.15,
          -75.17,
          -75.16,
          -75.16,
          -75.15,
          -75.21,
          -75.02,
          -75.2,
          -75.19,
          -75.01,
          -75.21,
          -75.17,
          -75.16,
          -75.2,
          -75.17,
          -75.17,
          -75.06,
          -75.19,
          -75.01,
          -75.19,
          -75.16,
          -75.16,
          -75.15,
          -75.09,
          -75.17,
          -75.16,
          -75.22,
          -75.16,
          -75.17,
          -74.96,
          -75.17,
          -75.25,
          -75.19,
          -75.17,
          -80.26,
          -79.96,
          -79.96,
          -79.92,
          -79.99,
          -80.01,
          -79.92,
          -80.07,
          -80.05,
          -80.26,
          -80.01,
          -80,
          -79.94,
          -79.94,
          -79.92,
          -80.05,
          -80.16,
          -80.15,
          -80.04,
          -79.93,
          -80.16,
          -80.06,
          -80.01,
          -80.05,
          -79.95,
          -79.95,
          -80.02,
          -79.85,
          -79.85,
          -80,
          -80,
          -79.77,
          -79.99,
          -80.01,
          -80.07,
          -79.81,
          -80,
          -79.99,
          -79.98,
          -79.96,
          -80,
          -79.93,
          -80,
          -80,
          -80.18,
          -77.28,
          -75.29,
          -75.29,
          -75.29,
          -75.57,
          -75.36,
          -75.37,
          -75.86,
          -75.14,
          -75.5,
          -75.5,
          -75.32,
          -75.67,
          -75.66,
          -76.83,
          -76.87,
          -76.84,
          -80.18,
          -80.19,
          -77.52,
          -76.67,
          -80.05,
          -79.2,
          -79.12,
          -79.08,
          -75.44,
          -75.35,
          -75.34,
          -75.23,
          -77.86,
          -77.84,
          -77.86,
          -77.91,
          -75.65,
          -75.65,
          -75.2,
          -79.8,
          -75.93,
          -74.96,
          -75.56,
          -75.6,
          -79.76,
          -77.86,
          -75.29,
          -75.04,
          -79.81,
          -75.35,
          -75.1,
          -75.14,
          -80.22,
          -80.23,
          -78.09,
          -75.38,
          -75.37,
          -75.43,
          -75.6,
          -75.58,
          -75.57,
          -75.61,
          -75.87,
          -79.92,
          -79.92,
          -76,
          -75.56,
          -80.05,
          -80.09,
          -80.06,
          -75.48,
          -75.48,
          -75.89,
          -75.86,
          -77,
          -75.12,
          -75.12,
          -75.27,
          -75.28,
          -75.98,
          -74.86,
          -74.84,
          -76.68,
          -76.73,
          -76.78,
          -76.77,
          -76.69,
          -76.68,
          -76.68
         ],
         "marker": {
          "color": [
           0,
           0,
           0,
           0,
           0,
           0,
           0,
           0,
           0,
           0,
           0,
           4,
           6,
           6,
           4,
           4,
           4,
           4,
           4,
           0,
           0,
           7,
           7,
           2,
           6,
           4,
           4,
           0,
           0,
           0,
           0,
           1,
           2,
           2,
           2,
           4,
           2,
           2,
           2,
           0,
           6,
           6,
           0,
           1,
           9,
           0,
           0,
           4,
           4,
           4,
           0,
           9,
           0,
           0,
           0,
           0,
           0,
           0,
           0,
           0,
           2,
           0,
           2,
           2,
           5,
           5,
           5,
           5,
           5,
           5,
           0,
           0,
           0,
           0,
           0,
           0,
           4,
           0,
           0,
           0,
           2,
           4,
           4,
           0,
           0,
           0,
           4,
           4,
           1,
           2,
           2,
           2,
           2,
           2,
           2,
           2,
           2,
           0,
           0,
           0,
           1,
           2,
           2,
           2,
           2,
           0,
           0,
           0,
           3,
           3,
           4,
           0,
           0,
           0,
           3,
           0,
           0,
           0,
           0,
           0,
           0,
           0,
           0,
           0,
           2,
           2,
           2,
           2,
           2,
           2,
           2,
           0,
           0,
           0,
           0,
           0,
           4,
           2,
           0,
           7,
           7,
           0,
           2,
           2,
           8,
           2,
           0,
           4,
           4,
           4,
           2,
           2,
           2,
           2,
           0,
           2,
           4,
           4,
           4,
           4,
           0,
           4,
           9,
           0,
           7,
           4,
           0,
           4,
           4,
           6,
           0,
           0,
           0,
           4,
           0,
           0,
           0,
           0,
           0,
           0,
           0,
           0,
           0,
           0,
           0,
           0,
           0,
           0,
           0,
           0,
           0,
           0,
           0,
           0,
           0,
           0,
           0,
           0,
           0,
           0,
           0,
           0,
           0,
           0,
           0,
           0,
           0,
           0,
           0,
           0,
           0,
           0,
           0,
           0,
           0,
           0,
           0,
           0,
           0,
           0,
           0,
           0,
           0,
           0,
           0,
           0,
           4,
           4,
           4,
           4,
           4,
           4,
           4,
           4,
           4,
           4,
           4,
           4,
           4,
           4,
           4,
           4,
           4,
           4,
           4,
           4,
           4,
           4,
           4,
           4,
           4,
           4,
           4,
           4,
           4,
           4,
           4,
           4,
           4,
           4,
           4,
           4,
           4,
           4,
           4,
           4,
           4,
           4,
           4,
           4,
           4,
           2,
           0,
           0,
           0,
           0,
           0,
           0,
           2,
           0,
           0,
           0,
           0,
           9,
           9,
           7,
           7,
           7,
           4,
           4,
           6,
           2,
           1,
           3,
           3,
           3,
           0,
           0,
           0,
           0,
           8,
           8,
           8,
           8,
           0,
           0,
           0,
           4,
           2,
           0,
           0,
           0,
           4,
           8,
           0,
           0,
           4,
           0,
           0,
           0,
           4,
           4,
           6,
           0,
           0,
           0,
           0,
           0,
           0,
           0,
           0,
           4,
           4,
           2,
           0,
           4,
           4,
           4,
           0,
           0,
           9,
           9,
           7,
           0,
           0,
           0,
           0,
           2,
           0,
           0,
           2,
           2,
           2,
           2,
           2,
           2,
           2
          ],
          "coloraxis": "coloraxis"
         },
         "name": "",
         "showlegend": false,
         "type": "scattergeo"
        }
       ],
       "layout": {
        "coloraxis": {
         "colorbar": {
          "title": {
           "text": "clusters"
          }
         },
         "colorscale": [
          [
           0,
           "#0d0887"
          ],
          [
           0.1111111111111111,
           "#46039f"
          ],
          [
           0.2222222222222222,
           "#7201a8"
          ],
          [
           0.3333333333333333,
           "#9c179e"
          ],
          [
           0.4444444444444444,
           "#bd3786"
          ],
          [
           0.5555555555555556,
           "#d8576b"
          ],
          [
           0.6666666666666666,
           "#ed7953"
          ],
          [
           0.7777777777777778,
           "#fb9f3a"
          ],
          [
           0.8888888888888888,
           "#fdca26"
          ],
          [
           1,
           "#f0f921"
          ]
         ]
        },
        "geo": {
         "center": {
          "lat": 40.79,
          "lon": -77.84
         },
         "domain": {
          "x": [
           0,
           1
          ],
          "y": [
           0,
           1
          ]
         },
         "projection": {
          "scale": 8,
          "type": "albers usa"
         },
         "scope": "usa"
        },
        "legend": {
         "tracegroupgap": 0
        },
        "margin": {
         "t": 60
        },
        "template": {
         "data": {
          "bar": [
           {
            "error_x": {
             "color": "#2a3f5f"
            },
            "error_y": {
             "color": "#2a3f5f"
            },
            "marker": {
             "line": {
              "color": "#E5ECF6",
              "width": 0.5
             }
            },
            "type": "bar"
           }
          ],
          "barpolar": [
           {
            "marker": {
             "line": {
              "color": "#E5ECF6",
              "width": 0.5
             }
            },
            "type": "barpolar"
           }
          ],
          "carpet": [
           {
            "aaxis": {
             "endlinecolor": "#2a3f5f",
             "gridcolor": "white",
             "linecolor": "white",
             "minorgridcolor": "white",
             "startlinecolor": "#2a3f5f"
            },
            "baxis": {
             "endlinecolor": "#2a3f5f",
             "gridcolor": "white",
             "linecolor": "white",
             "minorgridcolor": "white",
             "startlinecolor": "#2a3f5f"
            },
            "type": "carpet"
           }
          ],
          "choropleth": [
           {
            "colorbar": {
             "outlinewidth": 0,
             "ticks": ""
            },
            "type": "choropleth"
           }
          ],
          "contour": [
           {
            "colorbar": {
             "outlinewidth": 0,
             "ticks": ""
            },
            "colorscale": [
             [
              0,
              "#0d0887"
             ],
             [
              0.1111111111111111,
              "#46039f"
             ],
             [
              0.2222222222222222,
              "#7201a8"
             ],
             [
              0.3333333333333333,
              "#9c179e"
             ],
             [
              0.4444444444444444,
              "#bd3786"
             ],
             [
              0.5555555555555556,
              "#d8576b"
             ],
             [
              0.6666666666666666,
              "#ed7953"
             ],
             [
              0.7777777777777778,
              "#fb9f3a"
             ],
             [
              0.8888888888888888,
              "#fdca26"
             ],
             [
              1,
              "#f0f921"
             ]
            ],
            "type": "contour"
           }
          ],
          "contourcarpet": [
           {
            "colorbar": {
             "outlinewidth": 0,
             "ticks": ""
            },
            "type": "contourcarpet"
           }
          ],
          "heatmap": [
           {
            "colorbar": {
             "outlinewidth": 0,
             "ticks": ""
            },
            "colorscale": [
             [
              0,
              "#0d0887"
             ],
             [
              0.1111111111111111,
              "#46039f"
             ],
             [
              0.2222222222222222,
              "#7201a8"
             ],
             [
              0.3333333333333333,
              "#9c179e"
             ],
             [
              0.4444444444444444,
              "#bd3786"
             ],
             [
              0.5555555555555556,
              "#d8576b"
             ],
             [
              0.6666666666666666,
              "#ed7953"
             ],
             [
              0.7777777777777778,
              "#fb9f3a"
             ],
             [
              0.8888888888888888,
              "#fdca26"
             ],
             [
              1,
              "#f0f921"
             ]
            ],
            "type": "heatmap"
           }
          ],
          "heatmapgl": [
           {
            "colorbar": {
             "outlinewidth": 0,
             "ticks": ""
            },
            "colorscale": [
             [
              0,
              "#0d0887"
             ],
             [
              0.1111111111111111,
              "#46039f"
             ],
             [
              0.2222222222222222,
              "#7201a8"
             ],
             [
              0.3333333333333333,
              "#9c179e"
             ],
             [
              0.4444444444444444,
              "#bd3786"
             ],
             [
              0.5555555555555556,
              "#d8576b"
             ],
             [
              0.6666666666666666,
              "#ed7953"
             ],
             [
              0.7777777777777778,
              "#fb9f3a"
             ],
             [
              0.8888888888888888,
              "#fdca26"
             ],
             [
              1,
              "#f0f921"
             ]
            ],
            "type": "heatmapgl"
           }
          ],
          "histogram": [
           {
            "marker": {
             "colorbar": {
              "outlinewidth": 0,
              "ticks": ""
             }
            },
            "type": "histogram"
           }
          ],
          "histogram2d": [
           {
            "colorbar": {
             "outlinewidth": 0,
             "ticks": ""
            },
            "colorscale": [
             [
              0,
              "#0d0887"
             ],
             [
              0.1111111111111111,
              "#46039f"
             ],
             [
              0.2222222222222222,
              "#7201a8"
             ],
             [
              0.3333333333333333,
              "#9c179e"
             ],
             [
              0.4444444444444444,
              "#bd3786"
             ],
             [
              0.5555555555555556,
              "#d8576b"
             ],
             [
              0.6666666666666666,
              "#ed7953"
             ],
             [
              0.7777777777777778,
              "#fb9f3a"
             ],
             [
              0.8888888888888888,
              "#fdca26"
             ],
             [
              1,
              "#f0f921"
             ]
            ],
            "type": "histogram2d"
           }
          ],
          "histogram2dcontour": [
           {
            "colorbar": {
             "outlinewidth": 0,
             "ticks": ""
            },
            "colorscale": [
             [
              0,
              "#0d0887"
             ],
             [
              0.1111111111111111,
              "#46039f"
             ],
             [
              0.2222222222222222,
              "#7201a8"
             ],
             [
              0.3333333333333333,
              "#9c179e"
             ],
             [
              0.4444444444444444,
              "#bd3786"
             ],
             [
              0.5555555555555556,
              "#d8576b"
             ],
             [
              0.6666666666666666,
              "#ed7953"
             ],
             [
              0.7777777777777778,
              "#fb9f3a"
             ],
             [
              0.8888888888888888,
              "#fdca26"
             ],
             [
              1,
              "#f0f921"
             ]
            ],
            "type": "histogram2dcontour"
           }
          ],
          "mesh3d": [
           {
            "colorbar": {
             "outlinewidth": 0,
             "ticks": ""
            },
            "type": "mesh3d"
           }
          ],
          "parcoords": [
           {
            "line": {
             "colorbar": {
              "outlinewidth": 0,
              "ticks": ""
             }
            },
            "type": "parcoords"
           }
          ],
          "pie": [
           {
            "automargin": true,
            "type": "pie"
           }
          ],
          "scatter": [
           {
            "marker": {
             "colorbar": {
              "outlinewidth": 0,
              "ticks": ""
             }
            },
            "type": "scatter"
           }
          ],
          "scatter3d": [
           {
            "line": {
             "colorbar": {
              "outlinewidth": 0,
              "ticks": ""
             }
            },
            "marker": {
             "colorbar": {
              "outlinewidth": 0,
              "ticks": ""
             }
            },
            "type": "scatter3d"
           }
          ],
          "scattercarpet": [
           {
            "marker": {
             "colorbar": {
              "outlinewidth": 0,
              "ticks": ""
             }
            },
            "type": "scattercarpet"
           }
          ],
          "scattergeo": [
           {
            "marker": {
             "colorbar": {
              "outlinewidth": 0,
              "ticks": ""
             }
            },
            "type": "scattergeo"
           }
          ],
          "scattergl": [
           {
            "marker": {
             "colorbar": {
              "outlinewidth": 0,
              "ticks": ""
             }
            },
            "type": "scattergl"
           }
          ],
          "scattermapbox": [
           {
            "marker": {
             "colorbar": {
              "outlinewidth": 0,
              "ticks": ""
             }
            },
            "type": "scattermapbox"
           }
          ],
          "scatterpolar": [
           {
            "marker": {
             "colorbar": {
              "outlinewidth": 0,
              "ticks": ""
             }
            },
            "type": "scatterpolar"
           }
          ],
          "scatterpolargl": [
           {
            "marker": {
             "colorbar": {
              "outlinewidth": 0,
              "ticks": ""
             }
            },
            "type": "scatterpolargl"
           }
          ],
          "scatterternary": [
           {
            "marker": {
             "colorbar": {
              "outlinewidth": 0,
              "ticks": ""
             }
            },
            "type": "scatterternary"
           }
          ],
          "surface": [
           {
            "colorbar": {
             "outlinewidth": 0,
             "ticks": ""
            },
            "colorscale": [
             [
              0,
              "#0d0887"
             ],
             [
              0.1111111111111111,
              "#46039f"
             ],
             [
              0.2222222222222222,
              "#7201a8"
             ],
             [
              0.3333333333333333,
              "#9c179e"
             ],
             [
              0.4444444444444444,
              "#bd3786"
             ],
             [
              0.5555555555555556,
              "#d8576b"
             ],
             [
              0.6666666666666666,
              "#ed7953"
             ],
             [
              0.7777777777777778,
              "#fb9f3a"
             ],
             [
              0.8888888888888888,
              "#fdca26"
             ],
             [
              1,
              "#f0f921"
             ]
            ],
            "type": "surface"
           }
          ],
          "table": [
           {
            "cells": {
             "fill": {
              "color": "#EBF0F8"
             },
             "line": {
              "color": "white"
             }
            },
            "header": {
             "fill": {
              "color": "#C8D4E3"
             },
             "line": {
              "color": "white"
             }
            },
            "type": "table"
           }
          ]
         },
         "layout": {
          "annotationdefaults": {
           "arrowcolor": "#2a3f5f",
           "arrowhead": 0,
           "arrowwidth": 1
          },
          "coloraxis": {
           "colorbar": {
            "outlinewidth": 0,
            "ticks": ""
           }
          },
          "colorscale": {
           "diverging": [
            [
             0,
             "#8e0152"
            ],
            [
             0.1,
             "#c51b7d"
            ],
            [
             0.2,
             "#de77ae"
            ],
            [
             0.3,
             "#f1b6da"
            ],
            [
             0.4,
             "#fde0ef"
            ],
            [
             0.5,
             "#f7f7f7"
            ],
            [
             0.6,
             "#e6f5d0"
            ],
            [
             0.7,
             "#b8e186"
            ],
            [
             0.8,
             "#7fbc41"
            ],
            [
             0.9,
             "#4d9221"
            ],
            [
             1,
             "#276419"
            ]
           ],
           "sequential": [
            [
             0,
             "#0d0887"
            ],
            [
             0.1111111111111111,
             "#46039f"
            ],
            [
             0.2222222222222222,
             "#7201a8"
            ],
            [
             0.3333333333333333,
             "#9c179e"
            ],
            [
             0.4444444444444444,
             "#bd3786"
            ],
            [
             0.5555555555555556,
             "#d8576b"
            ],
            [
             0.6666666666666666,
             "#ed7953"
            ],
            [
             0.7777777777777778,
             "#fb9f3a"
            ],
            [
             0.8888888888888888,
             "#fdca26"
            ],
            [
             1,
             "#f0f921"
            ]
           ],
           "sequentialminus": [
            [
             0,
             "#0d0887"
            ],
            [
             0.1111111111111111,
             "#46039f"
            ],
            [
             0.2222222222222222,
             "#7201a8"
            ],
            [
             0.3333333333333333,
             "#9c179e"
            ],
            [
             0.4444444444444444,
             "#bd3786"
            ],
            [
             0.5555555555555556,
             "#d8576b"
            ],
            [
             0.6666666666666666,
             "#ed7953"
            ],
            [
             0.7777777777777778,
             "#fb9f3a"
            ],
            [
             0.8888888888888888,
             "#fdca26"
            ],
            [
             1,
             "#f0f921"
            ]
           ]
          },
          "colorway": [
           "#636efa",
           "#EF553B",
           "#00cc96",
           "#ab63fa",
           "#FFA15A",
           "#19d3f3",
           "#FF6692",
           "#B6E880",
           "#FF97FF",
           "#FECB52"
          ],
          "font": {
           "color": "#2a3f5f"
          },
          "geo": {
           "bgcolor": "white",
           "lakecolor": "white",
           "landcolor": "#E5ECF6",
           "showlakes": true,
           "showland": true,
           "subunitcolor": "white"
          },
          "hoverlabel": {
           "align": "left"
          },
          "hovermode": "closest",
          "mapbox": {
           "style": "light"
          },
          "paper_bgcolor": "white",
          "plot_bgcolor": "#E5ECF6",
          "polar": {
           "angularaxis": {
            "gridcolor": "white",
            "linecolor": "white",
            "ticks": ""
           },
           "bgcolor": "#E5ECF6",
           "radialaxis": {
            "gridcolor": "white",
            "linecolor": "white",
            "ticks": ""
           }
          },
          "scene": {
           "xaxis": {
            "backgroundcolor": "#E5ECF6",
            "gridcolor": "white",
            "gridwidth": 2,
            "linecolor": "white",
            "showbackground": true,
            "ticks": "",
            "zerolinecolor": "white"
           },
           "yaxis": {
            "backgroundcolor": "#E5ECF6",
            "gridcolor": "white",
            "gridwidth": 2,
            "linecolor": "white",
            "showbackground": true,
            "ticks": "",
            "zerolinecolor": "white"
           },
           "zaxis": {
            "backgroundcolor": "#E5ECF6",
            "gridcolor": "white",
            "gridwidth": 2,
            "linecolor": "white",
            "showbackground": true,
            "ticks": "",
            "zerolinecolor": "white"
           }
          },
          "shapedefaults": {
           "line": {
            "color": "#2a3f5f"
           }
          },
          "ternary": {
           "aaxis": {
            "gridcolor": "white",
            "linecolor": "white",
            "ticks": ""
           },
           "baxis": {
            "gridcolor": "white",
            "linecolor": "white",
            "ticks": ""
           },
           "bgcolor": "#E5ECF6",
           "caxis": {
            "gridcolor": "white",
            "linecolor": "white",
            "ticks": ""
           }
          },
          "title": {
           "x": 0.05
          },
          "xaxis": {
           "automargin": true,
           "gridcolor": "white",
           "linecolor": "white",
           "ticks": "",
           "title": {
            "standoff": 15
           },
           "zerolinecolor": "white",
           "zerolinewidth": 2
          },
          "yaxis": {
           "automargin": true,
           "gridcolor": "white",
           "linecolor": "white",
           "ticks": "",
           "title": {
            "standoff": 15
           },
           "zerolinecolor": "white",
           "zerolinewidth": 2
          }
         }
        }
       }
      },
      "text/html": [
       "<div>                            <div id=\"32081c4e-143a-4a10-97aa-61a3471ec188\" class=\"plotly-graph-div\" style=\"height:525px; width:100%;\"></div>            <script type=\"text/javascript\">                require([\"plotly\"], function(Plotly) {                    window.PLOTLYENV=window.PLOTLYENV || {};                                    if (document.getElementById(\"32081c4e-143a-4a10-97aa-61a3471ec188\")) {                    Plotly.newPlot(                        \"32081c4e-143a-4a10-97aa-61a3471ec188\",                        [{\"geo\": \"geo\", \"hovertemplate\": \"Latitude=%{lat}<br>Longitude=%{lon}<br>clusters=%{marker.color}<extra></extra>\", \"lat\": [40.09, 40.13, 40.65, 40.6, 40.59, 40.61, 40.57, 40.56, 40.64, 40.01, 40.01, 40.7, 40.03, 39.97, 40.14, 40.34, 40.34, 40.34, 40.35, 40.65, 40.66, 41.01, 41.01, 40.2, 40.0, 40.38, 40.35, 39.88, 39.96, 39.98, 40.02, 40.88, 40.24, 40.22, 40.24, 40.26, 40.2, 40.2, 40.2, 40.27, 39.94, 39.94, 40.08, 41.21, 41.49, 40.16, 40.09, 40.7, 40.69, 40.68, 40.05, 41.47, 40.27, 40.32, 40.31, 40.14, 40.14, 40.69, 40.72, 39.98, 40.14, 40.15, 40.28, 40.17, 42.07, 42.1, 42.06, 42.05, 42.13, 42.06, 40.03, 40.03, 40.05, 40.04, 40.03, 40.05, 40.45, 40.15, 40.11, 40.1, 39.84, 40.64, 40.62, 39.88, 39.86, 39.88, 40.3, 40.31, 41.14, 39.83, 39.77, 40.33, 40.25, 40.31, 40.28, 40.3, 40.25, 39.97, 39.97, 40.56, 41.23, 40.26, 40.27, 40.29, 40.22, 40.18, 40.09, 40.17, 40.61, 40.62, 40.32, 40.26, 40.1, 40.97, 40.28, 39.86, 40.09, 40.09, 40.08, 40.09, 40.09, 40.09, 40.09, 40.09, 40.51, 40.03, 40.03, 40.07, 40.07, 40.04, 40.08, 40.18, 40.18, 40.18, 40.18, 40.25, 40.29, 40.21, 40.56, 40.96, 40.98, 40.06, 40.13, 40.13, 41.14, 40.31, 40.05, 40.28, 40.27, 40.3, 40.25, 40.25, 40.25, 40.19, 39.92, 40.2, 40.68, 40.68, 40.43, 40.44, 40.24, 40.52, 41.36, 41.1, 41.24, 40.43, 40.36, 40.59, 40.21, 40.14, 40.23, 39.99, 40.13, 40.32, 40.22, 40.23, 40.24, 40.13, 40.04, 39.95, 39.95, 40.03, 39.92, 39.95, 40.04, 40.03, 40.0, 39.95, 39.95, 39.95, 40.01, 39.98, 40.0, 39.95, 39.95, 39.94, 39.94, 40.01, 40.1, 39.95, 39.96, 40.1, 40.08, 39.95, 39.95, 39.95, 39.95, 39.95, 40.05, 39.95, 40.07, 39.95, 39.95, 39.95, 39.95, 39.99, 39.95, 39.95, 40.0, 39.95, 39.96, 40.09, 39.95, 39.88, 39.95, 39.95, 40.5, 40.44, 40.44, 40.44, 40.44, 40.45, 40.43, 40.39, 40.42, 40.5, 40.53, 40.44, 40.46, 40.46, 40.46, 40.55, 40.45, 40.44, 40.4, 40.46, 40.45, 40.34, 40.54, 40.36, 40.46, 40.44, 40.55, 40.52, 40.5, 40.44, 40.44, 40.44, 40.44, 40.53, 40.54, 40.43, 40.44, 40.44, 40.43, 40.44, 40.44, 40.45, 40.44, 40.44, 40.45, 40.21, 40.1, 40.1, 40.11, 40.24, 40.45, 40.46, 40.31, 40.12, 40.21, 40.21, 41.06, 41.41, 41.41, 40.84, 40.8, 40.84, 40.54, 40.54, 40.06, 39.77, 41.06, 40.1, 40.03, 40.02, 40.08, 39.91, 39.91, 40.19, 40.8, 40.79, 40.79, 40.81, 40.26, 40.26, 40.98, 40.57, 40.4, 40.14, 40.57, 40.55, 39.91, 40.81, 39.96, 40.17, 40.52, 40.04, 40.21, 40.22, 40.19, 40.18, 40.06, 40.04, 40.04, 40.07, 39.95, 39.97, 40.0, 39.96, 39.82, 40.41, 40.41, 40.34, 39.9, 40.62, 40.62, 40.63, 40.63, 40.63, 41.24, 41.24, 41.24, 40.14, 40.14, 40.0, 40.0, 40.34, 40.2, 40.24, 39.94, 39.98, 39.96, 39.98, 39.94, 39.98, 39.91], \"legendgroup\": \"\", \"lon\": [-75.09, -75.12, -75.44, -75.47, -75.55, -75.54, -75.56, -75.49, -75.44, -75.29, -75.24, -80.3, -78.49, -78.52, -79.84, -80.05, -80.03, -80.06, -80.05, -75.3, -75.42, -76.45, -76.45, -76.02, -78.24, -80.1, -80.11, -75.4, -75.35, -75.35, -75.32, -79.95, -76.93, -76.93, -76.94, -80.17, -77.18, -77.16, -77.16, -75.24, -77.63, -77.63, -75.16, -79.38, -75.7, -75.48, -75.29, -80.11, -80.08, -80.11, -75.41, -75.64, -75.13, -75.13, -75.13, -75.17, -75.31, -75.27, -75.28, -75.44, -76.59, -75.83, -77.07, -76.16, -80.1, -80.13, -80.09, -80.09, -80.09, -80.1, -75.62, -75.63, -75.66, -75.63, -75.63, -75.66, -80.18, -75.0, -75.21, -75.21, -77.2, -79.94, -80.01, -75.53, -75.54, -75.54, -79.5, -79.58, -80.16, -76.99, -76.96, -76.86, -76.81, -76.81, -76.82, -76.85, -76.83, -75.3, -75.32, -75.34, -80.45, -76.68, -76.65, -76.65, -76.79, -75.13, -75.09, -75.07, -79.18, -79.16, -79.69, -75.09, -75.13, -75.64, -78.85, -75.68, -75.39, -75.39, -75.4, -75.36, -75.36, -75.39, -75.38, -75.37, -75.78, -76.2, -76.22, -76.34, -76.34, -76.34, -76.32, -74.88, -74.91, -74.88, -74.88, -75.29, -79.39, -76.57, -75.41, -76.89, -76.88, -75.65, -76.3, -76.31, -77.46, -76.8, -75.52, -80.08, -80.13, -80.1, -77.03, -77.01, -77.01, -76.98, -75.38, -76.76, -80.3, -80.3, -79.79, -79.77, -75.24, -80.22, -75.68, -75.33, -76.83, -79.7, -74.95, -79.75, -79.57, -77.56, -74.94, -75.39, -75.4, -79.69, -75.25, -75.24, -75.24, -75.45, -75.49, -75.21, -75.15, -75.21, -75.17, -75.19, -75.15, -75.23, -75.23, -75.16, -75.17, -75.17, -75.21, -75.15, -75.15, -75.17, -75.16, -75.16, -75.15, -75.21, -75.02, -75.2, -75.19, -75.01, -75.21, -75.17, -75.16, -75.2, -75.17, -75.17, -75.06, -75.19, -75.01, -75.19, -75.16, -75.16, -75.15, -75.09, -75.17, -75.16, -75.22, -75.16, -75.17, -74.96, -75.17, -75.25, -75.19, -75.17, -80.26, -79.96, -79.96, -79.92, -79.99, -80.01, -79.92, -80.07, -80.05, -80.26, -80.01, -80.0, -79.94, -79.94, -79.92, -80.05, -80.16, -80.15, -80.04, -79.93, -80.16, -80.06, -80.01, -80.05, -79.95, -79.95, -80.02, -79.85, -79.85, -80.0, -80.0, -79.77, -79.99, -80.01, -80.07, -79.81, -80.0, -79.99, -79.98, -79.96, -80.0, -79.93, -80.0, -80.0, -80.18, -77.28, -75.29, -75.29, -75.29, -75.57, -75.36, -75.37, -75.86, -75.14, -75.5, -75.5, -75.32, -75.67, -75.66, -76.83, -76.87, -76.84, -80.18, -80.19, -77.52, -76.67, -80.05, -79.2, -79.12, -79.08, -75.44, -75.35, -75.34, -75.23, -77.86, -77.84, -77.86, -77.91, -75.65, -75.65, -75.2, -79.8, -75.93, -74.96, -75.56, -75.6, -79.76, -77.86, -75.29, -75.04, -79.81, -75.35, -75.1, -75.14, -80.22, -80.23, -78.09, -75.38, -75.37, -75.43, -75.6, -75.58, -75.57, -75.61, -75.87, -79.92, -79.92, -76.0, -75.56, -80.05, -80.09, -80.06, -75.48, -75.48, -75.89, -75.86, -77.0, -75.12, -75.12, -75.27, -75.28, -75.98, -74.86, -74.84, -76.68, -76.73, -76.78, -76.77, -76.69, -76.68, -76.68], \"marker\": {\"color\": [0, 0, 0, 0, 0, 0, 0, 0, 0, 0, 0, 4, 6, 6, 4, 4, 4, 4, 4, 0, 0, 7, 7, 2, 6, 4, 4, 0, 0, 0, 0, 1, 2, 2, 2, 4, 2, 2, 2, 0, 6, 6, 0, 1, 9, 0, 0, 4, 4, 4, 0, 9, 0, 0, 0, 0, 0, 0, 0, 0, 2, 0, 2, 2, 5, 5, 5, 5, 5, 5, 0, 0, 0, 0, 0, 0, 4, 0, 0, 0, 2, 4, 4, 0, 0, 0, 4, 4, 1, 2, 2, 2, 2, 2, 2, 2, 2, 0, 0, 0, 1, 2, 2, 2, 2, 0, 0, 0, 3, 3, 4, 0, 0, 0, 3, 0, 0, 0, 0, 0, 0, 0, 0, 0, 2, 2, 2, 2, 2, 2, 2, 0, 0, 0, 0, 0, 4, 2, 0, 7, 7, 0, 2, 2, 8, 2, 0, 4, 4, 4, 2, 2, 2, 2, 0, 2, 4, 4, 4, 4, 0, 4, 9, 0, 7, 4, 0, 4, 4, 6, 0, 0, 0, 4, 0, 0, 0, 0, 0, 0, 0, 0, 0, 0, 0, 0, 0, 0, 0, 0, 0, 0, 0, 0, 0, 0, 0, 0, 0, 0, 0, 0, 0, 0, 0, 0, 0, 0, 0, 0, 0, 0, 0, 0, 0, 0, 0, 0, 0, 0, 0, 0, 0, 0, 0, 0, 4, 4, 4, 4, 4, 4, 4, 4, 4, 4, 4, 4, 4, 4, 4, 4, 4, 4, 4, 4, 4, 4, 4, 4, 4, 4, 4, 4, 4, 4, 4, 4, 4, 4, 4, 4, 4, 4, 4, 4, 4, 4, 4, 4, 4, 2, 0, 0, 0, 0, 0, 0, 2, 0, 0, 0, 0, 9, 9, 7, 7, 7, 4, 4, 6, 2, 1, 3, 3, 3, 0, 0, 0, 0, 8, 8, 8, 8, 0, 0, 0, 4, 2, 0, 0, 0, 4, 8, 0, 0, 4, 0, 0, 0, 4, 4, 6, 0, 0, 0, 0, 0, 0, 0, 0, 4, 4, 2, 0, 4, 4, 4, 0, 0, 9, 9, 7, 0, 0, 0, 0, 2, 0, 0, 2, 2, 2, 2, 2, 2, 2], \"coloraxis\": \"coloraxis\"}, \"name\": \"\", \"showlegend\": false, \"type\": \"scattergeo\"}],                        {\"coloraxis\": {\"colorbar\": {\"title\": {\"text\": \"clusters\"}}, \"colorscale\": [[0.0, \"#0d0887\"], [0.1111111111111111, \"#46039f\"], [0.2222222222222222, \"#7201a8\"], [0.3333333333333333, \"#9c179e\"], [0.4444444444444444, \"#bd3786\"], [0.5555555555555556, \"#d8576b\"], [0.6666666666666666, \"#ed7953\"], [0.7777777777777778, \"#fb9f3a\"], [0.8888888888888888, \"#fdca26\"], [1.0, \"#f0f921\"]]}, \"geo\": {\"center\": {\"lat\": 40.79, \"lon\": -77.84}, \"domain\": {\"x\": [0.0, 1.0], \"y\": [0.0, 1.0]}, \"projection\": {\"scale\": 8, \"type\": \"albers usa\"}, \"scope\": \"usa\"}, \"legend\": {\"tracegroupgap\": 0}, \"margin\": {\"t\": 60}, \"template\": {\"data\": {\"bar\": [{\"error_x\": {\"color\": \"#2a3f5f\"}, \"error_y\": {\"color\": \"#2a3f5f\"}, \"marker\": {\"line\": {\"color\": \"#E5ECF6\", \"width\": 0.5}}, \"type\": \"bar\"}], \"barpolar\": [{\"marker\": {\"line\": {\"color\": \"#E5ECF6\", \"width\": 0.5}}, \"type\": \"barpolar\"}], \"carpet\": [{\"aaxis\": {\"endlinecolor\": \"#2a3f5f\", \"gridcolor\": \"white\", \"linecolor\": \"white\", \"minorgridcolor\": \"white\", \"startlinecolor\": \"#2a3f5f\"}, \"baxis\": {\"endlinecolor\": \"#2a3f5f\", \"gridcolor\": \"white\", \"linecolor\": \"white\", \"minorgridcolor\": \"white\", \"startlinecolor\": \"#2a3f5f\"}, \"type\": \"carpet\"}], \"choropleth\": [{\"colorbar\": {\"outlinewidth\": 0, \"ticks\": \"\"}, \"type\": \"choropleth\"}], \"contour\": [{\"colorbar\": {\"outlinewidth\": 0, \"ticks\": \"\"}, \"colorscale\": [[0.0, \"#0d0887\"], [0.1111111111111111, \"#46039f\"], [0.2222222222222222, \"#7201a8\"], [0.3333333333333333, \"#9c179e\"], [0.4444444444444444, \"#bd3786\"], [0.5555555555555556, \"#d8576b\"], [0.6666666666666666, \"#ed7953\"], [0.7777777777777778, \"#fb9f3a\"], [0.8888888888888888, \"#fdca26\"], [1.0, \"#f0f921\"]], \"type\": \"contour\"}], \"contourcarpet\": [{\"colorbar\": {\"outlinewidth\": 0, \"ticks\": \"\"}, \"type\": \"contourcarpet\"}], \"heatmap\": [{\"colorbar\": {\"outlinewidth\": 0, \"ticks\": \"\"}, \"colorscale\": [[0.0, \"#0d0887\"], [0.1111111111111111, \"#46039f\"], [0.2222222222222222, \"#7201a8\"], [0.3333333333333333, \"#9c179e\"], [0.4444444444444444, \"#bd3786\"], [0.5555555555555556, \"#d8576b\"], [0.6666666666666666, \"#ed7953\"], [0.7777777777777778, \"#fb9f3a\"], [0.8888888888888888, \"#fdca26\"], [1.0, \"#f0f921\"]], \"type\": \"heatmap\"}], \"heatmapgl\": [{\"colorbar\": {\"outlinewidth\": 0, \"ticks\": \"\"}, \"colorscale\": [[0.0, \"#0d0887\"], [0.1111111111111111, \"#46039f\"], [0.2222222222222222, \"#7201a8\"], [0.3333333333333333, \"#9c179e\"], [0.4444444444444444, \"#bd3786\"], [0.5555555555555556, \"#d8576b\"], [0.6666666666666666, \"#ed7953\"], [0.7777777777777778, \"#fb9f3a\"], [0.8888888888888888, \"#fdca26\"], [1.0, \"#f0f921\"]], \"type\": \"heatmapgl\"}], \"histogram\": [{\"marker\": {\"colorbar\": {\"outlinewidth\": 0, \"ticks\": \"\"}}, \"type\": \"histogram\"}], \"histogram2d\": [{\"colorbar\": {\"outlinewidth\": 0, \"ticks\": \"\"}, \"colorscale\": [[0.0, \"#0d0887\"], [0.1111111111111111, \"#46039f\"], [0.2222222222222222, \"#7201a8\"], [0.3333333333333333, \"#9c179e\"], [0.4444444444444444, \"#bd3786\"], [0.5555555555555556, \"#d8576b\"], [0.6666666666666666, \"#ed7953\"], [0.7777777777777778, \"#fb9f3a\"], [0.8888888888888888, \"#fdca26\"], [1.0, \"#f0f921\"]], \"type\": \"histogram2d\"}], \"histogram2dcontour\": [{\"colorbar\": {\"outlinewidth\": 0, \"ticks\": \"\"}, \"colorscale\": [[0.0, \"#0d0887\"], [0.1111111111111111, \"#46039f\"], [0.2222222222222222, \"#7201a8\"], [0.3333333333333333, \"#9c179e\"], [0.4444444444444444, \"#bd3786\"], [0.5555555555555556, \"#d8576b\"], [0.6666666666666666, \"#ed7953\"], [0.7777777777777778, \"#fb9f3a\"], [0.8888888888888888, \"#fdca26\"], [1.0, \"#f0f921\"]], \"type\": \"histogram2dcontour\"}], \"mesh3d\": [{\"colorbar\": {\"outlinewidth\": 0, \"ticks\": \"\"}, \"type\": \"mesh3d\"}], \"parcoords\": [{\"line\": {\"colorbar\": {\"outlinewidth\": 0, \"ticks\": \"\"}}, \"type\": \"parcoords\"}], \"pie\": [{\"automargin\": true, \"type\": \"pie\"}], \"scatter\": [{\"marker\": {\"colorbar\": {\"outlinewidth\": 0, \"ticks\": \"\"}}, \"type\": \"scatter\"}], \"scatter3d\": [{\"line\": {\"colorbar\": {\"outlinewidth\": 0, \"ticks\": \"\"}}, \"marker\": {\"colorbar\": {\"outlinewidth\": 0, \"ticks\": \"\"}}, \"type\": \"scatter3d\"}], \"scattercarpet\": [{\"marker\": {\"colorbar\": {\"outlinewidth\": 0, \"ticks\": \"\"}}, \"type\": \"scattercarpet\"}], \"scattergeo\": [{\"marker\": {\"colorbar\": {\"outlinewidth\": 0, \"ticks\": \"\"}}, \"type\": \"scattergeo\"}], \"scattergl\": [{\"marker\": {\"colorbar\": {\"outlinewidth\": 0, \"ticks\": \"\"}}, \"type\": \"scattergl\"}], \"scattermapbox\": [{\"marker\": {\"colorbar\": {\"outlinewidth\": 0, \"ticks\": \"\"}}, \"type\": \"scattermapbox\"}], \"scatterpolar\": [{\"marker\": {\"colorbar\": {\"outlinewidth\": 0, \"ticks\": \"\"}}, \"type\": \"scatterpolar\"}], \"scatterpolargl\": [{\"marker\": {\"colorbar\": {\"outlinewidth\": 0, \"ticks\": \"\"}}, \"type\": \"scatterpolargl\"}], \"scatterternary\": [{\"marker\": {\"colorbar\": {\"outlinewidth\": 0, \"ticks\": \"\"}}, \"type\": \"scatterternary\"}], \"surface\": [{\"colorbar\": {\"outlinewidth\": 0, \"ticks\": \"\"}, \"colorscale\": [[0.0, \"#0d0887\"], [0.1111111111111111, \"#46039f\"], [0.2222222222222222, \"#7201a8\"], [0.3333333333333333, \"#9c179e\"], [0.4444444444444444, \"#bd3786\"], [0.5555555555555556, \"#d8576b\"], [0.6666666666666666, \"#ed7953\"], [0.7777777777777778, \"#fb9f3a\"], [0.8888888888888888, \"#fdca26\"], [1.0, \"#f0f921\"]], \"type\": \"surface\"}], \"table\": [{\"cells\": {\"fill\": {\"color\": \"#EBF0F8\"}, \"line\": {\"color\": \"white\"}}, \"header\": {\"fill\": {\"color\": \"#C8D4E3\"}, \"line\": {\"color\": \"white\"}}, \"type\": \"table\"}]}, \"layout\": {\"annotationdefaults\": {\"arrowcolor\": \"#2a3f5f\", \"arrowhead\": 0, \"arrowwidth\": 1}, \"coloraxis\": {\"colorbar\": {\"outlinewidth\": 0, \"ticks\": \"\"}}, \"colorscale\": {\"diverging\": [[0, \"#8e0152\"], [0.1, \"#c51b7d\"], [0.2, \"#de77ae\"], [0.3, \"#f1b6da\"], [0.4, \"#fde0ef\"], [0.5, \"#f7f7f7\"], [0.6, \"#e6f5d0\"], [0.7, \"#b8e186\"], [0.8, \"#7fbc41\"], [0.9, \"#4d9221\"], [1, \"#276419\"]], \"sequential\": [[0.0, \"#0d0887\"], [0.1111111111111111, \"#46039f\"], [0.2222222222222222, \"#7201a8\"], [0.3333333333333333, \"#9c179e\"], [0.4444444444444444, \"#bd3786\"], [0.5555555555555556, \"#d8576b\"], [0.6666666666666666, \"#ed7953\"], [0.7777777777777778, \"#fb9f3a\"], [0.8888888888888888, \"#fdca26\"], [1.0, \"#f0f921\"]], \"sequentialminus\": [[0.0, \"#0d0887\"], [0.1111111111111111, \"#46039f\"], [0.2222222222222222, \"#7201a8\"], [0.3333333333333333, \"#9c179e\"], [0.4444444444444444, \"#bd3786\"], [0.5555555555555556, \"#d8576b\"], [0.6666666666666666, \"#ed7953\"], [0.7777777777777778, \"#fb9f3a\"], [0.8888888888888888, \"#fdca26\"], [1.0, \"#f0f921\"]]}, \"colorway\": [\"#636efa\", \"#EF553B\", \"#00cc96\", \"#ab63fa\", \"#FFA15A\", \"#19d3f3\", \"#FF6692\", \"#B6E880\", \"#FF97FF\", \"#FECB52\"], \"font\": {\"color\": \"#2a3f5f\"}, \"geo\": {\"bgcolor\": \"white\", \"lakecolor\": \"white\", \"landcolor\": \"#E5ECF6\", \"showlakes\": true, \"showland\": true, \"subunitcolor\": \"white\"}, \"hoverlabel\": {\"align\": \"left\"}, \"hovermode\": \"closest\", \"mapbox\": {\"style\": \"light\"}, \"paper_bgcolor\": \"white\", \"plot_bgcolor\": \"#E5ECF6\", \"polar\": {\"angularaxis\": {\"gridcolor\": \"white\", \"linecolor\": \"white\", \"ticks\": \"\"}, \"bgcolor\": \"#E5ECF6\", \"radialaxis\": {\"gridcolor\": \"white\", \"linecolor\": \"white\", \"ticks\": \"\"}}, \"scene\": {\"xaxis\": {\"backgroundcolor\": \"#E5ECF6\", \"gridcolor\": \"white\", \"gridwidth\": 2, \"linecolor\": \"white\", \"showbackground\": true, \"ticks\": \"\", \"zerolinecolor\": \"white\"}, \"yaxis\": {\"backgroundcolor\": \"#E5ECF6\", \"gridcolor\": \"white\", \"gridwidth\": 2, \"linecolor\": \"white\", \"showbackground\": true, \"ticks\": \"\", \"zerolinecolor\": \"white\"}, \"zaxis\": {\"backgroundcolor\": \"#E5ECF6\", \"gridcolor\": \"white\", \"gridwidth\": 2, \"linecolor\": \"white\", \"showbackground\": true, \"ticks\": \"\", \"zerolinecolor\": \"white\"}}, \"shapedefaults\": {\"line\": {\"color\": \"#2a3f5f\"}}, \"ternary\": {\"aaxis\": {\"gridcolor\": \"white\", \"linecolor\": \"white\", \"ticks\": \"\"}, \"baxis\": {\"gridcolor\": \"white\", \"linecolor\": \"white\", \"ticks\": \"\"}, \"bgcolor\": \"#E5ECF6\", \"caxis\": {\"gridcolor\": \"white\", \"linecolor\": \"white\", \"ticks\": \"\"}}, \"title\": {\"x\": 0.05}, \"xaxis\": {\"automargin\": true, \"gridcolor\": \"white\", \"linecolor\": \"white\", \"ticks\": \"\", \"title\": {\"standoff\": 15}, \"zerolinecolor\": \"white\", \"zerolinewidth\": 2}, \"yaxis\": {\"automargin\": true, \"gridcolor\": \"white\", \"linecolor\": \"white\", \"ticks\": \"\", \"title\": {\"standoff\": 15}, \"zerolinecolor\": \"white\", \"zerolinewidth\": 2}}}},                        {\"responsive\": true}                    ).then(function(){\n",
       "                            \n",
       "var gd = document.getElementById('32081c4e-143a-4a10-97aa-61a3471ec188');\n",
       "var x = new MutationObserver(function (mutations, observer) {{\n",
       "        var display = window.getComputedStyle(gd).display;\n",
       "        if (!display || display === 'none') {{\n",
       "            console.log([gd, 'removed!']);\n",
       "            Plotly.purge(gd);\n",
       "            observer.disconnect();\n",
       "        }}\n",
       "}});\n",
       "\n",
       "// Listen for the removal of the full notebook cells\n",
       "var notebookContainer = gd.closest('#notebook-container');\n",
       "if (notebookContainer) {{\n",
       "    x.observe(notebookContainer, {childList: true});\n",
       "}}\n",
       "\n",
       "// Listen for the clearing of the current output cell\n",
       "var outputEl = gd.closest('.output');\n",
       "if (outputEl) {{\n",
       "    x.observe(outputEl, {childList: true});\n",
       "}}\n",
       "\n",
       "                        })                };                });            </script>        </div>"
      ]
     },
     "metadata": {},
     "output_type": "display_data"
    },
    {
     "data": {
      "application/javascript": [
       "\n",
       "            setTimeout(function() {\n",
       "                var nbb_cell_id = 19;\n",
       "                var nbb_unformatted_code = \"# answer goes here\\nfig = px.scatter_geo(data_frame=starbucks_pa_df, scope='usa', color='clusters',\\n               lat='Latitude', lon='Longitude', projection='albers usa')\\n\\nlat_center = 40.79\\nlon_center = -77.84\\nfig.update_layout(\\n        geo = {\\n            'projection_scale':8, \\n            'center':{'lat':lat_center, 'lon':lon_center}\\n        })\";\n",
       "                var nbb_formatted_code = \"# answer goes here\\nfig = px.scatter_geo(\\n    data_frame=starbucks_pa_df,\\n    scope=\\\"usa\\\",\\n    color=\\\"clusters\\\",\\n    lat=\\\"Latitude\\\",\\n    lon=\\\"Longitude\\\",\\n    projection=\\\"albers usa\\\",\\n)\\n\\nlat_center = 40.79\\nlon_center = -77.84\\nfig.update_layout(\\n    geo={\\\"projection_scale\\\": 8, \\\"center\\\": {\\\"lat\\\": lat_center, \\\"lon\\\": lon_center}}\\n)\";\n",
       "                var nbb_cells = Jupyter.notebook.get_cells();\n",
       "                for (var i = 0; i < nbb_cells.length; ++i) {\n",
       "                    if (nbb_cells[i].input_prompt_number == nbb_cell_id) {\n",
       "                        if (nbb_cells[i].get_text() == nbb_unformatted_code) {\n",
       "                             nbb_cells[i].set_text(nbb_formatted_code);\n",
       "                        }\n",
       "                        break;\n",
       "                    }\n",
       "                }\n",
       "            }, 500);\n",
       "            "
      ],
      "text/plain": [
       "<IPython.core.display.Javascript object>"
      ]
     },
     "metadata": {},
     "output_type": "display_data"
    }
   ],
   "source": [
    "# answer goes here\n",
    "fig = px.scatter_geo(data_frame=starbucks_pa_df, scope='usa', color='clusters',\n",
    "               lat='Latitude', lon='Longitude', projection='albers usa')\n",
    "\n",
    "lat_center = 40.79\n",
    "lon_center = -77.84\n",
    "fig.update_layout(\n",
    "        geo = {\n",
    "            'projection_scale':8, \n",
    "            'center':{'lat':lat_center, 'lon':lon_center}\n",
    "        })\n"
   ]
  },
  {
   "cell_type": "code",
   "execution_count": 12,
   "metadata": {},
   "outputs": [
    {
     "data": {
      "application/javascript": [
       "\n",
       "            setTimeout(function() {\n",
       "                var nbb_cell_id = 12;\n",
       "                var nbb_unformatted_code = \"# 5 clusters looks reasonable with distinct clusters for east, central and west regions\\n# plus two outlier clusters\";\n",
       "                var nbb_formatted_code = \"# 5 clusters looks reasonable with distinct clusters for east, central and west regions\\n# plus two outlier clusters\";\n",
       "                var nbb_cells = Jupyter.notebook.get_cells();\n",
       "                for (var i = 0; i < nbb_cells.length; ++i) {\n",
       "                    if (nbb_cells[i].input_prompt_number == nbb_cell_id) {\n",
       "                        if (nbb_cells[i].get_text() == nbb_unformatted_code) {\n",
       "                             nbb_cells[i].set_text(nbb_formatted_code);\n",
       "                        }\n",
       "                        break;\n",
       "                    }\n",
       "                }\n",
       "            }, 500);\n",
       "            "
      ],
      "text/plain": [
       "<IPython.core.display.Javascript object>"
      ]
     },
     "metadata": {},
     "output_type": "display_data"
    }
   ],
   "source": [
    "# 5 clusters looks reasonable with distinct clusters for east, central and west regions\n",
    "# plus two outlier clusters"
   ]
  },
  {
   "cell_type": "code",
   "execution_count": 13,
   "metadata": {},
   "outputs": [
    {
     "data": {
      "application/vnd.plotly.v1+json": {
       "config": {
        "plotlyServerURL": "https://plot.ly"
       },
       "data": [
        {
         "geo": "geo",
         "hovertemplate": "Latitude=%{lat}<br>Longitude=%{lon}<br>clusters=%{marker.color}<extra></extra>",
         "lat": [
          40.09,
          40.13,
          40.65,
          40.6,
          40.59,
          40.61,
          40.57,
          40.56,
          40.64,
          40.01,
          40.01,
          40.7,
          40.03,
          39.97,
          40.14,
          40.34,
          40.34,
          40.34,
          40.35,
          40.65,
          40.66,
          41.01,
          41.01,
          40.2,
          40,
          40.38,
          40.35,
          39.88,
          39.96,
          39.98,
          40.02,
          40.88,
          40.24,
          40.22,
          40.24,
          40.26,
          40.2,
          40.2,
          40.2,
          40.27,
          39.94,
          39.94,
          40.08,
          41.21,
          41.49,
          40.16,
          40.09,
          40.7,
          40.69,
          40.68,
          40.05,
          41.47,
          40.27,
          40.32,
          40.31,
          40.14,
          40.14,
          40.69,
          40.72,
          39.98,
          40.14,
          40.15,
          40.28,
          40.17,
          42.07,
          42.1,
          42.06,
          42.05,
          42.13,
          42.06,
          40.03,
          40.03,
          40.05,
          40.04,
          40.03,
          40.05,
          40.45,
          40.15,
          40.11,
          40.1,
          39.84,
          40.64,
          40.62,
          39.88,
          39.86,
          39.88,
          40.3,
          40.31,
          41.14,
          39.83,
          39.77,
          40.33,
          40.25,
          40.31,
          40.28,
          40.3,
          40.25,
          39.97,
          39.97,
          40.56,
          41.23,
          40.26,
          40.27,
          40.29,
          40.22,
          40.18,
          40.09,
          40.17,
          40.61,
          40.62,
          40.32,
          40.26,
          40.1,
          40.97,
          40.28,
          39.86,
          40.09,
          40.09,
          40.08,
          40.09,
          40.09,
          40.09,
          40.09,
          40.09,
          40.51,
          40.03,
          40.03,
          40.07,
          40.07,
          40.04,
          40.08,
          40.18,
          40.18,
          40.18,
          40.18,
          40.25,
          40.29,
          40.21,
          40.56,
          40.96,
          40.98,
          40.06,
          40.13,
          40.13,
          41.14,
          40.31,
          40.05,
          40.28,
          40.27,
          40.3,
          40.25,
          40.25,
          40.25,
          40.19,
          39.92,
          40.2,
          40.68,
          40.68,
          40.43,
          40.44,
          40.24,
          40.52,
          41.36,
          41.1,
          41.24,
          40.43,
          40.36,
          40.59,
          40.21,
          40.14,
          40.23,
          39.99,
          40.13,
          40.32,
          40.22,
          40.23,
          40.24,
          40.13,
          40.04,
          39.95,
          39.95,
          40.03,
          39.92,
          39.95,
          40.04,
          40.03,
          40,
          39.95,
          39.95,
          39.95,
          40.01,
          39.98,
          40,
          39.95,
          39.95,
          39.94,
          39.94,
          40.01,
          40.1,
          39.95,
          39.96,
          40.1,
          40.08,
          39.95,
          39.95,
          39.95,
          39.95,
          39.95,
          40.05,
          39.95,
          40.07,
          39.95,
          39.95,
          39.95,
          39.95,
          39.99,
          39.95,
          39.95,
          40,
          39.95,
          39.96,
          40.09,
          39.95,
          39.88,
          39.95,
          39.95,
          40.5,
          40.44,
          40.44,
          40.44,
          40.44,
          40.45,
          40.43,
          40.39,
          40.42,
          40.5,
          40.53,
          40.44,
          40.46,
          40.46,
          40.46,
          40.55,
          40.45,
          40.44,
          40.4,
          40.46,
          40.45,
          40.34,
          40.54,
          40.36,
          40.46,
          40.44,
          40.55,
          40.52,
          40.5,
          40.44,
          40.44,
          40.44,
          40.44,
          40.53,
          40.54,
          40.43,
          40.44,
          40.44,
          40.43,
          40.44,
          40.44,
          40.45,
          40.44,
          40.44,
          40.45,
          40.21,
          40.1,
          40.1,
          40.11,
          40.24,
          40.45,
          40.46,
          40.31,
          40.12,
          40.21,
          40.21,
          41.06,
          41.41,
          41.41,
          40.84,
          40.8,
          40.84,
          40.54,
          40.54,
          40.06,
          39.77,
          41.06,
          40.1,
          40.03,
          40.02,
          40.08,
          39.91,
          39.91,
          40.19,
          40.8,
          40.79,
          40.79,
          40.81,
          40.26,
          40.26,
          40.98,
          40.57,
          40.4,
          40.14,
          40.57,
          40.55,
          39.91,
          40.81,
          39.96,
          40.17,
          40.52,
          40.04,
          40.21,
          40.22,
          40.19,
          40.18,
          40.06,
          40.04,
          40.04,
          40.07,
          39.95,
          39.97,
          40,
          39.96,
          39.82,
          40.41,
          40.41,
          40.34,
          39.9,
          40.62,
          40.62,
          40.63,
          40.63,
          40.63,
          41.24,
          41.24,
          41.24,
          40.14,
          40.14,
          40,
          40,
          40.34,
          40.2,
          40.24,
          39.94,
          39.98,
          39.96,
          39.98,
          39.94,
          39.98,
          39.91
         ],
         "legendgroup": "",
         "lon": [
          -75.09,
          -75.12,
          -75.44,
          -75.47,
          -75.55,
          -75.54,
          -75.56,
          -75.49,
          -75.44,
          -75.29,
          -75.24,
          -80.3,
          -78.49,
          -78.52,
          -79.84,
          -80.05,
          -80.03,
          -80.06,
          -80.05,
          -75.3,
          -75.42,
          -76.45,
          -76.45,
          -76.02,
          -78.24,
          -80.1,
          -80.11,
          -75.4,
          -75.35,
          -75.35,
          -75.32,
          -79.95,
          -76.93,
          -76.93,
          -76.94,
          -80.17,
          -77.18,
          -77.16,
          -77.16,
          -75.24,
          -77.63,
          -77.63,
          -75.16,
          -79.38,
          -75.7,
          -75.48,
          -75.29,
          -80.11,
          -80.08,
          -80.11,
          -75.41,
          -75.64,
          -75.13,
          -75.13,
          -75.13,
          -75.17,
          -75.31,
          -75.27,
          -75.28,
          -75.44,
          -76.59,
          -75.83,
          -77.07,
          -76.16,
          -80.1,
          -80.13,
          -80.09,
          -80.09,
          -80.09,
          -80.1,
          -75.62,
          -75.63,
          -75.66,
          -75.63,
          -75.63,
          -75.66,
          -80.18,
          -75,
          -75.21,
          -75.21,
          -77.2,
          -79.94,
          -80.01,
          -75.53,
          -75.54,
          -75.54,
          -79.5,
          -79.58,
          -80.16,
          -76.99,
          -76.96,
          -76.86,
          -76.81,
          -76.81,
          -76.82,
          -76.85,
          -76.83,
          -75.3,
          -75.32,
          -75.34,
          -80.45,
          -76.68,
          -76.65,
          -76.65,
          -76.79,
          -75.13,
          -75.09,
          -75.07,
          -79.18,
          -79.16,
          -79.69,
          -75.09,
          -75.13,
          -75.64,
          -78.85,
          -75.68,
          -75.39,
          -75.39,
          -75.4,
          -75.36,
          -75.36,
          -75.39,
          -75.38,
          -75.37,
          -75.78,
          -76.2,
          -76.22,
          -76.34,
          -76.34,
          -76.34,
          -76.32,
          -74.88,
          -74.91,
          -74.88,
          -74.88,
          -75.29,
          -79.39,
          -76.57,
          -75.41,
          -76.89,
          -76.88,
          -75.65,
          -76.3,
          -76.31,
          -77.46,
          -76.8,
          -75.52,
          -80.08,
          -80.13,
          -80.1,
          -77.03,
          -77.01,
          -77.01,
          -76.98,
          -75.38,
          -76.76,
          -80.3,
          -80.3,
          -79.79,
          -79.77,
          -75.24,
          -80.22,
          -75.68,
          -75.33,
          -76.83,
          -79.7,
          -74.95,
          -79.75,
          -79.57,
          -77.56,
          -74.94,
          -75.39,
          -75.4,
          -79.69,
          -75.25,
          -75.24,
          -75.24,
          -75.45,
          -75.49,
          -75.21,
          -75.15,
          -75.21,
          -75.17,
          -75.19,
          -75.15,
          -75.23,
          -75.23,
          -75.16,
          -75.17,
          -75.17,
          -75.21,
          -75.15,
          -75.15,
          -75.17,
          -75.16,
          -75.16,
          -75.15,
          -75.21,
          -75.02,
          -75.2,
          -75.19,
          -75.01,
          -75.21,
          -75.17,
          -75.16,
          -75.2,
          -75.17,
          -75.17,
          -75.06,
          -75.19,
          -75.01,
          -75.19,
          -75.16,
          -75.16,
          -75.15,
          -75.09,
          -75.17,
          -75.16,
          -75.22,
          -75.16,
          -75.17,
          -74.96,
          -75.17,
          -75.25,
          -75.19,
          -75.17,
          -80.26,
          -79.96,
          -79.96,
          -79.92,
          -79.99,
          -80.01,
          -79.92,
          -80.07,
          -80.05,
          -80.26,
          -80.01,
          -80,
          -79.94,
          -79.94,
          -79.92,
          -80.05,
          -80.16,
          -80.15,
          -80.04,
          -79.93,
          -80.16,
          -80.06,
          -80.01,
          -80.05,
          -79.95,
          -79.95,
          -80.02,
          -79.85,
          -79.85,
          -80,
          -80,
          -79.77,
          -79.99,
          -80.01,
          -80.07,
          -79.81,
          -80,
          -79.99,
          -79.98,
          -79.96,
          -80,
          -79.93,
          -80,
          -80,
          -80.18,
          -77.28,
          -75.29,
          -75.29,
          -75.29,
          -75.57,
          -75.36,
          -75.37,
          -75.86,
          -75.14,
          -75.5,
          -75.5,
          -75.32,
          -75.67,
          -75.66,
          -76.83,
          -76.87,
          -76.84,
          -80.18,
          -80.19,
          -77.52,
          -76.67,
          -80.05,
          -79.2,
          -79.12,
          -79.08,
          -75.44,
          -75.35,
          -75.34,
          -75.23,
          -77.86,
          -77.84,
          -77.86,
          -77.91,
          -75.65,
          -75.65,
          -75.2,
          -79.8,
          -75.93,
          -74.96,
          -75.56,
          -75.6,
          -79.76,
          -77.86,
          -75.29,
          -75.04,
          -79.81,
          -75.35,
          -75.1,
          -75.14,
          -80.22,
          -80.23,
          -78.09,
          -75.38,
          -75.37,
          -75.43,
          -75.6,
          -75.58,
          -75.57,
          -75.61,
          -75.87,
          -79.92,
          -79.92,
          -76,
          -75.56,
          -80.05,
          -80.09,
          -80.06,
          -75.48,
          -75.48,
          -75.89,
          -75.86,
          -77,
          -75.12,
          -75.12,
          -75.27,
          -75.28,
          -75.98,
          -74.86,
          -74.84,
          -76.68,
          -76.73,
          -76.78,
          -76.77,
          -76.69,
          -76.68,
          -76.68
         ],
         "marker": {
          "color": [
           0,
           0,
           0,
           0,
           0,
           0,
           0,
           0,
           0,
           0,
           0,
           1,
           0,
           0,
           1,
           1,
           1,
           1,
           1,
           0,
           0,
           0,
           0,
           0,
           0,
           1,
           1,
           0,
           0,
           0,
           0,
           1,
           0,
           0,
           0,
           1,
           0,
           0,
           0,
           0,
           0,
           0,
           0,
           1,
           0,
           0,
           0,
           1,
           1,
           1,
           0,
           0,
           0,
           0,
           0,
           0,
           0,
           0,
           0,
           0,
           0,
           0,
           0,
           0,
           2,
           2,
           2,
           2,
           2,
           2,
           0,
           0,
           0,
           0,
           0,
           0,
           1,
           0,
           0,
           0,
           0,
           1,
           1,
           0,
           0,
           0,
           1,
           1,
           1,
           0,
           0,
           0,
           0,
           0,
           0,
           0,
           0,
           0,
           0,
           0,
           1,
           0,
           0,
           0,
           0,
           0,
           0,
           0,
           1,
           1,
           1,
           0,
           0,
           0,
           1,
           0,
           0,
           0,
           0,
           0,
           0,
           0,
           0,
           0,
           0,
           0,
           0,
           0,
           0,
           0,
           0,
           0,
           0,
           0,
           0,
           0,
           1,
           0,
           0,
           0,
           0,
           0,
           0,
           0,
           0,
           0,
           0,
           1,
           1,
           1,
           0,
           0,
           0,
           0,
           0,
           0,
           1,
           1,
           1,
           1,
           0,
           1,
           0,
           0,
           0,
           1,
           0,
           1,
           1,
           0,
           0,
           0,
           0,
           1,
           0,
           0,
           0,
           0,
           0,
           0,
           0,
           0,
           0,
           0,
           0,
           0,
           0,
           0,
           0,
           0,
           0,
           0,
           0,
           0,
           0,
           0,
           0,
           0,
           0,
           0,
           0,
           0,
           0,
           0,
           0,
           0,
           0,
           0,
           0,
           0,
           0,
           0,
           0,
           0,
           0,
           0,
           0,
           0,
           0,
           0,
           0,
           0,
           0,
           0,
           0,
           0,
           1,
           1,
           1,
           1,
           1,
           1,
           1,
           1,
           1,
           1,
           1,
           1,
           1,
           1,
           1,
           1,
           1,
           1,
           1,
           1,
           1,
           1,
           1,
           1,
           1,
           1,
           1,
           1,
           1,
           1,
           1,
           1,
           1,
           1,
           1,
           1,
           1,
           1,
           1,
           1,
           1,
           1,
           1,
           1,
           1,
           0,
           0,
           0,
           0,
           0,
           0,
           0,
           0,
           0,
           0,
           0,
           0,
           0,
           0,
           0,
           0,
           0,
           1,
           1,
           0,
           0,
           1,
           1,
           1,
           1,
           0,
           0,
           0,
           0,
           0,
           0,
           0,
           0,
           0,
           0,
           0,
           1,
           0,
           0,
           0,
           0,
           1,
           0,
           0,
           0,
           1,
           0,
           0,
           0,
           1,
           1,
           0,
           0,
           0,
           0,
           0,
           0,
           0,
           0,
           0,
           1,
           1,
           0,
           0,
           1,
           1,
           1,
           0,
           0,
           0,
           0,
           0,
           0,
           0,
           0,
           0,
           0,
           0,
           0,
           0,
           0,
           0,
           0,
           0,
           0,
           0
          ],
          "coloraxis": "coloraxis"
         },
         "name": "",
         "showlegend": false,
         "type": "scattergeo"
        }
       ],
       "layout": {
        "coloraxis": {
         "colorbar": {
          "title": {
           "text": "clusters"
          }
         },
         "colorscale": [
          [
           0,
           "#0d0887"
          ],
          [
           0.1111111111111111,
           "#46039f"
          ],
          [
           0.2222222222222222,
           "#7201a8"
          ],
          [
           0.3333333333333333,
           "#9c179e"
          ],
          [
           0.4444444444444444,
           "#bd3786"
          ],
          [
           0.5555555555555556,
           "#d8576b"
          ],
          [
           0.6666666666666666,
           "#ed7953"
          ],
          [
           0.7777777777777778,
           "#fb9f3a"
          ],
          [
           0.8888888888888888,
           "#fdca26"
          ],
          [
           1,
           "#f0f921"
          ]
         ]
        },
        "geo": {
         "center": {
          "lat": 40.79,
          "lon": -77.84
         },
         "domain": {
          "x": [
           0,
           1
          ],
          "y": [
           0,
           1
          ]
         },
         "projection": {
          "scale": 8,
          "type": "albers usa"
         },
         "scope": "usa"
        },
        "legend": {
         "tracegroupgap": 0
        },
        "margin": {
         "t": 60
        },
        "template": {
         "data": {
          "bar": [
           {
            "error_x": {
             "color": "#2a3f5f"
            },
            "error_y": {
             "color": "#2a3f5f"
            },
            "marker": {
             "line": {
              "color": "#E5ECF6",
              "width": 0.5
             }
            },
            "type": "bar"
           }
          ],
          "barpolar": [
           {
            "marker": {
             "line": {
              "color": "#E5ECF6",
              "width": 0.5
             }
            },
            "type": "barpolar"
           }
          ],
          "carpet": [
           {
            "aaxis": {
             "endlinecolor": "#2a3f5f",
             "gridcolor": "white",
             "linecolor": "white",
             "minorgridcolor": "white",
             "startlinecolor": "#2a3f5f"
            },
            "baxis": {
             "endlinecolor": "#2a3f5f",
             "gridcolor": "white",
             "linecolor": "white",
             "minorgridcolor": "white",
             "startlinecolor": "#2a3f5f"
            },
            "type": "carpet"
           }
          ],
          "choropleth": [
           {
            "colorbar": {
             "outlinewidth": 0,
             "ticks": ""
            },
            "type": "choropleth"
           }
          ],
          "contour": [
           {
            "colorbar": {
             "outlinewidth": 0,
             "ticks": ""
            },
            "colorscale": [
             [
              0,
              "#0d0887"
             ],
             [
              0.1111111111111111,
              "#46039f"
             ],
             [
              0.2222222222222222,
              "#7201a8"
             ],
             [
              0.3333333333333333,
              "#9c179e"
             ],
             [
              0.4444444444444444,
              "#bd3786"
             ],
             [
              0.5555555555555556,
              "#d8576b"
             ],
             [
              0.6666666666666666,
              "#ed7953"
             ],
             [
              0.7777777777777778,
              "#fb9f3a"
             ],
             [
              0.8888888888888888,
              "#fdca26"
             ],
             [
              1,
              "#f0f921"
             ]
            ],
            "type": "contour"
           }
          ],
          "contourcarpet": [
           {
            "colorbar": {
             "outlinewidth": 0,
             "ticks": ""
            },
            "type": "contourcarpet"
           }
          ],
          "heatmap": [
           {
            "colorbar": {
             "outlinewidth": 0,
             "ticks": ""
            },
            "colorscale": [
             [
              0,
              "#0d0887"
             ],
             [
              0.1111111111111111,
              "#46039f"
             ],
             [
              0.2222222222222222,
              "#7201a8"
             ],
             [
              0.3333333333333333,
              "#9c179e"
             ],
             [
              0.4444444444444444,
              "#bd3786"
             ],
             [
              0.5555555555555556,
              "#d8576b"
             ],
             [
              0.6666666666666666,
              "#ed7953"
             ],
             [
              0.7777777777777778,
              "#fb9f3a"
             ],
             [
              0.8888888888888888,
              "#fdca26"
             ],
             [
              1,
              "#f0f921"
             ]
            ],
            "type": "heatmap"
           }
          ],
          "heatmapgl": [
           {
            "colorbar": {
             "outlinewidth": 0,
             "ticks": ""
            },
            "colorscale": [
             [
              0,
              "#0d0887"
             ],
             [
              0.1111111111111111,
              "#46039f"
             ],
             [
              0.2222222222222222,
              "#7201a8"
             ],
             [
              0.3333333333333333,
              "#9c179e"
             ],
             [
              0.4444444444444444,
              "#bd3786"
             ],
             [
              0.5555555555555556,
              "#d8576b"
             ],
             [
              0.6666666666666666,
              "#ed7953"
             ],
             [
              0.7777777777777778,
              "#fb9f3a"
             ],
             [
              0.8888888888888888,
              "#fdca26"
             ],
             [
              1,
              "#f0f921"
             ]
            ],
            "type": "heatmapgl"
           }
          ],
          "histogram": [
           {
            "marker": {
             "colorbar": {
              "outlinewidth": 0,
              "ticks": ""
             }
            },
            "type": "histogram"
           }
          ],
          "histogram2d": [
           {
            "colorbar": {
             "outlinewidth": 0,
             "ticks": ""
            },
            "colorscale": [
             [
              0,
              "#0d0887"
             ],
             [
              0.1111111111111111,
              "#46039f"
             ],
             [
              0.2222222222222222,
              "#7201a8"
             ],
             [
              0.3333333333333333,
              "#9c179e"
             ],
             [
              0.4444444444444444,
              "#bd3786"
             ],
             [
              0.5555555555555556,
              "#d8576b"
             ],
             [
              0.6666666666666666,
              "#ed7953"
             ],
             [
              0.7777777777777778,
              "#fb9f3a"
             ],
             [
              0.8888888888888888,
              "#fdca26"
             ],
             [
              1,
              "#f0f921"
             ]
            ],
            "type": "histogram2d"
           }
          ],
          "histogram2dcontour": [
           {
            "colorbar": {
             "outlinewidth": 0,
             "ticks": ""
            },
            "colorscale": [
             [
              0,
              "#0d0887"
             ],
             [
              0.1111111111111111,
              "#46039f"
             ],
             [
              0.2222222222222222,
              "#7201a8"
             ],
             [
              0.3333333333333333,
              "#9c179e"
             ],
             [
              0.4444444444444444,
              "#bd3786"
             ],
             [
              0.5555555555555556,
              "#d8576b"
             ],
             [
              0.6666666666666666,
              "#ed7953"
             ],
             [
              0.7777777777777778,
              "#fb9f3a"
             ],
             [
              0.8888888888888888,
              "#fdca26"
             ],
             [
              1,
              "#f0f921"
             ]
            ],
            "type": "histogram2dcontour"
           }
          ],
          "mesh3d": [
           {
            "colorbar": {
             "outlinewidth": 0,
             "ticks": ""
            },
            "type": "mesh3d"
           }
          ],
          "parcoords": [
           {
            "line": {
             "colorbar": {
              "outlinewidth": 0,
              "ticks": ""
             }
            },
            "type": "parcoords"
           }
          ],
          "pie": [
           {
            "automargin": true,
            "type": "pie"
           }
          ],
          "scatter": [
           {
            "marker": {
             "colorbar": {
              "outlinewidth": 0,
              "ticks": ""
             }
            },
            "type": "scatter"
           }
          ],
          "scatter3d": [
           {
            "line": {
             "colorbar": {
              "outlinewidth": 0,
              "ticks": ""
             }
            },
            "marker": {
             "colorbar": {
              "outlinewidth": 0,
              "ticks": ""
             }
            },
            "type": "scatter3d"
           }
          ],
          "scattercarpet": [
           {
            "marker": {
             "colorbar": {
              "outlinewidth": 0,
              "ticks": ""
             }
            },
            "type": "scattercarpet"
           }
          ],
          "scattergeo": [
           {
            "marker": {
             "colorbar": {
              "outlinewidth": 0,
              "ticks": ""
             }
            },
            "type": "scattergeo"
           }
          ],
          "scattergl": [
           {
            "marker": {
             "colorbar": {
              "outlinewidth": 0,
              "ticks": ""
             }
            },
            "type": "scattergl"
           }
          ],
          "scattermapbox": [
           {
            "marker": {
             "colorbar": {
              "outlinewidth": 0,
              "ticks": ""
             }
            },
            "type": "scattermapbox"
           }
          ],
          "scatterpolar": [
           {
            "marker": {
             "colorbar": {
              "outlinewidth": 0,
              "ticks": ""
             }
            },
            "type": "scatterpolar"
           }
          ],
          "scatterpolargl": [
           {
            "marker": {
             "colorbar": {
              "outlinewidth": 0,
              "ticks": ""
             }
            },
            "type": "scatterpolargl"
           }
          ],
          "scatterternary": [
           {
            "marker": {
             "colorbar": {
              "outlinewidth": 0,
              "ticks": ""
             }
            },
            "type": "scatterternary"
           }
          ],
          "surface": [
           {
            "colorbar": {
             "outlinewidth": 0,
             "ticks": ""
            },
            "colorscale": [
             [
              0,
              "#0d0887"
             ],
             [
              0.1111111111111111,
              "#46039f"
             ],
             [
              0.2222222222222222,
              "#7201a8"
             ],
             [
              0.3333333333333333,
              "#9c179e"
             ],
             [
              0.4444444444444444,
              "#bd3786"
             ],
             [
              0.5555555555555556,
              "#d8576b"
             ],
             [
              0.6666666666666666,
              "#ed7953"
             ],
             [
              0.7777777777777778,
              "#fb9f3a"
             ],
             [
              0.8888888888888888,
              "#fdca26"
             ],
             [
              1,
              "#f0f921"
             ]
            ],
            "type": "surface"
           }
          ],
          "table": [
           {
            "cells": {
             "fill": {
              "color": "#EBF0F8"
             },
             "line": {
              "color": "white"
             }
            },
            "header": {
             "fill": {
              "color": "#C8D4E3"
             },
             "line": {
              "color": "white"
             }
            },
            "type": "table"
           }
          ]
         },
         "layout": {
          "annotationdefaults": {
           "arrowcolor": "#2a3f5f",
           "arrowhead": 0,
           "arrowwidth": 1
          },
          "coloraxis": {
           "colorbar": {
            "outlinewidth": 0,
            "ticks": ""
           }
          },
          "colorscale": {
           "diverging": [
            [
             0,
             "#8e0152"
            ],
            [
             0.1,
             "#c51b7d"
            ],
            [
             0.2,
             "#de77ae"
            ],
            [
             0.3,
             "#f1b6da"
            ],
            [
             0.4,
             "#fde0ef"
            ],
            [
             0.5,
             "#f7f7f7"
            ],
            [
             0.6,
             "#e6f5d0"
            ],
            [
             0.7,
             "#b8e186"
            ],
            [
             0.8,
             "#7fbc41"
            ],
            [
             0.9,
             "#4d9221"
            ],
            [
             1,
             "#276419"
            ]
           ],
           "sequential": [
            [
             0,
             "#0d0887"
            ],
            [
             0.1111111111111111,
             "#46039f"
            ],
            [
             0.2222222222222222,
             "#7201a8"
            ],
            [
             0.3333333333333333,
             "#9c179e"
            ],
            [
             0.4444444444444444,
             "#bd3786"
            ],
            [
             0.5555555555555556,
             "#d8576b"
            ],
            [
             0.6666666666666666,
             "#ed7953"
            ],
            [
             0.7777777777777778,
             "#fb9f3a"
            ],
            [
             0.8888888888888888,
             "#fdca26"
            ],
            [
             1,
             "#f0f921"
            ]
           ],
           "sequentialminus": [
            [
             0,
             "#0d0887"
            ],
            [
             0.1111111111111111,
             "#46039f"
            ],
            [
             0.2222222222222222,
             "#7201a8"
            ],
            [
             0.3333333333333333,
             "#9c179e"
            ],
            [
             0.4444444444444444,
             "#bd3786"
            ],
            [
             0.5555555555555556,
             "#d8576b"
            ],
            [
             0.6666666666666666,
             "#ed7953"
            ],
            [
             0.7777777777777778,
             "#fb9f3a"
            ],
            [
             0.8888888888888888,
             "#fdca26"
            ],
            [
             1,
             "#f0f921"
            ]
           ]
          },
          "colorway": [
           "#636efa",
           "#EF553B",
           "#00cc96",
           "#ab63fa",
           "#FFA15A",
           "#19d3f3",
           "#FF6692",
           "#B6E880",
           "#FF97FF",
           "#FECB52"
          ],
          "font": {
           "color": "#2a3f5f"
          },
          "geo": {
           "bgcolor": "white",
           "lakecolor": "white",
           "landcolor": "#E5ECF6",
           "showlakes": true,
           "showland": true,
           "subunitcolor": "white"
          },
          "hoverlabel": {
           "align": "left"
          },
          "hovermode": "closest",
          "mapbox": {
           "style": "light"
          },
          "paper_bgcolor": "white",
          "plot_bgcolor": "#E5ECF6",
          "polar": {
           "angularaxis": {
            "gridcolor": "white",
            "linecolor": "white",
            "ticks": ""
           },
           "bgcolor": "#E5ECF6",
           "radialaxis": {
            "gridcolor": "white",
            "linecolor": "white",
            "ticks": ""
           }
          },
          "scene": {
           "xaxis": {
            "backgroundcolor": "#E5ECF6",
            "gridcolor": "white",
            "gridwidth": 2,
            "linecolor": "white",
            "showbackground": true,
            "ticks": "",
            "zerolinecolor": "white"
           },
           "yaxis": {
            "backgroundcolor": "#E5ECF6",
            "gridcolor": "white",
            "gridwidth": 2,
            "linecolor": "white",
            "showbackground": true,
            "ticks": "",
            "zerolinecolor": "white"
           },
           "zaxis": {
            "backgroundcolor": "#E5ECF6",
            "gridcolor": "white",
            "gridwidth": 2,
            "linecolor": "white",
            "showbackground": true,
            "ticks": "",
            "zerolinecolor": "white"
           }
          },
          "shapedefaults": {
           "line": {
            "color": "#2a3f5f"
           }
          },
          "ternary": {
           "aaxis": {
            "gridcolor": "white",
            "linecolor": "white",
            "ticks": ""
           },
           "baxis": {
            "gridcolor": "white",
            "linecolor": "white",
            "ticks": ""
           },
           "bgcolor": "#E5ECF6",
           "caxis": {
            "gridcolor": "white",
            "linecolor": "white",
            "ticks": ""
           }
          },
          "title": {
           "x": 0.05
          },
          "xaxis": {
           "automargin": true,
           "gridcolor": "white",
           "linecolor": "white",
           "ticks": "",
           "title": {
            "standoff": 15
           },
           "zerolinecolor": "white",
           "zerolinewidth": 2
          },
          "yaxis": {
           "automargin": true,
           "gridcolor": "white",
           "linecolor": "white",
           "ticks": "",
           "title": {
            "standoff": 15
           },
           "zerolinecolor": "white",
           "zerolinewidth": 2
          }
         }
        }
       }
      },
      "text/html": [
       "<div>                            <div id=\"fbb1cba0-c909-4cfe-9e33-386018952ab6\" class=\"plotly-graph-div\" style=\"height:525px; width:100%;\"></div>            <script type=\"text/javascript\">                require([\"plotly\"], function(Plotly) {                    window.PLOTLYENV=window.PLOTLYENV || {};                                    if (document.getElementById(\"fbb1cba0-c909-4cfe-9e33-386018952ab6\")) {                    Plotly.newPlot(                        \"fbb1cba0-c909-4cfe-9e33-386018952ab6\",                        [{\"geo\": \"geo\", \"hovertemplate\": \"Latitude=%{lat}<br>Longitude=%{lon}<br>clusters=%{marker.color}<extra></extra>\", \"lat\": [40.09, 40.13, 40.65, 40.6, 40.59, 40.61, 40.57, 40.56, 40.64, 40.01, 40.01, 40.7, 40.03, 39.97, 40.14, 40.34, 40.34, 40.34, 40.35, 40.65, 40.66, 41.01, 41.01, 40.2, 40.0, 40.38, 40.35, 39.88, 39.96, 39.98, 40.02, 40.88, 40.24, 40.22, 40.24, 40.26, 40.2, 40.2, 40.2, 40.27, 39.94, 39.94, 40.08, 41.21, 41.49, 40.16, 40.09, 40.7, 40.69, 40.68, 40.05, 41.47, 40.27, 40.32, 40.31, 40.14, 40.14, 40.69, 40.72, 39.98, 40.14, 40.15, 40.28, 40.17, 42.07, 42.1, 42.06, 42.05, 42.13, 42.06, 40.03, 40.03, 40.05, 40.04, 40.03, 40.05, 40.45, 40.15, 40.11, 40.1, 39.84, 40.64, 40.62, 39.88, 39.86, 39.88, 40.3, 40.31, 41.14, 39.83, 39.77, 40.33, 40.25, 40.31, 40.28, 40.3, 40.25, 39.97, 39.97, 40.56, 41.23, 40.26, 40.27, 40.29, 40.22, 40.18, 40.09, 40.17, 40.61, 40.62, 40.32, 40.26, 40.1, 40.97, 40.28, 39.86, 40.09, 40.09, 40.08, 40.09, 40.09, 40.09, 40.09, 40.09, 40.51, 40.03, 40.03, 40.07, 40.07, 40.04, 40.08, 40.18, 40.18, 40.18, 40.18, 40.25, 40.29, 40.21, 40.56, 40.96, 40.98, 40.06, 40.13, 40.13, 41.14, 40.31, 40.05, 40.28, 40.27, 40.3, 40.25, 40.25, 40.25, 40.19, 39.92, 40.2, 40.68, 40.68, 40.43, 40.44, 40.24, 40.52, 41.36, 41.1, 41.24, 40.43, 40.36, 40.59, 40.21, 40.14, 40.23, 39.99, 40.13, 40.32, 40.22, 40.23, 40.24, 40.13, 40.04, 39.95, 39.95, 40.03, 39.92, 39.95, 40.04, 40.03, 40.0, 39.95, 39.95, 39.95, 40.01, 39.98, 40.0, 39.95, 39.95, 39.94, 39.94, 40.01, 40.1, 39.95, 39.96, 40.1, 40.08, 39.95, 39.95, 39.95, 39.95, 39.95, 40.05, 39.95, 40.07, 39.95, 39.95, 39.95, 39.95, 39.99, 39.95, 39.95, 40.0, 39.95, 39.96, 40.09, 39.95, 39.88, 39.95, 39.95, 40.5, 40.44, 40.44, 40.44, 40.44, 40.45, 40.43, 40.39, 40.42, 40.5, 40.53, 40.44, 40.46, 40.46, 40.46, 40.55, 40.45, 40.44, 40.4, 40.46, 40.45, 40.34, 40.54, 40.36, 40.46, 40.44, 40.55, 40.52, 40.5, 40.44, 40.44, 40.44, 40.44, 40.53, 40.54, 40.43, 40.44, 40.44, 40.43, 40.44, 40.44, 40.45, 40.44, 40.44, 40.45, 40.21, 40.1, 40.1, 40.11, 40.24, 40.45, 40.46, 40.31, 40.12, 40.21, 40.21, 41.06, 41.41, 41.41, 40.84, 40.8, 40.84, 40.54, 40.54, 40.06, 39.77, 41.06, 40.1, 40.03, 40.02, 40.08, 39.91, 39.91, 40.19, 40.8, 40.79, 40.79, 40.81, 40.26, 40.26, 40.98, 40.57, 40.4, 40.14, 40.57, 40.55, 39.91, 40.81, 39.96, 40.17, 40.52, 40.04, 40.21, 40.22, 40.19, 40.18, 40.06, 40.04, 40.04, 40.07, 39.95, 39.97, 40.0, 39.96, 39.82, 40.41, 40.41, 40.34, 39.9, 40.62, 40.62, 40.63, 40.63, 40.63, 41.24, 41.24, 41.24, 40.14, 40.14, 40.0, 40.0, 40.34, 40.2, 40.24, 39.94, 39.98, 39.96, 39.98, 39.94, 39.98, 39.91], \"legendgroup\": \"\", \"lon\": [-75.09, -75.12, -75.44, -75.47, -75.55, -75.54, -75.56, -75.49, -75.44, -75.29, -75.24, -80.3, -78.49, -78.52, -79.84, -80.05, -80.03, -80.06, -80.05, -75.3, -75.42, -76.45, -76.45, -76.02, -78.24, -80.1, -80.11, -75.4, -75.35, -75.35, -75.32, -79.95, -76.93, -76.93, -76.94, -80.17, -77.18, -77.16, -77.16, -75.24, -77.63, -77.63, -75.16, -79.38, -75.7, -75.48, -75.29, -80.11, -80.08, -80.11, -75.41, -75.64, -75.13, -75.13, -75.13, -75.17, -75.31, -75.27, -75.28, -75.44, -76.59, -75.83, -77.07, -76.16, -80.1, -80.13, -80.09, -80.09, -80.09, -80.1, -75.62, -75.63, -75.66, -75.63, -75.63, -75.66, -80.18, -75.0, -75.21, -75.21, -77.2, -79.94, -80.01, -75.53, -75.54, -75.54, -79.5, -79.58, -80.16, -76.99, -76.96, -76.86, -76.81, -76.81, -76.82, -76.85, -76.83, -75.3, -75.32, -75.34, -80.45, -76.68, -76.65, -76.65, -76.79, -75.13, -75.09, -75.07, -79.18, -79.16, -79.69, -75.09, -75.13, -75.64, -78.85, -75.68, -75.39, -75.39, -75.4, -75.36, -75.36, -75.39, -75.38, -75.37, -75.78, -76.2, -76.22, -76.34, -76.34, -76.34, -76.32, -74.88, -74.91, -74.88, -74.88, -75.29, -79.39, -76.57, -75.41, -76.89, -76.88, -75.65, -76.3, -76.31, -77.46, -76.8, -75.52, -80.08, -80.13, -80.1, -77.03, -77.01, -77.01, -76.98, -75.38, -76.76, -80.3, -80.3, -79.79, -79.77, -75.24, -80.22, -75.68, -75.33, -76.83, -79.7, -74.95, -79.75, -79.57, -77.56, -74.94, -75.39, -75.4, -79.69, -75.25, -75.24, -75.24, -75.45, -75.49, -75.21, -75.15, -75.21, -75.17, -75.19, -75.15, -75.23, -75.23, -75.16, -75.17, -75.17, -75.21, -75.15, -75.15, -75.17, -75.16, -75.16, -75.15, -75.21, -75.02, -75.2, -75.19, -75.01, -75.21, -75.17, -75.16, -75.2, -75.17, -75.17, -75.06, -75.19, -75.01, -75.19, -75.16, -75.16, -75.15, -75.09, -75.17, -75.16, -75.22, -75.16, -75.17, -74.96, -75.17, -75.25, -75.19, -75.17, -80.26, -79.96, -79.96, -79.92, -79.99, -80.01, -79.92, -80.07, -80.05, -80.26, -80.01, -80.0, -79.94, -79.94, -79.92, -80.05, -80.16, -80.15, -80.04, -79.93, -80.16, -80.06, -80.01, -80.05, -79.95, -79.95, -80.02, -79.85, -79.85, -80.0, -80.0, -79.77, -79.99, -80.01, -80.07, -79.81, -80.0, -79.99, -79.98, -79.96, -80.0, -79.93, -80.0, -80.0, -80.18, -77.28, -75.29, -75.29, -75.29, -75.57, -75.36, -75.37, -75.86, -75.14, -75.5, -75.5, -75.32, -75.67, -75.66, -76.83, -76.87, -76.84, -80.18, -80.19, -77.52, -76.67, -80.05, -79.2, -79.12, -79.08, -75.44, -75.35, -75.34, -75.23, -77.86, -77.84, -77.86, -77.91, -75.65, -75.65, -75.2, -79.8, -75.93, -74.96, -75.56, -75.6, -79.76, -77.86, -75.29, -75.04, -79.81, -75.35, -75.1, -75.14, -80.22, -80.23, -78.09, -75.38, -75.37, -75.43, -75.6, -75.58, -75.57, -75.61, -75.87, -79.92, -79.92, -76.0, -75.56, -80.05, -80.09, -80.06, -75.48, -75.48, -75.89, -75.86, -77.0, -75.12, -75.12, -75.27, -75.28, -75.98, -74.86, -74.84, -76.68, -76.73, -76.78, -76.77, -76.69, -76.68, -76.68], \"marker\": {\"color\": [0, 0, 0, 0, 0, 0, 0, 0, 0, 0, 0, 1, 0, 0, 1, 1, 1, 1, 1, 0, 0, 0, 0, 0, 0, 1, 1, 0, 0, 0, 0, 1, 0, 0, 0, 1, 0, 0, 0, 0, 0, 0, 0, 1, 0, 0, 0, 1, 1, 1, 0, 0, 0, 0, 0, 0, 0, 0, 0, 0, 0, 0, 0, 0, 2, 2, 2, 2, 2, 2, 0, 0, 0, 0, 0, 0, 1, 0, 0, 0, 0, 1, 1, 0, 0, 0, 1, 1, 1, 0, 0, 0, 0, 0, 0, 0, 0, 0, 0, 0, 1, 0, 0, 0, 0, 0, 0, 0, 1, 1, 1, 0, 0, 0, 1, 0, 0, 0, 0, 0, 0, 0, 0, 0, 0, 0, 0, 0, 0, 0, 0, 0, 0, 0, 0, 0, 1, 0, 0, 0, 0, 0, 0, 0, 0, 0, 0, 1, 1, 1, 0, 0, 0, 0, 0, 0, 1, 1, 1, 1, 0, 1, 0, 0, 0, 1, 0, 1, 1, 0, 0, 0, 0, 1, 0, 0, 0, 0, 0, 0, 0, 0, 0, 0, 0, 0, 0, 0, 0, 0, 0, 0, 0, 0, 0, 0, 0, 0, 0, 0, 0, 0, 0, 0, 0, 0, 0, 0, 0, 0, 0, 0, 0, 0, 0, 0, 0, 0, 0, 0, 0, 0, 0, 0, 0, 0, 1, 1, 1, 1, 1, 1, 1, 1, 1, 1, 1, 1, 1, 1, 1, 1, 1, 1, 1, 1, 1, 1, 1, 1, 1, 1, 1, 1, 1, 1, 1, 1, 1, 1, 1, 1, 1, 1, 1, 1, 1, 1, 1, 1, 1, 0, 0, 0, 0, 0, 0, 0, 0, 0, 0, 0, 0, 0, 0, 0, 0, 0, 1, 1, 0, 0, 1, 1, 1, 1, 0, 0, 0, 0, 0, 0, 0, 0, 0, 0, 0, 1, 0, 0, 0, 0, 1, 0, 0, 0, 1, 0, 0, 0, 1, 1, 0, 0, 0, 0, 0, 0, 0, 0, 0, 1, 1, 0, 0, 1, 1, 1, 0, 0, 0, 0, 0, 0, 0, 0, 0, 0, 0, 0, 0, 0, 0, 0, 0, 0, 0], \"coloraxis\": \"coloraxis\"}, \"name\": \"\", \"showlegend\": false, \"type\": \"scattergeo\"}],                        {\"coloraxis\": {\"colorbar\": {\"title\": {\"text\": \"clusters\"}}, \"colorscale\": [[0.0, \"#0d0887\"], [0.1111111111111111, \"#46039f\"], [0.2222222222222222, \"#7201a8\"], [0.3333333333333333, \"#9c179e\"], [0.4444444444444444, \"#bd3786\"], [0.5555555555555556, \"#d8576b\"], [0.6666666666666666, \"#ed7953\"], [0.7777777777777778, \"#fb9f3a\"], [0.8888888888888888, \"#fdca26\"], [1.0, \"#f0f921\"]]}, \"geo\": {\"center\": {\"lat\": 40.79, \"lon\": -77.84}, \"domain\": {\"x\": [0.0, 1.0], \"y\": [0.0, 1.0]}, \"projection\": {\"scale\": 8, \"type\": \"albers usa\"}, \"scope\": \"usa\"}, \"legend\": {\"tracegroupgap\": 0}, \"margin\": {\"t\": 60}, \"template\": {\"data\": {\"bar\": [{\"error_x\": {\"color\": \"#2a3f5f\"}, \"error_y\": {\"color\": \"#2a3f5f\"}, \"marker\": {\"line\": {\"color\": \"#E5ECF6\", \"width\": 0.5}}, \"type\": \"bar\"}], \"barpolar\": [{\"marker\": {\"line\": {\"color\": \"#E5ECF6\", \"width\": 0.5}}, \"type\": \"barpolar\"}], \"carpet\": [{\"aaxis\": {\"endlinecolor\": \"#2a3f5f\", \"gridcolor\": \"white\", \"linecolor\": \"white\", \"minorgridcolor\": \"white\", \"startlinecolor\": \"#2a3f5f\"}, \"baxis\": {\"endlinecolor\": \"#2a3f5f\", \"gridcolor\": \"white\", \"linecolor\": \"white\", \"minorgridcolor\": \"white\", \"startlinecolor\": \"#2a3f5f\"}, \"type\": \"carpet\"}], \"choropleth\": [{\"colorbar\": {\"outlinewidth\": 0, \"ticks\": \"\"}, \"type\": \"choropleth\"}], \"contour\": [{\"colorbar\": {\"outlinewidth\": 0, \"ticks\": \"\"}, \"colorscale\": [[0.0, \"#0d0887\"], [0.1111111111111111, \"#46039f\"], [0.2222222222222222, \"#7201a8\"], [0.3333333333333333, \"#9c179e\"], [0.4444444444444444, \"#bd3786\"], [0.5555555555555556, \"#d8576b\"], [0.6666666666666666, \"#ed7953\"], [0.7777777777777778, \"#fb9f3a\"], [0.8888888888888888, \"#fdca26\"], [1.0, \"#f0f921\"]], \"type\": \"contour\"}], \"contourcarpet\": [{\"colorbar\": {\"outlinewidth\": 0, \"ticks\": \"\"}, \"type\": \"contourcarpet\"}], \"heatmap\": [{\"colorbar\": {\"outlinewidth\": 0, \"ticks\": \"\"}, \"colorscale\": [[0.0, \"#0d0887\"], [0.1111111111111111, \"#46039f\"], [0.2222222222222222, \"#7201a8\"], [0.3333333333333333, \"#9c179e\"], [0.4444444444444444, \"#bd3786\"], [0.5555555555555556, \"#d8576b\"], [0.6666666666666666, \"#ed7953\"], [0.7777777777777778, \"#fb9f3a\"], [0.8888888888888888, \"#fdca26\"], [1.0, \"#f0f921\"]], \"type\": \"heatmap\"}], \"heatmapgl\": [{\"colorbar\": {\"outlinewidth\": 0, \"ticks\": \"\"}, \"colorscale\": [[0.0, \"#0d0887\"], [0.1111111111111111, \"#46039f\"], [0.2222222222222222, \"#7201a8\"], [0.3333333333333333, \"#9c179e\"], [0.4444444444444444, \"#bd3786\"], [0.5555555555555556, \"#d8576b\"], [0.6666666666666666, \"#ed7953\"], [0.7777777777777778, \"#fb9f3a\"], [0.8888888888888888, \"#fdca26\"], [1.0, \"#f0f921\"]], \"type\": \"heatmapgl\"}], \"histogram\": [{\"marker\": {\"colorbar\": {\"outlinewidth\": 0, \"ticks\": \"\"}}, \"type\": \"histogram\"}], \"histogram2d\": [{\"colorbar\": {\"outlinewidth\": 0, \"ticks\": \"\"}, \"colorscale\": [[0.0, \"#0d0887\"], [0.1111111111111111, \"#46039f\"], [0.2222222222222222, \"#7201a8\"], [0.3333333333333333, \"#9c179e\"], [0.4444444444444444, \"#bd3786\"], [0.5555555555555556, \"#d8576b\"], [0.6666666666666666, \"#ed7953\"], [0.7777777777777778, \"#fb9f3a\"], [0.8888888888888888, \"#fdca26\"], [1.0, \"#f0f921\"]], \"type\": \"histogram2d\"}], \"histogram2dcontour\": [{\"colorbar\": {\"outlinewidth\": 0, \"ticks\": \"\"}, \"colorscale\": [[0.0, \"#0d0887\"], [0.1111111111111111, \"#46039f\"], [0.2222222222222222, \"#7201a8\"], [0.3333333333333333, \"#9c179e\"], [0.4444444444444444, \"#bd3786\"], [0.5555555555555556, \"#d8576b\"], [0.6666666666666666, \"#ed7953\"], [0.7777777777777778, \"#fb9f3a\"], [0.8888888888888888, \"#fdca26\"], [1.0, \"#f0f921\"]], \"type\": \"histogram2dcontour\"}], \"mesh3d\": [{\"colorbar\": {\"outlinewidth\": 0, \"ticks\": \"\"}, \"type\": \"mesh3d\"}], \"parcoords\": [{\"line\": {\"colorbar\": {\"outlinewidth\": 0, \"ticks\": \"\"}}, \"type\": \"parcoords\"}], \"pie\": [{\"automargin\": true, \"type\": \"pie\"}], \"scatter\": [{\"marker\": {\"colorbar\": {\"outlinewidth\": 0, \"ticks\": \"\"}}, \"type\": \"scatter\"}], \"scatter3d\": [{\"line\": {\"colorbar\": {\"outlinewidth\": 0, \"ticks\": \"\"}}, \"marker\": {\"colorbar\": {\"outlinewidth\": 0, \"ticks\": \"\"}}, \"type\": \"scatter3d\"}], \"scattercarpet\": [{\"marker\": {\"colorbar\": {\"outlinewidth\": 0, \"ticks\": \"\"}}, \"type\": \"scattercarpet\"}], \"scattergeo\": [{\"marker\": {\"colorbar\": {\"outlinewidth\": 0, \"ticks\": \"\"}}, \"type\": \"scattergeo\"}], \"scattergl\": [{\"marker\": {\"colorbar\": {\"outlinewidth\": 0, \"ticks\": \"\"}}, \"type\": \"scattergl\"}], \"scattermapbox\": [{\"marker\": {\"colorbar\": {\"outlinewidth\": 0, \"ticks\": \"\"}}, \"type\": \"scattermapbox\"}], \"scatterpolar\": [{\"marker\": {\"colorbar\": {\"outlinewidth\": 0, \"ticks\": \"\"}}, \"type\": \"scatterpolar\"}], \"scatterpolargl\": [{\"marker\": {\"colorbar\": {\"outlinewidth\": 0, \"ticks\": \"\"}}, \"type\": \"scatterpolargl\"}], \"scatterternary\": [{\"marker\": {\"colorbar\": {\"outlinewidth\": 0, \"ticks\": \"\"}}, \"type\": \"scatterternary\"}], \"surface\": [{\"colorbar\": {\"outlinewidth\": 0, \"ticks\": \"\"}, \"colorscale\": [[0.0, \"#0d0887\"], [0.1111111111111111, \"#46039f\"], [0.2222222222222222, \"#7201a8\"], [0.3333333333333333, \"#9c179e\"], [0.4444444444444444, \"#bd3786\"], [0.5555555555555556, \"#d8576b\"], [0.6666666666666666, \"#ed7953\"], [0.7777777777777778, \"#fb9f3a\"], [0.8888888888888888, \"#fdca26\"], [1.0, \"#f0f921\"]], \"type\": \"surface\"}], \"table\": [{\"cells\": {\"fill\": {\"color\": \"#EBF0F8\"}, \"line\": {\"color\": \"white\"}}, \"header\": {\"fill\": {\"color\": \"#C8D4E3\"}, \"line\": {\"color\": \"white\"}}, \"type\": \"table\"}]}, \"layout\": {\"annotationdefaults\": {\"arrowcolor\": \"#2a3f5f\", \"arrowhead\": 0, \"arrowwidth\": 1}, \"coloraxis\": {\"colorbar\": {\"outlinewidth\": 0, \"ticks\": \"\"}}, \"colorscale\": {\"diverging\": [[0, \"#8e0152\"], [0.1, \"#c51b7d\"], [0.2, \"#de77ae\"], [0.3, \"#f1b6da\"], [0.4, \"#fde0ef\"], [0.5, \"#f7f7f7\"], [0.6, \"#e6f5d0\"], [0.7, \"#b8e186\"], [0.8, \"#7fbc41\"], [0.9, \"#4d9221\"], [1, \"#276419\"]], \"sequential\": [[0.0, \"#0d0887\"], [0.1111111111111111, \"#46039f\"], [0.2222222222222222, \"#7201a8\"], [0.3333333333333333, \"#9c179e\"], [0.4444444444444444, \"#bd3786\"], [0.5555555555555556, \"#d8576b\"], [0.6666666666666666, \"#ed7953\"], [0.7777777777777778, \"#fb9f3a\"], [0.8888888888888888, \"#fdca26\"], [1.0, \"#f0f921\"]], \"sequentialminus\": [[0.0, \"#0d0887\"], [0.1111111111111111, \"#46039f\"], [0.2222222222222222, \"#7201a8\"], [0.3333333333333333, \"#9c179e\"], [0.4444444444444444, \"#bd3786\"], [0.5555555555555556, \"#d8576b\"], [0.6666666666666666, \"#ed7953\"], [0.7777777777777778, \"#fb9f3a\"], [0.8888888888888888, \"#fdca26\"], [1.0, \"#f0f921\"]]}, \"colorway\": [\"#636efa\", \"#EF553B\", \"#00cc96\", \"#ab63fa\", \"#FFA15A\", \"#19d3f3\", \"#FF6692\", \"#B6E880\", \"#FF97FF\", \"#FECB52\"], \"font\": {\"color\": \"#2a3f5f\"}, \"geo\": {\"bgcolor\": \"white\", \"lakecolor\": \"white\", \"landcolor\": \"#E5ECF6\", \"showlakes\": true, \"showland\": true, \"subunitcolor\": \"white\"}, \"hoverlabel\": {\"align\": \"left\"}, \"hovermode\": \"closest\", \"mapbox\": {\"style\": \"light\"}, \"paper_bgcolor\": \"white\", \"plot_bgcolor\": \"#E5ECF6\", \"polar\": {\"angularaxis\": {\"gridcolor\": \"white\", \"linecolor\": \"white\", \"ticks\": \"\"}, \"bgcolor\": \"#E5ECF6\", \"radialaxis\": {\"gridcolor\": \"white\", \"linecolor\": \"white\", \"ticks\": \"\"}}, \"scene\": {\"xaxis\": {\"backgroundcolor\": \"#E5ECF6\", \"gridcolor\": \"white\", \"gridwidth\": 2, \"linecolor\": \"white\", \"showbackground\": true, \"ticks\": \"\", \"zerolinecolor\": \"white\"}, \"yaxis\": {\"backgroundcolor\": \"#E5ECF6\", \"gridcolor\": \"white\", \"gridwidth\": 2, \"linecolor\": \"white\", \"showbackground\": true, \"ticks\": \"\", \"zerolinecolor\": \"white\"}, \"zaxis\": {\"backgroundcolor\": \"#E5ECF6\", \"gridcolor\": \"white\", \"gridwidth\": 2, \"linecolor\": \"white\", \"showbackground\": true, \"ticks\": \"\", \"zerolinecolor\": \"white\"}}, \"shapedefaults\": {\"line\": {\"color\": \"#2a3f5f\"}}, \"ternary\": {\"aaxis\": {\"gridcolor\": \"white\", \"linecolor\": \"white\", \"ticks\": \"\"}, \"baxis\": {\"gridcolor\": \"white\", \"linecolor\": \"white\", \"ticks\": \"\"}, \"bgcolor\": \"#E5ECF6\", \"caxis\": {\"gridcolor\": \"white\", \"linecolor\": \"white\", \"ticks\": \"\"}}, \"title\": {\"x\": 0.05}, \"xaxis\": {\"automargin\": true, \"gridcolor\": \"white\", \"linecolor\": \"white\", \"ticks\": \"\", \"title\": {\"standoff\": 15}, \"zerolinecolor\": \"white\", \"zerolinewidth\": 2}, \"yaxis\": {\"automargin\": true, \"gridcolor\": \"white\", \"linecolor\": \"white\", \"ticks\": \"\", \"title\": {\"standoff\": 15}, \"zerolinecolor\": \"white\", \"zerolinewidth\": 2}}}},                        {\"responsive\": true}                    ).then(function(){\n",
       "                            \n",
       "var gd = document.getElementById('fbb1cba0-c909-4cfe-9e33-386018952ab6');\n",
       "var x = new MutationObserver(function (mutations, observer) {{\n",
       "        var display = window.getComputedStyle(gd).display;\n",
       "        if (!display || display === 'none') {{\n",
       "            console.log([gd, 'removed!']);\n",
       "            Plotly.purge(gd);\n",
       "            observer.disconnect();\n",
       "        }}\n",
       "}});\n",
       "\n",
       "// Listen for the removal of the full notebook cells\n",
       "var notebookContainer = gd.closest('#notebook-container');\n",
       "if (notebookContainer) {{\n",
       "    x.observe(notebookContainer, {childList: true});\n",
       "}}\n",
       "\n",
       "// Listen for the clearing of the current output cell\n",
       "var outputEl = gd.closest('.output');\n",
       "if (outputEl) {{\n",
       "    x.observe(outputEl, {childList: true});\n",
       "}}\n",
       "\n",
       "                        })                };                });            </script>        </div>"
      ]
     },
     "metadata": {},
     "output_type": "display_data"
    },
    {
     "data": {
      "application/javascript": [
       "\n",
       "            setTimeout(function() {\n",
       "                var nbb_cell_id = 13;\n",
       "                var nbb_unformatted_code = \"starbucks_pa_df = state_cluster(\\\"PA\\\", starbucks_df, n_clusters=3, dendrogram=False)\\n\\nfig = px.scatter_geo(\\n    data_frame=starbucks_pa_df,\\n    scope=\\\"usa\\\",\\n    color=\\\"clusters\\\",\\n    lat=\\\"Latitude\\\",\\n    lon=\\\"Longitude\\\",\\n    projection=\\\"albers usa\\\",\\n)\\n\\nlat_center = 40.79\\nlon_center = -77.84\\nfig.update_layout(\\n    geo={\\\"projection_scale\\\": 8, \\\"center\\\": {\\\"lat\\\": lat_center, \\\"lon\\\": lon_center}}\\n)\";\n",
       "                var nbb_formatted_code = \"starbucks_pa_df = state_cluster(\\\"PA\\\", starbucks_df, n_clusters=3, dendrogram=False)\\n\\nfig = px.scatter_geo(\\n    data_frame=starbucks_pa_df,\\n    scope=\\\"usa\\\",\\n    color=\\\"clusters\\\",\\n    lat=\\\"Latitude\\\",\\n    lon=\\\"Longitude\\\",\\n    projection=\\\"albers usa\\\",\\n)\\n\\nlat_center = 40.79\\nlon_center = -77.84\\nfig.update_layout(\\n    geo={\\\"projection_scale\\\": 8, \\\"center\\\": {\\\"lat\\\": lat_center, \\\"lon\\\": lon_center}}\\n)\";\n",
       "                var nbb_cells = Jupyter.notebook.get_cells();\n",
       "                for (var i = 0; i < nbb_cells.length; ++i) {\n",
       "                    if (nbb_cells[i].input_prompt_number == nbb_cell_id) {\n",
       "                        if (nbb_cells[i].get_text() == nbb_unformatted_code) {\n",
       "                             nbb_cells[i].set_text(nbb_formatted_code);\n",
       "                        }\n",
       "                        break;\n",
       "                    }\n",
       "                }\n",
       "            }, 500);\n",
       "            "
      ],
      "text/plain": [
       "<IPython.core.display.Javascript object>"
      ]
     },
     "metadata": {},
     "output_type": "display_data"
    }
   ],
   "source": [
    "starbucks_pa_df = state_cluster(\"PA\", starbucks_df, n_clusters=3, dendrogram=False)\n",
    "\n",
    "fig = px.scatter_geo(\n",
    "    data_frame=starbucks_pa_df,\n",
    "    scope=\"usa\",\n",
    "    color=\"clusters\",\n",
    "    lat=\"Latitude\",\n",
    "    lon=\"Longitude\",\n",
    "    projection=\"albers usa\",\n",
    ")\n",
    "\n",
    "lat_center = 40.79\n",
    "lon_center = -77.84\n",
    "fig.update_layout(\n",
    "    geo={\"projection_scale\": 8, \"center\": {\"lat\": lat_center, \"lon\": lon_center}}\n",
    ")"
   ]
  },
  {
   "cell_type": "code",
   "execution_count": 14,
   "metadata": {},
   "outputs": [
    {
     "data": {
      "application/javascript": [
       "\n",
       "            setTimeout(function() {\n",
       "                var nbb_cell_id = 14;\n",
       "                var nbb_unformatted_code = \"# 3 clusters looks like it's not enough\";\n",
       "                var nbb_formatted_code = \"# 3 clusters looks like it's not enough\";\n",
       "                var nbb_cells = Jupyter.notebook.get_cells();\n",
       "                for (var i = 0; i < nbb_cells.length; ++i) {\n",
       "                    if (nbb_cells[i].input_prompt_number == nbb_cell_id) {\n",
       "                        if (nbb_cells[i].get_text() == nbb_unformatted_code) {\n",
       "                             nbb_cells[i].set_text(nbb_formatted_code);\n",
       "                        }\n",
       "                        break;\n",
       "                    }\n",
       "                }\n",
       "            }, 500);\n",
       "            "
      ],
      "text/plain": [
       "<IPython.core.display.Javascript object>"
      ]
     },
     "metadata": {},
     "output_type": "display_data"
    }
   ],
   "source": [
    "# 3 clusters looks like it's not enough"
   ]
  },
  {
   "cell_type": "code",
   "execution_count": 15,
   "metadata": {},
   "outputs": [
    {
     "data": {
      "application/vnd.plotly.v1+json": {
       "config": {
        "plotlyServerURL": "https://plot.ly"
       },
       "data": [
        {
         "geo": "geo",
         "hovertemplate": "Latitude=%{lat}<br>Longitude=%{lon}<br>clusters=%{marker.color}<extra></extra>",
         "lat": [
          40.09,
          40.13,
          40.65,
          40.6,
          40.59,
          40.61,
          40.57,
          40.56,
          40.64,
          40.01,
          40.01,
          40.7,
          40.03,
          39.97,
          40.14,
          40.34,
          40.34,
          40.34,
          40.35,
          40.65,
          40.66,
          41.01,
          41.01,
          40.2,
          40,
          40.38,
          40.35,
          39.88,
          39.96,
          39.98,
          40.02,
          40.88,
          40.24,
          40.22,
          40.24,
          40.26,
          40.2,
          40.2,
          40.2,
          40.27,
          39.94,
          39.94,
          40.08,
          41.21,
          41.49,
          40.16,
          40.09,
          40.7,
          40.69,
          40.68,
          40.05,
          41.47,
          40.27,
          40.32,
          40.31,
          40.14,
          40.14,
          40.69,
          40.72,
          39.98,
          40.14,
          40.15,
          40.28,
          40.17,
          42.07,
          42.1,
          42.06,
          42.05,
          42.13,
          42.06,
          40.03,
          40.03,
          40.05,
          40.04,
          40.03,
          40.05,
          40.45,
          40.15,
          40.11,
          40.1,
          39.84,
          40.64,
          40.62,
          39.88,
          39.86,
          39.88,
          40.3,
          40.31,
          41.14,
          39.83,
          39.77,
          40.33,
          40.25,
          40.31,
          40.28,
          40.3,
          40.25,
          39.97,
          39.97,
          40.56,
          41.23,
          40.26,
          40.27,
          40.29,
          40.22,
          40.18,
          40.09,
          40.17,
          40.61,
          40.62,
          40.32,
          40.26,
          40.1,
          40.97,
          40.28,
          39.86,
          40.09,
          40.09,
          40.08,
          40.09,
          40.09,
          40.09,
          40.09,
          40.09,
          40.51,
          40.03,
          40.03,
          40.07,
          40.07,
          40.04,
          40.08,
          40.18,
          40.18,
          40.18,
          40.18,
          40.25,
          40.29,
          40.21,
          40.56,
          40.96,
          40.98,
          40.06,
          40.13,
          40.13,
          41.14,
          40.31,
          40.05,
          40.28,
          40.27,
          40.3,
          40.25,
          40.25,
          40.25,
          40.19,
          39.92,
          40.2,
          40.68,
          40.68,
          40.43,
          40.44,
          40.24,
          40.52,
          41.36,
          41.1,
          41.24,
          40.43,
          40.36,
          40.59,
          40.21,
          40.14,
          40.23,
          39.99,
          40.13,
          40.32,
          40.22,
          40.23,
          40.24,
          40.13,
          40.04,
          39.95,
          39.95,
          40.03,
          39.92,
          39.95,
          40.04,
          40.03,
          40,
          39.95,
          39.95,
          39.95,
          40.01,
          39.98,
          40,
          39.95,
          39.95,
          39.94,
          39.94,
          40.01,
          40.1,
          39.95,
          39.96,
          40.1,
          40.08,
          39.95,
          39.95,
          39.95,
          39.95,
          39.95,
          40.05,
          39.95,
          40.07,
          39.95,
          39.95,
          39.95,
          39.95,
          39.99,
          39.95,
          39.95,
          40,
          39.95,
          39.96,
          40.09,
          39.95,
          39.88,
          39.95,
          39.95,
          40.5,
          40.44,
          40.44,
          40.44,
          40.44,
          40.45,
          40.43,
          40.39,
          40.42,
          40.5,
          40.53,
          40.44,
          40.46,
          40.46,
          40.46,
          40.55,
          40.45,
          40.44,
          40.4,
          40.46,
          40.45,
          40.34,
          40.54,
          40.36,
          40.46,
          40.44,
          40.55,
          40.52,
          40.5,
          40.44,
          40.44,
          40.44,
          40.44,
          40.53,
          40.54,
          40.43,
          40.44,
          40.44,
          40.43,
          40.44,
          40.44,
          40.45,
          40.44,
          40.44,
          40.45,
          40.21,
          40.1,
          40.1,
          40.11,
          40.24,
          40.45,
          40.46,
          40.31,
          40.12,
          40.21,
          40.21,
          41.06,
          41.41,
          41.41,
          40.84,
          40.8,
          40.84,
          40.54,
          40.54,
          40.06,
          39.77,
          41.06,
          40.1,
          40.03,
          40.02,
          40.08,
          39.91,
          39.91,
          40.19,
          40.8,
          40.79,
          40.79,
          40.81,
          40.26,
          40.26,
          40.98,
          40.57,
          40.4,
          40.14,
          40.57,
          40.55,
          39.91,
          40.81,
          39.96,
          40.17,
          40.52,
          40.04,
          40.21,
          40.22,
          40.19,
          40.18,
          40.06,
          40.04,
          40.04,
          40.07,
          39.95,
          39.97,
          40,
          39.96,
          39.82,
          40.41,
          40.41,
          40.34,
          39.9,
          40.62,
          40.62,
          40.63,
          40.63,
          40.63,
          41.24,
          41.24,
          41.24,
          40.14,
          40.14,
          40,
          40,
          40.34,
          40.2,
          40.24,
          39.94,
          39.98,
          39.96,
          39.98,
          39.94,
          39.98,
          39.91
         ],
         "legendgroup": "",
         "lon": [
          -75.09,
          -75.12,
          -75.44,
          -75.47,
          -75.55,
          -75.54,
          -75.56,
          -75.49,
          -75.44,
          -75.29,
          -75.24,
          -80.3,
          -78.49,
          -78.52,
          -79.84,
          -80.05,
          -80.03,
          -80.06,
          -80.05,
          -75.3,
          -75.42,
          -76.45,
          -76.45,
          -76.02,
          -78.24,
          -80.1,
          -80.11,
          -75.4,
          -75.35,
          -75.35,
          -75.32,
          -79.95,
          -76.93,
          -76.93,
          -76.94,
          -80.17,
          -77.18,
          -77.16,
          -77.16,
          -75.24,
          -77.63,
          -77.63,
          -75.16,
          -79.38,
          -75.7,
          -75.48,
          -75.29,
          -80.11,
          -80.08,
          -80.11,
          -75.41,
          -75.64,
          -75.13,
          -75.13,
          -75.13,
          -75.17,
          -75.31,
          -75.27,
          -75.28,
          -75.44,
          -76.59,
          -75.83,
          -77.07,
          -76.16,
          -80.1,
          -80.13,
          -80.09,
          -80.09,
          -80.09,
          -80.1,
          -75.62,
          -75.63,
          -75.66,
          -75.63,
          -75.63,
          -75.66,
          -80.18,
          -75,
          -75.21,
          -75.21,
          -77.2,
          -79.94,
          -80.01,
          -75.53,
          -75.54,
          -75.54,
          -79.5,
          -79.58,
          -80.16,
          -76.99,
          -76.96,
          -76.86,
          -76.81,
          -76.81,
          -76.82,
          -76.85,
          -76.83,
          -75.3,
          -75.32,
          -75.34,
          -80.45,
          -76.68,
          -76.65,
          -76.65,
          -76.79,
          -75.13,
          -75.09,
          -75.07,
          -79.18,
          -79.16,
          -79.69,
          -75.09,
          -75.13,
          -75.64,
          -78.85,
          -75.68,
          -75.39,
          -75.39,
          -75.4,
          -75.36,
          -75.36,
          -75.39,
          -75.38,
          -75.37,
          -75.78,
          -76.2,
          -76.22,
          -76.34,
          -76.34,
          -76.34,
          -76.32,
          -74.88,
          -74.91,
          -74.88,
          -74.88,
          -75.29,
          -79.39,
          -76.57,
          -75.41,
          -76.89,
          -76.88,
          -75.65,
          -76.3,
          -76.31,
          -77.46,
          -76.8,
          -75.52,
          -80.08,
          -80.13,
          -80.1,
          -77.03,
          -77.01,
          -77.01,
          -76.98,
          -75.38,
          -76.76,
          -80.3,
          -80.3,
          -79.79,
          -79.77,
          -75.24,
          -80.22,
          -75.68,
          -75.33,
          -76.83,
          -79.7,
          -74.95,
          -79.75,
          -79.57,
          -77.56,
          -74.94,
          -75.39,
          -75.4,
          -79.69,
          -75.25,
          -75.24,
          -75.24,
          -75.45,
          -75.49,
          -75.21,
          -75.15,
          -75.21,
          -75.17,
          -75.19,
          -75.15,
          -75.23,
          -75.23,
          -75.16,
          -75.17,
          -75.17,
          -75.21,
          -75.15,
          -75.15,
          -75.17,
          -75.16,
          -75.16,
          -75.15,
          -75.21,
          -75.02,
          -75.2,
          -75.19,
          -75.01,
          -75.21,
          -75.17,
          -75.16,
          -75.2,
          -75.17,
          -75.17,
          -75.06,
          -75.19,
          -75.01,
          -75.19,
          -75.16,
          -75.16,
          -75.15,
          -75.09,
          -75.17,
          -75.16,
          -75.22,
          -75.16,
          -75.17,
          -74.96,
          -75.17,
          -75.25,
          -75.19,
          -75.17,
          -80.26,
          -79.96,
          -79.96,
          -79.92,
          -79.99,
          -80.01,
          -79.92,
          -80.07,
          -80.05,
          -80.26,
          -80.01,
          -80,
          -79.94,
          -79.94,
          -79.92,
          -80.05,
          -80.16,
          -80.15,
          -80.04,
          -79.93,
          -80.16,
          -80.06,
          -80.01,
          -80.05,
          -79.95,
          -79.95,
          -80.02,
          -79.85,
          -79.85,
          -80,
          -80,
          -79.77,
          -79.99,
          -80.01,
          -80.07,
          -79.81,
          -80,
          -79.99,
          -79.98,
          -79.96,
          -80,
          -79.93,
          -80,
          -80,
          -80.18,
          -77.28,
          -75.29,
          -75.29,
          -75.29,
          -75.57,
          -75.36,
          -75.37,
          -75.86,
          -75.14,
          -75.5,
          -75.5,
          -75.32,
          -75.67,
          -75.66,
          -76.83,
          -76.87,
          -76.84,
          -80.18,
          -80.19,
          -77.52,
          -76.67,
          -80.05,
          -79.2,
          -79.12,
          -79.08,
          -75.44,
          -75.35,
          -75.34,
          -75.23,
          -77.86,
          -77.84,
          -77.86,
          -77.91,
          -75.65,
          -75.65,
          -75.2,
          -79.8,
          -75.93,
          -74.96,
          -75.56,
          -75.6,
          -79.76,
          -77.86,
          -75.29,
          -75.04,
          -79.81,
          -75.35,
          -75.1,
          -75.14,
          -80.22,
          -80.23,
          -78.09,
          -75.38,
          -75.37,
          -75.43,
          -75.6,
          -75.58,
          -75.57,
          -75.61,
          -75.87,
          -79.92,
          -79.92,
          -76,
          -75.56,
          -80.05,
          -80.09,
          -80.06,
          -75.48,
          -75.48,
          -75.89,
          -75.86,
          -77,
          -75.12,
          -75.12,
          -75.27,
          -75.28,
          -75.98,
          -74.86,
          -74.84,
          -76.68,
          -76.73,
          -76.78,
          -76.77,
          -76.69,
          -76.68,
          -76.68
         ],
         "marker": {
          "color": [
           0,
           0,
           0,
           0,
           0,
           0,
           0,
           0,
           0,
           0,
           0,
           3,
           1,
           1,
           3,
           3,
           3,
           3,
           3,
           0,
           0,
           1,
           1,
           1,
           1,
           3,
           3,
           0,
           0,
           0,
           0,
           3,
           1,
           1,
           1,
           3,
           1,
           1,
           1,
           0,
           1,
           1,
           0,
           3,
           0,
           0,
           0,
           3,
           3,
           3,
           0,
           0,
           0,
           0,
           0,
           0,
           0,
           0,
           0,
           0,
           1,
           0,
           1,
           1,
           2,
           2,
           2,
           2,
           2,
           2,
           0,
           0,
           0,
           0,
           0,
           0,
           3,
           0,
           0,
           0,
           1,
           3,
           3,
           0,
           0,
           0,
           3,
           3,
           3,
           1,
           1,
           1,
           1,
           1,
           1,
           1,
           1,
           0,
           0,
           0,
           3,
           1,
           1,
           1,
           1,
           0,
           0,
           0,
           3,
           3,
           3,
           0,
           0,
           0,
           3,
           0,
           0,
           0,
           0,
           0,
           0,
           0,
           0,
           0,
           1,
           1,
           1,
           1,
           1,
           1,
           1,
           0,
           0,
           0,
           0,
           0,
           3,
           1,
           0,
           1,
           1,
           0,
           1,
           1,
           1,
           1,
           0,
           3,
           3,
           3,
           1,
           1,
           1,
           1,
           0,
           1,
           3,
           3,
           3,
           3,
           0,
           3,
           0,
           0,
           1,
           3,
           0,
           3,
           3,
           1,
           0,
           0,
           0,
           3,
           0,
           0,
           0,
           0,
           0,
           0,
           0,
           0,
           0,
           0,
           0,
           0,
           0,
           0,
           0,
           0,
           0,
           0,
           0,
           0,
           0,
           0,
           0,
           0,
           0,
           0,
           0,
           0,
           0,
           0,
           0,
           0,
           0,
           0,
           0,
           0,
           0,
           0,
           0,
           0,
           0,
           0,
           0,
           0,
           0,
           0,
           0,
           0,
           0,
           0,
           0,
           0,
           3,
           3,
           3,
           3,
           3,
           3,
           3,
           3,
           3,
           3,
           3,
           3,
           3,
           3,
           3,
           3,
           3,
           3,
           3,
           3,
           3,
           3,
           3,
           3,
           3,
           3,
           3,
           3,
           3,
           3,
           3,
           3,
           3,
           3,
           3,
           3,
           3,
           3,
           3,
           3,
           3,
           3,
           3,
           3,
           3,
           1,
           0,
           0,
           0,
           0,
           0,
           0,
           1,
           0,
           0,
           0,
           0,
           0,
           0,
           1,
           1,
           1,
           3,
           3,
           1,
           1,
           3,
           3,
           3,
           3,
           0,
           0,
           0,
           0,
           1,
           1,
           1,
           1,
           0,
           0,
           0,
           3,
           1,
           0,
           0,
           0,
           3,
           1,
           0,
           0,
           3,
           0,
           0,
           0,
           3,
           3,
           1,
           0,
           0,
           0,
           0,
           0,
           0,
           0,
           0,
           3,
           3,
           1,
           0,
           3,
           3,
           3,
           0,
           0,
           0,
           0,
           1,
           0,
           0,
           0,
           0,
           1,
           0,
           0,
           1,
           1,
           1,
           1,
           1,
           1,
           1
          ],
          "coloraxis": "coloraxis"
         },
         "name": "",
         "showlegend": false,
         "type": "scattergeo"
        }
       ],
       "layout": {
        "coloraxis": {
         "colorbar": {
          "title": {
           "text": "clusters"
          }
         },
         "colorscale": [
          [
           0,
           "#0d0887"
          ],
          [
           0.1111111111111111,
           "#46039f"
          ],
          [
           0.2222222222222222,
           "#7201a8"
          ],
          [
           0.3333333333333333,
           "#9c179e"
          ],
          [
           0.4444444444444444,
           "#bd3786"
          ],
          [
           0.5555555555555556,
           "#d8576b"
          ],
          [
           0.6666666666666666,
           "#ed7953"
          ],
          [
           0.7777777777777778,
           "#fb9f3a"
          ],
          [
           0.8888888888888888,
           "#fdca26"
          ],
          [
           1,
           "#f0f921"
          ]
         ]
        },
        "geo": {
         "center": {
          "lat": 40.79,
          "lon": -77.84
         },
         "domain": {
          "x": [
           0,
           1
          ],
          "y": [
           0,
           1
          ]
         },
         "projection": {
          "scale": 8,
          "type": "albers usa"
         },
         "scope": "usa"
        },
        "legend": {
         "tracegroupgap": 0
        },
        "margin": {
         "t": 60
        },
        "template": {
         "data": {
          "bar": [
           {
            "error_x": {
             "color": "#2a3f5f"
            },
            "error_y": {
             "color": "#2a3f5f"
            },
            "marker": {
             "line": {
              "color": "#E5ECF6",
              "width": 0.5
             }
            },
            "type": "bar"
           }
          ],
          "barpolar": [
           {
            "marker": {
             "line": {
              "color": "#E5ECF6",
              "width": 0.5
             }
            },
            "type": "barpolar"
           }
          ],
          "carpet": [
           {
            "aaxis": {
             "endlinecolor": "#2a3f5f",
             "gridcolor": "white",
             "linecolor": "white",
             "minorgridcolor": "white",
             "startlinecolor": "#2a3f5f"
            },
            "baxis": {
             "endlinecolor": "#2a3f5f",
             "gridcolor": "white",
             "linecolor": "white",
             "minorgridcolor": "white",
             "startlinecolor": "#2a3f5f"
            },
            "type": "carpet"
           }
          ],
          "choropleth": [
           {
            "colorbar": {
             "outlinewidth": 0,
             "ticks": ""
            },
            "type": "choropleth"
           }
          ],
          "contour": [
           {
            "colorbar": {
             "outlinewidth": 0,
             "ticks": ""
            },
            "colorscale": [
             [
              0,
              "#0d0887"
             ],
             [
              0.1111111111111111,
              "#46039f"
             ],
             [
              0.2222222222222222,
              "#7201a8"
             ],
             [
              0.3333333333333333,
              "#9c179e"
             ],
             [
              0.4444444444444444,
              "#bd3786"
             ],
             [
              0.5555555555555556,
              "#d8576b"
             ],
             [
              0.6666666666666666,
              "#ed7953"
             ],
             [
              0.7777777777777778,
              "#fb9f3a"
             ],
             [
              0.8888888888888888,
              "#fdca26"
             ],
             [
              1,
              "#f0f921"
             ]
            ],
            "type": "contour"
           }
          ],
          "contourcarpet": [
           {
            "colorbar": {
             "outlinewidth": 0,
             "ticks": ""
            },
            "type": "contourcarpet"
           }
          ],
          "heatmap": [
           {
            "colorbar": {
             "outlinewidth": 0,
             "ticks": ""
            },
            "colorscale": [
             [
              0,
              "#0d0887"
             ],
             [
              0.1111111111111111,
              "#46039f"
             ],
             [
              0.2222222222222222,
              "#7201a8"
             ],
             [
              0.3333333333333333,
              "#9c179e"
             ],
             [
              0.4444444444444444,
              "#bd3786"
             ],
             [
              0.5555555555555556,
              "#d8576b"
             ],
             [
              0.6666666666666666,
              "#ed7953"
             ],
             [
              0.7777777777777778,
              "#fb9f3a"
             ],
             [
              0.8888888888888888,
              "#fdca26"
             ],
             [
              1,
              "#f0f921"
             ]
            ],
            "type": "heatmap"
           }
          ],
          "heatmapgl": [
           {
            "colorbar": {
             "outlinewidth": 0,
             "ticks": ""
            },
            "colorscale": [
             [
              0,
              "#0d0887"
             ],
             [
              0.1111111111111111,
              "#46039f"
             ],
             [
              0.2222222222222222,
              "#7201a8"
             ],
             [
              0.3333333333333333,
              "#9c179e"
             ],
             [
              0.4444444444444444,
              "#bd3786"
             ],
             [
              0.5555555555555556,
              "#d8576b"
             ],
             [
              0.6666666666666666,
              "#ed7953"
             ],
             [
              0.7777777777777778,
              "#fb9f3a"
             ],
             [
              0.8888888888888888,
              "#fdca26"
             ],
             [
              1,
              "#f0f921"
             ]
            ],
            "type": "heatmapgl"
           }
          ],
          "histogram": [
           {
            "marker": {
             "colorbar": {
              "outlinewidth": 0,
              "ticks": ""
             }
            },
            "type": "histogram"
           }
          ],
          "histogram2d": [
           {
            "colorbar": {
             "outlinewidth": 0,
             "ticks": ""
            },
            "colorscale": [
             [
              0,
              "#0d0887"
             ],
             [
              0.1111111111111111,
              "#46039f"
             ],
             [
              0.2222222222222222,
              "#7201a8"
             ],
             [
              0.3333333333333333,
              "#9c179e"
             ],
             [
              0.4444444444444444,
              "#bd3786"
             ],
             [
              0.5555555555555556,
              "#d8576b"
             ],
             [
              0.6666666666666666,
              "#ed7953"
             ],
             [
              0.7777777777777778,
              "#fb9f3a"
             ],
             [
              0.8888888888888888,
              "#fdca26"
             ],
             [
              1,
              "#f0f921"
             ]
            ],
            "type": "histogram2d"
           }
          ],
          "histogram2dcontour": [
           {
            "colorbar": {
             "outlinewidth": 0,
             "ticks": ""
            },
            "colorscale": [
             [
              0,
              "#0d0887"
             ],
             [
              0.1111111111111111,
              "#46039f"
             ],
             [
              0.2222222222222222,
              "#7201a8"
             ],
             [
              0.3333333333333333,
              "#9c179e"
             ],
             [
              0.4444444444444444,
              "#bd3786"
             ],
             [
              0.5555555555555556,
              "#d8576b"
             ],
             [
              0.6666666666666666,
              "#ed7953"
             ],
             [
              0.7777777777777778,
              "#fb9f3a"
             ],
             [
              0.8888888888888888,
              "#fdca26"
             ],
             [
              1,
              "#f0f921"
             ]
            ],
            "type": "histogram2dcontour"
           }
          ],
          "mesh3d": [
           {
            "colorbar": {
             "outlinewidth": 0,
             "ticks": ""
            },
            "type": "mesh3d"
           }
          ],
          "parcoords": [
           {
            "line": {
             "colorbar": {
              "outlinewidth": 0,
              "ticks": ""
             }
            },
            "type": "parcoords"
           }
          ],
          "pie": [
           {
            "automargin": true,
            "type": "pie"
           }
          ],
          "scatter": [
           {
            "marker": {
             "colorbar": {
              "outlinewidth": 0,
              "ticks": ""
             }
            },
            "type": "scatter"
           }
          ],
          "scatter3d": [
           {
            "line": {
             "colorbar": {
              "outlinewidth": 0,
              "ticks": ""
             }
            },
            "marker": {
             "colorbar": {
              "outlinewidth": 0,
              "ticks": ""
             }
            },
            "type": "scatter3d"
           }
          ],
          "scattercarpet": [
           {
            "marker": {
             "colorbar": {
              "outlinewidth": 0,
              "ticks": ""
             }
            },
            "type": "scattercarpet"
           }
          ],
          "scattergeo": [
           {
            "marker": {
             "colorbar": {
              "outlinewidth": 0,
              "ticks": ""
             }
            },
            "type": "scattergeo"
           }
          ],
          "scattergl": [
           {
            "marker": {
             "colorbar": {
              "outlinewidth": 0,
              "ticks": ""
             }
            },
            "type": "scattergl"
           }
          ],
          "scattermapbox": [
           {
            "marker": {
             "colorbar": {
              "outlinewidth": 0,
              "ticks": ""
             }
            },
            "type": "scattermapbox"
           }
          ],
          "scatterpolar": [
           {
            "marker": {
             "colorbar": {
              "outlinewidth": 0,
              "ticks": ""
             }
            },
            "type": "scatterpolar"
           }
          ],
          "scatterpolargl": [
           {
            "marker": {
             "colorbar": {
              "outlinewidth": 0,
              "ticks": ""
             }
            },
            "type": "scatterpolargl"
           }
          ],
          "scatterternary": [
           {
            "marker": {
             "colorbar": {
              "outlinewidth": 0,
              "ticks": ""
             }
            },
            "type": "scatterternary"
           }
          ],
          "surface": [
           {
            "colorbar": {
             "outlinewidth": 0,
             "ticks": ""
            },
            "colorscale": [
             [
              0,
              "#0d0887"
             ],
             [
              0.1111111111111111,
              "#46039f"
             ],
             [
              0.2222222222222222,
              "#7201a8"
             ],
             [
              0.3333333333333333,
              "#9c179e"
             ],
             [
              0.4444444444444444,
              "#bd3786"
             ],
             [
              0.5555555555555556,
              "#d8576b"
             ],
             [
              0.6666666666666666,
              "#ed7953"
             ],
             [
              0.7777777777777778,
              "#fb9f3a"
             ],
             [
              0.8888888888888888,
              "#fdca26"
             ],
             [
              1,
              "#f0f921"
             ]
            ],
            "type": "surface"
           }
          ],
          "table": [
           {
            "cells": {
             "fill": {
              "color": "#EBF0F8"
             },
             "line": {
              "color": "white"
             }
            },
            "header": {
             "fill": {
              "color": "#C8D4E3"
             },
             "line": {
              "color": "white"
             }
            },
            "type": "table"
           }
          ]
         },
         "layout": {
          "annotationdefaults": {
           "arrowcolor": "#2a3f5f",
           "arrowhead": 0,
           "arrowwidth": 1
          },
          "coloraxis": {
           "colorbar": {
            "outlinewidth": 0,
            "ticks": ""
           }
          },
          "colorscale": {
           "diverging": [
            [
             0,
             "#8e0152"
            ],
            [
             0.1,
             "#c51b7d"
            ],
            [
             0.2,
             "#de77ae"
            ],
            [
             0.3,
             "#f1b6da"
            ],
            [
             0.4,
             "#fde0ef"
            ],
            [
             0.5,
             "#f7f7f7"
            ],
            [
             0.6,
             "#e6f5d0"
            ],
            [
             0.7,
             "#b8e186"
            ],
            [
             0.8,
             "#7fbc41"
            ],
            [
             0.9,
             "#4d9221"
            ],
            [
             1,
             "#276419"
            ]
           ],
           "sequential": [
            [
             0,
             "#0d0887"
            ],
            [
             0.1111111111111111,
             "#46039f"
            ],
            [
             0.2222222222222222,
             "#7201a8"
            ],
            [
             0.3333333333333333,
             "#9c179e"
            ],
            [
             0.4444444444444444,
             "#bd3786"
            ],
            [
             0.5555555555555556,
             "#d8576b"
            ],
            [
             0.6666666666666666,
             "#ed7953"
            ],
            [
             0.7777777777777778,
             "#fb9f3a"
            ],
            [
             0.8888888888888888,
             "#fdca26"
            ],
            [
             1,
             "#f0f921"
            ]
           ],
           "sequentialminus": [
            [
             0,
             "#0d0887"
            ],
            [
             0.1111111111111111,
             "#46039f"
            ],
            [
             0.2222222222222222,
             "#7201a8"
            ],
            [
             0.3333333333333333,
             "#9c179e"
            ],
            [
             0.4444444444444444,
             "#bd3786"
            ],
            [
             0.5555555555555556,
             "#d8576b"
            ],
            [
             0.6666666666666666,
             "#ed7953"
            ],
            [
             0.7777777777777778,
             "#fb9f3a"
            ],
            [
             0.8888888888888888,
             "#fdca26"
            ],
            [
             1,
             "#f0f921"
            ]
           ]
          },
          "colorway": [
           "#636efa",
           "#EF553B",
           "#00cc96",
           "#ab63fa",
           "#FFA15A",
           "#19d3f3",
           "#FF6692",
           "#B6E880",
           "#FF97FF",
           "#FECB52"
          ],
          "font": {
           "color": "#2a3f5f"
          },
          "geo": {
           "bgcolor": "white",
           "lakecolor": "white",
           "landcolor": "#E5ECF6",
           "showlakes": true,
           "showland": true,
           "subunitcolor": "white"
          },
          "hoverlabel": {
           "align": "left"
          },
          "hovermode": "closest",
          "mapbox": {
           "style": "light"
          },
          "paper_bgcolor": "white",
          "plot_bgcolor": "#E5ECF6",
          "polar": {
           "angularaxis": {
            "gridcolor": "white",
            "linecolor": "white",
            "ticks": ""
           },
           "bgcolor": "#E5ECF6",
           "radialaxis": {
            "gridcolor": "white",
            "linecolor": "white",
            "ticks": ""
           }
          },
          "scene": {
           "xaxis": {
            "backgroundcolor": "#E5ECF6",
            "gridcolor": "white",
            "gridwidth": 2,
            "linecolor": "white",
            "showbackground": true,
            "ticks": "",
            "zerolinecolor": "white"
           },
           "yaxis": {
            "backgroundcolor": "#E5ECF6",
            "gridcolor": "white",
            "gridwidth": 2,
            "linecolor": "white",
            "showbackground": true,
            "ticks": "",
            "zerolinecolor": "white"
           },
           "zaxis": {
            "backgroundcolor": "#E5ECF6",
            "gridcolor": "white",
            "gridwidth": 2,
            "linecolor": "white",
            "showbackground": true,
            "ticks": "",
            "zerolinecolor": "white"
           }
          },
          "shapedefaults": {
           "line": {
            "color": "#2a3f5f"
           }
          },
          "ternary": {
           "aaxis": {
            "gridcolor": "white",
            "linecolor": "white",
            "ticks": ""
           },
           "baxis": {
            "gridcolor": "white",
            "linecolor": "white",
            "ticks": ""
           },
           "bgcolor": "#E5ECF6",
           "caxis": {
            "gridcolor": "white",
            "linecolor": "white",
            "ticks": ""
           }
          },
          "title": {
           "x": 0.05
          },
          "xaxis": {
           "automargin": true,
           "gridcolor": "white",
           "linecolor": "white",
           "ticks": "",
           "title": {
            "standoff": 15
           },
           "zerolinecolor": "white",
           "zerolinewidth": 2
          },
          "yaxis": {
           "automargin": true,
           "gridcolor": "white",
           "linecolor": "white",
           "ticks": "",
           "title": {
            "standoff": 15
           },
           "zerolinecolor": "white",
           "zerolinewidth": 2
          }
         }
        }
       }
      },
      "text/html": [
       "<div>                            <div id=\"2aaad2d3-64e8-40b7-b1ee-2fa01462bae1\" class=\"plotly-graph-div\" style=\"height:525px; width:100%;\"></div>            <script type=\"text/javascript\">                require([\"plotly\"], function(Plotly) {                    window.PLOTLYENV=window.PLOTLYENV || {};                                    if (document.getElementById(\"2aaad2d3-64e8-40b7-b1ee-2fa01462bae1\")) {                    Plotly.newPlot(                        \"2aaad2d3-64e8-40b7-b1ee-2fa01462bae1\",                        [{\"geo\": \"geo\", \"hovertemplate\": \"Latitude=%{lat}<br>Longitude=%{lon}<br>clusters=%{marker.color}<extra></extra>\", \"lat\": [40.09, 40.13, 40.65, 40.6, 40.59, 40.61, 40.57, 40.56, 40.64, 40.01, 40.01, 40.7, 40.03, 39.97, 40.14, 40.34, 40.34, 40.34, 40.35, 40.65, 40.66, 41.01, 41.01, 40.2, 40.0, 40.38, 40.35, 39.88, 39.96, 39.98, 40.02, 40.88, 40.24, 40.22, 40.24, 40.26, 40.2, 40.2, 40.2, 40.27, 39.94, 39.94, 40.08, 41.21, 41.49, 40.16, 40.09, 40.7, 40.69, 40.68, 40.05, 41.47, 40.27, 40.32, 40.31, 40.14, 40.14, 40.69, 40.72, 39.98, 40.14, 40.15, 40.28, 40.17, 42.07, 42.1, 42.06, 42.05, 42.13, 42.06, 40.03, 40.03, 40.05, 40.04, 40.03, 40.05, 40.45, 40.15, 40.11, 40.1, 39.84, 40.64, 40.62, 39.88, 39.86, 39.88, 40.3, 40.31, 41.14, 39.83, 39.77, 40.33, 40.25, 40.31, 40.28, 40.3, 40.25, 39.97, 39.97, 40.56, 41.23, 40.26, 40.27, 40.29, 40.22, 40.18, 40.09, 40.17, 40.61, 40.62, 40.32, 40.26, 40.1, 40.97, 40.28, 39.86, 40.09, 40.09, 40.08, 40.09, 40.09, 40.09, 40.09, 40.09, 40.51, 40.03, 40.03, 40.07, 40.07, 40.04, 40.08, 40.18, 40.18, 40.18, 40.18, 40.25, 40.29, 40.21, 40.56, 40.96, 40.98, 40.06, 40.13, 40.13, 41.14, 40.31, 40.05, 40.28, 40.27, 40.3, 40.25, 40.25, 40.25, 40.19, 39.92, 40.2, 40.68, 40.68, 40.43, 40.44, 40.24, 40.52, 41.36, 41.1, 41.24, 40.43, 40.36, 40.59, 40.21, 40.14, 40.23, 39.99, 40.13, 40.32, 40.22, 40.23, 40.24, 40.13, 40.04, 39.95, 39.95, 40.03, 39.92, 39.95, 40.04, 40.03, 40.0, 39.95, 39.95, 39.95, 40.01, 39.98, 40.0, 39.95, 39.95, 39.94, 39.94, 40.01, 40.1, 39.95, 39.96, 40.1, 40.08, 39.95, 39.95, 39.95, 39.95, 39.95, 40.05, 39.95, 40.07, 39.95, 39.95, 39.95, 39.95, 39.99, 39.95, 39.95, 40.0, 39.95, 39.96, 40.09, 39.95, 39.88, 39.95, 39.95, 40.5, 40.44, 40.44, 40.44, 40.44, 40.45, 40.43, 40.39, 40.42, 40.5, 40.53, 40.44, 40.46, 40.46, 40.46, 40.55, 40.45, 40.44, 40.4, 40.46, 40.45, 40.34, 40.54, 40.36, 40.46, 40.44, 40.55, 40.52, 40.5, 40.44, 40.44, 40.44, 40.44, 40.53, 40.54, 40.43, 40.44, 40.44, 40.43, 40.44, 40.44, 40.45, 40.44, 40.44, 40.45, 40.21, 40.1, 40.1, 40.11, 40.24, 40.45, 40.46, 40.31, 40.12, 40.21, 40.21, 41.06, 41.41, 41.41, 40.84, 40.8, 40.84, 40.54, 40.54, 40.06, 39.77, 41.06, 40.1, 40.03, 40.02, 40.08, 39.91, 39.91, 40.19, 40.8, 40.79, 40.79, 40.81, 40.26, 40.26, 40.98, 40.57, 40.4, 40.14, 40.57, 40.55, 39.91, 40.81, 39.96, 40.17, 40.52, 40.04, 40.21, 40.22, 40.19, 40.18, 40.06, 40.04, 40.04, 40.07, 39.95, 39.97, 40.0, 39.96, 39.82, 40.41, 40.41, 40.34, 39.9, 40.62, 40.62, 40.63, 40.63, 40.63, 41.24, 41.24, 41.24, 40.14, 40.14, 40.0, 40.0, 40.34, 40.2, 40.24, 39.94, 39.98, 39.96, 39.98, 39.94, 39.98, 39.91], \"legendgroup\": \"\", \"lon\": [-75.09, -75.12, -75.44, -75.47, -75.55, -75.54, -75.56, -75.49, -75.44, -75.29, -75.24, -80.3, -78.49, -78.52, -79.84, -80.05, -80.03, -80.06, -80.05, -75.3, -75.42, -76.45, -76.45, -76.02, -78.24, -80.1, -80.11, -75.4, -75.35, -75.35, -75.32, -79.95, -76.93, -76.93, -76.94, -80.17, -77.18, -77.16, -77.16, -75.24, -77.63, -77.63, -75.16, -79.38, -75.7, -75.48, -75.29, -80.11, -80.08, -80.11, -75.41, -75.64, -75.13, -75.13, -75.13, -75.17, -75.31, -75.27, -75.28, -75.44, -76.59, -75.83, -77.07, -76.16, -80.1, -80.13, -80.09, -80.09, -80.09, -80.1, -75.62, -75.63, -75.66, -75.63, -75.63, -75.66, -80.18, -75.0, -75.21, -75.21, -77.2, -79.94, -80.01, -75.53, -75.54, -75.54, -79.5, -79.58, -80.16, -76.99, -76.96, -76.86, -76.81, -76.81, -76.82, -76.85, -76.83, -75.3, -75.32, -75.34, -80.45, -76.68, -76.65, -76.65, -76.79, -75.13, -75.09, -75.07, -79.18, -79.16, -79.69, -75.09, -75.13, -75.64, -78.85, -75.68, -75.39, -75.39, -75.4, -75.36, -75.36, -75.39, -75.38, -75.37, -75.78, -76.2, -76.22, -76.34, -76.34, -76.34, -76.32, -74.88, -74.91, -74.88, -74.88, -75.29, -79.39, -76.57, -75.41, -76.89, -76.88, -75.65, -76.3, -76.31, -77.46, -76.8, -75.52, -80.08, -80.13, -80.1, -77.03, -77.01, -77.01, -76.98, -75.38, -76.76, -80.3, -80.3, -79.79, -79.77, -75.24, -80.22, -75.68, -75.33, -76.83, -79.7, -74.95, -79.75, -79.57, -77.56, -74.94, -75.39, -75.4, -79.69, -75.25, -75.24, -75.24, -75.45, -75.49, -75.21, -75.15, -75.21, -75.17, -75.19, -75.15, -75.23, -75.23, -75.16, -75.17, -75.17, -75.21, -75.15, -75.15, -75.17, -75.16, -75.16, -75.15, -75.21, -75.02, -75.2, -75.19, -75.01, -75.21, -75.17, -75.16, -75.2, -75.17, -75.17, -75.06, -75.19, -75.01, -75.19, -75.16, -75.16, -75.15, -75.09, -75.17, -75.16, -75.22, -75.16, -75.17, -74.96, -75.17, -75.25, -75.19, -75.17, -80.26, -79.96, -79.96, -79.92, -79.99, -80.01, -79.92, -80.07, -80.05, -80.26, -80.01, -80.0, -79.94, -79.94, -79.92, -80.05, -80.16, -80.15, -80.04, -79.93, -80.16, -80.06, -80.01, -80.05, -79.95, -79.95, -80.02, -79.85, -79.85, -80.0, -80.0, -79.77, -79.99, -80.01, -80.07, -79.81, -80.0, -79.99, -79.98, -79.96, -80.0, -79.93, -80.0, -80.0, -80.18, -77.28, -75.29, -75.29, -75.29, -75.57, -75.36, -75.37, -75.86, -75.14, -75.5, -75.5, -75.32, -75.67, -75.66, -76.83, -76.87, -76.84, -80.18, -80.19, -77.52, -76.67, -80.05, -79.2, -79.12, -79.08, -75.44, -75.35, -75.34, -75.23, -77.86, -77.84, -77.86, -77.91, -75.65, -75.65, -75.2, -79.8, -75.93, -74.96, -75.56, -75.6, -79.76, -77.86, -75.29, -75.04, -79.81, -75.35, -75.1, -75.14, -80.22, -80.23, -78.09, -75.38, -75.37, -75.43, -75.6, -75.58, -75.57, -75.61, -75.87, -79.92, -79.92, -76.0, -75.56, -80.05, -80.09, -80.06, -75.48, -75.48, -75.89, -75.86, -77.0, -75.12, -75.12, -75.27, -75.28, -75.98, -74.86, -74.84, -76.68, -76.73, -76.78, -76.77, -76.69, -76.68, -76.68], \"marker\": {\"color\": [0, 0, 0, 0, 0, 0, 0, 0, 0, 0, 0, 3, 1, 1, 3, 3, 3, 3, 3, 0, 0, 1, 1, 1, 1, 3, 3, 0, 0, 0, 0, 3, 1, 1, 1, 3, 1, 1, 1, 0, 1, 1, 0, 3, 0, 0, 0, 3, 3, 3, 0, 0, 0, 0, 0, 0, 0, 0, 0, 0, 1, 0, 1, 1, 2, 2, 2, 2, 2, 2, 0, 0, 0, 0, 0, 0, 3, 0, 0, 0, 1, 3, 3, 0, 0, 0, 3, 3, 3, 1, 1, 1, 1, 1, 1, 1, 1, 0, 0, 0, 3, 1, 1, 1, 1, 0, 0, 0, 3, 3, 3, 0, 0, 0, 3, 0, 0, 0, 0, 0, 0, 0, 0, 0, 1, 1, 1, 1, 1, 1, 1, 0, 0, 0, 0, 0, 3, 1, 0, 1, 1, 0, 1, 1, 1, 1, 0, 3, 3, 3, 1, 1, 1, 1, 0, 1, 3, 3, 3, 3, 0, 3, 0, 0, 1, 3, 0, 3, 3, 1, 0, 0, 0, 3, 0, 0, 0, 0, 0, 0, 0, 0, 0, 0, 0, 0, 0, 0, 0, 0, 0, 0, 0, 0, 0, 0, 0, 0, 0, 0, 0, 0, 0, 0, 0, 0, 0, 0, 0, 0, 0, 0, 0, 0, 0, 0, 0, 0, 0, 0, 0, 0, 0, 0, 0, 0, 3, 3, 3, 3, 3, 3, 3, 3, 3, 3, 3, 3, 3, 3, 3, 3, 3, 3, 3, 3, 3, 3, 3, 3, 3, 3, 3, 3, 3, 3, 3, 3, 3, 3, 3, 3, 3, 3, 3, 3, 3, 3, 3, 3, 3, 1, 0, 0, 0, 0, 0, 0, 1, 0, 0, 0, 0, 0, 0, 1, 1, 1, 3, 3, 1, 1, 3, 3, 3, 3, 0, 0, 0, 0, 1, 1, 1, 1, 0, 0, 0, 3, 1, 0, 0, 0, 3, 1, 0, 0, 3, 0, 0, 0, 3, 3, 1, 0, 0, 0, 0, 0, 0, 0, 0, 3, 3, 1, 0, 3, 3, 3, 0, 0, 0, 0, 1, 0, 0, 0, 0, 1, 0, 0, 1, 1, 1, 1, 1, 1, 1], \"coloraxis\": \"coloraxis\"}, \"name\": \"\", \"showlegend\": false, \"type\": \"scattergeo\"}],                        {\"coloraxis\": {\"colorbar\": {\"title\": {\"text\": \"clusters\"}}, \"colorscale\": [[0.0, \"#0d0887\"], [0.1111111111111111, \"#46039f\"], [0.2222222222222222, \"#7201a8\"], [0.3333333333333333, \"#9c179e\"], [0.4444444444444444, \"#bd3786\"], [0.5555555555555556, \"#d8576b\"], [0.6666666666666666, \"#ed7953\"], [0.7777777777777778, \"#fb9f3a\"], [0.8888888888888888, \"#fdca26\"], [1.0, \"#f0f921\"]]}, \"geo\": {\"center\": {\"lat\": 40.79, \"lon\": -77.84}, \"domain\": {\"x\": [0.0, 1.0], \"y\": [0.0, 1.0]}, \"projection\": {\"scale\": 8, \"type\": \"albers usa\"}, \"scope\": \"usa\"}, \"legend\": {\"tracegroupgap\": 0}, \"margin\": {\"t\": 60}, \"template\": {\"data\": {\"bar\": [{\"error_x\": {\"color\": \"#2a3f5f\"}, \"error_y\": {\"color\": \"#2a3f5f\"}, \"marker\": {\"line\": {\"color\": \"#E5ECF6\", \"width\": 0.5}}, \"type\": \"bar\"}], \"barpolar\": [{\"marker\": {\"line\": {\"color\": \"#E5ECF6\", \"width\": 0.5}}, \"type\": \"barpolar\"}], \"carpet\": [{\"aaxis\": {\"endlinecolor\": \"#2a3f5f\", \"gridcolor\": \"white\", \"linecolor\": \"white\", \"minorgridcolor\": \"white\", \"startlinecolor\": \"#2a3f5f\"}, \"baxis\": {\"endlinecolor\": \"#2a3f5f\", \"gridcolor\": \"white\", \"linecolor\": \"white\", \"minorgridcolor\": \"white\", \"startlinecolor\": \"#2a3f5f\"}, \"type\": \"carpet\"}], \"choropleth\": [{\"colorbar\": {\"outlinewidth\": 0, \"ticks\": \"\"}, \"type\": \"choropleth\"}], \"contour\": [{\"colorbar\": {\"outlinewidth\": 0, \"ticks\": \"\"}, \"colorscale\": [[0.0, \"#0d0887\"], [0.1111111111111111, \"#46039f\"], [0.2222222222222222, \"#7201a8\"], [0.3333333333333333, \"#9c179e\"], [0.4444444444444444, \"#bd3786\"], [0.5555555555555556, \"#d8576b\"], [0.6666666666666666, \"#ed7953\"], [0.7777777777777778, \"#fb9f3a\"], [0.8888888888888888, \"#fdca26\"], [1.0, \"#f0f921\"]], \"type\": \"contour\"}], \"contourcarpet\": [{\"colorbar\": {\"outlinewidth\": 0, \"ticks\": \"\"}, \"type\": \"contourcarpet\"}], \"heatmap\": [{\"colorbar\": {\"outlinewidth\": 0, \"ticks\": \"\"}, \"colorscale\": [[0.0, \"#0d0887\"], [0.1111111111111111, \"#46039f\"], [0.2222222222222222, \"#7201a8\"], [0.3333333333333333, \"#9c179e\"], [0.4444444444444444, \"#bd3786\"], [0.5555555555555556, \"#d8576b\"], [0.6666666666666666, \"#ed7953\"], [0.7777777777777778, \"#fb9f3a\"], [0.8888888888888888, \"#fdca26\"], [1.0, \"#f0f921\"]], \"type\": \"heatmap\"}], \"heatmapgl\": [{\"colorbar\": {\"outlinewidth\": 0, \"ticks\": \"\"}, \"colorscale\": [[0.0, \"#0d0887\"], [0.1111111111111111, \"#46039f\"], [0.2222222222222222, \"#7201a8\"], [0.3333333333333333, \"#9c179e\"], [0.4444444444444444, \"#bd3786\"], [0.5555555555555556, \"#d8576b\"], [0.6666666666666666, \"#ed7953\"], [0.7777777777777778, \"#fb9f3a\"], [0.8888888888888888, \"#fdca26\"], [1.0, \"#f0f921\"]], \"type\": \"heatmapgl\"}], \"histogram\": [{\"marker\": {\"colorbar\": {\"outlinewidth\": 0, \"ticks\": \"\"}}, \"type\": \"histogram\"}], \"histogram2d\": [{\"colorbar\": {\"outlinewidth\": 0, \"ticks\": \"\"}, \"colorscale\": [[0.0, \"#0d0887\"], [0.1111111111111111, \"#46039f\"], [0.2222222222222222, \"#7201a8\"], [0.3333333333333333, \"#9c179e\"], [0.4444444444444444, \"#bd3786\"], [0.5555555555555556, \"#d8576b\"], [0.6666666666666666, \"#ed7953\"], [0.7777777777777778, \"#fb9f3a\"], [0.8888888888888888, \"#fdca26\"], [1.0, \"#f0f921\"]], \"type\": \"histogram2d\"}], \"histogram2dcontour\": [{\"colorbar\": {\"outlinewidth\": 0, \"ticks\": \"\"}, \"colorscale\": [[0.0, \"#0d0887\"], [0.1111111111111111, \"#46039f\"], [0.2222222222222222, \"#7201a8\"], [0.3333333333333333, \"#9c179e\"], [0.4444444444444444, \"#bd3786\"], [0.5555555555555556, \"#d8576b\"], [0.6666666666666666, \"#ed7953\"], [0.7777777777777778, \"#fb9f3a\"], [0.8888888888888888, \"#fdca26\"], [1.0, \"#f0f921\"]], \"type\": \"histogram2dcontour\"}], \"mesh3d\": [{\"colorbar\": {\"outlinewidth\": 0, \"ticks\": \"\"}, \"type\": \"mesh3d\"}], \"parcoords\": [{\"line\": {\"colorbar\": {\"outlinewidth\": 0, \"ticks\": \"\"}}, \"type\": \"parcoords\"}], \"pie\": [{\"automargin\": true, \"type\": \"pie\"}], \"scatter\": [{\"marker\": {\"colorbar\": {\"outlinewidth\": 0, \"ticks\": \"\"}}, \"type\": \"scatter\"}], \"scatter3d\": [{\"line\": {\"colorbar\": {\"outlinewidth\": 0, \"ticks\": \"\"}}, \"marker\": {\"colorbar\": {\"outlinewidth\": 0, \"ticks\": \"\"}}, \"type\": \"scatter3d\"}], \"scattercarpet\": [{\"marker\": {\"colorbar\": {\"outlinewidth\": 0, \"ticks\": \"\"}}, \"type\": \"scattercarpet\"}], \"scattergeo\": [{\"marker\": {\"colorbar\": {\"outlinewidth\": 0, \"ticks\": \"\"}}, \"type\": \"scattergeo\"}], \"scattergl\": [{\"marker\": {\"colorbar\": {\"outlinewidth\": 0, \"ticks\": \"\"}}, \"type\": \"scattergl\"}], \"scattermapbox\": [{\"marker\": {\"colorbar\": {\"outlinewidth\": 0, \"ticks\": \"\"}}, \"type\": \"scattermapbox\"}], \"scatterpolar\": [{\"marker\": {\"colorbar\": {\"outlinewidth\": 0, \"ticks\": \"\"}}, \"type\": \"scatterpolar\"}], \"scatterpolargl\": [{\"marker\": {\"colorbar\": {\"outlinewidth\": 0, \"ticks\": \"\"}}, \"type\": \"scatterpolargl\"}], \"scatterternary\": [{\"marker\": {\"colorbar\": {\"outlinewidth\": 0, \"ticks\": \"\"}}, \"type\": \"scatterternary\"}], \"surface\": [{\"colorbar\": {\"outlinewidth\": 0, \"ticks\": \"\"}, \"colorscale\": [[0.0, \"#0d0887\"], [0.1111111111111111, \"#46039f\"], [0.2222222222222222, \"#7201a8\"], [0.3333333333333333, \"#9c179e\"], [0.4444444444444444, \"#bd3786\"], [0.5555555555555556, \"#d8576b\"], [0.6666666666666666, \"#ed7953\"], [0.7777777777777778, \"#fb9f3a\"], [0.8888888888888888, \"#fdca26\"], [1.0, \"#f0f921\"]], \"type\": \"surface\"}], \"table\": [{\"cells\": {\"fill\": {\"color\": \"#EBF0F8\"}, \"line\": {\"color\": \"white\"}}, \"header\": {\"fill\": {\"color\": \"#C8D4E3\"}, \"line\": {\"color\": \"white\"}}, \"type\": \"table\"}]}, \"layout\": {\"annotationdefaults\": {\"arrowcolor\": \"#2a3f5f\", \"arrowhead\": 0, \"arrowwidth\": 1}, \"coloraxis\": {\"colorbar\": {\"outlinewidth\": 0, \"ticks\": \"\"}}, \"colorscale\": {\"diverging\": [[0, \"#8e0152\"], [0.1, \"#c51b7d\"], [0.2, \"#de77ae\"], [0.3, \"#f1b6da\"], [0.4, \"#fde0ef\"], [0.5, \"#f7f7f7\"], [0.6, \"#e6f5d0\"], [0.7, \"#b8e186\"], [0.8, \"#7fbc41\"], [0.9, \"#4d9221\"], [1, \"#276419\"]], \"sequential\": [[0.0, \"#0d0887\"], [0.1111111111111111, \"#46039f\"], [0.2222222222222222, \"#7201a8\"], [0.3333333333333333, \"#9c179e\"], [0.4444444444444444, \"#bd3786\"], [0.5555555555555556, \"#d8576b\"], [0.6666666666666666, \"#ed7953\"], [0.7777777777777778, \"#fb9f3a\"], [0.8888888888888888, \"#fdca26\"], [1.0, \"#f0f921\"]], \"sequentialminus\": [[0.0, \"#0d0887\"], [0.1111111111111111, \"#46039f\"], [0.2222222222222222, \"#7201a8\"], [0.3333333333333333, \"#9c179e\"], [0.4444444444444444, \"#bd3786\"], [0.5555555555555556, \"#d8576b\"], [0.6666666666666666, \"#ed7953\"], [0.7777777777777778, \"#fb9f3a\"], [0.8888888888888888, \"#fdca26\"], [1.0, \"#f0f921\"]]}, \"colorway\": [\"#636efa\", \"#EF553B\", \"#00cc96\", \"#ab63fa\", \"#FFA15A\", \"#19d3f3\", \"#FF6692\", \"#B6E880\", \"#FF97FF\", \"#FECB52\"], \"font\": {\"color\": \"#2a3f5f\"}, \"geo\": {\"bgcolor\": \"white\", \"lakecolor\": \"white\", \"landcolor\": \"#E5ECF6\", \"showlakes\": true, \"showland\": true, \"subunitcolor\": \"white\"}, \"hoverlabel\": {\"align\": \"left\"}, \"hovermode\": \"closest\", \"mapbox\": {\"style\": \"light\"}, \"paper_bgcolor\": \"white\", \"plot_bgcolor\": \"#E5ECF6\", \"polar\": {\"angularaxis\": {\"gridcolor\": \"white\", \"linecolor\": \"white\", \"ticks\": \"\"}, \"bgcolor\": \"#E5ECF6\", \"radialaxis\": {\"gridcolor\": \"white\", \"linecolor\": \"white\", \"ticks\": \"\"}}, \"scene\": {\"xaxis\": {\"backgroundcolor\": \"#E5ECF6\", \"gridcolor\": \"white\", \"gridwidth\": 2, \"linecolor\": \"white\", \"showbackground\": true, \"ticks\": \"\", \"zerolinecolor\": \"white\"}, \"yaxis\": {\"backgroundcolor\": \"#E5ECF6\", \"gridcolor\": \"white\", \"gridwidth\": 2, \"linecolor\": \"white\", \"showbackground\": true, \"ticks\": \"\", \"zerolinecolor\": \"white\"}, \"zaxis\": {\"backgroundcolor\": \"#E5ECF6\", \"gridcolor\": \"white\", \"gridwidth\": 2, \"linecolor\": \"white\", \"showbackground\": true, \"ticks\": \"\", \"zerolinecolor\": \"white\"}}, \"shapedefaults\": {\"line\": {\"color\": \"#2a3f5f\"}}, \"ternary\": {\"aaxis\": {\"gridcolor\": \"white\", \"linecolor\": \"white\", \"ticks\": \"\"}, \"baxis\": {\"gridcolor\": \"white\", \"linecolor\": \"white\", \"ticks\": \"\"}, \"bgcolor\": \"#E5ECF6\", \"caxis\": {\"gridcolor\": \"white\", \"linecolor\": \"white\", \"ticks\": \"\"}}, \"title\": {\"x\": 0.05}, \"xaxis\": {\"automargin\": true, \"gridcolor\": \"white\", \"linecolor\": \"white\", \"ticks\": \"\", \"title\": {\"standoff\": 15}, \"zerolinecolor\": \"white\", \"zerolinewidth\": 2}, \"yaxis\": {\"automargin\": true, \"gridcolor\": \"white\", \"linecolor\": \"white\", \"ticks\": \"\", \"title\": {\"standoff\": 15}, \"zerolinecolor\": \"white\", \"zerolinewidth\": 2}}}},                        {\"responsive\": true}                    ).then(function(){\n",
       "                            \n",
       "var gd = document.getElementById('2aaad2d3-64e8-40b7-b1ee-2fa01462bae1');\n",
       "var x = new MutationObserver(function (mutations, observer) {{\n",
       "        var display = window.getComputedStyle(gd).display;\n",
       "        if (!display || display === 'none') {{\n",
       "            console.log([gd, 'removed!']);\n",
       "            Plotly.purge(gd);\n",
       "            observer.disconnect();\n",
       "        }}\n",
       "}});\n",
       "\n",
       "// Listen for the removal of the full notebook cells\n",
       "var notebookContainer = gd.closest('#notebook-container');\n",
       "if (notebookContainer) {{\n",
       "    x.observe(notebookContainer, {childList: true});\n",
       "}}\n",
       "\n",
       "// Listen for the clearing of the current output cell\n",
       "var outputEl = gd.closest('.output');\n",
       "if (outputEl) {{\n",
       "    x.observe(outputEl, {childList: true});\n",
       "}}\n",
       "\n",
       "                        })                };                });            </script>        </div>"
      ]
     },
     "metadata": {},
     "output_type": "display_data"
    },
    {
     "data": {
      "application/javascript": [
       "\n",
       "            setTimeout(function() {\n",
       "                var nbb_cell_id = 15;\n",
       "                var nbb_unformatted_code = \"starbucks_pa_df = state_cluster(\\\"PA\\\", starbucks_df, n_clusters=4, dendrogram=False)\\n\\nfig = px.scatter_geo(\\n    data_frame=starbucks_pa_df,\\n    scope=\\\"usa\\\",\\n    color=\\\"clusters\\\",\\n    lat=\\\"Latitude\\\",\\n    lon=\\\"Longitude\\\",\\n    projection=\\\"albers usa\\\",\\n)\\n\\nlat_center = 40.79\\nlon_center = -77.84\\nfig.update_layout(\\n    geo={\\\"projection_scale\\\": 8, \\\"center\\\": {\\\"lat\\\": lat_center, \\\"lon\\\": lon_center}}\\n)\";\n",
       "                var nbb_formatted_code = \"starbucks_pa_df = state_cluster(\\\"PA\\\", starbucks_df, n_clusters=4, dendrogram=False)\\n\\nfig = px.scatter_geo(\\n    data_frame=starbucks_pa_df,\\n    scope=\\\"usa\\\",\\n    color=\\\"clusters\\\",\\n    lat=\\\"Latitude\\\",\\n    lon=\\\"Longitude\\\",\\n    projection=\\\"albers usa\\\",\\n)\\n\\nlat_center = 40.79\\nlon_center = -77.84\\nfig.update_layout(\\n    geo={\\\"projection_scale\\\": 8, \\\"center\\\": {\\\"lat\\\": lat_center, \\\"lon\\\": lon_center}}\\n)\";\n",
       "                var nbb_cells = Jupyter.notebook.get_cells();\n",
       "                for (var i = 0; i < nbb_cells.length; ++i) {\n",
       "                    if (nbb_cells[i].input_prompt_number == nbb_cell_id) {\n",
       "                        if (nbb_cells[i].get_text() == nbb_unformatted_code) {\n",
       "                             nbb_cells[i].set_text(nbb_formatted_code);\n",
       "                        }\n",
       "                        break;\n",
       "                    }\n",
       "                }\n",
       "            }, 500);\n",
       "            "
      ],
      "text/plain": [
       "<IPython.core.display.Javascript object>"
      ]
     },
     "metadata": {},
     "output_type": "display_data"
    }
   ],
   "source": [
    "starbucks_pa_df = state_cluster(\"PA\", starbucks_df, n_clusters=4, dendrogram=False)\n",
    "\n",
    "fig = px.scatter_geo(\n",
    "    data_frame=starbucks_pa_df,\n",
    "    scope=\"usa\",\n",
    "    color=\"clusters\",\n",
    "    lat=\"Latitude\",\n",
    "    lon=\"Longitude\",\n",
    "    projection=\"albers usa\",\n",
    ")\n",
    "\n",
    "lat_center = 40.79\n",
    "lon_center = -77.84\n",
    "fig.update_layout(\n",
    "    geo={\"projection_scale\": 8, \"center\": {\"lat\": lat_center, \"lon\": lon_center}}\n",
    ")"
   ]
  },
  {
   "cell_type": "code",
   "execution_count": 16,
   "metadata": {},
   "outputs": [
    {
     "data": {
      "application/vnd.plotly.v1+json": {
       "config": {
        "plotlyServerURL": "https://plot.ly"
       },
       "data": [
        {
         "geo": "geo",
         "hovertemplate": "Latitude=%{lat}<br>Longitude=%{lon}<br>clusters=%{marker.color}<extra></extra>",
         "lat": [
          40.09,
          40.13,
          40.65,
          40.6,
          40.59,
          40.61,
          40.57,
          40.56,
          40.64,
          40.01,
          40.01,
          40.7,
          40.03,
          39.97,
          40.14,
          40.34,
          40.34,
          40.34,
          40.35,
          40.65,
          40.66,
          41.01,
          41.01,
          40.2,
          40,
          40.38,
          40.35,
          39.88,
          39.96,
          39.98,
          40.02,
          40.88,
          40.24,
          40.22,
          40.24,
          40.26,
          40.2,
          40.2,
          40.2,
          40.27,
          39.94,
          39.94,
          40.08,
          41.21,
          41.49,
          40.16,
          40.09,
          40.7,
          40.69,
          40.68,
          40.05,
          41.47,
          40.27,
          40.32,
          40.31,
          40.14,
          40.14,
          40.69,
          40.72,
          39.98,
          40.14,
          40.15,
          40.28,
          40.17,
          42.07,
          42.1,
          42.06,
          42.05,
          42.13,
          42.06,
          40.03,
          40.03,
          40.05,
          40.04,
          40.03,
          40.05,
          40.45,
          40.15,
          40.11,
          40.1,
          39.84,
          40.64,
          40.62,
          39.88,
          39.86,
          39.88,
          40.3,
          40.31,
          41.14,
          39.83,
          39.77,
          40.33,
          40.25,
          40.31,
          40.28,
          40.3,
          40.25,
          39.97,
          39.97,
          40.56,
          41.23,
          40.26,
          40.27,
          40.29,
          40.22,
          40.18,
          40.09,
          40.17,
          40.61,
          40.62,
          40.32,
          40.26,
          40.1,
          40.97,
          40.28,
          39.86,
          40.09,
          40.09,
          40.08,
          40.09,
          40.09,
          40.09,
          40.09,
          40.09,
          40.51,
          40.03,
          40.03,
          40.07,
          40.07,
          40.04,
          40.08,
          40.18,
          40.18,
          40.18,
          40.18,
          40.25,
          40.29,
          40.21,
          40.56,
          40.96,
          40.98,
          40.06,
          40.13,
          40.13,
          41.14,
          40.31,
          40.05,
          40.28,
          40.27,
          40.3,
          40.25,
          40.25,
          40.25,
          40.19,
          39.92,
          40.2,
          40.68,
          40.68,
          40.43,
          40.44,
          40.24,
          40.52,
          41.36,
          41.1,
          41.24,
          40.43,
          40.36,
          40.59,
          40.21,
          40.14,
          40.23,
          39.99,
          40.13,
          40.32,
          40.22,
          40.23,
          40.24,
          40.13,
          40.04,
          39.95,
          39.95,
          40.03,
          39.92,
          39.95,
          40.04,
          40.03,
          40,
          39.95,
          39.95,
          39.95,
          40.01,
          39.98,
          40,
          39.95,
          39.95,
          39.94,
          39.94,
          40.01,
          40.1,
          39.95,
          39.96,
          40.1,
          40.08,
          39.95,
          39.95,
          39.95,
          39.95,
          39.95,
          40.05,
          39.95,
          40.07,
          39.95,
          39.95,
          39.95,
          39.95,
          39.99,
          39.95,
          39.95,
          40,
          39.95,
          39.96,
          40.09,
          39.95,
          39.88,
          39.95,
          39.95,
          40.5,
          40.44,
          40.44,
          40.44,
          40.44,
          40.45,
          40.43,
          40.39,
          40.42,
          40.5,
          40.53,
          40.44,
          40.46,
          40.46,
          40.46,
          40.55,
          40.45,
          40.44,
          40.4,
          40.46,
          40.45,
          40.34,
          40.54,
          40.36,
          40.46,
          40.44,
          40.55,
          40.52,
          40.5,
          40.44,
          40.44,
          40.44,
          40.44,
          40.53,
          40.54,
          40.43,
          40.44,
          40.44,
          40.43,
          40.44,
          40.44,
          40.45,
          40.44,
          40.44,
          40.45,
          40.21,
          40.1,
          40.1,
          40.11,
          40.24,
          40.45,
          40.46,
          40.31,
          40.12,
          40.21,
          40.21,
          41.06,
          41.41,
          41.41,
          40.84,
          40.8,
          40.84,
          40.54,
          40.54,
          40.06,
          39.77,
          41.06,
          40.1,
          40.03,
          40.02,
          40.08,
          39.91,
          39.91,
          40.19,
          40.8,
          40.79,
          40.79,
          40.81,
          40.26,
          40.26,
          40.98,
          40.57,
          40.4,
          40.14,
          40.57,
          40.55,
          39.91,
          40.81,
          39.96,
          40.17,
          40.52,
          40.04,
          40.21,
          40.22,
          40.19,
          40.18,
          40.06,
          40.04,
          40.04,
          40.07,
          39.95,
          39.97,
          40,
          39.96,
          39.82,
          40.41,
          40.41,
          40.34,
          39.9,
          40.62,
          40.62,
          40.63,
          40.63,
          40.63,
          41.24,
          41.24,
          41.24,
          40.14,
          40.14,
          40,
          40,
          40.34,
          40.2,
          40.24,
          39.94,
          39.98,
          39.96,
          39.98,
          39.94,
          39.98,
          39.91
         ],
         "legendgroup": "",
         "lon": [
          -75.09,
          -75.12,
          -75.44,
          -75.47,
          -75.55,
          -75.54,
          -75.56,
          -75.49,
          -75.44,
          -75.29,
          -75.24,
          -80.3,
          -78.49,
          -78.52,
          -79.84,
          -80.05,
          -80.03,
          -80.06,
          -80.05,
          -75.3,
          -75.42,
          -76.45,
          -76.45,
          -76.02,
          -78.24,
          -80.1,
          -80.11,
          -75.4,
          -75.35,
          -75.35,
          -75.32,
          -79.95,
          -76.93,
          -76.93,
          -76.94,
          -80.17,
          -77.18,
          -77.16,
          -77.16,
          -75.24,
          -77.63,
          -77.63,
          -75.16,
          -79.38,
          -75.7,
          -75.48,
          -75.29,
          -80.11,
          -80.08,
          -80.11,
          -75.41,
          -75.64,
          -75.13,
          -75.13,
          -75.13,
          -75.17,
          -75.31,
          -75.27,
          -75.28,
          -75.44,
          -76.59,
          -75.83,
          -77.07,
          -76.16,
          -80.1,
          -80.13,
          -80.09,
          -80.09,
          -80.09,
          -80.1,
          -75.62,
          -75.63,
          -75.66,
          -75.63,
          -75.63,
          -75.66,
          -80.18,
          -75,
          -75.21,
          -75.21,
          -77.2,
          -79.94,
          -80.01,
          -75.53,
          -75.54,
          -75.54,
          -79.5,
          -79.58,
          -80.16,
          -76.99,
          -76.96,
          -76.86,
          -76.81,
          -76.81,
          -76.82,
          -76.85,
          -76.83,
          -75.3,
          -75.32,
          -75.34,
          -80.45,
          -76.68,
          -76.65,
          -76.65,
          -76.79,
          -75.13,
          -75.09,
          -75.07,
          -79.18,
          -79.16,
          -79.69,
          -75.09,
          -75.13,
          -75.64,
          -78.85,
          -75.68,
          -75.39,
          -75.39,
          -75.4,
          -75.36,
          -75.36,
          -75.39,
          -75.38,
          -75.37,
          -75.78,
          -76.2,
          -76.22,
          -76.34,
          -76.34,
          -76.34,
          -76.32,
          -74.88,
          -74.91,
          -74.88,
          -74.88,
          -75.29,
          -79.39,
          -76.57,
          -75.41,
          -76.89,
          -76.88,
          -75.65,
          -76.3,
          -76.31,
          -77.46,
          -76.8,
          -75.52,
          -80.08,
          -80.13,
          -80.1,
          -77.03,
          -77.01,
          -77.01,
          -76.98,
          -75.38,
          -76.76,
          -80.3,
          -80.3,
          -79.79,
          -79.77,
          -75.24,
          -80.22,
          -75.68,
          -75.33,
          -76.83,
          -79.7,
          -74.95,
          -79.75,
          -79.57,
          -77.56,
          -74.94,
          -75.39,
          -75.4,
          -79.69,
          -75.25,
          -75.24,
          -75.24,
          -75.45,
          -75.49,
          -75.21,
          -75.15,
          -75.21,
          -75.17,
          -75.19,
          -75.15,
          -75.23,
          -75.23,
          -75.16,
          -75.17,
          -75.17,
          -75.21,
          -75.15,
          -75.15,
          -75.17,
          -75.16,
          -75.16,
          -75.15,
          -75.21,
          -75.02,
          -75.2,
          -75.19,
          -75.01,
          -75.21,
          -75.17,
          -75.16,
          -75.2,
          -75.17,
          -75.17,
          -75.06,
          -75.19,
          -75.01,
          -75.19,
          -75.16,
          -75.16,
          -75.15,
          -75.09,
          -75.17,
          -75.16,
          -75.22,
          -75.16,
          -75.17,
          -74.96,
          -75.17,
          -75.25,
          -75.19,
          -75.17,
          -80.26,
          -79.96,
          -79.96,
          -79.92,
          -79.99,
          -80.01,
          -79.92,
          -80.07,
          -80.05,
          -80.26,
          -80.01,
          -80,
          -79.94,
          -79.94,
          -79.92,
          -80.05,
          -80.16,
          -80.15,
          -80.04,
          -79.93,
          -80.16,
          -80.06,
          -80.01,
          -80.05,
          -79.95,
          -79.95,
          -80.02,
          -79.85,
          -79.85,
          -80,
          -80,
          -79.77,
          -79.99,
          -80.01,
          -80.07,
          -79.81,
          -80,
          -79.99,
          -79.98,
          -79.96,
          -80,
          -79.93,
          -80,
          -80,
          -80.18,
          -77.28,
          -75.29,
          -75.29,
          -75.29,
          -75.57,
          -75.36,
          -75.37,
          -75.86,
          -75.14,
          -75.5,
          -75.5,
          -75.32,
          -75.67,
          -75.66,
          -76.83,
          -76.87,
          -76.84,
          -80.18,
          -80.19,
          -77.52,
          -76.67,
          -80.05,
          -79.2,
          -79.12,
          -79.08,
          -75.44,
          -75.35,
          -75.34,
          -75.23,
          -77.86,
          -77.84,
          -77.86,
          -77.91,
          -75.65,
          -75.65,
          -75.2,
          -79.8,
          -75.93,
          -74.96,
          -75.56,
          -75.6,
          -79.76,
          -77.86,
          -75.29,
          -75.04,
          -79.81,
          -75.35,
          -75.1,
          -75.14,
          -80.22,
          -80.23,
          -78.09,
          -75.38,
          -75.37,
          -75.43,
          -75.6,
          -75.58,
          -75.57,
          -75.61,
          -75.87,
          -79.92,
          -79.92,
          -76,
          -75.56,
          -80.05,
          -80.09,
          -80.06,
          -75.48,
          -75.48,
          -75.89,
          -75.86,
          -77,
          -75.12,
          -75.12,
          -75.27,
          -75.28,
          -75.98,
          -74.86,
          -74.84,
          -76.68,
          -76.73,
          -76.78,
          -76.77,
          -76.69,
          -76.68,
          -76.68
         ],
         "marker": {
          "color": [
           3,
           3,
           3,
           3,
           3,
           3,
           3,
           3,
           3,
           3,
           3,
           1,
           2,
           2,
           1,
           1,
           1,
           1,
           1,
           3,
           3,
           0,
           0,
           0,
           2,
           1,
           1,
           3,
           3,
           3,
           3,
           1,
           0,
           0,
           0,
           1,
           0,
           0,
           0,
           3,
           2,
           2,
           3,
           1,
           4,
           3,
           3,
           1,
           1,
           1,
           3,
           4,
           3,
           3,
           3,
           3,
           3,
           3,
           3,
           3,
           0,
           3,
           0,
           0,
           5,
           5,
           5,
           5,
           5,
           5,
           3,
           3,
           3,
           3,
           3,
           3,
           1,
           3,
           3,
           3,
           0,
           1,
           1,
           3,
           3,
           3,
           1,
           1,
           1,
           0,
           0,
           0,
           0,
           0,
           0,
           0,
           0,
           3,
           3,
           3,
           1,
           0,
           0,
           0,
           0,
           3,
           3,
           3,
           1,
           1,
           1,
           3,
           3,
           3,
           1,
           3,
           3,
           3,
           3,
           3,
           3,
           3,
           3,
           3,
           0,
           0,
           0,
           0,
           0,
           0,
           0,
           3,
           3,
           3,
           3,
           3,
           1,
           0,
           3,
           0,
           0,
           3,
           0,
           0,
           0,
           0,
           3,
           1,
           1,
           1,
           0,
           0,
           0,
           0,
           3,
           0,
           1,
           1,
           1,
           1,
           3,
           1,
           4,
           3,
           0,
           1,
           3,
           1,
           1,
           2,
           3,
           3,
           3,
           1,
           3,
           3,
           3,
           3,
           3,
           3,
           3,
           3,
           3,
           3,
           3,
           3,
           3,
           3,
           3,
           3,
           3,
           3,
           3,
           3,
           3,
           3,
           3,
           3,
           3,
           3,
           3,
           3,
           3,
           3,
           3,
           3,
           3,
           3,
           3,
           3,
           3,
           3,
           3,
           3,
           3,
           3,
           3,
           3,
           3,
           3,
           3,
           3,
           3,
           3,
           3,
           3,
           1,
           1,
           1,
           1,
           1,
           1,
           1,
           1,
           1,
           1,
           1,
           1,
           1,
           1,
           1,
           1,
           1,
           1,
           1,
           1,
           1,
           1,
           1,
           1,
           1,
           1,
           1,
           1,
           1,
           1,
           1,
           1,
           1,
           1,
           1,
           1,
           1,
           1,
           1,
           1,
           1,
           1,
           1,
           1,
           1,
           0,
           3,
           3,
           3,
           3,
           3,
           3,
           0,
           3,
           3,
           3,
           3,
           4,
           4,
           0,
           0,
           0,
           1,
           1,
           2,
           0,
           1,
           1,
           1,
           1,
           3,
           3,
           3,
           3,
           0,
           0,
           0,
           0,
           3,
           3,
           3,
           1,
           0,
           3,
           3,
           3,
           1,
           0,
           3,
           3,
           1,
           3,
           3,
           3,
           1,
           1,
           2,
           3,
           3,
           3,
           3,
           3,
           3,
           3,
           3,
           1,
           1,
           0,
           3,
           1,
           1,
           1,
           3,
           3,
           4,
           4,
           0,
           3,
           3,
           3,
           3,
           0,
           3,
           3,
           0,
           0,
           0,
           0,
           0,
           0,
           0
          ],
          "coloraxis": "coloraxis"
         },
         "name": "",
         "showlegend": false,
         "type": "scattergeo"
        }
       ],
       "layout": {
        "coloraxis": {
         "colorbar": {
          "title": {
           "text": "clusters"
          }
         },
         "colorscale": [
          [
           0,
           "#0d0887"
          ],
          [
           0.1111111111111111,
           "#46039f"
          ],
          [
           0.2222222222222222,
           "#7201a8"
          ],
          [
           0.3333333333333333,
           "#9c179e"
          ],
          [
           0.4444444444444444,
           "#bd3786"
          ],
          [
           0.5555555555555556,
           "#d8576b"
          ],
          [
           0.6666666666666666,
           "#ed7953"
          ],
          [
           0.7777777777777778,
           "#fb9f3a"
          ],
          [
           0.8888888888888888,
           "#fdca26"
          ],
          [
           1,
           "#f0f921"
          ]
         ]
        },
        "geo": {
         "center": {
          "lat": 40.79,
          "lon": -77.84
         },
         "domain": {
          "x": [
           0,
           1
          ],
          "y": [
           0,
           1
          ]
         },
         "projection": {
          "scale": 8,
          "type": "albers usa"
         },
         "scope": "usa"
        },
        "legend": {
         "tracegroupgap": 0
        },
        "margin": {
         "t": 60
        },
        "template": {
         "data": {
          "bar": [
           {
            "error_x": {
             "color": "#2a3f5f"
            },
            "error_y": {
             "color": "#2a3f5f"
            },
            "marker": {
             "line": {
              "color": "#E5ECF6",
              "width": 0.5
             }
            },
            "type": "bar"
           }
          ],
          "barpolar": [
           {
            "marker": {
             "line": {
              "color": "#E5ECF6",
              "width": 0.5
             }
            },
            "type": "barpolar"
           }
          ],
          "carpet": [
           {
            "aaxis": {
             "endlinecolor": "#2a3f5f",
             "gridcolor": "white",
             "linecolor": "white",
             "minorgridcolor": "white",
             "startlinecolor": "#2a3f5f"
            },
            "baxis": {
             "endlinecolor": "#2a3f5f",
             "gridcolor": "white",
             "linecolor": "white",
             "minorgridcolor": "white",
             "startlinecolor": "#2a3f5f"
            },
            "type": "carpet"
           }
          ],
          "choropleth": [
           {
            "colorbar": {
             "outlinewidth": 0,
             "ticks": ""
            },
            "type": "choropleth"
           }
          ],
          "contour": [
           {
            "colorbar": {
             "outlinewidth": 0,
             "ticks": ""
            },
            "colorscale": [
             [
              0,
              "#0d0887"
             ],
             [
              0.1111111111111111,
              "#46039f"
             ],
             [
              0.2222222222222222,
              "#7201a8"
             ],
             [
              0.3333333333333333,
              "#9c179e"
             ],
             [
              0.4444444444444444,
              "#bd3786"
             ],
             [
              0.5555555555555556,
              "#d8576b"
             ],
             [
              0.6666666666666666,
              "#ed7953"
             ],
             [
              0.7777777777777778,
              "#fb9f3a"
             ],
             [
              0.8888888888888888,
              "#fdca26"
             ],
             [
              1,
              "#f0f921"
             ]
            ],
            "type": "contour"
           }
          ],
          "contourcarpet": [
           {
            "colorbar": {
             "outlinewidth": 0,
             "ticks": ""
            },
            "type": "contourcarpet"
           }
          ],
          "heatmap": [
           {
            "colorbar": {
             "outlinewidth": 0,
             "ticks": ""
            },
            "colorscale": [
             [
              0,
              "#0d0887"
             ],
             [
              0.1111111111111111,
              "#46039f"
             ],
             [
              0.2222222222222222,
              "#7201a8"
             ],
             [
              0.3333333333333333,
              "#9c179e"
             ],
             [
              0.4444444444444444,
              "#bd3786"
             ],
             [
              0.5555555555555556,
              "#d8576b"
             ],
             [
              0.6666666666666666,
              "#ed7953"
             ],
             [
              0.7777777777777778,
              "#fb9f3a"
             ],
             [
              0.8888888888888888,
              "#fdca26"
             ],
             [
              1,
              "#f0f921"
             ]
            ],
            "type": "heatmap"
           }
          ],
          "heatmapgl": [
           {
            "colorbar": {
             "outlinewidth": 0,
             "ticks": ""
            },
            "colorscale": [
             [
              0,
              "#0d0887"
             ],
             [
              0.1111111111111111,
              "#46039f"
             ],
             [
              0.2222222222222222,
              "#7201a8"
             ],
             [
              0.3333333333333333,
              "#9c179e"
             ],
             [
              0.4444444444444444,
              "#bd3786"
             ],
             [
              0.5555555555555556,
              "#d8576b"
             ],
             [
              0.6666666666666666,
              "#ed7953"
             ],
             [
              0.7777777777777778,
              "#fb9f3a"
             ],
             [
              0.8888888888888888,
              "#fdca26"
             ],
             [
              1,
              "#f0f921"
             ]
            ],
            "type": "heatmapgl"
           }
          ],
          "histogram": [
           {
            "marker": {
             "colorbar": {
              "outlinewidth": 0,
              "ticks": ""
             }
            },
            "type": "histogram"
           }
          ],
          "histogram2d": [
           {
            "colorbar": {
             "outlinewidth": 0,
             "ticks": ""
            },
            "colorscale": [
             [
              0,
              "#0d0887"
             ],
             [
              0.1111111111111111,
              "#46039f"
             ],
             [
              0.2222222222222222,
              "#7201a8"
             ],
             [
              0.3333333333333333,
              "#9c179e"
             ],
             [
              0.4444444444444444,
              "#bd3786"
             ],
             [
              0.5555555555555556,
              "#d8576b"
             ],
             [
              0.6666666666666666,
              "#ed7953"
             ],
             [
              0.7777777777777778,
              "#fb9f3a"
             ],
             [
              0.8888888888888888,
              "#fdca26"
             ],
             [
              1,
              "#f0f921"
             ]
            ],
            "type": "histogram2d"
           }
          ],
          "histogram2dcontour": [
           {
            "colorbar": {
             "outlinewidth": 0,
             "ticks": ""
            },
            "colorscale": [
             [
              0,
              "#0d0887"
             ],
             [
              0.1111111111111111,
              "#46039f"
             ],
             [
              0.2222222222222222,
              "#7201a8"
             ],
             [
              0.3333333333333333,
              "#9c179e"
             ],
             [
              0.4444444444444444,
              "#bd3786"
             ],
             [
              0.5555555555555556,
              "#d8576b"
             ],
             [
              0.6666666666666666,
              "#ed7953"
             ],
             [
              0.7777777777777778,
              "#fb9f3a"
             ],
             [
              0.8888888888888888,
              "#fdca26"
             ],
             [
              1,
              "#f0f921"
             ]
            ],
            "type": "histogram2dcontour"
           }
          ],
          "mesh3d": [
           {
            "colorbar": {
             "outlinewidth": 0,
             "ticks": ""
            },
            "type": "mesh3d"
           }
          ],
          "parcoords": [
           {
            "line": {
             "colorbar": {
              "outlinewidth": 0,
              "ticks": ""
             }
            },
            "type": "parcoords"
           }
          ],
          "pie": [
           {
            "automargin": true,
            "type": "pie"
           }
          ],
          "scatter": [
           {
            "marker": {
             "colorbar": {
              "outlinewidth": 0,
              "ticks": ""
             }
            },
            "type": "scatter"
           }
          ],
          "scatter3d": [
           {
            "line": {
             "colorbar": {
              "outlinewidth": 0,
              "ticks": ""
             }
            },
            "marker": {
             "colorbar": {
              "outlinewidth": 0,
              "ticks": ""
             }
            },
            "type": "scatter3d"
           }
          ],
          "scattercarpet": [
           {
            "marker": {
             "colorbar": {
              "outlinewidth": 0,
              "ticks": ""
             }
            },
            "type": "scattercarpet"
           }
          ],
          "scattergeo": [
           {
            "marker": {
             "colorbar": {
              "outlinewidth": 0,
              "ticks": ""
             }
            },
            "type": "scattergeo"
           }
          ],
          "scattergl": [
           {
            "marker": {
             "colorbar": {
              "outlinewidth": 0,
              "ticks": ""
             }
            },
            "type": "scattergl"
           }
          ],
          "scattermapbox": [
           {
            "marker": {
             "colorbar": {
              "outlinewidth": 0,
              "ticks": ""
             }
            },
            "type": "scattermapbox"
           }
          ],
          "scatterpolar": [
           {
            "marker": {
             "colorbar": {
              "outlinewidth": 0,
              "ticks": ""
             }
            },
            "type": "scatterpolar"
           }
          ],
          "scatterpolargl": [
           {
            "marker": {
             "colorbar": {
              "outlinewidth": 0,
              "ticks": ""
             }
            },
            "type": "scatterpolargl"
           }
          ],
          "scatterternary": [
           {
            "marker": {
             "colorbar": {
              "outlinewidth": 0,
              "ticks": ""
             }
            },
            "type": "scatterternary"
           }
          ],
          "surface": [
           {
            "colorbar": {
             "outlinewidth": 0,
             "ticks": ""
            },
            "colorscale": [
             [
              0,
              "#0d0887"
             ],
             [
              0.1111111111111111,
              "#46039f"
             ],
             [
              0.2222222222222222,
              "#7201a8"
             ],
             [
              0.3333333333333333,
              "#9c179e"
             ],
             [
              0.4444444444444444,
              "#bd3786"
             ],
             [
              0.5555555555555556,
              "#d8576b"
             ],
             [
              0.6666666666666666,
              "#ed7953"
             ],
             [
              0.7777777777777778,
              "#fb9f3a"
             ],
             [
              0.8888888888888888,
              "#fdca26"
             ],
             [
              1,
              "#f0f921"
             ]
            ],
            "type": "surface"
           }
          ],
          "table": [
           {
            "cells": {
             "fill": {
              "color": "#EBF0F8"
             },
             "line": {
              "color": "white"
             }
            },
            "header": {
             "fill": {
              "color": "#C8D4E3"
             },
             "line": {
              "color": "white"
             }
            },
            "type": "table"
           }
          ]
         },
         "layout": {
          "annotationdefaults": {
           "arrowcolor": "#2a3f5f",
           "arrowhead": 0,
           "arrowwidth": 1
          },
          "coloraxis": {
           "colorbar": {
            "outlinewidth": 0,
            "ticks": ""
           }
          },
          "colorscale": {
           "diverging": [
            [
             0,
             "#8e0152"
            ],
            [
             0.1,
             "#c51b7d"
            ],
            [
             0.2,
             "#de77ae"
            ],
            [
             0.3,
             "#f1b6da"
            ],
            [
             0.4,
             "#fde0ef"
            ],
            [
             0.5,
             "#f7f7f7"
            ],
            [
             0.6,
             "#e6f5d0"
            ],
            [
             0.7,
             "#b8e186"
            ],
            [
             0.8,
             "#7fbc41"
            ],
            [
             0.9,
             "#4d9221"
            ],
            [
             1,
             "#276419"
            ]
           ],
           "sequential": [
            [
             0,
             "#0d0887"
            ],
            [
             0.1111111111111111,
             "#46039f"
            ],
            [
             0.2222222222222222,
             "#7201a8"
            ],
            [
             0.3333333333333333,
             "#9c179e"
            ],
            [
             0.4444444444444444,
             "#bd3786"
            ],
            [
             0.5555555555555556,
             "#d8576b"
            ],
            [
             0.6666666666666666,
             "#ed7953"
            ],
            [
             0.7777777777777778,
             "#fb9f3a"
            ],
            [
             0.8888888888888888,
             "#fdca26"
            ],
            [
             1,
             "#f0f921"
            ]
           ],
           "sequentialminus": [
            [
             0,
             "#0d0887"
            ],
            [
             0.1111111111111111,
             "#46039f"
            ],
            [
             0.2222222222222222,
             "#7201a8"
            ],
            [
             0.3333333333333333,
             "#9c179e"
            ],
            [
             0.4444444444444444,
             "#bd3786"
            ],
            [
             0.5555555555555556,
             "#d8576b"
            ],
            [
             0.6666666666666666,
             "#ed7953"
            ],
            [
             0.7777777777777778,
             "#fb9f3a"
            ],
            [
             0.8888888888888888,
             "#fdca26"
            ],
            [
             1,
             "#f0f921"
            ]
           ]
          },
          "colorway": [
           "#636efa",
           "#EF553B",
           "#00cc96",
           "#ab63fa",
           "#FFA15A",
           "#19d3f3",
           "#FF6692",
           "#B6E880",
           "#FF97FF",
           "#FECB52"
          ],
          "font": {
           "color": "#2a3f5f"
          },
          "geo": {
           "bgcolor": "white",
           "lakecolor": "white",
           "landcolor": "#E5ECF6",
           "showlakes": true,
           "showland": true,
           "subunitcolor": "white"
          },
          "hoverlabel": {
           "align": "left"
          },
          "hovermode": "closest",
          "mapbox": {
           "style": "light"
          },
          "paper_bgcolor": "white",
          "plot_bgcolor": "#E5ECF6",
          "polar": {
           "angularaxis": {
            "gridcolor": "white",
            "linecolor": "white",
            "ticks": ""
           },
           "bgcolor": "#E5ECF6",
           "radialaxis": {
            "gridcolor": "white",
            "linecolor": "white",
            "ticks": ""
           }
          },
          "scene": {
           "xaxis": {
            "backgroundcolor": "#E5ECF6",
            "gridcolor": "white",
            "gridwidth": 2,
            "linecolor": "white",
            "showbackground": true,
            "ticks": "",
            "zerolinecolor": "white"
           },
           "yaxis": {
            "backgroundcolor": "#E5ECF6",
            "gridcolor": "white",
            "gridwidth": 2,
            "linecolor": "white",
            "showbackground": true,
            "ticks": "",
            "zerolinecolor": "white"
           },
           "zaxis": {
            "backgroundcolor": "#E5ECF6",
            "gridcolor": "white",
            "gridwidth": 2,
            "linecolor": "white",
            "showbackground": true,
            "ticks": "",
            "zerolinecolor": "white"
           }
          },
          "shapedefaults": {
           "line": {
            "color": "#2a3f5f"
           }
          },
          "ternary": {
           "aaxis": {
            "gridcolor": "white",
            "linecolor": "white",
            "ticks": ""
           },
           "baxis": {
            "gridcolor": "white",
            "linecolor": "white",
            "ticks": ""
           },
           "bgcolor": "#E5ECF6",
           "caxis": {
            "gridcolor": "white",
            "linecolor": "white",
            "ticks": ""
           }
          },
          "title": {
           "x": 0.05
          },
          "xaxis": {
           "automargin": true,
           "gridcolor": "white",
           "linecolor": "white",
           "ticks": "",
           "title": {
            "standoff": 15
           },
           "zerolinecolor": "white",
           "zerolinewidth": 2
          },
          "yaxis": {
           "automargin": true,
           "gridcolor": "white",
           "linecolor": "white",
           "ticks": "",
           "title": {
            "standoff": 15
           },
           "zerolinecolor": "white",
           "zerolinewidth": 2
          }
         }
        }
       }
      },
      "text/html": [
       "<div>                            <div id=\"834fb417-6565-45f1-a058-a99e219496a3\" class=\"plotly-graph-div\" style=\"height:525px; width:100%;\"></div>            <script type=\"text/javascript\">                require([\"plotly\"], function(Plotly) {                    window.PLOTLYENV=window.PLOTLYENV || {};                                    if (document.getElementById(\"834fb417-6565-45f1-a058-a99e219496a3\")) {                    Plotly.newPlot(                        \"834fb417-6565-45f1-a058-a99e219496a3\",                        [{\"geo\": \"geo\", \"hovertemplate\": \"Latitude=%{lat}<br>Longitude=%{lon}<br>clusters=%{marker.color}<extra></extra>\", \"lat\": [40.09, 40.13, 40.65, 40.6, 40.59, 40.61, 40.57, 40.56, 40.64, 40.01, 40.01, 40.7, 40.03, 39.97, 40.14, 40.34, 40.34, 40.34, 40.35, 40.65, 40.66, 41.01, 41.01, 40.2, 40.0, 40.38, 40.35, 39.88, 39.96, 39.98, 40.02, 40.88, 40.24, 40.22, 40.24, 40.26, 40.2, 40.2, 40.2, 40.27, 39.94, 39.94, 40.08, 41.21, 41.49, 40.16, 40.09, 40.7, 40.69, 40.68, 40.05, 41.47, 40.27, 40.32, 40.31, 40.14, 40.14, 40.69, 40.72, 39.98, 40.14, 40.15, 40.28, 40.17, 42.07, 42.1, 42.06, 42.05, 42.13, 42.06, 40.03, 40.03, 40.05, 40.04, 40.03, 40.05, 40.45, 40.15, 40.11, 40.1, 39.84, 40.64, 40.62, 39.88, 39.86, 39.88, 40.3, 40.31, 41.14, 39.83, 39.77, 40.33, 40.25, 40.31, 40.28, 40.3, 40.25, 39.97, 39.97, 40.56, 41.23, 40.26, 40.27, 40.29, 40.22, 40.18, 40.09, 40.17, 40.61, 40.62, 40.32, 40.26, 40.1, 40.97, 40.28, 39.86, 40.09, 40.09, 40.08, 40.09, 40.09, 40.09, 40.09, 40.09, 40.51, 40.03, 40.03, 40.07, 40.07, 40.04, 40.08, 40.18, 40.18, 40.18, 40.18, 40.25, 40.29, 40.21, 40.56, 40.96, 40.98, 40.06, 40.13, 40.13, 41.14, 40.31, 40.05, 40.28, 40.27, 40.3, 40.25, 40.25, 40.25, 40.19, 39.92, 40.2, 40.68, 40.68, 40.43, 40.44, 40.24, 40.52, 41.36, 41.1, 41.24, 40.43, 40.36, 40.59, 40.21, 40.14, 40.23, 39.99, 40.13, 40.32, 40.22, 40.23, 40.24, 40.13, 40.04, 39.95, 39.95, 40.03, 39.92, 39.95, 40.04, 40.03, 40.0, 39.95, 39.95, 39.95, 40.01, 39.98, 40.0, 39.95, 39.95, 39.94, 39.94, 40.01, 40.1, 39.95, 39.96, 40.1, 40.08, 39.95, 39.95, 39.95, 39.95, 39.95, 40.05, 39.95, 40.07, 39.95, 39.95, 39.95, 39.95, 39.99, 39.95, 39.95, 40.0, 39.95, 39.96, 40.09, 39.95, 39.88, 39.95, 39.95, 40.5, 40.44, 40.44, 40.44, 40.44, 40.45, 40.43, 40.39, 40.42, 40.5, 40.53, 40.44, 40.46, 40.46, 40.46, 40.55, 40.45, 40.44, 40.4, 40.46, 40.45, 40.34, 40.54, 40.36, 40.46, 40.44, 40.55, 40.52, 40.5, 40.44, 40.44, 40.44, 40.44, 40.53, 40.54, 40.43, 40.44, 40.44, 40.43, 40.44, 40.44, 40.45, 40.44, 40.44, 40.45, 40.21, 40.1, 40.1, 40.11, 40.24, 40.45, 40.46, 40.31, 40.12, 40.21, 40.21, 41.06, 41.41, 41.41, 40.84, 40.8, 40.84, 40.54, 40.54, 40.06, 39.77, 41.06, 40.1, 40.03, 40.02, 40.08, 39.91, 39.91, 40.19, 40.8, 40.79, 40.79, 40.81, 40.26, 40.26, 40.98, 40.57, 40.4, 40.14, 40.57, 40.55, 39.91, 40.81, 39.96, 40.17, 40.52, 40.04, 40.21, 40.22, 40.19, 40.18, 40.06, 40.04, 40.04, 40.07, 39.95, 39.97, 40.0, 39.96, 39.82, 40.41, 40.41, 40.34, 39.9, 40.62, 40.62, 40.63, 40.63, 40.63, 41.24, 41.24, 41.24, 40.14, 40.14, 40.0, 40.0, 40.34, 40.2, 40.24, 39.94, 39.98, 39.96, 39.98, 39.94, 39.98, 39.91], \"legendgroup\": \"\", \"lon\": [-75.09, -75.12, -75.44, -75.47, -75.55, -75.54, -75.56, -75.49, -75.44, -75.29, -75.24, -80.3, -78.49, -78.52, -79.84, -80.05, -80.03, -80.06, -80.05, -75.3, -75.42, -76.45, -76.45, -76.02, -78.24, -80.1, -80.11, -75.4, -75.35, -75.35, -75.32, -79.95, -76.93, -76.93, -76.94, -80.17, -77.18, -77.16, -77.16, -75.24, -77.63, -77.63, -75.16, -79.38, -75.7, -75.48, -75.29, -80.11, -80.08, -80.11, -75.41, -75.64, -75.13, -75.13, -75.13, -75.17, -75.31, -75.27, -75.28, -75.44, -76.59, -75.83, -77.07, -76.16, -80.1, -80.13, -80.09, -80.09, -80.09, -80.1, -75.62, -75.63, -75.66, -75.63, -75.63, -75.66, -80.18, -75.0, -75.21, -75.21, -77.2, -79.94, -80.01, -75.53, -75.54, -75.54, -79.5, -79.58, -80.16, -76.99, -76.96, -76.86, -76.81, -76.81, -76.82, -76.85, -76.83, -75.3, -75.32, -75.34, -80.45, -76.68, -76.65, -76.65, -76.79, -75.13, -75.09, -75.07, -79.18, -79.16, -79.69, -75.09, -75.13, -75.64, -78.85, -75.68, -75.39, -75.39, -75.4, -75.36, -75.36, -75.39, -75.38, -75.37, -75.78, -76.2, -76.22, -76.34, -76.34, -76.34, -76.32, -74.88, -74.91, -74.88, -74.88, -75.29, -79.39, -76.57, -75.41, -76.89, -76.88, -75.65, -76.3, -76.31, -77.46, -76.8, -75.52, -80.08, -80.13, -80.1, -77.03, -77.01, -77.01, -76.98, -75.38, -76.76, -80.3, -80.3, -79.79, -79.77, -75.24, -80.22, -75.68, -75.33, -76.83, -79.7, -74.95, -79.75, -79.57, -77.56, -74.94, -75.39, -75.4, -79.69, -75.25, -75.24, -75.24, -75.45, -75.49, -75.21, -75.15, -75.21, -75.17, -75.19, -75.15, -75.23, -75.23, -75.16, -75.17, -75.17, -75.21, -75.15, -75.15, -75.17, -75.16, -75.16, -75.15, -75.21, -75.02, -75.2, -75.19, -75.01, -75.21, -75.17, -75.16, -75.2, -75.17, -75.17, -75.06, -75.19, -75.01, -75.19, -75.16, -75.16, -75.15, -75.09, -75.17, -75.16, -75.22, -75.16, -75.17, -74.96, -75.17, -75.25, -75.19, -75.17, -80.26, -79.96, -79.96, -79.92, -79.99, -80.01, -79.92, -80.07, -80.05, -80.26, -80.01, -80.0, -79.94, -79.94, -79.92, -80.05, -80.16, -80.15, -80.04, -79.93, -80.16, -80.06, -80.01, -80.05, -79.95, -79.95, -80.02, -79.85, -79.85, -80.0, -80.0, -79.77, -79.99, -80.01, -80.07, -79.81, -80.0, -79.99, -79.98, -79.96, -80.0, -79.93, -80.0, -80.0, -80.18, -77.28, -75.29, -75.29, -75.29, -75.57, -75.36, -75.37, -75.86, -75.14, -75.5, -75.5, -75.32, -75.67, -75.66, -76.83, -76.87, -76.84, -80.18, -80.19, -77.52, -76.67, -80.05, -79.2, -79.12, -79.08, -75.44, -75.35, -75.34, -75.23, -77.86, -77.84, -77.86, -77.91, -75.65, -75.65, -75.2, -79.8, -75.93, -74.96, -75.56, -75.6, -79.76, -77.86, -75.29, -75.04, -79.81, -75.35, -75.1, -75.14, -80.22, -80.23, -78.09, -75.38, -75.37, -75.43, -75.6, -75.58, -75.57, -75.61, -75.87, -79.92, -79.92, -76.0, -75.56, -80.05, -80.09, -80.06, -75.48, -75.48, -75.89, -75.86, -77.0, -75.12, -75.12, -75.27, -75.28, -75.98, -74.86, -74.84, -76.68, -76.73, -76.78, -76.77, -76.69, -76.68, -76.68], \"marker\": {\"color\": [3, 3, 3, 3, 3, 3, 3, 3, 3, 3, 3, 1, 2, 2, 1, 1, 1, 1, 1, 3, 3, 0, 0, 0, 2, 1, 1, 3, 3, 3, 3, 1, 0, 0, 0, 1, 0, 0, 0, 3, 2, 2, 3, 1, 4, 3, 3, 1, 1, 1, 3, 4, 3, 3, 3, 3, 3, 3, 3, 3, 0, 3, 0, 0, 5, 5, 5, 5, 5, 5, 3, 3, 3, 3, 3, 3, 1, 3, 3, 3, 0, 1, 1, 3, 3, 3, 1, 1, 1, 0, 0, 0, 0, 0, 0, 0, 0, 3, 3, 3, 1, 0, 0, 0, 0, 3, 3, 3, 1, 1, 1, 3, 3, 3, 1, 3, 3, 3, 3, 3, 3, 3, 3, 3, 0, 0, 0, 0, 0, 0, 0, 3, 3, 3, 3, 3, 1, 0, 3, 0, 0, 3, 0, 0, 0, 0, 3, 1, 1, 1, 0, 0, 0, 0, 3, 0, 1, 1, 1, 1, 3, 1, 4, 3, 0, 1, 3, 1, 1, 2, 3, 3, 3, 1, 3, 3, 3, 3, 3, 3, 3, 3, 3, 3, 3, 3, 3, 3, 3, 3, 3, 3, 3, 3, 3, 3, 3, 3, 3, 3, 3, 3, 3, 3, 3, 3, 3, 3, 3, 3, 3, 3, 3, 3, 3, 3, 3, 3, 3, 3, 3, 3, 3, 3, 3, 3, 1, 1, 1, 1, 1, 1, 1, 1, 1, 1, 1, 1, 1, 1, 1, 1, 1, 1, 1, 1, 1, 1, 1, 1, 1, 1, 1, 1, 1, 1, 1, 1, 1, 1, 1, 1, 1, 1, 1, 1, 1, 1, 1, 1, 1, 0, 3, 3, 3, 3, 3, 3, 0, 3, 3, 3, 3, 4, 4, 0, 0, 0, 1, 1, 2, 0, 1, 1, 1, 1, 3, 3, 3, 3, 0, 0, 0, 0, 3, 3, 3, 1, 0, 3, 3, 3, 1, 0, 3, 3, 1, 3, 3, 3, 1, 1, 2, 3, 3, 3, 3, 3, 3, 3, 3, 1, 1, 0, 3, 1, 1, 1, 3, 3, 4, 4, 0, 3, 3, 3, 3, 0, 3, 3, 0, 0, 0, 0, 0, 0, 0], \"coloraxis\": \"coloraxis\"}, \"name\": \"\", \"showlegend\": false, \"type\": \"scattergeo\"}],                        {\"coloraxis\": {\"colorbar\": {\"title\": {\"text\": \"clusters\"}}, \"colorscale\": [[0.0, \"#0d0887\"], [0.1111111111111111, \"#46039f\"], [0.2222222222222222, \"#7201a8\"], [0.3333333333333333, \"#9c179e\"], [0.4444444444444444, \"#bd3786\"], [0.5555555555555556, \"#d8576b\"], [0.6666666666666666, \"#ed7953\"], [0.7777777777777778, \"#fb9f3a\"], [0.8888888888888888, \"#fdca26\"], [1.0, \"#f0f921\"]]}, \"geo\": {\"center\": {\"lat\": 40.79, \"lon\": -77.84}, \"domain\": {\"x\": [0.0, 1.0], \"y\": [0.0, 1.0]}, \"projection\": {\"scale\": 8, \"type\": \"albers usa\"}, \"scope\": \"usa\"}, \"legend\": {\"tracegroupgap\": 0}, \"margin\": {\"t\": 60}, \"template\": {\"data\": {\"bar\": [{\"error_x\": {\"color\": \"#2a3f5f\"}, \"error_y\": {\"color\": \"#2a3f5f\"}, \"marker\": {\"line\": {\"color\": \"#E5ECF6\", \"width\": 0.5}}, \"type\": \"bar\"}], \"barpolar\": [{\"marker\": {\"line\": {\"color\": \"#E5ECF6\", \"width\": 0.5}}, \"type\": \"barpolar\"}], \"carpet\": [{\"aaxis\": {\"endlinecolor\": \"#2a3f5f\", \"gridcolor\": \"white\", \"linecolor\": \"white\", \"minorgridcolor\": \"white\", \"startlinecolor\": \"#2a3f5f\"}, \"baxis\": {\"endlinecolor\": \"#2a3f5f\", \"gridcolor\": \"white\", \"linecolor\": \"white\", \"minorgridcolor\": \"white\", \"startlinecolor\": \"#2a3f5f\"}, \"type\": \"carpet\"}], \"choropleth\": [{\"colorbar\": {\"outlinewidth\": 0, \"ticks\": \"\"}, \"type\": \"choropleth\"}], \"contour\": [{\"colorbar\": {\"outlinewidth\": 0, \"ticks\": \"\"}, \"colorscale\": [[0.0, \"#0d0887\"], [0.1111111111111111, \"#46039f\"], [0.2222222222222222, \"#7201a8\"], [0.3333333333333333, \"#9c179e\"], [0.4444444444444444, \"#bd3786\"], [0.5555555555555556, \"#d8576b\"], [0.6666666666666666, \"#ed7953\"], [0.7777777777777778, \"#fb9f3a\"], [0.8888888888888888, \"#fdca26\"], [1.0, \"#f0f921\"]], \"type\": \"contour\"}], \"contourcarpet\": [{\"colorbar\": {\"outlinewidth\": 0, \"ticks\": \"\"}, \"type\": \"contourcarpet\"}], \"heatmap\": [{\"colorbar\": {\"outlinewidth\": 0, \"ticks\": \"\"}, \"colorscale\": [[0.0, \"#0d0887\"], [0.1111111111111111, \"#46039f\"], [0.2222222222222222, \"#7201a8\"], [0.3333333333333333, \"#9c179e\"], [0.4444444444444444, \"#bd3786\"], [0.5555555555555556, \"#d8576b\"], [0.6666666666666666, \"#ed7953\"], [0.7777777777777778, \"#fb9f3a\"], [0.8888888888888888, \"#fdca26\"], [1.0, \"#f0f921\"]], \"type\": \"heatmap\"}], \"heatmapgl\": [{\"colorbar\": {\"outlinewidth\": 0, \"ticks\": \"\"}, \"colorscale\": [[0.0, \"#0d0887\"], [0.1111111111111111, \"#46039f\"], [0.2222222222222222, \"#7201a8\"], [0.3333333333333333, \"#9c179e\"], [0.4444444444444444, \"#bd3786\"], [0.5555555555555556, \"#d8576b\"], [0.6666666666666666, \"#ed7953\"], [0.7777777777777778, \"#fb9f3a\"], [0.8888888888888888, \"#fdca26\"], [1.0, \"#f0f921\"]], \"type\": \"heatmapgl\"}], \"histogram\": [{\"marker\": {\"colorbar\": {\"outlinewidth\": 0, \"ticks\": \"\"}}, \"type\": \"histogram\"}], \"histogram2d\": [{\"colorbar\": {\"outlinewidth\": 0, \"ticks\": \"\"}, \"colorscale\": [[0.0, \"#0d0887\"], [0.1111111111111111, \"#46039f\"], [0.2222222222222222, \"#7201a8\"], [0.3333333333333333, \"#9c179e\"], [0.4444444444444444, \"#bd3786\"], [0.5555555555555556, \"#d8576b\"], [0.6666666666666666, \"#ed7953\"], [0.7777777777777778, \"#fb9f3a\"], [0.8888888888888888, \"#fdca26\"], [1.0, \"#f0f921\"]], \"type\": \"histogram2d\"}], \"histogram2dcontour\": [{\"colorbar\": {\"outlinewidth\": 0, \"ticks\": \"\"}, \"colorscale\": [[0.0, \"#0d0887\"], [0.1111111111111111, \"#46039f\"], [0.2222222222222222, \"#7201a8\"], [0.3333333333333333, \"#9c179e\"], [0.4444444444444444, \"#bd3786\"], [0.5555555555555556, \"#d8576b\"], [0.6666666666666666, \"#ed7953\"], [0.7777777777777778, \"#fb9f3a\"], [0.8888888888888888, \"#fdca26\"], [1.0, \"#f0f921\"]], \"type\": \"histogram2dcontour\"}], \"mesh3d\": [{\"colorbar\": {\"outlinewidth\": 0, \"ticks\": \"\"}, \"type\": \"mesh3d\"}], \"parcoords\": [{\"line\": {\"colorbar\": {\"outlinewidth\": 0, \"ticks\": \"\"}}, \"type\": \"parcoords\"}], \"pie\": [{\"automargin\": true, \"type\": \"pie\"}], \"scatter\": [{\"marker\": {\"colorbar\": {\"outlinewidth\": 0, \"ticks\": \"\"}}, \"type\": \"scatter\"}], \"scatter3d\": [{\"line\": {\"colorbar\": {\"outlinewidth\": 0, \"ticks\": \"\"}}, \"marker\": {\"colorbar\": {\"outlinewidth\": 0, \"ticks\": \"\"}}, \"type\": \"scatter3d\"}], \"scattercarpet\": [{\"marker\": {\"colorbar\": {\"outlinewidth\": 0, \"ticks\": \"\"}}, \"type\": \"scattercarpet\"}], \"scattergeo\": [{\"marker\": {\"colorbar\": {\"outlinewidth\": 0, \"ticks\": \"\"}}, \"type\": \"scattergeo\"}], \"scattergl\": [{\"marker\": {\"colorbar\": {\"outlinewidth\": 0, \"ticks\": \"\"}}, \"type\": \"scattergl\"}], \"scattermapbox\": [{\"marker\": {\"colorbar\": {\"outlinewidth\": 0, \"ticks\": \"\"}}, \"type\": \"scattermapbox\"}], \"scatterpolar\": [{\"marker\": {\"colorbar\": {\"outlinewidth\": 0, \"ticks\": \"\"}}, \"type\": \"scatterpolar\"}], \"scatterpolargl\": [{\"marker\": {\"colorbar\": {\"outlinewidth\": 0, \"ticks\": \"\"}}, \"type\": \"scatterpolargl\"}], \"scatterternary\": [{\"marker\": {\"colorbar\": {\"outlinewidth\": 0, \"ticks\": \"\"}}, \"type\": \"scatterternary\"}], \"surface\": [{\"colorbar\": {\"outlinewidth\": 0, \"ticks\": \"\"}, \"colorscale\": [[0.0, \"#0d0887\"], [0.1111111111111111, \"#46039f\"], [0.2222222222222222, \"#7201a8\"], [0.3333333333333333, \"#9c179e\"], [0.4444444444444444, \"#bd3786\"], [0.5555555555555556, \"#d8576b\"], [0.6666666666666666, \"#ed7953\"], [0.7777777777777778, \"#fb9f3a\"], [0.8888888888888888, \"#fdca26\"], [1.0, \"#f0f921\"]], \"type\": \"surface\"}], \"table\": [{\"cells\": {\"fill\": {\"color\": \"#EBF0F8\"}, \"line\": {\"color\": \"white\"}}, \"header\": {\"fill\": {\"color\": \"#C8D4E3\"}, \"line\": {\"color\": \"white\"}}, \"type\": \"table\"}]}, \"layout\": {\"annotationdefaults\": {\"arrowcolor\": \"#2a3f5f\", \"arrowhead\": 0, \"arrowwidth\": 1}, \"coloraxis\": {\"colorbar\": {\"outlinewidth\": 0, \"ticks\": \"\"}}, \"colorscale\": {\"diverging\": [[0, \"#8e0152\"], [0.1, \"#c51b7d\"], [0.2, \"#de77ae\"], [0.3, \"#f1b6da\"], [0.4, \"#fde0ef\"], [0.5, \"#f7f7f7\"], [0.6, \"#e6f5d0\"], [0.7, \"#b8e186\"], [0.8, \"#7fbc41\"], [0.9, \"#4d9221\"], [1, \"#276419\"]], \"sequential\": [[0.0, \"#0d0887\"], [0.1111111111111111, \"#46039f\"], [0.2222222222222222, \"#7201a8\"], [0.3333333333333333, \"#9c179e\"], [0.4444444444444444, \"#bd3786\"], [0.5555555555555556, \"#d8576b\"], [0.6666666666666666, \"#ed7953\"], [0.7777777777777778, \"#fb9f3a\"], [0.8888888888888888, \"#fdca26\"], [1.0, \"#f0f921\"]], \"sequentialminus\": [[0.0, \"#0d0887\"], [0.1111111111111111, \"#46039f\"], [0.2222222222222222, \"#7201a8\"], [0.3333333333333333, \"#9c179e\"], [0.4444444444444444, \"#bd3786\"], [0.5555555555555556, \"#d8576b\"], [0.6666666666666666, \"#ed7953\"], [0.7777777777777778, \"#fb9f3a\"], [0.8888888888888888, \"#fdca26\"], [1.0, \"#f0f921\"]]}, \"colorway\": [\"#636efa\", \"#EF553B\", \"#00cc96\", \"#ab63fa\", \"#FFA15A\", \"#19d3f3\", \"#FF6692\", \"#B6E880\", \"#FF97FF\", \"#FECB52\"], \"font\": {\"color\": \"#2a3f5f\"}, \"geo\": {\"bgcolor\": \"white\", \"lakecolor\": \"white\", \"landcolor\": \"#E5ECF6\", \"showlakes\": true, \"showland\": true, \"subunitcolor\": \"white\"}, \"hoverlabel\": {\"align\": \"left\"}, \"hovermode\": \"closest\", \"mapbox\": {\"style\": \"light\"}, \"paper_bgcolor\": \"white\", \"plot_bgcolor\": \"#E5ECF6\", \"polar\": {\"angularaxis\": {\"gridcolor\": \"white\", \"linecolor\": \"white\", \"ticks\": \"\"}, \"bgcolor\": \"#E5ECF6\", \"radialaxis\": {\"gridcolor\": \"white\", \"linecolor\": \"white\", \"ticks\": \"\"}}, \"scene\": {\"xaxis\": {\"backgroundcolor\": \"#E5ECF6\", \"gridcolor\": \"white\", \"gridwidth\": 2, \"linecolor\": \"white\", \"showbackground\": true, \"ticks\": \"\", \"zerolinecolor\": \"white\"}, \"yaxis\": {\"backgroundcolor\": \"#E5ECF6\", \"gridcolor\": \"white\", \"gridwidth\": 2, \"linecolor\": \"white\", \"showbackground\": true, \"ticks\": \"\", \"zerolinecolor\": \"white\"}, \"zaxis\": {\"backgroundcolor\": \"#E5ECF6\", \"gridcolor\": \"white\", \"gridwidth\": 2, \"linecolor\": \"white\", \"showbackground\": true, \"ticks\": \"\", \"zerolinecolor\": \"white\"}}, \"shapedefaults\": {\"line\": {\"color\": \"#2a3f5f\"}}, \"ternary\": {\"aaxis\": {\"gridcolor\": \"white\", \"linecolor\": \"white\", \"ticks\": \"\"}, \"baxis\": {\"gridcolor\": \"white\", \"linecolor\": \"white\", \"ticks\": \"\"}, \"bgcolor\": \"#E5ECF6\", \"caxis\": {\"gridcolor\": \"white\", \"linecolor\": \"white\", \"ticks\": \"\"}}, \"title\": {\"x\": 0.05}, \"xaxis\": {\"automargin\": true, \"gridcolor\": \"white\", \"linecolor\": \"white\", \"ticks\": \"\", \"title\": {\"standoff\": 15}, \"zerolinecolor\": \"white\", \"zerolinewidth\": 2}, \"yaxis\": {\"automargin\": true, \"gridcolor\": \"white\", \"linecolor\": \"white\", \"ticks\": \"\", \"title\": {\"standoff\": 15}, \"zerolinecolor\": \"white\", \"zerolinewidth\": 2}}}},                        {\"responsive\": true}                    ).then(function(){\n",
       "                            \n",
       "var gd = document.getElementById('834fb417-6565-45f1-a058-a99e219496a3');\n",
       "var x = new MutationObserver(function (mutations, observer) {{\n",
       "        var display = window.getComputedStyle(gd).display;\n",
       "        if (!display || display === 'none') {{\n",
       "            console.log([gd, 'removed!']);\n",
       "            Plotly.purge(gd);\n",
       "            observer.disconnect();\n",
       "        }}\n",
       "}});\n",
       "\n",
       "// Listen for the removal of the full notebook cells\n",
       "var notebookContainer = gd.closest('#notebook-container');\n",
       "if (notebookContainer) {{\n",
       "    x.observe(notebookContainer, {childList: true});\n",
       "}}\n",
       "\n",
       "// Listen for the clearing of the current output cell\n",
       "var outputEl = gd.closest('.output');\n",
       "if (outputEl) {{\n",
       "    x.observe(outputEl, {childList: true});\n",
       "}}\n",
       "\n",
       "                        })                };                });            </script>        </div>"
      ]
     },
     "metadata": {},
     "output_type": "display_data"
    },
    {
     "data": {
      "application/javascript": [
       "\n",
       "            setTimeout(function() {\n",
       "                var nbb_cell_id = 16;\n",
       "                var nbb_unformatted_code = \"starbucks_pa_df = state_cluster(\\\"PA\\\", starbucks_df, n_clusters=6, dendrogram=False)\\n\\nfig = px.scatter_geo(\\n    data_frame=starbucks_pa_df,\\n    scope=\\\"usa\\\",\\n    color=\\\"clusters\\\",\\n    lat=\\\"Latitude\\\",\\n    lon=\\\"Longitude\\\",\\n    projection=\\\"albers usa\\\",\\n)\\n\\nlat_center = 40.79\\nlon_center = -77.84\\nfig.update_layout(\\n    geo={\\\"projection_scale\\\": 8, \\\"center\\\": {\\\"lat\\\": lat_center, \\\"lon\\\": lon_center}}\\n)\";\n",
       "                var nbb_formatted_code = \"starbucks_pa_df = state_cluster(\\\"PA\\\", starbucks_df, n_clusters=6, dendrogram=False)\\n\\nfig = px.scatter_geo(\\n    data_frame=starbucks_pa_df,\\n    scope=\\\"usa\\\",\\n    color=\\\"clusters\\\",\\n    lat=\\\"Latitude\\\",\\n    lon=\\\"Longitude\\\",\\n    projection=\\\"albers usa\\\",\\n)\\n\\nlat_center = 40.79\\nlon_center = -77.84\\nfig.update_layout(\\n    geo={\\\"projection_scale\\\": 8, \\\"center\\\": {\\\"lat\\\": lat_center, \\\"lon\\\": lon_center}}\\n)\";\n",
       "                var nbb_cells = Jupyter.notebook.get_cells();\n",
       "                for (var i = 0; i < nbb_cells.length; ++i) {\n",
       "                    if (nbb_cells[i].input_prompt_number == nbb_cell_id) {\n",
       "                        if (nbb_cells[i].get_text() == nbb_unformatted_code) {\n",
       "                             nbb_cells[i].set_text(nbb_formatted_code);\n",
       "                        }\n",
       "                        break;\n",
       "                    }\n",
       "                }\n",
       "            }, 500);\n",
       "            "
      ],
      "text/plain": [
       "<IPython.core.display.Javascript object>"
      ]
     },
     "metadata": {},
     "output_type": "display_data"
    }
   ],
   "source": [
    "starbucks_pa_df = state_cluster(\"PA\", starbucks_df, n_clusters=6, dendrogram=False)\n",
    "\n",
    "fig = px.scatter_geo(\n",
    "    data_frame=starbucks_pa_df,\n",
    "    scope=\"usa\",\n",
    "    color=\"clusters\",\n",
    "    lat=\"Latitude\",\n",
    "    lon=\"Longitude\",\n",
    "    projection=\"albers usa\",\n",
    ")\n",
    "\n",
    "lat_center = 40.79\n",
    "lon_center = -77.84\n",
    "fig.update_layout(\n",
    "    geo={\"projection_scale\": 8, \"center\": {\"lat\": lat_center, \"lon\": lon_center}}\n",
    ")"
   ]
  },
  {
   "cell_type": "code",
   "execution_count": 17,
   "metadata": {},
   "outputs": [
    {
     "data": {
      "application/vnd.plotly.v1+json": {
       "config": {
        "plotlyServerURL": "https://plot.ly"
       },
       "data": [
        {
         "geo": "geo",
         "hovertemplate": "Latitude=%{lat}<br>Longitude=%{lon}<br>clusters=%{marker.color}<extra></extra>",
         "lat": [
          40.09,
          40.13,
          40.65,
          40.6,
          40.59,
          40.61,
          40.57,
          40.56,
          40.64,
          40.01,
          40.01,
          40.7,
          40.03,
          39.97,
          40.14,
          40.34,
          40.34,
          40.34,
          40.35,
          40.65,
          40.66,
          41.01,
          41.01,
          40.2,
          40,
          40.38,
          40.35,
          39.88,
          39.96,
          39.98,
          40.02,
          40.88,
          40.24,
          40.22,
          40.24,
          40.26,
          40.2,
          40.2,
          40.2,
          40.27,
          39.94,
          39.94,
          40.08,
          41.21,
          41.49,
          40.16,
          40.09,
          40.7,
          40.69,
          40.68,
          40.05,
          41.47,
          40.27,
          40.32,
          40.31,
          40.14,
          40.14,
          40.69,
          40.72,
          39.98,
          40.14,
          40.15,
          40.28,
          40.17,
          42.07,
          42.1,
          42.06,
          42.05,
          42.13,
          42.06,
          40.03,
          40.03,
          40.05,
          40.04,
          40.03,
          40.05,
          40.45,
          40.15,
          40.11,
          40.1,
          39.84,
          40.64,
          40.62,
          39.88,
          39.86,
          39.88,
          40.3,
          40.31,
          41.14,
          39.83,
          39.77,
          40.33,
          40.25,
          40.31,
          40.28,
          40.3,
          40.25,
          39.97,
          39.97,
          40.56,
          41.23,
          40.26,
          40.27,
          40.29,
          40.22,
          40.18,
          40.09,
          40.17,
          40.61,
          40.62,
          40.32,
          40.26,
          40.1,
          40.97,
          40.28,
          39.86,
          40.09,
          40.09,
          40.08,
          40.09,
          40.09,
          40.09,
          40.09,
          40.09,
          40.51,
          40.03,
          40.03,
          40.07,
          40.07,
          40.04,
          40.08,
          40.18,
          40.18,
          40.18,
          40.18,
          40.25,
          40.29,
          40.21,
          40.56,
          40.96,
          40.98,
          40.06,
          40.13,
          40.13,
          41.14,
          40.31,
          40.05,
          40.28,
          40.27,
          40.3,
          40.25,
          40.25,
          40.25,
          40.19,
          39.92,
          40.2,
          40.68,
          40.68,
          40.43,
          40.44,
          40.24,
          40.52,
          41.36,
          41.1,
          41.24,
          40.43,
          40.36,
          40.59,
          40.21,
          40.14,
          40.23,
          39.99,
          40.13,
          40.32,
          40.22,
          40.23,
          40.24,
          40.13,
          40.04,
          39.95,
          39.95,
          40.03,
          39.92,
          39.95,
          40.04,
          40.03,
          40,
          39.95,
          39.95,
          39.95,
          40.01,
          39.98,
          40,
          39.95,
          39.95,
          39.94,
          39.94,
          40.01,
          40.1,
          39.95,
          39.96,
          40.1,
          40.08,
          39.95,
          39.95,
          39.95,
          39.95,
          39.95,
          40.05,
          39.95,
          40.07,
          39.95,
          39.95,
          39.95,
          39.95,
          39.99,
          39.95,
          39.95,
          40,
          39.95,
          39.96,
          40.09,
          39.95,
          39.88,
          39.95,
          39.95,
          40.5,
          40.44,
          40.44,
          40.44,
          40.44,
          40.45,
          40.43,
          40.39,
          40.42,
          40.5,
          40.53,
          40.44,
          40.46,
          40.46,
          40.46,
          40.55,
          40.45,
          40.44,
          40.4,
          40.46,
          40.45,
          40.34,
          40.54,
          40.36,
          40.46,
          40.44,
          40.55,
          40.52,
          40.5,
          40.44,
          40.44,
          40.44,
          40.44,
          40.53,
          40.54,
          40.43,
          40.44,
          40.44,
          40.43,
          40.44,
          40.44,
          40.45,
          40.44,
          40.44,
          40.45,
          40.21,
          40.1,
          40.1,
          40.11,
          40.24,
          40.45,
          40.46,
          40.31,
          40.12,
          40.21,
          40.21,
          41.06,
          41.41,
          41.41,
          40.84,
          40.8,
          40.84,
          40.54,
          40.54,
          40.06,
          39.77,
          41.06,
          40.1,
          40.03,
          40.02,
          40.08,
          39.91,
          39.91,
          40.19,
          40.8,
          40.79,
          40.79,
          40.81,
          40.26,
          40.26,
          40.98,
          40.57,
          40.4,
          40.14,
          40.57,
          40.55,
          39.91,
          40.81,
          39.96,
          40.17,
          40.52,
          40.04,
          40.21,
          40.22,
          40.19,
          40.18,
          40.06,
          40.04,
          40.04,
          40.07,
          39.95,
          39.97,
          40,
          39.96,
          39.82,
          40.41,
          40.41,
          40.34,
          39.9,
          40.62,
          40.62,
          40.63,
          40.63,
          40.63,
          41.24,
          41.24,
          41.24,
          40.14,
          40.14,
          40,
          40,
          40.34,
          40.2,
          40.24,
          39.94,
          39.98,
          39.96,
          39.98,
          39.94,
          39.98,
          39.91
         ],
         "legendgroup": "",
         "lon": [
          -75.09,
          -75.12,
          -75.44,
          -75.47,
          -75.55,
          -75.54,
          -75.56,
          -75.49,
          -75.44,
          -75.29,
          -75.24,
          -80.3,
          -78.49,
          -78.52,
          -79.84,
          -80.05,
          -80.03,
          -80.06,
          -80.05,
          -75.3,
          -75.42,
          -76.45,
          -76.45,
          -76.02,
          -78.24,
          -80.1,
          -80.11,
          -75.4,
          -75.35,
          -75.35,
          -75.32,
          -79.95,
          -76.93,
          -76.93,
          -76.94,
          -80.17,
          -77.18,
          -77.16,
          -77.16,
          -75.24,
          -77.63,
          -77.63,
          -75.16,
          -79.38,
          -75.7,
          -75.48,
          -75.29,
          -80.11,
          -80.08,
          -80.11,
          -75.41,
          -75.64,
          -75.13,
          -75.13,
          -75.13,
          -75.17,
          -75.31,
          -75.27,
          -75.28,
          -75.44,
          -76.59,
          -75.83,
          -77.07,
          -76.16,
          -80.1,
          -80.13,
          -80.09,
          -80.09,
          -80.09,
          -80.1,
          -75.62,
          -75.63,
          -75.66,
          -75.63,
          -75.63,
          -75.66,
          -80.18,
          -75,
          -75.21,
          -75.21,
          -77.2,
          -79.94,
          -80.01,
          -75.53,
          -75.54,
          -75.54,
          -79.5,
          -79.58,
          -80.16,
          -76.99,
          -76.96,
          -76.86,
          -76.81,
          -76.81,
          -76.82,
          -76.85,
          -76.83,
          -75.3,
          -75.32,
          -75.34,
          -80.45,
          -76.68,
          -76.65,
          -76.65,
          -76.79,
          -75.13,
          -75.09,
          -75.07,
          -79.18,
          -79.16,
          -79.69,
          -75.09,
          -75.13,
          -75.64,
          -78.85,
          -75.68,
          -75.39,
          -75.39,
          -75.4,
          -75.36,
          -75.36,
          -75.39,
          -75.38,
          -75.37,
          -75.78,
          -76.2,
          -76.22,
          -76.34,
          -76.34,
          -76.34,
          -76.32,
          -74.88,
          -74.91,
          -74.88,
          -74.88,
          -75.29,
          -79.39,
          -76.57,
          -75.41,
          -76.89,
          -76.88,
          -75.65,
          -76.3,
          -76.31,
          -77.46,
          -76.8,
          -75.52,
          -80.08,
          -80.13,
          -80.1,
          -77.03,
          -77.01,
          -77.01,
          -76.98,
          -75.38,
          -76.76,
          -80.3,
          -80.3,
          -79.79,
          -79.77,
          -75.24,
          -80.22,
          -75.68,
          -75.33,
          -76.83,
          -79.7,
          -74.95,
          -79.75,
          -79.57,
          -77.56,
          -74.94,
          -75.39,
          -75.4,
          -79.69,
          -75.25,
          -75.24,
          -75.24,
          -75.45,
          -75.49,
          -75.21,
          -75.15,
          -75.21,
          -75.17,
          -75.19,
          -75.15,
          -75.23,
          -75.23,
          -75.16,
          -75.17,
          -75.17,
          -75.21,
          -75.15,
          -75.15,
          -75.17,
          -75.16,
          -75.16,
          -75.15,
          -75.21,
          -75.02,
          -75.2,
          -75.19,
          -75.01,
          -75.21,
          -75.17,
          -75.16,
          -75.2,
          -75.17,
          -75.17,
          -75.06,
          -75.19,
          -75.01,
          -75.19,
          -75.16,
          -75.16,
          -75.15,
          -75.09,
          -75.17,
          -75.16,
          -75.22,
          -75.16,
          -75.17,
          -74.96,
          -75.17,
          -75.25,
          -75.19,
          -75.17,
          -80.26,
          -79.96,
          -79.96,
          -79.92,
          -79.99,
          -80.01,
          -79.92,
          -80.07,
          -80.05,
          -80.26,
          -80.01,
          -80,
          -79.94,
          -79.94,
          -79.92,
          -80.05,
          -80.16,
          -80.15,
          -80.04,
          -79.93,
          -80.16,
          -80.06,
          -80.01,
          -80.05,
          -79.95,
          -79.95,
          -80.02,
          -79.85,
          -79.85,
          -80,
          -80,
          -79.77,
          -79.99,
          -80.01,
          -80.07,
          -79.81,
          -80,
          -79.99,
          -79.98,
          -79.96,
          -80,
          -79.93,
          -80,
          -80,
          -80.18,
          -77.28,
          -75.29,
          -75.29,
          -75.29,
          -75.57,
          -75.36,
          -75.37,
          -75.86,
          -75.14,
          -75.5,
          -75.5,
          -75.32,
          -75.67,
          -75.66,
          -76.83,
          -76.87,
          -76.84,
          -80.18,
          -80.19,
          -77.52,
          -76.67,
          -80.05,
          -79.2,
          -79.12,
          -79.08,
          -75.44,
          -75.35,
          -75.34,
          -75.23,
          -77.86,
          -77.84,
          -77.86,
          -77.91,
          -75.65,
          -75.65,
          -75.2,
          -79.8,
          -75.93,
          -74.96,
          -75.56,
          -75.6,
          -79.76,
          -77.86,
          -75.29,
          -75.04,
          -79.81,
          -75.35,
          -75.1,
          -75.14,
          -80.22,
          -80.23,
          -78.09,
          -75.38,
          -75.37,
          -75.43,
          -75.6,
          -75.58,
          -75.57,
          -75.61,
          -75.87,
          -79.92,
          -79.92,
          -76,
          -75.56,
          -80.05,
          -80.09,
          -80.06,
          -75.48,
          -75.48,
          -75.89,
          -75.86,
          -77,
          -75.12,
          -75.12,
          -75.27,
          -75.28,
          -75.98,
          -74.86,
          -74.84,
          -76.68,
          -76.73,
          -76.78,
          -76.77,
          -76.69,
          -76.68,
          -76.68
         ],
         "marker": {
          "color": [
           1,
           1,
           1,
           1,
           1,
           1,
           1,
           1,
           1,
           1,
           1,
           0,
           6,
           6,
           0,
           0,
           0,
           0,
           0,
           1,
           1,
           7,
           7,
           2,
           6,
           0,
           0,
           1,
           1,
           1,
           1,
           0,
           2,
           2,
           2,
           0,
           2,
           2,
           2,
           1,
           6,
           6,
           1,
           0,
           4,
           1,
           1,
           0,
           0,
           0,
           1,
           4,
           1,
           1,
           1,
           1,
           1,
           1,
           1,
           1,
           2,
           1,
           2,
           2,
           5,
           5,
           5,
           5,
           5,
           5,
           1,
           1,
           1,
           1,
           1,
           1,
           0,
           1,
           1,
           1,
           2,
           0,
           0,
           1,
           1,
           1,
           0,
           0,
           0,
           2,
           2,
           2,
           2,
           2,
           2,
           2,
           2,
           1,
           1,
           1,
           0,
           2,
           2,
           2,
           2,
           1,
           1,
           1,
           0,
           0,
           0,
           1,
           1,
           1,
           0,
           1,
           1,
           1,
           1,
           1,
           1,
           1,
           1,
           1,
           2,
           2,
           2,
           2,
           2,
           2,
           2,
           1,
           1,
           1,
           1,
           1,
           0,
           2,
           1,
           7,
           7,
           1,
           2,
           2,
           3,
           2,
           1,
           0,
           0,
           0,
           2,
           2,
           2,
           2,
           1,
           2,
           0,
           0,
           0,
           0,
           1,
           0,
           4,
           1,
           7,
           0,
           1,
           0,
           0,
           6,
           1,
           1,
           1,
           0,
           1,
           1,
           1,
           1,
           1,
           1,
           1,
           1,
           1,
           1,
           1,
           1,
           1,
           1,
           1,
           1,
           1,
           1,
           1,
           1,
           1,
           1,
           1,
           1,
           1,
           1,
           1,
           1,
           1,
           1,
           1,
           1,
           1,
           1,
           1,
           1,
           1,
           1,
           1,
           1,
           1,
           1,
           1,
           1,
           1,
           1,
           1,
           1,
           1,
           1,
           1,
           1,
           0,
           0,
           0,
           0,
           0,
           0,
           0,
           0,
           0,
           0,
           0,
           0,
           0,
           0,
           0,
           0,
           0,
           0,
           0,
           0,
           0,
           0,
           0,
           0,
           0,
           0,
           0,
           0,
           0,
           0,
           0,
           0,
           0,
           0,
           0,
           0,
           0,
           0,
           0,
           0,
           0,
           0,
           0,
           0,
           0,
           2,
           1,
           1,
           1,
           1,
           1,
           1,
           2,
           1,
           1,
           1,
           1,
           4,
           4,
           7,
           7,
           7,
           0,
           0,
           6,
           2,
           0,
           0,
           0,
           0,
           1,
           1,
           1,
           1,
           3,
           3,
           3,
           3,
           1,
           1,
           1,
           0,
           2,
           1,
           1,
           1,
           0,
           3,
           1,
           1,
           0,
           1,
           1,
           1,
           0,
           0,
           6,
           1,
           1,
           1,
           1,
           1,
           1,
           1,
           1,
           0,
           0,
           2,
           1,
           0,
           0,
           0,
           1,
           1,
           4,
           4,
           7,
           1,
           1,
           1,
           1,
           2,
           1,
           1,
           2,
           2,
           2,
           2,
           2,
           2,
           2
          ],
          "coloraxis": "coloraxis"
         },
         "name": "",
         "showlegend": false,
         "type": "scattergeo"
        }
       ],
       "layout": {
        "coloraxis": {
         "colorbar": {
          "title": {
           "text": "clusters"
          }
         },
         "colorscale": [
          [
           0,
           "#0d0887"
          ],
          [
           0.1111111111111111,
           "#46039f"
          ],
          [
           0.2222222222222222,
           "#7201a8"
          ],
          [
           0.3333333333333333,
           "#9c179e"
          ],
          [
           0.4444444444444444,
           "#bd3786"
          ],
          [
           0.5555555555555556,
           "#d8576b"
          ],
          [
           0.6666666666666666,
           "#ed7953"
          ],
          [
           0.7777777777777778,
           "#fb9f3a"
          ],
          [
           0.8888888888888888,
           "#fdca26"
          ],
          [
           1,
           "#f0f921"
          ]
         ]
        },
        "geo": {
         "center": {
          "lat": 40.79,
          "lon": -77.84
         },
         "domain": {
          "x": [
           0,
           1
          ],
          "y": [
           0,
           1
          ]
         },
         "projection": {
          "scale": 8,
          "type": "albers usa"
         },
         "scope": "usa"
        },
        "legend": {
         "tracegroupgap": 0
        },
        "margin": {
         "t": 60
        },
        "template": {
         "data": {
          "bar": [
           {
            "error_x": {
             "color": "#2a3f5f"
            },
            "error_y": {
             "color": "#2a3f5f"
            },
            "marker": {
             "line": {
              "color": "#E5ECF6",
              "width": 0.5
             }
            },
            "type": "bar"
           }
          ],
          "barpolar": [
           {
            "marker": {
             "line": {
              "color": "#E5ECF6",
              "width": 0.5
             }
            },
            "type": "barpolar"
           }
          ],
          "carpet": [
           {
            "aaxis": {
             "endlinecolor": "#2a3f5f",
             "gridcolor": "white",
             "linecolor": "white",
             "minorgridcolor": "white",
             "startlinecolor": "#2a3f5f"
            },
            "baxis": {
             "endlinecolor": "#2a3f5f",
             "gridcolor": "white",
             "linecolor": "white",
             "minorgridcolor": "white",
             "startlinecolor": "#2a3f5f"
            },
            "type": "carpet"
           }
          ],
          "choropleth": [
           {
            "colorbar": {
             "outlinewidth": 0,
             "ticks": ""
            },
            "type": "choropleth"
           }
          ],
          "contour": [
           {
            "colorbar": {
             "outlinewidth": 0,
             "ticks": ""
            },
            "colorscale": [
             [
              0,
              "#0d0887"
             ],
             [
              0.1111111111111111,
              "#46039f"
             ],
             [
              0.2222222222222222,
              "#7201a8"
             ],
             [
              0.3333333333333333,
              "#9c179e"
             ],
             [
              0.4444444444444444,
              "#bd3786"
             ],
             [
              0.5555555555555556,
              "#d8576b"
             ],
             [
              0.6666666666666666,
              "#ed7953"
             ],
             [
              0.7777777777777778,
              "#fb9f3a"
             ],
             [
              0.8888888888888888,
              "#fdca26"
             ],
             [
              1,
              "#f0f921"
             ]
            ],
            "type": "contour"
           }
          ],
          "contourcarpet": [
           {
            "colorbar": {
             "outlinewidth": 0,
             "ticks": ""
            },
            "type": "contourcarpet"
           }
          ],
          "heatmap": [
           {
            "colorbar": {
             "outlinewidth": 0,
             "ticks": ""
            },
            "colorscale": [
             [
              0,
              "#0d0887"
             ],
             [
              0.1111111111111111,
              "#46039f"
             ],
             [
              0.2222222222222222,
              "#7201a8"
             ],
             [
              0.3333333333333333,
              "#9c179e"
             ],
             [
              0.4444444444444444,
              "#bd3786"
             ],
             [
              0.5555555555555556,
              "#d8576b"
             ],
             [
              0.6666666666666666,
              "#ed7953"
             ],
             [
              0.7777777777777778,
              "#fb9f3a"
             ],
             [
              0.8888888888888888,
              "#fdca26"
             ],
             [
              1,
              "#f0f921"
             ]
            ],
            "type": "heatmap"
           }
          ],
          "heatmapgl": [
           {
            "colorbar": {
             "outlinewidth": 0,
             "ticks": ""
            },
            "colorscale": [
             [
              0,
              "#0d0887"
             ],
             [
              0.1111111111111111,
              "#46039f"
             ],
             [
              0.2222222222222222,
              "#7201a8"
             ],
             [
              0.3333333333333333,
              "#9c179e"
             ],
             [
              0.4444444444444444,
              "#bd3786"
             ],
             [
              0.5555555555555556,
              "#d8576b"
             ],
             [
              0.6666666666666666,
              "#ed7953"
             ],
             [
              0.7777777777777778,
              "#fb9f3a"
             ],
             [
              0.8888888888888888,
              "#fdca26"
             ],
             [
              1,
              "#f0f921"
             ]
            ],
            "type": "heatmapgl"
           }
          ],
          "histogram": [
           {
            "marker": {
             "colorbar": {
              "outlinewidth": 0,
              "ticks": ""
             }
            },
            "type": "histogram"
           }
          ],
          "histogram2d": [
           {
            "colorbar": {
             "outlinewidth": 0,
             "ticks": ""
            },
            "colorscale": [
             [
              0,
              "#0d0887"
             ],
             [
              0.1111111111111111,
              "#46039f"
             ],
             [
              0.2222222222222222,
              "#7201a8"
             ],
             [
              0.3333333333333333,
              "#9c179e"
             ],
             [
              0.4444444444444444,
              "#bd3786"
             ],
             [
              0.5555555555555556,
              "#d8576b"
             ],
             [
              0.6666666666666666,
              "#ed7953"
             ],
             [
              0.7777777777777778,
              "#fb9f3a"
             ],
             [
              0.8888888888888888,
              "#fdca26"
             ],
             [
              1,
              "#f0f921"
             ]
            ],
            "type": "histogram2d"
           }
          ],
          "histogram2dcontour": [
           {
            "colorbar": {
             "outlinewidth": 0,
             "ticks": ""
            },
            "colorscale": [
             [
              0,
              "#0d0887"
             ],
             [
              0.1111111111111111,
              "#46039f"
             ],
             [
              0.2222222222222222,
              "#7201a8"
             ],
             [
              0.3333333333333333,
              "#9c179e"
             ],
             [
              0.4444444444444444,
              "#bd3786"
             ],
             [
              0.5555555555555556,
              "#d8576b"
             ],
             [
              0.6666666666666666,
              "#ed7953"
             ],
             [
              0.7777777777777778,
              "#fb9f3a"
             ],
             [
              0.8888888888888888,
              "#fdca26"
             ],
             [
              1,
              "#f0f921"
             ]
            ],
            "type": "histogram2dcontour"
           }
          ],
          "mesh3d": [
           {
            "colorbar": {
             "outlinewidth": 0,
             "ticks": ""
            },
            "type": "mesh3d"
           }
          ],
          "parcoords": [
           {
            "line": {
             "colorbar": {
              "outlinewidth": 0,
              "ticks": ""
             }
            },
            "type": "parcoords"
           }
          ],
          "pie": [
           {
            "automargin": true,
            "type": "pie"
           }
          ],
          "scatter": [
           {
            "marker": {
             "colorbar": {
              "outlinewidth": 0,
              "ticks": ""
             }
            },
            "type": "scatter"
           }
          ],
          "scatter3d": [
           {
            "line": {
             "colorbar": {
              "outlinewidth": 0,
              "ticks": ""
             }
            },
            "marker": {
             "colorbar": {
              "outlinewidth": 0,
              "ticks": ""
             }
            },
            "type": "scatter3d"
           }
          ],
          "scattercarpet": [
           {
            "marker": {
             "colorbar": {
              "outlinewidth": 0,
              "ticks": ""
             }
            },
            "type": "scattercarpet"
           }
          ],
          "scattergeo": [
           {
            "marker": {
             "colorbar": {
              "outlinewidth": 0,
              "ticks": ""
             }
            },
            "type": "scattergeo"
           }
          ],
          "scattergl": [
           {
            "marker": {
             "colorbar": {
              "outlinewidth": 0,
              "ticks": ""
             }
            },
            "type": "scattergl"
           }
          ],
          "scattermapbox": [
           {
            "marker": {
             "colorbar": {
              "outlinewidth": 0,
              "ticks": ""
             }
            },
            "type": "scattermapbox"
           }
          ],
          "scatterpolar": [
           {
            "marker": {
             "colorbar": {
              "outlinewidth": 0,
              "ticks": ""
             }
            },
            "type": "scatterpolar"
           }
          ],
          "scatterpolargl": [
           {
            "marker": {
             "colorbar": {
              "outlinewidth": 0,
              "ticks": ""
             }
            },
            "type": "scatterpolargl"
           }
          ],
          "scatterternary": [
           {
            "marker": {
             "colorbar": {
              "outlinewidth": 0,
              "ticks": ""
             }
            },
            "type": "scatterternary"
           }
          ],
          "surface": [
           {
            "colorbar": {
             "outlinewidth": 0,
             "ticks": ""
            },
            "colorscale": [
             [
              0,
              "#0d0887"
             ],
             [
              0.1111111111111111,
              "#46039f"
             ],
             [
              0.2222222222222222,
              "#7201a8"
             ],
             [
              0.3333333333333333,
              "#9c179e"
             ],
             [
              0.4444444444444444,
              "#bd3786"
             ],
             [
              0.5555555555555556,
              "#d8576b"
             ],
             [
              0.6666666666666666,
              "#ed7953"
             ],
             [
              0.7777777777777778,
              "#fb9f3a"
             ],
             [
              0.8888888888888888,
              "#fdca26"
             ],
             [
              1,
              "#f0f921"
             ]
            ],
            "type": "surface"
           }
          ],
          "table": [
           {
            "cells": {
             "fill": {
              "color": "#EBF0F8"
             },
             "line": {
              "color": "white"
             }
            },
            "header": {
             "fill": {
              "color": "#C8D4E3"
             },
             "line": {
              "color": "white"
             }
            },
            "type": "table"
           }
          ]
         },
         "layout": {
          "annotationdefaults": {
           "arrowcolor": "#2a3f5f",
           "arrowhead": 0,
           "arrowwidth": 1
          },
          "coloraxis": {
           "colorbar": {
            "outlinewidth": 0,
            "ticks": ""
           }
          },
          "colorscale": {
           "diverging": [
            [
             0,
             "#8e0152"
            ],
            [
             0.1,
             "#c51b7d"
            ],
            [
             0.2,
             "#de77ae"
            ],
            [
             0.3,
             "#f1b6da"
            ],
            [
             0.4,
             "#fde0ef"
            ],
            [
             0.5,
             "#f7f7f7"
            ],
            [
             0.6,
             "#e6f5d0"
            ],
            [
             0.7,
             "#b8e186"
            ],
            [
             0.8,
             "#7fbc41"
            ],
            [
             0.9,
             "#4d9221"
            ],
            [
             1,
             "#276419"
            ]
           ],
           "sequential": [
            [
             0,
             "#0d0887"
            ],
            [
             0.1111111111111111,
             "#46039f"
            ],
            [
             0.2222222222222222,
             "#7201a8"
            ],
            [
             0.3333333333333333,
             "#9c179e"
            ],
            [
             0.4444444444444444,
             "#bd3786"
            ],
            [
             0.5555555555555556,
             "#d8576b"
            ],
            [
             0.6666666666666666,
             "#ed7953"
            ],
            [
             0.7777777777777778,
             "#fb9f3a"
            ],
            [
             0.8888888888888888,
             "#fdca26"
            ],
            [
             1,
             "#f0f921"
            ]
           ],
           "sequentialminus": [
            [
             0,
             "#0d0887"
            ],
            [
             0.1111111111111111,
             "#46039f"
            ],
            [
             0.2222222222222222,
             "#7201a8"
            ],
            [
             0.3333333333333333,
             "#9c179e"
            ],
            [
             0.4444444444444444,
             "#bd3786"
            ],
            [
             0.5555555555555556,
             "#d8576b"
            ],
            [
             0.6666666666666666,
             "#ed7953"
            ],
            [
             0.7777777777777778,
             "#fb9f3a"
            ],
            [
             0.8888888888888888,
             "#fdca26"
            ],
            [
             1,
             "#f0f921"
            ]
           ]
          },
          "colorway": [
           "#636efa",
           "#EF553B",
           "#00cc96",
           "#ab63fa",
           "#FFA15A",
           "#19d3f3",
           "#FF6692",
           "#B6E880",
           "#FF97FF",
           "#FECB52"
          ],
          "font": {
           "color": "#2a3f5f"
          },
          "geo": {
           "bgcolor": "white",
           "lakecolor": "white",
           "landcolor": "#E5ECF6",
           "showlakes": true,
           "showland": true,
           "subunitcolor": "white"
          },
          "hoverlabel": {
           "align": "left"
          },
          "hovermode": "closest",
          "mapbox": {
           "style": "light"
          },
          "paper_bgcolor": "white",
          "plot_bgcolor": "#E5ECF6",
          "polar": {
           "angularaxis": {
            "gridcolor": "white",
            "linecolor": "white",
            "ticks": ""
           },
           "bgcolor": "#E5ECF6",
           "radialaxis": {
            "gridcolor": "white",
            "linecolor": "white",
            "ticks": ""
           }
          },
          "scene": {
           "xaxis": {
            "backgroundcolor": "#E5ECF6",
            "gridcolor": "white",
            "gridwidth": 2,
            "linecolor": "white",
            "showbackground": true,
            "ticks": "",
            "zerolinecolor": "white"
           },
           "yaxis": {
            "backgroundcolor": "#E5ECF6",
            "gridcolor": "white",
            "gridwidth": 2,
            "linecolor": "white",
            "showbackground": true,
            "ticks": "",
            "zerolinecolor": "white"
           },
           "zaxis": {
            "backgroundcolor": "#E5ECF6",
            "gridcolor": "white",
            "gridwidth": 2,
            "linecolor": "white",
            "showbackground": true,
            "ticks": "",
            "zerolinecolor": "white"
           }
          },
          "shapedefaults": {
           "line": {
            "color": "#2a3f5f"
           }
          },
          "ternary": {
           "aaxis": {
            "gridcolor": "white",
            "linecolor": "white",
            "ticks": ""
           },
           "baxis": {
            "gridcolor": "white",
            "linecolor": "white",
            "ticks": ""
           },
           "bgcolor": "#E5ECF6",
           "caxis": {
            "gridcolor": "white",
            "linecolor": "white",
            "ticks": ""
           }
          },
          "title": {
           "x": 0.05
          },
          "xaxis": {
           "automargin": true,
           "gridcolor": "white",
           "linecolor": "white",
           "ticks": "",
           "title": {
            "standoff": 15
           },
           "zerolinecolor": "white",
           "zerolinewidth": 2
          },
          "yaxis": {
           "automargin": true,
           "gridcolor": "white",
           "linecolor": "white",
           "ticks": "",
           "title": {
            "standoff": 15
           },
           "zerolinecolor": "white",
           "zerolinewidth": 2
          }
         }
        }
       }
      },
      "text/html": [
       "<div>                            <div id=\"4b137ef7-3923-46c9-8feb-ad9e6e881cdb\" class=\"plotly-graph-div\" style=\"height:525px; width:100%;\"></div>            <script type=\"text/javascript\">                require([\"plotly\"], function(Plotly) {                    window.PLOTLYENV=window.PLOTLYENV || {};                                    if (document.getElementById(\"4b137ef7-3923-46c9-8feb-ad9e6e881cdb\")) {                    Plotly.newPlot(                        \"4b137ef7-3923-46c9-8feb-ad9e6e881cdb\",                        [{\"geo\": \"geo\", \"hovertemplate\": \"Latitude=%{lat}<br>Longitude=%{lon}<br>clusters=%{marker.color}<extra></extra>\", \"lat\": [40.09, 40.13, 40.65, 40.6, 40.59, 40.61, 40.57, 40.56, 40.64, 40.01, 40.01, 40.7, 40.03, 39.97, 40.14, 40.34, 40.34, 40.34, 40.35, 40.65, 40.66, 41.01, 41.01, 40.2, 40.0, 40.38, 40.35, 39.88, 39.96, 39.98, 40.02, 40.88, 40.24, 40.22, 40.24, 40.26, 40.2, 40.2, 40.2, 40.27, 39.94, 39.94, 40.08, 41.21, 41.49, 40.16, 40.09, 40.7, 40.69, 40.68, 40.05, 41.47, 40.27, 40.32, 40.31, 40.14, 40.14, 40.69, 40.72, 39.98, 40.14, 40.15, 40.28, 40.17, 42.07, 42.1, 42.06, 42.05, 42.13, 42.06, 40.03, 40.03, 40.05, 40.04, 40.03, 40.05, 40.45, 40.15, 40.11, 40.1, 39.84, 40.64, 40.62, 39.88, 39.86, 39.88, 40.3, 40.31, 41.14, 39.83, 39.77, 40.33, 40.25, 40.31, 40.28, 40.3, 40.25, 39.97, 39.97, 40.56, 41.23, 40.26, 40.27, 40.29, 40.22, 40.18, 40.09, 40.17, 40.61, 40.62, 40.32, 40.26, 40.1, 40.97, 40.28, 39.86, 40.09, 40.09, 40.08, 40.09, 40.09, 40.09, 40.09, 40.09, 40.51, 40.03, 40.03, 40.07, 40.07, 40.04, 40.08, 40.18, 40.18, 40.18, 40.18, 40.25, 40.29, 40.21, 40.56, 40.96, 40.98, 40.06, 40.13, 40.13, 41.14, 40.31, 40.05, 40.28, 40.27, 40.3, 40.25, 40.25, 40.25, 40.19, 39.92, 40.2, 40.68, 40.68, 40.43, 40.44, 40.24, 40.52, 41.36, 41.1, 41.24, 40.43, 40.36, 40.59, 40.21, 40.14, 40.23, 39.99, 40.13, 40.32, 40.22, 40.23, 40.24, 40.13, 40.04, 39.95, 39.95, 40.03, 39.92, 39.95, 40.04, 40.03, 40.0, 39.95, 39.95, 39.95, 40.01, 39.98, 40.0, 39.95, 39.95, 39.94, 39.94, 40.01, 40.1, 39.95, 39.96, 40.1, 40.08, 39.95, 39.95, 39.95, 39.95, 39.95, 40.05, 39.95, 40.07, 39.95, 39.95, 39.95, 39.95, 39.99, 39.95, 39.95, 40.0, 39.95, 39.96, 40.09, 39.95, 39.88, 39.95, 39.95, 40.5, 40.44, 40.44, 40.44, 40.44, 40.45, 40.43, 40.39, 40.42, 40.5, 40.53, 40.44, 40.46, 40.46, 40.46, 40.55, 40.45, 40.44, 40.4, 40.46, 40.45, 40.34, 40.54, 40.36, 40.46, 40.44, 40.55, 40.52, 40.5, 40.44, 40.44, 40.44, 40.44, 40.53, 40.54, 40.43, 40.44, 40.44, 40.43, 40.44, 40.44, 40.45, 40.44, 40.44, 40.45, 40.21, 40.1, 40.1, 40.11, 40.24, 40.45, 40.46, 40.31, 40.12, 40.21, 40.21, 41.06, 41.41, 41.41, 40.84, 40.8, 40.84, 40.54, 40.54, 40.06, 39.77, 41.06, 40.1, 40.03, 40.02, 40.08, 39.91, 39.91, 40.19, 40.8, 40.79, 40.79, 40.81, 40.26, 40.26, 40.98, 40.57, 40.4, 40.14, 40.57, 40.55, 39.91, 40.81, 39.96, 40.17, 40.52, 40.04, 40.21, 40.22, 40.19, 40.18, 40.06, 40.04, 40.04, 40.07, 39.95, 39.97, 40.0, 39.96, 39.82, 40.41, 40.41, 40.34, 39.9, 40.62, 40.62, 40.63, 40.63, 40.63, 41.24, 41.24, 41.24, 40.14, 40.14, 40.0, 40.0, 40.34, 40.2, 40.24, 39.94, 39.98, 39.96, 39.98, 39.94, 39.98, 39.91], \"legendgroup\": \"\", \"lon\": [-75.09, -75.12, -75.44, -75.47, -75.55, -75.54, -75.56, -75.49, -75.44, -75.29, -75.24, -80.3, -78.49, -78.52, -79.84, -80.05, -80.03, -80.06, -80.05, -75.3, -75.42, -76.45, -76.45, -76.02, -78.24, -80.1, -80.11, -75.4, -75.35, -75.35, -75.32, -79.95, -76.93, -76.93, -76.94, -80.17, -77.18, -77.16, -77.16, -75.24, -77.63, -77.63, -75.16, -79.38, -75.7, -75.48, -75.29, -80.11, -80.08, -80.11, -75.41, -75.64, -75.13, -75.13, -75.13, -75.17, -75.31, -75.27, -75.28, -75.44, -76.59, -75.83, -77.07, -76.16, -80.1, -80.13, -80.09, -80.09, -80.09, -80.1, -75.62, -75.63, -75.66, -75.63, -75.63, -75.66, -80.18, -75.0, -75.21, -75.21, -77.2, -79.94, -80.01, -75.53, -75.54, -75.54, -79.5, -79.58, -80.16, -76.99, -76.96, -76.86, -76.81, -76.81, -76.82, -76.85, -76.83, -75.3, -75.32, -75.34, -80.45, -76.68, -76.65, -76.65, -76.79, -75.13, -75.09, -75.07, -79.18, -79.16, -79.69, -75.09, -75.13, -75.64, -78.85, -75.68, -75.39, -75.39, -75.4, -75.36, -75.36, -75.39, -75.38, -75.37, -75.78, -76.2, -76.22, -76.34, -76.34, -76.34, -76.32, -74.88, -74.91, -74.88, -74.88, -75.29, -79.39, -76.57, -75.41, -76.89, -76.88, -75.65, -76.3, -76.31, -77.46, -76.8, -75.52, -80.08, -80.13, -80.1, -77.03, -77.01, -77.01, -76.98, -75.38, -76.76, -80.3, -80.3, -79.79, -79.77, -75.24, -80.22, -75.68, -75.33, -76.83, -79.7, -74.95, -79.75, -79.57, -77.56, -74.94, -75.39, -75.4, -79.69, -75.25, -75.24, -75.24, -75.45, -75.49, -75.21, -75.15, -75.21, -75.17, -75.19, -75.15, -75.23, -75.23, -75.16, -75.17, -75.17, -75.21, -75.15, -75.15, -75.17, -75.16, -75.16, -75.15, -75.21, -75.02, -75.2, -75.19, -75.01, -75.21, -75.17, -75.16, -75.2, -75.17, -75.17, -75.06, -75.19, -75.01, -75.19, -75.16, -75.16, -75.15, -75.09, -75.17, -75.16, -75.22, -75.16, -75.17, -74.96, -75.17, -75.25, -75.19, -75.17, -80.26, -79.96, -79.96, -79.92, -79.99, -80.01, -79.92, -80.07, -80.05, -80.26, -80.01, -80.0, -79.94, -79.94, -79.92, -80.05, -80.16, -80.15, -80.04, -79.93, -80.16, -80.06, -80.01, -80.05, -79.95, -79.95, -80.02, -79.85, -79.85, -80.0, -80.0, -79.77, -79.99, -80.01, -80.07, -79.81, -80.0, -79.99, -79.98, -79.96, -80.0, -79.93, -80.0, -80.0, -80.18, -77.28, -75.29, -75.29, -75.29, -75.57, -75.36, -75.37, -75.86, -75.14, -75.5, -75.5, -75.32, -75.67, -75.66, -76.83, -76.87, -76.84, -80.18, -80.19, -77.52, -76.67, -80.05, -79.2, -79.12, -79.08, -75.44, -75.35, -75.34, -75.23, -77.86, -77.84, -77.86, -77.91, -75.65, -75.65, -75.2, -79.8, -75.93, -74.96, -75.56, -75.6, -79.76, -77.86, -75.29, -75.04, -79.81, -75.35, -75.1, -75.14, -80.22, -80.23, -78.09, -75.38, -75.37, -75.43, -75.6, -75.58, -75.57, -75.61, -75.87, -79.92, -79.92, -76.0, -75.56, -80.05, -80.09, -80.06, -75.48, -75.48, -75.89, -75.86, -77.0, -75.12, -75.12, -75.27, -75.28, -75.98, -74.86, -74.84, -76.68, -76.73, -76.78, -76.77, -76.69, -76.68, -76.68], \"marker\": {\"color\": [1, 1, 1, 1, 1, 1, 1, 1, 1, 1, 1, 0, 6, 6, 0, 0, 0, 0, 0, 1, 1, 7, 7, 2, 6, 0, 0, 1, 1, 1, 1, 0, 2, 2, 2, 0, 2, 2, 2, 1, 6, 6, 1, 0, 4, 1, 1, 0, 0, 0, 1, 4, 1, 1, 1, 1, 1, 1, 1, 1, 2, 1, 2, 2, 5, 5, 5, 5, 5, 5, 1, 1, 1, 1, 1, 1, 0, 1, 1, 1, 2, 0, 0, 1, 1, 1, 0, 0, 0, 2, 2, 2, 2, 2, 2, 2, 2, 1, 1, 1, 0, 2, 2, 2, 2, 1, 1, 1, 0, 0, 0, 1, 1, 1, 0, 1, 1, 1, 1, 1, 1, 1, 1, 1, 2, 2, 2, 2, 2, 2, 2, 1, 1, 1, 1, 1, 0, 2, 1, 7, 7, 1, 2, 2, 3, 2, 1, 0, 0, 0, 2, 2, 2, 2, 1, 2, 0, 0, 0, 0, 1, 0, 4, 1, 7, 0, 1, 0, 0, 6, 1, 1, 1, 0, 1, 1, 1, 1, 1, 1, 1, 1, 1, 1, 1, 1, 1, 1, 1, 1, 1, 1, 1, 1, 1, 1, 1, 1, 1, 1, 1, 1, 1, 1, 1, 1, 1, 1, 1, 1, 1, 1, 1, 1, 1, 1, 1, 1, 1, 1, 1, 1, 1, 1, 1, 1, 0, 0, 0, 0, 0, 0, 0, 0, 0, 0, 0, 0, 0, 0, 0, 0, 0, 0, 0, 0, 0, 0, 0, 0, 0, 0, 0, 0, 0, 0, 0, 0, 0, 0, 0, 0, 0, 0, 0, 0, 0, 0, 0, 0, 0, 2, 1, 1, 1, 1, 1, 1, 2, 1, 1, 1, 1, 4, 4, 7, 7, 7, 0, 0, 6, 2, 0, 0, 0, 0, 1, 1, 1, 1, 3, 3, 3, 3, 1, 1, 1, 0, 2, 1, 1, 1, 0, 3, 1, 1, 0, 1, 1, 1, 0, 0, 6, 1, 1, 1, 1, 1, 1, 1, 1, 0, 0, 2, 1, 0, 0, 0, 1, 1, 4, 4, 7, 1, 1, 1, 1, 2, 1, 1, 2, 2, 2, 2, 2, 2, 2], \"coloraxis\": \"coloraxis\"}, \"name\": \"\", \"showlegend\": false, \"type\": \"scattergeo\"}],                        {\"coloraxis\": {\"colorbar\": {\"title\": {\"text\": \"clusters\"}}, \"colorscale\": [[0.0, \"#0d0887\"], [0.1111111111111111, \"#46039f\"], [0.2222222222222222, \"#7201a8\"], [0.3333333333333333, \"#9c179e\"], [0.4444444444444444, \"#bd3786\"], [0.5555555555555556, \"#d8576b\"], [0.6666666666666666, \"#ed7953\"], [0.7777777777777778, \"#fb9f3a\"], [0.8888888888888888, \"#fdca26\"], [1.0, \"#f0f921\"]]}, \"geo\": {\"center\": {\"lat\": 40.79, \"lon\": -77.84}, \"domain\": {\"x\": [0.0, 1.0], \"y\": [0.0, 1.0]}, \"projection\": {\"scale\": 8, \"type\": \"albers usa\"}, \"scope\": \"usa\"}, \"legend\": {\"tracegroupgap\": 0}, \"margin\": {\"t\": 60}, \"template\": {\"data\": {\"bar\": [{\"error_x\": {\"color\": \"#2a3f5f\"}, \"error_y\": {\"color\": \"#2a3f5f\"}, \"marker\": {\"line\": {\"color\": \"#E5ECF6\", \"width\": 0.5}}, \"type\": \"bar\"}], \"barpolar\": [{\"marker\": {\"line\": {\"color\": \"#E5ECF6\", \"width\": 0.5}}, \"type\": \"barpolar\"}], \"carpet\": [{\"aaxis\": {\"endlinecolor\": \"#2a3f5f\", \"gridcolor\": \"white\", \"linecolor\": \"white\", \"minorgridcolor\": \"white\", \"startlinecolor\": \"#2a3f5f\"}, \"baxis\": {\"endlinecolor\": \"#2a3f5f\", \"gridcolor\": \"white\", \"linecolor\": \"white\", \"minorgridcolor\": \"white\", \"startlinecolor\": \"#2a3f5f\"}, \"type\": \"carpet\"}], \"choropleth\": [{\"colorbar\": {\"outlinewidth\": 0, \"ticks\": \"\"}, \"type\": \"choropleth\"}], \"contour\": [{\"colorbar\": {\"outlinewidth\": 0, \"ticks\": \"\"}, \"colorscale\": [[0.0, \"#0d0887\"], [0.1111111111111111, \"#46039f\"], [0.2222222222222222, \"#7201a8\"], [0.3333333333333333, \"#9c179e\"], [0.4444444444444444, \"#bd3786\"], [0.5555555555555556, \"#d8576b\"], [0.6666666666666666, \"#ed7953\"], [0.7777777777777778, \"#fb9f3a\"], [0.8888888888888888, \"#fdca26\"], [1.0, \"#f0f921\"]], \"type\": \"contour\"}], \"contourcarpet\": [{\"colorbar\": {\"outlinewidth\": 0, \"ticks\": \"\"}, \"type\": \"contourcarpet\"}], \"heatmap\": [{\"colorbar\": {\"outlinewidth\": 0, \"ticks\": \"\"}, \"colorscale\": [[0.0, \"#0d0887\"], [0.1111111111111111, \"#46039f\"], [0.2222222222222222, \"#7201a8\"], [0.3333333333333333, \"#9c179e\"], [0.4444444444444444, \"#bd3786\"], [0.5555555555555556, \"#d8576b\"], [0.6666666666666666, \"#ed7953\"], [0.7777777777777778, \"#fb9f3a\"], [0.8888888888888888, \"#fdca26\"], [1.0, \"#f0f921\"]], \"type\": \"heatmap\"}], \"heatmapgl\": [{\"colorbar\": {\"outlinewidth\": 0, \"ticks\": \"\"}, \"colorscale\": [[0.0, \"#0d0887\"], [0.1111111111111111, \"#46039f\"], [0.2222222222222222, \"#7201a8\"], [0.3333333333333333, \"#9c179e\"], [0.4444444444444444, \"#bd3786\"], [0.5555555555555556, \"#d8576b\"], [0.6666666666666666, \"#ed7953\"], [0.7777777777777778, \"#fb9f3a\"], [0.8888888888888888, \"#fdca26\"], [1.0, \"#f0f921\"]], \"type\": \"heatmapgl\"}], \"histogram\": [{\"marker\": {\"colorbar\": {\"outlinewidth\": 0, \"ticks\": \"\"}}, \"type\": \"histogram\"}], \"histogram2d\": [{\"colorbar\": {\"outlinewidth\": 0, \"ticks\": \"\"}, \"colorscale\": [[0.0, \"#0d0887\"], [0.1111111111111111, \"#46039f\"], [0.2222222222222222, \"#7201a8\"], [0.3333333333333333, \"#9c179e\"], [0.4444444444444444, \"#bd3786\"], [0.5555555555555556, \"#d8576b\"], [0.6666666666666666, \"#ed7953\"], [0.7777777777777778, \"#fb9f3a\"], [0.8888888888888888, \"#fdca26\"], [1.0, \"#f0f921\"]], \"type\": \"histogram2d\"}], \"histogram2dcontour\": [{\"colorbar\": {\"outlinewidth\": 0, \"ticks\": \"\"}, \"colorscale\": [[0.0, \"#0d0887\"], [0.1111111111111111, \"#46039f\"], [0.2222222222222222, \"#7201a8\"], [0.3333333333333333, \"#9c179e\"], [0.4444444444444444, \"#bd3786\"], [0.5555555555555556, \"#d8576b\"], [0.6666666666666666, \"#ed7953\"], [0.7777777777777778, \"#fb9f3a\"], [0.8888888888888888, \"#fdca26\"], [1.0, \"#f0f921\"]], \"type\": \"histogram2dcontour\"}], \"mesh3d\": [{\"colorbar\": {\"outlinewidth\": 0, \"ticks\": \"\"}, \"type\": \"mesh3d\"}], \"parcoords\": [{\"line\": {\"colorbar\": {\"outlinewidth\": 0, \"ticks\": \"\"}}, \"type\": \"parcoords\"}], \"pie\": [{\"automargin\": true, \"type\": \"pie\"}], \"scatter\": [{\"marker\": {\"colorbar\": {\"outlinewidth\": 0, \"ticks\": \"\"}}, \"type\": \"scatter\"}], \"scatter3d\": [{\"line\": {\"colorbar\": {\"outlinewidth\": 0, \"ticks\": \"\"}}, \"marker\": {\"colorbar\": {\"outlinewidth\": 0, \"ticks\": \"\"}}, \"type\": \"scatter3d\"}], \"scattercarpet\": [{\"marker\": {\"colorbar\": {\"outlinewidth\": 0, \"ticks\": \"\"}}, \"type\": \"scattercarpet\"}], \"scattergeo\": [{\"marker\": {\"colorbar\": {\"outlinewidth\": 0, \"ticks\": \"\"}}, \"type\": \"scattergeo\"}], \"scattergl\": [{\"marker\": {\"colorbar\": {\"outlinewidth\": 0, \"ticks\": \"\"}}, \"type\": \"scattergl\"}], \"scattermapbox\": [{\"marker\": {\"colorbar\": {\"outlinewidth\": 0, \"ticks\": \"\"}}, \"type\": \"scattermapbox\"}], \"scatterpolar\": [{\"marker\": {\"colorbar\": {\"outlinewidth\": 0, \"ticks\": \"\"}}, \"type\": \"scatterpolar\"}], \"scatterpolargl\": [{\"marker\": {\"colorbar\": {\"outlinewidth\": 0, \"ticks\": \"\"}}, \"type\": \"scatterpolargl\"}], \"scatterternary\": [{\"marker\": {\"colorbar\": {\"outlinewidth\": 0, \"ticks\": \"\"}}, \"type\": \"scatterternary\"}], \"surface\": [{\"colorbar\": {\"outlinewidth\": 0, \"ticks\": \"\"}, \"colorscale\": [[0.0, \"#0d0887\"], [0.1111111111111111, \"#46039f\"], [0.2222222222222222, \"#7201a8\"], [0.3333333333333333, \"#9c179e\"], [0.4444444444444444, \"#bd3786\"], [0.5555555555555556, \"#d8576b\"], [0.6666666666666666, \"#ed7953\"], [0.7777777777777778, \"#fb9f3a\"], [0.8888888888888888, \"#fdca26\"], [1.0, \"#f0f921\"]], \"type\": \"surface\"}], \"table\": [{\"cells\": {\"fill\": {\"color\": \"#EBF0F8\"}, \"line\": {\"color\": \"white\"}}, \"header\": {\"fill\": {\"color\": \"#C8D4E3\"}, \"line\": {\"color\": \"white\"}}, \"type\": \"table\"}]}, \"layout\": {\"annotationdefaults\": {\"arrowcolor\": \"#2a3f5f\", \"arrowhead\": 0, \"arrowwidth\": 1}, \"coloraxis\": {\"colorbar\": {\"outlinewidth\": 0, \"ticks\": \"\"}}, \"colorscale\": {\"diverging\": [[0, \"#8e0152\"], [0.1, \"#c51b7d\"], [0.2, \"#de77ae\"], [0.3, \"#f1b6da\"], [0.4, \"#fde0ef\"], [0.5, \"#f7f7f7\"], [0.6, \"#e6f5d0\"], [0.7, \"#b8e186\"], [0.8, \"#7fbc41\"], [0.9, \"#4d9221\"], [1, \"#276419\"]], \"sequential\": [[0.0, \"#0d0887\"], [0.1111111111111111, \"#46039f\"], [0.2222222222222222, \"#7201a8\"], [0.3333333333333333, \"#9c179e\"], [0.4444444444444444, \"#bd3786\"], [0.5555555555555556, \"#d8576b\"], [0.6666666666666666, \"#ed7953\"], [0.7777777777777778, \"#fb9f3a\"], [0.8888888888888888, \"#fdca26\"], [1.0, \"#f0f921\"]], \"sequentialminus\": [[0.0, \"#0d0887\"], [0.1111111111111111, \"#46039f\"], [0.2222222222222222, \"#7201a8\"], [0.3333333333333333, \"#9c179e\"], [0.4444444444444444, \"#bd3786\"], [0.5555555555555556, \"#d8576b\"], [0.6666666666666666, \"#ed7953\"], [0.7777777777777778, \"#fb9f3a\"], [0.8888888888888888, \"#fdca26\"], [1.0, \"#f0f921\"]]}, \"colorway\": [\"#636efa\", \"#EF553B\", \"#00cc96\", \"#ab63fa\", \"#FFA15A\", \"#19d3f3\", \"#FF6692\", \"#B6E880\", \"#FF97FF\", \"#FECB52\"], \"font\": {\"color\": \"#2a3f5f\"}, \"geo\": {\"bgcolor\": \"white\", \"lakecolor\": \"white\", \"landcolor\": \"#E5ECF6\", \"showlakes\": true, \"showland\": true, \"subunitcolor\": \"white\"}, \"hoverlabel\": {\"align\": \"left\"}, \"hovermode\": \"closest\", \"mapbox\": {\"style\": \"light\"}, \"paper_bgcolor\": \"white\", \"plot_bgcolor\": \"#E5ECF6\", \"polar\": {\"angularaxis\": {\"gridcolor\": \"white\", \"linecolor\": \"white\", \"ticks\": \"\"}, \"bgcolor\": \"#E5ECF6\", \"radialaxis\": {\"gridcolor\": \"white\", \"linecolor\": \"white\", \"ticks\": \"\"}}, \"scene\": {\"xaxis\": {\"backgroundcolor\": \"#E5ECF6\", \"gridcolor\": \"white\", \"gridwidth\": 2, \"linecolor\": \"white\", \"showbackground\": true, \"ticks\": \"\", \"zerolinecolor\": \"white\"}, \"yaxis\": {\"backgroundcolor\": \"#E5ECF6\", \"gridcolor\": \"white\", \"gridwidth\": 2, \"linecolor\": \"white\", \"showbackground\": true, \"ticks\": \"\", \"zerolinecolor\": \"white\"}, \"zaxis\": {\"backgroundcolor\": \"#E5ECF6\", \"gridcolor\": \"white\", \"gridwidth\": 2, \"linecolor\": \"white\", \"showbackground\": true, \"ticks\": \"\", \"zerolinecolor\": \"white\"}}, \"shapedefaults\": {\"line\": {\"color\": \"#2a3f5f\"}}, \"ternary\": {\"aaxis\": {\"gridcolor\": \"white\", \"linecolor\": \"white\", \"ticks\": \"\"}, \"baxis\": {\"gridcolor\": \"white\", \"linecolor\": \"white\", \"ticks\": \"\"}, \"bgcolor\": \"#E5ECF6\", \"caxis\": {\"gridcolor\": \"white\", \"linecolor\": \"white\", \"ticks\": \"\"}}, \"title\": {\"x\": 0.05}, \"xaxis\": {\"automargin\": true, \"gridcolor\": \"white\", \"linecolor\": \"white\", \"ticks\": \"\", \"title\": {\"standoff\": 15}, \"zerolinecolor\": \"white\", \"zerolinewidth\": 2}, \"yaxis\": {\"automargin\": true, \"gridcolor\": \"white\", \"linecolor\": \"white\", \"ticks\": \"\", \"title\": {\"standoff\": 15}, \"zerolinecolor\": \"white\", \"zerolinewidth\": 2}}}},                        {\"responsive\": true}                    ).then(function(){\n",
       "                            \n",
       "var gd = document.getElementById('4b137ef7-3923-46c9-8feb-ad9e6e881cdb');\n",
       "var x = new MutationObserver(function (mutations, observer) {{\n",
       "        var display = window.getComputedStyle(gd).display;\n",
       "        if (!display || display === 'none') {{\n",
       "            console.log([gd, 'removed!']);\n",
       "            Plotly.purge(gd);\n",
       "            observer.disconnect();\n",
       "        }}\n",
       "}});\n",
       "\n",
       "// Listen for the removal of the full notebook cells\n",
       "var notebookContainer = gd.closest('#notebook-container');\n",
       "if (notebookContainer) {{\n",
       "    x.observe(notebookContainer, {childList: true});\n",
       "}}\n",
       "\n",
       "// Listen for the clearing of the current output cell\n",
       "var outputEl = gd.closest('.output');\n",
       "if (outputEl) {{\n",
       "    x.observe(outputEl, {childList: true});\n",
       "}}\n",
       "\n",
       "                        })                };                });            </script>        </div>"
      ]
     },
     "metadata": {},
     "output_type": "display_data"
    },
    {
     "data": {
      "application/javascript": [
       "\n",
       "            setTimeout(function() {\n",
       "                var nbb_cell_id = 17;\n",
       "                var nbb_unformatted_code = \"starbucks_pa_df = state_cluster(\\\"PA\\\", starbucks_df, n_clusters=8, dendrogram=False)\\n\\nfig = px.scatter_geo(\\n    data_frame=starbucks_pa_df,\\n    scope=\\\"usa\\\",\\n    color=\\\"clusters\\\",\\n    lat=\\\"Latitude\\\",\\n    lon=\\\"Longitude\\\",\\n    projection=\\\"albers usa\\\",\\n)\\n\\nlat_center = 40.79\\nlon_center = -77.84\\nfig.update_layout(\\n    geo={\\\"projection_scale\\\": 8, \\\"center\\\": {\\\"lat\\\": lat_center, \\\"lon\\\": lon_center}}\\n)\";\n",
       "                var nbb_formatted_code = \"starbucks_pa_df = state_cluster(\\\"PA\\\", starbucks_df, n_clusters=8, dendrogram=False)\\n\\nfig = px.scatter_geo(\\n    data_frame=starbucks_pa_df,\\n    scope=\\\"usa\\\",\\n    color=\\\"clusters\\\",\\n    lat=\\\"Latitude\\\",\\n    lon=\\\"Longitude\\\",\\n    projection=\\\"albers usa\\\",\\n)\\n\\nlat_center = 40.79\\nlon_center = -77.84\\nfig.update_layout(\\n    geo={\\\"projection_scale\\\": 8, \\\"center\\\": {\\\"lat\\\": lat_center, \\\"lon\\\": lon_center}}\\n)\";\n",
       "                var nbb_cells = Jupyter.notebook.get_cells();\n",
       "                for (var i = 0; i < nbb_cells.length; ++i) {\n",
       "                    if (nbb_cells[i].input_prompt_number == nbb_cell_id) {\n",
       "                        if (nbb_cells[i].get_text() == nbb_unformatted_code) {\n",
       "                             nbb_cells[i].set_text(nbb_formatted_code);\n",
       "                        }\n",
       "                        break;\n",
       "                    }\n",
       "                }\n",
       "            }, 500);\n",
       "            "
      ],
      "text/plain": [
       "<IPython.core.display.Javascript object>"
      ]
     },
     "metadata": {},
     "output_type": "display_data"
    }
   ],
   "source": [
    "starbucks_pa_df = state_cluster(\"PA\", starbucks_df, n_clusters=8, dendrogram=False)\n",
    "\n",
    "fig = px.scatter_geo(\n",
    "    data_frame=starbucks_pa_df,\n",
    "    scope=\"usa\",\n",
    "    color=\"clusters\",\n",
    "    lat=\"Latitude\",\n",
    "    lon=\"Longitude\",\n",
    "    projection=\"albers usa\",\n",
    ")\n",
    "\n",
    "lat_center = 40.79\n",
    "lon_center = -77.84\n",
    "fig.update_layout(\n",
    "    geo={\"projection_scale\": 8, \"center\": {\"lat\": lat_center, \"lon\": lon_center}}\n",
    ")"
   ]
  },
  {
   "cell_type": "code",
   "execution_count": 18,
   "metadata": {},
   "outputs": [
    {
     "data": {
      "application/vnd.plotly.v1+json": {
       "config": {
        "plotlyServerURL": "https://plot.ly"
       },
       "data": [
        {
         "geo": "geo",
         "hovertemplate": "Latitude=%{lat}<br>Longitude=%{lon}<br>clusters=%{marker.color}<extra></extra>",
         "lat": [
          40.09,
          40.13,
          40.65,
          40.6,
          40.59,
          40.61,
          40.57,
          40.56,
          40.64,
          40.01,
          40.01,
          40.7,
          40.03,
          39.97,
          40.14,
          40.34,
          40.34,
          40.34,
          40.35,
          40.65,
          40.66,
          41.01,
          41.01,
          40.2,
          40,
          40.38,
          40.35,
          39.88,
          39.96,
          39.98,
          40.02,
          40.88,
          40.24,
          40.22,
          40.24,
          40.26,
          40.2,
          40.2,
          40.2,
          40.27,
          39.94,
          39.94,
          40.08,
          41.21,
          41.49,
          40.16,
          40.09,
          40.7,
          40.69,
          40.68,
          40.05,
          41.47,
          40.27,
          40.32,
          40.31,
          40.14,
          40.14,
          40.69,
          40.72,
          39.98,
          40.14,
          40.15,
          40.28,
          40.17,
          42.07,
          42.1,
          42.06,
          42.05,
          42.13,
          42.06,
          40.03,
          40.03,
          40.05,
          40.04,
          40.03,
          40.05,
          40.45,
          40.15,
          40.11,
          40.1,
          39.84,
          40.64,
          40.62,
          39.88,
          39.86,
          39.88,
          40.3,
          40.31,
          41.14,
          39.83,
          39.77,
          40.33,
          40.25,
          40.31,
          40.28,
          40.3,
          40.25,
          39.97,
          39.97,
          40.56,
          41.23,
          40.26,
          40.27,
          40.29,
          40.22,
          40.18,
          40.09,
          40.17,
          40.61,
          40.62,
          40.32,
          40.26,
          40.1,
          40.97,
          40.28,
          39.86,
          40.09,
          40.09,
          40.08,
          40.09,
          40.09,
          40.09,
          40.09,
          40.09,
          40.51,
          40.03,
          40.03,
          40.07,
          40.07,
          40.04,
          40.08,
          40.18,
          40.18,
          40.18,
          40.18,
          40.25,
          40.29,
          40.21,
          40.56,
          40.96,
          40.98,
          40.06,
          40.13,
          40.13,
          41.14,
          40.31,
          40.05,
          40.28,
          40.27,
          40.3,
          40.25,
          40.25,
          40.25,
          40.19,
          39.92,
          40.2,
          40.68,
          40.68,
          40.43,
          40.44,
          40.24,
          40.52,
          41.36,
          41.1,
          41.24,
          40.43,
          40.36,
          40.59,
          40.21,
          40.14,
          40.23,
          39.99,
          40.13,
          40.32,
          40.22,
          40.23,
          40.24,
          40.13,
          40.04,
          39.95,
          39.95,
          40.03,
          39.92,
          39.95,
          40.04,
          40.03,
          40,
          39.95,
          39.95,
          39.95,
          40.01,
          39.98,
          40,
          39.95,
          39.95,
          39.94,
          39.94,
          40.01,
          40.1,
          39.95,
          39.96,
          40.1,
          40.08,
          39.95,
          39.95,
          39.95,
          39.95,
          39.95,
          40.05,
          39.95,
          40.07,
          39.95,
          39.95,
          39.95,
          39.95,
          39.99,
          39.95,
          39.95,
          40,
          39.95,
          39.96,
          40.09,
          39.95,
          39.88,
          39.95,
          39.95,
          40.5,
          40.44,
          40.44,
          40.44,
          40.44,
          40.45,
          40.43,
          40.39,
          40.42,
          40.5,
          40.53,
          40.44,
          40.46,
          40.46,
          40.46,
          40.55,
          40.45,
          40.44,
          40.4,
          40.46,
          40.45,
          40.34,
          40.54,
          40.36,
          40.46,
          40.44,
          40.55,
          40.52,
          40.5,
          40.44,
          40.44,
          40.44,
          40.44,
          40.53,
          40.54,
          40.43,
          40.44,
          40.44,
          40.43,
          40.44,
          40.44,
          40.45,
          40.44,
          40.44,
          40.45,
          40.21,
          40.1,
          40.1,
          40.11,
          40.24,
          40.45,
          40.46,
          40.31,
          40.12,
          40.21,
          40.21,
          41.06,
          41.41,
          41.41,
          40.84,
          40.8,
          40.84,
          40.54,
          40.54,
          40.06,
          39.77,
          41.06,
          40.1,
          40.03,
          40.02,
          40.08,
          39.91,
          39.91,
          40.19,
          40.8,
          40.79,
          40.79,
          40.81,
          40.26,
          40.26,
          40.98,
          40.57,
          40.4,
          40.14,
          40.57,
          40.55,
          39.91,
          40.81,
          39.96,
          40.17,
          40.52,
          40.04,
          40.21,
          40.22,
          40.19,
          40.18,
          40.06,
          40.04,
          40.04,
          40.07,
          39.95,
          39.97,
          40,
          39.96,
          39.82,
          40.41,
          40.41,
          40.34,
          39.9,
          40.62,
          40.62,
          40.63,
          40.63,
          40.63,
          41.24,
          41.24,
          41.24,
          40.14,
          40.14,
          40,
          40,
          40.34,
          40.2,
          40.24,
          39.94,
          39.98,
          39.96,
          39.98,
          39.94,
          39.98,
          39.91
         ],
         "legendgroup": "",
         "lon": [
          -75.09,
          -75.12,
          -75.44,
          -75.47,
          -75.55,
          -75.54,
          -75.56,
          -75.49,
          -75.44,
          -75.29,
          -75.24,
          -80.3,
          -78.49,
          -78.52,
          -79.84,
          -80.05,
          -80.03,
          -80.06,
          -80.05,
          -75.3,
          -75.42,
          -76.45,
          -76.45,
          -76.02,
          -78.24,
          -80.1,
          -80.11,
          -75.4,
          -75.35,
          -75.35,
          -75.32,
          -79.95,
          -76.93,
          -76.93,
          -76.94,
          -80.17,
          -77.18,
          -77.16,
          -77.16,
          -75.24,
          -77.63,
          -77.63,
          -75.16,
          -79.38,
          -75.7,
          -75.48,
          -75.29,
          -80.11,
          -80.08,
          -80.11,
          -75.41,
          -75.64,
          -75.13,
          -75.13,
          -75.13,
          -75.17,
          -75.31,
          -75.27,
          -75.28,
          -75.44,
          -76.59,
          -75.83,
          -77.07,
          -76.16,
          -80.1,
          -80.13,
          -80.09,
          -80.09,
          -80.09,
          -80.1,
          -75.62,
          -75.63,
          -75.66,
          -75.63,
          -75.63,
          -75.66,
          -80.18,
          -75,
          -75.21,
          -75.21,
          -77.2,
          -79.94,
          -80.01,
          -75.53,
          -75.54,
          -75.54,
          -79.5,
          -79.58,
          -80.16,
          -76.99,
          -76.96,
          -76.86,
          -76.81,
          -76.81,
          -76.82,
          -76.85,
          -76.83,
          -75.3,
          -75.32,
          -75.34,
          -80.45,
          -76.68,
          -76.65,
          -76.65,
          -76.79,
          -75.13,
          -75.09,
          -75.07,
          -79.18,
          -79.16,
          -79.69,
          -75.09,
          -75.13,
          -75.64,
          -78.85,
          -75.68,
          -75.39,
          -75.39,
          -75.4,
          -75.36,
          -75.36,
          -75.39,
          -75.38,
          -75.37,
          -75.78,
          -76.2,
          -76.22,
          -76.34,
          -76.34,
          -76.34,
          -76.32,
          -74.88,
          -74.91,
          -74.88,
          -74.88,
          -75.29,
          -79.39,
          -76.57,
          -75.41,
          -76.89,
          -76.88,
          -75.65,
          -76.3,
          -76.31,
          -77.46,
          -76.8,
          -75.52,
          -80.08,
          -80.13,
          -80.1,
          -77.03,
          -77.01,
          -77.01,
          -76.98,
          -75.38,
          -76.76,
          -80.3,
          -80.3,
          -79.79,
          -79.77,
          -75.24,
          -80.22,
          -75.68,
          -75.33,
          -76.83,
          -79.7,
          -74.95,
          -79.75,
          -79.57,
          -77.56,
          -74.94,
          -75.39,
          -75.4,
          -79.69,
          -75.25,
          -75.24,
          -75.24,
          -75.45,
          -75.49,
          -75.21,
          -75.15,
          -75.21,
          -75.17,
          -75.19,
          -75.15,
          -75.23,
          -75.23,
          -75.16,
          -75.17,
          -75.17,
          -75.21,
          -75.15,
          -75.15,
          -75.17,
          -75.16,
          -75.16,
          -75.15,
          -75.21,
          -75.02,
          -75.2,
          -75.19,
          -75.01,
          -75.21,
          -75.17,
          -75.16,
          -75.2,
          -75.17,
          -75.17,
          -75.06,
          -75.19,
          -75.01,
          -75.19,
          -75.16,
          -75.16,
          -75.15,
          -75.09,
          -75.17,
          -75.16,
          -75.22,
          -75.16,
          -75.17,
          -74.96,
          -75.17,
          -75.25,
          -75.19,
          -75.17,
          -80.26,
          -79.96,
          -79.96,
          -79.92,
          -79.99,
          -80.01,
          -79.92,
          -80.07,
          -80.05,
          -80.26,
          -80.01,
          -80,
          -79.94,
          -79.94,
          -79.92,
          -80.05,
          -80.16,
          -80.15,
          -80.04,
          -79.93,
          -80.16,
          -80.06,
          -80.01,
          -80.05,
          -79.95,
          -79.95,
          -80.02,
          -79.85,
          -79.85,
          -80,
          -80,
          -79.77,
          -79.99,
          -80.01,
          -80.07,
          -79.81,
          -80,
          -79.99,
          -79.98,
          -79.96,
          -80,
          -79.93,
          -80,
          -80,
          -80.18,
          -77.28,
          -75.29,
          -75.29,
          -75.29,
          -75.57,
          -75.36,
          -75.37,
          -75.86,
          -75.14,
          -75.5,
          -75.5,
          -75.32,
          -75.67,
          -75.66,
          -76.83,
          -76.87,
          -76.84,
          -80.18,
          -80.19,
          -77.52,
          -76.67,
          -80.05,
          -79.2,
          -79.12,
          -79.08,
          -75.44,
          -75.35,
          -75.34,
          -75.23,
          -77.86,
          -77.84,
          -77.86,
          -77.91,
          -75.65,
          -75.65,
          -75.2,
          -79.8,
          -75.93,
          -74.96,
          -75.56,
          -75.6,
          -79.76,
          -77.86,
          -75.29,
          -75.04,
          -79.81,
          -75.35,
          -75.1,
          -75.14,
          -80.22,
          -80.23,
          -78.09,
          -75.38,
          -75.37,
          -75.43,
          -75.6,
          -75.58,
          -75.57,
          -75.61,
          -75.87,
          -79.92,
          -79.92,
          -76,
          -75.56,
          -80.05,
          -80.09,
          -80.06,
          -75.48,
          -75.48,
          -75.89,
          -75.86,
          -77,
          -75.12,
          -75.12,
          -75.27,
          -75.28,
          -75.98,
          -74.86,
          -74.84,
          -76.68,
          -76.73,
          -76.78,
          -76.77,
          -76.69,
          -76.68,
          -76.68
         ],
         "marker": {
          "color": [
           0,
           0,
           0,
           0,
           0,
           0,
           0,
           0,
           0,
           0,
           0,
           4,
           6,
           6,
           4,
           4,
           4,
           4,
           4,
           0,
           0,
           7,
           7,
           2,
           6,
           4,
           4,
           0,
           0,
           0,
           0,
           1,
           2,
           2,
           2,
           4,
           2,
           2,
           2,
           0,
           6,
           6,
           0,
           1,
           9,
           0,
           0,
           4,
           4,
           4,
           0,
           9,
           0,
           0,
           0,
           0,
           0,
           0,
           0,
           0,
           2,
           0,
           2,
           2,
           5,
           5,
           5,
           5,
           5,
           5,
           0,
           0,
           0,
           0,
           0,
           0,
           4,
           0,
           0,
           0,
           2,
           4,
           4,
           0,
           0,
           0,
           4,
           4,
           1,
           2,
           2,
           2,
           2,
           2,
           2,
           2,
           2,
           0,
           0,
           0,
           1,
           2,
           2,
           2,
           2,
           0,
           0,
           0,
           3,
           3,
           4,
           0,
           0,
           0,
           3,
           0,
           0,
           0,
           0,
           0,
           0,
           0,
           0,
           0,
           2,
           2,
           2,
           2,
           2,
           2,
           2,
           0,
           0,
           0,
           0,
           0,
           4,
           2,
           0,
           7,
           7,
           0,
           2,
           2,
           8,
           2,
           0,
           4,
           4,
           4,
           2,
           2,
           2,
           2,
           0,
           2,
           4,
           4,
           4,
           4,
           0,
           4,
           9,
           0,
           7,
           4,
           0,
           4,
           4,
           6,
           0,
           0,
           0,
           4,
           0,
           0,
           0,
           0,
           0,
           0,
           0,
           0,
           0,
           0,
           0,
           0,
           0,
           0,
           0,
           0,
           0,
           0,
           0,
           0,
           0,
           0,
           0,
           0,
           0,
           0,
           0,
           0,
           0,
           0,
           0,
           0,
           0,
           0,
           0,
           0,
           0,
           0,
           0,
           0,
           0,
           0,
           0,
           0,
           0,
           0,
           0,
           0,
           0,
           0,
           0,
           0,
           4,
           4,
           4,
           4,
           4,
           4,
           4,
           4,
           4,
           4,
           4,
           4,
           4,
           4,
           4,
           4,
           4,
           4,
           4,
           4,
           4,
           4,
           4,
           4,
           4,
           4,
           4,
           4,
           4,
           4,
           4,
           4,
           4,
           4,
           4,
           4,
           4,
           4,
           4,
           4,
           4,
           4,
           4,
           4,
           4,
           2,
           0,
           0,
           0,
           0,
           0,
           0,
           2,
           0,
           0,
           0,
           0,
           9,
           9,
           7,
           7,
           7,
           4,
           4,
           6,
           2,
           1,
           3,
           3,
           3,
           0,
           0,
           0,
           0,
           8,
           8,
           8,
           8,
           0,
           0,
           0,
           4,
           2,
           0,
           0,
           0,
           4,
           8,
           0,
           0,
           4,
           0,
           0,
           0,
           4,
           4,
           6,
           0,
           0,
           0,
           0,
           0,
           0,
           0,
           0,
           4,
           4,
           2,
           0,
           4,
           4,
           4,
           0,
           0,
           9,
           9,
           7,
           0,
           0,
           0,
           0,
           2,
           0,
           0,
           2,
           2,
           2,
           2,
           2,
           2,
           2
          ],
          "coloraxis": "coloraxis"
         },
         "name": "",
         "showlegend": false,
         "type": "scattergeo"
        }
       ],
       "layout": {
        "coloraxis": {
         "colorbar": {
          "title": {
           "text": "clusters"
          }
         },
         "colorscale": [
          [
           0,
           "#0d0887"
          ],
          [
           0.1111111111111111,
           "#46039f"
          ],
          [
           0.2222222222222222,
           "#7201a8"
          ],
          [
           0.3333333333333333,
           "#9c179e"
          ],
          [
           0.4444444444444444,
           "#bd3786"
          ],
          [
           0.5555555555555556,
           "#d8576b"
          ],
          [
           0.6666666666666666,
           "#ed7953"
          ],
          [
           0.7777777777777778,
           "#fb9f3a"
          ],
          [
           0.8888888888888888,
           "#fdca26"
          ],
          [
           1,
           "#f0f921"
          ]
         ]
        },
        "geo": {
         "center": {
          "lat": 40.79,
          "lon": -77.84
         },
         "domain": {
          "x": [
           0,
           1
          ],
          "y": [
           0,
           1
          ]
         },
         "projection": {
          "scale": 8,
          "type": "albers usa"
         },
         "scope": "usa"
        },
        "legend": {
         "tracegroupgap": 0
        },
        "margin": {
         "t": 60
        },
        "template": {
         "data": {
          "bar": [
           {
            "error_x": {
             "color": "#2a3f5f"
            },
            "error_y": {
             "color": "#2a3f5f"
            },
            "marker": {
             "line": {
              "color": "#E5ECF6",
              "width": 0.5
             }
            },
            "type": "bar"
           }
          ],
          "barpolar": [
           {
            "marker": {
             "line": {
              "color": "#E5ECF6",
              "width": 0.5
             }
            },
            "type": "barpolar"
           }
          ],
          "carpet": [
           {
            "aaxis": {
             "endlinecolor": "#2a3f5f",
             "gridcolor": "white",
             "linecolor": "white",
             "minorgridcolor": "white",
             "startlinecolor": "#2a3f5f"
            },
            "baxis": {
             "endlinecolor": "#2a3f5f",
             "gridcolor": "white",
             "linecolor": "white",
             "minorgridcolor": "white",
             "startlinecolor": "#2a3f5f"
            },
            "type": "carpet"
           }
          ],
          "choropleth": [
           {
            "colorbar": {
             "outlinewidth": 0,
             "ticks": ""
            },
            "type": "choropleth"
           }
          ],
          "contour": [
           {
            "colorbar": {
             "outlinewidth": 0,
             "ticks": ""
            },
            "colorscale": [
             [
              0,
              "#0d0887"
             ],
             [
              0.1111111111111111,
              "#46039f"
             ],
             [
              0.2222222222222222,
              "#7201a8"
             ],
             [
              0.3333333333333333,
              "#9c179e"
             ],
             [
              0.4444444444444444,
              "#bd3786"
             ],
             [
              0.5555555555555556,
              "#d8576b"
             ],
             [
              0.6666666666666666,
              "#ed7953"
             ],
             [
              0.7777777777777778,
              "#fb9f3a"
             ],
             [
              0.8888888888888888,
              "#fdca26"
             ],
             [
              1,
              "#f0f921"
             ]
            ],
            "type": "contour"
           }
          ],
          "contourcarpet": [
           {
            "colorbar": {
             "outlinewidth": 0,
             "ticks": ""
            },
            "type": "contourcarpet"
           }
          ],
          "heatmap": [
           {
            "colorbar": {
             "outlinewidth": 0,
             "ticks": ""
            },
            "colorscale": [
             [
              0,
              "#0d0887"
             ],
             [
              0.1111111111111111,
              "#46039f"
             ],
             [
              0.2222222222222222,
              "#7201a8"
             ],
             [
              0.3333333333333333,
              "#9c179e"
             ],
             [
              0.4444444444444444,
              "#bd3786"
             ],
             [
              0.5555555555555556,
              "#d8576b"
             ],
             [
              0.6666666666666666,
              "#ed7953"
             ],
             [
              0.7777777777777778,
              "#fb9f3a"
             ],
             [
              0.8888888888888888,
              "#fdca26"
             ],
             [
              1,
              "#f0f921"
             ]
            ],
            "type": "heatmap"
           }
          ],
          "heatmapgl": [
           {
            "colorbar": {
             "outlinewidth": 0,
             "ticks": ""
            },
            "colorscale": [
             [
              0,
              "#0d0887"
             ],
             [
              0.1111111111111111,
              "#46039f"
             ],
             [
              0.2222222222222222,
              "#7201a8"
             ],
             [
              0.3333333333333333,
              "#9c179e"
             ],
             [
              0.4444444444444444,
              "#bd3786"
             ],
             [
              0.5555555555555556,
              "#d8576b"
             ],
             [
              0.6666666666666666,
              "#ed7953"
             ],
             [
              0.7777777777777778,
              "#fb9f3a"
             ],
             [
              0.8888888888888888,
              "#fdca26"
             ],
             [
              1,
              "#f0f921"
             ]
            ],
            "type": "heatmapgl"
           }
          ],
          "histogram": [
           {
            "marker": {
             "colorbar": {
              "outlinewidth": 0,
              "ticks": ""
             }
            },
            "type": "histogram"
           }
          ],
          "histogram2d": [
           {
            "colorbar": {
             "outlinewidth": 0,
             "ticks": ""
            },
            "colorscale": [
             [
              0,
              "#0d0887"
             ],
             [
              0.1111111111111111,
              "#46039f"
             ],
             [
              0.2222222222222222,
              "#7201a8"
             ],
             [
              0.3333333333333333,
              "#9c179e"
             ],
             [
              0.4444444444444444,
              "#bd3786"
             ],
             [
              0.5555555555555556,
              "#d8576b"
             ],
             [
              0.6666666666666666,
              "#ed7953"
             ],
             [
              0.7777777777777778,
              "#fb9f3a"
             ],
             [
              0.8888888888888888,
              "#fdca26"
             ],
             [
              1,
              "#f0f921"
             ]
            ],
            "type": "histogram2d"
           }
          ],
          "histogram2dcontour": [
           {
            "colorbar": {
             "outlinewidth": 0,
             "ticks": ""
            },
            "colorscale": [
             [
              0,
              "#0d0887"
             ],
             [
              0.1111111111111111,
              "#46039f"
             ],
             [
              0.2222222222222222,
              "#7201a8"
             ],
             [
              0.3333333333333333,
              "#9c179e"
             ],
             [
              0.4444444444444444,
              "#bd3786"
             ],
             [
              0.5555555555555556,
              "#d8576b"
             ],
             [
              0.6666666666666666,
              "#ed7953"
             ],
             [
              0.7777777777777778,
              "#fb9f3a"
             ],
             [
              0.8888888888888888,
              "#fdca26"
             ],
             [
              1,
              "#f0f921"
             ]
            ],
            "type": "histogram2dcontour"
           }
          ],
          "mesh3d": [
           {
            "colorbar": {
             "outlinewidth": 0,
             "ticks": ""
            },
            "type": "mesh3d"
           }
          ],
          "parcoords": [
           {
            "line": {
             "colorbar": {
              "outlinewidth": 0,
              "ticks": ""
             }
            },
            "type": "parcoords"
           }
          ],
          "pie": [
           {
            "automargin": true,
            "type": "pie"
           }
          ],
          "scatter": [
           {
            "marker": {
             "colorbar": {
              "outlinewidth": 0,
              "ticks": ""
             }
            },
            "type": "scatter"
           }
          ],
          "scatter3d": [
           {
            "line": {
             "colorbar": {
              "outlinewidth": 0,
              "ticks": ""
             }
            },
            "marker": {
             "colorbar": {
              "outlinewidth": 0,
              "ticks": ""
             }
            },
            "type": "scatter3d"
           }
          ],
          "scattercarpet": [
           {
            "marker": {
             "colorbar": {
              "outlinewidth": 0,
              "ticks": ""
             }
            },
            "type": "scattercarpet"
           }
          ],
          "scattergeo": [
           {
            "marker": {
             "colorbar": {
              "outlinewidth": 0,
              "ticks": ""
             }
            },
            "type": "scattergeo"
           }
          ],
          "scattergl": [
           {
            "marker": {
             "colorbar": {
              "outlinewidth": 0,
              "ticks": ""
             }
            },
            "type": "scattergl"
           }
          ],
          "scattermapbox": [
           {
            "marker": {
             "colorbar": {
              "outlinewidth": 0,
              "ticks": ""
             }
            },
            "type": "scattermapbox"
           }
          ],
          "scatterpolar": [
           {
            "marker": {
             "colorbar": {
              "outlinewidth": 0,
              "ticks": ""
             }
            },
            "type": "scatterpolar"
           }
          ],
          "scatterpolargl": [
           {
            "marker": {
             "colorbar": {
              "outlinewidth": 0,
              "ticks": ""
             }
            },
            "type": "scatterpolargl"
           }
          ],
          "scatterternary": [
           {
            "marker": {
             "colorbar": {
              "outlinewidth": 0,
              "ticks": ""
             }
            },
            "type": "scatterternary"
           }
          ],
          "surface": [
           {
            "colorbar": {
             "outlinewidth": 0,
             "ticks": ""
            },
            "colorscale": [
             [
              0,
              "#0d0887"
             ],
             [
              0.1111111111111111,
              "#46039f"
             ],
             [
              0.2222222222222222,
              "#7201a8"
             ],
             [
              0.3333333333333333,
              "#9c179e"
             ],
             [
              0.4444444444444444,
              "#bd3786"
             ],
             [
              0.5555555555555556,
              "#d8576b"
             ],
             [
              0.6666666666666666,
              "#ed7953"
             ],
             [
              0.7777777777777778,
              "#fb9f3a"
             ],
             [
              0.8888888888888888,
              "#fdca26"
             ],
             [
              1,
              "#f0f921"
             ]
            ],
            "type": "surface"
           }
          ],
          "table": [
           {
            "cells": {
             "fill": {
              "color": "#EBF0F8"
             },
             "line": {
              "color": "white"
             }
            },
            "header": {
             "fill": {
              "color": "#C8D4E3"
             },
             "line": {
              "color": "white"
             }
            },
            "type": "table"
           }
          ]
         },
         "layout": {
          "annotationdefaults": {
           "arrowcolor": "#2a3f5f",
           "arrowhead": 0,
           "arrowwidth": 1
          },
          "coloraxis": {
           "colorbar": {
            "outlinewidth": 0,
            "ticks": ""
           }
          },
          "colorscale": {
           "diverging": [
            [
             0,
             "#8e0152"
            ],
            [
             0.1,
             "#c51b7d"
            ],
            [
             0.2,
             "#de77ae"
            ],
            [
             0.3,
             "#f1b6da"
            ],
            [
             0.4,
             "#fde0ef"
            ],
            [
             0.5,
             "#f7f7f7"
            ],
            [
             0.6,
             "#e6f5d0"
            ],
            [
             0.7,
             "#b8e186"
            ],
            [
             0.8,
             "#7fbc41"
            ],
            [
             0.9,
             "#4d9221"
            ],
            [
             1,
             "#276419"
            ]
           ],
           "sequential": [
            [
             0,
             "#0d0887"
            ],
            [
             0.1111111111111111,
             "#46039f"
            ],
            [
             0.2222222222222222,
             "#7201a8"
            ],
            [
             0.3333333333333333,
             "#9c179e"
            ],
            [
             0.4444444444444444,
             "#bd3786"
            ],
            [
             0.5555555555555556,
             "#d8576b"
            ],
            [
             0.6666666666666666,
             "#ed7953"
            ],
            [
             0.7777777777777778,
             "#fb9f3a"
            ],
            [
             0.8888888888888888,
             "#fdca26"
            ],
            [
             1,
             "#f0f921"
            ]
           ],
           "sequentialminus": [
            [
             0,
             "#0d0887"
            ],
            [
             0.1111111111111111,
             "#46039f"
            ],
            [
             0.2222222222222222,
             "#7201a8"
            ],
            [
             0.3333333333333333,
             "#9c179e"
            ],
            [
             0.4444444444444444,
             "#bd3786"
            ],
            [
             0.5555555555555556,
             "#d8576b"
            ],
            [
             0.6666666666666666,
             "#ed7953"
            ],
            [
             0.7777777777777778,
             "#fb9f3a"
            ],
            [
             0.8888888888888888,
             "#fdca26"
            ],
            [
             1,
             "#f0f921"
            ]
           ]
          },
          "colorway": [
           "#636efa",
           "#EF553B",
           "#00cc96",
           "#ab63fa",
           "#FFA15A",
           "#19d3f3",
           "#FF6692",
           "#B6E880",
           "#FF97FF",
           "#FECB52"
          ],
          "font": {
           "color": "#2a3f5f"
          },
          "geo": {
           "bgcolor": "white",
           "lakecolor": "white",
           "landcolor": "#E5ECF6",
           "showlakes": true,
           "showland": true,
           "subunitcolor": "white"
          },
          "hoverlabel": {
           "align": "left"
          },
          "hovermode": "closest",
          "mapbox": {
           "style": "light"
          },
          "paper_bgcolor": "white",
          "plot_bgcolor": "#E5ECF6",
          "polar": {
           "angularaxis": {
            "gridcolor": "white",
            "linecolor": "white",
            "ticks": ""
           },
           "bgcolor": "#E5ECF6",
           "radialaxis": {
            "gridcolor": "white",
            "linecolor": "white",
            "ticks": ""
           }
          },
          "scene": {
           "xaxis": {
            "backgroundcolor": "#E5ECF6",
            "gridcolor": "white",
            "gridwidth": 2,
            "linecolor": "white",
            "showbackground": true,
            "ticks": "",
            "zerolinecolor": "white"
           },
           "yaxis": {
            "backgroundcolor": "#E5ECF6",
            "gridcolor": "white",
            "gridwidth": 2,
            "linecolor": "white",
            "showbackground": true,
            "ticks": "",
            "zerolinecolor": "white"
           },
           "zaxis": {
            "backgroundcolor": "#E5ECF6",
            "gridcolor": "white",
            "gridwidth": 2,
            "linecolor": "white",
            "showbackground": true,
            "ticks": "",
            "zerolinecolor": "white"
           }
          },
          "shapedefaults": {
           "line": {
            "color": "#2a3f5f"
           }
          },
          "ternary": {
           "aaxis": {
            "gridcolor": "white",
            "linecolor": "white",
            "ticks": ""
           },
           "baxis": {
            "gridcolor": "white",
            "linecolor": "white",
            "ticks": ""
           },
           "bgcolor": "#E5ECF6",
           "caxis": {
            "gridcolor": "white",
            "linecolor": "white",
            "ticks": ""
           }
          },
          "title": {
           "x": 0.05
          },
          "xaxis": {
           "automargin": true,
           "gridcolor": "white",
           "linecolor": "white",
           "ticks": "",
           "title": {
            "standoff": 15
           },
           "zerolinecolor": "white",
           "zerolinewidth": 2
          },
          "yaxis": {
           "automargin": true,
           "gridcolor": "white",
           "linecolor": "white",
           "ticks": "",
           "title": {
            "standoff": 15
           },
           "zerolinecolor": "white",
           "zerolinewidth": 2
          }
         }
        }
       }
      },
      "text/html": [
       "<div>                            <div id=\"c74d1ce6-34cd-45b7-87f8-8f0ebc6c5182\" class=\"plotly-graph-div\" style=\"height:525px; width:100%;\"></div>            <script type=\"text/javascript\">                require([\"plotly\"], function(Plotly) {                    window.PLOTLYENV=window.PLOTLYENV || {};                                    if (document.getElementById(\"c74d1ce6-34cd-45b7-87f8-8f0ebc6c5182\")) {                    Plotly.newPlot(                        \"c74d1ce6-34cd-45b7-87f8-8f0ebc6c5182\",                        [{\"geo\": \"geo\", \"hovertemplate\": \"Latitude=%{lat}<br>Longitude=%{lon}<br>clusters=%{marker.color}<extra></extra>\", \"lat\": [40.09, 40.13, 40.65, 40.6, 40.59, 40.61, 40.57, 40.56, 40.64, 40.01, 40.01, 40.7, 40.03, 39.97, 40.14, 40.34, 40.34, 40.34, 40.35, 40.65, 40.66, 41.01, 41.01, 40.2, 40.0, 40.38, 40.35, 39.88, 39.96, 39.98, 40.02, 40.88, 40.24, 40.22, 40.24, 40.26, 40.2, 40.2, 40.2, 40.27, 39.94, 39.94, 40.08, 41.21, 41.49, 40.16, 40.09, 40.7, 40.69, 40.68, 40.05, 41.47, 40.27, 40.32, 40.31, 40.14, 40.14, 40.69, 40.72, 39.98, 40.14, 40.15, 40.28, 40.17, 42.07, 42.1, 42.06, 42.05, 42.13, 42.06, 40.03, 40.03, 40.05, 40.04, 40.03, 40.05, 40.45, 40.15, 40.11, 40.1, 39.84, 40.64, 40.62, 39.88, 39.86, 39.88, 40.3, 40.31, 41.14, 39.83, 39.77, 40.33, 40.25, 40.31, 40.28, 40.3, 40.25, 39.97, 39.97, 40.56, 41.23, 40.26, 40.27, 40.29, 40.22, 40.18, 40.09, 40.17, 40.61, 40.62, 40.32, 40.26, 40.1, 40.97, 40.28, 39.86, 40.09, 40.09, 40.08, 40.09, 40.09, 40.09, 40.09, 40.09, 40.51, 40.03, 40.03, 40.07, 40.07, 40.04, 40.08, 40.18, 40.18, 40.18, 40.18, 40.25, 40.29, 40.21, 40.56, 40.96, 40.98, 40.06, 40.13, 40.13, 41.14, 40.31, 40.05, 40.28, 40.27, 40.3, 40.25, 40.25, 40.25, 40.19, 39.92, 40.2, 40.68, 40.68, 40.43, 40.44, 40.24, 40.52, 41.36, 41.1, 41.24, 40.43, 40.36, 40.59, 40.21, 40.14, 40.23, 39.99, 40.13, 40.32, 40.22, 40.23, 40.24, 40.13, 40.04, 39.95, 39.95, 40.03, 39.92, 39.95, 40.04, 40.03, 40.0, 39.95, 39.95, 39.95, 40.01, 39.98, 40.0, 39.95, 39.95, 39.94, 39.94, 40.01, 40.1, 39.95, 39.96, 40.1, 40.08, 39.95, 39.95, 39.95, 39.95, 39.95, 40.05, 39.95, 40.07, 39.95, 39.95, 39.95, 39.95, 39.99, 39.95, 39.95, 40.0, 39.95, 39.96, 40.09, 39.95, 39.88, 39.95, 39.95, 40.5, 40.44, 40.44, 40.44, 40.44, 40.45, 40.43, 40.39, 40.42, 40.5, 40.53, 40.44, 40.46, 40.46, 40.46, 40.55, 40.45, 40.44, 40.4, 40.46, 40.45, 40.34, 40.54, 40.36, 40.46, 40.44, 40.55, 40.52, 40.5, 40.44, 40.44, 40.44, 40.44, 40.53, 40.54, 40.43, 40.44, 40.44, 40.43, 40.44, 40.44, 40.45, 40.44, 40.44, 40.45, 40.21, 40.1, 40.1, 40.11, 40.24, 40.45, 40.46, 40.31, 40.12, 40.21, 40.21, 41.06, 41.41, 41.41, 40.84, 40.8, 40.84, 40.54, 40.54, 40.06, 39.77, 41.06, 40.1, 40.03, 40.02, 40.08, 39.91, 39.91, 40.19, 40.8, 40.79, 40.79, 40.81, 40.26, 40.26, 40.98, 40.57, 40.4, 40.14, 40.57, 40.55, 39.91, 40.81, 39.96, 40.17, 40.52, 40.04, 40.21, 40.22, 40.19, 40.18, 40.06, 40.04, 40.04, 40.07, 39.95, 39.97, 40.0, 39.96, 39.82, 40.41, 40.41, 40.34, 39.9, 40.62, 40.62, 40.63, 40.63, 40.63, 41.24, 41.24, 41.24, 40.14, 40.14, 40.0, 40.0, 40.34, 40.2, 40.24, 39.94, 39.98, 39.96, 39.98, 39.94, 39.98, 39.91], \"legendgroup\": \"\", \"lon\": [-75.09, -75.12, -75.44, -75.47, -75.55, -75.54, -75.56, -75.49, -75.44, -75.29, -75.24, -80.3, -78.49, -78.52, -79.84, -80.05, -80.03, -80.06, -80.05, -75.3, -75.42, -76.45, -76.45, -76.02, -78.24, -80.1, -80.11, -75.4, -75.35, -75.35, -75.32, -79.95, -76.93, -76.93, -76.94, -80.17, -77.18, -77.16, -77.16, -75.24, -77.63, -77.63, -75.16, -79.38, -75.7, -75.48, -75.29, -80.11, -80.08, -80.11, -75.41, -75.64, -75.13, -75.13, -75.13, -75.17, -75.31, -75.27, -75.28, -75.44, -76.59, -75.83, -77.07, -76.16, -80.1, -80.13, -80.09, -80.09, -80.09, -80.1, -75.62, -75.63, -75.66, -75.63, -75.63, -75.66, -80.18, -75.0, -75.21, -75.21, -77.2, -79.94, -80.01, -75.53, -75.54, -75.54, -79.5, -79.58, -80.16, -76.99, -76.96, -76.86, -76.81, -76.81, -76.82, -76.85, -76.83, -75.3, -75.32, -75.34, -80.45, -76.68, -76.65, -76.65, -76.79, -75.13, -75.09, -75.07, -79.18, -79.16, -79.69, -75.09, -75.13, -75.64, -78.85, -75.68, -75.39, -75.39, -75.4, -75.36, -75.36, -75.39, -75.38, -75.37, -75.78, -76.2, -76.22, -76.34, -76.34, -76.34, -76.32, -74.88, -74.91, -74.88, -74.88, -75.29, -79.39, -76.57, -75.41, -76.89, -76.88, -75.65, -76.3, -76.31, -77.46, -76.8, -75.52, -80.08, -80.13, -80.1, -77.03, -77.01, -77.01, -76.98, -75.38, -76.76, -80.3, -80.3, -79.79, -79.77, -75.24, -80.22, -75.68, -75.33, -76.83, -79.7, -74.95, -79.75, -79.57, -77.56, -74.94, -75.39, -75.4, -79.69, -75.25, -75.24, -75.24, -75.45, -75.49, -75.21, -75.15, -75.21, -75.17, -75.19, -75.15, -75.23, -75.23, -75.16, -75.17, -75.17, -75.21, -75.15, -75.15, -75.17, -75.16, -75.16, -75.15, -75.21, -75.02, -75.2, -75.19, -75.01, -75.21, -75.17, -75.16, -75.2, -75.17, -75.17, -75.06, -75.19, -75.01, -75.19, -75.16, -75.16, -75.15, -75.09, -75.17, -75.16, -75.22, -75.16, -75.17, -74.96, -75.17, -75.25, -75.19, -75.17, -80.26, -79.96, -79.96, -79.92, -79.99, -80.01, -79.92, -80.07, -80.05, -80.26, -80.01, -80.0, -79.94, -79.94, -79.92, -80.05, -80.16, -80.15, -80.04, -79.93, -80.16, -80.06, -80.01, -80.05, -79.95, -79.95, -80.02, -79.85, -79.85, -80.0, -80.0, -79.77, -79.99, -80.01, -80.07, -79.81, -80.0, -79.99, -79.98, -79.96, -80.0, -79.93, -80.0, -80.0, -80.18, -77.28, -75.29, -75.29, -75.29, -75.57, -75.36, -75.37, -75.86, -75.14, -75.5, -75.5, -75.32, -75.67, -75.66, -76.83, -76.87, -76.84, -80.18, -80.19, -77.52, -76.67, -80.05, -79.2, -79.12, -79.08, -75.44, -75.35, -75.34, -75.23, -77.86, -77.84, -77.86, -77.91, -75.65, -75.65, -75.2, -79.8, -75.93, -74.96, -75.56, -75.6, -79.76, -77.86, -75.29, -75.04, -79.81, -75.35, -75.1, -75.14, -80.22, -80.23, -78.09, -75.38, -75.37, -75.43, -75.6, -75.58, -75.57, -75.61, -75.87, -79.92, -79.92, -76.0, -75.56, -80.05, -80.09, -80.06, -75.48, -75.48, -75.89, -75.86, -77.0, -75.12, -75.12, -75.27, -75.28, -75.98, -74.86, -74.84, -76.68, -76.73, -76.78, -76.77, -76.69, -76.68, -76.68], \"marker\": {\"color\": [0, 0, 0, 0, 0, 0, 0, 0, 0, 0, 0, 4, 6, 6, 4, 4, 4, 4, 4, 0, 0, 7, 7, 2, 6, 4, 4, 0, 0, 0, 0, 1, 2, 2, 2, 4, 2, 2, 2, 0, 6, 6, 0, 1, 9, 0, 0, 4, 4, 4, 0, 9, 0, 0, 0, 0, 0, 0, 0, 0, 2, 0, 2, 2, 5, 5, 5, 5, 5, 5, 0, 0, 0, 0, 0, 0, 4, 0, 0, 0, 2, 4, 4, 0, 0, 0, 4, 4, 1, 2, 2, 2, 2, 2, 2, 2, 2, 0, 0, 0, 1, 2, 2, 2, 2, 0, 0, 0, 3, 3, 4, 0, 0, 0, 3, 0, 0, 0, 0, 0, 0, 0, 0, 0, 2, 2, 2, 2, 2, 2, 2, 0, 0, 0, 0, 0, 4, 2, 0, 7, 7, 0, 2, 2, 8, 2, 0, 4, 4, 4, 2, 2, 2, 2, 0, 2, 4, 4, 4, 4, 0, 4, 9, 0, 7, 4, 0, 4, 4, 6, 0, 0, 0, 4, 0, 0, 0, 0, 0, 0, 0, 0, 0, 0, 0, 0, 0, 0, 0, 0, 0, 0, 0, 0, 0, 0, 0, 0, 0, 0, 0, 0, 0, 0, 0, 0, 0, 0, 0, 0, 0, 0, 0, 0, 0, 0, 0, 0, 0, 0, 0, 0, 0, 0, 0, 0, 4, 4, 4, 4, 4, 4, 4, 4, 4, 4, 4, 4, 4, 4, 4, 4, 4, 4, 4, 4, 4, 4, 4, 4, 4, 4, 4, 4, 4, 4, 4, 4, 4, 4, 4, 4, 4, 4, 4, 4, 4, 4, 4, 4, 4, 2, 0, 0, 0, 0, 0, 0, 2, 0, 0, 0, 0, 9, 9, 7, 7, 7, 4, 4, 6, 2, 1, 3, 3, 3, 0, 0, 0, 0, 8, 8, 8, 8, 0, 0, 0, 4, 2, 0, 0, 0, 4, 8, 0, 0, 4, 0, 0, 0, 4, 4, 6, 0, 0, 0, 0, 0, 0, 0, 0, 4, 4, 2, 0, 4, 4, 4, 0, 0, 9, 9, 7, 0, 0, 0, 0, 2, 0, 0, 2, 2, 2, 2, 2, 2, 2], \"coloraxis\": \"coloraxis\"}, \"name\": \"\", \"showlegend\": false, \"type\": \"scattergeo\"}],                        {\"coloraxis\": {\"colorbar\": {\"title\": {\"text\": \"clusters\"}}, \"colorscale\": [[0.0, \"#0d0887\"], [0.1111111111111111, \"#46039f\"], [0.2222222222222222, \"#7201a8\"], [0.3333333333333333, \"#9c179e\"], [0.4444444444444444, \"#bd3786\"], [0.5555555555555556, \"#d8576b\"], [0.6666666666666666, \"#ed7953\"], [0.7777777777777778, \"#fb9f3a\"], [0.8888888888888888, \"#fdca26\"], [1.0, \"#f0f921\"]]}, \"geo\": {\"center\": {\"lat\": 40.79, \"lon\": -77.84}, \"domain\": {\"x\": [0.0, 1.0], \"y\": [0.0, 1.0]}, \"projection\": {\"scale\": 8, \"type\": \"albers usa\"}, \"scope\": \"usa\"}, \"legend\": {\"tracegroupgap\": 0}, \"margin\": {\"t\": 60}, \"template\": {\"data\": {\"bar\": [{\"error_x\": {\"color\": \"#2a3f5f\"}, \"error_y\": {\"color\": \"#2a3f5f\"}, \"marker\": {\"line\": {\"color\": \"#E5ECF6\", \"width\": 0.5}}, \"type\": \"bar\"}], \"barpolar\": [{\"marker\": {\"line\": {\"color\": \"#E5ECF6\", \"width\": 0.5}}, \"type\": \"barpolar\"}], \"carpet\": [{\"aaxis\": {\"endlinecolor\": \"#2a3f5f\", \"gridcolor\": \"white\", \"linecolor\": \"white\", \"minorgridcolor\": \"white\", \"startlinecolor\": \"#2a3f5f\"}, \"baxis\": {\"endlinecolor\": \"#2a3f5f\", \"gridcolor\": \"white\", \"linecolor\": \"white\", \"minorgridcolor\": \"white\", \"startlinecolor\": \"#2a3f5f\"}, \"type\": \"carpet\"}], \"choropleth\": [{\"colorbar\": {\"outlinewidth\": 0, \"ticks\": \"\"}, \"type\": \"choropleth\"}], \"contour\": [{\"colorbar\": {\"outlinewidth\": 0, \"ticks\": \"\"}, \"colorscale\": [[0.0, \"#0d0887\"], [0.1111111111111111, \"#46039f\"], [0.2222222222222222, \"#7201a8\"], [0.3333333333333333, \"#9c179e\"], [0.4444444444444444, \"#bd3786\"], [0.5555555555555556, \"#d8576b\"], [0.6666666666666666, \"#ed7953\"], [0.7777777777777778, \"#fb9f3a\"], [0.8888888888888888, \"#fdca26\"], [1.0, \"#f0f921\"]], \"type\": \"contour\"}], \"contourcarpet\": [{\"colorbar\": {\"outlinewidth\": 0, \"ticks\": \"\"}, \"type\": \"contourcarpet\"}], \"heatmap\": [{\"colorbar\": {\"outlinewidth\": 0, \"ticks\": \"\"}, \"colorscale\": [[0.0, \"#0d0887\"], [0.1111111111111111, \"#46039f\"], [0.2222222222222222, \"#7201a8\"], [0.3333333333333333, \"#9c179e\"], [0.4444444444444444, \"#bd3786\"], [0.5555555555555556, \"#d8576b\"], [0.6666666666666666, \"#ed7953\"], [0.7777777777777778, \"#fb9f3a\"], [0.8888888888888888, \"#fdca26\"], [1.0, \"#f0f921\"]], \"type\": \"heatmap\"}], \"heatmapgl\": [{\"colorbar\": {\"outlinewidth\": 0, \"ticks\": \"\"}, \"colorscale\": [[0.0, \"#0d0887\"], [0.1111111111111111, \"#46039f\"], [0.2222222222222222, \"#7201a8\"], [0.3333333333333333, \"#9c179e\"], [0.4444444444444444, \"#bd3786\"], [0.5555555555555556, \"#d8576b\"], [0.6666666666666666, \"#ed7953\"], [0.7777777777777778, \"#fb9f3a\"], [0.8888888888888888, \"#fdca26\"], [1.0, \"#f0f921\"]], \"type\": \"heatmapgl\"}], \"histogram\": [{\"marker\": {\"colorbar\": {\"outlinewidth\": 0, \"ticks\": \"\"}}, \"type\": \"histogram\"}], \"histogram2d\": [{\"colorbar\": {\"outlinewidth\": 0, \"ticks\": \"\"}, \"colorscale\": [[0.0, \"#0d0887\"], [0.1111111111111111, \"#46039f\"], [0.2222222222222222, \"#7201a8\"], [0.3333333333333333, \"#9c179e\"], [0.4444444444444444, \"#bd3786\"], [0.5555555555555556, \"#d8576b\"], [0.6666666666666666, \"#ed7953\"], [0.7777777777777778, \"#fb9f3a\"], [0.8888888888888888, \"#fdca26\"], [1.0, \"#f0f921\"]], \"type\": \"histogram2d\"}], \"histogram2dcontour\": [{\"colorbar\": {\"outlinewidth\": 0, \"ticks\": \"\"}, \"colorscale\": [[0.0, \"#0d0887\"], [0.1111111111111111, \"#46039f\"], [0.2222222222222222, \"#7201a8\"], [0.3333333333333333, \"#9c179e\"], [0.4444444444444444, \"#bd3786\"], [0.5555555555555556, \"#d8576b\"], [0.6666666666666666, \"#ed7953\"], [0.7777777777777778, \"#fb9f3a\"], [0.8888888888888888, \"#fdca26\"], [1.0, \"#f0f921\"]], \"type\": \"histogram2dcontour\"}], \"mesh3d\": [{\"colorbar\": {\"outlinewidth\": 0, \"ticks\": \"\"}, \"type\": \"mesh3d\"}], \"parcoords\": [{\"line\": {\"colorbar\": {\"outlinewidth\": 0, \"ticks\": \"\"}}, \"type\": \"parcoords\"}], \"pie\": [{\"automargin\": true, \"type\": \"pie\"}], \"scatter\": [{\"marker\": {\"colorbar\": {\"outlinewidth\": 0, \"ticks\": \"\"}}, \"type\": \"scatter\"}], \"scatter3d\": [{\"line\": {\"colorbar\": {\"outlinewidth\": 0, \"ticks\": \"\"}}, \"marker\": {\"colorbar\": {\"outlinewidth\": 0, \"ticks\": \"\"}}, \"type\": \"scatter3d\"}], \"scattercarpet\": [{\"marker\": {\"colorbar\": {\"outlinewidth\": 0, \"ticks\": \"\"}}, \"type\": \"scattercarpet\"}], \"scattergeo\": [{\"marker\": {\"colorbar\": {\"outlinewidth\": 0, \"ticks\": \"\"}}, \"type\": \"scattergeo\"}], \"scattergl\": [{\"marker\": {\"colorbar\": {\"outlinewidth\": 0, \"ticks\": \"\"}}, \"type\": \"scattergl\"}], \"scattermapbox\": [{\"marker\": {\"colorbar\": {\"outlinewidth\": 0, \"ticks\": \"\"}}, \"type\": \"scattermapbox\"}], \"scatterpolar\": [{\"marker\": {\"colorbar\": {\"outlinewidth\": 0, \"ticks\": \"\"}}, \"type\": \"scatterpolar\"}], \"scatterpolargl\": [{\"marker\": {\"colorbar\": {\"outlinewidth\": 0, \"ticks\": \"\"}}, \"type\": \"scatterpolargl\"}], \"scatterternary\": [{\"marker\": {\"colorbar\": {\"outlinewidth\": 0, \"ticks\": \"\"}}, \"type\": \"scatterternary\"}], \"surface\": [{\"colorbar\": {\"outlinewidth\": 0, \"ticks\": \"\"}, \"colorscale\": [[0.0, \"#0d0887\"], [0.1111111111111111, \"#46039f\"], [0.2222222222222222, \"#7201a8\"], [0.3333333333333333, \"#9c179e\"], [0.4444444444444444, \"#bd3786\"], [0.5555555555555556, \"#d8576b\"], [0.6666666666666666, \"#ed7953\"], [0.7777777777777778, \"#fb9f3a\"], [0.8888888888888888, \"#fdca26\"], [1.0, \"#f0f921\"]], \"type\": \"surface\"}], \"table\": [{\"cells\": {\"fill\": {\"color\": \"#EBF0F8\"}, \"line\": {\"color\": \"white\"}}, \"header\": {\"fill\": {\"color\": \"#C8D4E3\"}, \"line\": {\"color\": \"white\"}}, \"type\": \"table\"}]}, \"layout\": {\"annotationdefaults\": {\"arrowcolor\": \"#2a3f5f\", \"arrowhead\": 0, \"arrowwidth\": 1}, \"coloraxis\": {\"colorbar\": {\"outlinewidth\": 0, \"ticks\": \"\"}}, \"colorscale\": {\"diverging\": [[0, \"#8e0152\"], [0.1, \"#c51b7d\"], [0.2, \"#de77ae\"], [0.3, \"#f1b6da\"], [0.4, \"#fde0ef\"], [0.5, \"#f7f7f7\"], [0.6, \"#e6f5d0\"], [0.7, \"#b8e186\"], [0.8, \"#7fbc41\"], [0.9, \"#4d9221\"], [1, \"#276419\"]], \"sequential\": [[0.0, \"#0d0887\"], [0.1111111111111111, \"#46039f\"], [0.2222222222222222, \"#7201a8\"], [0.3333333333333333, \"#9c179e\"], [0.4444444444444444, \"#bd3786\"], [0.5555555555555556, \"#d8576b\"], [0.6666666666666666, \"#ed7953\"], [0.7777777777777778, \"#fb9f3a\"], [0.8888888888888888, \"#fdca26\"], [1.0, \"#f0f921\"]], \"sequentialminus\": [[0.0, \"#0d0887\"], [0.1111111111111111, \"#46039f\"], [0.2222222222222222, \"#7201a8\"], [0.3333333333333333, \"#9c179e\"], [0.4444444444444444, \"#bd3786\"], [0.5555555555555556, \"#d8576b\"], [0.6666666666666666, \"#ed7953\"], [0.7777777777777778, \"#fb9f3a\"], [0.8888888888888888, \"#fdca26\"], [1.0, \"#f0f921\"]]}, \"colorway\": [\"#636efa\", \"#EF553B\", \"#00cc96\", \"#ab63fa\", \"#FFA15A\", \"#19d3f3\", \"#FF6692\", \"#B6E880\", \"#FF97FF\", \"#FECB52\"], \"font\": {\"color\": \"#2a3f5f\"}, \"geo\": {\"bgcolor\": \"white\", \"lakecolor\": \"white\", \"landcolor\": \"#E5ECF6\", \"showlakes\": true, \"showland\": true, \"subunitcolor\": \"white\"}, \"hoverlabel\": {\"align\": \"left\"}, \"hovermode\": \"closest\", \"mapbox\": {\"style\": \"light\"}, \"paper_bgcolor\": \"white\", \"plot_bgcolor\": \"#E5ECF6\", \"polar\": {\"angularaxis\": {\"gridcolor\": \"white\", \"linecolor\": \"white\", \"ticks\": \"\"}, \"bgcolor\": \"#E5ECF6\", \"radialaxis\": {\"gridcolor\": \"white\", \"linecolor\": \"white\", \"ticks\": \"\"}}, \"scene\": {\"xaxis\": {\"backgroundcolor\": \"#E5ECF6\", \"gridcolor\": \"white\", \"gridwidth\": 2, \"linecolor\": \"white\", \"showbackground\": true, \"ticks\": \"\", \"zerolinecolor\": \"white\"}, \"yaxis\": {\"backgroundcolor\": \"#E5ECF6\", \"gridcolor\": \"white\", \"gridwidth\": 2, \"linecolor\": \"white\", \"showbackground\": true, \"ticks\": \"\", \"zerolinecolor\": \"white\"}, \"zaxis\": {\"backgroundcolor\": \"#E5ECF6\", \"gridcolor\": \"white\", \"gridwidth\": 2, \"linecolor\": \"white\", \"showbackground\": true, \"ticks\": \"\", \"zerolinecolor\": \"white\"}}, \"shapedefaults\": {\"line\": {\"color\": \"#2a3f5f\"}}, \"ternary\": {\"aaxis\": {\"gridcolor\": \"white\", \"linecolor\": \"white\", \"ticks\": \"\"}, \"baxis\": {\"gridcolor\": \"white\", \"linecolor\": \"white\", \"ticks\": \"\"}, \"bgcolor\": \"#E5ECF6\", \"caxis\": {\"gridcolor\": \"white\", \"linecolor\": \"white\", \"ticks\": \"\"}}, \"title\": {\"x\": 0.05}, \"xaxis\": {\"automargin\": true, \"gridcolor\": \"white\", \"linecolor\": \"white\", \"ticks\": \"\", \"title\": {\"standoff\": 15}, \"zerolinecolor\": \"white\", \"zerolinewidth\": 2}, \"yaxis\": {\"automargin\": true, \"gridcolor\": \"white\", \"linecolor\": \"white\", \"ticks\": \"\", \"title\": {\"standoff\": 15}, \"zerolinecolor\": \"white\", \"zerolinewidth\": 2}}}},                        {\"responsive\": true}                    ).then(function(){\n",
       "                            \n",
       "var gd = document.getElementById('c74d1ce6-34cd-45b7-87f8-8f0ebc6c5182');\n",
       "var x = new MutationObserver(function (mutations, observer) {{\n",
       "        var display = window.getComputedStyle(gd).display;\n",
       "        if (!display || display === 'none') {{\n",
       "            console.log([gd, 'removed!']);\n",
       "            Plotly.purge(gd);\n",
       "            observer.disconnect();\n",
       "        }}\n",
       "}});\n",
       "\n",
       "// Listen for the removal of the full notebook cells\n",
       "var notebookContainer = gd.closest('#notebook-container');\n",
       "if (notebookContainer) {{\n",
       "    x.observe(notebookContainer, {childList: true});\n",
       "}}\n",
       "\n",
       "// Listen for the clearing of the current output cell\n",
       "var outputEl = gd.closest('.output');\n",
       "if (outputEl) {{\n",
       "    x.observe(outputEl, {childList: true});\n",
       "}}\n",
       "\n",
       "                        })                };                });            </script>        </div>"
      ]
     },
     "metadata": {},
     "output_type": "display_data"
    },
    {
     "data": {
      "application/javascript": [
       "\n",
       "            setTimeout(function() {\n",
       "                var nbb_cell_id = 18;\n",
       "                var nbb_unformatted_code = \"starbucks_pa_df = state_cluster(\\\"PA\\\", starbucks_df, n_clusters=10, dendrogram=False)\\n\\nfig = px.scatter_geo(\\n    data_frame=starbucks_pa_df,\\n    scope=\\\"usa\\\",\\n    color=\\\"clusters\\\",\\n    lat=\\\"Latitude\\\",\\n    lon=\\\"Longitude\\\",\\n    projection=\\\"albers usa\\\",\\n)\\n\\nlat_center = 40.79\\nlon_center = -77.84\\nfig.update_layout(\\n    geo={\\\"projection_scale\\\": 8, \\\"center\\\": {\\\"lat\\\": lat_center, \\\"lon\\\": lon_center}}\\n)\";\n",
       "                var nbb_formatted_code = \"starbucks_pa_df = state_cluster(\\\"PA\\\", starbucks_df, n_clusters=10, dendrogram=False)\\n\\nfig = px.scatter_geo(\\n    data_frame=starbucks_pa_df,\\n    scope=\\\"usa\\\",\\n    color=\\\"clusters\\\",\\n    lat=\\\"Latitude\\\",\\n    lon=\\\"Longitude\\\",\\n    projection=\\\"albers usa\\\",\\n)\\n\\nlat_center = 40.79\\nlon_center = -77.84\\nfig.update_layout(\\n    geo={\\\"projection_scale\\\": 8, \\\"center\\\": {\\\"lat\\\": lat_center, \\\"lon\\\": lon_center}}\\n)\";\n",
       "                var nbb_cells = Jupyter.notebook.get_cells();\n",
       "                for (var i = 0; i < nbb_cells.length; ++i) {\n",
       "                    if (nbb_cells[i].input_prompt_number == nbb_cell_id) {\n",
       "                        if (nbb_cells[i].get_text() == nbb_unformatted_code) {\n",
       "                             nbb_cells[i].set_text(nbb_formatted_code);\n",
       "                        }\n",
       "                        break;\n",
       "                    }\n",
       "                }\n",
       "            }, 500);\n",
       "            "
      ],
      "text/plain": [
       "<IPython.core.display.Javascript object>"
      ]
     },
     "metadata": {},
     "output_type": "display_data"
    }
   ],
   "source": [
    "starbucks_pa_df = state_cluster(\"PA\", starbucks_df, n_clusters=10, dendrogram=False)\n",
    "\n",
    "fig = px.scatter_geo(\n",
    "    data_frame=starbucks_pa_df,\n",
    "    scope=\"usa\",\n",
    "    color=\"clusters\",\n",
    "    lat=\"Latitude\",\n",
    "    lon=\"Longitude\",\n",
    "    projection=\"albers usa\",\n",
    ")\n",
    "\n",
    "lat_center = 40.79\n",
    "lon_center = -77.84\n",
    "fig.update_layout(\n",
    "    geo={\"projection_scale\": 8, \"center\": {\"lat\": lat_center, \"lon\": lon_center}}\n",
    ")"
   ]
  },
  {
   "cell_type": "code",
   "execution_count": null,
   "metadata": {},
   "outputs": [],
   "source": []
  }
 ],
 "metadata": {
  "colab": {
   "collapsed_sections": [],
   "name": "Day 48 Lecture 1 Assignment.ipynb",
   "provenance": []
  },
  "kernelspec": {
   "display_name": "Python 3",
   "language": "python",
   "name": "python3"
  },
  "language_info": {
   "codemirror_mode": {
    "name": "ipython",
    "version": 3
   },
   "file_extension": ".py",
   "mimetype": "text/x-python",
   "name": "python",
   "nbconvert_exporter": "python",
   "pygments_lexer": "ipython3",
   "version": "3.8.5"
  }
 },
 "nbformat": 4,
 "nbformat_minor": 1
}
