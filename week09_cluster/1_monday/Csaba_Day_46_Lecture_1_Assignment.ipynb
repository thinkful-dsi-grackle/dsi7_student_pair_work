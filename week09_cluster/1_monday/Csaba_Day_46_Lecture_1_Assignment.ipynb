{
  "nbformat": 4,
  "nbformat_minor": 0,
  "metadata": {
    "colab": {
      "name": "Csaba_Day 46 Lecture 1 Assignment.ipynb",
      "provenance": [],
      "collapsed_sections": []
    },
    "kernelspec": {
      "display_name": "Python 3",
      "language": "python",
      "name": "python3"
    },
    "language_info": {
      "codemirror_mode": {
        "name": "ipython",
        "version": 3
      },
      "file_extension": ".py",
      "mimetype": "text/x-python",
      "name": "python",
      "nbconvert_exporter": "python",
      "pygments_lexer": "ipython3",
      "version": "3.7.0"
    }
  },
  "cells": [
    {
      "cell_type": "markdown",
      "metadata": {
        "id": "xdL0Yz0D1D_q"
      },
      "source": [
        "## Day 46 Lecture 1 Assignment\n",
        "\n",
        "In this assignment, we will calculate a distance matrix for geographical Starbucks data and use it to identify locations that are close together and far apart. We will perform clustering on this dataset later on.\n",
        "\n",
        "We will be using the \"haversine\" package to compute geographical distance. It can be pip installed."
      ]
    },
    {
      "cell_type": "code",
      "metadata": {
        "id": "XEaeZ9rG7vT9",
        "outputId": "44fcea57-8fc6-4918-c9a5-7752786b179d",
        "colab": {
          "base_uri": "https://localhost:8080/"
        }
      },
      "source": [
        "!pip install haversine"
      ],
      "execution_count": null,
      "outputs": [
        {
          "output_type": "stream",
          "text": [
            "Collecting haversine\n",
            "  Downloading https://files.pythonhosted.org/packages/f4/52/a13286844780c7b1740edbbee8a8f0524e2a6d51c068b59dda39a6a119f5/haversine-2.3.0-py2.py3-none-any.whl\n",
            "Installing collected packages: haversine\n",
            "Successfully installed haversine-2.3.0\n"
          ],
          "name": "stdout"
        }
      ]
    },
    {
      "cell_type": "code",
      "metadata": {
        "id": "OulyiH_C1D_r"
      },
      "source": [
        "%matplotlib inline\n",
        "\n",
        "import matplotlib.pyplot as plt\n",
        "import numpy as np\n",
        "import pandas as pd\n",
        "from haversine import haversine"
      ],
      "execution_count": null,
      "outputs": []
    },
    {
      "cell_type": "markdown",
      "metadata": {
        "id": "F1L7qOFczKqS"
      },
      "source": [
        "Below is a convenience function for calculating geographical distance matrices using lat-long data."
      ]
    },
    {
      "cell_type": "code",
      "metadata": {
        "id": "woD3d3RNzKqT"
      },
      "source": [
        "def geo_sim_matrix(df, col_name = 'Coordinates'):\n",
        "    \"\"\"\n",
        "    A function that computes a geographical distance matrix (in miles).\n",
        "    Each row in the dataframe should correspond to one location.\n",
        "    In addition, the dataframe must have a column containing the lat-long of each location as a tuple (i.e. (lat, long)).\n",
        "    \n",
        "    Parameters:\n",
        "        df (pandas dataframe): an nxm dataframe containing the locations to compute similarities between.\n",
        "        col (string): the name of the column containing the lat-long tuples.\n",
        "        \n",
        "    Returns:\n",
        "        distance (pandas dataframe): an nxn distance matrix between the geographical coordinates of each location.\n",
        "    \"\"\"\n",
        "    \n",
        "    df = df.copy()\n",
        "    df.reset_index(inplace=True)\n",
        "    haver_vec = np.vectorize(haversine, otypes=[np.float32])\n",
        "    distance = df.groupby('index').apply(lambda x: pd.Series(haver_vec(df[col_name], x[col_name])))\n",
        "    distance = distance / 1.609344  # converts to miles\n",
        "    distance.columns = distance.index\n",
        "    \n",
        "    return distance\n"
      ],
      "execution_count": null,
      "outputs": []
    },
    {
      "cell_type": "markdown",
      "metadata": {
        "id": "ezMvoRlB1D_t"
      },
      "source": [
        "This dataset contains the latitude and longitude (as well as several other details we will not be using) of every Starbucks in the world as of February 2017. Each row consists of the following features, which are generally self-explanatory:\n",
        "\n",
        "- Brand\n",
        "- Store Number\n",
        "- Store Name\n",
        "- Ownership Type\n",
        "- Street Address\n",
        "- City\n",
        "- State/Province\n",
        "- Country\n",
        "- Postcode\n",
        "- Phone Number\n",
        "- Timezone\n",
        "- Longitude\n",
        "- Latitude\n",
        "\n",
        "Load in the dataset."
      ]
    },
    {
      "cell_type": "code",
      "metadata": {
        "id": "wP1U4eQ91D_u"
      },
      "source": [
        "# answer goes here\n",
        "url = 'https://tf-assets-prod.s3.amazonaws.com/tf-curric/data-science/Data%20Sets%20Clustering/starbucks_locations.csv'\n",
        "df = pd.read_csv(url)"
      ],
      "execution_count": null,
      "outputs": []
    },
    {
      "cell_type": "markdown",
      "metadata": {
        "id": "o_K1eQ0x1D_y"
      },
      "source": [
        "Begin by narrowing down the dataset to a specific geographic area of interest. Since we will need to manually compute a distance matrix, which will be on the order of $n^{2}$ in terms of size, we would recommend choosing an area with 3000 or less locations. In this example, we will use Hawaii, which has about 100 locations; for reference, California has about 2800 locations. Feel free to choose a different region that is of more interest to you, if desired.\n",
        "\n",
        "Subset the dataframe to only include records for Starbucks locations in Hawaii."
      ]
    },
    {
      "cell_type": "code",
      "metadata": {
        "id": "Z5BOvmffzKqa",
        "outputId": "c5c52f03-dc8a-455f-dfe4-77f3e573085b",
        "colab": {
          "base_uri": "https://localhost:8080/"
        }
      },
      "source": [
        "# answer goes here\n",
        "hawaii = df[(df['State/Province'] == 'HI')]\n",
        "hawaii.info()"
      ],
      "execution_count": null,
      "outputs": [
        {
          "output_type": "stream",
          "text": [
            "<class 'pandas.core.frame.DataFrame'>\n",
            "Int64Index: 99 entries, 17202 to 17300\n",
            "Data columns (total 13 columns):\n",
            " #   Column          Non-Null Count  Dtype  \n",
            "---  ------          --------------  -----  \n",
            " 0   Brand           99 non-null     object \n",
            " 1   Store Number    99 non-null     object \n",
            " 2   Store Name      99 non-null     object \n",
            " 3   Ownership Type  99 non-null     object \n",
            " 4   Street Address  99 non-null     object \n",
            " 5   City            99 non-null     object \n",
            " 6   State/Province  99 non-null     object \n",
            " 7   Country         99 non-null     object \n",
            " 8   Postcode        99 non-null     object \n",
            " 9   Phone Number    90 non-null     object \n",
            " 10  Timezone        99 non-null     object \n",
            " 11  Longitude       99 non-null     float64\n",
            " 12  Latitude        99 non-null     float64\n",
            "dtypes: float64(2), object(11)\n",
            "memory usage: 10.8+ KB\n"
          ],
          "name": "stdout"
        }
      ]
    },
    {
      "cell_type": "markdown",
      "metadata": {
        "id": "oQdBNgiAzKqd"
      },
      "source": [
        "The haversine package takes tuples with 2 numeric elements and interprets them as lat-long to calculate distance, so add a new column called \"Coordinates\" that converts the lat and long in each row into a tuple. In other words, the last two columns of the dataframe should initially look like this:\n",
        "\n",
        "**Latitude, Longitude**  \n",
        "39.14, -121.64  \n",
        "34.13, -116.40  \n",
        "...\n",
        "\n",
        "After adding the new column, the last three columns should look like this:\n",
        "\n",
        "**Latitude, Longitude, Coordinates**  \n",
        "39.14, -121.64,   (39.14, -121.64)  \n",
        "34.13, -116.40,   (34.13, -116.40)  \n",
        "..."
      ]
    },
    {
      "cell_type": "code",
      "metadata": {
        "id": "xfYVreyw1D_y",
        "outputId": "782491d1-4dff-4eb8-f71e-d5544f97ed96",
        "colab": {
          "base_uri": "https://localhost:8080/"
        }
      },
      "source": [
        "# answer goes here\n",
        "hawaii['Coordinates'] = list(zip(hawaii.Latitude, hawaii.Longitude))\n",
        "hawaii.info()\n"
      ],
      "execution_count": null,
      "outputs": [
        {
          "output_type": "stream",
          "text": [
            "<class 'pandas.core.frame.DataFrame'>\n",
            "Int64Index: 99 entries, 17202 to 17300\n",
            "Data columns (total 14 columns):\n",
            " #   Column          Non-Null Count  Dtype  \n",
            "---  ------          --------------  -----  \n",
            " 0   Brand           99 non-null     object \n",
            " 1   Store Number    99 non-null     object \n",
            " 2   Store Name      99 non-null     object \n",
            " 3   Ownership Type  99 non-null     object \n",
            " 4   Street Address  99 non-null     object \n",
            " 5   City            99 non-null     object \n",
            " 6   State/Province  99 non-null     object \n",
            " 7   Country         99 non-null     object \n",
            " 8   Postcode        99 non-null     object \n",
            " 9   Phone Number    90 non-null     object \n",
            " 10  Timezone        99 non-null     object \n",
            " 11  Longitude       99 non-null     float64\n",
            " 12  Latitude        99 non-null     float64\n",
            " 13  Coordinates     99 non-null     object \n",
            "dtypes: float64(2), object(12)\n",
            "memory usage: 11.6+ KB\n"
          ],
          "name": "stdout"
        },
        {
          "output_type": "stream",
          "text": [
            "/usr/local/lib/python3.6/dist-packages/ipykernel_launcher.py:2: SettingWithCopyWarning: \n",
            "A value is trying to be set on a copy of a slice from a DataFrame.\n",
            "Try using .loc[row_indexer,col_indexer] = value instead\n",
            "\n",
            "See the caveats in the documentation: https://pandas.pydata.org/pandas-docs/stable/user_guide/indexing.html#returning-a-view-versus-a-copy\n",
            "  \n"
          ],
          "name": "stderr"
        }
      ]
    },
    {
      "cell_type": "markdown",
      "metadata": {
        "id": "JejOosWVzKqg"
      },
      "source": [
        "Calculate the distance matrix using the starter code/function geo_sim_matrix() provided earlier in the notebook. It assumes the column containing the coordinates for each location is called \"Coordinates\". Examine the docstring for more details.\n",
        "\n",
        "Note: the latitude and longitudes provided only go out to two decimal places, which limits the resolution of the distance calculations to about 0.5 miles. Distances that are very small may not be accurately represented here (e.g. several instances of \"0 distance\" for distinct Starbucks locations in very close proximity)."
      ]
    },
    {
      "cell_type": "code",
      "metadata": {
        "id": "RtXe5j2szKqh"
      },
      "source": [
        "# answer goes here\n",
        "distance = geo_sim_matrix(hawaii, col_name = 'Coordinates')"
      ],
      "execution_count": null,
      "outputs": []
    },
    {
      "cell_type": "markdown",
      "metadata": {
        "id": "86lfEP_91D_0"
      },
      "source": [
        "For each Starbucks, identify its nearest neighboring location in Hawaii (and presumably in the world). Save the output to a dataframe with three columns: Location, Nearest Neighbor, and Distance (Miles)."
      ]
    },
    {
      "cell_type": "code",
      "metadata": {
        "id": "o3PUI4l61D_0",
        "outputId": "b62fe3e8-cf06-4717-9106-4fa1e041705c",
        "colab": {
          "base_uri": "https://localhost:8080/",
          "height": 204
        }
      },
      "source": [
        "# answer goes here\n",
        "nn = {}\n",
        "for i in distance.index:\n",
        "  distances = distance[i][distance.index != i]\n",
        "  nn[i, distances.idxmin()] = min(distances)\n",
        "\n",
        "nn = pd.DataFrame(list(nn.items()))\n",
        "nn['Location'] = nn[0].apply(lambda x: x[0])\n",
        "nn['Neirest Neighbor'] = nn[0].apply(lambda x: x[1])\n",
        "nn['Distance (Miles)'] = nn[1]\n",
        "nn.drop(columns=[0,1], inplace=True)\n",
        "nn.head()"
      ],
      "execution_count": null,
      "outputs": [
        {
          "output_type": "execute_result",
          "data": {
            "text/html": [
              "<div>\n",
              "<style scoped>\n",
              "    .dataframe tbody tr th:only-of-type {\n",
              "        vertical-align: middle;\n",
              "    }\n",
              "\n",
              "    .dataframe tbody tr th {\n",
              "        vertical-align: top;\n",
              "    }\n",
              "\n",
              "    .dataframe thead th {\n",
              "        text-align: right;\n",
              "    }\n",
              "</style>\n",
              "<table border=\"1\" class=\"dataframe\">\n",
              "  <thead>\n",
              "    <tr style=\"text-align: right;\">\n",
              "      <th></th>\n",
              "      <th>Location</th>\n",
              "      <th>Neirest Neighbor</th>\n",
              "      <th>Distance (Miles)</th>\n",
              "    </tr>\n",
              "  </thead>\n",
              "  <tbody>\n",
              "    <tr>\n",
              "      <th>0</th>\n",
              "      <td>17202</td>\n",
              "      <td>17204</td>\n",
              "      <td>0.643386</td>\n",
              "    </tr>\n",
              "    <tr>\n",
              "      <th>1</th>\n",
              "      <td>17203</td>\n",
              "      <td>17202</td>\n",
              "      <td>0.690934</td>\n",
              "    </tr>\n",
              "    <tr>\n",
              "      <th>2</th>\n",
              "      <td>17204</td>\n",
              "      <td>17202</td>\n",
              "      <td>0.643386</td>\n",
              "    </tr>\n",
              "    <tr>\n",
              "      <th>3</th>\n",
              "      <td>17205</td>\n",
              "      <td>17206</td>\n",
              "      <td>0.643342</td>\n",
              "    </tr>\n",
              "    <tr>\n",
              "      <th>4</th>\n",
              "      <td>17206</td>\n",
              "      <td>17205</td>\n",
              "      <td>0.643342</td>\n",
              "    </tr>\n",
              "  </tbody>\n",
              "</table>\n",
              "</div>"
            ],
            "text/plain": [
              "   Location  Neirest Neighbor  Distance (Miles)\n",
              "0     17202             17204          0.643386\n",
              "1     17203             17202          0.690934\n",
              "2     17204             17202          0.643386\n",
              "3     17205             17206          0.643342\n",
              "4     17206             17205          0.643342"
            ]
          },
          "metadata": {
            "tags": []
          },
          "execution_count": 18
        }
      ]
    },
    {
      "cell_type": "markdown",
      "metadata": {
        "id": "0fpUIvnVzKqn"
      },
      "source": [
        "If the nearest neighbor of a Starbucks location is far away, we could consider that Starbucks to be \"on an island\". Which five Starbucks in Hawaii are the most \"on an island\"?"
      ]
    },
    {
      "cell_type": "code",
      "metadata": {
        "id": "S9ei1WPmzKqo"
      },
      "source": [
        "# answer goes here\n",
        "\n",
        "\n",
        "\n"
      ],
      "execution_count": null,
      "outputs": []
    }
  ]
}