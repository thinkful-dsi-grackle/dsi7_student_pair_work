{
  "nbformat": 4,
  "nbformat_minor": 0,
  "metadata": {
    "colab": {
      "name": "Gee_D46_ L1_Assignment.ipynb",
      "provenance": [],
      "collapsed_sections": []
    },
    "kernelspec": {
      "display_name": "Python 3",
      "language": "python",
      "name": "python3"
    },
    "language_info": {
      "codemirror_mode": {
        "name": "ipython",
        "version": 3
      },
      "file_extension": ".py",
      "mimetype": "text/x-python",
      "name": "python",
      "nbconvert_exporter": "python",
      "pygments_lexer": "ipython3",
      "version": "3.7.0"
    }
  },
  "cells": [
    {
      "cell_type": "markdown",
      "metadata": {
        "id": "xdL0Yz0D1D_q"
      },
      "source": [
        "## Day 46 Lecture 1 Assignment\n",
        "\n",
        "In this assignment, we will calculate a distance matrix for geographical Starbucks data and use it to identify locations that are close together and far apart. We will perform clustering on this dataset later on.\n",
        "\n",
        "We will be using the \"haversine\" package to compute geographical distance. It can be pip installed."
      ]
    },
    {
      "cell_type": "code",
      "metadata": {
        "id": "XEaeZ9rG7vT9",
        "outputId": "1a8f4e29-c422-4e03-ec4b-82afc88cf369",
        "colab": {
          "base_uri": "https://localhost:8080/"
        }
      },
      "source": [
        "!pip install haversine"
      ],
      "execution_count": 4,
      "outputs": [
        {
          "output_type": "stream",
          "text": [
            "Collecting haversine\n",
            "  Downloading https://files.pythonhosted.org/packages/f4/52/a13286844780c7b1740edbbee8a8f0524e2a6d51c068b59dda39a6a119f5/haversine-2.3.0-py2.py3-none-any.whl\n",
            "Installing collected packages: haversine\n",
            "Successfully installed haversine-2.3.0\n"
          ],
          "name": "stdout"
        }
      ]
    },
    {
      "cell_type": "code",
      "metadata": {
        "id": "OulyiH_C1D_r"
      },
      "source": [
        "%matplotlib inline\n",
        "\n",
        "import matplotlib.pyplot as plt\n",
        "import numpy as np\n",
        "import pandas as pd\n",
        "from haversine import haversine"
      ],
      "execution_count": 6,
      "outputs": []
    },
    {
      "cell_type": "markdown",
      "metadata": {
        "id": "F1L7qOFczKqS"
      },
      "source": [
        "Below is a convenience function for calculating geographical distance matrices using lat-long data."
      ]
    },
    {
      "cell_type": "code",
      "metadata": {
        "id": "woD3d3RNzKqT"
      },
      "source": [
        "def geo_sim_matrix(df, col_name = 'Coordinates'):\n",
        "    \"\"\"\n",
        "    A function that computes a geographical distance matrix (in miles).\n",
        "    Each row in the dataframe should correspond to one location.\n",
        "    In addition, the dataframe must have a column containing the lat-long of each location as a tuple (i.e. (lat, long)).\n",
        "    \n",
        "    Parameters:\n",
        "        df (pandas dataframe): an nxm dataframe containing the locations to compute similarities between.\n",
        "        col (string): the name of the column containing the lat-long tuples.\n",
        "        \n",
        "    Returns:\n",
        "        distance (pandas dataframe): an nxn distance matrix between the geographical coordinates of each location.\n",
        "    \"\"\"\n",
        "    \n",
        "    df = df.copy()\n",
        "    df.reset_index(inplace=True)\n",
        "    haver_vec = np.vectorize(haversine, otypes=[np.float32])\n",
        "    distance = df.groupby('index').apply(lambda x: pd.Series(haver_vec(df[col_name], x[col_name])))\n",
        "    distance = distance / 1.609344  # converts to miles\n",
        "    distance.columns = distance.index\n",
        "    \n",
        "    return distance\n"
      ],
      "execution_count": 7,
      "outputs": []
    },
    {
      "cell_type": "markdown",
      "metadata": {
        "id": "ezMvoRlB1D_t"
      },
      "source": [
        "This dataset contains the latitude and longitude (as well as several other details we will not be using) of every Starbucks in the world as of February 2017. Each row consists of the following features, which are generally self-explanatory:\n",
        "\n",
        "- Brand\n",
        "- Store Number\n",
        "- Store Name\n",
        "- Ownership Type\n",
        "- Street Address\n",
        "- City\n",
        "- State/Province\n",
        "- Country\n",
        "- Postcode\n",
        "- Phone Number\n",
        "- Timezone\n",
        "- Longitude\n",
        "- Latitude\n",
        "\n",
        "Load in the dataset."
      ]
    },
    {
      "cell_type": "code",
      "metadata": {
        "id": "wP1U4eQ91D_u"
      },
      "source": [
        "# answer goes here\n",
        "\n",
        "sbucks = pd.read_csv('https://tf-assets-prod.s3.amazonaws.com/tf-curric/data-science/Data%20Sets%20Clustering/starbucks_locations.csv')"
      ],
      "execution_count": 8,
      "outputs": []
    },
    {
      "cell_type": "markdown",
      "metadata": {
        "id": "o_K1eQ0x1D_y"
      },
      "source": [
        "Begin by narrowing down the dataset to a specific geographic area of interest. Since we will need to manually compute a distance matrix, which will be on the order of $n^{2}$ in terms of size, we would recommend choosing an area with 3000 or less locations. In this example, we will use Hawaii, which has about 100 locations; for reference, California has about 2800 locations. Feel free to choose a different region that is of more interest to you, if desired.\n",
        "\n",
        "Subset the dataframe to only include records for Starbucks locations in Hawaii."
      ]
    },
    {
      "cell_type": "code",
      "metadata": {
        "id": "Z5BOvmffzKqa"
      },
      "source": [
        "# answer goes here\n",
        "hi = sbucks[(sbucks['State/Province'] == 'HI')]"
      ],
      "execution_count": 16,
      "outputs": []
    },
    {
      "cell_type": "markdown",
      "metadata": {
        "id": "oQdBNgiAzKqd"
      },
      "source": [
        "The haversine package takes tuples with 2 numeric elements and interprets them as lat-long to calculate distance, so add a new column called \"Coordinates\" that converts the lat and long in each row into a tuple. In other words, the last two columns of the dataframe should initially look like this:\n",
        "\n",
        "**Latitude, Longitude**  \n",
        "39.14, -121.64  \n",
        "34.13, -116.40  \n",
        "...\n",
        "\n",
        "After adding the new column, the last three columns should look like this:\n",
        "\n",
        "**Latitude, Longitude, Coordinates**  \n",
        "39.14, -121.64,   (39.14, -121.64)  \n",
        "34.13, -116.40,   (34.13, -116.40)  \n",
        "..."
      ]
    },
    {
      "cell_type": "code",
      "metadata": {
        "id": "xfYVreyw1D_y",
        "outputId": "e8b84cbe-56e6-45b3-a21f-ec97b0926dc7",
        "colab": {
          "base_uri": "https://localhost:8080/"
        }
      },
      "source": [
        "# answer goes here\n",
        "\n",
        "hi['Coordinates'] = list(zip(hi.loc[:,'Latitude'], hi.loc[:,'Longitude']))\n",
        "\n"
      ],
      "execution_count": 17,
      "outputs": [
        {
          "output_type": "stream",
          "text": [
            "/usr/local/lib/python3.6/dist-packages/ipykernel_launcher.py:3: SettingWithCopyWarning: \n",
            "A value is trying to be set on a copy of a slice from a DataFrame.\n",
            "Try using .loc[row_indexer,col_indexer] = value instead\n",
            "\n",
            "See the caveats in the documentation: https://pandas.pydata.org/pandas-docs/stable/user_guide/indexing.html#returning-a-view-versus-a-copy\n",
            "  This is separate from the ipykernel package so we can avoid doing imports until\n"
          ],
          "name": "stderr"
        }
      ]
    },
    {
      "cell_type": "markdown",
      "metadata": {
        "id": "JejOosWVzKqg"
      },
      "source": [
        "Calculate the distance matrix using the starter code/function geo_sim_matrix() provided earlier in the notebook. It assumes the column containing the coordinates for each location is called \"Coordinates\". Examine the docstring for more details.\n",
        "\n",
        "Note: the latitude and longitudes provided only go out to two decimal places, which limits the resolution of the distance calculations to about 0.5 miles. Distances that are very small may not be accurately represented here (e.g. several instances of \"0 distance\" for distinct Starbucks locations in very close proximity)."
      ]
    },
    {
      "cell_type": "code",
      "metadata": {
        "id": "RtXe5j2szKqh"
      },
      "source": [
        "# answer goes here\n",
        "\n",
        "dis = geo_sim_matrix(hi, col_name='Coordinates')\n",
        "\n"
      ],
      "execution_count": 18,
      "outputs": []
    },
    {
      "cell_type": "markdown",
      "metadata": {
        "id": "86lfEP_91D_0"
      },
      "source": [
        "For each Starbucks, identify its nearest neighboring location in Hawaii (and presumably in the world). Save the output to a dataframe with three columns: Location, Nearest Neighbor, and Distance (Miles)."
      ]
    },
    {
      "cell_type": "code",
      "metadata": {
        "id": "Z5FOOUsjQ-HR",
        "outputId": "cca4cb46-71af-4879-c4be-4ecc1a668dc6",
        "colab": {
          "base_uri": "https://localhost:8080/"
        }
      },
      "source": [
        "hi['Nearest Neighbor'] = dis[dis != 0].idxmin(axis=1)"
      ],
      "execution_count": 19,
      "outputs": [
        {
          "output_type": "stream",
          "text": [
            "/usr/local/lib/python3.6/dist-packages/ipykernel_launcher.py:1: SettingWithCopyWarning: \n",
            "A value is trying to be set on a copy of a slice from a DataFrame.\n",
            "Try using .loc[row_indexer,col_indexer] = value instead\n",
            "\n",
            "See the caveats in the documentation: https://pandas.pydata.org/pandas-docs/stable/user_guide/indexing.html#returning-a-view-versus-a-copy\n",
            "  \"\"\"Entry point for launching an IPython kernel.\n"
          ],
          "name": "stderr"
        }
      ]
    },
    {
      "cell_type": "code",
      "metadata": {
        "id": "D4livrEYRdi_",
        "outputId": "4f80ac4e-af72-4e55-c6b9-056cf1239799",
        "colab": {
          "base_uri": "https://localhost:8080/"
        }
      },
      "source": [
        "hi['Distance'] = dis[dis != 0].min(axis=1)"
      ],
      "execution_count": 21,
      "outputs": [
        {
          "output_type": "stream",
          "text": [
            "/usr/local/lib/python3.6/dist-packages/ipykernel_launcher.py:1: SettingWithCopyWarning: \n",
            "A value is trying to be set on a copy of a slice from a DataFrame.\n",
            "Try using .loc[row_indexer,col_indexer] = value instead\n",
            "\n",
            "See the caveats in the documentation: https://pandas.pydata.org/pandas-docs/stable/user_guide/indexing.html#returning-a-view-versus-a-copy\n",
            "  \"\"\"Entry point for launching an IPython kernel.\n"
          ],
          "name": "stderr"
        }
      ]
    },
    {
      "cell_type": "code",
      "metadata": {
        "id": "o3PUI4l61D_0",
        "outputId": "ba550fae-6389-40d6-ed70-9f34897ef372",
        "colab": {
          "base_uri": "https://localhost:8080/",
          "height": 419
        }
      },
      "source": [
        "# answer goes here\n",
        "hi_dist = hi[['Nearest Neighbor','Distance']]\n",
        "hi_dist\n"
      ],
      "execution_count": 22,
      "outputs": [
        {
          "output_type": "execute_result",
          "data": {
            "text/html": [
              "<div>\n",
              "<style scoped>\n",
              "    .dataframe tbody tr th:only-of-type {\n",
              "        vertical-align: middle;\n",
              "    }\n",
              "\n",
              "    .dataframe tbody tr th {\n",
              "        vertical-align: top;\n",
              "    }\n",
              "\n",
              "    .dataframe thead th {\n",
              "        text-align: right;\n",
              "    }\n",
              "</style>\n",
              "<table border=\"1\" class=\"dataframe\">\n",
              "  <thead>\n",
              "    <tr style=\"text-align: right;\">\n",
              "      <th></th>\n",
              "      <th>Nearest Neighbor</th>\n",
              "      <th>Distance</th>\n",
              "    </tr>\n",
              "  </thead>\n",
              "  <tbody>\n",
              "    <tr>\n",
              "      <th>17202</th>\n",
              "      <td>17204</td>\n",
              "      <td>0.643386</td>\n",
              "    </tr>\n",
              "    <tr>\n",
              "      <th>17203</th>\n",
              "      <td>17202</td>\n",
              "      <td>0.690934</td>\n",
              "    </tr>\n",
              "    <tr>\n",
              "      <th>17204</th>\n",
              "      <td>17202</td>\n",
              "      <td>0.643386</td>\n",
              "    </tr>\n",
              "    <tr>\n",
              "      <th>17205</th>\n",
              "      <td>17206</td>\n",
              "      <td>0.643342</td>\n",
              "    </tr>\n",
              "    <tr>\n",
              "      <th>17206</th>\n",
              "      <td>17205</td>\n",
              "      <td>0.643342</td>\n",
              "    </tr>\n",
              "    <tr>\n",
              "      <th>...</th>\n",
              "      <td>...</td>\n",
              "      <td>...</td>\n",
              "    </tr>\n",
              "    <tr>\n",
              "      <th>17296</th>\n",
              "      <td>17277</td>\n",
              "      <td>2.838297</td>\n",
              "    </tr>\n",
              "    <tr>\n",
              "      <th>17297</th>\n",
              "      <td>17255</td>\n",
              "      <td>1.291034</td>\n",
              "    </tr>\n",
              "    <tr>\n",
              "      <th>17298</th>\n",
              "      <td>17300</td>\n",
              "      <td>1.460423</td>\n",
              "    </tr>\n",
              "    <tr>\n",
              "      <th>17299</th>\n",
              "      <td>17288</td>\n",
              "      <td>1.524194</td>\n",
              "    </tr>\n",
              "    <tr>\n",
              "      <th>17300</th>\n",
              "      <td>17298</td>\n",
              "      <td>1.460423</td>\n",
              "    </tr>\n",
              "  </tbody>\n",
              "</table>\n",
              "<p>99 rows × 2 columns</p>\n",
              "</div>"
            ],
            "text/plain": [
              "       Nearest Neighbor  Distance\n",
              "17202             17204  0.643386\n",
              "17203             17202  0.690934\n",
              "17204             17202  0.643386\n",
              "17205             17206  0.643342\n",
              "17206             17205  0.643342\n",
              "...                 ...       ...\n",
              "17296             17277  2.838297\n",
              "17297             17255  1.291034\n",
              "17298             17300  1.460423\n",
              "17299             17288  1.524194\n",
              "17300             17298  1.460423\n",
              "\n",
              "[99 rows x 2 columns]"
            ]
          },
          "metadata": {
            "tags": []
          },
          "execution_count": 22
        }
      ]
    },
    {
      "cell_type": "markdown",
      "metadata": {
        "id": "0fpUIvnVzKqn"
      },
      "source": [
        "If the nearest neighbor of a Starbucks location is far away, we could consider that Starbucks to be \"on an island\". Which five Starbucks in Hawaii are the most \"on an island\"?"
      ]
    },
    {
      "cell_type": "code",
      "metadata": {
        "id": "S9ei1WPmzKqo",
        "outputId": "5072c025-f32e-4f2c-fa83-52e002b2c9a0",
        "colab": {
          "base_uri": "https://localhost:8080/",
          "height": 204
        }
      },
      "source": [
        "# answer goes here\n",
        "hi_dist.sort_values(by= 'Distance', ascending=False).head()\n"
      ],
      "execution_count": 24,
      "outputs": [
        {
          "output_type": "execute_result",
          "data": {
            "text/html": [
              "<div>\n",
              "<style scoped>\n",
              "    .dataframe tbody tr th:only-of-type {\n",
              "        vertical-align: middle;\n",
              "    }\n",
              "\n",
              "    .dataframe tbody tr th {\n",
              "        vertical-align: top;\n",
              "    }\n",
              "\n",
              "    .dataframe thead th {\n",
              "        text-align: right;\n",
              "    }\n",
              "</style>\n",
              "<table border=\"1\" class=\"dataframe\">\n",
              "  <thead>\n",
              "    <tr style=\"text-align: right;\">\n",
              "      <th></th>\n",
              "      <th>Nearest Neighbor</th>\n",
              "      <th>Distance</th>\n",
              "    </tr>\n",
              "  </thead>\n",
              "  <tbody>\n",
              "    <tr>\n",
              "      <th>17295</th>\n",
              "      <td>17267</td>\n",
              "      <td>15.612447</td>\n",
              "    </tr>\n",
              "    <tr>\n",
              "      <th>17267</th>\n",
              "      <td>17295</td>\n",
              "      <td>15.612447</td>\n",
              "    </tr>\n",
              "    <tr>\n",
              "      <th>17278</th>\n",
              "      <td>17284</td>\n",
              "      <td>8.059888</td>\n",
              "    </tr>\n",
              "    <tr>\n",
              "      <th>17291</th>\n",
              "      <td>17261</td>\n",
              "      <td>7.322419</td>\n",
              "    </tr>\n",
              "    <tr>\n",
              "      <th>17294</th>\n",
              "      <td>17292</td>\n",
              "      <td>6.739833</td>\n",
              "    </tr>\n",
              "  </tbody>\n",
              "</table>\n",
              "</div>"
            ],
            "text/plain": [
              "       Nearest Neighbor   Distance\n",
              "17295             17267  15.612447\n",
              "17267             17295  15.612447\n",
              "17278             17284   8.059888\n",
              "17291             17261   7.322419\n",
              "17294             17292   6.739833"
            ]
          },
          "metadata": {
            "tags": []
          },
          "execution_count": 24
        }
      ]
    }
  ]
}