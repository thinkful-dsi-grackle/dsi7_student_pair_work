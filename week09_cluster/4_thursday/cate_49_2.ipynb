{
  "nbformat": 4,
  "nbformat_minor": 0,
  "metadata": {
    "colab": {
      "name": "cate_49_2.ipynb",
      "provenance": [],
      "collapsed_sections": []
    },
    "kernelspec": {
      "display_name": "Python 3",
      "language": "python",
      "name": "python3"
    },
    "language_info": {
      "codemirror_mode": {
        "name": "ipython",
        "version": 3
      },
      "file_extension": ".py",
      "mimetype": "text/x-python",
      "name": "python",
      "nbconvert_exporter": "python",
      "pygments_lexer": "ipython3",
      "version": "3.7.0"
    }
  },
  "cells": [
    {
      "cell_type": "markdown",
      "metadata": {
        "id": "xdL0Yz0D1D_q"
      },
      "source": [
        "## Day 49 Lecture 2 Assignment\n",
        "\n",
        "In this assignment, we will apply mean shift clustering to a dataset containing the results of a survey on financial wellbeing."
      ]
    },
    {
      "cell_type": "code",
      "metadata": {
        "id": "OulyiH_C1D_r"
      },
      "source": [
        "%matplotlib inline\n",
        "\n",
        "import matplotlib.pyplot as plt\n",
        "import numpy as np\n",
        "import pandas as pd\n",
        "from sklearn.cluster import MeanShift, estimate_bandwidth\n",
        "from sklearn.preprocessing import StandardScaler"
      ],
      "execution_count": 1,
      "outputs": []
    },
    {
      "cell_type": "markdown",
      "metadata": {
        "id": "ezMvoRlB1D_t"
      },
      "source": [
        "This dataset contains the results of a survey on a financial wellbeing conducted by the US Consumer Finance Protection Bureau that were published in October 2017. This dataset has a large number of columns, most of which correspond to specific questions on the survey. These codebook for translating the column names to questions can be found here:\n",
        "\n",
        "https://s3.amazonaws.com/files.consumerfinance.gov/f/documents/cfpb_nfwbs-puf-codebook.pdf\n",
        "\n",
        "Load the dataset."
      ]
    },
    {
      "cell_type": "code",
      "metadata": {
        "id": "wP1U4eQ91D_u"
      },
      "source": [
        "# read in dataset\n",
        "data = pd.read_csv('https://tf-assets-prod.s3.amazonaws.com/tf-curric/data-science/Data%20Sets%20Clustering/financial_wellbeing.csv')"
      ],
      "execution_count": 2,
      "outputs": []
    },
    {
      "cell_type": "markdown",
      "metadata": {
        "id": "o_K1eQ0x1D_y"
      },
      "source": [
        "While the survey questions have the potential for interesting cluster analysis, we will stick to the \"score\" columns to avoid clustering in an unreasonably high-dimensional space. The columns we are interested in all have \"score\" in their names; identify and isolate these columns. (There should be 4 in total.)"
      ]
    },
    {
      "cell_type": "code",
      "metadata": {
        "id": "xfYVreyw1D_y"
      },
      "source": [
        "# select only score columns \n",
        "data = data.loc[:, data.columns.str.contains('score')].reset_index(drop=True)"
      ],
      "execution_count": 3,
      "outputs": []
    },
    {
      "cell_type": "markdown",
      "metadata": {
        "id": "MUjcLMMk1D_2"
      },
      "source": [
        "Standardize the features in your dataset using scikit-learn's StandardScaler, which will set the mean of each feature to 0 and the variance to 1."
      ]
    },
    {
      "cell_type": "code",
      "metadata": {
        "id": "6OTdN8oF1D_2"
      },
      "source": [
        "# scale features with StandardScaler\n",
        "sc = StandardScaler()\n",
        "data_sc = sc.fit_transform(data)\n",
        "data_sc = pd.DataFrame(data_sc, columns=data.columns)"
      ],
      "execution_count": 4,
      "outputs": []
    },
    {
      "cell_type": "markdown",
      "metadata": {
        "id": "ao3Y5FVp1D_4"
      },
      "source": [
        "Run mean shift clustering on the scores in the survey dataset using the default bandwidth. Then answer the following by printing or typing as appropriate:\n",
        "\n",
        "- How many clusters are produced? \n",
        "- What are the cluster centers?\n",
        "- How many responses are assigned to each cluster?\n",
        "- Are these results reasonable? If not, what changes should we make?"
      ]
    },
    {
      "cell_type": "code",
      "metadata": {
        "id": "sUhMxZdL1D_4"
      },
      "source": [
        "# mean shift clustering\n",
        "ms = MeanShift()\n",
        "data['mean_shift_cluster'] = ms.fit_predict(data_sc)"
      ],
      "execution_count": 5,
      "outputs": []
    },
    {
      "cell_type": "code",
      "metadata": {
        "colab": {
          "base_uri": "https://localhost:8080/"
        },
        "id": "WX13CvYX31TM",
        "outputId": "0d8c5cc1-8c18-43ab-965a-c15f228a2d64"
      },
      "source": [
        "print('At default bandwith, there were {} clusters'.format(ms.cluster_centers_.shape[0])) "
      ],
      "execution_count": 6,
      "outputs": [
        {
          "output_type": "stream",
          "text": [
            "At default bandwith, there were 2 clusters\n"
          ],
          "name": "stdout"
        }
      ]
    },
    {
      "cell_type": "code",
      "metadata": {
        "colab": {
          "base_uri": "https://localhost:8080/",
          "height": 99
        },
        "id": "GHciEPOh5W7y",
        "outputId": "5f0f367f-6289-44e7-a394-a2384273f20f"
      },
      "source": [
        "print('The cluster centers are as follows:')\n",
        "clusters = pd.DataFrame(\n",
        "    sc.inverse_transform(ms.cluster_centers_),\n",
        "    columns = data_sc.columns\n",
        ")\n",
        "\n",
        "clusters.style.background_gradient()"
      ],
      "execution_count": 7,
      "outputs": [
        {
          "output_type": "stream",
          "text": [
            "The cluster centers are as follows:\n"
          ],
          "name": "stdout"
        },
        {
          "output_type": "execute_result",
          "data": {
            "text/html": [
              "<style  type=\"text/css\" >\n",
              "#T_7f155924_2aa9_11eb_9739_0242ac1c0002row0_col0,#T_7f155924_2aa9_11eb_9739_0242ac1c0002row0_col1,#T_7f155924_2aa9_11eb_9739_0242ac1c0002row0_col2,#T_7f155924_2aa9_11eb_9739_0242ac1c0002row0_col3{\n",
              "            background-color:  #023858;\n",
              "            color:  #f1f1f1;\n",
              "        }#T_7f155924_2aa9_11eb_9739_0242ac1c0002row1_col0,#T_7f155924_2aa9_11eb_9739_0242ac1c0002row1_col1,#T_7f155924_2aa9_11eb_9739_0242ac1c0002row1_col2,#T_7f155924_2aa9_11eb_9739_0242ac1c0002row1_col3{\n",
              "            background-color:  #fff7fb;\n",
              "            color:  #000000;\n",
              "        }</style><table id=\"T_7f155924_2aa9_11eb_9739_0242ac1c0002\" ><thead>    <tr>        <th class=\"blank level0\" ></th>        <th class=\"col_heading level0 col0\" >FWBscore</th>        <th class=\"col_heading level0 col1\" >FSscore</th>        <th class=\"col_heading level0 col2\" >LMscore</th>        <th class=\"col_heading level0 col3\" >KHscore</th>    </tr></thead><tbody>\n",
              "                <tr>\n",
              "                        <th id=\"T_7f155924_2aa9_11eb_9739_0242ac1c0002level0_row0\" class=\"row_heading level0 row0\" >0</th>\n",
              "                        <td id=\"T_7f155924_2aa9_11eb_9739_0242ac1c0002row0_col0\" class=\"data row0 col0\" >57.437953</td>\n",
              "                        <td id=\"T_7f155924_2aa9_11eb_9739_0242ac1c0002row0_col1\" class=\"data row0 col1\" >50.121439</td>\n",
              "                        <td id=\"T_7f155924_2aa9_11eb_9739_0242ac1c0002row0_col2\" class=\"data row0 col2\" >2.814341</td>\n",
              "                        <td id=\"T_7f155924_2aa9_11eb_9739_0242ac1c0002row0_col3\" class=\"data row0 col3\" >0.217414</td>\n",
              "            </tr>\n",
              "            <tr>\n",
              "                        <th id=\"T_7f155924_2aa9_11eb_9739_0242ac1c0002level0_row1\" class=\"row_heading level0 row1\" >1</th>\n",
              "                        <td id=\"T_7f155924_2aa9_11eb_9739_0242ac1c0002row1_col0\" class=\"data row1 col0\" >-1.000000</td>\n",
              "                        <td id=\"T_7f155924_2aa9_11eb_9739_0242ac1c0002row1_col1\" class=\"data row1 col1\" >-1.000000</td>\n",
              "                        <td id=\"T_7f155924_2aa9_11eb_9739_0242ac1c0002row1_col2\" class=\"data row1 col2\" >0.250000</td>\n",
              "                        <td id=\"T_7f155924_2aa9_11eb_9739_0242ac1c0002row1_col3\" class=\"data row1 col3\" >-1.826000</td>\n",
              "            </tr>\n",
              "    </tbody></table>"
            ],
            "text/plain": [
              "<pandas.io.formats.style.Styler at 0x7ff7724cf0f0>"
            ]
          },
          "metadata": {
            "tags": []
          },
          "execution_count": 7
        }
      ]
    },
    {
      "cell_type": "code",
      "metadata": {
        "colab": {
          "base_uri": "https://localhost:8080/"
        },
        "id": "rENnDWvl5Pfq",
        "outputId": "69d1c8e9-6b6b-4e10-ca5a-42729b3773b7"
      },
      "source": [
        "print('Response assignment to clusters:')\n",
        "data.mean_shift_cluster.value_counts()"
      ],
      "execution_count": 8,
      "outputs": [
        {
          "output_type": "stream",
          "text": [
            "Response assignment to clusters:\n"
          ],
          "name": "stdout"
        },
        {
          "output_type": "execute_result",
          "data": {
            "text/plain": [
              "0    6326\n",
              "1      68\n",
              "Name: mean_shift_cluster, dtype: int64"
            ]
          },
          "metadata": {
            "tags": []
          },
          "execution_count": 8
        }
      ]
    },
    {
      "cell_type": "markdown",
      "metadata": {
        "id": "4q7PCQVtcVp8"
      },
      "source": [
        "These results are not really reasonable, a cluster with only 1% of the data points is not very helpful. I'll adjust and see if I can get more reasonable clusters"
      ]
    },
    {
      "cell_type": "markdown",
      "metadata": {
        "id": "y0wBOUWJ1D_6"
      },
      "source": [
        "Try changing the appropriate parameters of the mean shift algorithm to achieve a better clustering result. Answer all of the same questions from the previous clustering step."
      ]
    },
    {
      "cell_type": "code",
      "metadata": {
        "id": "bipQmIMzQJCD"
      },
      "source": [
        "ms2 = MeanShift(bandwidth=1.6)\n",
        "data['ms2_clusters'] = ms2.fit_predict(data_sc)"
      ],
      "execution_count": 16,
      "outputs": []
    },
    {
      "cell_type": "code",
      "metadata": {
        "colab": {
          "base_uri": "https://localhost:8080/"
        },
        "id": "L4v56YRKQoB_",
        "outputId": "95c29149-4f1c-46f1-c259-b1d9b28fc83f"
      },
      "source": [
        "print('At bandwidth of 1.6, there were {} clusters'.format(ms2.cluster_centers_.shape[0]))"
      ],
      "execution_count": 21,
      "outputs": [
        {
          "output_type": "stream",
          "text": [
            "At bandwidth of 1.6, there were 6 clusters\n"
          ],
          "name": "stdout"
        }
      ]
    },
    {
      "cell_type": "code",
      "metadata": {
        "colab": {
          "base_uri": "https://localhost:8080/",
          "height": 183
        },
        "id": "DtmDpFE8b7ui",
        "outputId": "bd999f76-b6e9-498c-ca36-50e216b2ffaa"
      },
      "source": [
        "print('The cluster centers are as follows:')\n",
        "clusters = pd.DataFrame(\n",
        "    sc.inverse_transform(ms2.cluster_centers_),\n",
        "    columns = data_sc.columns\n",
        ")\n",
        "\n",
        "clusters.style.background_gradient()"
      ],
      "execution_count": 22,
      "outputs": [
        {
          "output_type": "stream",
          "text": [
            "The cluster centers are as follows:\n"
          ],
          "name": "stdout"
        },
        {
          "output_type": "execute_result",
          "data": {
            "text/html": [
              "<style  type=\"text/css\" >\n",
              "#T_77d4c1b2_2aaf_11eb_9739_0242ac1c0002row0_col0{\n",
              "            background-color:  #3991c1;\n",
              "            color:  #000000;\n",
              "        }#T_77d4c1b2_2aaf_11eb_9739_0242ac1c0002row0_col1{\n",
              "            background-color:  #4295c3;\n",
              "            color:  #000000;\n",
              "        }#T_77d4c1b2_2aaf_11eb_9739_0242ac1c0002row0_col2{\n",
              "            background-color:  #023f64;\n",
              "            color:  #f1f1f1;\n",
              "        }#T_77d4c1b2_2aaf_11eb_9739_0242ac1c0002row0_col3{\n",
              "            background-color:  #045b8e;\n",
              "            color:  #f1f1f1;\n",
              "        }#T_77d4c1b2_2aaf_11eb_9739_0242ac1c0002row1_col0{\n",
              "            background-color:  #5c9fc9;\n",
              "            color:  #000000;\n",
              "        }#T_77d4c1b2_2aaf_11eb_9739_0242ac1c0002row1_col1{\n",
              "            background-color:  #5ea0ca;\n",
              "            color:  #000000;\n",
              "        }#T_77d4c1b2_2aaf_11eb_9739_0242ac1c0002row1_col2,#T_77d4c1b2_2aaf_11eb_9739_0242ac1c0002row2_col0{\n",
              "            background-color:  #4897c4;\n",
              "            color:  #000000;\n",
              "        }#T_77d4c1b2_2aaf_11eb_9739_0242ac1c0002row1_col3{\n",
              "            background-color:  #7bacd1;\n",
              "            color:  #000000;\n",
              "        }#T_77d4c1b2_2aaf_11eb_9739_0242ac1c0002row2_col1{\n",
              "            background-color:  #f1ebf5;\n",
              "            color:  #000000;\n",
              "        }#T_77d4c1b2_2aaf_11eb_9739_0242ac1c0002row2_col2{\n",
              "            background-color:  #f8f1f8;\n",
              "            color:  #000000;\n",
              "        }#T_77d4c1b2_2aaf_11eb_9739_0242ac1c0002row2_col3{\n",
              "            background-color:  #f6eff7;\n",
              "            color:  #000000;\n",
              "        }#T_77d4c1b2_2aaf_11eb_9739_0242ac1c0002row3_col0,#T_77d4c1b2_2aaf_11eb_9739_0242ac1c0002row3_col1,#T_77d4c1b2_2aaf_11eb_9739_0242ac1c0002row4_col2,#T_77d4c1b2_2aaf_11eb_9739_0242ac1c0002row4_col3{\n",
              "            background-color:  #fff7fb;\n",
              "            color:  #000000;\n",
              "        }#T_77d4c1b2_2aaf_11eb_9739_0242ac1c0002row3_col2,#T_77d4c1b2_2aaf_11eb_9739_0242ac1c0002row3_col3{\n",
              "            background-color:  #f2ecf5;\n",
              "            color:  #000000;\n",
              "        }#T_77d4c1b2_2aaf_11eb_9739_0242ac1c0002row4_col0,#T_77d4c1b2_2aaf_11eb_9739_0242ac1c0002row4_col1,#T_77d4c1b2_2aaf_11eb_9739_0242ac1c0002row5_col2,#T_77d4c1b2_2aaf_11eb_9739_0242ac1c0002row5_col3{\n",
              "            background-color:  #023858;\n",
              "            color:  #f1f1f1;\n",
              "        }#T_77d4c1b2_2aaf_11eb_9739_0242ac1c0002row5_col0{\n",
              "            background-color:  #045f95;\n",
              "            color:  #f1f1f1;\n",
              "        }#T_77d4c1b2_2aaf_11eb_9739_0242ac1c0002row5_col1{\n",
              "            background-color:  #ece7f2;\n",
              "            color:  #000000;\n",
              "        }</style><table id=\"T_77d4c1b2_2aaf_11eb_9739_0242ac1c0002\" ><thead>    <tr>        <th class=\"blank level0\" ></th>        <th class=\"col_heading level0 col0\" >FWBscore</th>        <th class=\"col_heading level0 col1\" >FSscore</th>        <th class=\"col_heading level0 col2\" >LMscore</th>        <th class=\"col_heading level0 col3\" >KHscore</th>    </tr></thead><tbody>\n",
              "                <tr>\n",
              "                        <th id=\"T_77d4c1b2_2aaf_11eb_9739_0242ac1c0002level0_row0\" class=\"row_heading level0 row0\" >0</th>\n",
              "                        <td id=\"T_77d4c1b2_2aaf_11eb_9739_0242ac1c0002row0_col0\" class=\"data row0 col0\" >58.503932</td>\n",
              "                        <td id=\"T_77d4c1b2_2aaf_11eb_9739_0242ac1c0002row0_col1\" class=\"data row0 col1\" >50.451180</td>\n",
              "                        <td id=\"T_77d4c1b2_2aaf_11eb_9739_0242ac1c0002row0_col2\" class=\"data row0 col2\" >2.909567</td>\n",
              "                        <td id=\"T_77d4c1b2_2aaf_11eb_9739_0242ac1c0002row0_col3\" class=\"data row0 col3\" >0.352707</td>\n",
              "            </tr>\n",
              "            <tr>\n",
              "                        <th id=\"T_77d4c1b2_2aaf_11eb_9739_0242ac1c0002level0_row1\" class=\"row_heading level0 row1\" >1</th>\n",
              "                        <td id=\"T_77d4c1b2_2aaf_11eb_9739_0242ac1c0002row1_col0\" class=\"data row1 col0\" >51.506838</td>\n",
              "                        <td id=\"T_77d4c1b2_2aaf_11eb_9739_0242ac1c0002row1_col1\" class=\"data row1 col1\" >45.698311</td>\n",
              "                        <td id=\"T_77d4c1b2_2aaf_11eb_9739_0242ac1c0002row1_col2\" class=\"data row1 col2\" >1.763475</td>\n",
              "                        <td id=\"T_77d4c1b2_2aaf_11eb_9739_0242ac1c0002row1_col3\" class=\"data row1 col3\" >-0.720294</td>\n",
              "            </tr>\n",
              "            <tr>\n",
              "                        <th id=\"T_77d4c1b2_2aaf_11eb_9739_0242ac1c0002level0_row2\" class=\"row_heading level0 row2\" >2</th>\n",
              "                        <td id=\"T_77d4c1b2_2aaf_11eb_9739_0242ac1c0002row2_col0\" class=\"data row2 col0\" >55.428571</td>\n",
              "                        <td id=\"T_77d4c1b2_2aaf_11eb_9739_0242ac1c0002row2_col1\" class=\"data row2 col1\" >7.000000</td>\n",
              "                        <td id=\"T_77d4c1b2_2aaf_11eb_9739_0242ac1c0002row2_col2\" class=\"data row2 col2\" >0.142857</td>\n",
              "                        <td id=\"T_77d4c1b2_2aaf_11eb_9739_0242ac1c0002row2_col3\" class=\"data row2 col3\" >-1.890714</td>\n",
              "            </tr>\n",
              "            <tr>\n",
              "                        <th id=\"T_77d4c1b2_2aaf_11eb_9739_0242ac1c0002level0_row3\" class=\"row_heading level0 row3\" >3</th>\n",
              "                        <td id=\"T_77d4c1b2_2aaf_11eb_9739_0242ac1c0002row3_col0\" class=\"data row3 col0\" >-1.000000</td>\n",
              "                        <td id=\"T_77d4c1b2_2aaf_11eb_9739_0242ac1c0002row3_col1\" class=\"data row3 col1\" >-1.000000</td>\n",
              "                        <td id=\"T_77d4c1b2_2aaf_11eb_9739_0242ac1c0002row3_col2\" class=\"data row3 col2\" >0.250000</td>\n",
              "                        <td id=\"T_77d4c1b2_2aaf_11eb_9739_0242ac1c0002row3_col3\" class=\"data row3 col3\" >-1.826000</td>\n",
              "            </tr>\n",
              "            <tr>\n",
              "                        <th id=\"T_77d4c1b2_2aaf_11eb_9739_0242ac1c0002level0_row4\" class=\"row_heading level0 row4\" >4</th>\n",
              "                        <td id=\"T_77d4c1b2_2aaf_11eb_9739_0242ac1c0002row4_col0\" class=\"data row4 col0\" >95.000000</td>\n",
              "                        <td id=\"T_77d4c1b2_2aaf_11eb_9739_0242ac1c0002row4_col1\" class=\"data row4 col1\" >85.000000</td>\n",
              "                        <td id=\"T_77d4c1b2_2aaf_11eb_9739_0242ac1c0002row4_col2\" class=\"data row4 col2\" >0.000000</td>\n",
              "                        <td id=\"T_77d4c1b2_2aaf_11eb_9739_0242ac1c0002row4_col3\" class=\"data row4 col3\" >-2.053000</td>\n",
              "            </tr>\n",
              "            <tr>\n",
              "                        <th id=\"T_77d4c1b2_2aaf_11eb_9739_0242ac1c0002level0_row5\" class=\"row_heading level0 row5\" >5</th>\n",
              "                        <td id=\"T_77d4c1b2_2aaf_11eb_9739_0242ac1c0002row5_col0\" class=\"data row5 col0\" >80.000000</td>\n",
              "                        <td id=\"T_77d4c1b2_2aaf_11eb_9739_0242ac1c0002row5_col1\" class=\"data row5 col1\" >10.000000</td>\n",
              "                        <td id=\"T_77d4c1b2_2aaf_11eb_9739_0242ac1c0002row5_col2\" class=\"data row5 col2\" >3.000000</td>\n",
              "                        <td id=\"T_77d4c1b2_2aaf_11eb_9739_0242ac1c0002row5_col3\" class=\"data row5 col3\" >0.712000</td>\n",
              "            </tr>\n",
              "    </tbody></table>"
            ],
            "text/plain": [
              "<pandas.io.formats.style.Styler at 0x7ff76a0e5550>"
            ]
          },
          "metadata": {
            "tags": []
          },
          "execution_count": 22
        }
      ]
    },
    {
      "cell_type": "code",
      "metadata": {
        "colab": {
          "base_uri": "https://localhost:8080/"
        },
        "id": "ssK9p__kcSq9",
        "outputId": "09d3e046-3d8e-4bf5-bad4-f9b35f8873f6"
      },
      "source": [
        "data['ms2_clusters'].value_counts()"
      ],
      "execution_count": 23,
      "outputs": [
        {
          "output_type": "execute_result",
          "data": {
            "text/plain": [
              "0    4154\n",
              "1    2137\n",
              "4      48\n",
              "2      28\n",
              "5      16\n",
              "3      11\n",
              "Name: ms2_clusters, dtype: int64"
            ]
          },
          "metadata": {
            "tags": []
          },
          "execution_count": 23
        }
      ]
    },
    {
      "cell_type": "markdown",
      "metadata": {
        "id": "Oa9WWOTHcsQd"
      },
      "source": [
        "These results are more reasonable. The first two clusters have most of the data, but changing the bandwidth up or down from 1.6 didn't help with that. "
      ]
    }
  ]
}