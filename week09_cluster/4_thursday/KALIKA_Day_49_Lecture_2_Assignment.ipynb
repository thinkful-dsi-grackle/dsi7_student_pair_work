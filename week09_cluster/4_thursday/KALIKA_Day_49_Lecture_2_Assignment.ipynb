{
  "nbformat": 4,
  "nbformat_minor": 0,
  "metadata": {
    "colab": {
      "name": "KALIKA Day 49 Lecture 2 Assignment.ipynb",
      "provenance": [],
      "collapsed_sections": []
    },
    "kernelspec": {
      "display_name": "Python 3",
      "language": "python",
      "name": "python3"
    },
    "language_info": {
      "codemirror_mode": {
        "name": "ipython",
        "version": 3
      },
      "file_extension": ".py",
      "mimetype": "text/x-python",
      "name": "python",
      "nbconvert_exporter": "python",
      "pygments_lexer": "ipython3",
      "version": "3.7.0"
    }
  },
  "cells": [
    {
      "cell_type": "markdown",
      "metadata": {
        "id": "xdL0Yz0D1D_q"
      },
      "source": [
        "## Day 49 Lecture 2 Assignment\n",
        "\n",
        "In this assignment, we will apply mean shift clustering to a dataset containing the results of a survey on financial wellbeing."
      ]
    },
    {
      "cell_type": "code",
      "metadata": {
        "id": "OulyiH_C1D_r"
      },
      "source": [
        "%matplotlib inline\n",
        "\n",
        "import matplotlib.pyplot as plt\n",
        "import numpy as np\n",
        "import pandas as pd\n",
        "from sklearn.cluster import MeanShift\n",
        "from sklearn.preprocessing import StandardScaler"
      ],
      "execution_count": 1,
      "outputs": []
    },
    {
      "cell_type": "markdown",
      "metadata": {
        "id": "ezMvoRlB1D_t"
      },
      "source": [
        "This dataset contains the results of a survey on a financial wellbeing conducted by the US Consumer Finance Protection Bureau that were published in October 2017. This dataset has a large number of columns, most of which correspond to specific questions on the survey. These codebook for translating the column names to questions can be found here:\n",
        "\n",
        "https://s3.amazonaws.com/files.consumerfinance.gov/f/documents/cfpb_nfwbs-puf-codebook.pdf\n",
        "\n",
        "Load the dataset."
      ]
    },
    {
      "cell_type": "code",
      "metadata": {
        "id": "wP1U4eQ91D_u",
        "colab": {
          "base_uri": "https://localhost:8080/",
          "height": 244
        },
        "outputId": "75707e13-68bd-4bed-abbc-45093cf7af12"
      },
      "source": [
        "# answer goes here\n",
        "df = pd.read_csv('https://tf-assets-prod.s3.amazonaws.com/tf-curric/data-science/Data%20Sets%20Clustering/financial_wellbeing.csv')\n",
        "df.head()\n",
        "\n",
        "\n"
      ],
      "execution_count": 2,
      "outputs": [
        {
          "output_type": "execute_result",
          "data": {
            "text/html": [
              "<div>\n",
              "<style scoped>\n",
              "    .dataframe tbody tr th:only-of-type {\n",
              "        vertical-align: middle;\n",
              "    }\n",
              "\n",
              "    .dataframe tbody tr th {\n",
              "        vertical-align: top;\n",
              "    }\n",
              "\n",
              "    .dataframe thead th {\n",
              "        text-align: right;\n",
              "    }\n",
              "</style>\n",
              "<table border=\"1\" class=\"dataframe\">\n",
              "  <thead>\n",
              "    <tr style=\"text-align: right;\">\n",
              "      <th></th>\n",
              "      <th>PUF_ID</th>\n",
              "      <th>sample</th>\n",
              "      <th>fpl</th>\n",
              "      <th>SWB_1</th>\n",
              "      <th>SWB_2</th>\n",
              "      <th>SWB_3</th>\n",
              "      <th>FWBscore</th>\n",
              "      <th>FWB1_1</th>\n",
              "      <th>FWB1_2</th>\n",
              "      <th>FWB1_3</th>\n",
              "      <th>FWB1_4</th>\n",
              "      <th>FWB1_5</th>\n",
              "      <th>FWB1_6</th>\n",
              "      <th>FWB2_1</th>\n",
              "      <th>FWB2_2</th>\n",
              "      <th>FWB2_3</th>\n",
              "      <th>FWB2_4</th>\n",
              "      <th>FSscore</th>\n",
              "      <th>FS1_1</th>\n",
              "      <th>FS1_2</th>\n",
              "      <th>FS1_3</th>\n",
              "      <th>FS1_4</th>\n",
              "      <th>FS1_5</th>\n",
              "      <th>FS1_6</th>\n",
              "      <th>FS1_7</th>\n",
              "      <th>FS2_1</th>\n",
              "      <th>FS2_2</th>\n",
              "      <th>FS2_3</th>\n",
              "      <th>SUBKNOWL1</th>\n",
              "      <th>ACT1_1</th>\n",
              "      <th>ACT1_2</th>\n",
              "      <th>FINGOALS</th>\n",
              "      <th>PROPPLAN_1</th>\n",
              "      <th>PROPPLAN_2</th>\n",
              "      <th>PROPPLAN_3</th>\n",
              "      <th>PROPPLAN_4</th>\n",
              "      <th>MANAGE1_1</th>\n",
              "      <th>MANAGE1_2</th>\n",
              "      <th>MANAGE1_3</th>\n",
              "      <th>MANAGE1_4</th>\n",
              "      <th>...</th>\n",
              "      <th>SOCSEC2</th>\n",
              "      <th>SOCSEC3</th>\n",
              "      <th>LIFEEXPECT</th>\n",
              "      <th>HHEDUC</th>\n",
              "      <th>KIDS_NoChildren</th>\n",
              "      <th>KIDS_1</th>\n",
              "      <th>KIDS_2</th>\n",
              "      <th>KIDS_3</th>\n",
              "      <th>KIDS_4</th>\n",
              "      <th>EMPLOY</th>\n",
              "      <th>EMPLOY1_1</th>\n",
              "      <th>EMPLOY1_2</th>\n",
              "      <th>EMPLOY1_3</th>\n",
              "      <th>EMPLOY1_4</th>\n",
              "      <th>EMPLOY1_5</th>\n",
              "      <th>EMPLOY1_6</th>\n",
              "      <th>EMPLOY1_7</th>\n",
              "      <th>EMPLOY1_8</th>\n",
              "      <th>EMPLOY1_9</th>\n",
              "      <th>RETIRE</th>\n",
              "      <th>MILITARY</th>\n",
              "      <th>Military_Status</th>\n",
              "      <th>agecat</th>\n",
              "      <th>generation</th>\n",
              "      <th>PPEDUC</th>\n",
              "      <th>PPETHM</th>\n",
              "      <th>PPGENDER</th>\n",
              "      <th>PPHHSIZE</th>\n",
              "      <th>PPINCIMP</th>\n",
              "      <th>PPMARIT</th>\n",
              "      <th>PPMSACAT</th>\n",
              "      <th>PPREG4</th>\n",
              "      <th>PPREG9</th>\n",
              "      <th>PPT01</th>\n",
              "      <th>PPT25</th>\n",
              "      <th>PPT612</th>\n",
              "      <th>PPT1317</th>\n",
              "      <th>PPT18OV</th>\n",
              "      <th>PCTLT200FPL</th>\n",
              "      <th>finalwt</th>\n",
              "    </tr>\n",
              "  </thead>\n",
              "  <tbody>\n",
              "    <tr>\n",
              "      <th>0</th>\n",
              "      <td>10350</td>\n",
              "      <td>2</td>\n",
              "      <td>3</td>\n",
              "      <td>5</td>\n",
              "      <td>5</td>\n",
              "      <td>6</td>\n",
              "      <td>55</td>\n",
              "      <td>3</td>\n",
              "      <td>3</td>\n",
              "      <td>3</td>\n",
              "      <td>3</td>\n",
              "      <td>2</td>\n",
              "      <td>3</td>\n",
              "      <td>2</td>\n",
              "      <td>3</td>\n",
              "      <td>2</td>\n",
              "      <td>4</td>\n",
              "      <td>44</td>\n",
              "      <td>3</td>\n",
              "      <td>3</td>\n",
              "      <td>4</td>\n",
              "      <td>3</td>\n",
              "      <td>3</td>\n",
              "      <td>3</td>\n",
              "      <td>4</td>\n",
              "      <td>4</td>\n",
              "      <td>3</td>\n",
              "      <td>4</td>\n",
              "      <td>5</td>\n",
              "      <td>4</td>\n",
              "      <td>3</td>\n",
              "      <td>1</td>\n",
              "      <td>5</td>\n",
              "      <td>4</td>\n",
              "      <td>4</td>\n",
              "      <td>3</td>\n",
              "      <td>4</td>\n",
              "      <td>4</td>\n",
              "      <td>2</td>\n",
              "      <td>4</td>\n",
              "      <td>...</td>\n",
              "      <td>62</td>\n",
              "      <td>-2</td>\n",
              "      <td>-2</td>\n",
              "      <td>4</td>\n",
              "      <td>-1</td>\n",
              "      <td>0</td>\n",
              "      <td>0</td>\n",
              "      <td>0</td>\n",
              "      <td>0</td>\n",
              "      <td>8</td>\n",
              "      <td>0</td>\n",
              "      <td>0</td>\n",
              "      <td>0</td>\n",
              "      <td>0</td>\n",
              "      <td>0</td>\n",
              "      <td>0</td>\n",
              "      <td>0</td>\n",
              "      <td>1</td>\n",
              "      <td>0</td>\n",
              "      <td>1</td>\n",
              "      <td>0</td>\n",
              "      <td>5</td>\n",
              "      <td>8</td>\n",
              "      <td>1</td>\n",
              "      <td>4</td>\n",
              "      <td>1</td>\n",
              "      <td>1</td>\n",
              "      <td>1</td>\n",
              "      <td>7</td>\n",
              "      <td>3</td>\n",
              "      <td>1</td>\n",
              "      <td>4</td>\n",
              "      <td>8</td>\n",
              "      <td>0</td>\n",
              "      <td>0</td>\n",
              "      <td>0</td>\n",
              "      <td>0</td>\n",
              "      <td>1</td>\n",
              "      <td>0</td>\n",
              "      <td>0.367292</td>\n",
              "    </tr>\n",
              "    <tr>\n",
              "      <th>1</th>\n",
              "      <td>7740</td>\n",
              "      <td>1</td>\n",
              "      <td>3</td>\n",
              "      <td>6</td>\n",
              "      <td>6</td>\n",
              "      <td>6</td>\n",
              "      <td>51</td>\n",
              "      <td>2</td>\n",
              "      <td>2</td>\n",
              "      <td>3</td>\n",
              "      <td>3</td>\n",
              "      <td>3</td>\n",
              "      <td>4</td>\n",
              "      <td>2</td>\n",
              "      <td>2</td>\n",
              "      <td>2</td>\n",
              "      <td>3</td>\n",
              "      <td>43</td>\n",
              "      <td>3</td>\n",
              "      <td>3</td>\n",
              "      <td>3</td>\n",
              "      <td>3</td>\n",
              "      <td>4</td>\n",
              "      <td>3</td>\n",
              "      <td>2</td>\n",
              "      <td>4</td>\n",
              "      <td>3</td>\n",
              "      <td>2</td>\n",
              "      <td>5</td>\n",
              "      <td>4</td>\n",
              "      <td>3</td>\n",
              "      <td>0</td>\n",
              "      <td>3</td>\n",
              "      <td>2</td>\n",
              "      <td>2</td>\n",
              "      <td>1</td>\n",
              "      <td>4</td>\n",
              "      <td>4</td>\n",
              "      <td>1</td>\n",
              "      <td>4</td>\n",
              "      <td>...</td>\n",
              "      <td>-2</td>\n",
              "      <td>66</td>\n",
              "      <td>90</td>\n",
              "      <td>2</td>\n",
              "      <td>1</td>\n",
              "      <td>0</td>\n",
              "      <td>0</td>\n",
              "      <td>0</td>\n",
              "      <td>0</td>\n",
              "      <td>2</td>\n",
              "      <td>0</td>\n",
              "      <td>1</td>\n",
              "      <td>0</td>\n",
              "      <td>0</td>\n",
              "      <td>0</td>\n",
              "      <td>0</td>\n",
              "      <td>0</td>\n",
              "      <td>0</td>\n",
              "      <td>0</td>\n",
              "      <td>-2</td>\n",
              "      <td>0</td>\n",
              "      <td>5</td>\n",
              "      <td>3</td>\n",
              "      <td>3</td>\n",
              "      <td>2</td>\n",
              "      <td>1</td>\n",
              "      <td>1</td>\n",
              "      <td>2</td>\n",
              "      <td>6</td>\n",
              "      <td>3</td>\n",
              "      <td>1</td>\n",
              "      <td>2</td>\n",
              "      <td>3</td>\n",
              "      <td>0</td>\n",
              "      <td>0</td>\n",
              "      <td>0</td>\n",
              "      <td>0</td>\n",
              "      <td>2</td>\n",
              "      <td>0</td>\n",
              "      <td>1.327561</td>\n",
              "    </tr>\n",
              "    <tr>\n",
              "      <th>2</th>\n",
              "      <td>13699</td>\n",
              "      <td>1</td>\n",
              "      <td>3</td>\n",
              "      <td>4</td>\n",
              "      <td>3</td>\n",
              "      <td>4</td>\n",
              "      <td>49</td>\n",
              "      <td>3</td>\n",
              "      <td>3</td>\n",
              "      <td>3</td>\n",
              "      <td>3</td>\n",
              "      <td>3</td>\n",
              "      <td>3</td>\n",
              "      <td>3</td>\n",
              "      <td>3</td>\n",
              "      <td>3</td>\n",
              "      <td>3</td>\n",
              "      <td>42</td>\n",
              "      <td>3</td>\n",
              "      <td>3</td>\n",
              "      <td>3</td>\n",
              "      <td>3</td>\n",
              "      <td>3</td>\n",
              "      <td>3</td>\n",
              "      <td>3</td>\n",
              "      <td>3</td>\n",
              "      <td>3</td>\n",
              "      <td>3</td>\n",
              "      <td>5</td>\n",
              "      <td>3</td>\n",
              "      <td>3</td>\n",
              "      <td>1</td>\n",
              "      <td>4</td>\n",
              "      <td>4</td>\n",
              "      <td>4</td>\n",
              "      <td>4</td>\n",
              "      <td>3</td>\n",
              "      <td>3</td>\n",
              "      <td>3</td>\n",
              "      <td>3</td>\n",
              "      <td>...</td>\n",
              "      <td>-2</td>\n",
              "      <td>68</td>\n",
              "      <td>78</td>\n",
              "      <td>3</td>\n",
              "      <td>0</td>\n",
              "      <td>0</td>\n",
              "      <td>0</td>\n",
              "      <td>0</td>\n",
              "      <td>1</td>\n",
              "      <td>2</td>\n",
              "      <td>0</td>\n",
              "      <td>1</td>\n",
              "      <td>0</td>\n",
              "      <td>0</td>\n",
              "      <td>0</td>\n",
              "      <td>0</td>\n",
              "      <td>0</td>\n",
              "      <td>0</td>\n",
              "      <td>0</td>\n",
              "      <td>-2</td>\n",
              "      <td>0</td>\n",
              "      <td>5</td>\n",
              "      <td>3</td>\n",
              "      <td>3</td>\n",
              "      <td>3</td>\n",
              "      <td>2</td>\n",
              "      <td>1</td>\n",
              "      <td>3</td>\n",
              "      <td>6</td>\n",
              "      <td>3</td>\n",
              "      <td>1</td>\n",
              "      <td>4</td>\n",
              "      <td>9</td>\n",
              "      <td>0</td>\n",
              "      <td>0</td>\n",
              "      <td>0</td>\n",
              "      <td>1</td>\n",
              "      <td>2</td>\n",
              "      <td>1</td>\n",
              "      <td>0.835156</td>\n",
              "    </tr>\n",
              "    <tr>\n",
              "      <th>3</th>\n",
              "      <td>7267</td>\n",
              "      <td>1</td>\n",
              "      <td>3</td>\n",
              "      <td>6</td>\n",
              "      <td>6</td>\n",
              "      <td>6</td>\n",
              "      <td>49</td>\n",
              "      <td>3</td>\n",
              "      <td>3</td>\n",
              "      <td>3</td>\n",
              "      <td>3</td>\n",
              "      <td>3</td>\n",
              "      <td>3</td>\n",
              "      <td>3</td>\n",
              "      <td>3</td>\n",
              "      <td>3</td>\n",
              "      <td>3</td>\n",
              "      <td>42</td>\n",
              "      <td>3</td>\n",
              "      <td>3</td>\n",
              "      <td>3</td>\n",
              "      <td>3</td>\n",
              "      <td>3</td>\n",
              "      <td>3</td>\n",
              "      <td>3</td>\n",
              "      <td>3</td>\n",
              "      <td>3</td>\n",
              "      <td>3</td>\n",
              "      <td>-1</td>\n",
              "      <td>-1</td>\n",
              "      <td>-1</td>\n",
              "      <td>-1</td>\n",
              "      <td>3</td>\n",
              "      <td>3</td>\n",
              "      <td>3</td>\n",
              "      <td>3</td>\n",
              "      <td>4</td>\n",
              "      <td>4</td>\n",
              "      <td>2</td>\n",
              "      <td>4</td>\n",
              "      <td>...</td>\n",
              "      <td>-2</td>\n",
              "      <td>-1</td>\n",
              "      <td>-1</td>\n",
              "      <td>-1</td>\n",
              "      <td>-1</td>\n",
              "      <td>0</td>\n",
              "      <td>0</td>\n",
              "      <td>0</td>\n",
              "      <td>0</td>\n",
              "      <td>99</td>\n",
              "      <td>0</td>\n",
              "      <td>0</td>\n",
              "      <td>0</td>\n",
              "      <td>0</td>\n",
              "      <td>0</td>\n",
              "      <td>0</td>\n",
              "      <td>0</td>\n",
              "      <td>0</td>\n",
              "      <td>1</td>\n",
              "      <td>-2</td>\n",
              "      <td>-1</td>\n",
              "      <td>-1</td>\n",
              "      <td>3</td>\n",
              "      <td>3</td>\n",
              "      <td>2</td>\n",
              "      <td>1</td>\n",
              "      <td>1</td>\n",
              "      <td>1</td>\n",
              "      <td>8</td>\n",
              "      <td>3</td>\n",
              "      <td>1</td>\n",
              "      <td>3</td>\n",
              "      <td>7</td>\n",
              "      <td>0</td>\n",
              "      <td>0</td>\n",
              "      <td>0</td>\n",
              "      <td>0</td>\n",
              "      <td>1</td>\n",
              "      <td>0</td>\n",
              "      <td>1.410871</td>\n",
              "    </tr>\n",
              "    <tr>\n",
              "      <th>4</th>\n",
              "      <td>7375</td>\n",
              "      <td>1</td>\n",
              "      <td>3</td>\n",
              "      <td>4</td>\n",
              "      <td>4</td>\n",
              "      <td>4</td>\n",
              "      <td>49</td>\n",
              "      <td>3</td>\n",
              "      <td>3</td>\n",
              "      <td>3</td>\n",
              "      <td>3</td>\n",
              "      <td>3</td>\n",
              "      <td>3</td>\n",
              "      <td>3</td>\n",
              "      <td>3</td>\n",
              "      <td>3</td>\n",
              "      <td>3</td>\n",
              "      <td>42</td>\n",
              "      <td>3</td>\n",
              "      <td>3</td>\n",
              "      <td>3</td>\n",
              "      <td>3</td>\n",
              "      <td>3</td>\n",
              "      <td>3</td>\n",
              "      <td>3</td>\n",
              "      <td>3</td>\n",
              "      <td>3</td>\n",
              "      <td>3</td>\n",
              "      <td>4</td>\n",
              "      <td>3</td>\n",
              "      <td>3</td>\n",
              "      <td>1</td>\n",
              "      <td>3</td>\n",
              "      <td>3</td>\n",
              "      <td>3</td>\n",
              "      <td>3</td>\n",
              "      <td>3</td>\n",
              "      <td>3</td>\n",
              "      <td>3</td>\n",
              "      <td>3</td>\n",
              "      <td>...</td>\n",
              "      <td>-2</td>\n",
              "      <td>65</td>\n",
              "      <td>75</td>\n",
              "      <td>2</td>\n",
              "      <td>1</td>\n",
              "      <td>0</td>\n",
              "      <td>0</td>\n",
              "      <td>0</td>\n",
              "      <td>0</td>\n",
              "      <td>2</td>\n",
              "      <td>0</td>\n",
              "      <td>1</td>\n",
              "      <td>0</td>\n",
              "      <td>1</td>\n",
              "      <td>0</td>\n",
              "      <td>0</td>\n",
              "      <td>0</td>\n",
              "      <td>0</td>\n",
              "      <td>0</td>\n",
              "      <td>-2</td>\n",
              "      <td>0</td>\n",
              "      <td>5</td>\n",
              "      <td>2</td>\n",
              "      <td>4</td>\n",
              "      <td>2</td>\n",
              "      <td>3</td>\n",
              "      <td>1</td>\n",
              "      <td>5</td>\n",
              "      <td>7</td>\n",
              "      <td>1</td>\n",
              "      <td>1</td>\n",
              "      <td>2</td>\n",
              "      <td>4</td>\n",
              "      <td>0</td>\n",
              "      <td>0</td>\n",
              "      <td>1</td>\n",
              "      <td>0</td>\n",
              "      <td>4</td>\n",
              "      <td>1</td>\n",
              "      <td>4.260668</td>\n",
              "    </tr>\n",
              "  </tbody>\n",
              "</table>\n",
              "<p>5 rows × 217 columns</p>\n",
              "</div>"
            ],
            "text/plain": [
              "   PUF_ID  sample  fpl  SWB_1  ...  PPT1317  PPT18OV  PCTLT200FPL   finalwt\n",
              "0   10350       2    3      5  ...        0        1            0  0.367292\n",
              "1    7740       1    3      6  ...        0        2            0  1.327561\n",
              "2   13699       1    3      4  ...        1        2            1  0.835156\n",
              "3    7267       1    3      6  ...        0        1            0  1.410871\n",
              "4    7375       1    3      4  ...        0        4            1  4.260668\n",
              "\n",
              "[5 rows x 217 columns]"
            ]
          },
          "metadata": {
            "tags": []
          },
          "execution_count": 2
        }
      ]
    },
    {
      "cell_type": "markdown",
      "metadata": {
        "id": "o_K1eQ0x1D_y"
      },
      "source": [
        "While the survey questions have the potential for interesting cluster analysis, we will stick to the \"score\" columns to avoid clustering in an unreasonably high-dimensional space. The columns we are interested in all have \"score\" in their names; identify and isolate these columns. (There should be 4 in total.)"
      ]
    },
    {
      "cell_type": "code",
      "metadata": {
        "id": "xfYVreyw1D_y",
        "colab": {
          "base_uri": "https://localhost:8080/",
          "height": 402
        },
        "outputId": "9de985e4-9861-4111-e92f-fff866b5e9e7"
      },
      "source": [
        "# answer goes here\n",
        "cols = [col for col in df.columns if 'score' in col]\n",
        "df = df[cols]\n",
        "df.reset_index(inplace=True)\n",
        "df.drop(columns='index', inplace=True)\n",
        "df"
      ],
      "execution_count": 6,
      "outputs": [
        {
          "output_type": "execute_result",
          "data": {
            "text/html": [
              "<div>\n",
              "<style scoped>\n",
              "    .dataframe tbody tr th:only-of-type {\n",
              "        vertical-align: middle;\n",
              "    }\n",
              "\n",
              "    .dataframe tbody tr th {\n",
              "        vertical-align: top;\n",
              "    }\n",
              "\n",
              "    .dataframe thead th {\n",
              "        text-align: right;\n",
              "    }\n",
              "</style>\n",
              "<table border=\"1\" class=\"dataframe\">\n",
              "  <thead>\n",
              "    <tr style=\"text-align: right;\">\n",
              "      <th></th>\n",
              "      <th>FWBscore</th>\n",
              "      <th>FSscore</th>\n",
              "      <th>LMscore</th>\n",
              "      <th>KHscore</th>\n",
              "    </tr>\n",
              "  </thead>\n",
              "  <tbody>\n",
              "    <tr>\n",
              "      <th>0</th>\n",
              "      <td>55</td>\n",
              "      <td>44</td>\n",
              "      <td>3</td>\n",
              "      <td>1.267</td>\n",
              "    </tr>\n",
              "    <tr>\n",
              "      <th>1</th>\n",
              "      <td>51</td>\n",
              "      <td>43</td>\n",
              "      <td>3</td>\n",
              "      <td>-0.570</td>\n",
              "    </tr>\n",
              "    <tr>\n",
              "      <th>2</th>\n",
              "      <td>49</td>\n",
              "      <td>42</td>\n",
              "      <td>3</td>\n",
              "      <td>-0.188</td>\n",
              "    </tr>\n",
              "    <tr>\n",
              "      <th>3</th>\n",
              "      <td>49</td>\n",
              "      <td>42</td>\n",
              "      <td>2</td>\n",
              "      <td>-1.485</td>\n",
              "    </tr>\n",
              "    <tr>\n",
              "      <th>4</th>\n",
              "      <td>49</td>\n",
              "      <td>42</td>\n",
              "      <td>1</td>\n",
              "      <td>-1.900</td>\n",
              "    </tr>\n",
              "    <tr>\n",
              "      <th>...</th>\n",
              "      <td>...</td>\n",
              "      <td>...</td>\n",
              "      <td>...</td>\n",
              "      <td>...</td>\n",
              "    </tr>\n",
              "    <tr>\n",
              "      <th>6389</th>\n",
              "      <td>61</td>\n",
              "      <td>47</td>\n",
              "      <td>3</td>\n",
              "      <td>1.267</td>\n",
              "    </tr>\n",
              "    <tr>\n",
              "      <th>6390</th>\n",
              "      <td>59</td>\n",
              "      <td>59</td>\n",
              "      <td>1</td>\n",
              "      <td>-1.215</td>\n",
              "    </tr>\n",
              "    <tr>\n",
              "      <th>6391</th>\n",
              "      <td>59</td>\n",
              "      <td>51</td>\n",
              "      <td>2</td>\n",
              "      <td>-1.215</td>\n",
              "    </tr>\n",
              "    <tr>\n",
              "      <th>6392</th>\n",
              "      <td>46</td>\n",
              "      <td>54</td>\n",
              "      <td>2</td>\n",
              "      <td>-1.215</td>\n",
              "    </tr>\n",
              "    <tr>\n",
              "      <th>6393</th>\n",
              "      <td>49</td>\n",
              "      <td>42</td>\n",
              "      <td>2</td>\n",
              "      <td>-1.215</td>\n",
              "    </tr>\n",
              "  </tbody>\n",
              "</table>\n",
              "<p>6394 rows × 4 columns</p>\n",
              "</div>"
            ],
            "text/plain": [
              "      FWBscore  FSscore  LMscore  KHscore\n",
              "0           55       44        3    1.267\n",
              "1           51       43        3   -0.570\n",
              "2           49       42        3   -0.188\n",
              "3           49       42        2   -1.485\n",
              "4           49       42        1   -1.900\n",
              "...        ...      ...      ...      ...\n",
              "6389        61       47        3    1.267\n",
              "6390        59       59        1   -1.215\n",
              "6391        59       51        2   -1.215\n",
              "6392        46       54        2   -1.215\n",
              "6393        49       42        2   -1.215\n",
              "\n",
              "[6394 rows x 4 columns]"
            ]
          },
          "metadata": {
            "tags": []
          },
          "execution_count": 6
        }
      ]
    },
    {
      "cell_type": "markdown",
      "metadata": {
        "id": "MUjcLMMk1D_2"
      },
      "source": [
        "Standardize the features in your dataset using scikit-learn's StandardScaler, which will set the mean of each feature to 0 and the variance to 1."
      ]
    },
    {
      "cell_type": "code",
      "metadata": {
        "id": "6OTdN8oF1D_2"
      },
      "source": [
        "# answer goes here\n",
        "scaler = StandardScaler()\n",
        "X = scaler.fit_transform(df)\n",
        "\n"
      ],
      "execution_count": 8,
      "outputs": []
    },
    {
      "cell_type": "markdown",
      "metadata": {
        "id": "ao3Y5FVp1D_4"
      },
      "source": [
        "Run mean shift clustering on the scores in the survey dataset using the default bandwidth. Then answer the following by printing or typing as appropriate:\n",
        "\n",
        "- How many clusters are produced? \n",
        "- What are the cluster centers?\n",
        "- How many responses are assigned to each cluster?\n",
        "- Are these results reasonable? If not, what changes should we make?"
      ]
    },
    {
      "cell_type": "markdown",
      "metadata": {
        "id": "h4Mn4Co35Y2_"
      },
      "source": [
        "# NO!\n",
        "\n",
        "*this is not reasonable*"
      ]
    },
    {
      "cell_type": "code",
      "metadata": {
        "id": "sUhMxZdL1D_4",
        "colab": {
          "base_uri": "https://localhost:8080/"
        },
        "outputId": "feb63533-2df5-4fc5-82c4-b86ba43dfb59"
      },
      "source": [
        "# answer goes here\n",
        "clustering = MeanShift().fit(X)\n",
        "clustering.labels_\n",
        "\n"
      ],
      "execution_count": 9,
      "outputs": [
        {
          "output_type": "execute_result",
          "data": {
            "text/plain": [
              "array([0, 0, 0, ..., 0, 0, 0])"
            ]
          },
          "metadata": {
            "tags": []
          },
          "execution_count": 9
        }
      ]
    },
    {
      "cell_type": "code",
      "metadata": {
        "colab": {
          "base_uri": "https://localhost:8080/"
        },
        "id": "yhZGoCZh3-XZ",
        "outputId": "b8a303f7-ef31-4755-f05f-102822fd0f58"
      },
      "source": [
        "np.unique(clustering.labels_)"
      ],
      "execution_count": 12,
      "outputs": [
        {
          "output_type": "execute_result",
          "data": {
            "text/plain": [
              "array([0, 1])"
            ]
          },
          "metadata": {
            "tags": []
          },
          "execution_count": 12
        }
      ]
    },
    {
      "cell_type": "code",
      "metadata": {
        "colab": {
          "base_uri": "https://localhost:8080/"
        },
        "id": "759N3BUM4Rsd",
        "outputId": "b6115b76-c9c6-4a5a-a9dc-e04014911221"
      },
      "source": [
        "clustering.cluster_centers_"
      ],
      "execution_count": 13,
      "outputs": [
        {
          "output_type": "execute_result",
          "data": {
            "text/plain": [
              "array([[ 0.09918758, -0.04722472,  0.40797515,  0.33667793],\n",
              "       [-4.02966165, -4.08655136, -2.98779955, -2.17097301]])"
            ]
          },
          "metadata": {
            "tags": []
          },
          "execution_count": 13
        }
      ]
    },
    {
      "cell_type": "code",
      "metadata": {
        "id": "hof6l1Fq4mxO"
      },
      "source": [
        "pred = clustering.predict(X)"
      ],
      "execution_count": 14,
      "outputs": []
    },
    {
      "cell_type": "code",
      "metadata": {
        "colab": {
          "base_uri": "https://localhost:8080/"
        },
        "id": "si5WQdV04tfa",
        "outputId": "216ca40b-e8af-4527-b063-bdcb658d3998"
      },
      "source": [
        "y = np.bincount(pred)\n",
        "y"
      ],
      "execution_count": 22,
      "outputs": [
        {
          "output_type": "execute_result",
          "data": {
            "text/plain": [
              "array([6326,   68])"
            ]
          },
          "metadata": {
            "tags": []
          },
          "execution_count": 22
        }
      ]
    },
    {
      "cell_type": "markdown",
      "metadata": {
        "id": "BvBYUrWh5mwZ"
      },
      "source": [
        "# Changes "
      ]
    },
    {
      "cell_type": "markdown",
      "metadata": {
        "id": "y0wBOUWJ1D_6"
      },
      "source": [
        "Try changing the appropriate parameters of the mean shift algorithm to achieve a better clustering result. Answer all of the same questions from the previous clustering step."
      ]
    },
    {
      "cell_type": "code",
      "metadata": {
        "id": "AdKYEBx61D_6",
        "colab": {
          "base_uri": "https://localhost:8080/"
        },
        "outputId": "a98898f7-e566-4562-fbd1-749806281d0a"
      },
      "source": [
        "# answer goes here\n",
        "# answer goes here\n",
        "clustering = MeanShift(bandwidth=0.93).fit(X)\n",
        "pred = clustering.predict(X)\n",
        "clustering.labels_\n",
        "np.unique(clustering.labels_)"
      ],
      "execution_count": 39,
      "outputs": [
        {
          "output_type": "execute_result",
          "data": {
            "text/plain": [
              "array([ 0,  1,  2,  3,  4,  5,  6,  7,  8,  9, 10, 11, 12, 13, 14, 15, 16,\n",
              "       17, 18, 19, 20, 21, 22, 23, 24, 25, 26, 27, 28, 29, 30, 31, 32, 33,\n",
              "       34, 35, 36, 37, 38, 39, 40, 41, 42, 43, 44, 45, 46, 47, 48, 49, 50,\n",
              "       51])"
            ]
          },
          "metadata": {
            "tags": []
          },
          "execution_count": 39
        }
      ]
    },
    {
      "cell_type": "code",
      "metadata": {
        "colab": {
          "base_uri": "https://localhost:8080/"
        },
        "id": "-b6XY5w06Dsi",
        "outputId": "c8ef6bb8-b389-41f7-edca-96a3e39617bf"
      },
      "source": [
        "y = np.bincount(pred)\n",
        "y"
      ],
      "execution_count": 40,
      "outputs": [
        {
          "output_type": "execute_result",
          "data": {
            "text/plain": [
              "array([3130, 1399,  404,   78,  103,   32,  107,   29,   72,   17,   10,\n",
              "        120,   93,    7,  103,   26,   16,   40,   12,  103,    4,   13,\n",
              "         43,    3,    2,    2,    2,   66,    4,    1,   19,  114,    1,\n",
              "         11,    2,   10,    4,    5,    1,    2,   17,    2,    9,    9,\n",
              "         13,    9,    7,   73,   36,    7,    1,    1])"
            ]
          },
          "metadata": {
            "tags": []
          },
          "execution_count": 40
        }
      ]
    },
    {
      "cell_type": "code",
      "metadata": {
        "colab": {
          "base_uri": "https://localhost:8080/"
        },
        "id": "lh5sZI0X5_mN",
        "outputId": "cf331e13-4ebf-4c4b-bc46-359592d57e44"
      },
      "source": [
        "clustering.cluster_centers_"
      ],
      "execution_count": 41,
      "outputs": [
        {
          "output_type": "execute_result",
          "data": {
            "text/plain": [
              "array([[ 2.50841260e-01,  4.08922550e-02,  6.53830324e-01,\n",
              "         5.46649222e-01],\n",
              "       [-2.55420592e-01, -4.54452471e-01, -6.70398720e-01,\n",
              "        -6.95988281e-01],\n",
              "       [-4.85148428e-01, -7.09390322e-01, -1.99462776e+00,\n",
              "        -1.22577758e+00],\n",
              "       [-4.62377971e-01, -5.56706758e-01, -3.31885681e+00,\n",
              "        -1.65194815e+00],\n",
              "       [ 7.67210210e-01,  2.48292644e+00, -6.70398720e-01,\n",
              "        -9.45890010e-01],\n",
              "       [-6.04500078e-01,  1.80516991e+00, -1.99462776e+00,\n",
              "        -1.65875593e+00],\n",
              "       [ 1.65794970e+00,  2.49677960e+00, -6.70398720e-01,\n",
              "        -3.96237846e-01],\n",
              "       [-1.72282301e+00,  1.93039046e+00, -1.99462776e+00,\n",
              "        -1.71096206e+00],\n",
              "       [-1.27024773e+00,  1.71661278e+00, -6.70398720e-01,\n",
              "        -6.12718547e-01],\n",
              "       [ 5.19399950e-02,  2.07656699e+00, -1.99462776e+00,\n",
              "        -8.36171423e-01],\n",
              "       [ 1.26935513e+00,  2.55065301e+00, -1.99462776e+00,\n",
              "        -1.74313109e+00],\n",
              "       [ 2.23730887e+00,  2.52694871e+00, -6.70398720e-01,\n",
              "         4.92022237e-01],\n",
              "       [-1.75304703e+00,  1.74295089e+00,  6.53830324e-01,\n",
              "         5.00476190e-01],\n",
              "       [ 1.16337480e+00,  2.13582774e+00, -1.99462776e+00,\n",
              "        -7.15376127e-01],\n",
              "       [ 5.71651257e-01,  1.07901097e+00, -1.99462776e+00,\n",
              "         3.72985122e-01],\n",
              "       [ 1.56374496e+00,  1.65515719e+00, -1.99462776e+00,\n",
              "        -1.56351557e+00],\n",
              "       [ 2.91980926e-01,  1.35226889e+00, -3.31885681e+00,\n",
              "        -1.61751179e+00],\n",
              "       [-1.39781665e+00,  2.27410283e+00,  6.53830324e-01,\n",
              "        -8.37634607e-01],\n",
              "       [-2.54593695e+00,  2.03705982e+00,  6.53830324e-01,\n",
              "        -8.14318059e-01],\n",
              "       [ 8.92536162e-01,  2.62966735e+00, -6.70398720e-01,\n",
              "         1.62471561e+00],\n",
              "       [-2.40889513e-03,  2.41896245e+00, -3.31885681e+00,\n",
              "        -1.73532172e+00],\n",
              "       [-1.17996818e+00, -2.13753103e+00, -3.31885681e+00,\n",
              "        -2.07811588e+00],\n",
              "       [-2.96985830e+00, -2.92767440e+00, -6.70398720e-01,\n",
              "        -1.03214371e+00],\n",
              "       [-4.02966165e+00, -4.08655136e+00, -3.31885681e+00,\n",
              "        -2.31046324e+00],\n",
              "       [ 9.16087348e-01, -3.65197250e+00, -3.31885681e+00,\n",
              "        -2.44954440e+00],\n",
              "       [-7.44271245e-01, -4.08655136e+00, -3.31885681e+00,\n",
              "        -2.44954440e+00],\n",
              "       [-2.12201561e+00,  2.23459566e+00, -3.31885681e+00,\n",
              "        -1.58683212e+00],\n",
              "       [-2.47528340e+00, -3.05936497e+00,  6.53830324e-01,\n",
              "         1.28417128e+00],\n",
              "       [-2.68724407e+00,  2.15558132e+00,  6.53830324e-01,\n",
              "         1.28417128e+00],\n",
              "       [ 2.75307983e+00,  2.70868169e+00, -3.31885681e+00,\n",
              "        -2.44954440e+00],\n",
              "       [ 2.75307983e+00,  4.96280232e-01, -6.70398720e-01,\n",
              "        -2.26178483e+00],\n",
              "       [ 2.75307983e+00,  1.01208543e-01, -6.70398720e-01,\n",
              "         1.62471561e+00],\n",
              "       [ 1.97589071e+00,  2.70868169e+00, -1.99462776e+00,\n",
              "         3.66849188e-01],\n",
              "       [ 1.76393003e+00, -2.42725026e+00,  6.53830324e-01,\n",
              "        -6.29626453e-01],\n",
              "       [ 1.69327648e+00, -3.21739364e+00,  6.53830324e-01,\n",
              "         9.43626961e-01],\n",
              "       [ 1.48131581e+00,  5.75294570e-01, -3.31885681e+00,\n",
              "        -2.44954440e+00],\n",
              "       [ 9.86740905e-01, -3.05936497e+00, -6.70398720e-01,\n",
              "        -2.03230091e+00],\n",
              "       [ 9.86740905e-01, -3.21739364e+00,  6.53830324e-01,\n",
              "        -1.75250233e+00],\n",
              "       [ 6.33473119e-01,  2.47163867e+00, -3.31885681e+00,\n",
              "        -1.04564276e+00],\n",
              "       [ 3.50858891e-01, -3.37542232e+00, -1.99462776e+00,\n",
              "        -1.75250233e+00],\n",
              "       [ 2.09551776e-01, -2.74330761e+00, -6.70398720e-01,\n",
              "         1.62471561e+00],\n",
              "       [-2.14369567e-01, -2.90133629e+00, -3.31885681e+00,\n",
              "        -1.75250233e+00],\n",
              "       [-3.55676681e-01, -4.08655136e+00,  6.53830324e-01,\n",
              "        -1.42116191e+00],\n",
              "       [-1.27417292e+00, -2.90133629e+00, -3.31885681e+00,\n",
              "        -6.29626453e-01],\n",
              "       [-2.19266917e+00,  6.54308907e-01, -1.99462776e+00,\n",
              "         9.43626961e-01],\n",
              "       [-2.19266917e+00, -6.88934834e-01, -3.31885681e+00,\n",
              "         3.66849188e-01],\n",
              "       [-2.33397628e+00,  9.70366258e-01, -3.31885681e+00,\n",
              "        -2.03230091e+00],\n",
              "       [-2.61659051e+00, -1.87414990e+00,  6.53830324e-01,\n",
              "        -2.03230091e+00],\n",
              "       [-2.96985830e+00,  2.59237219e-01, -1.99462776e+00,\n",
              "        -1.04564276e+00],\n",
              "       [-2.96985830e+00, -3.61246533e+00,  6.53830324e-01,\n",
              "         3.66849188e-01],\n",
              "       [-4.02966165e+00, -4.08655136e+00, -1.99462776e+00,\n",
              "        -1.75250233e+00],\n",
              "       [-4.24162232e+00, -2.14848808e-01, -1.99462776e+00,\n",
              "        -6.29626453e-01]])"
            ]
          },
          "metadata": {
            "tags": []
          },
          "execution_count": 41
        }
      ]
    },
    {
      "cell_type": "markdown",
      "metadata": {
        "id": "KtbzKnnq9Nkv"
      },
      "source": [
        "I tried a whole bunch of different bandwidths varying from .1 to 5. It's not making me happy. \n",
        "\n",
        "It looks like the data is just much denser in one area than the other. The default, two, most likely the best selection. I seem to get a much heavier base in one cluster than the others, no matter what. The bulk of the variance must surround that first cluster more. \n",
        "\n",
        "perhaps i was being rash. The two could be a the best bandwidth. "
      ]
    },
    {
      "cell_type": "code",
      "metadata": {
        "id": "Kwuej1H5-R98"
      },
      "source": [
        ""
      ],
      "execution_count": 41,
      "outputs": []
    }
  ]
}