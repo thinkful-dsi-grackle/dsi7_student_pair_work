{
  "nbformat": 4,
  "nbformat_minor": 0,
  "metadata": {
    "colab": {
      "name": "Day 49 Lecture 1 Assignment_Caesar.ipynb",
      "provenance": [],
      "collapsed_sections": []
    },
    "kernelspec": {
      "display_name": "Python 3",
      "language": "python",
      "name": "python3"
    },
    "language_info": {
      "codemirror_mode": {
        "name": "ipython",
        "version": 3
      },
      "file_extension": ".py",
      "mimetype": "text/x-python",
      "name": "python",
      "nbconvert_exporter": "python",
      "pygments_lexer": "ipython3",
      "version": "3.7.0"
    }
  },
  "cells": [
    {
      "cell_type": "markdown",
      "metadata": {
        "id": "xdL0Yz0D1D_q"
      },
      "source": [
        "## Day 49 Lecture 1 Assignment\n",
        "\n",
        "In this assignment, we will apply GMM (Gaussian Mixture Modeling) clustering to a dataset containing player-season statistics for NBA players from the past four years."
      ]
    },
    {
      "cell_type": "code",
      "metadata": {
        "id": "OulyiH_C1D_r"
      },
      "source": [
        "%matplotlib inline\n",
        "\n",
        "import matplotlib.pyplot as plt\n",
        "import numpy as np\n",
        "import pandas as pd\n",
        "from sklearn.mixture import GaussianMixture\n",
        "from sklearn.cluster import KMeans\n",
        "from sklearn.preprocessing import StandardScaler\n",
        "from scipy.special import entr"
      ],
      "execution_count": 1,
      "outputs": []
    },
    {
      "cell_type": "markdown",
      "metadata": {
        "id": "ezMvoRlB1D_t"
      },
      "source": [
        "This dataset contains player-season statistics for NBA players from the past four years. Each row in this dataset represents a player's per-game averages for a single season. \n",
        "\n",
        "This dataset contains the following variables:\n",
        "\n",
        "- Seas: season ('2019' = 2018-2019 season, '2018' = 2017-2018 season, etc.)\n",
        "- Player: player name\n",
        "- Pos: position\n",
        "- Age: age\n",
        "- Tm: team\n",
        "- G: games played\n",
        "- GS: games started\n",
        "- MP: minutes played\n",
        "- FG: field goals\n",
        "- FGA: field goals attempted\n",
        "- FG%: field goal percentage\n",
        "- 3P: 3 pointers\n",
        "- 3PA: 3 pointers attempted\n",
        "- 3P%: 3 point percentage\n",
        "- 2P: 2 pointers\n",
        "- 2PA: 2 pointers attempted\n",
        "- 2P%: 2 point percentage\n",
        "- eFG%: effective field goal percentage\n",
        "- FT: free throws\n",
        "- FTA: free throws attempted\n",
        "- FT%: free throw percentage\n",
        "- ORB: offensive rebound\n",
        "- DRB: defensive rebound\n",
        "- TRB: total rebounds\n",
        "- AST: assists\n",
        "- STL: steals\n",
        "- BLK: blocks\n",
        "- TOV: turnovers\n",
        "- PF: personal fouls\n",
        "- PTS: points\n",
        "\n",
        "Load the dataset."
      ]
    },
    {
      "cell_type": "code",
      "metadata": {
        "id": "wP1U4eQ91D_u",
        "colab": {
          "base_uri": "https://localhost:8080/",
          "height": 197
        },
        "outputId": "076a477f-f9bf-4337-800a-d9da4c946508"
      },
      "source": [
        "# answer goes here\n",
        "df = pd.read_csv(\"https://tf-assets-prod.s3.amazonaws.com/tf-curric/data-science/Data%20Sets%20Clustering/nba_player_seasons.csv\")\n",
        "df.head()"
      ],
      "execution_count": 3,
      "outputs": [
        {
          "output_type": "execute_result",
          "data": {
            "text/html": [
              "<div>\n",
              "<style scoped>\n",
              "    .dataframe tbody tr th:only-of-type {\n",
              "        vertical-align: middle;\n",
              "    }\n",
              "\n",
              "    .dataframe tbody tr th {\n",
              "        vertical-align: top;\n",
              "    }\n",
              "\n",
              "    .dataframe thead th {\n",
              "        text-align: right;\n",
              "    }\n",
              "</style>\n",
              "<table border=\"1\" class=\"dataframe\">\n",
              "  <thead>\n",
              "    <tr style=\"text-align: right;\">\n",
              "      <th></th>\n",
              "      <th>Seas</th>\n",
              "      <th>Player</th>\n",
              "      <th>Pos</th>\n",
              "      <th>Age</th>\n",
              "      <th>Tm</th>\n",
              "      <th>G</th>\n",
              "      <th>GS</th>\n",
              "      <th>MP</th>\n",
              "      <th>FG</th>\n",
              "      <th>FGA</th>\n",
              "      <th>FG%</th>\n",
              "      <th>3P</th>\n",
              "      <th>3PA</th>\n",
              "      <th>3P%</th>\n",
              "      <th>2P</th>\n",
              "      <th>2PA</th>\n",
              "      <th>2P%</th>\n",
              "      <th>eFG%</th>\n",
              "      <th>FT</th>\n",
              "      <th>FTA</th>\n",
              "      <th>FT%</th>\n",
              "      <th>ORB</th>\n",
              "      <th>DRB</th>\n",
              "      <th>TRB</th>\n",
              "      <th>AST</th>\n",
              "      <th>STL</th>\n",
              "      <th>BLK</th>\n",
              "      <th>TOV</th>\n",
              "      <th>PF</th>\n",
              "      <th>PTS</th>\n",
              "    </tr>\n",
              "  </thead>\n",
              "  <tbody>\n",
              "    <tr>\n",
              "      <th>0</th>\n",
              "      <td>2019</td>\n",
              "      <td>Álex Abrines</td>\n",
              "      <td>SG</td>\n",
              "      <td>25</td>\n",
              "      <td>OKC</td>\n",
              "      <td>31</td>\n",
              "      <td>2</td>\n",
              "      <td>19.0</td>\n",
              "      <td>1.8</td>\n",
              "      <td>5.1</td>\n",
              "      <td>0.357</td>\n",
              "      <td>1.3</td>\n",
              "      <td>4.1</td>\n",
              "      <td>0.323</td>\n",
              "      <td>0.5</td>\n",
              "      <td>1.0</td>\n",
              "      <td>0.500</td>\n",
              "      <td>0.487</td>\n",
              "      <td>0.4</td>\n",
              "      <td>0.4</td>\n",
              "      <td>0.923</td>\n",
              "      <td>0.2</td>\n",
              "      <td>1.4</td>\n",
              "      <td>1.5</td>\n",
              "      <td>0.6</td>\n",
              "      <td>0.5</td>\n",
              "      <td>0.2</td>\n",
              "      <td>0.5</td>\n",
              "      <td>1.7</td>\n",
              "      <td>5.3</td>\n",
              "    </tr>\n",
              "    <tr>\n",
              "      <th>1</th>\n",
              "      <td>2019</td>\n",
              "      <td>Quincy Acy</td>\n",
              "      <td>PF</td>\n",
              "      <td>28</td>\n",
              "      <td>PHO</td>\n",
              "      <td>10</td>\n",
              "      <td>0</td>\n",
              "      <td>12.3</td>\n",
              "      <td>0.4</td>\n",
              "      <td>1.8</td>\n",
              "      <td>0.222</td>\n",
              "      <td>0.2</td>\n",
              "      <td>1.5</td>\n",
              "      <td>0.133</td>\n",
              "      <td>0.2</td>\n",
              "      <td>0.3</td>\n",
              "      <td>0.667</td>\n",
              "      <td>0.278</td>\n",
              "      <td>0.7</td>\n",
              "      <td>1.0</td>\n",
              "      <td>0.700</td>\n",
              "      <td>0.3</td>\n",
              "      <td>2.2</td>\n",
              "      <td>2.5</td>\n",
              "      <td>0.8</td>\n",
              "      <td>0.1</td>\n",
              "      <td>0.4</td>\n",
              "      <td>0.4</td>\n",
              "      <td>2.4</td>\n",
              "      <td>1.7</td>\n",
              "    </tr>\n",
              "    <tr>\n",
              "      <th>2</th>\n",
              "      <td>2019</td>\n",
              "      <td>Jaylen Adams</td>\n",
              "      <td>PG</td>\n",
              "      <td>22</td>\n",
              "      <td>ATL</td>\n",
              "      <td>34</td>\n",
              "      <td>1</td>\n",
              "      <td>12.6</td>\n",
              "      <td>1.1</td>\n",
              "      <td>3.2</td>\n",
              "      <td>0.345</td>\n",
              "      <td>0.7</td>\n",
              "      <td>2.2</td>\n",
              "      <td>0.338</td>\n",
              "      <td>0.4</td>\n",
              "      <td>1.1</td>\n",
              "      <td>0.361</td>\n",
              "      <td>0.459</td>\n",
              "      <td>0.2</td>\n",
              "      <td>0.3</td>\n",
              "      <td>0.778</td>\n",
              "      <td>0.3</td>\n",
              "      <td>1.4</td>\n",
              "      <td>1.8</td>\n",
              "      <td>1.9</td>\n",
              "      <td>0.4</td>\n",
              "      <td>0.1</td>\n",
              "      <td>0.8</td>\n",
              "      <td>1.3</td>\n",
              "      <td>3.2</td>\n",
              "    </tr>\n",
              "    <tr>\n",
              "      <th>3</th>\n",
              "      <td>2019</td>\n",
              "      <td>Steven Adams</td>\n",
              "      <td>C</td>\n",
              "      <td>25</td>\n",
              "      <td>OKC</td>\n",
              "      <td>80</td>\n",
              "      <td>80</td>\n",
              "      <td>33.4</td>\n",
              "      <td>6.0</td>\n",
              "      <td>10.1</td>\n",
              "      <td>0.595</td>\n",
              "      <td>0.0</td>\n",
              "      <td>0.0</td>\n",
              "      <td>0.000</td>\n",
              "      <td>6.0</td>\n",
              "      <td>10.1</td>\n",
              "      <td>0.596</td>\n",
              "      <td>0.595</td>\n",
              "      <td>1.8</td>\n",
              "      <td>3.7</td>\n",
              "      <td>0.500</td>\n",
              "      <td>4.9</td>\n",
              "      <td>4.6</td>\n",
              "      <td>9.5</td>\n",
              "      <td>1.6</td>\n",
              "      <td>1.5</td>\n",
              "      <td>1.0</td>\n",
              "      <td>1.7</td>\n",
              "      <td>2.6</td>\n",
              "      <td>13.9</td>\n",
              "    </tr>\n",
              "    <tr>\n",
              "      <th>4</th>\n",
              "      <td>2019</td>\n",
              "      <td>Bam Adebayo</td>\n",
              "      <td>C</td>\n",
              "      <td>21</td>\n",
              "      <td>MIA</td>\n",
              "      <td>82</td>\n",
              "      <td>28</td>\n",
              "      <td>23.3</td>\n",
              "      <td>3.4</td>\n",
              "      <td>5.9</td>\n",
              "      <td>0.576</td>\n",
              "      <td>0.0</td>\n",
              "      <td>0.2</td>\n",
              "      <td>0.200</td>\n",
              "      <td>3.4</td>\n",
              "      <td>5.7</td>\n",
              "      <td>0.588</td>\n",
              "      <td>0.579</td>\n",
              "      <td>2.0</td>\n",
              "      <td>2.8</td>\n",
              "      <td>0.735</td>\n",
              "      <td>2.0</td>\n",
              "      <td>5.3</td>\n",
              "      <td>7.3</td>\n",
              "      <td>2.2</td>\n",
              "      <td>0.9</td>\n",
              "      <td>0.8</td>\n",
              "      <td>1.5</td>\n",
              "      <td>2.5</td>\n",
              "      <td>8.9</td>\n",
              "    </tr>\n",
              "  </tbody>\n",
              "</table>\n",
              "</div>"
            ],
            "text/plain": [
              "   Seas        Player Pos  Age   Tm   G  GS  ...  TRB  AST  STL  BLK  TOV   PF   PTS\n",
              "0  2019  Álex Abrines  SG   25  OKC  31   2  ...  1.5  0.6  0.5  0.2  0.5  1.7   5.3\n",
              "1  2019    Quincy Acy  PF   28  PHO  10   0  ...  2.5  0.8  0.1  0.4  0.4  2.4   1.7\n",
              "2  2019  Jaylen Adams  PG   22  ATL  34   1  ...  1.8  1.9  0.4  0.1  0.8  1.3   3.2\n",
              "3  2019  Steven Adams   C   25  OKC  80  80  ...  9.5  1.6  1.5  1.0  1.7  2.6  13.9\n",
              "4  2019   Bam Adebayo   C   21  MIA  82  28  ...  7.3  2.2  0.9  0.8  1.5  2.5   8.9\n",
              "\n",
              "[5 rows x 30 columns]"
            ]
          },
          "metadata": {
            "tags": []
          },
          "execution_count": 3
        }
      ]
    },
    {
      "cell_type": "markdown",
      "metadata": {
        "id": "o_K1eQ0x1D_y"
      },
      "source": [
        "The goal is to cluster these player-seasons to identify potential player \"archetypes\".  \n",
        "The pre-processing steps will be identical to what we previously did for K-means.\n",
        "\n",
        "Begin by removing players whose season did not meet one of the following criteria:\n",
        "1. Started at least 20 games\n",
        "2. Averaged at least 10 minutes per game"
      ]
    },
    {
      "cell_type": "code",
      "metadata": {
        "id": "xfYVreyw1D_y",
        "colab": {
          "base_uri": "https://localhost:8080/"
        },
        "outputId": "11cdb517-db3d-45e1-eee8-51bad57ed743"
      },
      "source": [
        "# answer goes here\n",
        "nba = df.loc[(df.MP >= 10) & (df.GS >= 20)]\n",
        "nba.shape"
      ],
      "execution_count": 74,
      "outputs": [
        {
          "output_type": "execute_result",
          "data": {
            "text/plain": [
              "(804, 30)"
            ]
          },
          "metadata": {
            "tags": []
          },
          "execution_count": 74
        }
      ]
    },
    {
      "cell_type": "markdown",
      "metadata": {
        "id": "86lfEP_91D_0"
      },
      "source": [
        "Choose a subset of numeric columns that is interesting to you from an \"archetypal\" standpoint. \n",
        "\n",
        "We will choose the following basic statistics: **points, total rebounds, assists, steals, blocks**, and **turnovers**, but you should feel free to choose other reasonable feature sets if you like. Be careful not to include too many dimensions (curse of dimensionality)."
      ]
    },
    {
      "cell_type": "code",
      "metadata": {
        "id": "o3PUI4l61D_0"
      },
      "source": [
        "# answer goes here\n",
        "X = nba[[\"PTS\", \"TRB\", \"AST\", \"STL\", \"BLK\", \"TOV\"]]"
      ],
      "execution_count": 35,
      "outputs": []
    },
    {
      "cell_type": "markdown",
      "metadata": {
        "id": "MUjcLMMk1D_2"
      },
      "source": [
        "Standardize the features in your dataset using scikit-learn's StandardScaler, which will set the mean of each feature to 0 and the variance to 1."
      ]
    },
    {
      "cell_type": "code",
      "metadata": {
        "id": "6OTdN8oF1D_2"
      },
      "source": [
        "# answer goes here\n",
        "scaler = StandardScaler()\n",
        "X_scale = pd.DataFrame(scaler.fit_transform(X), columns=X.columns)"
      ],
      "execution_count": 36,
      "outputs": []
    },
    {
      "cell_type": "markdown",
      "metadata": {
        "id": "ao3Y5FVp1D_4"
      },
      "source": [
        "Run both K-Means and Gaussian mixtures modeling twice, once with 3 cluster and once with 7 clusters. Print out the resulting means for all 4 scenarios (KM+3, GMM+3, KM+7, GMM+7). When printing the means, transform the scaled versions back into their corresponding unscaled values. \n",
        "\n",
        "What \"archetypes\" do you see? Are the archetypes identified by GMM similar to those identified by K-Means? How do the means of GMM differ from those of K-Means?"
      ]
    },
    {
      "cell_type": "code",
      "metadata": {
        "id": "sUhMxZdL1D_4",
        "colab": {
          "base_uri": "https://localhost:8080/",
          "height": 105
        },
        "outputId": "384f12c5-c2b7-4163-f4e0-94866bd31c87"
      },
      "source": [
        "print(\"KM+3\")\n",
        "X = nba[[\"PTS\", \"TRB\", \"AST\", \"STL\", \"BLK\", \"TOV\"]]\n",
        "X_scale = pd.DataFrame(scaler.fit_transform(X), columns=X.columns)\n",
        "\n",
        "kmeans3 = KMeans(n_clusters=3)\n",
        "X_scale[\"cluster\"] = kmeans3.fit_predict(X_scale)\n",
        "\n",
        "centers = pd.DataFrame(kmeans3.cluster_centers_, columns=X.columns)\n",
        "inverse = pd.DataFrame(scaler.inverse_transform(centers), columns=X.columns)\n",
        "inverse.style.background_gradient()"
      ],
      "execution_count": 46,
      "outputs": [
        {
          "output_type": "stream",
          "text": [
            "KM+3\n"
          ],
          "name": "stdout"
        },
        {
          "output_type": "execute_result",
          "data": {
            "text/html": [
              "<style  type=\"text/css\" >\n",
              "#T_c26874f6_2a8e_11eb_b5cf_0242ac1c0002row0_col0,#T_c26874f6_2a8e_11eb_b5cf_0242ac1c0002row0_col1,#T_c26874f6_2a8e_11eb_b5cf_0242ac1c0002row0_col4,#T_c26874f6_2a8e_11eb_b5cf_0242ac1c0002row0_col5,#T_c26874f6_2a8e_11eb_b5cf_0242ac1c0002row1_col2,#T_c26874f6_2a8e_11eb_b5cf_0242ac1c0002row1_col3{\n",
              "            background-color:  #fff7fb;\n",
              "            color:  #000000;\n",
              "        }#T_c26874f6_2a8e_11eb_b5cf_0242ac1c0002row0_col2{\n",
              "            background-color:  #faf2f8;\n",
              "            color:  #000000;\n",
              "        }#T_c26874f6_2a8e_11eb_b5cf_0242ac1c0002row0_col3{\n",
              "            background-color:  #f8f1f8;\n",
              "            color:  #000000;\n",
              "        }#T_c26874f6_2a8e_11eb_b5cf_0242ac1c0002row1_col0{\n",
              "            background-color:  #abbfdc;\n",
              "            color:  #000000;\n",
              "        }#T_c26874f6_2a8e_11eb_b5cf_0242ac1c0002row1_col1,#T_c26874f6_2a8e_11eb_b5cf_0242ac1c0002row1_col4,#T_c26874f6_2a8e_11eb_b5cf_0242ac1c0002row2_col0,#T_c26874f6_2a8e_11eb_b5cf_0242ac1c0002row2_col2,#T_c26874f6_2a8e_11eb_b5cf_0242ac1c0002row2_col3,#T_c26874f6_2a8e_11eb_b5cf_0242ac1c0002row2_col5{\n",
              "            background-color:  #023858;\n",
              "            color:  #f1f1f1;\n",
              "        }#T_c26874f6_2a8e_11eb_b5cf_0242ac1c0002row1_col5{\n",
              "            background-color:  #c8cde4;\n",
              "            color:  #000000;\n",
              "        }#T_c26874f6_2a8e_11eb_b5cf_0242ac1c0002row2_col1{\n",
              "            background-color:  #c4cbe3;\n",
              "            color:  #000000;\n",
              "        }#T_c26874f6_2a8e_11eb_b5cf_0242ac1c0002row2_col4{\n",
              "            background-color:  #ebe6f2;\n",
              "            color:  #000000;\n",
              "        }</style><table id=\"T_c26874f6_2a8e_11eb_b5cf_0242ac1c0002\" ><thead>    <tr>        <th class=\"blank level0\" ></th>        <th class=\"col_heading level0 col0\" >PTS</th>        <th class=\"col_heading level0 col1\" >TRB</th>        <th class=\"col_heading level0 col2\" >AST</th>        <th class=\"col_heading level0 col3\" >STL</th>        <th class=\"col_heading level0 col4\" >BLK</th>        <th class=\"col_heading level0 col5\" >TOV</th>    </tr></thead><tbody>\n",
              "                <tr>\n",
              "                        <th id=\"T_c26874f6_2a8e_11eb_b5cf_0242ac1c0002level0_row0\" class=\"row_heading level0 row0\" >0</th>\n",
              "                        <td id=\"T_c26874f6_2a8e_11eb_b5cf_0242ac1c0002row0_col0\" class=\"data row0 col0\" >10.505405</td>\n",
              "                        <td id=\"T_c26874f6_2a8e_11eb_b5cf_0242ac1c0002row0_col1\" class=\"data row0 col1\" >3.949775</td>\n",
              "                        <td id=\"T_c26874f6_2a8e_11eb_b5cf_0242ac1c0002row0_col2\" class=\"data row0 col2\" >2.063739</td>\n",
              "                        <td id=\"T_c26874f6_2a8e_11eb_b5cf_0242ac1c0002row0_col3\" class=\"data row0 col3\" >0.804730</td>\n",
              "                        <td id=\"T_c26874f6_2a8e_11eb_b5cf_0242ac1c0002row0_col4\" class=\"data row0 col4\" >0.374324</td>\n",
              "                        <td id=\"T_c26874f6_2a8e_11eb_b5cf_0242ac1c0002row0_col5\" class=\"data row0 col5\" >1.235135</td>\n",
              "            </tr>\n",
              "            <tr>\n",
              "                        <th id=\"T_c26874f6_2a8e_11eb_b5cf_0242ac1c0002level0_row1\" class=\"row_heading level0 row1\" >1</th>\n",
              "                        <td id=\"T_c26874f6_2a8e_11eb_b5cf_0242ac1c0002row1_col0\" class=\"data row1 col0\" >13.735359</td>\n",
              "                        <td id=\"T_c26874f6_2a8e_11eb_b5cf_0242ac1c0002row1_col1\" class=\"data row1 col1\" >8.605525</td>\n",
              "                        <td id=\"T_c26874f6_2a8e_11eb_b5cf_0242ac1c0002row1_col2\" class=\"data row1 col2\" >1.914917</td>\n",
              "                        <td id=\"T_c26874f6_2a8e_11eb_b5cf_0242ac1c0002row1_col3\" class=\"data row1 col3\" >0.777348</td>\n",
              "                        <td id=\"T_c26874f6_2a8e_11eb_b5cf_0242ac1c0002row1_col4\" class=\"data row1 col4\" >1.230387</td>\n",
              "                        <td id=\"T_c26874f6_2a8e_11eb_b5cf_0242ac1c0002row1_col5\" class=\"data row1 col5\" >1.668508</td>\n",
              "            </tr>\n",
              "            <tr>\n",
              "                        <th id=\"T_c26874f6_2a8e_11eb_b5cf_0242ac1c0002level0_row2\" class=\"row_heading level0 row2\" >2</th>\n",
              "                        <td id=\"T_c26874f6_2a8e_11eb_b5cf_0242ac1c0002row2_col0\" class=\"data row2 col0\" >19.491620</td>\n",
              "                        <td id=\"T_c26874f6_2a8e_11eb_b5cf_0242ac1c0002row2_col1\" class=\"data row2 col1\" >5.293855</td>\n",
              "                        <td id=\"T_c26874f6_2a8e_11eb_b5cf_0242ac1c0002row2_col2\" class=\"data row2 col2\" >5.934078</td>\n",
              "                        <td id=\"T_c26874f6_2a8e_11eb_b5cf_0242ac1c0002row2_col3\" class=\"data row2 col3\" >1.354190</td>\n",
              "                        <td id=\"T_c26874f6_2a8e_11eb_b5cf_0242ac1c0002row2_col4\" class=\"data row2 col4\" >0.486034</td>\n",
              "                        <td id=\"T_c26874f6_2a8e_11eb_b5cf_0242ac1c0002row2_col5\" class=\"data row2 col5\" >2.797765</td>\n",
              "            </tr>\n",
              "    </tbody></table>"
            ],
            "text/plain": [
              "<pandas.io.formats.style.Styler at 0x7f2566ec10b8>"
            ]
          },
          "metadata": {
            "tags": []
          },
          "execution_count": 46
        }
      ]
    },
    {
      "cell_type": "code",
      "metadata": {
        "colab": {
          "base_uri": "https://localhost:8080/",
          "height": 176
        },
        "id": "ZU_uO-GjjqmZ",
        "outputId": "984e8d6a-fdf5-4da9-82c9-b1102e17b7e5"
      },
      "source": [
        "print(\"KM+7\")\n",
        "X = nba[[\"PTS\", \"TRB\", \"AST\", \"STL\", \"BLK\", \"TOV\"]]\n",
        "X_scale = pd.DataFrame(scaler.fit_transform(X), columns=X.columns)\n",
        "\n",
        "kmeans7 = KMeans(n_clusters=7)\n",
        "X_scale[\"cluster\"] = kmeans7.fit_predict(X_scale)\n",
        "\n",
        "centers = pd.DataFrame(kmeans7.cluster_centers_, columns=X.columns)\n",
        "inverse = pd.DataFrame(scaler.inverse_transform(centers), columns=X.columns)\n",
        "inverse.style.background_gradient()"
      ],
      "execution_count": 49,
      "outputs": [
        {
          "output_type": "stream",
          "text": [
            "KM+7\n"
          ],
          "name": "stdout"
        },
        {
          "output_type": "execute_result",
          "data": {
            "text/html": [
              "<style  type=\"text/css\" >\n",
              "#T_c5b3eeec_2a8e_11eb_b5cf_0242ac1c0002row0_col0{\n",
              "            background-color:  #d1d2e6;\n",
              "            color:  #000000;\n",
              "        }#T_c5b3eeec_2a8e_11eb_b5cf_0242ac1c0002row0_col1{\n",
              "            background-color:  #589ec8;\n",
              "            color:  #000000;\n",
              "        }#T_c5b3eeec_2a8e_11eb_b5cf_0242ac1c0002row0_col2{\n",
              "            background-color:  #f7f0f7;\n",
              "            color:  #000000;\n",
              "        }#T_c5b3eeec_2a8e_11eb_b5cf_0242ac1c0002row0_col3{\n",
              "            background-color:  #f5eef6;\n",
              "            color:  #000000;\n",
              "        }#T_c5b3eeec_2a8e_11eb_b5cf_0242ac1c0002row0_col4{\n",
              "            background-color:  #8bb2d4;\n",
              "            color:  #000000;\n",
              "        }#T_c5b3eeec_2a8e_11eb_b5cf_0242ac1c0002row0_col5{\n",
              "            background-color:  #e0deed;\n",
              "            color:  #000000;\n",
              "        }#T_c5b3eeec_2a8e_11eb_b5cf_0242ac1c0002row1_col0,#T_c5b3eeec_2a8e_11eb_b5cf_0242ac1c0002row1_col1,#T_c5b3eeec_2a8e_11eb_b5cf_0242ac1c0002row1_col2,#T_c5b3eeec_2a8e_11eb_b5cf_0242ac1c0002row1_col3,#T_c5b3eeec_2a8e_11eb_b5cf_0242ac1c0002row1_col5,#T_c5b3eeec_2a8e_11eb_b5cf_0242ac1c0002row4_col4{\n",
              "            background-color:  #fff7fb;\n",
              "            color:  #000000;\n",
              "        }#T_c5b3eeec_2a8e_11eb_b5cf_0242ac1c0002row1_col4{\n",
              "            background-color:  #f5eff6;\n",
              "            color:  #000000;\n",
              "        }#T_c5b3eeec_2a8e_11eb_b5cf_0242ac1c0002row2_col0,#T_c5b3eeec_2a8e_11eb_b5cf_0242ac1c0002row2_col2,#T_c5b3eeec_2a8e_11eb_b5cf_0242ac1c0002row2_col3,#T_c5b3eeec_2a8e_11eb_b5cf_0242ac1c0002row2_col5,#T_c5b3eeec_2a8e_11eb_b5cf_0242ac1c0002row5_col1,#T_c5b3eeec_2a8e_11eb_b5cf_0242ac1c0002row5_col4{\n",
              "            background-color:  #023858;\n",
              "            color:  #f1f1f1;\n",
              "        }#T_c5b3eeec_2a8e_11eb_b5cf_0242ac1c0002row2_col1{\n",
              "            background-color:  #1b7eb7;\n",
              "            color:  #000000;\n",
              "        }#T_c5b3eeec_2a8e_11eb_b5cf_0242ac1c0002row2_col4{\n",
              "            background-color:  #acc0dd;\n",
              "            color:  #000000;\n",
              "        }#T_c5b3eeec_2a8e_11eb_b5cf_0242ac1c0002row3_col0{\n",
              "            background-color:  #308cbe;\n",
              "            color:  #000000;\n",
              "        }#T_c5b3eeec_2a8e_11eb_b5cf_0242ac1c0002row3_col1{\n",
              "            background-color:  #e4e1ef;\n",
              "            color:  #000000;\n",
              "        }#T_c5b3eeec_2a8e_11eb_b5cf_0242ac1c0002row3_col2{\n",
              "            background-color:  #1e80b8;\n",
              "            color:  #000000;\n",
              "        }#T_c5b3eeec_2a8e_11eb_b5cf_0242ac1c0002row3_col3{\n",
              "            background-color:  #0771b1;\n",
              "            color:  #f1f1f1;\n",
              "        }#T_c5b3eeec_2a8e_11eb_b5cf_0242ac1c0002row3_col4{\n",
              "            background-color:  #f2ecf5;\n",
              "            color:  #000000;\n",
              "        }#T_c5b3eeec_2a8e_11eb_b5cf_0242ac1c0002row3_col5{\n",
              "            background-color:  #529bc7;\n",
              "            color:  #000000;\n",
              "        }#T_c5b3eeec_2a8e_11eb_b5cf_0242ac1c0002row4_col0{\n",
              "            background-color:  #9ebad9;\n",
              "            color:  #000000;\n",
              "        }#T_c5b3eeec_2a8e_11eb_b5cf_0242ac1c0002row4_col1{\n",
              "            background-color:  #fbf4f9;\n",
              "            color:  #000000;\n",
              "        }#T_c5b3eeec_2a8e_11eb_b5cf_0242ac1c0002row4_col2{\n",
              "            background-color:  #c6cce3;\n",
              "            color:  #000000;\n",
              "        }#T_c5b3eeec_2a8e_11eb_b5cf_0242ac1c0002row4_col3{\n",
              "            background-color:  #d2d3e7;\n",
              "            color:  #000000;\n",
              "        }#T_c5b3eeec_2a8e_11eb_b5cf_0242ac1c0002row4_col5{\n",
              "            background-color:  #c9cee4;\n",
              "            color:  #000000;\n",
              "        }#T_c5b3eeec_2a8e_11eb_b5cf_0242ac1c0002row5_col0{\n",
              "            background-color:  #4295c3;\n",
              "            color:  #000000;\n",
              "        }#T_c5b3eeec_2a8e_11eb_b5cf_0242ac1c0002row5_col2,#T_c5b3eeec_2a8e_11eb_b5cf_0242ac1c0002row6_col4{\n",
              "            background-color:  #e8e4f0;\n",
              "            color:  #000000;\n",
              "        }#T_c5b3eeec_2a8e_11eb_b5cf_0242ac1c0002row5_col3{\n",
              "            background-color:  #b5c4df;\n",
              "            color:  #000000;\n",
              "        }#T_c5b3eeec_2a8e_11eb_b5cf_0242ac1c0002row5_col5{\n",
              "            background-color:  #99b8d8;\n",
              "            color:  #000000;\n",
              "        }#T_c5b3eeec_2a8e_11eb_b5cf_0242ac1c0002row6_col0{\n",
              "            background-color:  #d9d8ea;\n",
              "            color:  #000000;\n",
              "        }#T_c5b3eeec_2a8e_11eb_b5cf_0242ac1c0002row6_col1{\n",
              "            background-color:  #dfddec;\n",
              "            color:  #000000;\n",
              "        }#T_c5b3eeec_2a8e_11eb_b5cf_0242ac1c0002row6_col2{\n",
              "            background-color:  #ede8f3;\n",
              "            color:  #000000;\n",
              "        }#T_c5b3eeec_2a8e_11eb_b5cf_0242ac1c0002row6_col3{\n",
              "            background-color:  #0570b0;\n",
              "            color:  #f1f1f1;\n",
              "        }#T_c5b3eeec_2a8e_11eb_b5cf_0242ac1c0002row6_col5{\n",
              "            background-color:  #ece7f2;\n",
              "            color:  #000000;\n",
              "        }</style><table id=\"T_c5b3eeec_2a8e_11eb_b5cf_0242ac1c0002\" ><thead>    <tr>        <th class=\"blank level0\" ></th>        <th class=\"col_heading level0 col0\" >PTS</th>        <th class=\"col_heading level0 col1\" >TRB</th>        <th class=\"col_heading level0 col2\" >AST</th>        <th class=\"col_heading level0 col3\" >STL</th>        <th class=\"col_heading level0 col4\" >BLK</th>        <th class=\"col_heading level0 col5\" >TOV</th>    </tr></thead><tbody>\n",
              "                <tr>\n",
              "                        <th id=\"T_c5b3eeec_2a8e_11eb_b5cf_0242ac1c0002level0_row0\" class=\"row_heading level0 row0\" >0</th>\n",
              "                        <td id=\"T_c5b3eeec_2a8e_11eb_b5cf_0242ac1c0002row0_col0\" class=\"data row0 col0\" >11.785714</td>\n",
              "                        <td id=\"T_c5b3eeec_2a8e_11eb_b5cf_0242ac1c0002row0_col1\" class=\"data row0 col1\" >7.429252</td>\n",
              "                        <td id=\"T_c5b3eeec_2a8e_11eb_b5cf_0242ac1c0002row0_col2\" class=\"data row0 col2\" >1.734014</td>\n",
              "                        <td id=\"T_c5b3eeec_2a8e_11eb_b5cf_0242ac1c0002row0_col3\" class=\"data row0 col3\" >0.663265</td>\n",
              "                        <td id=\"T_c5b3eeec_2a8e_11eb_b5cf_0242ac1c0002row0_col4\" class=\"data row0 col4\" >0.937415</td>\n",
              "                        <td id=\"T_c5b3eeec_2a8e_11eb_b5cf_0242ac1c0002row0_col5\" class=\"data row0 col5\" >1.431293</td>\n",
              "            </tr>\n",
              "            <tr>\n",
              "                        <th id=\"T_c5b3eeec_2a8e_11eb_b5cf_0242ac1c0002level0_row1\" class=\"row_heading level0 row1\" >1</th>\n",
              "                        <td id=\"T_c5b3eeec_2a8e_11eb_b5cf_0242ac1c0002row1_col0\" class=\"data row1 col0\" >7.593048</td>\n",
              "                        <td id=\"T_c5b3eeec_2a8e_11eb_b5cf_0242ac1c0002row1_col1\" class=\"data row1 col1\" >3.544920</td>\n",
              "                        <td id=\"T_c5b3eeec_2a8e_11eb_b5cf_0242ac1c0002row1_col2\" class=\"data row1 col2\" >1.360963</td>\n",
              "                        <td id=\"T_c5b3eeec_2a8e_11eb_b5cf_0242ac1c0002row1_col3\" class=\"data row1 col3\" >0.594118</td>\n",
              "                        <td id=\"T_c5b3eeec_2a8e_11eb_b5cf_0242ac1c0002row1_col4\" class=\"data row1 col4\" >0.375401</td>\n",
              "                        <td id=\"T_c5b3eeec_2a8e_11eb_b5cf_0242ac1c0002row1_col5\" class=\"data row1 col5\" >0.889840</td>\n",
              "            </tr>\n",
              "            <tr>\n",
              "                        <th id=\"T_c5b3eeec_2a8e_11eb_b5cf_0242ac1c0002level0_row2\" class=\"row_heading level0 row2\" >2</th>\n",
              "                        <td id=\"T_c5b3eeec_2a8e_11eb_b5cf_0242ac1c0002row2_col0\" class=\"data row2 col0\" >24.603226</td>\n",
              "                        <td id=\"T_c5b3eeec_2a8e_11eb_b5cf_0242ac1c0002row2_col1\" class=\"data row2 col1\" >8.374194</td>\n",
              "                        <td id=\"T_c5b3eeec_2a8e_11eb_b5cf_0242ac1c0002row2_col2\" class=\"data row2 col2\" >7.803226</td>\n",
              "                        <td id=\"T_c5b3eeec_2a8e_11eb_b5cf_0242ac1c0002row2_col3\" class=\"data row2 col3\" >1.603226</td>\n",
              "                        <td id=\"T_c5b3eeec_2a8e_11eb_b5cf_0242ac1c0002row2_col4\" class=\"data row2 col4\" >0.809677</td>\n",
              "                        <td id=\"T_c5b3eeec_2a8e_11eb_b5cf_0242ac1c0002row2_col5\" class=\"data row2 col5\" >3.941935</td>\n",
              "            </tr>\n",
              "            <tr>\n",
              "                        <th id=\"T_c5b3eeec_2a8e_11eb_b5cf_0242ac1c0002level0_row3\" class=\"row_heading level0 row3\" >3</th>\n",
              "                        <td id=\"T_c5b3eeec_2a8e_11eb_b5cf_0242ac1c0002row3_col0\" class=\"data row3 col0\" >18.457600</td>\n",
              "                        <td id=\"T_c5b3eeec_2a8e_11eb_b5cf_0242ac1c0002row3_col1\" class=\"data row3 col1\" >4.676800</td>\n",
              "                        <td id=\"T_c5b3eeec_2a8e_11eb_b5cf_0242ac1c0002row3_col2\" class=\"data row3 col2\" >5.788000</td>\n",
              "                        <td id=\"T_c5b3eeec_2a8e_11eb_b5cf_0242ac1c0002row3_col3\" class=\"data row3 col3\" >1.343200</td>\n",
              "                        <td id=\"T_c5b3eeec_2a8e_11eb_b5cf_0242ac1c0002row3_col4\" class=\"data row3 col4\" >0.401600</td>\n",
              "                        <td id=\"T_c5b3eeec_2a8e_11eb_b5cf_0242ac1c0002row3_col5\" class=\"data row3 col5\" >2.624000</td>\n",
              "            </tr>\n",
              "            <tr>\n",
              "                        <th id=\"T_c5b3eeec_2a8e_11eb_b5cf_0242ac1c0002level0_row4\" class=\"row_heading level0 row4\" >4</th>\n",
              "                        <td id=\"T_c5b3eeec_2a8e_11eb_b5cf_0242ac1c0002row4_col0\" class=\"data row4 col0\" >14.304819</td>\n",
              "                        <td id=\"T_c5b3eeec_2a8e_11eb_b5cf_0242ac1c0002row4_col1\" class=\"data row4 col1\" >3.709639</td>\n",
              "                        <td id=\"T_c5b3eeec_2a8e_11eb_b5cf_0242ac1c0002row4_col2\" class=\"data row4 col2\" >3.169880</td>\n",
              "                        <td id=\"T_c5b3eeec_2a8e_11eb_b5cf_0242ac1c0002row4_col3\" class=\"data row4 col3\" >0.837952</td>\n",
              "                        <td id=\"T_c5b3eeec_2a8e_11eb_b5cf_0242ac1c0002row4_col4\" class=\"data row4 col4\" >0.277108</td>\n",
              "                        <td id=\"T_c5b3eeec_2a8e_11eb_b5cf_0242ac1c0002row4_col5\" class=\"data row4 col5\" >1.715060</td>\n",
              "            </tr>\n",
              "            <tr>\n",
              "                        <th id=\"T_c5b3eeec_2a8e_11eb_b5cf_0242ac1c0002level0_row5\" class=\"row_heading level0 row5\" >5</th>\n",
              "                        <td id=\"T_c5b3eeec_2a8e_11eb_b5cf_0242ac1c0002row5_col0\" class=\"data row5 col0\" >17.765517</td>\n",
              "                        <td id=\"T_c5b3eeec_2a8e_11eb_b5cf_0242ac1c0002row5_col1\" class=\"data row5 col1\" >10.512069</td>\n",
              "                        <td id=\"T_c5b3eeec_2a8e_11eb_b5cf_0242ac1c0002row5_col2\" class=\"data row5 col2\" >2.291379</td>\n",
              "                        <td id=\"T_c5b3eeec_2a8e_11eb_b5cf_0242ac1c0002row5_col3\" class=\"data row5 col3\" >0.925862</td>\n",
              "                        <td id=\"T_c5b3eeec_2a8e_11eb_b5cf_0242ac1c0002row5_col4\" class=\"data row5 col4\" >1.770690</td>\n",
              "                        <td id=\"T_c5b3eeec_2a8e_11eb_b5cf_0242ac1c0002row5_col5\" class=\"data row5 col5\" >2.141379</td>\n",
              "            </tr>\n",
              "            <tr>\n",
              "                        <th id=\"T_c5b3eeec_2a8e_11eb_b5cf_0242ac1c0002level0_row6\" class=\"row_heading level0 row6\" >6</th>\n",
              "                        <td id=\"T_c5b3eeec_2a8e_11eb_b5cf_0242ac1c0002row6_col0\" class=\"data row6 col0\" >11.246667</td>\n",
              "                        <td id=\"T_c5b3eeec_2a8e_11eb_b5cf_0242ac1c0002row6_col1\" class=\"data row6 col1\" >4.824444</td>\n",
              "                        <td id=\"T_c5b3eeec_2a8e_11eb_b5cf_0242ac1c0002row6_col2\" class=\"data row6 col2\" >2.124444</td>\n",
              "                        <td id=\"T_c5b3eeec_2a8e_11eb_b5cf_0242ac1c0002row6_col3\" class=\"data row6 col3\" >1.348889</td>\n",
              "                        <td id=\"T_c5b3eeec_2a8e_11eb_b5cf_0242ac1c0002row6_col4\" class=\"data row6 col4\" >0.487778</td>\n",
              "                        <td id=\"T_c5b3eeec_2a8e_11eb_b5cf_0242ac1c0002row6_col5\" class=\"data row6 col5\" >1.281111</td>\n",
              "            </tr>\n",
              "    </tbody></table>"
            ],
            "text/plain": [
              "<pandas.io.formats.style.Styler at 0x7f2566f307b8>"
            ]
          },
          "metadata": {
            "tags": []
          },
          "execution_count": 49
        }
      ]
    },
    {
      "cell_type": "code",
      "metadata": {
        "colab": {
          "base_uri": "https://localhost:8080/",
          "height": 105
        },
        "id": "o82OVIYmj63N",
        "outputId": "3e4b10aa-fddc-4668-98eb-c91fe00d0b98"
      },
      "source": [
        "print(\"GMM+3\")\n",
        "X = nba[[\"PTS\", \"TRB\", \"AST\", \"STL\", \"BLK\", \"TOV\"]]\n",
        "X_scale = pd.DataFrame(scaler.fit_transform(X), columns=X.columns)\n",
        "\n",
        "gmm_cluster3 = GaussianMixture(n_components=3)\n",
        "X_scale[\"cluster\"] = gmm_cluster3.fit_predict(X_scale)\n",
        "\n",
        "centers = pd.DataFrame(gmm_cluster3.means_, columns=X.columns)\n",
        "inverse = pd.DataFrame(scaler.inverse_transform(centers), columns=X.columns)\n",
        "inverse.style.background_gradient()"
      ],
      "execution_count": 50,
      "outputs": [
        {
          "output_type": "stream",
          "text": [
            "GMM+3\n"
          ],
          "name": "stdout"
        },
        {
          "output_type": "execute_result",
          "data": {
            "text/html": [
              "<style  type=\"text/css\" >\n",
              "#T_c61a1eba_2a8e_11eb_b5cf_0242ac1c0002row0_col0{\n",
              "            background-color:  #056dac;\n",
              "            color:  #f1f1f1;\n",
              "        }#T_c61a1eba_2a8e_11eb_b5cf_0242ac1c0002row0_col1,#T_c61a1eba_2a8e_11eb_b5cf_0242ac1c0002row0_col4,#T_c61a1eba_2a8e_11eb_b5cf_0242ac1c0002row2_col0,#T_c61a1eba_2a8e_11eb_b5cf_0242ac1c0002row2_col2,#T_c61a1eba_2a8e_11eb_b5cf_0242ac1c0002row2_col3,#T_c61a1eba_2a8e_11eb_b5cf_0242ac1c0002row2_col5{\n",
              "            background-color:  #023858;\n",
              "            color:  #f1f1f1;\n",
              "        }#T_c61a1eba_2a8e_11eb_b5cf_0242ac1c0002row0_col2{\n",
              "            background-color:  #d8d7e9;\n",
              "            color:  #000000;\n",
              "        }#T_c61a1eba_2a8e_11eb_b5cf_0242ac1c0002row0_col3,#T_c61a1eba_2a8e_11eb_b5cf_0242ac1c0002row1_col0,#T_c61a1eba_2a8e_11eb_b5cf_0242ac1c0002row1_col2,#T_c61a1eba_2a8e_11eb_b5cf_0242ac1c0002row1_col5,#T_c61a1eba_2a8e_11eb_b5cf_0242ac1c0002row2_col1,#T_c61a1eba_2a8e_11eb_b5cf_0242ac1c0002row2_col4{\n",
              "            background-color:  #fff7fb;\n",
              "            color:  #000000;\n",
              "        }#T_c61a1eba_2a8e_11eb_b5cf_0242ac1c0002row0_col5{\n",
              "            background-color:  #2d8abd;\n",
              "            color:  #000000;\n",
              "        }#T_c61a1eba_2a8e_11eb_b5cf_0242ac1c0002row1_col1{\n",
              "            background-color:  #f4edf6;\n",
              "            color:  #000000;\n",
              "        }#T_c61a1eba_2a8e_11eb_b5cf_0242ac1c0002row1_col3{\n",
              "            background-color:  #fef6fb;\n",
              "            color:  #000000;\n",
              "        }#T_c61a1eba_2a8e_11eb_b5cf_0242ac1c0002row1_col4{\n",
              "            background-color:  #f4eef6;\n",
              "            color:  #000000;\n",
              "        }</style><table id=\"T_c61a1eba_2a8e_11eb_b5cf_0242ac1c0002\" ><thead>    <tr>        <th class=\"blank level0\" ></th>        <th class=\"col_heading level0 col0\" >PTS</th>        <th class=\"col_heading level0 col1\" >TRB</th>        <th class=\"col_heading level0 col2\" >AST</th>        <th class=\"col_heading level0 col3\" >STL</th>        <th class=\"col_heading level0 col4\" >BLK</th>        <th class=\"col_heading level0 col5\" >TOV</th>    </tr></thead><tbody>\n",
              "                <tr>\n",
              "                        <th id=\"T_c61a1eba_2a8e_11eb_b5cf_0242ac1c0002level0_row0\" class=\"row_heading level0 row0\" >0</th>\n",
              "                        <td id=\"T_c61a1eba_2a8e_11eb_b5cf_0242ac1c0002row0_col0\" class=\"data row0 col0\" >14.550186</td>\n",
              "                        <td id=\"T_c61a1eba_2a8e_11eb_b5cf_0242ac1c0002row0_col1\" class=\"data row0 col1\" >8.524727</td>\n",
              "                        <td id=\"T_c61a1eba_2a8e_11eb_b5cf_0242ac1c0002row0_col2\" class=\"data row0 col2\" >2.279152</td>\n",
              "                        <td id=\"T_c61a1eba_2a8e_11eb_b5cf_0242ac1c0002row0_col3\" class=\"data row0 col3\" >0.777242</td>\n",
              "                        <td id=\"T_c61a1eba_2a8e_11eb_b5cf_0242ac1c0002row0_col4\" class=\"data row0 col4\" >1.230885</td>\n",
              "                        <td id=\"T_c61a1eba_2a8e_11eb_b5cf_0242ac1c0002row0_col5\" class=\"data row0 col5\" >1.842771</td>\n",
              "            </tr>\n",
              "            <tr>\n",
              "                        <th id=\"T_c61a1eba_2a8e_11eb_b5cf_0242ac1c0002level0_row1\" class=\"row_heading level0 row1\" >1</th>\n",
              "                        <td id=\"T_c61a1eba_2a8e_11eb_b5cf_0242ac1c0002row1_col0\" class=\"data row1 col0\" >10.228179</td>\n",
              "                        <td id=\"T_c61a1eba_2a8e_11eb_b5cf_0242ac1c0002row1_col1\" class=\"data row1 col1\" >4.504354</td>\n",
              "                        <td id=\"T_c61a1eba_2a8e_11eb_b5cf_0242ac1c0002row1_col2\" class=\"data row1 col2\" >1.579742</td>\n",
              "                        <td id=\"T_c61a1eba_2a8e_11eb_b5cf_0242ac1c0002row1_col3\" class=\"data row1 col3\" >0.779853</td>\n",
              "                        <td id=\"T_c61a1eba_2a8e_11eb_b5cf_0242ac1c0002row1_col4\" class=\"data row1 col4\" >0.433706</td>\n",
              "                        <td id=\"T_c61a1eba_2a8e_11eb_b5cf_0242ac1c0002row1_col5\" class=\"data row1 col5\" >1.107959</td>\n",
              "            </tr>\n",
              "            <tr>\n",
              "                        <th id=\"T_c61a1eba_2a8e_11eb_b5cf_0242ac1c0002level0_row2\" class=\"row_heading level0 row2\" >2</th>\n",
              "                        <td id=\"T_c61a1eba_2a8e_11eb_b5cf_0242ac1c0002row2_col0\" class=\"data row2 col0\" >15.895675</td>\n",
              "                        <td id=\"T_c61a1eba_2a8e_11eb_b5cf_0242ac1c0002row2_col1\" class=\"data row2 col1\" >4.173718</td>\n",
              "                        <td id=\"T_c61a1eba_2a8e_11eb_b5cf_0242ac1c0002row2_col2\" class=\"data row2 col2\" >4.807518</td>\n",
              "                        <td id=\"T_c61a1eba_2a8e_11eb_b5cf_0242ac1c0002row2_col3\" class=\"data row2 col3\" >1.176113</td>\n",
              "                        <td id=\"T_c61a1eba_2a8e_11eb_b5cf_0242ac1c0002row2_col4\" class=\"data row2 col4\" >0.370977</td>\n",
              "                        <td id=\"T_c61a1eba_2a8e_11eb_b5cf_0242ac1c0002row2_col5\" class=\"data row2 col5\" >2.244243</td>\n",
              "            </tr>\n",
              "    </tbody></table>"
            ],
            "text/plain": [
              "<pandas.io.formats.style.Styler at 0x7f2566e7d438>"
            ]
          },
          "metadata": {
            "tags": []
          },
          "execution_count": 50
        }
      ]
    },
    {
      "cell_type": "code",
      "metadata": {
        "colab": {
          "base_uri": "https://localhost:8080/",
          "height": 176
        },
        "id": "aIXAgDsPks_F",
        "outputId": "d2e83d42-3346-4e35-e7c2-7a1e2f65f0c8"
      },
      "source": [
        "print(\"GMM+7\")\n",
        "X = nba[[\"PTS\", \"TRB\", \"AST\", \"STL\", \"BLK\", \"TOV\"]]\n",
        "X_scale = pd.DataFrame(scaler.fit_transform(X), columns=X.columns)\n",
        "\n",
        "gmm_cluster7 = GaussianMixture(n_components=7)\n",
        "X_scale[\"cluster\"] = gmm_cluster7.fit_predict(X_scale)\n",
        "\n",
        "centers = pd.DataFrame(gmm_cluster7.means_, columns=X.columns)\n",
        "inverse = pd.DataFrame(scaler.inverse_transform(centers), columns=X.columns)\n",
        "inverse.style.background_gradient()"
      ],
      "execution_count": 65,
      "outputs": [
        {
          "output_type": "stream",
          "text": [
            "GMM+7\n"
          ],
          "name": "stdout"
        },
        {
          "output_type": "execute_result",
          "data": {
            "text/html": [
              "<style  type=\"text/css\" >\n",
              "#T_d2c6cd14_2a9a_11eb_b5cf_0242ac1c0002row0_col0{\n",
              "            background-color:  #1c7fb8;\n",
              "            color:  #000000;\n",
              "        }#T_d2c6cd14_2a9a_11eb_b5cf_0242ac1c0002row0_col1{\n",
              "            background-color:  #f8f1f8;\n",
              "            color:  #000000;\n",
              "        }#T_d2c6cd14_2a9a_11eb_b5cf_0242ac1c0002row0_col2{\n",
              "            background-color:  #2786bb;\n",
              "            color:  #000000;\n",
              "        }#T_d2c6cd14_2a9a_11eb_b5cf_0242ac1c0002row0_col3{\n",
              "            background-color:  #b9c6e0;\n",
              "            color:  #000000;\n",
              "        }#T_d2c6cd14_2a9a_11eb_b5cf_0242ac1c0002row0_col4,#T_d2c6cd14_2a9a_11eb_b5cf_0242ac1c0002row2_col0,#T_d2c6cd14_2a9a_11eb_b5cf_0242ac1c0002row2_col1,#T_d2c6cd14_2a9a_11eb_b5cf_0242ac1c0002row2_col5,#T_d2c6cd14_2a9a_11eb_b5cf_0242ac1c0002row5_col2,#T_d2c6cd14_2a9a_11eb_b5cf_0242ac1c0002row5_col3{\n",
              "            background-color:  #fff7fb;\n",
              "            color:  #000000;\n",
              "        }#T_d2c6cd14_2a9a_11eb_b5cf_0242ac1c0002row0_col5{\n",
              "            background-color:  #3790c0;\n",
              "            color:  #000000;\n",
              "        }#T_d2c6cd14_2a9a_11eb_b5cf_0242ac1c0002row1_col0{\n",
              "            background-color:  #4295c3;\n",
              "            color:  #000000;\n",
              "        }#T_d2c6cd14_2a9a_11eb_b5cf_0242ac1c0002row1_col1{\n",
              "            background-color:  #79abd0;\n",
              "            color:  #000000;\n",
              "        }#T_d2c6cd14_2a9a_11eb_b5cf_0242ac1c0002row1_col2{\n",
              "            background-color:  #e9e5f1;\n",
              "            color:  #000000;\n",
              "        }#T_d2c6cd14_2a9a_11eb_b5cf_0242ac1c0002row1_col3{\n",
              "            background-color:  #f5eff6;\n",
              "            color:  #000000;\n",
              "        }#T_d2c6cd14_2a9a_11eb_b5cf_0242ac1c0002row1_col4{\n",
              "            background-color:  #dddbec;\n",
              "            color:  #000000;\n",
              "        }#T_d2c6cd14_2a9a_11eb_b5cf_0242ac1c0002row1_col5{\n",
              "            background-color:  #cacee5;\n",
              "            color:  #000000;\n",
              "        }#T_d2c6cd14_2a9a_11eb_b5cf_0242ac1c0002row2_col2{\n",
              "            background-color:  #f5eef6;\n",
              "            color:  #000000;\n",
              "        }#T_d2c6cd14_2a9a_11eb_b5cf_0242ac1c0002row2_col3{\n",
              "            background-color:  #f3edf5;\n",
              "            color:  #000000;\n",
              "        }#T_d2c6cd14_2a9a_11eb_b5cf_0242ac1c0002row2_col4,#T_d2c6cd14_2a9a_11eb_b5cf_0242ac1c0002row5_col0{\n",
              "            background-color:  #f9f2f8;\n",
              "            color:  #000000;\n",
              "        }#T_d2c6cd14_2a9a_11eb_b5cf_0242ac1c0002row3_col0{\n",
              "            background-color:  #034369;\n",
              "            color:  #f1f1f1;\n",
              "        }#T_d2c6cd14_2a9a_11eb_b5cf_0242ac1c0002row3_col1,#T_d2c6cd14_2a9a_11eb_b5cf_0242ac1c0002row3_col4,#T_d2c6cd14_2a9a_11eb_b5cf_0242ac1c0002row4_col0,#T_d2c6cd14_2a9a_11eb_b5cf_0242ac1c0002row4_col2,#T_d2c6cd14_2a9a_11eb_b5cf_0242ac1c0002row4_col3,#T_d2c6cd14_2a9a_11eb_b5cf_0242ac1c0002row4_col5{\n",
              "            background-color:  #023858;\n",
              "            color:  #f1f1f1;\n",
              "        }#T_d2c6cd14_2a9a_11eb_b5cf_0242ac1c0002row3_col2{\n",
              "            background-color:  #a9bfdc;\n",
              "            color:  #000000;\n",
              "        }#T_d2c6cd14_2a9a_11eb_b5cf_0242ac1c0002row3_col3{\n",
              "            background-color:  #cdd0e5;\n",
              "            color:  #000000;\n",
              "        }#T_d2c6cd14_2a9a_11eb_b5cf_0242ac1c0002row3_col5{\n",
              "            background-color:  #1278b4;\n",
              "            color:  #f1f1f1;\n",
              "        }#T_d2c6cd14_2a9a_11eb_b5cf_0242ac1c0002row4_col1{\n",
              "            background-color:  #9cb9d9;\n",
              "            color:  #000000;\n",
              "        }#T_d2c6cd14_2a9a_11eb_b5cf_0242ac1c0002row4_col4{\n",
              "            background-color:  #c8cde4;\n",
              "            color:  #000000;\n",
              "        }#T_d2c6cd14_2a9a_11eb_b5cf_0242ac1c0002row5_col1{\n",
              "            background-color:  #93b5d6;\n",
              "            color:  #000000;\n",
              "        }#T_d2c6cd14_2a9a_11eb_b5cf_0242ac1c0002row5_col4{\n",
              "            background-color:  #4e9ac6;\n",
              "            color:  #000000;\n",
              "        }#T_d2c6cd14_2a9a_11eb_b5cf_0242ac1c0002row5_col5{\n",
              "            background-color:  #ede8f3;\n",
              "            color:  #000000;\n",
              "        }#T_d2c6cd14_2a9a_11eb_b5cf_0242ac1c0002row6_col0{\n",
              "            background-color:  #b1c2de;\n",
              "            color:  #000000;\n",
              "        }#T_d2c6cd14_2a9a_11eb_b5cf_0242ac1c0002row6_col1{\n",
              "            background-color:  #bdc8e1;\n",
              "            color:  #000000;\n",
              "        }#T_d2c6cd14_2a9a_11eb_b5cf_0242ac1c0002row6_col2{\n",
              "            background-color:  #d8d7e9;\n",
              "            color:  #000000;\n",
              "        }#T_d2c6cd14_2a9a_11eb_b5cf_0242ac1c0002row6_col3{\n",
              "            background-color:  #62a2cb;\n",
              "            color:  #000000;\n",
              "        }#T_d2c6cd14_2a9a_11eb_b5cf_0242ac1c0002row6_col4{\n",
              "            background-color:  #d9d8ea;\n",
              "            color:  #000000;\n",
              "        }#T_d2c6cd14_2a9a_11eb_b5cf_0242ac1c0002row6_col5{\n",
              "            background-color:  #b8c6e0;\n",
              "            color:  #000000;\n",
              "        }</style><table id=\"T_d2c6cd14_2a9a_11eb_b5cf_0242ac1c0002\" ><thead>    <tr>        <th class=\"blank level0\" ></th>        <th class=\"col_heading level0 col0\" >PTS</th>        <th class=\"col_heading level0 col1\" >TRB</th>        <th class=\"col_heading level0 col2\" >AST</th>        <th class=\"col_heading level0 col3\" >STL</th>        <th class=\"col_heading level0 col4\" >BLK</th>        <th class=\"col_heading level0 col5\" >TOV</th>    </tr></thead><tbody>\n",
              "                <tr>\n",
              "                        <th id=\"T_d2c6cd14_2a9a_11eb_b5cf_0242ac1c0002level0_row0\" class=\"row_heading level0 row0\" >0</th>\n",
              "                        <td id=\"T_d2c6cd14_2a9a_11eb_b5cf_0242ac1c0002row0_col0\" class=\"data row0 col0\" >14.871119</td>\n",
              "                        <td id=\"T_d2c6cd14_2a9a_11eb_b5cf_0242ac1c0002row0_col1\" class=\"data row0 col1\" >3.238720</td>\n",
              "                        <td id=\"T_d2c6cd14_2a9a_11eb_b5cf_0242ac1c0002row0_col2\" class=\"data row0 col2\" >4.359562</td>\n",
              "                        <td id=\"T_d2c6cd14_2a9a_11eb_b5cf_0242ac1c0002row0_col3\" class=\"data row0 col3\" >0.929819</td>\n",
              "                        <td id=\"T_d2c6cd14_2a9a_11eb_b5cf_0242ac1c0002row0_col4\" class=\"data row0 col4\" >0.219538</td>\n",
              "                        <td id=\"T_d2c6cd14_2a9a_11eb_b5cf_0242ac1c0002row0_col5\" class=\"data row0 col5\" >2.027738</td>\n",
              "            </tr>\n",
              "            <tr>\n",
              "                        <th id=\"T_d2c6cd14_2a9a_11eb_b5cf_0242ac1c0002level0_row1\" class=\"row_heading level0 row1\" >1</th>\n",
              "                        <td id=\"T_d2c6cd14_2a9a_11eb_b5cf_0242ac1c0002row1_col0\" class=\"data row1 col0\" >14.042871</td>\n",
              "                        <td id=\"T_d2c6cd14_2a9a_11eb_b5cf_0242ac1c0002row1_col1\" class=\"data row1 col1\" >6.149907</td>\n",
              "                        <td id=\"T_d2c6cd14_2a9a_11eb_b5cf_0242ac1c0002row1_col2\" class=\"data row1 col2\" >1.829701</td>\n",
              "                        <td id=\"T_d2c6cd14_2a9a_11eb_b5cf_0242ac1c0002row1_col3\" class=\"data row1 col3\" >0.702119</td>\n",
              "                        <td id=\"T_d2c6cd14_2a9a_11eb_b5cf_0242ac1c0002row1_col4\" class=\"data row1 col4\" >0.449498</td>\n",
              "                        <td id=\"T_d2c6cd14_2a9a_11eb_b5cf_0242ac1c0002row1_col5\" class=\"data row1 col5\" >1.375634</td>\n",
              "            </tr>\n",
              "            <tr>\n",
              "                        <th id=\"T_d2c6cd14_2a9a_11eb_b5cf_0242ac1c0002level0_row2\" class=\"row_heading level0 row2\" >2</th>\n",
              "                        <td id=\"T_d2c6cd14_2a9a_11eb_b5cf_0242ac1c0002row2_col0\" class=\"data row2 col0\" >8.517667</td>\n",
              "                        <td id=\"T_d2c6cd14_2a9a_11eb_b5cf_0242ac1c0002row2_col1\" class=\"data row2 col1\" >2.945636</td>\n",
              "                        <td id=\"T_d2c6cd14_2a9a_11eb_b5cf_0242ac1c0002row2_col2\" class=\"data row2 col2\" >1.496592</td>\n",
              "                        <td id=\"T_d2c6cd14_2a9a_11eb_b5cf_0242ac1c0002row2_col3\" class=\"data row2 col3\" >0.715729</td>\n",
              "                        <td id=\"T_d2c6cd14_2a9a_11eb_b5cf_0242ac1c0002row2_col4\" class=\"data row2 col4\" >0.269600</td>\n",
              "                        <td id=\"T_d2c6cd14_2a9a_11eb_b5cf_0242ac1c0002row2_col5\" class=\"data row2 col5\" >0.887238</td>\n",
              "            </tr>\n",
              "            <tr>\n",
              "                        <th id=\"T_d2c6cd14_2a9a_11eb_b5cf_0242ac1c0002level0_row3\" class=\"row_heading level0 row3\" >3</th>\n",
              "                        <td id=\"T_d2c6cd14_2a9a_11eb_b5cf_0242ac1c0002row3_col0\" class=\"data row3 col0\" >17.326843</td>\n",
              "                        <td id=\"T_d2c6cd14_2a9a_11eb_b5cf_0242ac1c0002row3_col1\" class=\"data row3 col1\" >9.513854</td>\n",
              "                        <td id=\"T_d2c6cd14_2a9a_11eb_b5cf_0242ac1c0002row3_col2\" class=\"data row3 col2\" >2.932958</td>\n",
              "                        <td id=\"T_d2c6cd14_2a9a_11eb_b5cf_0242ac1c0002row3_col3\" class=\"data row3 col3\" >0.876759</td>\n",
              "                        <td id=\"T_d2c6cd14_2a9a_11eb_b5cf_0242ac1c0002row3_col4\" class=\"data row3 col4\" >1.419379</td>\n",
              "                        <td id=\"T_d2c6cd14_2a9a_11eb_b5cf_0242ac1c0002row3_col5\" class=\"data row3 col5\" >2.195483</td>\n",
              "            </tr>\n",
              "            <tr>\n",
              "                        <th id=\"T_d2c6cd14_2a9a_11eb_b5cf_0242ac1c0002level0_row4\" class=\"row_heading level0 row4\" >4</th>\n",
              "                        <td id=\"T_d2c6cd14_2a9a_11eb_b5cf_0242ac1c0002row4_col0\" class=\"data row4 col0\" >17.718459</td>\n",
              "                        <td id=\"T_d2c6cd14_2a9a_11eb_b5cf_0242ac1c0002row4_col1\" class=\"data row4 col1\" >5.584173</td>\n",
              "                        <td id=\"T_d2c6cd14_2a9a_11eb_b5cf_0242ac1c0002row4_col2\" class=\"data row4 col2\" >5.996867</td>\n",
              "                        <td id=\"T_d2c6cd14_2a9a_11eb_b5cf_0242ac1c0002row4_col3\" class=\"data row4 col3\" >1.550551</td>\n",
              "                        <td id=\"T_d2c6cd14_2a9a_11eb_b5cf_0242ac1c0002row4_col4\" class=\"data row4 col4\" >0.548079</td>\n",
              "                        <td id=\"T_d2c6cd14_2a9a_11eb_b5cf_0242ac1c0002row4_col5\" class=\"data row4 col5\" >2.715573</td>\n",
              "            </tr>\n",
              "            <tr>\n",
              "                        <th id=\"T_d2c6cd14_2a9a_11eb_b5cf_0242ac1c0002level0_row5\" class=\"row_heading level0 row5\" >5</th>\n",
              "                        <td id=\"T_d2c6cd14_2a9a_11eb_b5cf_0242ac1c0002row5_col0\" class=\"data row5 col0\" >8.904228</td>\n",
              "                        <td id=\"T_d2c6cd14_2a9a_11eb_b5cf_0242ac1c0002row5_col1\" class=\"data row5 col1\" >5.737615</td>\n",
              "                        <td id=\"T_d2c6cd14_2a9a_11eb_b5cf_0242ac1c0002row5_col2\" class=\"data row5 col2\" >1.167249</td>\n",
              "                        <td id=\"T_d2c6cd14_2a9a_11eb_b5cf_0242ac1c0002row5_col3\" class=\"data row5 col3\" >0.642320</td>\n",
              "                        <td id=\"T_d2c6cd14_2a9a_11eb_b5cf_0242ac1c0002row5_col4\" class=\"data row5 col4\" >0.912127</td>\n",
              "                        <td id=\"T_d2c6cd14_2a9a_11eb_b5cf_0242ac1c0002row5_col5\" class=\"data row5 col5\" >1.106135</td>\n",
              "            </tr>\n",
              "            <tr>\n",
              "                        <th id=\"T_d2c6cd14_2a9a_11eb_b5cf_0242ac1c0002level0_row6\" class=\"row_heading level0 row6\" >6</th>\n",
              "                        <td id=\"T_d2c6cd14_2a9a_11eb_b5cf_0242ac1c0002row6_col0\" class=\"data row6 col0\" >11.677400</td>\n",
              "                        <td id=\"T_d2c6cd14_2a9a_11eb_b5cf_0242ac1c0002row6_col1\" class=\"data row6 col1\" >4.957025</td>\n",
              "                        <td id=\"T_d2c6cd14_2a9a_11eb_b5cf_0242ac1c0002row6_col2\" class=\"data row6 col2\" >2.205605</td>\n",
              "                        <td id=\"T_d2c6cd14_2a9a_11eb_b5cf_0242ac1c0002row6_col3\" class=\"data row6 col3\" >1.131331</td>\n",
              "                        <td id=\"T_d2c6cd14_2a9a_11eb_b5cf_0242ac1c0002row6_col4\" class=\"data row6 col4\" >0.470059</td>\n",
              "                        <td id=\"T_d2c6cd14_2a9a_11eb_b5cf_0242ac1c0002row6_col5\" class=\"data row6 col5\" >1.476168</td>\n",
              "            </tr>\n",
              "    </tbody></table>"
            ],
            "text/plain": [
              "<pandas.io.formats.style.Styler at 0x7f2566f0df60>"
            ]
          },
          "metadata": {
            "tags": []
          },
          "execution_count": 65
        }
      ]
    },
    {
      "cell_type": "markdown",
      "metadata": {
        "id": "_3kRi5MNlDbV"
      },
      "source": [
        "*Archetyping between the two models are different. In +7, the best offensive players in GMM comes at cluster 4 while in KM they are at 6. It is also notable that total rebounds and blocks are not the highest on those indices, indicating that those on cluster 0 on GMM and cluster 2 on KM are the best defensive players. On +3, KM has the best offensive players on 0 and GMM has it on 2.*"
      ]
    },
    {
      "cell_type": "markdown",
      "metadata": {
        "id": "y0wBOUWJ1D_6"
      },
      "source": [
        "Predict the likelihood of each player belonging to one of the 3 clusters using the GMM model. Then, calculate the entropy for each set of predicted probabilities. \n",
        "\n",
        "We will use entropy as a measure of how confident we are in the predicted class label. If we had no confidence in our prediction, we would assign 33% probability to each class, while if we were totally confident, we would assign 100% to one class. Entropy would be at a maximum in the \"no confidence\" scenario and a minimum in the \"full confidence\" scenario, which makes it a reasonable way to quantify our uncertainty in our prediction. There are certainly other methods as well; feel free to experiment with them if desired.\n",
        "\n",
        "Which five predicted labels are we least confident about? Which five are we most confident about? Print out the associated details (season, player name, stats, etc.) from those players."
      ]
    },
    {
      "cell_type": "code",
      "metadata": {
        "id": "AdKYEBx61D_6"
      },
      "source": [
        "# answer goes here\n",
        "X = nba[[\"PTS\", \"TRB\", \"AST\", \"STL\", \"BLK\", \"TOV\"]]\n",
        "X_scale = pd.DataFrame(scaler.fit_transform(X), columns=X.columns)\n",
        "probs = pd.DataFrame(gmm_cluster3.predict_proba(X_scale))\n",
        "ent = entr(probs)"
      ],
      "execution_count": 72,
      "outputs": []
    },
    {
      "cell_type": "code",
      "metadata": {
        "id": "_OdjNdHC6yKk"
      },
      "source": [
        "tot = pd.DataFrame(ent.sum(axis=1), columns=['Total Entropy'])\n",
        "top5 = tot.sort_values(by='Total Entropy', ascending=False).head().index"
      ],
      "execution_count": 93,
      "outputs": []
    },
    {
      "cell_type": "code",
      "metadata": {
        "id": "UMOxFyhe83z6"
      },
      "source": [
        "least5 = tot.sort_values(by='Total Entropy', ascending=True).head().index"
      ],
      "execution_count": 92,
      "outputs": []
    },
    {
      "cell_type": "code",
      "metadata": {
        "colab": {
          "base_uri": "https://localhost:8080/",
          "height": 214
        },
        "id": "eJ10Bmx29cuf",
        "outputId": "ef7038df-6091-4eb3-9c88-f3f09736fd91"
      },
      "source": [
        "print(\"5 with the Most Total Entropies (0% Certainty)\")\n",
        "ref = pd.DataFrame(columns=[\"Season\", \"Player\", \"Position\", \"Age\", \"Team\"])\n",
        "\n",
        "for i in top5:\n",
        "    playerdata = []\n",
        "\n",
        "    playerdata.append(nba.iloc[i].Seas)\n",
        "    playerdata.append(nba.iloc[i].Player)\n",
        "    playerdata.append(nba.iloc[i].Pos)\n",
        "    playerdata.append(nba.iloc[i].Age)\n",
        "    playerdata.append(nba.iloc[i].Tm)\n",
        "    ref.loc[i] = playerdata\n",
        "\n",
        "ref"
      ],
      "execution_count": 127,
      "outputs": [
        {
          "output_type": "stream",
          "text": [
            "5 with the Most Total Entropies\n"
          ],
          "name": "stdout"
        },
        {
          "output_type": "execute_result",
          "data": {
            "text/html": [
              "<div>\n",
              "<style scoped>\n",
              "    .dataframe tbody tr th:only-of-type {\n",
              "        vertical-align: middle;\n",
              "    }\n",
              "\n",
              "    .dataframe tbody tr th {\n",
              "        vertical-align: top;\n",
              "    }\n",
              "\n",
              "    .dataframe thead th {\n",
              "        text-align: right;\n",
              "    }\n",
              "</style>\n",
              "<table border=\"1\" class=\"dataframe\">\n",
              "  <thead>\n",
              "    <tr style=\"text-align: right;\">\n",
              "      <th></th>\n",
              "      <th>Season</th>\n",
              "      <th>Player</th>\n",
              "      <th>Position</th>\n",
              "      <th>Age</th>\n",
              "      <th>Team</th>\n",
              "    </tr>\n",
              "  </thead>\n",
              "  <tbody>\n",
              "    <tr>\n",
              "      <th>13</th>\n",
              "      <td>2019</td>\n",
              "      <td>Will Barton</td>\n",
              "      <td>SG</td>\n",
              "      <td>28</td>\n",
              "      <td>DEN</td>\n",
              "    </tr>\n",
              "    <tr>\n",
              "      <th>741</th>\n",
              "      <td>2016</td>\n",
              "      <td>Markieff Morris</td>\n",
              "      <td>PF</td>\n",
              "      <td>26</td>\n",
              "      <td>TOT</td>\n",
              "    </tr>\n",
              "    <tr>\n",
              "      <th>343</th>\n",
              "      <td>2018</td>\n",
              "      <td>Kelly Olynyk</td>\n",
              "      <td>PF</td>\n",
              "      <td>26</td>\n",
              "      <td>MIA</td>\n",
              "    </tr>\n",
              "    <tr>\n",
              "      <th>109</th>\n",
              "      <td>2019</td>\n",
              "      <td>James Johnson</td>\n",
              "      <td>PF</td>\n",
              "      <td>31</td>\n",
              "      <td>MIA</td>\n",
              "    </tr>\n",
              "    <tr>\n",
              "      <th>406</th>\n",
              "      <td>2017</td>\n",
              "      <td>Carmelo Anthony</td>\n",
              "      <td>SF</td>\n",
              "      <td>32</td>\n",
              "      <td>NYK</td>\n",
              "    </tr>\n",
              "  </tbody>\n",
              "</table>\n",
              "</div>"
            ],
            "text/plain": [
              "    Season           Player Position Age Team\n",
              "13    2019      Will Barton       SG  28  DEN\n",
              "741   2016  Markieff Morris       PF  26  TOT\n",
              "343   2018     Kelly Olynyk       PF  26  MIA\n",
              "109   2019    James Johnson       PF  31  MIA\n",
              "406   2017  Carmelo Anthony       SF  32  NYK"
            ]
          },
          "metadata": {
            "tags": []
          },
          "execution_count": 127
        }
      ]
    },
    {
      "cell_type": "code",
      "metadata": {
        "colab": {
          "base_uri": "https://localhost:8080/",
          "height": 214
        },
        "id": "fxUkywUS-HYQ",
        "outputId": "4acf2cc8-058c-4f1b-c3ae-bd946f168acc"
      },
      "source": [
        "print(\"5 with the Least Total Entropies (100% Certainty)\")\n",
        "ref = pd.DataFrame(columns=[\"Season\", \"Player\", \"Position\", \"Age\", \"Team\"])\n",
        "\n",
        "for i in least5:\n",
        "    playerdata = []\n",
        "\n",
        "    playerdata.append(nba.iloc[i].Seas)\n",
        "    playerdata.append(nba.iloc[i].Player)\n",
        "    playerdata.append(nba.iloc[i].Pos)\n",
        "    playerdata.append(nba.iloc[i].Age)\n",
        "    playerdata.append(nba.iloc[i].Tm)\n",
        "    ref.loc[i] = playerdata\n",
        "\n",
        "ref"
      ],
      "execution_count": 128,
      "outputs": [
        {
          "output_type": "stream",
          "text": [
            "5 with the Least Total Entropies (100% Certainty)\n"
          ],
          "name": "stdout"
        },
        {
          "output_type": "execute_result",
          "data": {
            "text/html": [
              "<div>\n",
              "<style scoped>\n",
              "    .dataframe tbody tr th:only-of-type {\n",
              "        vertical-align: middle;\n",
              "    }\n",
              "\n",
              "    .dataframe tbody tr th {\n",
              "        vertical-align: top;\n",
              "    }\n",
              "\n",
              "    .dataframe thead th {\n",
              "        text-align: right;\n",
              "    }\n",
              "</style>\n",
              "<table border=\"1\" class=\"dataframe\">\n",
              "  <thead>\n",
              "    <tr style=\"text-align: right;\">\n",
              "      <th></th>\n",
              "      <th>Season</th>\n",
              "      <th>Player</th>\n",
              "      <th>Position</th>\n",
              "      <th>Age</th>\n",
              "      <th>Team</th>\n",
              "    </tr>\n",
              "  </thead>\n",
              "  <tbody>\n",
              "    <tr>\n",
              "      <th>797</th>\n",
              "      <td>2016</td>\n",
              "      <td>Hassan Whiteside</td>\n",
              "      <td>C</td>\n",
              "      <td>26</td>\n",
              "      <td>MIA</td>\n",
              "    </tr>\n",
              "    <tr>\n",
              "      <th>182</th>\n",
              "      <td>2019</td>\n",
              "      <td>Myles Turner</td>\n",
              "      <td>C</td>\n",
              "      <td>22</td>\n",
              "      <td>IND</td>\n",
              "    </tr>\n",
              "    <tr>\n",
              "      <th>252</th>\n",
              "      <td>2018</td>\n",
              "      <td>Anthony Davis</td>\n",
              "      <td>PF</td>\n",
              "      <td>24</td>\n",
              "      <td>NOP</td>\n",
              "    </tr>\n",
              "    <tr>\n",
              "      <th>351</th>\n",
              "      <td>2018</td>\n",
              "      <td>Kristaps Porziņģis</td>\n",
              "      <td>PF</td>\n",
              "      <td>22</td>\n",
              "      <td>NYK</td>\n",
              "    </tr>\n",
              "    <tr>\n",
              "      <th>454</th>\n",
              "      <td>2017</td>\n",
              "      <td>Joel Embiid</td>\n",
              "      <td>C</td>\n",
              "      <td>22</td>\n",
              "      <td>PHI</td>\n",
              "    </tr>\n",
              "  </tbody>\n",
              "</table>\n",
              "</div>"
            ],
            "text/plain": [
              "    Season              Player Position Age Team\n",
              "797   2016    Hassan Whiteside        C  26  MIA\n",
              "182   2019        Myles Turner        C  22  IND\n",
              "252   2018       Anthony Davis       PF  24  NOP\n",
              "351   2018  Kristaps Porziņģis       PF  22  NYK\n",
              "454   2017         Joel Embiid        C  22  PHI"
            ]
          },
          "metadata": {
            "tags": []
          },
          "execution_count": 128
        }
      ]
    }
  ]
}