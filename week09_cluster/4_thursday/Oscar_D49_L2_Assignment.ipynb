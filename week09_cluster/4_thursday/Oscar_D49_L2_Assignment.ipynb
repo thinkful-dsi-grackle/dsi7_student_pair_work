{
  "nbformat": 4,
  "nbformat_minor": 0,
  "metadata": {
    "colab": {
      "name": "Oscar_D49_L2_Assignment.ipynb",
      "provenance": [],
      "collapsed_sections": []
    },
    "kernelspec": {
      "display_name": "Python 3",
      "language": "python",
      "name": "python3"
    },
    "language_info": {
      "codemirror_mode": {
        "name": "ipython",
        "version": 3
      },
      "file_extension": ".py",
      "mimetype": "text/x-python",
      "name": "python",
      "nbconvert_exporter": "python",
      "pygments_lexer": "ipython3",
      "version": "3.7.0"
    }
  },
  "cells": [
    {
      "cell_type": "markdown",
      "metadata": {
        "id": "xdL0Yz0D1D_q"
      },
      "source": [
        "## Day 49 Lecture 2 Assignment\n",
        "\n",
        "In this assignment, we will apply mean shift clustering to a dataset containing the results of a survey on financial wellbeing."
      ]
    },
    {
      "cell_type": "code",
      "metadata": {
        "id": "OulyiH_C1D_r"
      },
      "source": [
        "%matplotlib inline\n",
        "\n",
        "import matplotlib.pyplot as plt\n",
        "import numpy as np\n",
        "import pandas as pd\n",
        "from sklearn.cluster import MeanShift\n",
        "from sklearn.preprocessing import StandardScaler"
      ],
      "execution_count": 2,
      "outputs": []
    },
    {
      "cell_type": "markdown",
      "metadata": {
        "id": "ezMvoRlB1D_t"
      },
      "source": [
        "This dataset contains the results of a survey on a financial wellbeing conducted by the US Consumer Finance Protection Bureau that were published in October 2017. This dataset has a large number of columns, most of which correspond to specific questions on the survey. These codebook for translating the column names to questions can be found here:\n",
        "\n",
        "https://s3.amazonaws.com/files.consumerfinance.gov/f/documents/cfpb_nfwbs-puf-codebook.pdf\n",
        "\n",
        "Load the dataset."
      ]
    },
    {
      "cell_type": "code",
      "metadata": {
        "id": "wP1U4eQ91D_u",
        "colab": {
          "base_uri": "https://localhost:8080/",
          "height": 156
        },
        "outputId": "67bcd3f1-9c8b-49af-b446-966cb60b89b9"
      },
      "source": [
        "# answer goes here\n",
        "df = pd.read_csv('https://tf-assets-prod.s3.amazonaws.com/tf-curric/data-science/Data%20Sets%20Clustering/financial_wellbeing.csv')\n",
        "df.head(2)"
      ],
      "execution_count": 3,
      "outputs": [
        {
          "output_type": "execute_result",
          "data": {
            "text/html": [
              "<div>\n",
              "<style scoped>\n",
              "    .dataframe tbody tr th:only-of-type {\n",
              "        vertical-align: middle;\n",
              "    }\n",
              "\n",
              "    .dataframe tbody tr th {\n",
              "        vertical-align: top;\n",
              "    }\n",
              "\n",
              "    .dataframe thead th {\n",
              "        text-align: right;\n",
              "    }\n",
              "</style>\n",
              "<table border=\"1\" class=\"dataframe\">\n",
              "  <thead>\n",
              "    <tr style=\"text-align: right;\">\n",
              "      <th></th>\n",
              "      <th>PUF_ID</th>\n",
              "      <th>sample</th>\n",
              "      <th>fpl</th>\n",
              "      <th>SWB_1</th>\n",
              "      <th>SWB_2</th>\n",
              "      <th>SWB_3</th>\n",
              "      <th>FWBscore</th>\n",
              "      <th>FWB1_1</th>\n",
              "      <th>FWB1_2</th>\n",
              "      <th>FWB1_3</th>\n",
              "      <th>FWB1_4</th>\n",
              "      <th>FWB1_5</th>\n",
              "      <th>FWB1_6</th>\n",
              "      <th>FWB2_1</th>\n",
              "      <th>FWB2_2</th>\n",
              "      <th>FWB2_3</th>\n",
              "      <th>FWB2_4</th>\n",
              "      <th>FSscore</th>\n",
              "      <th>FS1_1</th>\n",
              "      <th>FS1_2</th>\n",
              "      <th>FS1_3</th>\n",
              "      <th>FS1_4</th>\n",
              "      <th>FS1_5</th>\n",
              "      <th>FS1_6</th>\n",
              "      <th>FS1_7</th>\n",
              "      <th>FS2_1</th>\n",
              "      <th>FS2_2</th>\n",
              "      <th>FS2_3</th>\n",
              "      <th>SUBKNOWL1</th>\n",
              "      <th>ACT1_1</th>\n",
              "      <th>ACT1_2</th>\n",
              "      <th>FINGOALS</th>\n",
              "      <th>PROPPLAN_1</th>\n",
              "      <th>PROPPLAN_2</th>\n",
              "      <th>PROPPLAN_3</th>\n",
              "      <th>PROPPLAN_4</th>\n",
              "      <th>MANAGE1_1</th>\n",
              "      <th>MANAGE1_2</th>\n",
              "      <th>MANAGE1_3</th>\n",
              "      <th>MANAGE1_4</th>\n",
              "      <th>...</th>\n",
              "      <th>SOCSEC2</th>\n",
              "      <th>SOCSEC3</th>\n",
              "      <th>LIFEEXPECT</th>\n",
              "      <th>HHEDUC</th>\n",
              "      <th>KIDS_NoChildren</th>\n",
              "      <th>KIDS_1</th>\n",
              "      <th>KIDS_2</th>\n",
              "      <th>KIDS_3</th>\n",
              "      <th>KIDS_4</th>\n",
              "      <th>EMPLOY</th>\n",
              "      <th>EMPLOY1_1</th>\n",
              "      <th>EMPLOY1_2</th>\n",
              "      <th>EMPLOY1_3</th>\n",
              "      <th>EMPLOY1_4</th>\n",
              "      <th>EMPLOY1_5</th>\n",
              "      <th>EMPLOY1_6</th>\n",
              "      <th>EMPLOY1_7</th>\n",
              "      <th>EMPLOY1_8</th>\n",
              "      <th>EMPLOY1_9</th>\n",
              "      <th>RETIRE</th>\n",
              "      <th>MILITARY</th>\n",
              "      <th>Military_Status</th>\n",
              "      <th>agecat</th>\n",
              "      <th>generation</th>\n",
              "      <th>PPEDUC</th>\n",
              "      <th>PPETHM</th>\n",
              "      <th>PPGENDER</th>\n",
              "      <th>PPHHSIZE</th>\n",
              "      <th>PPINCIMP</th>\n",
              "      <th>PPMARIT</th>\n",
              "      <th>PPMSACAT</th>\n",
              "      <th>PPREG4</th>\n",
              "      <th>PPREG9</th>\n",
              "      <th>PPT01</th>\n",
              "      <th>PPT25</th>\n",
              "      <th>PPT612</th>\n",
              "      <th>PPT1317</th>\n",
              "      <th>PPT18OV</th>\n",
              "      <th>PCTLT200FPL</th>\n",
              "      <th>finalwt</th>\n",
              "    </tr>\n",
              "  </thead>\n",
              "  <tbody>\n",
              "    <tr>\n",
              "      <th>0</th>\n",
              "      <td>10350</td>\n",
              "      <td>2</td>\n",
              "      <td>3</td>\n",
              "      <td>5</td>\n",
              "      <td>5</td>\n",
              "      <td>6</td>\n",
              "      <td>55</td>\n",
              "      <td>3</td>\n",
              "      <td>3</td>\n",
              "      <td>3</td>\n",
              "      <td>3</td>\n",
              "      <td>2</td>\n",
              "      <td>3</td>\n",
              "      <td>2</td>\n",
              "      <td>3</td>\n",
              "      <td>2</td>\n",
              "      <td>4</td>\n",
              "      <td>44</td>\n",
              "      <td>3</td>\n",
              "      <td>3</td>\n",
              "      <td>4</td>\n",
              "      <td>3</td>\n",
              "      <td>3</td>\n",
              "      <td>3</td>\n",
              "      <td>4</td>\n",
              "      <td>4</td>\n",
              "      <td>3</td>\n",
              "      <td>4</td>\n",
              "      <td>5</td>\n",
              "      <td>4</td>\n",
              "      <td>3</td>\n",
              "      <td>1</td>\n",
              "      <td>5</td>\n",
              "      <td>4</td>\n",
              "      <td>4</td>\n",
              "      <td>3</td>\n",
              "      <td>4</td>\n",
              "      <td>4</td>\n",
              "      <td>2</td>\n",
              "      <td>4</td>\n",
              "      <td>...</td>\n",
              "      <td>62</td>\n",
              "      <td>-2</td>\n",
              "      <td>-2</td>\n",
              "      <td>4</td>\n",
              "      <td>-1</td>\n",
              "      <td>0</td>\n",
              "      <td>0</td>\n",
              "      <td>0</td>\n",
              "      <td>0</td>\n",
              "      <td>8</td>\n",
              "      <td>0</td>\n",
              "      <td>0</td>\n",
              "      <td>0</td>\n",
              "      <td>0</td>\n",
              "      <td>0</td>\n",
              "      <td>0</td>\n",
              "      <td>0</td>\n",
              "      <td>1</td>\n",
              "      <td>0</td>\n",
              "      <td>1</td>\n",
              "      <td>0</td>\n",
              "      <td>5</td>\n",
              "      <td>8</td>\n",
              "      <td>1</td>\n",
              "      <td>4</td>\n",
              "      <td>1</td>\n",
              "      <td>1</td>\n",
              "      <td>1</td>\n",
              "      <td>7</td>\n",
              "      <td>3</td>\n",
              "      <td>1</td>\n",
              "      <td>4</td>\n",
              "      <td>8</td>\n",
              "      <td>0</td>\n",
              "      <td>0</td>\n",
              "      <td>0</td>\n",
              "      <td>0</td>\n",
              "      <td>1</td>\n",
              "      <td>0</td>\n",
              "      <td>0.367292</td>\n",
              "    </tr>\n",
              "    <tr>\n",
              "      <th>1</th>\n",
              "      <td>7740</td>\n",
              "      <td>1</td>\n",
              "      <td>3</td>\n",
              "      <td>6</td>\n",
              "      <td>6</td>\n",
              "      <td>6</td>\n",
              "      <td>51</td>\n",
              "      <td>2</td>\n",
              "      <td>2</td>\n",
              "      <td>3</td>\n",
              "      <td>3</td>\n",
              "      <td>3</td>\n",
              "      <td>4</td>\n",
              "      <td>2</td>\n",
              "      <td>2</td>\n",
              "      <td>2</td>\n",
              "      <td>3</td>\n",
              "      <td>43</td>\n",
              "      <td>3</td>\n",
              "      <td>3</td>\n",
              "      <td>3</td>\n",
              "      <td>3</td>\n",
              "      <td>4</td>\n",
              "      <td>3</td>\n",
              "      <td>2</td>\n",
              "      <td>4</td>\n",
              "      <td>3</td>\n",
              "      <td>2</td>\n",
              "      <td>5</td>\n",
              "      <td>4</td>\n",
              "      <td>3</td>\n",
              "      <td>0</td>\n",
              "      <td>3</td>\n",
              "      <td>2</td>\n",
              "      <td>2</td>\n",
              "      <td>1</td>\n",
              "      <td>4</td>\n",
              "      <td>4</td>\n",
              "      <td>1</td>\n",
              "      <td>4</td>\n",
              "      <td>...</td>\n",
              "      <td>-2</td>\n",
              "      <td>66</td>\n",
              "      <td>90</td>\n",
              "      <td>2</td>\n",
              "      <td>1</td>\n",
              "      <td>0</td>\n",
              "      <td>0</td>\n",
              "      <td>0</td>\n",
              "      <td>0</td>\n",
              "      <td>2</td>\n",
              "      <td>0</td>\n",
              "      <td>1</td>\n",
              "      <td>0</td>\n",
              "      <td>0</td>\n",
              "      <td>0</td>\n",
              "      <td>0</td>\n",
              "      <td>0</td>\n",
              "      <td>0</td>\n",
              "      <td>0</td>\n",
              "      <td>-2</td>\n",
              "      <td>0</td>\n",
              "      <td>5</td>\n",
              "      <td>3</td>\n",
              "      <td>3</td>\n",
              "      <td>2</td>\n",
              "      <td>1</td>\n",
              "      <td>1</td>\n",
              "      <td>2</td>\n",
              "      <td>6</td>\n",
              "      <td>3</td>\n",
              "      <td>1</td>\n",
              "      <td>2</td>\n",
              "      <td>3</td>\n",
              "      <td>0</td>\n",
              "      <td>0</td>\n",
              "      <td>0</td>\n",
              "      <td>0</td>\n",
              "      <td>2</td>\n",
              "      <td>0</td>\n",
              "      <td>1.327561</td>\n",
              "    </tr>\n",
              "  </tbody>\n",
              "</table>\n",
              "<p>2 rows × 217 columns</p>\n",
              "</div>"
            ],
            "text/plain": [
              "   PUF_ID  sample  fpl  SWB_1  ...  PPT1317  PPT18OV  PCTLT200FPL   finalwt\n",
              "0   10350       2    3      5  ...        0        1            0  0.367292\n",
              "1    7740       1    3      6  ...        0        2            0  1.327561\n",
              "\n",
              "[2 rows x 217 columns]"
            ]
          },
          "metadata": {
            "tags": []
          },
          "execution_count": 3
        }
      ]
    },
    {
      "cell_type": "markdown",
      "metadata": {
        "id": "o_K1eQ0x1D_y"
      },
      "source": [
        "While the survey questions have the potential for interesting cluster analysis, we will stick to the \"score\" columns to avoid clustering in an unreasonably high-dimensional space. The columns we are interested in all have \"score\" in their names; identify and isolate these columns. (There should be 4 in total.)"
      ]
    },
    {
      "cell_type": "code",
      "metadata": {
        "id": "xfYVreyw1D_y",
        "colab": {
          "base_uri": "https://localhost:8080/",
          "height": 406
        },
        "outputId": "2eaafb89-cb98-4989-be62-ebcf1edff51f"
      },
      "source": [
        "# answer goes here\n",
        "df2 = df.loc[:, ['FWBscore', 'FSscore', 'LMscore', 'KHscore']]\n",
        "df2"
      ],
      "execution_count": 4,
      "outputs": [
        {
          "output_type": "execute_result",
          "data": {
            "text/html": [
              "<div>\n",
              "<style scoped>\n",
              "    .dataframe tbody tr th:only-of-type {\n",
              "        vertical-align: middle;\n",
              "    }\n",
              "\n",
              "    .dataframe tbody tr th {\n",
              "        vertical-align: top;\n",
              "    }\n",
              "\n",
              "    .dataframe thead th {\n",
              "        text-align: right;\n",
              "    }\n",
              "</style>\n",
              "<table border=\"1\" class=\"dataframe\">\n",
              "  <thead>\n",
              "    <tr style=\"text-align: right;\">\n",
              "      <th></th>\n",
              "      <th>FWBscore</th>\n",
              "      <th>FSscore</th>\n",
              "      <th>LMscore</th>\n",
              "      <th>KHscore</th>\n",
              "    </tr>\n",
              "  </thead>\n",
              "  <tbody>\n",
              "    <tr>\n",
              "      <th>0</th>\n",
              "      <td>55</td>\n",
              "      <td>44</td>\n",
              "      <td>3</td>\n",
              "      <td>1.267</td>\n",
              "    </tr>\n",
              "    <tr>\n",
              "      <th>1</th>\n",
              "      <td>51</td>\n",
              "      <td>43</td>\n",
              "      <td>3</td>\n",
              "      <td>-0.570</td>\n",
              "    </tr>\n",
              "    <tr>\n",
              "      <th>2</th>\n",
              "      <td>49</td>\n",
              "      <td>42</td>\n",
              "      <td>3</td>\n",
              "      <td>-0.188</td>\n",
              "    </tr>\n",
              "    <tr>\n",
              "      <th>3</th>\n",
              "      <td>49</td>\n",
              "      <td>42</td>\n",
              "      <td>2</td>\n",
              "      <td>-1.485</td>\n",
              "    </tr>\n",
              "    <tr>\n",
              "      <th>4</th>\n",
              "      <td>49</td>\n",
              "      <td>42</td>\n",
              "      <td>1</td>\n",
              "      <td>-1.900</td>\n",
              "    </tr>\n",
              "    <tr>\n",
              "      <th>...</th>\n",
              "      <td>...</td>\n",
              "      <td>...</td>\n",
              "      <td>...</td>\n",
              "      <td>...</td>\n",
              "    </tr>\n",
              "    <tr>\n",
              "      <th>6389</th>\n",
              "      <td>61</td>\n",
              "      <td>47</td>\n",
              "      <td>3</td>\n",
              "      <td>1.267</td>\n",
              "    </tr>\n",
              "    <tr>\n",
              "      <th>6390</th>\n",
              "      <td>59</td>\n",
              "      <td>59</td>\n",
              "      <td>1</td>\n",
              "      <td>-1.215</td>\n",
              "    </tr>\n",
              "    <tr>\n",
              "      <th>6391</th>\n",
              "      <td>59</td>\n",
              "      <td>51</td>\n",
              "      <td>2</td>\n",
              "      <td>-1.215</td>\n",
              "    </tr>\n",
              "    <tr>\n",
              "      <th>6392</th>\n",
              "      <td>46</td>\n",
              "      <td>54</td>\n",
              "      <td>2</td>\n",
              "      <td>-1.215</td>\n",
              "    </tr>\n",
              "    <tr>\n",
              "      <th>6393</th>\n",
              "      <td>49</td>\n",
              "      <td>42</td>\n",
              "      <td>2</td>\n",
              "      <td>-1.215</td>\n",
              "    </tr>\n",
              "  </tbody>\n",
              "</table>\n",
              "<p>6394 rows × 4 columns</p>\n",
              "</div>"
            ],
            "text/plain": [
              "      FWBscore  FSscore  LMscore  KHscore\n",
              "0           55       44        3    1.267\n",
              "1           51       43        3   -0.570\n",
              "2           49       42        3   -0.188\n",
              "3           49       42        2   -1.485\n",
              "4           49       42        1   -1.900\n",
              "...        ...      ...      ...      ...\n",
              "6389        61       47        3    1.267\n",
              "6390        59       59        1   -1.215\n",
              "6391        59       51        2   -1.215\n",
              "6392        46       54        2   -1.215\n",
              "6393        49       42        2   -1.215\n",
              "\n",
              "[6394 rows x 4 columns]"
            ]
          },
          "metadata": {
            "tags": []
          },
          "execution_count": 4
        }
      ]
    },
    {
      "cell_type": "markdown",
      "metadata": {
        "id": "MUjcLMMk1D_2"
      },
      "source": [
        "Standardize the features in your dataset using scikit-learn's StandardScaler, which will set the mean of each feature to 0 and the variance to 1."
      ]
    },
    {
      "cell_type": "code",
      "metadata": {
        "id": "6OTdN8oF1D_2",
        "colab": {
          "base_uri": "https://localhost:8080/"
        },
        "outputId": "6d131583-4881-4c7d-9f46-1ac470154e1b"
      },
      "source": [
        "# answer goes here\n",
        "scale = StandardScaler()\n",
        "X_scale = scale.fit_transform(df2)\n",
        "X_scale"
      ],
      "execution_count": 8,
      "outputs": [
        {
          "output_type": "execute_result",
          "data": {
            "text/plain": [
              "array([[-0.07306245, -0.53090616,  0.65383032,  1.62471561],\n",
              "       [-0.35567668, -0.6099205 ,  0.65383032, -0.62962645],\n",
              "       [-0.4969838 , -0.68893483,  0.65383032, -0.16084111],\n",
              "       ...,\n",
              "       [ 0.20955178,  0.02219421, -0.67039872, -1.42116191],\n",
              "       [-0.70894447,  0.25923722, -0.67039872, -1.42116191],\n",
              "       [-0.4969838 , -0.68893483, -0.67039872, -1.42116191]])"
            ]
          },
          "metadata": {
            "tags": []
          },
          "execution_count": 8
        }
      ]
    },
    {
      "cell_type": "markdown",
      "metadata": {
        "id": "ao3Y5FVp1D_4"
      },
      "source": [
        "Run mean shift clustering on the scores in the survey dataset using the default bandwidth. Then answer the following by printing or typing as appropriate:\n",
        "\n",
        "- How many clusters are produced? \n",
        "- What are the cluster centers?\n",
        "- How many responses are assigned to each cluster?\n",
        "- Are these results reasonable? If not, what changes should we make?"
      ]
    },
    {
      "cell_type": "code",
      "metadata": {
        "id": "sUhMxZdL1D_4",
        "colab": {
          "base_uri": "https://localhost:8080/",
          "height": 406
        },
        "outputId": "e4baf840-3996-4ccb-b8fd-c9e5fee8e010"
      },
      "source": [
        "# answer goes here\n",
        "msc = MeanShift()\n",
        "df2['clusters'] = msc.fit_predict(X_scale)\n",
        "df2"
      ],
      "execution_count": 9,
      "outputs": [
        {
          "output_type": "execute_result",
          "data": {
            "text/html": [
              "<div>\n",
              "<style scoped>\n",
              "    .dataframe tbody tr th:only-of-type {\n",
              "        vertical-align: middle;\n",
              "    }\n",
              "\n",
              "    .dataframe tbody tr th {\n",
              "        vertical-align: top;\n",
              "    }\n",
              "\n",
              "    .dataframe thead th {\n",
              "        text-align: right;\n",
              "    }\n",
              "</style>\n",
              "<table border=\"1\" class=\"dataframe\">\n",
              "  <thead>\n",
              "    <tr style=\"text-align: right;\">\n",
              "      <th></th>\n",
              "      <th>FWBscore</th>\n",
              "      <th>FSscore</th>\n",
              "      <th>LMscore</th>\n",
              "      <th>KHscore</th>\n",
              "      <th>clusters</th>\n",
              "    </tr>\n",
              "  </thead>\n",
              "  <tbody>\n",
              "    <tr>\n",
              "      <th>0</th>\n",
              "      <td>55</td>\n",
              "      <td>44</td>\n",
              "      <td>3</td>\n",
              "      <td>1.267</td>\n",
              "      <td>0</td>\n",
              "    </tr>\n",
              "    <tr>\n",
              "      <th>1</th>\n",
              "      <td>51</td>\n",
              "      <td>43</td>\n",
              "      <td>3</td>\n",
              "      <td>-0.570</td>\n",
              "      <td>0</td>\n",
              "    </tr>\n",
              "    <tr>\n",
              "      <th>2</th>\n",
              "      <td>49</td>\n",
              "      <td>42</td>\n",
              "      <td>3</td>\n",
              "      <td>-0.188</td>\n",
              "      <td>0</td>\n",
              "    </tr>\n",
              "    <tr>\n",
              "      <th>3</th>\n",
              "      <td>49</td>\n",
              "      <td>42</td>\n",
              "      <td>2</td>\n",
              "      <td>-1.485</td>\n",
              "      <td>0</td>\n",
              "    </tr>\n",
              "    <tr>\n",
              "      <th>4</th>\n",
              "      <td>49</td>\n",
              "      <td>42</td>\n",
              "      <td>1</td>\n",
              "      <td>-1.900</td>\n",
              "      <td>0</td>\n",
              "    </tr>\n",
              "    <tr>\n",
              "      <th>...</th>\n",
              "      <td>...</td>\n",
              "      <td>...</td>\n",
              "      <td>...</td>\n",
              "      <td>...</td>\n",
              "      <td>...</td>\n",
              "    </tr>\n",
              "    <tr>\n",
              "      <th>6389</th>\n",
              "      <td>61</td>\n",
              "      <td>47</td>\n",
              "      <td>3</td>\n",
              "      <td>1.267</td>\n",
              "      <td>0</td>\n",
              "    </tr>\n",
              "    <tr>\n",
              "      <th>6390</th>\n",
              "      <td>59</td>\n",
              "      <td>59</td>\n",
              "      <td>1</td>\n",
              "      <td>-1.215</td>\n",
              "      <td>0</td>\n",
              "    </tr>\n",
              "    <tr>\n",
              "      <th>6391</th>\n",
              "      <td>59</td>\n",
              "      <td>51</td>\n",
              "      <td>2</td>\n",
              "      <td>-1.215</td>\n",
              "      <td>0</td>\n",
              "    </tr>\n",
              "    <tr>\n",
              "      <th>6392</th>\n",
              "      <td>46</td>\n",
              "      <td>54</td>\n",
              "      <td>2</td>\n",
              "      <td>-1.215</td>\n",
              "      <td>0</td>\n",
              "    </tr>\n",
              "    <tr>\n",
              "      <th>6393</th>\n",
              "      <td>49</td>\n",
              "      <td>42</td>\n",
              "      <td>2</td>\n",
              "      <td>-1.215</td>\n",
              "      <td>0</td>\n",
              "    </tr>\n",
              "  </tbody>\n",
              "</table>\n",
              "<p>6394 rows × 5 columns</p>\n",
              "</div>"
            ],
            "text/plain": [
              "      FWBscore  FSscore  LMscore  KHscore  clusters\n",
              "0           55       44        3    1.267         0\n",
              "1           51       43        3   -0.570         0\n",
              "2           49       42        3   -0.188         0\n",
              "3           49       42        2   -1.485         0\n",
              "4           49       42        1   -1.900         0\n",
              "...        ...      ...      ...      ...       ...\n",
              "6389        61       47        3    1.267         0\n",
              "6390        59       59        1   -1.215         0\n",
              "6391        59       51        2   -1.215         0\n",
              "6392        46       54        2   -1.215         0\n",
              "6393        49       42        2   -1.215         0\n",
              "\n",
              "[6394 rows x 5 columns]"
            ]
          },
          "metadata": {
            "tags": []
          },
          "execution_count": 9
        }
      ]
    },
    {
      "cell_type": "code",
      "metadata": {
        "colab": {
          "base_uri": "https://localhost:8080/"
        },
        "id": "154jGTjQKJzX",
        "outputId": "3097d118-8ac8-41fc-9d97-3179a0811496"
      },
      "source": [
        "df2['clusters'].value_counts()"
      ],
      "execution_count": 10,
      "outputs": [
        {
          "output_type": "execute_result",
          "data": {
            "text/plain": [
              "0    6326\n",
              "1      68\n",
              "Name: clusters, dtype: int64"
            ]
          },
          "metadata": {
            "tags": []
          },
          "execution_count": 10
        }
      ]
    },
    {
      "cell_type": "code",
      "metadata": {
        "id": "oFHKSQyJKJ74"
      },
      "source": [
        ""
      ],
      "execution_count": null,
      "outputs": []
    },
    {
      "cell_type": "markdown",
      "metadata": {
        "id": "y0wBOUWJ1D_6"
      },
      "source": [
        "Try changing the appropriate parameters of the mean shift algorithm to achieve a better clustering result. Answer all of the same questions from the previous clustering step."
      ]
    },
    {
      "cell_type": "code",
      "metadata": {
        "colab": {
          "base_uri": "https://localhost:8080/"
        },
        "id": "vO7rMy-sKIbb",
        "outputId": "e857e71d-5472-4d37-8dd2-2ac6c25e3aff"
      },
      "source": [
        "msc2 = MeanShift(bandwidth=0.1 )\n",
        "df2['clusters2'] = msc2.fit_predict(X_scale)\n",
        "df2['clusters2'].value_counts()\n"
      ],
      "execution_count": 12,
      "outputs": [
        {
          "output_type": "execute_result",
          "data": {
            "text/plain": [
              "8       18\n",
              "3       18\n",
              "16      16\n",
              "2       16\n",
              "6       15\n",
              "        ..\n",
              "2879     1\n",
              "2875     1\n",
              "2871     1\n",
              "2867     1\n",
              "2041     1\n",
              "Name: clusters2, Length: 3378, dtype: int64"
            ]
          },
          "metadata": {
            "tags": []
          },
          "execution_count": 12
        }
      ]
    },
    {
      "cell_type": "code",
      "metadata": {
        "colab": {
          "base_uri": "https://localhost:8080/"
        },
        "id": "e7qrCxTNLZy2",
        "outputId": "92769011-257b-4bc9-da6d-ab9f60a53a47"
      },
      "source": [
        "df2['clusters2'].nunique()"
      ],
      "execution_count": 15,
      "outputs": [
        {
          "output_type": "execute_result",
          "data": {
            "text/plain": [
              "3378"
            ]
          },
          "metadata": {
            "tags": []
          },
          "execution_count": 15
        }
      ]
    },
    {
      "cell_type": "code",
      "metadata": {
        "id": "AdKYEBx61D_6",
        "colab": {
          "base_uri": "https://localhost:8080/"
        },
        "outputId": "e6e22286-0554-41e4-fbe1-9513089cac89"
      },
      "source": [
        "# answer goes here\n",
        "msc3 = MeanShift(bandwidth=0.5)\n",
        "df2['clusters3'] = msc3.fit_predict(X_scale)\n",
        "df2['clusters3'].value_counts()"
      ],
      "execution_count": 13,
      "outputs": [
        {
          "output_type": "execute_result",
          "data": {
            "text/plain": [
              "2      484\n",
              "0      480\n",
              "4      342\n",
              "1      320\n",
              "3      273\n",
              "      ... \n",
              "389      1\n",
              "385      1\n",
              "381      1\n",
              "377      1\n",
              "421      1\n",
              "Name: clusters3, Length: 424, dtype: int64"
            ]
          },
          "metadata": {
            "tags": []
          },
          "execution_count": 13
        }
      ]
    },
    {
      "cell_type": "code",
      "metadata": {
        "colab": {
          "base_uri": "https://localhost:8080/"
        },
        "id": "ynLu-JgiLh1D",
        "outputId": "d503ce6b-7897-4a7f-a3d6-9b4f94ad2761"
      },
      "source": [
        "df2['clusters3'].nunique()"
      ],
      "execution_count": 16,
      "outputs": [
        {
          "output_type": "execute_result",
          "data": {
            "text/plain": [
              "424"
            ]
          },
          "metadata": {
            "tags": []
          },
          "execution_count": 16
        }
      ]
    },
    {
      "cell_type": "code",
      "metadata": {
        "colab": {
          "base_uri": "https://localhost:8080/"
        },
        "id": "Tlv39s8FLQ1k",
        "outputId": "73f76a98-531d-4152-9013-b69adab10cb9"
      },
      "source": [
        "msc4 = MeanShift(bandwidth=1)\n",
        "df2['clusters4'] = msc4.fit_predict(X_scale)\n",
        "df2['clusters4'].value_counts()"
      ],
      "execution_count": 17,
      "outputs": [
        {
          "output_type": "execute_result",
          "data": {
            "text/plain": [
              "0     3215\n",
              "1     1353\n",
              "2      441\n",
              "4      229\n",
              "9      132\n",
              "7      130\n",
              "25     119\n",
              "16     117\n",
              "15     100\n",
              "3       85\n",
              "5       74\n",
              "17      63\n",
              "14      54\n",
              "6       39\n",
              "13      30\n",
              "10      25\n",
              "11      24\n",
              "24      19\n",
              "32      18\n",
              "8       14\n",
              "22      13\n",
              "35      12\n",
              "36      12\n",
              "37      11\n",
              "27      11\n",
              "34      10\n",
              "38       6\n",
              "30       5\n",
              "40       5\n",
              "12       5\n",
              "33       4\n",
              "29       4\n",
              "18       3\n",
              "20       2\n",
              "31       2\n",
              "21       2\n",
              "19       2\n",
              "23       1\n",
              "28       1\n",
              "26       1\n",
              "39       1\n",
              "Name: clusters4, dtype: int64"
            ]
          },
          "metadata": {
            "tags": []
          },
          "execution_count": 17
        }
      ]
    },
    {
      "cell_type": "code",
      "metadata": {
        "colab": {
          "base_uri": "https://localhost:8080/"
        },
        "id": "RKSaZ5T8L2VK",
        "outputId": "d3ae6560-ae59-480c-b77e-e9359d5e7307"
      },
      "source": [
        "df2['clusters4'].nunique()"
      ],
      "execution_count": 19,
      "outputs": [
        {
          "output_type": "execute_result",
          "data": {
            "text/plain": [
              "41"
            ]
          },
          "metadata": {
            "tags": []
          },
          "execution_count": 19
        }
      ]
    },
    {
      "cell_type": "code",
      "metadata": {
        "colab": {
          "base_uri": "https://localhost:8080/"
        },
        "id": "4bk23zY_L2qn",
        "outputId": "d14061d1-6e65-45ff-8318-9e006086fda1"
      },
      "source": [
        "msc5 = MeanShift(bandwidth=1.5)\n",
        "df2['clusters5'] = msc5.fit_predict(X_scale)\n",
        "df2['clusters5'].value_counts()"
      ],
      "execution_count": 20,
      "outputs": [
        {
          "output_type": "execute_result",
          "data": {
            "text/plain": [
              "0    4096\n",
              "1    2156\n",
              "5      50\n",
              "4      24\n",
              "2      23\n",
              "7      22\n",
              "6      12\n",
              "3      11\n",
              "Name: clusters5, dtype: int64"
            ]
          },
          "metadata": {
            "tags": []
          },
          "execution_count": 20
        }
      ]
    },
    {
      "cell_type": "code",
      "metadata": {
        "colab": {
          "base_uri": "https://localhost:8080/"
        },
        "id": "2JfBJxhzMWMP",
        "outputId": "1289d831-86ab-47f8-de5b-319fe81f4e0c"
      },
      "source": [
        "df2['clusters5'].nunique()"
      ],
      "execution_count": 24,
      "outputs": [
        {
          "output_type": "execute_result",
          "data": {
            "text/plain": [
              "8"
            ]
          },
          "metadata": {
            "tags": []
          },
          "execution_count": 24
        }
      ]
    },
    {
      "cell_type": "code",
      "metadata": {
        "colab": {
          "base_uri": "https://localhost:8080/"
        },
        "id": "JJAuESSAMbfv",
        "outputId": "7348de7d-1708-4760-856f-0316391173d3"
      },
      "source": [
        "msc6 = MeanShift(bandwidth=2)\n",
        "df2['clusters6'] = msc6.fit_predict(X_scale)\n",
        "df2['clusters6'].value_counts()"
      ],
      "execution_count": 22,
      "outputs": [
        {
          "output_type": "execute_result",
          "data": {
            "text/plain": [
              "0    6326\n",
              "1      68\n",
              "Name: clusters6, dtype: int64"
            ]
          },
          "metadata": {
            "tags": []
          },
          "execution_count": 22
        }
      ]
    },
    {
      "cell_type": "code",
      "metadata": {
        "colab": {
          "base_uri": "https://localhost:8080/"
        },
        "id": "uRakHVsXMeR_",
        "outputId": "e54b0610-7e46-47fb-ccde-c9f1b33bb5c4"
      },
      "source": [
        "df2['clusters6'].nunique()"
      ],
      "execution_count": 23,
      "outputs": [
        {
          "output_type": "execute_result",
          "data": {
            "text/plain": [
              "2"
            ]
          },
          "metadata": {
            "tags": []
          },
          "execution_count": 23
        }
      ]
    },
    {
      "cell_type": "code",
      "metadata": {
        "colab": {
          "base_uri": "https://localhost:8080/"
        },
        "id": "xAivHNmBMpem",
        "outputId": "cde25d34-48ee-4afe-cb7b-2650b64a0585"
      },
      "source": [
        "msc7 = MeanShift(bandwidth=2.5)\n",
        "df2['clusters7'] = msc7.fit_predict(X_scale)\n",
        "df2['clusters7'].value_counts()"
      ],
      "execution_count": 25,
      "outputs": [
        {
          "output_type": "execute_result",
          "data": {
            "text/plain": [
              "0    6394\n",
              "Name: clusters7, dtype: int64"
            ]
          },
          "metadata": {
            "tags": []
          },
          "execution_count": 25
        }
      ]
    },
    {
      "cell_type": "code",
      "metadata": {
        "colab": {
          "base_uri": "https://localhost:8080/"
        },
        "id": "aPnp2pGvMryt",
        "outputId": "249b96c2-ce13-42b1-9db5-bd9be581a49e"
      },
      "source": [
        "df2['clusters7'].nunique()"
      ],
      "execution_count": 26,
      "outputs": [
        {
          "output_type": "execute_result",
          "data": {
            "text/plain": [
              "1"
            ]
          },
          "metadata": {
            "tags": []
          },
          "execution_count": 26
        }
      ]
    },
    {
      "cell_type": "markdown",
      "metadata": {
        "id": "CyUQerJbK3tF"
      },
      "source": [
        "There is probably an ideal value for bandwidth somewhere between 1.5 and 2.0. With 1.5 bandwidth there were slightly too many clusters and with 2.0 there were too many. Essentially bandwidth is doing exactly what you would expect it to do: to \"dial in\" a value that aligns with the perfect amount of clusters. Almost like tuning an old radio.\n",
        "\n",
        "One potential problem of this model is that there are highly imbalanced clusters where most of the data are split into two big clusters. "
      ]
    },
    {
      "cell_type": "code",
      "metadata": {
        "id": "0XbB1FGUM2G8"
      },
      "source": [
        ""
      ],
      "execution_count": null,
      "outputs": []
    }
  ]
}