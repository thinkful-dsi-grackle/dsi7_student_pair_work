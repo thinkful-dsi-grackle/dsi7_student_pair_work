{
  "nbformat": 4,
  "nbformat_minor": 0,
  "metadata": {
    "colab": {
      "name": "cate_49_1.ipynb",
      "provenance": [],
      "collapsed_sections": []
    },
    "kernelspec": {
      "display_name": "Python 3",
      "language": "python",
      "name": "python3"
    },
    "language_info": {
      "codemirror_mode": {
        "name": "ipython",
        "version": 3
      },
      "file_extension": ".py",
      "mimetype": "text/x-python",
      "name": "python",
      "nbconvert_exporter": "python",
      "pygments_lexer": "ipython3",
      "version": "3.7.0"
    }
  },
  "cells": [
    {
      "cell_type": "markdown",
      "metadata": {
        "id": "xdL0Yz0D1D_q"
      },
      "source": [
        "## Day 49 Lecture 1 Assignment\n",
        "\n",
        "In this assignment, we will apply GMM (Gaussian Mixture Modeling) clustering to a dataset containing player-season statistics for NBA players from the past four years."
      ]
    },
    {
      "cell_type": "code",
      "metadata": {
        "id": "OulyiH_C1D_r"
      },
      "source": [
        "%matplotlib inline\n",
        "\n",
        "import matplotlib.pyplot as plt\n",
        "import numpy as np\n",
        "import pandas as pd\n",
        "from sklearn.mixture import GaussianMixture\n",
        "from sklearn.cluster import KMeans\n",
        "from sklearn.preprocessing import StandardScaler\n",
        "from scipy.special import entr"
      ],
      "execution_count": 10,
      "outputs": []
    },
    {
      "cell_type": "markdown",
      "metadata": {
        "id": "ezMvoRlB1D_t"
      },
      "source": [
        "This dataset contains player-season statistics for NBA players from the past four years. Each row in this dataset represents a player's per-game averages for a single season. \n",
        "\n",
        "This dataset contains the following variables:\n",
        "\n",
        "- Seas: season ('2019' = 2018-2019 season, '2018' = 2017-2018 season, etc.)\n",
        "- Player: player name\n",
        "- Pos: position\n",
        "- Age: age\n",
        "- Tm: team\n",
        "- G: games played\n",
        "- GS: games started\n",
        "- MP: minutes played\n",
        "- FG: field goals\n",
        "- FGA: field goals attempted\n",
        "- FG%: field goal percentage\n",
        "- 3P: 3 pointers\n",
        "- 3PA: 3 pointers attempted\n",
        "- 3P%: 3 point percentage\n",
        "- 2P: 2 pointers\n",
        "- 2PA: 2 pointers attempted\n",
        "- 2P%: 2 point percentage\n",
        "- eFG%: effective field goal percentage\n",
        "- FT: free throws\n",
        "- FTA: free throws attempted\n",
        "- FT%: free throw percentage\n",
        "- ORB: offensive rebound\n",
        "- DRB: defensive rebound\n",
        "- TRB: total rebounds\n",
        "- AST: assists\n",
        "- STL: steals\n",
        "- BLK: blocks\n",
        "- TOV: turnovers\n",
        "- PF: personal fouls\n",
        "- PTS: points\n",
        "\n",
        "Load the dataset."
      ]
    },
    {
      "cell_type": "code",
      "metadata": {
        "id": "wP1U4eQ91D_u"
      },
      "source": [
        "# answer goes here\n",
        "data = pd.read_csv('https://tf-assets-prod.s3.amazonaws.com/tf-curric/data-science/Data%20Sets%20Clustering/nba_player_seasons.csv')"
      ],
      "execution_count": 2,
      "outputs": []
    },
    {
      "cell_type": "markdown",
      "metadata": {
        "id": "o_K1eQ0x1D_y"
      },
      "source": [
        "The goal is to cluster these player-seasons to identify potential player \"archetypes\".  \n",
        "The pre-processing steps will be identical to what we previously did for K-means.\n",
        "\n",
        "Begin by removing players whose season did not meet one of the following criteria:\n",
        "1. Started at least 20 games\n",
        "2. Averaged at least 10 minutes per game"
      ]
    },
    {
      "cell_type": "code",
      "metadata": {
        "id": "xfYVreyw1D_y"
      },
      "source": [
        "# answer goes here\n",
        "data = data[data['GS'] >= 20]\n",
        "data = data[data['MP'] >= 10]"
      ],
      "execution_count": 3,
      "outputs": []
    },
    {
      "cell_type": "markdown",
      "metadata": {
        "id": "86lfEP_91D_0"
      },
      "source": [
        "Choose a subset of numeric columns that is interesting to you from an \"archetypal\" standpoint. \n",
        "\n",
        "We will choose the following basic statistics: **points, total rebounds, assists, steals, blocks**, and **turnovers**, but you should feel free to choose other reasonable feature sets if you like. Be careful not to include too many dimensions (curse of dimensionality)."
      ]
    },
    {
      "cell_type": "code",
      "metadata": {
        "id": "o3PUI4l61D_0"
      },
      "source": [
        "# answer goes here\n",
        "data = data[['PTS','TRB', 'AST', 'STL', 'BLK', 'TOV']].reset_index(drop=True)"
      ],
      "execution_count": 4,
      "outputs": []
    },
    {
      "cell_type": "markdown",
      "metadata": {
        "id": "MUjcLMMk1D_2"
      },
      "source": [
        "Standardize the features in your dataset using scikit-learn's StandardScaler, which will set the mean of each feature to 0 and the variance to 1."
      ]
    },
    {
      "cell_type": "code",
      "metadata": {
        "id": "6OTdN8oF1D_2"
      },
      "source": [
        "# answer goes here\n",
        "sc = StandardScaler()\n",
        "data_sc = sc.fit_transform(data)\n",
        "data_sc = pd.DataFrame(data_sc, columns=data.columns)"
      ],
      "execution_count": 5,
      "outputs": []
    },
    {
      "cell_type": "markdown",
      "metadata": {
        "id": "ao3Y5FVp1D_4"
      },
      "source": [
        "Run both K-Means and Gaussian mixtures modeling twice, once with 3 cluster and once with 7 clusters. Print out the resulting means for all 4 scenarios (KM+3, GMM+3, KM+7, GMM+7). When printing the means, transform the scaled versions back into their corresponding unscaled values. \n",
        "\n",
        "What \"archetypes\" do you see? Are the archetypes identified by GMM similar to those identified by K-Means? How do the means of GMM differ from those of K-Means?"
      ]
    },
    {
      "cell_type": "code",
      "metadata": {
        "colab": {
          "base_uri": "https://localhost:8080/",
          "height": 103
        },
        "id": "L-d1Ifojjz40",
        "outputId": "0ed9bfc5-0943-45b1-ccfe-de92f81b102a"
      },
      "source": [
        "# instantiate and fit K-Means model\n",
        "kmeans = KMeans(n_clusters=3)\n",
        "# save predictions to new column\n",
        "kmeans.fit_predict(data_sc)\n",
        "\n",
        "# unscale and print cluster centers\n",
        "clusters = sc.inverse_transform(kmeans.cluster_centers_)\n",
        "clusters = pd.DataFrame(clusters, columns=data_sc.columns)\n",
        "clusters.style.background_gradient()"
      ],
      "execution_count": 6,
      "outputs": [
        {
          "output_type": "execute_result",
          "data": {
            "text/html": [
              "<style  type=\"text/css\" >\n",
              "#T_a06b552a_2aad_11eb_beb5_0242ac1c0002row0_col0,#T_a06b552a_2aad_11eb_beb5_0242ac1c0002row0_col1,#T_a06b552a_2aad_11eb_beb5_0242ac1c0002row0_col4,#T_a06b552a_2aad_11eb_beb5_0242ac1c0002row0_col5,#T_a06b552a_2aad_11eb_beb5_0242ac1c0002row1_col2,#T_a06b552a_2aad_11eb_beb5_0242ac1c0002row1_col3{\n",
              "            background-color:  #fff7fb;\n",
              "            color:  #000000;\n",
              "        }#T_a06b552a_2aad_11eb_beb5_0242ac1c0002row0_col2{\n",
              "            background-color:  #faf2f8;\n",
              "            color:  #000000;\n",
              "        }#T_a06b552a_2aad_11eb_beb5_0242ac1c0002row0_col3{\n",
              "            background-color:  #f8f1f8;\n",
              "            color:  #000000;\n",
              "        }#T_a06b552a_2aad_11eb_beb5_0242ac1c0002row1_col0{\n",
              "            background-color:  #abbfdc;\n",
              "            color:  #000000;\n",
              "        }#T_a06b552a_2aad_11eb_beb5_0242ac1c0002row1_col1,#T_a06b552a_2aad_11eb_beb5_0242ac1c0002row1_col4,#T_a06b552a_2aad_11eb_beb5_0242ac1c0002row2_col0,#T_a06b552a_2aad_11eb_beb5_0242ac1c0002row2_col2,#T_a06b552a_2aad_11eb_beb5_0242ac1c0002row2_col3,#T_a06b552a_2aad_11eb_beb5_0242ac1c0002row2_col5{\n",
              "            background-color:  #023858;\n",
              "            color:  #f1f1f1;\n",
              "        }#T_a06b552a_2aad_11eb_beb5_0242ac1c0002row1_col5{\n",
              "            background-color:  #c8cde4;\n",
              "            color:  #000000;\n",
              "        }#T_a06b552a_2aad_11eb_beb5_0242ac1c0002row2_col1{\n",
              "            background-color:  #c4cbe3;\n",
              "            color:  #000000;\n",
              "        }#T_a06b552a_2aad_11eb_beb5_0242ac1c0002row2_col4{\n",
              "            background-color:  #ebe6f2;\n",
              "            color:  #000000;\n",
              "        }</style><table id=\"T_a06b552a_2aad_11eb_beb5_0242ac1c0002\" ><thead>    <tr>        <th class=\"blank level0\" ></th>        <th class=\"col_heading level0 col0\" >PTS</th>        <th class=\"col_heading level0 col1\" >TRB</th>        <th class=\"col_heading level0 col2\" >AST</th>        <th class=\"col_heading level0 col3\" >STL</th>        <th class=\"col_heading level0 col4\" >BLK</th>        <th class=\"col_heading level0 col5\" >TOV</th>    </tr></thead><tbody>\n",
              "                <tr>\n",
              "                        <th id=\"T_a06b552a_2aad_11eb_beb5_0242ac1c0002level0_row0\" class=\"row_heading level0 row0\" >0</th>\n",
              "                        <td id=\"T_a06b552a_2aad_11eb_beb5_0242ac1c0002row0_col0\" class=\"data row0 col0\" >10.505405</td>\n",
              "                        <td id=\"T_a06b552a_2aad_11eb_beb5_0242ac1c0002row0_col1\" class=\"data row0 col1\" >3.949775</td>\n",
              "                        <td id=\"T_a06b552a_2aad_11eb_beb5_0242ac1c0002row0_col2\" class=\"data row0 col2\" >2.063739</td>\n",
              "                        <td id=\"T_a06b552a_2aad_11eb_beb5_0242ac1c0002row0_col3\" class=\"data row0 col3\" >0.804730</td>\n",
              "                        <td id=\"T_a06b552a_2aad_11eb_beb5_0242ac1c0002row0_col4\" class=\"data row0 col4\" >0.374324</td>\n",
              "                        <td id=\"T_a06b552a_2aad_11eb_beb5_0242ac1c0002row0_col5\" class=\"data row0 col5\" >1.235135</td>\n",
              "            </tr>\n",
              "            <tr>\n",
              "                        <th id=\"T_a06b552a_2aad_11eb_beb5_0242ac1c0002level0_row1\" class=\"row_heading level0 row1\" >1</th>\n",
              "                        <td id=\"T_a06b552a_2aad_11eb_beb5_0242ac1c0002row1_col0\" class=\"data row1 col0\" >13.735359</td>\n",
              "                        <td id=\"T_a06b552a_2aad_11eb_beb5_0242ac1c0002row1_col1\" class=\"data row1 col1\" >8.605525</td>\n",
              "                        <td id=\"T_a06b552a_2aad_11eb_beb5_0242ac1c0002row1_col2\" class=\"data row1 col2\" >1.914917</td>\n",
              "                        <td id=\"T_a06b552a_2aad_11eb_beb5_0242ac1c0002row1_col3\" class=\"data row1 col3\" >0.777348</td>\n",
              "                        <td id=\"T_a06b552a_2aad_11eb_beb5_0242ac1c0002row1_col4\" class=\"data row1 col4\" >1.230387</td>\n",
              "                        <td id=\"T_a06b552a_2aad_11eb_beb5_0242ac1c0002row1_col5\" class=\"data row1 col5\" >1.668508</td>\n",
              "            </tr>\n",
              "            <tr>\n",
              "                        <th id=\"T_a06b552a_2aad_11eb_beb5_0242ac1c0002level0_row2\" class=\"row_heading level0 row2\" >2</th>\n",
              "                        <td id=\"T_a06b552a_2aad_11eb_beb5_0242ac1c0002row2_col0\" class=\"data row2 col0\" >19.491620</td>\n",
              "                        <td id=\"T_a06b552a_2aad_11eb_beb5_0242ac1c0002row2_col1\" class=\"data row2 col1\" >5.293855</td>\n",
              "                        <td id=\"T_a06b552a_2aad_11eb_beb5_0242ac1c0002row2_col2\" class=\"data row2 col2\" >5.934078</td>\n",
              "                        <td id=\"T_a06b552a_2aad_11eb_beb5_0242ac1c0002row2_col3\" class=\"data row2 col3\" >1.354190</td>\n",
              "                        <td id=\"T_a06b552a_2aad_11eb_beb5_0242ac1c0002row2_col4\" class=\"data row2 col4\" >0.486034</td>\n",
              "                        <td id=\"T_a06b552a_2aad_11eb_beb5_0242ac1c0002row2_col5\" class=\"data row2 col5\" >2.797765</td>\n",
              "            </tr>\n",
              "    </tbody></table>"
            ],
            "text/plain": [
              "<pandas.io.formats.style.Styler at 0x7fb926aec9b0>"
            ]
          },
          "metadata": {
            "tags": []
          },
          "execution_count": 6
        }
      ]
    },
    {
      "cell_type": "code",
      "metadata": {
        "colab": {
          "base_uri": "https://localhost:8080/",
          "height": 103
        },
        "id": "IhiYOo6wj6Dl",
        "outputId": "2771092a-e937-43fe-f108-19746e13cb83"
      },
      "source": [
        "# repeat for Gaussian model\n",
        "gmm3 = GaussianMixture(n_components=3, covariance_type='full')\n",
        "gmm3.fit_predict(data_sc)\n",
        "clusters = sc.inverse_transform(gmm3.means_)\n",
        "clusters = pd.DataFrame(clusters, columns=data_sc.columns)\n",
        "clusters.style.background_gradient()"
      ],
      "execution_count": 7,
      "outputs": [
        {
          "output_type": "execute_result",
          "data": {
            "text/html": [
              "<style  type=\"text/css\" >\n",
              "#T_a07424d4_2aad_11eb_beb5_0242ac1c0002row0_col0{\n",
              "            background-color:  #0771b1;\n",
              "            color:  #f1f1f1;\n",
              "        }#T_a07424d4_2aad_11eb_beb5_0242ac1c0002row0_col1,#T_a07424d4_2aad_11eb_beb5_0242ac1c0002row0_col4,#T_a07424d4_2aad_11eb_beb5_0242ac1c0002row2_col0,#T_a07424d4_2aad_11eb_beb5_0242ac1c0002row2_col2,#T_a07424d4_2aad_11eb_beb5_0242ac1c0002row2_col3,#T_a07424d4_2aad_11eb_beb5_0242ac1c0002row2_col5{\n",
              "            background-color:  #023858;\n",
              "            color:  #f1f1f1;\n",
              "        }#T_a07424d4_2aad_11eb_beb5_0242ac1c0002row0_col2{\n",
              "            background-color:  #d9d8ea;\n",
              "            color:  #000000;\n",
              "        }#T_a07424d4_2aad_11eb_beb5_0242ac1c0002row0_col3,#T_a07424d4_2aad_11eb_beb5_0242ac1c0002row1_col0,#T_a07424d4_2aad_11eb_beb5_0242ac1c0002row1_col2,#T_a07424d4_2aad_11eb_beb5_0242ac1c0002row1_col5,#T_a07424d4_2aad_11eb_beb5_0242ac1c0002row2_col1,#T_a07424d4_2aad_11eb_beb5_0242ac1c0002row2_col4{\n",
              "            background-color:  #fff7fb;\n",
              "            color:  #000000;\n",
              "        }#T_a07424d4_2aad_11eb_beb5_0242ac1c0002row0_col5{\n",
              "            background-color:  #328dbf;\n",
              "            color:  #000000;\n",
              "        }#T_a07424d4_2aad_11eb_beb5_0242ac1c0002row1_col1,#T_a07424d4_2aad_11eb_beb5_0242ac1c0002row1_col4{\n",
              "            background-color:  #f5eef6;\n",
              "            color:  #000000;\n",
              "        }#T_a07424d4_2aad_11eb_beb5_0242ac1c0002row1_col3{\n",
              "            background-color:  #fdf5fa;\n",
              "            color:  #000000;\n",
              "        }</style><table id=\"T_a07424d4_2aad_11eb_beb5_0242ac1c0002\" ><thead>    <tr>        <th class=\"blank level0\" ></th>        <th class=\"col_heading level0 col0\" >PTS</th>        <th class=\"col_heading level0 col1\" >TRB</th>        <th class=\"col_heading level0 col2\" >AST</th>        <th class=\"col_heading level0 col3\" >STL</th>        <th class=\"col_heading level0 col4\" >BLK</th>        <th class=\"col_heading level0 col5\" >TOV</th>    </tr></thead><tbody>\n",
              "                <tr>\n",
              "                        <th id=\"T_a07424d4_2aad_11eb_beb5_0242ac1c0002level0_row0\" class=\"row_heading level0 row0\" >0</th>\n",
              "                        <td id=\"T_a07424d4_2aad_11eb_beb5_0242ac1c0002row0_col0\" class=\"data row0 col0\" >14.449177</td>\n",
              "                        <td id=\"T_a07424d4_2aad_11eb_beb5_0242ac1c0002row0_col1\" class=\"data row0 col1\" >8.481379</td>\n",
              "                        <td id=\"T_a07424d4_2aad_11eb_beb5_0242ac1c0002row0_col2\" class=\"data row0 col2\" >2.259574</td>\n",
              "                        <td id=\"T_a07424d4_2aad_11eb_beb5_0242ac1c0002row0_col3\" class=\"data row0 col3\" >0.775804</td>\n",
              "                        <td id=\"T_a07424d4_2aad_11eb_beb5_0242ac1c0002row0_col4\" class=\"data row0 col4\" >1.221910</td>\n",
              "                        <td id=\"T_a07424d4_2aad_11eb_beb5_0242ac1c0002row0_col5\" class=\"data row0 col5\" >1.830776</td>\n",
              "            </tr>\n",
              "            <tr>\n",
              "                        <th id=\"T_a07424d4_2aad_11eb_beb5_0242ac1c0002level0_row1\" class=\"row_heading level0 row1\" >1</th>\n",
              "                        <td id=\"T_a07424d4_2aad_11eb_beb5_0242ac1c0002row1_col0\" class=\"data row1 col0\" >10.239585</td>\n",
              "                        <td id=\"T_a07424d4_2aad_11eb_beb5_0242ac1c0002row1_col1\" class=\"data row1 col1\" >4.476528</td>\n",
              "                        <td id=\"T_a07424d4_2aad_11eb_beb5_0242ac1c0002row1_col2\" class=\"data row1 col2\" >1.582674</td>\n",
              "                        <td id=\"T_a07424d4_2aad_11eb_beb5_0242ac1c0002row1_col3\" class=\"data row1 col3\" >0.780572</td>\n",
              "                        <td id=\"T_a07424d4_2aad_11eb_beb5_0242ac1c0002row1_col4\" class=\"data row1 col4\" >0.428468</td>\n",
              "                        <td id=\"T_a07424d4_2aad_11eb_beb5_0242ac1c0002row1_col5\" class=\"data row1 col5\" >1.105656</td>\n",
              "            </tr>\n",
              "            <tr>\n",
              "                        <th id=\"T_a07424d4_2aad_11eb_beb5_0242ac1c0002level0_row2\" class=\"row_heading level0 row2\" >2</th>\n",
              "                        <td id=\"T_a07424d4_2aad_11eb_beb5_0242ac1c0002row2_col0\" class=\"data row2 col0\" >15.898592</td>\n",
              "                        <td id=\"T_a07424d4_2aad_11eb_beb5_0242ac1c0002row2_col1\" class=\"data row2 col1\" >4.178026</td>\n",
              "                        <td id=\"T_a07424d4_2aad_11eb_beb5_0242ac1c0002row2_col2\" class=\"data row2 col2\" >4.812924</td>\n",
              "                        <td id=\"T_a07424d4_2aad_11eb_beb5_0242ac1c0002row2_col3\" class=\"data row2 col3\" >1.176953</td>\n",
              "                        <td id=\"T_a07424d4_2aad_11eb_beb5_0242ac1c0002row2_col4\" class=\"data row2 col4\" >0.371760</td>\n",
              "                        <td id=\"T_a07424d4_2aad_11eb_beb5_0242ac1c0002row2_col5\" class=\"data row2 col5\" >2.246579</td>\n",
              "            </tr>\n",
              "    </tbody></table>"
            ],
            "text/plain": [
              "<pandas.io.formats.style.Styler at 0x7fb933320940>"
            ]
          },
          "metadata": {
            "tags": []
          },
          "execution_count": 7
        }
      ]
    },
    {
      "cell_type": "code",
      "metadata": {
        "id": "n-1RDC5d8b3O",
        "colab": {
          "base_uri": "https://localhost:8080/",
          "height": 187
        },
        "outputId": "277e8b0d-8e9e-4db3-c5e3-4cc451d9caa7"
      },
      "source": [
        "# instantiate and fit K-Means model for 7 clusters\n",
        "kmeans = KMeans(n_clusters=7)\n",
        "# save predictions to new column\n",
        "kmeans.fit_predict(data_sc)\n",
        "\n",
        "# unscale and print cluster centers\n",
        "clusters = sc.inverse_transform(kmeans.cluster_centers_)\n",
        "clusters = pd.DataFrame(clusters, columns=data_sc.columns)\n",
        "clusters.style.background_gradient()"
      ],
      "execution_count": 8,
      "outputs": [
        {
          "output_type": "execute_result",
          "data": {
            "text/html": [
              "<style  type=\"text/css\" >\n",
              "#T_a0860af0_2aad_11eb_beb5_0242ac1c0002row0_col0{\n",
              "            background-color:  #d4d4e8;\n",
              "            color:  #000000;\n",
              "        }#T_a0860af0_2aad_11eb_beb5_0242ac1c0002row0_col1{\n",
              "            background-color:  #60a1ca;\n",
              "            color:  #000000;\n",
              "        }#T_a0860af0_2aad_11eb_beb5_0242ac1c0002row0_col2{\n",
              "            background-color:  #f8f1f8;\n",
              "            color:  #000000;\n",
              "        }#T_a0860af0_2aad_11eb_beb5_0242ac1c0002row0_col3{\n",
              "            background-color:  #f6eff7;\n",
              "            color:  #000000;\n",
              "        }#T_a0860af0_2aad_11eb_beb5_0242ac1c0002row0_col4{\n",
              "            background-color:  #88b1d4;\n",
              "            color:  #000000;\n",
              "        }#T_a0860af0_2aad_11eb_beb5_0242ac1c0002row0_col5{\n",
              "            background-color:  #e3e0ee;\n",
              "            color:  #000000;\n",
              "        }#T_a0860af0_2aad_11eb_beb5_0242ac1c0002row1_col0,#T_a0860af0_2aad_11eb_beb5_0242ac1c0002row1_col2,#T_a0860af0_2aad_11eb_beb5_0242ac1c0002row1_col3,#T_a0860af0_2aad_11eb_beb5_0242ac1c0002row1_col5,#T_a0860af0_2aad_11eb_beb5_0242ac1c0002row5_col1,#T_a0860af0_2aad_11eb_beb5_0242ac1c0002row5_col4{\n",
              "            background-color:  #023858;\n",
              "            color:  #f1f1f1;\n",
              "        }#T_a0860af0_2aad_11eb_beb5_0242ac1c0002row1_col1{\n",
              "            background-color:  #187cb6;\n",
              "            color:  #000000;\n",
              "        }#T_a0860af0_2aad_11eb_beb5_0242ac1c0002row1_col4{\n",
              "            background-color:  #a9bfdc;\n",
              "            color:  #000000;\n",
              "        }#T_a0860af0_2aad_11eb_beb5_0242ac1c0002row2_col0{\n",
              "            background-color:  #9ebad9;\n",
              "            color:  #000000;\n",
              "        }#T_a0860af0_2aad_11eb_beb5_0242ac1c0002row2_col1{\n",
              "            background-color:  #faf3f9;\n",
              "            color:  #000000;\n",
              "        }#T_a0860af0_2aad_11eb_beb5_0242ac1c0002row2_col2{\n",
              "            background-color:  #c8cde4;\n",
              "            color:  #000000;\n",
              "        }#T_a0860af0_2aad_11eb_beb5_0242ac1c0002row2_col3{\n",
              "            background-color:  #d2d2e7;\n",
              "            color:  #000000;\n",
              "        }#T_a0860af0_2aad_11eb_beb5_0242ac1c0002row2_col4,#T_a0860af0_2aad_11eb_beb5_0242ac1c0002row4_col0,#T_a0860af0_2aad_11eb_beb5_0242ac1c0002row4_col1,#T_a0860af0_2aad_11eb_beb5_0242ac1c0002row4_col2,#T_a0860af0_2aad_11eb_beb5_0242ac1c0002row4_col3,#T_a0860af0_2aad_11eb_beb5_0242ac1c0002row4_col5{\n",
              "            background-color:  #fff7fb;\n",
              "            color:  #000000;\n",
              "        }#T_a0860af0_2aad_11eb_beb5_0242ac1c0002row2_col5{\n",
              "            background-color:  #c9cee4;\n",
              "            color:  #000000;\n",
              "        }#T_a0860af0_2aad_11eb_beb5_0242ac1c0002row3_col0{\n",
              "            background-color:  #d7d6e9;\n",
              "            color:  #000000;\n",
              "        }#T_a0860af0_2aad_11eb_beb5_0242ac1c0002row3_col1{\n",
              "            background-color:  #dbdaeb;\n",
              "            color:  #000000;\n",
              "        }#T_a0860af0_2aad_11eb_beb5_0242ac1c0002row3_col2{\n",
              "            background-color:  #ede8f3;\n",
              "            color:  #000000;\n",
              "        }#T_a0860af0_2aad_11eb_beb5_0242ac1c0002row3_col3{\n",
              "            background-color:  #056fae;\n",
              "            color:  #f1f1f1;\n",
              "        }#T_a0860af0_2aad_11eb_beb5_0242ac1c0002row3_col4,#T_a0860af0_2aad_11eb_beb5_0242ac1c0002row5_col2{\n",
              "            background-color:  #e7e3f0;\n",
              "            color:  #000000;\n",
              "        }#T_a0860af0_2aad_11eb_beb5_0242ac1c0002row3_col5{\n",
              "            background-color:  #eae6f1;\n",
              "            color:  #000000;\n",
              "        }#T_a0860af0_2aad_11eb_beb5_0242ac1c0002row4_col4{\n",
              "            background-color:  #f7f0f7;\n",
              "            color:  #000000;\n",
              "        }#T_a0860af0_2aad_11eb_beb5_0242ac1c0002row5_col0{\n",
              "            background-color:  #4295c3;\n",
              "            color:  #000000;\n",
              "        }#T_a0860af0_2aad_11eb_beb5_0242ac1c0002row5_col3{\n",
              "            background-color:  #b7c5df;\n",
              "            color:  #000000;\n",
              "        }#T_a0860af0_2aad_11eb_beb5_0242ac1c0002row5_col5{\n",
              "            background-color:  #97b7d7;\n",
              "            color:  #000000;\n",
              "        }#T_a0860af0_2aad_11eb_beb5_0242ac1c0002row6_col0{\n",
              "            background-color:  #2f8bbe;\n",
              "            color:  #000000;\n",
              "        }#T_a0860af0_2aad_11eb_beb5_0242ac1c0002row6_col1{\n",
              "            background-color:  #e0deed;\n",
              "            color:  #000000;\n",
              "        }#T_a0860af0_2aad_11eb_beb5_0242ac1c0002row6_col2{\n",
              "            background-color:  #1e80b8;\n",
              "            color:  #000000;\n",
              "        }#T_a0860af0_2aad_11eb_beb5_0242ac1c0002row6_col3{\n",
              "            background-color:  #0a73b2;\n",
              "            color:  #f1f1f1;\n",
              "        }#T_a0860af0_2aad_11eb_beb5_0242ac1c0002row6_col4{\n",
              "            background-color:  #f2ecf5;\n",
              "            color:  #000000;\n",
              "        }#T_a0860af0_2aad_11eb_beb5_0242ac1c0002row6_col5{\n",
              "            background-color:  #529bc7;\n",
              "            color:  #000000;\n",
              "        }</style><table id=\"T_a0860af0_2aad_11eb_beb5_0242ac1c0002\" ><thead>    <tr>        <th class=\"blank level0\" ></th>        <th class=\"col_heading level0 col0\" >PTS</th>        <th class=\"col_heading level0 col1\" >TRB</th>        <th class=\"col_heading level0 col2\" >AST</th>        <th class=\"col_heading level0 col3\" >STL</th>        <th class=\"col_heading level0 col4\" >BLK</th>        <th class=\"col_heading level0 col5\" >TOV</th>    </tr></thead><tbody>\n",
              "                <tr>\n",
              "                        <th id=\"T_a0860af0_2aad_11eb_beb5_0242ac1c0002level0_row0\" class=\"row_heading level0 row0\" >0</th>\n",
              "                        <td id=\"T_a0860af0_2aad_11eb_beb5_0242ac1c0002row0_col0\" class=\"data row0 col0\" >11.492000</td>\n",
              "                        <td id=\"T_a0860af0_2aad_11eb_beb5_0242ac1c0002row0_col1\" class=\"data row0 col1\" >7.265333</td>\n",
              "                        <td id=\"T_a0860af0_2aad_11eb_beb5_0242ac1c0002row0_col2\" class=\"data row0 col2\" >1.666667</td>\n",
              "                        <td id=\"T_a0860af0_2aad_11eb_beb5_0242ac1c0002row0_col3\" class=\"data row0 col3\" >0.654667</td>\n",
              "                        <td id=\"T_a0860af0_2aad_11eb_beb5_0242ac1c0002row0_col4\" class=\"data row0 col4\" >0.937333</td>\n",
              "                        <td id=\"T_a0860af0_2aad_11eb_beb5_0242ac1c0002row0_col5\" class=\"data row0 col5\" >1.388000</td>\n",
              "            </tr>\n",
              "            <tr>\n",
              "                        <th id=\"T_a0860af0_2aad_11eb_beb5_0242ac1c0002level0_row1\" class=\"row_heading level0 row1\" >1</th>\n",
              "                        <td id=\"T_a0860af0_2aad_11eb_beb5_0242ac1c0002row1_col0\" class=\"data row1 col0\" >24.603226</td>\n",
              "                        <td id=\"T_a0860af0_2aad_11eb_beb5_0242ac1c0002row1_col1\" class=\"data row1 col1\" >8.374194</td>\n",
              "                        <td id=\"T_a0860af0_2aad_11eb_beb5_0242ac1c0002row1_col2\" class=\"data row1 col2\" >7.803226</td>\n",
              "                        <td id=\"T_a0860af0_2aad_11eb_beb5_0242ac1c0002row1_col3\" class=\"data row1 col3\" >1.603226</td>\n",
              "                        <td id=\"T_a0860af0_2aad_11eb_beb5_0242ac1c0002row1_col4\" class=\"data row1 col4\" >0.809677</td>\n",
              "                        <td id=\"T_a0860af0_2aad_11eb_beb5_0242ac1c0002row1_col5\" class=\"data row1 col5\" >3.941935</td>\n",
              "            </tr>\n",
              "            <tr>\n",
              "                        <th id=\"T_a0860af0_2aad_11eb_beb5_0242ac1c0002level0_row2\" class=\"row_heading level0 row2\" >2</th>\n",
              "                        <td id=\"T_a0860af0_2aad_11eb_beb5_0242ac1c0002row2_col0\" class=\"data row2 col0\" >14.282143</td>\n",
              "                        <td id=\"T_a0860af0_2aad_11eb_beb5_0242ac1c0002row2_col1\" class=\"data row2 col1\" >3.709524</td>\n",
              "                        <td id=\"T_a0860af0_2aad_11eb_beb5_0242ac1c0002row2_col2\" class=\"data row2 col2\" >3.152976</td>\n",
              "                        <td id=\"T_a0860af0_2aad_11eb_beb5_0242ac1c0002row2_col3\" class=\"data row2 col3\" >0.838095</td>\n",
              "                        <td id=\"T_a0860af0_2aad_11eb_beb5_0242ac1c0002row2_col4\" class=\"data row2 col4\" >0.276786</td>\n",
              "                        <td id=\"T_a0860af0_2aad_11eb_beb5_0242ac1c0002row2_col5\" class=\"data row2 col5\" >1.710119</td>\n",
              "            </tr>\n",
              "            <tr>\n",
              "                        <th id=\"T_a0860af0_2aad_11eb_beb5_0242ac1c0002level0_row3\" class=\"row_heading level0 row3\" >3</th>\n",
              "                        <td id=\"T_a0860af0_2aad_11eb_beb5_0242ac1c0002row3_col0\" class=\"data row3 col0\" >11.285714</td>\n",
              "                        <td id=\"T_a0860af0_2aad_11eb_beb5_0242ac1c0002row3_col1\" class=\"data row3 col1\" >4.885714</td>\n",
              "                        <td id=\"T_a0860af0_2aad_11eb_beb5_0242ac1c0002row3_col2\" class=\"data row3 col2\" >2.130769</td>\n",
              "                        <td id=\"T_a0860af0_2aad_11eb_beb5_0242ac1c0002row3_col3\" class=\"data row3 col3\" >1.354945</td>\n",
              "                        <td id=\"T_a0860af0_2aad_11eb_beb5_0242ac1c0002row3_col4\" class=\"data row3 col4\" >0.498901</td>\n",
              "                        <td id=\"T_a0860af0_2aad_11eb_beb5_0242ac1c0002row3_col5\" class=\"data row3 col5\" >1.300000</td>\n",
              "            </tr>\n",
              "            <tr>\n",
              "                        <th id=\"T_a0860af0_2aad_11eb_beb5_0242ac1c0002level0_row4\" class=\"row_heading level0 row4\" >4</th>\n",
              "                        <td id=\"T_a0860af0_2aad_11eb_beb5_0242ac1c0002row4_col0\" class=\"data row4 col0\" >7.517318</td>\n",
              "                        <td id=\"T_a0860af0_2aad_11eb_beb5_0242ac1c0002row4_col1\" class=\"data row4 col1\" >3.484916</td>\n",
              "                        <td id=\"T_a0860af0_2aad_11eb_beb5_0242ac1c0002row4_col2\" class=\"data row4 col2\" >1.373743</td>\n",
              "                        <td id=\"T_a0860af0_2aad_11eb_beb5_0242ac1c0002row4_col3\" class=\"data row4 col3\" >0.592179</td>\n",
              "                        <td id=\"T_a0860af0_2aad_11eb_beb5_0242ac1c0002row4_col4\" class=\"data row4 col4\" >0.355307</td>\n",
              "                        <td id=\"T_a0860af0_2aad_11eb_beb5_0242ac1c0002row4_col5\" class=\"data row4 col5\" >0.884916</td>\n",
              "            </tr>\n",
              "            <tr>\n",
              "                        <th id=\"T_a0860af0_2aad_11eb_beb5_0242ac1c0002level0_row5\" class=\"row_heading level0 row5\" >5</th>\n",
              "                        <td id=\"T_a0860af0_2aad_11eb_beb5_0242ac1c0002row5_col0\" class=\"data row5 col0\" >17.755000</td>\n",
              "                        <td id=\"T_a0860af0_2aad_11eb_beb5_0242ac1c0002row5_col1\" class=\"data row5 col1\" >10.473333</td>\n",
              "                        <td id=\"T_a0860af0_2aad_11eb_beb5_0242ac1c0002row5_col2\" class=\"data row5 col2\" >2.343333</td>\n",
              "                        <td id=\"T_a0860af0_2aad_11eb_beb5_0242ac1c0002row5_col3\" class=\"data row5 col3\" >0.921667</td>\n",
              "                        <td id=\"T_a0860af0_2aad_11eb_beb5_0242ac1c0002row5_col4\" class=\"data row5 col4\" >1.743333</td>\n",
              "                        <td id=\"T_a0860af0_2aad_11eb_beb5_0242ac1c0002row5_col5\" class=\"data row5 col5\" >2.140000</td>\n",
              "            </tr>\n",
              "            <tr>\n",
              "                        <th id=\"T_a0860af0_2aad_11eb_beb5_0242ac1c0002level0_row6\" class=\"row_heading level0 row6\" >6</th>\n",
              "                        <td id=\"T_a0860af0_2aad_11eb_beb5_0242ac1c0002row6_col0\" class=\"data row6 col0\" >18.525600</td>\n",
              "                        <td id=\"T_a0860af0_2aad_11eb_beb5_0242ac1c0002row6_col1\" class=\"data row6 col1\" >4.716000</td>\n",
              "                        <td id=\"T_a0860af0_2aad_11eb_beb5_0242ac1c0002row6_col2\" class=\"data row6 col2\" >5.784800</td>\n",
              "                        <td id=\"T_a0860af0_2aad_11eb_beb5_0242ac1c0002row6_col3\" class=\"data row6 col3\" >1.336800</td>\n",
              "                        <td id=\"T_a0860af0_2aad_11eb_beb5_0242ac1c0002row6_col4\" class=\"data row6 col4\" >0.400800</td>\n",
              "                        <td id=\"T_a0860af0_2aad_11eb_beb5_0242ac1c0002row6_col5\" class=\"data row6 col5\" >2.627200</td>\n",
              "            </tr>\n",
              "    </tbody></table>"
            ],
            "text/plain": [
              "<pandas.io.formats.style.Styler at 0x7fb909456dd8>"
            ]
          },
          "metadata": {
            "tags": []
          },
          "execution_count": 8
        }
      ]
    },
    {
      "cell_type": "code",
      "metadata": {
        "colab": {
          "base_uri": "https://localhost:8080/",
          "height": 187
        },
        "id": "hOsHzn4G9U18",
        "outputId": "b2527b11-5985-47dd-c20c-1c9463ddb02a"
      },
      "source": [
        "# repeat for Gaussian model\n",
        "gmm = GaussianMixture(n_components=7, covariance_type='full')\n",
        "gmm.fit_predict(data_sc)\n",
        "gmm_clusters = sc.inverse_transform(gmm.means_)\n",
        "clusters = pd.DataFrame(clusters, columns=data_sc.columns)\n",
        "clusters.style.background_gradient()"
      ],
      "execution_count": 9,
      "outputs": [
        {
          "output_type": "execute_result",
          "data": {
            "text/html": [
              "<style  type=\"text/css\" >\n",
              "#T_a090f99c_2aad_11eb_beb5_0242ac1c0002row0_col0{\n",
              "            background-color:  #d4d4e8;\n",
              "            color:  #000000;\n",
              "        }#T_a090f99c_2aad_11eb_beb5_0242ac1c0002row0_col1{\n",
              "            background-color:  #60a1ca;\n",
              "            color:  #000000;\n",
              "        }#T_a090f99c_2aad_11eb_beb5_0242ac1c0002row0_col2{\n",
              "            background-color:  #f8f1f8;\n",
              "            color:  #000000;\n",
              "        }#T_a090f99c_2aad_11eb_beb5_0242ac1c0002row0_col3{\n",
              "            background-color:  #f6eff7;\n",
              "            color:  #000000;\n",
              "        }#T_a090f99c_2aad_11eb_beb5_0242ac1c0002row0_col4{\n",
              "            background-color:  #88b1d4;\n",
              "            color:  #000000;\n",
              "        }#T_a090f99c_2aad_11eb_beb5_0242ac1c0002row0_col5{\n",
              "            background-color:  #e3e0ee;\n",
              "            color:  #000000;\n",
              "        }#T_a090f99c_2aad_11eb_beb5_0242ac1c0002row1_col0,#T_a090f99c_2aad_11eb_beb5_0242ac1c0002row1_col2,#T_a090f99c_2aad_11eb_beb5_0242ac1c0002row1_col3,#T_a090f99c_2aad_11eb_beb5_0242ac1c0002row1_col5,#T_a090f99c_2aad_11eb_beb5_0242ac1c0002row5_col1,#T_a090f99c_2aad_11eb_beb5_0242ac1c0002row5_col4{\n",
              "            background-color:  #023858;\n",
              "            color:  #f1f1f1;\n",
              "        }#T_a090f99c_2aad_11eb_beb5_0242ac1c0002row1_col1{\n",
              "            background-color:  #187cb6;\n",
              "            color:  #000000;\n",
              "        }#T_a090f99c_2aad_11eb_beb5_0242ac1c0002row1_col4{\n",
              "            background-color:  #a9bfdc;\n",
              "            color:  #000000;\n",
              "        }#T_a090f99c_2aad_11eb_beb5_0242ac1c0002row2_col0{\n",
              "            background-color:  #9ebad9;\n",
              "            color:  #000000;\n",
              "        }#T_a090f99c_2aad_11eb_beb5_0242ac1c0002row2_col1{\n",
              "            background-color:  #faf3f9;\n",
              "            color:  #000000;\n",
              "        }#T_a090f99c_2aad_11eb_beb5_0242ac1c0002row2_col2{\n",
              "            background-color:  #c8cde4;\n",
              "            color:  #000000;\n",
              "        }#T_a090f99c_2aad_11eb_beb5_0242ac1c0002row2_col3{\n",
              "            background-color:  #d2d2e7;\n",
              "            color:  #000000;\n",
              "        }#T_a090f99c_2aad_11eb_beb5_0242ac1c0002row2_col4,#T_a090f99c_2aad_11eb_beb5_0242ac1c0002row4_col0,#T_a090f99c_2aad_11eb_beb5_0242ac1c0002row4_col1,#T_a090f99c_2aad_11eb_beb5_0242ac1c0002row4_col2,#T_a090f99c_2aad_11eb_beb5_0242ac1c0002row4_col3,#T_a090f99c_2aad_11eb_beb5_0242ac1c0002row4_col5{\n",
              "            background-color:  #fff7fb;\n",
              "            color:  #000000;\n",
              "        }#T_a090f99c_2aad_11eb_beb5_0242ac1c0002row2_col5{\n",
              "            background-color:  #c9cee4;\n",
              "            color:  #000000;\n",
              "        }#T_a090f99c_2aad_11eb_beb5_0242ac1c0002row3_col0{\n",
              "            background-color:  #d7d6e9;\n",
              "            color:  #000000;\n",
              "        }#T_a090f99c_2aad_11eb_beb5_0242ac1c0002row3_col1{\n",
              "            background-color:  #dbdaeb;\n",
              "            color:  #000000;\n",
              "        }#T_a090f99c_2aad_11eb_beb5_0242ac1c0002row3_col2{\n",
              "            background-color:  #ede8f3;\n",
              "            color:  #000000;\n",
              "        }#T_a090f99c_2aad_11eb_beb5_0242ac1c0002row3_col3{\n",
              "            background-color:  #056fae;\n",
              "            color:  #f1f1f1;\n",
              "        }#T_a090f99c_2aad_11eb_beb5_0242ac1c0002row3_col4,#T_a090f99c_2aad_11eb_beb5_0242ac1c0002row5_col2{\n",
              "            background-color:  #e7e3f0;\n",
              "            color:  #000000;\n",
              "        }#T_a090f99c_2aad_11eb_beb5_0242ac1c0002row3_col5{\n",
              "            background-color:  #eae6f1;\n",
              "            color:  #000000;\n",
              "        }#T_a090f99c_2aad_11eb_beb5_0242ac1c0002row4_col4{\n",
              "            background-color:  #f7f0f7;\n",
              "            color:  #000000;\n",
              "        }#T_a090f99c_2aad_11eb_beb5_0242ac1c0002row5_col0{\n",
              "            background-color:  #4295c3;\n",
              "            color:  #000000;\n",
              "        }#T_a090f99c_2aad_11eb_beb5_0242ac1c0002row5_col3{\n",
              "            background-color:  #b7c5df;\n",
              "            color:  #000000;\n",
              "        }#T_a090f99c_2aad_11eb_beb5_0242ac1c0002row5_col5{\n",
              "            background-color:  #97b7d7;\n",
              "            color:  #000000;\n",
              "        }#T_a090f99c_2aad_11eb_beb5_0242ac1c0002row6_col0{\n",
              "            background-color:  #2f8bbe;\n",
              "            color:  #000000;\n",
              "        }#T_a090f99c_2aad_11eb_beb5_0242ac1c0002row6_col1{\n",
              "            background-color:  #e0deed;\n",
              "            color:  #000000;\n",
              "        }#T_a090f99c_2aad_11eb_beb5_0242ac1c0002row6_col2{\n",
              "            background-color:  #1e80b8;\n",
              "            color:  #000000;\n",
              "        }#T_a090f99c_2aad_11eb_beb5_0242ac1c0002row6_col3{\n",
              "            background-color:  #0a73b2;\n",
              "            color:  #f1f1f1;\n",
              "        }#T_a090f99c_2aad_11eb_beb5_0242ac1c0002row6_col4{\n",
              "            background-color:  #f2ecf5;\n",
              "            color:  #000000;\n",
              "        }#T_a090f99c_2aad_11eb_beb5_0242ac1c0002row6_col5{\n",
              "            background-color:  #529bc7;\n",
              "            color:  #000000;\n",
              "        }</style><table id=\"T_a090f99c_2aad_11eb_beb5_0242ac1c0002\" ><thead>    <tr>        <th class=\"blank level0\" ></th>        <th class=\"col_heading level0 col0\" >PTS</th>        <th class=\"col_heading level0 col1\" >TRB</th>        <th class=\"col_heading level0 col2\" >AST</th>        <th class=\"col_heading level0 col3\" >STL</th>        <th class=\"col_heading level0 col4\" >BLK</th>        <th class=\"col_heading level0 col5\" >TOV</th>    </tr></thead><tbody>\n",
              "                <tr>\n",
              "                        <th id=\"T_a090f99c_2aad_11eb_beb5_0242ac1c0002level0_row0\" class=\"row_heading level0 row0\" >0</th>\n",
              "                        <td id=\"T_a090f99c_2aad_11eb_beb5_0242ac1c0002row0_col0\" class=\"data row0 col0\" >11.492000</td>\n",
              "                        <td id=\"T_a090f99c_2aad_11eb_beb5_0242ac1c0002row0_col1\" class=\"data row0 col1\" >7.265333</td>\n",
              "                        <td id=\"T_a090f99c_2aad_11eb_beb5_0242ac1c0002row0_col2\" class=\"data row0 col2\" >1.666667</td>\n",
              "                        <td id=\"T_a090f99c_2aad_11eb_beb5_0242ac1c0002row0_col3\" class=\"data row0 col3\" >0.654667</td>\n",
              "                        <td id=\"T_a090f99c_2aad_11eb_beb5_0242ac1c0002row0_col4\" class=\"data row0 col4\" >0.937333</td>\n",
              "                        <td id=\"T_a090f99c_2aad_11eb_beb5_0242ac1c0002row0_col5\" class=\"data row0 col5\" >1.388000</td>\n",
              "            </tr>\n",
              "            <tr>\n",
              "                        <th id=\"T_a090f99c_2aad_11eb_beb5_0242ac1c0002level0_row1\" class=\"row_heading level0 row1\" >1</th>\n",
              "                        <td id=\"T_a090f99c_2aad_11eb_beb5_0242ac1c0002row1_col0\" class=\"data row1 col0\" >24.603226</td>\n",
              "                        <td id=\"T_a090f99c_2aad_11eb_beb5_0242ac1c0002row1_col1\" class=\"data row1 col1\" >8.374194</td>\n",
              "                        <td id=\"T_a090f99c_2aad_11eb_beb5_0242ac1c0002row1_col2\" class=\"data row1 col2\" >7.803226</td>\n",
              "                        <td id=\"T_a090f99c_2aad_11eb_beb5_0242ac1c0002row1_col3\" class=\"data row1 col3\" >1.603226</td>\n",
              "                        <td id=\"T_a090f99c_2aad_11eb_beb5_0242ac1c0002row1_col4\" class=\"data row1 col4\" >0.809677</td>\n",
              "                        <td id=\"T_a090f99c_2aad_11eb_beb5_0242ac1c0002row1_col5\" class=\"data row1 col5\" >3.941935</td>\n",
              "            </tr>\n",
              "            <tr>\n",
              "                        <th id=\"T_a090f99c_2aad_11eb_beb5_0242ac1c0002level0_row2\" class=\"row_heading level0 row2\" >2</th>\n",
              "                        <td id=\"T_a090f99c_2aad_11eb_beb5_0242ac1c0002row2_col0\" class=\"data row2 col0\" >14.282143</td>\n",
              "                        <td id=\"T_a090f99c_2aad_11eb_beb5_0242ac1c0002row2_col1\" class=\"data row2 col1\" >3.709524</td>\n",
              "                        <td id=\"T_a090f99c_2aad_11eb_beb5_0242ac1c0002row2_col2\" class=\"data row2 col2\" >3.152976</td>\n",
              "                        <td id=\"T_a090f99c_2aad_11eb_beb5_0242ac1c0002row2_col3\" class=\"data row2 col3\" >0.838095</td>\n",
              "                        <td id=\"T_a090f99c_2aad_11eb_beb5_0242ac1c0002row2_col4\" class=\"data row2 col4\" >0.276786</td>\n",
              "                        <td id=\"T_a090f99c_2aad_11eb_beb5_0242ac1c0002row2_col5\" class=\"data row2 col5\" >1.710119</td>\n",
              "            </tr>\n",
              "            <tr>\n",
              "                        <th id=\"T_a090f99c_2aad_11eb_beb5_0242ac1c0002level0_row3\" class=\"row_heading level0 row3\" >3</th>\n",
              "                        <td id=\"T_a090f99c_2aad_11eb_beb5_0242ac1c0002row3_col0\" class=\"data row3 col0\" >11.285714</td>\n",
              "                        <td id=\"T_a090f99c_2aad_11eb_beb5_0242ac1c0002row3_col1\" class=\"data row3 col1\" >4.885714</td>\n",
              "                        <td id=\"T_a090f99c_2aad_11eb_beb5_0242ac1c0002row3_col2\" class=\"data row3 col2\" >2.130769</td>\n",
              "                        <td id=\"T_a090f99c_2aad_11eb_beb5_0242ac1c0002row3_col3\" class=\"data row3 col3\" >1.354945</td>\n",
              "                        <td id=\"T_a090f99c_2aad_11eb_beb5_0242ac1c0002row3_col4\" class=\"data row3 col4\" >0.498901</td>\n",
              "                        <td id=\"T_a090f99c_2aad_11eb_beb5_0242ac1c0002row3_col5\" class=\"data row3 col5\" >1.300000</td>\n",
              "            </tr>\n",
              "            <tr>\n",
              "                        <th id=\"T_a090f99c_2aad_11eb_beb5_0242ac1c0002level0_row4\" class=\"row_heading level0 row4\" >4</th>\n",
              "                        <td id=\"T_a090f99c_2aad_11eb_beb5_0242ac1c0002row4_col0\" class=\"data row4 col0\" >7.517318</td>\n",
              "                        <td id=\"T_a090f99c_2aad_11eb_beb5_0242ac1c0002row4_col1\" class=\"data row4 col1\" >3.484916</td>\n",
              "                        <td id=\"T_a090f99c_2aad_11eb_beb5_0242ac1c0002row4_col2\" class=\"data row4 col2\" >1.373743</td>\n",
              "                        <td id=\"T_a090f99c_2aad_11eb_beb5_0242ac1c0002row4_col3\" class=\"data row4 col3\" >0.592179</td>\n",
              "                        <td id=\"T_a090f99c_2aad_11eb_beb5_0242ac1c0002row4_col4\" class=\"data row4 col4\" >0.355307</td>\n",
              "                        <td id=\"T_a090f99c_2aad_11eb_beb5_0242ac1c0002row4_col5\" class=\"data row4 col5\" >0.884916</td>\n",
              "            </tr>\n",
              "            <tr>\n",
              "                        <th id=\"T_a090f99c_2aad_11eb_beb5_0242ac1c0002level0_row5\" class=\"row_heading level0 row5\" >5</th>\n",
              "                        <td id=\"T_a090f99c_2aad_11eb_beb5_0242ac1c0002row5_col0\" class=\"data row5 col0\" >17.755000</td>\n",
              "                        <td id=\"T_a090f99c_2aad_11eb_beb5_0242ac1c0002row5_col1\" class=\"data row5 col1\" >10.473333</td>\n",
              "                        <td id=\"T_a090f99c_2aad_11eb_beb5_0242ac1c0002row5_col2\" class=\"data row5 col2\" >2.343333</td>\n",
              "                        <td id=\"T_a090f99c_2aad_11eb_beb5_0242ac1c0002row5_col3\" class=\"data row5 col3\" >0.921667</td>\n",
              "                        <td id=\"T_a090f99c_2aad_11eb_beb5_0242ac1c0002row5_col4\" class=\"data row5 col4\" >1.743333</td>\n",
              "                        <td id=\"T_a090f99c_2aad_11eb_beb5_0242ac1c0002row5_col5\" class=\"data row5 col5\" >2.140000</td>\n",
              "            </tr>\n",
              "            <tr>\n",
              "                        <th id=\"T_a090f99c_2aad_11eb_beb5_0242ac1c0002level0_row6\" class=\"row_heading level0 row6\" >6</th>\n",
              "                        <td id=\"T_a090f99c_2aad_11eb_beb5_0242ac1c0002row6_col0\" class=\"data row6 col0\" >18.525600</td>\n",
              "                        <td id=\"T_a090f99c_2aad_11eb_beb5_0242ac1c0002row6_col1\" class=\"data row6 col1\" >4.716000</td>\n",
              "                        <td id=\"T_a090f99c_2aad_11eb_beb5_0242ac1c0002row6_col2\" class=\"data row6 col2\" >5.784800</td>\n",
              "                        <td id=\"T_a090f99c_2aad_11eb_beb5_0242ac1c0002row6_col3\" class=\"data row6 col3\" >1.336800</td>\n",
              "                        <td id=\"T_a090f99c_2aad_11eb_beb5_0242ac1c0002row6_col4\" class=\"data row6 col4\" >0.400800</td>\n",
              "                        <td id=\"T_a090f99c_2aad_11eb_beb5_0242ac1c0002row6_col5\" class=\"data row6 col5\" >2.627200</td>\n",
              "            </tr>\n",
              "    </tbody></table>"
            ],
            "text/plain": [
              "<pandas.io.formats.style.Styler at 0x7fb907a27780>"
            ]
          },
          "metadata": {
            "tags": []
          },
          "execution_count": 9
        }
      ]
    },
    {
      "cell_type": "markdown",
      "metadata": {
        "id": "y0wBOUWJ1D_6"
      },
      "source": [
        "Predict the likelihood of each player belonging to one of the 3 clusters using the GMM model. Then, calculate the entropy for each set of predicted probabilities. \n",
        "\n",
        "We will use entropy as a measure of how confident we are in the predicted class label. If we had no confidence in our prediction, we would assign 33% probability to each class, while if we were totally confident, we would assign 100% to one class. Entropy would be at a maximum in the \"no confidence\" scenario and a minimum in the \"full confidence\" scenario, which makes it a reasonable way to quantify our uncertainty in our prediction. There are certainly other methods as well; feel free to experiment with them if desired.\n",
        "\n",
        "Which five predicted labels are we least confident about? Which five are we most confident about? Print out the associated details (season, player name, stats, etc.) from those players."
      ]
    },
    {
      "cell_type": "code",
      "metadata": {
        "id": "-ho59cOPAeWz"
      },
      "source": [
        "# get cluster probabilities for each observation\n",
        "probs = pd.DataFrame(gmm3.predict_proba(data_sc))\n",
        "# get cluster entropy vals from probabilities\n",
        "ent = pd.DataFrame(entr(probs))"
      ],
      "execution_count": 11,
      "outputs": []
    },
    {
      "cell_type": "code",
      "metadata": {
        "id": "mvxGw9-hYCVf"
      },
      "source": [
        "# create column for total entropy for each row\n",
        "data['total'] = ent.sum(axis=1)\n",
        "# sort df by entropy value\n",
        "data.sort_values(by=['total'], inplace=True)"
      ],
      "execution_count": 12,
      "outputs": []
    },
    {
      "cell_type": "code",
      "metadata": {
        "colab": {
          "base_uri": "https://localhost:8080/",
          "height": 221
        },
        "id": "bDA3IDZIB-5S",
        "outputId": "91f8ec34-e62e-4843-892e-0fd5e79b25a2"
      },
      "source": [
        "print('The 5 most confident labels (least entropy):')\n",
        "data[:5]"
      ],
      "execution_count": 17,
      "outputs": [
        {
          "output_type": "stream",
          "text": [
            "The 5 most confident labels (least entropy):\n"
          ],
          "name": "stdout"
        },
        {
          "output_type": "execute_result",
          "data": {
            "text/html": [
              "<div>\n",
              "<style scoped>\n",
              "    .dataframe tbody tr th:only-of-type {\n",
              "        vertical-align: middle;\n",
              "    }\n",
              "\n",
              "    .dataframe tbody tr th {\n",
              "        vertical-align: top;\n",
              "    }\n",
              "\n",
              "    .dataframe thead th {\n",
              "        text-align: right;\n",
              "    }\n",
              "</style>\n",
              "<table border=\"1\" class=\"dataframe\">\n",
              "  <thead>\n",
              "    <tr style=\"text-align: right;\">\n",
              "      <th></th>\n",
              "      <th>PTS</th>\n",
              "      <th>TRB</th>\n",
              "      <th>AST</th>\n",
              "      <th>STL</th>\n",
              "      <th>BLK</th>\n",
              "      <th>TOV</th>\n",
              "      <th>total</th>\n",
              "    </tr>\n",
              "  </thead>\n",
              "  <tbody>\n",
              "    <tr>\n",
              "      <th>797</th>\n",
              "      <td>14.2</td>\n",
              "      <td>11.8</td>\n",
              "      <td>0.4</td>\n",
              "      <td>0.6</td>\n",
              "      <td>3.7</td>\n",
              "      <td>1.9</td>\n",
              "      <td>3.393115e-38</td>\n",
              "    </tr>\n",
              "    <tr>\n",
              "      <th>182</th>\n",
              "      <td>13.3</td>\n",
              "      <td>7.2</td>\n",
              "      <td>1.6</td>\n",
              "      <td>0.8</td>\n",
              "      <td>2.7</td>\n",
              "      <td>1.4</td>\n",
              "      <td>3.753057e-21</td>\n",
              "    </tr>\n",
              "    <tr>\n",
              "      <th>351</th>\n",
              "      <td>22.7</td>\n",
              "      <td>6.6</td>\n",
              "      <td>1.2</td>\n",
              "      <td>0.8</td>\n",
              "      <td>2.4</td>\n",
              "      <td>1.9</td>\n",
              "      <td>2.466502e-17</td>\n",
              "    </tr>\n",
              "    <tr>\n",
              "      <th>252</th>\n",
              "      <td>28.1</td>\n",
              "      <td>11.1</td>\n",
              "      <td>2.3</td>\n",
              "      <td>1.5</td>\n",
              "      <td>2.6</td>\n",
              "      <td>2.2</td>\n",
              "      <td>2.595889e-17</td>\n",
              "    </tr>\n",
              "    <tr>\n",
              "      <th>454</th>\n",
              "      <td>20.2</td>\n",
              "      <td>7.8</td>\n",
              "      <td>2.1</td>\n",
              "      <td>0.9</td>\n",
              "      <td>2.5</td>\n",
              "      <td>3.8</td>\n",
              "      <td>7.364098e-16</td>\n",
              "    </tr>\n",
              "  </tbody>\n",
              "</table>\n",
              "</div>"
            ],
            "text/plain": [
              "      PTS   TRB  AST  STL  BLK  TOV         total\n",
              "797  14.2  11.8  0.4  0.6  3.7  1.9  3.393115e-38\n",
              "182  13.3   7.2  1.6  0.8  2.7  1.4  3.753057e-21\n",
              "351  22.7   6.6  1.2  0.8  2.4  1.9  2.466502e-17\n",
              "252  28.1  11.1  2.3  1.5  2.6  2.2  2.595889e-17\n",
              "454  20.2   7.8  2.1  0.9  2.5  3.8  7.364098e-16"
            ]
          },
          "metadata": {
            "tags": []
          },
          "execution_count": 17
        }
      ]
    },
    {
      "cell_type": "code",
      "metadata": {
        "colab": {
          "base_uri": "https://localhost:8080/",
          "height": 221
        },
        "id": "Rw4KiR1fYsRS",
        "outputId": "ae9f3168-8a50-40a6-d185-2038f2b2960c"
      },
      "source": [
        "print('5 least confident labels (most entropy):')\n",
        "data[-5:]"
      ],
      "execution_count": 16,
      "outputs": [
        {
          "output_type": "stream",
          "text": [
            "5 least confident labels (most entropy):\n"
          ],
          "name": "stdout"
        },
        {
          "output_type": "execute_result",
          "data": {
            "text/html": [
              "<div>\n",
              "<style scoped>\n",
              "    .dataframe tbody tr th:only-of-type {\n",
              "        vertical-align: middle;\n",
              "    }\n",
              "\n",
              "    .dataframe tbody tr th {\n",
              "        vertical-align: top;\n",
              "    }\n",
              "\n",
              "    .dataframe thead th {\n",
              "        text-align: right;\n",
              "    }\n",
              "</style>\n",
              "<table border=\"1\" class=\"dataframe\">\n",
              "  <thead>\n",
              "    <tr style=\"text-align: right;\">\n",
              "      <th></th>\n",
              "      <th>PTS</th>\n",
              "      <th>TRB</th>\n",
              "      <th>AST</th>\n",
              "      <th>STL</th>\n",
              "      <th>BLK</th>\n",
              "      <th>TOV</th>\n",
              "      <th>total</th>\n",
              "    </tr>\n",
              "  </thead>\n",
              "  <tbody>\n",
              "    <tr>\n",
              "      <th>109</th>\n",
              "      <td>7.8</td>\n",
              "      <td>3.2</td>\n",
              "      <td>2.5</td>\n",
              "      <td>0.6</td>\n",
              "      <td>0.5</td>\n",
              "      <td>1.3</td>\n",
              "      <td>0.912067</td>\n",
              "    </tr>\n",
              "    <tr>\n",
              "      <th>433</th>\n",
              "      <td>9.2</td>\n",
              "      <td>4.2</td>\n",
              "      <td>0.7</td>\n",
              "      <td>0.8</td>\n",
              "      <td>0.9</td>\n",
              "      <td>1.3</td>\n",
              "      <td>0.925587</td>\n",
              "    </tr>\n",
              "    <tr>\n",
              "      <th>343</th>\n",
              "      <td>11.5</td>\n",
              "      <td>5.7</td>\n",
              "      <td>2.7</td>\n",
              "      <td>0.8</td>\n",
              "      <td>0.5</td>\n",
              "      <td>1.9</td>\n",
              "      <td>0.986075</td>\n",
              "    </tr>\n",
              "    <tr>\n",
              "      <th>741</th>\n",
              "      <td>12.0</td>\n",
              "      <td>5.5</td>\n",
              "      <td>1.9</td>\n",
              "      <td>0.9</td>\n",
              "      <td>0.5</td>\n",
              "      <td>2.1</td>\n",
              "      <td>1.057616</td>\n",
              "    </tr>\n",
              "    <tr>\n",
              "      <th>13</th>\n",
              "      <td>11.5</td>\n",
              "      <td>4.6</td>\n",
              "      <td>2.9</td>\n",
              "      <td>0.4</td>\n",
              "      <td>0.5</td>\n",
              "      <td>1.5</td>\n",
              "      <td>1.068226</td>\n",
              "    </tr>\n",
              "  </tbody>\n",
              "</table>\n",
              "</div>"
            ],
            "text/plain": [
              "      PTS  TRB  AST  STL  BLK  TOV     total\n",
              "109   7.8  3.2  2.5  0.6  0.5  1.3  0.912067\n",
              "433   9.2  4.2  0.7  0.8  0.9  1.3  0.925587\n",
              "343  11.5  5.7  2.7  0.8  0.5  1.9  0.986075\n",
              "741  12.0  5.5  1.9  0.9  0.5  2.1  1.057616\n",
              "13   11.5  4.6  2.9  0.4  0.5  1.5  1.068226"
            ]
          },
          "metadata": {
            "tags": []
          },
          "execution_count": 16
        }
      ]
    }
  ]
}