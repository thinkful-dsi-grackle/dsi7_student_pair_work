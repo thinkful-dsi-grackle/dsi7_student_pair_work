{
  "nbformat": 4,
  "nbformat_minor": 0,
  "metadata": {
    "colab": {
      "name": "cate_50_1.ipynb",
      "provenance": [],
      "collapsed_sections": []
    },
    "kernelspec": {
      "display_name": "Python 3",
      "language": "python",
      "name": "python3"
    },
    "language_info": {
      "codemirror_mode": {
        "name": "ipython",
        "version": 3
      },
      "file_extension": ".py",
      "mimetype": "text/x-python",
      "name": "python",
      "nbconvert_exporter": "python",
      "pygments_lexer": "ipython3",
      "version": "3.7.0"
    }
  },
  "cells": [
    {
      "cell_type": "markdown",
      "metadata": {
        "id": "xdL0Yz0D1D_q"
      },
      "source": [
        "## Day 50 Lecture 2 Assignment\n",
        "\n",
        "In this assignment, we will apply various methods of internal evaluation to the results of K-Means clustering on a dataset containing the results of a survey on financial wellbeing."
      ]
    },
    {
      "cell_type": "code",
      "metadata": {
        "id": "OulyiH_C1D_r"
      },
      "source": [
        "%matplotlib inline\n",
        "\n",
        "import matplotlib.pyplot as plt\n",
        "import numpy as np\n",
        "import pandas as pd\n",
        "from sklearn.cluster import KMeans\n",
        "from sklearn.preprocessing import StandardScaler\n",
        "from sklearn.metrics import silhouette_score"
      ],
      "execution_count": 1,
      "outputs": []
    },
    {
      "cell_type": "markdown",
      "metadata": {
        "id": "ezMvoRlB1D_t"
      },
      "source": [
        "This dataset contains the results of a survey on a financial wellbeing conducted by the US Consumer Finance Protection Bureau that were published in October 2017. This dataset has a large number of columns, most of which correspond to specific questions on the survey. These codebook for translating the column names to questions can be found here:\n",
        "\n",
        "https://s3.amazonaws.com/files.consumerfinance.gov/f/documents/cfpb_nfwbs-puf-codebook.pdf\n",
        "\n",
        "Load the dataset."
      ]
    },
    {
      "cell_type": "code",
      "metadata": {
        "id": "wP1U4eQ91D_u"
      },
      "source": [
        "# read in dataset\n",
        "data = pd.read_csv('https://tf-assets-prod.s3.amazonaws.com/tf-curric/data-science/Data%20Sets%20Clustering/financial_wellbeing.csv')"
      ],
      "execution_count": 2,
      "outputs": []
    },
    {
      "cell_type": "markdown",
      "metadata": {
        "id": "o_K1eQ0x1D_y"
      },
      "source": [
        "As we did in the previous assignment, we will only use the score columns. Filter the columns of the dataset to only include these columns."
      ]
    },
    {
      "cell_type": "code",
      "metadata": {
        "id": "xfYVreyw1D_y"
      },
      "source": [
        "# filter for only score columns\n",
        "data = data.loc[:, data.columns.str.contains('score')].reset_index(drop=True)"
      ],
      "execution_count": 4,
      "outputs": []
    },
    {
      "cell_type": "markdown",
      "metadata": {
        "id": "MUjcLMMk1D_2"
      },
      "source": [
        "Standardize the features in your dataset using scikit-learn's StandardScaler, which will set the mean of each feature to 0 and the variance to 1."
      ]
    },
    {
      "cell_type": "code",
      "metadata": {
        "id": "6OTdN8oF1D_2"
      },
      "source": [
        "# standardize features\n",
        "sc = StandardScaler()\n",
        "data_sc = sc.fit_transform(data)\n",
        "data_sc = pd.DataFrame(data_sc, columns=data.columns)"
      ],
      "execution_count": 5,
      "outputs": []
    },
    {
      "cell_type": "markdown",
      "metadata": {
        "id": "ao3Y5FVp1D_4"
      },
      "source": [
        "Create an elbow plot showing how the SSE changes with respect to the number of clusters in K-Means. Allow K to vary from 2 to 30. Does a clear \"elbow\" emerge from the plot?"
      ]
    },
    {
      "cell_type": "code",
      "metadata": {
        "id": "sUhMxZdL1D_4"
      },
      "source": [
        "# run kmeans for values of k between 2 and 30 and store changes in SSE\n",
        "sse = []\n",
        "silhouette = []\n",
        "k_values = range(2, 31)\n",
        "\n",
        "for k in k_values:\n",
        "  kmeans = KMeans(n_clusters=k)\n",
        "  kmeans.fit(data_sc)\n",
        "  sse.append(kmeans.inertia_)\n",
        "\n",
        "  preds = kmeans.predict(data_sc)\n",
        "  silhouette.append(silhouette_score(data_sc, preds, metric='euclidean'))"
      ],
      "execution_count": 13,
      "outputs": []
    },
    {
      "cell_type": "code",
      "metadata": {
        "colab": {
          "base_uri": "https://localhost:8080/",
          "height": 265
        },
        "id": "CIcQZYs1lWWO",
        "outputId": "a5b581c1-d75a-48d7-d8d7-3a70be407aba"
      },
      "source": [
        "plt.plot(k_values, sse, 'bx-')\n",
        "plt.show()"
      ],
      "execution_count": 15,
      "outputs": [
        {
          "output_type": "display_data",
          "data": {
            "image/png": "[encoded data removed]",
            "text/plain": [
              "<Figure size 432x288 with 1 Axes>"
            ]
          },
          "metadata": {
            "tags": [],
            "needs_background": "light"
          }
        }
      ]
    },
    {
      "cell_type": "markdown",
      "metadata": {
        "id": "MISjsq11o6Y6"
      },
      "source": [
        "No clear elbow emerges from the plot. It's difficult to  make a call about best k-value from this plot. The largest drop in SSE was between k=2 and k=3, but it seems like the best value could be somewhere in the 3-7 range. "
      ]
    },
    {
      "cell_type": "markdown",
      "metadata": {
        "id": "y0wBOUWJ1D_6"
      },
      "source": [
        "Create a silhouette plot for the results of K-Means, again with K varying from 2 to 30. What is the optimal number of clusters according to the silhouette method? Is this consistent with the output of the elbow plot?"
      ]
    },
    {
      "cell_type": "code",
      "metadata": {
        "id": "AdKYEBx61D_6",
        "colab": {
          "base_uri": "https://localhost:8080/",
          "height": 265
        },
        "outputId": "50e8a997-8cc5-4a21-c471-0dc67b799d79"
      },
      "source": [
        "# answer goes here\n",
        "plt.plot(k_values, silhouette, 'bx-')\n",
        "plt.show()\n",
        "\n"
      ],
      "execution_count": 18,
      "outputs": [
        {
          "output_type": "display_data",
          "data": {
            "image/png": "[encoded data removed]",
            "text/plain": [
              "<Figure size 432x288 with 1 Axes>"
            ]
          },
          "metadata": {
            "tags": [],
            "needs_background": "light"
          }
        }
      ]
    },
    {
      "cell_type": "markdown",
      "metadata": {
        "id": "2DgbOr2wshOh"
      },
      "source": [
        "The silhouette plot shows a best score at k=2. Selecting this value is not inconsistent with the SSE plot, which showed the most significant decrease in SSE between k=2 and k=3. "
      ]
    }
  ]
}