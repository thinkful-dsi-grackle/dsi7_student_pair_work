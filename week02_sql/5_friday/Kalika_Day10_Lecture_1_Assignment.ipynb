{
 "cells": [
  {
   "cell_type": "markdown",
   "metadata": {
    "colab_type": "text",
    "id": "j4BXTaq2Z1MZ"
   },
   "source": [
    "# SQL in Python Assignment"
   ]
  },
  {
   "cell_type": "code",
   "execution_count": 1,
   "metadata": {
    "colab": {},
    "colab_type": "code",
    "id": "-0y7sAJFZ1Mb"
   },
   "outputs": [],
   "source": [
    "import pandas as pd\n",
    "from sqlalchemy import *"
   ]
  },
  {
   "cell_type": "markdown",
   "metadata": {
    "colab_type": "text",
    "id": "JauBVkEEZ1NT"
   },
   "source": [
    "### Connect to the personal database you created yesterday.\n",
    "Remember the way the credentials work:\n",
    "```\n",
    "user = 'postgres' # Replace with your user, if different\n",
    "pwd = 'Thinkful' # Replace with your password\n",
    "host = 'localhost'\n",
    "port = '5432'\n",
    "db = 'postgres' # Replace with your database name, if different\n",
    "```"
   ]
  },
  {
   "cell_type": "code",
   "execution_count": 29,
   "metadata": {
    "colab": {},
    "colab_type": "code",
    "id": "AUqXsg2nZ1NU"
   },
   "outputs": [
    {
     "data": {
      "text/html": [
       "<div>\n",
       "<style scoped>\n",
       "    .dataframe tbody tr th:only-of-type {\n",
       "        vertical-align: middle;\n",
       "    }\n",
       "\n",
       "    .dataframe tbody tr th {\n",
       "        vertical-align: top;\n",
       "    }\n",
       "\n",
       "    .dataframe thead th {\n",
       "        text-align: right;\n",
       "    }\n",
       "</style>\n",
       "<table border=\"1\" class=\"dataframe\">\n",
       "  <thead>\n",
       "    <tr style=\"text-align: right;\">\n",
       "      <th></th>\n",
       "      <th>id</th>\n",
       "      <th>make</th>\n",
       "      <th>model</th>\n",
       "      <th>year</th>\n",
       "      <th>class</th>\n",
       "      <th>trans</th>\n",
       "      <th>drive</th>\n",
       "      <th>cyl</th>\n",
       "      <th>displ</th>\n",
       "      <th>fuel</th>\n",
       "      <th>hwy</th>\n",
       "      <th>cty</th>\n",
       "    </tr>\n",
       "  </thead>\n",
       "  <tbody>\n",
       "    <tr>\n",
       "      <th>0</th>\n",
       "      <td>27550</td>\n",
       "      <td>AM General</td>\n",
       "      <td>DJ Po Vehicle 2WD</td>\n",
       "      <td>1984</td>\n",
       "      <td>Special Purpose Vehicle 2WD</td>\n",
       "      <td>Automatic 3-spd</td>\n",
       "      <td>2-Wheel Drive</td>\n",
       "      <td>4</td>\n",
       "      <td>2.5</td>\n",
       "      <td>Regular</td>\n",
       "      <td>17</td>\n",
       "      <td>18</td>\n",
       "    </tr>\n",
       "    <tr>\n",
       "      <th>1</th>\n",
       "      <td>28426</td>\n",
       "      <td>AM General</td>\n",
       "      <td>DJ Po Vehicle 2WD</td>\n",
       "      <td>1984</td>\n",
       "      <td>Special Purpose Vehicle 2WD</td>\n",
       "      <td>Automatic 3-spd</td>\n",
       "      <td>2-Wheel Drive</td>\n",
       "      <td>4</td>\n",
       "      <td>2.5</td>\n",
       "      <td>Regular</td>\n",
       "      <td>17</td>\n",
       "      <td>18</td>\n",
       "    </tr>\n",
       "    <tr>\n",
       "      <th>2</th>\n",
       "      <td>27549</td>\n",
       "      <td>AM General</td>\n",
       "      <td>FJ8c Post Office</td>\n",
       "      <td>1984</td>\n",
       "      <td>Special Purpose Vehicle 2WD</td>\n",
       "      <td>Automatic 3-spd</td>\n",
       "      <td>2-Wheel Drive</td>\n",
       "      <td>6</td>\n",
       "      <td>4.2</td>\n",
       "      <td>Regular</td>\n",
       "      <td>13</td>\n",
       "      <td>13</td>\n",
       "    </tr>\n",
       "    <tr>\n",
       "      <th>3</th>\n",
       "      <td>28425</td>\n",
       "      <td>AM General</td>\n",
       "      <td>FJ8c Post Office</td>\n",
       "      <td>1984</td>\n",
       "      <td>Special Purpose Vehicle 2WD</td>\n",
       "      <td>Automatic 3-spd</td>\n",
       "      <td>2-Wheel Drive</td>\n",
       "      <td>6</td>\n",
       "      <td>4.2</td>\n",
       "      <td>Regular</td>\n",
       "      <td>13</td>\n",
       "      <td>13</td>\n",
       "    </tr>\n",
       "    <tr>\n",
       "      <th>4</th>\n",
       "      <td>1032</td>\n",
       "      <td>AM General</td>\n",
       "      <td>Post Office DJ5 2WD</td>\n",
       "      <td>1985</td>\n",
       "      <td>Special Purpose Vehicle 2WD</td>\n",
       "      <td>Automatic 3-spd</td>\n",
       "      <td>Rear-Wheel Drive</td>\n",
       "      <td>4</td>\n",
       "      <td>2.5</td>\n",
       "      <td>Regular</td>\n",
       "      <td>17</td>\n",
       "      <td>16</td>\n",
       "    </tr>\n",
       "    <tr>\n",
       "      <th>5</th>\n",
       "      <td>1033</td>\n",
       "      <td>AM General</td>\n",
       "      <td>Post Office DJ8 2WD</td>\n",
       "      <td>1985</td>\n",
       "      <td>Special Purpose Vehicle 2WD</td>\n",
       "      <td>Automatic 3-spd</td>\n",
       "      <td>Rear-Wheel Drive</td>\n",
       "      <td>6</td>\n",
       "      <td>4.2</td>\n",
       "      <td>Regular</td>\n",
       "      <td>13</td>\n",
       "      <td>13</td>\n",
       "    </tr>\n",
       "    <tr>\n",
       "      <th>6</th>\n",
       "      <td>3347</td>\n",
       "      <td>ASC Incorporated</td>\n",
       "      <td>GNX</td>\n",
       "      <td>1987</td>\n",
       "      <td>Midsize Cars</td>\n",
       "      <td>Automatic 4-spd</td>\n",
       "      <td>Rear-Wheel Drive</td>\n",
       "      <td>6</td>\n",
       "      <td>3.8</td>\n",
       "      <td>Premium</td>\n",
       "      <td>21</td>\n",
       "      <td>14</td>\n",
       "    </tr>\n",
       "    <tr>\n",
       "      <th>7</th>\n",
       "      <td>13309</td>\n",
       "      <td>Acura</td>\n",
       "      <td>2.2CL/3.0CL</td>\n",
       "      <td>1997</td>\n",
       "      <td>Subcompact Cars</td>\n",
       "      <td>Automatic 4-spd</td>\n",
       "      <td>Front-Wheel Drive</td>\n",
       "      <td>4</td>\n",
       "      <td>2.2</td>\n",
       "      <td>Regular</td>\n",
       "      <td>26</td>\n",
       "      <td>20</td>\n",
       "    </tr>\n",
       "    <tr>\n",
       "      <th>8</th>\n",
       "      <td>13310</td>\n",
       "      <td>Acura</td>\n",
       "      <td>2.2CL/3.0CL</td>\n",
       "      <td>1997</td>\n",
       "      <td>Subcompact Cars</td>\n",
       "      <td>Manual 5-spd</td>\n",
       "      <td>Front-Wheel Drive</td>\n",
       "      <td>4</td>\n",
       "      <td>2.2</td>\n",
       "      <td>Regular</td>\n",
       "      <td>28</td>\n",
       "      <td>22</td>\n",
       "    </tr>\n",
       "    <tr>\n",
       "      <th>9</th>\n",
       "      <td>13311</td>\n",
       "      <td>Acura</td>\n",
       "      <td>2.2CL/3.0CL</td>\n",
       "      <td>1997</td>\n",
       "      <td>Subcompact Cars</td>\n",
       "      <td>Automatic 4-spd</td>\n",
       "      <td>Front-Wheel Drive</td>\n",
       "      <td>6</td>\n",
       "      <td>3</td>\n",
       "      <td>Regular</td>\n",
       "      <td>26</td>\n",
       "      <td>18</td>\n",
       "    </tr>\n",
       "  </tbody>\n",
       "</table>\n",
       "</div>"
      ],
      "text/plain": [
       "      id              make                model  year  \\\n",
       "0  27550        AM General    DJ Po Vehicle 2WD  1984   \n",
       "1  28426        AM General    DJ Po Vehicle 2WD  1984   \n",
       "2  27549        AM General     FJ8c Post Office  1984   \n",
       "3  28425        AM General     FJ8c Post Office  1984   \n",
       "4   1032        AM General  Post Office DJ5 2WD  1985   \n",
       "5   1033        AM General  Post Office DJ8 2WD  1985   \n",
       "6   3347  ASC Incorporated                  GNX  1987   \n",
       "7  13309             Acura          2.2CL/3.0CL  1997   \n",
       "8  13310             Acura          2.2CL/3.0CL  1997   \n",
       "9  13311             Acura          2.2CL/3.0CL  1997   \n",
       "\n",
       "                         class            trans              drive cyl displ  \\\n",
       "0  Special Purpose Vehicle 2WD  Automatic 3-spd      2-Wheel Drive   4   2.5   \n",
       "1  Special Purpose Vehicle 2WD  Automatic 3-spd      2-Wheel Drive   4   2.5   \n",
       "2  Special Purpose Vehicle 2WD  Automatic 3-spd      2-Wheel Drive   6   4.2   \n",
       "3  Special Purpose Vehicle 2WD  Automatic 3-spd      2-Wheel Drive   6   4.2   \n",
       "4  Special Purpose Vehicle 2WD  Automatic 3-spd   Rear-Wheel Drive   4   2.5   \n",
       "5  Special Purpose Vehicle 2WD  Automatic 3-spd   Rear-Wheel Drive   6   4.2   \n",
       "6                 Midsize Cars  Automatic 4-spd   Rear-Wheel Drive   6   3.8   \n",
       "7              Subcompact Cars  Automatic 4-spd  Front-Wheel Drive   4   2.2   \n",
       "8              Subcompact Cars     Manual 5-spd  Front-Wheel Drive   4   2.2   \n",
       "9              Subcompact Cars  Automatic 4-spd  Front-Wheel Drive   6     3   \n",
       "\n",
       "      fuel hwy cty  \n",
       "0  Regular  17  18  \n",
       "1  Regular  17  18  \n",
       "2  Regular  13  13  \n",
       "3  Regular  13  13  \n",
       "4  Regular  17  16  \n",
       "5  Regular  13  13  \n",
       "6  Premium  21  14  \n",
       "7  Regular  26  20  \n",
       "8  Regular  28  22  \n",
       "9  Regular  26  18  "
      ]
     },
     "execution_count": 29,
     "metadata": {},
     "output_type": "execute_result"
    }
   ],
   "source": [
    "user = 'postgres' # Replace with your user, if different\n",
    "pwd = 'Thinkful' # Replace with your password\n",
    "host = 'localhost'\n",
    "port = '5432'\n",
    "db = 'postgres' # Replace with your database name, if different\n",
    "\n",
    "sql = \"SELECT * FROM vehicles\"\n",
    "\n",
    "engine = create_engine('postgresql://{}:{}@{}:{}/{}'.format(\n",
    "    user, pwd, host, port, db))\n",
    "\n",
    "# Since empno is a primary key for each employee, it works great as an index\n",
    "df = pd.read_sql_query(sql,con=engine)\n",
    "\n",
    "# no need for an open connection, as we're only doing a single query\n",
    "#engine.dispose()\n",
    "\n",
    "df.head(10)"
   ]
  },
  {
   "cell_type": "markdown",
   "metadata": {
    "colab_type": "text",
    "id": "qtCZHZT9Z1NZ"
   },
   "source": [
    "### Obtain a list of tables that are in the database."
   ]
  },
  {
   "cell_type": "code",
   "execution_count": 17,
   "metadata": {
    "colab": {},
    "colab_type": "code",
    "id": "2eBYTPklZ1Na"
   },
   "outputs": [
    {
     "data": {
      "text/plain": [
       "['vehicles', 'houseprices', 'normal_sales']"
      ]
     },
     "execution_count": 17,
     "metadata": {},
     "output_type": "execute_result"
    }
   ],
   "source": [
    "engine.table_names()"
   ]
  },
  {
   "cell_type": "markdown",
   "metadata": {
    "colab_type": "text",
    "id": "V_iAGanZZ1Ne"
   },
   "source": [
    "### Obtain a list of all the fields that are in the vehicles table along with the data type of each."
   ]
  },
  {
   "cell_type": "code",
   "execution_count": 26,
   "metadata": {},
   "outputs": [
    {
     "data": {
      "text/html": [
       "<div>\n",
       "<style scoped>\n",
       "    .dataframe tbody tr th:only-of-type {\n",
       "        vertical-align: middle;\n",
       "    }\n",
       "\n",
       "    .dataframe tbody tr th {\n",
       "        vertical-align: top;\n",
       "    }\n",
       "\n",
       "    .dataframe thead th {\n",
       "        text-align: right;\n",
       "    }\n",
       "</style>\n",
       "<table border=\"1\" class=\"dataframe\">\n",
       "  <thead>\n",
       "    <tr style=\"text-align: right;\">\n",
       "      <th></th>\n",
       "      <th>Name</th>\n",
       "      <th>Type</th>\n",
       "    </tr>\n",
       "  </thead>\n",
       "  <tbody>\n",
       "    <tr>\n",
       "      <th>0</th>\n",
       "      <td>id</td>\n",
       "      <td>INTEGER</td>\n",
       "    </tr>\n",
       "    <tr>\n",
       "      <th>1</th>\n",
       "      <td>make</td>\n",
       "      <td>VARCHAR(50)</td>\n",
       "    </tr>\n",
       "    <tr>\n",
       "      <th>2</th>\n",
       "      <td>model</td>\n",
       "      <td>VARCHAR(50)</td>\n",
       "    </tr>\n",
       "    <tr>\n",
       "      <th>3</th>\n",
       "      <td>year</td>\n",
       "      <td>VARCHAR(50)</td>\n",
       "    </tr>\n",
       "    <tr>\n",
       "      <th>4</th>\n",
       "      <td>class</td>\n",
       "      <td>VARCHAR(255)</td>\n",
       "    </tr>\n",
       "    <tr>\n",
       "      <th>5</th>\n",
       "      <td>trans</td>\n",
       "      <td>VARCHAR(50)</td>\n",
       "    </tr>\n",
       "    <tr>\n",
       "      <th>6</th>\n",
       "      <td>drive</td>\n",
       "      <td>VARCHAR(50)</td>\n",
       "    </tr>\n",
       "    <tr>\n",
       "      <th>7</th>\n",
       "      <td>cyl</td>\n",
       "      <td>VARCHAR(50)</td>\n",
       "    </tr>\n",
       "    <tr>\n",
       "      <th>8</th>\n",
       "      <td>displ</td>\n",
       "      <td>VARCHAR(50)</td>\n",
       "    </tr>\n",
       "    <tr>\n",
       "      <th>9</th>\n",
       "      <td>fuel</td>\n",
       "      <td>VARCHAR(50)</td>\n",
       "    </tr>\n",
       "    <tr>\n",
       "      <th>10</th>\n",
       "      <td>hwy</td>\n",
       "      <td>VARCHAR(50)</td>\n",
       "    </tr>\n",
       "    <tr>\n",
       "      <th>11</th>\n",
       "      <td>cty</td>\n",
       "      <td>VARCHAR(50)</td>\n",
       "    </tr>\n",
       "  </tbody>\n",
       "</table>\n",
       "</div>"
      ],
      "text/plain": [
       "     Name          Type\n",
       "0      id       INTEGER\n",
       "1    make   VARCHAR(50)\n",
       "2   model   VARCHAR(50)\n",
       "3    year   VARCHAR(50)\n",
       "4   class  VARCHAR(255)\n",
       "5   trans   VARCHAR(50)\n",
       "6   drive   VARCHAR(50)\n",
       "7     cyl   VARCHAR(50)\n",
       "8   displ   VARCHAR(50)\n",
       "9    fuel   VARCHAR(50)\n",
       "10    hwy   VARCHAR(50)\n",
       "11    cty   VARCHAR(50)"
      ]
     },
     "execution_count": 26,
     "metadata": {},
     "output_type": "execute_result"
    }
   ],
   "source": [
    "\n",
    "meta = MetaData()\n",
    "table = Table('vehicles', meta, autoload=True, autoload_with=engine)\n",
    "fields = [(c.name, c.type) for c in table.columns]\n",
    "fields_df = pd.DataFrame(fields, columns=['Name', 'Type'])\n",
    "fields_df"
   ]
  },
  {
   "cell_type": "code",
   "execution_count": 10,
   "metadata": {
    "colab": {},
    "colab_type": "code",
    "id": "r-9KdZbJZ1Ne",
    "scrolled": true
   },
   "outputs": [
    {
     "data": {
      "text/plain": [
       "id        int64\n",
       "make     object\n",
       "model    object\n",
       "year     object\n",
       "class    object\n",
       "trans    object\n",
       "drive    object\n",
       "cyl      object\n",
       "displ    object\n",
       "fuel     object\n",
       "hwy      object\n",
       "cty      object\n",
       "dtype: object"
      ]
     },
     "execution_count": 10,
     "metadata": {},
     "output_type": "execute_result"
    }
   ],
   "source": [
    "df.dtypes"
   ]
  },
  {
   "cell_type": "markdown",
   "metadata": {
    "colab_type": "text",
    "id": "VLd7otVVZ1Nh"
   },
   "source": [
    "### Write a SELECT query to retrieve all records from the database and load them into a Pandas data frame."
   ]
  },
  {
   "cell_type": "code",
   "execution_count": 11,
   "metadata": {
    "colab": {},
    "colab_type": "code",
    "id": "yeV7sCISZ1Ni"
   },
   "outputs": [
    {
     "data": {
      "text/html": [
       "<div>\n",
       "<style scoped>\n",
       "    .dataframe tbody tr th:only-of-type {\n",
       "        vertical-align: middle;\n",
       "    }\n",
       "\n",
       "    .dataframe tbody tr th {\n",
       "        vertical-align: top;\n",
       "    }\n",
       "\n",
       "    .dataframe thead th {\n",
       "        text-align: right;\n",
       "    }\n",
       "</style>\n",
       "<table border=\"1\" class=\"dataframe\">\n",
       "  <thead>\n",
       "    <tr style=\"text-align: right;\">\n",
       "      <th></th>\n",
       "      <th>id</th>\n",
       "      <th>make</th>\n",
       "      <th>model</th>\n",
       "      <th>year</th>\n",
       "      <th>class</th>\n",
       "      <th>trans</th>\n",
       "      <th>drive</th>\n",
       "      <th>cyl</th>\n",
       "      <th>displ</th>\n",
       "      <th>fuel</th>\n",
       "      <th>hwy</th>\n",
       "      <th>cty</th>\n",
       "    </tr>\n",
       "  </thead>\n",
       "  <tbody>\n",
       "    <tr>\n",
       "      <th>0</th>\n",
       "      <td>27550</td>\n",
       "      <td>AM General</td>\n",
       "      <td>DJ Po Vehicle 2WD</td>\n",
       "      <td>1984</td>\n",
       "      <td>Special Purpose Vehicle 2WD</td>\n",
       "      <td>Automatic 3-spd</td>\n",
       "      <td>2-Wheel Drive</td>\n",
       "      <td>4</td>\n",
       "      <td>2.5</td>\n",
       "      <td>Regular</td>\n",
       "      <td>17</td>\n",
       "      <td>18</td>\n",
       "    </tr>\n",
       "    <tr>\n",
       "      <th>1</th>\n",
       "      <td>28426</td>\n",
       "      <td>AM General</td>\n",
       "      <td>DJ Po Vehicle 2WD</td>\n",
       "      <td>1984</td>\n",
       "      <td>Special Purpose Vehicle 2WD</td>\n",
       "      <td>Automatic 3-spd</td>\n",
       "      <td>2-Wheel Drive</td>\n",
       "      <td>4</td>\n",
       "      <td>2.5</td>\n",
       "      <td>Regular</td>\n",
       "      <td>17</td>\n",
       "      <td>18</td>\n",
       "    </tr>\n",
       "    <tr>\n",
       "      <th>2</th>\n",
       "      <td>27549</td>\n",
       "      <td>AM General</td>\n",
       "      <td>FJ8c Post Office</td>\n",
       "      <td>1984</td>\n",
       "      <td>Special Purpose Vehicle 2WD</td>\n",
       "      <td>Automatic 3-spd</td>\n",
       "      <td>2-Wheel Drive</td>\n",
       "      <td>6</td>\n",
       "      <td>4.2</td>\n",
       "      <td>Regular</td>\n",
       "      <td>13</td>\n",
       "      <td>13</td>\n",
       "    </tr>\n",
       "    <tr>\n",
       "      <th>3</th>\n",
       "      <td>28425</td>\n",
       "      <td>AM General</td>\n",
       "      <td>FJ8c Post Office</td>\n",
       "      <td>1984</td>\n",
       "      <td>Special Purpose Vehicle 2WD</td>\n",
       "      <td>Automatic 3-spd</td>\n",
       "      <td>2-Wheel Drive</td>\n",
       "      <td>6</td>\n",
       "      <td>4.2</td>\n",
       "      <td>Regular</td>\n",
       "      <td>13</td>\n",
       "      <td>13</td>\n",
       "    </tr>\n",
       "    <tr>\n",
       "      <th>4</th>\n",
       "      <td>1032</td>\n",
       "      <td>AM General</td>\n",
       "      <td>Post Office DJ5 2WD</td>\n",
       "      <td>1985</td>\n",
       "      <td>Special Purpose Vehicle 2WD</td>\n",
       "      <td>Automatic 3-spd</td>\n",
       "      <td>Rear-Wheel Drive</td>\n",
       "      <td>4</td>\n",
       "      <td>2.5</td>\n",
       "      <td>Regular</td>\n",
       "      <td>17</td>\n",
       "      <td>16</td>\n",
       "    </tr>\n",
       "  </tbody>\n",
       "</table>\n",
       "</div>"
      ],
      "text/plain": [
       "      id        make                model  year                        class  \\\n",
       "0  27550  AM General    DJ Po Vehicle 2WD  1984  Special Purpose Vehicle 2WD   \n",
       "1  28426  AM General    DJ Po Vehicle 2WD  1984  Special Purpose Vehicle 2WD   \n",
       "2  27549  AM General     FJ8c Post Office  1984  Special Purpose Vehicle 2WD   \n",
       "3  28425  AM General     FJ8c Post Office  1984  Special Purpose Vehicle 2WD   \n",
       "4   1032  AM General  Post Office DJ5 2WD  1985  Special Purpose Vehicle 2WD   \n",
       "\n",
       "             trans             drive cyl displ     fuel hwy cty  \n",
       "0  Automatic 3-spd     2-Wheel Drive   4   2.5  Regular  17  18  \n",
       "1  Automatic 3-spd     2-Wheel Drive   4   2.5  Regular  17  18  \n",
       "2  Automatic 3-spd     2-Wheel Drive   6   4.2  Regular  13  13  \n",
       "3  Automatic 3-spd     2-Wheel Drive   6   4.2  Regular  13  13  \n",
       "4  Automatic 3-spd  Rear-Wheel Drive   4   2.5  Regular  17  16  "
      ]
     },
     "execution_count": 11,
     "metadata": {},
     "output_type": "execute_result"
    }
   ],
   "source": [
    "#SEE LINE BLOCK FOUR FOR SQL SELECT QUERY AND CONNECTION\n",
    "df.head()"
   ]
  },
  {
   "cell_type": "markdown",
   "metadata": {
    "colab_type": "text",
    "id": "4x5xlGP4Z1Nn"
   },
   "source": [
    "### Create a table that contains all Audi vehicles with a city fuel efficiency greater than 18."
   ]
  },
  {
   "cell_type": "code",
   "execution_count": 31,
   "metadata": {
    "colab": {},
    "colab_type": "code",
    "id": "ZHX26MgOZ1No",
    "scrolled": true
   },
   "outputs": [
    {
     "data": {
      "text/plain": [
       "<sqlalchemy.engine.result.ResultProxy at 0x28e4ef56708>"
      ]
     },
     "execution_count": 31,
     "metadata": {},
     "output_type": "execute_result"
    }
   ],
   "source": [
    "create = \"\"\"\n",
    "CREATE TABLE IF NOT EXISTS audi AS\n",
    "SELECT * \n",
    "FROM vehicles \n",
    "WHERE make = 'Audi'and cty::int > 18\n",
    "\"\"\"\n",
    "#print(create)\n",
    "engine.execute(create)"
   ]
  },
  {
   "cell_type": "markdown",
   "metadata": {
    "colab_type": "text",
    "id": "i2i3ifCFZ1Nw"
   },
   "source": [
    "### Delete all records from the temp table you just created."
   ]
  },
  {
   "cell_type": "code",
   "execution_count": 34,
   "metadata": {
    "colab": {},
    "colab_type": "code",
    "id": "HPu_BDc0Z1Nw",
    "scrolled": true
   },
   "outputs": [
    {
     "data": {
      "text/plain": [
       "<sqlalchemy.engine.result.ResultProxy at 0x28e4f324bc8>"
      ]
     },
     "execution_count": 34,
     "metadata": {},
     "output_type": "execute_result"
    }
   ],
   "source": [
    "delete = \"\"\"\n",
    "delete FROM  audi\n",
    "\"\"\"\n",
    "engine.execute(delete)"
   ]
  },
  {
   "cell_type": "markdown",
   "metadata": {
    "colab_type": "text",
    "id": "aVCaVGsgZ1Nz"
   },
   "source": [
    "### Insert records from the vehicles table back into the table you created where the make is Audi and the city fuel efficiency is greater than 20."
   ]
  },
  {
   "cell_type": "code",
   "execution_count": 37,
   "metadata": {
    "colab": {},
    "colab_type": "code",
    "id": "_UHDkDEAZ1N0"
   },
   "outputs": [
    {
     "data": {
      "text/plain": [
       "<sqlalchemy.engine.result.ResultProxy at 0x28e521cba88>"
      ]
     },
     "execution_count": 37,
     "metadata": {},
     "output_type": "execute_result"
    }
   ],
   "source": [
    "insert = \"\"\"\n",
    "INSERT INTO audi \n",
    "SELECT * \n",
    "FROM vehicles \n",
    "WHERE make = 'Audi'and cty::int > 20\n",
    "\"\"\"\n",
    "engine.execute(insert)"
   ]
  },
  {
   "cell_type": "markdown",
   "metadata": {
    "colab_type": "text",
    "id": "Dp_A2JpjZ1N2"
   },
   "source": [
    "### Update the drive field of the records in the table you created to change any \"4-Wheel or All-Wheel Drive\" values to \"All-Wheel Drive.\""
   ]
  },
  {
   "cell_type": "code",
   "execution_count": 38,
   "metadata": {
    "colab": {},
    "colab_type": "code",
    "id": "1dH09T_vZ1N3"
   },
   "outputs": [
    {
     "data": {
      "text/plain": [
       "<sqlalchemy.engine.result.ResultProxy at 0x28e5223d408>"
      ]
     },
     "execution_count": 38,
     "metadata": {},
     "output_type": "execute_result"
    }
   ],
   "source": [
    "update = \"\"\"\n",
    "UPDATE audi \n",
    "SET drive = 'All-Wheel Drive'\n",
    "WHERE drive = '4-Wheel or All-Wheel Drive'\n",
    "\"\"\"\n",
    "engine.execute(update)"
   ]
  },
  {
   "cell_type": "markdown",
   "metadata": {
    "colab_type": "text",
    "id": "xwhxonZGZ1N5"
   },
   "source": [
    "### Write a for loop that iterates over the list of makes provided below, selects the top 10 vehicles with the highest city fuel efficiency for each make, and then concatenates all the results together into a single Pandas data frame."
   ]
  },
  {
   "cell_type": "code",
   "execution_count": 40,
   "metadata": {
    "colab": {},
    "colab_type": "code",
    "id": "LFwsUF9kZ1N6"
   },
   "outputs": [],
   "source": [
    "makes = ['Ford', 'Chevrolet', 'Toyota', 'Honda']"
   ]
  },
  {
   "cell_type": "code",
   "execution_count": 44,
   "metadata": {
    "colab": {},
    "colab_type": "code",
    "id": "YBEn8rcgZ1N9"
   },
   "outputs": [],
   "source": [
    "results = []\n",
    "\n",
    "for make in makes:\n",
    "    sql = \"SELECT * FROM vehicles WHERE make = '\" + make + \"' ORDER BY cty DESC LIMIT 10\"\n",
    "    \n",
    "    result = engine.execute(sql)\n",
    "    results.append(pd.DataFrame(result, columns=list(fields_df.Name)))\n",
    "results_df = pd.concat(results)"
   ]
  },
  {
   "cell_type": "code",
   "execution_count": 45,
   "metadata": {},
   "outputs": [
    {
     "data": {
      "text/html": [
       "<div>\n",
       "<style scoped>\n",
       "    .dataframe tbody tr th:only-of-type {\n",
       "        vertical-align: middle;\n",
       "    }\n",
       "\n",
       "    .dataframe tbody tr th {\n",
       "        vertical-align: top;\n",
       "    }\n",
       "\n",
       "    .dataframe thead th {\n",
       "        text-align: right;\n",
       "    }\n",
       "</style>\n",
       "<table border=\"1\" class=\"dataframe\">\n",
       "  <thead>\n",
       "    <tr style=\"text-align: right;\">\n",
       "      <th></th>\n",
       "      <th>id</th>\n",
       "      <th>make</th>\n",
       "      <th>model</th>\n",
       "      <th>year</th>\n",
       "      <th>class</th>\n",
       "      <th>trans</th>\n",
       "      <th>drive</th>\n",
       "      <th>cyl</th>\n",
       "      <th>displ</th>\n",
       "      <th>fuel</th>\n",
       "      <th>hwy</th>\n",
       "      <th>cty</th>\n",
       "    </tr>\n",
       "  </thead>\n",
       "  <tbody>\n",
       "    <tr>\n",
       "      <th>0</th>\n",
       "      <td>1586</td>\n",
       "      <td>Ford</td>\n",
       "      <td>E250 Econoline 2WD</td>\n",
       "      <td>1985</td>\n",
       "      <td>Vans</td>\n",
       "      <td>Automatic 3-spd</td>\n",
       "      <td>Rear-Wheel Drive</td>\n",
       "      <td>8</td>\n",
       "      <td>5.8</td>\n",
       "      <td>Regular</td>\n",
       "      <td>10</td>\n",
       "      <td>9</td>\n",
       "    </tr>\n",
       "    <tr>\n",
       "      <th>1</th>\n",
       "      <td>28416</td>\n",
       "      <td>Ford</td>\n",
       "      <td>E150 Club Wagon 2WD</td>\n",
       "      <td>1984</td>\n",
       "      <td>Vans, Passenger Type</td>\n",
       "      <td>Automatic 3-spd</td>\n",
       "      <td>2-Wheel Drive</td>\n",
       "      <td>8</td>\n",
       "      <td>5.8</td>\n",
       "      <td>Regular</td>\n",
       "      <td>10</td>\n",
       "      <td>9</td>\n",
       "    </tr>\n",
       "    <tr>\n",
       "      <th>2</th>\n",
       "      <td>28394</td>\n",
       "      <td>Ford</td>\n",
       "      <td>E250 Econoline 2WD</td>\n",
       "      <td>1984</td>\n",
       "      <td>Vans, Cargo Type</td>\n",
       "      <td>Automatic 3-spd</td>\n",
       "      <td>2-Wheel Drive</td>\n",
       "      <td>8</td>\n",
       "      <td>5.8</td>\n",
       "      <td>Regular</td>\n",
       "      <td>10</td>\n",
       "      <td>9</td>\n",
       "    </tr>\n",
       "    <tr>\n",
       "      <th>3</th>\n",
       "      <td>30966</td>\n",
       "      <td>Ford</td>\n",
       "      <td>Ranger Pickup 2WD</td>\n",
       "      <td>2000</td>\n",
       "      <td>Standard Pickup Trucks 2WD</td>\n",
       "      <td>Automatic (A1)</td>\n",
       "      <td>2-Wheel Drive</td>\n",
       "      <td>NULL</td>\n",
       "      <td>NULL</td>\n",
       "      <td>Electricity</td>\n",
       "      <td>54</td>\n",
       "      <td>62</td>\n",
       "    </tr>\n",
       "    <tr>\n",
       "      <th>4</th>\n",
       "      <td>30965</td>\n",
       "      <td>Ford</td>\n",
       "      <td>Ranger Pickup 2WD</td>\n",
       "      <td>2001</td>\n",
       "      <td>Standard Pickup Trucks 2WD</td>\n",
       "      <td>Automatic (A1)</td>\n",
       "      <td>2-Wheel Drive</td>\n",
       "      <td>NULL</td>\n",
       "      <td>NULL</td>\n",
       "      <td>Electricity</td>\n",
       "      <td>54</td>\n",
       "      <td>62</td>\n",
       "    </tr>\n",
       "  </tbody>\n",
       "</table>\n",
       "</div>"
      ],
      "text/plain": [
       "      id  make                model  year                       class  \\\n",
       "0   1586  Ford   E250 Econoline 2WD  1985                        Vans   \n",
       "1  28416  Ford  E150 Club Wagon 2WD  1984        Vans, Passenger Type   \n",
       "2  28394  Ford   E250 Econoline 2WD  1984            Vans, Cargo Type   \n",
       "3  30966  Ford    Ranger Pickup 2WD  2000  Standard Pickup Trucks 2WD   \n",
       "4  30965  Ford    Ranger Pickup 2WD  2001  Standard Pickup Trucks 2WD   \n",
       "\n",
       "             trans             drive   cyl displ         fuel hwy cty  \n",
       "0  Automatic 3-spd  Rear-Wheel Drive     8   5.8      Regular  10   9  \n",
       "1  Automatic 3-spd     2-Wheel Drive     8   5.8      Regular  10   9  \n",
       "2  Automatic 3-spd     2-Wheel Drive     8   5.8      Regular  10   9  \n",
       "3   Automatic (A1)     2-Wheel Drive  NULL  NULL  Electricity  54  62  \n",
       "4   Automatic (A1)     2-Wheel Drive  NULL  NULL  Electricity  54  62  "
      ]
     },
     "execution_count": 45,
     "metadata": {},
     "output_type": "execute_result"
    }
   ],
   "source": [
    "results_df.head()"
   ]
  },
  {
   "cell_type": "code",
   "execution_count": null,
   "metadata": {},
   "outputs": [],
   "source": []
  }
 ],
 "metadata": {
  "colab": {
   "collapsed_sections": [],
   "name": "Day 10 Lecture 1 Assignment.ipynb",
   "provenance": []
  },
  "kernelspec": {
   "display_name": "Python 3",
   "language": "python",
   "name": "python3"
  },
  "language_info": {
   "codemirror_mode": {
    "name": "ipython",
    "version": 3
   },
   "file_extension": ".py",
   "mimetype": "text/x-python",
   "name": "python",
   "nbconvert_exporter": "python",
   "pygments_lexer": "ipython3",
   "version": "3.7.6"
  }
 },
 "nbformat": 4,
 "nbformat_minor": 1
}
