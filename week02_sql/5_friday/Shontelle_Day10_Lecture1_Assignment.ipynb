{
 "cells": [
  {
   "cell_type": "markdown",
   "metadata": {
    "colab_type": "text",
    "id": "j4BXTaq2Z1MZ"
   },
   "source": [
    "# SQL in Python Assignment"
   ]
  },
  {
   "cell_type": "code",
   "execution_count": 4,
   "metadata": {
    "colab": {},
    "colab_type": "code",
    "id": "-0y7sAJFZ1Mb"
   },
   "outputs": [],
   "source": [
    "import pandas as pd\n",
    "from sqlalchemy import *"
   ]
  },
  {
   "cell_type": "markdown",
   "metadata": {
    "colab_type": "text",
    "id": "JauBVkEEZ1NT"
   },
   "source": [
    "### Connect to the personal database you created yesterday.\n",
    "Remember the way the credentials work:\n",
    "```\n",
    "user = 'postgres' # Replace with your user, if different\n",
    "pwd = 'pAsSwOrD' # Replace with your password\n",
    "host = 'localhost'\n",
    "port = '5432'\n",
    "db = 'postgres' # Replace with your database name, if different\n",
    "```"
   ]
  },
  {
   "cell_type": "code",
   "execution_count": 5,
   "metadata": {
    "colab": {},
    "colab_type": "code",
    "id": "AUqXsg2nZ1NU",
    "scrolled": true
   },
   "outputs": [],
   "source": [
    "user = 'postgres'\n",
    "pwd = '4Seasons**'\n",
    "host = 'localhost'\n",
    "port = '5432'\n",
    "db = 'postgres'\n",
    "\n",
    "engine = create_engine('postgresql://' + user + ':' + pwd + '@' + host + ':' + port + '/' + db)"
   ]
  },
  {
   "cell_type": "markdown",
   "metadata": {
    "colab_type": "text",
    "id": "qtCZHZT9Z1NZ"
   },
   "source": [
    "### Obtain a list of tables that are in the database."
   ]
  },
  {
   "cell_type": "code",
   "execution_count": 6,
   "metadata": {
    "colab": {},
    "colab_type": "code",
    "id": "2eBYTPklZ1Na"
   },
   "outputs": [
    {
     "data": {
      "text/plain": [
       "['vehicles', 'houseprices']"
      ]
     },
     "execution_count": 6,
     "metadata": {},
     "output_type": "execute_result"
    }
   ],
   "source": [
    "engine.table_names()"
   ]
  },
  {
   "cell_type": "markdown",
   "metadata": {
    "colab_type": "text",
    "id": "V_iAGanZZ1Ne"
   },
   "source": [
    "### Obtain a list of all the fields that are in the vehicles table along with the data type of each."
   ]
  },
  {
   "cell_type": "code",
   "execution_count": 9,
   "metadata": {
    "colab": {},
    "colab_type": "code",
    "id": "r-9KdZbJZ1Ne",
    "scrolled": true
   },
   "outputs": [
    {
     "data": {
      "text/html": [
       "<div>\n",
       "<style scoped>\n",
       "    .dataframe tbody tr th:only-of-type {\n",
       "        vertical-align: middle;\n",
       "    }\n",
       "\n",
       "    .dataframe tbody tr th {\n",
       "        vertical-align: top;\n",
       "    }\n",
       "\n",
       "    .dataframe thead th {\n",
       "        text-align: right;\n",
       "    }\n",
       "</style>\n",
       "<table border=\"1\" class=\"dataframe\">\n",
       "  <thead>\n",
       "    <tr style=\"text-align: right;\">\n",
       "      <th></th>\n",
       "      <th>Name</th>\n",
       "      <th>Type</th>\n",
       "    </tr>\n",
       "  </thead>\n",
       "  <tbody>\n",
       "    <tr>\n",
       "      <th>0</th>\n",
       "      <td>id</td>\n",
       "      <td>BIGINT</td>\n",
       "    </tr>\n",
       "    <tr>\n",
       "      <th>1</th>\n",
       "      <td>make</td>\n",
       "      <td>TEXT</td>\n",
       "    </tr>\n",
       "    <tr>\n",
       "      <th>2</th>\n",
       "      <td>model</td>\n",
       "      <td>TEXT</td>\n",
       "    </tr>\n",
       "    <tr>\n",
       "      <th>3</th>\n",
       "      <td>year</td>\n",
       "      <td>BIGINT</td>\n",
       "    </tr>\n",
       "    <tr>\n",
       "      <th>4</th>\n",
       "      <td>class</td>\n",
       "      <td>TEXT</td>\n",
       "    </tr>\n",
       "    <tr>\n",
       "      <th>5</th>\n",
       "      <td>trans</td>\n",
       "      <td>TEXT</td>\n",
       "    </tr>\n",
       "    <tr>\n",
       "      <th>6</th>\n",
       "      <td>drive</td>\n",
       "      <td>TEXT</td>\n",
       "    </tr>\n",
       "    <tr>\n",
       "      <th>7</th>\n",
       "      <td>cyl</td>\n",
       "      <td>DOUBLE PRECISION</td>\n",
       "    </tr>\n",
       "    <tr>\n",
       "      <th>8</th>\n",
       "      <td>displ</td>\n",
       "      <td>DOUBLE PRECISION</td>\n",
       "    </tr>\n",
       "    <tr>\n",
       "      <th>9</th>\n",
       "      <td>fuel</td>\n",
       "      <td>TEXT</td>\n",
       "    </tr>\n",
       "    <tr>\n",
       "      <th>10</th>\n",
       "      <td>hwy</td>\n",
       "      <td>BIGINT</td>\n",
       "    </tr>\n",
       "    <tr>\n",
       "      <th>11</th>\n",
       "      <td>cty</td>\n",
       "      <td>BIGINT</td>\n",
       "    </tr>\n",
       "  </tbody>\n",
       "</table>\n",
       "</div>"
      ],
      "text/plain": [
       "     Name              Type\n",
       "0      id            BIGINT\n",
       "1    make              TEXT\n",
       "2   model              TEXT\n",
       "3    year            BIGINT\n",
       "4   class              TEXT\n",
       "5   trans              TEXT\n",
       "6   drive              TEXT\n",
       "7     cyl  DOUBLE PRECISION\n",
       "8   displ  DOUBLE PRECISION\n",
       "9    fuel              TEXT\n",
       "10    hwy            BIGINT\n",
       "11    cty            BIGINT"
      ]
     },
     "execution_count": 9,
     "metadata": {},
     "output_type": "execute_result"
    }
   ],
   "source": [
    "meta = MetaData()\n",
    "\n",
    "vehicles = Table('vehicles', meta, autoload=True, autoload_with=engine)\n",
    "fields = [(c.name, c.type) for c in vehicles.columns]\n",
    "fields_df = pd.DataFrame(fields, columns=['Name', 'Type'])\n",
    "fields_df"
   ]
  },
  {
   "cell_type": "markdown",
   "metadata": {
    "colab_type": "text",
    "id": "VLd7otVVZ1Nh"
   },
   "source": [
    "### Write a SELECT query to retrieve all records from the database and load them into a Pandas data frame."
   ]
  },
  {
   "cell_type": "code",
   "execution_count": 10,
   "metadata": {
    "colab": {},
    "colab_type": "code",
    "id": "yeV7sCISZ1Ni"
   },
   "outputs": [
    {
     "data": {
      "text/html": [
       "<div>\n",
       "<style scoped>\n",
       "    .dataframe tbody tr th:only-of-type {\n",
       "        vertical-align: middle;\n",
       "    }\n",
       "\n",
       "    .dataframe tbody tr th {\n",
       "        vertical-align: top;\n",
       "    }\n",
       "\n",
       "    .dataframe thead th {\n",
       "        text-align: right;\n",
       "    }\n",
       "</style>\n",
       "<table border=\"1\" class=\"dataframe\">\n",
       "  <thead>\n",
       "    <tr style=\"text-align: right;\">\n",
       "      <th></th>\n",
       "      <th>id</th>\n",
       "      <th>make</th>\n",
       "      <th>model</th>\n",
       "      <th>year</th>\n",
       "      <th>class</th>\n",
       "      <th>trans</th>\n",
       "      <th>drive</th>\n",
       "      <th>cyl</th>\n",
       "      <th>displ</th>\n",
       "      <th>fuel</th>\n",
       "      <th>hwy</th>\n",
       "      <th>cty</th>\n",
       "    </tr>\n",
       "  </thead>\n",
       "  <tbody>\n",
       "    <tr>\n",
       "      <th>0</th>\n",
       "      <td>27550</td>\n",
       "      <td>AM General</td>\n",
       "      <td>DJ Po Vehicle 2WD</td>\n",
       "      <td>1984</td>\n",
       "      <td>Special Purpose Vehicle 2WD</td>\n",
       "      <td>Automatic 3-spd</td>\n",
       "      <td>2-Wheel Drive</td>\n",
       "      <td>4.0</td>\n",
       "      <td>2.5</td>\n",
       "      <td>Regular</td>\n",
       "      <td>17</td>\n",
       "      <td>18</td>\n",
       "    </tr>\n",
       "    <tr>\n",
       "      <th>1</th>\n",
       "      <td>28426</td>\n",
       "      <td>AM General</td>\n",
       "      <td>DJ Po Vehicle 2WD</td>\n",
       "      <td>1984</td>\n",
       "      <td>Special Purpose Vehicle 2WD</td>\n",
       "      <td>Automatic 3-spd</td>\n",
       "      <td>2-Wheel Drive</td>\n",
       "      <td>4.0</td>\n",
       "      <td>2.5</td>\n",
       "      <td>Regular</td>\n",
       "      <td>17</td>\n",
       "      <td>18</td>\n",
       "    </tr>\n",
       "    <tr>\n",
       "      <th>2</th>\n",
       "      <td>27549</td>\n",
       "      <td>AM General</td>\n",
       "      <td>FJ8c Post Office</td>\n",
       "      <td>1984</td>\n",
       "      <td>Special Purpose Vehicle 2WD</td>\n",
       "      <td>Automatic 3-spd</td>\n",
       "      <td>2-Wheel Drive</td>\n",
       "      <td>6.0</td>\n",
       "      <td>4.2</td>\n",
       "      <td>Regular</td>\n",
       "      <td>13</td>\n",
       "      <td>13</td>\n",
       "    </tr>\n",
       "    <tr>\n",
       "      <th>3</th>\n",
       "      <td>28425</td>\n",
       "      <td>AM General</td>\n",
       "      <td>FJ8c Post Office</td>\n",
       "      <td>1984</td>\n",
       "      <td>Special Purpose Vehicle 2WD</td>\n",
       "      <td>Automatic 3-spd</td>\n",
       "      <td>2-Wheel Drive</td>\n",
       "      <td>6.0</td>\n",
       "      <td>4.2</td>\n",
       "      <td>Regular</td>\n",
       "      <td>13</td>\n",
       "      <td>13</td>\n",
       "    </tr>\n",
       "    <tr>\n",
       "      <th>4</th>\n",
       "      <td>1032</td>\n",
       "      <td>AM General</td>\n",
       "      <td>Post Office DJ5 2WD</td>\n",
       "      <td>1985</td>\n",
       "      <td>Special Purpose Vehicle 2WD</td>\n",
       "      <td>Automatic 3-spd</td>\n",
       "      <td>Rear-Wheel Drive</td>\n",
       "      <td>4.0</td>\n",
       "      <td>2.5</td>\n",
       "      <td>Regular</td>\n",
       "      <td>17</td>\n",
       "      <td>16</td>\n",
       "    </tr>\n",
       "    <tr>\n",
       "      <th>5</th>\n",
       "      <td>1033</td>\n",
       "      <td>AM General</td>\n",
       "      <td>Post Office DJ8 2WD</td>\n",
       "      <td>1985</td>\n",
       "      <td>Special Purpose Vehicle 2WD</td>\n",
       "      <td>Automatic 3-spd</td>\n",
       "      <td>Rear-Wheel Drive</td>\n",
       "      <td>6.0</td>\n",
       "      <td>4.2</td>\n",
       "      <td>Regular</td>\n",
       "      <td>13</td>\n",
       "      <td>13</td>\n",
       "    </tr>\n",
       "    <tr>\n",
       "      <th>6</th>\n",
       "      <td>3347</td>\n",
       "      <td>ASC Incorporated</td>\n",
       "      <td>GNX</td>\n",
       "      <td>1987</td>\n",
       "      <td>Midsize Cars</td>\n",
       "      <td>Automatic 4-spd</td>\n",
       "      <td>Rear-Wheel Drive</td>\n",
       "      <td>6.0</td>\n",
       "      <td>3.8</td>\n",
       "      <td>Premium</td>\n",
       "      <td>21</td>\n",
       "      <td>14</td>\n",
       "    </tr>\n",
       "    <tr>\n",
       "      <th>7</th>\n",
       "      <td>13309</td>\n",
       "      <td>Acura</td>\n",
       "      <td>2.2CL/3.0CL</td>\n",
       "      <td>1997</td>\n",
       "      <td>Subcompact Cars</td>\n",
       "      <td>Automatic 4-spd</td>\n",
       "      <td>Front-Wheel Drive</td>\n",
       "      <td>4.0</td>\n",
       "      <td>2.2</td>\n",
       "      <td>Regular</td>\n",
       "      <td>26</td>\n",
       "      <td>20</td>\n",
       "    </tr>\n",
       "    <tr>\n",
       "      <th>8</th>\n",
       "      <td>13310</td>\n",
       "      <td>Acura</td>\n",
       "      <td>2.2CL/3.0CL</td>\n",
       "      <td>1997</td>\n",
       "      <td>Subcompact Cars</td>\n",
       "      <td>Manual 5-spd</td>\n",
       "      <td>Front-Wheel Drive</td>\n",
       "      <td>4.0</td>\n",
       "      <td>2.2</td>\n",
       "      <td>Regular</td>\n",
       "      <td>28</td>\n",
       "      <td>22</td>\n",
       "    </tr>\n",
       "    <tr>\n",
       "      <th>9</th>\n",
       "      <td>13311</td>\n",
       "      <td>Acura</td>\n",
       "      <td>2.2CL/3.0CL</td>\n",
       "      <td>1997</td>\n",
       "      <td>Subcompact Cars</td>\n",
       "      <td>Automatic 4-spd</td>\n",
       "      <td>Front-Wheel Drive</td>\n",
       "      <td>6.0</td>\n",
       "      <td>3.0</td>\n",
       "      <td>Regular</td>\n",
       "      <td>26</td>\n",
       "      <td>18</td>\n",
       "    </tr>\n",
       "  </tbody>\n",
       "</table>\n",
       "</div>"
      ],
      "text/plain": [
       "      id              make                model  year  \\\n",
       "0  27550        AM General    DJ Po Vehicle 2WD  1984   \n",
       "1  28426        AM General    DJ Po Vehicle 2WD  1984   \n",
       "2  27549        AM General     FJ8c Post Office  1984   \n",
       "3  28425        AM General     FJ8c Post Office  1984   \n",
       "4   1032        AM General  Post Office DJ5 2WD  1985   \n",
       "5   1033        AM General  Post Office DJ8 2WD  1985   \n",
       "6   3347  ASC Incorporated                  GNX  1987   \n",
       "7  13309             Acura          2.2CL/3.0CL  1997   \n",
       "8  13310             Acura          2.2CL/3.0CL  1997   \n",
       "9  13311             Acura          2.2CL/3.0CL  1997   \n",
       "\n",
       "                         class            trans              drive  cyl  \\\n",
       "0  Special Purpose Vehicle 2WD  Automatic 3-spd      2-Wheel Drive  4.0   \n",
       "1  Special Purpose Vehicle 2WD  Automatic 3-spd      2-Wheel Drive  4.0   \n",
       "2  Special Purpose Vehicle 2WD  Automatic 3-spd      2-Wheel Drive  6.0   \n",
       "3  Special Purpose Vehicle 2WD  Automatic 3-spd      2-Wheel Drive  6.0   \n",
       "4  Special Purpose Vehicle 2WD  Automatic 3-spd   Rear-Wheel Drive  4.0   \n",
       "5  Special Purpose Vehicle 2WD  Automatic 3-spd   Rear-Wheel Drive  6.0   \n",
       "6                 Midsize Cars  Automatic 4-spd   Rear-Wheel Drive  6.0   \n",
       "7              Subcompact Cars  Automatic 4-spd  Front-Wheel Drive  4.0   \n",
       "8              Subcompact Cars     Manual 5-spd  Front-Wheel Drive  4.0   \n",
       "9              Subcompact Cars  Automatic 4-spd  Front-Wheel Drive  6.0   \n",
       "\n",
       "   displ     fuel  hwy  cty  \n",
       "0    2.5  Regular   17   18  \n",
       "1    2.5  Regular   17   18  \n",
       "2    4.2  Regular   13   13  \n",
       "3    4.2  Regular   13   13  \n",
       "4    2.5  Regular   17   16  \n",
       "5    4.2  Regular   13   13  \n",
       "6    3.8  Premium   21   14  \n",
       "7    2.2  Regular   26   20  \n",
       "8    2.2  Regular   28   22  \n",
       "9    3.0  Regular   26   18  "
      ]
     },
     "execution_count": 10,
     "metadata": {},
     "output_type": "execute_result"
    }
   ],
   "source": [
    "sql = '''\n",
    "SELECT * \n",
    "FROM vehicles;\n",
    "'''\n",
    "\n",
    "results = engine.execute(sql)\n",
    "results_df = pd.DataFrame(results, columns=list(fields_df.Name))\n",
    "results_df.head(10)"
   ]
  },
  {
   "cell_type": "markdown",
   "metadata": {
    "colab_type": "text",
    "id": "4x5xlGP4Z1Nn"
   },
   "source": [
    "### Create a table that contains all Audi vehicles with a city fuel efficiency greater than 18."
   ]
  },
  {
   "cell_type": "code",
   "execution_count": 11,
   "metadata": {
    "colab": {},
    "colab_type": "code",
    "id": "ZHX26MgOZ1No",
    "scrolled": true
   },
   "outputs": [
    {
     "data": {
      "text/plain": [
       "<sqlalchemy.engine.result.ResultProxy at 0x7ffcbfceee80>"
      ]
     },
     "execution_count": 11,
     "metadata": {},
     "output_type": "execute_result"
    }
   ],
   "source": [
    "create = '''\n",
    "CREATE TABLE IF NOT EXISTS audi AS\n",
    "SELECT *\n",
    "FROM vehicles\n",
    "WHERE make = 'Audi'\n",
    "AND cty > 18\n",
    "'''\n",
    "\n",
    "engine.execute(create)"
   ]
  },
  {
   "cell_type": "markdown",
   "metadata": {
    "colab_type": "text",
    "id": "i2i3ifCFZ1Nw"
   },
   "source": [
    "### Delete all records from the temp table you just created."
   ]
  },
  {
   "cell_type": "code",
   "execution_count": 12,
   "metadata": {
    "colab": {},
    "colab_type": "code",
    "id": "HPu_BDc0Z1Nw",
    "scrolled": true
   },
   "outputs": [
    {
     "data": {
      "text/plain": [
       "<sqlalchemy.engine.result.ResultProxy at 0x7ffcbfceeb80>"
      ]
     },
     "execution_count": 12,
     "metadata": {},
     "output_type": "execute_result"
    }
   ],
   "source": [
    "delete = 'DELETE FROM audi;'\n",
    "engine.execute(delete)"
   ]
  },
  {
   "cell_type": "markdown",
   "metadata": {
    "colab_type": "text",
    "id": "aVCaVGsgZ1Nz"
   },
   "source": [
    "### Insert records from the vehicles table back into the table you created where the make is Audi and the city fuel efficiency is greater than 20."
   ]
  },
  {
   "cell_type": "code",
   "execution_count": 13,
   "metadata": {
    "colab": {},
    "colab_type": "code",
    "id": "_UHDkDEAZ1N0"
   },
   "outputs": [
    {
     "data": {
      "text/plain": [
       "<sqlalchemy.engine.result.ResultProxy at 0x7ffcbfceeca0>"
      ]
     },
     "execution_count": 13,
     "metadata": {},
     "output_type": "execute_result"
    }
   ],
   "source": [
    "insert = '''\n",
    "INSERT INTO audi\n",
    "SELECT *\n",
    "FROM vehicles\n",
    "WHERE make = 'Audi'\n",
    "AND cty > 20\n",
    "'''\n",
    "\n",
    "engine.execute(insert)"
   ]
  },
  {
   "cell_type": "markdown",
   "metadata": {
    "colab_type": "text",
    "id": "Dp_A2JpjZ1N2"
   },
   "source": [
    "### Update the drive field of the records in the table you created to change any \"4-Wheel or All-Wheel Drive\" values to \"All-Wheel Drive.\""
   ]
  },
  {
   "cell_type": "code",
   "execution_count": 14,
   "metadata": {
    "colab": {},
    "colab_type": "code",
    "id": "1dH09T_vZ1N3"
   },
   "outputs": [
    {
     "data": {
      "text/plain": [
       "<sqlalchemy.engine.result.ResultProxy at 0x7ffcbf203340>"
      ]
     },
     "execution_count": 14,
     "metadata": {},
     "output_type": "execute_result"
    }
   ],
   "source": [
    "update = '''\n",
    "UPDATE audi\n",
    "SET drive = 'All-Wheel Drive'\n",
    "WHERE drive = '4-Wheel or All-Wheel Drive'\n",
    "'''\n",
    "\n",
    "engine.execute(update)"
   ]
  },
  {
   "cell_type": "markdown",
   "metadata": {
    "colab_type": "text",
    "id": "xwhxonZGZ1N5"
   },
   "source": [
    "### Write a for loop that iterates over the list of makes provided below, selects the top 10 vehicles with the highest city fuel efficiency for each make, and then concatenates all the results together into a single Pandas data frame."
   ]
  },
  {
   "cell_type": "code",
   "execution_count": 15,
   "metadata": {
    "colab": {},
    "colab_type": "code",
    "id": "LFwsUF9kZ1N6"
   },
   "outputs": [],
   "source": [
    "makes = ['Ford', 'Chevrolet', 'Toyota', 'Honda']"
   ]
  },
  {
   "cell_type": "code",
   "execution_count": 16,
   "metadata": {
    "colab": {},
    "colab_type": "code",
    "id": "YBEn8rcgZ1N9"
   },
   "outputs": [],
   "source": [
    "results = []\n",
    "\n",
    "for make in makes:\n",
    "    sql = \"SELECT * FROM vehicles WHERE make = '\" + make + \"' ORDER BY cty DESC LIMIT 10\"\n",
    "    \n",
    "    result = engine.execute(sql)\n",
    "    results.append(pd.DataFrame(result, columns=list(fields_df.Name)))\n",
    "    \n",
    "results_df = pd.concat(results)"
   ]
  },
  {
   "cell_type": "code",
   "execution_count": null,
   "metadata": {},
   "outputs": [],
   "source": []
  }
 ],
 "metadata": {
  "colab": {
   "collapsed_sections": [],
   "name": "Day 10 Lecture 1 Assignment.ipynb",
   "provenance": []
  },
  "kernelspec": {
   "display_name": "Python 3",
   "language": "python",
   "name": "python3"
  },
  "language_info": {
   "codemirror_mode": {
    "name": "ipython",
    "version": 3
   },
   "file_extension": ".py",
   "mimetype": "text/x-python",
   "name": "python",
   "nbconvert_exporter": "python",
   "pygments_lexer": "ipython3",
   "version": "3.8.3"
  }
 },
 "nbformat": 4,
 "nbformat_minor": 1
}
