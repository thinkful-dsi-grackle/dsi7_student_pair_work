{
  "nbformat": 4,
  "nbformat_minor": 0,
  "metadata": {
    "kernelspec": {
      "display_name": "Python 3.8.5 32-bit",
      "language": "python",
      "name": "python_defaultSpec_1600441119791"
    },
    "language_info": {
      "codemirror_mode": {
        "name": "ipython",
        "version": 3
      },
      "file_extension": ".py",
      "mimetype": "text/x-python",
      "name": "python",
      "nbconvert_exporter": "python",
      "pygments_lexer": "ipython3",
      "version": "3.8.5-final"
    },
    "colab": {
      "name": "Day 10 Lecture 1 Assignment.ipynb",
      "provenance": [],
      "collapsed_sections": []
    }
  },
  "cells": [
    {
      "cell_type": "markdown",
      "metadata": {
        "id": "j4BXTaq2Z1MZ",
        "colab_type": "text"
      },
      "source": [
        "# SQL in Python Assignment"
      ]
    },
    {
      "cell_type": "code",
      "metadata": {
        "id": "-0y7sAJFZ1Mb",
        "colab_type": "code",
        "colab": {}
      },
      "source": [
        "import pandas as pd\n",
        "from sqlalchemy import *"
      ],
      "execution_count": 4,
      "outputs": []
    },
    {
      "cell_type": "markdown",
      "metadata": {
        "id": "JauBVkEEZ1NT",
        "colab_type": "text"
      },
      "source": [
        "### Connect to the personal database you created yesterday.\n",
        "Remember the way the credentials work:\n",
        "```\n",
        "user = 'postgres' # Replace with your user, if different\n",
        "pwd = 'pAsSwOrD' # Replace with your password\n",
        "host = 'localhost'\n",
        "port = '5432'\n",
        "db = 'postgres' # Replace with your database name, if different\n",
        "```"
      ]
    },
    {
      "cell_type": "code",
      "execution_count": 16,
      "metadata": {},
      "outputs": [],
      "source": [
        "user = 'dsbc_student'\n",
        "pw = '7*.8G9QH21'\n",
        "host = '142.93.121.174'\n",
        "port = '5432'\n",
        "db = 'fueleconomy'\n",
        "\n",
        "engine = create_engine('postgresql://{}:{}@{}:{}/{}'.format(\n",
        "    user, pw, host, port, db))"
      ]
    },
    {
      "cell_type": "markdown",
      "metadata": {
        "id": "qtCZHZT9Z1NZ",
        "colab_type": "text"
      },
      "source": [
        "### Obtain a list of tables that are in the database."
      ]
    },
    {
      "cell_type": "code",
      "metadata": {
        "id": "2eBYTPklZ1Na",
        "colab_type": "code",
        "colab": {}
      },
      "source": [
        "engine.table_names()"
      ],
      "execution_count": 17,
      "outputs": [
        {
          "output_type": "execute_result",
          "data": {
            "text/plain": "['vehicles', 'common']"
          },
          "metadata": {},
          "execution_count": 17
        }
      ]
    },
    {
      "cell_type": "markdown",
      "metadata": {
        "id": "V_iAGanZZ1Ne",
        "colab_type": "text"
      },
      "source": [
        "### Obtain a list of all the fields that are in the vehicles table along with the data type of each."
      ]
    },
    {
      "cell_type": "code",
      "metadata": {
        "scrolled": true,
        "id": "r-9KdZbJZ1Ne",
        "colab_type": "code",
        "colab": {}
      },
      "source": [
        "meta = MetaData()\n",
        "vehicles = Table('vehicles', meta, autoload=True, autoload_with=engine)\n",
        "fields = [(c.name, c.type) for c in vehicles.columns]\n",
        "fields_df = pd.DataFrame(fields, columns =['Name', 'Type'])\n",
        "fields_df"
      ],
      "execution_count": 20,
      "outputs": [
        {
          "output_type": "execute_result",
          "data": {
            "text/plain": "     Name      Type\n0      id   INTEGER\n1    make   VARCHAR\n2   model   VARCHAR\n3    year   INTEGER\n4   class   VARCHAR\n5   trans   VARCHAR\n6   drive   VARCHAR\n7     cyl  SMALLINT\n8   displ      REAL\n9    fuel   VARCHAR\n10    hwy  SMALLINT\n11    cty  SMALLINT",
            "text/html": "<div>\n<style scoped>\n    .dataframe tbody tr th:only-of-type {\n        vertical-align: middle;\n    }\n\n    .dataframe tbody tr th {\n        vertical-align: top;\n    }\n\n    .dataframe thead th {\n        text-align: right;\n    }\n</style>\n<table border=\"1\" class=\"dataframe\">\n  <thead>\n    <tr style=\"text-align: right;\">\n      <th></th>\n      <th>Name</th>\n      <th>Type</th>\n    </tr>\n  </thead>\n  <tbody>\n    <tr>\n      <th>0</th>\n      <td>id</td>\n      <td>INTEGER</td>\n    </tr>\n    <tr>\n      <th>1</th>\n      <td>make</td>\n      <td>VARCHAR</td>\n    </tr>\n    <tr>\n      <th>2</th>\n      <td>model</td>\n      <td>VARCHAR</td>\n    </tr>\n    <tr>\n      <th>3</th>\n      <td>year</td>\n      <td>INTEGER</td>\n    </tr>\n    <tr>\n      <th>4</th>\n      <td>class</td>\n      <td>VARCHAR</td>\n    </tr>\n    <tr>\n      <th>5</th>\n      <td>trans</td>\n      <td>VARCHAR</td>\n    </tr>\n    <tr>\n      <th>6</th>\n      <td>drive</td>\n      <td>VARCHAR</td>\n    </tr>\n    <tr>\n      <th>7</th>\n      <td>cyl</td>\n      <td>SMALLINT</td>\n    </tr>\n    <tr>\n      <th>8</th>\n      <td>displ</td>\n      <td>REAL</td>\n    </tr>\n    <tr>\n      <th>9</th>\n      <td>fuel</td>\n      <td>VARCHAR</td>\n    </tr>\n    <tr>\n      <th>10</th>\n      <td>hwy</td>\n      <td>SMALLINT</td>\n    </tr>\n    <tr>\n      <th>11</th>\n      <td>cty</td>\n      <td>SMALLINT</td>\n    </tr>\n  </tbody>\n</table>\n</div>"
          },
          "metadata": {},
          "execution_count": 20
        }
      ]
    },
    {
      "cell_type": "markdown",
      "metadata": {
        "id": "VLd7otVVZ1Nh",
        "colab_type": "text"
      },
      "source": [
        "### Write a SELECT query to retrieve all records from the database and load them into a Pandas data frame."
      ]
    },
    {
      "cell_type": "code",
      "metadata": {
        "id": "yeV7sCISZ1Ni",
        "colab_type": "code",
        "colab": {}
      },
      "source": [
        "sql = \"\"\"\n",
        "SELECT * FROM vehicles;\n",
        "\"\"\"\n",
        "results = pd.read_sql_query(sql, con=engine, index_col='id')\n",
        "results"
      ],
      "execution_count": 22,
      "outputs": [
        {
          "output_type": "execute_result",
          "data": {
            "text/plain": "             make                              model  year  \\\nid                                                           \n27550  AM General                  DJ Po Vehicle 2WD  1984   \n28426  AM General                  DJ Po Vehicle 2WD  1984   \n27549  AM General                   FJ8c Post Office  1984   \n28425  AM General                   FJ8c Post Office  1984   \n1032   AM General                Post Office DJ5 2WD  1985   \n...           ...                                ...   ...   \n33305       smart  fortwo electric drive convertible  2013   \n34393       smart  fortwo electric drive convertible  2014   \n31065       smart        fortwo electric drive coupe  2011   \n33306       smart        fortwo electric drive coupe  2013   \n34394       smart        fortwo electric drive coupe  2014   \n\n                             class            trans             drive  cyl  \\\nid                                                                           \n27550  Special Purpose Vehicle 2WD  Automatic 3-spd     2-Wheel Drive  4.0   \n28426  Special Purpose Vehicle 2WD  Automatic 3-spd     2-Wheel Drive  4.0   \n27549  Special Purpose Vehicle 2WD  Automatic 3-spd     2-Wheel Drive  6.0   \n28425  Special Purpose Vehicle 2WD  Automatic 3-spd     2-Wheel Drive  6.0   \n1032   Special Purpose Vehicle 2WD  Automatic 3-spd  Rear-Wheel Drive  4.0   \n...                            ...              ...               ...  ...   \n33305                  Two Seaters   Automatic (A1)  Rear-Wheel Drive  NaN   \n34393                  Two Seaters   Automatic (A1)  Rear-Wheel Drive  NaN   \n31065                  Two Seaters   Automatic (A1)  Rear-Wheel Drive  NaN   \n33306                  Two Seaters   Automatic (A1)  Rear-Wheel Drive  NaN   \n34394                  Two Seaters   Automatic (A1)  Rear-Wheel Drive  NaN   \n\n       displ         fuel  hwy  cty  \nid                                   \n27550    2.5      Regular   17   18  \n28426    2.5      Regular   17   18  \n27549    4.2      Regular   13   13  \n28425    4.2      Regular   13   13  \n1032     2.5      Regular   17   16  \n...      ...          ...  ...  ...  \n33305    NaN  Electricity   93  122  \n34393    NaN  Electricity   93  122  \n31065    NaN  Electricity   79   94  \n33306    NaN  Electricity   93  122  \n34394    NaN  Electricity   93  122  \n\n[33442 rows x 11 columns]",
            "text/html": "<div>\n<style scoped>\n    .dataframe tbody tr th:only-of-type {\n        vertical-align: middle;\n    }\n\n    .dataframe tbody tr th {\n        vertical-align: top;\n    }\n\n    .dataframe thead th {\n        text-align: right;\n    }\n</style>\n<table border=\"1\" class=\"dataframe\">\n  <thead>\n    <tr style=\"text-align: right;\">\n      <th></th>\n      <th>make</th>\n      <th>model</th>\n      <th>year</th>\n      <th>class</th>\n      <th>trans</th>\n      <th>drive</th>\n      <th>cyl</th>\n      <th>displ</th>\n      <th>fuel</th>\n      <th>hwy</th>\n      <th>cty</th>\n    </tr>\n    <tr>\n      <th>id</th>\n      <th></th>\n      <th></th>\n      <th></th>\n      <th></th>\n      <th></th>\n      <th></th>\n      <th></th>\n      <th></th>\n      <th></th>\n      <th></th>\n      <th></th>\n    </tr>\n  </thead>\n  <tbody>\n    <tr>\n      <th>27550</th>\n      <td>AM General</td>\n      <td>DJ Po Vehicle 2WD</td>\n      <td>1984</td>\n      <td>Special Purpose Vehicle 2WD</td>\n      <td>Automatic 3-spd</td>\n      <td>2-Wheel Drive</td>\n      <td>4.0</td>\n      <td>2.5</td>\n      <td>Regular</td>\n      <td>17</td>\n      <td>18</td>\n    </tr>\n    <tr>\n      <th>28426</th>\n      <td>AM General</td>\n      <td>DJ Po Vehicle 2WD</td>\n      <td>1984</td>\n      <td>Special Purpose Vehicle 2WD</td>\n      <td>Automatic 3-spd</td>\n      <td>2-Wheel Drive</td>\n      <td>4.0</td>\n      <td>2.5</td>\n      <td>Regular</td>\n      <td>17</td>\n      <td>18</td>\n    </tr>\n    <tr>\n      <th>27549</th>\n      <td>AM General</td>\n      <td>FJ8c Post Office</td>\n      <td>1984</td>\n      <td>Special Purpose Vehicle 2WD</td>\n      <td>Automatic 3-spd</td>\n      <td>2-Wheel Drive</td>\n      <td>6.0</td>\n      <td>4.2</td>\n      <td>Regular</td>\n      <td>13</td>\n      <td>13</td>\n    </tr>\n    <tr>\n      <th>28425</th>\n      <td>AM General</td>\n      <td>FJ8c Post Office</td>\n      <td>1984</td>\n      <td>Special Purpose Vehicle 2WD</td>\n      <td>Automatic 3-spd</td>\n      <td>2-Wheel Drive</td>\n      <td>6.0</td>\n      <td>4.2</td>\n      <td>Regular</td>\n      <td>13</td>\n      <td>13</td>\n    </tr>\n    <tr>\n      <th>1032</th>\n      <td>AM General</td>\n      <td>Post Office DJ5 2WD</td>\n      <td>1985</td>\n      <td>Special Purpose Vehicle 2WD</td>\n      <td>Automatic 3-spd</td>\n      <td>Rear-Wheel Drive</td>\n      <td>4.0</td>\n      <td>2.5</td>\n      <td>Regular</td>\n      <td>17</td>\n      <td>16</td>\n    </tr>\n    <tr>\n      <th>...</th>\n      <td>...</td>\n      <td>...</td>\n      <td>...</td>\n      <td>...</td>\n      <td>...</td>\n      <td>...</td>\n      <td>...</td>\n      <td>...</td>\n      <td>...</td>\n      <td>...</td>\n      <td>...</td>\n    </tr>\n    <tr>\n      <th>33305</th>\n      <td>smart</td>\n      <td>fortwo electric drive convertible</td>\n      <td>2013</td>\n      <td>Two Seaters</td>\n      <td>Automatic (A1)</td>\n      <td>Rear-Wheel Drive</td>\n      <td>NaN</td>\n      <td>NaN</td>\n      <td>Electricity</td>\n      <td>93</td>\n      <td>122</td>\n    </tr>\n    <tr>\n      <th>34393</th>\n      <td>smart</td>\n      <td>fortwo electric drive convertible</td>\n      <td>2014</td>\n      <td>Two Seaters</td>\n      <td>Automatic (A1)</td>\n      <td>Rear-Wheel Drive</td>\n      <td>NaN</td>\n      <td>NaN</td>\n      <td>Electricity</td>\n      <td>93</td>\n      <td>122</td>\n    </tr>\n    <tr>\n      <th>31065</th>\n      <td>smart</td>\n      <td>fortwo electric drive coupe</td>\n      <td>2011</td>\n      <td>Two Seaters</td>\n      <td>Automatic (A1)</td>\n      <td>Rear-Wheel Drive</td>\n      <td>NaN</td>\n      <td>NaN</td>\n      <td>Electricity</td>\n      <td>79</td>\n      <td>94</td>\n    </tr>\n    <tr>\n      <th>33306</th>\n      <td>smart</td>\n      <td>fortwo electric drive coupe</td>\n      <td>2013</td>\n      <td>Two Seaters</td>\n      <td>Automatic (A1)</td>\n      <td>Rear-Wheel Drive</td>\n      <td>NaN</td>\n      <td>NaN</td>\n      <td>Electricity</td>\n      <td>93</td>\n      <td>122</td>\n    </tr>\n    <tr>\n      <th>34394</th>\n      <td>smart</td>\n      <td>fortwo electric drive coupe</td>\n      <td>2014</td>\n      <td>Two Seaters</td>\n      <td>Automatic (A1)</td>\n      <td>Rear-Wheel Drive</td>\n      <td>NaN</td>\n      <td>NaN</td>\n      <td>Electricity</td>\n      <td>93</td>\n      <td>122</td>\n    </tr>\n  </tbody>\n</table>\n<p>33442 rows × 11 columns</p>\n</div>"
          },
          "metadata": {},
          "execution_count": 22
        }
      ]
    },
    {
      "cell_type": "markdown",
      "metadata": {
        "id": "4x5xlGP4Z1Nn",
        "colab_type": "text"
      },
      "source": [
        "### Create a table that contains all Audi vehicles with a city fuel efficiency greater than 18.\n",
        " Table creation not possible on the thinkful server, but see below for the code to do this"
      ]
    },
    {
      "cell_type": "code",
      "metadata": {
        "scrolled": true,
        "id": "ZHX26MgOZ1No",
        "colab_type": "code",
        "colab": {}
      },
      "source": [
        "sql = \"\"\"\n",
        "CREATE TABLE IF NOT EXISTS audi AS\n",
        "SELECT * FROM vehicles\n",
        "WHERE make = 'Audi' AND cty > 18;\n",
        "\"\"\"\n",
        "results = pd.read_sql_query(sql, con=engine, index_col='id')\n",
        "results"
      ],
      "execution_count": 23,
      "outputs": [
        {
          "output_type": "execute_result",
          "data": {
            "text/plain": "       make                model  year                 class            trans  \\\nid                                                                              \n2963   Audi                 4000  1987       Subcompact Cars  Automatic 3-spd   \n2964   Audi                 4000  1987       Subcompact Cars     Manual 5-spd   \n1749   Audi               4000 S  1986       Subcompact Cars  Automatic 3-spd   \n1750   Audi               4000 S  1986       Subcompact Cars     Manual 5-spd   \n53     Audi                4000s  1985       Subcompact Cars  Automatic 3-spd   \n...     ...                  ...   ...                   ...              ...   \n33613  Audi  TT Roadster quattro  2014           Two Seaters      Auto(AM-S6)   \n34663  Audi  TT Roadster quattro  2015           Two Seaters      Auto(AM-S6)   \n32410  Audi      allroad quattro  2013  Small Station Wagons   Automatic (S8)   \n33178  Audi      allroad quattro  2013  Small Station Wagons   Automatic (S8)   \n33855  Audi      allroad quattro  2014  Small Station Wagons   Automatic (S8)   \n\n                   drive  cyl  displ            fuel  hwy  cty  \nid                                                              \n2963   Front-Wheel Drive    4    1.8         Regular   24   21  \n2964   Front-Wheel Drive    4    1.8         Regular   28   22  \n1749   Front-Wheel Drive    4    1.8         Regular   24   21  \n1750   Front-Wheel Drive    4    1.8         Regular   28   22  \n53     Front-Wheel Drive    4    1.8         Regular   24   21  \n...                  ...  ...    ...             ...  ...  ...  \n33613    All-Wheel Drive    4    2.0         Premium   31   22  \n34663    All-Wheel Drive    4    2.0         Premium   31   22  \n32410    All-Wheel Drive    4    2.0         Premium   27   20  \n33178    All-Wheel Drive    4    2.0  Premium or E85   27   20  \n33855    All-Wheel Drive    4    2.0  Premium or E85   27   20  \n\n[192 rows x 11 columns]",
            "text/html": "<div>\n<style scoped>\n    .dataframe tbody tr th:only-of-type {\n        vertical-align: middle;\n    }\n\n    .dataframe tbody tr th {\n        vertical-align: top;\n    }\n\n    .dataframe thead th {\n        text-align: right;\n    }\n</style>\n<table border=\"1\" class=\"dataframe\">\n  <thead>\n    <tr style=\"text-align: right;\">\n      <th></th>\n      <th>make</th>\n      <th>model</th>\n      <th>year</th>\n      <th>class</th>\n      <th>trans</th>\n      <th>drive</th>\n      <th>cyl</th>\n      <th>displ</th>\n      <th>fuel</th>\n      <th>hwy</th>\n      <th>cty</th>\n    </tr>\n    <tr>\n      <th>id</th>\n      <th></th>\n      <th></th>\n      <th></th>\n      <th></th>\n      <th></th>\n      <th></th>\n      <th></th>\n      <th></th>\n      <th></th>\n      <th></th>\n      <th></th>\n    </tr>\n  </thead>\n  <tbody>\n    <tr>\n      <th>2963</th>\n      <td>Audi</td>\n      <td>4000</td>\n      <td>1987</td>\n      <td>Subcompact Cars</td>\n      <td>Automatic 3-spd</td>\n      <td>Front-Wheel Drive</td>\n      <td>4</td>\n      <td>1.8</td>\n      <td>Regular</td>\n      <td>24</td>\n      <td>21</td>\n    </tr>\n    <tr>\n      <th>2964</th>\n      <td>Audi</td>\n      <td>4000</td>\n      <td>1987</td>\n      <td>Subcompact Cars</td>\n      <td>Manual 5-spd</td>\n      <td>Front-Wheel Drive</td>\n      <td>4</td>\n      <td>1.8</td>\n      <td>Regular</td>\n      <td>28</td>\n      <td>22</td>\n    </tr>\n    <tr>\n      <th>1749</th>\n      <td>Audi</td>\n      <td>4000 S</td>\n      <td>1986</td>\n      <td>Subcompact Cars</td>\n      <td>Automatic 3-spd</td>\n      <td>Front-Wheel Drive</td>\n      <td>4</td>\n      <td>1.8</td>\n      <td>Regular</td>\n      <td>24</td>\n      <td>21</td>\n    </tr>\n    <tr>\n      <th>1750</th>\n      <td>Audi</td>\n      <td>4000 S</td>\n      <td>1986</td>\n      <td>Subcompact Cars</td>\n      <td>Manual 5-spd</td>\n      <td>Front-Wheel Drive</td>\n      <td>4</td>\n      <td>1.8</td>\n      <td>Regular</td>\n      <td>28</td>\n      <td>22</td>\n    </tr>\n    <tr>\n      <th>53</th>\n      <td>Audi</td>\n      <td>4000s</td>\n      <td>1985</td>\n      <td>Subcompact Cars</td>\n      <td>Automatic 3-spd</td>\n      <td>Front-Wheel Drive</td>\n      <td>4</td>\n      <td>1.8</td>\n      <td>Regular</td>\n      <td>24</td>\n      <td>21</td>\n    </tr>\n    <tr>\n      <th>...</th>\n      <td>...</td>\n      <td>...</td>\n      <td>...</td>\n      <td>...</td>\n      <td>...</td>\n      <td>...</td>\n      <td>...</td>\n      <td>...</td>\n      <td>...</td>\n      <td>...</td>\n      <td>...</td>\n    </tr>\n    <tr>\n      <th>33613</th>\n      <td>Audi</td>\n      <td>TT Roadster quattro</td>\n      <td>2014</td>\n      <td>Two Seaters</td>\n      <td>Auto(AM-S6)</td>\n      <td>All-Wheel Drive</td>\n      <td>4</td>\n      <td>2.0</td>\n      <td>Premium</td>\n      <td>31</td>\n      <td>22</td>\n    </tr>\n    <tr>\n      <th>34663</th>\n      <td>Audi</td>\n      <td>TT Roadster quattro</td>\n      <td>2015</td>\n      <td>Two Seaters</td>\n      <td>Auto(AM-S6)</td>\n      <td>All-Wheel Drive</td>\n      <td>4</td>\n      <td>2.0</td>\n      <td>Premium</td>\n      <td>31</td>\n      <td>22</td>\n    </tr>\n    <tr>\n      <th>32410</th>\n      <td>Audi</td>\n      <td>allroad quattro</td>\n      <td>2013</td>\n      <td>Small Station Wagons</td>\n      <td>Automatic (S8)</td>\n      <td>All-Wheel Drive</td>\n      <td>4</td>\n      <td>2.0</td>\n      <td>Premium</td>\n      <td>27</td>\n      <td>20</td>\n    </tr>\n    <tr>\n      <th>33178</th>\n      <td>Audi</td>\n      <td>allroad quattro</td>\n      <td>2013</td>\n      <td>Small Station Wagons</td>\n      <td>Automatic (S8)</td>\n      <td>All-Wheel Drive</td>\n      <td>4</td>\n      <td>2.0</td>\n      <td>Premium or E85</td>\n      <td>27</td>\n      <td>20</td>\n    </tr>\n    <tr>\n      <th>33855</th>\n      <td>Audi</td>\n      <td>allroad quattro</td>\n      <td>2014</td>\n      <td>Small Station Wagons</td>\n      <td>Automatic (S8)</td>\n      <td>All-Wheel Drive</td>\n      <td>4</td>\n      <td>2.0</td>\n      <td>Premium or E85</td>\n      <td>27</td>\n      <td>20</td>\n    </tr>\n  </tbody>\n</table>\n<p>192 rows × 11 columns</p>\n</div>"
          },
          "metadata": {},
          "execution_count": 23
        }
      ]
    },
    {
      "cell_type": "markdown",
      "metadata": {
        "id": "i2i3ifCFZ1Nw",
        "colab_type": "text"
      },
      "source": [
        "### Delete all records from the temp table you just created.\n",
        "    Not possible on the thinkful server but here is how you would do it"
      ]
    },
    {
      "cell_type": "code",
      "metadata": {
        "scrolled": true,
        "id": "HPu_BDc0Z1Nw",
        "colab_type": "code",
        "colab": {}
      },
      "source": [
        "delete = \"DELETE FROM audi;\"\n",
        "\n",
        "engine.execute(delete)"
      ],
      "execution_count": null,
      "outputs": []
    },
    {
      "cell_type": "markdown",
      "metadata": {
        "id": "aVCaVGsgZ1Nz",
        "colab_type": "text"
      },
      "source": [
        "### Insert records from the vehicles table back into the table you created where the make is Audi and the city fuel efficiency is greater than 20.\n",
        "    Not possible on the thinkful server, but here is how you would do it"
      ]
    },
    {
      "cell_type": "code",
      "metadata": {
        "id": "_UHDkDEAZ1N0",
        "colab_type": "code",
        "colab": {}
      },
      "source": [
        "insert = \"\"\"\n",
        "INSERT INTO audi\n",
        "SELECT * from vehicles\n",
        "WHERE make='audi' and cty > 20;\n",
        "\"\"\"\n",
        "\n",
        "engine.execute(insert)"
      ],
      "execution_count": null,
      "outputs": []
    },
    {
      "cell_type": "markdown",
      "metadata": {
        "id": "Dp_A2JpjZ1N2",
        "colab_type": "text"
      },
      "source": [
        "### Update the drive field of the records in the table you created to change any \"4-Wheel or All-Wheel Drive\" values to \"All-Wheel Drive.\"\n",
        "    Not possible on the thinkful server, but here is how you would do it\n",
        "[-]\n",
        "\n",
        "\n",
        "\n"
      ]
    },
    {
      "cell_type": "code",
      "metadata": {
        "id": "1dH09T_vZ1N3",
        "colab_type": "code",
        "colab": {}
      },
      "source": [
        "update = \"\"\"\n",
        "UPDATE audi\n",
        "set drive = 'All-Wheel Drive'\n",
        "Where drive = '4-Wheel or All-Wheel Drive'\n",
        "\"\"\"\n",
        "\n",
        "engine.execute(update)"
      ],
      "execution_count": null,
      "outputs": []
    },
    {
      "cell_type": "markdown",
      "metadata": {
        "id": "xwhxonZGZ1N5",
        "colab_type": "text"
      },
      "source": [
        "### Write a for loop that iterates over the list of makes provided below, selects the top 10 vehicles with the highest city fuel efficiency for each make, and then concatenates all the results together into a single Pandas data frame."
      ]
    },
    {
      "cell_type": "code",
      "metadata": {
        "id": "LFwsUF9kZ1N6",
        "colab_type": "code",
        "colab": {}
      },
      "source": [
        "makes = ['Ford', 'Chevrolet', 'Toyota', 'Honda']"
      ],
      "execution_count": 24,
      "outputs": []
    },
    {
      "cell_type": "code",
      "metadata": {
        "id": "YBEn8rcgZ1N9",
        "colab_type": "code",
        "colab": {},
        "tags": []
      },
      "source": [
        "topCars = pd.DataFrame()\n",
        "topCarSQLFront = \"SELECT * from vehicles WHERE make = '\"\n",
        "topCarSQLEnd = \"' ORDER BY cty DESC LIMIT 10\"\n",
        "for x in makes:\n",
        "    sql = topCarSQLFront + x + topCarSQLEnd\n",
        "    results = pd.read_sql_query(sql, con=engine, index_col='id')\n",
        "    topCars = topCars.append(results)\n",
        "topCars\n",
        "\n"
      ],
      "execution_count": 34,
      "outputs": [
        {
          "output_type": "execute_result",
          "data": {
            "text/plain": "            make              model  year                            class  \\\nid                                                                           \n33024       Ford     Focus Electric  2013                     Compact Cars   \n34130       Ford     Focus Electric  2014                     Compact Cars   \n32278       Ford      Focus BEV FWD  2012                     Compact Cars   \n30965       Ford  Ranger Pickup 2WD  2001       Standard Pickup Trucks 2WD   \n30966       Ford  Ranger Pickup 2WD  2000       Standard Pickup Trucks 2WD   \n30971       Ford  Ranger Pickup 2WD  1999       Standard Pickup Trucks 2WD   \n30967       Ford  Ranger Pickup 2WD  2000       Standard Pickup Trucks 2WD   \n30972       Ford  Ranger Pickup 2WD  1999       Standard Pickup Trucks 2WD   \n33083       Ford  Fusion Hybrid FWD  2013                     Midsize Cars   \n34312       Ford  Fusion Hybrid FWD  2014                     Midsize Cars   \n33640  Chevrolet           Spark EV  2014                  Subcompact Cars   \n30976  Chevrolet       S10 Electric  1998          Small Pickup Trucks 2WD   \n1730   Chevrolet          Sprint ER  1986                 Minicompact Cars   \n4161   Chevrolet       Sprint Metro  1988                 Minicompact Cars   \n2935   Chevrolet          Sprint ER  1987                 Minicompact Cars   \n37     Chevrolet             Sprint  1985                 Minicompact Cars   \n28977  Chevrolet             Sprint  1993                  Subcompact Cars   \n6466   Chevrolet             Sprint  1990                  Subcompact Cars   \n8644   Chevrolet             Sprint  1992                  Subcompact Cars   \n5336   Chevrolet             Sprint  1989                  Subcompact Cars   \n18290     Toyota            RAV4 EV  2002      Sport Utility Vehicle - 2WD   \n19296     Toyota            RAV4 EV  2003      Sport Utility Vehicle - 2WD   \n16424     Toyota            RAV4 EV  2000      Sport Utility Vehicle - 2WD   \n17328     Toyota            RAV4 EV  2001      Sport Utility Vehicle - 2WD   \n33397     Toyota            RAV4 EV  2013  Small Sport Utility Vehicle 2WD   \n33308     Toyota            RAV4 EV  2012      Sport Utility Vehicle - 2WD   \n34425     Toyota            RAV4 EV  2014  Small Sport Utility Vehicle 2WD   \n32183     Toyota            Prius c  2012                     Compact Cars   \n34639     Toyota            Prius c  2014                     Compact Cars   \n33315     Toyota            Prius c  2013                     Compact Cars   \n33265      Honda             Fit EV  2013             Small Station Wagons   \n33905      Honda             Fit EV  2014             Small Station Wagons   \n34395      Honda      Accord Hybrid  2014                     Midsize Cars   \n15606      Honda            Insight  2000                      Two Seaters   \n18313      Honda            Insight  2003                      Two Seaters   \n19357      Honda            Insight  2004                      Two Seaters   \n17355      Honda            Insight  2002                      Two Seaters   \n20479      Honda            Insight  2005                      Two Seaters   \n16447      Honda            Insight  2001                      Two Seaters   \n21632      Honda            Insight  2006                      Two Seaters   \n\n                                  trans              drive  cyl  displ  \\\nid                                                                       \n33024                    Automatic (A1)  Front-Wheel Drive  NaN    NaN   \n34130                    Automatic (A1)  Front-Wheel Drive  NaN    NaN   \n32278  Automatic (variable gear ratios)  Front-Wheel Drive  NaN    NaN   \n30965                    Automatic (A1)      2-Wheel Drive  NaN    NaN   \n30966                    Automatic (A1)      2-Wheel Drive  NaN    NaN   \n30971                    Automatic (A1)      2-Wheel Drive  NaN    NaN   \n30967                    Automatic (A1)      2-Wheel Drive  NaN    NaN   \n30972                    Automatic (A1)      2-Wheel Drive  NaN    NaN   \n33083  Automatic (variable gear ratios)  Front-Wheel Drive  4.0    2.0   \n34312  Automatic (variable gear ratios)  Front-Wheel Drive  4.0    2.0   \n33640                    Automatic (A1)  Front-Wheel Drive  NaN    NaN   \n30976                    Automatic (A1)      2-Wheel Drive  NaN    NaN   \n1730                       Manual 5-spd  Front-Wheel Drive  3.0    1.0   \n4161                       Manual 5-spd  Front-Wheel Drive  3.0    1.0   \n2935                       Manual 5-spd  Front-Wheel Drive  3.0    1.0   \n37                         Manual 5-spd  Front-Wheel Drive  3.0    1.0   \n28977                      Manual 5-spd  Front-Wheel Drive  3.0    1.0   \n6466                       Manual 5-spd  Front-Wheel Drive  3.0    1.0   \n8644                       Manual 5-spd  Front-Wheel Drive  3.0    1.0   \n5336                       Manual 5-spd  Front-Wheel Drive  3.0    1.0   \n18290                                        2-Wheel Drive  NaN    NaN   \n19296                                        2-Wheel Drive  NaN    NaN   \n16424                                        2-Wheel Drive  NaN    NaN   \n17328                                        2-Wheel Drive  NaN    NaN   \n33397  Automatic (variable gear ratios)  Front-Wheel Drive  NaN    NaN   \n33308  Automatic (variable gear ratios)  Front-Wheel Drive  NaN    NaN   \n34425  Automatic (variable gear ratios)  Front-Wheel Drive  NaN    NaN   \n32183  Automatic (variable gear ratios)  Front-Wheel Drive  4.0    1.5   \n34639  Automatic (variable gear ratios)  Front-Wheel Drive  4.0    1.5   \n33315  Automatic (variable gear ratios)  Front-Wheel Drive  4.0    1.5   \n33265                    Automatic (A1)  Front-Wheel Drive  NaN    NaN   \n33905                    Automatic (A1)  Front-Wheel Drive  NaN    NaN   \n34395  Automatic (variable gear ratios)  Front-Wheel Drive  4.0    2.0   \n15606                      Manual 5-spd  Front-Wheel Drive  3.0    1.0   \n18313                      Manual 5-spd  Front-Wheel Drive  3.0    1.0   \n19357                      Manual 5-spd  Front-Wheel Drive  3.0    1.0   \n17355                      Manual 5-spd  Front-Wheel Drive  3.0    1.0   \n20479                      Manual 5-spd  Front-Wheel Drive  3.0    1.0   \n16447                      Manual 5-spd  Front-Wheel Drive  3.0    1.0   \n21632                      Manual 5-spd  Front-Wheel Drive  3.0    1.0   \n\n              fuel  hwy  cty  \nid                            \n33024  Electricity   99  110  \n34130  Electricity   99  110  \n32278  Electricity   99  110  \n30965  Electricity   54   62  \n30966  Electricity   54   62  \n30971  Electricity   54   62  \n30967  Electricity   52   59  \n30972  Electricity   44   50  \n33083      Regular   47   47  \n34312      Regular   47   47  \n33640  Electricity  109  128  \n30976  Electricity   58   52  \n1730       Regular   53   44  \n4161       Regular   51   44  \n2935       Regular   51   44  \n37         Regular   47   39  \n28977      Regular   44   38  \n6466       Regular   45   38  \n8644       Regular   44   38  \n5336       Regular   45   38  \n18290  Electricity   69   87  \n19296  Electricity   69   87  \n16424  Electricity   64   81  \n17328  Electricity   64   81  \n33397  Electricity   74   78  \n33308  Electricity   74   78  \n34425  Electricity   74   78  \n32183      Regular   46   53  \n34639      Regular   46   53  \n33315      Regular   46   53  \n33265  Electricity  105  132  \n33905  Electricity  105  132  \n34395      Regular   45   50  \n15606      Regular   61   49  \n18313      Regular   59   48  \n19357      Regular   58   48  \n17355      Regular   59   48  \n20479      Regular   58   48  \n16447      Regular   60   48  \n21632      Regular   58   48  ",
            "text/html": "<div>\n<style scoped>\n    .dataframe tbody tr th:only-of-type {\n        vertical-align: middle;\n    }\n\n    .dataframe tbody tr th {\n        vertical-align: top;\n    }\n\n    .dataframe thead th {\n        text-align: right;\n    }\n</style>\n<table border=\"1\" class=\"dataframe\">\n  <thead>\n    <tr style=\"text-align: right;\">\n      <th></th>\n      <th>make</th>\n      <th>model</th>\n      <th>year</th>\n      <th>class</th>\n      <th>trans</th>\n      <th>drive</th>\n      <th>cyl</th>\n      <th>displ</th>\n      <th>fuel</th>\n      <th>hwy</th>\n      <th>cty</th>\n    </tr>\n    <tr>\n      <th>id</th>\n      <th></th>\n      <th></th>\n      <th></th>\n      <th></th>\n      <th></th>\n      <th></th>\n      <th></th>\n      <th></th>\n      <th></th>\n      <th></th>\n      <th></th>\n    </tr>\n  </thead>\n  <tbody>\n    <tr>\n      <th>33024</th>\n      <td>Ford</td>\n      <td>Focus Electric</td>\n      <td>2013</td>\n      <td>Compact Cars</td>\n      <td>Automatic (A1)</td>\n      <td>Front-Wheel Drive</td>\n      <td>NaN</td>\n      <td>NaN</td>\n      <td>Electricity</td>\n      <td>99</td>\n      <td>110</td>\n    </tr>\n    <tr>\n      <th>34130</th>\n      <td>Ford</td>\n      <td>Focus Electric</td>\n      <td>2014</td>\n      <td>Compact Cars</td>\n      <td>Automatic (A1)</td>\n      <td>Front-Wheel Drive</td>\n      <td>NaN</td>\n      <td>NaN</td>\n      <td>Electricity</td>\n      <td>99</td>\n      <td>110</td>\n    </tr>\n    <tr>\n      <th>32278</th>\n      <td>Ford</td>\n      <td>Focus BEV FWD</td>\n      <td>2012</td>\n      <td>Compact Cars</td>\n      <td>Automatic (variable gear ratios)</td>\n      <td>Front-Wheel Drive</td>\n      <td>NaN</td>\n      <td>NaN</td>\n      <td>Electricity</td>\n      <td>99</td>\n      <td>110</td>\n    </tr>\n    <tr>\n      <th>30965</th>\n      <td>Ford</td>\n      <td>Ranger Pickup 2WD</td>\n      <td>2001</td>\n      <td>Standard Pickup Trucks 2WD</td>\n      <td>Automatic (A1)</td>\n      <td>2-Wheel Drive</td>\n      <td>NaN</td>\n      <td>NaN</td>\n      <td>Electricity</td>\n      <td>54</td>\n      <td>62</td>\n    </tr>\n    <tr>\n      <th>30966</th>\n      <td>Ford</td>\n      <td>Ranger Pickup 2WD</td>\n      <td>2000</td>\n      <td>Standard Pickup Trucks 2WD</td>\n      <td>Automatic (A1)</td>\n      <td>2-Wheel Drive</td>\n      <td>NaN</td>\n      <td>NaN</td>\n      <td>Electricity</td>\n      <td>54</td>\n      <td>62</td>\n    </tr>\n    <tr>\n      <th>30971</th>\n      <td>Ford</td>\n      <td>Ranger Pickup 2WD</td>\n      <td>1999</td>\n      <td>Standard Pickup Trucks 2WD</td>\n      <td>Automatic (A1)</td>\n      <td>2-Wheel Drive</td>\n      <td>NaN</td>\n      <td>NaN</td>\n      <td>Electricity</td>\n      <td>54</td>\n      <td>62</td>\n    </tr>\n    <tr>\n      <th>30967</th>\n      <td>Ford</td>\n      <td>Ranger Pickup 2WD</td>\n      <td>2000</td>\n      <td>Standard Pickup Trucks 2WD</td>\n      <td>Automatic (A1)</td>\n      <td>2-Wheel Drive</td>\n      <td>NaN</td>\n      <td>NaN</td>\n      <td>Electricity</td>\n      <td>52</td>\n      <td>59</td>\n    </tr>\n    <tr>\n      <th>30972</th>\n      <td>Ford</td>\n      <td>Ranger Pickup 2WD</td>\n      <td>1999</td>\n      <td>Standard Pickup Trucks 2WD</td>\n      <td>Automatic (A1)</td>\n      <td>2-Wheel Drive</td>\n      <td>NaN</td>\n      <td>NaN</td>\n      <td>Electricity</td>\n      <td>44</td>\n      <td>50</td>\n    </tr>\n    <tr>\n      <th>33083</th>\n      <td>Ford</td>\n      <td>Fusion Hybrid FWD</td>\n      <td>2013</td>\n      <td>Midsize Cars</td>\n      <td>Automatic (variable gear ratios)</td>\n      <td>Front-Wheel Drive</td>\n      <td>4.0</td>\n      <td>2.0</td>\n      <td>Regular</td>\n      <td>47</td>\n      <td>47</td>\n    </tr>\n    <tr>\n      <th>34312</th>\n      <td>Ford</td>\n      <td>Fusion Hybrid FWD</td>\n      <td>2014</td>\n      <td>Midsize Cars</td>\n      <td>Automatic (variable gear ratios)</td>\n      <td>Front-Wheel Drive</td>\n      <td>4.0</td>\n      <td>2.0</td>\n      <td>Regular</td>\n      <td>47</td>\n      <td>47</td>\n    </tr>\n    <tr>\n      <th>33640</th>\n      <td>Chevrolet</td>\n      <td>Spark EV</td>\n      <td>2014</td>\n      <td>Subcompact Cars</td>\n      <td>Automatic (A1)</td>\n      <td>Front-Wheel Drive</td>\n      <td>NaN</td>\n      <td>NaN</td>\n      <td>Electricity</td>\n      <td>109</td>\n      <td>128</td>\n    </tr>\n    <tr>\n      <th>30976</th>\n      <td>Chevrolet</td>\n      <td>S10 Electric</td>\n      <td>1998</td>\n      <td>Small Pickup Trucks 2WD</td>\n      <td>Automatic (A1)</td>\n      <td>2-Wheel Drive</td>\n      <td>NaN</td>\n      <td>NaN</td>\n      <td>Electricity</td>\n      <td>58</td>\n      <td>52</td>\n    </tr>\n    <tr>\n      <th>1730</th>\n      <td>Chevrolet</td>\n      <td>Sprint ER</td>\n      <td>1986</td>\n      <td>Minicompact Cars</td>\n      <td>Manual 5-spd</td>\n      <td>Front-Wheel Drive</td>\n      <td>3.0</td>\n      <td>1.0</td>\n      <td>Regular</td>\n      <td>53</td>\n      <td>44</td>\n    </tr>\n    <tr>\n      <th>4161</th>\n      <td>Chevrolet</td>\n      <td>Sprint Metro</td>\n      <td>1988</td>\n      <td>Minicompact Cars</td>\n      <td>Manual 5-spd</td>\n      <td>Front-Wheel Drive</td>\n      <td>3.0</td>\n      <td>1.0</td>\n      <td>Regular</td>\n      <td>51</td>\n      <td>44</td>\n    </tr>\n    <tr>\n      <th>2935</th>\n      <td>Chevrolet</td>\n      <td>Sprint ER</td>\n      <td>1987</td>\n      <td>Minicompact Cars</td>\n      <td>Manual 5-spd</td>\n      <td>Front-Wheel Drive</td>\n      <td>3.0</td>\n      <td>1.0</td>\n      <td>Regular</td>\n      <td>51</td>\n      <td>44</td>\n    </tr>\n    <tr>\n      <th>37</th>\n      <td>Chevrolet</td>\n      <td>Sprint</td>\n      <td>1985</td>\n      <td>Minicompact Cars</td>\n      <td>Manual 5-spd</td>\n      <td>Front-Wheel Drive</td>\n      <td>3.0</td>\n      <td>1.0</td>\n      <td>Regular</td>\n      <td>47</td>\n      <td>39</td>\n    </tr>\n    <tr>\n      <th>28977</th>\n      <td>Chevrolet</td>\n      <td>Sprint</td>\n      <td>1993</td>\n      <td>Subcompact Cars</td>\n      <td>Manual 5-spd</td>\n      <td>Front-Wheel Drive</td>\n      <td>3.0</td>\n      <td>1.0</td>\n      <td>Regular</td>\n      <td>44</td>\n      <td>38</td>\n    </tr>\n    <tr>\n      <th>6466</th>\n      <td>Chevrolet</td>\n      <td>Sprint</td>\n      <td>1990</td>\n      <td>Subcompact Cars</td>\n      <td>Manual 5-spd</td>\n      <td>Front-Wheel Drive</td>\n      <td>3.0</td>\n      <td>1.0</td>\n      <td>Regular</td>\n      <td>45</td>\n      <td>38</td>\n    </tr>\n    <tr>\n      <th>8644</th>\n      <td>Chevrolet</td>\n      <td>Sprint</td>\n      <td>1992</td>\n      <td>Subcompact Cars</td>\n      <td>Manual 5-spd</td>\n      <td>Front-Wheel Drive</td>\n      <td>3.0</td>\n      <td>1.0</td>\n      <td>Regular</td>\n      <td>44</td>\n      <td>38</td>\n    </tr>\n    <tr>\n      <th>5336</th>\n      <td>Chevrolet</td>\n      <td>Sprint</td>\n      <td>1989</td>\n      <td>Subcompact Cars</td>\n      <td>Manual 5-spd</td>\n      <td>Front-Wheel Drive</td>\n      <td>3.0</td>\n      <td>1.0</td>\n      <td>Regular</td>\n      <td>45</td>\n      <td>38</td>\n    </tr>\n    <tr>\n      <th>18290</th>\n      <td>Toyota</td>\n      <td>RAV4 EV</td>\n      <td>2002</td>\n      <td>Sport Utility Vehicle - 2WD</td>\n      <td></td>\n      <td>2-Wheel Drive</td>\n      <td>NaN</td>\n      <td>NaN</td>\n      <td>Electricity</td>\n      <td>69</td>\n      <td>87</td>\n    </tr>\n    <tr>\n      <th>19296</th>\n      <td>Toyota</td>\n      <td>RAV4 EV</td>\n      <td>2003</td>\n      <td>Sport Utility Vehicle - 2WD</td>\n      <td></td>\n      <td>2-Wheel Drive</td>\n      <td>NaN</td>\n      <td>NaN</td>\n      <td>Electricity</td>\n      <td>69</td>\n      <td>87</td>\n    </tr>\n    <tr>\n      <th>16424</th>\n      <td>Toyota</td>\n      <td>RAV4 EV</td>\n      <td>2000</td>\n      <td>Sport Utility Vehicle - 2WD</td>\n      <td></td>\n      <td>2-Wheel Drive</td>\n      <td>NaN</td>\n      <td>NaN</td>\n      <td>Electricity</td>\n      <td>64</td>\n      <td>81</td>\n    </tr>\n    <tr>\n      <th>17328</th>\n      <td>Toyota</td>\n      <td>RAV4 EV</td>\n      <td>2001</td>\n      <td>Sport Utility Vehicle - 2WD</td>\n      <td></td>\n      <td>2-Wheel Drive</td>\n      <td>NaN</td>\n      <td>NaN</td>\n      <td>Electricity</td>\n      <td>64</td>\n      <td>81</td>\n    </tr>\n    <tr>\n      <th>33397</th>\n      <td>Toyota</td>\n      <td>RAV4 EV</td>\n      <td>2013</td>\n      <td>Small Sport Utility Vehicle 2WD</td>\n      <td>Automatic (variable gear ratios)</td>\n      <td>Front-Wheel Drive</td>\n      <td>NaN</td>\n      <td>NaN</td>\n      <td>Electricity</td>\n      <td>74</td>\n      <td>78</td>\n    </tr>\n    <tr>\n      <th>33308</th>\n      <td>Toyota</td>\n      <td>RAV4 EV</td>\n      <td>2012</td>\n      <td>Sport Utility Vehicle - 2WD</td>\n      <td>Automatic (variable gear ratios)</td>\n      <td>Front-Wheel Drive</td>\n      <td>NaN</td>\n      <td>NaN</td>\n      <td>Electricity</td>\n      <td>74</td>\n      <td>78</td>\n    </tr>\n    <tr>\n      <th>34425</th>\n      <td>Toyota</td>\n      <td>RAV4 EV</td>\n      <td>2014</td>\n      <td>Small Sport Utility Vehicle 2WD</td>\n      <td>Automatic (variable gear ratios)</td>\n      <td>Front-Wheel Drive</td>\n      <td>NaN</td>\n      <td>NaN</td>\n      <td>Electricity</td>\n      <td>74</td>\n      <td>78</td>\n    </tr>\n    <tr>\n      <th>32183</th>\n      <td>Toyota</td>\n      <td>Prius c</td>\n      <td>2012</td>\n      <td>Compact Cars</td>\n      <td>Automatic (variable gear ratios)</td>\n      <td>Front-Wheel Drive</td>\n      <td>4.0</td>\n      <td>1.5</td>\n      <td>Regular</td>\n      <td>46</td>\n      <td>53</td>\n    </tr>\n    <tr>\n      <th>34639</th>\n      <td>Toyota</td>\n      <td>Prius c</td>\n      <td>2014</td>\n      <td>Compact Cars</td>\n      <td>Automatic (variable gear ratios)</td>\n      <td>Front-Wheel Drive</td>\n      <td>4.0</td>\n      <td>1.5</td>\n      <td>Regular</td>\n      <td>46</td>\n      <td>53</td>\n    </tr>\n    <tr>\n      <th>33315</th>\n      <td>Toyota</td>\n      <td>Prius c</td>\n      <td>2013</td>\n      <td>Compact Cars</td>\n      <td>Automatic (variable gear ratios)</td>\n      <td>Front-Wheel Drive</td>\n      <td>4.0</td>\n      <td>1.5</td>\n      <td>Regular</td>\n      <td>46</td>\n      <td>53</td>\n    </tr>\n    <tr>\n      <th>33265</th>\n      <td>Honda</td>\n      <td>Fit EV</td>\n      <td>2013</td>\n      <td>Small Station Wagons</td>\n      <td>Automatic (A1)</td>\n      <td>Front-Wheel Drive</td>\n      <td>NaN</td>\n      <td>NaN</td>\n      <td>Electricity</td>\n      <td>105</td>\n      <td>132</td>\n    </tr>\n    <tr>\n      <th>33905</th>\n      <td>Honda</td>\n      <td>Fit EV</td>\n      <td>2014</td>\n      <td>Small Station Wagons</td>\n      <td>Automatic (A1)</td>\n      <td>Front-Wheel Drive</td>\n      <td>NaN</td>\n      <td>NaN</td>\n      <td>Electricity</td>\n      <td>105</td>\n      <td>132</td>\n    </tr>\n    <tr>\n      <th>34395</th>\n      <td>Honda</td>\n      <td>Accord Hybrid</td>\n      <td>2014</td>\n      <td>Midsize Cars</td>\n      <td>Automatic (variable gear ratios)</td>\n      <td>Front-Wheel Drive</td>\n      <td>4.0</td>\n      <td>2.0</td>\n      <td>Regular</td>\n      <td>45</td>\n      <td>50</td>\n    </tr>\n    <tr>\n      <th>15606</th>\n      <td>Honda</td>\n      <td>Insight</td>\n      <td>2000</td>\n      <td>Two Seaters</td>\n      <td>Manual 5-spd</td>\n      <td>Front-Wheel Drive</td>\n      <td>3.0</td>\n      <td>1.0</td>\n      <td>Regular</td>\n      <td>61</td>\n      <td>49</td>\n    </tr>\n    <tr>\n      <th>18313</th>\n      <td>Honda</td>\n      <td>Insight</td>\n      <td>2003</td>\n      <td>Two Seaters</td>\n      <td>Manual 5-spd</td>\n      <td>Front-Wheel Drive</td>\n      <td>3.0</td>\n      <td>1.0</td>\n      <td>Regular</td>\n      <td>59</td>\n      <td>48</td>\n    </tr>\n    <tr>\n      <th>19357</th>\n      <td>Honda</td>\n      <td>Insight</td>\n      <td>2004</td>\n      <td>Two Seaters</td>\n      <td>Manual 5-spd</td>\n      <td>Front-Wheel Drive</td>\n      <td>3.0</td>\n      <td>1.0</td>\n      <td>Regular</td>\n      <td>58</td>\n      <td>48</td>\n    </tr>\n    <tr>\n      <th>17355</th>\n      <td>Honda</td>\n      <td>Insight</td>\n      <td>2002</td>\n      <td>Two Seaters</td>\n      <td>Manual 5-spd</td>\n      <td>Front-Wheel Drive</td>\n      <td>3.0</td>\n      <td>1.0</td>\n      <td>Regular</td>\n      <td>59</td>\n      <td>48</td>\n    </tr>\n    <tr>\n      <th>20479</th>\n      <td>Honda</td>\n      <td>Insight</td>\n      <td>2005</td>\n      <td>Two Seaters</td>\n      <td>Manual 5-spd</td>\n      <td>Front-Wheel Drive</td>\n      <td>3.0</td>\n      <td>1.0</td>\n      <td>Regular</td>\n      <td>58</td>\n      <td>48</td>\n    </tr>\n    <tr>\n      <th>16447</th>\n      <td>Honda</td>\n      <td>Insight</td>\n      <td>2001</td>\n      <td>Two Seaters</td>\n      <td>Manual 5-spd</td>\n      <td>Front-Wheel Drive</td>\n      <td>3.0</td>\n      <td>1.0</td>\n      <td>Regular</td>\n      <td>60</td>\n      <td>48</td>\n    </tr>\n    <tr>\n      <th>21632</th>\n      <td>Honda</td>\n      <td>Insight</td>\n      <td>2006</td>\n      <td>Two Seaters</td>\n      <td>Manual 5-spd</td>\n      <td>Front-Wheel Drive</td>\n      <td>3.0</td>\n      <td>1.0</td>\n      <td>Regular</td>\n      <td>58</td>\n      <td>48</td>\n    </tr>\n  </tbody>\n</table>\n</div>"
          },
          "metadata": {},
          "execution_count": 34
        }
      ]
    },
    {
      "cell_type": "code",
      "execution_count": null,
      "metadata": {},
      "outputs": [],
      "source": []
    }
  ]
}