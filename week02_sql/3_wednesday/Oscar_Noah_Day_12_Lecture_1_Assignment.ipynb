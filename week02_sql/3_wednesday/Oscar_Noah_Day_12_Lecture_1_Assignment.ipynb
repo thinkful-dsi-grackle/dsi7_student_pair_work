{
  "nbformat": 4,
  "nbformat_minor": 0,
  "metadata": {
    "kernelspec": {
      "display_name": "Python 3",
      "language": "python",
      "name": "python3"
    },
    "language_info": {
      "codemirror_mode": {
        "name": "ipython",
        "version": 3
      },
      "file_extension": ".py",
      "mimetype": "text/x-python",
      "name": "python",
      "nbconvert_exporter": "python",
      "pygments_lexer": "ipython3",
      "version": "3.7.6"
    },
    "colab": {
      "name": "Oscar_Noah_Day 12 Lecture 1 Assignment.ipynb",
      "provenance": [],
      "collapsed_sections": []
    }
  },
  "cells": [
    {
      "cell_type": "markdown",
      "metadata": {
        "id": "xbQmIT32i852",
        "colab_type": "text"
      },
      "source": [
        "# A/B Testing Assignment"
      ]
    },
    {
      "cell_type": "code",
      "metadata": {
        "id": "G4kIlwTSi853",
        "colab_type": "code",
        "colab": {}
      },
      "source": [
        "import numpy as np\n",
        "import pandas as pd\n",
        "from scipy import stats\n",
        "import scipy.stats as st\n",
        "import seaborn as sns\n",
        "import matplotlib.pyplot as plt\n",
        "import math"
      ],
      "execution_count": null,
      "outputs": []
    },
    {
      "cell_type": "code",
      "metadata": {
        "id": "ebCy_WNNLywb",
        "colab_type": "code",
        "colab": {}
      },
      "source": [
        "# create a function to calculate a 95% confidence interval for a single variable\n",
        "def confidence_95_ind(aList):\n",
        "  interval = st.t.interval(0.95, len(aList) - 1, loc=np.mean(aList), scale=st.sem(aList))\n",
        "  return interval"
      ],
      "execution_count": null,
      "outputs": []
    },
    {
      "cell_type": "code",
      "metadata": {
        "id": "1DpSZ6h0i86J",
        "colab_type": "code",
        "colab": {}
      },
      "source": [
        "# create a function to sample the means of a list\n",
        "def mean_sampler(aList):\n",
        "  sampleMeans = []\n",
        "  for _ in range(10000):\n",
        "    samples = aList.sample(n=100)\n",
        "    sampleMean = np.mean(samples)\n",
        "    sampleMeans.append(sampleMean)\n",
        "  return sampleMeans"
      ],
      "execution_count": null,
      "outputs": []
    },
    {
      "cell_type": "code",
      "metadata": {
        "id": "-q2aDrObi86a",
        "colab_type": "code",
        "colab": {}
      },
      "source": [
        "# create a function to calculate the 95% confidence interval for the difference \n",
        "# in means for two variables\n",
        "def get_95_ci(array_1, array_2):\n",
        "    sample_1_n = array_1.shape[0]\n",
        "    sample_2_n = array_2.shape[0]\n",
        "    sample_1_mean = array_1.mean()\n",
        "    sample_2_mean = array_2.mean()\n",
        "    sample_1_var = array_1.var()\n",
        "    sample_2_var = array_2.var()\n",
        "    mean_difference = sample_2_mean - sample_1_mean\n",
        "    std_err_difference = math.sqrt((sample_1_var/sample_1_n)+(sample_2_var/sample_2_n))\n",
        "    margin_of_error = 1.96 * std_err_difference\n",
        "    ci_lower = mean_difference - margin_of_error\n",
        "    ci_upper = mean_difference + margin_of_error\n",
        "    return(\"The difference in means at the 95% confidence interval (two-tail) is between \"+str(ci_lower)+\" and \"+str(ci_upper)+\".\")"
      ],
      "execution_count": null,
      "outputs": []
    },
    {
      "cell_type": "markdown",
      "metadata": {
        "id": "z7BJAQoti86B",
        "colab_type": "text"
      },
      "source": [
        "### Import the [Absenteeism at Work data set](https://tf-assets-prod.s3.amazonaws.com/tf-curric/data-science/Absenteeism_at_work.csv). \n",
        "\n",
        "**Note:** The the delimiter of the file is a semi-colon (;), so you will need to set `sep=';`."
      ]
    },
    {
      "cell_type": "code",
      "metadata": {
        "id": "uYcAlPGIi86C",
        "colab_type": "code",
        "colab": {
          "base_uri": "https://localhost:8080/",
          "height": 511
        },
        "outputId": "812a9bc2-89b9-43b3-a4cf-ea3ee14118f2"
      },
      "source": [
        "# read the data\n",
        "url = 'https://tf-assets-prod.s3.amazonaws.com/tf-curric/data-science/Absenteeism_at_work.csv'\n",
        "\n",
        "df = pd.read_csv(url, sep=';')\n",
        "print(df.columns)\n",
        "print(df.shape)\n",
        "print(df.describe())\n",
        "df.head(2)\n"
      ],
      "execution_count": null,
      "outputs": [
        {
          "output_type": "stream",
          "text": [
            "Index(['ID', 'Reason for absence', 'Month of absence', 'Day of the week',\n",
            "       'Seasons', 'Transportation expense', 'Distance from Residence to Work',\n",
            "       'Service time', 'Age', 'Work load Average/day ', 'Hit target',\n",
            "       'Disciplinary failure', 'Education', 'Son', 'Social drinker',\n",
            "       'Social smoker', 'Pet', 'Weight', 'Height', 'Body mass index',\n",
            "       'Absenteeism time in hours'],\n",
            "      dtype='object')\n",
            "(740, 21)\n",
            "               ID  ...  Absenteeism time in hours\n",
            "count  740.000000  ...                 740.000000\n",
            "mean    18.017568  ...                   6.924324\n",
            "std     11.021247  ...                  13.330998\n",
            "min      1.000000  ...                   0.000000\n",
            "25%      9.000000  ...                   2.000000\n",
            "50%     18.000000  ...                   3.000000\n",
            "75%     28.000000  ...                   8.000000\n",
            "max     36.000000  ...                 120.000000\n",
            "\n",
            "[8 rows x 21 columns]\n"
          ],
          "name": "stdout"
        },
        {
          "output_type": "execute_result",
          "data": {
            "text/html": [
              "<div>\n",
              "<style scoped>\n",
              "    .dataframe tbody tr th:only-of-type {\n",
              "        vertical-align: middle;\n",
              "    }\n",
              "\n",
              "    .dataframe tbody tr th {\n",
              "        vertical-align: top;\n",
              "    }\n",
              "\n",
              "    .dataframe thead th {\n",
              "        text-align: right;\n",
              "    }\n",
              "</style>\n",
              "<table border=\"1\" class=\"dataframe\">\n",
              "  <thead>\n",
              "    <tr style=\"text-align: right;\">\n",
              "      <th></th>\n",
              "      <th>ID</th>\n",
              "      <th>Reason for absence</th>\n",
              "      <th>Month of absence</th>\n",
              "      <th>Day of the week</th>\n",
              "      <th>Seasons</th>\n",
              "      <th>Transportation expense</th>\n",
              "      <th>Distance from Residence to Work</th>\n",
              "      <th>Service time</th>\n",
              "      <th>Age</th>\n",
              "      <th>Work load Average/day</th>\n",
              "      <th>Hit target</th>\n",
              "      <th>Disciplinary failure</th>\n",
              "      <th>Education</th>\n",
              "      <th>Son</th>\n",
              "      <th>Social drinker</th>\n",
              "      <th>Social smoker</th>\n",
              "      <th>Pet</th>\n",
              "      <th>Weight</th>\n",
              "      <th>Height</th>\n",
              "      <th>Body mass index</th>\n",
              "      <th>Absenteeism time in hours</th>\n",
              "    </tr>\n",
              "  </thead>\n",
              "  <tbody>\n",
              "    <tr>\n",
              "      <th>0</th>\n",
              "      <td>11</td>\n",
              "      <td>26</td>\n",
              "      <td>7</td>\n",
              "      <td>3</td>\n",
              "      <td>1</td>\n",
              "      <td>289</td>\n",
              "      <td>36</td>\n",
              "      <td>13</td>\n",
              "      <td>33</td>\n",
              "      <td>239.554</td>\n",
              "      <td>97</td>\n",
              "      <td>0</td>\n",
              "      <td>1</td>\n",
              "      <td>2</td>\n",
              "      <td>1</td>\n",
              "      <td>0</td>\n",
              "      <td>1</td>\n",
              "      <td>90</td>\n",
              "      <td>172</td>\n",
              "      <td>30</td>\n",
              "      <td>4</td>\n",
              "    </tr>\n",
              "    <tr>\n",
              "      <th>1</th>\n",
              "      <td>36</td>\n",
              "      <td>0</td>\n",
              "      <td>7</td>\n",
              "      <td>3</td>\n",
              "      <td>1</td>\n",
              "      <td>118</td>\n",
              "      <td>13</td>\n",
              "      <td>18</td>\n",
              "      <td>50</td>\n",
              "      <td>239.554</td>\n",
              "      <td>97</td>\n",
              "      <td>1</td>\n",
              "      <td>1</td>\n",
              "      <td>1</td>\n",
              "      <td>1</td>\n",
              "      <td>0</td>\n",
              "      <td>0</td>\n",
              "      <td>98</td>\n",
              "      <td>178</td>\n",
              "      <td>31</td>\n",
              "      <td>0</td>\n",
              "    </tr>\n",
              "  </tbody>\n",
              "</table>\n",
              "</div>"
            ],
            "text/plain": [
              "   ID  Reason for absence  ...  Body mass index  Absenteeism time in hours\n",
              "0  11                  26  ...               30                          4\n",
              "1  36                   0  ...               31                          0\n",
              "\n",
              "[2 rows x 21 columns]"
            ]
          },
          "metadata": {
            "tags": []
          },
          "execution_count": 39
        }
      ]
    },
    {
      "cell_type": "markdown",
      "metadata": {
        "id": "r9Rvh7dpi86F",
        "colab_type": "text"
      },
      "source": [
        "## Confidence Intervals\n",
        "\n",
        "Suppose this company is analyzing the health of its employees and is specifically interested in their Body Mass Index (BMI). Generate a 95% confidence interval of the mean for that field."
      ]
    },
    {
      "cell_type": "code",
      "metadata": {
        "id": "ntFGGCc3i86G",
        "colab_type": "code",
        "colab": {
          "base_uri": "https://localhost:8080/",
          "height": 35
        },
        "outputId": "87b941a1-1704-46a6-ff25-761b808a950b"
      },
      "source": [
        "# isolate the 'Body mass index' column and store in a variable 'a'\n",
        "a = df['Body mass index']\n",
        "confidence_95_ind(a)"
      ],
      "execution_count": null,
      "outputs": [
        {
          "output_type": "execute_result",
          "data": {
            "text/plain": [
              "(26.367754917159168, 26.986299136894885)"
            ]
          },
          "metadata": {
            "tags": []
          },
          "execution_count": 40
        }
      ]
    },
    {
      "cell_type": "markdown",
      "metadata": {
        "id": "wOnN7cu6i86J",
        "colab_type": "text"
      },
      "source": [
        "### Visualizing Confidence Intervals\n",
        "\n",
        "Generate a sampling distribution of the mean for the Body Mass Index field. Create a histogram to visualize the sampling distribution and add an indicator showing the lower and upper bounds of the confidence interval."
      ]
    },
    {
      "cell_type": "code",
      "metadata": {
        "id": "YF0tOlpqRHrU",
        "colab_type": "code",
        "colab": {
          "base_uri": "https://localhost:8080/",
          "height": 352
        },
        "outputId": "5ff9f127-11dc-49d2-8714-900b7631cbc4"
      },
      "source": [
        "# use the function mean_sampler to get sample means to form a histogram\n",
        "bmi_sample_means = mean_sampler(a)\n",
        "plt.hist(bmi_sample_means, color='aquamarine')"
      ],
      "execution_count": null,
      "outputs": [
        {
          "output_type": "execute_result",
          "data": {
            "text/plain": [
              "(array([2.000e+00, 7.500e+01, 4.480e+02, 1.457e+03, 2.747e+03, 2.917e+03,\n",
              "        1.703e+03, 5.340e+02, 1.100e+02, 7.000e+00]),\n",
              " array([25.1  , 25.411, 25.722, 26.033, 26.344, 26.655, 26.966, 27.277,\n",
              "        27.588, 27.899, 28.21 ]),\n",
              " <a list of 10 Patch objects>)"
            ]
          },
          "metadata": {
            "tags": []
          },
          "execution_count": 41
        },
        {
          "output_type": "display_data",
          "data": {
            "image/png": "[encoded data removed]",
            "text/plain": [
              "<Figure size 432x288 with 1 Axes>"
            ]
          },
          "metadata": {
            "tags": [],
            "needs_background": "light"
          }
        }
      ]
    },
    {
      "cell_type": "markdown",
      "metadata": {
        "id": "5ACmvwkoi86N",
        "colab_type": "text"
      },
      "source": [
        "### Confidence Intervals by Group\n",
        "\n",
        "Suppose we wanted to examine whether there was a difference in the BMIs of employees who drink socially and those that do not. Use the Social Drinker field to split the employees into groups, and then compute the confidence intervals for each group. What insights can you derive from the results?"
      ]
    },
    {
      "cell_type": "code",
      "metadata": {
        "id": "qKzAdaqJi86O",
        "colab_type": "code",
        "colab": {
          "base_uri": "https://localhost:8080/",
          "height": 52
        },
        "outputId": "7a5f70a4-7e01-46fa-a9ad-815feb02b125"
      },
      "source": [
        "# split the BMI column into two groups: drinkers and non_drinkers\n",
        "drinkers = df[df['Social drinker'] == 1]\n",
        "non_drinkers = df[df['Social drinker'] == 0]\n",
        "\n",
        "# isolate the columns 'Body mass index' for drinkers and non-drinkers and store \n",
        "# them in variables 'b' and 'c', respectively\n",
        "b = drinkers['Body mass index']\n",
        "c = non_drinkers['Body mass index']\n",
        "\n",
        "# calculate the 95% confidence interval for each variable\n",
        "drinkers_95_interval = confidence_95_ind(b)\n",
        "non_drinkers_95_interval = confidence_95_ind(c)\n",
        "\n",
        "# print the intervals\n",
        "print(drinkers_95_interval)\n",
        "print(non_drinkers_95_interval)"
      ],
      "execution_count": null,
      "outputs": [
        {
          "output_type": "stream",
          "text": [
            "(27.49904991718434, 28.27714055900614)\n",
            "(24.641171070136533, 25.533828929863464)\n"
          ],
          "name": "stdout"
        }
      ]
    },
    {
      "cell_type": "markdown",
      "metadata": {
        "id": "rnQ-YNkDNYHU",
        "colab_type": "text"
      },
      "source": [
        "*From these results, we can gather that the intervals of BMI for drinkers is on average, larger thank the BMI of non_drinkers*"
      ]
    },
    {
      "cell_type": "markdown",
      "metadata": {
        "id": "jTrcDrsmi86Q",
        "colab_type": "text"
      },
      "source": [
        "### Sampling Distributions for Each Group\n",
        "\n",
        "Next, let's generate a sampling distribution of the mean for each group and generate a plot containing both of their histograms to see if there is any overlap."
      ]
    },
    {
      "cell_type": "code",
      "metadata": {
        "id": "foR7kDCbi86R",
        "colab_type": "code",
        "colab": {}
      },
      "source": [
        "# collect sample means for each variable and store them in variables\n",
        "drinkers_meanSamples = mean_sampler(b)\n",
        "non_drinkers_meanSamples = mean_sampler(c)\n"
      ],
      "execution_count": null,
      "outputs": []
    },
    {
      "cell_type": "code",
      "metadata": {
        "id": "yLZneXF-Om7w",
        "colab_type": "code",
        "colab": {
          "base_uri": "https://localhost:8080/",
          "height": 282
        },
        "outputId": "27ed0255-d61a-4b14-cb4a-d072e8085c36"
      },
      "source": [
        "# plot the histograms and create a legend\n",
        "plt.hist(drinkers_meanSamples, alpha=.5, color='aquamarine')\n",
        "plt.hist(non_drinkers_meanSamples, alpha=.5, color='limegreen')\n",
        "plt.legend(['drinkers', 'non drinkers'])\n",
        "plt.show"
      ],
      "execution_count": null,
      "outputs": [
        {
          "output_type": "execute_result",
          "data": {
            "text/plain": [
              "<function matplotlib.pyplot.show>"
            ]
          },
          "metadata": {
            "tags": []
          },
          "execution_count": 44
        },
        {
          "output_type": "display_data",
          "data": {
            "image/png": "[encoded data removed]",
            "text/plain": [
              "<Figure size 432x288 with 1 Axes>"
            ]
          },
          "metadata": {
            "tags": [],
            "needs_background": "light"
          }
        }
      ]
    },
    {
      "cell_type": "markdown",
      "metadata": {
        "id": "fP720H-0i86V",
        "colab_type": "text"
      },
      "source": [
        "## A/B Testing\n",
        "\n",
        "Based on our analysis so far, we would like to perform a t-test to determine whether there is a difference in BMI means between our two groups (social drinkers and non-social drinkers). Conduct an independent sample t-test and determine whether the differences between the groups is statistically significant. What is your conclusion?"
      ]
    },
    {
      "cell_type": "code",
      "metadata": {
        "id": "qzHyOO4Wi86W",
        "colab_type": "code",
        "colab": {
          "base_uri": "https://localhost:8080/",
          "height": 34
        },
        "outputId": "80ceb847-da5d-4185-d86c-d417af348427"
      },
      "source": [
        "# run a t-test for the variables\n",
        "stats.ttest_ind(b, c)"
      ],
      "execution_count": null,
      "outputs": [
        {
          "output_type": "execute_result",
          "data": {
            "text/plain": [
              "Ttest_indResult(statistic=9.302990833389606, pvalue=1.5203894201359724e-19)"
            ]
          },
          "metadata": {
            "tags": []
          },
          "execution_count": 45
        }
      ]
    },
    {
      "cell_type": "markdown",
      "metadata": {
        "id": "g1jcHXWBi86Z",
        "colab_type": "text"
      },
      "source": [
        "## Confidence Intervals for Group Differences\n",
        "\n",
        "Generate a 95% confidence interval for the mean difference in BMI between the two groups. Compute the interval using both the traditional method and bootstrapping and compare the results. What conclusions can you draw from the comparison? How would you present a summary of your results to stakeholders?"
      ]
    },
    {
      "cell_type": "code",
      "metadata": {
        "id": "NUDOtTUOV8gL",
        "colab_type": "code",
        "colab": {
          "base_uri": "https://localhost:8080/",
          "height": 52
        },
        "outputId": "46a3013e-be09-43f7-f92f-fd8e2273be96"
      },
      "source": [
        "# run a 95% confidence interval for the mean difference in BMI between the two \n",
        "# groups using the traditional method\n",
        "print('Traditional: ')\n",
        "get_95_ci(drinkers['Body mass index'], non_drinkers['Body mass index'])"
      ],
      "execution_count": 54,
      "outputs": [
        {
          "output_type": "stream",
          "text": [
            "Traditional: \n"
          ],
          "name": "stdout"
        },
        {
          "output_type": "execute_result",
          "data": {
            "application/vnd.google.colaboratory.intrinsic+json": {
              "type": "string"
            },
            "text/plain": [
              "'The difference in means at the 95% confidence interval (two-tail) is between -3.390677184812264 and -2.2105132913782177.'"
            ]
          },
          "metadata": {
            "tags": []
          },
          "execution_count": 54
        }
      ]
    },
    {
      "cell_type": "code",
      "metadata": {
        "id": "VYEr-VD9Y_gl",
        "colab_type": "code",
        "colab": {
          "base_uri": "https://localhost:8080/",
          "height": 52
        },
        "outputId": "ee9a549a-3629-46e3-c7c3-1ea48bd9ecc1"
      },
      "source": [
        "from statistics import mean\n",
        "# run a 95% confidence interval for the mean difference in BMI between the two \n",
        "# groups using the bootstrapping method\n",
        "print('Bootstrapping:')\n",
        "#get_95_ci(sd_y_mean,sd_n_mean)\n",
        "def get_95_ci_bootstrap(data1, data2):\n",
        "    sample_1_n = len(data1)\n",
        "    sample_2_n = len(data2)\n",
        "    sample_1_mean = mean(data1)\n",
        "    sample_2_mean = mean(data2)\n",
        "    sample_1_var = np.var(data1)\n",
        "    sample_2_var = np.var(data2)\n",
        "    mean_diff = sample_2_mean - sample_1_mean\n",
        "    std_err_diff = math.sqrt((sample_1_var/sample_1_n) + (sample_2_var/sample_2_n))\n",
        "    margin_of_error = 1.96 * std_err_diff\n",
        "    ci_lower = mean_diff - margin_of_error\n",
        "    ci_upper = mean_diff + margin_of_error\n",
        "    return(f'The difference in means at the 95% confidence interval (two-tail) is between {round(ci_lower, 4)} and {round(ci_upper, 4)}')\n",
        "\n",
        "get_95_ci_bootstrap(drinkers_meanSamples, non_drinkers_meanSamples)"
      ],
      "execution_count": 55,
      "outputs": [
        {
          "output_type": "stream",
          "text": [
            "Bootstrapping:\n"
          ],
          "name": "stdout"
        },
        {
          "output_type": "execute_result",
          "data": {
            "application/vnd.google.colaboratory.intrinsic+json": {
              "type": "string"
            },
            "text/plain": [
              "'The difference in means at the 95% confidence interval (two-tail) is between -2.8113 and -2.7924'"
            ]
          },
          "metadata": {
            "tags": []
          },
          "execution_count": 55
        }
      ]
    },
    {
      "cell_type": "markdown",
      "metadata": {
        "id": "j_I__YeUThc7",
        "colab_type": "text"
      },
      "source": [
        ""
      ]
    }
  ]
}