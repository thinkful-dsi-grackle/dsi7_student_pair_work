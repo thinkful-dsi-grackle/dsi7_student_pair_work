{
  "nbformat": 4,
  "nbformat_minor": 0,
  "metadata": {
    "colab": {
      "name": "Shontelle_Day54_SOM_Assignment",
      "provenance": [],
      "collapsed_sections": []
    },
    "kernelspec": {
      "display_name": "Python 3",
      "language": "python",
      "name": "python3"
    },
    "language_info": {
      "codemirror_mode": {
        "name": "ipython",
        "version": 3
      },
      "file_extension": ".py",
      "mimetype": "text/x-python",
      "name": "python",
      "nbconvert_exporter": "python",
      "pygments_lexer": "ipython3",
      "version": "3.7.7"
    }
  },
  "cells": [
    {
      "cell_type": "code",
      "metadata": {
        "id": "6CmKfP2byWAf",
        "colab": {
          "base_uri": "https://localhost:8080/"
        },
        "outputId": "151e04c8-8fb4-495a-c891-a9ddc2eb9660"
      },
      "source": [
        "!pip install minisom"
      ],
      "execution_count": 1,
      "outputs": [
        {
          "output_type": "stream",
          "text": [
            "Requirement already satisfied: minisom in /usr/local/lib/python3.6/dist-packages (2.2.7)\n"
          ],
          "name": "stdout"
        }
      ]
    },
    {
      "cell_type": "code",
      "metadata": {
        "id": "Q1EFuZ0TR9wh"
      },
      "source": [
        "import pandas as pd\n",
        "import numpy as np\n",
        "\n",
        "from sklearn.preprocessing import StandardScaler\n",
        "from sklearn.decomposition import PCA\n",
        "from sklearn.manifold import TSNE\n",
        "\n",
        "# !pip install minisom\n",
        "from minisom import MiniSom\n",
        "\n",
        "import seaborn as sns\n",
        "import matplotlib.pyplot as plt\n",
        "from matplotlib.gridspec import GridSpec\n",
        "\n",
        "%matplotlib inline"
      ],
      "execution_count": 2,
      "outputs": []
    },
    {
      "cell_type": "code",
      "metadata": {
        "id": "IKfgx3rR_Dk6"
      },
      "source": [
        "def som_pie_grid(som, data, labels):\n",
        "  \"\"\"Helper to create piechart grid viz\n",
        "  \n",
        "  Example: https://raw.githubusercontent.com/JustGlowing/minisom/master/examples/resulting_images/som_iris_pies.png\n",
        "\n",
        "  :param som: fitted MiniSom instance\n",
        "  :param data: the data the MiniSom was fit to\n",
        "  :param labels: an array of labels to use for coloring visual\n",
        "  \"\"\"\n",
        "  labels_map = som.labels_map(data, labels)\n",
        "  label_names = np.unique(labels)\n",
        "\n",
        "  plt.figure(figsize=(70, 70))\n",
        "  the_grid = GridSpec(70, 70)\n",
        "  for position in labels_map.keys():\n",
        "      label_fracs = [labels_map[position][lab] for lab in label_names]\n",
        "      plt.subplot(the_grid[position[1] - 12, position[0]], aspect=1)\n",
        "      patches, texts = plt.pie(label_fracs)\n",
        "\n",
        "  plt.show()\n",
        "\n",
        "  # Cheating way to align legend, create a separate figure just \n",
        "  # for legend.  Will have superfluous whitespace below\n",
        "  plt.legend(patches, label_names, loc='upper left', ncol=5)\n",
        "  plt.axis('off')\n",
        "  plt.show()"
      ],
      "execution_count": 3,
      "outputs": []
    },
    {
      "cell_type": "markdown",
      "metadata": {
        "id": "aeCfl9S6A1ea"
      },
      "source": [
        "* Read in the data from `data_url`\n",
        "* Drop all NAs\n",
        "* Filter based on the `'Pos'` column to where only have the positions `['C', 'PG', 'SG']` remain\n",
        "* Drop all non-numeric columns\n",
        "* Scale the data"
      ]
    },
    {
      "cell_type": "code",
      "metadata": {
        "id": "z5L9jg9A_Bsc"
      },
      "source": [
        "data_url = \"https://tf-assets-prod.s3.amazonaws.com/tf-curric/data-science/Data%20Sets%20Clustering/nba_player_seasons.csv\""
      ],
      "execution_count": 4,
      "outputs": []
    },
    {
      "cell_type": "code",
      "metadata": {
        "id": "V53O_gTmA2In",
        "colab": {
          "base_uri": "https://localhost:8080/",
          "height": 326
        },
        "outputId": "bc395a9d-516e-4a5d-aea2-9d8ead7c292d"
      },
      "source": [
        "nba = pd.read_csv(data_url)\n",
        "print(nba.shape)\n",
        "nba.head()"
      ],
      "execution_count": 5,
      "outputs": [
        {
          "output_type": "stream",
          "text": [
            "(2141, 30)\n"
          ],
          "name": "stdout"
        },
        {
          "output_type": "execute_result",
          "data": {
            "text/html": [
              "<div>\n",
              "<style scoped>\n",
              "    .dataframe tbody tr th:only-of-type {\n",
              "        vertical-align: middle;\n",
              "    }\n",
              "\n",
              "    .dataframe tbody tr th {\n",
              "        vertical-align: top;\n",
              "    }\n",
              "\n",
              "    .dataframe thead th {\n",
              "        text-align: right;\n",
              "    }\n",
              "</style>\n",
              "<table border=\"1\" class=\"dataframe\">\n",
              "  <thead>\n",
              "    <tr style=\"text-align: right;\">\n",
              "      <th></th>\n",
              "      <th>Seas</th>\n",
              "      <th>Player</th>\n",
              "      <th>Pos</th>\n",
              "      <th>Age</th>\n",
              "      <th>Tm</th>\n",
              "      <th>G</th>\n",
              "      <th>GS</th>\n",
              "      <th>MP</th>\n",
              "      <th>FG</th>\n",
              "      <th>FGA</th>\n",
              "      <th>FG%</th>\n",
              "      <th>3P</th>\n",
              "      <th>3PA</th>\n",
              "      <th>3P%</th>\n",
              "      <th>2P</th>\n",
              "      <th>2PA</th>\n",
              "      <th>2P%</th>\n",
              "      <th>eFG%</th>\n",
              "      <th>FT</th>\n",
              "      <th>FTA</th>\n",
              "      <th>FT%</th>\n",
              "      <th>ORB</th>\n",
              "      <th>DRB</th>\n",
              "      <th>TRB</th>\n",
              "      <th>AST</th>\n",
              "      <th>STL</th>\n",
              "      <th>BLK</th>\n",
              "      <th>TOV</th>\n",
              "      <th>PF</th>\n",
              "      <th>PTS</th>\n",
              "    </tr>\n",
              "  </thead>\n",
              "  <tbody>\n",
              "    <tr>\n",
              "      <th>0</th>\n",
              "      <td>2019</td>\n",
              "      <td>Álex Abrines</td>\n",
              "      <td>SG</td>\n",
              "      <td>25</td>\n",
              "      <td>OKC</td>\n",
              "      <td>31</td>\n",
              "      <td>2</td>\n",
              "      <td>19.0</td>\n",
              "      <td>1.8</td>\n",
              "      <td>5.1</td>\n",
              "      <td>0.357</td>\n",
              "      <td>1.3</td>\n",
              "      <td>4.1</td>\n",
              "      <td>0.323</td>\n",
              "      <td>0.5</td>\n",
              "      <td>1.0</td>\n",
              "      <td>0.500</td>\n",
              "      <td>0.487</td>\n",
              "      <td>0.4</td>\n",
              "      <td>0.4</td>\n",
              "      <td>0.923</td>\n",
              "      <td>0.2</td>\n",
              "      <td>1.4</td>\n",
              "      <td>1.5</td>\n",
              "      <td>0.6</td>\n",
              "      <td>0.5</td>\n",
              "      <td>0.2</td>\n",
              "      <td>0.5</td>\n",
              "      <td>1.7</td>\n",
              "      <td>5.3</td>\n",
              "    </tr>\n",
              "    <tr>\n",
              "      <th>1</th>\n",
              "      <td>2019</td>\n",
              "      <td>Quincy Acy</td>\n",
              "      <td>PF</td>\n",
              "      <td>28</td>\n",
              "      <td>PHO</td>\n",
              "      <td>10</td>\n",
              "      <td>0</td>\n",
              "      <td>12.3</td>\n",
              "      <td>0.4</td>\n",
              "      <td>1.8</td>\n",
              "      <td>0.222</td>\n",
              "      <td>0.2</td>\n",
              "      <td>1.5</td>\n",
              "      <td>0.133</td>\n",
              "      <td>0.2</td>\n",
              "      <td>0.3</td>\n",
              "      <td>0.667</td>\n",
              "      <td>0.278</td>\n",
              "      <td>0.7</td>\n",
              "      <td>1.0</td>\n",
              "      <td>0.700</td>\n",
              "      <td>0.3</td>\n",
              "      <td>2.2</td>\n",
              "      <td>2.5</td>\n",
              "      <td>0.8</td>\n",
              "      <td>0.1</td>\n",
              "      <td>0.4</td>\n",
              "      <td>0.4</td>\n",
              "      <td>2.4</td>\n",
              "      <td>1.7</td>\n",
              "    </tr>\n",
              "    <tr>\n",
              "      <th>2</th>\n",
              "      <td>2019</td>\n",
              "      <td>Jaylen Adams</td>\n",
              "      <td>PG</td>\n",
              "      <td>22</td>\n",
              "      <td>ATL</td>\n",
              "      <td>34</td>\n",
              "      <td>1</td>\n",
              "      <td>12.6</td>\n",
              "      <td>1.1</td>\n",
              "      <td>3.2</td>\n",
              "      <td>0.345</td>\n",
              "      <td>0.7</td>\n",
              "      <td>2.2</td>\n",
              "      <td>0.338</td>\n",
              "      <td>0.4</td>\n",
              "      <td>1.1</td>\n",
              "      <td>0.361</td>\n",
              "      <td>0.459</td>\n",
              "      <td>0.2</td>\n",
              "      <td>0.3</td>\n",
              "      <td>0.778</td>\n",
              "      <td>0.3</td>\n",
              "      <td>1.4</td>\n",
              "      <td>1.8</td>\n",
              "      <td>1.9</td>\n",
              "      <td>0.4</td>\n",
              "      <td>0.1</td>\n",
              "      <td>0.8</td>\n",
              "      <td>1.3</td>\n",
              "      <td>3.2</td>\n",
              "    </tr>\n",
              "    <tr>\n",
              "      <th>3</th>\n",
              "      <td>2019</td>\n",
              "      <td>Steven Adams</td>\n",
              "      <td>C</td>\n",
              "      <td>25</td>\n",
              "      <td>OKC</td>\n",
              "      <td>80</td>\n",
              "      <td>80</td>\n",
              "      <td>33.4</td>\n",
              "      <td>6.0</td>\n",
              "      <td>10.1</td>\n",
              "      <td>0.595</td>\n",
              "      <td>0.0</td>\n",
              "      <td>0.0</td>\n",
              "      <td>0.000</td>\n",
              "      <td>6.0</td>\n",
              "      <td>10.1</td>\n",
              "      <td>0.596</td>\n",
              "      <td>0.595</td>\n",
              "      <td>1.8</td>\n",
              "      <td>3.7</td>\n",
              "      <td>0.500</td>\n",
              "      <td>4.9</td>\n",
              "      <td>4.6</td>\n",
              "      <td>9.5</td>\n",
              "      <td>1.6</td>\n",
              "      <td>1.5</td>\n",
              "      <td>1.0</td>\n",
              "      <td>1.7</td>\n",
              "      <td>2.6</td>\n",
              "      <td>13.9</td>\n",
              "    </tr>\n",
              "    <tr>\n",
              "      <th>4</th>\n",
              "      <td>2019</td>\n",
              "      <td>Bam Adebayo</td>\n",
              "      <td>C</td>\n",
              "      <td>21</td>\n",
              "      <td>MIA</td>\n",
              "      <td>82</td>\n",
              "      <td>28</td>\n",
              "      <td>23.3</td>\n",
              "      <td>3.4</td>\n",
              "      <td>5.9</td>\n",
              "      <td>0.576</td>\n",
              "      <td>0.0</td>\n",
              "      <td>0.2</td>\n",
              "      <td>0.200</td>\n",
              "      <td>3.4</td>\n",
              "      <td>5.7</td>\n",
              "      <td>0.588</td>\n",
              "      <td>0.579</td>\n",
              "      <td>2.0</td>\n",
              "      <td>2.8</td>\n",
              "      <td>0.735</td>\n",
              "      <td>2.0</td>\n",
              "      <td>5.3</td>\n",
              "      <td>7.3</td>\n",
              "      <td>2.2</td>\n",
              "      <td>0.9</td>\n",
              "      <td>0.8</td>\n",
              "      <td>1.5</td>\n",
              "      <td>2.5</td>\n",
              "      <td>8.9</td>\n",
              "    </tr>\n",
              "  </tbody>\n",
              "</table>\n",
              "</div>"
            ],
            "text/plain": [
              "   Seas        Player Pos  Age   Tm   G  GS  ...  TRB  AST  STL  BLK  TOV   PF   PTS\n",
              "0  2019  Álex Abrines  SG   25  OKC  31   2  ...  1.5  0.6  0.5  0.2  0.5  1.7   5.3\n",
              "1  2019    Quincy Acy  PF   28  PHO  10   0  ...  2.5  0.8  0.1  0.4  0.4  2.4   1.7\n",
              "2  2019  Jaylen Adams  PG   22  ATL  34   1  ...  1.8  1.9  0.4  0.1  0.8  1.3   3.2\n",
              "3  2019  Steven Adams   C   25  OKC  80  80  ...  9.5  1.6  1.5  1.0  1.7  2.6  13.9\n",
              "4  2019   Bam Adebayo   C   21  MIA  82  28  ...  7.3  2.2  0.9  0.8  1.5  2.5   8.9\n",
              "\n",
              "[5 rows x 30 columns]"
            ]
          },
          "metadata": {
            "tags": []
          },
          "execution_count": 5
        }
      ]
    },
    {
      "cell_type": "code",
      "metadata": {
        "colab": {
          "base_uri": "https://localhost:8080/"
        },
        "id": "KjyzBM1y12YL",
        "outputId": "f6652f7d-c424-498e-e8f1-aff06c778b2f"
      },
      "source": [
        "#nulls\n",
        "nulls = nba.isnull().sum() / nba.isnull().count()\n",
        "nulls.loc[nulls > 0]"
      ],
      "execution_count": 6,
      "outputs": [
        {
          "output_type": "execute_result",
          "data": {
            "text/plain": [
              "FG%     0.004671\n",
              "3P%     0.081270\n",
              "2P%     0.014479\n",
              "eFG%    0.004671\n",
              "FT%     0.048575\n",
              "dtype: float64"
            ]
          },
          "metadata": {
            "tags": []
          },
          "execution_count": 6
        }
      ]
    },
    {
      "cell_type": "code",
      "metadata": {
        "id": "vAQj5mEDFF1T"
      },
      "source": [
        "#dropping nulls\n",
        "nba = nba.dropna()"
      ],
      "execution_count": 7,
      "outputs": []
    },
    {
      "cell_type": "code",
      "metadata": {
        "colab": {
          "base_uri": "https://localhost:8080/"
        },
        "id": "_yHgM-tVzQji",
        "outputId": "e043c2d5-32e8-4b57-ea6c-09025fa9913f"
      },
      "source": [
        "#filtering position \n",
        "#C, PG, SG\n",
        "df = nba.loc[nba['Pos'].isin(['C', 'PG', 'SG'])]\n",
        "df.shape"
      ],
      "execution_count": 8,
      "outputs": [
        {
          "output_type": "execute_result",
          "data": {
            "text/plain": [
              "(1154, 30)"
            ]
          },
          "metadata": {
            "tags": []
          },
          "execution_count": 8
        }
      ]
    },
    {
      "cell_type": "code",
      "metadata": {
        "colab": {
          "base_uri": "https://localhost:8080/",
          "height": 609
        },
        "id": "keSpSs7s8rj6",
        "outputId": "cedad506-0503-4e86-e1d6-4743e6d4e3ce"
      },
      "source": [
        "df.reset_index(drop=True)"
      ],
      "execution_count": 9,
      "outputs": [
        {
          "output_type": "execute_result",
          "data": {
            "text/html": [
              "<div>\n",
              "<style scoped>\n",
              "    .dataframe tbody tr th:only-of-type {\n",
              "        vertical-align: middle;\n",
              "    }\n",
              "\n",
              "    .dataframe tbody tr th {\n",
              "        vertical-align: top;\n",
              "    }\n",
              "\n",
              "    .dataframe thead th {\n",
              "        text-align: right;\n",
              "    }\n",
              "</style>\n",
              "<table border=\"1\" class=\"dataframe\">\n",
              "  <thead>\n",
              "    <tr style=\"text-align: right;\">\n",
              "      <th></th>\n",
              "      <th>Seas</th>\n",
              "      <th>Player</th>\n",
              "      <th>Pos</th>\n",
              "      <th>Age</th>\n",
              "      <th>Tm</th>\n",
              "      <th>G</th>\n",
              "      <th>GS</th>\n",
              "      <th>MP</th>\n",
              "      <th>FG</th>\n",
              "      <th>FGA</th>\n",
              "      <th>FG%</th>\n",
              "      <th>3P</th>\n",
              "      <th>3PA</th>\n",
              "      <th>3P%</th>\n",
              "      <th>2P</th>\n",
              "      <th>2PA</th>\n",
              "      <th>2P%</th>\n",
              "      <th>eFG%</th>\n",
              "      <th>FT</th>\n",
              "      <th>FTA</th>\n",
              "      <th>FT%</th>\n",
              "      <th>ORB</th>\n",
              "      <th>DRB</th>\n",
              "      <th>TRB</th>\n",
              "      <th>AST</th>\n",
              "      <th>STL</th>\n",
              "      <th>BLK</th>\n",
              "      <th>TOV</th>\n",
              "      <th>PF</th>\n",
              "      <th>PTS</th>\n",
              "    </tr>\n",
              "  </thead>\n",
              "  <tbody>\n",
              "    <tr>\n",
              "      <th>0</th>\n",
              "      <td>2019</td>\n",
              "      <td>Álex Abrines</td>\n",
              "      <td>SG</td>\n",
              "      <td>25</td>\n",
              "      <td>OKC</td>\n",
              "      <td>31</td>\n",
              "      <td>2</td>\n",
              "      <td>19.0</td>\n",
              "      <td>1.8</td>\n",
              "      <td>5.1</td>\n",
              "      <td>0.357</td>\n",
              "      <td>1.3</td>\n",
              "      <td>4.1</td>\n",
              "      <td>0.323</td>\n",
              "      <td>0.5</td>\n",
              "      <td>1.0</td>\n",
              "      <td>0.500</td>\n",
              "      <td>0.487</td>\n",
              "      <td>0.4</td>\n",
              "      <td>0.4</td>\n",
              "      <td>0.923</td>\n",
              "      <td>0.2</td>\n",
              "      <td>1.4</td>\n",
              "      <td>1.5</td>\n",
              "      <td>0.6</td>\n",
              "      <td>0.5</td>\n",
              "      <td>0.2</td>\n",
              "      <td>0.5</td>\n",
              "      <td>1.7</td>\n",
              "      <td>5.3</td>\n",
              "    </tr>\n",
              "    <tr>\n",
              "      <th>1</th>\n",
              "      <td>2019</td>\n",
              "      <td>Jaylen Adams</td>\n",
              "      <td>PG</td>\n",
              "      <td>22</td>\n",
              "      <td>ATL</td>\n",
              "      <td>34</td>\n",
              "      <td>1</td>\n",
              "      <td>12.6</td>\n",
              "      <td>1.1</td>\n",
              "      <td>3.2</td>\n",
              "      <td>0.345</td>\n",
              "      <td>0.7</td>\n",
              "      <td>2.2</td>\n",
              "      <td>0.338</td>\n",
              "      <td>0.4</td>\n",
              "      <td>1.1</td>\n",
              "      <td>0.361</td>\n",
              "      <td>0.459</td>\n",
              "      <td>0.2</td>\n",
              "      <td>0.3</td>\n",
              "      <td>0.778</td>\n",
              "      <td>0.3</td>\n",
              "      <td>1.4</td>\n",
              "      <td>1.8</td>\n",
              "      <td>1.9</td>\n",
              "      <td>0.4</td>\n",
              "      <td>0.1</td>\n",
              "      <td>0.8</td>\n",
              "      <td>1.3</td>\n",
              "      <td>3.2</td>\n",
              "    </tr>\n",
              "    <tr>\n",
              "      <th>2</th>\n",
              "      <td>2019</td>\n",
              "      <td>Steven Adams</td>\n",
              "      <td>C</td>\n",
              "      <td>25</td>\n",
              "      <td>OKC</td>\n",
              "      <td>80</td>\n",
              "      <td>80</td>\n",
              "      <td>33.4</td>\n",
              "      <td>6.0</td>\n",
              "      <td>10.1</td>\n",
              "      <td>0.595</td>\n",
              "      <td>0.0</td>\n",
              "      <td>0.0</td>\n",
              "      <td>0.000</td>\n",
              "      <td>6.0</td>\n",
              "      <td>10.1</td>\n",
              "      <td>0.596</td>\n",
              "      <td>0.595</td>\n",
              "      <td>1.8</td>\n",
              "      <td>3.7</td>\n",
              "      <td>0.500</td>\n",
              "      <td>4.9</td>\n",
              "      <td>4.6</td>\n",
              "      <td>9.5</td>\n",
              "      <td>1.6</td>\n",
              "      <td>1.5</td>\n",
              "      <td>1.0</td>\n",
              "      <td>1.7</td>\n",
              "      <td>2.6</td>\n",
              "      <td>13.9</td>\n",
              "    </tr>\n",
              "    <tr>\n",
              "      <th>3</th>\n",
              "      <td>2019</td>\n",
              "      <td>Bam Adebayo</td>\n",
              "      <td>C</td>\n",
              "      <td>21</td>\n",
              "      <td>MIA</td>\n",
              "      <td>82</td>\n",
              "      <td>28</td>\n",
              "      <td>23.3</td>\n",
              "      <td>3.4</td>\n",
              "      <td>5.9</td>\n",
              "      <td>0.576</td>\n",
              "      <td>0.0</td>\n",
              "      <td>0.2</td>\n",
              "      <td>0.200</td>\n",
              "      <td>3.4</td>\n",
              "      <td>5.7</td>\n",
              "      <td>0.588</td>\n",
              "      <td>0.579</td>\n",
              "      <td>2.0</td>\n",
              "      <td>2.8</td>\n",
              "      <td>0.735</td>\n",
              "      <td>2.0</td>\n",
              "      <td>5.3</td>\n",
              "      <td>7.3</td>\n",
              "      <td>2.2</td>\n",
              "      <td>0.9</td>\n",
              "      <td>0.8</td>\n",
              "      <td>1.5</td>\n",
              "      <td>2.5</td>\n",
              "      <td>8.9</td>\n",
              "    </tr>\n",
              "    <tr>\n",
              "      <th>4</th>\n",
              "      <td>2019</td>\n",
              "      <td>DeVaughn Akoon-Purcell</td>\n",
              "      <td>SG</td>\n",
              "      <td>25</td>\n",
              "      <td>DEN</td>\n",
              "      <td>7</td>\n",
              "      <td>0</td>\n",
              "      <td>3.1</td>\n",
              "      <td>0.4</td>\n",
              "      <td>1.4</td>\n",
              "      <td>0.300</td>\n",
              "      <td>0.0</td>\n",
              "      <td>0.6</td>\n",
              "      <td>0.000</td>\n",
              "      <td>0.4</td>\n",
              "      <td>0.9</td>\n",
              "      <td>0.500</td>\n",
              "      <td>0.300</td>\n",
              "      <td>0.1</td>\n",
              "      <td>0.3</td>\n",
              "      <td>0.500</td>\n",
              "      <td>0.1</td>\n",
              "      <td>0.4</td>\n",
              "      <td>0.6</td>\n",
              "      <td>0.9</td>\n",
              "      <td>0.3</td>\n",
              "      <td>0.0</td>\n",
              "      <td>0.3</td>\n",
              "      <td>0.6</td>\n",
              "      <td>1.0</td>\n",
              "    </tr>\n",
              "    <tr>\n",
              "      <th>...</th>\n",
              "      <td>...</td>\n",
              "      <td>...</td>\n",
              "      <td>...</td>\n",
              "      <td>...</td>\n",
              "      <td>...</td>\n",
              "      <td>...</td>\n",
              "      <td>...</td>\n",
              "      <td>...</td>\n",
              "      <td>...</td>\n",
              "      <td>...</td>\n",
              "      <td>...</td>\n",
              "      <td>...</td>\n",
              "      <td>...</td>\n",
              "      <td>...</td>\n",
              "      <td>...</td>\n",
              "      <td>...</td>\n",
              "      <td>...</td>\n",
              "      <td>...</td>\n",
              "      <td>...</td>\n",
              "      <td>...</td>\n",
              "      <td>...</td>\n",
              "      <td>...</td>\n",
              "      <td>...</td>\n",
              "      <td>...</td>\n",
              "      <td>...</td>\n",
              "      <td>...</td>\n",
              "      <td>...</td>\n",
              "      <td>...</td>\n",
              "      <td>...</td>\n",
              "      <td>...</td>\n",
              "    </tr>\n",
              "    <tr>\n",
              "      <th>1149</th>\n",
              "      <td>2016</td>\n",
              "      <td>Tony Wroten</td>\n",
              "      <td>PG</td>\n",
              "      <td>22</td>\n",
              "      <td>PHI</td>\n",
              "      <td>8</td>\n",
              "      <td>3</td>\n",
              "      <td>18.0</td>\n",
              "      <td>2.8</td>\n",
              "      <td>8.1</td>\n",
              "      <td>0.338</td>\n",
              "      <td>0.4</td>\n",
              "      <td>2.1</td>\n",
              "      <td>0.176</td>\n",
              "      <td>2.4</td>\n",
              "      <td>6.0</td>\n",
              "      <td>0.396</td>\n",
              "      <td>0.362</td>\n",
              "      <td>2.5</td>\n",
              "      <td>4.6</td>\n",
              "      <td>0.541</td>\n",
              "      <td>0.3</td>\n",
              "      <td>2.4</td>\n",
              "      <td>2.6</td>\n",
              "      <td>2.5</td>\n",
              "      <td>0.4</td>\n",
              "      <td>0.0</td>\n",
              "      <td>3.6</td>\n",
              "      <td>1.4</td>\n",
              "      <td>8.4</td>\n",
              "    </tr>\n",
              "    <tr>\n",
              "      <th>1150</th>\n",
              "      <td>2016</td>\n",
              "      <td>James Young</td>\n",
              "      <td>SG</td>\n",
              "      <td>20</td>\n",
              "      <td>BOS</td>\n",
              "      <td>29</td>\n",
              "      <td>0</td>\n",
              "      <td>6.9</td>\n",
              "      <td>0.4</td>\n",
              "      <td>1.2</td>\n",
              "      <td>0.306</td>\n",
              "      <td>0.2</td>\n",
              "      <td>0.9</td>\n",
              "      <td>0.231</td>\n",
              "      <td>0.2</td>\n",
              "      <td>0.3</td>\n",
              "      <td>0.500</td>\n",
              "      <td>0.389</td>\n",
              "      <td>0.0</td>\n",
              "      <td>0.1</td>\n",
              "      <td>0.250</td>\n",
              "      <td>0.1</td>\n",
              "      <td>0.8</td>\n",
              "      <td>0.9</td>\n",
              "      <td>0.3</td>\n",
              "      <td>0.2</td>\n",
              "      <td>0.0</td>\n",
              "      <td>0.2</td>\n",
              "      <td>0.6</td>\n",
              "      <td>1.0</td>\n",
              "    </tr>\n",
              "    <tr>\n",
              "      <th>1151</th>\n",
              "      <td>2016</td>\n",
              "      <td>Joe Young</td>\n",
              "      <td>PG</td>\n",
              "      <td>23</td>\n",
              "      <td>IND</td>\n",
              "      <td>41</td>\n",
              "      <td>0</td>\n",
              "      <td>9.4</td>\n",
              "      <td>1.5</td>\n",
              "      <td>4.1</td>\n",
              "      <td>0.367</td>\n",
              "      <td>0.2</td>\n",
              "      <td>1.1</td>\n",
              "      <td>0.217</td>\n",
              "      <td>1.3</td>\n",
              "      <td>3.0</td>\n",
              "      <td>0.423</td>\n",
              "      <td>0.396</td>\n",
              "      <td>0.5</td>\n",
              "      <td>0.6</td>\n",
              "      <td>0.800</td>\n",
              "      <td>0.1</td>\n",
              "      <td>1.1</td>\n",
              "      <td>1.2</td>\n",
              "      <td>1.6</td>\n",
              "      <td>0.4</td>\n",
              "      <td>0.0</td>\n",
              "      <td>0.8</td>\n",
              "      <td>0.7</td>\n",
              "      <td>3.8</td>\n",
              "    </tr>\n",
              "    <tr>\n",
              "      <th>1152</th>\n",
              "      <td>2016</td>\n",
              "      <td>Nick Young</td>\n",
              "      <td>SG</td>\n",
              "      <td>30</td>\n",
              "      <td>LAL</td>\n",
              "      <td>54</td>\n",
              "      <td>2</td>\n",
              "      <td>19.1</td>\n",
              "      <td>2.3</td>\n",
              "      <td>6.9</td>\n",
              "      <td>0.339</td>\n",
              "      <td>1.4</td>\n",
              "      <td>4.4</td>\n",
              "      <td>0.325</td>\n",
              "      <td>0.9</td>\n",
              "      <td>2.5</td>\n",
              "      <td>0.363</td>\n",
              "      <td>0.442</td>\n",
              "      <td>1.2</td>\n",
              "      <td>1.4</td>\n",
              "      <td>0.829</td>\n",
              "      <td>0.3</td>\n",
              "      <td>1.5</td>\n",
              "      <td>1.8</td>\n",
              "      <td>0.6</td>\n",
              "      <td>0.4</td>\n",
              "      <td>0.1</td>\n",
              "      <td>0.6</td>\n",
              "      <td>0.9</td>\n",
              "      <td>7.3</td>\n",
              "    </tr>\n",
              "    <tr>\n",
              "      <th>1153</th>\n",
              "      <td>2016</td>\n",
              "      <td>Cody Zeller</td>\n",
              "      <td>C</td>\n",
              "      <td>23</td>\n",
              "      <td>CHO</td>\n",
              "      <td>73</td>\n",
              "      <td>60</td>\n",
              "      <td>24.3</td>\n",
              "      <td>3.2</td>\n",
              "      <td>6.0</td>\n",
              "      <td>0.529</td>\n",
              "      <td>0.0</td>\n",
              "      <td>0.1</td>\n",
              "      <td>0.100</td>\n",
              "      <td>3.2</td>\n",
              "      <td>5.8</td>\n",
              "      <td>0.539</td>\n",
              "      <td>0.530</td>\n",
              "      <td>2.4</td>\n",
              "      <td>3.2</td>\n",
              "      <td>0.754</td>\n",
              "      <td>1.9</td>\n",
              "      <td>4.3</td>\n",
              "      <td>6.2</td>\n",
              "      <td>1.0</td>\n",
              "      <td>0.8</td>\n",
              "      <td>0.9</td>\n",
              "      <td>0.9</td>\n",
              "      <td>2.8</td>\n",
              "      <td>8.7</td>\n",
              "    </tr>\n",
              "  </tbody>\n",
              "</table>\n",
              "<p>1154 rows × 30 columns</p>\n",
              "</div>"
            ],
            "text/plain": [
              "      Seas                  Player Pos  Age   Tm  ...  STL  BLK  TOV   PF   PTS\n",
              "0     2019            Álex Abrines  SG   25  OKC  ...  0.5  0.2  0.5  1.7   5.3\n",
              "1     2019            Jaylen Adams  PG   22  ATL  ...  0.4  0.1  0.8  1.3   3.2\n",
              "2     2019            Steven Adams   C   25  OKC  ...  1.5  1.0  1.7  2.6  13.9\n",
              "3     2019             Bam Adebayo   C   21  MIA  ...  0.9  0.8  1.5  2.5   8.9\n",
              "4     2019  DeVaughn Akoon-Purcell  SG   25  DEN  ...  0.3  0.0  0.3  0.6   1.0\n",
              "...    ...                     ...  ..  ...  ...  ...  ...  ...  ...  ...   ...\n",
              "1149  2016             Tony Wroten  PG   22  PHI  ...  0.4  0.0  3.6  1.4   8.4\n",
              "1150  2016             James Young  SG   20  BOS  ...  0.2  0.0  0.2  0.6   1.0\n",
              "1151  2016               Joe Young  PG   23  IND  ...  0.4  0.0  0.8  0.7   3.8\n",
              "1152  2016              Nick Young  SG   30  LAL  ...  0.4  0.1  0.6  0.9   7.3\n",
              "1153  2016             Cody Zeller   C   23  CHO  ...  0.8  0.9  0.9  2.8   8.7\n",
              "\n",
              "[1154 rows x 30 columns]"
            ]
          },
          "metadata": {
            "tags": []
          },
          "execution_count": 9
        }
      ]
    },
    {
      "cell_type": "code",
      "metadata": {
        "id": "jklA5qBi2q9S"
      },
      "source": [
        "#dropping non-numeric\n",
        "X = df.select_dtypes(exclude='O')\n",
        "y = df.Pos"
      ],
      "execution_count": 10,
      "outputs": []
    },
    {
      "cell_type": "code",
      "metadata": {
        "id": "oAWxjqT33hIO"
      },
      "source": [
        "#scaling data\n",
        "scale = StandardScaler()\n",
        "X_scale = scale.fit_transform(X)"
      ],
      "execution_count": 11,
      "outputs": []
    },
    {
      "cell_type": "markdown",
      "metadata": {
        "id": "XCWaLiRSBj9V"
      },
      "source": [
        "* Fit a `MiniSom` instance to the scaled data\n",
        "  * Choose your own grid size\n",
        "  * Set a `random_seed` to have reproducible results\n",
        "  * Initialize the `MiniSom` weight vectors using `.pca_weights_init()` or `.random_weights_init()`\n",
        "  * Train the model using `.train_random()` or `.train_batch()`"
      ]
    },
    {
      "cell_type": "code",
      "metadata": {
        "id": "ur0Ku2zF0vE4"
      },
      "source": [
        "n_cols = X_scale.shape[1]"
      ],
      "execution_count": 12,
      "outputs": []
    },
    {
      "cell_type": "code",
      "metadata": {
        "id": "leGltWGX8Gfg"
      },
      "source": [
        "grid_cols = 12\n",
        "grid_rows = 8\n",
        "\n",
        "som = MiniSom(x=grid_cols, y=grid_rows, input_len=n_cols, random_seed=55)\n",
        "som.pca_weights_init(X_scale)\n",
        "som.train_random(X_scale, num_iteration=100)"
      ],
      "execution_count": 13,
      "outputs": []
    },
    {
      "cell_type": "code",
      "metadata": {
        "id": "OgvbiCjPCf6A"
      },
      "source": [
        "win_x = []\n",
        "win_y = []\n",
        "win_ids = []\n",
        "\n",
        "for row in range(len(X_scale)):\n",
        "  winner_x, winner_y = som.winner(X_scale[row])\n",
        "  win_x.append(winner_x)\n",
        "  win_y.append(winner_y)\n",
        "  win_ids.append((winner_x, winner_y))\n",
        "\n",
        "win_df = pd.DataFrame({'winner_x': win_x, 'winner_y': win_y, 'winner_ids': win_ids})"
      ],
      "execution_count": 14,
      "outputs": []
    },
    {
      "cell_type": "code",
      "metadata": {
        "id": "hrQvQy0iEZKe"
      },
      "source": [
        "win_df['Pos'] = df['Pos']"
      ],
      "execution_count": 15,
      "outputs": []
    },
    {
      "cell_type": "code",
      "metadata": {
        "colab": {
          "base_uri": "https://localhost:8080/",
          "height": 419
        },
        "id": "CzxDG6aJEj8Y",
        "outputId": "0776b844-14dd-410b-a3cf-bc8484c02214"
      },
      "source": [
        "win_df"
      ],
      "execution_count": 16,
      "outputs": [
        {
          "output_type": "execute_result",
          "data": {
            "text/html": [
              "<div>\n",
              "<style scoped>\n",
              "    .dataframe tbody tr th:only-of-type {\n",
              "        vertical-align: middle;\n",
              "    }\n",
              "\n",
              "    .dataframe tbody tr th {\n",
              "        vertical-align: top;\n",
              "    }\n",
              "\n",
              "    .dataframe thead th {\n",
              "        text-align: right;\n",
              "    }\n",
              "</style>\n",
              "<table border=\"1\" class=\"dataframe\">\n",
              "  <thead>\n",
              "    <tr style=\"text-align: right;\">\n",
              "      <th></th>\n",
              "      <th>winner_x</th>\n",
              "      <th>winner_y</th>\n",
              "      <th>winner_ids</th>\n",
              "      <th>Pos</th>\n",
              "    </tr>\n",
              "  </thead>\n",
              "  <tbody>\n",
              "    <tr>\n",
              "      <th>0</th>\n",
              "      <td>4</td>\n",
              "      <td>2</td>\n",
              "      <td>(4, 2)</td>\n",
              "      <td>SG</td>\n",
              "    </tr>\n",
              "    <tr>\n",
              "      <th>1</th>\n",
              "      <td>3</td>\n",
              "      <td>1</td>\n",
              "      <td>(3, 1)</td>\n",
              "      <td>NaN</td>\n",
              "    </tr>\n",
              "    <tr>\n",
              "      <th>2</th>\n",
              "      <td>0</td>\n",
              "      <td>7</td>\n",
              "      <td>(0, 7)</td>\n",
              "      <td>PG</td>\n",
              "    </tr>\n",
              "    <tr>\n",
              "      <th>3</th>\n",
              "      <td>1</td>\n",
              "      <td>5</td>\n",
              "      <td>(1, 5)</td>\n",
              "      <td>C</td>\n",
              "    </tr>\n",
              "    <tr>\n",
              "      <th>4</th>\n",
              "      <td>1</td>\n",
              "      <td>0</td>\n",
              "      <td>(1, 0)</td>\n",
              "      <td>C</td>\n",
              "    </tr>\n",
              "    <tr>\n",
              "      <th>...</th>\n",
              "      <td>...</td>\n",
              "      <td>...</td>\n",
              "      <td>...</td>\n",
              "      <td>...</td>\n",
              "    </tr>\n",
              "    <tr>\n",
              "      <th>1149</th>\n",
              "      <td>9</td>\n",
              "      <td>0</td>\n",
              "      <td>(9, 0)</td>\n",
              "      <td>NaN</td>\n",
              "    </tr>\n",
              "    <tr>\n",
              "      <th>1150</th>\n",
              "      <td>1</td>\n",
              "      <td>0</td>\n",
              "      <td>(1, 0)</td>\n",
              "      <td>NaN</td>\n",
              "    </tr>\n",
              "    <tr>\n",
              "      <th>1151</th>\n",
              "      <td>0</td>\n",
              "      <td>1</td>\n",
              "      <td>(0, 1)</td>\n",
              "      <td>PG</td>\n",
              "    </tr>\n",
              "    <tr>\n",
              "      <th>1152</th>\n",
              "      <td>4</td>\n",
              "      <td>0</td>\n",
              "      <td>(4, 0)</td>\n",
              "      <td>PG</td>\n",
              "    </tr>\n",
              "    <tr>\n",
              "      <th>1153</th>\n",
              "      <td>1</td>\n",
              "      <td>5</td>\n",
              "      <td>(1, 5)</td>\n",
              "      <td>PG</td>\n",
              "    </tr>\n",
              "  </tbody>\n",
              "</table>\n",
              "<p>1154 rows × 4 columns</p>\n",
              "</div>"
            ],
            "text/plain": [
              "      winner_x  winner_y winner_ids  Pos\n",
              "0            4         2     (4, 2)   SG\n",
              "1            3         1     (3, 1)  NaN\n",
              "2            0         7     (0, 7)   PG\n",
              "3            1         5     (1, 5)    C\n",
              "4            1         0     (1, 0)    C\n",
              "...        ...       ...        ...  ...\n",
              "1149         9         0     (9, 0)  NaN\n",
              "1150         1         0     (1, 0)  NaN\n",
              "1151         0         1     (0, 1)   PG\n",
              "1152         4         0     (4, 0)   PG\n",
              "1153         1         5     (1, 5)   PG\n",
              "\n",
              "[1154 rows x 4 columns]"
            ]
          },
          "metadata": {
            "tags": []
          },
          "execution_count": 16
        }
      ]
    },
    {
      "cell_type": "markdown",
      "metadata": {
        "id": "P1cL0S5fCHZF"
      },
      "source": [
        "* Use the helper function defined at the top of the notebook to plot the SOM's fit\n",
        "  * Use the players' positions (the `'Pos'` column) as the labels in the viz\n",
        "  * Experiment with the SOM's grid size, initialization method, and training method.  Decide a 'good' fit using this visual as guidance."
      ]
    },
    {
      "cell_type": "code",
      "metadata": {
        "id": "Bqk8eWE1CH02",
        "colab": {
          "base_uri": "https://localhost:8080/",
          "height": 689
        },
        "outputId": "bba4ddec-a194-4fa0-9add-c8ad390142b6"
      },
      "source": [
        "som_pie_grid(som, X_scale, y)"
      ],
      "execution_count": 17,
      "outputs": [
        {
          "output_type": "display_data",
          "data": {
            "image/png": "[encoded data removed]",
            "text/plain": [
              "<Figure size 5040x5040 with 80 Axes>"
            ]
          },
          "metadata": {
            "tags": []
          }
        },
        {
          "output_type": "display_data",
          "data": {
            "image/png": "[encoded data removed]",
            "text/plain": [
              "<Figure size 432x288 with 1 Axes>"
            ]
          },
          "metadata": {
            "tags": [],
            "needs_background": "light"
          }
        }
      ]
    },
    {
      "cell_type": "markdown",
      "metadata": {
        "id": "J9nw_Z4UC0wL"
      },
      "source": [
        "* Perform dimension reduction (to 2d) with another method (perhaps `PCA` or `TSNE`).\n",
        "* Create a scatter plot of the results of this dimension reduction and color the scatter plot by the players' positions (the `'Pos'` column).\n",
        "  * How do these results compare to that of the SOM? What are the pros and cons of the different approaches you took in this notebook?"
      ]
    },
    {
      "cell_type": "code",
      "metadata": {
        "id": "Z0ZUyrqFyvZs",
        "colab": {
          "base_uri": "https://localhost:8080/"
        },
        "outputId": "b3be4f65-b86f-4374-f6b5-30c1d4e4a62d"
      },
      "source": [
        "tsne = TSNE(n_components=2, perplexity=40 ,verbose=1)\n",
        "tsne_comps = tsne.fit_transform(X_scale)"
      ],
      "execution_count": 21,
      "outputs": [
        {
          "output_type": "stream",
          "text": [
            "[t-SNE] Computing 121 nearest neighbors...\n",
            "[t-SNE] Indexed 1154 samples in 0.004s...\n",
            "[t-SNE] Computed neighbors for 1154 samples in 0.123s...\n",
            "[t-SNE] Computed conditional probabilities for sample 1000 / 1154\n",
            "[t-SNE] Computed conditional probabilities for sample 1154 / 1154\n",
            "[t-SNE] Mean sigma: 1.409056\n",
            "[t-SNE] KL divergence after 250 iterations with early exaggeration: 64.818123\n",
            "[t-SNE] KL divergence after 1000 iterations: 1.057057\n"
          ],
          "name": "stdout"
        }
      ]
    },
    {
      "cell_type": "code",
      "metadata": {
        "colab": {
          "base_uri": "https://localhost:8080/",
          "height": 542
        },
        "id": "b5R_uSoEHf9U",
        "outputId": "d80522bb-23e6-4945-e52e-9bf182e8e52a"
      },
      "source": [
        "import plotly.express as px\n",
        "px.scatter(x=tsne_comps[:,0], y=tsne_comps[:,1], color=y)"
      ],
      "execution_count": 29,
      "outputs": [
        {
          "output_type": "display_data",
          "data": {
            "text/html": [
              "<html>\n",
              "<head><meta charset=\"utf-8\" /></head>\n",
              "<body>\n",
              "    <div>\n",
              "            <script src=\"https://cdnjs.cloudflare.com/ajax/libs/mathjax/2.7.5/MathJax.js?config=TeX-AMS-MML_SVG\"></script><script type=\"text/javascript\">if (window.MathJax) {MathJax.Hub.Config({SVG: {font: \"STIX-Web\"}});}</script>\n",
              "                <script type=\"text/javascript\">window.PlotlyConfig = {MathJaxConfig: 'local'};</script>\n",
              "        <script src=\"https://cdn.plot.ly/plotly-latest.min.js\"></script>    \n",
              "            <div id=\"a0799068-4629-4a81-bae9-c252024fe105\" class=\"plotly-graph-div\" style=\"height:525px; width:100%;\"></div>\n",
              "            <script type=\"text/javascript\">\n",
              "                \n",
              "                    window.PLOTLYENV=window.PLOTLYENV || {};\n",
              "                    \n",
              "                if (document.getElementById(\"a0799068-4629-4a81-bae9-c252024fe105\")) {\n",
              "                    Plotly.newPlot(\n",
              "                        'a0799068-4629-4a81-bae9-c252024fe105',\n",
              "                        [{\"hoverlabel\": {\"namelength\": 0}, \"hovertemplate\": \"color=SG<br>x=%{x}<br>y=%{y}\", \"legendgroup\": \"color=SG\", \"marker\": {\"color\": \"#636efa\", \"symbol\": \"circle\"}, \"mode\": \"markers\", \"name\": \"color=SG\", \"showlegend\": true, \"type\": \"scattergl\", \"x\": [-6.880855560302734, -18.733951568603516, -16.544204711914062, -6.202009677886963, 5.838313579559326, 0.39437851309776306, -23.5526065826416, -1.922998309135437, -0.773857057094574, 18.126388549804688, -6.720936298370361, -15.742985725402832, 2.9351892471313477, -3.7700350284576416, 4.18297815322876, 20.857288360595703, -4.170584201812744, -4.429407119750977, 3.906074285507202, -2.5733120441436768, 0.2968863248825073, 4.795159339904785, 1.281149983406067, -5.501062393188477, -2.8135151863098145, -8.706439971923828, -6.0058817863464355, -6.0662360191345215, 3.396522283554077, 3.4439542293548584, -12.092717170715332, -20.339019775390625, -3.857072591781616, -5.302967071533203, 21.726774215698242, -8.353654861450195, -1.6596152782440186, 19.909990310668945, -4.3631591796875, -5.00899076461792, -14.40278148651123, -15.280095100402832, -15.236607551574707, -2.536756753921509, -9.13979721069336, -5.039306640625, 7.883974075317383, -17.257713317871094, -22.842594146728516, 7.410048007965088, -14.958089828491211, -6.219809532165527, -2.9972763061523438, -7.303522109985352, -5.961411476135254, -16.696704864501953, -13.635997772216797, -22.957927703857422, 6.531224250793457, -2.118152141571045, -4.6997246742248535, -7.077517986297607, 11.902359008789062, 17.455780029296875, -3.40348482131958, -3.0624985694885254, -5.36442756652832, -15.063790321350098, 5.240417003631592, -6.288290023803711, -7.405689716339111, -5.76439094543457, 4.291409015655518, 19.769563674926758, -2.699718952178955, -5.315371990203857, -13.45214557647705, 7.155134677886963, -7.495386123657227, 12.98082160949707, -8.710932731628418, -7.227747440338135, -2.9389913082122803, 1.231128215789795, -5.864858150482178, 18.107282638549805, -22.138662338256836, -4.600063800811768, -3.530123710632324, -14.327009201049805, -14.142199516296387, 2.3428657054901123, 1.8339033126831055, 11.643081665039062, -6.954859256744385, 0.9689135551452637, -3.728365182876587, -5.8982439041137695, 7.395599365234375, -19.898897171020508, -7.54041862487793, -8.526698112487793, -0.10765267163515091, -3.243539333343506, -1.67534601688385, -8.532934188842773, -9.443269729614258, -9.584221839904785, -5.897677421569824, -22.60358428955078, -4.665879726409912, -7.531902313232422, -1.1266419887542725, -8.859455108642578, -17.399677276611328, -22.45964241027832, -17.82076072692871, 12.531618118286133, -16.733657836914062, -16.460229873657227, -1.9139829874038696, 8.328126907348633, -14.086052894592285, -19.096843719482422, -13.093655586242676, 8.496809005737305, -6.011717319488525, -4.805061340332031, -12.574363708496094, -16.985469818115234, -18.571895599365234, 5.027792453765869, 8.740889549255371, -8.577217102050781, 10.459217071533203, 16.737834930419922, -9.93589973449707, -15.329215049743652, -0.6588398218154907, 2.1157264709472656, -22.30754280090332, -27.23855972290039, -2.3240573406219482, 20.17597770690918, 6.54717493057251, 10.108850479125977, 4.368260860443115, -8.838919639587402, -4.712779521942139, 21.62259292602539, -0.7406779527664185, -2.389826536178589, 2.338245153427124, -21.187776565551758, -5.976633548736572, -4.43729305267334, -28.175737380981445, -4.309990406036377, -20.028112411499023, -19.546064376831055, -14.492486953735352, 21.625614166259766, -9.070963859558105, -9.359334945678711, -18.545406341552734, -15.928082466125488, -9.749368667602539, -5.003140926361084, -2.9643094539642334, 8.028809547424316, -8.968541145324707, -10.033085823059082, -20.849674224853516, -2.469867467880249, -2.067366361618042, -10.9846773147583, -16.491104125976562, 6.149220943450928, 23.39253044128418, 4.038064479827881, -6.3926191329956055, -25.301546096801758, 3.2327380180358887, -0.4422047436237335, -23.747926712036133, 16.85870361328125, -2.9840362071990967, 0.27998119592666626, -1.5518076419830322, -4.570871829986572, -18.77232551574707, -3.226531505584717, -9.683005332946777, -17.269187927246094, -18.065214157104492, 2.024315357208252, 6.09589958190918, -7.8702073097229, -3.2888882160186768, -10.247326850891113, -9.56895637512207, 14.249716758728027, -0.014268787577748299, -7.237783432006836, -9.844818115234375, 16.015480041503906, -8.839959144592285, -3.56352162361145, -27.794979095458984, 12.813949584960938, 17.92561912536621, -9.63354778289795, -4.37932825088501, -22.53663444519043, -3.7826285362243652, -28.066062927246094, -4.078535556793213, -18.409423828125, -18.50082015991211, 6.390636920928955, 22.679384231567383, -3.2446706295013428, 2.2353668212890625, -7.58854341506958, -19.20177459716797, 6.418159008026123, 0.593842625617981, -9.963356971740723, -10.617908477783203, -7.817371368408203, 2.987971067428589, -9.576337814331055, -23.96066665649414, 12.303373336791992, -1.4936718940734863, -4.472858428955078, -10.291261672973633, 8.22659683227539, 7.045022487640381, -2.687140464782715, 16.223224639892578, -11.23397445678711, -17.43475914001465, -6.543302536010742, -10.847657203674316, 13.493741989135742, -13.742066383361816, -19.825237274169922, 2.735307216644287, 12.887188911437988, 15.644059181213379, -12.123649597167969, -14.887589454650879, -8.874886512756348, 19.189834594726562, 4.302764892578125, -0.4604499042034149, -13.124612808227539, -14.913591384887695, 0.46687382459640503, -15.940227508544922, -1.952392339706421, 2.3804404735565186, -3.2053117752075195, -6.1243181228637695, -19.364253997802734, -1.3806771039962769, -12.554128646850586, 22.915367126464844, -15.987820625305176, 1.5737409591674805, -15.487671852111816, 6.580908298492432, -18.522619247436523, -29.021564483642578, -20.860912322998047, -22.05026626586914, 1.6429263353347778, -20.060585021972656, 1.666485071182251, -2.132533073425293, -4.3296661376953125, -11.207596778869629, 1.202962040901184, 0.8588531613349915, -8.18426513671875, -28.418733596801758, -29.71613121032715, -10.401487350463867, -8.216157913208008, -11.691483497619629, -0.5033642053604126, -16.4381046295166, -8.952779769897461, -1.193381905555725, -19.233856201171875, 1.875059723854065, -6.356451511383057, -18.239139556884766, -18.343782424926758, -18.73044776916504, 8.063283920288086, 5.683548927307129, -8.2700777053833, -15.191261291503906, -15.207086563110352, 25.40495491027832, -13.669620513916016, -2.7736966609954834, -10.653280258178711, 15.286383628845215, 9.200360298156738, -6.250875473022461, -16.513431549072266, -14.306739807128906, -29.00902557373047, -7.972929000854492, -20.375625610351562, -20.35618782043457, -19.015583038330078, -6.009236812591553, -29.801410675048828, 18.547603607177734, 4.45219612121582, -27.42753028869629, -5.428983211517334, -13.253252983093262, -4.760642051696777, -1.457159399986267, -12.986065864562988, 0.3511066436767578, -18.282917022705078, -13.402233123779297, -12.15402889251709, 4.3692545890808105, -12.348408699035645, -7.966289520263672, -11.042107582092285, 0.9653351306915283, -12.098183631896973, -10.694686889648438, -6.785052299499512, -14.084050178527832, 6.764165878295898, -9.78370189666748, -14.55605697631836, -10.045575141906738, -23.414461135864258, -15.36601448059082, -15.396023750305176, -26.627302169799805, 13.138614654541016, -16.91058921813965, -10.323586463928223, -14.379157066345215, -21.447765350341797, 20.994184494018555, 7.007880210876465, -23.83553123474121, 6.378371238708496, 6.408998012542725, 5.625036716461182, -11.076430320739746, -5.561173439025879, -24.427396774291992, -6.95749044418335, 13.463257789611816, -19.052555084228516, -14.425361633300781, -19.212860107421875, 2.9459023475646973, -8.886256217956543, 5.648346424102783, -14.140715599060059, 2.0562961101531982, 2.5028398036956787, -12.198930740356445, 2.457669258117676, 21.835718154907227, 2.27864146232605, -7.734046459197998, -22.18923568725586, -13.120085716247559, 2.9415152072906494, -24.28912925720215, -6.0351152420043945, -19.270235061645508, -18.51630401611328, -1.5789319276809692, -16.685958862304688, 22.637678146362305, -12.583929061889648, 15.254677772521973, 11.324319839477539, -17.420242309570312, -18.73493003845215, -22.000484466552734, -1.2357310056686401, -11.432916641235352, -13.28177547454834, -12.350855827331543, 23.523578643798828, 1.4200952053070068, -16.815521240234375, -10.996588706970215, -16.371540069580078, -14.290131568908691, 1.4838459491729736, -13.962912559509277, -14.124222755432129, -26.32525634765625, 6.871296405792236, -2.5276706218719482, -15.9893217086792, 14.54661750793457, -10.350640296936035, 7.559258460998535, 2.1922552585601807, -8.751727104187012, 2.3523387908935547, -16.224700927734375, -15.424270629882812, -10.397543907165527, 14.735830307006836, -5.888366222381592, -20.035884857177734, 15.648483276367188, -25.825485229492188, -25.115739822387695, 5.4142165184021, -18.498353958129883, -16.788698196411133, -16.40903091430664, 15.592550277709961, -14.579442024230957, -12.837221145629883, -4.8749165534973145, 5.410002708435059, -4.999673843383789, 9.70733642578125, -18.32455825805664, -6.201720714569092, 5.750606536865234, -7.211923599243164, -6.970812797546387, -22.66394805908203, -7.220716953277588, 13.335586547851562, -13.345459938049316, 2.152035713195801, -19.686481475830078, -18.76785659790039, 20.8680419921875, -4.617914199829102, -17.157405853271484, 5.741994857788086, -15.213512420654297, -14.166016578674316], \"xaxis\": \"x\", \"y\": [11.337677955627441, 32.80746841430664, 28.339181900024414, 14.127264022827148, -2.7704875469207764, 7.1626811027526855, 31.499122619628906, -18.714536666870117, -17.774826049804688, -32.39053726196289, -16.173690795898438, -14.821499824523926, -3.995919704437256, 13.483927726745605, -22.94709587097168, -33.246864318847656, -20.945894241333008, 19.077159881591797, -24.320646286010742, 18.633663177490234, 9.83487606048584, -16.930896759033203, 6.885720729827881, -23.4111385345459, -0.5504936575889587, 23.078895568847656, -17.07301902770996, 9.102249145507812, -22.159408569335938, 6.926630020141602, -19.673234939575195, -6.369555473327637, 5.805408477783203, 8.460702896118164, -26.115354537963867, 25.144508361816406, 16.316226959228516, -31.5660400390625, 13.564152717590332, -18.772262573242188, 29.715553283691406, -18.886993408203125, 33.96836471557617, -1.4005473852157593, -17.2104549407959, -23.661235809326172, -30.42774772644043, 33.456912994384766, 32.78306198120117, -4.736049175262451, -15.619882583618164, 31.208152770996094, -31.840770721435547, 10.780763626098633, -24.710886001586914, -16.055618286132812, 29.03531837463379, 32.79035568237305, -30.716114044189453, -20.019512176513672, -24.24861717224121, -18.541086196899414, -34.76875305175781, -30.53634262084961, -27.104843139648438, -20.31452751159668, -19.54706573486328, -21.636821746826172, -16.453062057495117, 19.555158615112305, -15.888514518737793, 12.885601043701172, -24.610889434814453, -32.45370864868164, 19.911449432373047, 18.553781509399414, 28.43614959716797, 25.732250213623047, 16.4241886138916, -34.101173400878906, -19.052627563476562, 21.504121780395508, 17.87743377685547, 20.74803924560547, 15.915882110595703, -32.873111724853516, 29.647302627563477, 3.4129226207733154, -21.678176879882812, 29.404672622680664, 34.85305404663086, 7.53675651550293, -5.129589080810547, -31.3243350982666, 14.758953094482422, 5.410007476806641, -31.627723693847656, 17.974552154541016, -30.083942413330078, 27.349672317504883, -18.49730110168457, 22.20543670654297, -23.45096778869629, 15.947810173034668, 5.432243824005127, -16.19066619873047, -19.86897850036621, 22.261592864990234, -20.898128509521484, 8.61280632019043, 15.291226387023926, 8.700116157531738, 4.023617744445801, -21.0616455078125, 29.636947631835938, 9.799186706542969, 28.365373611450195, -34.89536666870117, 26.16017723083496, 30.043235778808594, 0.3427915573120117, -11.045134544372559, -21.248979568481445, 27.17823600769043, 34.946922302246094, -36.571109771728516, 6.982285976409912, 21.147520065307617, 26.746620178222656, 24.180421829223633, 25.236324310302734, -25.246335983276367, -19.82369613647461, -5.091035842895508, -22.46141242980957, -33.270050048828125, 20.69546127319336, -13.458858489990234, -15.912120819091797, 23.804676055908203, 13.419309616088867, 31.80837059020996, -21.39423179626465, -33.34705352783203, -25.16704559326172, -32.15494155883789, -26.88327980041504, 12.548449516296387, 1.5012054443359375, -28.30579376220703, -27.861183166503906, 6.737537860870361, -21.84029769897461, 24.5798282623291, 25.747159957885742, 7.10593843460083, 30.732446670532227, -26.347213745117188, -7.508756637573242, 12.616558074951172, -16.453834533691406, -27.404592514038086, 6.8247222900390625, 20.17010498046875, 30.564111709594727, -17.558956146240234, 17.07510757446289, -18.018049240112305, 7.13776969909668, -4.528203964233398, 8.510223388671875, 23.273216247558594, -6.0473527908325195, -31.835494995117188, 10.064595222473145, -22.528356552124023, -18.441146850585938, -29.709993362426758, -35.70891189575195, -29.887615203857422, -15.035492897033691, 12.224077224731445, 5.677219867706299, -22.756608963012695, 30.684526443481445, -29.767147064208984, -27.67448616027832, -22.588462829589844, 16.947025299072266, 31.19957160949707, -20.018043518066406, 2.8805108070373535, 9.096138954162598, 30.316652297973633, -16.828750610351562, -20.846534729003906, -32.76193618774414, -24.602069854736328, -14.844955444335938, 27.737993240356445, 14.801739692687988, -33.880313873291016, 23.55571937561035, -4.716586112976074, 8.704549789428711, -32.75391387939453, 6.865607738494873, -23.37543296813965, 31.514358520507812, 4.966553211212158, -31.204727172851562, 24.29773712158203, 7.504291534423828, 14.117241859436035, 32.49739456176758, 18.538362503051758, -31.17385482788086, 27.36858558654785, 25.993986129760742, -27.012882232666016, 9.03587818145752, -14.459444046020508, 1.4056671857833862, -3.594149112701416, 9.546358108520508, -22.202041625976562, -14.88519287109375, -21.175527572631836, -17.946163177490234, 19.821426391601562, -3.085031032562256, -20.50037384033203, -1.2581627368927002, -35.529842376708984, 10.313384056091309, -19.126062393188477, 22.005075454711914, -10.883162498474121, -25.12492561340332, 12.374147415161133, -37.097225189208984, 22.88041114807129, -14.160484313964844, 6.596948146820068, -7.202426433563232, -6.462027072906494, 14.91337776184082, -1.259149432182312, -19.92694091796875, -26.002912521362305, -34.520694732666016, 21.163904190063477, -8.406039237976074, -28.34229278564453, -33.161834716796875, -28.11829376220703, -8.628043174743652, 19.506305694580078, 8.802544593811035, -28.32512855529785, 16.624935150146484, 7.851875305175781, -22.976110458374023, 24.23019027709961, -13.34679126739502, -8.785215377807617, -25.145097732543945, -4.077943801879883, -26.97393798828125, -17.411489486694336, -9.163372039794922, 22.102052688598633, -28.52145767211914, -0.1214413195848465, 29.36809730529785, 25.690340042114258, -5.027902126312256, 18.02973747253418, 17.521100997924805, 18.01256561279297, -31.61798858642578, 24.477060317993164, -22.858797073364258, -22.30264663696289, -26.495546340942383, -5.702128887176514, 32.10699462890625, 30.528762817382812, -7.205130577087402, -13.896812438964844, -5.828149795532227, -25.149940490722656, 21.675827026367188, -7.666080474853516, -21.67209243774414, 17.92057991027832, -19.444169998168945, -1.6014769077301025, -17.54141616821289, -18.310619354248047, -17.689437866210938, 4.991671562194824, -29.16020965576172, -25.14194679260254, 14.243730545043945, 14.262468338012695, 8.018260955810547, 21.430644989013672, -28.35529327392578, 16.7208251953125, -33.82221603393555, -0.733785092830658, -4.637899875640869, 20.801931381225586, -5.489649295806885, 32.1439094543457, -7.7261528968811035, 3.853472948074341, 3.9153618812561035, 16.70929527282715, -10.716658592224121, 29.297229766845703, 12.299997329711914, -28.00456428527832, 29.047435760498047, -4.506664752960205, 34.350162506103516, -30.20185661315918, -14.698020935058594, 21.29024314880371, -20.948476791381836, 1.513471245765686, 16.47686767578125, 24.302833557128906, 24.898052215576172, 24.382160186767578, -8.594949722290039, 1.150085687637329, -14.557777404785156, -20.672496795654297, -18.004262924194336, -10.878493309020996, 4.6700592041015625, -6.5404534339904785, 30.563335418701172, 4.357954502105713, -10.511882781982422, -1.892488718032837, 10.849405288696289, 10.852605819702148, 23.687007904052734, -35.799346923828125, 7.755861759185791, 6.568499565124512, 31.72693634033203, 22.455604553222656, -24.750097274780273, -26.15122413635254, 28.640241622924805, -36.24003982543945, -36.10820770263672, -35.06816482543945, 21.658794403076172, -29.323320388793945, 21.611709594726562, -26.3548526763916, -6.472210884094238, 6.658900260925293, 16.822837829589844, -1.7399953603744507, -19.104005813598633, -11.693304061889648, -27.99332046508789, -7.6542277336120605, -25.17205047607422, -28.703062057495117, 3.0225555896759033, -16.67791748046875, -28.233671188354492, -28.127988815307617, -11.122586250305176, -2.8613574504852295, 18.133800506591797, -28.020156860351562, 28.270557403564453, -12.959343910217285, -9.061593055725098, 21.89975357055664, 24.238786697387695, 11.502680778503418, -27.25473976135254, -6.381816864013672, -23.66260528564453, -24.91020965576172, -1.0925071239471436, 18.563642501831055, -5.641671657562256, -29.65009117126465, -23.2323055267334, -6.999091625213623, 12.752284049987793, -35.107017517089844, -27.45147132873535, 31.708454132080078, -2.41267991065979, 20.132455825805664, 13.320357322692871, -28.569496154785156, 20.3596134185791, 18.726316452026367, 25.530319213867188, 2.324075698852539, -6.9342732429504395, -6.713087558746338, -31.358943939208984, -24.87566375732422, 4.068504810333252, -25.080646514892578, -25.234086990356445, -17.741928100585938, 31.848194122314453, -3.948333501815796, -11.78488826751709, -32.89132308959961, -6.211744785308838, 14.092802047729492, -26.14388656616211, 25.880653381347656, 28.63750457763672, 1.1979893445968628, 2.7611541748046875, 11.52513599395752, -6.146169662475586, -25.222415924072266, 20.126991271972656, 13.329971313476562, -30.221473693847656, 1.6253553628921509, -5.558543682098389, -0.11963147670030594, 2.7325305938720703, -8.169896125793457, 13.192866325378418, -28.571887969970703, -10.335485458374023, -2.031543254852295, -11.803691864013672, -36.07826232910156, -7.448452472686768, -10.464945793151855, 22.071216583251953, 0.5427979230880737, -24.971254348754883, -7.946961879730225, 19.789451599121094, -36.3954963684082, 32.57150650024414, -3.519777297973633], \"yaxis\": \"y\"}, {\"hoverlabel\": {\"namelength\": 0}, \"hovertemplate\": \"color=PG<br>x=%{x}<br>y=%{y}\", \"legendgroup\": \"color=PG\", \"marker\": {\"color\": \"#EF553B\", \"symbol\": \"circle\"}, \"mode\": \"markers\", \"name\": \"color=PG\", \"showlegend\": true, \"type\": \"scattergl\", \"x\": [-7.7681684494018555, 0.5528562664985657, -6.884459018707275, -19.335487365722656, 12.518364906311035, -17.426990509033203, -21.980571746826172, -8.056829452514648, 15.519637107849121, -27.484277725219727, -9.674717903137207, -21.906112670898438, 0.9425820112228394, -3.6565139293670654, -3.048391819000244, -5.99563455581665, -19.27117919921875, -20.398265838623047, 5.828878879547119, 7.756635665893555, 17.043943405151367, -1.146203637123108, 19.6097412109375, -5.1563591957092285, 3.9769527912139893, 7.678152561187744, 13.933492660522461, -4.704776763916016, -3.694525957107544, -7.043934345245361, 17.80674934387207, -0.610521137714386, 6.797517776489258, -20.596284866333008, -7.43041467666626, -3.2382895946502686, 23.677282333374023, -20.10308837890625, -21.193273544311523, 1.446950078010559, -0.5411925315856934, -5.9304518699646, 17.273582458496094, 1.5505316257476807, -0.6634171605110168, 7.816481590270996, -2.65507173538208, -0.8554816246032715, 0.6563794612884521, -6.3249735832214355, 14.521150588989258, 19.65847396850586, -1.1598539352416992, 14.539990425109863, 12.554946899414062, -5.587024688720703, 2.3940181732177734, -1.450441598892212, -4.605132579803467, 1.9731510877609253, -6.7059807777404785, -15.3312349319458, 1.8730993270874023, 6.466676235198975, 8.890704154968262, -3.6628856658935547, -3.564892530441284, -7.792764186859131, -4.68211030960083, -15.745889663696289, 13.092658042907715, -4.314671516418457, 11.579266548156738, -3.5231432914733887, 10.878477096557617, 5.042201042175293, -4.3767547607421875, 11.609312057495117, 16.040864944458008, 5.972404956817627, 5.1426544189453125, 9.052994728088379, 36.68901824951172, 11.366040229797363, -1.5010026693344116, -17.278766632080078, 10.724892616271973, -1.4142833948135376, 2.689000129699707, -3.0685155391693115, 18.960756301879883, 22.125595092773438, -8.87469482421875, -4.2261762619018555, 25.76389503479004, 6.495757579803467, 0.8205704689025879, 19.273170471191406, -22.753210067749023, -3.1496500968933105, -13.767356872558594, 3.305589437484741, 12.552145004272461, -16.443195343017578, 16.295106887817383, -0.6000345945358276, -4.510564804077148, -14.737767219543457, -5.032907962799072, -1.8147672414779663, -16.10719108581543, 5.083983421325684, -9.42109203338623, -8.738245964050293, -9.431473731994629, 7.12908411026001, 5.694068431854248, -8.138693809509277, 19.601036071777344, -13.219045639038086, -13.258100509643555, 8.945432662963867, 11.355999946594238, 14.188821792602539, -9.53219223022461, -8.841360092163086, 11.507107734680176, -1.2742677927017212, -22.283077239990234, -20.049922943115234, 12.196643829345703, -10.282280921936035, -0.7415651082992554, -27.81805419921875, -19.95672035217285, 0.2940766215324402, -1.0567586421966553, -8.215765953063965, 16.61049461364746, 4.801029205322266, -25.1862735748291, -11.834888458251953, 8.008743286132812, -5.296296119689941, -17.11126136779785, -2.0346028804779053, -3.1174447536468506, 0.3701123595237732, -9.41279125213623, -5.763984680175781, 20.41608428955078, 3.890599012374878, 14.520853996276855, 12.202533721923828, -0.7837882041931152, -21.9492244720459, -5.9669060707092285, 1.9078752994537354, -13.91109848022461, 1.4596508741378784, -6.116330146789551, 3.878657579421997, 7.846612930297852, -3.077962636947632, -20.846559524536133, -9.066948890686035, -7.6851420402526855, -22.752666473388672, -15.759912490844727, 13.600616455078125, -2.892396926879883, 14.22917366027832, -13.338950157165527, -27.948219299316406, 10.421758651733398, -15.68558406829834, -4.006895065307617, 11.937972068786621, 8.060595512390137, 18.315303802490234, -17.42000389099121, 36.72672653198242, -10.40794849395752, 8.642745971679688, 3.3231570720672607, -7.097142696380615, 12.451536178588867, -27.818248748779297, -12.1744384765625, 4.7390289306640625, -1.5814027786254883, -2.9894959926605225, 17.193246841430664, 22.306995391845703, 6.624678134918213, -21.11400604248047, -7.907267093658447, 25.470155715942383, -4.588603973388672, -2.7393546104431152, 0.5328634977340698, -9.518619537353516, -15.194459915161133, -23.69411277770996, -16.380033493041992, -22.48757553100586, 20.86573600769043, -19.847448348999023, -18.832189559936523, -10.908041954040527, -22.602882385253906, -22.61749267578125, -23.12328338623047, -9.253117561340332, -14.535752296447754, -25.07976531982422, 6.587530136108398, 17.522523880004883, -0.20358867943286896, -12.755224227905273, -0.3298978805541992, -1.9688857793807983, 19.893259048461914, -11.716207504272461, -3.1975035667419434, -3.397785186767578, -19.58009147644043, 19.18633460998535, -9.930643081665039, -11.746496200561523, -16.311002731323242, -12.296542167663574, -5.641116619110107, -17.020227432250977, -18.054733276367188, -1.9299300909042358, -21.551462173461914, -1.7363392114639282, -2.194986343383789, -12.604133605957031, -12.689436912536621, -19.41044044494629, -18.02655792236328, -6.031160354614258, 24.10680389404297, -19.220197677612305, -8.80215835571289, 10.291184425354004, 15.653790473937988, -14.77480697631836, 17.283649444580078, 1.7972859144210815, 3.050022602081299, -22.98975372314453, 8.47746467590332, -2.830636501312256, -2.7577157020568848, -26.525253295898438, 3.1335465908050537, -11.747587203979492, -0.5670543313026428, -17.62302589416504, 1.0223157405853271, 20.58561134338379, 10.529274940490723, 9.566710472106934, 18.816394805908203, -3.368105173110962, 0.8705539107322693, -13.496712684631348, -0.33185505867004395, -15.362796783447266, -12.320926666259766, -11.082123756408691, -12.21245002746582, 4.701735973358154, 14.233356475830078, -22.264938354492188, -22.574975967407227, -14.065377235412598, 14.63493824005127, -23.603778839111328, -28.12307357788086, -17.749601364135742, -17.233652114868164, -17.897624969482422, -17.604787826538086, -3.431037425994873, 10.577576637268066, 19.884523391723633, -10.977211952209473, 13.43368911743164, 8.06421947479248, 17.94744300842285, -17.05851936340332, 2.9032886028289795, -17.01636505126953, -28.79546356201172, 13.603607177734375, 21.239328384399414, -22.592933654785156, -7.197471618652344, -18.112401962280273, -27.579904556274414, 16.879587173461914, 24.021621704101562, -19.802637100219727, -13.832305908203125, -20.95981788635254, -13.706352233886719, 24.70173454284668, -4.4196085929870605, -11.2937593460083, 9.320096969604492, -17.487947463989258, -13.381630897521973, -15.830002784729004, 31.543807983398438, -24.7583065032959, -14.531759262084961, -14.84987735748291, -8.71543025970459, -21.40835189819336, 21.64029312133789, -17.016586303710938, -24.278085708618164, -12.5878324508667, -9.984960556030273, 15.455543518066406, 2.421509027481079, 0.5152829885482788, 5.49726676940918, 12.950361251831055, -12.619832992553711, 20.488954544067383, -4.7942023277282715, -23.343563079833984, -10.888794898986816, 15.371252059936523, -12.304642677307129, -12.313348770141602, 1.0761220455169678, -13.058256149291992, -5.62894868850708, -8.175736427307129, -1.2326574325561523, -11.859456062316895, -13.954099655151367, -0.7763530611991882, -18.29400062561035, -7.6791510581970215, -21.195154190063477, 14.678574562072754, -21.488374710083008, 16.550783157348633, 11.349394798278809, 17.605222702026367, -13.87700366973877, -20.50473403930664, -1.3228540420532227, -13.119112968444824, 20.10397720336914, 8.833569526672363, 18.427492141723633, -3.308098793029785, -19.834840774536133, -17.680233001708984, -1.1662484407424927, -16.129201889038086, 7.661391735076904, -13.227616310119629, 13.246893882751465, -18.935405731201172, -10.922369956970215, -6.096437931060791, 4.947680473327637, 14.819449424743652, -12.344720840454102, 14.817208290100098, -22.54701042175293, -11.010383605957031, -22.79694938659668, -15.008339881896973, 16.812288284301758, 19.044008255004883, -25.08755874633789, 13.560056686401367, 2.7970011234283447, -0.9651544690132141, -10.299657821655273, -12.67990779876709, 1.0779249668121338, 15.142951965332031, -24.1119327545166, -10.294878959655762, 14.005608558654785, 19.138633728027344, -21.674699783325195, -20.566795349121094, 18.047746658325195, 23.715307235717773, -20.08928108215332, -25.56787109375, 24.6988525390625, 12.468347549438477, -27.245098114013672, -17.177518844604492, -15.596735000610352, -25.707382202148438, -17.92436408996582], \"xaxis\": \"x\", \"y\": [14.056812286376953, 2.6782939434051514, -22.908966064453125, 28.47370147705078, -13.661612510681152, -10.818948745727539, 9.793988227844238, -21.13275909423828, -29.24302101135254, 30.708498001098633, 26.015411376953125, 29.41655921936035, 3.6961851119995117, -0.3951275646686554, 21.28043556213379, 10.220295906066895, 24.64745330810547, 10.080020904541016, -2.7752387523651123, -18.549541473388672, -36.374732971191406, 6.966339111328125, -39.16993713378906, 9.808744430541992, -32.33370590209961, -23.02130699157715, -17.107894897460938, 12.019766807556152, 20.84548568725586, 8.552050590515137, -28.76165008544922, 3.082827091217041, -14.688552856445312, 27.8520450592041, 13.632822036743164, 10.202407836914062, -36.23984909057617, -4.834345817565918, 29.32512664794922, -2.4999866485595703, 1.2931880950927734, 13.095098495483398, -32.00349044799805, 21.494508743286133, 5.79066276550293, -30.62338638305664, -18.41355323791504, -3.2937560081481934, -2.794170379638672, 10.161654472351074, -16.31422996520996, -35.95585250854492, 0.201983243227005, 19.562332153320312, -28.927236557006836, 23.524066925048828, 25.88275146484375, -1.3833543062210083, 16.66178321838379, 0.40970999002456665, 3.455388307571411, -14.702527046203613, 2.9546761512756348, -23.522192001342773, -29.35590171813965, 0.005752034485340118, 17.45519256591797, 3.6838560104370117, 10.983538627624512, 1.4023816585540771, -28.796220779418945, 11.548842430114746, -16.95642852783203, 10.170706748962402, -15.839376449584961, -21.686168670654297, -17.180273056030273, -22.13393783569336, -31.935312271118164, -14.03076171875, -23.254690170288086, -28.693029403686523, -4.366130352020264, -19.1310977935791, -1.1028482913970947, 28.375425338745117, -21.038454055786133, 19.759872436523438, -1.7885181903839111, -18.30323600769043, -35.880714416503906, -31.11142349243164, 25.39809226989746, 19.040618896484375, -32.077117919921875, -14.414562225341797, -2.0313308238983154, -30.502452850341797, 31.384178161621094, 31.73134994506836, -13.723831176757812, 25.137922286987305, -13.675278663635254, -11.15202522277832, -29.20347785949707, -20.500404357910156, 21.509248733520508, 26.895254135131836, 30.279417037963867, -25.124258041381836, 7.614978313446045, 18.56037712097168, 2.948068380355835, 15.450006484985352, -9.466156959533691, -18.83953857421875, -34.2297248840332, -3.2528135776519775, -38.479496002197266, 6.3785786628723145, 7.228244781494141, -21.4250431060791, -27.28937530517578, -17.286827087402344, 14.691762924194336, 3.435389757156372, -31.31510353088379, 14.199265480041504, 27.429882049560547, -2.7851240634918213, -18.85704803466797, 13.520971298217773, -4.744711875915527, 19.638885498046875, -5.060570240020752, -5.546093940734863, 13.7777738571167, -22.781400680541992, -34.12409591674805, -9.409152030944824, 11.165541648864746, 30.92973518371582, -23.87166976928711, -1.0502376556396484, 9.169713973999023, -20.76785659790039, 4.085896968841553, -3.283721923828125, 12.408553123474121, 25.689390182495117, -35.99544906616211, -34.607242584228516, 19.840829849243164, -29.18180274963379, -1.9293413162231445, 26.01573371887207, -0.3024938404560089, 0.27521538734436035, -14.324919700622559, 30.49959373474121, -0.32560092210769653, -4.967528343200684, -29.005298614501953, 0.9542002081871033, -2.0834360122680664, 18.9221248626709, 2.6852927207946777, 28.42475700378418, 1.4023548364639282, -29.02511978149414, -13.534391403198242, -18.908557891845703, 31.07893180847168, 30.85601043701172, -15.33092212677002, 7.3344526290893555, -17.690628051757812, -22.40709686279297, -25.989856719970703, -27.337770462036133, 6.101323127746582, -4.383023262023926, 10.753425598144531, -26.582962036132812, -9.016183853149414, 0.8908349871635437, -22.904502868652344, 19.846343994140625, -14.986668586730957, -33.9263916015625, -4.805359363555908, 1.9617867469787598, -35.697479248046875, -30.994544982910156, -5.161317348480225, 24.86941909790039, 16.42607307434082, -32.04465866088867, 24.32961082458496, 15.095170021057129, -0.13600021600723267, 19.41092300415039, -2.249258518218994, 24.59804916381836, -10.799315452575684, -11.608355522155762, -29.846139907836914, -0.3915275037288666, 17.00209617614746, 18.313566207885742, 2.123974084854126, 2.456591844558716, 2.6875839233398438, 1.4339579343795776, 15.673003196716309, 25.29364585876465, -19.557523727416992, -35.89505386352539, 23.944791793823242, 34.3020133972168, 24.23637580871582, -23.136571884155273, -38.27531433105469, 1.7714674472808838, -8.63630199432373, -4.165480136871338, 8.217475891113281, -28.60549545288086, 4.061021327972412, 17.43505859375, 22.405458450317383, 10.524434089660645, -3.6248996257781982, 21.858905792236328, -2.6001949310302734, -13.249305725097656, 18.782915115356445, -13.473758697509766, -8.242262840270996, -4.5469069480896, -4.586329460144043, 13.180908203125, 7.103739261627197, 5.417114734649658, -35.16435623168945, -2.9481382369995117, 2.1174421310424805, -26.279499053955078, -23.02336311340332, 26.75213050842285, -33.829811096191406, 30.583518981933594, 25.562440872192383, 25.834125518798828, -24.068389892578125, -9.528392791748047, -9.690902709960938, 22.650177001953125, -19.497394561767578, 16.51506996154785, -8.021600723266602, 15.524662017822266, -9.075368881225586, -35.28858947753906, -25.222322463989258, 12.004426002502441, -37.55748748779297, -5.605121612548828, -7.267649173736572, -9.998257637023926, -12.358080863952637, 21.08016586303711, 17.636323928833008, -14.590946197509766, 19.21555519104004, -10.13976764678955, -28.41403579711914, 17.516822814941406, 14.60798168182373, 32.39860916137695, -19.305950164794922, 19.06403923034668, 28.015954971313477, 14.500775337219238, 15.156339645385742, 14.313122749328613, 17.84012222290039, -10.367924690246582, -15.317477226257324, -24.867769241333008, 6.004666805267334, -22.100162506103516, -27.103830337524414, -26.805030822753906, 5.5664215087890625, -9.00851821899414, 5.571064472198486, 31.139318466186523, -23.910972595214844, -35.8131217956543, 1.3175015449523926, 0.0025541489012539387, 23.042030334472656, 26.57024574279785, -35.02629470825195, -30.990272521972656, -0.012890283949673176, 24.74156379699707, 31.33680534362793, 24.760929107666016, -34.27507781982422, -3.3614327907562256, -14.516254425048828, -23.44828987121582, -5.278907299041748, 10.316329956054688, 23.337583541870117, -4.661573886871338, 29.6596736907959, -1.4677523374557495, -9.859264373779297, -28.33161163330078, -0.5040313601493835, -29.85484504699707, -1.7209079265594482, 26.237838745117188, -8.252697944641113, -24.83066177368164, -18.613956451416016, -13.032927513122559, -10.945535659790039, -19.578943252563477, -24.785085678100586, 12.401606559753418, -38.58666229248047, -9.511815071105957, 21.237804412841797, -9.974510192871094, -21.746686935424805, 15.140369415283203, -11.379080772399902, -9.949780464172363, 2.2040367126464844, -8.138201713562012, -1.3748598098754883, 31.55333709716797, 2.433931350708008, 22.568679809570312, 30.834501266479492, -3.528090238571167, -26.626405715942383, 1.9642138481140137, -25.421123504638672, 0.6911474466323853, -26.953535079956055, -24.394987106323242, -26.668550491333008, -0.04311814531683922, 20.463716506958008, -7.102828502655029, 0.45588669180870056, -34.944095611572266, 11.839012145996094, -37.39617156982422, -6.104034900665283, 20.224435806274414, 20.66029930114746, -6.72397518157959, 19.287628173828125, 18.814149856567383, -9.10783576965332, -20.08397674560547, 21.15659523010254, -12.387557983398438, -6.267065525054932, -10.818909645080566, -28.013748168945312, 14.937870025634766, -19.657695770263672, 20.20416259765625, -10.489217758178711, -0.47333458065986633, 17.972688674926758, -21.310060501098633, -24.724918365478516, 27.606901168823242, -21.985870361328125, -26.058883666992188, -9.895240783691406, -2.2149765491485596, -0.8694751858711243, -14.110566139221191, -20.601470947265625, 26.956144332885742, -1.7654248476028442, -24.492712020874023, -34.47224044799805, 0.9787691235542297, 6.562127590179443, -34.884422302246094, -30.66114044189453, 6.488785743713379, 17.578248977661133, -31.584667205810547, -24.52179718017578, 28.551557540893555, -5.3768310546875, 19.492984771728516, 6.486822605133057, 21.298723220825195], \"yaxis\": \"y\"}, {\"hoverlabel\": {\"namelength\": 0}, \"hovertemplate\": \"color=C<br>x=%{x}<br>y=%{y}\", \"legendgroup\": \"color=C\", \"marker\": {\"color\": \"#00cc96\", \"symbol\": \"circle\"}, \"mode\": \"markers\", \"name\": \"color=C\", \"showlegend\": true, \"type\": \"scattergl\", \"x\": [33.89461898803711, 24.696945190429688, 34.09684371948242, 31.09794044494629, 33.21269989013672, 13.839614868164062, 12.841672897338867, 15.866884231567383, 18.176799774169922, 21.374866485595703, 25.975631713867188, 28.52549934387207, 20.444002151489258, 13.709993362426758, 28.58138084411621, 34.658199310302734, 16.888513565063477, 22.848020553588867, 24.038921356201172, 12.56811809539795, 36.948265075683594, 34.17661666870117, 22.666601181030273, 30.739473342895508, 16.056833267211914, -5.455222129821777, 26.156192779541016, 9.940361976623535, 30.77545928955078, -5.998576641082764, 10.68407154083252, 14.858774185180664, 13.740677833557129, 25.78824234008789, 29.170886993408203, 11.974937438964844, 31.752601623535156, 1.9763294458389282, 29.76191520690918, 22.615095138549805, 4.576952934265137, 21.640596389770508, 22.36779022216797, 20.400480270385742, 12.979303359985352, 16.110334396362305, 32.123268127441406, 11.317617416381836, 14.078481674194336, 24.52501106262207, 22.457855224609375, 34.230690002441406, 14.91649341583252, 19.733070373535156, 13.109824180603027, -18.941003799438477, 23.6060791015625, 20.808910369873047, 29.02210807800293, 14.490520477294922, 33.251277923583984, 25.64845085144043, 29.70757484436035, 32.352352142333984, -5.670625686645508, 1.9512841701507568, 34.901023864746094, 19.9991512298584, 25.359872817993164, 22.509784698486328, 33.83213424682617, 24.3444881439209, 34.095123291015625, 22.200422286987305, 27.516902923583984, 18.52845573425293, 25.73383140563965, 17.701457977294922, -23.924602508544922, -11.470259666442871, 35.33956527709961, 29.296804428100586, 0.2942761778831482, 33.57729721069336, 23.053009033203125, 24.12331199645996, 12.335628509521484, 36.8425178527832, 33.419734954833984, 30.31715202331543, 19.523466110229492, 4.889955520629883, 27.113454818725586, 24.31085968017578, 20.331802368164062, -27.539426803588867, 30.548490524291992, 14.558768272399902, 21.710758209228516, 19.121063232421875, 25.806753158569336, 36.14948272705078, 23.058229446411133, 15.839629173278809, 31.643644332885742, 32.695274353027344, 16.504161834716797, 23.947843551635742, 2.791672706604004, 17.355804443359375, 22.893980026245117, 20.500225067138672, 21.31464385986328, 21.68882942199707, 0.34486064314842224, 18.159833908081055, 18.958984375, 12.391273498535156, 4.727978229522705, 24.865530014038086, 22.898509979248047, 5.07696533203125, -10.338179588317871, 33.64957809448242, 22.740877151489258, 18.752225875854492, 26.599645614624023, 23.801111221313477, 18.668102264404297, 20.761098861694336, -26.532291412353516, 30.846912384033203, 4.65665340423584, 27.23775863647461, -4.789217948913574, -9.698410034179688, 14.947481155395508, 32.98736572265625, 25.94343376159668, 15.850567817687988, 27.908647537231445, 29.444259643554688, 10.854503631591797, 27.110071182250977, -11.159381866455078, 16.061500549316406, 15.94158935546875, 16.942224502563477, 32.14927291870117, 23.481698989868164, 12.719457626342773, 15.638174057006836, 32.05259323120117, 32.04253005981445, 24.586746215820312, 34.33793640136719, 34.43526077270508, 33.59734344482422, 35.16035461425781, 37.71175003051758, 32.436614990234375, -18.359895706176758, 27.47043228149414, 24.347373962402344, 37.062191009521484, 33.75714111328125, 9.652109146118164, -11.817557334899902, 20.211769104003906, 12.698498725891113, 26.665193557739258, 25.555673599243164, 19.434030532836914, 22.45429229736328, 26.339784622192383, 36.297157287597656, 24.18447494506836, 31.11349105834961, 36.62877655029297, 0.37965378165245056, 27.851804733276367, 26.72771453857422, -12.750198364257812, 27.774560928344727, 17.849702835083008, 3.8664917945861816, 27.294349670410156, 33.54915237426758, 3.087310314178467, 18.717296600341797, 16.054370880126953, 28.244630813598633, 26.60773277282715, 10.026689529418945, 31.978986740112305, 25.815401077270508, 25.657751083374023, 18.225383758544922, 30.362707138061523, 34.85761642456055, 26.05133056640625, 10.762650489807129, 27.06371307373047, 21.739885330200195, 30.871896743774414, 30.884510040283203, 27.85171890258789, 11.479235649108887, 16.933813095092773, 11.181997299194336, 9.972357749938965, -2.5843992233276367, 32.66912078857422, 33.60917663574219, 26.40032386779785, 27.71699333190918, 30.2889347076416, 10.436992645263672, 24.900880813598633, 17.529125213623047, 29.62058448791504, 16.993640899658203, 22.549753189086914, 24.448671340942383, 8.243634223937988, -1.2032315731048584, -25.134220123291016, 6.519277095794678, 24.752593994140625, 28.008743286132812, -10.344796180725098, 17.595136642456055, 6.690525054931641, 12.980245590209961, 26.876874923706055, 26.435585021972656, 32.34505081176758, 34.85283279418945, 35.04454803466797, 27.737754821777344, 37.82749557495117, 32.55564498901367, 18.258819580078125, 28.590801239013672, 29.349899291992188, 33.906044006347656, 27.555572509765625, 28.60051918029785, 19.861692428588867, 25.225366592407227, 27.003971099853516, 36.614891052246094, 26.9423828125, 37.318119049072266, -2.3708910942077637, 6.97165060043335, 26.84650993347168, 8.907486915588379, 29.48249626159668, 33.46531677246094, 33.496910095214844, 19.41704559326172, 19.08786964416504, 32.65037536621094, 26.312501907348633, 4.941014289855957, 31.53335952758789, 27.854114532470703, 3.9757492542266846, 29.207563400268555, 32.90827941894531, 8.006340980529785, 31.53537940979004, -1.4838515520095825, 31.037933349609375, 15.220687866210938, 7.967351913452148, 7.1745381355285645, 23.51116180419922, 5.614607810974121, 32.260292053222656, 27.8448543548584, 13.619573593139648, 32.61491775512695, 18.743738174438477, 28.6531982421875], \"xaxis\": \"x\", \"y\": [1.75298011302948, 4.5735087394714355, -5.652124404907227, 2.4824092388153076, -0.04979140684008598, 7.171701431274414, 10.631784439086914, 18.2694091796875, 14.79704761505127, 5.151194095611572, 1.944807529449463, 1.5285794734954834, 15.833423614501953, 7.574529647827148, -4.414791107177734, -9.265737533569336, 14.808225631713867, 10.999119758605957, 0.6417058706283569, 9.180561065673828, -0.8073545694351196, -10.275118827819824, 4.429019451141357, 2.687256097793579, 17.605451583862305, 21.416812896728516, -7.401101112365723, 16.642230987548828, -0.1513213962316513, 28.532161712646484, 15.468498229980469, 8.541936874389648, 19.065359115600586, -5.478473663330078, -1.3699212074279785, 15.9412260055542, -7.2869343757629395, 6.604886054992676, 0.4082373082637787, 2.5577330589294434, 8.890456199645996, 10.015218734741211, -3.837864637374878, 3.2116923332214355, 17.790143966674805, 8.894754409790039, 2.8294520378112793, 15.92361068725586, 16.724056243896484, 2.524001359939575, 17.80337905883789, -1.1833231449127197, 18.321897506713867, 10.632949829101562, 18.740198135375977, 31.737228393554688, 7.564917087554932, 6.0994977951049805, 0.08137184381484985, 9.709064483642578, -8.62760066986084, -2.605548143386841, -0.8275209665298462, -6.421863079071045, 14.600898742675781, 23.874235153198242, 2.7379279136657715, 13.421510696411133, 2.6640138626098633, 18.762874603271484, 1.8668264150619507, 12.404579162597656, -5.664463043212891, 5.716283798217773, 14.957382202148438, 14.365914344787598, 12.236498832702637, 13.825942039489746, 29.897113800048828, 30.995115280151367, 2.613945484161377, 1.9017013311386108, 10.970595359802246, -11.607925415039062, 11.162821769714355, 0.9684369564056396, 8.827201843261719, -0.6247326135635376, -9.733979225158691, 2.7159993648529053, 13.75855827331543, 18.923452377319336, -8.497342109680176, -6.3499579429626465, 9.294604301452637, 32.92953109741211, 3.867642879486084, 11.027950286865234, 16.871416091918945, 12.486017227172852, -6.174935817718506, 0.6950216889381409, 17.23796844482422, 10.407601356506348, -7.245955467224121, 0.5796250104904175, 18.36574363708496, 5.143332481384277, 22.21786880493164, 12.961506843566895, -3.5646581649780273, 2.7251358032226562, -14.52824878692627, 16.10434913635254, 10.770471572875977, 15.784195899963379, 15.575154304504395, 15.977394104003906, 6.308202266693115, 6.637857437133789, 14.202041625976562, 22.64617156982422, -26.312580108642578, -0.9210237264633179, 7.064698696136475, 11.946791648864746, 16.26213836669922, 9.264244079589844, 6.378353595733643, 6.441946506500244, 30.86240005493164, -1.0639551877975464, 23.41706085205078, 2.371372938156128, 28.903573989868164, -4.814262390136719, 9.718825340270996, -7.811829566955566, -2.329475164413452, 20.014667510986328, 0.5359098315238953, -5.010218620300293, 12.257797241210938, -0.6724433302879333, 31.03029441833496, 6.79405403137207, 9.40444278717041, 18.231739044189453, 4.40346097946167, 15.576359748840332, 23.334514617919922, 7.00037145614624, 12.913331031799316, 12.893867492675781, 12.744375228881836, -11.31861686706543, -11.437112808227539, -11.970337867736816, -9.34811019897461, -0.21305079758167267, -10.188789367675781, -16.528160095214844, -8.952621459960938, -6.283407688140869, 2.7884867191314697, 4.489533424377441, 7.5220465660095215, 28.584985733032227, 9.53371524810791, 22.82844352722168, 12.229656219482422, 5.458390712738037, 7.74751091003418, 6.021500587463379, -6.1779866218566895, 1.6636013984680176, 16.811697006225586, -2.9028432369232178, 2.5623302459716797, -18.958587646484375, 3.759674549102783, 13.469121932983398, 26.473297119140625, 7.097967147827148, 8.509032249450684, 15.609973907470703, -9.477778434753418, 6.583282947540283, 15.220762252807617, 16.115514755249023, 12.022850036621094, 4.485503196716309, 14.818148612976074, 7.9743852615356445, 12.078712463378906, 9.083067893981934, 9.032000541687012, 10.077506065368652, 6.101104736328125, -1.8840433359146118, 12.028421401977539, 4.126476287841797, 15.426352500915527, 13.46132755279541, 5.540835857391357, 5.3981099128723145, 9.192619323730469, 8.066544532775879, 11.506702423095703, 10.000513076782227, 3.418031692504883, 27.250112533569336, 5.120151996612549, -7.792751789093018, -2.5481507778167725, 0.4839383661746979, -4.201089859008789, 12.314228057861328, 11.628212928771973, 19.013553619384766, 5.7676849365234375, 19.397369384765625, 13.09617805480957, 15.457317352294922, 18.380229949951172, 29.92242431640625, 26.851219177246094, 11.106346130371094, 15.15376091003418, 11.010257720947266, 33.17289733886719, 5.368155002593994, 19.564308166503906, 24.110048294067383, 10.308670997619629, 11.00270938873291, 8.56464672088623, -11.06734848022461, -8.717169761657715, 5.800436973571777, -0.34678810834884644, 9.548052787780762, 19.077104568481445, -8.660367965698242, -7.032125473022461, 4.011202335357666, 11.922374725341797, 13.724903106689453, 18.802387237548828, 13.953489303588867, -5.853288650512695, 1.6397663354873657, 5.5141825675964355, 2.5170137882232666, 28.305023193359375, 3.9904732704162598, 3.578279733657837, 5.834274768829346, 7.57219934463501, -4.523406505584717, 6.420096397399902, 17.800615310668945, 17.111528396606445, -1.3453401327133179, 13.936030387878418, 14.891484260559082, 12.462202072143555, -2.230099678039551, 23.070430755615234, 9.605052947998047, -3.2242774963378906, 2.929267406463623, 7.993041038513184, 29.589984893798828, 6.506171226501465, 23.533475875854492, 10.16271686553955, 9.994431495666504, 16.261333465576172, 14.545120239257812, -4.478987216949463, 7.704747200012207, 22.966663360595703, -3.5991573333740234, 18.569866180419922, 6.694575786590576], \"yaxis\": \"y\"}],\n",
              "                        {\"legend\": {\"tracegroupgap\": 0}, \"margin\": {\"t\": 60}, \"template\": {\"data\": {\"bar\": [{\"error_x\": {\"color\": \"#2a3f5f\"}, \"error_y\": {\"color\": \"#2a3f5f\"}, \"marker\": {\"line\": {\"color\": \"#E5ECF6\", \"width\": 0.5}}, \"type\": \"bar\"}], \"barpolar\": [{\"marker\": {\"line\": {\"color\": \"#E5ECF6\", \"width\": 0.5}}, \"type\": \"barpolar\"}], \"carpet\": [{\"aaxis\": {\"endlinecolor\": \"#2a3f5f\", \"gridcolor\": \"white\", \"linecolor\": \"white\", \"minorgridcolor\": \"white\", \"startlinecolor\": \"#2a3f5f\"}, \"baxis\": {\"endlinecolor\": \"#2a3f5f\", \"gridcolor\": \"white\", \"linecolor\": \"white\", \"minorgridcolor\": \"white\", \"startlinecolor\": \"#2a3f5f\"}, \"type\": \"carpet\"}], \"choropleth\": [{\"colorbar\": {\"outlinewidth\": 0, \"ticks\": \"\"}, \"type\": \"choropleth\"}], \"contour\": [{\"colorbar\": {\"outlinewidth\": 0, \"ticks\": \"\"}, \"colorscale\": [[0.0, \"#0d0887\"], [0.1111111111111111, \"#46039f\"], [0.2222222222222222, \"#7201a8\"], [0.3333333333333333, \"#9c179e\"], [0.4444444444444444, \"#bd3786\"], [0.5555555555555556, \"#d8576b\"], [0.6666666666666666, \"#ed7953\"], [0.7777777777777778, \"#fb9f3a\"], [0.8888888888888888, \"#fdca26\"], [1.0, \"#f0f921\"]], \"type\": \"contour\"}], \"contourcarpet\": [{\"colorbar\": {\"outlinewidth\": 0, \"ticks\": \"\"}, \"type\": \"contourcarpet\"}], \"heatmap\": [{\"colorbar\": {\"outlinewidth\": 0, \"ticks\": \"\"}, \"colorscale\": [[0.0, \"#0d0887\"], [0.1111111111111111, \"#46039f\"], [0.2222222222222222, \"#7201a8\"], [0.3333333333333333, \"#9c179e\"], [0.4444444444444444, \"#bd3786\"], [0.5555555555555556, \"#d8576b\"], [0.6666666666666666, \"#ed7953\"], [0.7777777777777778, \"#fb9f3a\"], [0.8888888888888888, \"#fdca26\"], [1.0, \"#f0f921\"]], \"type\": \"heatmap\"}], \"heatmapgl\": [{\"colorbar\": {\"outlinewidth\": 0, \"ticks\": \"\"}, \"colorscale\": [[0.0, \"#0d0887\"], [0.1111111111111111, \"#46039f\"], [0.2222222222222222, \"#7201a8\"], [0.3333333333333333, \"#9c179e\"], [0.4444444444444444, \"#bd3786\"], [0.5555555555555556, \"#d8576b\"], [0.6666666666666666, \"#ed7953\"], [0.7777777777777778, \"#fb9f3a\"], [0.8888888888888888, \"#fdca26\"], [1.0, \"#f0f921\"]], \"type\": \"heatmapgl\"}], \"histogram\": [{\"marker\": {\"colorbar\": {\"outlinewidth\": 0, \"ticks\": \"\"}}, \"type\": \"histogram\"}], \"histogram2d\": [{\"colorbar\": {\"outlinewidth\": 0, \"ticks\": \"\"}, \"colorscale\": [[0.0, \"#0d0887\"], [0.1111111111111111, \"#46039f\"], [0.2222222222222222, \"#7201a8\"], [0.3333333333333333, \"#9c179e\"], [0.4444444444444444, \"#bd3786\"], [0.5555555555555556, \"#d8576b\"], [0.6666666666666666, \"#ed7953\"], [0.7777777777777778, \"#fb9f3a\"], [0.8888888888888888, \"#fdca26\"], [1.0, \"#f0f921\"]], \"type\": \"histogram2d\"}], \"histogram2dcontour\": [{\"colorbar\": {\"outlinewidth\": 0, \"ticks\": \"\"}, \"colorscale\": [[0.0, \"#0d0887\"], [0.1111111111111111, \"#46039f\"], [0.2222222222222222, \"#7201a8\"], [0.3333333333333333, \"#9c179e\"], [0.4444444444444444, \"#bd3786\"], [0.5555555555555556, \"#d8576b\"], [0.6666666666666666, \"#ed7953\"], [0.7777777777777778, \"#fb9f3a\"], [0.8888888888888888, \"#fdca26\"], [1.0, \"#f0f921\"]], \"type\": \"histogram2dcontour\"}], \"mesh3d\": [{\"colorbar\": {\"outlinewidth\": 0, \"ticks\": \"\"}, \"type\": \"mesh3d\"}], \"parcoords\": [{\"line\": {\"colorbar\": {\"outlinewidth\": 0, \"ticks\": \"\"}}, \"type\": \"parcoords\"}], \"pie\": [{\"automargin\": true, \"type\": \"pie\"}], \"scatter\": [{\"marker\": {\"colorbar\": {\"outlinewidth\": 0, \"ticks\": \"\"}}, \"type\": \"scatter\"}], \"scatter3d\": [{\"line\": {\"colorbar\": {\"outlinewidth\": 0, \"ticks\": \"\"}}, \"marker\": {\"colorbar\": {\"outlinewidth\": 0, \"ticks\": \"\"}}, \"type\": \"scatter3d\"}], \"scattercarpet\": [{\"marker\": {\"colorbar\": {\"outlinewidth\": 0, \"ticks\": \"\"}}, \"type\": \"scattercarpet\"}], \"scattergeo\": [{\"marker\": {\"colorbar\": {\"outlinewidth\": 0, \"ticks\": \"\"}}, \"type\": \"scattergeo\"}], \"scattergl\": [{\"marker\": {\"colorbar\": {\"outlinewidth\": 0, \"ticks\": \"\"}}, \"type\": \"scattergl\"}], \"scattermapbox\": [{\"marker\": {\"colorbar\": {\"outlinewidth\": 0, \"ticks\": \"\"}}, \"type\": \"scattermapbox\"}], \"scatterpolar\": [{\"marker\": {\"colorbar\": {\"outlinewidth\": 0, \"ticks\": \"\"}}, \"type\": \"scatterpolar\"}], \"scatterpolargl\": [{\"marker\": {\"colorbar\": {\"outlinewidth\": 0, \"ticks\": \"\"}}, \"type\": \"scatterpolargl\"}], \"scatterternary\": [{\"marker\": {\"colorbar\": {\"outlinewidth\": 0, \"ticks\": \"\"}}, \"type\": \"scatterternary\"}], \"surface\": [{\"colorbar\": {\"outlinewidth\": 0, \"ticks\": \"\"}, \"colorscale\": [[0.0, \"#0d0887\"], [0.1111111111111111, \"#46039f\"], [0.2222222222222222, \"#7201a8\"], [0.3333333333333333, \"#9c179e\"], [0.4444444444444444, \"#bd3786\"], [0.5555555555555556, \"#d8576b\"], [0.6666666666666666, \"#ed7953\"], [0.7777777777777778, \"#fb9f3a\"], [0.8888888888888888, \"#fdca26\"], [1.0, \"#f0f921\"]], \"type\": \"surface\"}], \"table\": [{\"cells\": {\"fill\": {\"color\": \"#EBF0F8\"}, \"line\": {\"color\": \"white\"}}, \"header\": {\"fill\": {\"color\": \"#C8D4E3\"}, \"line\": {\"color\": \"white\"}}, \"type\": \"table\"}]}, \"layout\": {\"annotationdefaults\": {\"arrowcolor\": \"#2a3f5f\", \"arrowhead\": 0, \"arrowwidth\": 1}, \"coloraxis\": {\"colorbar\": {\"outlinewidth\": 0, \"ticks\": \"\"}}, \"colorscale\": {\"diverging\": [[0, \"#8e0152\"], [0.1, \"#c51b7d\"], [0.2, \"#de77ae\"], [0.3, \"#f1b6da\"], [0.4, \"#fde0ef\"], [0.5, \"#f7f7f7\"], [0.6, \"#e6f5d0\"], [0.7, \"#b8e186\"], [0.8, \"#7fbc41\"], [0.9, \"#4d9221\"], [1, \"#276419\"]], \"sequential\": [[0.0, \"#0d0887\"], [0.1111111111111111, \"#46039f\"], [0.2222222222222222, \"#7201a8\"], [0.3333333333333333, \"#9c179e\"], [0.4444444444444444, \"#bd3786\"], [0.5555555555555556, \"#d8576b\"], [0.6666666666666666, \"#ed7953\"], [0.7777777777777778, \"#fb9f3a\"], [0.8888888888888888, \"#fdca26\"], [1.0, \"#f0f921\"]], \"sequentialminus\": [[0.0, \"#0d0887\"], [0.1111111111111111, \"#46039f\"], [0.2222222222222222, \"#7201a8\"], [0.3333333333333333, \"#9c179e\"], [0.4444444444444444, \"#bd3786\"], [0.5555555555555556, \"#d8576b\"], [0.6666666666666666, \"#ed7953\"], [0.7777777777777778, \"#fb9f3a\"], [0.8888888888888888, \"#fdca26\"], [1.0, \"#f0f921\"]]}, \"colorway\": [\"#636efa\", \"#EF553B\", \"#00cc96\", \"#ab63fa\", \"#FFA15A\", \"#19d3f3\", \"#FF6692\", \"#B6E880\", \"#FF97FF\", \"#FECB52\"], \"font\": {\"color\": \"#2a3f5f\"}, \"geo\": {\"bgcolor\": \"white\", \"lakecolor\": \"white\", \"landcolor\": \"#E5ECF6\", \"showlakes\": true, \"showland\": true, \"subunitcolor\": \"white\"}, \"hoverlabel\": {\"align\": \"left\"}, \"hovermode\": \"closest\", \"mapbox\": {\"style\": \"light\"}, \"paper_bgcolor\": \"white\", \"plot_bgcolor\": \"#E5ECF6\", \"polar\": {\"angularaxis\": {\"gridcolor\": \"white\", \"linecolor\": \"white\", \"ticks\": \"\"}, \"bgcolor\": \"#E5ECF6\", \"radialaxis\": {\"gridcolor\": \"white\", \"linecolor\": \"white\", \"ticks\": \"\"}}, \"scene\": {\"xaxis\": {\"backgroundcolor\": \"#E5ECF6\", \"gridcolor\": \"white\", \"gridwidth\": 2, \"linecolor\": \"white\", \"showbackground\": true, \"ticks\": \"\", \"zerolinecolor\": \"white\"}, \"yaxis\": {\"backgroundcolor\": \"#E5ECF6\", \"gridcolor\": \"white\", \"gridwidth\": 2, \"linecolor\": \"white\", \"showbackground\": true, \"ticks\": \"\", \"zerolinecolor\": \"white\"}, \"zaxis\": {\"backgroundcolor\": \"#E5ECF6\", \"gridcolor\": \"white\", \"gridwidth\": 2, \"linecolor\": \"white\", \"showbackground\": true, \"ticks\": \"\", \"zerolinecolor\": \"white\"}}, \"shapedefaults\": {\"line\": {\"color\": \"#2a3f5f\"}}, \"ternary\": {\"aaxis\": {\"gridcolor\": \"white\", \"linecolor\": \"white\", \"ticks\": \"\"}, \"baxis\": {\"gridcolor\": \"white\", \"linecolor\": \"white\", \"ticks\": \"\"}, \"bgcolor\": \"#E5ECF6\", \"caxis\": {\"gridcolor\": \"white\", \"linecolor\": \"white\", \"ticks\": \"\"}}, \"title\": {\"x\": 0.05}, \"xaxis\": {\"automargin\": true, \"gridcolor\": \"white\", \"linecolor\": \"white\", \"ticks\": \"\", \"title\": {\"standoff\": 15}, \"zerolinecolor\": \"white\", \"zerolinewidth\": 2}, \"yaxis\": {\"automargin\": true, \"gridcolor\": \"white\", \"linecolor\": \"white\", \"ticks\": \"\", \"title\": {\"standoff\": 15}, \"zerolinecolor\": \"white\", \"zerolinewidth\": 2}}}, \"xaxis\": {\"anchor\": \"y\", \"domain\": [0.0, 1.0], \"title\": {\"text\": \"x\"}}, \"yaxis\": {\"anchor\": \"x\", \"domain\": [0.0, 1.0], \"title\": {\"text\": \"y\"}}},\n",
              "                        {\"responsive\": true}\n",
              "                    ).then(function(){\n",
              "                            \n",
              "var gd = document.getElementById('a0799068-4629-4a81-bae9-c252024fe105');\n",
              "var x = new MutationObserver(function (mutations, observer) {{\n",
              "        var display = window.getComputedStyle(gd).display;\n",
              "        if (!display || display === 'none') {{\n",
              "            console.log([gd, 'removed!']);\n",
              "            Plotly.purge(gd);\n",
              "            observer.disconnect();\n",
              "        }}\n",
              "}});\n",
              "\n",
              "// Listen for the removal of the full notebook cells\n",
              "var notebookContainer = gd.closest('#notebook-container');\n",
              "if (notebookContainer) {{\n",
              "    x.observe(notebookContainer, {childList: true});\n",
              "}}\n",
              "\n",
              "// Listen for the clearing of the current output cell\n",
              "var outputEl = gd.closest('.output');\n",
              "if (outputEl) {{\n",
              "    x.observe(outputEl, {childList: true});\n",
              "}}\n",
              "\n",
              "                        })\n",
              "                };\n",
              "                \n",
              "            </script>\n",
              "        </div>\n",
              "</body>\n",
              "</html>"
            ]
          },
          "metadata": {
            "tags": []
          }
        }
      ]
    },
    {
      "cell_type": "markdown",
      "metadata": {
        "id": "zVTvdmdTI-yp"
      },
      "source": [
        "*results look somewhat similar with one class being almost seperate from the other two (very little inter-mix). While the other 2 classes are not easily seperable.*"
      ]
    },
    {
      "cell_type": "code",
      "metadata": {
        "id": "92PddirtJHrH"
      },
      "source": [
        ""
      ],
      "execution_count": null,
      "outputs": []
    }
  ]
}