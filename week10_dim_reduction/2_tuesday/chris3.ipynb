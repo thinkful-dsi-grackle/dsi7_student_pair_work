{
  "nbformat": 4,
  "nbformat_minor": 0,
  "metadata": {
    "colab": {
      "name": "Day 54 Lecture 2 SOM Assignment",
      "provenance": [],
      "collapsed_sections": []
    },
    "kernelspec": {
      "display_name": "Python 3",
      "language": "python",
      "name": "python3"
    },
    "language_info": {
      "codemirror_mode": {
        "name": "ipython",
        "version": 3
      },
      "file_extension": ".py",
      "mimetype": "text/x-python",
      "name": "python",
      "nbconvert_exporter": "python",
      "pygments_lexer": "ipython3",
      "version": "3.7.7"
    }
  },
  "cells": [
    {
      "cell_type": "code",
      "metadata": {
        "id": "Q1EFuZ0TR9wh",
        "colab": {
          "base_uri": "https://localhost:8080/"
        },
        "outputId": "5c44f5af-7b98-4147-a694-455b994e70cc"
      },
      "source": [
        "import pandas as pd\n",
        "import numpy as np\n",
        "\n",
        "from sklearn.preprocessing import StandardScaler\n",
        "from sklearn.decomposition import PCA\n",
        "from sklearn.manifold import TSNE\n",
        "\n",
        "!pip install minisom\n",
        "from minisom import MiniSom\n",
        "\n",
        "import seaborn as sns\n",
        "import matplotlib.pyplot as plt\n",
        "from matplotlib.gridspec import GridSpec\n",
        "\n",
        "%matplotlib inline"
      ],
      "execution_count": 144,
      "outputs": [
        {
          "output_type": "stream",
          "text": [
            "Requirement already satisfied: minisom in /usr/local/lib/python3.6/dist-packages (2.2.7)\n"
          ],
          "name": "stdout"
        }
      ]
    },
    {
      "cell_type": "code",
      "metadata": {
        "id": "IKfgx3rR_Dk6"
      },
      "source": [
        "def som_pie_grid(som, data, labels):\n",
        "  \"\"\"Helper to create piechart grid viz\n",
        "  \n",
        "  Example: https://raw.githubusercontent.com/JustGlowing/minisom/master/examples/resulting_images/som_iris_pies.png\n",
        "\n",
        "  :param som: fitted MiniSom instance\n",
        "  :param data: the data the MiniSom was fit to\n",
        "  :param labels: an array of labels to use for coloring visual\n",
        "  \"\"\"\n",
        "  labels_map = som.labels_map(data, labels)\n",
        "  label_names = np.unique(labels)\n",
        "\n",
        "  plt.figure(figsize=(70, 70))\n",
        "  the_grid = GridSpec(70, 70)\n",
        "  for position in labels_map.keys():\n",
        "      label_fracs = [labels_map[position][lab] for lab in label_names]\n",
        "      plt.subplot(the_grid[position[1] - 12, position[0]], aspect=1)\n",
        "      patches, texts = plt.pie(label_fracs)\n",
        "\n",
        "  plt.show()\n",
        "\n",
        "  # Cheating way to align legend, create a separate figure just \n",
        "  # for legend.  Will have superfluous whitespace below\n",
        "  plt.legend(patches, label_names, loc='upper left', ncol=5)\n",
        "  plt.axis('off')\n",
        "  plt.show()"
      ],
      "execution_count": 145,
      "outputs": []
    },
    {
      "cell_type": "markdown",
      "metadata": {
        "id": "aeCfl9S6A1ea"
      },
      "source": [
        "* Read in the data from `data_url`\n",
        "* Drop all NAs\n",
        "* Filter based on the `'Pos'` column to where only have the positions `['C', 'PG', 'SG']` remain\n",
        "* Drop all non-numeric columns\n",
        "* Scale the data"
      ]
    },
    {
      "cell_type": "code",
      "metadata": {
        "id": "z5L9jg9A_Bsc"
      },
      "source": [
        "data_url = \"https://tf-assets-prod.s3.amazonaws.com/tf-curric/data-science/Data%20Sets%20Clustering/nba_player_seasons.csv\""
      ],
      "execution_count": 146,
      "outputs": []
    },
    {
      "cell_type": "code",
      "metadata": {
        "id": "V53O_gTmA2In",
        "colab": {
          "base_uri": "https://localhost:8080/"
        },
        "outputId": "a7e5f1f3-4837-43ec-b12e-1bed33ed7bf0"
      },
      "source": [
        "df = pd.read_csv(data_url)\n",
        "df = df.dropna()\n",
        "df['Pos'].value_counts()"
      ],
      "execution_count": 147,
      "outputs": [
        {
          "output_type": "execute_result",
          "data": {
            "text/plain": [
              "SG       458\n",
              "PG       410\n",
              "PF       386\n",
              "SF       341\n",
              "C        286\n",
              "SF-SG      4\n",
              "PF-C       3\n",
              "SG-SF      2\n",
              "PF-SF      2\n",
              "C-PF       1\n",
              "PG-SG      1\n",
              "SG-PF      1\n",
              "Name: Pos, dtype: int64"
            ]
          },
          "metadata": {
            "tags": []
          },
          "execution_count": 147
        }
      ]
    },
    {
      "cell_type": "code",
      "metadata": {
        "id": "sAvQqGFjC7zQ",
        "outputId": "8930b9d4-c3c0-4a3c-c97c-a10df96ec4ac",
        "colab": {
          "base_uri": "https://localhost:8080/",
          "height": 555
        }
      },
      "source": [
        "pos = ['C','PG','SG']\n",
        "df = df[df.Pos.isin(pos)].reset_index(drop=True)\n",
        "df"
      ],
      "execution_count": 148,
      "outputs": [
        {
          "output_type": "execute_result",
          "data": {
            "text/html": [
              "<div>\n",
              "<style scoped>\n",
              "    .dataframe tbody tr th:only-of-type {\n",
              "        vertical-align: middle;\n",
              "    }\n",
              "\n",
              "    .dataframe tbody tr th {\n",
              "        vertical-align: top;\n",
              "    }\n",
              "\n",
              "    .dataframe thead th {\n",
              "        text-align: right;\n",
              "    }\n",
              "</style>\n",
              "<table border=\"1\" class=\"dataframe\">\n",
              "  <thead>\n",
              "    <tr style=\"text-align: right;\">\n",
              "      <th></th>\n",
              "      <th>Seas</th>\n",
              "      <th>Player</th>\n",
              "      <th>Pos</th>\n",
              "      <th>Age</th>\n",
              "      <th>Tm</th>\n",
              "      <th>G</th>\n",
              "      <th>GS</th>\n",
              "      <th>MP</th>\n",
              "      <th>FG</th>\n",
              "      <th>FGA</th>\n",
              "      <th>FG%</th>\n",
              "      <th>3P</th>\n",
              "      <th>3PA</th>\n",
              "      <th>3P%</th>\n",
              "      <th>2P</th>\n",
              "      <th>2PA</th>\n",
              "      <th>2P%</th>\n",
              "      <th>eFG%</th>\n",
              "      <th>FT</th>\n",
              "      <th>FTA</th>\n",
              "      <th>FT%</th>\n",
              "      <th>ORB</th>\n",
              "      <th>DRB</th>\n",
              "      <th>TRB</th>\n",
              "      <th>AST</th>\n",
              "      <th>STL</th>\n",
              "      <th>BLK</th>\n",
              "      <th>TOV</th>\n",
              "      <th>PF</th>\n",
              "      <th>PTS</th>\n",
              "    </tr>\n",
              "  </thead>\n",
              "  <tbody>\n",
              "    <tr>\n",
              "      <th>0</th>\n",
              "      <td>2019</td>\n",
              "      <td>Álex Abrines</td>\n",
              "      <td>SG</td>\n",
              "      <td>25</td>\n",
              "      <td>OKC</td>\n",
              "      <td>31</td>\n",
              "      <td>2</td>\n",
              "      <td>19.0</td>\n",
              "      <td>1.8</td>\n",
              "      <td>5.1</td>\n",
              "      <td>0.357</td>\n",
              "      <td>1.3</td>\n",
              "      <td>4.1</td>\n",
              "      <td>0.323</td>\n",
              "      <td>0.5</td>\n",
              "      <td>1.0</td>\n",
              "      <td>0.500</td>\n",
              "      <td>0.487</td>\n",
              "      <td>0.4</td>\n",
              "      <td>0.4</td>\n",
              "      <td>0.923</td>\n",
              "      <td>0.2</td>\n",
              "      <td>1.4</td>\n",
              "      <td>1.5</td>\n",
              "      <td>0.6</td>\n",
              "      <td>0.5</td>\n",
              "      <td>0.2</td>\n",
              "      <td>0.5</td>\n",
              "      <td>1.7</td>\n",
              "      <td>5.3</td>\n",
              "    </tr>\n",
              "    <tr>\n",
              "      <th>1</th>\n",
              "      <td>2019</td>\n",
              "      <td>Jaylen Adams</td>\n",
              "      <td>PG</td>\n",
              "      <td>22</td>\n",
              "      <td>ATL</td>\n",
              "      <td>34</td>\n",
              "      <td>1</td>\n",
              "      <td>12.6</td>\n",
              "      <td>1.1</td>\n",
              "      <td>3.2</td>\n",
              "      <td>0.345</td>\n",
              "      <td>0.7</td>\n",
              "      <td>2.2</td>\n",
              "      <td>0.338</td>\n",
              "      <td>0.4</td>\n",
              "      <td>1.1</td>\n",
              "      <td>0.361</td>\n",
              "      <td>0.459</td>\n",
              "      <td>0.2</td>\n",
              "      <td>0.3</td>\n",
              "      <td>0.778</td>\n",
              "      <td>0.3</td>\n",
              "      <td>1.4</td>\n",
              "      <td>1.8</td>\n",
              "      <td>1.9</td>\n",
              "      <td>0.4</td>\n",
              "      <td>0.1</td>\n",
              "      <td>0.8</td>\n",
              "      <td>1.3</td>\n",
              "      <td>3.2</td>\n",
              "    </tr>\n",
              "    <tr>\n",
              "      <th>2</th>\n",
              "      <td>2019</td>\n",
              "      <td>Steven Adams</td>\n",
              "      <td>C</td>\n",
              "      <td>25</td>\n",
              "      <td>OKC</td>\n",
              "      <td>80</td>\n",
              "      <td>80</td>\n",
              "      <td>33.4</td>\n",
              "      <td>6.0</td>\n",
              "      <td>10.1</td>\n",
              "      <td>0.595</td>\n",
              "      <td>0.0</td>\n",
              "      <td>0.0</td>\n",
              "      <td>0.000</td>\n",
              "      <td>6.0</td>\n",
              "      <td>10.1</td>\n",
              "      <td>0.596</td>\n",
              "      <td>0.595</td>\n",
              "      <td>1.8</td>\n",
              "      <td>3.7</td>\n",
              "      <td>0.500</td>\n",
              "      <td>4.9</td>\n",
              "      <td>4.6</td>\n",
              "      <td>9.5</td>\n",
              "      <td>1.6</td>\n",
              "      <td>1.5</td>\n",
              "      <td>1.0</td>\n",
              "      <td>1.7</td>\n",
              "      <td>2.6</td>\n",
              "      <td>13.9</td>\n",
              "    </tr>\n",
              "    <tr>\n",
              "      <th>3</th>\n",
              "      <td>2019</td>\n",
              "      <td>Bam Adebayo</td>\n",
              "      <td>C</td>\n",
              "      <td>21</td>\n",
              "      <td>MIA</td>\n",
              "      <td>82</td>\n",
              "      <td>28</td>\n",
              "      <td>23.3</td>\n",
              "      <td>3.4</td>\n",
              "      <td>5.9</td>\n",
              "      <td>0.576</td>\n",
              "      <td>0.0</td>\n",
              "      <td>0.2</td>\n",
              "      <td>0.200</td>\n",
              "      <td>3.4</td>\n",
              "      <td>5.7</td>\n",
              "      <td>0.588</td>\n",
              "      <td>0.579</td>\n",
              "      <td>2.0</td>\n",
              "      <td>2.8</td>\n",
              "      <td>0.735</td>\n",
              "      <td>2.0</td>\n",
              "      <td>5.3</td>\n",
              "      <td>7.3</td>\n",
              "      <td>2.2</td>\n",
              "      <td>0.9</td>\n",
              "      <td>0.8</td>\n",
              "      <td>1.5</td>\n",
              "      <td>2.5</td>\n",
              "      <td>8.9</td>\n",
              "    </tr>\n",
              "    <tr>\n",
              "      <th>4</th>\n",
              "      <td>2019</td>\n",
              "      <td>DeVaughn Akoon-Purcell</td>\n",
              "      <td>SG</td>\n",
              "      <td>25</td>\n",
              "      <td>DEN</td>\n",
              "      <td>7</td>\n",
              "      <td>0</td>\n",
              "      <td>3.1</td>\n",
              "      <td>0.4</td>\n",
              "      <td>1.4</td>\n",
              "      <td>0.300</td>\n",
              "      <td>0.0</td>\n",
              "      <td>0.6</td>\n",
              "      <td>0.000</td>\n",
              "      <td>0.4</td>\n",
              "      <td>0.9</td>\n",
              "      <td>0.500</td>\n",
              "      <td>0.300</td>\n",
              "      <td>0.1</td>\n",
              "      <td>0.3</td>\n",
              "      <td>0.500</td>\n",
              "      <td>0.1</td>\n",
              "      <td>0.4</td>\n",
              "      <td>0.6</td>\n",
              "      <td>0.9</td>\n",
              "      <td>0.3</td>\n",
              "      <td>0.0</td>\n",
              "      <td>0.3</td>\n",
              "      <td>0.6</td>\n",
              "      <td>1.0</td>\n",
              "    </tr>\n",
              "    <tr>\n",
              "      <th>...</th>\n",
              "      <td>...</td>\n",
              "      <td>...</td>\n",
              "      <td>...</td>\n",
              "      <td>...</td>\n",
              "      <td>...</td>\n",
              "      <td>...</td>\n",
              "      <td>...</td>\n",
              "      <td>...</td>\n",
              "      <td>...</td>\n",
              "      <td>...</td>\n",
              "      <td>...</td>\n",
              "      <td>...</td>\n",
              "      <td>...</td>\n",
              "      <td>...</td>\n",
              "      <td>...</td>\n",
              "      <td>...</td>\n",
              "      <td>...</td>\n",
              "      <td>...</td>\n",
              "      <td>...</td>\n",
              "      <td>...</td>\n",
              "      <td>...</td>\n",
              "      <td>...</td>\n",
              "      <td>...</td>\n",
              "      <td>...</td>\n",
              "      <td>...</td>\n",
              "      <td>...</td>\n",
              "      <td>...</td>\n",
              "      <td>...</td>\n",
              "      <td>...</td>\n",
              "      <td>...</td>\n",
              "    </tr>\n",
              "    <tr>\n",
              "      <th>1149</th>\n",
              "      <td>2016</td>\n",
              "      <td>Tony Wroten</td>\n",
              "      <td>PG</td>\n",
              "      <td>22</td>\n",
              "      <td>PHI</td>\n",
              "      <td>8</td>\n",
              "      <td>3</td>\n",
              "      <td>18.0</td>\n",
              "      <td>2.8</td>\n",
              "      <td>8.1</td>\n",
              "      <td>0.338</td>\n",
              "      <td>0.4</td>\n",
              "      <td>2.1</td>\n",
              "      <td>0.176</td>\n",
              "      <td>2.4</td>\n",
              "      <td>6.0</td>\n",
              "      <td>0.396</td>\n",
              "      <td>0.362</td>\n",
              "      <td>2.5</td>\n",
              "      <td>4.6</td>\n",
              "      <td>0.541</td>\n",
              "      <td>0.3</td>\n",
              "      <td>2.4</td>\n",
              "      <td>2.6</td>\n",
              "      <td>2.5</td>\n",
              "      <td>0.4</td>\n",
              "      <td>0.0</td>\n",
              "      <td>3.6</td>\n",
              "      <td>1.4</td>\n",
              "      <td>8.4</td>\n",
              "    </tr>\n",
              "    <tr>\n",
              "      <th>1150</th>\n",
              "      <td>2016</td>\n",
              "      <td>James Young</td>\n",
              "      <td>SG</td>\n",
              "      <td>20</td>\n",
              "      <td>BOS</td>\n",
              "      <td>29</td>\n",
              "      <td>0</td>\n",
              "      <td>6.9</td>\n",
              "      <td>0.4</td>\n",
              "      <td>1.2</td>\n",
              "      <td>0.306</td>\n",
              "      <td>0.2</td>\n",
              "      <td>0.9</td>\n",
              "      <td>0.231</td>\n",
              "      <td>0.2</td>\n",
              "      <td>0.3</td>\n",
              "      <td>0.500</td>\n",
              "      <td>0.389</td>\n",
              "      <td>0.0</td>\n",
              "      <td>0.1</td>\n",
              "      <td>0.250</td>\n",
              "      <td>0.1</td>\n",
              "      <td>0.8</td>\n",
              "      <td>0.9</td>\n",
              "      <td>0.3</td>\n",
              "      <td>0.2</td>\n",
              "      <td>0.0</td>\n",
              "      <td>0.2</td>\n",
              "      <td>0.6</td>\n",
              "      <td>1.0</td>\n",
              "    </tr>\n",
              "    <tr>\n",
              "      <th>1151</th>\n",
              "      <td>2016</td>\n",
              "      <td>Joe Young</td>\n",
              "      <td>PG</td>\n",
              "      <td>23</td>\n",
              "      <td>IND</td>\n",
              "      <td>41</td>\n",
              "      <td>0</td>\n",
              "      <td>9.4</td>\n",
              "      <td>1.5</td>\n",
              "      <td>4.1</td>\n",
              "      <td>0.367</td>\n",
              "      <td>0.2</td>\n",
              "      <td>1.1</td>\n",
              "      <td>0.217</td>\n",
              "      <td>1.3</td>\n",
              "      <td>3.0</td>\n",
              "      <td>0.423</td>\n",
              "      <td>0.396</td>\n",
              "      <td>0.5</td>\n",
              "      <td>0.6</td>\n",
              "      <td>0.800</td>\n",
              "      <td>0.1</td>\n",
              "      <td>1.1</td>\n",
              "      <td>1.2</td>\n",
              "      <td>1.6</td>\n",
              "      <td>0.4</td>\n",
              "      <td>0.0</td>\n",
              "      <td>0.8</td>\n",
              "      <td>0.7</td>\n",
              "      <td>3.8</td>\n",
              "    </tr>\n",
              "    <tr>\n",
              "      <th>1152</th>\n",
              "      <td>2016</td>\n",
              "      <td>Nick Young</td>\n",
              "      <td>SG</td>\n",
              "      <td>30</td>\n",
              "      <td>LAL</td>\n",
              "      <td>54</td>\n",
              "      <td>2</td>\n",
              "      <td>19.1</td>\n",
              "      <td>2.3</td>\n",
              "      <td>6.9</td>\n",
              "      <td>0.339</td>\n",
              "      <td>1.4</td>\n",
              "      <td>4.4</td>\n",
              "      <td>0.325</td>\n",
              "      <td>0.9</td>\n",
              "      <td>2.5</td>\n",
              "      <td>0.363</td>\n",
              "      <td>0.442</td>\n",
              "      <td>1.2</td>\n",
              "      <td>1.4</td>\n",
              "      <td>0.829</td>\n",
              "      <td>0.3</td>\n",
              "      <td>1.5</td>\n",
              "      <td>1.8</td>\n",
              "      <td>0.6</td>\n",
              "      <td>0.4</td>\n",
              "      <td>0.1</td>\n",
              "      <td>0.6</td>\n",
              "      <td>0.9</td>\n",
              "      <td>7.3</td>\n",
              "    </tr>\n",
              "    <tr>\n",
              "      <th>1153</th>\n",
              "      <td>2016</td>\n",
              "      <td>Cody Zeller</td>\n",
              "      <td>C</td>\n",
              "      <td>23</td>\n",
              "      <td>CHO</td>\n",
              "      <td>73</td>\n",
              "      <td>60</td>\n",
              "      <td>24.3</td>\n",
              "      <td>3.2</td>\n",
              "      <td>6.0</td>\n",
              "      <td>0.529</td>\n",
              "      <td>0.0</td>\n",
              "      <td>0.1</td>\n",
              "      <td>0.100</td>\n",
              "      <td>3.2</td>\n",
              "      <td>5.8</td>\n",
              "      <td>0.539</td>\n",
              "      <td>0.530</td>\n",
              "      <td>2.4</td>\n",
              "      <td>3.2</td>\n",
              "      <td>0.754</td>\n",
              "      <td>1.9</td>\n",
              "      <td>4.3</td>\n",
              "      <td>6.2</td>\n",
              "      <td>1.0</td>\n",
              "      <td>0.8</td>\n",
              "      <td>0.9</td>\n",
              "      <td>0.9</td>\n",
              "      <td>2.8</td>\n",
              "      <td>8.7</td>\n",
              "    </tr>\n",
              "  </tbody>\n",
              "</table>\n",
              "<p>1154 rows × 30 columns</p>\n",
              "</div>"
            ],
            "text/plain": [
              "      Seas                  Player Pos  Age   Tm  ...  STL  BLK  TOV   PF   PTS\n",
              "0     2019            Álex Abrines  SG   25  OKC  ...  0.5  0.2  0.5  1.7   5.3\n",
              "1     2019            Jaylen Adams  PG   22  ATL  ...  0.4  0.1  0.8  1.3   3.2\n",
              "2     2019            Steven Adams   C   25  OKC  ...  1.5  1.0  1.7  2.6  13.9\n",
              "3     2019             Bam Adebayo   C   21  MIA  ...  0.9  0.8  1.5  2.5   8.9\n",
              "4     2019  DeVaughn Akoon-Purcell  SG   25  DEN  ...  0.3  0.0  0.3  0.6   1.0\n",
              "...    ...                     ...  ..  ...  ...  ...  ...  ...  ...  ...   ...\n",
              "1149  2016             Tony Wroten  PG   22  PHI  ...  0.4  0.0  3.6  1.4   8.4\n",
              "1150  2016             James Young  SG   20  BOS  ...  0.2  0.0  0.2  0.6   1.0\n",
              "1151  2016               Joe Young  PG   23  IND  ...  0.4  0.0  0.8  0.7   3.8\n",
              "1152  2016              Nick Young  SG   30  LAL  ...  0.4  0.1  0.6  0.9   7.3\n",
              "1153  2016             Cody Zeller   C   23  CHO  ...  0.8  0.9  0.9  2.8   8.7\n",
              "\n",
              "[1154 rows x 30 columns]"
            ]
          },
          "metadata": {
            "tags": []
          },
          "execution_count": 148
        }
      ]
    },
    {
      "cell_type": "code",
      "metadata": {
        "id": "CUCxgbxYD1U8",
        "outputId": "8681aefd-7dc4-4937-93ac-c070ec490b04",
        "colab": {
          "base_uri": "https://localhost:8080/"
        }
      },
      "source": [
        "df.dtypes"
      ],
      "execution_count": 149,
      "outputs": [
        {
          "output_type": "execute_result",
          "data": {
            "text/plain": [
              "Seas        int64\n",
              "Player     object\n",
              "Pos        object\n",
              "Age         int64\n",
              "Tm         object\n",
              "G           int64\n",
              "GS          int64\n",
              "MP        float64\n",
              "FG        float64\n",
              "FGA       float64\n",
              "FG%       float64\n",
              "3P        float64\n",
              "3PA       float64\n",
              "3P%       float64\n",
              "2P        float64\n",
              "2PA       float64\n",
              "2P%       float64\n",
              "eFG%      float64\n",
              "FT        float64\n",
              "FTA       float64\n",
              "FT%       float64\n",
              "ORB       float64\n",
              "DRB       float64\n",
              "TRB       float64\n",
              "AST       float64\n",
              "STL       float64\n",
              "BLK       float64\n",
              "TOV       float64\n",
              "PF        float64\n",
              "PTS       float64\n",
              "dtype: object"
            ]
          },
          "metadata": {
            "tags": []
          },
          "execution_count": 149
        }
      ]
    },
    {
      "cell_type": "code",
      "metadata": {
        "id": "yDzWhfezD6mu"
      },
      "source": [
        "df = df.drop(['Player', 'Tm'], axis = 1)\n",
        "y = df['Pos']\n",
        "X = df.drop('Pos',axis=1)"
      ],
      "execution_count": 150,
      "outputs": []
    },
    {
      "cell_type": "code",
      "metadata": {
        "id": "cQHOu1hnEVbO"
      },
      "source": [
        "scale = StandardScaler()\n",
        "X_scale = scale.fit_transform(X)"
      ],
      "execution_count": 151,
      "outputs": []
    },
    {
      "cell_type": "markdown",
      "metadata": {
        "id": "XCWaLiRSBj9V"
      },
      "source": [
        "* Fit a `MiniSom` instance to the scaled data\n",
        "  * Choose your own grid size\n",
        "  * Set a `random_seed` to have reproducible results\n",
        "  * Initialize the `MiniSom` weight vectors using `.pca_weights_init()` or `.random_weights_init()`\n",
        "  * Train the model using `.train_random()` or `.train_batch()`"
      ]
    },
    {
      "cell_type": "code",
      "metadata": {
        "id": "ur0Ku2zF0vE4"
      },
      "source": [
        "n_cols = X.shape[1]\n",
        "grid_cols = 5\n",
        "grid_rows = 4\n",
        "\n",
        "som = MiniSom(grid_cols,grid_rows, n_cols, random_seed=42)\n",
        "som.pca_weights_init(X_scale)\n",
        "som.train_random(X_scale, num_iteration=200)\n"
      ],
      "execution_count": 152,
      "outputs": []
    },
    {
      "cell_type": "markdown",
      "metadata": {
        "id": "P1cL0S5fCHZF"
      },
      "source": [
        "* Use the helper function defined at the top of the notebook to plot the SOM's fit\n",
        "  * Use the players' positions (the `'Pos'` column) as the labels in the viz\n",
        "  * Experiment with the SOM's grid size, initialization method, and training method.  Decide a 'good' fit using this visual as guidance."
      ]
    },
    {
      "cell_type": "code",
      "metadata": {
        "id": "Bqk8eWE1CH02",
        "colab": {
          "base_uri": "https://localhost:8080/",
          "height": 471
        },
        "outputId": "f43af577-b048-4bec-b51d-455df9a72f80"
      },
      "source": [
        "som_pie_grid(som, X_scale, y)"
      ],
      "execution_count": 153,
      "outputs": [
        {
          "output_type": "display_data",
          "data": {
            "image/png": "[encoded data removed]",
            "text/plain": [
              "<Figure size 5040x5040 with 20 Axes>"
            ]
          },
          "metadata": {
            "tags": []
          }
        },
        {
          "output_type": "display_data",
          "data": {
            "image/png": "[encoded data removed]",
            "text/plain": [
              "<Figure size 432x288 with 1 Axes>"
            ]
          },
          "metadata": {
            "tags": [],
            "needs_background": "light"
          }
        }
      ]
    },
    {
      "cell_type": "markdown",
      "metadata": {
        "id": "J9nw_Z4UC0wL"
      },
      "source": [
        "* Perform dimension reduction (to 2d) with another method (perhaps `PCA` or `TSNE`).\n",
        "* Create a scatter plot of the results of this dimension reduction and color the scatter plot by the players' positions (the `'Pos'` column).\n",
        "  * How do these results compare to that of the SOM? What are the pros and cons of the different approaches you took in this notebook?"
      ]
    },
    {
      "cell_type": "code",
      "metadata": {
        "id": "yzFkHHNtKIir",
        "outputId": "d45ca344-efae-4774-f2a0-c530273d2bd8",
        "colab": {
          "base_uri": "https://localhost:8080/"
        }
      },
      "source": [
        "y = y.map(lambda x: 0 if x == 'SG' else 1 if x == 'PG' else 2)\n",
        "y"
      ],
      "execution_count": 154,
      "outputs": [
        {
          "output_type": "execute_result",
          "data": {
            "text/plain": [
              "0       0\n",
              "1       1\n",
              "2       2\n",
              "3       2\n",
              "4       0\n",
              "       ..\n",
              "1149    1\n",
              "1150    0\n",
              "1151    1\n",
              "1152    0\n",
              "1153    2\n",
              "Name: Pos, Length: 1154, dtype: int64"
            ]
          },
          "metadata": {
            "tags": []
          },
          "execution_count": 154
        }
      ]
    },
    {
      "cell_type": "code",
      "metadata": {
        "id": "L2dvcINQGwUJ"
      },
      "source": [
        "pca = PCA(n_components=2)\n",
        "X_pca = pca.fit_transform(X_scale)"
      ],
      "execution_count": 155,
      "outputs": []
    },
    {
      "cell_type": "code",
      "metadata": {
        "id": "Z0ZUyrqFyvZs",
        "colab": {
          "base_uri": "https://localhost:8080/",
          "height": 269
        },
        "outputId": "c2e19b4c-b698-47e2-9214-b507d53ce561"
      },
      "source": [
        "plt.scatter(\n",
        "X_pca[:, 0], X_pca[:, 1], c=y\n",
        ")\n",
        "plt.colorbar()\n",
        "plt.show()"
      ],
      "execution_count": 156,
      "outputs": [
        {
          "output_type": "display_data",
          "data": {
            "image/png": "[encoded data removed]",
            "text/plain": [
              "<Figure size 432x288 with 2 Axes>"
            ]
          },
          "metadata": {
            "tags": [],
            "needs_background": "light"
          }
        }
      ]
    }
  ]
}