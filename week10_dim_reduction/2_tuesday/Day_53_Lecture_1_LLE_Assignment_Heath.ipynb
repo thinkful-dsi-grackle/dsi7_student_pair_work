{
  "nbformat": 4,
  "nbformat_minor": 0,
  "metadata": {
    "colab": {
      "name": "Day 53 Lecture 1 LLE Assignment.ipynb",
      "provenance": [],
      "collapsed_sections": []
    },
    "kernelspec": {
      "display_name": "Python 3",
      "language": "python",
      "name": "python3"
    },
    "language_info": {
      "codemirror_mode": {
        "name": "ipython",
        "version": 3
      },
      "file_extension": ".py",
      "mimetype": "text/x-python",
      "name": "python",
      "nbconvert_exporter": "python",
      "pygments_lexer": "ipython3",
      "version": "3.7.6"
    }
  },
  "cells": [
    {
      "cell_type": "markdown",
      "metadata": {
        "id": "zp1_rp11lJFs"
      },
      "source": [
        "## Manifold Learning PCA LLE on Wine Dataset\n",
        "    \n",
        "Data Set Information: Kaggle Red Wine Dataset. 1599 examples with 12 features on wine quality. Predict wine quality (0-10).\n",
        "\n",
        "https://www.kaggle.com/piyushgoyal443/red-wine-dataset#wineQualityInfo.txt\n",
        "\n",
        "1) Load the wine quality data set.\n",
        "\n",
        "2) Fit PCA and plot the cumulative sum of the `pca.explained_variance_ratio_`.\n",
        "\n",
        "3) Identify the number of principal components to explain 90% of the variance.\n",
        "\n",
        "4) Build a logistic regression model and record the accuracy.\n",
        "\n",
        "5) Repeat step 4 using LLE with the same number of components and 30 neighbors.\n",
        "\n",
        "6) Record your observations and identify your top performing model. Does manifold learning improve predictive performance over PCA in this case?"
      ]
    },
    {
      "cell_type": "markdown",
      "metadata": {
        "id": "Yy1C2S7bUgly"
      },
      "source": [
        "### Red Wine Dataset\n",
        "\n",
        "Citation Request: This dataset is publicly available for research. The details are described in [Cortez et al., 2009]. Please include this citation if you plan to use this database:\n",
        "\n",
        "P. Cortez, A. Cerdeira, F. Almeida, T. Matos and J. Reis. Modeling wine preferences by data mining from physicochemical properties. In Decision Support Systems, Elsevier, 47(4):547-553. ISSN: 0167-9236.\n",
        "\n",
        "Available at: [@Elsevier] http://dx.doi.org/10.1016/j.dss.2009.05.016 \n",
        "\n",
        "#### Description of attributes:\n",
        "\n",
        "1 - fixed acidity: most acids involved with wine or fixed or nonvolatile (do not evaporate readily)\n",
        "\n",
        "2 - volatile acidity: the amount of acetic acid in wine, which at too high of levels can lead to an unpleasant, vinegar taste\n",
        "\n",
        "3 - citric acid: found in small quantities, citric acid can add 'freshness' and flavor to wines\n",
        "\n",
        "4 - residual sugar: the amount of sugar remaining after fermentation stops, it's rare to find wines with less than 1 gram/liter and wines with greater than 45 grams/liter are considered sweet\n",
        "\n",
        "5 - chlorides: the amount of salt in the wine\n",
        "\n",
        "6 - free sulfur dioxide: the free form of SO2 exists in equilibrium between molecular SO2 (as a dissolved gas) and bisulfite ion; it prevents microbial growth and the oxidation of wine\n",
        "\n",
        "7 - total sulfur dioxide: amount of free and bound forms of S02; in low concentrations, SO2 is mostly undetectable in wine, but at free SO2 concentrations over 50 ppm, SO2 becomes evident in the nose and taste of wine\n",
        "\n",
        "8 - density: the density of wine is close to that of water depending on the percent alcohol and sugar content\n",
        "\n",
        "9 - pH: describes how acidic or basic a wine is on a scale from 0 (very acidic) to 14 (very basic); most wines are between 3-4 on the pH scale\n",
        "\n",
        "10 - sulphates: a wine additive which can contribute to sulfur dioxide gas (S02) levels, wich acts as an antimicrobial and antioxidant\n",
        "\n",
        "11 - alcohol: the percent alcohol content of the wine\n",
        "\n",
        "#### Output variable (based on sensory data): \n",
        "\n",
        "12 - quality (score between 0 and 10)"
      ]
    },
    {
      "cell_type": "markdown",
      "metadata": {
        "id": "XSSStkYd0Hcz"
      },
      "source": [
        "### Load the wine quality dataset and important libraries"
      ]
    },
    {
      "cell_type": "code",
      "metadata": {
        "id": "V_sIAYjYUgl4",
        "colab": {
          "base_uri": "https://localhost:8080/",
          "height": 204
        },
        "outputId": "068b5dcf-2831-4712-dfde-4f4eebeb81cb"
      },
      "source": [
        "import numpy as np\n",
        "import pandas as pd\n",
        "import matplotlib.pyplot as plt\n",
        "from sklearn import manifold\n",
        "from sklearn.metrics import confusion_matrix\n",
        "from sklearn.metrics import accuracy_score\n",
        "from sklearn.decomposition import PCA\n",
        "from sklearn.model_selection import train_test_split\n",
        "from sklearn.linear_model import LogisticRegression\n",
        "from sklearn.preprocessing import StandardScaler\n",
        "\n",
        "df = pd.read_csv(\n",
        "    \"https://raw.githubusercontent.com/Thinkful-Ed/data-science-lectures/master/wineQualityReds.csv\"\n",
        ")\n",
        "df.head()"
      ],
      "execution_count": 1,
      "outputs": [
        {
          "output_type": "execute_result",
          "data": {
            "text/html": [
              "<div>\n",
              "<style scoped>\n",
              "    .dataframe tbody tr th:only-of-type {\n",
              "        vertical-align: middle;\n",
              "    }\n",
              "\n",
              "    .dataframe tbody tr th {\n",
              "        vertical-align: top;\n",
              "    }\n",
              "\n",
              "    .dataframe thead th {\n",
              "        text-align: right;\n",
              "    }\n",
              "</style>\n",
              "<table border=\"1\" class=\"dataframe\">\n",
              "  <thead>\n",
              "    <tr style=\"text-align: right;\">\n",
              "      <th></th>\n",
              "      <th>Unnamed: 0</th>\n",
              "      <th>fixed.acidity</th>\n",
              "      <th>volatile.acidity</th>\n",
              "      <th>citric.acid</th>\n",
              "      <th>residual.sugar</th>\n",
              "      <th>chlorides</th>\n",
              "      <th>free.sulfur.dioxide</th>\n",
              "      <th>total.sulfur.dioxide</th>\n",
              "      <th>density</th>\n",
              "      <th>pH</th>\n",
              "      <th>sulphates</th>\n",
              "      <th>alcohol</th>\n",
              "      <th>quality</th>\n",
              "    </tr>\n",
              "  </thead>\n",
              "  <tbody>\n",
              "    <tr>\n",
              "      <th>0</th>\n",
              "      <td>1</td>\n",
              "      <td>7.4</td>\n",
              "      <td>0.70</td>\n",
              "      <td>0.00</td>\n",
              "      <td>1.9</td>\n",
              "      <td>0.076</td>\n",
              "      <td>11.0</td>\n",
              "      <td>34.0</td>\n",
              "      <td>0.9978</td>\n",
              "      <td>3.51</td>\n",
              "      <td>0.56</td>\n",
              "      <td>9.4</td>\n",
              "      <td>5</td>\n",
              "    </tr>\n",
              "    <tr>\n",
              "      <th>1</th>\n",
              "      <td>2</td>\n",
              "      <td>7.8</td>\n",
              "      <td>0.88</td>\n",
              "      <td>0.00</td>\n",
              "      <td>2.6</td>\n",
              "      <td>0.098</td>\n",
              "      <td>25.0</td>\n",
              "      <td>67.0</td>\n",
              "      <td>0.9968</td>\n",
              "      <td>3.20</td>\n",
              "      <td>0.68</td>\n",
              "      <td>9.8</td>\n",
              "      <td>5</td>\n",
              "    </tr>\n",
              "    <tr>\n",
              "      <th>2</th>\n",
              "      <td>3</td>\n",
              "      <td>7.8</td>\n",
              "      <td>0.76</td>\n",
              "      <td>0.04</td>\n",
              "      <td>2.3</td>\n",
              "      <td>0.092</td>\n",
              "      <td>15.0</td>\n",
              "      <td>54.0</td>\n",
              "      <td>0.9970</td>\n",
              "      <td>3.26</td>\n",
              "      <td>0.65</td>\n",
              "      <td>9.8</td>\n",
              "      <td>5</td>\n",
              "    </tr>\n",
              "    <tr>\n",
              "      <th>3</th>\n",
              "      <td>4</td>\n",
              "      <td>11.2</td>\n",
              "      <td>0.28</td>\n",
              "      <td>0.56</td>\n",
              "      <td>1.9</td>\n",
              "      <td>0.075</td>\n",
              "      <td>17.0</td>\n",
              "      <td>60.0</td>\n",
              "      <td>0.9980</td>\n",
              "      <td>3.16</td>\n",
              "      <td>0.58</td>\n",
              "      <td>9.8</td>\n",
              "      <td>6</td>\n",
              "    </tr>\n",
              "    <tr>\n",
              "      <th>4</th>\n",
              "      <td>5</td>\n",
              "      <td>7.4</td>\n",
              "      <td>0.70</td>\n",
              "      <td>0.00</td>\n",
              "      <td>1.9</td>\n",
              "      <td>0.076</td>\n",
              "      <td>11.0</td>\n",
              "      <td>34.0</td>\n",
              "      <td>0.9978</td>\n",
              "      <td>3.51</td>\n",
              "      <td>0.56</td>\n",
              "      <td>9.4</td>\n",
              "      <td>5</td>\n",
              "    </tr>\n",
              "  </tbody>\n",
              "</table>\n",
              "</div>"
            ],
            "text/plain": [
              "   Unnamed: 0  fixed.acidity  volatile.acidity  ...  sulphates  alcohol  quality\n",
              "0           1            7.4              0.70  ...       0.56      9.4        5\n",
              "1           2            7.8              0.88  ...       0.68      9.8        5\n",
              "2           3            7.8              0.76  ...       0.65      9.8        5\n",
              "3           4           11.2              0.28  ...       0.58      9.8        6\n",
              "4           5            7.4              0.70  ...       0.56      9.4        5\n",
              "\n",
              "[5 rows x 13 columns]"
            ]
          },
          "metadata": {
            "tags": []
          },
          "execution_count": 1
        }
      ]
    },
    {
      "cell_type": "code",
      "metadata": {
        "id": "MbCJNI6fUgl7",
        "outputId": "19bf0fda-ea0e-4a27-ea48-2325e9612d6f",
        "colab": {
          "base_uri": "https://localhost:8080/"
        }
      },
      "source": [
        "# Check the shape of the DataFrame\n",
        "df.shape"
      ],
      "execution_count": 2,
      "outputs": [
        {
          "output_type": "execute_result",
          "data": {
            "text/plain": [
              "(1599, 13)"
            ]
          },
          "metadata": {
            "tags": []
          },
          "execution_count": 2
        }
      ]
    },
    {
      "cell_type": "code",
      "metadata": {
        "id": "H_NepmoSUgl-",
        "outputId": "bda076c1-7a00-4a53-bb93-206d9df3bcf6",
        "colab": {
          "base_uri": "https://localhost:8080/"
        }
      },
      "source": [
        "# Check for missing values and handle them appropriately if there are any\n",
        "df.isnull().value_counts"
      ],
      "execution_count": 8,
      "outputs": [
        {
          "output_type": "execute_result",
          "data": {
            "text/plain": [
              "<bound method DataFrame.value_counts of       Unnamed: 0  fixed.acidity  volatile.acidity  ...  sulphates  alcohol  quality\n",
              "0          False          False             False  ...      False    False    False\n",
              "1          False          False             False  ...      False    False    False\n",
              "2          False          False             False  ...      False    False    False\n",
              "3          False          False             False  ...      False    False    False\n",
              "4          False          False             False  ...      False    False    False\n",
              "...          ...            ...               ...  ...        ...      ...      ...\n",
              "1594       False          False             False  ...      False    False    False\n",
              "1595       False          False             False  ...      False    False    False\n",
              "1596       False          False             False  ...      False    False    False\n",
              "1597       False          False             False  ...      False    False    False\n",
              "1598       False          False             False  ...      False    False    False\n",
              "\n",
              "[1599 rows x 13 columns]>"
            ]
          },
          "metadata": {
            "tags": []
          },
          "execution_count": 8
        }
      ]
    },
    {
      "cell_type": "markdown",
      "metadata": {
        "id": "fee_5I0OmPVa"
      },
      "source": [
        "We're interested in predicting the `quality` based on the other features.\n",
        "* Investigate the `quality` column.\n",
        "    * What are the most common values?\n",
        "    * Show this with a plot."
      ]
    },
    {
      "cell_type": "code",
      "metadata": {
        "id": "ODp6B4-cUgmB",
        "outputId": "ef833dec-d563-4ca3-9549-6b2c75b8147c",
        "colab": {
          "base_uri": "https://localhost:8080/"
        }
      },
      "source": [
        "# Check the unique values from \"quality\" column\n",
        "df.quality.unique()"
      ],
      "execution_count": 14,
      "outputs": [
        {
          "output_type": "execute_result",
          "data": {
            "text/plain": [
              "array([5, 6, 7, 4, 8, 3])"
            ]
          },
          "metadata": {
            "tags": []
          },
          "execution_count": 14
        }
      ]
    },
    {
      "cell_type": "code",
      "metadata": {
        "id": "feFax9UQUgmE",
        "outputId": "340d1eeb-851a-4720-994e-4cf3216e37f0",
        "colab": {
          "base_uri": "https://localhost:8080/"
        }
      },
      "source": [
        "# Count the unique values in \"quality\" column\n",
        "df.quality.value_counts()"
      ],
      "execution_count": 16,
      "outputs": [
        {
          "output_type": "execute_result",
          "data": {
            "text/plain": [
              "5    681\n",
              "6    638\n",
              "7    199\n",
              "4     53\n",
              "8     18\n",
              "3     10\n",
              "Name: quality, dtype: int64"
            ]
          },
          "metadata": {
            "tags": []
          },
          "execution_count": 16
        }
      ]
    },
    {
      "cell_type": "code",
      "metadata": {
        "id": "IxpsmPWTUgmH",
        "scrolled": true,
        "outputId": "e78863c3-8127-4d30-b19a-7adde479e41d",
        "colab": {
          "base_uri": "https://localhost:8080/",
          "height": 265
        }
      },
      "source": [
        "# Plot for quality\n",
        "plt.hist(df.quality)\n",
        "plt.show()"
      ],
      "execution_count": 18,
      "outputs": [
        {
          "output_type": "display_data",
          "data": {
            "image/png": "[encoded data removed]",
            "text/plain": [
              "<Figure size 432x288 with 1 Axes>"
            ]
          },
          "metadata": {
            "tags": [],
            "needs_background": "light"
          }
        }
      ]
    },
    {
      "cell_type": "markdown",
      "metadata": {
        "id": "5aNfQ96sma7h"
      },
      "source": [
        "Separate the `X` and the `y` in preparation to create a supervised learning model."
      ]
    },
    {
      "cell_type": "code",
      "metadata": {
        "id": "3SRHe_VSUgmN"
      },
      "source": [
        "# Separate dependent and independent variables\n",
        "X = df.drop('quality', axis=1)\n",
        "y = df.quality"
      ],
      "execution_count": 20,
      "outputs": []
    },
    {
      "cell_type": "code",
      "metadata": {
        "id": "Tfag6TE2UgmQ",
        "outputId": "aff9cb4b-b1a5-4f5a-a7cb-09f3d44cc3ee",
        "colab": {
          "base_uri": "https://localhost:8080/"
        }
      },
      "source": [
        "# Check and print X\n",
        "print(X)"
      ],
      "execution_count": 21,
      "outputs": [
        {
          "output_type": "stream",
          "text": [
            "      Unnamed: 0  fixed.acidity  volatile.acidity  ...    pH  sulphates  alcohol\n",
            "0              1            7.4             0.700  ...  3.51       0.56      9.4\n",
            "1              2            7.8             0.880  ...  3.20       0.68      9.8\n",
            "2              3            7.8             0.760  ...  3.26       0.65      9.8\n",
            "3              4           11.2             0.280  ...  3.16       0.58      9.8\n",
            "4              5            7.4             0.700  ...  3.51       0.56      9.4\n",
            "...          ...            ...               ...  ...   ...        ...      ...\n",
            "1594        1595            6.2             0.600  ...  3.45       0.58     10.5\n",
            "1595        1596            5.9             0.550  ...  3.52       0.76     11.2\n",
            "1596        1597            6.3             0.510  ...  3.42       0.75     11.0\n",
            "1597        1598            5.9             0.645  ...  3.57       0.71     10.2\n",
            "1598        1599            6.0             0.310  ...  3.39       0.66     11.0\n",
            "\n",
            "[1599 rows x 12 columns]\n"
          ],
          "name": "stdout"
        }
      ]
    },
    {
      "cell_type": "code",
      "metadata": {
        "id": "2__ODQKAUgmT",
        "outputId": "a3ad6c5b-17c3-45dd-faeb-3b10c3286a78",
        "colab": {
          "base_uri": "https://localhost:8080/"
        }
      },
      "source": [
        "# Check and print y\n",
        "print(y)"
      ],
      "execution_count": 22,
      "outputs": [
        {
          "output_type": "stream",
          "text": [
            "0       5\n",
            "1       5\n",
            "2       5\n",
            "3       6\n",
            "4       5\n",
            "       ..\n",
            "1594    5\n",
            "1595    6\n",
            "1596    6\n",
            "1597    5\n",
            "1598    6\n",
            "Name: quality, Length: 1599, dtype: int64\n"
          ],
          "name": "stdout"
        }
      ]
    },
    {
      "cell_type": "markdown",
      "metadata": {
        "id": "gFb5XZMnmiTh"
      },
      "source": [
        "Perform a train test split."
      ]
    },
    {
      "cell_type": "code",
      "metadata": {
        "id": "7S9rgdgvUgmW"
      },
      "source": [
        "# Split the dataset into the Training set and Test set\n",
        "X_train, X_test, y_train, y_test = train_test_split(X, y, test_size=0.3)"
      ],
      "execution_count": 24,
      "outputs": []
    },
    {
      "cell_type": "markdown",
      "metadata": {
        "id": "pFZPihVHmpyB"
      },
      "source": [
        "In our modeling process we'd like to use `PCA`.  `PCA` is sensitive to data being on different scales.  Scale the data using `StandardScaler`."
      ]
    },
    {
      "cell_type": "code",
      "metadata": {
        "id": "raZ7lGC9UgmZ"
      },
      "source": [
        "# Feature Scaling\n",
        "scaler = StandardScaler()\n",
        "X_train_scaled = scaler.fit_transform(X_train)\n",
        "X_test_scaled = scaler.transform(X_test)"
      ],
      "execution_count": 25,
      "outputs": []
    },
    {
      "cell_type": "markdown",
      "metadata": {
        "id": "ZlurjUKgUgmc"
      },
      "source": [
        "Fit an instance of `PCA` to `X_train` and explore the `explained_variance_ratio_` attribute.  Create a plot showing the cumulative sum of `.explained_variance_ratio_`."
      ]
    },
    {
      "cell_type": "code",
      "metadata": {
        "id": "0HrFg2AZUgmc",
        "outputId": "98c8e149-95fe-4fe5-94fe-c5aca8d3917c",
        "colab": {
          "base_uri": "https://localhost:8080/",
          "height": 265
        }
      },
      "source": [
        "pca = PCA()\n",
        "model = pca.fit_transform(X_train_scaled)\n",
        "plt.plot(np.cumsum(pca.explained_variance_ratio_))\n",
        "plt.show()"
      ],
      "execution_count": 30,
      "outputs": [
        {
          "output_type": "display_data",
          "data": {
            "image/png": "[encoded data removed]",
            "text/plain": [
              "<Figure size 432x288 with 1 Axes>"
            ]
          },
          "metadata": {
            "tags": [],
            "needs_background": "light"
          }
        }
      ]
    },
    {
      "cell_type": "markdown",
      "metadata": {
        "id": "rR7esKeg1ykF"
      },
      "source": [
        "Looking at the cumulative variance explained, identify the `n_components` that explain 90% of the variance. Then build a `PCA` model with that number of components and transform the data."
      ]
    },
    {
      "cell_type": "code",
      "metadata": {
        "id": "Gav7BEv_Ugmh"
      },
      "source": [
        "# Apply PCA\n",
        "np.cumsum(pca.explained_variance_ratio_)\n",
        "n_components = 8\n",
        "pca = PCA(n_components=n_components)\n",
        "pca_train_data = pca.fit_transform(X_train_scaled)\n",
        "pca_test_data = pca.transform(X_test_scaled)"
      ],
      "execution_count": 35,
      "outputs": []
    },
    {
      "cell_type": "code",
      "metadata": {
        "id": "KftdFH26Ugmk",
        "outputId": "38862d14-a881-407d-d745-935dfaf4632d",
        "colab": {
          "base_uri": "https://localhost:8080/"
        }
      },
      "source": [
        "# Print the explained_variance\n",
        "pca.explained_variance_"
      ],
      "execution_count": 36,
      "outputs": [
        {
          "output_type": "execute_result",
          "data": {
            "text/plain": [
              "array([3.27736683, 1.90946156, 1.62080732, 1.21425144, 0.99640722,\n",
              "       0.86551532, 0.61943467, 0.54506521])"
            ]
          },
          "metadata": {
            "tags": []
          },
          "execution_count": 36
        }
      ]
    },
    {
      "cell_type": "markdown",
      "metadata": {
        "id": "u8ka7GMP3ER6"
      },
      "source": [
        "Fit and score a logistic regression model using the principal components as the predictors and the quality as the target."
      ]
    },
    {
      "cell_type": "code",
      "metadata": {
        "id": "mT1-f3PXUgmq",
        "outputId": "9b37db7e-2bc2-4d23-effc-629c42dd3248",
        "colab": {
          "base_uri": "https://localhost:8080/"
        }
      },
      "source": [
        "# Fitting Logistic regression into dataset\n",
        "lr = LogisticRegression()\n",
        "lr.fit(pca_train_data, y_train)\n",
        "lr_model_prediction = lr.predict(pca_test_data)\n",
        "lr.score(pca_test_data, y_test)"
      ],
      "execution_count": 49,
      "outputs": [
        {
          "output_type": "execute_result",
          "data": {
            "text/plain": [
              "0.5895833333333333"
            ]
          },
          "metadata": {
            "tags": []
          },
          "execution_count": 49
        }
      ]
    },
    {
      "cell_type": "markdown",
      "metadata": {
        "id": "zned7Ts6oIHY"
      },
      "source": [
        "Create and print a confusion matrix to further explore the model's performance."
      ]
    },
    {
      "cell_type": "code",
      "metadata": {
        "id": "UDpYbz3zoLfO",
        "outputId": "70141ab2-be1c-4373-9c3e-c322aaed83de",
        "colab": {
          "base_uri": "https://localhost:8080/"
        }
      },
      "source": [
        "confusion_matrix(y_test, lr_model_prediction)"
      ],
      "execution_count": 50,
      "outputs": [
        {
          "output_type": "execute_result",
          "data": {
            "text/plain": [
              "array([[  0,   1,   2,   1,   0,   0],\n",
              "       [  0,   0,  12,   2,   2,   0],\n",
              "       [  0,   1, 151,  32,   3,   1],\n",
              "       [  0,   0,  75, 115,  21,   0],\n",
              "       [  0,   0,   6,  35,  17,   0],\n",
              "       [  0,   0,   0,   2,   1,   0]])"
            ]
          },
          "metadata": {
            "tags": []
          },
          "execution_count": 50
        }
      ]
    },
    {
      "cell_type": "markdown",
      "metadata": {
        "id": "i0-ELOrIUgms"
      },
      "source": [
        "Repeat the modeling process but transform your predictors using `LocallyLinearEmbedding` instead of `PCA`.\n",
        "\n",
        "* Use `n_neighbors` = 30\n",
        "* Set `n_components` to the same value you used for PCA\n",
        "* Use `method`='standard'"
      ]
    },
    {
      "cell_type": "code",
      "metadata": {
        "id": "k5Rsn92xUgmt"
      },
      "source": [
        "# Apply LLE\n",
        "from sklearn.manifold import LocallyLinearEmbedding\n",
        "lle = LocallyLinearEmbedding(n_components=9, n_neighbors=30, method='standard')\n",
        "lle_train_data = lle.fit_transform(X_train_scaled)\n",
        "lle_test_data = lle.transform(X_test_scaled)"
      ],
      "execution_count": 51,
      "outputs": []
    },
    {
      "cell_type": "code",
      "metadata": {
        "id": "KX5NAKT5Ugmv",
        "outputId": "21f41c62-eafd-4dab-94fb-1203bf4db0c7",
        "colab": {
          "base_uri": "https://localhost:8080/"
        }
      },
      "source": [
        "# Fitting Logistic regression into dataset\n",
        "lr = LogisticRegression()\n",
        "lr.fit(lle_train_data, y_train)\n",
        "lr_model_prediction = lr.predict(lle_test_data)\n",
        "lr.score(lle_test_data, y_test)"
      ],
      "execution_count": 53,
      "outputs": [
        {
          "output_type": "execute_result",
          "data": {
            "text/plain": [
              "0.5291666666666667"
            ]
          },
          "metadata": {
            "tags": []
          },
          "execution_count": 53
        }
      ]
    },
    {
      "cell_type": "markdown",
      "metadata": {
        "id": "FABcyfHwUgmx"
      },
      "source": [
        "Compare the model performance. What conclusions can you draw?"
      ]
    },
    {
      "cell_type": "markdown",
      "metadata": {
        "id": "t3BuIZ6mOTgV"
      },
      "source": [
        "slightly lower performance by lle, so the data is more likely to be linear than in another shape"
      ]
    },
    {
      "cell_type": "code",
      "metadata": {
        "id": "_vWTUUDVOTI8"
      },
      "source": [
        ""
      ],
      "execution_count": null,
      "outputs": []
    }
  ]
}