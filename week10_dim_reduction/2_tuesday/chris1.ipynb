{
  "nbformat": 4,
  "nbformat_minor": 0,
  "metadata": {
    "colab": {
      "name": "Day 53 Lecture 1 LLE Assignment.ipynb",
      "provenance": [],
      "collapsed_sections": []
    },
    "kernelspec": {
      "display_name": "Python 3",
      "language": "python",
      "name": "python3"
    },
    "language_info": {
      "codemirror_mode": {
        "name": "ipython",
        "version": 3
      },
      "file_extension": ".py",
      "mimetype": "text/x-python",
      "name": "python",
      "nbconvert_exporter": "python",
      "pygments_lexer": "ipython3",
      "version": "3.7.6"
    }
  },
  "cells": [
    {
      "cell_type": "markdown",
      "metadata": {
        "id": "zp1_rp11lJFs"
      },
      "source": [
        "## Manifold Learning PCA LLE on Wine Dataset\n",
        "    \n",
        "Data Set Information: Kaggle Red Wine Dataset. 1599 examples with 12 features on wine quality. Predict wine quality (0-10).\n",
        "\n",
        "https://www.kaggle.com/piyushgoyal443/red-wine-dataset#wineQualityInfo.txt\n",
        "\n",
        "1) Load the wine quality data set.\n",
        "\n",
        "2) Fit PCA and plot the cumulative sum of the `pca.explained_variance_ratio_`.\n",
        "\n",
        "3) Identify the number of principal components to explain 90% of the variance.\n",
        "\n",
        "4) Build a logistic regression model and record the accuracy.\n",
        "\n",
        "5) Repeat step 4 using LLE with the same number of components and 30 neighbors.\n",
        "\n",
        "6) Record your observations and identify your top performing model. Does manifold learning improve predictive performance over PCA in this case?"
      ]
    },
    {
      "cell_type": "markdown",
      "metadata": {
        "id": "Yy1C2S7bUgly"
      },
      "source": [
        "### Red Wine Dataset\n",
        "\n",
        "Citation Request: This dataset is publicly available for research. The details are described in [Cortez et al., 2009]. Please include this citation if you plan to use this database:\n",
        "\n",
        "P. Cortez, A. Cerdeira, F. Almeida, T. Matos and J. Reis. Modeling wine preferences by data mining from physicochemical properties. In Decision Support Systems, Elsevier, 47(4):547-553. ISSN: 0167-9236.\n",
        "\n",
        "Available at: [@Elsevier] http://dx.doi.org/10.1016/j.dss.2009.05.016 \n",
        "\n",
        "#### Description of attributes:\n",
        "\n",
        "1 - fixed acidity: most acids involved with wine or fixed or nonvolatile (do not evaporate readily)\n",
        "\n",
        "2 - volatile acidity: the amount of acetic acid in wine, which at too high of levels can lead to an unpleasant, vinegar taste\n",
        "\n",
        "3 - citric acid: found in small quantities, citric acid can add 'freshness' and flavor to wines\n",
        "\n",
        "4 - residual sugar: the amount of sugar remaining after fermentation stops, it's rare to find wines with less than 1 gram/liter and wines with greater than 45 grams/liter are considered sweet\n",
        "\n",
        "5 - chlorides: the amount of salt in the wine\n",
        "\n",
        "6 - free sulfur dioxide: the free form of SO2 exists in equilibrium between molecular SO2 (as a dissolved gas) and bisulfite ion; it prevents microbial growth and the oxidation of wine\n",
        "\n",
        "7 - total sulfur dioxide: amount of free and bound forms of S02; in low concentrations, SO2 is mostly undetectable in wine, but at free SO2 concentrations over 50 ppm, SO2 becomes evident in the nose and taste of wine\n",
        "\n",
        "8 - density: the density of wine is close to that of water depending on the percent alcohol and sugar content\n",
        "\n",
        "9 - pH: describes how acidic or basic a wine is on a scale from 0 (very acidic) to 14 (very basic); most wines are between 3-4 on the pH scale\n",
        "\n",
        "10 - sulphates: a wine additive which can contribute to sulfur dioxide gas (S02) levels, wich acts as an antimicrobial and antioxidant\n",
        "\n",
        "11 - alcohol: the percent alcohol content of the wine\n",
        "\n",
        "#### Output variable (based on sensory data): \n",
        "\n",
        "12 - quality (score between 0 and 10)"
      ]
    },
    {
      "cell_type": "markdown",
      "metadata": {
        "id": "XSSStkYd0Hcz"
      },
      "source": [
        "### Load the wine quality dataset and important libraries"
      ]
    },
    {
      "cell_type": "code",
      "metadata": {
        "id": "V_sIAYjYUgl4",
        "colab": {
          "base_uri": "https://localhost:8080/",
          "height": 241
        },
        "outputId": "60bef4bd-2033-4dd4-9fb3-b70f8d9cbe83"
      },
      "source": [
        "import numpy as np\n",
        "import pandas as pd\n",
        "import matplotlib.pyplot as plt\n",
        "from sklearn import manifold\n",
        "from sklearn.metrics import confusion_matrix\n",
        "from sklearn.metrics import accuracy_score\n",
        "from sklearn.decomposition import PCA\n",
        "from sklearn.model_selection import train_test_split\n",
        "from sklearn.linear_model import LogisticRegression\n",
        "from sklearn.preprocessing import StandardScaler\n",
        "\n",
        "df = pd.read_csv(\n",
        "    \"https://raw.githubusercontent.com/Thinkful-Ed/data-science-lectures/master/wineQualityReds.csv\"\n",
        ")\n",
        "df.head()"
      ],
      "execution_count": 82,
      "outputs": [
        {
          "output_type": "execute_result",
          "data": {
            "text/html": [
              "<div>\n",
              "<style scoped>\n",
              "    .dataframe tbody tr th:only-of-type {\n",
              "        vertical-align: middle;\n",
              "    }\n",
              "\n",
              "    .dataframe tbody tr th {\n",
              "        vertical-align: top;\n",
              "    }\n",
              "\n",
              "    .dataframe thead th {\n",
              "        text-align: right;\n",
              "    }\n",
              "</style>\n",
              "<table border=\"1\" class=\"dataframe\">\n",
              "  <thead>\n",
              "    <tr style=\"text-align: right;\">\n",
              "      <th></th>\n",
              "      <th>Unnamed: 0</th>\n",
              "      <th>fixed.acidity</th>\n",
              "      <th>volatile.acidity</th>\n",
              "      <th>citric.acid</th>\n",
              "      <th>residual.sugar</th>\n",
              "      <th>chlorides</th>\n",
              "      <th>free.sulfur.dioxide</th>\n",
              "      <th>total.sulfur.dioxide</th>\n",
              "      <th>density</th>\n",
              "      <th>pH</th>\n",
              "      <th>sulphates</th>\n",
              "      <th>alcohol</th>\n",
              "      <th>quality</th>\n",
              "    </tr>\n",
              "  </thead>\n",
              "  <tbody>\n",
              "    <tr>\n",
              "      <th>0</th>\n",
              "      <td>1</td>\n",
              "      <td>7.4</td>\n",
              "      <td>0.70</td>\n",
              "      <td>0.00</td>\n",
              "      <td>1.9</td>\n",
              "      <td>0.076</td>\n",
              "      <td>11.0</td>\n",
              "      <td>34.0</td>\n",
              "      <td>0.9978</td>\n",
              "      <td>3.51</td>\n",
              "      <td>0.56</td>\n",
              "      <td>9.4</td>\n",
              "      <td>5</td>\n",
              "    </tr>\n",
              "    <tr>\n",
              "      <th>1</th>\n",
              "      <td>2</td>\n",
              "      <td>7.8</td>\n",
              "      <td>0.88</td>\n",
              "      <td>0.00</td>\n",
              "      <td>2.6</td>\n",
              "      <td>0.098</td>\n",
              "      <td>25.0</td>\n",
              "      <td>67.0</td>\n",
              "      <td>0.9968</td>\n",
              "      <td>3.20</td>\n",
              "      <td>0.68</td>\n",
              "      <td>9.8</td>\n",
              "      <td>5</td>\n",
              "    </tr>\n",
              "    <tr>\n",
              "      <th>2</th>\n",
              "      <td>3</td>\n",
              "      <td>7.8</td>\n",
              "      <td>0.76</td>\n",
              "      <td>0.04</td>\n",
              "      <td>2.3</td>\n",
              "      <td>0.092</td>\n",
              "      <td>15.0</td>\n",
              "      <td>54.0</td>\n",
              "      <td>0.9970</td>\n",
              "      <td>3.26</td>\n",
              "      <td>0.65</td>\n",
              "      <td>9.8</td>\n",
              "      <td>5</td>\n",
              "    </tr>\n",
              "    <tr>\n",
              "      <th>3</th>\n",
              "      <td>4</td>\n",
              "      <td>11.2</td>\n",
              "      <td>0.28</td>\n",
              "      <td>0.56</td>\n",
              "      <td>1.9</td>\n",
              "      <td>0.075</td>\n",
              "      <td>17.0</td>\n",
              "      <td>60.0</td>\n",
              "      <td>0.9980</td>\n",
              "      <td>3.16</td>\n",
              "      <td>0.58</td>\n",
              "      <td>9.8</td>\n",
              "      <td>6</td>\n",
              "    </tr>\n",
              "    <tr>\n",
              "      <th>4</th>\n",
              "      <td>5</td>\n",
              "      <td>7.4</td>\n",
              "      <td>0.70</td>\n",
              "      <td>0.00</td>\n",
              "      <td>1.9</td>\n",
              "      <td>0.076</td>\n",
              "      <td>11.0</td>\n",
              "      <td>34.0</td>\n",
              "      <td>0.9978</td>\n",
              "      <td>3.51</td>\n",
              "      <td>0.56</td>\n",
              "      <td>9.4</td>\n",
              "      <td>5</td>\n",
              "    </tr>\n",
              "  </tbody>\n",
              "</table>\n",
              "</div>"
            ],
            "text/plain": [
              "   Unnamed: 0  fixed.acidity  volatile.acidity  ...  sulphates  alcohol  quality\n",
              "0           1            7.4              0.70  ...       0.56      9.4        5\n",
              "1           2            7.8              0.88  ...       0.68      9.8        5\n",
              "2           3            7.8              0.76  ...       0.65      9.8        5\n",
              "3           4           11.2              0.28  ...       0.58      9.8        6\n",
              "4           5            7.4              0.70  ...       0.56      9.4        5\n",
              "\n",
              "[5 rows x 13 columns]"
            ]
          },
          "metadata": {
            "tags": []
          },
          "execution_count": 82
        }
      ]
    },
    {
      "cell_type": "code",
      "metadata": {
        "id": "MbCJNI6fUgl7",
        "outputId": "771ce837-ff6d-44f2-aada-234a80b48729",
        "colab": {
          "base_uri": "https://localhost:8080/"
        }
      },
      "source": [
        "# Check the shape of the DataFrame\n",
        "df.shape"
      ],
      "execution_count": 83,
      "outputs": [
        {
          "output_type": "execute_result",
          "data": {
            "text/plain": [
              "(1599, 13)"
            ]
          },
          "metadata": {
            "tags": []
          },
          "execution_count": 83
        }
      ]
    },
    {
      "cell_type": "code",
      "metadata": {
        "id": "H_NepmoSUgl-",
        "outputId": "9cb2f87c-bfc3-4968-b636-fc5548cbb8f7",
        "colab": {
          "base_uri": "https://localhost:8080/"
        }
      },
      "source": [
        "# Check for missing values and handle them appropriately if there are any\n",
        "df.info()"
      ],
      "execution_count": 84,
      "outputs": [
        {
          "output_type": "stream",
          "text": [
            "<class 'pandas.core.frame.DataFrame'>\n",
            "RangeIndex: 1599 entries, 0 to 1598\n",
            "Data columns (total 13 columns):\n",
            " #   Column                Non-Null Count  Dtype  \n",
            "---  ------                --------------  -----  \n",
            " 0   Unnamed: 0            1599 non-null   int64  \n",
            " 1   fixed.acidity         1599 non-null   float64\n",
            " 2   volatile.acidity      1599 non-null   float64\n",
            " 3   citric.acid           1599 non-null   float64\n",
            " 4   residual.sugar        1599 non-null   float64\n",
            " 5   chlorides             1599 non-null   float64\n",
            " 6   free.sulfur.dioxide   1599 non-null   float64\n",
            " 7   total.sulfur.dioxide  1599 non-null   float64\n",
            " 8   density               1599 non-null   float64\n",
            " 9   pH                    1599 non-null   float64\n",
            " 10  sulphates             1599 non-null   float64\n",
            " 11  alcohol               1599 non-null   float64\n",
            " 12  quality               1599 non-null   int64  \n",
            "dtypes: float64(11), int64(2)\n",
            "memory usage: 162.5 KB\n"
          ],
          "name": "stdout"
        }
      ]
    },
    {
      "cell_type": "markdown",
      "metadata": {
        "id": "fee_5I0OmPVa"
      },
      "source": [
        "We're interested in predicting the `quality` based on the other features.\n",
        "* Investigate the `quality` column.\n",
        "    * What are the most common values?\n",
        "    * Show this with a plot."
      ]
    },
    {
      "cell_type": "code",
      "metadata": {
        "id": "BG6t6d2hI4hu",
        "outputId": "4c1b28c4-ffed-4b34-c74c-d8a31b721823",
        "colab": {
          "base_uri": "https://localhost:8080/"
        }
      },
      "source": [
        "df['quality'].value_counts()"
      ],
      "execution_count": 85,
      "outputs": [
        {
          "output_type": "execute_result",
          "data": {
            "text/plain": [
              "5    681\n",
              "6    638\n",
              "7    199\n",
              "4     53\n",
              "8     18\n",
              "3     10\n",
              "Name: quality, dtype: int64"
            ]
          },
          "metadata": {
            "tags": []
          },
          "execution_count": 85
        }
      ]
    },
    {
      "cell_type": "code",
      "metadata": {
        "id": "ODp6B4-cUgmB",
        "outputId": "ed0bd137-a982-4a74-a33c-300bf62c8360",
        "colab": {
          "base_uri": "https://localhost:8080/",
          "height": 282
        }
      },
      "source": [
        "# Check the unique values from \"quality\" column\n",
        "df1 = df.groupby('quality').count()\n",
        "plt.bar(df1.index, df1['pH'])"
      ],
      "execution_count": 86,
      "outputs": [
        {
          "output_type": "execute_result",
          "data": {
            "text/plain": [
              "<BarContainer object of 6 artists>"
            ]
          },
          "metadata": {
            "tags": []
          },
          "execution_count": 86
        },
        {
          "output_type": "display_data",
          "data": {
            "image/png": "[encoded data removed]",
            "text/plain": [
              "<Figure size 432x288 with 1 Axes>"
            ]
          },
          "metadata": {
            "tags": [],
            "needs_background": "light"
          }
        }
      ]
    },
    {
      "cell_type": "markdown",
      "metadata": {
        "id": "5aNfQ96sma7h"
      },
      "source": [
        "Separate the `X` and the `y` in preparation to create a supervised learning model."
      ]
    },
    {
      "cell_type": "code",
      "metadata": {
        "id": "3SRHe_VSUgmN",
        "outputId": "ddad73bf-6aba-4a5d-9642-3d0249741ec4",
        "colab": {
          "base_uri": "https://localhost:8080/"
        }
      },
      "source": [
        "# Separate dependent and independent variables\n",
        "y=df['quality']\n",
        "y"
      ],
      "execution_count": 87,
      "outputs": [
        {
          "output_type": "execute_result",
          "data": {
            "text/plain": [
              "0       5\n",
              "1       5\n",
              "2       5\n",
              "3       6\n",
              "4       5\n",
              "       ..\n",
              "1594    5\n",
              "1595    6\n",
              "1596    6\n",
              "1597    5\n",
              "1598    6\n",
              "Name: quality, Length: 1599, dtype: int64"
            ]
          },
          "metadata": {
            "tags": []
          },
          "execution_count": 87
        }
      ]
    },
    {
      "cell_type": "code",
      "metadata": {
        "id": "Tfag6TE2UgmQ",
        "outputId": "2011db03-6216-45d4-98f3-442f90d7ef44",
        "colab": {
          "base_uri": "https://localhost:8080/",
          "height": 456
        }
      },
      "source": [
        "# Check and print X\n",
        "X=df.drop('quality',axis=1)\n",
        "X"
      ],
      "execution_count": 88,
      "outputs": [
        {
          "output_type": "execute_result",
          "data": {
            "text/html": [
              "<div>\n",
              "<style scoped>\n",
              "    .dataframe tbody tr th:only-of-type {\n",
              "        vertical-align: middle;\n",
              "    }\n",
              "\n",
              "    .dataframe tbody tr th {\n",
              "        vertical-align: top;\n",
              "    }\n",
              "\n",
              "    .dataframe thead th {\n",
              "        text-align: right;\n",
              "    }\n",
              "</style>\n",
              "<table border=\"1\" class=\"dataframe\">\n",
              "  <thead>\n",
              "    <tr style=\"text-align: right;\">\n",
              "      <th></th>\n",
              "      <th>Unnamed: 0</th>\n",
              "      <th>fixed.acidity</th>\n",
              "      <th>volatile.acidity</th>\n",
              "      <th>citric.acid</th>\n",
              "      <th>residual.sugar</th>\n",
              "      <th>chlorides</th>\n",
              "      <th>free.sulfur.dioxide</th>\n",
              "      <th>total.sulfur.dioxide</th>\n",
              "      <th>density</th>\n",
              "      <th>pH</th>\n",
              "      <th>sulphates</th>\n",
              "      <th>alcohol</th>\n",
              "    </tr>\n",
              "  </thead>\n",
              "  <tbody>\n",
              "    <tr>\n",
              "      <th>0</th>\n",
              "      <td>1</td>\n",
              "      <td>7.4</td>\n",
              "      <td>0.700</td>\n",
              "      <td>0.00</td>\n",
              "      <td>1.9</td>\n",
              "      <td>0.076</td>\n",
              "      <td>11.0</td>\n",
              "      <td>34.0</td>\n",
              "      <td>0.99780</td>\n",
              "      <td>3.51</td>\n",
              "      <td>0.56</td>\n",
              "      <td>9.4</td>\n",
              "    </tr>\n",
              "    <tr>\n",
              "      <th>1</th>\n",
              "      <td>2</td>\n",
              "      <td>7.8</td>\n",
              "      <td>0.880</td>\n",
              "      <td>0.00</td>\n",
              "      <td>2.6</td>\n",
              "      <td>0.098</td>\n",
              "      <td>25.0</td>\n",
              "      <td>67.0</td>\n",
              "      <td>0.99680</td>\n",
              "      <td>3.20</td>\n",
              "      <td>0.68</td>\n",
              "      <td>9.8</td>\n",
              "    </tr>\n",
              "    <tr>\n",
              "      <th>2</th>\n",
              "      <td>3</td>\n",
              "      <td>7.8</td>\n",
              "      <td>0.760</td>\n",
              "      <td>0.04</td>\n",
              "      <td>2.3</td>\n",
              "      <td>0.092</td>\n",
              "      <td>15.0</td>\n",
              "      <td>54.0</td>\n",
              "      <td>0.99700</td>\n",
              "      <td>3.26</td>\n",
              "      <td>0.65</td>\n",
              "      <td>9.8</td>\n",
              "    </tr>\n",
              "    <tr>\n",
              "      <th>3</th>\n",
              "      <td>4</td>\n",
              "      <td>11.2</td>\n",
              "      <td>0.280</td>\n",
              "      <td>0.56</td>\n",
              "      <td>1.9</td>\n",
              "      <td>0.075</td>\n",
              "      <td>17.0</td>\n",
              "      <td>60.0</td>\n",
              "      <td>0.99800</td>\n",
              "      <td>3.16</td>\n",
              "      <td>0.58</td>\n",
              "      <td>9.8</td>\n",
              "    </tr>\n",
              "    <tr>\n",
              "      <th>4</th>\n",
              "      <td>5</td>\n",
              "      <td>7.4</td>\n",
              "      <td>0.700</td>\n",
              "      <td>0.00</td>\n",
              "      <td>1.9</td>\n",
              "      <td>0.076</td>\n",
              "      <td>11.0</td>\n",
              "      <td>34.0</td>\n",
              "      <td>0.99780</td>\n",
              "      <td>3.51</td>\n",
              "      <td>0.56</td>\n",
              "      <td>9.4</td>\n",
              "    </tr>\n",
              "    <tr>\n",
              "      <th>...</th>\n",
              "      <td>...</td>\n",
              "      <td>...</td>\n",
              "      <td>...</td>\n",
              "      <td>...</td>\n",
              "      <td>...</td>\n",
              "      <td>...</td>\n",
              "      <td>...</td>\n",
              "      <td>...</td>\n",
              "      <td>...</td>\n",
              "      <td>...</td>\n",
              "      <td>...</td>\n",
              "      <td>...</td>\n",
              "    </tr>\n",
              "    <tr>\n",
              "      <th>1594</th>\n",
              "      <td>1595</td>\n",
              "      <td>6.2</td>\n",
              "      <td>0.600</td>\n",
              "      <td>0.08</td>\n",
              "      <td>2.0</td>\n",
              "      <td>0.090</td>\n",
              "      <td>32.0</td>\n",
              "      <td>44.0</td>\n",
              "      <td>0.99490</td>\n",
              "      <td>3.45</td>\n",
              "      <td>0.58</td>\n",
              "      <td>10.5</td>\n",
              "    </tr>\n",
              "    <tr>\n",
              "      <th>1595</th>\n",
              "      <td>1596</td>\n",
              "      <td>5.9</td>\n",
              "      <td>0.550</td>\n",
              "      <td>0.10</td>\n",
              "      <td>2.2</td>\n",
              "      <td>0.062</td>\n",
              "      <td>39.0</td>\n",
              "      <td>51.0</td>\n",
              "      <td>0.99512</td>\n",
              "      <td>3.52</td>\n",
              "      <td>0.76</td>\n",
              "      <td>11.2</td>\n",
              "    </tr>\n",
              "    <tr>\n",
              "      <th>1596</th>\n",
              "      <td>1597</td>\n",
              "      <td>6.3</td>\n",
              "      <td>0.510</td>\n",
              "      <td>0.13</td>\n",
              "      <td>2.3</td>\n",
              "      <td>0.076</td>\n",
              "      <td>29.0</td>\n",
              "      <td>40.0</td>\n",
              "      <td>0.99574</td>\n",
              "      <td>3.42</td>\n",
              "      <td>0.75</td>\n",
              "      <td>11.0</td>\n",
              "    </tr>\n",
              "    <tr>\n",
              "      <th>1597</th>\n",
              "      <td>1598</td>\n",
              "      <td>5.9</td>\n",
              "      <td>0.645</td>\n",
              "      <td>0.12</td>\n",
              "      <td>2.0</td>\n",
              "      <td>0.075</td>\n",
              "      <td>32.0</td>\n",
              "      <td>44.0</td>\n",
              "      <td>0.99547</td>\n",
              "      <td>3.57</td>\n",
              "      <td>0.71</td>\n",
              "      <td>10.2</td>\n",
              "    </tr>\n",
              "    <tr>\n",
              "      <th>1598</th>\n",
              "      <td>1599</td>\n",
              "      <td>6.0</td>\n",
              "      <td>0.310</td>\n",
              "      <td>0.47</td>\n",
              "      <td>3.6</td>\n",
              "      <td>0.067</td>\n",
              "      <td>18.0</td>\n",
              "      <td>42.0</td>\n",
              "      <td>0.99549</td>\n",
              "      <td>3.39</td>\n",
              "      <td>0.66</td>\n",
              "      <td>11.0</td>\n",
              "    </tr>\n",
              "  </tbody>\n",
              "</table>\n",
              "<p>1599 rows × 12 columns</p>\n",
              "</div>"
            ],
            "text/plain": [
              "      Unnamed: 0  fixed.acidity  volatile.acidity  ...    pH  sulphates  alcohol\n",
              "0              1            7.4             0.700  ...  3.51       0.56      9.4\n",
              "1              2            7.8             0.880  ...  3.20       0.68      9.8\n",
              "2              3            7.8             0.760  ...  3.26       0.65      9.8\n",
              "3              4           11.2             0.280  ...  3.16       0.58      9.8\n",
              "4              5            7.4             0.700  ...  3.51       0.56      9.4\n",
              "...          ...            ...               ...  ...   ...        ...      ...\n",
              "1594        1595            6.2             0.600  ...  3.45       0.58     10.5\n",
              "1595        1596            5.9             0.550  ...  3.52       0.76     11.2\n",
              "1596        1597            6.3             0.510  ...  3.42       0.75     11.0\n",
              "1597        1598            5.9             0.645  ...  3.57       0.71     10.2\n",
              "1598        1599            6.0             0.310  ...  3.39       0.66     11.0\n",
              "\n",
              "[1599 rows x 12 columns]"
            ]
          },
          "metadata": {
            "tags": []
          },
          "execution_count": 88
        }
      ]
    },
    {
      "cell_type": "markdown",
      "metadata": {
        "id": "gFb5XZMnmiTh"
      },
      "source": [
        "Perform a train test split."
      ]
    },
    {
      "cell_type": "code",
      "metadata": {
        "id": "7S9rgdgvUgmW"
      },
      "source": [
        "# Split the dataset into the Training set and Test set\n",
        "X_train,X_test,y_train,y_test = train_test_split(X,y,test_size=0.2)"
      ],
      "execution_count": 89,
      "outputs": []
    },
    {
      "cell_type": "markdown",
      "metadata": {
        "id": "pFZPihVHmpyB"
      },
      "source": [
        "In our modeling process we'd like to use `PCA`.  `PCA` is sensitive to data being on different scales.  Scale the data using `StandardScaler`."
      ]
    },
    {
      "cell_type": "code",
      "metadata": {
        "id": "raZ7lGC9UgmZ"
      },
      "source": [
        "# Feature Scaling\n",
        "scale = StandardScaler()\n",
        "X_train_scale = scale.fit_transform(X_train)\n",
        "X_test_scale = scale.fit(X_test)"
      ],
      "execution_count": 90,
      "outputs": []
    },
    {
      "cell_type": "markdown",
      "metadata": {
        "id": "ZlurjUKgUgmc"
      },
      "source": [
        "Fit an instance of `PCA` to `X_train` and explore the `explained_variance_ratio_` attribute.  Create a plot showing the cumulative sum of `.explained_variance_ratio_`."
      ]
    },
    {
      "cell_type": "code",
      "metadata": {
        "id": "Nd8z4azeK_7E",
        "outputId": "380982d1-4623-4ba8-eb99-851c718bdbf0",
        "colab": {
          "base_uri": "https://localhost:8080/",
          "height": 279
        }
      },
      "source": [
        "pca = PCA(n_components=12)\n",
        "pca.fit_transform(X_train_scale)\n",
        "evr = pca.explained_variance_ratio_\n",
        "plt.step(range(1,13), evr.cumsum(), where='mid', label='cumulative explained variance')\n",
        "plt.ylabel('Explained variance ratio')\n",
        "plt.xlabel('Principal component index')\n",
        "plt.legend(loc='best')\n",
        "plt.show()"
      ],
      "execution_count": 91,
      "outputs": [
        {
          "output_type": "display_data",
          "data": {
            "image/png": "[encoded data removed]",
            "text/plain": [
              "<Figure size 432x288 with 1 Axes>"
            ]
          },
          "metadata": {
            "tags": [],
            "needs_background": "light"
          }
        }
      ]
    },
    {
      "cell_type": "markdown",
      "metadata": {
        "id": "rR7esKeg1ykF"
      },
      "source": [
        "Looking at the cumulative variance explained, identify the `n_components` that explain 90% of the variance. Then build a `PCA` model with that number of components and transform the data."
      ]
    },
    {
      "cell_type": "code",
      "metadata": {
        "id": "Gav7BEv_Ugmh",
        "outputId": "a9b9318c-b13f-4a19-932a-1e86ca710ee5",
        "colab": {
          "base_uri": "https://localhost:8080/"
        }
      },
      "source": [
        "# Apply PCA\n",
        "evr.cumsum()\n",
        "#n_components = 8"
      ],
      "execution_count": 92,
      "outputs": [
        {
          "output_type": "execute_result",
          "data": {
            "text/plain": [
              "array([0.26778145, 0.4317061 , 0.56555703, 0.66604058, 0.74727649,\n",
              "       0.81812109, 0.87067808, 0.91847887, 0.95339555, 0.98046972,\n",
              "       0.99503555, 1.        ])"
            ]
          },
          "metadata": {
            "tags": []
          },
          "execution_count": 92
        }
      ]
    },
    {
      "cell_type": "code",
      "metadata": {
        "id": "KftdFH26Ugmk",
        "outputId": "fb03513e-04ec-45c8-efb6-7c780af0cd39",
        "colab": {
          "base_uri": "https://localhost:8080/"
        }
      },
      "source": [
        "pca = PCA(n_components=8)\n",
        "X_train_pca = pca.fit_transform(X_train_scale)\n",
        "pca.explained_variance_"
      ],
      "execution_count": 93,
      "outputs": [
        {
          "output_type": "execute_result",
          "data": {
            "text/plain": [
              "array([3.21589172, 1.96863505, 1.60746802, 1.2067461 , 0.97559364,\n",
              "       0.85080042, 0.63117734, 0.57405832])"
            ]
          },
          "metadata": {
            "tags": []
          },
          "execution_count": 93
        }
      ]
    },
    {
      "cell_type": "markdown",
      "metadata": {
        "id": "u8ka7GMP3ER6"
      },
      "source": [
        "Fit and score a logistic regression model using the principal components as the predictors and the quality as the target."
      ]
    },
    {
      "cell_type": "code",
      "metadata": {
        "id": "mT1-f3PXUgmq",
        "outputId": "4a5818e9-680e-4ee0-bbb3-1e1c997c8692",
        "colab": {
          "base_uri": "https://localhost:8080/"
        }
      },
      "source": [
        "# Fitting Logistic regression into dataset\n",
        "lr = LogisticRegression()\n",
        "lr.fit(X_train_pca, y_train)\n",
        "lr.score(X_train_pca, y_train)"
      ],
      "execution_count": 95,
      "outputs": [
        {
          "output_type": "execute_result",
          "data": {
            "text/plain": [
              "0.5949960906958561"
            ]
          },
          "metadata": {
            "tags": []
          },
          "execution_count": 95
        }
      ]
    },
    {
      "cell_type": "markdown",
      "metadata": {
        "id": "zned7Ts6oIHY"
      },
      "source": [
        "Create and print a confusion matrix to further explore the model's performance."
      ]
    },
    {
      "cell_type": "code",
      "metadata": {
        "id": "UDpYbz3zoLfO",
        "outputId": "8f60558a-717b-449c-8fcc-6adb1936c722",
        "colab": {
          "base_uri": "https://localhost:8080/"
        }
      },
      "source": [
        "print(confusion_matrix(y_train, lr.predict(X_train_pca)))"
      ],
      "execution_count": 98,
      "outputs": [
        {
          "output_type": "stream",
          "text": [
            "[[  0   1   5   1   0   0]\n",
            " [  0   0  24  18   0   0]\n",
            " [  0   1 425 121   2   0]\n",
            " [  0   0 194 280  34   0]\n",
            " [  0   0   7  97  56   0]\n",
            " [  0   0   0   7   6   0]]\n"
          ],
          "name": "stdout"
        }
      ]
    },
    {
      "cell_type": "markdown",
      "metadata": {
        "id": "i0-ELOrIUgms"
      },
      "source": [
        "Repeat the modeling process but transform your predictors using `LocallyLinearEmbedding` instead of `PCA`.\n",
        "\n",
        "* Use `n_neighbors` = 30\n",
        "* Set `n_components` to the same value you used for PCA\n",
        "* Use `method`='standard'"
      ]
    },
    {
      "cell_type": "code",
      "metadata": {
        "id": "k5Rsn92xUgmt"
      },
      "source": [
        "# Apply LLE\n",
        "from sklearn.manifold import LocallyLinearEmbedding\n",
        "lle = LocallyLinearEmbedding(n_components=8, n_neighbors=30)\n",
        "X_train_lle = lle.fit_transform(X_train_scale)"
      ],
      "execution_count": 102,
      "outputs": []
    },
    {
      "cell_type": "code",
      "metadata": {
        "id": "KX5NAKT5Ugmv",
        "outputId": "c6eea114-8591-4b1c-8beb-9cda1d4250d4",
        "colab": {
          "base_uri": "https://localhost:8080/"
        }
      },
      "source": [
        "# Fitting Logistic regression into dataset\n",
        "lr = LogisticRegression()\n",
        "lr.fit(X_train_lle, y_train)\n",
        "lr.score(X_train_lle, y_train)"
      ],
      "execution_count": 103,
      "outputs": [
        {
          "output_type": "execute_result",
          "data": {
            "text/plain": [
              "0.5293197810789679"
            ]
          },
          "metadata": {
            "tags": []
          },
          "execution_count": 103
        }
      ]
    },
    {
      "cell_type": "code",
      "metadata": {
        "id": "bWIz2N2qQzSg",
        "outputId": "c790a299-48d4-4fe8-d3c5-a390ba0baa38",
        "colab": {
          "base_uri": "https://localhost:8080/"
        }
      },
      "source": [
        "np.unique(lr.predict(X_train_lle))"
      ],
      "execution_count": 108,
      "outputs": [
        {
          "output_type": "execute_result",
          "data": {
            "text/plain": [
              "array([5, 6])"
            ]
          },
          "metadata": {
            "tags": []
          },
          "execution_count": 108
        }
      ]
    },
    {
      "cell_type": "code",
      "metadata": {
        "id": "kmLAIigRQYT-",
        "outputId": "0097e6c7-7373-44b0-a269-11a88a454178",
        "colab": {
          "base_uri": "https://localhost:8080/"
        }
      },
      "source": [
        "print(confusion_matrix(y_train, lr.predict(X_train_lle)))"
      ],
      "execution_count": 104,
      "outputs": [
        {
          "output_type": "stream",
          "text": [
            "[[  0   0   6   1   0   0]\n",
            " [  0   0  31  11   0   0]\n",
            " [  0   0 479  70   0   0]\n",
            " [  0   0 310 198   0   0]\n",
            " [  0   0  33 127   0   0]\n",
            " [  0   0   2  11   0   0]]\n"
          ],
          "name": "stdout"
        }
      ]
    },
    {
      "cell_type": "markdown",
      "metadata": {
        "id": "FABcyfHwUgmx"
      },
      "source": [
        "Compare the model performance. What conclusions can you draw?"
      ]
    },
    {
      "cell_type": "markdown",
      "metadata": {
        "id": "Cnx17kvjQmSm"
      },
      "source": [
        "\n",
        "\n",
        "*   PCA gives slightly higher accuracy scores.\n",
        "\n",
        "*   LLE is only predicting quality 5's and 6's whereas PCA predicts quality 4 through 7\n",
        "\n"
      ]
    }
  ]
}