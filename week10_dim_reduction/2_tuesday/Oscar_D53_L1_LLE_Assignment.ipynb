{
  "nbformat": 4,
  "nbformat_minor": 0,
  "metadata": {
    "colab": {
      "name": "Oscar_D53_L1_LLE_Assignment.ipynb",
      "provenance": [],
      "collapsed_sections": []
    },
    "kernelspec": {
      "display_name": "Python 3",
      "language": "python",
      "name": "python3"
    },
    "language_info": {
      "codemirror_mode": {
        "name": "ipython",
        "version": 3
      },
      "file_extension": ".py",
      "mimetype": "text/x-python",
      "name": "python",
      "nbconvert_exporter": "python",
      "pygments_lexer": "ipython3",
      "version": "3.7.6"
    }
  },
  "cells": [
    {
      "cell_type": "markdown",
      "metadata": {
        "id": "zp1_rp11lJFs"
      },
      "source": [
        "## Manifold Learning PCA LLE on Wine Dataset\n",
        "    \n",
        "Data Set Information: Kaggle Red Wine Dataset. 1599 examples with 12 features on wine quality. Predict wine quality (0-10).\n",
        "\n",
        "https://www.kaggle.com/piyushgoyal443/red-wine-dataset#wineQualityInfo.txt\n",
        "\n",
        "1) Load the wine quality data set.\n",
        "\n",
        "2) Fit PCA and plot the cumulative sum of the `pca.explained_variance_ratio_`.\n",
        "\n",
        "3) Identify the number of principal components to explain 90% of the variance.\n",
        "\n",
        "4) Build a logistic regression model and record the accuracy.\n",
        "\n",
        "5) Repeat step 4 using LLE with the same number of components and 30 neighbors.\n",
        "\n",
        "6) Record your observations and identify your top performing model. Does manifold learning improve predictive performance over PCA in this case?"
      ]
    },
    {
      "cell_type": "markdown",
      "metadata": {
        "id": "Yy1C2S7bUgly"
      },
      "source": [
        "### Red Wine Dataset\n",
        "\n",
        "Citation Request: This dataset is publicly available for research. The details are described in [Cortez et al., 2009]. Please include this citation if you plan to use this database:\n",
        "\n",
        "P. Cortez, A. Cerdeira, F. Almeida, T. Matos and J. Reis. Modeling wine preferences by data mining from physicochemical properties. In Decision Support Systems, Elsevier, 47(4):547-553. ISSN: 0167-9236.\n",
        "\n",
        "Available at: [@Elsevier] http://dx.doi.org/10.1016/j.dss.2009.05.016 \n",
        "\n",
        "#### Description of attributes:\n",
        "\n",
        "1 - fixed acidity: most acids involved with wine or fixed or nonvolatile (do not evaporate readily)\n",
        "\n",
        "2 - volatile acidity: the amount of acetic acid in wine, which at too high of levels can lead to an unpleasant, vinegar taste\n",
        "\n",
        "3 - citric acid: found in small quantities, citric acid can add 'freshness' and flavor to wines\n",
        "\n",
        "4 - residual sugar: the amount of sugar remaining after fermentation stops, it's rare to find wines with less than 1 gram/liter and wines with greater than 45 grams/liter are considered sweet\n",
        "\n",
        "5 - chlorides: the amount of salt in the wine\n",
        "\n",
        "6 - free sulfur dioxide: the free form of SO2 exists in equilibrium between molecular SO2 (as a dissolved gas) and bisulfite ion; it prevents microbial growth and the oxidation of wine\n",
        "\n",
        "7 - total sulfur dioxide: amount of free and bound forms of S02; in low concentrations, SO2 is mostly undetectable in wine, but at free SO2 concentrations over 50 ppm, SO2 becomes evident in the nose and taste of wine\n",
        "\n",
        "8 - density: the density of wine is close to that of water depending on the percent alcohol and sugar content\n",
        "\n",
        "9 - pH: describes how acidic or basic a wine is on a scale from 0 (very acidic) to 14 (very basic); most wines are between 3-4 on the pH scale\n",
        "\n",
        "10 - sulphates: a wine additive which can contribute to sulfur dioxide gas (S02) levels, wich acts as an antimicrobial and antioxidant\n",
        "\n",
        "11 - alcohol: the percent alcohol content of the wine\n",
        "\n",
        "#### Output variable (based on sensory data): \n",
        "\n",
        "12 - quality (score between 0 and 10)"
      ]
    },
    {
      "cell_type": "markdown",
      "metadata": {
        "id": "XSSStkYd0Hcz"
      },
      "source": [
        "### Load the wine quality dataset and important libraries"
      ]
    },
    {
      "cell_type": "code",
      "metadata": {
        "id": "V_sIAYjYUgl4",
        "colab": {
          "base_uri": "https://localhost:8080/",
          "height": 197
        },
        "outputId": "9dad8965-684a-42e8-8303-ec477df1612c"
      },
      "source": [
        "import numpy as np\n",
        "import pandas as pd\n",
        "import matplotlib.pyplot as plt\n",
        "from sklearn import manifold\n",
        "from sklearn.metrics import confusion_matrix\n",
        "from sklearn.metrics import accuracy_score\n",
        "from sklearn.decomposition import PCA\n",
        "from sklearn.model_selection import train_test_split\n",
        "from sklearn.linear_model import LogisticRegression\n",
        "from sklearn.preprocessing import StandardScaler\n",
        "\n",
        "df = pd.read_csv(\n",
        "    \"https://raw.githubusercontent.com/Thinkful-Ed/data-science-lectures/master/wineQualityReds.csv\"\n",
        ")\n",
        "df.head()"
      ],
      "execution_count": 5,
      "outputs": [
        {
          "output_type": "execute_result",
          "data": {
            "text/html": [
              "<div>\n",
              "<style scoped>\n",
              "    .dataframe tbody tr th:only-of-type {\n",
              "        vertical-align: middle;\n",
              "    }\n",
              "\n",
              "    .dataframe tbody tr th {\n",
              "        vertical-align: top;\n",
              "    }\n",
              "\n",
              "    .dataframe thead th {\n",
              "        text-align: right;\n",
              "    }\n",
              "</style>\n",
              "<table border=\"1\" class=\"dataframe\">\n",
              "  <thead>\n",
              "    <tr style=\"text-align: right;\">\n",
              "      <th></th>\n",
              "      <th>Unnamed: 0</th>\n",
              "      <th>fixed.acidity</th>\n",
              "      <th>volatile.acidity</th>\n",
              "      <th>citric.acid</th>\n",
              "      <th>residual.sugar</th>\n",
              "      <th>chlorides</th>\n",
              "      <th>free.sulfur.dioxide</th>\n",
              "      <th>total.sulfur.dioxide</th>\n",
              "      <th>density</th>\n",
              "      <th>pH</th>\n",
              "      <th>sulphates</th>\n",
              "      <th>alcohol</th>\n",
              "      <th>quality</th>\n",
              "    </tr>\n",
              "  </thead>\n",
              "  <tbody>\n",
              "    <tr>\n",
              "      <th>0</th>\n",
              "      <td>1</td>\n",
              "      <td>7.4</td>\n",
              "      <td>0.70</td>\n",
              "      <td>0.00</td>\n",
              "      <td>1.9</td>\n",
              "      <td>0.076</td>\n",
              "      <td>11.0</td>\n",
              "      <td>34.0</td>\n",
              "      <td>0.9978</td>\n",
              "      <td>3.51</td>\n",
              "      <td>0.56</td>\n",
              "      <td>9.4</td>\n",
              "      <td>5</td>\n",
              "    </tr>\n",
              "    <tr>\n",
              "      <th>1</th>\n",
              "      <td>2</td>\n",
              "      <td>7.8</td>\n",
              "      <td>0.88</td>\n",
              "      <td>0.00</td>\n",
              "      <td>2.6</td>\n",
              "      <td>0.098</td>\n",
              "      <td>25.0</td>\n",
              "      <td>67.0</td>\n",
              "      <td>0.9968</td>\n",
              "      <td>3.20</td>\n",
              "      <td>0.68</td>\n",
              "      <td>9.8</td>\n",
              "      <td>5</td>\n",
              "    </tr>\n",
              "    <tr>\n",
              "      <th>2</th>\n",
              "      <td>3</td>\n",
              "      <td>7.8</td>\n",
              "      <td>0.76</td>\n",
              "      <td>0.04</td>\n",
              "      <td>2.3</td>\n",
              "      <td>0.092</td>\n",
              "      <td>15.0</td>\n",
              "      <td>54.0</td>\n",
              "      <td>0.9970</td>\n",
              "      <td>3.26</td>\n",
              "      <td>0.65</td>\n",
              "      <td>9.8</td>\n",
              "      <td>5</td>\n",
              "    </tr>\n",
              "    <tr>\n",
              "      <th>3</th>\n",
              "      <td>4</td>\n",
              "      <td>11.2</td>\n",
              "      <td>0.28</td>\n",
              "      <td>0.56</td>\n",
              "      <td>1.9</td>\n",
              "      <td>0.075</td>\n",
              "      <td>17.0</td>\n",
              "      <td>60.0</td>\n",
              "      <td>0.9980</td>\n",
              "      <td>3.16</td>\n",
              "      <td>0.58</td>\n",
              "      <td>9.8</td>\n",
              "      <td>6</td>\n",
              "    </tr>\n",
              "    <tr>\n",
              "      <th>4</th>\n",
              "      <td>5</td>\n",
              "      <td>7.4</td>\n",
              "      <td>0.70</td>\n",
              "      <td>0.00</td>\n",
              "      <td>1.9</td>\n",
              "      <td>0.076</td>\n",
              "      <td>11.0</td>\n",
              "      <td>34.0</td>\n",
              "      <td>0.9978</td>\n",
              "      <td>3.51</td>\n",
              "      <td>0.56</td>\n",
              "      <td>9.4</td>\n",
              "      <td>5</td>\n",
              "    </tr>\n",
              "  </tbody>\n",
              "</table>\n",
              "</div>"
            ],
            "text/plain": [
              "   Unnamed: 0  fixed.acidity  volatile.acidity  ...  sulphates  alcohol  quality\n",
              "0           1            7.4              0.70  ...       0.56      9.4        5\n",
              "1           2            7.8              0.88  ...       0.68      9.8        5\n",
              "2           3            7.8              0.76  ...       0.65      9.8        5\n",
              "3           4           11.2              0.28  ...       0.58      9.8        6\n",
              "4           5            7.4              0.70  ...       0.56      9.4        5\n",
              "\n",
              "[5 rows x 13 columns]"
            ]
          },
          "metadata": {
            "tags": []
          },
          "execution_count": 5
        }
      ]
    },
    {
      "cell_type": "code",
      "metadata": {
        "id": "MbCJNI6fUgl7",
        "colab": {
          "base_uri": "https://localhost:8080/"
        },
        "outputId": "3ea721bb-5aa9-4226-f502-90d9e7b5fadc"
      },
      "source": [
        "# Check the shape of the DataFrame\n",
        "df.shape"
      ],
      "execution_count": 7,
      "outputs": [
        {
          "output_type": "execute_result",
          "data": {
            "text/plain": [
              "(1599, 13)"
            ]
          },
          "metadata": {
            "tags": []
          },
          "execution_count": 7
        }
      ]
    },
    {
      "cell_type": "code",
      "metadata": {
        "id": "H_NepmoSUgl-",
        "colab": {
          "base_uri": "https://localhost:8080/"
        },
        "outputId": "35963007-f296-4798-e238-c1b87b8a43e1"
      },
      "source": [
        "# Check for missing values and handle them appropriately if there are any\n",
        "df.isnull().sum()"
      ],
      "execution_count": 8,
      "outputs": [
        {
          "output_type": "execute_result",
          "data": {
            "text/plain": [
              "Unnamed: 0              0\n",
              "fixed.acidity           0\n",
              "volatile.acidity        0\n",
              "citric.acid             0\n",
              "residual.sugar          0\n",
              "chlorides               0\n",
              "free.sulfur.dioxide     0\n",
              "total.sulfur.dioxide    0\n",
              "density                 0\n",
              "pH                      0\n",
              "sulphates               0\n",
              "alcohol                 0\n",
              "quality                 0\n",
              "dtype: int64"
            ]
          },
          "metadata": {
            "tags": []
          },
          "execution_count": 8
        }
      ]
    },
    {
      "cell_type": "markdown",
      "metadata": {
        "id": "fee_5I0OmPVa"
      },
      "source": [
        "We're interested in predicting the `quality` based on the other features.\n",
        "* Investigate the `quality` column.\n",
        "    * What are the most common values?\n",
        "    * Show this with a plot."
      ]
    },
    {
      "cell_type": "code",
      "metadata": {
        "colab": {
          "base_uri": "https://localhost:8080/"
        },
        "id": "wQsPcJoaK65f",
        "outputId": "332575f1-eba9-4b03-9f3b-3005a053e16f"
      },
      "source": [
        "!jupyter nbextension enable hinterland/hinterland"
      ],
      "execution_count": 9,
      "outputs": [
        {
          "output_type": "stream",
          "text": [
            "Enabling notebook extension hinterland/hinterland...\n",
            "      - Validating: problems found:\n",
            "        - require? \u001b[31m X\u001b[0m hinterland/hinterland\n"
          ],
          "name": "stdout"
        }
      ]
    },
    {
      "cell_type": "code",
      "metadata": {
        "id": "ODp6B4-cUgmB",
        "colab": {
          "base_uri": "https://localhost:8080/",
          "height": 661
        },
        "outputId": "debc54dc-48f7-47dd-9969-3b51940dacc3"
      },
      "source": [
        "# Check the unique values from \"quality\" column\n",
        "import seaborn as sns\n",
        "plt.figure(figsize=(10,10))\n",
        "sns.countplot(df['quality'], )\n",
        "plt.show()"
      ],
      "execution_count": 10,
      "outputs": [
        {
          "output_type": "stream",
          "text": [
            "/usr/local/lib/python3.6/dist-packages/seaborn/_decorators.py:43: FutureWarning: Pass the following variable as a keyword arg: x. From version 0.12, the only valid positional argument will be `data`, and passing other arguments without an explicit keyword will result in an error or misinterpretation.\n",
            "  FutureWarning\n"
          ],
          "name": "stderr"
        },
        {
          "output_type": "display_data",
          "data": {
            "image/png": "[encoded data removed]",
            "text/plain": [
              "<Figure size 720x720 with 1 Axes>"
            ]
          },
          "metadata": {
            "tags": [],
            "needs_background": "light"
          }
        }
      ]
    },
    {
      "cell_type": "markdown",
      "metadata": {
        "id": "qJ4C28QiKqUt"
      },
      "source": [
        "The most common value in quality is 5"
      ]
    },
    {
      "cell_type": "code",
      "metadata": {
        "id": "feFax9UQUgmE",
        "colab": {
          "base_uri": "https://localhost:8080/"
        },
        "outputId": "9e83753a-07fb-4f3f-9b4d-e76fa231529e"
      },
      "source": [
        "# Count the unique values in \"quality\" column\n",
        "df['quality'].value_counts()"
      ],
      "execution_count": 11,
      "outputs": [
        {
          "output_type": "execute_result",
          "data": {
            "text/plain": [
              "5    681\n",
              "6    638\n",
              "7    199\n",
              "4     53\n",
              "8     18\n",
              "3     10\n",
              "Name: quality, dtype: int64"
            ]
          },
          "metadata": {
            "tags": []
          },
          "execution_count": 11
        }
      ]
    },
    {
      "cell_type": "code",
      "metadata": {
        "id": "IxpsmPWTUgmH",
        "scrolled": true
      },
      "source": [
        "# Plot for quality\n"
      ],
      "execution_count": 12,
      "outputs": []
    },
    {
      "cell_type": "markdown",
      "metadata": {
        "id": "5aNfQ96sma7h"
      },
      "source": [
        "Separate the `X` and the `y` in preparation to create a supervised learning model."
      ]
    },
    {
      "cell_type": "code",
      "metadata": {
        "id": "3SRHe_VSUgmN"
      },
      "source": [
        "# Separate dependent and independent variables\n",
        "X = df.drop(columns='quality')\n",
        "y = df.loc[:, 'quality']"
      ],
      "execution_count": 13,
      "outputs": []
    },
    {
      "cell_type": "code",
      "metadata": {
        "id": "Tfag6TE2UgmQ",
        "colab": {
          "base_uri": "https://localhost:8080/",
          "height": 406
        },
        "outputId": "db501b0a-4d6a-45c3-d860-581a544c63f7"
      },
      "source": [
        "# Check and print X\n",
        "X"
      ],
      "execution_count": 14,
      "outputs": [
        {
          "output_type": "execute_result",
          "data": {
            "text/html": [
              "<div>\n",
              "<style scoped>\n",
              "    .dataframe tbody tr th:only-of-type {\n",
              "        vertical-align: middle;\n",
              "    }\n",
              "\n",
              "    .dataframe tbody tr th {\n",
              "        vertical-align: top;\n",
              "    }\n",
              "\n",
              "    .dataframe thead th {\n",
              "        text-align: right;\n",
              "    }\n",
              "</style>\n",
              "<table border=\"1\" class=\"dataframe\">\n",
              "  <thead>\n",
              "    <tr style=\"text-align: right;\">\n",
              "      <th></th>\n",
              "      <th>Unnamed: 0</th>\n",
              "      <th>fixed.acidity</th>\n",
              "      <th>volatile.acidity</th>\n",
              "      <th>citric.acid</th>\n",
              "      <th>residual.sugar</th>\n",
              "      <th>chlorides</th>\n",
              "      <th>free.sulfur.dioxide</th>\n",
              "      <th>total.sulfur.dioxide</th>\n",
              "      <th>density</th>\n",
              "      <th>pH</th>\n",
              "      <th>sulphates</th>\n",
              "      <th>alcohol</th>\n",
              "    </tr>\n",
              "  </thead>\n",
              "  <tbody>\n",
              "    <tr>\n",
              "      <th>0</th>\n",
              "      <td>1</td>\n",
              "      <td>7.4</td>\n",
              "      <td>0.700</td>\n",
              "      <td>0.00</td>\n",
              "      <td>1.9</td>\n",
              "      <td>0.076</td>\n",
              "      <td>11.0</td>\n",
              "      <td>34.0</td>\n",
              "      <td>0.99780</td>\n",
              "      <td>3.51</td>\n",
              "      <td>0.56</td>\n",
              "      <td>9.4</td>\n",
              "    </tr>\n",
              "    <tr>\n",
              "      <th>1</th>\n",
              "      <td>2</td>\n",
              "      <td>7.8</td>\n",
              "      <td>0.880</td>\n",
              "      <td>0.00</td>\n",
              "      <td>2.6</td>\n",
              "      <td>0.098</td>\n",
              "      <td>25.0</td>\n",
              "      <td>67.0</td>\n",
              "      <td>0.99680</td>\n",
              "      <td>3.20</td>\n",
              "      <td>0.68</td>\n",
              "      <td>9.8</td>\n",
              "    </tr>\n",
              "    <tr>\n",
              "      <th>2</th>\n",
              "      <td>3</td>\n",
              "      <td>7.8</td>\n",
              "      <td>0.760</td>\n",
              "      <td>0.04</td>\n",
              "      <td>2.3</td>\n",
              "      <td>0.092</td>\n",
              "      <td>15.0</td>\n",
              "      <td>54.0</td>\n",
              "      <td>0.99700</td>\n",
              "      <td>3.26</td>\n",
              "      <td>0.65</td>\n",
              "      <td>9.8</td>\n",
              "    </tr>\n",
              "    <tr>\n",
              "      <th>3</th>\n",
              "      <td>4</td>\n",
              "      <td>11.2</td>\n",
              "      <td>0.280</td>\n",
              "      <td>0.56</td>\n",
              "      <td>1.9</td>\n",
              "      <td>0.075</td>\n",
              "      <td>17.0</td>\n",
              "      <td>60.0</td>\n",
              "      <td>0.99800</td>\n",
              "      <td>3.16</td>\n",
              "      <td>0.58</td>\n",
              "      <td>9.8</td>\n",
              "    </tr>\n",
              "    <tr>\n",
              "      <th>4</th>\n",
              "      <td>5</td>\n",
              "      <td>7.4</td>\n",
              "      <td>0.700</td>\n",
              "      <td>0.00</td>\n",
              "      <td>1.9</td>\n",
              "      <td>0.076</td>\n",
              "      <td>11.0</td>\n",
              "      <td>34.0</td>\n",
              "      <td>0.99780</td>\n",
              "      <td>3.51</td>\n",
              "      <td>0.56</td>\n",
              "      <td>9.4</td>\n",
              "    </tr>\n",
              "    <tr>\n",
              "      <th>...</th>\n",
              "      <td>...</td>\n",
              "      <td>...</td>\n",
              "      <td>...</td>\n",
              "      <td>...</td>\n",
              "      <td>...</td>\n",
              "      <td>...</td>\n",
              "      <td>...</td>\n",
              "      <td>...</td>\n",
              "      <td>...</td>\n",
              "      <td>...</td>\n",
              "      <td>...</td>\n",
              "      <td>...</td>\n",
              "    </tr>\n",
              "    <tr>\n",
              "      <th>1594</th>\n",
              "      <td>1595</td>\n",
              "      <td>6.2</td>\n",
              "      <td>0.600</td>\n",
              "      <td>0.08</td>\n",
              "      <td>2.0</td>\n",
              "      <td>0.090</td>\n",
              "      <td>32.0</td>\n",
              "      <td>44.0</td>\n",
              "      <td>0.99490</td>\n",
              "      <td>3.45</td>\n",
              "      <td>0.58</td>\n",
              "      <td>10.5</td>\n",
              "    </tr>\n",
              "    <tr>\n",
              "      <th>1595</th>\n",
              "      <td>1596</td>\n",
              "      <td>5.9</td>\n",
              "      <td>0.550</td>\n",
              "      <td>0.10</td>\n",
              "      <td>2.2</td>\n",
              "      <td>0.062</td>\n",
              "      <td>39.0</td>\n",
              "      <td>51.0</td>\n",
              "      <td>0.99512</td>\n",
              "      <td>3.52</td>\n",
              "      <td>0.76</td>\n",
              "      <td>11.2</td>\n",
              "    </tr>\n",
              "    <tr>\n",
              "      <th>1596</th>\n",
              "      <td>1597</td>\n",
              "      <td>6.3</td>\n",
              "      <td>0.510</td>\n",
              "      <td>0.13</td>\n",
              "      <td>2.3</td>\n",
              "      <td>0.076</td>\n",
              "      <td>29.0</td>\n",
              "      <td>40.0</td>\n",
              "      <td>0.99574</td>\n",
              "      <td>3.42</td>\n",
              "      <td>0.75</td>\n",
              "      <td>11.0</td>\n",
              "    </tr>\n",
              "    <tr>\n",
              "      <th>1597</th>\n",
              "      <td>1598</td>\n",
              "      <td>5.9</td>\n",
              "      <td>0.645</td>\n",
              "      <td>0.12</td>\n",
              "      <td>2.0</td>\n",
              "      <td>0.075</td>\n",
              "      <td>32.0</td>\n",
              "      <td>44.0</td>\n",
              "      <td>0.99547</td>\n",
              "      <td>3.57</td>\n",
              "      <td>0.71</td>\n",
              "      <td>10.2</td>\n",
              "    </tr>\n",
              "    <tr>\n",
              "      <th>1598</th>\n",
              "      <td>1599</td>\n",
              "      <td>6.0</td>\n",
              "      <td>0.310</td>\n",
              "      <td>0.47</td>\n",
              "      <td>3.6</td>\n",
              "      <td>0.067</td>\n",
              "      <td>18.0</td>\n",
              "      <td>42.0</td>\n",
              "      <td>0.99549</td>\n",
              "      <td>3.39</td>\n",
              "      <td>0.66</td>\n",
              "      <td>11.0</td>\n",
              "    </tr>\n",
              "  </tbody>\n",
              "</table>\n",
              "<p>1599 rows × 12 columns</p>\n",
              "</div>"
            ],
            "text/plain": [
              "      Unnamed: 0  fixed.acidity  volatile.acidity  ...    pH  sulphates  alcohol\n",
              "0              1            7.4             0.700  ...  3.51       0.56      9.4\n",
              "1              2            7.8             0.880  ...  3.20       0.68      9.8\n",
              "2              3            7.8             0.760  ...  3.26       0.65      9.8\n",
              "3              4           11.2             0.280  ...  3.16       0.58      9.8\n",
              "4              5            7.4             0.700  ...  3.51       0.56      9.4\n",
              "...          ...            ...               ...  ...   ...        ...      ...\n",
              "1594        1595            6.2             0.600  ...  3.45       0.58     10.5\n",
              "1595        1596            5.9             0.550  ...  3.52       0.76     11.2\n",
              "1596        1597            6.3             0.510  ...  3.42       0.75     11.0\n",
              "1597        1598            5.9             0.645  ...  3.57       0.71     10.2\n",
              "1598        1599            6.0             0.310  ...  3.39       0.66     11.0\n",
              "\n",
              "[1599 rows x 12 columns]"
            ]
          },
          "metadata": {
            "tags": []
          },
          "execution_count": 14
        }
      ]
    },
    {
      "cell_type": "code",
      "metadata": {
        "id": "6nB3FUYUOmmJ"
      },
      "source": [
        "X = X.drop(columns='Unnamed: 0')"
      ],
      "execution_count": 15,
      "outputs": []
    },
    {
      "cell_type": "code",
      "metadata": {
        "id": "2__ODQKAUgmT",
        "colab": {
          "base_uri": "https://localhost:8080/"
        },
        "outputId": "c32e15ac-41cc-4a1e-838e-1bfe92f4c6b7"
      },
      "source": [
        "# Check and print y\n",
        "y"
      ],
      "execution_count": 16,
      "outputs": [
        {
          "output_type": "execute_result",
          "data": {
            "text/plain": [
              "0       5\n",
              "1       5\n",
              "2       5\n",
              "3       6\n",
              "4       5\n",
              "       ..\n",
              "1594    5\n",
              "1595    6\n",
              "1596    6\n",
              "1597    5\n",
              "1598    6\n",
              "Name: quality, Length: 1599, dtype: int64"
            ]
          },
          "metadata": {
            "tags": []
          },
          "execution_count": 16
        }
      ]
    },
    {
      "cell_type": "markdown",
      "metadata": {
        "id": "gFb5XZMnmiTh"
      },
      "source": [
        "Perform a train test split."
      ]
    },
    {
      "cell_type": "code",
      "metadata": {
        "id": "7S9rgdgvUgmW"
      },
      "source": [
        "# Split the dataset into the Training set and Test set\n",
        "X_train, X_test, y_train, y_test = train_test_split(X, y, test_size=0.2)"
      ],
      "execution_count": 17,
      "outputs": []
    },
    {
      "cell_type": "markdown",
      "metadata": {
        "id": "pFZPihVHmpyB"
      },
      "source": [
        "In our modeling process we'd like to use `PCA`.  `PCA` is sensitive to data being on different scales.  Scale the data using `StandardScaler`."
      ]
    },
    {
      "cell_type": "code",
      "metadata": {
        "id": "raZ7lGC9UgmZ"
      },
      "source": [
        "# Feature Scaling\n",
        "scale = StandardScaler()\n",
        "X_train_scale = pd.DataFrame(scale.fit_transform(X_train), columns=X.columns)\n",
        "X_test_scale = scale.transform(X_test)"
      ],
      "execution_count": 18,
      "outputs": []
    },
    {
      "cell_type": "code",
      "metadata": {
        "colab": {
          "base_uri": "https://localhost:8080/"
        },
        "id": "LLRGhtMFOQQE",
        "outputId": "3f5805bc-c629-4bf9-f36b-a97e9ad7fb87"
      },
      "source": [
        "X_train_scale.shape"
      ],
      "execution_count": 19,
      "outputs": [
        {
          "output_type": "execute_result",
          "data": {
            "text/plain": [
              "(1279, 11)"
            ]
          },
          "metadata": {
            "tags": []
          },
          "execution_count": 19
        }
      ]
    },
    {
      "cell_type": "code",
      "metadata": {
        "colab": {
          "base_uri": "https://localhost:8080/",
          "height": 406
        },
        "id": "sCEOI2TPOXim",
        "outputId": "0ece1377-5ff3-4362-d6c7-91abcdb75d10"
      },
      "source": [
        "X_train_scale"
      ],
      "execution_count": 20,
      "outputs": [
        {
          "output_type": "execute_result",
          "data": {
            "text/html": [
              "<div>\n",
              "<style scoped>\n",
              "    .dataframe tbody tr th:only-of-type {\n",
              "        vertical-align: middle;\n",
              "    }\n",
              "\n",
              "    .dataframe tbody tr th {\n",
              "        vertical-align: top;\n",
              "    }\n",
              "\n",
              "    .dataframe thead th {\n",
              "        text-align: right;\n",
              "    }\n",
              "</style>\n",
              "<table border=\"1\" class=\"dataframe\">\n",
              "  <thead>\n",
              "    <tr style=\"text-align: right;\">\n",
              "      <th></th>\n",
              "      <th>fixed.acidity</th>\n",
              "      <th>volatile.acidity</th>\n",
              "      <th>citric.acid</th>\n",
              "      <th>residual.sugar</th>\n",
              "      <th>chlorides</th>\n",
              "      <th>free.sulfur.dioxide</th>\n",
              "      <th>total.sulfur.dioxide</th>\n",
              "      <th>density</th>\n",
              "      <th>pH</th>\n",
              "      <th>sulphates</th>\n",
              "      <th>alcohol</th>\n",
              "    </tr>\n",
              "  </thead>\n",
              "  <tbody>\n",
              "    <tr>\n",
              "      <th>0</th>\n",
              "      <td>1.947085</td>\n",
              "      <td>0.009315</td>\n",
              "      <td>2.035130</td>\n",
              "      <td>0.790701</td>\n",
              "      <td>0.757070</td>\n",
              "      <td>-0.932656</td>\n",
              "      <td>-0.981865</td>\n",
              "      <td>0.583443</td>\n",
              "      <td>-1.721253</td>\n",
              "      <td>0.524033</td>\n",
              "      <td>0.988283</td>\n",
              "    </tr>\n",
              "    <tr>\n",
              "      <th>1</th>\n",
              "      <td>-0.293686</td>\n",
              "      <td>-1.055938</td>\n",
              "      <td>0.529615</td>\n",
              "      <td>-0.367244</td>\n",
              "      <td>-0.108249</td>\n",
              "      <td>0.746322</td>\n",
              "      <td>0.335214</td>\n",
              "      <td>-0.163837</td>\n",
              "      <td>0.184906</td>\n",
              "      <td>-0.384067</td>\n",
              "      <td>-0.960065</td>\n",
              "    </tr>\n",
              "    <tr>\n",
              "      <th>2</th>\n",
              "      <td>-0.470589</td>\n",
              "      <td>1.102601</td>\n",
              "      <td>-1.183557</td>\n",
              "      <td>-0.718136</td>\n",
              "      <td>-0.241376</td>\n",
              "      <td>-0.746103</td>\n",
              "      <td>-0.951931</td>\n",
              "      <td>-0.868416</td>\n",
              "      <td>-0.340931</td>\n",
              "      <td>-0.747306</td>\n",
              "      <td>-0.774508</td>\n",
              "    </tr>\n",
              "    <tr>\n",
              "      <th>3</th>\n",
              "      <td>0.001153</td>\n",
              "      <td>1.775393</td>\n",
              "      <td>-1.339300</td>\n",
              "      <td>-0.226887</td>\n",
              "      <td>-0.374502</td>\n",
              "      <td>-1.025933</td>\n",
              "      <td>-0.981865</td>\n",
              "      <td>-0.003706</td>\n",
              "      <td>0.053447</td>\n",
              "      <td>-0.444607</td>\n",
              "      <td>0.524391</td>\n",
              "    </tr>\n",
              "    <tr>\n",
              "      <th>4</th>\n",
              "      <td>-0.352653</td>\n",
              "      <td>0.065381</td>\n",
              "      <td>-0.041442</td>\n",
              "      <td>-0.437422</td>\n",
              "      <td>0.047064</td>\n",
              "      <td>0.653045</td>\n",
              "      <td>2.999306</td>\n",
              "      <td>-0.185188</td>\n",
              "      <td>-0.340931</td>\n",
              "      <td>-0.384067</td>\n",
              "      <td>-0.681730</td>\n",
              "    </tr>\n",
              "    <tr>\n",
              "      <th>...</th>\n",
              "      <td>...</td>\n",
              "      <td>...</td>\n",
              "      <td>...</td>\n",
              "      <td>...</td>\n",
              "      <td>...</td>\n",
              "      <td>...</td>\n",
              "      <td>...</td>\n",
              "      <td>...</td>\n",
              "      <td>...</td>\n",
              "      <td>...</td>\n",
              "      <td>...</td>\n",
              "    </tr>\n",
              "    <tr>\n",
              "      <th>1274</th>\n",
              "      <td>0.001153</td>\n",
              "      <td>2.756547</td>\n",
              "      <td>-1.287385</td>\n",
              "      <td>0.615255</td>\n",
              "      <td>-0.063874</td>\n",
              "      <td>-0.932656</td>\n",
              "      <td>-1.071666</td>\n",
              "      <td>1.181267</td>\n",
              "      <td>1.105121</td>\n",
              "      <td>-0.989466</td>\n",
              "      <td>0.524391</td>\n",
              "    </tr>\n",
              "    <tr>\n",
              "      <th>1275</th>\n",
              "      <td>-0.234718</td>\n",
              "      <td>-1.055938</td>\n",
              "      <td>0.477701</td>\n",
              "      <td>-0.437422</td>\n",
              "      <td>-0.485440</td>\n",
              "      <td>-1.025933</td>\n",
              "      <td>-1.101599</td>\n",
              "      <td>-1.343473</td>\n",
              "      <td>-0.275201</td>\n",
              "      <td>-0.686766</td>\n",
              "      <td>0.709948</td>\n",
              "    </tr>\n",
              "    <tr>\n",
              "      <th>1276</th>\n",
              "      <td>-0.352653</td>\n",
              "      <td>2.448184</td>\n",
              "      <td>-0.872071</td>\n",
              "      <td>-0.297065</td>\n",
              "      <td>0.557381</td>\n",
              "      <td>-0.466273</td>\n",
              "      <td>-0.742396</td>\n",
              "      <td>-0.217215</td>\n",
              "      <td>-0.340931</td>\n",
              "      <td>-0.928926</td>\n",
              "      <td>-0.867287</td>\n",
              "    </tr>\n",
              "    <tr>\n",
              "      <th>1277</th>\n",
              "      <td>0.001153</td>\n",
              "      <td>-1.392334</td>\n",
              "      <td>1.100672</td>\n",
              "      <td>-0.297065</td>\n",
              "      <td>0.135815</td>\n",
              "      <td>-0.932656</td>\n",
              "      <td>-1.041732</td>\n",
              "      <td>-1.402188</td>\n",
              "      <td>-0.340931</td>\n",
              "      <td>-0.202447</td>\n",
              "      <td>1.823290</td>\n",
              "    </tr>\n",
              "    <tr>\n",
              "      <th>1278</th>\n",
              "      <td>-0.234718</td>\n",
              "      <td>1.074568</td>\n",
              "      <td>-1.339300</td>\n",
              "      <td>-0.437422</td>\n",
              "      <td>-0.241376</td>\n",
              "      <td>-0.839380</td>\n",
              "      <td>-0.443060</td>\n",
              "      <td>-0.014381</td>\n",
              "      <td>0.513555</td>\n",
              "      <td>-0.686766</td>\n",
              "      <td>-0.774508</td>\n",
              "    </tr>\n",
              "  </tbody>\n",
              "</table>\n",
              "<p>1279 rows × 11 columns</p>\n",
              "</div>"
            ],
            "text/plain": [
              "      fixed.acidity  volatile.acidity  ...  sulphates   alcohol\n",
              "0          1.947085          0.009315  ...   0.524033  0.988283\n",
              "1         -0.293686         -1.055938  ...  -0.384067 -0.960065\n",
              "2         -0.470589          1.102601  ...  -0.747306 -0.774508\n",
              "3          0.001153          1.775393  ...  -0.444607  0.524391\n",
              "4         -0.352653          0.065381  ...  -0.384067 -0.681730\n",
              "...             ...               ...  ...        ...       ...\n",
              "1274       0.001153          2.756547  ...  -0.989466  0.524391\n",
              "1275      -0.234718         -1.055938  ...  -0.686766  0.709948\n",
              "1276      -0.352653          2.448184  ...  -0.928926 -0.867287\n",
              "1277       0.001153         -1.392334  ...  -0.202447  1.823290\n",
              "1278      -0.234718          1.074568  ...  -0.686766 -0.774508\n",
              "\n",
              "[1279 rows x 11 columns]"
            ]
          },
          "metadata": {
            "tags": []
          },
          "execution_count": 20
        }
      ]
    },
    {
      "cell_type": "code",
      "metadata": {
        "colab": {
          "base_uri": "https://localhost:8080/"
        },
        "id": "cl55pT6QOTEo",
        "outputId": "7fb58ff2-08d3-44e9-a5aa-79b22c95c119"
      },
      "source": [
        "X_test_scale.shape"
      ],
      "execution_count": 21,
      "outputs": [
        {
          "output_type": "execute_result",
          "data": {
            "text/plain": [
              "(320, 11)"
            ]
          },
          "metadata": {
            "tags": []
          },
          "execution_count": 21
        }
      ]
    },
    {
      "cell_type": "markdown",
      "metadata": {
        "id": "ZlurjUKgUgmc"
      },
      "source": [
        "Fit an instance of `PCA` to `X_train` and explore the `explained_variance_ratio_` attribute.  Create a plot showing the cumulative sum of `.explained_variance_ratio_`."
      ]
    },
    {
      "cell_type": "code",
      "metadata": {
        "id": "0HrFg2AZUgmc"
      },
      "source": [
        "pca = PCA()\n",
        "X_train_pca = pd.DataFrame(pca.fit_transform(X_train_scale))"
      ],
      "execution_count": 22,
      "outputs": []
    },
    {
      "cell_type": "code",
      "metadata": {
        "colab": {
          "base_uri": "https://localhost:8080/",
          "height": 406
        },
        "id": "a_TeH9DyNlmn",
        "outputId": "f1947911-de33-4a1c-ab00-eb2692be9280"
      },
      "source": [
        "X_train_pca"
      ],
      "execution_count": 23,
      "outputs": [
        {
          "output_type": "execute_result",
          "data": {
            "text/html": [
              "<div>\n",
              "<style scoped>\n",
              "    .dataframe tbody tr th:only-of-type {\n",
              "        vertical-align: middle;\n",
              "    }\n",
              "\n",
              "    .dataframe tbody tr th {\n",
              "        vertical-align: top;\n",
              "    }\n",
              "\n",
              "    .dataframe thead th {\n",
              "        text-align: right;\n",
              "    }\n",
              "</style>\n",
              "<table border=\"1\" class=\"dataframe\">\n",
              "  <thead>\n",
              "    <tr style=\"text-align: right;\">\n",
              "      <th></th>\n",
              "      <th>0</th>\n",
              "      <th>1</th>\n",
              "      <th>2</th>\n",
              "      <th>3</th>\n",
              "      <th>4</th>\n",
              "      <th>5</th>\n",
              "      <th>6</th>\n",
              "      <th>7</th>\n",
              "      <th>8</th>\n",
              "      <th>9</th>\n",
              "      <th>10</th>\n",
              "    </tr>\n",
              "  </thead>\n",
              "  <tbody>\n",
              "    <tr>\n",
              "      <th>0</th>\n",
              "      <td>3.140905</td>\n",
              "      <td>-1.584993</td>\n",
              "      <td>-0.309840</td>\n",
              "      <td>-0.189097</td>\n",
              "      <td>1.019511</td>\n",
              "      <td>1.194149</td>\n",
              "      <td>-0.550637</td>\n",
              "      <td>-0.169305</td>\n",
              "      <td>0.034541</td>\n",
              "      <td>0.458260</td>\n",
              "      <td>0.044482</td>\n",
              "    </tr>\n",
              "    <tr>\n",
              "      <th>1</th>\n",
              "      <td>0.154421</td>\n",
              "      <td>0.449045</td>\n",
              "      <td>0.583831</td>\n",
              "      <td>-0.135729</td>\n",
              "      <td>-1.132079</td>\n",
              "      <td>-0.464947</td>\n",
              "      <td>1.060187</td>\n",
              "      <td>-0.280245</td>\n",
              "      <td>-0.082298</td>\n",
              "      <td>0.348829</td>\n",
              "      <td>0.120115</td>\n",
              "    </tr>\n",
              "    <tr>\n",
              "      <th>2</th>\n",
              "      <td>-1.534420</td>\n",
              "      <td>-0.430531</td>\n",
              "      <td>-1.657617</td>\n",
              "      <td>0.210555</td>\n",
              "      <td>-0.629051</td>\n",
              "      <td>0.606862</td>\n",
              "      <td>-0.077252</td>\n",
              "      <td>0.761964</td>\n",
              "      <td>-0.264312</td>\n",
              "      <td>0.339191</td>\n",
              "      <td>0.190362</td>\n",
              "    </tr>\n",
              "    <tr>\n",
              "      <th>3</th>\n",
              "      <td>-1.389446</td>\n",
              "      <td>-0.620125</td>\n",
              "      <td>-1.733679</td>\n",
              "      <td>-0.178394</td>\n",
              "      <td>0.683744</td>\n",
              "      <td>0.490251</td>\n",
              "      <td>-1.157393</td>\n",
              "      <td>0.336441</td>\n",
              "      <td>-0.221474</td>\n",
              "      <td>-0.209129</td>\n",
              "      <td>-0.153720</td>\n",
              "    </tr>\n",
              "    <tr>\n",
              "      <th>4</th>\n",
              "      <td>-0.075514</td>\n",
              "      <td>2.153353</td>\n",
              "      <td>0.916553</td>\n",
              "      <td>0.049367</td>\n",
              "      <td>-1.538050</td>\n",
              "      <td>0.546661</td>\n",
              "      <td>-0.193678</td>\n",
              "      <td>-0.088103</td>\n",
              "      <td>1.321870</td>\n",
              "      <td>-0.748293</td>\n",
              "      <td>0.082941</td>\n",
              "    </tr>\n",
              "    <tr>\n",
              "      <th>...</th>\n",
              "      <td>...</td>\n",
              "      <td>...</td>\n",
              "      <td>...</td>\n",
              "      <td>...</td>\n",
              "      <td>...</td>\n",
              "      <td>...</td>\n",
              "      <td>...</td>\n",
              "      <td>...</td>\n",
              "      <td>...</td>\n",
              "      <td>...</td>\n",
              "      <td>...</td>\n",
              "    </tr>\n",
              "    <tr>\n",
              "      <th>1274</th>\n",
              "      <td>-1.539595</td>\n",
              "      <td>0.287824</td>\n",
              "      <td>-2.583571</td>\n",
              "      <td>-0.683425</td>\n",
              "      <td>1.943728</td>\n",
              "      <td>0.193237</td>\n",
              "      <td>-1.212954</td>\n",
              "      <td>-0.683762</td>\n",
              "      <td>-0.184276</td>\n",
              "      <td>-0.123645</td>\n",
              "      <td>-0.359171</td>\n",
              "    </tr>\n",
              "    <tr>\n",
              "      <th>1275</th>\n",
              "      <td>-0.494989</td>\n",
              "      <td>-2.244403</td>\n",
              "      <td>0.348119</td>\n",
              "      <td>-0.407092</td>\n",
              "      <td>-0.408528</td>\n",
              "      <td>0.597263</td>\n",
              "      <td>0.852243</td>\n",
              "      <td>0.240415</td>\n",
              "      <td>0.140507</td>\n",
              "      <td>0.206400</td>\n",
              "      <td>0.091233</td>\n",
              "    </tr>\n",
              "    <tr>\n",
              "      <th>1276</th>\n",
              "      <td>-1.201863</td>\n",
              "      <td>0.582828</td>\n",
              "      <td>-2.361779</td>\n",
              "      <td>0.437110</td>\n",
              "      <td>0.056841</td>\n",
              "      <td>1.190955</td>\n",
              "      <td>-0.549140</td>\n",
              "      <td>0.102181</td>\n",
              "      <td>-0.219024</td>\n",
              "      <td>0.699739</td>\n",
              "      <td>-0.005571</td>\n",
              "    </tr>\n",
              "    <tr>\n",
              "      <th>1277</th>\n",
              "      <td>0.142183</td>\n",
              "      <td>-2.751225</td>\n",
              "      <td>1.249038</td>\n",
              "      <td>0.003303</td>\n",
              "      <td>0.201411</td>\n",
              "      <td>0.972996</td>\n",
              "      <td>0.676528</td>\n",
              "      <td>-0.212899</td>\n",
              "      <td>0.125557</td>\n",
              "      <td>0.005497</td>\n",
              "      <td>-0.062408</td>\n",
              "    </tr>\n",
              "    <tr>\n",
              "      <th>1278</th>\n",
              "      <td>-1.439654</td>\n",
              "      <td>0.104788</td>\n",
              "      <td>-1.777380</td>\n",
              "      <td>-0.031567</td>\n",
              "      <td>-0.156743</td>\n",
              "      <td>-0.143334</td>\n",
              "      <td>-0.169060</td>\n",
              "      <td>0.215374</td>\n",
              "      <td>0.039230</td>\n",
              "      <td>-0.236664</td>\n",
              "      <td>0.261036</td>\n",
              "    </tr>\n",
              "  </tbody>\n",
              "</table>\n",
              "<p>1279 rows × 11 columns</p>\n",
              "</div>"
            ],
            "text/plain": [
              "            0         1         2   ...        8         9         10\n",
              "0     3.140905 -1.584993 -0.309840  ...  0.034541  0.458260  0.044482\n",
              "1     0.154421  0.449045  0.583831  ... -0.082298  0.348829  0.120115\n",
              "2    -1.534420 -0.430531 -1.657617  ... -0.264312  0.339191  0.190362\n",
              "3    -1.389446 -0.620125 -1.733679  ... -0.221474 -0.209129 -0.153720\n",
              "4    -0.075514  2.153353  0.916553  ...  1.321870 -0.748293  0.082941\n",
              "...        ...       ...       ...  ...       ...       ...       ...\n",
              "1274 -1.539595  0.287824 -2.583571  ... -0.184276 -0.123645 -0.359171\n",
              "1275 -0.494989 -2.244403  0.348119  ...  0.140507  0.206400  0.091233\n",
              "1276 -1.201863  0.582828 -2.361779  ... -0.219024  0.699739 -0.005571\n",
              "1277  0.142183 -2.751225  1.249038  ...  0.125557  0.005497 -0.062408\n",
              "1278 -1.439654  0.104788 -1.777380  ...  0.039230 -0.236664  0.261036\n",
              "\n",
              "[1279 rows x 11 columns]"
            ]
          },
          "metadata": {
            "tags": []
          },
          "execution_count": 23
        }
      ]
    },
    {
      "cell_type": "code",
      "metadata": {
        "colab": {
          "base_uri": "https://localhost:8080/"
        },
        "id": "M0K84eKAZZBO",
        "outputId": "62627697-8ebc-4580-b9a2-8ca208e16098"
      },
      "source": [
        "pca.explained_variance_"
      ],
      "execution_count": 36,
      "outputs": [
        {
          "output_type": "execute_result",
          "data": {
            "text/plain": [
              "array([3.05058135, 1.97743633, 1.557288  , 1.18403975, 0.95804433,\n",
              "       0.65871372, 0.59947702, 0.43170395, 0.34895623, 0.181413  ,\n",
              "       0.06095351])"
            ]
          },
          "metadata": {
            "tags": []
          },
          "execution_count": 36
        }
      ]
    },
    {
      "cell_type": "code",
      "metadata": {
        "colab": {
          "base_uri": "https://localhost:8080/"
        },
        "id": "MmeUZZQiY6xo",
        "outputId": "67606bb9-04be-4305-c088-bf04c54cf790"
      },
      "source": [
        "pca.explained_variance_ratio_"
      ],
      "execution_count": 35,
      "outputs": [
        {
          "output_type": "execute_result",
          "data": {
            "text/plain": [
              "array([0.27710875, 0.17962639, 0.14146095, 0.10755582, 0.08702684,\n",
              "       0.05983625, 0.0544553 , 0.03921513, 0.03169849, 0.0164792 ,\n",
              "       0.0055369 ])"
            ]
          },
          "metadata": {
            "tags": []
          },
          "execution_count": 35
        }
      ]
    },
    {
      "cell_type": "code",
      "metadata": {
        "colab": {
          "base_uri": "https://localhost:8080/",
          "height": 483
        },
        "id": "cEXk5r4sPb_u",
        "outputId": "83de38bb-694a-4d91-f618-b63d5120eedc"
      },
      "source": [
        "plt.figure(figsize=(10,8))\n",
        "plt.plot(np.cumsum(pca.explained_variance_ratio_))\n",
        "plt.axhline(y=0.9)\n",
        "plt.show()"
      ],
      "execution_count": 24,
      "outputs": [
        {
          "output_type": "display_data",
          "data": {
            "image/png": "[encoded data removed]",
            "text/plain": [
              "<Figure size 720x576 with 1 Axes>"
            ]
          },
          "metadata": {
            "tags": [],
            "needs_background": "light"
          }
        }
      ]
    },
    {
      "cell_type": "markdown",
      "metadata": {
        "id": "rR7esKeg1ykF"
      },
      "source": [
        "Looking at the cumulative variance explained, identify the `n_components` that explain 90% of the variance. Then build a `PCA` model with that number of components and transform the data."
      ]
    },
    {
      "cell_type": "code",
      "metadata": {
        "id": "Gav7BEv_Ugmh"
      },
      "source": [
        "# Apply PCA\n",
        "n_components = 6\n",
        "pca2 = PCA(n_components=n_components)\n",
        "X_train_pca2 = pca2.fit_transform(X_train_scale)\n",
        "X_test_pca2 = pca2.transform(X_test_scale)"
      ],
      "execution_count": 41,
      "outputs": []
    },
    {
      "cell_type": "code",
      "metadata": {
        "id": "KftdFH26Ugmk",
        "colab": {
          "base_uri": "https://localhost:8080/"
        },
        "outputId": "ca5230e2-3bc7-4c10-effc-842ee3005785"
      },
      "source": [
        "# Print the explained_variance\n",
        "pca2.explained_variance_"
      ],
      "execution_count": 42,
      "outputs": [
        {
          "output_type": "execute_result",
          "data": {
            "text/plain": [
              "array([3.05058135, 1.97743633, 1.557288  , 1.18403975, 0.95804433,\n",
              "       0.65871372])"
            ]
          },
          "metadata": {
            "tags": []
          },
          "execution_count": 42
        }
      ]
    },
    {
      "cell_type": "markdown",
      "metadata": {
        "id": "u8ka7GMP3ER6"
      },
      "source": [
        "Fit and score a logistic regression model using the principal components as the predictors and the quality as the target."
      ]
    },
    {
      "cell_type": "code",
      "metadata": {
        "id": "mT1-f3PXUgmq",
        "colab": {
          "base_uri": "https://localhost:8080/"
        },
        "outputId": "17b81824-fcb6-4612-ee89-21ca1ccf1fdb"
      },
      "source": [
        "# Fitting Logistic regression into dataset\n",
        "lr = LogisticRegression()\n",
        "lr.fit(X_train_pca2, y_train)\n",
        "y_pred = lr.predict(X_test_pca2)\n",
        "lr.score(X_test_pca2, y_test)"
      ],
      "execution_count": 43,
      "outputs": [
        {
          "output_type": "execute_result",
          "data": {
            "text/plain": [
              "0.515625"
            ]
          },
          "metadata": {
            "tags": []
          },
          "execution_count": 43
        }
      ]
    },
    {
      "cell_type": "markdown",
      "metadata": {
        "id": "zned7Ts6oIHY"
      },
      "source": [
        "Create and print a confusion matrix to further explore the model's performance."
      ]
    },
    {
      "cell_type": "code",
      "metadata": {
        "id": "UDpYbz3zoLfO",
        "colab": {
          "base_uri": "https://localhost:8080/",
          "height": 227
        },
        "outputId": "4f04dd5b-7413-4705-b416-0a56a5eb5600"
      },
      "source": [
        "pd.DataFrame(confusion_matrix(y_test, y_pred), columns=['5','6','7','4','8','3'], index=['5','6','7','4','8','3'])"
      ],
      "execution_count": 58,
      "outputs": [
        {
          "output_type": "execute_result",
          "data": {
            "text/html": [
              "<div>\n",
              "<style scoped>\n",
              "    .dataframe tbody tr th:only-of-type {\n",
              "        vertical-align: middle;\n",
              "    }\n",
              "\n",
              "    .dataframe tbody tr th {\n",
              "        vertical-align: top;\n",
              "    }\n",
              "\n",
              "    .dataframe thead th {\n",
              "        text-align: right;\n",
              "    }\n",
              "</style>\n",
              "<table border=\"1\" class=\"dataframe\">\n",
              "  <thead>\n",
              "    <tr style=\"text-align: right;\">\n",
              "      <th></th>\n",
              "      <th>5</th>\n",
              "      <th>6</th>\n",
              "      <th>7</th>\n",
              "      <th>4</th>\n",
              "      <th>8</th>\n",
              "      <th>3</th>\n",
              "    </tr>\n",
              "  </thead>\n",
              "  <tbody>\n",
              "    <tr>\n",
              "      <th>5</th>\n",
              "      <td>0</td>\n",
              "      <td>0</td>\n",
              "      <td>3</td>\n",
              "      <td>0</td>\n",
              "      <td>0</td>\n",
              "      <td>0</td>\n",
              "    </tr>\n",
              "    <tr>\n",
              "      <th>6</th>\n",
              "      <td>0</td>\n",
              "      <td>0</td>\n",
              "      <td>6</td>\n",
              "      <td>5</td>\n",
              "      <td>0</td>\n",
              "      <td>0</td>\n",
              "    </tr>\n",
              "    <tr>\n",
              "      <th>7</th>\n",
              "      <td>0</td>\n",
              "      <td>0</td>\n",
              "      <td>89</td>\n",
              "      <td>49</td>\n",
              "      <td>2</td>\n",
              "      <td>0</td>\n",
              "    </tr>\n",
              "    <tr>\n",
              "      <th>4</th>\n",
              "      <td>0</td>\n",
              "      <td>0</td>\n",
              "      <td>46</td>\n",
              "      <td>68</td>\n",
              "      <td>12</td>\n",
              "      <td>0</td>\n",
              "    </tr>\n",
              "    <tr>\n",
              "      <th>8</th>\n",
              "      <td>0</td>\n",
              "      <td>0</td>\n",
              "      <td>2</td>\n",
              "      <td>27</td>\n",
              "      <td>8</td>\n",
              "      <td>0</td>\n",
              "    </tr>\n",
              "    <tr>\n",
              "      <th>3</th>\n",
              "      <td>0</td>\n",
              "      <td>0</td>\n",
              "      <td>0</td>\n",
              "      <td>3</td>\n",
              "      <td>0</td>\n",
              "      <td>0</td>\n",
              "    </tr>\n",
              "  </tbody>\n",
              "</table>\n",
              "</div>"
            ],
            "text/plain": [
              "   5  6   7   4   8  3\n",
              "5  0  0   3   0   0  0\n",
              "6  0  0   6   5   0  0\n",
              "7  0  0  89  49   2  0\n",
              "4  0  0  46  68  12  0\n",
              "8  0  0   2  27   8  0\n",
              "3  0  0   0   3   0  0"
            ]
          },
          "metadata": {
            "tags": []
          },
          "execution_count": 58
        }
      ]
    },
    {
      "cell_type": "code",
      "metadata": {
        "colab": {
          "base_uri": "https://localhost:8080/"
        },
        "id": "_qFIF9MTbXxc",
        "outputId": "b76d44a5-081b-48f0-9c4a-8f2fb05629ad"
      },
      "source": [
        "y_train.value_counts().index"
      ],
      "execution_count": 52,
      "outputs": [
        {
          "output_type": "execute_result",
          "data": {
            "text/plain": [
              "5    541\n",
              "6    512\n",
              "7    162\n",
              "4     42\n",
              "8     15\n",
              "3      7\n",
              "Name: quality, dtype: int64"
            ]
          },
          "metadata": {
            "tags": []
          },
          "execution_count": 52
        }
      ]
    },
    {
      "cell_type": "markdown",
      "metadata": {
        "id": "i0-ELOrIUgms"
      },
      "source": [
        "Repeat the modeling process but transform your predictors using `LocallyLinearEmbedding` instead of `PCA`.\n",
        "\n",
        "* Use `n_neighbors` = 30\n",
        "* Set `n_components` to the same value you used for PCA\n",
        "* Use `method`='standard'"
      ]
    },
    {
      "cell_type": "code",
      "metadata": {
        "id": "k5Rsn92xUgmt"
      },
      "source": [
        "# Apply LLE\n",
        "from sklearn.manifold import LocallyLinearEmbedding\n",
        "lle = LocallyLinearEmbedding(n_components=6, n_neighbors=30, method='standard')\n",
        "lle_train_data = lle.fit_transform(X_train_scale)\n",
        "lle_test_data = lle.transform(X_test_scale)"
      ],
      "execution_count": 29,
      "outputs": []
    },
    {
      "cell_type": "code",
      "metadata": {
        "id": "KX5NAKT5Ugmv",
        "colab": {
          "base_uri": "https://localhost:8080/"
        },
        "outputId": "1241ce80-b698-4500-d830-fbf9ec795a00"
      },
      "source": [
        "# Fitting Logistic regression into dataset\n",
        "lr2 = LogisticRegression()\n",
        "lr2.fit(lle_train_data, y_train)\n",
        "y_pred2 = lr.predict(lle_test_data)\n",
        "lr.score(lle_test_data, y_test)"
      ],
      "execution_count": 30,
      "outputs": [
        {
          "output_type": "execute_result",
          "data": {
            "text/plain": [
              "0.39375"
            ]
          },
          "metadata": {
            "tags": []
          },
          "execution_count": 30
        }
      ]
    },
    {
      "cell_type": "markdown",
      "metadata": {
        "id": "FABcyfHwUgmx"
      },
      "source": [
        "Compare the model performance. What conclusions can you draw?"
      ]
    },
    {
      "cell_type": "code",
      "metadata": {
        "colab": {
          "base_uri": "https://localhost:8080/"
        },
        "id": "f7U_9G5QzB2T",
        "outputId": "4bb246a5-9453-4074-c1e2-5f23f17a8c89"
      },
      "source": [
        "confusion_matrix(y_test, y_pred2)"
      ],
      "execution_count": 31,
      "outputs": [
        {
          "output_type": "execute_result",
          "data": {
            "text/plain": [
              "array([[  0,   0,   0,   3,   0,   0],\n",
              "       [  0,   0,   0,  11,   0,   0],\n",
              "       [  0,   0,   0, 140,   0,   0],\n",
              "       [  0,   0,   0, 126,   0,   0],\n",
              "       [  0,   0,   0,  37,   0,   0],\n",
              "       [  0,   0,   0,   3,   0,   0]])"
            ]
          },
          "metadata": {
            "tags": []
          },
          "execution_count": 31
        }
      ]
    },
    {
      "cell_type": "code",
      "metadata": {
        "id": "fhQydHBUzZbq"
      },
      "source": [
        ""
      ],
      "execution_count": 31,
      "outputs": []
    }
  ]
}