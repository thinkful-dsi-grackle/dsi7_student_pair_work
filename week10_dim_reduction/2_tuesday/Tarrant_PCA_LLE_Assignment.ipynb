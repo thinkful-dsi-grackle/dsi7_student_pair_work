{
  "nbformat": 4,
  "nbformat_minor": 0,
  "metadata": {
    "colab": {
      "name": "Tarrant_PCA_LLE_Assignment.ipynb",
      "provenance": [],
      "collapsed_sections": []
    },
    "kernelspec": {
      "display_name": "Python 3",
      "language": "python",
      "name": "python3"
    },
    "language_info": {
      "codemirror_mode": {
        "name": "ipython",
        "version": 3
      },
      "file_extension": ".py",
      "mimetype": "text/x-python",
      "name": "python",
      "nbconvert_exporter": "python",
      "pygments_lexer": "ipython3",
      "version": "3.7.6"
    }
  },
  "cells": [
    {
      "cell_type": "markdown",
      "metadata": {
        "id": "zp1_rp11lJFs"
      },
      "source": [
        "## Manifold Learning PCA LLE on Wine Dataset\n",
        "    \n",
        "Data Set Information: Kaggle Red Wine Dataset. 1599 examples with 12 features on wine quality. Predict wine quality (0-10).\n",
        "\n",
        "https://www.kaggle.com/piyushgoyal443/red-wine-dataset#wineQualityInfo.txt\n",
        "\n",
        "1) Load the wine quality data set.\n",
        "\n",
        "2) Fit PCA and plot the cumulative sum of the `pca.explained_variance_ratio_`.\n",
        "\n",
        "3) Identify the number of principal components to explain 90% of the variance.\n",
        "\n",
        "4) Build a logistic regression model and record the accuracy.\n",
        "\n",
        "5) Repeat step 4 using LLE with the same number of components and 30 neighbors.\n",
        "\n",
        "6) Record your observations and identify your top performing model. Does manifold learning improve predictive performance over PCA in this case?"
      ]
    },
    {
      "cell_type": "markdown",
      "metadata": {
        "id": "Yy1C2S7bUgly"
      },
      "source": [
        "### Red Wine Dataset\n",
        "\n",
        "Citation Request: This dataset is publicly available for research. The details are described in [Cortez et al., 2009]. Please include this citation if you plan to use this database:\n",
        "\n",
        "P. Cortez, A. Cerdeira, F. Almeida, T. Matos and J. Reis. Modeling wine preferences by data mining from physicochemical properties. In Decision Support Systems, Elsevier, 47(4):547-553. ISSN: 0167-9236.\n",
        "\n",
        "Available at: [@Elsevier] http://dx.doi.org/10.1016/j.dss.2009.05.016 \n",
        "\n",
        "#### Description of attributes:\n",
        "\n",
        "1 - fixed acidity: most acids involved with wine or fixed or nonvolatile (do not evaporate readily)\n",
        "\n",
        "2 - volatile acidity: the amount of acetic acid in wine, which at too high of levels can lead to an unpleasant, vinegar taste\n",
        "\n",
        "3 - citric acid: found in small quantities, citric acid can add 'freshness' and flavor to wines\n",
        "\n",
        "4 - residual sugar: the amount of sugar remaining after fermentation stops, it's rare to find wines with less than 1 gram/liter and wines with greater than 45 grams/liter are considered sweet\n",
        "\n",
        "5 - chlorides: the amount of salt in the wine\n",
        "\n",
        "6 - free sulfur dioxide: the free form of SO2 exists in equilibrium between molecular SO2 (as a dissolved gas) and bisulfite ion; it prevents microbial growth and the oxidation of wine\n",
        "\n",
        "7 - total sulfur dioxide: amount of free and bound forms of S02; in low concentrations, SO2 is mostly undetectable in wine, but at free SO2 concentrations over 50 ppm, SO2 becomes evident in the nose and taste of wine\n",
        "\n",
        "8 - density: the density of wine is close to that of water depending on the percent alcohol and sugar content\n",
        "\n",
        "9 - pH: describes how acidic or basic a wine is on a scale from 0 (very acidic) to 14 (very basic); most wines are between 3-4 on the pH scale\n",
        "\n",
        "10 - sulphates: a wine additive which can contribute to sulfur dioxide gas (S02) levels, wich acts as an antimicrobial and antioxidant\n",
        "\n",
        "11 - alcohol: the percent alcohol content of the wine\n",
        "\n",
        "#### Output variable (based on sensory data): \n",
        "\n",
        "12 - quality (score between 0 and 10)"
      ]
    },
    {
      "cell_type": "markdown",
      "metadata": {
        "id": "XSSStkYd0Hcz"
      },
      "source": [
        "### Load the wine quality dataset and important libraries"
      ]
    },
    {
      "cell_type": "code",
      "metadata": {
        "id": "V_sIAYjYUgl4",
        "colab": {
          "base_uri": "https://localhost:8080/",
          "height": 241
        },
        "outputId": "67af6692-926a-462c-ccc3-7ad8260dd315"
      },
      "source": [
        "import numpy as np\n",
        "import pandas as pd\n",
        "import matplotlib.pyplot as plt\n",
        "from sklearn import manifold\n",
        "from sklearn.metrics import confusion_matrix, plot_confusion_matrix\n",
        "from sklearn.metrics import accuracy_score\n",
        "from sklearn.decomposition import PCA\n",
        "from sklearn.model_selection import train_test_split\n",
        "from sklearn.linear_model import LogisticRegression\n",
        "from sklearn.preprocessing import StandardScaler\n",
        "\n",
        "df = pd.read_csv(\n",
        "    \"https://raw.githubusercontent.com/Thinkful-Ed/data-science-lectures/master/wineQualityReds.csv\"\n",
        ")\n",
        "df.head()"
      ],
      "execution_count": 1,
      "outputs": [
        {
          "output_type": "execute_result",
          "data": {
            "text/html": [
              "<div>\n",
              "<style scoped>\n",
              "    .dataframe tbody tr th:only-of-type {\n",
              "        vertical-align: middle;\n",
              "    }\n",
              "\n",
              "    .dataframe tbody tr th {\n",
              "        vertical-align: top;\n",
              "    }\n",
              "\n",
              "    .dataframe thead th {\n",
              "        text-align: right;\n",
              "    }\n",
              "</style>\n",
              "<table border=\"1\" class=\"dataframe\">\n",
              "  <thead>\n",
              "    <tr style=\"text-align: right;\">\n",
              "      <th></th>\n",
              "      <th>Unnamed: 0</th>\n",
              "      <th>fixed.acidity</th>\n",
              "      <th>volatile.acidity</th>\n",
              "      <th>citric.acid</th>\n",
              "      <th>residual.sugar</th>\n",
              "      <th>chlorides</th>\n",
              "      <th>free.sulfur.dioxide</th>\n",
              "      <th>total.sulfur.dioxide</th>\n",
              "      <th>density</th>\n",
              "      <th>pH</th>\n",
              "      <th>sulphates</th>\n",
              "      <th>alcohol</th>\n",
              "      <th>quality</th>\n",
              "    </tr>\n",
              "  </thead>\n",
              "  <tbody>\n",
              "    <tr>\n",
              "      <th>0</th>\n",
              "      <td>1</td>\n",
              "      <td>7.4</td>\n",
              "      <td>0.70</td>\n",
              "      <td>0.00</td>\n",
              "      <td>1.9</td>\n",
              "      <td>0.076</td>\n",
              "      <td>11.0</td>\n",
              "      <td>34.0</td>\n",
              "      <td>0.9978</td>\n",
              "      <td>3.51</td>\n",
              "      <td>0.56</td>\n",
              "      <td>9.4</td>\n",
              "      <td>5</td>\n",
              "    </tr>\n",
              "    <tr>\n",
              "      <th>1</th>\n",
              "      <td>2</td>\n",
              "      <td>7.8</td>\n",
              "      <td>0.88</td>\n",
              "      <td>0.00</td>\n",
              "      <td>2.6</td>\n",
              "      <td>0.098</td>\n",
              "      <td>25.0</td>\n",
              "      <td>67.0</td>\n",
              "      <td>0.9968</td>\n",
              "      <td>3.20</td>\n",
              "      <td>0.68</td>\n",
              "      <td>9.8</td>\n",
              "      <td>5</td>\n",
              "    </tr>\n",
              "    <tr>\n",
              "      <th>2</th>\n",
              "      <td>3</td>\n",
              "      <td>7.8</td>\n",
              "      <td>0.76</td>\n",
              "      <td>0.04</td>\n",
              "      <td>2.3</td>\n",
              "      <td>0.092</td>\n",
              "      <td>15.0</td>\n",
              "      <td>54.0</td>\n",
              "      <td>0.9970</td>\n",
              "      <td>3.26</td>\n",
              "      <td>0.65</td>\n",
              "      <td>9.8</td>\n",
              "      <td>5</td>\n",
              "    </tr>\n",
              "    <tr>\n",
              "      <th>3</th>\n",
              "      <td>4</td>\n",
              "      <td>11.2</td>\n",
              "      <td>0.28</td>\n",
              "      <td>0.56</td>\n",
              "      <td>1.9</td>\n",
              "      <td>0.075</td>\n",
              "      <td>17.0</td>\n",
              "      <td>60.0</td>\n",
              "      <td>0.9980</td>\n",
              "      <td>3.16</td>\n",
              "      <td>0.58</td>\n",
              "      <td>9.8</td>\n",
              "      <td>6</td>\n",
              "    </tr>\n",
              "    <tr>\n",
              "      <th>4</th>\n",
              "      <td>5</td>\n",
              "      <td>7.4</td>\n",
              "      <td>0.70</td>\n",
              "      <td>0.00</td>\n",
              "      <td>1.9</td>\n",
              "      <td>0.076</td>\n",
              "      <td>11.0</td>\n",
              "      <td>34.0</td>\n",
              "      <td>0.9978</td>\n",
              "      <td>3.51</td>\n",
              "      <td>0.56</td>\n",
              "      <td>9.4</td>\n",
              "      <td>5</td>\n",
              "    </tr>\n",
              "  </tbody>\n",
              "</table>\n",
              "</div>"
            ],
            "text/plain": [
              "   Unnamed: 0  fixed.acidity  volatile.acidity  ...  sulphates  alcohol  quality\n",
              "0           1            7.4              0.70  ...       0.56      9.4        5\n",
              "1           2            7.8              0.88  ...       0.68      9.8        5\n",
              "2           3            7.8              0.76  ...       0.65      9.8        5\n",
              "3           4           11.2              0.28  ...       0.58      9.8        6\n",
              "4           5            7.4              0.70  ...       0.56      9.4        5\n",
              "\n",
              "[5 rows x 13 columns]"
            ]
          },
          "metadata": {
            "tags": []
          },
          "execution_count": 1
        }
      ]
    },
    {
      "cell_type": "code",
      "metadata": {
        "id": "MbCJNI6fUgl7",
        "colab": {
          "base_uri": "https://localhost:8080/"
        },
        "outputId": "7ca8cba4-a940-4ad5-e952-dbab4d9f0dc1"
      },
      "source": [
        "# Check the shape of the DataFrame\n",
        "df.shape"
      ],
      "execution_count": 2,
      "outputs": [
        {
          "output_type": "execute_result",
          "data": {
            "text/plain": [
              "(1599, 13)"
            ]
          },
          "metadata": {
            "tags": []
          },
          "execution_count": 2
        }
      ]
    },
    {
      "cell_type": "code",
      "metadata": {
        "id": "H_NepmoSUgl-",
        "colab": {
          "base_uri": "https://localhost:8080/"
        },
        "outputId": "e2373dce-49ad-4872-98d9-0a125c5dd24f"
      },
      "source": [
        "# Check for missing values and handle them appropriately if there are any\n",
        "df.isnull().sum().sort_values(ascending=False)"
      ],
      "execution_count": 3,
      "outputs": [
        {
          "output_type": "execute_result",
          "data": {
            "text/plain": [
              "quality                 0\n",
              "alcohol                 0\n",
              "sulphates               0\n",
              "pH                      0\n",
              "density                 0\n",
              "total.sulfur.dioxide    0\n",
              "free.sulfur.dioxide     0\n",
              "chlorides               0\n",
              "residual.sugar          0\n",
              "citric.acid             0\n",
              "volatile.acidity        0\n",
              "fixed.acidity           0\n",
              "Unnamed: 0              0\n",
              "dtype: int64"
            ]
          },
          "metadata": {
            "tags": []
          },
          "execution_count": 3
        }
      ]
    },
    {
      "cell_type": "markdown",
      "metadata": {
        "id": "fee_5I0OmPVa"
      },
      "source": [
        "We're interested in predicting the `quality` based on the other features.\n",
        "* Investigate the `quality` column.\n",
        "    * What are the most common values?\n",
        "    * Show this with a plot."
      ]
    },
    {
      "cell_type": "code",
      "metadata": {
        "id": "ODp6B4-cUgmB",
        "colab": {
          "base_uri": "https://localhost:8080/"
        },
        "outputId": "51bfe2c7-7484-4729-f385-bbf5c569973a"
      },
      "source": [
        "# Check the unique values from \"quality\" column\n",
        "df['quality'].nunique()"
      ],
      "execution_count": 4,
      "outputs": [
        {
          "output_type": "execute_result",
          "data": {
            "text/plain": [
              "6"
            ]
          },
          "metadata": {
            "tags": []
          },
          "execution_count": 4
        }
      ]
    },
    {
      "cell_type": "code",
      "metadata": {
        "id": "feFax9UQUgmE",
        "colab": {
          "base_uri": "https://localhost:8080/"
        },
        "outputId": "eed4418e-13a5-467c-8871-a52476783f32"
      },
      "source": [
        "# Count the unique values in \"quality\" column\n",
        "df['quality'].value_counts()"
      ],
      "execution_count": 5,
      "outputs": [
        {
          "output_type": "execute_result",
          "data": {
            "text/plain": [
              "5    681\n",
              "6    638\n",
              "7    199\n",
              "4     53\n",
              "8     18\n",
              "3     10\n",
              "Name: quality, dtype: int64"
            ]
          },
          "metadata": {
            "tags": []
          },
          "execution_count": 5
        }
      ]
    },
    {
      "cell_type": "code",
      "metadata": {
        "id": "IxpsmPWTUgmH",
        "scrolled": true,
        "colab": {
          "base_uri": "https://localhost:8080/",
          "height": 265
        },
        "outputId": "5ace12d9-4c6b-449f-c0a1-12e60e190662"
      },
      "source": [
        "# Plot for quality\n",
        "plt.hist(df['quality'])\n",
        "plt.show()"
      ],
      "execution_count": 6,
      "outputs": [
        {
          "output_type": "display_data",
          "data": {
            "image/png": "[encoded data removed]",
            "text/plain": [
              "<Figure size 432x288 with 1 Axes>"
            ]
          },
          "metadata": {
            "tags": [],
            "needs_background": "light"
          }
        }
      ]
    },
    {
      "cell_type": "markdown",
      "metadata": {
        "id": "5aNfQ96sma7h"
      },
      "source": [
        "Separate the `X` and the `y` in preparation to create a supervised learning model."
      ]
    },
    {
      "cell_type": "code",
      "metadata": {
        "id": "3SRHe_VSUgmN"
      },
      "source": [
        "# Separate dependent and independent variables\n",
        "X = df.drop('quality', axis=1)\n",
        "y = df['quality']"
      ],
      "execution_count": 7,
      "outputs": []
    },
    {
      "cell_type": "code",
      "metadata": {
        "id": "Tfag6TE2UgmQ",
        "colab": {
          "base_uri": "https://localhost:8080/"
        },
        "outputId": "e09f9f61-c5da-48e9-81cd-6372a5d615fa"
      },
      "source": [
        "# Check and print X\n",
        "X.info()"
      ],
      "execution_count": 8,
      "outputs": [
        {
          "output_type": "stream",
          "text": [
            "<class 'pandas.core.frame.DataFrame'>\n",
            "RangeIndex: 1599 entries, 0 to 1598\n",
            "Data columns (total 12 columns):\n",
            " #   Column                Non-Null Count  Dtype  \n",
            "---  ------                --------------  -----  \n",
            " 0   Unnamed: 0            1599 non-null   int64  \n",
            " 1   fixed.acidity         1599 non-null   float64\n",
            " 2   volatile.acidity      1599 non-null   float64\n",
            " 3   citric.acid           1599 non-null   float64\n",
            " 4   residual.sugar        1599 non-null   float64\n",
            " 5   chlorides             1599 non-null   float64\n",
            " 6   free.sulfur.dioxide   1599 non-null   float64\n",
            " 7   total.sulfur.dioxide  1599 non-null   float64\n",
            " 8   density               1599 non-null   float64\n",
            " 9   pH                    1599 non-null   float64\n",
            " 10  sulphates             1599 non-null   float64\n",
            " 11  alcohol               1599 non-null   float64\n",
            "dtypes: float64(11), int64(1)\n",
            "memory usage: 150.0 KB\n"
          ],
          "name": "stdout"
        }
      ]
    },
    {
      "cell_type": "code",
      "metadata": {
        "id": "2__ODQKAUgmT",
        "colab": {
          "base_uri": "https://localhost:8080/"
        },
        "outputId": "040202e1-1cbd-4cf1-b66f-449bdd1a4856"
      },
      "source": [
        "# Check and print y\n",
        "y"
      ],
      "execution_count": 9,
      "outputs": [
        {
          "output_type": "execute_result",
          "data": {
            "text/plain": [
              "0       5\n",
              "1       5\n",
              "2       5\n",
              "3       6\n",
              "4       5\n",
              "       ..\n",
              "1594    5\n",
              "1595    6\n",
              "1596    6\n",
              "1597    5\n",
              "1598    6\n",
              "Name: quality, Length: 1599, dtype: int64"
            ]
          },
          "metadata": {
            "tags": []
          },
          "execution_count": 9
        }
      ]
    },
    {
      "cell_type": "markdown",
      "metadata": {
        "id": "gFb5XZMnmiTh"
      },
      "source": [
        "Perform a train test split."
      ]
    },
    {
      "cell_type": "code",
      "metadata": {
        "id": "7S9rgdgvUgmW"
      },
      "source": [
        "# Split the dataset into the Training set and Test set\n",
        "X_train, X_test, y_train, y_test = train_test_split(X,y,test_size=.2)"
      ],
      "execution_count": 10,
      "outputs": []
    },
    {
      "cell_type": "markdown",
      "metadata": {
        "id": "pFZPihVHmpyB"
      },
      "source": [
        "In our modeling process we'd like to use `PCA`.  `PCA` is sensitive to data being on different scales.  Scale the data using `StandardScaler`."
      ]
    },
    {
      "cell_type": "code",
      "metadata": {
        "id": "raZ7lGC9UgmZ"
      },
      "source": [
        "# Feature Scaling\n",
        "scale = StandardScaler()\n",
        "X_train_scale = scale.fit_transform(X_train)\n",
        "X_test_scale = scale.transform(X_train)"
      ],
      "execution_count": 11,
      "outputs": []
    },
    {
      "cell_type": "code",
      "metadata": {
        "colab": {
          "base_uri": "https://localhost:8080/"
        },
        "id": "fJ96Z4lw0COS",
        "outputId": "f1fc341c-97f7-4b40-8450-288e68769b21"
      },
      "source": [
        "X_train_scale.shape"
      ],
      "execution_count": 12,
      "outputs": [
        {
          "output_type": "execute_result",
          "data": {
            "text/plain": [
              "(1279, 12)"
            ]
          },
          "metadata": {
            "tags": []
          },
          "execution_count": 12
        }
      ]
    },
    {
      "cell_type": "markdown",
      "metadata": {
        "id": "ZlurjUKgUgmc"
      },
      "source": [
        "Fit an instance of `PCA` to `X_train` and explore the `explained_variance_ratio_` attribute.  Create a plot showing the cumulative sum of `.explained_variance_ratio_`."
      ]
    },
    {
      "cell_type": "code",
      "metadata": {
        "id": "0HrFg2AZUgmc",
        "colab": {
          "base_uri": "https://localhost:8080/",
          "height": 279
        },
        "outputId": "ef36edb2-363f-460a-87ee-fed33b68aaca"
      },
      "source": [
        "pca = PCA()\n",
        "components = pca.fit_transform(X_train_scale)\n",
        "exp_var = pca.explained_variance_ratio_\n",
        "plt.plot(np.cumsum(exp_var))\n",
        "plt.axhline(.9, color='r')\n",
        "plt.axvline(x = 7, color ='r') \n",
        "plt.xlabel('Number of Components')\n",
        "plt.ylabel('Explained Variance')\n",
        "plt.show()"
      ],
      "execution_count": 13,
      "outputs": [
        {
          "output_type": "display_data",
          "data": {
            "image/png": "[encoded data removed]",
            "text/plain": [
              "<Figure size 432x288 with 1 Axes>"
            ]
          },
          "metadata": {
            "tags": [],
            "needs_background": "light"
          }
        }
      ]
    },
    {
      "cell_type": "code",
      "metadata": {
        "colab": {
          "base_uri": "https://localhost:8080/"
        },
        "id": "08MbqSLLyOYA",
        "outputId": "13743195-8e13-412b-8e1d-8be86ec2caa2"
      },
      "source": [
        "exp_var.cumsum()"
      ],
      "execution_count": 14,
      "outputs": [
        {
          "output_type": "execute_result",
          "data": {
            "text/plain": [
              "array([0.2689539 , 0.435171  , 0.56635805, 0.66426181, 0.74487925,\n",
              "       0.81955181, 0.87158428, 0.91829606, 0.95220305, 0.98003124,\n",
              "       0.99493171, 1.        ])"
            ]
          },
          "metadata": {
            "tags": []
          },
          "execution_count": 14
        }
      ]
    },
    {
      "cell_type": "markdown",
      "metadata": {
        "id": "rR7esKeg1ykF"
      },
      "source": [
        "Looking at the cumulative variance explained, identify the `n_components` that explain 90% of the variance. Then build a `PCA` model with that number of components and transform the data."
      ]
    },
    {
      "cell_type": "code",
      "metadata": {
        "id": "Gav7BEv_Ugmh"
      },
      "source": [
        "# Apply PCA\n",
        "pca = PCA(n_components=8)\n",
        "X_train_pca = pca.fit_transform(X_train_scale)\n",
        "X_test_pca = pca.transform(X_test_scale)\n"
      ],
      "execution_count": 15,
      "outputs": []
    },
    {
      "cell_type": "code",
      "metadata": {
        "id": "KftdFH26Ugmk",
        "colab": {
          "base_uri": "https://localhost:8080/"
        },
        "outputId": "4183c2c5-a2f0-44c5-96bb-421eb23bce97"
      },
      "source": [
        "# Print the explained_variance\n",
        "pca.explained_variance_"
      ],
      "execution_count": 16,
      "outputs": [
        {
          "output_type": "execute_result",
          "data": {
            "text/plain": [
              "array([3.22997214, 1.99616603, 1.57547638, 1.17576438, 0.96816626,\n",
              "       0.89677183, 0.62487828, 0.56097988])"
            ]
          },
          "metadata": {
            "tags": []
          },
          "execution_count": 16
        }
      ]
    },
    {
      "cell_type": "markdown",
      "metadata": {
        "id": "u8ka7GMP3ER6"
      },
      "source": [
        "Fit and score a logistic regression model using the principal components as the predictors and the quality as the target."
      ]
    },
    {
      "cell_type": "code",
      "metadata": {
        "id": "mT1-f3PXUgmq",
        "colab": {
          "base_uri": "https://localhost:8080/"
        },
        "outputId": "ac58c7e4-d616-462d-ba37-02ae6884bc10"
      },
      "source": [
        "# Fitting Logistic regression into dataset\n",
        "lr = LogisticRegression()\n",
        "lr.fit(X_train_pca, y_train)\n",
        "print(\"Train Score: \", lr.score(X_train_pca, y_train))"
      ],
      "execution_count": 17,
      "outputs": [
        {
          "output_type": "stream",
          "text": [
            "Train Score:  0.584831899921814\n"
          ],
          "name": "stdout"
        }
      ]
    },
    {
      "cell_type": "markdown",
      "metadata": {
        "id": "zned7Ts6oIHY"
      },
      "source": [
        "Create and print a confusion matrix to further explore the model's performance."
      ]
    },
    {
      "cell_type": "code",
      "metadata": {
        "id": "UDpYbz3zoLfO",
        "colab": {
          "base_uri": "https://localhost:8080/",
          "height": 689
        },
        "outputId": "a4b0ce73-007e-420f-d1db-b22d0e541b32"
      },
      "source": [
        "fig, ax = plt.subplots(figsize=(12,12))\n",
        "plot_confusion_matrix(lr, X_train_pca, y_train, ax=ax, values_format='.0f')\n",
        "plt.show()"
      ],
      "execution_count": 18,
      "outputs": [
        {
          "output_type": "display_data",
          "data": {
            "image/png": "[encoded data removed]",
            "text/plain": [
              "<Figure size 864x864 with 2 Axes>"
            ]
          },
          "metadata": {
            "tags": [],
            "needs_background": "light"
          }
        }
      ]
    },
    {
      "cell_type": "markdown",
      "metadata": {
        "id": "i0-ELOrIUgms"
      },
      "source": [
        "Repeat the modeling process but transform your predictors using `LocallyLinearEmbedding` instead of `PCA`.\n",
        "\n",
        "* Use `n_neighbors` = 30\n",
        "* Set `n_components` to the same value you used for PCA\n",
        "* Use `method`='standard'"
      ]
    },
    {
      "cell_type": "code",
      "metadata": {
        "id": "k5Rsn92xUgmt"
      },
      "source": [
        "# Apply LLE\n",
        "from sklearn.manifold import LocallyLinearEmbedding\n",
        "lle = LocallyLinearEmbedding(n_components=8, n_neighbors=30, method='standard')\n",
        "X_train_lle = lle.fit_transform(X_train_scale)\n",
        "X_test_lle = lle.transform(X_test_scale)"
      ],
      "execution_count": 19,
      "outputs": []
    },
    {
      "cell_type": "code",
      "metadata": {
        "id": "KX5NAKT5Ugmv",
        "colab": {
          "base_uri": "https://localhost:8080/"
        },
        "outputId": "1ed28ae7-76b6-4ded-d5ec-ca1ceef5bb94"
      },
      "source": [
        "# Fitting Logistic regression into dataset\n",
        "lr = LogisticRegression()\n",
        "lr.fit(X_train_lle, y_train)\n",
        "lr.score(X_train_lle, y_train)"
      ],
      "execution_count": 20,
      "outputs": [
        {
          "output_type": "execute_result",
          "data": {
            "text/plain": [
              "0.5254104769351056"
            ]
          },
          "metadata": {
            "tags": []
          },
          "execution_count": 20
        }
      ]
    },
    {
      "cell_type": "code",
      "metadata": {
        "colab": {
          "base_uri": "https://localhost:8080/",
          "height": 689
        },
        "id": "fvcyXi796Al1",
        "outputId": "0f7aff71-a056-4bfb-aae1-8a57ae4e871d"
      },
      "source": [
        "fig, ax = plt.subplots(figsize=(12,12))\n",
        "plot_confusion_matrix(lr, X_train_lle, y_train, ax=ax, values_format='.0f')\n",
        "plt.show()"
      ],
      "execution_count": 21,
      "outputs": [
        {
          "output_type": "display_data",
          "data": {
            "image/png": "[encoded data removed]",
            "text/plain": [
              "<Figure size 864x864 with 2 Axes>"
            ]
          },
          "metadata": {
            "tags": [],
            "needs_background": "light"
          }
        }
      ]
    },
    {
      "cell_type": "markdown",
      "metadata": {
        "id": "FABcyfHwUgmx"
      },
      "source": [
        "Compare the model performance. What conclusions can you draw?"
      ]
    },
    {
      "cell_type": "markdown",
      "metadata": {
        "id": "Ec23F7126ajC"
      },
      "source": [
        "The pca model performs better by 6% on the training set. We can see that LLE model makes all of its predictions on the two most dominant classes (5 and 6). In addition to classes 5 and 6, the PCA model makes prediction in class 7. The PCA model also makes more accurate predictions for classes 5 and 6. So the PCA model is the preferred model for this dataset. "
      ]
    }
  ]
}