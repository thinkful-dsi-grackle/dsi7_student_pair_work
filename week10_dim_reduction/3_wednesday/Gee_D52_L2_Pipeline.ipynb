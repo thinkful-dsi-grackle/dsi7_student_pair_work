{
 "cells": [
  {
   "cell_type": "markdown",
   "metadata": {
    "id": "RzcLuZowoMar"
   },
   "source": [
    "# Machine Learning Best Practices Assignment"
   ]
  },
  {
   "cell_type": "code",
   "execution_count": 26,
   "metadata": {
    "id": "lpBBfm3toMat"
   },
   "outputs": [],
   "source": [
    "import pickle\n",
    "import pandas as pd\n",
    "from sklearn.pipeline import Pipeline\n",
    "from sklearn.decomposition import PCA\n",
    "from sklearn.model_selection import GridSearchCV\n",
    "from sklearn.metrics import classification_report\n",
    "from sklearn.ensemble import RandomForestClassifier\n",
    "from sklearn.model_selection import cross_val_score\n",
    "from sklearn.model_selection import train_test_split"
   ]
  },
  {
   "cell_type": "markdown",
   "metadata": {
    "id": "TfqS_cMWoMa1"
   },
   "source": [
    "### Import the [Pima Indians Diabetes data set](https://tf-assets-prod.s3.amazonaws.com/tf-curric/data-science/pima_indians_diabetes.csv)."
   ]
  },
  {
   "cell_type": "code",
   "execution_count": 27,
   "metadata": {
    "id": "qO-4LVM7oMa1"
   },
   "outputs": [],
   "source": [
    "data = pd.read_csv('https://tf-assets-prod.s3.amazonaws.com/tf-curric/data-science/pima_indians_diabetes.csv')"
   ]
  },
  {
   "cell_type": "code",
   "execution_count": 28,
   "metadata": {
    "colab": {
     "base_uri": "https://localhost:8080/"
    },
    "id": "rIe2lGZPAHh-",
    "outputId": "4bcf9f36-8489-4952-d0c8-b646f3285054"
   },
   "outputs": [
    {
     "name": "stdout",
     "output_type": "stream",
     "text": [
      "<class 'pandas.core.frame.DataFrame'>\n",
      "RangeIndex: 768 entries, 0 to 767\n",
      "Data columns (total 9 columns):\n",
      " #   Column             Non-Null Count  Dtype  \n",
      "---  ------             --------------  -----  \n",
      " 0   pregnancies        768 non-null    int64  \n",
      " 1   glucose            768 non-null    int64  \n",
      " 2   blood_pressure     768 non-null    int64  \n",
      " 3   skin_thickness     768 non-null    int64  \n",
      " 4   insulin            768 non-null    int64  \n",
      " 5   bmi                768 non-null    float64\n",
      " 6   diabetes_pedigree  768 non-null    float64\n",
      " 7   age                768 non-null    int64  \n",
      " 8   outcome            768 non-null    int64  \n",
      "dtypes: float64(2), int64(7)\n",
      "memory usage: 54.1 KB\n"
     ]
    }
   ],
   "source": [
    "data.info()"
   ]
  },
  {
   "cell_type": "code",
   "execution_count": 29,
   "metadata": {
    "colab": {
     "base_uri": "https://localhost:8080/",
     "height": 224
    },
    "id": "EAJlzt9JATLs",
    "outputId": "db4b4b2d-52f6-4b68-9317-01f7c755eb57"
   },
   "outputs": [
    {
     "data": {
      "text/html": [
       "<div>\n",
       "<style scoped>\n",
       "    .dataframe tbody tr th:only-of-type {\n",
       "        vertical-align: middle;\n",
       "    }\n",
       "\n",
       "    .dataframe tbody tr th {\n",
       "        vertical-align: top;\n",
       "    }\n",
       "\n",
       "    .dataframe thead th {\n",
       "        text-align: right;\n",
       "    }\n",
       "</style>\n",
       "<table border=\"1\" class=\"dataframe\">\n",
       "  <thead>\n",
       "    <tr style=\"text-align: right;\">\n",
       "      <th></th>\n",
       "      <th>pregnancies</th>\n",
       "      <th>glucose</th>\n",
       "      <th>blood_pressure</th>\n",
       "      <th>skin_thickness</th>\n",
       "      <th>insulin</th>\n",
       "      <th>bmi</th>\n",
       "      <th>diabetes_pedigree</th>\n",
       "      <th>age</th>\n",
       "      <th>outcome</th>\n",
       "    </tr>\n",
       "  </thead>\n",
       "  <tbody>\n",
       "    <tr>\n",
       "      <th>0</th>\n",
       "      <td>6</td>\n",
       "      <td>148</td>\n",
       "      <td>72</td>\n",
       "      <td>35</td>\n",
       "      <td>0</td>\n",
       "      <td>33.6</td>\n",
       "      <td>0.627</td>\n",
       "      <td>50</td>\n",
       "      <td>1</td>\n",
       "    </tr>\n",
       "    <tr>\n",
       "      <th>1</th>\n",
       "      <td>1</td>\n",
       "      <td>85</td>\n",
       "      <td>66</td>\n",
       "      <td>29</td>\n",
       "      <td>0</td>\n",
       "      <td>26.6</td>\n",
       "      <td>0.351</td>\n",
       "      <td>31</td>\n",
       "      <td>0</td>\n",
       "    </tr>\n",
       "    <tr>\n",
       "      <th>2</th>\n",
       "      <td>8</td>\n",
       "      <td>183</td>\n",
       "      <td>64</td>\n",
       "      <td>0</td>\n",
       "      <td>0</td>\n",
       "      <td>23.3</td>\n",
       "      <td>0.672</td>\n",
       "      <td>32</td>\n",
       "      <td>1</td>\n",
       "    </tr>\n",
       "    <tr>\n",
       "      <th>3</th>\n",
       "      <td>1</td>\n",
       "      <td>89</td>\n",
       "      <td>66</td>\n",
       "      <td>23</td>\n",
       "      <td>94</td>\n",
       "      <td>28.1</td>\n",
       "      <td>0.167</td>\n",
       "      <td>21</td>\n",
       "      <td>0</td>\n",
       "    </tr>\n",
       "    <tr>\n",
       "      <th>4</th>\n",
       "      <td>0</td>\n",
       "      <td>137</td>\n",
       "      <td>40</td>\n",
       "      <td>35</td>\n",
       "      <td>168</td>\n",
       "      <td>43.1</td>\n",
       "      <td>2.288</td>\n",
       "      <td>33</td>\n",
       "      <td>1</td>\n",
       "    </tr>\n",
       "  </tbody>\n",
       "</table>\n",
       "</div>"
      ],
      "text/plain": [
       "   pregnancies  glucose  blood_pressure  skin_thickness  insulin   bmi  \\\n",
       "0            6      148              72              35        0  33.6   \n",
       "1            1       85              66              29        0  26.6   \n",
       "2            8      183              64               0        0  23.3   \n",
       "3            1       89              66              23       94  28.1   \n",
       "4            0      137              40              35      168  43.1   \n",
       "\n",
       "   diabetes_pedigree  age  outcome  \n",
       "0              0.627   50        1  \n",
       "1              0.351   31        0  \n",
       "2              0.672   32        1  \n",
       "3              0.167   21        0  \n",
       "4              2.288   33        1  "
      ]
     },
     "execution_count": 29,
     "metadata": {},
     "output_type": "execute_result"
    }
   ],
   "source": [
    "data.head()"
   ]
  },
  {
   "cell_type": "markdown",
   "metadata": {
    "id": "YtNhl2RCoMa5"
   },
   "source": [
    "### Split the data into training and test sets, with the target variable being the outcome column."
   ]
  },
  {
   "cell_type": "code",
   "execution_count": 30,
   "metadata": {
    "id": "awGD68-2oMa5"
   },
   "outputs": [],
   "source": [
    "X = data.drop(columns=['outcome'])\n",
    "y = data['outcome']\n",
    "\n",
    "X_train, X_test, y_train, y_test = train_test_split(X, y, test_size=.2)"
   ]
  },
  {
   "cell_type": "code",
   "execution_count": 31,
   "metadata": {
    "colab": {
     "base_uri": "https://localhost:8080/"
    },
    "id": "U1Bl_h8cIs5d",
    "outputId": "bf51b87a-2714-4ea4-e7ac-65bcdbb0a80c"
   },
   "outputs": [
    {
     "name": "stdout",
     "output_type": "stream",
     "text": [
      "(768, 9)\n",
      "(768, 8)\n",
      "(768,)\n"
     ]
    }
   ],
   "source": [
    "print(data.shape)\n",
    "print(X.shape)\n",
    "print(y.shape)"
   ]
  },
  {
   "cell_type": "markdown",
   "metadata": {
    "id": "l6uDW6gSoMa9"
   },
   "source": [
    "### Train a Random Forest Classifier on the data without doing any transformations and print a classification report.\n",
    "\n",
    "This will provide us with a basis for comparison."
   ]
  },
  {
   "cell_type": "code",
   "execution_count": 32,
   "metadata": {
    "id": "l_TU-W51oMa-"
   },
   "outputs": [],
   "source": [
    "rfc = RandomForestClassifier()\n",
    "rfc.fit(X_train, y_train)\n",
    "preds = rfc.predict(X_test)"
   ]
  },
  {
   "cell_type": "code",
   "execution_count": 33,
   "metadata": {
    "colab": {
     "base_uri": "https://localhost:8080/"
    },
    "id": "9o8P7OeooMbC",
    "outputId": "f6238ce2-b5ce-44d5-f9d0-53fd491e2ba1"
   },
   "outputs": [
    {
     "name": "stdout",
     "output_type": "stream",
     "text": [
      "              precision    recall  f1-score   support\n",
      "\n",
      "           0       0.86      0.74      0.80       111\n",
      "           1       0.51      0.70      0.59        43\n",
      "\n",
      "    accuracy                           0.73       154\n",
      "   macro avg       0.69      0.72      0.69       154\n",
      "weighted avg       0.76      0.73      0.74       154\n",
      "\n"
     ]
    }
   ],
   "source": [
    "print(classification_report(preds, y_test))"
   ]
  },
  {
   "cell_type": "markdown",
   "metadata": {
    "id": "44gMhQKRoMbG"
   },
   "source": [
    "### Reduce the data down to 3 dimensions using PCA. Then do the train-test split, fit the model, and print a classification report.\n",
    "\n",
    "Compare these results to the previous ones."
   ]
  },
  {
   "cell_type": "code",
   "execution_count": 34,
   "metadata": {
    "id": "IbJpUBrgoMbH"
   },
   "outputs": [],
   "source": [
    "pca = PCA(n_components=3)\n",
    "pca_ = pca.fit_transform(X)\n",
    "\n",
    "X1 = pca_\n",
    "y1 = data['outcome']\n",
    "\n",
    "X_train1, X_test1, y_train1, y_test1 = train_test_split(X1, y1, test_size=.2)\n",
    "\n",
    "\n",
    "rfc1 = RandomForestClassifier()\n",
    "rfc1.fit(X_train1, y_train1)\n",
    "preds1 = rfc1.predict(X_test1)"
   ]
  },
  {
   "cell_type": "code",
   "execution_count": 35,
   "metadata": {
    "colab": {
     "base_uri": "https://localhost:8080/"
    },
    "id": "VYX0rRDmGHnN",
    "outputId": "13ccda71-5bd3-40b9-eb8f-a03072b8d9b1"
   },
   "outputs": [
    {
     "name": "stdout",
     "output_type": "stream",
     "text": [
      "              precision    recall  f1-score   support\n",
      "\n",
      "           0       0.87      0.75      0.81       114\n",
      "           1       0.49      0.68      0.57        40\n",
      "\n",
      "    accuracy                           0.73       154\n",
      "   macro avg       0.68      0.71      0.69       154\n",
      "weighted avg       0.77      0.73      0.75       154\n",
      "\n"
     ]
    }
   ],
   "source": [
    "print(classification_report(preds1, y_test1))"
   ]
  },
  {
   "cell_type": "markdown",
   "metadata": {
    "id": "7PSJ9pLRoMbL"
   },
   "source": [
    "### Fit the model and print a classification report again, but this time, perform the train-test split before you transform the data using PCA.\n",
    "\n",
    "Compare these results to the previous ones."
   ]
  },
  {
   "cell_type": "code",
   "execution_count": 36,
   "metadata": {
    "id": "N2kjPbPKoMbM"
   },
   "outputs": [],
   "source": [
    "X2 = data.drop(columns=['outcome'])\n",
    "y2 = data['outcome']\n",
    "\n",
    "X_train2, X_test2, y_train2, y_test2 = train_test_split(X2, y2, test_size=.2)\n",
    "\n",
    "pca1 = PCA(n_components=3)\n",
    "pca_1 = pca1.fit_transform(X_train2)\n",
    "pca_t1 = pca1.transform(X_test2)\n",
    "\n",
    "rfc2 = RandomForestClassifier()\n",
    "rfc2.fit(pca_1, y_train2)\n",
    "preds2 = rfc2.predict(pca_t1)"
   ]
  },
  {
   "cell_type": "code",
   "execution_count": 37,
   "metadata": {
    "colab": {
     "base_uri": "https://localhost:8080/"
    },
    "id": "24aAwzRoI2eL",
    "outputId": "2939a00f-73ec-4e8b-f5b1-2a708a5433b0"
   },
   "outputs": [
    {
     "name": "stdout",
     "output_type": "stream",
     "text": [
      "              precision    recall  f1-score   support\n",
      "\n",
      "           0       0.74      0.71      0.73        98\n",
      "           1       0.53      0.55      0.54        56\n",
      "\n",
      "    accuracy                           0.66       154\n",
      "   macro avg       0.63      0.63      0.63       154\n",
      "weighted avg       0.66      0.66      0.66       154\n",
      "\n"
     ]
    }
   ],
   "source": [
    "print(classification_report(preds2, y_test2))"
   ]
  },
  {
   "cell_type": "markdown",
   "metadata": {
    "id": "z5QOmml0oMbO"
   },
   "source": [
    "### Using the Random Forest Classifier, perform 10-fold cross validation on the training set and print the mean cross validation score."
   ]
  },
  {
   "cell_type": "code",
   "execution_count": 38,
   "metadata": {
    "colab": {
     "base_uri": "https://localhost:8080/"
    },
    "id": "_Ci-V57_oMbP",
    "outputId": "ce7b9b1c-9011-4dca-9d13-5c9b2fd42d0c"
   },
   "outputs": [
    {
     "name": "stdout",
     "output_type": "stream",
     "text": [
      "0.7703595980962454\n"
     ]
    }
   ],
   "source": [
    "cvs = cross_val_score(RandomForestClassifier(), X_train2, y_train2, cv=10)\n",
    "print(cvs.mean())"
   ]
  },
  {
   "cell_type": "code",
   "execution_count": 39,
   "metadata": {
    "colab": {
     "base_uri": "https://localhost:8080/"
    },
    "id": "dxaQ-hDdJxiS",
    "outputId": "1f2e1cc3-4842-4470-8a2d-a906349cd703"
   },
   "outputs": [
    {
     "data": {
      "text/plain": [
       "array([0.79032258, 0.79032258, 0.72580645, 0.77419355, 0.78688525,\n",
       "       0.75409836, 0.75409836, 0.7704918 , 0.80327869, 0.75409836])"
      ]
     },
     "execution_count": 39,
     "metadata": {},
     "output_type": "execute_result"
    }
   ],
   "source": [
    "cvs"
   ]
  },
  {
   "cell_type": "markdown",
   "metadata": {
    "id": "7W_6glHPoMbT"
   },
   "source": [
    "### Create a pipeline with a PCA step and a Random Forest Classifier step. Perform the train-test split again, fit the pipeline, and then generate a classification report.\n",
    "\n",
    "Compare these results to the previous ones."
   ]
  },
  {
   "cell_type": "code",
   "execution_count": 40,
   "metadata": {
    "colab": {
     "base_uri": "https://localhost:8080/"
    },
    "id": "1sy4DFzsoMbU",
    "outputId": "207c428e-b626-4d80-dd17-f78d42408711"
   },
   "outputs": [
    {
     "name": "stdout",
     "output_type": "stream",
     "text": [
      "              precision    recall  f1-score   support\n",
      "\n",
      "           0       0.83      0.78      0.80       116\n",
      "           1       0.43      0.53      0.48        38\n",
      "\n",
      "    accuracy                           0.71       154\n",
      "   macro avg       0.63      0.65      0.64       154\n",
      "weighted avg       0.73      0.71      0.72       154\n",
      "\n"
     ]
    }
   ],
   "source": [
    "pipeline = Pipeline([('pca', PCA(n_components=3)),\n",
    "                     ('rf', RandomForestClassifier())])\n",
    "\n",
    "X3 = data.drop(columns=['outcome'])\n",
    "y3 = data['outcome']\n",
    "X_train3, X_test3, y_train3, y_test3 = train_test_split(X3, y3, test_size=.2)\n",
    "\n",
    "pipeline.fit(X_train3, y_train3)\n",
    "pipe_preds = pipeline.predict(X_test3)\n",
    "\n",
    "print(classification_report(pipe_preds, y_test3))\n"
   ]
  },
  {
   "cell_type": "markdown",
   "metadata": {
    "id": "T0RpnV0xoMbX"
   },
   "source": [
    "### Using the pipeline you built, perform 10-fold cross validation on the training set and print the mean cross validation score.\n",
    "\n",
    "How does this score compare to the previous one?"
   ]
  },
  {
   "cell_type": "code",
   "execution_count": 41,
   "metadata": {
    "colab": {
     "base_uri": "https://localhost:8080/"
    },
    "id": "9IKeBBZXoMbY",
    "outputId": "6bc9027b-3843-426c-8a2f-d3a4d53534f9"
   },
   "outputs": [
    {
     "name": "stdout",
     "output_type": "stream",
     "text": [
      "0.7002379693283978\n"
     ]
    }
   ],
   "source": [
    "cvs1 = cross_val_score(pipeline, X_train3, y_train3, cv=10)\n",
    "print(cvs1.mean())"
   ]
  },
  {
   "cell_type": "markdown",
   "metadata": {},
   "source": [
    "The score decreased which is to be expected. The previous CVS was pulling on a feature set that included all the features. The pipeline CVS is only pulling from the top 3 \"features\". As such some information is lost in the modeling process and the score has taken a hit. "
   ]
  },
  {
   "cell_type": "markdown",
   "metadata": {
    "id": "6DLDuyOqoMba"
   },
   "source": [
    "### Use GridSearchCV to find the optimal set of parameters from the ones below.\n",
    "\n",
    "- PCA Number of Components: 2, 3, 4, 5, 6, 7, 8\n",
    "- Random Forest Number of Estimators: 10, 20, 50, 100, 200"
   ]
  },
  {
   "cell_type": "code",
   "execution_count": 57,
   "metadata": {
    "colab": {
     "base_uri": "https://localhost:8080/"
    },
    "id": "SbsRhIdZoMbb",
    "outputId": "c3d43015-2d96-42c8-9dc2-254f15876af8"
   },
   "outputs": [
    {
     "data": {
      "text/plain": [
       "GridSearchCV(cv=10,\n",
       "             estimator=Pipeline(steps=[('pca', PCA()),\n",
       "                                       ('rf', RandomForestClassifier())]),\n",
       "             param_grid={'pca__n_components': [2, 3, 4, 5, 6, 7, 8],\n",
       "                         'rf__n_estimators': [10, 20, 50, 100, 200]})"
      ]
     },
     "execution_count": 57,
     "metadata": {},
     "output_type": "execute_result"
    }
   ],
   "source": [
    "pipeline1 = Pipeline([('pca', PCA()),\n",
    "                     ('rf', RandomForestClassifier())])\n",
    "\n",
    "X4 = data.drop(columns=['outcome'])\n",
    "y4 = data['outcome']\n",
    "X_train4, X_test4, y_train4, y_test4 = train_test_split(X4, y4, test_size=.2)\n",
    "\n",
    "\n",
    "parameters = {'pca__n_components': [2,3,4,5,6,7,8],\n",
    "              'rf__n_estimators': [10,20,50,100,200]\n",
    "             }\n",
    "\n",
    "search = GridSearchCV(pipeline1, parameters, cv=10)\n",
    "search.fit(X_train4, y_train4)\n"
   ]
  },
  {
   "cell_type": "markdown",
   "metadata": {
    "id": "7cVJ994qoMbd"
   },
   "source": [
    "### Using the best estimator pipeline from above, fit the pipeline to the training set and generate a classification report showing the results.\n",
    "\n",
    "Compare these results to the previous ones."
   ]
  },
  {
   "cell_type": "code",
   "execution_count": 58,
   "metadata": {
    "colab": {
     "base_uri": "https://localhost:8080/"
    },
    "id": "tLd3dwoPRMQ0",
    "outputId": "67a64691-fd41-4f22-ac03-e6dfb876ffc0"
   },
   "outputs": [
    {
     "name": "stdout",
     "output_type": "stream",
     "text": [
      "{'pca__n_components': 8, 'rf__n_estimators': 20}\n"
     ]
    }
   ],
   "source": [
    "print(search.best_params_)"
   ]
  },
  {
   "cell_type": "code",
   "execution_count": 59,
   "metadata": {
    "colab": {
     "base_uri": "https://localhost:8080/"
    },
    "id": "P0N6Mv3KoMbe",
    "outputId": "a6729735-b43f-4632-ffab-7af06c1495b9"
   },
   "outputs": [
    {
     "name": "stdout",
     "output_type": "stream",
     "text": [
      "Pipeline(steps=[('pca', PCA(n_components=8)),\n",
      "                ('rf', RandomForestClassifier(n_estimators=20))])\n",
      "              precision    recall  f1-score   support\n",
      "\n",
      "           0       0.83      0.77      0.80       106\n",
      "           1       0.56      0.65      0.60        48\n",
      "\n",
      "    accuracy                           0.73       154\n",
      "   macro avg       0.70      0.71      0.70       154\n",
      "weighted avg       0.75      0.73      0.74       154\n",
      "\n"
     ]
    }
   ],
   "source": [
    "best_pipe = search.best_estimator_\n",
    "print(best_pipe)\n",
    "gs_pred = best_pipe.predict(X_test4)\n",
    "print(classification_report(gs_pred, y_test4))"
   ]
  },
  {
   "cell_type": "markdown",
   "metadata": {
    "id": "loHniiPLoMbj"
   },
   "source": [
    "### Fit the best estimator pipeline to the entire data set and save your model to disk using pickle."
   ]
  },
  {
   "cell_type": "code",
   "execution_count": 49,
   "metadata": {
    "id": "5Y8ESntxoMbk"
   },
   "outputs": [],
   "source": [
    "best_pipe.fit(X,y)\n",
    "with open('model.pkl', 'wb') as f:\n",
    "  pickle.dump(best_pipe, f)"
   ]
  },
  {
   "cell_type": "markdown",
   "metadata": {
    "id": "9HdA-rQGoMbn"
   },
   "source": [
    "### Load the model you saved to disk, create a copy of the features in the data, and generate a set of predictions for those features. "
   ]
  },
  {
   "cell_type": "code",
   "execution_count": 50,
   "metadata": {
    "id": "UBnP7dKhoMbn"
   },
   "outputs": [
    {
     "name": "stdout",
     "output_type": "stream",
     "text": [
      "              precision    recall  f1-score   support\n",
      "\n",
      "           0       1.00      1.00      1.00       500\n",
      "           1       1.00      1.00      1.00       268\n",
      "\n",
      "    accuracy                           1.00       768\n",
      "   macro avg       1.00      1.00      1.00       768\n",
      "weighted avg       1.00      1.00      1.00       768\n",
      "\n"
     ]
    }
   ],
   "source": [
    "with open('model.pkl','rb') as f:\n",
    "  loaded_pipe = pickle.load(f)\n",
    "\n",
    "preds_0 = loaded_pipe.predict(X)\n",
    "print(classification_report(preds_0, y))"
   ]
  },
  {
   "cell_type": "code",
   "execution_count": 56,
   "metadata": {},
   "outputs": [
    {
     "data": {
      "text/plain": [
       "<bound method Pipeline.get_params of Pipeline(steps=[('pca', PCA(n_components=6)),\n",
       "                ('rf',\n",
       "                 RandomForestClassifier(n_estimators=200, random_state=2))])>"
      ]
     },
     "execution_count": 56,
     "metadata": {},
     "output_type": "execute_result"
    }
   ],
   "source": [
    "loaded_pipe.get_params"
   ]
  },
  {
   "cell_type": "code",
   "execution_count": null,
   "metadata": {
    "collapsed": true
   },
   "outputs": [],
   "source": []
  }
 ],
 "metadata": {
  "colab": {
   "name": "Gee_D52_L2_Pipeline.ipynb",
   "provenance": []
  },
  "kernelspec": {
   "display_name": "Python 3",
   "language": "python",
   "name": "python3"
  },
  "language_info": {
   "codemirror_mode": {
    "name": "ipython",
    "version": 3
   },
   "file_extension": ".py",
   "mimetype": "text/x-python",
   "name": "python",
   "nbconvert_exporter": "python",
   "pygments_lexer": "ipython3",
   "version": "3.8.5"
  }
 },
 "nbformat": 4,
 "nbformat_minor": 1
}
