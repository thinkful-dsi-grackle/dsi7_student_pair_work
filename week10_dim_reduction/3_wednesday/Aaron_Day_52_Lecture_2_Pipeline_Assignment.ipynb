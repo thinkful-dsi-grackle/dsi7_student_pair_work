{
 "cells": [
  {
   "cell_type": "markdown",
   "metadata": {
    "id": "RzcLuZowoMar"
   },
   "source": [
    "# Machine Learning Best Practices Assignment"
   ]
  },
  {
   "cell_type": "code",
   "execution_count": 5,
   "metadata": {},
   "outputs": [
    {
     "data": {
      "application/javascript": [
       "\n",
       "            setTimeout(function() {\n",
       "                var nbb_cell_id = 5;\n",
       "                var nbb_unformatted_code = \"%load_ext nb_black\";\n",
       "                var nbb_formatted_code = \"%load_ext nb_black\";\n",
       "                var nbb_cells = Jupyter.notebook.get_cells();\n",
       "                for (var i = 0; i < nbb_cells.length; ++i) {\n",
       "                    if (nbb_cells[i].input_prompt_number == nbb_cell_id) {\n",
       "                        if (nbb_cells[i].get_text() == nbb_unformatted_code) {\n",
       "                             nbb_cells[i].set_text(nbb_formatted_code);\n",
       "                        }\n",
       "                        break;\n",
       "                    }\n",
       "                }\n",
       "            }, 500);\n",
       "            "
      ],
      "text/plain": [
       "<IPython.core.display.Javascript object>"
      ]
     },
     "metadata": {},
     "output_type": "display_data"
    }
   ],
   "source": [
    "%load_ext nb_black"
   ]
  },
  {
   "cell_type": "code",
   "execution_count": 6,
   "metadata": {
    "id": "lpBBfm3toMat"
   },
   "outputs": [
    {
     "data": {
      "application/javascript": [
       "\n",
       "            setTimeout(function() {\n",
       "                var nbb_cell_id = 6;\n",
       "                var nbb_unformatted_code = \"import pickle\\nimport pandas as pd\\nfrom sklearn.pipeline import Pipeline\\nfrom sklearn.decomposition import PCA\\nfrom sklearn.model_selection import GridSearchCV\\nfrom sklearn.metrics import classification_report\\nfrom sklearn.ensemble import RandomForestClassifier\\nfrom sklearn.model_selection import cross_val_score\\nfrom sklearn.model_selection import train_test_split\";\n",
       "                var nbb_formatted_code = \"import pickle\\nimport pandas as pd\\nfrom sklearn.pipeline import Pipeline\\nfrom sklearn.decomposition import PCA\\nfrom sklearn.model_selection import GridSearchCV\\nfrom sklearn.metrics import classification_report\\nfrom sklearn.ensemble import RandomForestClassifier\\nfrom sklearn.model_selection import cross_val_score\\nfrom sklearn.model_selection import train_test_split\";\n",
       "                var nbb_cells = Jupyter.notebook.get_cells();\n",
       "                for (var i = 0; i < nbb_cells.length; ++i) {\n",
       "                    if (nbb_cells[i].input_prompt_number == nbb_cell_id) {\n",
       "                        if (nbb_cells[i].get_text() == nbb_unformatted_code) {\n",
       "                             nbb_cells[i].set_text(nbb_formatted_code);\n",
       "                        }\n",
       "                        break;\n",
       "                    }\n",
       "                }\n",
       "            }, 500);\n",
       "            "
      ],
      "text/plain": [
       "<IPython.core.display.Javascript object>"
      ]
     },
     "metadata": {},
     "output_type": "display_data"
    }
   ],
   "source": [
    "import pickle\n",
    "import pandas as pd\n",
    "from sklearn.pipeline import Pipeline\n",
    "from sklearn.decomposition import PCA\n",
    "from sklearn.model_selection import GridSearchCV\n",
    "from sklearn.metrics import classification_report\n",
    "from sklearn.ensemble import RandomForestClassifier\n",
    "from sklearn.model_selection import cross_val_score\n",
    "from sklearn.model_selection import train_test_split"
   ]
  },
  {
   "cell_type": "markdown",
   "metadata": {
    "id": "TfqS_cMWoMa1"
   },
   "source": [
    "### Import the [Pima Indians Diabetes data set](https://tf-assets-prod.s3.amazonaws.com/tf-curric/data-science/pima_indians_diabetes.csv)."
   ]
  },
  {
   "cell_type": "code",
   "execution_count": 7,
   "metadata": {
    "id": "qO-4LVM7oMa1"
   },
   "outputs": [
    {
     "data": {
      "application/javascript": [
       "\n",
       "            setTimeout(function() {\n",
       "                var nbb_cell_id = 7;\n",
       "                var nbb_unformatted_code = \"data = pd.read_csv('https://tf-assets-prod.s3.amazonaws.com/tf-curric/data-science/pima_indians_diabetes.csv')\";\n",
       "                var nbb_formatted_code = \"data = pd.read_csv(\\n    \\\"https://tf-assets-prod.s3.amazonaws.com/tf-curric/data-science/pima_indians_diabetes.csv\\\"\\n)\";\n",
       "                var nbb_cells = Jupyter.notebook.get_cells();\n",
       "                for (var i = 0; i < nbb_cells.length; ++i) {\n",
       "                    if (nbb_cells[i].input_prompt_number == nbb_cell_id) {\n",
       "                        if (nbb_cells[i].get_text() == nbb_unformatted_code) {\n",
       "                             nbb_cells[i].set_text(nbb_formatted_code);\n",
       "                        }\n",
       "                        break;\n",
       "                    }\n",
       "                }\n",
       "            }, 500);\n",
       "            "
      ],
      "text/plain": [
       "<IPython.core.display.Javascript object>"
      ]
     },
     "metadata": {},
     "output_type": "display_data"
    }
   ],
   "source": [
    "data = pd.read_csv(\n",
    "    \"https://tf-assets-prod.s3.amazonaws.com/tf-curric/data-science/pima_indians_diabetes.csv\"\n",
    ")"
   ]
  },
  {
   "cell_type": "markdown",
   "metadata": {
    "id": "YtNhl2RCoMa5"
   },
   "source": [
    "### Split the data into training and test sets, with the target variable being the outcome column."
   ]
  },
  {
   "cell_type": "code",
   "execution_count": 8,
   "metadata": {
    "id": "awGD68-2oMa5"
   },
   "outputs": [
    {
     "data": {
      "text/html": [
       "<div>\n",
       "<style scoped>\n",
       "    .dataframe tbody tr th:only-of-type {\n",
       "        vertical-align: middle;\n",
       "    }\n",
       "\n",
       "    .dataframe tbody tr th {\n",
       "        vertical-align: top;\n",
       "    }\n",
       "\n",
       "    .dataframe thead th {\n",
       "        text-align: right;\n",
       "    }\n",
       "</style>\n",
       "<table border=\"1\" class=\"dataframe\">\n",
       "  <thead>\n",
       "    <tr style=\"text-align: right;\">\n",
       "      <th></th>\n",
       "      <th>pregnancies</th>\n",
       "      <th>glucose</th>\n",
       "      <th>blood_pressure</th>\n",
       "      <th>skin_thickness</th>\n",
       "      <th>insulin</th>\n",
       "      <th>bmi</th>\n",
       "      <th>diabetes_pedigree</th>\n",
       "      <th>age</th>\n",
       "      <th>outcome</th>\n",
       "    </tr>\n",
       "  </thead>\n",
       "  <tbody>\n",
       "    <tr>\n",
       "      <th>0</th>\n",
       "      <td>6</td>\n",
       "      <td>148</td>\n",
       "      <td>72</td>\n",
       "      <td>35</td>\n",
       "      <td>0</td>\n",
       "      <td>33.6</td>\n",
       "      <td>0.627</td>\n",
       "      <td>50</td>\n",
       "      <td>1</td>\n",
       "    </tr>\n",
       "    <tr>\n",
       "      <th>1</th>\n",
       "      <td>1</td>\n",
       "      <td>85</td>\n",
       "      <td>66</td>\n",
       "      <td>29</td>\n",
       "      <td>0</td>\n",
       "      <td>26.6</td>\n",
       "      <td>0.351</td>\n",
       "      <td>31</td>\n",
       "      <td>0</td>\n",
       "    </tr>\n",
       "    <tr>\n",
       "      <th>2</th>\n",
       "      <td>8</td>\n",
       "      <td>183</td>\n",
       "      <td>64</td>\n",
       "      <td>0</td>\n",
       "      <td>0</td>\n",
       "      <td>23.3</td>\n",
       "      <td>0.672</td>\n",
       "      <td>32</td>\n",
       "      <td>1</td>\n",
       "    </tr>\n",
       "    <tr>\n",
       "      <th>3</th>\n",
       "      <td>1</td>\n",
       "      <td>89</td>\n",
       "      <td>66</td>\n",
       "      <td>23</td>\n",
       "      <td>94</td>\n",
       "      <td>28.1</td>\n",
       "      <td>0.167</td>\n",
       "      <td>21</td>\n",
       "      <td>0</td>\n",
       "    </tr>\n",
       "    <tr>\n",
       "      <th>4</th>\n",
       "      <td>0</td>\n",
       "      <td>137</td>\n",
       "      <td>40</td>\n",
       "      <td>35</td>\n",
       "      <td>168</td>\n",
       "      <td>43.1</td>\n",
       "      <td>2.288</td>\n",
       "      <td>33</td>\n",
       "      <td>1</td>\n",
       "    </tr>\n",
       "    <tr>\n",
       "      <th>...</th>\n",
       "      <td>...</td>\n",
       "      <td>...</td>\n",
       "      <td>...</td>\n",
       "      <td>...</td>\n",
       "      <td>...</td>\n",
       "      <td>...</td>\n",
       "      <td>...</td>\n",
       "      <td>...</td>\n",
       "      <td>...</td>\n",
       "    </tr>\n",
       "    <tr>\n",
       "      <th>763</th>\n",
       "      <td>10</td>\n",
       "      <td>101</td>\n",
       "      <td>76</td>\n",
       "      <td>48</td>\n",
       "      <td>180</td>\n",
       "      <td>32.9</td>\n",
       "      <td>0.171</td>\n",
       "      <td>63</td>\n",
       "      <td>0</td>\n",
       "    </tr>\n",
       "    <tr>\n",
       "      <th>764</th>\n",
       "      <td>2</td>\n",
       "      <td>122</td>\n",
       "      <td>70</td>\n",
       "      <td>27</td>\n",
       "      <td>0</td>\n",
       "      <td>36.8</td>\n",
       "      <td>0.340</td>\n",
       "      <td>27</td>\n",
       "      <td>0</td>\n",
       "    </tr>\n",
       "    <tr>\n",
       "      <th>765</th>\n",
       "      <td>5</td>\n",
       "      <td>121</td>\n",
       "      <td>72</td>\n",
       "      <td>23</td>\n",
       "      <td>112</td>\n",
       "      <td>26.2</td>\n",
       "      <td>0.245</td>\n",
       "      <td>30</td>\n",
       "      <td>0</td>\n",
       "    </tr>\n",
       "    <tr>\n",
       "      <th>766</th>\n",
       "      <td>1</td>\n",
       "      <td>126</td>\n",
       "      <td>60</td>\n",
       "      <td>0</td>\n",
       "      <td>0</td>\n",
       "      <td>30.1</td>\n",
       "      <td>0.349</td>\n",
       "      <td>47</td>\n",
       "      <td>1</td>\n",
       "    </tr>\n",
       "    <tr>\n",
       "      <th>767</th>\n",
       "      <td>1</td>\n",
       "      <td>93</td>\n",
       "      <td>70</td>\n",
       "      <td>31</td>\n",
       "      <td>0</td>\n",
       "      <td>30.4</td>\n",
       "      <td>0.315</td>\n",
       "      <td>23</td>\n",
       "      <td>0</td>\n",
       "    </tr>\n",
       "  </tbody>\n",
       "</table>\n",
       "<p>768 rows × 9 columns</p>\n",
       "</div>"
      ],
      "text/plain": [
       "     pregnancies  glucose  blood_pressure  skin_thickness  insulin   bmi  \\\n",
       "0              6      148              72              35        0  33.6   \n",
       "1              1       85              66              29        0  26.6   \n",
       "2              8      183              64               0        0  23.3   \n",
       "3              1       89              66              23       94  28.1   \n",
       "4              0      137              40              35      168  43.1   \n",
       "..           ...      ...             ...             ...      ...   ...   \n",
       "763           10      101              76              48      180  32.9   \n",
       "764            2      122              70              27        0  36.8   \n",
       "765            5      121              72              23      112  26.2   \n",
       "766            1      126              60               0        0  30.1   \n",
       "767            1       93              70              31        0  30.4   \n",
       "\n",
       "     diabetes_pedigree  age  outcome  \n",
       "0                0.627   50        1  \n",
       "1                0.351   31        0  \n",
       "2                0.672   32        1  \n",
       "3                0.167   21        0  \n",
       "4                2.288   33        1  \n",
       "..                 ...  ...      ...  \n",
       "763              0.171   63        0  \n",
       "764              0.340   27        0  \n",
       "765              0.245   30        0  \n",
       "766              0.349   47        1  \n",
       "767              0.315   23        0  \n",
       "\n",
       "[768 rows x 9 columns]"
      ]
     },
     "execution_count": 8,
     "metadata": {},
     "output_type": "execute_result"
    },
    {
     "data": {
      "application/javascript": [
       "\n",
       "            setTimeout(function() {\n",
       "                var nbb_cell_id = 8;\n",
       "                var nbb_unformatted_code = \"data\";\n",
       "                var nbb_formatted_code = \"data\";\n",
       "                var nbb_cells = Jupyter.notebook.get_cells();\n",
       "                for (var i = 0; i < nbb_cells.length; ++i) {\n",
       "                    if (nbb_cells[i].input_prompt_number == nbb_cell_id) {\n",
       "                        if (nbb_cells[i].get_text() == nbb_unformatted_code) {\n",
       "                             nbb_cells[i].set_text(nbb_formatted_code);\n",
       "                        }\n",
       "                        break;\n",
       "                    }\n",
       "                }\n",
       "            }, 500);\n",
       "            "
      ],
      "text/plain": [
       "<IPython.core.display.Javascript object>"
      ]
     },
     "metadata": {},
     "output_type": "display_data"
    }
   ],
   "source": [
    "data"
   ]
  },
  {
   "cell_type": "code",
   "execution_count": 9,
   "metadata": {},
   "outputs": [
    {
     "data": {
      "application/javascript": [
       "\n",
       "            setTimeout(function() {\n",
       "                var nbb_cell_id = 9;\n",
       "                var nbb_unformatted_code = \"X = data.drop('outcome', axis=1)\\ny = data.outcome\\nX_train, X_test, y_train, y_test = train_test_split(X, y, test_size = 0.25)\";\n",
       "                var nbb_formatted_code = \"X = data.drop(\\\"outcome\\\", axis=1)\\ny = data.outcome\\nX_train, X_test, y_train, y_test = train_test_split(X, y, test_size=0.25)\";\n",
       "                var nbb_cells = Jupyter.notebook.get_cells();\n",
       "                for (var i = 0; i < nbb_cells.length; ++i) {\n",
       "                    if (nbb_cells[i].input_prompt_number == nbb_cell_id) {\n",
       "                        if (nbb_cells[i].get_text() == nbb_unformatted_code) {\n",
       "                             nbb_cells[i].set_text(nbb_formatted_code);\n",
       "                        }\n",
       "                        break;\n",
       "                    }\n",
       "                }\n",
       "            }, 500);\n",
       "            "
      ],
      "text/plain": [
       "<IPython.core.display.Javascript object>"
      ]
     },
     "metadata": {},
     "output_type": "display_data"
    }
   ],
   "source": [
    "X = data.drop(\"outcome\", axis=1)\n",
    "y = data.outcome\n",
    "X_train, X_test, y_train, y_test = train_test_split(X, y, test_size=0.25)"
   ]
  },
  {
   "cell_type": "markdown",
   "metadata": {
    "id": "l6uDW6gSoMa9"
   },
   "source": [
    "### Train a Random Forest Classifier on the data without doing any transformations and print a classification report.\n",
    "\n",
    "This will provide us with a basis for comparison."
   ]
  },
  {
   "cell_type": "code",
   "execution_count": 10,
   "metadata": {
    "id": "l_TU-W51oMa-"
   },
   "outputs": [
    {
     "data": {
      "application/javascript": [
       "\n",
       "            setTimeout(function() {\n",
       "                var nbb_cell_id = 10;\n",
       "                var nbb_unformatted_code = \"model = RandomForestClassifier(random_state=1)\";\n",
       "                var nbb_formatted_code = \"model = RandomForestClassifier(random_state=1)\";\n",
       "                var nbb_cells = Jupyter.notebook.get_cells();\n",
       "                for (var i = 0; i < nbb_cells.length; ++i) {\n",
       "                    if (nbb_cells[i].input_prompt_number == nbb_cell_id) {\n",
       "                        if (nbb_cells[i].get_text() == nbb_unformatted_code) {\n",
       "                             nbb_cells[i].set_text(nbb_formatted_code);\n",
       "                        }\n",
       "                        break;\n",
       "                    }\n",
       "                }\n",
       "            }, 500);\n",
       "            "
      ],
      "text/plain": [
       "<IPython.core.display.Javascript object>"
      ]
     },
     "metadata": {},
     "output_type": "display_data"
    }
   ],
   "source": [
    "model = RandomForestClassifier(random_state=1)"
   ]
  },
  {
   "cell_type": "code",
   "execution_count": 11,
   "metadata": {
    "id": "9o8P7OeooMbC"
   },
   "outputs": [
    {
     "name": "stdout",
     "output_type": "stream",
     "text": [
      "Train Report\n",
      "\n",
      "              precision    recall  f1-score   support\n",
      "\n",
      "           0       1.00      1.00      1.00       380\n",
      "           1       1.00      1.00      1.00       196\n",
      "\n",
      "    accuracy                           1.00       576\n",
      "   macro avg       1.00      1.00      1.00       576\n",
      "weighted avg       1.00      1.00      1.00       576\n",
      "\n",
      "Test Report\n",
      "\n",
      "              precision    recall  f1-score   support\n",
      "\n",
      "           0       0.79      0.88      0.83       120\n",
      "           1       0.75      0.60      0.67        72\n",
      "\n",
      "    accuracy                           0.78       192\n",
      "   macro avg       0.77      0.74      0.75       192\n",
      "weighted avg       0.77      0.78      0.77       192\n",
      "\n"
     ]
    },
    {
     "data": {
      "application/javascript": [
       "\n",
       "            setTimeout(function() {\n",
       "                var nbb_cell_id = 11;\n",
       "                var nbb_unformatted_code = \"model.fit(X_train, y_train)\\ny_pred_train = model.predict(X_train)\\ny_pred_test = model.predict(X_test)\\nprint('Train Report\\\\n')\\nprint(classification_report(y_train, y_pred_train))\\n\\nprint('Test Report\\\\n')\\nprint(classification_report(y_test, y_pred_test))\";\n",
       "                var nbb_formatted_code = \"model.fit(X_train, y_train)\\ny_pred_train = model.predict(X_train)\\ny_pred_test = model.predict(X_test)\\nprint(\\\"Train Report\\\\n\\\")\\nprint(classification_report(y_train, y_pred_train))\\n\\nprint(\\\"Test Report\\\\n\\\")\\nprint(classification_report(y_test, y_pred_test))\";\n",
       "                var nbb_cells = Jupyter.notebook.get_cells();\n",
       "                for (var i = 0; i < nbb_cells.length; ++i) {\n",
       "                    if (nbb_cells[i].input_prompt_number == nbb_cell_id) {\n",
       "                        if (nbb_cells[i].get_text() == nbb_unformatted_code) {\n",
       "                             nbb_cells[i].set_text(nbb_formatted_code);\n",
       "                        }\n",
       "                        break;\n",
       "                    }\n",
       "                }\n",
       "            }, 500);\n",
       "            "
      ],
      "text/plain": [
       "<IPython.core.display.Javascript object>"
      ]
     },
     "metadata": {},
     "output_type": "display_data"
    }
   ],
   "source": [
    "model.fit(X_train, y_train)\n",
    "y_pred_train = model.predict(X_train)\n",
    "y_pred_test = model.predict(X_test)\n",
    "print(\"Train Report\\n\")\n",
    "print(classification_report(y_train, y_pred_train))\n",
    "\n",
    "print(\"Test Report\\n\")\n",
    "print(classification_report(y_test, y_pred_test))"
   ]
  },
  {
   "cell_type": "markdown",
   "metadata": {
    "id": "44gMhQKRoMbG"
   },
   "source": [
    "### Reduce the data down to 3 dimensions using PCA. Then do the train-test split, fit the model, and print a classification report.\n",
    "\n",
    "Compare these results to the previous ones."
   ]
  },
  {
   "cell_type": "code",
   "execution_count": 13,
   "metadata": {
    "id": "IbJpUBrgoMbH"
   },
   "outputs": [
    {
     "name": "stdout",
     "output_type": "stream",
     "text": [
      "Train Report\n",
      "\n",
      "              precision    recall  f1-score   support\n",
      "\n",
      "           0       1.00      1.00      1.00       375\n",
      "           1       1.00      1.00      1.00       201\n",
      "\n",
      "    accuracy                           1.00       576\n",
      "   macro avg       1.00      1.00      1.00       576\n",
      "weighted avg       1.00      1.00      1.00       576\n",
      "\n",
      "Test Report\n",
      "\n",
      "              precision    recall  f1-score   support\n",
      "\n",
      "           0       0.76      0.88      0.81       125\n",
      "           1       0.68      0.48      0.56        67\n",
      "\n",
      "    accuracy                           0.74       192\n",
      "   macro avg       0.72      0.68      0.69       192\n",
      "weighted avg       0.73      0.74      0.73       192\n",
      "\n"
     ]
    },
    {
     "data": {
      "application/javascript": [
       "\n",
       "            setTimeout(function() {\n",
       "                var nbb_cell_id = 13;\n",
       "                var nbb_unformatted_code = \"pca = PCA(n_components=3)\\nX_pca = pca.fit_transform(X)\\nX_train, X_test, y_train, y_test = train_test_split(X_pca, y, test_size=0.25)\\nmodel.fit(X_train, y_train)\\ny_pred_train = model.predict(X_train)\\ny_pred_test = model.predict(X_test)\\nprint(\\\"Train Report\\\\n\\\")\\nprint(classification_report(y_train, y_pred_train))\\n\\nprint(\\\"Test Report\\\\n\\\")\\nprint(classification_report(y_test, y_pred_test))\";\n",
       "                var nbb_formatted_code = \"pca = PCA(n_components=3)\\nX_pca = pca.fit_transform(X)\\nX_train, X_test, y_train, y_test = train_test_split(X_pca, y, test_size=0.25)\\nmodel.fit(X_train, y_train)\\ny_pred_train = model.predict(X_train)\\ny_pred_test = model.predict(X_test)\\nprint(\\\"Train Report\\\\n\\\")\\nprint(classification_report(y_train, y_pred_train))\\n\\nprint(\\\"Test Report\\\\n\\\")\\nprint(classification_report(y_test, y_pred_test))\";\n",
       "                var nbb_cells = Jupyter.notebook.get_cells();\n",
       "                for (var i = 0; i < nbb_cells.length; ++i) {\n",
       "                    if (nbb_cells[i].input_prompt_number == nbb_cell_id) {\n",
       "                        if (nbb_cells[i].get_text() == nbb_unformatted_code) {\n",
       "                             nbb_cells[i].set_text(nbb_formatted_code);\n",
       "                        }\n",
       "                        break;\n",
       "                    }\n",
       "                }\n",
       "            }, 500);\n",
       "            "
      ],
      "text/plain": [
       "<IPython.core.display.Javascript object>"
      ]
     },
     "metadata": {},
     "output_type": "display_data"
    }
   ],
   "source": [
    "pca = PCA(n_components=3)\n",
    "X_pca = pca.fit_transform(X)\n",
    "X_train, X_test, y_train, y_test = train_test_split(X_pca, y, test_size=0.25)\n",
    "model.fit(X_train, y_train)\n",
    "y_pred_train = model.predict(X_train)\n",
    "y_pred_test = model.predict(X_test)\n",
    "print(\"Train Report\\n\")\n",
    "print(classification_report(y_train, y_pred_train))\n",
    "\n",
    "print(\"Test Report\\n\")\n",
    "print(classification_report(y_test, y_pred_test))"
   ]
  },
  {
   "cell_type": "code",
   "execution_count": 14,
   "metadata": {},
   "outputs": [
    {
     "data": {
      "application/javascript": [
       "\n",
       "            setTimeout(function() {\n",
       "                var nbb_cell_id = 14;\n",
       "                var nbb_unformatted_code = \"# Test accuracy went down from 0.78 to 0.74 after applying PCA\";\n",
       "                var nbb_formatted_code = \"# Test accuracy went down from 0.78 to 0.74 after applying PCA\";\n",
       "                var nbb_cells = Jupyter.notebook.get_cells();\n",
       "                for (var i = 0; i < nbb_cells.length; ++i) {\n",
       "                    if (nbb_cells[i].input_prompt_number == nbb_cell_id) {\n",
       "                        if (nbb_cells[i].get_text() == nbb_unformatted_code) {\n",
       "                             nbb_cells[i].set_text(nbb_formatted_code);\n",
       "                        }\n",
       "                        break;\n",
       "                    }\n",
       "                }\n",
       "            }, 500);\n",
       "            "
      ],
      "text/plain": [
       "<IPython.core.display.Javascript object>"
      ]
     },
     "metadata": {},
     "output_type": "display_data"
    }
   ],
   "source": [
    "# Test accuracy went down from 0.78 to 0.74 after applying PCA"
   ]
  },
  {
   "cell_type": "markdown",
   "metadata": {
    "id": "7PSJ9pLRoMbL"
   },
   "source": [
    "### Fit the model and print a classification report again, but this time, perform the train-test split before you transform the data using PCA.\n",
    "\n",
    "Compare these results to the previous ones."
   ]
  },
  {
   "cell_type": "code",
   "execution_count": 15,
   "metadata": {
    "id": "N2kjPbPKoMbM"
   },
   "outputs": [
    {
     "name": "stdout",
     "output_type": "stream",
     "text": [
      "Train Report\n",
      "\n",
      "              precision    recall  f1-score   support\n",
      "\n",
      "           0       1.00      1.00      1.00       380\n",
      "           1       1.00      1.00      1.00       196\n",
      "\n",
      "    accuracy                           1.00       576\n",
      "   macro avg       1.00      1.00      1.00       576\n",
      "weighted avg       1.00      1.00      1.00       576\n",
      "\n",
      "Test Report\n",
      "\n",
      "              precision    recall  f1-score   support\n",
      "\n",
      "           0       0.74      0.83      0.78       120\n",
      "           1       0.64      0.50      0.56        72\n",
      "\n",
      "    accuracy                           0.71       192\n",
      "   macro avg       0.69      0.67      0.67       192\n",
      "weighted avg       0.70      0.71      0.70       192\n",
      "\n"
     ]
    },
    {
     "data": {
      "application/javascript": [
       "\n",
       "            setTimeout(function() {\n",
       "                var nbb_cell_id = 15;\n",
       "                var nbb_unformatted_code = \"X_train, X_test, y_train, y_test = train_test_split(X, y, test_size=0.25)\\n\\npca = PCA(n_components=3)\\nX_pca_train = pca.fit_transform(X_train)\\nX_pca_test = pca.transform(X_test)\\n\\nmodel.fit(X_pca_train, y_train)\\n\\ny_pred_train = model.predict(X_pca_train)\\ny_pred_test = model.predict(X_pca_test)\\nprint(\\\"Train Report\\\\n\\\")\\nprint(classification_report(y_train, y_pred_train))\\n\\nprint(\\\"Test Report\\\\n\\\")\\nprint(classification_report(y_test, y_pred_test))\";\n",
       "                var nbb_formatted_code = \"X_train, X_test, y_train, y_test = train_test_split(X, y, test_size=0.25)\\n\\npca = PCA(n_components=3)\\nX_pca_train = pca.fit_transform(X_train)\\nX_pca_test = pca.transform(X_test)\\n\\nmodel.fit(X_pca_train, y_train)\\n\\ny_pred_train = model.predict(X_pca_train)\\ny_pred_test = model.predict(X_pca_test)\\nprint(\\\"Train Report\\\\n\\\")\\nprint(classification_report(y_train, y_pred_train))\\n\\nprint(\\\"Test Report\\\\n\\\")\\nprint(classification_report(y_test, y_pred_test))\";\n",
       "                var nbb_cells = Jupyter.notebook.get_cells();\n",
       "                for (var i = 0; i < nbb_cells.length; ++i) {\n",
       "                    if (nbb_cells[i].input_prompt_number == nbb_cell_id) {\n",
       "                        if (nbb_cells[i].get_text() == nbb_unformatted_code) {\n",
       "                             nbb_cells[i].set_text(nbb_formatted_code);\n",
       "                        }\n",
       "                        break;\n",
       "                    }\n",
       "                }\n",
       "            }, 500);\n",
       "            "
      ],
      "text/plain": [
       "<IPython.core.display.Javascript object>"
      ]
     },
     "metadata": {},
     "output_type": "display_data"
    }
   ],
   "source": [
    "X_train, X_test, y_train, y_test = train_test_split(X, y, test_size=0.25)\n",
    "\n",
    "pca = PCA(n_components=3)\n",
    "X_pca_train = pca.fit_transform(X_train)\n",
    "X_pca_test = pca.transform(X_test)\n",
    "\n",
    "model.fit(X_pca_train, y_train)\n",
    "\n",
    "y_pred_train = model.predict(X_pca_train)\n",
    "y_pred_test = model.predict(X_pca_test)\n",
    "print(\"Train Report\\n\")\n",
    "print(classification_report(y_train, y_pred_train))\n",
    "\n",
    "print(\"Test Report\\n\")\n",
    "print(classification_report(y_test, y_pred_test))"
   ]
  },
  {
   "cell_type": "code",
   "execution_count": 16,
   "metadata": {},
   "outputs": [
    {
     "data": {
      "application/javascript": [
       "\n",
       "            setTimeout(function() {\n",
       "                var nbb_cell_id = 16;\n",
       "                var nbb_unformatted_code = \"# Test accuracy went down again from 0.74 to 0.71\";\n",
       "                var nbb_formatted_code = \"# Test accuracy went down again from 0.74 to 0.71\";\n",
       "                var nbb_cells = Jupyter.notebook.get_cells();\n",
       "                for (var i = 0; i < nbb_cells.length; ++i) {\n",
       "                    if (nbb_cells[i].input_prompt_number == nbb_cell_id) {\n",
       "                        if (nbb_cells[i].get_text() == nbb_unformatted_code) {\n",
       "                             nbb_cells[i].set_text(nbb_formatted_code);\n",
       "                        }\n",
       "                        break;\n",
       "                    }\n",
       "                }\n",
       "            }, 500);\n",
       "            "
      ],
      "text/plain": [
       "<IPython.core.display.Javascript object>"
      ]
     },
     "metadata": {},
     "output_type": "display_data"
    }
   ],
   "source": [
    "# Test accuracy went down again from 0.74 to 0.71"
   ]
  },
  {
   "cell_type": "markdown",
   "metadata": {
    "id": "z5QOmml0oMbO"
   },
   "source": [
    "### Using the Random Forest Classifier, perform 10-fold cross validation on the training set and print the mean cross validation score."
   ]
  },
  {
   "cell_type": "code",
   "execution_count": 17,
   "metadata": {
    "id": "_Ci-V57_oMbP"
   },
   "outputs": [
    {
     "data": {
      "text/plain": [
       "0.7240471869328494"
      ]
     },
     "execution_count": 17,
     "metadata": {},
     "output_type": "execute_result"
    },
    {
     "data": {
      "application/javascript": [
       "\n",
       "            setTimeout(function() {\n",
       "                var nbb_cell_id = 17;\n",
       "                var nbb_unformatted_code = \"scores = cross_val_score(model, X_pca_train, y_train, cv=10)\\nscores.mean()\";\n",
       "                var nbb_formatted_code = \"scores = cross_val_score(model, X_pca_train, y_train, cv=10)\\nscores.mean()\";\n",
       "                var nbb_cells = Jupyter.notebook.get_cells();\n",
       "                for (var i = 0; i < nbb_cells.length; ++i) {\n",
       "                    if (nbb_cells[i].input_prompt_number == nbb_cell_id) {\n",
       "                        if (nbb_cells[i].get_text() == nbb_unformatted_code) {\n",
       "                             nbb_cells[i].set_text(nbb_formatted_code);\n",
       "                        }\n",
       "                        break;\n",
       "                    }\n",
       "                }\n",
       "            }, 500);\n",
       "            "
      ],
      "text/plain": [
       "<IPython.core.display.Javascript object>"
      ]
     },
     "metadata": {},
     "output_type": "display_data"
    }
   ],
   "source": [
    "scores = cross_val_score(model, X_pca_train, y_train, cv=10)\n",
    "scores.mean()"
   ]
  },
  {
   "cell_type": "markdown",
   "metadata": {
    "id": "7W_6glHPoMbT"
   },
   "source": [
    "### Create a pipeline with a PCA step and a Random Forest Classifier step. Perform the train-test split again, fit the pipeline, and then generate a classification report.\n",
    "\n",
    "Compare these results to the previous ones."
   ]
  },
  {
   "cell_type": "code",
   "execution_count": 24,
   "metadata": {
    "id": "1sy4DFzsoMbU"
   },
   "outputs": [
    {
     "name": "stdout",
     "output_type": "stream",
     "text": [
      "Pipeline(steps=[('pca', PCA(n_components=3)),\n",
      "                ('rf', RandomForestClassifier(random_state=1))])\n",
      "Train Report\n",
      "\n",
      "              precision    recall  f1-score   support\n",
      "\n",
      "           0       1.00      1.00      1.00       378\n",
      "           1       1.00      1.00      1.00       198\n",
      "\n",
      "    accuracy                           1.00       576\n",
      "   macro avg       1.00      1.00      1.00       576\n",
      "weighted avg       1.00      1.00      1.00       576\n",
      "\n",
      "Test Report\n",
      "\n",
      "              precision    recall  f1-score   support\n",
      "\n",
      "           0       0.74      0.84      0.78       122\n",
      "           1       0.63      0.49      0.55        70\n",
      "\n",
      "    accuracy                           0.71       192\n",
      "   macro avg       0.68      0.66      0.67       192\n",
      "weighted avg       0.70      0.71      0.70       192\n",
      "\n"
     ]
    },
    {
     "data": {
      "application/javascript": [
       "\n",
       "            setTimeout(function() {\n",
       "                var nbb_cell_id = 24;\n",
       "                var nbb_unformatted_code = \"steps = [(\\\"pca\\\", PCA(n_components=3)), (\\\"rf\\\", model)]\\n\\npipeline = Pipeline(steps)\\nprint(pipeline)\\n\\nX_train, X_test, y_train, y_test = train_test_split(X, y, test_size=0.25)\\n\\npipeline.fit(X_train, y_train)\\n\\ny_pred_train = pipeline.predict(X_train)\\ny_pred_test = pipeline.predict(X_test)\\nprint(\\\"Train Report\\\\n\\\")\\nprint(classification_report(y_train, y_pred_train))\\n\\nprint(\\\"Test Report\\\\n\\\")\\nprint(classification_report(y_test, y_pred_test))\";\n",
       "                var nbb_formatted_code = \"steps = [(\\\"pca\\\", PCA(n_components=3)), (\\\"rf\\\", model)]\\n\\npipeline = Pipeline(steps)\\nprint(pipeline)\\n\\nX_train, X_test, y_train, y_test = train_test_split(X, y, test_size=0.25)\\n\\npipeline.fit(X_train, y_train)\\n\\ny_pred_train = pipeline.predict(X_train)\\ny_pred_test = pipeline.predict(X_test)\\nprint(\\\"Train Report\\\\n\\\")\\nprint(classification_report(y_train, y_pred_train))\\n\\nprint(\\\"Test Report\\\\n\\\")\\nprint(classification_report(y_test, y_pred_test))\";\n",
       "                var nbb_cells = Jupyter.notebook.get_cells();\n",
       "                for (var i = 0; i < nbb_cells.length; ++i) {\n",
       "                    if (nbb_cells[i].input_prompt_number == nbb_cell_id) {\n",
       "                        if (nbb_cells[i].get_text() == nbb_unformatted_code) {\n",
       "                             nbb_cells[i].set_text(nbb_formatted_code);\n",
       "                        }\n",
       "                        break;\n",
       "                    }\n",
       "                }\n",
       "            }, 500);\n",
       "            "
      ],
      "text/plain": [
       "<IPython.core.display.Javascript object>"
      ]
     },
     "metadata": {},
     "output_type": "display_data"
    }
   ],
   "source": [
    "steps = [(\"pca\", PCA(n_components=3)), (\"rf\", model)]\n",
    "\n",
    "pipeline = Pipeline(steps)\n",
    "print(pipeline)\n",
    "\n",
    "X_train, X_test, y_train, y_test = train_test_split(X, y, test_size=0.25)\n",
    "\n",
    "pipeline.fit(X_train, y_train)\n",
    "\n",
    "y_pred_train = pipeline.predict(X_train)\n",
    "y_pred_test = pipeline.predict(X_test)\n",
    "print(\"Train Report\\n\")\n",
    "print(classification_report(y_train, y_pred_train))\n",
    "\n",
    "print(\"Test Report\\n\")\n",
    "print(classification_report(y_test, y_pred_test))\n"
   ]
  },
  {
   "cell_type": "code",
   "execution_count": 31,
   "metadata": {},
   "outputs": [
    {
     "data": {
      "application/javascript": [
       "\n",
       "            setTimeout(function() {\n",
       "                var nbb_cell_id = 31;\n",
       "                var nbb_unformatted_code = \"# The test accuracy is the same as the previous step were we split before applying PCA\";\n",
       "                var nbb_formatted_code = \"# The test accuracy is the same as the previous step were we split before applying PCA\";\n",
       "                var nbb_cells = Jupyter.notebook.get_cells();\n",
       "                for (var i = 0; i < nbb_cells.length; ++i) {\n",
       "                    if (nbb_cells[i].input_prompt_number == nbb_cell_id) {\n",
       "                        if (nbb_cells[i].get_text() == nbb_unformatted_code) {\n",
       "                             nbb_cells[i].set_text(nbb_formatted_code);\n",
       "                        }\n",
       "                        break;\n",
       "                    }\n",
       "                }\n",
       "            }, 500);\n",
       "            "
      ],
      "text/plain": [
       "<IPython.core.display.Javascript object>"
      ]
     },
     "metadata": {},
     "output_type": "display_data"
    }
   ],
   "source": [
    "# The test accuracy is the same as the previous step were we split before applying PCA"
   ]
  },
  {
   "cell_type": "markdown",
   "metadata": {
    "id": "T0RpnV0xoMbX"
   },
   "source": [
    "### Using the pipeline you built, perform 10-fold cross validation on the training set and print the mean cross validation score.\n",
    "\n",
    "How does this score compare to the previous one?"
   ]
  },
  {
   "cell_type": "code",
   "execution_count": 26,
   "metadata": {
    "id": "9IKeBBZXoMbY"
   },
   "outputs": [
    {
     "data": {
      "text/plain": [
       "0.7224137931034483"
      ]
     },
     "execution_count": 26,
     "metadata": {},
     "output_type": "execute_result"
    },
    {
     "data": {
      "application/javascript": [
       "\n",
       "            setTimeout(function() {\n",
       "                var nbb_cell_id = 26;\n",
       "                var nbb_unformatted_code = \"scores = cross_val_score(pipeline, X_train, y_train, cv=10)\\nscores.mean()\";\n",
       "                var nbb_formatted_code = \"scores = cross_val_score(pipeline, X_train, y_train, cv=10)\\nscores.mean()\";\n",
       "                var nbb_cells = Jupyter.notebook.get_cells();\n",
       "                for (var i = 0; i < nbb_cells.length; ++i) {\n",
       "                    if (nbb_cells[i].input_prompt_number == nbb_cell_id) {\n",
       "                        if (nbb_cells[i].get_text() == nbb_unformatted_code) {\n",
       "                             nbb_cells[i].set_text(nbb_formatted_code);\n",
       "                        }\n",
       "                        break;\n",
       "                    }\n",
       "                }\n",
       "            }, 500);\n",
       "            "
      ],
      "text/plain": [
       "<IPython.core.display.Javascript object>"
      ]
     },
     "metadata": {},
     "output_type": "display_data"
    }
   ],
   "source": [
    "scores = cross_val_score(pipeline, X_train, y_train, cv=10)\n",
    "scores.mean()"
   ]
  },
  {
   "cell_type": "code",
   "execution_count": 27,
   "metadata": {},
   "outputs": [
    {
     "data": {
      "application/javascript": [
       "\n",
       "            setTimeout(function() {\n",
       "                var nbb_cell_id = 27;\n",
       "                var nbb_unformatted_code = \"# 0.722 vs 0.724 for the previous step. The difference is probably because we re-ran the \\n# train test split \";\n",
       "                var nbb_formatted_code = \"# 0.722 vs 0.724 for the previous step. The difference is probably because we re-ran the\\n# train test split\";\n",
       "                var nbb_cells = Jupyter.notebook.get_cells();\n",
       "                for (var i = 0; i < nbb_cells.length; ++i) {\n",
       "                    if (nbb_cells[i].input_prompt_number == nbb_cell_id) {\n",
       "                        if (nbb_cells[i].get_text() == nbb_unformatted_code) {\n",
       "                             nbb_cells[i].set_text(nbb_formatted_code);\n",
       "                        }\n",
       "                        break;\n",
       "                    }\n",
       "                }\n",
       "            }, 500);\n",
       "            "
      ],
      "text/plain": [
       "<IPython.core.display.Javascript object>"
      ]
     },
     "metadata": {},
     "output_type": "display_data"
    }
   ],
   "source": [
    "# 0.722 vs 0.724 for the previous step. The difference is probably because we re-ran the\n",
    "# train test split"
   ]
  },
  {
   "cell_type": "markdown",
   "metadata": {
    "id": "6DLDuyOqoMba"
   },
   "source": [
    "### Use GridSearchCV to find the optimal set of parameters from the ones below.\n",
    "\n",
    "- PCA Number of Components: 2, 3, 4, 5, 6, 7, 8\n",
    "- Random Forest Number of Estimators: 10, 20, 50, 100, 200"
   ]
  },
  {
   "cell_type": "code",
   "execution_count": 29,
   "metadata": {
    "id": "SbsRhIdZoMbb"
   },
   "outputs": [
    {
     "name": "stdout",
     "output_type": "stream",
     "text": [
      "Pipeline(steps=[('pca', PCA(n_components=3)),\n",
      "                ('rf', RandomForestClassifier(random_state=1))])\n",
      "Fitting 10 folds for each of 35 candidates, totalling 350 fits\n"
     ]
    },
    {
     "name": "stderr",
     "output_type": "stream",
     "text": [
      "[Parallel(n_jobs=-1)]: Using backend LokyBackend with 8 concurrent workers.\n",
      "[Parallel(n_jobs=-1)]: Done  34 tasks      | elapsed:    4.0s\n",
      "[Parallel(n_jobs=-1)]: Done 184 tasks      | elapsed:   11.0s\n",
      "[Parallel(n_jobs=-1)]: Done 350 out of 350 | elapsed:   19.8s finished\n"
     ]
    },
    {
     "data": {
      "text/plain": [
       "{'pca__n_components': 8, 'rf__n_estimators': 100}"
      ]
     },
     "execution_count": 29,
     "metadata": {},
     "output_type": "execute_result"
    },
    {
     "data": {
      "application/javascript": [
       "\n",
       "            setTimeout(function() {\n",
       "                var nbb_cell_id = 29;\n",
       "                var nbb_unformatted_code = \"steps = [(\\\"pca\\\", PCA(n_components=3)), (\\\"rf\\\", model)]\\n\\npipeline = Pipeline(steps)\\nprint(pipeline)\\n\\nX_train, X_test, y_train, y_test = train_test_split(X, y, test_size=0.25)\\n\\ngrid_params = {\\n    'pca__n_components':[2, 3, 4, 5, 6, 7, 8],\\n    'rf__n_estimators': [10, 20, 50, 100, 200]\\n}\\ngrid = GridSearchCV(pipeline, param_grid=grid_params, cv=10, verbose=True, n_jobs=-1)\\ngrid.fit(X_train, y_train)\\ngrid.best_params_\";\n",
       "                var nbb_formatted_code = \"steps = [(\\\"pca\\\", PCA(n_components=3)), (\\\"rf\\\", model)]\\n\\npipeline = Pipeline(steps)\\nprint(pipeline)\\n\\nX_train, X_test, y_train, y_test = train_test_split(X, y, test_size=0.25)\\n\\ngrid_params = {\\n    \\\"pca__n_components\\\": [2, 3, 4, 5, 6, 7, 8],\\n    \\\"rf__n_estimators\\\": [10, 20, 50, 100, 200],\\n}\\ngrid = GridSearchCV(pipeline, param_grid=grid_params, cv=10, verbose=True, n_jobs=-1)\\ngrid.fit(X_train, y_train)\\ngrid.best_params_\";\n",
       "                var nbb_cells = Jupyter.notebook.get_cells();\n",
       "                for (var i = 0; i < nbb_cells.length; ++i) {\n",
       "                    if (nbb_cells[i].input_prompt_number == nbb_cell_id) {\n",
       "                        if (nbb_cells[i].get_text() == nbb_unformatted_code) {\n",
       "                             nbb_cells[i].set_text(nbb_formatted_code);\n",
       "                        }\n",
       "                        break;\n",
       "                    }\n",
       "                }\n",
       "            }, 500);\n",
       "            "
      ],
      "text/plain": [
       "<IPython.core.display.Javascript object>"
      ]
     },
     "metadata": {},
     "output_type": "display_data"
    }
   ],
   "source": [
    "steps = [(\"pca\", PCA(n_components=3)), (\"rf\", model)]\n",
    "\n",
    "pipeline = Pipeline(steps)\n",
    "print(pipeline)\n",
    "\n",
    "X_train, X_test, y_train, y_test = train_test_split(X, y, test_size=0.25)\n",
    "\n",
    "grid_params = {\n",
    "    \"pca__n_components\": [2, 3, 4, 5, 6, 7, 8],\n",
    "    \"rf__n_estimators\": [10, 20, 50, 100, 200],\n",
    "}\n",
    "grid = GridSearchCV(pipeline, param_grid=grid_params, cv=10, verbose=True, n_jobs=-1)\n",
    "grid.fit(X_train, y_train)\n",
    "grid.best_params_"
   ]
  },
  {
   "cell_type": "markdown",
   "metadata": {
    "id": "7cVJ994qoMbd"
   },
   "source": [
    "### Using the best estimator pipeline from above, fit the pipeline to the training set and generate a classification report showing the results.\n",
    "\n",
    "Compare these results to the previous ones."
   ]
  },
  {
   "cell_type": "code",
   "execution_count": 30,
   "metadata": {
    "id": "P0N6Mv3KoMbe"
   },
   "outputs": [
    {
     "name": "stdout",
     "output_type": "stream",
     "text": [
      "Train Report\n",
      "\n",
      "              precision    recall  f1-score   support\n",
      "\n",
      "           0       1.00      1.00      1.00       381\n",
      "           1       1.00      1.00      1.00       195\n",
      "\n",
      "    accuracy                           1.00       576\n",
      "   macro avg       1.00      1.00      1.00       576\n",
      "weighted avg       1.00      1.00      1.00       576\n",
      "\n",
      "Test Report\n",
      "\n",
      "              precision    recall  f1-score   support\n",
      "\n",
      "           0       0.77      0.89      0.82       119\n",
      "           1       0.76      0.56      0.65        73\n",
      "\n",
      "    accuracy                           0.77       192\n",
      "   macro avg       0.76      0.73      0.74       192\n",
      "weighted avg       0.76      0.77      0.76       192\n",
      "\n"
     ]
    },
    {
     "data": {
      "application/javascript": [
       "\n",
       "            setTimeout(function() {\n",
       "                var nbb_cell_id = 30;\n",
       "                var nbb_unformatted_code = \"grid.best_estimator_.fit(X_train, y_train)\\n\\ny_pred_train = grid.best_estimator_.predict(X_train)\\ny_pred_test = grid.best_estimator_.predict(X_test)\\nprint(\\\"Train Report\\\\n\\\")\\nprint(classification_report(y_train, y_pred_train))\\n\\nprint(\\\"Test Report\\\\n\\\")\\nprint(classification_report(y_test, y_pred_test))\";\n",
       "                var nbb_formatted_code = \"grid.best_estimator_.fit(X_train, y_train)\\n\\ny_pred_train = grid.best_estimator_.predict(X_train)\\ny_pred_test = grid.best_estimator_.predict(X_test)\\nprint(\\\"Train Report\\\\n\\\")\\nprint(classification_report(y_train, y_pred_train))\\n\\nprint(\\\"Test Report\\\\n\\\")\\nprint(classification_report(y_test, y_pred_test))\";\n",
       "                var nbb_cells = Jupyter.notebook.get_cells();\n",
       "                for (var i = 0; i < nbb_cells.length; ++i) {\n",
       "                    if (nbb_cells[i].input_prompt_number == nbb_cell_id) {\n",
       "                        if (nbb_cells[i].get_text() == nbb_unformatted_code) {\n",
       "                             nbb_cells[i].set_text(nbb_formatted_code);\n",
       "                        }\n",
       "                        break;\n",
       "                    }\n",
       "                }\n",
       "            }, 500);\n",
       "            "
      ],
      "text/plain": [
       "<IPython.core.display.Javascript object>"
      ]
     },
     "metadata": {},
     "output_type": "display_data"
    }
   ],
   "source": [
    "grid.best_estimator_.fit(X_train, y_train)\n",
    "\n",
    "y_pred_train = grid.best_estimator_.predict(X_train)\n",
    "y_pred_test = grid.best_estimator_.predict(X_test)\n",
    "print(\"Train Report\\n\")\n",
    "print(classification_report(y_train, y_pred_train))\n",
    "\n",
    "print(\"Test Report\\n\")\n",
    "print(classification_report(y_test, y_pred_test))"
   ]
  },
  {
   "cell_type": "code",
   "execution_count": 38,
   "metadata": {},
   "outputs": [
    {
     "data": {
      "application/javascript": [
       "\n",
       "            setTimeout(function() {\n",
       "                var nbb_cell_id = 38;\n",
       "                var nbb_unformatted_code = \"# The test accuracy improved from 0.71 to 0.77 using the best grid parameters\";\n",
       "                var nbb_formatted_code = \"# The test accuracy improved from 0.71 to 0.77 using the best grid parameters\";\n",
       "                var nbb_cells = Jupyter.notebook.get_cells();\n",
       "                for (var i = 0; i < nbb_cells.length; ++i) {\n",
       "                    if (nbb_cells[i].input_prompt_number == nbb_cell_id) {\n",
       "                        if (nbb_cells[i].get_text() == nbb_unformatted_code) {\n",
       "                             nbb_cells[i].set_text(nbb_formatted_code);\n",
       "                        }\n",
       "                        break;\n",
       "                    }\n",
       "                }\n",
       "            }, 500);\n",
       "            "
      ],
      "text/plain": [
       "<IPython.core.display.Javascript object>"
      ]
     },
     "metadata": {},
     "output_type": "display_data"
    }
   ],
   "source": [
    "# The test accuracy improved from 0.71 to 0.77 using the best grid parameters"
   ]
  },
  {
   "cell_type": "markdown",
   "metadata": {
    "id": "loHniiPLoMbj"
   },
   "source": [
    "### Fit the best estimator pipeline to the entire data set and save your model to disk using pickle."
   ]
  },
  {
   "cell_type": "code",
   "execution_count": 40,
   "metadata": {
    "id": "5Y8ESntxoMbk"
   },
   "outputs": [
    {
     "data": {
      "application/javascript": [
       "\n",
       "            setTimeout(function() {\n",
       "                var nbb_cell_id = 40;\n",
       "                var nbb_unformatted_code = \"final_model = grid.best_estimator_.fit(X, y)\\n\\nwith open('final_model.pkl', 'wb') as f:\\n    pickle.dump(final_model, f)\";\n",
       "                var nbb_formatted_code = \"final_model = grid.best_estimator_.fit(X, y)\\n\\nwith open(\\\"final_model.pkl\\\", \\\"wb\\\") as f:\\n    pickle.dump(final_model, f)\";\n",
       "                var nbb_cells = Jupyter.notebook.get_cells();\n",
       "                for (var i = 0; i < nbb_cells.length; ++i) {\n",
       "                    if (nbb_cells[i].input_prompt_number == nbb_cell_id) {\n",
       "                        if (nbb_cells[i].get_text() == nbb_unformatted_code) {\n",
       "                             nbb_cells[i].set_text(nbb_formatted_code);\n",
       "                        }\n",
       "                        break;\n",
       "                    }\n",
       "                }\n",
       "            }, 500);\n",
       "            "
      ],
      "text/plain": [
       "<IPython.core.display.Javascript object>"
      ]
     },
     "metadata": {},
     "output_type": "display_data"
    }
   ],
   "source": [
    "final_model = grid.best_estimator_.fit(X, y)\n",
    "\n",
    "with open(\"final_model.pkl\", \"wb\") as f:\n",
    "    pickle.dump(final_model, f)"
   ]
  },
  {
   "cell_type": "markdown",
   "metadata": {
    "id": "9HdA-rQGoMbn"
   },
   "source": [
    "### Load the model you saved to disk, create a copy of the features in the data, and generate a set of predictions for those features. "
   ]
  },
  {
   "cell_type": "code",
   "execution_count": 43,
   "metadata": {
    "id": "UBnP7dKhoMbn"
   },
   "outputs": [
    {
     "data": {
      "text/plain": [
       "array([1, 0, 1, 0, 1, 0, 1, 0, 1, 1, 0, 1, 0, 1, 1, 1, 1, 1, 0, 1, 0, 0,\n",
       "       1, 1, 1, 1, 1, 0, 0, 0, 0, 1, 0, 0, 0, 0, 0, 1, 1, 1, 0, 0, 0, 1,\n",
       "       0, 1, 0, 0, 1, 0, 0, 0, 0, 1, 0, 0, 1, 0, 0, 0, 0, 1, 0, 0, 1, 0,\n",
       "       1, 0, 0, 0, 1, 0, 1, 0, 0, 0, 0, 0, 1, 0, 0, 0, 0, 0, 1, 0, 0, 0,\n",
       "       1, 0, 0, 0, 0, 1, 0, 0, 0, 0, 0, 1, 1, 0, 0, 0, 0, 0, 0, 0, 0, 1,\n",
       "       1, 1, 0, 0, 1, 1, 1, 0, 0, 0, 1, 0, 0, 0, 1, 1, 0, 0, 1, 1, 1, 1,\n",
       "       1, 0, 0, 0, 0, 0, 0, 0, 0, 0, 0, 1, 0, 0, 0, 0, 0, 0, 0, 0, 1, 0,\n",
       "       1, 1, 0, 0, 0, 1, 0, 0, 0, 0, 1, 1, 0, 0, 0, 0, 1, 1, 0, 0, 0, 1,\n",
       "       0, 1, 0, 1, 0, 0, 0, 0, 0, 1, 1, 1, 1, 1, 0, 0, 1, 1, 0, 1, 0, 1,\n",
       "       1, 1, 0, 0, 0, 0, 0, 0, 1, 1, 0, 1, 0, 0, 0, 1, 1, 1, 1, 0, 1, 1,\n",
       "       1, 1, 0, 0, 0, 0, 0, 1, 0, 0, 1, 1, 0, 0, 0, 1, 1, 1, 1, 0, 0, 0,\n",
       "       1, 1, 0, 1, 0, 0, 0, 0, 0, 0, 0, 0, 1, 1, 0, 0, 0, 1, 0, 1, 0, 0,\n",
       "       1, 0, 1, 0, 0, 1, 1, 0, 0, 0, 0, 0, 1, 0, 0, 0, 1, 0, 0, 1, 1, 0,\n",
       "       0, 1, 0, 0, 0, 1, 1, 1, 0, 0, 1, 0, 1, 0, 1, 1, 0, 1, 0, 0, 1, 0,\n",
       "       1, 1, 0, 0, 1, 0, 1, 0, 0, 1, 0, 1, 0, 1, 1, 1, 0, 0, 1, 0, 1, 0,\n",
       "       0, 0, 1, 0, 0, 0, 0, 1, 1, 1, 0, 0, 0, 0, 0, 0, 0, 0, 0, 1, 0, 0,\n",
       "       0, 0, 0, 1, 1, 1, 0, 1, 1, 0, 0, 1, 0, 0, 1, 0, 0, 1, 1, 0, 0, 0,\n",
       "       0, 1, 0, 0, 1, 0, 0, 0, 0, 0, 0, 0, 1, 1, 1, 0, 0, 1, 0, 0, 1, 0,\n",
       "       0, 1, 0, 1, 1, 0, 1, 0, 1, 0, 1, 0, 1, 1, 0, 0, 0, 0, 1, 1, 0, 1,\n",
       "       0, 1, 0, 0, 0, 0, 1, 1, 0, 1, 0, 1, 0, 0, 0, 0, 0, 1, 0, 0, 0, 0,\n",
       "       1, 0, 0, 1, 1, 1, 0, 0, 1, 0, 0, 1, 0, 0, 0, 1, 0, 0, 1, 0, 0, 0,\n",
       "       0, 0, 0, 0, 0, 0, 1, 0, 0, 0, 0, 0, 0, 0, 1, 0, 0, 0, 1, 0, 0, 0,\n",
       "       1, 1, 0, 0, 0, 0, 0, 0, 0, 1, 0, 0, 0, 0, 1, 0, 0, 0, 1, 0, 0, 0,\n",
       "       1, 0, 0, 0, 1, 0, 0, 0, 0, 1, 1, 0, 0, 0, 0, 0, 0, 1, 0, 0, 0, 0,\n",
       "       0, 0, 0, 0, 0, 0, 0, 1, 0, 0, 0, 1, 1, 1, 1, 0, 0, 1, 1, 0, 0, 0,\n",
       "       0, 0, 0, 0, 0, 0, 0, 0, 0, 0, 1, 1, 0, 0, 0, 0, 0, 0, 0, 1, 0, 0,\n",
       "       0, 0, 0, 0, 0, 1, 0, 1, 1, 0, 0, 0, 1, 0, 1, 0, 1, 0, 1, 0, 1, 0,\n",
       "       0, 1, 0, 0, 1, 0, 0, 0, 0, 1, 1, 0, 1, 0, 0, 0, 0, 1, 1, 0, 1, 0,\n",
       "       0, 0, 1, 1, 0, 0, 0, 0, 0, 0, 0, 0, 0, 0, 1, 0, 0, 0, 0, 1, 0, 0,\n",
       "       1, 0, 0, 0, 1, 0, 0, 0, 1, 1, 1, 0, 0, 0, 0, 0, 0, 1, 0, 0, 0, 1,\n",
       "       0, 1, 1, 1, 1, 0, 1, 1, 0, 0, 0, 0, 0, 0, 0, 1, 1, 0, 1, 0, 0, 1,\n",
       "       0, 1, 0, 0, 0, 0, 0, 1, 0, 1, 0, 1, 0, 1, 1, 0, 0, 0, 0, 1, 1, 0,\n",
       "       0, 0, 1, 0, 1, 1, 0, 0, 1, 0, 0, 1, 1, 0, 0, 1, 0, 0, 1, 0, 0, 0,\n",
       "       0, 0, 0, 0, 1, 1, 1, 0, 0, 0, 0, 0, 0, 1, 1, 0, 0, 1, 0, 0, 1, 0,\n",
       "       1, 1, 1, 0, 0, 1, 1, 1, 0, 1, 0, 1, 0, 1, 0, 0, 0, 0, 1, 0])"
      ]
     },
     "execution_count": 43,
     "metadata": {},
     "output_type": "execute_result"
    },
    {
     "data": {
      "application/javascript": [
       "\n",
       "            setTimeout(function() {\n",
       "                var nbb_cell_id = 43;\n",
       "                var nbb_unformatted_code = \"with open(\\\"final_model.pkl\\\", \\\"rb\\\") as f:\\n    imported_model = pickle.load(f)\\n\\n# pretend new data\\nnew_data = X.copy()\\n\\npreds = imported_model.predict(new_data)\\npreds\";\n",
       "                var nbb_formatted_code = \"with open(\\\"final_model.pkl\\\", \\\"rb\\\") as f:\\n    imported_model = pickle.load(f)\\n\\n# pretend new data\\nnew_data = X.copy()\\n\\npreds = imported_model.predict(new_data)\\npreds\";\n",
       "                var nbb_cells = Jupyter.notebook.get_cells();\n",
       "                for (var i = 0; i < nbb_cells.length; ++i) {\n",
       "                    if (nbb_cells[i].input_prompt_number == nbb_cell_id) {\n",
       "                        if (nbb_cells[i].get_text() == nbb_unformatted_code) {\n",
       "                             nbb_cells[i].set_text(nbb_formatted_code);\n",
       "                        }\n",
       "                        break;\n",
       "                    }\n",
       "                }\n",
       "            }, 500);\n",
       "            "
      ],
      "text/plain": [
       "<IPython.core.display.Javascript object>"
      ]
     },
     "metadata": {},
     "output_type": "display_data"
    }
   ],
   "source": [
    "with open(\"final_model.pkl\", \"rb\") as f:\n",
    "    imported_model = pickle.load(f)\n",
    "\n",
    "# pretend new data\n",
    "new_data = X.copy()\n",
    "\n",
    "preds = imported_model.predict(new_data)\n",
    "preds"
   ]
  },
  {
   "cell_type": "code",
   "execution_count": null,
   "metadata": {},
   "outputs": [],
   "source": []
  }
 ],
 "metadata": {
  "colab": {
   "name": "Day 52 Lecture 2 Assignment.ipynb",
   "provenance": []
  },
  "kernelspec": {
   "display_name": "Python 3",
   "language": "python",
   "name": "python3"
  },
  "language_info": {
   "codemirror_mode": {
    "name": "ipython",
    "version": 3
   },
   "file_extension": ".py",
   "mimetype": "text/x-python",
   "name": "python",
   "nbconvert_exporter": "python",
   "pygments_lexer": "ipython3",
   "version": "3.8.6"
  },
  "toc": {
   "base_numbering": 1,
   "nav_menu": {},
   "number_sections": false,
   "sideBar": true,
   "skip_h1_title": true,
   "title_cell": "Table of Contents",
   "title_sidebar": "Contents",
   "toc_cell": false,
   "toc_position": {},
   "toc_section_display": true,
   "toc_window_display": true
  }
 },
 "nbformat": 4,
 "nbformat_minor": 1
}
