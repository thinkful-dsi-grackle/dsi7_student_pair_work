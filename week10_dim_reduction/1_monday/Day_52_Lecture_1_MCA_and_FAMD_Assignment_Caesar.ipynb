{
  "nbformat": 4,
  "nbformat_minor": 0,
  "metadata": {
    "kernelspec": {
      "display_name": "Python 3",
      "language": "python",
      "name": "python3"
    },
    "language_info": {
      "codemirror_mode": {
        "name": "ipython",
        "version": 3
      },
      "file_extension": ".py",
      "mimetype": "text/x-python",
      "name": "python",
      "nbconvert_exporter": "python",
      "pygments_lexer": "ipython3",
      "version": "3.7.2"
    },
    "colab": {
      "name": "Day 52 Lecture 1 MCA and FAMD Assignment_Caesar.ipynb",
      "provenance": [],
      "collapsed_sections": []
    }
  },
  "cells": [
    {
      "cell_type": "code",
      "metadata": {
        "id": "id8b7ZxMXazy",
        "colab": {
          "base_uri": "https://localhost:8080/"
        },
        "outputId": "12b43a85-4333-4ebe-b5d6-487b1c2ba878"
      },
      "source": [
        "!pip install prince"
      ],
      "execution_count": 1,
      "outputs": [
        {
          "output_type": "stream",
          "text": [
            "Collecting prince\n",
            "  Downloading https://files.pythonhosted.org/packages/94/6c/491a3fabfd1ce75e285a4fe4200fccde5d83664733541a3a74c0b02e77fb/prince-0.7.1-py3-none-any.whl\n",
            "Requirement already satisfied: scikit-learn>=0.22.1 in /usr/local/lib/python3.6/dist-packages (from prince) (0.22.2.post1)\n",
            "Requirement already satisfied: pandas>=1.0.3 in /usr/local/lib/python3.6/dist-packages (from prince) (1.1.4)\n",
            "Requirement already satisfied: matplotlib>=3.0.2 in /usr/local/lib/python3.6/dist-packages (from prince) (3.2.2)\n",
            "Requirement already satisfied: numpy>=1.17.1 in /usr/local/lib/python3.6/dist-packages (from prince) (1.18.5)\n",
            "Requirement already satisfied: scipy>=1.3.0 in /usr/local/lib/python3.6/dist-packages (from prince) (1.4.1)\n",
            "Requirement already satisfied: joblib>=0.11 in /usr/local/lib/python3.6/dist-packages (from scikit-learn>=0.22.1->prince) (0.17.0)\n",
            "Requirement already satisfied: python-dateutil>=2.7.3 in /usr/local/lib/python3.6/dist-packages (from pandas>=1.0.3->prince) (2.8.1)\n",
            "Requirement already satisfied: pytz>=2017.2 in /usr/local/lib/python3.6/dist-packages (from pandas>=1.0.3->prince) (2018.9)\n",
            "Requirement already satisfied: pyparsing!=2.0.4,!=2.1.2,!=2.1.6,>=2.0.1 in /usr/local/lib/python3.6/dist-packages (from matplotlib>=3.0.2->prince) (2.4.7)\n",
            "Requirement already satisfied: kiwisolver>=1.0.1 in /usr/local/lib/python3.6/dist-packages (from matplotlib>=3.0.2->prince) (1.3.1)\n",
            "Requirement already satisfied: cycler>=0.10 in /usr/local/lib/python3.6/dist-packages (from matplotlib>=3.0.2->prince) (0.10.0)\n",
            "Requirement already satisfied: six>=1.5 in /usr/local/lib/python3.6/dist-packages (from python-dateutil>=2.7.3->pandas>=1.0.3->prince) (1.15.0)\n",
            "Installing collected packages: prince\n",
            "Successfully installed prince-0.7.1\n"
          ],
          "name": "stdout"
        }
      ]
    },
    {
      "cell_type": "markdown",
      "metadata": {
        "id": "CPCRE6xVXNyj"
      },
      "source": [
        "# Dimensionality Reduction: MCA & FAMD Assignment"
      ]
    },
    {
      "cell_type": "code",
      "metadata": {
        "id": "W7S1wkulXNyn"
      },
      "source": [
        "import prince\n",
        "import pandas as pd"
      ],
      "execution_count": 2,
      "outputs": []
    },
    {
      "cell_type": "markdown",
      "metadata": {
        "id": "pVyxhr_2XNyy"
      },
      "source": [
        "### Import the HR data set "
      ]
    },
    {
      "cell_type": "code",
      "metadata": {
        "id": "Z_mxW5SlXNy0",
        "colab": {
          "base_uri": "https://localhost:8080/",
          "height": 406
        },
        "outputId": "4e2e15ba-e030-4ba6-df32-1d5f348c8be5"
      },
      "source": [
        "data_url = 'https://raw.githubusercontent.com/Thinkful-Ed/data-science-lectures/master/hr_dataset.csv'\n",
        "data = pd.read_csv(data_url)\n",
        "data"
      ],
      "execution_count": 5,
      "outputs": [
        {
          "output_type": "execute_result",
          "data": {
            "text/html": [
              "<div>\n",
              "<style scoped>\n",
              "    .dataframe tbody tr th:only-of-type {\n",
              "        vertical-align: middle;\n",
              "    }\n",
              "\n",
              "    .dataframe tbody tr th {\n",
              "        vertical-align: top;\n",
              "    }\n",
              "\n",
              "    .dataframe thead th {\n",
              "        text-align: right;\n",
              "    }\n",
              "</style>\n",
              "<table border=\"1\" class=\"dataframe\">\n",
              "  <thead>\n",
              "    <tr style=\"text-align: right;\">\n",
              "      <th></th>\n",
              "      <th>Age</th>\n",
              "      <th>Pay Rate</th>\n",
              "      <th>State</th>\n",
              "      <th>Zip</th>\n",
              "      <th>Sex</th>\n",
              "      <th>MaritalDesc</th>\n",
              "      <th>CitizenDesc</th>\n",
              "      <th>Hispanic/Latino</th>\n",
              "      <th>RaceDesc</th>\n",
              "      <th>Days Employed</th>\n",
              "      <th>Reason For Term</th>\n",
              "      <th>Employment Status</th>\n",
              "      <th>Department</th>\n",
              "      <th>Position</th>\n",
              "      <th>Manager Name</th>\n",
              "      <th>Employee Source</th>\n",
              "      <th>Performance Score</th>\n",
              "    </tr>\n",
              "  </thead>\n",
              "  <tbody>\n",
              "    <tr>\n",
              "      <th>0</th>\n",
              "      <td>30</td>\n",
              "      <td>28.50</td>\n",
              "      <td>MA</td>\n",
              "      <td>1450</td>\n",
              "      <td>Female</td>\n",
              "      <td>Married</td>\n",
              "      <td>US Citizen</td>\n",
              "      <td>No</td>\n",
              "      <td>Black or African American</td>\n",
              "      <td>3317</td>\n",
              "      <td>N/A - still employed</td>\n",
              "      <td>Active</td>\n",
              "      <td>Admin Offices</td>\n",
              "      <td>Accountant I</td>\n",
              "      <td>Brandon R. LeBlanc</td>\n",
              "      <td>Diversity Job Fair</td>\n",
              "      <td>Fully Meets</td>\n",
              "    </tr>\n",
              "    <tr>\n",
              "      <th>1</th>\n",
              "      <td>34</td>\n",
              "      <td>23.00</td>\n",
              "      <td>MA</td>\n",
              "      <td>1460</td>\n",
              "      <td>Male</td>\n",
              "      <td>Divorced</td>\n",
              "      <td>US Citizen</td>\n",
              "      <td>No</td>\n",
              "      <td>Black or African American</td>\n",
              "      <td>1420</td>\n",
              "      <td>N/A - still employed</td>\n",
              "      <td>Active</td>\n",
              "      <td>Admin Offices</td>\n",
              "      <td>Accountant I</td>\n",
              "      <td>Brandon R. LeBlanc</td>\n",
              "      <td>Website Banner Ads</td>\n",
              "      <td>Fully Meets</td>\n",
              "    </tr>\n",
              "    <tr>\n",
              "      <th>2</th>\n",
              "      <td>31</td>\n",
              "      <td>29.00</td>\n",
              "      <td>MA</td>\n",
              "      <td>2703</td>\n",
              "      <td>Male</td>\n",
              "      <td>Single</td>\n",
              "      <td>US Citizen</td>\n",
              "      <td>No</td>\n",
              "      <td>White</td>\n",
              "      <td>1154</td>\n",
              "      <td>N/A - still employed</td>\n",
              "      <td>Active</td>\n",
              "      <td>Admin Offices</td>\n",
              "      <td>Accountant I</td>\n",
              "      <td>Brandon R. LeBlanc</td>\n",
              "      <td>Internet Search</td>\n",
              "      <td>Fully Meets</td>\n",
              "    </tr>\n",
              "    <tr>\n",
              "      <th>3</th>\n",
              "      <td>32</td>\n",
              "      <td>21.50</td>\n",
              "      <td>MA</td>\n",
              "      <td>2170</td>\n",
              "      <td>Female</td>\n",
              "      <td>Married</td>\n",
              "      <td>US Citizen</td>\n",
              "      <td>No</td>\n",
              "      <td>White</td>\n",
              "      <td>58</td>\n",
              "      <td>N/A - still employed</td>\n",
              "      <td>Active</td>\n",
              "      <td>Admin Offices</td>\n",
              "      <td>Administrative Assistant</td>\n",
              "      <td>Brandon R. LeBlanc</td>\n",
              "      <td>Pay Per Click - Google</td>\n",
              "      <td>N/A- too early to review</td>\n",
              "    </tr>\n",
              "    <tr>\n",
              "      <th>4</th>\n",
              "      <td>30</td>\n",
              "      <td>16.56</td>\n",
              "      <td>MA</td>\n",
              "      <td>2330</td>\n",
              "      <td>Female</td>\n",
              "      <td>Single</td>\n",
              "      <td>US Citizen</td>\n",
              "      <td>No</td>\n",
              "      <td>White</td>\n",
              "      <td>940</td>\n",
              "      <td>N/A - still employed</td>\n",
              "      <td>Active</td>\n",
              "      <td>Admin Offices</td>\n",
              "      <td>Administrative Assistant</td>\n",
              "      <td>Brandon R. LeBlanc</td>\n",
              "      <td>Website Banner Ads</td>\n",
              "      <td>N/A- too early to review</td>\n",
              "    </tr>\n",
              "    <tr>\n",
              "      <th>...</th>\n",
              "      <td>...</td>\n",
              "      <td>...</td>\n",
              "      <td>...</td>\n",
              "      <td>...</td>\n",
              "      <td>...</td>\n",
              "      <td>...</td>\n",
              "      <td>...</td>\n",
              "      <td>...</td>\n",
              "      <td>...</td>\n",
              "      <td>...</td>\n",
              "      <td>...</td>\n",
              "      <td>...</td>\n",
              "      <td>...</td>\n",
              "      <td>...</td>\n",
              "      <td>...</td>\n",
              "      <td>...</td>\n",
              "      <td>...</td>\n",
              "    </tr>\n",
              "    <tr>\n",
              "      <th>305</th>\n",
              "      <td>48</td>\n",
              "      <td>52.25</td>\n",
              "      <td>MA</td>\n",
              "      <td>2056</td>\n",
              "      <td>Male</td>\n",
              "      <td>Single</td>\n",
              "      <td>US Citizen</td>\n",
              "      <td>No</td>\n",
              "      <td>Asian</td>\n",
              "      <td>289</td>\n",
              "      <td>N/A - still employed</td>\n",
              "      <td>Active</td>\n",
              "      <td>IT/IS</td>\n",
              "      <td>Senior BI Developer</td>\n",
              "      <td>Brian Champaigne</td>\n",
              "      <td>Indeed</td>\n",
              "      <td>Fully Meets</td>\n",
              "    </tr>\n",
              "    <tr>\n",
              "      <th>306</th>\n",
              "      <td>36</td>\n",
              "      <td>51.00</td>\n",
              "      <td>MA</td>\n",
              "      <td>1887</td>\n",
              "      <td>Male</td>\n",
              "      <td>Single</td>\n",
              "      <td>US Citizen</td>\n",
              "      <td>No</td>\n",
              "      <td>Asian</td>\n",
              "      <td>284</td>\n",
              "      <td>N/A - still employed</td>\n",
              "      <td>Active</td>\n",
              "      <td>IT/IS</td>\n",
              "      <td>Senior BI Developer</td>\n",
              "      <td>Brian Champaigne</td>\n",
              "      <td>Indeed</td>\n",
              "      <td>Fully Meets</td>\n",
              "    </tr>\n",
              "    <tr>\n",
              "      <th>307</th>\n",
              "      <td>34</td>\n",
              "      <td>46.00</td>\n",
              "      <td>MA</td>\n",
              "      <td>2045</td>\n",
              "      <td>Male</td>\n",
              "      <td>Single</td>\n",
              "      <td>US Citizen</td>\n",
              "      <td>No</td>\n",
              "      <td>White</td>\n",
              "      <td>284</td>\n",
              "      <td>N/A - still employed</td>\n",
              "      <td>Active</td>\n",
              "      <td>IT/IS</td>\n",
              "      <td>BI Developer</td>\n",
              "      <td>Brian Champaigne</td>\n",
              "      <td>Indeed</td>\n",
              "      <td>Fully Meets</td>\n",
              "    </tr>\n",
              "    <tr>\n",
              "      <th>308</th>\n",
              "      <td>30</td>\n",
              "      <td>45.00</td>\n",
              "      <td>MA</td>\n",
              "      <td>2134</td>\n",
              "      <td>Male</td>\n",
              "      <td>Married</td>\n",
              "      <td>US Citizen</td>\n",
              "      <td>No</td>\n",
              "      <td>White</td>\n",
              "      <td>220</td>\n",
              "      <td>N/A - still employed</td>\n",
              "      <td>Active</td>\n",
              "      <td>IT/IS</td>\n",
              "      <td>BI Developer</td>\n",
              "      <td>Brian Champaigne</td>\n",
              "      <td>Indeed</td>\n",
              "      <td>Fully Meets</td>\n",
              "    </tr>\n",
              "    <tr>\n",
              "      <th>309</th>\n",
              "      <td>28</td>\n",
              "      <td>45.00</td>\n",
              "      <td>MA</td>\n",
              "      <td>2134</td>\n",
              "      <td>Male</td>\n",
              "      <td>Married</td>\n",
              "      <td>US Citizen</td>\n",
              "      <td>No</td>\n",
              "      <td>Black or African American</td>\n",
              "      <td>220</td>\n",
              "      <td>N/A - still employed</td>\n",
              "      <td>Active</td>\n",
              "      <td>IT/IS</td>\n",
              "      <td>BI Developer</td>\n",
              "      <td>Brian Champaigne</td>\n",
              "      <td>Indeed</td>\n",
              "      <td>Fully Meets</td>\n",
              "    </tr>\n",
              "  </tbody>\n",
              "</table>\n",
              "<p>310 rows × 17 columns</p>\n",
              "</div>"
            ],
            "text/plain": [
              "     Age  Pay Rate  ...         Employee Source         Performance Score\n",
              "0     30     28.50  ...      Diversity Job Fair               Fully Meets\n",
              "1     34     23.00  ...      Website Banner Ads               Fully Meets\n",
              "2     31     29.00  ...         Internet Search               Fully Meets\n",
              "3     32     21.50  ...  Pay Per Click - Google  N/A- too early to review\n",
              "4     30     16.56  ...      Website Banner Ads  N/A- too early to review\n",
              "..   ...       ...  ...                     ...                       ...\n",
              "305   48     52.25  ...                  Indeed               Fully Meets\n",
              "306   36     51.00  ...                  Indeed               Fully Meets\n",
              "307   34     46.00  ...                  Indeed               Fully Meets\n",
              "308   30     45.00  ...                  Indeed               Fully Meets\n",
              "309   28     45.00  ...                  Indeed               Fully Meets\n",
              "\n",
              "[310 rows x 17 columns]"
            ]
          },
          "metadata": {
            "tags": []
          },
          "execution_count": 5
        }
      ]
    },
    {
      "cell_type": "markdown",
      "metadata": {
        "id": "TkXvhjyuXNy7"
      },
      "source": [
        "### Identify which columns in the data are numeric and which are categorical.\n",
        "\n",
        "Correct any columns that have been misassigned a numeric data type when they should be categorical."
      ]
    },
    {
      "cell_type": "code",
      "metadata": {
        "colab": {
          "base_uri": "https://localhost:8080/"
        },
        "id": "XbSD15nkw53G",
        "outputId": "38e27224-bca1-4c79-ca06-b32a91ab992c"
      },
      "source": [
        "data.dtypes"
      ],
      "execution_count": 17,
      "outputs": [
        {
          "output_type": "execute_result",
          "data": {
            "text/plain": [
              "Age                    int64\n",
              "Pay Rate             float64\n",
              "State                 object\n",
              "Zip                    int64\n",
              "Sex                   object\n",
              "MaritalDesc           object\n",
              "CitizenDesc           object\n",
              "Hispanic/Latino       object\n",
              "RaceDesc              object\n",
              "Days Employed          int64\n",
              "Reason For Term       object\n",
              "Employment Status     object\n",
              "Department            object\n",
              "Position              object\n",
              "Manager Name          object\n",
              "Employee Source       object\n",
              "Performance Score     object\n",
              "dtype: object"
            ]
          },
          "metadata": {
            "tags": []
          },
          "execution_count": 17
        }
      ]
    },
    {
      "cell_type": "code",
      "metadata": {
        "colab": {
          "base_uri": "https://localhost:8080/"
        },
        "id": "gj7s_Hid1_mt",
        "outputId": "b698467d-2b47-4334-ece6-d805cf9c56a3"
      },
      "source": [
        "data['Zip'] = data['Zip'].map(lambda x: str(x))\n",
        "data.dtypes"
      ],
      "execution_count": 18,
      "outputs": [
        {
          "output_type": "execute_result",
          "data": {
            "text/plain": [
              "Age                    int64\n",
              "Pay Rate             float64\n",
              "State                 object\n",
              "Zip                   object\n",
              "Sex                   object\n",
              "MaritalDesc           object\n",
              "CitizenDesc           object\n",
              "Hispanic/Latino       object\n",
              "RaceDesc              object\n",
              "Days Employed          int64\n",
              "Reason For Term       object\n",
              "Employment Status     object\n",
              "Department            object\n",
              "Position              object\n",
              "Manager Name          object\n",
              "Employee Source       object\n",
              "Performance Score     object\n",
              "dtype: object"
            ]
          },
          "metadata": {
            "tags": []
          },
          "execution_count": 18
        }
      ]
    },
    {
      "cell_type": "markdown",
      "metadata": {
        "id": "12n1Oc3aXNzD"
      },
      "source": [
        "### Pull out the categorical variables and note the dimensions of the data set."
      ]
    },
    {
      "cell_type": "code",
      "metadata": {
        "id": "TmeVkWUqXNzF",
        "colab": {
          "base_uri": "https://localhost:8080/",
          "height": 406
        },
        "outputId": "3d91884c-3a8e-4810-e7e8-b0bf679c615b"
      },
      "source": [
        "cat = data.select_dtypes(include=['O'])\n",
        "cat"
      ],
      "execution_count": 23,
      "outputs": [
        {
          "output_type": "execute_result",
          "data": {
            "text/html": [
              "<div>\n",
              "<style scoped>\n",
              "    .dataframe tbody tr th:only-of-type {\n",
              "        vertical-align: middle;\n",
              "    }\n",
              "\n",
              "    .dataframe tbody tr th {\n",
              "        vertical-align: top;\n",
              "    }\n",
              "\n",
              "    .dataframe thead th {\n",
              "        text-align: right;\n",
              "    }\n",
              "</style>\n",
              "<table border=\"1\" class=\"dataframe\">\n",
              "  <thead>\n",
              "    <tr style=\"text-align: right;\">\n",
              "      <th></th>\n",
              "      <th>State</th>\n",
              "      <th>Zip</th>\n",
              "      <th>Sex</th>\n",
              "      <th>MaritalDesc</th>\n",
              "      <th>CitizenDesc</th>\n",
              "      <th>Hispanic/Latino</th>\n",
              "      <th>RaceDesc</th>\n",
              "      <th>Reason For Term</th>\n",
              "      <th>Employment Status</th>\n",
              "      <th>Department</th>\n",
              "      <th>Position</th>\n",
              "      <th>Manager Name</th>\n",
              "      <th>Employee Source</th>\n",
              "      <th>Performance Score</th>\n",
              "    </tr>\n",
              "  </thead>\n",
              "  <tbody>\n",
              "    <tr>\n",
              "      <th>0</th>\n",
              "      <td>MA</td>\n",
              "      <td>1450</td>\n",
              "      <td>Female</td>\n",
              "      <td>Married</td>\n",
              "      <td>US Citizen</td>\n",
              "      <td>No</td>\n",
              "      <td>Black or African American</td>\n",
              "      <td>N/A - still employed</td>\n",
              "      <td>Active</td>\n",
              "      <td>Admin Offices</td>\n",
              "      <td>Accountant I</td>\n",
              "      <td>Brandon R. LeBlanc</td>\n",
              "      <td>Diversity Job Fair</td>\n",
              "      <td>Fully Meets</td>\n",
              "    </tr>\n",
              "    <tr>\n",
              "      <th>1</th>\n",
              "      <td>MA</td>\n",
              "      <td>1460</td>\n",
              "      <td>Male</td>\n",
              "      <td>Divorced</td>\n",
              "      <td>US Citizen</td>\n",
              "      <td>No</td>\n",
              "      <td>Black or African American</td>\n",
              "      <td>N/A - still employed</td>\n",
              "      <td>Active</td>\n",
              "      <td>Admin Offices</td>\n",
              "      <td>Accountant I</td>\n",
              "      <td>Brandon R. LeBlanc</td>\n",
              "      <td>Website Banner Ads</td>\n",
              "      <td>Fully Meets</td>\n",
              "    </tr>\n",
              "    <tr>\n",
              "      <th>2</th>\n",
              "      <td>MA</td>\n",
              "      <td>2703</td>\n",
              "      <td>Male</td>\n",
              "      <td>Single</td>\n",
              "      <td>US Citizen</td>\n",
              "      <td>No</td>\n",
              "      <td>White</td>\n",
              "      <td>N/A - still employed</td>\n",
              "      <td>Active</td>\n",
              "      <td>Admin Offices</td>\n",
              "      <td>Accountant I</td>\n",
              "      <td>Brandon R. LeBlanc</td>\n",
              "      <td>Internet Search</td>\n",
              "      <td>Fully Meets</td>\n",
              "    </tr>\n",
              "    <tr>\n",
              "      <th>3</th>\n",
              "      <td>MA</td>\n",
              "      <td>2170</td>\n",
              "      <td>Female</td>\n",
              "      <td>Married</td>\n",
              "      <td>US Citizen</td>\n",
              "      <td>No</td>\n",
              "      <td>White</td>\n",
              "      <td>N/A - still employed</td>\n",
              "      <td>Active</td>\n",
              "      <td>Admin Offices</td>\n",
              "      <td>Administrative Assistant</td>\n",
              "      <td>Brandon R. LeBlanc</td>\n",
              "      <td>Pay Per Click - Google</td>\n",
              "      <td>N/A- too early to review</td>\n",
              "    </tr>\n",
              "    <tr>\n",
              "      <th>4</th>\n",
              "      <td>MA</td>\n",
              "      <td>2330</td>\n",
              "      <td>Female</td>\n",
              "      <td>Single</td>\n",
              "      <td>US Citizen</td>\n",
              "      <td>No</td>\n",
              "      <td>White</td>\n",
              "      <td>N/A - still employed</td>\n",
              "      <td>Active</td>\n",
              "      <td>Admin Offices</td>\n",
              "      <td>Administrative Assistant</td>\n",
              "      <td>Brandon R. LeBlanc</td>\n",
              "      <td>Website Banner Ads</td>\n",
              "      <td>N/A- too early to review</td>\n",
              "    </tr>\n",
              "    <tr>\n",
              "      <th>...</th>\n",
              "      <td>...</td>\n",
              "      <td>...</td>\n",
              "      <td>...</td>\n",
              "      <td>...</td>\n",
              "      <td>...</td>\n",
              "      <td>...</td>\n",
              "      <td>...</td>\n",
              "      <td>...</td>\n",
              "      <td>...</td>\n",
              "      <td>...</td>\n",
              "      <td>...</td>\n",
              "      <td>...</td>\n",
              "      <td>...</td>\n",
              "      <td>...</td>\n",
              "    </tr>\n",
              "    <tr>\n",
              "      <th>305</th>\n",
              "      <td>MA</td>\n",
              "      <td>2056</td>\n",
              "      <td>Male</td>\n",
              "      <td>Single</td>\n",
              "      <td>US Citizen</td>\n",
              "      <td>No</td>\n",
              "      <td>Asian</td>\n",
              "      <td>N/A - still employed</td>\n",
              "      <td>Active</td>\n",
              "      <td>IT/IS</td>\n",
              "      <td>Senior BI Developer</td>\n",
              "      <td>Brian Champaigne</td>\n",
              "      <td>Indeed</td>\n",
              "      <td>Fully Meets</td>\n",
              "    </tr>\n",
              "    <tr>\n",
              "      <th>306</th>\n",
              "      <td>MA</td>\n",
              "      <td>1887</td>\n",
              "      <td>Male</td>\n",
              "      <td>Single</td>\n",
              "      <td>US Citizen</td>\n",
              "      <td>No</td>\n",
              "      <td>Asian</td>\n",
              "      <td>N/A - still employed</td>\n",
              "      <td>Active</td>\n",
              "      <td>IT/IS</td>\n",
              "      <td>Senior BI Developer</td>\n",
              "      <td>Brian Champaigne</td>\n",
              "      <td>Indeed</td>\n",
              "      <td>Fully Meets</td>\n",
              "    </tr>\n",
              "    <tr>\n",
              "      <th>307</th>\n",
              "      <td>MA</td>\n",
              "      <td>2045</td>\n",
              "      <td>Male</td>\n",
              "      <td>Single</td>\n",
              "      <td>US Citizen</td>\n",
              "      <td>No</td>\n",
              "      <td>White</td>\n",
              "      <td>N/A - still employed</td>\n",
              "      <td>Active</td>\n",
              "      <td>IT/IS</td>\n",
              "      <td>BI Developer</td>\n",
              "      <td>Brian Champaigne</td>\n",
              "      <td>Indeed</td>\n",
              "      <td>Fully Meets</td>\n",
              "    </tr>\n",
              "    <tr>\n",
              "      <th>308</th>\n",
              "      <td>MA</td>\n",
              "      <td>2134</td>\n",
              "      <td>Male</td>\n",
              "      <td>Married</td>\n",
              "      <td>US Citizen</td>\n",
              "      <td>No</td>\n",
              "      <td>White</td>\n",
              "      <td>N/A - still employed</td>\n",
              "      <td>Active</td>\n",
              "      <td>IT/IS</td>\n",
              "      <td>BI Developer</td>\n",
              "      <td>Brian Champaigne</td>\n",
              "      <td>Indeed</td>\n",
              "      <td>Fully Meets</td>\n",
              "    </tr>\n",
              "    <tr>\n",
              "      <th>309</th>\n",
              "      <td>MA</td>\n",
              "      <td>2134</td>\n",
              "      <td>Male</td>\n",
              "      <td>Married</td>\n",
              "      <td>US Citizen</td>\n",
              "      <td>No</td>\n",
              "      <td>Black or African American</td>\n",
              "      <td>N/A - still employed</td>\n",
              "      <td>Active</td>\n",
              "      <td>IT/IS</td>\n",
              "      <td>BI Developer</td>\n",
              "      <td>Brian Champaigne</td>\n",
              "      <td>Indeed</td>\n",
              "      <td>Fully Meets</td>\n",
              "    </tr>\n",
              "  </tbody>\n",
              "</table>\n",
              "<p>310 rows × 14 columns</p>\n",
              "</div>"
            ],
            "text/plain": [
              "    State   Zip  ...         Employee Source         Performance Score\n",
              "0      MA  1450  ...      Diversity Job Fair               Fully Meets\n",
              "1      MA  1460  ...      Website Banner Ads               Fully Meets\n",
              "2      MA  2703  ...         Internet Search               Fully Meets\n",
              "3      MA  2170  ...  Pay Per Click - Google  N/A- too early to review\n",
              "4      MA  2330  ...      Website Banner Ads  N/A- too early to review\n",
              "..    ...   ...  ...                     ...                       ...\n",
              "305    MA  2056  ...                  Indeed               Fully Meets\n",
              "306    MA  1887  ...                  Indeed               Fully Meets\n",
              "307    MA  2045  ...                  Indeed               Fully Meets\n",
              "308    MA  2134  ...                  Indeed               Fully Meets\n",
              "309    MA  2134  ...                  Indeed               Fully Meets\n",
              "\n",
              "[310 rows x 14 columns]"
            ]
          },
          "metadata": {
            "tags": []
          },
          "execution_count": 23
        }
      ]
    },
    {
      "cell_type": "markdown",
      "metadata": {
        "id": "NBV2wj7RXNzK"
      },
      "source": [
        "### Reduce these categorical features down to two dimensions using MCA."
      ]
    },
    {
      "cell_type": "code",
      "metadata": {
        "id": "dqNk4Xp0XNzN",
        "colab": {
          "base_uri": "https://localhost:8080/",
          "height": 406
        },
        "outputId": "b516f9c2-64b1-420c-bbd8-fe59e920a270"
      },
      "source": [
        "mca = prince.MCA(n_components=2)\n",
        "mca.fit(df)\n",
        "coordinates = mca.transform(df)\n",
        "coordinates"
      ],
      "execution_count": 24,
      "outputs": [
        {
          "output_type": "execute_result",
          "data": {
            "text/html": [
              "<div>\n",
              "<style scoped>\n",
              "    .dataframe tbody tr th:only-of-type {\n",
              "        vertical-align: middle;\n",
              "    }\n",
              "\n",
              "    .dataframe tbody tr th {\n",
              "        vertical-align: top;\n",
              "    }\n",
              "\n",
              "    .dataframe thead th {\n",
              "        text-align: right;\n",
              "    }\n",
              "</style>\n",
              "<table border=\"1\" class=\"dataframe\">\n",
              "  <thead>\n",
              "    <tr style=\"text-align: right;\">\n",
              "      <th></th>\n",
              "      <th>0</th>\n",
              "      <th>1</th>\n",
              "    </tr>\n",
              "  </thead>\n",
              "  <tbody>\n",
              "    <tr>\n",
              "      <th>0</th>\n",
              "      <td>0.077838</td>\n",
              "      <td>0.161811</td>\n",
              "    </tr>\n",
              "    <tr>\n",
              "      <th>1</th>\n",
              "      <td>0.305601</td>\n",
              "      <td>0.180580</td>\n",
              "    </tr>\n",
              "    <tr>\n",
              "      <th>2</th>\n",
              "      <td>0.124963</td>\n",
              "      <td>0.273117</td>\n",
              "    </tr>\n",
              "    <tr>\n",
              "      <th>3</th>\n",
              "      <td>0.031085</td>\n",
              "      <td>0.082601</td>\n",
              "    </tr>\n",
              "    <tr>\n",
              "      <th>4</th>\n",
              "      <td>0.264602</td>\n",
              "      <td>0.075052</td>\n",
              "    </tr>\n",
              "    <tr>\n",
              "      <th>...</th>\n",
              "      <td>...</td>\n",
              "      <td>...</td>\n",
              "    </tr>\n",
              "    <tr>\n",
              "      <th>305</th>\n",
              "      <td>-0.010877</td>\n",
              "      <td>1.957181</td>\n",
              "    </tr>\n",
              "    <tr>\n",
              "      <th>306</th>\n",
              "      <td>-0.041177</td>\n",
              "      <td>1.611095</td>\n",
              "    </tr>\n",
              "    <tr>\n",
              "      <th>307</th>\n",
              "      <td>-0.009457</td>\n",
              "      <td>1.541834</td>\n",
              "    </tr>\n",
              "    <tr>\n",
              "      <th>308</th>\n",
              "      <td>-0.031924</td>\n",
              "      <td>1.736687</td>\n",
              "    </tr>\n",
              "    <tr>\n",
              "      <th>309</th>\n",
              "      <td>0.012057</td>\n",
              "      <td>1.771937</td>\n",
              "    </tr>\n",
              "  </tbody>\n",
              "</table>\n",
              "<p>310 rows × 2 columns</p>\n",
              "</div>"
            ],
            "text/plain": [
              "            0         1\n",
              "0    0.077838  0.161811\n",
              "1    0.305601  0.180580\n",
              "2    0.124963  0.273117\n",
              "3    0.031085  0.082601\n",
              "4    0.264602  0.075052\n",
              "..        ...       ...\n",
              "305 -0.010877  1.957181\n",
              "306 -0.041177  1.611095\n",
              "307 -0.009457  1.541834\n",
              "308 -0.031924  1.736687\n",
              "309  0.012057  1.771937\n",
              "\n",
              "[310 rows x 2 columns]"
            ]
          },
          "metadata": {
            "tags": []
          },
          "execution_count": 24
        }
      ]
    },
    {
      "cell_type": "markdown",
      "metadata": {
        "id": "HsQEr6OUXNzZ"
      },
      "source": [
        "### Plot the coordinates of each resulting dimension."
      ]
    },
    {
      "cell_type": "code",
      "metadata": {
        "id": "cvW_kz_aXNzb",
        "colab": {
          "base_uri": "https://localhost:8080/",
          "height": 513
        },
        "outputId": "6da72da2-cd8f-49d5-b446-ce338f816763"
      },
      "source": [
        "import matplotlib.pyplot as plt\n",
        "mca.plot_coordinates(\n",
        "    X=df,\n",
        "    ax=None,\n",
        "    figsize=(15,8),\n",
        "    row_points_size=5,\n",
        "    show_row_points=True,\n",
        "    show_row_labels=False,\n",
        "    show_column_points=True,\n",
        "    column_points_size=50,\n",
        "    show_column_labels=False,\n",
        ")\n",
        "plt.show()"
      ],
      "execution_count": 25,
      "outputs": [
        {
          "output_type": "display_data",
          "data": {
            "image/png": "[encoded data removed]",
            "text/plain": [
              "<Figure size 1080x576 with 1 Axes>"
            ]
          },
          "metadata": {
            "tags": [],
            "needs_background": "light"
          }
        }
      ]
    },
    {
      "cell_type": "markdown",
      "metadata": {
        "id": "dQXAUkuBXNzo"
      },
      "source": [
        "### One hot encode the categorical features and note the change in dimensions in the data set."
      ]
    },
    {
      "cell_type": "markdown",
      "metadata": {
        "id": "54aV6CLkXNzu"
      },
      "source": [
        "### Reduce the one hot encoded categorical features down to two dimensions using CA."
      ]
    },
    {
      "cell_type": "code",
      "metadata": {
        "scrolled": true,
        "id": "3LkdC1inXNzp",
        "colab": {
          "base_uri": "https://localhost:8080/",
          "height": 406
        },
        "outputId": "79c3a7b2-d7d9-4016-c235-6d7c2e5031ea"
      },
      "source": [
        "from sklearn.preprocessing import OneHotEncoder\n",
        "enc = OneHotEncoder(drop='first').fit_transform(cat)\n",
        "cat_ = enc.toarray()\n",
        "ca = prince.CA()\n",
        "ca.fit(cat_)\n",
        "coordinates = ca.transform(cat_)\n",
        "coordinates"
      ],
      "execution_count": 26,
      "outputs": [
        {
          "output_type": "execute_result",
          "data": {
            "text/html": [
              "<div>\n",
              "<style scoped>\n",
              "    .dataframe tbody tr th:only-of-type {\n",
              "        vertical-align: middle;\n",
              "    }\n",
              "\n",
              "    .dataframe tbody tr th {\n",
              "        vertical-align: top;\n",
              "    }\n",
              "\n",
              "    .dataframe thead th {\n",
              "        text-align: right;\n",
              "    }\n",
              "</style>\n",
              "<table border=\"1\" class=\"dataframe\">\n",
              "  <thead>\n",
              "    <tr style=\"text-align: right;\">\n",
              "      <th></th>\n",
              "      <th>0</th>\n",
              "      <th>1</th>\n",
              "    </tr>\n",
              "  </thead>\n",
              "  <tbody>\n",
              "    <tr>\n",
              "      <th>0</th>\n",
              "      <td>-0.004587</td>\n",
              "      <td>0.066400</td>\n",
              "    </tr>\n",
              "    <tr>\n",
              "      <th>1</th>\n",
              "      <td>0.359645</td>\n",
              "      <td>0.141649</td>\n",
              "    </tr>\n",
              "    <tr>\n",
              "      <th>2</th>\n",
              "      <td>0.022992</td>\n",
              "      <td>0.208034</td>\n",
              "    </tr>\n",
              "    <tr>\n",
              "      <th>3</th>\n",
              "      <td>-0.008558</td>\n",
              "      <td>-0.016735</td>\n",
              "    </tr>\n",
              "    <tr>\n",
              "      <th>4</th>\n",
              "      <td>0.269987</td>\n",
              "      <td>-0.012202</td>\n",
              "    </tr>\n",
              "    <tr>\n",
              "      <th>...</th>\n",
              "      <td>...</td>\n",
              "      <td>...</td>\n",
              "    </tr>\n",
              "    <tr>\n",
              "      <th>305</th>\n",
              "      <td>-0.164225</td>\n",
              "      <td>2.035709</td>\n",
              "    </tr>\n",
              "    <tr>\n",
              "      <th>306</th>\n",
              "      <td>-0.178933</td>\n",
              "      <td>1.649662</td>\n",
              "    </tr>\n",
              "    <tr>\n",
              "      <th>307</th>\n",
              "      <td>-0.137797</td>\n",
              "      <td>1.558383</td>\n",
              "    </tr>\n",
              "    <tr>\n",
              "      <th>308</th>\n",
              "      <td>-0.166425</td>\n",
              "      <td>1.756228</td>\n",
              "    </tr>\n",
              "    <tr>\n",
              "      <th>309</th>\n",
              "      <td>-0.118706</td>\n",
              "      <td>1.799142</td>\n",
              "    </tr>\n",
              "  </tbody>\n",
              "</table>\n",
              "<p>310 rows × 2 columns</p>\n",
              "</div>"
            ],
            "text/plain": [
              "            0         1\n",
              "0   -0.004587  0.066400\n",
              "1    0.359645  0.141649\n",
              "2    0.022992  0.208034\n",
              "3   -0.008558 -0.016735\n",
              "4    0.269987 -0.012202\n",
              "..        ...       ...\n",
              "305 -0.164225  2.035709\n",
              "306 -0.178933  1.649662\n",
              "307 -0.137797  1.558383\n",
              "308 -0.166425  1.756228\n",
              "309 -0.118706  1.799142\n",
              "\n",
              "[310 rows x 2 columns]"
            ]
          },
          "metadata": {
            "tags": []
          },
          "execution_count": 26
        }
      ]
    },
    {
      "cell_type": "markdown",
      "metadata": {
        "id": "guArCep0XNz7"
      },
      "source": [
        "### Plot the coordinates of each resulting dimension."
      ]
    },
    {
      "cell_type": "code",
      "metadata": {
        "colab": {
          "base_uri": "https://localhost:8080/",
          "height": 404
        },
        "id": "85HcJCBG2Z4d",
        "outputId": "53c0f16f-96bf-47ea-efe9-88a13e3314ca"
      },
      "source": [
        "ca.plot_coordinates(\n",
        "    X=cat_,\n",
        "    ax=None,\n",
        "    figsize=(14,6),\n",
        "    show_row_labels=False,\n",
        "    show_col_labels=False,\n",
        ")\n",
        "plt.show()"
      ],
      "execution_count": 27,
      "outputs": [
        {
          "output_type": "display_data",
          "data": {
            "image/png": "[encoded data removed]",
            "text/plain": [
              "<Figure size 1008x432 with 1 Axes>"
            ]
          },
          "metadata": {
            "tags": [],
            "needs_background": "light"
          }
        }
      ]
    },
    {
      "cell_type": "markdown",
      "metadata": {
        "id": "yyFpZ4iVXN0B"
      },
      "source": [
        "### Use FAMD to reduce the entire data set (both the categorical and numeric features) down to two dimensions."
      ]
    },
    {
      "cell_type": "code",
      "metadata": {
        "id": "wv4z5m8SXN0D"
      },
      "source": [
        "famd = prince.FAMD()\n",
        "famd.fit(data)\n",
        "coordinates = famd.transform(data)"
      ],
      "execution_count": 28,
      "outputs": []
    },
    {
      "cell_type": "markdown",
      "metadata": {
        "id": "VZeCO376XN0I"
      },
      "source": [
        "### Plot the coordinates of each resulting dimension, color-coding the plot points according to Employment Status."
      ]
    },
    {
      "cell_type": "code",
      "metadata": {
        "id": "Mqe5Eyo6XN0K",
        "colab": {
          "base_uri": "https://localhost:8080/",
          "height": 513
        },
        "outputId": "d361a491-e760-4f15-9be1-8cd91b1baaf6"
      },
      "source": [
        "famd.plot_row_coordinates(\n",
        "    data,\n",
        "    color_labels=data['Employment Status'],\n",
        "    ellipse_fill=True,\n",
        "    figsize=(16, 8)\n",
        ")\n",
        "plt.show()"
      ],
      "execution_count": 31,
      "outputs": [
        {
          "output_type": "display_data",
          "data": {
            "image/png": "[encoded data removed]",
            "text/plain": [
              "<Figure size 1152x576 with 1 Axes>"
            ]
          },
          "metadata": {
            "tags": [],
            "needs_background": "light"
          }
        }
      ]
    },
    {
      "cell_type": "code",
      "metadata": {
        "id": "SogT7QZt2rqG"
      },
      "source": [
        ""
      ],
      "execution_count": null,
      "outputs": []
    }
  ]
}