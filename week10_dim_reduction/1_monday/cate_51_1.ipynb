{
  "nbformat": 4,
  "nbformat_minor": 0,
  "metadata": {
    "kernelspec": {
      "display_name": "Python 3",
      "language": "python",
      "name": "python3"
    },
    "language_info": {
      "codemirror_mode": {
        "name": "ipython",
        "version": 3
      },
      "file_extension": ".py",
      "mimetype": "text/x-python",
      "name": "python",
      "nbconvert_exporter": "python",
      "pygments_lexer": "ipython3",
      "version": "3.7.6"
    },
    "colab": {
      "name": "cate_51_1.ipynb",
      "provenance": []
    }
  },
  "cells": [
    {
      "cell_type": "markdown",
      "metadata": {
        "id": "Dl7sU6r-kMdW"
      },
      "source": [
        "# Principal Component Analysis Assignment"
      ]
    },
    {
      "cell_type": "code",
      "metadata": {
        "id": "o-K7WD2akMdY"
      },
      "source": [
        "import numpy as np\n",
        "import pandas as pd\n",
        "\n",
        "from sklearn.decomposition import PCA\n",
        "from sklearn.ensemble import RandomForestClassifier\n",
        "from sklearn.model_selection import train_test_split\n",
        "from sklearn.preprocessing import StandardScaler\n",
        "\n",
        "import seaborn as sns\n",
        "import matplotlib.pyplot as plt\n",
        "\n",
        "%matplotlib inline"
      ],
      "execution_count": 80,
      "outputs": []
    },
    {
      "cell_type": "markdown",
      "metadata": {
        "id": "iMXplj9FkMdh"
      },
      "source": [
        "### Import the [PitchFX data set](https://docs.google.com/spreadsheets/d/1pmBtSw7v_tU_dIX1-4E8_Q7wC43fDs6LGDQzN49-ffk/export?format=csv)."
      ]
    },
    {
      "cell_type": "code",
      "metadata": {
        "id": "XrExc5-BkMdi"
      },
      "source": [
        "data = pd.read_csv('https://docs.google.com/spreadsheets/d/1pmBtSw7v_tU_dIX1-4E8_Q7wC43fDs6LGDQzN49-ffk/export?format=csv')"
      ],
      "execution_count": 81,
      "outputs": []
    },
    {
      "cell_type": "markdown",
      "metadata": {
        "id": "v1Da9H9SkMdm"
      },
      "source": [
        "### Keep only the pitch type and the numeric columns (exluding ID fields).\n",
        "\n",
        "* Drop any remaining records that contain null values.\n",
        "* Consider `pitchType` as `y`/target and the remaining columns to be `X`/features."
      ]
    },
    {
      "cell_type": "code",
      "metadata": {
        "colab": {
          "base_uri": "https://localhost:8080/"
        },
        "id": "9-3qYx1v3gxV",
        "outputId": "64b311f1-e021-44ec-a8c4-dadd36326261"
      },
      "source": [
        "df = data.select_dtypes(exclude='O')\n",
        "df['pitchType'] = data['pitchType']\n",
        "df.drop(['batterId', 'pitcherId', 'catcherId', 'umpireId'], axis=1, inplace=True)\n",
        "df.dropna(inplace=True)"
      ],
      "execution_count": 82,
      "outputs": [
        {
          "output_type": "stream",
          "text": [
            "/usr/local/lib/python3.6/dist-packages/ipykernel_launcher.py:2: SettingWithCopyWarning: \n",
            "A value is trying to be set on a copy of a slice from a DataFrame.\n",
            "Try using .loc[row_indexer,col_indexer] = value instead\n",
            "\n",
            "See the caveats in the documentation: https://pandas.pydata.org/pandas-docs/stable/user_guide/indexing.html#returning-a-view-versus-a-copy\n",
            "  \n",
            "/usr/local/lib/python3.6/dist-packages/pandas/core/frame.py:4174: SettingWithCopyWarning: \n",
            "A value is trying to be set on a copy of a slice from a DataFrame\n",
            "\n",
            "See the caveats in the documentation: https://pandas.pydata.org/pandas-docs/stable/user_guide/indexing.html#returning-a-view-versus-a-copy\n",
            "  errors=errors,\n",
            "/usr/local/lib/python3.6/dist-packages/ipykernel_launcher.py:4: SettingWithCopyWarning: \n",
            "A value is trying to be set on a copy of a slice from a DataFrame\n",
            "\n",
            "See the caveats in the documentation: https://pandas.pydata.org/pandas-docs/stable/user_guide/indexing.html#returning-a-view-versus-a-copy\n",
            "  after removing the cwd from sys.path.\n"
          ],
          "name": "stderr"
        }
      ]
    },
    {
      "cell_type": "code",
      "metadata": {
        "id": "_pIWO1dp589L"
      },
      "source": [
        "X = df.drop('pitchType', axis=1)\n",
        "y = df.pitchType"
      ],
      "execution_count": 83,
      "outputs": []
    },
    {
      "cell_type": "markdown",
      "metadata": {
        "id": "OG5KI6rokMdq"
      },
      "source": [
        "### Reduce the dimensionality of the data using PCA to two components.\n",
        "\n",
        "Don't forget to scale."
      ]
    },
    {
      "cell_type": "code",
      "metadata": {
        "id": "0q4zR46ekMdr"
      },
      "source": [
        "sc = StandardScaler()\n",
        "X_sc = sc.fit_transform(X)\n",
        "pca = PCA(n_components=2)\n",
        "pca_components = pca.fit_transform(X_sc)"
      ],
      "execution_count": 84,
      "outputs": []
    },
    {
      "cell_type": "markdown",
      "metadata": {
        "id": "t8robVz0kMdu"
      },
      "source": [
        "### Compute the explained variance for new data set."
      ]
    },
    {
      "cell_type": "code",
      "metadata": {
        "id": "vXoOSvKbkMdv",
        "colab": {
          "base_uri": "https://localhost:8080/"
        },
        "outputId": "aa4beb83-bd52-469b-935f-9edb5f8aaa41"
      },
      "source": [
        "exp_var = pca.explained_variance_\n",
        "print(exp_var)"
      ],
      "execution_count": 86,
      "outputs": [
        {
          "output_type": "stream",
          "text": [
            "[2.38765913 1.62385775]\n"
          ],
          "name": "stdout"
        }
      ]
    },
    {
      "cell_type": "markdown",
      "metadata": {
        "id": "qxawC8DrkMd1"
      },
      "source": [
        "### Generate a scatter plot that visualizes how the component values are distributed."
      ]
    },
    {
      "cell_type": "code",
      "metadata": {
        "colab": {
          "base_uri": "https://localhost:8080/",
          "height": 265
        },
        "id": "zxdVBadr76U4",
        "outputId": "771e5253-5c1e-4d6a-9b27-79bdb7b1bd64"
      },
      "source": [
        "plt.scatter(pca_components[:,0], pca_components[:,1])\n",
        "plt.show()"
      ],
      "execution_count": 87,
      "outputs": [
        {
          "output_type": "display_data",
          "data": {
            "image/png": "[encoded data removed]",
            "text/plain": [
              "<Figure size 432x288 with 1 Axes>"
            ]
          },
          "metadata": {
            "tags": [],
            "needs_background": "light"
          }
        }
      ]
    },
    {
      "cell_type": "markdown",
      "metadata": {
        "id": "tv6PFBWukMd5"
      },
      "source": [
        "### Create a line plot that shows the explained variance by number of components."
      ]
    },
    {
      "cell_type": "code",
      "metadata": {
        "id": "kEsUKRK3kMd1",
        "colab": {
          "base_uri": "https://localhost:8080/",
          "height": 279
        },
        "outputId": "dbaaa6e4-a06a-4058-a058-a2df012e7c72"
      },
      "source": [
        "plt.plot(exp_var, marker='o', markersize=8)\n",
        "plt.xlabel('number of components')\n",
        "plt.ylabel('explained variance')\n",
        "plt.show()"
      ],
      "execution_count": 100,
      "outputs": [
        {
          "output_type": "display_data",
          "data": {
            "image/png": "[encoded data removed]",
            "text/plain": [
              "<Figure size 432x288 with 1 Axes>"
            ]
          },
          "metadata": {
            "tags": [],
            "needs_background": "light"
          }
        }
      ]
    },
    {
      "cell_type": "markdown",
      "metadata": {
        "id": "jvKzrBEBkMd9"
      },
      "source": [
        "### Iteratively train and score a Random Forest Classifier (to predict `pitchType`).\n",
        "\n",
        "* In each iteration:\n",
        "    * Increase the number of principal components (start with `2`)\n",
        "    * Store the number of components and model score"
      ]
    },
    {
      "cell_type": "code",
      "metadata": {
        "id": "gAjfoq-ckMd-"
      },
      "source": [
        "model = RandomForestClassifier(max_depth=4, random_state=1)"
      ],
      "execution_count": 89,
      "outputs": []
    },
    {
      "cell_type": "code",
      "metadata": {
        "id": "3gyrJuR-kMeB",
        "colab": {
          "base_uri": "https://localhost:8080/"
        },
        "outputId": "7cf16e5c-889a-442c-d19d-c3183b7aed28"
      },
      "source": [
        "scores = []\n",
        "for i in range(2, 16):\n",
        "  pca = PCA(n_components=i)\n",
        "  pca_components = pca.fit_transform(X_sc)\n",
        "  rf = model.fit(pca_components, y)\n",
        "  scores.append(rf.score(pca_components, y))\n",
        "  print(f'Score for {i} components is: {rf.score(pca_components, y)}')"
      ],
      "execution_count": 97,
      "outputs": [
        {
          "output_type": "stream",
          "text": [
            "Score for 2 components is: 0.5532073225182319\n",
            "Score for 3 components is: 0.5491888673909808\n",
            "Score for 4 components is: 0.5606489060872154\n",
            "Score for 5 components is: 0.5634767078434291\n",
            "Score for 6 components is: 0.5611698169370442\n",
            "Score for 7 components is: 0.5520166691471945\n",
            "Score for 8 components is: 0.5628813811579104\n",
            "Score for 9 components is: 0.5909361512129782\n",
            "Score for 10 components is: 0.5773924691174281\n",
            "Score for 11 components is: 0.5696532222056854\n",
            "Score for 12 components is: 0.5638487870218782\n",
            "Score for 13 components is: 0.5503795207620181\n",
            "Score for 14 components is: 0.5456913231135586\n",
            "Score for 15 components is: 0.5642208662003274\n"
          ],
          "name": "stdout"
        }
      ]
    },
    {
      "cell_type": "markdown",
      "metadata": {
        "id": "n-wxVTKUkMeD"
      },
      "source": [
        "### Create a line plot that shows the training scores across the different numbers of principal components."
      ]
    },
    {
      "cell_type": "code",
      "metadata": {
        "id": "k8p_nUackMeE",
        "colab": {
          "base_uri": "https://localhost:8080/",
          "height": 279
        },
        "outputId": "5e06e836-6d9f-4351-ac77-e8143e30ab8b"
      },
      "source": [
        "plt.plot(range(2, 16), scores)\n",
        "plt.xlabel('number of components')\n",
        "plt.ylabel('model score')\n",
        "plt.show()"
      ],
      "execution_count": 104,
      "outputs": [
        {
          "output_type": "display_data",
          "data": {
            "image/png": "[encoded data removed]",
            "text/plain": [
              "<Figure size 432x288 with 1 Axes>"
            ]
          },
          "metadata": {
            "tags": [],
            "needs_background": "light"
          }
        }
      ]
    },
    {
      "cell_type": "markdown",
      "metadata": {
        "id": "4gMQsKHmkMeG"
      },
      "source": [
        "### Based on the analysis you conducted, what is the optimal number of principal components?"
      ]
    },
    {
      "cell_type": "markdown",
      "metadata": {
        "id": "tmGcmaR3kMeH"
      },
      "source": [
        "The model with 9 components had the best score, which suggests that 9 is the optimal number of components."
      ]
    }
  ]
}