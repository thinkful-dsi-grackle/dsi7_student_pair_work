{
  "nbformat": 4,
  "nbformat_minor": 0,
  "metadata": {
    "kernelspec": {
      "display_name": "Python 3",
      "language": "python",
      "name": "python3"
    },
    "language_info": {
      "codemirror_mode": {
        "name": "ipython",
        "version": 3
      },
      "file_extension": ".py",
      "mimetype": "text/x-python",
      "name": "python",
      "nbconvert_exporter": "python",
      "pygments_lexer": "ipython3",
      "version": "3.7.6"
    },
    "colab": {
      "name": "Copy of Day 51 Lecture 2 PCA Assignment.ipynb",
      "provenance": [],
      "collapsed_sections": []
    }
  },
  "cells": [
    {
      "cell_type": "markdown",
      "metadata": {
        "id": "Dl7sU6r-kMdW"
      },
      "source": [
        "# Principal Component Analysis Assignment"
      ]
    },
    {
      "cell_type": "code",
      "metadata": {
        "id": "o-K7WD2akMdY"
      },
      "source": [
        "import numpy as np\n",
        "import pandas as pd\n",
        "\n",
        "from sklearn.decomposition import PCA\n",
        "from sklearn.ensemble import RandomForestClassifier\n",
        "from sklearn.model_selection import train_test_split\n",
        "from sklearn.preprocessing import StandardScaler\n",
        "\n",
        "import seaborn as sns\n",
        "import matplotlib.pyplot as plt\n",
        "\n",
        "%matplotlib inline"
      ],
      "execution_count": 1,
      "outputs": []
    },
    {
      "cell_type": "markdown",
      "metadata": {
        "id": "iMXplj9FkMdh"
      },
      "source": [
        "### Import the [PitchFX data set](https://docs.google.com/spreadsheets/d/1pmBtSw7v_tU_dIX1-4E8_Q7wC43fDs6LGDQzN49-ffk/export?format=csv)."
      ]
    },
    {
      "cell_type": "code",
      "metadata": {
        "id": "XrExc5-BkMdi",
        "colab": {
          "base_uri": "https://localhost:8080/"
        },
        "outputId": "191a5053-b984-47ad-df24-74711d98b6f4"
      },
      "source": [
        "df = pd.read_csv('https://docs.google.com/spreadsheets/d/1pmBtSw7v_tU_dIX1-4E8_Q7wC43fDs6LGDQzN49-ffk/export?format=csv')\n",
        "df.info()"
      ],
      "execution_count": 2,
      "outputs": [
        {
          "output_type": "stream",
          "text": [
            "<class 'pandas.core.frame.DataFrame'>\n",
            "RangeIndex: 79931 entries, 0 to 79930\n",
            "Data columns (total 35 columns):\n",
            " #   Column              Non-Null Count  Dtype  \n",
            "---  ------              --------------  -----  \n",
            " 0   gameString          79931 non-null  object \n",
            " 1   gameDate            79931 non-null  object \n",
            " 2   visitor             79931 non-null  object \n",
            " 3   home                79931 non-null  object \n",
            " 4   inning              79931 non-null  int64  \n",
            " 5   side                79931 non-null  object \n",
            " 6   balls               79931 non-null  int64  \n",
            " 7   strikes             79931 non-null  int64  \n",
            " 8   outs                79931 non-null  int64  \n",
            " 9   batterId            79931 non-null  int64  \n",
            " 10  batterName          79931 non-null  object \n",
            " 11  batterHand          79931 non-null  object \n",
            " 12  batterPosition      79931 non-null  object \n",
            " 13  pitcherId           79931 non-null  int64  \n",
            " 14  pitcherName         79931 non-null  object \n",
            " 15  pitcherHand         79931 non-null  object \n",
            " 16  timesFaced          79931 non-null  int64  \n",
            " 17  catcherId           79931 non-null  int64  \n",
            " 18  catcher             79931 non-null  object \n",
            " 19  umpireId            79931 non-null  int64  \n",
            " 20  umpire              79931 non-null  object \n",
            " 21  probCalledStrike    79921 non-null  float64\n",
            " 22  pitchResult         79931 non-null  object \n",
            " 23  pitchType           79931 non-null  object \n",
            " 24  releaseVelocity     79931 non-null  float64\n",
            " 25  spinRate            73734 non-null  float64\n",
            " 26  spinDir             79620 non-null  float64\n",
            " 27  locationHoriz       79931 non-null  float64\n",
            " 28  locationVert        79931 non-null  float64\n",
            " 29  movementHoriz       79931 non-null  float64\n",
            " 30  movementVert        79931 non-null  float64\n",
            " 31  battedBallType      14499 non-null  object \n",
            " 32  battedBallAngle     14499 non-null  float64\n",
            " 33  battedBallDistance  14499 non-null  float64\n",
            " 34  paResult            20591 non-null  object \n",
            "dtypes: float64(10), int64(9), object(16)\n",
            "memory usage: 21.3+ MB\n"
          ],
          "name": "stdout"
        }
      ]
    },
    {
      "cell_type": "code",
      "metadata": {
        "id": "ygHwjwOD3kDN",
        "colab": {
          "base_uri": "https://localhost:8080/",
          "height": 317
        },
        "outputId": "a9beb3e8-6fb7-41ef-b587-d105823a1735"
      },
      "source": [
        "# I use describe to separate the numeric variables from objects\n",
        "df.describe()"
      ],
      "execution_count": 3,
      "outputs": [
        {
          "output_type": "execute_result",
          "data": {
            "text/html": [
              "<div>\n",
              "<style scoped>\n",
              "    .dataframe tbody tr th:only-of-type {\n",
              "        vertical-align: middle;\n",
              "    }\n",
              "\n",
              "    .dataframe tbody tr th {\n",
              "        vertical-align: top;\n",
              "    }\n",
              "\n",
              "    .dataframe thead th {\n",
              "        text-align: right;\n",
              "    }\n",
              "</style>\n",
              "<table border=\"1\" class=\"dataframe\">\n",
              "  <thead>\n",
              "    <tr style=\"text-align: right;\">\n",
              "      <th></th>\n",
              "      <th>inning</th>\n",
              "      <th>balls</th>\n",
              "      <th>strikes</th>\n",
              "      <th>outs</th>\n",
              "      <th>batterId</th>\n",
              "      <th>pitcherId</th>\n",
              "      <th>timesFaced</th>\n",
              "      <th>catcherId</th>\n",
              "      <th>umpireId</th>\n",
              "      <th>probCalledStrike</th>\n",
              "      <th>releaseVelocity</th>\n",
              "      <th>spinRate</th>\n",
              "      <th>spinDir</th>\n",
              "      <th>locationHoriz</th>\n",
              "      <th>locationVert</th>\n",
              "      <th>movementHoriz</th>\n",
              "      <th>movementVert</th>\n",
              "      <th>battedBallAngle</th>\n",
              "      <th>battedBallDistance</th>\n",
              "    </tr>\n",
              "  </thead>\n",
              "  <tbody>\n",
              "    <tr>\n",
              "      <th>count</th>\n",
              "      <td>79931.000000</td>\n",
              "      <td>79931.000000</td>\n",
              "      <td>79931.000000</td>\n",
              "      <td>79931.000000</td>\n",
              "      <td>79931.000000</td>\n",
              "      <td>79931.000000</td>\n",
              "      <td>79931.000000</td>\n",
              "      <td>79931.000000</td>\n",
              "      <td>79931.000000</td>\n",
              "      <td>79921.000000</td>\n",
              "      <td>79931.000000</td>\n",
              "      <td>73734.000000</td>\n",
              "      <td>79620.000000</td>\n",
              "      <td>79931.000000</td>\n",
              "      <td>79931.000000</td>\n",
              "      <td>79931.000000</td>\n",
              "      <td>79931.000000</td>\n",
              "      <td>14499.000000</td>\n",
              "      <td>14499.000000</td>\n",
              "    </tr>\n",
              "    <tr>\n",
              "      <th>mean</th>\n",
              "      <td>4.969649</td>\n",
              "      <td>0.877307</td>\n",
              "      <td>0.881235</td>\n",
              "      <td>0.980596</td>\n",
              "      <td>507785.111584</td>\n",
              "      <td>519154.623187</td>\n",
              "      <td>1.572919</td>\n",
              "      <td>496808.823585</td>\n",
              "      <td>449740.465914</td>\n",
              "      <td>0.471829</td>\n",
              "      <td>88.124128</td>\n",
              "      <td>2201.378164</td>\n",
              "      <td>182.118389</td>\n",
              "      <td>-0.021314</td>\n",
              "      <td>2.236719</td>\n",
              "      <td>-0.631383</td>\n",
              "      <td>4.943900</td>\n",
              "      <td>2.487668</td>\n",
              "      <td>204.409772</td>\n",
              "    </tr>\n",
              "    <tr>\n",
              "      <th>std</th>\n",
              "      <td>2.636662</td>\n",
              "      <td>0.963903</td>\n",
              "      <td>0.824691</td>\n",
              "      <td>0.814120</td>\n",
              "      <td>81404.451063</td>\n",
              "      <td>75568.779512</td>\n",
              "      <td>0.785469</td>\n",
              "      <td>68989.060380</td>\n",
              "      <td>35091.213532</td>\n",
              "      <td>0.426118</td>\n",
              "      <td>6.033272</td>\n",
              "      <td>318.365005</td>\n",
              "      <td>62.942123</td>\n",
              "      <td>0.868630</td>\n",
              "      <td>0.939513</td>\n",
              "      <td>6.279931</td>\n",
              "      <td>5.261177</td>\n",
              "      <td>27.697504</td>\n",
              "      <td>101.883735</td>\n",
              "    </tr>\n",
              "    <tr>\n",
              "      <th>min</th>\n",
              "      <td>1.000000</td>\n",
              "      <td>0.000000</td>\n",
              "      <td>0.000000</td>\n",
              "      <td>0.000000</td>\n",
              "      <td>112526.000000</td>\n",
              "      <td>112526.000000</td>\n",
              "      <td>0.000000</td>\n",
              "      <td>150229.000000</td>\n",
              "      <td>427013.000000</td>\n",
              "      <td>0.000000</td>\n",
              "      <td>43.100000</td>\n",
              "      <td>159.043000</td>\n",
              "      <td>0.009908</td>\n",
              "      <td>-4.494000</td>\n",
              "      <td>-2.907000</td>\n",
              "      <td>-17.110000</td>\n",
              "      <td>-16.210000</td>\n",
              "      <td>-176.380000</td>\n",
              "      <td>2.500000</td>\n",
              "    </tr>\n",
              "    <tr>\n",
              "      <th>25%</th>\n",
              "      <td>3.000000</td>\n",
              "      <td>0.000000</td>\n",
              "      <td>0.000000</td>\n",
              "      <td>0.000000</td>\n",
              "      <td>455117.000000</td>\n",
              "      <td>457918.000000</td>\n",
              "      <td>1.000000</td>\n",
              "      <td>455117.000000</td>\n",
              "      <td>427164.000000</td>\n",
              "      <td>0.005000</td>\n",
              "      <td>84.100000</td>\n",
              "      <td>2062.022500</td>\n",
              "      <td>145.225000</td>\n",
              "      <td>-0.620000</td>\n",
              "      <td>1.640000</td>\n",
              "      <td>-5.990000</td>\n",
              "      <td>2.140000</td>\n",
              "      <td>-20.550000</td>\n",
              "      <td>117.770000</td>\n",
              "    </tr>\n",
              "    <tr>\n",
              "      <th>50%</th>\n",
              "      <td>5.000000</td>\n",
              "      <td>1.000000</td>\n",
              "      <td>1.000000</td>\n",
              "      <td>1.000000</td>\n",
              "      <td>518466.000000</td>\n",
              "      <td>519144.000000</td>\n",
              "      <td>1.000000</td>\n",
              "      <td>489365.000000</td>\n",
              "      <td>427413.000000</td>\n",
              "      <td>0.424000</td>\n",
              "      <td>89.500000</td>\n",
              "      <td>2236.790000</td>\n",
              "      <td>195.501000</td>\n",
              "      <td>-0.013000</td>\n",
              "      <td>2.246000</td>\n",
              "      <td>-1.390000</td>\n",
              "      <td>6.020000</td>\n",
              "      <td>1.460000</td>\n",
              "      <td>212.680000</td>\n",
              "    </tr>\n",
              "    <tr>\n",
              "      <th>75%</th>\n",
              "      <td>7.000000</td>\n",
              "      <td>1.000000</td>\n",
              "      <td>2.000000</td>\n",
              "      <td>2.000000</td>\n",
              "      <td>571976.000000</td>\n",
              "      <td>592330.000000</td>\n",
              "      <td>2.000000</td>\n",
              "      <td>543228.000000</td>\n",
              "      <td>483561.000000</td>\n",
              "      <td>0.951000</td>\n",
              "      <td>92.700000</td>\n",
              "      <td>2396.830000</td>\n",
              "      <td>222.405500</td>\n",
              "      <td>0.582000</td>\n",
              "      <td>2.844000</td>\n",
              "      <td>4.470000</td>\n",
              "      <td>8.860000</td>\n",
              "      <td>25.845000</td>\n",
              "      <td>280.645000</td>\n",
              "    </tr>\n",
              "    <tr>\n",
              "      <th>max</th>\n",
              "      <td>14.000000</td>\n",
              "      <td>3.000000</td>\n",
              "      <td>2.000000</td>\n",
              "      <td>2.000000</td>\n",
              "      <td>666560.000000</td>\n",
              "      <td>664641.000000</td>\n",
              "      <td>4.000000</td>\n",
              "      <td>623143.000000</td>\n",
              "      <td>594151.000000</td>\n",
              "      <td>1.000000</td>\n",
              "      <td>105.000000</td>\n",
              "      <td>3472.370000</td>\n",
              "      <td>359.992000</td>\n",
              "      <td>3.970000</td>\n",
              "      <td>6.860000</td>\n",
              "      <td>20.420000</td>\n",
              "      <td>17.850000</td>\n",
              "      <td>178.210000</td>\n",
              "      <td>554.630000</td>\n",
              "    </tr>\n",
              "  </tbody>\n",
              "</table>\n",
              "</div>"
            ],
            "text/plain": [
              "             inning         balls  ...  battedBallAngle  battedBallDistance\n",
              "count  79931.000000  79931.000000  ...     14499.000000        14499.000000\n",
              "mean       4.969649      0.877307  ...         2.487668          204.409772\n",
              "std        2.636662      0.963903  ...        27.697504          101.883735\n",
              "min        1.000000      0.000000  ...      -176.380000            2.500000\n",
              "25%        3.000000      0.000000  ...       -20.550000          117.770000\n",
              "50%        5.000000      1.000000  ...         1.460000          212.680000\n",
              "75%        7.000000      1.000000  ...        25.845000          280.645000\n",
              "max       14.000000      3.000000  ...       178.210000          554.630000\n",
              "\n",
              "[8 rows x 19 columns]"
            ]
          },
          "metadata": {
            "tags": []
          },
          "execution_count": 3
        }
      ]
    },
    {
      "cell_type": "markdown",
      "metadata": {
        "id": "v1Da9H9SkMdm"
      },
      "source": [
        "### Keep only the pitch type and the numeric columns (exluding ID fields).\n",
        "\n",
        "* Drop any remaining records that contain null values.\n",
        "* Consider `pitchType` as `y`/target and the remaining columns to be `X`/features."
      ]
    },
    {
      "cell_type": "code",
      "metadata": {
        "id": "yoWXyJLWkMdm",
        "colab": {
          "base_uri": "https://localhost:8080/"
        },
        "outputId": "9b4e6e07-b052-4bdd-9605-0eeb9a24c753"
      },
      "source": [
        "#Since I could not find a more sophistaced way, I just copy pasted the numeric variable excluding the ids\n",
        "dff = df[['inning', 'balls', 'strikes', 'outs', 'probCalledStrike', 'timesFaced', 'releaseVelocity', 'spinRate', 'spinDir',\n",
        "          'locationHoriz', 'locationVert', 'movementHoriz', 'movementVert', 'battedBallAngle', 'battedBallDistance', 'pitchType']]\n",
        "dff.info()"
      ],
      "execution_count": 4,
      "outputs": [
        {
          "output_type": "stream",
          "text": [
            "<class 'pandas.core.frame.DataFrame'>\n",
            "RangeIndex: 79931 entries, 0 to 79930\n",
            "Data columns (total 16 columns):\n",
            " #   Column              Non-Null Count  Dtype  \n",
            "---  ------              --------------  -----  \n",
            " 0   inning              79931 non-null  int64  \n",
            " 1   balls               79931 non-null  int64  \n",
            " 2   strikes             79931 non-null  int64  \n",
            " 3   outs                79931 non-null  int64  \n",
            " 4   probCalledStrike    79921 non-null  float64\n",
            " 5   timesFaced          79931 non-null  int64  \n",
            " 6   releaseVelocity     79931 non-null  float64\n",
            " 7   spinRate            73734 non-null  float64\n",
            " 8   spinDir             79620 non-null  float64\n",
            " 9   locationHoriz       79931 non-null  float64\n",
            " 10  locationVert        79931 non-null  float64\n",
            " 11  movementHoriz       79931 non-null  float64\n",
            " 12  movementVert        79931 non-null  float64\n",
            " 13  battedBallAngle     14499 non-null  float64\n",
            " 14  battedBallDistance  14499 non-null  float64\n",
            " 15  pitchType           79931 non-null  object \n",
            "dtypes: float64(10), int64(5), object(1)\n",
            "memory usage: 9.8+ MB\n"
          ],
          "name": "stdout"
        }
      ]
    },
    {
      "cell_type": "code",
      "metadata": {
        "id": "RlPlA7695Bnq",
        "colab": {
          "base_uri": "https://localhost:8080/"
        },
        "outputId": "8196f719-bb1b-4dde-8670-67f375d0dab9"
      },
      "source": [
        "#I am checking the for null values\n",
        "dff.isnull().sum().loc[lambda x: x > 0]\n",
        "#I dropped variables wiht null values\n",
        "dff.drop(['probCalledStrike', 'spinRate', 'spinDir', 'battedBallAngle', 'battedBallDistance'], axis=1, inplace=True)"
      ],
      "execution_count": 5,
      "outputs": [
        {
          "output_type": "stream",
          "text": [
            "/usr/local/lib/python3.6/dist-packages/pandas/core/frame.py:4174: SettingWithCopyWarning: \n",
            "A value is trying to be set on a copy of a slice from a DataFrame\n",
            "\n",
            "See the caveats in the documentation: https://pandas.pydata.org/pandas-docs/stable/user_guide/indexing.html#returning-a-view-versus-a-copy\n",
            "  errors=errors,\n"
          ],
          "name": "stderr"
        }
      ]
    },
    {
      "cell_type": "code",
      "metadata": {
        "id": "voIbDyVG5lum",
        "colab": {
          "base_uri": "https://localhost:8080/"
        },
        "outputId": "3213a1d6-c45e-4240-c43a-580c11c88f1d"
      },
      "source": [
        "dff.info()\n",
        "#ended up ith exactly 10 variables, after 10 minutes of data cleaning "
      ],
      "execution_count": 6,
      "outputs": [
        {
          "output_type": "stream",
          "text": [
            "<class 'pandas.core.frame.DataFrame'>\n",
            "RangeIndex: 79931 entries, 0 to 79930\n",
            "Data columns (total 11 columns):\n",
            " #   Column           Non-Null Count  Dtype  \n",
            "---  ------           --------------  -----  \n",
            " 0   inning           79931 non-null  int64  \n",
            " 1   balls            79931 non-null  int64  \n",
            " 2   strikes          79931 non-null  int64  \n",
            " 3   outs             79931 non-null  int64  \n",
            " 4   timesFaced       79931 non-null  int64  \n",
            " 5   releaseVelocity  79931 non-null  float64\n",
            " 6   locationHoriz    79931 non-null  float64\n",
            " 7   locationVert     79931 non-null  float64\n",
            " 8   movementHoriz    79931 non-null  float64\n",
            " 9   movementVert     79931 non-null  float64\n",
            " 10  pitchType        79931 non-null  object \n",
            "dtypes: float64(5), int64(5), object(1)\n",
            "memory usage: 6.7+ MB\n"
          ],
          "name": "stdout"
        }
      ]
    },
    {
      "cell_type": "code",
      "metadata": {
        "id": "hR56BkKM7Rdv"
      },
      "source": [
        "#lastly create X and Y\n",
        "X = dff.drop('pitchType', axis=1)\n",
        "\n",
        "Y = dff.pitchType"
      ],
      "execution_count": 7,
      "outputs": []
    },
    {
      "cell_type": "markdown",
      "metadata": {
        "id": "OG5KI6rokMdq"
      },
      "source": [
        "### Reduce the dimensionality of the data using PCA to two components.\n",
        "\n",
        "Don't forget to scale."
      ]
    },
    {
      "cell_type": "code",
      "metadata": {
        "id": "0q4zR46ekMdr"
      },
      "source": [
        "#instiate scale\n",
        "scale = StandardScaler()\n",
        "#create new dataframe for scaled values, using same index and columns as original dataframe\n",
        "X_ = pd.DataFrame(\n",
        "    scale.fit_transform(X), index=X.index, columns=X.columns\n",
        ")"
      ],
      "execution_count": 8,
      "outputs": []
    },
    {
      "cell_type": "code",
      "metadata": {
        "id": "EynG-0Ne67CZ"
      },
      "source": [
        "pca = PCA(n_components=2)\n",
        "\n",
        "X_pca = pd.DataFrame(pca.fit_transform(X_), index=X_.index)"
      ],
      "execution_count": 9,
      "outputs": []
    },
    {
      "cell_type": "markdown",
      "metadata": {
        "id": "t8robVz0kMdu"
      },
      "source": [
        "### Compute the explained variance for new data set."
      ]
    },
    {
      "cell_type": "code",
      "metadata": {
        "id": "LRh0egDi9Ge2",
        "colab": {
          "base_uri": "https://localhost:8080/"
        },
        "outputId": "2137964b-7934-45a2-eb13-cc6ccb5a22ab"
      },
      "source": [
        "print(pca.explained_variance_)"
      ],
      "execution_count": 11,
      "outputs": [
        {
          "output_type": "stream",
          "text": [
            "[2.02793766 1.38269509]\n"
          ],
          "name": "stdout"
        }
      ]
    },
    {
      "cell_type": "code",
      "metadata": {
        "id": "HzxR0ZjB-yit",
        "colab": {
          "base_uri": "https://localhost:8080/"
        },
        "outputId": "2c58954f-071c-4eeb-ba6c-85fbcbac65d2"
      },
      "source": [
        "print(pca.components_)"
      ],
      "execution_count": 12,
      "outputs": [
        {
          "output_type": "stream",
          "text": [
            "[[-5.79888599e-03 -6.98660141e-02  8.30212661e-02  2.51087441e-02\n",
            "   1.24145762e-01 -6.13364600e-01  1.27493216e-01 -3.28454977e-01\n",
            "   3.36399747e-01 -5.98858789e-01]\n",
            " [ 1.38053189e-02  7.04427015e-01  7.03118374e-01  3.11882898e-02\n",
            "  -3.47063895e-02  4.98430199e-02  4.37559794e-02 -5.04538701e-02\n",
            "   9.71358456e-03  6.65901013e-04]]\n"
          ],
          "name": "stdout"
        }
      ]
    },
    {
      "cell_type": "code",
      "metadata": {
        "colab": {
          "base_uri": "https://localhost:8080/",
          "height": 419
        },
        "id": "HLvvcMrkCB85",
        "outputId": "858e6011-81a0-46c8-d59c-81a719c92abb"
      },
      "source": [
        "X_pca"
      ],
      "execution_count": 17,
      "outputs": [
        {
          "output_type": "execute_result",
          "data": {
            "text/html": [
              "<div>\n",
              "<style scoped>\n",
              "    .dataframe tbody tr th:only-of-type {\n",
              "        vertical-align: middle;\n",
              "    }\n",
              "\n",
              "    .dataframe tbody tr th {\n",
              "        vertical-align: top;\n",
              "    }\n",
              "\n",
              "    .dataframe thead th {\n",
              "        text-align: right;\n",
              "    }\n",
              "</style>\n",
              "<table border=\"1\" class=\"dataframe\">\n",
              "  <thead>\n",
              "    <tr style=\"text-align: right;\">\n",
              "      <th></th>\n",
              "      <th>0</th>\n",
              "      <th>1</th>\n",
              "    </tr>\n",
              "  </thead>\n",
              "  <tbody>\n",
              "    <tr>\n",
              "      <th>0</th>\n",
              "      <td>-1.767217</td>\n",
              "      <td>-1.439797</td>\n",
              "    </tr>\n",
              "    <tr>\n",
              "      <th>1</th>\n",
              "      <td>-1.881270</td>\n",
              "      <td>-0.543723</td>\n",
              "    </tr>\n",
              "    <tr>\n",
              "      <th>2</th>\n",
              "      <td>-1.534806</td>\n",
              "      <td>0.361475</td>\n",
              "    </tr>\n",
              "    <tr>\n",
              "      <th>3</th>\n",
              "      <td>-1.661333</td>\n",
              "      <td>-1.342050</td>\n",
              "    </tr>\n",
              "    <tr>\n",
              "      <th>4</th>\n",
              "      <td>-1.620792</td>\n",
              "      <td>-0.476940</td>\n",
              "    </tr>\n",
              "    <tr>\n",
              "      <th>...</th>\n",
              "      <td>...</td>\n",
              "      <td>...</td>\n",
              "    </tr>\n",
              "    <tr>\n",
              "      <th>79926</th>\n",
              "      <td>-1.024129</td>\n",
              "      <td>0.294293</td>\n",
              "    </tr>\n",
              "    <tr>\n",
              "      <th>79927</th>\n",
              "      <td>-1.453272</td>\n",
              "      <td>1.026143</td>\n",
              "    </tr>\n",
              "    <tr>\n",
              "      <th>79928</th>\n",
              "      <td>0.063950</td>\n",
              "      <td>1.846168</td>\n",
              "    </tr>\n",
              "    <tr>\n",
              "      <th>79929</th>\n",
              "      <td>-1.034333</td>\n",
              "      <td>1.949681</td>\n",
              "    </tr>\n",
              "    <tr>\n",
              "      <th>79930</th>\n",
              "      <td>-1.007553</td>\n",
              "      <td>1.914617</td>\n",
              "    </tr>\n",
              "  </tbody>\n",
              "</table>\n",
              "<p>79931 rows × 2 columns</p>\n",
              "</div>"
            ],
            "text/plain": [
              "              0         1\n",
              "0     -1.767217 -1.439797\n",
              "1     -1.881270 -0.543723\n",
              "2     -1.534806  0.361475\n",
              "3     -1.661333 -1.342050\n",
              "4     -1.620792 -0.476940\n",
              "...         ...       ...\n",
              "79926 -1.024129  0.294293\n",
              "79927 -1.453272  1.026143\n",
              "79928  0.063950  1.846168\n",
              "79929 -1.034333  1.949681\n",
              "79930 -1.007553  1.914617\n",
              "\n",
              "[79931 rows x 2 columns]"
            ]
          },
          "metadata": {
            "tags": []
          },
          "execution_count": 17
        }
      ]
    },
    {
      "cell_type": "markdown",
      "metadata": {
        "id": "qxawC8DrkMd1"
      },
      "source": [
        "### Generate a scatter plot that visualizes how the component values are distributed."
      ]
    },
    {
      "cell_type": "code",
      "metadata": {
        "id": "XoGTO2qrBtiR"
      },
      "source": [
        "pca_1 = X_pca.loc[:, 0]\n",
        "pca_2 = X_pca.loc[:, 1]"
      ],
      "execution_count": 18,
      "outputs": []
    },
    {
      "cell_type": "code",
      "metadata": {
        "colab": {
          "base_uri": "https://localhost:8080/",
          "height": 266
        },
        "id": "ICPPmtHiCecE",
        "outputId": "6e2789bd-2deb-471d-be0f-d165fe73120d"
      },
      "source": [
        "plt.scatter(pca_1, pca_2)\n",
        "plt.show()"
      ],
      "execution_count": 21,
      "outputs": [
        {
          "output_type": "display_data",
          "data": {
            "image/png": "[encoded data removed]",
            "text/plain": [
              "<Figure size 432x288 with 1 Axes>"
            ]
          },
          "metadata": {
            "tags": [],
            "needs_background": "light"
          }
        }
      ]
    },
    {
      "cell_type": "code",
      "metadata": {
        "id": "kEsUKRK3kMd1",
        "colab": {
          "base_uri": "https://localhost:8080/",
          "height": 86
        },
        "outputId": "0491d431-79c9-4afc-8c22-cdbd5de6d701"
      },
      "source": [
        "#This could be a good way to plot how the componenet values are distributed for a different assignment\n",
        "'''def draw_vector(v0, v1, ax=None):\n",
        "    ax = ax or plt.gca()\n",
        "    arrowprops=dict(arrowstyle='->',\n",
        "                    linewidth=2,\n",
        "                    shrinkA=0, shrinkB=0)\n",
        "    ax.annotate('', v1, v0, arrowprops=arrowprops)\n",
        "\n",
        "# plot data\n",
        "plt.scatter(X_pca.loc[:, 0], X_pca.loc[:, 1], alpha=0.2)\n",
        "for length, vector in zip(pca.explained_variance_, pca.components_):\n",
        "    v = vector * 3 * np.sqrt(length)\n",
        "    draw_vector(pca.mean_, pca.mean_ + v)\n",
        "plt.axis('equal');'''"
      ],
      "execution_count": 22,
      "outputs": [
        {
          "output_type": "execute_result",
          "data": {
            "application/vnd.google.colaboratory.intrinsic+json": {
              "type": "string"
            },
            "text/plain": [
              "\"def draw_vector(v0, v1, ax=None):\\n    ax = ax or plt.gca()\\n    arrowprops=dict(arrowstyle='->',\\n                    linewidth=2,\\n                    shrinkA=0, shrinkB=0)\\n    ax.annotate('', v1, v0, arrowprops=arrowprops)\\n\\n# plot data\\nplt.scatter(X_pca.loc[:, 0], X_pca.loc[:, 1], alpha=0.2)\\nfor length, vector in zip(pca.explained_variance_, pca.components_):\\n    v = vector * 3 * np.sqrt(length)\\n    draw_vector(pca.mean_, pca.mean_ + v)\\nplt.axis('equal');\""
            ]
          },
          "metadata": {
            "tags": []
          },
          "execution_count": 22
        }
      ]
    },
    {
      "cell_type": "markdown",
      "metadata": {
        "id": "tv6PFBWukMd5"
      },
      "source": [
        "### Create a line plot that shows the explained variance by number of components."
      ]
    },
    {
      "cell_type": "code",
      "metadata": {
        "id": "mNeShOrJkMd5",
        "colab": {
          "base_uri": "https://localhost:8080/",
          "height": 513
        },
        "outputId": "3d29ce8e-0359-4fd3-cb54-4c9d00de47b5"
      },
      "source": [
        "plt.plot([1, 2], pca.explained_variance_)\n",
        "plt.show()\n",
        "plt.plot(np.cumsum(pca.explained_variance_ratio_))\n",
        "plt.show()"
      ],
      "execution_count": 23,
      "outputs": [
        {
          "output_type": "display_data",
          "data": {
            "image/png": "[encoded data removed]",
            "text/plain": [
              "<Figure size 432x288 with 1 Axes>"
            ]
          },
          "metadata": {
            "tags": [],
            "needs_background": "light"
          }
        },
        {
          "output_type": "display_data",
          "data": {
            "image/png": "[encoded data removed]",
            "text/plain": [
              "<Figure size 432x288 with 1 Axes>"
            ]
          },
          "metadata": {
            "tags": [],
            "needs_background": "light"
          }
        }
      ]
    },
    {
      "cell_type": "markdown",
      "metadata": {
        "id": "jvKzrBEBkMd9"
      },
      "source": [
        "### Iteratively train and score a Random Forest Classifier (to predict `pitchType`).\n",
        "\n",
        "* In each iteration:\n",
        "    * Increase the number of principal components (start with `2`)\n",
        "    * Store the number of components and model score"
      ]
    },
    {
      "cell_type": "code",
      "metadata": {
        "id": "gAjfoq-ckMd-"
      },
      "source": [
        "model = RandomForestClassifier(max_depth=4, random_state=1)"
      ],
      "execution_count": 25,
      "outputs": []
    },
    {
      "cell_type": "code",
      "metadata": {
        "id": "3gyrJuR-kMeB"
      },
      "source": [
        "scores = []\n",
        "n_components = list(range(1, len(X.columns)))\n",
        "for i in n_components:\n",
        "    pca = PCA(n_components=i)\n",
        "    X_pca = pca.fit_transform(X_)\n",
        "    model.fit(X_pca, Y)\n",
        "    score = model.score(X_pca, Y)\n",
        "    scores.append(score)"
      ],
      "execution_count": 26,
      "outputs": []
    },
    {
      "cell_type": "markdown",
      "metadata": {
        "id": "n-wxVTKUkMeD"
      },
      "source": [
        "### Create a line plot that shows the training scores across the different numbers of principal components."
      ]
    },
    {
      "cell_type": "code",
      "metadata": {
        "id": "k8p_nUackMeE",
        "colab": {
          "base_uri": "https://localhost:8080/",
          "height": 497
        },
        "outputId": "1dc04d3b-bd94-4642-f9d2-5c6a1656e10c"
      },
      "source": [
        "plt.figure(figsize=(8, 8))\n",
        "plt.plot(n_components, scores)\n",
        "plt.xlabel(\"Number of Components\")\n",
        "plt.ylabel(\"Model Accuracy\")\n",
        "plt.show()"
      ],
      "execution_count": 27,
      "outputs": [
        {
          "output_type": "display_data",
          "data": {
            "image/png": "[encoded data removed]",
            "text/plain": [
              "<Figure size 576x576 with 1 Axes>"
            ]
          },
          "metadata": {
            "tags": [],
            "needs_background": "light"
          }
        }
      ]
    },
    {
      "cell_type": "markdown",
      "metadata": {
        "id": "4gMQsKHmkMeG"
      },
      "source": [
        "### Based on the analysis you conducted, what is the optimal number of principal components?"
      ]
    },
    {
      "cell_type": "code",
      "metadata": {
        "id": "tmGcmaR3kMeH"
      },
      "source": [
        "# There is only 4% differnce between 1 component and 9. That being said, in the graph 9 compnenet has the \n",
        "# highest explained variance. However, depending on the context, in a small dataset I would go with one or two \n",
        "# since they are almost as good as 9, meanwhile, in a large dataset if even 4% differnce make a great impact\n",
        "# on the outcome, then I would choose 9."
      ],
      "execution_count": 28,
      "outputs": []
    }
  ]
}