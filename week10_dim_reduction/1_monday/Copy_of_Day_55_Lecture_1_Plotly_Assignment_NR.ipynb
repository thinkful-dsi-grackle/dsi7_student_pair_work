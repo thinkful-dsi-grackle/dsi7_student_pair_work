{
  "nbformat": 4,
  "nbformat_minor": 0,
  "metadata": {
    "kernelspec": {
      "display_name": "Python 3",
      "language": "python",
      "name": "python3"
    },
    "language_info": {
      "codemirror_mode": {
        "name": "ipython",
        "version": 3
      },
      "file_extension": ".py",
      "mimetype": "text/x-python",
      "name": "python",
      "nbconvert_exporter": "python",
      "pygments_lexer": "ipython3",
      "version": "3.7.2"
    },
    "colab": {
      "name": "Copy of Day 55 Lecture 1 Plotly Assignment NR",
      "provenance": [],
      "collapsed_sections": []
    },
    "widgets": {
      "application/vnd.jupyter.widget-state+json": {
        "054a7254312f405382c98493e691cc19": {
          "model_module": "@jupyter-widgets/controls",
          "model_name": "VBoxModel",
          "state": {
            "_view_name": "VBoxView",
            "_dom_classes": [
              "widget-interact"
            ],
            "_model_name": "VBoxModel",
            "_view_module": "@jupyter-widgets/controls",
            "_model_module_version": "1.5.0",
            "_view_count": null,
            "_view_module_version": "1.5.0",
            "box_style": "",
            "layout": "IPY_MODEL_44896b39bd6a4dcda051649e5f4fdeff",
            "_model_module": "@jupyter-widgets/controls",
            "children": [
              "IPY_MODEL_4e62fe7994524fdb8b7cbce9adcda2fe",
              "IPY_MODEL_8fee2ac3d9304736836dd7e7fb90abc8"
            ]
          }
        },
        "44896b39bd6a4dcda051649e5f4fdeff": {
          "model_module": "@jupyter-widgets/base",
          "model_name": "LayoutModel",
          "state": {
            "_view_name": "LayoutView",
            "grid_template_rows": null,
            "right": null,
            "justify_content": null,
            "_view_module": "@jupyter-widgets/base",
            "overflow": null,
            "_model_module_version": "1.2.0",
            "_view_count": null,
            "flex_flow": null,
            "width": null,
            "min_width": null,
            "border": null,
            "align_items": null,
            "bottom": null,
            "_model_module": "@jupyter-widgets/base",
            "top": null,
            "grid_column": null,
            "overflow_y": null,
            "overflow_x": null,
            "grid_auto_flow": null,
            "grid_area": null,
            "grid_template_columns": null,
            "flex": null,
            "_model_name": "LayoutModel",
            "justify_items": null,
            "grid_row": null,
            "max_height": null,
            "align_content": null,
            "visibility": null,
            "align_self": null,
            "height": null,
            "min_height": null,
            "padding": null,
            "grid_auto_rows": null,
            "grid_gap": null,
            "max_width": null,
            "order": null,
            "_view_module_version": "1.2.0",
            "grid_template_areas": null,
            "object_position": null,
            "object_fit": null,
            "grid_auto_columns": null,
            "margin": null,
            "display": null,
            "left": null
          }
        },
        "4e62fe7994524fdb8b7cbce9adcda2fe": {
          "model_module": "@jupyter-widgets/controls",
          "model_name": "DropdownModel",
          "state": {
            "_options_labels": [
              "LotArea",
              "OverallQual",
              "OverallCond",
              "SalePrice"
            ],
            "_view_name": "DropdownView",
            "style": "IPY_MODEL_4aec47b357db4c65bc25b9dad531921e",
            "_dom_classes": [],
            "description": "Metric",
            "_model_name": "DropdownModel",
            "index": 0,
            "_view_module": "@jupyter-widgets/controls",
            "_model_module_version": "1.5.0",
            "_view_count": null,
            "disabled": false,
            "_view_module_version": "1.5.0",
            "description_tooltip": null,
            "_model_module": "@jupyter-widgets/controls",
            "layout": "IPY_MODEL_7f5ce2c9f73d458bad6919fb6fdb19ba"
          }
        },
        "8fee2ac3d9304736836dd7e7fb90abc8": {
          "model_module": "@jupyter-widgets/output",
          "model_name": "OutputModel",
          "state": {
            "_view_name": "OutputView",
            "msg_id": "",
            "_dom_classes": [],
            "_model_name": "OutputModel",
            "outputs": [
              {
                "output_type": "display_data",
                "metadata": {
                  "tags": []
                },
                "text/html": "<html>\n<head><meta charset=\"utf-8\" /></head>\n<body>\n    <div>\n            <script src=\"https://cdnjs.cloudflare.com/ajax/libs/mathjax/2.7.5/MathJax.js?config=TeX-AMS-MML_SVG\"></script><script type=\"text/javascript\">if (window.MathJax) {MathJax.Hub.Config({SVG: {font: \"STIX-Web\"}});}</script>\n                <script type=\"text/javascript\">window.PlotlyConfig = {MathJaxConfig: 'local'};</script>\n        <script src=\"https://cdn.plot.ly/plotly-latest.min.js\"></script>    \n            <div id=\"d58be127-d013-45fe-a1a0-d2ed12e56f39\" class=\"plotly-graph-div\" style=\"height:525px; width:100%;\"></div>\n            <script type=\"text/javascript\">\n                \n                    window.PLOTLYENV=window.PLOTLYENV || {};\n                    \n                if (document.getElementById(\"d58be127-d013-45fe-a1a0-d2ed12e56f39\")) {\n                    Plotly.newPlot(\n                        'd58be127-d013-45fe-a1a0-d2ed12e56f39',\n                        [{\"alignmentgroup\": \"True\", \"hoverlabel\": {\"namelength\": 0}, \"hovertemplate\": \"YrSold=2006<br>Cluster=%{x}<br>LotArea=%{y}\", \"legendgroup\": \"YrSold=2006\", \"marker\": {\"color\": \"#1F77B4\", \"line\": {\"color\": \"black\", \"width\": 1}}, \"name\": \"YrSold=2006\", \"offsetgroup\": \"YrSold=2006\", \"orientation\": \"v\", \"showlegend\": true, \"textposition\": \"auto\", \"type\": \"bar\", \"x\": [0, 1, 2, 3], \"xaxis\": \"x\", \"y\": [12762.382716049382, 6075.27027027027, 12385.29411764706, 8804.645454545454], \"yaxis\": \"y\"}, {\"alignmentgroup\": \"True\", \"hoverlabel\": {\"namelength\": 0}, \"hovertemplate\": \"YrSold=2007<br>Cluster=%{x}<br>LotArea=%{y}\", \"legendgroup\": \"YrSold=2007\", \"marker\": {\"color\": \"#FF7F0E\", \"line\": {\"color\": \"black\", \"width\": 1}}, \"name\": \"YrSold=2007\", \"offsetgroup\": \"YrSold=2007\", \"orientation\": \"v\", \"showlegend\": true, \"textposition\": \"auto\", \"type\": \"bar\", \"x\": [0, 1, 2, 3], \"xaxis\": \"x\", \"y\": [11669.91304347826, 6193.933333333333, 14333.185185185184, 9006.233870967742], \"yaxis\": \"y\"}, {\"alignmentgroup\": \"True\", \"hoverlabel\": {\"namelength\": 0}, \"hovertemplate\": \"YrSold=2008<br>Cluster=%{x}<br>LotArea=%{y}\", \"legendgroup\": \"YrSold=2008\", \"marker\": {\"color\": \"#2CA02C\", \"line\": {\"color\": \"black\", \"width\": 1}}, \"name\": \"YrSold=2008\", \"offsetgroup\": \"YrSold=2008\", \"orientation\": \"v\", \"showlegend\": true, \"textposition\": \"auto\", \"type\": \"bar\", \"x\": [0, 1, 2, 3], \"xaxis\": \"x\", \"y\": [11984.121951219513, 10147.916666666666, 11552.796875, 9260.655462184874], \"yaxis\": \"y\"}, {\"alignmentgroup\": \"True\", \"hoverlabel\": {\"namelength\": 0}, \"hovertemplate\": \"YrSold=2009<br>Cluster=%{x}<br>LotArea=%{y}\", \"legendgroup\": \"YrSold=2009\", \"marker\": {\"color\": \"#D62728\", \"line\": {\"color\": \"black\", \"width\": 1}}, \"name\": \"YrSold=2009\", \"offsetgroup\": \"YrSold=2009\", \"orientation\": \"v\", \"showlegend\": true, \"textposition\": \"auto\", \"type\": \"bar\", \"x\": [0, 1, 2, 3], \"xaxis\": \"x\", \"y\": [11489.818181818182, 4507.828571428571, 12936.393617021276, 9037.283333333333], \"yaxis\": \"y\"}, {\"alignmentgroup\": \"True\", \"hoverlabel\": {\"namelength\": 0}, \"hovertemplate\": \"YrSold=2010<br>Cluster=%{x}<br>LotArea=%{y}\", \"legendgroup\": \"YrSold=2010\", \"marker\": {\"color\": \"#9467BD\", \"line\": {\"color\": \"black\", \"width\": 1}}, \"name\": \"YrSold=2010\", \"offsetgroup\": \"YrSold=2010\", \"orientation\": \"v\", \"showlegend\": true, \"textposition\": \"auto\", \"type\": \"bar\", \"x\": [0, 1, 2, 3], \"xaxis\": \"x\", \"y\": [12276.864864864865, 5504.954545454545, 12222.690476190477, 9480.219178082192], \"yaxis\": \"y\"}],\n                        {\"barmode\": \"group\", \"legend\": {\"tracegroupgap\": 0}, \"template\": {\"data\": {\"scatter\": [{\"type\": \"scatter\"}]}}, \"title\": {\"text\": \"Avg. LotArea by Cluster and Year Sold\"}, \"xaxis\": {\"anchor\": \"y\", \"domain\": [0.0, 1.0], \"title\": {\"text\": \"Cluster\"}}, \"yaxis\": {\"anchor\": \"x\", \"domain\": [0.0, 1.0], \"title\": {\"text\": \"LotArea\"}}},\n                        {\"responsive\": true}\n                    ).then(function(){\n                            \nvar gd = document.getElementById('d58be127-d013-45fe-a1a0-d2ed12e56f39');\nvar x = new MutationObserver(function (mutations, observer) {{\n        var display = window.getComputedStyle(gd).display;\n        if (!display || display === 'none') {{\n            console.log([gd, 'removed!']);\n            Plotly.purge(gd);\n            observer.disconnect();\n        }}\n}});\n\n// Listen for the removal of the full notebook cells\nvar notebookContainer = gd.closest('#notebook-container');\nif (notebookContainer) {{\n    x.observe(notebookContainer, {childList: true});\n}}\n\n// Listen for the clearing of the current output cell\nvar outputEl = gd.closest('.output');\nif (outputEl) {{\n    x.observe(outputEl, {childList: true});\n}}\n\n                        })\n                };\n                \n            </script>\n        </div>\n</body>\n</html>"
              }
            ],
            "_view_module": "@jupyter-widgets/output",
            "_model_module_version": "1.0.0",
            "_view_count": null,
            "_view_module_version": "1.0.0",
            "layout": "IPY_MODEL_0fdacd0eb0db4fc5ae0d013f374b152d",
            "_model_module": "@jupyter-widgets/output"
          }
        },
        "4aec47b357db4c65bc25b9dad531921e": {
          "model_module": "@jupyter-widgets/controls",
          "model_name": "DescriptionStyleModel",
          "state": {
            "_view_name": "StyleView",
            "_model_name": "DescriptionStyleModel",
            "description_width": "",
            "_view_module": "@jupyter-widgets/base",
            "_model_module_version": "1.5.0",
            "_view_count": null,
            "_view_module_version": "1.2.0",
            "_model_module": "@jupyter-widgets/controls"
          }
        },
        "7f5ce2c9f73d458bad6919fb6fdb19ba": {
          "model_module": "@jupyter-widgets/base",
          "model_name": "LayoutModel",
          "state": {
            "_view_name": "LayoutView",
            "grid_template_rows": null,
            "right": null,
            "justify_content": null,
            "_view_module": "@jupyter-widgets/base",
            "overflow": null,
            "_model_module_version": "1.2.0",
            "_view_count": null,
            "flex_flow": null,
            "width": null,
            "min_width": null,
            "border": null,
            "align_items": null,
            "bottom": null,
            "_model_module": "@jupyter-widgets/base",
            "top": null,
            "grid_column": null,
            "overflow_y": null,
            "overflow_x": null,
            "grid_auto_flow": null,
            "grid_area": null,
            "grid_template_columns": null,
            "flex": null,
            "_model_name": "LayoutModel",
            "justify_items": null,
            "grid_row": null,
            "max_height": null,
            "align_content": null,
            "visibility": null,
            "align_self": null,
            "height": null,
            "min_height": null,
            "padding": null,
            "grid_auto_rows": null,
            "grid_gap": null,
            "max_width": null,
            "order": null,
            "_view_module_version": "1.2.0",
            "grid_template_areas": null,
            "object_position": null,
            "object_fit": null,
            "grid_auto_columns": null,
            "margin": null,
            "display": null,
            "left": null
          }
        },
        "0fdacd0eb0db4fc5ae0d013f374b152d": {
          "model_module": "@jupyter-widgets/base",
          "model_name": "LayoutModel",
          "state": {
            "_view_name": "LayoutView",
            "grid_template_rows": null,
            "right": null,
            "justify_content": null,
            "_view_module": "@jupyter-widgets/base",
            "overflow": null,
            "_model_module_version": "1.2.0",
            "_view_count": null,
            "flex_flow": null,
            "width": null,
            "min_width": null,
            "border": null,
            "align_items": null,
            "bottom": null,
            "_model_module": "@jupyter-widgets/base",
            "top": null,
            "grid_column": null,
            "overflow_y": null,
            "overflow_x": null,
            "grid_auto_flow": null,
            "grid_area": null,
            "grid_template_columns": null,
            "flex": null,
            "_model_name": "LayoutModel",
            "justify_items": null,
            "grid_row": null,
            "max_height": null,
            "align_content": null,
            "visibility": null,
            "align_self": null,
            "height": null,
            "min_height": null,
            "padding": null,
            "grid_auto_rows": null,
            "grid_gap": null,
            "max_width": null,
            "order": null,
            "_view_module_version": "1.2.0",
            "grid_template_areas": null,
            "object_position": null,
            "object_fit": null,
            "grid_auto_columns": null,
            "margin": null,
            "display": null,
            "left": null
          }
        },
        "0961f1d409da44619c7be9134275c80e": {
          "model_module": "@jupyter-widgets/controls",
          "model_name": "VBoxModel",
          "state": {
            "_view_name": "VBoxView",
            "_dom_classes": [
              "widget-interact"
            ],
            "_model_name": "VBoxModel",
            "_view_module": "@jupyter-widgets/controls",
            "_model_module_version": "1.5.0",
            "_view_count": null,
            "_view_module_version": "1.5.0",
            "box_style": "",
            "layout": "IPY_MODEL_9426d4cdbe1e43929dfd2ff88a8632e1",
            "_model_module": "@jupyter-widgets/controls",
            "children": [
              "IPY_MODEL_e4c0a25b3d1447d9baf54dd1a4a89093",
              "IPY_MODEL_23ca82cfe6574742a9d47a9fa01c2360"
            ]
          }
        },
        "9426d4cdbe1e43929dfd2ff88a8632e1": {
          "model_module": "@jupyter-widgets/base",
          "model_name": "LayoutModel",
          "state": {
            "_view_name": "LayoutView",
            "grid_template_rows": null,
            "right": null,
            "justify_content": null,
            "_view_module": "@jupyter-widgets/base",
            "overflow": null,
            "_model_module_version": "1.2.0",
            "_view_count": null,
            "flex_flow": null,
            "width": null,
            "min_width": null,
            "border": null,
            "align_items": null,
            "bottom": null,
            "_model_module": "@jupyter-widgets/base",
            "top": null,
            "grid_column": null,
            "overflow_y": null,
            "overflow_x": null,
            "grid_auto_flow": null,
            "grid_area": null,
            "grid_template_columns": null,
            "flex": null,
            "_model_name": "LayoutModel",
            "justify_items": null,
            "grid_row": null,
            "max_height": null,
            "align_content": null,
            "visibility": null,
            "align_self": null,
            "height": null,
            "min_height": null,
            "padding": null,
            "grid_auto_rows": null,
            "grid_gap": null,
            "max_width": null,
            "order": null,
            "_view_module_version": "1.2.0",
            "grid_template_areas": null,
            "object_position": null,
            "object_fit": null,
            "grid_auto_columns": null,
            "margin": null,
            "display": null,
            "left": null
          }
        },
        "e4c0a25b3d1447d9baf54dd1a4a89093": {
          "model_module": "@jupyter-widgets/controls",
          "model_name": "IntSliderModel",
          "state": {
            "_view_name": "IntSliderView",
            "style": "IPY_MODEL_13e616e0e498462b87e2a32d4d774190",
            "_dom_classes": [],
            "description": "YrSold",
            "step": 1,
            "_model_name": "IntSliderModel",
            "orientation": "horizontal",
            "max": 2010,
            "_view_module": "@jupyter-widgets/controls",
            "_model_module_version": "1.5.0",
            "value": 2008,
            "_view_count": null,
            "disabled": false,
            "_view_module_version": "1.5.0",
            "min": 2006,
            "continuous_update": true,
            "readout_format": "d",
            "description_tooltip": null,
            "readout": true,
            "_model_module": "@jupyter-widgets/controls",
            "layout": "IPY_MODEL_36ef3ca8d5394b9d8b50613472e4c52c"
          }
        },
        "23ca82cfe6574742a9d47a9fa01c2360": {
          "model_module": "@jupyter-widgets/output",
          "model_name": "OutputModel",
          "state": {
            "_view_name": "OutputView",
            "msg_id": "",
            "_dom_classes": [],
            "_model_name": "OutputModel",
            "outputs": [
              {
                "output_type": "display_data",
                "metadata": {
                  "tags": []
                },
                "text/html": "<html>\n<head><meta charset=\"utf-8\" /></head>\n<body>\n    <div>\n            <script src=\"https://cdnjs.cloudflare.com/ajax/libs/mathjax/2.7.5/MathJax.js?config=TeX-AMS-MML_SVG\"></script><script type=\"text/javascript\">if (window.MathJax) {MathJax.Hub.Config({SVG: {font: \"STIX-Web\"}});}</script>\n                <script type=\"text/javascript\">window.PlotlyConfig = {MathJaxConfig: 'local'};</script>\n        <script src=\"https://cdn.plot.ly/plotly-latest.min.js\"></script>    \n            <div id=\"7afcdfe9-8658-43ca-bf88-128dc86518ba\" class=\"plotly-graph-div\" style=\"height:525px; width:100%;\"></div>\n            <script type=\"text/javascript\">\n                \n                    window.PLOTLYENV=window.PLOTLYENV || {};\n                    \n                if (document.getElementById(\"7afcdfe9-8658-43ca-bf88-128dc86518ba\")) {\n                    Plotly.newPlot(\n                        '7afcdfe9-8658-43ca-bf88-128dc86518ba',\n                        [{\"hoverlabel\": {\"namelength\": 0}, \"hovertemplate\": \"Cluster=0<br>SalePrice=%{x}<br>LotArea=%{y}\", \"legendgroup\": \"Cluster=0\", \"marker\": {\"color\": \"#1F77B4\", \"line\": {\"color\": \"black\", \"width\": 1}, \"symbol\": \"circle\"}, \"mode\": \"markers\", \"name\": \"Cluster=0\", \"showlegend\": true, \"type\": \"scatter\", \"x\": [208500, 223500, 250000, 250000, 230000, 412500, 200000, 311500, 173000, 207500, 231500, 179500, 192000, 295000, 192000, 426000, 339750, 228000, 315000, 181000, 210000, 188700, 187000, 226700, 446261, 188000, 284000, 175000, 325000, 325000, 185900, 305000, 240000, 149000, 341000, 222500, 299800, 194500, 200000, 189000, 183000, 153900, 240000, 140000, 145900, 176000, 172000, 272000, 255900, 287000, 173000, 262280, 167900, 188000, 205000, 201800, 185000, 235000, 176000, 184000, 214000, 367294, 224900, 129500, 165400, 381000, 160000, 206900, 256000, 171000, 235000, 189000, 193000, 250000, 167500, 237500, 193000, 215000, 207000, 271000, 186500, 191000], \"xaxis\": \"x\", \"y\": [8450, 11250, 14260, 9375, 9066, 13688, 11426, 15660, 8366, 8791, 12435, 8400, 10005, 18386, 9042, 12474, 10800, 11228, 9200, 10839, 8750, 11988, 9291, 9803, 14948, 8924, 10625, 21872, 11198, 13500, 8320, 12244, 10800, 7200, 10542, 11404, 8963, 10832, 12798, 8199, 7226, 12665, 45600, 7056, 8777, 9900, 11075, 12227, 11250, 9240, 9130, 11839, 9760, 8000, 10480, 13700, 9120, 13728, 8029, 15384, 14598, 8769, 8158, 9600, 6931, 14100, 63887, 11075, 10440, 9247, 10316, 9842, 9179, 10625, 9735, 12925, 7415, 20544, 13053, 10944, 10261, 11526], \"yaxis\": \"y\"}, {\"hoverlabel\": {\"namelength\": 0}, \"hovertemplate\": \"Cluster=2<br>SalePrice=%{x}<br>LotArea=%{y}\", \"legendgroup\": \"Cluster=2\", \"marker\": {\"color\": \"#FF7F0E\", \"line\": {\"color\": \"black\", \"width\": 1}, \"symbol\": \"circle\"}, \"mode\": \"markers\", \"name\": \"Cluster=2\", \"showlegend\": true, \"type\": \"scatter\", \"x\": [129900, 230000, 179900, 180500, 245000, 174000, 372402, 163000, 184000, 171500, 210000, 175500, 241500, 207000, 214000, 266000, 134432, 191000, 206300, 162900, 256000, 208900, 161000, 175000, 185000, 142600, 221000, 155000, 350000, 193500, 196000, 189000, 180000, 264132, 227680, 271000, 385000, 166000, 157500, 250580, 328900, 193000, 242000, 159895, 232000, 191000, 287000, 293077, 180000, 81000, 136500, 179900, 235128, 224000, 163000, 392500, 301500, 190000, 155000, 179200, 135000, 275000, 174000, 394617], \"xaxis\": \"x\", \"y\": [6120, 9742, 11049, 10175, 10206, 10400, 13891, 10197, 12416, 10125, 8450, 12090, 39104, 8198, 9135, 8849, 17120, 9382, 7060, 6240, 53227, 13125, 9600, 10200, 21780, 13101, 12803, 10452, 10437, 8125, 4282, 4671, 5395, 14587, 12274, 13265, 14803, 11900, 10440, 8640, 5119, 8012, 27650, 3182, 11957, 3182, 15498, 9520, 11361, 18000, 8400, 9350, 11932, 14778, 9120, 5587, 14303, 9587, 8700, 7153, 9246, 3842, 8400, 12444], \"yaxis\": \"y\"}, {\"hoverlabel\": {\"namelength\": 0}, \"hovertemplate\": \"Cluster=1<br>SalePrice=%{x}<br>LotArea=%{y}\", \"legendgroup\": \"Cluster=1\", \"marker\": {\"color\": \"#2CA02C\", \"line\": {\"color\": \"black\", \"width\": 1}, \"symbol\": \"circle\"}, \"mode\": \"markers\", \"name\": \"Cluster=1\", \"showlegend\": true, \"type\": \"scatter\", \"x\": [118000, 153900, 127500, 286000, 149000, 106000, 89500, 135900, 324000, 228950, 154000, 245500, 85400, 81000, 148000, 115000, 106250, 107500, 140000, 146000, 151000, 168500, 274000, 173000, 141000, 179400, 144500, 100000, 125000, 160000, 108959, 171900, 181000, 163000, 136500, 149300], \"xaxis\": \"x\", \"y\": [7420, 7892, 10106, 4923, 4438, 1869, 1680, 5687, 10846, 164660, 2448, 14963, 1680, 1890, 3675, 2665, 10800, 7000, 4043, 3604, 1950, 9020, 12677, 2887, 4426, 2280, 4438, 1680, 10880, 2160, 12900, 4017, 4060, 10800, 4435, 4426], \"yaxis\": \"y\"}, {\"hoverlabel\": {\"namelength\": 0}, \"hovertemplate\": \"Cluster=3<br>SalePrice=%{x}<br>LotArea=%{y}\", \"legendgroup\": \"Cluster=3\", \"marker\": {\"color\": \"#D62728\", \"line\": {\"color\": \"black\", \"width\": 1}, \"symbol\": \"circle\"}, \"mode\": \"markers\", \"name\": \"Cluster=3\", \"showlegend\": true, \"type\": \"scatter\", \"x\": [129500, 144000, 157000, 159000, 68500, 40000, 149350, 82000, 130250, 124900, 135750, 127000, 115000, 136000, 141000, 235000, 79000, 162500, 127000, 141000, 145000, 98000, 97000, 73000, 120500, 89500, 95000, 145000, 165000, 119000, 108000, 115000, 177000, 113000, 139000, 109008, 79900, 118000, 98000, 161000, 155000, 184000, 128000, 111250, 125000, 112500, 108000, 118500, 131500, 130000, 79500, 138000, 110000, 105500, 67000, 85000, 98300, 135000, 145500, 137500, 140000, 109900, 52000, 157000, 135000, 142000, 160000, 128000, 107900, 110000, 109500, 139950, 144000, 130500, 140000, 174900, 147000, 116000, 135500, 165000, 176500, 175000, 135000, 178400, 149900, 135000, 176000, 145000, 145000, 130000, 140000, 119000, 139000, 80000, 116900, 120500, 171000, 119500, 140000, 134000, 147000, 127000, 130000, 151000, 177000, 147000, 72500, 55000, 130500, 155000, 122000, 110000, 165500, 91000, 120000, 124000, 142000, 140000, 147500], \"xaxis\": \"x\", \"y\": [11200, 12968, 10920, 13695, 6324, 8500, 8544, 6040, 9200, 7200, 8475, 8635, 6000, 9464, 7500, 13500, 9600, 11120, 7180, 12493, 8250, 5604, 12702, 5232, 6900, 7920, 9084, 9144, 9150, 8405, 10200, 10480, 15576, 21750, 9000, 8593, 5586, 12108, 4571, 5100, 7931, 9120, 6155, 12735, 8235, 6000, 13907, 8480, 12150, 10267, 9100, 6600, 7990, 7227, 8248, 8777, 7200, 10320, 10007, 10012, 9200, 7162, 4130, 10000, 8172, 6768, 12508, 6300, 6000, 7677, 6130, 7875, 9525, 11767, 12155, 9020, 10970, 8892, 16466, 13284, 11029, 15611, 7390, 12122, 8385, 21286, 7024, 9245, 11040, 9764, 13825, 9600, 7350, 9000, 5700, 5890, 9880, 6951, 7763, 8250, 8872, 7910, 8525, 9750, 11512, 12000, 6627, 3636, 6600, 13695, 5250, 9477, 9600, 6292, 6000, 9204, 10721, 10930, 9937], \"yaxis\": \"y\"}],\n                        {\"legend\": {\"tracegroupgap\": 0}, \"template\": {\"data\": {\"scatter\": [{\"type\": \"scatter\"}]}}, \"title\": {\"text\": \"Scatter Plot by Cluster\"}, \"xaxis\": {\"anchor\": \"y\", \"domain\": [0.0, 1.0], \"title\": {\"text\": \"SalePrice\"}}, \"yaxis\": {\"anchor\": \"x\", \"domain\": [0.0, 1.0], \"title\": {\"text\": \"LotArea\"}}},\n                        {\"responsive\": true}\n                    ).then(function(){\n                            \nvar gd = document.getElementById('7afcdfe9-8658-43ca-bf88-128dc86518ba');\nvar x = new MutationObserver(function (mutations, observer) {{\n        var display = window.getComputedStyle(gd).display;\n        if (!display || display === 'none') {{\n            console.log([gd, 'removed!']);\n            Plotly.purge(gd);\n            observer.disconnect();\n        }}\n}});\n\n// Listen for the removal of the full notebook cells\nvar notebookContainer = gd.closest('#notebook-container');\nif (notebookContainer) {{\n    x.observe(notebookContainer, {childList: true});\n}}\n\n// Listen for the clearing of the current output cell\nvar outputEl = gd.closest('.output');\nif (outputEl) {{\n    x.observe(outputEl, {childList: true});\n}}\n\n                        })\n                };\n                \n            </script>\n        </div>\n</body>\n</html>"
              }
            ],
            "_view_module": "@jupyter-widgets/output",
            "_model_module_version": "1.0.0",
            "_view_count": null,
            "_view_module_version": "1.0.0",
            "layout": "IPY_MODEL_2fe2fc572482491793d3efab03097993",
            "_model_module": "@jupyter-widgets/output"
          }
        },
        "13e616e0e498462b87e2a32d4d774190": {
          "model_module": "@jupyter-widgets/controls",
          "model_name": "SliderStyleModel",
          "state": {
            "_view_name": "StyleView",
            "handle_color": null,
            "_model_name": "SliderStyleModel",
            "description_width": "",
            "_view_module": "@jupyter-widgets/base",
            "_model_module_version": "1.5.0",
            "_view_count": null,
            "_view_module_version": "1.2.0",
            "_model_module": "@jupyter-widgets/controls"
          }
        },
        "36ef3ca8d5394b9d8b50613472e4c52c": {
          "model_module": "@jupyter-widgets/base",
          "model_name": "LayoutModel",
          "state": {
            "_view_name": "LayoutView",
            "grid_template_rows": null,
            "right": null,
            "justify_content": null,
            "_view_module": "@jupyter-widgets/base",
            "overflow": null,
            "_model_module_version": "1.2.0",
            "_view_count": null,
            "flex_flow": null,
            "width": null,
            "min_width": null,
            "border": null,
            "align_items": null,
            "bottom": null,
            "_model_module": "@jupyter-widgets/base",
            "top": null,
            "grid_column": null,
            "overflow_y": null,
            "overflow_x": null,
            "grid_auto_flow": null,
            "grid_area": null,
            "grid_template_columns": null,
            "flex": null,
            "_model_name": "LayoutModel",
            "justify_items": null,
            "grid_row": null,
            "max_height": null,
            "align_content": null,
            "visibility": null,
            "align_self": null,
            "height": null,
            "min_height": null,
            "padding": null,
            "grid_auto_rows": null,
            "grid_gap": null,
            "max_width": null,
            "order": null,
            "_view_module_version": "1.2.0",
            "grid_template_areas": null,
            "object_position": null,
            "object_fit": null,
            "grid_auto_columns": null,
            "margin": null,
            "display": null,
            "left": null
          }
        },
        "2fe2fc572482491793d3efab03097993": {
          "model_module": "@jupyter-widgets/base",
          "model_name": "LayoutModel",
          "state": {
            "_view_name": "LayoutView",
            "grid_template_rows": null,
            "right": null,
            "justify_content": null,
            "_view_module": "@jupyter-widgets/base",
            "overflow": null,
            "_model_module_version": "1.2.0",
            "_view_count": null,
            "flex_flow": null,
            "width": null,
            "min_width": null,
            "border": null,
            "align_items": null,
            "bottom": null,
            "_model_module": "@jupyter-widgets/base",
            "top": null,
            "grid_column": null,
            "overflow_y": null,
            "overflow_x": null,
            "grid_auto_flow": null,
            "grid_area": null,
            "grid_template_columns": null,
            "flex": null,
            "_model_name": "LayoutModel",
            "justify_items": null,
            "grid_row": null,
            "max_height": null,
            "align_content": null,
            "visibility": null,
            "align_self": null,
            "height": null,
            "min_height": null,
            "padding": null,
            "grid_auto_rows": null,
            "grid_gap": null,
            "max_width": null,
            "order": null,
            "_view_module_version": "1.2.0",
            "grid_template_areas": null,
            "object_position": null,
            "object_fit": null,
            "grid_auto_columns": null,
            "margin": null,
            "display": null,
            "left": null
          }
        }
      }
    }
  },
  "cells": [
    {
      "cell_type": "markdown",
      "metadata": {
        "id": "85QNyfDP6kAO"
      },
      "source": [
        "# Interactive Visualization Assignment (Plotly + IPyWidgets)"
      ]
    },
    {
      "cell_type": "code",
      "metadata": {
        "id": "QuHjLmJL6kAQ"
      },
      "source": [
        "import pandas as pd\n",
        "import plotly.express as px\n",
        "from ipywidgets import interact\n",
        "from sklearn.cluster import KMeans\n",
        "from sklearn.metrics import silhouette_score\n",
        "from sklearn.preprocessing import MaxAbsScaler"
      ],
      "execution_count": 1,
      "outputs": []
    },
    {
      "cell_type": "markdown",
      "metadata": {
        "id": "Ycj6XSuQ6rlg"
      },
      "source": [
        "The following makes your colab session act more like a jupyter notebook for displaying plotly and ipywidgets objects correctly. If you are using jupyter, comment it out. (It needs to be called at the top of every cell that outputs a plot that uses widgets.)\n",
        "\n",
        "```\n",
        "configure_plotly_browser_state()\n",
        "```\n",
        "\n",
        "From [this StackOverflow answer](https://stackoverflow.com/a/47230966)."
      ]
    },
    {
      "cell_type": "code",
      "metadata": {
        "id": "8lDldVRc6rxh"
      },
      "source": [
        "def configure_plotly_browser_state():\n",
        "  import IPython\n",
        "  display(IPython.core.display.HTML('''\n",
        "        <script src=\"/static/components/requirejs/require.js\"></script>\n",
        "        <script>\n",
        "          requirejs.config({\n",
        "            paths: {\n",
        "              base: '/static/base',\n",
        "              plotly: 'https://cdn.plot.ly/plotly-latest.min.js?noext',\n",
        "            },\n",
        "          });\n",
        "        </script>\n",
        "        '''))\n",
        "  from plotly.offline import init_notebook_mode\n",
        "  init_notebook_mode(connected=False)"
      ],
      "execution_count": 3,
      "outputs": []
    },
    {
      "cell_type": "markdown",
      "metadata": {
        "id": "FaxmDRt96kAV"
      },
      "source": [
        "### Import the housing.csv data set."
      ]
    },
    {
      "cell_type": "code",
      "metadata": {
        "id": "ELqjL7nu6kAV",
        "colab": {
          "base_uri": "https://localhost:8080/"
        },
        "outputId": "abce920f-5276-42e5-a643-3cd24be3080f"
      },
      "source": [
        "data = pd.read_csv(\"https://tf-assets-prod.s3.amazonaws.com/tf-curric/data-science/housing.csv\")\n",
        "data.shape\n"
      ],
      "execution_count": 4,
      "outputs": [
        {
          "output_type": "execute_result",
          "data": {
            "text/plain": [
              "(1460, 81)"
            ]
          },
          "metadata": {
            "tags": []
          },
          "execution_count": 4
        }
      ]
    },
    {
      "cell_type": "markdown",
      "metadata": {
        "id": "wZrjKcWo6kAZ"
      },
      "source": [
        "### Separate out all the numeric fields into their own data set.\n",
        "\n",
        "Remove the Id field as it should be categorical and the GarageYrBlt and LotFrontage fields that contains many nulls. Drop any remaining nulls, but only for fields that are numeric. Hint: use subset. Then create a new dataframe with only the numeric fields in it."
      ]
    },
    {
      "cell_type": "code",
      "metadata": {
        "id": "tDmE1NbV6kAZ"
      },
      "source": [
        "numeric = data.select_dtypes(include='number')\n",
        "numeric = numeric.drop(['Id', 'GarageYrBlt', 'LotFrontage'], axis=1)\n",
        "numeric.dropna(inplace=True)"
      ],
      "execution_count": 5,
      "outputs": []
    },
    {
      "cell_type": "markdown",
      "metadata": {
        "id": "6b9E9bu06kAe"
      },
      "source": [
        "### Normalize the numeric data using Scikit-Learn's MaxAbsScaler."
      ]
    },
    {
      "cell_type": "code",
      "metadata": {
        "id": "q84A-Gc_6kAe"
      },
      "source": [
        "scale = MaxAbsScaler()\n",
        "X_scale = pd.DataFrame(scale.fit_transform(numeric), columns=numeric.columns)"
      ],
      "execution_count": 6,
      "outputs": []
    },
    {
      "cell_type": "markdown",
      "metadata": {
        "id": "NQHJQ5h06kAi"
      },
      "source": [
        "### Iteratively K-Means cluster the normalized data and generate an interactive line chart showing the average silhouette score for each number of clusters (2 through 20)."
      ]
    },
    {
      "cell_type": "code",
      "metadata": {
        "id": "9x63mgre6kAj"
      },
      "source": [
        "n_clusters = range(2,21)\n",
        "scores = []\n",
        "for i in n_clusters:\n",
        "    kmeans = KMeans(n_clusters=i)\n",
        "    clusters = kmeans.fit_predict(X_scale)\n",
        "    score = silhouette_score(X_scale, clusters)\n",
        "    scores.append(score)"
      ],
      "execution_count": 7,
      "outputs": []
    },
    {
      "cell_type": "code",
      "metadata": {
        "id": "SA_LIj2PgoKL"
      },
      "source": [
        "scores_list = pd.DataFrame(columns=['Clusters', 'Silhouette score'])\n",
        "scores_list['Clusters'] = n_clusters\n",
        "scores_list['Silhouette score'] = scores"
      ],
      "execution_count": 8,
      "outputs": []
    },
    {
      "cell_type": "code",
      "metadata": {
        "colab": {
          "base_uri": "https://localhost:8080/",
          "height": 542
        },
        "id": "LA_GJHMRgsYF",
        "outputId": "477da1e1-d9da-45c4-cdc8-74f71237ddaf"
      },
      "source": [
        "fig = px.line(\n",
        "    scores_list, \n",
        "    x='Clusters', \n",
        "    y='Silhouette score', \n",
        "    title='Avg. Silhouette score per k Cluster',\n",
        "    template='none'\n",
        ")\n",
        "fig.show()"
      ],
      "execution_count": 9,
      "outputs": [
        {
          "output_type": "display_data",
          "data": {
            "text/html": [
              "<html>\n",
              "<head><meta charset=\"utf-8\" /></head>\n",
              "<body>\n",
              "    <div>\n",
              "            <script src=\"https://cdnjs.cloudflare.com/ajax/libs/mathjax/2.7.5/MathJax.js?config=TeX-AMS-MML_SVG\"></script><script type=\"text/javascript\">if (window.MathJax) {MathJax.Hub.Config({SVG: {font: \"STIX-Web\"}});}</script>\n",
              "                <script type=\"text/javascript\">window.PlotlyConfig = {MathJaxConfig: 'local'};</script>\n",
              "        <script src=\"https://cdn.plot.ly/plotly-latest.min.js\"></script>    \n",
              "            <div id=\"7e2f37e6-5844-4550-9d1e-2a08f727f7c7\" class=\"plotly-graph-div\" style=\"height:525px; width:100%;\"></div>\n",
              "            <script type=\"text/javascript\">\n",
              "                \n",
              "                    window.PLOTLYENV=window.PLOTLYENV || {};\n",
              "                    \n",
              "                if (document.getElementById(\"7e2f37e6-5844-4550-9d1e-2a08f727f7c7\")) {\n",
              "                    Plotly.newPlot(\n",
              "                        '7e2f37e6-5844-4550-9d1e-2a08f727f7c7',\n",
              "                        [{\"hoverlabel\": {\"namelength\": 0}, \"hovertemplate\": \"Clusters=%{x}<br>Silhouette score=%{y}\", \"legendgroup\": \"\", \"line\": {\"color\": \"#1F77B4\", \"dash\": \"solid\"}, \"mode\": \"lines\", \"name\": \"\", \"showlegend\": false, \"type\": \"scatter\", \"x\": [2, 3, 4, 5, 6, 7, 8, 9, 10, 11, 12, 13, 14, 15, 16, 17, 18, 19, 20], \"xaxis\": \"x\", \"y\": [0.17299188211517016, 0.1532175922200456, 0.15865258491589343, 0.15182133106128945, 0.14721302456847957, 0.1408084122113742, 0.13762636372407727, 0.11541706901986698, 0.11609683469951712, 0.11344743216098416, 0.10191707837968828, 0.10116185109229235, 0.10255725907016879, 0.10767104236085176, 0.10893322857690099, 0.10228787048914462, 0.09415035122936824, 0.10148848430497252, 0.08963727847638679], \"yaxis\": \"y\"}],\n",
              "                        {\"legend\": {\"tracegroupgap\": 0}, \"template\": {\"data\": {\"scatter\": [{\"type\": \"scatter\"}]}}, \"title\": {\"text\": \"Avg. Silhouette score per k Cluster\"}, \"xaxis\": {\"anchor\": \"y\", \"domain\": [0.0, 1.0], \"title\": {\"text\": \"Clusters\"}}, \"yaxis\": {\"anchor\": \"x\", \"domain\": [0.0, 1.0], \"title\": {\"text\": \"Silhouette score\"}}},\n",
              "                        {\"responsive\": true}\n",
              "                    ).then(function(){\n",
              "                            \n",
              "var gd = document.getElementById('7e2f37e6-5844-4550-9d1e-2a08f727f7c7');\n",
              "var x = new MutationObserver(function (mutations, observer) {{\n",
              "        var display = window.getComputedStyle(gd).display;\n",
              "        if (!display || display === 'none') {{\n",
              "            console.log([gd, 'removed!']);\n",
              "            Plotly.purge(gd);\n",
              "            observer.disconnect();\n",
              "        }}\n",
              "}});\n",
              "\n",
              "// Listen for the removal of the full notebook cells\n",
              "var notebookContainer = gd.closest('#notebook-container');\n",
              "if (notebookContainer) {{\n",
              "    x.observe(notebookContainer, {childList: true});\n",
              "}}\n",
              "\n",
              "// Listen for the clearing of the current output cell\n",
              "var outputEl = gd.closest('.output');\n",
              "if (outputEl) {{\n",
              "    x.observe(outputEl, {childList: true});\n",
              "}}\n",
              "\n",
              "                        })\n",
              "                };\n",
              "                \n",
              "            </script>\n",
              "        </div>\n",
              "</body>\n",
              "</html>"
            ]
          },
          "metadata": {
            "tags": []
          }
        }
      ]
    },
    {
      "cell_type": "markdown",
      "metadata": {
        "id": "ktx-aW4S6kAm"
      },
      "source": [
        "### Choose a number of clusters, run KMeans with that value for k on the scaled data, and add a column to the original housing data set containing the cluster that each record is assigned to."
      ]
    },
    {
      "cell_type": "code",
      "metadata": {
        "id": "ZEtpL4hY6kAm",
        "colab": {
          "base_uri": "https://localhost:8080/",
          "height": 224
        },
        "outputId": "23804b80-3b1c-48f1-8c09-722bf47edcdc"
      },
      "source": [
        "kmeans = KMeans(n_clusters=4)\n",
        "\n",
        "\n",
        "numeric['Cluster'] = kmeans.fit_predict(X_scale)\n",
        "numeric.head()"
      ],
      "execution_count": 10,
      "outputs": [
        {
          "output_type": "execute_result",
          "data": {
            "text/html": [
              "<div>\n",
              "<style scoped>\n",
              "    .dataframe tbody tr th:only-of-type {\n",
              "        vertical-align: middle;\n",
              "    }\n",
              "\n",
              "    .dataframe tbody tr th {\n",
              "        vertical-align: top;\n",
              "    }\n",
              "\n",
              "    .dataframe thead th {\n",
              "        text-align: right;\n",
              "    }\n",
              "</style>\n",
              "<table border=\"1\" class=\"dataframe\">\n",
              "  <thead>\n",
              "    <tr style=\"text-align: right;\">\n",
              "      <th></th>\n",
              "      <th>MSSubClass</th>\n",
              "      <th>LotArea</th>\n",
              "      <th>OverallQual</th>\n",
              "      <th>OverallCond</th>\n",
              "      <th>YearBuilt</th>\n",
              "      <th>YearRemodAdd</th>\n",
              "      <th>MasVnrArea</th>\n",
              "      <th>BsmtFinSF1</th>\n",
              "      <th>BsmtFinSF2</th>\n",
              "      <th>BsmtUnfSF</th>\n",
              "      <th>TotalBsmtSF</th>\n",
              "      <th>1stFlrSF</th>\n",
              "      <th>2ndFlrSF</th>\n",
              "      <th>LowQualFinSF</th>\n",
              "      <th>GrLivArea</th>\n",
              "      <th>BsmtFullBath</th>\n",
              "      <th>BsmtHalfBath</th>\n",
              "      <th>FullBath</th>\n",
              "      <th>HalfBath</th>\n",
              "      <th>BedroomAbvGr</th>\n",
              "      <th>KitchenAbvGr</th>\n",
              "      <th>TotRmsAbvGrd</th>\n",
              "      <th>Fireplaces</th>\n",
              "      <th>GarageCars</th>\n",
              "      <th>GarageArea</th>\n",
              "      <th>WoodDeckSF</th>\n",
              "      <th>OpenPorchSF</th>\n",
              "      <th>EnclosedPorch</th>\n",
              "      <th>3SsnPorch</th>\n",
              "      <th>ScreenPorch</th>\n",
              "      <th>PoolArea</th>\n",
              "      <th>MiscVal</th>\n",
              "      <th>MoSold</th>\n",
              "      <th>YrSold</th>\n",
              "      <th>SalePrice</th>\n",
              "      <th>Cluster</th>\n",
              "    </tr>\n",
              "  </thead>\n",
              "  <tbody>\n",
              "    <tr>\n",
              "      <th>0</th>\n",
              "      <td>60</td>\n",
              "      <td>8450</td>\n",
              "      <td>7</td>\n",
              "      <td>5</td>\n",
              "      <td>2003</td>\n",
              "      <td>2003</td>\n",
              "      <td>196.0</td>\n",
              "      <td>706</td>\n",
              "      <td>0</td>\n",
              "      <td>150</td>\n",
              "      <td>856</td>\n",
              "      <td>856</td>\n",
              "      <td>854</td>\n",
              "      <td>0</td>\n",
              "      <td>1710</td>\n",
              "      <td>1</td>\n",
              "      <td>0</td>\n",
              "      <td>2</td>\n",
              "      <td>1</td>\n",
              "      <td>3</td>\n",
              "      <td>1</td>\n",
              "      <td>8</td>\n",
              "      <td>0</td>\n",
              "      <td>2</td>\n",
              "      <td>548</td>\n",
              "      <td>0</td>\n",
              "      <td>61</td>\n",
              "      <td>0</td>\n",
              "      <td>0</td>\n",
              "      <td>0</td>\n",
              "      <td>0</td>\n",
              "      <td>0</td>\n",
              "      <td>2</td>\n",
              "      <td>2008</td>\n",
              "      <td>208500</td>\n",
              "      <td>0</td>\n",
              "    </tr>\n",
              "    <tr>\n",
              "      <th>1</th>\n",
              "      <td>20</td>\n",
              "      <td>9600</td>\n",
              "      <td>6</td>\n",
              "      <td>8</td>\n",
              "      <td>1976</td>\n",
              "      <td>1976</td>\n",
              "      <td>0.0</td>\n",
              "      <td>978</td>\n",
              "      <td>0</td>\n",
              "      <td>284</td>\n",
              "      <td>1262</td>\n",
              "      <td>1262</td>\n",
              "      <td>0</td>\n",
              "      <td>0</td>\n",
              "      <td>1262</td>\n",
              "      <td>0</td>\n",
              "      <td>1</td>\n",
              "      <td>2</td>\n",
              "      <td>0</td>\n",
              "      <td>3</td>\n",
              "      <td>1</td>\n",
              "      <td>6</td>\n",
              "      <td>1</td>\n",
              "      <td>2</td>\n",
              "      <td>460</td>\n",
              "      <td>298</td>\n",
              "      <td>0</td>\n",
              "      <td>0</td>\n",
              "      <td>0</td>\n",
              "      <td>0</td>\n",
              "      <td>0</td>\n",
              "      <td>0</td>\n",
              "      <td>5</td>\n",
              "      <td>2007</td>\n",
              "      <td>181500</td>\n",
              "      <td>2</td>\n",
              "    </tr>\n",
              "    <tr>\n",
              "      <th>2</th>\n",
              "      <td>60</td>\n",
              "      <td>11250</td>\n",
              "      <td>7</td>\n",
              "      <td>5</td>\n",
              "      <td>2001</td>\n",
              "      <td>2002</td>\n",
              "      <td>162.0</td>\n",
              "      <td>486</td>\n",
              "      <td>0</td>\n",
              "      <td>434</td>\n",
              "      <td>920</td>\n",
              "      <td>920</td>\n",
              "      <td>866</td>\n",
              "      <td>0</td>\n",
              "      <td>1786</td>\n",
              "      <td>1</td>\n",
              "      <td>0</td>\n",
              "      <td>2</td>\n",
              "      <td>1</td>\n",
              "      <td>3</td>\n",
              "      <td>1</td>\n",
              "      <td>6</td>\n",
              "      <td>1</td>\n",
              "      <td>2</td>\n",
              "      <td>608</td>\n",
              "      <td>0</td>\n",
              "      <td>42</td>\n",
              "      <td>0</td>\n",
              "      <td>0</td>\n",
              "      <td>0</td>\n",
              "      <td>0</td>\n",
              "      <td>0</td>\n",
              "      <td>9</td>\n",
              "      <td>2008</td>\n",
              "      <td>223500</td>\n",
              "      <td>0</td>\n",
              "    </tr>\n",
              "    <tr>\n",
              "      <th>3</th>\n",
              "      <td>70</td>\n",
              "      <td>9550</td>\n",
              "      <td>7</td>\n",
              "      <td>5</td>\n",
              "      <td>1915</td>\n",
              "      <td>1970</td>\n",
              "      <td>0.0</td>\n",
              "      <td>216</td>\n",
              "      <td>0</td>\n",
              "      <td>540</td>\n",
              "      <td>756</td>\n",
              "      <td>961</td>\n",
              "      <td>756</td>\n",
              "      <td>0</td>\n",
              "      <td>1717</td>\n",
              "      <td>1</td>\n",
              "      <td>0</td>\n",
              "      <td>1</td>\n",
              "      <td>0</td>\n",
              "      <td>3</td>\n",
              "      <td>1</td>\n",
              "      <td>7</td>\n",
              "      <td>1</td>\n",
              "      <td>3</td>\n",
              "      <td>642</td>\n",
              "      <td>0</td>\n",
              "      <td>35</td>\n",
              "      <td>272</td>\n",
              "      <td>0</td>\n",
              "      <td>0</td>\n",
              "      <td>0</td>\n",
              "      <td>0</td>\n",
              "      <td>2</td>\n",
              "      <td>2006</td>\n",
              "      <td>140000</td>\n",
              "      <td>2</td>\n",
              "    </tr>\n",
              "    <tr>\n",
              "      <th>4</th>\n",
              "      <td>60</td>\n",
              "      <td>14260</td>\n",
              "      <td>8</td>\n",
              "      <td>5</td>\n",
              "      <td>2000</td>\n",
              "      <td>2000</td>\n",
              "      <td>350.0</td>\n",
              "      <td>655</td>\n",
              "      <td>0</td>\n",
              "      <td>490</td>\n",
              "      <td>1145</td>\n",
              "      <td>1145</td>\n",
              "      <td>1053</td>\n",
              "      <td>0</td>\n",
              "      <td>2198</td>\n",
              "      <td>1</td>\n",
              "      <td>0</td>\n",
              "      <td>2</td>\n",
              "      <td>1</td>\n",
              "      <td>4</td>\n",
              "      <td>1</td>\n",
              "      <td>9</td>\n",
              "      <td>1</td>\n",
              "      <td>3</td>\n",
              "      <td>836</td>\n",
              "      <td>192</td>\n",
              "      <td>84</td>\n",
              "      <td>0</td>\n",
              "      <td>0</td>\n",
              "      <td>0</td>\n",
              "      <td>0</td>\n",
              "      <td>0</td>\n",
              "      <td>12</td>\n",
              "      <td>2008</td>\n",
              "      <td>250000</td>\n",
              "      <td>0</td>\n",
              "    </tr>\n",
              "  </tbody>\n",
              "</table>\n",
              "</div>"
            ],
            "text/plain": [
              "   MSSubClass  LotArea  OverallQual  ...  YrSold  SalePrice  Cluster\n",
              "0          60     8450            7  ...    2008     208500        0\n",
              "1          20     9600            6  ...    2007     181500        2\n",
              "2          60    11250            7  ...    2008     223500        0\n",
              "3          70     9550            7  ...    2006     140000        2\n",
              "4          60    14260            8  ...    2008     250000        0\n",
              "\n",
              "[5 rows x 36 columns]"
            ]
          },
          "metadata": {
            "tags": []
          },
          "execution_count": 10
        }
      ]
    },
    {
      "cell_type": "markdown",
      "metadata": {
        "id": "mD7OUeWZ6kAp"
      },
      "source": [
        "### Create an interactive bar chart that shows the average SalePrice of a property by cluster.\n",
        "\n",
        "You will need to aggregate the data by cluster and average the sale prices before generating your visualization."
      ]
    },
    {
      "cell_type": "code",
      "metadata": {
        "id": "ddaaHpDj6kAq"
      },
      "source": [
        "\n",
        "cluster_means = numeric.groupby(by='Cluster').mean().reset_index()"
      ],
      "execution_count": 11,
      "outputs": []
    },
    {
      "cell_type": "code",
      "metadata": {
        "colab": {
          "base_uri": "https://localhost:8080/",
          "height": 542
        },
        "id": "2hA2hC-Rg-77",
        "outputId": "ebdd021e-d335-43c8-d00b-9a6c0d748ae2"
      },
      "source": [
        "\n",
        "fig = px.bar(cluster_means, \n",
        "            x='Cluster',\n",
        "            y='SalePrice',\n",
        "            title='Avg. Sale Price by Cluster',\n",
        "            template='none')\n",
        "\n",
        "fig.update_traces(marker_color='lightskyblue',\n",
        "                  marker_line_color='black',\n",
        "                  marker_line_width=1)\n",
        "\n",
        "fig.show()"
      ],
      "execution_count": 12,
      "outputs": [
        {
          "output_type": "display_data",
          "data": {
            "text/html": [
              "<html>\n",
              "<head><meta charset=\"utf-8\" /></head>\n",
              "<body>\n",
              "    <div>\n",
              "            <script src=\"https://cdnjs.cloudflare.com/ajax/libs/mathjax/2.7.5/MathJax.js?config=TeX-AMS-MML_SVG\"></script><script type=\"text/javascript\">if (window.MathJax) {MathJax.Hub.Config({SVG: {font: \"STIX-Web\"}});}</script>\n",
              "                <script type=\"text/javascript\">window.PlotlyConfig = {MathJaxConfig: 'local'};</script>\n",
              "        <script src=\"https://cdn.plot.ly/plotly-latest.min.js\"></script>    \n",
              "            <div id=\"1677e4a0-f736-4ff6-8687-2635b821a81e\" class=\"plotly-graph-div\" style=\"height:525px; width:100%;\"></div>\n",
              "            <script type=\"text/javascript\">\n",
              "                \n",
              "                    window.PLOTLYENV=window.PLOTLYENV || {};\n",
              "                    \n",
              "                if (document.getElementById(\"1677e4a0-f736-4ff6-8687-2635b821a81e\")) {\n",
              "                    Plotly.newPlot(\n",
              "                        '1677e4a0-f736-4ff6-8687-2635b821a81e',\n",
              "                        [{\"alignmentgroup\": \"True\", \"hoverlabel\": {\"namelength\": 0}, \"hovertemplate\": \"Cluster=%{x}<br>SalePrice=%{y}\", \"legendgroup\": \"\", \"marker\": {\"color\": \"lightskyblue\", \"line\": {\"color\": \"black\", \"width\": 1}}, \"name\": \"\", \"offsetgroup\": \"\", \"orientation\": \"v\", \"showlegend\": false, \"textposition\": \"auto\", \"type\": \"bar\", \"x\": [0, 1, 2, 3], \"xaxis\": \"x\", \"y\": [232464.90526315788, 141230.975, 225257.42349726777, 126145.11904761905], \"yaxis\": \"y\"}],\n",
              "                        {\"barmode\": \"relative\", \"legend\": {\"tracegroupgap\": 0}, \"template\": {\"data\": {\"scatter\": [{\"type\": \"scatter\"}]}}, \"title\": {\"text\": \"Avg. Sale Price by Cluster\"}, \"xaxis\": {\"anchor\": \"y\", \"domain\": [0.0, 1.0], \"title\": {\"text\": \"Cluster\"}}, \"yaxis\": {\"anchor\": \"x\", \"domain\": [0.0, 1.0], \"title\": {\"text\": \"SalePrice\"}}},\n",
              "                        {\"responsive\": true}\n",
              "                    ).then(function(){\n",
              "                            \n",
              "var gd = document.getElementById('1677e4a0-f736-4ff6-8687-2635b821a81e');\n",
              "var x = new MutationObserver(function (mutations, observer) {{\n",
              "        var display = window.getComputedStyle(gd).display;\n",
              "        if (!display || display === 'none') {{\n",
              "            console.log([gd, 'removed!']);\n",
              "            Plotly.purge(gd);\n",
              "            observer.disconnect();\n",
              "        }}\n",
              "}});\n",
              "\n",
              "// Listen for the removal of the full notebook cells\n",
              "var notebookContainer = gd.closest('#notebook-container');\n",
              "if (notebookContainer) {{\n",
              "    x.observe(notebookContainer, {childList: true});\n",
              "}}\n",
              "\n",
              "// Listen for the clearing of the current output cell\n",
              "var outputEl = gd.closest('.output');\n",
              "if (outputEl) {{\n",
              "    x.observe(outputEl, {childList: true});\n",
              "}}\n",
              "\n",
              "                        })\n",
              "                };\n",
              "                \n",
              "            </script>\n",
              "        </div>\n",
              "</body>\n",
              "</html>"
            ]
          },
          "metadata": {
            "tags": []
          }
        }
      ]
    },
    {
      "cell_type": "markdown",
      "metadata": {
        "id": "WrHSAs_o6kAt"
      },
      "source": [
        "### Create another bar chart where the bars are broken down and color-coded by the year the property was sold.\n",
        "\n",
        "You will need to convert the YrSold field to be categorical in order to separate the bars based on that field."
      ]
    },
    {
      "cell_type": "code",
      "metadata": {
        "id": "mt6Luvya6kAt"
      },
      "source": [
        "numeric['YrSold'] = numeric.YrSold.astype(str)\n",
        "cluster_sold_means = numeric.groupby(['Cluster', 'YrSold']).mean().reset_index()"
      ],
      "execution_count": 13,
      "outputs": []
    },
    {
      "cell_type": "code",
      "metadata": {
        "colab": {
          "base_uri": "https://localhost:8080/",
          "height": 542
        },
        "id": "i3acMfx4hVai",
        "outputId": "0ed705c1-1fce-45d7-c9bd-ed36dab9584a"
      },
      "source": [
        "fig = px.bar(cluster_sold_means,\n",
        "            x='Cluster',\n",
        "            y='SalePrice',\n",
        "            color='YrSold',\n",
        "            template='none',\n",
        "            title='Avg. Sale Price by Cluster and Year Sold')\n",
        "\n",
        "fig.update_layout(barmode='group')\n",
        "fig.update_traces(marker_line_color='black', marker_line_width=1)\n",
        "\n",
        "fig.show()"
      ],
      "execution_count": 14,
      "outputs": [
        {
          "output_type": "display_data",
          "data": {
            "text/html": [
              "<html>\n",
              "<head><meta charset=\"utf-8\" /></head>\n",
              "<body>\n",
              "    <div>\n",
              "            <script src=\"https://cdnjs.cloudflare.com/ajax/libs/mathjax/2.7.5/MathJax.js?config=TeX-AMS-MML_SVG\"></script><script type=\"text/javascript\">if (window.MathJax) {MathJax.Hub.Config({SVG: {font: \"STIX-Web\"}});}</script>\n",
              "                <script type=\"text/javascript\">window.PlotlyConfig = {MathJaxConfig: 'local'};</script>\n",
              "        <script src=\"https://cdn.plot.ly/plotly-latest.min.js\"></script>    \n",
              "            <div id=\"b22bb5ff-d3ec-4a06-9d3f-4b48c7d8674a\" class=\"plotly-graph-div\" style=\"height:525px; width:100%;\"></div>\n",
              "            <script type=\"text/javascript\">\n",
              "                \n",
              "                    window.PLOTLYENV=window.PLOTLYENV || {};\n",
              "                    \n",
              "                if (document.getElementById(\"b22bb5ff-d3ec-4a06-9d3f-4b48c7d8674a\")) {\n",
              "                    Plotly.newPlot(\n",
              "                        'b22bb5ff-d3ec-4a06-9d3f-4b48c7d8674a',\n",
              "                        [{\"alignmentgroup\": \"True\", \"hoverlabel\": {\"namelength\": 0}, \"hovertemplate\": \"YrSold=2006<br>Cluster=%{x}<br>SalePrice=%{y}\", \"legendgroup\": \"YrSold=2006\", \"marker\": {\"color\": \"#1F77B4\", \"line\": {\"color\": \"black\", \"width\": 1}}, \"name\": \"YrSold=2006\", \"offsetgroup\": \"YrSold=2006\", \"orientation\": \"v\", \"showlegend\": true, \"textposition\": \"auto\", \"type\": \"bar\", \"x\": [0, 1, 2, 3], \"xaxis\": \"x\", \"y\": [241324.17283950618, 141891.67567567568, 214370.11764705883, 125789.27272727272], \"yaxis\": \"y\"}, {\"alignmentgroup\": \"True\", \"hoverlabel\": {\"namelength\": 0}, \"hovertemplate\": \"YrSold=2007<br>Cluster=%{x}<br>SalePrice=%{y}\", \"legendgroup\": \"YrSold=2007\", \"marker\": {\"color\": \"#FF7F0E\", \"line\": {\"color\": \"black\", \"width\": 1}}, \"name\": \"YrSold=2007\", \"offsetgroup\": \"YrSold=2007\", \"orientation\": \"v\", \"showlegend\": true, \"textposition\": \"auto\", \"type\": \"bar\", \"x\": [0, 1, 2, 3], \"xaxis\": \"x\", \"y\": [233798.39130434784, 145893.33333333334, 238455.0, 125912.46774193548], \"yaxis\": \"y\"}, {\"alignmentgroup\": \"True\", \"hoverlabel\": {\"namelength\": 0}, \"hovertemplate\": \"YrSold=2008<br>Cluster=%{x}<br>SalePrice=%{y}\", \"legendgroup\": \"YrSold=2008\", \"marker\": {\"color\": \"#2CA02C\", \"line\": {\"color\": \"black\", \"width\": 1}}, \"name\": \"YrSold=2008\", \"offsetgroup\": \"YrSold=2008\", \"orientation\": \"v\", \"showlegend\": true, \"textposition\": \"auto\", \"type\": \"bar\", \"x\": [0, 1, 2, 3], \"xaxis\": \"x\", \"y\": [228582.74390243902, 154846.08333333334, 214014.734375, 128382.84033613445], \"yaxis\": \"y\"}, {\"alignmentgroup\": \"True\", \"hoverlabel\": {\"namelength\": 0}, \"hovertemplate\": \"YrSold=2009<br>Cluster=%{x}<br>SalePrice=%{y}\", \"legendgroup\": \"YrSold=2009\", \"marker\": {\"color\": \"#D62728\", \"line\": {\"color\": \"black\", \"width\": 1}}, \"name\": \"YrSold=2009\", \"offsetgroup\": \"YrSold=2009\", \"orientation\": \"v\", \"showlegend\": true, \"textposition\": \"auto\", \"type\": \"bar\", \"x\": [0, 1, 2, 3], \"xaxis\": \"x\", \"y\": [226954.55681818182, 130120.14285714286, 227008.8085106383, 121650.975], \"yaxis\": \"y\"}, {\"alignmentgroup\": \"True\", \"hoverlabel\": {\"namelength\": 0}, \"hovertemplate\": \"YrSold=2010<br>Cluster=%{x}<br>SalePrice=%{y}\", \"legendgroup\": \"YrSold=2010\", \"marker\": {\"color\": \"#9467BD\", \"line\": {\"color\": \"black\", \"width\": 1}}, \"name\": \"YrSold=2010\", \"offsetgroup\": \"YrSold=2010\", \"orientation\": \"v\", \"showlegend\": true, \"textposition\": \"auto\", \"type\": \"bar\", \"x\": [0, 1, 2, 3], \"xaxis\": \"x\", \"y\": [231464.0, 129159.09090909091, 235050.7380952381, 130816.35616438356], \"yaxis\": \"y\"}],\n",
              "                        {\"barmode\": \"group\", \"legend\": {\"tracegroupgap\": 0}, \"template\": {\"data\": {\"scatter\": [{\"type\": \"scatter\"}]}}, \"title\": {\"text\": \"Avg. Sale Price by Cluster and Year Sold\"}, \"xaxis\": {\"anchor\": \"y\", \"domain\": [0.0, 1.0], \"title\": {\"text\": \"Cluster\"}}, \"yaxis\": {\"anchor\": \"x\", \"domain\": [0.0, 1.0], \"title\": {\"text\": \"SalePrice\"}}},\n",
              "                        {\"responsive\": true}\n",
              "                    ).then(function(){\n",
              "                            \n",
              "var gd = document.getElementById('b22bb5ff-d3ec-4a06-9d3f-4b48c7d8674a');\n",
              "var x = new MutationObserver(function (mutations, observer) {{\n",
              "        var display = window.getComputedStyle(gd).display;\n",
              "        if (!display || display === 'none') {{\n",
              "            console.log([gd, 'removed!']);\n",
              "            Plotly.purge(gd);\n",
              "            observer.disconnect();\n",
              "        }}\n",
              "}});\n",
              "\n",
              "// Listen for the removal of the full notebook cells\n",
              "var notebookContainer = gd.closest('#notebook-container');\n",
              "if (notebookContainer) {{\n",
              "    x.observe(notebookContainer, {childList: true});\n",
              "}}\n",
              "\n",
              "// Listen for the clearing of the current output cell\n",
              "var outputEl = gd.closest('.output');\n",
              "if (outputEl) {{\n",
              "    x.observe(outputEl, {childList: true});\n",
              "}}\n",
              "\n",
              "                        })\n",
              "                };\n",
              "                \n",
              "            </script>\n",
              "        </div>\n",
              "</body>\n",
              "</html>"
            ]
          },
          "metadata": {
            "tags": []
          }
        }
      ]
    },
    {
      "cell_type": "markdown",
      "metadata": {
        "id": "ITP1lfa26kAw"
      },
      "source": [
        "### Add a drop-down widget to the multi-bar chart you created above that lets you choose between 4 numeric fields to represent on the Y axis. "
      ]
    },
    {
      "cell_type": "code",
      "metadata": {
        "id": "VFzN0Gil6kAx",
        "colab": {
          "base_uri": "https://localhost:8080/",
          "height": 574,
          "referenced_widgets": [
            "054a7254312f405382c98493e691cc19",
            "44896b39bd6a4dcda051649e5f4fdeff",
            "4e62fe7994524fdb8b7cbce9adcda2fe",
            "8fee2ac3d9304736836dd7e7fb90abc8",
            "4aec47b357db4c65bc25b9dad531921e",
            "7f5ce2c9f73d458bad6919fb6fdb19ba",
            "0fdacd0eb0db4fc5ae0d013f374b152d"
          ]
        },
        "outputId": "5615a641-fef8-4bfd-cade-baa8c2967a77"
      },
      "source": [
        "@interact(Metric=['LotArea', 'OverallQual', 'OverallCond', 'SalePrice'])\n",
        "\n",
        "def barchart(Metric):\n",
        "    fig = px.bar(cluster_sold_means,\n",
        "            x='Cluster',\n",
        "            y=Metric,\n",
        "            color='YrSold',\n",
        "            template='none',\n",
        "            title='Avg. ' + Metric + ' by Cluster and Year Sold')\n",
        "\n",
        "    fig.update_layout(barmode='group')\n",
        "    fig.update_traces(marker_line_color='black', marker_line_width=1)\n",
        "\n",
        "    fig.show()"
      ],
      "execution_count": 15,
      "outputs": [
        {
          "output_type": "display_data",
          "data": {
            "application/vnd.jupyter.widget-view+json": {
              "model_id": "054a7254312f405382c98493e691cc19",
              "version_minor": 0,
              "version_major": 2
            },
            "text/plain": [
              "interactive(children=(Dropdown(description='Metric', options=('LotArea', 'OverallQual', 'OverallCond', 'SalePr…"
            ]
          },
          "metadata": {
            "tags": []
          }
        }
      ]
    },
    {
      "cell_type": "markdown",
      "metadata": {
        "id": "T-FnKvVu6kAz"
      },
      "source": [
        "### Create a scatter plot that shows the relationship between SalesPrice and LotArea, color-coded by cluster. Add a slider that filters the data by the year the property was sold."
      ]
    },
    {
      "cell_type": "code",
      "metadata": {
        "id": "0hRbQyY86kA0",
        "colab": {
          "base_uri": "https://localhost:8080/",
          "height": 574,
          "referenced_widgets": [
            "0961f1d409da44619c7be9134275c80e",
            "9426d4cdbe1e43929dfd2ff88a8632e1",
            "e4c0a25b3d1447d9baf54dd1a4a89093",
            "23ca82cfe6574742a9d47a9fa01c2360",
            "13e616e0e498462b87e2a32d4d774190",
            "36ef3ca8d5394b9d8b50613472e4c52c",
            "2fe2fc572482491793d3efab03097993"
          ]
        },
        "outputId": "ef2dab58-08f6-4444-b4b4-7fc9d4fe586e"
      },
      "source": [
        "\n",
        "numeric.YrSold = numeric.YrSold.astype(int)\n",
        "numeric.Cluster = numeric.Cluster.astype(str)\n",
        "\n",
        "@interact(YrSold = (numeric.YrSold.min(), numeric.YrSold.max()))\n",
        "\n",
        "def scatterplot(YrSold):\n",
        "    yr_filtered = numeric[numeric['YrSold'] == YrSold]\n",
        "    fig = px.scatter(\n",
        "        yr_filtered,\n",
        "        x='SalePrice',\n",
        "        y='LotArea',\n",
        "        color=\"Cluster\",\n",
        "        template=\"none\",\n",
        "        title=\"Scatter Plot by Cluster\",\n",
        "    )\n",
        "\n",
        "    fig.update_traces(marker_line_color=\"black\", marker_line_width=1)\n",
        "\n",
        "    fig.show()"
      ],
      "execution_count": 16,
      "outputs": [
        {
          "output_type": "display_data",
          "data": {
            "application/vnd.jupyter.widget-view+json": {
              "model_id": "0961f1d409da44619c7be9134275c80e",
              "version_minor": 0,
              "version_major": 2
            },
            "text/plain": [
              "interactive(children=(IntSlider(value=2008, description='YrSold', max=2010, min=2006), Output()), _dom_classes…"
            ]
          },
          "metadata": {
            "tags": []
          }
        }
      ]
    }
  ]
}