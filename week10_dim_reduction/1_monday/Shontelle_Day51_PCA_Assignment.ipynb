{
  "nbformat": 4,
  "nbformat_minor": 0,
  "metadata": {
    "kernelspec": {
      "display_name": "Python 3",
      "language": "python",
      "name": "python3"
    },
    "language_info": {
      "codemirror_mode": {
        "name": "ipython",
        "version": 3
      },
      "file_extension": ".py",
      "mimetype": "text/x-python",
      "name": "python",
      "nbconvert_exporter": "python",
      "pygments_lexer": "ipython3",
      "version": "3.7.6"
    },
    "colab": {
      "name": "Shontelle_Day51_PCA_Assignment.ipynb",
      "provenance": [],
      "collapsed_sections": []
    }
  },
  "cells": [
    {
      "cell_type": "markdown",
      "metadata": {
        "id": "Dl7sU6r-kMdW"
      },
      "source": [
        "# Principal Component Analysis Assignment"
      ]
    },
    {
      "cell_type": "code",
      "metadata": {
        "id": "o-K7WD2akMdY"
      },
      "source": [
        "import numpy as np\n",
        "import pandas as pd\n",
        "\n",
        "from sklearn.decomposition import PCA\n",
        "from sklearn.ensemble import RandomForestClassifier\n",
        "from sklearn.model_selection import train_test_split\n",
        "from sklearn.preprocessing import StandardScaler\n",
        "\n",
        "import seaborn as sns\n",
        "import matplotlib.pyplot as plt\n",
        "\n",
        "%matplotlib inline"
      ],
      "execution_count": 1,
      "outputs": []
    },
    {
      "cell_type": "markdown",
      "metadata": {
        "id": "iMXplj9FkMdh"
      },
      "source": [
        "### Import the [PitchFX data set](https://docs.google.com/spreadsheets/d/1pmBtSw7v_tU_dIX1-4E8_Q7wC43fDs6LGDQzN49-ffk/export?format=csv)."
      ]
    },
    {
      "cell_type": "code",
      "metadata": {
        "id": "XrExc5-BkMdi",
        "colab": {
          "base_uri": "https://localhost:8080/",
          "height": 326
        },
        "outputId": "e3c85bbf-c116-4ed2-f82a-c56e6b7f57eb"
      },
      "source": [
        "data = pd.read_csv('https://docs.google.com/spreadsheets/d/1pmBtSw7v_tU_dIX1-4E8_Q7wC43fDs6LGDQzN49-ffk/export?format=csv')\n",
        "print(data.shape)\n",
        "data.head()"
      ],
      "execution_count": 2,
      "outputs": [
        {
          "output_type": "stream",
          "text": [
            "(79931, 35)\n"
          ],
          "name": "stdout"
        },
        {
          "output_type": "execute_result",
          "data": {
            "text/html": [
              "<div>\n",
              "<style scoped>\n",
              "    .dataframe tbody tr th:only-of-type {\n",
              "        vertical-align: middle;\n",
              "    }\n",
              "\n",
              "    .dataframe tbody tr th {\n",
              "        vertical-align: top;\n",
              "    }\n",
              "\n",
              "    .dataframe thead th {\n",
              "        text-align: right;\n",
              "    }\n",
              "</style>\n",
              "<table border=\"1\" class=\"dataframe\">\n",
              "  <thead>\n",
              "    <tr style=\"text-align: right;\">\n",
              "      <th></th>\n",
              "      <th>gameString</th>\n",
              "      <th>gameDate</th>\n",
              "      <th>visitor</th>\n",
              "      <th>home</th>\n",
              "      <th>inning</th>\n",
              "      <th>side</th>\n",
              "      <th>balls</th>\n",
              "      <th>strikes</th>\n",
              "      <th>outs</th>\n",
              "      <th>batterId</th>\n",
              "      <th>batterName</th>\n",
              "      <th>batterHand</th>\n",
              "      <th>batterPosition</th>\n",
              "      <th>pitcherId</th>\n",
              "      <th>pitcherName</th>\n",
              "      <th>pitcherHand</th>\n",
              "      <th>timesFaced</th>\n",
              "      <th>catcherId</th>\n",
              "      <th>catcher</th>\n",
              "      <th>umpireId</th>\n",
              "      <th>umpire</th>\n",
              "      <th>probCalledStrike</th>\n",
              "      <th>pitchResult</th>\n",
              "      <th>pitchType</th>\n",
              "      <th>releaseVelocity</th>\n",
              "      <th>spinRate</th>\n",
              "      <th>spinDir</th>\n",
              "      <th>locationHoriz</th>\n",
              "      <th>locationVert</th>\n",
              "      <th>movementHoriz</th>\n",
              "      <th>movementVert</th>\n",
              "      <th>battedBallType</th>\n",
              "      <th>battedBallAngle</th>\n",
              "      <th>battedBallDistance</th>\n",
              "      <th>paResult</th>\n",
              "    </tr>\n",
              "  </thead>\n",
              "  <tbody>\n",
              "    <tr>\n",
              "      <th>0</th>\n",
              "      <td>gid_2016_04_04_sfnmlb_milmlb_1</td>\n",
              "      <td>2016-04-04</td>\n",
              "      <td>SF</td>\n",
              "      <td>MIL</td>\n",
              "      <td>1</td>\n",
              "      <td>T</td>\n",
              "      <td>0</td>\n",
              "      <td>0</td>\n",
              "      <td>0</td>\n",
              "      <td>452655</td>\n",
              "      <td>Denard Span</td>\n",
              "      <td>L</td>\n",
              "      <td>CF</td>\n",
              "      <td>503449</td>\n",
              "      <td>Wily Peralta</td>\n",
              "      <td>R</td>\n",
              "      <td>1</td>\n",
              "      <td>518960</td>\n",
              "      <td>Jonathan Lucroy</td>\n",
              "      <td>427192</td>\n",
              "      <td>Brian Gorman</td>\n",
              "      <td>0.975</td>\n",
              "      <td>SL</td>\n",
              "      <td>FF</td>\n",
              "      <td>94.2</td>\n",
              "      <td>2044.22</td>\n",
              "      <td>205.477</td>\n",
              "      <td>-0.374</td>\n",
              "      <td>2.933</td>\n",
              "      <td>-6.93</td>\n",
              "      <td>8.28</td>\n",
              "      <td>NaN</td>\n",
              "      <td>NaN</td>\n",
              "      <td>NaN</td>\n",
              "      <td>NaN</td>\n",
              "    </tr>\n",
              "    <tr>\n",
              "      <th>1</th>\n",
              "      <td>gid_2016_04_04_sfnmlb_milmlb_1</td>\n",
              "      <td>2016-04-04</td>\n",
              "      <td>SF</td>\n",
              "      <td>MIL</td>\n",
              "      <td>1</td>\n",
              "      <td>T</td>\n",
              "      <td>0</td>\n",
              "      <td>1</td>\n",
              "      <td>0</td>\n",
              "      <td>452655</td>\n",
              "      <td>Denard Span</td>\n",
              "      <td>L</td>\n",
              "      <td>CF</td>\n",
              "      <td>503449</td>\n",
              "      <td>Wily Peralta</td>\n",
              "      <td>R</td>\n",
              "      <td>1</td>\n",
              "      <td>518960</td>\n",
              "      <td>Jonathan Lucroy</td>\n",
              "      <td>427192</td>\n",
              "      <td>Brian Gorman</td>\n",
              "      <td>0.745</td>\n",
              "      <td>SL</td>\n",
              "      <td>FT</td>\n",
              "      <td>97.1</td>\n",
              "      <td>1966.32</td>\n",
              "      <td>220.143</td>\n",
              "      <td>0.342</td>\n",
              "      <td>3.223</td>\n",
              "      <td>-7.48</td>\n",
              "      <td>7.35</td>\n",
              "      <td>NaN</td>\n",
              "      <td>NaN</td>\n",
              "      <td>NaN</td>\n",
              "      <td>NaN</td>\n",
              "    </tr>\n",
              "    <tr>\n",
              "      <th>2</th>\n",
              "      <td>gid_2016_04_04_sfnmlb_milmlb_1</td>\n",
              "      <td>2016-04-04</td>\n",
              "      <td>SF</td>\n",
              "      <td>MIL</td>\n",
              "      <td>1</td>\n",
              "      <td>T</td>\n",
              "      <td>0</td>\n",
              "      <td>2</td>\n",
              "      <td>0</td>\n",
              "      <td>452655</td>\n",
              "      <td>Denard Span</td>\n",
              "      <td>L</td>\n",
              "      <td>CF</td>\n",
              "      <td>503449</td>\n",
              "      <td>Wily Peralta</td>\n",
              "      <td>R</td>\n",
              "      <td>1</td>\n",
              "      <td>518960</td>\n",
              "      <td>Jonathan Lucroy</td>\n",
              "      <td>427192</td>\n",
              "      <td>Brian Gorman</td>\n",
              "      <td>0.968</td>\n",
              "      <td>IP</td>\n",
              "      <td>FF</td>\n",
              "      <td>96.5</td>\n",
              "      <td>2127.17</td>\n",
              "      <td>198.816</td>\n",
              "      <td>0.389</td>\n",
              "      <td>2.266</td>\n",
              "      <td>-5.22</td>\n",
              "      <td>9.79</td>\n",
              "      <td>FB</td>\n",
              "      <td>27.78</td>\n",
              "      <td>323.03</td>\n",
              "      <td>IP_OUT</td>\n",
              "    </tr>\n",
              "    <tr>\n",
              "      <th>3</th>\n",
              "      <td>gid_2016_04_04_sfnmlb_milmlb_1</td>\n",
              "      <td>2016-04-04</td>\n",
              "      <td>SF</td>\n",
              "      <td>MIL</td>\n",
              "      <td>1</td>\n",
              "      <td>T</td>\n",
              "      <td>0</td>\n",
              "      <td>0</td>\n",
              "      <td>1</td>\n",
              "      <td>605412</td>\n",
              "      <td>Joe Panik</td>\n",
              "      <td>L</td>\n",
              "      <td>2B</td>\n",
              "      <td>503449</td>\n",
              "      <td>Wily Peralta</td>\n",
              "      <td>R</td>\n",
              "      <td>1</td>\n",
              "      <td>518960</td>\n",
              "      <td>Jonathan Lucroy</td>\n",
              "      <td>427192</td>\n",
              "      <td>Brian Gorman</td>\n",
              "      <td>1.000</td>\n",
              "      <td>SL</td>\n",
              "      <td>FT</td>\n",
              "      <td>95.6</td>\n",
              "      <td>1947.11</td>\n",
              "      <td>198.734</td>\n",
              "      <td>-0.004</td>\n",
              "      <td>2.380</td>\n",
              "      <td>-7.24</td>\n",
              "      <td>8.40</td>\n",
              "      <td>NaN</td>\n",
              "      <td>NaN</td>\n",
              "      <td>NaN</td>\n",
              "      <td>NaN</td>\n",
              "    </tr>\n",
              "    <tr>\n",
              "      <th>4</th>\n",
              "      <td>gid_2016_04_04_sfnmlb_milmlb_1</td>\n",
              "      <td>2016-04-04</td>\n",
              "      <td>SF</td>\n",
              "      <td>MIL</td>\n",
              "      <td>1</td>\n",
              "      <td>T</td>\n",
              "      <td>0</td>\n",
              "      <td>1</td>\n",
              "      <td>1</td>\n",
              "      <td>605412</td>\n",
              "      <td>Joe Panik</td>\n",
              "      <td>L</td>\n",
              "      <td>2B</td>\n",
              "      <td>503449</td>\n",
              "      <td>Wily Peralta</td>\n",
              "      <td>R</td>\n",
              "      <td>1</td>\n",
              "      <td>518960</td>\n",
              "      <td>Jonathan Lucroy</td>\n",
              "      <td>427192</td>\n",
              "      <td>Brian Gorman</td>\n",
              "      <td>1.000</td>\n",
              "      <td>F</td>\n",
              "      <td>FF</td>\n",
              "      <td>95.6</td>\n",
              "      <td>1903.08</td>\n",
              "      <td>205.503</td>\n",
              "      <td>0.272</td>\n",
              "      <td>2.421</td>\n",
              "      <td>-6.79</td>\n",
              "      <td>9.37</td>\n",
              "      <td>NaN</td>\n",
              "      <td>NaN</td>\n",
              "      <td>NaN</td>\n",
              "      <td>NaN</td>\n",
              "    </tr>\n",
              "  </tbody>\n",
              "</table>\n",
              "</div>"
            ],
            "text/plain": [
              "                       gameString    gameDate  ... battedBallDistance paResult\n",
              "0  gid_2016_04_04_sfnmlb_milmlb_1  2016-04-04  ...                NaN      NaN\n",
              "1  gid_2016_04_04_sfnmlb_milmlb_1  2016-04-04  ...                NaN      NaN\n",
              "2  gid_2016_04_04_sfnmlb_milmlb_1  2016-04-04  ...             323.03   IP_OUT\n",
              "3  gid_2016_04_04_sfnmlb_milmlb_1  2016-04-04  ...                NaN      NaN\n",
              "4  gid_2016_04_04_sfnmlb_milmlb_1  2016-04-04  ...                NaN      NaN\n",
              "\n",
              "[5 rows x 35 columns]"
            ]
          },
          "metadata": {
            "tags": []
          },
          "execution_count": 2
        }
      ]
    },
    {
      "cell_type": "code",
      "metadata": {
        "colab": {
          "base_uri": "https://localhost:8080/"
        },
        "id": "LI9C4lz84-vl",
        "outputId": "5b0a61b9-ef41-40d3-f3cf-69a9a06e43e8"
      },
      "source": [
        "data.info()"
      ],
      "execution_count": 3,
      "outputs": [
        {
          "output_type": "stream",
          "text": [
            "<class 'pandas.core.frame.DataFrame'>\n",
            "RangeIndex: 79931 entries, 0 to 79930\n",
            "Data columns (total 35 columns):\n",
            " #   Column              Non-Null Count  Dtype  \n",
            "---  ------              --------------  -----  \n",
            " 0   gameString          79931 non-null  object \n",
            " 1   gameDate            79931 non-null  object \n",
            " 2   visitor             79931 non-null  object \n",
            " 3   home                79931 non-null  object \n",
            " 4   inning              79931 non-null  int64  \n",
            " 5   side                79931 non-null  object \n",
            " 6   balls               79931 non-null  int64  \n",
            " 7   strikes             79931 non-null  int64  \n",
            " 8   outs                79931 non-null  int64  \n",
            " 9   batterId            79931 non-null  int64  \n",
            " 10  batterName          79931 non-null  object \n",
            " 11  batterHand          79931 non-null  object \n",
            " 12  batterPosition      79931 non-null  object \n",
            " 13  pitcherId           79931 non-null  int64  \n",
            " 14  pitcherName         79931 non-null  object \n",
            " 15  pitcherHand         79931 non-null  object \n",
            " 16  timesFaced          79931 non-null  int64  \n",
            " 17  catcherId           79931 non-null  int64  \n",
            " 18  catcher             79931 non-null  object \n",
            " 19  umpireId            79931 non-null  int64  \n",
            " 20  umpire              79931 non-null  object \n",
            " 21  probCalledStrike    79921 non-null  float64\n",
            " 22  pitchResult         79931 non-null  object \n",
            " 23  pitchType           79931 non-null  object \n",
            " 24  releaseVelocity     79931 non-null  float64\n",
            " 25  spinRate            73734 non-null  float64\n",
            " 26  spinDir             79620 non-null  float64\n",
            " 27  locationHoriz       79931 non-null  float64\n",
            " 28  locationVert        79931 non-null  float64\n",
            " 29  movementHoriz       79931 non-null  float64\n",
            " 30  movementVert        79931 non-null  float64\n",
            " 31  battedBallType      14499 non-null  object \n",
            " 32  battedBallAngle     14499 non-null  float64\n",
            " 33  battedBallDistance  14499 non-null  float64\n",
            " 34  paResult            20591 non-null  object \n",
            "dtypes: float64(10), int64(9), object(16)\n",
            "memory usage: 21.3+ MB\n"
          ],
          "name": "stdout"
        }
      ]
    },
    {
      "cell_type": "markdown",
      "metadata": {
        "id": "v1Da9H9SkMdm"
      },
      "source": [
        "### Keep only the pitch type and the numeric columns (exluding ID fields).\n",
        "\n",
        "* Drop any remaining records that contain null values.\n",
        "* Consider `pitchType` as `y`/target and the remaining columns to be `X`/features."
      ]
    },
    {
      "cell_type": "code",
      "metadata": {
        "colab": {
          "base_uri": "https://localhost:8080/",
          "height": 241
        },
        "id": "jkCrt1qlf9ue",
        "outputId": "af732918-618f-4db5-90ec-92e6a585b7e1"
      },
      "source": [
        "numeric = data.select_dtypes(include='number')\n",
        "df = pd.concat([data.pitchType, numeric], axis=1)\n",
        "id = df.filter(regex='Id')\n",
        "df.drop(id, axis=1, inplace=True)\n",
        "print(df.shape)\n",
        "df.head()"
      ],
      "execution_count": 4,
      "outputs": [
        {
          "output_type": "stream",
          "text": [
            "(79931, 16)\n"
          ],
          "name": "stdout"
        },
        {
          "output_type": "execute_result",
          "data": {
            "text/html": [
              "<div>\n",
              "<style scoped>\n",
              "    .dataframe tbody tr th:only-of-type {\n",
              "        vertical-align: middle;\n",
              "    }\n",
              "\n",
              "    .dataframe tbody tr th {\n",
              "        vertical-align: top;\n",
              "    }\n",
              "\n",
              "    .dataframe thead th {\n",
              "        text-align: right;\n",
              "    }\n",
              "</style>\n",
              "<table border=\"1\" class=\"dataframe\">\n",
              "  <thead>\n",
              "    <tr style=\"text-align: right;\">\n",
              "      <th></th>\n",
              "      <th>pitchType</th>\n",
              "      <th>inning</th>\n",
              "      <th>balls</th>\n",
              "      <th>strikes</th>\n",
              "      <th>outs</th>\n",
              "      <th>timesFaced</th>\n",
              "      <th>probCalledStrike</th>\n",
              "      <th>releaseVelocity</th>\n",
              "      <th>spinRate</th>\n",
              "      <th>spinDir</th>\n",
              "      <th>locationHoriz</th>\n",
              "      <th>locationVert</th>\n",
              "      <th>movementHoriz</th>\n",
              "      <th>movementVert</th>\n",
              "      <th>battedBallAngle</th>\n",
              "      <th>battedBallDistance</th>\n",
              "    </tr>\n",
              "  </thead>\n",
              "  <tbody>\n",
              "    <tr>\n",
              "      <th>0</th>\n",
              "      <td>FF</td>\n",
              "      <td>1</td>\n",
              "      <td>0</td>\n",
              "      <td>0</td>\n",
              "      <td>0</td>\n",
              "      <td>1</td>\n",
              "      <td>0.975</td>\n",
              "      <td>94.2</td>\n",
              "      <td>2044.22</td>\n",
              "      <td>205.477</td>\n",
              "      <td>-0.374</td>\n",
              "      <td>2.933</td>\n",
              "      <td>-6.93</td>\n",
              "      <td>8.28</td>\n",
              "      <td>NaN</td>\n",
              "      <td>NaN</td>\n",
              "    </tr>\n",
              "    <tr>\n",
              "      <th>1</th>\n",
              "      <td>FT</td>\n",
              "      <td>1</td>\n",
              "      <td>0</td>\n",
              "      <td>1</td>\n",
              "      <td>0</td>\n",
              "      <td>1</td>\n",
              "      <td>0.745</td>\n",
              "      <td>97.1</td>\n",
              "      <td>1966.32</td>\n",
              "      <td>220.143</td>\n",
              "      <td>0.342</td>\n",
              "      <td>3.223</td>\n",
              "      <td>-7.48</td>\n",
              "      <td>7.35</td>\n",
              "      <td>NaN</td>\n",
              "      <td>NaN</td>\n",
              "    </tr>\n",
              "    <tr>\n",
              "      <th>2</th>\n",
              "      <td>FF</td>\n",
              "      <td>1</td>\n",
              "      <td>0</td>\n",
              "      <td>2</td>\n",
              "      <td>0</td>\n",
              "      <td>1</td>\n",
              "      <td>0.968</td>\n",
              "      <td>96.5</td>\n",
              "      <td>2127.17</td>\n",
              "      <td>198.816</td>\n",
              "      <td>0.389</td>\n",
              "      <td>2.266</td>\n",
              "      <td>-5.22</td>\n",
              "      <td>9.79</td>\n",
              "      <td>27.78</td>\n",
              "      <td>323.03</td>\n",
              "    </tr>\n",
              "    <tr>\n",
              "      <th>3</th>\n",
              "      <td>FT</td>\n",
              "      <td>1</td>\n",
              "      <td>0</td>\n",
              "      <td>0</td>\n",
              "      <td>1</td>\n",
              "      <td>1</td>\n",
              "      <td>1.000</td>\n",
              "      <td>95.6</td>\n",
              "      <td>1947.11</td>\n",
              "      <td>198.734</td>\n",
              "      <td>-0.004</td>\n",
              "      <td>2.380</td>\n",
              "      <td>-7.24</td>\n",
              "      <td>8.40</td>\n",
              "      <td>NaN</td>\n",
              "      <td>NaN</td>\n",
              "    </tr>\n",
              "    <tr>\n",
              "      <th>4</th>\n",
              "      <td>FF</td>\n",
              "      <td>1</td>\n",
              "      <td>0</td>\n",
              "      <td>1</td>\n",
              "      <td>1</td>\n",
              "      <td>1</td>\n",
              "      <td>1.000</td>\n",
              "      <td>95.6</td>\n",
              "      <td>1903.08</td>\n",
              "      <td>205.503</td>\n",
              "      <td>0.272</td>\n",
              "      <td>2.421</td>\n",
              "      <td>-6.79</td>\n",
              "      <td>9.37</td>\n",
              "      <td>NaN</td>\n",
              "      <td>NaN</td>\n",
              "    </tr>\n",
              "  </tbody>\n",
              "</table>\n",
              "</div>"
            ],
            "text/plain": [
              "  pitchType  inning  balls  ...  movementVert  battedBallAngle  battedBallDistance\n",
              "0        FF       1      0  ...          8.28              NaN                 NaN\n",
              "1        FT       1      0  ...          7.35              NaN                 NaN\n",
              "2        FF       1      0  ...          9.79            27.78              323.03\n",
              "3        FT       1      0  ...          8.40              NaN                 NaN\n",
              "4        FF       1      0  ...          9.37              NaN                 NaN\n",
              "\n",
              "[5 rows x 16 columns]"
            ]
          },
          "metadata": {
            "tags": []
          },
          "execution_count": 4
        }
      ]
    },
    {
      "cell_type": "code",
      "metadata": {
        "colab": {
          "base_uri": "https://localhost:8080/"
        },
        "id": "pwkHcuEGDiEA",
        "outputId": "9f0c15f5-e751-4d3e-fc16-16ad0174951a"
      },
      "source": [
        "#nulls\n",
        "df.isnull().sum() / df.isnull().count()"
      ],
      "execution_count": 6,
      "outputs": [
        {
          "output_type": "execute_result",
          "data": {
            "text/plain": [
              "pitchType             0.000000\n",
              "inning                0.000000\n",
              "balls                 0.000000\n",
              "strikes               0.000000\n",
              "outs                  0.000000\n",
              "timesFaced            0.000000\n",
              "probCalledStrike      0.000125\n",
              "releaseVelocity       0.000000\n",
              "spinRate              0.077529\n",
              "spinDir               0.003891\n",
              "locationHoriz         0.000000\n",
              "locationVert          0.000000\n",
              "movementHoriz         0.000000\n",
              "movementVert          0.000000\n",
              "battedBallAngle       0.818606\n",
              "battedBallDistance    0.818606\n",
              "dtype: float64"
            ]
          },
          "metadata": {
            "tags": []
          },
          "execution_count": 6
        }
      ]
    },
    {
      "cell_type": "code",
      "metadata": {
        "colab": {
          "base_uri": "https://localhost:8080/"
        },
        "id": "y-zTWznOkqLi",
        "outputId": "9a9008ae-d506-4dbe-9a22-e972611114b2"
      },
      "source": [
        "#drop columns that have a high number of null values\n",
        "df.drop(['battedBallAngle', 'battedBallDistance'], axis=1, inplace=True)\n",
        "df.dropna(inplace=True)\n",
        "df.shape"
      ],
      "execution_count": 7,
      "outputs": [
        {
          "output_type": "execute_result",
          "data": {
            "text/plain": [
              "(73725, 14)"
            ]
          },
          "metadata": {
            "tags": []
          },
          "execution_count": 7
        }
      ]
    },
    {
      "cell_type": "markdown",
      "metadata": {
        "id": "OG5KI6rokMdq"
      },
      "source": [
        "### Reduce the dimensionality of the data using PCA to two components.\n",
        "\n",
        "Don't forget to scale."
      ]
    },
    {
      "cell_type": "code",
      "metadata": {
        "id": "0q4zR46ekMdr"
      },
      "source": [
        "#seperate data\n",
        "X = df.drop(['pitchType'], axis=1)\n",
        "y = df['pitchType']\n",
        "\n",
        "#scale data\n",
        "scale = StandardScaler()\n",
        "X_scale = scale.fit_transform(X)"
      ],
      "execution_count": 9,
      "outputs": []
    },
    {
      "cell_type": "code",
      "metadata": {
        "id": "0hUmz3YS_sIL"
      },
      "source": [
        "#pca \n",
        "pca = PCA(n_components=2)\n",
        "pca.fit(X_scale)\n",
        "X_pca = pca.transform(X_scale)"
      ],
      "execution_count": 10,
      "outputs": []
    },
    {
      "cell_type": "markdown",
      "metadata": {
        "id": "t8robVz0kMdu"
      },
      "source": [
        "### Compute the explained variance for new data set."
      ]
    },
    {
      "cell_type": "code",
      "metadata": {
        "id": "vXoOSvKbkMdv",
        "colab": {
          "base_uri": "https://localhost:8080/"
        },
        "outputId": "51fd26ae-d73a-4b79-e385-5c8e6f500c9f"
      },
      "source": [
        "print('Explained variance for PCA data:', pca.explained_variance_)"
      ],
      "execution_count": 11,
      "outputs": [
        {
          "output_type": "stream",
          "text": [
            "Explained variance for PCA data: [2.40644312 1.48635006]\n"
          ],
          "name": "stdout"
        }
      ]
    },
    {
      "cell_type": "code",
      "metadata": {
        "colab": {
          "base_uri": "https://localhost:8080/"
        },
        "id": "h3Gb3OctBCjn",
        "outputId": "318db058-0a32-4e84-afba-3f4435ae42a4"
      },
      "source": [
        "print('Explained variance ratio for PCA data:', pca.explained_variance_ratio_)"
      ],
      "execution_count": 12,
      "outputs": [
        {
          "output_type": "stream",
          "text": [
            "Explained variance ratio for PCA data: [0.1851085  0.11433307]\n"
          ],
          "name": "stdout"
        }
      ]
    },
    {
      "cell_type": "markdown",
      "metadata": {
        "id": "qxawC8DrkMd1"
      },
      "source": [
        "### Generate a scatter plot that visualizes how the component values are distributed."
      ]
    },
    {
      "cell_type": "code",
      "metadata": {
        "id": "kEsUKRK3kMd1",
        "colab": {
          "base_uri": "https://localhost:8080/",
          "height": 265
        },
        "outputId": "fda259dd-23e7-4fe6-d498-3d62489e4654"
      },
      "source": [
        "plt.scatter(X_pca[:, 0], X_pca[:, 1])\n",
        "plt.show()"
      ],
      "execution_count": 13,
      "outputs": [
        {
          "output_type": "display_data",
          "data": {
            "image/png": "[encoded data removed]",
            "text/plain": [
              "<Figure size 432x288 with 1 Axes>"
            ]
          },
          "metadata": {
            "tags": [],
            "needs_background": "light"
          }
        }
      ]
    },
    {
      "cell_type": "markdown",
      "metadata": {
        "id": "tv6PFBWukMd5"
      },
      "source": [
        "### Create a line plot that shows the explained variance by number of components."
      ]
    },
    {
      "cell_type": "code",
      "metadata": {
        "id": "mNeShOrJkMd5",
        "colab": {
          "base_uri": "https://localhost:8080/",
          "height": 295
        },
        "outputId": "e2551c70-f1fa-4cc3-cfb5-8fdc75787db7"
      },
      "source": [
        "pca_scale = PCA().fit(X_scale)\n",
        "plt.plot(np.cumsum(pca_scale.explained_variance_ratio_))\n",
        "plt.xlabel('number of components')\n",
        "plt.ylabel('cumulative explained variance')\n",
        "plt.title('Line plot of explained variance by components')\n",
        "plt.show()"
      ],
      "execution_count": 14,
      "outputs": [
        {
          "output_type": "display_data",
          "data": {
            "image/png": "[encoded data removed]",
            "text/plain": [
              "<Figure size 432x288 with 1 Axes>"
            ]
          },
          "metadata": {
            "tags": [],
            "needs_background": "light"
          }
        }
      ]
    },
    {
      "cell_type": "markdown",
      "metadata": {
        "id": "jvKzrBEBkMd9"
      },
      "source": [
        "### Iteratively train and score a Random Forest Classifier (to predict `pitchType`).\n",
        "\n",
        "* In each iteration:\n",
        "    * Increase the number of principal components (start with `2`)\n",
        "    * Store the number of components and model score"
      ]
    },
    {
      "cell_type": "code",
      "metadata": {
        "id": "gAjfoq-ckMd-"
      },
      "source": [
        "model = RandomForestClassifier(max_depth=4, random_state=1)"
      ],
      "execution_count": 15,
      "outputs": []
    },
    {
      "cell_type": "code",
      "metadata": {
        "id": "WmPRNkGjun0c"
      },
      "source": [
        "#split to train and test set for predictions\n",
        "X_train, X_test, y_train, y_test = train_test_split(X, y, test_size=0.2)\n",
        "X_train_scale = scale.fit_transform(X_train)\n",
        "X_test_scale = scale.transform(X_test)"
      ],
      "execution_count": 16,
      "outputs": []
    },
    {
      "cell_type": "code",
      "metadata": {
        "id": "3gyrJuR-kMeB",
        "colab": {
          "base_uri": "https://localhost:8080/"
        },
        "outputId": "48a77176-1eab-421b-af59-e4428f0b2e07"
      },
      "source": [
        "#find scores for components\n",
        "scores = []\n",
        "n_components = range(2, len(X.columns))\n",
        "for i in n_components:\n",
        "  pca = PCA(n_components=i)\n",
        "  pca.fit(X_train_scale)\n",
        "  X_pca = pca.transform(X_train_scale)\n",
        "  rf = model.fit(X_pca, y_train)\n",
        "  scores.append(rf.score(X_pca, y_train))\n",
        "  print(f'RandomForest score for {i} components is: {rf.score(X_pca, y_train)}')"
      ],
      "execution_count": 17,
      "outputs": [
        {
          "output_type": "stream",
          "text": [
            "RandomForest score for 2 components is: 0.5860291624279417\n",
            "RandomForest score for 3 components is: 0.5852492370295015\n",
            "RandomForest score for 4 components is: 0.5859952526280094\n",
            "RandomForest score for 5 components is: 0.5855035605289929\n",
            "RandomForest score for 6 components is: 0.5870634113258731\n",
            "RandomForest score for 7 components is: 0.5800610376398779\n",
            "RandomForest score for 8 components is: 0.5688199389623602\n",
            "RandomForest score for 9 components is: 0.6192946761614107\n",
            "RandomForest score for 10 components is: 0.6184977958630045\n",
            "RandomForest score for 11 components is: 0.5999660902000679\n",
            "RandomForest score for 12 components is: 0.5887589013224822\n"
          ],
          "name": "stdout"
        }
      ]
    },
    {
      "cell_type": "markdown",
      "metadata": {
        "id": "n-wxVTKUkMeD"
      },
      "source": [
        "### Create a line plot that shows the training scores across the different numbers of principal components."
      ]
    },
    {
      "cell_type": "code",
      "metadata": {
        "id": "k8p_nUackMeE",
        "colab": {
          "base_uri": "https://localhost:8080/",
          "height": 295
        },
        "outputId": "f3ea1a7a-2229-41c3-ccc1-993b5930db6e"
      },
      "source": [
        "plt.plot(n_components, scores)\n",
        "plt.xlabel('N components')\n",
        "plt.ylabel('RandomForest training scores')\n",
        "plt.title('Line plot scores vs. components')\n",
        "plt.show()"
      ],
      "execution_count": 19,
      "outputs": [
        {
          "output_type": "display_data",
          "data": {
            "image/png": "[encoded data removed]",
            "text/plain": [
              "<Figure size 432x288 with 1 Axes>"
            ]
          },
          "metadata": {
            "tags": [],
            "needs_background": "light"
          }
        }
      ]
    },
    {
      "cell_type": "markdown",
      "metadata": {
        "id": "4gMQsKHmkMeG"
      },
      "source": [
        "### Based on the analysis you conducted, what is the optimal number of principal components?"
      ]
    },
    {
      "cell_type": "code",
      "metadata": {
        "id": "tmGcmaR3kMeH"
      },
      "source": [
        "#the optimal number of principal components is 9\n",
        "#it has 0.62 score which is the highest compared to all"
      ],
      "execution_count": 20,
      "outputs": []
    },
    {
      "cell_type": "code",
      "metadata": {
        "id": "gCFB2GK_xPj0"
      },
      "source": [
        ""
      ],
      "execution_count": null,
      "outputs": []
    }
  ]
}