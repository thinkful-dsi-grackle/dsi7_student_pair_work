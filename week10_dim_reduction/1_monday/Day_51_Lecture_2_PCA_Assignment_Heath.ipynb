{
  "nbformat": 4,
  "nbformat_minor": 0,
  "metadata": {
    "kernelspec": {
      "display_name": "Python 3",
      "language": "python",
      "name": "python3"
    },
    "language_info": {
      "codemirror_mode": {
        "name": "ipython",
        "version": 3
      },
      "file_extension": ".py",
      "mimetype": "text/x-python",
      "name": "python",
      "nbconvert_exporter": "python",
      "pygments_lexer": "ipython3",
      "version": "3.7.6"
    },
    "colab": {
      "name": "Day 51 Lecture 2 PCA Assignment.ipynb",
      "provenance": []
    }
  },
  "cells": [
    {
      "cell_type": "markdown",
      "metadata": {
        "id": "Dl7sU6r-kMdW"
      },
      "source": [
        "# Principal Component Analysis Assignment"
      ]
    },
    {
      "cell_type": "code",
      "metadata": {
        "id": "o-K7WD2akMdY"
      },
      "source": [
        "import numpy as np\n",
        "import pandas as pd\n",
        "\n",
        "from sklearn.decomposition import PCA\n",
        "from sklearn.ensemble import RandomForestClassifier\n",
        "from sklearn.model_selection import train_test_split\n",
        "from sklearn.preprocessing import StandardScaler\n",
        "\n",
        "import seaborn as sns\n",
        "import matplotlib.pyplot as plt\n",
        "\n",
        "%matplotlib inline"
      ],
      "execution_count": 64,
      "outputs": []
    },
    {
      "cell_type": "markdown",
      "metadata": {
        "id": "iMXplj9FkMdh"
      },
      "source": [
        "### Import the [PitchFX data set](https://docs.google.com/spreadsheets/d/1pmBtSw7v_tU_dIX1-4E8_Q7wC43fDs6LGDQzN49-ffk/export?format=csv)."
      ]
    },
    {
      "cell_type": "code",
      "metadata": {
        "id": "XrExc5-BkMdi"
      },
      "source": [
        "data = pd.read_csv('https://docs.google.com/spreadsheets/d/1pmBtSw7v_tU_dIX1-4E8_Q7wC43fDs6LGDQzN49-ffk/export?format=csv')"
      ],
      "execution_count": 65,
      "outputs": []
    },
    {
      "cell_type": "markdown",
      "metadata": {
        "id": "v1Da9H9SkMdm"
      },
      "source": [
        "### Keep only the pitch type and the numeric columns (exluding ID fields).\n",
        "\n",
        "* Drop any remaining records that contain null values.\n",
        "* Consider `pitchType` as `y`/target and the remaining columns to be `X`/features."
      ]
    },
    {
      "cell_type": "code",
      "metadata": {
        "id": "yoWXyJLWkMdm",
        "outputId": "5e836653-dc5c-48c1-9938-bdee9d915e5d",
        "colab": {
          "base_uri": "https://localhost:8080/"
        }
      },
      "source": [
        "dt = pd.concat([data.select_dtypes(include='number'), data.pitchType], axis=1)\n",
        "dt = dt.dropna()\n",
        "dt = dt.drop(['batterId', 'pitcherId', 'catcherId', 'umpireId'], axis = 1)\n",
        "dt.shape"
      ],
      "execution_count": 66,
      "outputs": [
        {
          "output_type": "execute_result",
          "data": {
            "text/plain": [
              "(13438, 16)"
            ]
          },
          "metadata": {
            "tags": []
          },
          "execution_count": 66
        }
      ]
    },
    {
      "cell_type": "markdown",
      "metadata": {
        "id": "OG5KI6rokMdq"
      },
      "source": [
        "### Reduce the dimensionality of the data using PCA to two components.\n",
        "\n",
        "Don't forget to scale."
      ]
    },
    {
      "cell_type": "code",
      "metadata": {
        "id": "0q4zR46ekMdr"
      },
      "source": [
        "pca = PCA(n_components=2)\n",
        "X = dt.drop('pitchType', axis=1)\n",
        "y = dt.pitchType\n",
        "scaler = StandardScaler()\n",
        "X_scaled = scaler.fit_transform(X)\n",
        "X_scaled_pca = pca.fit_transform(X_scaled)\n",
        "pca1 = X_scaled_pca[:, 0]\n",
        "pca2 = X_scaled_pca[:, 1]"
      ],
      "execution_count": 76,
      "outputs": []
    },
    {
      "cell_type": "markdown",
      "metadata": {
        "id": "t8robVz0kMdu"
      },
      "source": [
        "### Compute the explained variance for new data set."
      ]
    },
    {
      "cell_type": "code",
      "metadata": {
        "id": "vXoOSvKbkMdv",
        "outputId": "7a9607be-bfc7-4913-f635-d37fa8bc1857",
        "colab": {
          "base_uri": "https://localhost:8080/"
        }
      },
      "source": [
        "pca.explained_variance_"
      ],
      "execution_count": 77,
      "outputs": [
        {
          "output_type": "execute_result",
          "data": {
            "text/plain": [
              "array([2.3876596 , 1.62387854])"
            ]
          },
          "metadata": {
            "tags": []
          },
          "execution_count": 77
        }
      ]
    },
    {
      "cell_type": "markdown",
      "metadata": {
        "id": "qxawC8DrkMd1"
      },
      "source": [
        "### Generate a scatter plot that visualizes how the component values are distributed."
      ]
    },
    {
      "cell_type": "code",
      "metadata": {
        "id": "kEsUKRK3kMd1",
        "outputId": "4a4ab4fe-6b41-440b-f560-a1f17430d254",
        "colab": {
          "base_uri": "https://localhost:8080/",
          "height": 282
        }
      },
      "source": [
        "plt.scatter(pca1, pca2)"
      ],
      "execution_count": 78,
      "outputs": [
        {
          "output_type": "execute_result",
          "data": {
            "text/plain": [
              "<matplotlib.collections.PathCollection at 0x7efd0003a390>"
            ]
          },
          "metadata": {
            "tags": []
          },
          "execution_count": 78
        },
        {
          "output_type": "display_data",
          "data": {
            "image/png": "[encoded data removed]",
            "text/plain": [
              "<Figure size 432x288 with 1 Axes>"
            ]
          },
          "metadata": {
            "tags": [],
            "needs_background": "light"
          }
        }
      ]
    },
    {
      "cell_type": "markdown",
      "metadata": {
        "id": "tv6PFBWukMd5"
      },
      "source": [
        "### Create a line plot that shows the explained variance by number of components."
      ]
    },
    {
      "cell_type": "code",
      "metadata": {
        "id": "mNeShOrJkMd5",
        "outputId": "8dfe002d-0e5a-47b6-fa1b-2caf1fa48389",
        "colab": {
          "base_uri": "https://localhost:8080/",
          "height": 530
        }
      },
      "source": [
        "plt.plot([1, 2], pca.explained_variance_)\n",
        "plt.show()\n",
        "plt.plot(pca.explained_variance_ratio_)"
      ],
      "execution_count": 82,
      "outputs": [
        {
          "output_type": "display_data",
          "data": {
            "image/png": "[encoded data removed]",
            "text/plain": [
              "<Figure size 432x288 with 1 Axes>"
            ]
          },
          "metadata": {
            "tags": [],
            "needs_background": "light"
          }
        },
        {
          "output_type": "execute_result",
          "data": {
            "text/plain": [
              "[<matplotlib.lines.Line2D at 0x7efd0071e198>]"
            ]
          },
          "metadata": {
            "tags": []
          },
          "execution_count": 82
        },
        {
          "output_type": "display_data",
          "data": {
            "image/png": "[encoded data removed]",
            "text/plain": [
              "<Figure size 432x288 with 1 Axes>"
            ]
          },
          "metadata": {
            "tags": [],
            "needs_background": "light"
          }
        }
      ]
    },
    {
      "cell_type": "markdown",
      "metadata": {
        "id": "jvKzrBEBkMd9"
      },
      "source": [
        "### Iteratively train and score a Random Forest Classifier (to predict `pitchType`).\n",
        "\n",
        "* In each iteration:\n",
        "    * Increase the number of principal components (start with `2`)\n",
        "    * Store the number of components and model score"
      ]
    },
    {
      "cell_type": "code",
      "metadata": {
        "id": "gAjfoq-ckMd-"
      },
      "source": [
        "model = RandomForestClassifier(max_depth=4, random_state=1)"
      ],
      "execution_count": 83,
      "outputs": []
    },
    {
      "cell_type": "code",
      "metadata": {
        "id": "3gyrJuR-kMeB"
      },
      "source": [
        "\n",
        "from sklearn.metrics import f1_score\n",
        "\n",
        "components = []\n",
        "\n",
        "test_scores = []\n",
        "train_scores = []\n",
        "\n",
        "for i in range(2, 15):\n",
        "  X_train, X_test, y_train, y_test = train_test_split(X_scaled, y)\n",
        "  components.append(i)\n",
        "  pca = PCA(n_components=i)\n",
        "  X_train_pca = pca.fit_transform(X_train)\n",
        "  X_test_pca = pca.transform(X_test)\n",
        "\n",
        "  model.fit(X_train_pca, y_train)\n",
        "  y_pred_test = model.predict(X_test_pca)\n",
        "  test_scores.append(f1_score(y_test, y_pred_test, average='micro'))\n",
        "  \n",
        "  y_pred_train = model.predict(X_train_pca)\n",
        "  train_scores.append(f1_score(y_train, y_pred_train, average='micro'))\n",
        "  \n"
      ],
      "execution_count": 91,
      "outputs": []
    },
    {
      "cell_type": "markdown",
      "metadata": {
        "id": "n-wxVTKUkMeD"
      },
      "source": [
        "### Create a line plot that shows the training scores across the different numbers of principal components."
      ]
    },
    {
      "cell_type": "code",
      "metadata": {
        "id": "tw1RBiSxxKaf",
        "outputId": "820f7e88-84db-4794-d05b-bb5b78ddec7e",
        "colab": {
          "base_uri": "https://localhost:8080/"
        }
      },
      "source": [
        "train_scores"
      ],
      "execution_count": 92,
      "outputs": [
        {
          "output_type": "execute_result",
          "data": {
            "text/plain": [
              "[0.5528874776741417,\n",
              " 0.5501091486406033,\n",
              " 0.5650922802143282,\n",
              " 0.5617185949593173,\n",
              " 0.5603294304425481,\n",
              " 0.5603294304425481,\n",
              " 0.5655884103988886,\n",
              " 0.5886088509624926,\n",
              " 0.5825560627108554,\n",
              " 0.5843421313752729,\n",
              " 0.5542766421909109,\n",
              " 0.5466362373486803,\n",
              " 0.5594363961103394]"
            ]
          },
          "metadata": {
            "tags": []
          },
          "execution_count": 92
        }
      ]
    },
    {
      "cell_type": "code",
      "metadata": {
        "id": "k8p_nUackMeE",
        "outputId": "fa21befd-f233-467d-cf01-5e8c15239e36",
        "colab": {
          "base_uri": "https://localhost:8080/",
          "height": 283
        }
      },
      "source": [
        "plt.plot(components, train_scores)"
      ],
      "execution_count": 93,
      "outputs": [
        {
          "output_type": "execute_result",
          "data": {
            "text/plain": [
              "[<matplotlib.lines.Line2D at 0x7efcffcd6c88>]"
            ]
          },
          "metadata": {
            "tags": []
          },
          "execution_count": 93
        },
        {
          "output_type": "display_data",
          "data": {
            "image/png": "[encoded data removed]",
            "text/plain": [
              "<Figure size 432x288 with 1 Axes>"
            ]
          },
          "metadata": {
            "tags": [],
            "needs_background": "light"
          }
        }
      ]
    },
    {
      "cell_type": "markdown",
      "metadata": {
        "id": "4gMQsKHmkMeG"
      },
      "source": [
        "### Based on the analysis you conducted, what is the optimal number of principal components?"
      ]
    },
    {
      "cell_type": "markdown",
      "metadata": {
        "id": "3PvpVIUiznOv"
      },
      "source": [
        "9"
      ]
    },
    {
      "cell_type": "code",
      "metadata": {
        "id": "TQ60T3L20nDE",
        "outputId": "fd6a2b38-938e-4331-a78a-8cbf8b9472ec",
        "colab": {
          "base_uri": "https://localhost:8080/",
          "height": 282
        }
      },
      "source": [
        "plt.plot(np.cumsum(pca.explained_variance_ratio_))"
      ],
      "execution_count": 94,
      "outputs": [
        {
          "output_type": "execute_result",
          "data": {
            "text/plain": [
              "[<matplotlib.lines.Line2D at 0x7efcffc35be0>]"
            ]
          },
          "metadata": {
            "tags": []
          },
          "execution_count": 94
        },
        {
          "output_type": "display_data",
          "data": {
            "image/png": "[encoded data removed]",
            "text/plain": [
              "<Figure size 432x288 with 1 Axes>"
            ]
          },
          "metadata": {
            "tags": [],
            "needs_background": "light"
          }
        }
      ]
    }
  ]
}