{
  "nbformat": 4,
  "nbformat_minor": 0,
  "metadata": {
    "kernelspec": {
      "display_name": "Python 3",
      "language": "python",
      "name": "python3"
    },
    "language_info": {
      "codemirror_mode": {
        "name": "ipython",
        "version": 3
      },
      "file_extension": ".py",
      "mimetype": "text/x-python",
      "name": "python",
      "nbconvert_exporter": "python",
      "pygments_lexer": "ipython3",
      "version": "3.7.6"
    },
    "colab": {
      "name": "Tarrant_PCA_Assignment.ipynb",
      "provenance": [],
      "collapsed_sections": []
    }
  },
  "cells": [
    {
      "cell_type": "markdown",
      "metadata": {
        "id": "Dl7sU6r-kMdW"
      },
      "source": [
        "# Principal Component Analysis Assignment"
      ]
    },
    {
      "cell_type": "code",
      "metadata": {
        "id": "o-K7WD2akMdY"
      },
      "source": [
        "import numpy as np\n",
        "import pandas as pd\n",
        "\n",
        "from sklearn.decomposition import PCA\n",
        "from sklearn.ensemble import RandomForestClassifier\n",
        "from sklearn.model_selection import train_test_split\n",
        "from sklearn.preprocessing import StandardScaler\n",
        "\n",
        "import seaborn as sns\n",
        "import matplotlib.pyplot as plt\n",
        "\n",
        "%matplotlib inline"
      ],
      "execution_count": 1,
      "outputs": []
    },
    {
      "cell_type": "markdown",
      "metadata": {
        "id": "iMXplj9FkMdh"
      },
      "source": [
        "### Import the [PitchFX data set](https://docs.google.com/spreadsheets/d/1pmBtSw7v_tU_dIX1-4E8_Q7wC43fDs6LGDQzN49-ffk/export?format=csv)."
      ]
    },
    {
      "cell_type": "code",
      "metadata": {
        "id": "XrExc5-BkMdi"
      },
      "source": [
        "data = pd.read_csv('https://docs.google.com/spreadsheets/d/1pmBtSw7v_tU_dIX1-4E8_Q7wC43fDs6LGDQzN49-ffk/export?format=csv')"
      ],
      "execution_count": 2,
      "outputs": []
    },
    {
      "cell_type": "code",
      "metadata": {
        "colab": {
          "base_uri": "https://localhost:8080/",
          "height": 1000
        },
        "id": "NKcoXESz3rQ_",
        "outputId": "62879ea2-e80e-4af6-83f8-0aec319fdf20"
      },
      "source": [
        "data.info()\n",
        "data.head()"
      ],
      "execution_count": 3,
      "outputs": [
        {
          "output_type": "stream",
          "text": [
            "<class 'pandas.core.frame.DataFrame'>\n",
            "RangeIndex: 79931 entries, 0 to 79930\n",
            "Data columns (total 35 columns):\n",
            " #   Column              Non-Null Count  Dtype  \n",
            "---  ------              --------------  -----  \n",
            " 0   gameString          79931 non-null  object \n",
            " 1   gameDate            79931 non-null  object \n",
            " 2   visitor             79931 non-null  object \n",
            " 3   home                79931 non-null  object \n",
            " 4   inning              79931 non-null  int64  \n",
            " 5   side                79931 non-null  object \n",
            " 6   balls               79931 non-null  int64  \n",
            " 7   strikes             79931 non-null  int64  \n",
            " 8   outs                79931 non-null  int64  \n",
            " 9   batterId            79931 non-null  int64  \n",
            " 10  batterName          79931 non-null  object \n",
            " 11  batterHand          79931 non-null  object \n",
            " 12  batterPosition      79931 non-null  object \n",
            " 13  pitcherId           79931 non-null  int64  \n",
            " 14  pitcherName         79931 non-null  object \n",
            " 15  pitcherHand         79931 non-null  object \n",
            " 16  timesFaced          79931 non-null  int64  \n",
            " 17  catcherId           79931 non-null  int64  \n",
            " 18  catcher             79931 non-null  object \n",
            " 19  umpireId            79931 non-null  int64  \n",
            " 20  umpire              79931 non-null  object \n",
            " 21  probCalledStrike    79921 non-null  float64\n",
            " 22  pitchResult         79931 non-null  object \n",
            " 23  pitchType           79931 non-null  object \n",
            " 24  releaseVelocity     79931 non-null  float64\n",
            " 25  spinRate            73734 non-null  float64\n",
            " 26  spinDir             79620 non-null  float64\n",
            " 27  locationHoriz       79931 non-null  float64\n",
            " 28  locationVert        79931 non-null  float64\n",
            " 29  movementHoriz       79931 non-null  float64\n",
            " 30  movementVert        79931 non-null  float64\n",
            " 31  battedBallType      14499 non-null  object \n",
            " 32  battedBallAngle     14499 non-null  float64\n",
            " 33  battedBallDistance  14499 non-null  float64\n",
            " 34  paResult            20591 non-null  object \n",
            "dtypes: float64(10), int64(9), object(16)\n",
            "memory usage: 21.3+ MB\n"
          ],
          "name": "stdout"
        },
        {
          "output_type": "execute_result",
          "data": {
            "text/html": [
              "<div>\n",
              "<style scoped>\n",
              "    .dataframe tbody tr th:only-of-type {\n",
              "        vertical-align: middle;\n",
              "    }\n",
              "\n",
              "    .dataframe tbody tr th {\n",
              "        vertical-align: top;\n",
              "    }\n",
              "\n",
              "    .dataframe thead th {\n",
              "        text-align: right;\n",
              "    }\n",
              "</style>\n",
              "<table border=\"1\" class=\"dataframe\">\n",
              "  <thead>\n",
              "    <tr style=\"text-align: right;\">\n",
              "      <th></th>\n",
              "      <th>gameString</th>\n",
              "      <th>gameDate</th>\n",
              "      <th>visitor</th>\n",
              "      <th>home</th>\n",
              "      <th>inning</th>\n",
              "      <th>side</th>\n",
              "      <th>balls</th>\n",
              "      <th>strikes</th>\n",
              "      <th>outs</th>\n",
              "      <th>batterId</th>\n",
              "      <th>batterName</th>\n",
              "      <th>batterHand</th>\n",
              "      <th>batterPosition</th>\n",
              "      <th>pitcherId</th>\n",
              "      <th>pitcherName</th>\n",
              "      <th>pitcherHand</th>\n",
              "      <th>timesFaced</th>\n",
              "      <th>catcherId</th>\n",
              "      <th>catcher</th>\n",
              "      <th>umpireId</th>\n",
              "      <th>umpire</th>\n",
              "      <th>probCalledStrike</th>\n",
              "      <th>pitchResult</th>\n",
              "      <th>pitchType</th>\n",
              "      <th>releaseVelocity</th>\n",
              "      <th>spinRate</th>\n",
              "      <th>spinDir</th>\n",
              "      <th>locationHoriz</th>\n",
              "      <th>locationVert</th>\n",
              "      <th>movementHoriz</th>\n",
              "      <th>movementVert</th>\n",
              "      <th>battedBallType</th>\n",
              "      <th>battedBallAngle</th>\n",
              "      <th>battedBallDistance</th>\n",
              "      <th>paResult</th>\n",
              "    </tr>\n",
              "  </thead>\n",
              "  <tbody>\n",
              "    <tr>\n",
              "      <th>0</th>\n",
              "      <td>gid_2016_04_04_sfnmlb_milmlb_1</td>\n",
              "      <td>2016-04-04</td>\n",
              "      <td>SF</td>\n",
              "      <td>MIL</td>\n",
              "      <td>1</td>\n",
              "      <td>T</td>\n",
              "      <td>0</td>\n",
              "      <td>0</td>\n",
              "      <td>0</td>\n",
              "      <td>452655</td>\n",
              "      <td>Denard Span</td>\n",
              "      <td>L</td>\n",
              "      <td>CF</td>\n",
              "      <td>503449</td>\n",
              "      <td>Wily Peralta</td>\n",
              "      <td>R</td>\n",
              "      <td>1</td>\n",
              "      <td>518960</td>\n",
              "      <td>Jonathan Lucroy</td>\n",
              "      <td>427192</td>\n",
              "      <td>Brian Gorman</td>\n",
              "      <td>0.975</td>\n",
              "      <td>SL</td>\n",
              "      <td>FF</td>\n",
              "      <td>94.2</td>\n",
              "      <td>2044.22</td>\n",
              "      <td>205.477</td>\n",
              "      <td>-0.374</td>\n",
              "      <td>2.933</td>\n",
              "      <td>-6.93</td>\n",
              "      <td>8.28</td>\n",
              "      <td>NaN</td>\n",
              "      <td>NaN</td>\n",
              "      <td>NaN</td>\n",
              "      <td>NaN</td>\n",
              "    </tr>\n",
              "    <tr>\n",
              "      <th>1</th>\n",
              "      <td>gid_2016_04_04_sfnmlb_milmlb_1</td>\n",
              "      <td>2016-04-04</td>\n",
              "      <td>SF</td>\n",
              "      <td>MIL</td>\n",
              "      <td>1</td>\n",
              "      <td>T</td>\n",
              "      <td>0</td>\n",
              "      <td>1</td>\n",
              "      <td>0</td>\n",
              "      <td>452655</td>\n",
              "      <td>Denard Span</td>\n",
              "      <td>L</td>\n",
              "      <td>CF</td>\n",
              "      <td>503449</td>\n",
              "      <td>Wily Peralta</td>\n",
              "      <td>R</td>\n",
              "      <td>1</td>\n",
              "      <td>518960</td>\n",
              "      <td>Jonathan Lucroy</td>\n",
              "      <td>427192</td>\n",
              "      <td>Brian Gorman</td>\n",
              "      <td>0.745</td>\n",
              "      <td>SL</td>\n",
              "      <td>FT</td>\n",
              "      <td>97.1</td>\n",
              "      <td>1966.32</td>\n",
              "      <td>220.143</td>\n",
              "      <td>0.342</td>\n",
              "      <td>3.223</td>\n",
              "      <td>-7.48</td>\n",
              "      <td>7.35</td>\n",
              "      <td>NaN</td>\n",
              "      <td>NaN</td>\n",
              "      <td>NaN</td>\n",
              "      <td>NaN</td>\n",
              "    </tr>\n",
              "    <tr>\n",
              "      <th>2</th>\n",
              "      <td>gid_2016_04_04_sfnmlb_milmlb_1</td>\n",
              "      <td>2016-04-04</td>\n",
              "      <td>SF</td>\n",
              "      <td>MIL</td>\n",
              "      <td>1</td>\n",
              "      <td>T</td>\n",
              "      <td>0</td>\n",
              "      <td>2</td>\n",
              "      <td>0</td>\n",
              "      <td>452655</td>\n",
              "      <td>Denard Span</td>\n",
              "      <td>L</td>\n",
              "      <td>CF</td>\n",
              "      <td>503449</td>\n",
              "      <td>Wily Peralta</td>\n",
              "      <td>R</td>\n",
              "      <td>1</td>\n",
              "      <td>518960</td>\n",
              "      <td>Jonathan Lucroy</td>\n",
              "      <td>427192</td>\n",
              "      <td>Brian Gorman</td>\n",
              "      <td>0.968</td>\n",
              "      <td>IP</td>\n",
              "      <td>FF</td>\n",
              "      <td>96.5</td>\n",
              "      <td>2127.17</td>\n",
              "      <td>198.816</td>\n",
              "      <td>0.389</td>\n",
              "      <td>2.266</td>\n",
              "      <td>-5.22</td>\n",
              "      <td>9.79</td>\n",
              "      <td>FB</td>\n",
              "      <td>27.78</td>\n",
              "      <td>323.03</td>\n",
              "      <td>IP_OUT</td>\n",
              "    </tr>\n",
              "    <tr>\n",
              "      <th>3</th>\n",
              "      <td>gid_2016_04_04_sfnmlb_milmlb_1</td>\n",
              "      <td>2016-04-04</td>\n",
              "      <td>SF</td>\n",
              "      <td>MIL</td>\n",
              "      <td>1</td>\n",
              "      <td>T</td>\n",
              "      <td>0</td>\n",
              "      <td>0</td>\n",
              "      <td>1</td>\n",
              "      <td>605412</td>\n",
              "      <td>Joe Panik</td>\n",
              "      <td>L</td>\n",
              "      <td>2B</td>\n",
              "      <td>503449</td>\n",
              "      <td>Wily Peralta</td>\n",
              "      <td>R</td>\n",
              "      <td>1</td>\n",
              "      <td>518960</td>\n",
              "      <td>Jonathan Lucroy</td>\n",
              "      <td>427192</td>\n",
              "      <td>Brian Gorman</td>\n",
              "      <td>1.000</td>\n",
              "      <td>SL</td>\n",
              "      <td>FT</td>\n",
              "      <td>95.6</td>\n",
              "      <td>1947.11</td>\n",
              "      <td>198.734</td>\n",
              "      <td>-0.004</td>\n",
              "      <td>2.380</td>\n",
              "      <td>-7.24</td>\n",
              "      <td>8.40</td>\n",
              "      <td>NaN</td>\n",
              "      <td>NaN</td>\n",
              "      <td>NaN</td>\n",
              "      <td>NaN</td>\n",
              "    </tr>\n",
              "    <tr>\n",
              "      <th>4</th>\n",
              "      <td>gid_2016_04_04_sfnmlb_milmlb_1</td>\n",
              "      <td>2016-04-04</td>\n",
              "      <td>SF</td>\n",
              "      <td>MIL</td>\n",
              "      <td>1</td>\n",
              "      <td>T</td>\n",
              "      <td>0</td>\n",
              "      <td>1</td>\n",
              "      <td>1</td>\n",
              "      <td>605412</td>\n",
              "      <td>Joe Panik</td>\n",
              "      <td>L</td>\n",
              "      <td>2B</td>\n",
              "      <td>503449</td>\n",
              "      <td>Wily Peralta</td>\n",
              "      <td>R</td>\n",
              "      <td>1</td>\n",
              "      <td>518960</td>\n",
              "      <td>Jonathan Lucroy</td>\n",
              "      <td>427192</td>\n",
              "      <td>Brian Gorman</td>\n",
              "      <td>1.000</td>\n",
              "      <td>F</td>\n",
              "      <td>FF</td>\n",
              "      <td>95.6</td>\n",
              "      <td>1903.08</td>\n",
              "      <td>205.503</td>\n",
              "      <td>0.272</td>\n",
              "      <td>2.421</td>\n",
              "      <td>-6.79</td>\n",
              "      <td>9.37</td>\n",
              "      <td>NaN</td>\n",
              "      <td>NaN</td>\n",
              "      <td>NaN</td>\n",
              "      <td>NaN</td>\n",
              "    </tr>\n",
              "  </tbody>\n",
              "</table>\n",
              "</div>"
            ],
            "text/plain": [
              "                       gameString    gameDate  ... battedBallDistance paResult\n",
              "0  gid_2016_04_04_sfnmlb_milmlb_1  2016-04-04  ...                NaN      NaN\n",
              "1  gid_2016_04_04_sfnmlb_milmlb_1  2016-04-04  ...                NaN      NaN\n",
              "2  gid_2016_04_04_sfnmlb_milmlb_1  2016-04-04  ...             323.03   IP_OUT\n",
              "3  gid_2016_04_04_sfnmlb_milmlb_1  2016-04-04  ...                NaN      NaN\n",
              "4  gid_2016_04_04_sfnmlb_milmlb_1  2016-04-04  ...                NaN      NaN\n",
              "\n",
              "[5 rows x 35 columns]"
            ]
          },
          "metadata": {
            "tags": []
          },
          "execution_count": 3
        }
      ]
    },
    {
      "cell_type": "markdown",
      "metadata": {
        "id": "v1Da9H9SkMdm"
      },
      "source": [
        "### Keep only the pitch type and the numeric columns (exluding ID fields).\n",
        "\n",
        "* Drop any remaining records that contain null values.\n",
        "* Consider `pitchType` as `y`/target and the remaining columns to be `X`/features."
      ]
    },
    {
      "cell_type": "code",
      "metadata": {
        "id": "yoWXyJLWkMdm",
        "colab": {
          "base_uri": "https://localhost:8080/"
        },
        "outputId": "acfa2d1e-6e24-495a-e94a-0283af4160dc"
      },
      "source": [
        "df = data.dropna()\n",
        "\n",
        "df.isnull().sum().sort_values(ascending=False)"
      ],
      "execution_count": 4,
      "outputs": [
        {
          "output_type": "execute_result",
          "data": {
            "text/plain": [
              "paResult              0\n",
              "outs                  0\n",
              "pitcherName           0\n",
              "pitcherId             0\n",
              "batterPosition        0\n",
              "batterHand            0\n",
              "batterName            0\n",
              "batterId              0\n",
              "strikes               0\n",
              "timesFaced            0\n",
              "balls                 0\n",
              "side                  0\n",
              "inning                0\n",
              "home                  0\n",
              "visitor               0\n",
              "gameDate              0\n",
              "pitcherHand           0\n",
              "catcherId             0\n",
              "battedBallDistance    0\n",
              "spinDir               0\n",
              "battedBallAngle       0\n",
              "battedBallType        0\n",
              "movementVert          0\n",
              "movementHoriz         0\n",
              "locationVert          0\n",
              "locationHoriz         0\n",
              "spinRate              0\n",
              "catcher               0\n",
              "releaseVelocity       0\n",
              "pitchType             0\n",
              "pitchResult           0\n",
              "probCalledStrike      0\n",
              "umpire                0\n",
              "umpireId              0\n",
              "gameString            0\n",
              "dtype: int64"
            ]
          },
          "metadata": {
            "tags": []
          },
          "execution_count": 4
        }
      ]
    },
    {
      "cell_type": "code",
      "metadata": {
        "id": "3Y0t8Xa49lu7"
      },
      "source": [
        "numeric = df.select_dtypes(['number'])\n",
        "X = numeric.drop(['batterId', 'pitcherId', 'catcherId', 'umpireId'], axis=1)\n",
        "y = df['pitchType']"
      ],
      "execution_count": 5,
      "outputs": []
    },
    {
      "cell_type": "markdown",
      "metadata": {
        "id": "OG5KI6rokMdq"
      },
      "source": [
        "### Reduce the dimensionality of the data using PCA to two components.\n",
        "\n",
        "Don't forget to scale."
      ]
    },
    {
      "cell_type": "code",
      "metadata": {
        "id": "0q4zR46ekMdr"
      },
      "source": [
        "scale = StandardScaler()\n",
        "X_scale = scale.fit_transform(X)\n",
        "\n",
        "pca = PCA(n_components=2)\n",
        "X_pca = pca.fit_transform(X_scale)"
      ],
      "execution_count": 6,
      "outputs": []
    },
    {
      "cell_type": "markdown",
      "metadata": {
        "id": "t8robVz0kMdu"
      },
      "source": [
        "### Compute the explained variance for new data set."
      ]
    },
    {
      "cell_type": "code",
      "metadata": {
        "id": "vXoOSvKbkMdv",
        "colab": {
          "base_uri": "https://localhost:8080/"
        },
        "outputId": "7e674a8c-037c-47cf-d634-c3301908e30a"
      },
      "source": [
        "exp_var_ratio = pca.explained_variance_ratio_\n",
        "print(exp_var_ratio)\n"
      ],
      "execution_count": 7,
      "outputs": [
        {
          "output_type": "stream",
          "text": [
            "[0.15916517 0.10825071]\n"
          ],
          "name": "stdout"
        }
      ]
    },
    {
      "cell_type": "markdown",
      "metadata": {
        "id": "qxawC8DrkMd1"
      },
      "source": [
        "### Generate a scatter plot that visualizes how the component values are distributed."
      ]
    },
    {
      "cell_type": "code",
      "metadata": {
        "id": "kEsUKRK3kMd1",
        "colab": {
          "base_uri": "https://localhost:8080/",
          "height": 295
        },
        "outputId": "11c7da25-9a92-4480-c0fb-cedc9b42a60b"
      },
      "source": [
        "plt.scatter(X_pca[:, 0],X_pca[:, 1])\n",
        "plt.title('Plot of PCA Component #1 vs PCA Component #2')\n",
        "plt.xlabel('PCA Component #1')\n",
        "plt.ylabel('PCA Component #2')\n",
        "plt.show()"
      ],
      "execution_count": 8,
      "outputs": [
        {
          "output_type": "display_data",
          "data": {
            "image/png": "[encoded data removed]",
            "text/plain": [
              "<Figure size 432x288 with 1 Axes>"
            ]
          },
          "metadata": {
            "tags": [],
            "needs_background": "light"
          }
        }
      ]
    },
    {
      "cell_type": "markdown",
      "metadata": {
        "id": "tv6PFBWukMd5"
      },
      "source": [
        "### Create a line plot that shows the explained variance by number of components."
      ]
    },
    {
      "cell_type": "code",
      "metadata": {
        "id": "mNeShOrJkMd5",
        "colab": {
          "base_uri": "https://localhost:8080/",
          "height": 279
        },
        "outputId": "39a14ef7-dead-410f-dbd2-a8e311bef2f2"
      },
      "source": [
        "plt.plot(exp_var_ratio)\n",
        "plt.xlabel('Number of Components')\n",
        "plt.ylabel('Explained Variance')\n",
        "plt.show()"
      ],
      "execution_count": 9,
      "outputs": [
        {
          "output_type": "display_data",
          "data": {
            "image/png": "[encoded data removed]",
            "text/plain": [
              "<Figure size 432x288 with 1 Axes>"
            ]
          },
          "metadata": {
            "tags": [],
            "needs_background": "light"
          }
        }
      ]
    },
    {
      "cell_type": "markdown",
      "metadata": {
        "id": "jvKzrBEBkMd9"
      },
      "source": [
        "### Iteratively train and score a Random Forest Classifier (to predict `pitchType`).\n",
        "\n",
        "* In each iteration:\n",
        "    * Increase the number of principal components (start with `2`)\n",
        "    * Store the number of components and model score"
      ]
    },
    {
      "cell_type": "code",
      "metadata": {
        "id": "gAjfoq-ckMd-"
      },
      "source": [
        "model = RandomForestClassifier(max_depth=4, random_state=1)"
      ],
      "execution_count": 10,
      "outputs": []
    },
    {
      "cell_type": "code",
      "metadata": {
        "id": "3gyrJuR-kMeB"
      },
      "source": [
        "scores = []\n",
        "for i in range(2,16):\n",
        "  pca = PCA(n_components=i)\n",
        "  X_pca = pca.fit_transform(X_scale)\n",
        "  X_train, X_test, y_train, y_test = train_test_split(X_pca,y,test_size=0.2, random_state=780)\n",
        "  model = RandomForestClassifier(max_depth=4, random_state=1)\n",
        "  model.fit(X_train, y_train)\n",
        "  scores.append(model.score(X_pca,y))\n"
      ],
      "execution_count": 12,
      "outputs": []
    },
    {
      "cell_type": "code",
      "metadata": {
        "colab": {
          "base_uri": "https://localhost:8080/"
        },
        "id": "HyitCeqwmMiT",
        "outputId": "211f9d12-8330-4450-ba70-c92ce2d06580"
      },
      "source": [
        "scores"
      ],
      "execution_count": 13,
      "outputs": [
        {
          "output_type": "execute_result",
          "data": {
            "text/plain": [
              "[0.5528352433397827,\n",
              " 0.5519422533115047,\n",
              " 0.5593838368804882,\n",
              " 0.5633278761720494,\n",
              " 0.5600535794016966,\n",
              " 0.5564816192885846,\n",
              " 0.5654859354070546,\n",
              " 0.5875130227712457,\n",
              " 0.5794761125167436,\n",
              " 0.5783598749813961,\n",
              " 0.5579699360023813,\n",
              " 0.5477005506771842,\n",
              " 0.5422681946718262,\n",
              " 0.5584164310165203]"
            ]
          },
          "metadata": {
            "tags": []
          },
          "execution_count": 13
        }
      ]
    },
    {
      "cell_type": "markdown",
      "metadata": {
        "id": "n-wxVTKUkMeD"
      },
      "source": [
        "### Create a line plot that shows the training scores across the different numbers of principal components."
      ]
    },
    {
      "cell_type": "code",
      "metadata": {
        "id": "k8p_nUackMeE",
        "colab": {
          "base_uri": "https://localhost:8080/",
          "height": 279
        },
        "outputId": "5c050a79-5dbb-40f5-90c6-790c40406f71"
      },
      "source": [
        "plt.plot(range(2,16),scores)\n",
        "plt.xlabel('Number of Components')\n",
        "plt.ylabel('Model Score')\n",
        "plt.axvline(x = 9, color ='red') \n",
        "plt.show()"
      ],
      "execution_count": 15,
      "outputs": [
        {
          "output_type": "display_data",
          "data": {
            "image/png": "[encoded data removed]",
            "text/plain": [
              "<Figure size 432x288 with 1 Axes>"
            ]
          },
          "metadata": {
            "tags": [],
            "needs_background": "light"
          }
        }
      ]
    },
    {
      "cell_type": "markdown",
      "metadata": {
        "id": "4gMQsKHmkMeG"
      },
      "source": [
        "### Based on the analysis you conducted, what is the optimal number of principal components?"
      ]
    },
    {
      "cell_type": "markdown",
      "metadata": {
        "id": "mm_o0Ldnm3D5"
      },
      "source": [
        "The best model score came from the model with 9 principal components. "
      ]
    }
  ]
}