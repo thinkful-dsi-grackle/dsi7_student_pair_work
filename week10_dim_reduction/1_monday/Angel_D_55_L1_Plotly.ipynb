{
  "nbformat": 4,
  "nbformat_minor": 0,
  "metadata": {
    "kernelspec": {
      "display_name": "Python 3",
      "language": "python",
      "name": "python3"
    },
    "language_info": {
      "codemirror_mode": {
        "name": "ipython",
        "version": 3
      },
      "file_extension": ".py",
      "mimetype": "text/x-python",
      "name": "python",
      "nbconvert_exporter": "python",
      "pygments_lexer": "ipython3",
      "version": "3.7.2"
    },
    "colab": {
      "name": "Angel_D_55_L1_Plotly.ipynb",
      "provenance": [],
      "collapsed_sections": []
    },
    "widgets": {
      "application/vnd.jupyter.widget-state+json": {
        "9e90e4b982f4412688e2e4d6d4d25153": {
          "model_module": "@jupyter-widgets/controls",
          "model_name": "VBoxModel",
          "state": {
            "_view_name": "VBoxView",
            "_dom_classes": [
              "widget-interact"
            ],
            "_model_name": "VBoxModel",
            "_view_module": "@jupyter-widgets/controls",
            "_model_module_version": "1.5.0",
            "_view_count": null,
            "_view_module_version": "1.5.0",
            "box_style": "",
            "layout": "IPY_MODEL_c61806f3ae3c44c393a8f1c2f25a4efd",
            "_model_module": "@jupyter-widgets/controls",
            "children": [
              "IPY_MODEL_4949b12df41d497fa0da4b77846886b9",
              "IPY_MODEL_5d519a6d511642eabbcf262ad05acd06",
              "IPY_MODEL_f70cb0ef254a439684c16dee4d6d7c3c"
            ]
          }
        },
        "c61806f3ae3c44c393a8f1c2f25a4efd": {
          "model_module": "@jupyter-widgets/base",
          "model_name": "LayoutModel",
          "state": {
            "_view_name": "LayoutView",
            "grid_template_rows": null,
            "right": null,
            "justify_content": null,
            "_view_module": "@jupyter-widgets/base",
            "overflow": null,
            "_model_module_version": "1.2.0",
            "_view_count": null,
            "flex_flow": null,
            "width": null,
            "min_width": null,
            "border": null,
            "align_items": null,
            "bottom": null,
            "_model_module": "@jupyter-widgets/base",
            "top": null,
            "grid_column": null,
            "overflow_y": null,
            "overflow_x": null,
            "grid_auto_flow": null,
            "grid_area": null,
            "grid_template_columns": null,
            "flex": null,
            "_model_name": "LayoutModel",
            "justify_items": null,
            "grid_row": null,
            "max_height": null,
            "align_content": null,
            "visibility": null,
            "align_self": null,
            "height": null,
            "min_height": null,
            "padding": null,
            "grid_auto_rows": null,
            "grid_gap": null,
            "max_width": null,
            "order": null,
            "_view_module_version": "1.2.0",
            "grid_template_areas": null,
            "object_position": null,
            "object_fit": null,
            "grid_auto_columns": null,
            "margin": null,
            "display": null,
            "left": null
          }
        },
        "4949b12df41d497fa0da4b77846886b9": {
          "model_module": "@jupyter-widgets/controls",
          "model_name": "DropdownModel",
          "state": {
            "_options_labels": [
              "LotArea",
              "OverallQual",
              "OverallCond",
              "SalePrice"
            ],
            "_view_name": "DropdownView",
            "style": "IPY_MODEL_52b038dde6f54924b17eab21a3299039",
            "_dom_classes": [],
            "description": "Metric",
            "_model_name": "DropdownModel",
            "index": 0,
            "_view_module": "@jupyter-widgets/controls",
            "_model_module_version": "1.5.0",
            "_view_count": null,
            "disabled": false,
            "_view_module_version": "1.5.0",
            "description_tooltip": null,
            "_model_module": "@jupyter-widgets/controls",
            "layout": "IPY_MODEL_00eb4a186df04b688ee4b659b015e72e"
          }
        },
        "5d519a6d511642eabbcf262ad05acd06": {
          "model_module": "@jupyter-widgets/controls",
          "model_name": "IntSliderModel",
          "state": {
            "_view_name": "IntSliderView",
            "style": "IPY_MODEL_39faed33a07d48bea330d12f5d58e243",
            "_dom_classes": [],
            "description": "YearBuilt",
            "step": 1,
            "_model_name": "IntSliderModel",
            "orientation": "horizontal",
            "max": 2010,
            "_view_module": "@jupyter-widgets/controls",
            "_model_module_version": "1.5.0",
            "value": 1941,
            "_view_count": null,
            "disabled": false,
            "_view_module_version": "1.5.0",
            "min": 1872,
            "continuous_update": true,
            "readout_format": "d",
            "description_tooltip": null,
            "readout": true,
            "_model_module": "@jupyter-widgets/controls",
            "layout": "IPY_MODEL_46a306d1452947dbaa5d538c92e8a843"
          }
        },
        "f70cb0ef254a439684c16dee4d6d7c3c": {
          "model_module": "@jupyter-widgets/output",
          "model_name": "OutputModel",
          "state": {
            "_view_name": "OutputView",
            "msg_id": "",
            "_dom_classes": [],
            "_model_name": "OutputModel",
            "outputs": [
              {
                "output_type": "display_data",
                "metadata": {
                  "tags": []
                },
                "text/html": "<html>\n<head><meta charset=\"utf-8\" /></head>\n<body>\n    <div>\n            <script src=\"https://cdnjs.cloudflare.com/ajax/libs/mathjax/2.7.5/MathJax.js?config=TeX-AMS-MML_SVG\"></script><script type=\"text/javascript\">if (window.MathJax) {MathJax.Hub.Config({SVG: {font: \"STIX-Web\"}});}</script>\n                <script type=\"text/javascript\">window.PlotlyConfig = {MathJaxConfig: 'local'};</script>\n        <script src=\"https://cdn.plot.ly/plotly-latest.min.js\"></script>    \n            <div id=\"d0a63a81-9170-4d1c-8eff-e8a838e5535d\" class=\"plotly-graph-div\" style=\"height:525px; width:100%;\"></div>\n            <script type=\"text/javascript\">\n                \n                    window.PLOTLYENV=window.PLOTLYENV || {};\n                    \n                if (document.getElementById(\"d0a63a81-9170-4d1c-8eff-e8a838e5535d\")) {\n                    Plotly.newPlot(\n                        'd0a63a81-9170-4d1c-8eff-e8a838e5535d',\n                        [{\"alignmentgroup\": \"True\", \"hoverlabel\": {\"namelength\": 0}, \"hovertemplate\": \"YrSold=2007<br>Cluster=%{x}<br>LotArea=%{y}\", \"legendgroup\": \"YrSold=2007\", \"marker\": {\"color\": \"#1F77B4\", \"line\": {\"color\": \"black\", \"width\": 1}}, \"name\": \"YrSold=2007\", \"offsetgroup\": \"YrSold=2007\", \"orientation\": \"v\", \"showlegend\": true, \"textposition\": \"auto\", \"type\": \"bar\", \"x\": [0, 2], \"xaxis\": \"x\", \"y\": [7128.0, 8212.5], \"yaxis\": \"y\"}, {\"alignmentgroup\": \"True\", \"hoverlabel\": {\"namelength\": 0}, \"hovertemplate\": \"YrSold=2009<br>Cluster=%{x}<br>LotArea=%{y}\", \"legendgroup\": \"YrSold=2009\", \"marker\": {\"color\": \"#FF7F0E\", \"line\": {\"color\": \"black\", \"width\": 1}}, \"name\": \"YrSold=2009\", \"offsetgroup\": \"YrSold=2009\", \"orientation\": \"v\", \"showlegend\": true, \"textposition\": \"auto\", \"type\": \"bar\", \"x\": [1, 2], \"xaxis\": \"x\", \"y\": [12000.0, 8686.0], \"yaxis\": \"y\"}, {\"alignmentgroup\": \"True\", \"hoverlabel\": {\"namelength\": 0}, \"hovertemplate\": \"YrSold=2010<br>Cluster=%{x}<br>LotArea=%{y}\", \"legendgroup\": \"YrSold=2010\", \"marker\": {\"color\": \"#2CA02C\", \"line\": {\"color\": \"black\", \"width\": 1}}, \"name\": \"YrSold=2010\", \"offsetgroup\": \"YrSold=2010\", \"orientation\": \"v\", \"showlegend\": true, \"textposition\": \"auto\", \"type\": \"bar\", \"x\": [1, 3], \"xaxis\": \"x\", \"y\": [9042.0, 12180.0], \"yaxis\": \"y\"}, {\"alignmentgroup\": \"True\", \"hoverlabel\": {\"namelength\": 0}, \"hovertemplate\": \"YrSold=2006<br>Cluster=%{x}<br>LotArea=%{y}\", \"legendgroup\": \"YrSold=2006\", \"marker\": {\"color\": \"#D62728\", \"line\": {\"color\": \"black\", \"width\": 1}}, \"name\": \"YrSold=2006\", \"offsetgroup\": \"YrSold=2006\", \"orientation\": \"v\", \"showlegend\": true, \"textposition\": \"auto\", \"type\": \"bar\", \"x\": [2], \"xaxis\": \"x\", \"y\": [7018.0], \"yaxis\": \"y\"}, {\"alignmentgroup\": \"True\", \"hoverlabel\": {\"namelength\": 0}, \"hovertemplate\": \"YrSold=2008<br>Cluster=%{x}<br>LotArea=%{y}\", \"legendgroup\": \"YrSold=2008\", \"marker\": {\"color\": \"#9467BD\", \"line\": {\"color\": \"black\", \"width\": 1}}, \"name\": \"YrSold=2008\", \"offsetgroup\": \"YrSold=2008\", \"orientation\": \"v\", \"showlegend\": true, \"textposition\": \"auto\", \"type\": \"bar\", \"x\": [2], \"xaxis\": \"x\", \"y\": [9084.0], \"yaxis\": \"y\"}],\n                        {\"barmode\": \"group\", \"legend\": {\"tracegroupgap\": 0}, \"template\": {\"data\": {\"scatter\": [{\"type\": \"scatter\"}]}}, \"title\": {\"text\": \"Avg. LotArea by Cluster and Year Sold for Properties Built in 1941\"}, \"xaxis\": {\"anchor\": \"y\", \"domain\": [0.0, 1.0], \"title\": {\"text\": \"Cluster\"}}, \"yaxis\": {\"anchor\": \"x\", \"domain\": [0.0, 1.0], \"title\": {\"text\": \"LotArea\"}}},\n                        {\"responsive\": true}\n                    ).then(function(){\n                            \nvar gd = document.getElementById('d0a63a81-9170-4d1c-8eff-e8a838e5535d');\nvar x = new MutationObserver(function (mutations, observer) {{\n        var display = window.getComputedStyle(gd).display;\n        if (!display || display === 'none') {{\n            console.log([gd, 'removed!']);\n            Plotly.purge(gd);\n            observer.disconnect();\n        }}\n}});\n\n// Listen for the removal of the full notebook cells\nvar notebookContainer = gd.closest('#notebook-container');\nif (notebookContainer) {{\n    x.observe(notebookContainer, {childList: true});\n}}\n\n// Listen for the clearing of the current output cell\nvar outputEl = gd.closest('.output');\nif (outputEl) {{\n    x.observe(outputEl, {childList: true});\n}}\n\n                        })\n                };\n                \n            </script>\n        </div>\n</body>\n</html>"
              }
            ],
            "_view_module": "@jupyter-widgets/output",
            "_model_module_version": "1.0.0",
            "_view_count": null,
            "_view_module_version": "1.0.0",
            "layout": "IPY_MODEL_aa3e1a0859ff48b4a6831f1cbd9b128b",
            "_model_module": "@jupyter-widgets/output"
          }
        },
        "52b038dde6f54924b17eab21a3299039": {
          "model_module": "@jupyter-widgets/controls",
          "model_name": "DescriptionStyleModel",
          "state": {
            "_view_name": "StyleView",
            "_model_name": "DescriptionStyleModel",
            "description_width": "",
            "_view_module": "@jupyter-widgets/base",
            "_model_module_version": "1.5.0",
            "_view_count": null,
            "_view_module_version": "1.2.0",
            "_model_module": "@jupyter-widgets/controls"
          }
        },
        "00eb4a186df04b688ee4b659b015e72e": {
          "model_module": "@jupyter-widgets/base",
          "model_name": "LayoutModel",
          "state": {
            "_view_name": "LayoutView",
            "grid_template_rows": null,
            "right": null,
            "justify_content": null,
            "_view_module": "@jupyter-widgets/base",
            "overflow": null,
            "_model_module_version": "1.2.0",
            "_view_count": null,
            "flex_flow": null,
            "width": null,
            "min_width": null,
            "border": null,
            "align_items": null,
            "bottom": null,
            "_model_module": "@jupyter-widgets/base",
            "top": null,
            "grid_column": null,
            "overflow_y": null,
            "overflow_x": null,
            "grid_auto_flow": null,
            "grid_area": null,
            "grid_template_columns": null,
            "flex": null,
            "_model_name": "LayoutModel",
            "justify_items": null,
            "grid_row": null,
            "max_height": null,
            "align_content": null,
            "visibility": null,
            "align_self": null,
            "height": null,
            "min_height": null,
            "padding": null,
            "grid_auto_rows": null,
            "grid_gap": null,
            "max_width": null,
            "order": null,
            "_view_module_version": "1.2.0",
            "grid_template_areas": null,
            "object_position": null,
            "object_fit": null,
            "grid_auto_columns": null,
            "margin": null,
            "display": null,
            "left": null
          }
        },
        "39faed33a07d48bea330d12f5d58e243": {
          "model_module": "@jupyter-widgets/controls",
          "model_name": "SliderStyleModel",
          "state": {
            "_view_name": "StyleView",
            "handle_color": null,
            "_model_name": "SliderStyleModel",
            "description_width": "",
            "_view_module": "@jupyter-widgets/base",
            "_model_module_version": "1.5.0",
            "_view_count": null,
            "_view_module_version": "1.2.0",
            "_model_module": "@jupyter-widgets/controls"
          }
        },
        "46a306d1452947dbaa5d538c92e8a843": {
          "model_module": "@jupyter-widgets/base",
          "model_name": "LayoutModel",
          "state": {
            "_view_name": "LayoutView",
            "grid_template_rows": null,
            "right": null,
            "justify_content": null,
            "_view_module": "@jupyter-widgets/base",
            "overflow": null,
            "_model_module_version": "1.2.0",
            "_view_count": null,
            "flex_flow": null,
            "width": null,
            "min_width": null,
            "border": null,
            "align_items": null,
            "bottom": null,
            "_model_module": "@jupyter-widgets/base",
            "top": null,
            "grid_column": null,
            "overflow_y": null,
            "overflow_x": null,
            "grid_auto_flow": null,
            "grid_area": null,
            "grid_template_columns": null,
            "flex": null,
            "_model_name": "LayoutModel",
            "justify_items": null,
            "grid_row": null,
            "max_height": null,
            "align_content": null,
            "visibility": null,
            "align_self": null,
            "height": null,
            "min_height": null,
            "padding": null,
            "grid_auto_rows": null,
            "grid_gap": null,
            "max_width": null,
            "order": null,
            "_view_module_version": "1.2.0",
            "grid_template_areas": null,
            "object_position": null,
            "object_fit": null,
            "grid_auto_columns": null,
            "margin": null,
            "display": null,
            "left": null
          }
        },
        "aa3e1a0859ff48b4a6831f1cbd9b128b": {
          "model_module": "@jupyter-widgets/base",
          "model_name": "LayoutModel",
          "state": {
            "_view_name": "LayoutView",
            "grid_template_rows": null,
            "right": null,
            "justify_content": null,
            "_view_module": "@jupyter-widgets/base",
            "overflow": null,
            "_model_module_version": "1.2.0",
            "_view_count": null,
            "flex_flow": null,
            "width": null,
            "min_width": null,
            "border": null,
            "align_items": null,
            "bottom": null,
            "_model_module": "@jupyter-widgets/base",
            "top": null,
            "grid_column": null,
            "overflow_y": null,
            "overflow_x": null,
            "grid_auto_flow": null,
            "grid_area": null,
            "grid_template_columns": null,
            "flex": null,
            "_model_name": "LayoutModel",
            "justify_items": null,
            "grid_row": null,
            "max_height": null,
            "align_content": null,
            "visibility": null,
            "align_self": null,
            "height": null,
            "min_height": null,
            "padding": null,
            "grid_auto_rows": null,
            "grid_gap": null,
            "max_width": null,
            "order": null,
            "_view_module_version": "1.2.0",
            "grid_template_areas": null,
            "object_position": null,
            "object_fit": null,
            "grid_auto_columns": null,
            "margin": null,
            "display": null,
            "left": null
          }
        }
      }
    }
  },
  "cells": [
    {
      "cell_type": "markdown",
      "metadata": {
        "id": "85QNyfDP6kAO"
      },
      "source": [
        "# Interactive Visualization Assignment (Plotly + IPyWidgets)"
      ]
    },
    {
      "cell_type": "code",
      "metadata": {
        "id": "QuHjLmJL6kAQ"
      },
      "source": [
        "import pandas as pd\n",
        "import plotly.express as px\n",
        "from sklearn import preprocessing\n",
        "from ipywidgets import interact\n",
        "from sklearn.cluster import KMeans\n",
        "from sklearn.metrics import silhouette_score\n",
        "from sklearn.preprocessing import MaxAbsScaler"
      ],
      "execution_count": 1,
      "outputs": []
    },
    {
      "cell_type": "markdown",
      "metadata": {
        "id": "Ycj6XSuQ6rlg"
      },
      "source": [
        "The following makes your colab session act more like a jupyter notebook for displaying plotly and ipywidgets objects correctly. If you are using jupyter, comment it out. (It needs to be called at the top of every cell that outputs a plot that uses widgets.)\n",
        "\n",
        "```\n",
        "configure_plotly_browser_state()\n",
        "```\n",
        "\n",
        "From [this StackOverflow answer](https://stackoverflow.com/a/47230966)."
      ]
    },
    {
      "cell_type": "code",
      "metadata": {
        "id": "8lDldVRc6rxh"
      },
      "source": [
        "def configure_plotly_browser_state():\n",
        "  import IPython\n",
        "  display(IPython.core.display.HTML('''\n",
        "        <script src=\"/static/components/requirejs/require.js\"></script>\n",
        "        <script>\n",
        "          requirejs.config({\n",
        "            paths: {\n",
        "              base: '/static/base',\n",
        "              plotly: 'https://cdn.plot.ly/plotly-latest.min.js?noext',\n",
        "            },\n",
        "          });\n",
        "        </script>\n",
        "        '''))\n",
        "  from plotly.offline import init_notebook_mode\n",
        "  init_notebook_mode(connected=False)"
      ],
      "execution_count": 2,
      "outputs": []
    },
    {
      "cell_type": "markdown",
      "metadata": {
        "id": "FaxmDRt96kAV"
      },
      "source": [
        "### Import the housing.csv data set."
      ]
    },
    {
      "cell_type": "code",
      "metadata": {
        "id": "ELqjL7nu6kAV"
      },
      "source": [
        "data = pd.read_csv('https://tf-assets-prod.s3.amazonaws.com/tf-curric/data-science/housing.csv')"
      ],
      "execution_count": 3,
      "outputs": []
    },
    {
      "cell_type": "markdown",
      "metadata": {
        "id": "wZrjKcWo6kAZ"
      },
      "source": [
        "### Separate out all the numeric fields into their own data set.\n",
        "\n",
        "Remove the Id field as it should be categorical and the GarageYrBlt and LotFrontage fields that contains many nulls. Drop any remaining nulls, but only for fields that are numeric. Hint: use subset. Then create a new dataframe with only the numeric fields in it."
      ]
    },
    {
      "cell_type": "code",
      "metadata": {
        "colab": {
          "base_uri": "https://localhost:8080/",
          "height": 435
        },
        "id": "OOKRaADYTeiV",
        "outputId": "77b8b9aa-90c8-4403-c2eb-5156a5f1b442"
      },
      "source": [
        "num_data = data.select_dtypes(include='number').drop(columns=['Id', 'GarageYrBlt', 'LotFrontage']).dropna(axis=0)\n",
        "num_data"
      ],
      "execution_count": 4,
      "outputs": [
        {
          "output_type": "execute_result",
          "data": {
            "text/html": [
              "<div>\n",
              "<style scoped>\n",
              "    .dataframe tbody tr th:only-of-type {\n",
              "        vertical-align: middle;\n",
              "    }\n",
              "\n",
              "    .dataframe tbody tr th {\n",
              "        vertical-align: top;\n",
              "    }\n",
              "\n",
              "    .dataframe thead th {\n",
              "        text-align: right;\n",
              "    }\n",
              "</style>\n",
              "<table border=\"1\" class=\"dataframe\">\n",
              "  <thead>\n",
              "    <tr style=\"text-align: right;\">\n",
              "      <th></th>\n",
              "      <th>MSSubClass</th>\n",
              "      <th>LotArea</th>\n",
              "      <th>OverallQual</th>\n",
              "      <th>OverallCond</th>\n",
              "      <th>YearBuilt</th>\n",
              "      <th>YearRemodAdd</th>\n",
              "      <th>MasVnrArea</th>\n",
              "      <th>BsmtFinSF1</th>\n",
              "      <th>BsmtFinSF2</th>\n",
              "      <th>BsmtUnfSF</th>\n",
              "      <th>TotalBsmtSF</th>\n",
              "      <th>1stFlrSF</th>\n",
              "      <th>2ndFlrSF</th>\n",
              "      <th>LowQualFinSF</th>\n",
              "      <th>GrLivArea</th>\n",
              "      <th>BsmtFullBath</th>\n",
              "      <th>BsmtHalfBath</th>\n",
              "      <th>FullBath</th>\n",
              "      <th>HalfBath</th>\n",
              "      <th>BedroomAbvGr</th>\n",
              "      <th>KitchenAbvGr</th>\n",
              "      <th>TotRmsAbvGrd</th>\n",
              "      <th>Fireplaces</th>\n",
              "      <th>GarageCars</th>\n",
              "      <th>GarageArea</th>\n",
              "      <th>WoodDeckSF</th>\n",
              "      <th>OpenPorchSF</th>\n",
              "      <th>EnclosedPorch</th>\n",
              "      <th>3SsnPorch</th>\n",
              "      <th>ScreenPorch</th>\n",
              "      <th>PoolArea</th>\n",
              "      <th>MiscVal</th>\n",
              "      <th>MoSold</th>\n",
              "      <th>YrSold</th>\n",
              "      <th>SalePrice</th>\n",
              "    </tr>\n",
              "  </thead>\n",
              "  <tbody>\n",
              "    <tr>\n",
              "      <th>0</th>\n",
              "      <td>60</td>\n",
              "      <td>8450</td>\n",
              "      <td>7</td>\n",
              "      <td>5</td>\n",
              "      <td>2003</td>\n",
              "      <td>2003</td>\n",
              "      <td>196.0</td>\n",
              "      <td>706</td>\n",
              "      <td>0</td>\n",
              "      <td>150</td>\n",
              "      <td>856</td>\n",
              "      <td>856</td>\n",
              "      <td>854</td>\n",
              "      <td>0</td>\n",
              "      <td>1710</td>\n",
              "      <td>1</td>\n",
              "      <td>0</td>\n",
              "      <td>2</td>\n",
              "      <td>1</td>\n",
              "      <td>3</td>\n",
              "      <td>1</td>\n",
              "      <td>8</td>\n",
              "      <td>0</td>\n",
              "      <td>2</td>\n",
              "      <td>548</td>\n",
              "      <td>0</td>\n",
              "      <td>61</td>\n",
              "      <td>0</td>\n",
              "      <td>0</td>\n",
              "      <td>0</td>\n",
              "      <td>0</td>\n",
              "      <td>0</td>\n",
              "      <td>2</td>\n",
              "      <td>2008</td>\n",
              "      <td>208500</td>\n",
              "    </tr>\n",
              "    <tr>\n",
              "      <th>1</th>\n",
              "      <td>20</td>\n",
              "      <td>9600</td>\n",
              "      <td>6</td>\n",
              "      <td>8</td>\n",
              "      <td>1976</td>\n",
              "      <td>1976</td>\n",
              "      <td>0.0</td>\n",
              "      <td>978</td>\n",
              "      <td>0</td>\n",
              "      <td>284</td>\n",
              "      <td>1262</td>\n",
              "      <td>1262</td>\n",
              "      <td>0</td>\n",
              "      <td>0</td>\n",
              "      <td>1262</td>\n",
              "      <td>0</td>\n",
              "      <td>1</td>\n",
              "      <td>2</td>\n",
              "      <td>0</td>\n",
              "      <td>3</td>\n",
              "      <td>1</td>\n",
              "      <td>6</td>\n",
              "      <td>1</td>\n",
              "      <td>2</td>\n",
              "      <td>460</td>\n",
              "      <td>298</td>\n",
              "      <td>0</td>\n",
              "      <td>0</td>\n",
              "      <td>0</td>\n",
              "      <td>0</td>\n",
              "      <td>0</td>\n",
              "      <td>0</td>\n",
              "      <td>5</td>\n",
              "      <td>2007</td>\n",
              "      <td>181500</td>\n",
              "    </tr>\n",
              "    <tr>\n",
              "      <th>2</th>\n",
              "      <td>60</td>\n",
              "      <td>11250</td>\n",
              "      <td>7</td>\n",
              "      <td>5</td>\n",
              "      <td>2001</td>\n",
              "      <td>2002</td>\n",
              "      <td>162.0</td>\n",
              "      <td>486</td>\n",
              "      <td>0</td>\n",
              "      <td>434</td>\n",
              "      <td>920</td>\n",
              "      <td>920</td>\n",
              "      <td>866</td>\n",
              "      <td>0</td>\n",
              "      <td>1786</td>\n",
              "      <td>1</td>\n",
              "      <td>0</td>\n",
              "      <td>2</td>\n",
              "      <td>1</td>\n",
              "      <td>3</td>\n",
              "      <td>1</td>\n",
              "      <td>6</td>\n",
              "      <td>1</td>\n",
              "      <td>2</td>\n",
              "      <td>608</td>\n",
              "      <td>0</td>\n",
              "      <td>42</td>\n",
              "      <td>0</td>\n",
              "      <td>0</td>\n",
              "      <td>0</td>\n",
              "      <td>0</td>\n",
              "      <td>0</td>\n",
              "      <td>9</td>\n",
              "      <td>2008</td>\n",
              "      <td>223500</td>\n",
              "    </tr>\n",
              "    <tr>\n",
              "      <th>3</th>\n",
              "      <td>70</td>\n",
              "      <td>9550</td>\n",
              "      <td>7</td>\n",
              "      <td>5</td>\n",
              "      <td>1915</td>\n",
              "      <td>1970</td>\n",
              "      <td>0.0</td>\n",
              "      <td>216</td>\n",
              "      <td>0</td>\n",
              "      <td>540</td>\n",
              "      <td>756</td>\n",
              "      <td>961</td>\n",
              "      <td>756</td>\n",
              "      <td>0</td>\n",
              "      <td>1717</td>\n",
              "      <td>1</td>\n",
              "      <td>0</td>\n",
              "      <td>1</td>\n",
              "      <td>0</td>\n",
              "      <td>3</td>\n",
              "      <td>1</td>\n",
              "      <td>7</td>\n",
              "      <td>1</td>\n",
              "      <td>3</td>\n",
              "      <td>642</td>\n",
              "      <td>0</td>\n",
              "      <td>35</td>\n",
              "      <td>272</td>\n",
              "      <td>0</td>\n",
              "      <td>0</td>\n",
              "      <td>0</td>\n",
              "      <td>0</td>\n",
              "      <td>2</td>\n",
              "      <td>2006</td>\n",
              "      <td>140000</td>\n",
              "    </tr>\n",
              "    <tr>\n",
              "      <th>4</th>\n",
              "      <td>60</td>\n",
              "      <td>14260</td>\n",
              "      <td>8</td>\n",
              "      <td>5</td>\n",
              "      <td>2000</td>\n",
              "      <td>2000</td>\n",
              "      <td>350.0</td>\n",
              "      <td>655</td>\n",
              "      <td>0</td>\n",
              "      <td>490</td>\n",
              "      <td>1145</td>\n",
              "      <td>1145</td>\n",
              "      <td>1053</td>\n",
              "      <td>0</td>\n",
              "      <td>2198</td>\n",
              "      <td>1</td>\n",
              "      <td>0</td>\n",
              "      <td>2</td>\n",
              "      <td>1</td>\n",
              "      <td>4</td>\n",
              "      <td>1</td>\n",
              "      <td>9</td>\n",
              "      <td>1</td>\n",
              "      <td>3</td>\n",
              "      <td>836</td>\n",
              "      <td>192</td>\n",
              "      <td>84</td>\n",
              "      <td>0</td>\n",
              "      <td>0</td>\n",
              "      <td>0</td>\n",
              "      <td>0</td>\n",
              "      <td>0</td>\n",
              "      <td>12</td>\n",
              "      <td>2008</td>\n",
              "      <td>250000</td>\n",
              "    </tr>\n",
              "    <tr>\n",
              "      <th>...</th>\n",
              "      <td>...</td>\n",
              "      <td>...</td>\n",
              "      <td>...</td>\n",
              "      <td>...</td>\n",
              "      <td>...</td>\n",
              "      <td>...</td>\n",
              "      <td>...</td>\n",
              "      <td>...</td>\n",
              "      <td>...</td>\n",
              "      <td>...</td>\n",
              "      <td>...</td>\n",
              "      <td>...</td>\n",
              "      <td>...</td>\n",
              "      <td>...</td>\n",
              "      <td>...</td>\n",
              "      <td>...</td>\n",
              "      <td>...</td>\n",
              "      <td>...</td>\n",
              "      <td>...</td>\n",
              "      <td>...</td>\n",
              "      <td>...</td>\n",
              "      <td>...</td>\n",
              "      <td>...</td>\n",
              "      <td>...</td>\n",
              "      <td>...</td>\n",
              "      <td>...</td>\n",
              "      <td>...</td>\n",
              "      <td>...</td>\n",
              "      <td>...</td>\n",
              "      <td>...</td>\n",
              "      <td>...</td>\n",
              "      <td>...</td>\n",
              "      <td>...</td>\n",
              "      <td>...</td>\n",
              "      <td>...</td>\n",
              "    </tr>\n",
              "    <tr>\n",
              "      <th>1455</th>\n",
              "      <td>60</td>\n",
              "      <td>7917</td>\n",
              "      <td>6</td>\n",
              "      <td>5</td>\n",
              "      <td>1999</td>\n",
              "      <td>2000</td>\n",
              "      <td>0.0</td>\n",
              "      <td>0</td>\n",
              "      <td>0</td>\n",
              "      <td>953</td>\n",
              "      <td>953</td>\n",
              "      <td>953</td>\n",
              "      <td>694</td>\n",
              "      <td>0</td>\n",
              "      <td>1647</td>\n",
              "      <td>0</td>\n",
              "      <td>0</td>\n",
              "      <td>2</td>\n",
              "      <td>1</td>\n",
              "      <td>3</td>\n",
              "      <td>1</td>\n",
              "      <td>7</td>\n",
              "      <td>1</td>\n",
              "      <td>2</td>\n",
              "      <td>460</td>\n",
              "      <td>0</td>\n",
              "      <td>40</td>\n",
              "      <td>0</td>\n",
              "      <td>0</td>\n",
              "      <td>0</td>\n",
              "      <td>0</td>\n",
              "      <td>0</td>\n",
              "      <td>8</td>\n",
              "      <td>2007</td>\n",
              "      <td>175000</td>\n",
              "    </tr>\n",
              "    <tr>\n",
              "      <th>1456</th>\n",
              "      <td>20</td>\n",
              "      <td>13175</td>\n",
              "      <td>6</td>\n",
              "      <td>6</td>\n",
              "      <td>1978</td>\n",
              "      <td>1988</td>\n",
              "      <td>119.0</td>\n",
              "      <td>790</td>\n",
              "      <td>163</td>\n",
              "      <td>589</td>\n",
              "      <td>1542</td>\n",
              "      <td>2073</td>\n",
              "      <td>0</td>\n",
              "      <td>0</td>\n",
              "      <td>2073</td>\n",
              "      <td>1</td>\n",
              "      <td>0</td>\n",
              "      <td>2</td>\n",
              "      <td>0</td>\n",
              "      <td>3</td>\n",
              "      <td>1</td>\n",
              "      <td>7</td>\n",
              "      <td>2</td>\n",
              "      <td>2</td>\n",
              "      <td>500</td>\n",
              "      <td>349</td>\n",
              "      <td>0</td>\n",
              "      <td>0</td>\n",
              "      <td>0</td>\n",
              "      <td>0</td>\n",
              "      <td>0</td>\n",
              "      <td>0</td>\n",
              "      <td>2</td>\n",
              "      <td>2010</td>\n",
              "      <td>210000</td>\n",
              "    </tr>\n",
              "    <tr>\n",
              "      <th>1457</th>\n",
              "      <td>70</td>\n",
              "      <td>9042</td>\n",
              "      <td>7</td>\n",
              "      <td>9</td>\n",
              "      <td>1941</td>\n",
              "      <td>2006</td>\n",
              "      <td>0.0</td>\n",
              "      <td>275</td>\n",
              "      <td>0</td>\n",
              "      <td>877</td>\n",
              "      <td>1152</td>\n",
              "      <td>1188</td>\n",
              "      <td>1152</td>\n",
              "      <td>0</td>\n",
              "      <td>2340</td>\n",
              "      <td>0</td>\n",
              "      <td>0</td>\n",
              "      <td>2</td>\n",
              "      <td>0</td>\n",
              "      <td>4</td>\n",
              "      <td>1</td>\n",
              "      <td>9</td>\n",
              "      <td>2</td>\n",
              "      <td>1</td>\n",
              "      <td>252</td>\n",
              "      <td>0</td>\n",
              "      <td>60</td>\n",
              "      <td>0</td>\n",
              "      <td>0</td>\n",
              "      <td>0</td>\n",
              "      <td>0</td>\n",
              "      <td>2500</td>\n",
              "      <td>5</td>\n",
              "      <td>2010</td>\n",
              "      <td>266500</td>\n",
              "    </tr>\n",
              "    <tr>\n",
              "      <th>1458</th>\n",
              "      <td>20</td>\n",
              "      <td>9717</td>\n",
              "      <td>5</td>\n",
              "      <td>6</td>\n",
              "      <td>1950</td>\n",
              "      <td>1996</td>\n",
              "      <td>0.0</td>\n",
              "      <td>49</td>\n",
              "      <td>1029</td>\n",
              "      <td>0</td>\n",
              "      <td>1078</td>\n",
              "      <td>1078</td>\n",
              "      <td>0</td>\n",
              "      <td>0</td>\n",
              "      <td>1078</td>\n",
              "      <td>1</td>\n",
              "      <td>0</td>\n",
              "      <td>1</td>\n",
              "      <td>0</td>\n",
              "      <td>2</td>\n",
              "      <td>1</td>\n",
              "      <td>5</td>\n",
              "      <td>0</td>\n",
              "      <td>1</td>\n",
              "      <td>240</td>\n",
              "      <td>366</td>\n",
              "      <td>0</td>\n",
              "      <td>112</td>\n",
              "      <td>0</td>\n",
              "      <td>0</td>\n",
              "      <td>0</td>\n",
              "      <td>0</td>\n",
              "      <td>4</td>\n",
              "      <td>2010</td>\n",
              "      <td>142125</td>\n",
              "    </tr>\n",
              "    <tr>\n",
              "      <th>1459</th>\n",
              "      <td>20</td>\n",
              "      <td>9937</td>\n",
              "      <td>5</td>\n",
              "      <td>6</td>\n",
              "      <td>1965</td>\n",
              "      <td>1965</td>\n",
              "      <td>0.0</td>\n",
              "      <td>830</td>\n",
              "      <td>290</td>\n",
              "      <td>136</td>\n",
              "      <td>1256</td>\n",
              "      <td>1256</td>\n",
              "      <td>0</td>\n",
              "      <td>0</td>\n",
              "      <td>1256</td>\n",
              "      <td>1</td>\n",
              "      <td>0</td>\n",
              "      <td>1</td>\n",
              "      <td>1</td>\n",
              "      <td>3</td>\n",
              "      <td>1</td>\n",
              "      <td>6</td>\n",
              "      <td>0</td>\n",
              "      <td>1</td>\n",
              "      <td>276</td>\n",
              "      <td>736</td>\n",
              "      <td>68</td>\n",
              "      <td>0</td>\n",
              "      <td>0</td>\n",
              "      <td>0</td>\n",
              "      <td>0</td>\n",
              "      <td>0</td>\n",
              "      <td>6</td>\n",
              "      <td>2008</td>\n",
              "      <td>147500</td>\n",
              "    </tr>\n",
              "  </tbody>\n",
              "</table>\n",
              "<p>1452 rows × 35 columns</p>\n",
              "</div>"
            ],
            "text/plain": [
              "      MSSubClass  LotArea  OverallQual  ...  MoSold  YrSold  SalePrice\n",
              "0             60     8450            7  ...       2    2008     208500\n",
              "1             20     9600            6  ...       5    2007     181500\n",
              "2             60    11250            7  ...       9    2008     223500\n",
              "3             70     9550            7  ...       2    2006     140000\n",
              "4             60    14260            8  ...      12    2008     250000\n",
              "...          ...      ...          ...  ...     ...     ...        ...\n",
              "1455          60     7917            6  ...       8    2007     175000\n",
              "1456          20    13175            6  ...       2    2010     210000\n",
              "1457          70     9042            7  ...       5    2010     266500\n",
              "1458          20     9717            5  ...       4    2010     142125\n",
              "1459          20     9937            5  ...       6    2008     147500\n",
              "\n",
              "[1452 rows x 35 columns]"
            ]
          },
          "metadata": {
            "tags": []
          },
          "execution_count": 4
        }
      ]
    },
    {
      "cell_type": "markdown",
      "metadata": {
        "id": "6b9E9bu06kAe"
      },
      "source": [
        "### Normalize the numeric data using Scikit-Learn's MaxAbsScaler."
      ]
    },
    {
      "cell_type": "code",
      "metadata": {
        "id": "q84A-Gc_6kAe"
      },
      "source": [
        "scaler = preprocessing.MaxAbsScaler()\n",
        "X_scaled = scaler.fit_transform(num_data)"
      ],
      "execution_count": 5,
      "outputs": []
    },
    {
      "cell_type": "markdown",
      "metadata": {
        "id": "NQHJQ5h06kAi"
      },
      "source": [
        "### Iteratively K-Means cluster the normalized data and generate an interactive line chart showing the average silhouette score for each number of clusters (2 through 20)."
      ]
    },
    {
      "cell_type": "code",
      "metadata": {
        "id": "9x63mgre6kAj"
      },
      "source": [
        "k_list = list(range(2, 20))\n",
        "scores = []\n",
        "\n",
        "for k in k_list:\n",
        "    model = KMeans(n_clusters=k, random_state=42)\n",
        "    clusters = model.fit_predict(X_scaled)\n",
        "    silhouette = silhouette_score(X_scaled, clusters)\n",
        "    scores.append(silhouette)\n",
        "\n",
        "scores = pd.DataFrame([k_list, scores]).T\n",
        "scores.columns = [\"Clusters\", \"Score\"]"
      ],
      "execution_count": 6,
      "outputs": []
    },
    {
      "cell_type": "code",
      "metadata": {
        "colab": {
          "base_uri": "https://localhost:8080/",
          "height": 542
        },
        "id": "z69skhpHgBlx",
        "outputId": "92ff3f4f-6602-4165-c0a4-703ce9084b65"
      },
      "source": [
        "fig = px.line(\n",
        "    scores, x=\"Clusters\", y=\"Score\", title=\"Avg. Silhouette Score per K Clusters\"\n",
        ").update(layout=dict(title=dict(x=0.5)))\n",
        "\n",
        "fig.show()"
      ],
      "execution_count": 7,
      "outputs": [
        {
          "output_type": "display_data",
          "data": {
            "text/html": [
              "<html>\n",
              "<head><meta charset=\"utf-8\" /></head>\n",
              "<body>\n",
              "    <div>\n",
              "            <script src=\"https://cdnjs.cloudflare.com/ajax/libs/mathjax/2.7.5/MathJax.js?config=TeX-AMS-MML_SVG\"></script><script type=\"text/javascript\">if (window.MathJax) {MathJax.Hub.Config({SVG: {font: \"STIX-Web\"}});}</script>\n",
              "                <script type=\"text/javascript\">window.PlotlyConfig = {MathJaxConfig: 'local'};</script>\n",
              "        <script src=\"https://cdn.plot.ly/plotly-latest.min.js\"></script>    \n",
              "            <div id=\"cf75a1ce-5b24-4022-b275-b3d5a5caedbf\" class=\"plotly-graph-div\" style=\"height:525px; width:100%;\"></div>\n",
              "            <script type=\"text/javascript\">\n",
              "                \n",
              "                    window.PLOTLYENV=window.PLOTLYENV || {};\n",
              "                    \n",
              "                if (document.getElementById(\"cf75a1ce-5b24-4022-b275-b3d5a5caedbf\")) {\n",
              "                    Plotly.newPlot(\n",
              "                        'cf75a1ce-5b24-4022-b275-b3d5a5caedbf',\n",
              "                        [{\"hoverlabel\": {\"namelength\": 0}, \"hovertemplate\": \"Clusters=%{x}<br>Score=%{y}\", \"legendgroup\": \"\", \"line\": {\"color\": \"#636efa\", \"dash\": \"solid\"}, \"mode\": \"lines\", \"name\": \"\", \"showlegend\": false, \"type\": \"scatter\", \"x\": [2.0, 3.0, 4.0, 5.0, 6.0, 7.0, 8.0, 9.0, 10.0, 11.0, 12.0, 13.0, 14.0, 15.0, 16.0, 17.0, 18.0, 19.0], \"xaxis\": \"x\", \"y\": [0.1729322699836459, 0.1532175922200456, 0.15845454089857725, 0.15180042381679532, 0.1287049536569931, 0.13954358504644923, 0.11771011474659875, 0.11851976133804068, 0.10997808725925945, 0.10929679012875598, 0.1039231304261144, 0.10082265369781902, 0.1118561922905683, 0.10414570572891632, 0.10135269590150067, 0.09810860437358901, 0.10027324659780582, 0.09549264550577574], \"yaxis\": \"y\"}],\n",
              "                        {\"legend\": {\"tracegroupgap\": 0}, \"template\": {\"data\": {\"bar\": [{\"error_x\": {\"color\": \"#2a3f5f\"}, \"error_y\": {\"color\": \"#2a3f5f\"}, \"marker\": {\"line\": {\"color\": \"#E5ECF6\", \"width\": 0.5}}, \"type\": \"bar\"}], \"barpolar\": [{\"marker\": {\"line\": {\"color\": \"#E5ECF6\", \"width\": 0.5}}, \"type\": \"barpolar\"}], \"carpet\": [{\"aaxis\": {\"endlinecolor\": \"#2a3f5f\", \"gridcolor\": \"white\", \"linecolor\": \"white\", \"minorgridcolor\": \"white\", \"startlinecolor\": \"#2a3f5f\"}, \"baxis\": {\"endlinecolor\": \"#2a3f5f\", \"gridcolor\": \"white\", \"linecolor\": \"white\", \"minorgridcolor\": \"white\", \"startlinecolor\": \"#2a3f5f\"}, \"type\": \"carpet\"}], \"choropleth\": [{\"colorbar\": {\"outlinewidth\": 0, \"ticks\": \"\"}, \"type\": \"choropleth\"}], \"contour\": [{\"colorbar\": {\"outlinewidth\": 0, \"ticks\": \"\"}, \"colorscale\": [[0.0, \"#0d0887\"], [0.1111111111111111, \"#46039f\"], [0.2222222222222222, \"#7201a8\"], [0.3333333333333333, \"#9c179e\"], [0.4444444444444444, \"#bd3786\"], [0.5555555555555556, \"#d8576b\"], [0.6666666666666666, \"#ed7953\"], [0.7777777777777778, \"#fb9f3a\"], [0.8888888888888888, \"#fdca26\"], [1.0, \"#f0f921\"]], \"type\": \"contour\"}], \"contourcarpet\": [{\"colorbar\": {\"outlinewidth\": 0, \"ticks\": \"\"}, \"type\": \"contourcarpet\"}], \"heatmap\": [{\"colorbar\": {\"outlinewidth\": 0, \"ticks\": \"\"}, \"colorscale\": [[0.0, \"#0d0887\"], [0.1111111111111111, \"#46039f\"], [0.2222222222222222, \"#7201a8\"], [0.3333333333333333, \"#9c179e\"], [0.4444444444444444, \"#bd3786\"], [0.5555555555555556, \"#d8576b\"], [0.6666666666666666, \"#ed7953\"], [0.7777777777777778, \"#fb9f3a\"], [0.8888888888888888, \"#fdca26\"], [1.0, \"#f0f921\"]], \"type\": \"heatmap\"}], \"heatmapgl\": [{\"colorbar\": {\"outlinewidth\": 0, \"ticks\": \"\"}, \"colorscale\": [[0.0, \"#0d0887\"], [0.1111111111111111, \"#46039f\"], [0.2222222222222222, \"#7201a8\"], [0.3333333333333333, \"#9c179e\"], [0.4444444444444444, \"#bd3786\"], [0.5555555555555556, \"#d8576b\"], [0.6666666666666666, \"#ed7953\"], [0.7777777777777778, \"#fb9f3a\"], [0.8888888888888888, \"#fdca26\"], [1.0, \"#f0f921\"]], \"type\": \"heatmapgl\"}], \"histogram\": [{\"marker\": {\"colorbar\": {\"outlinewidth\": 0, \"ticks\": \"\"}}, \"type\": \"histogram\"}], \"histogram2d\": [{\"colorbar\": {\"outlinewidth\": 0, \"ticks\": \"\"}, \"colorscale\": [[0.0, \"#0d0887\"], [0.1111111111111111, \"#46039f\"], [0.2222222222222222, \"#7201a8\"], [0.3333333333333333, \"#9c179e\"], [0.4444444444444444, \"#bd3786\"], [0.5555555555555556, \"#d8576b\"], [0.6666666666666666, \"#ed7953\"], [0.7777777777777778, \"#fb9f3a\"], [0.8888888888888888, \"#fdca26\"], [1.0, \"#f0f921\"]], \"type\": \"histogram2d\"}], \"histogram2dcontour\": [{\"colorbar\": {\"outlinewidth\": 0, \"ticks\": \"\"}, \"colorscale\": [[0.0, \"#0d0887\"], [0.1111111111111111, \"#46039f\"], [0.2222222222222222, \"#7201a8\"], [0.3333333333333333, \"#9c179e\"], [0.4444444444444444, \"#bd3786\"], [0.5555555555555556, \"#d8576b\"], [0.6666666666666666, \"#ed7953\"], [0.7777777777777778, \"#fb9f3a\"], [0.8888888888888888, \"#fdca26\"], [1.0, \"#f0f921\"]], \"type\": \"histogram2dcontour\"}], \"mesh3d\": [{\"colorbar\": {\"outlinewidth\": 0, \"ticks\": \"\"}, \"type\": \"mesh3d\"}], \"parcoords\": [{\"line\": {\"colorbar\": {\"outlinewidth\": 0, \"ticks\": \"\"}}, \"type\": \"parcoords\"}], \"pie\": [{\"automargin\": true, \"type\": \"pie\"}], \"scatter\": [{\"marker\": {\"colorbar\": {\"outlinewidth\": 0, \"ticks\": \"\"}}, \"type\": \"scatter\"}], \"scatter3d\": [{\"line\": {\"colorbar\": {\"outlinewidth\": 0, \"ticks\": \"\"}}, \"marker\": {\"colorbar\": {\"outlinewidth\": 0, \"ticks\": \"\"}}, \"type\": \"scatter3d\"}], \"scattercarpet\": [{\"marker\": {\"colorbar\": {\"outlinewidth\": 0, \"ticks\": \"\"}}, \"type\": \"scattercarpet\"}], \"scattergeo\": [{\"marker\": {\"colorbar\": {\"outlinewidth\": 0, \"ticks\": \"\"}}, \"type\": \"scattergeo\"}], \"scattergl\": [{\"marker\": {\"colorbar\": {\"outlinewidth\": 0, \"ticks\": \"\"}}, \"type\": \"scattergl\"}], \"scattermapbox\": [{\"marker\": {\"colorbar\": {\"outlinewidth\": 0, \"ticks\": \"\"}}, \"type\": \"scattermapbox\"}], \"scatterpolar\": [{\"marker\": {\"colorbar\": {\"outlinewidth\": 0, \"ticks\": \"\"}}, \"type\": \"scatterpolar\"}], \"scatterpolargl\": [{\"marker\": {\"colorbar\": {\"outlinewidth\": 0, \"ticks\": \"\"}}, \"type\": \"scatterpolargl\"}], \"scatterternary\": [{\"marker\": {\"colorbar\": {\"outlinewidth\": 0, \"ticks\": \"\"}}, \"type\": \"scatterternary\"}], \"surface\": [{\"colorbar\": {\"outlinewidth\": 0, \"ticks\": \"\"}, \"colorscale\": [[0.0, \"#0d0887\"], [0.1111111111111111, \"#46039f\"], [0.2222222222222222, \"#7201a8\"], [0.3333333333333333, \"#9c179e\"], [0.4444444444444444, \"#bd3786\"], [0.5555555555555556, \"#d8576b\"], [0.6666666666666666, \"#ed7953\"], [0.7777777777777778, \"#fb9f3a\"], [0.8888888888888888, \"#fdca26\"], [1.0, \"#f0f921\"]], \"type\": \"surface\"}], \"table\": [{\"cells\": {\"fill\": {\"color\": \"#EBF0F8\"}, \"line\": {\"color\": \"white\"}}, \"header\": {\"fill\": {\"color\": \"#C8D4E3\"}, \"line\": {\"color\": \"white\"}}, \"type\": \"table\"}]}, \"layout\": {\"annotationdefaults\": {\"arrowcolor\": \"#2a3f5f\", \"arrowhead\": 0, \"arrowwidth\": 1}, \"coloraxis\": {\"colorbar\": {\"outlinewidth\": 0, \"ticks\": \"\"}}, \"colorscale\": {\"diverging\": [[0, \"#8e0152\"], [0.1, \"#c51b7d\"], [0.2, \"#de77ae\"], [0.3, \"#f1b6da\"], [0.4, \"#fde0ef\"], [0.5, \"#f7f7f7\"], [0.6, \"#e6f5d0\"], [0.7, \"#b8e186\"], [0.8, \"#7fbc41\"], [0.9, \"#4d9221\"], [1, \"#276419\"]], \"sequential\": [[0.0, \"#0d0887\"], [0.1111111111111111, \"#46039f\"], [0.2222222222222222, \"#7201a8\"], [0.3333333333333333, \"#9c179e\"], [0.4444444444444444, \"#bd3786\"], [0.5555555555555556, \"#d8576b\"], [0.6666666666666666, \"#ed7953\"], [0.7777777777777778, \"#fb9f3a\"], [0.8888888888888888, \"#fdca26\"], [1.0, \"#f0f921\"]], \"sequentialminus\": [[0.0, \"#0d0887\"], [0.1111111111111111, \"#46039f\"], [0.2222222222222222, \"#7201a8\"], [0.3333333333333333, \"#9c179e\"], [0.4444444444444444, \"#bd3786\"], [0.5555555555555556, \"#d8576b\"], [0.6666666666666666, \"#ed7953\"], [0.7777777777777778, \"#fb9f3a\"], [0.8888888888888888, \"#fdca26\"], [1.0, \"#f0f921\"]]}, \"colorway\": [\"#636efa\", \"#EF553B\", \"#00cc96\", \"#ab63fa\", \"#FFA15A\", \"#19d3f3\", \"#FF6692\", \"#B6E880\", \"#FF97FF\", \"#FECB52\"], \"font\": {\"color\": \"#2a3f5f\"}, \"geo\": {\"bgcolor\": \"white\", \"lakecolor\": \"white\", \"landcolor\": \"#E5ECF6\", \"showlakes\": true, \"showland\": true, \"subunitcolor\": \"white\"}, \"hoverlabel\": {\"align\": \"left\"}, \"hovermode\": \"closest\", \"mapbox\": {\"style\": \"light\"}, \"paper_bgcolor\": \"white\", \"plot_bgcolor\": \"#E5ECF6\", \"polar\": {\"angularaxis\": {\"gridcolor\": \"white\", \"linecolor\": \"white\", \"ticks\": \"\"}, \"bgcolor\": \"#E5ECF6\", \"radialaxis\": {\"gridcolor\": \"white\", \"linecolor\": \"white\", \"ticks\": \"\"}}, \"scene\": {\"xaxis\": {\"backgroundcolor\": \"#E5ECF6\", \"gridcolor\": \"white\", \"gridwidth\": 2, \"linecolor\": \"white\", \"showbackground\": true, \"ticks\": \"\", \"zerolinecolor\": \"white\"}, \"yaxis\": {\"backgroundcolor\": \"#E5ECF6\", \"gridcolor\": \"white\", \"gridwidth\": 2, \"linecolor\": \"white\", \"showbackground\": true, \"ticks\": \"\", \"zerolinecolor\": \"white\"}, \"zaxis\": {\"backgroundcolor\": \"#E5ECF6\", \"gridcolor\": \"white\", \"gridwidth\": 2, \"linecolor\": \"white\", \"showbackground\": true, \"ticks\": \"\", \"zerolinecolor\": \"white\"}}, \"shapedefaults\": {\"line\": {\"color\": \"#2a3f5f\"}}, \"ternary\": {\"aaxis\": {\"gridcolor\": \"white\", \"linecolor\": \"white\", \"ticks\": \"\"}, \"baxis\": {\"gridcolor\": \"white\", \"linecolor\": \"white\", \"ticks\": \"\"}, \"bgcolor\": \"#E5ECF6\", \"caxis\": {\"gridcolor\": \"white\", \"linecolor\": \"white\", \"ticks\": \"\"}}, \"title\": {\"x\": 0.05}, \"xaxis\": {\"automargin\": true, \"gridcolor\": \"white\", \"linecolor\": \"white\", \"ticks\": \"\", \"title\": {\"standoff\": 15}, \"zerolinecolor\": \"white\", \"zerolinewidth\": 2}, \"yaxis\": {\"automargin\": true, \"gridcolor\": \"white\", \"linecolor\": \"white\", \"ticks\": \"\", \"title\": {\"standoff\": 15}, \"zerolinecolor\": \"white\", \"zerolinewidth\": 2}}}, \"title\": {\"text\": \"Avg. Silhouette Score per K Clusters\", \"x\": 0.5}, \"xaxis\": {\"anchor\": \"y\", \"domain\": [0.0, 1.0], \"title\": {\"text\": \"Clusters\"}}, \"yaxis\": {\"anchor\": \"x\", \"domain\": [0.0, 1.0], \"title\": {\"text\": \"Score\"}}},\n",
              "                        {\"responsive\": true}\n",
              "                    ).then(function(){\n",
              "                            \n",
              "var gd = document.getElementById('cf75a1ce-5b24-4022-b275-b3d5a5caedbf');\n",
              "var x = new MutationObserver(function (mutations, observer) {{\n",
              "        var display = window.getComputedStyle(gd).display;\n",
              "        if (!display || display === 'none') {{\n",
              "            console.log([gd, 'removed!']);\n",
              "            Plotly.purge(gd);\n",
              "            observer.disconnect();\n",
              "        }}\n",
              "}});\n",
              "\n",
              "// Listen for the removal of the full notebook cells\n",
              "var notebookContainer = gd.closest('#notebook-container');\n",
              "if (notebookContainer) {{\n",
              "    x.observe(notebookContainer, {childList: true});\n",
              "}}\n",
              "\n",
              "// Listen for the clearing of the current output cell\n",
              "var outputEl = gd.closest('.output');\n",
              "if (outputEl) {{\n",
              "    x.observe(outputEl, {childList: true});\n",
              "}}\n",
              "\n",
              "                        })\n",
              "                };\n",
              "                \n",
              "            </script>\n",
              "        </div>\n",
              "</body>\n",
              "</html>"
            ]
          },
          "metadata": {
            "tags": []
          }
        }
      ]
    },
    {
      "cell_type": "markdown",
      "metadata": {
        "id": "ktx-aW4S6kAm"
      },
      "source": [
        "### Choose a number of clusters, run KMeans with that value for k on the scaled data, and add a column to the original housing data set containing the cluster that each record is assigned to."
      ]
    },
    {
      "cell_type": "code",
      "metadata": {
        "id": "ZEtpL4hY6kAm"
      },
      "source": [
        "model = KMeans(n_clusters=4, random_state=42)\n",
        "clusters = model.fit_predict(X_scaled)\n",
        "num_data['Cluster'] = clusters"
      ],
      "execution_count": 8,
      "outputs": []
    },
    {
      "cell_type": "code",
      "metadata": {
        "colab": {
          "base_uri": "https://localhost:8080/"
        },
        "id": "kMGr0esWi6T6",
        "outputId": "c1d0e7c3-9838-446a-b7e6-9653b9998935"
      },
      "source": [
        "num_data.Cluster.value_counts()"
      ],
      "execution_count": 9,
      "outputs": [
        {
          "output_type": "execute_result",
          "data": {
            "text/plain": [
              "2    545\n",
              "1    380\n",
              "0    367\n",
              "3    160\n",
              "Name: Cluster, dtype: int64"
            ]
          },
          "metadata": {
            "tags": []
          },
          "execution_count": 9
        }
      ]
    },
    {
      "cell_type": "markdown",
      "metadata": {
        "id": "mD7OUeWZ6kAp"
      },
      "source": [
        "### Create an interactive bar chart that shows the average SalePrice of a property by cluster.\n",
        "\n",
        "You will need to aggregate the data by cluster and average the sale prices before generating your visualization."
      ]
    },
    {
      "cell_type": "code",
      "metadata": {
        "id": "ddaaHpDj6kAq",
        "colab": {
          "base_uri": "https://localhost:8080/",
          "height": 542
        },
        "outputId": "2807f1c2-b7bd-43b8-8808-d253dc5ce678"
      },
      "source": [
        "cluster_means = num_data.groupby(\"Cluster\").mean().reset_index()\n",
        "\n",
        "fig = px.bar(cluster_means, x=\"Cluster\", y=\"SalePrice\", title=\"Avg. Sales Price by Cluster\")\n",
        "\n",
        "fig.update_traces(\n",
        "    marker_color=\"lightskyblue\", marker_line_color=\"black\", marker_line_width=1\n",
        ")\n",
        "fig.show()"
      ],
      "execution_count": 10,
      "outputs": [
        {
          "output_type": "display_data",
          "data": {
            "text/html": [
              "<html>\n",
              "<head><meta charset=\"utf-8\" /></head>\n",
              "<body>\n",
              "    <div>\n",
              "            <script src=\"https://cdnjs.cloudflare.com/ajax/libs/mathjax/2.7.5/MathJax.js?config=TeX-AMS-MML_SVG\"></script><script type=\"text/javascript\">if (window.MathJax) {MathJax.Hub.Config({SVG: {font: \"STIX-Web\"}});}</script>\n",
              "                <script type=\"text/javascript\">window.PlotlyConfig = {MathJaxConfig: 'local'};</script>\n",
              "        <script src=\"https://cdn.plot.ly/plotly-latest.min.js\"></script>    \n",
              "            <div id=\"e1770505-1565-4f59-99fb-12941819043f\" class=\"plotly-graph-div\" style=\"height:525px; width:100%;\"></div>\n",
              "            <script type=\"text/javascript\">\n",
              "                \n",
              "                    window.PLOTLYENV=window.PLOTLYENV || {};\n",
              "                    \n",
              "                if (document.getElementById(\"e1770505-1565-4f59-99fb-12941819043f\")) {\n",
              "                    Plotly.newPlot(\n",
              "                        'e1770505-1565-4f59-99fb-12941819043f',\n",
              "                        [{\"alignmentgroup\": \"True\", \"hoverlabel\": {\"namelength\": 0}, \"hovertemplate\": \"Cluster=%{x}<br>SalePrice=%{y}\", \"legendgroup\": \"\", \"marker\": {\"color\": \"lightskyblue\", \"line\": {\"color\": \"black\", \"width\": 1}}, \"name\": \"\", \"offsetgroup\": \"\", \"orientation\": \"v\", \"showlegend\": false, \"textposition\": \"auto\", \"type\": \"bar\", \"x\": [0, 1, 2, 3], \"xaxis\": \"x\", \"y\": [225038.73841961852, 232464.90526315788, 126110.52293577982, 141230.975], \"yaxis\": \"y\"}],\n",
              "                        {\"barmode\": \"relative\", \"legend\": {\"tracegroupgap\": 0}, \"template\": {\"data\": {\"bar\": [{\"error_x\": {\"color\": \"#2a3f5f\"}, \"error_y\": {\"color\": \"#2a3f5f\"}, \"marker\": {\"line\": {\"color\": \"#E5ECF6\", \"width\": 0.5}}, \"type\": \"bar\"}], \"barpolar\": [{\"marker\": {\"line\": {\"color\": \"#E5ECF6\", \"width\": 0.5}}, \"type\": \"barpolar\"}], \"carpet\": [{\"aaxis\": {\"endlinecolor\": \"#2a3f5f\", \"gridcolor\": \"white\", \"linecolor\": \"white\", \"minorgridcolor\": \"white\", \"startlinecolor\": \"#2a3f5f\"}, \"baxis\": {\"endlinecolor\": \"#2a3f5f\", \"gridcolor\": \"white\", \"linecolor\": \"white\", \"minorgridcolor\": \"white\", \"startlinecolor\": \"#2a3f5f\"}, \"type\": \"carpet\"}], \"choropleth\": [{\"colorbar\": {\"outlinewidth\": 0, \"ticks\": \"\"}, \"type\": \"choropleth\"}], \"contour\": [{\"colorbar\": {\"outlinewidth\": 0, \"ticks\": \"\"}, \"colorscale\": [[0.0, \"#0d0887\"], [0.1111111111111111, \"#46039f\"], [0.2222222222222222, \"#7201a8\"], [0.3333333333333333, \"#9c179e\"], [0.4444444444444444, \"#bd3786\"], [0.5555555555555556, \"#d8576b\"], [0.6666666666666666, \"#ed7953\"], [0.7777777777777778, \"#fb9f3a\"], [0.8888888888888888, \"#fdca26\"], [1.0, \"#f0f921\"]], \"type\": \"contour\"}], \"contourcarpet\": [{\"colorbar\": {\"outlinewidth\": 0, \"ticks\": \"\"}, \"type\": \"contourcarpet\"}], \"heatmap\": [{\"colorbar\": {\"outlinewidth\": 0, \"ticks\": \"\"}, \"colorscale\": [[0.0, \"#0d0887\"], [0.1111111111111111, \"#46039f\"], [0.2222222222222222, \"#7201a8\"], [0.3333333333333333, \"#9c179e\"], [0.4444444444444444, \"#bd3786\"], [0.5555555555555556, \"#d8576b\"], [0.6666666666666666, \"#ed7953\"], [0.7777777777777778, \"#fb9f3a\"], [0.8888888888888888, \"#fdca26\"], [1.0, \"#f0f921\"]], \"type\": \"heatmap\"}], \"heatmapgl\": [{\"colorbar\": {\"outlinewidth\": 0, \"ticks\": \"\"}, \"colorscale\": [[0.0, \"#0d0887\"], [0.1111111111111111, \"#46039f\"], [0.2222222222222222, \"#7201a8\"], [0.3333333333333333, \"#9c179e\"], [0.4444444444444444, \"#bd3786\"], [0.5555555555555556, \"#d8576b\"], [0.6666666666666666, \"#ed7953\"], [0.7777777777777778, \"#fb9f3a\"], [0.8888888888888888, \"#fdca26\"], [1.0, \"#f0f921\"]], \"type\": \"heatmapgl\"}], \"histogram\": [{\"marker\": {\"colorbar\": {\"outlinewidth\": 0, \"ticks\": \"\"}}, \"type\": \"histogram\"}], \"histogram2d\": [{\"colorbar\": {\"outlinewidth\": 0, \"ticks\": \"\"}, \"colorscale\": [[0.0, \"#0d0887\"], [0.1111111111111111, \"#46039f\"], [0.2222222222222222, \"#7201a8\"], [0.3333333333333333, \"#9c179e\"], [0.4444444444444444, \"#bd3786\"], [0.5555555555555556, \"#d8576b\"], [0.6666666666666666, \"#ed7953\"], [0.7777777777777778, \"#fb9f3a\"], [0.8888888888888888, \"#fdca26\"], [1.0, \"#f0f921\"]], \"type\": \"histogram2d\"}], \"histogram2dcontour\": [{\"colorbar\": {\"outlinewidth\": 0, \"ticks\": \"\"}, \"colorscale\": [[0.0, \"#0d0887\"], [0.1111111111111111, \"#46039f\"], [0.2222222222222222, \"#7201a8\"], [0.3333333333333333, \"#9c179e\"], [0.4444444444444444, \"#bd3786\"], [0.5555555555555556, \"#d8576b\"], [0.6666666666666666, \"#ed7953\"], [0.7777777777777778, \"#fb9f3a\"], [0.8888888888888888, \"#fdca26\"], [1.0, \"#f0f921\"]], \"type\": \"histogram2dcontour\"}], \"mesh3d\": [{\"colorbar\": {\"outlinewidth\": 0, \"ticks\": \"\"}, \"type\": \"mesh3d\"}], \"parcoords\": [{\"line\": {\"colorbar\": {\"outlinewidth\": 0, \"ticks\": \"\"}}, \"type\": \"parcoords\"}], \"pie\": [{\"automargin\": true, \"type\": \"pie\"}], \"scatter\": [{\"marker\": {\"colorbar\": {\"outlinewidth\": 0, \"ticks\": \"\"}}, \"type\": \"scatter\"}], \"scatter3d\": [{\"line\": {\"colorbar\": {\"outlinewidth\": 0, \"ticks\": \"\"}}, \"marker\": {\"colorbar\": {\"outlinewidth\": 0, \"ticks\": \"\"}}, \"type\": \"scatter3d\"}], \"scattercarpet\": [{\"marker\": {\"colorbar\": {\"outlinewidth\": 0, \"ticks\": \"\"}}, \"type\": \"scattercarpet\"}], \"scattergeo\": [{\"marker\": {\"colorbar\": {\"outlinewidth\": 0, \"ticks\": \"\"}}, \"type\": \"scattergeo\"}], \"scattergl\": [{\"marker\": {\"colorbar\": {\"outlinewidth\": 0, \"ticks\": \"\"}}, \"type\": \"scattergl\"}], \"scattermapbox\": [{\"marker\": {\"colorbar\": {\"outlinewidth\": 0, \"ticks\": \"\"}}, \"type\": \"scattermapbox\"}], \"scatterpolar\": [{\"marker\": {\"colorbar\": {\"outlinewidth\": 0, \"ticks\": \"\"}}, \"type\": \"scatterpolar\"}], \"scatterpolargl\": [{\"marker\": {\"colorbar\": {\"outlinewidth\": 0, \"ticks\": \"\"}}, \"type\": \"scatterpolargl\"}], \"scatterternary\": [{\"marker\": {\"colorbar\": {\"outlinewidth\": 0, \"ticks\": \"\"}}, \"type\": \"scatterternary\"}], \"surface\": [{\"colorbar\": {\"outlinewidth\": 0, \"ticks\": \"\"}, \"colorscale\": [[0.0, \"#0d0887\"], [0.1111111111111111, \"#46039f\"], [0.2222222222222222, \"#7201a8\"], [0.3333333333333333, \"#9c179e\"], [0.4444444444444444, \"#bd3786\"], [0.5555555555555556, \"#d8576b\"], [0.6666666666666666, \"#ed7953\"], [0.7777777777777778, \"#fb9f3a\"], [0.8888888888888888, \"#fdca26\"], [1.0, \"#f0f921\"]], \"type\": \"surface\"}], \"table\": [{\"cells\": {\"fill\": {\"color\": \"#EBF0F8\"}, \"line\": {\"color\": \"white\"}}, \"header\": {\"fill\": {\"color\": \"#C8D4E3\"}, \"line\": {\"color\": \"white\"}}, \"type\": \"table\"}]}, \"layout\": {\"annotationdefaults\": {\"arrowcolor\": \"#2a3f5f\", \"arrowhead\": 0, \"arrowwidth\": 1}, \"coloraxis\": {\"colorbar\": {\"outlinewidth\": 0, \"ticks\": \"\"}}, \"colorscale\": {\"diverging\": [[0, \"#8e0152\"], [0.1, \"#c51b7d\"], [0.2, \"#de77ae\"], [0.3, \"#f1b6da\"], [0.4, \"#fde0ef\"], [0.5, \"#f7f7f7\"], [0.6, \"#e6f5d0\"], [0.7, \"#b8e186\"], [0.8, \"#7fbc41\"], [0.9, \"#4d9221\"], [1, \"#276419\"]], \"sequential\": [[0.0, \"#0d0887\"], [0.1111111111111111, \"#46039f\"], [0.2222222222222222, \"#7201a8\"], [0.3333333333333333, \"#9c179e\"], [0.4444444444444444, \"#bd3786\"], [0.5555555555555556, \"#d8576b\"], [0.6666666666666666, \"#ed7953\"], [0.7777777777777778, \"#fb9f3a\"], [0.8888888888888888, \"#fdca26\"], [1.0, \"#f0f921\"]], \"sequentialminus\": [[0.0, \"#0d0887\"], [0.1111111111111111, \"#46039f\"], [0.2222222222222222, \"#7201a8\"], [0.3333333333333333, \"#9c179e\"], [0.4444444444444444, \"#bd3786\"], [0.5555555555555556, \"#d8576b\"], [0.6666666666666666, \"#ed7953\"], [0.7777777777777778, \"#fb9f3a\"], [0.8888888888888888, \"#fdca26\"], [1.0, \"#f0f921\"]]}, \"colorway\": [\"#636efa\", \"#EF553B\", \"#00cc96\", \"#ab63fa\", \"#FFA15A\", \"#19d3f3\", \"#FF6692\", \"#B6E880\", \"#FF97FF\", \"#FECB52\"], \"font\": {\"color\": \"#2a3f5f\"}, \"geo\": {\"bgcolor\": \"white\", \"lakecolor\": \"white\", \"landcolor\": \"#E5ECF6\", \"showlakes\": true, \"showland\": true, \"subunitcolor\": \"white\"}, \"hoverlabel\": {\"align\": \"left\"}, \"hovermode\": \"closest\", \"mapbox\": {\"style\": \"light\"}, \"paper_bgcolor\": \"white\", \"plot_bgcolor\": \"#E5ECF6\", \"polar\": {\"angularaxis\": {\"gridcolor\": \"white\", \"linecolor\": \"white\", \"ticks\": \"\"}, \"bgcolor\": \"#E5ECF6\", \"radialaxis\": {\"gridcolor\": \"white\", \"linecolor\": \"white\", \"ticks\": \"\"}}, \"scene\": {\"xaxis\": {\"backgroundcolor\": \"#E5ECF6\", \"gridcolor\": \"white\", \"gridwidth\": 2, \"linecolor\": \"white\", \"showbackground\": true, \"ticks\": \"\", \"zerolinecolor\": \"white\"}, \"yaxis\": {\"backgroundcolor\": \"#E5ECF6\", \"gridcolor\": \"white\", \"gridwidth\": 2, \"linecolor\": \"white\", \"showbackground\": true, \"ticks\": \"\", \"zerolinecolor\": \"white\"}, \"zaxis\": {\"backgroundcolor\": \"#E5ECF6\", \"gridcolor\": \"white\", \"gridwidth\": 2, \"linecolor\": \"white\", \"showbackground\": true, \"ticks\": \"\", \"zerolinecolor\": \"white\"}}, \"shapedefaults\": {\"line\": {\"color\": \"#2a3f5f\"}}, \"ternary\": {\"aaxis\": {\"gridcolor\": \"white\", \"linecolor\": \"white\", \"ticks\": \"\"}, \"baxis\": {\"gridcolor\": \"white\", \"linecolor\": \"white\", \"ticks\": \"\"}, \"bgcolor\": \"#E5ECF6\", \"caxis\": {\"gridcolor\": \"white\", \"linecolor\": \"white\", \"ticks\": \"\"}}, \"title\": {\"x\": 0.05}, \"xaxis\": {\"automargin\": true, \"gridcolor\": \"white\", \"linecolor\": \"white\", \"ticks\": \"\", \"title\": {\"standoff\": 15}, \"zerolinecolor\": \"white\", \"zerolinewidth\": 2}, \"yaxis\": {\"automargin\": true, \"gridcolor\": \"white\", \"linecolor\": \"white\", \"ticks\": \"\", \"title\": {\"standoff\": 15}, \"zerolinecolor\": \"white\", \"zerolinewidth\": 2}}}, \"title\": {\"text\": \"Avg. Sales Price by Cluster\"}, \"xaxis\": {\"anchor\": \"y\", \"domain\": [0.0, 1.0], \"title\": {\"text\": \"Cluster\"}}, \"yaxis\": {\"anchor\": \"x\", \"domain\": [0.0, 1.0], \"title\": {\"text\": \"SalePrice\"}}},\n",
              "                        {\"responsive\": true}\n",
              "                    ).then(function(){\n",
              "                            \n",
              "var gd = document.getElementById('e1770505-1565-4f59-99fb-12941819043f');\n",
              "var x = new MutationObserver(function (mutations, observer) {{\n",
              "        var display = window.getComputedStyle(gd).display;\n",
              "        if (!display || display === 'none') {{\n",
              "            console.log([gd, 'removed!']);\n",
              "            Plotly.purge(gd);\n",
              "            observer.disconnect();\n",
              "        }}\n",
              "}});\n",
              "\n",
              "// Listen for the removal of the full notebook cells\n",
              "var notebookContainer = gd.closest('#notebook-container');\n",
              "if (notebookContainer) {{\n",
              "    x.observe(notebookContainer, {childList: true});\n",
              "}}\n",
              "\n",
              "// Listen for the clearing of the current output cell\n",
              "var outputEl = gd.closest('.output');\n",
              "if (outputEl) {{\n",
              "    x.observe(outputEl, {childList: true});\n",
              "}}\n",
              "\n",
              "                        })\n",
              "                };\n",
              "                \n",
              "            </script>\n",
              "        </div>\n",
              "</body>\n",
              "</html>"
            ]
          },
          "metadata": {
            "tags": []
          }
        }
      ]
    },
    {
      "cell_type": "markdown",
      "metadata": {
        "id": "WrHSAs_o6kAt"
      },
      "source": [
        "### Create another bar chart where the bars are broken down and color-coded by the year the property was sold.\n",
        "\n",
        "You will need to convert the YrSold field to be categorical in order to separate the bars based on that field."
      ]
    },
    {
      "cell_type": "code",
      "metadata": {
        "id": "mt6Luvya6kAt",
        "colab": {
          "base_uri": "https://localhost:8080/",
          "height": 542
        },
        "outputId": "f921cacc-aa6c-4331-828b-ed4edf5566c7"
      },
      "source": [
        "cluster_sold_means = num_data.groupby([\"Cluster\", \"YrSold\"]).mean().reset_index()\n",
        "cluster_sold_means[\"YrSold\"] = cluster_sold_means[\"YrSold\"].astype(\"object\")\n",
        "\n",
        "fig = px.bar(\n",
        "    cluster_sold_means,\n",
        "    x=\"Cluster\",\n",
        "    y=\"SalePrice\",\n",
        "    color=\"YrSold\",\n",
        "    title=\"Avg. Sale Price by Cluster and Year Sold\",\n",
        ")\n",
        "\n",
        "fig.update_layout(barmode=\"group\")\n",
        "fig.update_traces(marker_line_color=\"black\", marker_line_width=1)\n",
        "\n",
        "fig.show()"
      ],
      "execution_count": 11,
      "outputs": [
        {
          "output_type": "display_data",
          "data": {
            "text/html": [
              "<html>\n",
              "<head><meta charset=\"utf-8\" /></head>\n",
              "<body>\n",
              "    <div>\n",
              "            <script src=\"https://cdnjs.cloudflare.com/ajax/libs/mathjax/2.7.5/MathJax.js?config=TeX-AMS-MML_SVG\"></script><script type=\"text/javascript\">if (window.MathJax) {MathJax.Hub.Config({SVG: {font: \"STIX-Web\"}});}</script>\n",
              "                <script type=\"text/javascript\">window.PlotlyConfig = {MathJaxConfig: 'local'};</script>\n",
              "        <script src=\"https://cdn.plot.ly/plotly-latest.min.js\"></script>    \n",
              "            <div id=\"403fe374-ec14-4acf-b2df-49f267c7632f\" class=\"plotly-graph-div\" style=\"height:525px; width:100%;\"></div>\n",
              "            <script type=\"text/javascript\">\n",
              "                \n",
              "                    window.PLOTLYENV=window.PLOTLYENV || {};\n",
              "                    \n",
              "                if (document.getElementById(\"403fe374-ec14-4acf-b2df-49f267c7632f\")) {\n",
              "                    Plotly.newPlot(\n",
              "                        '403fe374-ec14-4acf-b2df-49f267c7632f',\n",
              "                        [{\"alignmentgroup\": \"True\", \"hoverlabel\": {\"namelength\": 0}, \"hovertemplate\": \"YrSold=2006<br>Cluster=%{x}<br>SalePrice=%{y}\", \"legendgroup\": \"YrSold=2006\", \"marker\": {\"color\": \"#636efa\", \"line\": {\"color\": \"black\", \"width\": 1}}, \"name\": \"YrSold=2006\", \"offsetgroup\": \"YrSold=2006\", \"orientation\": \"v\", \"showlegend\": true, \"textposition\": \"auto\", \"type\": \"bar\", \"x\": [0, 1, 2, 3], \"xaxis\": \"x\", \"y\": [214370.11764705883, 241324.17283950618, 125789.27272727272, 141891.67567567568], \"yaxis\": \"y\"}, {\"alignmentgroup\": \"True\", \"hoverlabel\": {\"namelength\": 0}, \"hovertemplate\": \"YrSold=2007<br>Cluster=%{x}<br>SalePrice=%{y}\", \"legendgroup\": \"YrSold=2007\", \"marker\": {\"color\": \"#EF553B\", \"line\": {\"color\": \"black\", \"width\": 1}}, \"name\": \"YrSold=2007\", \"offsetgroup\": \"YrSold=2007\", \"orientation\": \"v\", \"showlegend\": true, \"textposition\": \"auto\", \"type\": \"bar\", \"x\": [0, 1, 2, 3], \"xaxis\": \"x\", \"y\": [238455.0, 233798.39130434784, 125912.46774193548, 145893.33333333334], \"yaxis\": \"y\"}, {\"alignmentgroup\": \"True\", \"hoverlabel\": {\"namelength\": 0}, \"hovertemplate\": \"YrSold=2008<br>Cluster=%{x}<br>SalePrice=%{y}\", \"legendgroup\": \"YrSold=2008\", \"marker\": {\"color\": \"#00cc96\", \"line\": {\"color\": \"black\", \"width\": 1}}, \"name\": \"YrSold=2008\", \"offsetgroup\": \"YrSold=2008\", \"orientation\": \"v\", \"showlegend\": true, \"textposition\": \"auto\", \"type\": \"bar\", \"x\": [0, 1, 2, 3], \"xaxis\": \"x\", \"y\": [212952.96923076923, 228582.74390243902, 128242.01694915254, 154846.08333333334], \"yaxis\": \"y\"}, {\"alignmentgroup\": \"True\", \"hoverlabel\": {\"namelength\": 0}, \"hovertemplate\": \"YrSold=2009<br>Cluster=%{x}<br>SalePrice=%{y}\", \"legendgroup\": \"YrSold=2009\", \"marker\": {\"color\": \"#ab63fa\", \"line\": {\"color\": \"black\", \"width\": 1}}, \"name\": \"YrSold=2009\", \"offsetgroup\": \"YrSold=2009\", \"orientation\": \"v\", \"showlegend\": true, \"textposition\": \"auto\", \"type\": \"bar\", \"x\": [0, 1, 2, 3], \"xaxis\": \"x\", \"y\": [227008.8085106383, 226954.55681818182, 121650.975, 130120.14285714286], \"yaxis\": \"y\"}, {\"alignmentgroup\": \"True\", \"hoverlabel\": {\"namelength\": 0}, \"hovertemplate\": \"YrSold=2010<br>Cluster=%{x}<br>SalePrice=%{y}\", \"legendgroup\": \"YrSold=2010\", \"marker\": {\"color\": \"#FFA15A\", \"line\": {\"color\": \"black\", \"width\": 1}}, \"name\": \"YrSold=2010\", \"offsetgroup\": \"YrSold=2010\", \"orientation\": \"v\", \"showlegend\": true, \"textposition\": \"auto\", \"type\": \"bar\", \"x\": [0, 1, 2, 3], \"xaxis\": \"x\", \"y\": [235050.7380952381, 231464.0, 130816.35616438356, 129159.09090909091], \"yaxis\": \"y\"}],\n",
              "                        {\"barmode\": \"group\", \"legend\": {\"tracegroupgap\": 0}, \"template\": {\"data\": {\"bar\": [{\"error_x\": {\"color\": \"#2a3f5f\"}, \"error_y\": {\"color\": \"#2a3f5f\"}, \"marker\": {\"line\": {\"color\": \"#E5ECF6\", \"width\": 0.5}}, \"type\": \"bar\"}], \"barpolar\": [{\"marker\": {\"line\": {\"color\": \"#E5ECF6\", \"width\": 0.5}}, \"type\": \"barpolar\"}], \"carpet\": [{\"aaxis\": {\"endlinecolor\": \"#2a3f5f\", \"gridcolor\": \"white\", \"linecolor\": \"white\", \"minorgridcolor\": \"white\", \"startlinecolor\": \"#2a3f5f\"}, \"baxis\": {\"endlinecolor\": \"#2a3f5f\", \"gridcolor\": \"white\", \"linecolor\": \"white\", \"minorgridcolor\": \"white\", \"startlinecolor\": \"#2a3f5f\"}, \"type\": \"carpet\"}], \"choropleth\": [{\"colorbar\": {\"outlinewidth\": 0, \"ticks\": \"\"}, \"type\": \"choropleth\"}], \"contour\": [{\"colorbar\": {\"outlinewidth\": 0, \"ticks\": \"\"}, \"colorscale\": [[0.0, \"#0d0887\"], [0.1111111111111111, \"#46039f\"], [0.2222222222222222, \"#7201a8\"], [0.3333333333333333, \"#9c179e\"], [0.4444444444444444, \"#bd3786\"], [0.5555555555555556, \"#d8576b\"], [0.6666666666666666, \"#ed7953\"], [0.7777777777777778, \"#fb9f3a\"], [0.8888888888888888, \"#fdca26\"], [1.0, \"#f0f921\"]], \"type\": \"contour\"}], \"contourcarpet\": [{\"colorbar\": {\"outlinewidth\": 0, \"ticks\": \"\"}, \"type\": \"contourcarpet\"}], \"heatmap\": [{\"colorbar\": {\"outlinewidth\": 0, \"ticks\": \"\"}, \"colorscale\": [[0.0, \"#0d0887\"], [0.1111111111111111, \"#46039f\"], [0.2222222222222222, \"#7201a8\"], [0.3333333333333333, \"#9c179e\"], [0.4444444444444444, \"#bd3786\"], [0.5555555555555556, \"#d8576b\"], [0.6666666666666666, \"#ed7953\"], [0.7777777777777778, \"#fb9f3a\"], [0.8888888888888888, \"#fdca26\"], [1.0, \"#f0f921\"]], \"type\": \"heatmap\"}], \"heatmapgl\": [{\"colorbar\": {\"outlinewidth\": 0, \"ticks\": \"\"}, \"colorscale\": [[0.0, \"#0d0887\"], [0.1111111111111111, \"#46039f\"], [0.2222222222222222, \"#7201a8\"], [0.3333333333333333, \"#9c179e\"], [0.4444444444444444, \"#bd3786\"], [0.5555555555555556, \"#d8576b\"], [0.6666666666666666, \"#ed7953\"], [0.7777777777777778, \"#fb9f3a\"], [0.8888888888888888, \"#fdca26\"], [1.0, \"#f0f921\"]], \"type\": \"heatmapgl\"}], \"histogram\": [{\"marker\": {\"colorbar\": {\"outlinewidth\": 0, \"ticks\": \"\"}}, \"type\": \"histogram\"}], \"histogram2d\": [{\"colorbar\": {\"outlinewidth\": 0, \"ticks\": \"\"}, \"colorscale\": [[0.0, \"#0d0887\"], [0.1111111111111111, \"#46039f\"], [0.2222222222222222, \"#7201a8\"], [0.3333333333333333, \"#9c179e\"], [0.4444444444444444, \"#bd3786\"], [0.5555555555555556, \"#d8576b\"], [0.6666666666666666, \"#ed7953\"], [0.7777777777777778, \"#fb9f3a\"], [0.8888888888888888, \"#fdca26\"], [1.0, \"#f0f921\"]], \"type\": \"histogram2d\"}], \"histogram2dcontour\": [{\"colorbar\": {\"outlinewidth\": 0, \"ticks\": \"\"}, \"colorscale\": [[0.0, \"#0d0887\"], [0.1111111111111111, \"#46039f\"], [0.2222222222222222, \"#7201a8\"], [0.3333333333333333, \"#9c179e\"], [0.4444444444444444, \"#bd3786\"], [0.5555555555555556, \"#d8576b\"], [0.6666666666666666, \"#ed7953\"], [0.7777777777777778, \"#fb9f3a\"], [0.8888888888888888, \"#fdca26\"], [1.0, \"#f0f921\"]], \"type\": \"histogram2dcontour\"}], \"mesh3d\": [{\"colorbar\": {\"outlinewidth\": 0, \"ticks\": \"\"}, \"type\": \"mesh3d\"}], \"parcoords\": [{\"line\": {\"colorbar\": {\"outlinewidth\": 0, \"ticks\": \"\"}}, \"type\": \"parcoords\"}], \"pie\": [{\"automargin\": true, \"type\": \"pie\"}], \"scatter\": [{\"marker\": {\"colorbar\": {\"outlinewidth\": 0, \"ticks\": \"\"}}, \"type\": \"scatter\"}], \"scatter3d\": [{\"line\": {\"colorbar\": {\"outlinewidth\": 0, \"ticks\": \"\"}}, \"marker\": {\"colorbar\": {\"outlinewidth\": 0, \"ticks\": \"\"}}, \"type\": \"scatter3d\"}], \"scattercarpet\": [{\"marker\": {\"colorbar\": {\"outlinewidth\": 0, \"ticks\": \"\"}}, \"type\": \"scattercarpet\"}], \"scattergeo\": [{\"marker\": {\"colorbar\": {\"outlinewidth\": 0, \"ticks\": \"\"}}, \"type\": \"scattergeo\"}], \"scattergl\": [{\"marker\": {\"colorbar\": {\"outlinewidth\": 0, \"ticks\": \"\"}}, \"type\": \"scattergl\"}], \"scattermapbox\": [{\"marker\": {\"colorbar\": {\"outlinewidth\": 0, \"ticks\": \"\"}}, \"type\": \"scattermapbox\"}], \"scatterpolar\": [{\"marker\": {\"colorbar\": {\"outlinewidth\": 0, \"ticks\": \"\"}}, \"type\": \"scatterpolar\"}], \"scatterpolargl\": [{\"marker\": {\"colorbar\": {\"outlinewidth\": 0, \"ticks\": \"\"}}, \"type\": \"scatterpolargl\"}], \"scatterternary\": [{\"marker\": {\"colorbar\": {\"outlinewidth\": 0, \"ticks\": \"\"}}, \"type\": \"scatterternary\"}], \"surface\": [{\"colorbar\": {\"outlinewidth\": 0, \"ticks\": \"\"}, \"colorscale\": [[0.0, \"#0d0887\"], [0.1111111111111111, \"#46039f\"], [0.2222222222222222, \"#7201a8\"], [0.3333333333333333, \"#9c179e\"], [0.4444444444444444, \"#bd3786\"], [0.5555555555555556, \"#d8576b\"], [0.6666666666666666, \"#ed7953\"], [0.7777777777777778, \"#fb9f3a\"], [0.8888888888888888, \"#fdca26\"], [1.0, \"#f0f921\"]], \"type\": \"surface\"}], \"table\": [{\"cells\": {\"fill\": {\"color\": \"#EBF0F8\"}, \"line\": {\"color\": \"white\"}}, \"header\": {\"fill\": {\"color\": \"#C8D4E3\"}, \"line\": {\"color\": \"white\"}}, \"type\": \"table\"}]}, \"layout\": {\"annotationdefaults\": {\"arrowcolor\": \"#2a3f5f\", \"arrowhead\": 0, \"arrowwidth\": 1}, \"coloraxis\": {\"colorbar\": {\"outlinewidth\": 0, \"ticks\": \"\"}}, \"colorscale\": {\"diverging\": [[0, \"#8e0152\"], [0.1, \"#c51b7d\"], [0.2, \"#de77ae\"], [0.3, \"#f1b6da\"], [0.4, \"#fde0ef\"], [0.5, \"#f7f7f7\"], [0.6, \"#e6f5d0\"], [0.7, \"#b8e186\"], [0.8, \"#7fbc41\"], [0.9, \"#4d9221\"], [1, \"#276419\"]], \"sequential\": [[0.0, \"#0d0887\"], [0.1111111111111111, \"#46039f\"], [0.2222222222222222, \"#7201a8\"], [0.3333333333333333, \"#9c179e\"], [0.4444444444444444, \"#bd3786\"], [0.5555555555555556, \"#d8576b\"], [0.6666666666666666, \"#ed7953\"], [0.7777777777777778, \"#fb9f3a\"], [0.8888888888888888, \"#fdca26\"], [1.0, \"#f0f921\"]], \"sequentialminus\": [[0.0, \"#0d0887\"], [0.1111111111111111, \"#46039f\"], [0.2222222222222222, \"#7201a8\"], [0.3333333333333333, \"#9c179e\"], [0.4444444444444444, \"#bd3786\"], [0.5555555555555556, \"#d8576b\"], [0.6666666666666666, \"#ed7953\"], [0.7777777777777778, \"#fb9f3a\"], [0.8888888888888888, \"#fdca26\"], [1.0, \"#f0f921\"]]}, \"colorway\": [\"#636efa\", \"#EF553B\", \"#00cc96\", \"#ab63fa\", \"#FFA15A\", \"#19d3f3\", \"#FF6692\", \"#B6E880\", \"#FF97FF\", \"#FECB52\"], \"font\": {\"color\": \"#2a3f5f\"}, \"geo\": {\"bgcolor\": \"white\", \"lakecolor\": \"white\", \"landcolor\": \"#E5ECF6\", \"showlakes\": true, \"showland\": true, \"subunitcolor\": \"white\"}, \"hoverlabel\": {\"align\": \"left\"}, \"hovermode\": \"closest\", \"mapbox\": {\"style\": \"light\"}, \"paper_bgcolor\": \"white\", \"plot_bgcolor\": \"#E5ECF6\", \"polar\": {\"angularaxis\": {\"gridcolor\": \"white\", \"linecolor\": \"white\", \"ticks\": \"\"}, \"bgcolor\": \"#E5ECF6\", \"radialaxis\": {\"gridcolor\": \"white\", \"linecolor\": \"white\", \"ticks\": \"\"}}, \"scene\": {\"xaxis\": {\"backgroundcolor\": \"#E5ECF6\", \"gridcolor\": \"white\", \"gridwidth\": 2, \"linecolor\": \"white\", \"showbackground\": true, \"ticks\": \"\", \"zerolinecolor\": \"white\"}, \"yaxis\": {\"backgroundcolor\": \"#E5ECF6\", \"gridcolor\": \"white\", \"gridwidth\": 2, \"linecolor\": \"white\", \"showbackground\": true, \"ticks\": \"\", \"zerolinecolor\": \"white\"}, \"zaxis\": {\"backgroundcolor\": \"#E5ECF6\", \"gridcolor\": \"white\", \"gridwidth\": 2, \"linecolor\": \"white\", \"showbackground\": true, \"ticks\": \"\", \"zerolinecolor\": \"white\"}}, \"shapedefaults\": {\"line\": {\"color\": \"#2a3f5f\"}}, \"ternary\": {\"aaxis\": {\"gridcolor\": \"white\", \"linecolor\": \"white\", \"ticks\": \"\"}, \"baxis\": {\"gridcolor\": \"white\", \"linecolor\": \"white\", \"ticks\": \"\"}, \"bgcolor\": \"#E5ECF6\", \"caxis\": {\"gridcolor\": \"white\", \"linecolor\": \"white\", \"ticks\": \"\"}}, \"title\": {\"x\": 0.05}, \"xaxis\": {\"automargin\": true, \"gridcolor\": \"white\", \"linecolor\": \"white\", \"ticks\": \"\", \"title\": {\"standoff\": 15}, \"zerolinecolor\": \"white\", \"zerolinewidth\": 2}, \"yaxis\": {\"automargin\": true, \"gridcolor\": \"white\", \"linecolor\": \"white\", \"ticks\": \"\", \"title\": {\"standoff\": 15}, \"zerolinecolor\": \"white\", \"zerolinewidth\": 2}}}, \"title\": {\"text\": \"Avg. Sale Price by Cluster and Year Sold\"}, \"xaxis\": {\"anchor\": \"y\", \"domain\": [0.0, 1.0], \"title\": {\"text\": \"Cluster\"}}, \"yaxis\": {\"anchor\": \"x\", \"domain\": [0.0, 1.0], \"title\": {\"text\": \"SalePrice\"}}},\n",
              "                        {\"responsive\": true}\n",
              "                    ).then(function(){\n",
              "                            \n",
              "var gd = document.getElementById('403fe374-ec14-4acf-b2df-49f267c7632f');\n",
              "var x = new MutationObserver(function (mutations, observer) {{\n",
              "        var display = window.getComputedStyle(gd).display;\n",
              "        if (!display || display === 'none') {{\n",
              "            console.log([gd, 'removed!']);\n",
              "            Plotly.purge(gd);\n",
              "            observer.disconnect();\n",
              "        }}\n",
              "}});\n",
              "\n",
              "// Listen for the removal of the full notebook cells\n",
              "var notebookContainer = gd.closest('#notebook-container');\n",
              "if (notebookContainer) {{\n",
              "    x.observe(notebookContainer, {childList: true});\n",
              "}}\n",
              "\n",
              "// Listen for the clearing of the current output cell\n",
              "var outputEl = gd.closest('.output');\n",
              "if (outputEl) {{\n",
              "    x.observe(outputEl, {childList: true});\n",
              "}}\n",
              "\n",
              "                        })\n",
              "                };\n",
              "                \n",
              "            </script>\n",
              "        </div>\n",
              "</body>\n",
              "</html>"
            ]
          },
          "metadata": {
            "tags": []
          }
        }
      ]
    },
    {
      "cell_type": "markdown",
      "metadata": {
        "id": "ITP1lfa26kAw"
      },
      "source": [
        "### Add a drop-down widget to the multi-bar chart you created above that lets you choose between 4 numeric fields to represent on the Y axis. "
      ]
    },
    {
      "cell_type": "code",
      "metadata": {
        "id": "VFzN0Gil6kAx"
      },
      "source": [
        "def configure_plotly_browser_state():\n",
        "  import IPython\n",
        "  display(IPython.core.display.HTML('''\n",
        "        <script src=\"/static/components/requirejs/require.js\"></script>\n",
        "        <script>\n",
        "          requirejs.config({\n",
        "            paths: {\n",
        "              base: '/static/base',\n",
        "              plotly: 'https://cdn.plot.ly/plotly-latest.min.js?noext',\n",
        "            },\n",
        "          });\n",
        "        </script>\n",
        "        '''))\n",
        "  from plotly.offline import init_notebook_mode\n",
        "  init_notebook_mode(connected=False)"
      ],
      "execution_count": 12,
      "outputs": []
    },
    {
      "cell_type": "code",
      "metadata": {
        "id": "NKbsa5J6qRPx"
      },
      "source": [
        "from ipywidgets import interact"
      ],
      "execution_count": 13,
      "outputs": []
    },
    {
      "cell_type": "code",
      "metadata": {
        "colab": {
          "base_uri": "https://localhost:8080/",
          "height": 606,
          "referenced_widgets": [
            "9e90e4b982f4412688e2e4d6d4d25153",
            "c61806f3ae3c44c393a8f1c2f25a4efd",
            "4949b12df41d497fa0da4b77846886b9",
            "5d519a6d511642eabbcf262ad05acd06",
            "f70cb0ef254a439684c16dee4d6d7c3c",
            "52b038dde6f54924b17eab21a3299039",
            "00eb4a186df04b688ee4b659b015e72e",
            "39faed33a07d48bea330d12f5d58e243",
            "46a306d1452947dbaa5d538c92e8a843",
            "aa3e1a0859ff48b4a6831f1cbd9b128b"
          ]
        },
        "id": "fakmJwoFqV52",
        "outputId": "0357a7b7-ebaa-447a-8bd9-d7e9da9bc185"
      },
      "source": [
        "@interact(\n",
        "    Metric=[\"LotArea\", \"OverallQual\", \"OverallCond\", \"SalePrice\"],\n",
        "    YearBuilt=(data[\"YearBuilt\"].min(), data[\"YearBuilt\"].max()),\n",
        ")\n",
        "def barchart(Metric, YearBuilt):\n",
        "    filtered = num_data[num_data[\"YearBuilt\"] == YearBuilt]\n",
        "    grouped = filtered.groupby([\"Cluster\", \"YrSold\"]).mean().reset_index()\n",
        "    grouped[\"YrSold\"] = grouped[\"YrSold\"].astype(\"object\")\n",
        "\n",
        "    fig = px.bar(\n",
        "        grouped,\n",
        "        x=\"Cluster\",\n",
        "        y=Metric,\n",
        "        color=\"YrSold\",\n",
        "        template=\"none\",\n",
        "        title=f\"Avg. {Metric} by Cluster and Year Sold for Properties Built in {YearBuilt}\",\n",
        "    )\n",
        "\n",
        "    fig.update_layout(barmode=\"group\")\n",
        "    fig.update_traces(marker_line_color=\"black\", marker_line_width=1)\n",
        "\n",
        "    fig.show()"
      ],
      "execution_count": 14,
      "outputs": [
        {
          "output_type": "display_data",
          "data": {
            "application/vnd.jupyter.widget-view+json": {
              "model_id": "9e90e4b982f4412688e2e4d6d4d25153",
              "version_minor": 0,
              "version_major": 2
            },
            "text/plain": [
              "interactive(children=(Dropdown(description='Metric', options=('LotArea', 'OverallQual', 'OverallCond', 'SalePr…"
            ]
          },
          "metadata": {
            "tags": []
          }
        }
      ]
    },
    {
      "cell_type": "markdown",
      "metadata": {
        "id": "T-FnKvVu6kAz"
      },
      "source": [
        "### Create a scatter plot that shows the relationship between SalesPrice and LotArea, color-coded by cluster. Add a slider that filters the data by the year the property was sold."
      ]
    },
    {
      "cell_type": "code",
      "metadata": {
        "id": "rC1GMhOhkskp"
      },
      "source": [
        "sorted = num_data.sort_values(by=['YrSold'])"
      ],
      "execution_count": 15,
      "outputs": []
    },
    {
      "cell_type": "code",
      "metadata": {
        "colab": {
          "base_uri": "https://localhost:8080/",
          "height": 542
        },
        "id": "kI4pS31oj9Tu",
        "outputId": "88a9455d-99c8-4287-83fe-e876b0c380ed"
      },
      "source": [
        "fig = px.scatter(\n",
        "    sorted,\n",
        "    x=\"LotArea\",\n",
        "    y=\"SalePrice\",\n",
        "    color=\"Cluster\",\n",
        "    template=\"none\",\n",
        "    animation_frame=\"YrSold\",\n",
        "    title=\"PCA Plot by Cluster\",\n",
        "    )\n",
        "\n",
        "fig.update_traces(marker_line_color='black', marker_line_width=1)\n",
        "fig.show()"
      ],
      "execution_count": 16,
      "outputs": [
        {
          "output_type": "display_data",
          "data": {
            "text/html": [
              "<html>\n",
              "<head><meta charset=\"utf-8\" /></head>\n",
              "<body>\n",
              "    <div>\n",
              "            <script src=\"https://cdnjs.cloudflare.com/ajax/libs/mathjax/2.7.5/MathJax.js?config=TeX-AMS-MML_SVG\"></script><script type=\"text/javascript\">if (window.MathJax) {MathJax.Hub.Config({SVG: {font: \"STIX-Web\"}});}</script>\n",
              "                <script type=\"text/javascript\">window.PlotlyConfig = {MathJaxConfig: 'local'};</script>\n",
              "        <script src=\"https://cdn.plot.ly/plotly-latest.min.js\"></script>    \n",
              "            <div id=\"09ad6733-8b09-41e5-a34e-d24a44e41d06\" class=\"plotly-graph-div\" style=\"height:525px; width:100%;\"></div>\n",
              "            <script type=\"text/javascript\">\n",
              "                \n",
              "                    window.PLOTLYENV=window.PLOTLYENV || {};\n",
              "                    \n",
              "                if (document.getElementById(\"09ad6733-8b09-41e5-a34e-d24a44e41d06\")) {\n",
              "                    Plotly.newPlot(\n",
              "                        '09ad6733-8b09-41e5-a34e-d24a44e41d06',\n",
              "                        [{\"hoverlabel\": {\"namelength\": 0}, \"hovertemplate\": \"YrSold=2006<br>LotArea=%{x}<br>SalePrice=%{y}<br>Cluster=%{marker.color}\", \"legendgroup\": \"\", \"marker\": {\"color\": [2, 0, 3, 2, 2, 0, 0, 2, 1, 3, 2, 1, 3, 0, 2, 2, 1, 1, 1, 2, 0, 2, 2, 1, 2, 2, 2, 2, 0, 0, 3, 0, 1, 2, 2, 1, 1, 0, 2, 1, 1, 2, 2, 1, 2, 2, 2, 2, 2, 2, 1, 0, 0, 1, 1, 1, 2, 2, 2, 3, 1, 1, 1, 0, 3, 3, 0, 2, 2, 1, 2, 0, 3, 0, 0, 2, 0, 1, 1, 1, 0, 0, 3, 2, 2, 0, 3, 1, 0, 0, 3, 1, 0, 2, 1, 2, 3, 0, 0, 1, 0, 3, 1, 2, 1, 2, 1, 0, 2, 1, 2, 0, 0, 0, 3, 0, 0, 1, 2, 2, 1, 0, 1, 3, 3, 3, 2, 1, 0, 2, 2, 0, 2, 1, 1, 2, 2, 2, 2, 0, 3, 2, 1, 2, 2, 1, 1, 2, 2, 0, 2, 1, 2, 2, 2, 2, 1, 1, 2, 3, 2, 2, 0, 2, 1, 0, 2, 2, 1, 3, 1, 0, 0, 1, 0, 2, 2, 1, 3, 0, 1, 1, 0, 2, 3, 1, 2, 0, 3, 0, 2, 0, 2, 3, 3, 0, 1, 1, 0, 2, 0, 2, 2, 1, 2, 0, 0, 2, 1, 2, 0, 3, 2, 0, 2, 2, 0, 1, 0, 1, 0, 1, 2, 2, 1, 0, 3, 1, 3, 1, 2, 0, 3, 2, 2, 0, 0, 1, 1, 3, 2, 0, 1, 2, 0, 3, 1, 2, 1, 0, 1, 0, 2, 1, 1, 0, 0, 2, 0, 2, 0, 0, 0, 2, 2, 2, 3, 0, 2, 2, 2, 1, 2, 2, 1, 3, 2, 3, 0, 2, 1, 1, 0, 0, 0, 1, 2, 1, 2, 3, 0, 1, 2, 1, 2, 2, 0, 1, 0, 0, 0, 1, 0, 0, 1, 2, 3, 3, 2, 1, 2, 0, 0], \"coloraxis\": \"coloraxis\", \"line\": {\"color\": \"black\", \"width\": 1}, \"symbol\": \"circle\"}, \"mode\": \"markers\", \"name\": \"\", \"showlegend\": false, \"type\": \"scatter\", \"x\": [10530, 7032, 1680, 7332, 7800, 10680, 11777, 5900, 10728, 2651, 10800, 11207, 10382, 11443, 8471, 7728, 13132, 12393, 8738, 13072, 7200, 6240, 5310, 8125, 11040, 4712, 8900, 9800, 13704, 3196, 15750, 9135, 8846, 9400, 10010, 9452, 16659, 10182, 10246, 15611, 13346, 10205, 8125, 9786, 7937, 10140, 7800, 3600, 13568, 5825, 7861, 8049, 36500, 13006, 11065, 10140, 8172, 7000, 8400, 3675, 25419, 10400, 10120, 8688, 2522, 3363, 10240, 13526, 10011, 8760, 9906, 11310, 9142, 10400, 11435, 5000, 12984, 8125, 10927, 10041, 11302, 3136, 1680, 8163, 7800, 70761, 3735, 11475, 12640, 8990, 3010, 14006, 6955, 9353, 7685, 7560, 4500, 10084, 7052, 12090, 8767, 10800, 11367, 9490, 15578, 7446, 16056, 13125, 8410, 9554, 6240, 8125, 7200, 11200, 34650, 11846, 16033, 7844, 5684, 8600, 11214, 8800, 13031, 4435, 2522, 3316, 15870, 14541, 10800, 4400, 7585, 3072, 8910, 3964, 23257, 6000, 7100, 5400, 9230, 12378, 7082, 8846, 11170, 6000, 10800, 17104, 13837, 9738, 11600, 12461, 5820, 16259, 9786, 10659, 6380, 14850, 14054, 9600, 8850, 7800, 11235, 8335, 14145, 11553, 16560, 17755, 9100, 14115, 8121, 1680, 18800, 5000, 7500, 12011, 6792, 6930, 8400, 35760, 5271, 7406, 20431, 9056, 3013, 6435, 8544, 10852, 9000, 9297, 4500, 16737, 9750, 13400, 10140, 3180, 2665, 9236, 13418, 26178, 10264, 5400, 13811, 6000, 6420, 9750, 9525, 10192, 14762, 8973, 7590, 11600, 8393, 6780, 11250, 17400, 6204, 9000, 21453, 8461, 9600, 10240, 16321, 21930, 8500, 7200, 11029, 14331, 9873, 10463, 8544, 10800, 9920, 6563, 3180, 13072, 6240, 6762, 11216, 13682, 11645, 2544, 10410, 15593, 14200, 7945, 4045, 1953, 16059, 9600, 12438, 17920, 7200, 19690, 8248, 16692, 11700, 3196, 9100, 7838, 8658, 11425, 16381, 20781, 50271, 6240, 7200, 6120, 3675, 3982, 9000, 8765, 10780, 14803, 6993, 11340, 9084, 1533, 7200, 5306, 14781, 14175, 7875, 19378, 14859, 9100, 16669, 7153, 8877, 11500, 8885, 10791, 13650, 11924, 4118, 22950, 7438, 13350, 10335, 11194, 20896, 10237, 11070, 7588, 11210, 9550, 14215, 8414, 2522, 9549, 17217, 13450, 9560, 9100, 11645], \"xaxis\": \"x\", \"y\": [135000, 135960, 91500, 120000, 115000, 137900, 164500, 85500, 266000, 165000, 135000, 185000, 140000, 369900, 151000, 132500, 138887, 195000, 230000, 142500, 185000, 80500, 117000, 197000, 108000, 121600, 107000, 149900, 205000, 234000, 157000, 200000, 173900, 127500, 170000, 348000, 235000, 290000, 145000, 233230, 268000, 134500, 88000, 159000, 142500, 153500, 119900, 114504, 156000, 79900, 183200, 180000, 190000, 222000, 281000, 162900, 115000, 112000, 138500, 140000, 235000, 165150, 290000, 232000, 130000, 130000, 207500, 137000, 134450, 239799, 107000, 140000, 137000, 241500, 230000, 79000, 217500, 186500, 275000, 220000, 319000, 171750, 94500, 143000, 225000, 280000, 183900, 179900, 150900, 204900, 167240, 192500, 202500, 116050, 165600, 133700, 164000, 212900, 185850, 258000, 164990, 160000, 255000, 133000, 172785, 100000, 556581, 155000, 81000, 215000, 149000, 230000, 187750, 180000, 145000, 374000, 326000, 149500, 110000, 119500, 199900, 160000, 187500, 155900, 137500, 197000, 138800, 310000, 170000, 116000, 91500, 178740, 159500, 151400, 274725, 110500, 129900, 117000, 146000, 360000, 160000, 148000, 250000, 102000, 120000, 179665, 229000, 104900, 145250, 262000, 126175, 342643, 91000, 136500, 113000, 141000, 219210, 178000, 144000, 119900, 148000, 93000, 202500, 158000, 239000, 149900, 129900, 230000, 172400, 118000, 190000, 159000, 176000, 280000, 202665, 130000, 140000, 625000, 190000, 194000, 437154, 178000, 213490, 140200, 87500, 173000, 124000, 188000, 153500, 315000, 135500, 159950, 181000, 144152, 127000, 217000, 309000, 335000, 214000, 108480, 176000, 89000, 123500, 274300, 136900, 170000, 169000, 150000, 155000, 137500, 145000, 84500, 165000, 160000, 118500, 118000, 180000, 163990, 87000, 275500, 207500, 192140, 98600, 109900, 250000, 312500, 129000, 239900, 93500, 163000, 128500, 275000, 151000, 158000, 114500, 193879, 232600, 438780, 196500, 147400, 105000, 225000, 226000, 141000, 246578, 83000, 260000, 140000, 361919, 170000, 157000, 274970, 116000, 250000, 179900, 215000, 235000, 123000, 160000, 137000, 223000, 262500, 385000, 115000, 125500, 88000, 145000, 264561, 35311, 106500, 132500, 190000, 135000, 125000, 176500, 92000, 109500, 239000, 275000, 168000, 180000, 320000, 240000, 216837, 228000, 175900, 102000, 250000, 131000, 90000, 172500, 345000, 52500, 475000, 127000, 142500, 180000, 230500, 423000, 169990, 171000, 200100, 221500, 140000, 325300, 154500, 130000, 270000, 84500, 200000, 128500, 125000, 260000], \"yaxis\": \"y\"}],\n",
              "                        {\"coloraxis\": {\"colorbar\": {\"title\": {\"text\": \"Cluster\"}}, \"colorscale\": [[0.0, \"#440154\"], [0.1111111111111111, \"#482878\"], [0.2222222222222222, \"#3e4989\"], [0.3333333333333333, \"#31688e\"], [0.4444444444444444, \"#26828e\"], [0.5555555555555556, \"#1f9e89\"], [0.6666666666666666, \"#35b779\"], [0.7777777777777778, \"#6ece58\"], [0.8888888888888888, \"#b5de2b\"], [1.0, \"#fde725\"]]}, \"legend\": {\"tracegroupgap\": 0}, \"sliders\": [{\"active\": 0, \"currentvalue\": {\"prefix\": \"YrSold=\"}, \"len\": 0.9, \"pad\": {\"b\": 10, \"t\": 60}, \"steps\": [{\"args\": [[\"2006\"], {\"frame\": {\"duration\": 0, \"redraw\": false}, \"fromcurrent\": true, \"mode\": \"immediate\", \"transition\": {\"duration\": 0, \"easing\": \"linear\"}}], \"label\": \"2006\", \"method\": \"animate\"}, {\"args\": [[\"2007\"], {\"frame\": {\"duration\": 0, \"redraw\": false}, \"fromcurrent\": true, \"mode\": \"immediate\", \"transition\": {\"duration\": 0, \"easing\": \"linear\"}}], \"label\": \"2007\", \"method\": \"animate\"}, {\"args\": [[\"2008\"], {\"frame\": {\"duration\": 0, \"redraw\": false}, \"fromcurrent\": true, \"mode\": \"immediate\", \"transition\": {\"duration\": 0, \"easing\": \"linear\"}}], \"label\": \"2008\", \"method\": \"animate\"}, {\"args\": [[\"2009\"], {\"frame\": {\"duration\": 0, \"redraw\": false}, \"fromcurrent\": true, \"mode\": \"immediate\", \"transition\": {\"duration\": 0, \"easing\": \"linear\"}}], \"label\": \"2009\", \"method\": \"animate\"}, {\"args\": [[\"2010\"], {\"frame\": {\"duration\": 0, \"redraw\": false}, \"fromcurrent\": true, \"mode\": \"immediate\", \"transition\": {\"duration\": 0, \"easing\": \"linear\"}}], \"label\": \"2010\", \"method\": \"animate\"}], \"x\": 0.1, \"xanchor\": \"left\", \"y\": 0, \"yanchor\": \"top\"}], \"template\": {\"data\": {\"scatter\": [{\"type\": \"scatter\"}]}}, \"title\": {\"text\": \"PCA Plot by Cluster\"}, \"updatemenus\": [{\"buttons\": [{\"args\": [null, {\"frame\": {\"duration\": 500, \"redraw\": false}, \"fromcurrent\": true, \"mode\": \"immediate\", \"transition\": {\"duration\": 500, \"easing\": \"linear\"}}], \"label\": \"&#9654;\", \"method\": \"animate\"}, {\"args\": [[null], {\"frame\": {\"duration\": 0, \"redraw\": false}, \"fromcurrent\": true, \"mode\": \"immediate\", \"transition\": {\"duration\": 0, \"easing\": \"linear\"}}], \"label\": \"&#9724;\", \"method\": \"animate\"}], \"direction\": \"left\", \"pad\": {\"r\": 10, \"t\": 70}, \"showactive\": false, \"type\": \"buttons\", \"x\": 0.1, \"xanchor\": \"right\", \"y\": 0, \"yanchor\": \"top\"}], \"xaxis\": {\"anchor\": \"y\", \"domain\": [0.0, 1.0], \"title\": {\"text\": \"LotArea\"}}, \"yaxis\": {\"anchor\": \"x\", \"domain\": [0.0, 1.0], \"title\": {\"text\": \"SalePrice\"}}},\n",
              "                        {\"responsive\": true}\n",
              "                    ).then(function(){\n",
              "                            Plotly.addFrames('09ad6733-8b09-41e5-a34e-d24a44e41d06', [{\"data\": [{\"hoverlabel\": {\"namelength\": 0}, \"hovertemplate\": \"YrSold=2006<br>LotArea=%{x}<br>SalePrice=%{y}<br>Cluster=%{marker.color}\", \"legendgroup\": \"\", \"marker\": {\"color\": [2, 0, 3, 2, 2, 0, 0, 2, 1, 3, 2, 1, 3, 0, 2, 2, 1, 1, 1, 2, 0, 2, 2, 1, 2, 2, 2, 2, 0, 0, 3, 0, 1, 2, 2, 1, 1, 0, 2, 1, 1, 2, 2, 1, 2, 2, 2, 2, 2, 2, 1, 0, 0, 1, 1, 1, 2, 2, 2, 3, 1, 1, 1, 0, 3, 3, 0, 2, 2, 1, 2, 0, 3, 0, 0, 2, 0, 1, 1, 1, 0, 0, 3, 2, 2, 0, 3, 1, 0, 0, 3, 1, 0, 2, 1, 2, 3, 0, 0, 1, 0, 3, 1, 2, 1, 2, 1, 0, 2, 1, 2, 0, 0, 0, 3, 0, 0, 1, 2, 2, 1, 0, 1, 3, 3, 3, 2, 1, 0, 2, 2, 0, 2, 1, 1, 2, 2, 2, 2, 0, 3, 2, 1, 2, 2, 1, 1, 2, 2, 0, 2, 1, 2, 2, 2, 2, 1, 1, 2, 3, 2, 2, 0, 2, 1, 0, 2, 2, 1, 3, 1, 0, 0, 1, 0, 2, 2, 1, 3, 0, 1, 1, 0, 2, 3, 1, 2, 0, 3, 0, 2, 0, 2, 3, 3, 0, 1, 1, 0, 2, 0, 2, 2, 1, 2, 0, 0, 2, 1, 2, 0, 3, 2, 0, 2, 2, 0, 1, 0, 1, 0, 1, 2, 2, 1, 0, 3, 1, 3, 1, 2, 0, 3, 2, 2, 0, 0, 1, 1, 3, 2, 0, 1, 2, 0, 3, 1, 2, 1, 0, 1, 0, 2, 1, 1, 0, 0, 2, 0, 2, 0, 0, 0, 2, 2, 2, 3, 0, 2, 2, 2, 1, 2, 2, 1, 3, 2, 3, 0, 2, 1, 1, 0, 0, 0, 1, 2, 1, 2, 3, 0, 1, 2, 1, 2, 2, 0, 1, 0, 0, 0, 1, 0, 0, 1, 2, 3, 3, 2, 1, 2, 0, 0], \"coloraxis\": \"coloraxis\", \"symbol\": \"circle\"}, \"mode\": \"markers\", \"name\": \"\", \"showlegend\": false, \"x\": [10530, 7032, 1680, 7332, 7800, 10680, 11777, 5900, 10728, 2651, 10800, 11207, 10382, 11443, 8471, 7728, 13132, 12393, 8738, 13072, 7200, 6240, 5310, 8125, 11040, 4712, 8900, 9800, 13704, 3196, 15750, 9135, 8846, 9400, 10010, 9452, 16659, 10182, 10246, 15611, 13346, 10205, 8125, 9786, 7937, 10140, 7800, 3600, 13568, 5825, 7861, 8049, 36500, 13006, 11065, 10140, 8172, 7000, 8400, 3675, 25419, 10400, 10120, 8688, 2522, 3363, 10240, 13526, 10011, 8760, 9906, 11310, 9142, 10400, 11435, 5000, 12984, 8125, 10927, 10041, 11302, 3136, 1680, 8163, 7800, 70761, 3735, 11475, 12640, 8990, 3010, 14006, 6955, 9353, 7685, 7560, 4500, 10084, 7052, 12090, 8767, 10800, 11367, 9490, 15578, 7446, 16056, 13125, 8410, 9554, 6240, 8125, 7200, 11200, 34650, 11846, 16033, 7844, 5684, 8600, 11214, 8800, 13031, 4435, 2522, 3316, 15870, 14541, 10800, 4400, 7585, 3072, 8910, 3964, 23257, 6000, 7100, 5400, 9230, 12378, 7082, 8846, 11170, 6000, 10800, 17104, 13837, 9738, 11600, 12461, 5820, 16259, 9786, 10659, 6380, 14850, 14054, 9600, 8850, 7800, 11235, 8335, 14145, 11553, 16560, 17755, 9100, 14115, 8121, 1680, 18800, 5000, 7500, 12011, 6792, 6930, 8400, 35760, 5271, 7406, 20431, 9056, 3013, 6435, 8544, 10852, 9000, 9297, 4500, 16737, 9750, 13400, 10140, 3180, 2665, 9236, 13418, 26178, 10264, 5400, 13811, 6000, 6420, 9750, 9525, 10192, 14762, 8973, 7590, 11600, 8393, 6780, 11250, 17400, 6204, 9000, 21453, 8461, 9600, 10240, 16321, 21930, 8500, 7200, 11029, 14331, 9873, 10463, 8544, 10800, 9920, 6563, 3180, 13072, 6240, 6762, 11216, 13682, 11645, 2544, 10410, 15593, 14200, 7945, 4045, 1953, 16059, 9600, 12438, 17920, 7200, 19690, 8248, 16692, 11700, 3196, 9100, 7838, 8658, 11425, 16381, 20781, 50271, 6240, 7200, 6120, 3675, 3982, 9000, 8765, 10780, 14803, 6993, 11340, 9084, 1533, 7200, 5306, 14781, 14175, 7875, 19378, 14859, 9100, 16669, 7153, 8877, 11500, 8885, 10791, 13650, 11924, 4118, 22950, 7438, 13350, 10335, 11194, 20896, 10237, 11070, 7588, 11210, 9550, 14215, 8414, 2522, 9549, 17217, 13450, 9560, 9100, 11645], \"xaxis\": \"x\", \"y\": [135000, 135960, 91500, 120000, 115000, 137900, 164500, 85500, 266000, 165000, 135000, 185000, 140000, 369900, 151000, 132500, 138887, 195000, 230000, 142500, 185000, 80500, 117000, 197000, 108000, 121600, 107000, 149900, 205000, 234000, 157000, 200000, 173900, 127500, 170000, 348000, 235000, 290000, 145000, 233230, 268000, 134500, 88000, 159000, 142500, 153500, 119900, 114504, 156000, 79900, 183200, 180000, 190000, 222000, 281000, 162900, 115000, 112000, 138500, 140000, 235000, 165150, 290000, 232000, 130000, 130000, 207500, 137000, 134450, 239799, 107000, 140000, 137000, 241500, 230000, 79000, 217500, 186500, 275000, 220000, 319000, 171750, 94500, 143000, 225000, 280000, 183900, 179900, 150900, 204900, 167240, 192500, 202500, 116050, 165600, 133700, 164000, 212900, 185850, 258000, 164990, 160000, 255000, 133000, 172785, 100000, 556581, 155000, 81000, 215000, 149000, 230000, 187750, 180000, 145000, 374000, 326000, 149500, 110000, 119500, 199900, 160000, 187500, 155900, 137500, 197000, 138800, 310000, 170000, 116000, 91500, 178740, 159500, 151400, 274725, 110500, 129900, 117000, 146000, 360000, 160000, 148000, 250000, 102000, 120000, 179665, 229000, 104900, 145250, 262000, 126175, 342643, 91000, 136500, 113000, 141000, 219210, 178000, 144000, 119900, 148000, 93000, 202500, 158000, 239000, 149900, 129900, 230000, 172400, 118000, 190000, 159000, 176000, 280000, 202665, 130000, 140000, 625000, 190000, 194000, 437154, 178000, 213490, 140200, 87500, 173000, 124000, 188000, 153500, 315000, 135500, 159950, 181000, 144152, 127000, 217000, 309000, 335000, 214000, 108480, 176000, 89000, 123500, 274300, 136900, 170000, 169000, 150000, 155000, 137500, 145000, 84500, 165000, 160000, 118500, 118000, 180000, 163990, 87000, 275500, 207500, 192140, 98600, 109900, 250000, 312500, 129000, 239900, 93500, 163000, 128500, 275000, 151000, 158000, 114500, 193879, 232600, 438780, 196500, 147400, 105000, 225000, 226000, 141000, 246578, 83000, 260000, 140000, 361919, 170000, 157000, 274970, 116000, 250000, 179900, 215000, 235000, 123000, 160000, 137000, 223000, 262500, 385000, 115000, 125500, 88000, 145000, 264561, 35311, 106500, 132500, 190000, 135000, 125000, 176500, 92000, 109500, 239000, 275000, 168000, 180000, 320000, 240000, 216837, 228000, 175900, 102000, 250000, 131000, 90000, 172500, 345000, 52500, 475000, 127000, 142500, 180000, 230500, 423000, 169990, 171000, 200100, 221500, 140000, 325300, 154500, 130000, 270000, 84500, 200000, 128500, 125000, 260000], \"yaxis\": \"y\", \"type\": \"scatter\"}], \"name\": \"2006\"}, {\"data\": [{\"hoverlabel\": {\"namelength\": 0}, \"hovertemplate\": \"YrSold=2007<br>LotArea=%{x}<br>SalePrice=%{y}<br>Cluster=%{marker.color}\", \"legendgroup\": \"\", \"marker\": {\"color\": [2, 2, 1, 1, 1, 2, 2, 2, 2, 0, 0, 2, 2, 2, 0, 1, 2, 2, 2, 2, 3, 1, 2, 1, 2, 2, 3, 0, 0, 2, 2, 0, 1, 1, 1, 0, 3, 2, 2, 2, 1, 2, 0, 0, 1, 0, 0, 1, 0, 0, 1, 1, 1, 0, 0, 1, 2, 1, 1, 2, 0, 1, 3, 0, 3, 1, 1, 2, 0, 0, 2, 2, 2, 2, 2, 2, 2, 3, 1, 1, 3, 1, 1, 0, 3, 0, 0, 1, 2, 3, 0, 2, 2, 1, 0, 1, 2, 1, 3, 1, 1, 3, 1, 1, 0, 0, 2, 2, 1, 2, 2, 2, 2, 2, 1, 1, 1, 0, 0, 2, 1, 2, 1, 0, 2, 3, 0, 2, 3, 0, 0, 0, 1, 1, 0, 2, 0, 1, 3, 2, 1, 0, 1, 2, 3, 2, 2, 1, 0, 0, 2, 1, 1, 1, 2, 2, 0, 2, 0, 2, 2, 1, 2, 1, 2, 2, 1, 0, 2, 2, 2, 2, 2, 1, 1, 3, 2, 0, 0, 0, 1, 0, 2, 1, 0, 2, 1, 2, 1, 2, 3, 2, 3, 1, 2, 0, 2, 0, 0, 2, 2, 2, 0, 2, 2, 2, 0, 0, 2, 2, 3, 2, 1, 2, 0, 0, 2, 1, 2, 0, 1, 0, 2, 0, 1, 2, 0, 2, 2, 3, 1, 0, 1, 2, 2, 1, 1, 2, 0, 1, 3, 2, 0, 2, 2, 1, 2, 2, 0, 1, 0, 3, 1, 0, 2, 2, 2, 2, 3, 0, 0, 0, 1, 0, 2, 2, 2, 1, 1, 1, 0, 0, 1, 2, 3, 0, 1, 2, 2, 1, 2, 2, 0, 2, 1, 2, 2, 1, 0, 1, 1, 1, 2, 0, 1, 1, 2, 1, 0, 1, 2, 3, 0, 1, 2, 1, 3, 2, 2, 2, 3, 1, 1, 1, 0, 0, 2, 3, 0, 0, 0, 2, 3, 2, 1, 2, 3], \"coloraxis\": \"coloraxis\", \"symbol\": \"circle\"}, \"mode\": \"markers\", \"name\": \"\", \"showlegend\": false, \"x\": [9187, 7700, 9531, 12394, 13125, 8775, 9600, 10150, 8978, 8450, 7875, 9600, 9492, 10594, 14226, 13693, 9600, 9170, 5925, 8197, 13600, 12257, 8480, 7200, 4800, 11988, 5330, 9158, 14977, 7758, 10289, 12243, 7750, 11952, 9500, 8556, 1890, 7535, 9750, 10152, 12205, 6305, 12692, 11333, 9480, 11428, 8993, 9920, 11175, 10628, 11275, 11606, 40094, 25000, 14536, 9000, 7200, 12384, 3922, 8064, 15865, 12168, 7136, 8450, 2308, 18450, 10237, 11841, 14585, 14442, 9450, 7420, 10500, 7943, 7340, 12342, 9250, 10896, 8462, 13125, 2117, 11999, 7050, 10395, 2001, 11670, 11694, 6270, 10530, 1936, 13501, 8402, 6173, 10793, 9590, 9967, 7024, 8737, 4058, 9018, 11000, 4435, 9600, 10592, 16647, 115149, 11664, 8000, 10800, 5000, 8100, 9439, 9098, 13300, 11787, 10784, 13758, 7128, 12155, 25286, 12046, 9945, 9000, 11248, 6970, 5062, 10207, 7244, 5105, 8089, 7577, 10656, 21535, 7642, 4590, 5400, 11500, 9760, 7711, 8731, 9303, 8814, 9572, 9060, 2117, 8520, 8190, 10029, 12615, 4230, 12358, 8244, 10570, 10562, 5400, 5500, 9986, 4270, 10000, 10356, 8294, 9375, 10355, 11103, 6000, 10215, 7472, 9416, 13673, 10496, 8314, 10482, 7917, 18890, 9588, 9842, 9350, 9037, 4750, 159000, 11317, 9849, 3880, 12090, 12030, 7200, 17542, 6240, 9950, 13515, 10120, 11344, 11345, 14364, 7388, 14450, 4388, 15306, 15256, 7134, 13869, 7742, 11096, 9180, 16905, 9503, 7313, 12546, 10800, 7200, 4224, 7449, 11584, 6120, 10652, 8500, 8400, 10000, 11767, 10084, 7917, 9600, 9000, 6442, 9591, 6120, 16196, 6060, 8536, 3230, 7259, 21000, 9965, 8500, 10800, 7758, 8499, 10921, 11400, 9337, 7200, 8070, 10991, 8892, 25339, 8520, 6000, 7599, 13651, 12665, 10665, 4928, 11287, 5362, 7094, 8724, 16157, 7540, 4224, 8899, 11249, 7820, 22420, 12085, 8160, 12772, 10134, 18030, 10678, 8063, 14157, 10357, 15623, 8923, 2016, 10768, 8200, 8339, 9900, 7590, 6180, 8967, 8400, 10712, 9965, 8263, 7200, 10364, 14572, 53107, 9245, 9125, 8280, 11143, 14154, 11796, 8176, 8773, 10624, 9000, 9600, 2645, 9317, 12099, 9758, 10380, 1920, 13710, 4280, 7000, 32463, 7399, 11700, 13474, 3922, 35133, 6000, 8012, 10386, 8749, 6762, 6882, 3696, 8730, 16226, 5000, 4251], \"xaxis\": \"x\", \"y\": [134000, 112500, 211000, 225000, 219500, 126000, 175500, 114500, 108000, 179000, 176000, 132000, 105000, 96500, 395000, 380000, 135000, 140000, 89471, 143500, 90000, 290000, 132500, 175000, 109900, 150000, 251000, 225000, 440000, 132500, 156000, 175000, 162000, 190000, 165000, 194000, 113000, 120000, 157900, 135000, 187500, 119750, 430000, 146800, 146500, 250000, 176485, 269790, 200141, 167000, 220000, 135000, 184750, 143000, 270000, 141000, 129000, 197900, 194201, 122900, 268000, 359100, 145000, 185000, 155000, 129000, 178900, 118500, 181900, 257500, 110000, 132000, 139000, 118500, 110000, 139900, 139400, 200000, 201000, 238000, 168500, 285000, 226000, 148000, 75000, 320000, 314813, 145000, 143250, 84500, 255000, 147000, 125500, 152000, 187500, 170000, 157000, 210000, 133000, 179540, 248000, 131500, 187000, 165000, 171000, 302000, 119200, 141000, 159500, 39300, 153500, 87000, 86000, 132000, 315750, 160000, 187500, 164000, 163500, 132250, 195000, 128500, 303477, 285000, 129000, 207500, 227875, 129500, 148800, 392000, 194700, 248900, 755000, 189950, 209500, 86000, 136905, 187000, 150000, 144000, 204000, 203000, 302000, 120000, 177000, 100000, 119000, 211000, 243000, 208900, 128500, 183500, 315000, 325624, 152000, 103200, 147000, 79000, 227000, 122000, 123000, 228500, 143000, 155835, 108500, 111000, 184000, 311872, 143900, 143000, 124500, 145000, 148000, 190000, 276000, 101800, 158000, 265900, 235000, 277000, 180000, 248328, 110500, 178000, 318000, 119000, 294000, 127500, 290000, 180500, 122000, 144000, 137000, 277000, 150750, 415298, 87000, 283463, 282922, 130000, 177000, 127000, 249700, 144000, 170000, 144000, 277500, 182900, 64500, 101000, 129900, 139400, 197000, 132000, 279500, 179600, 129000, 240000, 112000, 307000, 175000, 181500, 120500, 202500, 317000, 137500, 215000, 100000, 155000, 176000, 259500, 217000, 383970, 115000, 100000, 169500, 156932, 94750, 466500, 204750, 133900, 123600, 239000, 126500, 112000, 136000, 131000, 129500, 244000, 281213, 226000, 128000, 228500, 139000, 125000, 129000, 194000, 156000, 134000, 181134, 177500, 318061, 239000, 318000, 126000, 151500, 109000, 200500, 285000, 181000, 377426, 179900, 745000, 134500, 106000, 218000, 219500, 106500, 117500, 169500, 102000, 67000, 144000, 93500, 424870, 118400, 140000, 168000, 259000, 240000, 213500, 163900, 124000, 340000, 280000, 215000, 139000, 169000, 119000, 270000, 125000, 174000, 176432, 354000, 119500, 301000, 122500, 152000, 90350, 135000, 168000, 239000, 175000, 225000, 172500, 186700, 120000, 179200, 305900, 192000, 195400, 127000, 170000, 153575, 267000, 87000, 164700], \"yaxis\": \"y\", \"type\": \"scatter\"}], \"name\": \"2007\"}, {\"data\": [{\"hoverlabel\": {\"namelength\": 0}, \"hovertemplate\": \"YrSold=2008<br>LotArea=%{x}<br>SalePrice=%{y}<br>Cluster=%{marker.color}\", \"legendgroup\": \"\", \"marker\": {\"color\": [1, 1, 3, 1, 3, 2, 2, 0, 0, 1, 2, 1, 3, 2, 1, 2, 2, 3, 2, 1, 2, 0, 1, 0, 2, 1, 3, 1, 3, 1, 1, 0, 2, 1, 2, 1, 1, 2, 2, 2, 1, 2, 0, 2, 0, 2, 0, 1, 0, 0, 0, 1, 2, 2, 0, 2, 3, 1, 2, 0, 0, 0, 2, 1, 0, 1, 2, 2, 2, 0, 0, 0, 3, 1, 1, 1, 0, 2, 2, 1, 2, 1, 2, 1, 2, 2, 1, 2, 1, 1, 1, 0, 2, 0, 1, 2, 2, 2, 0, 3, 2, 1, 1, 1, 1, 2, 2, 1, 2, 2, 1, 2, 1, 2, 1, 2, 0, 2, 2, 1, 1, 0, 3, 2, 0, 0, 0, 1, 2, 1, 0, 0, 1, 2, 0, 2, 1, 2, 1, 1, 2, 3, 3, 2, 1, 1, 1, 1, 2, 2, 3, 2, 0, 2, 1, 2, 0, 0, 1, 1, 0, 2, 2, 2, 3, 0, 1, 0, 2, 1, 0, 2, 0, 3, 2, 2, 3, 3, 2, 3, 3, 1, 2, 2, 1, 2, 2, 2, 1, 1, 0, 1, 1, 1, 3, 1, 1, 0, 1, 2, 2, 0, 2, 3, 1, 0, 2, 2, 2, 2, 3, 1, 1, 2, 3, 0, 2, 2, 0, 0, 0, 3, 2, 3, 2, 2, 2, 1, 3, 2, 0, 1, 3, 2, 3, 0, 1, 3, 0, 0, 1, 3, 2, 2, 2, 2, 0, 3, 0, 1, 1, 0, 2, 2, 2, 2, 1, 2, 0, 0, 2, 2, 0, 1, 2, 3, 2, 2, 3, 0, 2, 1, 1, 2, 0, 3, 0, 2, 2, 2, 2, 3, 0, 2, 2, 2, 0, 2, 1, 3, 2, 1, 2, 2, 0, 0, 0, 2, 2, 2, 2], \"coloraxis\": \"coloraxis\", \"symbol\": \"circle\"}, \"mode\": \"markers\", \"name\": \"\", \"showlegend\": false, \"x\": [11526, 12665, 4426, 45600, 10800, 6300, 13825, 8400, 11361, 12925, 10970, 9735, 2160, 6292, 10625, 6000, 9020, 1680, 6000, 8199, 10930, 12274, 10944, 8400, 10721, 9760, 4438, 12798, 4435, 8000, 10480, 13265, 9204, 13053, 7677, 20544, 7415, 12155, 11767, 9525, 10261, 9764, 10440, 7875, 18000, 6130, 12444, 10832, 14803, 3842, 11900, 7226, 5250, 9600, 9587, 9750, 4060, 14100, 11512, 11040, 27650, 5587, 21286, 9900, 8700, 63887, 6951, 15611, 12000, 8012, 7153, 14303, 4017, 6931, 9600, 11250, 3182, 8250, 12122, 15384, 7763, 14598, 8872, 8769, 7910, 7390, 12227, 8525, 8029, 11075, 8158, 11957, 8385, 9120, 8777, 9880, 16466, 5700, 5119, 10880, 9000, 9247, 9240, 10316, 9130, 8892, 7350, 11839, 9477, 9600, 9842, 9245, 9179, 5890, 13700, 13695, 9350, 7024, 11029, 13728, 11075, 3182, 12900, 6627, 14778, 8640, 15498, 9120, 6600, 10440, 11932, 9520, 7056, 13284, 9246, 3636, 8450, 9937, 10800, 8320, 9100, 1869, 1680, 10267, 8366, 8791, 13500, 12435, 12702, 12150, 3604, 5232, 12090, 8480, 8400, 6900, 13101, 39104, 10005, 11198, 21780, 13907, 6600, 7990, 1950, 12803, 7200, 12416, 10007, 11426, 10437, 10320, 10452, 4923, 7200, 7180, 12677, 5687, 8777, 4438, 9020, 10800, 8248, 12493, 12244, 7227, 8250, 5604, 9200, 15660, 10125, 21872, 10625, 18386, 3675, 9291, 11988, 9382, 12474, 8405, 5100, 53227, 4571, 14963, 8750, 13125, 10200, 12108, 10480, 15576, 1890, 10839, 11228, 5586, 1680, 7060, 8593, 21750, 6240, 10197, 17120, 2665, 6000, 4043, 7920, 8235, 12735, 8924, 7000, 6155, 10200, 14948, 10800, 9150, 10846, 9600, 9042, 164660, 9135, 8849, 9803, 2448, 9084, 9120, 9144, 7931, 8198, 10106, 8450, 13688, 11404, 10175, 7200, 8475, 8635, 8172, 10542, 10000, 10206, 4671, 4130, 7162, 4282, 9375, 6000, 4426, 9464, 6768, 2887, 5395, 9200, 11250, 14260, 12508, 6120, 7420, 14587, 11200, 12968, 10920, 13695, 2280, 9742, 6324, 8500, 8544, 11049, 6040, 8963, 7892, 9000, 9066, 13500, 9600, 10400, 8125, 13891, 9200, 7500, 11120, 10012], \"xaxis\": \"x\", \"y\": [191000, 153900, 149300, 240000, 163000, 128000, 140000, 136500, 180000, 237500, 147000, 167500, 160000, 91000, 250000, 107900, 174900, 100000, 120000, 189000, 140000, 227680, 271000, 174000, 142000, 167900, 144500, 200000, 136500, 188000, 205000, 271000, 124000, 207000, 110000, 215000, 193000, 140000, 130500, 144000, 186500, 130000, 157500, 139950, 81000, 109500, 394617, 194500, 385000, 275000, 166000, 183000, 122000, 165500, 190000, 151000, 181000, 381000, 177000, 145000, 242000, 392500, 135000, 176000, 155000, 160000, 119500, 175000, 147000, 193000, 179200, 301500, 171900, 165400, 129500, 255900, 159895, 134000, 178400, 184000, 140000, 214000, 147000, 367294, 127000, 135000, 272000, 130000, 176000, 172000, 224900, 232000, 149900, 163000, 145900, 171000, 135500, 116900, 328900, 125000, 80000, 171000, 287000, 235000, 173000, 116000, 139000, 262280, 110000, 119000, 189000, 145000, 193000, 120500, 201800, 155000, 179900, 176000, 176500, 235000, 206900, 191000, 108959, 72500, 224000, 250580, 287000, 185000, 130500, 256000, 235128, 293077, 140000, 165000, 135000, 55000, 208500, 147500, 339750, 185900, 79500, 106000, 89500, 130000, 173000, 207500, 325000, 231500, 97000, 131500, 146000, 73000, 175500, 118500, 179500, 120500, 142600, 241500, 192000, 325000, 185000, 108000, 138000, 110000, 151000, 221000, 149000, 184000, 145500, 200000, 350000, 135000, 155000, 286000, 98300, 127000, 274000, 135900, 85000, 149000, 168500, 240000, 67000, 141000, 305000, 105500, 145000, 98000, 315000, 311500, 171500, 175000, 284000, 295000, 148000, 187000, 188700, 191000, 426000, 119000, 161000, 256000, 98000, 245500, 210000, 208900, 108000, 118000, 115000, 177000, 81000, 181000, 228000, 79900, 85400, 206300, 109008, 113000, 162900, 163000, 134432, 115000, 112500, 140000, 89500, 125000, 111250, 188000, 107500, 128000, 175000, 446261, 106250, 165000, 324000, 161000, 192000, 228950, 214000, 266000, 226700, 154000, 95000, 184000, 145000, 155000, 207000, 127500, 210000, 412500, 222500, 180500, 124900, 135750, 127000, 135000, 341000, 157000, 245000, 189000, 52000, 109900, 196000, 250000, 115000, 141000, 136000, 142000, 173000, 180000, 130250, 223500, 250000, 160000, 129900, 118000, 264132, 129500, 144000, 157000, 159000, 179400, 230000, 68500, 40000, 149350, 179900, 82000, 299800, 153900, 139000, 230000, 235000, 79000, 174000, 193500, 372402, 140000, 141000, 162500, 137500], \"yaxis\": \"y\", \"type\": \"scatter\"}], \"name\": \"2008\"}, {\"data\": [{\"hoverlabel\": {\"namelength\": 0}, \"hovertemplate\": \"YrSold=2009<br>LotArea=%{x}<br>SalePrice=%{y}<br>Cluster=%{marker.color}\", \"legendgroup\": \"\", \"marker\": {\"color\": [0, 0, 0, 1, 3, 2, 2, 0, 2, 0, 2, 2, 2, 2, 1, 0, 0, 3, 1, 3, 3, 0, 2, 0, 1, 2, 3, 0, 0, 2, 2, 2, 2, 1, 0, 0, 2, 2, 1, 2, 0, 2, 2, 3, 1, 2, 1, 1, 0, 2, 0, 0, 0, 0, 0, 0, 0, 2, 1, 0, 2, 1, 1, 3, 0, 1, 0, 2, 1, 1, 2, 0, 0, 1, 0, 2, 3, 2, 2, 2, 0, 1, 2, 3, 3, 3, 2, 1, 2, 0, 2, 3, 0, 1, 2, 3, 0, 1, 2, 2, 1, 0, 0, 1, 0, 1, 0, 2, 0, 1, 2, 2, 0, 2, 0, 3, 0, 1, 2, 1, 1, 2, 1, 0, 2, 1, 2, 2, 0, 0, 1, 1, 1, 3, 2, 3, 1, 2, 0, 1, 0, 2, 1, 1, 2, 1, 0, 2, 0, 2, 1, 0, 0, 0, 0, 1, 2, 2, 0, 2, 2, 3, 0, 1, 0, 0, 2, 0, 2, 3, 2, 1, 3, 0, 2, 1, 2, 1, 2, 1, 3, 2, 1, 1, 0, 0, 1, 2, 2, 0, 1, 1, 1, 2, 2, 2, 3, 0, 2, 2, 2, 0, 2, 2, 3, 1, 3, 2, 1, 2, 2, 2, 1, 1, 1, 2, 1, 3, 2, 3, 2, 1, 0, 1, 1, 1, 1, 2, 2, 1, 3, 1, 1, 2, 2, 1, 0, 0, 2, 2, 0, 2, 0, 1, 2, 2, 2, 1, 0, 2, 2, 2, 2, 2, 2, 2, 3, 0, 1, 0, 2, 1, 0, 2, 0, 2, 0, 2, 0, 1, 1, 0, 2, 2, 2, 2, 0, 1, 2, 3, 1, 2, 0, 1, 2, 1, 3, 0, 0, 2, 0, 1, 1, 1, 3, 3, 3, 0, 2, 0, 0, 2, 1, 2, 1, 2, 0, 1, 0, 2, 0, 3, 3, 0, 0, 1, 0, 0, 0, 1, 2, 2, 0, 2, 1, 2, 0, 2, 1, 0, 1, 2, 1, 3, 1, 2, 2], \"coloraxis\": \"coloraxis\", \"symbol\": \"circle\"}, \"mode\": \"markers\", \"name\": \"\", \"showlegend\": false, \"x\": [17043, 9541, 13173, 7301, 1680, 10690, 8532, 9500, 10859, 5001, 8877, 10634, 10020, 9000, 16545, 9248, 3635, 2368, 8935, 4456, 10615, 11888, 6402, 10655, 12420, 9600, 7200, 10994, 9650, 7681, 3950, 12400, 8400, 12822, 17600, 9017, 8072, 9000, 8123, 10434, 10226, 9405, 8926, 4500, 10382, 9571, 7750, 9000, 9262, 14115, 10708, 7500, 16635, 8400, 3684, 9991, 17423, 8854, 12000, 14115, 7200, 10410, 10304, 4928, 14230, 7018, 9947, 7560, 12209, 9828, 7200, 8125, 7804, 11003, 9819, 8780, 2280, 6000, 12513, 4060, 3182, 15138, 9858, 7018, 4435, 10762, 5400, 9765, 13360, 8814, 8470, 3951, 19296, 6600, 3500, 1680, 16158, 24682, 9600, 8800, 12224, 9808, 17871, 12936, 5664, 8640, 9156, 10998, 6853, 8068, 6000, 10500, 13472, 11616, 11851, 1680, 11250, 11643, 8445, 11911, 7558, 7200, 6171, 9750, 6000, 10400, 12342, 8000, 9100, 215245, 9375, 7795, 13005, 4500, 6120, 2645, 9900, 7500, 14684, 10141, 8944, 5330, 13000, 15426, 9600, 7264, 9591, 10440, 5063, 9060, 8530, 8640, 9612, 10335, 14892, 10762, 9340, 11409, 9600, 14000, 5520, 1596, 11475, 3378, 8925, 11838, 7064, 11900, 6120, 6000, 17140, 13860, 3000, 9187, 9286, 12589, 9084, 8750, 8712, 7018, 7018, 9937, 46589, 11184, 13560, 12160, 8633, 9100, 6629, 11362, 11885, 13159, 12203, 8816, 6292, 11414, 2268, 12704, 5925, 6120, 9600, 11923, 8740, 25095, 1300, 13478, 4435, 7200, 13600, 8820, 14375, 12464, 11050, 8755, 9675, 7150, 9636, 2289, 9900, 10800, 6000, 9313, 12886, 8795, 11700, 8100, 21384, 8405, 7930, 13891, 3230, 10769, 13518, 9100, 6911, 9430, 3182, 9790, 7252, 9101, 16285, 10000, 8529, 28698, 6240, 9022, 7000, 8834, 11844, 5720, 12144, 4500, 6600, 8750, 6120, 7931, 10125, 10400, 12095, 6240, 15523, 9317, 10140, 8120, 13286, 6960, 21695, 10004, 7314, 8125, 12327, 8487, 7015, 13680, 8430, 7800, 9855, 10918, 21750, 5814, 9000, 7879, 11883, 8400, 7200, 10574, 8544, 15431, 14601, 5784, 10140, 10208, 10448, 7950, 1477, 1533, 7596, 12898, 11500, 7862, 9600, 9600, 15863, 14559, 8004, 8281, 12220, 11700, 5381, 7200, 12118, 2308, 1526, 10637, 12800, 17671, 11457, 12456, 11717, 2500, 8400, 8777, 11880, 10206, 7837, 11000, 11146, 6000, 11308, 3182, 29959, 12354, 10667, 2217, 9375, 9600, 6000], \"xaxis\": \"x\", \"y\": [181000, 233170, 325000, 198500, 118000, 147000, 153000, 159000, 145000, 230000, 100000, 123000, 61000, 143000, 340000, 173000, 175900, 125000, 195000, 113000, 95000, 214500, 78000, 284000, 230000, 140000, 90000, 257000, 167900, 154900, 115000, 155000, 82000, 239686, 157500, 192000, 138000, 76000, 179000, 115000, 295493, 118000, 112000, 162000, 200000, 60000, 184100, 136000, 287090, 143000, 190000, 185000, 215000, 156500, 174000, 150000, 501837, 121000, 174500, 187500, 125000, 135000, 197500, 143750, 256300, 153337, 173000, 139000, 215000, 239500, 123000, 241000, 135000, 310000, 196000, 112000, 148500, 132500, 104900, 99900, 192500, 403000, 130000, 118964, 144000, 120000, 105000, 185000, 163500, 220000, 85000, 164500, 176000, 107500, 110000, 119500, 260000, 181000, 128900, 150500, 244000, 227000, 197900, 162000, 278000, 252678, 185750, 117000, 220000, 200000, 134900, 97000, 386250, 139000, 180500, 112000, 161500, 200000, 133000, 174000, 177000, 138000, 137450, 213000, 117000, 197900, 82500, 132000, 178000, 375000, 219500, 188500, 260000, 165000, 105000, 172500, 260000, 177500, 271900, 185000, 124000, 82500, 193500, 231500, 139000, 205000, 274900, 110000, 207500, 105000, 168500, 229456, 244600, 204000, 377500, 225000, 113000, 131000, 167000, 158500, 104000, 91000, 110000, 135000, 201000, 236500, 135000, 82500, 60000, 93000, 135000, 345000, 173733, 370878, 143500, 174000, 108000, 191000, 153000, 142953, 118858, 167000, 402000, 172500, 110000, 149500, 173500, 117500, 103600, 280000, 261500, 224500, 336000, 139000, 145000, 167500, 173000, 253293, 37900, 133000, 160000, 239000, 137000, 143000, 124000, 451950, 140000, 133900, 205000, 124900, 137500, 152000, 313000, 214000, 253000, 100000, 178000, 148500, 139500, 179000, 93000, 190000, 175000, 236000, 265979, 106000, 223500, 98000, 156000, 582933, 172500, 212000, 485000, 127500, 100000, 337000, 160200, 161500, 134900, 165500, 187100, 131400, 189000, 185000, 103000, 109500, 136500, 350000, 372500, 66500, 133000, 159434, 109500, 148500, 141500, 132500, 126000, 152000, 158000, 254000, 133500, 213000, 165000, 124500, 320000, 120500, 222000, 167000, 194500, 174000, 316600, 190000, 110000, 139600, 124000, 130000, 127500, 234000, 115000, 187500, 210000, 34900, 203000, 227000, 85000, 252000, 92900, 555000, 315000, 91300, 213250, 265000, 158000, 159500, 80000, 97000, 124500, 315500, 84000, 208300, 278000, 124500, 197000, 164900, 263435, 62383, 402861, 154000, 196000, 155000, 240000, 147000, 86000, 297000, 275000, 168000, 175000, 337500, 185000, 155000, 60000, 108000, 157000, 82000, 178000, 154000, 255500, 128000, 335000, 181000, 248000, 110000, 212000, 88000, 263000, 147000, 119000], \"yaxis\": \"y\", \"type\": \"scatter\"}], \"name\": \"2009\"}, {\"data\": [{\"hoverlabel\": {\"namelength\": 0}, \"hovertemplate\": \"YrSold=2010<br>LotArea=%{x}<br>SalePrice=%{y}<br>Cluster=%{marker.color}\", \"legendgroup\": \"\", \"marker\": {\"color\": [2, 0, 1, 2, 1, 2, 1, 0, 1, 3, 0, 3, 0, 2, 2, 3, 2, 2, 2, 1, 0, 3, 3, 2, 2, 2, 2, 0, 0, 0, 2, 2, 2, 1, 2, 2, 0, 2, 2, 1, 2, 1, 1, 1, 2, 2, 1, 0, 1, 1, 0, 2, 0, 2, 2, 2, 0, 2, 2, 0, 2, 2, 2, 0, 2, 0, 3, 2, 0, 2, 3, 3, 2, 0, 2, 2, 2, 2, 2, 2, 2, 3, 2, 2, 3, 0, 1, 0, 2, 2, 0, 2, 1, 2, 3, 2, 1, 2, 0, 0, 1, 2, 0, 0, 1, 3, 2, 2, 2, 0, 3, 2, 1, 3, 0, 2, 2, 1, 0, 0, 1, 0, 0, 1, 0, 1, 2, 2, 3, 1, 2, 2, 2, 3, 2, 0, 1, 1, 1, 3, 1, 1, 3, 1, 0, 2, 3, 0, 3, 1, 2, 0, 2, 2, 2, 2, 2, 2, 1, 1, 2, 0, 1, 1, 3, 0, 0, 2, 0, 3, 1, 0, 1, 0], \"coloraxis\": \"coloraxis\", \"symbol\": \"circle\"}, \"mode\": \"markers\", \"name\": \"\", \"showlegend\": false, \"x\": [4608, 10603, 9206, 5790, 13517, 10200, 9548, 10402, 7500, 7630, 3182, 5600, 10635, 6897, 8712, 12180, 9320, 10625, 9600, 14000, 8400, 6820, 4426, 10778, 5436, 5000, 8212, 10159, 19900, 11478, 7200, 5868, 8246, 11616, 7407, 11241, 4403, 8960, 8800, 8400, 26142, 10421, 53504, 10142, 10800, 8450, 12256, 13175, 9042, 8640, 57200, 7200, 10593, 9717, 6342, 10300, 5389, 8472, 9571, 11394, 7740, 7500, 10552, 16492, 8816, 12137, 11340, 8712, 7658, 9069, 1974, 4043, 7922, 6371, 8450, 10500, 9672, 10650, 8760, 7207, 8521, 2572, 9825, 9360, 3182, 11423, 11316, 13214, 10900, 9364, 10420, 7200, 24090, 7500, 1491, 8800, 9400, 23595, 11160, 8773, 9453, 19138, 9196, 10171, 11764, 8930, 11341, 9819, 5500, 12134, 7892, 12160, 11218, 2628, 6762, 8400, 5350, 8880, 10625, 9000, 8741, 12328, 9638, 11275, 9790, 7500, 11100, 8562, 2280, 9505, 11782, 8520, 6858, 8012, 7800, 9830, 8750, 9938, 16770, 7175, 12376, 14720, 4920, 7750, 11751, 12537, 2117, 10475, 11625, 12003, 8520, 9300, 14112, 10000, 9600, 6979, 8546, 7500, 11600, 7700, 9920, 17500, 14191, 14774, 1680, 12919, 15602, 17503, 31770, 2592, 10186, 12182, 12552, 7819], \"xaxis\": \"x\", \"y\": [80000, 205000, 178000, 107400, 130500, 144900, 237000, 198900, 216000, 140000, 192000, 55000, 232000, 127000, 102776, 80000, 128950, 83000, 128000, 328000, 213000, 212000, 143000, 136500, 125500, 127000, 58500, 395192, 180000, 306000, 134800, 129000, 154000, 158900, 149700, 149000, 222000, 115000, 96500, 171000, 157900, 196500, 538000, 233000, 139000, 142000, 325000, 210000, 266500, 215200, 160000, 119000, 260400, 142125, 94000, 140000, 236500, 110000, 129000, 394432, 125500, 133000, 165500, 190000, 155000, 224900, 122500, 55993, 319900, 147000, 83500, 127500, 109000, 224000, 138500, 115000, 152000, 128200, 148000, 116500, 125000, 155000, 100000, 197500, 151000, 272000, 214900, 378500, 161750, 158000, 186000, 107500, 244400, 68400, 75500, 137500, 139000, 260000, 244000, 185500, 194500, 141000, 201000, 214000, 290000, 112000, 121500, 122000, 130000, 164000, 99500, 142000, 189000, 175500, 206000, 145000, 76500, 205000, 170000, 262500, 113000, 169900, 169000, 242000, 143000, 189000, 84900, 144500, 146000, 222500, 148000, 166000, 128000, 143000, 132000, 162000, 200500, 236000, 221000, 125000, 320000, 410000, 213500, 180000, 190000, 149900, 177500, 245350, 131500, 269500, 105900, 167500, 180500, 160000, 153000, 144000, 140000, 154000, 154300, 155000, 128000, 335000, 202900, 333168, 88000, 611657, 289000, 97500, 215000, 85000, 190000, 220000, 254900, 107000], \"yaxis\": \"y\", \"type\": \"scatter\"}], \"name\": \"2010\"}]);\n",
              "                        }).then(function(){\n",
              "                            \n",
              "var gd = document.getElementById('09ad6733-8b09-41e5-a34e-d24a44e41d06');\n",
              "var x = new MutationObserver(function (mutations, observer) {{\n",
              "        var display = window.getComputedStyle(gd).display;\n",
              "        if (!display || display === 'none') {{\n",
              "            console.log([gd, 'removed!']);\n",
              "            Plotly.purge(gd);\n",
              "            observer.disconnect();\n",
              "        }}\n",
              "}});\n",
              "\n",
              "// Listen for the removal of the full notebook cells\n",
              "var notebookContainer = gd.closest('#notebook-container');\n",
              "if (notebookContainer) {{\n",
              "    x.observe(notebookContainer, {childList: true});\n",
              "}}\n",
              "\n",
              "// Listen for the clearing of the current output cell\n",
              "var outputEl = gd.closest('.output');\n",
              "if (outputEl) {{\n",
              "    x.observe(outputEl, {childList: true});\n",
              "}}\n",
              "\n",
              "                        })\n",
              "                };\n",
              "                \n",
              "            </script>\n",
              "        </div>\n",
              "</body>\n",
              "</html>"
            ]
          },
          "metadata": {
            "tags": []
          }
        }
      ]
    }
  ]
}