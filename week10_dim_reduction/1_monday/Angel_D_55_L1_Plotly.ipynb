{
  "nbformat": 4,
  "nbformat_minor": 0,
  "metadata": {
    "kernelspec": {
      "display_name": "Python 3",
      "language": "python",
      "name": "python3"
    },
    "language_info": {
      "codemirror_mode": {
        "name": "ipython",
        "version": 3
      },
      "file_extension": ".py",
      "mimetype": "text/x-python",
      "name": "python",
      "nbconvert_exporter": "python",
      "pygments_lexer": "ipython3",
      "version": "3.7.2"
    },
    "colab": {
      "name": "Angel_D_55_L1_Plotly.ipynb",
      "provenance": [],
      "collapsed_sections": []
    },
    "widgets": {
      "application/vnd.jupyter.widget-state+json": {
        "62be99d1163c43d5ab210b59003140f0": {
          "model_module": "@jupyter-widgets/controls",
          "model_name": "VBoxModel",
          "state": {
            "_view_name": "VBoxView",
            "_dom_classes": [
              "widget-interact"
            ],
            "_model_name": "VBoxModel",
            "_view_module": "@jupyter-widgets/controls",
            "_model_module_version": "1.5.0",
            "_view_count": null,
            "_view_module_version": "1.5.0",
            "box_style": "",
            "layout": "IPY_MODEL_8aa1013b8f104054bc9d281a4eeed9ec",
            "_model_module": "@jupyter-widgets/controls",
            "children": [
              "IPY_MODEL_af19c325e8f04e7e85d158156acc475d",
              "IPY_MODEL_2fc8c60be641425d9b53dfa8ae3cab5b",
              "IPY_MODEL_ea89cbfa646c49bca57221680d0804fe"
            ]
          }
        },
        "8aa1013b8f104054bc9d281a4eeed9ec": {
          "model_module": "@jupyter-widgets/base",
          "model_name": "LayoutModel",
          "state": {
            "_view_name": "LayoutView",
            "grid_template_rows": null,
            "right": null,
            "justify_content": null,
            "_view_module": "@jupyter-widgets/base",
            "overflow": null,
            "_model_module_version": "1.2.0",
            "_view_count": null,
            "flex_flow": null,
            "width": null,
            "min_width": null,
            "border": null,
            "align_items": null,
            "bottom": null,
            "_model_module": "@jupyter-widgets/base",
            "top": null,
            "grid_column": null,
            "overflow_y": null,
            "overflow_x": null,
            "grid_auto_flow": null,
            "grid_area": null,
            "grid_template_columns": null,
            "flex": null,
            "_model_name": "LayoutModel",
            "justify_items": null,
            "grid_row": null,
            "max_height": null,
            "align_content": null,
            "visibility": null,
            "align_self": null,
            "height": null,
            "min_height": null,
            "padding": null,
            "grid_auto_rows": null,
            "grid_gap": null,
            "max_width": null,
            "order": null,
            "_view_module_version": "1.2.0",
            "grid_template_areas": null,
            "object_position": null,
            "object_fit": null,
            "grid_auto_columns": null,
            "margin": null,
            "display": null,
            "left": null
          }
        },
        "af19c325e8f04e7e85d158156acc475d": {
          "model_module": "@jupyter-widgets/controls",
          "model_name": "DropdownModel",
          "state": {
            "_options_labels": [
              "LotArea",
              "OverallQual",
              "OverallCond",
              "SalePrice"
            ],
            "_view_name": "DropdownView",
            "style": "IPY_MODEL_cedb1086e4ae45aa9cf5e1f28dc114c4",
            "_dom_classes": [],
            "description": "Metric",
            "_model_name": "DropdownModel",
            "index": 0,
            "_view_module": "@jupyter-widgets/controls",
            "_model_module_version": "1.5.0",
            "_view_count": null,
            "disabled": false,
            "_view_module_version": "1.5.0",
            "description_tooltip": null,
            "_model_module": "@jupyter-widgets/controls",
            "layout": "IPY_MODEL_f785da19a18a4d12b3d95ff97b87fc44"
          }
        },
        "2fc8c60be641425d9b53dfa8ae3cab5b": {
          "model_module": "@jupyter-widgets/controls",
          "model_name": "IntSliderModel",
          "state": {
            "_view_name": "IntSliderView",
            "style": "IPY_MODEL_eea53f139e904aa9b72d57ff6e08f01e",
            "_dom_classes": [],
            "description": "YearBuilt",
            "step": 1,
            "_model_name": "IntSliderModel",
            "orientation": "horizontal",
            "max": 2010,
            "_view_module": "@jupyter-widgets/controls",
            "_model_module_version": "1.5.0",
            "value": 1941,
            "_view_count": null,
            "disabled": false,
            "_view_module_version": "1.5.0",
            "min": 1872,
            "continuous_update": true,
            "readout_format": "d",
            "description_tooltip": null,
            "readout": true,
            "_model_module": "@jupyter-widgets/controls",
            "layout": "IPY_MODEL_6616fcb296894d96912eb4ad7d1f4a01"
          }
        },
        "ea89cbfa646c49bca57221680d0804fe": {
          "model_module": "@jupyter-widgets/output",
          "model_name": "OutputModel",
          "state": {
            "_view_name": "OutputView",
            "msg_id": "",
            "_dom_classes": [],
            "_model_name": "OutputModel",
            "outputs": [
              {
                "output_type": "display_data",
                "metadata": {
                  "tags": []
                },
                "text/html": "<html>\n<head><meta charset=\"utf-8\" /></head>\n<body>\n    <div>\n            <script src=\"https://cdnjs.cloudflare.com/ajax/libs/mathjax/2.7.5/MathJax.js?config=TeX-AMS-MML_SVG\"></script><script type=\"text/javascript\">if (window.MathJax) {MathJax.Hub.Config({SVG: {font: \"STIX-Web\"}});}</script>\n                <script type=\"text/javascript\">window.PlotlyConfig = {MathJaxConfig: 'local'};</script>\n        <script src=\"https://cdn.plot.ly/plotly-latest.min.js\"></script>    \n            <div id=\"354d96c2-594c-4b40-babf-afe2b7385361\" class=\"plotly-graph-div\" style=\"height:525px; width:100%;\"></div>\n            <script type=\"text/javascript\">\n                \n                    window.PLOTLYENV=window.PLOTLYENV || {};\n                    \n                if (document.getElementById(\"354d96c2-594c-4b40-babf-afe2b7385361\")) {\n                    Plotly.newPlot(\n                        '354d96c2-594c-4b40-babf-afe2b7385361',\n                        [{\"alignmentgroup\": \"True\", \"hoverlabel\": {\"namelength\": 0}, \"hovertemplate\": \"YrSold=2007<br>Cluster=%{x}<br>LotArea=%{y}\", \"legendgroup\": \"YrSold=2007\", \"marker\": {\"color\": \"#1F77B4\", \"line\": {\"color\": \"black\", \"width\": 1}}, \"name\": \"YrSold=2007\", \"offsetgroup\": \"YrSold=2007\", \"orientation\": \"v\", \"showlegend\": true, \"textposition\": \"auto\", \"type\": \"bar\", \"x\": [0, 2], \"xaxis\": \"x\", \"y\": [7128.0, 8212.5], \"yaxis\": \"y\"}, {\"alignmentgroup\": \"True\", \"hoverlabel\": {\"namelength\": 0}, \"hovertemplate\": \"YrSold=2009<br>Cluster=%{x}<br>LotArea=%{y}\", \"legendgroup\": \"YrSold=2009\", \"marker\": {\"color\": \"#FF7F0E\", \"line\": {\"color\": \"black\", \"width\": 1}}, \"name\": \"YrSold=2009\", \"offsetgroup\": \"YrSold=2009\", \"orientation\": \"v\", \"showlegend\": true, \"textposition\": \"auto\", \"type\": \"bar\", \"x\": [1, 2], \"xaxis\": \"x\", \"y\": [12000.0, 8686.0], \"yaxis\": \"y\"}, {\"alignmentgroup\": \"True\", \"hoverlabel\": {\"namelength\": 0}, \"hovertemplate\": \"YrSold=2010<br>Cluster=%{x}<br>LotArea=%{y}\", \"legendgroup\": \"YrSold=2010\", \"marker\": {\"color\": \"#2CA02C\", \"line\": {\"color\": \"black\", \"width\": 1}}, \"name\": \"YrSold=2010\", \"offsetgroup\": \"YrSold=2010\", \"orientation\": \"v\", \"showlegend\": true, \"textposition\": \"auto\", \"type\": \"bar\", \"x\": [1, 3], \"xaxis\": \"x\", \"y\": [9042.0, 12180.0], \"yaxis\": \"y\"}, {\"alignmentgroup\": \"True\", \"hoverlabel\": {\"namelength\": 0}, \"hovertemplate\": \"YrSold=2006<br>Cluster=%{x}<br>LotArea=%{y}\", \"legendgroup\": \"YrSold=2006\", \"marker\": {\"color\": \"#D62728\", \"line\": {\"color\": \"black\", \"width\": 1}}, \"name\": \"YrSold=2006\", \"offsetgroup\": \"YrSold=2006\", \"orientation\": \"v\", \"showlegend\": true, \"textposition\": \"auto\", \"type\": \"bar\", \"x\": [2], \"xaxis\": \"x\", \"y\": [7018.0], \"yaxis\": \"y\"}, {\"alignmentgroup\": \"True\", \"hoverlabel\": {\"namelength\": 0}, \"hovertemplate\": \"YrSold=2008<br>Cluster=%{x}<br>LotArea=%{y}\", \"legendgroup\": \"YrSold=2008\", \"marker\": {\"color\": \"#9467BD\", \"line\": {\"color\": \"black\", \"width\": 1}}, \"name\": \"YrSold=2008\", \"offsetgroup\": \"YrSold=2008\", \"orientation\": \"v\", \"showlegend\": true, \"textposition\": \"auto\", \"type\": \"bar\", \"x\": [2], \"xaxis\": \"x\", \"y\": [9084.0], \"yaxis\": \"y\"}],\n                        {\"barmode\": \"group\", \"legend\": {\"tracegroupgap\": 0}, \"template\": {\"data\": {\"scatter\": [{\"type\": \"scatter\"}]}}, \"title\": {\"text\": \"Avg. LotArea by Cluster and Year Sold for Properties Built in 1941\"}, \"xaxis\": {\"anchor\": \"y\", \"domain\": [0.0, 1.0], \"title\": {\"text\": \"Cluster\"}}, \"yaxis\": {\"anchor\": \"x\", \"domain\": [0.0, 1.0], \"title\": {\"text\": \"LotArea\"}}},\n                        {\"responsive\": true}\n                    ).then(function(){\n                            \nvar gd = document.getElementById('354d96c2-594c-4b40-babf-afe2b7385361');\nvar x = new MutationObserver(function (mutations, observer) {{\n        var display = window.getComputedStyle(gd).display;\n        if (!display || display === 'none') {{\n            console.log([gd, 'removed!']);\n            Plotly.purge(gd);\n            observer.disconnect();\n        }}\n}});\n\n// Listen for the removal of the full notebook cells\nvar notebookContainer = gd.closest('#notebook-container');\nif (notebookContainer) {{\n    x.observe(notebookContainer, {childList: true});\n}}\n\n// Listen for the clearing of the current output cell\nvar outputEl = gd.closest('.output');\nif (outputEl) {{\n    x.observe(outputEl, {childList: true});\n}}\n\n                        })\n                };\n                \n            </script>\n        </div>\n</body>\n</html>"
              }
            ],
            "_view_module": "@jupyter-widgets/output",
            "_model_module_version": "1.0.0",
            "_view_count": null,
            "_view_module_version": "1.0.0",
            "layout": "IPY_MODEL_470507be8217488cb059ac9c0fedfc07",
            "_model_module": "@jupyter-widgets/output"
          }
        },
        "cedb1086e4ae45aa9cf5e1f28dc114c4": {
          "model_module": "@jupyter-widgets/controls",
          "model_name": "DescriptionStyleModel",
          "state": {
            "_view_name": "StyleView",
            "_model_name": "DescriptionStyleModel",
            "description_width": "",
            "_view_module": "@jupyter-widgets/base",
            "_model_module_version": "1.5.0",
            "_view_count": null,
            "_view_module_version": "1.2.0",
            "_model_module": "@jupyter-widgets/controls"
          }
        },
        "f785da19a18a4d12b3d95ff97b87fc44": {
          "model_module": "@jupyter-widgets/base",
          "model_name": "LayoutModel",
          "state": {
            "_view_name": "LayoutView",
            "grid_template_rows": null,
            "right": null,
            "justify_content": null,
            "_view_module": "@jupyter-widgets/base",
            "overflow": null,
            "_model_module_version": "1.2.0",
            "_view_count": null,
            "flex_flow": null,
            "width": null,
            "min_width": null,
            "border": null,
            "align_items": null,
            "bottom": null,
            "_model_module": "@jupyter-widgets/base",
            "top": null,
            "grid_column": null,
            "overflow_y": null,
            "overflow_x": null,
            "grid_auto_flow": null,
            "grid_area": null,
            "grid_template_columns": null,
            "flex": null,
            "_model_name": "LayoutModel",
            "justify_items": null,
            "grid_row": null,
            "max_height": null,
            "align_content": null,
            "visibility": null,
            "align_self": null,
            "height": null,
            "min_height": null,
            "padding": null,
            "grid_auto_rows": null,
            "grid_gap": null,
            "max_width": null,
            "order": null,
            "_view_module_version": "1.2.0",
            "grid_template_areas": null,
            "object_position": null,
            "object_fit": null,
            "grid_auto_columns": null,
            "margin": null,
            "display": null,
            "left": null
          }
        },
        "eea53f139e904aa9b72d57ff6e08f01e": {
          "model_module": "@jupyter-widgets/controls",
          "model_name": "SliderStyleModel",
          "state": {
            "_view_name": "StyleView",
            "handle_color": null,
            "_model_name": "SliderStyleModel",
            "description_width": "",
            "_view_module": "@jupyter-widgets/base",
            "_model_module_version": "1.5.0",
            "_view_count": null,
            "_view_module_version": "1.2.0",
            "_model_module": "@jupyter-widgets/controls"
          }
        },
        "6616fcb296894d96912eb4ad7d1f4a01": {
          "model_module": "@jupyter-widgets/base",
          "model_name": "LayoutModel",
          "state": {
            "_view_name": "LayoutView",
            "grid_template_rows": null,
            "right": null,
            "justify_content": null,
            "_view_module": "@jupyter-widgets/base",
            "overflow": null,
            "_model_module_version": "1.2.0",
            "_view_count": null,
            "flex_flow": null,
            "width": null,
            "min_width": null,
            "border": null,
            "align_items": null,
            "bottom": null,
            "_model_module": "@jupyter-widgets/base",
            "top": null,
            "grid_column": null,
            "overflow_y": null,
            "overflow_x": null,
            "grid_auto_flow": null,
            "grid_area": null,
            "grid_template_columns": null,
            "flex": null,
            "_model_name": "LayoutModel",
            "justify_items": null,
            "grid_row": null,
            "max_height": null,
            "align_content": null,
            "visibility": null,
            "align_self": null,
            "height": null,
            "min_height": null,
            "padding": null,
            "grid_auto_rows": null,
            "grid_gap": null,
            "max_width": null,
            "order": null,
            "_view_module_version": "1.2.0",
            "grid_template_areas": null,
            "object_position": null,
            "object_fit": null,
            "grid_auto_columns": null,
            "margin": null,
            "display": null,
            "left": null
          }
        },
        "470507be8217488cb059ac9c0fedfc07": {
          "model_module": "@jupyter-widgets/base",
          "model_name": "LayoutModel",
          "state": {
            "_view_name": "LayoutView",
            "grid_template_rows": null,
            "right": null,
            "justify_content": null,
            "_view_module": "@jupyter-widgets/base",
            "overflow": null,
            "_model_module_version": "1.2.0",
            "_view_count": null,
            "flex_flow": null,
            "width": null,
            "min_width": null,
            "border": null,
            "align_items": null,
            "bottom": null,
            "_model_module": "@jupyter-widgets/base",
            "top": null,
            "grid_column": null,
            "overflow_y": null,
            "overflow_x": null,
            "grid_auto_flow": null,
            "grid_area": null,
            "grid_template_columns": null,
            "flex": null,
            "_model_name": "LayoutModel",
            "justify_items": null,
            "grid_row": null,
            "max_height": null,
            "align_content": null,
            "visibility": null,
            "align_self": null,
            "height": null,
            "min_height": null,
            "padding": null,
            "grid_auto_rows": null,
            "grid_gap": null,
            "max_width": null,
            "order": null,
            "_view_module_version": "1.2.0",
            "grid_template_areas": null,
            "object_position": null,
            "object_fit": null,
            "grid_auto_columns": null,
            "margin": null,
            "display": null,
            "left": null
          }
        },
        "708858de2d16422897d212fcf41dcfce": {
          "model_module": "@jupyter-widgets/controls",
          "model_name": "VBoxModel",
          "state": {
            "_view_name": "VBoxView",
            "_dom_classes": [
              "widget-interact"
            ],
            "_model_name": "VBoxModel",
            "_view_module": "@jupyter-widgets/controls",
            "_model_module_version": "1.5.0",
            "_view_count": null,
            "_view_module_version": "1.5.0",
            "box_style": "",
            "layout": "IPY_MODEL_c2f34e86e9904e26b8a2e5d4e9a0a193",
            "_model_module": "@jupyter-widgets/controls",
            "children": [
              "IPY_MODEL_165925087d484f4492a0db909601d26c",
              "IPY_MODEL_37c6aee35e0348f2be5ccbb2717791ce",
              "IPY_MODEL_be36f48a7ceb4ab88c51227ef6411a73"
            ]
          }
        },
        "c2f34e86e9904e26b8a2e5d4e9a0a193": {
          "model_module": "@jupyter-widgets/base",
          "model_name": "LayoutModel",
          "state": {
            "_view_name": "LayoutView",
            "grid_template_rows": null,
            "right": null,
            "justify_content": null,
            "_view_module": "@jupyter-widgets/base",
            "overflow": null,
            "_model_module_version": "1.2.0",
            "_view_count": null,
            "flex_flow": null,
            "width": null,
            "min_width": null,
            "border": null,
            "align_items": null,
            "bottom": null,
            "_model_module": "@jupyter-widgets/base",
            "top": null,
            "grid_column": null,
            "overflow_y": null,
            "overflow_x": null,
            "grid_auto_flow": null,
            "grid_area": null,
            "grid_template_columns": null,
            "flex": null,
            "_model_name": "LayoutModel",
            "justify_items": null,
            "grid_row": null,
            "max_height": null,
            "align_content": null,
            "visibility": null,
            "align_self": null,
            "height": null,
            "min_height": null,
            "padding": null,
            "grid_auto_rows": null,
            "grid_gap": null,
            "max_width": null,
            "order": null,
            "_view_module_version": "1.2.0",
            "grid_template_areas": null,
            "object_position": null,
            "object_fit": null,
            "grid_auto_columns": null,
            "margin": null,
            "display": null,
            "left": null
          }
        },
        "165925087d484f4492a0db909601d26c": {
          "model_module": "@jupyter-widgets/controls",
          "model_name": "DropdownModel",
          "state": {
            "_options_labels": [
              "LotArea",
              "OverallQual",
              "OverallCond",
              "SalePrice"
            ],
            "_view_name": "DropdownView",
            "style": "IPY_MODEL_ead214009b2f4531814309e33c23dab4",
            "_dom_classes": [],
            "description": "Metric",
            "_model_name": "DropdownModel",
            "index": 0,
            "_view_module": "@jupyter-widgets/controls",
            "_model_module_version": "1.5.0",
            "_view_count": null,
            "disabled": false,
            "_view_module_version": "1.5.0",
            "description_tooltip": null,
            "_model_module": "@jupyter-widgets/controls",
            "layout": "IPY_MODEL_f8fc51cdcfe946b39ce52c2ab0700f16"
          }
        },
        "37c6aee35e0348f2be5ccbb2717791ce": {
          "model_module": "@jupyter-widgets/controls",
          "model_name": "IntSliderModel",
          "state": {
            "_view_name": "IntSliderView",
            "style": "IPY_MODEL_3a14dc6f82a04f9dba793e4c95bc1917",
            "_dom_classes": [],
            "description": "YearBuilt",
            "step": 1,
            "_model_name": "IntSliderModel",
            "orientation": "horizontal",
            "max": 2010,
            "_view_module": "@jupyter-widgets/controls",
            "_model_module_version": "1.5.0",
            "value": 1941,
            "_view_count": null,
            "disabled": false,
            "_view_module_version": "1.5.0",
            "min": 1872,
            "continuous_update": true,
            "readout_format": "d",
            "description_tooltip": null,
            "readout": true,
            "_model_module": "@jupyter-widgets/controls",
            "layout": "IPY_MODEL_bb27c12b81fb4ff0ad8dd7de33a76b51"
          }
        },
        "be36f48a7ceb4ab88c51227ef6411a73": {
          "model_module": "@jupyter-widgets/output",
          "model_name": "OutputModel",
          "state": {
            "_view_name": "OutputView",
            "msg_id": "",
            "_dom_classes": [],
            "_model_name": "OutputModel",
            "outputs": [
              {
                "output_type": "display_data",
                "metadata": {
                  "tags": []
                },
                "text/html": "<html>\n<head><meta charset=\"utf-8\" /></head>\n<body>\n    <div>\n            <script src=\"https://cdnjs.cloudflare.com/ajax/libs/mathjax/2.7.5/MathJax.js?config=TeX-AMS-MML_SVG\"></script><script type=\"text/javascript\">if (window.MathJax) {MathJax.Hub.Config({SVG: {font: \"STIX-Web\"}});}</script>\n                <script type=\"text/javascript\">window.PlotlyConfig = {MathJaxConfig: 'local'};</script>\n        <script src=\"https://cdn.plot.ly/plotly-latest.min.js\"></script>    \n            <div id=\"de1928f5-ea42-44a0-a372-b2abc798731b\" class=\"plotly-graph-div\" style=\"height:525px; width:100%;\"></div>\n            <script type=\"text/javascript\">\n                \n                    window.PLOTLYENV=window.PLOTLYENV || {};\n                    \n                if (document.getElementById(\"de1928f5-ea42-44a0-a372-b2abc798731b\")) {\n                    Plotly.newPlot(\n                        'de1928f5-ea42-44a0-a372-b2abc798731b',\n                        [{\"hoverlabel\": {\"namelength\": 0}, \"hovertemplate\": \"YearBuilt=2003<br>LotArea=%{x}<br>SalePrice=%{y}<br>Cluster=%{marker.color}\", \"legendgroup\": \"\", \"marker\": {\"color\": [1, 1, 0, 1, 1, 1, 2, 0, 1, 1, 0, 0, 0, 3, 1, 1, 0, 1, 1, 0, 3, 1, 3, 0, 1, 1, 1, 1, 1, 3, 0, 1, 1, 0, 3, 0, 3, 1, 0, 1, 2, 3, 0, 3], \"coloraxis\": \"coloraxis\", \"line\": {\"color\": \"black\", \"width\": 1}, \"symbol\": \"circle\"}, \"mode\": \"markers\", \"name\": \"\", \"showlegend\": false, \"type\": \"scatter\", \"x\": [8450, 12822, 10665, 9375, 13688, 11426, 8546, 13472, 11317, 8791, 9196, 12378, 10655, 2448, 7301, 8200, 11846, 9375, 10625, 3196, 4435, 12244, 12677, 9590, 7750, 53504, 7226, 12394, 9548, 4435, 3196, 7875, 11999, 8450, 2268, 9135, 2628, 8158, 3136, 6931, 13695, 4435, 10635, 4435], \"xaxis\": \"x\", \"y\": [208500, 239686, 226000, 250000, 412500, 200000, 140000, 386250, 180000, 207500, 201000, 360000, 284000, 154000, 198500, 219500, 374000, 263000, 284000, 234000, 140000, 305000, 274000, 187500, 162000, 538000, 183000, 225000, 237000, 131500, 215000, 180000, 285000, 185000, 173000, 200000, 175500, 224900, 171750, 165400, 155000, 144000, 232000, 136500], \"yaxis\": \"y\"}],\n                        {\"barmode\": \"group\", \"coloraxis\": {\"colorbar\": {\"title\": {\"text\": \"Cluster\"}}, \"colorscale\": [[0.0, \"#440154\"], [0.1111111111111111, \"#482878\"], [0.2222222222222222, \"#3e4989\"], [0.3333333333333333, \"#31688e\"], [0.4444444444444444, \"#26828e\"], [0.5555555555555556, \"#1f9e89\"], [0.6666666666666666, \"#35b779\"], [0.7777777777777778, \"#6ece58\"], [0.8888888888888888, \"#b5de2b\"], [1.0, \"#fde725\"]]}, \"legend\": {\"tracegroupgap\": 0}, \"sliders\": [{\"active\": 0, \"currentvalue\": {\"prefix\": \"YearBuilt=\"}, \"len\": 0.9, \"pad\": {\"b\": 10, \"t\": 60}, \"steps\": [{\"args\": [[\"2003\"], {\"frame\": {\"duration\": 0, \"redraw\": false}, \"fromcurrent\": true, \"mode\": \"immediate\", \"transition\": {\"duration\": 0, \"easing\": \"linear\"}}], \"label\": \"2003\", \"method\": \"animate\"}, {\"args\": [[\"1976\"], {\"frame\": {\"duration\": 0, \"redraw\": false}, \"fromcurrent\": true, \"mode\": \"immediate\", \"transition\": {\"duration\": 0, \"easing\": \"linear\"}}], \"label\": \"1976\", \"method\": \"animate\"}, {\"args\": [[\"2001\"], {\"frame\": {\"duration\": 0, \"redraw\": false}, \"fromcurrent\": true, \"mode\": \"immediate\", \"transition\": {\"duration\": 0, \"easing\": \"linear\"}}], \"label\": \"2001\", \"method\": \"animate\"}, {\"args\": [[\"1915\"], {\"frame\": {\"duration\": 0, \"redraw\": false}, \"fromcurrent\": true, \"mode\": \"immediate\", \"transition\": {\"duration\": 0, \"easing\": \"linear\"}}], \"label\": \"1915\", \"method\": \"animate\"}, {\"args\": [[\"2000\"], {\"frame\": {\"duration\": 0, \"redraw\": false}, \"fromcurrent\": true, \"mode\": \"immediate\", \"transition\": {\"duration\": 0, \"easing\": \"linear\"}}], \"label\": \"2000\", \"method\": \"animate\"}, {\"args\": [[\"1993\"], {\"frame\": {\"duration\": 0, \"redraw\": false}, \"fromcurrent\": true, \"mode\": \"immediate\", \"transition\": {\"duration\": 0, \"easing\": \"linear\"}}], \"label\": \"1993\", \"method\": \"animate\"}, {\"args\": [[\"2004\"], {\"frame\": {\"duration\": 0, \"redraw\": false}, \"fromcurrent\": true, \"mode\": \"immediate\", \"transition\": {\"duration\": 0, \"easing\": \"linear\"}}], \"label\": \"2004\", \"method\": \"animate\"}, {\"args\": [[\"1973\"], {\"frame\": {\"duration\": 0, \"redraw\": false}, \"fromcurrent\": true, \"mode\": \"immediate\", \"transition\": {\"duration\": 0, \"easing\": \"linear\"}}], \"label\": \"1973\", \"method\": \"animate\"}, {\"args\": [[\"1931\"], {\"frame\": {\"duration\": 0, \"redraw\": false}, \"fromcurrent\": true, \"mode\": \"immediate\", \"transition\": {\"duration\": 0, \"easing\": \"linear\"}}], \"label\": \"1931\", \"method\": \"animate\"}, {\"args\": [[\"1939\"], {\"frame\": {\"duration\": 0, \"redraw\": false}, \"fromcurrent\": true, \"mode\": \"immediate\", \"transition\": {\"duration\": 0, \"easing\": \"linear\"}}], \"label\": \"1939\", \"method\": \"animate\"}, {\"args\": [[\"1965\"], {\"frame\": {\"duration\": 0, \"redraw\": false}, \"fromcurrent\": true, \"mode\": \"immediate\", \"transition\": {\"duration\": 0, \"easing\": \"linear\"}}], \"label\": \"1965\", \"method\": \"animate\"}, {\"args\": [[\"2005\"], {\"frame\": {\"duration\": 0, \"redraw\": false}, \"fromcurrent\": true, \"mode\": \"immediate\", \"transition\": {\"duration\": 0, \"easing\": \"linear\"}}], \"label\": \"2005\", \"method\": \"animate\"}, {\"args\": [[\"1962\"], {\"frame\": {\"duration\": 0, \"redraw\": false}, \"fromcurrent\": true, \"mode\": \"immediate\", \"transition\": {\"duration\": 0, \"easing\": \"linear\"}}], \"label\": \"1962\", \"method\": \"animate\"}, {\"args\": [[\"2006\"], {\"frame\": {\"duration\": 0, \"redraw\": false}, \"fromcurrent\": true, \"mode\": \"immediate\", \"transition\": {\"duration\": 0, \"easing\": \"linear\"}}], \"label\": \"2006\", \"method\": \"animate\"}, {\"args\": [[\"1960\"], {\"frame\": {\"duration\": 0, \"redraw\": false}, \"fromcurrent\": true, \"mode\": \"immediate\", \"transition\": {\"duration\": 0, \"easing\": \"linear\"}}], \"label\": \"1960\", \"method\": \"animate\"}, {\"args\": [[\"1929\"], {\"frame\": {\"duration\": 0, \"redraw\": false}, \"fromcurrent\": true, \"mode\": \"immediate\", \"transition\": {\"duration\": 0, \"easing\": \"linear\"}}], \"label\": \"1929\", \"method\": \"animate\"}, {\"args\": [[\"1970\"], {\"frame\": {\"duration\": 0, \"redraw\": false}, \"fromcurrent\": true, \"mode\": \"immediate\", \"transition\": {\"duration\": 0, \"easing\": \"linear\"}}], \"label\": \"1970\", \"method\": \"animate\"}, {\"args\": [[\"1967\"], {\"frame\": {\"duration\": 0, \"redraw\": false}, \"fromcurrent\": true, \"mode\": \"immediate\", \"transition\": {\"duration\": 0, \"easing\": \"linear\"}}], \"label\": \"1967\", \"method\": \"animate\"}, {\"args\": [[\"1958\"], {\"frame\": {\"duration\": 0, \"redraw\": false}, \"fromcurrent\": true, \"mode\": \"immediate\", \"transition\": {\"duration\": 0, \"easing\": \"linear\"}}], \"label\": \"1958\", \"method\": \"animate\"}, {\"args\": [[\"1930\"], {\"frame\": {\"duration\": 0, \"redraw\": false}, \"fromcurrent\": true, \"mode\": \"immediate\", \"transition\": {\"duration\": 0, \"easing\": \"linear\"}}], \"label\": \"1930\", \"method\": \"animate\"}, {\"args\": [[\"2002\"], {\"frame\": {\"duration\": 0, \"redraw\": false}, \"fromcurrent\": true, \"mode\": \"immediate\", \"transition\": {\"duration\": 0, \"easing\": \"linear\"}}], \"label\": \"2002\", \"method\": \"animate\"}, {\"args\": [[\"1968\"], {\"frame\": {\"duration\": 0, \"redraw\": false}, \"fromcurrent\": true, \"mode\": \"immediate\", \"transition\": {\"duration\": 0, \"easing\": \"linear\"}}], \"label\": \"1968\", \"method\": \"animate\"}, {\"args\": [[\"2007\"], {\"frame\": {\"duration\": 0, \"redraw\": false}, \"fromcurrent\": true, \"mode\": \"immediate\", \"transition\": {\"duration\": 0, \"easing\": \"linear\"}}], \"label\": \"2007\", \"method\": \"animate\"}, {\"args\": [[\"1951\"], {\"frame\": {\"duration\": 0, \"redraw\": false}, \"fromcurrent\": true, \"mode\": \"immediate\", \"transition\": {\"duration\": 0, \"easing\": \"linear\"}}], \"label\": \"1951\", \"method\": \"animate\"}, {\"args\": [[\"1957\"], {\"frame\": {\"duration\": 0, \"redraw\": false}, \"fromcurrent\": true, \"mode\": \"immediate\", \"transition\": {\"duration\": 0, \"easing\": \"linear\"}}], \"label\": \"1957\", \"method\": \"animate\"}, {\"args\": [[\"1927\"], {\"frame\": {\"duration\": 0, \"redraw\": false}, \"fromcurrent\": true, \"mode\": \"immediate\", \"transition\": {\"duration\": 0, \"easing\": \"linear\"}}], \"label\": \"1927\", \"method\": \"animate\"}, {\"args\": [[\"1920\"], {\"frame\": {\"duration\": 0, \"redraw\": false}, \"fromcurrent\": true, \"mode\": \"immediate\", \"transition\": {\"duration\": 0, \"easing\": \"linear\"}}], \"label\": \"1920\", \"method\": \"animate\"}, {\"args\": [[\"1966\"], {\"frame\": {\"duration\": 0, \"redraw\": false}, \"fromcurrent\": true, \"mode\": \"immediate\", \"transition\": {\"duration\": 0, \"easing\": \"linear\"}}], \"label\": \"1966\", \"method\": \"animate\"}, {\"args\": [[\"1959\"], {\"frame\": {\"duration\": 0, \"redraw\": false}, \"fromcurrent\": true, \"mode\": \"immediate\", \"transition\": {\"duration\": 0, \"easing\": \"linear\"}}], \"label\": \"1959\", \"method\": \"animate\"}, {\"args\": [[\"1994\"], {\"frame\": {\"duration\": 0, \"redraw\": false}, \"fromcurrent\": true, \"mode\": \"immediate\", \"transition\": {\"duration\": 0, \"easing\": \"linear\"}}], \"label\": \"1994\", \"method\": \"animate\"}, {\"args\": [[\"1954\"], {\"frame\": {\"duration\": 0, \"redraw\": false}, \"fromcurrent\": true, \"mode\": \"immediate\", \"transition\": {\"duration\": 0, \"easing\": \"linear\"}}], \"label\": \"1954\", \"method\": \"animate\"}, {\"args\": [[\"1953\"], {\"frame\": {\"duration\": 0, \"redraw\": false}, \"fromcurrent\": true, \"mode\": \"immediate\", \"transition\": {\"duration\": 0, \"easing\": \"linear\"}}], \"label\": \"1953\", \"method\": \"animate\"}, {\"args\": [[\"1955\"], {\"frame\": {\"duration\": 0, \"redraw\": false}, \"fromcurrent\": true, \"mode\": \"immediate\", \"transition\": {\"duration\": 0, \"easing\": \"linear\"}}], \"label\": \"1955\", \"method\": \"animate\"}, {\"args\": [[\"1983\"], {\"frame\": {\"duration\": 0, \"redraw\": false}, \"fromcurrent\": true, \"mode\": \"immediate\", \"transition\": {\"duration\": 0, \"easing\": \"linear\"}}], \"label\": \"1983\", \"method\": \"animate\"}, {\"args\": [[\"1975\"], {\"frame\": {\"duration\": 0, \"redraw\": false}, \"fromcurrent\": true, \"mode\": \"immediate\", \"transition\": {\"duration\": 0, \"easing\": \"linear\"}}], \"label\": \"1975\", \"method\": \"animate\"}, {\"args\": [[\"1997\"], {\"frame\": {\"duration\": 0, \"redraw\": false}, \"fromcurrent\": true, \"mode\": \"immediate\", \"transition\": {\"duration\": 0, \"easing\": \"linear\"}}], \"label\": \"1997\", \"method\": \"animate\"}, {\"args\": [[\"1934\"], {\"frame\": {\"duration\": 0, \"redraw\": false}, \"fromcurrent\": true, \"mode\": \"immediate\", \"transition\": {\"duration\": 0, \"easing\": \"linear\"}}], \"label\": \"1934\", \"method\": \"animate\"}, {\"args\": [[\"1963\"], {\"frame\": {\"duration\": 0, \"redraw\": false}, \"fromcurrent\": true, \"mode\": \"immediate\", \"transition\": {\"duration\": 0, \"easing\": \"linear\"}}], \"label\": \"1963\", \"method\": \"animate\"}, {\"args\": [[\"1981\"], {\"frame\": {\"duration\": 0, \"redraw\": false}, \"fromcurrent\": true, \"mode\": \"immediate\", \"transition\": {\"duration\": 0, \"easing\": \"linear\"}}], \"label\": \"1981\", \"method\": \"animate\"}, {\"args\": [[\"1964\"], {\"frame\": {\"duration\": 0, \"redraw\": false}, \"fromcurrent\": true, \"mode\": \"immediate\", \"transition\": {\"duration\": 0, \"easing\": \"linear\"}}], \"label\": \"1964\", \"method\": \"animate\"}, {\"args\": [[\"1999\"], {\"frame\": {\"duration\": 0, \"redraw\": false}, \"fromcurrent\": true, \"mode\": \"immediate\", \"transition\": {\"duration\": 0, \"easing\": \"linear\"}}], \"label\": \"1999\", \"method\": \"animate\"}, {\"args\": [[\"1972\"], {\"frame\": {\"duration\": 0, \"redraw\": false}, \"fromcurrent\": true, \"mode\": \"immediate\", \"transition\": {\"duration\": 0, \"easing\": \"linear\"}}], \"label\": \"1972\", \"method\": \"animate\"}, {\"args\": [[\"1921\"], {\"frame\": {\"duration\": 0, \"redraw\": false}, \"fromcurrent\": true, \"mode\": \"immediate\", \"transition\": {\"duration\": 0, \"easing\": \"linear\"}}], \"label\": \"1921\", \"method\": \"animate\"}, {\"args\": [[\"1945\"], {\"frame\": {\"duration\": 0, \"redraw\": false}, \"fromcurrent\": true, \"mode\": \"immediate\", \"transition\": {\"duration\": 0, \"easing\": \"linear\"}}], \"label\": \"1945\", \"method\": \"animate\"}, {\"args\": [[\"1982\"], {\"frame\": {\"duration\": 0, \"redraw\": false}, \"fromcurrent\": true, \"mode\": \"immediate\", \"transition\": {\"duration\": 0, \"easing\": \"linear\"}}], \"label\": \"1982\", \"method\": \"animate\"}, {\"args\": [[\"1998\"], {\"frame\": {\"duration\": 0, \"redraw\": false}, \"fromcurrent\": true, \"mode\": \"immediate\", \"transition\": {\"duration\": 0, \"easing\": \"linear\"}}], \"label\": \"1998\", \"method\": \"animate\"}, {\"args\": [[\"1956\"], {\"frame\": {\"duration\": 0, \"redraw\": false}, \"fromcurrent\": true, \"mode\": \"immediate\", \"transition\": {\"duration\": 0, \"easing\": \"linear\"}}], \"label\": \"1956\", \"method\": \"animate\"}, {\"args\": [[\"1948\"], {\"frame\": {\"duration\": 0, \"redraw\": false}, \"fromcurrent\": true, \"mode\": \"immediate\", \"transition\": {\"duration\": 0, \"easing\": \"linear\"}}], \"label\": \"1948\", \"method\": \"animate\"}, {\"args\": [[\"1910\"], {\"frame\": {\"duration\": 0, \"redraw\": false}, \"fromcurrent\": true, \"mode\": \"immediate\", \"transition\": {\"duration\": 0, \"easing\": \"linear\"}}], \"label\": \"1910\", \"method\": \"animate\"}, {\"args\": [[\"1995\"], {\"frame\": {\"duration\": 0, \"redraw\": false}, \"fromcurrent\": true, \"mode\": \"immediate\", \"transition\": {\"duration\": 0, \"easing\": \"linear\"}}], \"label\": \"1995\", \"method\": \"animate\"}, {\"args\": [[\"1991\"], {\"frame\": {\"duration\": 0, \"redraw\": false}, \"fromcurrent\": true, \"mode\": \"immediate\", \"transition\": {\"duration\": 0, \"easing\": \"linear\"}}], \"label\": \"1991\", \"method\": \"animate\"}, {\"args\": [[\"2009\"], {\"frame\": {\"duration\": 0, \"redraw\": false}, \"fromcurrent\": true, \"mode\": \"immediate\", \"transition\": {\"duration\": 0, \"easing\": \"linear\"}}], \"label\": \"2009\", \"method\": \"animate\"}, {\"args\": [[\"1950\"], {\"frame\": {\"duration\": 0, \"redraw\": false}, \"fromcurrent\": true, \"mode\": \"immediate\", \"transition\": {\"duration\": 0, \"easing\": \"linear\"}}], \"label\": \"1950\", \"method\": \"animate\"}, {\"args\": [[\"1961\"], {\"frame\": {\"duration\": 0, \"redraw\": false}, \"fromcurrent\": true, \"mode\": \"immediate\", \"transition\": {\"duration\": 0, \"easing\": \"linear\"}}], \"label\": \"1961\", \"method\": \"animate\"}, {\"args\": [[\"1977\"], {\"frame\": {\"duration\": 0, \"redraw\": false}, \"fromcurrent\": true, \"mode\": \"immediate\", \"transition\": {\"duration\": 0, \"easing\": \"linear\"}}], \"label\": \"1977\", \"method\": \"animate\"}, {\"args\": [[\"1985\"], {\"frame\": {\"duration\": 0, \"redraw\": false}, \"fromcurrent\": true, \"mode\": \"immediate\", \"transition\": {\"duration\": 0, \"easing\": \"linear\"}}], \"label\": \"1985\", \"method\": \"animate\"}, {\"args\": [[\"1979\"], {\"frame\": {\"duration\": 0, \"redraw\": false}, \"fromcurrent\": true, \"mode\": \"immediate\", \"transition\": {\"duration\": 0, \"easing\": \"linear\"}}], \"label\": \"1979\", \"method\": \"animate\"}, {\"args\": [[\"1885\"], {\"frame\": {\"duration\": 0, \"redraw\": false}, \"fromcurrent\": true, \"mode\": \"immediate\", \"transition\": {\"duration\": 0, \"easing\": \"linear\"}}], \"label\": \"1885\", \"method\": \"animate\"}, {\"args\": [[\"1919\"], {\"frame\": {\"duration\": 0, \"redraw\": false}, \"fromcurrent\": true, \"mode\": \"immediate\", \"transition\": {\"duration\": 0, \"easing\": \"linear\"}}], \"label\": \"1919\", \"method\": \"animate\"}, {\"args\": [[\"1990\"], {\"frame\": {\"duration\": 0, \"redraw\": false}, \"fromcurrent\": true, \"mode\": \"immediate\", \"transition\": {\"duration\": 0, \"easing\": \"linear\"}}], \"label\": \"1990\", \"method\": \"animate\"}, {\"args\": [[\"1969\"], {\"frame\": {\"duration\": 0, \"redraw\": false}, \"fromcurrent\": true, \"mode\": \"immediate\", \"transition\": {\"duration\": 0, \"easing\": \"linear\"}}], \"label\": \"1969\", \"method\": \"animate\"}, {\"args\": [[\"1935\"], {\"frame\": {\"duration\": 0, \"redraw\": false}, \"fromcurrent\": true, \"mode\": \"immediate\", \"transition\": {\"duration\": 0, \"easing\": \"linear\"}}], \"label\": \"1935\", \"method\": \"animate\"}, {\"args\": [[\"1988\"], {\"frame\": {\"duration\": 0, \"redraw\": false}, \"fromcurrent\": true, \"mode\": \"immediate\", \"transition\": {\"duration\": 0, \"easing\": \"linear\"}}], \"label\": \"1988\", \"method\": \"animate\"}, {\"args\": [[\"1971\"], {\"frame\": {\"duration\": 0, \"redraw\": false}, \"fromcurrent\": true, \"mode\": \"immediate\", \"transition\": {\"duration\": 0, \"easing\": \"linear\"}}], \"label\": \"1971\", \"method\": \"animate\"}, {\"args\": [[\"1952\"], {\"frame\": {\"duration\": 0, \"redraw\": false}, \"fromcurrent\": true, \"mode\": \"immediate\", \"transition\": {\"duration\": 0, \"easing\": \"linear\"}}], \"label\": \"1952\", \"method\": \"animate\"}, {\"args\": [[\"1936\"], {\"frame\": {\"duration\": 0, \"redraw\": false}, \"fromcurrent\": true, \"mode\": \"immediate\", \"transition\": {\"duration\": 0, \"easing\": \"linear\"}}], \"label\": \"1936\", \"method\": \"animate\"}, {\"args\": [[\"1923\"], {\"frame\": {\"duration\": 0, \"redraw\": false}, \"fromcurrent\": true, \"mode\": \"immediate\", \"transition\": {\"duration\": 0, \"easing\": \"linear\"}}], \"label\": \"1923\", \"method\": \"animate\"}, {\"args\": [[\"1924\"], {\"frame\": {\"duration\": 0, \"redraw\": false}, \"fromcurrent\": true, \"mode\": \"immediate\", \"transition\": {\"duration\": 0, \"easing\": \"linear\"}}], \"label\": \"1924\", \"method\": \"animate\"}, {\"args\": [[\"1984\"], {\"frame\": {\"duration\": 0, \"redraw\": false}, \"fromcurrent\": true, \"mode\": \"immediate\", \"transition\": {\"duration\": 0, \"easing\": \"linear\"}}], \"label\": \"1984\", \"method\": \"animate\"}, {\"args\": [[\"1926\"], {\"frame\": {\"duration\": 0, \"redraw\": false}, \"fromcurrent\": true, \"mode\": \"immediate\", \"transition\": {\"duration\": 0, \"easing\": \"linear\"}}], \"label\": \"1926\", \"method\": \"animate\"}, {\"args\": [[\"1940\"], {\"frame\": {\"duration\": 0, \"redraw\": false}, \"fromcurrent\": true, \"mode\": \"immediate\", \"transition\": {\"duration\": 0, \"easing\": \"linear\"}}], \"label\": \"1940\", \"method\": \"animate\"}, {\"args\": [[\"1941\"], {\"frame\": {\"duration\": 0, \"redraw\": false}, \"fromcurrent\": true, \"mode\": \"immediate\", \"transition\": {\"duration\": 0, \"easing\": \"linear\"}}], \"label\": \"1941\", \"method\": \"animate\"}, {\"args\": [[\"1987\"], {\"frame\": {\"duration\": 0, \"redraw\": false}, \"fromcurrent\": true, \"mode\": \"immediate\", \"transition\": {\"duration\": 0, \"easing\": \"linear\"}}], \"label\": \"1987\", \"method\": \"animate\"}, {\"args\": [[\"1986\"], {\"frame\": {\"duration\": 0, \"redraw\": false}, \"fromcurrent\": true, \"mode\": \"immediate\", \"transition\": {\"duration\": 0, \"easing\": \"linear\"}}], \"label\": \"1986\", \"method\": \"animate\"}, {\"args\": [[\"2008\"], {\"frame\": {\"duration\": 0, \"redraw\": false}, \"fromcurrent\": true, \"mode\": \"immediate\", \"transition\": {\"duration\": 0, \"easing\": \"linear\"}}], \"label\": \"2008\", \"method\": \"animate\"}, {\"args\": [[\"1908\"], {\"frame\": {\"duration\": 0, \"redraw\": false}, \"fromcurrent\": true, \"mode\": \"immediate\", \"transition\": {\"duration\": 0, \"easing\": \"linear\"}}], \"label\": \"1908\", \"method\": \"animate\"}, {\"args\": [[\"1892\"], {\"frame\": {\"duration\": 0, \"redraw\": false}, \"fromcurrent\": true, \"mode\": \"immediate\", \"transition\": {\"duration\": 0, \"easing\": \"linear\"}}], \"label\": \"1892\", \"method\": \"animate\"}, {\"args\": [[\"1916\"], {\"frame\": {\"duration\": 0, \"redraw\": false}, \"fromcurrent\": true, \"mode\": \"immediate\", \"transition\": {\"duration\": 0, \"easing\": \"linear\"}}], \"label\": \"1916\", \"method\": \"animate\"}, {\"args\": [[\"1932\"], {\"frame\": {\"duration\": 0, \"redraw\": false}, \"fromcurrent\": true, \"mode\": \"immediate\", \"transition\": {\"duration\": 0, \"easing\": \"linear\"}}], \"label\": \"1932\", \"method\": \"animate\"}, {\"args\": [[\"1918\"], {\"frame\": {\"duration\": 0, \"redraw\": false}, \"fromcurrent\": true, \"mode\": \"immediate\", \"transition\": {\"duration\": 0, \"easing\": \"linear\"}}], \"label\": \"1918\", \"method\": \"animate\"}, {\"args\": [[\"1912\"], {\"frame\": {\"duration\": 0, \"redraw\": false}, \"fromcurrent\": true, \"mode\": \"immediate\", \"transition\": {\"duration\": 0, \"easing\": \"linear\"}}], \"label\": \"1912\", \"method\": \"animate\"}, {\"args\": [[\"1947\"], {\"frame\": {\"duration\": 0, \"redraw\": false}, \"fromcurrent\": true, \"mode\": \"immediate\", \"transition\": {\"duration\": 0, \"easing\": \"linear\"}}], \"label\": \"1947\", \"method\": \"animate\"}, {\"args\": [[\"1925\"], {\"frame\": {\"duration\": 0, \"redraw\": false}, \"fromcurrent\": true, \"mode\": \"immediate\", \"transition\": {\"duration\": 0, \"easing\": \"linear\"}}], \"label\": \"1925\", \"method\": \"animate\"}, {\"args\": [[\"1900\"], {\"frame\": {\"duration\": 0, \"redraw\": false}, \"fromcurrent\": true, \"mode\": \"immediate\", \"transition\": {\"duration\": 0, \"easing\": \"linear\"}}], \"label\": \"1900\", \"method\": \"animate\"}, {\"args\": [[\"1980\"], {\"frame\": {\"duration\": 0, \"redraw\": false}, \"fromcurrent\": true, \"mode\": \"immediate\", \"transition\": {\"duration\": 0, \"easing\": \"linear\"}}], \"label\": \"1980\", \"method\": \"animate\"}, {\"args\": [[\"1989\"], {\"frame\": {\"duration\": 0, \"redraw\": false}, \"fromcurrent\": true, \"mode\": \"immediate\", \"transition\": {\"duration\": 0, \"easing\": \"linear\"}}], \"label\": \"1989\", \"method\": \"animate\"}, {\"args\": [[\"1992\"], {\"frame\": {\"duration\": 0, \"redraw\": false}, \"fromcurrent\": true, \"mode\": \"immediate\", \"transition\": {\"duration\": 0, \"easing\": \"linear\"}}], \"label\": \"1992\", \"method\": \"animate\"}, {\"args\": [[\"1949\"], {\"frame\": {\"duration\": 0, \"redraw\": false}, \"fromcurrent\": true, \"mode\": \"immediate\", \"transition\": {\"duration\": 0, \"easing\": \"linear\"}}], \"label\": \"1949\", \"method\": \"animate\"}, {\"args\": [[\"1880\"], {\"frame\": {\"duration\": 0, \"redraw\": false}, \"fromcurrent\": true, \"mode\": \"immediate\", \"transition\": {\"duration\": 0, \"easing\": \"linear\"}}], \"label\": \"1880\", \"method\": \"animate\"}, {\"args\": [[\"1928\"], {\"frame\": {\"duration\": 0, \"redraw\": false}, \"fromcurrent\": true, \"mode\": \"immediate\", \"transition\": {\"duration\": 0, \"easing\": \"linear\"}}], \"label\": \"1928\", \"method\": \"animate\"}, {\"args\": [[\"1978\"], {\"frame\": {\"duration\": 0, \"redraw\": false}, \"fromcurrent\": true, \"mode\": \"immediate\", \"transition\": {\"duration\": 0, \"easing\": \"linear\"}}], \"label\": \"1978\", \"method\": \"animate\"}, {\"args\": [[\"1922\"], {\"frame\": {\"duration\": 0, \"redraw\": false}, \"fromcurrent\": true, \"mode\": \"immediate\", \"transition\": {\"duration\": 0, \"easing\": \"linear\"}}], \"label\": \"1922\", \"method\": \"animate\"}, {\"args\": [[\"1996\"], {\"frame\": {\"duration\": 0, \"redraw\": false}, \"fromcurrent\": true, \"mode\": \"immediate\", \"transition\": {\"duration\": 0, \"easing\": \"linear\"}}], \"label\": \"1996\", \"method\": \"animate\"}, {\"args\": [[\"2010\"], {\"frame\": {\"duration\": 0, \"redraw\": false}, \"fromcurrent\": true, \"mode\": \"immediate\", \"transition\": {\"duration\": 0, \"easing\": \"linear\"}}], \"label\": \"2010\", \"method\": \"animate\"}, {\"args\": [[\"1946\"], {\"frame\": {\"duration\": 0, \"redraw\": false}, \"fromcurrent\": true, \"mode\": \"immediate\", \"transition\": {\"duration\": 0, \"easing\": \"linear\"}}], \"label\": \"1946\", \"method\": \"animate\"}, {\"args\": [[\"1913\"], {\"frame\": {\"duration\": 0, \"redraw\": false}, \"fromcurrent\": true, \"mode\": \"immediate\", \"transition\": {\"duration\": 0, \"easing\": \"linear\"}}], \"label\": \"1913\", \"method\": \"animate\"}, {\"args\": [[\"1937\"], {\"frame\": {\"duration\": 0, \"redraw\": false}, \"fromcurrent\": true, \"mode\": \"immediate\", \"transition\": {\"duration\": 0, \"easing\": \"linear\"}}], \"label\": \"1937\", \"method\": \"animate\"}, {\"args\": [[\"1942\"], {\"frame\": {\"duration\": 0, \"redraw\": false}, \"fromcurrent\": true, \"mode\": \"immediate\", \"transition\": {\"duration\": 0, \"easing\": \"linear\"}}], \"label\": \"1942\", \"method\": \"animate\"}, {\"args\": [[\"1938\"], {\"frame\": {\"duration\": 0, \"redraw\": false}, \"fromcurrent\": true, \"mode\": \"immediate\", \"transition\": {\"duration\": 0, \"easing\": \"linear\"}}], \"label\": \"1938\", \"method\": \"animate\"}, {\"args\": [[\"1974\"], {\"frame\": {\"duration\": 0, \"redraw\": false}, \"fromcurrent\": true, \"mode\": \"immediate\", \"transition\": {\"duration\": 0, \"easing\": \"linear\"}}], \"label\": \"1974\", \"method\": \"animate\"}, {\"args\": [[\"1893\"], {\"frame\": {\"duration\": 0, \"redraw\": false}, \"fromcurrent\": true, \"mode\": \"immediate\", \"transition\": {\"duration\": 0, \"easing\": \"linear\"}}], \"label\": \"1893\", \"method\": \"animate\"}, {\"args\": [[\"1914\"], {\"frame\": {\"duration\": 0, \"redraw\": false}, \"fromcurrent\": true, \"mode\": \"immediate\", \"transition\": {\"duration\": 0, \"easing\": \"linear\"}}], \"label\": \"1914\", \"method\": \"animate\"}, {\"args\": [[\"1906\"], {\"frame\": {\"duration\": 0, \"redraw\": false}, \"fromcurrent\": true, \"mode\": \"immediate\", \"transition\": {\"duration\": 0, \"easing\": \"linear\"}}], \"label\": \"1906\", \"method\": \"animate\"}, {\"args\": [[\"1890\"], {\"frame\": {\"duration\": 0, \"redraw\": false}, \"fromcurrent\": true, \"mode\": \"immediate\", \"transition\": {\"duration\": 0, \"easing\": \"linear\"}}], \"label\": \"1890\", \"method\": \"animate\"}, {\"args\": [[\"1898\"], {\"frame\": {\"duration\": 0, \"redraw\": false}, \"fromcurrent\": true, \"mode\": \"immediate\", \"transition\": {\"duration\": 0, \"easing\": \"linear\"}}], \"label\": \"1898\", \"method\": \"animate\"}, {\"args\": [[\"1904\"], {\"frame\": {\"duration\": 0, \"redraw\": false}, \"fromcurrent\": true, \"mode\": \"immediate\", \"transition\": {\"duration\": 0, \"easing\": \"linear\"}}], \"label\": \"1904\", \"method\": \"animate\"}, {\"args\": [[\"1882\"], {\"frame\": {\"duration\": 0, \"redraw\": false}, \"fromcurrent\": true, \"mode\": \"immediate\", \"transition\": {\"duration\": 0, \"easing\": \"linear\"}}], \"label\": \"1882\", \"method\": \"animate\"}, {\"args\": [[\"1875\"], {\"frame\": {\"duration\": 0, \"redraw\": false}, \"fromcurrent\": true, \"mode\": \"immediate\", \"transition\": {\"duration\": 0, \"easing\": \"linear\"}}], \"label\": \"1875\", \"method\": \"animate\"}, {\"args\": [[\"1911\"], {\"frame\": {\"duration\": 0, \"redraw\": false}, \"fromcurrent\": true, \"mode\": \"immediate\", \"transition\": {\"duration\": 0, \"easing\": \"linear\"}}], \"label\": \"1911\", \"method\": \"animate\"}, {\"args\": [[\"1917\"], {\"frame\": {\"duration\": 0, \"redraw\": false}, \"fromcurrent\": true, \"mode\": \"immediate\", \"transition\": {\"duration\": 0, \"easing\": \"linear\"}}], \"label\": \"1917\", \"method\": \"animate\"}, {\"args\": [[\"1872\"], {\"frame\": {\"duration\": 0, \"redraw\": false}, \"fromcurrent\": true, \"mode\": \"immediate\", \"transition\": {\"duration\": 0, \"easing\": \"linear\"}}], \"label\": \"1872\", \"method\": \"animate\"}, {\"args\": [[\"1905\"], {\"frame\": {\"duration\": 0, \"redraw\": false}, \"fromcurrent\": true, \"mode\": \"immediate\", \"transition\": {\"duration\": 0, \"easing\": \"linear\"}}], \"label\": \"1905\", \"method\": \"animate\"}], \"x\": 0.1, \"xanchor\": \"left\", \"y\": 0, \"yanchor\": \"top\"}], \"template\": {\"data\": {\"scatter\": [{\"type\": \"scatter\"}]}}, \"title\": {\"text\": \"PCA Plot by Cluster\"}, \"updatemenus\": [{\"buttons\": [{\"args\": [null, {\"frame\": {\"duration\": 500, \"redraw\": false}, \"fromcurrent\": true, \"mode\": \"immediate\", \"transition\": {\"duration\": 500, \"easing\": \"linear\"}}], \"label\": \"&#9654;\", \"method\": \"animate\"}, {\"args\": [[null], {\"frame\": {\"duration\": 0, \"redraw\": false}, \"fromcurrent\": true, \"mode\": \"immediate\", \"transition\": {\"duration\": 0, \"easing\": \"linear\"}}], \"label\": \"&#9724;\", \"method\": \"animate\"}], \"direction\": \"left\", \"pad\": {\"r\": 10, \"t\": 70}, \"showactive\": false, \"type\": \"buttons\", \"x\": 0.1, \"xanchor\": \"right\", \"y\": 0, \"yanchor\": \"top\"}], \"xaxis\": {\"anchor\": \"y\", \"domain\": [0.0, 1.0], \"title\": {\"text\": \"LotArea\"}}, \"yaxis\": {\"anchor\": \"x\", \"domain\": [0.0, 1.0], \"title\": {\"text\": \"SalePrice\"}}},\n                        {\"responsive\": true}\n                    ).then(function(){\n                            Plotly.addFrames('de1928f5-ea42-44a0-a372-b2abc798731b', [{\"data\": [{\"hoverlabel\": {\"namelength\": 0}, \"hovertemplate\": \"YearBuilt=2003<br>LotArea=%{x}<br>SalePrice=%{y}<br>Cluster=%{marker.color}\", \"legendgroup\": \"\", \"marker\": {\"color\": [1, 1, 0, 1, 1, 1, 2, 0, 1, 1, 0, 0, 0, 3, 1, 1, 0, 1, 1, 0, 3, 1, 3, 0, 1, 1, 1, 1, 1, 3, 0, 1, 1, 0, 3, 0, 3, 1, 0, 1, 2, 3, 0, 3], \"coloraxis\": \"coloraxis\", \"symbol\": \"circle\"}, \"mode\": \"markers\", \"name\": \"\", \"showlegend\": false, \"x\": [8450, 12822, 10665, 9375, 13688, 11426, 8546, 13472, 11317, 8791, 9196, 12378, 10655, 2448, 7301, 8200, 11846, 9375, 10625, 3196, 4435, 12244, 12677, 9590, 7750, 53504, 7226, 12394, 9548, 4435, 3196, 7875, 11999, 8450, 2268, 9135, 2628, 8158, 3136, 6931, 13695, 4435, 10635, 4435], \"xaxis\": \"x\", \"y\": [208500, 239686, 226000, 250000, 412500, 200000, 140000, 386250, 180000, 207500, 201000, 360000, 284000, 154000, 198500, 219500, 374000, 263000, 284000, 234000, 140000, 305000, 274000, 187500, 162000, 538000, 183000, 225000, 237000, 131500, 215000, 180000, 285000, 185000, 173000, 200000, 175500, 224900, 171750, 165400, 155000, 144000, 232000, 136500], \"yaxis\": \"y\", \"type\": \"scatter\"}], \"name\": \"2003\"}, {\"data\": [{\"hoverlabel\": {\"namelength\": 0}, \"hovertemplate\": \"YearBuilt=1976<br>LotArea=%{x}<br>SalePrice=%{y}<br>Cluster=%{marker.color}\", \"legendgroup\": \"\", \"marker\": {\"color\": [0, 3, 3, 3, 2, 2, 3, 3, 1, 2, 0, 0, 3, 1, 1, 1, 0, 0, 1, 0, 0, 3, 1, 0, 0, 0, 1, 1, 0, 0, 1, 2, 3], \"coloraxis\": \"coloraxis\", \"symbol\": \"circle\"}, \"mode\": \"markers\", \"name\": \"\", \"showlegend\": false, \"x\": [9600, 4224, 4928, 2280, 10650, 7917, 2592, 4224, 18800, 7200, 9991, 9297, 2665, 12384, 13517, 8963, 7819, 11333, 9600, 10400, 12640, 2308, 12046, 11500, 15498, 11361, 10480, 10304, 10768, 12328, 10140, 10780, 4928], \"xaxis\": \"x\", \"y\": [181500, 129900, 128000, 148500, 128200, 148000, 85000, 134000, 190000, 125000, 150000, 188000, 115000, 197900, 130500, 299800, 107000, 146800, 187000, 152000, 150900, 155000, 195000, 136905, 287000, 180000, 205000, 197500, 218000, 169900, 162900, 132500, 143750], \"yaxis\": \"y\", \"type\": \"scatter\"}], \"name\": \"1976\"}, {\"data\": [{\"hoverlabel\": {\"namelength\": 0}, \"hovertemplate\": \"YearBuilt=2001<br>LotArea=%{x}<br>SalePrice=%{y}<br>Cluster=%{marker.color}\", \"legendgroup\": \"\", \"marker\": {\"color\": [1, 0, 1, 3, 1, 0, 1, 0, 1, 1, 0, 0, 0, 1, 1, 3, 0, 0, 0, 1], \"coloraxis\": \"coloraxis\", \"symbol\": \"circle\"}, \"mode\": \"markers\", \"name\": \"\", \"showlegend\": false, \"x\": [11250, 6853, 9505, 4923, 12435, 13704, 12209, 11423, 11885, 7050, 16285, 8529, 11838, 8400, 9240, 4920, 9100, 14781, 11400, 12420], \"xaxis\": \"x\", \"y\": [223500, 220000, 222500, 286000, 231500, 205000, 215000, 272000, 261500, 226000, 187100, 189000, 236500, 227000, 287000, 213500, 178000, 275000, 466500, 230000], \"yaxis\": \"y\", \"type\": \"scatter\"}], \"name\": \"2001\"}, {\"data\": [{\"hoverlabel\": {\"namelength\": 0}, \"hovertemplate\": \"YearBuilt=1915<br>LotArea=%{x}<br>SalePrice=%{y}<br>Cluster=%{marker.color}\", \"legendgroup\": \"\", \"marker\": {\"color\": [0, 2, 2, 2, 2, 1, 2, 2, 1, 2], \"coloraxis\": \"coloraxis\", \"symbol\": \"circle\"}, \"mode\": \"markers\", \"name\": \"\", \"showlegend\": false, \"x\": [9550, 5790, 8470, 8730, 15576, 2500, 6858, 10800, 12665, 10410], \"xaxis\": \"x\", \"y\": [140000, 107400, 85000, 153575, 177000, 155000, 128000, 139000, 153900, 105000], \"yaxis\": \"y\", \"type\": \"scatter\"}], \"name\": \"1915\"}, {\"data\": [{\"hoverlabel\": {\"namelength\": 0}, \"hovertemplate\": \"YearBuilt=2000<br>LotArea=%{x}<br>SalePrice=%{y}<br>Cluster=%{marker.color}\", \"legendgroup\": \"\", \"marker\": {\"color\": [1, 1, 1, 3, 1, 1, 3, 1, 1, 1, 3, 1, 0, 1, 3, 1, 1, 0, 0, 1, 3, 1, 0, 1], \"coloraxis\": \"coloraxis\", \"symbol\": \"circle\"}, \"mode\": \"markers\", \"name\": \"\", \"showlegend\": false, \"x\": [14260, 7750, 12224, 2117, 8121, 8123, 5330, 11000, 9967, 11050, 2117, 11194, 8450, 8795, 2651, 8063, 10852, 9750, 5664, 10316, 2117, 7500, 9100, 10261], \"xaxis\": \"x\", \"y\": [250000, 180000, 244000, 177000, 172400, 179000, 251000, 248000, 170000, 313000, 168500, 230500, 179000, 236000, 165000, 181000, 173000, 213000, 278000, 235000, 177500, 216000, 235000, 186500], \"yaxis\": \"y\", \"type\": \"scatter\"}], \"name\": \"2000\"}, {\"data\": [{\"hoverlabel\": {\"namelength\": 0}, \"hovertemplate\": \"YearBuilt=1993<br>LotArea=%{x}<br>SalePrice=%{y}<br>Cluster=%{marker.color}\", \"legendgroup\": \"\", \"marker\": {\"color\": [2, 1, 3, 1, 1, 1, 3, 1, 1, 1, 1, 0, 1, 1, 0, 1, 1], \"coloraxis\": \"coloraxis\", \"symbol\": \"circle\"}, \"mode\": \"markers\", \"name\": \"\", \"showlegend\": false, \"x\": [14115, 9765, 7892, 9453, 7685, 9900, 10846, 11228, 9291, 9554, 10542, 5395, 9317, 9938, 8012, 14541, 7837], \"xaxis\": \"x\", \"y\": [143000, 185000, 153900, 194500, 165600, 260000, 324000, 228000, 187000, 215000, 341000, 180000, 213000, 236000, 193000, 310000, 178000], \"yaxis\": \"y\", \"type\": \"scatter\"}], \"name\": \"1993\"}, {\"data\": [{\"hoverlabel\": {\"namelength\": 0}, \"hovertemplate\": \"YearBuilt=2004<br>LotArea=%{x}<br>SalePrice=%{y}<br>Cluster=%{marker.color}\", \"legendgroup\": \"\", \"marker\": {\"color\": [0, 2, 1, 1, 2, 1, 3, 2, 1, 1, 3, 0, 3, 0, 0, 1, 0, 1, 1, 0, 0, 0, 0, 0, 1, 0, 1, 3, 3, 3, 0, 0, 3, 1, 0, 1, 3, 1, 0, 0, 3, 3, 0, 0, 1, 1, 1, 3, 0, 1, 0, 3, 0, 0], \"coloraxis\": \"coloraxis\", \"symbol\": \"circle\"}, \"mode\": \"markers\", \"name\": \"\", \"showlegend\": false, \"x\": [10084, 13695, 13418, 11645, 13072, 9591, 2522, 7500, 12552, 8244, 2522, 9591, 4438, 8450, 8773, 8366, 10386, 7795, 12099, 8198, 11143, 3182, 3072, 16033, 9056, 10171, 8320, 3182, 5105, 4426, 4282, 8400, 4426, 9313, 9100, 10142, 4438, 8834, 8487, 12118, 4435, 2522, 11362, 14572, 11796, 15384, 12393, 3363, 16737, 7415, 3842, 4426, 8500, 7500], \"xaxis\": \"x\", \"y\": [307000, 159000, 309000, 196500, 158000, 317000, 130000, 141000, 254900, 183500, 130000, 274900, 149000, 210000, 185500, 173000, 305900, 188500, 354000, 207000, 340000, 192000, 178740, 326000, 178000, 214000, 185900, 151000, 148800, 141000, 196000, 213000, 143000, 190000, 216837, 233000, 144500, 350000, 190000, 240000, 155900, 137500, 280000, 259000, 215000, 184000, 195000, 130000, 315000, 193000, 275000, 149300, 179600, 185000], \"yaxis\": \"y\", \"type\": \"scatter\"}], \"name\": \"2004\"}, {\"data\": [{\"hoverlabel\": {\"namelength\": 0}, \"hovertemplate\": \"YearBuilt=1973<br>LotArea=%{x}<br>SalePrice=%{y}<br>Cluster=%{marker.color}\", \"legendgroup\": \"\", \"marker\": {\"color\": [1, 0, 3, 2, 3, 2, 3, 1, 3, 0, 3], \"coloraxis\": \"coloraxis\", \"symbol\": \"circle\"}, \"mode\": \"markers\", \"name\": \"\", \"showlegend\": false, \"x\": [10382, 13651, 1596, 9600, 1890, 10000, 1680, 3964, 1974, 9246, 1953], \"xaxis\": \"x\", \"y\": [200000, 244000, 91000, 175500, 113000, 157000, 100000, 151400, 83500, 135000, 83000], \"yaxis\": \"y\", \"type\": \"scatter\"}], \"name\": \"1973\"}, {\"data\": [{\"hoverlabel\": {\"namelength\": 0}, \"hovertemplate\": \"YearBuilt=1931<br>LotArea=%{x}<br>SalePrice=%{y}<br>Cluster=%{marker.color}\", \"legendgroup\": \"\", \"marker\": {\"color\": [0, 1, 2, 1, 2, 2], \"coloraxis\": \"coloraxis\", \"symbol\": \"circle\"}, \"mode\": \"markers\", \"name\": \"\", \"showlegend\": false, \"x\": [6120, 7758, 6120, 7200, 6240, 4270], \"xaxis\": \"x\", \"y\": [129900, 169500, 105000, 149000, 127500, 79000], \"yaxis\": \"y\", \"type\": \"scatter\"}], \"name\": \"1931\"}, {\"data\": [{\"hoverlabel\": {\"namelength\": 0}, \"hovertemplate\": \"YearBuilt=1939<br>LotArea=%{x}<br>SalePrice=%{y}<br>Cluster=%{marker.color}\", \"legendgroup\": \"\", \"marker\": {\"color\": [3, 2, 1, 1, 3, 2, 2, 2], \"coloraxis\": \"coloraxis\", \"symbol\": \"circle\"}, \"mode\": \"markers\", \"name\": \"\", \"showlegend\": false, \"x\": [7420, 6060, 15660, 8400, 7800, 6435, 6000, 9060], \"xaxis\": \"x\", \"y\": [118000, 100000, 311500, 179500, 119900, 140200, 132500, 105000], \"yaxis\": \"y\", \"type\": \"scatter\"}], \"name\": \"1939\"}, {\"data\": [{\"hoverlabel\": {\"namelength\": 0}, \"hovertemplate\": \"YearBuilt=1965<br>LotArea=%{x}<br>SalePrice=%{y}<br>Cluster=%{marker.color}\", \"legendgroup\": \"\", \"marker\": {\"color\": [2, 0, 2, 0, 3, 2, 2, 2, 0, 1, 1, 2, 2, 3, 2, 2, 2, 2, 1, 0, 2, 2, 2, 2], \"coloraxis\": \"coloraxis\", \"symbol\": \"circle\"}, \"mode\": \"markers\", \"name\": \"\", \"showlegend\": false, \"x\": [11200, 8658, 10921, 215245, 164660, 8281, 10289, 9170, 13101, 13600, 18450, 9200, 8450, 11625, 9100, 7800, 9825, 9230, 13700, 9350, 10246, 8872, 13526, 9937], \"xaxis\": \"x\", \"y\": [129500, 160000, 94750, 375000, 228950, 62383, 156000, 140000, 142600, 205000, 129000, 140000, 138500, 131500, 117500, 119900, 100000, 146000, 201800, 179900, 145000, 147000, 137000, 147500], \"yaxis\": \"y\", \"type\": \"scatter\"}], \"name\": \"1965\"}, {\"data\": [{\"hoverlabel\": {\"namelength\": 0}, \"hovertemplate\": \"YearBuilt=2005<br>LotArea=%{x}<br>SalePrice=%{y}<br>Cluster=%{marker.color}\", \"legendgroup\": \"\", \"marker\": {\"color\": [1, 1, 0, 0, 1, 1, 0, 1, 0, 3, 0, 0, 0, 1, 0, 3, 1, 0, 0, 1, 0, 0, 1, 0, 1, 0, 1, 1, 0, 0, 1, 3, 3, 2, 1, 0, 1, 1, 1, 0, 0, 2, 0, 0, 1, 0, 1, 3, 0, 1, 2, 1, 0, 3, 0, 0, 0, 0, 3, 1, 1, 0, 1, 3], \"coloraxis\": \"coloraxis\", \"symbol\": \"circle\"}, \"mode\": \"markers\", \"name\": \"\", \"showlegend\": false, \"x\": [11924, 14215, 7313, 7658, 11911, 8461, 11645, 19378, 12182, 3010, 3182, 14157, 8849, 20431, 8767, 3675, 9803, 6792, 7500, 11198, 11443, 11302, 10927, 20896, 8633, 7577, 10463, 10240, 11210, 3182, 8199, 2544, 3180, 7024, 12589, 10237, 9675, 10237, 8846, 3182, 3013, 7024, 3182, 5381, 16056, 7052, 10574, 3316, 10084, 8029, 13072, 8125, 9587, 3675, 8688, 6955, 8814, 16158, 3180, 10625, 12665, 10994, 21930, 3675], \"xaxis\": \"x\", \"y\": [345000, 325300, 277500, 319900, 174000, 163990, 260000, 320000, 220000, 167240, 192500, 377426, 266000, 437154, 164990, 148000, 226700, 202665, 176000, 325000, 369900, 319000, 275000, 423000, 173500, 194700, 239900, 275500, 221500, 160200, 189000, 147400, 151000, 157000, 174000, 169990, 253000, 178900, 173900, 181000, 213490, 176000, 191000, 196000, 556581, 185850, 252000, 197000, 212900, 176000, 142500, 186500, 190000, 140000, 232000, 202500, 203000, 260000, 144152, 250000, 281213, 257000, 192140, 145000], \"yaxis\": \"y\", \"type\": \"scatter\"}], \"name\": \"2005\"}, {\"data\": [{\"hoverlabel\": {\"namelength\": 0}, \"hovertemplate\": \"YearBuilt=1962<br>LotArea=%{x}<br>SalePrice=%{y}<br>Cluster=%{marker.color}\", \"legendgroup\": \"\", \"marker\": {\"color\": [2, 2, 2, 0, 1, 2, 1, 2, 2, 2, 2, 2, 2, 2, 2, 3, 1, 0, 2], \"coloraxis\": \"coloraxis\", \"symbol\": \"circle\"}, \"mode\": \"markers\", \"name\": \"\", \"showlegend\": false, \"x\": [12968, 11616, 13673, 19296, 9786, 9150, 7590, 7758, 10000, 6897, 6600, 7420, 7763, 10205, 7728, 9842, 9247, 8400, 26142], \"xaxis\": \"x\", \"y\": [144000, 139000, 143900, 176000, 159000, 165000, 169500, 132500, 160000, 127000, 109500, 132000, 140000, 134500, 132500, 101800, 171000, 174000, 157900], \"yaxis\": \"y\", \"type\": \"scatter\"}], \"name\": \"1962\"}, {\"data\": [{\"hoverlabel\": {\"namelength\": 0}, \"hovertemplate\": \"YearBuilt=2006<br>LotArea=%{x}<br>SalePrice=%{y}<br>Cluster=%{marker.color}\", \"legendgroup\": \"\", \"marker\": {\"color\": [0, 0, 1, 0, 2, 0, 0, 0, 1, 0, 0, 3, 1, 1, 1, 0, 1, 0, 1, 0, 0, 0, 1, 1, 0, 1, 0, 1, 0, 0, 1, 0, 0, 0, 0, 0, 0, 0, 1, 1, 0, 0, 0, 0, 0, 0, 1, 1, 3, 1, 0, 0, 1, 0, 0, 0, 0, 1, 0, 1, 1, 0, 0, 0, 2], \"coloraxis\": \"coloraxis\", \"symbol\": \"circle\"}, \"mode\": \"markers\", \"name\": \"\", \"showlegend\": false, \"x\": [10652, 11096, 13682, 6442, 8536, 8990, 4750, 8814, 10728, 14450, 7200, 4251, 15611, 9000, 16259, 7200, 9245, 8125, 14154, 3922, 11428, 14977, 13693, 15578, 14601, 17104, 11146, 3922, 4590, 3982, 12438, 6240, 14226, 11216, 10656, 14859, 13501, 11670, 8760, 8125, 12456, 6762, 11957, 7406, 8556, 9317, 23257, 9965, 4017, 14054, 10182, 9037, 11065, 13173, 4230, 9986, 10000, 11103, 15306, 8499, 9735, 14892, 4045, 6762, 17217], \"xaxis\": \"x\", \"y\": [279500, 249700, 438780, 202500, 155000, 204900, 235000, 220000, 266000, 415298, 185000, 164700, 233230, 270000, 342643, 187750, 213500, 241000, 280000, 172500, 250000, 440000, 380000, 172785, 315000, 179665, 255500, 194201, 209500, 264561, 361919, 254000, 395000, 232600, 248900, 240000, 255000, 320000, 239799, 197000, 337500, 206000, 232000, 194000, 194000, 176432, 274725, 424870, 171900, 219210, 290000, 265900, 281000, 325000, 208900, 147000, 227000, 155835, 283463, 156932, 167500, 377500, 246578, 193879, 84500], \"yaxis\": \"y\", \"type\": \"scatter\"}], \"name\": \"2006\"}, {\"data\": [{\"hoverlabel\": {\"namelength\": 0}, \"hovertemplate\": \"YearBuilt=1960<br>LotArea=%{x}<br>SalePrice=%{y}<br>Cluster=%{marker.color}\", \"legendgroup\": \"\", \"marker\": {\"color\": [2, 2, 2, 0, 2, 2, 2, 0, 2, 0, 2, 1, 0, 0, 2, 2, 2], \"coloraxis\": \"coloraxis\", \"symbol\": \"circle\"}, \"mode\": \"markers\", \"name\": \"\", \"showlegend\": false, \"x\": [10920, 8892, 13500, 31770, 12493, 11600, 12772, 17600, 7931, 14585, 12342, 11600, 27650, 9300, 21750, 7000, 7910], \"xaxis\": \"x\", \"y\": [157000, 126500, 235000, 215000, 141000, 145250, 151500, 157500, 155000, 181900, 139900, 154300, 242000, 167500, 115000, 135000, 127000], \"yaxis\": \"y\", \"type\": \"scatter\"}], \"name\": \"1960\"}, {\"data\": [{\"hoverlabel\": {\"namelength\": 0}, \"hovertemplate\": \"YearBuilt=1929<br>LotArea=%{x}<br>SalePrice=%{y}<br>Cluster=%{marker.color}\", \"legendgroup\": \"\", \"marker\": {\"color\": [2, 2, 0, 2], \"coloraxis\": \"coloraxis\", \"symbol\": \"circle\"}, \"mode\": \"markers\", \"name\": \"\", \"showlegend\": false, \"x\": [6120, 5500, 11435, 6000], \"xaxis\": \"x\", \"y\": [132000, 130000, 230000, 120000], \"yaxis\": \"y\", \"type\": \"scatter\"}], \"name\": \"1929\"}, {\"data\": [{\"hoverlabel\": {\"namelength\": 0}, \"hovertemplate\": \"YearBuilt=1970<br>LotArea=%{x}<br>SalePrice=%{y}<br>Cluster=%{marker.color}\", \"legendgroup\": \"\", \"marker\": {\"color\": [2, 0, 0, 3, 0, 3, 2, 3, 3, 2, 2, 2, 0, 3, 0, 0, 3, 3, 3, 3, 2, 3, 1, 3], \"coloraxis\": \"coloraxis\", \"symbol\": \"circle\"}, \"mode\": \"markers\", \"name\": \"\", \"showlegend\": false, \"x\": [11241, 19900, 10400, 1869, 10628, 1526, 7244, 1936, 9873, 8120, 6960, 8750, 15865, 2001, 11717, 12155, 2217, 1533, 1477, 2016, 9353, 2368, 12925, 1533], \"xaxis\": \"x\", \"y\": [149000, 180000, 174000, 106000, 167000, 86000, 129500, 84500, 129000, 124500, 120500, 148500, 268000, 75000, 185000, 163500, 88000, 97000, 80000, 106000, 116050, 125000, 237500, 92000], \"yaxis\": \"y\", \"type\": \"scatter\"}], \"name\": \"1970\"}, {\"data\": [{\"hoverlabel\": {\"namelength\": 0}, \"hovertemplate\": \"YearBuilt=1967<br>LotArea=%{x}<br>SalePrice=%{y}<br>Cluster=%{marker.color}\", \"legendgroup\": \"\", \"marker\": {\"color\": [3, 2, 2, 2, 1, 2, 0, 2, 1, 2, 2, 0, 2, 0, 0, 2], \"coloraxis\": \"coloraxis\", \"symbol\": \"circle\"}, \"mode\": \"markers\", \"name\": \"\", \"showlegend\": false, \"x\": [10791, 10355, 8521, 9819, 11275, 7800, 9790, 9750, 28698, 7150, 6173, 25000, 9764, 17871, 8944, 7838], \"xaxis\": \"x\", \"y\": [90000, 143000, 125000, 122000, 242000, 130000, 161500, 135500, 185000, 100000, 125500, 143000, 130000, 197900, 124000, 123000], \"yaxis\": \"y\", \"type\": \"scatter\"}], \"name\": \"1967\"}, {\"data\": [{\"hoverlabel\": {\"namelength\": 0}, \"hovertemplate\": \"YearBuilt=1958<br>LotArea=%{x}<br>SalePrice=%{y}<br>Cluster=%{marker.color}\", \"legendgroup\": \"\", \"marker\": {\"color\": [2, 2, 2, 0, 0, 2, 2, 2, 2, 2, 2, 2, 0, 2, 2, 2, 2, 2, 3, 2, 0, 2, 2, 2], \"coloraxis\": \"coloraxis\", \"symbol\": \"circle\"}, \"mode\": \"markers\", \"name\": \"\", \"showlegend\": false, \"x\": [7560, 9464, 8973, 13650, 159000, 9600, 8176, 12400, 6930, 9571, 7535, 9100, 11475, 10150, 9750, 11029, 14375, 7207, 10382, 13825, 9120, 10482, 11344, 9503], \"xaxis\": \"x\", \"y\": [139000, 136000, 150000, 172500, 277000, 139000, 139000, 155000, 130000, 60000, 120000, 129900, 110000, 114500, 157900, 176500, 137500, 116500, 140000, 140000, 163000, 145000, 144000, 144000], \"yaxis\": \"y\", \"type\": \"scatter\"}], \"name\": \"1958\"}, {\"data\": [{\"hoverlabel\": {\"namelength\": 0}, \"hovertemplate\": \"YearBuilt=1930<br>LotArea=%{x}<br>SalePrice=%{y}<br>Cluster=%{marker.color}\", \"legendgroup\": \"\", \"marker\": {\"color\": [2, 2, 0, 2, 2, 3, 2, 2, 2], \"coloraxis\": \"coloraxis\", \"symbol\": \"circle\"}, \"mode\": \"markers\", \"name\": \"\", \"showlegend\": false, \"x\": [7449, 4388, 6240, 5684, 9100, 5600, 9439, 5890, 6292], \"xaxis\": \"x\", \"y\": [139400, 87000, 162900, 110000, 79500, 55000, 87000, 120500, 91000], \"yaxis\": \"y\", \"type\": \"scatter\"}], \"name\": \"1930\"}, {\"data\": [{\"hoverlabel\": {\"namelength\": 0}, \"hovertemplate\": \"YearBuilt=2002<br>LotArea=%{x}<br>SalePrice=%{y}<br>Cluster=%{marker.color}\", \"legendgroup\": \"\", \"marker\": {\"color\": [0, 1, 0, 1, 0, 1, 0, 0, 0, 0, 1, 1, 1, 0, 1, 0, 1, 1, 0, 1, 1], \"coloraxis\": \"coloraxis\", \"symbol\": \"circle\"}, \"mode\": \"markers\", \"name\": \"\", \"showlegend\": false, \"x\": [9742, 8068, 9135, 14191, 12803, 7861, 11248, 14331, 13265, 14536, 14006, 11316, 11250, 8125, 11367, 8749, 7750, 8935, 9808, 13450, 9375], \"xaxis\": \"x\", \"y\": [230000, 200000, 214000, 202900, 221000, 183200, 285000, 312500, 271000, 270000, 192500, 214900, 255900, 230000, 255000, 192000, 184100, 195000, 227000, 200000, 228500], \"yaxis\": \"y\", \"type\": \"scatter\"}], \"name\": \"2002\"}, {\"data\": [{\"hoverlabel\": {\"namelength\": 0}, \"hovertemplate\": \"YearBuilt=1968<br>LotArea=%{x}<br>SalePrice=%{y}<br>Cluster=%{marker.color}\", \"legendgroup\": \"\", \"marker\": {\"color\": [2, 2, 1, 0, 1, 2, 2, 2, 0, 2, 1, 1, 1, 2, 2, 0, 2, 0, 2, 0, 0, 1], \"coloraxis\": \"coloraxis\", \"symbol\": \"circle\"}, \"mode\": \"markers\", \"name\": \"\", \"showlegend\": false, \"x\": [8246, 10778, 13000, 10335, 11700, 8450, 11553, 25095, 13560, 8978, 11029, 9900, 11700, 8724, 8250, 11160, 9858, 9156, 8400, 20781, 10192, 11700], \"xaxis\": \"x\", \"y\": [154000, 136500, 193500, 180000, 175000, 142000, 158000, 143000, 110000, 108000, 250000, 176000, 154000, 129000, 134000, 244000, 130000, 185750, 138500, 262500, 170000, 179900], \"yaxis\": \"y\", \"type\": \"scatter\"}], \"name\": \"1968\"}, {\"data\": [{\"hoverlabel\": {\"namelength\": 0}, \"hovertemplate\": \"YearBuilt=2007<br>LotArea=%{x}<br>SalePrice=%{y}<br>Cluster=%{marker.color}\", \"legendgroup\": \"\", \"marker\": {\"color\": [0, 0, 0, 0, 1, 0, 1, 0, 0, 1, 0, 0, 1, 1, 0, 0, 0, 1, 3, 2, 0, 0, 0, 1, 0, 0, 1, 0, 0, 0, 1, 0, 0, 0, 0, 0, 0, 0, 0, 0, 0, 0, 1, 0, 0, 0, 0], \"coloraxis\": \"coloraxis\", \"symbol\": \"circle\"}, \"mode\": \"markers\", \"name\": \"\", \"showlegend\": false, \"x\": [14230, 11478, 11049, 10206, 9965, 13891, 10562, 9416, 12030, 9588, 5063, 7820, 12474, 10800, 8899, 6762, 10637, 40094, 3604, 8402, 11694, 10207, 8089, 9018, 13286, 7314, 10769, 9158, 14803, 8640, 9000, 8925, 11923, 3182, 9520, 12898, 8993, 11175, 12085, 3684, 5001, 11932, 14598, 9849, 10991, 15256, 3635], \"xaxis\": \"x\", \"y\": [256300, 306000, 179900, 245000, 383970, 372402, 325624, 311872, 318000, 276000, 207500, 318061, 426000, 339750, 181134, 195400, 297000, 184750, 146000, 147000, 314813, 227875, 392000, 179540, 320000, 194500, 212000, 225000, 385000, 250580, 303477, 201000, 239000, 159895, 293077, 315500, 176485, 200141, 318000, 174000, 230000, 235128, 214000, 248328, 239000, 282922, 175900], \"yaxis\": \"y\", \"type\": \"scatter\"}], \"name\": \"2007\"}, {\"data\": [{\"hoverlabel\": {\"namelength\": 0}, \"hovertemplate\": \"YearBuilt=1951<br>LotArea=%{x}<br>SalePrice=%{y}<br>Cluster=%{marker.color}\", \"legendgroup\": \"\", \"marker\": {\"color\": [2, 2, 2, 2, 2, 0], \"coloraxis\": \"coloraxis\", \"symbol\": \"circle\"}, \"mode\": \"markers\", \"name\": \"\", \"showlegend\": false, \"x\": [7200, 19138, 14559, 8877, 7350, 10680], \"xaxis\": \"x\", \"y\": [134800, 141000, 164900, 102000, 139000, 137900], \"yaxis\": \"y\", \"type\": \"scatter\"}], \"name\": \"1951\"}, {\"data\": [{\"hoverlabel\": {\"namelength\": 0}, \"hovertemplate\": \"YearBuilt=1957<br>LotArea=%{x}<br>SalePrice=%{y}<br>Cluster=%{marker.color}\", \"legendgroup\": \"\", \"marker\": {\"color\": [0, 2, 2, 2, 2, 2, 2, 2, 2, 0, 0, 2, 2, 0, 2, 2, 0, 0, 2], \"coloraxis\": \"coloraxis\", \"symbol\": \"circle\"}, \"mode\": \"markers\", \"name\": \"\", \"showlegend\": false, \"x\": [16321, 9060, 10011, 8400, 8593, 11988, 6000, 14850, 11341, 14442, 11900, 8712, 11500, 13125, 8562, 7100, 11250, 8400, 7407], \"xaxis\": \"x\", \"y\": [207500, 120000, 134450, 145000, 109008, 150000, 112500, 141000, 121500, 257500, 166000, 153000, 84000, 155000, 144500, 129900, 161500, 156500, 149700], \"yaxis\": \"y\", \"type\": \"scatter\"}], \"name\": \"1957\"}, {\"data\": [{\"hoverlabel\": {\"namelength\": 0}, \"hovertemplate\": \"YearBuilt=1927<br>LotArea=%{x}<br>SalePrice=%{y}<br>Cluster=%{marker.color}\", \"legendgroup\": \"\", \"marker\": {\"color\": [2, 2, 2], \"coloraxis\": \"coloraxis\", \"symbol\": \"circle\"}, \"mode\": \"markers\", \"name\": \"\", \"showlegend\": false, \"x\": [6324, 8960, 10800], \"xaxis\": \"x\", \"y\": [68500, 115000, 64500], \"yaxis\": \"y\", \"type\": \"scatter\"}], \"name\": \"1927\"}, {\"data\": [{\"hoverlabel\": {\"namelength\": 0}, \"hovertemplate\": \"YearBuilt=1920<br>LotArea=%{x}<br>SalePrice=%{y}<br>Cluster=%{marker.color}\", \"legendgroup\": \"\", \"marker\": {\"color\": [2, 3, 2, 2, 1, 2, 2, 2, 2, 2, 2, 2, 2, 2, 2, 2, 2, 1, 2, 2, 2, 2, 2, 2, 1, 2, 2, 2, 1, 2], \"coloraxis\": \"coloraxis\", \"symbol\": \"circle\"}, \"mode\": \"markers\", \"name\": \"\", \"showlegend\": false, \"x\": [8500, 4456, 7200, 10625, 7588, 7920, 6402, 10690, 8967, 5586, 4400, 12354, 7879, 9098, 6155, 11040, 5400, 15863, 8400, 8263, 8731, 9000, 10800, 7500, 10440, 6000, 12513, 5400, 7200, 6120], \"xaxis\": \"x\", \"y\": [40000, 113000, 101000, 83000, 200100, 89500, 78000, 147000, 67000, 79900, 116000, 110000, 34900, 86000, 128000, 108000, 86000, 197000, 60000, 118400, 144000, 143000, 120000, 68400, 256000, 108500, 104900, 105000, 157000, 137500], \"yaxis\": \"y\", \"type\": \"scatter\"}], \"name\": \"1920\"}, {\"data\": [{\"hoverlabel\": {\"namelength\": 0}, \"hovertemplate\": \"YearBuilt=1966<br>LotArea=%{x}<br>SalePrice=%{y}<br>Cluster=%{marker.color}\", \"legendgroup\": \"\", \"marker\": {\"color\": [2, 2, 1, 1, 0, 0, 1, 2, 1, 0, 2, 1, 2, 2, 2, 2, 0, 2], \"coloraxis\": \"coloraxis\", \"symbol\": \"circle\"}, \"mode\": \"markers\", \"name\": \"\", \"showlegend\": false, \"x\": [8544, 7742, 7590, 14200, 16492, 11777, 7700, 7162, 12205, 13400, 9020, 9130, 11000, 8900, 7094, 9477, 19690, 8400], \"xaxis\": \"x\", \"y\": [149350, 127000, 155000, 226000, 190000, 164500, 155000, 109900, 187500, 159950, 174900, 173000, 154000, 107000, 125000, 110000, 274970, 129000], \"yaxis\": \"y\", \"type\": \"scatter\"}], \"name\": \"1966\"}, {\"data\": [{\"hoverlabel\": {\"namelength\": 0}, \"hovertemplate\": \"YearBuilt=1959<br>LotArea=%{x}<br>SalePrice=%{y}<br>Cluster=%{marker.color}\", \"legendgroup\": \"\", \"marker\": {\"color\": [2, 2, 2, 2, 2, 2, 0, 0, 2, 0, 2, 2, 2, 2, 2, 0, 2, 2, 2, 2, 0, 2, 2, 2, 0, 2], \"coloraxis\": \"coloraxis\", \"symbol\": \"circle\"}, \"mode\": \"markers\", \"name\": \"\", \"showlegend\": false, \"x\": [10552, 16905, 7945, 9320, 7388, 8760, 9830, 17120, 8339, 15602, 9600, 7332, 10007, 9100, 7931, 8393, 8163, 8910, 7560, 9000, 17755, 12160, 11512, 7500, 17500, 10721], \"xaxis\": \"x\", \"y\": [165500, 170000, 141000, 128950, 150750, 148000, 162000, 134432, 106500, 289000, 124500, 120000, 145500, 127500, 132500, 145000, 143000, 159500, 133700, 80000, 149900, 142000, 177000, 154000, 335000, 142000], \"yaxis\": \"y\", \"type\": \"scatter\"}], \"name\": \"1959\"}, {\"data\": [{\"hoverlabel\": {\"namelength\": 0}, \"hovertemplate\": \"YearBuilt=1994<br>LotArea=%{x}<br>SalePrice=%{y}<br>Cluster=%{marker.color}\", \"legendgroup\": \"\", \"marker\": {\"color\": [2, 2, 1, 1, 1, 0, 1, 1, 1, 1, 2, 1, 2, 1, 0, 0, 1, 2, 1], \"coloraxis\": \"coloraxis\", \"symbol\": \"circle\"}, \"mode\": \"markers\", \"name\": \"\", \"showlegend\": false, \"x\": [10859, 8070, 8880, 8750, 46589, 8125, 21535, 10832, 8125, 8462, 9245, 29959, 8775, 12256, 12461, 14303, 10120, 8072, 10944], \"xaxis\": \"x\", \"y\": [145000, 123600, 205000, 210000, 402000, 193500, 755000, 194500, 174000, 201000, 145000, 248000, 126000, 325000, 262000, 301500, 290000, 138000, 271000], \"yaxis\": \"y\", \"type\": \"scatter\"}], \"name\": \"1994\"}, {\"data\": [{\"hoverlabel\": {\"namelength\": 0}, \"hovertemplate\": \"YearBuilt=1954<br>LotArea=%{x}<br>SalePrice=%{y}<br>Cluster=%{marker.color}\", \"legendgroup\": \"\", \"marker\": {\"color\": [2, 2, 2, 0, 0, 2, 2, 0, 2, 2, 2, 3, 2, 2, 2, 2, 2, 2, 2, 2, 0, 2, 2, 2], \"coloraxis\": \"coloraxis\", \"symbol\": \"circle\"}, \"mode\": \"markers\", \"name\": \"\", \"showlegend\": false, \"x\": [8532, 10200, 9525, 11310, 39104, 7800, 21750, 53227, 12150, 7227, 9250, 6000, 8172, 6000, 9000, 11425, 13284, 9920, 9450, 5400, 14778, 8335, 8190, 10215], \"xaxis\": \"x\", \"y\": [153000, 144900, 136900, 140000, 241500, 132000, 113000, 256000, 131500, 105500, 139400, 93000, 135000, 107900, 118000, 137000, 165000, 128000, 110000, 117000, 224000, 93000, 119000, 111000], \"yaxis\": \"y\", \"type\": \"scatter\"}], \"name\": \"1954\"}, {\"data\": [{\"hoverlabel\": {\"namelength\": 0}, \"hovertemplate\": \"YearBuilt=1953<br>LotArea=%{x}<br>SalePrice=%{y}<br>Cluster=%{marker.color}\", \"legendgroup\": \"\", \"marker\": {\"color\": [2, 0, 0, 0, 3, 2, 0, 2, 2, 2, 0, 2], \"coloraxis\": \"coloraxis\", \"symbol\": \"circle\"}, \"mode\": \"markers\", \"name\": \"\", \"showlegend\": false, \"x\": [7922, 15593, 21000, 9600, 15750, 10634, 10452, 7677, 6000, 8892, 12160, 8923], \"xaxis\": \"x\", \"y\": [109000, 225000, 217000, 167000, 157000, 123000, 155000, 110000, 93000, 116000, 149500, 134500], \"yaxis\": \"y\", \"type\": \"scatter\"}], \"name\": \"1953\"}, {\"data\": [{\"hoverlabel\": {\"namelength\": 0}, \"hovertemplate\": \"YearBuilt=1955<br>LotArea=%{x}<br>SalePrice=%{y}<br>Cluster=%{marker.color}\", \"legendgroup\": \"\", \"marker\": {\"color\": [2, 2, 0, 2, 3, 2, 2, 2, 2, 0, 2, 2, 2, 2, 2, 2], \"coloraxis\": \"coloraxis\", \"symbol\": \"circle\"}, \"mode\": \"markers\", \"name\": \"\", \"showlegend\": false, \"x\": [6040, 7134, 10708, 5820, 34650, 12108, 7200, 8235, 9600, 17920, 16466, 7390, 13680, 10434, 8172, 9600], \"xaxis\": \"x\", \"y\": [82000, 130000, 190000, 126175, 145000, 118000, 107500, 125000, 153000, 170000, 135500, 135000, 139600, 115000, 115000, 165500], \"yaxis\": \"y\", \"type\": \"scatter\"}], \"name\": \"1955\"}, {\"data\": [{\"hoverlabel\": {\"namelength\": 0}, \"hovertemplate\": \"YearBuilt=1983<br>LotArea=%{x}<br>SalePrice=%{y}<br>Cluster=%{marker.color}\", \"legendgroup\": \"\", \"marker\": {\"color\": [2, 2, 1, 2], \"coloraxis\": \"coloraxis\", \"symbol\": \"circle\"}, \"mode\": \"markers\", \"name\": \"\", \"showlegend\": false, \"x\": [9180, 9187, 12327, 8885], \"xaxis\": \"x\", \"y\": [144000, 134000, 316600, 131000], \"yaxis\": \"y\", \"type\": \"scatter\"}], \"name\": \"1983\"}, {\"data\": [{\"hoverlabel\": {\"namelength\": 0}, \"hovertemplate\": \"YearBuilt=1975<br>LotArea=%{x}<br>SalePrice=%{y}<br>Cluster=%{marker.color}\", \"legendgroup\": \"\", \"marker\": {\"color\": [2, 2, 1, 0, 2, 0, 2, 2], \"coloraxis\": \"coloraxis\", \"symbol\": \"circle\"}, \"mode\": \"markers\", \"name\": \"\", \"showlegend\": false, \"x\": [9200, 10356, 11475, 70761, 7990, 16647, 9400, 10140], \"xaxis\": \"x\", \"y\": [130250, 122000, 179900, 280000, 110000, 171000, 127500, 153500], \"yaxis\": \"y\", \"type\": \"scatter\"}], \"name\": \"1975\"}, {\"data\": [{\"hoverlabel\": {\"namelength\": 0}, \"hovertemplate\": \"YearBuilt=1997<br>LotArea=%{x}<br>SalePrice=%{y}<br>Cluster=%{marker.color}\", \"legendgroup\": \"\", \"marker\": {\"color\": [2, 1, 1, 1, 1, 1, 0, 1, 0, 0, 1, 1, 1, 1], \"coloraxis\": \"coloraxis\", \"symbol\": \"circle\"}, \"mode\": \"markers\", \"name\": \"\", \"showlegend\": false, \"x\": [13869, 9375, 9337, 15426, 11207, 7399, 7060, 10839, 13125, 9236, 12798, 13006, 9452, 8773], \"xaxis\": \"x\", \"y\": [177000, 219500, 204750, 231500, 185000, 239000, 206300, 181000, 208900, 217000, 200000, 222000, 348000, 169000], \"yaxis\": \"y\", \"type\": \"scatter\"}], \"name\": \"1997\"}, {\"data\": [{\"hoverlabel\": {\"namelength\": 0}, \"hovertemplate\": \"YearBuilt=1934<br>LotArea=%{x}<br>SalePrice=%{y}<br>Cluster=%{marker.color}\", \"legendgroup\": \"\", \"marker\": {\"color\": [2, 1, 1], \"coloraxis\": \"coloraxis\", \"symbol\": \"circle\"}, \"mode\": \"markers\", \"name\": \"\", \"showlegend\": false, \"x\": [6240, 11988, 12168], \"xaxis\": \"x\", \"y\": [114500, 188700, 359100], \"yaxis\": \"y\", \"type\": \"scatter\"}], \"name\": \"1934\"}, {\"data\": [{\"hoverlabel\": {\"namelength\": 0}, \"hovertemplate\": \"YearBuilt=1963<br>LotArea=%{x}<br>SalePrice=%{y}<br>Cluster=%{marker.color}\", \"legendgroup\": \"\", \"marker\": {\"color\": [2, 0, 0, 2, 2, 0, 2, 2, 1, 2, 2, 0, 2, 0, 0, 2], \"coloraxis\": \"coloraxis\", \"symbol\": \"circle\"}, \"mode\": \"markers\", \"name\": \"\", \"showlegend\": false, \"x\": [8472, 9100, 9500, 8480, 8800, 12886, 25286, 8414, 7056, 8816, 7500, 35133, 11235, 9790, 8700, 9204], \"xaxis\": \"x\", \"y\": [110000, 125000, 159000, 132500, 137500, 175000, 132250, 154500, 140000, 139000, 133000, 186700, 148000, 143000, 155000, 124000], \"yaxis\": \"y\", \"type\": \"scatter\"}], \"name\": \"1963\"}, {\"data\": [{\"hoverlabel\": {\"namelength\": 0}, \"hovertemplate\": \"YearBuilt=1981<br>LotArea=%{x}<br>SalePrice=%{y}<br>Cluster=%{marker.color}\", \"legendgroup\": \"\", \"marker\": {\"color\": [0, 0, 0, 0, 0], \"coloraxis\": \"coloraxis\", \"symbol\": \"circle\"}, \"mode\": \"markers\", \"name\": \"\", \"showlegend\": false, \"x\": [50271, 16669, 12090, 9600, 12546], \"xaxis\": \"x\", \"y\": [385000, 228000, 175500, 278000, 182900], \"yaxis\": \"y\", \"type\": \"scatter\"}], \"name\": \"1981\"}, {\"data\": [{\"hoverlabel\": {\"namelength\": 0}, \"hovertemplate\": \"YearBuilt=1964<br>LotArea=%{x}<br>SalePrice=%{y}<br>Cluster=%{marker.color}\", \"legendgroup\": \"\", \"marker\": {\"color\": [0, 2, 2, 0, 3, 2, 2, 1, 1, 1, 1, 0, 2, 0, 2], \"coloraxis\": \"coloraxis\", \"symbol\": \"circle\"}, \"mode\": \"markers\", \"name\": \"\", \"showlegend\": false, \"x\": [10175, 8250, 9350, 10624, 9020, 9937, 10004, 12095, 9760, 9500, 9760, 8800, 7800, 36500, 14112], \"xaxis\": \"x\", \"y\": [180500, 145000, 158000, 119000, 168500, 167000, 167000, 158000, 187000, 165000, 167900, 160000, 115000, 190000, 180500], \"yaxis\": \"y\", \"type\": \"scatter\"}], \"name\": \"1964\"}, {\"data\": [{\"hoverlabel\": {\"namelength\": 0}, \"hovertemplate\": \"YearBuilt=1999<br>LotArea=%{x}<br>SalePrice=%{y}<br>Cluster=%{marker.color}\", \"legendgroup\": \"\", \"marker\": {\"color\": [3, 0, 3, 1, 0, 0, 1, 1, 0, 3, 3, 1, 0, 1, 3, 3, 1, 3, 3, 1, 3, 1, 1, 1, 1], \"coloraxis\": \"coloraxis\", \"symbol\": \"circle\"}, \"mode\": \"markers\", \"name\": \"\", \"showlegend\": false, \"x\": [2645, 10264, 3230, 9066, 10335, 9017, 8738, 11764, 9382, 3230, 2280, 9430, 5119, 8755, 2572, 2160, 7500, 2645, 4500, 24682, 3735, 10762, 14774, 9179, 7917], \"xaxis\": \"x\", \"y\": [172500, 214000, 176000, 230000, 204000, 192000, 230000, 290000, 191000, 172500, 179400, 337000, 328900, 214000, 155000, 160000, 189000, 174000, 165000, 181000, 183900, 225000, 333168, 193000, 175000], \"yaxis\": \"y\", \"type\": \"scatter\"}], \"name\": \"1999\"}, {\"data\": [{\"hoverlabel\": {\"namelength\": 0}, \"hovertemplate\": \"YearBuilt=1972<br>LotArea=%{x}<br>SalePrice=%{y}<br>Cluster=%{marker.color}\", \"legendgroup\": \"\", \"marker\": {\"color\": [2, 1, 2, 3, 2, 3, 2, 3, 1, 2, 3, 1, 1, 2, 2, 2, 2, 2, 3, 1, 3, 2, 2], \"coloraxis\": \"coloraxis\", \"symbol\": \"circle\"}, \"mode\": \"markers\", \"name\": \"\", \"showlegend\": false, \"x\": [7200, 7472, 7180, 1680, 9800, 1680, 7200, 1890, 10448, 12735, 1491, 10400, 13860, 10012, 15523, 9360, 7200, 7700, 1680, 12936, 1680, 9560, 8445], \"xaxis\": \"x\", \"y\": [124900, 184000, 127000, 94500, 149900, 118000, 123000, 81000, 158000, 111250, 75500, 165150, 345000, 137500, 133500, 197500, 133900, 112500, 118000, 162000, 119500, 128500, 133000], \"yaxis\": \"y\", \"type\": \"scatter\"}], \"name\": \"1972\"}, {\"data\": [{\"hoverlabel\": {\"namelength\": 0}, \"hovertemplate\": \"YearBuilt=1921<br>LotArea=%{x}<br>SalePrice=%{y}<br>Cluster=%{marker.color}\", \"legendgroup\": \"\", \"marker\": {\"color\": [2, 2, 2, 2, 2, 1], \"coloraxis\": \"coloraxis\", \"symbol\": \"circle\"}, \"mode\": \"markers\", \"name\": \"\", \"showlegend\": false, \"x\": [10300, 13360, 5400, 6000, 7681, 9842], \"xaxis\": \"x\", \"y\": [140000, 163500, 108480, 89000, 154900, 189000], \"yaxis\": \"y\", \"type\": \"scatter\"}], \"name\": \"1921\"}, {\"data\": [{\"hoverlabel\": {\"namelength\": 0}, \"hovertemplate\": \"YearBuilt=1945<br>LotArea=%{x}<br>SalePrice=%{y}<br>Cluster=%{marker.color}\", \"legendgroup\": \"\", \"marker\": {\"color\": [2, 1, 1, 2, 2, 2], \"coloraxis\": \"coloraxis\", \"symbol\": \"circle\"}, \"mode\": \"markers\", \"name\": \"\", \"showlegend\": false, \"x\": [4608, 7259, 8741, 3880, 8405, 10930], \"xaxis\": \"x\", \"y\": [80000, 259500, 113000, 110500, 98000, 140000], \"yaxis\": \"y\", \"type\": \"scatter\"}], \"name\": \"1945\"}, {\"data\": [{\"hoverlabel\": {\"namelength\": 0}, \"hovertemplate\": \"YearBuilt=1982<br>LotArea=%{x}<br>SalePrice=%{y}<br>Cluster=%{marker.color}\", \"legendgroup\": \"\", \"marker\": {\"color\": [2, 2, 2, 2, 2, 2], \"coloraxis\": \"coloraxis\", \"symbol\": \"circle\"}, \"mode\": \"markers\", \"name\": \"\", \"showlegend\": false, \"x\": [7599, 8314, 8740, 6600, 7252, 6600], \"xaxis\": \"x\", \"y\": [129500, 124500, 137000, 138000, 134900, 130500], \"yaxis\": \"y\", \"type\": \"scatter\"}], \"name\": \"1982\"}, {\"data\": [{\"hoverlabel\": {\"namelength\": 0}, \"hovertemplate\": \"YearBuilt=1998<br>LotArea=%{x}<br>SalePrice=%{y}<br>Cluster=%{marker.color}\", \"legendgroup\": \"\", \"marker\": {\"color\": [1, 3, 1, 1, 1, 1, 1, 1, 3, 1, 1, 0, 3, 1, 1, 3, 0, 1, 1, 1, 3, 1, 0, 1, 1], \"coloraxis\": \"coloraxis\", \"symbol\": \"circle\"}, \"mode\": \"markers\", \"name\": \"\", \"showlegend\": false, \"x\": [10141, 4500, 16226, 9042, 12011, 12090, 9200, 11214, 4500, 9531, 8924, 10140, 4058, 16770, 11404, 4500, 12137, 8750, 12203, 10400, 4060, 9084, 16196, 9750, 16545], \"xaxis\": \"x\", \"y\": [185000, 153500, 267000, 192000, 280000, 258000, 315000, 199900, 164000, 211000, 188000, 213250, 133000, 221000, 222500, 162000, 224900, 200500, 336000, 197900, 181000, 176500, 215000, 274300, 340000], \"yaxis\": \"y\", \"type\": \"scatter\"}], \"name\": \"1998\"}, {\"data\": [{\"hoverlabel\": {\"namelength\": 0}, \"hovertemplate\": \"YearBuilt=1956<br>LotArea=%{x}<br>SalePrice=%{y}<br>Cluster=%{marker.color}\", \"legendgroup\": \"\", \"marker\": {\"color\": [2, 2, 2, 2, 2, 0, 2, 2, 2, 2, 2, 2, 2, 2], \"coloraxis\": \"coloraxis\", \"symbol\": \"circle\"}, \"mode\": \"markers\", \"name\": \"\", \"showlegend\": false, \"x\": [8475, 5500, 12702, 9571, 9000, 9855, 13300, 14175, 17140, 10152, 5868, 8926, 14115, 9600], \"xaxis\": \"x\", \"y\": [135750, 103200, 97000, 129000, 139000, 127500, 132000, 168000, 135000, 135000, 129000, 112000, 230000, 128900], \"yaxis\": \"y\", \"type\": \"scatter\"}], \"name\": \"1956\"}, {\"data\": [{\"hoverlabel\": {\"namelength\": 0}, \"hovertemplate\": \"YearBuilt=1948<br>LotArea=%{x}<br>SalePrice=%{y}<br>Cluster=%{marker.color}\", \"legendgroup\": \"\", \"marker\": {\"color\": [2, 2, 2, 2, 2, 2, 2, 0, 2, 2, 2, 3, 2, 0], \"coloraxis\": \"coloraxis\", \"symbol\": \"circle\"}, \"mode\": \"markers\", \"name\": \"\", \"showlegend\": false, \"x\": [8635, 6000, 8000, 6000, 7800, 17503, 8100, 14762, 21286, 11664, 7585, 11345, 12000, 57200], \"xaxis\": \"x\", \"y\": [127000, 115000, 132000, 120000, 225000, 97500, 153500, 169000, 135000, 119200, 91500, 137000, 147000, 160000], \"yaxis\": \"y\", \"type\": \"scatter\"}], \"name\": \"1948\"}, {\"data\": [{\"hoverlabel\": {\"namelength\": 0}, \"hovertemplate\": \"YearBuilt=1910<br>LotArea=%{x}<br>SalePrice=%{y}<br>Cluster=%{marker.color}\", \"legendgroup\": \"\", \"marker\": {\"color\": [2, 3, 3, 2, 3, 2, 2, 2, 2, 2, 2, 2, 2, 3, 0, 2, 2], \"coloraxis\": \"coloraxis\", \"symbol\": \"circle\"}, \"mode\": \"markers\", \"name\": \"\", \"showlegend\": false, \"x\": [10440, 7200, 9142, 8410, 7000, 3600, 8777, 9600, 8800, 5925, 11414, 5310, 7200, 10120, 5362, 7740, 11767], \"xaxis\": \"x\", \"y\": [110000, 133900, 137000, 81000, 107500, 114504, 85000, 132000, 96500, 37900, 167500, 117000, 85000, 122000, 139000, 125500, 112000], \"yaxis\": \"y\", \"type\": \"scatter\"}], \"name\": \"1910\"}, {\"data\": [{\"hoverlabel\": {\"namelength\": 0}, \"hovertemplate\": \"YearBuilt=1995<br>LotArea=%{x}<br>SalePrice=%{y}<br>Cluster=%{marker.color}\", \"legendgroup\": \"\", \"marker\": {\"color\": [1, 2, 1, 1, 0, 1, 0, 0, 1, 3, 0, 2, 1, 1, 1, 1, 1, 1], \"coloraxis\": \"coloraxis\", \"symbol\": \"circle\"}, \"mode\": \"markers\", \"name\": \"\", \"showlegend\": false, \"x\": [8530, 13568, 9950, 15138, 11249, 10364, 10437, 5389, 12257, 9549, 7875, 9525, 13031, 8000, 9828, 35760, 14720, 10000], \"xaxis\": \"x\", \"y\": [168500, 156000, 290000, 403000, 177500, 168000, 350000, 236500, 290000, 270000, 176000, 144000, 187500, 188000, 239500, 625000, 410000, 240000], \"yaxis\": \"y\", \"type\": \"scatter\"}], \"name\": \"1995\"}, {\"data\": [{\"hoverlabel\": {\"namelength\": 0}, \"hovertemplate\": \"YearBuilt=1991<br>LotArea=%{x}<br>SalePrice=%{y}<br>Cluster=%{marker.color}\", \"legendgroup\": \"\", \"marker\": {\"color\": [1, 1, 1, 2, 0], \"coloraxis\": \"coloraxis\", \"symbol\": \"circle\"}, \"mode\": \"markers\", \"name\": \"\", \"showlegend\": false, \"x\": [16059, 13125, 10784, 10712, 7153], \"xaxis\": \"x\", \"y\": [260000, 238000, 160000, 93500, 179200], \"yaxis\": \"y\", \"type\": \"scatter\"}], \"name\": \"1991\"}, {\"data\": [{\"hoverlabel\": {\"namelength\": 0}, \"hovertemplate\": \"YearBuilt=2009<br>LotArea=%{x}<br>SalePrice=%{y}<br>Cluster=%{marker.color}\", \"legendgroup\": \"\", \"marker\": {\"color\": [3, 0, 1, 0, 1, 0, 1, 0, 0, 1, 0, 1, 0, 0, 3, 0, 0, 0], \"coloraxis\": \"coloraxis\", \"symbol\": \"circle\"}, \"mode\": \"markers\", \"name\": \"\", \"showlegend\": false, \"x\": [3951, 10402, 12003, 10420, 8640, 4403, 8004, 7862, 12220, 13159, 9187, 8640, 6371, 12919, 3000, 10159, 9541, 8640], \"xaxis\": \"x\", \"y\": [164500, 198900, 269500, 186000, 252678, 222000, 263435, 208300, 402861, 224500, 370878, 215200, 224000, 611657, 173733, 395192, 233170, 229456], \"yaxis\": \"y\", \"type\": \"scatter\"}], \"name\": \"2009\"}, {\"data\": [{\"hoverlabel\": {\"namelength\": 0}, \"hovertemplate\": \"YearBuilt=1950<br>LotArea=%{x}<br>SalePrice=%{y}<br>Cluster=%{marker.color}\", \"legendgroup\": \"\", \"marker\": {\"color\": [2, 2, 0, 2, 2, 2, 2, 2, 2, 3, 2, 2, 3, 3, 2, 2, 2, 2, 2, 2], \"coloraxis\": \"coloraxis\", \"symbol\": \"circle\"}, \"mode\": \"markers\", \"name\": \"\", \"showlegend\": false, \"x\": [7200, 7200, 12615, 13710, 14000, 8400, 7015, 9600, 7200, 8544, 9600, 7200, 10880, 8544, 9600, 8280, 7200, 7200, 9600, 9717], \"xaxis\": \"x\", \"y\": [109900, 109500, 243000, 152000, 158500, 82000, 110000, 147000, 98300, 93500, 128000, 129000, 125000, 92900, 119000, 124000, 119000, 138000, 140000, 142125], \"yaxis\": \"y\", \"type\": \"scatter\"}], \"name\": \"1950\"}, {\"data\": [{\"hoverlabel\": {\"namelength\": 0}, \"hovertemplate\": \"YearBuilt=1961<br>LotArea=%{x}<br>SalePrice=%{y}<br>Cluster=%{marker.color}\", \"legendgroup\": \"\", \"marker\": {\"color\": [2, 0, 2, 2, 2, 2, 2, 2, 2, 2, 2, 2, 2, 3], \"coloraxis\": \"coloraxis\", \"symbol\": \"circle\"}, \"mode\": \"markers\", \"name\": \"\", \"showlegend\": false, \"x\": [8500, 10197, 7943, 9945, 10000, 6768, 7875, 8000, 6970, 11782, 6993, 12122, 10659, 32463], \"xaxis\": \"x\", \"y\": [98600, 163000, 118500, 128500, 131400, 142000, 139950, 141000, 129000, 148000, 135000, 178400, 136500, 168000], \"yaxis\": \"y\", \"type\": \"scatter\"}], \"name\": \"1961\"}, {\"data\": [{\"hoverlabel\": {\"namelength\": 0}, \"hovertemplate\": \"YearBuilt=1977<br>LotArea=%{x}<br>SalePrice=%{y}<br>Cluster=%{marker.color}\", \"legendgroup\": \"\", \"marker\": {\"color\": [0, 0, 0, 2, 2, 1, 1, 0, 1, 3, 0, 2, 0, 2, 0, 2, 2, 2, 2, 3, 1, 3, 2, 1, 0, 2, 1, 2, 0, 3, 3, 0], \"coloraxis\": \"coloraxis\", \"symbol\": \"circle\"}, \"mode\": \"markers\", \"name\": \"\", \"showlegend\": false, \"x\": [10603, 11751, 10125, 10900, 8471, 10005, 16659, 16635, 11952, 4043, 12984, 7064, 11900, 11250, 8400, 10530, 8197, 9286, 15611, 7711, 12227, 10125, 8385, 7950, 9819, 9880, 18890, 8800, 9650, 2665, 4043, 17400], \"xaxis\": \"x\", \"y\": [205000, 190000, 171500, 161750, 151000, 192000, 235000, 215000, 190000, 140000, 217500, 135000, 82500, 165000, 144000, 135000, 143500, 143500, 175000, 150000, 272000, 126000, 149900, 159500, 196000, 171000, 190000, 150500, 167900, 127000, 127500, 160000], \"yaxis\": \"y\", \"type\": \"scatter\"}], \"name\": \"1977\"}, {\"data\": [{\"hoverlabel\": {\"namelength\": 0}, \"hovertemplate\": \"YearBuilt=1985<br>LotArea=%{x}<br>SalePrice=%{y}<br>Cluster=%{marker.color}\", \"legendgroup\": \"\", \"marker\": {\"color\": [1, 3, 0, 0, 2], \"coloraxis\": \"coloraxis\", \"symbol\": \"circle\"}, \"mode\": \"markers\", \"name\": \"\", \"showlegend\": false, \"x\": [9206, 6820, 6563, 11200, 8780], \"xaxis\": \"x\", \"y\": [178000, 212000, 275000, 180000, 112000], \"yaxis\": \"y\", \"type\": \"scatter\"}], \"name\": \"1985\"}, {\"data\": [{\"hoverlabel\": {\"namelength\": 0}, \"hovertemplate\": \"YearBuilt=1979<br>LotArea=%{x}<br>SalePrice=%{y}<br>Cluster=%{marker.color}\", \"legendgroup\": \"\", \"marker\": {\"color\": [3, 0, 1, 0, 3, 1, 3, 2, 1], \"coloraxis\": \"coloraxis\", \"symbol\": \"circle\"}, \"mode\": \"markers\", \"name\": \"\", \"showlegend\": false, \"x\": [7018, 17043, 7018, 7032, 7018, 7018, 7892, 23595, 11584], \"xaxis\": \"x\", \"y\": [118964, 181000, 153337, 135960, 118858, 142953, 99500, 260000, 197000], \"yaxis\": \"y\", \"type\": \"scatter\"}], \"name\": \"1979\"}, {\"data\": [{\"hoverlabel\": {\"namelength\": 0}, \"hovertemplate\": \"YearBuilt=1885<br>LotArea=%{x}<br>SalePrice=%{y}<br>Cluster=%{marker.color}\", \"legendgroup\": \"\", \"marker\": {\"color\": [2, 3], \"coloraxis\": \"coloraxis\", \"symbol\": \"circle\"}, \"mode\": \"markers\", \"name\": \"\", \"showlegend\": false, \"x\": [10800, 11340], \"xaxis\": \"x\", \"y\": [100000, 122500], \"yaxis\": \"y\", \"type\": \"scatter\"}], \"name\": \"1885\"}, {\"data\": [{\"hoverlabel\": {\"namelength\": 0}, \"hovertemplate\": \"YearBuilt=1919<br>LotArea=%{x}<br>SalePrice=%{y}<br>Cluster=%{marker.color}\", \"legendgroup\": \"\", \"marker\": {\"color\": [2, 2, 0], \"coloraxis\": \"coloraxis\", \"symbol\": \"circle\"}, \"mode\": \"markers\", \"name\": \"\", \"showlegend\": false, \"x\": [8500, 13515, 9638], \"xaxis\": \"x\", \"y\": [115000, 180500, 169000], \"yaxis\": \"y\", \"type\": \"scatter\"}], \"name\": \"1919\"}, {\"data\": [{\"hoverlabel\": {\"namelength\": 0}, \"hovertemplate\": \"YearBuilt=1990<br>LotArea=%{x}<br>SalePrice=%{y}<br>Cluster=%{marker.color}\", \"legendgroup\": \"\", \"marker\": {\"color\": [1, 0, 0, 1, 2, 1, 1, 0, 1, 0, 0, 1], \"coloraxis\": \"coloraxis\", \"symbol\": \"circle\"}, \"mode\": \"markers\", \"name\": \"\", \"showlegend\": false, \"x\": [12376, 9947, 11851, 13474, 11841, 13758, 11839, 10357, 11170, 14684, 8049, 9572], \"xaxis\": \"x\", \"y\": [320000, 173000, 180500, 225000, 118500, 187500, 262280, 179900, 250000, 271900, 180000, 302000], \"yaxis\": \"y\", \"type\": \"scatter\"}], \"name\": \"1990\"}, {\"data\": [{\"hoverlabel\": {\"namelength\": 0}, \"hovertemplate\": \"YearBuilt=1969<br>LotArea=%{x}<br>SalePrice=%{y}<br>Cluster=%{marker.color}\", \"legendgroup\": \"\", \"marker\": {\"color\": [0, 1, 1, 2, 2, 2, 1, 2, 3, 2, 2, 1, 1, 0], \"coloraxis\": \"coloraxis\", \"symbol\": \"circle\"}, \"mode\": \"markers\", \"name\": \"\", \"showlegend\": false, \"x\": [21453, 11606, 10793, 9600, 9920, 7930, 11075, 15870, 12900, 9364, 9750, 11075, 11643, 16381], \"xaxis\": \"x\", \"y\": [180000, 135000, 152000, 140000, 128500, 156000, 172000, 138800, 108959, 158000, 151000, 206900, 200000, 223000], \"yaxis\": \"y\", \"type\": \"scatter\"}], \"name\": \"1969\"}, {\"data\": [{\"hoverlabel\": {\"namelength\": 0}, \"hovertemplate\": \"YearBuilt=1935<br>LotArea=%{x}<br>SalePrice=%{y}<br>Cluster=%{marker.color}\", \"legendgroup\": \"\", \"marker\": {\"color\": [3, 2, 2, 0, 1, 1], \"coloraxis\": \"coloraxis\", \"symbol\": \"circle\"}, \"mode\": \"markers\", \"name\": \"\", \"showlegend\": false, \"x\": [6780, 6120, 4130, 18000, 13728, 14100], \"xaxis\": \"x\", \"y\": [84500, 133000, 52000, 81000, 235000, 381000], \"yaxis\": \"y\", \"type\": \"scatter\"}], \"name\": \"1935\"}, {\"data\": [{\"hoverlabel\": {\"namelength\": 0}, \"hovertemplate\": \"YearBuilt=1988<br>LotArea=%{x}<br>SalePrice=%{y}<br>Cluster=%{marker.color}\", \"legendgroup\": \"\", \"marker\": {\"color\": [0, 1, 1, 0, 0, 0, 1, 0, 0, 1, 0], \"coloraxis\": \"coloraxis\", \"symbol\": \"circle\"}, \"mode\": \"markers\", \"name\": \"\", \"showlegend\": false, \"x\": [11070, 10029, 14364, 10400, 11457, 10200, 13837, 4671, 21695, 10421, 12134], \"xaxis\": \"x\", \"y\": [171000, 211000, 277000, 241500, 175000, 175000, 229000, 189000, 222000, 196500, 164000], \"yaxis\": \"y\", \"type\": \"scatter\"}], \"name\": \"1988\"}, {\"data\": [{\"hoverlabel\": {\"namelength\": 0}, \"hovertemplate\": \"YearBuilt=1971<br>LotArea=%{x}<br>SalePrice=%{y}<br>Cluster=%{marker.color}\", \"legendgroup\": \"\", \"marker\": {\"color\": [2, 1, 2, 3, 3, 2, 3, 3, 0, 2, 2, 3, 0, 2, 2, 0, 2, 3, 1, 2, 2, 2], \"coloraxis\": \"coloraxis\", \"symbol\": \"circle\"}, \"mode\": \"markers\", \"name\": \"\", \"showlegend\": false, \"x\": [10500, 14803, 10500, 1680, 1680, 8125, 1680, 1920, 12243, 10500, 10530, 1680, 115149, 8816, 7340, 11040, 9758, 1680, 9400, 8294, 12537, 9000], \"xaxis\": \"x\", \"y\": [115000, 190000, 97000, 112000, 89500, 88000, 85400, 122500, 175000, 139000, 143250, 88000, 302000, 155000, 110000, 145000, 119500, 91500, 139000, 123000, 149900, 120500], \"yaxis\": \"y\", \"type\": \"scatter\"}], \"name\": \"1971\"}, {\"data\": [{\"hoverlabel\": {\"namelength\": 0}, \"hovertemplate\": \"YearBuilt=1952<br>LotArea=%{x}<br>SalePrice=%{y}<br>Cluster=%{marker.color}\", \"legendgroup\": \"\", \"marker\": {\"color\": [2, 3, 2, 2, 2], \"coloraxis\": \"coloraxis\", \"symbol\": \"circle\"}, \"mode\": \"markers\", \"name\": \"\", \"showlegend\": false, \"x\": [8520, 7596, 6420, 8712, 10206], \"xaxis\": \"x\", \"y\": [166000, 124500, 123500, 55993, 82000], \"yaxis\": \"y\", \"type\": \"scatter\"}], \"name\": \"1952\"}, {\"data\": [{\"hoverlabel\": {\"namelength\": 0}, \"hovertemplate\": \"YearBuilt=1936<br>LotArea=%{x}<br>SalePrice=%{y}<br>Cluster=%{marker.color}\", \"legendgroup\": \"\", \"marker\": {\"color\": [2, 2, 2, 2, 2, 2, 1, 0, 2], \"coloraxis\": \"coloraxis\", \"symbol\": \"circle\"}, \"mode\": \"markers\", \"name\": \"\", \"showlegend\": false, \"x\": [6240, 10480, 7200, 6120, 6120, 8765, 11500, 10800, 6000], \"xaxis\": \"x\", \"y\": [115000, 115000, 155000, 60000, 141500, 106500, 250000, 170000, 128000], \"yaxis\": \"y\", \"type\": \"scatter\"}], \"name\": \"1936\"}, {\"data\": [{\"hoverlabel\": {\"namelength\": 0}, \"hovertemplate\": \"YearBuilt=1923<br>LotArea=%{x}<br>SalePrice=%{y}<br>Cluster=%{marker.color}\", \"legendgroup\": \"\", \"marker\": {\"color\": [2, 2, 1, 1, 2, 1, 1], \"coloraxis\": \"coloraxis\", \"symbol\": \"circle\"}, \"mode\": \"markers\", \"name\": \"\", \"showlegend\": false, \"x\": [11340, 8520, 8737, 21384, 5900, 10592, 13053], \"xaxis\": \"x\", \"y\": [125000, 100000, 210000, 223500, 85500, 165000, 207000], \"yaxis\": \"y\", \"type\": \"scatter\"}], \"name\": \"1923\"}, {\"data\": [{\"hoverlabel\": {\"namelength\": 0}, \"hovertemplate\": \"YearBuilt=1924<br>LotArea=%{x}<br>SalePrice=%{y}<br>Cluster=%{marker.color}\", \"legendgroup\": \"\", \"marker\": {\"color\": [2, 2, 2, 2, 2, 2, 2], \"coloraxis\": \"coloraxis\", \"symbol\": \"circle\"}, \"mode\": \"markers\", \"name\": \"\", \"showlegend\": false, \"x\": [9600, 7000, 5000, 9022, 6911, 6130, 9738], \"xaxis\": \"x\", \"y\": [79000, 112000, 127000, 109500, 100000, 109500, 104900], \"yaxis\": \"y\", \"type\": \"scatter\"}], \"name\": \"1924\"}, {\"data\": [{\"hoverlabel\": {\"namelength\": 0}, \"hovertemplate\": \"YearBuilt=1984<br>LotArea=%{x}<br>SalePrice=%{y}<br>Cluster=%{marker.color}\", \"legendgroup\": \"\", \"marker\": {\"color\": [2, 2, 0, 3, 3, 2, 3, 2, 1], \"coloraxis\": \"coloraxis\", \"symbol\": \"circle\"}, \"mode\": \"markers\", \"name\": \"\", \"showlegend\": false, \"x\": [11120, 7937, 14145, 7175, 5062, 9672, 5814, 6951, 12090], \"xaxis\": \"x\", \"y\": [162500, 142500, 202500, 125000, 207500, 152000, 187500, 119500, 178000], \"yaxis\": \"y\", \"type\": \"scatter\"}], \"name\": \"1984\"}, {\"data\": [{\"hoverlabel\": {\"namelength\": 0}, \"hovertemplate\": \"YearBuilt=1926<br>LotArea=%{x}<br>SalePrice=%{y}<br>Cluster=%{marker.color}\", \"legendgroup\": \"\", \"marker\": {\"color\": [2, 2, 2, 1, 2, 2, 2, 2, 2], \"coloraxis\": \"coloraxis\", \"symbol\": \"circle\"}, \"mode\": \"markers\", \"name\": \"\", \"showlegend\": false, \"x\": [5400, 6000, 10594, 10918, 5825, 6000, 6180, 5700, 3950], \"xaxis\": \"x\", \"y\": [152000, 119000, 96500, 234000, 79900, 102000, 102000, 116900, 115000], \"yaxis\": \"y\", \"type\": \"scatter\"}], \"name\": \"1926\"}, {\"data\": [{\"hoverlabel\": {\"namelength\": 0}, \"hovertemplate\": \"YearBuilt=1940<br>LotArea=%{x}<br>SalePrice=%{y}<br>Cluster=%{marker.color}\", \"legendgroup\": \"\", \"marker\": {\"color\": [3, 2, 2, 2, 2, 2, 2, 2, 2, 2, 2, 2, 2, 1, 2, 1, 2, 2], \"coloraxis\": \"coloraxis\", \"symbol\": \"circle\"}, \"mode\": \"markers\", \"name\": \"\", \"showlegend\": false, \"x\": [10106, 5350, 6900, 12342, 8400, 9144, 10134, 10200, 8160, 13907, 9084, 12508, 9900, 24090, 9600, 13125, 5330, 7200], \"xaxis\": \"x\", \"y\": [127500, 76500, 120500, 82500, 140000, 145000, 109000, 108000, 126000, 108000, 108000, 160000, 139500, 244400, 160000, 219500, 82500, 119000], \"yaxis\": \"y\", \"type\": \"scatter\"}], \"name\": \"1940\"}, {\"data\": [{\"hoverlabel\": {\"namelength\": 0}, \"hovertemplate\": \"YearBuilt=1941<br>LotArea=%{x}<br>SalePrice=%{y}<br>Cluster=%{marker.color}\", \"legendgroup\": \"\", \"marker\": {\"color\": [2, 2, 2, 2, 2, 0, 2, 2, 3, 1, 2, 2, 2, 2, 1], \"coloraxis\": \"coloraxis\", \"symbol\": \"circle\"}, \"mode\": \"markers\", \"name\": \"\", \"showlegend\": false, \"x\": [12358, 5000, 9084, 7446, 9490, 7128, 5720, 9492, 12180, 12000, 9340, 4118, 10998, 6000, 9042], \"xaxis\": \"x\", \"y\": [128500, 87000, 95000, 100000, 133000, 164000, 66500, 105000, 80000, 174500, 113000, 52500, 117000, 131000, 266500], \"yaxis\": \"y\", \"type\": \"scatter\"}], \"name\": \"1941\"}, {\"data\": [{\"hoverlabel\": {\"namelength\": 0}, \"hovertemplate\": \"YearBuilt=1987<br>LotArea=%{x}<br>SalePrice=%{y}<br>Cluster=%{marker.color}\", \"legendgroup\": \"\", \"marker\": {\"color\": [3, 0, 3], \"coloraxis\": \"coloraxis\", \"symbol\": \"circle\"}, \"mode\": \"markers\", \"name\": \"\", \"showlegend\": false, \"x\": [5306, 13811, 10800], \"xaxis\": \"x\", \"y\": [239000, 176000, 179000], \"yaxis\": \"y\", \"type\": \"scatter\"}], \"name\": \"1987\"}, {\"data\": [{\"hoverlabel\": {\"namelength\": 0}, \"hovertemplate\": \"YearBuilt=1986<br>LotArea=%{x}<br>SalePrice=%{y}<br>Cluster=%{marker.color}\", \"legendgroup\": \"\", \"marker\": {\"color\": [0, 1, 3, 3, 1], \"coloraxis\": \"coloraxis\", \"symbol\": \"circle\"}, \"mode\": \"markers\", \"name\": \"\", \"showlegend\": false, \"x\": [12416, 10380, 5271, 3696, 20544], \"xaxis\": \"x\", \"y\": [184000, 301000, 190000, 170000, 215000], \"yaxis\": \"y\", \"type\": \"scatter\"}], \"name\": \"1986\"}, {\"data\": [{\"hoverlabel\": {\"namelength\": 0}, \"hovertemplate\": \"YearBuilt=2008<br>LotArea=%{x}<br>SalePrice=%{y}<br>Cluster=%{marker.color}\", \"legendgroup\": \"\", \"marker\": {\"color\": [0, 0, 0, 0, 1, 1, 0, 1, 0, 0, 1, 1, 0, 1, 0, 0, 1, 0, 1, 0, 0, 1, 0], \"coloraxis\": \"coloraxis\", \"symbol\": \"circle\"}, \"mode\": \"markers\", \"name\": \"\", \"showlegend\": false, \"x\": [17423, 9000, 9612, 15431, 9000, 14948, 12704, 13478, 11844, 14587, 13518, 13891, 12274, 11308, 10475, 5587, 8769, 13214, 63887, 10226, 12444, 11003, 9262], \"xaxis\": \"x\", \"y\": [501837, 262500, 244600, 555000, 210000, 446261, 253293, 451950, 372500, 264132, 485000, 582933, 227680, 335000, 245350, 392500, 367294, 378500, 160000, 295493, 394617, 310000, 287090], \"yaxis\": \"y\", \"type\": \"scatter\"}], \"name\": \"2008\"}, {\"data\": [{\"hoverlabel\": {\"namelength\": 0}, \"hovertemplate\": \"YearBuilt=1908<br>LotArea=%{x}<br>SalePrice=%{y}<br>Cluster=%{marker.color}\", \"legendgroup\": \"\", \"marker\": {\"color\": [2, 1], \"coloraxis\": \"coloraxis\", \"symbol\": \"circle\"}, \"mode\": \"markers\", \"name\": \"\", \"showlegend\": false, \"x\": [7438, 45600], \"xaxis\": \"x\", \"y\": [127000, 240000], \"yaxis\": \"y\", \"type\": \"scatter\"}], \"name\": \"1908\"}, {\"data\": [{\"hoverlabel\": {\"namelength\": 0}, \"hovertemplate\": \"YearBuilt=1892<br>LotArea=%{x}<br>SalePrice=%{y}<br>Cluster=%{marker.color}\", \"legendgroup\": \"\", \"marker\": {\"color\": [1, 1], \"coloraxis\": \"coloraxis\", \"symbol\": \"circle\"}, \"mode\": \"markers\", \"name\": \"\", \"showlegend\": false, \"x\": [22950, 6600], \"xaxis\": \"x\", \"y\": [475000, 107500], \"yaxis\": \"y\", \"type\": \"scatter\"}], \"name\": \"1892\"}, {\"data\": [{\"hoverlabel\": {\"namelength\": 0}, \"hovertemplate\": \"YearBuilt=1916<br>LotArea=%{x}<br>SalePrice=%{y}<br>Cluster=%{marker.color}\", \"legendgroup\": \"\", \"marker\": {\"color\": [1, 0, 2, 2, 3, 2, 1, 2], \"coloraxis\": \"coloraxis\", \"symbol\": \"circle\"}, \"mode\": \"markers\", \"name\": \"\", \"showlegend\": false, \"x\": [10410, 11888, 4571, 4800, 7082, 8850, 8520, 8854], \"xaxis\": \"x\", \"y\": [135000, 214500, 98000, 109900, 160000, 144000, 136000, 121000], \"yaxis\": \"y\", \"type\": \"scatter\"}], \"name\": \"1916\"}, {\"data\": [{\"hoverlabel\": {\"namelength\": 0}, \"hovertemplate\": \"YearBuilt=1932<br>LotArea=%{x}<br>SalePrice=%{y}<br>Cluster=%{marker.color}\", \"legendgroup\": \"\", \"marker\": {\"color\": [1, 2, 1, 1], \"coloraxis\": \"coloraxis\", \"symbol\": \"circle\"}, \"mode\": \"markers\", \"name\": \"\", \"showlegend\": false, \"x\": [10570, 4500, 11275, 16560], \"xaxis\": \"x\", \"y\": [315000, 159434, 220000, 239000], \"yaxis\": \"y\", \"type\": \"scatter\"}], \"name\": \"1932\"}, {\"data\": [{\"hoverlabel\": {\"namelength\": 0}, \"hovertemplate\": \"YearBuilt=1918<br>LotArea=%{x}<br>SalePrice=%{y}<br>Cluster=%{marker.color}\", \"legendgroup\": \"\", \"marker\": {\"color\": [1, 1, 0, 2, 2, 1, 2], \"coloraxis\": \"coloraxis\", \"symbol\": \"circle\"}, \"mode\": \"markers\", \"name\": \"\", \"showlegend\": false, \"x\": [25419, 22420, 21780, 10267, 8248, 7642, 25339], \"xaxis\": \"x\", \"y\": [235000, 239000, 185000, 130000, 116000, 189950, 112000], \"yaxis\": \"y\", \"type\": \"scatter\"}], \"name\": \"1918\"}, {\"data\": [{\"hoverlabel\": {\"namelength\": 0}, \"hovertemplate\": \"YearBuilt=1912<br>LotArea=%{x}<br>SalePrice=%{y}<br>Cluster=%{marker.color}\", \"legendgroup\": \"\", \"marker\": {\"color\": [2, 3, 2], \"coloraxis\": \"coloraxis\", \"symbol\": \"circle\"}, \"mode\": \"markers\", \"name\": \"\", \"showlegend\": false, \"x\": [5520, 5687, 6204], \"xaxis\": \"x\", \"y\": [104000, 135900, 118500], \"yaxis\": \"y\", \"type\": \"scatter\"}], \"name\": \"1912\"}, {\"data\": [{\"hoverlabel\": {\"namelength\": 0}, \"hovertemplate\": \"YearBuilt=1947<br>LotArea=%{x}<br>SalePrice=%{y}<br>Cluster=%{marker.color}\", \"legendgroup\": \"\", \"marker\": {\"color\": [2, 0, 2, 2, 2], \"coloraxis\": \"coloraxis\", \"symbol\": \"circle\"}, \"mode\": \"markers\", \"name\": \"\", \"showlegend\": false, \"x\": [3500, 5000, 8480, 9405, 6240], \"xaxis\": \"x\", \"y\": [110000, 159000, 118500, 118000, 80500], \"yaxis\": \"y\", \"type\": \"scatter\"}], \"name\": \"1947\"}, {\"data\": [{\"hoverlabel\": {\"namelength\": 0}, \"hovertemplate\": \"YearBuilt=1925<br>LotArea=%{x}<br>SalePrice=%{y}<br>Cluster=%{marker.color}\", \"legendgroup\": \"\", \"marker\": {\"color\": [2, 2, 2, 1, 1, 2, 2, 2, 2, 2, 2, 2, 0, 2, 2, 1], \"coloraxis\": \"coloraxis\", \"symbol\": \"circle\"}, \"mode\": \"markers\", \"name\": \"\", \"showlegend\": false, \"x\": [5604, 9906, 5232, 7264, 9600, 5100, 9120, 6629, 6240, 12155, 6120, 6000, 8400, 9600, 6000, 6171], \"xaxis\": \"x\", \"y\": [98000, 107000, 73000, 205000, 178000, 161000, 184000, 103600, 103000, 140000, 88000, 110500, 136500, 125000, 117000, 137450], \"yaxis\": \"y\", \"type\": \"scatter\"}], \"name\": \"1925\"}, {\"data\": [{\"hoverlabel\": {\"namelength\": 0}, \"hovertemplate\": \"YearBuilt=1900<br>LotArea=%{x}<br>SalePrice=%{y}<br>Cluster=%{marker.color}\", \"legendgroup\": \"\", \"marker\": {\"color\": [2, 2, 3, 3, 0, 3, 2, 1, 3, 3], \"coloraxis\": \"coloraxis\", \"symbol\": \"circle\"}, \"mode\": \"markers\", \"name\": \"\", \"showlegend\": false, \"x\": [5000, 8405, 10800, 10800, 9600, 7630, 8712, 8777, 13600, 10615], \"xaxis\": \"x\", \"y\": [79000, 119000, 160000, 106250, 87000, 140000, 102776, 145900, 90000, 95000], \"yaxis\": \"y\", \"type\": \"scatter\"}], \"name\": \"1900\"}, {\"data\": [{\"hoverlabel\": {\"namelength\": 0}, \"hovertemplate\": \"YearBuilt=1980<br>LotArea=%{x}<br>SalePrice=%{y}<br>Cluster=%{marker.color}\", \"legendgroup\": \"\", \"marker\": {\"color\": [3, 1, 0, 3, 2, 3, 1, 0, 3, 2], \"coloraxis\": \"coloraxis\", \"symbol\": \"circle\"}, \"mode\": \"markers\", \"name\": \"\", \"showlegend\": false, \"x\": [10762, 13005, 14115, 1950, 6979, 8012, 8400, 10240, 1300, 7200], \"xaxis\": \"x\", \"y\": [120000, 260000, 187500, 151000, 144000, 143000, 171000, 207500, 124000, 140000], \"yaxis\": \"y\", \"type\": \"scatter\"}], \"name\": \"1980\"}, {\"data\": [{\"hoverlabel\": {\"namelength\": 0}, \"hovertemplate\": \"YearBuilt=1989<br>LotArea=%{x}<br>SalePrice=%{y}<br>Cluster=%{marker.color}\", \"legendgroup\": \"\", \"marker\": {\"color\": [1, 0, 1], \"coloraxis\": \"coloraxis\", \"symbol\": \"circle\"}, \"mode\": \"markers\", \"name\": \"\", \"showlegend\": false, \"x\": [11287, 12800, 26178], \"xaxis\": \"x\", \"y\": [228500, 275000, 335000], \"yaxis\": \"y\", \"type\": \"scatter\"}], \"name\": \"1989\"}, {\"data\": [{\"hoverlabel\": {\"namelength\": 0}, \"hovertemplate\": \"YearBuilt=1992<br>LotArea=%{x}<br>SalePrice=%{y}<br>Cluster=%{marker.color}\", \"legendgroup\": \"\", \"marker\": {\"color\": [3, 0, 1, 0, 1, 1, 1, 1, 2, 1, 1, 1, 1], \"coloraxis\": \"coloraxis\", \"symbol\": \"circle\"}, \"mode\": \"markers\", \"name\": \"\", \"showlegend\": false, \"x\": [8012, 9248, 53107, 12692, 13346, 10041, 7153, 9636, 9069, 9125, 10678, 11218, 10186], \"xaxis\": \"x\", \"y\": [179200, 173000, 240000, 430000, 268000, 220000, 175900, 178000, 147000, 163900, 285000, 189000, 190000], \"yaxis\": \"y\", \"type\": \"scatter\"}], \"name\": \"1992\"}, {\"data\": [{\"hoverlabel\": {\"namelength\": 0}, \"hovertemplate\": \"YearBuilt=1949<br>LotArea=%{x}<br>SalePrice=%{y}<br>Cluster=%{marker.color}\", \"legendgroup\": \"\", \"marker\": {\"color\": [2, 3, 2, 2, 2, 1, 2, 2, 2, 2, 2, 3], \"coloraxis\": \"coloraxis\", \"symbol\": \"circle\"}, \"mode\": \"markers\", \"name\": \"\", \"showlegend\": false, \"x\": [11409, 8544, 8777, 12144, 8064, 6270, 9000, 10800, 9600, 10496, 6627, 7200], \"xaxis\": \"x\", \"y\": [131000, 87500, 108000, 133000, 122900, 145000, 35311, 135000, 135000, 143000, 72500, 90000], \"yaxis\": \"y\", \"type\": \"scatter\"}], \"name\": \"1949\"}, {\"data\": [{\"hoverlabel\": {\"namelength\": 0}, \"hovertemplate\": \"YearBuilt=1880<br>LotArea=%{x}<br>SalePrice=%{y}<br>Cluster=%{marker.color}\", \"legendgroup\": \"\", \"marker\": {\"color\": [1, 2, 1, 2], \"coloraxis\": \"coloraxis\", \"symbol\": \"circle\"}, \"mode\": \"markers\", \"name\": \"\", \"showlegend\": false, \"x\": [18386, 9000, 11700, 9900], \"xaxis\": \"x\", \"y\": [295000, 124000, 265979, 117500], \"yaxis\": \"y\", \"type\": \"scatter\"}], \"name\": \"1880\"}, {\"data\": [{\"hoverlabel\": {\"namelength\": 0}, \"hovertemplate\": \"YearBuilt=1928<br>LotArea=%{x}<br>SalePrice=%{y}<br>Cluster=%{marker.color}\", \"legendgroup\": \"\", \"marker\": {\"color\": [2, 2, 0, 2, 0, 2, 1], \"coloraxis\": \"coloraxis\", \"symbol\": \"circle\"}, \"mode\": \"markers\", \"name\": \"\", \"showlegend\": false, \"x\": [8520, 9000, 9600, 6292, 7804, 6240, 7558], \"xaxis\": \"x\", \"y\": [105900, 76000, 161000, 145000, 135000, 149000, 177000], \"yaxis\": \"y\", \"type\": \"scatter\"}], \"name\": \"1928\"}, {\"data\": [{\"hoverlabel\": {\"namelength\": 0}, \"hovertemplate\": \"YearBuilt=1978<br>LotArea=%{x}<br>SalePrice=%{y}<br>Cluster=%{marker.color}\", \"legendgroup\": \"\", \"marker\": {\"color\": [2, 1, 2, 0, 3, 1, 2, 2, 2, 1, 0, 3, 2, 3, 1, 0], \"coloraxis\": \"coloraxis\", \"symbol\": \"circle\"}, \"mode\": \"markers\", \"name\": \"\", \"showlegend\": false, \"x\": [7540, 7844, 8430, 10395, 2289, 11616, 9101, 10970, 7000, 11184, 11880, 2280, 16157, 8930, 16692, 13175], \"xaxis\": \"x\", \"y\": [156000, 149500, 124000, 148000, 148500, 158900, 165500, 147000, 136500, 172500, 157000, 146000, 194000, 112000, 250000, 210000], \"yaxis\": \"y\", \"type\": \"scatter\"}], \"name\": \"1978\"}, {\"data\": [{\"hoverlabel\": {\"namelength\": 0}, \"hovertemplate\": \"YearBuilt=1922<br>LotArea=%{x}<br>SalePrice=%{y}<br>Cluster=%{marker.color}\", \"legendgroup\": \"\", \"marker\": {\"color\": [2, 2, 2, 2, 2, 2, 2, 1], \"coloraxis\": \"coloraxis\", \"symbol\": \"circle\"}, \"mode\": \"markers\", \"name\": \"\", \"showlegend\": false, \"x\": [10020, 6380, 11600, 9786, 4060, 3636, 5436, 11526], \"xaxis\": \"x\", \"y\": [61000, 113000, 137500, 91000, 99900, 55000, 125500, 191000], \"yaxis\": \"y\", \"type\": \"scatter\"}], \"name\": \"1922\"}, {\"data\": [{\"hoverlabel\": {\"namelength\": 0}, \"hovertemplate\": \"YearBuilt=1996<br>LotArea=%{x}<br>SalePrice=%{y}<br>Cluster=%{marker.color}\", \"legendgroup\": \"\", \"marker\": {\"color\": [2, 3, 1, 1, 1, 1, 1, 2, 1, 3, 0, 1, 0, 1, 1], \"coloraxis\": \"coloraxis\", \"symbol\": \"circle\"}, \"mode\": \"markers\", \"name\": \"\", \"showlegend\": false, \"x\": [8846, 14963, 10667, 9303, 10208, 11787, 21872, 12464, 8750, 2887, 10593, 9920, 11883, 14000, 15623], \"xaxis\": \"x\", \"y\": [148000, 245500, 212000, 204000, 265000, 315750, 175000, 152000, 191000, 173000, 260400, 269790, 203000, 328000, 745000], \"yaxis\": \"y\", \"type\": \"scatter\"}], \"name\": \"1996\"}, {\"data\": [{\"hoverlabel\": {\"namelength\": 0}, \"hovertemplate\": \"YearBuilt=2010<br>LotArea=%{x}<br>SalePrice=%{y}<br>Cluster=%{marker.color}\", \"legendgroup\": \"\", \"marker\": {\"color\": [0], \"coloraxis\": \"coloraxis\", \"symbol\": \"circle\"}, \"mode\": \"markers\", \"name\": \"\", \"showlegend\": false, \"x\": [11394], \"xaxis\": \"x\", \"y\": [394432], \"yaxis\": \"y\", \"type\": \"scatter\"}], \"name\": \"2010\"}, {\"data\": [{\"hoverlabel\": {\"namelength\": 0}, \"hovertemplate\": \"YearBuilt=1946<br>LotArea=%{x}<br>SalePrice=%{y}<br>Cluster=%{marker.color}\", \"legendgroup\": \"\", \"marker\": {\"color\": [1, 2, 2, 3, 2, 2, 1], \"coloraxis\": \"coloraxis\", \"symbol\": \"circle\"}, \"mode\": \"markers\", \"name\": \"\", \"showlegend\": false, \"x\": [3378, 5000, 11767, 7136, 4712, 11100, 18030], \"xaxis\": \"x\", \"y\": [135000, 39300, 130500, 145000, 121600, 84900, 200500], \"yaxis\": \"y\", \"type\": \"scatter\"}], \"name\": \"1946\"}, {\"data\": [{\"hoverlabel\": {\"namelength\": 0}, \"hovertemplate\": \"YearBuilt=1913<br>LotArea=%{x}<br>SalePrice=%{y}<br>Cluster=%{marker.color}\", \"legendgroup\": \"\", \"marker\": {\"color\": [2], \"coloraxis\": \"coloraxis\", \"symbol\": \"circle\"}, \"mode\": \"markers\", \"name\": \"\", \"showlegend\": false, \"x\": [4280], \"xaxis\": \"x\", \"y\": [90350], \"yaxis\": \"y\", \"type\": \"scatter\"}], \"name\": \"1913\"}, {\"data\": [{\"hoverlabel\": {\"namelength\": 0}, \"hovertemplate\": \"YearBuilt=1937<br>LotArea=%{x}<br>SalePrice=%{y}<br>Cluster=%{marker.color}\", \"legendgroup\": \"\", \"marker\": {\"color\": [2, 2, 1, 1, 2], \"coloraxis\": \"coloraxis\", \"symbol\": \"circle\"}, \"mode\": \"markers\", \"name\": \"\", \"showlegend\": false, \"x\": [8600, 5925, 9000, 7200, 6000], \"xaxis\": \"x\", \"y\": [119500, 89471, 141000, 175000, 134900], \"yaxis\": \"y\", \"type\": \"scatter\"}], \"name\": \"1937\"}, {\"data\": [{\"hoverlabel\": {\"namelength\": 0}, \"hovertemplate\": \"YearBuilt=1942<br>LotArea=%{x}<br>SalePrice=%{y}<br>Cluster=%{marker.color}\", \"legendgroup\": \"\", \"marker\": {\"color\": [1, 2], \"coloraxis\": \"coloraxis\", \"symbol\": \"circle\"}, \"mode\": \"markers\", \"name\": \"\", \"showlegend\": false, \"x\": [9480, 7500], \"xaxis\": \"x\", \"y\": [146500, 177500], \"yaxis\": \"y\", \"type\": \"scatter\"}], \"name\": \"1942\"}, {\"data\": [{\"hoverlabel\": {\"namelength\": 0}, \"hovertemplate\": \"YearBuilt=1938<br>LotArea=%{x}<br>SalePrice=%{y}<br>Cluster=%{marker.color}\", \"legendgroup\": \"\", \"marker\": {\"color\": [2, 2, 2, 2], \"coloraxis\": \"coloraxis\", \"symbol\": \"circle\"}, \"mode\": \"markers\", \"name\": \"\", \"showlegend\": false, \"x\": [5784, 6305, 8877, 7200], \"xaxis\": \"x\", \"y\": [91300, 119750, 100000, 125500], \"yaxis\": \"y\", \"type\": \"scatter\"}], \"name\": \"1938\"}, {\"data\": [{\"hoverlabel\": {\"namelength\": 0}, \"hovertemplate\": \"YearBuilt=1974<br>LotArea=%{x}<br>SalePrice=%{y}<br>Cluster=%{marker.color}\", \"legendgroup\": \"\", \"marker\": {\"color\": [3, 2, 1, 0, 2, 2, 1, 0, 1, 1], \"coloraxis\": \"coloraxis\", \"symbol\": \"circle\"}, \"mode\": \"markers\", \"name\": \"\", \"showlegend\": false, \"x\": [2308, 10010, 10800, 10140, 13350, 10140, 9120, 10625, 17542, 9000], \"xaxis\": \"x\", \"y\": [147000, 170000, 240000, 165000, 142500, 181000, 185000, 170000, 294000, 136000], \"yaxis\": \"y\", \"type\": \"scatter\"}], \"name\": \"1974\"}, {\"data\": [{\"hoverlabel\": {\"namelength\": 0}, \"hovertemplate\": \"YearBuilt=1893<br>LotArea=%{x}<br>SalePrice=%{y}<br>Cluster=%{marker.color}\", \"legendgroup\": \"\", \"marker\": {\"color\": [1], \"coloraxis\": \"coloraxis\", \"symbol\": \"circle\"}, \"mode\": \"markers\", \"name\": \"\", \"showlegend\": false, \"x\": [13500], \"xaxis\": \"x\", \"y\": [325000], \"yaxis\": \"y\", \"type\": \"scatter\"}], \"name\": \"1893\"}, {\"data\": [{\"hoverlabel\": {\"namelength\": 0}, \"hovertemplate\": \"YearBuilt=1914<br>LotArea=%{x}<br>SalePrice=%{y}<br>Cluster=%{marker.color}\", \"legendgroup\": \"\", \"marker\": {\"color\": [2, 3, 1, 2, 2, 1, 2], \"coloraxis\": \"coloraxis\", \"symbol\": \"circle\"}, \"mode\": \"markers\", \"name\": \"\", \"showlegend\": false, \"x\": [8248, 10896, 10800, 6300, 6882, 13132, 8212], \"xaxis\": \"x\", \"y\": [67000, 200000, 163000, 128000, 127000, 138887, 58500], \"yaxis\": \"y\", \"type\": \"scatter\"}], \"name\": \"1914\"}, {\"data\": [{\"hoverlabel\": {\"namelength\": 0}, \"hovertemplate\": \"YearBuilt=1906<br>LotArea=%{x}<br>SalePrice=%{y}<br>Cluster=%{marker.color}\", \"legendgroup\": \"\", \"marker\": {\"color\": [2], \"coloraxis\": \"coloraxis\", \"symbol\": \"circle\"}, \"mode\": \"markers\", \"name\": \"\", \"showlegend\": false, \"x\": [10320], \"xaxis\": \"x\", \"y\": [135000], \"yaxis\": \"y\", \"type\": \"scatter\"}], \"name\": \"1906\"}, {\"data\": [{\"hoverlabel\": {\"namelength\": 0}, \"hovertemplate\": \"YearBuilt=1890<br>LotArea=%{x}<br>SalePrice=%{y}<br>Cluster=%{marker.color}\", \"legendgroup\": \"\", \"marker\": {\"color\": [1, 2], \"coloraxis\": \"coloraxis\", \"symbol\": \"circle\"}, \"mode\": \"markers\", \"name\": \"\", \"showlegend\": false, \"x\": [10800, 8820], \"xaxis\": \"x\", \"y\": [159500, 124900], \"yaxis\": \"y\", \"type\": \"scatter\"}], \"name\": \"1890\"}, {\"data\": [{\"hoverlabel\": {\"namelength\": 0}, \"hovertemplate\": \"YearBuilt=1898<br>LotArea=%{x}<br>SalePrice=%{y}<br>Cluster=%{marker.color}\", \"legendgroup\": \"\", \"marker\": {\"color\": [1], \"coloraxis\": \"coloraxis\", \"symbol\": \"circle\"}, \"mode\": \"markers\", \"name\": \"\", \"showlegend\": false, \"x\": [8100], \"xaxis\": \"x\", \"y\": [106000], \"yaxis\": \"y\", \"type\": \"scatter\"}], \"name\": \"1898\"}, {\"data\": [{\"hoverlabel\": {\"namelength\": 0}, \"hovertemplate\": \"YearBuilt=1904<br>LotArea=%{x}<br>SalePrice=%{y}<br>Cluster=%{marker.color}\", \"legendgroup\": \"\", \"marker\": {\"color\": [0], \"coloraxis\": \"coloraxis\", \"symbol\": \"circle\"}, \"mode\": \"markers\", \"name\": \"\", \"showlegend\": false, \"x\": [10440], \"xaxis\": \"x\", \"y\": [157500], \"yaxis\": \"y\", \"type\": \"scatter\"}], \"name\": \"1904\"}, {\"data\": [{\"hoverlabel\": {\"namelength\": 0}, \"hovertemplate\": \"YearBuilt=1882<br>LotArea=%{x}<br>SalePrice=%{y}<br>Cluster=%{marker.color}\", \"legendgroup\": \"\", \"marker\": {\"color\": [1], \"coloraxis\": \"coloraxis\", \"symbol\": \"circle\"}, \"mode\": \"markers\", \"name\": \"\", \"showlegend\": false, \"x\": [17671], \"xaxis\": \"x\", \"y\": [168000], \"yaxis\": \"y\", \"type\": \"scatter\"}], \"name\": \"1882\"}, {\"data\": [{\"hoverlabel\": {\"namelength\": 0}, \"hovertemplate\": \"YearBuilt=1875<br>LotArea=%{x}<br>SalePrice=%{y}<br>Cluster=%{marker.color}\", \"legendgroup\": \"\", \"marker\": {\"color\": [2], \"coloraxis\": \"coloraxis\", \"symbol\": \"circle\"}, \"mode\": \"markers\", \"name\": \"\", \"showlegend\": false, \"x\": [6342], \"xaxis\": \"x\", \"y\": [94000], \"yaxis\": \"y\", \"type\": \"scatter\"}], \"name\": \"1875\"}, {\"data\": [{\"hoverlabel\": {\"namelength\": 0}, \"hovertemplate\": \"YearBuilt=1911<br>LotArea=%{x}<br>SalePrice=%{y}<br>Cluster=%{marker.color}\", \"legendgroup\": \"\", \"marker\": {\"color\": [2], \"coloraxis\": \"coloraxis\", \"symbol\": \"circle\"}, \"mode\": \"markers\", \"name\": \"\", \"showlegend\": false, \"x\": [8525], \"xaxis\": \"x\", \"y\": [130000], \"yaxis\": \"y\", \"type\": \"scatter\"}], \"name\": \"1911\"}, {\"data\": [{\"hoverlabel\": {\"namelength\": 0}, \"hovertemplate\": \"YearBuilt=1917<br>LotArea=%{x}<br>SalePrice=%{y}<br>Cluster=%{marker.color}\", \"legendgroup\": \"\", \"marker\": {\"color\": [1], \"coloraxis\": \"coloraxis\", \"symbol\": \"circle\"}, \"mode\": \"markers\", \"name\": \"\", \"showlegend\": false, \"x\": [9600], \"xaxis\": \"x\", \"y\": [129500], \"yaxis\": \"y\", \"type\": \"scatter\"}], \"name\": \"1917\"}, {\"data\": [{\"hoverlabel\": {\"namelength\": 0}, \"hovertemplate\": \"YearBuilt=1872<br>LotArea=%{x}<br>SalePrice=%{y}<br>Cluster=%{marker.color}\", \"legendgroup\": \"\", \"marker\": {\"color\": [2], \"coloraxis\": \"coloraxis\", \"symbol\": \"circle\"}, \"mode\": \"markers\", \"name\": \"\", \"showlegend\": false, \"x\": [5250], \"xaxis\": \"x\", \"y\": [122000], \"yaxis\": \"y\", \"type\": \"scatter\"}], \"name\": \"1872\"}, {\"data\": [{\"hoverlabel\": {\"namelength\": 0}, \"hovertemplate\": \"YearBuilt=1905<br>LotArea=%{x}<br>SalePrice=%{y}<br>Cluster=%{marker.color}\", \"legendgroup\": \"\", \"marker\": {\"color\": [3], \"coloraxis\": \"coloraxis\", \"symbol\": \"circle\"}, \"mode\": \"markers\", \"name\": \"\", \"showlegend\": false, \"x\": [10800], \"xaxis\": \"x\", \"y\": [163000], \"yaxis\": \"y\", \"type\": \"scatter\"}], \"name\": \"1905\"}]);\n                        }).then(function(){\n                            \nvar gd = document.getElementById('de1928f5-ea42-44a0-a372-b2abc798731b');\nvar x = new MutationObserver(function (mutations, observer) {{\n        var display = window.getComputedStyle(gd).display;\n        if (!display || display === 'none') {{\n            console.log([gd, 'removed!']);\n            Plotly.purge(gd);\n            observer.disconnect();\n        }}\n}});\n\n// Listen for the removal of the full notebook cells\nvar notebookContainer = gd.closest('#notebook-container');\nif (notebookContainer) {{\n    x.observe(notebookContainer, {childList: true});\n}}\n\n// Listen for the clearing of the current output cell\nvar outputEl = gd.closest('.output');\nif (outputEl) {{\n    x.observe(outputEl, {childList: true});\n}}\n\n                        })\n                };\n                \n            </script>\n        </div>\n</body>\n</html>"
              }
            ],
            "_view_module": "@jupyter-widgets/output",
            "_model_module_version": "1.0.0",
            "_view_count": null,
            "_view_module_version": "1.0.0",
            "layout": "IPY_MODEL_ffefa777fd794adcb74812407ab5d8da",
            "_model_module": "@jupyter-widgets/output"
          }
        },
        "ead214009b2f4531814309e33c23dab4": {
          "model_module": "@jupyter-widgets/controls",
          "model_name": "DescriptionStyleModel",
          "state": {
            "_view_name": "StyleView",
            "_model_name": "DescriptionStyleModel",
            "description_width": "",
            "_view_module": "@jupyter-widgets/base",
            "_model_module_version": "1.5.0",
            "_view_count": null,
            "_view_module_version": "1.2.0",
            "_model_module": "@jupyter-widgets/controls"
          }
        },
        "f8fc51cdcfe946b39ce52c2ab0700f16": {
          "model_module": "@jupyter-widgets/base",
          "model_name": "LayoutModel",
          "state": {
            "_view_name": "LayoutView",
            "grid_template_rows": null,
            "right": null,
            "justify_content": null,
            "_view_module": "@jupyter-widgets/base",
            "overflow": null,
            "_model_module_version": "1.2.0",
            "_view_count": null,
            "flex_flow": null,
            "width": null,
            "min_width": null,
            "border": null,
            "align_items": null,
            "bottom": null,
            "_model_module": "@jupyter-widgets/base",
            "top": null,
            "grid_column": null,
            "overflow_y": null,
            "overflow_x": null,
            "grid_auto_flow": null,
            "grid_area": null,
            "grid_template_columns": null,
            "flex": null,
            "_model_name": "LayoutModel",
            "justify_items": null,
            "grid_row": null,
            "max_height": null,
            "align_content": null,
            "visibility": null,
            "align_self": null,
            "height": null,
            "min_height": null,
            "padding": null,
            "grid_auto_rows": null,
            "grid_gap": null,
            "max_width": null,
            "order": null,
            "_view_module_version": "1.2.0",
            "grid_template_areas": null,
            "object_position": null,
            "object_fit": null,
            "grid_auto_columns": null,
            "margin": null,
            "display": null,
            "left": null
          }
        },
        "3a14dc6f82a04f9dba793e4c95bc1917": {
          "model_module": "@jupyter-widgets/controls",
          "model_name": "SliderStyleModel",
          "state": {
            "_view_name": "StyleView",
            "handle_color": null,
            "_model_name": "SliderStyleModel",
            "description_width": "",
            "_view_module": "@jupyter-widgets/base",
            "_model_module_version": "1.5.0",
            "_view_count": null,
            "_view_module_version": "1.2.0",
            "_model_module": "@jupyter-widgets/controls"
          }
        },
        "bb27c12b81fb4ff0ad8dd7de33a76b51": {
          "model_module": "@jupyter-widgets/base",
          "model_name": "LayoutModel",
          "state": {
            "_view_name": "LayoutView",
            "grid_template_rows": null,
            "right": null,
            "justify_content": null,
            "_view_module": "@jupyter-widgets/base",
            "overflow": null,
            "_model_module_version": "1.2.0",
            "_view_count": null,
            "flex_flow": null,
            "width": null,
            "min_width": null,
            "border": null,
            "align_items": null,
            "bottom": null,
            "_model_module": "@jupyter-widgets/base",
            "top": null,
            "grid_column": null,
            "overflow_y": null,
            "overflow_x": null,
            "grid_auto_flow": null,
            "grid_area": null,
            "grid_template_columns": null,
            "flex": null,
            "_model_name": "LayoutModel",
            "justify_items": null,
            "grid_row": null,
            "max_height": null,
            "align_content": null,
            "visibility": null,
            "align_self": null,
            "height": null,
            "min_height": null,
            "padding": null,
            "grid_auto_rows": null,
            "grid_gap": null,
            "max_width": null,
            "order": null,
            "_view_module_version": "1.2.0",
            "grid_template_areas": null,
            "object_position": null,
            "object_fit": null,
            "grid_auto_columns": null,
            "margin": null,
            "display": null,
            "left": null
          }
        },
        "ffefa777fd794adcb74812407ab5d8da": {
          "model_module": "@jupyter-widgets/base",
          "model_name": "LayoutModel",
          "state": {
            "_view_name": "LayoutView",
            "grid_template_rows": null,
            "right": null,
            "justify_content": null,
            "_view_module": "@jupyter-widgets/base",
            "overflow": null,
            "_model_module_version": "1.2.0",
            "_view_count": null,
            "flex_flow": null,
            "width": null,
            "min_width": null,
            "border": null,
            "align_items": null,
            "bottom": null,
            "_model_module": "@jupyter-widgets/base",
            "top": null,
            "grid_column": null,
            "overflow_y": null,
            "overflow_x": null,
            "grid_auto_flow": null,
            "grid_area": null,
            "grid_template_columns": null,
            "flex": null,
            "_model_name": "LayoutModel",
            "justify_items": null,
            "grid_row": null,
            "max_height": null,
            "align_content": null,
            "visibility": null,
            "align_self": null,
            "height": null,
            "min_height": null,
            "padding": null,
            "grid_auto_rows": null,
            "grid_gap": null,
            "max_width": null,
            "order": null,
            "_view_module_version": "1.2.0",
            "grid_template_areas": null,
            "object_position": null,
            "object_fit": null,
            "grid_auto_columns": null,
            "margin": null,
            "display": null,
            "left": null
          }
        }
      }
    }
  },
  "cells": [
    {
      "cell_type": "markdown",
      "metadata": {
        "id": "85QNyfDP6kAO"
      },
      "source": [
        "# Interactive Visualization Assignment (Plotly + IPyWidgets)"
      ]
    },
    {
      "cell_type": "code",
      "metadata": {
        "id": "QuHjLmJL6kAQ"
      },
      "source": [
        "import pandas as pd\n",
        "import plotly.express as px\n",
        "from sklearn import preprocessing\n",
        "from ipywidgets import interact\n",
        "from sklearn.cluster import KMeans\n",
        "from sklearn.metrics import silhouette_score\n",
        "from sklearn.preprocessing import MaxAbsScaler"
      ],
      "execution_count": 1,
      "outputs": []
    },
    {
      "cell_type": "markdown",
      "metadata": {
        "id": "Ycj6XSuQ6rlg"
      },
      "source": [
        "The following makes your colab session act more like a jupyter notebook for displaying plotly and ipywidgets objects correctly. If you are using jupyter, comment it out. (It needs to be called at the top of every cell that outputs a plot that uses widgets.)\n",
        "\n",
        "```\n",
        "configure_plotly_browser_state()\n",
        "```\n",
        "\n",
        "From [this StackOverflow answer](https://stackoverflow.com/a/47230966)."
      ]
    },
    {
      "cell_type": "code",
      "metadata": {
        "id": "8lDldVRc6rxh"
      },
      "source": [
        "def configure_plotly_browser_state():\n",
        "  import IPython\n",
        "  display(IPython.core.display.HTML('''\n",
        "        <script src=\"/static/components/requirejs/require.js\"></script>\n",
        "        <script>\n",
        "          requirejs.config({\n",
        "            paths: {\n",
        "              base: '/static/base',\n",
        "              plotly: 'https://cdn.plot.ly/plotly-latest.min.js?noext',\n",
        "            },\n",
        "          });\n",
        "        </script>\n",
        "        '''))\n",
        "  from plotly.offline import init_notebook_mode\n",
        "  init_notebook_mode(connected=False)"
      ],
      "execution_count": 2,
      "outputs": []
    },
    {
      "cell_type": "markdown",
      "metadata": {
        "id": "FaxmDRt96kAV"
      },
      "source": [
        "### Import the housing.csv data set."
      ]
    },
    {
      "cell_type": "code",
      "metadata": {
        "id": "ELqjL7nu6kAV"
      },
      "source": [
        "data = pd.read_csv('https://tf-assets-prod.s3.amazonaws.com/tf-curric/data-science/housing.csv')"
      ],
      "execution_count": 3,
      "outputs": []
    },
    {
      "cell_type": "markdown",
      "metadata": {
        "id": "wZrjKcWo6kAZ"
      },
      "source": [
        "### Separate out all the numeric fields into their own data set.\n",
        "\n",
        "Remove the Id field as it should be categorical and the GarageYrBlt and LotFrontage fields that contains many nulls. Drop any remaining nulls, but only for fields that are numeric. Hint: use subset. Then create a new dataframe with only the numeric fields in it."
      ]
    },
    {
      "cell_type": "code",
      "metadata": {
        "colab": {
          "base_uri": "https://localhost:8080/",
          "height": 435
        },
        "id": "OOKRaADYTeiV",
        "outputId": "cc5f6b2c-a9b9-46ff-f9cf-e1fd91191e55"
      },
      "source": [
        "num_data = data.select_dtypes(include='number').drop(columns=['Id', 'GarageYrBlt', 'LotFrontage']).dropna(axis=0)\n",
        "num_data"
      ],
      "execution_count": 4,
      "outputs": [
        {
          "output_type": "execute_result",
          "data": {
            "text/html": [
              "<div>\n",
              "<style scoped>\n",
              "    .dataframe tbody tr th:only-of-type {\n",
              "        vertical-align: middle;\n",
              "    }\n",
              "\n",
              "    .dataframe tbody tr th {\n",
              "        vertical-align: top;\n",
              "    }\n",
              "\n",
              "    .dataframe thead th {\n",
              "        text-align: right;\n",
              "    }\n",
              "</style>\n",
              "<table border=\"1\" class=\"dataframe\">\n",
              "  <thead>\n",
              "    <tr style=\"text-align: right;\">\n",
              "      <th></th>\n",
              "      <th>MSSubClass</th>\n",
              "      <th>LotArea</th>\n",
              "      <th>OverallQual</th>\n",
              "      <th>OverallCond</th>\n",
              "      <th>YearBuilt</th>\n",
              "      <th>YearRemodAdd</th>\n",
              "      <th>MasVnrArea</th>\n",
              "      <th>BsmtFinSF1</th>\n",
              "      <th>BsmtFinSF2</th>\n",
              "      <th>BsmtUnfSF</th>\n",
              "      <th>TotalBsmtSF</th>\n",
              "      <th>1stFlrSF</th>\n",
              "      <th>2ndFlrSF</th>\n",
              "      <th>LowQualFinSF</th>\n",
              "      <th>GrLivArea</th>\n",
              "      <th>BsmtFullBath</th>\n",
              "      <th>BsmtHalfBath</th>\n",
              "      <th>FullBath</th>\n",
              "      <th>HalfBath</th>\n",
              "      <th>BedroomAbvGr</th>\n",
              "      <th>KitchenAbvGr</th>\n",
              "      <th>TotRmsAbvGrd</th>\n",
              "      <th>Fireplaces</th>\n",
              "      <th>GarageCars</th>\n",
              "      <th>GarageArea</th>\n",
              "      <th>WoodDeckSF</th>\n",
              "      <th>OpenPorchSF</th>\n",
              "      <th>EnclosedPorch</th>\n",
              "      <th>3SsnPorch</th>\n",
              "      <th>ScreenPorch</th>\n",
              "      <th>PoolArea</th>\n",
              "      <th>MiscVal</th>\n",
              "      <th>MoSold</th>\n",
              "      <th>YrSold</th>\n",
              "      <th>SalePrice</th>\n",
              "    </tr>\n",
              "  </thead>\n",
              "  <tbody>\n",
              "    <tr>\n",
              "      <th>0</th>\n",
              "      <td>60</td>\n",
              "      <td>8450</td>\n",
              "      <td>7</td>\n",
              "      <td>5</td>\n",
              "      <td>2003</td>\n",
              "      <td>2003</td>\n",
              "      <td>196.0</td>\n",
              "      <td>706</td>\n",
              "      <td>0</td>\n",
              "      <td>150</td>\n",
              "      <td>856</td>\n",
              "      <td>856</td>\n",
              "      <td>854</td>\n",
              "      <td>0</td>\n",
              "      <td>1710</td>\n",
              "      <td>1</td>\n",
              "      <td>0</td>\n",
              "      <td>2</td>\n",
              "      <td>1</td>\n",
              "      <td>3</td>\n",
              "      <td>1</td>\n",
              "      <td>8</td>\n",
              "      <td>0</td>\n",
              "      <td>2</td>\n",
              "      <td>548</td>\n",
              "      <td>0</td>\n",
              "      <td>61</td>\n",
              "      <td>0</td>\n",
              "      <td>0</td>\n",
              "      <td>0</td>\n",
              "      <td>0</td>\n",
              "      <td>0</td>\n",
              "      <td>2</td>\n",
              "      <td>2008</td>\n",
              "      <td>208500</td>\n",
              "    </tr>\n",
              "    <tr>\n",
              "      <th>1</th>\n",
              "      <td>20</td>\n",
              "      <td>9600</td>\n",
              "      <td>6</td>\n",
              "      <td>8</td>\n",
              "      <td>1976</td>\n",
              "      <td>1976</td>\n",
              "      <td>0.0</td>\n",
              "      <td>978</td>\n",
              "      <td>0</td>\n",
              "      <td>284</td>\n",
              "      <td>1262</td>\n",
              "      <td>1262</td>\n",
              "      <td>0</td>\n",
              "      <td>0</td>\n",
              "      <td>1262</td>\n",
              "      <td>0</td>\n",
              "      <td>1</td>\n",
              "      <td>2</td>\n",
              "      <td>0</td>\n",
              "      <td>3</td>\n",
              "      <td>1</td>\n",
              "      <td>6</td>\n",
              "      <td>1</td>\n",
              "      <td>2</td>\n",
              "      <td>460</td>\n",
              "      <td>298</td>\n",
              "      <td>0</td>\n",
              "      <td>0</td>\n",
              "      <td>0</td>\n",
              "      <td>0</td>\n",
              "      <td>0</td>\n",
              "      <td>0</td>\n",
              "      <td>5</td>\n",
              "      <td>2007</td>\n",
              "      <td>181500</td>\n",
              "    </tr>\n",
              "    <tr>\n",
              "      <th>2</th>\n",
              "      <td>60</td>\n",
              "      <td>11250</td>\n",
              "      <td>7</td>\n",
              "      <td>5</td>\n",
              "      <td>2001</td>\n",
              "      <td>2002</td>\n",
              "      <td>162.0</td>\n",
              "      <td>486</td>\n",
              "      <td>0</td>\n",
              "      <td>434</td>\n",
              "      <td>920</td>\n",
              "      <td>920</td>\n",
              "      <td>866</td>\n",
              "      <td>0</td>\n",
              "      <td>1786</td>\n",
              "      <td>1</td>\n",
              "      <td>0</td>\n",
              "      <td>2</td>\n",
              "      <td>1</td>\n",
              "      <td>3</td>\n",
              "      <td>1</td>\n",
              "      <td>6</td>\n",
              "      <td>1</td>\n",
              "      <td>2</td>\n",
              "      <td>608</td>\n",
              "      <td>0</td>\n",
              "      <td>42</td>\n",
              "      <td>0</td>\n",
              "      <td>0</td>\n",
              "      <td>0</td>\n",
              "      <td>0</td>\n",
              "      <td>0</td>\n",
              "      <td>9</td>\n",
              "      <td>2008</td>\n",
              "      <td>223500</td>\n",
              "    </tr>\n",
              "    <tr>\n",
              "      <th>3</th>\n",
              "      <td>70</td>\n",
              "      <td>9550</td>\n",
              "      <td>7</td>\n",
              "      <td>5</td>\n",
              "      <td>1915</td>\n",
              "      <td>1970</td>\n",
              "      <td>0.0</td>\n",
              "      <td>216</td>\n",
              "      <td>0</td>\n",
              "      <td>540</td>\n",
              "      <td>756</td>\n",
              "      <td>961</td>\n",
              "      <td>756</td>\n",
              "      <td>0</td>\n",
              "      <td>1717</td>\n",
              "      <td>1</td>\n",
              "      <td>0</td>\n",
              "      <td>1</td>\n",
              "      <td>0</td>\n",
              "      <td>3</td>\n",
              "      <td>1</td>\n",
              "      <td>7</td>\n",
              "      <td>1</td>\n",
              "      <td>3</td>\n",
              "      <td>642</td>\n",
              "      <td>0</td>\n",
              "      <td>35</td>\n",
              "      <td>272</td>\n",
              "      <td>0</td>\n",
              "      <td>0</td>\n",
              "      <td>0</td>\n",
              "      <td>0</td>\n",
              "      <td>2</td>\n",
              "      <td>2006</td>\n",
              "      <td>140000</td>\n",
              "    </tr>\n",
              "    <tr>\n",
              "      <th>4</th>\n",
              "      <td>60</td>\n",
              "      <td>14260</td>\n",
              "      <td>8</td>\n",
              "      <td>5</td>\n",
              "      <td>2000</td>\n",
              "      <td>2000</td>\n",
              "      <td>350.0</td>\n",
              "      <td>655</td>\n",
              "      <td>0</td>\n",
              "      <td>490</td>\n",
              "      <td>1145</td>\n",
              "      <td>1145</td>\n",
              "      <td>1053</td>\n",
              "      <td>0</td>\n",
              "      <td>2198</td>\n",
              "      <td>1</td>\n",
              "      <td>0</td>\n",
              "      <td>2</td>\n",
              "      <td>1</td>\n",
              "      <td>4</td>\n",
              "      <td>1</td>\n",
              "      <td>9</td>\n",
              "      <td>1</td>\n",
              "      <td>3</td>\n",
              "      <td>836</td>\n",
              "      <td>192</td>\n",
              "      <td>84</td>\n",
              "      <td>0</td>\n",
              "      <td>0</td>\n",
              "      <td>0</td>\n",
              "      <td>0</td>\n",
              "      <td>0</td>\n",
              "      <td>12</td>\n",
              "      <td>2008</td>\n",
              "      <td>250000</td>\n",
              "    </tr>\n",
              "    <tr>\n",
              "      <th>...</th>\n",
              "      <td>...</td>\n",
              "      <td>...</td>\n",
              "      <td>...</td>\n",
              "      <td>...</td>\n",
              "      <td>...</td>\n",
              "      <td>...</td>\n",
              "      <td>...</td>\n",
              "      <td>...</td>\n",
              "      <td>...</td>\n",
              "      <td>...</td>\n",
              "      <td>...</td>\n",
              "      <td>...</td>\n",
              "      <td>...</td>\n",
              "      <td>...</td>\n",
              "      <td>...</td>\n",
              "      <td>...</td>\n",
              "      <td>...</td>\n",
              "      <td>...</td>\n",
              "      <td>...</td>\n",
              "      <td>...</td>\n",
              "      <td>...</td>\n",
              "      <td>...</td>\n",
              "      <td>...</td>\n",
              "      <td>...</td>\n",
              "      <td>...</td>\n",
              "      <td>...</td>\n",
              "      <td>...</td>\n",
              "      <td>...</td>\n",
              "      <td>...</td>\n",
              "      <td>...</td>\n",
              "      <td>...</td>\n",
              "      <td>...</td>\n",
              "      <td>...</td>\n",
              "      <td>...</td>\n",
              "      <td>...</td>\n",
              "    </tr>\n",
              "    <tr>\n",
              "      <th>1455</th>\n",
              "      <td>60</td>\n",
              "      <td>7917</td>\n",
              "      <td>6</td>\n",
              "      <td>5</td>\n",
              "      <td>1999</td>\n",
              "      <td>2000</td>\n",
              "      <td>0.0</td>\n",
              "      <td>0</td>\n",
              "      <td>0</td>\n",
              "      <td>953</td>\n",
              "      <td>953</td>\n",
              "      <td>953</td>\n",
              "      <td>694</td>\n",
              "      <td>0</td>\n",
              "      <td>1647</td>\n",
              "      <td>0</td>\n",
              "      <td>0</td>\n",
              "      <td>2</td>\n",
              "      <td>1</td>\n",
              "      <td>3</td>\n",
              "      <td>1</td>\n",
              "      <td>7</td>\n",
              "      <td>1</td>\n",
              "      <td>2</td>\n",
              "      <td>460</td>\n",
              "      <td>0</td>\n",
              "      <td>40</td>\n",
              "      <td>0</td>\n",
              "      <td>0</td>\n",
              "      <td>0</td>\n",
              "      <td>0</td>\n",
              "      <td>0</td>\n",
              "      <td>8</td>\n",
              "      <td>2007</td>\n",
              "      <td>175000</td>\n",
              "    </tr>\n",
              "    <tr>\n",
              "      <th>1456</th>\n",
              "      <td>20</td>\n",
              "      <td>13175</td>\n",
              "      <td>6</td>\n",
              "      <td>6</td>\n",
              "      <td>1978</td>\n",
              "      <td>1988</td>\n",
              "      <td>119.0</td>\n",
              "      <td>790</td>\n",
              "      <td>163</td>\n",
              "      <td>589</td>\n",
              "      <td>1542</td>\n",
              "      <td>2073</td>\n",
              "      <td>0</td>\n",
              "      <td>0</td>\n",
              "      <td>2073</td>\n",
              "      <td>1</td>\n",
              "      <td>0</td>\n",
              "      <td>2</td>\n",
              "      <td>0</td>\n",
              "      <td>3</td>\n",
              "      <td>1</td>\n",
              "      <td>7</td>\n",
              "      <td>2</td>\n",
              "      <td>2</td>\n",
              "      <td>500</td>\n",
              "      <td>349</td>\n",
              "      <td>0</td>\n",
              "      <td>0</td>\n",
              "      <td>0</td>\n",
              "      <td>0</td>\n",
              "      <td>0</td>\n",
              "      <td>0</td>\n",
              "      <td>2</td>\n",
              "      <td>2010</td>\n",
              "      <td>210000</td>\n",
              "    </tr>\n",
              "    <tr>\n",
              "      <th>1457</th>\n",
              "      <td>70</td>\n",
              "      <td>9042</td>\n",
              "      <td>7</td>\n",
              "      <td>9</td>\n",
              "      <td>1941</td>\n",
              "      <td>2006</td>\n",
              "      <td>0.0</td>\n",
              "      <td>275</td>\n",
              "      <td>0</td>\n",
              "      <td>877</td>\n",
              "      <td>1152</td>\n",
              "      <td>1188</td>\n",
              "      <td>1152</td>\n",
              "      <td>0</td>\n",
              "      <td>2340</td>\n",
              "      <td>0</td>\n",
              "      <td>0</td>\n",
              "      <td>2</td>\n",
              "      <td>0</td>\n",
              "      <td>4</td>\n",
              "      <td>1</td>\n",
              "      <td>9</td>\n",
              "      <td>2</td>\n",
              "      <td>1</td>\n",
              "      <td>252</td>\n",
              "      <td>0</td>\n",
              "      <td>60</td>\n",
              "      <td>0</td>\n",
              "      <td>0</td>\n",
              "      <td>0</td>\n",
              "      <td>0</td>\n",
              "      <td>2500</td>\n",
              "      <td>5</td>\n",
              "      <td>2010</td>\n",
              "      <td>266500</td>\n",
              "    </tr>\n",
              "    <tr>\n",
              "      <th>1458</th>\n",
              "      <td>20</td>\n",
              "      <td>9717</td>\n",
              "      <td>5</td>\n",
              "      <td>6</td>\n",
              "      <td>1950</td>\n",
              "      <td>1996</td>\n",
              "      <td>0.0</td>\n",
              "      <td>49</td>\n",
              "      <td>1029</td>\n",
              "      <td>0</td>\n",
              "      <td>1078</td>\n",
              "      <td>1078</td>\n",
              "      <td>0</td>\n",
              "      <td>0</td>\n",
              "      <td>1078</td>\n",
              "      <td>1</td>\n",
              "      <td>0</td>\n",
              "      <td>1</td>\n",
              "      <td>0</td>\n",
              "      <td>2</td>\n",
              "      <td>1</td>\n",
              "      <td>5</td>\n",
              "      <td>0</td>\n",
              "      <td>1</td>\n",
              "      <td>240</td>\n",
              "      <td>366</td>\n",
              "      <td>0</td>\n",
              "      <td>112</td>\n",
              "      <td>0</td>\n",
              "      <td>0</td>\n",
              "      <td>0</td>\n",
              "      <td>0</td>\n",
              "      <td>4</td>\n",
              "      <td>2010</td>\n",
              "      <td>142125</td>\n",
              "    </tr>\n",
              "    <tr>\n",
              "      <th>1459</th>\n",
              "      <td>20</td>\n",
              "      <td>9937</td>\n",
              "      <td>5</td>\n",
              "      <td>6</td>\n",
              "      <td>1965</td>\n",
              "      <td>1965</td>\n",
              "      <td>0.0</td>\n",
              "      <td>830</td>\n",
              "      <td>290</td>\n",
              "      <td>136</td>\n",
              "      <td>1256</td>\n",
              "      <td>1256</td>\n",
              "      <td>0</td>\n",
              "      <td>0</td>\n",
              "      <td>1256</td>\n",
              "      <td>1</td>\n",
              "      <td>0</td>\n",
              "      <td>1</td>\n",
              "      <td>1</td>\n",
              "      <td>3</td>\n",
              "      <td>1</td>\n",
              "      <td>6</td>\n",
              "      <td>0</td>\n",
              "      <td>1</td>\n",
              "      <td>276</td>\n",
              "      <td>736</td>\n",
              "      <td>68</td>\n",
              "      <td>0</td>\n",
              "      <td>0</td>\n",
              "      <td>0</td>\n",
              "      <td>0</td>\n",
              "      <td>0</td>\n",
              "      <td>6</td>\n",
              "      <td>2008</td>\n",
              "      <td>147500</td>\n",
              "    </tr>\n",
              "  </tbody>\n",
              "</table>\n",
              "<p>1452 rows × 35 columns</p>\n",
              "</div>"
            ],
            "text/plain": [
              "      MSSubClass  LotArea  OverallQual  ...  MoSold  YrSold  SalePrice\n",
              "0             60     8450            7  ...       2    2008     208500\n",
              "1             20     9600            6  ...       5    2007     181500\n",
              "2             60    11250            7  ...       9    2008     223500\n",
              "3             70     9550            7  ...       2    2006     140000\n",
              "4             60    14260            8  ...      12    2008     250000\n",
              "...          ...      ...          ...  ...     ...     ...        ...\n",
              "1455          60     7917            6  ...       8    2007     175000\n",
              "1456          20    13175            6  ...       2    2010     210000\n",
              "1457          70     9042            7  ...       5    2010     266500\n",
              "1458          20     9717            5  ...       4    2010     142125\n",
              "1459          20     9937            5  ...       6    2008     147500\n",
              "\n",
              "[1452 rows x 35 columns]"
            ]
          },
          "metadata": {
            "tags": []
          },
          "execution_count": 4
        }
      ]
    },
    {
      "cell_type": "markdown",
      "metadata": {
        "id": "6b9E9bu06kAe"
      },
      "source": [
        "### Normalize the numeric data using Scikit-Learn's MaxAbsScaler."
      ]
    },
    {
      "cell_type": "code",
      "metadata": {
        "id": "q84A-Gc_6kAe"
      },
      "source": [
        "scaler = preprocessing.MaxAbsScaler()\n",
        "X_scaled = scaler.fit_transform(num_data)"
      ],
      "execution_count": 5,
      "outputs": []
    },
    {
      "cell_type": "markdown",
      "metadata": {
        "id": "NQHJQ5h06kAi"
      },
      "source": [
        "### Iteratively K-Means cluster the normalized data and generate an interactive line chart showing the average silhouette score for each number of clusters (2 through 20)."
      ]
    },
    {
      "cell_type": "code",
      "metadata": {
        "id": "9x63mgre6kAj"
      },
      "source": [
        "k_list = list(range(2, 20))\n",
        "scores = []\n",
        "\n",
        "for k in k_list:\n",
        "    model = KMeans(n_clusters=k, random_state=42)\n",
        "    clusters = model.fit_predict(X_scaled)\n",
        "    silhouette = silhouette_score(X_scaled, clusters)\n",
        "    scores.append(silhouette)\n",
        "\n",
        "scores = pd.DataFrame([k_list, scores]).T\n",
        "scores.columns = [\"Clusters\", \"Score\"]"
      ],
      "execution_count": 6,
      "outputs": []
    },
    {
      "cell_type": "code",
      "metadata": {
        "colab": {
          "base_uri": "https://localhost:8080/",
          "height": 542
        },
        "id": "z69skhpHgBlx",
        "outputId": "107b2063-bc56-43d2-e001-ca6fb9b429ba"
      },
      "source": [
        "fig = px.line(\n",
        "    scores, x=\"Clusters\", y=\"Score\", title=\"Avg. Silhouette Score per K Clusters\"\n",
        ").update(layout=dict(title=dict(x=0.5)))\n",
        "\n",
        "fig.show()"
      ],
      "execution_count": 7,
      "outputs": [
        {
          "output_type": "display_data",
          "data": {
            "text/html": [
              "<html>\n",
              "<head><meta charset=\"utf-8\" /></head>\n",
              "<body>\n",
              "    <div>\n",
              "            <script src=\"https://cdnjs.cloudflare.com/ajax/libs/mathjax/2.7.5/MathJax.js?config=TeX-AMS-MML_SVG\"></script><script type=\"text/javascript\">if (window.MathJax) {MathJax.Hub.Config({SVG: {font: \"STIX-Web\"}});}</script>\n",
              "                <script type=\"text/javascript\">window.PlotlyConfig = {MathJaxConfig: 'local'};</script>\n",
              "        <script src=\"https://cdn.plot.ly/plotly-latest.min.js\"></script>    \n",
              "            <div id=\"afedb7f6-3cf1-4cdf-8905-c3bc9b3a1d13\" class=\"plotly-graph-div\" style=\"height:525px; width:100%;\"></div>\n",
              "            <script type=\"text/javascript\">\n",
              "                \n",
              "                    window.PLOTLYENV=window.PLOTLYENV || {};\n",
              "                    \n",
              "                if (document.getElementById(\"afedb7f6-3cf1-4cdf-8905-c3bc9b3a1d13\")) {\n",
              "                    Plotly.newPlot(\n",
              "                        'afedb7f6-3cf1-4cdf-8905-c3bc9b3a1d13',\n",
              "                        [{\"hoverlabel\": {\"namelength\": 0}, \"hovertemplate\": \"Clusters=%{x}<br>Score=%{y}\", \"legendgroup\": \"\", \"line\": {\"color\": \"#636efa\", \"dash\": \"solid\"}, \"mode\": \"lines\", \"name\": \"\", \"showlegend\": false, \"type\": \"scatter\", \"x\": [2.0, 3.0, 4.0, 5.0, 6.0, 7.0, 8.0, 9.0, 10.0, 11.0, 12.0, 13.0, 14.0, 15.0, 16.0, 17.0, 18.0, 19.0], \"xaxis\": \"x\", \"y\": [0.1729322699836459, 0.1532175922200456, 0.15845454089857725, 0.15180042381679532, 0.1287049536569931, 0.13954358504644923, 0.11771011474659875, 0.11851976133804068, 0.10997808725925945, 0.10929679012875598, 0.1039231304261144, 0.10082265369781902, 0.1118561922905683, 0.10414570572891632, 0.10135269590150067, 0.09810860437358901, 0.10027324659780582, 0.09549264550577574], \"yaxis\": \"y\"}],\n",
              "                        {\"legend\": {\"tracegroupgap\": 0}, \"template\": {\"data\": {\"bar\": [{\"error_x\": {\"color\": \"#2a3f5f\"}, \"error_y\": {\"color\": \"#2a3f5f\"}, \"marker\": {\"line\": {\"color\": \"#E5ECF6\", \"width\": 0.5}}, \"type\": \"bar\"}], \"barpolar\": [{\"marker\": {\"line\": {\"color\": \"#E5ECF6\", \"width\": 0.5}}, \"type\": \"barpolar\"}], \"carpet\": [{\"aaxis\": {\"endlinecolor\": \"#2a3f5f\", \"gridcolor\": \"white\", \"linecolor\": \"white\", \"minorgridcolor\": \"white\", \"startlinecolor\": \"#2a3f5f\"}, \"baxis\": {\"endlinecolor\": \"#2a3f5f\", \"gridcolor\": \"white\", \"linecolor\": \"white\", \"minorgridcolor\": \"white\", \"startlinecolor\": \"#2a3f5f\"}, \"type\": \"carpet\"}], \"choropleth\": [{\"colorbar\": {\"outlinewidth\": 0, \"ticks\": \"\"}, \"type\": \"choropleth\"}], \"contour\": [{\"colorbar\": {\"outlinewidth\": 0, \"ticks\": \"\"}, \"colorscale\": [[0.0, \"#0d0887\"], [0.1111111111111111, \"#46039f\"], [0.2222222222222222, \"#7201a8\"], [0.3333333333333333, \"#9c179e\"], [0.4444444444444444, \"#bd3786\"], [0.5555555555555556, \"#d8576b\"], [0.6666666666666666, \"#ed7953\"], [0.7777777777777778, \"#fb9f3a\"], [0.8888888888888888, \"#fdca26\"], [1.0, \"#f0f921\"]], \"type\": \"contour\"}], \"contourcarpet\": [{\"colorbar\": {\"outlinewidth\": 0, \"ticks\": \"\"}, \"type\": \"contourcarpet\"}], \"heatmap\": [{\"colorbar\": {\"outlinewidth\": 0, \"ticks\": \"\"}, \"colorscale\": [[0.0, \"#0d0887\"], [0.1111111111111111, \"#46039f\"], [0.2222222222222222, \"#7201a8\"], [0.3333333333333333, \"#9c179e\"], [0.4444444444444444, \"#bd3786\"], [0.5555555555555556, \"#d8576b\"], [0.6666666666666666, \"#ed7953\"], [0.7777777777777778, \"#fb9f3a\"], [0.8888888888888888, \"#fdca26\"], [1.0, \"#f0f921\"]], \"type\": \"heatmap\"}], \"heatmapgl\": [{\"colorbar\": {\"outlinewidth\": 0, \"ticks\": \"\"}, \"colorscale\": [[0.0, \"#0d0887\"], [0.1111111111111111, \"#46039f\"], [0.2222222222222222, \"#7201a8\"], [0.3333333333333333, \"#9c179e\"], [0.4444444444444444, \"#bd3786\"], [0.5555555555555556, \"#d8576b\"], [0.6666666666666666, \"#ed7953\"], [0.7777777777777778, \"#fb9f3a\"], [0.8888888888888888, \"#fdca26\"], [1.0, \"#f0f921\"]], \"type\": \"heatmapgl\"}], \"histogram\": [{\"marker\": {\"colorbar\": {\"outlinewidth\": 0, \"ticks\": \"\"}}, \"type\": \"histogram\"}], \"histogram2d\": [{\"colorbar\": {\"outlinewidth\": 0, \"ticks\": \"\"}, \"colorscale\": [[0.0, \"#0d0887\"], [0.1111111111111111, \"#46039f\"], [0.2222222222222222, \"#7201a8\"], [0.3333333333333333, \"#9c179e\"], [0.4444444444444444, \"#bd3786\"], [0.5555555555555556, \"#d8576b\"], [0.6666666666666666, \"#ed7953\"], [0.7777777777777778, \"#fb9f3a\"], [0.8888888888888888, \"#fdca26\"], [1.0, \"#f0f921\"]], \"type\": \"histogram2d\"}], \"histogram2dcontour\": [{\"colorbar\": {\"outlinewidth\": 0, \"ticks\": \"\"}, \"colorscale\": [[0.0, \"#0d0887\"], [0.1111111111111111, \"#46039f\"], [0.2222222222222222, \"#7201a8\"], [0.3333333333333333, \"#9c179e\"], [0.4444444444444444, \"#bd3786\"], [0.5555555555555556, \"#d8576b\"], [0.6666666666666666, \"#ed7953\"], [0.7777777777777778, \"#fb9f3a\"], [0.8888888888888888, \"#fdca26\"], [1.0, \"#f0f921\"]], \"type\": \"histogram2dcontour\"}], \"mesh3d\": [{\"colorbar\": {\"outlinewidth\": 0, \"ticks\": \"\"}, \"type\": \"mesh3d\"}], \"parcoords\": [{\"line\": {\"colorbar\": {\"outlinewidth\": 0, \"ticks\": \"\"}}, \"type\": \"parcoords\"}], \"pie\": [{\"automargin\": true, \"type\": \"pie\"}], \"scatter\": [{\"marker\": {\"colorbar\": {\"outlinewidth\": 0, \"ticks\": \"\"}}, \"type\": \"scatter\"}], \"scatter3d\": [{\"line\": {\"colorbar\": {\"outlinewidth\": 0, \"ticks\": \"\"}}, \"marker\": {\"colorbar\": {\"outlinewidth\": 0, \"ticks\": \"\"}}, \"type\": \"scatter3d\"}], \"scattercarpet\": [{\"marker\": {\"colorbar\": {\"outlinewidth\": 0, \"ticks\": \"\"}}, \"type\": \"scattercarpet\"}], \"scattergeo\": [{\"marker\": {\"colorbar\": {\"outlinewidth\": 0, \"ticks\": \"\"}}, \"type\": \"scattergeo\"}], \"scattergl\": [{\"marker\": {\"colorbar\": {\"outlinewidth\": 0, \"ticks\": \"\"}}, \"type\": \"scattergl\"}], \"scattermapbox\": [{\"marker\": {\"colorbar\": {\"outlinewidth\": 0, \"ticks\": \"\"}}, \"type\": \"scattermapbox\"}], \"scatterpolar\": [{\"marker\": {\"colorbar\": {\"outlinewidth\": 0, \"ticks\": \"\"}}, \"type\": \"scatterpolar\"}], \"scatterpolargl\": [{\"marker\": {\"colorbar\": {\"outlinewidth\": 0, \"ticks\": \"\"}}, \"type\": \"scatterpolargl\"}], \"scatterternary\": [{\"marker\": {\"colorbar\": {\"outlinewidth\": 0, \"ticks\": \"\"}}, \"type\": \"scatterternary\"}], \"surface\": [{\"colorbar\": {\"outlinewidth\": 0, \"ticks\": \"\"}, \"colorscale\": [[0.0, \"#0d0887\"], [0.1111111111111111, \"#46039f\"], [0.2222222222222222, \"#7201a8\"], [0.3333333333333333, \"#9c179e\"], [0.4444444444444444, \"#bd3786\"], [0.5555555555555556, \"#d8576b\"], [0.6666666666666666, \"#ed7953\"], [0.7777777777777778, \"#fb9f3a\"], [0.8888888888888888, \"#fdca26\"], [1.0, \"#f0f921\"]], \"type\": \"surface\"}], \"table\": [{\"cells\": {\"fill\": {\"color\": \"#EBF0F8\"}, \"line\": {\"color\": \"white\"}}, \"header\": {\"fill\": {\"color\": \"#C8D4E3\"}, \"line\": {\"color\": \"white\"}}, \"type\": \"table\"}]}, \"layout\": {\"annotationdefaults\": {\"arrowcolor\": \"#2a3f5f\", \"arrowhead\": 0, \"arrowwidth\": 1}, \"coloraxis\": {\"colorbar\": {\"outlinewidth\": 0, \"ticks\": \"\"}}, \"colorscale\": {\"diverging\": [[0, \"#8e0152\"], [0.1, \"#c51b7d\"], [0.2, \"#de77ae\"], [0.3, \"#f1b6da\"], [0.4, \"#fde0ef\"], [0.5, \"#f7f7f7\"], [0.6, \"#e6f5d0\"], [0.7, \"#b8e186\"], [0.8, \"#7fbc41\"], [0.9, \"#4d9221\"], [1, \"#276419\"]], \"sequential\": [[0.0, \"#0d0887\"], [0.1111111111111111, \"#46039f\"], [0.2222222222222222, \"#7201a8\"], [0.3333333333333333, \"#9c179e\"], [0.4444444444444444, \"#bd3786\"], [0.5555555555555556, \"#d8576b\"], [0.6666666666666666, \"#ed7953\"], [0.7777777777777778, \"#fb9f3a\"], [0.8888888888888888, \"#fdca26\"], [1.0, \"#f0f921\"]], \"sequentialminus\": [[0.0, \"#0d0887\"], [0.1111111111111111, \"#46039f\"], [0.2222222222222222, \"#7201a8\"], [0.3333333333333333, \"#9c179e\"], [0.4444444444444444, \"#bd3786\"], [0.5555555555555556, \"#d8576b\"], [0.6666666666666666, \"#ed7953\"], [0.7777777777777778, \"#fb9f3a\"], [0.8888888888888888, \"#fdca26\"], [1.0, \"#f0f921\"]]}, \"colorway\": [\"#636efa\", \"#EF553B\", \"#00cc96\", \"#ab63fa\", \"#FFA15A\", \"#19d3f3\", \"#FF6692\", \"#B6E880\", \"#FF97FF\", \"#FECB52\"], \"font\": {\"color\": \"#2a3f5f\"}, \"geo\": {\"bgcolor\": \"white\", \"lakecolor\": \"white\", \"landcolor\": \"#E5ECF6\", \"showlakes\": true, \"showland\": true, \"subunitcolor\": \"white\"}, \"hoverlabel\": {\"align\": \"left\"}, \"hovermode\": \"closest\", \"mapbox\": {\"style\": \"light\"}, \"paper_bgcolor\": \"white\", \"plot_bgcolor\": \"#E5ECF6\", \"polar\": {\"angularaxis\": {\"gridcolor\": \"white\", \"linecolor\": \"white\", \"ticks\": \"\"}, \"bgcolor\": \"#E5ECF6\", \"radialaxis\": {\"gridcolor\": \"white\", \"linecolor\": \"white\", \"ticks\": \"\"}}, \"scene\": {\"xaxis\": {\"backgroundcolor\": \"#E5ECF6\", \"gridcolor\": \"white\", \"gridwidth\": 2, \"linecolor\": \"white\", \"showbackground\": true, \"ticks\": \"\", \"zerolinecolor\": \"white\"}, \"yaxis\": {\"backgroundcolor\": \"#E5ECF6\", \"gridcolor\": \"white\", \"gridwidth\": 2, \"linecolor\": \"white\", \"showbackground\": true, \"ticks\": \"\", \"zerolinecolor\": \"white\"}, \"zaxis\": {\"backgroundcolor\": \"#E5ECF6\", \"gridcolor\": \"white\", \"gridwidth\": 2, \"linecolor\": \"white\", \"showbackground\": true, \"ticks\": \"\", \"zerolinecolor\": \"white\"}}, \"shapedefaults\": {\"line\": {\"color\": \"#2a3f5f\"}}, \"ternary\": {\"aaxis\": {\"gridcolor\": \"white\", \"linecolor\": \"white\", \"ticks\": \"\"}, \"baxis\": {\"gridcolor\": \"white\", \"linecolor\": \"white\", \"ticks\": \"\"}, \"bgcolor\": \"#E5ECF6\", \"caxis\": {\"gridcolor\": \"white\", \"linecolor\": \"white\", \"ticks\": \"\"}}, \"title\": {\"x\": 0.05}, \"xaxis\": {\"automargin\": true, \"gridcolor\": \"white\", \"linecolor\": \"white\", \"ticks\": \"\", \"title\": {\"standoff\": 15}, \"zerolinecolor\": \"white\", \"zerolinewidth\": 2}, \"yaxis\": {\"automargin\": true, \"gridcolor\": \"white\", \"linecolor\": \"white\", \"ticks\": \"\", \"title\": {\"standoff\": 15}, \"zerolinecolor\": \"white\", \"zerolinewidth\": 2}}}, \"title\": {\"text\": \"Avg. Silhouette Score per K Clusters\", \"x\": 0.5}, \"xaxis\": {\"anchor\": \"y\", \"domain\": [0.0, 1.0], \"title\": {\"text\": \"Clusters\"}}, \"yaxis\": {\"anchor\": \"x\", \"domain\": [0.0, 1.0], \"title\": {\"text\": \"Score\"}}},\n",
              "                        {\"responsive\": true}\n",
              "                    ).then(function(){\n",
              "                            \n",
              "var gd = document.getElementById('afedb7f6-3cf1-4cdf-8905-c3bc9b3a1d13');\n",
              "var x = new MutationObserver(function (mutations, observer) {{\n",
              "        var display = window.getComputedStyle(gd).display;\n",
              "        if (!display || display === 'none') {{\n",
              "            console.log([gd, 'removed!']);\n",
              "            Plotly.purge(gd);\n",
              "            observer.disconnect();\n",
              "        }}\n",
              "}});\n",
              "\n",
              "// Listen for the removal of the full notebook cells\n",
              "var notebookContainer = gd.closest('#notebook-container');\n",
              "if (notebookContainer) {{\n",
              "    x.observe(notebookContainer, {childList: true});\n",
              "}}\n",
              "\n",
              "// Listen for the clearing of the current output cell\n",
              "var outputEl = gd.closest('.output');\n",
              "if (outputEl) {{\n",
              "    x.observe(outputEl, {childList: true});\n",
              "}}\n",
              "\n",
              "                        })\n",
              "                };\n",
              "                \n",
              "            </script>\n",
              "        </div>\n",
              "</body>\n",
              "</html>"
            ]
          },
          "metadata": {
            "tags": []
          }
        }
      ]
    },
    {
      "cell_type": "markdown",
      "metadata": {
        "id": "ktx-aW4S6kAm"
      },
      "source": [
        "### Choose a number of clusters, run KMeans with that value for k on the scaled data, and add a column to the original housing data set containing the cluster that each record is assigned to."
      ]
    },
    {
      "cell_type": "code",
      "metadata": {
        "id": "ZEtpL4hY6kAm"
      },
      "source": [
        "model = KMeans(n_clusters=4, random_state=42)\n",
        "clusters = model.fit_predict(X_scaled)\n",
        "num_data['Cluster'] = clusters"
      ],
      "execution_count": 8,
      "outputs": []
    },
    {
      "cell_type": "code",
      "metadata": {
        "colab": {
          "base_uri": "https://localhost:8080/"
        },
        "id": "kMGr0esWi6T6",
        "outputId": "536f2f02-be36-492c-9d33-3c71df031fb5"
      },
      "source": [
        "num_data.Cluster.value_counts()"
      ],
      "execution_count": 9,
      "outputs": [
        {
          "output_type": "execute_result",
          "data": {
            "text/plain": [
              "2    545\n",
              "1    380\n",
              "0    367\n",
              "3    160\n",
              "Name: Cluster, dtype: int64"
            ]
          },
          "metadata": {
            "tags": []
          },
          "execution_count": 9
        }
      ]
    },
    {
      "cell_type": "markdown",
      "metadata": {
        "id": "mD7OUeWZ6kAp"
      },
      "source": [
        "### Create an interactive bar chart that shows the average SalePrice of a property by cluster.\n",
        "\n",
        "You will need to aggregate the data by cluster and average the sale prices before generating your visualization."
      ]
    },
    {
      "cell_type": "code",
      "metadata": {
        "id": "ddaaHpDj6kAq",
        "colab": {
          "base_uri": "https://localhost:8080/",
          "height": 542
        },
        "outputId": "0a7aef41-3b0f-49a5-e4a8-1601c17916c5"
      },
      "source": [
        "cluster_means = num_data.groupby(\"Cluster\").mean().reset_index()\n",
        "\n",
        "fig = px.bar(cluster_means, x=\"Cluster\", y=\"SalePrice\", title=\"Avg. Sales Price by Cluster\")\n",
        "\n",
        "fig.update_traces(\n",
        "    marker_color=\"lightskyblue\", marker_line_color=\"black\", marker_line_width=1\n",
        ")\n",
        "fig.show()"
      ],
      "execution_count": 10,
      "outputs": [
        {
          "output_type": "display_data",
          "data": {
            "text/html": [
              "<html>\n",
              "<head><meta charset=\"utf-8\" /></head>\n",
              "<body>\n",
              "    <div>\n",
              "            <script src=\"https://cdnjs.cloudflare.com/ajax/libs/mathjax/2.7.5/MathJax.js?config=TeX-AMS-MML_SVG\"></script><script type=\"text/javascript\">if (window.MathJax) {MathJax.Hub.Config({SVG: {font: \"STIX-Web\"}});}</script>\n",
              "                <script type=\"text/javascript\">window.PlotlyConfig = {MathJaxConfig: 'local'};</script>\n",
              "        <script src=\"https://cdn.plot.ly/plotly-latest.min.js\"></script>    \n",
              "            <div id=\"68489439-edd4-42f3-a4ec-bf784d490d0d\" class=\"plotly-graph-div\" style=\"height:525px; width:100%;\"></div>\n",
              "            <script type=\"text/javascript\">\n",
              "                \n",
              "                    window.PLOTLYENV=window.PLOTLYENV || {};\n",
              "                    \n",
              "                if (document.getElementById(\"68489439-edd4-42f3-a4ec-bf784d490d0d\")) {\n",
              "                    Plotly.newPlot(\n",
              "                        '68489439-edd4-42f3-a4ec-bf784d490d0d',\n",
              "                        [{\"alignmentgroup\": \"True\", \"hoverlabel\": {\"namelength\": 0}, \"hovertemplate\": \"Cluster=%{x}<br>SalePrice=%{y}\", \"legendgroup\": \"\", \"marker\": {\"color\": \"lightskyblue\", \"line\": {\"color\": \"black\", \"width\": 1}}, \"name\": \"\", \"offsetgroup\": \"\", \"orientation\": \"v\", \"showlegend\": false, \"textposition\": \"auto\", \"type\": \"bar\", \"x\": [0, 1, 2, 3], \"xaxis\": \"x\", \"y\": [225038.73841961852, 232464.90526315788, 126110.52293577982, 141230.975], \"yaxis\": \"y\"}],\n",
              "                        {\"barmode\": \"relative\", \"legend\": {\"tracegroupgap\": 0}, \"template\": {\"data\": {\"bar\": [{\"error_x\": {\"color\": \"#2a3f5f\"}, \"error_y\": {\"color\": \"#2a3f5f\"}, \"marker\": {\"line\": {\"color\": \"#E5ECF6\", \"width\": 0.5}}, \"type\": \"bar\"}], \"barpolar\": [{\"marker\": {\"line\": {\"color\": \"#E5ECF6\", \"width\": 0.5}}, \"type\": \"barpolar\"}], \"carpet\": [{\"aaxis\": {\"endlinecolor\": \"#2a3f5f\", \"gridcolor\": \"white\", \"linecolor\": \"white\", \"minorgridcolor\": \"white\", \"startlinecolor\": \"#2a3f5f\"}, \"baxis\": {\"endlinecolor\": \"#2a3f5f\", \"gridcolor\": \"white\", \"linecolor\": \"white\", \"minorgridcolor\": \"white\", \"startlinecolor\": \"#2a3f5f\"}, \"type\": \"carpet\"}], \"choropleth\": [{\"colorbar\": {\"outlinewidth\": 0, \"ticks\": \"\"}, \"type\": \"choropleth\"}], \"contour\": [{\"colorbar\": {\"outlinewidth\": 0, \"ticks\": \"\"}, \"colorscale\": [[0.0, \"#0d0887\"], [0.1111111111111111, \"#46039f\"], [0.2222222222222222, \"#7201a8\"], [0.3333333333333333, \"#9c179e\"], [0.4444444444444444, \"#bd3786\"], [0.5555555555555556, \"#d8576b\"], [0.6666666666666666, \"#ed7953\"], [0.7777777777777778, \"#fb9f3a\"], [0.8888888888888888, \"#fdca26\"], [1.0, \"#f0f921\"]], \"type\": \"contour\"}], \"contourcarpet\": [{\"colorbar\": {\"outlinewidth\": 0, \"ticks\": \"\"}, \"type\": \"contourcarpet\"}], \"heatmap\": [{\"colorbar\": {\"outlinewidth\": 0, \"ticks\": \"\"}, \"colorscale\": [[0.0, \"#0d0887\"], [0.1111111111111111, \"#46039f\"], [0.2222222222222222, \"#7201a8\"], [0.3333333333333333, \"#9c179e\"], [0.4444444444444444, \"#bd3786\"], [0.5555555555555556, \"#d8576b\"], [0.6666666666666666, \"#ed7953\"], [0.7777777777777778, \"#fb9f3a\"], [0.8888888888888888, \"#fdca26\"], [1.0, \"#f0f921\"]], \"type\": \"heatmap\"}], \"heatmapgl\": [{\"colorbar\": {\"outlinewidth\": 0, \"ticks\": \"\"}, \"colorscale\": [[0.0, \"#0d0887\"], [0.1111111111111111, \"#46039f\"], [0.2222222222222222, \"#7201a8\"], [0.3333333333333333, \"#9c179e\"], [0.4444444444444444, \"#bd3786\"], [0.5555555555555556, \"#d8576b\"], [0.6666666666666666, \"#ed7953\"], [0.7777777777777778, \"#fb9f3a\"], [0.8888888888888888, \"#fdca26\"], [1.0, \"#f0f921\"]], \"type\": \"heatmapgl\"}], \"histogram\": [{\"marker\": {\"colorbar\": {\"outlinewidth\": 0, \"ticks\": \"\"}}, \"type\": \"histogram\"}], \"histogram2d\": [{\"colorbar\": {\"outlinewidth\": 0, \"ticks\": \"\"}, \"colorscale\": [[0.0, \"#0d0887\"], [0.1111111111111111, \"#46039f\"], [0.2222222222222222, \"#7201a8\"], [0.3333333333333333, \"#9c179e\"], [0.4444444444444444, \"#bd3786\"], [0.5555555555555556, \"#d8576b\"], [0.6666666666666666, \"#ed7953\"], [0.7777777777777778, \"#fb9f3a\"], [0.8888888888888888, \"#fdca26\"], [1.0, \"#f0f921\"]], \"type\": \"histogram2d\"}], \"histogram2dcontour\": [{\"colorbar\": {\"outlinewidth\": 0, \"ticks\": \"\"}, \"colorscale\": [[0.0, \"#0d0887\"], [0.1111111111111111, \"#46039f\"], [0.2222222222222222, \"#7201a8\"], [0.3333333333333333, \"#9c179e\"], [0.4444444444444444, \"#bd3786\"], [0.5555555555555556, \"#d8576b\"], [0.6666666666666666, \"#ed7953\"], [0.7777777777777778, \"#fb9f3a\"], [0.8888888888888888, \"#fdca26\"], [1.0, \"#f0f921\"]], \"type\": \"histogram2dcontour\"}], \"mesh3d\": [{\"colorbar\": {\"outlinewidth\": 0, \"ticks\": \"\"}, \"type\": \"mesh3d\"}], \"parcoords\": [{\"line\": {\"colorbar\": {\"outlinewidth\": 0, \"ticks\": \"\"}}, \"type\": \"parcoords\"}], \"pie\": [{\"automargin\": true, \"type\": \"pie\"}], \"scatter\": [{\"marker\": {\"colorbar\": {\"outlinewidth\": 0, \"ticks\": \"\"}}, \"type\": \"scatter\"}], \"scatter3d\": [{\"line\": {\"colorbar\": {\"outlinewidth\": 0, \"ticks\": \"\"}}, \"marker\": {\"colorbar\": {\"outlinewidth\": 0, \"ticks\": \"\"}}, \"type\": \"scatter3d\"}], \"scattercarpet\": [{\"marker\": {\"colorbar\": {\"outlinewidth\": 0, \"ticks\": \"\"}}, \"type\": \"scattercarpet\"}], \"scattergeo\": [{\"marker\": {\"colorbar\": {\"outlinewidth\": 0, \"ticks\": \"\"}}, \"type\": \"scattergeo\"}], \"scattergl\": [{\"marker\": {\"colorbar\": {\"outlinewidth\": 0, \"ticks\": \"\"}}, \"type\": \"scattergl\"}], \"scattermapbox\": [{\"marker\": {\"colorbar\": {\"outlinewidth\": 0, \"ticks\": \"\"}}, \"type\": \"scattermapbox\"}], \"scatterpolar\": [{\"marker\": {\"colorbar\": {\"outlinewidth\": 0, \"ticks\": \"\"}}, \"type\": \"scatterpolar\"}], \"scatterpolargl\": [{\"marker\": {\"colorbar\": {\"outlinewidth\": 0, \"ticks\": \"\"}}, \"type\": \"scatterpolargl\"}], \"scatterternary\": [{\"marker\": {\"colorbar\": {\"outlinewidth\": 0, \"ticks\": \"\"}}, \"type\": \"scatterternary\"}], \"surface\": [{\"colorbar\": {\"outlinewidth\": 0, \"ticks\": \"\"}, \"colorscale\": [[0.0, \"#0d0887\"], [0.1111111111111111, \"#46039f\"], [0.2222222222222222, \"#7201a8\"], [0.3333333333333333, \"#9c179e\"], [0.4444444444444444, \"#bd3786\"], [0.5555555555555556, \"#d8576b\"], [0.6666666666666666, \"#ed7953\"], [0.7777777777777778, \"#fb9f3a\"], [0.8888888888888888, \"#fdca26\"], [1.0, \"#f0f921\"]], \"type\": \"surface\"}], \"table\": [{\"cells\": {\"fill\": {\"color\": \"#EBF0F8\"}, \"line\": {\"color\": \"white\"}}, \"header\": {\"fill\": {\"color\": \"#C8D4E3\"}, \"line\": {\"color\": \"white\"}}, \"type\": \"table\"}]}, \"layout\": {\"annotationdefaults\": {\"arrowcolor\": \"#2a3f5f\", \"arrowhead\": 0, \"arrowwidth\": 1}, \"coloraxis\": {\"colorbar\": {\"outlinewidth\": 0, \"ticks\": \"\"}}, \"colorscale\": {\"diverging\": [[0, \"#8e0152\"], [0.1, \"#c51b7d\"], [0.2, \"#de77ae\"], [0.3, \"#f1b6da\"], [0.4, \"#fde0ef\"], [0.5, \"#f7f7f7\"], [0.6, \"#e6f5d0\"], [0.7, \"#b8e186\"], [0.8, \"#7fbc41\"], [0.9, \"#4d9221\"], [1, \"#276419\"]], \"sequential\": [[0.0, \"#0d0887\"], [0.1111111111111111, \"#46039f\"], [0.2222222222222222, \"#7201a8\"], [0.3333333333333333, \"#9c179e\"], [0.4444444444444444, \"#bd3786\"], [0.5555555555555556, \"#d8576b\"], [0.6666666666666666, \"#ed7953\"], [0.7777777777777778, \"#fb9f3a\"], [0.8888888888888888, \"#fdca26\"], [1.0, \"#f0f921\"]], \"sequentialminus\": [[0.0, \"#0d0887\"], [0.1111111111111111, \"#46039f\"], [0.2222222222222222, \"#7201a8\"], [0.3333333333333333, \"#9c179e\"], [0.4444444444444444, \"#bd3786\"], [0.5555555555555556, \"#d8576b\"], [0.6666666666666666, \"#ed7953\"], [0.7777777777777778, \"#fb9f3a\"], [0.8888888888888888, \"#fdca26\"], [1.0, \"#f0f921\"]]}, \"colorway\": [\"#636efa\", \"#EF553B\", \"#00cc96\", \"#ab63fa\", \"#FFA15A\", \"#19d3f3\", \"#FF6692\", \"#B6E880\", \"#FF97FF\", \"#FECB52\"], \"font\": {\"color\": \"#2a3f5f\"}, \"geo\": {\"bgcolor\": \"white\", \"lakecolor\": \"white\", \"landcolor\": \"#E5ECF6\", \"showlakes\": true, \"showland\": true, \"subunitcolor\": \"white\"}, \"hoverlabel\": {\"align\": \"left\"}, \"hovermode\": \"closest\", \"mapbox\": {\"style\": \"light\"}, \"paper_bgcolor\": \"white\", \"plot_bgcolor\": \"#E5ECF6\", \"polar\": {\"angularaxis\": {\"gridcolor\": \"white\", \"linecolor\": \"white\", \"ticks\": \"\"}, \"bgcolor\": \"#E5ECF6\", \"radialaxis\": {\"gridcolor\": \"white\", \"linecolor\": \"white\", \"ticks\": \"\"}}, \"scene\": {\"xaxis\": {\"backgroundcolor\": \"#E5ECF6\", \"gridcolor\": \"white\", \"gridwidth\": 2, \"linecolor\": \"white\", \"showbackground\": true, \"ticks\": \"\", \"zerolinecolor\": \"white\"}, \"yaxis\": {\"backgroundcolor\": \"#E5ECF6\", \"gridcolor\": \"white\", \"gridwidth\": 2, \"linecolor\": \"white\", \"showbackground\": true, \"ticks\": \"\", \"zerolinecolor\": \"white\"}, \"zaxis\": {\"backgroundcolor\": \"#E5ECF6\", \"gridcolor\": \"white\", \"gridwidth\": 2, \"linecolor\": \"white\", \"showbackground\": true, \"ticks\": \"\", \"zerolinecolor\": \"white\"}}, \"shapedefaults\": {\"line\": {\"color\": \"#2a3f5f\"}}, \"ternary\": {\"aaxis\": {\"gridcolor\": \"white\", \"linecolor\": \"white\", \"ticks\": \"\"}, \"baxis\": {\"gridcolor\": \"white\", \"linecolor\": \"white\", \"ticks\": \"\"}, \"bgcolor\": \"#E5ECF6\", \"caxis\": {\"gridcolor\": \"white\", \"linecolor\": \"white\", \"ticks\": \"\"}}, \"title\": {\"x\": 0.05}, \"xaxis\": {\"automargin\": true, \"gridcolor\": \"white\", \"linecolor\": \"white\", \"ticks\": \"\", \"title\": {\"standoff\": 15}, \"zerolinecolor\": \"white\", \"zerolinewidth\": 2}, \"yaxis\": {\"automargin\": true, \"gridcolor\": \"white\", \"linecolor\": \"white\", \"ticks\": \"\", \"title\": {\"standoff\": 15}, \"zerolinecolor\": \"white\", \"zerolinewidth\": 2}}}, \"title\": {\"text\": \"Avg. Sales Price by Cluster\"}, \"xaxis\": {\"anchor\": \"y\", \"domain\": [0.0, 1.0], \"title\": {\"text\": \"Cluster\"}}, \"yaxis\": {\"anchor\": \"x\", \"domain\": [0.0, 1.0], \"title\": {\"text\": \"SalePrice\"}}},\n",
              "                        {\"responsive\": true}\n",
              "                    ).then(function(){\n",
              "                            \n",
              "var gd = document.getElementById('68489439-edd4-42f3-a4ec-bf784d490d0d');\n",
              "var x = new MutationObserver(function (mutations, observer) {{\n",
              "        var display = window.getComputedStyle(gd).display;\n",
              "        if (!display || display === 'none') {{\n",
              "            console.log([gd, 'removed!']);\n",
              "            Plotly.purge(gd);\n",
              "            observer.disconnect();\n",
              "        }}\n",
              "}});\n",
              "\n",
              "// Listen for the removal of the full notebook cells\n",
              "var notebookContainer = gd.closest('#notebook-container');\n",
              "if (notebookContainer) {{\n",
              "    x.observe(notebookContainer, {childList: true});\n",
              "}}\n",
              "\n",
              "// Listen for the clearing of the current output cell\n",
              "var outputEl = gd.closest('.output');\n",
              "if (outputEl) {{\n",
              "    x.observe(outputEl, {childList: true});\n",
              "}}\n",
              "\n",
              "                        })\n",
              "                };\n",
              "                \n",
              "            </script>\n",
              "        </div>\n",
              "</body>\n",
              "</html>"
            ]
          },
          "metadata": {
            "tags": []
          }
        }
      ]
    },
    {
      "cell_type": "markdown",
      "metadata": {
        "id": "WrHSAs_o6kAt"
      },
      "source": [
        "### Create another bar chart where the bars are broken down and color-coded by the year the property was sold.\n",
        "\n",
        "You will need to convert the YrSold field to be categorical in order to separate the bars based on that field."
      ]
    },
    {
      "cell_type": "code",
      "metadata": {
        "id": "mt6Luvya6kAt",
        "colab": {
          "base_uri": "https://localhost:8080/",
          "height": 542
        },
        "outputId": "f42d370d-110b-4224-9af7-c242aaa17fce"
      },
      "source": [
        "cluster_sold_means = num_data.groupby([\"Cluster\", \"YrSold\"]).mean().reset_index()\n",
        "cluster_sold_means[\"YrSold\"] = cluster_sold_means[\"YrSold\"].astype(\"object\")\n",
        "\n",
        "fig = px.bar(\n",
        "    cluster_sold_means,\n",
        "    x=\"Cluster\",\n",
        "    y=\"SalePrice\",\n",
        "    color=\"YrSold\",\n",
        "    title=\"Avg. Sale Price by Cluster and Year Sold\",\n",
        ")\n",
        "\n",
        "fig.update_layout(barmode=\"group\")\n",
        "fig.update_traces(marker_line_color=\"black\", marker_line_width=1)\n",
        "\n",
        "fig.show()"
      ],
      "execution_count": 11,
      "outputs": [
        {
          "output_type": "display_data",
          "data": {
            "text/html": [
              "<html>\n",
              "<head><meta charset=\"utf-8\" /></head>\n",
              "<body>\n",
              "    <div>\n",
              "            <script src=\"https://cdnjs.cloudflare.com/ajax/libs/mathjax/2.7.5/MathJax.js?config=TeX-AMS-MML_SVG\"></script><script type=\"text/javascript\">if (window.MathJax) {MathJax.Hub.Config({SVG: {font: \"STIX-Web\"}});}</script>\n",
              "                <script type=\"text/javascript\">window.PlotlyConfig = {MathJaxConfig: 'local'};</script>\n",
              "        <script src=\"https://cdn.plot.ly/plotly-latest.min.js\"></script>    \n",
              "            <div id=\"b684551d-d8e7-4a4d-bd5c-e392292af3d8\" class=\"plotly-graph-div\" style=\"height:525px; width:100%;\"></div>\n",
              "            <script type=\"text/javascript\">\n",
              "                \n",
              "                    window.PLOTLYENV=window.PLOTLYENV || {};\n",
              "                    \n",
              "                if (document.getElementById(\"b684551d-d8e7-4a4d-bd5c-e392292af3d8\")) {\n",
              "                    Plotly.newPlot(\n",
              "                        'b684551d-d8e7-4a4d-bd5c-e392292af3d8',\n",
              "                        [{\"alignmentgroup\": \"True\", \"hoverlabel\": {\"namelength\": 0}, \"hovertemplate\": \"YrSold=2006<br>Cluster=%{x}<br>SalePrice=%{y}\", \"legendgroup\": \"YrSold=2006\", \"marker\": {\"color\": \"#636efa\", \"line\": {\"color\": \"black\", \"width\": 1}}, \"name\": \"YrSold=2006\", \"offsetgroup\": \"YrSold=2006\", \"orientation\": \"v\", \"showlegend\": true, \"textposition\": \"auto\", \"type\": \"bar\", \"x\": [0, 1, 2, 3], \"xaxis\": \"x\", \"y\": [214370.11764705883, 241324.17283950618, 125789.27272727272, 141891.67567567568], \"yaxis\": \"y\"}, {\"alignmentgroup\": \"True\", \"hoverlabel\": {\"namelength\": 0}, \"hovertemplate\": \"YrSold=2007<br>Cluster=%{x}<br>SalePrice=%{y}\", \"legendgroup\": \"YrSold=2007\", \"marker\": {\"color\": \"#EF553B\", \"line\": {\"color\": \"black\", \"width\": 1}}, \"name\": \"YrSold=2007\", \"offsetgroup\": \"YrSold=2007\", \"orientation\": \"v\", \"showlegend\": true, \"textposition\": \"auto\", \"type\": \"bar\", \"x\": [0, 1, 2, 3], \"xaxis\": \"x\", \"y\": [238455.0, 233798.39130434784, 125912.46774193548, 145893.33333333334], \"yaxis\": \"y\"}, {\"alignmentgroup\": \"True\", \"hoverlabel\": {\"namelength\": 0}, \"hovertemplate\": \"YrSold=2008<br>Cluster=%{x}<br>SalePrice=%{y}\", \"legendgroup\": \"YrSold=2008\", \"marker\": {\"color\": \"#00cc96\", \"line\": {\"color\": \"black\", \"width\": 1}}, \"name\": \"YrSold=2008\", \"offsetgroup\": \"YrSold=2008\", \"orientation\": \"v\", \"showlegend\": true, \"textposition\": \"auto\", \"type\": \"bar\", \"x\": [0, 1, 2, 3], \"xaxis\": \"x\", \"y\": [212952.96923076923, 228582.74390243902, 128242.01694915254, 154846.08333333334], \"yaxis\": \"y\"}, {\"alignmentgroup\": \"True\", \"hoverlabel\": {\"namelength\": 0}, \"hovertemplate\": \"YrSold=2009<br>Cluster=%{x}<br>SalePrice=%{y}\", \"legendgroup\": \"YrSold=2009\", \"marker\": {\"color\": \"#ab63fa\", \"line\": {\"color\": \"black\", \"width\": 1}}, \"name\": \"YrSold=2009\", \"offsetgroup\": \"YrSold=2009\", \"orientation\": \"v\", \"showlegend\": true, \"textposition\": \"auto\", \"type\": \"bar\", \"x\": [0, 1, 2, 3], \"xaxis\": \"x\", \"y\": [227008.8085106383, 226954.55681818182, 121650.975, 130120.14285714286], \"yaxis\": \"y\"}, {\"alignmentgroup\": \"True\", \"hoverlabel\": {\"namelength\": 0}, \"hovertemplate\": \"YrSold=2010<br>Cluster=%{x}<br>SalePrice=%{y}\", \"legendgroup\": \"YrSold=2010\", \"marker\": {\"color\": \"#FFA15A\", \"line\": {\"color\": \"black\", \"width\": 1}}, \"name\": \"YrSold=2010\", \"offsetgroup\": \"YrSold=2010\", \"orientation\": \"v\", \"showlegend\": true, \"textposition\": \"auto\", \"type\": \"bar\", \"x\": [0, 1, 2, 3], \"xaxis\": \"x\", \"y\": [235050.7380952381, 231464.0, 130816.35616438356, 129159.09090909091], \"yaxis\": \"y\"}],\n",
              "                        {\"barmode\": \"group\", \"legend\": {\"tracegroupgap\": 0}, \"template\": {\"data\": {\"bar\": [{\"error_x\": {\"color\": \"#2a3f5f\"}, \"error_y\": {\"color\": \"#2a3f5f\"}, \"marker\": {\"line\": {\"color\": \"#E5ECF6\", \"width\": 0.5}}, \"type\": \"bar\"}], \"barpolar\": [{\"marker\": {\"line\": {\"color\": \"#E5ECF6\", \"width\": 0.5}}, \"type\": \"barpolar\"}], \"carpet\": [{\"aaxis\": {\"endlinecolor\": \"#2a3f5f\", \"gridcolor\": \"white\", \"linecolor\": \"white\", \"minorgridcolor\": \"white\", \"startlinecolor\": \"#2a3f5f\"}, \"baxis\": {\"endlinecolor\": \"#2a3f5f\", \"gridcolor\": \"white\", \"linecolor\": \"white\", \"minorgridcolor\": \"white\", \"startlinecolor\": \"#2a3f5f\"}, \"type\": \"carpet\"}], \"choropleth\": [{\"colorbar\": {\"outlinewidth\": 0, \"ticks\": \"\"}, \"type\": \"choropleth\"}], \"contour\": [{\"colorbar\": {\"outlinewidth\": 0, \"ticks\": \"\"}, \"colorscale\": [[0.0, \"#0d0887\"], [0.1111111111111111, \"#46039f\"], [0.2222222222222222, \"#7201a8\"], [0.3333333333333333, \"#9c179e\"], [0.4444444444444444, \"#bd3786\"], [0.5555555555555556, \"#d8576b\"], [0.6666666666666666, \"#ed7953\"], [0.7777777777777778, \"#fb9f3a\"], [0.8888888888888888, \"#fdca26\"], [1.0, \"#f0f921\"]], \"type\": \"contour\"}], \"contourcarpet\": [{\"colorbar\": {\"outlinewidth\": 0, \"ticks\": \"\"}, \"type\": \"contourcarpet\"}], \"heatmap\": [{\"colorbar\": {\"outlinewidth\": 0, \"ticks\": \"\"}, \"colorscale\": [[0.0, \"#0d0887\"], [0.1111111111111111, \"#46039f\"], [0.2222222222222222, \"#7201a8\"], [0.3333333333333333, \"#9c179e\"], [0.4444444444444444, \"#bd3786\"], [0.5555555555555556, \"#d8576b\"], [0.6666666666666666, \"#ed7953\"], [0.7777777777777778, \"#fb9f3a\"], [0.8888888888888888, \"#fdca26\"], [1.0, \"#f0f921\"]], \"type\": \"heatmap\"}], \"heatmapgl\": [{\"colorbar\": {\"outlinewidth\": 0, \"ticks\": \"\"}, \"colorscale\": [[0.0, \"#0d0887\"], [0.1111111111111111, \"#46039f\"], [0.2222222222222222, \"#7201a8\"], [0.3333333333333333, \"#9c179e\"], [0.4444444444444444, \"#bd3786\"], [0.5555555555555556, \"#d8576b\"], [0.6666666666666666, \"#ed7953\"], [0.7777777777777778, \"#fb9f3a\"], [0.8888888888888888, \"#fdca26\"], [1.0, \"#f0f921\"]], \"type\": \"heatmapgl\"}], \"histogram\": [{\"marker\": {\"colorbar\": {\"outlinewidth\": 0, \"ticks\": \"\"}}, \"type\": \"histogram\"}], \"histogram2d\": [{\"colorbar\": {\"outlinewidth\": 0, \"ticks\": \"\"}, \"colorscale\": [[0.0, \"#0d0887\"], [0.1111111111111111, \"#46039f\"], [0.2222222222222222, \"#7201a8\"], [0.3333333333333333, \"#9c179e\"], [0.4444444444444444, \"#bd3786\"], [0.5555555555555556, \"#d8576b\"], [0.6666666666666666, \"#ed7953\"], [0.7777777777777778, \"#fb9f3a\"], [0.8888888888888888, \"#fdca26\"], [1.0, \"#f0f921\"]], \"type\": \"histogram2d\"}], \"histogram2dcontour\": [{\"colorbar\": {\"outlinewidth\": 0, \"ticks\": \"\"}, \"colorscale\": [[0.0, \"#0d0887\"], [0.1111111111111111, \"#46039f\"], [0.2222222222222222, \"#7201a8\"], [0.3333333333333333, \"#9c179e\"], [0.4444444444444444, \"#bd3786\"], [0.5555555555555556, \"#d8576b\"], [0.6666666666666666, \"#ed7953\"], [0.7777777777777778, \"#fb9f3a\"], [0.8888888888888888, \"#fdca26\"], [1.0, \"#f0f921\"]], \"type\": \"histogram2dcontour\"}], \"mesh3d\": [{\"colorbar\": {\"outlinewidth\": 0, \"ticks\": \"\"}, \"type\": \"mesh3d\"}], \"parcoords\": [{\"line\": {\"colorbar\": {\"outlinewidth\": 0, \"ticks\": \"\"}}, \"type\": \"parcoords\"}], \"pie\": [{\"automargin\": true, \"type\": \"pie\"}], \"scatter\": [{\"marker\": {\"colorbar\": {\"outlinewidth\": 0, \"ticks\": \"\"}}, \"type\": \"scatter\"}], \"scatter3d\": [{\"line\": {\"colorbar\": {\"outlinewidth\": 0, \"ticks\": \"\"}}, \"marker\": {\"colorbar\": {\"outlinewidth\": 0, \"ticks\": \"\"}}, \"type\": \"scatter3d\"}], \"scattercarpet\": [{\"marker\": {\"colorbar\": {\"outlinewidth\": 0, \"ticks\": \"\"}}, \"type\": \"scattercarpet\"}], \"scattergeo\": [{\"marker\": {\"colorbar\": {\"outlinewidth\": 0, \"ticks\": \"\"}}, \"type\": \"scattergeo\"}], \"scattergl\": [{\"marker\": {\"colorbar\": {\"outlinewidth\": 0, \"ticks\": \"\"}}, \"type\": \"scattergl\"}], \"scattermapbox\": [{\"marker\": {\"colorbar\": {\"outlinewidth\": 0, \"ticks\": \"\"}}, \"type\": \"scattermapbox\"}], \"scatterpolar\": [{\"marker\": {\"colorbar\": {\"outlinewidth\": 0, \"ticks\": \"\"}}, \"type\": \"scatterpolar\"}], \"scatterpolargl\": [{\"marker\": {\"colorbar\": {\"outlinewidth\": 0, \"ticks\": \"\"}}, \"type\": \"scatterpolargl\"}], \"scatterternary\": [{\"marker\": {\"colorbar\": {\"outlinewidth\": 0, \"ticks\": \"\"}}, \"type\": \"scatterternary\"}], \"surface\": [{\"colorbar\": {\"outlinewidth\": 0, \"ticks\": \"\"}, \"colorscale\": [[0.0, \"#0d0887\"], [0.1111111111111111, \"#46039f\"], [0.2222222222222222, \"#7201a8\"], [0.3333333333333333, \"#9c179e\"], [0.4444444444444444, \"#bd3786\"], [0.5555555555555556, \"#d8576b\"], [0.6666666666666666, \"#ed7953\"], [0.7777777777777778, \"#fb9f3a\"], [0.8888888888888888, \"#fdca26\"], [1.0, \"#f0f921\"]], \"type\": \"surface\"}], \"table\": [{\"cells\": {\"fill\": {\"color\": \"#EBF0F8\"}, \"line\": {\"color\": \"white\"}}, \"header\": {\"fill\": {\"color\": \"#C8D4E3\"}, \"line\": {\"color\": \"white\"}}, \"type\": \"table\"}]}, \"layout\": {\"annotationdefaults\": {\"arrowcolor\": \"#2a3f5f\", \"arrowhead\": 0, \"arrowwidth\": 1}, \"coloraxis\": {\"colorbar\": {\"outlinewidth\": 0, \"ticks\": \"\"}}, \"colorscale\": {\"diverging\": [[0, \"#8e0152\"], [0.1, \"#c51b7d\"], [0.2, \"#de77ae\"], [0.3, \"#f1b6da\"], [0.4, \"#fde0ef\"], [0.5, \"#f7f7f7\"], [0.6, \"#e6f5d0\"], [0.7, \"#b8e186\"], [0.8, \"#7fbc41\"], [0.9, \"#4d9221\"], [1, \"#276419\"]], \"sequential\": [[0.0, \"#0d0887\"], [0.1111111111111111, \"#46039f\"], [0.2222222222222222, \"#7201a8\"], [0.3333333333333333, \"#9c179e\"], [0.4444444444444444, \"#bd3786\"], [0.5555555555555556, \"#d8576b\"], [0.6666666666666666, \"#ed7953\"], [0.7777777777777778, \"#fb9f3a\"], [0.8888888888888888, \"#fdca26\"], [1.0, \"#f0f921\"]], \"sequentialminus\": [[0.0, \"#0d0887\"], [0.1111111111111111, \"#46039f\"], [0.2222222222222222, \"#7201a8\"], [0.3333333333333333, \"#9c179e\"], [0.4444444444444444, \"#bd3786\"], [0.5555555555555556, \"#d8576b\"], [0.6666666666666666, \"#ed7953\"], [0.7777777777777778, \"#fb9f3a\"], [0.8888888888888888, \"#fdca26\"], [1.0, \"#f0f921\"]]}, \"colorway\": [\"#636efa\", \"#EF553B\", \"#00cc96\", \"#ab63fa\", \"#FFA15A\", \"#19d3f3\", \"#FF6692\", \"#B6E880\", \"#FF97FF\", \"#FECB52\"], \"font\": {\"color\": \"#2a3f5f\"}, \"geo\": {\"bgcolor\": \"white\", \"lakecolor\": \"white\", \"landcolor\": \"#E5ECF6\", \"showlakes\": true, \"showland\": true, \"subunitcolor\": \"white\"}, \"hoverlabel\": {\"align\": \"left\"}, \"hovermode\": \"closest\", \"mapbox\": {\"style\": \"light\"}, \"paper_bgcolor\": \"white\", \"plot_bgcolor\": \"#E5ECF6\", \"polar\": {\"angularaxis\": {\"gridcolor\": \"white\", \"linecolor\": \"white\", \"ticks\": \"\"}, \"bgcolor\": \"#E5ECF6\", \"radialaxis\": {\"gridcolor\": \"white\", \"linecolor\": \"white\", \"ticks\": \"\"}}, \"scene\": {\"xaxis\": {\"backgroundcolor\": \"#E5ECF6\", \"gridcolor\": \"white\", \"gridwidth\": 2, \"linecolor\": \"white\", \"showbackground\": true, \"ticks\": \"\", \"zerolinecolor\": \"white\"}, \"yaxis\": {\"backgroundcolor\": \"#E5ECF6\", \"gridcolor\": \"white\", \"gridwidth\": 2, \"linecolor\": \"white\", \"showbackground\": true, \"ticks\": \"\", \"zerolinecolor\": \"white\"}, \"zaxis\": {\"backgroundcolor\": \"#E5ECF6\", \"gridcolor\": \"white\", \"gridwidth\": 2, \"linecolor\": \"white\", \"showbackground\": true, \"ticks\": \"\", \"zerolinecolor\": \"white\"}}, \"shapedefaults\": {\"line\": {\"color\": \"#2a3f5f\"}}, \"ternary\": {\"aaxis\": {\"gridcolor\": \"white\", \"linecolor\": \"white\", \"ticks\": \"\"}, \"baxis\": {\"gridcolor\": \"white\", \"linecolor\": \"white\", \"ticks\": \"\"}, \"bgcolor\": \"#E5ECF6\", \"caxis\": {\"gridcolor\": \"white\", \"linecolor\": \"white\", \"ticks\": \"\"}}, \"title\": {\"x\": 0.05}, \"xaxis\": {\"automargin\": true, \"gridcolor\": \"white\", \"linecolor\": \"white\", \"ticks\": \"\", \"title\": {\"standoff\": 15}, \"zerolinecolor\": \"white\", \"zerolinewidth\": 2}, \"yaxis\": {\"automargin\": true, \"gridcolor\": \"white\", \"linecolor\": \"white\", \"ticks\": \"\", \"title\": {\"standoff\": 15}, \"zerolinecolor\": \"white\", \"zerolinewidth\": 2}}}, \"title\": {\"text\": \"Avg. Sale Price by Cluster and Year Sold\"}, \"xaxis\": {\"anchor\": \"y\", \"domain\": [0.0, 1.0], \"title\": {\"text\": \"Cluster\"}}, \"yaxis\": {\"anchor\": \"x\", \"domain\": [0.0, 1.0], \"title\": {\"text\": \"SalePrice\"}}},\n",
              "                        {\"responsive\": true}\n",
              "                    ).then(function(){\n",
              "                            \n",
              "var gd = document.getElementById('b684551d-d8e7-4a4d-bd5c-e392292af3d8');\n",
              "var x = new MutationObserver(function (mutations, observer) {{\n",
              "        var display = window.getComputedStyle(gd).display;\n",
              "        if (!display || display === 'none') {{\n",
              "            console.log([gd, 'removed!']);\n",
              "            Plotly.purge(gd);\n",
              "            observer.disconnect();\n",
              "        }}\n",
              "}});\n",
              "\n",
              "// Listen for the removal of the full notebook cells\n",
              "var notebookContainer = gd.closest('#notebook-container');\n",
              "if (notebookContainer) {{\n",
              "    x.observe(notebookContainer, {childList: true});\n",
              "}}\n",
              "\n",
              "// Listen for the clearing of the current output cell\n",
              "var outputEl = gd.closest('.output');\n",
              "if (outputEl) {{\n",
              "    x.observe(outputEl, {childList: true});\n",
              "}}\n",
              "\n",
              "                        })\n",
              "                };\n",
              "                \n",
              "            </script>\n",
              "        </div>\n",
              "</body>\n",
              "</html>"
            ]
          },
          "metadata": {
            "tags": []
          }
        }
      ]
    },
    {
      "cell_type": "markdown",
      "metadata": {
        "id": "ITP1lfa26kAw"
      },
      "source": [
        "### Add a drop-down widget to the multi-bar chart you created above that lets you choose between 4 numeric fields to represent on the Y axis. "
      ]
    },
    {
      "cell_type": "code",
      "metadata": {
        "id": "VFzN0Gil6kAx"
      },
      "source": [
        "def configure_plotly_browser_state():\n",
        "  import IPython\n",
        "  display(IPython.core.display.HTML('''\n",
        "        <script src=\"/static/components/requirejs/require.js\"></script>\n",
        "        <script>\n",
        "          requirejs.config({\n",
        "            paths: {\n",
        "              base: '/static/base',\n",
        "              plotly: 'https://cdn.plot.ly/plotly-latest.min.js?noext',\n",
        "            },\n",
        "          });\n",
        "        </script>\n",
        "        '''))\n",
        "  from plotly.offline import init_notebook_mode\n",
        "  init_notebook_mode(connected=False)"
      ],
      "execution_count": 12,
      "outputs": []
    },
    {
      "cell_type": "code",
      "metadata": {
        "id": "NKbsa5J6qRPx"
      },
      "source": [
        "from ipywidgets import interact"
      ],
      "execution_count": 13,
      "outputs": []
    },
    {
      "cell_type": "code",
      "metadata": {
        "colab": {
          "base_uri": "https://localhost:8080/",
          "height": 606,
          "referenced_widgets": [
            "62be99d1163c43d5ab210b59003140f0",
            "8aa1013b8f104054bc9d281a4eeed9ec",
            "af19c325e8f04e7e85d158156acc475d",
            "2fc8c60be641425d9b53dfa8ae3cab5b",
            "ea89cbfa646c49bca57221680d0804fe",
            "cedb1086e4ae45aa9cf5e1f28dc114c4",
            "f785da19a18a4d12b3d95ff97b87fc44",
            "eea53f139e904aa9b72d57ff6e08f01e",
            "6616fcb296894d96912eb4ad7d1f4a01",
            "470507be8217488cb059ac9c0fedfc07"
          ]
        },
        "id": "fakmJwoFqV52",
        "outputId": "fc721440-59ac-4c37-99ed-409545472ad2"
      },
      "source": [
        "@interact(\n",
        "    Metric=[\"LotArea\", \"OverallQual\", \"OverallCond\", \"SalePrice\"],\n",
        "    YearBuilt=(data[\"YearBuilt\"].min(), data[\"YearBuilt\"].max()),\n",
        ")\n",
        "def barchart(Metric, YearBuilt):\n",
        "    filtered = num_data[num_data[\"YearBuilt\"] == YearBuilt]\n",
        "    grouped = filtered.groupby([\"Cluster\", \"YrSold\"]).mean().reset_index()\n",
        "    grouped[\"YrSold\"] = grouped[\"YrSold\"].astype(\"object\")\n",
        "\n",
        "    fig = px.bar(\n",
        "        grouped,\n",
        "        x=\"Cluster\",\n",
        "        y=Metric,\n",
        "        color=\"YrSold\",\n",
        "        template=\"none\",\n",
        "        title=f\"Avg. {Metric} by Cluster and Year Sold for Properties Built in {YearBuilt}\",\n",
        "    )\n",
        "\n",
        "    fig.update_layout(barmode=\"group\")\n",
        "    fig.update_traces(marker_line_color=\"black\", marker_line_width=1)\n",
        "\n",
        "    fig.show()"
      ],
      "execution_count": 14,
      "outputs": [
        {
          "output_type": "display_data",
          "data": {
            "application/vnd.jupyter.widget-view+json": {
              "model_id": "62be99d1163c43d5ab210b59003140f0",
              "version_minor": 0,
              "version_major": 2
            },
            "text/plain": [
              "interactive(children=(Dropdown(description='Metric', options=('LotArea', 'OverallQual', 'OverallCond', 'SalePr…"
            ]
          },
          "metadata": {
            "tags": []
          }
        }
      ]
    },
    {
      "cell_type": "markdown",
      "metadata": {
        "id": "T-FnKvVu6kAz"
      },
      "source": [
        "### Create a scatter plot that shows the relationship between SalesPrice and LotArea, color-coded by cluster. Add a slider that filters the data by the year the property was sold."
      ]
    },
    {
      "cell_type": "code",
      "metadata": {
        "id": "fXlVij5Df0rU"
      },
      "source": [
        "fig = px.scatter(\n",
        "    num_data,\n",
        "    x=\"LotArea\",\n",
        "    y=\"SalePrice\",\n",
        "    color=\"Cluster\",\n",
        "    template=\"none\",\n",
        "    animation_frame=\"YearBuilt\",\n",
        "    title=\"PCA Plot by Cluster\",\n",
        "    )"
      ],
      "execution_count": 19,
      "outputs": []
    },
    {
      "cell_type": "code",
      "metadata": {
        "colab": {
          "base_uri": "https://localhost:8080/",
          "height": 606,
          "referenced_widgets": [
            "708858de2d16422897d212fcf41dcfce",
            "c2f34e86e9904e26b8a2e5d4e9a0a193",
            "165925087d484f4492a0db909601d26c",
            "37c6aee35e0348f2be5ccbb2717791ce",
            "be36f48a7ceb4ab88c51227ef6411a73",
            "ead214009b2f4531814309e33c23dab4",
            "f8fc51cdcfe946b39ce52c2ab0700f16",
            "3a14dc6f82a04f9dba793e4c95bc1917",
            "bb27c12b81fb4ff0ad8dd7de33a76b51",
            "ffefa777fd794adcb74812407ab5d8da"
          ]
        },
        "id": "JkzvFR4xZcxu",
        "outputId": "bd189852-b27b-4602-d195-489fab1952d3"
      },
      "source": [
        "@interact(\n",
        "    Metric=[\"LotArea\", \"OverallQual\", \"OverallCond\", \"SalePrice\"],\n",
        "    YearBuilt=(data[\"YearBuilt\"].min(), data[\"YearBuilt\"].max()),\n",
        ")\n",
        "def scatter(Metric, YearBuilt):\n",
        "    filtered = num_data[num_data[\"YearBuilt\"] == YearBuilt]\n",
        "    grouped = filtered.groupby([\"Cluster\", \"YrSold\"]).mean().reset_index()\n",
        "    grouped[\"YrSold\"] = grouped[\"YrSold\"].astype(\"object\")\n",
        "\n",
        "    fig = px.scatter(\n",
        "    num_data,\n",
        "    x=\"LotArea\",\n",
        "    y=\"SalePrice\",\n",
        "    color=\"Cluster\",\n",
        "    template=\"none\",\n",
        "    animation_frame=\"YearBuilt\",\n",
        "    title=\"PCA Plot by Cluster\",\n",
        "    )\n",
        "\n",
        "    fig.update_layout(barmode=\"group\")\n",
        "    fig.update_traces(marker_line_color=\"black\", marker_line_width=1)\n",
        "\n",
        "    fig.show()"
      ],
      "execution_count": 25,
      "outputs": [
        {
          "output_type": "display_data",
          "data": {
            "application/vnd.jupyter.widget-view+json": {
              "model_id": "708858de2d16422897d212fcf41dcfce",
              "version_minor": 0,
              "version_major": 2
            },
            "text/plain": [
              "interactive(children=(Dropdown(description='Metric', options=('LotArea', 'OverallQual', 'OverallCond', 'SalePr…"
            ]
          },
          "metadata": {
            "tags": []
          }
        }
      ]
    },
    {
      "cell_type": "code",
      "metadata": {
        "id": "eDOLNpN0bibd"
      },
      "source": [
        "def scatter(Metric, YearBuilt):\n",
        "    filtered = num_data[num_data[\"YearBuilt\"] == YearBuilt]\n",
        "    grouped = filtered.groupby([\"Cluster\", \"YrSold\"]).mean().reset_index()\n",
        "    grouped[\"YrSold\"] = grouped[\"YrSold\"].astype(\"object\")"
      ],
      "execution_count": null,
      "outputs": []
    }
  ]
}