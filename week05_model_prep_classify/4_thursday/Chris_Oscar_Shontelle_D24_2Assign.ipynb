{
  "nbformat": 4,
  "nbformat_minor": 0,
  "metadata": {
    "colab": {
      "name": "Chris_Oscar_Shontelle_D24_2Assign.ipynb",
      "provenance": [],
      "collapsed_sections": []
    },
    "kernelspec": {
      "display_name": "Python 3",
      "language": "python",
      "name": "python3"
    },
    "language_info": {
      "codemirror_mode": {
        "name": "ipython",
        "version": 3
      },
      "file_extension": ".py",
      "mimetype": "text/x-python",
      "name": "python",
      "nbconvert_exporter": "python",
      "pygments_lexer": "ipython3",
      "version": "3.7.3"
    }
  },
  "cells": [
    {
      "cell_type": "markdown",
      "metadata": {
        "id": "q7OBYmw2rsHe"
      },
      "source": [
        "## Day 24 Lecture 2 Assignment\n",
        "\n",
        "In this assignment, we will build our a more complex logistic regression model, this time on both numeric and categorical data. We will use the Chicago traffic crashes dataset loaded below and analyze the model generated for this dataset."
      ]
    },
    {
      "cell_type": "code",
      "metadata": {
        "id": "u3rUv9PKrsHf"
      },
      "source": [
        "%matplotlib inline\n",
        "\n",
        "import matplotlib.pyplot as plt\n",
        "import numpy as np\n",
        "import pandas as pd"
      ],
      "execution_count": 1,
      "outputs": []
    },
    {
      "cell_type": "code",
      "metadata": {
        "id": "cJ-qRkctUvv6"
      },
      "source": [
        "def missingness_summary(df, print_log=False, sort='none'):\n",
        "    summary = df.apply(lambda x: x.isna().sum() / x.shape[0])\n",
        "    \n",
        "    if print_log == True:\n",
        "        if sort == 'none':\n",
        "            print(summary)\n",
        "        elif sort == 'ascending':\n",
        "            print(summary.sort_values())\n",
        "        elif sort == 'descending':\n",
        "            print(summary.sort_values(ascending=False))\n",
        "        else:\n",
        "            print('Invalid value for sort parameter.')\n",
        "        \n",
        "    return summary"
      ],
      "execution_count": 8,
      "outputs": []
    },
    {
      "cell_type": "code",
      "metadata": {
        "id": "V_hlXXYwrsHh"
      },
      "source": [
        "crash = pd.read_csv('https://tf-assets-prod.s3.amazonaws.com/tf-curric/data-science/traffic_crashes_chicago.csv')"
      ],
      "execution_count": 72,
      "outputs": []
    },
    {
      "cell_type": "code",
      "metadata": {
        "id": "bJV8A_OQrsHj",
        "outputId": "9b84e10c-67b7-48e8-9eca-362ed8469e8d",
        "colab": {
          "base_uri": "https://localhost:8080/",
          "height": 394
        }
      },
      "source": [
        "crash.head()"
      ],
      "execution_count": 15,
      "outputs": [
        {
          "output_type": "execute_result",
          "data": {
            "text/html": [
              "<div>\n",
              "<style scoped>\n",
              "    .dataframe tbody tr th:only-of-type {\n",
              "        vertical-align: middle;\n",
              "    }\n",
              "\n",
              "    .dataframe tbody tr th {\n",
              "        vertical-align: top;\n",
              "    }\n",
              "\n",
              "    .dataframe thead th {\n",
              "        text-align: right;\n",
              "    }\n",
              "</style>\n",
              "<table border=\"1\" class=\"dataframe\">\n",
              "  <thead>\n",
              "    <tr style=\"text-align: right;\">\n",
              "      <th></th>\n",
              "      <th>RD_NO</th>\n",
              "      <th>CRASH_DATE</th>\n",
              "      <th>POSTED_SPEED_LIMIT</th>\n",
              "      <th>TRAFFIC_CONTROL_DEVICE</th>\n",
              "      <th>DEVICE_CONDITION</th>\n",
              "      <th>WEATHER_CONDITION</th>\n",
              "      <th>LIGHTING_CONDITION</th>\n",
              "      <th>FIRST_CRASH_TYPE</th>\n",
              "      <th>TRAFFICWAY_TYPE</th>\n",
              "      <th>LANE_CNT</th>\n",
              "      <th>ALIGNMENT</th>\n",
              "      <th>ROADWAY_SURFACE_COND</th>\n",
              "      <th>ROAD_DEFECT</th>\n",
              "      <th>REPORT_TYPE</th>\n",
              "      <th>CRASH_TYPE</th>\n",
              "      <th>INTERSECTION_RELATED_I</th>\n",
              "      <th>NOT_RIGHT_OF_WAY_I</th>\n",
              "      <th>HIT_AND_RUN_I</th>\n",
              "      <th>DAMAGE</th>\n",
              "      <th>DATE_POLICE_NOTIFIED</th>\n",
              "      <th>PRIM_CONTRIBUTORY_CAUSE</th>\n",
              "      <th>SEC_CONTRIBUTORY_CAUSE</th>\n",
              "      <th>STREET_NO</th>\n",
              "      <th>STREET_DIRECTION</th>\n",
              "      <th>STREET_NAME</th>\n",
              "      <th>BEAT_OF_OCCURRENCE</th>\n",
              "      <th>PHOTOS_TAKEN_I</th>\n",
              "      <th>STATEMENTS_TAKEN_I</th>\n",
              "      <th>DOORING_I</th>\n",
              "      <th>WORK_ZONE_I</th>\n",
              "      <th>WORK_ZONE_TYPE</th>\n",
              "      <th>WORKERS_PRESENT_I</th>\n",
              "      <th>NUM_UNITS</th>\n",
              "      <th>MOST_SEVERE_INJURY</th>\n",
              "      <th>INJURIES_TOTAL</th>\n",
              "      <th>INJURIES_FATAL</th>\n",
              "      <th>INJURIES_INCAPACITATING</th>\n",
              "      <th>INJURIES_NON_INCAPACITATING</th>\n",
              "      <th>INJURIES_REPORTED_NOT_EVIDENT</th>\n",
              "      <th>INJURIES_NO_INDICATION</th>\n",
              "      <th>INJURIES_UNKNOWN</th>\n",
              "    </tr>\n",
              "  </thead>\n",
              "  <tbody>\n",
              "    <tr>\n",
              "      <th>0</th>\n",
              "      <td>JC334993</td>\n",
              "      <td>7/4/2019 22:33</td>\n",
              "      <td>45</td>\n",
              "      <td>NO CONTROLS</td>\n",
              "      <td>NO CONTROLS</td>\n",
              "      <td>CLEAR</td>\n",
              "      <td>DARKNESS, LIGHTED ROAD</td>\n",
              "      <td>REAR END</td>\n",
              "      <td>DIVIDED - W/MEDIAN BARRIER</td>\n",
              "      <td>NaN</td>\n",
              "      <td>STRAIGHT AND LEVEL</td>\n",
              "      <td>DRY</td>\n",
              "      <td>NO DEFECTS</td>\n",
              "      <td>NaN</td>\n",
              "      <td>NO INJURY / DRIVE AWAY</td>\n",
              "      <td>NaN</td>\n",
              "      <td>NaN</td>\n",
              "      <td>NaN</td>\n",
              "      <td>OVER $1,500</td>\n",
              "      <td>7/4/2019 23:05</td>\n",
              "      <td>FOLLOWING TOO CLOSELY</td>\n",
              "      <td>NOT APPLICABLE</td>\n",
              "      <td>300</td>\n",
              "      <td>N</td>\n",
              "      <td>LAKE SHORE DR SB</td>\n",
              "      <td>114.0</td>\n",
              "      <td>NaN</td>\n",
              "      <td>NaN</td>\n",
              "      <td>NaN</td>\n",
              "      <td>NaN</td>\n",
              "      <td>NaN</td>\n",
              "      <td>NaN</td>\n",
              "      <td>NaN</td>\n",
              "      <td>NaN</td>\n",
              "      <td>NaN</td>\n",
              "      <td>NaN</td>\n",
              "      <td>NaN</td>\n",
              "      <td>NaN</td>\n",
              "      <td>NaN</td>\n",
              "      <td>NaN</td>\n",
              "      <td>NaN</td>\n",
              "    </tr>\n",
              "    <tr>\n",
              "      <th>1</th>\n",
              "      <td>JC370822</td>\n",
              "      <td>7/30/2019 10:22</td>\n",
              "      <td>30</td>\n",
              "      <td>NO CONTROLS</td>\n",
              "      <td>NO CONTROLS</td>\n",
              "      <td>CLEAR</td>\n",
              "      <td>DAYLIGHT</td>\n",
              "      <td>TURNING</td>\n",
              "      <td>DIVIDED - W/MEDIAN (NOT RAISED)</td>\n",
              "      <td>NaN</td>\n",
              "      <td>STRAIGHT AND LEVEL</td>\n",
              "      <td>DRY</td>\n",
              "      <td>NO DEFECTS</td>\n",
              "      <td>NaN</td>\n",
              "      <td>NO INJURY / DRIVE AWAY</td>\n",
              "      <td>NaN</td>\n",
              "      <td>NaN</td>\n",
              "      <td>NaN</td>\n",
              "      <td>OVER $1,500</td>\n",
              "      <td>7/30/2019 10:25</td>\n",
              "      <td>FAILING TO YIELD RIGHT-OF-WAY</td>\n",
              "      <td>IMPROPER TURNING/NO SIGNAL</td>\n",
              "      <td>8201</td>\n",
              "      <td>S</td>\n",
              "      <td>DR MARTIN LUTHER KING JR DR</td>\n",
              "      <td>631.0</td>\n",
              "      <td>NaN</td>\n",
              "      <td>NaN</td>\n",
              "      <td>NaN</td>\n",
              "      <td>NaN</td>\n",
              "      <td>NaN</td>\n",
              "      <td>NaN</td>\n",
              "      <td>NaN</td>\n",
              "      <td>NaN</td>\n",
              "      <td>NaN</td>\n",
              "      <td>NaN</td>\n",
              "      <td>NaN</td>\n",
              "      <td>NaN</td>\n",
              "      <td>NaN</td>\n",
              "      <td>NaN</td>\n",
              "      <td>NaN</td>\n",
              "    </tr>\n",
              "    <tr>\n",
              "      <th>2</th>\n",
              "      <td>JC387098</td>\n",
              "      <td>8/10/2019 17:00</td>\n",
              "      <td>25</td>\n",
              "      <td>NO CONTROLS</td>\n",
              "      <td>NO CONTROLS</td>\n",
              "      <td>CLEAR</td>\n",
              "      <td>DAYLIGHT</td>\n",
              "      <td>PARKED MOTOR VEHICLE</td>\n",
              "      <td>ONE-WAY</td>\n",
              "      <td>NaN</td>\n",
              "      <td>STRAIGHT AND LEVEL</td>\n",
              "      <td>DRY</td>\n",
              "      <td>NO DEFECTS</td>\n",
              "      <td>NaN</td>\n",
              "      <td>NO INJURY / DRIVE AWAY</td>\n",
              "      <td>NaN</td>\n",
              "      <td>NaN</td>\n",
              "      <td>NaN</td>\n",
              "      <td>$501 - $1,500</td>\n",
              "      <td>8/10/2019 17:35</td>\n",
              "      <td>EQUIPMENT - VEHICLE CONDITION</td>\n",
              "      <td>NOT APPLICABLE</td>\n",
              "      <td>6747</td>\n",
              "      <td>S</td>\n",
              "      <td>CREGIER AVE</td>\n",
              "      <td>332.0</td>\n",
              "      <td>NaN</td>\n",
              "      <td>NaN</td>\n",
              "      <td>NaN</td>\n",
              "      <td>NaN</td>\n",
              "      <td>NaN</td>\n",
              "      <td>NaN</td>\n",
              "      <td>1.0</td>\n",
              "      <td>NaN</td>\n",
              "      <td>NaN</td>\n",
              "      <td>NaN</td>\n",
              "      <td>NaN</td>\n",
              "      <td>NaN</td>\n",
              "      <td>NaN</td>\n",
              "      <td>NaN</td>\n",
              "      <td>NaN</td>\n",
              "    </tr>\n",
              "    <tr>\n",
              "      <th>3</th>\n",
              "      <td>JC395195</td>\n",
              "      <td>8/16/2019 16:53</td>\n",
              "      <td>30</td>\n",
              "      <td>NO CONTROLS</td>\n",
              "      <td>NO CONTROLS</td>\n",
              "      <td>CLEAR</td>\n",
              "      <td>DAYLIGHT</td>\n",
              "      <td>PARKED MOTOR VEHICLE</td>\n",
              "      <td>NOT DIVIDED</td>\n",
              "      <td>NaN</td>\n",
              "      <td>STRAIGHT AND LEVEL</td>\n",
              "      <td>DRY</td>\n",
              "      <td>NO DEFECTS</td>\n",
              "      <td>NaN</td>\n",
              "      <td>NO INJURY / DRIVE AWAY</td>\n",
              "      <td>NaN</td>\n",
              "      <td>NaN</td>\n",
              "      <td>Y</td>\n",
              "      <td>$501 - $1,500</td>\n",
              "      <td>8/16/2019 16:53</td>\n",
              "      <td>UNABLE TO DETERMINE</td>\n",
              "      <td>NOT APPLICABLE</td>\n",
              "      <td>554</td>\n",
              "      <td>N</td>\n",
              "      <td>FRANKLIN ST</td>\n",
              "      <td>1831.0</td>\n",
              "      <td>NaN</td>\n",
              "      <td>NaN</td>\n",
              "      <td>NaN</td>\n",
              "      <td>NaN</td>\n",
              "      <td>NaN</td>\n",
              "      <td>NaN</td>\n",
              "      <td>1.0</td>\n",
              "      <td>NO INDICATION OF INJURY</td>\n",
              "      <td>0.0</td>\n",
              "      <td>0.0</td>\n",
              "      <td>0.0</td>\n",
              "      <td>0.0</td>\n",
              "      <td>0.0</td>\n",
              "      <td>1.0</td>\n",
              "      <td>0.0</td>\n",
              "    </tr>\n",
              "    <tr>\n",
              "      <th>4</th>\n",
              "      <td>JC396604</td>\n",
              "      <td>8/17/2019 16:04</td>\n",
              "      <td>30</td>\n",
              "      <td>NO CONTROLS</td>\n",
              "      <td>NO CONTROLS</td>\n",
              "      <td>CLEAR</td>\n",
              "      <td>DAYLIGHT</td>\n",
              "      <td>PARKED MOTOR VEHICLE</td>\n",
              "      <td>PARKING LOT</td>\n",
              "      <td>NaN</td>\n",
              "      <td>STRAIGHT AND LEVEL</td>\n",
              "      <td>DRY</td>\n",
              "      <td>NO DEFECTS</td>\n",
              "      <td>NaN</td>\n",
              "      <td>NO INJURY / DRIVE AWAY</td>\n",
              "      <td>NaN</td>\n",
              "      <td>NaN</td>\n",
              "      <td>Y</td>\n",
              "      <td>$501 - $1,500</td>\n",
              "      <td>8/17/2019 18:30</td>\n",
              "      <td>UNABLE TO DETERMINE</td>\n",
              "      <td>UNABLE TO DETERMINE</td>\n",
              "      <td>3700</td>\n",
              "      <td>N</td>\n",
              "      <td>WESTERN AVE</td>\n",
              "      <td>1921.0</td>\n",
              "      <td>NaN</td>\n",
              "      <td>NaN</td>\n",
              "      <td>NaN</td>\n",
              "      <td>NaN</td>\n",
              "      <td>NaN</td>\n",
              "      <td>NaN</td>\n",
              "      <td>1.0</td>\n",
              "      <td>NO INDICATION OF INJURY</td>\n",
              "      <td>0.0</td>\n",
              "      <td>0.0</td>\n",
              "      <td>0.0</td>\n",
              "      <td>0.0</td>\n",
              "      <td>0.0</td>\n",
              "      <td>1.0</td>\n",
              "      <td>0.0</td>\n",
              "    </tr>\n",
              "  </tbody>\n",
              "</table>\n",
              "</div>"
            ],
            "text/plain": [
              "      RD_NO       CRASH_DATE  ...  INJURIES_NO_INDICATION INJURIES_UNKNOWN\n",
              "0  JC334993   7/4/2019 22:33  ...                     NaN              NaN\n",
              "1  JC370822  7/30/2019 10:22  ...                     NaN              NaN\n",
              "2  JC387098  8/10/2019 17:00  ...                     NaN              NaN\n",
              "3  JC395195  8/16/2019 16:53  ...                     1.0              0.0\n",
              "4  JC396604  8/17/2019 16:04  ...                     1.0              0.0\n",
              "\n",
              "[5 rows x 41 columns]"
            ]
          },
          "metadata": {
            "tags": []
          },
          "execution_count": 15
        }
      ]
    },
    {
      "cell_type": "code",
      "metadata": {
        "id": "Uo6qCj4gebHJ",
        "outputId": "ec06d3c2-ef15-4369-e519-b13e3163285f",
        "colab": {
          "base_uri": "https://localhost:8080/",
          "height": 85
        }
      },
      "source": [
        "crash['DAMAGE'].value_counts()"
      ],
      "execution_count": 21,
      "outputs": [
        {
          "output_type": "execute_result",
          "data": {
            "text/plain": [
              "OVER $1,500      209921\n",
              "$501 - $1,500    112592\n",
              "$500 OR LESS      50072\n",
              "Name: DAMAGE, dtype: int64"
            ]
          },
          "metadata": {
            "tags": []
          },
          "execution_count": 21
        }
      ]
    },
    {
      "cell_type": "markdown",
      "metadata": {
        "id": "I7kel3hRUvwA"
      },
      "source": [
        "First, create a binary response column by modifying the \"DAMAGE\" column. Consider \"OVER \\$1500\" to be the positive class, and under \\$1500 to be the negative class."
      ]
    },
    {
      "cell_type": "code",
      "metadata": {
        "id": "PHH8CfldfAcJ"
      },
      "source": [
        "crash['DAMAGE_C'] = crash['DAMAGE'] == 'OVER $1,500'"
      ],
      "execution_count": 73,
      "outputs": []
    },
    {
      "cell_type": "code",
      "metadata": {
        "id": "r0Z8zt3pf2V5",
        "outputId": "316151a6-27bb-428c-cefd-a9c0ca422a42",
        "colab": {
          "base_uri": "https://localhost:8080/",
          "height": 394
        }
      },
      "source": [
        "crash.head()"
      ],
      "execution_count": 27,
      "outputs": [
        {
          "output_type": "execute_result",
          "data": {
            "text/html": [
              "<div>\n",
              "<style scoped>\n",
              "    .dataframe tbody tr th:only-of-type {\n",
              "        vertical-align: middle;\n",
              "    }\n",
              "\n",
              "    .dataframe tbody tr th {\n",
              "        vertical-align: top;\n",
              "    }\n",
              "\n",
              "    .dataframe thead th {\n",
              "        text-align: right;\n",
              "    }\n",
              "</style>\n",
              "<table border=\"1\" class=\"dataframe\">\n",
              "  <thead>\n",
              "    <tr style=\"text-align: right;\">\n",
              "      <th></th>\n",
              "      <th>RD_NO</th>\n",
              "      <th>CRASH_DATE</th>\n",
              "      <th>POSTED_SPEED_LIMIT</th>\n",
              "      <th>TRAFFIC_CONTROL_DEVICE</th>\n",
              "      <th>DEVICE_CONDITION</th>\n",
              "      <th>WEATHER_CONDITION</th>\n",
              "      <th>LIGHTING_CONDITION</th>\n",
              "      <th>FIRST_CRASH_TYPE</th>\n",
              "      <th>TRAFFICWAY_TYPE</th>\n",
              "      <th>LANE_CNT</th>\n",
              "      <th>ALIGNMENT</th>\n",
              "      <th>ROADWAY_SURFACE_COND</th>\n",
              "      <th>ROAD_DEFECT</th>\n",
              "      <th>REPORT_TYPE</th>\n",
              "      <th>CRASH_TYPE</th>\n",
              "      <th>INTERSECTION_RELATED_I</th>\n",
              "      <th>NOT_RIGHT_OF_WAY_I</th>\n",
              "      <th>HIT_AND_RUN_I</th>\n",
              "      <th>DAMAGE</th>\n",
              "      <th>DATE_POLICE_NOTIFIED</th>\n",
              "      <th>PRIM_CONTRIBUTORY_CAUSE</th>\n",
              "      <th>SEC_CONTRIBUTORY_CAUSE</th>\n",
              "      <th>STREET_NO</th>\n",
              "      <th>STREET_DIRECTION</th>\n",
              "      <th>STREET_NAME</th>\n",
              "      <th>BEAT_OF_OCCURRENCE</th>\n",
              "      <th>PHOTOS_TAKEN_I</th>\n",
              "      <th>STATEMENTS_TAKEN_I</th>\n",
              "      <th>DOORING_I</th>\n",
              "      <th>WORK_ZONE_I</th>\n",
              "      <th>WORK_ZONE_TYPE</th>\n",
              "      <th>WORKERS_PRESENT_I</th>\n",
              "      <th>NUM_UNITS</th>\n",
              "      <th>MOST_SEVERE_INJURY</th>\n",
              "      <th>INJURIES_TOTAL</th>\n",
              "      <th>INJURIES_FATAL</th>\n",
              "      <th>INJURIES_INCAPACITATING</th>\n",
              "      <th>INJURIES_NON_INCAPACITATING</th>\n",
              "      <th>INJURIES_REPORTED_NOT_EVIDENT</th>\n",
              "      <th>INJURIES_NO_INDICATION</th>\n",
              "      <th>INJURIES_UNKNOWN</th>\n",
              "      <th>damage_t_f</th>\n",
              "      <th>DAMAGE_C</th>\n",
              "    </tr>\n",
              "  </thead>\n",
              "  <tbody>\n",
              "    <tr>\n",
              "      <th>0</th>\n",
              "      <td>JC334993</td>\n",
              "      <td>7/4/2019 22:33</td>\n",
              "      <td>45</td>\n",
              "      <td>NO CONTROLS</td>\n",
              "      <td>NO CONTROLS</td>\n",
              "      <td>CLEAR</td>\n",
              "      <td>DARKNESS, LIGHTED ROAD</td>\n",
              "      <td>REAR END</td>\n",
              "      <td>DIVIDED - W/MEDIAN BARRIER</td>\n",
              "      <td>NaN</td>\n",
              "      <td>STRAIGHT AND LEVEL</td>\n",
              "      <td>DRY</td>\n",
              "      <td>NO DEFECTS</td>\n",
              "      <td>NaN</td>\n",
              "      <td>NO INJURY / DRIVE AWAY</td>\n",
              "      <td>NaN</td>\n",
              "      <td>NaN</td>\n",
              "      <td>NaN</td>\n",
              "      <td>OVER $1,500</td>\n",
              "      <td>7/4/2019 23:05</td>\n",
              "      <td>FOLLOWING TOO CLOSELY</td>\n",
              "      <td>NOT APPLICABLE</td>\n",
              "      <td>300</td>\n",
              "      <td>N</td>\n",
              "      <td>LAKE SHORE DR SB</td>\n",
              "      <td>114.0</td>\n",
              "      <td>NaN</td>\n",
              "      <td>NaN</td>\n",
              "      <td>NaN</td>\n",
              "      <td>NaN</td>\n",
              "      <td>NaN</td>\n",
              "      <td>NaN</td>\n",
              "      <td>NaN</td>\n",
              "      <td>NaN</td>\n",
              "      <td>NaN</td>\n",
              "      <td>NaN</td>\n",
              "      <td>NaN</td>\n",
              "      <td>NaN</td>\n",
              "      <td>NaN</td>\n",
              "      <td>NaN</td>\n",
              "      <td>NaN</td>\n",
              "      <td>True</td>\n",
              "      <td>True</td>\n",
              "    </tr>\n",
              "    <tr>\n",
              "      <th>1</th>\n",
              "      <td>JC370822</td>\n",
              "      <td>7/30/2019 10:22</td>\n",
              "      <td>30</td>\n",
              "      <td>NO CONTROLS</td>\n",
              "      <td>NO CONTROLS</td>\n",
              "      <td>CLEAR</td>\n",
              "      <td>DAYLIGHT</td>\n",
              "      <td>TURNING</td>\n",
              "      <td>DIVIDED - W/MEDIAN (NOT RAISED)</td>\n",
              "      <td>NaN</td>\n",
              "      <td>STRAIGHT AND LEVEL</td>\n",
              "      <td>DRY</td>\n",
              "      <td>NO DEFECTS</td>\n",
              "      <td>NaN</td>\n",
              "      <td>NO INJURY / DRIVE AWAY</td>\n",
              "      <td>NaN</td>\n",
              "      <td>NaN</td>\n",
              "      <td>NaN</td>\n",
              "      <td>OVER $1,500</td>\n",
              "      <td>7/30/2019 10:25</td>\n",
              "      <td>FAILING TO YIELD RIGHT-OF-WAY</td>\n",
              "      <td>IMPROPER TURNING/NO SIGNAL</td>\n",
              "      <td>8201</td>\n",
              "      <td>S</td>\n",
              "      <td>DR MARTIN LUTHER KING JR DR</td>\n",
              "      <td>631.0</td>\n",
              "      <td>NaN</td>\n",
              "      <td>NaN</td>\n",
              "      <td>NaN</td>\n",
              "      <td>NaN</td>\n",
              "      <td>NaN</td>\n",
              "      <td>NaN</td>\n",
              "      <td>NaN</td>\n",
              "      <td>NaN</td>\n",
              "      <td>NaN</td>\n",
              "      <td>NaN</td>\n",
              "      <td>NaN</td>\n",
              "      <td>NaN</td>\n",
              "      <td>NaN</td>\n",
              "      <td>NaN</td>\n",
              "      <td>NaN</td>\n",
              "      <td>True</td>\n",
              "      <td>True</td>\n",
              "    </tr>\n",
              "    <tr>\n",
              "      <th>2</th>\n",
              "      <td>JC387098</td>\n",
              "      <td>8/10/2019 17:00</td>\n",
              "      <td>25</td>\n",
              "      <td>NO CONTROLS</td>\n",
              "      <td>NO CONTROLS</td>\n",
              "      <td>CLEAR</td>\n",
              "      <td>DAYLIGHT</td>\n",
              "      <td>PARKED MOTOR VEHICLE</td>\n",
              "      <td>ONE-WAY</td>\n",
              "      <td>NaN</td>\n",
              "      <td>STRAIGHT AND LEVEL</td>\n",
              "      <td>DRY</td>\n",
              "      <td>NO DEFECTS</td>\n",
              "      <td>NaN</td>\n",
              "      <td>NO INJURY / DRIVE AWAY</td>\n",
              "      <td>NaN</td>\n",
              "      <td>NaN</td>\n",
              "      <td>NaN</td>\n",
              "      <td>$501 - $1,500</td>\n",
              "      <td>8/10/2019 17:35</td>\n",
              "      <td>EQUIPMENT - VEHICLE CONDITION</td>\n",
              "      <td>NOT APPLICABLE</td>\n",
              "      <td>6747</td>\n",
              "      <td>S</td>\n",
              "      <td>CREGIER AVE</td>\n",
              "      <td>332.0</td>\n",
              "      <td>NaN</td>\n",
              "      <td>NaN</td>\n",
              "      <td>NaN</td>\n",
              "      <td>NaN</td>\n",
              "      <td>NaN</td>\n",
              "      <td>NaN</td>\n",
              "      <td>1.0</td>\n",
              "      <td>NaN</td>\n",
              "      <td>NaN</td>\n",
              "      <td>NaN</td>\n",
              "      <td>NaN</td>\n",
              "      <td>NaN</td>\n",
              "      <td>NaN</td>\n",
              "      <td>NaN</td>\n",
              "      <td>NaN</td>\n",
              "      <td>False</td>\n",
              "      <td>False</td>\n",
              "    </tr>\n",
              "    <tr>\n",
              "      <th>3</th>\n",
              "      <td>JC395195</td>\n",
              "      <td>8/16/2019 16:53</td>\n",
              "      <td>30</td>\n",
              "      <td>NO CONTROLS</td>\n",
              "      <td>NO CONTROLS</td>\n",
              "      <td>CLEAR</td>\n",
              "      <td>DAYLIGHT</td>\n",
              "      <td>PARKED MOTOR VEHICLE</td>\n",
              "      <td>NOT DIVIDED</td>\n",
              "      <td>NaN</td>\n",
              "      <td>STRAIGHT AND LEVEL</td>\n",
              "      <td>DRY</td>\n",
              "      <td>NO DEFECTS</td>\n",
              "      <td>NaN</td>\n",
              "      <td>NO INJURY / DRIVE AWAY</td>\n",
              "      <td>NaN</td>\n",
              "      <td>NaN</td>\n",
              "      <td>Y</td>\n",
              "      <td>$501 - $1,500</td>\n",
              "      <td>8/16/2019 16:53</td>\n",
              "      <td>UNABLE TO DETERMINE</td>\n",
              "      <td>NOT APPLICABLE</td>\n",
              "      <td>554</td>\n",
              "      <td>N</td>\n",
              "      <td>FRANKLIN ST</td>\n",
              "      <td>1831.0</td>\n",
              "      <td>NaN</td>\n",
              "      <td>NaN</td>\n",
              "      <td>NaN</td>\n",
              "      <td>NaN</td>\n",
              "      <td>NaN</td>\n",
              "      <td>NaN</td>\n",
              "      <td>1.0</td>\n",
              "      <td>NO INDICATION OF INJURY</td>\n",
              "      <td>0.0</td>\n",
              "      <td>0.0</td>\n",
              "      <td>0.0</td>\n",
              "      <td>0.0</td>\n",
              "      <td>0.0</td>\n",
              "      <td>1.0</td>\n",
              "      <td>0.0</td>\n",
              "      <td>False</td>\n",
              "      <td>False</td>\n",
              "    </tr>\n",
              "    <tr>\n",
              "      <th>4</th>\n",
              "      <td>JC396604</td>\n",
              "      <td>8/17/2019 16:04</td>\n",
              "      <td>30</td>\n",
              "      <td>NO CONTROLS</td>\n",
              "      <td>NO CONTROLS</td>\n",
              "      <td>CLEAR</td>\n",
              "      <td>DAYLIGHT</td>\n",
              "      <td>PARKED MOTOR VEHICLE</td>\n",
              "      <td>PARKING LOT</td>\n",
              "      <td>NaN</td>\n",
              "      <td>STRAIGHT AND LEVEL</td>\n",
              "      <td>DRY</td>\n",
              "      <td>NO DEFECTS</td>\n",
              "      <td>NaN</td>\n",
              "      <td>NO INJURY / DRIVE AWAY</td>\n",
              "      <td>NaN</td>\n",
              "      <td>NaN</td>\n",
              "      <td>Y</td>\n",
              "      <td>$501 - $1,500</td>\n",
              "      <td>8/17/2019 18:30</td>\n",
              "      <td>UNABLE TO DETERMINE</td>\n",
              "      <td>UNABLE TO DETERMINE</td>\n",
              "      <td>3700</td>\n",
              "      <td>N</td>\n",
              "      <td>WESTERN AVE</td>\n",
              "      <td>1921.0</td>\n",
              "      <td>NaN</td>\n",
              "      <td>NaN</td>\n",
              "      <td>NaN</td>\n",
              "      <td>NaN</td>\n",
              "      <td>NaN</td>\n",
              "      <td>NaN</td>\n",
              "      <td>1.0</td>\n",
              "      <td>NO INDICATION OF INJURY</td>\n",
              "      <td>0.0</td>\n",
              "      <td>0.0</td>\n",
              "      <td>0.0</td>\n",
              "      <td>0.0</td>\n",
              "      <td>0.0</td>\n",
              "      <td>1.0</td>\n",
              "      <td>0.0</td>\n",
              "      <td>False</td>\n",
              "      <td>False</td>\n",
              "    </tr>\n",
              "  </tbody>\n",
              "</table>\n",
              "</div>"
            ],
            "text/plain": [
              "      RD_NO       CRASH_DATE  ...  damage_t_f DAMAGE_C\n",
              "0  JC334993   7/4/2019 22:33  ...        True     True\n",
              "1  JC370822  7/30/2019 10:22  ...        True     True\n",
              "2  JC387098  8/10/2019 17:00  ...       False    False\n",
              "3  JC395195  8/16/2019 16:53  ...       False    False\n",
              "4  JC396604  8/17/2019 16:04  ...       False    False\n",
              "\n",
              "[5 rows x 43 columns]"
            ]
          },
          "metadata": {
            "tags": []
          },
          "execution_count": 27
        }
      ]
    },
    {
      "cell_type": "code",
      "metadata": {
        "id": "lVXRdsWPUvwB"
      },
      "source": [
        "# answer goes here\n",
        "\n"
      ],
      "execution_count": 20,
      "outputs": []
    },
    {
      "cell_type": "markdown",
      "metadata": {
        "id": "5QQUxRPMrsHl"
      },
      "source": [
        "Using the code from Day 21, Lecture 1 as a starting point, devise an appropriate way to address missing values. You have a lot of freedom here; we will proceed by taking the following steps:\n",
        "\n",
        "- Dropping all columns with more than 5% missing data\n",
        "- Imputing the median for numeric columns with less than 5% missing data (except for STREET_NO; imputing it in this manner would not make any sense)\n",
        "- Dropping rows with missing data for categorical columns that have less than 5% missing data"
      ]
    },
    {
      "cell_type": "code",
      "metadata": {
        "id": "X7DmjvgXrsHl"
      },
      "source": [
        "# answer goes here\n",
        "#print(len(crash[crash == 0]))\n",
        "#print(list(crash[crash == 0].index))\n",
        "\n",
        "def missingness_summary(df,print_log,sort):\n",
        "  percentage_null = df.isnull().sum()*100/df.isnull().count()\n",
        "  if sort == 'ascending':\n",
        "    return percentage_null.sort_values()\n",
        "  elif sort == 'descending':\n",
        "    return percentage_null.sort_values(ascending=False)\n",
        "  else: \n",
        "    return percentage_null\n"
      ],
      "execution_count": 74,
      "outputs": []
    },
    {
      "cell_type": "code",
      "metadata": {
        "id": "Opyeoz82hn-E",
        "outputId": "7469bb30-bb16-4679-da7d-10cb3fbe6ac8",
        "colab": {
          "base_uri": "https://localhost:8080/",
          "height": 748
        }
      },
      "source": [
        "missingness_summary(crash,0,'descending')"
      ],
      "execution_count": 75,
      "outputs": [
        {
          "output_type": "execute_result",
          "data": {
            "text/plain": [
              "WORKERS_PRESENT_I                99.835205\n",
              "DOORING_I                        99.661554\n",
              "WORK_ZONE_TYPE                   99.439054\n",
              "WORK_ZONE_I                      99.293316\n",
              "PHOTOS_TAKEN_I                   98.731833\n",
              "STATEMENTS_TAKEN_I               97.976032\n",
              "NOT_RIGHT_OF_WAY_I               95.391656\n",
              "INTERSECTION_RELATED_I           77.945704\n",
              "HIT_AND_RUN_I                    72.242307\n",
              "LANE_CNT                         46.710683\n",
              "REPORT_TYPE                       2.301220\n",
              "MOST_SEVERE_INJURY                0.579465\n",
              "INJURIES_NO_INDICATION            0.577586\n",
              "INJURIES_UNKNOWN                  0.577586\n",
              "INJURIES_TOTAL                    0.577586\n",
              "INJURIES_REPORTED_NOT_EVIDENT     0.577586\n",
              "INJURIES_NON_INCAPACITATING       0.577586\n",
              "INJURIES_INCAPACITATING           0.577586\n",
              "INJURIES_FATAL                    0.577586\n",
              "NUM_UNITS                         0.375485\n",
              "BEAT_OF_OCCURRENCE                0.001074\n",
              "STREET_DIRECTION                  0.000537\n",
              "STREET_NAME                       0.000268\n",
              "FIRST_CRASH_TYPE                  0.000000\n",
              "LIGHTING_CONDITION                0.000000\n",
              "WEATHER_CONDITION                 0.000000\n",
              "DAMAGE_C                          0.000000\n",
              "DEVICE_CONDITION                  0.000000\n",
              "TRAFFIC_CONTROL_DEVICE            0.000000\n",
              "POSTED_SPEED_LIMIT                0.000000\n",
              "CRASH_DATE                        0.000000\n",
              "TRAFFICWAY_TYPE                   0.000000\n",
              "PRIM_CONTRIBUTORY_CAUSE           0.000000\n",
              "ALIGNMENT                         0.000000\n",
              "ROADWAY_SURFACE_COND              0.000000\n",
              "ROAD_DEFECT                       0.000000\n",
              "CRASH_TYPE                        0.000000\n",
              "DAMAGE                            0.000000\n",
              "DATE_POLICE_NOTIFIED              0.000000\n",
              "SEC_CONTRIBUTORY_CAUSE            0.000000\n",
              "STREET_NO                         0.000000\n",
              "RD_NO                             0.000000\n",
              "dtype: float64"
            ]
          },
          "metadata": {
            "tags": []
          },
          "execution_count": 75
        }
      ]
    },
    {
      "cell_type": "code",
      "metadata": {
        "id": "hi5N47x4h7RU",
        "outputId": "3b14ee6a-eed9-4355-f7df-4d7d33d14110",
        "colab": {
          "base_uri": "https://localhost:8080/",
          "height": 85
        }
      },
      "source": [
        "crash_1.loc[crash_1 > 5.0].index"
      ],
      "execution_count": 76,
      "outputs": [
        {
          "output_type": "execute_result",
          "data": {
            "text/plain": [
              "Index(['WORKERS_PRESENT_I', 'DOORING_I', 'WORK_ZONE_TYPE', 'WORK_ZONE_I',\n",
              "       'PHOTOS_TAKEN_I', 'STATEMENTS_TAKEN_I', 'NOT_RIGHT_OF_WAY_I',\n",
              "       'INTERSECTION_RELATED_I', 'HIT_AND_RUN_I', 'LANE_CNT'],\n",
              "      dtype='object')"
            ]
          },
          "metadata": {
            "tags": []
          },
          "execution_count": 76
        }
      ]
    },
    {
      "cell_type": "code",
      "metadata": {
        "id": "G5iI6_mBkCWL"
      },
      "source": [
        "crash_above_5 = crash_1.loc[crash_1 > 5.0].index"
      ],
      "execution_count": 77,
      "outputs": []
    },
    {
      "cell_type": "code",
      "metadata": {
        "id": "HxCbLwy4kxI5",
        "outputId": "4a18b66d-ec8c-482e-8909-e8bce923ac82",
        "colab": {
          "base_uri": "https://localhost:8080/",
          "height": 85
        }
      },
      "source": [
        "crash_above_5"
      ],
      "execution_count": 78,
      "outputs": [
        {
          "output_type": "execute_result",
          "data": {
            "text/plain": [
              "Index(['WORKERS_PRESENT_I', 'DOORING_I', 'WORK_ZONE_TYPE', 'WORK_ZONE_I',\n",
              "       'PHOTOS_TAKEN_I', 'STATEMENTS_TAKEN_I', 'NOT_RIGHT_OF_WAY_I',\n",
              "       'INTERSECTION_RELATED_I', 'HIT_AND_RUN_I', 'LANE_CNT'],\n",
              "      dtype='object')"
            ]
          },
          "metadata": {
            "tags": []
          },
          "execution_count": 78
        }
      ]
    },
    {
      "cell_type": "code",
      "metadata": {
        "id": "dE6jPa_cjtMk"
      },
      "source": [
        "crash = crash.drop(columns=crash_above_5, axis=1)"
      ],
      "execution_count": 79,
      "outputs": []
    },
    {
      "cell_type": "code",
      "metadata": {
        "id": "4ysy1W37kYIE",
        "outputId": "a4c0720f-9491-44ea-dc48-9ecd7d4a699d",
        "colab": {
          "base_uri": "https://localhost:8080/",
          "height": 34
        }
      },
      "source": [
        "crash.shape"
      ],
      "execution_count": 80,
      "outputs": [
        {
          "output_type": "execute_result",
          "data": {
            "text/plain": [
              "(372585, 32)"
            ]
          },
          "metadata": {
            "tags": []
          },
          "execution_count": 80
        }
      ]
    },
    {
      "cell_type": "code",
      "metadata": {
        "id": "CYQJxdUWl5Rl",
        "outputId": "551e5d15-dfbb-4044-bfe1-985439dc4781",
        "colab": {
          "base_uri": "https://localhost:8080/",
          "height": 317
        }
      },
      "source": [
        "crash.describe()"
      ],
      "execution_count": 56,
      "outputs": [
        {
          "output_type": "execute_result",
          "data": {
            "text/html": [
              "<div>\n",
              "<style scoped>\n",
              "    .dataframe tbody tr th:only-of-type {\n",
              "        vertical-align: middle;\n",
              "    }\n",
              "\n",
              "    .dataframe tbody tr th {\n",
              "        vertical-align: top;\n",
              "    }\n",
              "\n",
              "    .dataframe thead th {\n",
              "        text-align: right;\n",
              "    }\n",
              "</style>\n",
              "<table border=\"1\" class=\"dataframe\">\n",
              "  <thead>\n",
              "    <tr style=\"text-align: right;\">\n",
              "      <th></th>\n",
              "      <th>POSTED_SPEED_LIMIT</th>\n",
              "      <th>LANE_CNT</th>\n",
              "      <th>STREET_NO</th>\n",
              "      <th>BEAT_OF_OCCURRENCE</th>\n",
              "      <th>NUM_UNITS</th>\n",
              "      <th>INJURIES_TOTAL</th>\n",
              "      <th>INJURIES_FATAL</th>\n",
              "      <th>INJURIES_INCAPACITATING</th>\n",
              "      <th>INJURIES_NON_INCAPACITATING</th>\n",
              "      <th>INJURIES_REPORTED_NOT_EVIDENT</th>\n",
              "      <th>INJURIES_NO_INDICATION</th>\n",
              "      <th>INJURIES_UNKNOWN</th>\n",
              "    </tr>\n",
              "  </thead>\n",
              "  <tbody>\n",
              "    <tr>\n",
              "      <th>count</th>\n",
              "      <td>372585.000000</td>\n",
              "      <td>1.985480e+05</td>\n",
              "      <td>372585.000000</td>\n",
              "      <td>372581.000000</td>\n",
              "      <td>371186.000000</td>\n",
              "      <td>370433.000000</td>\n",
              "      <td>370433.000000</td>\n",
              "      <td>370433.000000</td>\n",
              "      <td>370433.000000</td>\n",
              "      <td>370433.000000</td>\n",
              "      <td>370433.000000</td>\n",
              "      <td>370433.0</td>\n",
              "    </tr>\n",
              "    <tr>\n",
              "      <th>mean</th>\n",
              "      <td>28.240979</td>\n",
              "      <td>1.335587e+01</td>\n",
              "      <td>3578.562486</td>\n",
              "      <td>1248.438230</td>\n",
              "      <td>2.020569</td>\n",
              "      <td>0.163355</td>\n",
              "      <td>0.000883</td>\n",
              "      <td>0.017660</td>\n",
              "      <td>0.088985</td>\n",
              "      <td>0.055827</td>\n",
              "      <td>2.026083</td>\n",
              "      <td>0.0</td>\n",
              "    </tr>\n",
              "    <tr>\n",
              "      <th>std</th>\n",
              "      <td>6.674416</td>\n",
              "      <td>2.965037e+03</td>\n",
              "      <td>2906.689946</td>\n",
              "      <td>710.591605</td>\n",
              "      <td>0.415508</td>\n",
              "      <td>0.522740</td>\n",
              "      <td>0.032059</td>\n",
              "      <td>0.155373</td>\n",
              "      <td>0.382921</td>\n",
              "      <td>0.301430</td>\n",
              "      <td>1.160464</td>\n",
              "      <td>0.0</td>\n",
              "    </tr>\n",
              "    <tr>\n",
              "      <th>min</th>\n",
              "      <td>0.000000</td>\n",
              "      <td>0.000000e+00</td>\n",
              "      <td>0.000000</td>\n",
              "      <td>111.000000</td>\n",
              "      <td>1.000000</td>\n",
              "      <td>0.000000</td>\n",
              "      <td>0.000000</td>\n",
              "      <td>0.000000</td>\n",
              "      <td>0.000000</td>\n",
              "      <td>0.000000</td>\n",
              "      <td>0.000000</td>\n",
              "      <td>0.0</td>\n",
              "    </tr>\n",
              "    <tr>\n",
              "      <th>25%</th>\n",
              "      <td>30.000000</td>\n",
              "      <td>2.000000e+00</td>\n",
              "      <td>1199.000000</td>\n",
              "      <td>714.000000</td>\n",
              "      <td>2.000000</td>\n",
              "      <td>0.000000</td>\n",
              "      <td>0.000000</td>\n",
              "      <td>0.000000</td>\n",
              "      <td>0.000000</td>\n",
              "      <td>0.000000</td>\n",
              "      <td>1.000000</td>\n",
              "      <td>0.0</td>\n",
              "    </tr>\n",
              "    <tr>\n",
              "      <th>50%</th>\n",
              "      <td>30.000000</td>\n",
              "      <td>2.000000e+00</td>\n",
              "      <td>3100.000000</td>\n",
              "      <td>1214.000000</td>\n",
              "      <td>2.000000</td>\n",
              "      <td>0.000000</td>\n",
              "      <td>0.000000</td>\n",
              "      <td>0.000000</td>\n",
              "      <td>0.000000</td>\n",
              "      <td>0.000000</td>\n",
              "      <td>2.000000</td>\n",
              "      <td>0.0</td>\n",
              "    </tr>\n",
              "    <tr>\n",
              "      <th>75%</th>\n",
              "      <td>30.000000</td>\n",
              "      <td>4.000000e+00</td>\n",
              "      <td>5500.000000</td>\n",
              "      <td>1824.000000</td>\n",
              "      <td>2.000000</td>\n",
              "      <td>0.000000</td>\n",
              "      <td>0.000000</td>\n",
              "      <td>0.000000</td>\n",
              "      <td>0.000000</td>\n",
              "      <td>0.000000</td>\n",
              "      <td>2.000000</td>\n",
              "      <td>0.0</td>\n",
              "    </tr>\n",
              "    <tr>\n",
              "      <th>max</th>\n",
              "      <td>99.000000</td>\n",
              "      <td>1.191625e+06</td>\n",
              "      <td>451100.000000</td>\n",
              "      <td>2535.000000</td>\n",
              "      <td>18.000000</td>\n",
              "      <td>21.000000</td>\n",
              "      <td>3.000000</td>\n",
              "      <td>7.000000</td>\n",
              "      <td>21.000000</td>\n",
              "      <td>10.000000</td>\n",
              "      <td>61.000000</td>\n",
              "      <td>0.0</td>\n",
              "    </tr>\n",
              "  </tbody>\n",
              "</table>\n",
              "</div>"
            ],
            "text/plain": [
              "       POSTED_SPEED_LIMIT  ...  INJURIES_UNKNOWN\n",
              "count       372585.000000  ...          370433.0\n",
              "mean            28.240979  ...               0.0\n",
              "std              6.674416  ...               0.0\n",
              "min              0.000000  ...               0.0\n",
              "25%             30.000000  ...               0.0\n",
              "50%             30.000000  ...               0.0\n",
              "75%             30.000000  ...               0.0\n",
              "max             99.000000  ...               0.0\n",
              "\n",
              "[8 rows x 12 columns]"
            ]
          },
          "metadata": {
            "tags": []
          },
          "execution_count": 56
        }
      ]
    },
    {
      "cell_type": "code",
      "metadata": {
        "id": "OLjxH8QYlUrl"
      },
      "source": [
        "crash['INJURIES_TOTAL'].fillna(crash['INJURIES_TOTAL'].median(), inplace=True)\n",
        "crash['INJURIES_FATAL'].fillna(crash['INJURIES_FATAL'].median(), inplace=True)\n",
        "crash['INJURIES_INCAPACITATING'].fillna(crash['INJURIES_INCAPACITATING'].median(), inplace=True)\n",
        "crash['INJURIES_NON_INCAPACITATING'].fillna(crash['INJURIES_NON_INCAPACITATING'].median(), inplace=True)\n",
        "crash['INJURIES_REPORTED_NOT_EVIDENT'].fillna(crash['INJURIES_REPORTED_NOT_EVIDENT'].median(), inplace=True)\n",
        "crash['INJURIES_NO_INDICATION'].fillna(crash['INJURIES_NO_INDICATION'].median(), inplace=True)\n",
        "crash['INJURIES_UNKNOWN'].fillna(crash['INJURIES_UNKNOWN'].median(), inplace=True)\n",
        "crash['NUM_UNITS'].fillna(crash['NUM_UNITS'].median(), inplace=True)\n",
        "crash['BEAT_OF_OCCURRENCE'].fillna(crash['BEAT_OF_OCCURRENCE'].median(), inplace=True)"
      ],
      "execution_count": 81,
      "outputs": []
    },
    {
      "cell_type": "code",
      "metadata": {
        "id": "SWY8iTlIm87y",
        "outputId": "adc1b937-7f65-4d8c-d5a6-edf717204ffa",
        "colab": {
          "base_uri": "https://localhost:8080/",
          "height": 561
        }
      },
      "source": [
        "missingness_summary(crash,0,'descending')"
      ],
      "execution_count": 62,
      "outputs": [
        {
          "output_type": "execute_result",
          "data": {
            "text/plain": [
              "REPORT_TYPE                      2.301220\n",
              "MOST_SEVERE_INJURY               0.579465\n",
              "STREET_DIRECTION                 0.000537\n",
              "STREET_NAME                      0.000268\n",
              "FIRST_CRASH_TYPE                 0.000000\n",
              "ROAD_DEFECT                      0.000000\n",
              "ROADWAY_SURFACE_COND             0.000000\n",
              "ALIGNMENT                        0.000000\n",
              "TRAFFICWAY_TYPE                  0.000000\n",
              "INJURIES_UNKNOWN                 0.000000\n",
              "CRASH_TYPE                       0.000000\n",
              "WEATHER_CONDITION                0.000000\n",
              "DEVICE_CONDITION                 0.000000\n",
              "TRAFFIC_CONTROL_DEVICE           0.000000\n",
              "POSTED_SPEED_LIMIT               0.000000\n",
              "CRASH_DATE                       0.000000\n",
              "LIGHTING_CONDITION               0.000000\n",
              "DATE_POLICE_NOTIFIED             0.000000\n",
              "DAMAGE                           0.000000\n",
              "INJURIES_NO_INDICATION           0.000000\n",
              "PRIM_CONTRIBUTORY_CAUSE          0.000000\n",
              "SEC_CONTRIBUTORY_CAUSE           0.000000\n",
              "STREET_NO                        0.000000\n",
              "BEAT_OF_OCCURRENCE               0.000000\n",
              "NUM_UNITS                        0.000000\n",
              "INJURIES_TOTAL                   0.000000\n",
              "INJURIES_FATAL                   0.000000\n",
              "INJURIES_INCAPACITATING          0.000000\n",
              "INJURIES_NON_INCAPACITATING      0.000000\n",
              "INJURIES_REPORTED_NOT_EVIDENT    0.000000\n",
              "RD_NO                            0.000000\n",
              "dtype: float64"
            ]
          },
          "metadata": {
            "tags": []
          },
          "execution_count": 62
        }
      ]
    },
    {
      "cell_type": "code",
      "metadata": {
        "id": "nB9twbOJnaje"
      },
      "source": [
        "crash = crash.dropna()"
      ],
      "execution_count": 82,
      "outputs": []
    },
    {
      "cell_type": "code",
      "metadata": {
        "id": "Ubtuxbq_nh3X",
        "outputId": "75aa2785-0024-47c2-a0b9-ba96f6ec1bb7",
        "colab": {
          "base_uri": "https://localhost:8080/",
          "height": 561
        }
      },
      "source": [
        "missingness_summary(crash,0,'descending')"
      ],
      "execution_count": 64,
      "outputs": [
        {
          "output_type": "execute_result",
          "data": {
            "text/plain": [
              "INJURIES_UNKNOWN                 0.0\n",
              "DAMAGE                           0.0\n",
              "CRASH_DATE                       0.0\n",
              "POSTED_SPEED_LIMIT               0.0\n",
              "TRAFFIC_CONTROL_DEVICE           0.0\n",
              "DEVICE_CONDITION                 0.0\n",
              "WEATHER_CONDITION                0.0\n",
              "LIGHTING_CONDITION               0.0\n",
              "FIRST_CRASH_TYPE                 0.0\n",
              "TRAFFICWAY_TYPE                  0.0\n",
              "ALIGNMENT                        0.0\n",
              "ROADWAY_SURFACE_COND             0.0\n",
              "ROAD_DEFECT                      0.0\n",
              "REPORT_TYPE                      0.0\n",
              "CRASH_TYPE                       0.0\n",
              "DATE_POLICE_NOTIFIED             0.0\n",
              "INJURIES_NO_INDICATION           0.0\n",
              "PRIM_CONTRIBUTORY_CAUSE          0.0\n",
              "SEC_CONTRIBUTORY_CAUSE           0.0\n",
              "STREET_NO                        0.0\n",
              "STREET_DIRECTION                 0.0\n",
              "STREET_NAME                      0.0\n",
              "BEAT_OF_OCCURRENCE               0.0\n",
              "NUM_UNITS                        0.0\n",
              "MOST_SEVERE_INJURY               0.0\n",
              "INJURIES_TOTAL                   0.0\n",
              "INJURIES_FATAL                   0.0\n",
              "INJURIES_INCAPACITATING          0.0\n",
              "INJURIES_NON_INCAPACITATING      0.0\n",
              "INJURIES_REPORTED_NOT_EVIDENT    0.0\n",
              "RD_NO                            0.0\n",
              "dtype: float64"
            ]
          },
          "metadata": {
            "tags": []
          },
          "execution_count": 64
        }
      ]
    },
    {
      "cell_type": "markdown",
      "metadata": {
        "id": "M66r2mytUvwF"
      },
      "source": [
        "Finally, choose a few numeric and categorical features (2-3 of each) to include in the model. (You can definitely include more than this, but too many features, especially categorical ones, will most likely lead to convergence issues). One hot encode the chosen categorical features, being sure to omit one of the categories (which will serve as a \"reference\" level) to avoid perfect multicollinearity.\n",
        "\n",
        "Again, you have a lot of freedom here; we will proceed with the following features, dropping the most commonly occurring category for the two categorical variables (\"CLEAR\" for weather, \"REAR END\" for first crash type):\n",
        "POSTED_SPEED_LIMIT, WEATHER_CONDITION, INJURIES_TOTAL, FIRST_CRASH_TYPE"
      ]
    },
    {
      "cell_type": "code",
      "metadata": {
        "id": "JMwZlfjloGbX",
        "outputId": "65f74af7-b49f-4b65-c5c1-48e3619f5938",
        "colab": {
          "base_uri": "https://localhost:8080/",
          "height": 221
        }
      },
      "source": [
        "crash['WEATHER_CONDITION'].value_counts()"
      ],
      "execution_count": 88,
      "outputs": [
        {
          "output_type": "execute_result",
          "data": {
            "text/plain": [
              "CLEAR                     286904\n",
              "RAIN                       33669\n",
              "UNKNOWN                    15639\n",
              "SNOW                       12581\n",
              "CLOUDY/OVERCAST            11039\n",
              "OTHER                       1146\n",
              "FOG/SMOKE/HAZE               677\n",
              "SLEET/HAIL                   571\n",
              "FREEZING RAIN/DRIZZLE        167\n",
              "SEVERE CROSS WIND GATE        75\n",
              "BLOWING SNOW                  15\n",
              "Name: WEATHER_CONDITION, dtype: int64"
            ]
          },
          "metadata": {
            "tags": []
          },
          "execution_count": 88
        }
      ]
    },
    {
      "cell_type": "code",
      "metadata": {
        "id": "sCWjbi2yycNQ"
      },
      "source": [
        "new_crash = crash.filter(['POSTED_SPEED_LIMIT', 'INJURIES_TOTAL'])"
      ],
      "execution_count": 98,
      "outputs": []
    },
    {
      "cell_type": "code",
      "metadata": {
        "id": "jMmWcioEy3im"
      },
      "source": [
        "weather = pd.get_dummies(crash[\"WEATHER_CONDITION\"], drop_first=True)\n",
        "crashtype = pd.get_dummies(crash['FIRST_CRASH_TYPE'], drop_first=True)"
      ],
      "execution_count": 101,
      "outputs": []
    },
    {
      "cell_type": "code",
      "metadata": {
        "id": "ja_Vaq2CUvwF"
      },
      "source": [
        "# answer goes here\n",
        "#categorical columns\n",
        "new_crash = pd.concat([new_crash, weather], axis=1)\n",
        "new_crash = pd.concat([new_crash, crashtype], axis=1)"
      ],
      "execution_count": 103,
      "outputs": []
    },
    {
      "cell_type": "code",
      "metadata": {
        "id": "Yo-xeTy1uykE"
      },
      "source": [
        "#NUMERIC columns\n",
        "#POSTED_SPEED_LIMIT\n",
        "#INJURIES_TOTAL\n",
        "#from sklearn.preprocessing import MinMaxScaler\n",
        "\n"
      ],
      "execution_count": null,
      "outputs": []
    },
    {
      "cell_type": "code",
      "metadata": {
        "id": "lE87PnsBpsQ1",
        "outputId": "5fbcd0c6-12b8-4e07-d4bd-32003032d5f5",
        "colab": {
          "base_uri": "https://localhost:8080/",
          "height": 349
        }
      },
      "source": [
        "crash.head(3)"
      ],
      "execution_count": 85,
      "outputs": [
        {
          "output_type": "execute_result",
          "data": {
            "text/html": [
              "<div>\n",
              "<style scoped>\n",
              "    .dataframe tbody tr th:only-of-type {\n",
              "        vertical-align: middle;\n",
              "    }\n",
              "\n",
              "    .dataframe tbody tr th {\n",
              "        vertical-align: top;\n",
              "    }\n",
              "\n",
              "    .dataframe thead th {\n",
              "        text-align: right;\n",
              "    }\n",
              "</style>\n",
              "<table border=\"1\" class=\"dataframe\">\n",
              "  <thead>\n",
              "    <tr style=\"text-align: right;\">\n",
              "      <th></th>\n",
              "      <th>RD_NO</th>\n",
              "      <th>CRASH_DATE</th>\n",
              "      <th>POSTED_SPEED_LIMIT</th>\n",
              "      <th>TRAFFIC_CONTROL_DEVICE</th>\n",
              "      <th>DEVICE_CONDITION</th>\n",
              "      <th>WEATHER_CONDITION</th>\n",
              "      <th>LIGHTING_CONDITION</th>\n",
              "      <th>FIRST_CRASH_TYPE</th>\n",
              "      <th>TRAFFICWAY_TYPE</th>\n",
              "      <th>ALIGNMENT</th>\n",
              "      <th>ROADWAY_SURFACE_COND</th>\n",
              "      <th>ROAD_DEFECT</th>\n",
              "      <th>REPORT_TYPE</th>\n",
              "      <th>CRASH_TYPE</th>\n",
              "      <th>DAMAGE</th>\n",
              "      <th>DATE_POLICE_NOTIFIED</th>\n",
              "      <th>PRIM_CONTRIBUTORY_CAUSE</th>\n",
              "      <th>SEC_CONTRIBUTORY_CAUSE</th>\n",
              "      <th>STREET_NO</th>\n",
              "      <th>STREET_DIRECTION</th>\n",
              "      <th>STREET_NAME</th>\n",
              "      <th>BEAT_OF_OCCURRENCE</th>\n",
              "      <th>NUM_UNITS</th>\n",
              "      <th>MOST_SEVERE_INJURY</th>\n",
              "      <th>INJURIES_TOTAL</th>\n",
              "      <th>INJURIES_FATAL</th>\n",
              "      <th>INJURIES_INCAPACITATING</th>\n",
              "      <th>INJURIES_NON_INCAPACITATING</th>\n",
              "      <th>INJURIES_REPORTED_NOT_EVIDENT</th>\n",
              "      <th>INJURIES_NO_INDICATION</th>\n",
              "      <th>INJURIES_UNKNOWN</th>\n",
              "      <th>DAMAGE_C</th>\n",
              "      <th>CLEAR</th>\n",
              "      <th>CLOUDY/OVERCAST</th>\n",
              "      <th>FOG/SMOKE/HAZE</th>\n",
              "      <th>FREEZING RAIN/DRIZZLE</th>\n",
              "      <th>OTHER</th>\n",
              "      <th>RAIN</th>\n",
              "      <th>SEVERE CROSS WIND GATE</th>\n",
              "      <th>SLEET/HAIL</th>\n",
              "      <th>SNOW</th>\n",
              "      <th>UNKNOWN</th>\n",
              "      <th>ANIMAL</th>\n",
              "      <th>FIXED OBJECT</th>\n",
              "      <th>HEAD ON</th>\n",
              "      <th>OTHER NONCOLLISION</th>\n",
              "      <th>OTHER OBJECT</th>\n",
              "      <th>OVERTURNED</th>\n",
              "      <th>PARKED MOTOR VEHICLE</th>\n",
              "      <th>PEDALCYCLIST</th>\n",
              "      <th>PEDESTRIAN</th>\n",
              "      <th>REAR END</th>\n",
              "      <th>REAR TO FRONT</th>\n",
              "      <th>REAR TO REAR</th>\n",
              "      <th>REAR TO SIDE</th>\n",
              "      <th>SIDESWIPE OPPOSITE DIRECTION</th>\n",
              "      <th>SIDESWIPE SAME DIRECTION</th>\n",
              "      <th>TRAIN</th>\n",
              "      <th>TURNING</th>\n",
              "    </tr>\n",
              "  </thead>\n",
              "  <tbody>\n",
              "    <tr>\n",
              "      <th>6</th>\n",
              "      <td>JC413474</td>\n",
              "      <td>8/30/2019 14:20</td>\n",
              "      <td>30</td>\n",
              "      <td>TRAFFIC SIGNAL</td>\n",
              "      <td>FUNCTIONING PROPERLY</td>\n",
              "      <td>CLEAR</td>\n",
              "      <td>DAYLIGHT</td>\n",
              "      <td>REAR END</td>\n",
              "      <td>DIVIDED - W/MEDIAN (NOT RAISED)</td>\n",
              "      <td>STRAIGHT AND LEVEL</td>\n",
              "      <td>DRY</td>\n",
              "      <td>NO DEFECTS</td>\n",
              "      <td>ON SCENE</td>\n",
              "      <td>NO INJURY / DRIVE AWAY</td>\n",
              "      <td>OVER $1,500</td>\n",
              "      <td>8/30/2019 14:25</td>\n",
              "      <td>FAILING TO REDUCE SPEED TO AVOID CRASH</td>\n",
              "      <td>UNABLE TO DETERMINE</td>\n",
              "      <td>5335</td>\n",
              "      <td>S</td>\n",
              "      <td>WESTERN AVE</td>\n",
              "      <td>923.0</td>\n",
              "      <td>2.0</td>\n",
              "      <td>NO INDICATION OF INJURY</td>\n",
              "      <td>0.0</td>\n",
              "      <td>0.0</td>\n",
              "      <td>0.0</td>\n",
              "      <td>0.0</td>\n",
              "      <td>0.0</td>\n",
              "      <td>2.0</td>\n",
              "      <td>0.0</td>\n",
              "      <td>True</td>\n",
              "      <td>1</td>\n",
              "      <td>0</td>\n",
              "      <td>0</td>\n",
              "      <td>0</td>\n",
              "      <td>0</td>\n",
              "      <td>0</td>\n",
              "      <td>0</td>\n",
              "      <td>0</td>\n",
              "      <td>0</td>\n",
              "      <td>0</td>\n",
              "      <td>0</td>\n",
              "      <td>0</td>\n",
              "      <td>0</td>\n",
              "      <td>0</td>\n",
              "      <td>0</td>\n",
              "      <td>0</td>\n",
              "      <td>0</td>\n",
              "      <td>0</td>\n",
              "      <td>0</td>\n",
              "      <td>1</td>\n",
              "      <td>0</td>\n",
              "      <td>0</td>\n",
              "      <td>0</td>\n",
              "      <td>0</td>\n",
              "      <td>0</td>\n",
              "      <td>0</td>\n",
              "      <td>0</td>\n",
              "    </tr>\n",
              "    <tr>\n",
              "      <th>7</th>\n",
              "      <td>JC414382</td>\n",
              "      <td>8/31/2019 4:35</td>\n",
              "      <td>30</td>\n",
              "      <td>NO CONTROLS</td>\n",
              "      <td>NO CONTROLS</td>\n",
              "      <td>CLEAR</td>\n",
              "      <td>DARKNESS, LIGHTED ROAD</td>\n",
              "      <td>FIXED OBJECT</td>\n",
              "      <td>NOT DIVIDED</td>\n",
              "      <td>CURVE, LEVEL</td>\n",
              "      <td>DRY</td>\n",
              "      <td>NO DEFECTS</td>\n",
              "      <td>ON SCENE</td>\n",
              "      <td>INJURY AND / OR TOW DUE TO CRASH</td>\n",
              "      <td>OVER $1,500</td>\n",
              "      <td>8/31/2019 4:35</td>\n",
              "      <td>PHYSICAL CONDITION OF DRIVER</td>\n",
              "      <td>NOT APPLICABLE</td>\n",
              "      <td>1501</td>\n",
              "      <td>N</td>\n",
              "      <td>HUMBOLDT DR</td>\n",
              "      <td>1423.0</td>\n",
              "      <td>1.0</td>\n",
              "      <td>NONINCAPACITATING INJURY</td>\n",
              "      <td>1.0</td>\n",
              "      <td>0.0</td>\n",
              "      <td>0.0</td>\n",
              "      <td>1.0</td>\n",
              "      <td>0.0</td>\n",
              "      <td>0.0</td>\n",
              "      <td>0.0</td>\n",
              "      <td>True</td>\n",
              "      <td>1</td>\n",
              "      <td>0</td>\n",
              "      <td>0</td>\n",
              "      <td>0</td>\n",
              "      <td>0</td>\n",
              "      <td>0</td>\n",
              "      <td>0</td>\n",
              "      <td>0</td>\n",
              "      <td>0</td>\n",
              "      <td>0</td>\n",
              "      <td>0</td>\n",
              "      <td>1</td>\n",
              "      <td>0</td>\n",
              "      <td>0</td>\n",
              "      <td>0</td>\n",
              "      <td>0</td>\n",
              "      <td>0</td>\n",
              "      <td>0</td>\n",
              "      <td>0</td>\n",
              "      <td>0</td>\n",
              "      <td>0</td>\n",
              "      <td>0</td>\n",
              "      <td>0</td>\n",
              "      <td>0</td>\n",
              "      <td>0</td>\n",
              "      <td>0</td>\n",
              "      <td>0</td>\n",
              "    </tr>\n",
              "    <tr>\n",
              "      <th>8</th>\n",
              "      <td>JC413930</td>\n",
              "      <td>8/30/2019 18:30</td>\n",
              "      <td>30</td>\n",
              "      <td>TRAFFIC SIGNAL</td>\n",
              "      <td>FUNCTIONING PROPERLY</td>\n",
              "      <td>CLEAR</td>\n",
              "      <td>DAYLIGHT</td>\n",
              "      <td>TURNING</td>\n",
              "      <td>NOT DIVIDED</td>\n",
              "      <td>STRAIGHT AND LEVEL</td>\n",
              "      <td>UNKNOWN</td>\n",
              "      <td>UNKNOWN</td>\n",
              "      <td>NOT ON SCENE (DESK REPORT)</td>\n",
              "      <td>NO INJURY / DRIVE AWAY</td>\n",
              "      <td>$501 - $1,500</td>\n",
              "      <td>8/30/2019 19:57</td>\n",
              "      <td>FOLLOWING TOO CLOSELY</td>\n",
              "      <td>FOLLOWING TOO CLOSELY</td>\n",
              "      <td>5900</td>\n",
              "      <td>N</td>\n",
              "      <td>SHERIDAN RD</td>\n",
              "      <td>2022.0</td>\n",
              "      <td>2.0</td>\n",
              "      <td>NO INDICATION OF INJURY</td>\n",
              "      <td>0.0</td>\n",
              "      <td>0.0</td>\n",
              "      <td>0.0</td>\n",
              "      <td>0.0</td>\n",
              "      <td>0.0</td>\n",
              "      <td>5.0</td>\n",
              "      <td>0.0</td>\n",
              "      <td>False</td>\n",
              "      <td>1</td>\n",
              "      <td>0</td>\n",
              "      <td>0</td>\n",
              "      <td>0</td>\n",
              "      <td>0</td>\n",
              "      <td>0</td>\n",
              "      <td>0</td>\n",
              "      <td>0</td>\n",
              "      <td>0</td>\n",
              "      <td>0</td>\n",
              "      <td>0</td>\n",
              "      <td>0</td>\n",
              "      <td>0</td>\n",
              "      <td>0</td>\n",
              "      <td>0</td>\n",
              "      <td>0</td>\n",
              "      <td>0</td>\n",
              "      <td>0</td>\n",
              "      <td>0</td>\n",
              "      <td>0</td>\n",
              "      <td>0</td>\n",
              "      <td>0</td>\n",
              "      <td>0</td>\n",
              "      <td>0</td>\n",
              "      <td>0</td>\n",
              "      <td>0</td>\n",
              "      <td>1</td>\n",
              "    </tr>\n",
              "  </tbody>\n",
              "</table>\n",
              "</div>"
            ],
            "text/plain": [
              "      RD_NO       CRASH_DATE  ...  TRAIN TURNING\n",
              "6  JC413474  8/30/2019 14:20  ...      0       0\n",
              "7  JC414382   8/31/2019 4:35  ...      0       0\n",
              "8  JC413930  8/30/2019 18:30  ...      0       1\n",
              "\n",
              "[3 rows x 59 columns]"
            ]
          },
          "metadata": {
            "tags": []
          },
          "execution_count": 85
        }
      ]
    },
    {
      "cell_type": "markdown",
      "metadata": {
        "id": "zRuNJsTSrsHn"
      },
      "source": [
        "Split the data into train and test, with 80% training and 20% testing. By default, the LR output from statsmodels does not include an intercept terms; add a constant column to the training data so that an intercept term is calculated for the LR model (hint: sm.add_constant() is a useful function to accomplish this)."
      ]
    },
    {
      "cell_type": "code",
      "metadata": {
        "id": "fhpHIZBjrsHn"
      },
      "source": [
        "# answer goes here\n",
        "from sklearn.model_selection import train_test_split\n",
        "\n",
        "X = new_crash\n",
        "Y = crash['DAMAGE_C']\n",
        "\n",
        "X_train, X_test, y_train, y_test = train_test_split(X, Y, test_size=0.2)\n"
      ],
      "execution_count": 104,
      "outputs": []
    },
    {
      "cell_type": "markdown",
      "metadata": {
        "id": "ggXxmOLTrsHq"
      },
      "source": [
        "Fit the logistic regression model using the statsmodels package and print out the coefficient summary. Which variables (in particular, which categories of our categorical variables) appear to be the most important, and what effect do they have on the probability of a crash resulting in $1500 or more in damages?"
      ]
    },
    {
      "cell_type": "code",
      "metadata": {
        "id": "q3JCz6v8uBWG",
        "outputId": "626de497-12ad-4265-a65a-fae84ce78666",
        "colab": {
          "base_uri": "https://localhost:8080/",
          "height": 799
        }
      },
      "source": [
        "import statsmodels.api as sm\n",
        "\n",
        "X_train_const = sm.add_constant(X_train)\n",
        "\n",
        "sm_model = sm.Logit(y_train, X_train_const).fit()\n",
        "print(sm_model.summary())"
      ],
      "execution_count": 105,
      "outputs": [
        {
          "output_type": "stream",
          "text": [
            "Optimization terminated successfully.\n",
            "         Current function value: 0.657962\n",
            "         Iterations 6\n",
            "                           Logit Regression Results                           \n",
            "==============================================================================\n",
            "Dep. Variable:               DAMAGE_C   No. Observations:               289986\n",
            "Model:                          Logit   Df Residuals:                   289956\n",
            "Method:                           MLE   Df Model:                           29\n",
            "Date:                Thu, 15 Oct 2020   Pseudo R-squ.:                 0.04017\n",
            "Time:                        19:49:26   Log-Likelihood:            -1.9080e+05\n",
            "converged:                       True   LL-Null:                   -1.9878e+05\n",
            "Covariance Type:            nonrobust   LLR p-value:                     0.000\n",
            "================================================================================================\n",
            "                                   coef    std err          z      P>|z|      [0.025      0.975]\n",
            "------------------------------------------------------------------------------------------------\n",
            "const                            0.4012      0.653      0.615      0.539      -0.878       1.681\n",
            "POSTED_SPEED_LIMIT               0.0111      0.001     18.835      0.000       0.010       0.012\n",
            "INJURIES_TOTAL                   0.7470      0.012     62.562      0.000       0.724       0.770\n",
            "CLEAR                           -0.0736      0.652     -0.113      0.910      -1.352       1.205\n",
            "CLOUDY/OVERCAST                  0.0539      0.653      0.083      0.934      -1.226       1.333\n",
            "FOG/SMOKE/HAZE                   0.1585      0.659      0.241      0.810      -1.132       1.449\n",
            "FREEZING RAIN/DRIZZLE            0.5189      0.681      0.762      0.446      -0.815       1.853\n",
            "OTHER                            0.1616      0.656      0.246      0.805      -1.125       1.448\n",
            "RAIN                             0.0504      0.653      0.077      0.938      -1.229       1.329\n",
            "SEVERE CROSS WIND GATE           0.5350      0.711      0.753      0.452      -0.858       1.928\n",
            "SLEET/HAIL                       0.0132      0.660      0.020      0.984      -1.280       1.307\n",
            "SNOW                             0.0663      0.653      0.102      0.919      -1.213       1.346\n",
            "UNKNOWN                          0.0965      0.653      0.148      0.882      -1.183       1.376\n",
            "ANIMAL                          -1.0535      0.149     -7.049      0.000      -1.346      -0.761\n",
            "FIXED OBJECT                     0.0589      0.024      2.502      0.012       0.013       0.105\n",
            "HEAD ON                         -0.0550      0.047     -1.173      0.241      -0.147       0.037\n",
            "OTHER NONCOLLISION              -1.0912      0.066    -16.594      0.000      -1.220      -0.962\n",
            "OTHER OBJECT                    -0.6242      0.041    -15.138      0.000      -0.705      -0.543\n",
            "OVERTURNED                       0.9595      0.269      3.562      0.000       0.431       1.488\n",
            "PARKED MOTOR VEHICLE            -0.4730      0.015    -31.271      0.000      -0.503      -0.443\n",
            "PEDALCYCLIST                    -2.4691      0.040    -62.014      0.000      -2.547      -2.391\n",
            "PEDESTRIAN                      -2.3731      0.032    -73.945      0.000      -2.436      -2.310\n",
            "REAR END                        -0.6686      0.015    -45.088      0.000      -0.698      -0.640\n",
            "REAR TO FRONT                   -0.7566      0.067    -11.214      0.000      -0.889      -0.624\n",
            "REAR TO REAR                    -0.8471      0.138     -6.145      0.000      -1.117      -0.577\n",
            "REAR TO SIDE                    -0.5994      0.083     -7.200      0.000      -0.763      -0.436\n",
            "SIDESWIPE OPPOSITE DIRECTION    -0.6621      0.034    -19.717      0.000      -0.728      -0.596\n",
            "SIDESWIPE SAME DIRECTION        -0.6550      0.016    -41.429      0.000      -0.686      -0.624\n",
            "TRAIN                            0.4349      0.781      0.557      0.578      -1.096       1.966\n",
            "TURNING                         -0.1959      0.017    -11.868      0.000      -0.228      -0.164\n",
            "================================================================================================\n"
          ],
          "name": "stdout"
        }
      ]
    },
    {
      "cell_type": "code",
      "metadata": {
        "id": "7pFgRLNErsHq"
      },
      "source": [
        "# answer goes here\n",
        "\n",
        "\n",
        "\n"
      ],
      "execution_count": null,
      "outputs": []
    },
    {
      "cell_type": "markdown",
      "metadata": {
        "id": "2Sf0UuUwjIzg"
      },
      "source": [
        "Create a LogisticRegression model with sklearn. Use the .predict() method (using X_test) to get a y_pred. Create a confusion matrix comparing your actual y_test to your prediction. What do you notice about your type of error?"
      ]
    },
    {
      "cell_type": "code",
      "metadata": {
        "id": "si6gV51qrsHs",
        "outputId": "c291b04a-2009-4796-f480-cedc3aeb08fc",
        "colab": {
          "base_uri": "https://localhost:8080/",
          "height": 136
        }
      },
      "source": [
        "# answer goes here\n",
        "from sklearn.linear_model import LogisticRegression\n",
        "\n",
        "logit = LogisticRegression(max_iter=1000)\n",
        "\n",
        "print(logit.fit(X_train, y_train))\n",
        "\n",
        "print('Logistic regresion score for train:', logit.score(X_train, y_train))\n",
        "\n",
        "print('Logistic regresion score for test:', logit.score(X_test, y_test))\n",
        "\n",
        "\n"
      ],
      "execution_count": 106,
      "outputs": [
        {
          "output_type": "stream",
          "text": [
            "LogisticRegression(C=1.0, class_weight=None, dual=False, fit_intercept=True,\n",
            "                   intercept_scaling=1, l1_ratio=None, max_iter=1000,\n",
            "                   multi_class='auto', n_jobs=None, penalty='l2',\n",
            "                   random_state=None, solver='lbfgs', tol=0.0001, verbose=0,\n",
            "                   warm_start=False)\n",
            "Logistic regresion score for train: 0.5833591966508728\n",
            "Logistic regresion score for test: 0.5852104225002414\n"
          ],
          "name": "stdout"
        }
      ]
    },
    {
      "cell_type": "code",
      "metadata": {
        "id": "jsCVRYz50Tym",
        "outputId": "1d2375cc-09f7-4c5e-8ac9-4ec27dae7780",
        "colab": {
          "base_uri": "https://localhost:8080/",
          "height": 136
        }
      },
      "source": [
        "logit.predict_proba(X_test)"
      ],
      "execution_count": 107,
      "outputs": [
        {
          "output_type": "execute_result",
          "data": {
            "text/plain": [
              "array([[0.50182521, 0.49817479],\n",
              "       [0.45318278, 0.54681722],\n",
              "       [0.42434122, 0.57565878],\n",
              "       ...,\n",
              "       [0.48788838, 0.51211162],\n",
              "       [0.50182521, 0.49817479],\n",
              "       [0.45869085, 0.54130915]])"
            ]
          },
          "metadata": {
            "tags": []
          },
          "execution_count": 107
        }
      ]
    },
    {
      "cell_type": "code",
      "metadata": {
        "id": "N6KiE_pW0m2h",
        "outputId": "9a20e9be-ee05-40f1-ee8f-7b23f57194c9",
        "colab": {
          "base_uri": "https://localhost:8080/",
          "height": 204
        }
      },
      "source": [
        "results = pd.DataFrame(columns=['actual', 'predict', 'probability'])\n",
        "\n",
        "results['actual'] = y_test\n",
        "results['predict'] = logit.predict(X_test)\n",
        "results['probability'] = logit.predict_proba(X_test)[:,1]\n",
        "\n",
        "results.head()"
      ],
      "execution_count": 108,
      "outputs": [
        {
          "output_type": "execute_result",
          "data": {
            "text/html": [
              "<div>\n",
              "<style scoped>\n",
              "    .dataframe tbody tr th:only-of-type {\n",
              "        vertical-align: middle;\n",
              "    }\n",
              "\n",
              "    .dataframe tbody tr th {\n",
              "        vertical-align: top;\n",
              "    }\n",
              "\n",
              "    .dataframe thead th {\n",
              "        text-align: right;\n",
              "    }\n",
              "</style>\n",
              "<table border=\"1\" class=\"dataframe\">\n",
              "  <thead>\n",
              "    <tr style=\"text-align: right;\">\n",
              "      <th></th>\n",
              "      <th>actual</th>\n",
              "      <th>predict</th>\n",
              "      <th>probability</th>\n",
              "    </tr>\n",
              "  </thead>\n",
              "  <tbody>\n",
              "    <tr>\n",
              "      <th>80905</th>\n",
              "      <td>True</td>\n",
              "      <td>False</td>\n",
              "      <td>0.498175</td>\n",
              "    </tr>\n",
              "    <tr>\n",
              "      <th>180643</th>\n",
              "      <td>True</td>\n",
              "      <td>True</td>\n",
              "      <td>0.546817</td>\n",
              "    </tr>\n",
              "    <tr>\n",
              "      <th>3631</th>\n",
              "      <td>True</td>\n",
              "      <td>True</td>\n",
              "      <td>0.575659</td>\n",
              "    </tr>\n",
              "    <tr>\n",
              "      <th>73690</th>\n",
              "      <td>False</td>\n",
              "      <td>True</td>\n",
              "      <td>0.560595</td>\n",
              "    </tr>\n",
              "    <tr>\n",
              "      <th>259264</th>\n",
              "      <td>True</td>\n",
              "      <td>False</td>\n",
              "      <td>0.302446</td>\n",
              "    </tr>\n",
              "  </tbody>\n",
              "</table>\n",
              "</div>"
            ],
            "text/plain": [
              "        actual  predict  probability\n",
              "80905     True    False     0.498175\n",
              "180643    True     True     0.546817\n",
              "3631      True     True     0.575659\n",
              "73690    False     True     0.560595\n",
              "259264    True    False     0.302446"
            ]
          },
          "metadata": {
            "tags": []
          },
          "execution_count": 108
        }
      ]
    },
    {
      "cell_type": "code",
      "metadata": {
        "id": "CO2rskEB0qjG",
        "outputId": "e361bd31-43b7-4995-fa8c-4ada499eddeb",
        "colab": {
          "base_uri": "https://localhost:8080/",
          "height": 51
        }
      },
      "source": [
        "from sklearn.metrics import confusion_matrix\n",
        "\n",
        "confusion_matrix(y_test, results['predict'])"
      ],
      "execution_count": 109,
      "outputs": [
        {
          "output_type": "execute_result",
          "data": {
            "text/plain": [
              "array([[ 9423, 22296],\n",
              "       [ 7775, 33003]])"
            ]
          },
          "metadata": {
            "tags": []
          },
          "execution_count": 109
        }
      ]
    },
    {
      "cell_type": "markdown",
      "metadata": {
        "id": "01nhE6Qh2QvQ"
      },
      "source": [
        "So we can see based off the confusion matrix that our predictions and the actual results are not the same. We predicted over negative amount 7,000 damages with over (1500) worth of damage, but based off the matrix it was actual over 9,000. We predicted over positive amount 22,000 damages with over (1500) worth of damage, but based off the matrix it was actually over 33,000. "
      ]
    },
    {
      "cell_type": "code",
      "metadata": {
        "id": "Vn0OnLSs0zi1",
        "outputId": "e22d524e-7a2f-4029-ec89-fcc7aec879c4",
        "colab": {
          "base_uri": "https://localhost:8080/",
          "height": 419
        }
      },
      "source": [
        "predict_test = logit.predict_proba(X_test)\n",
        "predict_test = pd.DataFrame(predict_test, columns=['High_Damage', 'Not_High'])\n",
        "predict_test"
      ],
      "execution_count": 111,
      "outputs": [
        {
          "output_type": "execute_result",
          "data": {
            "text/html": [
              "<div>\n",
              "<style scoped>\n",
              "    .dataframe tbody tr th:only-of-type {\n",
              "        vertical-align: middle;\n",
              "    }\n",
              "\n",
              "    .dataframe tbody tr th {\n",
              "        vertical-align: top;\n",
              "    }\n",
              "\n",
              "    .dataframe thead th {\n",
              "        text-align: right;\n",
              "    }\n",
              "</style>\n",
              "<table border=\"1\" class=\"dataframe\">\n",
              "  <thead>\n",
              "    <tr style=\"text-align: right;\">\n",
              "      <th></th>\n",
              "      <th>High_Damage</th>\n",
              "      <th>Not_High</th>\n",
              "    </tr>\n",
              "  </thead>\n",
              "  <tbody>\n",
              "    <tr>\n",
              "      <th>0</th>\n",
              "      <td>0.501825</td>\n",
              "      <td>0.498175</td>\n",
              "    </tr>\n",
              "    <tr>\n",
              "      <th>1</th>\n",
              "      <td>0.453183</td>\n",
              "      <td>0.546817</td>\n",
              "    </tr>\n",
              "    <tr>\n",
              "      <th>2</th>\n",
              "      <td>0.424341</td>\n",
              "      <td>0.575659</td>\n",
              "    </tr>\n",
              "    <tr>\n",
              "      <th>3</th>\n",
              "      <td>0.439405</td>\n",
              "      <td>0.560595</td>\n",
              "    </tr>\n",
              "    <tr>\n",
              "      <th>4</th>\n",
              "      <td>0.697554</td>\n",
              "      <td>0.302446</td>\n",
              "    </tr>\n",
              "    <tr>\n",
              "      <th>...</th>\n",
              "      <td>...</td>\n",
              "      <td>...</td>\n",
              "    </tr>\n",
              "    <tr>\n",
              "      <th>72492</th>\n",
              "      <td>0.453183</td>\n",
              "      <td>0.546817</td>\n",
              "    </tr>\n",
              "    <tr>\n",
              "      <th>72493</th>\n",
              "      <td>0.340042</td>\n",
              "      <td>0.659958</td>\n",
              "    </tr>\n",
              "    <tr>\n",
              "      <th>72494</th>\n",
              "      <td>0.487888</td>\n",
              "      <td>0.512112</td>\n",
              "    </tr>\n",
              "    <tr>\n",
              "      <th>72495</th>\n",
              "      <td>0.501825</td>\n",
              "      <td>0.498175</td>\n",
              "    </tr>\n",
              "    <tr>\n",
              "      <th>72496</th>\n",
              "      <td>0.458691</td>\n",
              "      <td>0.541309</td>\n",
              "    </tr>\n",
              "  </tbody>\n",
              "</table>\n",
              "<p>72497 rows × 2 columns</p>\n",
              "</div>"
            ],
            "text/plain": [
              "       High_Damage  Not_High\n",
              "0         0.501825  0.498175\n",
              "1         0.453183  0.546817\n",
              "2         0.424341  0.575659\n",
              "3         0.439405  0.560595\n",
              "4         0.697554  0.302446\n",
              "...            ...       ...\n",
              "72492     0.453183  0.546817\n",
              "72493     0.340042  0.659958\n",
              "72494     0.487888  0.512112\n",
              "72495     0.501825  0.498175\n",
              "72496     0.458691  0.541309\n",
              "\n",
              "[72497 rows x 2 columns]"
            ]
          },
          "metadata": {
            "tags": []
          },
          "execution_count": 111
        }
      ]
    },
    {
      "cell_type": "code",
      "metadata": {
        "id": "h0eBxDZp02LX"
      },
      "source": [
        ""
      ],
      "execution_count": null,
      "outputs": []
    }
  ]
}