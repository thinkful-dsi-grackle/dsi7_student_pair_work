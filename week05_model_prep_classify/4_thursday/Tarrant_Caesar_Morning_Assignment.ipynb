{
  "nbformat": 4,
  "nbformat_minor": 0,
  "metadata": {
    "colab": {
      "name": "Tarrant_Caesar_Morning_Assignment.ipynb",
      "provenance": [],
      "collapsed_sections": []
    },
    "kernelspec": {
      "display_name": "Python 3",
      "language": "python",
      "name": "python3"
    },
    "language_info": {
      "codemirror_mode": {
        "name": "ipython",
        "version": 3
      },
      "file_extension": ".py",
      "mimetype": "text/x-python",
      "name": "python",
      "nbconvert_exporter": "python",
      "pygments_lexer": "ipython3",
      "version": "3.7.6"
    }
  },
  "cells": [
    {
      "cell_type": "markdown",
      "metadata": {
        "id": "dV--vGOPrrED"
      },
      "source": [
        "## Day 24 Lecture 1 Assignment\n",
        "\n",
        "In this assignment, we will build our first logistic regression model on numeric data. We will use the FIFA soccer ratings dataset loaded below and analyze the model generated for this dataset."
      ]
    },
    {
      "cell_type": "code",
      "metadata": {
        "id": "msSTydewrrEE",
        "outputId": "3911b49f-a003-4526-896a-79e92e0fc0b1",
        "colab": {
          "base_uri": "https://localhost:8080/",
          "height": 52
        }
      },
      "source": [
        "import numpy as np\n",
        "import pandas as pd\n",
        "\n",
        "import statsmodels.api as sm\n",
        "from sklearn.linear_model import LogisticRegression\n",
        "from sklearn.model_selection import train_test_split\n",
        "\n",
        "import seaborn as sns\n",
        "import matplotlib.pyplot as plt\n",
        "\n",
        "%matplotlib inline"
      ],
      "execution_count": 1,
      "outputs": [
        {
          "output_type": "stream",
          "text": [
            "/usr/local/lib/python3.6/dist-packages/statsmodels/tools/_testing.py:19: FutureWarning: pandas.util.testing is deprecated. Use the functions in the public API at pandas.testing instead.\n",
            "  import pandas.util.testing as tm\n"
          ],
          "name": "stderr"
        }
      ]
    },
    {
      "cell_type": "markdown",
      "metadata": {
        "id": "EAStwPdr03t0"
      },
      "source": [
        "### Import the [FIFA Soccer Ratings dataset](https://tf-assets-prod.s3.amazonaws.com/tf-curric/data-science/fifa_ratings.csv)."
      ]
    },
    {
      "cell_type": "code",
      "metadata": {
        "id": "i3iAu42VrrEF",
        "outputId": "e31edb5d-147d-4c41-f7ff-779756b9e4c6",
        "colab": {
          "base_uri": "https://localhost:8080/",
          "height": 693
        }
      },
      "source": [
        "soccer = pd.read_csv('https://tf-assets-prod.s3.amazonaws.com/tf-curric/data-science/fifa_ratings.csv')\n",
        "\n",
        "soccer.info()"
      ],
      "execution_count": 2,
      "outputs": [
        {
          "output_type": "stream",
          "text": [
            "<class 'pandas.core.frame.DataFrame'>\n",
            "RangeIndex: 16122 entries, 0 to 16121\n",
            "Data columns (total 32 columns):\n",
            " #   Column           Non-Null Count  Dtype \n",
            "---  ------           --------------  ----- \n",
            " 0   ID               16122 non-null  int64 \n",
            " 1   Name             16122 non-null  object\n",
            " 2   Overall          16122 non-null  int64 \n",
            " 3   Crossing         16122 non-null  int64 \n",
            " 4   Finishing        16122 non-null  int64 \n",
            " 5   HeadingAccuracy  16122 non-null  int64 \n",
            " 6   ShortPassing     16122 non-null  int64 \n",
            " 7   Volleys          16122 non-null  int64 \n",
            " 8   Dribbling        16122 non-null  int64 \n",
            " 9   Curve            16122 non-null  int64 \n",
            " 10  FKAccuracy       16122 non-null  int64 \n",
            " 11  LongPassing      16122 non-null  int64 \n",
            " 12  BallControl      16122 non-null  int64 \n",
            " 13  Acceleration     16122 non-null  int64 \n",
            " 14  SprintSpeed      16122 non-null  int64 \n",
            " 15  Agility          16122 non-null  int64 \n",
            " 16  Reactions        16122 non-null  int64 \n",
            " 17  Balance          16122 non-null  int64 \n",
            " 18  ShotPower        16122 non-null  int64 \n",
            " 19  Jumping          16122 non-null  int64 \n",
            " 20  Stamina          16122 non-null  int64 \n",
            " 21  Strength         16122 non-null  int64 \n",
            " 22  LongShots        16122 non-null  int64 \n",
            " 23  Aggression       16122 non-null  int64 \n",
            " 24  Interceptions    16122 non-null  int64 \n",
            " 25  Positioning      16122 non-null  int64 \n",
            " 26  Vision           16122 non-null  int64 \n",
            " 27  Penalties        16122 non-null  int64 \n",
            " 28  Composure        16122 non-null  int64 \n",
            " 29  Marking          16122 non-null  int64 \n",
            " 30  StandingTackle   16122 non-null  int64 \n",
            " 31  SlidingTackle    16122 non-null  int64 \n",
            "dtypes: int64(31), object(1)\n",
            "memory usage: 3.9+ MB\n"
          ],
          "name": "stdout"
        }
      ]
    },
    {
      "cell_type": "markdown",
      "metadata": {
        "id": "gC9J8aEArrEJ"
      },
      "source": [
        "### Create an Elite field that contains a 1 if the value in the Overall field is >= 75, otherwise 0.\n",
        "\n",
        "Our response for our logistic regression model is going to be a binary label, \"Elite\" or \"Not Elite\", corresponding to whether or not the player has an overall rating greater than or equal to 75. This corresponds to the top 10% or so of soccer players in the data set. Create the response column."
      ]
    },
    {
      "cell_type": "code",
      "metadata": {
        "id": "tTZkLVDnrrEK",
        "outputId": "bcbdcaf0-688b-4202-cb57-69e065f85a03",
        "colab": {
          "base_uri": "https://localhost:8080/",
          "height": 104
        }
      },
      "source": [
        "soccer['Elite'] = 0\n",
        "soccer['Elite'][soccer['Overall'] >= 75] = 1"
      ],
      "execution_count": 3,
      "outputs": [
        {
          "output_type": "stream",
          "text": [
            "/usr/local/lib/python3.6/dist-packages/ipykernel_launcher.py:2: SettingWithCopyWarning: \n",
            "A value is trying to be set on a copy of a slice from a DataFrame\n",
            "\n",
            "See the caveats in the documentation: https://pandas.pydata.org/pandas-docs/stable/user_guide/indexing.html#returning-a-view-versus-a-copy\n",
            "  \n"
          ],
          "name": "stderr"
        }
      ]
    },
    {
      "cell_type": "markdown",
      "metadata": {
        "id": "JClcdTqfUGPR"
      },
      "source": [
        "### Address potential collinearity issues by removing the appropriate features. \n",
        "\n",
        "There is no universally agreed upon technique for doing so, so feel free to use any reasonable method. We have provided the convenience function *remove_correlated_features* as one way of doing so, and we use a threshold of 0.9 for that function to reduce correlation among features."
      ]
    },
    {
      "cell_type": "code",
      "metadata": {
        "id": "MYikuiNvUGPG"
      },
      "source": [
        "def remove_correlated_features(dataset, threshold=0.9):\n",
        "    col_corr = set()\n",
        "    corr_matrix = dataset.corr()\n",
        "    for i in range(len(corr_matrix.columns)):\n",
        "        for j in range(i):\n",
        "            if (corr_matrix.iloc[i, j] >= threshold) and (corr_matrix.columns[j] not in col_corr):\n",
        "                colname = corr_matrix.columns[i]\n",
        "                col_corr.add(colname)\n",
        "                if colname in dataset.columns:\n",
        "                    print(f'Deleted {colname} from dataset.')\n",
        "                    del dataset[colname]\n",
        "\n",
        "    return dataset"
      ],
      "execution_count": 4,
      "outputs": []
    },
    {
      "cell_type": "code",
      "metadata": {
        "id": "uaLbzNdE03vN",
        "outputId": "8f25b05d-2a22-4376-953c-2e8a11a5ea55",
        "colab": {
          "base_uri": "https://localhost:8080/",
          "height": 505
        }
      },
      "source": [
        "remove_correlated_features(soccer)"
      ],
      "execution_count": 5,
      "outputs": [
        {
          "output_type": "stream",
          "text": [
            "Deleted StandingTackle from dataset.\n",
            "Deleted SlidingTackle from dataset.\n"
          ],
          "name": "stdout"
        },
        {
          "output_type": "execute_result",
          "data": {
            "text/html": [
              "<div>\n",
              "<style scoped>\n",
              "    .dataframe tbody tr th:only-of-type {\n",
              "        vertical-align: middle;\n",
              "    }\n",
              "\n",
              "    .dataframe tbody tr th {\n",
              "        vertical-align: top;\n",
              "    }\n",
              "\n",
              "    .dataframe thead th {\n",
              "        text-align: right;\n",
              "    }\n",
              "</style>\n",
              "<table border=\"1\" class=\"dataframe\">\n",
              "  <thead>\n",
              "    <tr style=\"text-align: right;\">\n",
              "      <th></th>\n",
              "      <th>ID</th>\n",
              "      <th>Name</th>\n",
              "      <th>Overall</th>\n",
              "      <th>Crossing</th>\n",
              "      <th>Finishing</th>\n",
              "      <th>HeadingAccuracy</th>\n",
              "      <th>ShortPassing</th>\n",
              "      <th>Volleys</th>\n",
              "      <th>Dribbling</th>\n",
              "      <th>Curve</th>\n",
              "      <th>FKAccuracy</th>\n",
              "      <th>LongPassing</th>\n",
              "      <th>BallControl</th>\n",
              "      <th>Acceleration</th>\n",
              "      <th>SprintSpeed</th>\n",
              "      <th>Agility</th>\n",
              "      <th>Reactions</th>\n",
              "      <th>Balance</th>\n",
              "      <th>ShotPower</th>\n",
              "      <th>Jumping</th>\n",
              "      <th>Stamina</th>\n",
              "      <th>Strength</th>\n",
              "      <th>LongShots</th>\n",
              "      <th>Aggression</th>\n",
              "      <th>Interceptions</th>\n",
              "      <th>Positioning</th>\n",
              "      <th>Vision</th>\n",
              "      <th>Penalties</th>\n",
              "      <th>Composure</th>\n",
              "      <th>Marking</th>\n",
              "      <th>Elite</th>\n",
              "    </tr>\n",
              "  </thead>\n",
              "  <tbody>\n",
              "    <tr>\n",
              "      <th>0</th>\n",
              "      <td>158023</td>\n",
              "      <td>L. Messi</td>\n",
              "      <td>94</td>\n",
              "      <td>84</td>\n",
              "      <td>95</td>\n",
              "      <td>70</td>\n",
              "      <td>90</td>\n",
              "      <td>86</td>\n",
              "      <td>97</td>\n",
              "      <td>93</td>\n",
              "      <td>94</td>\n",
              "      <td>87</td>\n",
              "      <td>96</td>\n",
              "      <td>91</td>\n",
              "      <td>86</td>\n",
              "      <td>91</td>\n",
              "      <td>95</td>\n",
              "      <td>95</td>\n",
              "      <td>85</td>\n",
              "      <td>68</td>\n",
              "      <td>72</td>\n",
              "      <td>59</td>\n",
              "      <td>94</td>\n",
              "      <td>48</td>\n",
              "      <td>22</td>\n",
              "      <td>94</td>\n",
              "      <td>94</td>\n",
              "      <td>75</td>\n",
              "      <td>96</td>\n",
              "      <td>33</td>\n",
              "      <td>1</td>\n",
              "    </tr>\n",
              "    <tr>\n",
              "      <th>1</th>\n",
              "      <td>20801</td>\n",
              "      <td>Cristiano Ronaldo</td>\n",
              "      <td>94</td>\n",
              "      <td>84</td>\n",
              "      <td>94</td>\n",
              "      <td>89</td>\n",
              "      <td>81</td>\n",
              "      <td>87</td>\n",
              "      <td>88</td>\n",
              "      <td>81</td>\n",
              "      <td>76</td>\n",
              "      <td>77</td>\n",
              "      <td>94</td>\n",
              "      <td>89</td>\n",
              "      <td>91</td>\n",
              "      <td>87</td>\n",
              "      <td>96</td>\n",
              "      <td>70</td>\n",
              "      <td>95</td>\n",
              "      <td>95</td>\n",
              "      <td>88</td>\n",
              "      <td>79</td>\n",
              "      <td>93</td>\n",
              "      <td>63</td>\n",
              "      <td>29</td>\n",
              "      <td>95</td>\n",
              "      <td>82</td>\n",
              "      <td>85</td>\n",
              "      <td>95</td>\n",
              "      <td>28</td>\n",
              "      <td>1</td>\n",
              "    </tr>\n",
              "    <tr>\n",
              "      <th>2</th>\n",
              "      <td>190871</td>\n",
              "      <td>Neymar Jr</td>\n",
              "      <td>92</td>\n",
              "      <td>79</td>\n",
              "      <td>87</td>\n",
              "      <td>62</td>\n",
              "      <td>84</td>\n",
              "      <td>84</td>\n",
              "      <td>96</td>\n",
              "      <td>88</td>\n",
              "      <td>87</td>\n",
              "      <td>78</td>\n",
              "      <td>95</td>\n",
              "      <td>94</td>\n",
              "      <td>90</td>\n",
              "      <td>96</td>\n",
              "      <td>94</td>\n",
              "      <td>84</td>\n",
              "      <td>80</td>\n",
              "      <td>61</td>\n",
              "      <td>81</td>\n",
              "      <td>49</td>\n",
              "      <td>82</td>\n",
              "      <td>56</td>\n",
              "      <td>36</td>\n",
              "      <td>89</td>\n",
              "      <td>87</td>\n",
              "      <td>81</td>\n",
              "      <td>94</td>\n",
              "      <td>27</td>\n",
              "      <td>1</td>\n",
              "    </tr>\n",
              "    <tr>\n",
              "      <th>3</th>\n",
              "      <td>192985</td>\n",
              "      <td>K. De Bruyne</td>\n",
              "      <td>91</td>\n",
              "      <td>93</td>\n",
              "      <td>82</td>\n",
              "      <td>55</td>\n",
              "      <td>92</td>\n",
              "      <td>82</td>\n",
              "      <td>86</td>\n",
              "      <td>85</td>\n",
              "      <td>83</td>\n",
              "      <td>91</td>\n",
              "      <td>91</td>\n",
              "      <td>78</td>\n",
              "      <td>76</td>\n",
              "      <td>79</td>\n",
              "      <td>91</td>\n",
              "      <td>77</td>\n",
              "      <td>91</td>\n",
              "      <td>63</td>\n",
              "      <td>90</td>\n",
              "      <td>75</td>\n",
              "      <td>91</td>\n",
              "      <td>76</td>\n",
              "      <td>61</td>\n",
              "      <td>87</td>\n",
              "      <td>94</td>\n",
              "      <td>79</td>\n",
              "      <td>88</td>\n",
              "      <td>68</td>\n",
              "      <td>1</td>\n",
              "    </tr>\n",
              "    <tr>\n",
              "      <th>4</th>\n",
              "      <td>183277</td>\n",
              "      <td>E. Hazard</td>\n",
              "      <td>91</td>\n",
              "      <td>81</td>\n",
              "      <td>84</td>\n",
              "      <td>61</td>\n",
              "      <td>89</td>\n",
              "      <td>80</td>\n",
              "      <td>95</td>\n",
              "      <td>83</td>\n",
              "      <td>79</td>\n",
              "      <td>83</td>\n",
              "      <td>94</td>\n",
              "      <td>94</td>\n",
              "      <td>88</td>\n",
              "      <td>95</td>\n",
              "      <td>90</td>\n",
              "      <td>94</td>\n",
              "      <td>82</td>\n",
              "      <td>56</td>\n",
              "      <td>83</td>\n",
              "      <td>66</td>\n",
              "      <td>80</td>\n",
              "      <td>54</td>\n",
              "      <td>41</td>\n",
              "      <td>87</td>\n",
              "      <td>89</td>\n",
              "      <td>86</td>\n",
              "      <td>91</td>\n",
              "      <td>34</td>\n",
              "      <td>1</td>\n",
              "    </tr>\n",
              "    <tr>\n",
              "      <th>...</th>\n",
              "      <td>...</td>\n",
              "      <td>...</td>\n",
              "      <td>...</td>\n",
              "      <td>...</td>\n",
              "      <td>...</td>\n",
              "      <td>...</td>\n",
              "      <td>...</td>\n",
              "      <td>...</td>\n",
              "      <td>...</td>\n",
              "      <td>...</td>\n",
              "      <td>...</td>\n",
              "      <td>...</td>\n",
              "      <td>...</td>\n",
              "      <td>...</td>\n",
              "      <td>...</td>\n",
              "      <td>...</td>\n",
              "      <td>...</td>\n",
              "      <td>...</td>\n",
              "      <td>...</td>\n",
              "      <td>...</td>\n",
              "      <td>...</td>\n",
              "      <td>...</td>\n",
              "      <td>...</td>\n",
              "      <td>...</td>\n",
              "      <td>...</td>\n",
              "      <td>...</td>\n",
              "      <td>...</td>\n",
              "      <td>...</td>\n",
              "      <td>...</td>\n",
              "      <td>...</td>\n",
              "      <td>...</td>\n",
              "    </tr>\n",
              "    <tr>\n",
              "      <th>16117</th>\n",
              "      <td>238813</td>\n",
              "      <td>J. Lundstram</td>\n",
              "      <td>47</td>\n",
              "      <td>34</td>\n",
              "      <td>38</td>\n",
              "      <td>40</td>\n",
              "      <td>49</td>\n",
              "      <td>25</td>\n",
              "      <td>42</td>\n",
              "      <td>30</td>\n",
              "      <td>34</td>\n",
              "      <td>45</td>\n",
              "      <td>43</td>\n",
              "      <td>54</td>\n",
              "      <td>57</td>\n",
              "      <td>60</td>\n",
              "      <td>49</td>\n",
              "      <td>76</td>\n",
              "      <td>43</td>\n",
              "      <td>55</td>\n",
              "      <td>40</td>\n",
              "      <td>47</td>\n",
              "      <td>38</td>\n",
              "      <td>46</td>\n",
              "      <td>46</td>\n",
              "      <td>39</td>\n",
              "      <td>52</td>\n",
              "      <td>43</td>\n",
              "      <td>45</td>\n",
              "      <td>40</td>\n",
              "      <td>0</td>\n",
              "    </tr>\n",
              "    <tr>\n",
              "      <th>16118</th>\n",
              "      <td>243165</td>\n",
              "      <td>N. Christoffersson</td>\n",
              "      <td>47</td>\n",
              "      <td>23</td>\n",
              "      <td>52</td>\n",
              "      <td>52</td>\n",
              "      <td>43</td>\n",
              "      <td>36</td>\n",
              "      <td>39</td>\n",
              "      <td>32</td>\n",
              "      <td>20</td>\n",
              "      <td>25</td>\n",
              "      <td>40</td>\n",
              "      <td>41</td>\n",
              "      <td>39</td>\n",
              "      <td>38</td>\n",
              "      <td>40</td>\n",
              "      <td>52</td>\n",
              "      <td>41</td>\n",
              "      <td>47</td>\n",
              "      <td>43</td>\n",
              "      <td>67</td>\n",
              "      <td>42</td>\n",
              "      <td>47</td>\n",
              "      <td>16</td>\n",
              "      <td>46</td>\n",
              "      <td>33</td>\n",
              "      <td>43</td>\n",
              "      <td>42</td>\n",
              "      <td>22</td>\n",
              "      <td>0</td>\n",
              "    </tr>\n",
              "    <tr>\n",
              "      <th>16119</th>\n",
              "      <td>241638</td>\n",
              "      <td>B. Worman</td>\n",
              "      <td>47</td>\n",
              "      <td>25</td>\n",
              "      <td>40</td>\n",
              "      <td>46</td>\n",
              "      <td>38</td>\n",
              "      <td>38</td>\n",
              "      <td>45</td>\n",
              "      <td>38</td>\n",
              "      <td>27</td>\n",
              "      <td>28</td>\n",
              "      <td>44</td>\n",
              "      <td>70</td>\n",
              "      <td>69</td>\n",
              "      <td>50</td>\n",
              "      <td>47</td>\n",
              "      <td>58</td>\n",
              "      <td>45</td>\n",
              "      <td>60</td>\n",
              "      <td>55</td>\n",
              "      <td>32</td>\n",
              "      <td>45</td>\n",
              "      <td>32</td>\n",
              "      <td>15</td>\n",
              "      <td>48</td>\n",
              "      <td>43</td>\n",
              "      <td>55</td>\n",
              "      <td>41</td>\n",
              "      <td>32</td>\n",
              "      <td>0</td>\n",
              "    </tr>\n",
              "    <tr>\n",
              "      <th>16120</th>\n",
              "      <td>246268</td>\n",
              "      <td>D. Walker-Rice</td>\n",
              "      <td>47</td>\n",
              "      <td>44</td>\n",
              "      <td>50</td>\n",
              "      <td>39</td>\n",
              "      <td>42</td>\n",
              "      <td>40</td>\n",
              "      <td>51</td>\n",
              "      <td>34</td>\n",
              "      <td>32</td>\n",
              "      <td>32</td>\n",
              "      <td>52</td>\n",
              "      <td>61</td>\n",
              "      <td>60</td>\n",
              "      <td>52</td>\n",
              "      <td>21</td>\n",
              "      <td>71</td>\n",
              "      <td>64</td>\n",
              "      <td>42</td>\n",
              "      <td>40</td>\n",
              "      <td>48</td>\n",
              "      <td>34</td>\n",
              "      <td>33</td>\n",
              "      <td>22</td>\n",
              "      <td>44</td>\n",
              "      <td>47</td>\n",
              "      <td>50</td>\n",
              "      <td>46</td>\n",
              "      <td>20</td>\n",
              "      <td>0</td>\n",
              "    </tr>\n",
              "    <tr>\n",
              "      <th>16121</th>\n",
              "      <td>246269</td>\n",
              "      <td>G. Nugent</td>\n",
              "      <td>46</td>\n",
              "      <td>41</td>\n",
              "      <td>34</td>\n",
              "      <td>46</td>\n",
              "      <td>48</td>\n",
              "      <td>30</td>\n",
              "      <td>43</td>\n",
              "      <td>40</td>\n",
              "      <td>34</td>\n",
              "      <td>44</td>\n",
              "      <td>51</td>\n",
              "      <td>57</td>\n",
              "      <td>55</td>\n",
              "      <td>55</td>\n",
              "      <td>51</td>\n",
              "      <td>63</td>\n",
              "      <td>43</td>\n",
              "      <td>62</td>\n",
              "      <td>47</td>\n",
              "      <td>60</td>\n",
              "      <td>32</td>\n",
              "      <td>56</td>\n",
              "      <td>42</td>\n",
              "      <td>34</td>\n",
              "      <td>49</td>\n",
              "      <td>33</td>\n",
              "      <td>43</td>\n",
              "      <td>40</td>\n",
              "      <td>0</td>\n",
              "    </tr>\n",
              "  </tbody>\n",
              "</table>\n",
              "<p>16122 rows × 31 columns</p>\n",
              "</div>"
            ],
            "text/plain": [
              "           ID                Name  Overall  ...  Composure  Marking  Elite\n",
              "0      158023            L. Messi       94  ...         96       33      1\n",
              "1       20801   Cristiano Ronaldo       94  ...         95       28      1\n",
              "2      190871           Neymar Jr       92  ...         94       27      1\n",
              "3      192985        K. De Bruyne       91  ...         88       68      1\n",
              "4      183277           E. Hazard       91  ...         91       34      1\n",
              "...       ...                 ...      ...  ...        ...      ...    ...\n",
              "16117  238813        J. Lundstram       47  ...         45       40      0\n",
              "16118  243165  N. Christoffersson       47  ...         42       22      0\n",
              "16119  241638           B. Worman       47  ...         41       32      0\n",
              "16120  246268      D. Walker-Rice       47  ...         46       20      0\n",
              "16121  246269           G. Nugent       46  ...         43       40      0\n",
              "\n",
              "[16122 rows x 31 columns]"
            ]
          },
          "metadata": {
            "tags": []
          },
          "execution_count": 5
        }
      ]
    },
    {
      "cell_type": "markdown",
      "metadata": {
        "id": "MPK3sgo5rrEN"
      },
      "source": [
        "### Split the data into train and test, with 80% training and 20% testing. \n",
        "\n",
        "Be sure to leave out columns that would not make sense in the model, like the player ID column."
      ]
    },
    {
      "cell_type": "code",
      "metadata": {
        "id": "NGClb3-t4HaW",
        "outputId": "d8bc873f-cf31-429d-d020-745c704aa4bd",
        "colab": {
          "base_uri": "https://localhost:8080/",
          "height": 202
        }
      },
      "source": [
        "elite = soccer.iloc[:, -1:]\n",
        "soc = soccer.iloc[:, 3:-1]\n",
        "elite.head()"
      ],
      "execution_count": 19,
      "outputs": [
        {
          "output_type": "execute_result",
          "data": {
            "text/html": [
              "<div>\n",
              "<style scoped>\n",
              "    .dataframe tbody tr th:only-of-type {\n",
              "        vertical-align: middle;\n",
              "    }\n",
              "\n",
              "    .dataframe tbody tr th {\n",
              "        vertical-align: top;\n",
              "    }\n",
              "\n",
              "    .dataframe thead th {\n",
              "        text-align: right;\n",
              "    }\n",
              "</style>\n",
              "<table border=\"1\" class=\"dataframe\">\n",
              "  <thead>\n",
              "    <tr style=\"text-align: right;\">\n",
              "      <th></th>\n",
              "      <th>Elite</th>\n",
              "    </tr>\n",
              "  </thead>\n",
              "  <tbody>\n",
              "    <tr>\n",
              "      <th>0</th>\n",
              "      <td>1</td>\n",
              "    </tr>\n",
              "    <tr>\n",
              "      <th>1</th>\n",
              "      <td>1</td>\n",
              "    </tr>\n",
              "    <tr>\n",
              "      <th>2</th>\n",
              "      <td>1</td>\n",
              "    </tr>\n",
              "    <tr>\n",
              "      <th>3</th>\n",
              "      <td>1</td>\n",
              "    </tr>\n",
              "    <tr>\n",
              "      <th>4</th>\n",
              "      <td>1</td>\n",
              "    </tr>\n",
              "  </tbody>\n",
              "</table>\n",
              "</div>"
            ],
            "text/plain": [
              "   Elite\n",
              "0      1\n",
              "1      1\n",
              "2      1\n",
              "3      1\n",
              "4      1"
            ]
          },
          "metadata": {
            "tags": []
          },
          "execution_count": 19
        }
      ]
    },
    {
      "cell_type": "code",
      "metadata": {
        "id": "ifiiIdQ_rrEO"
      },
      "source": [
        "from sklearn.model_selection import train_test_split\n",
        "\n",
        "\n",
        "X_train, x_test, y_train, y_test = train_test_split(soc, elite, test_size=0.2)\n"
      ],
      "execution_count": 26,
      "outputs": []
    },
    {
      "cell_type": "markdown",
      "metadata": {
        "id": "x4vvG5GmrrEL"
      },
      "source": [
        "### Fit the logistic regression model using the statsmodels package and print out the coefficient summary. \n",
        "\n",
        "Which variables appear to be the most important, and what effect do they have on the probability of a player being elite?"
      ]
    },
    {
      "cell_type": "code",
      "metadata": {
        "id": "svD4pPAXAFmh",
        "outputId": "c5a08362-7480-47c0-fc05-d4594e54e3cd",
        "colab": {
          "base_uri": "https://localhost:8080/",
          "height": 849
        }
      },
      "source": [
        "X_train_const = sm.add_constant(X_train)\n",
        "\n",
        "sm_model = sm.Logit(y_train, X_train_const).fit()\n",
        "\n",
        "print(sm_model.summary())"
      ],
      "execution_count": 27,
      "outputs": [
        {
          "output_type": "stream",
          "text": [
            "Optimization terminated successfully.\n",
            "         Current function value: 0.103549\n",
            "         Iterations 10\n",
            "                           Logit Regression Results                           \n",
            "==============================================================================\n",
            "Dep. Variable:                  Elite   No. Observations:                12897\n",
            "Model:                          Logit   Df Residuals:                    12869\n",
            "Method:                           MLE   Df Model:                           27\n",
            "Date:                Thu, 15 Oct 2020   Pseudo R-squ.:                  0.7108\n",
            "Time:                        16:16:09   Log-Likelihood:                -1335.5\n",
            "converged:                       True   LL-Null:                       -4618.2\n",
            "Covariance Type:            nonrobust   LLR p-value:                     0.000\n",
            "===================================================================================\n",
            "                      coef    std err          z      P>|z|      [0.025      0.975]\n",
            "-----------------------------------------------------------------------------------\n",
            "const             -57.6067      1.741    -33.090      0.000     -61.019     -54.195\n",
            "Crossing           -0.0135      0.006     -2.097      0.036      -0.026      -0.001\n",
            "Finishing           0.0254      0.008      3.203      0.001       0.010       0.041\n",
            "HeadingAccuracy     0.0517      0.007      7.418      0.000       0.038       0.065\n",
            "ShortPassing        0.1822      0.017     10.636      0.000       0.149       0.216\n",
            "Volleys            -0.0209      0.007     -3.193      0.001      -0.034      -0.008\n",
            "Dribbling          -0.0018      0.012     -0.143      0.886      -0.026       0.022\n",
            "Curve              -0.0039      0.007     -0.570      0.569      -0.017       0.009\n",
            "FKAccuracy          0.0126      0.006      2.249      0.025       0.002       0.024\n",
            "LongPassing         0.0006      0.010      0.058      0.953      -0.018       0.019\n",
            "BallControl         0.1857      0.018     10.554      0.000       0.151       0.220\n",
            "Acceleration        0.0403      0.011      3.712      0.000       0.019       0.062\n",
            "SprintSpeed         0.0430      0.010      4.446      0.000       0.024       0.062\n",
            "Agility            -0.0076      0.010     -0.781      0.435      -0.027       0.012\n",
            "Reactions           0.2783      0.014     19.389      0.000       0.250       0.306\n",
            "Balance            -0.0334      0.008     -4.400      0.000      -0.048      -0.018\n",
            "ShotPower           0.0403      0.009      4.641      0.000       0.023       0.057\n",
            "Jumping             0.0062      0.005      1.181      0.238      -0.004       0.017\n",
            "Stamina            -0.0162      0.006     -2.533      0.011      -0.029      -0.004\n",
            "Strength            0.0081      0.008      1.055      0.291      -0.007       0.023\n",
            "LongShots          -0.0230      0.008     -2.757      0.006      -0.039      -0.007\n",
            "Aggression          0.0198      0.006      3.497      0.000       0.009       0.031\n",
            "Interceptions      -0.0227      0.006     -3.618      0.000      -0.035      -0.010\n",
            "Positioning        -0.0578      0.008     -7.054      0.000      -0.074      -0.042\n",
            "Vision             -0.0331      0.009     -3.742      0.000      -0.050      -0.016\n",
            "Penalties          -0.0053      0.006     -0.825      0.409      -0.018       0.007\n",
            "Composure           0.1152      0.011     10.599      0.000       0.094       0.137\n",
            "Marking             0.0235      0.006      4.115      0.000       0.012       0.035\n",
            "===================================================================================\n",
            "\n",
            "Possibly complete quasi-separation: A fraction 0.37 of observations can be\n",
            "perfectly predicted. This might indicate that there is complete\n",
            "quasi-separation. In this case some parameters will not be identified.\n"
          ],
          "name": "stdout"
        }
      ]
    },
    {
      "cell_type": "markdown",
      "metadata": {
        "id": "eCWI-KzYBMjG"
      },
      "source": [
        "Reactions accounts for the most variance in the model at .2893. Ball Control and Short Passing seem important as well account for .2046 and .1875 of the variance."
      ]
    },
    {
      "cell_type": "code",
      "metadata": {
        "id": "900PREr_CapT",
        "outputId": "f99018a0-7f66-42e3-954c-f57ca30cb431",
        "colab": {
          "base_uri": "https://localhost:8080/",
          "height": 52
        }
      },
      "source": [
        "score_train = logit.score(X_train, y_train)\n",
        "score_test = logit.score(x_test, y_test)\n",
        "\n",
        "print(score_train)\n",
        "print(score_test)"
      ],
      "execution_count": 30,
      "outputs": [
        {
          "output_type": "stream",
          "text": [
            "0.9570442738621385\n",
            "0.9603100775193798\n"
          ],
          "name": "stdout"
        }
      ]
    },
    {
      "cell_type": "markdown",
      "metadata": {
        "id": "YyTCaogA03we"
      },
      "source": [
        "### Fit the logistic regression model using the Scikit-Learn package and compute the accuracy score. \n",
        "\n",
        "We have yet to discuss how to evaluate the model, which will happen next week, but one intuitive way to see if our model predictions are reasonable is to compute the accuracy score."
      ]
    },
    {
      "cell_type": "code",
      "metadata": {
        "id": "cwdpwLT6rrEM",
        "outputId": "6ca17fe5-a118-4f63-a580-2fdf336a7a17",
        "colab": {
          "base_uri": "https://localhost:8080/",
          "height": 158
        }
      },
      "source": [
        "from sklearn.linear_model import LogisticRegression\n",
        "\n",
        "logit = LogisticRegression(max_iter=1000)\n",
        "\n",
        "logit.fit(X_train, y_train)"
      ],
      "execution_count": 23,
      "outputs": [
        {
          "output_type": "stream",
          "text": [
            "/usr/local/lib/python3.6/dist-packages/sklearn/utils/validation.py:760: DataConversionWarning: A column-vector y was passed when a 1d array was expected. Please change the shape of y to (n_samples, ), for example using ravel().\n",
            "  y = column_or_1d(y, warn=True)\n"
          ],
          "name": "stderr"
        },
        {
          "output_type": "execute_result",
          "data": {
            "text/plain": [
              "LogisticRegression(C=1.0, class_weight=None, dual=False, fit_intercept=True,\n",
              "                   intercept_scaling=1, l1_ratio=None, max_iter=1000,\n",
              "                   multi_class='auto', n_jobs=None, penalty='l2',\n",
              "                   random_state=None, solver='lbfgs', tol=0.0001, verbose=0,\n",
              "                   warm_start=False)"
            ]
          },
          "metadata": {
            "tags": []
          },
          "execution_count": 23
        }
      ]
    },
    {
      "cell_type": "markdown",
      "metadata": {
        "id": "PitvH9hQ03wp"
      },
      "source": [
        "### Generate predicted probabilities on the test set by calling the `predict_proba` method."
      ]
    },
    {
      "cell_type": "code",
      "metadata": {
        "id": "U1flssMvEk4m",
        "outputId": "23c25a48-510a-464d-dc8d-e3d59c356fd8",
        "colab": {
          "base_uri": "https://localhost:8080/",
          "height": 52
        }
      },
      "source": [
        "score_train = logit.score(X_train, y_train)\n",
        "score_test = logit.score(x_test, y_test)\n",
        "\n",
        "print(score_train)\n",
        "print(score_test)"
      ],
      "execution_count": 40,
      "outputs": [
        {
          "output_type": "stream",
          "text": [
            "0.9570442738621385\n",
            "0.9603100775193798\n"
          ],
          "name": "stdout"
        }
      ]
    },
    {
      "cell_type": "code",
      "metadata": {
        "id": "M7XI2Uc703wq"
      },
      "source": [
        "prob = logit.predict_proba(x_test)"
      ],
      "execution_count": 43,
      "outputs": []
    },
    {
      "cell_type": "code",
      "metadata": {
        "id": "E3eg54dFFPYc"
      },
      "source": [
        "prob = pd.DataFrame(prob, columns=['Elite', 'Not Elite'])"
      ],
      "execution_count": 45,
      "outputs": []
    },
    {
      "cell_type": "markdown",
      "metadata": {
        "id": "5djjuzhk03yW"
      },
      "source": [
        "### Generate a violin plot that shows the distribution of predicted probabilities by actual class (Elite field).\n",
        "\n",
        "What insights can you draw from the visualization?"
      ]
    },
    {
      "cell_type": "code",
      "metadata": {
        "id": "PTuY8op203yX",
        "outputId": "7386b9d8-59d0-40c5-9e02-4b7ad42ba769",
        "colab": {
          "base_uri": "https://localhost:8080/",
          "height": 592
        }
      },
      "source": [
        "plt.figure(figsize=(20,10))\n",
        "sns.violinplot(data = prob)\n",
        "plt.show()"
      ],
      "execution_count": 48,
      "outputs": [
        {
          "output_type": "display_data",
          "data": {
            "image/png": "[encoded data removed]",
            "text/plain": [
              "<Figure size 1440x720 with 1 Axes>"
            ]
          },
          "metadata": {
            "tags": [],
            "needs_background": "light"
          }
        }
      ]
    }
  ]
}