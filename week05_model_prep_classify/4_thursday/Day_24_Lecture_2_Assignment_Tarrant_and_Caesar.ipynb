{
 "cells": [
  {
   "cell_type": "markdown",
   "metadata": {
    "id": "q7OBYmw2rsHe"
   },
   "source": [
    "## Day 24 Lecture 2 Assignment\n",
    "\n",
    "In this assignment, we will build our a more complex logistic regression model, this time on both numeric and categorical data. We will use the Chicago traffic crashes dataset loaded below and analyze the model generated for this dataset."
   ]
  },
  {
   "cell_type": "code",
   "execution_count": 1,
   "metadata": {
    "id": "u3rUv9PKrsHf"
   },
   "outputs": [],
   "source": [
    "%matplotlib inline\n",
    "\n",
    "import matplotlib.pyplot as plt\n",
    "import numpy as np\n",
    "import pandas as pd\n",
    "import seaborn as sns"
   ]
  },
  {
   "cell_type": "code",
   "execution_count": 2,
   "metadata": {
    "id": "cJ-qRkctUvv6"
   },
   "outputs": [],
   "source": [
    "def missingness_summary(df, print_log=False, sort='none'):\n",
    "    summary = df.apply(lambda x: x.isna().sum() / x.shape[0])\n",
    "    \n",
    "    if print_log == True:\n",
    "        if sort == 'none':\n",
    "            print(summary)\n",
    "        elif sort == 'ascending':\n",
    "            print(summary.sort_values())\n",
    "        elif sort == 'descending':\n",
    "            print(summary.sort_values(ascending=False))\n",
    "        else:\n",
    "            print('Invalid value for sort parameter.')\n",
    "        \n",
    "    return summary"
   ]
  },
  {
   "cell_type": "code",
   "execution_count": 3,
   "metadata": {
    "id": "V_hlXXYwrsHh"
   },
   "outputs": [],
   "source": [
    "crash_data = pd.read_csv('https://tf-assets-prod.s3.amazonaws.com/tf-curric/data-science/traffic_crashes_chicago.csv')"
   ]
  },
  {
   "cell_type": "code",
   "execution_count": null,
   "metadata": {
    "colab": {
     "base_uri": "https://localhost:8080/",
     "height": 383
    },
    "id": "bJV8A_OQrsHj",
    "outputId": "69ef06ea-9890-4ef3-a34b-a7f52e053cff"
   },
   "outputs": [
    {
     "data": {
      "text/html": [
       "<div>\n",
       "<style scoped>\n",
       "    .dataframe tbody tr th:only-of-type {\n",
       "        vertical-align: middle;\n",
       "    }\n",
       "\n",
       "    .dataframe tbody tr th {\n",
       "        vertical-align: top;\n",
       "    }\n",
       "\n",
       "    .dataframe thead th {\n",
       "        text-align: right;\n",
       "    }\n",
       "</style>\n",
       "<table border=\"1\" class=\"dataframe\">\n",
       "  <thead>\n",
       "    <tr style=\"text-align: right;\">\n",
       "      <th></th>\n",
       "      <th>RD_NO</th>\n",
       "      <th>CRASH_DATE</th>\n",
       "      <th>POSTED_SPEED_LIMIT</th>\n",
       "      <th>TRAFFIC_CONTROL_DEVICE</th>\n",
       "      <th>DEVICE_CONDITION</th>\n",
       "      <th>WEATHER_CONDITION</th>\n",
       "      <th>LIGHTING_CONDITION</th>\n",
       "      <th>FIRST_CRASH_TYPE</th>\n",
       "      <th>TRAFFICWAY_TYPE</th>\n",
       "      <th>LANE_CNT</th>\n",
       "      <th>ALIGNMENT</th>\n",
       "      <th>ROADWAY_SURFACE_COND</th>\n",
       "      <th>ROAD_DEFECT</th>\n",
       "      <th>REPORT_TYPE</th>\n",
       "      <th>CRASH_TYPE</th>\n",
       "      <th>INTERSECTION_RELATED_I</th>\n",
       "      <th>NOT_RIGHT_OF_WAY_I</th>\n",
       "      <th>HIT_AND_RUN_I</th>\n",
       "      <th>DAMAGE</th>\n",
       "      <th>DATE_POLICE_NOTIFIED</th>\n",
       "      <th>PRIM_CONTRIBUTORY_CAUSE</th>\n",
       "      <th>SEC_CONTRIBUTORY_CAUSE</th>\n",
       "      <th>STREET_NO</th>\n",
       "      <th>STREET_DIRECTION</th>\n",
       "      <th>STREET_NAME</th>\n",
       "      <th>BEAT_OF_OCCURRENCE</th>\n",
       "      <th>PHOTOS_TAKEN_I</th>\n",
       "      <th>STATEMENTS_TAKEN_I</th>\n",
       "      <th>DOORING_I</th>\n",
       "      <th>WORK_ZONE_I</th>\n",
       "      <th>WORK_ZONE_TYPE</th>\n",
       "      <th>WORKERS_PRESENT_I</th>\n",
       "      <th>NUM_UNITS</th>\n",
       "      <th>MOST_SEVERE_INJURY</th>\n",
       "      <th>INJURIES_TOTAL</th>\n",
       "      <th>INJURIES_FATAL</th>\n",
       "      <th>INJURIES_INCAPACITATING</th>\n",
       "      <th>INJURIES_NON_INCAPACITATING</th>\n",
       "      <th>INJURIES_REPORTED_NOT_EVIDENT</th>\n",
       "      <th>INJURIES_NO_INDICATION</th>\n",
       "      <th>INJURIES_UNKNOWN</th>\n",
       "    </tr>\n",
       "  </thead>\n",
       "  <tbody>\n",
       "    <tr>\n",
       "      <th>0</th>\n",
       "      <td>JC334993</td>\n",
       "      <td>7/4/2019 22:33</td>\n",
       "      <td>45</td>\n",
       "      <td>NO CONTROLS</td>\n",
       "      <td>NO CONTROLS</td>\n",
       "      <td>CLEAR</td>\n",
       "      <td>DARKNESS, LIGHTED ROAD</td>\n",
       "      <td>REAR END</td>\n",
       "      <td>DIVIDED - W/MEDIAN BARRIER</td>\n",
       "      <td>NaN</td>\n",
       "      <td>STRAIGHT AND LEVEL</td>\n",
       "      <td>DRY</td>\n",
       "      <td>NO DEFECTS</td>\n",
       "      <td>NaN</td>\n",
       "      <td>NO INJURY / DRIVE AWAY</td>\n",
       "      <td>NaN</td>\n",
       "      <td>NaN</td>\n",
       "      <td>NaN</td>\n",
       "      <td>OVER $1,500</td>\n",
       "      <td>7/4/2019 23:05</td>\n",
       "      <td>FOLLOWING TOO CLOSELY</td>\n",
       "      <td>NOT APPLICABLE</td>\n",
       "      <td>300</td>\n",
       "      <td>N</td>\n",
       "      <td>LAKE SHORE DR SB</td>\n",
       "      <td>114.0</td>\n",
       "      <td>NaN</td>\n",
       "      <td>NaN</td>\n",
       "      <td>NaN</td>\n",
       "      <td>NaN</td>\n",
       "      <td>NaN</td>\n",
       "      <td>NaN</td>\n",
       "      <td>NaN</td>\n",
       "      <td>NaN</td>\n",
       "      <td>NaN</td>\n",
       "      <td>NaN</td>\n",
       "      <td>NaN</td>\n",
       "      <td>NaN</td>\n",
       "      <td>NaN</td>\n",
       "      <td>NaN</td>\n",
       "      <td>NaN</td>\n",
       "    </tr>\n",
       "    <tr>\n",
       "      <th>1</th>\n",
       "      <td>JC370822</td>\n",
       "      <td>7/30/2019 10:22</td>\n",
       "      <td>30</td>\n",
       "      <td>NO CONTROLS</td>\n",
       "      <td>NO CONTROLS</td>\n",
       "      <td>CLEAR</td>\n",
       "      <td>DAYLIGHT</td>\n",
       "      <td>TURNING</td>\n",
       "      <td>DIVIDED - W/MEDIAN (NOT RAISED)</td>\n",
       "      <td>NaN</td>\n",
       "      <td>STRAIGHT AND LEVEL</td>\n",
       "      <td>DRY</td>\n",
       "      <td>NO DEFECTS</td>\n",
       "      <td>NaN</td>\n",
       "      <td>NO INJURY / DRIVE AWAY</td>\n",
       "      <td>NaN</td>\n",
       "      <td>NaN</td>\n",
       "      <td>NaN</td>\n",
       "      <td>OVER $1,500</td>\n",
       "      <td>7/30/2019 10:25</td>\n",
       "      <td>FAILING TO YIELD RIGHT-OF-WAY</td>\n",
       "      <td>IMPROPER TURNING/NO SIGNAL</td>\n",
       "      <td>8201</td>\n",
       "      <td>S</td>\n",
       "      <td>DR MARTIN LUTHER KING JR DR</td>\n",
       "      <td>631.0</td>\n",
       "      <td>NaN</td>\n",
       "      <td>NaN</td>\n",
       "      <td>NaN</td>\n",
       "      <td>NaN</td>\n",
       "      <td>NaN</td>\n",
       "      <td>NaN</td>\n",
       "      <td>NaN</td>\n",
       "      <td>NaN</td>\n",
       "      <td>NaN</td>\n",
       "      <td>NaN</td>\n",
       "      <td>NaN</td>\n",
       "      <td>NaN</td>\n",
       "      <td>NaN</td>\n",
       "      <td>NaN</td>\n",
       "      <td>NaN</td>\n",
       "    </tr>\n",
       "    <tr>\n",
       "      <th>2</th>\n",
       "      <td>JC387098</td>\n",
       "      <td>8/10/2019 17:00</td>\n",
       "      <td>25</td>\n",
       "      <td>NO CONTROLS</td>\n",
       "      <td>NO CONTROLS</td>\n",
       "      <td>CLEAR</td>\n",
       "      <td>DAYLIGHT</td>\n",
       "      <td>PARKED MOTOR VEHICLE</td>\n",
       "      <td>ONE-WAY</td>\n",
       "      <td>NaN</td>\n",
       "      <td>STRAIGHT AND LEVEL</td>\n",
       "      <td>DRY</td>\n",
       "      <td>NO DEFECTS</td>\n",
       "      <td>NaN</td>\n",
       "      <td>NO INJURY / DRIVE AWAY</td>\n",
       "      <td>NaN</td>\n",
       "      <td>NaN</td>\n",
       "      <td>NaN</td>\n",
       "      <td>$501 - $1,500</td>\n",
       "      <td>8/10/2019 17:35</td>\n",
       "      <td>EQUIPMENT - VEHICLE CONDITION</td>\n",
       "      <td>NOT APPLICABLE</td>\n",
       "      <td>6747</td>\n",
       "      <td>S</td>\n",
       "      <td>CREGIER AVE</td>\n",
       "      <td>332.0</td>\n",
       "      <td>NaN</td>\n",
       "      <td>NaN</td>\n",
       "      <td>NaN</td>\n",
       "      <td>NaN</td>\n",
       "      <td>NaN</td>\n",
       "      <td>NaN</td>\n",
       "      <td>1.0</td>\n",
       "      <td>NaN</td>\n",
       "      <td>NaN</td>\n",
       "      <td>NaN</td>\n",
       "      <td>NaN</td>\n",
       "      <td>NaN</td>\n",
       "      <td>NaN</td>\n",
       "      <td>NaN</td>\n",
       "      <td>NaN</td>\n",
       "    </tr>\n",
       "    <tr>\n",
       "      <th>3</th>\n",
       "      <td>JC395195</td>\n",
       "      <td>8/16/2019 16:53</td>\n",
       "      <td>30</td>\n",
       "      <td>NO CONTROLS</td>\n",
       "      <td>NO CONTROLS</td>\n",
       "      <td>CLEAR</td>\n",
       "      <td>DAYLIGHT</td>\n",
       "      <td>PARKED MOTOR VEHICLE</td>\n",
       "      <td>NOT DIVIDED</td>\n",
       "      <td>NaN</td>\n",
       "      <td>STRAIGHT AND LEVEL</td>\n",
       "      <td>DRY</td>\n",
       "      <td>NO DEFECTS</td>\n",
       "      <td>NaN</td>\n",
       "      <td>NO INJURY / DRIVE AWAY</td>\n",
       "      <td>NaN</td>\n",
       "      <td>NaN</td>\n",
       "      <td>Y</td>\n",
       "      <td>$501 - $1,500</td>\n",
       "      <td>8/16/2019 16:53</td>\n",
       "      <td>UNABLE TO DETERMINE</td>\n",
       "      <td>NOT APPLICABLE</td>\n",
       "      <td>554</td>\n",
       "      <td>N</td>\n",
       "      <td>FRANKLIN ST</td>\n",
       "      <td>1831.0</td>\n",
       "      <td>NaN</td>\n",
       "      <td>NaN</td>\n",
       "      <td>NaN</td>\n",
       "      <td>NaN</td>\n",
       "      <td>NaN</td>\n",
       "      <td>NaN</td>\n",
       "      <td>1.0</td>\n",
       "      <td>NO INDICATION OF INJURY</td>\n",
       "      <td>0.0</td>\n",
       "      <td>0.0</td>\n",
       "      <td>0.0</td>\n",
       "      <td>0.0</td>\n",
       "      <td>0.0</td>\n",
       "      <td>1.0</td>\n",
       "      <td>0.0</td>\n",
       "    </tr>\n",
       "    <tr>\n",
       "      <th>4</th>\n",
       "      <td>JC396604</td>\n",
       "      <td>8/17/2019 16:04</td>\n",
       "      <td>30</td>\n",
       "      <td>NO CONTROLS</td>\n",
       "      <td>NO CONTROLS</td>\n",
       "      <td>CLEAR</td>\n",
       "      <td>DAYLIGHT</td>\n",
       "      <td>PARKED MOTOR VEHICLE</td>\n",
       "      <td>PARKING LOT</td>\n",
       "      <td>NaN</td>\n",
       "      <td>STRAIGHT AND LEVEL</td>\n",
       "      <td>DRY</td>\n",
       "      <td>NO DEFECTS</td>\n",
       "      <td>NaN</td>\n",
       "      <td>NO INJURY / DRIVE AWAY</td>\n",
       "      <td>NaN</td>\n",
       "      <td>NaN</td>\n",
       "      <td>Y</td>\n",
       "      <td>$501 - $1,500</td>\n",
       "      <td>8/17/2019 18:30</td>\n",
       "      <td>UNABLE TO DETERMINE</td>\n",
       "      <td>UNABLE TO DETERMINE</td>\n",
       "      <td>3700</td>\n",
       "      <td>N</td>\n",
       "      <td>WESTERN AVE</td>\n",
       "      <td>1921.0</td>\n",
       "      <td>NaN</td>\n",
       "      <td>NaN</td>\n",
       "      <td>NaN</td>\n",
       "      <td>NaN</td>\n",
       "      <td>NaN</td>\n",
       "      <td>NaN</td>\n",
       "      <td>1.0</td>\n",
       "      <td>NO INDICATION OF INJURY</td>\n",
       "      <td>0.0</td>\n",
       "      <td>0.0</td>\n",
       "      <td>0.0</td>\n",
       "      <td>0.0</td>\n",
       "      <td>0.0</td>\n",
       "      <td>1.0</td>\n",
       "      <td>0.0</td>\n",
       "    </tr>\n",
       "  </tbody>\n",
       "</table>\n",
       "</div>"
      ],
      "text/plain": [
       "      RD_NO       CRASH_DATE  ...  INJURIES_NO_INDICATION INJURIES_UNKNOWN\n",
       "0  JC334993   7/4/2019 22:33  ...                     NaN              NaN\n",
       "1  JC370822  7/30/2019 10:22  ...                     NaN              NaN\n",
       "2  JC387098  8/10/2019 17:00  ...                     NaN              NaN\n",
       "3  JC395195  8/16/2019 16:53  ...                     1.0              0.0\n",
       "4  JC396604  8/17/2019 16:04  ...                     1.0              0.0\n",
       "\n",
       "[5 rows x 41 columns]"
      ]
     },
     "execution_count": 4,
     "metadata": {
      "tags": []
     },
     "output_type": "execute_result"
    }
   ],
   "source": [
    "crash_data.head()"
   ]
  },
  {
   "cell_type": "markdown",
   "metadata": {
    "id": "I7kel3hRUvwA"
   },
   "source": [
    "First, create a binary response column by modifying the \"DAMAGE\" column. Consider \"OVER \\$1500\" to be the positive class, and under \\$1500 to be the negative class."
   ]
  },
  {
   "cell_type": "code",
   "execution_count": 4,
   "metadata": {
    "id": "lVXRdsWPUvwB"
   },
   "outputs": [],
   "source": [
    "crash_data['DAMAGE_BIN'] = np.where(crash_data['DAMAGE'] == \"OVER $1,500\", 1, 0)"
   ]
  },
  {
   "cell_type": "code",
   "execution_count": null,
   "metadata": {
    "colab": {
     "base_uri": "https://localhost:8080/",
     "height": 353
    },
    "id": "8dlsXM1xc3I-",
    "outputId": "a64d3045-fa25-49b7-e10a-92c41c2a2427"
   },
   "outputs": [
    {
     "name": "stderr",
     "output_type": "stream",
     "text": [
      "/usr/local/lib/python3.6/dist-packages/seaborn/_decorators.py:43: FutureWarning: Pass the following variable as a keyword arg: x. From version 0.12, the only valid positional argument will be `data`, and passing other arguments without an explicit keyword will result in an error or misinterpretation.\n",
      "  FutureWarning\n"
     ]
    },
    {
     "data": {
      "text/plain": [
       "<matplotlib.axes._subplots.AxesSubplot at 0x7f0155181438>"
      ]
     },
     "execution_count": 6,
     "metadata": {
      "tags": []
     },
     "output_type": "execute_result"
    },
    {
     "data": {
      "image/png": "[encoded data removed]",
      "text/plain": [
       "<Figure size 432x288 with 1 Axes>"
      ]
     },
     "metadata": {
      "needs_background": "light",
      "tags": []
     },
     "output_type": "display_data"
    }
   ],
   "source": [
    "sns.countplot(crash_data['DAMAGE_BIN'])"
   ]
  },
  {
   "cell_type": "markdown",
   "metadata": {
    "id": "5QQUxRPMrsHl"
   },
   "source": [
    "Using the code from Day 21, Lecture 1 as a starting point, devise an appropriate way to address missing values. You have a lot of freedom here; we will proceed by taking the following steps:\n",
    "\n",
    "- Dropping all columns with more than 5% missing data\n",
    "- Imputing the median for numeric columns with less than 5% missing data (except for STREET_NO; imputing it in this manner would not make any sense)\n",
    "- Dropping rows with missing data for categorical columns that have less than 5% missing data"
   ]
  },
  {
   "cell_type": "code",
   "execution_count": 5,
   "metadata": {
    "colab": {
     "base_uri": "https://localhost:8080/",
     "height": 774
    },
    "id": "WuYZO5hndxrW",
    "outputId": "15777dc9-4e3f-4a30-85e4-7877a80472a9"
   },
   "outputs": [
    {
     "data": {
      "text/plain": [
       "RD_NO                            0.000000\n",
       "CRASH_DATE                       0.000000\n",
       "POSTED_SPEED_LIMIT               0.000000\n",
       "TRAFFIC_CONTROL_DEVICE           0.000000\n",
       "DEVICE_CONDITION                 0.000000\n",
       "WEATHER_CONDITION                0.000000\n",
       "LIGHTING_CONDITION               0.000000\n",
       "FIRST_CRASH_TYPE                 0.000000\n",
       "TRAFFICWAY_TYPE                  0.000000\n",
       "LANE_CNT                         0.467107\n",
       "ALIGNMENT                        0.000000\n",
       "ROADWAY_SURFACE_COND             0.000000\n",
       "ROAD_DEFECT                      0.000000\n",
       "REPORT_TYPE                      0.023012\n",
       "CRASH_TYPE                       0.000000\n",
       "INTERSECTION_RELATED_I           0.779457\n",
       "NOT_RIGHT_OF_WAY_I               0.953917\n",
       "HIT_AND_RUN_I                    0.722423\n",
       "DAMAGE                           0.000000\n",
       "DATE_POLICE_NOTIFIED             0.000000\n",
       "PRIM_CONTRIBUTORY_CAUSE          0.000000\n",
       "SEC_CONTRIBUTORY_CAUSE           0.000000\n",
       "STREET_NO                        0.000000\n",
       "STREET_DIRECTION                 0.000005\n",
       "STREET_NAME                      0.000003\n",
       "BEAT_OF_OCCURRENCE               0.000011\n",
       "PHOTOS_TAKEN_I                   0.987318\n",
       "STATEMENTS_TAKEN_I               0.979760\n",
       "DOORING_I                        0.996616\n",
       "WORK_ZONE_I                      0.992933\n",
       "WORK_ZONE_TYPE                   0.994391\n",
       "WORKERS_PRESENT_I                0.998352\n",
       "NUM_UNITS                        0.003755\n",
       "MOST_SEVERE_INJURY               0.005795\n",
       "INJURIES_TOTAL                   0.005776\n",
       "INJURIES_FATAL                   0.005776\n",
       "INJURIES_INCAPACITATING          0.005776\n",
       "INJURIES_NON_INCAPACITATING      0.005776\n",
       "INJURIES_REPORTED_NOT_EVIDENT    0.005776\n",
       "INJURIES_NO_INDICATION           0.005776\n",
       "INJURIES_UNKNOWN                 0.005776\n",
       "DAMAGE_BIN                       0.000000\n",
       "dtype: float64"
      ]
     },
     "execution_count": 5,
     "metadata": {
      "tags": []
     },
     "output_type": "execute_result"
    }
   ],
   "source": [
    "crash_data.isnull().mean()"
   ]
  },
  {
   "cell_type": "code",
   "execution_count": 6,
   "metadata": {
    "id": "X7DmjvgXrsHl"
   },
   "outputs": [],
   "source": [
    "toDrop = crash_data.columns[crash_data.isnull().mean() > 0.05]\n",
    "crash_data.drop(toDrop, axis=1, inplace=True)"
   ]
  },
  {
   "cell_type": "code",
   "execution_count": 7,
   "metadata": {
    "id": "wU5cytGYepdf"
   },
   "outputs": [],
   "source": [
    "crash_data.drop('STREET_NO', axis=1, inplace=True)"
   ]
  },
  {
   "cell_type": "code",
   "execution_count": 8,
   "metadata": {
    "id": "ztM1eG5nfBeL"
   },
   "outputs": [],
   "source": [
    "crash = crash_data.copy()"
   ]
  },
  {
   "cell_type": "code",
   "execution_count": 10,
   "metadata": {
    "colab": {
     "base_uri": "https://localhost:8080/",
     "height": 580
    },
    "id": "Da_DMQBLhEWq",
    "outputId": "556f7ca6-08e4-494d-f8a9-f66cd176e025"
   },
   "outputs": [
    {
     "data": {
      "text/plain": [
       "RD_NO                            0.000000\n",
       "CRASH_DATE                       0.000000\n",
       "POSTED_SPEED_LIMIT               0.000000\n",
       "TRAFFIC_CONTROL_DEVICE           0.000000\n",
       "DEVICE_CONDITION                 0.000000\n",
       "WEATHER_CONDITION                0.000000\n",
       "LIGHTING_CONDITION               0.000000\n",
       "FIRST_CRASH_TYPE                 0.000000\n",
       "TRAFFICWAY_TYPE                  0.000000\n",
       "ALIGNMENT                        0.000000\n",
       "ROADWAY_SURFACE_COND             0.000000\n",
       "ROAD_DEFECT                      0.000000\n",
       "REPORT_TYPE                      0.023012\n",
       "CRASH_TYPE                       0.000000\n",
       "DAMAGE                           0.000000\n",
       "DATE_POLICE_NOTIFIED             0.000000\n",
       "PRIM_CONTRIBUTORY_CAUSE          0.000000\n",
       "SEC_CONTRIBUTORY_CAUSE           0.000000\n",
       "STREET_DIRECTION                 0.000005\n",
       "STREET_NAME                      0.000003\n",
       "BEAT_OF_OCCURRENCE               0.000011\n",
       "NUM_UNITS                        0.003755\n",
       "MOST_SEVERE_INJURY               0.005795\n",
       "INJURIES_TOTAL                   0.005776\n",
       "INJURIES_FATAL                   0.005776\n",
       "INJURIES_INCAPACITATING          0.005776\n",
       "INJURIES_NON_INCAPACITATING      0.005776\n",
       "INJURIES_REPORTED_NOT_EVIDENT    0.005776\n",
       "INJURIES_NO_INDICATION           0.005776\n",
       "INJURIES_UNKNOWN                 0.005776\n",
       "DAMAGE_BIN                       0.000000\n",
       "dtype: float64"
      ]
     },
     "execution_count": 10,
     "metadata": {
      "tags": []
     },
     "output_type": "execute_result"
    }
   ],
   "source": [
    "crash.isnull().mean()"
   ]
  },
  {
   "cell_type": "code",
   "execution_count": 12,
   "metadata": {
    "id": "lMifIlPreKIp"
   },
   "outputs": [],
   "source": [
    "toImpute = crash_data.columns[crash_data.isnull().mean() < 0.05]"
   ]
  },
  {
   "cell_type": "code",
   "execution_count": 13,
   "metadata": {
    "colab": {
     "base_uri": "https://localhost:8080/",
     "height": 34
    },
    "id": "ZHFTmVw9hsQw",
    "outputId": "1af1648c-1316-425f-ed03-6b6e6f7ae24c"
   },
   "outputs": [
    {
     "data": {
      "text/plain": [
       "dtype('O')"
      ]
     },
     "execution_count": 13,
     "metadata": {
      "tags": []
     },
     "output_type": "execute_result"
    }
   ],
   "source": [
    "crash['RD_NO'].dtypes"
   ]
  },
  {
   "cell_type": "code",
   "execution_count": 16,
   "metadata": {
    "id": "_Twjwix1hXpK"
   },
   "outputs": [],
   "source": [
    "for col in toImpute:\n",
    "    if crash[col].dtypes != 'O': \n",
    "        crash[col].fillna(crash[col].mean(), inplace=True)"
   ]
  },
  {
   "cell_type": "markdown",
   "metadata": {
    "id": "M66r2mytUvwF"
   },
   "source": [
    "Finally, choose a few numeric and categorical features (2-3 of each) to include in the model. (You can definitely include more than this, but too many features, especially categorical ones, will most likely lead to convergence issues). One hot encode the chosen categorical features, being sure to omit one of the categories (which will serve as a \"reference\" level) to avoid perfect multicollinearity.\n",
    "\n",
    "Again, you have a lot of freedom here; we will proceed with the following features, dropping the most commonly occurring category for the two categorical variables (\"CLEAR\" for weather, \"REAR END\" for first crash type):\n",
    "POSTED_SPEED_LIMIT, WEATHER_CONDITION, INJURIES_TOTAL, FIRST_CRASH_TYPE"
   ]
  },
  {
   "cell_type": "code",
   "execution_count": 33,
   "metadata": {
    "id": "R0jhgVLnjBV_"
   },
   "outputs": [],
   "source": [
    "crash_mod = pd.get_dummies(crash[['POSTED_SPEED_LIMIT', 'WEATHER_CONDITION', 'INJURIES_TOTAL', 'FIRST_CRASH_TYPE', 'DAMAGE_BIN']], drop_first=True)"
   ]
  },
  {
   "cell_type": "code",
   "execution_count": 25,
   "metadata": {
    "colab": {
     "base_uri": "https://localhost:8080/",
     "height": 650
    },
    "id": "XZBLo82hjZVL",
    "outputId": "1ee1d878-62d6-4e94-9f77-95212713fdf8"
   },
   "outputs": [
    {
     "name": "stdout",
     "output_type": "stream",
     "text": [
      "<class 'pandas.core.frame.DataFrame'>\n",
      "RangeIndex: 372585 entries, 0 to 372584\n",
      "Data columns (total 29 columns):\n",
      " #   Column                                         Non-Null Count   Dtype  \n",
      "---  ------                                         --------------   -----  \n",
      " 0   POSTED_SPEED_LIMIT                             372585 non-null  int64  \n",
      " 1   INJURIES_TOTAL                                 372585 non-null  float64\n",
      " 2   WEATHER_CONDITION_CLEAR                        372585 non-null  uint8  \n",
      " 3   WEATHER_CONDITION_CLOUDY/OVERCAST              372585 non-null  uint8  \n",
      " 4   WEATHER_CONDITION_FOG/SMOKE/HAZE               372585 non-null  uint8  \n",
      " 5   WEATHER_CONDITION_FREEZING RAIN/DRIZZLE        372585 non-null  uint8  \n",
      " 6   WEATHER_CONDITION_OTHER                        372585 non-null  uint8  \n",
      " 7   WEATHER_CONDITION_RAIN                         372585 non-null  uint8  \n",
      " 8   WEATHER_CONDITION_SEVERE CROSS WIND GATE       372585 non-null  uint8  \n",
      " 9   WEATHER_CONDITION_SLEET/HAIL                   372585 non-null  uint8  \n",
      " 10  WEATHER_CONDITION_SNOW                         372585 non-null  uint8  \n",
      " 11  WEATHER_CONDITION_UNKNOWN                      372585 non-null  uint8  \n",
      " 12  FIRST_CRASH_TYPE_ANIMAL                        372585 non-null  uint8  \n",
      " 13  FIRST_CRASH_TYPE_FIXED OBJECT                  372585 non-null  uint8  \n",
      " 14  FIRST_CRASH_TYPE_HEAD ON                       372585 non-null  uint8  \n",
      " 15  FIRST_CRASH_TYPE_OTHER NONCOLLISION            372585 non-null  uint8  \n",
      " 16  FIRST_CRASH_TYPE_OTHER OBJECT                  372585 non-null  uint8  \n",
      " 17  FIRST_CRASH_TYPE_OVERTURNED                    372585 non-null  uint8  \n",
      " 18  FIRST_CRASH_TYPE_PARKED MOTOR VEHICLE          372585 non-null  uint8  \n",
      " 19  FIRST_CRASH_TYPE_PEDALCYCLIST                  372585 non-null  uint8  \n",
      " 20  FIRST_CRASH_TYPE_PEDESTRIAN                    372585 non-null  uint8  \n",
      " 21  FIRST_CRASH_TYPE_REAR END                      372585 non-null  uint8  \n",
      " 22  FIRST_CRASH_TYPE_REAR TO FRONT                 372585 non-null  uint8  \n",
      " 23  FIRST_CRASH_TYPE_REAR TO REAR                  372585 non-null  uint8  \n",
      " 24  FIRST_CRASH_TYPE_REAR TO SIDE                  372585 non-null  uint8  \n",
      " 25  FIRST_CRASH_TYPE_SIDESWIPE OPPOSITE DIRECTION  372585 non-null  uint8  \n",
      " 26  FIRST_CRASH_TYPE_SIDESWIPE SAME DIRECTION      372585 non-null  uint8  \n",
      " 27  FIRST_CRASH_TYPE_TRAIN                         372585 non-null  uint8  \n",
      " 28  FIRST_CRASH_TYPE_TURNING                       372585 non-null  uint8  \n",
      "dtypes: float64(1), int64(1), uint8(27)\n",
      "memory usage: 15.3 MB\n"
     ]
    }
   ],
   "source": [
    "crash_mod.info()"
   ]
  },
  {
   "cell_type": "markdown",
   "metadata": {
    "id": "zRuNJsTSrsHn"
   },
   "source": [
    "Split the data into train and test, with 80% training and 20% testing. By default, the LR output from statsmodels does not include an intercept terms; add a constant column to the training data so that an intercept term is calculated for the LR model (hint: sm.add_constant() is a useful function to accomplish this)."
   ]
  },
  {
   "cell_type": "code",
   "execution_count": 27,
   "metadata": {
    "id": "ZFjAB80GkC_U"
   },
   "outputs": [],
   "source": [
    "from sklearn.model_selection import train_test_split"
   ]
  },
  {
   "cell_type": "code",
   "execution_count": 34,
   "metadata": {
    "id": "fhpHIZBjrsHn"
   },
   "outputs": [],
   "source": [
    "X = crash_mod.drop('DAMAGE_BIN', axis=1)\n",
    "Y = crash_mod['DAMAGE_BIN']\n",
    "\n",
    "X_train, X_test, y_train, y_test = train_test_split(X, Y, test_size=0.2)"
   ]
  },
  {
   "cell_type": "markdown",
   "metadata": {
    "id": "ggXxmOLTrsHq"
   },
   "source": [
    "Fit the logistic regression model using the statsmodels package and print out the coefficient summary. Which variables (in particular, which categories of our categorical variables) appear to be the most important, and what effect do they have on the probability of a crash resulting in $1500 or more in damages?"
   ]
  },
  {
   "cell_type": "code",
   "execution_count": null,
   "metadata": {
    "id": "kAv7TdZYkt8L"
   },
   "outputs": [],
   "source": [
    "import statsmodels.api as sm\n",
    "from sklearn.linear_model import LogisticRegression"
   ]
  },
  {
   "cell_type": "code",
   "execution_count": 60,
   "metadata": {
    "colab": {
     "base_uri": "https://localhost:8080/",
     "height": 950
    },
    "id": "7pFgRLNErsHq",
    "outputId": "e271d57a-dc3d-4c38-8eea-2734996edf60"
   },
   "outputs": [
    {
     "name": "stdout",
     "output_type": "stream",
     "text": [
      "Warning: Maximum number of iterations has been exceeded.\n",
      "         Current function value: 0.657559\n",
      "         Iterations: 35\n"
     ]
    },
    {
     "name": "stderr",
     "output_type": "stream",
     "text": [
      "/usr/local/lib/python3.6/dist-packages/statsmodels/base/model.py:512: ConvergenceWarning: Maximum Likelihood optimization failed to converge. Check mle_retvals\n",
      "  \"Check mle_retvals\", ConvergenceWarning)\n"
     ]
    },
    {
     "name": "stdout",
     "output_type": "stream",
     "text": [
      "                           Logit Regression Results                           \n",
      "==============================================================================\n",
      "Dep. Variable:             DAMAGE_BIN   No. Observations:               298068\n",
      "Model:                          Logit   Df Residuals:                   298038\n",
      "Method:                           MLE   Df Model:                           29\n",
      "Date:                Thu, 15 Oct 2020   Pseudo R-squ.:                 0.04045\n",
      "Time:                        19:02:36   Log-Likelihood:            -1.9600e+05\n",
      "converged:                      False   LL-Null:                   -2.0426e+05\n",
      "Covariance Type:            nonrobust   LLR p-value:                     0.000\n",
      "=================================================================================================================\n",
      "                                                    coef    std err          z      P>|z|      [0.025      0.975]\n",
      "-----------------------------------------------------------------------------------------------------------------\n",
      "const                                             0.3228      0.557      0.580      0.562      -0.768       1.414\n",
      "POSTED_SPEED_LIMIT                                0.0113      0.001     19.443      0.000       0.010       0.012\n",
      "INJURIES_TOTAL                                    0.7440      0.012     63.529      0.000       0.721       0.767\n",
      "WEATHER_CONDITION_CLEAR                          -0.0020      0.556     -0.004      0.997      -1.092       1.088\n",
      "WEATHER_CONDITION_CLOUDY/OVERCAST                 0.0953      0.557      0.171      0.864      -0.996       1.186\n",
      "WEATHER_CONDITION_FOG/SMOKE/HAZE                  0.1726      0.563      0.306      0.759      -0.931       1.276\n",
      "WEATHER_CONDITION_FREEZING RAIN/DRIZZLE           0.5100      0.586      0.871      0.384      -0.638       1.658\n",
      "WEATHER_CONDITION_OTHER                           0.2036      0.560      0.363      0.716      -0.895       1.302\n",
      "WEATHER_CONDITION_RAIN                            0.1258      0.556      0.226      0.821      -0.965       1.216\n",
      "WEATHER_CONDITION_SEVERE CROSS WIND GATE          0.2527      0.611      0.414      0.679      -0.944       1.449\n",
      "WEATHER_CONDITION_SLEET/HAIL                      0.1832      0.565      0.325      0.746      -0.923       1.290\n",
      "WEATHER_CONDITION_SNOW                            0.1333      0.557      0.240      0.811      -0.958       1.224\n",
      "WEATHER_CONDITION_UNKNOWN                         0.1658      0.557      0.298      0.766      -0.925       1.257\n",
      "FIRST_CRASH_TYPE_ANIMAL                          -0.9744      0.149     -6.525      0.000      -1.267      -0.682\n",
      "FIRST_CRASH_TYPE_FIXED OBJECT                     0.0809      0.023      3.484      0.000       0.035       0.126\n",
      "FIRST_CRASH_TYPE_HEAD ON                         -0.0383      0.046     -0.833      0.405      -0.128       0.052\n",
      "FIRST_CRASH_TYPE_OTHER NONCOLLISION              -1.1348      0.063    -17.992      0.000      -1.258      -1.011\n",
      "FIRST_CRASH_TYPE_OTHER OBJECT                    -0.6123      0.041    -15.109      0.000      -0.692      -0.533\n",
      "FIRST_CRASH_TYPE_OVERTURNED                       0.7766      0.245      3.175      0.001       0.297       1.256\n",
      "FIRST_CRASH_TYPE_PARKED MOTOR VEHICLE            -0.4628      0.015    -31.124      0.000      -0.492      -0.434\n",
      "FIRST_CRASH_TYPE_PEDALCYCLIST                    -2.4661      0.039    -62.500      0.000      -2.543      -2.389\n",
      "FIRST_CRASH_TYPE_PEDESTRIAN                      -2.3780      0.032    -75.459      0.000      -2.440      -2.316\n",
      "FIRST_CRASH_TYPE_REAR END                        -0.6733      0.015    -46.140      0.000      -0.702      -0.645\n",
      "FIRST_CRASH_TYPE_REAR TO FRONT                   -0.7073      0.068    -10.467      0.000      -0.840      -0.575\n",
      "FIRST_CRASH_TYPE_REAR TO REAR                    -0.7908      0.135     -5.859      0.000      -1.055      -0.526\n",
      "FIRST_CRASH_TYPE_REAR TO SIDE                    -0.5663      0.082     -6.899      0.000      -0.727      -0.405\n",
      "FIRST_CRASH_TYPE_SIDESWIPE OPPOSITE DIRECTION    -0.6312      0.033    -19.162      0.000      -0.696      -0.567\n",
      "FIRST_CRASH_TYPE_SIDESWIPE SAME DIRECTION        -0.6460      0.016    -41.532      0.000      -0.676      -0.616\n",
      "FIRST_CRASH_TYPE_TRAIN                           14.5180    575.176      0.025      0.980   -1112.807    1141.843\n",
      "FIRST_CRASH_TYPE_TURNING                         -0.1987      0.016    -12.221      0.000      -0.231      -0.167\n",
      "=================================================================================================================\n"
     ]
    },
    {
     "data": {
      "text/plain": [
       "LogisticRegression(C=1.0, class_weight=None, dual=False, fit_intercept=True,\n",
       "                   intercept_scaling=1, l1_ratio=None, max_iter=1000,\n",
       "                   multi_class='auto', n_jobs=None, penalty='l2',\n",
       "                   random_state=None, solver='lbfgs', tol=0.0001, verbose=0,\n",
       "                   warm_start=False)"
      ]
     },
     "execution_count": 60,
     "metadata": {
      "tags": []
     },
     "output_type": "execute_result"
    }
   ],
   "source": [
    "X_train_const = sm.add_constant(X_train)\n",
    "sm_model = sm.Logit(y_train, X_train_const).fit()\n",
    "print(sm_model.summary())\n",
    "\n",
    "logit = LogisticRegression(max_iter=1000)\n",
    "logit.fit(X_train, y_train)"
   ]
  },
  {
   "cell_type": "code",
   "execution_count": 67,
   "metadata": {
    "colab": {
     "base_uri": "https://localhost:8080/",
     "height": 562
    },
    "id": "VEVJZTmwl5BO",
    "outputId": "835fee84-9bf2-4be7-c550-025f5c2b33ad"
   },
   "outputs": [
    {
     "data": {
      "text/plain": [
       "POSTED_SPEED_LIMIT                               0.011363\n",
       "INJURIES_TOTAL                                   0.744942\n",
       "WEATHER_CONDITION_CLEAR                         -0.130749\n",
       "WEATHER_CONDITION_CLOUDY/OVERCAST               -0.030476\n",
       "WEATHER_CONDITION_FOG/SMOKE/HAZE                 0.055992\n",
       "WEATHER_CONDITION_FREEZING RAIN/DRIZZLE          0.304621\n",
       "WEATHER_CONDITION_OTHER                          0.067998\n",
       "WEATHER_CONDITION_RAIN                          -0.001226\n",
       "WEATHER_CONDITION_SEVERE CROSS WIND GATE         0.066587\n",
       "WEATHER_CONDITION_SLEET/HAIL                     0.073327\n",
       "WEATHER_CONDITION_SNOW                           0.007762\n",
       "WEATHER_CONDITION_UNKNOWN                        0.037210\n",
       "FIRST_CRASH_TYPE_ANIMAL                         -0.908597\n",
       "FIRST_CRASH_TYPE_FIXED OBJECT                    0.073824\n",
       "FIRST_CRASH_TYPE_HEAD ON                        -0.028360\n",
       "FIRST_CRASH_TYPE_OTHER NONCOLLISION             -1.097206\n",
       "FIRST_CRASH_TYPE_OTHER OBJECT                   -0.607647\n",
       "FIRST_CRASH_TYPE_OVERTURNED                      0.460942\n",
       "FIRST_CRASH_TYPE_PARKED MOTOR VEHICLE           -0.465583\n",
       "FIRST_CRASH_TYPE_PEDALCYCLIST                   -2.472679\n",
       "FIRST_CRASH_TYPE_PEDESTRIAN                     -2.374897\n",
       "FIRST_CRASH_TYPE_REAR END                       -0.676747\n",
       "FIRST_CRASH_TYPE_REAR TO FRONT                  -0.713633\n",
       "FIRST_CRASH_TYPE_REAR TO REAR                   -0.810866\n",
       "FIRST_CRASH_TYPE_REAR TO SIDE                   -0.653430\n",
       "FIRST_CRASH_TYPE_SIDESWIPE OPPOSITE DIRECTION   -0.631276\n",
       "FIRST_CRASH_TYPE_SIDESWIPE SAME DIRECTION       -0.649561\n",
       "FIRST_CRASH_TYPE_TRAIN                           0.152594\n",
       "FIRST_CRASH_TYPE_TURNING                        -0.197913\n",
       "intercept                                        0.452722\n",
       "dtype: float64"
      ]
     },
     "execution_count": 67,
     "metadata": {
      "tags": []
     },
     "output_type": "execute_result"
    }
   ],
   "source": [
    "logit_params = pd.Series(logit.coef_.reshape(-1,), index=X_train.columns)\n",
    "logit_params['intercept'] = logit.intercept_[0]\n",
    "\n",
    "logit_params"
   ]
  },
  {
   "cell_type": "markdown",
   "metadata": {
    "id": "2Sf0UuUwjIzg"
   },
   "source": [
    "Create a LogisticRegression model with sklearn. Use the .predict() method (using X_test) to get a y_pred. Create a confusion matrix comparing your actual y_test to your prediction. What do you notice about your type of error?"
   ]
  },
  {
   "cell_type": "code",
   "execution_count": 68,
   "metadata": {
    "id": "si6gV51qrsHs"
   },
   "outputs": [],
   "source": [
    "damage_prob = logit.predict_proba(X_test)"
   ]
  },
  {
   "cell_type": "code",
   "execution_count": 70,
   "metadata": {
    "id": "_4F5E0z8pwDQ"
   },
   "outputs": [],
   "source": [
    "damage_prob = pd.DataFrame(damage_prob, columns=['OVER $1,500', 'BELOW $1,500'])"
   ]
  },
  {
   "cell_type": "code",
   "execution_count": 71,
   "metadata": {
    "colab": {
     "base_uri": "https://localhost:8080/",
     "height": 374
    },
    "id": "xxNnJfl1p4pY",
    "outputId": "7202675d-cb09-4b43-95db-d2abacce6b54"
   },
   "outputs": [
    {
     "data": {
      "image/png": "[encoded data removed]",
      "text/plain": [
       "<Figure size 1008x432 with 1 Axes>"
      ]
     },
     "metadata": {
      "needs_background": "light",
      "tags": []
     },
     "output_type": "display_data"
    }
   ],
   "source": [
    "plt.figure(figsize=(14,6))\n",
    "sns.violinplot(data = damage_prob)\n",
    "plt.show()"
   ]
  },
  {
   "cell_type": "code",
   "execution_count": 74,
   "metadata": {
    "id": "8UPNnLSqp8OR"
   },
   "outputs": [],
   "source": [
    "y_pred = logit.predict(X_test)"
   ]
  },
  {
   "cell_type": "code",
   "execution_count": 73,
   "metadata": {
    "colab": {
     "base_uri": "https://localhost:8080/",
     "height": 228
    },
    "id": "_JPQo1R3qesH",
    "outputId": "87c7f377-3832-4baf-c63f-e57af6469bfe"
   },
   "outputs": [
    {
     "data": {
      "text/plain": [
       "81570     0\n",
       "335227    1\n",
       "87364     0\n",
       "247509    1\n",
       "292200    0\n",
       "         ..\n",
       "311808    0\n",
       "149103    0\n",
       "277290    1\n",
       "191247    0\n",
       "260900    0\n",
       "Name: DAMAGE_BIN, Length: 74517, dtype: int64"
      ]
     },
     "execution_count": 73,
     "metadata": {
      "tags": []
     },
     "output_type": "execute_result"
    }
   ],
   "source": [
    "y_test"
   ]
  },
  {
   "cell_type": "code",
   "execution_count": 76,
   "metadata": {
    "id": "MykQahIiqbaY"
   },
   "outputs": [],
   "source": [
    "from sklearn.metrics import confusion_matrix"
   ]
  },
  {
   "cell_type": "code",
   "execution_count": 80,
   "metadata": {
    "colab": {
     "base_uri": "https://localhost:8080/",
     "height": 52
    },
    "id": "1IKv8zPCqs24",
    "outputId": "6a570306-1968-4dd4-a3bf-e9eca75c8d55"
   },
   "outputs": [
    {
     "data": {
      "text/plain": [
       "array([[ 9680, 22622],\n",
       "       [ 8190, 34025]])"
      ]
     },
     "execution_count": 80,
     "metadata": {
      "tags": []
     },
     "output_type": "execute_result"
    }
   ],
   "source": [
    "matrix = confusion_matrix(y_test, y_pred)\n",
    "matrix"
   ]
  },
  {
   "cell_type": "code",
   "execution_count": 88,
   "metadata": {
    "colab": {
     "base_uri": "https://localhost:8080/",
     "height": 52
    },
    "id": "Lsb163VLqzc1",
    "outputId": "dfb2aa1a-cebb-4d63-af54-80ddb282cc59"
   },
   "outputs": [
    {
     "name": "stdout",
     "output_type": "stream",
     "text": [
      "Accuracy:\n",
      "0.5865104607002429\n"
     ]
    }
   ],
   "source": [
    "accuracy = (matrix[0,0] + matrix[1,1])/((matrix[0,0] + matrix[0,1]) + (matrix[1,0] + matrix[1,1]))\n",
    "print('Accuracy:')\n",
    "print(accuracy)"
   ]
  },
  {
   "cell_type": "code",
   "execution_count": 90,
   "metadata": {
    "colab": {
     "base_uri": "https://localhost:8080/",
     "height": 52
    },
    "id": "1KFd0C5lri9D",
    "outputId": "5e104f7d-2939-43cd-a012-80da7d7d7500"
   },
   "outputs": [
    {
     "name": "stdout",
     "output_type": "stream",
     "text": [
      "Error Rate:\n",
      "0.41348953929975707\n"
     ]
    }
   ],
   "source": [
    "error = 1-accuracy\n",
    "print('Error Rate:')\n",
    "print(error)"
   ]
  },
  {
   "cell_type": "code",
   "execution_count": 92,
   "metadata": {
    "colab": {
     "base_uri": "https://localhost:8080/",
     "height": 52
    },
    "id": "qI1H6MUCsMbP",
    "outputId": "24b08753-fb2a-4692-ff50-d7a8ee010c71"
   },
   "outputs": [
    {
     "name": "stdout",
     "output_type": "stream",
     "text": [
      "False Positive Rate:\n",
      "0.7003281530555383\n"
     ]
    }
   ],
   "source": [
    "fp = (matrix[0,1])/(matrix[0,0] + matrix[0,1])\n",
    "print('False Positive Rate:')\n",
    "print(fp)"
   ]
  },
  {
   "cell_type": "code",
   "execution_count": 93,
   "metadata": {
    "colab": {
     "base_uri": "https://localhost:8080/",
     "height": 52
    },
    "id": "Ymth891Qs0UJ",
    "outputId": "95fa2f91-5be9-4c7f-a2d4-853f63b09b40"
   },
   "outputs": [
    {
     "name": "stdout",
     "output_type": "stream",
     "text": [
      "False Negative Rate:\n",
      "0.19400686959611513\n"
     ]
    }
   ],
   "source": [
    "fn = (matrix[1,0])/(matrix[1,0] + matrix[1,1])\n",
    "print('False Negative Rate:')\n",
    "print(fn)"
   ]
  },
  {
   "cell_type": "markdown",
   "metadata": {
    "id": "L3jUUmiXs7mU"
   },
   "source": [
    ">*The model makes a lot of Type I errors with a ~70% probability of getting one. There is a ~19% probability for Type II errors, making it considerably lower than the accuracy which is at ~58%.*"
   ]
  },
  {
   "cell_type": "code",
   "execution_count": null,
   "metadata": {
    "id": "FsAPvjjvtacS"
   },
   "outputs": [],
   "source": []
  }
 ],
 "metadata": {
  "colab": {
   "collapsed_sections": [],
   "name": "Day 24 Lecture 2 Assignment - Tarrant and Caesar.ipynb",
   "provenance": []
  },
  "kernelspec": {
   "display_name": "Python 3",
   "language": "python",
   "name": "python3"
  },
  "language_info": {
   "codemirror_mode": {
    "name": "ipython",
    "version": 3
   },
   "file_extension": ".py",
   "mimetype": "text/x-python",
   "name": "python",
   "nbconvert_exporter": "python",
   "pygments_lexer": "ipython3",
   "version": "3.7.6"
  }
 },
 "nbformat": 4,
 "nbformat_minor": 1
}
