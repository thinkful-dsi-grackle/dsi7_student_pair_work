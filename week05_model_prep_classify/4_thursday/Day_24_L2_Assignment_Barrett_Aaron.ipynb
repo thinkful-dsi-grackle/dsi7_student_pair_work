{
  "nbformat": 4,
  "nbformat_minor": 0,
  "metadata": {
    "colab": {
      "name": "Day_24_L2_Assignment_Barrett_Aaron.ipynb",
      "provenance": [],
      "collapsed_sections": []
    },
    "kernelspec": {
      "display_name": "Python 3",
      "language": "python",
      "name": "python3"
    },
    "language_info": {
      "codemirror_mode": {
        "name": "ipython",
        "version": 3
      },
      "file_extension": ".py",
      "mimetype": "text/x-python",
      "name": "python",
      "nbconvert_exporter": "python",
      "pygments_lexer": "ipython3",
      "version": "3.7.3"
    }
  },
  "cells": [
    {
      "cell_type": "markdown",
      "metadata": {
        "id": "q7OBYmw2rsHe"
      },
      "source": [
        "## Day 24 Lecture 2 Assignment\n",
        "\n",
        "In this assignment, we will build our a more complex logistic regression model, this time on both numeric and categorical data. We will use the Chicago traffic crashes dataset loaded below and analyze the model generated for this dataset."
      ]
    },
    {
      "cell_type": "code",
      "metadata": {
        "id": "u3rUv9PKrsHf"
      },
      "source": [
        "%matplotlib inline\n",
        "import statsmodels.api as sm\n",
        "from sklearn.linear_model import LogisticRegression\n",
        "from sklearn.model_selection import train_test_split\n",
        "from sklearn.metrics import confusion_matrix\n",
        "import matplotlib.pyplot as plt\n",
        "import numpy as np\n",
        "import pandas as pd"
      ],
      "execution_count": 33,
      "outputs": []
    },
    {
      "cell_type": "code",
      "metadata": {
        "id": "cJ-qRkctUvv6"
      },
      "source": [
        "def missingness_summary(df, print_log=False, sort='none'):\n",
        "    summary = df.apply(lambda x: x.isna().sum() / x.shape[0])\n",
        "    \n",
        "    if print_log == True:\n",
        "      if sort == 'none':\n",
        "          print(summary)\n",
        "      elif sort == 'ascending':\n",
        "          print(summary.sort_values())\n",
        "      elif sort == 'descending':\n",
        "          print(summary.sort_values(ascending=False))\n",
        "      else:\n",
        "          print('Invalid value for sort parameter.')\n",
        "        \n",
        "    return summary"
      ],
      "execution_count": 2,
      "outputs": []
    },
    {
      "cell_type": "code",
      "metadata": {
        "id": "V_hlXXYwrsHh"
      },
      "source": [
        "crash_data = pd.read_csv('https://tf-assets-prod.s3.amazonaws.com/tf-curric/data-science/traffic_crashes_chicago.csv')"
      ],
      "execution_count": 3,
      "outputs": []
    },
    {
      "cell_type": "code",
      "metadata": {
        "id": "bJV8A_OQrsHj",
        "outputId": "77c9e14d-139b-4a8b-a1ab-ea748a827bfc",
        "colab": {
          "base_uri": "https://localhost:8080/",
          "height": 391
        }
      },
      "source": [
        "crash_data.head()"
      ],
      "execution_count": 4,
      "outputs": [
        {
          "output_type": "execute_result",
          "data": {
            "text/html": [
              "<div>\n",
              "<style scoped>\n",
              "    .dataframe tbody tr th:only-of-type {\n",
              "        vertical-align: middle;\n",
              "    }\n",
              "\n",
              "    .dataframe tbody tr th {\n",
              "        vertical-align: top;\n",
              "    }\n",
              "\n",
              "    .dataframe thead th {\n",
              "        text-align: right;\n",
              "    }\n",
              "</style>\n",
              "<table border=\"1\" class=\"dataframe\">\n",
              "  <thead>\n",
              "    <tr style=\"text-align: right;\">\n",
              "      <th></th>\n",
              "      <th>RD_NO</th>\n",
              "      <th>CRASH_DATE</th>\n",
              "      <th>POSTED_SPEED_LIMIT</th>\n",
              "      <th>TRAFFIC_CONTROL_DEVICE</th>\n",
              "      <th>DEVICE_CONDITION</th>\n",
              "      <th>WEATHER_CONDITION</th>\n",
              "      <th>LIGHTING_CONDITION</th>\n",
              "      <th>FIRST_CRASH_TYPE</th>\n",
              "      <th>TRAFFICWAY_TYPE</th>\n",
              "      <th>LANE_CNT</th>\n",
              "      <th>ALIGNMENT</th>\n",
              "      <th>ROADWAY_SURFACE_COND</th>\n",
              "      <th>ROAD_DEFECT</th>\n",
              "      <th>REPORT_TYPE</th>\n",
              "      <th>CRASH_TYPE</th>\n",
              "      <th>INTERSECTION_RELATED_I</th>\n",
              "      <th>NOT_RIGHT_OF_WAY_I</th>\n",
              "      <th>HIT_AND_RUN_I</th>\n",
              "      <th>DAMAGE</th>\n",
              "      <th>DATE_POLICE_NOTIFIED</th>\n",
              "      <th>PRIM_CONTRIBUTORY_CAUSE</th>\n",
              "      <th>SEC_CONTRIBUTORY_CAUSE</th>\n",
              "      <th>STREET_NO</th>\n",
              "      <th>STREET_DIRECTION</th>\n",
              "      <th>STREET_NAME</th>\n",
              "      <th>BEAT_OF_OCCURRENCE</th>\n",
              "      <th>PHOTOS_TAKEN_I</th>\n",
              "      <th>STATEMENTS_TAKEN_I</th>\n",
              "      <th>DOORING_I</th>\n",
              "      <th>WORK_ZONE_I</th>\n",
              "      <th>WORK_ZONE_TYPE</th>\n",
              "      <th>WORKERS_PRESENT_I</th>\n",
              "      <th>NUM_UNITS</th>\n",
              "      <th>MOST_SEVERE_INJURY</th>\n",
              "      <th>INJURIES_TOTAL</th>\n",
              "      <th>INJURIES_FATAL</th>\n",
              "      <th>INJURIES_INCAPACITATING</th>\n",
              "      <th>INJURIES_NON_INCAPACITATING</th>\n",
              "      <th>INJURIES_REPORTED_NOT_EVIDENT</th>\n",
              "      <th>INJURIES_NO_INDICATION</th>\n",
              "      <th>INJURIES_UNKNOWN</th>\n",
              "    </tr>\n",
              "  </thead>\n",
              "  <tbody>\n",
              "    <tr>\n",
              "      <th>0</th>\n",
              "      <td>JC334993</td>\n",
              "      <td>7/4/2019 22:33</td>\n",
              "      <td>45</td>\n",
              "      <td>NO CONTROLS</td>\n",
              "      <td>NO CONTROLS</td>\n",
              "      <td>CLEAR</td>\n",
              "      <td>DARKNESS, LIGHTED ROAD</td>\n",
              "      <td>REAR END</td>\n",
              "      <td>DIVIDED - W/MEDIAN BARRIER</td>\n",
              "      <td>NaN</td>\n",
              "      <td>STRAIGHT AND LEVEL</td>\n",
              "      <td>DRY</td>\n",
              "      <td>NO DEFECTS</td>\n",
              "      <td>NaN</td>\n",
              "      <td>NO INJURY / DRIVE AWAY</td>\n",
              "      <td>NaN</td>\n",
              "      <td>NaN</td>\n",
              "      <td>NaN</td>\n",
              "      <td>OVER $1,500</td>\n",
              "      <td>7/4/2019 23:05</td>\n",
              "      <td>FOLLOWING TOO CLOSELY</td>\n",
              "      <td>NOT APPLICABLE</td>\n",
              "      <td>300</td>\n",
              "      <td>N</td>\n",
              "      <td>LAKE SHORE DR SB</td>\n",
              "      <td>114.0</td>\n",
              "      <td>NaN</td>\n",
              "      <td>NaN</td>\n",
              "      <td>NaN</td>\n",
              "      <td>NaN</td>\n",
              "      <td>NaN</td>\n",
              "      <td>NaN</td>\n",
              "      <td>NaN</td>\n",
              "      <td>NaN</td>\n",
              "      <td>NaN</td>\n",
              "      <td>NaN</td>\n",
              "      <td>NaN</td>\n",
              "      <td>NaN</td>\n",
              "      <td>NaN</td>\n",
              "      <td>NaN</td>\n",
              "      <td>NaN</td>\n",
              "    </tr>\n",
              "    <tr>\n",
              "      <th>1</th>\n",
              "      <td>JC370822</td>\n",
              "      <td>7/30/2019 10:22</td>\n",
              "      <td>30</td>\n",
              "      <td>NO CONTROLS</td>\n",
              "      <td>NO CONTROLS</td>\n",
              "      <td>CLEAR</td>\n",
              "      <td>DAYLIGHT</td>\n",
              "      <td>TURNING</td>\n",
              "      <td>DIVIDED - W/MEDIAN (NOT RAISED)</td>\n",
              "      <td>NaN</td>\n",
              "      <td>STRAIGHT AND LEVEL</td>\n",
              "      <td>DRY</td>\n",
              "      <td>NO DEFECTS</td>\n",
              "      <td>NaN</td>\n",
              "      <td>NO INJURY / DRIVE AWAY</td>\n",
              "      <td>NaN</td>\n",
              "      <td>NaN</td>\n",
              "      <td>NaN</td>\n",
              "      <td>OVER $1,500</td>\n",
              "      <td>7/30/2019 10:25</td>\n",
              "      <td>FAILING TO YIELD RIGHT-OF-WAY</td>\n",
              "      <td>IMPROPER TURNING/NO SIGNAL</td>\n",
              "      <td>8201</td>\n",
              "      <td>S</td>\n",
              "      <td>DR MARTIN LUTHER KING JR DR</td>\n",
              "      <td>631.0</td>\n",
              "      <td>NaN</td>\n",
              "      <td>NaN</td>\n",
              "      <td>NaN</td>\n",
              "      <td>NaN</td>\n",
              "      <td>NaN</td>\n",
              "      <td>NaN</td>\n",
              "      <td>NaN</td>\n",
              "      <td>NaN</td>\n",
              "      <td>NaN</td>\n",
              "      <td>NaN</td>\n",
              "      <td>NaN</td>\n",
              "      <td>NaN</td>\n",
              "      <td>NaN</td>\n",
              "      <td>NaN</td>\n",
              "      <td>NaN</td>\n",
              "    </tr>\n",
              "    <tr>\n",
              "      <th>2</th>\n",
              "      <td>JC387098</td>\n",
              "      <td>8/10/2019 17:00</td>\n",
              "      <td>25</td>\n",
              "      <td>NO CONTROLS</td>\n",
              "      <td>NO CONTROLS</td>\n",
              "      <td>CLEAR</td>\n",
              "      <td>DAYLIGHT</td>\n",
              "      <td>PARKED MOTOR VEHICLE</td>\n",
              "      <td>ONE-WAY</td>\n",
              "      <td>NaN</td>\n",
              "      <td>STRAIGHT AND LEVEL</td>\n",
              "      <td>DRY</td>\n",
              "      <td>NO DEFECTS</td>\n",
              "      <td>NaN</td>\n",
              "      <td>NO INJURY / DRIVE AWAY</td>\n",
              "      <td>NaN</td>\n",
              "      <td>NaN</td>\n",
              "      <td>NaN</td>\n",
              "      <td>$501 - $1,500</td>\n",
              "      <td>8/10/2019 17:35</td>\n",
              "      <td>EQUIPMENT - VEHICLE CONDITION</td>\n",
              "      <td>NOT APPLICABLE</td>\n",
              "      <td>6747</td>\n",
              "      <td>S</td>\n",
              "      <td>CREGIER AVE</td>\n",
              "      <td>332.0</td>\n",
              "      <td>NaN</td>\n",
              "      <td>NaN</td>\n",
              "      <td>NaN</td>\n",
              "      <td>NaN</td>\n",
              "      <td>NaN</td>\n",
              "      <td>NaN</td>\n",
              "      <td>1.0</td>\n",
              "      <td>NaN</td>\n",
              "      <td>NaN</td>\n",
              "      <td>NaN</td>\n",
              "      <td>NaN</td>\n",
              "      <td>NaN</td>\n",
              "      <td>NaN</td>\n",
              "      <td>NaN</td>\n",
              "      <td>NaN</td>\n",
              "    </tr>\n",
              "    <tr>\n",
              "      <th>3</th>\n",
              "      <td>JC395195</td>\n",
              "      <td>8/16/2019 16:53</td>\n",
              "      <td>30</td>\n",
              "      <td>NO CONTROLS</td>\n",
              "      <td>NO CONTROLS</td>\n",
              "      <td>CLEAR</td>\n",
              "      <td>DAYLIGHT</td>\n",
              "      <td>PARKED MOTOR VEHICLE</td>\n",
              "      <td>NOT DIVIDED</td>\n",
              "      <td>NaN</td>\n",
              "      <td>STRAIGHT AND LEVEL</td>\n",
              "      <td>DRY</td>\n",
              "      <td>NO DEFECTS</td>\n",
              "      <td>NaN</td>\n",
              "      <td>NO INJURY / DRIVE AWAY</td>\n",
              "      <td>NaN</td>\n",
              "      <td>NaN</td>\n",
              "      <td>Y</td>\n",
              "      <td>$501 - $1,500</td>\n",
              "      <td>8/16/2019 16:53</td>\n",
              "      <td>UNABLE TO DETERMINE</td>\n",
              "      <td>NOT APPLICABLE</td>\n",
              "      <td>554</td>\n",
              "      <td>N</td>\n",
              "      <td>FRANKLIN ST</td>\n",
              "      <td>1831.0</td>\n",
              "      <td>NaN</td>\n",
              "      <td>NaN</td>\n",
              "      <td>NaN</td>\n",
              "      <td>NaN</td>\n",
              "      <td>NaN</td>\n",
              "      <td>NaN</td>\n",
              "      <td>1.0</td>\n",
              "      <td>NO INDICATION OF INJURY</td>\n",
              "      <td>0.0</td>\n",
              "      <td>0.0</td>\n",
              "      <td>0.0</td>\n",
              "      <td>0.0</td>\n",
              "      <td>0.0</td>\n",
              "      <td>1.0</td>\n",
              "      <td>0.0</td>\n",
              "    </tr>\n",
              "    <tr>\n",
              "      <th>4</th>\n",
              "      <td>JC396604</td>\n",
              "      <td>8/17/2019 16:04</td>\n",
              "      <td>30</td>\n",
              "      <td>NO CONTROLS</td>\n",
              "      <td>NO CONTROLS</td>\n",
              "      <td>CLEAR</td>\n",
              "      <td>DAYLIGHT</td>\n",
              "      <td>PARKED MOTOR VEHICLE</td>\n",
              "      <td>PARKING LOT</td>\n",
              "      <td>NaN</td>\n",
              "      <td>STRAIGHT AND LEVEL</td>\n",
              "      <td>DRY</td>\n",
              "      <td>NO DEFECTS</td>\n",
              "      <td>NaN</td>\n",
              "      <td>NO INJURY / DRIVE AWAY</td>\n",
              "      <td>NaN</td>\n",
              "      <td>NaN</td>\n",
              "      <td>Y</td>\n",
              "      <td>$501 - $1,500</td>\n",
              "      <td>8/17/2019 18:30</td>\n",
              "      <td>UNABLE TO DETERMINE</td>\n",
              "      <td>UNABLE TO DETERMINE</td>\n",
              "      <td>3700</td>\n",
              "      <td>N</td>\n",
              "      <td>WESTERN AVE</td>\n",
              "      <td>1921.0</td>\n",
              "      <td>NaN</td>\n",
              "      <td>NaN</td>\n",
              "      <td>NaN</td>\n",
              "      <td>NaN</td>\n",
              "      <td>NaN</td>\n",
              "      <td>NaN</td>\n",
              "      <td>1.0</td>\n",
              "      <td>NO INDICATION OF INJURY</td>\n",
              "      <td>0.0</td>\n",
              "      <td>0.0</td>\n",
              "      <td>0.0</td>\n",
              "      <td>0.0</td>\n",
              "      <td>0.0</td>\n",
              "      <td>1.0</td>\n",
              "      <td>0.0</td>\n",
              "    </tr>\n",
              "  </tbody>\n",
              "</table>\n",
              "</div>"
            ],
            "text/plain": [
              "      RD_NO       CRASH_DATE  ...  INJURIES_NO_INDICATION INJURIES_UNKNOWN\n",
              "0  JC334993   7/4/2019 22:33  ...                     NaN              NaN\n",
              "1  JC370822  7/30/2019 10:22  ...                     NaN              NaN\n",
              "2  JC387098  8/10/2019 17:00  ...                     NaN              NaN\n",
              "3  JC395195  8/16/2019 16:53  ...                     1.0              0.0\n",
              "4  JC396604  8/17/2019 16:04  ...                     1.0              0.0\n",
              "\n",
              "[5 rows x 41 columns]"
            ]
          },
          "metadata": {
            "tags": []
          },
          "execution_count": 4
        }
      ]
    },
    {
      "cell_type": "markdown",
      "metadata": {
        "id": "I7kel3hRUvwA"
      },
      "source": [
        "First, create a binary response column by modifying the \"DAMAGE\" column. Consider \"OVER \\$1500\" to be the positive class, and under \\$1500 to be the negative class."
      ]
    },
    {
      "cell_type": "code",
      "metadata": {
        "id": "lVXRdsWPUvwB"
      },
      "source": [
        "# answer goes here\n",
        "crash_data['HIGH_DAMAGE'] = (crash_data['DAMAGE'] == 'OVER $1,500').astype(int)"
      ],
      "execution_count": 5,
      "outputs": []
    },
    {
      "cell_type": "markdown",
      "metadata": {
        "id": "5QQUxRPMrsHl"
      },
      "source": [
        "Using the code from Day 21, Lecture 1 as a starting point, devise an appropriate way to address missing values. You have a lot of freedom here; we will proceed by taking the following steps:\n",
        "\n",
        "- Dropping all columns with more than 5% missing data\n",
        "- Imputing the median for numeric columns with less than 5% missing data (except for STREET_NO; imputing it in this manner would not make any sense)\n",
        "- Dropping rows with missing data for categorical columns that have less than 5% missing data"
      ]
    },
    {
      "cell_type": "code",
      "metadata": {
        "id": "X7DmjvgXrsHl",
        "outputId": "e482460f-7d5f-4af0-bd97-3d4583577e71",
        "colab": {
          "base_uri": "https://localhost:8080/",
          "height": 760
        }
      },
      "source": [
        "# answer goes here\n",
        "missing_report = missingness_summary(crash_data, print_log=True, sort='descending')"
      ],
      "execution_count": 6,
      "outputs": [
        {
          "output_type": "stream",
          "text": [
            "WORKERS_PRESENT_I                0.998352\n",
            "DOORING_I                        0.996616\n",
            "WORK_ZONE_TYPE                   0.994391\n",
            "WORK_ZONE_I                      0.992933\n",
            "PHOTOS_TAKEN_I                   0.987318\n",
            "STATEMENTS_TAKEN_I               0.979760\n",
            "NOT_RIGHT_OF_WAY_I               0.953917\n",
            "INTERSECTION_RELATED_I           0.779457\n",
            "HIT_AND_RUN_I                    0.722423\n",
            "LANE_CNT                         0.467107\n",
            "REPORT_TYPE                      0.023012\n",
            "MOST_SEVERE_INJURY               0.005795\n",
            "INJURIES_NO_INDICATION           0.005776\n",
            "INJURIES_UNKNOWN                 0.005776\n",
            "INJURIES_TOTAL                   0.005776\n",
            "INJURIES_REPORTED_NOT_EVIDENT    0.005776\n",
            "INJURIES_NON_INCAPACITATING      0.005776\n",
            "INJURIES_INCAPACITATING          0.005776\n",
            "INJURIES_FATAL                   0.005776\n",
            "NUM_UNITS                        0.003755\n",
            "BEAT_OF_OCCURRENCE               0.000011\n",
            "STREET_DIRECTION                 0.000005\n",
            "STREET_NAME                      0.000003\n",
            "FIRST_CRASH_TYPE                 0.000000\n",
            "LIGHTING_CONDITION               0.000000\n",
            "WEATHER_CONDITION                0.000000\n",
            "HIGH_DAMAGE                      0.000000\n",
            "DEVICE_CONDITION                 0.000000\n",
            "TRAFFIC_CONTROL_DEVICE           0.000000\n",
            "POSTED_SPEED_LIMIT               0.000000\n",
            "CRASH_DATE                       0.000000\n",
            "TRAFFICWAY_TYPE                  0.000000\n",
            "PRIM_CONTRIBUTORY_CAUSE          0.000000\n",
            "ALIGNMENT                        0.000000\n",
            "ROADWAY_SURFACE_COND             0.000000\n",
            "ROAD_DEFECT                      0.000000\n",
            "CRASH_TYPE                       0.000000\n",
            "DAMAGE                           0.000000\n",
            "DATE_POLICE_NOTIFIED             0.000000\n",
            "SEC_CONTRIBUTORY_CAUSE           0.000000\n",
            "STREET_NO                        0.000000\n",
            "RD_NO                            0.000000\n",
            "dtype: float64\n"
          ],
          "name": "stdout"
        }
      ]
    },
    {
      "cell_type": "code",
      "metadata": {
        "id": "jurMNBcLfgqW"
      },
      "source": [
        "missing_data_columns = missing_report.loc[missing_report > 0.05].index\n",
        "crash_data.drop(columns=missing_data_columns, inplace=True)"
      ],
      "execution_count": 7,
      "outputs": []
    },
    {
      "cell_type": "code",
      "metadata": {
        "id": "0KhpBVvAf7Dz"
      },
      "source": [
        "crash_num_df = crash_data.select_dtypes(include='number')\n",
        "crash_cat_df = crash_data.select_dtypes(include='O')"
      ],
      "execution_count": 8,
      "outputs": []
    },
    {
      "cell_type": "code",
      "metadata": {
        "id": "U8p62sPAf7J8"
      },
      "source": [
        "for col in crash_num_df.columns:\n",
        "  crash_data[col] = crash_data[col].fillna(crash_data[col].median())"
      ],
      "execution_count": 9,
      "outputs": []
    },
    {
      "cell_type": "code",
      "metadata": {
        "id": "r9pplGXphPD6"
      },
      "source": [
        "crash_data.dropna(inplace=True)"
      ],
      "execution_count": 10,
      "outputs": []
    },
    {
      "cell_type": "code",
      "metadata": {
        "id": "QW16wj3-f7AL",
        "outputId": "dee744c1-63db-46f5-a833-74f0a2252b51",
        "colab": {
          "base_uri": "https://localhost:8080/",
          "height": 587
        }
      },
      "source": [
        "missing_report = missingness_summary(crash_data, print_log=True, sort='descending')"
      ],
      "execution_count": 11,
      "outputs": [
        {
          "output_type": "stream",
          "text": [
            "HIGH_DAMAGE                      0.0\n",
            "INJURIES_UNKNOWN                 0.0\n",
            "CRASH_DATE                       0.0\n",
            "POSTED_SPEED_LIMIT               0.0\n",
            "TRAFFIC_CONTROL_DEVICE           0.0\n",
            "DEVICE_CONDITION                 0.0\n",
            "WEATHER_CONDITION                0.0\n",
            "LIGHTING_CONDITION               0.0\n",
            "FIRST_CRASH_TYPE                 0.0\n",
            "TRAFFICWAY_TYPE                  0.0\n",
            "ALIGNMENT                        0.0\n",
            "ROADWAY_SURFACE_COND             0.0\n",
            "ROAD_DEFECT                      0.0\n",
            "REPORT_TYPE                      0.0\n",
            "CRASH_TYPE                       0.0\n",
            "DAMAGE                           0.0\n",
            "DATE_POLICE_NOTIFIED             0.0\n",
            "PRIM_CONTRIBUTORY_CAUSE          0.0\n",
            "SEC_CONTRIBUTORY_CAUSE           0.0\n",
            "STREET_NO                        0.0\n",
            "STREET_DIRECTION                 0.0\n",
            "STREET_NAME                      0.0\n",
            "BEAT_OF_OCCURRENCE               0.0\n",
            "NUM_UNITS                        0.0\n",
            "MOST_SEVERE_INJURY               0.0\n",
            "INJURIES_TOTAL                   0.0\n",
            "INJURIES_FATAL                   0.0\n",
            "INJURIES_INCAPACITATING          0.0\n",
            "INJURIES_NON_INCAPACITATING      0.0\n",
            "INJURIES_REPORTED_NOT_EVIDENT    0.0\n",
            "INJURIES_NO_INDICATION           0.0\n",
            "RD_NO                            0.0\n",
            "dtype: float64\n"
          ],
          "name": "stdout"
        }
      ]
    },
    {
      "cell_type": "markdown",
      "metadata": {
        "id": "M66r2mytUvwF"
      },
      "source": [
        "Finally, choose a few numeric and categorical features (2-3 of each) to include in the model. (You can definitely include more than this, but too many features, especially categorical ones, will most likely lead to convergence issues). One hot encode the chosen categorical features, being sure to omit one of the categories (which will serve as a \"reference\" level) to avoid perfect multicollinearity.\n",
        "\n",
        "Again, you have a lot of freedom here; we will proceed with the following features, dropping the most commonly occurring category for the two categorical variables (\"CLEAR\" for weather, \"REAR END\" for first crash type):\n",
        "POSTED_SPEED_LIMIT, WEATHER_CONDITION, INJURIES_TOTAL, FIRST_CRASH_TYPE"
      ]
    },
    {
      "cell_type": "code",
      "metadata": {
        "id": "FAAoQuHGlV0r"
      },
      "source": [
        "crash_features = crash_data.filter(['POSTED_SPEED_LIMIT', 'INJURIES_TOTAL'])"
      ],
      "execution_count": 12,
      "outputs": []
    },
    {
      "cell_type": "code",
      "metadata": {
        "id": "ja_Vaq2CUvwF"
      },
      "source": [
        "# answer goes here\n",
        "weather_df = pd.get_dummies(crash_data['WEATHER_CONDITION'], drop_first=True)\n",
        "# crash_features.drop('WEATHER_CONDITION', axis=1, inplace=True)\n",
        "crash_features = pd.concat([crash_features, weather_df], axis=1)\n",
        "\n",
        "\n",
        "crashtype_df = pd.get_dummies(crash_data['FIRST_CRASH_TYPE'], drop_first=True)\n",
        "# crash_features.drop('FIRST_CRASH_TYPE', axis=1, inplace=True)\n",
        "crash_features = pd.concat([crash_features, crashtype_df], axis=1)"
      ],
      "execution_count": 13,
      "outputs": []
    },
    {
      "cell_type": "code",
      "metadata": {
        "id": "I3sLn11pj-2k",
        "outputId": "b3ebb762-9df7-4941-e5ae-db8418407550",
        "colab": {
          "base_uri": "https://localhost:8080/",
          "height": 639
        }
      },
      "source": [
        "crash_features.info()"
      ],
      "execution_count": 14,
      "outputs": [
        {
          "output_type": "stream",
          "text": [
            "<class 'pandas.core.frame.DataFrame'>\n",
            "Int64Index: 362483 entries, 6 to 372584\n",
            "Data columns (total 29 columns):\n",
            " #   Column                        Non-Null Count   Dtype  \n",
            "---  ------                        --------------   -----  \n",
            " 0   POSTED_SPEED_LIMIT            362483 non-null  int64  \n",
            " 1   INJURIES_TOTAL                362483 non-null  float64\n",
            " 2   CLEAR                         362483 non-null  uint8  \n",
            " 3   CLOUDY/OVERCAST               362483 non-null  uint8  \n",
            " 4   FOG/SMOKE/HAZE                362483 non-null  uint8  \n",
            " 5   FREEZING RAIN/DRIZZLE         362483 non-null  uint8  \n",
            " 6   OTHER                         362483 non-null  uint8  \n",
            " 7   RAIN                          362483 non-null  uint8  \n",
            " 8   SEVERE CROSS WIND GATE        362483 non-null  uint8  \n",
            " 9   SLEET/HAIL                    362483 non-null  uint8  \n",
            " 10  SNOW                          362483 non-null  uint8  \n",
            " 11  UNKNOWN                       362483 non-null  uint8  \n",
            " 12  ANIMAL                        362483 non-null  uint8  \n",
            " 13  FIXED OBJECT                  362483 non-null  uint8  \n",
            " 14  HEAD ON                       362483 non-null  uint8  \n",
            " 15  OTHER NONCOLLISION            362483 non-null  uint8  \n",
            " 16  OTHER OBJECT                  362483 non-null  uint8  \n",
            " 17  OVERTURNED                    362483 non-null  uint8  \n",
            " 18  PARKED MOTOR VEHICLE          362483 non-null  uint8  \n",
            " 19  PEDALCYCLIST                  362483 non-null  uint8  \n",
            " 20  PEDESTRIAN                    362483 non-null  uint8  \n",
            " 21  REAR END                      362483 non-null  uint8  \n",
            " 22  REAR TO FRONT                 362483 non-null  uint8  \n",
            " 23  REAR TO REAR                  362483 non-null  uint8  \n",
            " 24  REAR TO SIDE                  362483 non-null  uint8  \n",
            " 25  SIDESWIPE OPPOSITE DIRECTION  362483 non-null  uint8  \n",
            " 26  SIDESWIPE SAME DIRECTION      362483 non-null  uint8  \n",
            " 27  TRAIN                         362483 non-null  uint8  \n",
            " 28  TURNING                       362483 non-null  uint8  \n",
            "dtypes: float64(1), int64(1), uint8(27)\n",
            "memory usage: 17.6 MB\n"
          ],
          "name": "stdout"
        }
      ]
    },
    {
      "cell_type": "markdown",
      "metadata": {
        "id": "zRuNJsTSrsHn"
      },
      "source": [
        "Split the data into train and test, with 80% training and 20% testing. By default, the LR output from statsmodels does not include an intercept terms; add a constant column to the training data so that an intercept term is calculated for the LR model (hint: sm.add_constant() is a useful function to accomplish this)."
      ]
    },
    {
      "cell_type": "code",
      "metadata": {
        "id": "fhpHIZBjrsHn"
      },
      "source": [
        "# answer goes here\n",
        "X = crash_features\n",
        "Y = crash_data['HIGH_DAMAGE']\n",
        "\n",
        "X_train, x_test, Y_train, y_test = train_test_split(X,Y, test_size=0.2)"
      ],
      "execution_count": 18,
      "outputs": []
    },
    {
      "cell_type": "code",
      "metadata": {
        "id": "5aTn7XaomrvE"
      },
      "source": [
        "X_train_const = sm.add_constant(X_train)"
      ],
      "execution_count": 20,
      "outputs": []
    },
    {
      "cell_type": "markdown",
      "metadata": {
        "id": "ggXxmOLTrsHq"
      },
      "source": [
        "Fit the logistic regression model using the statsmodels package and print out the coefficient summary. Which variables (in particular, which categories of our categorical variables) appear to be the most important, and what effect do they have on the probability of a crash resulting in $1500 or more in damages?"
      ]
    },
    {
      "cell_type": "code",
      "metadata": {
        "id": "7pFgRLNErsHq",
        "outputId": "f445e92e-bd4c-40a7-9e41-b69afe46271f",
        "colab": {
          "base_uri": "https://localhost:8080/",
          "height": 885
        }
      },
      "source": [
        "# answer goes here\n",
        "sm_model = sm.Logit(Y_train, X_train_const).fit()\n",
        "sm_model.summary()"
      ],
      "execution_count": 32,
      "outputs": [
        {
          "output_type": "stream",
          "text": [
            "Optimization terminated successfully.\n",
            "         Current function value: 0.657550\n",
            "         Iterations 7\n"
          ],
          "name": "stdout"
        },
        {
          "output_type": "execute_result",
          "data": {
            "text/html": [
              "<table class=\"simpletable\">\n",
              "<caption>Logit Regression Results</caption>\n",
              "<tr>\n",
              "  <th>Dep. Variable:</th>      <td>HIGH_DAMAGE</td>   <th>  No. Observations:  </th>   <td>289986</td>   \n",
              "</tr>\n",
              "<tr>\n",
              "  <th>Model:</th>                 <td>Logit</td>      <th>  Df Residuals:      </th>   <td>289956</td>   \n",
              "</tr>\n",
              "<tr>\n",
              "  <th>Method:</th>                 <td>MLE</td>       <th>  Df Model:          </th>   <td>    29</td>   \n",
              "</tr>\n",
              "<tr>\n",
              "  <th>Date:</th>            <td>Thu, 15 Oct 2020</td> <th>  Pseudo R-squ.:     </th>   <td>0.04056</td>  \n",
              "</tr>\n",
              "<tr>\n",
              "  <th>Time:</th>                <td>19:01:18</td>     <th>  Log-Likelihood:    </th> <td>-1.9068e+05</td>\n",
              "</tr>\n",
              "<tr>\n",
              "  <th>converged:</th>             <td>True</td>       <th>  LL-Null:           </th> <td>-1.9874e+05</td>\n",
              "</tr>\n",
              "<tr>\n",
              "  <th>Covariance Type:</th>     <td>nonrobust</td>    <th>  LLR p-value:       </th>   <td> 0.000</td>   \n",
              "</tr>\n",
              "</table>\n",
              "<table class=\"simpletable\">\n",
              "<tr>\n",
              "                <td></td>                  <th>coef</th>     <th>std err</th>      <th>z</th>      <th>P>|z|</th>  <th>[0.025</th>    <th>0.975]</th>  \n",
              "</tr>\n",
              "<tr>\n",
              "  <th>const</th>                        <td>    0.7994</td> <td>    0.563</td> <td>    1.421</td> <td> 0.155</td> <td>   -0.303</td> <td>    1.902</td>\n",
              "</tr>\n",
              "<tr>\n",
              "  <th>POSTED_SPEED_LIMIT</th>           <td>    0.0108</td> <td>    0.001</td> <td>   18.370</td> <td> 0.000</td> <td>    0.010</td> <td>    0.012</td>\n",
              "</tr>\n",
              "<tr>\n",
              "  <th>INJURIES_TOTAL</th>               <td>    0.7391</td> <td>    0.012</td> <td>   62.097</td> <td> 0.000</td> <td>    0.716</td> <td>    0.762</td>\n",
              "</tr>\n",
              "<tr>\n",
              "  <th>CLEAR</th>                        <td>   -0.4579</td> <td>    0.562</td> <td>   -0.814</td> <td> 0.415</td> <td>   -1.560</td> <td>    0.644</td>\n",
              "</tr>\n",
              "<tr>\n",
              "  <th>CLOUDY/OVERCAST</th>              <td>   -0.3491</td> <td>    0.563</td> <td>   -0.621</td> <td> 0.535</td> <td>   -1.452</td> <td>    0.754</td>\n",
              "</tr>\n",
              "<tr>\n",
              "  <th>FOG/SMOKE/HAZE</th>               <td>   -0.1987</td> <td>    0.569</td> <td>   -0.349</td> <td> 0.727</td> <td>   -1.315</td> <td>    0.917</td>\n",
              "</tr>\n",
              "<tr>\n",
              "  <th>FREEZING RAIN/DRIZZLE</th>        <td>    0.0755</td> <td>    0.594</td> <td>    0.127</td> <td> 0.899</td> <td>   -1.088</td> <td>    1.239</td>\n",
              "</tr>\n",
              "<tr>\n",
              "  <th>OTHER</th>                        <td>   -0.1950</td> <td>    0.566</td> <td>   -0.344</td> <td> 0.731</td> <td>   -1.305</td> <td>    0.915</td>\n",
              "</tr>\n",
              "<tr>\n",
              "  <th>RAIN</th>                         <td>   -0.3199</td> <td>    0.562</td> <td>   -0.569</td> <td> 0.569</td> <td>   -1.422</td> <td>    0.782</td>\n",
              "</tr>\n",
              "<tr>\n",
              "  <th>SEVERE CROSS WIND GATE</th>       <td>   -0.0596</td> <td>    0.631</td> <td>   -0.095</td> <td> 0.925</td> <td>   -1.296</td> <td>    1.177</td>\n",
              "</tr>\n",
              "<tr>\n",
              "  <th>SLEET/HAIL</th>                   <td>   -0.2765</td> <td>    0.571</td> <td>   -0.484</td> <td> 0.628</td> <td>   -1.395</td> <td>    0.842</td>\n",
              "</tr>\n",
              "<tr>\n",
              "  <th>SNOW</th>                         <td>   -0.3309</td> <td>    0.563</td> <td>   -0.588</td> <td> 0.556</td> <td>   -1.434</td> <td>    0.772</td>\n",
              "</tr>\n",
              "<tr>\n",
              "  <th>UNKNOWN</th>                      <td>   -0.3086</td> <td>    0.562</td> <td>   -0.549</td> <td> 0.583</td> <td>   -1.411</td> <td>    0.794</td>\n",
              "</tr>\n",
              "<tr>\n",
              "  <th>ANIMAL</th>                       <td>   -0.9155</td> <td>    0.151</td> <td>   -6.067</td> <td> 0.000</td> <td>   -1.211</td> <td>   -0.620</td>\n",
              "</tr>\n",
              "<tr>\n",
              "  <th>FIXED OBJECT</th>                 <td>    0.0703</td> <td>    0.024</td> <td>    2.982</td> <td> 0.003</td> <td>    0.024</td> <td>    0.117</td>\n",
              "</tr>\n",
              "<tr>\n",
              "  <th>HEAD ON</th>                      <td>   -0.0744</td> <td>    0.047</td> <td>   -1.581</td> <td> 0.114</td> <td>   -0.167</td> <td>    0.018</td>\n",
              "</tr>\n",
              "<tr>\n",
              "  <th>OTHER NONCOLLISION</th>           <td>   -1.1407</td> <td>    0.065</td> <td>  -17.478</td> <td> 0.000</td> <td>   -1.269</td> <td>   -1.013</td>\n",
              "</tr>\n",
              "<tr>\n",
              "  <th>OTHER OBJECT</th>                 <td>   -0.6399</td> <td>    0.042</td> <td>  -15.368</td> <td> 0.000</td> <td>   -0.722</td> <td>   -0.558</td>\n",
              "</tr>\n",
              "<tr>\n",
              "  <th>OVERTURNED</th>                   <td>    0.8940</td> <td>    0.262</td> <td>    3.408</td> <td> 0.001</td> <td>    0.380</td> <td>    1.408</td>\n",
              "</tr>\n",
              "<tr>\n",
              "  <th>PARKED MOTOR VEHICLE</th>         <td>   -0.4758</td> <td>    0.015</td> <td>  -31.471</td> <td> 0.000</td> <td>   -0.505</td> <td>   -0.446</td>\n",
              "</tr>\n",
              "<tr>\n",
              "  <th>PEDALCYCLIST</th>                 <td>   -2.4790</td> <td>    0.040</td> <td>  -61.813</td> <td> 0.000</td> <td>   -2.558</td> <td>   -2.400</td>\n",
              "</tr>\n",
              "<tr>\n",
              "  <th>PEDESTRIAN</th>                   <td>   -2.4098</td> <td>    0.032</td> <td>  -74.664</td> <td> 0.000</td> <td>   -2.473</td> <td>   -2.347</td>\n",
              "</tr>\n",
              "<tr>\n",
              "  <th>REAR END</th>                     <td>   -0.6768</td> <td>    0.015</td> <td>  -45.658</td> <td> 0.000</td> <td>   -0.706</td> <td>   -0.648</td>\n",
              "</tr>\n",
              "<tr>\n",
              "  <th>REAR TO FRONT</th>                <td>   -0.7350</td> <td>    0.068</td> <td>  -10.744</td> <td> 0.000</td> <td>   -0.869</td> <td>   -0.601</td>\n",
              "</tr>\n",
              "<tr>\n",
              "  <th>REAR TO REAR</th>                 <td>   -0.8932</td> <td>    0.139</td> <td>   -6.442</td> <td> 0.000</td> <td>   -1.165</td> <td>   -0.621</td>\n",
              "</tr>\n",
              "<tr>\n",
              "  <th>REAR TO SIDE</th>                 <td>   -0.5782</td> <td>    0.085</td> <td>   -6.805</td> <td> 0.000</td> <td>   -0.745</td> <td>   -0.412</td>\n",
              "</tr>\n",
              "<tr>\n",
              "  <th>SIDESWIPE OPPOSITE DIRECTION</th> <td>   -0.6426</td> <td>    0.033</td> <td>  -19.289</td> <td> 0.000</td> <td>   -0.708</td> <td>   -0.577</td>\n",
              "</tr>\n",
              "<tr>\n",
              "  <th>SIDESWIPE SAME DIRECTION</th>     <td>   -0.6545</td> <td>    0.016</td> <td>  -41.422</td> <td> 0.000</td> <td>   -0.685</td> <td>   -0.623</td>\n",
              "</tr>\n",
              "<tr>\n",
              "  <th>TRAIN</th>                        <td>    1.5030</td> <td>    1.043</td> <td>    1.441</td> <td> 0.150</td> <td>   -0.541</td> <td>    3.547</td>\n",
              "</tr>\n",
              "<tr>\n",
              "  <th>TURNING</th>                      <td>   -0.1867</td> <td>    0.017</td> <td>  -11.292</td> <td> 0.000</td> <td>   -0.219</td> <td>   -0.154</td>\n",
              "</tr>\n",
              "</table>"
            ],
            "text/plain": [
              "<class 'statsmodels.iolib.summary.Summary'>\n",
              "\"\"\"\n",
              "                           Logit Regression Results                           \n",
              "==============================================================================\n",
              "Dep. Variable:            HIGH_DAMAGE   No. Observations:               289986\n",
              "Model:                          Logit   Df Residuals:                   289956\n",
              "Method:                           MLE   Df Model:                           29\n",
              "Date:                Thu, 15 Oct 2020   Pseudo R-squ.:                 0.04056\n",
              "Time:                        19:01:18   Log-Likelihood:            -1.9068e+05\n",
              "converged:                       True   LL-Null:                   -1.9874e+05\n",
              "Covariance Type:            nonrobust   LLR p-value:                     0.000\n",
              "================================================================================================\n",
              "                                   coef    std err          z      P>|z|      [0.025      0.975]\n",
              "------------------------------------------------------------------------------------------------\n",
              "const                            0.7994      0.563      1.421      0.155      -0.303       1.902\n",
              "POSTED_SPEED_LIMIT               0.0108      0.001     18.370      0.000       0.010       0.012\n",
              "INJURIES_TOTAL                   0.7391      0.012     62.097      0.000       0.716       0.762\n",
              "CLEAR                           -0.4579      0.562     -0.814      0.415      -1.560       0.644\n",
              "CLOUDY/OVERCAST                 -0.3491      0.563     -0.621      0.535      -1.452       0.754\n",
              "FOG/SMOKE/HAZE                  -0.1987      0.569     -0.349      0.727      -1.315       0.917\n",
              "FREEZING RAIN/DRIZZLE            0.0755      0.594      0.127      0.899      -1.088       1.239\n",
              "OTHER                           -0.1950      0.566     -0.344      0.731      -1.305       0.915\n",
              "RAIN                            -0.3199      0.562     -0.569      0.569      -1.422       0.782\n",
              "SEVERE CROSS WIND GATE          -0.0596      0.631     -0.095      0.925      -1.296       1.177\n",
              "SLEET/HAIL                      -0.2765      0.571     -0.484      0.628      -1.395       0.842\n",
              "SNOW                            -0.3309      0.563     -0.588      0.556      -1.434       0.772\n",
              "UNKNOWN                         -0.3086      0.562     -0.549      0.583      -1.411       0.794\n",
              "ANIMAL                          -0.9155      0.151     -6.067      0.000      -1.211      -0.620\n",
              "FIXED OBJECT                     0.0703      0.024      2.982      0.003       0.024       0.117\n",
              "HEAD ON                         -0.0744      0.047     -1.581      0.114      -0.167       0.018\n",
              "OTHER NONCOLLISION              -1.1407      0.065    -17.478      0.000      -1.269      -1.013\n",
              "OTHER OBJECT                    -0.6399      0.042    -15.368      0.000      -0.722      -0.558\n",
              "OVERTURNED                       0.8940      0.262      3.408      0.001       0.380       1.408\n",
              "PARKED MOTOR VEHICLE            -0.4758      0.015    -31.471      0.000      -0.505      -0.446\n",
              "PEDALCYCLIST                    -2.4790      0.040    -61.813      0.000      -2.558      -2.400\n",
              "PEDESTRIAN                      -2.4098      0.032    -74.664      0.000      -2.473      -2.347\n",
              "REAR END                        -0.6768      0.015    -45.658      0.000      -0.706      -0.648\n",
              "REAR TO FRONT                   -0.7350      0.068    -10.744      0.000      -0.869      -0.601\n",
              "REAR TO REAR                    -0.8932      0.139     -6.442      0.000      -1.165      -0.621\n",
              "REAR TO SIDE                    -0.5782      0.085     -6.805      0.000      -0.745      -0.412\n",
              "SIDESWIPE OPPOSITE DIRECTION    -0.6426      0.033    -19.289      0.000      -0.708      -0.577\n",
              "SIDESWIPE SAME DIRECTION        -0.6545      0.016    -41.422      0.000      -0.685      -0.623\n",
              "TRAIN                            1.5030      1.043      1.441      0.150      -0.541       3.547\n",
              "TURNING                         -0.1867      0.017    -11.292      0.000      -0.219      -0.154\n",
              "================================================================================================\n",
              "\"\"\""
            ]
          },
          "metadata": {
            "tags": []
          },
          "execution_count": 32
        }
      ]
    },
    {
      "cell_type": "markdown",
      "metadata": {
        "id": "Wpq88Zv-pKFS"
      },
      "source": [
        "*Should have scaled/normalized the continuous variables first...*\n",
        "\n",
        "But it appears that many of these features are significant. Some that are significant and have large coefficients from the categoricals are 'PEDESTRIAN', 'PEDALCYCLIST', 'TRAIN', and 'OTHER NONCOLLISION'\n",
        "\n",
        "Both continuous variables are significant but on different scales."
      ]
    },
    {
      "cell_type": "markdown",
      "metadata": {
        "id": "2Sf0UuUwjIzg"
      },
      "source": [
        "Create a LogisticRegression model with sklearn. Use the .predict() method (using X_test) to get a y_pred. Create a confusion matrix comparing your actual y_test to your prediction. What do you notice about your type of error?"
      ]
    },
    {
      "cell_type": "code",
      "metadata": {
        "id": "sCztxiiOnu61",
        "outputId": "ed58d833-b6a3-4c70-947f-ffdb3c505380",
        "colab": {
          "base_uri": "https://localhost:8080/",
          "height": 104
        }
      },
      "source": [
        "logit = LogisticRegression(max_iter=1000)\n",
        "\n",
        "logit.fit(X_train, Y_train)"
      ],
      "execution_count": 23,
      "outputs": [
        {
          "output_type": "execute_result",
          "data": {
            "text/plain": [
              "LogisticRegression(C=1.0, class_weight=None, dual=False, fit_intercept=True,\n",
              "                   intercept_scaling=1, l1_ratio=None, max_iter=1000,\n",
              "                   multi_class='auto', n_jobs=None, penalty='l2',\n",
              "                   random_state=None, solver='lbfgs', tol=0.0001, verbose=0,\n",
              "                   warm_start=False)"
            ]
          },
          "metadata": {
            "tags": []
          },
          "execution_count": 23
        }
      ]
    },
    {
      "cell_type": "code",
      "metadata": {
        "id": "UliMFiy7n1gJ",
        "outputId": "ac76ffaf-3c52-43e7-f330-543bffbb0098",
        "colab": {
          "base_uri": "https://localhost:8080/",
          "height": 35
        }
      },
      "source": [
        "logit.score(X_train, Y_train)"
      ],
      "execution_count": 24,
      "outputs": [
        {
          "output_type": "execute_result",
          "data": {
            "text/plain": [
              "0.5843420027173726"
            ]
          },
          "metadata": {
            "tags": []
          },
          "execution_count": 24
        }
      ]
    },
    {
      "cell_type": "code",
      "metadata": {
        "id": "0EYtgapyn1ca",
        "outputId": "af555018-17c5-4845-8272-81bf46625a4d",
        "colab": {
          "base_uri": "https://localhost:8080/",
          "height": 35
        }
      },
      "source": [
        "logit.score(x_test, y_test)"
      ],
      "execution_count": 25,
      "outputs": [
        {
          "output_type": "execute_result",
          "data": {
            "text/plain": [
              "0.5812654316730348"
            ]
          },
          "metadata": {
            "tags": []
          },
          "execution_count": 25
        }
      ]
    },
    {
      "cell_type": "code",
      "metadata": {
        "id": "bXJexTogoHms",
        "outputId": "dcb40159-0e42-4dc2-9029-c0de3352e15e",
        "colab": {
          "base_uri": "https://localhost:8080/",
          "height": 553
        }
      },
      "source": [
        "logit_params = pd.Series(logit.coef_.reshape(-1,), index= X_train.columns)\n",
        "\n",
        "logit_params['intercept'] = logit.intercept_[0]\n",
        "\n",
        "logit_params"
      ],
      "execution_count": 29,
      "outputs": [
        {
          "output_type": "execute_result",
          "data": {
            "text/plain": [
              "POSTED_SPEED_LIMIT              0.010792\n",
              "INJURIES_TOTAL                  0.736133\n",
              "CLEAR                          -0.158544\n",
              "CLOUDY/OVERCAST                -0.048864\n",
              "FOG/SMOKE/HAZE                  0.104495\n",
              "FREEZING RAIN/DRIZZLE           0.333596\n",
              "OTHER                           0.107708\n",
              "RAIN                           -0.020421\n",
              "SEVERE CROSS WIND GATE          0.127816\n",
              "SLEET/HAIL                      0.028418\n",
              "SNOW                           -0.031283\n",
              "UNKNOWN                        -0.011332\n",
              "ANIMAL                         -0.922314\n",
              "FIXED OBJECT                    0.065806\n",
              "HEAD ON                        -0.077560\n",
              "OTHER NONCOLLISION             -1.144516\n",
              "OTHER OBJECT                   -0.642561\n",
              "OVERTURNED                      0.583318\n",
              "PARKED MOTOR VEHICLE           -0.478154\n",
              "PEDALCYCLIST                   -2.467100\n",
              "PEDESTRIAN                     -2.404785\n",
              "REAR END                       -0.679220\n",
              "REAR TO FRONT                  -0.723578\n",
              "REAR TO REAR                   -0.948245\n",
              "REAR TO SIDE                   -0.582886\n",
              "SIDESWIPE OPPOSITE DIRECTION   -0.644727\n",
              "SIDESWIPE SAME DIRECTION       -0.657574\n",
              "TRAIN                           0.119407\n",
              "TURNING                        -0.188454\n",
              "intercept                       0.503478\n",
              "dtype: float64"
            ]
          },
          "metadata": {
            "tags": []
          },
          "execution_count": 29
        }
      ]
    },
    {
      "cell_type": "code",
      "metadata": {
        "id": "mcQEGYXaoiGA",
        "outputId": "014e4952-711e-4f1e-9702-6ef7b14252ed",
        "colab": {
          "base_uri": "https://localhost:8080/",
          "height": 553
        }
      },
      "source": [
        "np.abs(logit_params).sort_values(ascending=False)"
      ],
      "execution_count": 31,
      "outputs": [
        {
          "output_type": "execute_result",
          "data": {
            "text/plain": [
              "PEDALCYCLIST                    2.467100\n",
              "PEDESTRIAN                      2.404785\n",
              "OTHER NONCOLLISION              1.144516\n",
              "REAR TO REAR                    0.948245\n",
              "ANIMAL                          0.922314\n",
              "INJURIES_TOTAL                  0.736133\n",
              "REAR TO FRONT                   0.723578\n",
              "REAR END                        0.679220\n",
              "SIDESWIPE SAME DIRECTION        0.657574\n",
              "SIDESWIPE OPPOSITE DIRECTION    0.644727\n",
              "OTHER OBJECT                    0.642561\n",
              "OVERTURNED                      0.583318\n",
              "REAR TO SIDE                    0.582886\n",
              "intercept                       0.503478\n",
              "PARKED MOTOR VEHICLE            0.478154\n",
              "FREEZING RAIN/DRIZZLE           0.333596\n",
              "TURNING                         0.188454\n",
              "CLEAR                           0.158544\n",
              "SEVERE CROSS WIND GATE          0.127816\n",
              "TRAIN                           0.119407\n",
              "OTHER                           0.107708\n",
              "FOG/SMOKE/HAZE                  0.104495\n",
              "HEAD ON                         0.077560\n",
              "FIXED OBJECT                    0.065806\n",
              "CLOUDY/OVERCAST                 0.048864\n",
              "SNOW                            0.031283\n",
              "SLEET/HAIL                      0.028418\n",
              "RAIN                            0.020421\n",
              "UNKNOWN                         0.011332\n",
              "POSTED_SPEED_LIMIT              0.010792\n",
              "dtype: float64"
            ]
          },
          "metadata": {
            "tags": []
          },
          "execution_count": 31
        }
      ]
    },
    {
      "cell_type": "code",
      "metadata": {
        "id": "QKJsPhAkqNR_",
        "outputId": "8873ff77-a71d-4bf8-93ec-f6d138c7de9a",
        "colab": {
          "base_uri": "https://localhost:8080/",
          "height": 52
        }
      },
      "source": [
        "confusion_matrix(y_test, logit.predict(x_test))\n",
        "#[True Negative, False Positive/type I error],\n",
        "#[False Negative/type II error, True Positive]"
      ],
      "execution_count": 35,
      "outputs": [
        {
          "output_type": "execute_result",
          "data": {
            "text/plain": [
              "array([[ 9468, 22424],\n",
              "       [ 7933, 32672]])"
            ]
          },
          "metadata": {
            "tags": []
          },
          "execution_count": 35
        }
      ]
    },
    {
      "cell_type": "markdown",
      "metadata": {
        "id": "6lcM8hVsq8yi"
      },
      "source": [
        "There is a large amount of Type I errors (False Positive) in the model. Clearly, the model isn't very accurate in predicting the outcome variable."
      ]
    }
  ]
}