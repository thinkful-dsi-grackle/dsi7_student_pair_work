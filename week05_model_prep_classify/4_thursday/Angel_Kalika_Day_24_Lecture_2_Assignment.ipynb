{
  "nbformat": 4,
  "nbformat_minor": 0,
  "metadata": {
    "colab": {
      "name": "Angel Kalika Day 24 Lecture 2 Assignment.ipynb",
      "provenance": [],
      "collapsed_sections": []
    },
    "kernelspec": {
      "display_name": "Python 3",
      "language": "python",
      "name": "python3"
    },
    "language_info": {
      "codemirror_mode": {
        "name": "ipython",
        "version": 3
      },
      "file_extension": ".py",
      "mimetype": "text/x-python",
      "name": "python",
      "nbconvert_exporter": "python",
      "pygments_lexer": "ipython3",
      "version": "3.7.3"
    }
  },
  "cells": [
    {
      "cell_type": "markdown",
      "metadata": {
        "id": "q7OBYmw2rsHe"
      },
      "source": [
        "## Day 24 Lecture 2 Assignment\n",
        "\n",
        "In this assignment, we will build our a more complex logistic regression model, this time on both numeric and categorical data. We will use the Chicago traffic crashes dataset loaded below and analyze the model generated for this dataset."
      ]
    },
    {
      "cell_type": "code",
      "metadata": {
        "id": "u3rUv9PKrsHf"
      },
      "source": [
        "%matplotlib inline\n",
        "\n",
        "import matplotlib.pyplot as plt\n",
        "import numpy as np\n",
        "import pandas as pd"
      ],
      "execution_count": 83,
      "outputs": []
    },
    {
      "cell_type": "code",
      "metadata": {
        "id": "cJ-qRkctUvv6"
      },
      "source": [
        "def missingness_summary(df, print_log=False, sort='none'):\n",
        "    summary = df.apply(lambda x: x.isna().sum() / x.shape[0])\n",
        "    \n",
        "    if print_log == True:\n",
        "        if sort == 'none':\n",
        "            print(summary)\n",
        "        elif sort == 'ascending':\n",
        "            print(summary.sort_values())\n",
        "        elif sort == 'descending':\n",
        "            print(summary.sort_values(ascending=False))\n",
        "        else:\n",
        "            print('Invalid value for sort parameter.')\n",
        "        \n",
        "    return summary"
      ],
      "execution_count": 84,
      "outputs": []
    },
    {
      "cell_type": "code",
      "metadata": {
        "id": "V_hlXXYwrsHh"
      },
      "source": [
        "crash_data = pd.read_csv('https://tf-assets-prod.s3.amazonaws.com/tf-curric/data-science/traffic_crashes_chicago.csv')"
      ],
      "execution_count": 85,
      "outputs": []
    },
    {
      "cell_type": "code",
      "metadata": {
        "id": "bJV8A_OQrsHj",
        "outputId": "00ca5e7a-e9cf-47f1-b534-fdca8797b178",
        "colab": {
          "base_uri": "https://localhost:8080/",
          "height": 384
        }
      },
      "source": [
        "crash_data.head()"
      ],
      "execution_count": 86,
      "outputs": [
        {
          "output_type": "execute_result",
          "data": {
            "text/html": [
              "<div>\n",
              "<style scoped>\n",
              "    .dataframe tbody tr th:only-of-type {\n",
              "        vertical-align: middle;\n",
              "    }\n",
              "\n",
              "    .dataframe tbody tr th {\n",
              "        vertical-align: top;\n",
              "    }\n",
              "\n",
              "    .dataframe thead th {\n",
              "        text-align: right;\n",
              "    }\n",
              "</style>\n",
              "<table border=\"1\" class=\"dataframe\">\n",
              "  <thead>\n",
              "    <tr style=\"text-align: right;\">\n",
              "      <th></th>\n",
              "      <th>RD_NO</th>\n",
              "      <th>CRASH_DATE</th>\n",
              "      <th>POSTED_SPEED_LIMIT</th>\n",
              "      <th>TRAFFIC_CONTROL_DEVICE</th>\n",
              "      <th>DEVICE_CONDITION</th>\n",
              "      <th>WEATHER_CONDITION</th>\n",
              "      <th>LIGHTING_CONDITION</th>\n",
              "      <th>FIRST_CRASH_TYPE</th>\n",
              "      <th>TRAFFICWAY_TYPE</th>\n",
              "      <th>LANE_CNT</th>\n",
              "      <th>ALIGNMENT</th>\n",
              "      <th>ROADWAY_SURFACE_COND</th>\n",
              "      <th>ROAD_DEFECT</th>\n",
              "      <th>REPORT_TYPE</th>\n",
              "      <th>CRASH_TYPE</th>\n",
              "      <th>INTERSECTION_RELATED_I</th>\n",
              "      <th>NOT_RIGHT_OF_WAY_I</th>\n",
              "      <th>HIT_AND_RUN_I</th>\n",
              "      <th>DAMAGE</th>\n",
              "      <th>DATE_POLICE_NOTIFIED</th>\n",
              "      <th>PRIM_CONTRIBUTORY_CAUSE</th>\n",
              "      <th>SEC_CONTRIBUTORY_CAUSE</th>\n",
              "      <th>STREET_NO</th>\n",
              "      <th>STREET_DIRECTION</th>\n",
              "      <th>STREET_NAME</th>\n",
              "      <th>BEAT_OF_OCCURRENCE</th>\n",
              "      <th>PHOTOS_TAKEN_I</th>\n",
              "      <th>STATEMENTS_TAKEN_I</th>\n",
              "      <th>DOORING_I</th>\n",
              "      <th>WORK_ZONE_I</th>\n",
              "      <th>WORK_ZONE_TYPE</th>\n",
              "      <th>WORKERS_PRESENT_I</th>\n",
              "      <th>NUM_UNITS</th>\n",
              "      <th>MOST_SEVERE_INJURY</th>\n",
              "      <th>INJURIES_TOTAL</th>\n",
              "      <th>INJURIES_FATAL</th>\n",
              "      <th>INJURIES_INCAPACITATING</th>\n",
              "      <th>INJURIES_NON_INCAPACITATING</th>\n",
              "      <th>INJURIES_REPORTED_NOT_EVIDENT</th>\n",
              "      <th>INJURIES_NO_INDICATION</th>\n",
              "      <th>INJURIES_UNKNOWN</th>\n",
              "    </tr>\n",
              "  </thead>\n",
              "  <tbody>\n",
              "    <tr>\n",
              "      <th>0</th>\n",
              "      <td>JC334993</td>\n",
              "      <td>7/4/2019 22:33</td>\n",
              "      <td>45</td>\n",
              "      <td>NO CONTROLS</td>\n",
              "      <td>NO CONTROLS</td>\n",
              "      <td>CLEAR</td>\n",
              "      <td>DARKNESS, LIGHTED ROAD</td>\n",
              "      <td>REAR END</td>\n",
              "      <td>DIVIDED - W/MEDIAN BARRIER</td>\n",
              "      <td>NaN</td>\n",
              "      <td>STRAIGHT AND LEVEL</td>\n",
              "      <td>DRY</td>\n",
              "      <td>NO DEFECTS</td>\n",
              "      <td>NaN</td>\n",
              "      <td>NO INJURY / DRIVE AWAY</td>\n",
              "      <td>NaN</td>\n",
              "      <td>NaN</td>\n",
              "      <td>NaN</td>\n",
              "      <td>OVER $1,500</td>\n",
              "      <td>7/4/2019 23:05</td>\n",
              "      <td>FOLLOWING TOO CLOSELY</td>\n",
              "      <td>NOT APPLICABLE</td>\n",
              "      <td>300</td>\n",
              "      <td>N</td>\n",
              "      <td>LAKE SHORE DR SB</td>\n",
              "      <td>114.0</td>\n",
              "      <td>NaN</td>\n",
              "      <td>NaN</td>\n",
              "      <td>NaN</td>\n",
              "      <td>NaN</td>\n",
              "      <td>NaN</td>\n",
              "      <td>NaN</td>\n",
              "      <td>NaN</td>\n",
              "      <td>NaN</td>\n",
              "      <td>NaN</td>\n",
              "      <td>NaN</td>\n",
              "      <td>NaN</td>\n",
              "      <td>NaN</td>\n",
              "      <td>NaN</td>\n",
              "      <td>NaN</td>\n",
              "      <td>NaN</td>\n",
              "    </tr>\n",
              "    <tr>\n",
              "      <th>1</th>\n",
              "      <td>JC370822</td>\n",
              "      <td>7/30/2019 10:22</td>\n",
              "      <td>30</td>\n",
              "      <td>NO CONTROLS</td>\n",
              "      <td>NO CONTROLS</td>\n",
              "      <td>CLEAR</td>\n",
              "      <td>DAYLIGHT</td>\n",
              "      <td>TURNING</td>\n",
              "      <td>DIVIDED - W/MEDIAN (NOT RAISED)</td>\n",
              "      <td>NaN</td>\n",
              "      <td>STRAIGHT AND LEVEL</td>\n",
              "      <td>DRY</td>\n",
              "      <td>NO DEFECTS</td>\n",
              "      <td>NaN</td>\n",
              "      <td>NO INJURY / DRIVE AWAY</td>\n",
              "      <td>NaN</td>\n",
              "      <td>NaN</td>\n",
              "      <td>NaN</td>\n",
              "      <td>OVER $1,500</td>\n",
              "      <td>7/30/2019 10:25</td>\n",
              "      <td>FAILING TO YIELD RIGHT-OF-WAY</td>\n",
              "      <td>IMPROPER TURNING/NO SIGNAL</td>\n",
              "      <td>8201</td>\n",
              "      <td>S</td>\n",
              "      <td>DR MARTIN LUTHER KING JR DR</td>\n",
              "      <td>631.0</td>\n",
              "      <td>NaN</td>\n",
              "      <td>NaN</td>\n",
              "      <td>NaN</td>\n",
              "      <td>NaN</td>\n",
              "      <td>NaN</td>\n",
              "      <td>NaN</td>\n",
              "      <td>NaN</td>\n",
              "      <td>NaN</td>\n",
              "      <td>NaN</td>\n",
              "      <td>NaN</td>\n",
              "      <td>NaN</td>\n",
              "      <td>NaN</td>\n",
              "      <td>NaN</td>\n",
              "      <td>NaN</td>\n",
              "      <td>NaN</td>\n",
              "    </tr>\n",
              "    <tr>\n",
              "      <th>2</th>\n",
              "      <td>JC387098</td>\n",
              "      <td>8/10/2019 17:00</td>\n",
              "      <td>25</td>\n",
              "      <td>NO CONTROLS</td>\n",
              "      <td>NO CONTROLS</td>\n",
              "      <td>CLEAR</td>\n",
              "      <td>DAYLIGHT</td>\n",
              "      <td>PARKED MOTOR VEHICLE</td>\n",
              "      <td>ONE-WAY</td>\n",
              "      <td>NaN</td>\n",
              "      <td>STRAIGHT AND LEVEL</td>\n",
              "      <td>DRY</td>\n",
              "      <td>NO DEFECTS</td>\n",
              "      <td>NaN</td>\n",
              "      <td>NO INJURY / DRIVE AWAY</td>\n",
              "      <td>NaN</td>\n",
              "      <td>NaN</td>\n",
              "      <td>NaN</td>\n",
              "      <td>$501 - $1,500</td>\n",
              "      <td>8/10/2019 17:35</td>\n",
              "      <td>EQUIPMENT - VEHICLE CONDITION</td>\n",
              "      <td>NOT APPLICABLE</td>\n",
              "      <td>6747</td>\n",
              "      <td>S</td>\n",
              "      <td>CREGIER AVE</td>\n",
              "      <td>332.0</td>\n",
              "      <td>NaN</td>\n",
              "      <td>NaN</td>\n",
              "      <td>NaN</td>\n",
              "      <td>NaN</td>\n",
              "      <td>NaN</td>\n",
              "      <td>NaN</td>\n",
              "      <td>1.0</td>\n",
              "      <td>NaN</td>\n",
              "      <td>NaN</td>\n",
              "      <td>NaN</td>\n",
              "      <td>NaN</td>\n",
              "      <td>NaN</td>\n",
              "      <td>NaN</td>\n",
              "      <td>NaN</td>\n",
              "      <td>NaN</td>\n",
              "    </tr>\n",
              "    <tr>\n",
              "      <th>3</th>\n",
              "      <td>JC395195</td>\n",
              "      <td>8/16/2019 16:53</td>\n",
              "      <td>30</td>\n",
              "      <td>NO CONTROLS</td>\n",
              "      <td>NO CONTROLS</td>\n",
              "      <td>CLEAR</td>\n",
              "      <td>DAYLIGHT</td>\n",
              "      <td>PARKED MOTOR VEHICLE</td>\n",
              "      <td>NOT DIVIDED</td>\n",
              "      <td>NaN</td>\n",
              "      <td>STRAIGHT AND LEVEL</td>\n",
              "      <td>DRY</td>\n",
              "      <td>NO DEFECTS</td>\n",
              "      <td>NaN</td>\n",
              "      <td>NO INJURY / DRIVE AWAY</td>\n",
              "      <td>NaN</td>\n",
              "      <td>NaN</td>\n",
              "      <td>Y</td>\n",
              "      <td>$501 - $1,500</td>\n",
              "      <td>8/16/2019 16:53</td>\n",
              "      <td>UNABLE TO DETERMINE</td>\n",
              "      <td>NOT APPLICABLE</td>\n",
              "      <td>554</td>\n",
              "      <td>N</td>\n",
              "      <td>FRANKLIN ST</td>\n",
              "      <td>1831.0</td>\n",
              "      <td>NaN</td>\n",
              "      <td>NaN</td>\n",
              "      <td>NaN</td>\n",
              "      <td>NaN</td>\n",
              "      <td>NaN</td>\n",
              "      <td>NaN</td>\n",
              "      <td>1.0</td>\n",
              "      <td>NO INDICATION OF INJURY</td>\n",
              "      <td>0.0</td>\n",
              "      <td>0.0</td>\n",
              "      <td>0.0</td>\n",
              "      <td>0.0</td>\n",
              "      <td>0.0</td>\n",
              "      <td>1.0</td>\n",
              "      <td>0.0</td>\n",
              "    </tr>\n",
              "    <tr>\n",
              "      <th>4</th>\n",
              "      <td>JC396604</td>\n",
              "      <td>8/17/2019 16:04</td>\n",
              "      <td>30</td>\n",
              "      <td>NO CONTROLS</td>\n",
              "      <td>NO CONTROLS</td>\n",
              "      <td>CLEAR</td>\n",
              "      <td>DAYLIGHT</td>\n",
              "      <td>PARKED MOTOR VEHICLE</td>\n",
              "      <td>PARKING LOT</td>\n",
              "      <td>NaN</td>\n",
              "      <td>STRAIGHT AND LEVEL</td>\n",
              "      <td>DRY</td>\n",
              "      <td>NO DEFECTS</td>\n",
              "      <td>NaN</td>\n",
              "      <td>NO INJURY / DRIVE AWAY</td>\n",
              "      <td>NaN</td>\n",
              "      <td>NaN</td>\n",
              "      <td>Y</td>\n",
              "      <td>$501 - $1,500</td>\n",
              "      <td>8/17/2019 18:30</td>\n",
              "      <td>UNABLE TO DETERMINE</td>\n",
              "      <td>UNABLE TO DETERMINE</td>\n",
              "      <td>3700</td>\n",
              "      <td>N</td>\n",
              "      <td>WESTERN AVE</td>\n",
              "      <td>1921.0</td>\n",
              "      <td>NaN</td>\n",
              "      <td>NaN</td>\n",
              "      <td>NaN</td>\n",
              "      <td>NaN</td>\n",
              "      <td>NaN</td>\n",
              "      <td>NaN</td>\n",
              "      <td>1.0</td>\n",
              "      <td>NO INDICATION OF INJURY</td>\n",
              "      <td>0.0</td>\n",
              "      <td>0.0</td>\n",
              "      <td>0.0</td>\n",
              "      <td>0.0</td>\n",
              "      <td>0.0</td>\n",
              "      <td>1.0</td>\n",
              "      <td>0.0</td>\n",
              "    </tr>\n",
              "  </tbody>\n",
              "</table>\n",
              "</div>"
            ],
            "text/plain": [
              "      RD_NO       CRASH_DATE  ...  INJURIES_NO_INDICATION INJURIES_UNKNOWN\n",
              "0  JC334993   7/4/2019 22:33  ...                     NaN              NaN\n",
              "1  JC370822  7/30/2019 10:22  ...                     NaN              NaN\n",
              "2  JC387098  8/10/2019 17:00  ...                     NaN              NaN\n",
              "3  JC395195  8/16/2019 16:53  ...                     1.0              0.0\n",
              "4  JC396604  8/17/2019 16:04  ...                     1.0              0.0\n",
              "\n",
              "[5 rows x 41 columns]"
            ]
          },
          "metadata": {
            "tags": []
          },
          "execution_count": 86
        }
      ]
    },
    {
      "cell_type": "markdown",
      "metadata": {
        "id": "I7kel3hRUvwA"
      },
      "source": [
        "First, create a binary response column by modifying the \"DAMAGE\" column. Consider \"OVER \\$1500\" to be the positive class, and under \\$1500 to be the negative class."
      ]
    },
    {
      "cell_type": "code",
      "metadata": {
        "id": "lVXRdsWPUvwB",
        "outputId": "2eecdf70-e672-452e-83bc-70796da1b03b",
        "colab": {
          "base_uri": "https://localhost:8080/",
          "height": 167
        }
      },
      "source": [
        "# answer goes here\n",
        "crash_data.loc[crash_data['DAMAGE']  !=  \"OVER $1,500\", 'bDamaged'] = 0\n",
        "crash_data.loc[crash_data['DAMAGE']  ==  \"OVER $1,500\", 'bDamaged'] = 1\n",
        "\n",
        "crash_data['bDamaged'].describe()\n",
        "\n"
      ],
      "execution_count": 87,
      "outputs": [
        {
          "output_type": "execute_result",
          "data": {
            "text/plain": [
              "count    372585.000000\n",
              "mean          0.563418\n",
              "std           0.495963\n",
              "min           0.000000\n",
              "25%           0.000000\n",
              "50%           1.000000\n",
              "75%           1.000000\n",
              "max           1.000000\n",
              "Name: bDamaged, dtype: float64"
            ]
          },
          "metadata": {
            "tags": []
          },
          "execution_count": 87
        }
      ]
    },
    {
      "cell_type": "markdown",
      "metadata": {
        "id": "5QQUxRPMrsHl"
      },
      "source": [
        "Using the code from Day 21, Lecture 1 as a starting point, devise an appropriate way to address missing values. You have a lot of freedom here; we will proceed by taking the following steps:\n",
        "\n",
        "- Dropping all columns with more than 5% missing data\n",
        "1- Imputing the median for numeric columns with less than 5% missing data (except for STREET_NO; imputing it in this manner would not make any sense)\n",
        "- Dropping rows with missing data for categorical columns that have less than 5% missing data"
      ]
    },
    {
      "cell_type": "code",
      "metadata": {
        "id": "X7DmjvgXrsHl"
      },
      "source": [
        "# answer goes here\n",
        "#A summary of missing variables represented as a percentage of the total missing content. \n",
        "def missingness_summary(df, print_log=False, sort='ascending'):\n",
        "  s = df.isnull().sum()*100/df.isnull().count()\n",
        "  s = s [s > 0]\n",
        "  if sort.lower() == 'ascending':\n",
        "    s = s.sort_values(ascending=True)\n",
        "  elif sort.lower() == 'descending':\n",
        "    s = s.sort_values(ascending=False)  \n",
        "  if print_log: \n",
        "    print(s)\n",
        "  \n",
        "  return pd.Series(s)\n",
        "\n",
        "suspects = missingness_summary(crash_data, False, 'descending')\n",
        "\n",
        "drop = suspects[suspects > 5]\n",
        "crash_data.drop(columns=drop.keys(), axis=1, inplace=True)"
      ],
      "execution_count": 88,
      "outputs": []
    },
    {
      "cell_type": "code",
      "metadata": {
        "id": "_nGCMw0zqpUA"
      },
      "source": [
        "suspects = missingness_summary(crash_data, False, 'descending')"
      ],
      "execution_count": 89,
      "outputs": []
    },
    {
      "cell_type": "code",
      "metadata": {
        "id": "xWlKE-X8q6Em"
      },
      "source": [
        "fill_list = crash_data[suspects.keys()].select_dtypes(include='number').columns\n",
        "for col in fill_list: \n",
        "  crash_data.loc[:, col] = crash_data.loc[:, col].fillna(crash_data.loc[:, col].mean())"
      ],
      "execution_count": 90,
      "outputs": []
    },
    {
      "cell_type": "code",
      "metadata": {
        "id": "wGMjyvqEtFRr"
      },
      "source": [
        "suspects = missingness_summary(crash_data, False, 'descending')\n",
        "crash_data.dropna(subset=suspects.keys(), inplace=True)"
      ],
      "execution_count": 91,
      "outputs": []
    },
    {
      "cell_type": "code",
      "metadata": {
        "id": "gclh1keztuJW",
        "outputId": "d682c391-58a4-4181-cf5e-18f3b06e479f",
        "colab": {
          "base_uri": "https://localhost:8080/",
          "height": 33
        }
      },
      "source": [
        "suspects = missingness_summary(crash_data, False, 'descending')\n",
        "suspects"
      ],
      "execution_count": 92,
      "outputs": [
        {
          "output_type": "execute_result",
          "data": {
            "text/plain": [
              "Series([], dtype: float64)"
            ]
          },
          "metadata": {
            "tags": []
          },
          "execution_count": 92
        }
      ]
    },
    {
      "cell_type": "markdown",
      "metadata": {
        "id": "M66r2mytUvwF"
      },
      "source": [
        "Finally, choose a few numeric and categorical features (2-3 of each) to include in the model. (You can definitely include more than this, but too many features, especially categorical ones, will most likely lead to convergence issues). One hot encode the chosen categorical features, being sure to omit one of the categories (which will serve as a \"reference\" level) to avoid perfect multicollinearity.\n",
        "\n",
        "Again, you have a lot of freedom here; we will proceed with the following features, dropping the most commonly occurring category for the two categorical variables (\"CLEAR\" for weather, \"REAR END\" for first crash type):\n",
        "POSTED_SPEED_LIMIT, WEATHER_CONDITION, INJURIES_TOTAL, FIRST_CRASH_TYPE"
      ]
    },
    {
      "cell_type": "code",
      "metadata": {
        "id": "ja_Vaq2CUvwF"
      },
      "source": [
        "# answer goes here\n",
        "features = ['POSTED_SPEED_LIMIT', 'INJURIES_TOTAL']\n",
        "dum1 = 'WEATHER_CONDITION'\n",
        "dum2 = 'FIRST_CRASH_TYPE'\n",
        "df = crash_data[features]\n",
        "one_hot = pd.get_dummies(crash_data[dum1], drop_first=True)\n",
        "two_hot = pd.get_dummies(crash_data[dum2], drop_first=True)\n"
      ],
      "execution_count": 93,
      "outputs": []
    },
    {
      "cell_type": "code",
      "metadata": {
        "id": "nBI7CIGbvXYY"
      },
      "source": [
        "one_hot.drop(axis=1, columns='CLEAR', inplace=True)\n",
        "two_hot.drop(axis=1, columns='REAR END', inplace=True)"
      ],
      "execution_count": 94,
      "outputs": []
    },
    {
      "cell_type": "code",
      "metadata": {
        "id": "Dop4r_19ycIP",
        "outputId": "0b0177b1-1c10-4d26-e28b-ae3b649f8f59",
        "colab": {
          "base_uri": "https://localhost:8080/",
          "height": 585
        }
      },
      "source": [
        "hots = one_hot.join(two_hot)\n",
        "df = df.join(hots)\n",
        "df.info()"
      ],
      "execution_count": 95,
      "outputs": [
        {
          "output_type": "stream",
          "text": [
            "<class 'pandas.core.frame.DataFrame'>\n",
            "Int64Index: 362483 entries, 6 to 372584\n",
            "Data columns (total 27 columns):\n",
            " #   Column                        Non-Null Count   Dtype  \n",
            "---  ------                        --------------   -----  \n",
            " 0   POSTED_SPEED_LIMIT            362483 non-null  int64  \n",
            " 1   INJURIES_TOTAL                362483 non-null  float64\n",
            " 2   CLOUDY/OVERCAST               362483 non-null  uint8  \n",
            " 3   FOG/SMOKE/HAZE                362483 non-null  uint8  \n",
            " 4   FREEZING RAIN/DRIZZLE         362483 non-null  uint8  \n",
            " 5   OTHER                         362483 non-null  uint8  \n",
            " 6   RAIN                          362483 non-null  uint8  \n",
            " 7   SEVERE CROSS WIND GATE        362483 non-null  uint8  \n",
            " 8   SLEET/HAIL                    362483 non-null  uint8  \n",
            " 9   SNOW                          362483 non-null  uint8  \n",
            " 10  UNKNOWN                       362483 non-null  uint8  \n",
            " 11  ANIMAL                        362483 non-null  uint8  \n",
            " 12  FIXED OBJECT                  362483 non-null  uint8  \n",
            " 13  HEAD ON                       362483 non-null  uint8  \n",
            " 14  OTHER NONCOLLISION            362483 non-null  uint8  \n",
            " 15  OTHER OBJECT                  362483 non-null  uint8  \n",
            " 16  OVERTURNED                    362483 non-null  uint8  \n",
            " 17  PARKED MOTOR VEHICLE          362483 non-null  uint8  \n",
            " 18  PEDALCYCLIST                  362483 non-null  uint8  \n",
            " 19  PEDESTRIAN                    362483 non-null  uint8  \n",
            " 20  REAR TO FRONT                 362483 non-null  uint8  \n",
            " 21  REAR TO REAR                  362483 non-null  uint8  \n",
            " 22  REAR TO SIDE                  362483 non-null  uint8  \n",
            " 23  SIDESWIPE OPPOSITE DIRECTION  362483 non-null  uint8  \n",
            " 24  SIDESWIPE SAME DIRECTION      362483 non-null  uint8  \n",
            " 25  TRAIN                         362483 non-null  uint8  \n",
            " 26  TURNING                       362483 non-null  uint8  \n",
            "dtypes: float64(1), int64(1), uint8(25)\n",
            "memory usage: 26.9 MB\n"
          ],
          "name": "stdout"
        }
      ]
    },
    {
      "cell_type": "markdown",
      "metadata": {
        "id": "zRuNJsTSrsHn"
      },
      "source": [
        "Split the data into train and test, with 80% training and 20% testing. By default, the LR output from statsmodels does not include an intercept terms; add a constant column to the training data so that an intercept term is calculated for the LR model (hint: sm.add_constant() is a useful function to accomplish this)."
      ]
    },
    {
      "cell_type": "code",
      "metadata": {
        "id": "fhpHIZBjrsHn"
      },
      "source": [
        "# answer goes here\n",
        "from sklearn.model_selection import train_test_split\n",
        "X = df\n",
        "y = crash_data['bDamaged']\n",
        "X_train, X_test, y_train, y_test = train_test_split(X, y, test_size=0.2)\n"
      ],
      "execution_count": 96,
      "outputs": []
    },
    {
      "cell_type": "code",
      "metadata": {
        "id": "N_mPxkk1ynjy",
        "outputId": "fab004f4-8ec9-48a1-bf90-3242510b0981",
        "colab": {
          "base_uri": "https://localhost:8080/",
          "height": 753
        }
      },
      "source": [
        "import statsmodels.api as sm\n",
        "\n",
        "X_train_const = sm.add_constant(X_train)\n",
        "\n",
        "sm_model = sm.Logit(y_train, X_train_const).fit()\n",
        "\n",
        "print(sm_model.summary())"
      ],
      "execution_count": 97,
      "outputs": [
        {
          "output_type": "stream",
          "text": [
            "Optimization terminated successfully.\n",
            "         Current function value: 0.661652\n",
            "         Iterations 7\n",
            "                           Logit Regression Results                           \n",
            "==============================================================================\n",
            "Dep. Variable:               bDamaged   No. Observations:               289986\n",
            "Model:                          Logit   Df Residuals:                   289958\n",
            "Method:                           MLE   Df Model:                           27\n",
            "Date:                Thu, 15 Oct 2020   Pseudo R-squ.:                 0.03481\n",
            "Time:                        20:10:45   Log-Likelihood:            -1.9187e+05\n",
            "converged:                       True   LL-Null:                   -1.9879e+05\n",
            "Covariance Type:            nonrobust   LLR p-value:                     0.000\n",
            "================================================================================================\n",
            "                                   coef    std err          z      P>|z|      [0.025      0.975]\n",
            "------------------------------------------------------------------------------------------------\n",
            "const                           -0.0855      0.018     -4.698      0.000      -0.121      -0.050\n",
            "POSTED_SPEED_LIMIT               0.0086      0.001     14.685      0.000       0.007       0.010\n",
            "INJURIES_TOTAL                   0.7688      0.012     64.722      0.000       0.745       0.792\n",
            "CLOUDY/OVERCAST                  0.0836      0.023      3.694      0.000       0.039       0.128\n",
            "FOG/SMOKE/HAZE                   0.1913      0.091      2.106      0.035       0.013       0.369\n",
            "FREEZING RAIN/DRIZZLE            0.4620      0.190      2.437      0.015       0.090       0.834\n",
            "OTHER                            0.2898      0.071      4.071      0.000       0.150       0.429\n",
            "RAIN                             0.1382      0.013     10.284      0.000       0.112       0.165\n",
            "SEVERE CROSS WIND GATE           0.5021      0.268      1.876      0.061      -0.022       1.027\n",
            "SLEET/HAIL                       0.1892      0.100      1.883      0.060      -0.008       0.386\n",
            "SNOW                             0.1509      0.021      7.142      0.000       0.109       0.192\n",
            "UNKNOWN                          0.1527      0.019      8.034      0.000       0.115       0.190\n",
            "ANIMAL                          -0.5589      0.154     -3.630      0.000      -0.861      -0.257\n",
            "FIXED OBJECT                     0.5360      0.021     25.707      0.000       0.495       0.577\n",
            "HEAD ON                          0.3773      0.046      8.270      0.000       0.288       0.467\n",
            "OTHER NONCOLLISION              -0.5805      0.063     -9.240      0.000      -0.704      -0.457\n",
            "OTHER OBJECT                    -0.1536      0.040     -3.845      0.000      -0.232      -0.075\n",
            "OVERTURNED                       1.2686      0.257      4.938      0.000       0.765       1.772\n",
            "PARKED MOTOR VEHICLE             0.0067      0.011      0.635      0.526      -0.014       0.027\n",
            "PEDALCYCLIST                    -2.0133      0.039    -52.066      0.000      -2.089      -1.938\n",
            "PEDESTRIAN                      -1.9392      0.031    -63.454      0.000      -1.999      -1.879\n",
            "REAR TO FRONT                   -0.2116      0.067     -3.142      0.002      -0.344      -0.080\n",
            "REAR TO REAR                    -0.4332      0.140     -3.083      0.002      -0.709      -0.158\n",
            "REAR TO SIDE                    -0.1535      0.083     -1.847      0.065      -0.316       0.009\n",
            "SIDESWIPE OPPOSITE DIRECTION    -0.1775      0.032     -5.606      0.000      -0.240      -0.115\n",
            "SIDESWIPE SAME DIRECTION        -0.1614      0.011    -14.243      0.000      -0.184      -0.139\n",
            "TRAIN                            1.9590      1.043      1.879      0.060      -0.085       4.003\n",
            "TURNING                          0.2791      0.012     22.654      0.000       0.255       0.303\n",
            "================================================================================================\n"
          ],
          "name": "stdout"
        }
      ]
    },
    {
      "cell_type": "markdown",
      "metadata": {
        "id": "ggXxmOLTrsHq"
      },
      "source": [
        "Fit the logistic regression model using the statsmodels package and print out the coefficient summary. Which variables (in particular, which categories of our categorical variables) appear to be the most important, and what effect do they have on the probability of a crash resulting in $1500 or more in damages?"
      ]
    },
    {
      "cell_type": "code",
      "metadata": {
        "id": "7pFgRLNErsHq",
        "outputId": "ed31908e-e11d-4661-e98d-2b140c420138",
        "colab": {
          "base_uri": "https://localhost:8080/",
          "height": 793
        }
      },
      "source": [
        "# answer goes here\n",
        "sm_model = sm.Logit(y_train, X_train_const).fit()\n",
        "sm_model.summary()"
      ],
      "execution_count": 98,
      "outputs": [
        {
          "output_type": "stream",
          "text": [
            "Optimization terminated successfully.\n",
            "         Current function value: 0.661652\n",
            "         Iterations 7\n"
          ],
          "name": "stdout"
        },
        {
          "output_type": "execute_result",
          "data": {
            "text/html": [
              "<table class=\"simpletable\">\n",
              "<caption>Logit Regression Results</caption>\n",
              "<tr>\n",
              "  <th>Dep. Variable:</th>       <td>bDamaged</td>     <th>  No. Observations:  </th>   <td>289986</td>   \n",
              "</tr>\n",
              "<tr>\n",
              "  <th>Model:</th>                 <td>Logit</td>      <th>  Df Residuals:      </th>   <td>289958</td>   \n",
              "</tr>\n",
              "<tr>\n",
              "  <th>Method:</th>                 <td>MLE</td>       <th>  Df Model:          </th>   <td>    27</td>   \n",
              "</tr>\n",
              "<tr>\n",
              "  <th>Date:</th>            <td>Thu, 15 Oct 2020</td> <th>  Pseudo R-squ.:     </th>   <td>0.03481</td>  \n",
              "</tr>\n",
              "<tr>\n",
              "  <th>Time:</th>                <td>20:10:47</td>     <th>  Log-Likelihood:    </th> <td>-1.9187e+05</td>\n",
              "</tr>\n",
              "<tr>\n",
              "  <th>converged:</th>             <td>True</td>       <th>  LL-Null:           </th> <td>-1.9879e+05</td>\n",
              "</tr>\n",
              "<tr>\n",
              "  <th>Covariance Type:</th>     <td>nonrobust</td>    <th>  LLR p-value:       </th>   <td> 0.000</td>   \n",
              "</tr>\n",
              "</table>\n",
              "<table class=\"simpletable\">\n",
              "<tr>\n",
              "                <td></td>                  <th>coef</th>     <th>std err</th>      <th>z</th>      <th>P>|z|</th>  <th>[0.025</th>    <th>0.975]</th>  \n",
              "</tr>\n",
              "<tr>\n",
              "  <th>const</th>                        <td>   -0.0855</td> <td>    0.018</td> <td>   -4.698</td> <td> 0.000</td> <td>   -0.121</td> <td>   -0.050</td>\n",
              "</tr>\n",
              "<tr>\n",
              "  <th>POSTED_SPEED_LIMIT</th>           <td>    0.0086</td> <td>    0.001</td> <td>   14.685</td> <td> 0.000</td> <td>    0.007</td> <td>    0.010</td>\n",
              "</tr>\n",
              "<tr>\n",
              "  <th>INJURIES_TOTAL</th>               <td>    0.7688</td> <td>    0.012</td> <td>   64.722</td> <td> 0.000</td> <td>    0.745</td> <td>    0.792</td>\n",
              "</tr>\n",
              "<tr>\n",
              "  <th>CLOUDY/OVERCAST</th>              <td>    0.0836</td> <td>    0.023</td> <td>    3.694</td> <td> 0.000</td> <td>    0.039</td> <td>    0.128</td>\n",
              "</tr>\n",
              "<tr>\n",
              "  <th>FOG/SMOKE/HAZE</th>               <td>    0.1913</td> <td>    0.091</td> <td>    2.106</td> <td> 0.035</td> <td>    0.013</td> <td>    0.369</td>\n",
              "</tr>\n",
              "<tr>\n",
              "  <th>FREEZING RAIN/DRIZZLE</th>        <td>    0.4620</td> <td>    0.190</td> <td>    2.437</td> <td> 0.015</td> <td>    0.090</td> <td>    0.834</td>\n",
              "</tr>\n",
              "<tr>\n",
              "  <th>OTHER</th>                        <td>    0.2898</td> <td>    0.071</td> <td>    4.071</td> <td> 0.000</td> <td>    0.150</td> <td>    0.429</td>\n",
              "</tr>\n",
              "<tr>\n",
              "  <th>RAIN</th>                         <td>    0.1382</td> <td>    0.013</td> <td>   10.284</td> <td> 0.000</td> <td>    0.112</td> <td>    0.165</td>\n",
              "</tr>\n",
              "<tr>\n",
              "  <th>SEVERE CROSS WIND GATE</th>       <td>    0.5021</td> <td>    0.268</td> <td>    1.876</td> <td> 0.061</td> <td>   -0.022</td> <td>    1.027</td>\n",
              "</tr>\n",
              "<tr>\n",
              "  <th>SLEET/HAIL</th>                   <td>    0.1892</td> <td>    0.100</td> <td>    1.883</td> <td> 0.060</td> <td>   -0.008</td> <td>    0.386</td>\n",
              "</tr>\n",
              "<tr>\n",
              "  <th>SNOW</th>                         <td>    0.1509</td> <td>    0.021</td> <td>    7.142</td> <td> 0.000</td> <td>    0.109</td> <td>    0.192</td>\n",
              "</tr>\n",
              "<tr>\n",
              "  <th>UNKNOWN</th>                      <td>    0.1527</td> <td>    0.019</td> <td>    8.034</td> <td> 0.000</td> <td>    0.115</td> <td>    0.190</td>\n",
              "</tr>\n",
              "<tr>\n",
              "  <th>ANIMAL</th>                       <td>   -0.5589</td> <td>    0.154</td> <td>   -3.630</td> <td> 0.000</td> <td>   -0.861</td> <td>   -0.257</td>\n",
              "</tr>\n",
              "<tr>\n",
              "  <th>FIXED OBJECT</th>                 <td>    0.5360</td> <td>    0.021</td> <td>   25.707</td> <td> 0.000</td> <td>    0.495</td> <td>    0.577</td>\n",
              "</tr>\n",
              "<tr>\n",
              "  <th>HEAD ON</th>                      <td>    0.3773</td> <td>    0.046</td> <td>    8.270</td> <td> 0.000</td> <td>    0.288</td> <td>    0.467</td>\n",
              "</tr>\n",
              "<tr>\n",
              "  <th>OTHER NONCOLLISION</th>           <td>   -0.5805</td> <td>    0.063</td> <td>   -9.240</td> <td> 0.000</td> <td>   -0.704</td> <td>   -0.457</td>\n",
              "</tr>\n",
              "<tr>\n",
              "  <th>OTHER OBJECT</th>                 <td>   -0.1536</td> <td>    0.040</td> <td>   -3.845</td> <td> 0.000</td> <td>   -0.232</td> <td>   -0.075</td>\n",
              "</tr>\n",
              "<tr>\n",
              "  <th>OVERTURNED</th>                   <td>    1.2686</td> <td>    0.257</td> <td>    4.938</td> <td> 0.000</td> <td>    0.765</td> <td>    1.772</td>\n",
              "</tr>\n",
              "<tr>\n",
              "  <th>PARKED MOTOR VEHICLE</th>         <td>    0.0067</td> <td>    0.011</td> <td>    0.635</td> <td> 0.526</td> <td>   -0.014</td> <td>    0.027</td>\n",
              "</tr>\n",
              "<tr>\n",
              "  <th>PEDALCYCLIST</th>                 <td>   -2.0133</td> <td>    0.039</td> <td>  -52.066</td> <td> 0.000</td> <td>   -2.089</td> <td>   -1.938</td>\n",
              "</tr>\n",
              "<tr>\n",
              "  <th>PEDESTRIAN</th>                   <td>   -1.9392</td> <td>    0.031</td> <td>  -63.454</td> <td> 0.000</td> <td>   -1.999</td> <td>   -1.879</td>\n",
              "</tr>\n",
              "<tr>\n",
              "  <th>REAR TO FRONT</th>                <td>   -0.2116</td> <td>    0.067</td> <td>   -3.142</td> <td> 0.002</td> <td>   -0.344</td> <td>   -0.080</td>\n",
              "</tr>\n",
              "<tr>\n",
              "  <th>REAR TO REAR</th>                 <td>   -0.4332</td> <td>    0.140</td> <td>   -3.083</td> <td> 0.002</td> <td>   -0.709</td> <td>   -0.158</td>\n",
              "</tr>\n",
              "<tr>\n",
              "  <th>REAR TO SIDE</th>                 <td>   -0.1535</td> <td>    0.083</td> <td>   -1.847</td> <td> 0.065</td> <td>   -0.316</td> <td>    0.009</td>\n",
              "</tr>\n",
              "<tr>\n",
              "  <th>SIDESWIPE OPPOSITE DIRECTION</th> <td>   -0.1775</td> <td>    0.032</td> <td>   -5.606</td> <td> 0.000</td> <td>   -0.240</td> <td>   -0.115</td>\n",
              "</tr>\n",
              "<tr>\n",
              "  <th>SIDESWIPE SAME DIRECTION</th>     <td>   -0.1614</td> <td>    0.011</td> <td>  -14.243</td> <td> 0.000</td> <td>   -0.184</td> <td>   -0.139</td>\n",
              "</tr>\n",
              "<tr>\n",
              "  <th>TRAIN</th>                        <td>    1.9590</td> <td>    1.043</td> <td>    1.879</td> <td> 0.060</td> <td>   -0.085</td> <td>    4.003</td>\n",
              "</tr>\n",
              "<tr>\n",
              "  <th>TURNING</th>                      <td>    0.2791</td> <td>    0.012</td> <td>   22.654</td> <td> 0.000</td> <td>    0.255</td> <td>    0.303</td>\n",
              "</tr>\n",
              "</table>"
            ],
            "text/plain": [
              "<class 'statsmodels.iolib.summary.Summary'>\n",
              "\"\"\"\n",
              "                           Logit Regression Results                           \n",
              "==============================================================================\n",
              "Dep. Variable:               bDamaged   No. Observations:               289986\n",
              "Model:                          Logit   Df Residuals:                   289958\n",
              "Method:                           MLE   Df Model:                           27\n",
              "Date:                Thu, 15 Oct 2020   Pseudo R-squ.:                 0.03481\n",
              "Time:                        20:10:47   Log-Likelihood:            -1.9187e+05\n",
              "converged:                       True   LL-Null:                   -1.9879e+05\n",
              "Covariance Type:            nonrobust   LLR p-value:                     0.000\n",
              "================================================================================================\n",
              "                                   coef    std err          z      P>|z|      [0.025      0.975]\n",
              "------------------------------------------------------------------------------------------------\n",
              "const                           -0.0855      0.018     -4.698      0.000      -0.121      -0.050\n",
              "POSTED_SPEED_LIMIT               0.0086      0.001     14.685      0.000       0.007       0.010\n",
              "INJURIES_TOTAL                   0.7688      0.012     64.722      0.000       0.745       0.792\n",
              "CLOUDY/OVERCAST                  0.0836      0.023      3.694      0.000       0.039       0.128\n",
              "FOG/SMOKE/HAZE                   0.1913      0.091      2.106      0.035       0.013       0.369\n",
              "FREEZING RAIN/DRIZZLE            0.4620      0.190      2.437      0.015       0.090       0.834\n",
              "OTHER                            0.2898      0.071      4.071      0.000       0.150       0.429\n",
              "RAIN                             0.1382      0.013     10.284      0.000       0.112       0.165\n",
              "SEVERE CROSS WIND GATE           0.5021      0.268      1.876      0.061      -0.022       1.027\n",
              "SLEET/HAIL                       0.1892      0.100      1.883      0.060      -0.008       0.386\n",
              "SNOW                             0.1509      0.021      7.142      0.000       0.109       0.192\n",
              "UNKNOWN                          0.1527      0.019      8.034      0.000       0.115       0.190\n",
              "ANIMAL                          -0.5589      0.154     -3.630      0.000      -0.861      -0.257\n",
              "FIXED OBJECT                     0.5360      0.021     25.707      0.000       0.495       0.577\n",
              "HEAD ON                          0.3773      0.046      8.270      0.000       0.288       0.467\n",
              "OTHER NONCOLLISION              -0.5805      0.063     -9.240      0.000      -0.704      -0.457\n",
              "OTHER OBJECT                    -0.1536      0.040     -3.845      0.000      -0.232      -0.075\n",
              "OVERTURNED                       1.2686      0.257      4.938      0.000       0.765       1.772\n",
              "PARKED MOTOR VEHICLE             0.0067      0.011      0.635      0.526      -0.014       0.027\n",
              "PEDALCYCLIST                    -2.0133      0.039    -52.066      0.000      -2.089      -1.938\n",
              "PEDESTRIAN                      -1.9392      0.031    -63.454      0.000      -1.999      -1.879\n",
              "REAR TO FRONT                   -0.2116      0.067     -3.142      0.002      -0.344      -0.080\n",
              "REAR TO REAR                    -0.4332      0.140     -3.083      0.002      -0.709      -0.158\n",
              "REAR TO SIDE                    -0.1535      0.083     -1.847      0.065      -0.316       0.009\n",
              "SIDESWIPE OPPOSITE DIRECTION    -0.1775      0.032     -5.606      0.000      -0.240      -0.115\n",
              "SIDESWIPE SAME DIRECTION        -0.1614      0.011    -14.243      0.000      -0.184      -0.139\n",
              "TRAIN                            1.9590      1.043      1.879      0.060      -0.085       4.003\n",
              "TURNING                          0.2791      0.012     22.654      0.000       0.255       0.303\n",
              "================================================================================================\n",
              "\"\"\""
            ]
          },
          "metadata": {
            "tags": []
          },
          "execution_count": 98
        }
      ]
    },
    {
      "cell_type": "markdown",
      "metadata": {
        "id": "qpiRApRc7CRM"
      },
      "source": [
        "The data is too cluttered and confusing to provide effective and efficient answers. I can tell that there are coefficients. I know that those coefficients mean something. I don't remember what. \n",
        "\n",
        "I also forgot what all the categories mean and where they fall. \n",
        "\n",
        "There's got to be a way to do this programmatically that is both reusable and easy. \n",
        "\n",
        "Pedacyclist and Trains have the highest absolute coefficient, we think. Those are both in the crash type category."
      ]
    },
    {
      "cell_type": "markdown",
      "metadata": {
        "id": "2Sf0UuUwjIzg"
      },
      "source": [
        "Create a LogisticRegression model with sklearn. Use the .predict() method (using X_test) to get a y_pred. Create a confusion matrix comparing your actual y_test to your prediction. What do you notice about your type of error?"
      ]
    },
    {
      "cell_type": "code",
      "metadata": {
        "id": "si6gV51qrsHs",
        "outputId": "bbd01cb5-479f-4208-fa50-fdca7fb5c98a",
        "colab": {
          "base_uri": "https://localhost:8080/",
          "height": 100
        }
      },
      "source": [
        "# answer goes here\n",
        "from sklearn.linear_model import LogisticRegression \n",
        "logit = LogisticRegression(max_iter=1000) \n",
        "logit.fit(X_train, y_train)"
      ],
      "execution_count": 104,
      "outputs": [
        {
          "output_type": "execute_result",
          "data": {
            "text/plain": [
              "LogisticRegression(C=1.0, class_weight=None, dual=False, fit_intercept=True,\n",
              "                   intercept_scaling=1, l1_ratio=None, max_iter=1000,\n",
              "                   multi_class='auto', n_jobs=None, penalty='l2',\n",
              "                   random_state=None, solver='lbfgs', tol=0.0001, verbose=0,\n",
              "                   warm_start=False)"
            ]
          },
          "metadata": {
            "tags": []
          },
          "execution_count": 104
        }
      ]
    },
    {
      "cell_type": "code",
      "metadata": {
        "id": "erV_AZA9-rsx",
        "outputId": "55d6f3ff-7bc6-49bd-b350-1d9dd75deff1",
        "colab": {
          "base_uri": "https://localhost:8080/",
          "height": 33
        }
      },
      "source": [
        "y_pred = logit.predict(X_test)\n",
        "y_pred"
      ],
      "execution_count": 105,
      "outputs": [
        {
          "output_type": "execute_result",
          "data": {
            "text/plain": [
              "array([1., 1., 1., ..., 1., 1., 1.])"
            ]
          },
          "metadata": {
            "tags": []
          },
          "execution_count": 105
        }
      ]
    },
    {
      "cell_type": "code",
      "metadata": {
        "id": "DJa-FOOP-0xF",
        "outputId": "8fb89386-264f-4df8-ce4f-e85c5e9bf8db",
        "colab": {
          "base_uri": "https://localhost:8080/",
          "height": 50
        }
      },
      "source": [
        "from sklearn.metrics import confusion_matrix\n",
        "confusion_matrix(y_test, logit.predict(X_test))"
      ],
      "execution_count": 108,
      "outputs": [
        {
          "output_type": "execute_result",
          "data": {
            "text/plain": [
              "array([[ 3714, 27984],\n",
              "       [ 2297, 38502]])"
            ]
          },
          "metadata": {
            "tags": []
          },
          "execution_count": 108
        }
      ]
    },
    {
      "cell_type": "markdown",
      "metadata": {
        "id": "Ntc31Zuo_etZ"
      },
      "source": [
        "There's a lot of positivity in this dataset. There are way more positives than there are negatives. What's the perecentage look like?"
      ]
    }
  ]
}