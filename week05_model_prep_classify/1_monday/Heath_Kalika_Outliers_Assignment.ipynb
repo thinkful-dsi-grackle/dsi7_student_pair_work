{
  "nbformat": 4,
  "nbformat_minor": 0,
  "metadata": {
    "colab": {
      "name": "Heath Kalika Outliers Assignment",
      "provenance": [],
      "collapsed_sections": []
    },
    "kernelspec": {
      "display_name": "Python 3",
      "language": "python",
      "name": "python3"
    },
    "language_info": {
      "codemirror_mode": {
        "name": "ipython",
        "version": 3
      },
      "file_extension": ".py",
      "mimetype": "text/x-python",
      "name": "python",
      "nbconvert_exporter": "python",
      "pygments_lexer": "ipython3",
      "version": "3.7.3"
    }
  },
  "cells": [
    {
      "cell_type": "markdown",
      "metadata": {
        "id": "R76jIygVnkFi"
      },
      "source": [
        "## Day 21 Lecture 2 Assignment\n",
        "\n",
        "In this assignment, we will apply techniques for identifying and dealing with outliers to a dataset containing information about Uber rides."
      ]
    },
    {
      "cell_type": "code",
      "metadata": {
        "id": "QEtvln--nkFj"
      },
      "source": [
        "%matplotlib inline\n",
        "\n",
        "import matplotlib.pyplot as plt\n",
        "import numpy as np\n",
        "import pandas as pd"
      ],
      "execution_count": 37,
      "outputs": []
    },
    {
      "cell_type": "code",
      "metadata": {
        "id": "4pEWovz1nkFl"
      },
      "source": [
        "uber_data = pd.read_csv('https://tf-assets-prod.s3.amazonaws.com/tf-curric/data-science/uber_rides.csv')"
      ],
      "execution_count": 38,
      "outputs": []
    },
    {
      "cell_type": "code",
      "metadata": {
        "id": "pkrBu-8kRS6s",
        "outputId": "a3bf1ff4-1a98-4385-c048-b655afb16cb5",
        "colab": {
          "base_uri": "https://localhost:8080/",
          "height": 204
        }
      },
      "source": [
        "uber_data.head()"
      ],
      "execution_count": 39,
      "outputs": [
        {
          "output_type": "execute_result",
          "data": {
            "text/html": [
              "<div>\n",
              "<style scoped>\n",
              "    .dataframe tbody tr th:only-of-type {\n",
              "        vertical-align: middle;\n",
              "    }\n",
              "\n",
              "    .dataframe tbody tr th {\n",
              "        vertical-align: top;\n",
              "    }\n",
              "\n",
              "    .dataframe thead th {\n",
              "        text-align: right;\n",
              "    }\n",
              "</style>\n",
              "<table border=\"1\" class=\"dataframe\">\n",
              "  <thead>\n",
              "    <tr style=\"text-align: right;\">\n",
              "      <th></th>\n",
              "      <th>trip_uid</th>\n",
              "      <th>trip_time</th>\n",
              "      <th>total_time</th>\n",
              "      <th>wait_time</th>\n",
              "      <th>price_rub</th>\n",
              "      <th>price_usd</th>\n",
              "      <th>distance_kms</th>\n",
              "      <th>temperature_value</th>\n",
              "      <th>feels_like</th>\n",
              "      <th>humidity</th>\n",
              "      <th>wind_speed</th>\n",
              "      <th>cloudness</th>\n",
              "    </tr>\n",
              "  </thead>\n",
              "  <tbody>\n",
              "    <tr>\n",
              "      <th>0</th>\n",
              "      <td>ee89076fd9da9bddf5f096b0ca42f8d5</td>\n",
              "      <td>0:21:33</td>\n",
              "      <td>0:29:00</td>\n",
              "      <td>0:07:27</td>\n",
              "      <td>265</td>\n",
              "      <td>5.17</td>\n",
              "      <td>9.29</td>\n",
              "      <td>12</td>\n",
              "      <td>12</td>\n",
              "      <td>0.69</td>\n",
              "      <td>4.81</td>\n",
              "      <td>0.78</td>\n",
              "    </tr>\n",
              "    <tr>\n",
              "      <th>1</th>\n",
              "      <td>518be51d403944a03c47e8d1f2c87311</td>\n",
              "      <td>0:19:27</td>\n",
              "      <td>0:26:00</td>\n",
              "      <td>0:06:33</td>\n",
              "      <td>255</td>\n",
              "      <td>4.97</td>\n",
              "      <td>9.93</td>\n",
              "      <td>10</td>\n",
              "      <td>10</td>\n",
              "      <td>0.70</td>\n",
              "      <td>6.53</td>\n",
              "      <td>0.66</td>\n",
              "    </tr>\n",
              "    <tr>\n",
              "      <th>2</th>\n",
              "      <td>6e460cc8a12c3c6568d0d4a67ac58393</td>\n",
              "      <td>1:06:53</td>\n",
              "      <td>1:23:00</td>\n",
              "      <td>0:16:07</td>\n",
              "      <td>644</td>\n",
              "      <td>13.01</td>\n",
              "      <td>18.01</td>\n",
              "      <td>14</td>\n",
              "      <td>14</td>\n",
              "      <td>0.61</td>\n",
              "      <td>5.25</td>\n",
              "      <td>0.86</td>\n",
              "    </tr>\n",
              "    <tr>\n",
              "      <th>3</th>\n",
              "      <td>49613a86a04e6c15d72b51d1a2935d81</td>\n",
              "      <td>0:13:37</td>\n",
              "      <td>0:20:00</td>\n",
              "      <td>0:06:23</td>\n",
              "      <td>1287</td>\n",
              "      <td>25.99</td>\n",
              "      <td>5.10</td>\n",
              "      <td>3</td>\n",
              "      <td>3</td>\n",
              "      <td>0.84</td>\n",
              "      <td>0.87</td>\n",
              "      <td>0.56</td>\n",
              "    </tr>\n",
              "    <tr>\n",
              "      <th>4</th>\n",
              "      <td>9896148fdecdb4c5d977a8691510bdb6</td>\n",
              "      <td>0:38:54</td>\n",
              "      <td>0:49:00</td>\n",
              "      <td>0:10:06</td>\n",
              "      <td>665</td>\n",
              "      <td>13.43</td>\n",
              "      <td>21.92</td>\n",
              "      <td>3</td>\n",
              "      <td>1</td>\n",
              "      <td>0.90</td>\n",
              "      <td>1.61</td>\n",
              "      <td>0.31</td>\n",
              "    </tr>\n",
              "  </tbody>\n",
              "</table>\n",
              "</div>"
            ],
            "text/plain": [
              "                           trip_uid trip_time  ... wind_speed cloudness\n",
              "0  ee89076fd9da9bddf5f096b0ca42f8d5   0:21:33  ...       4.81      0.78\n",
              "1  518be51d403944a03c47e8d1f2c87311   0:19:27  ...       6.53      0.66\n",
              "2  6e460cc8a12c3c6568d0d4a67ac58393   1:06:53  ...       5.25      0.86\n",
              "3  49613a86a04e6c15d72b51d1a2935d81   0:13:37  ...       0.87      0.56\n",
              "4  9896148fdecdb4c5d977a8691510bdb6   0:38:54  ...       1.61      0.31\n",
              "\n",
              "[5 rows x 12 columns]"
            ]
          },
          "metadata": {
            "tags": []
          },
          "execution_count": 39
        }
      ]
    },
    {
      "cell_type": "markdown",
      "metadata": {
        "id": "5NS7puiURS6v"
      },
      "source": [
        "Before we identify outliers in the given columns, we need to address three time columns (trip_time, total_time, and wait_time), which are provided as formatted strings (HH:MM:SS) instead of numeric values. Convert the values in these three columns into their numeric equivalents in minutes - \"2:15\" should be converted to \"2.25\", \"1:22:30\" should be converted to \"82.5\", and so on. You may find it helpful to write a function that does this and use the .apply() function to apply it to all of the necessary columns."
      ]
    },
    {
      "cell_type": "code",
      "metadata": {
        "id": "caYPANrJnkFn"
      },
      "source": [
        "# answer goes here\n",
        "uber_data = pd.read_csv('https://tf-assets-prod.s3.amazonaws.com/tf-curric/data-science/uber_rides.csv')\n",
        "\n",
        "def hms_to_minutes(hms):\n",
        "  mins = 0\n",
        "  time = hms.split(':')\n",
        "  mins = (float(time[0]) * 60.0) + float(time[1]) + (float(time[2]) / 60.0)\n",
        "  return mins\n",
        "\n",
        "uber_data['trip_time'] = uber_data['trip_time'].apply(hms_to_minutes)\n",
        "uber_data['total_time'] = uber_data['total_time'].apply(hms_to_minutes)\n",
        "uber_data['wait_time'] = uber_data['wait_time'].apply(hms_to_minutes)\n",
        "\n",
        "\n"
      ],
      "execution_count": 40,
      "outputs": []
    },
    {
      "cell_type": "markdown",
      "metadata": {
        "id": "xA9ellO5nkFn"
      },
      "source": [
        "Plot histograms for each of the column, excluding the trip ID. Which features appear to have outliers? What do you suspect the nature of these outliers is (i.e. do you think these are most likely data errors, or correct values that are simply unusually large or small?)"
      ]
    },
    {
      "cell_type": "code",
      "metadata": {
        "id": "NiYLMnxGnkFp",
        "outputId": "7c11d504-4fc0-41fa-cd95-39bf9a7a5a95",
        "colab": {
          "base_uri": "https://localhost:8080/",
          "height": 913
        }
      },
      "source": [
        "# answer goes here\n",
        "data = uber_data.iloc[:, 1::]\n",
        "fig = plt.figure(figsize = (15,15))\n",
        "ax = fig.gca()\n",
        "data.hist(ax=ax)\n",
        "plt.show()\n",
        "\n"
      ],
      "execution_count": 41,
      "outputs": [
        {
          "output_type": "stream",
          "text": [
            "/usr/local/lib/python3.6/dist-packages/ipykernel_launcher.py:5: UserWarning: To output multiple subplots, the figure containing the passed axes is being cleared\n",
            "  \"\"\"\n"
          ],
          "name": "stderr"
        },
        {
          "output_type": "display_data",
          "data": {
            "image/png": "[encoded data removed]",
            "text/plain": [
              "<Figure size 1080x1080 with 9 Axes>"
            ]
          },
          "metadata": {
            "tags": [],
            "needs_background": "light"
          }
        }
      ]
    },
    {
      "cell_type": "markdown",
      "metadata": {
        "id": "slg-ro8zLn2M"
      },
      "source": [
        "It appears that trip time, total time, wait time, price and distance have outliers. These are most likely correct, as there are uber trips that have issues that lead to long wait times, long drive times, etc..."
      ]
    },
    {
      "cell_type": "markdown",
      "metadata": {
        "id": "ZkttxvvlnkFq"
      },
      "source": [
        "Using Tukey's IQR method and a threshold value of 1.5, how many trips have trip_time values that are identified as outliers? Print these trips out."
      ]
    },
    {
      "cell_type": "code",
      "metadata": {
        "id": "gC5y9EkFnkFr",
        "outputId": "e0a0311e-4a1e-48bf-aef7-a21b46280ac9",
        "colab": {
          "base_uri": "https://localhost:8080/",
          "height": 858
        }
      },
      "source": [
        "# answer goes here\n",
        "threshold = 1.5\n",
        "q75, q25 = np.percentile(uber_data['trip_time'], [75, 25])\n",
        "iqr = q75 - q25\n",
        "minValue = q25 - threshold*iqr\n",
        "maxValue = q75 + threshold*iqr\n",
        "outliers = uber_data.loc[(uber_data['trip_time'] < minValue) | (uber_data['trip_time'] > maxValue)]\n",
        "print(outliers)\n",
        "outliers.describe()\n",
        "\n",
        "\n",
        "\n",
        "\n"
      ],
      "execution_count": 42,
      "outputs": [
        {
          "output_type": "stream",
          "text": [
            "                             trip_uid  trip_time  ...  wind_speed  cloudness\n",
            "2    6e460cc8a12c3c6568d0d4a67ac58393  66.883333  ...        5.25       0.86\n",
            "13   36695e9088a840d3f7476e86294aa846  50.216667  ...        5.11       0.75\n",
            "29   72801dd197d168a38ebaa88875492d60  68.066667  ...        5.75       0.62\n",
            "45   f981dcaa5c7120490cdd38357b78c79c  48.216667  ...        5.95       0.46\n",
            "47   e4004a6b46e6e1556f76f63f295a3f37  62.016667  ...        4.70       0.79\n",
            "79   51785bfdf539132f5304a7ae1e1a6d9e  53.216667  ...        4.67       0.75\n",
            "106  176e430aa7aafb4472cb09677d05fc2b  51.050000  ...        4.82       0.31\n",
            "108  22f1e9c384f584cf65c51555e5428703  85.316667  ...        0.95       0.18\n",
            "117  ab98f8918dff094689ae1657dadb6bbd  71.200000  ...        4.86       0.84\n",
            "201  5383e6be5bc4f5edc74d2a22a422e30f  47.966667  ...        2.64        0.8\n",
            "253  3b47b0f524410e22443ca2a5cb2c7f98  84.800000  ...        1.78       0.88\n",
            "277  7177f2d41364690380434e9e6e89878a  61.283333  ...        6.08       0.99\n",
            "291  a4ce13d42de8a2b630313d60daaaba1c  64.983333  ...        5.50       0.83\n",
            "339  19a8e15f6031b271c80b6d1260d61f73  77.766667  ...        3.13       0.53\n",
            "367  22ea4a2ac44a23f1de9a217d2ac708ee  47.566667  ...        2.41       0.99\n",
            "411  fd3509d4404a17c5516e21dbe7c4bfc3  49.933333  ...        3.92       0.42\n",
            "413  595bd0750d84067687febb818e597053  57.650000  ...        1.10       0.92\n",
            "414  cbe35217f19505bf2a7682bd4dd8b169  58.350000  ...        7.38       0.78\n",
            "432  5500f638ccdb98952b870f4475311a2a  50.066667  ...        4.05       0.83\n",
            "472  a7ff19a74cc8470aa6670149beddc76f  52.833333  ...        4.63        0.9\n",
            "473  b3347d97abf9fa827f8dd0d6ae27d59f  56.933333  ...        3.93       0.88\n",
            "474  8a5a4b9649b5f98d4cebeba4defff548  62.333333  ...        3.88       0.88\n",
            "519  f3d2f80129cf62fe5802eba23fb6ba41  53.116667  ...        2.76          1\n",
            "520  54113e579fd15fee21935a48e5c1f223  61.016667  ...        2.62       0.99\n",
            "590  7093ffa1a1bd8171ca03aac12eb57ba6  74.100000  ...        3.02       0.53\n",
            "591  f13a97c23bbbd1b4b80637bd071e4c86  53.016667  ...        2.27       0.43\n",
            "600  1ada6e66db8ad96c9d069e7e1ddcfd2d  62.533333  ...        3.40       0.61\n",
            "601  2e97a3bdf0528bda50ede3a46964d8b6  67.966667  ...        1.93       0.25\n",
            "646  1380490d2dc0b36d6fecab45039bc5c9  89.783333  ...        5.56       0.26\n",
            "647  126ee5afe4faddbb38d36d1573a92641  49.650000  ...        4.36       0.47\n",
            "\n",
            "[30 rows x 12 columns]\n"
          ],
          "name": "stdout"
        },
        {
          "output_type": "execute_result",
          "data": {
            "text/html": [
              "<div>\n",
              "<style scoped>\n",
              "    .dataframe tbody tr th:only-of-type {\n",
              "        vertical-align: middle;\n",
              "    }\n",
              "\n",
              "    .dataframe tbody tr th {\n",
              "        vertical-align: top;\n",
              "    }\n",
              "\n",
              "    .dataframe thead th {\n",
              "        text-align: right;\n",
              "    }\n",
              "</style>\n",
              "<table border=\"1\" class=\"dataframe\">\n",
              "  <thead>\n",
              "    <tr style=\"text-align: right;\">\n",
              "      <th></th>\n",
              "      <th>trip_time</th>\n",
              "      <th>total_time</th>\n",
              "      <th>wait_time</th>\n",
              "      <th>price_usd</th>\n",
              "      <th>distance_kms</th>\n",
              "      <th>temperature_value</th>\n",
              "      <th>feels_like</th>\n",
              "      <th>humidity</th>\n",
              "      <th>wind_speed</th>\n",
              "    </tr>\n",
              "  </thead>\n",
              "  <tbody>\n",
              "    <tr>\n",
              "      <th>count</th>\n",
              "      <td>30.000000</td>\n",
              "      <td>30.000000</td>\n",
              "      <td>30.000000</td>\n",
              "      <td>30.00000</td>\n",
              "      <td>30.000000</td>\n",
              "      <td>30.000000</td>\n",
              "      <td>30.000000</td>\n",
              "      <td>30.000000</td>\n",
              "      <td>30.000000</td>\n",
              "    </tr>\n",
              "    <tr>\n",
              "      <th>mean</th>\n",
              "      <td>61.327778</td>\n",
              "      <td>72.366667</td>\n",
              "      <td>11.038889</td>\n",
              "      <td>13.31100</td>\n",
              "      <td>24.663667</td>\n",
              "      <td>5.433333</td>\n",
              "      <td>3.066667</td>\n",
              "      <td>0.764333</td>\n",
              "      <td>3.947000</td>\n",
              "    </tr>\n",
              "    <tr>\n",
              "      <th>std</th>\n",
              "      <td>11.863814</td>\n",
              "      <td>13.659614</td>\n",
              "      <td>5.325055</td>\n",
              "      <td>7.14369</td>\n",
              "      <td>11.435657</td>\n",
              "      <td>10.692193</td>\n",
              "      <td>12.945332</td>\n",
              "      <td>0.150119</td>\n",
              "      <td>1.583656</td>\n",
              "    </tr>\n",
              "    <tr>\n",
              "      <th>min</th>\n",
              "      <td>47.566667</td>\n",
              "      <td>56.000000</td>\n",
              "      <td>3.466667</td>\n",
              "      <td>4.20000</td>\n",
              "      <td>9.410000</td>\n",
              "      <td>-11.000000</td>\n",
              "      <td>-15.000000</td>\n",
              "      <td>0.410000</td>\n",
              "      <td>0.950000</td>\n",
              "    </tr>\n",
              "    <tr>\n",
              "      <th>25%</th>\n",
              "      <td>51.495833</td>\n",
              "      <td>61.250000</td>\n",
              "      <td>7.733333</td>\n",
              "      <td>8.99250</td>\n",
              "      <td>15.880000</td>\n",
              "      <td>-2.750000</td>\n",
              "      <td>-6.500000</td>\n",
              "      <td>0.652500</td>\n",
              "      <td>2.670000</td>\n",
              "    </tr>\n",
              "    <tr>\n",
              "      <th>50%</th>\n",
              "      <td>59.683333</td>\n",
              "      <td>69.500000</td>\n",
              "      <td>9.850000</td>\n",
              "      <td>10.73000</td>\n",
              "      <td>20.815000</td>\n",
              "      <td>1.000000</td>\n",
              "      <td>-2.500000</td>\n",
              "      <td>0.810000</td>\n",
              "      <td>3.990000</td>\n",
              "    </tr>\n",
              "    <tr>\n",
              "      <th>75%</th>\n",
              "      <td>67.695833</td>\n",
              "      <td>82.500000</td>\n",
              "      <td>13.675000</td>\n",
              "      <td>15.25000</td>\n",
              "      <td>33.635000</td>\n",
              "      <td>14.750000</td>\n",
              "      <td>14.750000</td>\n",
              "      <td>0.877500</td>\n",
              "      <td>5.047500</td>\n",
              "    </tr>\n",
              "    <tr>\n",
              "      <th>max</th>\n",
              "      <td>89.783333</td>\n",
              "      <td>104.000000</td>\n",
              "      <td>29.883333</td>\n",
              "      <td>33.55000</td>\n",
              "      <td>46.040000</td>\n",
              "      <td>29.000000</td>\n",
              "      <td>31.000000</td>\n",
              "      <td>0.980000</td>\n",
              "      <td>7.380000</td>\n",
              "    </tr>\n",
              "  </tbody>\n",
              "</table>\n",
              "</div>"
            ],
            "text/plain": [
              "       trip_time  total_time  wait_time  ...  feels_like   humidity  wind_speed\n",
              "count  30.000000   30.000000  30.000000  ...   30.000000  30.000000   30.000000\n",
              "mean   61.327778   72.366667  11.038889  ...    3.066667   0.764333    3.947000\n",
              "std    11.863814   13.659614   5.325055  ...   12.945332   0.150119    1.583656\n",
              "min    47.566667   56.000000   3.466667  ...  -15.000000   0.410000    0.950000\n",
              "25%    51.495833   61.250000   7.733333  ...   -6.500000   0.652500    2.670000\n",
              "50%    59.683333   69.500000   9.850000  ...   -2.500000   0.810000    3.990000\n",
              "75%    67.695833   82.500000  13.675000  ...   14.750000   0.877500    5.047500\n",
              "max    89.783333  104.000000  29.883333  ...   31.000000   0.980000    7.380000\n",
              "\n",
              "[8 rows x 9 columns]"
            ]
          },
          "metadata": {
            "tags": []
          },
          "execution_count": 42
        }
      ]
    },
    {
      "cell_type": "markdown",
      "metadata": {
        "id": "YTRmEojPSvAb"
      },
      "source": [
        "There are 30 trips that fall outside the outlier window with a threshold of 1.5 IQR"
      ]
    },
    {
      "cell_type": "markdown",
      "metadata": {
        "id": "4_btClOuRS61"
      },
      "source": [
        "There are various ways of handling outliers, including \"clipping\" (also called \"winsorizing\"). Clip the outliers to the appropriate upper/lower threshold calculated as part of Tukey's method. Plot the histogram for trip_time after clipping; how does it look different?"
      ]
    },
    {
      "cell_type": "code",
      "metadata": {
        "id": "siXVYqAfnkFt",
        "outputId": "37d409a7-6fd0-403e-dc45-eda64303363b",
        "colab": {
          "base_uri": "https://localhost:8080/",
          "height": 282
        }
      },
      "source": [
        "# answer goes here\n",
        "from scipy.stats.mstats import winsorize\n",
        "import scipy.stats as st\n",
        "\n",
        "maxValue = q75 + threshold*iqr\n",
        "percentile = st.percentileofscore(uber_data['trip_time'], maxValue)\n",
        "percentile = (100-percentile)/100\n",
        "\n",
        "winn_con = pd.Series(winsorize(uber_data['trip_time'], percentile))\n",
        "\n",
        "winn_con.hist()\n",
        "plt.show()\n",
        "\n",
        "\n"
      ],
      "execution_count": 36,
      "outputs": [
        {
          "output_type": "stream",
          "text": [
            "47.487500000000004\n"
          ],
          "name": "stdout"
        },
        {
          "output_type": "display_data",
          "data": {
            "image/png": "[encoded data removed]",
            "text/plain": [
              "<Figure size 432x288 with 1 Axes>"
            ]
          },
          "metadata": {
            "tags": [],
            "needs_background": "light"
          }
        }
      ]
    },
    {
      "cell_type": "markdown",
      "metadata": {
        "id": "pPhssVn8SiK7"
      },
      "source": [
        "The new histogram after winsorizing the data has a large spike near the maxValue percentile, as all values greater than the cutoff are lumped together at that value. "
      ]
    }
  ]
}