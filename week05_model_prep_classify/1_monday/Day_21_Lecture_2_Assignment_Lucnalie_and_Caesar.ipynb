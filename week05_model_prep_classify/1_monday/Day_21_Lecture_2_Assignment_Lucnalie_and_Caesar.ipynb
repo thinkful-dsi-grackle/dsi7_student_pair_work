{
  "nbformat": 4,
  "nbformat_minor": 0,
  "metadata": {
    "colab": {
      "name": "Day 21 Lecture 2 Assignment - Lucnalie and Caesar.ipynb",
      "provenance": [],
      "collapsed_sections": []
    },
    "kernelspec": {
      "display_name": "Python 3",
      "language": "python",
      "name": "python3"
    },
    "language_info": {
      "codemirror_mode": {
        "name": "ipython",
        "version": 3
      },
      "file_extension": ".py",
      "mimetype": "text/x-python",
      "name": "python",
      "nbconvert_exporter": "python",
      "pygments_lexer": "ipython3",
      "version": "3.7.3"
    }
  },
  "cells": [
    {
      "cell_type": "markdown",
      "metadata": {
        "id": "R76jIygVnkFi"
      },
      "source": [
        "## Day 21 Lecture 2 Assignment\n",
        "\n",
        "In this assignment, we will apply techniques for identifying and dealing with outliers to a dataset containing information about Uber rides."
      ]
    },
    {
      "cell_type": "code",
      "metadata": {
        "id": "QEtvln--nkFj"
      },
      "source": [
        "%matplotlib inline\n",
        "\n",
        "import matplotlib.pyplot as plt\n",
        "import numpy as np\n",
        "import pandas as pd\n",
        "import math"
      ],
      "execution_count": 22,
      "outputs": []
    },
    {
      "cell_type": "code",
      "metadata": {
        "id": "4pEWovz1nkFl"
      },
      "source": [
        "uber_data = pd.read_csv('https://tf-assets-prod.s3.amazonaws.com/tf-curric/data-science/uber_rides.csv')"
      ],
      "execution_count": 35,
      "outputs": []
    },
    {
      "cell_type": "code",
      "metadata": {
        "id": "pkrBu-8kRS6s",
        "outputId": "65907a20-3bbf-43cd-960a-dcd368f84810",
        "colab": {
          "base_uri": "https://localhost:8080/",
          "height": 204
        }
      },
      "source": [
        "uber_data.head()"
      ],
      "execution_count": 26,
      "outputs": [
        {
          "output_type": "execute_result",
          "data": {
            "text/html": [
              "<div>\n",
              "<style scoped>\n",
              "    .dataframe tbody tr th:only-of-type {\n",
              "        vertical-align: middle;\n",
              "    }\n",
              "\n",
              "    .dataframe tbody tr th {\n",
              "        vertical-align: top;\n",
              "    }\n",
              "\n",
              "    .dataframe thead th {\n",
              "        text-align: right;\n",
              "    }\n",
              "</style>\n",
              "<table border=\"1\" class=\"dataframe\">\n",
              "  <thead>\n",
              "    <tr style=\"text-align: right;\">\n",
              "      <th></th>\n",
              "      <th>trip_uid</th>\n",
              "      <th>trip_time</th>\n",
              "      <th>total_time</th>\n",
              "      <th>wait_time</th>\n",
              "      <th>price_rub</th>\n",
              "      <th>price_usd</th>\n",
              "      <th>distance_kms</th>\n",
              "      <th>temperature_value</th>\n",
              "      <th>feels_like</th>\n",
              "      <th>humidity</th>\n",
              "      <th>wind_speed</th>\n",
              "      <th>cloudness</th>\n",
              "    </tr>\n",
              "  </thead>\n",
              "  <tbody>\n",
              "    <tr>\n",
              "      <th>0</th>\n",
              "      <td>ee89076fd9da9bddf5f096b0ca42f8d5</td>\n",
              "      <td>0:21:33</td>\n",
              "      <td>0:29:00</td>\n",
              "      <td>0:07:27</td>\n",
              "      <td>265</td>\n",
              "      <td>5.17</td>\n",
              "      <td>9.29</td>\n",
              "      <td>12</td>\n",
              "      <td>12</td>\n",
              "      <td>0.69</td>\n",
              "      <td>4.81</td>\n",
              "      <td>0.78</td>\n",
              "    </tr>\n",
              "    <tr>\n",
              "      <th>1</th>\n",
              "      <td>518be51d403944a03c47e8d1f2c87311</td>\n",
              "      <td>0:19:27</td>\n",
              "      <td>0:26:00</td>\n",
              "      <td>0:06:33</td>\n",
              "      <td>255</td>\n",
              "      <td>4.97</td>\n",
              "      <td>9.93</td>\n",
              "      <td>10</td>\n",
              "      <td>10</td>\n",
              "      <td>0.70</td>\n",
              "      <td>6.53</td>\n",
              "      <td>0.66</td>\n",
              "    </tr>\n",
              "    <tr>\n",
              "      <th>2</th>\n",
              "      <td>6e460cc8a12c3c6568d0d4a67ac58393</td>\n",
              "      <td>1:06:53</td>\n",
              "      <td>1:23:00</td>\n",
              "      <td>0:16:07</td>\n",
              "      <td>644</td>\n",
              "      <td>13.01</td>\n",
              "      <td>18.01</td>\n",
              "      <td>14</td>\n",
              "      <td>14</td>\n",
              "      <td>0.61</td>\n",
              "      <td>5.25</td>\n",
              "      <td>0.86</td>\n",
              "    </tr>\n",
              "    <tr>\n",
              "      <th>3</th>\n",
              "      <td>49613a86a04e6c15d72b51d1a2935d81</td>\n",
              "      <td>0:13:37</td>\n",
              "      <td>0:20:00</td>\n",
              "      <td>0:06:23</td>\n",
              "      <td>1287</td>\n",
              "      <td>25.99</td>\n",
              "      <td>5.10</td>\n",
              "      <td>3</td>\n",
              "      <td>3</td>\n",
              "      <td>0.84</td>\n",
              "      <td>0.87</td>\n",
              "      <td>0.56</td>\n",
              "    </tr>\n",
              "    <tr>\n",
              "      <th>4</th>\n",
              "      <td>9896148fdecdb4c5d977a8691510bdb6</td>\n",
              "      <td>0:38:54</td>\n",
              "      <td>0:49:00</td>\n",
              "      <td>0:10:06</td>\n",
              "      <td>665</td>\n",
              "      <td>13.43</td>\n",
              "      <td>21.92</td>\n",
              "      <td>3</td>\n",
              "      <td>1</td>\n",
              "      <td>0.90</td>\n",
              "      <td>1.61</td>\n",
              "      <td>0.31</td>\n",
              "    </tr>\n",
              "  </tbody>\n",
              "</table>\n",
              "</div>"
            ],
            "text/plain": [
              "                           trip_uid trip_time  ... wind_speed cloudness\n",
              "0  ee89076fd9da9bddf5f096b0ca42f8d5   0:21:33  ...       4.81      0.78\n",
              "1  518be51d403944a03c47e8d1f2c87311   0:19:27  ...       6.53      0.66\n",
              "2  6e460cc8a12c3c6568d0d4a67ac58393   1:06:53  ...       5.25      0.86\n",
              "3  49613a86a04e6c15d72b51d1a2935d81   0:13:37  ...       0.87      0.56\n",
              "4  9896148fdecdb4c5d977a8691510bdb6   0:38:54  ...       1.61      0.31\n",
              "\n",
              "[5 rows x 12 columns]"
            ]
          },
          "metadata": {
            "tags": []
          },
          "execution_count": 26
        }
      ]
    },
    {
      "cell_type": "markdown",
      "metadata": {
        "id": "5NS7puiURS6v"
      },
      "source": [
        "Before we identify outliers in the given columns, we need to address three time columns (trip_time, total_time, and wait_time), which are provided as formatted strings (HH:MM:SS) instead of numeric values. Convert the values in these three columns into their numeric equivalents in minutes - \"2:15\" should be converted to \"2.25\", \"1:22:30\" should be converted to \"82.5\", and so on. You may find it helpful to write a function that does this and use the .apply() function to apply it to all of the necessary columns."
      ]
    },
    {
      "cell_type": "code",
      "metadata": {
        "id": "caYPANrJnkFn",
        "outputId": "70d167e3-1f03-486e-db1d-3a31b903f892",
        "colab": {
          "base_uri": "https://localhost:8080/",
          "height": 204
        }
      },
      "source": [
        "uber_copy = uber_data.copy()\n",
        "columns = ['trip_time', 'total_time', 'wait_time']\n",
        "\n",
        "def time_convert(column):\n",
        "    new = []\n",
        "    for text in uber_copy[column]:\n",
        "        time = text.split(':')\n",
        "        final_time = int(time[1]) + (int(time[0])*60) + (int(time[2])/60)\n",
        "        new.append(final_time)\n",
        "    uber_copy.drop([column], axis=1)\n",
        "    uber_copy[column] = new\n",
        "\n",
        "for col in columns: time_convert(col)\n",
        "\n",
        "uber_copy.head()"
      ],
      "execution_count": 99,
      "outputs": [
        {
          "output_type": "execute_result",
          "data": {
            "text/html": [
              "<div>\n",
              "<style scoped>\n",
              "    .dataframe tbody tr th:only-of-type {\n",
              "        vertical-align: middle;\n",
              "    }\n",
              "\n",
              "    .dataframe tbody tr th {\n",
              "        vertical-align: top;\n",
              "    }\n",
              "\n",
              "    .dataframe thead th {\n",
              "        text-align: right;\n",
              "    }\n",
              "</style>\n",
              "<table border=\"1\" class=\"dataframe\">\n",
              "  <thead>\n",
              "    <tr style=\"text-align: right;\">\n",
              "      <th></th>\n",
              "      <th>trip_uid</th>\n",
              "      <th>trip_time</th>\n",
              "      <th>total_time</th>\n",
              "      <th>wait_time</th>\n",
              "      <th>price_rub</th>\n",
              "      <th>price_usd</th>\n",
              "      <th>distance_kms</th>\n",
              "      <th>temperature_value</th>\n",
              "      <th>feels_like</th>\n",
              "      <th>humidity</th>\n",
              "      <th>wind_speed</th>\n",
              "      <th>cloudness</th>\n",
              "    </tr>\n",
              "  </thead>\n",
              "  <tbody>\n",
              "    <tr>\n",
              "      <th>0</th>\n",
              "      <td>ee89076fd9da9bddf5f096b0ca42f8d5</td>\n",
              "      <td>21.550000</td>\n",
              "      <td>29.0</td>\n",
              "      <td>7.450000</td>\n",
              "      <td>265</td>\n",
              "      <td>5.17</td>\n",
              "      <td>9.29</td>\n",
              "      <td>12</td>\n",
              "      <td>12</td>\n",
              "      <td>0.69</td>\n",
              "      <td>4.81</td>\n",
              "      <td>0.78</td>\n",
              "    </tr>\n",
              "    <tr>\n",
              "      <th>1</th>\n",
              "      <td>518be51d403944a03c47e8d1f2c87311</td>\n",
              "      <td>19.450000</td>\n",
              "      <td>26.0</td>\n",
              "      <td>6.550000</td>\n",
              "      <td>255</td>\n",
              "      <td>4.97</td>\n",
              "      <td>9.93</td>\n",
              "      <td>10</td>\n",
              "      <td>10</td>\n",
              "      <td>0.70</td>\n",
              "      <td>6.53</td>\n",
              "      <td>0.66</td>\n",
              "    </tr>\n",
              "    <tr>\n",
              "      <th>2</th>\n",
              "      <td>6e460cc8a12c3c6568d0d4a67ac58393</td>\n",
              "      <td>66.883333</td>\n",
              "      <td>83.0</td>\n",
              "      <td>16.116667</td>\n",
              "      <td>644</td>\n",
              "      <td>13.01</td>\n",
              "      <td>18.01</td>\n",
              "      <td>14</td>\n",
              "      <td>14</td>\n",
              "      <td>0.61</td>\n",
              "      <td>5.25</td>\n",
              "      <td>0.86</td>\n",
              "    </tr>\n",
              "    <tr>\n",
              "      <th>3</th>\n",
              "      <td>49613a86a04e6c15d72b51d1a2935d81</td>\n",
              "      <td>13.616667</td>\n",
              "      <td>20.0</td>\n",
              "      <td>6.383333</td>\n",
              "      <td>1287</td>\n",
              "      <td>25.99</td>\n",
              "      <td>5.10</td>\n",
              "      <td>3</td>\n",
              "      <td>3</td>\n",
              "      <td>0.84</td>\n",
              "      <td>0.87</td>\n",
              "      <td>0.56</td>\n",
              "    </tr>\n",
              "    <tr>\n",
              "      <th>4</th>\n",
              "      <td>9896148fdecdb4c5d977a8691510bdb6</td>\n",
              "      <td>38.900000</td>\n",
              "      <td>49.0</td>\n",
              "      <td>10.100000</td>\n",
              "      <td>665</td>\n",
              "      <td>13.43</td>\n",
              "      <td>21.92</td>\n",
              "      <td>3</td>\n",
              "      <td>1</td>\n",
              "      <td>0.90</td>\n",
              "      <td>1.61</td>\n",
              "      <td>0.31</td>\n",
              "    </tr>\n",
              "  </tbody>\n",
              "</table>\n",
              "</div>"
            ],
            "text/plain": [
              "                           trip_uid  trip_time  ...  wind_speed  cloudness\n",
              "0  ee89076fd9da9bddf5f096b0ca42f8d5  21.550000  ...        4.81       0.78\n",
              "1  518be51d403944a03c47e8d1f2c87311  19.450000  ...        6.53       0.66\n",
              "2  6e460cc8a12c3c6568d0d4a67ac58393  66.883333  ...        5.25       0.86\n",
              "3  49613a86a04e6c15d72b51d1a2935d81  13.616667  ...        0.87       0.56\n",
              "4  9896148fdecdb4c5d977a8691510bdb6  38.900000  ...        1.61       0.31\n",
              "\n",
              "[5 rows x 12 columns]"
            ]
          },
          "metadata": {
            "tags": []
          },
          "execution_count": 99
        }
      ]
    },
    {
      "cell_type": "markdown",
      "metadata": {
        "id": "xA9ellO5nkFn"
      },
      "source": [
        "Plot histograms for each of the column, excluding the trip ID. Which features appear to have outliers? What do you suspect the nature of these outliers is (i.e. do you think these are most likely data errors, or correct values that are simply unusually large or small?)"
      ]
    },
    {
      "cell_type": "code",
      "metadata": {
        "id": "NiYLMnxGnkFp",
        "outputId": "66217e8c-345e-4bb0-8b55-6cdeefefbaa6",
        "colab": {
          "base_uri": "https://localhost:8080/",
          "height": 607
        }
      },
      "source": [
        "uber_copy.hist(column=['trip_time', 'total_time', 'wait_time', 'price_rub', \n",
        "                       'price_usd', 'distance_kms', 'temperature_value', \n",
        "                       'feels_like', 'humidity', 'wind_speed', 'cloudness'], figsize=(15,10))\n",
        "plt.show()"
      ],
      "execution_count": 100,
      "outputs": [
        {
          "output_type": "display_data",
          "data": {
            "image/png": "[encoded data removed]",
            "text/plain": [
              "<Figure size 1080x720 with 9 Axes>"
            ]
          },
          "metadata": {
            "tags": [],
            "needs_background": "light"
          }
        }
      ]
    },
    {
      "cell_type": "markdown",
      "metadata": {
        "id": "6PPBqJvHUAhj"
      },
      "source": [
        "### Which features appear to have outliers? What do you suspect the nature of these outliers is (i.e. do you think these are most likely data errors, or correct values that are simply unusually large or small?)"
      ]
    },
    {
      "cell_type": "markdown",
      "metadata": {
        "id": "pKhGELA1UCNL"
      },
      "source": [
        "*total_time and wait_time appears to have outliers that are correct values that are just unusually large.*"
      ]
    },
    {
      "cell_type": "markdown",
      "metadata": {
        "id": "ZkttxvvlnkFq"
      },
      "source": [
        "Using Tukey's IQR method and a threshold value of 1.5, how many trips have trip_time values that are identified as outliers? Print these trips out."
      ]
    },
    {
      "cell_type": "code",
      "metadata": {
        "id": "gC5y9EkFnkFr",
        "outputId": "1fcc1f44-3d52-4ba2-dd7d-3b8e4e6619a6",
        "colab": {
          "base_uri": "https://localhost:8080/",
          "height": 337
        }
      },
      "source": [
        "tukey = uber_copy.copy()\n",
        "\n",
        "threshold = 1.5\n",
        "q75, q25 = np.percentile(tukey['trip_time'], [75,25])\n",
        "iqr = q75-q25\n",
        "min_val = q25 - (iqr*threshold)\n",
        "max_val = q75 + (iqr*threshold)\n",
        "plt.figure(figsize=(15,5))\n",
        "plt.subplot(1,2,1)\n",
        "tukey[['trip_time']].boxplot(whis=5)\n",
        "plt.title('Trip Time - All Values')\n",
        "plt.subplot(1,2,2)\n",
        "tukey.loc[(tukey['trip_time'] < max_val) &\n",
        "              (tukey['trip_time'] > min_val),\n",
        "              ['trip_time']].boxplot(whis=5)\n",
        "plt.title('Trip Time | t = 1.5')\n",
        "plt.show()"
      ],
      "execution_count": 110,
      "outputs": [
        {
          "output_type": "display_data",
          "data": {
            "image/png": "[encoded data removed]",
            "text/plain": [
              "<Figure size 1080x360 with 2 Axes>"
            ]
          },
          "metadata": {
            "tags": [],
            "needs_background": "light"
          }
        }
      ]
    },
    {
      "cell_type": "markdown",
      "metadata": {
        "id": "12fCkF0TVb8x"
      },
      "source": [
        "*There are no outliers on trip_time after setting the threshold to 1.5*"
      ]
    },
    {
      "cell_type": "markdown",
      "metadata": {
        "id": "4_btClOuRS61"
      },
      "source": [
        "There are various ways of handling outliers, including \"clipping\" (also called \"winsorizing\"). Clip the outliers to the appropriate upper/lower threshold calculated as part of Tukey's method. Plot the histogram for trip_time after clipping; how does it look different?"
      ]
    },
    {
      "cell_type": "code",
      "metadata": {
        "id": "siXVYqAfnkFt",
        "outputId": "8f486b01-24c1-4f86-d696-2979a140cd17",
        "colab": {
          "base_uri": "https://localhost:8080/",
          "height": 337
        }
      },
      "source": [
        "plt.figure(figsize=(15,5))\n",
        "plt.subplot(1,2,1)\n",
        "uber_copy[['wait_time']].boxplot(whis=5)\n",
        "plt.title('Waiting Time - All Values')\n",
        "plt.show()"
      ],
      "execution_count": 119,
      "outputs": [
        {
          "output_type": "display_data",
          "data": {
            "image/png": "[encoded data removed]",
            "text/plain": [
              "<Figure size 1080x360 with 1 Axes>"
            ]
          },
          "metadata": {
            "tags": [],
            "needs_background": "light"
          }
        }
      ]
    },
    {
      "cell_type": "code",
      "metadata": {
        "id": "cj_AdvO-X4WK"
      },
      "source": [
        "from scipy.stats.mstats import winsorize"
      ],
      "execution_count": 121,
      "outputs": []
    },
    {
      "cell_type": "code",
      "metadata": {
        "id": "PAJrHWqqWbl7"
      },
      "source": [
        "# winsorization happens here\n",
        "winsorized_wait = winsorize(uber_copy['wait_time'], (0, 0.05))"
      ],
      "execution_count": 123,
      "outputs": []
    },
    {
      "cell_type": "code",
      "metadata": {
        "id": "ruEmbZt2X2mB",
        "outputId": "7ac44e9c-425a-4c9d-8b4e-26e5e13f2f7b",
        "colab": {
          "base_uri": "https://localhost:8080/",
          "height": 336
        }
      },
      "source": [
        "plt.figure(figsize=(8,5))\n",
        "plt.boxplot(winsorized_wait, whis = 5)\n",
        "plt.title('Waiting Time - Winsorized to 95th percentile')\n",
        "plt.show()"
      ],
      "execution_count": 126,
      "outputs": [
        {
          "output_type": "display_data",
          "data": {
            "image/png": "[encoded data removed]",
            "text/plain": [
              "<Figure size 576x360 with 1 Axes>"
            ]
          },
          "metadata": {
            "tags": [],
            "needs_background": "light"
          }
        }
      ]
    }
  ]
}