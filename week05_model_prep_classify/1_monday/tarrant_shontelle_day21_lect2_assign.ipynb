{
  "nbformat": 4,
  "nbformat_minor": 0,
  "metadata": {
    "colab": {
      "name": "tarrant_shontelle_day21_lect2_assign.ipynb",
      "provenance": [],
      "collapsed_sections": []
    },
    "kernelspec": {
      "display_name": "Python 3",
      "language": "python",
      "name": "python3"
    },
    "language_info": {
      "codemirror_mode": {
        "name": "ipython",
        "version": 3
      },
      "file_extension": ".py",
      "mimetype": "text/x-python",
      "name": "python",
      "nbconvert_exporter": "python",
      "pygments_lexer": "ipython3",
      "version": "3.7.3"
    }
  },
  "cells": [
    {
      "cell_type": "markdown",
      "metadata": {
        "id": "R76jIygVnkFi"
      },
      "source": [
        "## Day 21 Lecture 2 Assignment\n",
        "\n",
        "In this assignment, we will apply techniques for identifying and dealing with outliers to a dataset containing information about Uber rides."
      ]
    },
    {
      "cell_type": "code",
      "metadata": {
        "id": "QEtvln--nkFj"
      },
      "source": [
        "%matplotlib inline\n",
        "\n",
        "import matplotlib.pyplot as plt\n",
        "import numpy as np\n",
        "import pandas as pd"
      ],
      "execution_count": 1,
      "outputs": []
    },
    {
      "cell_type": "code",
      "metadata": {
        "id": "4pEWovz1nkFl"
      },
      "source": [
        "uber_data = pd.read_csv('https://tf-assets-prod.s3.amazonaws.com/tf-curric/data-science/uber_rides.csv')"
      ],
      "execution_count": 2,
      "outputs": []
    },
    {
      "cell_type": "code",
      "metadata": {
        "id": "pkrBu-8kRS6s",
        "outputId": "c3b38b3c-fe52-43ae-c05f-c62704328239",
        "colab": {
          "base_uri": "https://localhost:8080/",
          "height": 224
        }
      },
      "source": [
        "uber_data.head()"
      ],
      "execution_count": 3,
      "outputs": [
        {
          "output_type": "execute_result",
          "data": {
            "text/html": [
              "<div>\n",
              "<style scoped>\n",
              "    .dataframe tbody tr th:only-of-type {\n",
              "        vertical-align: middle;\n",
              "    }\n",
              "\n",
              "    .dataframe tbody tr th {\n",
              "        vertical-align: top;\n",
              "    }\n",
              "\n",
              "    .dataframe thead th {\n",
              "        text-align: right;\n",
              "    }\n",
              "</style>\n",
              "<table border=\"1\" class=\"dataframe\">\n",
              "  <thead>\n",
              "    <tr style=\"text-align: right;\">\n",
              "      <th></th>\n",
              "      <th>trip_uid</th>\n",
              "      <th>trip_time</th>\n",
              "      <th>total_time</th>\n",
              "      <th>wait_time</th>\n",
              "      <th>price_rub</th>\n",
              "      <th>price_usd</th>\n",
              "      <th>distance_kms</th>\n",
              "      <th>temperature_value</th>\n",
              "      <th>feels_like</th>\n",
              "      <th>humidity</th>\n",
              "      <th>wind_speed</th>\n",
              "      <th>cloudness</th>\n",
              "    </tr>\n",
              "  </thead>\n",
              "  <tbody>\n",
              "    <tr>\n",
              "      <th>0</th>\n",
              "      <td>ee89076fd9da9bddf5f096b0ca42f8d5</td>\n",
              "      <td>0:21:33</td>\n",
              "      <td>0:29:00</td>\n",
              "      <td>0:07:27</td>\n",
              "      <td>265</td>\n",
              "      <td>5.17</td>\n",
              "      <td>9.29</td>\n",
              "      <td>12</td>\n",
              "      <td>12</td>\n",
              "      <td>0.69</td>\n",
              "      <td>4.81</td>\n",
              "      <td>0.78</td>\n",
              "    </tr>\n",
              "    <tr>\n",
              "      <th>1</th>\n",
              "      <td>518be51d403944a03c47e8d1f2c87311</td>\n",
              "      <td>0:19:27</td>\n",
              "      <td>0:26:00</td>\n",
              "      <td>0:06:33</td>\n",
              "      <td>255</td>\n",
              "      <td>4.97</td>\n",
              "      <td>9.93</td>\n",
              "      <td>10</td>\n",
              "      <td>10</td>\n",
              "      <td>0.70</td>\n",
              "      <td>6.53</td>\n",
              "      <td>0.66</td>\n",
              "    </tr>\n",
              "    <tr>\n",
              "      <th>2</th>\n",
              "      <td>6e460cc8a12c3c6568d0d4a67ac58393</td>\n",
              "      <td>1:06:53</td>\n",
              "      <td>1:23:00</td>\n",
              "      <td>0:16:07</td>\n",
              "      <td>644</td>\n",
              "      <td>13.01</td>\n",
              "      <td>18.01</td>\n",
              "      <td>14</td>\n",
              "      <td>14</td>\n",
              "      <td>0.61</td>\n",
              "      <td>5.25</td>\n",
              "      <td>0.86</td>\n",
              "    </tr>\n",
              "    <tr>\n",
              "      <th>3</th>\n",
              "      <td>49613a86a04e6c15d72b51d1a2935d81</td>\n",
              "      <td>0:13:37</td>\n",
              "      <td>0:20:00</td>\n",
              "      <td>0:06:23</td>\n",
              "      <td>1287</td>\n",
              "      <td>25.99</td>\n",
              "      <td>5.10</td>\n",
              "      <td>3</td>\n",
              "      <td>3</td>\n",
              "      <td>0.84</td>\n",
              "      <td>0.87</td>\n",
              "      <td>0.56</td>\n",
              "    </tr>\n",
              "    <tr>\n",
              "      <th>4</th>\n",
              "      <td>9896148fdecdb4c5d977a8691510bdb6</td>\n",
              "      <td>0:38:54</td>\n",
              "      <td>0:49:00</td>\n",
              "      <td>0:10:06</td>\n",
              "      <td>665</td>\n",
              "      <td>13.43</td>\n",
              "      <td>21.92</td>\n",
              "      <td>3</td>\n",
              "      <td>1</td>\n",
              "      <td>0.90</td>\n",
              "      <td>1.61</td>\n",
              "      <td>0.31</td>\n",
              "    </tr>\n",
              "  </tbody>\n",
              "</table>\n",
              "</div>"
            ],
            "text/plain": [
              "                           trip_uid trip_time  ... wind_speed cloudness\n",
              "0  ee89076fd9da9bddf5f096b0ca42f8d5   0:21:33  ...       4.81      0.78\n",
              "1  518be51d403944a03c47e8d1f2c87311   0:19:27  ...       6.53      0.66\n",
              "2  6e460cc8a12c3c6568d0d4a67ac58393   1:06:53  ...       5.25      0.86\n",
              "3  49613a86a04e6c15d72b51d1a2935d81   0:13:37  ...       0.87      0.56\n",
              "4  9896148fdecdb4c5d977a8691510bdb6   0:38:54  ...       1.61      0.31\n",
              "\n",
              "[5 rows x 12 columns]"
            ]
          },
          "metadata": {
            "tags": []
          },
          "execution_count": 3
        }
      ]
    },
    {
      "cell_type": "markdown",
      "metadata": {
        "id": "5NS7puiURS6v"
      },
      "source": [
        "Before we identify outliers in the given columns, we need to address three time columns (trip_time, total_time, and wait_time), which are provided as formatted strings (HH:MM:SS) instead of numeric values. Convert the values in these three columns into their numeric equivalents in minutes - \"2:15\" should be converted to \"2.25\", \"1:22:30\" should be converted to \"82.5\", and so on. You may find it helpful to write a function that does this and use the .apply() function to apply it to all of the necessary columns."
      ]
    },
    {
      "cell_type": "code",
      "metadata": {
        "id": "caYPANrJnkFn"
      },
      "source": [
        "# answer goes here\n",
        "uber_data['trip_time'] = uber_data['trip_time'].str.split(':').apply(lambda x: round(int(x[0]) * 60 + int(x[1]) + (float(x[2]) / 60), 2))\n",
        "uber_data['total_time'] = uber_data['total_time'].str.split(':').apply(lambda x: round(int(x[0]) * 60 + int(x[1]) + (float(x[2]) / 60), 2))\n",
        "uber_data['wait_time'] = uber_data['wait_time'].str.split(':').apply(lambda x: round(int(x[0]) * 60 + int(x[1]) + (float(x[2]) / 60), 2))"
      ],
      "execution_count": 29,
      "outputs": []
    },
    {
      "cell_type": "code",
      "metadata": {
        "id": "beOqc4hQEOge",
        "outputId": "520df6e5-75c0-4a4d-f071-d06fad02ee4e",
        "colab": {
          "base_uri": "https://localhost:8080/",
          "height": 224
        }
      },
      "source": [
        "uber_data.head()"
      ],
      "execution_count": 30,
      "outputs": [
        {
          "output_type": "execute_result",
          "data": {
            "text/html": [
              "<div>\n",
              "<style scoped>\n",
              "    .dataframe tbody tr th:only-of-type {\n",
              "        vertical-align: middle;\n",
              "    }\n",
              "\n",
              "    .dataframe tbody tr th {\n",
              "        vertical-align: top;\n",
              "    }\n",
              "\n",
              "    .dataframe thead th {\n",
              "        text-align: right;\n",
              "    }\n",
              "</style>\n",
              "<table border=\"1\" class=\"dataframe\">\n",
              "  <thead>\n",
              "    <tr style=\"text-align: right;\">\n",
              "      <th></th>\n",
              "      <th>trip_uid</th>\n",
              "      <th>trip_time</th>\n",
              "      <th>total_time</th>\n",
              "      <th>wait_time</th>\n",
              "      <th>price_rub</th>\n",
              "      <th>price_usd</th>\n",
              "      <th>distance_kms</th>\n",
              "      <th>temperature_value</th>\n",
              "      <th>feels_like</th>\n",
              "      <th>humidity</th>\n",
              "      <th>wind_speed</th>\n",
              "      <th>cloudness</th>\n",
              "    </tr>\n",
              "  </thead>\n",
              "  <tbody>\n",
              "    <tr>\n",
              "      <th>0</th>\n",
              "      <td>ee89076fd9da9bddf5f096b0ca42f8d5</td>\n",
              "      <td>21.55</td>\n",
              "      <td>29.0</td>\n",
              "      <td>7.45</td>\n",
              "      <td>265</td>\n",
              "      <td>5.17</td>\n",
              "      <td>9.29</td>\n",
              "      <td>12</td>\n",
              "      <td>12</td>\n",
              "      <td>0.69</td>\n",
              "      <td>4.81</td>\n",
              "      <td>0.78</td>\n",
              "    </tr>\n",
              "    <tr>\n",
              "      <th>1</th>\n",
              "      <td>518be51d403944a03c47e8d1f2c87311</td>\n",
              "      <td>19.45</td>\n",
              "      <td>26.0</td>\n",
              "      <td>6.55</td>\n",
              "      <td>255</td>\n",
              "      <td>4.97</td>\n",
              "      <td>9.93</td>\n",
              "      <td>10</td>\n",
              "      <td>10</td>\n",
              "      <td>0.70</td>\n",
              "      <td>6.53</td>\n",
              "      <td>0.66</td>\n",
              "    </tr>\n",
              "    <tr>\n",
              "      <th>2</th>\n",
              "      <td>6e460cc8a12c3c6568d0d4a67ac58393</td>\n",
              "      <td>66.88</td>\n",
              "      <td>83.0</td>\n",
              "      <td>16.12</td>\n",
              "      <td>644</td>\n",
              "      <td>13.01</td>\n",
              "      <td>18.01</td>\n",
              "      <td>14</td>\n",
              "      <td>14</td>\n",
              "      <td>0.61</td>\n",
              "      <td>5.25</td>\n",
              "      <td>0.86</td>\n",
              "    </tr>\n",
              "    <tr>\n",
              "      <th>3</th>\n",
              "      <td>49613a86a04e6c15d72b51d1a2935d81</td>\n",
              "      <td>13.62</td>\n",
              "      <td>20.0</td>\n",
              "      <td>6.38</td>\n",
              "      <td>1287</td>\n",
              "      <td>25.99</td>\n",
              "      <td>5.10</td>\n",
              "      <td>3</td>\n",
              "      <td>3</td>\n",
              "      <td>0.84</td>\n",
              "      <td>0.87</td>\n",
              "      <td>0.56</td>\n",
              "    </tr>\n",
              "    <tr>\n",
              "      <th>4</th>\n",
              "      <td>9896148fdecdb4c5d977a8691510bdb6</td>\n",
              "      <td>38.90</td>\n",
              "      <td>49.0</td>\n",
              "      <td>10.10</td>\n",
              "      <td>665</td>\n",
              "      <td>13.43</td>\n",
              "      <td>21.92</td>\n",
              "      <td>3</td>\n",
              "      <td>1</td>\n",
              "      <td>0.90</td>\n",
              "      <td>1.61</td>\n",
              "      <td>0.31</td>\n",
              "    </tr>\n",
              "  </tbody>\n",
              "</table>\n",
              "</div>"
            ],
            "text/plain": [
              "                           trip_uid  trip_time  ...  wind_speed  cloudness\n",
              "0  ee89076fd9da9bddf5f096b0ca42f8d5      21.55  ...        4.81       0.78\n",
              "1  518be51d403944a03c47e8d1f2c87311      19.45  ...        6.53       0.66\n",
              "2  6e460cc8a12c3c6568d0d4a67ac58393      66.88  ...        5.25       0.86\n",
              "3  49613a86a04e6c15d72b51d1a2935d81      13.62  ...        0.87       0.56\n",
              "4  9896148fdecdb4c5d977a8691510bdb6      38.90  ...        1.61       0.31\n",
              "\n",
              "[5 rows x 12 columns]"
            ]
          },
          "metadata": {
            "tags": []
          },
          "execution_count": 30
        }
      ]
    },
    {
      "cell_type": "markdown",
      "metadata": {
        "id": "xA9ellO5nkFn"
      },
      "source": [
        "Plot histograms for each of the column, excluding the trip ID. Which features appear to have outliers? What do you suspect the nature of these outliers is (i.e. do you think these are most likely data errors, or correct values that are simply unusually large or small?)"
      ]
    },
    {
      "cell_type": "code",
      "metadata": {
        "id": "NiYLMnxGnkFp",
        "outputId": "89d95182-ce3f-46e2-ec59-e8db578a616c",
        "colab": {
          "base_uri": "https://localhost:8080/",
          "height": 337
        }
      },
      "source": [
        "# answer goes here\n",
        "plt.figure(figsize=[15,5])\n",
        "plt.subplot(1,3,1)\n",
        "plt.hist(uber_data['trip_time'])\n",
        "plt.title('trip time')\n",
        "plt.subplot(1,3,2)\n",
        "plt.hist(uber_data['total_time'])\n",
        "plt.title('total time')\n",
        "plt.subplot(1,3,3)\n",
        "plt.hist('wait_time')\n",
        "plt.title('wait time')\n",
        "plt.show()"
      ],
      "execution_count": 41,
      "outputs": [
        {
          "output_type": "display_data",
          "data": {
            "image/png": "[encoded data removed]",
            "text/plain": [
              "<Figure size 1080x360 with 3 Axes>"
            ]
          },
          "metadata": {
            "tags": [],
            "needs_background": "light"
          }
        }
      ]
    },
    {
      "cell_type": "code",
      "metadata": {
        "id": "Uq5_rKolGrIC",
        "outputId": "e922c72e-6941-4fdd-968e-c4912bff5ba5",
        "colab": {
          "base_uri": "https://localhost:8080/",
          "height": 337
        }
      },
      "source": [
        "plt.figure(figsize=[15,5])\n",
        "plt.subplot(1,3,1)\n",
        "plt.hist('price_rub')\n",
        "plt.title('price rub')\n",
        "plt.subplot(1,3,2)\n",
        "plt.hist('price_usd')\n",
        "plt.title('price usd')\n",
        "plt.subplot(1,3,3)\n",
        "plt.hist('distance_kms')\n",
        "plt.title('distance kms')\n",
        "plt.show()"
      ],
      "execution_count": 40,
      "outputs": [
        {
          "output_type": "display_data",
          "data": {
            "image/png": "[encoded data removed]",
            "text/plain": [
              "<Figure size 1080x360 with 3 Axes>"
            ]
          },
          "metadata": {
            "tags": [],
            "needs_background": "light"
          }
        }
      ]
    },
    {
      "cell_type": "code",
      "metadata": {
        "id": "doqERfY2HGDm",
        "outputId": "d75dc37f-014f-4a6c-ed63-5e3141d765d0",
        "colab": {
          "base_uri": "https://localhost:8080/",
          "height": 337
        }
      },
      "source": [
        "plt.figure(figsize=[15,5])\n",
        "plt.subplot(1,3,1)\n",
        "plt.hist('temperature_value')\n",
        "plt.title('temperature')\n",
        "plt.subplot(1,3,2)\n",
        "plt.hist('feels_like')\n",
        "plt.title('feels like')\n",
        "plt.subplot(1,3,3)\n",
        "plt.hist('humidty')\n",
        "plt.title('humidty')\n",
        "plt.show()"
      ],
      "execution_count": 39,
      "outputs": [
        {
          "output_type": "display_data",
          "data": {
            "image/png": "[encoded data removed]",
            "text/plain": [
              "<Figure size 1080x360 with 3 Axes>"
            ]
          },
          "metadata": {
            "tags": [],
            "needs_background": "light"
          }
        }
      ]
    },
    {
      "cell_type": "code",
      "metadata": {
        "id": "FzcmFyHzE4XD",
        "outputId": "60ee2627-a139-481c-d88e-4d0c87f6e0e7",
        "colab": {
          "base_uri": "https://localhost:8080/",
          "height": 337
        }
      },
      "source": [
        "plt.figure(figsize=[15,5])\n",
        "plt.subplot(1,2,1)\n",
        "plt.hist('wind_speed')\n",
        "plt.title('wind speed')\n",
        "plt.subplot(1,2,2)\n",
        "plt.hist('cloudness')\n",
        "plt.title('cloudness')\n",
        "plt.show()"
      ],
      "execution_count": 38,
      "outputs": [
        {
          "output_type": "display_data",
          "data": {
            "image/png": "[encoded data removed]",
            "text/plain": [
              "<Figure size 1080x360 with 2 Axes>"
            ]
          },
          "metadata": {
            "tags": [],
            "needs_background": "light"
          }
        }
      ]
    },
    {
      "cell_type": "markdown",
      "metadata": {
        "id": "ZkttxvvlnkFq"
      },
      "source": [
        "Using Tukey's IQR method and a threshold value of 1.5, how many trips have trip_time values that are identified as outliers? Print these trips out."
      ]
    },
    {
      "cell_type": "code",
      "metadata": {
        "id": "gC5y9EkFnkFr",
        "outputId": "c7138935-c8ec-401e-f168-cba741aa2487",
        "colab": {
          "base_uri": "https://localhost:8080/",
          "height": 85
        }
      },
      "source": [
        "# answer goes here\n",
        "threshold = 1.5\n",
        "q75, q25 = np.percentile(uber_data['trip_time'], [75 ,25])\n",
        "iqr = q75 - q25\n",
        "min_val = q25 - (iqr*threshold)\n",
        "max_val = q75 + (iqr*threshold)\n",
        "    \n",
        "print(\"The score threshold is: {}\".format(threshold))\n",
        "print(\"Number of outliers is: {}\".format(\n",
        "      len((np.where((uber_data['trip_time'] > max_val) \n",
        "                    | (uber_data['trip_time'] < min_val))[0]))\n",
        "    ))\n",
        "\n",
        "\n",
        "print(((np.where((uber_data['trip_time'] > max_val) \n",
        "                    | (uber_data['trip_time'] < min_val))[0]))\n",
        "    )"
      ],
      "execution_count": 44,
      "outputs": [
        {
          "output_type": "stream",
          "text": [
            "The score threshold is: 1.5\n",
            "Number of outliers is: 30\n",
            "[  2  13  29  45  47  79 106 108 117 201 253 277 291 339 367 411 413 414\n",
            " 432 472 473 474 519 520 590 591 600 601 646 647]\n"
          ],
          "name": "stdout"
        }
      ]
    },
    {
      "cell_type": "code",
      "metadata": {
        "id": "plopE0EqK2xD",
        "outputId": "7c2bf813-1873-4801-8a64-40cda23a10d0",
        "colab": {
          "base_uri": "https://localhost:8080/",
          "height": 34
        }
      },
      "source": [
        "q75, q25"
      ],
      "execution_count": 48,
      "outputs": [
        {
          "output_type": "execute_result",
          "data": {
            "text/plain": [
              "(26.4725, 12.47)"
            ]
          },
          "metadata": {
            "tags": []
          },
          "execution_count": 48
        }
      ]
    },
    {
      "cell_type": "markdown",
      "metadata": {
        "id": "4_btClOuRS61"
      },
      "source": [
        "There are various ways of handling outliers, including \"clipping\" (also called \"winsorizing\"). Clip the outliers to the appropriate upper/lower threshold calculated as part of Tukey's method. Plot the histogram for trip_time after clipping; how does it look different?"
      ]
    },
    {
      "cell_type": "code",
      "metadata": {
        "id": "siXVYqAfnkFt",
        "outputId": "b3b8ac59-c337-4410-a445-29910f00bc09",
        "colab": {
          "base_uri": "https://localhost:8080/",
          "height": 336
        }
      },
      "source": [
        "# answer goes here\n",
        "from scipy.stats.mstats import winsorize\n",
        "\n",
        "winsorized_views = winsorize(uber_data['trip_time'], (0.05, 0.05))\n",
        "\n",
        "winsorized_views\n",
        "plt.figure(figsize=[10,5])\n",
        "plt.subplot(1,2,1)\n",
        "plt.hist(winsorized_views)\n",
        "plt.title('winsorized view')\n",
        "plt.subplot(1,2,2)\n",
        "plt.hist(uber_data['trip_time'])\n",
        "plt.title('trip time')\n",
        "plt.show()\n"
      ],
      "execution_count": 57,
      "outputs": [
        {
          "output_type": "display_data",
          "data": {
            "image/png": "[encoded data removed]",
            "text/plain": [
              "<Figure size 720x360 with 2 Axes>"
            ]
          },
          "metadata": {
            "tags": [],
            "needs_background": "light"
          }
        }
      ]
    },
    {
      "cell_type": "code",
      "metadata": {
        "id": "g6Mmb_RWLfgI"
      },
      "source": [
        ""
      ],
      "execution_count": null,
      "outputs": []
    }
  ]
}