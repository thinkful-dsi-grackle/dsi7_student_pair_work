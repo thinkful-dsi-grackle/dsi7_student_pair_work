{
  "nbformat": 4,
  "nbformat_minor": 0,
  "metadata": {
    "colab": {
      "name": "Day 21 Lecture 1 Assignment.ipynb",
      "provenance": [],
      "collapsed_sections": []
    },
    "kernelspec": {
      "display_name": "Python 3",
      "language": "python",
      "name": "python3"
    },
    "language_info": {
      "codemirror_mode": {
        "name": "ipython",
        "version": 3
      },
      "file_extension": ".py",
      "mimetype": "text/x-python",
      "name": "python",
      "nbconvert_exporter": "python",
      "pygments_lexer": "ipython3",
      "version": "3.7.3"
    }
  },
  "cells": [
    {
      "cell_type": "markdown",
      "metadata": {
        "id": "Zrf-3-WBni8C"
      },
      "source": [
        "## Day 21 Lecture 1 Assignment\n",
        "\n",
        "In this assignment, we will analyze the data types and missingness of values in the Chicago traffic crashes dataset."
      ]
    },
    {
      "cell_type": "code",
      "metadata": {
        "id": "gqWRoLL-ni8D"
      },
      "source": [
        "%matplotlib inline\n",
        "\n",
        "import matplotlib.pyplot as plt\n",
        "import numpy as np\n",
        "import pandas as pd"
      ],
      "execution_count": 200,
      "outputs": []
    },
    {
      "cell_type": "code",
      "metadata": {
        "id": "wSzfEaauni8F"
      },
      "source": [
        "crash_data = pd.read_csv('https://tf-assets-prod.s3.amazonaws.com/tf-curric/data-science/traffic_crashes_chicago.csv')"
      ],
      "execution_count": 201,
      "outputs": []
    },
    {
      "cell_type": "code",
      "metadata": {
        "id": "1JRr0EDJni8G",
        "outputId": "dfbb9d13-288c-4dc8-85b2-87d5d66271f6",
        "colab": {
          "base_uri": "https://localhost:8080/",
          "height": 394
        }
      },
      "source": [
        "crash_data.head()"
      ],
      "execution_count": 202,
      "outputs": [
        {
          "output_type": "execute_result",
          "data": {
            "text/html": [
              "<div>\n",
              "<style scoped>\n",
              "    .dataframe tbody tr th:only-of-type {\n",
              "        vertical-align: middle;\n",
              "    }\n",
              "\n",
              "    .dataframe tbody tr th {\n",
              "        vertical-align: top;\n",
              "    }\n",
              "\n",
              "    .dataframe thead th {\n",
              "        text-align: right;\n",
              "    }\n",
              "</style>\n",
              "<table border=\"1\" class=\"dataframe\">\n",
              "  <thead>\n",
              "    <tr style=\"text-align: right;\">\n",
              "      <th></th>\n",
              "      <th>RD_NO</th>\n",
              "      <th>CRASH_DATE</th>\n",
              "      <th>POSTED_SPEED_LIMIT</th>\n",
              "      <th>TRAFFIC_CONTROL_DEVICE</th>\n",
              "      <th>DEVICE_CONDITION</th>\n",
              "      <th>WEATHER_CONDITION</th>\n",
              "      <th>LIGHTING_CONDITION</th>\n",
              "      <th>FIRST_CRASH_TYPE</th>\n",
              "      <th>TRAFFICWAY_TYPE</th>\n",
              "      <th>LANE_CNT</th>\n",
              "      <th>ALIGNMENT</th>\n",
              "      <th>ROADWAY_SURFACE_COND</th>\n",
              "      <th>ROAD_DEFECT</th>\n",
              "      <th>REPORT_TYPE</th>\n",
              "      <th>CRASH_TYPE</th>\n",
              "      <th>INTERSECTION_RELATED_I</th>\n",
              "      <th>NOT_RIGHT_OF_WAY_I</th>\n",
              "      <th>HIT_AND_RUN_I</th>\n",
              "      <th>DAMAGE</th>\n",
              "      <th>DATE_POLICE_NOTIFIED</th>\n",
              "      <th>PRIM_CONTRIBUTORY_CAUSE</th>\n",
              "      <th>SEC_CONTRIBUTORY_CAUSE</th>\n",
              "      <th>STREET_NO</th>\n",
              "      <th>STREET_DIRECTION</th>\n",
              "      <th>STREET_NAME</th>\n",
              "      <th>BEAT_OF_OCCURRENCE</th>\n",
              "      <th>PHOTOS_TAKEN_I</th>\n",
              "      <th>STATEMENTS_TAKEN_I</th>\n",
              "      <th>DOORING_I</th>\n",
              "      <th>WORK_ZONE_I</th>\n",
              "      <th>WORK_ZONE_TYPE</th>\n",
              "      <th>WORKERS_PRESENT_I</th>\n",
              "      <th>NUM_UNITS</th>\n",
              "      <th>MOST_SEVERE_INJURY</th>\n",
              "      <th>INJURIES_TOTAL</th>\n",
              "      <th>INJURIES_FATAL</th>\n",
              "      <th>INJURIES_INCAPACITATING</th>\n",
              "      <th>INJURIES_NON_INCAPACITATING</th>\n",
              "      <th>INJURIES_REPORTED_NOT_EVIDENT</th>\n",
              "      <th>INJURIES_NO_INDICATION</th>\n",
              "      <th>INJURIES_UNKNOWN</th>\n",
              "    </tr>\n",
              "  </thead>\n",
              "  <tbody>\n",
              "    <tr>\n",
              "      <th>0</th>\n",
              "      <td>JC334993</td>\n",
              "      <td>7/4/2019 22:33</td>\n",
              "      <td>45</td>\n",
              "      <td>NO CONTROLS</td>\n",
              "      <td>NO CONTROLS</td>\n",
              "      <td>CLEAR</td>\n",
              "      <td>DARKNESS, LIGHTED ROAD</td>\n",
              "      <td>REAR END</td>\n",
              "      <td>DIVIDED - W/MEDIAN BARRIER</td>\n",
              "      <td>NaN</td>\n",
              "      <td>STRAIGHT AND LEVEL</td>\n",
              "      <td>DRY</td>\n",
              "      <td>NO DEFECTS</td>\n",
              "      <td>NaN</td>\n",
              "      <td>NO INJURY / DRIVE AWAY</td>\n",
              "      <td>NaN</td>\n",
              "      <td>NaN</td>\n",
              "      <td>NaN</td>\n",
              "      <td>OVER $1,500</td>\n",
              "      <td>7/4/2019 23:05</td>\n",
              "      <td>FOLLOWING TOO CLOSELY</td>\n",
              "      <td>NOT APPLICABLE</td>\n",
              "      <td>300</td>\n",
              "      <td>N</td>\n",
              "      <td>LAKE SHORE DR SB</td>\n",
              "      <td>114.0</td>\n",
              "      <td>NaN</td>\n",
              "      <td>NaN</td>\n",
              "      <td>NaN</td>\n",
              "      <td>NaN</td>\n",
              "      <td>NaN</td>\n",
              "      <td>NaN</td>\n",
              "      <td>NaN</td>\n",
              "      <td>NaN</td>\n",
              "      <td>NaN</td>\n",
              "      <td>NaN</td>\n",
              "      <td>NaN</td>\n",
              "      <td>NaN</td>\n",
              "      <td>NaN</td>\n",
              "      <td>NaN</td>\n",
              "      <td>NaN</td>\n",
              "    </tr>\n",
              "    <tr>\n",
              "      <th>1</th>\n",
              "      <td>JC370822</td>\n",
              "      <td>7/30/2019 10:22</td>\n",
              "      <td>30</td>\n",
              "      <td>NO CONTROLS</td>\n",
              "      <td>NO CONTROLS</td>\n",
              "      <td>CLEAR</td>\n",
              "      <td>DAYLIGHT</td>\n",
              "      <td>TURNING</td>\n",
              "      <td>DIVIDED - W/MEDIAN (NOT RAISED)</td>\n",
              "      <td>NaN</td>\n",
              "      <td>STRAIGHT AND LEVEL</td>\n",
              "      <td>DRY</td>\n",
              "      <td>NO DEFECTS</td>\n",
              "      <td>NaN</td>\n",
              "      <td>NO INJURY / DRIVE AWAY</td>\n",
              "      <td>NaN</td>\n",
              "      <td>NaN</td>\n",
              "      <td>NaN</td>\n",
              "      <td>OVER $1,500</td>\n",
              "      <td>7/30/2019 10:25</td>\n",
              "      <td>FAILING TO YIELD RIGHT-OF-WAY</td>\n",
              "      <td>IMPROPER TURNING/NO SIGNAL</td>\n",
              "      <td>8201</td>\n",
              "      <td>S</td>\n",
              "      <td>DR MARTIN LUTHER KING JR DR</td>\n",
              "      <td>631.0</td>\n",
              "      <td>NaN</td>\n",
              "      <td>NaN</td>\n",
              "      <td>NaN</td>\n",
              "      <td>NaN</td>\n",
              "      <td>NaN</td>\n",
              "      <td>NaN</td>\n",
              "      <td>NaN</td>\n",
              "      <td>NaN</td>\n",
              "      <td>NaN</td>\n",
              "      <td>NaN</td>\n",
              "      <td>NaN</td>\n",
              "      <td>NaN</td>\n",
              "      <td>NaN</td>\n",
              "      <td>NaN</td>\n",
              "      <td>NaN</td>\n",
              "    </tr>\n",
              "    <tr>\n",
              "      <th>2</th>\n",
              "      <td>JC387098</td>\n",
              "      <td>8/10/2019 17:00</td>\n",
              "      <td>25</td>\n",
              "      <td>NO CONTROLS</td>\n",
              "      <td>NO CONTROLS</td>\n",
              "      <td>CLEAR</td>\n",
              "      <td>DAYLIGHT</td>\n",
              "      <td>PARKED MOTOR VEHICLE</td>\n",
              "      <td>ONE-WAY</td>\n",
              "      <td>NaN</td>\n",
              "      <td>STRAIGHT AND LEVEL</td>\n",
              "      <td>DRY</td>\n",
              "      <td>NO DEFECTS</td>\n",
              "      <td>NaN</td>\n",
              "      <td>NO INJURY / DRIVE AWAY</td>\n",
              "      <td>NaN</td>\n",
              "      <td>NaN</td>\n",
              "      <td>NaN</td>\n",
              "      <td>$501 - $1,500</td>\n",
              "      <td>8/10/2019 17:35</td>\n",
              "      <td>EQUIPMENT - VEHICLE CONDITION</td>\n",
              "      <td>NOT APPLICABLE</td>\n",
              "      <td>6747</td>\n",
              "      <td>S</td>\n",
              "      <td>CREGIER AVE</td>\n",
              "      <td>332.0</td>\n",
              "      <td>NaN</td>\n",
              "      <td>NaN</td>\n",
              "      <td>NaN</td>\n",
              "      <td>NaN</td>\n",
              "      <td>NaN</td>\n",
              "      <td>NaN</td>\n",
              "      <td>1.0</td>\n",
              "      <td>NaN</td>\n",
              "      <td>NaN</td>\n",
              "      <td>NaN</td>\n",
              "      <td>NaN</td>\n",
              "      <td>NaN</td>\n",
              "      <td>NaN</td>\n",
              "      <td>NaN</td>\n",
              "      <td>NaN</td>\n",
              "    </tr>\n",
              "    <tr>\n",
              "      <th>3</th>\n",
              "      <td>JC395195</td>\n",
              "      <td>8/16/2019 16:53</td>\n",
              "      <td>30</td>\n",
              "      <td>NO CONTROLS</td>\n",
              "      <td>NO CONTROLS</td>\n",
              "      <td>CLEAR</td>\n",
              "      <td>DAYLIGHT</td>\n",
              "      <td>PARKED MOTOR VEHICLE</td>\n",
              "      <td>NOT DIVIDED</td>\n",
              "      <td>NaN</td>\n",
              "      <td>STRAIGHT AND LEVEL</td>\n",
              "      <td>DRY</td>\n",
              "      <td>NO DEFECTS</td>\n",
              "      <td>NaN</td>\n",
              "      <td>NO INJURY / DRIVE AWAY</td>\n",
              "      <td>NaN</td>\n",
              "      <td>NaN</td>\n",
              "      <td>Y</td>\n",
              "      <td>$501 - $1,500</td>\n",
              "      <td>8/16/2019 16:53</td>\n",
              "      <td>UNABLE TO DETERMINE</td>\n",
              "      <td>NOT APPLICABLE</td>\n",
              "      <td>554</td>\n",
              "      <td>N</td>\n",
              "      <td>FRANKLIN ST</td>\n",
              "      <td>1831.0</td>\n",
              "      <td>NaN</td>\n",
              "      <td>NaN</td>\n",
              "      <td>NaN</td>\n",
              "      <td>NaN</td>\n",
              "      <td>NaN</td>\n",
              "      <td>NaN</td>\n",
              "      <td>1.0</td>\n",
              "      <td>NO INDICATION OF INJURY</td>\n",
              "      <td>0.0</td>\n",
              "      <td>0.0</td>\n",
              "      <td>0.0</td>\n",
              "      <td>0.0</td>\n",
              "      <td>0.0</td>\n",
              "      <td>1.0</td>\n",
              "      <td>0.0</td>\n",
              "    </tr>\n",
              "    <tr>\n",
              "      <th>4</th>\n",
              "      <td>JC396604</td>\n",
              "      <td>8/17/2019 16:04</td>\n",
              "      <td>30</td>\n",
              "      <td>NO CONTROLS</td>\n",
              "      <td>NO CONTROLS</td>\n",
              "      <td>CLEAR</td>\n",
              "      <td>DAYLIGHT</td>\n",
              "      <td>PARKED MOTOR VEHICLE</td>\n",
              "      <td>PARKING LOT</td>\n",
              "      <td>NaN</td>\n",
              "      <td>STRAIGHT AND LEVEL</td>\n",
              "      <td>DRY</td>\n",
              "      <td>NO DEFECTS</td>\n",
              "      <td>NaN</td>\n",
              "      <td>NO INJURY / DRIVE AWAY</td>\n",
              "      <td>NaN</td>\n",
              "      <td>NaN</td>\n",
              "      <td>Y</td>\n",
              "      <td>$501 - $1,500</td>\n",
              "      <td>8/17/2019 18:30</td>\n",
              "      <td>UNABLE TO DETERMINE</td>\n",
              "      <td>UNABLE TO DETERMINE</td>\n",
              "      <td>3700</td>\n",
              "      <td>N</td>\n",
              "      <td>WESTERN AVE</td>\n",
              "      <td>1921.0</td>\n",
              "      <td>NaN</td>\n",
              "      <td>NaN</td>\n",
              "      <td>NaN</td>\n",
              "      <td>NaN</td>\n",
              "      <td>NaN</td>\n",
              "      <td>NaN</td>\n",
              "      <td>1.0</td>\n",
              "      <td>NO INDICATION OF INJURY</td>\n",
              "      <td>0.0</td>\n",
              "      <td>0.0</td>\n",
              "      <td>0.0</td>\n",
              "      <td>0.0</td>\n",
              "      <td>0.0</td>\n",
              "      <td>1.0</td>\n",
              "      <td>0.0</td>\n",
              "    </tr>\n",
              "  </tbody>\n",
              "</table>\n",
              "</div>"
            ],
            "text/plain": [
              "      RD_NO       CRASH_DATE  ...  INJURIES_NO_INDICATION INJURIES_UNKNOWN\n",
              "0  JC334993   7/4/2019 22:33  ...                     NaN              NaN\n",
              "1  JC370822  7/30/2019 10:22  ...                     NaN              NaN\n",
              "2  JC387098  8/10/2019 17:00  ...                     NaN              NaN\n",
              "3  JC395195  8/16/2019 16:53  ...                     1.0              0.0\n",
              "4  JC396604  8/17/2019 16:04  ...                     1.0              0.0\n",
              "\n",
              "[5 rows x 41 columns]"
            ]
          },
          "metadata": {
            "tags": []
          },
          "execution_count": 202
        }
      ]
    },
    {
      "cell_type": "markdown",
      "metadata": {
        "id": "5dk0oqeBni8I"
      },
      "source": [
        "Calculate and print out the following: \n",
        "\n",
        "- The data type of each column that was automatically assigned when the data was read in. \n",
        "- The number of numeric columns \n",
        "- The number of categorical/string columns\n",
        "\n",
        "Do the assigned column types make sense, or are there some that should be changed?"
      ]
    },
    {
      "cell_type": "code",
      "metadata": {
        "id": "JT9kbyCJni8J",
        "outputId": "956dd09a-d382-456c-ccc9-23d3f0b34ce4",
        "colab": {
          "base_uri": "https://localhost:8080/",
          "height": 731
        }
      },
      "source": [
        "crash_data.dtypes"
      ],
      "execution_count": 203,
      "outputs": [
        {
          "output_type": "execute_result",
          "data": {
            "text/plain": [
              "RD_NO                             object\n",
              "CRASH_DATE                        object\n",
              "POSTED_SPEED_LIMIT                 int64\n",
              "TRAFFIC_CONTROL_DEVICE            object\n",
              "DEVICE_CONDITION                  object\n",
              "WEATHER_CONDITION                 object\n",
              "LIGHTING_CONDITION                object\n",
              "FIRST_CRASH_TYPE                  object\n",
              "TRAFFICWAY_TYPE                   object\n",
              "LANE_CNT                         float64\n",
              "ALIGNMENT                         object\n",
              "ROADWAY_SURFACE_COND              object\n",
              "ROAD_DEFECT                       object\n",
              "REPORT_TYPE                       object\n",
              "CRASH_TYPE                        object\n",
              "INTERSECTION_RELATED_I            object\n",
              "NOT_RIGHT_OF_WAY_I                object\n",
              "HIT_AND_RUN_I                     object\n",
              "DAMAGE                            object\n",
              "DATE_POLICE_NOTIFIED              object\n",
              "PRIM_CONTRIBUTORY_CAUSE           object\n",
              "SEC_CONTRIBUTORY_CAUSE            object\n",
              "STREET_NO                          int64\n",
              "STREET_DIRECTION                  object\n",
              "STREET_NAME                       object\n",
              "BEAT_OF_OCCURRENCE               float64\n",
              "PHOTOS_TAKEN_I                    object\n",
              "STATEMENTS_TAKEN_I                object\n",
              "DOORING_I                         object\n",
              "WORK_ZONE_I                       object\n",
              "WORK_ZONE_TYPE                    object\n",
              "WORKERS_PRESENT_I                 object\n",
              "NUM_UNITS                        float64\n",
              "MOST_SEVERE_INJURY                object\n",
              "INJURIES_TOTAL                   float64\n",
              "INJURIES_FATAL                   float64\n",
              "INJURIES_INCAPACITATING          float64\n",
              "INJURIES_NON_INCAPACITATING      float64\n",
              "INJURIES_REPORTED_NOT_EVIDENT    float64\n",
              "INJURIES_NO_INDICATION           float64\n",
              "INJURIES_UNKNOWN                 float64\n",
              "dtype: object"
            ]
          },
          "metadata": {
            "tags": []
          },
          "execution_count": 203
        }
      ]
    },
    {
      "cell_type": "code",
      "metadata": {
        "id": "4zYuoLoIWg_C",
        "outputId": "a4112a6b-f136-4f3a-cc94-3ef523330c70",
        "colab": {
          "base_uri": "https://localhost:8080/",
          "height": 34
        }
      },
      "source": [
        "numeric = crash_data.describe()\n",
        "print('there are {} numeric columns'.format(len(numeric.columns)))"
      ],
      "execution_count": 204,
      "outputs": [
        {
          "output_type": "stream",
          "text": [
            "there are 12 numeric columns\n"
          ],
          "name": "stdout"
        }
      ]
    },
    {
      "cell_type": "code",
      "metadata": {
        "id": "uGSh1hrSX3AQ",
        "outputId": "951e3eb4-2b6c-4052-c61e-9a8a535c9244",
        "colab": {
          "base_uri": "https://localhost:8080/",
          "height": 34
        }
      },
      "source": [
        "objects = crash_data.describe(include=['O'])\n",
        "print('there are {} categorical/string columns'.format(len(objects.columns)))"
      ],
      "execution_count": 205,
      "outputs": [
        {
          "output_type": "stream",
          "text": [
            "there are 29 categorical/string columns\n"
          ],
          "name": "stdout"
        }
      ]
    },
    {
      "cell_type": "markdown",
      "metadata": {
        "id": "zC2YmEBTni8K"
      },
      "source": [
        "Write a function *missingness_summary* that takes a pandas dataframe as a parameter and returns a pandas series containing the percentage of missing data in each column. (Hint: the *apply* function can be helpful here.) Furthermore, the function should have two additional parameters:\n",
        "\n",
        "1. print_log (boolean): if True, the function should print out all of the columns in the dataframe, one to a line, followed by the percentage of total rows that have a null value for that column. \n",
        "2. sort (string): a string that allows the user to specify if the output should be sorted in ascending order, descending order, or not at all."
      ]
    },
    {
      "cell_type": "code",
      "metadata": {
        "id": "YHQQ8b9wtFT7"
      },
      "source": [
        "# answer goes here\n",
        "def missingness_summary(df,print_log,sort):\n",
        "  df1 = df.isna()\n",
        "  df2 = df1.sum()\n",
        "  result = df2 / len(df)\n",
        "  if (print_log == True):\n",
        "    if (sort == 'asc'):\n",
        "      asc = result.sort_values(ascending=True)\n",
        "      print(asc)\n",
        "    elif (sort == 'desc'):\n",
        "      des = result.sort_values(ascending=False)\n",
        "      print(des)\n",
        "    else:\n",
        "      print(result)\n",
        "  else:\n",
        "    print(\"Function is complete\")"
      ],
      "execution_count": 206,
      "outputs": []
    },
    {
      "cell_type": "code",
      "metadata": {
        "id": "IMKenBCbgq1h",
        "outputId": "86f9a1cf-649b-4c8a-839f-ec0dec5c64c8",
        "colab": {
          "base_uri": "https://localhost:8080/",
          "height": 731
        }
      },
      "source": [
        "missingness_summary(crash_data,True,'asc')"
      ],
      "execution_count": 207,
      "outputs": [
        {
          "output_type": "stream",
          "text": [
            "RD_NO                            0.000000\n",
            "STREET_NO                        0.000000\n",
            "SEC_CONTRIBUTORY_CAUSE           0.000000\n",
            "DATE_POLICE_NOTIFIED             0.000000\n",
            "DAMAGE                           0.000000\n",
            "CRASH_TYPE                       0.000000\n",
            "ROAD_DEFECT                      0.000000\n",
            "ROADWAY_SURFACE_COND             0.000000\n",
            "ALIGNMENT                        0.000000\n",
            "PRIM_CONTRIBUTORY_CAUSE          0.000000\n",
            "TRAFFICWAY_TYPE                  0.000000\n",
            "FIRST_CRASH_TYPE                 0.000000\n",
            "LIGHTING_CONDITION               0.000000\n",
            "WEATHER_CONDITION                0.000000\n",
            "CRASH_DATE                       0.000000\n",
            "POSTED_SPEED_LIMIT               0.000000\n",
            "DEVICE_CONDITION                 0.000000\n",
            "TRAFFIC_CONTROL_DEVICE           0.000000\n",
            "STREET_NAME                      0.000003\n",
            "STREET_DIRECTION                 0.000005\n",
            "BEAT_OF_OCCURRENCE               0.000011\n",
            "NUM_UNITS                        0.003755\n",
            "INJURIES_UNKNOWN                 0.005776\n",
            "INJURIES_REPORTED_NOT_EVIDENT    0.005776\n",
            "INJURIES_NON_INCAPACITATING      0.005776\n",
            "INJURIES_INCAPACITATING          0.005776\n",
            "INJURIES_FATAL                   0.005776\n",
            "INJURIES_TOTAL                   0.005776\n",
            "INJURIES_NO_INDICATION           0.005776\n",
            "MOST_SEVERE_INJURY               0.005795\n",
            "REPORT_TYPE                      0.023012\n",
            "LANE_CNT                         0.467107\n",
            "HIT_AND_RUN_I                    0.722423\n",
            "INTERSECTION_RELATED_I           0.779457\n",
            "NOT_RIGHT_OF_WAY_I               0.953917\n",
            "STATEMENTS_TAKEN_I               0.979760\n",
            "PHOTOS_TAKEN_I                   0.987318\n",
            "WORK_ZONE_I                      0.992933\n",
            "WORK_ZONE_TYPE                   0.994391\n",
            "DOORING_I                        0.996616\n",
            "WORKERS_PRESENT_I                0.998352\n",
            "dtype: float64\n"
          ],
          "name": "stdout"
        }
      ]
    },
    {
      "cell_type": "markdown",
      "metadata": {
        "id": "7wR6bliDni8M"
      },
      "source": [
        "Call the *missingness summary* function on our data. Answer the following questions *programatically* (this dataset is small enough that we could manually count, but this approach would obviously not be scalable to datasets with hundreds of columns, which frequently occur in real life):\n",
        "\n",
        "1. How many columns have no missing data? Print out these column names.\n",
        "2. How many columns have more than 10% missing data? Again, print out these column names."
      ]
    },
    {
      "cell_type": "code",
      "metadata": {
        "id": "VzB9rC4kni8N",
        "outputId": "9ad00992-26f8-4955-a197-06b036e4bcf8",
        "colab": {
          "base_uri": "https://localhost:8080/",
          "height": 170
        }
      },
      "source": [
        "# answer goes here\n",
        "dfffff = crash_data.dropna(axis='columns')\n",
        "print(\"There are {} columns with no missing data and the columns are listed below \\n\".format(len(dfffff.columns)))\n",
        "dfffff.columns"
      ],
      "execution_count": 208,
      "outputs": [
        {
          "output_type": "stream",
          "text": [
            "There are 18 columns with no missing data and the columns are listed below \n",
            "\n"
          ],
          "name": "stdout"
        },
        {
          "output_type": "execute_result",
          "data": {
            "text/plain": [
              "Index(['RD_NO', 'CRASH_DATE', 'POSTED_SPEED_LIMIT', 'TRAFFIC_CONTROL_DEVICE',\n",
              "       'DEVICE_CONDITION', 'WEATHER_CONDITION', 'LIGHTING_CONDITION',\n",
              "       'FIRST_CRASH_TYPE', 'TRAFFICWAY_TYPE', 'ALIGNMENT',\n",
              "       'ROADWAY_SURFACE_COND', 'ROAD_DEFECT', 'CRASH_TYPE', 'DAMAGE',\n",
              "       'DATE_POLICE_NOTIFIED', 'PRIM_CONTRIBUTORY_CAUSE',\n",
              "       'SEC_CONTRIBUTORY_CAUSE', 'STREET_NO'],\n",
              "      dtype='object')"
            ]
          },
          "metadata": {
            "tags": []
          },
          "execution_count": 208
        }
      ]
    },
    {
      "cell_type": "code",
      "metadata": {
        "id": "-HadX7BttFzT",
        "outputId": "afc15c21-6c9a-409b-a399-fd2488a4742e",
        "colab": {
          "base_uri": "https://localhost:8080/",
          "height": 119
        }
      },
      "source": [
        "dff = crash_data.isna()\n",
        "dfff = dff.sum()\n",
        "df = dfff/len(crash_data)\n",
        "more_than_10 = df.where(df>0.1)\n",
        "result2 = more_than_10.dropna()\n",
        "print('10 columns with more than 10% missing values \\n')\n",
        "result2.index"
      ],
      "execution_count": 209,
      "outputs": [
        {
          "output_type": "stream",
          "text": [
            "10 columns with more than 10% missing values \n",
            "\n"
          ],
          "name": "stdout"
        },
        {
          "output_type": "execute_result",
          "data": {
            "text/plain": [
              "Index(['LANE_CNT', 'INTERSECTION_RELATED_I', 'NOT_RIGHT_OF_WAY_I',\n",
              "       'HIT_AND_RUN_I', 'PHOTOS_TAKEN_I', 'STATEMENTS_TAKEN_I', 'DOORING_I',\n",
              "       'WORK_ZONE_I', 'WORK_ZONE_TYPE', 'WORKERS_PRESENT_I'],\n",
              "      dtype='object')"
            ]
          },
          "metadata": {
            "tags": []
          },
          "execution_count": 209
        }
      ]
    },
    {
      "cell_type": "markdown",
      "metadata": {
        "id": "T0rFQRHvni8O"
      },
      "source": [
        "For the columns beginning with the string \"INJURIES_\", impute values for the missing data by using an appropriate measure of central tendency.\n",
        "\n",
        "Re-run the *missingness_summary* function after doing the imputation - we should see no missing data in those columns."
      ]
    },
    {
      "cell_type": "code",
      "metadata": {
        "id": "pR7lffjhl7ih",
        "outputId": "c2eb4173-addb-4632-904f-ebe1a8d856dd",
        "colab": {
          "base_uri": "https://localhost:8080/",
          "height": 731
        }
      },
      "source": [
        "crash_data['INJURIES_UNKNOWN'].fillna(crash_data['INJURIES_UNKNOWN'].mean(), inplace=True)\n",
        "crash_data['INJURIES_REPORTED_NOT_EVIDENT'].fillna(crash_data['INJURIES_REPORTED_NOT_EVIDENT'].mean(), inplace=True)\n",
        "crash_data['INJURIES_NON_INCAPACITATING'].fillna(crash_data['INJURIES_NON_INCAPACITATING'].mean(), inplace=True)\n",
        "crash_data['INJURIES_INCAPACITATING'].fillna(crash_data['INJURIES_INCAPACITATING'].mean(), inplace=True)\n",
        "crash_data['INJURIES_FATAL'].fillna(crash_data['INJURIES_FATAL'].mean(), inplace=True)\n",
        "crash_data['INJURIES_TOTAL'].fillna(crash_data['INJURIES_TOTAL'].mean(), inplace=True)\n",
        "crash_data['INJURIES_NO_INDICATION'].fillna(crash_data['INJURIES_NO_INDICATION'].mean(), inplace=True)\n",
        "\n",
        "missingness_summary(crash_data,True,'asc')"
      ],
      "execution_count": 210,
      "outputs": [
        {
          "output_type": "stream",
          "text": [
            "RD_NO                            0.000000\n",
            "INJURIES_REPORTED_NOT_EVIDENT    0.000000\n",
            "INJURIES_NON_INCAPACITATING      0.000000\n",
            "INJURIES_INCAPACITATING          0.000000\n",
            "INJURIES_FATAL                   0.000000\n",
            "INJURIES_TOTAL                   0.000000\n",
            "STREET_NO                        0.000000\n",
            "SEC_CONTRIBUTORY_CAUSE           0.000000\n",
            "INJURIES_NO_INDICATION           0.000000\n",
            "DATE_POLICE_NOTIFIED             0.000000\n",
            "DAMAGE                           0.000000\n",
            "CRASH_TYPE                       0.000000\n",
            "PRIM_CONTRIBUTORY_CAUSE          0.000000\n",
            "INJURIES_UNKNOWN                 0.000000\n",
            "WEATHER_CONDITION                0.000000\n",
            "ROAD_DEFECT                      0.000000\n",
            "LIGHTING_CONDITION               0.000000\n",
            "TRAFFICWAY_TYPE                  0.000000\n",
            "DEVICE_CONDITION                 0.000000\n",
            "FIRST_CRASH_TYPE                 0.000000\n",
            "TRAFFIC_CONTROL_DEVICE           0.000000\n",
            "POSTED_SPEED_LIMIT               0.000000\n",
            "CRASH_DATE                       0.000000\n",
            "ROADWAY_SURFACE_COND             0.000000\n",
            "ALIGNMENT                        0.000000\n",
            "STREET_NAME                      0.000003\n",
            "STREET_DIRECTION                 0.000005\n",
            "BEAT_OF_OCCURRENCE               0.000011\n",
            "NUM_UNITS                        0.003755\n",
            "MOST_SEVERE_INJURY               0.005795\n",
            "REPORT_TYPE                      0.023012\n",
            "LANE_CNT                         0.467107\n",
            "HIT_AND_RUN_I                    0.722423\n",
            "INTERSECTION_RELATED_I           0.779457\n",
            "NOT_RIGHT_OF_WAY_I               0.953917\n",
            "STATEMENTS_TAKEN_I               0.979760\n",
            "PHOTOS_TAKEN_I                   0.987318\n",
            "WORK_ZONE_I                      0.992933\n",
            "WORK_ZONE_TYPE                   0.994391\n",
            "DOORING_I                        0.996616\n",
            "WORKERS_PRESENT_I                0.998352\n",
            "dtype: float64\n"
          ],
          "name": "stdout"
        }
      ]
    }
  ]
}