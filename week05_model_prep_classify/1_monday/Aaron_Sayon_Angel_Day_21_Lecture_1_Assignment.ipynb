{
 "cells": [
  {
   "cell_type": "markdown",
   "metadata": {
    "id": "Zrf-3-WBni8C"
   },
   "source": [
    "## Day 21 Lecture 1 Assignment\n",
    "\n",
    "In this assignment, we will analyze the data types and missingness of values in the Chicago traffic crashes dataset."
   ]
  },
  {
   "cell_type": "code",
   "execution_count": 1,
   "metadata": {
    "id": "gqWRoLL-ni8D"
   },
   "outputs": [],
   "source": [
    "%matplotlib inline\n",
    "\n",
    "import matplotlib.pyplot as plt\n",
    "import numpy as np\n",
    "import pandas as pd"
   ]
  },
  {
   "cell_type": "code",
   "execution_count": 2,
   "metadata": {
    "id": "wSzfEaauni8F"
   },
   "outputs": [],
   "source": [
    "crash_data = pd.read_csv('https://tf-assets-prod.s3.amazonaws.com/tf-curric/data-science/traffic_crashes_chicago.csv')"
   ]
  },
  {
   "cell_type": "code",
   "execution_count": 3,
   "metadata": {
    "id": "1JRr0EDJni8G",
    "outputId": "eea4cf04-7e58-421f-ea99-db02edc7308f"
   },
   "outputs": [
    {
     "data": {
      "text/html": [
       "<div>\n",
       "<style scoped>\n",
       "    .dataframe tbody tr th:only-of-type {\n",
       "        vertical-align: middle;\n",
       "    }\n",
       "\n",
       "    .dataframe tbody tr th {\n",
       "        vertical-align: top;\n",
       "    }\n",
       "\n",
       "    .dataframe thead th {\n",
       "        text-align: right;\n",
       "    }\n",
       "</style>\n",
       "<table border=\"1\" class=\"dataframe\">\n",
       "  <thead>\n",
       "    <tr style=\"text-align: right;\">\n",
       "      <th></th>\n",
       "      <th>RD_NO</th>\n",
       "      <th>CRASH_DATE</th>\n",
       "      <th>POSTED_SPEED_LIMIT</th>\n",
       "      <th>TRAFFIC_CONTROL_DEVICE</th>\n",
       "      <th>DEVICE_CONDITION</th>\n",
       "      <th>WEATHER_CONDITION</th>\n",
       "      <th>LIGHTING_CONDITION</th>\n",
       "      <th>FIRST_CRASH_TYPE</th>\n",
       "      <th>TRAFFICWAY_TYPE</th>\n",
       "      <th>LANE_CNT</th>\n",
       "      <th>...</th>\n",
       "      <th>WORKERS_PRESENT_I</th>\n",
       "      <th>NUM_UNITS</th>\n",
       "      <th>MOST_SEVERE_INJURY</th>\n",
       "      <th>INJURIES_TOTAL</th>\n",
       "      <th>INJURIES_FATAL</th>\n",
       "      <th>INJURIES_INCAPACITATING</th>\n",
       "      <th>INJURIES_NON_INCAPACITATING</th>\n",
       "      <th>INJURIES_REPORTED_NOT_EVIDENT</th>\n",
       "      <th>INJURIES_NO_INDICATION</th>\n",
       "      <th>INJURIES_UNKNOWN</th>\n",
       "    </tr>\n",
       "  </thead>\n",
       "  <tbody>\n",
       "    <tr>\n",
       "      <th>0</th>\n",
       "      <td>JC334993</td>\n",
       "      <td>7/4/2019 22:33</td>\n",
       "      <td>45</td>\n",
       "      <td>NO CONTROLS</td>\n",
       "      <td>NO CONTROLS</td>\n",
       "      <td>CLEAR</td>\n",
       "      <td>DARKNESS, LIGHTED ROAD</td>\n",
       "      <td>REAR END</td>\n",
       "      <td>DIVIDED - W/MEDIAN BARRIER</td>\n",
       "      <td>NaN</td>\n",
       "      <td>...</td>\n",
       "      <td>NaN</td>\n",
       "      <td>NaN</td>\n",
       "      <td>NaN</td>\n",
       "      <td>NaN</td>\n",
       "      <td>NaN</td>\n",
       "      <td>NaN</td>\n",
       "      <td>NaN</td>\n",
       "      <td>NaN</td>\n",
       "      <td>NaN</td>\n",
       "      <td>NaN</td>\n",
       "    </tr>\n",
       "    <tr>\n",
       "      <th>1</th>\n",
       "      <td>JC370822</td>\n",
       "      <td>7/30/2019 10:22</td>\n",
       "      <td>30</td>\n",
       "      <td>NO CONTROLS</td>\n",
       "      <td>NO CONTROLS</td>\n",
       "      <td>CLEAR</td>\n",
       "      <td>DAYLIGHT</td>\n",
       "      <td>TURNING</td>\n",
       "      <td>DIVIDED - W/MEDIAN (NOT RAISED)</td>\n",
       "      <td>NaN</td>\n",
       "      <td>...</td>\n",
       "      <td>NaN</td>\n",
       "      <td>NaN</td>\n",
       "      <td>NaN</td>\n",
       "      <td>NaN</td>\n",
       "      <td>NaN</td>\n",
       "      <td>NaN</td>\n",
       "      <td>NaN</td>\n",
       "      <td>NaN</td>\n",
       "      <td>NaN</td>\n",
       "      <td>NaN</td>\n",
       "    </tr>\n",
       "    <tr>\n",
       "      <th>2</th>\n",
       "      <td>JC387098</td>\n",
       "      <td>8/10/2019 17:00</td>\n",
       "      <td>25</td>\n",
       "      <td>NO CONTROLS</td>\n",
       "      <td>NO CONTROLS</td>\n",
       "      <td>CLEAR</td>\n",
       "      <td>DAYLIGHT</td>\n",
       "      <td>PARKED MOTOR VEHICLE</td>\n",
       "      <td>ONE-WAY</td>\n",
       "      <td>NaN</td>\n",
       "      <td>...</td>\n",
       "      <td>NaN</td>\n",
       "      <td>1.0</td>\n",
       "      <td>NaN</td>\n",
       "      <td>NaN</td>\n",
       "      <td>NaN</td>\n",
       "      <td>NaN</td>\n",
       "      <td>NaN</td>\n",
       "      <td>NaN</td>\n",
       "      <td>NaN</td>\n",
       "      <td>NaN</td>\n",
       "    </tr>\n",
       "    <tr>\n",
       "      <th>3</th>\n",
       "      <td>JC395195</td>\n",
       "      <td>8/16/2019 16:53</td>\n",
       "      <td>30</td>\n",
       "      <td>NO CONTROLS</td>\n",
       "      <td>NO CONTROLS</td>\n",
       "      <td>CLEAR</td>\n",
       "      <td>DAYLIGHT</td>\n",
       "      <td>PARKED MOTOR VEHICLE</td>\n",
       "      <td>NOT DIVIDED</td>\n",
       "      <td>NaN</td>\n",
       "      <td>...</td>\n",
       "      <td>NaN</td>\n",
       "      <td>1.0</td>\n",
       "      <td>NO INDICATION OF INJURY</td>\n",
       "      <td>0.0</td>\n",
       "      <td>0.0</td>\n",
       "      <td>0.0</td>\n",
       "      <td>0.0</td>\n",
       "      <td>0.0</td>\n",
       "      <td>1.0</td>\n",
       "      <td>0.0</td>\n",
       "    </tr>\n",
       "    <tr>\n",
       "      <th>4</th>\n",
       "      <td>JC396604</td>\n",
       "      <td>8/17/2019 16:04</td>\n",
       "      <td>30</td>\n",
       "      <td>NO CONTROLS</td>\n",
       "      <td>NO CONTROLS</td>\n",
       "      <td>CLEAR</td>\n",
       "      <td>DAYLIGHT</td>\n",
       "      <td>PARKED MOTOR VEHICLE</td>\n",
       "      <td>PARKING LOT</td>\n",
       "      <td>NaN</td>\n",
       "      <td>...</td>\n",
       "      <td>NaN</td>\n",
       "      <td>1.0</td>\n",
       "      <td>NO INDICATION OF INJURY</td>\n",
       "      <td>0.0</td>\n",
       "      <td>0.0</td>\n",
       "      <td>0.0</td>\n",
       "      <td>0.0</td>\n",
       "      <td>0.0</td>\n",
       "      <td>1.0</td>\n",
       "      <td>0.0</td>\n",
       "    </tr>\n",
       "  </tbody>\n",
       "</table>\n",
       "<p>5 rows × 41 columns</p>\n",
       "</div>"
      ],
      "text/plain": [
       "      RD_NO       CRASH_DATE  POSTED_SPEED_LIMIT TRAFFIC_CONTROL_DEVICE  \\\n",
       "0  JC334993   7/4/2019 22:33                  45            NO CONTROLS   \n",
       "1  JC370822  7/30/2019 10:22                  30            NO CONTROLS   \n",
       "2  JC387098  8/10/2019 17:00                  25            NO CONTROLS   \n",
       "3  JC395195  8/16/2019 16:53                  30            NO CONTROLS   \n",
       "4  JC396604  8/17/2019 16:04                  30            NO CONTROLS   \n",
       "\n",
       "  DEVICE_CONDITION WEATHER_CONDITION      LIGHTING_CONDITION  \\\n",
       "0      NO CONTROLS             CLEAR  DARKNESS, LIGHTED ROAD   \n",
       "1      NO CONTROLS             CLEAR                DAYLIGHT   \n",
       "2      NO CONTROLS             CLEAR                DAYLIGHT   \n",
       "3      NO CONTROLS             CLEAR                DAYLIGHT   \n",
       "4      NO CONTROLS             CLEAR                DAYLIGHT   \n",
       "\n",
       "       FIRST_CRASH_TYPE                  TRAFFICWAY_TYPE  LANE_CNT  ...  \\\n",
       "0              REAR END       DIVIDED - W/MEDIAN BARRIER       NaN  ...   \n",
       "1               TURNING  DIVIDED - W/MEDIAN (NOT RAISED)       NaN  ...   \n",
       "2  PARKED MOTOR VEHICLE                          ONE-WAY       NaN  ...   \n",
       "3  PARKED MOTOR VEHICLE                      NOT DIVIDED       NaN  ...   \n",
       "4  PARKED MOTOR VEHICLE                      PARKING LOT       NaN  ...   \n",
       "\n",
       "  WORKERS_PRESENT_I NUM_UNITS       MOST_SEVERE_INJURY INJURIES_TOTAL  \\\n",
       "0               NaN       NaN                      NaN            NaN   \n",
       "1               NaN       NaN                      NaN            NaN   \n",
       "2               NaN       1.0                      NaN            NaN   \n",
       "3               NaN       1.0  NO INDICATION OF INJURY            0.0   \n",
       "4               NaN       1.0  NO INDICATION OF INJURY            0.0   \n",
       "\n",
       "  INJURIES_FATAL INJURIES_INCAPACITATING INJURIES_NON_INCAPACITATING  \\\n",
       "0            NaN                     NaN                         NaN   \n",
       "1            NaN                     NaN                         NaN   \n",
       "2            NaN                     NaN                         NaN   \n",
       "3            0.0                     0.0                         0.0   \n",
       "4            0.0                     0.0                         0.0   \n",
       "\n",
       "  INJURIES_REPORTED_NOT_EVIDENT INJURIES_NO_INDICATION INJURIES_UNKNOWN  \n",
       "0                           NaN                    NaN              NaN  \n",
       "1                           NaN                    NaN              NaN  \n",
       "2                           NaN                    NaN              NaN  \n",
       "3                           0.0                    1.0              0.0  \n",
       "4                           0.0                    1.0              0.0  \n",
       "\n",
       "[5 rows x 41 columns]"
      ]
     },
     "execution_count": 3,
     "metadata": {},
     "output_type": "execute_result"
    }
   ],
   "source": [
    "crash_data.head()"
   ]
  },
  {
   "cell_type": "markdown",
   "metadata": {
    "id": "5dk0oqeBni8I"
   },
   "source": [
    "Calculate and print out the following: \n",
    "\n",
    "- The data type of each column that was automatically assigned when the data was read in. \n",
    "- The number of numeric columns \n",
    "- The number of categorical/string columns\n",
    "\n",
    "Do the assigned column types make sense, or are there some that should be changed?"
   ]
  },
  {
   "cell_type": "code",
   "execution_count": 4,
   "metadata": {
    "id": "JT9kbyCJni8J"
   },
   "outputs": [
    {
     "name": "stdout",
     "output_type": "stream",
     "text": [
      "RD_NO                             object\n",
      "CRASH_DATE                        object\n",
      "POSTED_SPEED_LIMIT                 int64\n",
      "TRAFFIC_CONTROL_DEVICE            object\n",
      "DEVICE_CONDITION                  object\n",
      "WEATHER_CONDITION                 object\n",
      "LIGHTING_CONDITION                object\n",
      "FIRST_CRASH_TYPE                  object\n",
      "TRAFFICWAY_TYPE                   object\n",
      "LANE_CNT                         float64\n",
      "ALIGNMENT                         object\n",
      "ROADWAY_SURFACE_COND              object\n",
      "ROAD_DEFECT                       object\n",
      "REPORT_TYPE                       object\n",
      "CRASH_TYPE                        object\n",
      "INTERSECTION_RELATED_I            object\n",
      "NOT_RIGHT_OF_WAY_I                object\n",
      "HIT_AND_RUN_I                     object\n",
      "DAMAGE                            object\n",
      "DATE_POLICE_NOTIFIED              object\n",
      "PRIM_CONTRIBUTORY_CAUSE           object\n",
      "SEC_CONTRIBUTORY_CAUSE            object\n",
      "STREET_NO                          int64\n",
      "STREET_DIRECTION                  object\n",
      "STREET_NAME                       object\n",
      "BEAT_OF_OCCURRENCE               float64\n",
      "PHOTOS_TAKEN_I                    object\n",
      "STATEMENTS_TAKEN_I                object\n",
      "DOORING_I                         object\n",
      "WORK_ZONE_I                       object\n",
      "WORK_ZONE_TYPE                    object\n",
      "WORKERS_PRESENT_I                 object\n",
      "NUM_UNITS                        float64\n",
      "MOST_SEVERE_INJURY                object\n",
      "INJURIES_TOTAL                   float64\n",
      "INJURIES_FATAL                   float64\n",
      "INJURIES_INCAPACITATING          float64\n",
      "INJURIES_NON_INCAPACITATING      float64\n",
      "INJURIES_REPORTED_NOT_EVIDENT    float64\n",
      "INJURIES_NO_INDICATION           float64\n",
      "INJURIES_UNKNOWN                 float64\n",
      "dtype: object\n"
     ]
    }
   ],
   "source": [
    "# answer goes here\n",
    "# The data type of each column that was automatically\n",
    "print(crash_data.dtypes)"
   ]
  },
  {
   "cell_type": "code",
   "execution_count": 5,
   "metadata": {},
   "outputs": [
    {
     "data": {
      "text/plain": [
       "12"
      ]
     },
     "execution_count": 5,
     "metadata": {},
     "output_type": "execute_result"
    }
   ],
   "source": [
    "# The number of numeric columns\n",
    "len(crash_data.select_dtypes(exclude='object').columns)"
   ]
  },
  {
   "cell_type": "code",
   "execution_count": 6,
   "metadata": {},
   "outputs": [
    {
     "data": {
      "text/plain": [
       "29"
      ]
     },
     "execution_count": 6,
     "metadata": {},
     "output_type": "execute_result"
    }
   ],
   "source": [
    "# The number of categorical/string columns\n",
    "len(crash_data.select_dtypes(include='object').columns)"
   ]
  },
  {
   "cell_type": "markdown",
   "metadata": {
    "id": "zC2YmEBTni8K"
   },
   "source": [
    "Write a function *missingness_summary* that takes a pandas dataframe as a parameter and returns a pandas series containing the percentage of missing data in each column. (Hint: the *apply* function can be helpful here.) Furthermore, the function should have two additional parameters:\n",
    "\n",
    "1. print_log (boolean): if True, the function should print out all of the columns in the dataframe, one to a line, followed by the percentage of total rows that have a null value for that column. \n",
    "2. sort (string): a string that allows the user to specify if the output should be sorted in ascending order, descending order, or not at all."
   ]
  },
  {
   "cell_type": "code",
   "execution_count": 7,
   "metadata": {
    "id": "YHQQ8b9wtFT7"
   },
   "outputs": [
    {
     "data": {
      "text/plain": [
       "RD_NO                             0.000000\n",
       "STREET_NO                         0.000000\n",
       "SEC_CONTRIBUTORY_CAUSE            0.000000\n",
       "DATE_POLICE_NOTIFIED              0.000000\n",
       "DAMAGE                            0.000000\n",
       "CRASH_TYPE                        0.000000\n",
       "ROAD_DEFECT                       0.000000\n",
       "ROADWAY_SURFACE_COND              0.000000\n",
       "ALIGNMENT                         0.000000\n",
       "PRIM_CONTRIBUTORY_CAUSE           0.000000\n",
       "TRAFFICWAY_TYPE                   0.000000\n",
       "FIRST_CRASH_TYPE                  0.000000\n",
       "LIGHTING_CONDITION                0.000000\n",
       "WEATHER_CONDITION                 0.000000\n",
       "CRASH_DATE                        0.000000\n",
       "POSTED_SPEED_LIMIT                0.000000\n",
       "DEVICE_CONDITION                  0.000000\n",
       "TRAFFIC_CONTROL_DEVICE            0.000000\n",
       "STREET_NAME                       0.000268\n",
       "STREET_DIRECTION                  0.000537\n",
       "BEAT_OF_OCCURRENCE                0.001074\n",
       "NUM_UNITS                         0.375485\n",
       "INJURIES_UNKNOWN                  0.577586\n",
       "INJURIES_REPORTED_NOT_EVIDENT     0.577586\n",
       "INJURIES_NON_INCAPACITATING       0.577586\n",
       "INJURIES_INCAPACITATING           0.577586\n",
       "INJURIES_FATAL                    0.577586\n",
       "INJURIES_TOTAL                    0.577586\n",
       "INJURIES_NO_INDICATION            0.577586\n",
       "MOST_SEVERE_INJURY                0.579465\n",
       "REPORT_TYPE                       2.301220\n",
       "LANE_CNT                         46.710683\n",
       "HIT_AND_RUN_I                    72.242307\n",
       "INTERSECTION_RELATED_I           77.945704\n",
       "NOT_RIGHT_OF_WAY_I               95.391656\n",
       "STATEMENTS_TAKEN_I               97.976032\n",
       "PHOTOS_TAKEN_I                   98.731833\n",
       "WORK_ZONE_I                      99.293316\n",
       "WORK_ZONE_TYPE                   99.439054\n",
       "DOORING_I                        99.661554\n",
       "WORKERS_PRESENT_I                99.835205\n",
       "dtype: float64"
      ]
     },
     "execution_count": 7,
     "metadata": {},
     "output_type": "execute_result"
    }
   ],
   "source": [
    "# answer goes here\n",
    "\n",
    "\n",
    "\n",
    "def missingness_summary(df, print_log=False, sort='ascending'):\n",
    "    output = (df.isnull().sum()/df.isnull().count())*100\n",
    "    if sort == 'ascending':\n",
    "        output.sort_values(inplace=True)\n",
    "    elif sort == 'descending':\n",
    "        output.sort_values(ascending=False, inplace=True)\n",
    "    if print_log:\n",
    "        print(output)\n",
    "    return output\n",
    "\n",
    "missingness_summary(crash_data)"
   ]
  },
  {
   "cell_type": "markdown",
   "metadata": {
    "id": "7wR6bliDni8M"
   },
   "source": [
    "Call the *missingness summary* function on our data. Answer the following questions *programatically* (this dataset is small enough that we could manually count, but this approach would obviously not be scalable to datasets with hundreds of columns, which frequently occur in real life):\n",
    "\n",
    "1. How many columns have no missing data? Print out these column names.\n",
    "2. How many columns have more than 10% missing data? Again, print out these column names."
   ]
  },
  {
   "cell_type": "code",
   "execution_count": 8,
   "metadata": {
    "id": "VzB9rC4kni8N"
   },
   "outputs": [
    {
     "name": "stdout",
     "output_type": "stream",
     "text": [
      "RD_NO\n",
      "STREET_NO\n",
      "SEC_CONTRIBUTORY_CAUSE\n",
      "DATE_POLICE_NOTIFIED\n",
      "DAMAGE\n",
      "CRASH_TYPE\n",
      "ROAD_DEFECT\n",
      "ROADWAY_SURFACE_COND\n",
      "ALIGNMENT\n",
      "PRIM_CONTRIBUTORY_CAUSE\n",
      "TRAFFICWAY_TYPE\n",
      "FIRST_CRASH_TYPE\n",
      "LIGHTING_CONDITION\n",
      "WEATHER_CONDITION\n",
      "CRASH_DATE\n",
      "POSTED_SPEED_LIMIT\n",
      "DEVICE_CONDITION\n",
      "TRAFFIC_CONTROL_DEVICE\n",
      "number of columns with no missing data: 18\n",
      "LANE_CNT\n",
      "HIT_AND_RUN_I\n",
      "INTERSECTION_RELATED_I\n",
      "NOT_RIGHT_OF_WAY_I\n",
      "STATEMENTS_TAKEN_I\n",
      "PHOTOS_TAKEN_I\n",
      "WORK_ZONE_I\n",
      "WORK_ZONE_TYPE\n",
      "DOORING_I\n",
      "WORKERS_PRESENT_I\n",
      "number of columns more than 10% missing data: 10\n"
     ]
    }
   ],
   "source": [
    "# answer goes here\n",
    "\n",
    "missing = missingness_summary(crash_data)\n",
    "\n",
    "# 1 How many columns have no missing data? Print out these column names.\n",
    "\n",
    "\n",
    "columns = []\n",
    "for name in missing.index:\n",
    "    if missing[name] == 0:\n",
    "        columns.append(name)\n",
    "        print(name)\n",
    "\n",
    "print(f'number of columns with no missing data: {len(columns)}')\n",
    "\n",
    "# 2 How many columns have more than 10% missing data? Again, print out these column names.\n",
    "\n",
    "columns = []\n",
    "for name in missing.index:\n",
    "    if missing[name] >= 10:\n",
    "        columns.append(name)\n",
    "        print(name)\n",
    "\n",
    "print(f'number of columns more than 10% missing data: {len(columns)}')"
   ]
  },
  {
   "cell_type": "markdown",
   "metadata": {
    "id": "T0rFQRHvni8O"
   },
   "source": [
    "For the columns beginning with the string \"INJURIES_\", impute values for the missing data by using an appropriate measure of central tendency.\n",
    "\n",
    "Re-run the *missingness_summary* function after doing the imputation - we should see no missing data in those columns."
   ]
  },
  {
   "cell_type": "code",
   "execution_count": 12,
   "metadata": {
    "id": "947BjIolni8P"
   },
   "outputs": [
    {
     "name": "stdout",
     "output_type": "stream",
     "text": [
      "0.0\n",
      "0.0\n",
      "0.0\n",
      "0.0\n",
      "0.0\n",
      "2.0\n",
      "0.0\n"
     ]
    },
    {
     "data": {
      "text/plain": [
       "RD_NO                             0.000000\n",
       "INJURIES_REPORTED_NOT_EVIDENT     0.000000\n",
       "INJURIES_NON_INCAPACITATING       0.000000\n",
       "INJURIES_INCAPACITATING           0.000000\n",
       "INJURIES_FATAL                    0.000000\n",
       "INJURIES_TOTAL                    0.000000\n",
       "STREET_NO                         0.000000\n",
       "SEC_CONTRIBUTORY_CAUSE            0.000000\n",
       "INJURIES_NO_INDICATION            0.000000\n",
       "DATE_POLICE_NOTIFIED              0.000000\n",
       "DAMAGE                            0.000000\n",
       "CRASH_TYPE                        0.000000\n",
       "PRIM_CONTRIBUTORY_CAUSE           0.000000\n",
       "INJURIES_UNKNOWN                  0.000000\n",
       "WEATHER_CONDITION                 0.000000\n",
       "ROAD_DEFECT                       0.000000\n",
       "LIGHTING_CONDITION                0.000000\n",
       "TRAFFICWAY_TYPE                   0.000000\n",
       "DEVICE_CONDITION                  0.000000\n",
       "FIRST_CRASH_TYPE                  0.000000\n",
       "TRAFFIC_CONTROL_DEVICE            0.000000\n",
       "POSTED_SPEED_LIMIT                0.000000\n",
       "CRASH_DATE                        0.000000\n",
       "ROADWAY_SURFACE_COND              0.000000\n",
       "ALIGNMENT                         0.000000\n",
       "STREET_NAME                       0.000268\n",
       "STREET_DIRECTION                  0.000537\n",
       "BEAT_OF_OCCURRENCE                0.001074\n",
       "NUM_UNITS                         0.375485\n",
       "MOST_SEVERE_INJURY                0.579465\n",
       "REPORT_TYPE                       2.301220\n",
       "LANE_CNT                         46.710683\n",
       "HIT_AND_RUN_I                    72.242307\n",
       "INTERSECTION_RELATED_I           77.945704\n",
       "NOT_RIGHT_OF_WAY_I               95.391656\n",
       "STATEMENTS_TAKEN_I               97.976032\n",
       "PHOTOS_TAKEN_I                   98.731833\n",
       "WORK_ZONE_I                      99.293316\n",
       "WORK_ZONE_TYPE                   99.439054\n",
       "DOORING_I                        99.661554\n",
       "WORKERS_PRESENT_I                99.835205\n",
       "dtype: float64"
      ]
     },
     "execution_count": 12,
     "metadata": {},
     "output_type": "execute_result"
    }
   ],
   "source": [
    "# answer goes here\n",
    "\n",
    "for col in crash_data.columns:\n",
    "    if col.startswith('INJURIES_'):\n",
    "        median = crash_data[col].median()\n",
    "        print(median)\n",
    "        crash_data[col].fillna(median, inplace=True)\n",
    "\n",
    "\n",
    "missingness_summary(crash_data)"
   ]
  },
  {
   "cell_type": "code",
   "execution_count": null,
   "metadata": {},
   "outputs": [],
   "source": []
  },
  {
   "cell_type": "code",
   "execution_count": null,
   "metadata": {},
   "outputs": [],
   "source": []
  }
 ],
 "metadata": {
  "colab": {
   "collapsed_sections": [],
   "name": "Day 21 Lecture 1 Assignment.ipynb",
   "provenance": []
  },
  "kernelspec": {
   "display_name": "Python 3",
   "language": "python",
   "name": "python3"
  },
  "language_info": {
   "codemirror_mode": {
    "name": "ipython",
    "version": 3
   },
   "file_extension": ".py",
   "mimetype": "text/x-python",
   "name": "python",
   "nbconvert_exporter": "python",
   "pygments_lexer": "ipython3",
   "version": "3.8.5"
  }
 },
 "nbformat": 4,
 "nbformat_minor": 1
}
