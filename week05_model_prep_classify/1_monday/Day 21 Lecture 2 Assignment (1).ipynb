{
 "cells": [
  {
   "cell_type": "markdown",
   "metadata": {
    "colab_type": "text",
    "id": "R76jIygVnkFi"
   },
   "source": [
    "## Day 21 Lecture 2 Assignment\n",
    "\n",
    "In this assignment, we will apply techniques for identifying and dealing with outliers to a dataset containing information about Uber rides."
   ]
  },
  {
   "cell_type": "code",
   "execution_count": 25,
   "metadata": {
    "colab": {},
    "colab_type": "code",
    "id": "QEtvln--nkFj"
   },
   "outputs": [],
   "source": [
    "%matplotlib inline\n",
    "\n",
    "import matplotlib.pyplot as plt\n",
    "import numpy as np\n",
    "import pandas as pd"
   ]
  },
  {
   "cell_type": "code",
   "execution_count": 26,
   "metadata": {
    "colab": {},
    "colab_type": "code",
    "id": "4pEWovz1nkFl"
   },
   "outputs": [],
   "source": [
    "df = pd.read_csv('https://tf-assets-prod.s3.amazonaws.com/tf-curric/data-science/uber_rides.csv')"
   ]
  },
  {
   "cell_type": "code",
   "execution_count": 27,
   "metadata": {
    "colab": {},
    "colab_type": "code",
    "id": "pkrBu-8kRS6s",
    "outputId": "27cb6395-8d53-45da-d2dd-26cf307e6fce"
   },
   "outputs": [
    {
     "data": {
      "text/html": [
       "<div>\n",
       "<style scoped>\n",
       "    .dataframe tbody tr th:only-of-type {\n",
       "        vertical-align: middle;\n",
       "    }\n",
       "\n",
       "    .dataframe tbody tr th {\n",
       "        vertical-align: top;\n",
       "    }\n",
       "\n",
       "    .dataframe thead th {\n",
       "        text-align: right;\n",
       "    }\n",
       "</style>\n",
       "<table border=\"1\" class=\"dataframe\">\n",
       "  <thead>\n",
       "    <tr style=\"text-align: right;\">\n",
       "      <th></th>\n",
       "      <th>trip_uid</th>\n",
       "      <th>trip_time</th>\n",
       "      <th>total_time</th>\n",
       "      <th>wait_time</th>\n",
       "      <th>price_rub</th>\n",
       "      <th>price_usd</th>\n",
       "      <th>distance_kms</th>\n",
       "      <th>temperature_value</th>\n",
       "      <th>feels_like</th>\n",
       "      <th>humidity</th>\n",
       "      <th>wind_speed</th>\n",
       "      <th>cloudness</th>\n",
       "    </tr>\n",
       "  </thead>\n",
       "  <tbody>\n",
       "    <tr>\n",
       "      <th>0</th>\n",
       "      <td>ee89076fd9da9bddf5f096b0ca42f8d5</td>\n",
       "      <td>0:21:33</td>\n",
       "      <td>0:29:00</td>\n",
       "      <td>0:07:27</td>\n",
       "      <td>265</td>\n",
       "      <td>5.17</td>\n",
       "      <td>9.29</td>\n",
       "      <td>12</td>\n",
       "      <td>12</td>\n",
       "      <td>0.69</td>\n",
       "      <td>4.81</td>\n",
       "      <td>0.78</td>\n",
       "    </tr>\n",
       "    <tr>\n",
       "      <th>1</th>\n",
       "      <td>518be51d403944a03c47e8d1f2c87311</td>\n",
       "      <td>0:19:27</td>\n",
       "      <td>0:26:00</td>\n",
       "      <td>0:06:33</td>\n",
       "      <td>255</td>\n",
       "      <td>4.97</td>\n",
       "      <td>9.93</td>\n",
       "      <td>10</td>\n",
       "      <td>10</td>\n",
       "      <td>0.70</td>\n",
       "      <td>6.53</td>\n",
       "      <td>0.66</td>\n",
       "    </tr>\n",
       "    <tr>\n",
       "      <th>2</th>\n",
       "      <td>6e460cc8a12c3c6568d0d4a67ac58393</td>\n",
       "      <td>1:06:53</td>\n",
       "      <td>1:23:00</td>\n",
       "      <td>0:16:07</td>\n",
       "      <td>644</td>\n",
       "      <td>13.01</td>\n",
       "      <td>18.01</td>\n",
       "      <td>14</td>\n",
       "      <td>14</td>\n",
       "      <td>0.61</td>\n",
       "      <td>5.25</td>\n",
       "      <td>0.86</td>\n",
       "    </tr>\n",
       "    <tr>\n",
       "      <th>3</th>\n",
       "      <td>49613a86a04e6c15d72b51d1a2935d81</td>\n",
       "      <td>0:13:37</td>\n",
       "      <td>0:20:00</td>\n",
       "      <td>0:06:23</td>\n",
       "      <td>1287</td>\n",
       "      <td>25.99</td>\n",
       "      <td>5.10</td>\n",
       "      <td>3</td>\n",
       "      <td>3</td>\n",
       "      <td>0.84</td>\n",
       "      <td>0.87</td>\n",
       "      <td>0.56</td>\n",
       "    </tr>\n",
       "    <tr>\n",
       "      <th>4</th>\n",
       "      <td>9896148fdecdb4c5d977a8691510bdb6</td>\n",
       "      <td>0:38:54</td>\n",
       "      <td>0:49:00</td>\n",
       "      <td>0:10:06</td>\n",
       "      <td>665</td>\n",
       "      <td>13.43</td>\n",
       "      <td>21.92</td>\n",
       "      <td>3</td>\n",
       "      <td>1</td>\n",
       "      <td>0.90</td>\n",
       "      <td>1.61</td>\n",
       "      <td>0.31</td>\n",
       "    </tr>\n",
       "  </tbody>\n",
       "</table>\n",
       "</div>"
      ],
      "text/plain": [
       "                           trip_uid trip_time total_time wait_time price_rub  \\\n",
       "0  ee89076fd9da9bddf5f096b0ca42f8d5   0:21:33    0:29:00   0:07:27       265   \n",
       "1  518be51d403944a03c47e8d1f2c87311   0:19:27    0:26:00   0:06:33       255   \n",
       "2  6e460cc8a12c3c6568d0d4a67ac58393   1:06:53    1:23:00   0:16:07       644   \n",
       "3  49613a86a04e6c15d72b51d1a2935d81   0:13:37    0:20:00   0:06:23      1287   \n",
       "4  9896148fdecdb4c5d977a8691510bdb6   0:38:54    0:49:00   0:10:06       665   \n",
       "\n",
       "   price_usd  distance_kms  temperature_value  feels_like  humidity  \\\n",
       "0       5.17          9.29                 12          12      0.69   \n",
       "1       4.97          9.93                 10          10      0.70   \n",
       "2      13.01         18.01                 14          14      0.61   \n",
       "3      25.99          5.10                  3           3      0.84   \n",
       "4      13.43         21.92                  3           1      0.90   \n",
       "\n",
       "   wind_speed cloudness  \n",
       "0        4.81      0.78  \n",
       "1        6.53      0.66  \n",
       "2        5.25      0.86  \n",
       "3        0.87      0.56  \n",
       "4        1.61      0.31  "
      ]
     },
     "execution_count": 27,
     "metadata": {},
     "output_type": "execute_result"
    }
   ],
   "source": [
    "df.head()"
   ]
  },
  {
   "cell_type": "markdown",
   "metadata": {
    "colab_type": "text",
    "id": "5NS7puiURS6v"
   },
   "source": [
    "Before we identify outliers in the given columns, we need to address three time columns (trip_time, total_time, and wait_time), which are provided as formatted strings (HH:MM:SS) instead of numeric values. Convert the values in these three columns into their numeric equivalents in minutes - \"2:15\" should be converted to \"2.25\", \"1:22:30\" should be converted to \"82.5\", and so on. You may find it helpful to write a function that does this and use the .apply() function to apply it to all of the necessary columns."
   ]
  },
  {
   "cell_type": "code",
   "execution_count": 28,
   "metadata": {
    "colab": {},
    "colab_type": "code",
    "id": "caYPANrJnkFn"
   },
   "outputs": [
    {
     "data": {
      "text/html": [
       "<div>\n",
       "<style scoped>\n",
       "    .dataframe tbody tr th:only-of-type {\n",
       "        vertical-align: middle;\n",
       "    }\n",
       "\n",
       "    .dataframe tbody tr th {\n",
       "        vertical-align: top;\n",
       "    }\n",
       "\n",
       "    .dataframe thead th {\n",
       "        text-align: right;\n",
       "    }\n",
       "</style>\n",
       "<table border=\"1\" class=\"dataframe\">\n",
       "  <thead>\n",
       "    <tr style=\"text-align: right;\">\n",
       "      <th></th>\n",
       "      <th>trip_uid</th>\n",
       "      <th>trip_time</th>\n",
       "      <th>total_time</th>\n",
       "      <th>wait_time</th>\n",
       "      <th>price_rub</th>\n",
       "      <th>price_usd</th>\n",
       "      <th>distance_kms</th>\n",
       "      <th>temperature_value</th>\n",
       "      <th>feels_like</th>\n",
       "      <th>humidity</th>\n",
       "      <th>wind_speed</th>\n",
       "      <th>cloudness</th>\n",
       "      <th>minute_trip_t</th>\n",
       "      <th>minute_total_t</th>\n",
       "      <th>minute_wait_t</th>\n",
       "    </tr>\n",
       "  </thead>\n",
       "  <tbody>\n",
       "    <tr>\n",
       "      <th>0</th>\n",
       "      <td>ee89076fd9da9bddf5f096b0ca42f8d5</td>\n",
       "      <td>0:21:33</td>\n",
       "      <td>0:29:00</td>\n",
       "      <td>0:07:27</td>\n",
       "      <td>265</td>\n",
       "      <td>5.17</td>\n",
       "      <td>9.29</td>\n",
       "      <td>12</td>\n",
       "      <td>12</td>\n",
       "      <td>0.69</td>\n",
       "      <td>4.81</td>\n",
       "      <td>0.78</td>\n",
       "      <td>21.55</td>\n",
       "      <td>29.0</td>\n",
       "      <td>7.45</td>\n",
       "    </tr>\n",
       "    <tr>\n",
       "      <th>1</th>\n",
       "      <td>518be51d403944a03c47e8d1f2c87311</td>\n",
       "      <td>0:19:27</td>\n",
       "      <td>0:26:00</td>\n",
       "      <td>0:06:33</td>\n",
       "      <td>255</td>\n",
       "      <td>4.97</td>\n",
       "      <td>9.93</td>\n",
       "      <td>10</td>\n",
       "      <td>10</td>\n",
       "      <td>0.70</td>\n",
       "      <td>6.53</td>\n",
       "      <td>0.66</td>\n",
       "      <td>19.45</td>\n",
       "      <td>26.0</td>\n",
       "      <td>6.55</td>\n",
       "    </tr>\n",
       "    <tr>\n",
       "      <th>2</th>\n",
       "      <td>6e460cc8a12c3c6568d0d4a67ac58393</td>\n",
       "      <td>1:06:53</td>\n",
       "      <td>1:23:00</td>\n",
       "      <td>0:16:07</td>\n",
       "      <td>644</td>\n",
       "      <td>13.01</td>\n",
       "      <td>18.01</td>\n",
       "      <td>14</td>\n",
       "      <td>14</td>\n",
       "      <td>0.61</td>\n",
       "      <td>5.25</td>\n",
       "      <td>0.86</td>\n",
       "      <td>66.88</td>\n",
       "      <td>83.0</td>\n",
       "      <td>16.12</td>\n",
       "    </tr>\n",
       "    <tr>\n",
       "      <th>3</th>\n",
       "      <td>49613a86a04e6c15d72b51d1a2935d81</td>\n",
       "      <td>0:13:37</td>\n",
       "      <td>0:20:00</td>\n",
       "      <td>0:06:23</td>\n",
       "      <td>1287</td>\n",
       "      <td>25.99</td>\n",
       "      <td>5.10</td>\n",
       "      <td>3</td>\n",
       "      <td>3</td>\n",
       "      <td>0.84</td>\n",
       "      <td>0.87</td>\n",
       "      <td>0.56</td>\n",
       "      <td>13.62</td>\n",
       "      <td>20.0</td>\n",
       "      <td>6.38</td>\n",
       "    </tr>\n",
       "    <tr>\n",
       "      <th>4</th>\n",
       "      <td>9896148fdecdb4c5d977a8691510bdb6</td>\n",
       "      <td>0:38:54</td>\n",
       "      <td>0:49:00</td>\n",
       "      <td>0:10:06</td>\n",
       "      <td>665</td>\n",
       "      <td>13.43</td>\n",
       "      <td>21.92</td>\n",
       "      <td>3</td>\n",
       "      <td>1</td>\n",
       "      <td>0.90</td>\n",
       "      <td>1.61</td>\n",
       "      <td>0.31</td>\n",
       "      <td>38.90</td>\n",
       "      <td>49.0</td>\n",
       "      <td>10.10</td>\n",
       "    </tr>\n",
       "  </tbody>\n",
       "</table>\n",
       "</div>"
      ],
      "text/plain": [
       "                           trip_uid trip_time total_time wait_time price_rub  \\\n",
       "0  ee89076fd9da9bddf5f096b0ca42f8d5   0:21:33    0:29:00   0:07:27       265   \n",
       "1  518be51d403944a03c47e8d1f2c87311   0:19:27    0:26:00   0:06:33       255   \n",
       "2  6e460cc8a12c3c6568d0d4a67ac58393   1:06:53    1:23:00   0:16:07       644   \n",
       "3  49613a86a04e6c15d72b51d1a2935d81   0:13:37    0:20:00   0:06:23      1287   \n",
       "4  9896148fdecdb4c5d977a8691510bdb6   0:38:54    0:49:00   0:10:06       665   \n",
       "\n",
       "   price_usd  distance_kms  temperature_value  feels_like  humidity  \\\n",
       "0       5.17          9.29                 12          12      0.69   \n",
       "1       4.97          9.93                 10          10      0.70   \n",
       "2      13.01         18.01                 14          14      0.61   \n",
       "3      25.99          5.10                  3           3      0.84   \n",
       "4      13.43         21.92                  3           1      0.90   \n",
       "\n",
       "   wind_speed cloudness  minute_trip_t  minute_total_t  minute_wait_t  \n",
       "0        4.81      0.78          21.55            29.0           7.45  \n",
       "1        6.53      0.66          19.45            26.0           6.55  \n",
       "2        5.25      0.86          66.88            83.0          16.12  \n",
       "3        0.87      0.56          13.62            20.0           6.38  \n",
       "4        1.61      0.31          38.90            49.0          10.10  "
      ]
     },
     "execution_count": 28,
     "metadata": {},
     "output_type": "execute_result"
    }
   ],
   "source": [
    "# answer goes here\n",
    "time = df['trip_time'].str.split(':').apply(lambda x: float(x[0]) * 60 + float(x[1]) + float(x[2])/60)\n",
    "time1 = round(time, 2)\n",
    "df['minute_trip_t'] = time1\n",
    "\n",
    "timee =  df['total_time'].str.split(':').apply(lambda x: float(x[0]) * 60 + float(x[1]) + float(x[2])/60)\n",
    "timee1 = round(timee, 2)\n",
    "df['minute_total_t'] = timee1\n",
    "\n",
    "\n",
    "timeee =  df['wait_time'].str.split(':').apply(lambda x: float(x[0]) * 60 + float(x[1]) + float(x[2])/60)\n",
    "timeee1 = round(timeee, 2)\n",
    "df['minute_wait_t'] = timeee1\n",
    "\n",
    "df.head()\n"
   ]
  },
  {
   "cell_type": "markdown",
   "metadata": {
    "colab_type": "text",
    "id": "xA9ellO5nkFn"
   },
   "source": [
    "Plot histograms for each of the column, excluding the trip ID. Which features appear to have outliers? What do you suspect the nature of these outliers is (i.e. do you think these are most likely data errors, or correct values that are simply unusually large or small?)"
   ]
  },
  {
   "cell_type": "code",
   "execution_count": 29,
   "metadata": {
    "colab": {},
    "colab_type": "code",
    "id": "NiYLMnxGnkFp"
   },
   "outputs": [
    {
     "data": {
      "image/png": "[encoded data removed]",
      "text/plain": [
       "<Figure size 432x288 with 1 Axes>"
      ]
     },
     "metadata": {
      "needs_background": "light"
     },
     "output_type": "display_data"
    }
   ],
   "source": [
    "# answer goes here\n",
    "#Only the total_time and wait_time has outliers. The waiting time likely to have an error putlier at 130 minutes. \n",
    "#Where as the total_time is probably a real extreme value.\n",
    "plt.hist(df['minute_wait_t'])\n",
    "plt.show()"
   ]
  },
  {
   "cell_type": "code",
   "execution_count": 30,
   "metadata": {},
   "outputs": [
    {
     "data": {
      "image/png": "[encoded data removed]",
      "text/plain": [
       "<Figure size 432x288 with 1 Axes>"
      ]
     },
     "metadata": {
      "needs_background": "light"
     },
     "output_type": "display_data"
    }
   ],
   "source": [
    "plt.hist(df['minute_total_t'])\n",
    "plt.show()"
   ]
  },
  {
   "cell_type": "code",
   "execution_count": 31,
   "metadata": {},
   "outputs": [
    {
     "data": {
      "image/png": "[encoded data removed]",
      "text/plain": [
       "<Figure size 432x288 with 1 Axes>"
      ]
     },
     "metadata": {
      "needs_background": "light"
     },
     "output_type": "display_data"
    }
   ],
   "source": [
    "plt.hist(df['minute_trip_t'])\n",
    "plt.show()"
   ]
  },
  {
   "cell_type": "code",
   "execution_count": 32,
   "metadata": {},
   "outputs": [
    {
     "data": {
      "image/png": "[encoded data removed]",
      "text/plain": [
       "<Figure size 432x288 with 1 Axes>"
      ]
     },
     "metadata": {
      "needs_background": "light"
     },
     "output_type": "display_data"
    }
   ],
   "source": [
    "plt.hist(df['cloudness'])\n",
    "plt.show()"
   ]
  },
  {
   "cell_type": "code",
   "execution_count": 33,
   "metadata": {},
   "outputs": [
    {
     "data": {
      "image/png": "[encoded data removed]",
      "text/plain": [
       "<Figure size 432x288 with 1 Axes>"
      ]
     },
     "metadata": {
      "needs_background": "light"
     },
     "output_type": "display_data"
    }
   ],
   "source": [
    "plt.hist(df['wind_speed'])\n",
    "plt.show()"
   ]
  },
  {
   "cell_type": "code",
   "execution_count": 34,
   "metadata": {},
   "outputs": [
    {
     "data": {
      "image/png": "[encoded data removed]",
      "text/plain": [
       "<Figure size 432x288 with 1 Axes>"
      ]
     },
     "metadata": {
      "needs_background": "light"
     },
     "output_type": "display_data"
    }
   ],
   "source": [
    "plt.hist(df['humidity'])\n",
    "plt.show()"
   ]
  },
  {
   "cell_type": "code",
   "execution_count": 35,
   "metadata": {},
   "outputs": [
    {
     "data": {
      "image/png": "[encoded data removed]",
      "text/plain": [
       "<Figure size 432x288 with 1 Axes>"
      ]
     },
     "metadata": {
      "needs_background": "light"
     },
     "output_type": "display_data"
    }
   ],
   "source": [
    "plt.hist(df['temperature_value'])\n",
    "plt.show()"
   ]
  },
  {
   "cell_type": "code",
   "execution_count": 36,
   "metadata": {},
   "outputs": [
    {
     "data": {
      "image/png": "[encoded data removed]",
      "text/plain": [
       "<Figure size 432x288 with 1 Axes>"
      ]
     },
     "metadata": {
      "needs_background": "light"
     },
     "output_type": "display_data"
    }
   ],
   "source": [
    "plt.hist(df['distance_kms'])\n",
    "plt.show()"
   ]
  },
  {
   "cell_type": "code",
   "execution_count": 37,
   "metadata": {},
   "outputs": [
    {
     "data": {
      "image/png": "[encoded data removed]",
      "text/plain": [
       "<Figure size 432x288 with 1 Axes>"
      ]
     },
     "metadata": {
      "needs_background": "light"
     },
     "output_type": "display_data"
    }
   ],
   "source": [
    "plt.hist(df['price_usd'])\n",
    "plt.show()"
   ]
  },
  {
   "cell_type": "code",
   "execution_count": 38,
   "metadata": {},
   "outputs": [
    {
     "data": {
      "image/png": "[encoded data removed]",
      "text/plain": [
       "<Figure size 432x288 with 1 Axes>"
      ]
     },
     "metadata": {
      "needs_background": "light"
     },
     "output_type": "display_data"
    }
   ],
   "source": [
    "plt.hist(df['price_rub'])\n",
    "plt.show()"
   ]
  },
  {
   "cell_type": "markdown",
   "metadata": {
    "colab_type": "text",
    "id": "ZkttxvvlnkFq"
   },
   "source": [
    "Using Tukey's IQR method and a threshold value of 1.5, how many trips have trip_time values that are identified as outliers? Print these trips out."
   ]
  },
  {
   "cell_type": "code",
   "execution_count": 42,
   "metadata": {
    "colab": {},
    "colab_type": "code",
    "id": "gC5y9EkFnkFr"
   },
   "outputs": [
    {
     "data": {
      "image/png": "[encoded data removed]",
      "text/plain": [
       "<Figure size 1080x360 with 2 Axes>"
      ]
     },
     "metadata": {
      "needs_background": "light"
     },
     "output_type": "display_data"
    }
   ],
   "source": [
    "# answer goes here\n",
    "threshold = 1.5\n",
    "q75, q25 = np.percentile(df['minute_trip_t'], [75, 25])\n",
    "iqr = q75 - q25\n",
    "min_val = q25 - (iqr*threshold)\n",
    "max_val = q75 + (iqr*threshold)\n",
    "plt.figure(figsize=(15, 5))\n",
    "plt.subplot(121)\n",
    "df[['minute_trip_t']].boxplot(whis=5)\n",
    "plt.title('All Values')\n",
    "plt.subplot(122)\n",
    "df.loc[(df['minute_trip_t'] < max_val) &\n",
    "      (df['minute_trip_t'] > min_val),\n",
    "      ['minute_trip_t']].boxplot(whis=5)\n",
    "plt.title('Outliers Removed')\n",
    "plt.show()"
   ]
  },
  {
   "cell_type": "code",
   "execution_count": 49,
   "metadata": {},
   "outputs": [],
   "source": [
    "outliers = df.loc[(df['minute_trip_t'] > max_val) |\n",
    "      (df['minute_trip_t'] < min_val),\n",
    "      ['minute_trip_t']]\n",
    "num_outliers = len(outliers)"
   ]
  },
  {
   "cell_type": "code",
   "execution_count": 50,
   "metadata": {},
   "outputs": [
    {
     "name": "stdout",
     "output_type": "stream",
     "text": [
      "According to Tukey's test, there are 30 outliers in trip_time\n"
     ]
    }
   ],
   "source": [
    "print('According to Tukey\\'s test, there are {} outliers in trip_time'.format(num_outliers))"
   ]
  },
  {
   "cell_type": "markdown",
   "metadata": {
    "colab_type": "text",
    "id": "4_btClOuRS61"
   },
   "source": [
    "There are various ways of handling outliers, including \"clipping\" (also called \"winsorizing\"). Clip the outliers to the appropriate upper/lower threshold calculated as part of Tukey's method. Plot the histogram for trip_time after clipping; how does it look different?"
   ]
  },
  {
   "cell_type": "code",
   "execution_count": 59,
   "metadata": {
    "colab": {},
    "colab_type": "code",
    "id": "siXVYqAfnkFt"
   },
   "outputs": [
    {
     "data": {
      "image/png": "[encoded data removed]",
      "text/plain": [
       "<Figure size 432x288 with 1 Axes>"
      ]
     },
     "metadata": {
      "needs_background": "light"
     },
     "output_type": "display_data"
    }
   ],
   "source": [
    "# answer goes here\n",
    "#The difference between the look of winsorized and original trip_time is that \n",
    "#the former has only values until 47.47, and it stacks 30 values there. Whereas, the latter \n",
    "# has a greater maximum value, it is 89.78 with a much less frequency.\n",
    "from scipy.stats.mstats import winsorize\n",
    "\n",
    "win_trip = pd.Series(winsorize(df['minute_trip_t'], len(outliers)/len(df)\n",
    "\n",
    "))\n",
    "\n",
    "win_trip.hist()\n",
    "plt.show()\n",
    "\n"
   ]
  },
  {
   "cell_type": "code",
   "execution_count": 67,
   "metadata": {},
   "outputs": [
    {
     "data": {
      "image/png": "[encoded data removed]",
      "text/plain": [
       "<Figure size 432x288 with 1 Axes>"
      ]
     },
     "metadata": {
      "needs_background": "light"
     },
     "output_type": "display_data"
    }
   ],
   "source": [
    "plt.hist(df['minute_trip_t'], bins=11)\n",
    "plt.show()"
   ]
  },
  {
   "cell_type": "code",
   "execution_count": null,
   "metadata": {},
   "outputs": [],
   "source": []
  }
 ],
 "metadata": {
  "colab": {
   "collapsed_sections": [],
   "name": "Day 21 Lecture 2 Assignment.ipynb",
   "provenance": []
  },
  "kernelspec": {
   "display_name": "Python 3",
   "language": "python",
   "name": "python3"
  },
  "language_info": {
   "codemirror_mode": {
    "name": "ipython",
    "version": 3
   },
   "file_extension": ".py",
   "mimetype": "text/x-python",
   "name": "python",
   "nbconvert_exporter": "python",
   "pygments_lexer": "ipython3",
   "version": "3.7.6"
  }
 },
 "nbformat": 4,
 "nbformat_minor": 1
}
