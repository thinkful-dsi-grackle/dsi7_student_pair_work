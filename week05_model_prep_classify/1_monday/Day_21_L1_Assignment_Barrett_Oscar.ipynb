{
 "cells": [
  {
   "cell_type": "markdown",
   "metadata": {
    "id": "Zrf-3-WBni8C"
   },
   "source": [
    "## Day 21 Lecture 1 Assignment\n",
    "\n",
    "In this assignment, we will analyze the data types and missingness of values in the Chicago traffic crashes dataset."
   ]
  },
  {
   "cell_type": "code",
   "execution_count": 1,
   "metadata": {
    "id": "gqWRoLL-ni8D"
   },
   "outputs": [],
   "source": [
    "%matplotlib inline\n",
    "\n",
    "import matplotlib.pyplot as plt\n",
    "import numpy as np\n",
    "import pandas as pd"
   ]
  },
  {
   "cell_type": "code",
   "execution_count": 2,
   "metadata": {
    "id": "wSzfEaauni8F"
   },
   "outputs": [],
   "source": [
    "crash_data = pd.read_csv('https://tf-assets-prod.s3.amazonaws.com/tf-curric/data-science/traffic_crashes_chicago.csv')"
   ]
  },
  {
   "cell_type": "code",
   "execution_count": 3,
   "metadata": {
    "colab": {
     "base_uri": "https://localhost:8080/",
     "height": 394
    },
    "id": "1JRr0EDJni8G",
    "outputId": "d1dc3130-d770-42d0-c6e7-4b967b43ec39"
   },
   "outputs": [
    {
     "data": {
      "text/html": [
       "<div>\n",
       "<style scoped>\n",
       "    .dataframe tbody tr th:only-of-type {\n",
       "        vertical-align: middle;\n",
       "    }\n",
       "\n",
       "    .dataframe tbody tr th {\n",
       "        vertical-align: top;\n",
       "    }\n",
       "\n",
       "    .dataframe thead th {\n",
       "        text-align: right;\n",
       "    }\n",
       "</style>\n",
       "<table border=\"1\" class=\"dataframe\">\n",
       "  <thead>\n",
       "    <tr style=\"text-align: right;\">\n",
       "      <th></th>\n",
       "      <th>RD_NO</th>\n",
       "      <th>CRASH_DATE</th>\n",
       "      <th>POSTED_SPEED_LIMIT</th>\n",
       "      <th>TRAFFIC_CONTROL_DEVICE</th>\n",
       "      <th>DEVICE_CONDITION</th>\n",
       "      <th>WEATHER_CONDITION</th>\n",
       "      <th>LIGHTING_CONDITION</th>\n",
       "      <th>FIRST_CRASH_TYPE</th>\n",
       "      <th>TRAFFICWAY_TYPE</th>\n",
       "      <th>LANE_CNT</th>\n",
       "      <th>ALIGNMENT</th>\n",
       "      <th>ROADWAY_SURFACE_COND</th>\n",
       "      <th>ROAD_DEFECT</th>\n",
       "      <th>REPORT_TYPE</th>\n",
       "      <th>CRASH_TYPE</th>\n",
       "      <th>INTERSECTION_RELATED_I</th>\n",
       "      <th>NOT_RIGHT_OF_WAY_I</th>\n",
       "      <th>HIT_AND_RUN_I</th>\n",
       "      <th>DAMAGE</th>\n",
       "      <th>DATE_POLICE_NOTIFIED</th>\n",
       "      <th>PRIM_CONTRIBUTORY_CAUSE</th>\n",
       "      <th>SEC_CONTRIBUTORY_CAUSE</th>\n",
       "      <th>STREET_NO</th>\n",
       "      <th>STREET_DIRECTION</th>\n",
       "      <th>STREET_NAME</th>\n",
       "      <th>BEAT_OF_OCCURRENCE</th>\n",
       "      <th>PHOTOS_TAKEN_I</th>\n",
       "      <th>STATEMENTS_TAKEN_I</th>\n",
       "      <th>DOORING_I</th>\n",
       "      <th>WORK_ZONE_I</th>\n",
       "      <th>WORK_ZONE_TYPE</th>\n",
       "      <th>WORKERS_PRESENT_I</th>\n",
       "      <th>NUM_UNITS</th>\n",
       "      <th>MOST_SEVERE_INJURY</th>\n",
       "      <th>INJURIES_TOTAL</th>\n",
       "      <th>INJURIES_FATAL</th>\n",
       "      <th>INJURIES_INCAPACITATING</th>\n",
       "      <th>INJURIES_NON_INCAPACITATING</th>\n",
       "      <th>INJURIES_REPORTED_NOT_EVIDENT</th>\n",
       "      <th>INJURIES_NO_INDICATION</th>\n",
       "      <th>INJURIES_UNKNOWN</th>\n",
       "    </tr>\n",
       "  </thead>\n",
       "  <tbody>\n",
       "    <tr>\n",
       "      <th>0</th>\n",
       "      <td>JC334993</td>\n",
       "      <td>7/4/2019 22:33</td>\n",
       "      <td>45</td>\n",
       "      <td>NO CONTROLS</td>\n",
       "      <td>NO CONTROLS</td>\n",
       "      <td>CLEAR</td>\n",
       "      <td>DARKNESS, LIGHTED ROAD</td>\n",
       "      <td>REAR END</td>\n",
       "      <td>DIVIDED - W/MEDIAN BARRIER</td>\n",
       "      <td>NaN</td>\n",
       "      <td>STRAIGHT AND LEVEL</td>\n",
       "      <td>DRY</td>\n",
       "      <td>NO DEFECTS</td>\n",
       "      <td>NaN</td>\n",
       "      <td>NO INJURY / DRIVE AWAY</td>\n",
       "      <td>NaN</td>\n",
       "      <td>NaN</td>\n",
       "      <td>NaN</td>\n",
       "      <td>OVER $1,500</td>\n",
       "      <td>7/4/2019 23:05</td>\n",
       "      <td>FOLLOWING TOO CLOSELY</td>\n",
       "      <td>NOT APPLICABLE</td>\n",
       "      <td>300</td>\n",
       "      <td>N</td>\n",
       "      <td>LAKE SHORE DR SB</td>\n",
       "      <td>114.0</td>\n",
       "      <td>NaN</td>\n",
       "      <td>NaN</td>\n",
       "      <td>NaN</td>\n",
       "      <td>NaN</td>\n",
       "      <td>NaN</td>\n",
       "      <td>NaN</td>\n",
       "      <td>NaN</td>\n",
       "      <td>NaN</td>\n",
       "      <td>NaN</td>\n",
       "      <td>NaN</td>\n",
       "      <td>NaN</td>\n",
       "      <td>NaN</td>\n",
       "      <td>NaN</td>\n",
       "      <td>NaN</td>\n",
       "      <td>NaN</td>\n",
       "    </tr>\n",
       "    <tr>\n",
       "      <th>1</th>\n",
       "      <td>JC370822</td>\n",
       "      <td>7/30/2019 10:22</td>\n",
       "      <td>30</td>\n",
       "      <td>NO CONTROLS</td>\n",
       "      <td>NO CONTROLS</td>\n",
       "      <td>CLEAR</td>\n",
       "      <td>DAYLIGHT</td>\n",
       "      <td>TURNING</td>\n",
       "      <td>DIVIDED - W/MEDIAN (NOT RAISED)</td>\n",
       "      <td>NaN</td>\n",
       "      <td>STRAIGHT AND LEVEL</td>\n",
       "      <td>DRY</td>\n",
       "      <td>NO DEFECTS</td>\n",
       "      <td>NaN</td>\n",
       "      <td>NO INJURY / DRIVE AWAY</td>\n",
       "      <td>NaN</td>\n",
       "      <td>NaN</td>\n",
       "      <td>NaN</td>\n",
       "      <td>OVER $1,500</td>\n",
       "      <td>7/30/2019 10:25</td>\n",
       "      <td>FAILING TO YIELD RIGHT-OF-WAY</td>\n",
       "      <td>IMPROPER TURNING/NO SIGNAL</td>\n",
       "      <td>8201</td>\n",
       "      <td>S</td>\n",
       "      <td>DR MARTIN LUTHER KING JR DR</td>\n",
       "      <td>631.0</td>\n",
       "      <td>NaN</td>\n",
       "      <td>NaN</td>\n",
       "      <td>NaN</td>\n",
       "      <td>NaN</td>\n",
       "      <td>NaN</td>\n",
       "      <td>NaN</td>\n",
       "      <td>NaN</td>\n",
       "      <td>NaN</td>\n",
       "      <td>NaN</td>\n",
       "      <td>NaN</td>\n",
       "      <td>NaN</td>\n",
       "      <td>NaN</td>\n",
       "      <td>NaN</td>\n",
       "      <td>NaN</td>\n",
       "      <td>NaN</td>\n",
       "    </tr>\n",
       "    <tr>\n",
       "      <th>2</th>\n",
       "      <td>JC387098</td>\n",
       "      <td>8/10/2019 17:00</td>\n",
       "      <td>25</td>\n",
       "      <td>NO CONTROLS</td>\n",
       "      <td>NO CONTROLS</td>\n",
       "      <td>CLEAR</td>\n",
       "      <td>DAYLIGHT</td>\n",
       "      <td>PARKED MOTOR VEHICLE</td>\n",
       "      <td>ONE-WAY</td>\n",
       "      <td>NaN</td>\n",
       "      <td>STRAIGHT AND LEVEL</td>\n",
       "      <td>DRY</td>\n",
       "      <td>NO DEFECTS</td>\n",
       "      <td>NaN</td>\n",
       "      <td>NO INJURY / DRIVE AWAY</td>\n",
       "      <td>NaN</td>\n",
       "      <td>NaN</td>\n",
       "      <td>NaN</td>\n",
       "      <td>$501 - $1,500</td>\n",
       "      <td>8/10/2019 17:35</td>\n",
       "      <td>EQUIPMENT - VEHICLE CONDITION</td>\n",
       "      <td>NOT APPLICABLE</td>\n",
       "      <td>6747</td>\n",
       "      <td>S</td>\n",
       "      <td>CREGIER AVE</td>\n",
       "      <td>332.0</td>\n",
       "      <td>NaN</td>\n",
       "      <td>NaN</td>\n",
       "      <td>NaN</td>\n",
       "      <td>NaN</td>\n",
       "      <td>NaN</td>\n",
       "      <td>NaN</td>\n",
       "      <td>1.0</td>\n",
       "      <td>NaN</td>\n",
       "      <td>NaN</td>\n",
       "      <td>NaN</td>\n",
       "      <td>NaN</td>\n",
       "      <td>NaN</td>\n",
       "      <td>NaN</td>\n",
       "      <td>NaN</td>\n",
       "      <td>NaN</td>\n",
       "    </tr>\n",
       "    <tr>\n",
       "      <th>3</th>\n",
       "      <td>JC395195</td>\n",
       "      <td>8/16/2019 16:53</td>\n",
       "      <td>30</td>\n",
       "      <td>NO CONTROLS</td>\n",
       "      <td>NO CONTROLS</td>\n",
       "      <td>CLEAR</td>\n",
       "      <td>DAYLIGHT</td>\n",
       "      <td>PARKED MOTOR VEHICLE</td>\n",
       "      <td>NOT DIVIDED</td>\n",
       "      <td>NaN</td>\n",
       "      <td>STRAIGHT AND LEVEL</td>\n",
       "      <td>DRY</td>\n",
       "      <td>NO DEFECTS</td>\n",
       "      <td>NaN</td>\n",
       "      <td>NO INJURY / DRIVE AWAY</td>\n",
       "      <td>NaN</td>\n",
       "      <td>NaN</td>\n",
       "      <td>Y</td>\n",
       "      <td>$501 - $1,500</td>\n",
       "      <td>8/16/2019 16:53</td>\n",
       "      <td>UNABLE TO DETERMINE</td>\n",
       "      <td>NOT APPLICABLE</td>\n",
       "      <td>554</td>\n",
       "      <td>N</td>\n",
       "      <td>FRANKLIN ST</td>\n",
       "      <td>1831.0</td>\n",
       "      <td>NaN</td>\n",
       "      <td>NaN</td>\n",
       "      <td>NaN</td>\n",
       "      <td>NaN</td>\n",
       "      <td>NaN</td>\n",
       "      <td>NaN</td>\n",
       "      <td>1.0</td>\n",
       "      <td>NO INDICATION OF INJURY</td>\n",
       "      <td>0.0</td>\n",
       "      <td>0.0</td>\n",
       "      <td>0.0</td>\n",
       "      <td>0.0</td>\n",
       "      <td>0.0</td>\n",
       "      <td>1.0</td>\n",
       "      <td>0.0</td>\n",
       "    </tr>\n",
       "    <tr>\n",
       "      <th>4</th>\n",
       "      <td>JC396604</td>\n",
       "      <td>8/17/2019 16:04</td>\n",
       "      <td>30</td>\n",
       "      <td>NO CONTROLS</td>\n",
       "      <td>NO CONTROLS</td>\n",
       "      <td>CLEAR</td>\n",
       "      <td>DAYLIGHT</td>\n",
       "      <td>PARKED MOTOR VEHICLE</td>\n",
       "      <td>PARKING LOT</td>\n",
       "      <td>NaN</td>\n",
       "      <td>STRAIGHT AND LEVEL</td>\n",
       "      <td>DRY</td>\n",
       "      <td>NO DEFECTS</td>\n",
       "      <td>NaN</td>\n",
       "      <td>NO INJURY / DRIVE AWAY</td>\n",
       "      <td>NaN</td>\n",
       "      <td>NaN</td>\n",
       "      <td>Y</td>\n",
       "      <td>$501 - $1,500</td>\n",
       "      <td>8/17/2019 18:30</td>\n",
       "      <td>UNABLE TO DETERMINE</td>\n",
       "      <td>UNABLE TO DETERMINE</td>\n",
       "      <td>3700</td>\n",
       "      <td>N</td>\n",
       "      <td>WESTERN AVE</td>\n",
       "      <td>1921.0</td>\n",
       "      <td>NaN</td>\n",
       "      <td>NaN</td>\n",
       "      <td>NaN</td>\n",
       "      <td>NaN</td>\n",
       "      <td>NaN</td>\n",
       "      <td>NaN</td>\n",
       "      <td>1.0</td>\n",
       "      <td>NO INDICATION OF INJURY</td>\n",
       "      <td>0.0</td>\n",
       "      <td>0.0</td>\n",
       "      <td>0.0</td>\n",
       "      <td>0.0</td>\n",
       "      <td>0.0</td>\n",
       "      <td>1.0</td>\n",
       "      <td>0.0</td>\n",
       "    </tr>\n",
       "  </tbody>\n",
       "</table>\n",
       "</div>"
      ],
      "text/plain": [
       "      RD_NO       CRASH_DATE  ...  INJURIES_NO_INDICATION INJURIES_UNKNOWN\n",
       "0  JC334993   7/4/2019 22:33  ...                     NaN              NaN\n",
       "1  JC370822  7/30/2019 10:22  ...                     NaN              NaN\n",
       "2  JC387098  8/10/2019 17:00  ...                     NaN              NaN\n",
       "3  JC395195  8/16/2019 16:53  ...                     1.0              0.0\n",
       "4  JC396604  8/17/2019 16:04  ...                     1.0              0.0\n",
       "\n",
       "[5 rows x 41 columns]"
      ]
     },
     "execution_count": 3,
     "metadata": {
      "tags": []
     },
     "output_type": "execute_result"
    }
   ],
   "source": [
    "crash_data.head()"
   ]
  },
  {
   "cell_type": "markdown",
   "metadata": {
    "id": "5dk0oqeBni8I"
   },
   "source": [
    "Calculate and print out the following: \n",
    "\n",
    "- The data type of each column that was automatically assigned when the data was read in. \n",
    "- The number of numeric columns \n",
    "- The number of categorical/string columns\n",
    "\n",
    "Do the assigned column types make sense, or are there some that should be changed?"
   ]
  },
  {
   "cell_type": "code",
   "execution_count": 4,
   "metadata": {
    "colab": {
     "base_uri": "https://localhost:8080/",
     "height": 833
    },
    "id": "JT9kbyCJni8J",
    "outputId": "c6f3b2f1-47b0-4d39-bde8-fe5a56ca5e30"
   },
   "outputs": [
    {
     "name": "stdout",
     "output_type": "stream",
     "text": [
      "<class 'pandas.core.frame.DataFrame'>\n",
      "RangeIndex: 372585 entries, 0 to 372584\n",
      "Data columns (total 41 columns):\n",
      " #   Column                         Non-Null Count   Dtype  \n",
      "---  ------                         --------------   -----  \n",
      " 0   RD_NO                          372585 non-null  object \n",
      " 1   CRASH_DATE                     372585 non-null  object \n",
      " 2   POSTED_SPEED_LIMIT             372585 non-null  int64  \n",
      " 3   TRAFFIC_CONTROL_DEVICE         372585 non-null  object \n",
      " 4   DEVICE_CONDITION               372585 non-null  object \n",
      " 5   WEATHER_CONDITION              372585 non-null  object \n",
      " 6   LIGHTING_CONDITION             372585 non-null  object \n",
      " 7   FIRST_CRASH_TYPE               372585 non-null  object \n",
      " 8   TRAFFICWAY_TYPE                372585 non-null  object \n",
      " 9   LANE_CNT                       198548 non-null  float64\n",
      " 10  ALIGNMENT                      372585 non-null  object \n",
      " 11  ROADWAY_SURFACE_COND           372585 non-null  object \n",
      " 12  ROAD_DEFECT                    372585 non-null  object \n",
      " 13  REPORT_TYPE                    364011 non-null  object \n",
      " 14  CRASH_TYPE                     372585 non-null  object \n",
      " 15  INTERSECTION_RELATED_I         82171 non-null   object \n",
      " 16  NOT_RIGHT_OF_WAY_I             17170 non-null   object \n",
      " 17  HIT_AND_RUN_I                  103421 non-null  object \n",
      " 18  DAMAGE                         372585 non-null  object \n",
      " 19  DATE_POLICE_NOTIFIED           372585 non-null  object \n",
      " 20  PRIM_CONTRIBUTORY_CAUSE        372585 non-null  object \n",
      " 21  SEC_CONTRIBUTORY_CAUSE         372585 non-null  object \n",
      " 22  STREET_NO                      372585 non-null  int64  \n",
      " 23  STREET_DIRECTION               372583 non-null  object \n",
      " 24  STREET_NAME                    372584 non-null  object \n",
      " 25  BEAT_OF_OCCURRENCE             372581 non-null  float64\n",
      " 26  PHOTOS_TAKEN_I                 4725 non-null    object \n",
      " 27  STATEMENTS_TAKEN_I             7541 non-null    object \n",
      " 28  DOORING_I                      1261 non-null    object \n",
      " 29  WORK_ZONE_I                    2633 non-null    object \n",
      " 30  WORK_ZONE_TYPE                 2090 non-null    object \n",
      " 31  WORKERS_PRESENT_I              614 non-null     object \n",
      " 32  NUM_UNITS                      371186 non-null  float64\n",
      " 33  MOST_SEVERE_INJURY             370426 non-null  object \n",
      " 34  INJURIES_TOTAL                 370433 non-null  float64\n",
      " 35  INJURIES_FATAL                 370433 non-null  float64\n",
      " 36  INJURIES_INCAPACITATING        370433 non-null  float64\n",
      " 37  INJURIES_NON_INCAPACITATING    370433 non-null  float64\n",
      " 38  INJURIES_REPORTED_NOT_EVIDENT  370433 non-null  float64\n",
      " 39  INJURIES_NO_INDICATION         370433 non-null  float64\n",
      " 40  INJURIES_UNKNOWN               370433 non-null  float64\n",
      "dtypes: float64(10), int64(2), object(29)\n",
      "memory usage: 116.5+ MB\n"
     ]
    }
   ],
   "source": [
    "# answer goes here\n",
    "crash_data.info()"
   ]
  },
  {
   "cell_type": "code",
   "execution_count": 5,
   "metadata": {
    "colab": {
     "base_uri": "https://localhost:8080/",
     "height": 34
    },
    "id": "vCaLsM82jrQ8",
    "outputId": "e0f21547-35f9-4003-b57f-ba9f6feccce1"
   },
   "outputs": [
    {
     "data": {
      "text/plain": [
       "29"
      ]
     },
     "execution_count": 5,
     "metadata": {
      "tags": []
     },
     "output_type": "execute_result"
    }
   ],
   "source": [
    "crash_data.select_dtypes(include='O').dtypes.shape[0]"
   ]
  },
  {
   "cell_type": "code",
   "execution_count": 6,
   "metadata": {
    "colab": {
     "base_uri": "https://localhost:8080/",
     "height": 34
    },
    "id": "begFLgcMjrN-",
    "outputId": "1f3a27d7-8100-4aa6-e346-cb006e59f3d0"
   },
   "outputs": [
    {
     "data": {
      "text/plain": [
       "12"
      ]
     },
     "execution_count": 6,
     "metadata": {
      "tags": []
     },
     "output_type": "execute_result"
    }
   ],
   "source": [
    "crash_data.select_dtypes(exclude='O').dtypes.shape[0]"
   ]
  },
  {
   "cell_type": "code",
   "execution_count": 7,
   "metadata": {
    "colab": {
     "base_uri": "https://localhost:8080/",
     "height": 221
    },
    "id": "0QPkWvu-N0Gg",
    "outputId": "de6a2f61-f66d-42c9-f2b3-88c739f70a4f"
   },
   "outputs": [
    {
     "name": "stdout",
     "output_type": "stream",
     "text": [
      "These are the problematic values for the column: POSTED_SPEED_LIMIT\n",
      "These are the problematic values for the column: LANE_CNT\n",
      "These are the problematic values for the column: STREET_NO\n",
      "These are the problematic values for the column: BEAT_OF_OCCURRENCE\n",
      "These are the problematic values for the column: NUM_UNITS\n",
      "These are the problematic values for the column: INJURIES_TOTAL\n",
      "These are the problematic values for the column: INJURIES_FATAL\n",
      "These are the problematic values for the column: INJURIES_INCAPACITATING\n",
      "These are the problematic values for the column: INJURIES_NON_INCAPACITATING\n",
      "These are the problematic values for the column: INJURIES_REPORTED_NOT_EVIDENT\n",
      "These are the problematic values for the column: INJURIES_NO_INDICATION\n",
      "These are the problematic values for the column: INJURIES_UNKNOWN\n"
     ]
    }
   ],
   "source": [
    "for column in crash_data.select_dtypes(exclude='O').columns:\n",
    "  print('These are the problematic values for the column: {}'.format(column))\n",
    "  for value in crash_data[column]:\n",
    "    try:\n",
    "      float(value)\n",
    "    except:\n",
    "      print(value)"
   ]
  },
  {
   "cell_type": "code",
   "execution_count": 8,
   "metadata": {
    "colab": {
     "base_uri": "https://localhost:8080/",
     "height": 1000
    },
    "id": "Cm5oEFWSSSu6",
    "outputId": "5d91f629-6ea5-4f49-ee56-1c837b04f0fe"
   },
   "outputs": [
    {
     "name": "stdout",
     "output_type": "stream",
     "text": [
      "JB276979    1\n",
      "JC431259    1\n",
      "JB442177    1\n",
      "JA433854    1\n",
      "JB408264    1\n",
      "           ..\n",
      "JA104215    1\n",
      "JC120872    1\n",
      "HZ175660    1\n",
      "HZ150329    1\n",
      "JC145774    1\n",
      "Name: RD_NO, Length: 372585, dtype: int64\n",
      "11/10/2017 10:30    27\n",
      "1/12/2019 14:30     20\n",
      "11/10/2017 10:00    20\n",
      "1/12/2019 15:00     18\n",
      "1/12/2019 14:00     18\n",
      "                    ..\n",
      "7/13/2018 22:05      1\n",
      "5/7/2016 13:50       1\n",
      "1/26/2019 20:05      1\n",
      "5/14/2019 10:53      1\n",
      "12/12/2019 23:07     1\n",
      "Name: CRASH_DATE, Length: 238798, dtype: int64\n",
      "NO CONTROLS                 214538\n",
      "TRAFFIC SIGNAL              104008\n",
      "STOP SIGN/FLASHER            36354\n",
      "UNKNOWN                      12125\n",
      "OTHER                         2223\n",
      "LANE USE MARKING              1224\n",
      "YIELD                          526\n",
      "OTHER REG. SIGN                343\n",
      "OTHER WARNING SIGN             317\n",
      "RAILROAD CROSSING GATE         255\n",
      "POLICE/FLAGMAN                 152\n",
      "SCHOOL ZONE                    150\n",
      "PEDESTRIAN CROSSING SIGN       101\n",
      "DELINEATORS                     95\n",
      "OTHER RAILROAD CROSSING         82\n",
      "FLASHING CONTROL SIGNAL         50\n",
      "RR CROSSING SIGN                18\n",
      "NO PASSING                      15\n",
      "BICYCLE CROSSING SIGN            9\n",
      "Name: TRAFFIC_CONTROL_DEVICE, dtype: int64\n",
      "NO CONTROLS                 216514\n",
      "FUNCTIONING PROPERLY        129431\n",
      "UNKNOWN                      20239\n",
      "OTHER                         2829\n",
      "FUNCTIONING IMPROPERLY        2132\n",
      "NOT FUNCTIONING               1210\n",
      "WORN REFLECTIVE MATERIAL       179\n",
      "MISSING                         51\n",
      "Name: DEVICE_CONDITION, dtype: int64\n",
      "CLEAR                     294825\n",
      "RAIN                       34695\n",
      "UNKNOWN                    16021\n",
      "SNOW                       12951\n",
      "CLOUDY/OVERCAST            11331\n",
      "OTHER                       1194\n",
      "FOG/SMOKE/HAZE               698\n",
      "SLEET/HAIL                   593\n",
      "FREEZING RAIN/DRIZZLE        176\n",
      "SEVERE CROSS WIND GATE        84\n",
      "BLOWING SNOW                  17\n",
      "Name: WEATHER_CONDITION, dtype: int64\n",
      "DAYLIGHT                  245052\n",
      "DARKNESS, LIGHTED ROAD     77228\n",
      "DARKNESS                   18928\n",
      "UNKNOWN                    13400\n",
      "DUSK                       11531\n",
      "DAWN                        6446\n",
      "Name: LIGHTING_CONDITION, dtype: int64\n",
      "REAR END                        92257\n",
      "PARKED MOTOR VEHICLE            82572\n",
      "SIDESWIPE SAME DIRECTION        60532\n",
      "TURNING                         52137\n",
      "ANGLE                           38879\n",
      "FIXED OBJECT                    15842\n",
      "PEDESTRIAN                       8715\n",
      "SIDESWIPE OPPOSITE DIRECTION     5537\n",
      "PEDALCYCLIST                     5536\n",
      "OTHER OBJECT                     3444\n",
      "HEAD ON                          3123\n",
      "OTHER NONCOLLISION               1351\n",
      "REAR TO FRONT                    1188\n",
      "REAR TO SIDE                      751\n",
      "REAR TO REAR                      287\n",
      "ANIMAL                            236\n",
      "OVERTURNED                        179\n",
      "TRAIN                              19\n",
      "Name: FIRST_CRASH_TYPE, dtype: int64\n",
      "NOT DIVIDED                        169354\n",
      "DIVIDED - W/MEDIAN (NOT RAISED)     68896\n",
      "ONE-WAY                             49419\n",
      "PARKING LOT                         26947\n",
      "DIVIDED - W/MEDIAN BARRIER          22891\n",
      "OTHER                               11120\n",
      "ALLEY                                5893\n",
      "FOUR WAY                             5820\n",
      "UNKNOWN                              4127\n",
      "CENTER TURN LANE                     3373\n",
      "DRIVEWAY                             1299\n",
      "T-INTERSECTION                       1256\n",
      "RAMP                                 1213\n",
      "UNKNOWN INTERSECTION TYPE             419\n",
      "Y-INTERSECTION                        163\n",
      "FIVE POINT, OR MORE                   158\n",
      "TRAFFIC ROUTE                         125\n",
      "NOT REPORTED                           51\n",
      "ROUNDABOUT                             39\n",
      "L-INTERSECTION                         22\n",
      "Name: TRAFFICWAY_TYPE, dtype: int64\n",
      "STRAIGHT AND LEVEL       363358\n",
      "STRAIGHT ON GRADE          4480\n",
      "CURVE, LEVEL               2775\n",
      "STRAIGHT ON HILLCREST      1231\n",
      "CURVE ON GRADE              554\n",
      "CURVE ON HILLCREST          187\n",
      "Name: ALIGNMENT, dtype: int64\n",
      "DRY                279302\n",
      "WET                 52178\n",
      "UNKNOWN             24397\n",
      "SNOW OR SLUSH       12636\n",
      "ICE                  3024\n",
      "OTHER                 866\n",
      "SAND, MUD, DIRT       182\n",
      "Name: ROADWAY_SURFACE_COND, dtype: int64\n",
      "NO DEFECTS           310797\n",
      "UNKNOWN               52939\n",
      "RUT, HOLES             3912\n",
      "OTHER                  2207\n",
      "WORN SURFACE           1581\n",
      "SHOULDER DEFECT         811\n",
      "DEBRIS ON ROADWAY       338\n",
      "Name: ROAD_DEFECT, dtype: int64\n",
      "NOT ON SCENE (DESK REPORT)    226874\n",
      "ON SCENE                      137137\n",
      "NaN                             8574\n",
      "Name: REPORT_TYPE, dtype: int64\n",
      "NO INJURY / DRIVE AWAY              287624\n",
      "INJURY AND / OR TOW DUE TO CRASH     84961\n",
      "Name: CRASH_TYPE, dtype: int64\n",
      "NaN    290414\n",
      "Y       78303\n",
      "N        3868\n",
      "Name: INTERSECTION_RELATED_I, dtype: int64\n",
      "NaN    355415\n",
      "Y       15698\n",
      "N        1472\n",
      "Name: NOT_RIGHT_OF_WAY_I, dtype: int64\n",
      "NaN    269164\n",
      "Y       98943\n",
      "N        4478\n",
      "Name: HIT_AND_RUN_I, dtype: int64\n",
      "OVER $1,500      209921\n",
      "$501 - $1,500    112592\n",
      "$500 OR LESS      50072\n",
      "Name: DAMAGE, dtype: int64\n",
      "1/12/2019 16:30     11\n",
      "6/30/2018 21:30     11\n",
      "9/13/2019 17:00     11\n",
      "5/25/2018 18:00     10\n",
      "10/25/2017 16:30    10\n",
      "                    ..\n",
      "2/4/2019 16:20       1\n",
      "11/10/2016 9:30      1\n",
      "1/26/2019 22:04      1\n",
      "5/26/2018 4:30       1\n",
      "12/12/2016 8:30      1\n",
      "Name: DATE_POLICE_NOTIFIED, Length: 284355, dtype: int64\n",
      "UNABLE TO DETERMINE                                                                 134654\n",
      "FAILING TO YIELD RIGHT-OF-WAY                                                        41823\n",
      "FOLLOWING TOO CLOSELY                                                                41672\n",
      "NOT APPLICABLE                                                                       20185\n",
      "IMPROPER OVERTAKING/PASSING                                                          18172\n",
      "IMPROPER BACKING                                                                     16968\n",
      "FAILING TO REDUCE SPEED TO AVOID CRASH                                               15195\n",
      "IMPROPER LANE USAGE                                                                  15148\n",
      "IMPROPER TURNING/NO SIGNAL                                                           12660\n",
      "DRIVING SKILLS/KNOWLEDGE/EXPERIENCE                                                  11650\n",
      "DISREGARDING TRAFFIC SIGNALS                                                          6053\n",
      "WEATHER                                                                               6027\n",
      "OPERATING VEHICLE IN ERRATIC, RECKLESS, CARELESS, NEGLIGENT OR AGGRESSIVE MANNER      4352\n",
      "DISREGARDING STOP SIGN                                                                3894\n",
      "DISTRACTION - FROM INSIDE VEHICLE                                                     2705\n",
      "VISION OBSCURED (SIGNS, TREE LIMBS, BUILDINGS, ETC.)                                  2173\n",
      "EQUIPMENT - VEHICLE CONDITION                                                         2148\n",
      "PHYSICAL CONDITION OF DRIVER                                                          2068\n",
      "EXCEEDING AUTHORIZED SPEED LIMIT                                                      1971\n",
      "UNDER THE INFLUENCE OF ALCOHOL/DRUGS (USE WHEN ARREST IS EFFECTED)                    1834\n",
      "EXCEEDING SAFE SPEED FOR CONDITIONS                                                   1682\n",
      "DISTRACTION - FROM OUTSIDE VEHICLE                                                    1621\n",
      "DRIVING ON WRONG SIDE/WRONG WAY                                                       1594\n",
      "ROAD ENGINEERING/SURFACE/MARKING DEFECTS                                              1186\n",
      "ROAD CONSTRUCTION/MAINTENANCE                                                         1012\n",
      "DISREGARDING OTHER TRAFFIC SIGNS                                                       749\n",
      "EVASIVE ACTION DUE TO ANIMAL, OBJECT, NONMOTORIST                                      667\n",
      "DISREGARDING ROAD MARKINGS                                                             540\n",
      "CELL PHONE USE OTHER THAN TEXTING                                                      523\n",
      "HAD BEEN DRINKING (USE WHEN ARREST IS NOT MADE)                                        402\n",
      "ANIMAL                                                                                 311\n",
      "TURNING RIGHT ON RED                                                                   245\n",
      "DISTRACTION - OTHER ELECTRONIC DEVICE (NAVIGATION DEVICE, DVD PLAYER, ETC.)            173\n",
      "TEXTING                                                                                171\n",
      "DISREGARDING YIELD SIGN                                                                134\n",
      "RELATED TO BUS STOP                                                                     73\n",
      "BICYCLE ADVANCING LEGALLY ON RED LIGHT                                                  60\n",
      "PASSING STOPPED SCHOOL BUS                                                              54\n",
      "OBSTRUCTED CROSSWALKS                                                                   19\n",
      "MOTORCYCLE ADVANCING LEGALLY ON RED LIGHT                                               17\n",
      "Name: PRIM_CONTRIBUTORY_CAUSE, dtype: int64\n",
      "NOT APPLICABLE                                                                      148303\n",
      "UNABLE TO DETERMINE                                                                 132380\n",
      "FAILING TO REDUCE SPEED TO AVOID CRASH                                               15810\n",
      "DRIVING SKILLS/KNOWLEDGE/EXPERIENCE                                                  12116\n",
      "FAILING TO YIELD RIGHT-OF-WAY                                                        11732\n",
      "FOLLOWING TOO CLOSELY                                                                10752\n",
      "IMPROPER OVERTAKING/PASSING                                                           5691\n",
      "IMPROPER LANE USAGE                                                                   5639\n",
      "WEATHER                                                                               4781\n",
      "IMPROPER TURNING/NO SIGNAL                                                            3849\n",
      "IMPROPER BACKING                                                                      3363\n",
      "OPERATING VEHICLE IN ERRATIC, RECKLESS, CARELESS, NEGLIGENT OR AGGRESSIVE MANNER      2421\n",
      "EXCEEDING AUTHORIZED SPEED LIMIT                                                      1469\n",
      "EXCEEDING SAFE SPEED FOR CONDITIONS                                                   1434\n",
      "DISREGARDING TRAFFIC SIGNALS                                                          1390\n",
      "VISION OBSCURED (SIGNS, TREE LIMBS, BUILDINGS, ETC.)                                  1344\n",
      "DISTRACTION - FROM INSIDE VEHICLE                                                     1213\n",
      "PHYSICAL CONDITION OF DRIVER                                                          1144\n",
      "DISREGARDING STOP SIGN                                                                1112\n",
      "EQUIPMENT - VEHICLE CONDITION                                                          723\n",
      "DISTRACTION - FROM OUTSIDE VEHICLE                                                     694\n",
      "DRIVING ON WRONG SIDE/WRONG WAY                                                        642\n",
      "UNDER THE INFLUENCE OF ALCOHOL/DRUGS (USE WHEN ARREST IS EFFECTED)                     604\n",
      "ROAD CONSTRUCTION/MAINTENANCE                                                          557\n",
      "HAD BEEN DRINKING (USE WHEN ARREST IS NOT MADE)                                        533\n",
      "ROAD ENGINEERING/SURFACE/MARKING DEFECTS                                               464\n",
      "DISREGARDING ROAD MARKINGS                                                             430\n",
      "DISREGARDING OTHER TRAFFIC SIGNS                                                       383\n",
      "CELL PHONE USE OTHER THAN TEXTING                                                      332\n",
      "BICYCLE ADVANCING LEGALLY ON RED LIGHT                                                 207\n",
      "EVASIVE ACTION DUE TO ANIMAL, OBJECT, NONMOTORIST                                      203\n",
      "ANIMAL                                                                                 193\n",
      "TURNING RIGHT ON RED                                                                   145\n",
      "DISTRACTION - OTHER ELECTRONIC DEVICE (NAVIGATION DEVICE, DVD PLAYER, ETC.)            132\n",
      "DISREGARDING YIELD SIGN                                                                112\n",
      "RELATED TO BUS STOP                                                                     85\n",
      "TEXTING                                                                                 80\n",
      "PASSING STOPPED SCHOOL BUS                                                              51\n",
      "MOTORCYCLE ADVANCING LEGALLY ON RED LIGHT                                               44\n",
      "OBSTRUCTED CROSSWALKS                                                                   28\n",
      "Name: SEC_CONTRIBUTORY_CAUSE, dtype: int64\n",
      "W      133013\n",
      "S      121174\n",
      "N       92733\n",
      "E       25663\n",
      "NaN         2\n",
      "Name: STREET_DIRECTION, dtype: int64\n",
      "WESTERN AVE              10176\n",
      "PULASKI RD                8878\n",
      "CICERO AVE                8068\n",
      "ASHLAND AVE               7997\n",
      "HALSTED ST                7047\n",
      "                         ...  \n",
      "BONAPARTE ST                 1\n",
      "23RD STZHZ                   1\n",
      "ELSTON PKWY                  1\n",
      "MC CORMICK PLACE RAMP        1\n",
      "NaN                          1\n",
      "Name: STREET_NAME, Length: 1535, dtype: int64\n",
      "NaN    367860\n",
      "Y        3687\n",
      "N        1038\n",
      "Name: PHOTOS_TAKEN_I, dtype: int64\n",
      "NaN    365044\n",
      "Y        6134\n",
      "N        1407\n",
      "Name: STATEMENTS_TAKEN_I, dtype: int64\n",
      "NaN    371324\n",
      "Y         861\n",
      "N         400\n",
      "Name: DOORING_I, dtype: int64\n",
      "NaN    369952\n",
      "Y        2090\n",
      "N         543\n",
      "Name: WORK_ZONE_I, dtype: int64\n",
      "NaN             370495\n",
      "CONSTRUCTION      1491\n",
      "UNKNOWN            275\n",
      "MAINTENANCE        206\n",
      "UTILITY            118\n",
      "Name: WORK_ZONE_TYPE, dtype: int64\n",
      "NaN    371971\n",
      "Y         552\n",
      "N          62\n",
      "Name: WORKERS_PRESENT_I, dtype: int64\n",
      "NO INDICATION OF INJURY     325589\n",
      "NONINCAPACITATING INJURY     24492\n",
      "REPORTED, NOT EVIDENT        14450\n",
      "INCAPACITATING INJURY         5591\n",
      "NaN                           2159\n",
      "FATAL                          304\n",
      "Name: MOST_SEVERE_INJURY, dtype: int64\n"
     ]
    }
   ],
   "source": [
    "for column in crash_data.select_dtypes(include='O').columns:\n",
    "  print(crash_data[column].value_counts(dropna=False))"
   ]
  },
  {
   "cell_type": "markdown",
   "metadata": {
    "id": "-UMlmjIO9HHQ"
   },
   "source": [
    "There are 12 columns with numeric values and 29 columns with categorical values.\n",
    "\n",
    "`CRASH_DATE` `DATE_POLICE_NOTIFIED` should be changed to datetime values\n",
    "\n",
    "All float values could be changed to integer values, since they are discrete values.\n"
   ]
  },
  {
   "cell_type": "markdown",
   "metadata": {
    "id": "zC2YmEBTni8K"
   },
   "source": [
    "Write a function *missingness_summary* that takes a pandas dataframe as a parameter and returns a pandas series containing the percentage of missing data in each column. (Hint: the *apply* function can be helpful here.) Furthermore, the function should have two additional parameters:\n",
    "\n",
    "1. print_log (boolean): if True, the function should print out all of the columns in the dataframe, one to a line, followed by the percentage of total rows that have a null value for that column. \n",
    "2. sort (string): a string that allows the user to specify if the output should be sorted in ascending order, descending order, or not at all."
   ]
  },
  {
   "cell_type": "code",
   "execution_count": 9,
   "metadata": {
    "id": "e8MrS6-OnWnk"
   },
   "outputs": [],
   "source": [
    "# answer goes here\n",
    "def null_percentage(df):\n",
    "  return (df.isnull().sum()*100/df.isnull().count()).round(2)\n",
    "\n",
    "def missingness_summary(df, print_log=False, sort=None):\n",
    "  \"\"\"\n",
    "  Takes a pandas df and returns a pandas series containing percentage of \n",
    "  missing data (null values) in each column.\n",
    "\n",
    "  Params:\n",
    "  df : pandas df\n",
    "  print_log: True or False (default), if true prints out all of the columns and \n",
    "            percentages of null values for each column.\n",
    "  sort : 'ascending', 'descending', None (default), sorts output in ascending or \n",
    "          descending if specified.\n",
    "  \"\"\"\n",
    "  missing_values = df.apply(null_percentage)\n",
    "  \n",
    "  if sort == 'ascending':\n",
    "    missing_values = missing_values.sort_values(ascending=True)\n",
    "  if sort == 'descending':\n",
    "    missing_values = missing_values.sort_values(ascending=False)\n",
    "\n",
    "  if print_log:\n",
    "    print('Printing Missingness Summary')\n",
    "    for column in missing_values.index:\n",
    "      print('{} has {} percent missing data'.format(\n",
    "          column, missing_values[column]\n",
    "      ))\n",
    "    print('Missingness Summary completed \\n')\n",
    "  \n",
    "  return missing_values"
   ]
  },
  {
   "cell_type": "markdown",
   "metadata": {
    "id": "7wR6bliDni8M"
   },
   "source": [
    "Call the *missingness summary* function on our data. Answer the following questions *programatically* (this dataset is small enough that we could manually count, but this approach would obviously not be scalable to datasets with hundreds of columns, which frequently occur in real life):\n",
    "\n",
    "1. How many columns have no missing data? Print out these column names.\n",
    "2. How many columns have more than 10% missing data? Again, print out these column names."
   ]
  },
  {
   "cell_type": "code",
   "execution_count": 11,
   "metadata": {
    "colab": {
     "base_uri": "https://localhost:8080/",
     "height": 1000
    },
    "id": "VzB9rC4kni8N",
    "outputId": "2692bcad-a375-4fe0-c364-63d81770bdb3"
   },
   "outputs": [
    {
     "name": "stdout",
     "output_type": "stream",
     "text": [
      "Printing Missingness Summary\n",
      "WORKERS_PRESENT_I has 99.84 percent missing data\n",
      "DOORING_I has 99.66 percent missing data\n",
      "WORK_ZONE_TYPE has 99.44 percent missing data\n",
      "WORK_ZONE_I has 99.29 percent missing data\n",
      "PHOTOS_TAKEN_I has 98.73 percent missing data\n",
      "STATEMENTS_TAKEN_I has 97.98 percent missing data\n",
      "NOT_RIGHT_OF_WAY_I has 95.39 percent missing data\n",
      "INTERSECTION_RELATED_I has 77.95 percent missing data\n",
      "HIT_AND_RUN_I has 72.24 percent missing data\n",
      "LANE_CNT has 46.71 percent missing data\n",
      "REPORT_TYPE has 2.3 percent missing data\n",
      "INJURIES_UNKNOWN has 0.58 percent missing data\n",
      "MOST_SEVERE_INJURY has 0.58 percent missing data\n",
      "INJURIES_TOTAL has 0.58 percent missing data\n",
      "INJURIES_FATAL has 0.58 percent missing data\n",
      "INJURIES_REPORTED_NOT_EVIDENT has 0.58 percent missing data\n",
      "INJURIES_NON_INCAPACITATING has 0.58 percent missing data\n",
      "INJURIES_INCAPACITATING has 0.58 percent missing data\n",
      "INJURIES_NO_INDICATION has 0.58 percent missing data\n",
      "NUM_UNITS has 0.38 percent missing data\n",
      "DEVICE_CONDITION has 0.0 percent missing data\n",
      "LIGHTING_CONDITION has 0.0 percent missing data\n",
      "FIRST_CRASH_TYPE has 0.0 percent missing data\n",
      "TRAFFIC_CONTROL_DEVICE has 0.0 percent missing data\n",
      "POSTED_SPEED_LIMIT has 0.0 percent missing data\n",
      "CRASH_DATE has 0.0 percent missing data\n",
      "TRAFFICWAY_TYPE has 0.0 percent missing data\n",
      "ALIGNMENT has 0.0 percent missing data\n",
      "WEATHER_CONDITION has 0.0 percent missing data\n",
      "PRIM_CONTRIBUTORY_CAUSE has 0.0 percent missing data\n",
      "ROADWAY_SURFACE_COND has 0.0 percent missing data\n",
      "ROAD_DEFECT has 0.0 percent missing data\n",
      "CRASH_TYPE has 0.0 percent missing data\n",
      "DAMAGE has 0.0 percent missing data\n",
      "DATE_POLICE_NOTIFIED has 0.0 percent missing data\n",
      "SEC_CONTRIBUTORY_CAUSE has 0.0 percent missing data\n",
      "STREET_NO has 0.0 percent missing data\n",
      "STREET_DIRECTION has 0.0 percent missing data\n",
      "STREET_NAME has 0.0 percent missing data\n",
      "BEAT_OF_OCCURRENCE has 0.0 percent missing data\n",
      "RD_NO has 0.0 percent missing data\n",
      "Missingness Summary completed \n",
      "\n"
     ]
    },
    {
     "data": {
      "text/plain": [
       "WORKERS_PRESENT_I                99.84\n",
       "DOORING_I                        99.66\n",
       "WORK_ZONE_TYPE                   99.44\n",
       "WORK_ZONE_I                      99.29\n",
       "PHOTOS_TAKEN_I                   98.73\n",
       "STATEMENTS_TAKEN_I               97.98\n",
       "NOT_RIGHT_OF_WAY_I               95.39\n",
       "INTERSECTION_RELATED_I           77.95\n",
       "HIT_AND_RUN_I                    72.24\n",
       "LANE_CNT                         46.71\n",
       "REPORT_TYPE                       2.30\n",
       "INJURIES_UNKNOWN                  0.58\n",
       "MOST_SEVERE_INJURY                0.58\n",
       "INJURIES_TOTAL                    0.58\n",
       "INJURIES_FATAL                    0.58\n",
       "INJURIES_REPORTED_NOT_EVIDENT     0.58\n",
       "INJURIES_NON_INCAPACITATING       0.58\n",
       "INJURIES_INCAPACITATING           0.58\n",
       "INJURIES_NO_INDICATION            0.58\n",
       "NUM_UNITS                         0.38\n",
       "DEVICE_CONDITION                  0.00\n",
       "LIGHTING_CONDITION                0.00\n",
       "FIRST_CRASH_TYPE                  0.00\n",
       "TRAFFIC_CONTROL_DEVICE            0.00\n",
       "POSTED_SPEED_LIMIT                0.00\n",
       "CRASH_DATE                        0.00\n",
       "TRAFFICWAY_TYPE                   0.00\n",
       "ALIGNMENT                         0.00\n",
       "WEATHER_CONDITION                 0.00\n",
       "PRIM_CONTRIBUTORY_CAUSE           0.00\n",
       "ROADWAY_SURFACE_COND              0.00\n",
       "ROAD_DEFECT                       0.00\n",
       "CRASH_TYPE                        0.00\n",
       "DAMAGE                            0.00\n",
       "DATE_POLICE_NOTIFIED              0.00\n",
       "SEC_CONTRIBUTORY_CAUSE            0.00\n",
       "STREET_NO                         0.00\n",
       "STREET_DIRECTION                  0.00\n",
       "STREET_NAME                       0.00\n",
       "BEAT_OF_OCCURRENCE                0.00\n",
       "RD_NO                             0.00\n",
       "dtype: float64"
      ]
     },
     "execution_count": 11,
     "metadata": {
      "tags": []
     },
     "output_type": "execute_result"
    }
   ],
   "source": [
    "# answer goes here\n",
    "missing_data_report = missingness_summary(crash_data, print_log=True, sort='descending')\n",
    "missing_data_report"
   ]
  },
  {
   "cell_type": "code",
   "execution_count": 12,
   "metadata": {
    "colab": {
     "base_uri": "https://localhost:8080/",
     "height": 34
    },
    "id": "xtHBj5ZqIGXZ",
    "outputId": "2f9716e8-3334-445e-ad95-2d1cc3e00d1f"
   },
   "outputs": [
    {
     "data": {
      "text/plain": [
       "21"
      ]
     },
     "execution_count": 12,
     "metadata": {
      "tags": []
     },
     "output_type": "execute_result"
    }
   ],
   "source": [
    "missing_data_report.loc[missing_data_report == 0].shape[0]"
   ]
  },
  {
   "cell_type": "code",
   "execution_count": 13,
   "metadata": {
    "colab": {
     "base_uri": "https://localhost:8080/",
     "height": 391
    },
    "id": "8dNzpZQBhBs8",
    "outputId": "86c76a16-b487-41a0-851c-7e1d8e4ba0d1"
   },
   "outputs": [
    {
     "data": {
      "text/plain": [
       "DEVICE_CONDITION           0.0\n",
       "LIGHTING_CONDITION         0.0\n",
       "FIRST_CRASH_TYPE           0.0\n",
       "TRAFFIC_CONTROL_DEVICE     0.0\n",
       "POSTED_SPEED_LIMIT         0.0\n",
       "CRASH_DATE                 0.0\n",
       "TRAFFICWAY_TYPE            0.0\n",
       "ALIGNMENT                  0.0\n",
       "WEATHER_CONDITION          0.0\n",
       "PRIM_CONTRIBUTORY_CAUSE    0.0\n",
       "ROADWAY_SURFACE_COND       0.0\n",
       "ROAD_DEFECT                0.0\n",
       "CRASH_TYPE                 0.0\n",
       "DAMAGE                     0.0\n",
       "DATE_POLICE_NOTIFIED       0.0\n",
       "SEC_CONTRIBUTORY_CAUSE     0.0\n",
       "STREET_NO                  0.0\n",
       "STREET_DIRECTION           0.0\n",
       "STREET_NAME                0.0\n",
       "BEAT_OF_OCCURRENCE         0.0\n",
       "RD_NO                      0.0\n",
       "dtype: float64"
      ]
     },
     "execution_count": 13,
     "metadata": {
      "tags": []
     },
     "output_type": "execute_result"
    }
   ],
   "source": [
    "missing_data_report.loc[missing_data_report == 0]"
   ]
  },
  {
   "cell_type": "code",
   "execution_count": 14,
   "metadata": {
    "colab": {
     "base_uri": "https://localhost:8080/",
     "height": 34
    },
    "id": "drO2Jy28JxAY",
    "outputId": "d814038e-854a-4d9a-fa62-42993362b4a5"
   },
   "outputs": [
    {
     "data": {
      "text/plain": [
       "10"
      ]
     },
     "execution_count": 14,
     "metadata": {
      "tags": []
     },
     "output_type": "execute_result"
    }
   ],
   "source": [
    "missing_data_report.loc[missing_data_report > 10].shape[0]"
   ]
  },
  {
   "cell_type": "code",
   "execution_count": 15,
   "metadata": {
    "colab": {
     "base_uri": "https://localhost:8080/",
     "height": 204
    },
    "id": "spyp1JGQhFqN",
    "outputId": "26defb54-c55e-4de1-c0ba-2ff74affe1e8"
   },
   "outputs": [
    {
     "data": {
      "text/plain": [
       "WORKERS_PRESENT_I         99.84\n",
       "DOORING_I                 99.66\n",
       "WORK_ZONE_TYPE            99.44\n",
       "WORK_ZONE_I               99.29\n",
       "PHOTOS_TAKEN_I            98.73\n",
       "STATEMENTS_TAKEN_I        97.98\n",
       "NOT_RIGHT_OF_WAY_I        95.39\n",
       "INTERSECTION_RELATED_I    77.95\n",
       "HIT_AND_RUN_I             72.24\n",
       "LANE_CNT                  46.71\n",
       "dtype: float64"
      ]
     },
     "execution_count": 15,
     "metadata": {
      "tags": []
     },
     "output_type": "execute_result"
    }
   ],
   "source": [
    "missing_data_report.loc[missing_data_report > 10]"
   ]
  },
  {
   "cell_type": "markdown",
   "metadata": {
    "id": "T0rFQRHvni8O"
   },
   "source": [
    "For the columns beginning with the string \"INJURIES_\", impute values for the missing data by using an appropriate measure of central tendency.\n",
    "\n",
    "Re-run the *missingness_summary* function after doing the imputation - we should see no missing data in those columns."
   ]
  },
  {
   "cell_type": "code",
   "execution_count": 16,
   "metadata": {
    "colab": {
     "base_uri": "https://localhost:8080/",
     "height": 136
    },
    "id": "fozVFYvXhfkr",
    "outputId": "ac974099-0ada-410a-9d08-ec868a869fb2"
   },
   "outputs": [
    {
     "data": {
      "text/plain": [
       "['INJURIES_TOTAL',\n",
       " 'INJURIES_FATAL',\n",
       " 'INJURIES_INCAPACITATING',\n",
       " 'INJURIES_NON_INCAPACITATING',\n",
       " 'INJURIES_REPORTED_NOT_EVIDENT',\n",
       " 'INJURIES_NO_INDICATION',\n",
       " 'INJURIES_UNKNOWN']"
      ]
     },
     "execution_count": 16,
     "metadata": {
      "tags": []
     },
     "output_type": "execute_result"
    }
   ],
   "source": [
    "# answer goes here\n",
    "injuries_cols= [col for col in crash_data.columns if 'INJURIES_' in col]\n",
    "injuries_cols"
   ]
  },
  {
   "cell_type": "code",
   "execution_count": 17,
   "metadata": {
    "id": "327ii9v9jFKF"
   },
   "outputs": [],
   "source": [
    "for col in injuries_cols:\n",
    "  crash_data[col] = crash_data[col].fillna(crash_data[col].mean())"
   ]
  },
  {
   "cell_type": "code",
   "execution_count": 18,
   "metadata": {
    "colab": {
     "base_uri": "https://localhost:8080/",
     "height": 1000
    },
    "id": "qnpa3qEijFHN",
    "outputId": "f919dcea-018d-4a98-c6de-f0d55db423a7"
   },
   "outputs": [
    {
     "name": "stdout",
     "output_type": "stream",
     "text": [
      "Printing Missingness Summary\n",
      "WORKERS_PRESENT_I has 99.84 percent missing data\n",
      "DOORING_I has 99.66 percent missing data\n",
      "WORK_ZONE_TYPE has 99.44 percent missing data\n",
      "WORK_ZONE_I has 99.29 percent missing data\n",
      "PHOTOS_TAKEN_I has 98.73 percent missing data\n",
      "STATEMENTS_TAKEN_I has 97.98 percent missing data\n",
      "NOT_RIGHT_OF_WAY_I has 95.39 percent missing data\n",
      "INTERSECTION_RELATED_I has 77.95 percent missing data\n",
      "HIT_AND_RUN_I has 72.24 percent missing data\n",
      "LANE_CNT has 46.71 percent missing data\n",
      "REPORT_TYPE has 2.3 percent missing data\n",
      "MOST_SEVERE_INJURY has 0.58 percent missing data\n",
      "NUM_UNITS has 0.38 percent missing data\n",
      "CRASH_DATE has 0.0 percent missing data\n",
      "ROAD_DEFECT has 0.0 percent missing data\n",
      "ROADWAY_SURFACE_COND has 0.0 percent missing data\n",
      "ALIGNMENT has 0.0 percent missing data\n",
      "TRAFFICWAY_TYPE has 0.0 percent missing data\n",
      "FIRST_CRASH_TYPE has 0.0 percent missing data\n",
      "LIGHTING_CONDITION has 0.0 percent missing data\n",
      "POSTED_SPEED_LIMIT has 0.0 percent missing data\n",
      "CRASH_TYPE has 0.0 percent missing data\n",
      "TRAFFIC_CONTROL_DEVICE has 0.0 percent missing data\n",
      "DEVICE_CONDITION has 0.0 percent missing data\n",
      "WEATHER_CONDITION has 0.0 percent missing data\n",
      "INJURIES_UNKNOWN has 0.0 percent missing data\n",
      "PRIM_CONTRIBUTORY_CAUSE has 0.0 percent missing data\n",
      "DAMAGE has 0.0 percent missing data\n",
      "DATE_POLICE_NOTIFIED has 0.0 percent missing data\n",
      "INJURIES_NO_INDICATION has 0.0 percent missing data\n",
      "SEC_CONTRIBUTORY_CAUSE has 0.0 percent missing data\n",
      "STREET_NO has 0.0 percent missing data\n",
      "STREET_DIRECTION has 0.0 percent missing data\n",
      "STREET_NAME has 0.0 percent missing data\n",
      "BEAT_OF_OCCURRENCE has 0.0 percent missing data\n",
      "INJURIES_TOTAL has 0.0 percent missing data\n",
      "INJURIES_FATAL has 0.0 percent missing data\n",
      "INJURIES_INCAPACITATING has 0.0 percent missing data\n",
      "INJURIES_NON_INCAPACITATING has 0.0 percent missing data\n",
      "INJURIES_REPORTED_NOT_EVIDENT has 0.0 percent missing data\n",
      "RD_NO has 0.0 percent missing data\n",
      "Missingness Summary completed \n",
      "\n"
     ]
    },
    {
     "data": {
      "text/plain": [
       "WORKERS_PRESENT_I                99.84\n",
       "DOORING_I                        99.66\n",
       "WORK_ZONE_TYPE                   99.44\n",
       "WORK_ZONE_I                      99.29\n",
       "PHOTOS_TAKEN_I                   98.73\n",
       "STATEMENTS_TAKEN_I               97.98\n",
       "NOT_RIGHT_OF_WAY_I               95.39\n",
       "INTERSECTION_RELATED_I           77.95\n",
       "HIT_AND_RUN_I                    72.24\n",
       "LANE_CNT                         46.71\n",
       "REPORT_TYPE                       2.30\n",
       "MOST_SEVERE_INJURY                0.58\n",
       "NUM_UNITS                         0.38\n",
       "CRASH_DATE                        0.00\n",
       "ROAD_DEFECT                       0.00\n",
       "ROADWAY_SURFACE_COND              0.00\n",
       "ALIGNMENT                         0.00\n",
       "TRAFFICWAY_TYPE                   0.00\n",
       "FIRST_CRASH_TYPE                  0.00\n",
       "LIGHTING_CONDITION                0.00\n",
       "POSTED_SPEED_LIMIT                0.00\n",
       "CRASH_TYPE                        0.00\n",
       "TRAFFIC_CONTROL_DEVICE            0.00\n",
       "DEVICE_CONDITION                  0.00\n",
       "WEATHER_CONDITION                 0.00\n",
       "INJURIES_UNKNOWN                  0.00\n",
       "PRIM_CONTRIBUTORY_CAUSE           0.00\n",
       "DAMAGE                            0.00\n",
       "DATE_POLICE_NOTIFIED              0.00\n",
       "INJURIES_NO_INDICATION            0.00\n",
       "SEC_CONTRIBUTORY_CAUSE            0.00\n",
       "STREET_NO                         0.00\n",
       "STREET_DIRECTION                  0.00\n",
       "STREET_NAME                       0.00\n",
       "BEAT_OF_OCCURRENCE                0.00\n",
       "INJURIES_TOTAL                    0.00\n",
       "INJURIES_FATAL                    0.00\n",
       "INJURIES_INCAPACITATING           0.00\n",
       "INJURIES_NON_INCAPACITATING       0.00\n",
       "INJURIES_REPORTED_NOT_EVIDENT     0.00\n",
       "RD_NO                             0.00\n",
       "dtype: float64"
      ]
     },
     "execution_count": 18,
     "metadata": {
      "tags": []
     },
     "output_type": "execute_result"
    }
   ],
   "source": [
    "missing_data_report = missingness_summary(crash_data, print_log=True, sort='descending')\n",
    "missing_data_report"
   ]
  }
 ],
 "metadata": {
  "colab": {
   "collapsed_sections": [],
   "name": "Day_21_L1_Assignment_Barrett_Oscar.ipynb",
   "provenance": []
  },
  "kernelspec": {
   "display_name": "Python 3",
   "language": "python",
   "name": "python3"
  },
  "language_info": {
   "codemirror_mode": {
    "name": "ipython",
    "version": 3
   },
   "file_extension": ".py",
   "mimetype": "text/x-python",
   "name": "python",
   "nbconvert_exporter": "python",
   "pygments_lexer": "ipython3",
<<<<<<< HEAD
   "version": "3.8.3"
=======
   "version": "3.7.6"
>>>>>>> 171baf44face1db9aa1c467a3a9b3a51493e1db3
  }
 },
 "nbformat": 4,
 "nbformat_minor": 1
}
