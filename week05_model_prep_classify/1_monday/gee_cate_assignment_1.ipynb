{
  "nbformat": 4,
  "nbformat_minor": 0,
  "metadata": {
    "colab": {
      "name": "gee_cate_assignment_1.ipynb",
      "provenance": [],
      "collapsed_sections": []
    },
    "kernelspec": {
      "display_name": "Python 3",
      "language": "python",
      "name": "python3"
    },
    "language_info": {
      "codemirror_mode": {
        "name": "ipython",
        "version": 3
      },
      "file_extension": ".py",
      "mimetype": "text/x-python",
      "name": "python",
      "nbconvert_exporter": "python",
      "pygments_lexer": "ipython3",
      "version": "3.7.3"
    }
  },
  "cells": [
    {
      "cell_type": "markdown",
      "metadata": {
        "id": "Zrf-3-WBni8C"
      },
      "source": [
        "## Day 21 Lecture 1 Assignment\n",
        "\n",
        "In this assignment, we will analyze the data types and missingness of values in the Chicago traffic crashes dataset."
      ]
    },
    {
      "cell_type": "code",
      "metadata": {
        "id": "gqWRoLL-ni8D"
      },
      "source": [
        "%matplotlib inline\n",
        "\n",
        "import matplotlib.pyplot as plt\n",
        "import numpy as np\n",
        "import pandas as pd"
      ],
      "execution_count": 2,
      "outputs": []
    },
    {
      "cell_type": "code",
      "metadata": {
        "id": "wSzfEaauni8F"
      },
      "source": [
        "crash_data = pd.read_csv('https://tf-assets-prod.s3.amazonaws.com/tf-curric/data-science/traffic_crashes_chicago.csv')"
      ],
      "execution_count": 3,
      "outputs": []
    },
    {
      "cell_type": "code",
      "metadata": {
        "id": "1JRr0EDJni8G",
        "outputId": "b5d3044f-1d5c-42de-b253-7f05ab3651de",
        "colab": {
          "base_uri": "https://localhost:8080/",
          "height": 833
        }
      },
      "source": [
        "crash_data.head()\n",
        "crash_data.info()"
      ],
      "execution_count": 16,
      "outputs": [
        {
          "output_type": "stream",
          "text": [
            "<class 'pandas.core.frame.DataFrame'>\n",
            "RangeIndex: 372585 entries, 0 to 372584\n",
            "Data columns (total 41 columns):\n",
            " #   Column                         Non-Null Count   Dtype  \n",
            "---  ------                         --------------   -----  \n",
            " 0   RD_NO                          372585 non-null  object \n",
            " 1   CRASH_DATE                     372585 non-null  object \n",
            " 2   POSTED_SPEED_LIMIT             372585 non-null  int64  \n",
            " 3   TRAFFIC_CONTROL_DEVICE         372585 non-null  object \n",
            " 4   DEVICE_CONDITION               372585 non-null  object \n",
            " 5   WEATHER_CONDITION              372585 non-null  object \n",
            " 6   LIGHTING_CONDITION             372585 non-null  object \n",
            " 7   FIRST_CRASH_TYPE               372585 non-null  object \n",
            " 8   TRAFFICWAY_TYPE                372585 non-null  object \n",
            " 9   LANE_CNT                       198548 non-null  float64\n",
            " 10  ALIGNMENT                      372585 non-null  object \n",
            " 11  ROADWAY_SURFACE_COND           372585 non-null  object \n",
            " 12  ROAD_DEFECT                    372585 non-null  object \n",
            " 13  REPORT_TYPE                    364011 non-null  object \n",
            " 14  CRASH_TYPE                     372585 non-null  object \n",
            " 15  INTERSECTION_RELATED_I         82171 non-null   object \n",
            " 16  NOT_RIGHT_OF_WAY_I             17170 non-null   object \n",
            " 17  HIT_AND_RUN_I                  103421 non-null  object \n",
            " 18  DAMAGE                         372585 non-null  object \n",
            " 19  DATE_POLICE_NOTIFIED           372585 non-null  object \n",
            " 20  PRIM_CONTRIBUTORY_CAUSE        372585 non-null  object \n",
            " 21  SEC_CONTRIBUTORY_CAUSE         372585 non-null  object \n",
            " 22  STREET_NO                      372585 non-null  int64  \n",
            " 23  STREET_DIRECTION               372583 non-null  object \n",
            " 24  STREET_NAME                    372584 non-null  object \n",
            " 25  BEAT_OF_OCCURRENCE             372581 non-null  float64\n",
            " 26  PHOTOS_TAKEN_I                 4725 non-null    object \n",
            " 27  STATEMENTS_TAKEN_I             7541 non-null    object \n",
            " 28  DOORING_I                      1261 non-null    object \n",
            " 29  WORK_ZONE_I                    2633 non-null    object \n",
            " 30  WORK_ZONE_TYPE                 2090 non-null    object \n",
            " 31  WORKERS_PRESENT_I              614 non-null     object \n",
            " 32  NUM_UNITS                      371186 non-null  float64\n",
            " 33  MOST_SEVERE_INJURY             370426 non-null  object \n",
            " 34  INJURIES_TOTAL                 370433 non-null  float64\n",
            " 35  INJURIES_FATAL                 370433 non-null  float64\n",
            " 36  INJURIES_INCAPACITATING        370433 non-null  float64\n",
            " 37  INJURIES_NON_INCAPACITATING    370433 non-null  float64\n",
            " 38  INJURIES_REPORTED_NOT_EVIDENT  370433 non-null  float64\n",
            " 39  INJURIES_NO_INDICATION         370433 non-null  float64\n",
            " 40  INJURIES_UNKNOWN               370433 non-null  float64\n",
            "dtypes: float64(10), int64(2), object(29)\n",
            "memory usage: 116.5+ MB\n"
          ],
          "name": "stdout"
        }
      ]
    },
    {
      "cell_type": "code",
      "metadata": {
        "id": "Uct0h_5-aPJL"
      },
      "source": [
        "#crash_data.info()\n",
        "#crash_data['LANE_CNT'].value_counts()"
      ],
      "execution_count": 5,
      "outputs": []
    },
    {
      "cell_type": "markdown",
      "metadata": {
        "id": "5dk0oqeBni8I"
      },
      "source": [
        "Calculate and print out the following: \n",
        "\n",
        "- The data type of each column that was automatically assigned when the data was read in. \n",
        "- The number of numeric columns \n",
        "- The number of categorical/string columns\n",
        "\n",
        "Do the assigned column types make sense, or are there some that should be changed?"
      ]
    },
    {
      "cell_type": "code",
      "metadata": {
        "id": "JT9kbyCJni8J",
        "outputId": "3b5d163f-7ccd-40f7-a4d9-62ab078cd8c3",
        "colab": {
          "base_uri": "https://localhost:8080/",
          "height": 34
        }
      },
      "source": [
        "# data type of each column\n",
        "crash_data.dtypes\n",
        "\n",
        "# number of numeric columns\n",
        "len(crash_data.select_dtypes(include=[np.number]).columns)\n",
        "\n",
        "# number of categorical/string columns\n",
        "len(crash_data.select_dtypes(include=object).columns)"
      ],
      "execution_count": 15,
      "outputs": [
        {
          "output_type": "execute_result",
          "data": {
            "text/plain": [
              "12"
            ]
          },
          "metadata": {
            "tags": []
          },
          "execution_count": 15
        }
      ]
    },
    {
      "cell_type": "markdown",
      "metadata": {
        "id": "Xfmfs8iylV83"
      },
      "source": [
        "The column types make sense."
      ]
    },
    {
      "cell_type": "markdown",
      "metadata": {
        "id": "zC2YmEBTni8K"
      },
      "source": [
        "Write a function *missingness_summary* that takes a pandas dataframe as a parameter and returns a pandas series containing the percentage of missing data in each column. (Hint: the *apply* function can be helpful here.) Furthermore, the function should have two additional parameters:\n",
        "\n",
        "1. print_log (boolean): if True, the function should print out all of the columns in the dataframe, one to a line, followed by the percentage of total rows that have a null value for that column. \n",
        "2. sort (string): a string that allows the user to specify if the output should be sorted in ascending order, descending order, or not at all."
      ]
    },
    {
      "cell_type": "code",
      "metadata": {
        "id": "VzB9rC4kni8N"
      },
      "source": [
        "# answer goes here\n",
        "def missingness_summary(df, print_log, sort):\n",
        "  if print_log == True:\n",
        "    sort = input(print('Ascending, Descending or None? '))\n",
        "    series = pd.Series(df.isnull().sum()*100/df.isnull().count())\n",
        "    if sort == 'Ascending':\n",
        "      series = series.sort_values(ascending = True)\n",
        "    elif sort == 'Descending':\n",
        "      series = series.sort_values(ascending=False)\n",
        "    else:\n",
        "      series\n",
        "    return series\n",
        "\n",
        "missingness_summary(crash_data, True, sort)\n"
      ],
      "execution_count": 143,
      "outputs": []
    },
    {
      "cell_type": "markdown",
      "metadata": {
        "id": "7wR6bliDni8M"
      },
      "source": [
        "Call the *missingness summary* function on our data. Answer the following questions *programatically* (this dataset is small enough that we could manually count, but this approach would obviously not be scalable to datasets with hundreds of columns, which frequently occur in real life):\n",
        "\n",
        "1. How many columns have no missing data? Print out these column names.\n",
        "2. How many columns have more than 10% missing data? Again, print out these column names."
      ]
    },
    {
      "cell_type": "code",
      "metadata": {
        "id": "PDdtS27fYd3g",
        "outputId": "994bcae0-1cb3-47a0-c455-08f978b256ce",
        "colab": {
          "base_uri": "https://localhost:8080/",
          "height": 340
        }
      },
      "source": [
        "none_missing = 0\n",
        "\n",
        "for i in crash_data:\n",
        "  if crash_data[i].isnull().sum() == 0 :\n",
        "    none_missing += 1\n",
        "    print(i)\n",
        "print(none_missing)"
      ],
      "execution_count": 137,
      "outputs": [
        {
          "output_type": "stream",
          "text": [
            "RD_NO\n",
            "CRASH_DATE\n",
            "POSTED_SPEED_LIMIT\n",
            "TRAFFIC_CONTROL_DEVICE\n",
            "DEVICE_CONDITION\n",
            "WEATHER_CONDITION\n",
            "LIGHTING_CONDITION\n",
            "FIRST_CRASH_TYPE\n",
            "TRAFFICWAY_TYPE\n",
            "ALIGNMENT\n",
            "ROADWAY_SURFACE_COND\n",
            "ROAD_DEFECT\n",
            "CRASH_TYPE\n",
            "DAMAGE\n",
            "DATE_POLICE_NOTIFIED\n",
            "PRIM_CONTRIBUTORY_CAUSE\n",
            "SEC_CONTRIBUTORY_CAUSE\n",
            "STREET_NO\n",
            "18\n"
          ],
          "name": "stdout"
        }
      ]
    },
    {
      "cell_type": "code",
      "metadata": {
        "id": "otKRceLocJ5W",
        "outputId": "987732e4-c456-47fc-c5b3-1a5db12a5fca",
        "colab": {
          "base_uri": "https://localhost:8080/",
          "height": 204
        }
      },
      "source": [
        "missing_lots = 0\n",
        "for i in crash_data:\n",
        "  if crash_data[i].isnull().sum()*100/crash_data[i].isnull().count() > 10:\n",
        "    missing_lots +=1\n",
        "    print(i)\n",
        "print(missing_lots)"
      ],
      "execution_count": 138,
      "outputs": [
        {
          "output_type": "stream",
          "text": [
            "LANE_CNT\n",
            "INTERSECTION_RELATED_I\n",
            "NOT_RIGHT_OF_WAY_I\n",
            "HIT_AND_RUN_I\n",
            "PHOTOS_TAKEN_I\n",
            "STATEMENTS_TAKEN_I\n",
            "DOORING_I\n",
            "WORK_ZONE_I\n",
            "WORK_ZONE_TYPE\n",
            "WORKERS_PRESENT_I\n",
            "10\n"
          ],
          "name": "stdout"
        }
      ]
    },
    {
      "cell_type": "markdown",
      "metadata": {
        "id": "T0rFQRHvni8O"
      },
      "source": [
        "For the columns beginning with the string \"INJURIES_\", impute values for the missing data by using an appropriate measure of central tendency.\n",
        "\n",
        "Re-run the *missingness_summary* function after doing the imputation - we should see no missing data in those columns."
      ]
    },
    {
      "cell_type": "code",
      "metadata": {
        "id": "947BjIolni8P",
        "outputId": "0a2ebe11-4a0d-49b7-aff8-7969af9d4a13",
        "colab": {
          "base_uri": "https://localhost:8080/",
          "height": 765
        }
      },
      "source": [
        "# answer goes here\n",
        "\n",
        "injured_cols = [col for col in crash_data.columns if 'INJURIES' in col] \n",
        "\n",
        "for i in injured_cols:\n",
        "  crash_data[i] = crash_data[i].fillna(crash_data[i].mean())\n",
        "\n",
        "missingness_summary(crash_data, True, sort)"
      ],
      "execution_count": 139,
      "outputs": [
        {
          "output_type": "stream",
          "text": [
            "Ascending, Descending or None? \n",
            "None\n"
          ],
          "name": "stdout"
        },
        {
          "output_type": "execute_result",
          "data": {
            "text/plain": [
              "RD_NO                             0.000000\n",
              "CRASH_DATE                        0.000000\n",
              "POSTED_SPEED_LIMIT                0.000000\n",
              "TRAFFIC_CONTROL_DEVICE            0.000000\n",
              "DEVICE_CONDITION                  0.000000\n",
              "WEATHER_CONDITION                 0.000000\n",
              "LIGHTING_CONDITION                0.000000\n",
              "FIRST_CRASH_TYPE                  0.000000\n",
              "TRAFFICWAY_TYPE                   0.000000\n",
              "LANE_CNT                         46.710683\n",
              "ALIGNMENT                         0.000000\n",
              "ROADWAY_SURFACE_COND              0.000000\n",
              "ROAD_DEFECT                       0.000000\n",
              "REPORT_TYPE                       2.301220\n",
              "CRASH_TYPE                        0.000000\n",
              "INTERSECTION_RELATED_I           77.945704\n",
              "NOT_RIGHT_OF_WAY_I               95.391656\n",
              "HIT_AND_RUN_I                    72.242307\n",
              "DAMAGE                            0.000000\n",
              "DATE_POLICE_NOTIFIED              0.000000\n",
              "PRIM_CONTRIBUTORY_CAUSE           0.000000\n",
              "SEC_CONTRIBUTORY_CAUSE            0.000000\n",
              "STREET_NO                         0.000000\n",
              "STREET_DIRECTION                  0.000537\n",
              "STREET_NAME                       0.000268\n",
              "BEAT_OF_OCCURRENCE                0.001074\n",
              "PHOTOS_TAKEN_I                   98.731833\n",
              "STATEMENTS_TAKEN_I               97.976032\n",
              "DOORING_I                        99.661554\n",
              "WORK_ZONE_I                      99.293316\n",
              "WORK_ZONE_TYPE                   99.439054\n",
              "WORKERS_PRESENT_I                99.835205\n",
              "NUM_UNITS                         0.375485\n",
              "MOST_SEVERE_INJURY                0.579465\n",
              "INJURIES_TOTAL                    0.000000\n",
              "INJURIES_FATAL                    0.000000\n",
              "INJURIES_INCAPACITATING           0.000000\n",
              "INJURIES_NON_INCAPACITATING       0.000000\n",
              "INJURIES_REPORTED_NOT_EVIDENT     0.000000\n",
              "INJURIES_NO_INDICATION            0.000000\n",
              "INJURIES_UNKNOWN                  0.000000\n",
              "dtype: float64"
            ]
          },
          "metadata": {
            "tags": []
          },
          "execution_count": 139
        }
      ]
    }
  ]
}