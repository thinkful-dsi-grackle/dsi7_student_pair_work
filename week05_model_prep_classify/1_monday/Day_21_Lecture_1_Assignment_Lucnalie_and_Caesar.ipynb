{
  "nbformat": 4,
  "nbformat_minor": 0,
  "metadata": {
    "colab": {
      "name": "Day 21 Lecture 1 Assignment - Lucnalie and Caesar.ipynb",
      "provenance": [],
      "collapsed_sections": []
    },
    "kernelspec": {
      "display_name": "Python 3",
      "language": "python",
      "name": "python3"
    },
    "language_info": {
      "codemirror_mode": {
        "name": "ipython",
        "version": 3
      },
      "file_extension": ".py",
      "mimetype": "text/x-python",
      "name": "python",
      "nbconvert_exporter": "python",
      "pygments_lexer": "ipython3",
      "version": "3.7.3"
    }
  },
  "cells": [
    {
      "cell_type": "markdown",
      "metadata": {
        "id": "Zrf-3-WBni8C"
      },
      "source": [
        "## Day 21 Lecture 1 Assignment\n",
        "\n",
        "In this assignment, we will analyze the data types and missingness of values in the Chicago traffic crashes dataset."
      ]
    },
    {
      "cell_type": "code",
      "metadata": {
        "id": "gqWRoLL-ni8D"
      },
      "source": [
        "%matplotlib inline\n",
        "\n",
        "import matplotlib.pyplot as plt\n",
        "import numpy as np\n",
        "import pandas as pd"
      ],
      "execution_count": 1,
      "outputs": []
    },
    {
      "cell_type": "code",
      "metadata": {
        "id": "wSzfEaauni8F"
      },
      "source": [
        "crash_data = pd.read_csv('https://tf-assets-prod.s3.amazonaws.com/tf-curric/data-science/traffic_crashes_chicago.csv')"
      ],
      "execution_count": 2,
      "outputs": []
    },
    {
      "cell_type": "code",
      "metadata": {
        "id": "1JRr0EDJni8G",
        "outputId": "be5a19ae-8d70-46a7-ddb7-f150251c7d12",
        "colab": {
          "base_uri": "https://localhost:8080/",
          "height": 383
        }
      },
      "source": [
        "crash_data.head()"
      ],
      "execution_count": 3,
      "outputs": [
        {
          "output_type": "execute_result",
          "data": {
            "text/html": [
              "<div>\n",
              "<style scoped>\n",
              "    .dataframe tbody tr th:only-of-type {\n",
              "        vertical-align: middle;\n",
              "    }\n",
              "\n",
              "    .dataframe tbody tr th {\n",
              "        vertical-align: top;\n",
              "    }\n",
              "\n",
              "    .dataframe thead th {\n",
              "        text-align: right;\n",
              "    }\n",
              "</style>\n",
              "<table border=\"1\" class=\"dataframe\">\n",
              "  <thead>\n",
              "    <tr style=\"text-align: right;\">\n",
              "      <th></th>\n",
              "      <th>RD_NO</th>\n",
              "      <th>CRASH_DATE</th>\n",
              "      <th>POSTED_SPEED_LIMIT</th>\n",
              "      <th>TRAFFIC_CONTROL_DEVICE</th>\n",
              "      <th>DEVICE_CONDITION</th>\n",
              "      <th>WEATHER_CONDITION</th>\n",
              "      <th>LIGHTING_CONDITION</th>\n",
              "      <th>FIRST_CRASH_TYPE</th>\n",
              "      <th>TRAFFICWAY_TYPE</th>\n",
              "      <th>LANE_CNT</th>\n",
              "      <th>ALIGNMENT</th>\n",
              "      <th>ROADWAY_SURFACE_COND</th>\n",
              "      <th>ROAD_DEFECT</th>\n",
              "      <th>REPORT_TYPE</th>\n",
              "      <th>CRASH_TYPE</th>\n",
              "      <th>INTERSECTION_RELATED_I</th>\n",
              "      <th>NOT_RIGHT_OF_WAY_I</th>\n",
              "      <th>HIT_AND_RUN_I</th>\n",
              "      <th>DAMAGE</th>\n",
              "      <th>DATE_POLICE_NOTIFIED</th>\n",
              "      <th>PRIM_CONTRIBUTORY_CAUSE</th>\n",
              "      <th>SEC_CONTRIBUTORY_CAUSE</th>\n",
              "      <th>STREET_NO</th>\n",
              "      <th>STREET_DIRECTION</th>\n",
              "      <th>STREET_NAME</th>\n",
              "      <th>BEAT_OF_OCCURRENCE</th>\n",
              "      <th>PHOTOS_TAKEN_I</th>\n",
              "      <th>STATEMENTS_TAKEN_I</th>\n",
              "      <th>DOORING_I</th>\n",
              "      <th>WORK_ZONE_I</th>\n",
              "      <th>WORK_ZONE_TYPE</th>\n",
              "      <th>WORKERS_PRESENT_I</th>\n",
              "      <th>NUM_UNITS</th>\n",
              "      <th>MOST_SEVERE_INJURY</th>\n",
              "      <th>INJURIES_TOTAL</th>\n",
              "      <th>INJURIES_FATAL</th>\n",
              "      <th>INJURIES_INCAPACITATING</th>\n",
              "      <th>INJURIES_NON_INCAPACITATING</th>\n",
              "      <th>INJURIES_REPORTED_NOT_EVIDENT</th>\n",
              "      <th>INJURIES_NO_INDICATION</th>\n",
              "      <th>INJURIES_UNKNOWN</th>\n",
              "    </tr>\n",
              "  </thead>\n",
              "  <tbody>\n",
              "    <tr>\n",
              "      <th>0</th>\n",
              "      <td>JC334993</td>\n",
              "      <td>7/4/2019 22:33</td>\n",
              "      <td>45</td>\n",
              "      <td>NO CONTROLS</td>\n",
              "      <td>NO CONTROLS</td>\n",
              "      <td>CLEAR</td>\n",
              "      <td>DARKNESS, LIGHTED ROAD</td>\n",
              "      <td>REAR END</td>\n",
              "      <td>DIVIDED - W/MEDIAN BARRIER</td>\n",
              "      <td>NaN</td>\n",
              "      <td>STRAIGHT AND LEVEL</td>\n",
              "      <td>DRY</td>\n",
              "      <td>NO DEFECTS</td>\n",
              "      <td>NaN</td>\n",
              "      <td>NO INJURY / DRIVE AWAY</td>\n",
              "      <td>NaN</td>\n",
              "      <td>NaN</td>\n",
              "      <td>NaN</td>\n",
              "      <td>OVER $1,500</td>\n",
              "      <td>7/4/2019 23:05</td>\n",
              "      <td>FOLLOWING TOO CLOSELY</td>\n",
              "      <td>NOT APPLICABLE</td>\n",
              "      <td>300</td>\n",
              "      <td>N</td>\n",
              "      <td>LAKE SHORE DR SB</td>\n",
              "      <td>114.0</td>\n",
              "      <td>NaN</td>\n",
              "      <td>NaN</td>\n",
              "      <td>NaN</td>\n",
              "      <td>NaN</td>\n",
              "      <td>NaN</td>\n",
              "      <td>NaN</td>\n",
              "      <td>NaN</td>\n",
              "      <td>NaN</td>\n",
              "      <td>NaN</td>\n",
              "      <td>NaN</td>\n",
              "      <td>NaN</td>\n",
              "      <td>NaN</td>\n",
              "      <td>NaN</td>\n",
              "      <td>NaN</td>\n",
              "      <td>NaN</td>\n",
              "    </tr>\n",
              "    <tr>\n",
              "      <th>1</th>\n",
              "      <td>JC370822</td>\n",
              "      <td>7/30/2019 10:22</td>\n",
              "      <td>30</td>\n",
              "      <td>NO CONTROLS</td>\n",
              "      <td>NO CONTROLS</td>\n",
              "      <td>CLEAR</td>\n",
              "      <td>DAYLIGHT</td>\n",
              "      <td>TURNING</td>\n",
              "      <td>DIVIDED - W/MEDIAN (NOT RAISED)</td>\n",
              "      <td>NaN</td>\n",
              "      <td>STRAIGHT AND LEVEL</td>\n",
              "      <td>DRY</td>\n",
              "      <td>NO DEFECTS</td>\n",
              "      <td>NaN</td>\n",
              "      <td>NO INJURY / DRIVE AWAY</td>\n",
              "      <td>NaN</td>\n",
              "      <td>NaN</td>\n",
              "      <td>NaN</td>\n",
              "      <td>OVER $1,500</td>\n",
              "      <td>7/30/2019 10:25</td>\n",
              "      <td>FAILING TO YIELD RIGHT-OF-WAY</td>\n",
              "      <td>IMPROPER TURNING/NO SIGNAL</td>\n",
              "      <td>8201</td>\n",
              "      <td>S</td>\n",
              "      <td>DR MARTIN LUTHER KING JR DR</td>\n",
              "      <td>631.0</td>\n",
              "      <td>NaN</td>\n",
              "      <td>NaN</td>\n",
              "      <td>NaN</td>\n",
              "      <td>NaN</td>\n",
              "      <td>NaN</td>\n",
              "      <td>NaN</td>\n",
              "      <td>NaN</td>\n",
              "      <td>NaN</td>\n",
              "      <td>NaN</td>\n",
              "      <td>NaN</td>\n",
              "      <td>NaN</td>\n",
              "      <td>NaN</td>\n",
              "      <td>NaN</td>\n",
              "      <td>NaN</td>\n",
              "      <td>NaN</td>\n",
              "    </tr>\n",
              "    <tr>\n",
              "      <th>2</th>\n",
              "      <td>JC387098</td>\n",
              "      <td>8/10/2019 17:00</td>\n",
              "      <td>25</td>\n",
              "      <td>NO CONTROLS</td>\n",
              "      <td>NO CONTROLS</td>\n",
              "      <td>CLEAR</td>\n",
              "      <td>DAYLIGHT</td>\n",
              "      <td>PARKED MOTOR VEHICLE</td>\n",
              "      <td>ONE-WAY</td>\n",
              "      <td>NaN</td>\n",
              "      <td>STRAIGHT AND LEVEL</td>\n",
              "      <td>DRY</td>\n",
              "      <td>NO DEFECTS</td>\n",
              "      <td>NaN</td>\n",
              "      <td>NO INJURY / DRIVE AWAY</td>\n",
              "      <td>NaN</td>\n",
              "      <td>NaN</td>\n",
              "      <td>NaN</td>\n",
              "      <td>$501 - $1,500</td>\n",
              "      <td>8/10/2019 17:35</td>\n",
              "      <td>EQUIPMENT - VEHICLE CONDITION</td>\n",
              "      <td>NOT APPLICABLE</td>\n",
              "      <td>6747</td>\n",
              "      <td>S</td>\n",
              "      <td>CREGIER AVE</td>\n",
              "      <td>332.0</td>\n",
              "      <td>NaN</td>\n",
              "      <td>NaN</td>\n",
              "      <td>NaN</td>\n",
              "      <td>NaN</td>\n",
              "      <td>NaN</td>\n",
              "      <td>NaN</td>\n",
              "      <td>1.0</td>\n",
              "      <td>NaN</td>\n",
              "      <td>NaN</td>\n",
              "      <td>NaN</td>\n",
              "      <td>NaN</td>\n",
              "      <td>NaN</td>\n",
              "      <td>NaN</td>\n",
              "      <td>NaN</td>\n",
              "      <td>NaN</td>\n",
              "    </tr>\n",
              "    <tr>\n",
              "      <th>3</th>\n",
              "      <td>JC395195</td>\n",
              "      <td>8/16/2019 16:53</td>\n",
              "      <td>30</td>\n",
              "      <td>NO CONTROLS</td>\n",
              "      <td>NO CONTROLS</td>\n",
              "      <td>CLEAR</td>\n",
              "      <td>DAYLIGHT</td>\n",
              "      <td>PARKED MOTOR VEHICLE</td>\n",
              "      <td>NOT DIVIDED</td>\n",
              "      <td>NaN</td>\n",
              "      <td>STRAIGHT AND LEVEL</td>\n",
              "      <td>DRY</td>\n",
              "      <td>NO DEFECTS</td>\n",
              "      <td>NaN</td>\n",
              "      <td>NO INJURY / DRIVE AWAY</td>\n",
              "      <td>NaN</td>\n",
              "      <td>NaN</td>\n",
              "      <td>Y</td>\n",
              "      <td>$501 - $1,500</td>\n",
              "      <td>8/16/2019 16:53</td>\n",
              "      <td>UNABLE TO DETERMINE</td>\n",
              "      <td>NOT APPLICABLE</td>\n",
              "      <td>554</td>\n",
              "      <td>N</td>\n",
              "      <td>FRANKLIN ST</td>\n",
              "      <td>1831.0</td>\n",
              "      <td>NaN</td>\n",
              "      <td>NaN</td>\n",
              "      <td>NaN</td>\n",
              "      <td>NaN</td>\n",
              "      <td>NaN</td>\n",
              "      <td>NaN</td>\n",
              "      <td>1.0</td>\n",
              "      <td>NO INDICATION OF INJURY</td>\n",
              "      <td>0.0</td>\n",
              "      <td>0.0</td>\n",
              "      <td>0.0</td>\n",
              "      <td>0.0</td>\n",
              "      <td>0.0</td>\n",
              "      <td>1.0</td>\n",
              "      <td>0.0</td>\n",
              "    </tr>\n",
              "    <tr>\n",
              "      <th>4</th>\n",
              "      <td>JC396604</td>\n",
              "      <td>8/17/2019 16:04</td>\n",
              "      <td>30</td>\n",
              "      <td>NO CONTROLS</td>\n",
              "      <td>NO CONTROLS</td>\n",
              "      <td>CLEAR</td>\n",
              "      <td>DAYLIGHT</td>\n",
              "      <td>PARKED MOTOR VEHICLE</td>\n",
              "      <td>PARKING LOT</td>\n",
              "      <td>NaN</td>\n",
              "      <td>STRAIGHT AND LEVEL</td>\n",
              "      <td>DRY</td>\n",
              "      <td>NO DEFECTS</td>\n",
              "      <td>NaN</td>\n",
              "      <td>NO INJURY / DRIVE AWAY</td>\n",
              "      <td>NaN</td>\n",
              "      <td>NaN</td>\n",
              "      <td>Y</td>\n",
              "      <td>$501 - $1,500</td>\n",
              "      <td>8/17/2019 18:30</td>\n",
              "      <td>UNABLE TO DETERMINE</td>\n",
              "      <td>UNABLE TO DETERMINE</td>\n",
              "      <td>3700</td>\n",
              "      <td>N</td>\n",
              "      <td>WESTERN AVE</td>\n",
              "      <td>1921.0</td>\n",
              "      <td>NaN</td>\n",
              "      <td>NaN</td>\n",
              "      <td>NaN</td>\n",
              "      <td>NaN</td>\n",
              "      <td>NaN</td>\n",
              "      <td>NaN</td>\n",
              "      <td>1.0</td>\n",
              "      <td>NO INDICATION OF INJURY</td>\n",
              "      <td>0.0</td>\n",
              "      <td>0.0</td>\n",
              "      <td>0.0</td>\n",
              "      <td>0.0</td>\n",
              "      <td>0.0</td>\n",
              "      <td>1.0</td>\n",
              "      <td>0.0</td>\n",
              "    </tr>\n",
              "  </tbody>\n",
              "</table>\n",
              "</div>"
            ],
            "text/plain": [
              "      RD_NO       CRASH_DATE  ...  INJURIES_NO_INDICATION INJURIES_UNKNOWN\n",
              "0  JC334993   7/4/2019 22:33  ...                     NaN              NaN\n",
              "1  JC370822  7/30/2019 10:22  ...                     NaN              NaN\n",
              "2  JC387098  8/10/2019 17:00  ...                     NaN              NaN\n",
              "3  JC395195  8/16/2019 16:53  ...                     1.0              0.0\n",
              "4  JC396604  8/17/2019 16:04  ...                     1.0              0.0\n",
              "\n",
              "[5 rows x 41 columns]"
            ]
          },
          "metadata": {
            "tags": []
          },
          "execution_count": 3
        }
      ]
    },
    {
      "cell_type": "markdown",
      "metadata": {
        "id": "5dk0oqeBni8I"
      },
      "source": [
        "Calculate and print out the following: \n",
        "\n",
        "- The data type of each column that was automatically assigned when the data was read in. \n",
        "- The number of numeric columns \n",
        "- The number of categorical/string columns\n",
        "\n",
        "Do the assigned column types make sense, or are there some that should be changed?"
      ]
    },
    {
      "cell_type": "markdown",
      "metadata": {
        "id": "f9okpxLTWrNd"
      },
      "source": [
        "### The data type of each column that was automatically assigned when the data was read in."
      ]
    },
    {
      "cell_type": "code",
      "metadata": {
        "id": "JT9kbyCJni8J",
        "outputId": "3fef8ada-28a5-4db0-afc1-1baf872ac095",
        "colab": {
          "base_uri": "https://localhost:8080/",
          "height": 862
        }
      },
      "source": [
        "crash_data.info()"
      ],
      "execution_count": 5,
      "outputs": [
        {
          "output_type": "stream",
          "text": [
            "<class 'pandas.core.frame.DataFrame'>\n",
            "RangeIndex: 372585 entries, 0 to 372584\n",
            "Data columns (total 41 columns):\n",
            " #   Column                         Non-Null Count   Dtype  \n",
            "---  ------                         --------------   -----  \n",
            " 0   RD_NO                          372585 non-null  object \n",
            " 1   CRASH_DATE                     372585 non-null  object \n",
            " 2   POSTED_SPEED_LIMIT             372585 non-null  int64  \n",
            " 3   TRAFFIC_CONTROL_DEVICE         372585 non-null  object \n",
            " 4   DEVICE_CONDITION               372585 non-null  object \n",
            " 5   WEATHER_CONDITION              372585 non-null  object \n",
            " 6   LIGHTING_CONDITION             372585 non-null  object \n",
            " 7   FIRST_CRASH_TYPE               372585 non-null  object \n",
            " 8   TRAFFICWAY_TYPE                372585 non-null  object \n",
            " 9   LANE_CNT                       198548 non-null  float64\n",
            " 10  ALIGNMENT                      372585 non-null  object \n",
            " 11  ROADWAY_SURFACE_COND           372585 non-null  object \n",
            " 12  ROAD_DEFECT                    372585 non-null  object \n",
            " 13  REPORT_TYPE                    364011 non-null  object \n",
            " 14  CRASH_TYPE                     372585 non-null  object \n",
            " 15  INTERSECTION_RELATED_I         82171 non-null   object \n",
            " 16  NOT_RIGHT_OF_WAY_I             17170 non-null   object \n",
            " 17  HIT_AND_RUN_I                  103421 non-null  object \n",
            " 18  DAMAGE                         372585 non-null  object \n",
            " 19  DATE_POLICE_NOTIFIED           372585 non-null  object \n",
            " 20  PRIM_CONTRIBUTORY_CAUSE        372585 non-null  object \n",
            " 21  SEC_CONTRIBUTORY_CAUSE         372585 non-null  object \n",
            " 22  STREET_NO                      372585 non-null  int64  \n",
            " 23  STREET_DIRECTION               372583 non-null  object \n",
            " 24  STREET_NAME                    372584 non-null  object \n",
            " 25  BEAT_OF_OCCURRENCE             372581 non-null  float64\n",
            " 26  PHOTOS_TAKEN_I                 4725 non-null    object \n",
            " 27  STATEMENTS_TAKEN_I             7541 non-null    object \n",
            " 28  DOORING_I                      1261 non-null    object \n",
            " 29  WORK_ZONE_I                    2633 non-null    object \n",
            " 30  WORK_ZONE_TYPE                 2090 non-null    object \n",
            " 31  WORKERS_PRESENT_I              614 non-null     object \n",
            " 32  NUM_UNITS                      371186 non-null  float64\n",
            " 33  MOST_SEVERE_INJURY             370426 non-null  object \n",
            " 34  INJURIES_TOTAL                 370433 non-null  float64\n",
            " 35  INJURIES_FATAL                 370433 non-null  float64\n",
            " 36  INJURIES_INCAPACITATING        370433 non-null  float64\n",
            " 37  INJURIES_NON_INCAPACITATING    370433 non-null  float64\n",
            " 38  INJURIES_REPORTED_NOT_EVIDENT  370433 non-null  float64\n",
            " 39  INJURIES_NO_INDICATION         370433 non-null  float64\n",
            " 40  INJURIES_UNKNOWN               370433 non-null  float64\n",
            "dtypes: float64(10), int64(2), object(29)\n",
            "memory usage: 116.5+ MB\n"
          ],
          "name": "stdout"
        }
      ]
    },
    {
      "cell_type": "code",
      "metadata": {
        "id": "46QuOoWpiCRU",
        "outputId": "007fd173-9d39-4d24-920d-83f6b93807aa",
        "colab": {
          "base_uri": "https://localhost:8080/",
          "height": 34
        }
      },
      "source": [
        "crash_data['INJURIES_TOTAL'].isnull().unique()"
      ],
      "execution_count": 80,
      "outputs": [
        {
          "output_type": "execute_result",
          "data": {
            "text/plain": [
              "array([ True, False])"
            ]
          },
          "metadata": {
            "tags": []
          },
          "execution_count": 80
        }
      ]
    },
    {
      "cell_type": "markdown",
      "metadata": {
        "id": "A_kMU8qHXA-0"
      },
      "source": [
        "### The number of numeric columns in the data set is 12."
      ]
    },
    {
      "cell_type": "markdown",
      "metadata": {
        "id": "0qeVtwhQXDkG"
      },
      "source": [
        "### The number of categorical/string columns 29."
      ]
    },
    {
      "cell_type": "markdown",
      "metadata": {
        "id": "zC2YmEBTni8K"
      },
      "source": [
        "Write a function *missingness_summary* that takes a pandas dataframe as a parameter and returns a pandas series containing the percentage of missing data in each column. (Hint: the *apply* function can be helpful here.) Furthermore, the function should have two additional parameters:\n",
        "\n",
        "1. print_log (boolean): if True, the function should print out all of the columns in the dataframe, one to a line, followed by the percentage of total rows that have a null value for that column. \n",
        "2. sort (string): a string that allows the user to specify if the output should be sorted in ascending order, descending order, or not at all."
      ]
    },
    {
      "cell_type": "code",
      "metadata": {
        "id": "YHQQ8b9wtFT7",
        "outputId": "a40b9901-0706-40b3-c61c-77bc83bd5a0b",
        "colab": {
          "base_uri": "https://localhost:8080/",
          "height": 756
        }
      },
      "source": [
        "def missingness_summary(data, print_log, sort):\n",
        "    missing = data.isnull().sum()*100/data.isnull().count()\n",
        "    if print_log == True:\n",
        "        print('---SUMMARY---\\n' + missing.to_string() +'\\n')\n",
        "    if sort == 'asc':\n",
        "        missing.sort_values(ascending=True, inplace=True)\n",
        "    elif sort == 'desc':\n",
        "        missing.sort_values(ascending=False, inplace=True)\n",
        "    return missing\n",
        "\n",
        "missing_update = missingness_summary(crash_data, False, 'desc')\n",
        "print(missing_update)"
      ],
      "execution_count": 84,
      "outputs": [
        {
          "output_type": "stream",
          "text": [
            "WORKERS_PRESENT_I                99.835205\n",
            "DOORING_I                        99.661554\n",
            "WORK_ZONE_TYPE                   99.439054\n",
            "WORK_ZONE_I                      99.293316\n",
            "PHOTOS_TAKEN_I                   98.731833\n",
            "STATEMENTS_TAKEN_I               97.976032\n",
            "NOT_RIGHT_OF_WAY_I               95.391656\n",
            "INTERSECTION_RELATED_I           77.945704\n",
            "HIT_AND_RUN_I                    72.242307\n",
            "LANE_CNT                         46.710683\n",
            "REPORT_TYPE                       2.301220\n",
            "MOST_SEVERE_INJURY                0.579465\n",
            "INJURIES_NO_INDICATION            0.577586\n",
            "INJURIES_TOTAL                    0.577586\n",
            "INJURIES_FATAL                    0.577586\n",
            "INJURIES_INCAPACITATING           0.577586\n",
            "INJURIES_NON_INCAPACITATING       0.577586\n",
            "INJURIES_REPORTED_NOT_EVIDENT     0.577586\n",
            "INJURIES_UNKNOWN                  0.577586\n",
            "NUM_UNITS                         0.375485\n",
            "BEAT_OF_OCCURRENCE                0.001074\n",
            "STREET_DIRECTION                  0.000537\n",
            "STREET_NAME                       0.000268\n",
            "TRAFFIC_CONTROL_DEVICE            0.000000\n",
            "DEVICE_CONDITION                  0.000000\n",
            "POSTED_SPEED_LIMIT                0.000000\n",
            "CRASH_DATE                        0.000000\n",
            "WEATHER_CONDITION                 0.000000\n",
            "LIGHTING_CONDITION                0.000000\n",
            "FIRST_CRASH_TYPE                  0.000000\n",
            "TRAFFICWAY_TYPE                   0.000000\n",
            "PRIM_CONTRIBUTORY_CAUSE           0.000000\n",
            "ALIGNMENT                         0.000000\n",
            "ROADWAY_SURFACE_COND              0.000000\n",
            "ROAD_DEFECT                       0.000000\n",
            "CRASH_TYPE                        0.000000\n",
            "DAMAGE                            0.000000\n",
            "DATE_POLICE_NOTIFIED              0.000000\n",
            "SEC_CONTRIBUTORY_CAUSE            0.000000\n",
            "STREET_NO                         0.000000\n",
            "RD_NO                             0.000000\n",
            "dtype: float64\n"
          ],
          "name": "stdout"
        }
      ]
    },
    {
      "cell_type": "markdown",
      "metadata": {
        "id": "7wR6bliDni8M"
      },
      "source": [
        "Call the *missingness summary* function on our data. Answer the following questions *programatically* (this dataset is small enough that we could manually count, but this approach would obviously not be scalable to datasets with hundreds of columns, which frequently occur in real life):\n",
        "\n",
        "1. How many columns have no missing data? Print out these column names.\n",
        "2. How many columns have more than 10% missing data? Again, print out these column names."
      ]
    },
    {
      "cell_type": "code",
      "metadata": {
        "id": "VzB9rC4kni8N",
        "outputId": "ededfc8e-cc3d-402d-cf2f-6638b041c60b",
        "colab": {
          "base_uri": "https://localhost:8080/",
          "height": 650
        }
      },
      "source": [
        "print('--No Missing Data--')\n",
        "s = missingness_summary(crash_data, False, 'desc')\n",
        "no_missing = s.where(s > 0)\n",
        "no_missing.dropna(inplace=True)\n",
        "\n",
        "for ind, val in no_missing.iteritems():\n",
        "    print(ind)\n",
        "\n",
        "print('\\n--More Than 10% Missing--')\n",
        "more_than_10 = s.where(s > 10)\n",
        "more_than_10.dropna(inplace=True)\n",
        "\n",
        "for ind, val in more_than_10.iteritems():\n",
        "    print(ind)"
      ],
      "execution_count": 68,
      "outputs": [
        {
          "output_type": "stream",
          "text": [
            "--No Missing Data--\n",
            "WORKERS_PRESENT_I\n",
            "DOORING_I\n",
            "WORK_ZONE_TYPE\n",
            "WORK_ZONE_I\n",
            "PHOTOS_TAKEN_I\n",
            "STATEMENTS_TAKEN_I\n",
            "NOT_RIGHT_OF_WAY_I\n",
            "INTERSECTION_RELATED_I\n",
            "HIT_AND_RUN_I\n",
            "LANE_CNT\n",
            "REPORT_TYPE\n",
            "MOST_SEVERE_INJURY\n",
            "INJURIES_NO_INDICATION\n",
            "INJURIES_TOTAL\n",
            "INJURIES_FATAL\n",
            "INJURIES_INCAPACITATING\n",
            "INJURIES_NON_INCAPACITATING\n",
            "INJURIES_REPORTED_NOT_EVIDENT\n",
            "INJURIES_UNKNOWN\n",
            "NUM_UNITS\n",
            "BEAT_OF_OCCURRENCE\n",
            "STREET_DIRECTION\n",
            "STREET_NAME\n",
            "\n",
            "--More Than 10% Missing--\n",
            "WORKERS_PRESENT_I\n",
            "DOORING_I\n",
            "WORK_ZONE_TYPE\n",
            "WORK_ZONE_I\n",
            "PHOTOS_TAKEN_I\n",
            "STATEMENTS_TAKEN_I\n",
            "NOT_RIGHT_OF_WAY_I\n",
            "INTERSECTION_RELATED_I\n",
            "HIT_AND_RUN_I\n",
            "LANE_CNT\n"
          ],
          "name": "stdout"
        }
      ]
    },
    {
      "cell_type": "markdown",
      "metadata": {
        "id": "T0rFQRHvni8O"
      },
      "source": [
        "For the columns beginning with the string \"INJURIES_\", impute values for the missing data by using an appropriate measure of central tendency.\n",
        "\n",
        "Re-run the *missingness_summary* function after doing the imputation - we should see no missing data in those columns."
      ]
    },
    {
      "cell_type": "code",
      "metadata": {
        "id": "947BjIolni8P",
        "outputId": "ad6dfa84-645e-446b-8b53-85936e96f45e",
        "colab": {
          "base_uri": "https://localhost:8080/",
          "height": 756
        }
      },
      "source": [
        "df_copy = crash_data.copy()\n",
        "\n",
        "columns = [\"INJURIES_TOTAL\", \"INJURIES_FATAL\", \"INJURIES_INCAPACITATING\", \n",
        "           \"INJURIES_NON_INCAPACITATING\", \"INJURIES_REPORTED_NOT_EVIDENT\", \n",
        "           \"INJURIES_NO_INDICATION\", \"INJURIES_UNKNOWN\"]\n",
        "\n",
        "for current in columns:\n",
        "  df_copy.loc[:, current] = df_copy.loc[:, current].fillna(df_copy.loc[:, current].mean())\n",
        "\n",
        "missingness_summary(df_copy, False, 'desc')"
      ],
      "execution_count": 82,
      "outputs": [
        {
          "output_type": "execute_result",
          "data": {
            "text/plain": [
              "WORKERS_PRESENT_I                99.835205\n",
              "DOORING_I                        99.661554\n",
              "WORK_ZONE_TYPE                   99.439054\n",
              "WORK_ZONE_I                      99.293316\n",
              "PHOTOS_TAKEN_I                   98.731833\n",
              "STATEMENTS_TAKEN_I               97.976032\n",
              "NOT_RIGHT_OF_WAY_I               95.391656\n",
              "INTERSECTION_RELATED_I           77.945704\n",
              "HIT_AND_RUN_I                    72.242307\n",
              "LANE_CNT                         46.710683\n",
              "REPORT_TYPE                       2.301220\n",
              "MOST_SEVERE_INJURY                0.579465\n",
              "NUM_UNITS                         0.375485\n",
              "BEAT_OF_OCCURRENCE                0.001074\n",
              "STREET_DIRECTION                  0.000537\n",
              "STREET_NAME                       0.000268\n",
              "ALIGNMENT                         0.000000\n",
              "ROADWAY_SURFACE_COND              0.000000\n",
              "CRASH_DATE                        0.000000\n",
              "POSTED_SPEED_LIMIT                0.000000\n",
              "TRAFFIC_CONTROL_DEVICE            0.000000\n",
              "FIRST_CRASH_TYPE                  0.000000\n",
              "DEVICE_CONDITION                  0.000000\n",
              "TRAFFICWAY_TYPE                   0.000000\n",
              "LIGHTING_CONDITION                0.000000\n",
              "ROAD_DEFECT                       0.000000\n",
              "WEATHER_CONDITION                 0.000000\n",
              "INJURIES_UNKNOWN                  0.000000\n",
              "PRIM_CONTRIBUTORY_CAUSE           0.000000\n",
              "CRASH_TYPE                        0.000000\n",
              "DAMAGE                            0.000000\n",
              "DATE_POLICE_NOTIFIED              0.000000\n",
              "INJURIES_NO_INDICATION            0.000000\n",
              "SEC_CONTRIBUTORY_CAUSE            0.000000\n",
              "STREET_NO                         0.000000\n",
              "INJURIES_TOTAL                    0.000000\n",
              "INJURIES_FATAL                    0.000000\n",
              "INJURIES_INCAPACITATING           0.000000\n",
              "INJURIES_NON_INCAPACITATING       0.000000\n",
              "INJURIES_REPORTED_NOT_EVIDENT     0.000000\n",
              "RD_NO                             0.000000\n",
              "dtype: float64"
            ]
          },
          "metadata": {
            "tags": []
          },
          "execution_count": 82
        }
      ]
    }
  ]
}