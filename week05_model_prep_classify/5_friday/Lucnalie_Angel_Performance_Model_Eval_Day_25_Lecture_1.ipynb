{
  "nbformat": 4,
  "nbformat_minor": 0,
  "metadata": {
    "colab": {
      "name": "Lucnalie_Angel_Performance_Model_Eval_Day 25 Lecture 1.ipynb",
      "provenance": [],
      "collapsed_sections": []
    },
    "kernelspec": {
      "display_name": "Python 3",
      "language": "python",
      "name": "python3"
    },
    "language_info": {
      "codemirror_mode": {
        "name": "ipython",
        "version": 3
      },
      "file_extension": ".py",
      "mimetype": "text/x-python",
      "name": "python",
      "nbconvert_exporter": "python",
      "pygments_lexer": "ipython3",
      "version": "3.7.3"
    }
  },
  "cells": [
    {
      "cell_type": "markdown",
      "metadata": {
        "id": "kOVPVzs51Zbk"
      },
      "source": [
        "## Day 25 Lecture 1 Assignment\n",
        "\n",
        "In this assignment, we will evaluate the performance of the model we built yesterday on the Chicago traffic crash data. We will also perform hyperparameter tuning and evaluate a final model using additional metrics (e.g. AUC-ROC, precision, recall, etc.)"
      ]
    },
    {
      "cell_type": "code",
      "metadata": {
        "id": "pMcAKhJ91Zbl"
      },
      "source": [
        "import matplotlib.pyplot as plt\n",
        "import numpy as np\n",
        "import pandas as pd\n",
        "from sklearn.linear_model import LogisticRegression\n",
        "from sklearn.model_selection import train_test_split\n",
        "from sklearn.dummy import DummyClassifier\n",
        "from sklearn.metrics import confusion_matrix\n",
        "from sklearn.metrics import log_loss\n",
        "import statsmodels.api as sm"
      ],
      "execution_count": 17,
      "outputs": []
    },
    {
      "cell_type": "code",
      "metadata": {
        "id": "yaLsrwAeN8kI"
      },
      "source": [
        "crash_data = pd.read_csv('https://tf-assets-prod.s3.amazonaws.com/tf-curric/data-science/traffic_crashes_chicago.csv')"
      ],
      "execution_count": 5,
      "outputs": []
    },
    {
      "cell_type": "code",
      "metadata": {
        "id": "YutfwKNkRhQ2"
      },
      "source": [
        "def missingness_summary(df, print_log, sort):\n",
        "  if print_log == True:\n",
        "    series = pd.Series(df.isnull().sum()*100/df.isnull().count())\n",
        "    if sort == 'Ascending':\n",
        "      series = series.sort_values(ascending = True)\n",
        "    elif sort == 'Descending':\n",
        "      series = series.sort_values(ascending=False)\n",
        "    elif sort == 'None':\n",
        "      series\n",
        "    else:\n",
        "      return('Invalid sort parameter. Please select from: \"Ascending\", \"Descending\" and \"None\"')\n",
        "    return series"
      ],
      "execution_count": 6,
      "outputs": []
    },
    {
      "cell_type": "code",
      "metadata": {
        "id": "SOZT2TrLRmNu"
      },
      "source": [
        "damage =[]\n",
        "\n",
        "for i in crash_data['DAMAGE']:\n",
        "  if i == 'OVER $1,500':\n",
        "    damage.append(1)\n",
        "  else:\n",
        "    damage.append(0)"
      ],
      "execution_count": 7,
      "outputs": []
    },
    {
      "cell_type": "code",
      "metadata": {
        "id": "ypTzUiqwRwCP"
      },
      "source": [
        "crash_data['DAMAGE'] = damage"
      ],
      "execution_count": 8,
      "outputs": []
    },
    {
      "cell_type": "code",
      "metadata": {
        "id": "wMIqG5LNR1sg",
        "outputId": "ca570f29-6d30-4590-defd-e17f52dd8de3",
        "colab": {
          "base_uri": "https://localhost:8080/",
          "height": 503
        }
      },
      "source": [
        "# dropping all columns with more than 5% missing data \n",
        "# and categorical columns with any missing data\n",
        "\n",
        "objects = crash_data.select_dtypes(include='O')\n",
        "objects = objects.columns\n",
        "\n",
        "for i in crash_data:\n",
        "  if crash_data[i].isnull().sum()*100/crash_data[i].isnull().count()  > 5:\n",
        "    crash_data = crash_data.drop(i, axis=1)\n",
        "  elif i in objects:\n",
        "    if crash_data[i].isnull().sum()*100/crash_data[i].isnull().count() != 0:\n",
        "      crash_data = crash_data.drop(i, axis=1)\n",
        "\n",
        "print(missingness_summary(crash_data, True, 'Descending'))"
      ],
      "execution_count": 9,
      "outputs": [
        {
          "output_type": "stream",
          "text": [
            "INJURIES_UNKNOWN                 0.577586\n",
            "INJURIES_NO_INDICATION           0.577586\n",
            "INJURIES_REPORTED_NOT_EVIDENT    0.577586\n",
            "INJURIES_NON_INCAPACITATING      0.577586\n",
            "INJURIES_INCAPACITATING          0.577586\n",
            "INJURIES_FATAL                   0.577586\n",
            "INJURIES_TOTAL                   0.577586\n",
            "NUM_UNITS                        0.375485\n",
            "BEAT_OF_OCCURRENCE               0.001074\n",
            "CRASH_DATE                       0.000000\n",
            "POSTED_SPEED_LIMIT               0.000000\n",
            "TRAFFIC_CONTROL_DEVICE           0.000000\n",
            "DEVICE_CONDITION                 0.000000\n",
            "TRAFFICWAY_TYPE                  0.000000\n",
            "WEATHER_CONDITION                0.000000\n",
            "LIGHTING_CONDITION               0.000000\n",
            "FIRST_CRASH_TYPE                 0.000000\n",
            "DAMAGE                           0.000000\n",
            "ALIGNMENT                        0.000000\n",
            "ROADWAY_SURFACE_COND             0.000000\n",
            "ROAD_DEFECT                      0.000000\n",
            "CRASH_TYPE                       0.000000\n",
            "DATE_POLICE_NOTIFIED             0.000000\n",
            "PRIM_CONTRIBUTORY_CAUSE          0.000000\n",
            "SEC_CONTRIBUTORY_CAUSE           0.000000\n",
            "STREET_NO                        0.000000\n",
            "RD_NO                            0.000000\n",
            "dtype: float64\n"
          ],
          "name": "stdout"
        }
      ]
    },
    {
      "cell_type": "code",
      "metadata": {
        "id": "kkc8Ism-R6yT",
        "outputId": "363253e8-1d9b-460b-d85a-d6e07854f8ba",
        "colab": {
          "base_uri": "https://localhost:8080/",
          "height": 503
        }
      },
      "source": [
        "# Imputing the median \n",
        "for i in crash_data.select_dtypes(exclude='O'):\n",
        "  if i !='STREET_NO':\n",
        "    crash_data[i] = crash_data[i].fillna(crash_data[i].median())\n",
        "\n",
        "missingness_summary(crash_data, True, 'None')"
      ],
      "execution_count": 10,
      "outputs": [
        {
          "output_type": "execute_result",
          "data": {
            "text/plain": [
              "RD_NO                            0.0\n",
              "CRASH_DATE                       0.0\n",
              "POSTED_SPEED_LIMIT               0.0\n",
              "TRAFFIC_CONTROL_DEVICE           0.0\n",
              "DEVICE_CONDITION                 0.0\n",
              "WEATHER_CONDITION                0.0\n",
              "LIGHTING_CONDITION               0.0\n",
              "FIRST_CRASH_TYPE                 0.0\n",
              "TRAFFICWAY_TYPE                  0.0\n",
              "ALIGNMENT                        0.0\n",
              "ROADWAY_SURFACE_COND             0.0\n",
              "ROAD_DEFECT                      0.0\n",
              "CRASH_TYPE                       0.0\n",
              "DAMAGE                           0.0\n",
              "DATE_POLICE_NOTIFIED             0.0\n",
              "PRIM_CONTRIBUTORY_CAUSE          0.0\n",
              "SEC_CONTRIBUTORY_CAUSE           0.0\n",
              "STREET_NO                        0.0\n",
              "BEAT_OF_OCCURRENCE               0.0\n",
              "NUM_UNITS                        0.0\n",
              "INJURIES_TOTAL                   0.0\n",
              "INJURIES_FATAL                   0.0\n",
              "INJURIES_INCAPACITATING          0.0\n",
              "INJURIES_NON_INCAPACITATING      0.0\n",
              "INJURIES_REPORTED_NOT_EVIDENT    0.0\n",
              "INJURIES_NO_INDICATION           0.0\n",
              "INJURIES_UNKNOWN                 0.0\n",
              "dtype: float64"
            ]
          },
          "metadata": {
            "tags": []
          },
          "execution_count": 10
        }
      ]
    },
    {
      "cell_type": "code",
      "metadata": {
        "id": "IEnbVo00R_Xp",
        "outputId": "69252549-f1ae-4e28-fdbd-1df1959b7227",
        "colab": {
          "base_uri": "https://localhost:8080/",
          "height": 470
        }
      },
      "source": [
        "# set up an object to hold the features \n",
        "features = crash_data[['POSTED_SPEED_LIMIT', 'INJURIES_TOTAL', 'DAMAGE']]\n",
        "\n",
        "\n",
        "# one hot encode categorical features\n",
        "weather = pd.get_dummies(crash_data['WEATHER_CONDITION'])\n",
        "weather.drop('CLEAR', axis=1)\n",
        "\n",
        "crash_type = pd.get_dummies(crash_data['FIRST_CRASH_TYPE'])\n",
        "crash_type.drop('REAR END', axis=1)"
      ],
      "execution_count": 11,
      "outputs": [
        {
          "output_type": "execute_result",
          "data": {
            "text/html": [
              "<div>\n",
              "<style scoped>\n",
              "    .dataframe tbody tr th:only-of-type {\n",
              "        vertical-align: middle;\n",
              "    }\n",
              "\n",
              "    .dataframe tbody tr th {\n",
              "        vertical-align: top;\n",
              "    }\n",
              "\n",
              "    .dataframe thead th {\n",
              "        text-align: right;\n",
              "    }\n",
              "</style>\n",
              "<table border=\"1\" class=\"dataframe\">\n",
              "  <thead>\n",
              "    <tr style=\"text-align: right;\">\n",
              "      <th></th>\n",
              "      <th>ANGLE</th>\n",
              "      <th>ANIMAL</th>\n",
              "      <th>FIXED OBJECT</th>\n",
              "      <th>HEAD ON</th>\n",
              "      <th>OTHER NONCOLLISION</th>\n",
              "      <th>OTHER OBJECT</th>\n",
              "      <th>OVERTURNED</th>\n",
              "      <th>PARKED MOTOR VEHICLE</th>\n",
              "      <th>PEDALCYCLIST</th>\n",
              "      <th>PEDESTRIAN</th>\n",
              "      <th>REAR TO FRONT</th>\n",
              "      <th>REAR TO REAR</th>\n",
              "      <th>REAR TO SIDE</th>\n",
              "      <th>SIDESWIPE OPPOSITE DIRECTION</th>\n",
              "      <th>SIDESWIPE SAME DIRECTION</th>\n",
              "      <th>TRAIN</th>\n",
              "      <th>TURNING</th>\n",
              "    </tr>\n",
              "  </thead>\n",
              "  <tbody>\n",
              "    <tr>\n",
              "      <th>0</th>\n",
              "      <td>0</td>\n",
              "      <td>0</td>\n",
              "      <td>0</td>\n",
              "      <td>0</td>\n",
              "      <td>0</td>\n",
              "      <td>0</td>\n",
              "      <td>0</td>\n",
              "      <td>0</td>\n",
              "      <td>0</td>\n",
              "      <td>0</td>\n",
              "      <td>0</td>\n",
              "      <td>0</td>\n",
              "      <td>0</td>\n",
              "      <td>0</td>\n",
              "      <td>0</td>\n",
              "      <td>0</td>\n",
              "      <td>0</td>\n",
              "    </tr>\n",
              "    <tr>\n",
              "      <th>1</th>\n",
              "      <td>0</td>\n",
              "      <td>0</td>\n",
              "      <td>0</td>\n",
              "      <td>0</td>\n",
              "      <td>0</td>\n",
              "      <td>0</td>\n",
              "      <td>0</td>\n",
              "      <td>0</td>\n",
              "      <td>0</td>\n",
              "      <td>0</td>\n",
              "      <td>0</td>\n",
              "      <td>0</td>\n",
              "      <td>0</td>\n",
              "      <td>0</td>\n",
              "      <td>0</td>\n",
              "      <td>0</td>\n",
              "      <td>1</td>\n",
              "    </tr>\n",
              "    <tr>\n",
              "      <th>2</th>\n",
              "      <td>0</td>\n",
              "      <td>0</td>\n",
              "      <td>0</td>\n",
              "      <td>0</td>\n",
              "      <td>0</td>\n",
              "      <td>0</td>\n",
              "      <td>0</td>\n",
              "      <td>1</td>\n",
              "      <td>0</td>\n",
              "      <td>0</td>\n",
              "      <td>0</td>\n",
              "      <td>0</td>\n",
              "      <td>0</td>\n",
              "      <td>0</td>\n",
              "      <td>0</td>\n",
              "      <td>0</td>\n",
              "      <td>0</td>\n",
              "    </tr>\n",
              "    <tr>\n",
              "      <th>3</th>\n",
              "      <td>0</td>\n",
              "      <td>0</td>\n",
              "      <td>0</td>\n",
              "      <td>0</td>\n",
              "      <td>0</td>\n",
              "      <td>0</td>\n",
              "      <td>0</td>\n",
              "      <td>1</td>\n",
              "      <td>0</td>\n",
              "      <td>0</td>\n",
              "      <td>0</td>\n",
              "      <td>0</td>\n",
              "      <td>0</td>\n",
              "      <td>0</td>\n",
              "      <td>0</td>\n",
              "      <td>0</td>\n",
              "      <td>0</td>\n",
              "    </tr>\n",
              "    <tr>\n",
              "      <th>4</th>\n",
              "      <td>0</td>\n",
              "      <td>0</td>\n",
              "      <td>0</td>\n",
              "      <td>0</td>\n",
              "      <td>0</td>\n",
              "      <td>0</td>\n",
              "      <td>0</td>\n",
              "      <td>1</td>\n",
              "      <td>0</td>\n",
              "      <td>0</td>\n",
              "      <td>0</td>\n",
              "      <td>0</td>\n",
              "      <td>0</td>\n",
              "      <td>0</td>\n",
              "      <td>0</td>\n",
              "      <td>0</td>\n",
              "      <td>0</td>\n",
              "    </tr>\n",
              "    <tr>\n",
              "      <th>...</th>\n",
              "      <td>...</td>\n",
              "      <td>...</td>\n",
              "      <td>...</td>\n",
              "      <td>...</td>\n",
              "      <td>...</td>\n",
              "      <td>...</td>\n",
              "      <td>...</td>\n",
              "      <td>...</td>\n",
              "      <td>...</td>\n",
              "      <td>...</td>\n",
              "      <td>...</td>\n",
              "      <td>...</td>\n",
              "      <td>...</td>\n",
              "      <td>...</td>\n",
              "      <td>...</td>\n",
              "      <td>...</td>\n",
              "      <td>...</td>\n",
              "    </tr>\n",
              "    <tr>\n",
              "      <th>372580</th>\n",
              "      <td>0</td>\n",
              "      <td>0</td>\n",
              "      <td>0</td>\n",
              "      <td>0</td>\n",
              "      <td>0</td>\n",
              "      <td>0</td>\n",
              "      <td>0</td>\n",
              "      <td>0</td>\n",
              "      <td>0</td>\n",
              "      <td>0</td>\n",
              "      <td>0</td>\n",
              "      <td>0</td>\n",
              "      <td>0</td>\n",
              "      <td>0</td>\n",
              "      <td>0</td>\n",
              "      <td>0</td>\n",
              "      <td>1</td>\n",
              "    </tr>\n",
              "    <tr>\n",
              "      <th>372581</th>\n",
              "      <td>0</td>\n",
              "      <td>0</td>\n",
              "      <td>0</td>\n",
              "      <td>0</td>\n",
              "      <td>0</td>\n",
              "      <td>0</td>\n",
              "      <td>0</td>\n",
              "      <td>0</td>\n",
              "      <td>0</td>\n",
              "      <td>0</td>\n",
              "      <td>0</td>\n",
              "      <td>0</td>\n",
              "      <td>0</td>\n",
              "      <td>0</td>\n",
              "      <td>0</td>\n",
              "      <td>0</td>\n",
              "      <td>0</td>\n",
              "    </tr>\n",
              "    <tr>\n",
              "      <th>372582</th>\n",
              "      <td>0</td>\n",
              "      <td>0</td>\n",
              "      <td>0</td>\n",
              "      <td>0</td>\n",
              "      <td>0</td>\n",
              "      <td>0</td>\n",
              "      <td>0</td>\n",
              "      <td>0</td>\n",
              "      <td>0</td>\n",
              "      <td>0</td>\n",
              "      <td>0</td>\n",
              "      <td>0</td>\n",
              "      <td>0</td>\n",
              "      <td>0</td>\n",
              "      <td>0</td>\n",
              "      <td>0</td>\n",
              "      <td>0</td>\n",
              "    </tr>\n",
              "    <tr>\n",
              "      <th>372583</th>\n",
              "      <td>0</td>\n",
              "      <td>0</td>\n",
              "      <td>0</td>\n",
              "      <td>0</td>\n",
              "      <td>0</td>\n",
              "      <td>0</td>\n",
              "      <td>0</td>\n",
              "      <td>0</td>\n",
              "      <td>0</td>\n",
              "      <td>0</td>\n",
              "      <td>0</td>\n",
              "      <td>0</td>\n",
              "      <td>0</td>\n",
              "      <td>0</td>\n",
              "      <td>0</td>\n",
              "      <td>0</td>\n",
              "      <td>0</td>\n",
              "    </tr>\n",
              "    <tr>\n",
              "      <th>372584</th>\n",
              "      <td>0</td>\n",
              "      <td>0</td>\n",
              "      <td>0</td>\n",
              "      <td>0</td>\n",
              "      <td>0</td>\n",
              "      <td>0</td>\n",
              "      <td>0</td>\n",
              "      <td>0</td>\n",
              "      <td>0</td>\n",
              "      <td>0</td>\n",
              "      <td>0</td>\n",
              "      <td>0</td>\n",
              "      <td>0</td>\n",
              "      <td>0</td>\n",
              "      <td>0</td>\n",
              "      <td>0</td>\n",
              "      <td>1</td>\n",
              "    </tr>\n",
              "  </tbody>\n",
              "</table>\n",
              "<p>372585 rows × 17 columns</p>\n",
              "</div>"
            ],
            "text/plain": [
              "        ANGLE  ANIMAL  FIXED OBJECT  ...  SIDESWIPE SAME DIRECTION  TRAIN  TURNING\n",
              "0           0       0             0  ...                         0      0        0\n",
              "1           0       0             0  ...                         0      0        1\n",
              "2           0       0             0  ...                         0      0        0\n",
              "3           0       0             0  ...                         0      0        0\n",
              "4           0       0             0  ...                         0      0        0\n",
              "...       ...     ...           ...  ...                       ...    ...      ...\n",
              "372580      0       0             0  ...                         0      0        1\n",
              "372581      0       0             0  ...                         0      0        0\n",
              "372582      0       0             0  ...                         0      0        0\n",
              "372583      0       0             0  ...                         0      0        0\n",
              "372584      0       0             0  ...                         0      0        1\n",
              "\n",
              "[372585 rows x 17 columns]"
            ]
          },
          "metadata": {
            "tags": []
          },
          "execution_count": 11
        }
      ]
    },
    {
      "cell_type": "code",
      "metadata": {
        "id": "3G6FkaMaSCcs"
      },
      "source": [
        "features = pd.concat([features, weather], axis=1)\n",
        "features = pd.concat([features, crash_type], axis=1)"
      ],
      "execution_count": 12,
      "outputs": []
    },
    {
      "cell_type": "code",
      "metadata": {
        "id": "IllY-Q7FSHft"
      },
      "source": [
        "Y = features['DAMAGE']\n",
        "X = features.drop(['DAMAGE'], axis=1)\n",
        "\n",
        "X_train, X_test, Y_train, Y_test = train_test_split(X, Y, test_size=.2)"
      ],
      "execution_count": 13,
      "outputs": []
    },
    {
      "cell_type": "markdown",
      "metadata": {
        "id": "UkPoFJCueQZ3"
      },
      "source": [
        "Since we will be building on the model we built in the last assignment, we will need to redo all of the data preparation steps up to the point of model building. These steps include creating the response, missing value imputation, and one-hot encoding our selected categorical variables. The quickest way to get going would be to open last week's assignment, make a copy, and build on it from there."
      ]
    },
    {
      "cell_type": "markdown",
      "metadata": {
        "id": "P7hI35MY1Zbq"
      },
      "source": [
        "Statsmodels' implementation of logistic has certain advantages over scikit-learn's, such as clean, easy to read model summary output and statistical inference values (e.g. p-values). However, scikit-learn is preferable for model evaluation, so we will switch to the scikit-learn implementation for this exercise. \n",
        "\n",
        "Run logistic regression on the training set and use the resulting model to make predictions on the test set. Calculate the train and test error using logarithmic loss. How do they compare to each other?"
      ]
    },
    {
      "cell_type": "code",
      "metadata": {
        "id": "n7SM7qJ81Zbr",
        "outputId": "a44ebb7f-7172-4a7f-9ebe-7b40d8d88505",
        "colab": {
          "base_uri": "https://localhost:8080/",
          "height": 52
        }
      },
      "source": [
        "# answer goes here\n",
        "lr = LogisticRegression(max_iter=1000)\n",
        "lr.fit(X_train, Y_train)\n",
        "train_score = lr.score(X_train, Y_train)\n",
        "test_score = lr.score(X_test, Y_test)\n",
        "print('test score: ' + str(test_score) + '\\n' + 'train score: ' + str(train_score))"
      ],
      "execution_count": 37,
      "outputs": [
        {
          "output_type": "stream",
          "text": [
            "test score: 0.5858394728719621\n",
            "train score: 0.5845847256330771\n"
          ],
          "name": "stdout"
        }
      ]
    },
    {
      "cell_type": "code",
      "metadata": {
        "id": "B_KBaxUDS8EE",
        "outputId": "fe51df77-5756-4e18-83c6-b586acb631ab",
        "colab": {
          "base_uri": "https://localhost:8080/",
          "height": 52
        }
      },
      "source": [
        "test_probs = lr.predict_proba(X_test)\n",
        "train_probs = lr.predict_proba(X_train)\n",
        "test_log_loss = log_loss(Y_test, test_probs)\n",
        "train_log_loss = log_loss(Y_train, train_probs)\n",
        "print('Test log loss', test_log_loss, '\\nTrain log loss:', train_log_loss)"
      ],
      "execution_count": 40,
      "outputs": [
        {
          "output_type": "stream",
          "text": [
            "Test log loss 0.6565934599808979 \n",
            "Train log loss: 0.6576070125768491\n"
          ],
          "name": "stdout"
        }
      ]
    },
    {
      "cell_type": "markdown",
      "metadata": {
        "id": "27_OUrv11Zbt"
      },
      "source": [
        "Next, evaluate the performance of the same model using 10-fold CV. Use the training data and labels, and print out the mean log loss for each of the 10 CV folds, as well as the overall CV-estimated test error. How do the estimates from the individual folds compare to the result from our previous single holdout set? How much variability in the estimated test error do you see across the 10 folds?\n",
        "\n",
        "Note: scikit-learn's *cross_val_score* function provides a simple, one-line method for doing this. However, be careful - the default score returned by this function may not be log loss!"
      ]
    },
    {
      "cell_type": "code",
      "metadata": {
        "id": "UBYegSQnmTQX",
        "outputId": "06ff001a-b40f-456c-c163-c7e429e4be54",
        "colab": {
          "base_uri": "https://localhost:8080/",
          "height": 52
        }
      },
      "source": [
        "from sklearn.model_selection import cross_val_score\n",
        "cv = cross_val_score(lr, X_train, Y_train, cv=10, scoring='neg_log_loss')\n",
        "cv"
      ],
      "execution_count": 43,
      "outputs": [
        {
          "output_type": "execute_result",
          "data": {
            "text/plain": [
              "array([-0.65829007, -0.65752478, -0.65917724, -0.66077262, -0.65925419,\n",
              "       -0.65664705, -0.65577045, -0.6576991 , -0.65548403, -0.65649409])"
            ]
          },
          "metadata": {
            "tags": []
          },
          "execution_count": 43
        }
      ]
    },
    {
      "cell_type": "markdown",
      "metadata": {
        "id": "K_Kp_W-P1Zbv"
      },
      "source": [
        "Scikit-learn's logistic regression function has a built-in regularization parameter, C (the larger the value of C, the smaller the degree of regularization). Use a loop with values of C, and find the optimum C value by taking the highest average cross validation score."
      ]
    },
    {
      "cell_type": "code",
      "metadata": {
        "id": "Qd4SSFO-1Zbv",
        "outputId": "e5a9b75c-74e5-40b2-c3b4-57f39337af30",
        "colab": {
          "base_uri": "https://localhost:8080/",
          "height": 104
        }
      },
      "source": [
        "# answer goes here\n",
        "#c_vals = np.arange(0.05, 1.5, 0.05)\n",
        "avg_cv_values = []\n",
        "\n",
        "for c in [0.05, 0.25, 0.5, 0.75, 1]:\n",
        "  lr = LogisticRegression(C=c, max_iter=1000)\n",
        "  cv = cross_val_score(logit, X_train, Y_train, cv=5, scoring='neg_log_loss')\n",
        "  avg_cv_values.append(cv.mean())\n",
        "\n",
        "avg_cv_values"
      ],
      "execution_count": 47,
      "outputs": [
        {
          "output_type": "execute_result",
          "data": {
            "text/plain": [
              "[-0.6577394532755747,\n",
              " -0.6577394532755747,\n",
              " -0.6577394532755747,\n",
              " -0.6577394532755747,\n",
              " -0.6577394532755747]"
            ]
          },
          "metadata": {
            "tags": []
          },
          "execution_count": 47
        }
      ]
    },
    {
      "cell_type": "markdown",
      "metadata": {
        "id": "eJ-5cPUp1Zbx"
      },
      "source": [
        "Re-train a logistic regression model using the best value of C identified by 10-fold CV on the training data and labels. Afterwards, do the following:\n",
        "\n",
        "- Determine the precision, recall, and F1-score of our model using a cutoff/threshold of 0.5 (hint: scikit-learn's *classification_report* function may be helpful)\n",
        "- Plot or otherwise generate a confusion matrix\n",
        "- Plot the ROC curve for our logistic regression model\n",
        "\n",
        "Note: the performance of our simple logistic regression model with just four features will not be very good, but this is not entirely unexpected. There are many other features that can be incorporated into the model to improve its performance; feel free to experiment!"
      ]
    },
    {
      "cell_type": "code",
      "metadata": {
        "id": "v3A9fUN51Zbx",
        "outputId": "ea2ee776-b04d-43fe-f7d0-b3b4bf5d7bc6",
        "colab": {
          "base_uri": "https://localhost:8080/",
          "height": 104
        }
      },
      "source": [
        "# answer goes here\n",
        "from sklearn.metrics import classification_report\n",
        "logit = LogisticRegression(max_iter=1000, C=1)\n",
        "logit.fit(X_train, Y_train)"
      ],
      "execution_count": 49,
      "outputs": [
        {
          "output_type": "execute_result",
          "data": {
            "text/plain": [
              "LogisticRegression(C=1, class_weight=None, dual=False, fit_intercept=True,\n",
              "                   intercept_scaling=1, l1_ratio=None, max_iter=1000,\n",
              "                   multi_class='auto', n_jobs=None, penalty='l2',\n",
              "                   random_state=None, solver='lbfgs', tol=0.0001, verbose=0,\n",
              "                   warm_start=False)"
            ]
          },
          "metadata": {
            "tags": []
          },
          "execution_count": 49
        }
      ]
    },
    {
      "cell_type": "code",
      "metadata": {
        "id": "8Hg9Kd1X11Jx",
        "outputId": "be0bc0a0-f9df-4e1e-c7a3-c91296dcb819",
        "colab": {
          "base_uri": "https://localhost:8080/",
          "height": 173
        }
      },
      "source": [
        "train_predicted_Y = logit.predict(X_train)\n",
        "print(classification_report(Y_train, train_predicted_Y))"
      ],
      "execution_count": 50,
      "outputs": [
        {
          "output_type": "stream",
          "text": [
            "              precision    recall  f1-score   support\n",
            "\n",
            "           0       0.54      0.30      0.38    130201\n",
            "           1       0.60      0.81      0.69    167867\n",
            "\n",
            "    accuracy                           0.58    298068\n",
            "   macro avg       0.57      0.55      0.54    298068\n",
            "weighted avg       0.57      0.58      0.55    298068\n",
            "\n"
          ],
          "name": "stdout"
        }
      ]
    },
    {
      "cell_type": "code",
      "metadata": {
        "id": "8USSASZe114J",
        "outputId": "7a8ac7bb-4dda-4275-cdaf-b2f7562e3dc6",
        "colab": {
          "base_uri": "https://localhost:8080/",
          "height": 299
        }
      },
      "source": [
        "from sklearn.metrics import confusion_matrix, plot_confusion_matrix\n",
        "cm = confusion_matrix(Y_train, train_predicted_Y, labels=[0,1])\n",
        "plot_confusion_matrix(logit, X_test, Y_test, cmap='Blues', normalize='true')"
      ],
      "execution_count": 51,
      "outputs": [
        {
          "output_type": "execute_result",
          "data": {
            "text/plain": [
              "<sklearn.metrics._plot.confusion_matrix.ConfusionMatrixDisplay at 0x7f5096e90358>"
            ]
          },
          "metadata": {
            "tags": []
          },
          "execution_count": 51
        },
        {
          "output_type": "display_data",
          "data": {
            "image/png": "[encoded data removed]",
            "text/plain": [
              "<Figure size 432x288 with 2 Axes>"
            ]
          },
          "metadata": {
            "tags": [],
            "needs_background": "light"
          }
        }
      ]
    },
    {
      "cell_type": "code",
      "metadata": {
        "id": "x7iq2rjh18VF"
      },
      "source": [
        "from sklearn.metrics import roc_curve, auc\n",
        "train_pred_probs = logit.predict_proba(X_train)\n",
        "pred_probs = pd.Series(train_pred_probs[:, 1])\n",
        "x, y, _ = roc_curve(Y_train, pred_probs)\n",
        "roc_auc = auc(x, y)"
      ],
      "execution_count": 53,
      "outputs": []
    },
    {
      "cell_type": "code",
      "metadata": {
        "id": "_hTBD5ZW19XA",
        "outputId": "33065a2b-303c-4dfc-84d4-0cbfbf7a983e",
        "colab": {
          "base_uri": "https://localhost:8080/",
          "height": 295
        }
      },
      "source": [
        "plt.figure()\n",
        "lw = 2\n",
        "plt.plot(x, y, color='darkorange',\n",
        "         lw=lw, label='ROC curve (area = %0.2f)' % roc_auc)\n",
        "plt.plot([0, 1], [0, 1], color='navy', lw=lw, linestyle='--')\n",
        "plt.xlim([0.0, 1.0])\n",
        "plt.ylim([0.0, 1.05])\n",
        "plt.xlabel('False Positive Rate')\n",
        "plt.ylabel('True Positive Rate')\n",
        "plt.title('Receiver operating characteristic example')\n",
        "plt.legend(loc=\"lower right\")\n",
        "plt.show()"
      ],
      "execution_count": 54,
      "outputs": [
        {
          "output_type": "display_data",
          "data": {
            "image/png": "[encoded data removed]",
            "text/plain": [
              "<Figure size 432x288 with 1 Axes>"
            ]
          },
          "metadata": {
            "tags": [],
            "needs_background": "light"
          }
        }
      ]
    },
    {
      "cell_type": "code",
      "metadata": {
        "id": "_Jvc1o973Zy8"
      },
      "source": [
        ""
      ],
      "execution_count": null,
      "outputs": []
    }
  ]
}