{
 "cells": [
  {
   "cell_type": "markdown",
   "metadata": {
    "id": "dV--vGOPrrED"
   },
   "source": [
    "## Day 25 Lecture 2 Assignment\n",
    "\n",
    "In this assignment, we will extend a previous binary model to a multinomial case with three classes. We will use the FIFA soccer ratings dataset loaded below and analyze the model generated for this dataset."
   ]
  },
  {
   "cell_type": "code",
   "execution_count": 1,
   "metadata": {
    "id": "msSTydewrrEE"
   },
   "outputs": [],
   "source": [
    "import matplotlib.pyplot as plt\n",
    "import seaborn as sns\n",
    "import numpy as np\n",
    "import pandas as pd\n",
    "import statsmodels.api as sm\n",
    "from sklearn.linear_model import LogisticRegression\n",
    "from sklearn.model_selection import train_test_split\n",
    "from sklearn.metrics import confusion_matrix, classification_report, roc_curve\n",
    "from sklearn.model_selection import cross_val_score, cross_val_predict\n",
    "\n",
    "%matplotlib inline"
   ]
  },
  {
   "cell_type": "code",
   "execution_count": 2,
   "metadata": {
    "id": "HOgv7ZGlVYpw"
   },
   "outputs": [],
   "source": [
    "def remove_correlated_features(dataset, threshold):\n",
    "    col_corr = set()\n",
    "    corr_matrix = dataset.corr()\n",
    "    for i in range(len(corr_matrix.columns)):\n",
    "        for j in range(i):\n",
    "            if (corr_matrix.iloc[i, j] >= threshold) and (corr_matrix.columns[j] not in col_corr):\n",
    "                colname = corr_matrix.columns[i]\n",
    "                col_corr.add(colname)\n",
    "                if colname in dataset.columns:\n",
    "                    print(f'Deleted {colname} from dataset.')\n",
    "                    del dataset[colname]\n",
    "\n",
    "    return dataset"
   ]
  },
  {
   "cell_type": "code",
   "execution_count": 3,
   "metadata": {
    "id": "i3iAu42VrrEF"
   },
   "outputs": [],
   "source": [
    "soccer_data = pd.read_csv('https://tf-assets-prod.s3.amazonaws.com/tf-curric/data-science/fifa_ratings.csv')"
   ]
  },
  {
   "cell_type": "code",
   "execution_count": 4,
   "metadata": {
    "colab": {
     "base_uri": "https://localhost:8080/",
     "height": 255
    },
    "id": "SeKz92tErrEH",
    "outputId": "d7d728a2-2fce-4ed7-c221-2f0a2c889136"
   },
   "outputs": [
    {
     "data": {
      "text/html": [
       "<div>\n",
       "<style scoped>\n",
       "    .dataframe tbody tr th:only-of-type {\n",
       "        vertical-align: middle;\n",
       "    }\n",
       "\n",
       "    .dataframe tbody tr th {\n",
       "        vertical-align: top;\n",
       "    }\n",
       "\n",
       "    .dataframe thead th {\n",
       "        text-align: right;\n",
       "    }\n",
       "</style>\n",
       "<table border=\"1\" class=\"dataframe\">\n",
       "  <thead>\n",
       "    <tr style=\"text-align: right;\">\n",
       "      <th></th>\n",
       "      <th>ID</th>\n",
       "      <th>Name</th>\n",
       "      <th>Overall</th>\n",
       "      <th>Crossing</th>\n",
       "      <th>Finishing</th>\n",
       "      <th>HeadingAccuracy</th>\n",
       "      <th>ShortPassing</th>\n",
       "      <th>Volleys</th>\n",
       "      <th>Dribbling</th>\n",
       "      <th>Curve</th>\n",
       "      <th>...</th>\n",
       "      <th>LongShots</th>\n",
       "      <th>Aggression</th>\n",
       "      <th>Interceptions</th>\n",
       "      <th>Positioning</th>\n",
       "      <th>Vision</th>\n",
       "      <th>Penalties</th>\n",
       "      <th>Composure</th>\n",
       "      <th>Marking</th>\n",
       "      <th>StandingTackle</th>\n",
       "      <th>SlidingTackle</th>\n",
       "    </tr>\n",
       "  </thead>\n",
       "  <tbody>\n",
       "    <tr>\n",
       "      <th>0</th>\n",
       "      <td>158023</td>\n",
       "      <td>L. Messi</td>\n",
       "      <td>94</td>\n",
       "      <td>84</td>\n",
       "      <td>95</td>\n",
       "      <td>70</td>\n",
       "      <td>90</td>\n",
       "      <td>86</td>\n",
       "      <td>97</td>\n",
       "      <td>93</td>\n",
       "      <td>...</td>\n",
       "      <td>94</td>\n",
       "      <td>48</td>\n",
       "      <td>22</td>\n",
       "      <td>94</td>\n",
       "      <td>94</td>\n",
       "      <td>75</td>\n",
       "      <td>96</td>\n",
       "      <td>33</td>\n",
       "      <td>28</td>\n",
       "      <td>26</td>\n",
       "    </tr>\n",
       "    <tr>\n",
       "      <th>1</th>\n",
       "      <td>20801</td>\n",
       "      <td>Cristiano Ronaldo</td>\n",
       "      <td>94</td>\n",
       "      <td>84</td>\n",
       "      <td>94</td>\n",
       "      <td>89</td>\n",
       "      <td>81</td>\n",
       "      <td>87</td>\n",
       "      <td>88</td>\n",
       "      <td>81</td>\n",
       "      <td>...</td>\n",
       "      <td>93</td>\n",
       "      <td>63</td>\n",
       "      <td>29</td>\n",
       "      <td>95</td>\n",
       "      <td>82</td>\n",
       "      <td>85</td>\n",
       "      <td>95</td>\n",
       "      <td>28</td>\n",
       "      <td>31</td>\n",
       "      <td>23</td>\n",
       "    </tr>\n",
       "    <tr>\n",
       "      <th>2</th>\n",
       "      <td>190871</td>\n",
       "      <td>Neymar Jr</td>\n",
       "      <td>92</td>\n",
       "      <td>79</td>\n",
       "      <td>87</td>\n",
       "      <td>62</td>\n",
       "      <td>84</td>\n",
       "      <td>84</td>\n",
       "      <td>96</td>\n",
       "      <td>88</td>\n",
       "      <td>...</td>\n",
       "      <td>82</td>\n",
       "      <td>56</td>\n",
       "      <td>36</td>\n",
       "      <td>89</td>\n",
       "      <td>87</td>\n",
       "      <td>81</td>\n",
       "      <td>94</td>\n",
       "      <td>27</td>\n",
       "      <td>24</td>\n",
       "      <td>33</td>\n",
       "    </tr>\n",
       "    <tr>\n",
       "      <th>3</th>\n",
       "      <td>192985</td>\n",
       "      <td>K. De Bruyne</td>\n",
       "      <td>91</td>\n",
       "      <td>93</td>\n",
       "      <td>82</td>\n",
       "      <td>55</td>\n",
       "      <td>92</td>\n",
       "      <td>82</td>\n",
       "      <td>86</td>\n",
       "      <td>85</td>\n",
       "      <td>...</td>\n",
       "      <td>91</td>\n",
       "      <td>76</td>\n",
       "      <td>61</td>\n",
       "      <td>87</td>\n",
       "      <td>94</td>\n",
       "      <td>79</td>\n",
       "      <td>88</td>\n",
       "      <td>68</td>\n",
       "      <td>58</td>\n",
       "      <td>51</td>\n",
       "    </tr>\n",
       "    <tr>\n",
       "      <th>4</th>\n",
       "      <td>183277</td>\n",
       "      <td>E. Hazard</td>\n",
       "      <td>91</td>\n",
       "      <td>81</td>\n",
       "      <td>84</td>\n",
       "      <td>61</td>\n",
       "      <td>89</td>\n",
       "      <td>80</td>\n",
       "      <td>95</td>\n",
       "      <td>83</td>\n",
       "      <td>...</td>\n",
       "      <td>80</td>\n",
       "      <td>54</td>\n",
       "      <td>41</td>\n",
       "      <td>87</td>\n",
       "      <td>89</td>\n",
       "      <td>86</td>\n",
       "      <td>91</td>\n",
       "      <td>34</td>\n",
       "      <td>27</td>\n",
       "      <td>22</td>\n",
       "    </tr>\n",
       "  </tbody>\n",
       "</table>\n",
       "<p>5 rows × 32 columns</p>\n",
       "</div>"
      ],
      "text/plain": [
       "       ID               Name  Overall  Crossing  Finishing  HeadingAccuracy  \\\n",
       "0  158023           L. Messi       94        84         95               70   \n",
       "1   20801  Cristiano Ronaldo       94        84         94               89   \n",
       "2  190871          Neymar Jr       92        79         87               62   \n",
       "3  192985       K. De Bruyne       91        93         82               55   \n",
       "4  183277          E. Hazard       91        81         84               61   \n",
       "\n",
       "   ShortPassing  Volleys  Dribbling  Curve  ...  LongShots  Aggression  \\\n",
       "0            90       86         97     93  ...         94          48   \n",
       "1            81       87         88     81  ...         93          63   \n",
       "2            84       84         96     88  ...         82          56   \n",
       "3            92       82         86     85  ...         91          76   \n",
       "4            89       80         95     83  ...         80          54   \n",
       "\n",
       "   Interceptions  Positioning  Vision  Penalties  Composure  Marking  \\\n",
       "0             22           94      94         75         96       33   \n",
       "1             29           95      82         85         95       28   \n",
       "2             36           89      87         81         94       27   \n",
       "3             61           87      94         79         88       68   \n",
       "4             41           87      89         86         91       34   \n",
       "\n",
       "   StandingTackle  SlidingTackle  \n",
       "0              28             26  \n",
       "1              31             23  \n",
       "2              24             33  \n",
       "3              58             51  \n",
       "4              27             22  \n",
       "\n",
       "[5 rows x 32 columns]"
      ]
     },
     "execution_count": 4,
     "metadata": {},
     "output_type": "execute_result"
    }
   ],
   "source": [
    "soccer_data.head()"
   ]
  },
  {
   "cell_type": "markdown",
   "metadata": {
    "id": "gC9J8aEArrEJ"
   },
   "source": [
    "Our response for our logistic regression model is going to be a new column, \"RankingTier\", that contains three categories:\n",
    "\n",
    "- High: Overall score > 75\n",
    "- Middle: Overall score between 65 and 75\n",
    "- Low: Overall score < 65"
   ]
  },
  {
   "cell_type": "code",
   "execution_count": 5,
   "metadata": {
    "id": "tTZkLVDnrrEK"
   },
   "outputs": [],
   "source": [
    "# answer goes here\n",
    "soccer_data['RankingTier'] = np.where((soccer_data['Overall'] >= 75), 'High', \n",
    "                                      (np.where((soccer_data['Overall'] < 75) & (soccer_data['Overall'] >= 65), 'Middle', \n",
    "                                                'Low')))"
   ]
  },
  {
   "cell_type": "markdown",
   "metadata": {
    "id": "NJNKBnVpVYp5"
   },
   "source": [
    "The next few steps until model training are the same as before: identify and remove highly correlated features, and split the data into a training set (80%) and a test set (20%)."
   ]
  },
  {
   "cell_type": "code",
   "execution_count": 6,
   "metadata": {
    "id": "NJR6IxK2VYp5"
   },
   "outputs": [
    {
     "name": "stdout",
     "output_type": "stream",
     "text": [
      "Deleted StandingTackle from dataset.\n",
      "Deleted SlidingTackle from dataset.\n"
     ]
    }
   ],
   "source": [
    "# answer goes here\n",
    "remove_correlated_features(soccer_data, 0.9)\n",
    "\n",
    "X = soccer_data.drop(['ID', 'Name', 'Overall', 'RankingTier'], axis=1)\n",
    "Y = soccer_data['RankingTier']\n",
    "\n",
    "X_train, X_test, Y_train, Y_test = train_test_split(X, Y, test_size=0.2)"
   ]
  },
  {
   "cell_type": "markdown",
   "metadata": {
    "id": "x4vvG5GmrrEL"
   },
   "source": [
    "Fit a multinomial logistic regression model using the statsmodels package and print out the coefficient summary. What is the \"reference\" tier chosen by the model? How do we interpret the coefficients - for example, how does the intepretation of the \"Reactions\" coefficient for RankingTier=Low differ from the \"Reactions\" coefficient for RankingTier=Middle?"
   ]
  },
  {
   "cell_type": "code",
   "execution_count": 7,
   "metadata": {
    "id": "cwdpwLT6rrEM"
   },
   "outputs": [
    {
     "name": "stdout",
     "output_type": "stream",
     "text": [
      "Optimization terminated successfully.\n",
      "         Current function value: 0.359610\n",
      "         Iterations 10\n",
      "                          MNLogit Regression Results                          \n",
      "==============================================================================\n",
      "Dep. Variable:            RankingTier   No. Observations:                12897\n",
      "Model:                        MNLogit   Df Residuals:                    12841\n",
      "Method:                           MLE   Df Model:                           54\n",
      "Date:                Fri, 16 Oct 2020   Pseudo R-squ.:                  0.6273\n",
      "Time:                        13:59:05   Log-Likelihood:                -4637.9\n",
      "converged:                       True   LL-Null:                       -12445.\n",
      "Covariance Type:            nonrobust   LLR p-value:                     0.000\n",
      "======================================================================================\n",
      "   RankingTier=Low       coef    std err          z      P>|z|      [0.025      0.975]\n",
      "--------------------------------------------------------------------------------------\n",
      "const                 95.5645      1.963     48.687      0.000      91.717      99.412\n",
      "Crossing              -0.0021      0.008     -0.282      0.778      -0.017       0.013\n",
      "Finishing             -0.0481      0.009     -5.144      0.000      -0.066      -0.030\n",
      "HeadingAccuracy       -0.1193      0.008    -14.529      0.000      -0.135      -0.103\n",
      "ShortPassing          -0.2632      0.019    -13.716      0.000      -0.301      -0.226\n",
      "Volleys                0.0343      0.008      4.357      0.000       0.019       0.050\n",
      "Dribbling              0.0076      0.014      0.550      0.582      -0.019       0.035\n",
      "Curve                 -0.0109      0.008     -1.365      0.172      -0.027       0.005\n",
      "FKAccuracy            -0.0068      0.007     -0.999      0.318      -0.020       0.007\n",
      "LongPassing            0.0002      0.011      0.018      0.986      -0.021       0.022\n",
      "BallControl           -0.3020      0.020    -15.382      0.000      -0.341      -0.264\n",
      "Acceleration          -0.0495      0.012     -4.007      0.000      -0.074      -0.025\n",
      "SprintSpeed           -0.0769      0.011     -6.723      0.000      -0.099      -0.054\n",
      "Agility                0.0013      0.011      0.125      0.901      -0.020       0.022\n",
      "Reactions             -0.4614      0.016    -28.432      0.000      -0.493      -0.430\n",
      "Balance                0.0408      0.009      4.752      0.000       0.024       0.058\n",
      "ShotPower             -0.0560      0.010     -5.701      0.000      -0.075      -0.037\n",
      "Jumping               -0.0142      0.006     -2.340      0.019      -0.026      -0.002\n",
      "Stamina                0.0077      0.007      1.044      0.296      -0.007       0.022\n",
      "Strength              -0.0419      0.009     -4.827      0.000      -0.059      -0.025\n",
      "LongShots              0.0322      0.010      3.377      0.001       0.014       0.051\n",
      "Aggression            -0.0232      0.006     -3.593      0.000      -0.036      -0.011\n",
      "Interceptions          0.0286      0.007      3.880      0.000       0.014       0.043\n",
      "Positioning            0.0812      0.010      8.525      0.000       0.062       0.100\n",
      "Vision                 0.0723      0.010      7.107      0.000       0.052       0.092\n",
      "Penalties              0.0004      0.008      0.045      0.964      -0.015       0.016\n",
      "Composure             -0.2100      0.012    -17.624      0.000      -0.233      -0.187\n",
      "Marking               -0.0428      0.007     -6.231      0.000      -0.056      -0.029\n",
      "--------------------------------------------------------------------------------------\n",
      "RankingTier=Middle       coef    std err          z      P>|z|      [0.025      0.975]\n",
      "--------------------------------------------------------------------------------------\n",
      "const                 58.3047      1.780     32.758      0.000      54.816      61.793\n",
      "Crossing               0.0127      0.006      1.967      0.049    4.74e-05       0.025\n",
      "Finishing             -0.0324      0.008     -4.102      0.000      -0.048      -0.017\n",
      "HeadingAccuracy       -0.0492      0.007     -7.155      0.000      -0.063      -0.036\n",
      "ShortPassing          -0.1790      0.017    -10.293      0.000      -0.213      -0.145\n",
      "Volleys                0.0200      0.006      3.102      0.002       0.007       0.033\n",
      "Dribbling              0.0044      0.012      0.360      0.719      -0.020       0.028\n",
      "Curve                 -0.0043      0.007     -0.634      0.526      -0.018       0.009\n",
      "FKAccuracy            -0.0022      0.006     -0.386      0.700      -0.013       0.009\n",
      "LongPassing           -0.0084      0.010     -0.877      0.381      -0.027       0.010\n",
      "BallControl           -0.1847      0.018    -10.458      0.000      -0.219      -0.150\n",
      "Acceleration          -0.0289      0.011     -2.724      0.006      -0.050      -0.008\n",
      "SprintSpeed           -0.0480      0.010     -4.894      0.000      -0.067      -0.029\n",
      "Agility                0.0020      0.010      0.214      0.831      -0.017       0.021\n",
      "Reactions             -0.2935      0.015    -20.015      0.000      -0.322      -0.265\n",
      "Balance                0.0295      0.007      3.969      0.000       0.015       0.044\n",
      "ShotPower             -0.0450      0.009     -5.170      0.000      -0.062      -0.028\n",
      "Jumping               -0.0072      0.005     -1.396      0.163      -0.017       0.003\n",
      "Stamina                0.0189      0.006      2.940      0.003       0.006       0.032\n",
      "Strength              -0.0130      0.008     -1.696      0.090      -0.028       0.002\n",
      "LongShots              0.0286      0.008      3.465      0.001       0.012       0.045\n",
      "Aggression            -0.0163      0.006     -2.940      0.003      -0.027      -0.005\n",
      "Interceptions          0.0214      0.006      3.428      0.001       0.009       0.034\n",
      "Positioning            0.0579      0.008      6.921      0.000       0.041       0.074\n",
      "Vision                 0.0384      0.009      4.359      0.000       0.021       0.056\n",
      "Penalties              0.0073      0.006      1.142      0.253      -0.005       0.020\n",
      "Composure             -0.1103      0.011    -10.366      0.000      -0.131      -0.089\n",
      "Marking               -0.0216      0.006     -3.741      0.000      -0.033      -0.010\n",
      "======================================================================================\n",
      "                        Results: MNLogit\n",
      "================================================================\n",
      "Model:              MNLogit          Pseudo R-squared: 0.627    \n",
      "Dependent Variable: RankingTier      AIC:              9387.7797\n",
      "Date:               2020-10-16 13:59 BIC:              9805.8057\n",
      "No. Observations:   12897            Log-Likelihood:   -4637.9  \n",
      "Df Model:           54               LL-Null:          -12445.  \n",
      "Df Residuals:       12841            LLR p-value:      0.0000   \n",
      "Converged:          1.0000           Scale:            1.0000   \n",
      "No. Iterations:     10.0000                                     \n",
      "----------------------------------------------------------------\n",
      "RankingTier = 0  Coef.  Std.Err.    t     P>|t|   [0.025  0.975]\n",
      "----------------------------------------------------------------\n",
      "          const 95.5645   1.9629  48.6866 0.0000 91.7174 99.4116\n",
      "       Crossing -0.0021   0.0075  -0.2817 0.7782 -0.0168  0.0126\n",
      "      Finishing -0.0481   0.0094  -5.1442 0.0000 -0.0664 -0.0298\n",
      "HeadingAccuracy -0.1193   0.0082 -14.5292 0.0000 -0.1354 -0.1032\n",
      "   ShortPassing -0.2632   0.0192 -13.7159 0.0000 -0.3008 -0.2256\n",
      "        Volleys  0.0343   0.0079   4.3571 0.0000  0.0188  0.0497\n",
      "      Dribbling  0.0076   0.0137   0.5499 0.5824 -0.0194  0.0345\n",
      "          Curve -0.0109   0.0080  -1.3653 0.1722 -0.0266  0.0048\n",
      "     FKAccuracy -0.0068   0.0068  -0.9989 0.3178 -0.0202  0.0066\n",
      "    LongPassing  0.0002   0.0110   0.0182 0.9855 -0.0213  0.0217\n",
      "    BallControl -0.3020   0.0196 -15.3820 0.0000 -0.3405 -0.2635\n",
      "   Acceleration -0.0495   0.0124  -4.0071 0.0001 -0.0738 -0.0253\n",
      "    SprintSpeed -0.0769   0.0114  -6.7227 0.0000 -0.0993 -0.0545\n",
      "        Agility  0.0013   0.0107   0.1250 0.9005 -0.0195  0.0222\n",
      "      Reactions -0.4614   0.0162 -28.4323 0.0000 -0.4932 -0.4296\n",
      "        Balance  0.0408   0.0086   4.7515 0.0000  0.0240  0.0576\n",
      "      ShotPower -0.0560   0.0098  -5.7012 0.0000 -0.0752 -0.0367\n",
      "        Jumping -0.0142   0.0061  -2.3404 0.0193 -0.0261 -0.0023\n",
      "        Stamina  0.0077   0.0074   1.0442 0.2964 -0.0068  0.0222\n",
      "       Strength -0.0419   0.0087  -4.8269 0.0000 -0.0589 -0.0249\n",
      "      LongShots  0.0322   0.0095   3.3768 0.0007  0.0135  0.0509\n",
      "     Aggression -0.0232   0.0065  -3.5932 0.0003 -0.0359 -0.0106\n",
      "  Interceptions  0.0286   0.0074   3.8804 0.0001  0.0141  0.0430\n",
      "    Positioning  0.0812   0.0095   8.5247 0.0000  0.0625  0.0998\n",
      "         Vision  0.0723   0.0102   7.1074 0.0000  0.0524  0.0922\n",
      "      Penalties  0.0004   0.0077   0.0453 0.9638 -0.0148  0.0155\n",
      "      Composure -0.2100   0.0119 -17.6245 0.0000 -0.2333 -0.1866\n",
      "        Marking -0.0428   0.0069  -6.2313 0.0000 -0.0563 -0.0294\n",
      "----------------------------------------------------------------\n",
      "RankingTier = 1  Coef.  Std.Err.    t     P>|t|   [0.025  0.975]\n",
      "----------------------------------------------------------------\n",
      "          const 58.3047   1.7798  32.7583 0.0000 54.8163 61.7931\n",
      "       Crossing  0.0127   0.0064   1.9673 0.0491  0.0000  0.0253\n",
      "      Finishing -0.0324   0.0079  -4.1022 0.0000 -0.0478 -0.0169\n",
      "HeadingAccuracy -0.0492   0.0069  -7.1550 0.0000 -0.0627 -0.0357\n",
      "   ShortPassing -0.1790   0.0174 -10.2934 0.0000 -0.2130 -0.1449\n",
      "        Volleys  0.0200   0.0065   3.1022 0.0019  0.0074  0.0327\n",
      "      Dribbling  0.0044   0.0122   0.3597 0.7191 -0.0196  0.0283\n",
      "          Curve -0.0043   0.0068  -0.6339 0.5262 -0.0176  0.0090\n",
      "     FKAccuracy -0.0022   0.0057  -0.3860 0.6995 -0.0133  0.0089\n",
      "    LongPassing -0.0084   0.0095  -0.8769 0.3806 -0.0270  0.0103\n",
      "    BallControl -0.1847   0.0177 -10.4583 0.0000 -0.2193 -0.1501\n",
      "   Acceleration -0.0289   0.0106  -2.7243 0.0064 -0.0498 -0.0081\n",
      "    SprintSpeed -0.0480   0.0098  -4.8942 0.0000 -0.0672 -0.0288\n",
      "        Agility  0.0020   0.0096   0.2135 0.8309 -0.0167  0.0208\n",
      "      Reactions -0.2935   0.0147 -20.0153 0.0000 -0.3223 -0.2648\n",
      "        Balance  0.0295   0.0074   3.9695 0.0001  0.0149  0.0440\n",
      "      ShotPower -0.0450   0.0087  -5.1700 0.0000 -0.0620 -0.0279\n",
      "        Jumping -0.0072   0.0051  -1.3962 0.1627 -0.0173  0.0029\n",
      "        Stamina  0.0189   0.0064   2.9402 0.0033  0.0063  0.0315\n",
      "       Strength -0.0130   0.0077  -1.6955 0.0900 -0.0280  0.0020\n",
      "      LongShots  0.0286   0.0083   3.4652 0.0005  0.0124  0.0448\n",
      "     Aggression -0.0163   0.0055  -2.9395 0.0033 -0.0272 -0.0054\n",
      "  Interceptions  0.0214   0.0063   3.4281 0.0006  0.0092  0.0337\n",
      "    Positioning  0.0579   0.0084   6.9214 0.0000  0.0415  0.0743\n",
      "         Vision  0.0384   0.0088   4.3595 0.0000  0.0211  0.0556\n",
      "      Penalties  0.0073   0.0064   1.1424 0.2533 -0.0052  0.0199\n",
      "      Composure -0.1103   0.0106 -10.3660 0.0000 -0.1311 -0.0894\n",
      "        Marking -0.0216   0.0058  -3.7411 0.0002 -0.0329 -0.0103\n",
      "================================================================\n",
      "\n"
     ]
    }
   ],
   "source": [
    "# answer goes here\n",
    "X_train_const = sm.add_constant(X_train)\n",
    "\n",
    "sm_model = sm.MNLogit(Y_train, X_train_const).fit()\n",
    "print(sm_model.summary())\n",
    "print(sm_model.summary2())"
   ]
  },
  {
   "cell_type": "markdown",
   "metadata": {
    "id": "KkMAIoh0rrEP"
   },
   "source": [
    "To evaluate test error using cross-validation, we will switch back to scikit-learn. Estimate the test error of this multinomial logistic regression model using 10-fold CV.\n",
    "\n",
    "Note: scikit-learn's LogisticRegression() function can handle both binary and multinomial regression, and it is automatically able to determine which is appropriate based on the y_train array that is passed. You should be able to reuse previous code with minimal changes required."
   ]
  },
  {
   "cell_type": "code",
   "execution_count": 8,
   "metadata": {},
   "outputs": [],
   "source": [
    "# cv_logloss = cross_val_score(logit, X_train, Y_train, cv=5, scoring='neg_log_loss')\n",
    "\n",
    "# print(f'Avg Log Loss: {cv_logloss.mean():.4f}, STD: {cv_logloss.std():.4f},\\n Log Losses = {cv_logloss}')"
   ]
  },
  {
   "cell_type": "code",
   "execution_count": 9,
   "metadata": {
    "id": "lPRW-I6IrrEQ"
   },
   "outputs": [
    {
     "name": "stderr",
     "output_type": "stream",
     "text": [
      "/opt/anaconda3/lib/python3.8/site-packages/sklearn/linear_model/_logistic.py:762: ConvergenceWarning: lbfgs failed to converge (status=1):\n",
      "STOP: TOTAL NO. of ITERATIONS REACHED LIMIT.\n",
      "\n",
      "Increase the number of iterations (max_iter) or scale the data as shown in:\n",
      "    https://scikit-learn.org/stable/modules/preprocessing.html\n",
      "Please also refer to the documentation for alternative solver options:\n",
      "    https://scikit-learn.org/stable/modules/linear_model.html#logistic-regression\n",
      "  n_iter_i = _check_optimize_result(\n"
     ]
    },
    {
     "name": "stdout",
     "output_type": "stream",
     "text": [
      "Mean: 0.8387, STD: 0.0048,\n",
      " cv = [0.83837209 0.84496124 0.83210547 0.84296239 0.83520744]\n"
     ]
    }
   ],
   "source": [
    "# answer goes here\n",
    "logit = LogisticRegression(max_iter=10000)\n",
    "cv = cross_val_score(logit, X_train, Y_train, cv=5)\n",
    "\n",
    "print(f'Mean: {cv.mean():.4f}, STD: {cv.std():.4f},\\n cv = {cv}')\n"
   ]
  },
  {
   "cell_type": "code",
   "execution_count": 10,
   "metadata": {},
   "outputs": [
    {
     "name": "stdout",
     "output_type": "stream",
     "text": [
      "Score on training data:  0.8411258432193534\n",
      "Score on test data:  0.8390697674418605\n"
     ]
    }
   ],
   "source": [
    "logit = LogisticRegression(max_iter=10000)\n",
    "logit.fit(X_train, Y_train)\n",
    "\n",
    "test_score = logit.score(X_test, Y_test)\n",
    "train_score = logit.score(X_train, Y_train)\n",
    "\n",
    "print('Score on training data: ', train_score)\n",
    "print('Score on test data: ', test_score)"
   ]
  },
  {
   "cell_type": "markdown",
   "metadata": {
    "id": "2qBq7WCNVYp_"
   },
   "source": [
    "As we did in the previous exercise, train a multinomial logistic regression on the training data, make predictions on the 20% holdout test data, then:\n",
    "\n",
    "- Determine the precision, recall, and F1-score of our model using a cutoff/threshold of 0.5 (hint: scikit-learn's *classification_report* function may be helpful)\n",
    "- Plot or otherwise generate a confusion matrix\n",
    "- Plot the ROC curve for our logistic regression model\n",
    "\n",
    "Comment on the performance of the model."
   ]
  },
  {
   "cell_type": "code",
   "execution_count": 11,
   "metadata": {},
   "outputs": [
    {
     "name": "stdout",
     "output_type": "stream",
     "text": [
      "              precision    recall  f1-score   support\n",
      "\n",
      "         Low       0.85      0.83      0.84      1251\n",
      "      Middle       0.83      0.86      0.84      1614\n",
      "        High       0.86      0.77      0.81       360\n",
      "\n",
      "    accuracy                           0.84      3225\n",
      "   macro avg       0.85      0.82      0.83      3225\n",
      "weighted avg       0.84      0.84      0.84      3225\n",
      "\n"
     ]
    }
   ],
   "source": [
    "# answer goes here\n",
    "predictions = logit.predict(X_test)\n",
    "report = classification_report(Y_test, predictions, labels=['Low', 'Middle', 'High'])\n",
    "print(report)"
   ]
  },
  {
   "cell_type": "code",
   "execution_count": 12,
   "metadata": {},
   "outputs": [
    {
     "data": {
      "text/plain": [
       "array([[1044,  207,    0],\n",
       "       [ 185, 1385,   44],\n",
       "       [   0,   83,  277]])"
      ]
     },
     "execution_count": 12,
     "metadata": {},
     "output_type": "execute_result"
    }
   ],
   "source": [
    "conf_mat = confusion_matrix(Y_test, predictions, labels=['Low', 'Middle', 'High'])\n",
    "conf_mat"
   ]
  },
  {
   "cell_type": "code",
   "execution_count": 13,
   "metadata": {},
   "outputs": [],
   "source": [
    "def plot_confusion_matrix(cm,\n",
    "                          target_names,\n",
    "                          title='Confusion matrix',\n",
    "                          cmap=None,\n",
    "                          normalize=True):\n",
    "    \"\"\"\n",
    "    given a sklearn confusion matrix (cm), make a nice plot\n",
    "\n",
    "    Arguments\n",
    "    ---------\n",
    "    cm:           confusion matrix from sklearn.metrics.confusion_matrix\n",
    "\n",
    "    target_names: given classification classes such as [0, 1, 2]\n",
    "                  the class names, for example: ['high', 'medium', 'low']\n",
    "\n",
    "    title:        the text to display at the top of the matrix\n",
    "\n",
    "    cmap:         the gradient of the values displayed from matplotlib.pyplot.cm\n",
    "                  see http://matplotlib.org/examples/color/colormaps_reference.html\n",
    "                  plt.get_cmap('jet') or plt.cm.Blues\n",
    "\n",
    "    normalize:    If False, plot the raw numbers\n",
    "                  If True, plot the proportions\n",
    "\n",
    "    Usage\n",
    "    -----\n",
    "    plot_confusion_matrix(cm           = cm,                  # confusion matrix created by\n",
    "                                                              # sklearn.metrics.confusion_matrix\n",
    "                          normalize    = True,                # show proportions\n",
    "                          target_names = y_labels_vals,       # list of names of the classes\n",
    "                          title        = best_estimator_name) # title of graph\n",
    "\n",
    "    Citiation\n",
    "    ---------\n",
    "    http://scikit-learn.org/stable/auto_examples/model_selection/plot_confusion_matrix.html\n",
    "\n",
    "    \"\"\"\n",
    "    import matplotlib.pyplot as plt\n",
    "    import numpy as np\n",
    "    import itertools\n",
    "\n",
    "    accuracy = np.trace(cm) / float(np.sum(cm))\n",
    "    misclass = 1 - accuracy\n",
    "\n",
    "    if cmap is None:\n",
    "        cmap = plt.get_cmap('Blues')\n",
    "\n",
    "    plt.figure(figsize=(8, 6))\n",
    "    plt.imshow(cm, interpolation='nearest', cmap=cmap)\n",
    "    plt.title(title)\n",
    "    plt.colorbar()\n",
    "\n",
    "    if target_names is not None:\n",
    "        tick_marks = np.arange(len(target_names))\n",
    "        plt.xticks(tick_marks, target_names, rotation=45)\n",
    "        plt.yticks(tick_marks, target_names)\n",
    "\n",
    "    if normalize:\n",
    "        cm = cm.astype('float') / cm.sum(axis=1)[:, np.newaxis]\n",
    "\n",
    "\n",
    "    thresh = cm.max() / 1.5 if normalize else cm.max() / 2\n",
    "    for i, j in itertools.product(range(cm.shape[0]), range(cm.shape[1])):\n",
    "        if normalize:\n",
    "            plt.text(j, i, \"{:0.4f}\".format(cm[i, j]),\n",
    "                     horizontalalignment=\"center\",\n",
    "                     color=\"white\" if cm[i, j] > thresh else \"black\")\n",
    "        else:\n",
    "            plt.text(j, i, \"{:,}\".format(cm[i, j]),\n",
    "                     horizontalalignment=\"center\",\n",
    "                     color=\"white\" if cm[i, j] > thresh else \"black\")\n",
    "\n",
    "\n",
    "    plt.tight_layout()\n",
    "    plt.ylabel('True label')\n",
    "    plt.xlabel('Predicted label\\naccuracy={:0.4f}; misclass={:0.4f}'.format(accuracy, misclass))\n",
    "    plt.show()"
   ]
  },
  {
   "cell_type": "code",
   "execution_count": 14,
   "metadata": {},
   "outputs": [
    {
     "data": {
      "image/png": "[encoded data removed]",
      "text/plain": [
       "<Figure size 576x432 with 2 Axes>"
      ]
     },
     "metadata": {
      "needs_background": "light"
     },
     "output_type": "display_data"
    }
   ],
   "source": [
    "plot_confusion_matrix(cm=conf_mat, target_names = ['Low', 'Middle', 'High'], title = 'Confusion Matrix', normalize=False)"
   ]
  },
  {
   "cell_type": "code",
   "execution_count": 15,
   "metadata": {},
   "outputs": [
    {
     "data": {
      "text/plain": [
       "array(['High', 'Low', 'Middle'], dtype=object)"
      ]
     },
     "execution_count": 15,
     "metadata": {},
     "output_type": "execute_result"
    }
   ],
   "source": [
    "Y_bin = pd.get_dummies(Y_test)\n",
    "Y_pred_prob = logit.predict_proba(X_test)\n",
    "logit.classes_"
   ]
  },
  {
   "cell_type": "code",
   "execution_count": 16,
   "metadata": {},
   "outputs": [
    {
     "data": {
      "image/png": "[encoded data removed]",
      "text/plain": [
       "<Figure size 432x432 with 1 Axes>"
      ]
     },
     "metadata": {
      "needs_background": "light"
     },
     "output_type": "display_data"
    }
   ],
   "source": [
    "fig = plt.figure(figsize = (6, 6))\n",
    "plt.plot([0, 1], [0, 1], 'k--')\n",
    "fpr1, tpr1, thresholds = roc_curve(Y_bin['High'], Y_pred_prob[:,0])\n",
    "line0, = plt.plot(fpr1, tpr1, label='High')\n",
    "\n",
    "fpr2, tpr2, thresholds = roc_curve(Y_bin['Low'], Y_pred_prob[:,1])\n",
    "line1, = plt.plot(fpr2, tpr2, label='Middle')\n",
    "\n",
    "fpr3, tpr3, thresholds = roc_curve(Y_bin['Middle'], Y_pred_prob[:,2])\n",
    "line2, = plt.plot(fpr3, tpr3, label='Low')\n",
    "\n",
    "plt.legend()\n",
    "plt.xlabel('False Positive Rate')\n",
    "plt.ylabel('True Positive Rate')\n",
    "plt.title('ROC curve for Logistic Regression Model')\n",
    "plt.show()"
   ]
  },
  {
   "cell_type": "code",
   "execution_count": null,
   "metadata": {},
   "outputs": [],
   "source": []
  }
 ],
 "metadata": {
  "colab": {
   "collapsed_sections": [],
   "name": "Day_25_L2_Assignment_Barrett_Oscar.ipynb",
   "provenance": []
  },
  "kernelspec": {
   "display_name": "Python 3",
   "language": "python",
   "name": "python3"
  },
  "language_info": {
   "codemirror_mode": {
    "name": "ipython",
    "version": 3
   },
   "file_extension": ".py",
   "mimetype": "text/x-python",
   "name": "python",
   "nbconvert_exporter": "python",
   "pygments_lexer": "ipython3",
   "version": "3.8.3"
  }
 },
 "nbformat": 4,
 "nbformat_minor": 1
}
