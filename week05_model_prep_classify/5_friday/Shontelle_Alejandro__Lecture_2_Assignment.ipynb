{
  "nbformat": 4,
  "nbformat_minor": 0,
  "metadata": {
    "colab": {
      "name": "Shontelle_Alejandro_ Lecture 2 Assignment.ipynb",
      "provenance": [],
      "collapsed_sections": []
    },
    "kernelspec": {
      "display_name": "Python 3",
      "language": "python",
      "name": "python3"
    },
    "language_info": {
      "codemirror_mode": {
        "name": "ipython",
        "version": 3
      },
      "file_extension": ".py",
      "mimetype": "text/x-python",
      "name": "python",
      "nbconvert_exporter": "python",
      "pygments_lexer": "ipython3",
      "version": "3.7.3"
    }
  },
  "cells": [
    {
      "cell_type": "markdown",
      "metadata": {
        "id": "dV--vGOPrrED"
      },
      "source": [
        "## Day 25 Lecture 2 Assignment\n",
        "\n",
        "In this assignment, we will extend a previous binary model to a multinomial case with three classes. We will use the FIFA soccer ratings dataset loaded below and analyze the model generated for this dataset."
      ]
    },
    {
      "cell_type": "code",
      "metadata": {
        "id": "msSTydewrrEE",
        "outputId": "0e83d99c-c573-4ef9-92b0-0b54fc35ab05",
        "colab": {
          "base_uri": "https://localhost:8080/",
          "height": 74
        }
      },
      "source": [
        "import matplotlib.pyplot as plt\n",
        "from sklearn.datasets import fetch_20newsgroups_vectorized\n",
        "import numpy as np\n",
        "import pandas as pd\n",
        "import seaborn as sns\n",
        "from sklearn.linear_model import LogisticRegression\n",
        "from sklearn.model_selection import train_test_split, cross_val_score\n",
        "from sklearn.dummy import DummyClassifier\n",
        "from sklearn.metrics import confusion_matrix\n",
        "from sklearn.utils.multiclass import unique_labels\n",
        "from sklearn.metrics import accuracy_score, precision_score, recall_score, f1_score, fbeta_score, classification_report\n",
        "from sklearn.metrics import roc_curve, precision_recall_curve, roc_auc_score\n",
        "from sklearn.linear_model import LogisticRegression\n",
        "from sklearn.model_selection import train_test_split\n",
        "import statsmodels.api as sm\n",
        "%matplotlib inline"
      ],
      "execution_count": null,
      "outputs": [
        {
          "output_type": "stream",
          "text": [
            "/usr/local/lib/python3.6/dist-packages/statsmodels/tools/_testing.py:19: FutureWarning: pandas.util.testing is deprecated. Use the functions in the public API at pandas.testing instead.\n",
            "  import pandas.util.testing as tm\n"
          ],
          "name": "stderr"
        }
      ]
    },
    {
      "cell_type": "code",
      "metadata": {
        "id": "HOgv7ZGlVYpw"
      },
      "source": [
        "def remove_correlated_features(dataset, threshold):\n",
        "    col_corr = set()\n",
        "    corr_matrix = dataset.corr()\n",
        "    for i in range(len(corr_matrix.columns)):\n",
        "        for j in range(i):\n",
        "            if (corr_matrix.iloc[i, j] >= threshold) and (corr_matrix.columns[j] not in col_corr):\n",
        "                colname = corr_matrix.columns[i]\n",
        "                col_corr.add(colname)\n",
        "                if colname in dataset.columns:\n",
        "                    print(f'Deleted {colname} from dataset.')\n",
        "                    del dataset[colname]\n",
        "\n",
        "    return dataset"
      ],
      "execution_count": null,
      "outputs": []
    },
    {
      "cell_type": "code",
      "metadata": {
        "id": "i3iAu42VrrEF"
      },
      "source": [
        "soccer_data = pd.read_csv('https://tf-assets-prod.s3.amazonaws.com/tf-curric/data-science/fifa_ratings.csv')"
      ],
      "execution_count": null,
      "outputs": []
    },
    {
      "cell_type": "code",
      "metadata": {
        "id": "SeKz92tErrEH",
        "outputId": "aadd3d8c-398e-4e5b-97ca-7b3546c0beb5",
        "colab": {
          "base_uri": "https://localhost:8080/",
          "height": 287
        }
      },
      "source": [
        "soccer_data.head()"
      ],
      "execution_count": null,
      "outputs": [
        {
          "output_type": "execute_result",
          "data": {
            "text/html": [
              "<div>\n",
              "<style scoped>\n",
              "    .dataframe tbody tr th:only-of-type {\n",
              "        vertical-align: middle;\n",
              "    }\n",
              "\n",
              "    .dataframe tbody tr th {\n",
              "        vertical-align: top;\n",
              "    }\n",
              "\n",
              "    .dataframe thead th {\n",
              "        text-align: right;\n",
              "    }\n",
              "</style>\n",
              "<table border=\"1\" class=\"dataframe\">\n",
              "  <thead>\n",
              "    <tr style=\"text-align: right;\">\n",
              "      <th></th>\n",
              "      <th>ID</th>\n",
              "      <th>Name</th>\n",
              "      <th>Overall</th>\n",
              "      <th>Crossing</th>\n",
              "      <th>Finishing</th>\n",
              "      <th>HeadingAccuracy</th>\n",
              "      <th>ShortPassing</th>\n",
              "      <th>Volleys</th>\n",
              "      <th>Dribbling</th>\n",
              "      <th>Curve</th>\n",
              "      <th>FKAccuracy</th>\n",
              "      <th>LongPassing</th>\n",
              "      <th>BallControl</th>\n",
              "      <th>Acceleration</th>\n",
              "      <th>SprintSpeed</th>\n",
              "      <th>Agility</th>\n",
              "      <th>Reactions</th>\n",
              "      <th>Balance</th>\n",
              "      <th>ShotPower</th>\n",
              "      <th>Jumping</th>\n",
              "      <th>Stamina</th>\n",
              "      <th>Strength</th>\n",
              "      <th>LongShots</th>\n",
              "      <th>Aggression</th>\n",
              "      <th>Interceptions</th>\n",
              "      <th>Positioning</th>\n",
              "      <th>Vision</th>\n",
              "      <th>Penalties</th>\n",
              "      <th>Composure</th>\n",
              "      <th>Marking</th>\n",
              "      <th>StandingTackle</th>\n",
              "      <th>SlidingTackle</th>\n",
              "    </tr>\n",
              "  </thead>\n",
              "  <tbody>\n",
              "    <tr>\n",
              "      <th>0</th>\n",
              "      <td>158023</td>\n",
              "      <td>L. Messi</td>\n",
              "      <td>94</td>\n",
              "      <td>84</td>\n",
              "      <td>95</td>\n",
              "      <td>70</td>\n",
              "      <td>90</td>\n",
              "      <td>86</td>\n",
              "      <td>97</td>\n",
              "      <td>93</td>\n",
              "      <td>94</td>\n",
              "      <td>87</td>\n",
              "      <td>96</td>\n",
              "      <td>91</td>\n",
              "      <td>86</td>\n",
              "      <td>91</td>\n",
              "      <td>95</td>\n",
              "      <td>95</td>\n",
              "      <td>85</td>\n",
              "      <td>68</td>\n",
              "      <td>72</td>\n",
              "      <td>59</td>\n",
              "      <td>94</td>\n",
              "      <td>48</td>\n",
              "      <td>22</td>\n",
              "      <td>94</td>\n",
              "      <td>94</td>\n",
              "      <td>75</td>\n",
              "      <td>96</td>\n",
              "      <td>33</td>\n",
              "      <td>28</td>\n",
              "      <td>26</td>\n",
              "    </tr>\n",
              "    <tr>\n",
              "      <th>1</th>\n",
              "      <td>20801</td>\n",
              "      <td>Cristiano Ronaldo</td>\n",
              "      <td>94</td>\n",
              "      <td>84</td>\n",
              "      <td>94</td>\n",
              "      <td>89</td>\n",
              "      <td>81</td>\n",
              "      <td>87</td>\n",
              "      <td>88</td>\n",
              "      <td>81</td>\n",
              "      <td>76</td>\n",
              "      <td>77</td>\n",
              "      <td>94</td>\n",
              "      <td>89</td>\n",
              "      <td>91</td>\n",
              "      <td>87</td>\n",
              "      <td>96</td>\n",
              "      <td>70</td>\n",
              "      <td>95</td>\n",
              "      <td>95</td>\n",
              "      <td>88</td>\n",
              "      <td>79</td>\n",
              "      <td>93</td>\n",
              "      <td>63</td>\n",
              "      <td>29</td>\n",
              "      <td>95</td>\n",
              "      <td>82</td>\n",
              "      <td>85</td>\n",
              "      <td>95</td>\n",
              "      <td>28</td>\n",
              "      <td>31</td>\n",
              "      <td>23</td>\n",
              "    </tr>\n",
              "    <tr>\n",
              "      <th>2</th>\n",
              "      <td>190871</td>\n",
              "      <td>Neymar Jr</td>\n",
              "      <td>92</td>\n",
              "      <td>79</td>\n",
              "      <td>87</td>\n",
              "      <td>62</td>\n",
              "      <td>84</td>\n",
              "      <td>84</td>\n",
              "      <td>96</td>\n",
              "      <td>88</td>\n",
              "      <td>87</td>\n",
              "      <td>78</td>\n",
              "      <td>95</td>\n",
              "      <td>94</td>\n",
              "      <td>90</td>\n",
              "      <td>96</td>\n",
              "      <td>94</td>\n",
              "      <td>84</td>\n",
              "      <td>80</td>\n",
              "      <td>61</td>\n",
              "      <td>81</td>\n",
              "      <td>49</td>\n",
              "      <td>82</td>\n",
              "      <td>56</td>\n",
              "      <td>36</td>\n",
              "      <td>89</td>\n",
              "      <td>87</td>\n",
              "      <td>81</td>\n",
              "      <td>94</td>\n",
              "      <td>27</td>\n",
              "      <td>24</td>\n",
              "      <td>33</td>\n",
              "    </tr>\n",
              "    <tr>\n",
              "      <th>3</th>\n",
              "      <td>192985</td>\n",
              "      <td>K. De Bruyne</td>\n",
              "      <td>91</td>\n",
              "      <td>93</td>\n",
              "      <td>82</td>\n",
              "      <td>55</td>\n",
              "      <td>92</td>\n",
              "      <td>82</td>\n",
              "      <td>86</td>\n",
              "      <td>85</td>\n",
              "      <td>83</td>\n",
              "      <td>91</td>\n",
              "      <td>91</td>\n",
              "      <td>78</td>\n",
              "      <td>76</td>\n",
              "      <td>79</td>\n",
              "      <td>91</td>\n",
              "      <td>77</td>\n",
              "      <td>91</td>\n",
              "      <td>63</td>\n",
              "      <td>90</td>\n",
              "      <td>75</td>\n",
              "      <td>91</td>\n",
              "      <td>76</td>\n",
              "      <td>61</td>\n",
              "      <td>87</td>\n",
              "      <td>94</td>\n",
              "      <td>79</td>\n",
              "      <td>88</td>\n",
              "      <td>68</td>\n",
              "      <td>58</td>\n",
              "      <td>51</td>\n",
              "    </tr>\n",
              "    <tr>\n",
              "      <th>4</th>\n",
              "      <td>183277</td>\n",
              "      <td>E. Hazard</td>\n",
              "      <td>91</td>\n",
              "      <td>81</td>\n",
              "      <td>84</td>\n",
              "      <td>61</td>\n",
              "      <td>89</td>\n",
              "      <td>80</td>\n",
              "      <td>95</td>\n",
              "      <td>83</td>\n",
              "      <td>79</td>\n",
              "      <td>83</td>\n",
              "      <td>94</td>\n",
              "      <td>94</td>\n",
              "      <td>88</td>\n",
              "      <td>95</td>\n",
              "      <td>90</td>\n",
              "      <td>94</td>\n",
              "      <td>82</td>\n",
              "      <td>56</td>\n",
              "      <td>83</td>\n",
              "      <td>66</td>\n",
              "      <td>80</td>\n",
              "      <td>54</td>\n",
              "      <td>41</td>\n",
              "      <td>87</td>\n",
              "      <td>89</td>\n",
              "      <td>86</td>\n",
              "      <td>91</td>\n",
              "      <td>34</td>\n",
              "      <td>27</td>\n",
              "      <td>22</td>\n",
              "    </tr>\n",
              "  </tbody>\n",
              "</table>\n",
              "</div>"
            ],
            "text/plain": [
              "       ID               Name  Overall  ...  Marking  StandingTackle  SlidingTackle\n",
              "0  158023           L. Messi       94  ...       33              28             26\n",
              "1   20801  Cristiano Ronaldo       94  ...       28              31             23\n",
              "2  190871          Neymar Jr       92  ...       27              24             33\n",
              "3  192985       K. De Bruyne       91  ...       68              58             51\n",
              "4  183277          E. Hazard       91  ...       34              27             22\n",
              "\n",
              "[5 rows x 32 columns]"
            ]
          },
          "metadata": {
            "tags": []
          },
          "execution_count": 4
        }
      ]
    },
    {
      "cell_type": "markdown",
      "metadata": {
        "id": "gC9J8aEArrEJ"
      },
      "source": [
        "Our response for our logistic regression model is going to be a new column, \"RankingTier\", that contains three categories:\n",
        "\n",
        "- High: Overall score > 75\n",
        "- Middle: Overall score between 65 and 75\n",
        "- Low: Overall score < 65"
      ]
    },
    {
      "cell_type": "code",
      "metadata": {
        "id": "tTZkLVDnrrEK"
      },
      "source": [
        "# answer goes here\n",
        "soccer_data['RankingTier'] = soccer_data['Overall'].apply(lambda x: \"High\" if (x > 75) else (\"Low\" if (x < 65) else \"Middle\"))"
      ],
      "execution_count": null,
      "outputs": []
    },
    {
      "cell_type": "code",
      "metadata": {
        "id": "DLyK4ASKr2xv",
        "outputId": "dae145c2-591b-49d3-9d70-081b3c74b48b",
        "colab": {
          "base_uri": "https://localhost:8080/",
          "height": 287
        }
      },
      "source": [
        "soccer_data.head()"
      ],
      "execution_count": null,
      "outputs": [
        {
          "output_type": "execute_result",
          "data": {
            "text/html": [
              "<div>\n",
              "<style scoped>\n",
              "    .dataframe tbody tr th:only-of-type {\n",
              "        vertical-align: middle;\n",
              "    }\n",
              "\n",
              "    .dataframe tbody tr th {\n",
              "        vertical-align: top;\n",
              "    }\n",
              "\n",
              "    .dataframe thead th {\n",
              "        text-align: right;\n",
              "    }\n",
              "</style>\n",
              "<table border=\"1\" class=\"dataframe\">\n",
              "  <thead>\n",
              "    <tr style=\"text-align: right;\">\n",
              "      <th></th>\n",
              "      <th>ID</th>\n",
              "      <th>Name</th>\n",
              "      <th>Overall</th>\n",
              "      <th>Crossing</th>\n",
              "      <th>Finishing</th>\n",
              "      <th>HeadingAccuracy</th>\n",
              "      <th>ShortPassing</th>\n",
              "      <th>Volleys</th>\n",
              "      <th>Dribbling</th>\n",
              "      <th>Curve</th>\n",
              "      <th>FKAccuracy</th>\n",
              "      <th>LongPassing</th>\n",
              "      <th>BallControl</th>\n",
              "      <th>Acceleration</th>\n",
              "      <th>SprintSpeed</th>\n",
              "      <th>Agility</th>\n",
              "      <th>Reactions</th>\n",
              "      <th>Balance</th>\n",
              "      <th>ShotPower</th>\n",
              "      <th>Jumping</th>\n",
              "      <th>Stamina</th>\n",
              "      <th>Strength</th>\n",
              "      <th>LongShots</th>\n",
              "      <th>Aggression</th>\n",
              "      <th>Interceptions</th>\n",
              "      <th>Positioning</th>\n",
              "      <th>Vision</th>\n",
              "      <th>Penalties</th>\n",
              "      <th>Composure</th>\n",
              "      <th>Marking</th>\n",
              "      <th>StandingTackle</th>\n",
              "      <th>SlidingTackle</th>\n",
              "      <th>RankingTier</th>\n",
              "    </tr>\n",
              "  </thead>\n",
              "  <tbody>\n",
              "    <tr>\n",
              "      <th>0</th>\n",
              "      <td>158023</td>\n",
              "      <td>L. Messi</td>\n",
              "      <td>94</td>\n",
              "      <td>84</td>\n",
              "      <td>95</td>\n",
              "      <td>70</td>\n",
              "      <td>90</td>\n",
              "      <td>86</td>\n",
              "      <td>97</td>\n",
              "      <td>93</td>\n",
              "      <td>94</td>\n",
              "      <td>87</td>\n",
              "      <td>96</td>\n",
              "      <td>91</td>\n",
              "      <td>86</td>\n",
              "      <td>91</td>\n",
              "      <td>95</td>\n",
              "      <td>95</td>\n",
              "      <td>85</td>\n",
              "      <td>68</td>\n",
              "      <td>72</td>\n",
              "      <td>59</td>\n",
              "      <td>94</td>\n",
              "      <td>48</td>\n",
              "      <td>22</td>\n",
              "      <td>94</td>\n",
              "      <td>94</td>\n",
              "      <td>75</td>\n",
              "      <td>96</td>\n",
              "      <td>33</td>\n",
              "      <td>28</td>\n",
              "      <td>26</td>\n",
              "      <td>High</td>\n",
              "    </tr>\n",
              "    <tr>\n",
              "      <th>1</th>\n",
              "      <td>20801</td>\n",
              "      <td>Cristiano Ronaldo</td>\n",
              "      <td>94</td>\n",
              "      <td>84</td>\n",
              "      <td>94</td>\n",
              "      <td>89</td>\n",
              "      <td>81</td>\n",
              "      <td>87</td>\n",
              "      <td>88</td>\n",
              "      <td>81</td>\n",
              "      <td>76</td>\n",
              "      <td>77</td>\n",
              "      <td>94</td>\n",
              "      <td>89</td>\n",
              "      <td>91</td>\n",
              "      <td>87</td>\n",
              "      <td>96</td>\n",
              "      <td>70</td>\n",
              "      <td>95</td>\n",
              "      <td>95</td>\n",
              "      <td>88</td>\n",
              "      <td>79</td>\n",
              "      <td>93</td>\n",
              "      <td>63</td>\n",
              "      <td>29</td>\n",
              "      <td>95</td>\n",
              "      <td>82</td>\n",
              "      <td>85</td>\n",
              "      <td>95</td>\n",
              "      <td>28</td>\n",
              "      <td>31</td>\n",
              "      <td>23</td>\n",
              "      <td>High</td>\n",
              "    </tr>\n",
              "    <tr>\n",
              "      <th>2</th>\n",
              "      <td>190871</td>\n",
              "      <td>Neymar Jr</td>\n",
              "      <td>92</td>\n",
              "      <td>79</td>\n",
              "      <td>87</td>\n",
              "      <td>62</td>\n",
              "      <td>84</td>\n",
              "      <td>84</td>\n",
              "      <td>96</td>\n",
              "      <td>88</td>\n",
              "      <td>87</td>\n",
              "      <td>78</td>\n",
              "      <td>95</td>\n",
              "      <td>94</td>\n",
              "      <td>90</td>\n",
              "      <td>96</td>\n",
              "      <td>94</td>\n",
              "      <td>84</td>\n",
              "      <td>80</td>\n",
              "      <td>61</td>\n",
              "      <td>81</td>\n",
              "      <td>49</td>\n",
              "      <td>82</td>\n",
              "      <td>56</td>\n",
              "      <td>36</td>\n",
              "      <td>89</td>\n",
              "      <td>87</td>\n",
              "      <td>81</td>\n",
              "      <td>94</td>\n",
              "      <td>27</td>\n",
              "      <td>24</td>\n",
              "      <td>33</td>\n",
              "      <td>High</td>\n",
              "    </tr>\n",
              "    <tr>\n",
              "      <th>3</th>\n",
              "      <td>192985</td>\n",
              "      <td>K. De Bruyne</td>\n",
              "      <td>91</td>\n",
              "      <td>93</td>\n",
              "      <td>82</td>\n",
              "      <td>55</td>\n",
              "      <td>92</td>\n",
              "      <td>82</td>\n",
              "      <td>86</td>\n",
              "      <td>85</td>\n",
              "      <td>83</td>\n",
              "      <td>91</td>\n",
              "      <td>91</td>\n",
              "      <td>78</td>\n",
              "      <td>76</td>\n",
              "      <td>79</td>\n",
              "      <td>91</td>\n",
              "      <td>77</td>\n",
              "      <td>91</td>\n",
              "      <td>63</td>\n",
              "      <td>90</td>\n",
              "      <td>75</td>\n",
              "      <td>91</td>\n",
              "      <td>76</td>\n",
              "      <td>61</td>\n",
              "      <td>87</td>\n",
              "      <td>94</td>\n",
              "      <td>79</td>\n",
              "      <td>88</td>\n",
              "      <td>68</td>\n",
              "      <td>58</td>\n",
              "      <td>51</td>\n",
              "      <td>High</td>\n",
              "    </tr>\n",
              "    <tr>\n",
              "      <th>4</th>\n",
              "      <td>183277</td>\n",
              "      <td>E. Hazard</td>\n",
              "      <td>91</td>\n",
              "      <td>81</td>\n",
              "      <td>84</td>\n",
              "      <td>61</td>\n",
              "      <td>89</td>\n",
              "      <td>80</td>\n",
              "      <td>95</td>\n",
              "      <td>83</td>\n",
              "      <td>79</td>\n",
              "      <td>83</td>\n",
              "      <td>94</td>\n",
              "      <td>94</td>\n",
              "      <td>88</td>\n",
              "      <td>95</td>\n",
              "      <td>90</td>\n",
              "      <td>94</td>\n",
              "      <td>82</td>\n",
              "      <td>56</td>\n",
              "      <td>83</td>\n",
              "      <td>66</td>\n",
              "      <td>80</td>\n",
              "      <td>54</td>\n",
              "      <td>41</td>\n",
              "      <td>87</td>\n",
              "      <td>89</td>\n",
              "      <td>86</td>\n",
              "      <td>91</td>\n",
              "      <td>34</td>\n",
              "      <td>27</td>\n",
              "      <td>22</td>\n",
              "      <td>High</td>\n",
              "    </tr>\n",
              "  </tbody>\n",
              "</table>\n",
              "</div>"
            ],
            "text/plain": [
              "       ID               Name  ...  SlidingTackle  RankingTier\n",
              "0  158023           L. Messi  ...             26         High\n",
              "1   20801  Cristiano Ronaldo  ...             23         High\n",
              "2  190871          Neymar Jr  ...             33         High\n",
              "3  192985       K. De Bruyne  ...             51         High\n",
              "4  183277          E. Hazard  ...             22         High\n",
              "\n",
              "[5 rows x 33 columns]"
            ]
          },
          "metadata": {
            "tags": []
          },
          "execution_count": 6
        }
      ]
    },
    {
      "cell_type": "markdown",
      "metadata": {
        "id": "NJNKBnVpVYp5"
      },
      "source": [
        "The next few steps until model training are the same as before: identify and remove highly correlated features, and split the data into a training set (80%) and a test set (20%)."
      ]
    },
    {
      "cell_type": "code",
      "metadata": {
        "id": "NJR6IxK2VYp5",
        "outputId": "9037b6cf-6772-45ec-c82c-56b4208bf1bb",
        "colab": {
          "base_uri": "https://localhost:8080/",
          "height": 218
        }
      },
      "source": [
        "# answer goes here\n",
        "soccer_data.corr().head()\n",
        "\n",
        "\n"
      ],
      "execution_count": null,
      "outputs": [
        {
          "output_type": "execute_result",
          "data": {
            "text/html": [
              "<div>\n",
              "<style scoped>\n",
              "    .dataframe tbody tr th:only-of-type {\n",
              "        vertical-align: middle;\n",
              "    }\n",
              "\n",
              "    .dataframe tbody tr th {\n",
              "        vertical-align: top;\n",
              "    }\n",
              "\n",
              "    .dataframe thead th {\n",
              "        text-align: right;\n",
              "    }\n",
              "</style>\n",
              "<table border=\"1\" class=\"dataframe\">\n",
              "  <thead>\n",
              "    <tr style=\"text-align: right;\">\n",
              "      <th></th>\n",
              "      <th>ID</th>\n",
              "      <th>Overall</th>\n",
              "      <th>Crossing</th>\n",
              "      <th>Finishing</th>\n",
              "      <th>HeadingAccuracy</th>\n",
              "      <th>ShortPassing</th>\n",
              "      <th>Volleys</th>\n",
              "      <th>Dribbling</th>\n",
              "      <th>Curve</th>\n",
              "      <th>FKAccuracy</th>\n",
              "      <th>LongPassing</th>\n",
              "      <th>BallControl</th>\n",
              "      <th>Acceleration</th>\n",
              "      <th>SprintSpeed</th>\n",
              "      <th>Agility</th>\n",
              "      <th>Reactions</th>\n",
              "      <th>Balance</th>\n",
              "      <th>ShotPower</th>\n",
              "      <th>Jumping</th>\n",
              "      <th>Stamina</th>\n",
              "      <th>Strength</th>\n",
              "      <th>LongShots</th>\n",
              "      <th>Aggression</th>\n",
              "      <th>Interceptions</th>\n",
              "      <th>Positioning</th>\n",
              "      <th>Vision</th>\n",
              "      <th>Penalties</th>\n",
              "      <th>Composure</th>\n",
              "      <th>Marking</th>\n",
              "      <th>StandingTackle</th>\n",
              "      <th>SlidingTackle</th>\n",
              "    </tr>\n",
              "  </thead>\n",
              "  <tbody>\n",
              "    <tr>\n",
              "      <th>ID</th>\n",
              "      <td>1.000000</td>\n",
              "      <td>-0.426009</td>\n",
              "      <td>-0.277281</td>\n",
              "      <td>-0.169946</td>\n",
              "      <td>-0.288233</td>\n",
              "      <td>-0.315288</td>\n",
              "      <td>-0.277298</td>\n",
              "      <td>-0.149494</td>\n",
              "      <td>-0.307825</td>\n",
              "      <td>-0.327434</td>\n",
              "      <td>-0.315755</td>\n",
              "      <td>-0.285933</td>\n",
              "      <td>0.173195</td>\n",
              "      <td>0.173248</td>\n",
              "      <td>-0.036440</td>\n",
              "      <td>-0.415952</td>\n",
              "      <td>0.035525</td>\n",
              "      <td>-0.327636</td>\n",
              "      <td>-0.176311</td>\n",
              "      <td>-0.158896</td>\n",
              "      <td>-0.285786</td>\n",
              "      <td>-0.289826</td>\n",
              "      <td>-0.354708</td>\n",
              "      <td>-0.238507</td>\n",
              "      <td>-0.206827</td>\n",
              "      <td>-0.289062</td>\n",
              "      <td>-0.261517</td>\n",
              "      <td>-0.470480</td>\n",
              "      <td>-0.200288</td>\n",
              "      <td>-0.168401</td>\n",
              "      <td>-0.138797</td>\n",
              "    </tr>\n",
              "    <tr>\n",
              "      <th>Overall</th>\n",
              "      <td>-0.426009</td>\n",
              "      <td>1.000000</td>\n",
              "      <td>0.496603</td>\n",
              "      <td>0.373079</td>\n",
              "      <td>0.466908</td>\n",
              "      <td>0.722720</td>\n",
              "      <td>0.452090</td>\n",
              "      <td>0.516363</td>\n",
              "      <td>0.503054</td>\n",
              "      <td>0.455875</td>\n",
              "      <td>0.585104</td>\n",
              "      <td>0.717933</td>\n",
              "      <td>0.150825</td>\n",
              "      <td>0.170155</td>\n",
              "      <td>0.244344</td>\n",
              "      <td>0.847739</td>\n",
              "      <td>0.059425</td>\n",
              "      <td>0.562960</td>\n",
              "      <td>0.228271</td>\n",
              "      <td>0.461417</td>\n",
              "      <td>0.341067</td>\n",
              "      <td>0.502109</td>\n",
              "      <td>0.452916</td>\n",
              "      <td>0.333275</td>\n",
              "      <td>0.438692</td>\n",
              "      <td>0.524361</td>\n",
              "      <td>0.391124</td>\n",
              "      <td>0.801749</td>\n",
              "      <td>0.305698</td>\n",
              "      <td>0.264082</td>\n",
              "      <td>0.224365</td>\n",
              "    </tr>\n",
              "    <tr>\n",
              "      <th>Crossing</th>\n",
              "      <td>-0.277281</td>\n",
              "      <td>0.496603</td>\n",
              "      <td>1.000000</td>\n",
              "      <td>0.413404</td>\n",
              "      <td>-0.134959</td>\n",
              "      <td>0.632386</td>\n",
              "      <td>0.472485</td>\n",
              "      <td>0.712261</td>\n",
              "      <td>0.714762</td>\n",
              "      <td>0.618580</td>\n",
              "      <td>0.592781</td>\n",
              "      <td>0.682796</td>\n",
              "      <td>0.439799</td>\n",
              "      <td>0.393403</td>\n",
              "      <td>0.547590</td>\n",
              "      <td>0.461861</td>\n",
              "      <td>0.435751</td>\n",
              "      <td>0.457531</td>\n",
              "      <td>-0.027529</td>\n",
              "      <td>0.351862</td>\n",
              "      <td>-0.177255</td>\n",
              "      <td>0.548462</td>\n",
              "      <td>0.105539</td>\n",
              "      <td>0.125985</td>\n",
              "      <td>0.585624</td>\n",
              "      <td>0.643948</td>\n",
              "      <td>0.371606</td>\n",
              "      <td>0.469666</td>\n",
              "      <td>0.086971</td>\n",
              "      <td>0.085429</td>\n",
              "      <td>0.078963</td>\n",
              "    </tr>\n",
              "    <tr>\n",
              "      <th>Finishing</th>\n",
              "      <td>-0.169946</td>\n",
              "      <td>0.373079</td>\n",
              "      <td>0.413404</td>\n",
              "      <td>1.000000</td>\n",
              "      <td>0.002099</td>\n",
              "      <td>0.398895</td>\n",
              "      <td>0.814663</td>\n",
              "      <td>0.706635</td>\n",
              "      <td>0.614189</td>\n",
              "      <td>0.537508</td>\n",
              "      <td>0.218965</td>\n",
              "      <td>0.645849</td>\n",
              "      <td>0.373630</td>\n",
              "      <td>0.349087</td>\n",
              "      <td>0.480792</td>\n",
              "      <td>0.349146</td>\n",
              "      <td>0.311487</td>\n",
              "      <td>0.703408</td>\n",
              "      <td>-0.057519</td>\n",
              "      <td>0.119415</td>\n",
              "      <td>-0.125550</td>\n",
              "      <td>0.803036</td>\n",
              "      <td>-0.201407</td>\n",
              "      <td>-0.491733</td>\n",
              "      <td>0.818964</td>\n",
              "      <td>0.655283</td>\n",
              "      <td>0.744835</td>\n",
              "      <td>0.412177</td>\n",
              "      <td>-0.503042</td>\n",
              "      <td>-0.558565</td>\n",
              "      <td>-0.585841</td>\n",
              "    </tr>\n",
              "    <tr>\n",
              "      <th>HeadingAccuracy</th>\n",
              "      <td>-0.288233</td>\n",
              "      <td>0.466908</td>\n",
              "      <td>-0.134959</td>\n",
              "      <td>0.002099</td>\n",
              "      <td>1.000000</td>\n",
              "      <td>0.131909</td>\n",
              "      <td>0.062357</td>\n",
              "      <td>-0.134535</td>\n",
              "      <td>-0.091652</td>\n",
              "      <td>-0.076517</td>\n",
              "      <td>0.057267</td>\n",
              "      <td>0.069890</td>\n",
              "      <td>-0.335712</td>\n",
              "      <td>-0.238734</td>\n",
              "      <td>-0.351398</td>\n",
              "      <td>0.405671</td>\n",
              "      <td>-0.467826</td>\n",
              "      <td>0.189628</td>\n",
              "      <td>0.357951</td>\n",
              "      <td>0.161594</td>\n",
              "      <td>0.641662</td>\n",
              "      <td>0.029784</td>\n",
              "      <td>0.458631</td>\n",
              "      <td>0.286880</td>\n",
              "      <td>-0.024105</td>\n",
              "      <td>-0.079291</td>\n",
              "      <td>0.108405</td>\n",
              "      <td>0.344770</td>\n",
              "      <td>0.274280</td>\n",
              "      <td>0.257420</td>\n",
              "      <td>0.234933</td>\n",
              "    </tr>\n",
              "  </tbody>\n",
              "</table>\n",
              "</div>"
            ],
            "text/plain": [
              "                       ID   Overall  ...  StandingTackle  SlidingTackle\n",
              "ID               1.000000 -0.426009  ...       -0.168401      -0.138797\n",
              "Overall         -0.426009  1.000000  ...        0.264082       0.224365\n",
              "Crossing        -0.277281  0.496603  ...        0.085429       0.078963\n",
              "Finishing       -0.169946  0.373079  ...       -0.558565      -0.585841\n",
              "HeadingAccuracy -0.288233  0.466908  ...        0.257420       0.234933\n",
              "\n",
              "[5 rows x 31 columns]"
            ]
          },
          "metadata": {
            "tags": []
          },
          "execution_count": 7
        }
      ]
    },
    {
      "cell_type": "code",
      "metadata": {
        "id": "Lks-OvOXsGKU"
      },
      "source": [
        "soccer = soccer_data.drop(columns=['ID'])"
      ],
      "execution_count": null,
      "outputs": []
    },
    {
      "cell_type": "code",
      "metadata": {
        "id": "MvioPqNPshVn"
      },
      "source": [
        "soccer_X = soccer.drop([\"Overall\", \"RankingTier\", \"Name\"], axis=1)\n",
        "soccer_Y = soccer[\"RankingTier\"]\n",
        "X_train, X_test, y_train, y_test = train_test_split(soccer_X, soccer_Y, test_size=0.2, random_state=54)\n",
        "X_train_const = sm.add_constant(X_train)"
      ],
      "execution_count": null,
      "outputs": []
    },
    {
      "cell_type": "code",
      "metadata": {
        "id": "NnYVtK174wG2",
        "outputId": "3a192f22-93f7-474a-9899-184714ff1f16",
        "colab": {
          "base_uri": "https://localhost:8080/",
          "height": 1000
        }
      },
      "source": [
        "sm_model = sm.MNLogit(y_train, X_train_const).fit()\n",
        "print(sm_model.summary())\n",
        "print(sm_model.summary2())"
      ],
      "execution_count": null,
      "outputs": [
        {
          "output_type": "stream",
          "text": [
            "Optimization terminated successfully.\n",
            "         Current function value: 0.338659\n",
            "         Iterations 11\n",
            "                          MNLogit Regression Results                          \n",
            "==============================================================================\n",
            "Dep. Variable:            RankingTier   No. Observations:                12897\n",
            "Model:                        MNLogit   Df Residuals:                    12837\n",
            "Method:                           MLE   Df Model:                           58\n",
            "Date:                Fri, 16 Oct 2020   Pseudo R-squ.:                  0.6302\n",
            "Time:                        19:41:57   Log-Likelihood:                -4367.7\n",
            "converged:                       True   LL-Null:                       -11812.\n",
            "Covariance Type:            nonrobust   LLR p-value:                     0.000\n",
            "======================================================================================\n",
            "   RankingTier=Low       coef    std err          z      P>|z|      [0.025      0.975]\n",
            "--------------------------------------------------------------------------------------\n",
            "const                 99.3163      2.243     44.280      0.000      94.920     103.712\n",
            "Crossing              -0.0151      0.008     -1.784      0.074      -0.032       0.001\n",
            "Finishing             -0.0478      0.010     -4.566      0.000      -0.068      -0.027\n",
            "HeadingAccuracy       -0.1236      0.009    -13.419      0.000      -0.142      -0.106\n",
            "ShortPassing          -0.2740      0.022    -12.734      0.000      -0.316      -0.232\n",
            "Volleys                0.0311      0.008      3.676      0.000       0.015       0.048\n",
            "Dribbling              0.0068      0.016      0.429      0.668      -0.024       0.038\n",
            "Curve                 -0.0006      0.009     -0.070      0.944      -0.018       0.017\n",
            "FKAccuracy            -0.0106      0.007     -1.441      0.150      -0.025       0.004\n",
            "LongPassing            0.0089      0.012      0.735      0.462      -0.015       0.032\n",
            "BallControl           -0.3076      0.022    -13.827      0.000      -0.351      -0.264\n",
            "Acceleration          -0.0499      0.014     -3.536      0.000      -0.078      -0.022\n",
            "SprintSpeed           -0.0704      0.013     -5.536      0.000      -0.095      -0.045\n",
            "Agility                0.0001      0.012      0.009      0.993      -0.024       0.024\n",
            "Reactions             -0.4599      0.018    -25.384      0.000      -0.495      -0.424\n",
            "Balance                0.0297      0.010      3.112      0.002       0.011       0.048\n",
            "ShotPower             -0.0647      0.011     -5.852      0.000      -0.086      -0.043\n",
            "Jumping               -0.0089      0.007     -1.325      0.185      -0.022       0.004\n",
            "Stamina               -0.0019      0.008     -0.237      0.813      -0.018       0.014\n",
            "Strength              -0.0534      0.010     -5.378      0.000      -0.073      -0.034\n",
            "LongShots              0.0455      0.011      4.299      0.000       0.025       0.066\n",
            "Aggression            -0.0167      0.007     -2.288      0.022      -0.031      -0.002\n",
            "Interceptions          0.0179      0.010      1.716      0.086      -0.003       0.038\n",
            "Positioning            0.0869      0.011      8.145      0.000       0.066       0.108\n",
            "Vision                 0.0762      0.011      6.705      0.000       0.054       0.099\n",
            "Penalties             -0.0133      0.008     -1.593      0.111      -0.030       0.003\n",
            "Composure             -0.2129      0.014    -15.481      0.000      -0.240      -0.186\n",
            "Marking               -0.0516      0.008     -6.448      0.000      -0.067      -0.036\n",
            "StandingTackle         0.0015      0.015      0.105      0.916      -0.027       0.030\n",
            "SlidingTackle          0.0163      0.013      1.233      0.217      -0.010       0.042\n",
            "--------------------------------------------------------------------------------------\n",
            "RankingTier=Middle       coef    std err          z      P>|z|      [0.025      0.975]\n",
            "--------------------------------------------------------------------------------------\n",
            "const                 61.9564      2.085     29.722      0.000      57.871      66.042\n",
            "Crossing               0.0003      0.008      0.044      0.965      -0.014       0.015\n",
            "Finishing             -0.0309      0.009     -3.363      0.001      -0.049      -0.013\n",
            "HeadingAccuracy       -0.0562      0.008     -7.006      0.000      -0.072      -0.041\n",
            "ShortPassing          -0.1854      0.020     -9.331      0.000      -0.224      -0.146\n",
            "Volleys                0.0169      0.007      2.357      0.018       0.003       0.031\n",
            "Dribbling          -1.332e-05      0.015     -0.001      0.999      -0.029       0.028\n",
            "Curve                  0.0056      0.008      0.722      0.470      -0.010       0.021\n",
            "FKAccuracy            -0.0066      0.006     -1.052      0.293      -0.019       0.006\n",
            "LongPassing            0.0003      0.011      0.023      0.981      -0.021       0.021\n",
            "BallControl           -0.1911      0.020     -9.336      0.000      -0.231      -0.151\n",
            "Acceleration          -0.0305      0.013     -2.420      0.016      -0.055      -0.006\n",
            "SprintSpeed           -0.0386      0.011     -3.414      0.001      -0.061      -0.016\n",
            "Agility               -0.0003      0.011     -0.030      0.976      -0.022       0.021\n",
            "Reactions             -0.2839      0.017    -16.971      0.000      -0.317      -0.251\n",
            "Balance                0.0201      0.008      2.365      0.018       0.003       0.037\n",
            "ShotPower             -0.0506      0.010     -5.031      0.000      -0.070      -0.031\n",
            "Jumping               -0.0016      0.006     -0.269      0.788      -0.013       0.010\n",
            "Stamina                0.0077      0.007      1.053      0.293      -0.007       0.022\n",
            "Strength              -0.0255      0.009     -2.820      0.005      -0.043      -0.008\n",
            "LongShots              0.0371      0.009      3.915      0.000       0.019       0.056\n",
            "Aggression            -0.0103      0.007     -1.588      0.112      -0.023       0.002\n",
            "Interceptions          0.0224      0.009      2.409      0.016       0.004       0.041\n",
            "Positioning            0.0578      0.010      5.997      0.000       0.039       0.077\n",
            "Vision                 0.0464      0.010      4.568      0.000       0.027       0.066\n",
            "Penalties             -0.0043      0.007     -0.598      0.550      -0.018       0.010\n",
            "Composure             -0.1151      0.013     -9.092      0.000      -0.140      -0.090\n",
            "Marking               -0.0272      0.007     -3.918      0.000      -0.041      -0.014\n",
            "StandingTackle        -0.0029      0.012     -0.230      0.818      -0.027       0.022\n",
            "SlidingTackle          0.0050      0.011      0.437      0.662      -0.017       0.027\n",
            "======================================================================================\n",
            "                        Results: MNLogit\n",
            "=================================================================\n",
            "Model:               MNLogit          Pseudo R-squared: 0.630    \n",
            "Dependent Variable:  RankingTier      AIC:              8855.3826\n",
            "Date:                2020-10-16 19:41 BIC:              9303.2676\n",
            "No. Observations:    12897            Log-Likelihood:   -4367.7  \n",
            "Df Model:            58               LL-Null:          -11812.  \n",
            "Df Residuals:        12837            LLR p-value:      0.0000   \n",
            "Converged:           1.0000           Scale:            1.0000   \n",
            "No. Iterations:      11.0000                                     \n",
            "-----------------------------------------------------------------\n",
            "RankingTier = 0  Coef.  Std.Err.    t     P>|t|   [0.025  0.975] \n",
            "-----------------------------------------------------------------\n",
            "          const 99.3163   2.2429  44.2800 0.0000 94.9203 103.7124\n",
            "       Crossing -0.0151   0.0085  -1.7840 0.0744 -0.0317   0.0015\n",
            "      Finishing -0.0478   0.0105  -4.5659 0.0000 -0.0683  -0.0273\n",
            "HeadingAccuracy -0.1236   0.0092 -13.4195 0.0000 -0.1416  -0.1055\n",
            "   ShortPassing -0.2740   0.0215 -12.7340 0.0000 -0.3162  -0.2318\n",
            "        Volleys  0.0311   0.0085   3.6756 0.0002  0.0145   0.0477\n",
            "      Dribbling  0.0068   0.0159   0.4290 0.6679 -0.0243   0.0379\n",
            "          Curve -0.0006   0.0088  -0.0705 0.9438 -0.0178   0.0166\n",
            "     FKAccuracy -0.0106   0.0074  -1.4412 0.1495 -0.0251   0.0038\n",
            "    LongPassing  0.0089   0.0120   0.7351 0.4623 -0.0148   0.0325\n",
            "    BallControl -0.3076   0.0222 -13.8268 0.0000 -0.3512  -0.2640\n",
            "   Acceleration -0.0499   0.0141  -3.5360 0.0004 -0.0775  -0.0222\n",
            "    SprintSpeed -0.0704   0.0127  -5.5363 0.0000 -0.0953  -0.0455\n",
            "        Agility  0.0001   0.0121   0.0091 0.9927 -0.0236   0.0238\n",
            "      Reactions -0.4599   0.0181 -25.3835 0.0000 -0.4954  -0.4244\n",
            "        Balance  0.0297   0.0095   3.1115 0.0019  0.0110   0.0483\n",
            "      ShotPower -0.0647   0.0111  -5.8518 0.0000 -0.0863  -0.0430\n",
            "        Jumping -0.0089   0.0067  -1.3245 0.1853 -0.0220   0.0043\n",
            "        Stamina -0.0019   0.0082  -0.2372 0.8125 -0.0180   0.0141\n",
            "       Strength -0.0534   0.0099  -5.3778 0.0000 -0.0729  -0.0339\n",
            "      LongShots  0.0455   0.0106   4.2986 0.0000  0.0247   0.0662\n",
            "     Aggression -0.0167   0.0073  -2.2881 0.0221 -0.0311  -0.0024\n",
            "  Interceptions  0.0179   0.0104   1.7160 0.0862 -0.0025   0.0384\n",
            "    Positioning  0.0869   0.0107   8.1447 0.0000  0.0660   0.1078\n",
            "         Vision  0.0762   0.0114   6.7050 0.0000  0.0540   0.0985\n",
            "      Penalties -0.0133   0.0083  -1.5926 0.1112 -0.0296   0.0031\n",
            "      Composure -0.2129   0.0138 -15.4815 0.0000 -0.2399  -0.1860\n",
            "        Marking -0.0516   0.0080  -6.4481 0.0000 -0.0673  -0.0359\n",
            " StandingTackle  0.0015   0.0145   0.1049 0.9165 -0.0269   0.0300\n",
            "  SlidingTackle  0.0163   0.0132   1.2334 0.2174 -0.0096   0.0423\n",
            "-----------------------------------------------------------------\n",
            "RankingTier = 1   Coef.  Std.Err.    t     P>|t|   [0.025  0.975]\n",
            "-----------------------------------------------------------------\n",
            "          const  61.9564   2.0845  29.7224 0.0000 57.8708 66.0420\n",
            "       Crossing   0.0003   0.0075   0.0440 0.9649 -0.0144  0.0151\n",
            "      Finishing  -0.0309   0.0092  -3.3625 0.0008 -0.0489 -0.0129\n",
            "HeadingAccuracy  -0.0562   0.0080  -7.0064 0.0000 -0.0720 -0.0405\n",
            "   ShortPassing  -0.1854   0.0199  -9.3313 0.0000 -0.2243 -0.1465\n",
            "        Volleys   0.0169   0.0072   2.3570 0.0184  0.0029  0.0310\n",
            "      Dribbling  -0.0000   0.0145  -0.0009 0.9993 -0.0285  0.0285\n",
            "          Curve   0.0056   0.0077   0.7221 0.4703 -0.0095  0.0206\n",
            "     FKAccuracy  -0.0066   0.0063  -1.0516 0.2930 -0.0190  0.0057\n",
            "    LongPassing   0.0003   0.0107   0.0233 0.9814 -0.0208  0.0213\n",
            "    BallControl  -0.1911   0.0205  -9.3363 0.0000 -0.2312 -0.1510\n",
            "   Acceleration  -0.0305   0.0126  -2.4196 0.0155 -0.0553 -0.0058\n",
            "    SprintSpeed  -0.0386   0.0113  -3.4144 0.0006 -0.0608 -0.0164\n",
            "        Agility  -0.0003   0.0111  -0.0299 0.9761 -0.0222  0.0215\n",
            "      Reactions  -0.2839   0.0167 -16.9708 0.0000 -0.3167 -0.2511\n",
            "        Balance   0.0201   0.0085   2.3650 0.0180  0.0034  0.0367\n",
            "      ShotPower  -0.0506   0.0101  -5.0309 0.0000 -0.0703 -0.0309\n",
            "        Jumping  -0.0016   0.0059  -0.2686 0.7883 -0.0132  0.0100\n",
            "        Stamina   0.0077   0.0073   1.0526 0.2925 -0.0067  0.0221\n",
            "       Strength  -0.0255   0.0090  -2.8200 0.0048 -0.0432 -0.0078\n",
            "      LongShots   0.0371   0.0095   3.9147 0.0001  0.0185  0.0556\n",
            "     Aggression  -0.0103   0.0065  -1.5882 0.1122 -0.0231  0.0024\n",
            "  Interceptions   0.0224   0.0093   2.4091 0.0160  0.0042  0.0406\n",
            "    Positioning   0.0578   0.0096   5.9967 0.0000  0.0389  0.0766\n",
            "         Vision   0.0464   0.0102   4.5678 0.0000  0.0265  0.0664\n",
            "      Penalties  -0.0043   0.0071  -0.5981 0.5498 -0.0182  0.0097\n",
            "      Composure  -0.1151   0.0127  -9.0920 0.0000 -0.1399 -0.0903\n",
            "        Marking  -0.0272   0.0070  -3.9175 0.0001 -0.0409 -0.0136\n",
            " StandingTackle  -0.0029   0.0125  -0.2302 0.8179 -0.0273  0.0216\n",
            "  SlidingTackle   0.0050   0.0113   0.4370 0.6621 -0.0173  0.0272\n",
            "=================================================================\n",
            "\n"
          ],
          "name": "stdout"
        }
      ]
    },
    {
      "cell_type": "markdown",
      "metadata": {
        "id": "x4vvG5GmrrEL"
      },
      "source": [
        "Fit a multinomial logistic regression model using the statsmodels package and print out the coefficient summary. What is the \"reference\" tier chosen by the model? How do we interpret the coefficients - for example, how does the intepretation of the \"Reactions\" coefficient for RankingTier=Low differ from the \"Reactions\" coefficient for RankingTier=Middle?"
      ]
    },
    {
      "cell_type": "code",
      "metadata": {
        "id": "cwdpwLT6rrEM",
        "outputId": "185166e7-33c2-4135-a050-ec07e9115b9b",
        "colab": {
          "base_uri": "https://localhost:8080/",
          "height": 74
        }
      },
      "source": [
        "# answer goes here\n",
        "ng_multinomial_lr_clf = LogisticRegression(solver='sag', multi_class='multinomial') \n",
        "ranking = ng_multinomial_lr_clf.fit(X_train, y_train)\n",
        "\n",
        "\n"
      ],
      "execution_count": null,
      "outputs": [
        {
          "output_type": "stream",
          "text": [
            "/usr/local/lib/python3.6/dist-packages/sklearn/linear_model/_sag.py:330: ConvergenceWarning: The max_iter was reached which means the coef_ did not converge\n",
            "  \"the coef_ did not converge\", ConvergenceWarning)\n"
          ],
          "name": "stderr"
        }
      ]
    },
    {
      "cell_type": "code",
      "metadata": {
        "id": "qZGto6xItlMU"
      },
      "source": [
        "ng_multinomial_proba = ng_multinomial_lr_clf.predict_proba(X_test)"
      ],
      "execution_count": null,
      "outputs": []
    },
    {
      "cell_type": "markdown",
      "metadata": {
        "id": "KkMAIoh0rrEP"
      },
      "source": [
        "To evaluate test error using cross-validation, we will switch back to scikit-learn. Estimate the test error of this multinomial logistic regression model using 10-fold CV.\n",
        "\n",
        "Note: scikit-learn's LogisticRegression() function can handle both binary and multinomial regression, and it is automatically able to determine which is appropriate based on the y_train array that is passed. You should be able to reuse previous code with minimal changes required."
      ]
    },
    {
      "cell_type": "code",
      "metadata": {
        "id": "lPRW-I6IrrEQ",
        "outputId": "73fc1305-6f83-4188-f6fc-3b90d1c2a24f",
        "colab": {
          "base_uri": "https://localhost:8080/",
          "height": 745
        }
      },
      "source": [
        "# answer goes here\n",
        "clf = LogisticRegression(solver='lbfgs') \n",
        "cv_scores = cross_val_score(clf, X_train, y_train, cv = 5)"
      ],
      "execution_count": null,
      "outputs": [
        {
          "output_type": "stream",
          "text": [
            "/usr/local/lib/python3.6/dist-packages/sklearn/linear_model/_logistic.py:940: ConvergenceWarning: lbfgs failed to converge (status=1):\n",
            "STOP: TOTAL NO. of ITERATIONS REACHED LIMIT.\n",
            "\n",
            "Increase the number of iterations (max_iter) or scale the data as shown in:\n",
            "    https://scikit-learn.org/stable/modules/preprocessing.html\n",
            "Please also refer to the documentation for alternative solver options:\n",
            "    https://scikit-learn.org/stable/modules/linear_model.html#logistic-regression\n",
            "  extra_warning_msg=_LOGISTIC_SOLVER_CONVERGENCE_MSG)\n",
            "/usr/local/lib/python3.6/dist-packages/sklearn/linear_model/_logistic.py:940: ConvergenceWarning: lbfgs failed to converge (status=1):\n",
            "STOP: TOTAL NO. of ITERATIONS REACHED LIMIT.\n",
            "\n",
            "Increase the number of iterations (max_iter) or scale the data as shown in:\n",
            "    https://scikit-learn.org/stable/modules/preprocessing.html\n",
            "Please also refer to the documentation for alternative solver options:\n",
            "    https://scikit-learn.org/stable/modules/linear_model.html#logistic-regression\n",
            "  extra_warning_msg=_LOGISTIC_SOLVER_CONVERGENCE_MSG)\n",
            "/usr/local/lib/python3.6/dist-packages/sklearn/linear_model/_logistic.py:940: ConvergenceWarning: lbfgs failed to converge (status=1):\n",
            "STOP: TOTAL NO. of ITERATIONS REACHED LIMIT.\n",
            "\n",
            "Increase the number of iterations (max_iter) or scale the data as shown in:\n",
            "    https://scikit-learn.org/stable/modules/preprocessing.html\n",
            "Please also refer to the documentation for alternative solver options:\n",
            "    https://scikit-learn.org/stable/modules/linear_model.html#logistic-regression\n",
            "  extra_warning_msg=_LOGISTIC_SOLVER_CONVERGENCE_MSG)\n",
            "/usr/local/lib/python3.6/dist-packages/sklearn/linear_model/_logistic.py:940: ConvergenceWarning: lbfgs failed to converge (status=1):\n",
            "STOP: TOTAL NO. of ITERATIONS REACHED LIMIT.\n",
            "\n",
            "Increase the number of iterations (max_iter) or scale the data as shown in:\n",
            "    https://scikit-learn.org/stable/modules/preprocessing.html\n",
            "Please also refer to the documentation for alternative solver options:\n",
            "    https://scikit-learn.org/stable/modules/linear_model.html#logistic-regression\n",
            "  extra_warning_msg=_LOGISTIC_SOLVER_CONVERGENCE_MSG)\n",
            "/usr/local/lib/python3.6/dist-packages/sklearn/linear_model/_logistic.py:940: ConvergenceWarning: lbfgs failed to converge (status=1):\n",
            "STOP: TOTAL NO. of ITERATIONS REACHED LIMIT.\n",
            "\n",
            "Increase the number of iterations (max_iter) or scale the data as shown in:\n",
            "    https://scikit-learn.org/stable/modules/preprocessing.html\n",
            "Please also refer to the documentation for alternative solver options:\n",
            "    https://scikit-learn.org/stable/modules/linear_model.html#logistic-regression\n",
            "  extra_warning_msg=_LOGISTIC_SOLVER_CONVERGENCE_MSG)\n"
          ],
          "name": "stderr"
        }
      ]
    },
    {
      "cell_type": "code",
      "metadata": {
        "id": "wTbOhkRs6JV-",
        "outputId": "f6238576-9c47-4a80-e732-ed5cbba5233f",
        "colab": {
          "base_uri": "https://localhost:8080/",
          "height": 54
        }
      },
      "source": [
        "print('Accuracy scores for the 10 folds: ', cv_scores)\n",
        "print('Mean cross validatiion score: {:.3f}'.format(np.mean(cv_scores)))"
      ],
      "execution_count": null,
      "outputs": [
        {
          "output_type": "stream",
          "text": [
            "Accuracy scores for the 10 folds:  [0.70581395 0.70620155 0.71927104 0.69406747 0.72120977]\n",
            "Mean cross validatiion score: 0.709\n"
          ],
          "name": "stdout"
        }
      ]
    },
    {
      "cell_type": "markdown",
      "metadata": {
        "id": "2qBq7WCNVYp_"
      },
      "source": [
        "As we did in the previous exercise, train a multinomial logistic regression on the training data, make predictions on the 20% holdout test data, then:\n",
        "\n",
        "- Determine the precision, recall, and F1-score of our model using a cutoff/threshold of 0.5 (hint: scikit-learn's *classification_report* function may be helpful)\n",
        "- Plot or otherwise generate a confusion matrix\n",
        "- Plot the ROC curve for our logistic regression model\n",
        "\n",
        "Comment on the performance of the model."
      ]
    },
    {
      "cell_type": "code",
      "metadata": {
        "id": "FFup74enVYp_",
        "outputId": "766e4ff8-d693-4fef-f761-7b5e062b7dd8",
        "colab": {
          "base_uri": "https://localhost:8080/",
          "height": 345
        }
      },
      "source": [
        "# answer goes here\n",
        "logit = LogisticRegression(max_iter=1000)\n",
        "logit.fit(X_train, y_train)\n",
        "\n",
        "train_predicted_y = logit.predict(X_train)\n",
        "print(classification_report(y_train, train_predicted_y))\n"
      ],
      "execution_count": null,
      "outputs": [
        {
          "output_type": "stream",
          "text": [
            "/usr/local/lib/python3.6/dist-packages/sklearn/linear_model/_logistic.py:940: ConvergenceWarning: lbfgs failed to converge (status=1):\n",
            "STOP: TOTAL NO. of ITERATIONS REACHED LIMIT.\n",
            "\n",
            "Increase the number of iterations (max_iter) or scale the data as shown in:\n",
            "    https://scikit-learn.org/stable/modules/preprocessing.html\n",
            "Please also refer to the documentation for alternative solver options:\n",
            "    https://scikit-learn.org/stable/modules/linear_model.html#logistic-regression\n",
            "  extra_warning_msg=_LOGISTIC_SOLVER_CONVERGENCE_MSG)\n"
          ],
          "name": "stderr"
        },
        {
          "output_type": "stream",
          "text": [
            "              precision    recall  f1-score   support\n",
            "\n",
            "        High       0.88      0.56      0.68      1124\n",
            "         Low       0.85      0.85      0.85      4904\n",
            "      Middle       0.83      0.88      0.85      6869\n",
            "\n",
            "    accuracy                           0.84     12897\n",
            "   macro avg       0.85      0.76      0.79     12897\n",
            "weighted avg       0.84      0.84      0.84     12897\n",
            "\n"
          ],
          "name": "stdout"
        }
      ]
    },
    {
      "cell_type": "code",
      "metadata": {
        "id": "y3HwxFUv6MAP",
        "outputId": "b8b420a4-a2b8-44fe-844e-01f820672a69",
        "colab": {
          "base_uri": "https://localhost:8080/",
          "height": 279
        }
      },
      "source": [
        "from sklearn.metrics import confusion_matrix, plot_confusion_matrix\n",
        "cm = confusion_matrix(y_train, train_predicted_y, labels=['Low', 'Middle', 'High'])\n",
        "plot_confusion_matrix(logit, X_test, y_test, cmap='copper', normalize='true')\n",
        "plt.show()"
      ],
      "execution_count": null,
      "outputs": [
        {
          "output_type": "display_data",
          "data": {
            "image/png": "[encoded data removed]",
            "text/plain": [
              "<Figure size 432x288 with 2 Axes>"
            ]
          },
          "metadata": {
            "tags": [],
            "needs_background": "light"
          }
        }
      ]
    },
    {
      "cell_type": "code",
      "metadata": {
        "id": "mk5VztN8_W6n"
      },
      "source": [
        "Y_bin = pd.get_dummies(y_test)\n",
        "Y_pred_prob = logit.predict_proba(X_test)"
      ],
      "execution_count": null,
      "outputs": []
    },
    {
      "cell_type": "code",
      "metadata": {
        "id": "uYCwepz1A77e",
        "outputId": "7d2994a2-7b82-4a15-93eb-84049532439d",
        "colab": {
          "base_uri": "https://localhost:8080/",
          "height": 90
        }
      },
      "source": [
        "Y_bin.iloc[0]"
      ],
      "execution_count": null,
      "outputs": [
        {
          "output_type": "execute_result",
          "data": {
            "text/plain": [
              "High      0\n",
              "Low       1\n",
              "Middle    0\n",
              "Name: 12237, dtype: uint8"
            ]
          },
          "metadata": {
            "tags": []
          },
          "execution_count": 42
        }
      ]
    },
    {
      "cell_type": "code",
      "metadata": {
        "id": "eulJSifu_7j_"
      },
      "source": [
        "x, y, _ = roc_curve(Y_bin.iloc[:, 0], Y_pred_prob[:,0])\n",
        "roc_auc = auc(x, y)"
      ],
      "execution_count": null,
      "outputs": []
    },
    {
      "cell_type": "code",
      "metadata": {
        "id": "fGaKzEQn8OcL",
        "outputId": "99b78dfb-de28-4435-9c12-52888ebad501",
        "colab": {
          "base_uri": "https://localhost:8080/",
          "height": 265
        }
      },
      "source": [
        "plt.plot(x, y, color='teal')\n",
        "plt.plot([0, 1], [0, 1], color='maroon', linestyle='--')\n",
        "plt.show()"
      ],
      "execution_count": null,
      "outputs": [
        {
          "output_type": "display_data",
          "data": {
            "image/png": "[encoded data removed]",
            "text/plain": [
              "<Figure size 432x288 with 1 Axes>"
            ]
          },
          "metadata": {
            "tags": [],
            "needs_background": "light"
          }
        }
      ]
    }
  ]
}