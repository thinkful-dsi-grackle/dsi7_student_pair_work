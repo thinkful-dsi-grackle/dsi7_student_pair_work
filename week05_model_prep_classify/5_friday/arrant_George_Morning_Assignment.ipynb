{
  "nbformat": 4,
  "nbformat_minor": 0,
  "metadata": {
    "colab": {
      "name": "Copy of Tarrant_George_Morning_Assignment.ipynb",
      "provenance": [],
      "collapsed_sections": []
    },
    "kernelspec": {
      "display_name": "Python 3",
      "language": "python",
      "name": "python3"
    },
    "language_info": {
      "codemirror_mode": {
        "name": "ipython",
        "version": 3
      },
      "file_extension": ".py",
      "mimetype": "text/x-python",
      "name": "python",
      "nbconvert_exporter": "python",
      "pygments_lexer": "ipython3",
      "version": "3.7.3"
    }
  },
  "cells": [
    {
      "cell_type": "markdown",
      "metadata": {
        "id": "q7OBYmw2rsHe"
      },
      "source": [
        "##Day 25 Lecture 1 Assignment\n",
        "In this assignment, we will evaluate the performance of the model we built yesterday on the Chicago traffic crash data. We will also perform hyperparameter tuning and evaluate a final model using additional metrics (e.g. AUC-ROC, precision, recall, etc.)"
      ]
    },
    {
      "cell_type": "markdown",
      "metadata": {
        "id": "n8qqLG2KMPCX"
      },
      "source": [
        "Since we will be building on the model we built in the last assignment, we will need to redo all of the data preparation steps up to the point of model building. These steps include creating the response, missing value imputation, and one-hot encoding our selected categorical variables. The quickest way to get going would be to open last week's assignment, make a copy, and build on it from there."
      ]
    },
    {
      "cell_type": "code",
      "metadata": {
        "id": "u3rUv9PKrsHf"
      },
      "source": [
        "%matplotlib inline\n",
        "\n",
        "import matplotlib.pyplot as plt\n",
        "import numpy as np\n",
        "import pandas as pd\n",
        "import seaborn as sns"
      ],
      "execution_count": null,
      "outputs": []
    },
    {
      "cell_type": "code",
      "metadata": {
        "id": "cJ-qRkctUvv6"
      },
      "source": [
        "def missingness_summary(df, print_log=False, sort='none'):\n",
        "    summary = df.apply(lambda x: x.isna().sum() / x.shape[0])\n",
        "    \n",
        "    if print_log == True:\n",
        "        if sort == 'none':\n",
        "            print(summary)\n",
        "        elif sort == 'ascending':\n",
        "            print(summary.sort_values())\n",
        "        elif sort == 'descending':\n",
        "            print(summary.sort_values(ascending=False))\n",
        "        else:\n",
        "            print('Invalid value for sort parameter.')\n",
        "        \n",
        "    return summary"
      ],
      "execution_count": null,
      "outputs": []
    },
    {
      "cell_type": "code",
      "metadata": {
        "id": "V_hlXXYwrsHh"
      },
      "source": [
        "crash_data = pd.read_csv('https://tf-assets-prod.s3.amazonaws.com/tf-curric/data-science/traffic_crashes_chicago.csv')"
      ],
      "execution_count": null,
      "outputs": []
    },
    {
      "cell_type": "code",
      "metadata": {
        "id": "bJV8A_OQrsHj",
        "outputId": "abf3623e-5859-4d63-e2f9-2e86e5962f02",
        "colab": {
          "base_uri": "https://localhost:8080/",
          "height": 396
        }
      },
      "source": [
        "crash_data.head()"
      ],
      "execution_count": null,
      "outputs": [
        {
          "output_type": "execute_result",
          "data": {
            "text/html": [
              "<div>\n",
              "<style scoped>\n",
              "    .dataframe tbody tr th:only-of-type {\n",
              "        vertical-align: middle;\n",
              "    }\n",
              "\n",
              "    .dataframe tbody tr th {\n",
              "        vertical-align: top;\n",
              "    }\n",
              "\n",
              "    .dataframe thead th {\n",
              "        text-align: right;\n",
              "    }\n",
              "</style>\n",
              "<table border=\"1\" class=\"dataframe\">\n",
              "  <thead>\n",
              "    <tr style=\"text-align: right;\">\n",
              "      <th></th>\n",
              "      <th>RD_NO</th>\n",
              "      <th>CRASH_DATE</th>\n",
              "      <th>POSTED_SPEED_LIMIT</th>\n",
              "      <th>TRAFFIC_CONTROL_DEVICE</th>\n",
              "      <th>DEVICE_CONDITION</th>\n",
              "      <th>WEATHER_CONDITION</th>\n",
              "      <th>LIGHTING_CONDITION</th>\n",
              "      <th>FIRST_CRASH_TYPE</th>\n",
              "      <th>TRAFFICWAY_TYPE</th>\n",
              "      <th>LANE_CNT</th>\n",
              "      <th>ALIGNMENT</th>\n",
              "      <th>ROADWAY_SURFACE_COND</th>\n",
              "      <th>ROAD_DEFECT</th>\n",
              "      <th>REPORT_TYPE</th>\n",
              "      <th>CRASH_TYPE</th>\n",
              "      <th>INTERSECTION_RELATED_I</th>\n",
              "      <th>NOT_RIGHT_OF_WAY_I</th>\n",
              "      <th>HIT_AND_RUN_I</th>\n",
              "      <th>DAMAGE</th>\n",
              "      <th>DATE_POLICE_NOTIFIED</th>\n",
              "      <th>PRIM_CONTRIBUTORY_CAUSE</th>\n",
              "      <th>SEC_CONTRIBUTORY_CAUSE</th>\n",
              "      <th>STREET_NO</th>\n",
              "      <th>STREET_DIRECTION</th>\n",
              "      <th>STREET_NAME</th>\n",
              "      <th>BEAT_OF_OCCURRENCE</th>\n",
              "      <th>PHOTOS_TAKEN_I</th>\n",
              "      <th>STATEMENTS_TAKEN_I</th>\n",
              "      <th>DOORING_I</th>\n",
              "      <th>WORK_ZONE_I</th>\n",
              "      <th>WORK_ZONE_TYPE</th>\n",
              "      <th>WORKERS_PRESENT_I</th>\n",
              "      <th>NUM_UNITS</th>\n",
              "      <th>MOST_SEVERE_INJURY</th>\n",
              "      <th>INJURIES_TOTAL</th>\n",
              "      <th>INJURIES_FATAL</th>\n",
              "      <th>INJURIES_INCAPACITATING</th>\n",
              "      <th>INJURIES_NON_INCAPACITATING</th>\n",
              "      <th>INJURIES_REPORTED_NOT_EVIDENT</th>\n",
              "      <th>INJURIES_NO_INDICATION</th>\n",
              "      <th>INJURIES_UNKNOWN</th>\n",
              "    </tr>\n",
              "  </thead>\n",
              "  <tbody>\n",
              "    <tr>\n",
              "      <th>0</th>\n",
              "      <td>JC334993</td>\n",
              "      <td>7/4/2019 22:33</td>\n",
              "      <td>45</td>\n",
              "      <td>NO CONTROLS</td>\n",
              "      <td>NO CONTROLS</td>\n",
              "      <td>CLEAR</td>\n",
              "      <td>DARKNESS, LIGHTED ROAD</td>\n",
              "      <td>REAR END</td>\n",
              "      <td>DIVIDED - W/MEDIAN BARRIER</td>\n",
              "      <td>NaN</td>\n",
              "      <td>STRAIGHT AND LEVEL</td>\n",
              "      <td>DRY</td>\n",
              "      <td>NO DEFECTS</td>\n",
              "      <td>NaN</td>\n",
              "      <td>NO INJURY / DRIVE AWAY</td>\n",
              "      <td>NaN</td>\n",
              "      <td>NaN</td>\n",
              "      <td>NaN</td>\n",
              "      <td>OVER $1,500</td>\n",
              "      <td>7/4/2019 23:05</td>\n",
              "      <td>FOLLOWING TOO CLOSELY</td>\n",
              "      <td>NOT APPLICABLE</td>\n",
              "      <td>300</td>\n",
              "      <td>N</td>\n",
              "      <td>LAKE SHORE DR SB</td>\n",
              "      <td>114.0</td>\n",
              "      <td>NaN</td>\n",
              "      <td>NaN</td>\n",
              "      <td>NaN</td>\n",
              "      <td>NaN</td>\n",
              "      <td>NaN</td>\n",
              "      <td>NaN</td>\n",
              "      <td>NaN</td>\n",
              "      <td>NaN</td>\n",
              "      <td>NaN</td>\n",
              "      <td>NaN</td>\n",
              "      <td>NaN</td>\n",
              "      <td>NaN</td>\n",
              "      <td>NaN</td>\n",
              "      <td>NaN</td>\n",
              "      <td>NaN</td>\n",
              "    </tr>\n",
              "    <tr>\n",
              "      <th>1</th>\n",
              "      <td>JC370822</td>\n",
              "      <td>7/30/2019 10:22</td>\n",
              "      <td>30</td>\n",
              "      <td>NO CONTROLS</td>\n",
              "      <td>NO CONTROLS</td>\n",
              "      <td>CLEAR</td>\n",
              "      <td>DAYLIGHT</td>\n",
              "      <td>TURNING</td>\n",
              "      <td>DIVIDED - W/MEDIAN (NOT RAISED)</td>\n",
              "      <td>NaN</td>\n",
              "      <td>STRAIGHT AND LEVEL</td>\n",
              "      <td>DRY</td>\n",
              "      <td>NO DEFECTS</td>\n",
              "      <td>NaN</td>\n",
              "      <td>NO INJURY / DRIVE AWAY</td>\n",
              "      <td>NaN</td>\n",
              "      <td>NaN</td>\n",
              "      <td>NaN</td>\n",
              "      <td>OVER $1,500</td>\n",
              "      <td>7/30/2019 10:25</td>\n",
              "      <td>FAILING TO YIELD RIGHT-OF-WAY</td>\n",
              "      <td>IMPROPER TURNING/NO SIGNAL</td>\n",
              "      <td>8201</td>\n",
              "      <td>S</td>\n",
              "      <td>DR MARTIN LUTHER KING JR DR</td>\n",
              "      <td>631.0</td>\n",
              "      <td>NaN</td>\n",
              "      <td>NaN</td>\n",
              "      <td>NaN</td>\n",
              "      <td>NaN</td>\n",
              "      <td>NaN</td>\n",
              "      <td>NaN</td>\n",
              "      <td>NaN</td>\n",
              "      <td>NaN</td>\n",
              "      <td>NaN</td>\n",
              "      <td>NaN</td>\n",
              "      <td>NaN</td>\n",
              "      <td>NaN</td>\n",
              "      <td>NaN</td>\n",
              "      <td>NaN</td>\n",
              "      <td>NaN</td>\n",
              "    </tr>\n",
              "    <tr>\n",
              "      <th>2</th>\n",
              "      <td>JC387098</td>\n",
              "      <td>8/10/2019 17:00</td>\n",
              "      <td>25</td>\n",
              "      <td>NO CONTROLS</td>\n",
              "      <td>NO CONTROLS</td>\n",
              "      <td>CLEAR</td>\n",
              "      <td>DAYLIGHT</td>\n",
              "      <td>PARKED MOTOR VEHICLE</td>\n",
              "      <td>ONE-WAY</td>\n",
              "      <td>NaN</td>\n",
              "      <td>STRAIGHT AND LEVEL</td>\n",
              "      <td>DRY</td>\n",
              "      <td>NO DEFECTS</td>\n",
              "      <td>NaN</td>\n",
              "      <td>NO INJURY / DRIVE AWAY</td>\n",
              "      <td>NaN</td>\n",
              "      <td>NaN</td>\n",
              "      <td>NaN</td>\n",
              "      <td>$501 - $1,500</td>\n",
              "      <td>8/10/2019 17:35</td>\n",
              "      <td>EQUIPMENT - VEHICLE CONDITION</td>\n",
              "      <td>NOT APPLICABLE</td>\n",
              "      <td>6747</td>\n",
              "      <td>S</td>\n",
              "      <td>CREGIER AVE</td>\n",
              "      <td>332.0</td>\n",
              "      <td>NaN</td>\n",
              "      <td>NaN</td>\n",
              "      <td>NaN</td>\n",
              "      <td>NaN</td>\n",
              "      <td>NaN</td>\n",
              "      <td>NaN</td>\n",
              "      <td>1.0</td>\n",
              "      <td>NaN</td>\n",
              "      <td>NaN</td>\n",
              "      <td>NaN</td>\n",
              "      <td>NaN</td>\n",
              "      <td>NaN</td>\n",
              "      <td>NaN</td>\n",
              "      <td>NaN</td>\n",
              "      <td>NaN</td>\n",
              "    </tr>\n",
              "    <tr>\n",
              "      <th>3</th>\n",
              "      <td>JC395195</td>\n",
              "      <td>8/16/2019 16:53</td>\n",
              "      <td>30</td>\n",
              "      <td>NO CONTROLS</td>\n",
              "      <td>NO CONTROLS</td>\n",
              "      <td>CLEAR</td>\n",
              "      <td>DAYLIGHT</td>\n",
              "      <td>PARKED MOTOR VEHICLE</td>\n",
              "      <td>NOT DIVIDED</td>\n",
              "      <td>NaN</td>\n",
              "      <td>STRAIGHT AND LEVEL</td>\n",
              "      <td>DRY</td>\n",
              "      <td>NO DEFECTS</td>\n",
              "      <td>NaN</td>\n",
              "      <td>NO INJURY / DRIVE AWAY</td>\n",
              "      <td>NaN</td>\n",
              "      <td>NaN</td>\n",
              "      <td>Y</td>\n",
              "      <td>$501 - $1,500</td>\n",
              "      <td>8/16/2019 16:53</td>\n",
              "      <td>UNABLE TO DETERMINE</td>\n",
              "      <td>NOT APPLICABLE</td>\n",
              "      <td>554</td>\n",
              "      <td>N</td>\n",
              "      <td>FRANKLIN ST</td>\n",
              "      <td>1831.0</td>\n",
              "      <td>NaN</td>\n",
              "      <td>NaN</td>\n",
              "      <td>NaN</td>\n",
              "      <td>NaN</td>\n",
              "      <td>NaN</td>\n",
              "      <td>NaN</td>\n",
              "      <td>1.0</td>\n",
              "      <td>NO INDICATION OF INJURY</td>\n",
              "      <td>0.0</td>\n",
              "      <td>0.0</td>\n",
              "      <td>0.0</td>\n",
              "      <td>0.0</td>\n",
              "      <td>0.0</td>\n",
              "      <td>1.0</td>\n",
              "      <td>0.0</td>\n",
              "    </tr>\n",
              "    <tr>\n",
              "      <th>4</th>\n",
              "      <td>JC396604</td>\n",
              "      <td>8/17/2019 16:04</td>\n",
              "      <td>30</td>\n",
              "      <td>NO CONTROLS</td>\n",
              "      <td>NO CONTROLS</td>\n",
              "      <td>CLEAR</td>\n",
              "      <td>DAYLIGHT</td>\n",
              "      <td>PARKED MOTOR VEHICLE</td>\n",
              "      <td>PARKING LOT</td>\n",
              "      <td>NaN</td>\n",
              "      <td>STRAIGHT AND LEVEL</td>\n",
              "      <td>DRY</td>\n",
              "      <td>NO DEFECTS</td>\n",
              "      <td>NaN</td>\n",
              "      <td>NO INJURY / DRIVE AWAY</td>\n",
              "      <td>NaN</td>\n",
              "      <td>NaN</td>\n",
              "      <td>Y</td>\n",
              "      <td>$501 - $1,500</td>\n",
              "      <td>8/17/2019 18:30</td>\n",
              "      <td>UNABLE TO DETERMINE</td>\n",
              "      <td>UNABLE TO DETERMINE</td>\n",
              "      <td>3700</td>\n",
              "      <td>N</td>\n",
              "      <td>WESTERN AVE</td>\n",
              "      <td>1921.0</td>\n",
              "      <td>NaN</td>\n",
              "      <td>NaN</td>\n",
              "      <td>NaN</td>\n",
              "      <td>NaN</td>\n",
              "      <td>NaN</td>\n",
              "      <td>NaN</td>\n",
              "      <td>1.0</td>\n",
              "      <td>NO INDICATION OF INJURY</td>\n",
              "      <td>0.0</td>\n",
              "      <td>0.0</td>\n",
              "      <td>0.0</td>\n",
              "      <td>0.0</td>\n",
              "      <td>0.0</td>\n",
              "      <td>1.0</td>\n",
              "      <td>0.0</td>\n",
              "    </tr>\n",
              "  </tbody>\n",
              "</table>\n",
              "</div>"
            ],
            "text/plain": [
              "      RD_NO       CRASH_DATE  ...  INJURIES_NO_INDICATION INJURIES_UNKNOWN\n",
              "0  JC334993   7/4/2019 22:33  ...                     NaN              NaN\n",
              "1  JC370822  7/30/2019 10:22  ...                     NaN              NaN\n",
              "2  JC387098  8/10/2019 17:00  ...                     NaN              NaN\n",
              "3  JC395195  8/16/2019 16:53  ...                     1.0              0.0\n",
              "4  JC396604  8/17/2019 16:04  ...                     1.0              0.0\n",
              "\n",
              "[5 rows x 41 columns]"
            ]
          },
          "metadata": {
            "tags": []
          },
          "execution_count": 25
        }
      ]
    },
    {
      "cell_type": "markdown",
      "metadata": {
        "id": "I7kel3hRUvwA"
      },
      "source": [
        "First, create a binary response column by modifying the \"DAMAGE\" column. Consider \"OVER \\$1500\" to be the positive class, and under \\$1500 to be the negative class."
      ]
    },
    {
      "cell_type": "code",
      "metadata": {
        "id": "lVXRdsWPUvwB"
      },
      "source": [
        "crash_data['DAMAGE_BIN'] = np.where(crash_data['DAMAGE'] == \"OVER $1,500\", 1, 0)"
      ],
      "execution_count": null,
      "outputs": []
    },
    {
      "cell_type": "code",
      "metadata": {
        "id": "8dlsXM1xc3I-",
        "outputId": "6e2861f6-4dd4-476e-bb55-93f0873917f3",
        "colab": {
          "base_uri": "https://localhost:8080/",
          "height": 352
        }
      },
      "source": [
        "sns.countplot(crash_data['DAMAGE_BIN'])"
      ],
      "execution_count": null,
      "outputs": [
        {
          "output_type": "stream",
          "text": [
            "/usr/local/lib/python3.6/dist-packages/seaborn/_decorators.py:43: FutureWarning: Pass the following variable as a keyword arg: x. From version 0.12, the only valid positional argument will be `data`, and passing other arguments without an explicit keyword will result in an error or misinterpretation.\n",
            "  FutureWarning\n"
          ],
          "name": "stderr"
        },
        {
          "output_type": "execute_result",
          "data": {
            "text/plain": [
              "<matplotlib.axes._subplots.AxesSubplot at 0x7faf78351128>"
            ]
          },
          "metadata": {
            "tags": []
          },
          "execution_count": 27
        },
        {
          "output_type": "display_data",
          "data": {
            "image/png": "[encoded data removed]",
            "text/plain": [
              "<Figure size 432x288 with 1 Axes>"
            ]
          },
          "metadata": {
            "tags": [],
            "needs_background": "light"
          }
        }
      ]
    },
    {
      "cell_type": "markdown",
      "metadata": {
        "id": "5QQUxRPMrsHl"
      },
      "source": [
        "Using the code from Day 21, Lecture 1 as a starting point, devise an appropriate way to address missing values. You have a lot of freedom here; we will proceed by taking the following steps:\n",
        "\n",
        "- Dropping all columns with more than 5% missing data\n",
        "- Imputing the median for numeric columns with less than 5% missing data (except for STREET_NO; imputing it in this manner would not make any sense)\n",
        "- Dropping rows with missing data for categorical columns that have less than 5% missing data"
      ]
    },
    {
      "cell_type": "code",
      "metadata": {
        "id": "WuYZO5hndxrW",
        "outputId": "be9b4bcc-12a9-4b34-d0e0-a07f0f4eb947",
        "colab": {
          "base_uri": "https://localhost:8080/",
          "height": 762
        }
      },
      "source": [
        "crash_data.isnull().mean()"
      ],
      "execution_count": null,
      "outputs": [
        {
          "output_type": "execute_result",
          "data": {
            "text/plain": [
              "RD_NO                            0.000000\n",
              "CRASH_DATE                       0.000000\n",
              "POSTED_SPEED_LIMIT               0.000000\n",
              "TRAFFIC_CONTROL_DEVICE           0.000000\n",
              "DEVICE_CONDITION                 0.000000\n",
              "WEATHER_CONDITION                0.000000\n",
              "LIGHTING_CONDITION               0.000000\n",
              "FIRST_CRASH_TYPE                 0.000000\n",
              "TRAFFICWAY_TYPE                  0.000000\n",
              "LANE_CNT                         0.467107\n",
              "ALIGNMENT                        0.000000\n",
              "ROADWAY_SURFACE_COND             0.000000\n",
              "ROAD_DEFECT                      0.000000\n",
              "REPORT_TYPE                      0.023012\n",
              "CRASH_TYPE                       0.000000\n",
              "INTERSECTION_RELATED_I           0.779457\n",
              "NOT_RIGHT_OF_WAY_I               0.953917\n",
              "HIT_AND_RUN_I                    0.722423\n",
              "DAMAGE                           0.000000\n",
              "DATE_POLICE_NOTIFIED             0.000000\n",
              "PRIM_CONTRIBUTORY_CAUSE          0.000000\n",
              "SEC_CONTRIBUTORY_CAUSE           0.000000\n",
              "STREET_NO                        0.000000\n",
              "STREET_DIRECTION                 0.000005\n",
              "STREET_NAME                      0.000003\n",
              "BEAT_OF_OCCURRENCE               0.000011\n",
              "PHOTOS_TAKEN_I                   0.987318\n",
              "STATEMENTS_TAKEN_I               0.979760\n",
              "DOORING_I                        0.996616\n",
              "WORK_ZONE_I                      0.992933\n",
              "WORK_ZONE_TYPE                   0.994391\n",
              "WORKERS_PRESENT_I                0.998352\n",
              "NUM_UNITS                        0.003755\n",
              "MOST_SEVERE_INJURY               0.005795\n",
              "INJURIES_TOTAL                   0.005776\n",
              "INJURIES_FATAL                   0.005776\n",
              "INJURIES_INCAPACITATING          0.005776\n",
              "INJURIES_NON_INCAPACITATING      0.005776\n",
              "INJURIES_REPORTED_NOT_EVIDENT    0.005776\n",
              "INJURIES_NO_INDICATION           0.005776\n",
              "INJURIES_UNKNOWN                 0.005776\n",
              "DAMAGE_BIN                       0.000000\n",
              "dtype: float64"
            ]
          },
          "metadata": {
            "tags": []
          },
          "execution_count": 28
        }
      ]
    },
    {
      "cell_type": "code",
      "metadata": {
        "id": "X7DmjvgXrsHl"
      },
      "source": [
        "toDrop = crash_data.columns[crash_data.isnull().mean() > 0.05]\n",
        "crash_data.drop(toDrop, axis=1, inplace=True)"
      ],
      "execution_count": null,
      "outputs": []
    },
    {
      "cell_type": "code",
      "metadata": {
        "id": "wU5cytGYepdf"
      },
      "source": [
        "crash_data.drop('STREET_NO', axis=1, inplace=True)"
      ],
      "execution_count": null,
      "outputs": []
    },
    {
      "cell_type": "code",
      "metadata": {
        "id": "ztM1eG5nfBeL"
      },
      "source": [
        "crash = crash_data.copy()"
      ],
      "execution_count": null,
      "outputs": []
    },
    {
      "cell_type": "code",
      "metadata": {
        "id": "Da_DMQBLhEWq",
        "outputId": "618a9b6c-783c-4d6a-d4c6-0a2403a84d1d",
        "colab": {
          "base_uri": "https://localhost:8080/",
          "height": 572
        }
      },
      "source": [
        "crash.isnull().mean()"
      ],
      "execution_count": null,
      "outputs": [
        {
          "output_type": "execute_result",
          "data": {
            "text/plain": [
              "RD_NO                            0.000000\n",
              "CRASH_DATE                       0.000000\n",
              "POSTED_SPEED_LIMIT               0.000000\n",
              "TRAFFIC_CONTROL_DEVICE           0.000000\n",
              "DEVICE_CONDITION                 0.000000\n",
              "WEATHER_CONDITION                0.000000\n",
              "LIGHTING_CONDITION               0.000000\n",
              "FIRST_CRASH_TYPE                 0.000000\n",
              "TRAFFICWAY_TYPE                  0.000000\n",
              "ALIGNMENT                        0.000000\n",
              "ROADWAY_SURFACE_COND             0.000000\n",
              "ROAD_DEFECT                      0.000000\n",
              "REPORT_TYPE                      0.023012\n",
              "CRASH_TYPE                       0.000000\n",
              "DAMAGE                           0.000000\n",
              "DATE_POLICE_NOTIFIED             0.000000\n",
              "PRIM_CONTRIBUTORY_CAUSE          0.000000\n",
              "SEC_CONTRIBUTORY_CAUSE           0.000000\n",
              "STREET_DIRECTION                 0.000005\n",
              "STREET_NAME                      0.000003\n",
              "BEAT_OF_OCCURRENCE               0.000011\n",
              "NUM_UNITS                        0.003755\n",
              "MOST_SEVERE_INJURY               0.005795\n",
              "INJURIES_TOTAL                   0.005776\n",
              "INJURIES_FATAL                   0.005776\n",
              "INJURIES_INCAPACITATING          0.005776\n",
              "INJURIES_NON_INCAPACITATING      0.005776\n",
              "INJURIES_REPORTED_NOT_EVIDENT    0.005776\n",
              "INJURIES_NO_INDICATION           0.005776\n",
              "INJURIES_UNKNOWN                 0.005776\n",
              "DAMAGE_BIN                       0.000000\n",
              "dtype: float64"
            ]
          },
          "metadata": {
            "tags": []
          },
          "execution_count": 32
        }
      ]
    },
    {
      "cell_type": "code",
      "metadata": {
        "id": "lMifIlPreKIp"
      },
      "source": [
        "toImpute = crash_data.columns[crash_data.isnull().mean() < 0.05]"
      ],
      "execution_count": null,
      "outputs": []
    },
    {
      "cell_type": "code",
      "metadata": {
        "id": "ZHFTmVw9hsQw",
        "outputId": "62cb8a4e-d076-4034-de10-5483cc24b2cf",
        "colab": {
          "base_uri": "https://localhost:8080/",
          "height": 34
        }
      },
      "source": [
        "crash['RD_NO'].dtypes"
      ],
      "execution_count": null,
      "outputs": [
        {
          "output_type": "execute_result",
          "data": {
            "text/plain": [
              "dtype('O')"
            ]
          },
          "metadata": {
            "tags": []
          },
          "execution_count": 34
        }
      ]
    },
    {
      "cell_type": "code",
      "metadata": {
        "id": "_Twjwix1hXpK"
      },
      "source": [
        "for col in toImpute:\n",
        "    if crash[col].dtypes != 'O': \n",
        "        crash[col].fillna(crash[col].mean(), inplace=True)"
      ],
      "execution_count": null,
      "outputs": []
    },
    {
      "cell_type": "markdown",
      "metadata": {
        "id": "M66r2mytUvwF"
      },
      "source": [
        "Finally, choose a few numeric and categorical features (2-3 of each) to include in the model. (You can definitely include more than this, but too many features, especially categorical ones, will most likely lead to convergence issues). One hot encode the chosen categorical features, being sure to omit one of the categories (which will serve as a \"reference\" level) to avoid perfect multicollinearity.\n",
        "\n",
        "Again, you have a lot of freedom here; we will proceed with the following features, dropping the most commonly occurring category for the two categorical variables (\"CLEAR\" for weather, \"REAR END\" for first crash type):\n",
        "POSTED_SPEED_LIMIT, WEATHER_CONDITION, INJURIES_TOTAL, FIRST_CRASH_TYPE"
      ]
    },
    {
      "cell_type": "code",
      "metadata": {
        "id": "R0jhgVLnjBV_"
      },
      "source": [
        "crash_mod = pd.get_dummies(crash[['POSTED_SPEED_LIMIT', 'WEATHER_CONDITION', 'INJURIES_TOTAL', 'FIRST_CRASH_TYPE', 'DAMAGE_BIN']], drop_first=True)"
      ],
      "execution_count": null,
      "outputs": []
    },
    {
      "cell_type": "code",
      "metadata": {
        "id": "XZBLo82hjZVL",
        "outputId": "f3afcf12-b22b-4ea4-c1ae-d8f3f849ead6",
        "colab": {
          "base_uri": "https://localhost:8080/",
          "height": 658
        }
      },
      "source": [
        "crash_mod.info()"
      ],
      "execution_count": null,
      "outputs": [
        {
          "output_type": "stream",
          "text": [
            "<class 'pandas.core.frame.DataFrame'>\n",
            "RangeIndex: 372585 entries, 0 to 372584\n",
            "Data columns (total 30 columns):\n",
            " #   Column                                         Non-Null Count   Dtype  \n",
            "---  ------                                         --------------   -----  \n",
            " 0   POSTED_SPEED_LIMIT                             372585 non-null  int64  \n",
            " 1   INJURIES_TOTAL                                 372585 non-null  float64\n",
            " 2   DAMAGE_BIN                                     372585 non-null  int64  \n",
            " 3   WEATHER_CONDITION_CLEAR                        372585 non-null  uint8  \n",
            " 4   WEATHER_CONDITION_CLOUDY/OVERCAST              372585 non-null  uint8  \n",
            " 5   WEATHER_CONDITION_FOG/SMOKE/HAZE               372585 non-null  uint8  \n",
            " 6   WEATHER_CONDITION_FREEZING RAIN/DRIZZLE        372585 non-null  uint8  \n",
            " 7   WEATHER_CONDITION_OTHER                        372585 non-null  uint8  \n",
            " 8   WEATHER_CONDITION_RAIN                         372585 non-null  uint8  \n",
            " 9   WEATHER_CONDITION_SEVERE CROSS WIND GATE       372585 non-null  uint8  \n",
            " 10  WEATHER_CONDITION_SLEET/HAIL                   372585 non-null  uint8  \n",
            " 11  WEATHER_CONDITION_SNOW                         372585 non-null  uint8  \n",
            " 12  WEATHER_CONDITION_UNKNOWN                      372585 non-null  uint8  \n",
            " 13  FIRST_CRASH_TYPE_ANIMAL                        372585 non-null  uint8  \n",
            " 14  FIRST_CRASH_TYPE_FIXED OBJECT                  372585 non-null  uint8  \n",
            " 15  FIRST_CRASH_TYPE_HEAD ON                       372585 non-null  uint8  \n",
            " 16  FIRST_CRASH_TYPE_OTHER NONCOLLISION            372585 non-null  uint8  \n",
            " 17  FIRST_CRASH_TYPE_OTHER OBJECT                  372585 non-null  uint8  \n",
            " 18  FIRST_CRASH_TYPE_OVERTURNED                    372585 non-null  uint8  \n",
            " 19  FIRST_CRASH_TYPE_PARKED MOTOR VEHICLE          372585 non-null  uint8  \n",
            " 20  FIRST_CRASH_TYPE_PEDALCYCLIST                  372585 non-null  uint8  \n",
            " 21  FIRST_CRASH_TYPE_PEDESTRIAN                    372585 non-null  uint8  \n",
            " 22  FIRST_CRASH_TYPE_REAR END                      372585 non-null  uint8  \n",
            " 23  FIRST_CRASH_TYPE_REAR TO FRONT                 372585 non-null  uint8  \n",
            " 24  FIRST_CRASH_TYPE_REAR TO REAR                  372585 non-null  uint8  \n",
            " 25  FIRST_CRASH_TYPE_REAR TO SIDE                  372585 non-null  uint8  \n",
            " 26  FIRST_CRASH_TYPE_SIDESWIPE OPPOSITE DIRECTION  372585 non-null  uint8  \n",
            " 27  FIRST_CRASH_TYPE_SIDESWIPE SAME DIRECTION      372585 non-null  uint8  \n",
            " 28  FIRST_CRASH_TYPE_TRAIN                         372585 non-null  uint8  \n",
            " 29  FIRST_CRASH_TYPE_TURNING                       372585 non-null  uint8  \n",
            "dtypes: float64(1), int64(2), uint8(27)\n",
            "memory usage: 18.1 MB\n"
          ],
          "name": "stdout"
        }
      ]
    },
    {
      "cell_type": "markdown",
      "metadata": {
        "id": "zRuNJsTSrsHn"
      },
      "source": [
        "Split the data into train and test, with 80% training and 20% testing. By default, the LR output from statsmodels does not include an intercept terms; add a constant column to the training data so that an intercept term is calculated for the LR model (hint: sm.add_constant() is a useful function to accomplish this)."
      ]
    },
    {
      "cell_type": "code",
      "metadata": {
        "id": "ZFjAB80GkC_U"
      },
      "source": [
        "from sklearn.model_selection import train_test_split"
      ],
      "execution_count": null,
      "outputs": []
    },
    {
      "cell_type": "code",
      "metadata": {
        "id": "fhpHIZBjrsHn"
      },
      "source": [
        "X = crash_mod.drop('DAMAGE_BIN', axis=1)\n",
        "Y = crash_mod['DAMAGE_BIN']\n",
        "\n",
        "X_train, X_test, y_train, y_test = train_test_split(X, Y, test_size=0.2)"
      ],
      "execution_count": null,
      "outputs": []
    },
    {
      "cell_type": "markdown",
      "metadata": {
        "id": "ggXxmOLTrsHq"
      },
      "source": [
        "Fit the logistic regression model using the statsmodels package and print out the coefficient summary. Which variables (in particular, which categories of our categorical variables) appear to be the most important, and what effect do they have on the probability of a crash resulting in $1500 or more in damages?"
      ]
    },
    {
      "cell_type": "code",
      "metadata": {
        "id": "kAv7TdZYkt8L",
        "outputId": "475c73df-d5ec-4007-d8ff-389692c5eb35",
        "colab": {
          "base_uri": "https://localhost:8080/",
          "height": 104
        }
      },
      "source": [
        "import statsmodels.api as sm\n",
        "from sklearn.linear_model import LogisticRegression\n",
        "\n",
        "logit = LogisticRegression(max_iter=1000)\n",
        "logit.fit(X_train, y_train)"
      ],
      "execution_count": null,
      "outputs": [
        {
          "output_type": "execute_result",
          "data": {
            "text/plain": [
              "LogisticRegression(C=1.0, class_weight=None, dual=False, fit_intercept=True,\n",
              "                   intercept_scaling=1, l1_ratio=None, max_iter=1000,\n",
              "                   multi_class='auto', n_jobs=None, penalty='l2',\n",
              "                   random_state=None, solver='lbfgs', tol=0.0001, verbose=0,\n",
              "                   warm_start=False)"
            ]
          },
          "metadata": {
            "tags": []
          },
          "execution_count": 40
        }
      ]
    },
    {
      "cell_type": "code",
      "metadata": {
        "id": "VEVJZTmwl5BO",
        "outputId": "f123f7fd-e4e1-46e4-eb7a-85d3b09b164d",
        "colab": {
          "base_uri": "https://localhost:8080/",
          "height": 554
        }
      },
      "source": [
        "logit_params = pd.Series(logit.coef_.reshape(-1,), index=X_train.columns)\n",
        "logit_params['intercept'] = logit.intercept_[0]\n",
        "\n",
        "logit_params"
      ],
      "execution_count": null,
      "outputs": [
        {
          "output_type": "execute_result",
          "data": {
            "text/plain": [
              "POSTED_SPEED_LIMIT                               0.011792\n",
              "INJURIES_TOTAL                                   0.733763\n",
              "WEATHER_CONDITION_CLEAR                         -0.130323\n",
              "WEATHER_CONDITION_CLOUDY/OVERCAST               -0.025746\n",
              "WEATHER_CONDITION_FOG/SMOKE/HAZE                 0.003518\n",
              "WEATHER_CONDITION_FREEZING RAIN/DRIZZLE          0.298747\n",
              "WEATHER_CONDITION_OTHER                          0.037681\n",
              "WEATHER_CONDITION_RAIN                           0.005945\n",
              "WEATHER_CONDITION_SEVERE CROSS WIND GATE         0.180721\n",
              "WEATHER_CONDITION_SLEET/HAIL                     0.026756\n",
              "WEATHER_CONDITION_SNOW                          -0.015058\n",
              "WEATHER_CONDITION_UNKNOWN                        0.034314\n",
              "FIRST_CRASH_TYPE_ANIMAL                         -0.961199\n",
              "FIRST_CRASH_TYPE_FIXED OBJECT                    0.064427\n",
              "FIRST_CRASH_TYPE_HEAD ON                        -0.052389\n",
              "FIRST_CRASH_TYPE_OTHER NONCOLLISION             -1.109436\n",
              "FIRST_CRASH_TYPE_OTHER OBJECT                   -0.644812\n",
              "FIRST_CRASH_TYPE_OVERTURNED                      0.503510\n",
              "FIRST_CRASH_TYPE_PARKED MOTOR VEHICLE           -0.486884\n",
              "FIRST_CRASH_TYPE_PEDALCYCLIST                   -2.457634\n",
              "FIRST_CRASH_TYPE_PEDESTRIAN                     -2.371558\n",
              "FIRST_CRASH_TYPE_REAR END                       -0.690072\n",
              "FIRST_CRASH_TYPE_REAR TO FRONT                  -0.773513\n",
              "FIRST_CRASH_TYPE_REAR TO REAR                   -0.866890\n",
              "FIRST_CRASH_TYPE_REAR TO SIDE                   -0.700529\n",
              "FIRST_CRASH_TYPE_SIDESWIPE OPPOSITE DIRECTION   -0.621320\n",
              "FIRST_CRASH_TYPE_SIDESWIPE SAME DIRECTION       -0.659464\n",
              "FIRST_CRASH_TYPE_TRAIN                           0.089312\n",
              "FIRST_CRASH_TYPE_TURNING                        -0.210219\n",
              "intercept                                        0.455756\n",
              "dtype: float64"
            ]
          },
          "metadata": {
            "tags": []
          },
          "execution_count": 41
        }
      ]
    },
    {
      "cell_type": "markdown",
      "metadata": {
        "id": "2Sf0UuUwjIzg"
      },
      "source": [
        "Create a LogisticRegression model with sklearn. Use the .predict() method (using X_test) to get a y_pred. Create a confusion matrix comparing your actual y_test to your prediction. What do you notice about your type of error?"
      ]
    },
    {
      "cell_type": "code",
      "metadata": {
        "id": "si6gV51qrsHs"
      },
      "source": [
        "damage_prob = logit.predict_proba(X_test)"
      ],
      "execution_count": null,
      "outputs": []
    },
    {
      "cell_type": "code",
      "metadata": {
        "id": "_4F5E0z8pwDQ"
      },
      "source": [
        "damage_prob = pd.DataFrame(damage_prob, columns=['OVER $1,500', 'BELOW $1,500'])"
      ],
      "execution_count": null,
      "outputs": []
    },
    {
      "cell_type": "code",
      "metadata": {
        "id": "xxNnJfl1p4pY",
        "outputId": "31d90596-771d-463b-ae2e-b0c977989900",
        "colab": {
          "base_uri": "https://localhost:8080/",
          "height": 374
        }
      },
      "source": [
        "plt.figure(figsize=(14,6))\n",
        "sns.violinplot(data = damage_prob)\n",
        "plt.show()"
      ],
      "execution_count": null,
      "outputs": [
        {
          "output_type": "display_data",
          "data": {
            "image/png": "[encoded data removed]",
            "text/plain": [
              "<Figure size 1008x432 with 1 Axes>"
            ]
          },
          "metadata": {
            "tags": [],
            "needs_background": "light"
          }
        }
      ]
    },
    {
      "cell_type": "code",
      "metadata": {
        "id": "8UPNnLSqp8OR"
      },
      "source": [
        "y_pred = logit.predict(X_test)"
      ],
      "execution_count": null,
      "outputs": []
    },
    {
      "cell_type": "code",
      "metadata": {
        "id": "_JPQo1R3qesH",
        "outputId": "37e68857-0751-4ec9-a8e8-c822c1048a70",
        "colab": {
          "base_uri": "https://localhost:8080/",
          "height": 225
        }
      },
      "source": [
        "y_test"
      ],
      "execution_count": null,
      "outputs": [
        {
          "output_type": "execute_result",
          "data": {
            "text/plain": [
              "142501    0\n",
              "52887     1\n",
              "258811    1\n",
              "369281    0\n",
              "143607    1\n",
              "         ..\n",
              "65307     1\n",
              "88681     1\n",
              "207685    0\n",
              "74588     1\n",
              "51951     1\n",
              "Name: DAMAGE_BIN, Length: 74517, dtype: int64"
            ]
          },
          "metadata": {
            "tags": []
          },
          "execution_count": 46
        }
      ]
    },
    {
      "cell_type": "code",
      "metadata": {
        "id": "MykQahIiqbaY"
      },
      "source": [
        "from sklearn.metrics import confusion_matrix"
      ],
      "execution_count": null,
      "outputs": []
    },
    {
      "cell_type": "code",
      "metadata": {
        "id": "1IKv8zPCqs24",
        "outputId": "045812dc-311c-4a8d-e5bf-184e84180c33",
        "colab": {
          "base_uri": "https://localhost:8080/",
          "height": 52
        }
      },
      "source": [
        "matrix = confusion_matrix(y_test, y_pred)\n",
        "matrix"
      ],
      "execution_count": null,
      "outputs": [
        {
          "output_type": "execute_result",
          "data": {
            "text/plain": [
              "array([[ 9698, 22737],\n",
              "       [ 8232, 33850]])"
            ]
          },
          "metadata": {
            "tags": []
          },
          "execution_count": 48
        }
      ]
    },
    {
      "cell_type": "code",
      "metadata": {
        "id": "Lsb163VLqzc1",
        "outputId": "86667ac9-cb38-441f-e791-743cae2453a0",
        "colab": {
          "base_uri": "https://localhost:8080/",
          "height": 52
        }
      },
      "source": [
        "accuracy = (matrix[0,0] + matrix[1,1])/((matrix[0,0] + matrix[0,1]) + (matrix[1,0] + matrix[1,1]))\n",
        "print('Accuracy:')\n",
        "print(accuracy)"
      ],
      "execution_count": null,
      "outputs": [
        {
          "output_type": "stream",
          "text": [
            "Accuracy:\n",
            "0.5844035589194412\n"
          ],
          "name": "stdout"
        }
      ]
    },
    {
      "cell_type": "code",
      "metadata": {
        "id": "1KFd0C5lri9D",
        "outputId": "47d800d5-671a-45c2-fee3-456ed4effd31",
        "colab": {
          "base_uri": "https://localhost:8080/",
          "height": 52
        }
      },
      "source": [
        "error = 1-accuracy\n",
        "print('Error Rate:')\n",
        "print(error)"
      ],
      "execution_count": null,
      "outputs": [
        {
          "output_type": "stream",
          "text": [
            "Error Rate:\n",
            "0.4155964410805588\n"
          ],
          "name": "stdout"
        }
      ]
    },
    {
      "cell_type": "code",
      "metadata": {
        "id": "qI1H6MUCsMbP",
        "outputId": "476b0e7e-de9f-4478-f7c4-4880326d5575",
        "colab": {
          "base_uri": "https://localhost:8080/",
          "height": 52
        }
      },
      "source": [
        "fp = (matrix[0,1])/(matrix[0,0] + matrix[0,1])\n",
        "print('False Positive Rate:')\n",
        "print(fp)"
      ],
      "execution_count": null,
      "outputs": [
        {
          "output_type": "stream",
          "text": [
            "False Positive Rate:\n",
            "0.701002004008016\n"
          ],
          "name": "stdout"
        }
      ]
    },
    {
      "cell_type": "code",
      "metadata": {
        "id": "Ymth891Qs0UJ",
        "outputId": "4cb2ad07-9e49-4dec-b1d9-ad350d35ec32",
        "colab": {
          "base_uri": "https://localhost:8080/",
          "height": 52
        }
      },
      "source": [
        "fn = (matrix[1,0])/(matrix[1,0] + matrix[1,1])\n",
        "print('False Negative Rate:')\n",
        "print(fn)"
      ],
      "execution_count": null,
      "outputs": [
        {
          "output_type": "stream",
          "text": [
            "False Negative Rate:\n",
            "0.19561807898864123\n"
          ],
          "name": "stdout"
        }
      ]
    },
    {
      "cell_type": "markdown",
      "metadata": {
        "id": "L3jUUmiXs7mU"
      },
      "source": [
        ">*The model makes a lot of Type I errors with a ~70% probability of getting one. There is a ~19% probability for Type II errors, making it considerably lower than the accuracy which is at ~58%.*"
      ]
    },
    {
      "cell_type": "markdown",
      "metadata": {
        "id": "dHhqPAc8Qbx1"
      },
      "source": [
        "Statsmodels' implementation of logistic has certain advantages over scikit-learn's, such as clean, easy to read model summary output and statistical inference values (e.g. p-values). However, scikit-learn is preferable for model evaluation, so we will switch to the scikit-learn implementation for this exercise. \n",
        "\n",
        "Run logistic regression on the training set and use the resulting model to make predictions on the test set. Calculate the train and test error using logarithmic loss. How do they compare to each other?"
      ]
    },
    {
      "cell_type": "code",
      "metadata": {
        "id": "FsAPvjjvtacS",
        "outputId": "d9788fb2-09f0-441f-b467-da65a07d01fd",
        "colab": {
          "base_uri": "https://localhost:8080/",
          "height": 52
        }
      },
      "source": [
        "from sklearn.metrics import log_loss\n",
        "train_prob = logit.predict_proba(X_train)\n",
        "test_prob = logit.predict_proba(X_test)\n",
        "\n",
        "log_loss_test = log_loss(y_test, test_prob)\n",
        "log_loss_train = log_loss(y_train, train_prob)\n",
        "print(\"Train log loss: \", log_loss_train)\n",
        "print(\"Test log loss: \",log_loss_test)\n"
      ],
      "execution_count": null,
      "outputs": [
        {
          "output_type": "stream",
          "text": [
            "Train log loss:  0.657363529483762\n",
            "Test log loss:  0.6574173571894316\n"
          ],
          "name": "stdout"
        }
      ]
    },
    {
      "cell_type": "markdown",
      "metadata": {
        "id": "y7SwA4YvmB1W"
      },
      "source": [
        "Next, evaluate the performance of the same model using 10-fold CV. Use the training data and labels, and print out the mean log loss for each of the 10 CV folds, as well as the overall CV-estimated test error. How do the estimates from the individual folds compare to the result from our previous single holdout set? How much variability in the estimated test error do you see across the 10 folds?\n",
        "\n",
        "Note: scikit-learn's cross_val_score function provides a simple, one-line method for doing this. However, be careful - the default score returned by this function may not be log loss!"
      ]
    },
    {
      "cell_type": "code",
      "metadata": {
        "id": "36OrckNRm-Fy",
        "outputId": "81de028f-334b-4b3b-8ecc-a9c213b0ccd2",
        "colab": {
          "base_uri": "https://localhost:8080/",
          "height": 52
        }
      },
      "source": [
        "# answer goes here\n",
        "from sklearn.model_selection import cross_val_score\n",
        "cross_val = cross_val_score(logit, X_train, y_train, cv=10, scoring='neg_log_loss')\n",
        "cross_val\n"
      ],
      "execution_count": null,
      "outputs": [
        {
          "output_type": "execute_result",
          "data": {
            "text/plain": [
              "array([-0.65788584, -0.6599658 , -0.65885973, -0.6562021 , -0.65553263,\n",
              "       -0.65758626, -0.65546276, -0.65840746, -0.65752448, -0.65714005])"
            ]
          },
          "metadata": {
            "tags": []
          },
          "execution_count": 69
        }
      ]
    },
    {
      "cell_type": "code",
      "metadata": {
        "id": "GeG-Rh22rBzU",
        "outputId": "6c17cf4c-4b5e-41fb-b838-6877aff0dbfa",
        "colab": {
          "base_uri": "https://localhost:8080/",
          "height": 34
        }
      },
      "source": [
        "abs(cross_val.mean())"
      ],
      "execution_count": null,
      "outputs": [
        {
          "output_type": "execute_result",
          "data": {
            "text/plain": [
              "0.6574567118632243"
            ]
          },
          "metadata": {
            "tags": []
          },
          "execution_count": 72
        }
      ]
    },
    {
      "cell_type": "markdown",
      "metadata": {
        "id": "Re4D28qdmx-e"
      },
      "source": [
        "Scikit-learn's logistic regression function has a built-in regularization parameter, C (the larger the value of C, the smaller the degree of regularization). Use a loop with values of C, and find the optimum C value by taking the highest average cross validation score."
      ]
    },
    {
      "cell_type": "code",
      "metadata": {
        "id": "JNudLsxrqMV4"
      },
      "source": [
        "cv_values = []\n",
        "for x in [.01,.5,1.,100.,10000.]:\n",
        "  logit = LogisticRegression(max_iter=1000, C=x)\n",
        "  cross_val = cross_val_score(logit, X_train, y_train, cv=5)\n",
        "  cv_values.append(cross_val.mean())"
      ],
      "execution_count": null,
      "outputs": []
    },
    {
      "cell_type": "code",
      "metadata": {
        "id": "zDAIOn90tnud",
        "outputId": "5be000df-2f97-4351-8526-fa680ccc7ed4",
        "colab": {
          "base_uri": "https://localhost:8080/",
          "height": 104
        }
      },
      "source": [
        "cv_values"
      ],
      "execution_count": null,
      "outputs": [
        {
          "output_type": "execute_result",
          "data": {
            "text/plain": [
              "[0.5846753114943686,\n",
              " 0.5849906750645757,\n",
              " 0.5849336412567471,\n",
              " 0.5849839655127064,\n",
              " 0.5849369963984905]"
            ]
          },
          "metadata": {
            "tags": []
          },
          "execution_count": 74
        }
      ]
    },
    {
      "cell_type": "markdown",
      "metadata": {
        "id": "XgLea0femy8C"
      },
      "source": [
        "Re-train a logistic regression model using the best value of C identified by 10-fold CV on the training data and labels. Afterwards, do the following:\n",
        "\n",
        "Determine the precision, recall, and F1-score of our model using a cutoff/threshold of 0.5 (hint: scikit-learn's classification_report function may be helpful)\n",
        "Plot or otherwise generate a confusion matrix\n",
        "Plot the ROC curve for our logistic regression model\n",
        "Note: the performance of our simple logistic regression model with just four features will not be very good, but this is not entirely unexpected. There are many other features that can be incorporated into the model to improve its performance; feel free to experiment!"
      ]
    },
    {
      "cell_type": "code",
      "metadata": {
        "id": "TipKv4bervPm",
        "outputId": "2e03c5fb-d390-4cac-c059-d8dd29dc0bd1",
        "colab": {
          "base_uri": "https://localhost:8080/",
          "height": 104
        }
      },
      "source": [
        "logit = LogisticRegression(max_iter=1000, C=10000)\n",
        "logit.fit(X_train, y_train)"
      ],
      "execution_count": null,
      "outputs": [
        {
          "output_type": "execute_result",
          "data": {
            "text/plain": [
              "LogisticRegression(C=10000, class_weight=None, dual=False, fit_intercept=True,\n",
              "                   intercept_scaling=1, l1_ratio=None, max_iter=1000,\n",
              "                   multi_class='auto', n_jobs=None, penalty='l2',\n",
              "                   random_state=None, solver='lbfgs', tol=0.0001, verbose=0,\n",
              "                   warm_start=False)"
            ]
          },
          "metadata": {
            "tags": []
          },
          "execution_count": 75
        }
      ]
    },
    {
      "cell_type": "code",
      "metadata": {
        "id": "Azx7Tmces1FK",
        "outputId": "3fce6484-06c6-4b73-fff9-8b70d4ed54a2",
        "colab": {
          "base_uri": "https://localhost:8080/",
          "height": 173
        }
      },
      "source": [
        "from sklearn.metrics import classification_report\n",
        "\n",
        "print(classification_report(y_test, y_pred))"
      ],
      "execution_count": null,
      "outputs": [
        {
          "output_type": "stream",
          "text": [
            "              precision    recall  f1-score   support\n",
            "\n",
            "           0       0.54      0.30      0.39     32435\n",
            "           1       0.60      0.80      0.69     42082\n",
            "\n",
            "    accuracy                           0.58     74517\n",
            "   macro avg       0.57      0.55      0.54     74517\n",
            "weighted avg       0.57      0.58      0.56     74517\n",
            "\n"
          ],
          "name": "stdout"
        }
      ]
    },
    {
      "cell_type": "code",
      "metadata": {
        "id": "oDJndmrCtf93",
        "outputId": "f54391ee-9aae-4fad-ff37-abf980809678",
        "colab": {
          "base_uri": "https://localhost:8080/",
          "height": 52
        }
      },
      "source": [
        "confusion_matrix(y_test, y_pred)"
      ],
      "execution_count": null,
      "outputs": [
        {
          "output_type": "execute_result",
          "data": {
            "text/plain": [
              "array([[ 9698, 22737],\n",
              "       [ 8232, 33850]])"
            ]
          },
          "metadata": {
            "tags": []
          },
          "execution_count": 81
        }
      ]
    },
    {
      "cell_type": "code",
      "metadata": {
        "id": "ttsX1sYetkdH",
        "outputId": "2b41d34b-6a5e-4784-9f59-fe58a07f4b41",
        "colab": {
          "base_uri": "https://localhost:8080/",
          "height": 282
        }
      },
      "source": [
        "from sklearn.metrics import roc_curve, roc_auc_score\n",
        "y_pred_prob = logit.predict_proba(X_test)\n",
        "fpr, tpr, thresholds = roc_curve(y_test, y_pred_prob[:,0])\n",
        "line0, = plt.plot(fpr, tpr)\n",
        "print(roc_auc_score(y_test,y_pred_prob[:,0]))"
      ],
      "execution_count": null,
      "outputs": [
        {
          "output_type": "stream",
          "text": [
            "0.38498036092951227\n"
          ],
          "name": "stdout"
        },
        {
          "output_type": "display_data",
          "data": {
            "image/png": "[encoded data removed]",
            "text/plain": [
              "<Figure size 432x288 with 1 Axes>"
            ]
          },
          "metadata": {
            "tags": [],
            "needs_background": "light"
          }
        }
      ]
    }
  ]
}