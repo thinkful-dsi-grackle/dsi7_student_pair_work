{
  "nbformat": 4,
  "nbformat_minor": 0,
  "metadata": {
    "colab": {
      "name": "Copy of Kalika_Caesar_Kristof_of Day 25 Lecture 1 Assignment.ipynb",
      "provenance": [],
      "collapsed_sections": []
    },
    "kernelspec": {
      "display_name": "Python 3",
      "language": "python",
      "name": "python3"
    },
    "language_info": {
      "codemirror_mode": {
        "name": "ipython",
        "version": 3
      },
      "file_extension": ".py",
      "mimetype": "text/x-python",
      "name": "python",
      "nbconvert_exporter": "python",
      "pygments_lexer": "ipython3",
      "version": "3.8.3-final"
    }
  },
  "cells": [
    {
      "cell_type": "markdown",
      "metadata": {
        "id": "kOVPVzs51Zbk"
      },
      "source": [
        "## Day 25 Lecture 1 Assignment\n",
        "\n",
        "In this assignment, we will evaluate the performance of the model we built yesterday on the Chicago traffic crash data. We will also perform hyperparameter tuning and evaluate a final model using additional metrics (e.g. AUC-ROC, precision, recall, etc.)"
      ]
    },
    {
      "cell_type": "markdown",
      "metadata": {
        "id": "UkPoFJCueQZ3"
      },
      "source": [
        "Since we will be building on the model we built in the last assignment, we will need to redo all of the data preparation steps up to the point of model building. These steps include creating the response, missing value imputation, and one-hot encoding our selected categorical variables. The quickest way to get going would be to open last week's assignment, make a copy, and build on it from there."
      ]
    },
    {
      "cell_type": "code",
      "metadata": {
        "id": "GHvuphxSGUPd"
      },
      "source": [
        "%matplotlib inline\n",
        "\n",
        "import matplotlib.pyplot as plt\n",
        "import numpy as np\n",
        "import pandas as pd"
      ],
      "execution_count": 1,
      "outputs": []
    },
    {
      "cell_type": "code",
      "metadata": {
        "id": "TdvlbpYRGUSi"
      },
      "source": [
        "def missingness_summary(df, print_log=False, sort='none'):\n",
        "    summary = df.apply(lambda x: x.isna().sum() / x.shape[0])\n",
        "    \n",
        "    if print_log == True:\n",
        "        if sort == 'none':\n",
        "            print(summary)\n",
        "        elif sort == 'ascending':\n",
        "            print(summary.sort_values())\n",
        "        elif sort == 'descending':\n",
        "            print(summary.sort_values(ascending=False))\n",
        "        else:\n",
        "            print('Invalid value for sort parameter.')\n",
        "        \n",
        "    return summary"
      ],
      "execution_count": 2,
      "outputs": []
    },
    {
      "cell_type": "code",
      "metadata": {
        "id": "KZRtsKAkGUYQ"
      },
      "source": [
        "crash = pd.read_csv('https://tf-assets-prod.s3.amazonaws.com/tf-curric/data-science/traffic_crashes_chicago.csv')"
      ],
      "execution_count": 3,
      "outputs": []
    },
    {
      "cell_type": "code",
      "metadata": {
        "id": "TmTVvwArGUbu"
      },
      "source": [
        "# answer goes here\n",
        "\n",
        "#crash['NEW_DAMAGE'] = (crash['DAMAGE'] == 'OVER $1,500').astype(int)\n",
        "\n",
        "crash['NEW_DAMAGE'] = np.where(crash['DAMAGE'] == 'OVER $1,500', 1, 0)"
      ],
      "execution_count": 4,
      "outputs": []
    },
    {
      "cell_type": "code",
      "metadata": {
        "id": "cFNkMtVcGUfS",
        "outputId": "a438d2aa-2bf8-4d9a-930e-bf4c74ebd0a8",
        "colab": {
          "base_uri": "https://localhost:8080/",
          "height": 68
        }
      },
      "source": [
        "crash['NEW_DAMAGE'].value_counts()"
      ],
      "execution_count": 5,
      "outputs": [
        {
          "output_type": "execute_result",
          "data": {
            "text/plain": [
              "1    209921\n",
              "0    162664\n",
              "Name: NEW_DAMAGE, dtype: int64"
            ]
          },
          "metadata": {},
          "execution_count": 5
        }
      ]
    },
    {
      "cell_type": "code",
      "metadata": {
        "id": "N5ommk3yGUWD",
        "outputId": "8d39c854-dbf0-49e8-ec68-654c98b33a27",
        "colab": {
          "base_uri": "https://localhost:8080/",
          "height": 102
        }
      },
      "source": [
        "# answer goes here\n",
        "# crash = crash.drop(labels=[['LANE_CNT','INTERSECTION_RELATED_I','NOT_RIGHT_OF_WAY_I', 'HIT_AND_RUN_I','PHOTOS_TAKEN_I', 'STATEMENTS_TAKEN_I','DOORING_I', 'WORK_ZONE_I', 'WORK_ZONE_TYPE', 'WORKERS_PRESENT_I']], axis=1, inplace=True) \n",
        "\n",
        "filtered = crash.dropna(thresh=crash.shape[0]*0.95,how='all',axis=1)\n",
        "\n",
        "#cols = ['BEAT_OF_OCCURRENCE', 'NUM_UNITS', 'INJURIES_TOTAL', 'INJURIES_FATAL', 'INJURIES_INCAPACITATING', 'INJURIES_NON_INCAPACITATING', 'INJURIES_REPORTED_NOT_EVIDENT',\n",
        "#       'INJURIES_NO_INDICATION', 'INJURIES_UNKNOWN']\n",
        "\n",
        "for col in filtered.columns:\n",
        "    if filtered[col].dtypes != 'O': \n",
        "        filtered[col].fillna(filtered[col].median(), inplace=True)"
      ],
      "execution_count": 6,
      "outputs": []
    },
    {
      "cell_type": "code",
      "metadata": {
        "id": "orDY5eaHGqg1",
        "outputId": "89a96e99-807f-4a43-e707-4afb8f0dfa07",
        "colab": {
          "base_uri": "https://localhost:8080/",
          "height": 102
        }
      },
      "source": [
        "filtered.dropna(inplace=True)"
      ],
      "execution_count": 7,
      "outputs": []
    },
    {
      "cell_type": "code",
      "metadata": {
        "id": "zJsMIQZiGvx2",
        "outputId": "bfd601cb-c133-4d23-eba5-c07e6cd876a2",
        "colab": {
          "base_uri": "https://localhost:8080/",
          "height": 578
        }
      },
      "source": [
        "missingness_summary(filtered)"
      ],
      "execution_count": 8,
      "outputs": [
        {
          "output_type": "execute_result",
          "data": {
            "text/plain": [
              "RD_NO                            0.0\n",
              "CRASH_DATE                       0.0\n",
              "POSTED_SPEED_LIMIT               0.0\n",
              "TRAFFIC_CONTROL_DEVICE           0.0\n",
              "DEVICE_CONDITION                 0.0\n",
              "WEATHER_CONDITION                0.0\n",
              "LIGHTING_CONDITION               0.0\n",
              "FIRST_CRASH_TYPE                 0.0\n",
              "TRAFFICWAY_TYPE                  0.0\n",
              "ALIGNMENT                        0.0\n",
              "ROADWAY_SURFACE_COND             0.0\n",
              "ROAD_DEFECT                      0.0\n",
              "REPORT_TYPE                      0.0\n",
              "CRASH_TYPE                       0.0\n",
              "DAMAGE                           0.0\n",
              "DATE_POLICE_NOTIFIED             0.0\n",
              "PRIM_CONTRIBUTORY_CAUSE          0.0\n",
              "SEC_CONTRIBUTORY_CAUSE           0.0\n",
              "STREET_NO                        0.0\n",
              "STREET_DIRECTION                 0.0\n",
              "STREET_NAME                      0.0\n",
              "BEAT_OF_OCCURRENCE               0.0\n",
              "NUM_UNITS                        0.0\n",
              "MOST_SEVERE_INJURY               0.0\n",
              "INJURIES_TOTAL                   0.0\n",
              "INJURIES_FATAL                   0.0\n",
              "INJURIES_INCAPACITATING          0.0\n",
              "INJURIES_NON_INCAPACITATING      0.0\n",
              "INJURIES_REPORTED_NOT_EVIDENT    0.0\n",
              "INJURIES_NO_INDICATION           0.0\n",
              "INJURIES_UNKNOWN                 0.0\n",
              "NEW_DAMAGE                       0.0\n",
              "dtype: float64"
            ]
          },
          "metadata": {},
          "execution_count": 8
        }
      ]
    },
    {
      "cell_type": "code",
      "metadata": {
        "id": "CH6msD63Gyc3"
      },
      "source": [
        "crash_scenario = filtered.filter(['POSTED_SPEED_LIMIT', 'INJURIES_TOTAL','NEW_DAMAGE'])"
      ],
      "execution_count": 9,
      "outputs": []
    },
    {
      "cell_type": "code",
      "metadata": {
        "id": "A-PShvnvGyhA"
      },
      "source": [
        "weather = pd.get_dummies(filtered['WEATHER_CONDITION'], drop_first=True)\n",
        "crash_scenario = pd.concat([crash_scenario, weather], axis=1)\n",
        "\n",
        "\n",
        "crash_type = pd.get_dummies(filtered['FIRST_CRASH_TYPE'], drop_first=True)\n",
        "crash_scenario = pd.concat([crash_scenario, crash_type], axis=1)"
      ],
      "execution_count": 10,
      "outputs": []
    },
    {
      "cell_type": "code",
      "metadata": {
        "id": "TRkkshLTGynN",
        "outputId": "2b83d256-17f8-4e18-af03-cafea0ab26f3",
        "colab": {
          "base_uri": "https://localhost:8080/",
          "height": 646
        }
      },
      "source": [
        "crash_scenario.info()"
      ],
      "execution_count": 11,
      "outputs": [
        {
          "output_type": "stream",
          "name": "stdout",
          "text": [
            "<class 'pandas.core.frame.DataFrame'>\nInt64Index: 362483 entries, 6 to 372584\nData columns (total 30 columns):\n #   Column                        Non-Null Count   Dtype  \n---  ------                        --------------   -----  \n 0   POSTED_SPEED_LIMIT            362483 non-null  int64  \n 1   INJURIES_TOTAL                362483 non-null  float64\n 2   NEW_DAMAGE                    362483 non-null  int32  \n 3   CLEAR                         362483 non-null  uint8  \n 4   CLOUDY/OVERCAST               362483 non-null  uint8  \n 5   FOG/SMOKE/HAZE                362483 non-null  uint8  \n 6   FREEZING RAIN/DRIZZLE         362483 non-null  uint8  \n 7   OTHER                         362483 non-null  uint8  \n 8   RAIN                          362483 non-null  uint8  \n 9   SEVERE CROSS WIND GATE        362483 non-null  uint8  \n 10  SLEET/HAIL                    362483 non-null  uint8  \n 11  SNOW                          362483 non-null  uint8  \n 12  UNKNOWN                       362483 non-null  uint8  \n 13  ANIMAL                        362483 non-null  uint8  \n 14  FIXED OBJECT                  362483 non-null  uint8  \n 15  HEAD ON                       362483 non-null  uint8  \n 16  OTHER NONCOLLISION            362483 non-null  uint8  \n 17  OTHER OBJECT                  362483 non-null  uint8  \n 18  OVERTURNED                    362483 non-null  uint8  \n 19  PARKED MOTOR VEHICLE          362483 non-null  uint8  \n 20  PEDALCYCLIST                  362483 non-null  uint8  \n 21  PEDESTRIAN                    362483 non-null  uint8  \n 22  REAR END                      362483 non-null  uint8  \n 23  REAR TO FRONT                 362483 non-null  uint8  \n 24  REAR TO REAR                  362483 non-null  uint8  \n 25  REAR TO SIDE                  362483 non-null  uint8  \n 26  SIDESWIPE OPPOSITE DIRECTION  362483 non-null  uint8  \n 27  SIDESWIPE SAME DIRECTION      362483 non-null  uint8  \n 28  TRAIN                         362483 non-null  uint8  \n 29  TURNING                       362483 non-null  uint8  \ndtypes: float64(1), int32(1), int64(1), uint8(27)\nmemory usage: 19.0 MB\n"
          ]
        }
      ]
    },
    {
      "cell_type": "code",
      "metadata": {
        "id": "RrjVBPXjGyqI"
      },
      "source": [
        "from sklearn.model_selection import train_test_split\n",
        "\n",
        "X = crash_scenario.drop('NEW_DAMAGE', axis=1)\n",
        "Y = crash_scenario['NEW_DAMAGE']\n",
        "\n",
        "X_train, x_test, Y_train, y_test = train_test_split(X, Y, test_size=0.20)"
      ],
      "execution_count": 12,
      "outputs": []
    },
    {
      "cell_type": "code",
      "metadata": {
        "id": "E04n03leG8e9",
        "outputId": "bc4fa1a6-4ed2-4690-d154-294a978e0d84",
        "colab": {
          "base_uri": "https://localhost:8080/",
          "height": 71
        }
      },
      "source": [
        "import statsmodels.api as sm\n",
        "\n",
        "X_train_con = sm.add_constant(X_train)"
      ],
      "execution_count": 13,
      "outputs": []
    },
    {
      "cell_type": "markdown",
      "metadata": {
        "id": "P7hI35MY1Zbq"
      },
      "source": [
        "Statsmodels' implementation of logistic has certain advantages over scikit-learn's, such as clean, easy to read model summary output and statistical inference values (e.g. p-values). However, scikit-learn is preferable for model evaluation, so we will switch to the scikit-learn implementation for this exercise. \n",
        "\n",
        "Run logistic regression on the training set and use the resulting model to make predictions on the test set. Calculate the train and test error using logarithmic loss. How do they compare to each other?"
      ]
    },
    {
      "cell_type": "markdown",
      "metadata": {
        "id": "n9UPe0wGHtM7"
      },
      "source": [
        "*model name = model1*\n",
        "\n",
        "I forgot what you're prediction model and training models are. Update the following codes to populate the information.\n",
        ">*I updated the code below.*"
      ]
    },
    {
      "cell_type": "code",
      "metadata": {
        "id": "LxnJYUFvHAQy",
        "outputId": "ecbf9858-0379-438b-96c8-9b4960a84abf",
        "colab": {
          "base_uri": "https://localhost:8080/",
          "height": 102
        }
      },
      "source": [
        "from sklearn.linear_model import LogisticRegression\n",
        "logit = LogisticRegression(max_iter=1000)\n",
        "logit.fit(x_test, y_test)"
      ],
      "execution_count": 14,
      "outputs": [
        {
          "output_type": "execute_result",
          "data": {
            "text/plain": [
              "LogisticRegression(max_iter=1000)"
            ]
          },
          "metadata": {},
          "execution_count": 14
        }
      ]
    },
    {
      "cell_type": "code",
      "metadata": {
        "id": "ubk8wx_kG8kQ",
        "outputId": "20089bfd-7507-4fcc-8ac2-be84c9e89fbe",
        "colab": {
          "base_uri": "https://localhost:8080/",
          "height": 887
        }
      },
      "source": [
        "model1 = sm.Logit(Y_train, X_train_con).fit()\n",
        "model1.summary()"
      ],
      "execution_count": 15,
      "outputs": [
        {
          "output_type": "stream",
          "name": "stdout",
          "text": [
            "Optimization terminated successfully.\n         Current function value: 0.657845\n         Iterations 6\n"
          ]
        },
        {
          "output_type": "execute_result",
          "data": {
            "text/plain": [
              "<class 'statsmodels.iolib.summary.Summary'>\n",
              "\"\"\"\n",
              "                           Logit Regression Results                           \n",
              "==============================================================================\n",
              "Dep. Variable:             NEW_DAMAGE   No. Observations:               289986\n",
              "Model:                          Logit   Df Residuals:                   289956\n",
              "Method:                           MLE   Df Model:                           29\n",
              "Date:                Fri, 16 Oct 2020   Pseudo R-squ.:                 0.04019\n",
              "Time:                        11:14:37   Log-Likelihood:            -1.9077e+05\n",
              "converged:                       True   LL-Null:                   -1.9875e+05\n",
              "Covariance Type:            nonrobust   LLR p-value:                     0.000\n",
              "================================================================================================\n",
              "                                   coef    std err          z      P>|z|      [0.025      0.975]\n",
              "------------------------------------------------------------------------------------------------\n",
              "const                            0.5920      0.558      1.061      0.289      -0.501       1.685\n",
              "POSTED_SPEED_LIMIT               0.0115      0.001     19.461      0.000       0.010       0.013\n",
              "INJURIES_TOTAL                   0.7393      0.012     61.928      0.000       0.716       0.763\n",
              "CLEAR                           -0.2660      0.558     -0.477      0.633      -1.359       0.827\n",
              "CLOUDY/OVERCAST                 -0.1530      0.558     -0.274      0.784      -1.247       0.941\n",
              "FOG/SMOKE/HAZE                  -0.0919      0.565     -0.163      0.871      -1.200       1.016\n",
              "FREEZING RAIN/DRIZZLE            0.3278      0.588      0.557      0.577      -0.825       1.480\n",
              "OTHER                           -0.0119      0.562     -0.021      0.983      -1.113       1.089\n",
              "RAIN                            -0.1360      0.558     -0.244      0.807      -1.229       0.957\n",
              "SEVERE CROSS WIND GATE           0.4927      0.630      0.782      0.434      -0.742       1.727\n",
              "SLEET/HAIL                      -0.0734      0.567     -0.129      0.897      -1.184       1.037\n",
              "SNOW                            -0.1351      0.558     -0.242      0.809      -1.229       0.958\n",
              "UNKNOWN                         -0.1111      0.558     -0.199      0.842      -1.205       0.982\n",
              "ANIMAL                          -0.9863      0.145     -6.795      0.000      -1.271      -0.702\n",
              "FIXED OBJECT                     0.0594      0.024      2.516      0.012       0.013       0.106\n",
              "HEAD ON                         -0.0493      0.047     -1.048      0.295      -0.141       0.043\n",
              "OTHER NONCOLLISION              -1.1223      0.065    -17.204      0.000      -1.250      -0.994\n",
              "OTHER OBJECT                    -0.6640      0.041    -16.003      0.000      -0.745      -0.583\n",
              "OVERTURNED                       0.7852      0.250      3.143      0.002       0.296       1.275\n",
              "PARKED MOTOR VEHICLE            -0.4811      0.015    -31.765      0.000      -0.511      -0.451\n",
              "PEDALCYCLIST                    -2.4749      0.040    -61.890      0.000      -2.553      -2.397\n",
              "PEDESTRIAN                      -2.3916      0.032    -74.189      0.000      -2.455      -2.328\n",
              "REAR END                        -0.6808      0.015    -45.806      0.000      -0.710      -0.652\n",
              "REAR TO FRONT                   -0.7317      0.068    -10.820      0.000      -0.864      -0.599\n",
              "REAR TO REAR                    -0.7193      0.134     -5.368      0.000      -0.982      -0.457\n",
              "REAR TO SIDE                    -0.6313      0.085     -7.417      0.000      -0.798      -0.465\n",
              "SIDESWIPE OPPOSITE DIRECTION    -0.6643      0.033    -19.928      0.000      -0.730      -0.599\n",
              "SIDESWIPE SAME DIRECTION        -0.6529      0.016    -41.228      0.000      -0.684      -0.622\n",
              "TRAIN                            0.8380      0.766      1.094      0.274      -0.663       2.339\n",
              "TURNING                         -0.1956      0.017    -11.819      0.000      -0.228      -0.163\n",
              "================================================================================================\n",
              "\"\"\""
            ],
            "text/html": "<table class=\"simpletable\">\n<caption>Logit Regression Results</caption>\n<tr>\n  <th>Dep. Variable:</th>      <td>NEW_DAMAGE</td>    <th>  No. Observations:  </th>   <td>289986</td>   \n</tr>\n<tr>\n  <th>Model:</th>                 <td>Logit</td>      <th>  Df Residuals:      </th>   <td>289956</td>   \n</tr>\n<tr>\n  <th>Method:</th>                 <td>MLE</td>       <th>  Df Model:          </th>   <td>    29</td>   \n</tr>\n<tr>\n  <th>Date:</th>            <td>Fri, 16 Oct 2020</td> <th>  Pseudo R-squ.:     </th>   <td>0.04019</td>  \n</tr>\n<tr>\n  <th>Time:</th>                <td>11:14:37</td>     <th>  Log-Likelihood:    </th> <td>-1.9077e+05</td>\n</tr>\n<tr>\n  <th>converged:</th>             <td>True</td>       <th>  LL-Null:           </th> <td>-1.9875e+05</td>\n</tr>\n<tr>\n  <th>Covariance Type:</th>     <td>nonrobust</td>    <th>  LLR p-value:       </th>   <td> 0.000</td>   \n</tr>\n</table>\n<table class=\"simpletable\">\n<tr>\n                <td></td>                  <th>coef</th>     <th>std err</th>      <th>z</th>      <th>P>|z|</th>  <th>[0.025</th>    <th>0.975]</th>  \n</tr>\n<tr>\n  <th>const</th>                        <td>    0.5920</td> <td>    0.558</td> <td>    1.061</td> <td> 0.289</td> <td>   -0.501</td> <td>    1.685</td>\n</tr>\n<tr>\n  <th>POSTED_SPEED_LIMIT</th>           <td>    0.0115</td> <td>    0.001</td> <td>   19.461</td> <td> 0.000</td> <td>    0.010</td> <td>    0.013</td>\n</tr>\n<tr>\n  <th>INJURIES_TOTAL</th>               <td>    0.7393</td> <td>    0.012</td> <td>   61.928</td> <td> 0.000</td> <td>    0.716</td> <td>    0.763</td>\n</tr>\n<tr>\n  <th>CLEAR</th>                        <td>   -0.2660</td> <td>    0.558</td> <td>   -0.477</td> <td> 0.633</td> <td>   -1.359</td> <td>    0.827</td>\n</tr>\n<tr>\n  <th>CLOUDY/OVERCAST</th>              <td>   -0.1530</td> <td>    0.558</td> <td>   -0.274</td> <td> 0.784</td> <td>   -1.247</td> <td>    0.941</td>\n</tr>\n<tr>\n  <th>FOG/SMOKE/HAZE</th>               <td>   -0.0919</td> <td>    0.565</td> <td>   -0.163</td> <td> 0.871</td> <td>   -1.200</td> <td>    1.016</td>\n</tr>\n<tr>\n  <th>FREEZING RAIN/DRIZZLE</th>        <td>    0.3278</td> <td>    0.588</td> <td>    0.557</td> <td> 0.577</td> <td>   -0.825</td> <td>    1.480</td>\n</tr>\n<tr>\n  <th>OTHER</th>                        <td>   -0.0119</td> <td>    0.562</td> <td>   -0.021</td> <td> 0.983</td> <td>   -1.113</td> <td>    1.089</td>\n</tr>\n<tr>\n  <th>RAIN</th>                         <td>   -0.1360</td> <td>    0.558</td> <td>   -0.244</td> <td> 0.807</td> <td>   -1.229</td> <td>    0.957</td>\n</tr>\n<tr>\n  <th>SEVERE CROSS WIND GATE</th>       <td>    0.4927</td> <td>    0.630</td> <td>    0.782</td> <td> 0.434</td> <td>   -0.742</td> <td>    1.727</td>\n</tr>\n<tr>\n  <th>SLEET/HAIL</th>                   <td>   -0.0734</td> <td>    0.567</td> <td>   -0.129</td> <td> 0.897</td> <td>   -1.184</td> <td>    1.037</td>\n</tr>\n<tr>\n  <th>SNOW</th>                         <td>   -0.1351</td> <td>    0.558</td> <td>   -0.242</td> <td> 0.809</td> <td>   -1.229</td> <td>    0.958</td>\n</tr>\n<tr>\n  <th>UNKNOWN</th>                      <td>   -0.1111</td> <td>    0.558</td> <td>   -0.199</td> <td> 0.842</td> <td>   -1.205</td> <td>    0.982</td>\n</tr>\n<tr>\n  <th>ANIMAL</th>                       <td>   -0.9863</td> <td>    0.145</td> <td>   -6.795</td> <td> 0.000</td> <td>   -1.271</td> <td>   -0.702</td>\n</tr>\n<tr>\n  <th>FIXED OBJECT</th>                 <td>    0.0594</td> <td>    0.024</td> <td>    2.516</td> <td> 0.012</td> <td>    0.013</td> <td>    0.106</td>\n</tr>\n<tr>\n  <th>HEAD ON</th>                      <td>   -0.0493</td> <td>    0.047</td> <td>   -1.048</td> <td> 0.295</td> <td>   -0.141</td> <td>    0.043</td>\n</tr>\n<tr>\n  <th>OTHER NONCOLLISION</th>           <td>   -1.1223</td> <td>    0.065</td> <td>  -17.204</td> <td> 0.000</td> <td>   -1.250</td> <td>   -0.994</td>\n</tr>\n<tr>\n  <th>OTHER OBJECT</th>                 <td>   -0.6640</td> <td>    0.041</td> <td>  -16.003</td> <td> 0.000</td> <td>   -0.745</td> <td>   -0.583</td>\n</tr>\n<tr>\n  <th>OVERTURNED</th>                   <td>    0.7852</td> <td>    0.250</td> <td>    3.143</td> <td> 0.002</td> <td>    0.296</td> <td>    1.275</td>\n</tr>\n<tr>\n  <th>PARKED MOTOR VEHICLE</th>         <td>   -0.4811</td> <td>    0.015</td> <td>  -31.765</td> <td> 0.000</td> <td>   -0.511</td> <td>   -0.451</td>\n</tr>\n<tr>\n  <th>PEDALCYCLIST</th>                 <td>   -2.4749</td> <td>    0.040</td> <td>  -61.890</td> <td> 0.000</td> <td>   -2.553</td> <td>   -2.397</td>\n</tr>\n<tr>\n  <th>PEDESTRIAN</th>                   <td>   -2.3916</td> <td>    0.032</td> <td>  -74.189</td> <td> 0.000</td> <td>   -2.455</td> <td>   -2.328</td>\n</tr>\n<tr>\n  <th>REAR END</th>                     <td>   -0.6808</td> <td>    0.015</td> <td>  -45.806</td> <td> 0.000</td> <td>   -0.710</td> <td>   -0.652</td>\n</tr>\n<tr>\n  <th>REAR TO FRONT</th>                <td>   -0.7317</td> <td>    0.068</td> <td>  -10.820</td> <td> 0.000</td> <td>   -0.864</td> <td>   -0.599</td>\n</tr>\n<tr>\n  <th>REAR TO REAR</th>                 <td>   -0.7193</td> <td>    0.134</td> <td>   -5.368</td> <td> 0.000</td> <td>   -0.982</td> <td>   -0.457</td>\n</tr>\n<tr>\n  <th>REAR TO SIDE</th>                 <td>   -0.6313</td> <td>    0.085</td> <td>   -7.417</td> <td> 0.000</td> <td>   -0.798</td> <td>   -0.465</td>\n</tr>\n<tr>\n  <th>SIDESWIPE OPPOSITE DIRECTION</th> <td>   -0.6643</td> <td>    0.033</td> <td>  -19.928</td> <td> 0.000</td> <td>   -0.730</td> <td>   -0.599</td>\n</tr>\n<tr>\n  <th>SIDESWIPE SAME DIRECTION</th>     <td>   -0.6529</td> <td>    0.016</td> <td>  -41.228</td> <td> 0.000</td> <td>   -0.684</td> <td>   -0.622</td>\n</tr>\n<tr>\n  <th>TRAIN</th>                        <td>    0.8380</td> <td>    0.766</td> <td>    1.094</td> <td> 0.274</td> <td>   -0.663</td> <td>    2.339</td>\n</tr>\n<tr>\n  <th>TURNING</th>                      <td>   -0.1956</td> <td>    0.017</td> <td>  -11.819</td> <td> 0.000</td> <td>   -0.228</td> <td>   -0.163</td>\n</tr>\n</table>"
          },
          "metadata": {},
          "execution_count": 15
        }
      ]
    },
    {
      "cell_type": "code",
      "metadata": {
        "id": "LUO-WUOmHAT4",
        "outputId": "5f913056-65b0-48af-b123-ee1abc95740d",
        "colab": {
          "base_uri": "https://localhost:8080/",
          "height": 34
        }
      },
      "source": [
        "logit.score(X_train, Y_train)"
      ],
      "execution_count": 16,
      "outputs": [
        {
          "output_type": "execute_result",
          "data": {
            "text/plain": [
              "0.5832867793617623"
            ]
          },
          "metadata": {},
          "execution_count": 16
        }
      ]
    },
    {
      "cell_type": "code",
      "metadata": {
        "id": "0SPnODSMHFHc",
        "outputId": "e7df0cb7-9bd0-4105-ed98-135a00bbd513",
        "colab": {
          "base_uri": "https://localhost:8080/",
          "height": 34
        }
      },
      "source": [
        "logit.score(x_test, y_test)"
      ],
      "execution_count": 17,
      "outputs": [
        {
          "output_type": "execute_result",
          "data": {
            "text/plain": [
              "0.5824103066333779"
            ]
          },
          "metadata": {},
          "execution_count": 17
        }
      ]
    },
    {
      "cell_type": "code",
      "metadata": {
        "id": "S9m1ac21HLtA",
        "outputId": "e878ea26-65bc-4ef3-d7b6-9780ca87cad3",
        "colab": {
          "base_uri": "https://localhost:8080/",
          "height": 51
        }
      },
      "source": [
        "from sklearn.metrics import confusion_matrix\n",
        "results = logit.predict(x_test)\n",
        "confusion_matrix(y_test, results)"
      ],
      "execution_count": 18,
      "outputs": [
        {
          "output_type": "execute_result",
          "data": {
            "text/plain": [
              "array([[12878, 18962],\n",
              "       [11312, 29345]], dtype=int64)"
            ]
          },
          "metadata": {},
          "execution_count": 18
        }
      ]
    },
    {
      "cell_type": "code",
      "metadata": {
        "id": "MplBXMGRVbkQ"
      },
      "source": [
        "train_prob = logit.predict_proba(X_train)\n",
        "test_prob = logit.predict_proba(x_test)"
      ],
      "execution_count": 19,
      "outputs": []
    },
    {
      "cell_type": "markdown",
      "metadata": {
        "id": "peqFj5DEV0Lq"
      },
      "source": [
        ">*Editor's note: Added log_loss here but also added the predicted probability rates above with train_prob and test_prob since it's the probabilities that are needed for log_loss*"
      ]
    },
    {
      "cell_type": "code",
      "metadata": {
        "id": "fX27wQO-VtcA",
        "outputId": "44572064-e414-4d3f-cb9e-f8d1accc7174",
        "colab": {
          "base_uri": "https://localhost:8080/",
          "height": 51
        }
      },
      "source": [
        "from sklearn.metrics import log_loss\n",
        "print('Test error through log loss: {:.5f}'.format(log_loss(y_test, test_prob)))\n",
        "print('Train error through log loss: {:.5f}'.format(log_loss(Y_train, train_prob)))"
      ],
      "execution_count": 20,
      "outputs": [
        {
          "output_type": "stream",
          "name": "stdout",
          "text": [
            "Test error through log loss: 0.65816\nTrain error through log loss: 0.65807\n"
          ]
        }
      ]
    },
    {
      "cell_type": "markdown",
      "metadata": {
        "id": "Ddj08GNaXQA5"
      },
      "source": [
        ">*Since the errors are almost equal, there is no underfitting nor overfitting happening but they are notably over 0.6 - an indication that something may be wrong in the binary class.*"
      ]
    },
    {
      "cell_type": "markdown",
      "metadata": {
        "id": "27_OUrv11Zbt"
      },
      "source": [
        "Next, evaluate the performance of the same model using 10-fold CV. Use the training data and labels, and print out the mean log loss for each of the 10 CV folds, as well as the overall CV-estimated test error. How do the estimates from the individual folds compare to the result from our previous single holdout set? How much variability in the estimated test error do you see across the 10 folds?\n",
        "\n",
        "Note: scikit-learn's *cross_val_score* function provides a simple, one-line method for doing this. However, be careful - the default score returned by this function may not be log loss!"
      ]
    },
    {
      "cell_type": "code",
      "metadata": {
        "id": "PnyhGzBh1Zbt"
      },
      "source": [
        "from sklearn.model_selection import cross_val_score\n",
        "\n",
        "cv_train = cross_val_score(logit, X_train, Y_train, cv=10)\n",
        "print('--Train Data--')\n",
        "print('Mean: {:.5f} Std: {:.4f}\\n{}'.format(cv_train.mean(), cv_train.std(), cv_train))\n",
        "\n",
        "cv_test = cross_val_score(logit, x_test, y_test, cv=10)\n",
        "print('\\n--Test Data--')\n",
        "print('Mean: {:.5f} Std: {:.4f}\\n{}'.format(cv_test.mean(), cv_test.std(), cv_test))"
      ],
      "execution_count": 33,
      "outputs": [
        {
          "output_type": "stream",
          "name": "stdout",
          "text": [
            "--Train Data--\n",
            "Mean: 0.58366 Std: 0.0018\n",
            "[0.58191662 0.58133039 0.58405462 0.58074416 0.58591676 0.58491672\n",
            " 0.58314367 0.58297124 0.58541968 0.58621284]\n",
            "\n",
            "--Test Data--\n",
            "Mean: 0.58242 Std: 0.0025\n",
            "[0.57958621 0.58468966 0.584      0.57958621 0.58427586 0.57889655\n",
            " 0.58110345 0.58628776 0.58118361 0.58463236]\n"
          ]
        }
      ]
    },
    {
      "cell_type": "markdown",
      "metadata": {
        "id": "K_Kp_W-P1Zbv"
      },
      "source": [
        "Scikit-learn's logistic regression function has a built-in regularization parameter, C (the larger the value of C, the smaller the degree of regularization). Use a loop with values of C, and find the optimum C value by taking the highest average cross validation score."
      ]
    },
    {
      "cell_type": "code",
      "metadata": {
        "id": "cItTgAG0CyyI"
      },
      "source": [
        "cv_values = []\n",
        "c_vals = [.05, 1.5, 150, 1500, 15000]\n",
        "for i in c_vals:\n",
        "    logit = LogisticRegression(C=i)\n",
        "    cv = cross_val_score(logit, X_train, Y_train, cv=5)\n",
        "    cv_values.append(cv.mean())"
      ],
      "execution_count": 35,
      "outputs": []
    },
    {
      "cell_type": "code",
      "execution_count": 39,
      "metadata": {},
      "outputs": [
        {
          "output_type": "execute_result",
          "data": {
            "text/plain": [
              "[0.5836868061449647,\n",
              " 0.5830660843834943,\n",
              " 0.5840695802835507,\n",
              " 0.583424724396411,\n",
              " 0.5832523032902618]"
            ]
          },
          "metadata": {},
          "execution_count": 39
        }
      ],
      "source": [
        "cv_values"
      ]
    },
    {
      "source": [
        ">*C=150 netted us the highest average cross validation score*"
      ],
      "cell_type": "markdown",
      "metadata": {}
    },
    {
      "cell_type": "markdown",
      "metadata": {
        "id": "eJ-5cPUp1Zbx"
      },
      "source": [
        "Re-train a logistic regression model using the best value of C identified by 10-fold CV on the training data and labels. Afterwards, do the following:\n",
        "\n",
        "- Determine the precision, recall, and F1-score of our model using a cutoff/threshold of 0.5 (hint: scikit-learn's *classification_report* function may be helpful)\n",
        "- Plot or otherwise generate a confusion matrix (SEE ABOVE)\n",
        "- Plot the ROC curve for our logistic regression model\n",
        "\n",
        "Note: the performance of our simple logistic regression model with just four features will not be very good, but this is not entirely unexpected. There are many other features that can be incorporated into the model to improve its performance; feel free to experiment!"
      ]
    },
    {
      "cell_type": "code",
      "execution_count": 61,
      "metadata": {},
      "outputs": [
        {
          "output_type": "execute_result",
          "data": {
            "text/plain": [
              "LogisticRegression(C=150, max_iter=1000)"
            ]
          },
          "metadata": {},
          "execution_count": 61
        }
      ],
      "source": [
        "logit = LogisticRegression(max_iter=1000, C=150)\n",
        "logit.fit(X_train, Y_train)"
      ]
    },
    {
      "cell_type": "code",
      "execution_count": 91,
      "metadata": {},
      "outputs": [
        {
          "output_type": "execute_result",
          "data": {
            "text/plain": [
              "array([[ 9442, 22398],\n",
              "       [ 7911, 32746]], dtype=int64)"
            ]
          },
          "metadata": {},
          "execution_count": 91
        }
      ],
      "source": [
        "results = logit.predict(x_test)\n",
        "confusion_matrix(y_test, results)"
      ]
    },
    {
      "cell_type": "markdown",
      "metadata": {
        "id": "y2JRNTiMmlDa"
      },
      "source": [
        "# Calculate Metrics\n",
        "Print the F1, F beta, precision, recall and accuracy scores."
      ]
    },
    {
      "cell_type": "code",
      "execution_count": 58,
      "metadata": {},
      "outputs": [
        {
          "output_type": "stream",
          "name": "stdout",
          "text": [
            "              precision    recall  f1-score   support\n\n           0       0.55      0.30      0.39    126959\n           1       0.60      0.81      0.69    163027\n\n    accuracy                           0.58    289986\n   macro avg       0.57      0.55      0.54    289986\nweighted avg       0.57      0.58      0.55    289986\n\n"
          ]
        }
      ],
      "source": [
        "train_pred = logit.predict(X_train)\n",
        "print(classification_report(Y_train, train_pred))"
      ]
    },
    {
      "cell_type": "code",
      "execution_count": 90,
      "metadata": {},
      "outputs": [
        {
          "output_type": "execute_result",
          "data": {
            "text/plain": [
              "{'accuracy': 0.5824103066333779,\n",
              " 'precision': 0.6074688968472478,\n",
              " 'recall': 0.7217699289175296,\n",
              " 'f1': 0.6597050492333978,\n",
              " 'fbeta_precision': 0.627338221775659,\n",
              " 'fbeta_recall': 0.6955934292554579}"
            ]
          },
          "metadata": {},
          "execution_count": 90
        }
      ],
      "source": [
        "from sklearn.metrics import accuracy_score, precision_score, recall_score, f1_score, fbeta_score, classification_report\n",
        "def CalculateMetrics(y_test, predictions):\n",
        "  return {'accuracy': accuracy_score(y_test, predictions),\n",
        "   'precision': precision_score(y_test, predictions),\n",
        "   'recall': recall_score(y_test, predictions),\n",
        "   'f1': f1_score(y_test, predictions),\n",
        "   'fbeta_precision' : fbeta_score(y_test, predictions, 0.5),\n",
        "   'fbeta_recall' : fbeta_score(y_test, predictions, 2)}\n",
        "\n",
        "CalculateMetrics(y_test, results)"
      ]
    },
    {
      "cell_type": "markdown",
      "metadata": {
        "id": "BaQivINtmyrQ"
      },
      "source": [
        "# Plot ROC Curve and AUC\n",
        "Calculate AUC and plot the curve."
      ]
    },
    {
      "cell_type": "code",
      "metadata": {
        "id": "J2B8YeWkm238"
      },
      "source": [
        "from sklearn.metrics import roc_curve, precision_recall_curve, roc_auc_score\n",
        "probs = lr.predict_proba(x_test)[:, 1]\n",
        "fpr, tpr, thresholds = roc_curve(y_test, probs)\n",
        "auc = roc_auc_score(y_test, probs)\n",
        "print('Area under the ROC curve: {:.3f}'.format(auc))\n",
        "\n",
        "fig = plt.figure(figsize = (6, 6))\n",
        "plt.plot([0, 1], [0, 1], 'k--')\n",
        "plt.plot(fpr, tpr)\n",
        "plt.fill(fpr, tpr, 'grey', alpha=0.3)\n",
        "plt.xlabel('False Positive Rate')\n",
        "plt.ylabel('True Positive Rate')\n",
        "plt.title('ROC curve for Logistic Regression Model')\n",
        "plt.show()"
      ],
      "execution_count": 92,
      "outputs": [
        {
          "output_type": "stream",
          "name": "stdout",
          "text": [
            "Area under the ROC curve: 0.615\n"
          ]
        },
        {
          "output_type": "display_data",
          "data": {
            "text/plain": "<Figure size 432x432 with 1 Axes>",
            "image/svg+xml": "<?xml version=\"1.0\" encoding=\"utf-8\" standalone=\"no\"?>\r\n<!DOCTYPE svg PUBLIC \"-//W3C//DTD SVG 1.1//EN\"\r\n  \"http://www.w3.org/Graphics/SVG/1.1/DTD/svg11.dtd\">\r\n<!-- Created with matplotlib (https://matplotlib.org/) -->\r\n<svg height=\"386.034375pt\" version=\"1.1\" viewBox=\"0 0 385.78125 386.034375\" width=\"385.78125pt\" xmlns=\"http://www.w3.org/2000/svg\" xmlns:xlink=\"http://www.w3.org/1999/xlink\">\r\n <defs>\r\n  <style type=\"text/css\">\r\n*{stroke-linecap:butt;stroke-linejoin:round;}\r\n  </style>\r\n </defs>\r\n <g id=\"figure_1\">\r\n  <g id=\"patch_1\">\r\n   <path d=\"M 0 386.034375 \r\nL 385.78125 386.034375 \r\nL 385.78125 0 \r\nL 0 0 \r\nz\r\n\" style=\"fill:none;\"/>\r\n  </g>\r\n  <g id=\"axes_1\">\r\n   <g id=\"patch_2\">\r\n    <path d=\"M 43.78125 348.478125 \r\nL 378.58125 348.478125 \r\nL 378.58125 22.318125 \r\nL 43.78125 22.318125 \r\nz\r\n\" style=\"fill:#ffffff;\"/>\r\n   </g>\r\n   <g id=\"patch_3\">\r\n    <path clip-path=\"url(#p32357fd6d4)\" d=\"M 58.999432 333.65267 \r\nL 58.999432 333.645378 \r\nL 58.999432 333.608913 \r\nL 58.999432 333.594327 \r\nL 58.999432 333.565155 \r\nL 58.999432 333.550569 \r\nL 58.999432 333.543276 \r\nL 59.008991 333.521398 \r\nL 59.008991 333.499519 \r\nL 59.01855 333.47764 \r\nL 59.01855 333.448468 \r\nL 59.01855 333.433882 \r\nL 59.01855 333.40471 \r\nL 59.047228 333.397418 \r\nL 59.047228 333.368246 \r\nL 59.047228 333.288023 \r\nL 59.047228 333.28073 \r\nL 59.047228 333.266145 \r\nL 59.056787 333.222387 \r\nL 59.056787 333.207801 \r\nL 59.056787 333.200508 \r\nL 59.066346 333.200508 \r\nL 59.066346 333.15675 \r\nL 59.066346 333.120286 \r\nL 59.066346 333.1057 \r\nL 59.066346 333.098407 \r\nL 59.066346 333.069235 \r\nL 59.075905 333.025478 \r\nL 59.075905 333.003599 \r\nL 59.075905 332.974427 \r\nL 59.104583 332.755639 \r\nL 59.104583 332.711881 \r\nL 59.104583 332.675416 \r\nL 59.104583 332.646245 \r\nL 59.104583 332.631659 \r\nL 59.104583 332.595194 \r\nL 59.104583 332.434749 \r\nL 59.104583 332.36182 \r\nL 59.104583 332.347234 \r\nL 59.104583 332.332648 \r\nL 59.114142 332.332648 \r\nL 59.13326 332.310769 \r\nL 59.13326 332.288891 \r\nL 59.13326 332.259719 \r\nL 59.142819 332.23784 \r\nL 59.142819 332.157618 \r\nL 59.142819 332.143032 \r\nL 59.142819 332.121153 \r\nL 59.161938 332.062809 \r\nL 59.161938 332.048223 \r\nL 59.171497 332.048223 \r\nL 59.171497 332.040931 \r\nL 59.190615 331.916951 \r\nL 59.190615 331.887779 \r\nL 59.190615 331.844021 \r\nL 59.190615 331.829435 \r\nL 59.257529 331.413738 \r\nL 59.267088 331.413738 \r\nL 59.267088 331.391859 \r\nL 59.276647 331.384566 \r\nL 59.276647 331.36998 \r\nL 59.276647 331.362687 \r\nL 59.286207 331.282465 \r\nL 59.286207 331.224121 \r\nL 59.286207 331.194949 \r\nL 59.286207 331.165778 \r\nL 59.295766 331.078262 \r\nL 59.324443 330.713615 \r\nL 59.324443 330.699029 \r\nL 59.324443 330.669858 \r\nL 59.324443 330.647979 \r\nL 59.324443 330.596928 \r\nL 59.324443 330.516706 \r\nL 59.324443 330.487534 \r\nL 59.324443 330.480241 \r\nL 59.324443 330.458362 \r\nL 59.324443 330.443777 \r\nL 59.324443 330.436484 \r\nL 59.334002 330.414605 \r\nL 59.334002 330.370847 \r\nL 59.353121 330.356261 \r\nL 59.353121 330.348968 \r\nL 59.391357 330.283332 \r\nL 59.391357 330.217695 \r\nL 59.391357 330.188524 \r\nL 59.391357 330.166645 \r\nL 59.391357 330.159352 \r\nL 59.410476 330.137473 \r\nL 59.410476 330.122887 \r\nL 59.429594 330.101008 \r\nL 59.458271 329.896806 \r\nL 59.467831 329.896806 \r\nL 59.467831 329.889513 \r\nL 59.506067 329.845755 \r\nL 59.506067 329.736361 \r\nL 59.525186 329.678018 \r\nL 59.525186 329.670725 \r\nL 59.553863 329.605088 \r\nL 59.563422 329.605088 \r\nL 59.563422 329.597795 \r\nL 59.563422 329.561331 \r\nL 59.563422 329.546745 \r\nL 59.563422 329.539452 \r\nL 59.754605 329.101875 \r\nL 59.764165 329.101875 \r\nL 59.764165 328.897673 \r\nL 59.792842 328.700764 \r\nL 59.802401 328.678885 \r\nL 59.802401 328.671592 \r\nL 59.81196 328.671592 \r\nL 59.831079 328.649713 \r\nL 59.945789 327.125489 \r\nL 59.945789 327.118196 \r\nL 59.945789 327.089024 \r\nL 59.945789 327.074438 \r\nL 59.955348 327.074438 \r\nL 59.955348 327.059852 \r\nL 59.974466 326.928579 \r\nL 59.984025 326.790013 \r\nL 59.984025 326.78272 \r\nL 59.993584 326.593104 \r\nL 60.003144 326.520174 \r\nL 60.003144 326.498296 \r\nL 60.003144 326.491003 \r\nL 60.012703 326.491003 \r\nL 60.012703 326.48371 \r\nL 60.012703 326.396194 \r\nL 60.012703 326.388901 \r\nL 60.04138 326.213871 \r\nL 60.04138 326.199285 \r\nL 60.04138 326.177406 \r\nL 60.050939 326.177406 \r\nL 60.242123 324.908435 \r\nL 60.242123 324.901142 \r\nL 60.251682 324.820919 \r\nL 60.261241 324.79904 \r\nL 60.261241 324.791747 \r\nL 60.261241 324.769869 \r\nL 60.261241 324.740697 \r\nL 60.261241 324.711525 \r\nL 60.2708 324.711525 \r\nL 60.2708 324.704232 \r\nL 60.280359 324.704232 \r\nL 60.280359 324.682353 \r\nL 60.280359 324.660475 \r\nL 60.299478 324.645889 \r\nL 60.309037 324.645889 \r\nL 60.309037 324.638596 \r\nL 60.309037 324.62401 \r\nL 60.309037 324.602131 \r\nL 60.309037 324.580252 \r\nL 60.309037 324.565666 \r\nL 60.309037 324.558373 \r\nL 60.318596 324.521909 \r\nL 60.328155 324.521909 \r\nL 60.328155 324.507323 \r\nL 60.328155 324.485444 \r\nL 60.328155 324.478151 \r\nL 60.337714 324.470858 \r\nL 60.337714 324.463565 \r\nL 60.337714 324.434393 \r\nL 60.337714 324.397929 \r\nL 60.347273 324.361464 \r\nL 60.347273 324.354171 \r\nL 60.38551 324.17914 \r\nL 60.38551 324.149969 \r\nL 60.395069 324.120797 \r\nL 60.395069 324.113504 \r\nL 60.404628 324.098918 \r\nL 60.404628 324.091625 \r\nL 60.423747 324.047868 \r\nL 60.423747 324.025989 \r\nL 60.423747 323.967645 \r\nL 60.423747 323.938473 \r\nL 60.423747 323.93118 \r\nL 60.442865 323.916595 \r\nL 60.442865 323.909302 \r\nL 60.452424 323.909302 \r\nL 60.461983 323.894716 \r\nL 60.471542 323.894716 \r\nL 60.471542 323.887423 \r\nL 60.481102 323.88013 \r\nL 60.481102 323.858251 \r\nL 60.481102 323.843665 \r\nL 60.481102 323.829079 \r\nL 60.481102 323.821786 \r\nL 60.490661 323.770736 \r\nL 60.490661 323.763443 \r\nL 60.490661 323.690513 \r\nL 60.576693 323.530069 \r\nL 60.586252 323.515483 \r\nL 60.61493 323.369624 \r\nL 60.61493 323.355038 \r\nL 60.662726 323.296695 \r\nL 60.672285 323.26023 \r\nL 60.672285 323.194593 \r\nL 60.672285 323.150836 \r\nL 60.672285 323.143543 \r\nL 60.672285 323.048735 \r\nL 60.672285 323.041442 \r\nL 60.672285 323.004977 \r\nL 60.700962 322.946633 \r\nL 60.700962 322.939341 \r\nL 60.710521 322.924755 \r\nL 60.720081 322.924755 \r\nL 60.720081 322.902876 \r\nL 60.777435 322.829946 \r\nL 60.777435 322.822653 \r\nL 60.777435 322.778896 \r\nL 60.786995 322.771603 \r\nL 60.84435 322.377784 \r\nL 60.84435 322.348612 \r\nL 60.84435 322.341319 \r\nL 60.873027 322.129824 \r\nL 60.911264 321.911036 \r\nL 60.911264 321.889157 \r\nL 60.939941 321.721419 \r\nL 60.9495 321.721419 \r\nL 60.9495 321.714126 \r\nL 61.016414 321.466167 \r\nL 61.016414 321.444288 \r\nL 61.016414 321.436995 \r\nL 61.016414 321.385944 \r\nL 61.016414 321.371358 \r\nL 61.016414 321.364065 \r\nL 61.025974 321.327601 \r\nL 61.025974 321.291136 \r\nL 61.025974 321.232792 \r\nL 61.647319 319.701275 \r\nL 61.647319 319.686689 \r\nL 61.685556 319.227234 \r\nL 61.953212 318.016606 \r\nL 61.953212 317.994727 \r\nL 61.953212 317.987434 \r\nL 61.962771 317.972848 \r\nL 61.962771 317.958262 \r\nL 61.98189 317.950969 \r\nL 61.98189 317.936383 \r\nL 61.98189 317.92909 \r\nL 61.98189 317.914504 \r\nL 61.98189 317.899918 \r\nL 61.991449 317.870747 \r\nL 61.991449 317.841575 \r\nL 61.991449 317.826989 \r\nL 61.991449 317.812403 \r\nL 62.001008 317.790524 \r\nL 62.001008 317.783231 \r\nL 62.66059 314.195105 \r\nL 62.698827 314.078418 \r\nL 62.708386 314.071125 \r\nL 62.717945 314.020074 \r\nL 62.727504 314.005488 \r\nL 62.737063 313.961731 \r\nL 62.746622 313.961731 \r\nL 62.746622 313.954438 \r\nL 62.765741 313.954438 \r\nL 62.765741 313.939852 \r\nL 62.765741 313.932559 \r\nL 62.7753 313.903387 \r\nL 62.7753 313.896094 \r\nL 62.7753 313.881508 \r\nL 62.851773 313.670013 \r\nL 62.861332 313.589791 \r\nL 62.899569 313.465811 \r\nL 63.023838 312.860496 \r\nL 63.052515 312.619829 \r\nL 63.138548 312.466678 \r\nL 63.148107 312.459385 \r\nL 63.148107 312.452092 \r\nL 63.157666 312.452092 \r\nL 63.157666 312.437506 \r\nL 63.167225 312.430213 \r\nL 63.176784 312.313526 \r\nL 63.205462 312.255182 \r\nL 63.205462 312.233304 \r\nL 63.215021 312.204132 \r\nL 63.215021 312.145788 \r\nL 63.291494 311.693626 \r\nL 63.301054 311.686333 \r\nL 63.329731 311.686333 \r\nL 63.348849 311.67904 \r\nL 63.387086 311.649868 \r\nL 63.396645 311.642575 \r\nL 63.396645 311.635282 \r\nL 63.406204 311.627989 \r\nL 63.406204 311.620697 \r\nL 63.415763 311.620697 \r\nL 63.415763 311.613404 \r\nL 64.304765 308.017984 \r\nL 64.304765 308.010691 \r\nL 64.314324 308.010691 \r\nL 64.314324 308.003398 \r\nL 64.314324 307.988812 \r\nL 64.323884 307.988812 \r\nL 64.323884 307.981519 \r\nL 64.352561 307.974226 \r\nL 64.352561 307.952347 \r\nL 64.36212 307.937761 \r\nL 64.36212 307.930469 \r\nL 64.400357 307.770024 \r\nL 64.400357 307.697094 \r\nL 64.400357 307.675216 \r\nL 64.400357 307.602286 \r\nL 64.400357 307.565821 \r\nL 64.419475 307.514771 \r\nL 64.419475 307.500185 \r\nL 64.429034 307.456427 \r\nL 64.448153 307.449134 \r\nL 64.457712 307.361619 \r\nL 64.457712 307.354326 \r\nL 64.486389 307.193882 \r\nL 64.486389 307.172003 \r\nL 64.495948 307.16471 \r\nL 64.495948 307.157417 \r\nL 64.505508 307.113659 \r\nL 64.505508 307.077194 \r\nL 64.515067 307.077194 \r\nL 64.515067 307.04073 \r\nL 64.524626 307.018851 \r\nL 64.534185 306.975093 \r\nL 64.534185 306.960507 \r\nL 64.543744 306.953214 \r\nL 64.543744 306.945922 \r\nL 64.543744 306.91675 \r\nL 64.543744 306.909457 \r\nL 64.553303 306.865699 \r\nL 64.553303 306.851113 \r\nL 64.562863 306.829234 \r\nL 64.581981 306.829234 \r\nL 64.581981 306.821942 \r\nL 64.59154 306.821942 \r\nL 64.59154 306.814649 \r\nL 64.639336 306.654204 \r\nL 64.648895 306.617739 \r\nL 64.648895 306.588567 \r\nL 64.696691 306.515638 \r\nL 64.696691 306.501052 \r\nL 64.70625 306.501052 \r\nL 64.70625 306.486466 \r\nL 64.725368 306.377072 \r\nL 64.725368 306.355193 \r\nL 64.725368 306.333315 \r\nL 64.725368 306.326022 \r\nL 64.725368 306.282264 \r\nL 64.744487 306.282264 \r\nL 64.763605 306.267678 \r\nL 64.773164 306.253092 \r\nL 64.782723 306.231213 \r\nL 64.792282 306.22392 \r\nL 64.801842 306.22392 \r\nL 64.811401 306.202042 \r\nL 64.811401 306.187456 \r\nL 64.840078 306.158284 \r\nL 64.859197 306.158284 \r\nL 64.859197 306.150991 \r\nL 64.878315 306.107233 \r\nL 64.878315 306.09994 \r\nL 65.212885 304.626766 \r\nL 65.212885 304.619473 \r\nL 65.222445 304.553837 \r\nL 65.232004 304.524665 \r\nL 65.241563 304.524665 \r\nL 65.260681 304.400685 \r\nL 65.308477 304.240241 \r\nL 65.318036 304.240241 \r\nL 65.327595 304.232948 \r\nL 65.356273 304.116261 \r\nL 65.356273 304.101675 \r\nL 65.356273 304.094382 \r\nL 65.365832 304.079796 \r\nL 65.365832 304.072503 \r\nL 65.375391 304.072503 \r\nL 65.375391 304.057917 \r\nL 65.394509 303.948523 \r\nL 65.413628 303.919351 \r\nL 65.470983 303.744321 \r\nL 65.470983 303.737028 \r\nL 65.490101 303.722442 \r\nL 65.490101 303.715149 \r\nL 65.576134 303.525532 \r\nL 65.595252 303.510946 \r\nL 65.604811 303.510946 \r\nL 65.776876 303.438017 \r\nL 65.776876 303.416138 \r\nL 65.786435 303.416138 \r\nL 65.872467 303.379674 \r\nL 66.092328 303.139006 \r\nL 66.111446 303.080663 \r\nL 66.111446 303.036905 \r\nL 66.111446 303.029612 \r\nL 66.168801 302.942097 \r\nL 66.18792 302.869168 \r\nL 66.18792 302.861875 \r\nL 66.197479 302.861875 \r\nL 66.207038 302.818117 \r\nL 66.283511 302.694137 \r\nL 66.29307 302.672258 \r\nL 66.30263 302.664965 \r\nL 66.503372 302.504521 \r\nL 66.541609 302.409712 \r\nL 66.780588 301.877328 \r\nL 67.277664 301.21367 \r\nL 67.43061 301.002175 \r\nL 67.765181 300.032214 \r\nL 67.803418 300.003042 \r\nL 67.812977 300.003042 \r\nL 67.812977 299.995749 \r\nL 67.956364 299.733203 \r\nL 68.023278 299.558173 \r\nL 68.042397 299.470657 \r\nL 68.252698 299.30292 \r\nL 68.262257 299.30292 \r\nL 68.357849 299.091424 \r\nL 68.357849 299.084131 \r\nL 68.367408 299.084131 \r\nL 68.692419 298.391302 \r\nL 68.721097 298.347544 \r\nL 68.730656 298.340251 \r\nL 68.740215 298.340251 \r\nL 68.740215 298.325666 \r\nL 68.749774 298.318373 \r\nL 68.768893 298.194393 \r\nL 68.778452 298.194393 \r\nL 68.788011 298.092291 \r\nL 68.788011 298.084999 \r\nL 68.79757 298.048534 \r\nL 68.79757 298.033948 \r\nL 68.79757 298.026655 \r\nL 68.807129 298.019362 \r\nL 69.160818 297.231724 \r\nL 69.199055 297.180674 \r\nL 69.208614 297.151502 \r\nL 70.604251 294.489579 \r\nL 70.690284 294.336427 \r\nL 70.690284 294.329134 \r\nL 70.690284 294.307255 \r\nL 70.699843 294.307255 \r\nL 70.709402 294.299962 \r\nL 71.063091 293.869679 \r\nL 71.455017 293.030991 \r\nL 71.483694 293.001819 \r\nL 71.512372 292.987233 \r\nL 71.856501 292.272525 \r\nL 71.86606 292.265232 \r\nL 71.87562 292.265232 \r\nL 71.885179 292.243353 \r\nL 71.885179 292.228767 \r\nL 71.894738 292.214181 \r\nL 71.904297 292.214181 \r\nL 71.904297 292.206888 \r\nL 71.952093 292.170424 \r\nL 71.971211 292.119373 \r\nL 71.971211 292.11208 \r\nL 71.971211 292.097494 \r\nL 71.990329 292.097494 \r\nL 72.496965 291.003553 \r\nL 72.516083 290.94521 \r\nL 72.611675 290.813937 \r\nL 72.640352 290.726421 \r\nL 72.707266 290.50034 \r\nL 72.707266 290.485754 \r\nL 72.802858 290.420118 \r\nL 72.860213 290.37636 \r\nL 72.869772 290.369067 \r\nL 72.869772 290.361774 \r\nL 72.974923 290.215916 \r\nL 73.0036 290.135693 \r\nL 73.0036 290.121107 \r\nL 73.041837 290.026299 \r\nL 73.127869 289.865854 \r\nL 73.127869 289.858561 \r\nL 73.137429 289.843976 \r\nL 76.282392 285.191079 \r\nL 76.377984 285.140029 \r\nL 76.387543 285.110857 \r\nL 77.133157 283.593925 \r\nL 80.85167 277.920017 \r\nL 80.870789 277.854381 \r\nL 80.870789 277.832502 \r\nL 80.880348 277.825209 \r\nL 80.899466 277.825209 \r\nL 80.937703 277.774159 \r\nL 80.937703 277.766866 \r\nL 80.956821 277.766866 \r\nL 81.004617 277.737694 \r\nL 81.042853 277.642886 \r\nL 81.052413 277.642886 \r\nL 81.061972 277.635593 \r\nL 81.08109 277.584542 \r\nL 81.090649 277.569956 \r\nL 81.100208 277.540785 \r\nL 81.119327 277.50432 \r\nL 81.138445 277.482441 \r\nL 81.138445 277.475148 \r\nL 81.167123 277.475148 \r\nL 81.224478 277.438683 \r\nL 81.262714 277.358461 \r\nL 81.31051 277.314703 \r\nL 81.463456 277.110501 \r\nL 81.568607 277.0084 \r\nL 81.578166 277.0084 \r\nL 81.606844 277.0084 \r\nL 81.625962 276.979228 \r\nL 81.75979 276.804198 \r\nL 81.75979 276.753147 \r\nL 81.76935 276.723975 \r\nL 93.278578 259.694959 \r\nL 93.766095 259.242796 \r\nL 93.766095 259.235503 \r\nL 93.82345 259.118816 \r\nL 94.005074 258.768755 \r\nL 94.04331 258.703119 \r\nL 94.052869 258.703119 \r\nL 94.167579 258.622896 \r\nL 94.177139 258.615603 \r\nL 94.186698 258.586432 \r\nL 94.196257 258.535381 \r\nL 94.196257 258.528088 \r\nL 94.244053 258.440573 \r\nL 94.244053 258.43328 \r\nL 94.27273 258.338472 \r\nL 94.27273 258.323886 \r\nL 94.27273 258.302007 \r\nL 94.282289 258.302007 \r\nL 94.291848 258.294714 \r\nL 94.291848 258.287421 \r\nL 94.368322 258.23637 \r\nL 94.932312 257.61647 \r\nL 94.941871 257.587299 \r\nL 94.941871 257.580006 \r\nL 95.06614 257.536248 \r\nL 95.104377 257.477905 \r\nL 95.104377 257.470612 \r\nL 95.113936 257.470612 \r\nL 95.142614 257.412268 \r\nL 95.190409 257.361218 \r\nL 95.209528 257.361218 \r\nL 96.442659 256.026609 \r\nL 96.729434 255.654669 \r\nL 96.729434 255.640084 \r\nL 97.45593 254.735759 \r\nL 99.817043 251.475814 \r\nL 100.629571 250.352702 \r\nL 100.648689 250.338116 \r\nL 100.658249 250.32353 \r\nL 101.566369 249.20771 \r\nL 101.623724 249.098316 \r\nL 101.623724 249.091023 \r\nL 101.633283 249.091023 \r\nL 101.633283 249.08373 \r\nL 101.642842 249.08373 \r\nL 101.66196 249.061851 \r\nL 101.738434 249.018093 \r\nL 101.738434 249.0108 \r\nL 101.77667 248.967043 \r\nL 101.834025 248.967043 \r\nL 101.834025 248.95975 \r\nL 101.843584 248.952457 \r\nL 101.843584 248.937871 \r\nL 101.881821 248.923285 \r\nL 101.881821 248.915992 \r\nL 102.560521 247.982496 \r\nL 103.210544 247.158393 \r\nL 103.220103 247.158393 \r\nL 103.277458 247.114636 \r\nL 103.459082 246.925019 \r\nL 103.48776 246.910434 \r\nL 103.48776 246.903141 \r\nL 103.659825 246.830211 \r\nL 103.669384 246.830211 \r\nL 103.669384 246.793746 \r\nL 103.755416 246.742696 \r\nL 105.638571 244.270389 \r\nL 105.667248 244.270389 \r\nL 105.695926 244.24851 \r\nL 105.734162 244.241217 \r\nL 105.76284 244.226631 \r\nL 105.781958 244.212045 \r\nL 105.810636 244.175581 \r\nL 105.848872 244.168288 \r\nL 105.848872 244.153702 \r\nL 105.867991 244.153702 \r\nL 105.887109 244.139116 \r\nL 105.896668 244.12453 \r\nL 105.906227 244.102651 \r\nL 107.426134 243.20562 \r\nL 107.904091 242.789922 \r\nL 107.904091 242.782629 \r\nL 107.932769 242.76075 \r\nL 107.932769 242.746164 \r\nL 107.990124 242.687821 \r\nL 107.990124 242.665942 \r\nL 107.990124 242.651356 \r\nL 108.047479 242.58572 \r\nL 108.057038 242.58572 \r\nL 108.085716 242.563841 \r\nL 108.133511 242.541962 \r\nL 130.406353 217.891822 \r\nL 130.43503 217.891822 \r\nL 130.43503 217.884529 \r\nL 130.444589 217.869944 \r\nL 130.454149 217.862651 \r\nL 130.463708 217.840772 \r\nL 130.492385 217.782428 \r\nL 130.501944 217.767842 \r\nL 130.501944 217.753257 \r\nL 130.521063 217.753257 \r\nL 130.521063 217.731378 \r\nL 130.530622 217.665741 \r\nL 130.540181 217.665741 \r\nL 131.324032 217.038548 \r\nL 131.324032 217.031255 \r\nL 131.486538 216.81976 \r\nL 131.486538 216.812467 \r\nL 131.563011 216.724952 \r\nL 131.563011 216.717659 \r\nL 131.582129 216.710366 \r\nL 131.601248 216.710366 \r\nL 131.639484 216.681194 \r\nL 131.639484 216.673901 \r\nL 131.649044 216.652022 \r\nL 131.782872 216.528042 \r\nL 131.80199 216.52075 \r\nL 131.80199 216.513457 \r\nL 131.80199 216.498871 \r\nL 131.80199 216.491578 \r\nL 131.830668 216.484285 \r\nL 131.830668 216.476992 \r\nL 133.245423 215.273657 \r\nL 133.245423 215.251778 \r\nL 133.245423 215.244485 \r\nL 133.254982 215.222606 \r\nL 133.264541 215.222606 \r\nL 133.532198 215.091333 \r\nL 133.599112 215.076747 \r\nL 133.599112 215.069454 \r\nL 133.61823 215.069454 \r\nL 133.694704 214.989232 \r\nL 134.000597 214.668343 \r\nL 134.210898 214.46414 \r\nL 134.220457 214.449554 \r\nL 134.325608 214.347453 \r\nL 134.325608 214.34016 \r\nL 134.344726 214.325574 \r\nL 134.478555 214.201594 \r\nL 134.497673 214.194301 \r\nL 134.555028 214.084907 \r\nL 134.612383 214.033857 \r\nL 134.631501 214.033857 \r\nL 134.707975 214.004685 \r\nL 135.262406 213.428543 \r\nL 135.262406 213.42125 \r\nL 135.262406 213.406664 \r\nL 135.281524 213.399371 \r\nL 135.300642 213.370199 \r\nL 139.047833 209.074657 \r\nL 139.047833 209.060071 \r\nL 139.047833 209.045485 \r\nL 139.391963 208.607909 \r\nL 139.391963 208.600616 \r\nL 139.401522 208.593323 \r\nL 139.401522 208.571444 \r\nL 139.401522 208.564151 \r\nL 140.835396 206.857603 \r\nL 140.864073 206.79926 \r\nL 140.864073 206.784674 \r\nL 140.864073 206.777381 \r\nL 143.674466 204.035235 \r\nL 143.74138 203.955013 \r\nL 143.760499 203.918548 \r\nL 143.770058 203.903962 \r\nL 143.817853 203.867497 \r\nL 143.836972 203.831033 \r\nL 143.85609 203.728932 \r\nL 143.85609 203.714346 \r\nL 144.76421 202.780849 \r\nL 144.773769 202.75897 \r\nL 145.137017 202.284929 \r\nL 145.137017 202.277636 \r\nL 145.156136 202.277636 \r\nL 145.175254 202.270343 \r\nL 145.175254 202.26305 \r\nL 145.242168 202.204707 \r\nL 145.242168 202.197414 \r\nL 145.261287 202.197414 \r\nL 145.261287 202.190121 \r\nL 145.261287 202.168242 \r\nL 145.758363 201.562928 \r\nL 145.777481 201.555635 \r\nL 145.78704 201.555635 \r\nL 145.78704 201.533756 \r\nL 145.863514 201.438948 \r\nL 145.959105 201.409776 \r\nL 145.959105 201.387898 \r\nL 145.959105 201.373312 \r\nL 145.978224 201.366019 \r\nL 145.978224 201.358726 \r\nL 145.987783 201.329554 \r\nL 146.198084 201.02325 \r\nL 146.274557 200.950321 \r\nL 146.293676 200.943028 \r\nL 146.312794 200.891978 \r\nL 146.312794 200.870099 \r\nL 146.733397 200.425229 \r\nL 146.752515 200.410643 \r\nL 146.762075 200.396058 \r\nL 146.790752 200.381472 \r\nL 146.81943 200.323128 \r\nL 146.838548 200.308542 \r\nL 146.838548 200.301249 \r\nL 146.857666 200.235613 \r\nL 146.867225 200.206441 \r\nL 146.895903 200.199148 \r\nL 147.010613 200.075168 \r\nL 147.154 199.958481 \r\nL 149.027595 198.127953 \r\nL 149.161424 197.931044 \r\nL 149.180542 197.901872 \r\nL 149.19966 197.901872 \r\nL 149.19966 197.894579 \r\nL 149.285693 197.807064 \r\nL 149.285693 197.74872 \r\nL 149.352607 197.668498 \r\nL 149.390843 197.646619 \r\nL 149.409962 197.646619 \r\nL 150.021748 196.990254 \r\nL 150.031307 196.990254 \r\nL 150.040866 196.982961 \r\nL 150.050425 196.982961 \r\nL 150.088662 196.946497 \r\nL 150.10778 196.931911 \r\nL 150.11734 196.931911 \r\nL 150.11734 196.924618 \r\nL 150.212931 196.851688 \r\nL 150.232049 196.851688 \r\nL 150.241609 196.82981 \r\nL 150.413673 196.589143 \r\nL 150.786481 196.33389 \r\nL 150.79604 196.275546 \r\nL 150.872513 196.20991 \r\nL 151.197525 195.859848 \r\nL 151.207084 195.845263 \r\nL 151.226202 195.845263 \r\nL 151.350471 195.743161 \r\nL 151.36003 195.728576 \r\nL 151.446063 195.662939 \r\nL 151.446063 195.655646 \r\nL 151.47474 195.648353 \r\nL 151.47474 195.64106 \r\nL 151.608568 195.59001 \r\nL 152.010053 195.261827 \r\nL 152.029171 195.254534 \r\nL 152.182118 195.072211 \r\nL 152.220355 195.064918 \r\nL 152.306387 194.999281 \r\nL 184.903121 166.265095 \r\nL 184.922239 166.265095 \r\nL 185.189896 166.119236 \r\nL 185.945069 165.455579 \r\nL 186.05022 165.375356 \r\nL 187.168642 164.390809 \r\nL 187.168642 164.383516 \r\nL 187.292911 164.325173 \r\nL 187.713514 164.033455 \r\nL 187.761309 163.94594 \r\nL 187.770869 163.931354 \r\nL 187.885578 163.836546 \r\nL 188.344418 163.274989 \r\nL 188.344418 163.267696 \r\nL 188.344418 163.25311 \r\nL 189.309893 162.363372 \r\nL 189.329012 162.348786 \r\nL 189.395926 162.297735 \r\nL 189.558431 162.144584 \r\nL 192.693836 159.344094 \r\nL 192.808546 159.227407 \r\nL 192.827664 159.227407 \r\nL 193.09532 158.98674 \r\nL 193.10488 158.98674 \r\nL 194.6917 157.156212 \r\nL 194.701259 157.156212 \r\nL 194.787292 157.039525 \r\nL 194.80641 157.039525 \r\nL 194.988034 156.813444 \r\nL 194.988034 156.798858 \r\nL 196.421908 155.909119 \r\nL 196.957221 155.420492 \r\nL 196.976339 155.384027 \r\nL 197.205759 155.252755 \r\nL 197.224877 155.208997 \r\nL 197.502093 154.786006 \r\nL 202.472856 150.723838 \r\nL 202.549329 150.621737 \r\nL 202.549329 150.607151 \r\nL 204.910441 148.747451 \r\nL 210.904034 143.562171 \r\nL 210.923153 143.562171 \r\nL 210.990067 143.503827 \r\nL 210.990067 143.489241 \r\nL 211.267282 143.233988 \r\nL 211.286401 143.212109 \r\nL 211.286401 143.204816 \r\nL 211.29596 143.168352 \r\nL 211.29596 143.161059 \r\nL 213.007049 141.65142 \r\nL 213.618836 140.827318 \r\nL 213.628395 140.827318 \r\nL 213.68575 140.798146 \r\nL 213.723986 140.768974 \r\nL 213.733546 140.768974 \r\nL 213.829137 140.725217 \r\nL 214.106353 140.550186 \r\nL 214.115912 140.5356 \r\nL 214.115912 140.528307 \r\nL 214.307095 140.324105 \r\nL 214.393128 140.294933 \r\nL 214.412246 140.294933 \r\nL 214.431364 140.28764 \r\nL 214.47916 140.23659 \r\nL 214.517397 140.214711 \r\nL 214.526956 140.214711 \r\nL 214.651225 140.141781 \r\nL 217.54765 137.589252 \r\nL 217.557209 137.581959 \r\nL 217.66236 137.50903 \r\nL 217.796188 137.406929 \r\nL 221.524261 133.672943 \r\nL 221.53382 133.672943 \r\nL 221.572056 133.66565 \r\nL 221.581615 133.66565 \r\nL 221.658089 133.454155 \r\nL 221.811035 133.315589 \r\nL 222.222079 133.140558 \r\nL 222.279434 133.125972 \r\nL 222.288993 133.118679 \r\nL 222.422821 133.023871 \r\nL 222.44194 133.023871 \r\nL 222.451499 133.016578 \r\nL 222.55665 132.965528 \r\nL 227.173724 129.238835 \r\nL 227.183283 129.238835 \r\nL 227.21196 129.231542 \r\nL 227.259756 129.209663 \r\nL 227.269315 129.209663 \r\nL 227.364907 129.187784 \r\nL 227.364907 129.180491 \r\nL 227.470058 129.122148 \r\nL 227.470058 129.107562 \r\nL 227.565649 129.056511 \r\nL 227.575208 129.056511 \r\nL 227.623004 129.02734 \r\nL 227.632563 129.020047 \r\nL 227.642123 129.020047 \r\nL 227.651682 128.998168 \r\nL 227.728155 128.917946 \r\nL 264.100757 101.780913 \r\nL 264.100757 101.77362 \r\nL 264.110316 101.744448 \r\nL 265.515512 100.694265 \r\nL 269.711983 97.565593 \r\nL 269.731102 97.565593 \r\nL 269.731102 97.5583 \r\nL 269.788456 97.536422 \r\nL 272.321634 95.574621 \r\nL 272.340752 95.574621 \r\nL 272.503258 95.516277 \r\nL 272.694441 95.392297 \r\nL 272.704 95.385004 \r\nL 272.704 95.370418 \r\nL 272.828269 95.093287 \r\nL 272.828269 95.085994 \r\nL 272.837828 95.085994 \r\nL 272.847388 95.078701 \r\nL 272.856947 95.078701 \r\nL 272.885624 95.056822 \r\nL 319.78286 58.212885 \r\nL 319.792419 58.212885 \r\nL 319.792419 58.205592 \r\nL 320.050517 57.957632 \r\nL 320.088753 57.943046 \r\nL 320.165227 57.913875 \r\nL 320.203463 57.884703 \r\nL 320.213022 57.848238 \r\nL 320.222582 57.848238 \r\nL 320.318173 57.731551 \r\nL 320.327732 57.731551 \r\nL 320.365969 57.724258 \r\nL 320.375528 57.724258 \r\nL 320.404206 57.724258 \r\nL 320.461561 57.716965 \r\nL 320.47112 57.716965 \r\nL 320.490238 57.709672 \r\nL 320.499797 57.702379 \r\nL 323.367545 56.316721 \r\nL 323.377104 56.309428 \r\nL 323.472696 56.272963 \r\nL 323.53961 56.185448 \r\nL 326.483831 54.369506 \r\nL 326.502949 54.369506 \r\nL 327.06694 53.91005 \r\nL 327.344155 53.720434 \r\nL 327.344155 53.698555 \r\nL 327.353715 53.691262 \r\nL 327.391951 53.691262 \r\nL 327.497102 53.647504 \r\nL 327.497102 53.640211 \r\nL 327.525779 53.640211 \r\nL 327.535339 53.625626 \r\nL 327.544898 53.618333 \r\nL 327.544898 53.61104 \r\nL 327.554457 53.61104 \r\nL 327.583134 53.596454 \r\nL 331.339884 52.013886 \r\nL 331.349443 52.013886 \r\nL 331.349443 51.992007 \r\nL 331.349443 51.984714 \r\nL 331.359002 51.984714 \r\nL 331.368562 51.962835 \r\nL 331.378121 51.962835 \r\nL 331.492831 51.911785 \r\nL 331.511949 51.911785 \r\nL 331.531067 51.889906 \r\nL 331.540626 51.889906 \r\nL 332.697285 51.00746 \r\nL 332.840672 50.93453 \r\nL 333.959094 50.044792 \r\nL 333.978212 50.044792 \r\nL 334.045126 50.030206 \r\nL 334.312783 49.964569 \r\nL 334.34146 49.964569 \r\nL 334.360578 49.957276 \r\nL 334.398815 49.913519 \r\nL 334.437052 49.89164 \r\nL 334.446611 49.884347 \r\nL 334.45617 49.884347 \r\nL 334.484848 49.877054 \r\nL 334.513525 49.877054 \r\nL 334.532643 49.877054 \r\nL 335.584151 49.242568 \r\nL 335.603269 49.242568 \r\nL 335.603269 49.235275 \r\nL 335.641506 49.198811 \r\nL 335.651065 49.198811 \r\nL 335.651065 49.184225 \r\nL 335.660624 49.184225 \r\nL 335.689302 49.176932 \r\nL 335.698861 49.176932 \r\nL 335.698861 49.169639 \r\nL 335.70842 49.169639 \r\nL 336.16726 48.834164 \r\nL 336.329765 48.717476 \r\nL 337.515101 46.967171 \r\nL 337.52466 46.967171 \r\nL 337.52466 46.959878 \r\nL 337.610693 46.901534 \r\nL 337.620252 46.901534 \r\nL 337.973941 46.719211 \r\nL 337.9835 46.719211 \r\nL 337.9835 46.711918 \r\nL 338.002618 46.690039 \r\nL 338.002618 46.682746 \r\nL 338.040855 46.638988 \r\nL 338.050414 46.631695 \r\nL 338.09821 46.631695 \r\nL 338.910738 46.113897 \r\nL 338.920298 46.113897 \r\nL 338.920298 46.106604 \r\nL 339.025448 46.011795 \r\nL 339.035007 46.011795 \r\nL 339.035007 45.99721 \r\nL 339.054126 45.953452 \r\nL 339.092362 45.953452 \r\nL 339.092362 45.946159 \r\nL 339.130599 45.8003 \r\nL 339.130599 45.785714 \r\nL 339.140158 45.771128 \r\nL 339.159276 45.741957 \r\nL 339.331341 45.596098 \r\nL 339.331341 45.581512 \r\nL 339.474729 45.530461 \r\nL 339.484288 45.523168 \r\nL 339.522525 45.493997 \r\nL 339.723267 45.391896 \r\nL 339.771063 45.370017 \r\nL 339.818858 45.311673 \r\nL 339.818858 45.297087 \r\nL 339.837977 45.275208 \r\nL 339.847536 45.275208 \r\nL 340.086515 45.173107 \r\nL 340.096074 45.136643 \r\nL 340.583591 44.844925 \r\nL 340.60271 44.830339 \r\nL 340.717419 44.750117 \r\nL 340.726979 44.750117 \r\nL 340.746097 44.742824 \r\nL 340.784334 44.742824 \r\nL 340.841689 44.713652 \r\nL 340.946839 44.669894 \r\nL 341.042431 44.5605 \r\nL 341.080668 44.494864 \r\nL 341.157141 44.472985 \r\nL 341.262292 44.43652 \r\nL 341.290969 44.392763 \r\nL 341.300528 44.378177 \r\nL 341.415238 44.297954 \r\nL 341.434356 44.290661 \r\nL 341.711572 44.152096 \r\nL 341.721131 44.144803 \r\nL 341.816723 44.086459 \r\nL 341.826282 44.086459 \r\nL 341.835841 44.079166 \r\nL 341.893196 44.057287 \r\nL 341.940992 44.049994 \r\nL 341.950551 44.049994 \r\nL 342.027024 44.035409 \r\nL 342.046143 44.020823 \r\nL 342.055702 44.020823 \r\nL 342.514541 43.430094 \r\nL 342.571896 43.386337 \r\nL 342.591015 43.386337 \r\nL 342.677047 43.291529 \r\nL 342.686606 43.284236 \r\nL 342.705725 43.26965 \r\nL 343.288833 42.460133 \r\nL 343.298393 42.460133 \r\nL 343.298393 42.45284 \r\nL 343.346188 42.394497 \r\nL 343.355747 42.387204 \r\nL 343.365307 42.387204 \r\nL 343.384425 42.372618 \r\nL 343.393984 42.372618 \r\nL 344.12048 42.124658 \r\nL 344.139599 42.124658 \r\nL 344.139599 42.102779 \r\nL 344.158717 42.102779 \r\nL 344.196954 42.095486 \r\nL 344.196954 42.088193 \r\nL 344.216072 42.088193 \r\nL 344.244749 42.0809 \r\nL 344.244749 42.073607 \r\nL 344.254308 42.073607 \r\nL 344.282986 42.015264 \r\nL 344.292545 42.015264 \r\nL 344.292545 42.007971 \r\nL 344.311663 42.000678 \r\nL 344.311663 41.986092 \r\nL 344.321223 41.986092 \r\nL 344.340341 41.978799 \r\nL 344.359459 41.978799 \r\nL 344.378578 41.971506 \r\nL 344.46461 41.942335 \r\nL 344.483728 41.935042 \r\nL 344.483728 41.913163 \r\nL 344.493287 41.90587 \r\nL 344.569761 41.847526 \r\nL 344.617557 41.847526 \r\nL 344.627116 41.847526 \r\nL 344.875654 41.730839 \r\nL 345.841129 41.446415 \r\nL 346.089667 41.344313 \r\nL 346.137463 41.33702 \r\nL 346.147022 41.33702 \r\nL 346.156581 41.329728 \r\nL 346.16614 41.329728 \r\nL 346.261732 41.307849 \r\nL 346.347764 41.307849 \r\nL 346.366883 41.307849 \r\nL 346.816163 41.147404 \r\nL 346.835282 41.140111 \r\nL 346.988228 41.030717 \r\nL 347.08382 40.979666 \r\nL 347.08382 40.96508 \r\nL 347.131615 40.950495 \r\nL 347.131615 40.935909 \r\nL 352.522981 39.375219 \r\nL 352.580336 39.367926 \r\nL 352.589896 39.367926 \r\nL 352.609014 39.360634 \r\nL 352.838434 39.30229 \r\nL 352.87667 39.30229 \r\nL 352.886229 39.280411 \r\nL 352.886229 39.273118 \r\nL 353.383306 39.141845 \r\nL 353.411983 39.141845 \r\nL 356.843721 38.295864 \r\nL 356.843721 38.288571 \r\nL 356.86284 38.288571 \r\nL 356.872399 38.288571 \r\nL 357.187851 38.120834 \r\nL 357.19741 38.120834 \r\nL 357.19741 38.113541 \r\nL 357.493744 38.033318 \r\nL 357.512863 38.033318 \r\nL 357.694487 37.953096 \r\nL 357.799637 37.916631 \r\nL 357.799637 37.909338 \r\nL 357.809197 37.902045 \r\nL 357.828315 37.902045 \r\nL 357.904788 37.858288 \r\nL 357.981261 37.829116 \r\nL 358.019498 37.821823 \r\nL 358.048176 37.821823 \r\nL 358.057735 37.821823 \r\nL 358.153326 37.799944 \r\nL 358.153326 37.792651 \r\nL 358.2298 37.792651 \r\nL 358.239359 37.785358 \r\nL 358.296714 37.785358 \r\nL 358.306273 37.785358 \r\nL 358.344509 37.785358 \r\nL 358.602607 37.770772 \r\nL 358.650403 37.76348 \r\nL 358.669521 37.76348 \r\nL 358.67908 37.76348 \r\nL 358.707758 37.748894 \r\nL 358.717317 37.748894 \r\nL 358.736435 37.748894 \r\nL 358.812908 37.741601 \r\nL 358.841586 37.741601 \r\nL 359.004091 37.69055 \r\nL 359.071006 37.668671 \r\nL 359.080565 37.668671 \r\nL 359.099683 37.668671 \r\nL 359.109242 37.668671 \r\nL 360.342374 37.544691 \r\nL 360.371051 37.544691 \r\nL 360.552675 37.522812 \r\nL 360.562234 37.522812 \r\nL 360.686504 37.51552 \r\nL 362.789519 37.180044 \r\nL 362.88511 37.172751 \r\nL 362.904229 37.172751 \r\nL 362.913788 37.172751 \r\nL 363.057175 37.165458 \r\nL 363.095412 37.158165 \r\nL 363.181444 37.158165 \r\nL 363.22924 37.150872 \r\nL 363.286595 37.150872 \r\nL 363.296154 37.150872 \r\nL 363.296154 37.14358 \r\nL 363.324832 37.14358 \r\nL 363.334391 37.14358 \r\nL 363.363068 37.14358 \r\nz\r\n\" style=\"fill:#808080;opacity:0.3;\"/>\r\n   </g>\r\n   <g id=\"matplotlib.axis_1\">\r\n    <g id=\"xtick_1\">\r\n     <g id=\"line2d_1\">\r\n      <defs>\r\n       <path d=\"M 0 0 \r\nL 0 3.5 \r\n\" id=\"mcb6c555315\" style=\"stroke:#000000;stroke-width:0.8;\"/>\r\n      </defs>\r\n      <g>\r\n       <use style=\"stroke:#000000;stroke-width:0.8;\" x=\"58.999432\" xlink:href=\"#mcb6c555315\" y=\"348.478125\"/>\r\n      </g>\r\n     </g>\r\n     <g id=\"text_1\">\r\n      <!-- 0.0 -->\r\n      <defs>\r\n       <path d=\"M 31.78125 66.40625 \r\nQ 24.171875 66.40625 20.328125 58.90625 \r\nQ 16.5 51.421875 16.5 36.375 \r\nQ 16.5 21.390625 20.328125 13.890625 \r\nQ 24.171875 6.390625 31.78125 6.390625 \r\nQ 39.453125 6.390625 43.28125 13.890625 \r\nQ 47.125 21.390625 47.125 36.375 \r\nQ 47.125 51.421875 43.28125 58.90625 \r\nQ 39.453125 66.40625 31.78125 66.40625 \r\nz\r\nM 31.78125 74.21875 \r\nQ 44.046875 74.21875 50.515625 64.515625 \r\nQ 56.984375 54.828125 56.984375 36.375 \r\nQ 56.984375 17.96875 50.515625 8.265625 \r\nQ 44.046875 -1.421875 31.78125 -1.421875 \r\nQ 19.53125 -1.421875 13.0625 8.265625 \r\nQ 6.59375 17.96875 6.59375 36.375 \r\nQ 6.59375 54.828125 13.0625 64.515625 \r\nQ 19.53125 74.21875 31.78125 74.21875 \r\nz\r\n\" id=\"DejaVuSans-48\"/>\r\n       <path d=\"M 10.6875 12.40625 \r\nL 21 12.40625 \r\nL 21 0 \r\nL 10.6875 0 \r\nz\r\n\" id=\"DejaVuSans-46\"/>\r\n      </defs>\r\n      <g transform=\"translate(51.047869 363.076562)scale(0.1 -0.1)\">\r\n       <use xlink:href=\"#DejaVuSans-48\"/>\r\n       <use x=\"63.623047\" xlink:href=\"#DejaVuSans-46\"/>\r\n       <use x=\"95.410156\" xlink:href=\"#DejaVuSans-48\"/>\r\n      </g>\r\n     </g>\r\n    </g>\r\n    <g id=\"xtick_2\">\r\n     <g id=\"line2d_2\">\r\n      <g>\r\n       <use style=\"stroke:#000000;stroke-width:0.8;\" x=\"119.872159\" xlink:href=\"#mcb6c555315\" y=\"348.478125\"/>\r\n      </g>\r\n     </g>\r\n     <g id=\"text_2\">\r\n      <!-- 0.2 -->\r\n      <defs>\r\n       <path d=\"M 19.1875 8.296875 \r\nL 53.609375 8.296875 \r\nL 53.609375 0 \r\nL 7.328125 0 \r\nL 7.328125 8.296875 \r\nQ 12.9375 14.109375 22.625 23.890625 \r\nQ 32.328125 33.6875 34.8125 36.53125 \r\nQ 39.546875 41.84375 41.421875 45.53125 \r\nQ 43.3125 49.21875 43.3125 52.78125 \r\nQ 43.3125 58.59375 39.234375 62.25 \r\nQ 35.15625 65.921875 28.609375 65.921875 \r\nQ 23.96875 65.921875 18.8125 64.3125 \r\nQ 13.671875 62.703125 7.8125 59.421875 \r\nL 7.8125 69.390625 \r\nQ 13.765625 71.78125 18.9375 73 \r\nQ 24.125 74.21875 28.421875 74.21875 \r\nQ 39.75 74.21875 46.484375 68.546875 \r\nQ 53.21875 62.890625 53.21875 53.421875 \r\nQ 53.21875 48.921875 51.53125 44.890625 \r\nQ 49.859375 40.875 45.40625 35.40625 \r\nQ 44.1875 33.984375 37.640625 27.21875 \r\nQ 31.109375 20.453125 19.1875 8.296875 \r\nz\r\n\" id=\"DejaVuSans-50\"/>\r\n      </defs>\r\n      <g transform=\"translate(111.920597 363.076562)scale(0.1 -0.1)\">\r\n       <use xlink:href=\"#DejaVuSans-48\"/>\r\n       <use x=\"63.623047\" xlink:href=\"#DejaVuSans-46\"/>\r\n       <use x=\"95.410156\" xlink:href=\"#DejaVuSans-50\"/>\r\n      </g>\r\n     </g>\r\n    </g>\r\n    <g id=\"xtick_3\">\r\n     <g id=\"line2d_3\">\r\n      <g>\r\n       <use style=\"stroke:#000000;stroke-width:0.8;\" x=\"180.744886\" xlink:href=\"#mcb6c555315\" y=\"348.478125\"/>\r\n      </g>\r\n     </g>\r\n     <g id=\"text_3\">\r\n      <!-- 0.4 -->\r\n      <defs>\r\n       <path d=\"M 37.796875 64.3125 \r\nL 12.890625 25.390625 \r\nL 37.796875 25.390625 \r\nz\r\nM 35.203125 72.90625 \r\nL 47.609375 72.90625 \r\nL 47.609375 25.390625 \r\nL 58.015625 25.390625 \r\nL 58.015625 17.1875 \r\nL 47.609375 17.1875 \r\nL 47.609375 0 \r\nL 37.796875 0 \r\nL 37.796875 17.1875 \r\nL 4.890625 17.1875 \r\nL 4.890625 26.703125 \r\nz\r\n\" id=\"DejaVuSans-52\"/>\r\n      </defs>\r\n      <g transform=\"translate(172.793324 363.076562)scale(0.1 -0.1)\">\r\n       <use xlink:href=\"#DejaVuSans-48\"/>\r\n       <use x=\"63.623047\" xlink:href=\"#DejaVuSans-46\"/>\r\n       <use x=\"95.410156\" xlink:href=\"#DejaVuSans-52\"/>\r\n      </g>\r\n     </g>\r\n    </g>\r\n    <g id=\"xtick_4\">\r\n     <g id=\"line2d_4\">\r\n      <g>\r\n       <use style=\"stroke:#000000;stroke-width:0.8;\" x=\"241.617614\" xlink:href=\"#mcb6c555315\" y=\"348.478125\"/>\r\n      </g>\r\n     </g>\r\n     <g id=\"text_4\">\r\n      <!-- 0.6 -->\r\n      <defs>\r\n       <path d=\"M 33.015625 40.375 \r\nQ 26.375 40.375 22.484375 35.828125 \r\nQ 18.609375 31.296875 18.609375 23.390625 \r\nQ 18.609375 15.53125 22.484375 10.953125 \r\nQ 26.375 6.390625 33.015625 6.390625 \r\nQ 39.65625 6.390625 43.53125 10.953125 \r\nQ 47.40625 15.53125 47.40625 23.390625 \r\nQ 47.40625 31.296875 43.53125 35.828125 \r\nQ 39.65625 40.375 33.015625 40.375 \r\nz\r\nM 52.59375 71.296875 \r\nL 52.59375 62.3125 \r\nQ 48.875 64.0625 45.09375 64.984375 \r\nQ 41.3125 65.921875 37.59375 65.921875 \r\nQ 27.828125 65.921875 22.671875 59.328125 \r\nQ 17.53125 52.734375 16.796875 39.40625 \r\nQ 19.671875 43.65625 24.015625 45.921875 \r\nQ 28.375 48.1875 33.59375 48.1875 \r\nQ 44.578125 48.1875 50.953125 41.515625 \r\nQ 57.328125 34.859375 57.328125 23.390625 \r\nQ 57.328125 12.15625 50.6875 5.359375 \r\nQ 44.046875 -1.421875 33.015625 -1.421875 \r\nQ 20.359375 -1.421875 13.671875 8.265625 \r\nQ 6.984375 17.96875 6.984375 36.375 \r\nQ 6.984375 53.65625 15.1875 63.9375 \r\nQ 23.390625 74.21875 37.203125 74.21875 \r\nQ 40.921875 74.21875 44.703125 73.484375 \r\nQ 48.484375 72.75 52.59375 71.296875 \r\nz\r\n\" id=\"DejaVuSans-54\"/>\r\n      </defs>\r\n      <g transform=\"translate(233.666051 363.076562)scale(0.1 -0.1)\">\r\n       <use xlink:href=\"#DejaVuSans-48\"/>\r\n       <use x=\"63.623047\" xlink:href=\"#DejaVuSans-46\"/>\r\n       <use x=\"95.410156\" xlink:href=\"#DejaVuSans-54\"/>\r\n      </g>\r\n     </g>\r\n    </g>\r\n    <g id=\"xtick_5\">\r\n     <g id=\"line2d_5\">\r\n      <g>\r\n       <use style=\"stroke:#000000;stroke-width:0.8;\" x=\"302.490341\" xlink:href=\"#mcb6c555315\" y=\"348.478125\"/>\r\n      </g>\r\n     </g>\r\n     <g id=\"text_5\">\r\n      <!-- 0.8 -->\r\n      <defs>\r\n       <path d=\"M 31.78125 34.625 \r\nQ 24.75 34.625 20.71875 30.859375 \r\nQ 16.703125 27.09375 16.703125 20.515625 \r\nQ 16.703125 13.921875 20.71875 10.15625 \r\nQ 24.75 6.390625 31.78125 6.390625 \r\nQ 38.8125 6.390625 42.859375 10.171875 \r\nQ 46.921875 13.96875 46.921875 20.515625 \r\nQ 46.921875 27.09375 42.890625 30.859375 \r\nQ 38.875 34.625 31.78125 34.625 \r\nz\r\nM 21.921875 38.8125 \r\nQ 15.578125 40.375 12.03125 44.71875 \r\nQ 8.5 49.078125 8.5 55.328125 \r\nQ 8.5 64.0625 14.71875 69.140625 \r\nQ 20.953125 74.21875 31.78125 74.21875 \r\nQ 42.671875 74.21875 48.875 69.140625 \r\nQ 55.078125 64.0625 55.078125 55.328125 \r\nQ 55.078125 49.078125 51.53125 44.71875 \r\nQ 48 40.375 41.703125 38.8125 \r\nQ 48.828125 37.15625 52.796875 32.3125 \r\nQ 56.78125 27.484375 56.78125 20.515625 \r\nQ 56.78125 9.90625 50.3125 4.234375 \r\nQ 43.84375 -1.421875 31.78125 -1.421875 \r\nQ 19.734375 -1.421875 13.25 4.234375 \r\nQ 6.78125 9.90625 6.78125 20.515625 \r\nQ 6.78125 27.484375 10.78125 32.3125 \r\nQ 14.796875 37.15625 21.921875 38.8125 \r\nz\r\nM 18.3125 54.390625 \r\nQ 18.3125 48.734375 21.84375 45.5625 \r\nQ 25.390625 42.390625 31.78125 42.390625 \r\nQ 38.140625 42.390625 41.71875 45.5625 \r\nQ 45.3125 48.734375 45.3125 54.390625 \r\nQ 45.3125 60.0625 41.71875 63.234375 \r\nQ 38.140625 66.40625 31.78125 66.40625 \r\nQ 25.390625 66.40625 21.84375 63.234375 \r\nQ 18.3125 60.0625 18.3125 54.390625 \r\nz\r\n\" id=\"DejaVuSans-56\"/>\r\n      </defs>\r\n      <g transform=\"translate(294.538778 363.076562)scale(0.1 -0.1)\">\r\n       <use xlink:href=\"#DejaVuSans-48\"/>\r\n       <use x=\"63.623047\" xlink:href=\"#DejaVuSans-46\"/>\r\n       <use x=\"95.410156\" xlink:href=\"#DejaVuSans-56\"/>\r\n      </g>\r\n     </g>\r\n    </g>\r\n    <g id=\"xtick_6\">\r\n     <g id=\"line2d_6\">\r\n      <g>\r\n       <use style=\"stroke:#000000;stroke-width:0.8;\" x=\"363.363068\" xlink:href=\"#mcb6c555315\" y=\"348.478125\"/>\r\n      </g>\r\n     </g>\r\n     <g id=\"text_6\">\r\n      <!-- 1.0 -->\r\n      <defs>\r\n       <path d=\"M 12.40625 8.296875 \r\nL 28.515625 8.296875 \r\nL 28.515625 63.921875 \r\nL 10.984375 60.40625 \r\nL 10.984375 69.390625 \r\nL 28.421875 72.90625 \r\nL 38.28125 72.90625 \r\nL 38.28125 8.296875 \r\nL 54.390625 8.296875 \r\nL 54.390625 0 \r\nL 12.40625 0 \r\nz\r\n\" id=\"DejaVuSans-49\"/>\r\n      </defs>\r\n      <g transform=\"translate(355.411506 363.076562)scale(0.1 -0.1)\">\r\n       <use xlink:href=\"#DejaVuSans-49\"/>\r\n       <use x=\"63.623047\" xlink:href=\"#DejaVuSans-46\"/>\r\n       <use x=\"95.410156\" xlink:href=\"#DejaVuSans-48\"/>\r\n      </g>\r\n     </g>\r\n    </g>\r\n    <g id=\"text_7\">\r\n     <!-- False Positive Rate -->\r\n     <defs>\r\n      <path d=\"M 9.8125 72.90625 \r\nL 51.703125 72.90625 \r\nL 51.703125 64.59375 \r\nL 19.671875 64.59375 \r\nL 19.671875 43.109375 \r\nL 48.578125 43.109375 \r\nL 48.578125 34.8125 \r\nL 19.671875 34.8125 \r\nL 19.671875 0 \r\nL 9.8125 0 \r\nz\r\n\" id=\"DejaVuSans-70\"/>\r\n      <path d=\"M 34.28125 27.484375 \r\nQ 23.390625 27.484375 19.1875 25 \r\nQ 14.984375 22.515625 14.984375 16.5 \r\nQ 14.984375 11.71875 18.140625 8.90625 \r\nQ 21.296875 6.109375 26.703125 6.109375 \r\nQ 34.1875 6.109375 38.703125 11.40625 \r\nQ 43.21875 16.703125 43.21875 25.484375 \r\nL 43.21875 27.484375 \r\nz\r\nM 52.203125 31.203125 \r\nL 52.203125 0 \r\nL 43.21875 0 \r\nL 43.21875 8.296875 \r\nQ 40.140625 3.328125 35.546875 0.953125 \r\nQ 30.953125 -1.421875 24.3125 -1.421875 \r\nQ 15.921875 -1.421875 10.953125 3.296875 \r\nQ 6 8.015625 6 15.921875 \r\nQ 6 25.140625 12.171875 29.828125 \r\nQ 18.359375 34.515625 30.609375 34.515625 \r\nL 43.21875 34.515625 \r\nL 43.21875 35.40625 \r\nQ 43.21875 41.609375 39.140625 45 \r\nQ 35.0625 48.390625 27.6875 48.390625 \r\nQ 23 48.390625 18.546875 47.265625 \r\nQ 14.109375 46.140625 10.015625 43.890625 \r\nL 10.015625 52.203125 \r\nQ 14.9375 54.109375 19.578125 55.046875 \r\nQ 24.21875 56 28.609375 56 \r\nQ 40.484375 56 46.34375 49.84375 \r\nQ 52.203125 43.703125 52.203125 31.203125 \r\nz\r\n\" id=\"DejaVuSans-97\"/>\r\n      <path d=\"M 9.421875 75.984375 \r\nL 18.40625 75.984375 \r\nL 18.40625 0 \r\nL 9.421875 0 \r\nz\r\n\" id=\"DejaVuSans-108\"/>\r\n      <path d=\"M 44.28125 53.078125 \r\nL 44.28125 44.578125 \r\nQ 40.484375 46.53125 36.375 47.5 \r\nQ 32.28125 48.484375 27.875 48.484375 \r\nQ 21.1875 48.484375 17.84375 46.4375 \r\nQ 14.5 44.390625 14.5 40.28125 \r\nQ 14.5 37.15625 16.890625 35.375 \r\nQ 19.28125 33.59375 26.515625 31.984375 \r\nL 29.59375 31.296875 \r\nQ 39.15625 29.25 43.1875 25.515625 \r\nQ 47.21875 21.78125 47.21875 15.09375 \r\nQ 47.21875 7.46875 41.1875 3.015625 \r\nQ 35.15625 -1.421875 24.609375 -1.421875 \r\nQ 20.21875 -1.421875 15.453125 -0.5625 \r\nQ 10.6875 0.296875 5.421875 2 \r\nL 5.421875 11.28125 \r\nQ 10.40625 8.6875 15.234375 7.390625 \r\nQ 20.0625 6.109375 24.8125 6.109375 \r\nQ 31.15625 6.109375 34.5625 8.28125 \r\nQ 37.984375 10.453125 37.984375 14.40625 \r\nQ 37.984375 18.0625 35.515625 20.015625 \r\nQ 33.0625 21.96875 24.703125 23.78125 \r\nL 21.578125 24.515625 \r\nQ 13.234375 26.265625 9.515625 29.90625 \r\nQ 5.8125 33.546875 5.8125 39.890625 \r\nQ 5.8125 47.609375 11.28125 51.796875 \r\nQ 16.75 56 26.8125 56 \r\nQ 31.78125 56 36.171875 55.265625 \r\nQ 40.578125 54.546875 44.28125 53.078125 \r\nz\r\n\" id=\"DejaVuSans-115\"/>\r\n      <path d=\"M 56.203125 29.59375 \r\nL 56.203125 25.203125 \r\nL 14.890625 25.203125 \r\nQ 15.484375 15.921875 20.484375 11.0625 \r\nQ 25.484375 6.203125 34.421875 6.203125 \r\nQ 39.59375 6.203125 44.453125 7.46875 \r\nQ 49.3125 8.734375 54.109375 11.28125 \r\nL 54.109375 2.78125 \r\nQ 49.265625 0.734375 44.1875 -0.34375 \r\nQ 39.109375 -1.421875 33.890625 -1.421875 \r\nQ 20.796875 -1.421875 13.15625 6.1875 \r\nQ 5.515625 13.8125 5.515625 26.8125 \r\nQ 5.515625 40.234375 12.765625 48.109375 \r\nQ 20.015625 56 32.328125 56 \r\nQ 43.359375 56 49.78125 48.890625 \r\nQ 56.203125 41.796875 56.203125 29.59375 \r\nz\r\nM 47.21875 32.234375 \r\nQ 47.125 39.59375 43.09375 43.984375 \r\nQ 39.0625 48.390625 32.421875 48.390625 \r\nQ 24.90625 48.390625 20.390625 44.140625 \r\nQ 15.875 39.890625 15.1875 32.171875 \r\nz\r\n\" id=\"DejaVuSans-101\"/>\r\n      <path id=\"DejaVuSans-32\"/>\r\n      <path d=\"M 19.671875 64.796875 \r\nL 19.671875 37.40625 \r\nL 32.078125 37.40625 \r\nQ 38.96875 37.40625 42.71875 40.96875 \r\nQ 46.484375 44.53125 46.484375 51.125 \r\nQ 46.484375 57.671875 42.71875 61.234375 \r\nQ 38.96875 64.796875 32.078125 64.796875 \r\nz\r\nM 9.8125 72.90625 \r\nL 32.078125 72.90625 \r\nQ 44.34375 72.90625 50.609375 67.359375 \r\nQ 56.890625 61.8125 56.890625 51.125 \r\nQ 56.890625 40.328125 50.609375 34.8125 \r\nQ 44.34375 29.296875 32.078125 29.296875 \r\nL 19.671875 29.296875 \r\nL 19.671875 0 \r\nL 9.8125 0 \r\nz\r\n\" id=\"DejaVuSans-80\"/>\r\n      <path d=\"M 30.609375 48.390625 \r\nQ 23.390625 48.390625 19.1875 42.75 \r\nQ 14.984375 37.109375 14.984375 27.296875 \r\nQ 14.984375 17.484375 19.15625 11.84375 \r\nQ 23.34375 6.203125 30.609375 6.203125 \r\nQ 37.796875 6.203125 41.984375 11.859375 \r\nQ 46.1875 17.53125 46.1875 27.296875 \r\nQ 46.1875 37.015625 41.984375 42.703125 \r\nQ 37.796875 48.390625 30.609375 48.390625 \r\nz\r\nM 30.609375 56 \r\nQ 42.328125 56 49.015625 48.375 \r\nQ 55.71875 40.765625 55.71875 27.296875 \r\nQ 55.71875 13.875 49.015625 6.21875 \r\nQ 42.328125 -1.421875 30.609375 -1.421875 \r\nQ 18.84375 -1.421875 12.171875 6.21875 \r\nQ 5.515625 13.875 5.515625 27.296875 \r\nQ 5.515625 40.765625 12.171875 48.375 \r\nQ 18.84375 56 30.609375 56 \r\nz\r\n\" id=\"DejaVuSans-111\"/>\r\n      <path d=\"M 9.421875 54.6875 \r\nL 18.40625 54.6875 \r\nL 18.40625 0 \r\nL 9.421875 0 \r\nz\r\nM 9.421875 75.984375 \r\nL 18.40625 75.984375 \r\nL 18.40625 64.59375 \r\nL 9.421875 64.59375 \r\nz\r\n\" id=\"DejaVuSans-105\"/>\r\n      <path d=\"M 18.3125 70.21875 \r\nL 18.3125 54.6875 \r\nL 36.8125 54.6875 \r\nL 36.8125 47.703125 \r\nL 18.3125 47.703125 \r\nL 18.3125 18.015625 \r\nQ 18.3125 11.328125 20.140625 9.421875 \r\nQ 21.96875 7.515625 27.59375 7.515625 \r\nL 36.8125 7.515625 \r\nL 36.8125 0 \r\nL 27.59375 0 \r\nQ 17.1875 0 13.234375 3.875 \r\nQ 9.28125 7.765625 9.28125 18.015625 \r\nL 9.28125 47.703125 \r\nL 2.6875 47.703125 \r\nL 2.6875 54.6875 \r\nL 9.28125 54.6875 \r\nL 9.28125 70.21875 \r\nz\r\n\" id=\"DejaVuSans-116\"/>\r\n      <path d=\"M 2.984375 54.6875 \r\nL 12.5 54.6875 \r\nL 29.59375 8.796875 \r\nL 46.6875 54.6875 \r\nL 56.203125 54.6875 \r\nL 35.6875 0 \r\nL 23.484375 0 \r\nz\r\n\" id=\"DejaVuSans-118\"/>\r\n      <path d=\"M 44.390625 34.1875 \r\nQ 47.5625 33.109375 50.5625 29.59375 \r\nQ 53.5625 26.078125 56.59375 19.921875 \r\nL 66.609375 0 \r\nL 56 0 \r\nL 46.6875 18.703125 \r\nQ 43.0625 26.03125 39.671875 28.421875 \r\nQ 36.28125 30.8125 30.421875 30.8125 \r\nL 19.671875 30.8125 \r\nL 19.671875 0 \r\nL 9.8125 0 \r\nL 9.8125 72.90625 \r\nL 32.078125 72.90625 \r\nQ 44.578125 72.90625 50.734375 67.671875 \r\nQ 56.890625 62.453125 56.890625 51.90625 \r\nQ 56.890625 45.015625 53.6875 40.46875 \r\nQ 50.484375 35.9375 44.390625 34.1875 \r\nz\r\nM 19.671875 64.796875 \r\nL 19.671875 38.921875 \r\nL 32.078125 38.921875 \r\nQ 39.203125 38.921875 42.84375 42.21875 \r\nQ 46.484375 45.515625 46.484375 51.90625 \r\nQ 46.484375 58.296875 42.84375 61.546875 \r\nQ 39.203125 64.796875 32.078125 64.796875 \r\nz\r\n\" id=\"DejaVuSans-82\"/>\r\n     </defs>\r\n     <g transform=\"translate(164.714844 376.754687)scale(0.1 -0.1)\">\r\n      <use xlink:href=\"#DejaVuSans-70\"/>\r\n      <use x=\"48.394531\" xlink:href=\"#DejaVuSans-97\"/>\r\n      <use x=\"109.673828\" xlink:href=\"#DejaVuSans-108\"/>\r\n      <use x=\"137.457031\" xlink:href=\"#DejaVuSans-115\"/>\r\n      <use x=\"189.556641\" xlink:href=\"#DejaVuSans-101\"/>\r\n      <use x=\"251.080078\" xlink:href=\"#DejaVuSans-32\"/>\r\n      <use x=\"282.867188\" xlink:href=\"#DejaVuSans-80\"/>\r\n      <use x=\"339.544922\" xlink:href=\"#DejaVuSans-111\"/>\r\n      <use x=\"400.726562\" xlink:href=\"#DejaVuSans-115\"/>\r\n      <use x=\"452.826172\" xlink:href=\"#DejaVuSans-105\"/>\r\n      <use x=\"480.609375\" xlink:href=\"#DejaVuSans-116\"/>\r\n      <use x=\"519.818359\" xlink:href=\"#DejaVuSans-105\"/>\r\n      <use x=\"547.601562\" xlink:href=\"#DejaVuSans-118\"/>\r\n      <use x=\"606.78125\" xlink:href=\"#DejaVuSans-101\"/>\r\n      <use x=\"668.304688\" xlink:href=\"#DejaVuSans-32\"/>\r\n      <use x=\"700.091797\" xlink:href=\"#DejaVuSans-82\"/>\r\n      <use x=\"767.324219\" xlink:href=\"#DejaVuSans-97\"/>\r\n      <use x=\"828.603516\" xlink:href=\"#DejaVuSans-116\"/>\r\n      <use x=\"867.8125\" xlink:href=\"#DejaVuSans-101\"/>\r\n     </g>\r\n    </g>\r\n   </g>\r\n   <g id=\"matplotlib.axis_2\">\r\n    <g id=\"ytick_1\">\r\n     <g id=\"line2d_7\">\r\n      <defs>\r\n       <path d=\"M 0 0 \r\nL -3.5 0 \r\n\" id=\"m4298861b7f\" style=\"stroke:#000000;stroke-width:0.8;\"/>\r\n      </defs>\r\n      <g>\r\n       <use style=\"stroke:#000000;stroke-width:0.8;\" x=\"43.78125\" xlink:href=\"#m4298861b7f\" y=\"333.65267\"/>\r\n      </g>\r\n     </g>\r\n     <g id=\"text_8\">\r\n      <!-- 0.0 -->\r\n      <g transform=\"translate(20.878125 337.451889)scale(0.1 -0.1)\">\r\n       <use xlink:href=\"#DejaVuSans-48\"/>\r\n       <use x=\"63.623047\" xlink:href=\"#DejaVuSans-46\"/>\r\n       <use x=\"95.410156\" xlink:href=\"#DejaVuSans-48\"/>\r\n      </g>\r\n     </g>\r\n    </g>\r\n    <g id=\"ytick_2\">\r\n     <g id=\"line2d_8\">\r\n      <g>\r\n       <use style=\"stroke:#000000;stroke-width:0.8;\" x=\"43.78125\" xlink:href=\"#m4298861b7f\" y=\"274.350852\"/>\r\n      </g>\r\n     </g>\r\n     <g id=\"text_9\">\r\n      <!-- 0.2 -->\r\n      <g transform=\"translate(20.878125 278.150071)scale(0.1 -0.1)\">\r\n       <use xlink:href=\"#DejaVuSans-48\"/>\r\n       <use x=\"63.623047\" xlink:href=\"#DejaVuSans-46\"/>\r\n       <use x=\"95.410156\" xlink:href=\"#DejaVuSans-50\"/>\r\n      </g>\r\n     </g>\r\n    </g>\r\n    <g id=\"ytick_3\">\r\n     <g id=\"line2d_9\">\r\n      <g>\r\n       <use style=\"stroke:#000000;stroke-width:0.8;\" x=\"43.78125\" xlink:href=\"#m4298861b7f\" y=\"215.049034\"/>\r\n      </g>\r\n     </g>\r\n     <g id=\"text_10\">\r\n      <!-- 0.4 -->\r\n      <g transform=\"translate(20.878125 218.848253)scale(0.1 -0.1)\">\r\n       <use xlink:href=\"#DejaVuSans-48\"/>\r\n       <use x=\"63.623047\" xlink:href=\"#DejaVuSans-46\"/>\r\n       <use x=\"95.410156\" xlink:href=\"#DejaVuSans-52\"/>\r\n      </g>\r\n     </g>\r\n    </g>\r\n    <g id=\"ytick_4\">\r\n     <g id=\"line2d_10\">\r\n      <g>\r\n       <use style=\"stroke:#000000;stroke-width:0.8;\" x=\"43.78125\" xlink:href=\"#m4298861b7f\" y=\"155.747216\"/>\r\n      </g>\r\n     </g>\r\n     <g id=\"text_11\">\r\n      <!-- 0.6 -->\r\n      <g transform=\"translate(20.878125 159.546435)scale(0.1 -0.1)\">\r\n       <use xlink:href=\"#DejaVuSans-48\"/>\r\n       <use x=\"63.623047\" xlink:href=\"#DejaVuSans-46\"/>\r\n       <use x=\"95.410156\" xlink:href=\"#DejaVuSans-54\"/>\r\n      </g>\r\n     </g>\r\n    </g>\r\n    <g id=\"ytick_5\">\r\n     <g id=\"line2d_11\">\r\n      <g>\r\n       <use style=\"stroke:#000000;stroke-width:0.8;\" x=\"43.78125\" xlink:href=\"#m4298861b7f\" y=\"96.445398\"/>\r\n      </g>\r\n     </g>\r\n     <g id=\"text_12\">\r\n      <!-- 0.8 -->\r\n      <g transform=\"translate(20.878125 100.244616)scale(0.1 -0.1)\">\r\n       <use xlink:href=\"#DejaVuSans-48\"/>\r\n       <use x=\"63.623047\" xlink:href=\"#DejaVuSans-46\"/>\r\n       <use x=\"95.410156\" xlink:href=\"#DejaVuSans-56\"/>\r\n      </g>\r\n     </g>\r\n    </g>\r\n    <g id=\"ytick_6\">\r\n     <g id=\"line2d_12\">\r\n      <g>\r\n       <use style=\"stroke:#000000;stroke-width:0.8;\" x=\"43.78125\" xlink:href=\"#m4298861b7f\" y=\"37.14358\"/>\r\n      </g>\r\n     </g>\r\n     <g id=\"text_13\">\r\n      <!-- 1.0 -->\r\n      <g transform=\"translate(20.878125 40.942798)scale(0.1 -0.1)\">\r\n       <use xlink:href=\"#DejaVuSans-49\"/>\r\n       <use x=\"63.623047\" xlink:href=\"#DejaVuSans-46\"/>\r\n       <use x=\"95.410156\" xlink:href=\"#DejaVuSans-48\"/>\r\n      </g>\r\n     </g>\r\n    </g>\r\n    <g id=\"text_14\">\r\n     <!-- True Positive Rate -->\r\n     <defs>\r\n      <path d=\"M -0.296875 72.90625 \r\nL 61.375 72.90625 \r\nL 61.375 64.59375 \r\nL 35.5 64.59375 \r\nL 35.5 0 \r\nL 25.59375 0 \r\nL 25.59375 64.59375 \r\nL -0.296875 64.59375 \r\nz\r\n\" id=\"DejaVuSans-84\"/>\r\n      <path d=\"M 41.109375 46.296875 \r\nQ 39.59375 47.171875 37.8125 47.578125 \r\nQ 36.03125 48 33.890625 48 \r\nQ 26.265625 48 22.1875 43.046875 \r\nQ 18.109375 38.09375 18.109375 28.8125 \r\nL 18.109375 0 \r\nL 9.078125 0 \r\nL 9.078125 54.6875 \r\nL 18.109375 54.6875 \r\nL 18.109375 46.1875 \r\nQ 20.953125 51.171875 25.484375 53.578125 \r\nQ 30.03125 56 36.53125 56 \r\nQ 37.453125 56 38.578125 55.875 \r\nQ 39.703125 55.765625 41.0625 55.515625 \r\nz\r\n\" id=\"DejaVuSans-114\"/>\r\n      <path d=\"M 8.5 21.578125 \r\nL 8.5 54.6875 \r\nL 17.484375 54.6875 \r\nL 17.484375 21.921875 \r\nQ 17.484375 14.15625 20.5 10.265625 \r\nQ 23.53125 6.390625 29.59375 6.390625 \r\nQ 36.859375 6.390625 41.078125 11.03125 \r\nQ 45.3125 15.671875 45.3125 23.6875 \r\nL 45.3125 54.6875 \r\nL 54.296875 54.6875 \r\nL 54.296875 0 \r\nL 45.3125 0 \r\nL 45.3125 8.40625 \r\nQ 42.046875 3.421875 37.71875 1 \r\nQ 33.40625 -1.421875 27.6875 -1.421875 \r\nQ 18.265625 -1.421875 13.375 4.4375 \r\nQ 8.5 10.296875 8.5 21.578125 \r\nz\r\nM 31.109375 56 \r\nz\r\n\" id=\"DejaVuSans-117\"/>\r\n     </defs>\r\n     <g transform=\"translate(14.798438 229.927812)rotate(-90)scale(0.1 -0.1)\">\r\n      <use xlink:href=\"#DejaVuSans-84\"/>\r\n      <use x=\"46.333984\" xlink:href=\"#DejaVuSans-114\"/>\r\n      <use x=\"87.447266\" xlink:href=\"#DejaVuSans-117\"/>\r\n      <use x=\"150.826172\" xlink:href=\"#DejaVuSans-101\"/>\r\n      <use x=\"212.349609\" xlink:href=\"#DejaVuSans-32\"/>\r\n      <use x=\"244.136719\" xlink:href=\"#DejaVuSans-80\"/>\r\n      <use x=\"300.814453\" xlink:href=\"#DejaVuSans-111\"/>\r\n      <use x=\"361.996094\" xlink:href=\"#DejaVuSans-115\"/>\r\n      <use x=\"414.095703\" xlink:href=\"#DejaVuSans-105\"/>\r\n      <use x=\"441.878906\" xlink:href=\"#DejaVuSans-116\"/>\r\n      <use x=\"481.087891\" xlink:href=\"#DejaVuSans-105\"/>\r\n      <use x=\"508.871094\" xlink:href=\"#DejaVuSans-118\"/>\r\n      <use x=\"568.050781\" xlink:href=\"#DejaVuSans-101\"/>\r\n      <use x=\"629.574219\" xlink:href=\"#DejaVuSans-32\"/>\r\n      <use x=\"661.361328\" xlink:href=\"#DejaVuSans-82\"/>\r\n      <use x=\"728.59375\" xlink:href=\"#DejaVuSans-97\"/>\r\n      <use x=\"789.873047\" xlink:href=\"#DejaVuSans-116\"/>\r\n      <use x=\"829.082031\" xlink:href=\"#DejaVuSans-101\"/>\r\n     </g>\r\n    </g>\r\n   </g>\r\n   <g id=\"line2d_13\">\r\n    <path clip-path=\"url(#p32357fd6d4)\" d=\"M 58.999432 333.65267 \r\nL 363.363068 37.14358 \r\n\" style=\"fill:none;stroke:#000000;stroke-dasharray:5.55,2.4;stroke-dashoffset:0;stroke-width:1.5;\"/>\r\n   </g>\r\n   <g id=\"line2d_14\">\r\n    <path clip-path=\"url(#p32357fd6d4)\" d=\"M 58.999432 333.65267 \r\nL 59.104583 332.332648 \r\nL 59.142819 332.23784 \r\nL 59.190615 331.829435 \r\nL 59.563422 329.539452 \r\nL 59.764165 328.897673 \r\nL 60.012703 326.48371 \r\nL 60.04138 326.177406 \r\nL 60.050939 326.177406 \r\nL 60.490661 323.690513 \r\nL 60.672285 323.143543 \r\nL 60.777435 322.778896 \r\nL 60.786995 322.771603 \r\nL 61.025974 321.232792 \r\nL 61.647319 319.686689 \r\nL 61.685556 319.227234 \r\nL 62.001008 317.783231 \r\nL 62.899569 313.465811 \r\nL 63.348849 311.67904 \r\nL 63.415763 311.613404 \r\nL 65.470983 303.737028 \r\nL 66.092328 303.139006 \r\nL 66.30263 302.664965 \r\nL 66.541609 302.409712 \r\nL 66.780588 301.877328 \r\nL 67.43061 301.002175 \r\nL 68.042397 299.470657 \r\nL 68.367408 299.084131 \r\nL 70.709402 294.299962 \r\nL 71.063091 293.869679 \r\nL 72.707266 290.485754 \r\nL 72.974923 290.215916 \r\nL 73.137429 289.843976 \r\nL 76.387543 285.110857 \r\nL 77.133157 283.593925 \r\nL 81.578166 277.0084 \r\nL 81.625962 276.979228 \r\nL 81.76935 276.723975 \r\nL 93.278578 259.694959 \r\nL 93.82345 259.118816 \r\nL 94.368322 258.23637 \r\nL 97.45593 254.735759 \r\nL 101.66196 249.061851 \r\nL 101.881821 248.915992 \r\nL 103.459082 246.925019 \r\nL 103.755416 246.742696 \r\nL 105.848872 244.153702 \r\nL 105.906227 244.102651 \r\nL 107.426134 243.20562 \r\nL 108.133511 242.541962 \r\nL 131.782872 216.528042 \r\nL 131.830668 216.476992 \r\nL 135.262406 213.42125 \r\nL 135.300642 213.370199 \r\nL 140.835396 206.857603 \r\nL 140.864073 206.777381 \r\nL 143.85609 203.714346 \r\nL 145.261287 202.168242 \r\nL 147.154 199.958481 \r\nL 149.409962 197.646619 \r\nL 150.413673 196.589143 \r\nL 150.872513 196.20991 \r\nL 151.47474 195.64106 \r\nL 151.608568 195.59001 \r\nL 152.306387 194.999281 \r\nL 187.168642 164.383516 \r\nL 187.713514 164.033455 \r\nL 187.885578 163.836546 \r\nL 188.344418 163.25311 \r\nL 193.10488 158.98674 \r\nL 194.988034 156.798858 \r\nL 196.421908 155.909119 \r\nL 197.502093 154.786006 \r\nL 204.910441 148.747451 \r\nL 213.007049 141.65142 \r\nL 213.829137 140.725217 \r\nL 214.651225 140.141781 \r\nL 217.796188 137.406929 \r\nL 221.811035 133.315589 \r\nL 222.55665 132.965528 \r\nL 227.575208 129.056511 \r\nL 227.728155 128.917946 \r\nL 272.704 95.370418 \r\nL 272.885624 95.056822 \r\nL 320.499797 57.702379 \r\nL 323.53961 56.185448 \r\nL 327.344155 53.720434 \r\nL 327.353715 53.691262 \r\nL 327.391951 53.691262 \r\nL 331.540626 51.889906 \r\nL 334.045126 50.030206 \r\nL 334.532643 49.877054 \r\nL 336.329765 48.717476 \r\nL 337.620252 46.901534 \r\nL 338.920298 46.106604 \r\nL 339.331341 45.596098 \r\nL 339.331341 45.581512 \r\nL 339.818858 45.297087 \r\nL 339.847536 45.275208 \r\nL 340.583591 44.844925 \r\nL 341.434356 44.290661 \r\nL 342.055702 44.020823 \r\nL 343.393984 42.372618 \r\nL 344.493287 41.90587 \r\nL 344.875654 41.730839 \r\nL 347.131615 40.950495 \r\nL 347.131615 40.935909 \r\nL 353.411983 39.141845 \r\nL 357.512863 38.033318 \r\nL 358.344509 37.785358 \r\nL 359.109242 37.668671 \r\nL 360.686504 37.51552 \r\nL 363.363068 37.14358 \r\nL 363.363068 37.14358 \r\n\" style=\"fill:none;stroke:#1f77b4;stroke-linecap:square;stroke-width:1.5;\"/>\r\n   </g>\r\n   <g id=\"patch_4\">\r\n    <path d=\"M 43.78125 348.478125 \r\nL 43.78125 22.318125 \r\n\" style=\"fill:none;stroke:#000000;stroke-linecap:square;stroke-linejoin:miter;stroke-width:0.8;\"/>\r\n   </g>\r\n   <g id=\"patch_5\">\r\n    <path d=\"M 378.58125 348.478125 \r\nL 378.58125 22.318125 \r\n\" style=\"fill:none;stroke:#000000;stroke-linecap:square;stroke-linejoin:miter;stroke-width:0.8;\"/>\r\n   </g>\r\n   <g id=\"patch_6\">\r\n    <path d=\"M 43.78125 348.478125 \r\nL 378.58125 348.478125 \r\n\" style=\"fill:none;stroke:#000000;stroke-linecap:square;stroke-linejoin:miter;stroke-width:0.8;\"/>\r\n   </g>\r\n   <g id=\"patch_7\">\r\n    <path d=\"M 43.78125 22.318125 \r\nL 378.58125 22.318125 \r\n\" style=\"fill:none;stroke:#000000;stroke-linecap:square;stroke-linejoin:miter;stroke-width:0.8;\"/>\r\n   </g>\r\n   <g id=\"text_15\">\r\n    <!-- ROC curve for Logistic Regression Model -->\r\n    <defs>\r\n     <path d=\"M 39.40625 66.21875 \r\nQ 28.65625 66.21875 22.328125 58.203125 \r\nQ 16.015625 50.203125 16.015625 36.375 \r\nQ 16.015625 22.609375 22.328125 14.59375 \r\nQ 28.65625 6.59375 39.40625 6.59375 \r\nQ 50.140625 6.59375 56.421875 14.59375 \r\nQ 62.703125 22.609375 62.703125 36.375 \r\nQ 62.703125 50.203125 56.421875 58.203125 \r\nQ 50.140625 66.21875 39.40625 66.21875 \r\nz\r\nM 39.40625 74.21875 \r\nQ 54.734375 74.21875 63.90625 63.9375 \r\nQ 73.09375 53.65625 73.09375 36.375 \r\nQ 73.09375 19.140625 63.90625 8.859375 \r\nQ 54.734375 -1.421875 39.40625 -1.421875 \r\nQ 24.03125 -1.421875 14.8125 8.828125 \r\nQ 5.609375 19.09375 5.609375 36.375 \r\nQ 5.609375 53.65625 14.8125 63.9375 \r\nQ 24.03125 74.21875 39.40625 74.21875 \r\nz\r\n\" id=\"DejaVuSans-79\"/>\r\n     <path d=\"M 64.40625 67.28125 \r\nL 64.40625 56.890625 \r\nQ 59.421875 61.53125 53.78125 63.8125 \r\nQ 48.140625 66.109375 41.796875 66.109375 \r\nQ 29.296875 66.109375 22.65625 58.46875 \r\nQ 16.015625 50.828125 16.015625 36.375 \r\nQ 16.015625 21.96875 22.65625 14.328125 \r\nQ 29.296875 6.6875 41.796875 6.6875 \r\nQ 48.140625 6.6875 53.78125 8.984375 \r\nQ 59.421875 11.28125 64.40625 15.921875 \r\nL 64.40625 5.609375 \r\nQ 59.234375 2.09375 53.4375 0.328125 \r\nQ 47.65625 -1.421875 41.21875 -1.421875 \r\nQ 24.65625 -1.421875 15.125 8.703125 \r\nQ 5.609375 18.84375 5.609375 36.375 \r\nQ 5.609375 53.953125 15.125 64.078125 \r\nQ 24.65625 74.21875 41.21875 74.21875 \r\nQ 47.75 74.21875 53.53125 72.484375 \r\nQ 59.328125 70.75 64.40625 67.28125 \r\nz\r\n\" id=\"DejaVuSans-67\"/>\r\n     <path d=\"M 48.78125 52.59375 \r\nL 48.78125 44.1875 \r\nQ 44.96875 46.296875 41.140625 47.34375 \r\nQ 37.3125 48.390625 33.40625 48.390625 \r\nQ 24.65625 48.390625 19.8125 42.84375 \r\nQ 14.984375 37.3125 14.984375 27.296875 \r\nQ 14.984375 17.28125 19.8125 11.734375 \r\nQ 24.65625 6.203125 33.40625 6.203125 \r\nQ 37.3125 6.203125 41.140625 7.25 \r\nQ 44.96875 8.296875 48.78125 10.40625 \r\nL 48.78125 2.09375 \r\nQ 45.015625 0.34375 40.984375 -0.53125 \r\nQ 36.96875 -1.421875 32.421875 -1.421875 \r\nQ 20.0625 -1.421875 12.78125 6.34375 \r\nQ 5.515625 14.109375 5.515625 27.296875 \r\nQ 5.515625 40.671875 12.859375 48.328125 \r\nQ 20.21875 56 33.015625 56 \r\nQ 37.15625 56 41.109375 55.140625 \r\nQ 45.0625 54.296875 48.78125 52.59375 \r\nz\r\n\" id=\"DejaVuSans-99\"/>\r\n     <path d=\"M 37.109375 75.984375 \r\nL 37.109375 68.5 \r\nL 28.515625 68.5 \r\nQ 23.6875 68.5 21.796875 66.546875 \r\nQ 19.921875 64.59375 19.921875 59.515625 \r\nL 19.921875 54.6875 \r\nL 34.71875 54.6875 \r\nL 34.71875 47.703125 \r\nL 19.921875 47.703125 \r\nL 19.921875 0 \r\nL 10.890625 0 \r\nL 10.890625 47.703125 \r\nL 2.296875 47.703125 \r\nL 2.296875 54.6875 \r\nL 10.890625 54.6875 \r\nL 10.890625 58.5 \r\nQ 10.890625 67.625 15.140625 71.796875 \r\nQ 19.390625 75.984375 28.609375 75.984375 \r\nz\r\n\" id=\"DejaVuSans-102\"/>\r\n     <path d=\"M 9.8125 72.90625 \r\nL 19.671875 72.90625 \r\nL 19.671875 8.296875 \r\nL 55.171875 8.296875 \r\nL 55.171875 0 \r\nL 9.8125 0 \r\nz\r\n\" id=\"DejaVuSans-76\"/>\r\n     <path d=\"M 45.40625 27.984375 \r\nQ 45.40625 37.75 41.375 43.109375 \r\nQ 37.359375 48.484375 30.078125 48.484375 \r\nQ 22.859375 48.484375 18.828125 43.109375 \r\nQ 14.796875 37.75 14.796875 27.984375 \r\nQ 14.796875 18.265625 18.828125 12.890625 \r\nQ 22.859375 7.515625 30.078125 7.515625 \r\nQ 37.359375 7.515625 41.375 12.890625 \r\nQ 45.40625 18.265625 45.40625 27.984375 \r\nz\r\nM 54.390625 6.78125 \r\nQ 54.390625 -7.171875 48.1875 -13.984375 \r\nQ 42 -20.796875 29.203125 -20.796875 \r\nQ 24.46875 -20.796875 20.265625 -20.09375 \r\nQ 16.0625 -19.390625 12.109375 -17.921875 \r\nL 12.109375 -9.1875 \r\nQ 16.0625 -11.328125 19.921875 -12.34375 \r\nQ 23.78125 -13.375 27.78125 -13.375 \r\nQ 36.625 -13.375 41.015625 -8.765625 \r\nQ 45.40625 -4.15625 45.40625 5.171875 \r\nL 45.40625 9.625 \r\nQ 42.625 4.78125 38.28125 2.390625 \r\nQ 33.9375 0 27.875 0 \r\nQ 17.828125 0 11.671875 7.65625 \r\nQ 5.515625 15.328125 5.515625 27.984375 \r\nQ 5.515625 40.671875 11.671875 48.328125 \r\nQ 17.828125 56 27.875 56 \r\nQ 33.9375 56 38.28125 53.609375 \r\nQ 42.625 51.21875 45.40625 46.390625 \r\nL 45.40625 54.6875 \r\nL 54.390625 54.6875 \r\nz\r\n\" id=\"DejaVuSans-103\"/>\r\n     <path d=\"M 54.890625 33.015625 \r\nL 54.890625 0 \r\nL 45.90625 0 \r\nL 45.90625 32.71875 \r\nQ 45.90625 40.484375 42.875 44.328125 \r\nQ 39.84375 48.1875 33.796875 48.1875 \r\nQ 26.515625 48.1875 22.3125 43.546875 \r\nQ 18.109375 38.921875 18.109375 30.90625 \r\nL 18.109375 0 \r\nL 9.078125 0 \r\nL 9.078125 54.6875 \r\nL 18.109375 54.6875 \r\nL 18.109375 46.1875 \r\nQ 21.34375 51.125 25.703125 53.5625 \r\nQ 30.078125 56 35.796875 56 \r\nQ 45.21875 56 50.046875 50.171875 \r\nQ 54.890625 44.34375 54.890625 33.015625 \r\nz\r\n\" id=\"DejaVuSans-110\"/>\r\n     <path d=\"M 9.8125 72.90625 \r\nL 24.515625 72.90625 \r\nL 43.109375 23.296875 \r\nL 61.8125 72.90625 \r\nL 76.515625 72.90625 \r\nL 76.515625 0 \r\nL 66.890625 0 \r\nL 66.890625 64.015625 \r\nL 48.09375 14.015625 \r\nL 38.1875 14.015625 \r\nL 19.390625 64.015625 \r\nL 19.390625 0 \r\nL 9.8125 0 \r\nz\r\n\" id=\"DejaVuSans-77\"/>\r\n     <path d=\"M 45.40625 46.390625 \r\nL 45.40625 75.984375 \r\nL 54.390625 75.984375 \r\nL 54.390625 0 \r\nL 45.40625 0 \r\nL 45.40625 8.203125 \r\nQ 42.578125 3.328125 38.25 0.953125 \r\nQ 33.9375 -1.421875 27.875 -1.421875 \r\nQ 17.96875 -1.421875 11.734375 6.484375 \r\nQ 5.515625 14.40625 5.515625 27.296875 \r\nQ 5.515625 40.1875 11.734375 48.09375 \r\nQ 17.96875 56 27.875 56 \r\nQ 33.9375 56 38.25 53.625 \r\nQ 42.578125 51.265625 45.40625 46.390625 \r\nz\r\nM 14.796875 27.296875 \r\nQ 14.796875 17.390625 18.875 11.75 \r\nQ 22.953125 6.109375 30.078125 6.109375 \r\nQ 37.203125 6.109375 41.296875 11.75 \r\nQ 45.40625 17.390625 45.40625 27.296875 \r\nQ 45.40625 37.203125 41.296875 42.84375 \r\nQ 37.203125 48.484375 30.078125 48.484375 \r\nQ 22.953125 48.484375 18.875 42.84375 \r\nQ 14.796875 37.203125 14.796875 27.296875 \r\nz\r\n\" id=\"DejaVuSans-100\"/>\r\n    </defs>\r\n    <g transform=\"translate(89.843438 16.318125)scale(0.12 -0.12)\">\r\n     <use xlink:href=\"#DejaVuSans-82\"/>\r\n     <use x=\"69.482422\" xlink:href=\"#DejaVuSans-79\"/>\r\n     <use x=\"148.193359\" xlink:href=\"#DejaVuSans-67\"/>\r\n     <use x=\"218.017578\" xlink:href=\"#DejaVuSans-32\"/>\r\n     <use x=\"249.804688\" xlink:href=\"#DejaVuSans-99\"/>\r\n     <use x=\"304.785156\" xlink:href=\"#DejaVuSans-117\"/>\r\n     <use x=\"368.164062\" xlink:href=\"#DejaVuSans-114\"/>\r\n     <use x=\"409.277344\" xlink:href=\"#DejaVuSans-118\"/>\r\n     <use x=\"468.457031\" xlink:href=\"#DejaVuSans-101\"/>\r\n     <use x=\"529.980469\" xlink:href=\"#DejaVuSans-32\"/>\r\n     <use x=\"561.767578\" xlink:href=\"#DejaVuSans-102\"/>\r\n     <use x=\"596.972656\" xlink:href=\"#DejaVuSans-111\"/>\r\n     <use x=\"658.154297\" xlink:href=\"#DejaVuSans-114\"/>\r\n     <use x=\"699.267578\" xlink:href=\"#DejaVuSans-32\"/>\r\n     <use x=\"731.054688\" xlink:href=\"#DejaVuSans-76\"/>\r\n     <use x=\"785.017578\" xlink:href=\"#DejaVuSans-111\"/>\r\n     <use x=\"846.199219\" xlink:href=\"#DejaVuSans-103\"/>\r\n     <use x=\"909.675781\" xlink:href=\"#DejaVuSans-105\"/>\r\n     <use x=\"937.458984\" xlink:href=\"#DejaVuSans-115\"/>\r\n     <use x=\"989.558594\" xlink:href=\"#DejaVuSans-116\"/>\r\n     <use x=\"1028.767578\" xlink:href=\"#DejaVuSans-105\"/>\r\n     <use x=\"1056.550781\" xlink:href=\"#DejaVuSans-99\"/>\r\n     <use x=\"1111.53125\" xlink:href=\"#DejaVuSans-32\"/>\r\n     <use x=\"1143.318359\" xlink:href=\"#DejaVuSans-82\"/>\r\n     <use x=\"1208.300781\" xlink:href=\"#DejaVuSans-101\"/>\r\n     <use x=\"1269.824219\" xlink:href=\"#DejaVuSans-103\"/>\r\n     <use x=\"1333.300781\" xlink:href=\"#DejaVuSans-114\"/>\r\n     <use x=\"1372.164062\" xlink:href=\"#DejaVuSans-101\"/>\r\n     <use x=\"1433.6875\" xlink:href=\"#DejaVuSans-115\"/>\r\n     <use x=\"1485.787109\" xlink:href=\"#DejaVuSans-115\"/>\r\n     <use x=\"1537.886719\" xlink:href=\"#DejaVuSans-105\"/>\r\n     <use x=\"1565.669922\" xlink:href=\"#DejaVuSans-111\"/>\r\n     <use x=\"1626.851562\" xlink:href=\"#DejaVuSans-110\"/>\r\n     <use x=\"1690.230469\" xlink:href=\"#DejaVuSans-32\"/>\r\n     <use x=\"1722.017578\" xlink:href=\"#DejaVuSans-77\"/>\r\n     <use x=\"1808.296875\" xlink:href=\"#DejaVuSans-111\"/>\r\n     <use x=\"1869.478516\" xlink:href=\"#DejaVuSans-100\"/>\r\n     <use x=\"1932.955078\" xlink:href=\"#DejaVuSans-101\"/>\r\n     <use x=\"1994.478516\" xlink:href=\"#DejaVuSans-108\"/>\r\n    </g>\r\n   </g>\r\n  </g>\r\n </g>\r\n <defs>\r\n  <clipPath id=\"p32357fd6d4\">\r\n   <rect height=\"326.16\" width=\"334.8\" x=\"43.78125\" y=\"22.318125\"/>\r\n  </clipPath>\r\n </defs>\r\n</svg>\r\n",
            "image/png": "[encoded data removed]"
          },
          "metadata": {
            "needs_background": "light"
          }
        }
      ]
    },
    {
      "cell_type": "markdown",
      "metadata": {
        "id": "-XhwRkBbm3N7"
      },
      "source": [
        "# Plot Precision-Recall Curve\n",
        "Plot the precision-recall curve for the model above.\n",
        "\n",
        "Find the best value for C in the Logistic Regression Classifier for avoiding overfitting. Plot the training and testing accuracy over a range of C values from 0.05 to 1.5."
      ]
    },
    {
      "cell_type": "code",
      "metadata": {
        "id": "a8E0vBTgm7TL"
      },
      "source": [
        "#Do A little work to figure this one out\n",
        "from sklearn.metrics import precision_recall_curve\n",
        "pres, rec, thresholds = precision_recall_curve(y_test, results)\n",
        "\n",
        "fig = plt.figure(figsize = (6, 6))\n",
        "plt.plot(rec, pres)\n",
        "plt.xlabel('Recall')\n",
        "plt.ylabel('Precision')\n",
        "plt.title('Precision-Recall Curve')\n",
        "plt.show()"
      ],
      "execution_count": 93,
      "outputs": [
        {
          "output_type": "display_data",
          "data": {
            "text/plain": "<Figure size 432x432 with 1 Axes>",
            "image/svg+xml": "<?xml version=\"1.0\" encoding=\"utf-8\" standalone=\"no\"?>\r\n<!DOCTYPE svg PUBLIC \"-//W3C//DTD SVG 1.1//EN\"\r\n  \"http://www.w3.org/Graphics/SVG/1.1/DTD/svg11.dtd\">\r\n<!-- Created with matplotlib (https://matplotlib.org/) -->\r\n<svg height=\"386.034375pt\" version=\"1.1\" viewBox=\"0 0 385.78125 386.034375\" width=\"385.78125pt\" xmlns=\"http://www.w3.org/2000/svg\" xmlns:xlink=\"http://www.w3.org/1999/xlink\">\r\n <defs>\r\n  <style type=\"text/css\">\r\n*{stroke-linecap:butt;stroke-linejoin:round;}\r\n  </style>\r\n </defs>\r\n <g id=\"figure_1\">\r\n  <g id=\"patch_1\">\r\n   <path d=\"M 0 386.034375 \r\nL 385.78125 386.034375 \r\nL 385.78125 0 \r\nL 0 0 \r\nz\r\n\" style=\"fill:none;\"/>\r\n  </g>\r\n  <g id=\"axes_1\">\r\n   <g id=\"patch_2\">\r\n    <path d=\"M 43.78125 348.478125 \r\nL 378.58125 348.478125 \r\nL 378.58125 22.318125 \r\nL 43.78125 22.318125 \r\nz\r\n\" style=\"fill:#ffffff;\"/>\r\n   </g>\r\n   <g id=\"matplotlib.axis_1\">\r\n    <g id=\"xtick_1\">\r\n     <g id=\"line2d_1\">\r\n      <defs>\r\n       <path d=\"M 0 0 \r\nL 0 3.5 \r\n\" id=\"m8f1655932d\" style=\"stroke:#000000;stroke-width:0.8;\"/>\r\n      </defs>\r\n      <g>\r\n       <use style=\"stroke:#000000;stroke-width:0.8;\" x=\"58.999432\" xlink:href=\"#m8f1655932d\" y=\"348.478125\"/>\r\n      </g>\r\n     </g>\r\n     <g id=\"text_1\">\r\n      <!-- 0.0 -->\r\n      <defs>\r\n       <path d=\"M 31.78125 66.40625 \r\nQ 24.171875 66.40625 20.328125 58.90625 \r\nQ 16.5 51.421875 16.5 36.375 \r\nQ 16.5 21.390625 20.328125 13.890625 \r\nQ 24.171875 6.390625 31.78125 6.390625 \r\nQ 39.453125 6.390625 43.28125 13.890625 \r\nQ 47.125 21.390625 47.125 36.375 \r\nQ 47.125 51.421875 43.28125 58.90625 \r\nQ 39.453125 66.40625 31.78125 66.40625 \r\nz\r\nM 31.78125 74.21875 \r\nQ 44.046875 74.21875 50.515625 64.515625 \r\nQ 56.984375 54.828125 56.984375 36.375 \r\nQ 56.984375 17.96875 50.515625 8.265625 \r\nQ 44.046875 -1.421875 31.78125 -1.421875 \r\nQ 19.53125 -1.421875 13.0625 8.265625 \r\nQ 6.59375 17.96875 6.59375 36.375 \r\nQ 6.59375 54.828125 13.0625 64.515625 \r\nQ 19.53125 74.21875 31.78125 74.21875 \r\nz\r\n\" id=\"DejaVuSans-48\"/>\r\n       <path d=\"M 10.6875 12.40625 \r\nL 21 12.40625 \r\nL 21 0 \r\nL 10.6875 0 \r\nz\r\n\" id=\"DejaVuSans-46\"/>\r\n      </defs>\r\n      <g transform=\"translate(51.047869 363.076562)scale(0.1 -0.1)\">\r\n       <use xlink:href=\"#DejaVuSans-48\"/>\r\n       <use x=\"63.623047\" xlink:href=\"#DejaVuSans-46\"/>\r\n       <use x=\"95.410156\" xlink:href=\"#DejaVuSans-48\"/>\r\n      </g>\r\n     </g>\r\n    </g>\r\n    <g id=\"xtick_2\">\r\n     <g id=\"line2d_2\">\r\n      <g>\r\n       <use style=\"stroke:#000000;stroke-width:0.8;\" x=\"119.872159\" xlink:href=\"#m8f1655932d\" y=\"348.478125\"/>\r\n      </g>\r\n     </g>\r\n     <g id=\"text_2\">\r\n      <!-- 0.2 -->\r\n      <defs>\r\n       <path d=\"M 19.1875 8.296875 \r\nL 53.609375 8.296875 \r\nL 53.609375 0 \r\nL 7.328125 0 \r\nL 7.328125 8.296875 \r\nQ 12.9375 14.109375 22.625 23.890625 \r\nQ 32.328125 33.6875 34.8125 36.53125 \r\nQ 39.546875 41.84375 41.421875 45.53125 \r\nQ 43.3125 49.21875 43.3125 52.78125 \r\nQ 43.3125 58.59375 39.234375 62.25 \r\nQ 35.15625 65.921875 28.609375 65.921875 \r\nQ 23.96875 65.921875 18.8125 64.3125 \r\nQ 13.671875 62.703125 7.8125 59.421875 \r\nL 7.8125 69.390625 \r\nQ 13.765625 71.78125 18.9375 73 \r\nQ 24.125 74.21875 28.421875 74.21875 \r\nQ 39.75 74.21875 46.484375 68.546875 \r\nQ 53.21875 62.890625 53.21875 53.421875 \r\nQ 53.21875 48.921875 51.53125 44.890625 \r\nQ 49.859375 40.875 45.40625 35.40625 \r\nQ 44.1875 33.984375 37.640625 27.21875 \r\nQ 31.109375 20.453125 19.1875 8.296875 \r\nz\r\n\" id=\"DejaVuSans-50\"/>\r\n      </defs>\r\n      <g transform=\"translate(111.920597 363.076562)scale(0.1 -0.1)\">\r\n       <use xlink:href=\"#DejaVuSans-48\"/>\r\n       <use x=\"63.623047\" xlink:href=\"#DejaVuSans-46\"/>\r\n       <use x=\"95.410156\" xlink:href=\"#DejaVuSans-50\"/>\r\n      </g>\r\n     </g>\r\n    </g>\r\n    <g id=\"xtick_3\">\r\n     <g id=\"line2d_3\">\r\n      <g>\r\n       <use style=\"stroke:#000000;stroke-width:0.8;\" x=\"180.744886\" xlink:href=\"#m8f1655932d\" y=\"348.478125\"/>\r\n      </g>\r\n     </g>\r\n     <g id=\"text_3\">\r\n      <!-- 0.4 -->\r\n      <defs>\r\n       <path d=\"M 37.796875 64.3125 \r\nL 12.890625 25.390625 \r\nL 37.796875 25.390625 \r\nz\r\nM 35.203125 72.90625 \r\nL 47.609375 72.90625 \r\nL 47.609375 25.390625 \r\nL 58.015625 25.390625 \r\nL 58.015625 17.1875 \r\nL 47.609375 17.1875 \r\nL 47.609375 0 \r\nL 37.796875 0 \r\nL 37.796875 17.1875 \r\nL 4.890625 17.1875 \r\nL 4.890625 26.703125 \r\nz\r\n\" id=\"DejaVuSans-52\"/>\r\n      </defs>\r\n      <g transform=\"translate(172.793324 363.076562)scale(0.1 -0.1)\">\r\n       <use xlink:href=\"#DejaVuSans-48\"/>\r\n       <use x=\"63.623047\" xlink:href=\"#DejaVuSans-46\"/>\r\n       <use x=\"95.410156\" xlink:href=\"#DejaVuSans-52\"/>\r\n      </g>\r\n     </g>\r\n    </g>\r\n    <g id=\"xtick_4\">\r\n     <g id=\"line2d_4\">\r\n      <g>\r\n       <use style=\"stroke:#000000;stroke-width:0.8;\" x=\"241.617614\" xlink:href=\"#m8f1655932d\" y=\"348.478125\"/>\r\n      </g>\r\n     </g>\r\n     <g id=\"text_4\">\r\n      <!-- 0.6 -->\r\n      <defs>\r\n       <path d=\"M 33.015625 40.375 \r\nQ 26.375 40.375 22.484375 35.828125 \r\nQ 18.609375 31.296875 18.609375 23.390625 \r\nQ 18.609375 15.53125 22.484375 10.953125 \r\nQ 26.375 6.390625 33.015625 6.390625 \r\nQ 39.65625 6.390625 43.53125 10.953125 \r\nQ 47.40625 15.53125 47.40625 23.390625 \r\nQ 47.40625 31.296875 43.53125 35.828125 \r\nQ 39.65625 40.375 33.015625 40.375 \r\nz\r\nM 52.59375 71.296875 \r\nL 52.59375 62.3125 \r\nQ 48.875 64.0625 45.09375 64.984375 \r\nQ 41.3125 65.921875 37.59375 65.921875 \r\nQ 27.828125 65.921875 22.671875 59.328125 \r\nQ 17.53125 52.734375 16.796875 39.40625 \r\nQ 19.671875 43.65625 24.015625 45.921875 \r\nQ 28.375 48.1875 33.59375 48.1875 \r\nQ 44.578125 48.1875 50.953125 41.515625 \r\nQ 57.328125 34.859375 57.328125 23.390625 \r\nQ 57.328125 12.15625 50.6875 5.359375 \r\nQ 44.046875 -1.421875 33.015625 -1.421875 \r\nQ 20.359375 -1.421875 13.671875 8.265625 \r\nQ 6.984375 17.96875 6.984375 36.375 \r\nQ 6.984375 53.65625 15.1875 63.9375 \r\nQ 23.390625 74.21875 37.203125 74.21875 \r\nQ 40.921875 74.21875 44.703125 73.484375 \r\nQ 48.484375 72.75 52.59375 71.296875 \r\nz\r\n\" id=\"DejaVuSans-54\"/>\r\n      </defs>\r\n      <g transform=\"translate(233.666051 363.076562)scale(0.1 -0.1)\">\r\n       <use xlink:href=\"#DejaVuSans-48\"/>\r\n       <use x=\"63.623047\" xlink:href=\"#DejaVuSans-46\"/>\r\n       <use x=\"95.410156\" xlink:href=\"#DejaVuSans-54\"/>\r\n      </g>\r\n     </g>\r\n    </g>\r\n    <g id=\"xtick_5\">\r\n     <g id=\"line2d_5\">\r\n      <g>\r\n       <use style=\"stroke:#000000;stroke-width:0.8;\" x=\"302.490341\" xlink:href=\"#m8f1655932d\" y=\"348.478125\"/>\r\n      </g>\r\n     </g>\r\n     <g id=\"text_5\">\r\n      <!-- 0.8 -->\r\n      <defs>\r\n       <path d=\"M 31.78125 34.625 \r\nQ 24.75 34.625 20.71875 30.859375 \r\nQ 16.703125 27.09375 16.703125 20.515625 \r\nQ 16.703125 13.921875 20.71875 10.15625 \r\nQ 24.75 6.390625 31.78125 6.390625 \r\nQ 38.8125 6.390625 42.859375 10.171875 \r\nQ 46.921875 13.96875 46.921875 20.515625 \r\nQ 46.921875 27.09375 42.890625 30.859375 \r\nQ 38.875 34.625 31.78125 34.625 \r\nz\r\nM 21.921875 38.8125 \r\nQ 15.578125 40.375 12.03125 44.71875 \r\nQ 8.5 49.078125 8.5 55.328125 \r\nQ 8.5 64.0625 14.71875 69.140625 \r\nQ 20.953125 74.21875 31.78125 74.21875 \r\nQ 42.671875 74.21875 48.875 69.140625 \r\nQ 55.078125 64.0625 55.078125 55.328125 \r\nQ 55.078125 49.078125 51.53125 44.71875 \r\nQ 48 40.375 41.703125 38.8125 \r\nQ 48.828125 37.15625 52.796875 32.3125 \r\nQ 56.78125 27.484375 56.78125 20.515625 \r\nQ 56.78125 9.90625 50.3125 4.234375 \r\nQ 43.84375 -1.421875 31.78125 -1.421875 \r\nQ 19.734375 -1.421875 13.25 4.234375 \r\nQ 6.78125 9.90625 6.78125 20.515625 \r\nQ 6.78125 27.484375 10.78125 32.3125 \r\nQ 14.796875 37.15625 21.921875 38.8125 \r\nz\r\nM 18.3125 54.390625 \r\nQ 18.3125 48.734375 21.84375 45.5625 \r\nQ 25.390625 42.390625 31.78125 42.390625 \r\nQ 38.140625 42.390625 41.71875 45.5625 \r\nQ 45.3125 48.734375 45.3125 54.390625 \r\nQ 45.3125 60.0625 41.71875 63.234375 \r\nQ 38.140625 66.40625 31.78125 66.40625 \r\nQ 25.390625 66.40625 21.84375 63.234375 \r\nQ 18.3125 60.0625 18.3125 54.390625 \r\nz\r\n\" id=\"DejaVuSans-56\"/>\r\n      </defs>\r\n      <g transform=\"translate(294.538778 363.076562)scale(0.1 -0.1)\">\r\n       <use xlink:href=\"#DejaVuSans-48\"/>\r\n       <use x=\"63.623047\" xlink:href=\"#DejaVuSans-46\"/>\r\n       <use x=\"95.410156\" xlink:href=\"#DejaVuSans-56\"/>\r\n      </g>\r\n     </g>\r\n    </g>\r\n    <g id=\"xtick_6\">\r\n     <g id=\"line2d_6\">\r\n      <g>\r\n       <use style=\"stroke:#000000;stroke-width:0.8;\" x=\"363.363068\" xlink:href=\"#m8f1655932d\" y=\"348.478125\"/>\r\n      </g>\r\n     </g>\r\n     <g id=\"text_6\">\r\n      <!-- 1.0 -->\r\n      <defs>\r\n       <path d=\"M 12.40625 8.296875 \r\nL 28.515625 8.296875 \r\nL 28.515625 63.921875 \r\nL 10.984375 60.40625 \r\nL 10.984375 69.390625 \r\nL 28.421875 72.90625 \r\nL 38.28125 72.90625 \r\nL 38.28125 8.296875 \r\nL 54.390625 8.296875 \r\nL 54.390625 0 \r\nL 12.40625 0 \r\nz\r\n\" id=\"DejaVuSans-49\"/>\r\n      </defs>\r\n      <g transform=\"translate(355.411506 363.076562)scale(0.1 -0.1)\">\r\n       <use xlink:href=\"#DejaVuSans-49\"/>\r\n       <use x=\"63.623047\" xlink:href=\"#DejaVuSans-46\"/>\r\n       <use x=\"95.410156\" xlink:href=\"#DejaVuSans-48\"/>\r\n      </g>\r\n     </g>\r\n    </g>\r\n    <g id=\"text_7\">\r\n     <!-- Recall -->\r\n     <defs>\r\n      <path d=\"M 44.390625 34.1875 \r\nQ 47.5625 33.109375 50.5625 29.59375 \r\nQ 53.5625 26.078125 56.59375 19.921875 \r\nL 66.609375 0 \r\nL 56 0 \r\nL 46.6875 18.703125 \r\nQ 43.0625 26.03125 39.671875 28.421875 \r\nQ 36.28125 30.8125 30.421875 30.8125 \r\nL 19.671875 30.8125 \r\nL 19.671875 0 \r\nL 9.8125 0 \r\nL 9.8125 72.90625 \r\nL 32.078125 72.90625 \r\nQ 44.578125 72.90625 50.734375 67.671875 \r\nQ 56.890625 62.453125 56.890625 51.90625 \r\nQ 56.890625 45.015625 53.6875 40.46875 \r\nQ 50.484375 35.9375 44.390625 34.1875 \r\nz\r\nM 19.671875 64.796875 \r\nL 19.671875 38.921875 \r\nL 32.078125 38.921875 \r\nQ 39.203125 38.921875 42.84375 42.21875 \r\nQ 46.484375 45.515625 46.484375 51.90625 \r\nQ 46.484375 58.296875 42.84375 61.546875 \r\nQ 39.203125 64.796875 32.078125 64.796875 \r\nz\r\n\" id=\"DejaVuSans-82\"/>\r\n      <path d=\"M 56.203125 29.59375 \r\nL 56.203125 25.203125 \r\nL 14.890625 25.203125 \r\nQ 15.484375 15.921875 20.484375 11.0625 \r\nQ 25.484375 6.203125 34.421875 6.203125 \r\nQ 39.59375 6.203125 44.453125 7.46875 \r\nQ 49.3125 8.734375 54.109375 11.28125 \r\nL 54.109375 2.78125 \r\nQ 49.265625 0.734375 44.1875 -0.34375 \r\nQ 39.109375 -1.421875 33.890625 -1.421875 \r\nQ 20.796875 -1.421875 13.15625 6.1875 \r\nQ 5.515625 13.8125 5.515625 26.8125 \r\nQ 5.515625 40.234375 12.765625 48.109375 \r\nQ 20.015625 56 32.328125 56 \r\nQ 43.359375 56 49.78125 48.890625 \r\nQ 56.203125 41.796875 56.203125 29.59375 \r\nz\r\nM 47.21875 32.234375 \r\nQ 47.125 39.59375 43.09375 43.984375 \r\nQ 39.0625 48.390625 32.421875 48.390625 \r\nQ 24.90625 48.390625 20.390625 44.140625 \r\nQ 15.875 39.890625 15.1875 32.171875 \r\nz\r\n\" id=\"DejaVuSans-101\"/>\r\n      <path d=\"M 48.78125 52.59375 \r\nL 48.78125 44.1875 \r\nQ 44.96875 46.296875 41.140625 47.34375 \r\nQ 37.3125 48.390625 33.40625 48.390625 \r\nQ 24.65625 48.390625 19.8125 42.84375 \r\nQ 14.984375 37.3125 14.984375 27.296875 \r\nQ 14.984375 17.28125 19.8125 11.734375 \r\nQ 24.65625 6.203125 33.40625 6.203125 \r\nQ 37.3125 6.203125 41.140625 7.25 \r\nQ 44.96875 8.296875 48.78125 10.40625 \r\nL 48.78125 2.09375 \r\nQ 45.015625 0.34375 40.984375 -0.53125 \r\nQ 36.96875 -1.421875 32.421875 -1.421875 \r\nQ 20.0625 -1.421875 12.78125 6.34375 \r\nQ 5.515625 14.109375 5.515625 27.296875 \r\nQ 5.515625 40.671875 12.859375 48.328125 \r\nQ 20.21875 56 33.015625 56 \r\nQ 37.15625 56 41.109375 55.140625 \r\nQ 45.0625 54.296875 48.78125 52.59375 \r\nz\r\n\" id=\"DejaVuSans-99\"/>\r\n      <path d=\"M 34.28125 27.484375 \r\nQ 23.390625 27.484375 19.1875 25 \r\nQ 14.984375 22.515625 14.984375 16.5 \r\nQ 14.984375 11.71875 18.140625 8.90625 \r\nQ 21.296875 6.109375 26.703125 6.109375 \r\nQ 34.1875 6.109375 38.703125 11.40625 \r\nQ 43.21875 16.703125 43.21875 25.484375 \r\nL 43.21875 27.484375 \r\nz\r\nM 52.203125 31.203125 \r\nL 52.203125 0 \r\nL 43.21875 0 \r\nL 43.21875 8.296875 \r\nQ 40.140625 3.328125 35.546875 0.953125 \r\nQ 30.953125 -1.421875 24.3125 -1.421875 \r\nQ 15.921875 -1.421875 10.953125 3.296875 \r\nQ 6 8.015625 6 15.921875 \r\nQ 6 25.140625 12.171875 29.828125 \r\nQ 18.359375 34.515625 30.609375 34.515625 \r\nL 43.21875 34.515625 \r\nL 43.21875 35.40625 \r\nQ 43.21875 41.609375 39.140625 45 \r\nQ 35.0625 48.390625 27.6875 48.390625 \r\nQ 23 48.390625 18.546875 47.265625 \r\nQ 14.109375 46.140625 10.015625 43.890625 \r\nL 10.015625 52.203125 \r\nQ 14.9375 54.109375 19.578125 55.046875 \r\nQ 24.21875 56 28.609375 56 \r\nQ 40.484375 56 46.34375 49.84375 \r\nQ 52.203125 43.703125 52.203125 31.203125 \r\nz\r\n\" id=\"DejaVuSans-97\"/>\r\n      <path d=\"M 9.421875 75.984375 \r\nL 18.40625 75.984375 \r\nL 18.40625 0 \r\nL 9.421875 0 \r\nz\r\n\" id=\"DejaVuSans-108\"/>\r\n     </defs>\r\n     <g transform=\"translate(196.264062 376.754687)scale(0.1 -0.1)\">\r\n      <use xlink:href=\"#DejaVuSans-82\"/>\r\n      <use x=\"64.982422\" xlink:href=\"#DejaVuSans-101\"/>\r\n      <use x=\"126.505859\" xlink:href=\"#DejaVuSans-99\"/>\r\n      <use x=\"181.486328\" xlink:href=\"#DejaVuSans-97\"/>\r\n      <use x=\"242.765625\" xlink:href=\"#DejaVuSans-108\"/>\r\n      <use x=\"270.548828\" xlink:href=\"#DejaVuSans-108\"/>\r\n     </g>\r\n    </g>\r\n   </g>\r\n   <g id=\"matplotlib.axis_2\">\r\n    <g id=\"ytick_1\">\r\n     <g id=\"line2d_7\">\r\n      <defs>\r\n       <path d=\"M 0 0 \r\nL -3.5 0 \r\n\" id=\"m043d14e76c\" style=\"stroke:#000000;stroke-width:0.8;\"/>\r\n      </defs>\r\n      <g>\r\n       <use style=\"stroke:#000000;stroke-width:0.8;\" x=\"43.78125\" xlink:href=\"#m043d14e76c\" y=\"307.194077\"/>\r\n      </g>\r\n     </g>\r\n     <g id=\"text_8\">\r\n      <!-- 0.6 -->\r\n      <g transform=\"translate(20.878125 310.993295)scale(0.1 -0.1)\">\r\n       <use xlink:href=\"#DejaVuSans-48\"/>\r\n       <use x=\"63.623047\" xlink:href=\"#DejaVuSans-46\"/>\r\n       <use x=\"95.410156\" xlink:href=\"#DejaVuSans-54\"/>\r\n      </g>\r\n     </g>\r\n    </g>\r\n    <g id=\"ytick_2\">\r\n     <g id=\"line2d_8\">\r\n      <g>\r\n       <use style=\"stroke:#000000;stroke-width:0.8;\" x=\"43.78125\" xlink:href=\"#m043d14e76c\" y=\"239.681452\"/>\r\n      </g>\r\n     </g>\r\n     <g id=\"text_9\">\r\n      <!-- 0.7 -->\r\n      <defs>\r\n       <path d=\"M 8.203125 72.90625 \r\nL 55.078125 72.90625 \r\nL 55.078125 68.703125 \r\nL 28.609375 0 \r\nL 18.3125 0 \r\nL 43.21875 64.59375 \r\nL 8.203125 64.59375 \r\nz\r\n\" id=\"DejaVuSans-55\"/>\r\n      </defs>\r\n      <g transform=\"translate(20.878125 243.480671)scale(0.1 -0.1)\">\r\n       <use xlink:href=\"#DejaVuSans-48\"/>\r\n       <use x=\"63.623047\" xlink:href=\"#DejaVuSans-46\"/>\r\n       <use x=\"95.410156\" xlink:href=\"#DejaVuSans-55\"/>\r\n      </g>\r\n     </g>\r\n    </g>\r\n    <g id=\"ytick_3\">\r\n     <g id=\"line2d_9\">\r\n      <g>\r\n       <use style=\"stroke:#000000;stroke-width:0.8;\" x=\"43.78125\" xlink:href=\"#m043d14e76c\" y=\"172.168828\"/>\r\n      </g>\r\n     </g>\r\n     <g id=\"text_10\">\r\n      <!-- 0.8 -->\r\n      <g transform=\"translate(20.878125 175.968047)scale(0.1 -0.1)\">\r\n       <use xlink:href=\"#DejaVuSans-48\"/>\r\n       <use x=\"63.623047\" xlink:href=\"#DejaVuSans-46\"/>\r\n       <use x=\"95.410156\" xlink:href=\"#DejaVuSans-56\"/>\r\n      </g>\r\n     </g>\r\n    </g>\r\n    <g id=\"ytick_4\">\r\n     <g id=\"line2d_10\">\r\n      <g>\r\n       <use style=\"stroke:#000000;stroke-width:0.8;\" x=\"43.78125\" xlink:href=\"#m043d14e76c\" y=\"104.656204\"/>\r\n      </g>\r\n     </g>\r\n     <g id=\"text_11\">\r\n      <!-- 0.9 -->\r\n      <defs>\r\n       <path d=\"M 10.984375 1.515625 \r\nL 10.984375 10.5 \r\nQ 14.703125 8.734375 18.5 7.8125 \r\nQ 22.3125 6.890625 25.984375 6.890625 \r\nQ 35.75 6.890625 40.890625 13.453125 \r\nQ 46.046875 20.015625 46.78125 33.40625 \r\nQ 43.953125 29.203125 39.59375 26.953125 \r\nQ 35.25 24.703125 29.984375 24.703125 \r\nQ 19.046875 24.703125 12.671875 31.3125 \r\nQ 6.296875 37.9375 6.296875 49.421875 \r\nQ 6.296875 60.640625 12.9375 67.421875 \r\nQ 19.578125 74.21875 30.609375 74.21875 \r\nQ 43.265625 74.21875 49.921875 64.515625 \r\nQ 56.59375 54.828125 56.59375 36.375 \r\nQ 56.59375 19.140625 48.40625 8.859375 \r\nQ 40.234375 -1.421875 26.421875 -1.421875 \r\nQ 22.703125 -1.421875 18.890625 -0.6875 \r\nQ 15.09375 0.046875 10.984375 1.515625 \r\nz\r\nM 30.609375 32.421875 \r\nQ 37.25 32.421875 41.125 36.953125 \r\nQ 45.015625 41.5 45.015625 49.421875 \r\nQ 45.015625 57.28125 41.125 61.84375 \r\nQ 37.25 66.40625 30.609375 66.40625 \r\nQ 23.96875 66.40625 20.09375 61.84375 \r\nQ 16.21875 57.28125 16.21875 49.421875 \r\nQ 16.21875 41.5 20.09375 36.953125 \r\nQ 23.96875 32.421875 30.609375 32.421875 \r\nz\r\n\" id=\"DejaVuSans-57\"/>\r\n      </defs>\r\n      <g transform=\"translate(20.878125 108.455423)scale(0.1 -0.1)\">\r\n       <use xlink:href=\"#DejaVuSans-48\"/>\r\n       <use x=\"63.623047\" xlink:href=\"#DejaVuSans-46\"/>\r\n       <use x=\"95.410156\" xlink:href=\"#DejaVuSans-57\"/>\r\n      </g>\r\n     </g>\r\n    </g>\r\n    <g id=\"ytick_5\">\r\n     <g id=\"line2d_11\">\r\n      <g>\r\n       <use style=\"stroke:#000000;stroke-width:0.8;\" x=\"43.78125\" xlink:href=\"#m043d14e76c\" y=\"37.14358\"/>\r\n      </g>\r\n     </g>\r\n     <g id=\"text_12\">\r\n      <!-- 1.0 -->\r\n      <g transform=\"translate(20.878125 40.942798)scale(0.1 -0.1)\">\r\n       <use xlink:href=\"#DejaVuSans-49\"/>\r\n       <use x=\"63.623047\" xlink:href=\"#DejaVuSans-46\"/>\r\n       <use x=\"95.410156\" xlink:href=\"#DejaVuSans-48\"/>\r\n      </g>\r\n     </g>\r\n    </g>\r\n    <g id=\"text_13\">\r\n     <!-- Precision -->\r\n     <defs>\r\n      <path d=\"M 19.671875 64.796875 \r\nL 19.671875 37.40625 \r\nL 32.078125 37.40625 \r\nQ 38.96875 37.40625 42.71875 40.96875 \r\nQ 46.484375 44.53125 46.484375 51.125 \r\nQ 46.484375 57.671875 42.71875 61.234375 \r\nQ 38.96875 64.796875 32.078125 64.796875 \r\nz\r\nM 9.8125 72.90625 \r\nL 32.078125 72.90625 \r\nQ 44.34375 72.90625 50.609375 67.359375 \r\nQ 56.890625 61.8125 56.890625 51.125 \r\nQ 56.890625 40.328125 50.609375 34.8125 \r\nQ 44.34375 29.296875 32.078125 29.296875 \r\nL 19.671875 29.296875 \r\nL 19.671875 0 \r\nL 9.8125 0 \r\nz\r\n\" id=\"DejaVuSans-80\"/>\r\n      <path d=\"M 41.109375 46.296875 \r\nQ 39.59375 47.171875 37.8125 47.578125 \r\nQ 36.03125 48 33.890625 48 \r\nQ 26.265625 48 22.1875 43.046875 \r\nQ 18.109375 38.09375 18.109375 28.8125 \r\nL 18.109375 0 \r\nL 9.078125 0 \r\nL 9.078125 54.6875 \r\nL 18.109375 54.6875 \r\nL 18.109375 46.1875 \r\nQ 20.953125 51.171875 25.484375 53.578125 \r\nQ 30.03125 56 36.53125 56 \r\nQ 37.453125 56 38.578125 55.875 \r\nQ 39.703125 55.765625 41.0625 55.515625 \r\nz\r\n\" id=\"DejaVuSans-114\"/>\r\n      <path d=\"M 9.421875 54.6875 \r\nL 18.40625 54.6875 \r\nL 18.40625 0 \r\nL 9.421875 0 \r\nz\r\nM 9.421875 75.984375 \r\nL 18.40625 75.984375 \r\nL 18.40625 64.59375 \r\nL 9.421875 64.59375 \r\nz\r\n\" id=\"DejaVuSans-105\"/>\r\n      <path d=\"M 44.28125 53.078125 \r\nL 44.28125 44.578125 \r\nQ 40.484375 46.53125 36.375 47.5 \r\nQ 32.28125 48.484375 27.875 48.484375 \r\nQ 21.1875 48.484375 17.84375 46.4375 \r\nQ 14.5 44.390625 14.5 40.28125 \r\nQ 14.5 37.15625 16.890625 35.375 \r\nQ 19.28125 33.59375 26.515625 31.984375 \r\nL 29.59375 31.296875 \r\nQ 39.15625 29.25 43.1875 25.515625 \r\nQ 47.21875 21.78125 47.21875 15.09375 \r\nQ 47.21875 7.46875 41.1875 3.015625 \r\nQ 35.15625 -1.421875 24.609375 -1.421875 \r\nQ 20.21875 -1.421875 15.453125 -0.5625 \r\nQ 10.6875 0.296875 5.421875 2 \r\nL 5.421875 11.28125 \r\nQ 10.40625 8.6875 15.234375 7.390625 \r\nQ 20.0625 6.109375 24.8125 6.109375 \r\nQ 31.15625 6.109375 34.5625 8.28125 \r\nQ 37.984375 10.453125 37.984375 14.40625 \r\nQ 37.984375 18.0625 35.515625 20.015625 \r\nQ 33.0625 21.96875 24.703125 23.78125 \r\nL 21.578125 24.515625 \r\nQ 13.234375 26.265625 9.515625 29.90625 \r\nQ 5.8125 33.546875 5.8125 39.890625 \r\nQ 5.8125 47.609375 11.28125 51.796875 \r\nQ 16.75 56 26.8125 56 \r\nQ 31.78125 56 36.171875 55.265625 \r\nQ 40.578125 54.546875 44.28125 53.078125 \r\nz\r\n\" id=\"DejaVuSans-115\"/>\r\n      <path d=\"M 30.609375 48.390625 \r\nQ 23.390625 48.390625 19.1875 42.75 \r\nQ 14.984375 37.109375 14.984375 27.296875 \r\nQ 14.984375 17.484375 19.15625 11.84375 \r\nQ 23.34375 6.203125 30.609375 6.203125 \r\nQ 37.796875 6.203125 41.984375 11.859375 \r\nQ 46.1875 17.53125 46.1875 27.296875 \r\nQ 46.1875 37.015625 41.984375 42.703125 \r\nQ 37.796875 48.390625 30.609375 48.390625 \r\nz\r\nM 30.609375 56 \r\nQ 42.328125 56 49.015625 48.375 \r\nQ 55.71875 40.765625 55.71875 27.296875 \r\nQ 55.71875 13.875 49.015625 6.21875 \r\nQ 42.328125 -1.421875 30.609375 -1.421875 \r\nQ 18.84375 -1.421875 12.171875 6.21875 \r\nQ 5.515625 13.875 5.515625 27.296875 \r\nQ 5.515625 40.765625 12.171875 48.375 \r\nQ 18.84375 56 30.609375 56 \r\nz\r\n\" id=\"DejaVuSans-111\"/>\r\n      <path d=\"M 54.890625 33.015625 \r\nL 54.890625 0 \r\nL 45.90625 0 \r\nL 45.90625 32.71875 \r\nQ 45.90625 40.484375 42.875 44.328125 \r\nQ 39.84375 48.1875 33.796875 48.1875 \r\nQ 26.515625 48.1875 22.3125 43.546875 \r\nQ 18.109375 38.921875 18.109375 30.90625 \r\nL 18.109375 0 \r\nL 9.078125 0 \r\nL 9.078125 54.6875 \r\nL 18.109375 54.6875 \r\nL 18.109375 46.1875 \r\nQ 21.34375 51.125 25.703125 53.5625 \r\nQ 30.078125 56 35.796875 56 \r\nQ 45.21875 56 50.046875 50.171875 \r\nQ 54.890625 44.34375 54.890625 33.015625 \r\nz\r\n\" id=\"DejaVuSans-110\"/>\r\n     </defs>\r\n     <g transform=\"translate(14.798438 207.705156)rotate(-90)scale(0.1 -0.1)\">\r\n      <use xlink:href=\"#DejaVuSans-80\"/>\r\n      <use x=\"58.552734\" xlink:href=\"#DejaVuSans-114\"/>\r\n      <use x=\"97.416016\" xlink:href=\"#DejaVuSans-101\"/>\r\n      <use x=\"158.939453\" xlink:href=\"#DejaVuSans-99\"/>\r\n      <use x=\"213.919922\" xlink:href=\"#DejaVuSans-105\"/>\r\n      <use x=\"241.703125\" xlink:href=\"#DejaVuSans-115\"/>\r\n      <use x=\"293.802734\" xlink:href=\"#DejaVuSans-105\"/>\r\n      <use x=\"321.585938\" xlink:href=\"#DejaVuSans-111\"/>\r\n      <use x=\"382.767578\" xlink:href=\"#DejaVuSans-110\"/>\r\n     </g>\r\n    </g>\r\n   </g>\r\n   <g id=\"line2d_12\">\r\n    <path clip-path=\"url(#p84bcf48b76)\" d=\"M 363.363068 333.65267 \r\nL 304.140284 311.361583 \r\nL 58.999432 37.14358 \r\n\" style=\"fill:none;stroke:#1f77b4;stroke-linecap:square;stroke-width:1.5;\"/>\r\n   </g>\r\n   <g id=\"patch_3\">\r\n    <path d=\"M 43.78125 348.478125 \r\nL 43.78125 22.318125 \r\n\" style=\"fill:none;stroke:#000000;stroke-linecap:square;stroke-linejoin:miter;stroke-width:0.8;\"/>\r\n   </g>\r\n   <g id=\"patch_4\">\r\n    <path d=\"M 378.58125 348.478125 \r\nL 378.58125 22.318125 \r\n\" style=\"fill:none;stroke:#000000;stroke-linecap:square;stroke-linejoin:miter;stroke-width:0.8;\"/>\r\n   </g>\r\n   <g id=\"patch_5\">\r\n    <path d=\"M 43.78125 348.478125 \r\nL 378.58125 348.478125 \r\n\" style=\"fill:none;stroke:#000000;stroke-linecap:square;stroke-linejoin:miter;stroke-width:0.8;\"/>\r\n   </g>\r\n   <g id=\"patch_6\">\r\n    <path d=\"M 43.78125 22.318125 \r\nL 378.58125 22.318125 \r\n\" style=\"fill:none;stroke:#000000;stroke-linecap:square;stroke-linejoin:miter;stroke-width:0.8;\"/>\r\n   </g>\r\n   <g id=\"text_14\">\r\n    <!-- Precision-Recall Curve -->\r\n    <defs>\r\n     <path d=\"M 4.890625 31.390625 \r\nL 31.203125 31.390625 \r\nL 31.203125 23.390625 \r\nL 4.890625 23.390625 \r\nz\r\n\" id=\"DejaVuSans-45\"/>\r\n     <path id=\"DejaVuSans-32\"/>\r\n     <path d=\"M 64.40625 67.28125 \r\nL 64.40625 56.890625 \r\nQ 59.421875 61.53125 53.78125 63.8125 \r\nQ 48.140625 66.109375 41.796875 66.109375 \r\nQ 29.296875 66.109375 22.65625 58.46875 \r\nQ 16.015625 50.828125 16.015625 36.375 \r\nQ 16.015625 21.96875 22.65625 14.328125 \r\nQ 29.296875 6.6875 41.796875 6.6875 \r\nQ 48.140625 6.6875 53.78125 8.984375 \r\nQ 59.421875 11.28125 64.40625 15.921875 \r\nL 64.40625 5.609375 \r\nQ 59.234375 2.09375 53.4375 0.328125 \r\nQ 47.65625 -1.421875 41.21875 -1.421875 \r\nQ 24.65625 -1.421875 15.125 8.703125 \r\nQ 5.609375 18.84375 5.609375 36.375 \r\nQ 5.609375 53.953125 15.125 64.078125 \r\nQ 24.65625 74.21875 41.21875 74.21875 \r\nQ 47.75 74.21875 53.53125 72.484375 \r\nQ 59.328125 70.75 64.40625 67.28125 \r\nz\r\n\" id=\"DejaVuSans-67\"/>\r\n     <path d=\"M 8.5 21.578125 \r\nL 8.5 54.6875 \r\nL 17.484375 54.6875 \r\nL 17.484375 21.921875 \r\nQ 17.484375 14.15625 20.5 10.265625 \r\nQ 23.53125 6.390625 29.59375 6.390625 \r\nQ 36.859375 6.390625 41.078125 11.03125 \r\nQ 45.3125 15.671875 45.3125 23.6875 \r\nL 45.3125 54.6875 \r\nL 54.296875 54.6875 \r\nL 54.296875 0 \r\nL 45.3125 0 \r\nL 45.3125 8.40625 \r\nQ 42.046875 3.421875 37.71875 1 \r\nQ 33.40625 -1.421875 27.6875 -1.421875 \r\nQ 18.265625 -1.421875 13.375 4.4375 \r\nQ 8.5 10.296875 8.5 21.578125 \r\nz\r\nM 31.109375 56 \r\nz\r\n\" id=\"DejaVuSans-117\"/>\r\n     <path d=\"M 2.984375 54.6875 \r\nL 12.5 54.6875 \r\nL 29.59375 8.796875 \r\nL 46.6875 54.6875 \r\nL 56.203125 54.6875 \r\nL 35.6875 0 \r\nL 23.484375 0 \r\nz\r\n\" id=\"DejaVuSans-118\"/>\r\n    </defs>\r\n    <g transform=\"translate(144.73875 16.318125)scale(0.12 -0.12)\">\r\n     <use xlink:href=\"#DejaVuSans-80\"/>\r\n     <use x=\"58.552734\" xlink:href=\"#DejaVuSans-114\"/>\r\n     <use x=\"97.416016\" xlink:href=\"#DejaVuSans-101\"/>\r\n     <use x=\"158.939453\" xlink:href=\"#DejaVuSans-99\"/>\r\n     <use x=\"213.919922\" xlink:href=\"#DejaVuSans-105\"/>\r\n     <use x=\"241.703125\" xlink:href=\"#DejaVuSans-115\"/>\r\n     <use x=\"293.802734\" xlink:href=\"#DejaVuSans-105\"/>\r\n     <use x=\"321.585938\" xlink:href=\"#DejaVuSans-111\"/>\r\n     <use x=\"382.767578\" xlink:href=\"#DejaVuSans-110\"/>\r\n     <use x=\"446.146484\" xlink:href=\"#DejaVuSans-45\"/>\r\n     <use x=\"482.230469\" xlink:href=\"#DejaVuSans-82\"/>\r\n     <use x=\"547.212891\" xlink:href=\"#DejaVuSans-101\"/>\r\n     <use x=\"608.736328\" xlink:href=\"#DejaVuSans-99\"/>\r\n     <use x=\"663.716797\" xlink:href=\"#DejaVuSans-97\"/>\r\n     <use x=\"724.996094\" xlink:href=\"#DejaVuSans-108\"/>\r\n     <use x=\"752.779297\" xlink:href=\"#DejaVuSans-108\"/>\r\n     <use x=\"780.5625\" xlink:href=\"#DejaVuSans-32\"/>\r\n     <use x=\"812.349609\" xlink:href=\"#DejaVuSans-67\"/>\r\n     <use x=\"882.173828\" xlink:href=\"#DejaVuSans-117\"/>\r\n     <use x=\"945.552734\" xlink:href=\"#DejaVuSans-114\"/>\r\n     <use x=\"986.666016\" xlink:href=\"#DejaVuSans-118\"/>\r\n     <use x=\"1045.845703\" xlink:href=\"#DejaVuSans-101\"/>\r\n    </g>\r\n   </g>\r\n  </g>\r\n </g>\r\n <defs>\r\n  <clipPath id=\"p84bcf48b76\">\r\n   <rect height=\"326.16\" width=\"334.8\" x=\"43.78125\" y=\"22.318125\"/>\r\n  </clipPath>\r\n </defs>\r\n</svg>\r\n",
            "image/png": "[encoded data removed]"
          },
          "metadata": {
            "needs_background": "light"
          }
        }
      ]
    },
    {
      "cell_type": "code",
      "execution_count": null,
      "metadata": {},
      "outputs": [],
      "source": []
    }
  ]
}