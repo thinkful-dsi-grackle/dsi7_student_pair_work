{
 "cells": [
  {
   "cell_type": "markdown",
   "metadata": {
    "colab_type": "text",
    "id": "dV--vGOPrrED"
   },
   "source": [
    "## Day 25 Lecture 2 Assignment\n",
    "\n",
    "In this assignment, we will extend a previous binary model to a multinomial case with three classes. We will use the FIFA soccer ratings dataset loaded below and analyze the model generated for this dataset."
   ]
  },
  {
   "cell_type": "code",
   "execution_count": 1,
   "metadata": {
    "colab": {},
    "colab_type": "code",
    "id": "msSTydewrrEE"
   },
   "outputs": [],
   "source": [
    "%matplotlib inline\n",
    "\n",
    "import matplotlib.pyplot as plt\n",
    "import numpy as np\n",
    "import pandas as pd\n",
    "from sklearn.preprocessing import StandardScaler\n",
    "from sklearn.metrics import classification_report, confusion_matrix, plot_confusion_matrix, roc_curve, auc\n",
    "    \n",
    "from sklearn.model_selection import train_test_split, cross_val_score\n",
    "from sklearn.linear_model import LogisticRegression\n",
    "import statsmodels.api as sm\n",
    "import seaborn as sns"
   ]
  },
  {
   "cell_type": "code",
   "execution_count": 2,
   "metadata": {
    "colab": {},
    "colab_type": "code",
    "id": "HOgv7ZGlVYpw"
   },
   "outputs": [],
   "source": [
    "def remove_correlated_features(dataset, threshold):\n",
    "    col_corr = set()\n",
    "    corr_matrix = dataset.corr()\n",
    "    for i in range(len(corr_matrix.columns)):\n",
    "        for j in range(i):\n",
    "            if (corr_matrix.iloc[i, j] >= threshold) and (corr_matrix.columns[j] not in col_corr):\n",
    "                colname = corr_matrix.columns[i]\n",
    "                col_corr.add(colname)\n",
    "                if colname in dataset.columns:\n",
    "                    print(f'Deleted {colname} from dataset.')\n",
    "                    del dataset[colname]\n",
    "\n",
    "    return dataset"
   ]
  },
  {
   "cell_type": "code",
   "execution_count": 3,
   "metadata": {
    "colab": {},
    "colab_type": "code",
    "id": "i3iAu42VrrEF"
   },
   "outputs": [],
   "source": [
    "soccer_data = pd.read_csv('https://tf-assets-prod.s3.amazonaws.com/tf-curric/data-science/fifa_ratings.csv')"
   ]
  },
  {
   "cell_type": "code",
   "execution_count": 4,
   "metadata": {
    "colab": {
     "base_uri": "https://localhost:8080/",
     "height": 255
    },
    "colab_type": "code",
    "executionInfo": {
     "elapsed": 2136,
     "status": "ok",
     "timestamp": 1573828337647,
     "user": {
      "displayName": "Mike Swirsky",
      "photoUrl": "https://lh3.googleusercontent.com/a-/AAuE7mAEvj_9k9NYcdWSI5G-tvxoZDUz8RATiP7-zeMD=s64",
      "userId": "09733430627481200667"
     },
     "user_tz": 480
    },
    "id": "SeKz92tErrEH",
    "outputId": "d7d728a2-2fce-4ed7-c221-2f0a2c889136"
   },
   "outputs": [
    {
     "data": {
      "text/html": [
       "<div>\n",
       "<style scoped>\n",
       "    .dataframe tbody tr th:only-of-type {\n",
       "        vertical-align: middle;\n",
       "    }\n",
       "\n",
       "    .dataframe tbody tr th {\n",
       "        vertical-align: top;\n",
       "    }\n",
       "\n",
       "    .dataframe thead th {\n",
       "        text-align: right;\n",
       "    }\n",
       "</style>\n",
       "<table border=\"1\" class=\"dataframe\">\n",
       "  <thead>\n",
       "    <tr style=\"text-align: right;\">\n",
       "      <th></th>\n",
       "      <th>ID</th>\n",
       "      <th>Name</th>\n",
       "      <th>Overall</th>\n",
       "      <th>Crossing</th>\n",
       "      <th>Finishing</th>\n",
       "      <th>HeadingAccuracy</th>\n",
       "      <th>ShortPassing</th>\n",
       "      <th>Volleys</th>\n",
       "      <th>Dribbling</th>\n",
       "      <th>Curve</th>\n",
       "      <th>...</th>\n",
       "      <th>LongShots</th>\n",
       "      <th>Aggression</th>\n",
       "      <th>Interceptions</th>\n",
       "      <th>Positioning</th>\n",
       "      <th>Vision</th>\n",
       "      <th>Penalties</th>\n",
       "      <th>Composure</th>\n",
       "      <th>Marking</th>\n",
       "      <th>StandingTackle</th>\n",
       "      <th>SlidingTackle</th>\n",
       "    </tr>\n",
       "  </thead>\n",
       "  <tbody>\n",
       "    <tr>\n",
       "      <th>0</th>\n",
       "      <td>158023</td>\n",
       "      <td>L. Messi</td>\n",
       "      <td>94</td>\n",
       "      <td>84</td>\n",
       "      <td>95</td>\n",
       "      <td>70</td>\n",
       "      <td>90</td>\n",
       "      <td>86</td>\n",
       "      <td>97</td>\n",
       "      <td>93</td>\n",
       "      <td>...</td>\n",
       "      <td>94</td>\n",
       "      <td>48</td>\n",
       "      <td>22</td>\n",
       "      <td>94</td>\n",
       "      <td>94</td>\n",
       "      <td>75</td>\n",
       "      <td>96</td>\n",
       "      <td>33</td>\n",
       "      <td>28</td>\n",
       "      <td>26</td>\n",
       "    </tr>\n",
       "    <tr>\n",
       "      <th>1</th>\n",
       "      <td>20801</td>\n",
       "      <td>Cristiano Ronaldo</td>\n",
       "      <td>94</td>\n",
       "      <td>84</td>\n",
       "      <td>94</td>\n",
       "      <td>89</td>\n",
       "      <td>81</td>\n",
       "      <td>87</td>\n",
       "      <td>88</td>\n",
       "      <td>81</td>\n",
       "      <td>...</td>\n",
       "      <td>93</td>\n",
       "      <td>63</td>\n",
       "      <td>29</td>\n",
       "      <td>95</td>\n",
       "      <td>82</td>\n",
       "      <td>85</td>\n",
       "      <td>95</td>\n",
       "      <td>28</td>\n",
       "      <td>31</td>\n",
       "      <td>23</td>\n",
       "    </tr>\n",
       "    <tr>\n",
       "      <th>2</th>\n",
       "      <td>190871</td>\n",
       "      <td>Neymar Jr</td>\n",
       "      <td>92</td>\n",
       "      <td>79</td>\n",
       "      <td>87</td>\n",
       "      <td>62</td>\n",
       "      <td>84</td>\n",
       "      <td>84</td>\n",
       "      <td>96</td>\n",
       "      <td>88</td>\n",
       "      <td>...</td>\n",
       "      <td>82</td>\n",
       "      <td>56</td>\n",
       "      <td>36</td>\n",
       "      <td>89</td>\n",
       "      <td>87</td>\n",
       "      <td>81</td>\n",
       "      <td>94</td>\n",
       "      <td>27</td>\n",
       "      <td>24</td>\n",
       "      <td>33</td>\n",
       "    </tr>\n",
       "    <tr>\n",
       "      <th>3</th>\n",
       "      <td>192985</td>\n",
       "      <td>K. De Bruyne</td>\n",
       "      <td>91</td>\n",
       "      <td>93</td>\n",
       "      <td>82</td>\n",
       "      <td>55</td>\n",
       "      <td>92</td>\n",
       "      <td>82</td>\n",
       "      <td>86</td>\n",
       "      <td>85</td>\n",
       "      <td>...</td>\n",
       "      <td>91</td>\n",
       "      <td>76</td>\n",
       "      <td>61</td>\n",
       "      <td>87</td>\n",
       "      <td>94</td>\n",
       "      <td>79</td>\n",
       "      <td>88</td>\n",
       "      <td>68</td>\n",
       "      <td>58</td>\n",
       "      <td>51</td>\n",
       "    </tr>\n",
       "    <tr>\n",
       "      <th>4</th>\n",
       "      <td>183277</td>\n",
       "      <td>E. Hazard</td>\n",
       "      <td>91</td>\n",
       "      <td>81</td>\n",
       "      <td>84</td>\n",
       "      <td>61</td>\n",
       "      <td>89</td>\n",
       "      <td>80</td>\n",
       "      <td>95</td>\n",
       "      <td>83</td>\n",
       "      <td>...</td>\n",
       "      <td>80</td>\n",
       "      <td>54</td>\n",
       "      <td>41</td>\n",
       "      <td>87</td>\n",
       "      <td>89</td>\n",
       "      <td>86</td>\n",
       "      <td>91</td>\n",
       "      <td>34</td>\n",
       "      <td>27</td>\n",
       "      <td>22</td>\n",
       "    </tr>\n",
       "  </tbody>\n",
       "</table>\n",
       "<p>5 rows × 32 columns</p>\n",
       "</div>"
      ],
      "text/plain": [
       "       ID               Name  Overall  Crossing  Finishing  HeadingAccuracy  \\\n",
       "0  158023           L. Messi       94        84         95               70   \n",
       "1   20801  Cristiano Ronaldo       94        84         94               89   \n",
       "2  190871          Neymar Jr       92        79         87               62   \n",
       "3  192985       K. De Bruyne       91        93         82               55   \n",
       "4  183277          E. Hazard       91        81         84               61   \n",
       "\n",
       "   ShortPassing  Volleys  Dribbling  Curve  ...  LongShots  Aggression  \\\n",
       "0            90       86         97     93  ...         94          48   \n",
       "1            81       87         88     81  ...         93          63   \n",
       "2            84       84         96     88  ...         82          56   \n",
       "3            92       82         86     85  ...         91          76   \n",
       "4            89       80         95     83  ...         80          54   \n",
       "\n",
       "   Interceptions  Positioning  Vision  Penalties  Composure  Marking  \\\n",
       "0             22           94      94         75         96       33   \n",
       "1             29           95      82         85         95       28   \n",
       "2             36           89      87         81         94       27   \n",
       "3             61           87      94         79         88       68   \n",
       "4             41           87      89         86         91       34   \n",
       "\n",
       "   StandingTackle  SlidingTackle  \n",
       "0              28             26  \n",
       "1              31             23  \n",
       "2              24             33  \n",
       "3              58             51  \n",
       "4              27             22  \n",
       "\n",
       "[5 rows x 32 columns]"
      ]
     },
     "execution_count": 4,
     "metadata": {},
     "output_type": "execute_result"
    }
   ],
   "source": [
    "soccer_data.head()"
   ]
  },
  {
   "cell_type": "code",
   "execution_count": 5,
   "metadata": {},
   "outputs": [],
   "source": [
    "# Create a copy of the dataFrame so we can retain the original\n",
    "soccer_data2 = soccer_data.copy()"
   ]
  },
  {
   "cell_type": "markdown",
   "metadata": {
    "colab_type": "text",
    "id": "gC9J8aEArrEJ"
   },
   "source": [
    "Our response for our logistic regression model is going to be a new column, \"RankingTier\", that contains three categories:\n",
    "\n",
    "- High: Overall score > 75\n",
    "- Middle: Overall score between 65 and 75\n",
    "- Low: Overall score < 65"
   ]
  },
  {
   "cell_type": "code",
   "execution_count": 6,
   "metadata": {
    "colab": {},
    "colab_type": "code",
    "id": "tTZkLVDnrrEK"
   },
   "outputs": [
    {
     "data": {
      "text/html": [
       "<div>\n",
       "<style scoped>\n",
       "    .dataframe tbody tr th:only-of-type {\n",
       "        vertical-align: middle;\n",
       "    }\n",
       "\n",
       "    .dataframe tbody tr th {\n",
       "        vertical-align: top;\n",
       "    }\n",
       "\n",
       "    .dataframe thead th {\n",
       "        text-align: right;\n",
       "    }\n",
       "</style>\n",
       "<table border=\"1\" class=\"dataframe\">\n",
       "  <thead>\n",
       "    <tr style=\"text-align: right;\">\n",
       "      <th></th>\n",
       "      <th>Overall</th>\n",
       "      <th>RankingTier</th>\n",
       "    </tr>\n",
       "  </thead>\n",
       "  <tbody>\n",
       "    <tr>\n",
       "      <th>0</th>\n",
       "      <td>94</td>\n",
       "      <td>High</td>\n",
       "    </tr>\n",
       "    <tr>\n",
       "      <th>1</th>\n",
       "      <td>94</td>\n",
       "      <td>High</td>\n",
       "    </tr>\n",
       "    <tr>\n",
       "      <th>2</th>\n",
       "      <td>92</td>\n",
       "      <td>High</td>\n",
       "    </tr>\n",
       "    <tr>\n",
       "      <th>3</th>\n",
       "      <td>91</td>\n",
       "      <td>High</td>\n",
       "    </tr>\n",
       "    <tr>\n",
       "      <th>4</th>\n",
       "      <td>91</td>\n",
       "      <td>High</td>\n",
       "    </tr>\n",
       "    <tr>\n",
       "      <th>...</th>\n",
       "      <td>...</td>\n",
       "      <td>...</td>\n",
       "    </tr>\n",
       "    <tr>\n",
       "      <th>16117</th>\n",
       "      <td>47</td>\n",
       "      <td>Low</td>\n",
       "    </tr>\n",
       "    <tr>\n",
       "      <th>16118</th>\n",
       "      <td>47</td>\n",
       "      <td>Low</td>\n",
       "    </tr>\n",
       "    <tr>\n",
       "      <th>16119</th>\n",
       "      <td>47</td>\n",
       "      <td>Low</td>\n",
       "    </tr>\n",
       "    <tr>\n",
       "      <th>16120</th>\n",
       "      <td>47</td>\n",
       "      <td>Low</td>\n",
       "    </tr>\n",
       "    <tr>\n",
       "      <th>16121</th>\n",
       "      <td>46</td>\n",
       "      <td>Low</td>\n",
       "    </tr>\n",
       "  </tbody>\n",
       "</table>\n",
       "<p>16122 rows × 2 columns</p>\n",
       "</div>"
      ],
      "text/plain": [
       "       Overall RankingTier\n",
       "0           94        High\n",
       "1           94        High\n",
       "2           92        High\n",
       "3           91        High\n",
       "4           91        High\n",
       "...        ...         ...\n",
       "16117       47         Low\n",
       "16118       47         Low\n",
       "16119       47         Low\n",
       "16120       47         Low\n",
       "16121       46         Low\n",
       "\n",
       "[16122 rows x 2 columns]"
      ]
     },
     "execution_count": 6,
     "metadata": {},
     "output_type": "execute_result"
    }
   ],
   "source": [
    "# answer goes here\n",
    "soccer_data2['RankingTier'] = np.where(soccer_data2['Overall'] > 75, 'High', \n",
    "                (np.where(soccer_data2['Overall'] < 65, 'Low', 'Middle')))\n",
    "\n",
    "soccer_data2.filter(['Overall', 'RankingTier'])\n"
   ]
  },
  {
   "cell_type": "markdown",
   "metadata": {
    "colab_type": "text",
    "id": "NJNKBnVpVYp5"
   },
   "source": [
    "The next few steps until model training are the same as before: identify and remove highly correlated features, and split the data into a training set (80%) and a test set (20%)."
   ]
  },
  {
   "cell_type": "code",
   "execution_count": 7,
   "metadata": {
    "colab": {},
    "colab_type": "code",
    "id": "NJR6IxK2VYp5"
   },
   "outputs": [
    {
     "name": "stdout",
     "output_type": "stream",
     "text": [
      "Deleted StandingTackle from dataset.\n",
      "Deleted SlidingTackle from dataset.\n"
     ]
    }
   ],
   "source": [
    "# answer goes here\n",
    "soccer_data2 = remove_correlated_features(soccer_data2, 0.9)\n",
    "Y = soccer_data2.RankingTier\n",
    "X = soccer_data2.drop(columns=['ID', 'Name','Overall', 'RankingTier'])\n",
    "X_train, X_test, y_train, y_test = train_test_split(X,Y,test_size=0.2)"
   ]
  },
  {
   "cell_type": "markdown",
   "metadata": {
    "colab_type": "text",
    "id": "x4vvG5GmrrEL"
   },
   "source": [
    "Fit a multinomial logistic regression model using the statsmodels package and print out the coefficient summary. What is the \"reference\" tier chosen by the model? How do we interpret the coefficients - for example, how does the intepretation of the \"Reactions\" coefficient for RankingTier=Low differ from the \"Reactions\" coefficient for RankingTier=Middle?"
   ]
  },
  {
   "cell_type": "code",
   "execution_count": 8,
   "metadata": {
    "colab": {},
    "colab_type": "code",
    "id": "cwdpwLT6rrEM"
   },
   "outputs": [
    {
     "name": "stdout",
     "output_type": "stream",
     "text": [
      "Optimization terminated successfully.\n",
      "         Current function value: 0.340451\n",
      "         Iterations 11\n"
     ]
    },
    {
     "data": {
      "text/html": [
       "<table class=\"simpletable\">\n",
       "<caption>MNLogit Regression Results</caption>\n",
       "<tr>\n",
       "  <th>Dep. Variable:</th>      <td>RankingTier</td>   <th>  No. Observations:  </th>  <td> 12897</td> \n",
       "</tr>\n",
       "<tr>\n",
       "  <th>Model:</th>                <td>MNLogit</td>     <th>  Df Residuals:      </th>  <td> 12841</td> \n",
       "</tr>\n",
       "<tr>\n",
       "  <th>Method:</th>                 <td>MLE</td>       <th>  Df Model:          </th>  <td>    54</td> \n",
       "</tr>\n",
       "<tr>\n",
       "  <th>Date:</th>            <td>Fri, 16 Oct 2020</td> <th>  Pseudo R-squ.:     </th>  <td>0.6289</td> \n",
       "</tr>\n",
       "<tr>\n",
       "  <th>Time:</th>                <td>16:50:03</td>     <th>  Log-Likelihood:    </th> <td> -4390.8</td>\n",
       "</tr>\n",
       "<tr>\n",
       "  <th>converged:</th>             <td>True</td>       <th>  LL-Null:           </th> <td> -11831.</td>\n",
       "</tr>\n",
       "<tr>\n",
       "  <th>Covariance Type:</th>     <td>nonrobust</td>    <th>  LLR p-value:       </th>  <td> 0.000</td> \n",
       "</tr>\n",
       "</table>\n",
       "<table class=\"simpletable\">\n",
       "<tr>\n",
       "    <th>RankingTier=Low</th>     <th>coef</th>     <th>std err</th>      <th>z</th>      <th>P>|z|</th>  <th>[0.025</th>    <th>0.975]</th>  \n",
       "</tr>\n",
       "<tr>\n",
       "  <th>const</th>              <td>   98.5964</td> <td>    2.217</td> <td>   44.465</td> <td> 0.000</td> <td>   94.250</td> <td>  102.942</td>\n",
       "</tr>\n",
       "<tr>\n",
       "  <th>Crossing</th>           <td>   -0.0110</td> <td>    0.008</td> <td>   -1.307</td> <td> 0.191</td> <td>   -0.027</td> <td>    0.005</td>\n",
       "</tr>\n",
       "<tr>\n",
       "  <th>Finishing</th>          <td>   -0.0434</td> <td>    0.010</td> <td>   -4.289</td> <td> 0.000</td> <td>   -0.063</td> <td>   -0.024</td>\n",
       "</tr>\n",
       "<tr>\n",
       "  <th>HeadingAccuracy</th>    <td>   -0.1163</td> <td>    0.009</td> <td>  -12.918</td> <td> 0.000</td> <td>   -0.134</td> <td>   -0.099</td>\n",
       "</tr>\n",
       "<tr>\n",
       "  <th>ShortPassing</th>       <td>   -0.2707</td> <td>    0.022</td> <td>  -12.572</td> <td> 0.000</td> <td>   -0.313</td> <td>   -0.228</td>\n",
       "</tr>\n",
       "<tr>\n",
       "  <th>Volleys</th>            <td>    0.0221</td> <td>    0.009</td> <td>    2.591</td> <td> 0.010</td> <td>    0.005</td> <td>    0.039</td>\n",
       "</tr>\n",
       "<tr>\n",
       "  <th>Dribbling</th>          <td>    0.0072</td> <td>    0.016</td> <td>    0.453</td> <td> 0.650</td> <td>   -0.024</td> <td>    0.038</td>\n",
       "</tr>\n",
       "<tr>\n",
       "  <th>Curve</th>              <td>   -0.0004</td> <td>    0.009</td> <td>   -0.043</td> <td> 0.966</td> <td>   -0.018</td> <td>    0.017</td>\n",
       "</tr>\n",
       "<tr>\n",
       "  <th>FKAccuracy</th>         <td>   -0.0087</td> <td>    0.007</td> <td>   -1.179</td> <td> 0.239</td> <td>   -0.023</td> <td>    0.006</td>\n",
       "</tr>\n",
       "<tr>\n",
       "  <th>LongPassing</th>        <td>    0.0100</td> <td>    0.012</td> <td>    0.829</td> <td> 0.407</td> <td>   -0.014</td> <td>    0.034</td>\n",
       "</tr>\n",
       "<tr>\n",
       "  <th>BallControl</th>        <td>   -0.3243</td> <td>    0.023</td> <td>  -14.320</td> <td> 0.000</td> <td>   -0.369</td> <td>   -0.280</td>\n",
       "</tr>\n",
       "<tr>\n",
       "  <th>Acceleration</th>       <td>   -0.0624</td> <td>    0.014</td> <td>   -4.515</td> <td> 0.000</td> <td>   -0.090</td> <td>   -0.035</td>\n",
       "</tr>\n",
       "<tr>\n",
       "  <th>SprintSpeed</th>        <td>   -0.0537</td> <td>    0.012</td> <td>   -4.324</td> <td> 0.000</td> <td>   -0.078</td> <td>   -0.029</td>\n",
       "</tr>\n",
       "<tr>\n",
       "  <th>Agility</th>            <td>    0.0031</td> <td>    0.012</td> <td>    0.255</td> <td> 0.799</td> <td>   -0.021</td> <td>    0.027</td>\n",
       "</tr>\n",
       "<tr>\n",
       "  <th>Reactions</th>          <td>   -0.4531</td> <td>    0.018</td> <td>  -25.366</td> <td> 0.000</td> <td>   -0.488</td> <td>   -0.418</td>\n",
       "</tr>\n",
       "<tr>\n",
       "  <th>Balance</th>            <td>    0.0300</td> <td>    0.009</td> <td>    3.161</td> <td> 0.002</td> <td>    0.011</td> <td>    0.049</td>\n",
       "</tr>\n",
       "<tr>\n",
       "  <th>ShotPower</th>          <td>   -0.0578</td> <td>    0.011</td> <td>   -5.287</td> <td> 0.000</td> <td>   -0.079</td> <td>   -0.036</td>\n",
       "</tr>\n",
       "<tr>\n",
       "  <th>Jumping</th>            <td>   -0.0140</td> <td>    0.007</td> <td>   -2.076</td> <td> 0.038</td> <td>   -0.027</td> <td>   -0.001</td>\n",
       "</tr>\n",
       "<tr>\n",
       "  <th>Stamina</th>            <td>   -0.0065</td> <td>    0.008</td> <td>   -0.807</td> <td> 0.419</td> <td>   -0.022</td> <td>    0.009</td>\n",
       "</tr>\n",
       "<tr>\n",
       "  <th>Strength</th>           <td>   -0.0538</td> <td>    0.010</td> <td>   -5.511</td> <td> 0.000</td> <td>   -0.073</td> <td>   -0.035</td>\n",
       "</tr>\n",
       "<tr>\n",
       "  <th>LongShots</th>          <td>    0.0483</td> <td>    0.010</td> <td>    4.666</td> <td> 0.000</td> <td>    0.028</td> <td>    0.069</td>\n",
       "</tr>\n",
       "<tr>\n",
       "  <th>Aggression</th>         <td>   -0.0233</td> <td>    0.007</td> <td>   -3.205</td> <td> 0.001</td> <td>   -0.038</td> <td>   -0.009</td>\n",
       "</tr>\n",
       "<tr>\n",
       "  <th>Interceptions</th>      <td>    0.0350</td> <td>    0.008</td> <td>    4.369</td> <td> 0.000</td> <td>    0.019</td> <td>    0.051</td>\n",
       "</tr>\n",
       "<tr>\n",
       "  <th>Positioning</th>        <td>    0.0841</td> <td>    0.011</td> <td>    7.974</td> <td> 0.000</td> <td>    0.063</td> <td>    0.105</td>\n",
       "</tr>\n",
       "<tr>\n",
       "  <th>Vision</th>             <td>    0.0710</td> <td>    0.011</td> <td>    6.234</td> <td> 0.000</td> <td>    0.049</td> <td>    0.093</td>\n",
       "</tr>\n",
       "<tr>\n",
       "  <th>Penalties</th>          <td>   -0.0088</td> <td>    0.008</td> <td>   -1.050</td> <td> 0.294</td> <td>   -0.025</td> <td>    0.008</td>\n",
       "</tr>\n",
       "<tr>\n",
       "  <th>Composure</th>          <td>   -0.2066</td> <td>    0.013</td> <td>  -15.334</td> <td> 0.000</td> <td>   -0.233</td> <td>   -0.180</td>\n",
       "</tr>\n",
       "<tr>\n",
       "  <th>Marking</th>            <td>   -0.0453</td> <td>    0.007</td> <td>   -6.181</td> <td> 0.000</td> <td>   -0.060</td> <td>   -0.031</td>\n",
       "</tr>\n",
       "<tr>\n",
       "  <th>RankingTier=Middle</th>    <th>coef</th>     <th>std err</th>      <th>z</th>      <th>P>|z|</th>  <th>[0.025</th>    <th>0.975]</th>  \n",
       "</tr>\n",
       "<tr>\n",
       "  <th>const</th>              <td>   61.3776</td> <td>    2.061</td> <td>   29.781</td> <td> 0.000</td> <td>   57.338</td> <td>   65.417</td>\n",
       "</tr>\n",
       "<tr>\n",
       "  <th>Crossing</th>           <td>   -0.0005</td> <td>    0.007</td> <td>   -0.068</td> <td> 0.946</td> <td>   -0.015</td> <td>    0.014</td>\n",
       "</tr>\n",
       "<tr>\n",
       "  <th>Finishing</th>          <td>   -0.0285</td> <td>    0.009</td> <td>   -3.222</td> <td> 0.001</td> <td>   -0.046</td> <td>   -0.011</td>\n",
       "</tr>\n",
       "<tr>\n",
       "  <th>HeadingAccuracy</th>    <td>   -0.0491</td> <td>    0.008</td> <td>   -6.289</td> <td> 0.000</td> <td>   -0.064</td> <td>   -0.034</td>\n",
       "</tr>\n",
       "<tr>\n",
       "  <th>ShortPassing</th>       <td>   -0.1864</td> <td>    0.020</td> <td>   -9.355</td> <td> 0.000</td> <td>   -0.225</td> <td>   -0.147</td>\n",
       "</tr>\n",
       "<tr>\n",
       "  <th>Volleys</th>            <td>    0.0149</td> <td>    0.007</td> <td>    2.040</td> <td> 0.041</td> <td>    0.001</td> <td>    0.029</td>\n",
       "</tr>\n",
       "<tr>\n",
       "  <th>Dribbling</th>          <td>   -0.0003</td> <td>    0.015</td> <td>   -0.020</td> <td> 0.984</td> <td>   -0.029</td> <td>    0.028</td>\n",
       "</tr>\n",
       "<tr>\n",
       "  <th>Curve</th>              <td>    0.0037</td> <td>    0.008</td> <td>    0.486</td> <td> 0.627</td> <td>   -0.011</td> <td>    0.019</td>\n",
       "</tr>\n",
       "<tr>\n",
       "  <th>FKAccuracy</th>         <td>   -0.0029</td> <td>    0.006</td> <td>   -0.451</td> <td> 0.652</td> <td>   -0.015</td> <td>    0.010</td>\n",
       "</tr>\n",
       "<tr>\n",
       "  <th>LongPassing</th>        <td>    0.0047</td> <td>    0.011</td> <td>    0.434</td> <td> 0.664</td> <td>   -0.016</td> <td>    0.026</td>\n",
       "</tr>\n",
       "<tr>\n",
       "  <th>BallControl</th>        <td>   -0.2113</td> <td>    0.021</td> <td>  -10.098</td> <td> 0.000</td> <td>   -0.252</td> <td>   -0.170</td>\n",
       "</tr>\n",
       "<tr>\n",
       "  <th>Acceleration</th>       <td>   -0.0406</td> <td>    0.012</td> <td>   -3.308</td> <td> 0.001</td> <td>   -0.065</td> <td>   -0.017</td>\n",
       "</tr>\n",
       "<tr>\n",
       "  <th>SprintSpeed</th>        <td>   -0.0286</td> <td>    0.011</td> <td>   -2.619</td> <td> 0.009</td> <td>   -0.050</td> <td>   -0.007</td>\n",
       "</tr>\n",
       "<tr>\n",
       "  <th>Agility</th>            <td>    0.0056</td> <td>    0.011</td> <td>    0.499</td> <td> 0.618</td> <td>   -0.016</td> <td>    0.027</td>\n",
       "</tr>\n",
       "<tr>\n",
       "  <th>Reactions</th>          <td>   -0.2830</td> <td>    0.016</td> <td>  -17.200</td> <td> 0.000</td> <td>   -0.315</td> <td>   -0.251</td>\n",
       "</tr>\n",
       "<tr>\n",
       "  <th>Balance</th>            <td>    0.0192</td> <td>    0.008</td> <td>    2.261</td> <td> 0.024</td> <td>    0.003</td> <td>    0.036</td>\n",
       "</tr>\n",
       "<tr>\n",
       "  <th>ShotPower</th>          <td>   -0.0413</td> <td>    0.010</td> <td>   -4.154</td> <td> 0.000</td> <td>   -0.061</td> <td>   -0.022</td>\n",
       "</tr>\n",
       "<tr>\n",
       "  <th>Jumping</th>            <td>   -0.0032</td> <td>    0.006</td> <td>   -0.549</td> <td> 0.583</td> <td>   -0.015</td> <td>    0.008</td>\n",
       "</tr>\n",
       "<tr>\n",
       "  <th>Stamina</th>            <td>    0.0041</td> <td>    0.007</td> <td>    0.574</td> <td> 0.566</td> <td>   -0.010</td> <td>    0.018</td>\n",
       "</tr>\n",
       "<tr>\n",
       "  <th>Strength</th>           <td>   -0.0262</td> <td>    0.009</td> <td>   -2.955</td> <td> 0.003</td> <td>   -0.044</td> <td>   -0.009</td>\n",
       "</tr>\n",
       "<tr>\n",
       "  <th>LongShots</th>          <td>    0.0390</td> <td>    0.009</td> <td>    4.221</td> <td> 0.000</td> <td>    0.021</td> <td>    0.057</td>\n",
       "</tr>\n",
       "<tr>\n",
       "  <th>Aggression</th>         <td>   -0.0170</td> <td>    0.006</td> <td>   -2.630</td> <td> 0.009</td> <td>   -0.030</td> <td>   -0.004</td>\n",
       "</tr>\n",
       "<tr>\n",
       "  <th>Interceptions</th>      <td>    0.0275</td> <td>    0.007</td> <td>    3.911</td> <td> 0.000</td> <td>    0.014</td> <td>    0.041</td>\n",
       "</tr>\n",
       "<tr>\n",
       "  <th>Positioning</th>        <td>    0.0628</td> <td>    0.010</td> <td>    6.604</td> <td> 0.000</td> <td>    0.044</td> <td>    0.082</td>\n",
       "</tr>\n",
       "<tr>\n",
       "  <th>Vision</th>             <td>    0.0431</td> <td>    0.010</td> <td>    4.217</td> <td> 0.000</td> <td>    0.023</td> <td>    0.063</td>\n",
       "</tr>\n",
       "<tr>\n",
       "  <th>Penalties</th>          <td>   -0.0019</td> <td>    0.007</td> <td>   -0.264</td> <td> 0.792</td> <td>   -0.016</td> <td>    0.012</td>\n",
       "</tr>\n",
       "<tr>\n",
       "  <th>Composure</th>          <td>   -0.1099</td> <td>    0.012</td> <td>   -8.882</td> <td> 0.000</td> <td>   -0.134</td> <td>   -0.086</td>\n",
       "</tr>\n",
       "<tr>\n",
       "  <th>Marking</th>            <td>   -0.0231</td> <td>    0.006</td> <td>   -3.642</td> <td> 0.000</td> <td>   -0.035</td> <td>   -0.011</td>\n",
       "</tr>\n",
       "</table>"
      ],
      "text/plain": [
       "<class 'statsmodels.iolib.summary.Summary'>\n",
       "\"\"\"\n",
       "                          MNLogit Regression Results                          \n",
       "==============================================================================\n",
       "Dep. Variable:            RankingTier   No. Observations:                12897\n",
       "Model:                        MNLogit   Df Residuals:                    12841\n",
       "Method:                           MLE   Df Model:                           54\n",
       "Date:                Fri, 16 Oct 2020   Pseudo R-squ.:                  0.6289\n",
       "Time:                        16:50:03   Log-Likelihood:                -4390.8\n",
       "converged:                       True   LL-Null:                       -11831.\n",
       "Covariance Type:            nonrobust   LLR p-value:                     0.000\n",
       "======================================================================================\n",
       "   RankingTier=Low       coef    std err          z      P>|z|      [0.025      0.975]\n",
       "--------------------------------------------------------------------------------------\n",
       "const                 98.5964      2.217     44.465      0.000      94.250     102.942\n",
       "Crossing              -0.0110      0.008     -1.307      0.191      -0.027       0.005\n",
       "Finishing             -0.0434      0.010     -4.289      0.000      -0.063      -0.024\n",
       "HeadingAccuracy       -0.1163      0.009    -12.918      0.000      -0.134      -0.099\n",
       "ShortPassing          -0.2707      0.022    -12.572      0.000      -0.313      -0.228\n",
       "Volleys                0.0221      0.009      2.591      0.010       0.005       0.039\n",
       "Dribbling              0.0072      0.016      0.453      0.650      -0.024       0.038\n",
       "Curve                 -0.0004      0.009     -0.043      0.966      -0.018       0.017\n",
       "FKAccuracy            -0.0087      0.007     -1.179      0.239      -0.023       0.006\n",
       "LongPassing            0.0100      0.012      0.829      0.407      -0.014       0.034\n",
       "BallControl           -0.3243      0.023    -14.320      0.000      -0.369      -0.280\n",
       "Acceleration          -0.0624      0.014     -4.515      0.000      -0.090      -0.035\n",
       "SprintSpeed           -0.0537      0.012     -4.324      0.000      -0.078      -0.029\n",
       "Agility                0.0031      0.012      0.255      0.799      -0.021       0.027\n",
       "Reactions             -0.4531      0.018    -25.366      0.000      -0.488      -0.418\n",
       "Balance                0.0300      0.009      3.161      0.002       0.011       0.049\n",
       "ShotPower             -0.0578      0.011     -5.287      0.000      -0.079      -0.036\n",
       "Jumping               -0.0140      0.007     -2.076      0.038      -0.027      -0.001\n",
       "Stamina               -0.0065      0.008     -0.807      0.419      -0.022       0.009\n",
       "Strength              -0.0538      0.010     -5.511      0.000      -0.073      -0.035\n",
       "LongShots              0.0483      0.010      4.666      0.000       0.028       0.069\n",
       "Aggression            -0.0233      0.007     -3.205      0.001      -0.038      -0.009\n",
       "Interceptions          0.0350      0.008      4.369      0.000       0.019       0.051\n",
       "Positioning            0.0841      0.011      7.974      0.000       0.063       0.105\n",
       "Vision                 0.0710      0.011      6.234      0.000       0.049       0.093\n",
       "Penalties             -0.0088      0.008     -1.050      0.294      -0.025       0.008\n",
       "Composure             -0.2066      0.013    -15.334      0.000      -0.233      -0.180\n",
       "Marking               -0.0453      0.007     -6.181      0.000      -0.060      -0.031\n",
       "--------------------------------------------------------------------------------------\n",
       "RankingTier=Middle       coef    std err          z      P>|z|      [0.025      0.975]\n",
       "--------------------------------------------------------------------------------------\n",
       "const                 61.3776      2.061     29.781      0.000      57.338      65.417\n",
       "Crossing              -0.0005      0.007     -0.068      0.946      -0.015       0.014\n",
       "Finishing             -0.0285      0.009     -3.222      0.001      -0.046      -0.011\n",
       "HeadingAccuracy       -0.0491      0.008     -6.289      0.000      -0.064      -0.034\n",
       "ShortPassing          -0.1864      0.020     -9.355      0.000      -0.225      -0.147\n",
       "Volleys                0.0149      0.007      2.040      0.041       0.001       0.029\n",
       "Dribbling             -0.0003      0.015     -0.020      0.984      -0.029       0.028\n",
       "Curve                  0.0037      0.008      0.486      0.627      -0.011       0.019\n",
       "FKAccuracy            -0.0029      0.006     -0.451      0.652      -0.015       0.010\n",
       "LongPassing            0.0047      0.011      0.434      0.664      -0.016       0.026\n",
       "BallControl           -0.2113      0.021    -10.098      0.000      -0.252      -0.170\n",
       "Acceleration          -0.0406      0.012     -3.308      0.001      -0.065      -0.017\n",
       "SprintSpeed           -0.0286      0.011     -2.619      0.009      -0.050      -0.007\n",
       "Agility                0.0056      0.011      0.499      0.618      -0.016       0.027\n",
       "Reactions             -0.2830      0.016    -17.200      0.000      -0.315      -0.251\n",
       "Balance                0.0192      0.008      2.261      0.024       0.003       0.036\n",
       "ShotPower             -0.0413      0.010     -4.154      0.000      -0.061      -0.022\n",
       "Jumping               -0.0032      0.006     -0.549      0.583      -0.015       0.008\n",
       "Stamina                0.0041      0.007      0.574      0.566      -0.010       0.018\n",
       "Strength              -0.0262      0.009     -2.955      0.003      -0.044      -0.009\n",
       "LongShots              0.0390      0.009      4.221      0.000       0.021       0.057\n",
       "Aggression            -0.0170      0.006     -2.630      0.009      -0.030      -0.004\n",
       "Interceptions          0.0275      0.007      3.911      0.000       0.014       0.041\n",
       "Positioning            0.0628      0.010      6.604      0.000       0.044       0.082\n",
       "Vision                 0.0431      0.010      4.217      0.000       0.023       0.063\n",
       "Penalties             -0.0019      0.007     -0.264      0.792      -0.016       0.012\n",
       "Composure             -0.1099      0.012     -8.882      0.000      -0.134      -0.086\n",
       "Marking               -0.0231      0.006     -3.642      0.000      -0.035      -0.011\n",
       "======================================================================================\n",
       "\"\"\""
      ]
     },
     "execution_count": 8,
     "metadata": {},
     "output_type": "execute_result"
    }
   ],
   "source": [
    "# answer goes here\n",
    "X_train_constant = sm.add_constant(X_train)\n",
    "msm = sm.MNLogit(y_train ,X_train_constant).fit()\n",
    "\n",
    "msm.summary()"
   ]
  },
  {
   "cell_type": "markdown",
   "metadata": {
    "colab_type": "text",
    "id": "KkMAIoh0rrEP"
   },
   "source": [
    "To evaluate test error using cross-validation, we will switch back to scikit-learn. Estimate the test error of this multinomial logistic regression model using 10-fold CV.\n",
    "\n",
    "Note: scikit-learn's LogisticRegression() function can handle both binary and multinomial regression, and it is automatically able to determine which is appropriate based on the y_train array that is passed. You should be able to reuse previous code with minimal changes required."
   ]
  },
  {
   "cell_type": "code",
   "execution_count": 9,
   "metadata": {
    "colab": {},
    "colab_type": "code",
    "id": "lPRW-I6IrrEQ"
   },
   "outputs": [
    {
     "data": {
      "text/plain": [
       "array([0.84418605, 0.81317829, 0.83643411, 0.84883721, 0.86046512,\n",
       "       0.85503876, 0.85271318, 0.84639255, 0.84871994, 0.85027153])"
      ]
     },
     "execution_count": 9,
     "metadata": {},
     "output_type": "execute_result"
    }
   ],
   "source": [
    "# answer goes here\n",
    "scaler = StandardScaler()\n",
    "X_train_scaled = scaler.fit_transform(X_train)\n",
    "logit_cv = LogisticRegression(max_iter=5000, multi_class='multinomial')\n",
    "\n",
    "cv = cross_val_score(logit_cv, X_train_scaled, y_train,cv=10)\n",
    "cv\n"
   ]
  },
  {
   "cell_type": "markdown",
   "metadata": {
    "colab_type": "text",
    "id": "2qBq7WCNVYp_"
   },
   "source": [
    "As we did in the previous exercise, train a multinomial logistic regression on the training data, make predictions on the 20% holdout test data, then:\n",
    "\n",
    "- Determine the precision, recall, and F1-score of our model using a cutoff/threshold of 0.5 (hint: scikit-learn's *classification_report* function may be helpful)\n",
    "- Plot or otherwise generate a confusion matrix\n",
    "- Plot the ROC curve for our logistic regression model\n",
    "\n",
    "Comment on the performance of the model."
   ]
  },
  {
   "cell_type": "code",
   "execution_count": 10,
   "metadata": {
    "colab": {},
    "colab_type": "code",
    "id": "FFup74enVYp_"
   },
   "outputs": [
    {
     "data": {
      "text/plain": [
       "LogisticRegression(C=1.0, class_weight=None, dual=False, fit_intercept=True,\n",
       "                   intercept_scaling=1, l1_ratio=None, max_iter=5000,\n",
       "                   multi_class='multinomial', n_jobs=None, penalty='l2',\n",
       "                   random_state=None, solver='lbfgs', tol=0.0001, verbose=0,\n",
       "                   warm_start=False)"
      ]
     },
     "execution_count": 10,
     "metadata": {},
     "output_type": "execute_result"
    }
   ],
   "source": [
    "# answer goes here\n",
    "logit = LogisticRegression(max_iter=5000, multi_class='multinomial')\n",
    "logit.fit(X_train_scaled, y_train)\n",
    "\n",
    "\n"
   ]
  },
  {
   "cell_type": "code",
   "execution_count": 11,
   "metadata": {},
   "outputs": [
    {
     "name": "stdout",
     "output_type": "stream",
     "text": [
      "              precision    recall  f1-score   support\n",
      "\n",
      "        High       0.84      0.76      0.80       290\n",
      "         Low       0.85      0.83      0.84      1210\n",
      "      Middle       0.85      0.87      0.86      1725\n",
      "\n",
      "    accuracy                           0.84      3225\n",
      "   macro avg       0.84      0.82      0.83      3225\n",
      "weighted avg       0.84      0.84      0.84      3225\n",
      "\n"
     ]
    }
   ],
   "source": [
    "X_test_scaled = scaler.transform(X_test)\n",
    "test_predictions = logit.predict(X_test_scaled)\n",
    "print(classification_report(y_test, test_predictions))"
   ]
  },
  {
   "cell_type": "code",
   "execution_count": 12,
   "metadata": {},
   "outputs": [
    {
     "data": {
      "text/plain": [
       "<sklearn.metrics._plot.confusion_matrix.ConfusionMatrixDisplay at 0x7faee879a3d0>"
      ]
     },
     "execution_count": 12,
     "metadata": {},
     "output_type": "execute_result"
    },
    {
     "data": {
      "image/png": "[encoded data removed]",
      "text/plain": [
       "<Figure size 432x288 with 2 Axes>"
      ]
     },
     "metadata": {
      "needs_background": "light"
     },
     "output_type": "display_data"
    }
   ],
   "source": [
    "plot_confusion_matrix(logit, X_test_scaled, y_test, cmap='Blues', normalize='true')"
   ]
  },
  {
   "cell_type": "code",
   "execution_count": 14,
   "metadata": {},
   "outputs": [
    {
     "data": {
      "image/png": "[encoded data removed]",
      "text/plain": [
       "<Figure size 1152x720 with 1 Axes>"
      ]
     },
     "metadata": {
      "needs_background": "light"
     },
     "output_type": "display_data"
    }
   ],
   "source": [
    "def plot_multiclass_roc(clf, X_test, y_test, n_classes, figsize=(17, 6)):\n",
    "    y_score = clf.predict_proba(X_test)\n",
    "\n",
    "    fpr = dict()\n",
    "    tpr = dict()\n",
    "    roc_auc = dict()\n",
    "    \n",
    "    y_test_dummies = pd.get_dummies(y_test, drop_first=False).values\n",
    "    for i in range(n_classes):\n",
    "        fpr[i], tpr[i], _ = roc_curve(y_test_dummies[:, i], y_score[:, i])\n",
    "        roc_auc[i] = auc(fpr[i], tpr[i])\n",
    "\n",
    "    # roc for each class\n",
    "    fig, ax = plt.subplots(figsize=figsize)\n",
    "    ax.plot([0, 1], [0, 1], 'k--')\n",
    "    ax.set_xlim([0.0, 1.0])\n",
    "    ax.set_ylim([0.0, 1.05])\n",
    "    ax.set_xlabel('False Positive Rate')\n",
    "    ax.set_ylabel('True Positive Rate')\n",
    "    for i in range(n_classes):\n",
    "        ax.plot(fpr[i], tpr[i], label='ROC curve (area = %0.2f) for label %i' % (roc_auc[i], i))\n",
    "    ax.legend(loc=\"best\")\n",
    "    plt.show()\n",
    "\n",
    "plot_multiclass_roc(logit, X_test_scaled, y_test, n_classes=3, figsize=(16, 10))\n"
   ]
  },
  {
   "cell_type": "code",
   "execution_count": null,
   "metadata": {},
   "outputs": [],
   "source": []
  }
 ],
 "metadata": {
  "colab": {
   "collapsed_sections": [],
   "name": "Day 25 Lecture 2 Assignment.ipynb",
   "provenance": []
  },
  "kernelspec": {
   "display_name": "Python 3",
   "language": "python",
   "name": "python3"
  },
  "language_info": {
   "codemirror_mode": {
    "name": "ipython",
    "version": 3
   },
   "file_extension": ".py",
   "mimetype": "text/x-python",
   "name": "python",
   "nbconvert_exporter": "python",
   "pygments_lexer": "ipython3",
   "version": "3.8.5"
  }
 },
 "nbformat": 4,
 "nbformat_minor": 1
}
