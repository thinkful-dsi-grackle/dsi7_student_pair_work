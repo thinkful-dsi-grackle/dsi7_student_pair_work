{
  "nbformat": 4,
  "nbformat_minor": 0,
  "metadata": {
    "colab": {
      "name": "Day 25 Lecture 1 Assignment.ipynb",
      "provenance": [],
      "collapsed_sections": []
    },
    "kernelspec": {
      "display_name": "Python 3",
      "language": "python",
      "name": "python3"
    },
    "language_info": {
      "codemirror_mode": {
        "name": "ipython",
        "version": 3
      },
      "file_extension": ".py",
      "mimetype": "text/x-python",
      "name": "python",
      "nbconvert_exporter": "python",
      "pygments_lexer": "ipython3",
      "version": "3.7.3"
    }
  },
  "cells": [
    {
      "cell_type": "markdown",
      "metadata": {
        "id": "kOVPVzs51Zbk"
      },
      "source": [
        "## Day 25 Lecture 1 Assignment\n",
        "\n",
        "In this assignment, we will evaluate the performance of the model we built yesterday on the Chicago traffic crash data. We will also perform hyperparameter tuning and evaluate a final model using additional metrics (e.g. AUC-ROC, precision, recall, etc.)"
      ]
    },
    {
      "cell_type": "code",
      "metadata": {
        "id": "pMcAKhJ91Zbl"
      },
      "source": [
        "import matplotlib.pyplot as plt\n",
        "import numpy as np\n",
        "import pandas as pd"
      ],
      "execution_count": 1,
      "outputs": []
    },
    {
      "cell_type": "markdown",
      "metadata": {
        "id": "UkPoFJCueQZ3"
      },
      "source": [
        "Since we will be building on the model we built in the last assignment, we will need to redo all of the data preparation steps up to the point of model building. These steps include creating the response, missing value imputation, and one-hot encoding our selected categorical variables. The quickest way to get going would be to open last week's assignment, make a copy, and build on it from there."
      ]
    },
    {
      "cell_type": "markdown",
      "metadata": {
        "id": "P7hI35MY1Zbq"
      },
      "source": [
        "Statsmodels' implementation of logistic has certain advantages over scikit-learn's, such as clean, easy to read model summary output and statistical inference values (e.g. p-values). However, scikit-learn is preferable for model evaluation, so we will switch to the scikit-learn implementation for this exercise. \n",
        "\n",
        "Run logistic regression on the training set and use the resulting model to make predictions on the test set. Calculate the train and test error using logarithmic loss. How do they compare to each other?"
      ]
    },
    {
      "cell_type": "code",
      "metadata": {
        "id": "n7SM7qJ81Zbr",
        "outputId": "11e959f5-aa9e-47d0-f658-8c1b9d52a46a",
        "colab": {
          "base_uri": "https://localhost:8080/",
          "height": 578
        }
      },
      "source": [
        "# answer goes here\n",
        "crash = pd.read_csv('https://tf-assets-prod.s3.amazonaws.com/tf-curric/data-science/traffic_crashes_chicago.csv')\n",
        "crash['DAMAGE_C'] = crash['DAMAGE'] == 'OVER $1,500'\n",
        "\n",
        "def missingness_summary(df,print_log,sort):\n",
        "  percentage_null = df.isnull().sum()*100/df.isnull().count()\n",
        "  if sort == 'ascending':\n",
        "    return percentage_null.sort_values()\n",
        "  elif sort == 'descending':\n",
        "    return percentage_null.sort_values(ascending=False)\n",
        "  else: \n",
        "    return percentage_null\n",
        "crash_1 = missingness_summary(crash,0,'descending')\n",
        "crash_1 = crash_1.loc[crash_1 > 5.0].index\n",
        "\n",
        "\n",
        "crash['INJURIES_TOTAL'].fillna(crash['INJURIES_TOTAL'].median(), inplace=True)\n",
        "crash['INJURIES_FATAL'].fillna(crash['INJURIES_FATAL'].median(), inplace=True)\n",
        "crash['INJURIES_INCAPACITATING'].fillna(crash['INJURIES_INCAPACITATING'].median(), inplace=True)\n",
        "crash['INJURIES_NON_INCAPACITATING'].fillna(crash['INJURIES_NON_INCAPACITATING'].median(), inplace=True)\n",
        "crash['INJURIES_REPORTED_NOT_EVIDENT'].fillna(crash['INJURIES_REPORTED_NOT_EVIDENT'].median(), inplace=True)\n",
        "crash['INJURIES_NO_INDICATION'].fillna(crash['INJURIES_NO_INDICATION'].median(), inplace=True)\n",
        "crash['INJURIES_UNKNOWN'].fillna(crash['INJURIES_UNKNOWN'].median(), inplace=True)\n",
        "crash['NUM_UNITS'].fillna(crash['NUM_UNITS'].median(), inplace=True)\n",
        "crash['BEAT_OF_OCCURRENCE'].fillna(crash['BEAT_OF_OCCURRENCE'].median(), inplace=True)\n",
        "\n",
        "\n",
        "crash = crash.drop(columns=crash_1, axis=1)\n",
        "crash = crash.dropna()\n",
        "missingness_summary(crash,0,'descending')"
      ],
      "execution_count": 2,
      "outputs": [
        {
          "output_type": "execute_result",
          "data": {
            "text/plain": [
              "DAMAGE_C                         0.0\n",
              "INJURIES_UNKNOWN                 0.0\n",
              "CRASH_DATE                       0.0\n",
              "POSTED_SPEED_LIMIT               0.0\n",
              "TRAFFIC_CONTROL_DEVICE           0.0\n",
              "DEVICE_CONDITION                 0.0\n",
              "WEATHER_CONDITION                0.0\n",
              "LIGHTING_CONDITION               0.0\n",
              "FIRST_CRASH_TYPE                 0.0\n",
              "TRAFFICWAY_TYPE                  0.0\n",
              "ALIGNMENT                        0.0\n",
              "ROADWAY_SURFACE_COND             0.0\n",
              "ROAD_DEFECT                      0.0\n",
              "REPORT_TYPE                      0.0\n",
              "CRASH_TYPE                       0.0\n",
              "DAMAGE                           0.0\n",
              "DATE_POLICE_NOTIFIED             0.0\n",
              "PRIM_CONTRIBUTORY_CAUSE          0.0\n",
              "SEC_CONTRIBUTORY_CAUSE           0.0\n",
              "STREET_NO                        0.0\n",
              "STREET_DIRECTION                 0.0\n",
              "STREET_NAME                      0.0\n",
              "BEAT_OF_OCCURRENCE               0.0\n",
              "NUM_UNITS                        0.0\n",
              "MOST_SEVERE_INJURY               0.0\n",
              "INJURIES_TOTAL                   0.0\n",
              "INJURIES_FATAL                   0.0\n",
              "INJURIES_INCAPACITATING          0.0\n",
              "INJURIES_NON_INCAPACITATING      0.0\n",
              "INJURIES_REPORTED_NOT_EVIDENT    0.0\n",
              "INJURIES_NO_INDICATION           0.0\n",
              "RD_NO                            0.0\n",
              "dtype: float64"
            ]
          },
          "metadata": {
            "tags": []
          },
          "execution_count": 2
        }
      ]
    },
    {
      "cell_type": "code",
      "metadata": {
        "id": "AGUcUk2vBxsS",
        "outputId": "e10b8b02-7df5-4c55-c6bb-7e2d3611473e",
        "colab": {
          "base_uri": "https://localhost:8080/",
          "height": 490
        }
      },
      "source": [
        "new_crash = crash.filter(['POSTED_SPEED_LIMIT', 'INJURIES_TOTAL'])\n",
        "weather = pd.get_dummies(crash[\"WEATHER_CONDITION\"], drop_first=True)\n",
        "crashtype = pd.get_dummies(crash['FIRST_CRASH_TYPE'], drop_first=True)\n",
        "new_crash = pd.concat([new_crash, weather], axis=1)\n",
        "new_crash = pd.concat([new_crash, crashtype], axis=1)\n",
        "new_crash"
      ],
      "execution_count": 3,
      "outputs": [
        {
          "output_type": "execute_result",
          "data": {
            "text/html": [
              "<div>\n",
              "<style scoped>\n",
              "    .dataframe tbody tr th:only-of-type {\n",
              "        vertical-align: middle;\n",
              "    }\n",
              "\n",
              "    .dataframe tbody tr th {\n",
              "        vertical-align: top;\n",
              "    }\n",
              "\n",
              "    .dataframe thead th {\n",
              "        text-align: right;\n",
              "    }\n",
              "</style>\n",
              "<table border=\"1\" class=\"dataframe\">\n",
              "  <thead>\n",
              "    <tr style=\"text-align: right;\">\n",
              "      <th></th>\n",
              "      <th>POSTED_SPEED_LIMIT</th>\n",
              "      <th>INJURIES_TOTAL</th>\n",
              "      <th>CLEAR</th>\n",
              "      <th>CLOUDY/OVERCAST</th>\n",
              "      <th>FOG/SMOKE/HAZE</th>\n",
              "      <th>FREEZING RAIN/DRIZZLE</th>\n",
              "      <th>OTHER</th>\n",
              "      <th>RAIN</th>\n",
              "      <th>SEVERE CROSS WIND GATE</th>\n",
              "      <th>SLEET/HAIL</th>\n",
              "      <th>SNOW</th>\n",
              "      <th>UNKNOWN</th>\n",
              "      <th>ANIMAL</th>\n",
              "      <th>FIXED OBJECT</th>\n",
              "      <th>HEAD ON</th>\n",
              "      <th>OTHER NONCOLLISION</th>\n",
              "      <th>OTHER OBJECT</th>\n",
              "      <th>OVERTURNED</th>\n",
              "      <th>PARKED MOTOR VEHICLE</th>\n",
              "      <th>PEDALCYCLIST</th>\n",
              "      <th>PEDESTRIAN</th>\n",
              "      <th>REAR END</th>\n",
              "      <th>REAR TO FRONT</th>\n",
              "      <th>REAR TO REAR</th>\n",
              "      <th>REAR TO SIDE</th>\n",
              "      <th>SIDESWIPE OPPOSITE DIRECTION</th>\n",
              "      <th>SIDESWIPE SAME DIRECTION</th>\n",
              "      <th>TRAIN</th>\n",
              "      <th>TURNING</th>\n",
              "    </tr>\n",
              "  </thead>\n",
              "  <tbody>\n",
              "    <tr>\n",
              "      <th>6</th>\n",
              "      <td>30</td>\n",
              "      <td>0.0</td>\n",
              "      <td>1</td>\n",
              "      <td>0</td>\n",
              "      <td>0</td>\n",
              "      <td>0</td>\n",
              "      <td>0</td>\n",
              "      <td>0</td>\n",
              "      <td>0</td>\n",
              "      <td>0</td>\n",
              "      <td>0</td>\n",
              "      <td>0</td>\n",
              "      <td>0</td>\n",
              "      <td>0</td>\n",
              "      <td>0</td>\n",
              "      <td>0</td>\n",
              "      <td>0</td>\n",
              "      <td>0</td>\n",
              "      <td>0</td>\n",
              "      <td>0</td>\n",
              "      <td>0</td>\n",
              "      <td>1</td>\n",
              "      <td>0</td>\n",
              "      <td>0</td>\n",
              "      <td>0</td>\n",
              "      <td>0</td>\n",
              "      <td>0</td>\n",
              "      <td>0</td>\n",
              "      <td>0</td>\n",
              "    </tr>\n",
              "    <tr>\n",
              "      <th>7</th>\n",
              "      <td>30</td>\n",
              "      <td>1.0</td>\n",
              "      <td>1</td>\n",
              "      <td>0</td>\n",
              "      <td>0</td>\n",
              "      <td>0</td>\n",
              "      <td>0</td>\n",
              "      <td>0</td>\n",
              "      <td>0</td>\n",
              "      <td>0</td>\n",
              "      <td>0</td>\n",
              "      <td>0</td>\n",
              "      <td>0</td>\n",
              "      <td>1</td>\n",
              "      <td>0</td>\n",
              "      <td>0</td>\n",
              "      <td>0</td>\n",
              "      <td>0</td>\n",
              "      <td>0</td>\n",
              "      <td>0</td>\n",
              "      <td>0</td>\n",
              "      <td>0</td>\n",
              "      <td>0</td>\n",
              "      <td>0</td>\n",
              "      <td>0</td>\n",
              "      <td>0</td>\n",
              "      <td>0</td>\n",
              "      <td>0</td>\n",
              "      <td>0</td>\n",
              "    </tr>\n",
              "    <tr>\n",
              "      <th>8</th>\n",
              "      <td>30</td>\n",
              "      <td>0.0</td>\n",
              "      <td>1</td>\n",
              "      <td>0</td>\n",
              "      <td>0</td>\n",
              "      <td>0</td>\n",
              "      <td>0</td>\n",
              "      <td>0</td>\n",
              "      <td>0</td>\n",
              "      <td>0</td>\n",
              "      <td>0</td>\n",
              "      <td>0</td>\n",
              "      <td>0</td>\n",
              "      <td>0</td>\n",
              "      <td>0</td>\n",
              "      <td>0</td>\n",
              "      <td>0</td>\n",
              "      <td>0</td>\n",
              "      <td>0</td>\n",
              "      <td>0</td>\n",
              "      <td>0</td>\n",
              "      <td>0</td>\n",
              "      <td>0</td>\n",
              "      <td>0</td>\n",
              "      <td>0</td>\n",
              "      <td>0</td>\n",
              "      <td>0</td>\n",
              "      <td>0</td>\n",
              "      <td>1</td>\n",
              "    </tr>\n",
              "    <tr>\n",
              "      <th>9</th>\n",
              "      <td>30</td>\n",
              "      <td>0.0</td>\n",
              "      <td>1</td>\n",
              "      <td>0</td>\n",
              "      <td>0</td>\n",
              "      <td>0</td>\n",
              "      <td>0</td>\n",
              "      <td>0</td>\n",
              "      <td>0</td>\n",
              "      <td>0</td>\n",
              "      <td>0</td>\n",
              "      <td>0</td>\n",
              "      <td>0</td>\n",
              "      <td>0</td>\n",
              "      <td>0</td>\n",
              "      <td>0</td>\n",
              "      <td>0</td>\n",
              "      <td>0</td>\n",
              "      <td>1</td>\n",
              "      <td>0</td>\n",
              "      <td>0</td>\n",
              "      <td>0</td>\n",
              "      <td>0</td>\n",
              "      <td>0</td>\n",
              "      <td>0</td>\n",
              "      <td>0</td>\n",
              "      <td>0</td>\n",
              "      <td>0</td>\n",
              "      <td>0</td>\n",
              "    </tr>\n",
              "    <tr>\n",
              "      <th>10</th>\n",
              "      <td>30</td>\n",
              "      <td>1.0</td>\n",
              "      <td>0</td>\n",
              "      <td>1</td>\n",
              "      <td>0</td>\n",
              "      <td>0</td>\n",
              "      <td>0</td>\n",
              "      <td>0</td>\n",
              "      <td>0</td>\n",
              "      <td>0</td>\n",
              "      <td>0</td>\n",
              "      <td>0</td>\n",
              "      <td>0</td>\n",
              "      <td>0</td>\n",
              "      <td>0</td>\n",
              "      <td>0</td>\n",
              "      <td>0</td>\n",
              "      <td>0</td>\n",
              "      <td>0</td>\n",
              "      <td>0</td>\n",
              "      <td>0</td>\n",
              "      <td>0</td>\n",
              "      <td>0</td>\n",
              "      <td>0</td>\n",
              "      <td>0</td>\n",
              "      <td>0</td>\n",
              "      <td>1</td>\n",
              "      <td>0</td>\n",
              "      <td>0</td>\n",
              "    </tr>\n",
              "    <tr>\n",
              "      <th>...</th>\n",
              "      <td>...</td>\n",
              "      <td>...</td>\n",
              "      <td>...</td>\n",
              "      <td>...</td>\n",
              "      <td>...</td>\n",
              "      <td>...</td>\n",
              "      <td>...</td>\n",
              "      <td>...</td>\n",
              "      <td>...</td>\n",
              "      <td>...</td>\n",
              "      <td>...</td>\n",
              "      <td>...</td>\n",
              "      <td>...</td>\n",
              "      <td>...</td>\n",
              "      <td>...</td>\n",
              "      <td>...</td>\n",
              "      <td>...</td>\n",
              "      <td>...</td>\n",
              "      <td>...</td>\n",
              "      <td>...</td>\n",
              "      <td>...</td>\n",
              "      <td>...</td>\n",
              "      <td>...</td>\n",
              "      <td>...</td>\n",
              "      <td>...</td>\n",
              "      <td>...</td>\n",
              "      <td>...</td>\n",
              "      <td>...</td>\n",
              "      <td>...</td>\n",
              "    </tr>\n",
              "    <tr>\n",
              "      <th>372578</th>\n",
              "      <td>30</td>\n",
              "      <td>0.0</td>\n",
              "      <td>1</td>\n",
              "      <td>0</td>\n",
              "      <td>0</td>\n",
              "      <td>0</td>\n",
              "      <td>0</td>\n",
              "      <td>0</td>\n",
              "      <td>0</td>\n",
              "      <td>0</td>\n",
              "      <td>0</td>\n",
              "      <td>0</td>\n",
              "      <td>0</td>\n",
              "      <td>0</td>\n",
              "      <td>0</td>\n",
              "      <td>0</td>\n",
              "      <td>0</td>\n",
              "      <td>0</td>\n",
              "      <td>0</td>\n",
              "      <td>0</td>\n",
              "      <td>0</td>\n",
              "      <td>0</td>\n",
              "      <td>0</td>\n",
              "      <td>0</td>\n",
              "      <td>0</td>\n",
              "      <td>0</td>\n",
              "      <td>1</td>\n",
              "      <td>0</td>\n",
              "      <td>0</td>\n",
              "    </tr>\n",
              "    <tr>\n",
              "      <th>372579</th>\n",
              "      <td>30</td>\n",
              "      <td>0.0</td>\n",
              "      <td>1</td>\n",
              "      <td>0</td>\n",
              "      <td>0</td>\n",
              "      <td>0</td>\n",
              "      <td>0</td>\n",
              "      <td>0</td>\n",
              "      <td>0</td>\n",
              "      <td>0</td>\n",
              "      <td>0</td>\n",
              "      <td>0</td>\n",
              "      <td>0</td>\n",
              "      <td>0</td>\n",
              "      <td>0</td>\n",
              "      <td>0</td>\n",
              "      <td>0</td>\n",
              "      <td>0</td>\n",
              "      <td>0</td>\n",
              "      <td>0</td>\n",
              "      <td>0</td>\n",
              "      <td>0</td>\n",
              "      <td>0</td>\n",
              "      <td>0</td>\n",
              "      <td>0</td>\n",
              "      <td>0</td>\n",
              "      <td>0</td>\n",
              "      <td>0</td>\n",
              "      <td>1</td>\n",
              "    </tr>\n",
              "    <tr>\n",
              "      <th>372581</th>\n",
              "      <td>30</td>\n",
              "      <td>0.0</td>\n",
              "      <td>1</td>\n",
              "      <td>0</td>\n",
              "      <td>0</td>\n",
              "      <td>0</td>\n",
              "      <td>0</td>\n",
              "      <td>0</td>\n",
              "      <td>0</td>\n",
              "      <td>0</td>\n",
              "      <td>0</td>\n",
              "      <td>0</td>\n",
              "      <td>0</td>\n",
              "      <td>0</td>\n",
              "      <td>0</td>\n",
              "      <td>0</td>\n",
              "      <td>0</td>\n",
              "      <td>0</td>\n",
              "      <td>0</td>\n",
              "      <td>0</td>\n",
              "      <td>0</td>\n",
              "      <td>1</td>\n",
              "      <td>0</td>\n",
              "      <td>0</td>\n",
              "      <td>0</td>\n",
              "      <td>0</td>\n",
              "      <td>0</td>\n",
              "      <td>0</td>\n",
              "      <td>0</td>\n",
              "    </tr>\n",
              "    <tr>\n",
              "      <th>372583</th>\n",
              "      <td>30</td>\n",
              "      <td>0.0</td>\n",
              "      <td>1</td>\n",
              "      <td>0</td>\n",
              "      <td>0</td>\n",
              "      <td>0</td>\n",
              "      <td>0</td>\n",
              "      <td>0</td>\n",
              "      <td>0</td>\n",
              "      <td>0</td>\n",
              "      <td>0</td>\n",
              "      <td>0</td>\n",
              "      <td>0</td>\n",
              "      <td>0</td>\n",
              "      <td>0</td>\n",
              "      <td>0</td>\n",
              "      <td>0</td>\n",
              "      <td>0</td>\n",
              "      <td>0</td>\n",
              "      <td>0</td>\n",
              "      <td>0</td>\n",
              "      <td>1</td>\n",
              "      <td>0</td>\n",
              "      <td>0</td>\n",
              "      <td>0</td>\n",
              "      <td>0</td>\n",
              "      <td>0</td>\n",
              "      <td>0</td>\n",
              "      <td>0</td>\n",
              "    </tr>\n",
              "    <tr>\n",
              "      <th>372584</th>\n",
              "      <td>30</td>\n",
              "      <td>0.0</td>\n",
              "      <td>1</td>\n",
              "      <td>0</td>\n",
              "      <td>0</td>\n",
              "      <td>0</td>\n",
              "      <td>0</td>\n",
              "      <td>0</td>\n",
              "      <td>0</td>\n",
              "      <td>0</td>\n",
              "      <td>0</td>\n",
              "      <td>0</td>\n",
              "      <td>0</td>\n",
              "      <td>0</td>\n",
              "      <td>0</td>\n",
              "      <td>0</td>\n",
              "      <td>0</td>\n",
              "      <td>0</td>\n",
              "      <td>0</td>\n",
              "      <td>0</td>\n",
              "      <td>0</td>\n",
              "      <td>0</td>\n",
              "      <td>0</td>\n",
              "      <td>0</td>\n",
              "      <td>0</td>\n",
              "      <td>0</td>\n",
              "      <td>0</td>\n",
              "      <td>0</td>\n",
              "      <td>1</td>\n",
              "    </tr>\n",
              "  </tbody>\n",
              "</table>\n",
              "<p>362483 rows × 29 columns</p>\n",
              "</div>"
            ],
            "text/plain": [
              "        POSTED_SPEED_LIMIT  INJURIES_TOTAL  ...  TRAIN  TURNING\n",
              "6                       30             0.0  ...      0        0\n",
              "7                       30             1.0  ...      0        0\n",
              "8                       30             0.0  ...      0        1\n",
              "9                       30             0.0  ...      0        0\n",
              "10                      30             1.0  ...      0        0\n",
              "...                    ...             ...  ...    ...      ...\n",
              "372578                  30             0.0  ...      0        0\n",
              "372579                  30             0.0  ...      0        1\n",
              "372581                  30             0.0  ...      0        0\n",
              "372583                  30             0.0  ...      0        0\n",
              "372584                  30             0.0  ...      0        1\n",
              "\n",
              "[362483 rows x 29 columns]"
            ]
          },
          "metadata": {
            "tags": []
          },
          "execution_count": 3
        }
      ]
    },
    {
      "cell_type": "code",
      "metadata": {
        "id": "I9vNtUJ-B9Mx",
        "outputId": "b5037ed8-b3a7-46c2-83f9-7c2fa96cf33c",
        "colab": {
          "base_uri": "https://localhost:8080/",
          "height": 853
        }
      },
      "source": [
        "from sklearn.model_selection import train_test_split\n",
        "\n",
        "X = new_crash\n",
        "Y = crash['DAMAGE_C']\n",
        "\n",
        "X_train, X_test, y_train, y_test = train_test_split(X, Y, test_size=0.2)\n",
        "\n",
        "import statsmodels.api as sm\n",
        "\n",
        "X_train_const = sm.add_constant(X_train)\n",
        "\n",
        "sm_model = sm.Logit(y_train, X_train_const).fit()\n",
        "print(sm_model.summary())\n",
        "\n"
      ],
      "execution_count": 4,
      "outputs": [
        {
          "output_type": "stream",
          "text": [
            "/usr/local/lib/python3.6/dist-packages/statsmodels/tools/_testing.py:19: FutureWarning: pandas.util.testing is deprecated. Use the functions in the public API at pandas.testing instead.\n",
            "  import pandas.util.testing as tm\n"
          ],
          "name": "stderr"
        },
        {
          "output_type": "stream",
          "text": [
            "Optimization terminated successfully.\n",
            "         Current function value: 0.658051\n",
            "         Iterations 7\n",
            "                           Logit Regression Results                           \n",
            "==============================================================================\n",
            "Dep. Variable:               DAMAGE_C   No. Observations:               289986\n",
            "Model:                          Logit   Df Residuals:                   289956\n",
            "Method:                           MLE   Df Model:                           29\n",
            "Date:                Fri, 16 Oct 2020   Pseudo R-squ.:                 0.03995\n",
            "Time:                        15:58:26   Log-Likelihood:            -1.9083e+05\n",
            "converged:                       True   LL-Null:                   -1.9877e+05\n",
            "Covariance Type:            nonrobust   LLR p-value:                     0.000\n",
            "================================================================================================\n",
            "                                   coef    std err          z      P>|z|      [0.025      0.975]\n",
            "------------------------------------------------------------------------------------------------\n",
            "const                            0.7375      0.736      1.002      0.317      -0.706       2.181\n",
            "POSTED_SPEED_LIMIT               0.0114      0.001     19.261      0.000       0.010       0.013\n",
            "INJURIES_TOTAL                   0.7442      0.012     62.485      0.000       0.721       0.768\n",
            "CLEAR                           -0.4075      0.736     -0.554      0.580      -1.850       1.035\n",
            "CLOUDY/OVERCAST                 -0.3155      0.736     -0.428      0.668      -1.759       1.128\n",
            "FOG/SMOKE/HAZE                  -0.2436      0.742     -0.328      0.743      -1.697       1.210\n",
            "FREEZING RAIN/DRIZZLE           -0.0735      0.759     -0.097      0.923      -1.562       1.415\n",
            "OTHER                           -0.1657      0.740     -0.224      0.823      -1.615       1.284\n",
            "RAIN                            -0.2749      0.736     -0.373      0.709      -1.718       1.168\n",
            "SEVERE CROSS WIND GATE          -0.0016      0.785     -0.002      0.998      -1.540       1.537\n",
            "SLEET/HAIL                      -0.3407      0.743     -0.459      0.646      -1.796       1.115\n",
            "SNOW                            -0.2756      0.736     -0.374      0.708      -1.719       1.168\n",
            "UNKNOWN                         -0.2581      0.736     -0.350      0.726      -1.701       1.185\n",
            "ANIMAL                          -0.9944      0.150     -6.651      0.000      -1.287      -0.701\n",
            "FIXED OBJECT                     0.0598      0.024      2.538      0.011       0.014       0.106\n",
            "HEAD ON                         -0.0450      0.047     -0.958      0.338      -0.137       0.047\n",
            "OTHER NONCOLLISION              -1.0495      0.064    -16.475      0.000      -1.174      -0.925\n",
            "OTHER OBJECT                    -0.6660      0.041    -16.186      0.000      -0.747      -0.585\n",
            "OVERTURNED                       0.6041      0.236      2.563      0.010       0.142       1.066\n",
            "PARKED MOTOR VEHICLE            -0.4765      0.015    -31.462      0.000      -0.506      -0.447\n",
            "PEDALCYCLIST                    -2.4710      0.040    -61.929      0.000      -2.549      -2.393\n",
            "PEDESTRIAN                      -2.3616      0.032    -73.994      0.000      -2.424      -2.299\n",
            "REAR END                        -0.6806      0.015    -45.824      0.000      -0.710      -0.651\n",
            "REAR TO FRONT                   -0.7974      0.068    -11.702      0.000      -0.931      -0.664\n",
            "REAR TO REAR                    -0.7806      0.140     -5.586      0.000      -1.054      -0.507\n",
            "REAR TO SIDE                    -0.5601      0.085     -6.575      0.000      -0.727      -0.393\n",
            "SIDESWIPE OPPOSITE DIRECTION    -0.6681      0.033    -20.037      0.000      -0.733      -0.603\n",
            "SIDESWIPE SAME DIRECTION        -0.6596      0.016    -41.650      0.000      -0.691      -0.629\n",
            "TRAIN                            1.6469      1.039      1.584      0.113      -0.391       3.684\n",
            "TURNING                         -0.2114      0.017    -12.774      0.000      -0.244      -0.179\n",
            "================================================================================================\n"
          ],
          "name": "stdout"
        }
      ]
    },
    {
      "cell_type": "code",
      "metadata": {
        "id": "Su8hPpwiCQTR"
      },
      "source": [
        "from sklearn.linear_model import LogisticRegression\n",
        "\n",
        "logit = LogisticRegression(max_iter=1000)\n",
        "logit.fit(X_train, y_train)\n",
        "results = pd.DataFrame(columns=['actual', 'predict', 'probability'])\n",
        "\n",
        "results['actual'] = y_test\n",
        "results['predict'] = logit.predict(X_test)\n",
        "results['probability'] = logit.predict_proba(X_test)[:,1]\n",
        "\n"
      ],
      "execution_count": 5,
      "outputs": []
    },
    {
      "cell_type": "code",
      "metadata": {
        "id": "dgnUP6YeCk7Q",
        "outputId": "7febfb19-81b8-4780-ea09-79b0696deec6",
        "colab": {
          "base_uri": "https://localhost:8080/",
          "height": 51
        }
      },
      "source": [
        "from sklearn.metrics import confusion_matrix\n",
        "\n",
        "confusion_matrix(y_test, results['predict'])"
      ],
      "execution_count": 6,
      "outputs": [
        {
          "output_type": "execute_result",
          "data": {
            "text/plain": [
              "array([[ 9681, 22107],\n",
              "       [ 7950, 32759]])"
            ]
          },
          "metadata": {
            "tags": []
          },
          "execution_count": 6
        }
      ]
    },
    {
      "cell_type": "code",
      "metadata": {
        "id": "S-LsQz-KC5xv",
        "outputId": "18cd60ba-0299-43b4-9e73-b66ed3f6ba24",
        "colab": {
          "base_uri": "https://localhost:8080/",
          "height": 34
        }
      },
      "source": [
        "from sklearn.metrics import log_loss\n",
        "log_loss(y_test, results['predict'])"
      ],
      "execution_count": 7,
      "outputs": [
        {
          "output_type": "execute_result",
          "data": {
            "text/plain": [
              "14.319898462035942"
            ]
          },
          "metadata": {
            "tags": []
          },
          "execution_count": 7
        }
      ]
    },
    {
      "cell_type": "code",
      "metadata": {
        "id": "dojB7LYoD11O",
        "outputId": "36e83ad5-9e95-4d66-8bf3-7ff022d3b797",
        "colab": {
          "base_uri": "https://localhost:8080/",
          "height": 34
        }
      },
      "source": [
        "log_loss(y_train, logit.predict(X_train))"
      ],
      "execution_count": 8,
      "outputs": [
        {
          "output_type": "execute_result",
          "data": {
            "text/plain": [
              "14.387887330129484"
            ]
          },
          "metadata": {
            "tags": []
          },
          "execution_count": 8
        }
      ]
    },
    {
      "cell_type": "markdown",
      "metadata": {
        "id": "27_OUrv11Zbt"
      },
      "source": [
        "Next, evaluate the performance of the same model using 10-fold CV. Use the training data and labels, and print out the mean log loss for each of the 10 CV folds, as well as the overall CV-estimated test error. How do the estimates from the individual folds compare to the result from our previous single holdout set? How much variability in the estimated test error do you see across the 10 folds?\n",
        "\n",
        "Note: scikit-learn's *cross_val_score* function provides a simple, one-line method for doing this. However, be careful - the default score returned by this function may not be log loss!"
      ]
    },
    {
      "cell_type": "code",
      "metadata": {
        "id": "PnyhGzBh1Zbt"
      },
      "source": [
        "# answer goes here\n",
        "from sklearn.model_selection import cross_val_score\n",
        "from sklearn import svm\n",
        "\n",
        "\n",
        "\n"
      ],
      "execution_count": 9,
      "outputs": []
    },
    {
      "cell_type": "code",
      "metadata": {
        "id": "KljlFpLtIrtH",
        "outputId": "45493834-8d7f-4871-b8b2-7000b79c619d",
        "colab": {
          "base_uri": "https://localhost:8080/",
          "height": 34
        }
      },
      "source": [
        "from sklearn import datasets, linear_model\n",
        "from sklearn.ensemble import RandomForestClassifier\n",
        "\n",
        "clf=RandomForestClassifier(n_estimators=10)\n",
        "scores = cross_val_score(clf, X_train, y_train, cv=10, scoring='neg_log_loss')\n",
        "scores.mean()"
      ],
      "execution_count": 32,
      "outputs": [
        {
          "output_type": "execute_result",
          "data": {
            "text/plain": [
              "-0.677348027423328"
            ]
          },
          "metadata": {
            "tags": []
          },
          "execution_count": 32
        }
      ]
    },
    {
      "cell_type": "markdown",
      "metadata": {
        "id": "K_Kp_W-P1Zbv"
      },
      "source": [
        "Scikit-learn's logistic regression function has a built-in regularization parameter, C (the larger the value of C, the smaller the degree of regularization). Use a loop with values of C, and find the optimum C value by taking the highest average cross validation score."
      ]
    },
    {
      "cell_type": "code",
      "metadata": {
        "id": "Qd4SSFO-1Zbv",
        "outputId": "c0eb60f5-895b-402b-e242-6ac1718cf125",
        "colab": {
          "base_uri": "https://localhost:8080/",
          "height": 187
        }
      },
      "source": [
        "# answer goes here\n",
        "x=1\n",
        "while (x<6):\n",
        "  logit = LogisticRegression(max_iter=1000, C=x)\n",
        "  logit.fit(X_train, y_train)\n",
        "  scores = cross_val_score(clf, X_train, y_train, cv=10, scoring='neg_log_loss')\n",
        "  print(x)\n",
        "  print(scores.mean())\n",
        "  x = x+1\n",
        "\n",
        "\n",
        "\n"
      ],
      "execution_count": 38,
      "outputs": [
        {
          "output_type": "stream",
          "text": [
            "1\n",
            "-0.676586960132558\n",
            "2\n",
            "-0.6783470798529652\n",
            "3\n",
            "-0.6782563446563556\n",
            "4\n",
            "-0.6786321312358108\n",
            "5\n",
            "-0.6778974992501435\n"
          ],
          "name": "stdout"
        }
      ]
    },
    {
      "cell_type": "markdown",
      "metadata": {
        "id": "K5cJ_DvWQkf6"
      },
      "source": [
        "when C = 4, the absolute value of score is the highest"
      ]
    },
    {
      "cell_type": "markdown",
      "metadata": {
        "id": "eJ-5cPUp1Zbx"
      },
      "source": [
        "Re-train a logistic regression model using the best value of C identified by 10-fold CV on the training data and labels. Afterwards, do the following:\n",
        "\n",
        "- Determine the precision, recall, and F1-score of our model using a cutoff/threshold of 0.5 (hint: scikit-learn's *classification_report* function may be helpful)\n",
        "- Plot or otherwise generate a confusion matrix\n",
        "- Plot the ROC curve for our logistic regression model\n",
        "\n",
        "Note: the performance of our simple logistic regression model with just four features will not be very good, but this is not entirely unexpected. There are many other features that can be incorporated into the model to improve its performance; feel free to experiment!"
      ]
    },
    {
      "cell_type": "code",
      "metadata": {
        "id": "v3A9fUN51Zbx",
        "outputId": "44878e8f-1bca-4991-e888-2e72c12e61c9",
        "colab": {
          "base_uri": "https://localhost:8080/",
          "height": 69
        }
      },
      "source": [
        "# answer goes here\n",
        "logit = LogisticRegression(max_iter=1000, C=4)\n",
        "logit.fit(X_train, y_train)\n",
        "\n",
        "from sklearn.metrics import classification_report\n",
        "classification_report(y_train, logit.predict(X_train))\n",
        "\n"
      ],
      "execution_count": 41,
      "outputs": [
        {
          "output_type": "execute_result",
          "data": {
            "application/vnd.google.colaboratory.intrinsic+json": {
              "type": "string"
            },
            "text/plain": [
              "'              precision    recall  f1-score   support\\n\\n       False       0.54      0.30      0.39    127011\\n        True       0.60      0.80      0.68    162975\\n\\n    accuracy                           0.58    289986\\n   macro avg       0.57      0.55      0.54    289986\\nweighted avg       0.57      0.58      0.55    289986\\n'"
            ]
          },
          "metadata": {
            "tags": []
          },
          "execution_count": 41
        }
      ]
    },
    {
      "cell_type": "code",
      "metadata": {
        "id": "khCrUMapRkf1",
        "outputId": "23e7507a-ad28-4a0b-f64a-383533de9441",
        "colab": {
          "base_uri": "https://localhost:8080/",
          "height": 51
        }
      },
      "source": [
        "confusion_matrix(y_train, logit.predict(X_train))"
      ],
      "execution_count": 43,
      "outputs": [
        {
          "output_type": "execute_result",
          "data": {
            "text/plain": [
              "array([[ 38436,  88575],\n",
              "       [ 32231, 130744]])"
            ]
          },
          "metadata": {
            "tags": []
          },
          "execution_count": 43
        }
      ]
    },
    {
      "cell_type": "code",
      "metadata": {
        "id": "9xka9XBER_i4",
        "outputId": "18a09d7a-30cc-4eb6-c540-7ccd9a5092dd",
        "colab": {
          "base_uri": "https://localhost:8080/",
          "height": 68
        }
      },
      "source": [
        "from sklearn import metrics\n",
        "metrics.roc_curve(y_train, logit.predict(X_train))"
      ],
      "execution_count": 44,
      "outputs": [
        {
          "output_type": "execute_result",
          "data": {
            "text/plain": [
              "(array([0.        , 0.69738054, 1.        ]),\n",
              " array([0.        , 0.80223347, 1.        ]),\n",
              " array([2, 1, 0]))"
            ]
          },
          "metadata": {
            "tags": []
          },
          "execution_count": 44
        }
      ]
    },
    {
      "cell_type": "code",
      "metadata": {
        "id": "TdglPruGSa3q",
        "outputId": "2f48b798-d6ed-444d-c5ab-7b5911357d32",
        "colab": {
          "base_uri": "https://localhost:8080/",
          "height": 295
        }
      },
      "source": [
        "plt.figure()\n",
        "lw = 2\n",
        "plt.plot(metrics.roc_curve(y_train, logit.predict(X_train))[0], metrics.roc_curve(y_train, logit.predict(X_train))[1], color='darkorange',\n",
        "         lw=lw, label='ROC curve (area = %0.2f)')\n",
        "plt.plot([0, 1], [0, 1], color='navy', lw=lw, linestyle='--')\n",
        "plt.xlim([0.0, 1.0])\n",
        "plt.ylim([0.0, 1.05])\n",
        "plt.xlabel('False Positive Rate')\n",
        "plt.ylabel('True Positive Rate')\n",
        "plt.title('Receiver operating characteristic example')\n",
        "plt.legend(loc=\"lower right\")\n",
        "plt.show()"
      ],
      "execution_count": 47,
      "outputs": [
        {
          "output_type": "display_data",
          "data": {
            "image/png": "[encoded data removed]",
            "text/plain": [
              "<Figure size 432x288 with 1 Axes>"
            ]
          },
          "metadata": {
            "tags": [],
            "needs_background": "light"
          }
        }
      ]
    }
  ]
}