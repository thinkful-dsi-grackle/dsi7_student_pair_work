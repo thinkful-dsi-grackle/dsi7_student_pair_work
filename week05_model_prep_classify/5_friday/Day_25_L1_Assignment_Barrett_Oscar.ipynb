{
 "cells": [
  {
   "cell_type": "markdown",
   "metadata": {
    "id": "kOVPVzs51Zbk"
   },
   "source": [
    "## Day 25 Lecture 1 Assignment\n",
    "\n",
    "In this assignment, we will evaluate the performance of the model we built yesterday on the Chicago traffic crash data. We will also perform hyperparameter tuning and evaluate a final model using additional metrics (e.g. AUC-ROC, precision, recall, etc.)"
   ]
  },
  {
   "cell_type": "code",
   "execution_count": 1,
   "metadata": {
    "colab": {
     "base_uri": "https://localhost:8080/",
     "height": 72
    },
    "id": "pMcAKhJ91Zbl",
    "outputId": "e43a2b0b-b1e5-43e3-c771-138fc6b558bf"
   },
   "outputs": [],
   "source": [
    "import matplotlib.pyplot as plt\n",
    "import seaborn as sns\n",
    "import numpy as np\n",
    "import pandas as pd\n",
    "import statsmodels.api as sm\n",
    "from sklearn.linear_model import LogisticRegression\n",
    "from sklearn.model_selection import train_test_split\n",
    "from sklearn.metrics import confusion_matrix, classification_report, roc_curve\n",
    "from sklearn.model_selection import cross_val_score, cross_val_predict\n",
    "\n",
    "%matplotlib inline"
   ]
  },
  {
   "cell_type": "markdown",
   "metadata": {
    "id": "UkPoFJCueQZ3"
   },
   "source": [
    "Since we will be building on the model we built in the last assignment, we will need to redo all of the data preparation steps up to the point of model building. These steps include creating the response, missing value imputation, and one-hot encoding our selected categorical variables. The quickest way to get going would be to open last week's assignment, make a copy, and build on it from there."
   ]
  },
  {
   "cell_type": "code",
   "execution_count": 2,
   "metadata": {
    "id": "Io13d7wGhIU_"
   },
   "outputs": [],
   "source": [
    "def missingness_summary(df, print_log=False, sort='none'):\n",
    "    summary = df.apply(lambda x: x.isna().sum() / x.shape[0])\n",
    "    \n",
    "    if print_log == True:\n",
    "      if sort == 'none':\n",
    "          print(summary)\n",
    "      elif sort == 'ascending':\n",
    "          print(summary.sort_values())\n",
    "      elif sort == 'descending':\n",
    "          print(summary.sort_values(ascending=False))\n",
    "      else:\n",
    "          print('Invalid value for sort parameter.')\n",
    "        \n",
    "    return summary"
   ]
  },
  {
   "cell_type": "code",
   "execution_count": 3,
   "metadata": {
    "colab": {
     "base_uri": "https://localhost:8080/",
     "height": 587
    },
    "id": "n7SM7qJ81Zbr",
    "outputId": "a79e8166-5da9-4449-89d2-03b4a2ab6367"
   },
   "outputs": [
    {
     "name": "stdout",
     "output_type": "stream",
     "text": [
      "RD_NO                            0.0\n",
      "CRASH_DATE                       0.0\n",
      "POSTED_SPEED_LIMIT               0.0\n",
      "TRAFFIC_CONTROL_DEVICE           0.0\n",
      "DEVICE_CONDITION                 0.0\n",
      "WEATHER_CONDITION                0.0\n",
      "LIGHTING_CONDITION               0.0\n",
      "FIRST_CRASH_TYPE                 0.0\n",
      "TRAFFICWAY_TYPE                  0.0\n",
      "ALIGNMENT                        0.0\n",
      "ROADWAY_SURFACE_COND             0.0\n",
      "ROAD_DEFECT                      0.0\n",
      "REPORT_TYPE                      0.0\n",
      "CRASH_TYPE                       0.0\n",
      "DAMAGE                           0.0\n",
      "DATE_POLICE_NOTIFIED             0.0\n",
      "PRIM_CONTRIBUTORY_CAUSE          0.0\n",
      "SEC_CONTRIBUTORY_CAUSE           0.0\n",
      "STREET_NO                        0.0\n",
      "STREET_DIRECTION                 0.0\n",
      "STREET_NAME                      0.0\n",
      "BEAT_OF_OCCURRENCE               0.0\n",
      "NUM_UNITS                        0.0\n",
      "MOST_SEVERE_INJURY               0.0\n",
      "INJURIES_TOTAL                   0.0\n",
      "INJURIES_FATAL                   0.0\n",
      "INJURIES_INCAPACITATING          0.0\n",
      "INJURIES_NON_INCAPACITATING      0.0\n",
      "INJURIES_REPORTED_NOT_EVIDENT    0.0\n",
      "INJURIES_NO_INDICATION           0.0\n",
      "INJURIES_UNKNOWN                 0.0\n",
      "HIGH_DAMAGE                      0.0\n",
      "dtype: float64\n"
     ]
    }
   ],
   "source": [
    "crash_data = pd.read_csv('https://tf-assets-prod.s3.amazonaws.com/tf-curric/data-science/traffic_crashes_chicago.csv')\n",
    "crash_data_copy = crash_data.copy()\n",
    "\n",
    "crash_data['HIGH_DAMAGE'] = (crash_data['DAMAGE'] == 'OVER $1,500').astype(int)\n",
    "\n",
    "missing_report = missingness_summary(crash_data, print_log=False, sort='none')\n",
    "missing_data_columns = missing_report.loc[missing_report > 0.05].index\n",
    "crash_data.drop(columns=missing_data_columns, inplace=True)\n",
    "\n",
    "crash_num_df = crash_data.select_dtypes(include='number')\n",
    "crash_cat_df = crash_data.select_dtypes(include='O')\n",
    "\n",
    "for col in crash_num_df.columns:\n",
    "  crash_data[col] = crash_data[col].fillna(crash_data[col].median())\n",
    "\n",
    "crash_data.dropna(inplace=True)\n",
    "\n",
    "missing_report = missingness_summary(crash_data, print_log=True, sort='none')"
   ]
  },
  {
   "cell_type": "code",
   "execution_count": 4,
   "metadata": {
    "id": "tuDvXSNziIJ1"
   },
   "outputs": [],
   "source": [
    "crash_features = crash_data.filter(['POSTED_SPEED_LIMIT', 'INJURIES_TOTAL'])\n",
    "weather_df = pd.get_dummies(crash_data['WEATHER_CONDITION'], drop_first=True)\n",
    "crash_features = pd.concat([crash_features, weather_df], axis=1)\n",
    "\n",
    "crashtype_df = pd.get_dummies(crash_data['FIRST_CRASH_TYPE'], drop_first=True)\n",
    "crash_features = pd.concat([crash_features, crashtype_df], axis=1)"
   ]
  },
  {
   "cell_type": "markdown",
   "metadata": {
    "id": "P7hI35MY1Zbq"
   },
   "source": [
    "Statsmodels' implementation of logistic has certain advantages over scikit-learn's, such as clean, easy to read model summary output and statistical inference values (e.g. p-values). However, scikit-learn is preferable for model evaluation, so we will switch to the scikit-learn implementation for this exercise. \n",
    "\n",
    "Run logistic regression on the training set and use the resulting model to make predictions on the test set. Calculate the train and test error using logarithmic loss. How do they compare to each other?"
   ]
  },
  {
   "cell_type": "code",
   "execution_count": 5,
   "metadata": {
    "id": "Q4AUnTmxiAdo"
   },
   "outputs": [],
   "source": [
    "X = crash_features\n",
    "y = crash_data['HIGH_DAMAGE']\n",
    "\n",
    "X_train, X_test, y_train, y_test = train_test_split(X, y)"
   ]
  },
  {
   "cell_type": "code",
   "execution_count": 6,
   "metadata": {
    "colab": {
     "base_uri": "https://localhost:8080/",
     "height": 52
    },
    "id": "WvT_0nhnjMAt",
    "outputId": "f4f87067-8296-461c-e83e-7f61ae991cb6"
   },
   "outputs": [
    {
     "name": "stdout",
     "output_type": "stream",
     "text": [
      "Testing accuracy is: 0.585\n",
      "Training accuracy is: 0.583\n"
     ]
    }
   ],
   "source": [
    "logit = LogisticRegression(max_iter=1000)\n",
    "\n",
    "logit.fit(X_train, y_train)\n",
    "\n",
    "test_score = logit.score(X_test, y_test)\n",
    "train_score = logit.score(X_train, y_train)\n",
    "\n",
    "print(f'Testing accuracy is: {test_score:.3f}')\n",
    "print(f'Training accuracy is: {train_score:.3f}')"
   ]
  },
  {
   "cell_type": "markdown",
   "metadata": {
    "id": "27_OUrv11Zbt"
   },
   "source": [
    "Next, evaluate the performance of the same model using 10-fold CV. Use the training data and labels, and print out the mean log loss for each of the 10 CV folds, as well as the overall CV-estimated test error. How do the estimates from the individual folds compare to the result from our previous single holdout set? How much variability in the estimated test error do you see across the 10 folds?\n",
    "\n",
    "Note: scikit-learn's *cross_val_score* function provides a simple, one-line method for doing this. However, be careful - the default score returned by this function may not be log loss!"
   ]
  },
  {
   "cell_type": "code",
   "execution_count": 7,
   "metadata": {
    "id": "PnyhGzBh1Zbt"
   },
   "outputs": [],
   "source": [
    "# answer goes here (changed to cv=5, since 10 was too long to process)\n",
    "logit = LogisticRegression(max_iter=1000)\n",
    "cv_logloss = cross_val_score(logit, X_train, y_train, cv=5, scoring='neg_log_loss')\n",
    "cv = cross_val_score(logit, X_train, y_train, cv=5)"
   ]
  },
  {
   "cell_type": "code",
   "execution_count": 8,
   "metadata": {
    "scrolled": true
   },
   "outputs": [
    {
     "name": "stdout",
     "output_type": "stream",
     "text": [
      "Avg Log Loss: -0.6584, STD: 0.0009,\n",
      " Log Losses = [-0.65886246 -0.65887371 -0.65810177 -0.65917899 -0.65682283]\n",
      "Mean: 0.5831, STD: 0.0018,\n",
      " cv = [0.58415022 0.58400309 0.58462076 0.57969175 0.58324137]\n"
     ]
    }
   ],
   "source": [
    "print(f'Avg Log Loss: {cv_logloss.mean():.4f}, STD: {cv_logloss.std():.4f},\\n Log Losses = {cv_logloss}')\n",
    "\n",
    "print(f'Mean: {cv.mean():.4f}, STD: {cv.std():.4f},\\n cv = {cv}')"
   ]
  },
  {
   "cell_type": "markdown",
   "metadata": {
    "id": "K_Kp_W-P1Zbv"
   },
   "source": [
    "Scikit-learn's logistic regression function has a built-in regularization parameter, C (the larger the value of C, the smaller the degree of regularization). Use a loop with values of C, and find the optimum C value by taking the highest average cross validation score."
   ]
  },
  {
   "cell_type": "code",
   "execution_count": 9,
   "metadata": {
    "id": "Qd4SSFO-1Zbv"
   },
   "outputs": [],
   "source": [
    "# answer goes here\n",
    "c_vals = np.arange(0.1, 1.5, 0.1)\n",
    "test_accuracy = []\n",
    "train_accuracy = []\n",
    "\n",
    "for c in c_vals:\n",
    "  logit = LogisticRegression(max_iter=1000, C=c)\n",
    "  logit.fit(X_train, y_train)\n",
    "  test_accuracy.append(logit.score(X_test, y_test))\n",
    "  train_accuracy.append(logit.score(X_train, y_train))"
   ]
  },
  {
   "cell_type": "code",
   "execution_count": 10,
   "metadata": {},
   "outputs": [
    {
     "data": {
      "text/html": [
       "<div>\n",
       "<style scoped>\n",
       "    .dataframe tbody tr th:only-of-type {\n",
       "        vertical-align: middle;\n",
       "    }\n",
       "\n",
       "    .dataframe tbody tr th {\n",
       "        vertical-align: top;\n",
       "    }\n",
       "\n",
       "    .dataframe thead th {\n",
       "        text-align: right;\n",
       "    }\n",
       "</style>\n",
       "<table border=\"1\" class=\"dataframe\">\n",
       "  <thead>\n",
       "    <tr style=\"text-align: right;\">\n",
       "      <th></th>\n",
       "      <th>C_values</th>\n",
       "      <th>Test_Acc</th>\n",
       "      <th>Train_Acc</th>\n",
       "      <th>Test_Train_diff</th>\n",
       "    </tr>\n",
       "  </thead>\n",
       "  <tbody>\n",
       "    <tr>\n",
       "      <th>0</th>\n",
       "      <td>0.1</td>\n",
       "      <td>0.584710</td>\n",
       "      <td>0.583285</td>\n",
       "      <td>0.001425</td>\n",
       "    </tr>\n",
       "    <tr>\n",
       "      <th>1</th>\n",
       "      <td>0.2</td>\n",
       "      <td>0.584743</td>\n",
       "      <td>0.583281</td>\n",
       "      <td>0.001462</td>\n",
       "    </tr>\n",
       "    <tr>\n",
       "      <th>2</th>\n",
       "      <td>0.3</td>\n",
       "      <td>0.584721</td>\n",
       "      <td>0.583244</td>\n",
       "      <td>0.001477</td>\n",
       "    </tr>\n",
       "    <tr>\n",
       "      <th>3</th>\n",
       "      <td>0.4</td>\n",
       "      <td>0.584765</td>\n",
       "      <td>0.583285</td>\n",
       "      <td>0.001480</td>\n",
       "    </tr>\n",
       "    <tr>\n",
       "      <th>4</th>\n",
       "      <td>0.5</td>\n",
       "      <td>0.584765</td>\n",
       "      <td>0.583285</td>\n",
       "      <td>0.001480</td>\n",
       "    </tr>\n",
       "  </tbody>\n",
       "</table>\n",
       "</div>"
      ],
      "text/plain": [
       "   C_values  Test_Acc  Train_Acc  Test_Train_diff\n",
       "0       0.1  0.584710   0.583285         0.001425\n",
       "1       0.2  0.584743   0.583281         0.001462\n",
       "2       0.3  0.584721   0.583244         0.001477\n",
       "3       0.4  0.584765   0.583285         0.001480\n",
       "4       0.5  0.584765   0.583285         0.001480"
      ]
     },
     "execution_count": 10,
     "metadata": {},
     "output_type": "execute_result"
    }
   ],
   "source": [
    "train_test_diff = np.array(test_accuracy) - np.array(train_accuracy)\n",
    "c_val_df = pd.DataFrame({'C_values': c_vals, \n",
    "                         'Test_Acc': test_accuracy, \n",
    "                         'Train_Acc': train_accuracy,\n",
    "                         'Test_Train_diff': train_test_diff})\n",
    "\n",
    "c_val_df.head()"
   ]
  },
  {
   "cell_type": "code",
   "execution_count": 11,
   "metadata": {
    "id": "AK_KkZRQmgNH"
   },
   "outputs": [
    {
     "data": {
      "image/png": "[encoded data removed]",
      "text/plain": [
       "<Figure size 1008x504 with 1 Axes>"
      ]
     },
     "metadata": {
      "needs_background": "light"
     },
     "output_type": "display_data"
    }
   ],
   "source": [
    "plt.figure(figsize=(14,7))\n",
    "sns.lineplot(y = c_val_df['Test_Acc'], x= c_val_df['C_values'], label='Test Accuracy')\n",
    "sns.lineplot(y = c_val_df['Train_Acc'], x= c_val_df['C_values'], label='Train Accuracy')\n",
    "plt.show()"
   ]
  },
  {
   "cell_type": "code",
   "execution_count": 12,
   "metadata": {},
   "outputs": [
    {
     "data": {
      "image/png": "[encoded data removed]",
      "text/plain": [
       "<Figure size 1008x504 with 1 Axes>"
      ]
     },
     "metadata": {
      "needs_background": "light"
     },
     "output_type": "display_data"
    }
   ],
   "source": [
    "plt.figure(figsize=(14,7))\n",
    "sns.lineplot(y = c_val_df['Test_Train_diff'], x= c_val_df['C_values'])\n",
    "plt.show()"
   ]
  },
  {
   "cell_type": "code",
   "execution_count": 13,
   "metadata": {},
   "outputs": [
    {
     "data": {
      "text/plain": [
       "5    0.6\n",
       "Name: C_values, dtype: float64"
      ]
     },
     "execution_count": 13,
     "metadata": {},
     "output_type": "execute_result"
    }
   ],
   "source": [
    "c_val_df['C_values'].loc[c_val_df['Test_Train_diff'] == c_val_df['Test_Train_diff'].min()]"
   ]
  },
  {
   "cell_type": "markdown",
   "metadata": {
    "id": "eJ-5cPUp1Zbx"
   },
   "source": [
    "Re-train a logistic regression model using the best value of C identified by 10-fold CV on the training data and labels. Afterwards, do the following:\n",
    "\n",
    "- Determine the precision, recall, and F1-score of our model using a cutoff/threshold of 0.5 (hint: scikit-learn's *classification_report* function may be helpful)\n",
    "- Plot or otherwise generate a confusion matrix\n",
    "- Plot the ROC curve for our logistic regression model\n",
    "\n",
    "Note: the performance of our simple logistic regression model with just four features will not be very good, but this is not entirely unexpected. There are many other features that can be incorporated into the model to improve its performance; feel free to experiment!"
   ]
  },
  {
   "cell_type": "code",
   "execution_count": 14,
   "metadata": {
    "id": "v3A9fUN51Zbx",
    "scrolled": true
   },
   "outputs": [
    {
     "name": "stdout",
     "output_type": "stream",
     "text": [
      "Mean: 0.5831, STD: 0.0018,\n",
      " cv = [0.58411344 0.58402148 0.58484146 0.57969175 0.58289193]\n"
     ]
    }
   ],
   "source": [
    "# answer goes here\n",
    "c=0.7\n",
    "logit = LogisticRegression(max_iter=1000, C=c)\n",
    "cv = cross_val_score(logit, X_train, y_train, cv=5)\n",
    "#y_pred = cross_val_predict(logit, X_train, y_train, cv=5)\n",
    "\n",
    "print(f'Mean: {cv.mean():.4f}, STD: {cv.std():.4f},\\n cv = {cv}')"
   ]
  },
  {
   "cell_type": "code",
   "execution_count": 15,
   "metadata": {},
   "outputs": [
    {
     "name": "stdout",
     "output_type": "stream",
     "text": [
      "Score on training data:  0.5832849018987575\n",
      "Score on test data:  0.5847540856975756\n"
     ]
    }
   ],
   "source": [
    "logit = LogisticRegression(max_iter=1000, C=c)\n",
    "logit.fit(X_train, y_train)\n",
    "\n",
    "test_score = logit.score(X_test, y_test)\n",
    "train_score = logit.score(X_train, y_train)\n",
    "\n",
    "print('Score on training data: ', train_score)\n",
    "print('Score on test data: ', test_score)"
   ]
  },
  {
   "cell_type": "code",
   "execution_count": 16,
   "metadata": {},
   "outputs": [
    {
     "name": "stdout",
     "output_type": "stream",
     "text": [
      "              precision    recall  f1-score   support\n",
      "\n",
      "  Low Damage       0.55      0.30      0.39     39762\n",
      " High Damage       0.60      0.81      0.69     50859\n",
      "\n",
      "    accuracy                           0.58     90621\n",
      "   macro avg       0.57      0.55      0.54     90621\n",
      "weighted avg       0.58      0.58      0.55     90621\n",
      "\n"
     ]
    }
   ],
   "source": [
    "predictions = logit.predict(X_test)\n",
    "report = classification_report(y_test, predictions, labels= [0,1], target_names=['Low Damage', 'High Damage'])\n",
    "print(report)"
   ]
  },
  {
   "cell_type": "code",
   "execution_count": 22,
   "metadata": {},
   "outputs": [
    {
     "data": {
      "text/plain": [
       "array([[11870, 27892],\n",
       "       [ 9738, 41121]])"
      ]
     },
     "execution_count": 22,
     "metadata": {},
     "output_type": "execute_result"
    }
   ],
   "source": [
    "conf_mat = confusion_matrix(y_test, predictions, labels= [0,1])\n",
    "conf_mat"
   ]
  },
  {
   "cell_type": "code",
   "execution_count": 18,
   "metadata": {},
   "outputs": [],
   "source": [
    "def plot_confusion_matrix(cm,\n",
    "                          target_names,\n",
    "                          title='Confusion matrix',\n",
    "                          cmap=None,\n",
    "                          normalize=True):\n",
    "    \"\"\"\n",
    "    given a sklearn confusion matrix (cm), make a nice plot\n",
    "\n",
    "    Arguments\n",
    "    ---------\n",
    "    cm:           confusion matrix from sklearn.metrics.confusion_matrix\n",
    "\n",
    "    target_names: given classification classes such as [0, 1, 2]\n",
    "                  the class names, for example: ['high', 'medium', 'low']\n",
    "\n",
    "    title:        the text to display at the top of the matrix\n",
    "\n",
    "    cmap:         the gradient of the values displayed from matplotlib.pyplot.cm\n",
    "                  see http://matplotlib.org/examples/color/colormaps_reference.html\n",
    "                  plt.get_cmap('jet') or plt.cm.Blues\n",
    "\n",
    "    normalize:    If False, plot the raw numbers\n",
    "                  If True, plot the proportions\n",
    "\n",
    "    Usage\n",
    "    -----\n",
    "    plot_confusion_matrix(cm           = cm,                  # confusion matrix created by\n",
    "                                                              # sklearn.metrics.confusion_matrix\n",
    "                          normalize    = True,                # show proportions\n",
    "                          target_names = y_labels_vals,       # list of names of the classes\n",
    "                          title        = best_estimator_name) # title of graph\n",
    "\n",
    "    Citiation\n",
    "    ---------\n",
    "    http://scikit-learn.org/stable/auto_examples/model_selection/plot_confusion_matrix.html\n",
    "\n",
    "    \"\"\"\n",
    "    import matplotlib.pyplot as plt\n",
    "    import numpy as np\n",
    "    import itertools\n",
    "\n",
    "    accuracy = np.trace(cm) / float(np.sum(cm))\n",
    "    misclass = 1 - accuracy\n",
    "\n",
    "    if cmap is None:\n",
    "        cmap = plt.get_cmap('Blues')\n",
    "\n",
    "    plt.figure(figsize=(8, 6))\n",
    "    plt.imshow(cm, interpolation='nearest', cmap=cmap)\n",
    "    plt.title(title)\n",
    "    plt.colorbar()\n",
    "\n",
    "    if target_names is not None:\n",
    "        tick_marks = np.arange(len(target_names))\n",
    "        plt.xticks(tick_marks, target_names, rotation=45)\n",
    "        plt.yticks(tick_marks, target_names)\n",
    "\n",
    "    if normalize:\n",
    "        cm = cm.astype('float') / cm.sum(axis=1)[:, np.newaxis]\n",
    "\n",
    "\n",
    "    thresh = cm.max() / 1.5 if normalize else cm.max() / 2\n",
    "    for i, j in itertools.product(range(cm.shape[0]), range(cm.shape[1])):\n",
    "        if normalize:\n",
    "            plt.text(j, i, \"{:0.4f}\".format(cm[i, j]),\n",
    "                     horizontalalignment=\"center\",\n",
    "                     color=\"white\" if cm[i, j] > thresh else \"black\")\n",
    "        else:\n",
    "            plt.text(j, i, \"{:,}\".format(cm[i, j]),\n",
    "                     horizontalalignment=\"center\",\n",
    "                     color=\"white\" if cm[i, j] > thresh else \"black\")\n",
    "\n",
    "\n",
    "    plt.tight_layout()\n",
    "    plt.ylabel('True label')\n",
    "    plt.xlabel('Predicted label\\naccuracy={:0.4f}; misclass={:0.4f}'.format(accuracy, misclass))\n",
    "    plt.show()"
   ]
  },
  {
   "cell_type": "code",
   "execution_count": 26,
   "metadata": {},
   "outputs": [
    {
     "data": {
      "image/png": "[encoded data removed]",
      "text/plain": [
       "<Figure size 576x432 with 2 Axes>"
      ]
     },
     "metadata": {
      "needs_background": "light"
     },
     "output_type": "display_data"
    }
   ],
   "source": [
    "plot_confusion_matrix(cm=conf_mat, target_names = ['Low Damage', 'High Damage'], title = 'Confusion Matrix', normalize=False)"
   ]
  },
  {
   "cell_type": "code",
   "execution_count": 25,
   "metadata": {},
   "outputs": [],
   "source": [
    "probs = logit.predict_proba(X_test)[:,1]\n",
    "fpr, tpr, thresholds = roc_curve(y_test, probs)"
   ]
  },
  {
   "cell_type": "code",
   "execution_count": 21,
   "metadata": {},
   "outputs": [
    {
     "data": {
      "image/png": "[encoded data removed]",
      "text/plain": [
       "<Figure size 432x432 with 1 Axes>"
      ]
     },
     "metadata": {
      "needs_background": "light"
     },
     "output_type": "display_data"
    }
   ],
   "source": [
    "fig = plt.figure(figsize = (6, 6))\n",
    "plt.plot([0, 1], [0, 1], 'k--')\n",
    "plt.plot(fpr, tpr)\n",
    "plt.xlabel('False Positive Rate')\n",
    "plt.ylabel('True Positive Rate')\n",
    "plt.title('ROC curve for Logistic Regression Model')\n",
    "plt.show()"
   ]
  }
 ],
 "metadata": {
  "colab": {
   "collapsed_sections": [],
   "name": "Day_25_L1_Assignment_Barrett_Oscar.ipynb",
   "provenance": []
  },
  "kernelspec": {
   "display_name": "Python 3",
   "language": "python",
   "name": "python3"
  },
  "language_info": {
   "codemirror_mode": {
    "name": "ipython",
    "version": 3
   },
   "file_extension": ".py",
   "mimetype": "text/x-python",
   "name": "python",
   "nbconvert_exporter": "python",
   "pygments_lexer": "ipython3",
   "version": "3.8.3"
  }
 },
 "nbformat": 4,
 "nbformat_minor": 1
}
