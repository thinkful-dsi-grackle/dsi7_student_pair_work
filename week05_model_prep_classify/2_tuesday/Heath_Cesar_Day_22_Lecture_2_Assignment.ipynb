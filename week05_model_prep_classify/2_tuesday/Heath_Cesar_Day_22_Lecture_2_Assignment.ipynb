{
  "nbformat": 4,
  "nbformat_minor": 0,
  "metadata": {
    "colab": {
      "name": "Heath Cesar Day 22 Lecture 2 Assignment",
      "provenance": [],
      "collapsed_sections": []
    },
    "kernelspec": {
      "display_name": "Python 3",
      "language": "python",
      "name": "python3"
    },
    "language_info": {
      "codemirror_mode": {
        "name": "ipython",
        "version": 3
      },
      "file_extension": ".py",
      "mimetype": "text/x-python",
      "name": "python",
      "nbconvert_exporter": "python",
      "pygments_lexer": "ipython3",
      "version": "3.8.3-final"
    }
  },
  "cells": [
    {
      "cell_type": "markdown",
      "metadata": {
        "id": "pt53EAUNowc9"
      },
      "source": [
        "## Day 22 Lecture 2 Assignment\n",
        "\n",
        "In this assignment, we will do apply the feature engineering techniques we have learned to create new features from existing ones. We will be using both the FIFA ratings dataset and the Chicago traffic crash dataset."
      ]
    },
    {
      "cell_type": "code",
      "metadata": {
        "id": "Qd8GvyDQowc9"
      },
      "source": [
        "%matplotlib inline\n",
        "\n",
        "import matplotlib.pyplot as plt\n",
        "import numpy as np\n",
        "import pandas as pd"
      ],
      "execution_count": 12,
      "outputs": []
    },
    {
      "cell_type": "code",
      "metadata": {
        "id": "GtRYz_Cyowc_"
      },
      "source": [
        "crash_data = pd.read_csv('https://tf-assets-prod.s3.amazonaws.com/tf-curric/data-science/traffic_crashes_chicago.csv')\n",
        "soccer_data = pd.read_csv('https://tf-assets-prod.s3.amazonaws.com/tf-curric/data-science/fifa_ratings.csv')"
      ],
      "execution_count": 18,
      "outputs": []
    },
    {
      "cell_type": "code",
      "metadata": {
        "id": "w688Ym3KowdD",
        "outputId": "ff38ec7d-db6a-4953-9634-ad2f1e40709e",
        "colab": {
          "base_uri": "https://localhost:8080/",
          "height": 292
        }
      },
      "source": [
        "soccer_data.head()"
      ],
      "execution_count": 81,
      "outputs": [
        {
          "output_type": "execute_result",
          "data": {
            "text/html": [
              "<div>\n",
              "<style scoped>\n",
              "    .dataframe tbody tr th:only-of-type {\n",
              "        vertical-align: middle;\n",
              "    }\n",
              "\n",
              "    .dataframe tbody tr th {\n",
              "        vertical-align: top;\n",
              "    }\n",
              "\n",
              "    .dataframe thead th {\n",
              "        text-align: right;\n",
              "    }\n",
              "</style>\n",
              "<table border=\"1\" class=\"dataframe\">\n",
              "  <thead>\n",
              "    <tr style=\"text-align: right;\">\n",
              "      <th></th>\n",
              "      <th>ID</th>\n",
              "      <th>Name</th>\n",
              "      <th>Overall</th>\n",
              "      <th>Crossing</th>\n",
              "      <th>Finishing</th>\n",
              "      <th>HeadingAccuracy</th>\n",
              "      <th>ShortPassing</th>\n",
              "      <th>Volleys</th>\n",
              "      <th>Dribbling</th>\n",
              "      <th>Curve</th>\n",
              "      <th>FKAccuracy</th>\n",
              "      <th>LongPassing</th>\n",
              "      <th>BallControl</th>\n",
              "      <th>Acceleration</th>\n",
              "      <th>SprintSpeed</th>\n",
              "      <th>Agility</th>\n",
              "      <th>Reactions</th>\n",
              "      <th>Balance</th>\n",
              "      <th>ShotPower</th>\n",
              "      <th>Jumping</th>\n",
              "      <th>Stamina</th>\n",
              "      <th>Strength</th>\n",
              "      <th>LongShots</th>\n",
              "      <th>Aggression</th>\n",
              "      <th>Interceptions</th>\n",
              "      <th>Positioning</th>\n",
              "      <th>Vision</th>\n",
              "      <th>Penalties</th>\n",
              "      <th>Composure</th>\n",
              "      <th>Marking</th>\n",
              "      <th>StandingTackle</th>\n",
              "      <th>SlidingTackle</th>\n",
              "    </tr>\n",
              "  </thead>\n",
              "  <tbody>\n",
              "    <tr>\n",
              "      <th>0</th>\n",
              "      <td>158023</td>\n",
              "      <td>L. Messi</td>\n",
              "      <td>94</td>\n",
              "      <td>84</td>\n",
              "      <td>95</td>\n",
              "      <td>70</td>\n",
              "      <td>90</td>\n",
              "      <td>86</td>\n",
              "      <td>97</td>\n",
              "      <td>93</td>\n",
              "      <td>94</td>\n",
              "      <td>87</td>\n",
              "      <td>96</td>\n",
              "      <td>91</td>\n",
              "      <td>86</td>\n",
              "      <td>91</td>\n",
              "      <td>95</td>\n",
              "      <td>95</td>\n",
              "      <td>85</td>\n",
              "      <td>68</td>\n",
              "      <td>72</td>\n",
              "      <td>59</td>\n",
              "      <td>94</td>\n",
              "      <td>48</td>\n",
              "      <td>22</td>\n",
              "      <td>94</td>\n",
              "      <td>94</td>\n",
              "      <td>75</td>\n",
              "      <td>96</td>\n",
              "      <td>33</td>\n",
              "      <td>28</td>\n",
              "      <td>26</td>\n",
              "    </tr>\n",
              "    <tr>\n",
              "      <th>1</th>\n",
              "      <td>20801</td>\n",
              "      <td>Cristiano Ronaldo</td>\n",
              "      <td>94</td>\n",
              "      <td>84</td>\n",
              "      <td>94</td>\n",
              "      <td>89</td>\n",
              "      <td>81</td>\n",
              "      <td>87</td>\n",
              "      <td>88</td>\n",
              "      <td>81</td>\n",
              "      <td>76</td>\n",
              "      <td>77</td>\n",
              "      <td>94</td>\n",
              "      <td>89</td>\n",
              "      <td>91</td>\n",
              "      <td>87</td>\n",
              "      <td>96</td>\n",
              "      <td>70</td>\n",
              "      <td>95</td>\n",
              "      <td>95</td>\n",
              "      <td>88</td>\n",
              "      <td>79</td>\n",
              "      <td>93</td>\n",
              "      <td>63</td>\n",
              "      <td>29</td>\n",
              "      <td>95</td>\n",
              "      <td>82</td>\n",
              "      <td>85</td>\n",
              "      <td>95</td>\n",
              "      <td>28</td>\n",
              "      <td>31</td>\n",
              "      <td>23</td>\n",
              "    </tr>\n",
              "    <tr>\n",
              "      <th>2</th>\n",
              "      <td>190871</td>\n",
              "      <td>Neymar Jr</td>\n",
              "      <td>92</td>\n",
              "      <td>79</td>\n",
              "      <td>87</td>\n",
              "      <td>62</td>\n",
              "      <td>84</td>\n",
              "      <td>84</td>\n",
              "      <td>96</td>\n",
              "      <td>88</td>\n",
              "      <td>87</td>\n",
              "      <td>78</td>\n",
              "      <td>95</td>\n",
              "      <td>94</td>\n",
              "      <td>90</td>\n",
              "      <td>96</td>\n",
              "      <td>94</td>\n",
              "      <td>84</td>\n",
              "      <td>80</td>\n",
              "      <td>61</td>\n",
              "      <td>81</td>\n",
              "      <td>49</td>\n",
              "      <td>82</td>\n",
              "      <td>56</td>\n",
              "      <td>36</td>\n",
              "      <td>89</td>\n",
              "      <td>87</td>\n",
              "      <td>81</td>\n",
              "      <td>94</td>\n",
              "      <td>27</td>\n",
              "      <td>24</td>\n",
              "      <td>33</td>\n",
              "    </tr>\n",
              "    <tr>\n",
              "      <th>3</th>\n",
              "      <td>192985</td>\n",
              "      <td>K. De Bruyne</td>\n",
              "      <td>91</td>\n",
              "      <td>93</td>\n",
              "      <td>82</td>\n",
              "      <td>55</td>\n",
              "      <td>92</td>\n",
              "      <td>82</td>\n",
              "      <td>86</td>\n",
              "      <td>85</td>\n",
              "      <td>83</td>\n",
              "      <td>91</td>\n",
              "      <td>91</td>\n",
              "      <td>78</td>\n",
              "      <td>76</td>\n",
              "      <td>79</td>\n",
              "      <td>91</td>\n",
              "      <td>77</td>\n",
              "      <td>91</td>\n",
              "      <td>63</td>\n",
              "      <td>90</td>\n",
              "      <td>75</td>\n",
              "      <td>91</td>\n",
              "      <td>76</td>\n",
              "      <td>61</td>\n",
              "      <td>87</td>\n",
              "      <td>94</td>\n",
              "      <td>79</td>\n",
              "      <td>88</td>\n",
              "      <td>68</td>\n",
              "      <td>58</td>\n",
              "      <td>51</td>\n",
              "    </tr>\n",
              "    <tr>\n",
              "      <th>4</th>\n",
              "      <td>183277</td>\n",
              "      <td>E. Hazard</td>\n",
              "      <td>91</td>\n",
              "      <td>81</td>\n",
              "      <td>84</td>\n",
              "      <td>61</td>\n",
              "      <td>89</td>\n",
              "      <td>80</td>\n",
              "      <td>95</td>\n",
              "      <td>83</td>\n",
              "      <td>79</td>\n",
              "      <td>83</td>\n",
              "      <td>94</td>\n",
              "      <td>94</td>\n",
              "      <td>88</td>\n",
              "      <td>95</td>\n",
              "      <td>90</td>\n",
              "      <td>94</td>\n",
              "      <td>82</td>\n",
              "      <td>56</td>\n",
              "      <td>83</td>\n",
              "      <td>66</td>\n",
              "      <td>80</td>\n",
              "      <td>54</td>\n",
              "      <td>41</td>\n",
              "      <td>87</td>\n",
              "      <td>89</td>\n",
              "      <td>86</td>\n",
              "      <td>91</td>\n",
              "      <td>34</td>\n",
              "      <td>27</td>\n",
              "      <td>22</td>\n",
              "    </tr>\n",
              "  </tbody>\n",
              "</table>\n",
              "</div>"
            ],
            "text/plain": [
              "       ID               Name  Overall  ...  Marking  StandingTackle  SlidingTackle\n",
              "0  158023           L. Messi       94  ...       33              28             26\n",
              "1   20801  Cristiano Ronaldo       94  ...       28              31             23\n",
              "2  190871          Neymar Jr       92  ...       27              24             33\n",
              "3  192985       K. De Bruyne       91  ...       68              58             51\n",
              "4  183277          E. Hazard       91  ...       34              27             22\n",
              "\n",
              "[5 rows x 32 columns]"
            ]
          },
          "metadata": {
            "tags": []
          },
          "execution_count": 81
        }
      ]
    },
    {
      "cell_type": "markdown",
      "metadata": {
        "id": "ZBcIEqK6owdF"
      },
      "source": [
        "We will start with the FIFA soccer ratings dataset. From our EDA in the previous exercise, we saw that most ratings appeared to be somewhat normally distributed, occasionally with long tails. Choose one of the ratings (we will choose Curve) and apply the following transformations:\n",
        "\n",
        "- Log transformation\n",
        "- Standardization\n",
        "- Quantile transformation\n",
        "\n",
        "Plot the resulting histograms. How do these transformations affect the resulting distributions?"
      ]
    },
    {
      "cell_type": "code",
      "metadata": {
        "id": "NriqBL6OowdF",
        "outputId": "37b034e6-f611-4c05-9c69-00a740c64d87",
        "colab": {
          "base_uri": "https://localhost:8080/",
          "height": 1000
        }
      },
      "source": [
        "# answer goes here\n",
        "from sklearn.preprocessing import StandardScaler, QuantileTransformer, PowerTransformer\n",
        "scaler = StandardScaler()\n",
        "quantile = QuantileTransformer(output_distribution='normal')\n",
        "fifa = soccer_data.iloc[:, 2::]\n",
        "fifa.Curve.hist()\n",
        "plt.show()\n",
        "fifa['curve_log'] = fifa['Curve'].map(lambda x: np.log(x+1))\n",
        "fifa.curve_log.hist()\n",
        "plt.show()\n",
        "fifa['curve_standard'] = scaler.fit_transform(fifa[['Curve']])\n",
        "fifa.curve_standard.hist()\n",
        "plt.show()\n",
        "fifa['curve_quantile'] = quantile.fit_transform(fifa[['Curve']])\n",
        "fifa.curve_quantile.hist()\n",
        "plt.show()\n",
        "\n",
        "\n",
        "\n"
      ],
      "execution_count": 82,
      "outputs": [
        {
          "output_type": "display_data",
          "data": {
            "image/png": "[encoded data removed]",
            "text/plain": [
              "<Figure size 432x288 with 1 Axes>"
            ]
          },
          "metadata": {
            "tags": [],
            "needs_background": "light"
          }
        },
        {
          "output_type": "display_data",
          "data": {
            "image/png": "[encoded data removed]",
            "text/plain": [
              "<Figure size 432x288 with 1 Axes>"
            ]
          },
          "metadata": {
            "tags": [],
            "needs_background": "light"
          }
        },
        {
          "output_type": "display_data",
          "data": {
            "image/png": "[encoded data removed]",
            "text/plain": [
              "<Figure size 432x288 with 1 Axes>"
            ]
          },
          "metadata": {
            "tags": [],
            "needs_background": "light"
          }
        },
        {
          "output_type": "display_data",
          "data": {
            "image/png": "[encoded data removed]",
            "text/plain": [
              "<Figure size 432x288 with 1 Axes>"
            ]
          },
          "metadata": {
            "tags": [],
            "needs_background": "light"
          }
        }
      ]
    },
    {
      "cell_type": "markdown",
      "metadata": {
        "id": "DE37iEYUowdI"
      },
      "source": [
        "Next, we will switch our focus to the Chicago traffic crashes dataset. We will create several new features using several common feature engineering techniques.\n",
        "\n",
        "Start by considering the crash date column. It is usually difficult to directly feed datetimes into machine learning models, but we can extract several features from the datetime that may be more suitable for our use case. \n",
        "\n",
        "First, if the CRASH_DATE column is not already a datetime field (it may be read in as a string by default), convert it to a datetime. Then, create three new columns, CRASH_HOUR, CRASH_DAY_OF_WEEK, and CRASH_MONTH, that extract the relevant pieces of information from the crash date field. CRASH_HOUR should be numeric, while CRASH_DAY_OF_WEEK and CRASH_MONTH should be strings (e.g. \"Monday\" and \"December\", not 1 and 12)."
      ]
    },
    {
      "cell_type": "code",
      "metadata": {
        "id": "iv2YMKo32ww3",
        "outputId": "414ccb21-ddfc-4d9e-8b98-fe9812cbbbcf",
        "colab": {
          "base_uri": "https://localhost:8080/",
          "height": 394
        }
      },
      "source": [
        "crash_data.head()"
      ],
      "execution_count": 83,
      "outputs": [
        {
          "output_type": "execute_result",
          "data": {
            "text/html": [
              "<div>\n",
              "<style scoped>\n",
              "    .dataframe tbody tr th:only-of-type {\n",
              "        vertical-align: middle;\n",
              "    }\n",
              "\n",
              "    .dataframe tbody tr th {\n",
              "        vertical-align: top;\n",
              "    }\n",
              "\n",
              "    .dataframe thead th {\n",
              "        text-align: right;\n",
              "    }\n",
              "</style>\n",
              "<table border=\"1\" class=\"dataframe\">\n",
              "  <thead>\n",
              "    <tr style=\"text-align: right;\">\n",
              "      <th></th>\n",
              "      <th>RD_NO</th>\n",
              "      <th>CRASH_DATE</th>\n",
              "      <th>POSTED_SPEED_LIMIT</th>\n",
              "      <th>TRAFFIC_CONTROL_DEVICE</th>\n",
              "      <th>DEVICE_CONDITION</th>\n",
              "      <th>WEATHER_CONDITION</th>\n",
              "      <th>LIGHTING_CONDITION</th>\n",
              "      <th>FIRST_CRASH_TYPE</th>\n",
              "      <th>TRAFFICWAY_TYPE</th>\n",
              "      <th>LANE_CNT</th>\n",
              "      <th>ALIGNMENT</th>\n",
              "      <th>ROADWAY_SURFACE_COND</th>\n",
              "      <th>ROAD_DEFECT</th>\n",
              "      <th>REPORT_TYPE</th>\n",
              "      <th>CRASH_TYPE</th>\n",
              "      <th>INTERSECTION_RELATED_I</th>\n",
              "      <th>NOT_RIGHT_OF_WAY_I</th>\n",
              "      <th>HIT_AND_RUN_I</th>\n",
              "      <th>DAMAGE</th>\n",
              "      <th>DATE_POLICE_NOTIFIED</th>\n",
              "      <th>PRIM_CONTRIBUTORY_CAUSE</th>\n",
              "      <th>SEC_CONTRIBUTORY_CAUSE</th>\n",
              "      <th>STREET_NO</th>\n",
              "      <th>STREET_DIRECTION</th>\n",
              "      <th>STREET_NAME</th>\n",
              "      <th>BEAT_OF_OCCURRENCE</th>\n",
              "      <th>PHOTOS_TAKEN_I</th>\n",
              "      <th>STATEMENTS_TAKEN_I</th>\n",
              "      <th>DOORING_I</th>\n",
              "      <th>WORK_ZONE_I</th>\n",
              "      <th>WORK_ZONE_TYPE</th>\n",
              "      <th>WORKERS_PRESENT_I</th>\n",
              "      <th>NUM_UNITS</th>\n",
              "      <th>MOST_SEVERE_INJURY</th>\n",
              "      <th>INJURIES_TOTAL</th>\n",
              "      <th>INJURIES_FATAL</th>\n",
              "      <th>INJURIES_INCAPACITATING</th>\n",
              "      <th>INJURIES_NON_INCAPACITATING</th>\n",
              "      <th>INJURIES_REPORTED_NOT_EVIDENT</th>\n",
              "      <th>INJURIES_NO_INDICATION</th>\n",
              "      <th>INJURIES_UNKNOWN</th>\n",
              "    </tr>\n",
              "  </thead>\n",
              "  <tbody>\n",
              "    <tr>\n",
              "      <th>0</th>\n",
              "      <td>JC334993</td>\n",
              "      <td>7/4/2019 22:33</td>\n",
              "      <td>45</td>\n",
              "      <td>NO CONTROLS</td>\n",
              "      <td>NO CONTROLS</td>\n",
              "      <td>CLEAR</td>\n",
              "      <td>DARKNESS, LIGHTED ROAD</td>\n",
              "      <td>REAR END</td>\n",
              "      <td>DIVIDED - W/MEDIAN BARRIER</td>\n",
              "      <td>NaN</td>\n",
              "      <td>STRAIGHT AND LEVEL</td>\n",
              "      <td>DRY</td>\n",
              "      <td>NO DEFECTS</td>\n",
              "      <td>NaN</td>\n",
              "      <td>NO INJURY / DRIVE AWAY</td>\n",
              "      <td>NaN</td>\n",
              "      <td>NaN</td>\n",
              "      <td>NaN</td>\n",
              "      <td>OVER $1,500</td>\n",
              "      <td>7/4/2019 23:05</td>\n",
              "      <td>FOLLOWING TOO CLOSELY</td>\n",
              "      <td>NOT APPLICABLE</td>\n",
              "      <td>300</td>\n",
              "      <td>N</td>\n",
              "      <td>LAKE SHORE DR SB</td>\n",
              "      <td>114.0</td>\n",
              "      <td>NaN</td>\n",
              "      <td>NaN</td>\n",
              "      <td>NaN</td>\n",
              "      <td>NaN</td>\n",
              "      <td>NaN</td>\n",
              "      <td>NaN</td>\n",
              "      <td>NaN</td>\n",
              "      <td>NaN</td>\n",
              "      <td>NaN</td>\n",
              "      <td>NaN</td>\n",
              "      <td>NaN</td>\n",
              "      <td>NaN</td>\n",
              "      <td>NaN</td>\n",
              "      <td>NaN</td>\n",
              "      <td>NaN</td>\n",
              "    </tr>\n",
              "    <tr>\n",
              "      <th>1</th>\n",
              "      <td>JC370822</td>\n",
              "      <td>7/30/2019 10:22</td>\n",
              "      <td>30</td>\n",
              "      <td>NO CONTROLS</td>\n",
              "      <td>NO CONTROLS</td>\n",
              "      <td>CLEAR</td>\n",
              "      <td>DAYLIGHT</td>\n",
              "      <td>TURNING</td>\n",
              "      <td>DIVIDED - W/MEDIAN (NOT RAISED)</td>\n",
              "      <td>NaN</td>\n",
              "      <td>STRAIGHT AND LEVEL</td>\n",
              "      <td>DRY</td>\n",
              "      <td>NO DEFECTS</td>\n",
              "      <td>NaN</td>\n",
              "      <td>NO INJURY / DRIVE AWAY</td>\n",
              "      <td>NaN</td>\n",
              "      <td>NaN</td>\n",
              "      <td>NaN</td>\n",
              "      <td>OVER $1,500</td>\n",
              "      <td>7/30/2019 10:25</td>\n",
              "      <td>FAILING TO YIELD RIGHT-OF-WAY</td>\n",
              "      <td>IMPROPER TURNING/NO SIGNAL</td>\n",
              "      <td>8201</td>\n",
              "      <td>S</td>\n",
              "      <td>DR MARTIN LUTHER KING JR DR</td>\n",
              "      <td>631.0</td>\n",
              "      <td>NaN</td>\n",
              "      <td>NaN</td>\n",
              "      <td>NaN</td>\n",
              "      <td>NaN</td>\n",
              "      <td>NaN</td>\n",
              "      <td>NaN</td>\n",
              "      <td>NaN</td>\n",
              "      <td>NaN</td>\n",
              "      <td>NaN</td>\n",
              "      <td>NaN</td>\n",
              "      <td>NaN</td>\n",
              "      <td>NaN</td>\n",
              "      <td>NaN</td>\n",
              "      <td>NaN</td>\n",
              "      <td>NaN</td>\n",
              "    </tr>\n",
              "    <tr>\n",
              "      <th>2</th>\n",
              "      <td>JC387098</td>\n",
              "      <td>8/10/2019 17:00</td>\n",
              "      <td>25</td>\n",
              "      <td>NO CONTROLS</td>\n",
              "      <td>NO CONTROLS</td>\n",
              "      <td>CLEAR</td>\n",
              "      <td>DAYLIGHT</td>\n",
              "      <td>PARKED MOTOR VEHICLE</td>\n",
              "      <td>ONE-WAY</td>\n",
              "      <td>NaN</td>\n",
              "      <td>STRAIGHT AND LEVEL</td>\n",
              "      <td>DRY</td>\n",
              "      <td>NO DEFECTS</td>\n",
              "      <td>NaN</td>\n",
              "      <td>NO INJURY / DRIVE AWAY</td>\n",
              "      <td>NaN</td>\n",
              "      <td>NaN</td>\n",
              "      <td>NaN</td>\n",
              "      <td>$501 - $1,500</td>\n",
              "      <td>8/10/2019 17:35</td>\n",
              "      <td>EQUIPMENT - VEHICLE CONDITION</td>\n",
              "      <td>NOT APPLICABLE</td>\n",
              "      <td>6747</td>\n",
              "      <td>S</td>\n",
              "      <td>CREGIER AVE</td>\n",
              "      <td>332.0</td>\n",
              "      <td>NaN</td>\n",
              "      <td>NaN</td>\n",
              "      <td>NaN</td>\n",
              "      <td>NaN</td>\n",
              "      <td>NaN</td>\n",
              "      <td>NaN</td>\n",
              "      <td>1.0</td>\n",
              "      <td>NaN</td>\n",
              "      <td>NaN</td>\n",
              "      <td>NaN</td>\n",
              "      <td>NaN</td>\n",
              "      <td>NaN</td>\n",
              "      <td>NaN</td>\n",
              "      <td>NaN</td>\n",
              "      <td>NaN</td>\n",
              "    </tr>\n",
              "    <tr>\n",
              "      <th>3</th>\n",
              "      <td>JC395195</td>\n",
              "      <td>8/16/2019 16:53</td>\n",
              "      <td>30</td>\n",
              "      <td>NO CONTROLS</td>\n",
              "      <td>NO CONTROLS</td>\n",
              "      <td>CLEAR</td>\n",
              "      <td>DAYLIGHT</td>\n",
              "      <td>PARKED MOTOR VEHICLE</td>\n",
              "      <td>NOT DIVIDED</td>\n",
              "      <td>NaN</td>\n",
              "      <td>STRAIGHT AND LEVEL</td>\n",
              "      <td>DRY</td>\n",
              "      <td>NO DEFECTS</td>\n",
              "      <td>NaN</td>\n",
              "      <td>NO INJURY / DRIVE AWAY</td>\n",
              "      <td>NaN</td>\n",
              "      <td>NaN</td>\n",
              "      <td>Y</td>\n",
              "      <td>$501 - $1,500</td>\n",
              "      <td>8/16/2019 16:53</td>\n",
              "      <td>UNABLE TO DETERMINE</td>\n",
              "      <td>NOT APPLICABLE</td>\n",
              "      <td>554</td>\n",
              "      <td>N</td>\n",
              "      <td>FRANKLIN ST</td>\n",
              "      <td>1831.0</td>\n",
              "      <td>NaN</td>\n",
              "      <td>NaN</td>\n",
              "      <td>NaN</td>\n",
              "      <td>NaN</td>\n",
              "      <td>NaN</td>\n",
              "      <td>NaN</td>\n",
              "      <td>1.0</td>\n",
              "      <td>NO INDICATION OF INJURY</td>\n",
              "      <td>0.0</td>\n",
              "      <td>0.0</td>\n",
              "      <td>0.0</td>\n",
              "      <td>0.0</td>\n",
              "      <td>0.0</td>\n",
              "      <td>1.0</td>\n",
              "      <td>0.0</td>\n",
              "    </tr>\n",
              "    <tr>\n",
              "      <th>4</th>\n",
              "      <td>JC396604</td>\n",
              "      <td>8/17/2019 16:04</td>\n",
              "      <td>30</td>\n",
              "      <td>NO CONTROLS</td>\n",
              "      <td>NO CONTROLS</td>\n",
              "      <td>CLEAR</td>\n",
              "      <td>DAYLIGHT</td>\n",
              "      <td>PARKED MOTOR VEHICLE</td>\n",
              "      <td>PARKING LOT</td>\n",
              "      <td>NaN</td>\n",
              "      <td>STRAIGHT AND LEVEL</td>\n",
              "      <td>DRY</td>\n",
              "      <td>NO DEFECTS</td>\n",
              "      <td>NaN</td>\n",
              "      <td>NO INJURY / DRIVE AWAY</td>\n",
              "      <td>NaN</td>\n",
              "      <td>NaN</td>\n",
              "      <td>Y</td>\n",
              "      <td>$501 - $1,500</td>\n",
              "      <td>8/17/2019 18:30</td>\n",
              "      <td>UNABLE TO DETERMINE</td>\n",
              "      <td>UNABLE TO DETERMINE</td>\n",
              "      <td>3700</td>\n",
              "      <td>N</td>\n",
              "      <td>WESTERN AVE</td>\n",
              "      <td>1921.0</td>\n",
              "      <td>NaN</td>\n",
              "      <td>NaN</td>\n",
              "      <td>NaN</td>\n",
              "      <td>NaN</td>\n",
              "      <td>NaN</td>\n",
              "      <td>NaN</td>\n",
              "      <td>1.0</td>\n",
              "      <td>NO INDICATION OF INJURY</td>\n",
              "      <td>0.0</td>\n",
              "      <td>0.0</td>\n",
              "      <td>0.0</td>\n",
              "      <td>0.0</td>\n",
              "      <td>0.0</td>\n",
              "      <td>1.0</td>\n",
              "      <td>0.0</td>\n",
              "    </tr>\n",
              "  </tbody>\n",
              "</table>\n",
              "</div>"
            ],
            "text/plain": [
              "      RD_NO       CRASH_DATE  ...  INJURIES_NO_INDICATION INJURIES_UNKNOWN\n",
              "0  JC334993   7/4/2019 22:33  ...                     NaN              NaN\n",
              "1  JC370822  7/30/2019 10:22  ...                     NaN              NaN\n",
              "2  JC387098  8/10/2019 17:00  ...                     NaN              NaN\n",
              "3  JC395195  8/16/2019 16:53  ...                     1.0              0.0\n",
              "4  JC396604  8/17/2019 16:04  ...                     1.0              0.0\n",
              "\n",
              "[5 rows x 41 columns]"
            ]
          },
          "metadata": {
            "tags": []
          },
          "execution_count": 83
        }
      ]
    },
    {
      "cell_type": "code",
      "metadata": {
        "id": "xnIzSzXHowdJ"
      },
      "source": [
        "# answer goes here\n",
        "from datetime import datetime\n",
        "crash_data['crash_date_datetime'] = crash_data['CRASH_DATE'].map(lambda x: datetime.strptime(x, '%m/%d/%Y %H:%M'))\n",
        "\n",
        "\n"
      ],
      "execution_count": 84,
      "outputs": []
    },
    {
      "cell_type": "code",
      "metadata": {
        "id": "-3v5mH8hUrmp"
      },
      "source": [
        "crash_data['CRASH_HOUR'] = crash_data['crash_date_datetime'].map(lambda x: datetime.strftime(x, '%H'))\n",
        "crash_data['CRASH_DAY_OF_WEEK'] = crash_data['crash_date_datetime'].map(lambda x: datetime.strftime(x, '%A'))\n",
        "crash_data['CRASH_MONTH'] = crash_data['crash_date_datetime'].map(lambda x: datetime.strftime(x, '%B'))\n"
      ],
      "execution_count": 85,
      "outputs": []
    },
    {
      "cell_type": "markdown",
      "metadata": {
        "id": "XRzuzP37owdN"
      },
      "source": [
        "Next, we will work through an example that involves combining two existing features together to make a new one. Convert the DATE_POLICE_NOTIFIED column into a datetime (if it isn't one already), and create a new feature called \"REPORTING_DELAY\" which corresponds to the number of hours between the crash actually occurring and the police being notified. \n",
        "\n",
        "Plot a histogram and a frequency table of the features - are the results reasonable? If there are unusual results, which ones are they and what steps could we consider taking to address them (if such steps are necessary)?"
      ]
    },
    {
      "cell_type": "code",
      "metadata": {
        "id": "t14Ptx23owdO"
      },
      "source": [
        "# answer goes here\n",
        "crash_data['date_police_notified_datetime'] = crash_data['DATE_POLICE_NOTIFIED'].map(lambda x: datetime.strptime(x, '%m/%d/%Y %H:%M'))\n",
        "\n",
        "\n"
      ],
      "execution_count": 86,
      "outputs": []
    },
    {
      "cell_type": "code",
      "metadata": {
        "id": "SEH0T-AEWV1s"
      },
      "source": [
        "crash_data['REPORTING_DELAY'] = (crash_data['date_police_notified_datetime'] - crash_data['crash_date_datetime'])\n",
        "crash_data['REPORTING_DELAY'] = crash_data['REPORTING_DELAY'].map(lambda x: (x.total_seconds())/60)"
      ],
      "execution_count": 87,
      "outputs": []
    },
    {
      "cell_type": "code",
      "metadata": {
        "id": "qiBycfdTWhfI",
        "outputId": "4905fdcf-efdd-41de-f069-93b0c0593fd0",
        "colab": {
          "base_uri": "https://localhost:8080/",
          "height": 482
        }
      },
      "source": [
        "crash_data.REPORTING_DELAY.hist()\n",
        "plt.show()\n",
        "crash_data.REPORTING_DELAY.value_counts()"
      ],
      "execution_count": 88,
      "outputs": [
        {
          "output_type": "display_data",
          "data": {
            "image/png": "[encoded data removed]",
            "text/plain": [
              "<Figure size 432x288 with 1 Axes>"
            ]
          },
          "metadata": {
            "tags": [],
            "needs_background": "light"
          }
        },
        {
          "output_type": "execute_result",
          "data": {
            "text/plain": [
              "0.0        24353\n",
              "5.0        17455\n",
              "30.0       12826\n",
              "1.0        12300\n",
              "2.0        11861\n",
              "           ...  \n",
              "6157.0         1\n",
              "6159.0         1\n",
              "5304.0         1\n",
              "12319.0        1\n",
              "11902.0        1\n",
              "Name: REPORTING_DELAY, Length: 11349, dtype: int64"
            ]
          },
          "metadata": {
            "tags": []
          },
          "execution_count": 88
        }
      ]
    },
    {
      "cell_type": "markdown",
      "metadata": {
        "id": "uAXQRkJkYmVj"
      },
      "source": [
        "Plot a histogram and a frequency table of the features - are the results reasonable? If there are unusual results, which ones are they and what steps could we consider taking to address them (if such steps are necessary)?\n",
        "\n",
        "The histogram shows a very large spike near zero minutes, and the majority of the data is clustered near zero, with many outliers on the high end. To address this, we could winsorize the data so that reporting delays > 99th percentile are all clustered together. "
      ]
    },
    {
      "cell_type": "markdown",
      "metadata": {
        "id": "--r9hiePowdP"
      },
      "source": [
        "Finally, we will generate a new geographical feature from the BEAT_OF_OCCURRENCE field. This field contains 4-digit identifiers corresponding to areas within Chicago; however, some values may be shorter if the leading digit is 0 (i.e. beat \"0114\" is represented as \"114\").\n",
        "\n",
        "Start by converting the the BEAT_OF_OCCURRENCE field into a string, dropping any unwanted characters that are present (chances are that this field was read in as a number and that \"114\" is represented as \"114.0\"; find a way to drop the \".0\"), and adding the appropriate number of leading 0s so that every beat is four digits."
      ]
    },
    {
      "cell_type": "code",
      "metadata": {
        "id": "4NBv9mHNowdQ",
        "outputId": "28dd5bba-b922-4404-afdf-be48dca8f609",
        "colab": {
          "base_uri": "https://localhost:8080/",
          "height": 221
        }
      },
      "source": [
        "crash_data['BEAT_OF_OCCURRENCE'] = crash_data['BEAT_OF_OCCURRENCE'].map(lambda x: ('0000' + '{}'.format(int(x)))[-4:], na_action='ignore')\n",
        "crash_data.BEAT_OF_OCCURRENCE"
      ],
      "execution_count": 23,
      "outputs": [
        {
          "output_type": "execute_result",
          "data": {
            "text/plain": [
              "0         0114\n",
              "1         0631\n",
              "2         0332\n",
              "3         1831\n",
              "4         1921\n",
              "          ... \n",
              "372580    0815\n",
              "372581    1622\n",
              "372582    0512\n",
              "372583    1733\n",
              "372584    1011\n",
              "Name: BEAT_OF_OCCURRENCE, Length: 372585, dtype: object"
            ]
          },
          "metadata": {},
          "execution_count": 23
        }
      ]
    },
    {
      "cell_type": "markdown",
      "metadata": {
        "id": "aT3Wy_cQowdR"
      },
      "source": [
        "As it turns out, the first two digits of each beat correspond to a higher-level geographic area. For example, the higher-level beat \"24\" corresponds to a larger geographic area that is subdivided into beats 2411, 2412, etc. See below for a map illustrating this (in the map, the higher-level codes are three digits, but the first digit is always a zero):\n",
        "\n",
        "https://news.wttw.com/sites/default/files/Map%20of%20Chicago%20Police%20Districts%20and%20Beats.pdf\n",
        "\n",
        "Create a new feature called BEAT_TWO_DIGIT that corresponds to the higher-level two-digit geographic area.\n",
        "\n",
        "As a side note, US zip codes work much the same way:\n",
        "\n",
        "https://www.unitedstateszipcodes.org/images/zip-codes/zip-codes.png\n",
        "\n",
        "This is a very common feature engineering technique for US zip codes. Many data sets will contain hundreds or thousands or zip codes, and attempting to feed a categorical variable with a very large number of levels into a model can often lead to problems (imagine trying to one-hot encode this; the number of columns would explode, and most of the columns would be very sparse.) Rolling up zip codes to a higher level loses some detail but greatly mitigates the issue of too many categories while still providing useful geographic insights on many occassions."
      ]
    },
    {
      "cell_type": "code",
      "metadata": {
        "id": "2kKY_WxWowdS",
        "outputId": "0b8cce5e-ec74-40ab-d3e2-b002fbfe7d7d",
        "colab": {
          "base_uri": "https://localhost:8080/",
          "height": 221
        }
      },
      "source": [
        "crash_data['BEAT_TWO_DIGIT'] = crash_data['BEAT_OF_OCCURRENCE'].apply(lambda x: x[:2])\n",
        "crash_data.BEAT_TWO_DIGIT\n",
        "\n",
        "\n"
      ],
      "execution_count": 25,
      "outputs": [
        {
          "output_type": "error",
          "ename": "TypeError",
          "evalue": "'float' object is not subscriptable",
          "traceback": [
            "\u001b[1;31m---------------------------------------------------------------------------\u001b[0m",
            "\u001b[1;31mTypeError\u001b[0m                                 Traceback (most recent call last)",
            "\u001b[1;32m<ipython-input-25-79f768fc2df0>\u001b[0m in \u001b[0;36m<module>\u001b[1;34m\u001b[0m\n\u001b[1;32m----> 1\u001b[1;33m \u001b[0mcrash_data\u001b[0m\u001b[1;33m[\u001b[0m\u001b[1;34m'BEAT_TWO_DIGIT'\u001b[0m\u001b[1;33m]\u001b[0m \u001b[1;33m=\u001b[0m \u001b[0mcrash_data\u001b[0m\u001b[1;33m[\u001b[0m\u001b[1;34m'BEAT_OF_OCCURRENCE'\u001b[0m\u001b[1;33m]\u001b[0m\u001b[1;33m.\u001b[0m\u001b[0mapply\u001b[0m\u001b[1;33m(\u001b[0m\u001b[1;32mlambda\u001b[0m \u001b[0mx\u001b[0m\u001b[1;33m:\u001b[0m \u001b[0mx\u001b[0m\u001b[1;33m[\u001b[0m\u001b[1;33m:\u001b[0m\u001b[1;36m2\u001b[0m\u001b[1;33m]\u001b[0m\u001b[1;33m)\u001b[0m\u001b[1;33m\u001b[0m\u001b[1;33m\u001b[0m\u001b[0m\n\u001b[0m\u001b[0;32m      2\u001b[0m \u001b[0mcrash_data\u001b[0m\u001b[1;33m.\u001b[0m\u001b[0mBEAT_TWO_DIGIT\u001b[0m\u001b[1;33m\u001b[0m\u001b[1;33m\u001b[0m\u001b[0m\n\u001b[0;32m      3\u001b[0m \u001b[1;33m\u001b[0m\u001b[0m\n\u001b[0;32m      4\u001b[0m \u001b[1;33m\u001b[0m\u001b[0m\n",
            "\u001b[1;32m~\\anaconda3\\lib\\site-packages\\pandas\\core\\series.py\u001b[0m in \u001b[0;36mapply\u001b[1;34m(self, func, convert_dtype, args, **kwds)\u001b[0m\n\u001b[0;32m   3846\u001b[0m             \u001b[1;32melse\u001b[0m\u001b[1;33m:\u001b[0m\u001b[1;33m\u001b[0m\u001b[1;33m\u001b[0m\u001b[0m\n\u001b[0;32m   3847\u001b[0m                 \u001b[0mvalues\u001b[0m \u001b[1;33m=\u001b[0m \u001b[0mself\u001b[0m\u001b[1;33m.\u001b[0m\u001b[0mastype\u001b[0m\u001b[1;33m(\u001b[0m\u001b[0mobject\u001b[0m\u001b[1;33m)\u001b[0m\u001b[1;33m.\u001b[0m\u001b[0mvalues\u001b[0m\u001b[1;33m\u001b[0m\u001b[1;33m\u001b[0m\u001b[0m\n\u001b[1;32m-> 3848\u001b[1;33m                 \u001b[0mmapped\u001b[0m \u001b[1;33m=\u001b[0m \u001b[0mlib\u001b[0m\u001b[1;33m.\u001b[0m\u001b[0mmap_infer\u001b[0m\u001b[1;33m(\u001b[0m\u001b[0mvalues\u001b[0m\u001b[1;33m,\u001b[0m \u001b[0mf\u001b[0m\u001b[1;33m,\u001b[0m \u001b[0mconvert\u001b[0m\u001b[1;33m=\u001b[0m\u001b[0mconvert_dtype\u001b[0m\u001b[1;33m)\u001b[0m\u001b[1;33m\u001b[0m\u001b[1;33m\u001b[0m\u001b[0m\n\u001b[0m\u001b[0;32m   3849\u001b[0m \u001b[1;33m\u001b[0m\u001b[0m\n\u001b[0;32m   3850\u001b[0m         \u001b[1;32mif\u001b[0m \u001b[0mlen\u001b[0m\u001b[1;33m(\u001b[0m\u001b[0mmapped\u001b[0m\u001b[1;33m)\u001b[0m \u001b[1;32mand\u001b[0m \u001b[0misinstance\u001b[0m\u001b[1;33m(\u001b[0m\u001b[0mmapped\u001b[0m\u001b[1;33m[\u001b[0m\u001b[1;36m0\u001b[0m\u001b[1;33m]\u001b[0m\u001b[1;33m,\u001b[0m \u001b[0mSeries\u001b[0m\u001b[1;33m)\u001b[0m\u001b[1;33m:\u001b[0m\u001b[1;33m\u001b[0m\u001b[1;33m\u001b[0m\u001b[0m\n",
            "\u001b[1;32mpandas\\_libs\\lib.pyx\u001b[0m in \u001b[0;36mpandas._libs.lib.map_infer\u001b[1;34m()\u001b[0m\n",
            "\u001b[1;32m<ipython-input-25-79f768fc2df0>\u001b[0m in \u001b[0;36m<lambda>\u001b[1;34m(x)\u001b[0m\n\u001b[1;32m----> 1\u001b[1;33m \u001b[0mcrash_data\u001b[0m\u001b[1;33m[\u001b[0m\u001b[1;34m'BEAT_TWO_DIGIT'\u001b[0m\u001b[1;33m]\u001b[0m \u001b[1;33m=\u001b[0m \u001b[0mcrash_data\u001b[0m\u001b[1;33m[\u001b[0m\u001b[1;34m'BEAT_OF_OCCURRENCE'\u001b[0m\u001b[1;33m]\u001b[0m\u001b[1;33m.\u001b[0m\u001b[0mapply\u001b[0m\u001b[1;33m(\u001b[0m\u001b[1;32mlambda\u001b[0m \u001b[0mx\u001b[0m\u001b[1;33m:\u001b[0m \u001b[0mx\u001b[0m\u001b[1;33m[\u001b[0m\u001b[1;33m:\u001b[0m\u001b[1;36m2\u001b[0m\u001b[1;33m]\u001b[0m\u001b[1;33m)\u001b[0m\u001b[1;33m\u001b[0m\u001b[1;33m\u001b[0m\u001b[0m\n\u001b[0m\u001b[0;32m      2\u001b[0m \u001b[0mcrash_data\u001b[0m\u001b[1;33m.\u001b[0m\u001b[0mBEAT_TWO_DIGIT\u001b[0m\u001b[1;33m\u001b[0m\u001b[1;33m\u001b[0m\u001b[0m\n\u001b[0;32m      3\u001b[0m \u001b[1;33m\u001b[0m\u001b[0m\n\u001b[0;32m      4\u001b[0m \u001b[1;33m\u001b[0m\u001b[0m\n",
            "\u001b[1;31mTypeError\u001b[0m: 'float' object is not subscriptable"
          ]
        }
      ]
    },
    {
      "cell_type": "code",
      "execution_count": null,
      "metadata": {},
      "outputs": [],
      "source": []
    }
  ]
}