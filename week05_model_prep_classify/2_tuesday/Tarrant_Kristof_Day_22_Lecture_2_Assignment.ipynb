{
  "nbformat": 4,
  "nbformat_minor": 0,
  "metadata": {
    "colab": {
      "name": "Day 22 Lecture 2 Assignment.ipynb",
      "provenance": [],
      "collapsed_sections": []
    },
    "kernelspec": {
      "display_name": "Python 3",
      "language": "python",
      "name": "python3"
    },
    "language_info": {
      "codemirror_mode": {
        "name": "ipython",
        "version": 3
      },
      "file_extension": ".py",
      "mimetype": "text/x-python",
      "name": "python",
      "nbconvert_exporter": "python",
      "pygments_lexer": "ipython3",
      "version": "3.7.3"
    }
  },
  "cells": [
    {
      "cell_type": "markdown",
      "metadata": {
        "id": "pt53EAUNowc9"
      },
      "source": [
        "## Day 22 Lecture 2 Assignment\n",
        "\n",
        "In this assignment, we will do apply the feature engineering techniques we have learned to create new features from existing ones. We will be using both the FIFA ratings dataset and the Chicago traffic crash dataset."
      ]
    },
    {
      "cell_type": "code",
      "metadata": {
        "id": "Qd8GvyDQowc9"
      },
      "source": [
        "%matplotlib inline\n",
        "from sklearn.preprocessing import StandardScaler, QuantileTransformer, PowerTransformer\n",
        "import matplotlib.pyplot as plt\n",
        "import numpy as np\n",
        "import pandas as pd"
      ],
      "execution_count": 81,
      "outputs": []
    },
    {
      "cell_type": "code",
      "metadata": {
        "id": "GtRYz_Cyowc_"
      },
      "source": [
        "df2 = pd.read_csv('https://tf-assets-prod.s3.amazonaws.com/tf-curric/data-science/traffic_crashes_chicago.csv')\n",
        "df = pd.read_csv('https://tf-assets-prod.s3.amazonaws.com/tf-curric/data-science/fifa_ratings.csv')"
      ],
      "execution_count": 82,
      "outputs": []
    },
    {
      "cell_type": "code",
      "metadata": {
        "id": "w688Ym3KowdD",
        "outputId": "7af876f1-e369-497b-bf13-ffebad3f94da",
        "colab": {
          "base_uri": "https://localhost:8080/",
          "height": 292
        }
      },
      "source": [
        "df.head()"
      ],
      "execution_count": 83,
      "outputs": [
        {
          "output_type": "execute_result",
          "data": {
            "text/html": [
              "<div>\n",
              "<style scoped>\n",
              "    .dataframe tbody tr th:only-of-type {\n",
              "        vertical-align: middle;\n",
              "    }\n",
              "\n",
              "    .dataframe tbody tr th {\n",
              "        vertical-align: top;\n",
              "    }\n",
              "\n",
              "    .dataframe thead th {\n",
              "        text-align: right;\n",
              "    }\n",
              "</style>\n",
              "<table border=\"1\" class=\"dataframe\">\n",
              "  <thead>\n",
              "    <tr style=\"text-align: right;\">\n",
              "      <th></th>\n",
              "      <th>ID</th>\n",
              "      <th>Name</th>\n",
              "      <th>Overall</th>\n",
              "      <th>Crossing</th>\n",
              "      <th>Finishing</th>\n",
              "      <th>HeadingAccuracy</th>\n",
              "      <th>ShortPassing</th>\n",
              "      <th>Volleys</th>\n",
              "      <th>Dribbling</th>\n",
              "      <th>Curve</th>\n",
              "      <th>FKAccuracy</th>\n",
              "      <th>LongPassing</th>\n",
              "      <th>BallControl</th>\n",
              "      <th>Acceleration</th>\n",
              "      <th>SprintSpeed</th>\n",
              "      <th>Agility</th>\n",
              "      <th>Reactions</th>\n",
              "      <th>Balance</th>\n",
              "      <th>ShotPower</th>\n",
              "      <th>Jumping</th>\n",
              "      <th>Stamina</th>\n",
              "      <th>Strength</th>\n",
              "      <th>LongShots</th>\n",
              "      <th>Aggression</th>\n",
              "      <th>Interceptions</th>\n",
              "      <th>Positioning</th>\n",
              "      <th>Vision</th>\n",
              "      <th>Penalties</th>\n",
              "      <th>Composure</th>\n",
              "      <th>Marking</th>\n",
              "      <th>StandingTackle</th>\n",
              "      <th>SlidingTackle</th>\n",
              "    </tr>\n",
              "  </thead>\n",
              "  <tbody>\n",
              "    <tr>\n",
              "      <th>0</th>\n",
              "      <td>158023</td>\n",
              "      <td>L. Messi</td>\n",
              "      <td>94</td>\n",
              "      <td>84</td>\n",
              "      <td>95</td>\n",
              "      <td>70</td>\n",
              "      <td>90</td>\n",
              "      <td>86</td>\n",
              "      <td>97</td>\n",
              "      <td>93</td>\n",
              "      <td>94</td>\n",
              "      <td>87</td>\n",
              "      <td>96</td>\n",
              "      <td>91</td>\n",
              "      <td>86</td>\n",
              "      <td>91</td>\n",
              "      <td>95</td>\n",
              "      <td>95</td>\n",
              "      <td>85</td>\n",
              "      <td>68</td>\n",
              "      <td>72</td>\n",
              "      <td>59</td>\n",
              "      <td>94</td>\n",
              "      <td>48</td>\n",
              "      <td>22</td>\n",
              "      <td>94</td>\n",
              "      <td>94</td>\n",
              "      <td>75</td>\n",
              "      <td>96</td>\n",
              "      <td>33</td>\n",
              "      <td>28</td>\n",
              "      <td>26</td>\n",
              "    </tr>\n",
              "    <tr>\n",
              "      <th>1</th>\n",
              "      <td>20801</td>\n",
              "      <td>Cristiano Ronaldo</td>\n",
              "      <td>94</td>\n",
              "      <td>84</td>\n",
              "      <td>94</td>\n",
              "      <td>89</td>\n",
              "      <td>81</td>\n",
              "      <td>87</td>\n",
              "      <td>88</td>\n",
              "      <td>81</td>\n",
              "      <td>76</td>\n",
              "      <td>77</td>\n",
              "      <td>94</td>\n",
              "      <td>89</td>\n",
              "      <td>91</td>\n",
              "      <td>87</td>\n",
              "      <td>96</td>\n",
              "      <td>70</td>\n",
              "      <td>95</td>\n",
              "      <td>95</td>\n",
              "      <td>88</td>\n",
              "      <td>79</td>\n",
              "      <td>93</td>\n",
              "      <td>63</td>\n",
              "      <td>29</td>\n",
              "      <td>95</td>\n",
              "      <td>82</td>\n",
              "      <td>85</td>\n",
              "      <td>95</td>\n",
              "      <td>28</td>\n",
              "      <td>31</td>\n",
              "      <td>23</td>\n",
              "    </tr>\n",
              "    <tr>\n",
              "      <th>2</th>\n",
              "      <td>190871</td>\n",
              "      <td>Neymar Jr</td>\n",
              "      <td>92</td>\n",
              "      <td>79</td>\n",
              "      <td>87</td>\n",
              "      <td>62</td>\n",
              "      <td>84</td>\n",
              "      <td>84</td>\n",
              "      <td>96</td>\n",
              "      <td>88</td>\n",
              "      <td>87</td>\n",
              "      <td>78</td>\n",
              "      <td>95</td>\n",
              "      <td>94</td>\n",
              "      <td>90</td>\n",
              "      <td>96</td>\n",
              "      <td>94</td>\n",
              "      <td>84</td>\n",
              "      <td>80</td>\n",
              "      <td>61</td>\n",
              "      <td>81</td>\n",
              "      <td>49</td>\n",
              "      <td>82</td>\n",
              "      <td>56</td>\n",
              "      <td>36</td>\n",
              "      <td>89</td>\n",
              "      <td>87</td>\n",
              "      <td>81</td>\n",
              "      <td>94</td>\n",
              "      <td>27</td>\n",
              "      <td>24</td>\n",
              "      <td>33</td>\n",
              "    </tr>\n",
              "    <tr>\n",
              "      <th>3</th>\n",
              "      <td>192985</td>\n",
              "      <td>K. De Bruyne</td>\n",
              "      <td>91</td>\n",
              "      <td>93</td>\n",
              "      <td>82</td>\n",
              "      <td>55</td>\n",
              "      <td>92</td>\n",
              "      <td>82</td>\n",
              "      <td>86</td>\n",
              "      <td>85</td>\n",
              "      <td>83</td>\n",
              "      <td>91</td>\n",
              "      <td>91</td>\n",
              "      <td>78</td>\n",
              "      <td>76</td>\n",
              "      <td>79</td>\n",
              "      <td>91</td>\n",
              "      <td>77</td>\n",
              "      <td>91</td>\n",
              "      <td>63</td>\n",
              "      <td>90</td>\n",
              "      <td>75</td>\n",
              "      <td>91</td>\n",
              "      <td>76</td>\n",
              "      <td>61</td>\n",
              "      <td>87</td>\n",
              "      <td>94</td>\n",
              "      <td>79</td>\n",
              "      <td>88</td>\n",
              "      <td>68</td>\n",
              "      <td>58</td>\n",
              "      <td>51</td>\n",
              "    </tr>\n",
              "    <tr>\n",
              "      <th>4</th>\n",
              "      <td>183277</td>\n",
              "      <td>E. Hazard</td>\n",
              "      <td>91</td>\n",
              "      <td>81</td>\n",
              "      <td>84</td>\n",
              "      <td>61</td>\n",
              "      <td>89</td>\n",
              "      <td>80</td>\n",
              "      <td>95</td>\n",
              "      <td>83</td>\n",
              "      <td>79</td>\n",
              "      <td>83</td>\n",
              "      <td>94</td>\n",
              "      <td>94</td>\n",
              "      <td>88</td>\n",
              "      <td>95</td>\n",
              "      <td>90</td>\n",
              "      <td>94</td>\n",
              "      <td>82</td>\n",
              "      <td>56</td>\n",
              "      <td>83</td>\n",
              "      <td>66</td>\n",
              "      <td>80</td>\n",
              "      <td>54</td>\n",
              "      <td>41</td>\n",
              "      <td>87</td>\n",
              "      <td>89</td>\n",
              "      <td>86</td>\n",
              "      <td>91</td>\n",
              "      <td>34</td>\n",
              "      <td>27</td>\n",
              "      <td>22</td>\n",
              "    </tr>\n",
              "  </tbody>\n",
              "</table>\n",
              "</div>"
            ],
            "text/plain": [
              "       ID               Name  Overall  ...  Marking  StandingTackle  SlidingTackle\n",
              "0  158023           L. Messi       94  ...       33              28             26\n",
              "1   20801  Cristiano Ronaldo       94  ...       28              31             23\n",
              "2  190871          Neymar Jr       92  ...       27              24             33\n",
              "3  192985       K. De Bruyne       91  ...       68              58             51\n",
              "4  183277          E. Hazard       91  ...       34              27             22\n",
              "\n",
              "[5 rows x 32 columns]"
            ]
          },
          "metadata": {
            "tags": []
          },
          "execution_count": 83
        }
      ]
    },
    {
      "cell_type": "markdown",
      "metadata": {
        "id": "ZBcIEqK6owdF"
      },
      "source": [
        "We will start with the FIFA soccer ratings dataset. From our EDA in the previous exercise, we saw that most ratings appeared to be somewhat normally distributed, occasionally with long tails. Choose one of the ratings (we will choose Curve) and apply the following transformations:\n",
        "\n",
        "- Log transformation\n",
        "- Standardization\n",
        "- Quantile transformation\n",
        "\n",
        "Plot the resulting histograms. How do these transformations affect the resulting distributions?"
      ]
    },
    {
      "cell_type": "code",
      "metadata": {
        "id": "NriqBL6OowdF",
        "outputId": "57267e53-a3ba-4046-d979-209ca52f1832",
        "colab": {
          "base_uri": "https://localhost:8080/",
          "height": 265
        }
      },
      "source": [
        "# answer goes here\n",
        "scaler = StandardScaler()\n",
        "df['scale_log_curve'] = scaler.fit_transform(df[['Curve']])\n",
        "plt.hist(df['scale_log_curve'], bins=30)\n",
        "plt.show()"
      ],
      "execution_count": 84,
      "outputs": [
        {
          "output_type": "display_data",
          "data": {
            "image/png": "[encoded data removed]",
            "text/plain": [
              "<Figure size 432x288 with 1 Axes>"
            ]
          },
          "metadata": {
            "tags": [],
            "needs_background": "light"
          }
        }
      ]
    },
    {
      "cell_type": "code",
      "metadata": {
        "id": "ethC0-K5eAWB",
        "outputId": "5f2d61be-30a5-433a-ceab-e20d117ef8cf",
        "colab": {
          "base_uri": "https://localhost:8080/",
          "height": 265
        }
      },
      "source": [
        "quantile = QuantileTransformer(output_distribution='normal')\n",
        "df['quant_log_curve'] = quantile.fit_transform(df[['Curve']])\n",
        "plt.hist(df['quant_log_curve'], bins=30)\n",
        "plt.show()"
      ],
      "execution_count": 85,
      "outputs": [
        {
          "output_type": "display_data",
          "data": {
            "image/png": "[encoded data removed]",
            "text/plain": [
              "<Figure size 432x288 with 1 Axes>"
            ]
          },
          "metadata": {
            "tags": [],
            "needs_background": "light"
          }
        }
      ]
    },
    {
      "cell_type": "code",
      "metadata": {
        "id": "Nc5uZj0zfg51",
        "outputId": "253d6358-56da-4401-a49f-0c7ed2f5a6cb",
        "colab": {
          "base_uri": "https://localhost:8080/",
          "height": 265
        }
      },
      "source": [
        "log_curve = df['Curve'].apply(np.log)\n",
        "plt.hist(log_curve, bins=30)\n",
        "plt.show()"
      ],
      "execution_count": 86,
      "outputs": [
        {
          "output_type": "display_data",
          "data": {
            "image/png": "[encoded data removed]",
            "text/plain": [
              "<Figure size 432x288 with 1 Axes>"
            ]
          },
          "metadata": {
            "tags": [],
            "needs_background": "light"
          }
        }
      ]
    },
    {
      "cell_type": "markdown",
      "metadata": {
        "id": "DE37iEYUowdI"
      },
      "source": [
        "Next, we will switch our focus to the Chicago traffic crashes dataset. We will create several new features using several common feature engineering techniques.\n",
        "\n",
        "Start by considering the crash date column. It is usually difficult to directly feed datetimes into machine learning models, but we can extract several features from the datetime that may be more suitable for our use case. \n",
        "\n",
        "First, if the CRASH_DATE column is not already a datetime field (it may be read in as a string by default), convert it to a datetime. Then, create three new columns, CRASH_HOUR, CRASH_DAY_OF_WEEK, and CRASH_MONTH, that extract the relevant pieces of information from the crash date field. CRASH_HOUR should be numeric, while CRASH_DAY_OF_WEEK and CRASH_MONTH should be strings (e.g. \"Monday\" and \"December\", not 1 and 12)."
      ]
    },
    {
      "cell_type": "code",
      "metadata": {
        "id": "xnIzSzXHowdJ"
      },
      "source": [
        "# answer goes here\n",
        "df2['CRASH_DATE_TIME'] = pd.to_datetime(df2['CRASH_DATE'])"
      ],
      "execution_count": 87,
      "outputs": []
    },
    {
      "cell_type": "code",
      "metadata": {
        "id": "jAtbI1MfiGq_"
      },
      "source": [
        "df2['CRASH_HOUR'] = df2['CRASH_DATE_TIME'].dt.hour\n",
        "df2['CRASH_DAY_OF_WEEK'] = df2['CRASH_DATE_TIME'].dt.day_name()\n",
        "df2['CRASH_MONTH'] = df2['CRASH_DATE_TIME'].dt.month_name()"
      ],
      "execution_count": 88,
      "outputs": []
    },
    {
      "cell_type": "markdown",
      "metadata": {
        "id": "XRzuzP37owdN"
      },
      "source": [
        "Next, we will work through an example that involves combining two existing features together to make a new one. Convert the DATE_POLICE_NOTIFIED column into a datetime (if it isn't one already), and create a new feature called \"REPORTING_DELAY\" which corresponds to the number of hours between the crash actually occurring and the police being notified. \n",
        "\n",
        "Plot a histogram and a frequency table of the features - are the results reasonable? If there are unusual results, which ones are they and what steps could we consider taking to address them (if such steps are necessary)?"
      ]
    },
    {
      "cell_type": "code",
      "metadata": {
        "id": "t14Ptx23owdO"
      },
      "source": [
        "# answer goes here\n",
        "df2['date_time_police_notified'] = pd.to_datetime(df2['DATE_POLICE_NOTIFIED'])"
      ],
      "execution_count": 89,
      "outputs": []
    },
    {
      "cell_type": "code",
      "metadata": {
        "id": "7aNUEtGAlLJ1",
        "outputId": "cf3c69bc-406b-40f2-da1f-720a3c2d3190",
        "colab": {
          "base_uri": "https://localhost:8080/",
          "height": 221
        }
      },
      "source": [
        "df2['reporting_delay'] = df2['date_time_police_notified'].dt.hour - df2['CRASH_HOUR']\n",
        "df2['reporting_delay']"
      ],
      "execution_count": 90,
      "outputs": [
        {
          "output_type": "execute_result",
          "data": {
            "text/plain": [
              "0         1\n",
              "1         0\n",
              "2         0\n",
              "3         0\n",
              "4         2\n",
              "         ..\n",
              "372580    1\n",
              "372581    0\n",
              "372582    1\n",
              "372583    0\n",
              "372584    0\n",
              "Name: reporting_delay, Length: 372585, dtype: int64"
            ]
          },
          "metadata": {
            "tags": []
          },
          "execution_count": 90
        }
      ]
    },
    {
      "cell_type": "code",
      "metadata": {
        "id": "dn9h1u1zlvhQ",
        "outputId": "ffe9463e-bb04-4c04-e382-10db3e29c892",
        "colab": {
          "base_uri": "https://localhost:8080/",
          "height": 265
        }
      },
      "source": [
        "plt.hist(df2['reporting_delay'], bins=12)\n",
        "plt.show()"
      ],
      "execution_count": 91,
      "outputs": [
        {
          "output_type": "display_data",
          "data": {
            "image/png": "[encoded data removed]",
            "text/plain": [
              "<Figure size 432x288 with 1 Axes>"
            ]
          },
          "metadata": {
            "tags": [],
            "needs_background": "light"
          }
        }
      ]
    },
    {
      "cell_type": "markdown",
      "metadata": {
        "id": "kPFj6IohmMrj"
      },
      "source": [
        "Plot a histogram and a frequency table of the features - are the results reasonable? If there are unusual results, which ones are they and what steps could we consider taking to address them (if such steps are necessary)?\n",
        "**The answers are not reasonable because we recived negative values. However, we think that it could be because hour resets, for instance one accident could have occured at 23:30, and could have been reported at 01:02 the following date. We would have to incorporate the days into the feature**. "
      ]
    },
    {
      "cell_type": "markdown",
      "metadata": {
        "id": "--r9hiePowdP"
      },
      "source": [
        "Finally, we will generate a new geographical feature from the BEAT_OF_OCCURRENCE field. This field contains 4-digit identifiers corresponding to areas within Chicago; however, some values may be shorter if the leading digit is 0 (i.e. beat \"0114\" is represented as \"114\").\n",
        "\n",
        "Start by converting the the BEAT_OF_OCCURRENCE field into a string, dropping any unwanted characters that are present (chances are that this field was read in as a number and that \"114\" is represented as \"114.0\"; find a way to drop the \".0\"), and adding the appropriate number of leading 0s so that every beat is four digits."
      ]
    },
    {
      "cell_type": "code",
      "metadata": {
        "id": "4NBv9mHNowdQ"
      },
      "source": [
        "# answer goes here\n",
        "df2['new_beat_of_occurrence'] = df2['BEAT_OF_OCCURRENCE'].apply(str)\n"
      ],
      "execution_count": 92,
      "outputs": []
    },
    {
      "cell_type": "code",
      "metadata": {
        "id": "ooZ7vukhprG0",
        "outputId": "fcde0cb8-bda0-4b07-8e61-a38611ee4a6d",
        "colab": {
          "base_uri": "https://localhost:8080/",
          "height": 221
        }
      },
      "source": [
        "df2['new_beat_of_occurrence'] = [sub[ : -2] for sub in df2['new_beat_of_occurrence']] \n",
        "df2['new_beat_of_occurrence']"
      ],
      "execution_count": 94,
      "outputs": [
        {
          "output_type": "execute_result",
          "data": {
            "text/plain": [
              "0          114\n",
              "1          631\n",
              "2          332\n",
              "3         1831\n",
              "4         1921\n",
              "          ... \n",
              "372580     815\n",
              "372581    1622\n",
              "372582     512\n",
              "372583    1733\n",
              "372584    1011\n",
              "Name: new_beat_of_occurrence, Length: 372585, dtype: object"
            ]
          },
          "metadata": {
            "tags": []
          },
          "execution_count": 94
        }
      ]
    },
    {
      "cell_type": "code",
      "metadata": {
        "id": "T8MYUUcjupaQ",
        "outputId": "23a1dd98-10f0-4939-86fc-0b385fbdc1a5",
        "colab": {
          "base_uri": "https://localhost:8080/",
          "height": 221
        }
      },
      "source": [
        "df2['new_beat_of_occurrence'] = df2['new_beat_of_occurrence'].apply(lambda x: '0' + str(x) if len(str(x))< 4 else str(x))\n",
        "df2['new_beat_of_occurrence']"
      ],
      "execution_count": 95,
      "outputs": [
        {
          "output_type": "execute_result",
          "data": {
            "text/plain": [
              "0         0114\n",
              "1         0631\n",
              "2         0332\n",
              "3         1831\n",
              "4         1921\n",
              "          ... \n",
              "372580    0815\n",
              "372581    1622\n",
              "372582    0512\n",
              "372583    1733\n",
              "372584    1011\n",
              "Name: new_beat_of_occurrence, Length: 372585, dtype: object"
            ]
          },
          "metadata": {
            "tags": []
          },
          "execution_count": 95
        }
      ]
    },
    {
      "cell_type": "markdown",
      "metadata": {
        "id": "aT3Wy_cQowdR"
      },
      "source": [
        "As it turns out, the first two digits of each beat correspond to a higher-level geographic area. For example, the higher-level beat \"24\" corresponds to a larger geographic area that is subdivided into beats 2411, 2412, etc. See below for a map illustrating this (in the map, the higher-level codes are three digits, but the first digit is always a zero):\n",
        "\n",
        "https://news.wttw.com/sites/default/files/Map%20of%20Chicago%20Police%20Districts%20and%20Beats.pdf\n",
        "\n",
        "Create a new feature called BEAT_TWO_DIGIT that corresponds to the higher-level two-digit geographic area.\n",
        "\n",
        "As a side note, US zip codes work much the same way:\n",
        "\n",
        "https://www.unitedstateszipcodes.org/images/zip-codes/zip-codes.png\n",
        "\n",
        "This is a very common feature engineering technique for US zip codes. Many data sets will contain hundreds or thousands or zip codes, and attempting to feed a categorical variable with a very large number of levels into a model can often lead to problems (imagine trying to one-hot encode this; the number of columns would explode, and most of the columns would be very sparse.) Rolling up zip codes to a higher level loses some detail but greatly mitigates the issue of too many categories while still providing useful geographic insights on many occassions."
      ]
    },
    {
      "cell_type": "code",
      "metadata": {
        "id": "2kKY_WxWowdS",
        "outputId": "bd637680-2736-41b0-d31d-f8cc1c11b03a",
        "colab": {
          "base_uri": "https://localhost:8080/",
          "height": 221
        }
      },
      "source": [
        "# answer goes here\n",
        "\n",
        "df2['BEAT_TWO_DIGIT'] = [sub[:-2] for sub in df2['new_beat_of_occurrence']] \n",
        "\n",
        "df2['BEAT_TWO_DIGIT'] \n"
      ],
      "execution_count": 96,
      "outputs": [
        {
          "output_type": "execute_result",
          "data": {
            "text/plain": [
              "0         01\n",
              "1         06\n",
              "2         03\n",
              "3         18\n",
              "4         19\n",
              "          ..\n",
              "372580    08\n",
              "372581    16\n",
              "372582    05\n",
              "372583    17\n",
              "372584    10\n",
              "Name: BEAT_TWO_DIGIT, Length: 372585, dtype: object"
            ]
          },
          "metadata": {
            "tags": []
          },
          "execution_count": 96
        }
      ]
    }
  ]
}