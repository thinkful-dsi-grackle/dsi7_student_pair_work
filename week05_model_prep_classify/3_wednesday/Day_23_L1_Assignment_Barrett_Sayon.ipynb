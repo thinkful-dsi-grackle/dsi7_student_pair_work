{
  "nbformat": 4,
  "nbformat_minor": 0,
  "metadata": {
    "colab": {
      "name": "Day_23_L1_Assignment_Barrett_Sayon.ipynb",
      "provenance": [],
      "collapsed_sections": []
    },
    "kernelspec": {
      "display_name": "Python 3",
      "language": "python",
      "name": "python3"
    },
    "language_info": {
      "codemirror_mode": {
        "name": "ipython",
        "version": 3
      },
      "file_extension": ".py",
      "mimetype": "text/x-python",
      "name": "python",
      "nbconvert_exporter": "python",
      "pygments_lexer": "ipython3",
      "version": "3.7.3"
    }
  },
  "cells": [
    {
      "cell_type": "markdown",
      "metadata": {
        "id": "N-dUAbfgpuRb"
      },
      "source": [
        "## Day 23 Lecture 1 Assignment\n",
        "\n",
        "In this assignment, we will explore feature selection and dimensionality reduction techniques. We will use both the FIFA ratings dataset and the Chicago traffic crashes dataset."
      ]
    },
    {
      "cell_type": "code",
      "metadata": {
        "id": "frNvugKHpuRd"
      },
      "source": [
        "import numpy as np\n",
        "import pandas as pd\n",
        "import matplotlib.pyplot as plt\n",
        "from sklearn.feature_selection import SelectKBest, f_classif, f_regression, mutual_info_regression \n",
        "from sklearn.preprocessing import StandardScaler, MinMaxScaler\n",
        "from sklearn.decomposition import PCA\n",
        "import seaborn as sns\n",
        "import warnings \n",
        "warnings.simplefilter(action='ignore', category=FutureWarning)\n",
        "%matplotlib inline"
      ],
      "execution_count": 1,
      "outputs": []
    },
    {
      "cell_type": "code",
      "metadata": {
        "id": "B_1e4lobpuRf"
      },
      "source": [
        "crash_data = pd.read_csv('https://tf-assets-prod.s3.amazonaws.com/tf-curric/data-science/traffic_crashes_chicago.csv')\n",
        "soccer_data = pd.read_csv('https://tf-assets-prod.s3.amazonaws.com/tf-curric/data-science/fifa_ratings.csv')"
      ],
      "execution_count": 2,
      "outputs": []
    },
    {
      "cell_type": "code",
      "metadata": {
        "id": "EvejUvTOTUxR",
        "outputId": "1567b3c6-9beb-4ef2-edd5-82856a340774",
        "colab": {
          "base_uri": "https://localhost:8080/",
          "height": 287
        }
      },
      "source": [
        "soccer_data.head()"
      ],
      "execution_count": 3,
      "outputs": [
        {
          "output_type": "execute_result",
          "data": {
            "text/html": [
              "<div>\n",
              "<style scoped>\n",
              "    .dataframe tbody tr th:only-of-type {\n",
              "        vertical-align: middle;\n",
              "    }\n",
              "\n",
              "    .dataframe tbody tr th {\n",
              "        vertical-align: top;\n",
              "    }\n",
              "\n",
              "    .dataframe thead th {\n",
              "        text-align: right;\n",
              "    }\n",
              "</style>\n",
              "<table border=\"1\" class=\"dataframe\">\n",
              "  <thead>\n",
              "    <tr style=\"text-align: right;\">\n",
              "      <th></th>\n",
              "      <th>ID</th>\n",
              "      <th>Name</th>\n",
              "      <th>Overall</th>\n",
              "      <th>Crossing</th>\n",
              "      <th>Finishing</th>\n",
              "      <th>HeadingAccuracy</th>\n",
              "      <th>ShortPassing</th>\n",
              "      <th>Volleys</th>\n",
              "      <th>Dribbling</th>\n",
              "      <th>Curve</th>\n",
              "      <th>FKAccuracy</th>\n",
              "      <th>LongPassing</th>\n",
              "      <th>BallControl</th>\n",
              "      <th>Acceleration</th>\n",
              "      <th>SprintSpeed</th>\n",
              "      <th>Agility</th>\n",
              "      <th>Reactions</th>\n",
              "      <th>Balance</th>\n",
              "      <th>ShotPower</th>\n",
              "      <th>Jumping</th>\n",
              "      <th>Stamina</th>\n",
              "      <th>Strength</th>\n",
              "      <th>LongShots</th>\n",
              "      <th>Aggression</th>\n",
              "      <th>Interceptions</th>\n",
              "      <th>Positioning</th>\n",
              "      <th>Vision</th>\n",
              "      <th>Penalties</th>\n",
              "      <th>Composure</th>\n",
              "      <th>Marking</th>\n",
              "      <th>StandingTackle</th>\n",
              "      <th>SlidingTackle</th>\n",
              "    </tr>\n",
              "  </thead>\n",
              "  <tbody>\n",
              "    <tr>\n",
              "      <th>0</th>\n",
              "      <td>158023</td>\n",
              "      <td>L. Messi</td>\n",
              "      <td>94</td>\n",
              "      <td>84</td>\n",
              "      <td>95</td>\n",
              "      <td>70</td>\n",
              "      <td>90</td>\n",
              "      <td>86</td>\n",
              "      <td>97</td>\n",
              "      <td>93</td>\n",
              "      <td>94</td>\n",
              "      <td>87</td>\n",
              "      <td>96</td>\n",
              "      <td>91</td>\n",
              "      <td>86</td>\n",
              "      <td>91</td>\n",
              "      <td>95</td>\n",
              "      <td>95</td>\n",
              "      <td>85</td>\n",
              "      <td>68</td>\n",
              "      <td>72</td>\n",
              "      <td>59</td>\n",
              "      <td>94</td>\n",
              "      <td>48</td>\n",
              "      <td>22</td>\n",
              "      <td>94</td>\n",
              "      <td>94</td>\n",
              "      <td>75</td>\n",
              "      <td>96</td>\n",
              "      <td>33</td>\n",
              "      <td>28</td>\n",
              "      <td>26</td>\n",
              "    </tr>\n",
              "    <tr>\n",
              "      <th>1</th>\n",
              "      <td>20801</td>\n",
              "      <td>Cristiano Ronaldo</td>\n",
              "      <td>94</td>\n",
              "      <td>84</td>\n",
              "      <td>94</td>\n",
              "      <td>89</td>\n",
              "      <td>81</td>\n",
              "      <td>87</td>\n",
              "      <td>88</td>\n",
              "      <td>81</td>\n",
              "      <td>76</td>\n",
              "      <td>77</td>\n",
              "      <td>94</td>\n",
              "      <td>89</td>\n",
              "      <td>91</td>\n",
              "      <td>87</td>\n",
              "      <td>96</td>\n",
              "      <td>70</td>\n",
              "      <td>95</td>\n",
              "      <td>95</td>\n",
              "      <td>88</td>\n",
              "      <td>79</td>\n",
              "      <td>93</td>\n",
              "      <td>63</td>\n",
              "      <td>29</td>\n",
              "      <td>95</td>\n",
              "      <td>82</td>\n",
              "      <td>85</td>\n",
              "      <td>95</td>\n",
              "      <td>28</td>\n",
              "      <td>31</td>\n",
              "      <td>23</td>\n",
              "    </tr>\n",
              "    <tr>\n",
              "      <th>2</th>\n",
              "      <td>190871</td>\n",
              "      <td>Neymar Jr</td>\n",
              "      <td>92</td>\n",
              "      <td>79</td>\n",
              "      <td>87</td>\n",
              "      <td>62</td>\n",
              "      <td>84</td>\n",
              "      <td>84</td>\n",
              "      <td>96</td>\n",
              "      <td>88</td>\n",
              "      <td>87</td>\n",
              "      <td>78</td>\n",
              "      <td>95</td>\n",
              "      <td>94</td>\n",
              "      <td>90</td>\n",
              "      <td>96</td>\n",
              "      <td>94</td>\n",
              "      <td>84</td>\n",
              "      <td>80</td>\n",
              "      <td>61</td>\n",
              "      <td>81</td>\n",
              "      <td>49</td>\n",
              "      <td>82</td>\n",
              "      <td>56</td>\n",
              "      <td>36</td>\n",
              "      <td>89</td>\n",
              "      <td>87</td>\n",
              "      <td>81</td>\n",
              "      <td>94</td>\n",
              "      <td>27</td>\n",
              "      <td>24</td>\n",
              "      <td>33</td>\n",
              "    </tr>\n",
              "    <tr>\n",
              "      <th>3</th>\n",
              "      <td>192985</td>\n",
              "      <td>K. De Bruyne</td>\n",
              "      <td>91</td>\n",
              "      <td>93</td>\n",
              "      <td>82</td>\n",
              "      <td>55</td>\n",
              "      <td>92</td>\n",
              "      <td>82</td>\n",
              "      <td>86</td>\n",
              "      <td>85</td>\n",
              "      <td>83</td>\n",
              "      <td>91</td>\n",
              "      <td>91</td>\n",
              "      <td>78</td>\n",
              "      <td>76</td>\n",
              "      <td>79</td>\n",
              "      <td>91</td>\n",
              "      <td>77</td>\n",
              "      <td>91</td>\n",
              "      <td>63</td>\n",
              "      <td>90</td>\n",
              "      <td>75</td>\n",
              "      <td>91</td>\n",
              "      <td>76</td>\n",
              "      <td>61</td>\n",
              "      <td>87</td>\n",
              "      <td>94</td>\n",
              "      <td>79</td>\n",
              "      <td>88</td>\n",
              "      <td>68</td>\n",
              "      <td>58</td>\n",
              "      <td>51</td>\n",
              "    </tr>\n",
              "    <tr>\n",
              "      <th>4</th>\n",
              "      <td>183277</td>\n",
              "      <td>E. Hazard</td>\n",
              "      <td>91</td>\n",
              "      <td>81</td>\n",
              "      <td>84</td>\n",
              "      <td>61</td>\n",
              "      <td>89</td>\n",
              "      <td>80</td>\n",
              "      <td>95</td>\n",
              "      <td>83</td>\n",
              "      <td>79</td>\n",
              "      <td>83</td>\n",
              "      <td>94</td>\n",
              "      <td>94</td>\n",
              "      <td>88</td>\n",
              "      <td>95</td>\n",
              "      <td>90</td>\n",
              "      <td>94</td>\n",
              "      <td>82</td>\n",
              "      <td>56</td>\n",
              "      <td>83</td>\n",
              "      <td>66</td>\n",
              "      <td>80</td>\n",
              "      <td>54</td>\n",
              "      <td>41</td>\n",
              "      <td>87</td>\n",
              "      <td>89</td>\n",
              "      <td>86</td>\n",
              "      <td>91</td>\n",
              "      <td>34</td>\n",
              "      <td>27</td>\n",
              "      <td>22</td>\n",
              "    </tr>\n",
              "  </tbody>\n",
              "</table>\n",
              "</div>"
            ],
            "text/plain": [
              "       ID               Name  Overall  ...  Marking  StandingTackle  SlidingTackle\n",
              "0  158023           L. Messi       94  ...       33              28             26\n",
              "1   20801  Cristiano Ronaldo       94  ...       28              31             23\n",
              "2  190871          Neymar Jr       92  ...       27              24             33\n",
              "3  192985       K. De Bruyne       91  ...       68              58             51\n",
              "4  183277          E. Hazard       91  ...       34              27             22\n",
              "\n",
              "[5 rows x 32 columns]"
            ]
          },
          "metadata": {
            "tags": []
          },
          "execution_count": 3
        }
      ]
    },
    {
      "cell_type": "markdown",
      "metadata": {
        "id": "XSlVp6FRpuRg"
      },
      "source": [
        "We will begin with the Chicago traffic crashes dataset, focusing on removing columns with significant missing data.\n",
        "\n",
        "Remove all columns with more than 5% missing data from the dataframe. (The *missingness summary* function we wrote a few exercises ago will speed this process up significantly.) Print out the columns that were removed, and the proportion of missing data for each column."
      ]
    },
    {
      "cell_type": "code",
      "metadata": {
        "id": "p8LyaYcIpuRh"
      },
      "source": [
        "# answer goes here\n",
        "def null_percentage(df):\n",
        "  return (df.isnull().sum()*100/df.isnull().count()).round(2)\n",
        "\n",
        "def missingness_summary(df, print_log=False, sort=None):\n",
        "  \"\"\"\n",
        "  Takes a pandas df and returns a pandas series containing percentage of \n",
        "  missing data (null values) in each column.\n",
        "\n",
        "  Params:\n",
        "  df : pandas df\n",
        "  print_log: True or False (default), if true prints out all of the columns and \n",
        "            percentages of null values for each column.\n",
        "  sort : 'ascending', 'descending', None (default), sorts output in ascending or \n",
        "          descending if specified.\n",
        "  \"\"\"\n",
        "  missing_values = df.apply(null_percentage)\n",
        "  \n",
        "  if sort == 'ascending':\n",
        "    missing_values = missing_values.sort_values(ascending=True)\n",
        "  if sort == 'descending':\n",
        "    missing_values = missing_values.sort_values(ascending=False)\n",
        "\n",
        "  if print_log:\n",
        "    print('Printing Missingness Summary')\n",
        "    for column in missing_values.index:\n",
        "      print('{} has {} percent missing data'.format(\n",
        "          column, missing_values[column]\n",
        "      ))\n",
        "    print('Missingness Summary completed \\n')\n",
        "  \n",
        "  return missing_values"
      ],
      "execution_count": 4,
      "outputs": []
    },
    {
      "cell_type": "code",
      "metadata": {
        "id": "CpucDGYdqmue",
        "outputId": "3c653618-0fec-42aa-df9f-632012415297",
        "colab": {
          "base_uri": "https://localhost:8080/",
          "height": 207
        }
      },
      "source": [
        "missing_data_report = missingness_summary(crash_data, sort='descending')\n",
        "missing_data_report.loc[missing_data_report > 5]"
      ],
      "execution_count": 5,
      "outputs": [
        {
          "output_type": "execute_result",
          "data": {
            "text/plain": [
              "WORKERS_PRESENT_I         99.84\n",
              "DOORING_I                 99.66\n",
              "WORK_ZONE_TYPE            99.44\n",
              "WORK_ZONE_I               99.29\n",
              "PHOTOS_TAKEN_I            98.73\n",
              "STATEMENTS_TAKEN_I        97.98\n",
              "NOT_RIGHT_OF_WAY_I        95.39\n",
              "INTERSECTION_RELATED_I    77.95\n",
              "HIT_AND_RUN_I             72.24\n",
              "LANE_CNT                  46.71\n",
              "dtype: float64"
            ]
          },
          "metadata": {
            "tags": []
          },
          "execution_count": 5
        }
      ]
    },
    {
      "cell_type": "code",
      "metadata": {
        "id": "jtOvcrRAqmq3"
      },
      "source": [
        "missing_data_columns = missing_data_report.loc[missing_data_report > 5].index\n",
        "crash_data.drop(columns=missing_data_columns, inplace=True)"
      ],
      "execution_count": 6,
      "outputs": []
    },
    {
      "cell_type": "code",
      "metadata": {
        "id": "rrhnV1luvGNv",
        "outputId": "ec9a5b3e-785e-468d-be8e-cd4a49e11e75",
        "colab": {
          "base_uri": "https://localhost:8080/",
          "height": 570
        }
      },
      "source": [
        "missing_data_report = missingness_summary(crash_data, sort='descending')\n",
        "missing_data_report"
      ],
      "execution_count": 7,
      "outputs": [
        {
          "output_type": "execute_result",
          "data": {
            "text/plain": [
              "REPORT_TYPE                      2.30\n",
              "INJURIES_UNKNOWN                 0.58\n",
              "INJURIES_REPORTED_NOT_EVIDENT    0.58\n",
              "INJURIES_NON_INCAPACITATING      0.58\n",
              "INJURIES_INCAPACITATING          0.58\n",
              "INJURIES_FATAL                   0.58\n",
              "INJURIES_TOTAL                   0.58\n",
              "MOST_SEVERE_INJURY               0.58\n",
              "INJURIES_NO_INDICATION           0.58\n",
              "NUM_UNITS                        0.38\n",
              "LIGHTING_CONDITION               0.00\n",
              "TRAFFICWAY_TYPE                  0.00\n",
              "FIRST_CRASH_TYPE                 0.00\n",
              "POSTED_SPEED_LIMIT               0.00\n",
              "WEATHER_CONDITION                0.00\n",
              "DEVICE_CONDITION                 0.00\n",
              "TRAFFIC_CONTROL_DEVICE           0.00\n",
              "ROADWAY_SURFACE_COND             0.00\n",
              "CRASH_DATE                       0.00\n",
              "ALIGNMENT                        0.00\n",
              "DATE_POLICE_NOTIFIED             0.00\n",
              "ROAD_DEFECT                      0.00\n",
              "CRASH_TYPE                       0.00\n",
              "DAMAGE                           0.00\n",
              "PRIM_CONTRIBUTORY_CAUSE          0.00\n",
              "SEC_CONTRIBUTORY_CAUSE           0.00\n",
              "STREET_NO                        0.00\n",
              "STREET_DIRECTION                 0.00\n",
              "STREET_NAME                      0.00\n",
              "BEAT_OF_OCCURRENCE               0.00\n",
              "RD_NO                            0.00\n",
              "dtype: float64"
            ]
          },
          "metadata": {
            "tags": []
          },
          "execution_count": 7
        }
      ]
    },
    {
      "cell_type": "markdown",
      "metadata": {
        "id": "P_h8WYktpuRj"
      },
      "source": [
        "Next, we will shift our focus to the FIFA ratings dataset and explore univariate feature selection techniques. We will treat \"Overall\" as the response and the other ratings as features.\n",
        "\n",
        "Using the correlations between the response and features, identify the 5 features with the greatest univariate correlation to the response."
      ]
    },
    {
      "cell_type": "code",
      "metadata": {
        "id": "N2QZ5lrZTUxX",
        "outputId": "0f709c86-2fb2-4be5-e0e1-d874b9720a9e",
        "colab": {
          "base_uri": "https://localhost:8080/",
          "height": 121
        }
      },
      "source": [
        "# answer goes here\n",
        "soccer_corr = soccer_data.corr()\n",
        "np.abs(soccer_corr['Overall']).sort_values(ascending=False)[1:6]"
      ],
      "execution_count": 8,
      "outputs": [
        {
          "output_type": "execute_result",
          "data": {
            "text/plain": [
              "Reactions       0.847739\n",
              "Composure       0.801749\n",
              "ShortPassing    0.722720\n",
              "BallControl     0.717933\n",
              "LongPassing     0.585104\n",
              "Name: Overall, dtype: float64"
            ]
          },
          "metadata": {
            "tags": []
          },
          "execution_count": 8
        }
      ]
    },
    {
      "cell_type": "code",
      "metadata": {
        "id": "XvdbnJvjv5gD",
        "outputId": "4f0f737b-dfe1-4e56-aac4-d5cc9707bfcb",
        "colab": {
          "base_uri": "https://localhost:8080/",
          "height": 35
        }
      },
      "source": [
        "overall_corr_features = np.abs(soccer_corr['Overall']).sort_values(ascending=False)[1:6].index\n",
        "overall_corr_features"
      ],
      "execution_count": 9,
      "outputs": [
        {
          "output_type": "execute_result",
          "data": {
            "text/plain": [
              "Index(['Reactions', 'Composure', 'ShortPassing', 'BallControl', 'LongPassing'], dtype='object')"
            ]
          },
          "metadata": {
            "tags": []
          },
          "execution_count": 9
        }
      ]
    },
    {
      "cell_type": "code",
      "metadata": {
        "id": "-B4oON3lynlB"
      },
      "source": [
        "# soccer_data.corr()[['Overall']].nlargest(6,'Overall')[1:6].index"
      ],
      "execution_count": 10,
      "outputs": []
    },
    {
      "cell_type": "markdown",
      "metadata": {
        "id": "iR7m9gANTUxY"
      },
      "source": [
        "Use sklearn's \"SelectKBest\" function to select the top 5 features using two different scoring metrics: f_regression and mutual_info_regression. Print out the top 5 columns that are selected by both. How do they compare to the ones selected by  univariate correlation?"
      ]
    },
    {
      "cell_type": "code",
      "metadata": {
        "id": "s7ZPqXMGpuRj"
      },
      "source": [
        "# answer goes here\n",
        "Y = soccer_data['Overall']\n",
        "X = soccer_data.drop(columns=['ID', 'Name', 'Overall'])\n",
        "\n",
        "k = 5\n",
        "kbest_f = SelectKBest(k=k, score_func=f_regression)\n",
        "kbest_mut = SelectKBest(k=k, score_func=mutual_info_regression)\n",
        "\n",
        "X_best_features_f = kbest_f.fit_transform(X, Y)\n",
        "X_best_features_mut = kbest_mut.fit_transform(X, Y)\n",
        "\n",
        "X_best_features_f = pd.DataFrame(X_best_features_f,\n",
        "                                 columns=X.columns[kbest_f.get_support()])\n",
        "\n",
        "X_best_features_mut = pd.DataFrame(X_best_features_mut,\n",
        "                                 columns=X.columns[kbest_mut.get_support()])"
      ],
      "execution_count": 11,
      "outputs": []
    },
    {
      "cell_type": "code",
      "metadata": {
        "id": "DkbsSuPLzIMq",
        "outputId": "93959f21-575b-4384-b0bf-5ece9d3a5654",
        "colab": {
          "base_uri": "https://localhost:8080/",
          "height": 35
        }
      },
      "source": [
        "X_best_features_f.columns"
      ],
      "execution_count": 12,
      "outputs": [
        {
          "output_type": "execute_result",
          "data": {
            "text/plain": [
              "Index(['ShortPassing', 'LongPassing', 'BallControl', 'Reactions', 'Composure'], dtype='object')"
            ]
          },
          "metadata": {
            "tags": []
          },
          "execution_count": 12
        }
      ]
    },
    {
      "cell_type": "code",
      "metadata": {
        "id": "i0qm_BcSzK6q",
        "outputId": "193bd141-d7be-4f63-cb4b-bffd14e2b22a",
        "colab": {
          "base_uri": "https://localhost:8080/",
          "height": 35
        }
      },
      "source": [
        "X_best_features_mut.columns"
      ],
      "execution_count": 13,
      "outputs": [
        {
          "output_type": "execute_result",
          "data": {
            "text/plain": [
              "Index(['ShortPassing', 'Dribbling', 'BallControl', 'Reactions', 'Composure'], dtype='object')"
            ]
          },
          "metadata": {
            "tags": []
          },
          "execution_count": 13
        }
      ]
    },
    {
      "cell_type": "markdown",
      "metadata": {
        "id": "ACAc2dKiSisw"
      },
      "source": [
        "Univariate Corr = 'Reactions', 'Composure', 'ShortPassing', 'BallControl', 'LongPassing'\n",
        "\n",
        "KBest_fregress = 'ShortPassing', 'LongPassing', 'BallControl', 'Reactions', 'Composure'\n",
        "\n",
        "KBest_mutregress = 'ShortPassing', 'Dribbling', 'BallControl', 'Reactions', 'Composure'\n",
        "\n",
        "'Reactions', 'Composure', 'BallControl', and 'ShortPassing' were in all 3 results. Univariate and KBest with f_regression also had 'LongPassing', while KBest with mutual regression had 'Dribbling'"
      ]
    },
    {
      "cell_type": "markdown",
      "metadata": {
        "id": "ahsyvz1LpuRn"
      },
      "source": [
        "Shifting our focus from feature selection to dimensionality reduction, perform PCA on the ratings provided, excluding \"Overall\". Then, answer the following questions:\n",
        "\n",
        "- What percentage of the total variance is capture by the first component? What about the first two, or first three?\n",
        "- Looking at the components themselves, how would you interpret the first two components in plain English?"
      ]
    },
    {
      "cell_type": "code",
      "metadata": {
        "id": "CT1RLkmp_jbv"
      },
      "source": [
        "x_features = soccer_data.drop(columns=['ID', 'Name', 'Overall'])\n",
        "y_target = soccer_data['Overall']\n",
        "x_features = StandardScaler().fit_transform(x_features)\n",
        "pca = PCA(n_components=5)\n",
        "x_pca = pca.fit_transform(x_features)"
      ],
      "execution_count": 14,
      "outputs": []
    },
    {
      "cell_type": "code",
      "metadata": {
        "id": "dGXW2j-zAgAX",
        "outputId": "ca8a2432-ab74-4e6a-98b5-61ff05b009da",
        "colab": {
          "base_uri": "https://localhost:8080/",
          "height": 35
        }
      },
      "source": [
        "pca.explained_variance_ratio_"
      ],
      "execution_count": 15,
      "outputs": [
        {
          "output_type": "execute_result",
          "data": {
            "text/plain": [
              "array([0.3908719 , 0.21348826, 0.09910329, 0.0607238 , 0.02777252])"
            ]
          },
          "metadata": {
            "tags": []
          },
          "execution_count": 15
        }
      ]
    },
    {
      "cell_type": "code",
      "metadata": {
        "id": "DgGcMIpGUVeQ",
        "outputId": "f3b19d76-871f-470d-f957-90ea04e9dc78",
        "colab": {
          "base_uri": "https://localhost:8080/",
          "height": 35
        }
      },
      "source": [
        "pca.explained_variance_ratio_.sum()"
      ],
      "execution_count": 23,
      "outputs": [
        {
          "output_type": "execute_result",
          "data": {
            "text/plain": [
              "0.7919597681729361"
            ]
          },
          "metadata": {
            "tags": []
          },
          "execution_count": 23
        }
      ]
    },
    {
      "cell_type": "code",
      "metadata": {
        "id": "ijwcHWFwA2FK",
        "outputId": "1dd5a98b-a8e5-4ea8-8290-138b20f61cba",
        "colab": {
          "base_uri": "https://localhost:8080/",
          "height": 295
        }
      },
      "source": [
        "plt.plot(pca.explained_variance_ratio_, marker='o', markersize=12)\n",
        "plt.xlabel('Components')\n",
        "plt.ylabel('Explained Variance Ratio')\n",
        "plt.title('Scree Plot')\n",
        "plt.show()"
      ],
      "execution_count": 16,
      "outputs": [
        {
          "output_type": "display_data",
          "data": {
            "image/png": "[encoded data removed]",
            "text/plain": [
              "<Figure size 432x288 with 1 Axes>"
            ]
          },
          "metadata": {
            "tags": [],
            "needs_background": "light"
          }
        }
      ]
    },
    {
      "cell_type": "markdown",
      "metadata": {
        "id": "4v2knYWJTh2a"
      },
      "source": [
        "The total variance explained by all 5 components is 79.2%\n",
        "\n",
        "The total variance explained per component is:\n",
        ">39.09% from component 1\n",
        "\n",
        ">21.35% from component 2\n",
        "\n",
        ">9.91% from component 3\n",
        "\n",
        ">6.07% from component 4\n",
        "\n",
        ">2.78% from component 5"
      ]
    },
    {
      "cell_type": "markdown",
      "metadata": {
        "id": "YIES1RjlXUQv"
      },
      "source": [
        "The first two components of the PCA are the two components that retain the maximal amount of variance of the data after having the number of variables reduced."
      ]
    },
    {
      "cell_type": "code",
      "metadata": {
        "id": "0BTVcj_LYEeH"
      },
      "source": [
        ""
      ],
      "execution_count": null,
      "outputs": []
    },
    {
      "cell_type": "code",
      "metadata": {
        "id": "erzM0vGhYEsv"
      },
      "source": [
        ""
      ],
      "execution_count": null,
      "outputs": []
    },
    {
      "cell_type": "code",
      "metadata": {
        "id": "Ib9r83DUYEoo"
      },
      "source": [
        ""
      ],
      "execution_count": null,
      "outputs": []
    },
    {
      "cell_type": "code",
      "metadata": {
        "id": "WZNvDvJsYElT"
      },
      "source": [
        ""
      ],
      "execution_count": null,
      "outputs": []
    },
    {
      "cell_type": "code",
      "metadata": {
        "id": "lwZaC3L7Cy7U"
      },
      "source": [
        "pca_df = pd.DataFrame(data = x_pca,\n",
        "                      columns = ['principal component 1', \n",
        "                                 'principal component 2',\n",
        "                                 'principal component 3',\n",
        "                                 'principal component 4',\n",
        "                                 'principal component 5'])"
      ],
      "execution_count": 17,
      "outputs": []
    },
    {
      "cell_type": "code",
      "metadata": {
        "id": "nyjkZCnaGFJ8",
        "outputId": "93ee92c6-43e7-4a6f-85c4-3efe71438ef6",
        "colab": {
          "base_uri": "https://localhost:8080/",
          "height": 215
        }
      },
      "source": [
        "pca_df.head()"
      ],
      "execution_count": 18,
      "outputs": [
        {
          "output_type": "execute_result",
          "data": {
            "text/html": [
              "<div>\n",
              "<style scoped>\n",
              "    .dataframe tbody tr th:only-of-type {\n",
              "        vertical-align: middle;\n",
              "    }\n",
              "\n",
              "    .dataframe tbody tr th {\n",
              "        vertical-align: top;\n",
              "    }\n",
              "\n",
              "    .dataframe thead th {\n",
              "        text-align: right;\n",
              "    }\n",
              "</style>\n",
              "<table border=\"1\" class=\"dataframe\">\n",
              "  <thead>\n",
              "    <tr style=\"text-align: right;\">\n",
              "      <th></th>\n",
              "      <th>principal component 1</th>\n",
              "      <th>principal component 2</th>\n",
              "      <th>principal component 3</th>\n",
              "      <th>principal component 4</th>\n",
              "      <th>principal component 5</th>\n",
              "    </tr>\n",
              "  </thead>\n",
              "  <tbody>\n",
              "    <tr>\n",
              "      <th>0</th>\n",
              "      <td>11.832844</td>\n",
              "      <td>-0.242547</td>\n",
              "      <td>0.578543</td>\n",
              "      <td>-0.210673</td>\n",
              "      <td>-0.287149</td>\n",
              "    </tr>\n",
              "    <tr>\n",
              "      <th>1</th>\n",
              "      <td>10.581634</td>\n",
              "      <td>-1.515428</td>\n",
              "      <td>2.810661</td>\n",
              "      <td>-3.701690</td>\n",
              "      <td>-0.273542</td>\n",
              "    </tr>\n",
              "    <tr>\n",
              "      <th>2</th>\n",
              "      <td>10.785397</td>\n",
              "      <td>0.060371</td>\n",
              "      <td>-0.138087</td>\n",
              "      <td>-0.560872</td>\n",
              "      <td>0.445864</td>\n",
              "    </tr>\n",
              "    <tr>\n",
              "      <th>3</th>\n",
              "      <td>9.807196</td>\n",
              "      <td>-3.981132</td>\n",
              "      <td>0.369339</td>\n",
              "      <td>0.576345</td>\n",
              "      <td>0.669708</td>\n",
              "    </tr>\n",
              "    <tr>\n",
              "      <th>4</th>\n",
              "      <td>10.614601</td>\n",
              "      <td>-0.219818</td>\n",
              "      <td>-0.145889</td>\n",
              "      <td>-0.499843</td>\n",
              "      <td>0.882936</td>\n",
              "    </tr>\n",
              "  </tbody>\n",
              "</table>\n",
              "</div>"
            ],
            "text/plain": [
              "   principal component 1  ...  principal component 5\n",
              "0              11.832844  ...              -0.287149\n",
              "1              10.581634  ...              -0.273542\n",
              "2              10.785397  ...               0.445864\n",
              "3               9.807196  ...               0.669708\n",
              "4              10.614601  ...               0.882936\n",
              "\n",
              "[5 rows x 5 columns]"
            ]
          },
          "metadata": {
            "tags": []
          },
          "execution_count": 18
        }
      ]
    },
    {
      "cell_type": "code",
      "metadata": {
        "id": "hQnOvF1EGKDF",
        "outputId": "ee416c7f-77e8-403c-d79f-5b124f9f8ff5",
        "colab": {
          "base_uri": "https://localhost:8080/",
          "height": 215
        }
      },
      "source": [
        "pca_df = pd.concat([pca_df, y_target, ], axis = 1)\n",
        "pca_df.head()"
      ],
      "execution_count": 19,
      "outputs": [
        {
          "output_type": "execute_result",
          "data": {
            "text/html": [
              "<div>\n",
              "<style scoped>\n",
              "    .dataframe tbody tr th:only-of-type {\n",
              "        vertical-align: middle;\n",
              "    }\n",
              "\n",
              "    .dataframe tbody tr th {\n",
              "        vertical-align: top;\n",
              "    }\n",
              "\n",
              "    .dataframe thead th {\n",
              "        text-align: right;\n",
              "    }\n",
              "</style>\n",
              "<table border=\"1\" class=\"dataframe\">\n",
              "  <thead>\n",
              "    <tr style=\"text-align: right;\">\n",
              "      <th></th>\n",
              "      <th>principal component 1</th>\n",
              "      <th>principal component 2</th>\n",
              "      <th>principal component 3</th>\n",
              "      <th>principal component 4</th>\n",
              "      <th>principal component 5</th>\n",
              "      <th>Overall</th>\n",
              "    </tr>\n",
              "  </thead>\n",
              "  <tbody>\n",
              "    <tr>\n",
              "      <th>0</th>\n",
              "      <td>11.832844</td>\n",
              "      <td>-0.242547</td>\n",
              "      <td>0.578543</td>\n",
              "      <td>-0.210673</td>\n",
              "      <td>-0.287149</td>\n",
              "      <td>94</td>\n",
              "    </tr>\n",
              "    <tr>\n",
              "      <th>1</th>\n",
              "      <td>10.581634</td>\n",
              "      <td>-1.515428</td>\n",
              "      <td>2.810661</td>\n",
              "      <td>-3.701690</td>\n",
              "      <td>-0.273542</td>\n",
              "      <td>94</td>\n",
              "    </tr>\n",
              "    <tr>\n",
              "      <th>2</th>\n",
              "      <td>10.785397</td>\n",
              "      <td>0.060371</td>\n",
              "      <td>-0.138087</td>\n",
              "      <td>-0.560872</td>\n",
              "      <td>0.445864</td>\n",
              "      <td>92</td>\n",
              "    </tr>\n",
              "    <tr>\n",
              "      <th>3</th>\n",
              "      <td>9.807196</td>\n",
              "      <td>-3.981132</td>\n",
              "      <td>0.369339</td>\n",
              "      <td>0.576345</td>\n",
              "      <td>0.669708</td>\n",
              "      <td>91</td>\n",
              "    </tr>\n",
              "    <tr>\n",
              "      <th>4</th>\n",
              "      <td>10.614601</td>\n",
              "      <td>-0.219818</td>\n",
              "      <td>-0.145889</td>\n",
              "      <td>-0.499843</td>\n",
              "      <td>0.882936</td>\n",
              "      <td>91</td>\n",
              "    </tr>\n",
              "  </tbody>\n",
              "</table>\n",
              "</div>"
            ],
            "text/plain": [
              "   principal component 1  principal component 2  ...  principal component 5  Overall\n",
              "0              11.832844              -0.242547  ...              -0.287149       94\n",
              "1              10.581634              -1.515428  ...              -0.273542       94\n",
              "2              10.785397               0.060371  ...               0.445864       92\n",
              "3               9.807196              -3.981132  ...               0.669708       91\n",
              "4              10.614601              -0.219818  ...               0.882936       91\n",
              "\n",
              "[5 rows x 6 columns]"
            ]
          },
          "metadata": {
            "tags": []
          },
          "execution_count": 19
        }
      ]
    },
    {
      "cell_type": "code",
      "metadata": {
        "id": "RyZCTjX1GTmh",
        "outputId": "27599ff4-11c7-4cc3-fda8-d79743e19e8a",
        "colab": {
          "base_uri": "https://localhost:8080/",
          "height": 279
        }
      },
      "source": [
        "sns.scatterplot(pca_df['principal component 1'], \n",
        "                pca_df['principal component 2'],\n",
        "                hue=pca_df['Overall'])\n",
        "plt.show()"
      ],
      "execution_count": 20,
      "outputs": [
        {
          "output_type": "display_data",
          "data": {
            "image/png": "[encoded data removed]",
            "text/plain": [
              "<Figure size 432x288 with 1 Axes>"
            ]
          },
          "metadata": {
            "tags": [],
            "needs_background": "light"
          }
        }
      ]
    },
    {
      "cell_type": "code",
      "metadata": {
        "id": "YMG9z3MMO8fF"
      },
      "source": [
        ""
      ],
      "execution_count": 20,
      "outputs": []
    }
  ]
}