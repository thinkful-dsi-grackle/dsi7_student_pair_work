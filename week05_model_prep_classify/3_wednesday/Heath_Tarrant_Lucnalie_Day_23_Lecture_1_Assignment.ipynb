{
  "nbformat": 4,
  "nbformat_minor": 0,
  "metadata": {
    "colab": {
      "name": "Heath Tarrant Lucnalie Day 23 Lecture 1 Assignment",
      "provenance": [],
      "collapsed_sections": []
    },
    "kernelspec": {
      "display_name": "Python 3",
      "language": "python",
      "name": "python3"
    },
    "language_info": {
      "codemirror_mode": {
        "name": "ipython",
        "version": 3
      },
      "file_extension": ".py",
      "mimetype": "text/x-python",
      "name": "python",
      "nbconvert_exporter": "python",
      "pygments_lexer": "ipython3",
      "version": "3.7.3"
    }
  },
  "cells": [
    {
      "cell_type": "markdown",
      "metadata": {
        "id": "N-dUAbfgpuRb"
      },
      "source": [
        "## Day 23 Lecture 1 Assignment\n",
        "\n",
        "In this assignment, we will explore feature selection and dimensionality reduction techniques. We will use both the FIFA ratings dataset and the Chicago traffic crashes dataset."
      ]
    },
    {
      "cell_type": "code",
      "metadata": {
        "id": "frNvugKHpuRd"
      },
      "source": [
        "import numpy as np\n",
        "import pandas as pd\n",
        "\n",
        "import matplotlib.pyplot as plt\n",
        "\n",
        "%matplotlib inline"
      ],
      "execution_count": null,
      "outputs": []
    },
    {
      "cell_type": "code",
      "metadata": {
        "id": "B_1e4lobpuRf"
      },
      "source": [
        "crash_data = pd.read_csv('https://tf-assets-prod.s3.amazonaws.com/tf-curric/data-science/traffic_crashes_chicago.csv')\n",
        "soccer_data = pd.read_csv('https://tf-assets-prod.s3.amazonaws.com/tf-curric/data-science/fifa_ratings.csv')"
      ],
      "execution_count": null,
      "outputs": []
    },
    {
      "cell_type": "code",
      "metadata": {
        "id": "EvejUvTOTUxR",
        "outputId": "f6e6b931-411c-4841-8fe2-c89a9c7132c3",
        "colab": {
          "base_uri": "https://localhost:8080/",
          "height": 292
        }
      },
      "source": [
        "soccer_data.head()"
      ],
      "execution_count": null,
      "outputs": [
        {
          "output_type": "execute_result",
          "data": {
            "text/html": [
              "<div>\n",
              "<style scoped>\n",
              "    .dataframe tbody tr th:only-of-type {\n",
              "        vertical-align: middle;\n",
              "    }\n",
              "\n",
              "    .dataframe tbody tr th {\n",
              "        vertical-align: top;\n",
              "    }\n",
              "\n",
              "    .dataframe thead th {\n",
              "        text-align: right;\n",
              "    }\n",
              "</style>\n",
              "<table border=\"1\" class=\"dataframe\">\n",
              "  <thead>\n",
              "    <tr style=\"text-align: right;\">\n",
              "      <th></th>\n",
              "      <th>ID</th>\n",
              "      <th>Name</th>\n",
              "      <th>Overall</th>\n",
              "      <th>Crossing</th>\n",
              "      <th>Finishing</th>\n",
              "      <th>HeadingAccuracy</th>\n",
              "      <th>ShortPassing</th>\n",
              "      <th>Volleys</th>\n",
              "      <th>Dribbling</th>\n",
              "      <th>Curve</th>\n",
              "      <th>FKAccuracy</th>\n",
              "      <th>LongPassing</th>\n",
              "      <th>BallControl</th>\n",
              "      <th>Acceleration</th>\n",
              "      <th>SprintSpeed</th>\n",
              "      <th>Agility</th>\n",
              "      <th>Reactions</th>\n",
              "      <th>Balance</th>\n",
              "      <th>ShotPower</th>\n",
              "      <th>Jumping</th>\n",
              "      <th>Stamina</th>\n",
              "      <th>Strength</th>\n",
              "      <th>LongShots</th>\n",
              "      <th>Aggression</th>\n",
              "      <th>Interceptions</th>\n",
              "      <th>Positioning</th>\n",
              "      <th>Vision</th>\n",
              "      <th>Penalties</th>\n",
              "      <th>Composure</th>\n",
              "      <th>Marking</th>\n",
              "      <th>StandingTackle</th>\n",
              "      <th>SlidingTackle</th>\n",
              "    </tr>\n",
              "  </thead>\n",
              "  <tbody>\n",
              "    <tr>\n",
              "      <th>0</th>\n",
              "      <td>158023</td>\n",
              "      <td>L. Messi</td>\n",
              "      <td>94</td>\n",
              "      <td>84</td>\n",
              "      <td>95</td>\n",
              "      <td>70</td>\n",
              "      <td>90</td>\n",
              "      <td>86</td>\n",
              "      <td>97</td>\n",
              "      <td>93</td>\n",
              "      <td>94</td>\n",
              "      <td>87</td>\n",
              "      <td>96</td>\n",
              "      <td>91</td>\n",
              "      <td>86</td>\n",
              "      <td>91</td>\n",
              "      <td>95</td>\n",
              "      <td>95</td>\n",
              "      <td>85</td>\n",
              "      <td>68</td>\n",
              "      <td>72</td>\n",
              "      <td>59</td>\n",
              "      <td>94</td>\n",
              "      <td>48</td>\n",
              "      <td>22</td>\n",
              "      <td>94</td>\n",
              "      <td>94</td>\n",
              "      <td>75</td>\n",
              "      <td>96</td>\n",
              "      <td>33</td>\n",
              "      <td>28</td>\n",
              "      <td>26</td>\n",
              "    </tr>\n",
              "    <tr>\n",
              "      <th>1</th>\n",
              "      <td>20801</td>\n",
              "      <td>Cristiano Ronaldo</td>\n",
              "      <td>94</td>\n",
              "      <td>84</td>\n",
              "      <td>94</td>\n",
              "      <td>89</td>\n",
              "      <td>81</td>\n",
              "      <td>87</td>\n",
              "      <td>88</td>\n",
              "      <td>81</td>\n",
              "      <td>76</td>\n",
              "      <td>77</td>\n",
              "      <td>94</td>\n",
              "      <td>89</td>\n",
              "      <td>91</td>\n",
              "      <td>87</td>\n",
              "      <td>96</td>\n",
              "      <td>70</td>\n",
              "      <td>95</td>\n",
              "      <td>95</td>\n",
              "      <td>88</td>\n",
              "      <td>79</td>\n",
              "      <td>93</td>\n",
              "      <td>63</td>\n",
              "      <td>29</td>\n",
              "      <td>95</td>\n",
              "      <td>82</td>\n",
              "      <td>85</td>\n",
              "      <td>95</td>\n",
              "      <td>28</td>\n",
              "      <td>31</td>\n",
              "      <td>23</td>\n",
              "    </tr>\n",
              "    <tr>\n",
              "      <th>2</th>\n",
              "      <td>190871</td>\n",
              "      <td>Neymar Jr</td>\n",
              "      <td>92</td>\n",
              "      <td>79</td>\n",
              "      <td>87</td>\n",
              "      <td>62</td>\n",
              "      <td>84</td>\n",
              "      <td>84</td>\n",
              "      <td>96</td>\n",
              "      <td>88</td>\n",
              "      <td>87</td>\n",
              "      <td>78</td>\n",
              "      <td>95</td>\n",
              "      <td>94</td>\n",
              "      <td>90</td>\n",
              "      <td>96</td>\n",
              "      <td>94</td>\n",
              "      <td>84</td>\n",
              "      <td>80</td>\n",
              "      <td>61</td>\n",
              "      <td>81</td>\n",
              "      <td>49</td>\n",
              "      <td>82</td>\n",
              "      <td>56</td>\n",
              "      <td>36</td>\n",
              "      <td>89</td>\n",
              "      <td>87</td>\n",
              "      <td>81</td>\n",
              "      <td>94</td>\n",
              "      <td>27</td>\n",
              "      <td>24</td>\n",
              "      <td>33</td>\n",
              "    </tr>\n",
              "    <tr>\n",
              "      <th>3</th>\n",
              "      <td>192985</td>\n",
              "      <td>K. De Bruyne</td>\n",
              "      <td>91</td>\n",
              "      <td>93</td>\n",
              "      <td>82</td>\n",
              "      <td>55</td>\n",
              "      <td>92</td>\n",
              "      <td>82</td>\n",
              "      <td>86</td>\n",
              "      <td>85</td>\n",
              "      <td>83</td>\n",
              "      <td>91</td>\n",
              "      <td>91</td>\n",
              "      <td>78</td>\n",
              "      <td>76</td>\n",
              "      <td>79</td>\n",
              "      <td>91</td>\n",
              "      <td>77</td>\n",
              "      <td>91</td>\n",
              "      <td>63</td>\n",
              "      <td>90</td>\n",
              "      <td>75</td>\n",
              "      <td>91</td>\n",
              "      <td>76</td>\n",
              "      <td>61</td>\n",
              "      <td>87</td>\n",
              "      <td>94</td>\n",
              "      <td>79</td>\n",
              "      <td>88</td>\n",
              "      <td>68</td>\n",
              "      <td>58</td>\n",
              "      <td>51</td>\n",
              "    </tr>\n",
              "    <tr>\n",
              "      <th>4</th>\n",
              "      <td>183277</td>\n",
              "      <td>E. Hazard</td>\n",
              "      <td>91</td>\n",
              "      <td>81</td>\n",
              "      <td>84</td>\n",
              "      <td>61</td>\n",
              "      <td>89</td>\n",
              "      <td>80</td>\n",
              "      <td>95</td>\n",
              "      <td>83</td>\n",
              "      <td>79</td>\n",
              "      <td>83</td>\n",
              "      <td>94</td>\n",
              "      <td>94</td>\n",
              "      <td>88</td>\n",
              "      <td>95</td>\n",
              "      <td>90</td>\n",
              "      <td>94</td>\n",
              "      <td>82</td>\n",
              "      <td>56</td>\n",
              "      <td>83</td>\n",
              "      <td>66</td>\n",
              "      <td>80</td>\n",
              "      <td>54</td>\n",
              "      <td>41</td>\n",
              "      <td>87</td>\n",
              "      <td>89</td>\n",
              "      <td>86</td>\n",
              "      <td>91</td>\n",
              "      <td>34</td>\n",
              "      <td>27</td>\n",
              "      <td>22</td>\n",
              "    </tr>\n",
              "  </tbody>\n",
              "</table>\n",
              "</div>"
            ],
            "text/plain": [
              "       ID               Name  Overall  ...  Marking  StandingTackle  SlidingTackle\n",
              "0  158023           L. Messi       94  ...       33              28             26\n",
              "1   20801  Cristiano Ronaldo       94  ...       28              31             23\n",
              "2  190871          Neymar Jr       92  ...       27              24             33\n",
              "3  192985       K. De Bruyne       91  ...       68              58             51\n",
              "4  183277          E. Hazard       91  ...       34              27             22\n",
              "\n",
              "[5 rows x 32 columns]"
            ]
          },
          "metadata": {
            "tags": []
          },
          "execution_count": 3
        }
      ]
    },
    {
      "cell_type": "markdown",
      "metadata": {
        "id": "XSlVp6FRpuRg"
      },
      "source": [
        "We will begin with the Chicago traffic crashes dataset, focusing on removing columns with significant missing data.\n",
        "\n",
        "Remove all columns with more than 5% missing data from the dataframe. (The *missingness summary* function we wrote a few exercises ago will speed this process up significantly.) Print out the columns that were removed, and the proportion of missing data for each column."
      ]
    },
    {
      "cell_type": "code",
      "metadata": {
        "id": "p8LyaYcIpuRh"
      },
      "source": [
        "# answer goes here\n",
        "def missingness_summary(df, print_log=False, sort='ascending'):\n",
        "  s = df.isnull().sum()*100/df.isnull().count()\n",
        "    \n",
        "  if sort.lower() == 'ascending':\n",
        "    s = s.sort_values(ascending=True)\n",
        "  elif sort.lower() == 'descending':\n",
        "    s = s.sort_values(ascending=False)  \n",
        "  if print_log: \n",
        "    print(s)\n",
        "  \n",
        "  return pd.Series(s)\n",
        "\n",
        "s = missingness_summary(crash_data)\n",
        "high_indexes = []\n",
        "s[0]\n",
        "for x in s.index:\n",
        "  if s[x] > 0.05:\n",
        "    high_indexes.append(x)\n",
        "crash = crash_data.drop(high_indexes, axis=1)\n",
        "\n",
        "\n"
      ],
      "execution_count": null,
      "outputs": []
    },
    {
      "cell_type": "markdown",
      "metadata": {
        "id": "P_h8WYktpuRj"
      },
      "source": [
        "Next, we will shift our focus to the FIFA ratings dataset and explore univariate feature selection techniques. We will treat \"Overall\" as the response and the other ratings as features.\n",
        "\n",
        "Using the correlations between the response and features, identify the 5 features with the greatest univariate correlation to the response."
      ]
    },
    {
      "cell_type": "code",
      "metadata": {
        "id": "N2QZ5lrZTUxX",
        "outputId": "d6a7ed4b-39b3-48f1-ba9d-0dce33b4cab5",
        "colab": {
          "base_uri": "https://localhost:8080/",
          "height": 255
        }
      },
      "source": [
        "# answer goes here\n",
        "\n",
        "fifa = soccer_data.iloc[:, 2::]\n",
        "\n",
        "fifa_corr = fifa.corr()\n",
        "print(fifa_corr.head())\n",
        "\n",
        "correlations = fifa_corr.iloc[1:, 0]\n",
        "correlations\n",
        "\n",
        "np.abs(correlations).sort_values(ascending=False).head(5)\n",
        "\n",
        "\n"
      ],
      "execution_count": null,
      "outputs": [
        {
          "output_type": "stream",
          "text": [
            "                  Overall  Crossing  ...  StandingTackle  SlidingTackle\n",
            "Overall          1.000000  0.496603  ...        0.264082       0.224365\n",
            "Crossing         0.496603  1.000000  ...        0.085429       0.078963\n",
            "Finishing        0.373079  0.413404  ...       -0.558565      -0.585841\n",
            "HeadingAccuracy  0.466908 -0.134959  ...        0.257420       0.234933\n",
            "ShortPassing     0.722720  0.632386  ...        0.235083       0.203009\n",
            "\n",
            "[5 rows x 30 columns]\n"
          ],
          "name": "stdout"
        },
        {
          "output_type": "execute_result",
          "data": {
            "text/plain": [
              "Reactions       0.847739\n",
              "Composure       0.801749\n",
              "ShortPassing    0.722720\n",
              "BallControl     0.717933\n",
              "LongPassing     0.585104\n",
              "Name: Overall, dtype: float64"
            ]
          },
          "metadata": {
            "tags": []
          },
          "execution_count": 27
        }
      ]
    },
    {
      "cell_type": "markdown",
      "metadata": {
        "id": "iR7m9gANTUxY"
      },
      "source": [
        "Use sklearn's \"SelectKBest\" function to select the top 5 features using two different scoring metrics: f_regression and mutual_info_regression. Print out the top 5 columns that are selected by both. How do they compare to the ones selected by  univariate correlation?"
      ]
    },
    {
      "cell_type": "code",
      "metadata": {
        "id": "s7ZPqXMGpuRj",
        "outputId": "9c75020d-33f6-4746-dea1-95e20f1dbc79",
        "colab": {
          "base_uri": "https://localhost:8080/",
          "height": 51
        }
      },
      "source": [
        "# answer goes here\n",
        "fifa_target = soccer_data.iloc[:, 2]\n",
        "fifa_vars = soccer_data.iloc[:, 3::]\n",
        "\n",
        "from sklearn.feature_selection import SelectKBest, f_classif, f_regression, mutual_info_regression\n",
        "k = 5\n",
        "kbest = SelectKBest(k=k, score_func=f_regression)\n",
        "best_features = kbest.fit_transform(fifa_vars, fifa_target)\n",
        "best_features = pd.DataFrame(best_features, columns=fifa_vars.columns[kbest.get_support()])\n",
        "print(best_features.columns)\n",
        "\n",
        "k = 5\n",
        "kbest = SelectKBest(k=k, score_func=mutual_info_regression)\n",
        "best_features = kbest.fit_transform(fifa_vars, fifa_target)\n",
        "best_features = pd.DataFrame(best_features, columns=fifa_vars.columns[kbest.get_support()])\n",
        "print(best_features.columns)\n",
        "\n",
        "##The only difference between the two scoring metrics is dribbling being present in the mutual_info_regression\n",
        "##The same features are present in the univariate correlation and the f_regression analysis\n",
        "##Dribbling is only present in the mutual info regression analysis\n",
        "\n"
      ],
      "execution_count": null,
      "outputs": [
        {
          "output_type": "stream",
          "text": [
            "Index(['ShortPassing', 'LongPassing', 'BallControl', 'Reactions', 'Composure'], dtype='object')\n",
            "Index(['ShortPassing', 'Dribbling', 'BallControl', 'Reactions', 'Composure'], dtype='object')\n"
          ],
          "name": "stdout"
        }
      ]
    },
    {
      "cell_type": "markdown",
      "metadata": {
        "id": "ahsyvz1LpuRn"
      },
      "source": [
        "Shifting our focus from feature selection to dimensionality reduction, perform PCA on the ratings provided, excluding \"Overall\". Then, answer the following questions:\n",
        "\n",
        "- What percentage of the total variance is capture by the first component? What about the first two, or first three?\n",
        "- Looking at the components themselves, how would you interpret the first two components in plain English?"
      ]
    },
    {
      "cell_type": "code",
      "metadata": {
        "id": "ruxBZ8iyTUxb",
        "outputId": "90aa9c14-848c-49f8-f8b6-2e97ca82b59b",
        "colab": {
          "base_uri": "https://localhost:8080/",
          "height": 316
        }
      },
      "source": [
        "# answer goes here\n",
        "from sklearn.decomposition import PCA\n",
        "pca = PCA(n_components=15)\n",
        "fifa_pca = pca.fit_transform(fifa_vars)\n",
        "plt.plot(pca.explained_variance_ratio_, marker='o')\n",
        "plt.show()\n",
        "print(pca.explained_variance_ratio_)\n",
        "\n",
        "#The first pca explains 39% of the variance in the data\n",
        "#The second pca explains 26% of the variance in the data\n"
      ],
      "execution_count": null,
      "outputs": [
        {
          "output_type": "display_data",
          "data": {
            "image/png": "[encoded data removed]",
            "text/plain": [
              "<Figure size 432x288 with 1 Axes>"
            ]
          },
          "metadata": {
            "tags": [],
            "needs_background": "light"
          }
        },
        {
          "output_type": "stream",
          "text": [
            "[0.39592941 0.26331948 0.08504495 0.046619   0.02187217 0.01854771\n",
            " 0.01545014 0.01475734 0.01337544 0.01275228 0.01139355 0.00965644\n",
            " 0.00886381 0.00855839 0.00791845]\n"
          ],
          "name": "stdout"
        }
      ]
    }
  ]
}