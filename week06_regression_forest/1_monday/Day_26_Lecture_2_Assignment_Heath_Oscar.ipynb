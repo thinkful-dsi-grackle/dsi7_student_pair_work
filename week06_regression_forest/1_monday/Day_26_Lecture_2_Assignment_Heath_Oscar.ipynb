{
  "nbformat": 4,
  "nbformat_minor": 0,
  "metadata": {
    "kernelspec": {
      "display_name": "Python 3",
      "language": "python",
      "name": "python3"
    },
    "language_info": {
      "codemirror_mode": {
        "name": "ipython",
        "version": 3
      },
      "file_extension": ".py",
      "mimetype": "text/x-python",
      "name": "python",
      "nbconvert_exporter": "python",
      "pygments_lexer": "ipython3",
      "version": "3.7.0"
    },
    "colab": {
      "name": "Day 26 Lecture 2 Assignment.ipynb",
      "provenance": [],
      "collapsed_sections": []
    }
  },
  "cells": [
    {
      "cell_type": "markdown",
      "metadata": {
        "id": "wPSVmCwSczg3"
      },
      "source": [
        "## Day 26 Lecture 2 Assignment\n",
        "\n",
        "In this assignment, we will learn about linear regression model assumptions"
      ]
    },
    {
      "cell_type": "code",
      "metadata": {
        "id": "hoKSIe-kczg6"
      },
      "source": [
        "%matplotlib inline\n",
        "\n",
        "import matplotlib.pyplot as plt\n",
        "import numpy as np\n",
        "import pandas as pd\n",
        "from scipy.stats import bartlett\n",
        "from scipy.stats import levene\n",
        "import seaborn as sns\n",
        "from sklearn.model_selection import train_test_split\n",
        "from sklearn.linear_model import LinearRegression\n",
        "from statsmodels.tools.tools import add_constant\n",
        "from statsmodels.stats.outliers_influence import variance_inflation_factor\n",
        "import statsmodels.api as sm\n",
        "import pylab\n",
        "from scipy.stats import jarque_bera\n",
        "from scipy.stats import normaltest\n"
      ],
      "execution_count": 39,
      "outputs": []
    },
    {
      "cell_type": "markdown",
      "metadata": {
        "id": "FJvdNDzuczg_"
      },
      "source": [
        "We will load the dataset below that describes the antioxidant quality of lager.\n",
        "\n",
        "The variables are as follows:\n",
        "    \n",
        "The dataset contains 7 variables :\n",
        "\n",
        "- tpc - Total phenolic content\n",
        "- ma - melanoidin content\n",
        "- dsa - DPPH radical scavenging activity\n",
        "- asa - ABTS radical cation scavenging activity\n",
        "- orac - Oxygen radical absorbance activity\n",
        "- rp - Reducing Power\n",
        "- mca - Metal Chelaing Activity"
      ]
    },
    {
      "cell_type": "code",
      "metadata": {
        "id": "0yzed_sgczhA",
        "outputId": "1119a223-307e-490b-b03f-114dd8e2138c",
        "colab": {
          "base_uri": "https://localhost:8080/",
          "height": 204
        }
      },
      "source": [
        "lager = pd.read_csv('https://tf-assets-prod.s3.amazonaws.com/tf-curric/data-science/lager_antioxidant_reg.csv')\n",
        "\n",
        "lager.head()"
      ],
      "execution_count": 7,
      "outputs": [
        {
          "output_type": "execute_result",
          "data": {
            "text/html": [
              "<div>\n",
              "<style scoped>\n",
              "    .dataframe tbody tr th:only-of-type {\n",
              "        vertical-align: middle;\n",
              "    }\n",
              "\n",
              "    .dataframe tbody tr th {\n",
              "        vertical-align: top;\n",
              "    }\n",
              "\n",
              "    .dataframe thead th {\n",
              "        text-align: right;\n",
              "    }\n",
              "</style>\n",
              "<table border=\"1\" class=\"dataframe\">\n",
              "  <thead>\n",
              "    <tr style=\"text-align: right;\">\n",
              "      <th></th>\n",
              "      <th>beer</th>\n",
              "      <th>tpc</th>\n",
              "      <th>ma</th>\n",
              "      <th>dsa</th>\n",
              "      <th>asa</th>\n",
              "      <th>orac</th>\n",
              "      <th>rp</th>\n",
              "      <th>mca</th>\n",
              "    </tr>\n",
              "  </thead>\n",
              "  <tbody>\n",
              "    <tr>\n",
              "      <th>0</th>\n",
              "      <td>1</td>\n",
              "      <td>148.23</td>\n",
              "      <td>13.37</td>\n",
              "      <td>0.66</td>\n",
              "      <td>0.81</td>\n",
              "      <td>3.81</td>\n",
              "      <td>0.45</td>\n",
              "      <td>10.65</td>\n",
              "    </tr>\n",
              "    <tr>\n",
              "      <th>1</th>\n",
              "      <td>2</td>\n",
              "      <td>160.38</td>\n",
              "      <td>10.96</td>\n",
              "      <td>0.63</td>\n",
              "      <td>0.64</td>\n",
              "      <td>2.85</td>\n",
              "      <td>0.41</td>\n",
              "      <td>15.47</td>\n",
              "    </tr>\n",
              "    <tr>\n",
              "      <th>2</th>\n",
              "      <td>3</td>\n",
              "      <td>170.41</td>\n",
              "      <td>9.22</td>\n",
              "      <td>0.62</td>\n",
              "      <td>0.81</td>\n",
              "      <td>3.34</td>\n",
              "      <td>0.48</td>\n",
              "      <td>15.70</td>\n",
              "    </tr>\n",
              "    <tr>\n",
              "      <th>3</th>\n",
              "      <td>4</td>\n",
              "      <td>208.65</td>\n",
              "      <td>9.65</td>\n",
              "      <td>0.90</td>\n",
              "      <td>1.01</td>\n",
              "      <td>3.34</td>\n",
              "      <td>0.50</td>\n",
              "      <td>76.65</td>\n",
              "    </tr>\n",
              "    <tr>\n",
              "      <th>4</th>\n",
              "      <td>5</td>\n",
              "      <td>146.03</td>\n",
              "      <td>11.72</td>\n",
              "      <td>0.64</td>\n",
              "      <td>0.90</td>\n",
              "      <td>3.18</td>\n",
              "      <td>0.47</td>\n",
              "      <td>9.39</td>\n",
              "    </tr>\n",
              "  </tbody>\n",
              "</table>\n",
              "</div>"
            ],
            "text/plain": [
              "   beer     tpc     ma   dsa   asa  orac    rp    mca\n",
              "0     1  148.23  13.37  0.66  0.81  3.81  0.45  10.65\n",
              "1     2  160.38  10.96  0.63  0.64  2.85  0.41  15.47\n",
              "2     3  170.41   9.22  0.62  0.81  3.34  0.48  15.70\n",
              "3     4  208.65   9.65  0.90  1.01  3.34  0.50  76.65\n",
              "4     5  146.03  11.72  0.64  0.90  3.18  0.47   9.39"
            ]
          },
          "metadata": {
            "tags": []
          },
          "execution_count": 7
        }
      ]
    },
    {
      "cell_type": "markdown",
      "metadata": {
        "id": "Waw8-_pDczhF"
      },
      "source": [
        "We would like to predict the level of total phenolic content using the remaining 6 variables.\n",
        "\n",
        "Start by removing the beer column since this column is the id for the observations."
      ]
    },
    {
      "cell_type": "code",
      "metadata": {
        "id": "VRoUslHsczhG"
      },
      "source": [
        "#answer below:\n",
        "lager = lager.drop(columns='beer')\n"
      ],
      "execution_count": 8,
      "outputs": []
    },
    {
      "cell_type": "markdown",
      "metadata": {
        "id": "tS6PojFZczhJ"
      },
      "source": [
        "Split the data into train and test subsets. Select 25% of the data to be in the test subset. Use `tpc` as the y variable."
      ]
    },
    {
      "cell_type": "code",
      "metadata": {
        "id": "2kzFQzvlczhK"
      },
      "source": [
        "# answer below:\n",
        "X = lager.drop(columns='tpc')\n",
        "y = lager['tpc']\n",
        "\n",
        "X_train, X_test, y_train, y_test = train_test_split(X, y, test_size=0.25)"
      ],
      "execution_count": 11,
      "outputs": []
    },
    {
      "cell_type": "markdown",
      "metadata": {
        "id": "k8h1CBAhczhN"
      },
      "source": [
        "Next, we'll generate a linear model and make a residual vs. fit (homoscedasticity) plot. All Gauss-Markov assumptions should be evaluated on the training set.\n",
        "\n",
        "How much heteroscedasticity is exhibited in the model?"
      ]
    },
    {
      "cell_type": "code",
      "metadata": {
        "id": "oRWk_B0tczhO",
        "outputId": "ce198788-dc1c-4741-bdd9-e8740b213002",
        "colab": {
          "base_uri": "https://localhost:8080/",
          "height": 282
        }
      },
      "source": [
        "#answer below:\n",
        "lr = LinearRegression()\n",
        "lr.fit(X_train, y_train)\n",
        "prediction = lr.predict(X_train)\n",
        "residual = (y_train - prediction)\n",
        "\n",
        "bart_stats = bartlett(residual, prediction)\n",
        "lev_stats = levene(residual, prediction)\n",
        "\n",
        "plt.scatter(residual, prediction)"
      ],
      "execution_count": 24,
      "outputs": [
        {
          "output_type": "execute_result",
          "data": {
            "text/plain": [
              "<matplotlib.collections.PathCollection at 0x7f0f96535278>"
            ]
          },
          "metadata": {
            "tags": []
          },
          "execution_count": 24
        },
        {
          "output_type": "display_data",
          "data": {
            "image/png": "[encoded data removed]",
            "text/plain": [
              "<Figure size 432x288 with 1 Axes>"
            ]
          },
          "metadata": {
            "tags": [],
            "needs_background": "light"
          }
        }
      ]
    },
    {
      "cell_type": "markdown",
      "metadata": {
        "id": "yKU4XK0YczhS"
      },
      "source": [
        "Compute the VIF for all features in the model. You will need to add a constant to your data (make a new copy just for this) to compute this with statsmodels.\n",
        "\n",
        "How collinear are your features?"
      ]
    },
    {
      "cell_type": "code",
      "metadata": {
        "id": "K2GX2UrTczhT",
        "outputId": "2efaf48c-09f2-459a-cdd4-aa18d0174526",
        "colab": {
          "base_uri": "https://localhost:8080/",
          "height": 153
        }
      },
      "source": [
        "# answer below:\n",
        "new_data = add_constant(X)\n",
        "vif = pd.Series([variance_inflation_factor(new_data.values, i) for i in range(new_data.shape[1])], index=new_data.columns)\n",
        "vif"
      ],
      "execution_count": 28,
      "outputs": [
        {
          "output_type": "execute_result",
          "data": {
            "text/plain": [
              "const    25.231110\n",
              "ma        1.408874\n",
              "dsa       2.752283\n",
              "asa       1.824640\n",
              "orac      1.631315\n",
              "rp        2.357123\n",
              "mca       1.485338\n",
              "dtype: float64"
            ]
          },
          "metadata": {
            "tags": []
          },
          "execution_count": 28
        }
      ]
    },
    {
      "cell_type": "markdown",
      "metadata": {
        "id": "rA4NpURkczhW"
      },
      "source": [
        "Show a histogram of your error, and then plot the qq-plot for our errors (make sure to use a standardized line to compare them appropriately to the standard distribution.)\n",
        "\n",
        "Remember to use training data."
      ]
    },
    {
      "cell_type": "code",
      "metadata": {
        "id": "Hr0UpQs8czhX",
        "outputId": "012b293f-4e84-40cb-a2a9-3496211036a4",
        "colab": {
          "base_uri": "https://localhost:8080/",
          "height": 527
        }
      },
      "source": [
        "# answer below:\n",
        "plt.hist(residual)\n",
        "plt.show()\n",
        "\n",
        "sm.qqplot(residual)\n",
        "pylab.show()\n"
      ],
      "execution_count": 35,
      "outputs": [
        {
          "output_type": "display_data",
          "data": {
            "image/png": "[encoded data removed]",
            "text/plain": [
              "<Figure size 432x288 with 1 Axes>"
            ]
          },
          "metadata": {
            "tags": [],
            "needs_background": "light"
          }
        },
        {
          "output_type": "display_data",
          "data": {
            "image/png": "[encoded data removed]",
            "text/plain": [
              "<Figure size 432x288 with 1 Axes>"
            ]
          },
          "metadata": {
            "tags": [],
            "needs_background": "light"
          }
        }
      ]
    },
    {
      "cell_type": "markdown",
      "metadata": {
        "id": "-8PAeQIPSJ2g"
      },
      "source": [
        "Plot the actual test data against test predictions to see how well your model predicts new data."
      ]
    },
    {
      "cell_type": "code",
      "metadata": {
        "id": "3IA-8Lt9SNXz",
        "outputId": "acf3863e-10de-4c38-a661-d105c01e6b3c",
        "colab": {
          "base_uri": "https://localhost:8080/",
          "height": 302
        }
      },
      "source": [
        "# answer below:\n",
        "plt.scatter(prediction, y_train)\n",
        "plt.show()\n",
        "jb = jarque_bera(residual)\n",
        "norm = normaltest(residual)\n",
        "print('jarque bera:', jb)\n",
        "print('normal test:', norm)\n"
      ],
      "execution_count": 41,
      "outputs": [
        {
          "output_type": "display_data",
          "data": {
            "image/png": "[encoded data removed]",
            "text/plain": [
              "<Figure size 432x288 with 1 Axes>"
            ]
          },
          "metadata": {
            "tags": [],
            "needs_background": "light"
          }
        },
        {
          "output_type": "stream",
          "text": [
            "jarque bera: (1.1718668529252174, 0.5565860870817672)\n",
            "normal test: NormaltestResult(statistic=1.3219784254094258, pvalue=0.5163403113821201)\n"
          ],
          "name": "stdout"
        }
      ]
    }
  ]
}