{
  "nbformat": 4,
  "nbformat_minor": 0,
  "metadata": {
    "kernelspec": {
      "display_name": "Python 3",
      "language": "python",
      "name": "python3"
    },
    "language_info": {
      "codemirror_mode": {
        "name": "ipython",
        "version": 3
      },
      "file_extension": ".py",
      "mimetype": "text/x-python",
      "name": "python",
      "nbconvert_exporter": "python",
      "pygments_lexer": "ipython3",
      "version": "3.7.0"
    },
    "colab": {
      "name": "Day 26 Lecture 2 Assignment_Chris_Caesar.ipynb",
      "provenance": [],
      "collapsed_sections": []
    }
  },
  "cells": [
    {
      "cell_type": "markdown",
      "metadata": {
        "id": "wPSVmCwSczg3"
      },
      "source": [
        "## Day 26 Lecture 2 Assignment\n",
        "\n",
        "In this assignment, we will learn about linear regression model assumptions"
      ]
    },
    {
      "cell_type": "code",
      "metadata": {
        "id": "hoKSIe-kczg6"
      },
      "source": [
        "%matplotlib inline\n",
        "\n",
        "import matplotlib.pyplot as plt\n",
        "import numpy as np\n",
        "import pandas as pd"
      ],
      "execution_count": 6,
      "outputs": []
    },
    {
      "cell_type": "markdown",
      "metadata": {
        "id": "FJvdNDzuczg_"
      },
      "source": [
        "We will load the dataset below that describes the antioxidant quality of lager.\n",
        "\n",
        "The variables are as follows:\n",
        "    \n",
        "The dataset contains 7 variables :\n",
        "\n",
        "- tpc - Total phenolic content\n",
        "- ma - melanoidin content\n",
        "- dsa - DPPH radical scavenging activity\n",
        "- asa - ABTS radical cation scavenging activity\n",
        "- orac - Oxygen radical absorbance activity\n",
        "- rp - Reducing Power\n",
        "- mca - Metal Chelaing Activity"
      ]
    },
    {
      "cell_type": "code",
      "metadata": {
        "id": "0yzed_sgczhA",
        "outputId": "c88fbfc0-521a-4510-d90e-100cbd38d03f",
        "colab": {
          "base_uri": "https://localhost:8080/",
          "height": 195
        }
      },
      "source": [
        "lager = pd.read_csv('https://tf-assets-prod.s3.amazonaws.com/tf-curric/data-science/lager_antioxidant_reg.csv')\n",
        "\n",
        "lager.head()"
      ],
      "execution_count": 7,
      "outputs": [
        {
          "output_type": "execute_result",
          "data": {
            "text/html": [
              "<div>\n",
              "<style scoped>\n",
              "    .dataframe tbody tr th:only-of-type {\n",
              "        vertical-align: middle;\n",
              "    }\n",
              "\n",
              "    .dataframe tbody tr th {\n",
              "        vertical-align: top;\n",
              "    }\n",
              "\n",
              "    .dataframe thead th {\n",
              "        text-align: right;\n",
              "    }\n",
              "</style>\n",
              "<table border=\"1\" class=\"dataframe\">\n",
              "  <thead>\n",
              "    <tr style=\"text-align: right;\">\n",
              "      <th></th>\n",
              "      <th>beer</th>\n",
              "      <th>tpc</th>\n",
              "      <th>ma</th>\n",
              "      <th>dsa</th>\n",
              "      <th>asa</th>\n",
              "      <th>orac</th>\n",
              "      <th>rp</th>\n",
              "      <th>mca</th>\n",
              "    </tr>\n",
              "  </thead>\n",
              "  <tbody>\n",
              "    <tr>\n",
              "      <th>0</th>\n",
              "      <td>1</td>\n",
              "      <td>148.23</td>\n",
              "      <td>13.37</td>\n",
              "      <td>0.66</td>\n",
              "      <td>0.81</td>\n",
              "      <td>3.81</td>\n",
              "      <td>0.45</td>\n",
              "      <td>10.65</td>\n",
              "    </tr>\n",
              "    <tr>\n",
              "      <th>1</th>\n",
              "      <td>2</td>\n",
              "      <td>160.38</td>\n",
              "      <td>10.96</td>\n",
              "      <td>0.63</td>\n",
              "      <td>0.64</td>\n",
              "      <td>2.85</td>\n",
              "      <td>0.41</td>\n",
              "      <td>15.47</td>\n",
              "    </tr>\n",
              "    <tr>\n",
              "      <th>2</th>\n",
              "      <td>3</td>\n",
              "      <td>170.41</td>\n",
              "      <td>9.22</td>\n",
              "      <td>0.62</td>\n",
              "      <td>0.81</td>\n",
              "      <td>3.34</td>\n",
              "      <td>0.48</td>\n",
              "      <td>15.70</td>\n",
              "    </tr>\n",
              "    <tr>\n",
              "      <th>3</th>\n",
              "      <td>4</td>\n",
              "      <td>208.65</td>\n",
              "      <td>9.65</td>\n",
              "      <td>0.90</td>\n",
              "      <td>1.01</td>\n",
              "      <td>3.34</td>\n",
              "      <td>0.50</td>\n",
              "      <td>76.65</td>\n",
              "    </tr>\n",
              "    <tr>\n",
              "      <th>4</th>\n",
              "      <td>5</td>\n",
              "      <td>146.03</td>\n",
              "      <td>11.72</td>\n",
              "      <td>0.64</td>\n",
              "      <td>0.90</td>\n",
              "      <td>3.18</td>\n",
              "      <td>0.47</td>\n",
              "      <td>9.39</td>\n",
              "    </tr>\n",
              "  </tbody>\n",
              "</table>\n",
              "</div>"
            ],
            "text/plain": [
              "   beer     tpc     ma   dsa   asa  orac    rp    mca\n",
              "0     1  148.23  13.37  0.66  0.81  3.81  0.45  10.65\n",
              "1     2  160.38  10.96  0.63  0.64  2.85  0.41  15.47\n",
              "2     3  170.41   9.22  0.62  0.81  3.34  0.48  15.70\n",
              "3     4  208.65   9.65  0.90  1.01  3.34  0.50  76.65\n",
              "4     5  146.03  11.72  0.64  0.90  3.18  0.47   9.39"
            ]
          },
          "metadata": {
            "tags": []
          },
          "execution_count": 7
        }
      ]
    },
    {
      "cell_type": "markdown",
      "metadata": {
        "id": "Waw8-_pDczhF"
      },
      "source": [
        "We would like to predict the level of total phenolic content using the remaining 6 variables.\n",
        "\n",
        "Start by removing the beer column since this column is the id for the observations."
      ]
    },
    {
      "cell_type": "code",
      "metadata": {
        "id": "VRoUslHsczhG"
      },
      "source": [
        "lager = lager.drop('beer', axis=1)"
      ],
      "execution_count": 8,
      "outputs": []
    },
    {
      "cell_type": "markdown",
      "metadata": {
        "id": "tS6PojFZczhJ"
      },
      "source": [
        "Split the data into train and test subsets. Select 25% of the data to be in the test subset. Use `tpc` as the y variable."
      ]
    },
    {
      "cell_type": "code",
      "metadata": {
        "id": "2kzFQzvlczhK"
      },
      "source": [
        "from sklearn.model_selection import train_test_split\n",
        "from sklearn.linear_model import LinearRegression\n",
        "\n",
        "X = lager.drop('tpc', axis=1)\n",
        "y = lager.tpc\n",
        "\n",
        "X_train, X_test, y_train, y_test = train_test_split(X, y, test_size=0.25)"
      ],
      "execution_count": 9,
      "outputs": []
    },
    {
      "cell_type": "markdown",
      "metadata": {
        "id": "k8h1CBAhczhN"
      },
      "source": [
        "Next, we'll generate a linear model and make a residual vs. fit (homoscedasticity) plot. All Gauss-Markov assumptions should be evaluated on the training set.\n",
        "\n",
        "How much heteroscedasticity is exhibited in the model?"
      ]
    },
    {
      "cell_type": "code",
      "metadata": {
        "id": "oRWk_B0tczhO"
      },
      "source": [
        "line = LinearRegression().fit(X_train,y_train)"
      ],
      "execution_count": 10,
      "outputs": []
    },
    {
      "cell_type": "code",
      "metadata": {
        "id": "fiuUAEKFAjDo"
      },
      "source": [
        "predictions = line.predict(X)\n",
        "errors = y - predictions"
      ],
      "execution_count": 11,
      "outputs": []
    },
    {
      "cell_type": "code",
      "metadata": {
        "id": "Qb8a0-RcAyFU",
        "outputId": "a31ec1c8-f7c6-447a-dab2-f1b01ed305da",
        "colab": {
          "base_uri": "https://localhost:8080/",
          "height": 295
        }
      },
      "source": [
        "plt.scatter(predictions, errors)\n",
        "plt.xlabel('Fit')\n",
        "plt.ylabel('Residual')\n",
        "plt.title('Fit vs. Residual')\n",
        "plt.show()"
      ],
      "execution_count": 12,
      "outputs": [
        {
          "output_type": "display_data",
          "data": {
            "image/png": "[encoded data removed]",
            "text/plain": [
              "<Figure size 432x288 with 1 Axes>"
            ]
          },
          "metadata": {
            "tags": [],
            "needs_background": "light"
          }
        }
      ]
    },
    {
      "cell_type": "code",
      "metadata": {
        "id": "9POYczAwBE1h",
        "outputId": "9cd45ceb-6fdd-4cf9-fb45-6e499b7bb9df",
        "colab": {
          "base_uri": "https://localhost:8080/",
          "height": 52
        }
      },
      "source": [
        "from scipy.stats import bartlett, levene\n",
        "\n",
        "bart_stats = bartlett(predictions, errors)\n",
        "lev_stats = levene(predictions, errors)\n",
        "\n",
        "print('Bartlett test statistic: {0:3g} P-value: {1:.3g}'.format(bart_stats[0], bart_stats[1]))\n",
        "print('Levene test statistic: {0:3g} P-value: {1:.3g}'.format(lev_stats[0], lev_stats[1]))"
      ],
      "execution_count": 13,
      "outputs": [
        {
          "output_type": "stream",
          "text": [
            "Bartlett test statistic: 18.9004 P-value: 1.38e-05\n",
            "Levene test statistic: 8.93082 P-value: 0.00375\n"
          ],
          "name": "stdout"
        }
      ]
    },
    {
      "cell_type": "markdown",
      "metadata": {
        "id": "Xa4a6sHZBm-x"
      },
      "source": [
        "*By the Bartlett test, it is heteroscedastic by 18.9 and 8.93 on the Levene test.*"
      ]
    },
    {
      "cell_type": "markdown",
      "metadata": {
        "id": "yKU4XK0YczhS"
      },
      "source": [
        "Compute the VIF for all features in the model. You will need to add a constant to your data (make a new copy just for this) to compute this with statsmodels.\n",
        "\n",
        "How collinear are your features?"
      ]
    },
    {
      "cell_type": "code",
      "metadata": {
        "id": "K2GX2UrTczhT",
        "outputId": "f1ecaf18-9816-4124-9282-c8b7bbc855d9",
        "colab": {
          "base_uri": "https://localhost:8080/",
          "height": 140
        }
      },
      "source": [
        "from statsmodels.stats.outliers_influence import variance_inflation_factor\n",
        "from statsmodels.tools.tools import add_constant\n",
        "\n",
        "X_con = add_constant(X)\n",
        "pd.Series([variance_inflation_factor(X.values, i)\n",
        "          for i in range(X.shape[1])],\n",
        "          index=X.columns)"
      ],
      "execution_count": 15,
      "outputs": [
        {
          "output_type": "execute_result",
          "data": {
            "text/plain": [
              "ma      16.522289\n",
              "dsa     36.447367\n",
              "asa     21.531330\n",
              "orac     5.219167\n",
              "rp      35.593090\n",
              "mca      3.960262\n",
              "dtype: float64"
            ]
          },
          "metadata": {
            "tags": []
          },
          "execution_count": 15
        }
      ]
    },
    {
      "cell_type": "markdown",
      "metadata": {
        "id": "DTQtkrYNCjVu"
      },
      "source": [
        "*Only ORAC and MCA are well below the common cutoff.*"
      ]
    },
    {
      "cell_type": "markdown",
      "metadata": {
        "id": "rA4NpURkczhW"
      },
      "source": [
        "Show a histogram of your error, and then plot the qq-plot for our errors (make sure to use a standardized line to compare them appropriately to the standard distribution.)\n",
        "\n",
        "Remember to use training data."
      ]
    },
    {
      "cell_type": "code",
      "metadata": {
        "id": "1k6FnOmXDFPm"
      },
      "source": [
        "predictions_train = line.predict(X_train)\n",
        "errors_train = y_train - predictions_train"
      ],
      "execution_count": 17,
      "outputs": []
    },
    {
      "cell_type": "code",
      "metadata": {
        "id": "Hr0UpQs8czhX",
        "outputId": "8b4e7303-e529-4294-a4b2-a5f83709029c",
        "colab": {
          "base_uri": "https://localhost:8080/",
          "height": 573
        }
      },
      "source": [
        "import statsmodels.api as sm\n",
        "import pylab\n",
        "\n",
        "sm.qqplot(errors_train, line='45')\n",
        "plt.title('QQ Plot of the Errors')\n",
        "plt.show()\n",
        "\n",
        "plt.hist(errors_train)\n",
        "plt.xlabel('errors')\n",
        "plt.title('Histogram of the Errors')\n",
        "plt.show()"
      ],
      "execution_count": 26,
      "outputs": [
        {
          "output_type": "display_data",
          "data": {
            "image/png": "[encoded data removed]",
            "text/plain": [
              "<Figure size 432x288 with 1 Axes>"
            ]
          },
          "metadata": {
            "tags": [],
            "needs_background": "light"
          }
        },
        {
          "output_type": "display_data",
          "data": {
            "image/png": "[encoded data removed]",
            "text/plain": [
              "<Figure size 432x288 with 1 Axes>"
            ]
          },
          "metadata": {
            "tags": [],
            "needs_background": "light"
          }
        }
      ]
    },
    {
      "cell_type": "markdown",
      "metadata": {
        "id": "-8PAeQIPSJ2g"
      },
      "source": [
        "Plot the actual test data against test predictions to see how well your model predicts new data."
      ]
    },
    {
      "cell_type": "code",
      "metadata": {
        "id": "3IA-8Lt9SNXz"
      },
      "source": [
        "from sklearn.model_selection import cross_val_predict\n",
        "\n",
        "predictions_test = cross_val_predict(line, X, y, cv=10)"
      ],
      "execution_count": 33,
      "outputs": []
    },
    {
      "cell_type": "code",
      "metadata": {
        "id": "Qzgd2_BRE6Vf",
        "outputId": "7903a1bc-788f-49db-db3f-fac3af60c1a6",
        "colab": {
          "base_uri": "https://localhost:8080/",
          "height": 282
        }
      },
      "source": [
        "fig, ax = plt.subplots()\n",
        "ax.scatter(y, predictions_test)\n",
        "ax.plot([y.min(), y.max()], [y.min(), y.max()], 'k--', lw=4)\n",
        "ax.set_xlabel('Test Data')\n",
        "ax.set_ylabel('Predicted')\n",
        "plt.show()"
      ],
      "execution_count": 35,
      "outputs": [
        {
          "output_type": "display_data",
          "data": {
            "image/png": "[encoded data removed]",
            "text/plain": [
              "<Figure size 432x288 with 1 Axes>"
            ]
          },
          "metadata": {
            "tags": [],
            "needs_background": "light"
          }
        }
      ]
    }
  ]
}