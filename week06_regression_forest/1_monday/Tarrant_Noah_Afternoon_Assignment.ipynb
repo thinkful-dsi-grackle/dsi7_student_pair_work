{
  "nbformat": 4,
  "nbformat_minor": 0,
  "metadata": {
    "kernelspec": {
      "display_name": "Python 3",
      "language": "python",
      "name": "python3"
    },
    "language_info": {
      "codemirror_mode": {
        "name": "ipython",
        "version": 3
      },
      "file_extension": ".py",
      "mimetype": "text/x-python",
      "name": "python",
      "nbconvert_exporter": "python",
      "pygments_lexer": "ipython3",
      "version": "3.7.0"
    },
    "colab": {
      "name": "Tarrant_Noah_Afternoon_Assignment.ipynb",
      "provenance": [],
      "collapsed_sections": []
    }
  },
  "cells": [
    {
      "cell_type": "markdown",
      "metadata": {
        "id": "wPSVmCwSczg3"
      },
      "source": [
        "## Day 26 Lecture 2 Assignment\n",
        "\n",
        "In this assignment, we will learn about linear regression model assumptions"
      ]
    },
    {
      "cell_type": "code",
      "metadata": {
        "id": "hoKSIe-kczg6"
      },
      "source": [
        "%matplotlib inline\n",
        "\n",
        "import matplotlib.pyplot as plt\n",
        "import numpy as np\n",
        "import pandas as pd\n",
        "import seaborn as sns"
      ],
      "execution_count": 1,
      "outputs": []
    },
    {
      "cell_type": "markdown",
      "metadata": {
        "id": "FJvdNDzuczg_"
      },
      "source": [
        "We will load the dataset below that describes the antioxidant quality of lager.\n",
        "\n",
        "The variables are as follows:\n",
        "    \n",
        "The dataset contains 7 variables :\n",
        "\n",
        "- tpc - Total phenolic content\n",
        "- ma - melanoidin content\n",
        "- dsa - DPPH radical scavenging activity\n",
        "- asa - ABTS radical cation scavenging activity\n",
        "- orac - Oxygen radical absorbance activity\n",
        "- rp - Reducing Power\n",
        "- mca - Metal Chelaing Activity"
      ]
    },
    {
      "cell_type": "code",
      "metadata": {
        "id": "0yzed_sgczhA",
        "outputId": "68d041c2-7a20-4737-8eed-95214a5a9a61",
        "colab": {
          "base_uri": "https://localhost:8080/",
          "height": 204
        }
      },
      "source": [
        "lager = pd.read_csv('https://tf-assets-prod.s3.amazonaws.com/tf-curric/data-science/lager_antioxidant_reg.csv')\n",
        "\n",
        "lager.head()"
      ],
      "execution_count": 2,
      "outputs": [
        {
          "output_type": "execute_result",
          "data": {
            "text/html": [
              "<div>\n",
              "<style scoped>\n",
              "    .dataframe tbody tr th:only-of-type {\n",
              "        vertical-align: middle;\n",
              "    }\n",
              "\n",
              "    .dataframe tbody tr th {\n",
              "        vertical-align: top;\n",
              "    }\n",
              "\n",
              "    .dataframe thead th {\n",
              "        text-align: right;\n",
              "    }\n",
              "</style>\n",
              "<table border=\"1\" class=\"dataframe\">\n",
              "  <thead>\n",
              "    <tr style=\"text-align: right;\">\n",
              "      <th></th>\n",
              "      <th>beer</th>\n",
              "      <th>tpc</th>\n",
              "      <th>ma</th>\n",
              "      <th>dsa</th>\n",
              "      <th>asa</th>\n",
              "      <th>orac</th>\n",
              "      <th>rp</th>\n",
              "      <th>mca</th>\n",
              "    </tr>\n",
              "  </thead>\n",
              "  <tbody>\n",
              "    <tr>\n",
              "      <th>0</th>\n",
              "      <td>1</td>\n",
              "      <td>148.23</td>\n",
              "      <td>13.37</td>\n",
              "      <td>0.66</td>\n",
              "      <td>0.81</td>\n",
              "      <td>3.81</td>\n",
              "      <td>0.45</td>\n",
              "      <td>10.65</td>\n",
              "    </tr>\n",
              "    <tr>\n",
              "      <th>1</th>\n",
              "      <td>2</td>\n",
              "      <td>160.38</td>\n",
              "      <td>10.96</td>\n",
              "      <td>0.63</td>\n",
              "      <td>0.64</td>\n",
              "      <td>2.85</td>\n",
              "      <td>0.41</td>\n",
              "      <td>15.47</td>\n",
              "    </tr>\n",
              "    <tr>\n",
              "      <th>2</th>\n",
              "      <td>3</td>\n",
              "      <td>170.41</td>\n",
              "      <td>9.22</td>\n",
              "      <td>0.62</td>\n",
              "      <td>0.81</td>\n",
              "      <td>3.34</td>\n",
              "      <td>0.48</td>\n",
              "      <td>15.70</td>\n",
              "    </tr>\n",
              "    <tr>\n",
              "      <th>3</th>\n",
              "      <td>4</td>\n",
              "      <td>208.65</td>\n",
              "      <td>9.65</td>\n",
              "      <td>0.90</td>\n",
              "      <td>1.01</td>\n",
              "      <td>3.34</td>\n",
              "      <td>0.50</td>\n",
              "      <td>76.65</td>\n",
              "    </tr>\n",
              "    <tr>\n",
              "      <th>4</th>\n",
              "      <td>5</td>\n",
              "      <td>146.03</td>\n",
              "      <td>11.72</td>\n",
              "      <td>0.64</td>\n",
              "      <td>0.90</td>\n",
              "      <td>3.18</td>\n",
              "      <td>0.47</td>\n",
              "      <td>9.39</td>\n",
              "    </tr>\n",
              "  </tbody>\n",
              "</table>\n",
              "</div>"
            ],
            "text/plain": [
              "   beer     tpc     ma   dsa   asa  orac    rp    mca\n",
              "0     1  148.23  13.37  0.66  0.81  3.81  0.45  10.65\n",
              "1     2  160.38  10.96  0.63  0.64  2.85  0.41  15.47\n",
              "2     3  170.41   9.22  0.62  0.81  3.34  0.48  15.70\n",
              "3     4  208.65   9.65  0.90  1.01  3.34  0.50  76.65\n",
              "4     5  146.03  11.72  0.64  0.90  3.18  0.47   9.39"
            ]
          },
          "metadata": {
            "tags": []
          },
          "execution_count": 2
        }
      ]
    },
    {
      "cell_type": "markdown",
      "metadata": {
        "id": "Waw8-_pDczhF"
      },
      "source": [
        "We would like to predict the level of total phenolic content using the remaining 6 variables.\n",
        "\n",
        "Start by removing the beer column since this column is the id for the observations."
      ]
    },
    {
      "cell_type": "code",
      "metadata": {
        "id": "VRoUslHsczhG",
        "outputId": "9a70b88e-b2c8-43d8-d0c0-614ed922a250",
        "colab": {
          "base_uri": "https://localhost:8080/",
          "height": 255
        }
      },
      "source": [
        "#answer below:\n",
        "lager.drop('beer',axis=1,inplace=True)\n",
        "lager.info()\n"
      ],
      "execution_count": 3,
      "outputs": [
        {
          "output_type": "stream",
          "text": [
            "<class 'pandas.core.frame.DataFrame'>\n",
            "RangeIndex: 40 entries, 0 to 39\n",
            "Data columns (total 7 columns):\n",
            " #   Column  Non-Null Count  Dtype  \n",
            "---  ------  --------------  -----  \n",
            " 0   tpc     40 non-null     float64\n",
            " 1   ma      40 non-null     float64\n",
            " 2   dsa     40 non-null     float64\n",
            " 3   asa     40 non-null     float64\n",
            " 4   orac    40 non-null     float64\n",
            " 5   rp      40 non-null     float64\n",
            " 6   mca     40 non-null     float64\n",
            "dtypes: float64(7)\n",
            "memory usage: 2.3 KB\n"
          ],
          "name": "stdout"
        }
      ]
    },
    {
      "cell_type": "code",
      "metadata": {
        "id": "qKx30XvNHDVs",
        "outputId": "bf11eb66-d604-4923-8b7c-efc3d6f38cb0",
        "colab": {
          "base_uri": "https://localhost:8080/",
          "height": 34
        }
      },
      "source": [
        "lager.columns"
      ],
      "execution_count": 22,
      "outputs": [
        {
          "output_type": "execute_result",
          "data": {
            "text/plain": [
              "Index(['tpc', 'ma', 'dsa', 'asa', 'orac', 'rp', 'mca'], dtype='object')"
            ]
          },
          "metadata": {
            "tags": []
          },
          "execution_count": 22
        }
      ]
    },
    {
      "cell_type": "markdown",
      "metadata": {
        "id": "tS6PojFZczhJ"
      },
      "source": [
        "Split the data into train and test subsets. Select 25% of the data to be in the test subset. Use `tpc` as the y variable."
      ]
    },
    {
      "cell_type": "code",
      "metadata": {
        "id": "2kzFQzvlczhK"
      },
      "source": [
        "# answer below:\n",
        "from sklearn.model_selection import train_test_split\n",
        "\n",
        "y = lager['tpc']\n",
        "X = lager.drop('tpc', axis = 1)\n",
        "\n",
        "X_train, X_test, y_train, y_test = train_test_split(X, y, test_size = 0.25)"
      ],
      "execution_count": 4,
      "outputs": []
    },
    {
      "cell_type": "markdown",
      "metadata": {
        "id": "k8h1CBAhczhN"
      },
      "source": [
        "Next, we'll generate a linear model and make a residual vs. fit (homoscedasticity) plot. All Gauss-Markov assumptions should be evaluated on the training set.\n",
        "\n",
        "How much heteroscedasticity is exhibited in the model?"
      ]
    },
    {
      "cell_type": "code",
      "metadata": {
        "id": "oRWk_B0tczhO",
        "outputId": "d21172c4-993e-40c1-80e5-5ea2beefe211",
        "colab": {
          "base_uri": "https://localhost:8080/",
          "height": 34
        }
      },
      "source": [
        "#answer below:\n",
        "from sklearn.linear_model import LinearRegression\n",
        "\n",
        "lager_model = LinearRegression().fit(X_train, y_train)\n",
        "\n",
        "lager_model.fit(X_train, y_train)\n"
      ],
      "execution_count": 5,
      "outputs": [
        {
          "output_type": "execute_result",
          "data": {
            "text/plain": [
              "LinearRegression(copy_X=True, fit_intercept=True, n_jobs=None, normalize=False)"
            ]
          },
          "metadata": {
            "tags": []
          },
          "execution_count": 5
        }
      ]
    },
    {
      "cell_type": "code",
      "metadata": {
        "id": "0-AuPtIMB83V",
        "outputId": "9756d553-be6d-40de-aada-69055b43cf28",
        "colab": {
          "base_uri": "https://localhost:8080/",
          "height": 279
        }
      },
      "source": [
        "lager_y_pred = lager_model.predict(X_train)\n",
        "res = y_train - lager_y_pred\n",
        "\n",
        "sns.scatterplot(x=lager_y_pred, y=res)\n",
        "plt.xlabel(\"Fit\")\n",
        "plt.ylabel(\"Residual\")\n",
        "plt.show()"
      ],
      "execution_count": 9,
      "outputs": [
        {
          "output_type": "display_data",
          "data": {
            "image/png": "[encoded data removed]",
            "text/plain": [
              "<Figure size 432x288 with 1 Axes>"
            ]
          },
          "metadata": {
            "tags": [],
            "needs_background": "light"
          }
        }
      ]
    },
    {
      "cell_type": "code",
      "metadata": {
        "id": "QeBhGItsJ_c_",
        "outputId": "b37d1ed1-2a01-4ee5-d2c7-3ce2aaea325a",
        "colab": {
          "base_uri": "https://localhost:8080/",
          "height": 51
        }
      },
      "source": [
        "from scipy.stats import bartlett, levene\n",
        "\n",
        "print(bartlett(lager_y_pred, res))\n",
        "print(levene(lager_y_pred, res))"
      ],
      "execution_count": 43,
      "outputs": [
        {
          "output_type": "stream",
          "text": [
            "BartlettResult(statistic=13.631242244153889, pvalue=0.00022245264496763842)\n",
            "LeveneResult(statistic=9.225073155986214, pvalue=0.0035741470014742545)\n"
          ],
          "name": "stdout"
        }
      ]
    },
    {
      "cell_type": "markdown",
      "metadata": {
        "id": "xGK8fWJHLPeW"
      },
      "source": [
        "The Barlett and Levene test have a heteroscedastic result for our data, but visually it appears more homoscedastic"
      ]
    },
    {
      "cell_type": "markdown",
      "metadata": {
        "id": "yKU4XK0YczhS"
      },
      "source": [
        "Compute the VIF for all features in the model. You will need to add a constant to your data (make a new copy just for this) to compute this with statsmodels.\n",
        "\n",
        "How collinear are your features?"
      ]
    },
    {
      "cell_type": "code",
      "metadata": {
        "id": "K2GX2UrTczhT"
      },
      "source": [
        "# answer below:\n",
        "from statsmodels.stats.outliers_influence import variance_inflation_factor\n",
        "from statsmodels.tools.tools import add_constant"
      ],
      "execution_count": 28,
      "outputs": []
    },
    {
      "cell_type": "code",
      "metadata": {
        "id": "U3_SjCDuFmim",
        "outputId": "6bae998c-b29f-43a8-adbe-4cea9eb20a06",
        "colab": {
          "base_uri": "https://localhost:8080/",
          "height": 153
        }
      },
      "source": [
        "X_constant = add_constant(X)\n",
        "pd.Series([variance_inflation_factor(X.values, i)\n",
        "          for i in range(X.shape[1])],\n",
        "          index=X.columns)\n"
      ],
      "execution_count": 44,
      "outputs": [
        {
          "output_type": "execute_result",
          "data": {
            "text/plain": [
              "const    25.231110\n",
              "ma        1.408874\n",
              "dsa       2.752283\n",
              "asa       1.824640\n",
              "orac      1.631315\n",
              "rp        2.357123\n",
              "mca       1.485338\n",
              "dtype: float64"
            ]
          },
          "metadata": {
            "tags": []
          },
          "execution_count": 44
        }
      ]
    },
    {
      "cell_type": "markdown",
      "metadata": {
        "id": "RG4CyXkMMUUV"
      },
      "source": [
        "None of our features fall above the threshold of 10. "
      ]
    },
    {
      "cell_type": "markdown",
      "metadata": {
        "id": "rA4NpURkczhW"
      },
      "source": [
        "Show a histogram of your error, and then plot the qq-plot for our errors (make sure to use a standardized line to compare them appropriately to the standard distribution.)\n",
        "\n",
        "Remember to use training data."
      ]
    },
    {
      "cell_type": "code",
      "metadata": {
        "id": "Hr0UpQs8czhX",
        "outputId": "f326b1bb-68b7-4bd2-bc1e-4fb89ded501b",
        "colab": {
          "base_uri": "https://localhost:8080/",
          "height": 281
        }
      },
      "source": [
        "# answer below:\n",
        "plt.hist(res)\n",
        "plt.title('Histrogram of Errors Distribution')\n",
        "plt.show()\n"
      ],
      "execution_count": 46,
      "outputs": [
        {
          "output_type": "display_data",
          "data": {
            "image/png": "[encoded data removed]",
            "text/plain": [
              "<Figure size 432x288 with 1 Axes>"
            ]
          },
          "metadata": {
            "tags": [],
            "needs_background": "light"
          }
        }
      ]
    },
    {
      "cell_type": "code",
      "metadata": {
        "id": "HGwW7uZ2czha",
        "outputId": "61212da7-a517-4e2e-d246-5e22b11086b3",
        "colab": {
          "base_uri": "https://localhost:8080/",
          "height": 295
        }
      },
      "source": [
        "# answer below:\n",
        "sm.qqplot(res.values, line='s')\n",
        "plt.title('QQ Plot of Errors Distribution')\n",
        "plt.show()\n"
      ],
      "execution_count": 52,
      "outputs": [
        {
          "output_type": "display_data",
          "data": {
            "image/png": "[encoded data removed]",
            "text/plain": [
              "<Figure size 432x288 with 1 Axes>"
            ]
          },
          "metadata": {
            "tags": [],
            "needs_background": "light"
          }
        }
      ]
    },
    {
      "cell_type": "markdown",
      "metadata": {
        "id": "-8PAeQIPSJ2g"
      },
      "source": [
        "Plot the actual test data against test predictions to see how well your model predicts new data."
      ]
    },
    {
      "cell_type": "code",
      "metadata": {
        "id": "3IA-8Lt9SNXz",
        "outputId": "168d505a-b10d-43fe-f780-5c3f31ebc215",
        "colab": {
          "base_uri": "https://localhost:8080/",
          "height": 295
        }
      },
      "source": [
        "# answer below:\n",
        "y_test_pred = lager_model.predict(X_test)\n",
        "sns.scatterplot(x=y_test_pred, y=y_test)\n",
        "plt.xlabel(\"Test Predictions\")\n",
        "plt.ylabel(\"Test Data\")\n",
        "plt.title(\"Test Predictions vs Test Data\")\n",
        "plt.show()\n"
      ],
      "execution_count": 56,
      "outputs": [
        {
          "output_type": "display_data",
          "data": {
            "image/png": "[encoded data removed]",
            "text/plain": [
              "<Figure size 432x288 with 1 Axes>"
            ]
          },
          "metadata": {
            "tags": [],
            "needs_background": "light"
          }
        }
      ]
    }
  ]
}