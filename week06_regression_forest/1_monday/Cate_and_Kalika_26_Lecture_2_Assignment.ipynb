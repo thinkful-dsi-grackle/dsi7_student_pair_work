{
  "nbformat": 4,
  "nbformat_minor": 0,
  "metadata": {
    "kernelspec": {
      "display_name": "Python 3",
      "language": "python",
      "name": "python3"
    },
    "language_info": {
      "codemirror_mode": {
        "name": "ipython",
        "version": 3
      },
      "file_extension": ".py",
      "mimetype": "text/x-python",
      "name": "python",
      "nbconvert_exporter": "python",
      "pygments_lexer": "ipython3",
      "version": "3.7.0"
    },
    "colab": {
      "name": "Cate_and_Kalika 26 Lecture 2 Assignment.ipynb",
      "provenance": [],
      "collapsed_sections": []
    }
  },
  "cells": [
    {
      "cell_type": "markdown",
      "metadata": {
        "id": "wPSVmCwSczg3"
      },
      "source": [
        "## Day 26 Lecture 2 Assignment\n",
        "\n",
        "In this assignment, we will learn about linear regression model assumptions"
      ]
    },
    {
      "cell_type": "code",
      "metadata": {
        "id": "hoKSIe-kczg6"
      },
      "source": [
        "%matplotlib inline\n",
        "\n",
        "import matplotlib.pyplot as plt\n",
        "import numpy as np\n",
        "import pandas as pd"
      ],
      "execution_count": 1,
      "outputs": []
    },
    {
      "cell_type": "markdown",
      "metadata": {
        "id": "FJvdNDzuczg_"
      },
      "source": [
        "We will load the dataset below that describes the antioxidant quality of lager.\n",
        "\n",
        "The variables are as follows:\n",
        "    \n",
        "The dataset contains 7 variables :\n",
        "\n",
        "- tpc - Total phenolic content\n",
        "- ma - melanoidin content\n",
        "- dsa - DPPH radical scavenging activity\n",
        "- asa - ABTS radical cation scavenging activity\n",
        "- orac - Oxygen radical absorbance activity\n",
        "- rp - Reducing Power\n",
        "- mca - Metal Chelaing Activity"
      ]
    },
    {
      "cell_type": "code",
      "metadata": {
        "id": "0yzed_sgczhA",
        "outputId": "3d25d3c6-882f-49fd-9b92-af745579baa8",
        "colab": {
          "base_uri": "https://localhost:8080/",
          "height": 195
        }
      },
      "source": [
        "lager = pd.read_csv('https://tf-assets-prod.s3.amazonaws.com/tf-curric/data-science/lager_antioxidant_reg.csv')\n",
        "\n",
        "lager.head()"
      ],
      "execution_count": 2,
      "outputs": [
        {
          "output_type": "execute_result",
          "data": {
            "text/html": [
              "<div>\n",
              "<style scoped>\n",
              "    .dataframe tbody tr th:only-of-type {\n",
              "        vertical-align: middle;\n",
              "    }\n",
              "\n",
              "    .dataframe tbody tr th {\n",
              "        vertical-align: top;\n",
              "    }\n",
              "\n",
              "    .dataframe thead th {\n",
              "        text-align: right;\n",
              "    }\n",
              "</style>\n",
              "<table border=\"1\" class=\"dataframe\">\n",
              "  <thead>\n",
              "    <tr style=\"text-align: right;\">\n",
              "      <th></th>\n",
              "      <th>beer</th>\n",
              "      <th>tpc</th>\n",
              "      <th>ma</th>\n",
              "      <th>dsa</th>\n",
              "      <th>asa</th>\n",
              "      <th>orac</th>\n",
              "      <th>rp</th>\n",
              "      <th>mca</th>\n",
              "    </tr>\n",
              "  </thead>\n",
              "  <tbody>\n",
              "    <tr>\n",
              "      <th>0</th>\n",
              "      <td>1</td>\n",
              "      <td>148.23</td>\n",
              "      <td>13.37</td>\n",
              "      <td>0.66</td>\n",
              "      <td>0.81</td>\n",
              "      <td>3.81</td>\n",
              "      <td>0.45</td>\n",
              "      <td>10.65</td>\n",
              "    </tr>\n",
              "    <tr>\n",
              "      <th>1</th>\n",
              "      <td>2</td>\n",
              "      <td>160.38</td>\n",
              "      <td>10.96</td>\n",
              "      <td>0.63</td>\n",
              "      <td>0.64</td>\n",
              "      <td>2.85</td>\n",
              "      <td>0.41</td>\n",
              "      <td>15.47</td>\n",
              "    </tr>\n",
              "    <tr>\n",
              "      <th>2</th>\n",
              "      <td>3</td>\n",
              "      <td>170.41</td>\n",
              "      <td>9.22</td>\n",
              "      <td>0.62</td>\n",
              "      <td>0.81</td>\n",
              "      <td>3.34</td>\n",
              "      <td>0.48</td>\n",
              "      <td>15.70</td>\n",
              "    </tr>\n",
              "    <tr>\n",
              "      <th>3</th>\n",
              "      <td>4</td>\n",
              "      <td>208.65</td>\n",
              "      <td>9.65</td>\n",
              "      <td>0.90</td>\n",
              "      <td>1.01</td>\n",
              "      <td>3.34</td>\n",
              "      <td>0.50</td>\n",
              "      <td>76.65</td>\n",
              "    </tr>\n",
              "    <tr>\n",
              "      <th>4</th>\n",
              "      <td>5</td>\n",
              "      <td>146.03</td>\n",
              "      <td>11.72</td>\n",
              "      <td>0.64</td>\n",
              "      <td>0.90</td>\n",
              "      <td>3.18</td>\n",
              "      <td>0.47</td>\n",
              "      <td>9.39</td>\n",
              "    </tr>\n",
              "  </tbody>\n",
              "</table>\n",
              "</div>"
            ],
            "text/plain": [
              "   beer     tpc     ma   dsa   asa  orac    rp    mca\n",
              "0     1  148.23  13.37  0.66  0.81  3.81  0.45  10.65\n",
              "1     2  160.38  10.96  0.63  0.64  2.85  0.41  15.47\n",
              "2     3  170.41   9.22  0.62  0.81  3.34  0.48  15.70\n",
              "3     4  208.65   9.65  0.90  1.01  3.34  0.50  76.65\n",
              "4     5  146.03  11.72  0.64  0.90  3.18  0.47   9.39"
            ]
          },
          "metadata": {
            "tags": []
          },
          "execution_count": 2
        }
      ]
    },
    {
      "cell_type": "markdown",
      "metadata": {
        "id": "Waw8-_pDczhF"
      },
      "source": [
        "We would like to predict the level of total phenolic content using the remaining 6 variables.\n",
        "\n",
        "Start by removing the beer column since this column is the id for the observations."
      ]
    },
    {
      "cell_type": "code",
      "metadata": {
        "id": "VRoUslHsczhG",
        "outputId": "4a79aa73-a0f6-4a12-8488-adf17b52101f",
        "colab": {
          "base_uri": "https://localhost:8080/",
          "height": 195
        }
      },
      "source": [
        "#answer below:\n",
        "lager = lager.drop(columns='beer')\n",
        "lager.head()"
      ],
      "execution_count": 3,
      "outputs": [
        {
          "output_type": "execute_result",
          "data": {
            "text/html": [
              "<div>\n",
              "<style scoped>\n",
              "    .dataframe tbody tr th:only-of-type {\n",
              "        vertical-align: middle;\n",
              "    }\n",
              "\n",
              "    .dataframe tbody tr th {\n",
              "        vertical-align: top;\n",
              "    }\n",
              "\n",
              "    .dataframe thead th {\n",
              "        text-align: right;\n",
              "    }\n",
              "</style>\n",
              "<table border=\"1\" class=\"dataframe\">\n",
              "  <thead>\n",
              "    <tr style=\"text-align: right;\">\n",
              "      <th></th>\n",
              "      <th>tpc</th>\n",
              "      <th>ma</th>\n",
              "      <th>dsa</th>\n",
              "      <th>asa</th>\n",
              "      <th>orac</th>\n",
              "      <th>rp</th>\n",
              "      <th>mca</th>\n",
              "    </tr>\n",
              "  </thead>\n",
              "  <tbody>\n",
              "    <tr>\n",
              "      <th>0</th>\n",
              "      <td>148.23</td>\n",
              "      <td>13.37</td>\n",
              "      <td>0.66</td>\n",
              "      <td>0.81</td>\n",
              "      <td>3.81</td>\n",
              "      <td>0.45</td>\n",
              "      <td>10.65</td>\n",
              "    </tr>\n",
              "    <tr>\n",
              "      <th>1</th>\n",
              "      <td>160.38</td>\n",
              "      <td>10.96</td>\n",
              "      <td>0.63</td>\n",
              "      <td>0.64</td>\n",
              "      <td>2.85</td>\n",
              "      <td>0.41</td>\n",
              "      <td>15.47</td>\n",
              "    </tr>\n",
              "    <tr>\n",
              "      <th>2</th>\n",
              "      <td>170.41</td>\n",
              "      <td>9.22</td>\n",
              "      <td>0.62</td>\n",
              "      <td>0.81</td>\n",
              "      <td>3.34</td>\n",
              "      <td>0.48</td>\n",
              "      <td>15.70</td>\n",
              "    </tr>\n",
              "    <tr>\n",
              "      <th>3</th>\n",
              "      <td>208.65</td>\n",
              "      <td>9.65</td>\n",
              "      <td>0.90</td>\n",
              "      <td>1.01</td>\n",
              "      <td>3.34</td>\n",
              "      <td>0.50</td>\n",
              "      <td>76.65</td>\n",
              "    </tr>\n",
              "    <tr>\n",
              "      <th>4</th>\n",
              "      <td>146.03</td>\n",
              "      <td>11.72</td>\n",
              "      <td>0.64</td>\n",
              "      <td>0.90</td>\n",
              "      <td>3.18</td>\n",
              "      <td>0.47</td>\n",
              "      <td>9.39</td>\n",
              "    </tr>\n",
              "  </tbody>\n",
              "</table>\n",
              "</div>"
            ],
            "text/plain": [
              "      tpc     ma   dsa   asa  orac    rp    mca\n",
              "0  148.23  13.37  0.66  0.81  3.81  0.45  10.65\n",
              "1  160.38  10.96  0.63  0.64  2.85  0.41  15.47\n",
              "2  170.41   9.22  0.62  0.81  3.34  0.48  15.70\n",
              "3  208.65   9.65  0.90  1.01  3.34  0.50  76.65\n",
              "4  146.03  11.72  0.64  0.90  3.18  0.47   9.39"
            ]
          },
          "metadata": {
            "tags": []
          },
          "execution_count": 3
        }
      ]
    },
    {
      "cell_type": "markdown",
      "metadata": {
        "id": "tS6PojFZczhJ"
      },
      "source": [
        "Split the data into train and test subsets. Select 25% of the data to be in the test subset. Use `tpc` as the y variable."
      ]
    },
    {
      "cell_type": "code",
      "metadata": {
        "id": "OUVB8TK_B9_F"
      },
      "source": [
        "from sklearn.model_selection import train_test_split\n",
        "from sklearn.linear_model import LogisticRegression"
      ],
      "execution_count": 4,
      "outputs": []
    },
    {
      "cell_type": "code",
      "metadata": {
        "id": "2kzFQzvlczhK"
      },
      "source": [
        "# answer below:\n",
        "X = lager.drop(columns='tpc')\n",
        "y = lager['tpc']\n"
      ],
      "execution_count": 7,
      "outputs": []
    },
    {
      "cell_type": "code",
      "metadata": {
        "id": "yXLpfWvWCiSd"
      },
      "source": [
        "#Size of the test set.\n",
        "SIZE = 0.25\n",
        "X_train, X_test, y_train, y_test = train_test_split(X, y, test_size=SIZE)"
      ],
      "execution_count": 8,
      "outputs": []
    },
    {
      "cell_type": "markdown",
      "metadata": {
        "id": "k8h1CBAhczhN"
      },
      "source": [
        "#Generate Linear Model\n",
        "Next, we'll generate a linear model and make a residual vs. fit (homoscedasticity) plot. All Gauss-Markov assumptions should be evaluated on the training set."
      ]
    },
    {
      "cell_type": "code",
      "metadata": {
        "id": "GjdQaYE84Pxx",
        "outputId": "0d679290-7e12-4e3a-fcc4-0c3cf2c50b3b",
        "colab": {
          "base_uri": "https://localhost:8080/",
          "height": 134
        }
      },
      "source": [
        "from sklearn import linear_model\n",
        "\n",
        "# We create a LinearRegression model object\n",
        "# from scikit-learn's linear_model module.\n",
        "lrm = linear_model.LinearRegression()\n",
        "\n",
        "# fit method estimates the coefficients using OLS\n",
        "lrm.fit(X_train, y_train)\n",
        "\n",
        "# Inspect the results.\n",
        "print('\\nCoefficients: \\n', lrm.coef_)\n",
        "print('\\nIntercept: \\n', lrm.intercept_)"
      ],
      "execution_count": 11,
      "outputs": [
        {
          "output_type": "stream",
          "text": [
            "\n",
            "Coefficients: \n",
            " [  1.619254   141.25023301  -4.55870172  -0.17240573  91.40480062\n",
            "   0.26805217]\n",
            "\n",
            "Intercept: \n",
            " 3.8718432421937337\n"
          ],
          "name": "stdout"
        }
      ]
    },
    {
      "cell_type": "code",
      "metadata": {
        "id": "u6n4Nubw8vC8",
        "outputId": "335e9814-1dce-44f0-f44d-35abb8ed2d81",
        "colab": {
          "base_uri": "https://localhost:8080/",
          "height": 34
        }
      },
      "source": [
        "predictions = lrm.predict(X_train)\n",
        "errors = y_train - predictions\n",
        "\n",
        "print(\"Mean of the errors in the model is: {}\".format(np.mean(errors)))"
      ],
      "execution_count": 14,
      "outputs": [
        {
          "output_type": "stream",
          "text": [
            "Mean of the errors in the model is: -1.4210854715202005e-15\n"
          ],
          "name": "stdout"
        }
      ]
    },
    {
      "cell_type": "markdown",
      "metadata": {
        "id": "TB5isswyC9De"
      },
      "source": [
        "#Homoscedasticity - Heteroscedasticity Testing\n",
        "How much heteroscedasticity is exhibited in the model?"
      ]
    },
    {
      "cell_type": "code",
      "metadata": {
        "id": "l4r-yPqEDC6g",
        "outputId": "3838ff49-c039-4f2e-be64-22f8ce197b27",
        "colab": {
          "base_uri": "https://localhost:8080/",
          "height": 295
        }
      },
      "source": [
        "#A visual representation of scedascity.\n",
        "plt.scatter(predictions, errors)\n",
        "plt.xlabel('Predicted')\n",
        "plt.ylabel('Residual')\n",
        "plt.axhline(y=0)\n",
        "plt.title('Residual vs. Predicted')\n",
        "plt.show()"
      ],
      "execution_count": 15,
      "outputs": [
        {
          "output_type": "display_data",
          "data": {
            "image/png": "[encoded data removed]",
            "text/plain": [
              "<Figure size 432x288 with 1 Axes>"
            ]
          },
          "metadata": {
            "tags": [],
            "needs_background": "light"
          }
        }
      ]
    },
    {
      "cell_type": "code",
      "metadata": {
        "id": "q74BK6DWDlML",
        "outputId": "b78ac755-0bf3-48e5-e436-a1eb8989185e",
        "colab": {
          "base_uri": "https://localhost:8080/",
          "height": 50
        }
      },
      "source": [
        "from scipy.stats import bartlett\n",
        "from scipy.stats import levene\n",
        "\n",
        "bart_stats = bartlett(predictions, errors)\n",
        "lev_stats = levene(predictions, errors)\n",
        "\n",
        "print(\"Bartlett test statistic value is {0:3g} and p value is {1:.3g}\".format(bart_stats[0], bart_stats[1]))\n",
        "print(\"Levene test statistic value is {0:3g} and p value is {1:.3g}\".format(lev_stats[0], lev_stats[1]))"
      ],
      "execution_count": 16,
      "outputs": [
        {
          "output_type": "stream",
          "text": [
            "Bartlett test statistic value is 27.6669 and p value is 1.44e-07\n",
            "Levene test statistic value is 8.4949 and p value is 0.00505\n"
          ],
          "name": "stdout"
        }
      ]
    },
    {
      "cell_type": "markdown",
      "metadata": {
        "id": "yKU4XK0YczhS"
      },
      "source": [
        "Compute the VIF for all features in the model. You will need to add a constant to your data (make a new copy just for this) to compute this with statsmodels.\n",
        "\n",
        "How collinear are your features?"
      ]
    },
    {
      "cell_type": "code",
      "metadata": {
        "id": "K2GX2UrTczhT",
        "outputId": "f3be5af1-3273-46b5-a36b-2431564d64b8",
        "colab": {
          "base_uri": "https://localhost:8080/",
          "height": 151
        }
      },
      "source": [
        "# answer below:\n",
        "import statsmodels.api as sm\n",
        "from statsmodels.stats.outliers_influence import variance_inflation_factor\n",
        "from statsmodels.tools.tools import add_constant\n",
        "\n",
        "X_stats = X_train\n",
        "# We need to manually add a constant\n",
        "# in statsmodels' sm\n",
        "X_stats = sm.add_constant(X_stats)\n",
        "\n",
        "results = sm.OLS(y_train, X_stats).fit()\n",
        "\n",
        "pd.Series([variance_inflation_factor(X_stats.values, i) for i in range(X_stats.shape[1])], index=X_stats.columns)\n",
        "\n",
        "#results.summary()\n"
      ],
      "execution_count": 70,
      "outputs": [
        {
          "output_type": "execute_result",
          "data": {
            "text/plain": [
              "const    39.630089\n",
              "ma        1.623656\n",
              "dsa       2.530355\n",
              "asa       2.587202\n",
              "orac      1.582320\n",
              "rp        2.854823\n",
              "mca       1.634981\n",
              "dtype: float64"
            ]
          },
          "metadata": {
            "tags": []
          },
          "execution_count": 70
        }
      ]
    },
    {
      "cell_type": "markdown",
      "metadata": {
        "id": "q4fZkLZKMoLJ"
      },
      "source": [
        "Our features are not very collinear."
      ]
    },
    {
      "cell_type": "markdown",
      "metadata": {
        "id": "rA4NpURkczhW"
      },
      "source": [
        "Show a histogram of your error, and then plot the qq-plot for our errors (make sure to use a standardized line to compare them appropriately to the standard distribution.)\n",
        "\n",
        "Remember to use training data."
      ]
    },
    {
      "cell_type": "code",
      "metadata": {
        "id": "Hr0UpQs8czhX",
        "outputId": "21f2f461-9ff3-4984-d960-bba6a7119d24",
        "colab": {
          "base_uri": "https://localhost:8080/",
          "height": 282
        }
      },
      "source": [
        "# answer below:\n",
        "errors.hist()\n"
      ],
      "execution_count": 27,
      "outputs": [
        {
          "output_type": "execute_result",
          "data": {
            "text/plain": [
              "<matplotlib.axes._subplots.AxesSubplot at 0x7fe84a6ca470>"
            ]
          },
          "metadata": {
            "tags": []
          },
          "execution_count": 27
        },
        {
          "output_type": "display_data",
          "data": {
            "image/png": "[encoded data removed]",
            "text/plain": [
              "<Figure size 432x288 with 1 Axes>"
            ]
          },
          "metadata": {
            "tags": [],
            "needs_background": "light"
          }
        }
      ]
    },
    {
      "cell_type": "markdown",
      "metadata": {
        "id": "9XzxG6GNQKpc"
      },
      "source": [
        "#QQ Plot of Errors\n",
        "Two ways of plotting errors against a normal distribution. Note the 's' assignment in the statsmodels qq plot. "
      ]
    },
    {
      "cell_type": "code",
      "metadata": {
        "id": "HGwW7uZ2czha",
        "outputId": "4d5c3ba9-d31c-4dd3-a94a-9260b837fac1",
        "colab": {
          "base_uri": "https://localhost:8080/",
          "height": 279
        }
      },
      "source": [
        "# answer below:\n",
        "import pylab\n",
        "sm.qqplot(errors, line=\"s\")\n",
        "pylab.show()"
      ],
      "execution_count": 39,
      "outputs": [
        {
          "output_type": "display_data",
          "data": {
            "image/png": "[encoded data removed]",
            "text/plain": [
              "<Figure size 432x288 with 1 Axes>"
            ]
          },
          "metadata": {
            "tags": [],
            "needs_background": "light"
          }
        }
      ]
    },
    {
      "cell_type": "code",
      "metadata": {
        "id": "5jtif5poPRLA",
        "outputId": "47677524-3d5d-4a5d-8451-486035ef1b72",
        "colab": {
          "base_uri": "https://localhost:8080/",
          "height": 265
        }
      },
      "source": [
        "#QQ plot of errors against a randomly generated  normal distrubtion; done via numpy and plot.scatter\n",
        "rand_nums = np.random.normal(np.mean(errors), np.std(errors), len(errors))\n",
        "\n",
        "plt.scatter(np.sort(rand_nums), np.sort(errors))\n",
        "plt.show()"
      ],
      "execution_count": 66,
      "outputs": [
        {
          "output_type": "display_data",
          "data": {
            "image/png": "[encoded data removed]",
            "text/plain": [
              "<Figure size 432x288 with 1 Axes>"
            ]
          },
          "metadata": {
            "tags": [],
            "needs_background": "light"
          }
        }
      ]
    },
    {
      "cell_type": "markdown",
      "metadata": {
        "id": "-8PAeQIPSJ2g"
      },
      "source": [
        "Plot the actual test data against test predictions to see how well your model predicts new data."
      ]
    },
    {
      "cell_type": "code",
      "metadata": {
        "id": "3IA-8Lt9SNXz",
        "outputId": "893fd674-9144-45b8-e936-54b3f2744530",
        "colab": {
          "base_uri": "https://localhost:8080/",
          "height": 265
        }
      },
      "source": [
        "# answer below:\n",
        "from sklearn.model_selection import cross_val_predict\n",
        "predictions_test = cross_val_predict(lrm, X_train, y_train)\n",
        "plt.scatter(x=predictions, y=predictions_test)\n",
        "plt.show()\n",
        "\n"
      ],
      "execution_count": 72,
      "outputs": [
        {
          "output_type": "display_data",
          "data": {
            "image/png": "[encoded data removed]",
            "text/plain": [
              "<Figure size 432x288 with 1 Axes>"
            ]
          },
          "metadata": {
            "tags": [],
            "needs_background": "light"
          }
        }
      ]
    }
  ]
}