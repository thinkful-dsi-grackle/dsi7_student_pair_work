{
  "nbformat": 4,
  "nbformat_minor": 0,
  "metadata": {
    "kernelspec": {
      "display_name": "Python 3",
      "language": "python",
      "name": "python3"
    },
    "language_info": {
      "codemirror_mode": {
        "name": "ipython",
        "version": 3
      },
      "file_extension": ".py",
      "mimetype": "text/x-python",
      "name": "python",
      "nbconvert_exporter": "python",
      "pygments_lexer": "ipython3",
      "version": "3.7.0"
    },
    "colab": {
      "name": "Copy of Day 26 Lecture 1 Assignment.ipynb",
      "provenance": [],
      "collapsed_sections": []
    }
  },
  "cells": [
    {
      "cell_type": "markdown",
      "metadata": {
        "id": "xdL0Yz0D1D_q"
      },
      "source": [
        "## Day 26 Lecture 1 Assignment\n",
        "\n",
        "In this assignment, we will learn about linear regression models and how to plot them using the sklearn library"
      ]
    },
    {
      "cell_type": "code",
      "metadata": {
        "id": "OulyiH_C1D_r"
      },
      "source": [
        "%matplotlib inline\n",
        "from sklearn.model_selection import train_test_split\n",
        "import matplotlib.pyplot as plt\n",
        "import numpy as np\n",
        "import pandas as pd\n",
        "from sklearn.linear_model import LinearRegression"
      ],
      "execution_count": null,
      "outputs": []
    },
    {
      "cell_type": "markdown",
      "metadata": {
        "id": "ezMvoRlB1D_t"
      },
      "source": [
        "We will load the dataset below that describes the antioxidant quality of lager.\n",
        "\n",
        "The variables are as follows:\n",
        "    \n",
        "The dataset contains 7 variables :\n",
        "\n",
        "- tpc - Total phenolic content\n",
        "- ma - melanoidin content\n",
        "- dsa - DPPH radical scavenging activity\n",
        "- asa - ABTS radical cation scavenging activity\n",
        "- orac - Oxygen radical absorbance activity\n",
        "- rp - Reducing Power\n",
        "- mca - Metal Chelaing Activity"
      ]
    },
    {
      "cell_type": "code",
      "metadata": {
        "id": "wP1U4eQ91D_u"
      },
      "source": [
        "lager = pd.read_csv('https://tf-assets-prod.s3.amazonaws.com/tf-curric/data-science/lager_antioxidant_reg.csv')"
      ],
      "execution_count": null,
      "outputs": []
    },
    {
      "cell_type": "code",
      "metadata": {
        "id": "u_lHp0Qh1D_v",
        "outputId": "b8c95020-6bea-43d4-e03e-5cc0c39d8e15",
        "colab": {
          "base_uri": "https://localhost:8080/",
          "height": 195
        }
      },
      "source": [
        "lager.head()"
      ],
      "execution_count": null,
      "outputs": [
        {
          "output_type": "execute_result",
          "data": {
            "text/html": [
              "<div>\n",
              "<style scoped>\n",
              "    .dataframe tbody tr th:only-of-type {\n",
              "        vertical-align: middle;\n",
              "    }\n",
              "\n",
              "    .dataframe tbody tr th {\n",
              "        vertical-align: top;\n",
              "    }\n",
              "\n",
              "    .dataframe thead th {\n",
              "        text-align: right;\n",
              "    }\n",
              "</style>\n",
              "<table border=\"1\" class=\"dataframe\">\n",
              "  <thead>\n",
              "    <tr style=\"text-align: right;\">\n",
              "      <th></th>\n",
              "      <th>beer</th>\n",
              "      <th>tpc</th>\n",
              "      <th>ma</th>\n",
              "      <th>dsa</th>\n",
              "      <th>asa</th>\n",
              "      <th>orac</th>\n",
              "      <th>rp</th>\n",
              "      <th>mca</th>\n",
              "    </tr>\n",
              "  </thead>\n",
              "  <tbody>\n",
              "    <tr>\n",
              "      <th>0</th>\n",
              "      <td>1</td>\n",
              "      <td>148.23</td>\n",
              "      <td>13.37</td>\n",
              "      <td>0.66</td>\n",
              "      <td>0.81</td>\n",
              "      <td>3.81</td>\n",
              "      <td>0.45</td>\n",
              "      <td>10.65</td>\n",
              "    </tr>\n",
              "    <tr>\n",
              "      <th>1</th>\n",
              "      <td>2</td>\n",
              "      <td>160.38</td>\n",
              "      <td>10.96</td>\n",
              "      <td>0.63</td>\n",
              "      <td>0.64</td>\n",
              "      <td>2.85</td>\n",
              "      <td>0.41</td>\n",
              "      <td>15.47</td>\n",
              "    </tr>\n",
              "    <tr>\n",
              "      <th>2</th>\n",
              "      <td>3</td>\n",
              "      <td>170.41</td>\n",
              "      <td>9.22</td>\n",
              "      <td>0.62</td>\n",
              "      <td>0.81</td>\n",
              "      <td>3.34</td>\n",
              "      <td>0.48</td>\n",
              "      <td>15.70</td>\n",
              "    </tr>\n",
              "    <tr>\n",
              "      <th>3</th>\n",
              "      <td>4</td>\n",
              "      <td>208.65</td>\n",
              "      <td>9.65</td>\n",
              "      <td>0.90</td>\n",
              "      <td>1.01</td>\n",
              "      <td>3.34</td>\n",
              "      <td>0.50</td>\n",
              "      <td>76.65</td>\n",
              "    </tr>\n",
              "    <tr>\n",
              "      <th>4</th>\n",
              "      <td>5</td>\n",
              "      <td>146.03</td>\n",
              "      <td>11.72</td>\n",
              "      <td>0.64</td>\n",
              "      <td>0.90</td>\n",
              "      <td>3.18</td>\n",
              "      <td>0.47</td>\n",
              "      <td>9.39</td>\n",
              "    </tr>\n",
              "  </tbody>\n",
              "</table>\n",
              "</div>"
            ],
            "text/plain": [
              "   beer     tpc     ma   dsa   asa  orac    rp    mca\n",
              "0     1  148.23  13.37  0.66  0.81  3.81  0.45  10.65\n",
              "1     2  160.38  10.96  0.63  0.64  2.85  0.41  15.47\n",
              "2     3  170.41   9.22  0.62  0.81  3.34  0.48  15.70\n",
              "3     4  208.65   9.65  0.90  1.01  3.34  0.50  76.65\n",
              "4     5  146.03  11.72  0.64  0.90  3.18  0.47   9.39"
            ]
          },
          "metadata": {
            "tags": []
          },
          "execution_count": 5
        }
      ]
    },
    {
      "cell_type": "markdown",
      "metadata": {
        "id": "o_K1eQ0x1D_y"
      },
      "source": [
        "We would like to predict the level of total phenolic content using the remaining 6 variables.\n",
        "\n",
        "Start by removing the beer column since this column is the id for the observations."
      ]
    },
    {
      "cell_type": "code",
      "metadata": {
        "id": "xfYVreyw1D_y"
      },
      "source": [
        "# answer below:\n",
        "lager = lager.drop(['beer'], axis=1)\n"
      ],
      "execution_count": null,
      "outputs": []
    },
    {
      "cell_type": "markdown",
      "metadata": {
        "id": "86lfEP_91D_0"
      },
      "source": [
        "Next check the data to make sure there is no missing data. Remove rows containing missing data if it exists."
      ]
    },
    {
      "cell_type": "code",
      "metadata": {
        "id": "o3PUI4l61D_0",
        "outputId": "651e4012-444a-402e-d89a-e59fe6934428",
        "colab": {
          "base_uri": "https://localhost:8080/",
          "height": 706
        }
      },
      "source": [
        "# answer below:\n",
        "lager.isnull()\n"
      ],
      "execution_count": null,
      "outputs": [
        {
          "output_type": "execute_result",
          "data": {
            "text/plain": [
              "<bound method DataFrame.sum of       tpc     ma    dsa    asa   orac     rp    mca\n",
              "0   False  False  False  False  False  False  False\n",
              "1   False  False  False  False  False  False  False\n",
              "2   False  False  False  False  False  False  False\n",
              "3   False  False  False  False  False  False  False\n",
              "4   False  False  False  False  False  False  False\n",
              "5   False  False  False  False  False  False  False\n",
              "6   False  False  False  False  False  False  False\n",
              "7   False  False  False  False  False  False  False\n",
              "8   False  False  False  False  False  False  False\n",
              "9   False  False  False  False  False  False  False\n",
              "10  False  False  False  False  False  False  False\n",
              "11  False  False  False  False  False  False  False\n",
              "12  False  False  False  False  False  False  False\n",
              "13  False  False  False  False  False  False  False\n",
              "14  False  False  False  False  False  False  False\n",
              "15  False  False  False  False  False  False  False\n",
              "16  False  False  False  False  False  False  False\n",
              "17  False  False  False  False  False  False  False\n",
              "18  False  False  False  False  False  False  False\n",
              "19  False  False  False  False  False  False  False\n",
              "20  False  False  False  False  False  False  False\n",
              "21  False  False  False  False  False  False  False\n",
              "22  False  False  False  False  False  False  False\n",
              "23  False  False  False  False  False  False  False\n",
              "24  False  False  False  False  False  False  False\n",
              "25  False  False  False  False  False  False  False\n",
              "26  False  False  False  False  False  False  False\n",
              "27  False  False  False  False  False  False  False\n",
              "28  False  False  False  False  False  False  False\n",
              "29  False  False  False  False  False  False  False\n",
              "30  False  False  False  False  False  False  False\n",
              "31  False  False  False  False  False  False  False\n",
              "32  False  False  False  False  False  False  False\n",
              "33  False  False  False  False  False  False  False\n",
              "34  False  False  False  False  False  False  False\n",
              "35  False  False  False  False  False  False  False\n",
              "36  False  False  False  False  False  False  False\n",
              "37  False  False  False  False  False  False  False\n",
              "38  False  False  False  False  False  False  False\n",
              "39  False  False  False  False  False  False  False>"
            ]
          },
          "metadata": {
            "tags": []
          },
          "execution_count": 9
        }
      ]
    },
    {
      "cell_type": "markdown",
      "metadata": {
        "id": "MUjcLMMk1D_2"
      },
      "source": [
        "Plot the scatter matrix for all variables in the dataset. Do all variables have a pairwise linear relationship?"
      ]
    },
    {
      "cell_type": "code",
      "metadata": {
        "id": "6OTdN8oF1D_2",
        "outputId": "7214331b-d98f-4eb5-a7af-684afda922e1",
        "colab": {
          "base_uri": "https://localhost:8080/",
          "height": 527
        }
      },
      "source": [
        "plt.figure(figsize=(18, 10))\n",
        "\n",
        "plt.subplot(2, 3, 1) \n",
        "plt.scatter(lager['ma'], lager['tpc']) \n",
        "plt.title('correaltion between ma and tpc')\n",
        "\n",
        "plt.subplot(2, 3, 2) \n",
        "plt.scatter(lager['dsa'], lager['tpc']) \n",
        "plt.title('correaltion between dsa and tpc')\n",
        "\n",
        "plt.subplot(2, 3, 3) \n",
        "plt.scatter(lager['asa'], lager['tpc']) \n",
        "plt.title('correaltion between asa and tpc')\n",
        "\n",
        "plt.subplot(2, 3, 4) \n",
        "plt.scatter(lager['orac'], lager['tpc']) \n",
        "plt.title('correaltion between orac and tpc')\n",
        "\n",
        "plt.subplot(2, 3, 5) \n",
        "plt.scatter(lager['rp'], lager['tpc']) \n",
        "plt.title('correaltion between rp and tpc')\n",
        "\n",
        "plt.subplot(2, 3, 6) \n",
        "plt.scatter(lager['mca'], lager['tpc']) \n",
        "plt.title('correaltion between mca and tpc')\n",
        "\n",
        "plt.show()"
      ],
      "execution_count": null,
      "outputs": [
        {
          "output_type": "display_data",
          "data": {
            "image/png": "[encoded data removed]",
            "text/plain": [
              "<Figure size 1296x720 with 6 Axes>"
            ]
          },
          "metadata": {
            "tags": [],
            "needs_background": "light"
          }
        }
      ]
    },
    {
      "cell_type": "markdown",
      "metadata": {
        "id": "ao3Y5FVp1D_4"
      },
      "source": [
        "We would like to split the data into train and test samples. Use `tpc` as the y column and split the data with 25% of the data in the test sample."
      ]
    },
    {
      "cell_type": "code",
      "metadata": {
        "id": "sUhMxZdL1D_4"
      },
      "source": [
        "# answer below:\n",
        "X_train, X_test, y_train, y_test = train_test_split(lager.drop(['tpc'], axis=1), lager['tpc'], test_size=0.25, random_state=42)\n"
      ],
      "execution_count": null,
      "outputs": []
    },
    {
      "cell_type": "markdown",
      "metadata": {
        "id": "y0wBOUWJ1D_6"
      },
      "source": [
        "Using sklearn, train the model and print out the coefficients and intercept."
      ]
    },
    {
      "cell_type": "code",
      "metadata": {
        "id": "AdKYEBx61D_6",
        "outputId": "4fc77c8b-a16b-4023-e7ed-1627de49b722",
        "colab": {
          "base_uri": "https://localhost:8080/",
          "height": 34
        }
      },
      "source": [
        "# answer below:\n",
        "lager_model = LinearRegression()\n",
        "\n",
        "lager_model.fit(X_train, y_train)\n"
      ],
      "execution_count": null,
      "outputs": [
        {
          "output_type": "execute_result",
          "data": {
            "text/plain": [
              "LinearRegression(copy_X=True, fit_intercept=True, n_jobs=None, normalize=False)"
            ]
          },
          "metadata": {
            "tags": []
          },
          "execution_count": 19
        }
      ]
    },
    {
      "cell_type": "code",
      "metadata": {
        "id": "aFQWk6Cxjzk2",
        "outputId": "3fd8d1bb-89e0-4061-e2a8-204d6e3a2994",
        "colab": {
          "base_uri": "https://localhost:8080/",
          "height": 50
        }
      },
      "source": [
        "lager_model.coef_"
      ],
      "execution_count": null,
      "outputs": [
        {
          "output_type": "execute_result",
          "data": {
            "text/plain": [
              "array([  1.27914897, 110.83201716,   4.14589374,  -1.61969433,\n",
              "        57.55850751,   0.47404448])"
            ]
          },
          "metadata": {
            "tags": []
          },
          "execution_count": 20
        }
      ]
    },
    {
      "cell_type": "code",
      "metadata": {
        "id": "cV-Db6cjj2Mv",
        "outputId": "52a0d750-c3d3-405e-d398-a7e808b13f7a",
        "colab": {
          "base_uri": "https://localhost:8080/",
          "height": 34
        }
      },
      "source": [
        "lager_model.intercept_"
      ],
      "execution_count": null,
      "outputs": [
        {
          "output_type": "execute_result",
          "data": {
            "text/plain": [
              "34.58408298223662"
            ]
          },
          "metadata": {
            "tags": []
          },
          "execution_count": 21
        }
      ]
    },
    {
      "cell_type": "code",
      "metadata": {
        "id": "OFIaYnKX1D_8"
      },
      "source": [
        ""
      ],
      "execution_count": null,
      "outputs": []
    }
  ]
}