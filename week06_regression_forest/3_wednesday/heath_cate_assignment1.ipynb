{
  "nbformat": 4,
  "nbformat_minor": 0,
  "metadata": {
    "kernelspec": {
      "display_name": "Python 3",
      "language": "python",
      "name": "python3"
    },
    "language_info": {
      "codemirror_mode": {
        "name": "ipython",
        "version": 3
      },
      "file_extension": ".py",
      "mimetype": "text/x-python",
      "name": "python",
      "nbconvert_exporter": "python",
      "pygments_lexer": "ipython3",
      "version": "3.7.0"
    },
    "colab": {
      "name": " heath_cate_assignment1.ipynb",
      "provenance": [],
      "collapsed_sections": []
    }
  },
  "cells": [
    {
      "cell_type": "markdown",
      "metadata": {
        "id": "J-40ZI05Y6T6"
      },
      "source": [
        "## Day 28 Lecture 1 Assignment\n",
        "\n",
        "In this assignment, we will learn about making predictions with linear models. We will use the king county housing dataset loaded below and analyze the regression from this dataset."
      ]
    },
    {
      "cell_type": "code",
      "metadata": {
        "id": "RaQgiH8LY6T7"
      },
      "source": [
        "%matplotlib inline\n",
        "\n",
        "import math\n",
        "\n",
        "import matplotlib.pyplot as plt\n",
        "import numpy as np\n",
        "import pandas as pd\n",
        "import seaborn as sns\n",
        "import statsmodels.api as sm"
      ],
      "execution_count": 1,
      "outputs": []
    },
    {
      "cell_type": "code",
      "metadata": {
        "id": "UYQUAuJQY6T9"
      },
      "source": [
        "king_county = pd.read_csv('https://tf-assets-prod.s3.amazonaws.com/tf-curric/data-science/kc_house_data.csv')"
      ],
      "execution_count": 2,
      "outputs": []
    },
    {
      "cell_type": "code",
      "metadata": {
        "id": "W8CogVj9Y6T_",
        "outputId": "90c84052-6a2d-455d-86ac-a51e45f0f5f2",
        "colab": {
          "base_uri": "https://localhost:8080/",
          "height": 217
        }
      },
      "source": [
        "king_county.head()"
      ],
      "execution_count": 3,
      "outputs": [
        {
          "output_type": "execute_result",
          "data": {
            "text/html": [
              "<div>\n",
              "<style scoped>\n",
              "    .dataframe tbody tr th:only-of-type {\n",
              "        vertical-align: middle;\n",
              "    }\n",
              "\n",
              "    .dataframe tbody tr th {\n",
              "        vertical-align: top;\n",
              "    }\n",
              "\n",
              "    .dataframe thead th {\n",
              "        text-align: right;\n",
              "    }\n",
              "</style>\n",
              "<table border=\"1\" class=\"dataframe\">\n",
              "  <thead>\n",
              "    <tr style=\"text-align: right;\">\n",
              "      <th></th>\n",
              "      <th>id</th>\n",
              "      <th>date</th>\n",
              "      <th>price</th>\n",
              "      <th>bedrooms</th>\n",
              "      <th>bathrooms</th>\n",
              "      <th>sqft_living</th>\n",
              "      <th>sqft_lot</th>\n",
              "      <th>floors</th>\n",
              "      <th>waterfront</th>\n",
              "      <th>view</th>\n",
              "      <th>condition</th>\n",
              "      <th>grade</th>\n",
              "      <th>sqft_above</th>\n",
              "      <th>sqft_basement</th>\n",
              "      <th>yr_built</th>\n",
              "      <th>yr_renovated</th>\n",
              "      <th>zipcode</th>\n",
              "      <th>lat</th>\n",
              "      <th>long</th>\n",
              "      <th>sqft_living15</th>\n",
              "      <th>sqft_lot15</th>\n",
              "    </tr>\n",
              "  </thead>\n",
              "  <tbody>\n",
              "    <tr>\n",
              "      <th>0</th>\n",
              "      <td>7129300520</td>\n",
              "      <td>20141013T000000</td>\n",
              "      <td>221900.0</td>\n",
              "      <td>3</td>\n",
              "      <td>1.00</td>\n",
              "      <td>1180</td>\n",
              "      <td>5650</td>\n",
              "      <td>1.0</td>\n",
              "      <td>0</td>\n",
              "      <td>0</td>\n",
              "      <td>3</td>\n",
              "      <td>7</td>\n",
              "      <td>1180</td>\n",
              "      <td>0</td>\n",
              "      <td>1955</td>\n",
              "      <td>0</td>\n",
              "      <td>98178</td>\n",
              "      <td>47.5112</td>\n",
              "      <td>-122.257</td>\n",
              "      <td>1340</td>\n",
              "      <td>5650</td>\n",
              "    </tr>\n",
              "    <tr>\n",
              "      <th>1</th>\n",
              "      <td>6414100192</td>\n",
              "      <td>20141209T000000</td>\n",
              "      <td>538000.0</td>\n",
              "      <td>3</td>\n",
              "      <td>2.25</td>\n",
              "      <td>2570</td>\n",
              "      <td>7242</td>\n",
              "      <td>2.0</td>\n",
              "      <td>0</td>\n",
              "      <td>0</td>\n",
              "      <td>3</td>\n",
              "      <td>7</td>\n",
              "      <td>2170</td>\n",
              "      <td>400</td>\n",
              "      <td>1951</td>\n",
              "      <td>1991</td>\n",
              "      <td>98125</td>\n",
              "      <td>47.7210</td>\n",
              "      <td>-122.319</td>\n",
              "      <td>1690</td>\n",
              "      <td>7639</td>\n",
              "    </tr>\n",
              "    <tr>\n",
              "      <th>2</th>\n",
              "      <td>5631500400</td>\n",
              "      <td>20150225T000000</td>\n",
              "      <td>180000.0</td>\n",
              "      <td>2</td>\n",
              "      <td>1.00</td>\n",
              "      <td>770</td>\n",
              "      <td>10000</td>\n",
              "      <td>1.0</td>\n",
              "      <td>0</td>\n",
              "      <td>0</td>\n",
              "      <td>3</td>\n",
              "      <td>6</td>\n",
              "      <td>770</td>\n",
              "      <td>0</td>\n",
              "      <td>1933</td>\n",
              "      <td>0</td>\n",
              "      <td>98028</td>\n",
              "      <td>47.7379</td>\n",
              "      <td>-122.233</td>\n",
              "      <td>2720</td>\n",
              "      <td>8062</td>\n",
              "    </tr>\n",
              "    <tr>\n",
              "      <th>3</th>\n",
              "      <td>2487200875</td>\n",
              "      <td>20141209T000000</td>\n",
              "      <td>604000.0</td>\n",
              "      <td>4</td>\n",
              "      <td>3.00</td>\n",
              "      <td>1960</td>\n",
              "      <td>5000</td>\n",
              "      <td>1.0</td>\n",
              "      <td>0</td>\n",
              "      <td>0</td>\n",
              "      <td>5</td>\n",
              "      <td>7</td>\n",
              "      <td>1050</td>\n",
              "      <td>910</td>\n",
              "      <td>1965</td>\n",
              "      <td>0</td>\n",
              "      <td>98136</td>\n",
              "      <td>47.5208</td>\n",
              "      <td>-122.393</td>\n",
              "      <td>1360</td>\n",
              "      <td>5000</td>\n",
              "    </tr>\n",
              "    <tr>\n",
              "      <th>4</th>\n",
              "      <td>1954400510</td>\n",
              "      <td>20150218T000000</td>\n",
              "      <td>510000.0</td>\n",
              "      <td>3</td>\n",
              "      <td>2.00</td>\n",
              "      <td>1680</td>\n",
              "      <td>8080</td>\n",
              "      <td>1.0</td>\n",
              "      <td>0</td>\n",
              "      <td>0</td>\n",
              "      <td>3</td>\n",
              "      <td>8</td>\n",
              "      <td>1680</td>\n",
              "      <td>0</td>\n",
              "      <td>1987</td>\n",
              "      <td>0</td>\n",
              "      <td>98074</td>\n",
              "      <td>47.6168</td>\n",
              "      <td>-122.045</td>\n",
              "      <td>1800</td>\n",
              "      <td>7503</td>\n",
              "    </tr>\n",
              "  </tbody>\n",
              "</table>\n",
              "</div>"
            ],
            "text/plain": [
              "           id             date     price  ...     long  sqft_living15  sqft_lot15\n",
              "0  7129300520  20141013T000000  221900.0  ... -122.257           1340        5650\n",
              "1  6414100192  20141209T000000  538000.0  ... -122.319           1690        7639\n",
              "2  5631500400  20150225T000000  180000.0  ... -122.233           2720        8062\n",
              "3  2487200875  20141209T000000  604000.0  ... -122.393           1360        5000\n",
              "4  1954400510  20150218T000000  510000.0  ... -122.045           1800        7503\n",
              "\n",
              "[5 rows x 21 columns]"
            ]
          },
          "metadata": {
            "tags": []
          },
          "execution_count": 3
        }
      ]
    },
    {
      "cell_type": "markdown",
      "metadata": {
        "id": "KsvisZDRY6UC"
      },
      "source": [
        "We'll start by filtering out columns and keeping only: price, bedrooms, bathrooms, sqft_living, floors, and waterfront."
      ]
    },
    {
      "cell_type": "code",
      "metadata": {
        "id": "E7-FvWFBY6UC"
      },
      "source": [
        "filter = king_county[['price', 'bedrooms', 'bathrooms', 'sqft_living', 'floors', 'waterfront']]"
      ],
      "execution_count": 4,
      "outputs": []
    },
    {
      "cell_type": "markdown",
      "metadata": {
        "id": "NYvuBk-zY6UE"
      },
      "source": [
        "Next create a pair plot in Seaborn to see the relationships between your features."
      ]
    },
    {
      "cell_type": "code",
      "metadata": {
        "id": "_xS9QRwRY6UE"
      },
      "source": [
        "# sns.pairplot(filter)\n",
        "# plt.show()"
      ],
      "execution_count": 5,
      "outputs": []
    },
    {
      "cell_type": "markdown",
      "metadata": {
        "id": "h18OAXJTZN4W"
      },
      "source": [
        "There are two noticeable outliers here that will cause problems. Remove them."
      ]
    },
    {
      "cell_type": "code",
      "metadata": {
        "id": "m6rqiuUn0IAM"
      },
      "source": [
        "filter = filter[filter['bedrooms'] != 33]\n",
        "filter = filter[filter['sqft_living'] != 12050]\n",
        "filter = filter[filter['sqft_living'] != 13540]\n",
        "filter = filter[filter['price'] != 6885000.]\n",
        "filter = filter[filter['price'] != 7062500.]"
      ],
      "execution_count": 6,
      "outputs": []
    },
    {
      "cell_type": "code",
      "metadata": {
        "id": "pH4q_fjB0iIF",
        "outputId": "6695ac76-63d8-41de-f391-32931061bdc8",
        "colab": {
          "base_uri": "https://localhost:8080/",
          "height": 34
        }
      },
      "source": [
        "np.sort(filter['price'].unique())"
      ],
      "execution_count": 7,
      "outputs": [
        {
          "output_type": "execute_result",
          "data": {
            "text/plain": [
              "array([  75000.,   78000.,   80000., ..., 5300000., 5350000., 5570000.])"
            ]
          },
          "metadata": {
            "tags": []
          },
          "execution_count": 7
        }
      ]
    },
    {
      "cell_type": "code",
      "metadata": {
        "id": "AkpYFcT8tlJJ",
        "outputId": "75cb7d2a-2a7a-42c0-eafb-a050d65f135b",
        "colab": {
          "base_uri": "https://localhost:8080/",
          "height": 263
        }
      },
      "source": [
        "ax = sns.boxplot(y='price', data=filter)"
      ],
      "execution_count": 8,
      "outputs": [
        {
          "output_type": "display_data",
          "data": {
            "image/png": "[encoded data removed]",
            "text/plain": [
              "<Figure size 432x288 with 1 Axes>"
            ]
          },
          "metadata": {
            "tags": [],
            "needs_background": "light"
          }
        }
      ]
    },
    {
      "cell_type": "code",
      "metadata": {
        "id": "CtBxN9nUnEhs"
      },
      "source": [
        "# from scipy.stats import zscore\n",
        "# threshold = 3\n",
        "# # zscores = []\n",
        "# # cols = filter.columns\n",
        "# for i in filter.columns:\n",
        "#   print(i)\n",
        "#   print(np.where(zscore(filter[i]) > threshold))\n",
        "#   # print(zscore(filter[i]))\n",
        "# #   zscores = zscores.append([i, zscore])\n",
        "\n",
        "# # zscores\n",
        "# # print(np.where(zscores > threshold))\n",
        "# # print(len((np.where(zscores > threshold)[0])))\n",
        "\n",
        "# # zscore(filter['price'])"
      ],
      "execution_count": 9,
      "outputs": []
    },
    {
      "cell_type": "code",
      "metadata": {
        "id": "f3y-qHUTugSM"
      },
      "source": [
        "# threshold = 1.5\n",
        "# for i in filter.columns:\n",
        "#   print(i)\n",
        "#   q75, q25 = np.percentile(filter[i], [75 ,25])\n",
        "#   iqr = q75 - q25\n",
        "#   # for threshold in np.arange(1,5,0.5):\n",
        "#   min_val = q25 - (iqr*threshold)\n",
        "#   max_val = q75 + (iqr*threshold)\n",
        "#   num_outliers = len((np.where(filter[i] > max_val) | (filter[i] < min_val)[0]))\n",
        "#   # print(f'The score threshold is: {threshold}')\n",
        "#   print(f'Number of outliers is: {num_outliers}')"
      ],
      "execution_count": 10,
      "outputs": []
    },
    {
      "cell_type": "markdown",
      "metadata": {
        "id": "JTSTq9RSY6UG"
      },
      "source": [
        "Next, we'll check for missing values and remove rows containing missing values. We will also make sure that all our data is numeric and convert the columns that are of object type to numeric. Make sure to remove any rows with missing data resulting from the conversion to numeric."
      ]
    },
    {
      "cell_type": "code",
      "metadata": {
        "id": "pSd18ljwlCFI"
      },
      "source": [
        "def missingness_summary(df, print_log, sort):\n",
        "  '''\n",
        "  Return a pandas series containing the percentage of missing data in each column.\n",
        "  \n",
        "  Args:\n",
        "  df - pandas dataframe \n",
        "\n",
        "  print_log (boolean) - if True, print out all of the columns in the dataframe, \n",
        "    one to a line, followed by the percentage of total rows that have a \n",
        "    null value for that column.\n",
        "    \n",
        "  sort (string) - specify if the output should be sorted in ascending order, \n",
        "    descending order, or not at all.\n",
        "  '''\n",
        "  if print_log == True:\n",
        "    series = pd.Series(df.isnull().sum()*100/df.isnull().count())\n",
        "    if sort == 'Ascending':\n",
        "      series = series.sort_values(ascending = True)\n",
        "    elif sort == 'Descending':\n",
        "      series = series.sort_values(ascending=False)\n",
        "    else:\n",
        "      series\n",
        "    return series"
      ],
      "execution_count": 11,
      "outputs": []
    },
    {
      "cell_type": "code",
      "metadata": {
        "id": "Uc4yv3IbY6UH",
        "outputId": "fcab7a8d-88c9-4605-b36c-6d1da3482b3b",
        "colab": {
          "base_uri": "https://localhost:8080/",
          "height": 247
        }
      },
      "source": [
        "missingness_summary(filter, True, 'Descending')\n",
        "filter.info()"
      ],
      "execution_count": 12,
      "outputs": [
        {
          "output_type": "stream",
          "text": [
            "<class 'pandas.core.frame.DataFrame'>\n",
            "Int64Index: 21608 entries, 0 to 21612\n",
            "Data columns (total 6 columns):\n",
            " #   Column       Non-Null Count  Dtype  \n",
            "---  ------       --------------  -----  \n",
            " 0   price        21608 non-null  float64\n",
            " 1   bedrooms     21608 non-null  int64  \n",
            " 2   bathrooms    21608 non-null  float64\n",
            " 3   sqft_living  21608 non-null  int64  \n",
            " 4   floors       21608 non-null  float64\n",
            " 5   waterfront   21608 non-null  int64  \n",
            "dtypes: float64(3), int64(3)\n",
            "memory usage: 1.2 MB\n"
          ],
          "name": "stdout"
        }
      ]
    },
    {
      "cell_type": "markdown",
      "metadata": {
        "id": "JAYct7xmY6UI"
      },
      "source": [
        "Split the data into test and train subsets. Use 20% of the data for the test subset. Use price as the dependent variable."
      ]
    },
    {
      "cell_type": "code",
      "metadata": {
        "id": "iv81Fy-wY6UJ"
      },
      "source": [
        "from sklearn.model_selection import train_test_split, cross_val_score\n",
        "y = filter['price']\n",
        "X = filter.drop('price', axis=1)\n",
        "\n",
        "X_train, X_test, y_train, y_test = train_test_split(X, y, test_size=.2)"
      ],
      "execution_count": 13,
      "outputs": []
    },
    {
      "cell_type": "markdown",
      "metadata": {
        "id": "mDCT9Z6DY6UK"
      },
      "source": [
        "Check the model assumptions: homoscedacity, normal errors, and multicollinearity"
      ]
    },
    {
      "cell_type": "code",
      "metadata": {
        "id": "p0mF0IskY6UL"
      },
      "source": [
        "X_con = sm.add_constant(X_train)\n",
        "\n",
        "fit = sm.OLS(y_train, X_con).fit()\n",
        "\n",
        "# print(fit.summary())"
      ],
      "execution_count": 14,
      "outputs": []
    },
    {
      "cell_type": "code",
      "metadata": {
        "id": "OxR3I6fl4fSS"
      },
      "source": [
        "predictions = fit.predict(X_con)\n",
        "resid = fit.resid"
      ],
      "execution_count": 15,
      "outputs": []
    },
    {
      "cell_type": "code",
      "metadata": {
        "id": "X3EJd2DS419G",
        "outputId": "65e52a24-41d6-4d51-b3b4-32bd464a3173",
        "colab": {
          "base_uri": "https://localhost:8080/",
          "height": 288
        }
      },
      "source": [
        "plt.scatter(predictions, resid)\n",
        "plt.show()"
      ],
      "execution_count": 16,
      "outputs": [
        {
          "output_type": "display_data",
          "data": {
            "image/png": "[encoded data removed]",
            "text/plain": [
              "<Figure size 432x288 with 1 Axes>"
            ]
          },
          "metadata": {
            "tags": [],
            "needs_background": "light"
          }
        }
      ]
    },
    {
      "cell_type": "code",
      "metadata": {
        "id": "YKsHMneW5HdP",
        "outputId": "f217405c-e9bb-42b3-e523-d4bca8571d2f",
        "colab": {
          "base_uri": "https://localhost:8080/",
          "height": 290
        }
      },
      "source": [
        "sm.qqplot(resid.values, line='s')\n",
        "plt.show()"
      ],
      "execution_count": 17,
      "outputs": [
        {
          "output_type": "display_data",
          "data": {
            "image/png": "[encoded data removed]",
            "text/plain": [
              "<Figure size 432x288 with 1 Axes>"
            ]
          },
          "metadata": {
            "tags": [],
            "needs_background": "light"
          }
        }
      ]
    },
    {
      "cell_type": "markdown",
      "metadata": {
        "id": "m6-zGzpxY6UO"
      },
      "source": [
        "Create your final linear model and produce a model summary. Look at the coefficients and interpret their meaning. How do each of them influence the final prediction?"
      ]
    },
    {
      "cell_type": "code",
      "metadata": {
        "id": "YQ7mpBrkY6UP",
        "outputId": "8ac27994-5248-4db9-b2d0-cea9d201eaf8",
        "colab": {
          "base_uri": "https://localhost:8080/",
          "height": 141
        }
      },
      "source": [
        "from statsmodels.stats.outliers_influence import variance_inflation_factor\n",
        "vif = pd.Series([variance_inflation_factor(X_con.values, i) for i in range(X_con.shape[1])], index=X_con.columns)\n",
        "vif"
      ],
      "execution_count": 18,
      "outputs": [
        {
          "output_type": "execute_result",
          "data": {
            "text/plain": [
              "const          19.644150\n",
              "bedrooms        1.608372\n",
              "bathrooms       2.798846\n",
              "sqft_living     2.670392\n",
              "floors          1.350761\n",
              "waterfront      1.016505\n",
              "dtype: float64"
            ]
          },
          "metadata": {
            "tags": []
          },
          "execution_count": 18
        }
      ]
    },
    {
      "cell_type": "markdown",
      "metadata": {
        "id": "dtAUGNa2Y6UQ"
      },
      "source": [
        "Predict the y values for the test sample using our model above.\n",
        "\n",
        "Plot the true vs. predicted values and compute the MAE, MSE, RMSE and MAPE. How accurate is our model?"
      ]
    },
    {
      "cell_type": "code",
      "metadata": {
        "id": "tth6RT2dY6UR"
      },
      "source": [
        "X_t_con = sm.add_constant(X_test)\n",
        "y_pred = fit.predict(X_t_con)\n",
        "resid = y_test - y_pred"
      ],
      "execution_count": 19,
      "outputs": []
    },
    {
      "cell_type": "code",
      "metadata": {
        "id": "A2ODH7lyY6US",
        "outputId": "87ea9b0c-3bd5-42ee-e9b2-20bc9a657efe",
        "colab": {
          "base_uri": "https://localhost:8080/",
          "height": 288
        }
      },
      "source": [
        "plt.scatter(y_test, y_pred)\n",
        "plt.show()"
      ],
      "execution_count": 20,
      "outputs": [
        {
          "output_type": "display_data",
          "data": {
            "image/png": "[encoded data removed]",
            "text/plain": [
              "<Figure size 432x288 with 1 Axes>"
            ]
          },
          "metadata": {
            "tags": [],
            "needs_background": "light"
          }
        }
      ]
    },
    {
      "cell_type": "code",
      "metadata": {
        "id": "nX-IrDHn7DL-"
      },
      "source": [
        "from sklearn.metrics import mean_absolute_error\n",
        "from statsmodels.tools.eval_measures import mse, rmse\n",
        "# from statsmodels.tools.eval_measures import rmse"
      ],
      "execution_count": 21,
      "outputs": []
    },
    {
      "cell_type": "code",
      "metadata": {
        "id": "5V6RjOJT8XOO",
        "outputId": "488ee15f-b824-4237-f864-38d9a34628a4",
        "colab": {
          "base_uri": "https://localhost:8080/",
          "height": 52
        }
      },
      "source": [
        "print(y_test.shape)\n",
        "print(y_pred.shape)"
      ],
      "execution_count": 22,
      "outputs": [
        {
          "output_type": "stream",
          "text": [
            "(4322,)\n",
            "(4322,)\n"
          ],
          "name": "stdout"
        }
      ]
    },
    {
      "cell_type": "code",
      "metadata": {
        "id": "8e2WlCDA7UpR"
      },
      "source": [
        "mae = mean_absolute_error(y_test, y_pred)\n",
        "mse = mse(y_test, y_pred)\n",
        "rmse = rmse(y_test, y_pred)\n",
        "mape = np.mean(np.abs((y_test - y_pred)/y_test) * 100)"
      ],
      "execution_count": 23,
      "outputs": []
    },
    {
      "cell_type": "code",
      "metadata": {
        "id": "6oy1_Q9P94hc",
        "outputId": "6aba2c20-c03d-4257-ec39-946c8ce4c045",
        "colab": {
          "base_uri": "https://localhost:8080/",
          "height": 87
        }
      },
      "source": [
        "print(f\"Mean absolute error of the prediction is: {mae}\")\n",
        "print(f\"Mean squared error of the prediction is: {mse}\")\n",
        "print(f\"Root mean squared error of the prediction is: {rmse}\")\n",
        "print(f\"Mean absolute percentage error of the prediction is: {mape}\")\n"
      ],
      "execution_count": 28,
      "outputs": [
        {
          "output_type": "stream",
          "text": [
            "Mean absolute error of the prediction is: 165433.74623097404\n",
            "Mean squared error of the prediction is: 56385339413.52617\n",
            "Root mean squared error of the prediction is: 237455.97363201072\n",
            "Mean absolute percentage error of the prediction is: 34.61605332726016\n"
          ],
          "name": "stdout"
        }
      ]
    }
  ]
}