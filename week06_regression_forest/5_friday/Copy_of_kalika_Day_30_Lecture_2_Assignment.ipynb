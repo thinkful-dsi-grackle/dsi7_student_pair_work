{
  "nbformat": 4,
  "nbformat_minor": 0,
  "metadata": {
    "kernelspec": {
      "display_name": "Python 3",
      "language": "python",
      "name": "python3"
    },
    "language_info": {
      "codemirror_mode": {
        "name": "ipython",
        "version": 3
      },
      "file_extension": ".py",
      "mimetype": "text/x-python",
      "name": "python",
      "nbconvert_exporter": "python",
      "pygments_lexer": "ipython3",
      "version": "3.7.0"
    },
    "colab": {
      "name": "Copy of kalika Day 30 Lecture 2 Assignment.ipynb",
      "provenance": [],
      "collapsed_sections": [
        "NnW2veF7dWjD",
        "QGDg9DnRztF1",
        "BwRHIypG0Ezi",
        "1Sphr3C-4GDh",
        "WbgXxGhk7Izg",
        "SoRH9P97Hm3v",
        "9ZFL9J01NCxJ",
        "ABGTpW_yOGbe",
        "P6ABRKwFPO9t",
        "SdK1gzxjQqA6"
      ]
    }
  },
  "cells": [
    {
      "cell_type": "markdown",
      "metadata": {
        "id": "efE6LIYgdWi-"
      },
      "source": [
        "## Day 30 Lecture 2 Assignment\n",
        "\n",
        "In this assignment, we will learn about random forests. We will use the google play store dataset loaded below."
      ]
    },
    {
      "cell_type": "code",
      "metadata": {
        "id": "ABJ7i-pDdWi_"
      },
      "source": [
        "%matplotlib inline\n",
        "\n",
        "import matplotlib.pyplot as plt\n",
        "import numpy as np\n",
        "import pandas as pd\n",
        "import seaborn as sns"
      ],
      "execution_count": null,
      "outputs": []
    },
    {
      "cell_type": "code",
      "metadata": {
        "id": "1VRsPLisdWjB",
        "outputId": "20eb3a2b-9804-461d-caf6-259cb73edc8d",
        "colab": {
          "base_uri": "https://localhost:8080/",
          "height": 279
        }
      },
      "source": [
        "reviews = pd.read_csv('https://tf-assets-prod.s3.amazonaws.com/tf-curric/data-science/googleplaystore.csv')\n",
        "\n",
        "reviews.head()"
      ],
      "execution_count": null,
      "outputs": [
        {
          "output_type": "execute_result",
          "data": {
            "text/html": [
              "<div>\n",
              "<style scoped>\n",
              "    .dataframe tbody tr th:only-of-type {\n",
              "        vertical-align: middle;\n",
              "    }\n",
              "\n",
              "    .dataframe tbody tr th {\n",
              "        vertical-align: top;\n",
              "    }\n",
              "\n",
              "    .dataframe thead th {\n",
              "        text-align: right;\n",
              "    }\n",
              "</style>\n",
              "<table border=\"1\" class=\"dataframe\">\n",
              "  <thead>\n",
              "    <tr style=\"text-align: right;\">\n",
              "      <th></th>\n",
              "      <th>App</th>\n",
              "      <th>Category</th>\n",
              "      <th>Rating</th>\n",
              "      <th>Reviews</th>\n",
              "      <th>Size</th>\n",
              "      <th>Installs</th>\n",
              "      <th>Type</th>\n",
              "      <th>Price</th>\n",
              "      <th>Content Rating</th>\n",
              "      <th>Genres</th>\n",
              "      <th>Last Updated</th>\n",
              "      <th>Current Ver</th>\n",
              "      <th>Android Ver</th>\n",
              "    </tr>\n",
              "  </thead>\n",
              "  <tbody>\n",
              "    <tr>\n",
              "      <th>0</th>\n",
              "      <td>Photo Editor &amp; Candy Camera &amp; Grid &amp; ScrapBook</td>\n",
              "      <td>ART_AND_DESIGN</td>\n",
              "      <td>4.1</td>\n",
              "      <td>159</td>\n",
              "      <td>19M</td>\n",
              "      <td>10,000+</td>\n",
              "      <td>Free</td>\n",
              "      <td>0</td>\n",
              "      <td>Everyone</td>\n",
              "      <td>Art &amp; Design</td>\n",
              "      <td>January 7, 2018</td>\n",
              "      <td>1.0.0</td>\n",
              "      <td>4.0.3 and up</td>\n",
              "    </tr>\n",
              "    <tr>\n",
              "      <th>1</th>\n",
              "      <td>Coloring book moana</td>\n",
              "      <td>ART_AND_DESIGN</td>\n",
              "      <td>3.9</td>\n",
              "      <td>967</td>\n",
              "      <td>14M</td>\n",
              "      <td>500,000+</td>\n",
              "      <td>Free</td>\n",
              "      <td>0</td>\n",
              "      <td>Everyone</td>\n",
              "      <td>Art &amp; Design;Pretend Play</td>\n",
              "      <td>January 15, 2018</td>\n",
              "      <td>2.0.0</td>\n",
              "      <td>4.0.3 and up</td>\n",
              "    </tr>\n",
              "    <tr>\n",
              "      <th>2</th>\n",
              "      <td>U Launcher Lite – FREE Live Cool Themes, Hide ...</td>\n",
              "      <td>ART_AND_DESIGN</td>\n",
              "      <td>4.7</td>\n",
              "      <td>87510</td>\n",
              "      <td>8.7M</td>\n",
              "      <td>5,000,000+</td>\n",
              "      <td>Free</td>\n",
              "      <td>0</td>\n",
              "      <td>Everyone</td>\n",
              "      <td>Art &amp; Design</td>\n",
              "      <td>August 1, 2018</td>\n",
              "      <td>1.2.4</td>\n",
              "      <td>4.0.3 and up</td>\n",
              "    </tr>\n",
              "    <tr>\n",
              "      <th>3</th>\n",
              "      <td>Sketch - Draw &amp; Paint</td>\n",
              "      <td>ART_AND_DESIGN</td>\n",
              "      <td>4.5</td>\n",
              "      <td>215644</td>\n",
              "      <td>25M</td>\n",
              "      <td>50,000,000+</td>\n",
              "      <td>Free</td>\n",
              "      <td>0</td>\n",
              "      <td>Teen</td>\n",
              "      <td>Art &amp; Design</td>\n",
              "      <td>June 8, 2018</td>\n",
              "      <td>Varies with device</td>\n",
              "      <td>4.2 and up</td>\n",
              "    </tr>\n",
              "    <tr>\n",
              "      <th>4</th>\n",
              "      <td>Pixel Draw - Number Art Coloring Book</td>\n",
              "      <td>ART_AND_DESIGN</td>\n",
              "      <td>4.3</td>\n",
              "      <td>967</td>\n",
              "      <td>2.8M</td>\n",
              "      <td>100,000+</td>\n",
              "      <td>Free</td>\n",
              "      <td>0</td>\n",
              "      <td>Everyone</td>\n",
              "      <td>Art &amp; Design;Creativity</td>\n",
              "      <td>June 20, 2018</td>\n",
              "      <td>1.1</td>\n",
              "      <td>4.4 and up</td>\n",
              "    </tr>\n",
              "  </tbody>\n",
              "</table>\n",
              "</div>"
            ],
            "text/plain": [
              "                                                 App  ...   Android Ver\n",
              "0     Photo Editor & Candy Camera & Grid & ScrapBook  ...  4.0.3 and up\n",
              "1                                Coloring book moana  ...  4.0.3 and up\n",
              "2  U Launcher Lite – FREE Live Cool Themes, Hide ...  ...  4.0.3 and up\n",
              "3                              Sketch - Draw & Paint  ...    4.2 and up\n",
              "4              Pixel Draw - Number Art Coloring Book  ...    4.4 and up\n",
              "\n",
              "[5 rows x 13 columns]"
            ]
          },
          "metadata": {
            "tags": []
          },
          "execution_count": 88
        }
      ]
    },
    {
      "cell_type": "markdown",
      "metadata": {
        "id": "NnW2veF7dWjD"
      },
      "source": [
        "#Feature Selection\n",
        "Select which columns are best suited to predict whether the rating is above 4.5\n",
        "* Recall the [assumptions](https://bccvl.org.au/algorithms-exposed-random-forest/#:~:text=ASSUMPTIONS,are%20ordinal%20or%20non%2Dordinal.)\n",
        "\n",
        "* Strong Multicollinearity can impact the random forest results.\n",
        "\n"
      ]
    },
    {
      "cell_type": "markdown",
      "metadata": {
        "id": "T7KGr1qnv5D2"
      },
      "source": [
        "##Iteration One"
      ]
    },
    {
      "cell_type": "code",
      "metadata": {
        "id": "QDyK2JXUdWjD"
      },
      "source": [
        "#I know that this is my target variable. \n",
        "target = 'Rating'"
      ],
      "execution_count": null,
      "outputs": []
    },
    {
      "cell_type": "code",
      "metadata": {
        "id": "9iJ77santgfu",
        "outputId": "bf4dc0d2-59d5-4b12-a740-401d00454ee8",
        "colab": {
          "base_uri": "https://localhost:8080/"
        }
      },
      "source": [
        "reviews.info()"
      ],
      "execution_count": null,
      "outputs": [
        {
          "output_type": "stream",
          "text": [
            "<class 'pandas.core.frame.DataFrame'>\n",
            "RangeIndex: 10841 entries, 0 to 10840\n",
            "Data columns (total 13 columns):\n",
            " #   Column          Non-Null Count  Dtype  \n",
            "---  ------          --------------  -----  \n",
            " 0   App             10841 non-null  object \n",
            " 1   Category        10841 non-null  object \n",
            " 2   Rating          9367 non-null   float64\n",
            " 3   Reviews         10841 non-null  object \n",
            " 4   Size            10841 non-null  object \n",
            " 5   Installs        10841 non-null  object \n",
            " 6   Type            10840 non-null  object \n",
            " 7   Price           10841 non-null  object \n",
            " 8   Content Rating  10840 non-null  object \n",
            " 9   Genres          10841 non-null  object \n",
            " 10  Last Updated    10841 non-null  object \n",
            " 11  Current Ver     10833 non-null  object \n",
            " 12  Android Ver     10838 non-null  object \n",
            "dtypes: float64(1), object(12)\n",
            "memory usage: 1.1+ MB\n"
          ],
          "name": "stdout"
        }
      ]
    },
    {
      "cell_type": "code",
      "metadata": {
        "id": "c1FCZ4m1ugFa"
      },
      "source": [
        "#The application ID is not necessary for this predictive process. \n",
        "reviews['App'].value_counts\n",
        "\n",
        "#X is my dataframe of explanatory values.\n",
        "X = reviews.drop(columns='App')"
      ],
      "execution_count": null,
      "outputs": []
    },
    {
      "cell_type": "markdown",
      "metadata": {
        "id": "ym56PoXkpGra"
      },
      "source": [
        "#Data Processing\n",
        "\n",
        " Process the data (including transforming to the correct column type, removing missing values, creating dummy variables, and removing irrelevant variables)\n"
      ]
    },
    {
      "cell_type": "markdown",
      "metadata": {
        "id": "rJmRGyHcv1FH"
      },
      "source": [
        "##Iteration One"
      ]
    },
    {
      "cell_type": "markdown",
      "metadata": {
        "id": "af2Wuklb86lA"
      },
      "source": [
        "###Categories\n"
      ]
    },
    {
      "cell_type": "code",
      "metadata": {
        "id": "ILNNZxX3pLG1",
        "outputId": "a312b159-e6b4-4445-c74f-687cb1a097b8",
        "colab": {
          "base_uri": "https://localhost:8080/",
          "height": 84
        }
      },
      "source": [
        "X.columns"
      ],
      "execution_count": null,
      "outputs": [
        {
          "output_type": "execute_result",
          "data": {
            "text/plain": [
              "Index(['Category', 'Rating', 'Reviews', 'Size', 'Installs', 'Type', 'Price',\n",
              "       'Content Rating', 'Genres', 'Last Updated', 'Current Ver',\n",
              "       'Android Ver'],\n",
              "      dtype='object')"
            ]
          },
          "metadata": {
            "tags": []
          },
          "execution_count": 92
        }
      ]
    },
    {
      "cell_type": "code",
      "metadata": {
        "id": "e05aGFgVwNKY",
        "outputId": "7cff646d-407c-44f6-8e66-e3f8c3345d65",
        "colab": {
          "base_uri": "https://localhost:8080/",
          "height": 400
        }
      },
      "source": [
        "sns.catplot(x='Category', y=target, data=reviews)"
      ],
      "execution_count": null,
      "outputs": [
        {
          "output_type": "execute_result",
          "data": {
            "text/plain": [
              "<seaborn.axisgrid.FacetGrid at 0x7f49cea036a0>"
            ]
          },
          "metadata": {
            "tags": []
          },
          "execution_count": 93
        },
        {
          "output_type": "display_data",
          "data": {
            "image/png": "[encoded data removed]",
            "text/plain": [
              "<Figure size 360x360 with 1 Axes>"
            ]
          },
          "metadata": {
            "tags": [],
            "needs_background": "dark"
          }
        }
      ]
    },
    {
      "cell_type": "code",
      "metadata": {
        "id": "pf1hdr0_xyUZ",
        "outputId": "dc7b63b3-d756-4ec1-e8fb-7f17290c73bd",
        "colab": {
          "base_uri": "https://localhost:8080/",
          "height": 77
        }
      },
      "source": [
        "X[X['Rating'] > 5]\n",
        "#Drop anything greater than 5? The Content Rating is null. I should do something else.  "
      ],
      "execution_count": null,
      "outputs": [
        {
          "output_type": "execute_result",
          "data": {
            "text/html": [
              "<div>\n",
              "<style scoped>\n",
              "    .dataframe tbody tr th:only-of-type {\n",
              "        vertical-align: middle;\n",
              "    }\n",
              "\n",
              "    .dataframe tbody tr th {\n",
              "        vertical-align: top;\n",
              "    }\n",
              "\n",
              "    .dataframe thead th {\n",
              "        text-align: right;\n",
              "    }\n",
              "</style>\n",
              "<table border=\"1\" class=\"dataframe\">\n",
              "  <thead>\n",
              "    <tr style=\"text-align: right;\">\n",
              "      <th></th>\n",
              "      <th>Category</th>\n",
              "      <th>Rating</th>\n",
              "      <th>Reviews</th>\n",
              "      <th>Size</th>\n",
              "      <th>Installs</th>\n",
              "      <th>Type</th>\n",
              "      <th>Price</th>\n",
              "      <th>Content Rating</th>\n",
              "      <th>Genres</th>\n",
              "      <th>Last Updated</th>\n",
              "      <th>Current Ver</th>\n",
              "      <th>Android Ver</th>\n",
              "    </tr>\n",
              "  </thead>\n",
              "  <tbody>\n",
              "    <tr>\n",
              "      <th>10472</th>\n",
              "      <td>1.9</td>\n",
              "      <td>19.0</td>\n",
              "      <td>3.0M</td>\n",
              "      <td>1,000+</td>\n",
              "      <td>Free</td>\n",
              "      <td>0</td>\n",
              "      <td>Everyone</td>\n",
              "      <td>NaN</td>\n",
              "      <td>February 11, 2018</td>\n",
              "      <td>1.0.19</td>\n",
              "      <td>4.0 and up</td>\n",
              "      <td>NaN</td>\n",
              "    </tr>\n",
              "  </tbody>\n",
              "</table>\n",
              "</div>"
            ],
            "text/plain": [
              "      Category  Rating Reviews  ... Last Updated Current Ver Android Ver\n",
              "10472      1.9    19.0    3.0M  ...       1.0.19  4.0 and up         NaN\n",
              "\n",
              "[1 rows x 12 columns]"
            ]
          },
          "metadata": {
            "tags": []
          },
          "execution_count": 94
        }
      ]
    },
    {
      "cell_type": "markdown",
      "metadata": {
        "id": "QGDg9DnRztF1"
      },
      "source": [
        "####Missingness \n",
        "\n",
        "I'm flagging this here because I'm uncertain where this decision should be at in my processing. Should it be at the beginning? In the middle? Do I walk away and come back to it?"
      ]
    },
    {
      "cell_type": "code",
      "metadata": {
        "id": "Re6eA9tgyQZe"
      },
      "source": [
        "#A summary of missing variables represented as a percentage of the total missing content. \n",
        "def missingness_summary(df, print_log=False, sort='ascending'):\n",
        "  s = df.isnull().sum()*100/df.isnull().count()\n",
        "    \n",
        "  if sort.lower() == 'ascending':\n",
        "    s = s.sort_values(ascending=True)\n",
        "  elif sort.lower() == 'descending':\n",
        "    s = s.sort_values(ascending=False)  \n",
        "  if print_log: \n",
        "    print(s)\n",
        "  \n",
        "  return pd.Series(s)"
      ],
      "execution_count": null,
      "outputs": []
    },
    {
      "cell_type": "markdown",
      "metadata": {
        "id": "GVsHeTSKyhqg"
      },
      "source": [
        "My Target Variable is rating. I'll drop those from the dataset for now. I suppose if I had a good enough prediction model, I could predict the rating on these. Alas, I'm building my dataset right now so I'll remove them an dall other nulls. This'll ensure uniformity  in my decision making if/when I revisit the feature selection process. \n",
        "\n",
        "Maybe. I don't know. I could be wrong. "
      ]
    },
    {
      "cell_type": "code",
      "metadata": {
        "id": "e6t_eYbaySG7",
        "outputId": "7d405f70-bd05-40fd-ade5-d497773a4b64",
        "colab": {
          "base_uri": "https://localhost:8080/"
        }
      },
      "source": [
        "missingness_summary(X)"
      ],
      "execution_count": null,
      "outputs": [
        {
          "output_type": "execute_result",
          "data": {
            "text/plain": [
              "Category           0.000000\n",
              "Reviews            0.000000\n",
              "Size               0.000000\n",
              "Installs           0.000000\n",
              "Price              0.000000\n",
              "Genres             0.000000\n",
              "Last Updated       0.000000\n",
              "Type               0.009224\n",
              "Content Rating     0.009224\n",
              "Android Ver        0.027673\n",
              "Current Ver        0.073794\n",
              "Rating            13.596532\n",
              "dtype: float64"
            ]
          },
          "metadata": {
            "tags": []
          },
          "execution_count": 96
        }
      ]
    },
    {
      "cell_type": "code",
      "metadata": {
        "id": "R6mpLDFZzoPV"
      },
      "source": [
        "X = X.dropna()"
      ],
      "execution_count": null,
      "outputs": []
    },
    {
      "cell_type": "code",
      "metadata": {
        "id": "g8YBumB70Bz9",
        "outputId": "618dc915-60ed-49f3-e2fb-82929d9bbedb",
        "colab": {
          "base_uri": "https://localhost:8080/"
        }
      },
      "source": [
        "missingness_summary(X)"
      ],
      "execution_count": null,
      "outputs": [
        {
          "output_type": "execute_result",
          "data": {
            "text/plain": [
              "Category          0.0\n",
              "Rating            0.0\n",
              "Reviews           0.0\n",
              "Size              0.0\n",
              "Installs          0.0\n",
              "Type              0.0\n",
              "Price             0.0\n",
              "Content Rating    0.0\n",
              "Genres            0.0\n",
              "Last Updated      0.0\n",
              "Current Ver       0.0\n",
              "Android Ver       0.0\n",
              "dtype: float64"
            ]
          },
          "metadata": {
            "tags": []
          },
          "execution_count": 98
        }
      ]
    },
    {
      "cell_type": "markdown",
      "metadata": {
        "id": "BwRHIypG0Ezi"
      },
      "source": [
        "####Back to Categories."
      ]
    },
    {
      "cell_type": "code",
      "metadata": {
        "id": "JU195XP7vz5K",
        "outputId": "504376b5-cdd7-4813-d47f-7f8b01cf904f",
        "colab": {
          "base_uri": "https://localhost:8080/"
        }
      },
      "source": [
        "#Encode thingy that's in the first presentation. \n",
        "X['Category'].value_counts()"
      ],
      "execution_count": null,
      "outputs": [
        {
          "output_type": "execute_result",
          "data": {
            "text/plain": [
              "FAMILY                 1746\n",
              "GAME                   1097\n",
              "TOOLS                   733\n",
              "PRODUCTIVITY            351\n",
              "MEDICAL                 350\n",
              "COMMUNICATION           328\n",
              "FINANCE                 323\n",
              "SPORTS                  319\n",
              "PHOTOGRAPHY             317\n",
              "LIFESTYLE               314\n",
              "PERSONALIZATION         312\n",
              "BUSINESS                303\n",
              "HEALTH_AND_FITNESS      297\n",
              "SOCIAL                  259\n",
              "SHOPPING                238\n",
              "NEWS_AND_MAGAZINES      233\n",
              "TRAVEL_AND_LOCAL        226\n",
              "DATING                  195\n",
              "BOOKS_AND_REFERENCE     178\n",
              "VIDEO_PLAYERS           160\n",
              "EDUCATION               155\n",
              "ENTERTAINMENT           149\n",
              "MAPS_AND_NAVIGATION     124\n",
              "FOOD_AND_DRINK          109\n",
              "HOUSE_AND_HOME           76\n",
              "WEATHER                  75\n",
              "AUTO_AND_VEHICLES        73\n",
              "LIBRARIES_AND_DEMO       64\n",
              "ART_AND_DESIGN           61\n",
              "COMICS                   58\n",
              "PARENTING                50\n",
              "EVENTS                   45\n",
              "BEAUTY                   42\n",
              "Name: Category, dtype: int64"
            ]
          },
          "metadata": {
            "tags": []
          },
          "execution_count": 99
        }
      ]
    },
    {
      "cell_type": "code",
      "metadata": {
        "id": "Umvevg1Z0QX_",
        "outputId": "8816fba3-f4da-4a55-c572-eedcff7a8c18",
        "colab": {
          "base_uri": "https://localhost:8080/"
        }
      },
      "source": [
        "plt.style.use(['dark_background'])\n",
        "a4_dims = (20, 10)\n",
        "fig, ax = plt.subplots(figsize=a4_dims)\n",
        "sns.boxenplot(x='Category', y=target, data=X)\n",
        "plt.show()"
      ],
      "execution_count": null,
      "outputs": [
        {
          "output_type": "display_data",
          "data": {
            "image/png": "[encoded data removed]",
            "text/plain": [
              "<Figure size 1440x720 with 1 Axes>"
            ]
          },
          "metadata": {
            "tags": []
          }
        }
      ]
    },
    {
      "cell_type": "markdown",
      "metadata": {
        "id": "VAB6N9w43M3N"
      },
      "source": [
        "I have a lot of categories. Visually, there doesn't look like a big impact on ratings and categories. It looks likes on average, the categories run pretty close to 4.5 based on ratings.\n",
        "\n",
        "I'm going to go ahead and drop the categories feature. Maybe look at this with regards to ratings seperately should I be interested in - specifically - which categories get better ratings. "
      ]
    },
    {
      "cell_type": "code",
      "metadata": {
        "id": "crZIlK9D38dl"
      },
      "source": [
        "X = X.drop(columns='Category')"
      ],
      "execution_count": null,
      "outputs": []
    },
    {
      "cell_type": "markdown",
      "metadata": {
        "id": "1Sphr3C-4GDh"
      },
      "source": [
        "### Reviews"
      ]
    },
    {
      "cell_type": "code",
      "metadata": {
        "id": "7ndZY8fZ4MLr",
        "outputId": "5e700548-e7bd-47ac-8099-8ce035f9650a",
        "colab": {
          "base_uri": "https://localhost:8080/"
        }
      },
      "source": [
        "X.columns"
      ],
      "execution_count": null,
      "outputs": [
        {
          "output_type": "execute_result",
          "data": {
            "text/plain": [
              "Index(['Rating', 'Reviews', 'Size', 'Installs', 'Type', 'Price',\n",
              "       'Content Rating', 'Genres', 'Last Updated', 'Current Ver',\n",
              "       'Android Ver'],\n",
              "      dtype='object')"
            ]
          },
          "metadata": {
            "tags": []
          },
          "execution_count": 102
        }
      ]
    },
    {
      "cell_type": "code",
      "metadata": {
        "id": "kftHD9rv4jKQ",
        "outputId": "0c2aa189-de4f-4d92-9b41-76ebb114dfa9",
        "colab": {
          "base_uri": "https://localhost:8080/"
        }
      },
      "source": [
        "#how many numerical columns are in this dataframe?\n",
        "numerical_cols = [col_name for col_name in X.dtypes[X.dtypes.values == 'int64'].index \n",
        "                    if col_name not in [\"id\"] ]\n",
        "len(numerical_cols)"
      ],
      "execution_count": null,
      "outputs": [
        {
          "output_type": "execute_result",
          "data": {
            "text/plain": [
              "0"
            ]
          },
          "metadata": {
            "tags": []
          },
          "execution_count": 103
        }
      ]
    },
    {
      "cell_type": "markdown",
      "metadata": {
        "id": "WbgXxGhk7Izg"
      },
      "source": [
        "####Convert to numeric"
      ]
    },
    {
      "cell_type": "code",
      "metadata": {
        "id": "VUJ4T6ae7HUa"
      },
      "source": [
        "X['Reviews'] = pd.to_numeric(X['Reviews'], errors='coerce')"
      ],
      "execution_count": null,
      "outputs": []
    },
    {
      "cell_type": "code",
      "metadata": {
        "id": "tjQtAktm8aNO",
        "outputId": "2fd63ba4-a70e-4516-e4d0-ab873503c461",
        "colab": {
          "base_uri": "https://localhost:8080/"
        }
      },
      "source": [
        "missingness_summary(X)"
      ],
      "execution_count": null,
      "outputs": [
        {
          "output_type": "execute_result",
          "data": {
            "text/plain": [
              "Rating            0.0\n",
              "Reviews           0.0\n",
              "Size              0.0\n",
              "Installs          0.0\n",
              "Type              0.0\n",
              "Price             0.0\n",
              "Content Rating    0.0\n",
              "Genres            0.0\n",
              "Last Updated      0.0\n",
              "Current Ver       0.0\n",
              "Android Ver       0.0\n",
              "dtype: float64"
            ]
          },
          "metadata": {
            "tags": []
          },
          "execution_count": 105
        }
      ]
    },
    {
      "cell_type": "markdown",
      "metadata": {
        "id": "0hU-2_7w9cQS"
      },
      "source": [
        "### Size\n",
        "\n",
        "I ran up a bit and took a look at the head for size and installs. It looks like they're a lot like the reviews were - they're numeric with an extra string in them. \n",
        "\n",
        "Size has an \"M\" to denote Milion, what else might it have? \n",
        "Installs has a plus sign to denote that it's over a certain amount. How do I find all the strings that might be in these datacolumns?\n",
        "\n",
        "Later on I realized that size has to be handled differently from installs. That's alright. "
      ]
    },
    {
      "cell_type": "code",
      "metadata": {
        "id": "ypdIMKLL_QOO",
        "outputId": "2b6f4e3b-7677-4db1-958a-bb19247bf4e2",
        "colab": {
          "base_uri": "https://localhost:8080/",
          "height": 402
        }
      },
      "source": [
        "X[X['Size'].str.contains('M', regex=False)]"
      ],
      "execution_count": null,
      "outputs": [
        {
          "output_type": "execute_result",
          "data": {
            "text/html": [
              "<div>\n",
              "<style scoped>\n",
              "    .dataframe tbody tr th:only-of-type {\n",
              "        vertical-align: middle;\n",
              "    }\n",
              "\n",
              "    .dataframe tbody tr th {\n",
              "        vertical-align: top;\n",
              "    }\n",
              "\n",
              "    .dataframe thead th {\n",
              "        text-align: right;\n",
              "    }\n",
              "</style>\n",
              "<table border=\"1\" class=\"dataframe\">\n",
              "  <thead>\n",
              "    <tr style=\"text-align: right;\">\n",
              "      <th></th>\n",
              "      <th>Rating</th>\n",
              "      <th>Reviews</th>\n",
              "      <th>Size</th>\n",
              "      <th>Installs</th>\n",
              "      <th>Type</th>\n",
              "      <th>Price</th>\n",
              "      <th>Content Rating</th>\n",
              "      <th>Genres</th>\n",
              "      <th>Last Updated</th>\n",
              "      <th>Current Ver</th>\n",
              "      <th>Android Ver</th>\n",
              "    </tr>\n",
              "  </thead>\n",
              "  <tbody>\n",
              "    <tr>\n",
              "      <th>0</th>\n",
              "      <td>4.1</td>\n",
              "      <td>159</td>\n",
              "      <td>19M</td>\n",
              "      <td>10,000+</td>\n",
              "      <td>Free</td>\n",
              "      <td>0</td>\n",
              "      <td>Everyone</td>\n",
              "      <td>Art &amp; Design</td>\n",
              "      <td>January 7, 2018</td>\n",
              "      <td>1.0.0</td>\n",
              "      <td>4.0.3 and up</td>\n",
              "    </tr>\n",
              "    <tr>\n",
              "      <th>1</th>\n",
              "      <td>3.9</td>\n",
              "      <td>967</td>\n",
              "      <td>14M</td>\n",
              "      <td>500,000+</td>\n",
              "      <td>Free</td>\n",
              "      <td>0</td>\n",
              "      <td>Everyone</td>\n",
              "      <td>Art &amp; Design;Pretend Play</td>\n",
              "      <td>January 15, 2018</td>\n",
              "      <td>2.0.0</td>\n",
              "      <td>4.0.3 and up</td>\n",
              "    </tr>\n",
              "    <tr>\n",
              "      <th>2</th>\n",
              "      <td>4.7</td>\n",
              "      <td>87510</td>\n",
              "      <td>8.7M</td>\n",
              "      <td>5,000,000+</td>\n",
              "      <td>Free</td>\n",
              "      <td>0</td>\n",
              "      <td>Everyone</td>\n",
              "      <td>Art &amp; Design</td>\n",
              "      <td>August 1, 2018</td>\n",
              "      <td>1.2.4</td>\n",
              "      <td>4.0.3 and up</td>\n",
              "    </tr>\n",
              "    <tr>\n",
              "      <th>3</th>\n",
              "      <td>4.5</td>\n",
              "      <td>215644</td>\n",
              "      <td>25M</td>\n",
              "      <td>50,000,000+</td>\n",
              "      <td>Free</td>\n",
              "      <td>0</td>\n",
              "      <td>Teen</td>\n",
              "      <td>Art &amp; Design</td>\n",
              "      <td>June 8, 2018</td>\n",
              "      <td>Varies with device</td>\n",
              "      <td>4.2 and up</td>\n",
              "    </tr>\n",
              "    <tr>\n",
              "      <th>4</th>\n",
              "      <td>4.3</td>\n",
              "      <td>967</td>\n",
              "      <td>2.8M</td>\n",
              "      <td>100,000+</td>\n",
              "      <td>Free</td>\n",
              "      <td>0</td>\n",
              "      <td>Everyone</td>\n",
              "      <td>Art &amp; Design;Creativity</td>\n",
              "      <td>June 20, 2018</td>\n",
              "      <td>1.1</td>\n",
              "      <td>4.4 and up</td>\n",
              "    </tr>\n",
              "    <tr>\n",
              "      <th>...</th>\n",
              "      <td>...</td>\n",
              "      <td>...</td>\n",
              "      <td>...</td>\n",
              "      <td>...</td>\n",
              "      <td>...</td>\n",
              "      <td>...</td>\n",
              "      <td>...</td>\n",
              "      <td>...</td>\n",
              "      <td>...</td>\n",
              "      <td>...</td>\n",
              "      <td>...</td>\n",
              "    </tr>\n",
              "    <tr>\n",
              "      <th>10830</th>\n",
              "      <td>3.8</td>\n",
              "      <td>881</td>\n",
              "      <td>2.3M</td>\n",
              "      <td>100,000+</td>\n",
              "      <td>Free</td>\n",
              "      <td>0</td>\n",
              "      <td>Everyone</td>\n",
              "      <td>News &amp; Magazines</td>\n",
              "      <td>January 20, 2014</td>\n",
              "      <td>1.5</td>\n",
              "      <td>1.6 and up</td>\n",
              "    </tr>\n",
              "    <tr>\n",
              "      <th>10834</th>\n",
              "      <td>4.0</td>\n",
              "      <td>7</td>\n",
              "      <td>2.6M</td>\n",
              "      <td>500+</td>\n",
              "      <td>Free</td>\n",
              "      <td>0</td>\n",
              "      <td>Everyone</td>\n",
              "      <td>Education</td>\n",
              "      <td>June 18, 2017</td>\n",
              "      <td>1.0.0</td>\n",
              "      <td>4.1 and up</td>\n",
              "    </tr>\n",
              "    <tr>\n",
              "      <th>10836</th>\n",
              "      <td>4.5</td>\n",
              "      <td>38</td>\n",
              "      <td>53M</td>\n",
              "      <td>5,000+</td>\n",
              "      <td>Free</td>\n",
              "      <td>0</td>\n",
              "      <td>Everyone</td>\n",
              "      <td>Education</td>\n",
              "      <td>July 25, 2017</td>\n",
              "      <td>1.48</td>\n",
              "      <td>4.1 and up</td>\n",
              "    </tr>\n",
              "    <tr>\n",
              "      <th>10837</th>\n",
              "      <td>5.0</td>\n",
              "      <td>4</td>\n",
              "      <td>3.6M</td>\n",
              "      <td>100+</td>\n",
              "      <td>Free</td>\n",
              "      <td>0</td>\n",
              "      <td>Everyone</td>\n",
              "      <td>Education</td>\n",
              "      <td>July 6, 2018</td>\n",
              "      <td>1.0</td>\n",
              "      <td>4.1 and up</td>\n",
              "    </tr>\n",
              "    <tr>\n",
              "      <th>10840</th>\n",
              "      <td>4.5</td>\n",
              "      <td>398307</td>\n",
              "      <td>19M</td>\n",
              "      <td>10,000,000+</td>\n",
              "      <td>Free</td>\n",
              "      <td>0</td>\n",
              "      <td>Everyone</td>\n",
              "      <td>Lifestyle</td>\n",
              "      <td>July 25, 2018</td>\n",
              "      <td>Varies with device</td>\n",
              "      <td>Varies with device</td>\n",
              "    </tr>\n",
              "  </tbody>\n",
              "</table>\n",
              "<p>7466 rows × 11 columns</p>\n",
              "</div>"
            ],
            "text/plain": [
              "       Rating  Reviews  ...         Current Ver         Android Ver\n",
              "0         4.1      159  ...               1.0.0        4.0.3 and up\n",
              "1         3.9      967  ...               2.0.0        4.0.3 and up\n",
              "2         4.7    87510  ...               1.2.4        4.0.3 and up\n",
              "3         4.5   215644  ...  Varies with device          4.2 and up\n",
              "4         4.3      967  ...                 1.1          4.4 and up\n",
              "...       ...      ...  ...                 ...                 ...\n",
              "10830     3.8      881  ...                 1.5          1.6 and up\n",
              "10834     4.0        7  ...               1.0.0          4.1 and up\n",
              "10836     4.5       38  ...                1.48          4.1 and up\n",
              "10837     5.0        4  ...                 1.0          4.1 and up\n",
              "10840     4.5   398307  ...  Varies with device  Varies with device\n",
              "\n",
              "[7466 rows x 11 columns]"
            ]
          },
          "metadata": {
            "tags": []
          },
          "execution_count": 106
        }
      ]
    },
    {
      "cell_type": "code",
      "metadata": {
        "id": "6tOjtjM498BO",
        "outputId": "37d3ed29-eca6-4bad-cfd5-eeb6264a7b72",
        "colab": {
          "base_uri": "https://localhost:8080/",
          "height": 402
        }
      },
      "source": [
        "\n",
        "X[~X['Size'].str.contains('M', regex=False)]"
      ],
      "execution_count": null,
      "outputs": [
        {
          "output_type": "execute_result",
          "data": {
            "text/html": [
              "<div>\n",
              "<style scoped>\n",
              "    .dataframe tbody tr th:only-of-type {\n",
              "        vertical-align: middle;\n",
              "    }\n",
              "\n",
              "    .dataframe tbody tr th {\n",
              "        vertical-align: top;\n",
              "    }\n",
              "\n",
              "    .dataframe thead th {\n",
              "        text-align: right;\n",
              "    }\n",
              "</style>\n",
              "<table border=\"1\" class=\"dataframe\">\n",
              "  <thead>\n",
              "    <tr style=\"text-align: right;\">\n",
              "      <th></th>\n",
              "      <th>Rating</th>\n",
              "      <th>Reviews</th>\n",
              "      <th>Size</th>\n",
              "      <th>Installs</th>\n",
              "      <th>Type</th>\n",
              "      <th>Price</th>\n",
              "      <th>Content Rating</th>\n",
              "      <th>Genres</th>\n",
              "      <th>Last Updated</th>\n",
              "      <th>Current Ver</th>\n",
              "      <th>Android Ver</th>\n",
              "    </tr>\n",
              "  </thead>\n",
              "  <tbody>\n",
              "    <tr>\n",
              "      <th>37</th>\n",
              "      <td>4.1</td>\n",
              "      <td>36639</td>\n",
              "      <td>Varies with device</td>\n",
              "      <td>5,000,000+</td>\n",
              "      <td>Free</td>\n",
              "      <td>0</td>\n",
              "      <td>Everyone</td>\n",
              "      <td>Art &amp; Design</td>\n",
              "      <td>July 14, 2018</td>\n",
              "      <td>Varies with device</td>\n",
              "      <td>2.3.3 and up</td>\n",
              "    </tr>\n",
              "    <tr>\n",
              "      <th>42</th>\n",
              "      <td>4.4</td>\n",
              "      <td>295221</td>\n",
              "      <td>Varies with device</td>\n",
              "      <td>10,000,000+</td>\n",
              "      <td>Free</td>\n",
              "      <td>0</td>\n",
              "      <td>Everyone</td>\n",
              "      <td>Art &amp; Design</td>\n",
              "      <td>July 30, 2018</td>\n",
              "      <td>Varies with device</td>\n",
              "      <td>Varies with device</td>\n",
              "    </tr>\n",
              "    <tr>\n",
              "      <th>52</th>\n",
              "      <td>4.6</td>\n",
              "      <td>17057</td>\n",
              "      <td>Varies with device</td>\n",
              "      <td>1,000,000+</td>\n",
              "      <td>Free</td>\n",
              "      <td>0</td>\n",
              "      <td>Everyone</td>\n",
              "      <td>Auto &amp; Vehicles</td>\n",
              "      <td>July 30, 2018</td>\n",
              "      <td>Varies with device</td>\n",
              "      <td>Varies with device</td>\n",
              "    </tr>\n",
              "    <tr>\n",
              "      <th>58</th>\n",
              "      <td>4.0</td>\n",
              "      <td>1403</td>\n",
              "      <td>201k</td>\n",
              "      <td>100,000+</td>\n",
              "      <td>Free</td>\n",
              "      <td>0</td>\n",
              "      <td>Everyone</td>\n",
              "      <td>Auto &amp; Vehicles</td>\n",
              "      <td>August 26, 2014</td>\n",
              "      <td>1.0.1</td>\n",
              "      <td>2.2 and up</td>\n",
              "    </tr>\n",
              "    <tr>\n",
              "      <th>67</th>\n",
              "      <td>4.3</td>\n",
              "      <td>40211</td>\n",
              "      <td>Varies with device</td>\n",
              "      <td>5,000,000+</td>\n",
              "      <td>Free</td>\n",
              "      <td>0</td>\n",
              "      <td>Everyone</td>\n",
              "      <td>Auto &amp; Vehicles</td>\n",
              "      <td>July 30, 2018</td>\n",
              "      <td>Varies with device</td>\n",
              "      <td>Varies with device</td>\n",
              "    </tr>\n",
              "    <tr>\n",
              "      <th>...</th>\n",
              "      <td>...</td>\n",
              "      <td>...</td>\n",
              "      <td>...</td>\n",
              "      <td>...</td>\n",
              "      <td>...</td>\n",
              "      <td>...</td>\n",
              "      <td>...</td>\n",
              "      <td>...</td>\n",
              "      <td>...</td>\n",
              "      <td>...</td>\n",
              "      <td>...</td>\n",
              "    </tr>\n",
              "    <tr>\n",
              "      <th>10765</th>\n",
              "      <td>3.4</td>\n",
              "      <td>622</td>\n",
              "      <td>Varies with device</td>\n",
              "      <td>100,000+</td>\n",
              "      <td>Free</td>\n",
              "      <td>0</td>\n",
              "      <td>Mature 17+</td>\n",
              "      <td>Social</td>\n",
              "      <td>May 23, 2018</td>\n",
              "      <td>Varies with device</td>\n",
              "      <td>Varies with device</td>\n",
              "    </tr>\n",
              "    <tr>\n",
              "      <th>10826</th>\n",
              "      <td>4.0</td>\n",
              "      <td>88486</td>\n",
              "      <td>Varies with device</td>\n",
              "      <td>5,000,000+</td>\n",
              "      <td>Free</td>\n",
              "      <td>0</td>\n",
              "      <td>Mature 17+</td>\n",
              "      <td>Social</td>\n",
              "      <td>March 23, 2018</td>\n",
              "      <td>Varies with device</td>\n",
              "      <td>Varies with device</td>\n",
              "    </tr>\n",
              "    <tr>\n",
              "      <th>10832</th>\n",
              "      <td>3.8</td>\n",
              "      <td>1195</td>\n",
              "      <td>582k</td>\n",
              "      <td>100,000+</td>\n",
              "      <td>Free</td>\n",
              "      <td>0</td>\n",
              "      <td>Everyone</td>\n",
              "      <td>Weather</td>\n",
              "      <td>February 16, 2014</td>\n",
              "      <td>6.0</td>\n",
              "      <td>2.1 and up</td>\n",
              "    </tr>\n",
              "    <tr>\n",
              "      <th>10833</th>\n",
              "      <td>4.8</td>\n",
              "      <td>44</td>\n",
              "      <td>619k</td>\n",
              "      <td>1,000+</td>\n",
              "      <td>Free</td>\n",
              "      <td>0</td>\n",
              "      <td>Everyone</td>\n",
              "      <td>Books &amp; Reference</td>\n",
              "      <td>March 23, 2014</td>\n",
              "      <td>0.8</td>\n",
              "      <td>2.2 and up</td>\n",
              "    </tr>\n",
              "    <tr>\n",
              "      <th>10839</th>\n",
              "      <td>4.5</td>\n",
              "      <td>114</td>\n",
              "      <td>Varies with device</td>\n",
              "      <td>1,000+</td>\n",
              "      <td>Free</td>\n",
              "      <td>0</td>\n",
              "      <td>Mature 17+</td>\n",
              "      <td>Books &amp; Reference</td>\n",
              "      <td>January 19, 2015</td>\n",
              "      <td>Varies with device</td>\n",
              "      <td>Varies with device</td>\n",
              "    </tr>\n",
              "  </tbody>\n",
              "</table>\n",
              "<p>1894 rows × 11 columns</p>\n",
              "</div>"
            ],
            "text/plain": [
              "       Rating  Reviews  ...         Current Ver         Android Ver\n",
              "37        4.1    36639  ...  Varies with device        2.3.3 and up\n",
              "42        4.4   295221  ...  Varies with device  Varies with device\n",
              "52        4.6    17057  ...  Varies with device  Varies with device\n",
              "58        4.0     1403  ...               1.0.1          2.2 and up\n",
              "67        4.3    40211  ...  Varies with device  Varies with device\n",
              "...       ...      ...  ...                 ...                 ...\n",
              "10765     3.4      622  ...  Varies with device  Varies with device\n",
              "10826     4.0    88486  ...  Varies with device  Varies with device\n",
              "10832     3.8     1195  ...                 6.0          2.1 and up\n",
              "10833     4.8       44  ...                 0.8          2.2 and up\n",
              "10839     4.5      114  ...  Varies with device  Varies with device\n",
              "\n",
              "[1894 rows x 11 columns]"
            ]
          },
          "metadata": {
            "tags": []
          },
          "execution_count": 107
        }
      ]
    },
    {
      "cell_type": "markdown",
      "metadata": {
        "id": "eJB5KdQY_dh5"
      },
      "source": [
        "What does these values mean? k - I know that means something. Now I can see that size, current ver. and Andrid Ver all have these same speculators on them. Do they relate to the target variable? They might. I would/could hypothesize that the type of technology that is available could impact/influence the rating. \n",
        "\n",
        "I mean, an application might have better performance on a better utility. the varies with device - versions might have better reviews than the other ones because they're working with the hardware that's avaible and they're more accessible. \n",
        "\n",
        "I have to leave that thought for right now. and go back to size. does size relate to the rating?"
      ]
    },
    {
      "cell_type": "code",
      "metadata": {
        "id": "Ct2SKNVJ_c3d",
        "outputId": "714c7be1-2809-44c1-f8bb-97f104a1b1a2",
        "colab": {
          "base_uri": "https://localhost:8080/",
          "height": 296
        }
      },
      "source": [
        "sns.scatterplot(x=\"Size\", y=target, data=X)"
      ],
      "execution_count": null,
      "outputs": [
        {
          "output_type": "execute_result",
          "data": {
            "text/plain": [
              "<matplotlib.axes._subplots.AxesSubplot at 0x7f49cdeb26d8>"
            ]
          },
          "metadata": {
            "tags": []
          },
          "execution_count": 108
        },
        {
          "output_type": "display_data",
          "data": {
            "image/png": "[encoded data removed]",
            "text/plain": [
              "<Figure size 432x288 with 1 Axes>"
            ]
          },
          "metadata": {
            "tags": []
          }
        }
      ]
    },
    {
      "cell_type": "markdown",
      "metadata": {
        "id": "y4twYnUnBDXS"
      },
      "source": [
        "Yeesh! Would you look at that? They're all over the place! Okay. I have to clean the size variable and it's not going to be quick and easy. \n",
        "\n",
        "Where and how do I start? What's a good number to represent the varied data?\n",
        "Maybe I should split them into categories. \n",
        "Dynamic (varies with device)\n",
        "Small (k)\n",
        "Medium (m)"
      ]
    },
    {
      "cell_type": "code",
      "metadata": {
        "id": "it2TGT7-BCxM",
        "outputId": "f442cf7f-2ea3-4a86-ef5f-2b87f0747ed2",
        "colab": {
          "base_uri": "https://localhost:8080/",
          "height": 47
        }
      },
      "source": [
        "X[~X['Size'].str.contains('M', regex=False) & ~X['Size'].str.contains('V', regex=False) & ~X['Size'].str.contains('k', regex=False)]"
      ],
      "execution_count": null,
      "outputs": [
        {
          "output_type": "execute_result",
          "data": {
            "text/html": [
              "<div>\n",
              "<style scoped>\n",
              "    .dataframe tbody tr th:only-of-type {\n",
              "        vertical-align: middle;\n",
              "    }\n",
              "\n",
              "    .dataframe tbody tr th {\n",
              "        vertical-align: top;\n",
              "    }\n",
              "\n",
              "    .dataframe thead th {\n",
              "        text-align: right;\n",
              "    }\n",
              "</style>\n",
              "<table border=\"1\" class=\"dataframe\">\n",
              "  <thead>\n",
              "    <tr style=\"text-align: right;\">\n",
              "      <th></th>\n",
              "      <th>Rating</th>\n",
              "      <th>Reviews</th>\n",
              "      <th>Size</th>\n",
              "      <th>Installs</th>\n",
              "      <th>Type</th>\n",
              "      <th>Price</th>\n",
              "      <th>Content Rating</th>\n",
              "      <th>Genres</th>\n",
              "      <th>Last Updated</th>\n",
              "      <th>Current Ver</th>\n",
              "      <th>Android Ver</th>\n",
              "    </tr>\n",
              "  </thead>\n",
              "  <tbody>\n",
              "  </tbody>\n",
              "</table>\n",
              "</div>"
            ],
            "text/plain": [
              "Empty DataFrame\n",
              "Columns: [Rating, Reviews, Size, Installs, Type, Price, Content Rating, Genres, Last Updated, Current Ver, Android Ver]\n",
              "Index: []"
            ]
          },
          "metadata": {
            "tags": []
          },
          "execution_count": 109
        }
      ]
    },
    {
      "cell_type": "code",
      "metadata": {
        "id": "1s04shipC5fi",
        "outputId": "5853d9de-bd43-48a6-d2d0-0c068f7ddf9d",
        "colab": {
          "base_uri": "https://localhost:8080/",
          "height": 195
        }
      },
      "source": [
        "X.loc[X['Size'].str.contains('M', regex=False), 'Size'] = 'M'\n",
        "X.head()"
      ],
      "execution_count": null,
      "outputs": [
        {
          "output_type": "execute_result",
          "data": {
            "text/html": [
              "<div>\n",
              "<style scoped>\n",
              "    .dataframe tbody tr th:only-of-type {\n",
              "        vertical-align: middle;\n",
              "    }\n",
              "\n",
              "    .dataframe tbody tr th {\n",
              "        vertical-align: top;\n",
              "    }\n",
              "\n",
              "    .dataframe thead th {\n",
              "        text-align: right;\n",
              "    }\n",
              "</style>\n",
              "<table border=\"1\" class=\"dataframe\">\n",
              "  <thead>\n",
              "    <tr style=\"text-align: right;\">\n",
              "      <th></th>\n",
              "      <th>Rating</th>\n",
              "      <th>Reviews</th>\n",
              "      <th>Size</th>\n",
              "      <th>Installs</th>\n",
              "      <th>Type</th>\n",
              "      <th>Price</th>\n",
              "      <th>Content Rating</th>\n",
              "      <th>Genres</th>\n",
              "      <th>Last Updated</th>\n",
              "      <th>Current Ver</th>\n",
              "      <th>Android Ver</th>\n",
              "    </tr>\n",
              "  </thead>\n",
              "  <tbody>\n",
              "    <tr>\n",
              "      <th>0</th>\n",
              "      <td>4.1</td>\n",
              "      <td>159</td>\n",
              "      <td>M</td>\n",
              "      <td>10,000+</td>\n",
              "      <td>Free</td>\n",
              "      <td>0</td>\n",
              "      <td>Everyone</td>\n",
              "      <td>Art &amp; Design</td>\n",
              "      <td>January 7, 2018</td>\n",
              "      <td>1.0.0</td>\n",
              "      <td>4.0.3 and up</td>\n",
              "    </tr>\n",
              "    <tr>\n",
              "      <th>1</th>\n",
              "      <td>3.9</td>\n",
              "      <td>967</td>\n",
              "      <td>M</td>\n",
              "      <td>500,000+</td>\n",
              "      <td>Free</td>\n",
              "      <td>0</td>\n",
              "      <td>Everyone</td>\n",
              "      <td>Art &amp; Design;Pretend Play</td>\n",
              "      <td>January 15, 2018</td>\n",
              "      <td>2.0.0</td>\n",
              "      <td>4.0.3 and up</td>\n",
              "    </tr>\n",
              "    <tr>\n",
              "      <th>2</th>\n",
              "      <td>4.7</td>\n",
              "      <td>87510</td>\n",
              "      <td>M</td>\n",
              "      <td>5,000,000+</td>\n",
              "      <td>Free</td>\n",
              "      <td>0</td>\n",
              "      <td>Everyone</td>\n",
              "      <td>Art &amp; Design</td>\n",
              "      <td>August 1, 2018</td>\n",
              "      <td>1.2.4</td>\n",
              "      <td>4.0.3 and up</td>\n",
              "    </tr>\n",
              "    <tr>\n",
              "      <th>3</th>\n",
              "      <td>4.5</td>\n",
              "      <td>215644</td>\n",
              "      <td>M</td>\n",
              "      <td>50,000,000+</td>\n",
              "      <td>Free</td>\n",
              "      <td>0</td>\n",
              "      <td>Teen</td>\n",
              "      <td>Art &amp; Design</td>\n",
              "      <td>June 8, 2018</td>\n",
              "      <td>Varies with device</td>\n",
              "      <td>4.2 and up</td>\n",
              "    </tr>\n",
              "    <tr>\n",
              "      <th>4</th>\n",
              "      <td>4.3</td>\n",
              "      <td>967</td>\n",
              "      <td>M</td>\n",
              "      <td>100,000+</td>\n",
              "      <td>Free</td>\n",
              "      <td>0</td>\n",
              "      <td>Everyone</td>\n",
              "      <td>Art &amp; Design;Creativity</td>\n",
              "      <td>June 20, 2018</td>\n",
              "      <td>1.1</td>\n",
              "      <td>4.4 and up</td>\n",
              "    </tr>\n",
              "  </tbody>\n",
              "</table>\n",
              "</div>"
            ],
            "text/plain": [
              "   Rating  Reviews Size  ...      Last Updated         Current Ver   Android Ver\n",
              "0     4.1      159    M  ...   January 7, 2018               1.0.0  4.0.3 and up\n",
              "1     3.9      967    M  ...  January 15, 2018               2.0.0  4.0.3 and up\n",
              "2     4.7    87510    M  ...    August 1, 2018               1.2.4  4.0.3 and up\n",
              "3     4.5   215644    M  ...      June 8, 2018  Varies with device    4.2 and up\n",
              "4     4.3      967    M  ...     June 20, 2018                 1.1    4.4 and up\n",
              "\n",
              "[5 rows x 11 columns]"
            ]
          },
          "metadata": {
            "tags": []
          },
          "execution_count": 110
        }
      ]
    },
    {
      "cell_type": "code",
      "metadata": {
        "id": "0xCrtFu9E48Z",
        "outputId": "d1d995dd-6823-4705-872c-7d85f5bf4da7",
        "colab": {
          "base_uri": "https://localhost:8080/",
          "height": 402
        }
      },
      "source": [
        "X.loc[X['Size'].str.contains('k', regex=False), 'Size'] = 'K' \n",
        "X.loc[X['Size'].str.contains('K', regex=False)]"
      ],
      "execution_count": null,
      "outputs": [
        {
          "output_type": "execute_result",
          "data": {
            "text/html": [
              "<div>\n",
              "<style scoped>\n",
              "    .dataframe tbody tr th:only-of-type {\n",
              "        vertical-align: middle;\n",
              "    }\n",
              "\n",
              "    .dataframe tbody tr th {\n",
              "        vertical-align: top;\n",
              "    }\n",
              "\n",
              "    .dataframe thead th {\n",
              "        text-align: right;\n",
              "    }\n",
              "</style>\n",
              "<table border=\"1\" class=\"dataframe\">\n",
              "  <thead>\n",
              "    <tr style=\"text-align: right;\">\n",
              "      <th></th>\n",
              "      <th>Rating</th>\n",
              "      <th>Reviews</th>\n",
              "      <th>Size</th>\n",
              "      <th>Installs</th>\n",
              "      <th>Type</th>\n",
              "      <th>Price</th>\n",
              "      <th>Content Rating</th>\n",
              "      <th>Genres</th>\n",
              "      <th>Last Updated</th>\n",
              "      <th>Current Ver</th>\n",
              "      <th>Android Ver</th>\n",
              "    </tr>\n",
              "  </thead>\n",
              "  <tbody>\n",
              "    <tr>\n",
              "      <th>58</th>\n",
              "      <td>4.0</td>\n",
              "      <td>1403</td>\n",
              "      <td>K</td>\n",
              "      <td>100,000+</td>\n",
              "      <td>Free</td>\n",
              "      <td>0</td>\n",
              "      <td>Everyone</td>\n",
              "      <td>Auto &amp; Vehicles</td>\n",
              "      <td>August 26, 2014</td>\n",
              "      <td>1.0.1</td>\n",
              "      <td>2.2 and up</td>\n",
              "    </tr>\n",
              "    <tr>\n",
              "      <th>209</th>\n",
              "      <td>3.1</td>\n",
              "      <td>4034</td>\n",
              "      <td>K</td>\n",
              "      <td>100,000+</td>\n",
              "      <td>Free</td>\n",
              "      <td>0</td>\n",
              "      <td>Everyone</td>\n",
              "      <td>Business</td>\n",
              "      <td>September 11, 2015</td>\n",
              "      <td>3.0.1.11 (Build 311)</td>\n",
              "      <td>2.2 and up</td>\n",
              "    </tr>\n",
              "    <tr>\n",
              "      <th>384</th>\n",
              "      <td>4.0</td>\n",
              "      <td>122498</td>\n",
              "      <td>K</td>\n",
              "      <td>10,000,000+</td>\n",
              "      <td>Free</td>\n",
              "      <td>0</td>\n",
              "      <td>Everyone</td>\n",
              "      <td>Communication</td>\n",
              "      <td>September 2, 2015</td>\n",
              "      <td>0.1.100944346</td>\n",
              "      <td>4.0.3 and up</td>\n",
              "    </tr>\n",
              "    <tr>\n",
              "      <th>450</th>\n",
              "      <td>4.0</td>\n",
              "      <td>9498</td>\n",
              "      <td>K</td>\n",
              "      <td>1,000,000+</td>\n",
              "      <td>Free</td>\n",
              "      <td>0</td>\n",
              "      <td>Everyone</td>\n",
              "      <td>Communication</td>\n",
              "      <td>June 7, 2016</td>\n",
              "      <td>5.28.0</td>\n",
              "      <td>2.3 and up</td>\n",
              "    </tr>\n",
              "    <tr>\n",
              "      <th>458</th>\n",
              "      <td>4.2</td>\n",
              "      <td>124346</td>\n",
              "      <td>K</td>\n",
              "      <td>10,000,000+</td>\n",
              "      <td>Free</td>\n",
              "      <td>0</td>\n",
              "      <td>Everyone</td>\n",
              "      <td>Communication</td>\n",
              "      <td>July 6, 2014</td>\n",
              "      <td>2.8</td>\n",
              "      <td>2.0 and up</td>\n",
              "    </tr>\n",
              "    <tr>\n",
              "      <th>...</th>\n",
              "      <td>...</td>\n",
              "      <td>...</td>\n",
              "      <td>...</td>\n",
              "      <td>...</td>\n",
              "      <td>...</td>\n",
              "      <td>...</td>\n",
              "      <td>...</td>\n",
              "      <td>...</td>\n",
              "      <td>...</td>\n",
              "      <td>...</td>\n",
              "      <td>...</td>\n",
              "    </tr>\n",
              "    <tr>\n",
              "      <th>10732</th>\n",
              "      <td>4.3</td>\n",
              "      <td>3268</td>\n",
              "      <td>K</td>\n",
              "      <td>100,000+</td>\n",
              "      <td>Free</td>\n",
              "      <td>0</td>\n",
              "      <td>Everyone</td>\n",
              "      <td>Tools</td>\n",
              "      <td>December 16, 2017</td>\n",
              "      <td>6.6</td>\n",
              "      <td>2.0 and up</td>\n",
              "    </tr>\n",
              "    <tr>\n",
              "      <th>10755</th>\n",
              "      <td>4.3</td>\n",
              "      <td>334</td>\n",
              "      <td>K</td>\n",
              "      <td>10,000+</td>\n",
              "      <td>Free</td>\n",
              "      <td>0</td>\n",
              "      <td>Everyone</td>\n",
              "      <td>Maps &amp; Navigation</td>\n",
              "      <td>August 23, 2016</td>\n",
              "      <td>1.3</td>\n",
              "      <td>2.3.3 and up</td>\n",
              "    </tr>\n",
              "    <tr>\n",
              "      <th>10763</th>\n",
              "      <td>4.5</td>\n",
              "      <td>922</td>\n",
              "      <td>K</td>\n",
              "      <td>50,000+</td>\n",
              "      <td>Free</td>\n",
              "      <td>0</td>\n",
              "      <td>Everyone</td>\n",
              "      <td>Entertainment</td>\n",
              "      <td>September 20, 2014</td>\n",
              "      <td>1.1</td>\n",
              "      <td>1.6 and up</td>\n",
              "    </tr>\n",
              "    <tr>\n",
              "      <th>10832</th>\n",
              "      <td>3.8</td>\n",
              "      <td>1195</td>\n",
              "      <td>K</td>\n",
              "      <td>100,000+</td>\n",
              "      <td>Free</td>\n",
              "      <td>0</td>\n",
              "      <td>Everyone</td>\n",
              "      <td>Weather</td>\n",
              "      <td>February 16, 2014</td>\n",
              "      <td>6.0</td>\n",
              "      <td>2.1 and up</td>\n",
              "    </tr>\n",
              "    <tr>\n",
              "      <th>10833</th>\n",
              "      <td>4.8</td>\n",
              "      <td>44</td>\n",
              "      <td>K</td>\n",
              "      <td>1,000+</td>\n",
              "      <td>Free</td>\n",
              "      <td>0</td>\n",
              "      <td>Everyone</td>\n",
              "      <td>Books &amp; Reference</td>\n",
              "      <td>March 23, 2014</td>\n",
              "      <td>0.8</td>\n",
              "      <td>2.2 and up</td>\n",
              "    </tr>\n",
              "  </tbody>\n",
              "</table>\n",
              "<p>257 rows × 11 columns</p>\n",
              "</div>"
            ],
            "text/plain": [
              "       Rating  Reviews  ...           Current Ver   Android Ver\n",
              "58        4.0     1403  ...                 1.0.1    2.2 and up\n",
              "209       3.1     4034  ...  3.0.1.11 (Build 311)    2.2 and up\n",
              "384       4.0   122498  ...         0.1.100944346  4.0.3 and up\n",
              "450       4.0     9498  ...                5.28.0    2.3 and up\n",
              "458       4.2   124346  ...                   2.8    2.0 and up\n",
              "...       ...      ...  ...                   ...           ...\n",
              "10732     4.3     3268  ...                   6.6    2.0 and up\n",
              "10755     4.3      334  ...                   1.3  2.3.3 and up\n",
              "10763     4.5      922  ...                   1.1    1.6 and up\n",
              "10832     3.8     1195  ...                   6.0    2.1 and up\n",
              "10833     4.8       44  ...                   0.8    2.2 and up\n",
              "\n",
              "[257 rows x 11 columns]"
            ]
          },
          "metadata": {
            "tags": []
          },
          "execution_count": 111
        }
      ]
    },
    {
      "cell_type": "code",
      "metadata": {
        "id": "xyBwNOyKGh04",
        "outputId": "9a63ecaf-bbfa-44b0-cb94-adf8c26e0050",
        "colab": {
          "base_uri": "https://localhost:8080/",
          "height": 402
        }
      },
      "source": [
        "X.loc[X['Size'].str.contains('V', regex=False), 'Size'] = 'V'\n",
        "X.loc[X['Size'].str.contains('V', regex=False)]"
      ],
      "execution_count": null,
      "outputs": [
        {
          "output_type": "execute_result",
          "data": {
            "text/html": [
              "<div>\n",
              "<style scoped>\n",
              "    .dataframe tbody tr th:only-of-type {\n",
              "        vertical-align: middle;\n",
              "    }\n",
              "\n",
              "    .dataframe tbody tr th {\n",
              "        vertical-align: top;\n",
              "    }\n",
              "\n",
              "    .dataframe thead th {\n",
              "        text-align: right;\n",
              "    }\n",
              "</style>\n",
              "<table border=\"1\" class=\"dataframe\">\n",
              "  <thead>\n",
              "    <tr style=\"text-align: right;\">\n",
              "      <th></th>\n",
              "      <th>Rating</th>\n",
              "      <th>Reviews</th>\n",
              "      <th>Size</th>\n",
              "      <th>Installs</th>\n",
              "      <th>Type</th>\n",
              "      <th>Price</th>\n",
              "      <th>Content Rating</th>\n",
              "      <th>Genres</th>\n",
              "      <th>Last Updated</th>\n",
              "      <th>Current Ver</th>\n",
              "      <th>Android Ver</th>\n",
              "    </tr>\n",
              "  </thead>\n",
              "  <tbody>\n",
              "    <tr>\n",
              "      <th>37</th>\n",
              "      <td>4.1</td>\n",
              "      <td>36639</td>\n",
              "      <td>V</td>\n",
              "      <td>5,000,000+</td>\n",
              "      <td>Free</td>\n",
              "      <td>0</td>\n",
              "      <td>Everyone</td>\n",
              "      <td>Art &amp; Design</td>\n",
              "      <td>July 14, 2018</td>\n",
              "      <td>Varies with device</td>\n",
              "      <td>2.3.3 and up</td>\n",
              "    </tr>\n",
              "    <tr>\n",
              "      <th>42</th>\n",
              "      <td>4.4</td>\n",
              "      <td>295221</td>\n",
              "      <td>V</td>\n",
              "      <td>10,000,000+</td>\n",
              "      <td>Free</td>\n",
              "      <td>0</td>\n",
              "      <td>Everyone</td>\n",
              "      <td>Art &amp; Design</td>\n",
              "      <td>July 30, 2018</td>\n",
              "      <td>Varies with device</td>\n",
              "      <td>Varies with device</td>\n",
              "    </tr>\n",
              "    <tr>\n",
              "      <th>52</th>\n",
              "      <td>4.6</td>\n",
              "      <td>17057</td>\n",
              "      <td>V</td>\n",
              "      <td>1,000,000+</td>\n",
              "      <td>Free</td>\n",
              "      <td>0</td>\n",
              "      <td>Everyone</td>\n",
              "      <td>Auto &amp; Vehicles</td>\n",
              "      <td>July 30, 2018</td>\n",
              "      <td>Varies with device</td>\n",
              "      <td>Varies with device</td>\n",
              "    </tr>\n",
              "    <tr>\n",
              "      <th>67</th>\n",
              "      <td>4.3</td>\n",
              "      <td>40211</td>\n",
              "      <td>V</td>\n",
              "      <td>5,000,000+</td>\n",
              "      <td>Free</td>\n",
              "      <td>0</td>\n",
              "      <td>Everyone</td>\n",
              "      <td>Auto &amp; Vehicles</td>\n",
              "      <td>July 30, 2018</td>\n",
              "      <td>Varies with device</td>\n",
              "      <td>Varies with device</td>\n",
              "    </tr>\n",
              "    <tr>\n",
              "      <th>68</th>\n",
              "      <td>3.9</td>\n",
              "      <td>356</td>\n",
              "      <td>V</td>\n",
              "      <td>100,000+</td>\n",
              "      <td>Free</td>\n",
              "      <td>0</td>\n",
              "      <td>Everyone</td>\n",
              "      <td>Auto &amp; Vehicles</td>\n",
              "      <td>May 25, 2018</td>\n",
              "      <td>Varies with device</td>\n",
              "      <td>Varies with device</td>\n",
              "    </tr>\n",
              "    <tr>\n",
              "      <th>...</th>\n",
              "      <td>...</td>\n",
              "      <td>...</td>\n",
              "      <td>...</td>\n",
              "      <td>...</td>\n",
              "      <td>...</td>\n",
              "      <td>...</td>\n",
              "      <td>...</td>\n",
              "      <td>...</td>\n",
              "      <td>...</td>\n",
              "      <td>...</td>\n",
              "      <td>...</td>\n",
              "    </tr>\n",
              "    <tr>\n",
              "      <th>10713</th>\n",
              "      <td>4.4</td>\n",
              "      <td>3471</td>\n",
              "      <td>V</td>\n",
              "      <td>100,000+</td>\n",
              "      <td>Free</td>\n",
              "      <td>0</td>\n",
              "      <td>Everyone</td>\n",
              "      <td>Weather</td>\n",
              "      <td>July 24, 2018</td>\n",
              "      <td>Varies with device</td>\n",
              "      <td>Varies with device</td>\n",
              "    </tr>\n",
              "    <tr>\n",
              "      <th>10725</th>\n",
              "      <td>3.6</td>\n",
              "      <td>8</td>\n",
              "      <td>V</td>\n",
              "      <td>1,000+</td>\n",
              "      <td>Free</td>\n",
              "      <td>0</td>\n",
              "      <td>Everyone</td>\n",
              "      <td>Maps &amp; Navigation</td>\n",
              "      <td>September 27, 2017</td>\n",
              "      <td>Varies with device</td>\n",
              "      <td>4.4 and up</td>\n",
              "    </tr>\n",
              "    <tr>\n",
              "      <th>10765</th>\n",
              "      <td>3.4</td>\n",
              "      <td>622</td>\n",
              "      <td>V</td>\n",
              "      <td>100,000+</td>\n",
              "      <td>Free</td>\n",
              "      <td>0</td>\n",
              "      <td>Mature 17+</td>\n",
              "      <td>Social</td>\n",
              "      <td>May 23, 2018</td>\n",
              "      <td>Varies with device</td>\n",
              "      <td>Varies with device</td>\n",
              "    </tr>\n",
              "    <tr>\n",
              "      <th>10826</th>\n",
              "      <td>4.0</td>\n",
              "      <td>88486</td>\n",
              "      <td>V</td>\n",
              "      <td>5,000,000+</td>\n",
              "      <td>Free</td>\n",
              "      <td>0</td>\n",
              "      <td>Mature 17+</td>\n",
              "      <td>Social</td>\n",
              "      <td>March 23, 2018</td>\n",
              "      <td>Varies with device</td>\n",
              "      <td>Varies with device</td>\n",
              "    </tr>\n",
              "    <tr>\n",
              "      <th>10839</th>\n",
              "      <td>4.5</td>\n",
              "      <td>114</td>\n",
              "      <td>V</td>\n",
              "      <td>1,000+</td>\n",
              "      <td>Free</td>\n",
              "      <td>0</td>\n",
              "      <td>Mature 17+</td>\n",
              "      <td>Books &amp; Reference</td>\n",
              "      <td>January 19, 2015</td>\n",
              "      <td>Varies with device</td>\n",
              "      <td>Varies with device</td>\n",
              "    </tr>\n",
              "  </tbody>\n",
              "</table>\n",
              "<p>1637 rows × 11 columns</p>\n",
              "</div>"
            ],
            "text/plain": [
              "       Rating  Reviews  ...         Current Ver         Android Ver\n",
              "37        4.1    36639  ...  Varies with device        2.3.3 and up\n",
              "42        4.4   295221  ...  Varies with device  Varies with device\n",
              "52        4.6    17057  ...  Varies with device  Varies with device\n",
              "67        4.3    40211  ...  Varies with device  Varies with device\n",
              "68        3.9      356  ...  Varies with device  Varies with device\n",
              "...       ...      ...  ...                 ...                 ...\n",
              "10713     4.4     3471  ...  Varies with device  Varies with device\n",
              "10725     3.6        8  ...  Varies with device          4.4 and up\n",
              "10765     3.4      622  ...  Varies with device  Varies with device\n",
              "10826     4.0    88486  ...  Varies with device  Varies with device\n",
              "10839     4.5      114  ...  Varies with device  Varies with device\n",
              "\n",
              "[1637 rows x 11 columns]"
            ]
          },
          "metadata": {
            "tags": []
          },
          "execution_count": 112
        }
      ]
    },
    {
      "cell_type": "code",
      "metadata": {
        "id": "fhNJt7eTGyyq",
        "outputId": "116bccf1-fd65-4bdf-c58b-ebd26d9b0a3c",
        "colab": {
          "base_uri": "https://localhost:8080/",
          "height": 84
        }
      },
      "source": [
        "X['Size'].value_counts()"
      ],
      "execution_count": null,
      "outputs": [
        {
          "output_type": "execute_result",
          "data": {
            "text/plain": [
              "M    7466\n",
              "V    1637\n",
              "K     257\n",
              "Name: Size, dtype: int64"
            ]
          },
          "metadata": {
            "tags": []
          },
          "execution_count": 113
        }
      ]
    },
    {
      "cell_type": "code",
      "metadata": {
        "id": "vAJ41QwfG_aW",
        "outputId": "199f3800-a531-48d8-8089-489139d21958",
        "colab": {
          "base_uri": "https://localhost:8080/",
          "height": 296
        }
      },
      "source": [
        "sns.violinplot(x='Size', y=target, data=X)"
      ],
      "execution_count": null,
      "outputs": [
        {
          "output_type": "execute_result",
          "data": {
            "text/plain": [
              "<matplotlib.axes._subplots.AxesSubplot at 0x7f49cd664080>"
            ]
          },
          "metadata": {
            "tags": []
          },
          "execution_count": 114
        },
        {
          "output_type": "display_data",
          "data": {
            "image/png": "[encoded data removed]",
            "text/plain": [
              "<Figure size 432x288 with 1 Axes>"
            ]
          },
          "metadata": {
            "tags": []
          }
        }
      ]
    },
    {
      "cell_type": "code",
      "metadata": {
        "id": "dzp_85ILg8Rg"
      },
      "source": [
        "#convert these to a float because the AI can't handle strings.\n",
        "X = pd.get_dummies(columns=['Size'], drop_first=True, data=X)"
      ],
      "execution_count": null,
      "outputs": []
    },
    {
      "cell_type": "markdown",
      "metadata": {
        "id": "SoRH9P97Hm3v"
      },
      "source": [
        "### Installs\n",
        "\n",
        "This should be easy. Just remove the plus sign. "
      ]
    },
    {
      "cell_type": "code",
      "metadata": {
        "id": "63s1-8vqHwpe",
        "outputId": "719b29a6-df00-4eee-83df-d10b2079718b",
        "colab": {
          "base_uri": "https://localhost:8080/"
        }
      },
      "source": [
        "X.loc[~X['Installs'].str.contains('+', regex=False)]"
      ],
      "execution_count": null,
      "outputs": [
        {
          "output_type": "execute_result",
          "data": {
            "text/html": [
              "<div>\n",
              "<style scoped>\n",
              "    .dataframe tbody tr th:only-of-type {\n",
              "        vertical-align: middle;\n",
              "    }\n",
              "\n",
              "    .dataframe tbody tr th {\n",
              "        vertical-align: top;\n",
              "    }\n",
              "\n",
              "    .dataframe thead th {\n",
              "        text-align: right;\n",
              "    }\n",
              "</style>\n",
              "<table border=\"1\" class=\"dataframe\">\n",
              "  <thead>\n",
              "    <tr style=\"text-align: right;\">\n",
              "      <th></th>\n",
              "      <th>Rating</th>\n",
              "      <th>Reviews</th>\n",
              "      <th>Installs</th>\n",
              "      <th>Type</th>\n",
              "      <th>Price</th>\n",
              "      <th>Content Rating</th>\n",
              "      <th>Genres</th>\n",
              "      <th>Last Updated</th>\n",
              "      <th>Current Ver</th>\n",
              "      <th>Android Ver</th>\n",
              "      <th>Size_M</th>\n",
              "      <th>Size_V</th>\n",
              "    </tr>\n",
              "  </thead>\n",
              "  <tbody>\n",
              "  </tbody>\n",
              "</table>\n",
              "</div>"
            ],
            "text/plain": [
              "Empty DataFrame\n",
              "Columns: [Rating, Reviews, Installs, Type, Price, Content Rating, Genres, Last Updated, Current Ver, Android Ver, Size_M, Size_V]\n",
              "Index: []"
            ]
          },
          "metadata": {
            "tags": []
          },
          "execution_count": 116
        }
      ]
    },
    {
      "cell_type": "code",
      "metadata": {
        "id": "TSIec69SH9hV"
      },
      "source": [
        "X['Installs'] = X['Installs'].str.replace(',', \"\")\n",
        "X['Installs'] = X['Installs'].str.replace('+', \"\")"
      ],
      "execution_count": null,
      "outputs": []
    },
    {
      "cell_type": "code",
      "metadata": {
        "id": "48rQSwuBI5F6"
      },
      "source": [
        "X['Installs'] = pd.to_numeric(X['Installs'], errors='coerce')"
      ],
      "execution_count": null,
      "outputs": []
    },
    {
      "cell_type": "code",
      "metadata": {
        "id": "p0LmU_wYISbN",
        "outputId": "764c8b26-0e09-4c4c-a0fb-69538c587c67",
        "colab": {
          "base_uri": "https://localhost:8080/"
        }
      },
      "source": [
        "X.head()"
      ],
      "execution_count": null,
      "outputs": [
        {
          "output_type": "execute_result",
          "data": {
            "text/html": [
              "<div>\n",
              "<style scoped>\n",
              "    .dataframe tbody tr th:only-of-type {\n",
              "        vertical-align: middle;\n",
              "    }\n",
              "\n",
              "    .dataframe tbody tr th {\n",
              "        vertical-align: top;\n",
              "    }\n",
              "\n",
              "    .dataframe thead th {\n",
              "        text-align: right;\n",
              "    }\n",
              "</style>\n",
              "<table border=\"1\" class=\"dataframe\">\n",
              "  <thead>\n",
              "    <tr style=\"text-align: right;\">\n",
              "      <th></th>\n",
              "      <th>Rating</th>\n",
              "      <th>Reviews</th>\n",
              "      <th>Installs</th>\n",
              "      <th>Type</th>\n",
              "      <th>Price</th>\n",
              "      <th>Content Rating</th>\n",
              "      <th>Genres</th>\n",
              "      <th>Last Updated</th>\n",
              "      <th>Current Ver</th>\n",
              "      <th>Android Ver</th>\n",
              "      <th>Size_M</th>\n",
              "      <th>Size_V</th>\n",
              "    </tr>\n",
              "  </thead>\n",
              "  <tbody>\n",
              "    <tr>\n",
              "      <th>0</th>\n",
              "      <td>4.1</td>\n",
              "      <td>159</td>\n",
              "      <td>10000</td>\n",
              "      <td>Free</td>\n",
              "      <td>0</td>\n",
              "      <td>Everyone</td>\n",
              "      <td>Art &amp; Design</td>\n",
              "      <td>January 7, 2018</td>\n",
              "      <td>1.0.0</td>\n",
              "      <td>4.0.3 and up</td>\n",
              "      <td>1</td>\n",
              "      <td>0</td>\n",
              "    </tr>\n",
              "    <tr>\n",
              "      <th>1</th>\n",
              "      <td>3.9</td>\n",
              "      <td>967</td>\n",
              "      <td>500000</td>\n",
              "      <td>Free</td>\n",
              "      <td>0</td>\n",
              "      <td>Everyone</td>\n",
              "      <td>Art &amp; Design;Pretend Play</td>\n",
              "      <td>January 15, 2018</td>\n",
              "      <td>2.0.0</td>\n",
              "      <td>4.0.3 and up</td>\n",
              "      <td>1</td>\n",
              "      <td>0</td>\n",
              "    </tr>\n",
              "    <tr>\n",
              "      <th>2</th>\n",
              "      <td>4.7</td>\n",
              "      <td>87510</td>\n",
              "      <td>5000000</td>\n",
              "      <td>Free</td>\n",
              "      <td>0</td>\n",
              "      <td>Everyone</td>\n",
              "      <td>Art &amp; Design</td>\n",
              "      <td>August 1, 2018</td>\n",
              "      <td>1.2.4</td>\n",
              "      <td>4.0.3 and up</td>\n",
              "      <td>1</td>\n",
              "      <td>0</td>\n",
              "    </tr>\n",
              "    <tr>\n",
              "      <th>3</th>\n",
              "      <td>4.5</td>\n",
              "      <td>215644</td>\n",
              "      <td>50000000</td>\n",
              "      <td>Free</td>\n",
              "      <td>0</td>\n",
              "      <td>Teen</td>\n",
              "      <td>Art &amp; Design</td>\n",
              "      <td>June 8, 2018</td>\n",
              "      <td>Varies with device</td>\n",
              "      <td>4.2 and up</td>\n",
              "      <td>1</td>\n",
              "      <td>0</td>\n",
              "    </tr>\n",
              "    <tr>\n",
              "      <th>4</th>\n",
              "      <td>4.3</td>\n",
              "      <td>967</td>\n",
              "      <td>100000</td>\n",
              "      <td>Free</td>\n",
              "      <td>0</td>\n",
              "      <td>Everyone</td>\n",
              "      <td>Art &amp; Design;Creativity</td>\n",
              "      <td>June 20, 2018</td>\n",
              "      <td>1.1</td>\n",
              "      <td>4.4 and up</td>\n",
              "      <td>1</td>\n",
              "      <td>0</td>\n",
              "    </tr>\n",
              "  </tbody>\n",
              "</table>\n",
              "</div>"
            ],
            "text/plain": [
              "   Rating  Reviews  Installs  ...   Android Ver Size_M Size_V\n",
              "0     4.1      159     10000  ...  4.0.3 and up      1      0\n",
              "1     3.9      967    500000  ...  4.0.3 and up      1      0\n",
              "2     4.7    87510   5000000  ...  4.0.3 and up      1      0\n",
              "3     4.5   215644  50000000  ...    4.2 and up      1      0\n",
              "4     4.3      967    100000  ...    4.4 and up      1      0\n",
              "\n",
              "[5 rows x 12 columns]"
            ]
          },
          "metadata": {
            "tags": []
          },
          "execution_count": 119
        }
      ]
    },
    {
      "cell_type": "code",
      "metadata": {
        "id": "W6uhvvybMHXd",
        "outputId": "ca0870aa-f0e9-4b6e-c36f-27c807e25c73",
        "colab": {
          "base_uri": "https://localhost:8080/"
        }
      },
      "source": [
        "missingness_summary(X)"
      ],
      "execution_count": null,
      "outputs": [
        {
          "output_type": "execute_result",
          "data": {
            "text/plain": [
              "Rating            0.0\n",
              "Reviews           0.0\n",
              "Installs          0.0\n",
              "Type              0.0\n",
              "Price             0.0\n",
              "Content Rating    0.0\n",
              "Genres            0.0\n",
              "Last Updated      0.0\n",
              "Current Ver       0.0\n",
              "Android Ver       0.0\n",
              "Size_M            0.0\n",
              "Size_V            0.0\n",
              "dtype: float64"
            ]
          },
          "metadata": {
            "tags": []
          },
          "execution_count": 120
        }
      ]
    },
    {
      "cell_type": "markdown",
      "metadata": {
        "id": "9ZFL9J01NCxJ"
      },
      "source": [
        "### Type\n",
        "I can get dummies on this one and set drop first to true. "
      ]
    },
    {
      "cell_type": "code",
      "metadata": {
        "id": "mbCWESHbMUO-",
        "outputId": "22c5976b-a622-4a30-9362-630f2275e2ec",
        "colab": {
          "base_uri": "https://localhost:8080/"
        }
      },
      "source": [
        "X['Type'].value_counts()"
      ],
      "execution_count": null,
      "outputs": [
        {
          "output_type": "execute_result",
          "data": {
            "text/plain": [
              "Free    8715\n",
              "Paid     645\n",
              "Name: Type, dtype: int64"
            ]
          },
          "metadata": {
            "tags": []
          },
          "execution_count": 121
        }
      ]
    },
    {
      "cell_type": "code",
      "metadata": {
        "id": "Fw7jJNF_Me5G",
        "outputId": "31e502e2-19d0-4d72-8748-e5bce8d74d04",
        "colab": {
          "base_uri": "https://localhost:8080/"
        }
      },
      "source": [
        "X = pd.get_dummies(X, columns=['Type'], drop_first=True)\n",
        "X.head()"
      ],
      "execution_count": null,
      "outputs": [
        {
          "output_type": "execute_result",
          "data": {
            "text/html": [
              "<div>\n",
              "<style scoped>\n",
              "    .dataframe tbody tr th:only-of-type {\n",
              "        vertical-align: middle;\n",
              "    }\n",
              "\n",
              "    .dataframe tbody tr th {\n",
              "        vertical-align: top;\n",
              "    }\n",
              "\n",
              "    .dataframe thead th {\n",
              "        text-align: right;\n",
              "    }\n",
              "</style>\n",
              "<table border=\"1\" class=\"dataframe\">\n",
              "  <thead>\n",
              "    <tr style=\"text-align: right;\">\n",
              "      <th></th>\n",
              "      <th>Rating</th>\n",
              "      <th>Reviews</th>\n",
              "      <th>Installs</th>\n",
              "      <th>Price</th>\n",
              "      <th>Content Rating</th>\n",
              "      <th>Genres</th>\n",
              "      <th>Last Updated</th>\n",
              "      <th>Current Ver</th>\n",
              "      <th>Android Ver</th>\n",
              "      <th>Size_M</th>\n",
              "      <th>Size_V</th>\n",
              "      <th>Type_Paid</th>\n",
              "    </tr>\n",
              "  </thead>\n",
              "  <tbody>\n",
              "    <tr>\n",
              "      <th>0</th>\n",
              "      <td>4.1</td>\n",
              "      <td>159</td>\n",
              "      <td>10000</td>\n",
              "      <td>0</td>\n",
              "      <td>Everyone</td>\n",
              "      <td>Art &amp; Design</td>\n",
              "      <td>January 7, 2018</td>\n",
              "      <td>1.0.0</td>\n",
              "      <td>4.0.3 and up</td>\n",
              "      <td>1</td>\n",
              "      <td>0</td>\n",
              "      <td>0</td>\n",
              "    </tr>\n",
              "    <tr>\n",
              "      <th>1</th>\n",
              "      <td>3.9</td>\n",
              "      <td>967</td>\n",
              "      <td>500000</td>\n",
              "      <td>0</td>\n",
              "      <td>Everyone</td>\n",
              "      <td>Art &amp; Design;Pretend Play</td>\n",
              "      <td>January 15, 2018</td>\n",
              "      <td>2.0.0</td>\n",
              "      <td>4.0.3 and up</td>\n",
              "      <td>1</td>\n",
              "      <td>0</td>\n",
              "      <td>0</td>\n",
              "    </tr>\n",
              "    <tr>\n",
              "      <th>2</th>\n",
              "      <td>4.7</td>\n",
              "      <td>87510</td>\n",
              "      <td>5000000</td>\n",
              "      <td>0</td>\n",
              "      <td>Everyone</td>\n",
              "      <td>Art &amp; Design</td>\n",
              "      <td>August 1, 2018</td>\n",
              "      <td>1.2.4</td>\n",
              "      <td>4.0.3 and up</td>\n",
              "      <td>1</td>\n",
              "      <td>0</td>\n",
              "      <td>0</td>\n",
              "    </tr>\n",
              "    <tr>\n",
              "      <th>3</th>\n",
              "      <td>4.5</td>\n",
              "      <td>215644</td>\n",
              "      <td>50000000</td>\n",
              "      <td>0</td>\n",
              "      <td>Teen</td>\n",
              "      <td>Art &amp; Design</td>\n",
              "      <td>June 8, 2018</td>\n",
              "      <td>Varies with device</td>\n",
              "      <td>4.2 and up</td>\n",
              "      <td>1</td>\n",
              "      <td>0</td>\n",
              "      <td>0</td>\n",
              "    </tr>\n",
              "    <tr>\n",
              "      <th>4</th>\n",
              "      <td>4.3</td>\n",
              "      <td>967</td>\n",
              "      <td>100000</td>\n",
              "      <td>0</td>\n",
              "      <td>Everyone</td>\n",
              "      <td>Art &amp; Design;Creativity</td>\n",
              "      <td>June 20, 2018</td>\n",
              "      <td>1.1</td>\n",
              "      <td>4.4 and up</td>\n",
              "      <td>1</td>\n",
              "      <td>0</td>\n",
              "      <td>0</td>\n",
              "    </tr>\n",
              "  </tbody>\n",
              "</table>\n",
              "</div>"
            ],
            "text/plain": [
              "   Rating  Reviews  Installs Price  ...   Android Ver Size_M Size_V Type_Paid\n",
              "0     4.1      159     10000     0  ...  4.0.3 and up      1      0         0\n",
              "1     3.9      967    500000     0  ...  4.0.3 and up      1      0         0\n",
              "2     4.7    87510   5000000     0  ...  4.0.3 and up      1      0         0\n",
              "3     4.5   215644  50000000     0  ...    4.2 and up      1      0         0\n",
              "4     4.3      967    100000     0  ...    4.4 and up      1      0         0\n",
              "\n",
              "[5 rows x 12 columns]"
            ]
          },
          "metadata": {
            "tags": []
          },
          "execution_count": 122
        }
      ]
    },
    {
      "cell_type": "markdown",
      "metadata": {
        "id": "ABGTpW_yOGbe"
      },
      "source": [
        "###Price\n",
        "\n",
        "what does price look like? Everything is an object in this set. . . "
      ]
    },
    {
      "cell_type": "code",
      "metadata": {
        "id": "VFhGXUiZOPSL",
        "outputId": "a3710a22-505d-4e8f-f0ac-82a460604359",
        "colab": {
          "base_uri": "https://localhost:8080/"
        }
      },
      "source": [
        "X['Price'].value_counts()"
      ],
      "execution_count": null,
      "outputs": [
        {
          "output_type": "execute_result",
          "data": {
            "text/plain": [
              "0          8715\n",
              "$2.99       114\n",
              "$0.99       106\n",
              "$4.99        70\n",
              "$1.99        59\n",
              "           ... \n",
              "$19.40        1\n",
              "$379.99       1\n",
              "$4.84         1\n",
              "$4.77         1\n",
              "$1.29         1\n",
              "Name: Price, Length: 73, dtype: int64"
            ]
          },
          "metadata": {
            "tags": []
          },
          "execution_count": 123
        }
      ]
    },
    {
      "cell_type": "code",
      "metadata": {
        "id": "S04Zc6onOdAO"
      },
      "source": [
        "X['Price'] = X['Price'].str.strip('$.')\n",
        "X['Price'] = pd.to_numeric(X['Price'], errors='coerce')"
      ],
      "execution_count": null,
      "outputs": []
    },
    {
      "cell_type": "code",
      "metadata": {
        "id": "rHVQ3LVrPFQV",
        "outputId": "57462ec2-1628-40d6-9560-37ee6ccef566",
        "colab": {
          "base_uri": "https://localhost:8080/"
        }
      },
      "source": [
        "missingness_summary(X)"
      ],
      "execution_count": null,
      "outputs": [
        {
          "output_type": "execute_result",
          "data": {
            "text/plain": [
              "Rating            0.0\n",
              "Reviews           0.0\n",
              "Installs          0.0\n",
              "Price             0.0\n",
              "Content Rating    0.0\n",
              "Genres            0.0\n",
              "Last Updated      0.0\n",
              "Current Ver       0.0\n",
              "Android Ver       0.0\n",
              "Size_M            0.0\n",
              "Size_V            0.0\n",
              "Type_Paid         0.0\n",
              "dtype: float64"
            ]
          },
          "metadata": {
            "tags": []
          },
          "execution_count": 125
        }
      ]
    },
    {
      "cell_type": "markdown",
      "metadata": {
        "id": "P6ABRKwFPO9t"
      },
      "source": [
        "###Content Rating"
      ]
    },
    {
      "cell_type": "code",
      "metadata": {
        "id": "C3PA93mGPN2X",
        "outputId": "4cb21de3-741a-4516-bee0-05537f0520f0",
        "colab": {
          "base_uri": "https://localhost:8080/"
        }
      },
      "source": [
        "X['Content Rating'].value_counts()\n"
      ],
      "execution_count": null,
      "outputs": [
        {
          "output_type": "execute_result",
          "data": {
            "text/plain": [
              "Everyone           7414\n",
              "Teen               1084\n",
              "Mature 17+          461\n",
              "Everyone 10+        397\n",
              "Adults only 18+       3\n",
              "Unrated               1\n",
              "Name: Content Rating, dtype: int64"
            ]
          },
          "metadata": {
            "tags": []
          },
          "execution_count": 126
        }
      ]
    },
    {
      "cell_type": "code",
      "metadata": {
        "id": "5Dk6EN3-P2vF"
      },
      "source": [
        "#Update a column with the new information.\n",
        "def col_fix(col, val, new_val):\n",
        "  X.loc[X[col].str.contains(val, regex=False), col] = new_val "
      ],
      "execution_count": null,
      "outputs": []
    },
    {
      "cell_type": "code",
      "metadata": {
        "id": "Owpzf-QhQLE0",
        "outputId": "8ed7d854-c406-46fa-e1c6-76a9096f7782",
        "colab": {
          "base_uri": "https://localhost:8080/"
        }
      },
      "source": [
        "col_fix('Content Rating', '+', 'M')\n",
        "col_fix('Content Rating', 'd', 'M')\n",
        "X['Content Rating'].value_counts()"
      ],
      "execution_count": null,
      "outputs": [
        {
          "output_type": "execute_result",
          "data": {
            "text/plain": [
              "Everyone    7414\n",
              "Teen        1084\n",
              "M            862\n",
              "Name: Content Rating, dtype: int64"
            ]
          },
          "metadata": {
            "tags": []
          },
          "execution_count": 128
        }
      ]
    },
    {
      "cell_type": "code",
      "metadata": {
        "id": "YPSAPRsbSZUa"
      },
      "source": [
        "X['Content Rating'] = pd.get_dummies(X, columns=['Content Rating'], drop_first=True)"
      ],
      "execution_count": null,
      "outputs": []
    },
    {
      "cell_type": "code",
      "metadata": {
        "id": "fJ1aHiurSmeP",
        "outputId": "1d852aa7-1367-4248-e595-918f16f19fbe",
        "colab": {
          "base_uri": "https://localhost:8080/"
        }
      },
      "source": [
        "X.head()"
      ],
      "execution_count": null,
      "outputs": [
        {
          "output_type": "execute_result",
          "data": {
            "text/html": [
              "<div>\n",
              "<style scoped>\n",
              "    .dataframe tbody tr th:only-of-type {\n",
              "        vertical-align: middle;\n",
              "    }\n",
              "\n",
              "    .dataframe tbody tr th {\n",
              "        vertical-align: top;\n",
              "    }\n",
              "\n",
              "    .dataframe thead th {\n",
              "        text-align: right;\n",
              "    }\n",
              "</style>\n",
              "<table border=\"1\" class=\"dataframe\">\n",
              "  <thead>\n",
              "    <tr style=\"text-align: right;\">\n",
              "      <th></th>\n",
              "      <th>Rating</th>\n",
              "      <th>Reviews</th>\n",
              "      <th>Installs</th>\n",
              "      <th>Price</th>\n",
              "      <th>Content Rating</th>\n",
              "      <th>Genres</th>\n",
              "      <th>Last Updated</th>\n",
              "      <th>Current Ver</th>\n",
              "      <th>Android Ver</th>\n",
              "      <th>Size_M</th>\n",
              "      <th>Size_V</th>\n",
              "      <th>Type_Paid</th>\n",
              "    </tr>\n",
              "  </thead>\n",
              "  <tbody>\n",
              "    <tr>\n",
              "      <th>0</th>\n",
              "      <td>4.1</td>\n",
              "      <td>159</td>\n",
              "      <td>10000</td>\n",
              "      <td>0.0</td>\n",
              "      <td>4.1</td>\n",
              "      <td>Art &amp; Design</td>\n",
              "      <td>January 7, 2018</td>\n",
              "      <td>1.0.0</td>\n",
              "      <td>4.0.3 and up</td>\n",
              "      <td>1</td>\n",
              "      <td>0</td>\n",
              "      <td>0</td>\n",
              "    </tr>\n",
              "    <tr>\n",
              "      <th>1</th>\n",
              "      <td>3.9</td>\n",
              "      <td>967</td>\n",
              "      <td>500000</td>\n",
              "      <td>0.0</td>\n",
              "      <td>3.9</td>\n",
              "      <td>Art &amp; Design;Pretend Play</td>\n",
              "      <td>January 15, 2018</td>\n",
              "      <td>2.0.0</td>\n",
              "      <td>4.0.3 and up</td>\n",
              "      <td>1</td>\n",
              "      <td>0</td>\n",
              "      <td>0</td>\n",
              "    </tr>\n",
              "    <tr>\n",
              "      <th>2</th>\n",
              "      <td>4.7</td>\n",
              "      <td>87510</td>\n",
              "      <td>5000000</td>\n",
              "      <td>0.0</td>\n",
              "      <td>4.7</td>\n",
              "      <td>Art &amp; Design</td>\n",
              "      <td>August 1, 2018</td>\n",
              "      <td>1.2.4</td>\n",
              "      <td>4.0.3 and up</td>\n",
              "      <td>1</td>\n",
              "      <td>0</td>\n",
              "      <td>0</td>\n",
              "    </tr>\n",
              "    <tr>\n",
              "      <th>3</th>\n",
              "      <td>4.5</td>\n",
              "      <td>215644</td>\n",
              "      <td>50000000</td>\n",
              "      <td>0.0</td>\n",
              "      <td>4.5</td>\n",
              "      <td>Art &amp; Design</td>\n",
              "      <td>June 8, 2018</td>\n",
              "      <td>Varies with device</td>\n",
              "      <td>4.2 and up</td>\n",
              "      <td>1</td>\n",
              "      <td>0</td>\n",
              "      <td>0</td>\n",
              "    </tr>\n",
              "    <tr>\n",
              "      <th>4</th>\n",
              "      <td>4.3</td>\n",
              "      <td>967</td>\n",
              "      <td>100000</td>\n",
              "      <td>0.0</td>\n",
              "      <td>4.3</td>\n",
              "      <td>Art &amp; Design;Creativity</td>\n",
              "      <td>June 20, 2018</td>\n",
              "      <td>1.1</td>\n",
              "      <td>4.4 and up</td>\n",
              "      <td>1</td>\n",
              "      <td>0</td>\n",
              "      <td>0</td>\n",
              "    </tr>\n",
              "  </tbody>\n",
              "</table>\n",
              "</div>"
            ],
            "text/plain": [
              "   Rating  Reviews  Installs  Price  ...   Android Ver Size_M Size_V Type_Paid\n",
              "0     4.1      159     10000    0.0  ...  4.0.3 and up      1      0         0\n",
              "1     3.9      967    500000    0.0  ...  4.0.3 and up      1      0         0\n",
              "2     4.7    87510   5000000    0.0  ...  4.0.3 and up      1      0         0\n",
              "3     4.5   215644  50000000    0.0  ...    4.2 and up      1      0         0\n",
              "4     4.3      967    100000    0.0  ...    4.4 and up      1      0         0\n",
              "\n",
              "[5 rows x 12 columns]"
            ]
          },
          "metadata": {
            "tags": []
          },
          "execution_count": 130
        }
      ]
    },
    {
      "cell_type": "code",
      "metadata": {
        "id": "eTV_2uyQevMC",
        "outputId": "d870a9a0-e029-48b4-d920-1a076fd54e7d",
        "colab": {
          "base_uri": "https://localhost:8080/"
        }
      },
      "source": [
        "X['Content Rating'].value_counts()"
      ],
      "execution_count": null,
      "outputs": [
        {
          "output_type": "execute_result",
          "data": {
            "text/plain": [
              "4.4    1108\n",
              "4.3    1076\n",
              "4.5    1037\n",
              "4.2     951\n",
              "4.6     823\n",
              "4.1     707\n",
              "4.0     567\n",
              "4.7     499\n",
              "3.9     386\n",
              "3.8     303\n",
              "5.0     274\n",
              "3.7     239\n",
              "4.8     234\n",
              "3.6     174\n",
              "3.5     163\n",
              "3.4     128\n",
              "3.3     102\n",
              "4.9      87\n",
              "3.0      83\n",
              "3.1      69\n",
              "3.2      63\n",
              "2.9      45\n",
              "2.8      42\n",
              "2.6      25\n",
              "2.7      25\n",
              "2.5      21\n",
              "2.3      20\n",
              "2.4      19\n",
              "1.0      16\n",
              "2.2      14\n",
              "1.9      13\n",
              "2.0      12\n",
              "1.8       8\n",
              "1.7       8\n",
              "2.1       8\n",
              "1.6       4\n",
              "1.5       3\n",
              "1.4       3\n",
              "1.2       1\n",
              "Name: Content Rating, dtype: int64"
            ]
          },
          "metadata": {
            "tags": []
          },
          "execution_count": 131
        }
      ]
    },
    {
      "cell_type": "markdown",
      "metadata": {
        "id": "SdK1gzxjQqA6"
      },
      "source": [
        "### Genres\n",
        "Not more text columns! Genres has 115 categories and a few datapoints that belong to more than one category. \n",
        "\n",
        "Are ratings related to genres? This will help determine if I should try and split these or not. \n"
      ]
    },
    {
      "cell_type": "code",
      "metadata": {
        "id": "Ur2u7KCyQ7BS",
        "outputId": "de6050c2-b0d2-41e2-9d9d-a61afba53fc4",
        "colab": {
          "base_uri": "https://localhost:8080/"
        }
      },
      "source": [
        "X['Genres'].value_counts()"
      ],
      "execution_count": null,
      "outputs": [
        {
          "output_type": "execute_result",
          "data": {
            "text/plain": [
              "Tools                  732\n",
              "Entertainment          533\n",
              "Education              468\n",
              "Action                 358\n",
              "Productivity           351\n",
              "                      ... \n",
              "Racing;Pretend Play      1\n",
              "Puzzle;Education         1\n",
              "Lifestyle;Education      1\n",
              "Strategy;Creativity      1\n",
              "Strategy;Education       1\n",
              "Name: Genres, Length: 115, dtype: int64"
            ]
          },
          "metadata": {
            "tags": []
          },
          "execution_count": 132
        }
      ]
    },
    {
      "cell_type": "code",
      "metadata": {
        "id": "XM7DB6BwRGxx",
        "outputId": "7ed75c5a-65fa-4ad2-9a66-7881d60d060a",
        "colab": {
          "base_uri": "https://localhost:8080/"
        }
      },
      "source": [
        " X.loc[~X['Genres'].str.contains(';', regex=False)] "
      ],
      "execution_count": null,
      "outputs": [
        {
          "output_type": "execute_result",
          "data": {
            "text/html": [
              "<div>\n",
              "<style scoped>\n",
              "    .dataframe tbody tr th:only-of-type {\n",
              "        vertical-align: middle;\n",
              "    }\n",
              "\n",
              "    .dataframe tbody tr th {\n",
              "        vertical-align: top;\n",
              "    }\n",
              "\n",
              "    .dataframe thead th {\n",
              "        text-align: right;\n",
              "    }\n",
              "</style>\n",
              "<table border=\"1\" class=\"dataframe\">\n",
              "  <thead>\n",
              "    <tr style=\"text-align: right;\">\n",
              "      <th></th>\n",
              "      <th>Rating</th>\n",
              "      <th>Reviews</th>\n",
              "      <th>Installs</th>\n",
              "      <th>Price</th>\n",
              "      <th>Content Rating</th>\n",
              "      <th>Genres</th>\n",
              "      <th>Last Updated</th>\n",
              "      <th>Current Ver</th>\n",
              "      <th>Android Ver</th>\n",
              "      <th>Size_M</th>\n",
              "      <th>Size_V</th>\n",
              "      <th>Type_Paid</th>\n",
              "    </tr>\n",
              "  </thead>\n",
              "  <tbody>\n",
              "    <tr>\n",
              "      <th>0</th>\n",
              "      <td>4.1</td>\n",
              "      <td>159</td>\n",
              "      <td>10000</td>\n",
              "      <td>0.0</td>\n",
              "      <td>4.1</td>\n",
              "      <td>Art &amp; Design</td>\n",
              "      <td>January 7, 2018</td>\n",
              "      <td>1.0.0</td>\n",
              "      <td>4.0.3 and up</td>\n",
              "      <td>1</td>\n",
              "      <td>0</td>\n",
              "      <td>0</td>\n",
              "    </tr>\n",
              "    <tr>\n",
              "      <th>2</th>\n",
              "      <td>4.7</td>\n",
              "      <td>87510</td>\n",
              "      <td>5000000</td>\n",
              "      <td>0.0</td>\n",
              "      <td>4.7</td>\n",
              "      <td>Art &amp; Design</td>\n",
              "      <td>August 1, 2018</td>\n",
              "      <td>1.2.4</td>\n",
              "      <td>4.0.3 and up</td>\n",
              "      <td>1</td>\n",
              "      <td>0</td>\n",
              "      <td>0</td>\n",
              "    </tr>\n",
              "    <tr>\n",
              "      <th>3</th>\n",
              "      <td>4.5</td>\n",
              "      <td>215644</td>\n",
              "      <td>50000000</td>\n",
              "      <td>0.0</td>\n",
              "      <td>4.5</td>\n",
              "      <td>Art &amp; Design</td>\n",
              "      <td>June 8, 2018</td>\n",
              "      <td>Varies with device</td>\n",
              "      <td>4.2 and up</td>\n",
              "      <td>1</td>\n",
              "      <td>0</td>\n",
              "      <td>0</td>\n",
              "    </tr>\n",
              "    <tr>\n",
              "      <th>5</th>\n",
              "      <td>4.4</td>\n",
              "      <td>167</td>\n",
              "      <td>50000</td>\n",
              "      <td>0.0</td>\n",
              "      <td>4.4</td>\n",
              "      <td>Art &amp; Design</td>\n",
              "      <td>March 26, 2017</td>\n",
              "      <td>1.0</td>\n",
              "      <td>2.3 and up</td>\n",
              "      <td>1</td>\n",
              "      <td>0</td>\n",
              "      <td>0</td>\n",
              "    </tr>\n",
              "    <tr>\n",
              "      <th>6</th>\n",
              "      <td>3.8</td>\n",
              "      <td>178</td>\n",
              "      <td>50000</td>\n",
              "      <td>0.0</td>\n",
              "      <td>3.8</td>\n",
              "      <td>Art &amp; Design</td>\n",
              "      <td>April 26, 2018</td>\n",
              "      <td>1.1</td>\n",
              "      <td>4.0.3 and up</td>\n",
              "      <td>1</td>\n",
              "      <td>0</td>\n",
              "      <td>0</td>\n",
              "    </tr>\n",
              "    <tr>\n",
              "      <th>...</th>\n",
              "      <td>...</td>\n",
              "      <td>...</td>\n",
              "      <td>...</td>\n",
              "      <td>...</td>\n",
              "      <td>...</td>\n",
              "      <td>...</td>\n",
              "      <td>...</td>\n",
              "      <td>...</td>\n",
              "      <td>...</td>\n",
              "      <td>...</td>\n",
              "      <td>...</td>\n",
              "      <td>...</td>\n",
              "    </tr>\n",
              "    <tr>\n",
              "      <th>10834</th>\n",
              "      <td>4.0</td>\n",
              "      <td>7</td>\n",
              "      <td>500</td>\n",
              "      <td>0.0</td>\n",
              "      <td>4</td>\n",
              "      <td>Education</td>\n",
              "      <td>June 18, 2017</td>\n",
              "      <td>1.0.0</td>\n",
              "      <td>4.1 and up</td>\n",
              "      <td>1</td>\n",
              "      <td>0</td>\n",
              "      <td>0</td>\n",
              "    </tr>\n",
              "    <tr>\n",
              "      <th>10836</th>\n",
              "      <td>4.5</td>\n",
              "      <td>38</td>\n",
              "      <td>5000</td>\n",
              "      <td>0.0</td>\n",
              "      <td>4.5</td>\n",
              "      <td>Education</td>\n",
              "      <td>July 25, 2017</td>\n",
              "      <td>1.48</td>\n",
              "      <td>4.1 and up</td>\n",
              "      <td>1</td>\n",
              "      <td>0</td>\n",
              "      <td>0</td>\n",
              "    </tr>\n",
              "    <tr>\n",
              "      <th>10837</th>\n",
              "      <td>5.0</td>\n",
              "      <td>4</td>\n",
              "      <td>100</td>\n",
              "      <td>0.0</td>\n",
              "      <td>5</td>\n",
              "      <td>Education</td>\n",
              "      <td>July 6, 2018</td>\n",
              "      <td>1.0</td>\n",
              "      <td>4.1 and up</td>\n",
              "      <td>1</td>\n",
              "      <td>0</td>\n",
              "      <td>0</td>\n",
              "    </tr>\n",
              "    <tr>\n",
              "      <th>10839</th>\n",
              "      <td>4.5</td>\n",
              "      <td>114</td>\n",
              "      <td>1000</td>\n",
              "      <td>0.0</td>\n",
              "      <td>4.5</td>\n",
              "      <td>Books &amp; Reference</td>\n",
              "      <td>January 19, 2015</td>\n",
              "      <td>Varies with device</td>\n",
              "      <td>Varies with device</td>\n",
              "      <td>0</td>\n",
              "      <td>1</td>\n",
              "      <td>0</td>\n",
              "    </tr>\n",
              "    <tr>\n",
              "      <th>10840</th>\n",
              "      <td>4.5</td>\n",
              "      <td>398307</td>\n",
              "      <td>10000000</td>\n",
              "      <td>0.0</td>\n",
              "      <td>4.5</td>\n",
              "      <td>Lifestyle</td>\n",
              "      <td>July 25, 2018</td>\n",
              "      <td>Varies with device</td>\n",
              "      <td>Varies with device</td>\n",
              "      <td>1</td>\n",
              "      <td>0</td>\n",
              "      <td>0</td>\n",
              "    </tr>\n",
              "  </tbody>\n",
              "</table>\n",
              "<p>8877 rows × 12 columns</p>\n",
              "</div>"
            ],
            "text/plain": [
              "       Rating  Reviews  Installs  ...  Size_M Size_V Type_Paid\n",
              "0         4.1      159     10000  ...       1      0         0\n",
              "2         4.7    87510   5000000  ...       1      0         0\n",
              "3         4.5   215644  50000000  ...       1      0         0\n",
              "5         4.4      167     50000  ...       1      0         0\n",
              "6         3.8      178     50000  ...       1      0         0\n",
              "...       ...      ...       ...  ...     ...    ...       ...\n",
              "10834     4.0        7       500  ...       1      0         0\n",
              "10836     4.5       38      5000  ...       1      0         0\n",
              "10837     5.0        4       100  ...       1      0         0\n",
              "10839     4.5      114      1000  ...       0      1         0\n",
              "10840     4.5   398307  10000000  ...       1      0         0\n",
              "\n",
              "[8877 rows x 12 columns]"
            ]
          },
          "metadata": {
            "tags": []
          },
          "execution_count": 133
        }
      ]
    },
    {
      "cell_type": "code",
      "metadata": {
        "id": "hCIyV5TNR24S",
        "outputId": "c5fe9dcc-93df-45ba-a2d2-f4acabb35281",
        "colab": {
          "base_uri": "https://localhost:8080/"
        }
      },
      "source": [
        "a4_dims = (20, 10)\n",
        "fig, ax = plt.subplots(figsize=a4_dims)\n",
        "#sns.scatterplot(x='Genres', y=target, data=X.loc[~X['Genres'].str.contains(';', regex=False)] )\n",
        "sns.boxenplot(x='Genres', y=target, data=X.loc[~X['Genres'].str.contains(';', regex=False)] )\n",
        "plt.show()"
      ],
      "execution_count": null,
      "outputs": [
        {
          "output_type": "display_data",
          "data": {
            "image/png": "[encoded data removed]",
            "text/plain": [
              "<Figure size 1440x720 with 1 Axes>"
            ]
          },
          "metadata": {
            "tags": []
          }
        }
      ]
    },
    {
      "cell_type": "markdown",
      "metadata": {
        "id": "8X7vcCgPVsVI"
      },
      "source": [
        "The could have an impact. In order to conduct an analysis, I would need to construct a way to transform those multi-categorical sets into the mix. \n",
        "\n",
        "Do I want them to count twice? They have the same datapoints, but different ratings. How did this same content do when placed in the creativity bucket vs. the art and design bucket. That's the individual - as a whole; how does that impact the decision? Should they have selected on over the other? \n",
        "\n",
        "Does it make a difference?\n",
        "\n",
        "The world may never know. "
      ]
    },
    {
      "cell_type": "code",
      "metadata": {
        "id": "Yvvo8sn5WdPr"
      },
      "source": [
        "X = X.drop(columns='Genres')"
      ],
      "execution_count": null,
      "outputs": []
    },
    {
      "cell_type": "markdown",
      "metadata": {
        "id": "jcMuw3APWpCU"
      },
      "source": [
        "### Last Updated\n",
        "\n",
        "Oh. I have to convert these to a date, right? "
      ]
    },
    {
      "cell_type": "code",
      "metadata": {
        "id": "tJD8woRmW8wY",
        "outputId": "91296b0f-42c1-4bcd-bd17-9ebc35c687fb",
        "colab": {
          "base_uri": "https://localhost:8080/",
          "height": 606
        }
      },
      "source": [
        "a4_dims = (20, 10)\n",
        "fig, ax = plt.subplots(figsize=a4_dims)\n",
        "sns.scatterplot(x='Last Updated', y=target, data=X)\n",
        "plt.show()"
      ],
      "execution_count": null,
      "outputs": [
        {
          "output_type": "display_data",
          "data": {
            "image/png": "[encoded data removed]",
            "text/plain": [
              "<Figure size 1440x720 with 1 Axes>"
            ]
          },
          "metadata": {
            "tags": []
          }
        }
      ]
    },
    {
      "cell_type": "code",
      "metadata": {
        "id": "kk4uMkCrYtG5"
      },
      "source": [
        "#What's the oldest one?\n",
        "# convert the 'Date' column to datetime format\n",
        "X['Last Updated'] = pd.to_datetime(X['Last Updated'])"
      ],
      "execution_count": null,
      "outputs": []
    },
    {
      "cell_type": "code",
      "metadata": {
        "id": "r-o-qhEXZLv9",
        "outputId": "3441d9a7-f797-49ea-e36d-88b1c7eaef3b",
        "colab": {
          "base_uri": "https://localhost:8080/",
          "height": 34
        }
      },
      "source": [
        "X['Last Updated'].max()"
      ],
      "execution_count": null,
      "outputs": [
        {
          "output_type": "execute_result",
          "data": {
            "text/plain": [
              "Timestamp('2018-08-08 00:00:00')"
            ]
          },
          "metadata": {
            "tags": []
          },
          "execution_count": 138
        }
      ]
    },
    {
      "cell_type": "markdown",
      "metadata": {
        "id": "tu5lozRaisGE"
      },
      "source": [
        "Turns out that my random forest doesn't like the date data type. She only likes floats. \n",
        "\n",
        "What's up with that? Who doesn't love a good date?\n",
        "\n",
        "Anyway, I think I like this solution from [stack overflow.](https://stackoverflow.com/questions/24588437/convert-date-to-float-for-linear-regression-on-pandas-data-frame) "
      ]
    },
    {
      "cell_type": "code",
      "metadata": {
        "id": "eX6zuKR8iras"
      },
      "source": [
        "X['Last Updated'] = (X['Last Updated'] - X['Last Updated'].min())  / np.timedelta64(1,'D')"
      ],
      "execution_count": null,
      "outputs": []
    },
    {
      "cell_type": "markdown",
      "metadata": {
        "id": "4ehydFJkZTsZ"
      },
      "source": [
        "Do I need to look at these individually? Do I want to look at these individual portion? \n",
        "\n",
        "Mostly I'm thinking that the applications that have a more recent update are more user-friendly and probably have higher ratings. \n",
        "\n",
        "So I want to keep it as is. "
      ]
    },
    {
      "cell_type": "markdown",
      "metadata": {
        "id": "pCVOILfAZ_TH"
      },
      "source": [
        "### Current Version\n",
        "\n",
        "What am I going to do with that varies with device segment? This is a categorical value, I think - not a numerical value. Do I want to treat it as a numerical value?"
      ]
    },
    {
      "cell_type": "code",
      "metadata": {
        "id": "9iXT5B1VZ-7-",
        "outputId": "3d699c78-ad6e-465f-bcf8-f5edb5f3dc27",
        "colab": {
          "base_uri": "https://localhost:8080/",
          "height": 606
        }
      },
      "source": [
        "#Adjust the size of the graph.\n",
        "a4_dims = (20, 10)\n",
        "fig, ax = plt.subplots(figsize=a4_dims)\n",
        "sns.scatterplot(x='Current Ver', y=target, data=X)\n",
        "plt.show()"
      ],
      "execution_count": null,
      "outputs": [
        {
          "output_type": "display_data",
          "data": {
            "image/png": "[encoded data removed]",
            "text/plain": [
              "<Figure size 1440x720 with 1 Axes>"
            ]
          },
          "metadata": {
            "tags": []
          }
        }
      ]
    },
    {
      "cell_type": "code",
      "metadata": {
        "id": "oIpypAbQa-PA",
        "outputId": "86498019-f68d-4be2-f8ce-86e69f237d95",
        "colab": {
          "base_uri": "https://localhost:8080/",
          "height": 218
        }
      },
      "source": [
        "X['Current Ver'].value_counts()"
      ],
      "execution_count": null,
      "outputs": [
        {
          "output_type": "execute_result",
          "data": {
            "text/plain": [
              "Varies with device    1415\n",
              "1.0                    458\n",
              "1.1                    194\n",
              "1.2                    126\n",
              "1.3                    120\n",
              "                      ... \n",
              "10001008                 1\n",
              "5.0.1.3                  1\n",
              "11.1                     1\n",
              "3.98                     1\n",
              "2018-04-27               1\n",
              "Name: Current Ver, Length: 2638, dtype: int64"
            ]
          },
          "metadata": {
            "tags": []
          },
          "execution_count": 141
        }
      ]
    },
    {
      "cell_type": "markdown",
      "metadata": {
        "id": "3m-IsJdUbNf8"
      },
      "source": [
        "I think I might like to just drop this one."
      ]
    },
    {
      "cell_type": "code",
      "metadata": {
        "id": "LHf-7Qi4b8D6"
      },
      "source": [
        "X = X.drop(columns='Current Ver')"
      ],
      "execution_count": null,
      "outputs": []
    },
    {
      "cell_type": "markdown",
      "metadata": {
        "id": "jdNpzMvIcC5v"
      },
      "source": [
        "###Android Ver."
      ]
    },
    {
      "cell_type": "code",
      "metadata": {
        "id": "vNkXcwmMcLw3",
        "outputId": "73ec431a-862a-4a7a-b22c-8fb0b3a25e97",
        "colab": {
          "base_uri": "https://localhost:8080/",
          "height": 606
        }
      },
      "source": [
        "#Adjust the size of the graph.\n",
        "a4_dims = (20, 10)\n",
        "fig, ax = plt.subplots(figsize=a4_dims)\n",
        "sns.scatterplot(x='Android Ver', y=target, data=X)\n",
        "plt.show()"
      ],
      "execution_count": null,
      "outputs": [
        {
          "output_type": "display_data",
          "data": {
            "image/png": "[encoded data removed]",
            "text/plain": [
              "<Figure size 1440x720 with 1 Axes>"
            ]
          },
          "metadata": {
            "tags": []
          }
        }
      ]
    },
    {
      "cell_type": "code",
      "metadata": {
        "id": "TcebyK1ccRx5",
        "outputId": "8e3cd3aa-c0f8-48c9-fa9e-c8732678d321",
        "colab": {
          "base_uri": "https://localhost:8080/",
          "height": 34
        }
      },
      "source": [
        "X['Android Ver'].nunique()"
      ],
      "execution_count": null,
      "outputs": [
        {
          "output_type": "execute_result",
          "data": {
            "text/plain": [
              "31"
            ]
          },
          "metadata": {
            "tags": []
          },
          "execution_count": 144
        }
      ]
    },
    {
      "cell_type": "code",
      "metadata": {
        "id": "5-2yu5wlcrRs",
        "outputId": "b6fb1c1b-3792-4536-b99c-ec09d287104e",
        "colab": {
          "base_uri": "https://localhost:8080/",
          "height": 454
        }
      },
      "source": [
        "X['Android Ver'].loc[X['Android Ver'].str.contains('and up')].value_counts()"
      ],
      "execution_count": null,
      "outputs": [
        {
          "output_type": "execute_result",
          "data": {
            "text/plain": [
              "4.1 and up      2059\n",
              "4.0.3 and up    1240\n",
              "4.0 and up      1129\n",
              "4.4 and up       875\n",
              "2.3 and up       582\n",
              "5.0 and up       535\n",
              "4.2 and up       337\n",
              "2.3.3 and up     240\n",
              "3.0 and up       211\n",
              "2.2 and up       208\n",
              "4.3 and up       207\n",
              "2.1 and up       113\n",
              "1.6 and up        87\n",
              "6.0 and up        48\n",
              "7.0 and up        41\n",
              "3.2 and up        31\n",
              "2.0 and up        27\n",
              "5.1 and up        18\n",
              "1.5 and up        15\n",
              "3.1 and up         8\n",
              "2.0.1 and up       7\n",
              "4.4W and up        6\n",
              "8.0 and up         5\n",
              "7.1 and up         3\n",
              "1.0 and up         2\n",
              "Name: Android Ver, dtype: int64"
            ]
          },
          "metadata": {
            "tags": []
          },
          "execution_count": 145
        }
      ]
    },
    {
      "cell_type": "markdown",
      "metadata": {
        "id": "CSwWNZRRdq1I"
      },
      "source": [
        "Intuitively I want to add everything that is 4 and up.\n",
        "Then I want to add everything that is three and up. Etc.\n",
        "\n",
        "There are a number of ways to do it, but for now. I want to do a hot dummy encode on this one and see what kind of trouble I get into."
      ]
    },
    {
      "cell_type": "code",
      "metadata": {
        "id": "C7P8EmTBd-RO"
      },
      "source": [
        "X = pd.get_dummies(X, columns=['Android Ver'], drop_first=True)"
      ],
      "execution_count": null,
      "outputs": []
    },
    {
      "cell_type": "code",
      "metadata": {
        "id": "fZGPnVY_ebV0",
        "outputId": "ce08e345-51ac-4933-cebd-3b92727950b0",
        "colab": {
          "base_uri": "https://localhost:8080/",
          "height": 266
        }
      },
      "source": [
        "X.head()"
      ],
      "execution_count": null,
      "outputs": [
        {
          "output_type": "execute_result",
          "data": {
            "text/html": [
              "<div>\n",
              "<style scoped>\n",
              "    .dataframe tbody tr th:only-of-type {\n",
              "        vertical-align: middle;\n",
              "    }\n",
              "\n",
              "    .dataframe tbody tr th {\n",
              "        vertical-align: top;\n",
              "    }\n",
              "\n",
              "    .dataframe thead th {\n",
              "        text-align: right;\n",
              "    }\n",
              "</style>\n",
              "<table border=\"1\" class=\"dataframe\">\n",
              "  <thead>\n",
              "    <tr style=\"text-align: right;\">\n",
              "      <th></th>\n",
              "      <th>Rating</th>\n",
              "      <th>Reviews</th>\n",
              "      <th>Installs</th>\n",
              "      <th>Price</th>\n",
              "      <th>Content Rating</th>\n",
              "      <th>Last Updated</th>\n",
              "      <th>Size_M</th>\n",
              "      <th>Size_V</th>\n",
              "      <th>Type_Paid</th>\n",
              "      <th>Android Ver_1.5 and up</th>\n",
              "      <th>Android Ver_1.6 and up</th>\n",
              "      <th>Android Ver_2.0 and up</th>\n",
              "      <th>Android Ver_2.0.1 and up</th>\n",
              "      <th>Android Ver_2.1 and up</th>\n",
              "      <th>Android Ver_2.2 and up</th>\n",
              "      <th>Android Ver_2.3 and up</th>\n",
              "      <th>Android Ver_2.3.3 and up</th>\n",
              "      <th>Android Ver_3.0 and up</th>\n",
              "      <th>Android Ver_3.1 and up</th>\n",
              "      <th>Android Ver_3.2 and up</th>\n",
              "      <th>Android Ver_4.0 and up</th>\n",
              "      <th>Android Ver_4.0.3 - 7.1.1</th>\n",
              "      <th>Android Ver_4.0.3 and up</th>\n",
              "      <th>Android Ver_4.1 - 7.1.1</th>\n",
              "      <th>Android Ver_4.1 and up</th>\n",
              "      <th>Android Ver_4.2 and up</th>\n",
              "      <th>Android Ver_4.3 and up</th>\n",
              "      <th>Android Ver_4.4 and up</th>\n",
              "      <th>Android Ver_4.4W and up</th>\n",
              "      <th>Android Ver_5.0 - 6.0</th>\n",
              "      <th>Android Ver_5.0 - 8.0</th>\n",
              "      <th>Android Ver_5.0 and up</th>\n",
              "      <th>Android Ver_5.1 and up</th>\n",
              "      <th>Android Ver_6.0 and up</th>\n",
              "      <th>Android Ver_7.0 - 7.1.1</th>\n",
              "      <th>Android Ver_7.0 and up</th>\n",
              "      <th>Android Ver_7.1 and up</th>\n",
              "      <th>Android Ver_8.0 and up</th>\n",
              "      <th>Android Ver_Varies with device</th>\n",
              "    </tr>\n",
              "  </thead>\n",
              "  <tbody>\n",
              "    <tr>\n",
              "      <th>0</th>\n",
              "      <td>4.1</td>\n",
              "      <td>159</td>\n",
              "      <td>10000</td>\n",
              "      <td>0.0</td>\n",
              "      <td>4.1</td>\n",
              "      <td>2788.0</td>\n",
              "      <td>1</td>\n",
              "      <td>0</td>\n",
              "      <td>0</td>\n",
              "      <td>0</td>\n",
              "      <td>0</td>\n",
              "      <td>0</td>\n",
              "      <td>0</td>\n",
              "      <td>0</td>\n",
              "      <td>0</td>\n",
              "      <td>0</td>\n",
              "      <td>0</td>\n",
              "      <td>0</td>\n",
              "      <td>0</td>\n",
              "      <td>0</td>\n",
              "      <td>0</td>\n",
              "      <td>0</td>\n",
              "      <td>1</td>\n",
              "      <td>0</td>\n",
              "      <td>0</td>\n",
              "      <td>0</td>\n",
              "      <td>0</td>\n",
              "      <td>0</td>\n",
              "      <td>0</td>\n",
              "      <td>0</td>\n",
              "      <td>0</td>\n",
              "      <td>0</td>\n",
              "      <td>0</td>\n",
              "      <td>0</td>\n",
              "      <td>0</td>\n",
              "      <td>0</td>\n",
              "      <td>0</td>\n",
              "      <td>0</td>\n",
              "      <td>0</td>\n",
              "    </tr>\n",
              "    <tr>\n",
              "      <th>1</th>\n",
              "      <td>3.9</td>\n",
              "      <td>967</td>\n",
              "      <td>500000</td>\n",
              "      <td>0.0</td>\n",
              "      <td>3.9</td>\n",
              "      <td>2796.0</td>\n",
              "      <td>1</td>\n",
              "      <td>0</td>\n",
              "      <td>0</td>\n",
              "      <td>0</td>\n",
              "      <td>0</td>\n",
              "      <td>0</td>\n",
              "      <td>0</td>\n",
              "      <td>0</td>\n",
              "      <td>0</td>\n",
              "      <td>0</td>\n",
              "      <td>0</td>\n",
              "      <td>0</td>\n",
              "      <td>0</td>\n",
              "      <td>0</td>\n",
              "      <td>0</td>\n",
              "      <td>0</td>\n",
              "      <td>1</td>\n",
              "      <td>0</td>\n",
              "      <td>0</td>\n",
              "      <td>0</td>\n",
              "      <td>0</td>\n",
              "      <td>0</td>\n",
              "      <td>0</td>\n",
              "      <td>0</td>\n",
              "      <td>0</td>\n",
              "      <td>0</td>\n",
              "      <td>0</td>\n",
              "      <td>0</td>\n",
              "      <td>0</td>\n",
              "      <td>0</td>\n",
              "      <td>0</td>\n",
              "      <td>0</td>\n",
              "      <td>0</td>\n",
              "    </tr>\n",
              "    <tr>\n",
              "      <th>2</th>\n",
              "      <td>4.7</td>\n",
              "      <td>87510</td>\n",
              "      <td>5000000</td>\n",
              "      <td>0.0</td>\n",
              "      <td>4.7</td>\n",
              "      <td>2994.0</td>\n",
              "      <td>1</td>\n",
              "      <td>0</td>\n",
              "      <td>0</td>\n",
              "      <td>0</td>\n",
              "      <td>0</td>\n",
              "      <td>0</td>\n",
              "      <td>0</td>\n",
              "      <td>0</td>\n",
              "      <td>0</td>\n",
              "      <td>0</td>\n",
              "      <td>0</td>\n",
              "      <td>0</td>\n",
              "      <td>0</td>\n",
              "      <td>0</td>\n",
              "      <td>0</td>\n",
              "      <td>0</td>\n",
              "      <td>1</td>\n",
              "      <td>0</td>\n",
              "      <td>0</td>\n",
              "      <td>0</td>\n",
              "      <td>0</td>\n",
              "      <td>0</td>\n",
              "      <td>0</td>\n",
              "      <td>0</td>\n",
              "      <td>0</td>\n",
              "      <td>0</td>\n",
              "      <td>0</td>\n",
              "      <td>0</td>\n",
              "      <td>0</td>\n",
              "      <td>0</td>\n",
              "      <td>0</td>\n",
              "      <td>0</td>\n",
              "      <td>0</td>\n",
              "    </tr>\n",
              "    <tr>\n",
              "      <th>3</th>\n",
              "      <td>4.5</td>\n",
              "      <td>215644</td>\n",
              "      <td>50000000</td>\n",
              "      <td>0.0</td>\n",
              "      <td>4.5</td>\n",
              "      <td>2940.0</td>\n",
              "      <td>1</td>\n",
              "      <td>0</td>\n",
              "      <td>0</td>\n",
              "      <td>0</td>\n",
              "      <td>0</td>\n",
              "      <td>0</td>\n",
              "      <td>0</td>\n",
              "      <td>0</td>\n",
              "      <td>0</td>\n",
              "      <td>0</td>\n",
              "      <td>0</td>\n",
              "      <td>0</td>\n",
              "      <td>0</td>\n",
              "      <td>0</td>\n",
              "      <td>0</td>\n",
              "      <td>0</td>\n",
              "      <td>0</td>\n",
              "      <td>0</td>\n",
              "      <td>0</td>\n",
              "      <td>1</td>\n",
              "      <td>0</td>\n",
              "      <td>0</td>\n",
              "      <td>0</td>\n",
              "      <td>0</td>\n",
              "      <td>0</td>\n",
              "      <td>0</td>\n",
              "      <td>0</td>\n",
              "      <td>0</td>\n",
              "      <td>0</td>\n",
              "      <td>0</td>\n",
              "      <td>0</td>\n",
              "      <td>0</td>\n",
              "      <td>0</td>\n",
              "    </tr>\n",
              "    <tr>\n",
              "      <th>4</th>\n",
              "      <td>4.3</td>\n",
              "      <td>967</td>\n",
              "      <td>100000</td>\n",
              "      <td>0.0</td>\n",
              "      <td>4.3</td>\n",
              "      <td>2952.0</td>\n",
              "      <td>1</td>\n",
              "      <td>0</td>\n",
              "      <td>0</td>\n",
              "      <td>0</td>\n",
              "      <td>0</td>\n",
              "      <td>0</td>\n",
              "      <td>0</td>\n",
              "      <td>0</td>\n",
              "      <td>0</td>\n",
              "      <td>0</td>\n",
              "      <td>0</td>\n",
              "      <td>0</td>\n",
              "      <td>0</td>\n",
              "      <td>0</td>\n",
              "      <td>0</td>\n",
              "      <td>0</td>\n",
              "      <td>0</td>\n",
              "      <td>0</td>\n",
              "      <td>0</td>\n",
              "      <td>0</td>\n",
              "      <td>0</td>\n",
              "      <td>1</td>\n",
              "      <td>0</td>\n",
              "      <td>0</td>\n",
              "      <td>0</td>\n",
              "      <td>0</td>\n",
              "      <td>0</td>\n",
              "      <td>0</td>\n",
              "      <td>0</td>\n",
              "      <td>0</td>\n",
              "      <td>0</td>\n",
              "      <td>0</td>\n",
              "      <td>0</td>\n",
              "    </tr>\n",
              "  </tbody>\n",
              "</table>\n",
              "</div>"
            ],
            "text/plain": [
              "   Rating  Reviews  ...  Android Ver_8.0 and up  Android Ver_Varies with device\n",
              "0     4.1      159  ...                       0                               0\n",
              "1     3.9      967  ...                       0                               0\n",
              "2     4.7    87510  ...                       0                               0\n",
              "3     4.5   215644  ...                       0                               0\n",
              "4     4.3      967  ...                       0                               0\n",
              "\n",
              "[5 rows x 39 columns]"
            ]
          },
          "metadata": {
            "tags": []
          },
          "execution_count": 147
        }
      ]
    },
    {
      "cell_type": "code",
      "metadata": {
        "id": "fExhiUEbehyE",
        "outputId": "7cd30b91-7429-4ab0-a277-5cab8e24aaf4",
        "colab": {
          "base_uri": "https://localhost:8080/",
          "height": 790
        }
      },
      "source": [
        "X.info()"
      ],
      "execution_count": null,
      "outputs": [
        {
          "output_type": "stream",
          "text": [
            "<class 'pandas.core.frame.DataFrame'>\n",
            "Int64Index: 9360 entries, 0 to 10840\n",
            "Data columns (total 39 columns):\n",
            " #   Column                          Non-Null Count  Dtype  \n",
            "---  ------                          --------------  -----  \n",
            " 0   Rating                          9360 non-null   float64\n",
            " 1   Reviews                         9360 non-null   int64  \n",
            " 2   Installs                        9360 non-null   int64  \n",
            " 3   Price                           9360 non-null   float64\n",
            " 4   Content Rating                  9360 non-null   object \n",
            " 5   Last Updated                    9360 non-null   float64\n",
            " 6   Size_M                          9360 non-null   uint8  \n",
            " 7   Size_V                          9360 non-null   uint8  \n",
            " 8   Type_Paid                       9360 non-null   uint8  \n",
            " 9   Android Ver_1.5 and up          9360 non-null   uint8  \n",
            " 10  Android Ver_1.6 and up          9360 non-null   uint8  \n",
            " 11  Android Ver_2.0 and up          9360 non-null   uint8  \n",
            " 12  Android Ver_2.0.1 and up        9360 non-null   uint8  \n",
            " 13  Android Ver_2.1 and up          9360 non-null   uint8  \n",
            " 14  Android Ver_2.2 and up          9360 non-null   uint8  \n",
            " 15  Android Ver_2.3 and up          9360 non-null   uint8  \n",
            " 16  Android Ver_2.3.3 and up        9360 non-null   uint8  \n",
            " 17  Android Ver_3.0 and up          9360 non-null   uint8  \n",
            " 18  Android Ver_3.1 and up          9360 non-null   uint8  \n",
            " 19  Android Ver_3.2 and up          9360 non-null   uint8  \n",
            " 20  Android Ver_4.0 and up          9360 non-null   uint8  \n",
            " 21  Android Ver_4.0.3 - 7.1.1       9360 non-null   uint8  \n",
            " 22  Android Ver_4.0.3 and up        9360 non-null   uint8  \n",
            " 23  Android Ver_4.1 - 7.1.1         9360 non-null   uint8  \n",
            " 24  Android Ver_4.1 and up          9360 non-null   uint8  \n",
            " 25  Android Ver_4.2 and up          9360 non-null   uint8  \n",
            " 26  Android Ver_4.3 and up          9360 non-null   uint8  \n",
            " 27  Android Ver_4.4 and up          9360 non-null   uint8  \n",
            " 28  Android Ver_4.4W and up         9360 non-null   uint8  \n",
            " 29  Android Ver_5.0 - 6.0           9360 non-null   uint8  \n",
            " 30  Android Ver_5.0 - 8.0           9360 non-null   uint8  \n",
            " 31  Android Ver_5.0 and up          9360 non-null   uint8  \n",
            " 32  Android Ver_5.1 and up          9360 non-null   uint8  \n",
            " 33  Android Ver_6.0 and up          9360 non-null   uint8  \n",
            " 34  Android Ver_7.0 - 7.1.1         9360 non-null   uint8  \n",
            " 35  Android Ver_7.0 and up          9360 non-null   uint8  \n",
            " 36  Android Ver_7.1 and up          9360 non-null   uint8  \n",
            " 37  Android Ver_8.0 and up          9360 non-null   uint8  \n",
            " 38  Android Ver_Varies with device  9360 non-null   uint8  \n",
            "dtypes: float64(3), int64(2), object(1), uint8(33)\n",
            "memory usage: 1.1+ MB\n"
          ],
          "name": "stdout"
        }
      ]
    },
    {
      "cell_type": "markdown",
      "metadata": {
        "id": "g98vwtA_pLqH"
      },
      "source": [
        "# Model Creation and Evaluation (Random Forest)\n",
        "Create a random forest model and evaluate\n"
      ]
    },
    {
      "cell_type": "code",
      "metadata": {
        "id": "im_Xqt7Jlf8m"
      },
      "source": [
        "#Handle the target variable, which needs to be handled as an int.\n",
        "y = X[target]\n",
        "from sklearn import preprocessing\n",
        "\n",
        "le = preprocessing.LabelEncoder()\n",
        "le.fit(y)\n",
        "y = le.transform(y)"
      ],
      "execution_count": null,
      "outputs": []
    },
    {
      "cell_type": "code",
      "metadata": {
        "id": "7EK0o1p-fy9V"
      },
      "source": [
        "X = X.drop(columns=target)"
      ],
      "execution_count": null,
      "outputs": []
    },
    {
      "cell_type": "code",
      "metadata": {
        "id": "mbcu7k55pULj",
        "outputId": "d5e3312b-24c2-46d6-fdcb-340b4c861b96",
        "colab": {
          "base_uri": "https://localhost:8080/",
          "height": 34
        }
      },
      "source": [
        "from sklearn.model_selection import train_test_split, cross_val_score\n",
        "\n",
        "#Size of the test set.\n",
        "SIZE = 0.2\n",
        "X_train, X_test, y_train, y_test = train_test_split(X, y, test_size=SIZE)\n",
        "print('There are {:d} training samples and {:d} test samples'.format(X_train.shape[0], X_test.shape[0]))"
      ],
      "execution_count": null,
      "outputs": [
        {
          "output_type": "stream",
          "text": [
            "There are 7488 training samples and 1872 test samples\n"
          ],
          "name": "stdout"
        }
      ]
    },
    {
      "cell_type": "code",
      "metadata": {
        "id": "D6Yd5rMbgRg0",
        "outputId": "39431865-9959-4431-e728-3d1e23b3a250",
        "colab": {
          "base_uri": "https://localhost:8080/",
          "height": 151
        }
      },
      "source": [
        "from sklearn import ensemble\n",
        "from sklearn.model_selection import cross_val_score\n",
        "\n",
        "rfc = ensemble.RandomForestClassifier()\n",
        "rfc.fit(X_train, y_train)\n"
      ],
      "execution_count": null,
      "outputs": [
        {
          "output_type": "execute_result",
          "data": {
            "text/plain": [
              "RandomForestClassifier(bootstrap=True, ccp_alpha=0.0, class_weight=None,\n",
              "                       criterion='gini', max_depth=None, max_features='auto',\n",
              "                       max_leaf_nodes=None, max_samples=None,\n",
              "                       min_impurity_decrease=0.0, min_impurity_split=None,\n",
              "                       min_samples_leaf=1, min_samples_split=2,\n",
              "                       min_weight_fraction_leaf=0.0, n_estimators=100,\n",
              "                       n_jobs=None, oob_score=False, random_state=None,\n",
              "                       verbose=0, warm_start=False)"
            ]
          },
          "metadata": {
            "tags": []
          },
          "execution_count": 152
        }
      ]
    },
    {
      "cell_type": "code",
      "metadata": {
        "id": "Lc6hSY9Rnk6C"
      },
      "source": [
        "y_pred = rfc.predict(X_test)"
      ],
      "execution_count": null,
      "outputs": []
    },
    {
      "cell_type": "code",
      "metadata": {
        "id": "94RE81jGntGg",
        "outputId": "67de33a6-2216-42de-89e4-492649dd343f",
        "colab": {
          "base_uri": "https://localhost:8080/",
          "height": 134
        }
      },
      "source": [
        "import sklearn\n",
        "#confusion matrix\n",
        "print(sklearn.metrics.confusion_matrix(y_test, y_pred))"
      ],
      "execution_count": null,
      "outputs": [
        {
          "output_type": "stream",
          "text": [
            "[[ 1  0  0 ...  0  0  0]\n",
            " [ 0  0  0 ...  0  0  0]\n",
            " [ 0  0  0 ...  0  0  0]\n",
            " ...\n",
            " [ 0  0  0 ... 38  1  1]\n",
            " [ 0  0  0 ...  4  5  0]\n",
            " [ 0  0  0 ...  1  0 61]]\n"
          ],
          "name": "stdout"
        }
      ]
    },
    {
      "cell_type": "code",
      "metadata": {
        "id": "i0HVTN0poI60",
        "outputId": "aa5a8746-e271-46e8-acdd-6a5997a47976",
        "colab": {
          "base_uri": "https://localhost:8080/",
          "height": 843
        }
      },
      "source": [
        "print(sklearn.metrics.classification_report(y_test, y_pred))"
      ],
      "execution_count": null,
      "outputs": [
        {
          "output_type": "stream",
          "text": [
            "              precision    recall  f1-score   support\n",
            "\n",
            "           0       0.50      0.33      0.40         3\n",
            "           1       0.00      0.00      0.00         1\n",
            "           2       0.00      0.00      0.00         1\n",
            "           4       0.00      0.00      0.00         0\n",
            "           5       0.00      0.00      0.00         1\n",
            "           7       1.00      0.33      0.50         3\n",
            "           8       0.17      0.33      0.22         3\n",
            "           9       0.00      0.00      0.00         3\n",
            "          10       0.33      0.50      0.40         2\n",
            "          11       0.00      0.00      0.00         7\n",
            "          12       0.00      0.00      0.00         3\n",
            "          13       0.00      0.00      0.00         7\n",
            "          14       0.33      0.14      0.20         7\n",
            "          15       0.17      0.20      0.18         5\n",
            "          16       0.43      0.23      0.30        13\n",
            "          17       0.00      0.00      0.00         9\n",
            "          18       0.35      0.38      0.36        16\n",
            "          19       0.23      0.23      0.23        13\n",
            "          20       0.00      0.00      0.00        16\n",
            "          21       0.11      0.14      0.12        21\n",
            "          22       0.35      0.32      0.33        25\n",
            "          23       0.32      0.23      0.27        35\n",
            "          24       0.48      0.33      0.39        40\n",
            "          25       0.45      0.43      0.44        46\n",
            "          26       0.59      0.75      0.66        68\n",
            "          27       0.73      0.84      0.78        70\n",
            "          28       0.82      0.92      0.87       112\n",
            "          29       0.95      0.98      0.96       160\n",
            "          30       0.98      1.00      0.99       185\n",
            "          31       0.99      1.00      1.00       213\n",
            "          32       1.00      1.00      1.00       222\n",
            "          33       0.99      1.00      1.00       196\n",
            "          34       0.99      1.00      0.99       145\n",
            "          35       0.88      0.98      0.92        94\n",
            "          36       0.86      0.73      0.79        52\n",
            "          37       0.83      0.42      0.56        12\n",
            "          38       0.97      0.97      0.97        63\n",
            "\n",
            "    accuracy                           0.85      1872\n",
            "   macro avg       0.45      0.42      0.43      1872\n",
            "weighted avg       0.84      0.85      0.84      1872\n",
            "\n"
          ],
          "name": "stdout"
        },
        {
          "output_type": "stream",
          "text": [
            "/usr/local/lib/python3.6/dist-packages/sklearn/metrics/_classification.py:1272: UndefinedMetricWarning: Precision and F-score are ill-defined and being set to 0.0 in labels with no predicted samples. Use `zero_division` parameter to control this behavior.\n",
            "  _warn_prf(average, modifier, msg_start, len(result))\n",
            "/usr/local/lib/python3.6/dist-packages/sklearn/metrics/_classification.py:1272: UndefinedMetricWarning: Recall and F-score are ill-defined and being set to 0.0 in labels with no true samples. Use `zero_division` parameter to control this behavior.\n",
            "  _warn_prf(average, modifier, msg_start, len(result))\n"
          ],
          "name": "stderr"
        }
      ]
    },
    {
      "cell_type": "code",
      "metadata": {
        "id": "xeBmlxHHoaMC",
        "outputId": "568e27ba-3660-4d5b-a335-0195a06088ea",
        "colab": {
          "base_uri": "https://localhost:8080/",
          "height": 936
        }
      },
      "source": [
        "importances = rfc.feature_importances_\n",
        "std = np.std([tree.feature_importances_ for tree in rfc.estimators_],\n",
        "             axis=0)\n",
        "indices = np.argsort(importances)[::-1]\n",
        "\n",
        "# Print the feature ranking\n",
        "print(\"Feature ranking:\")\n",
        "\n",
        "for f in range(X.shape[1]):\n",
        "    print(\"%d. feature %d (%f)\" % (f + 1, indices[f], importances[indices[f]]))\n",
        "\n",
        "# Plot the impurity-based feature importances of the forest\n",
        "plt.figure()\n",
        "plt.title(\"Feature importances\")\n",
        "plt.bar(range(X.shape[1]), importances[indices],\n",
        "        color=\"r\", yerr=std[indices], align=\"center\")\n",
        "plt.xticks(range(X.shape[1]), indices)\n",
        "plt.xlim([-1, X.shape[1]])\n",
        "plt.show()"
      ],
      "execution_count": null,
      "outputs": [
        {
          "output_type": "stream",
          "text": [
            "Feature ranking:\n",
            "1. feature 3 (0.601146)\n",
            "2. feature 0 (0.138164)\n",
            "3. feature 4 (0.116211)\n",
            "4. feature 1 (0.062529)\n",
            "5. feature 2 (0.008789)\n",
            "6. feature 23 (0.006607)\n",
            "7. feature 19 (0.006588)\n",
            "8. feature 21 (0.006160)\n",
            "9. feature 26 (0.005930)\n",
            "10. feature 5 (0.004951)\n",
            "11. feature 30 (0.004424)\n",
            "12. feature 24 (0.004157)\n",
            "13. feature 14 (0.003718)\n",
            "14. feature 7 (0.003415)\n",
            "15. feature 25 (0.003335)\n",
            "16. feature 6 (0.003104)\n",
            "17. feature 37 (0.003011)\n",
            "18. feature 15 (0.002954)\n",
            "19. feature 16 (0.002863)\n",
            "20. feature 13 (0.002455)\n",
            "21. feature 12 (0.001620)\n",
            "22. feature 9 (0.001489)\n",
            "23. feature 32 (0.001418)\n",
            "24. feature 34 (0.001105)\n",
            "25. feature 18 (0.000937)\n",
            "26. feature 10 (0.000567)\n",
            "27. feature 31 (0.000552)\n",
            "28. feature 8 (0.000524)\n",
            "29. feature 17 (0.000272)\n",
            "30. feature 36 (0.000263)\n",
            "31. feature 35 (0.000237)\n",
            "32. feature 27 (0.000156)\n",
            "33. feature 11 (0.000126)\n",
            "34. feature 20 (0.000079)\n",
            "35. feature 28 (0.000047)\n",
            "36. feature 33 (0.000040)\n",
            "37. feature 22 (0.000039)\n",
            "38. feature 29 (0.000018)\n"
          ],
          "name": "stdout"
        },
        {
          "output_type": "display_data",
          "data": {
            "image/png": "[encoded data removed]",
            "text/plain": [
              "<Figure size 432x288 with 1 Axes>"
            ]
          },
          "metadata": {
            "tags": []
          }
        }
      ]
    },
    {
      "cell_type": "markdown",
      "metadata": {
        "id": "mtVSmddtpUdW"
      },
      "source": [
        "# Validation and Tweaking\n",
        "Using grid search cross validation, tweak the parameters to produce a better performing model\n"
      ]
    },
    {
      "cell_type": "code",
      "metadata": {
        "id": "u_b0XOCApbSr",
        "outputId": "c776f273-386d-4cf9-9701-3f1d38da4acd",
        "colab": {
          "base_uri": "https://localhost:8080/",
          "height": 386
        }
      },
      "source": [
        "grid = {'n_estimators':[50,60,70,80,90,100,110,120]}\n",
        "\n",
        "from sklearn.model_selection import GridSearchCV\n",
        "\n",
        "result = GridSearchCV(ensemble.RandomForestClassifier(), grid, cv=5)\n",
        "result.fit(X_train, y_train)"
      ],
      "execution_count": null,
      "outputs": [
        {
          "output_type": "stream",
          "text": [
            "/usr/local/lib/python3.6/dist-packages/sklearn/model_selection/_split.py:667: UserWarning: The least populated class in y has only 2 members, which is less than n_splits=5.\n",
            "  % (min_groups, self.n_splits)), UserWarning)\n"
          ],
          "name": "stderr"
        },
        {
          "output_type": "execute_result",
          "data": {
            "text/plain": [
              "GridSearchCV(cv=5, error_score=nan,\n",
              "             estimator=RandomForestClassifier(bootstrap=True, ccp_alpha=0.0,\n",
              "                                              class_weight=None,\n",
              "                                              criterion='gini', max_depth=None,\n",
              "                                              max_features='auto',\n",
              "                                              max_leaf_nodes=None,\n",
              "                                              max_samples=None,\n",
              "                                              min_impurity_decrease=0.0,\n",
              "                                              min_impurity_split=None,\n",
              "                                              min_samples_leaf=1,\n",
              "                                              min_samples_split=2,\n",
              "                                              min_weight_fraction_leaf=0.0,\n",
              "                                              n_estimators=100, n_jobs=None,\n",
              "                                              oob_score=False,\n",
              "                                              random_state=None, verbose=0,\n",
              "                                              warm_start=False),\n",
              "             iid='deprecated', n_jobs=None,\n",
              "             param_grid={'n_estimators': [50, 60, 70, 80, 90, 100, 110, 120]},\n",
              "             pre_dispatch='2*n_jobs', refit=True, return_train_score=False,\n",
              "             scoring=None, verbose=0)"
            ]
          },
          "metadata": {
            "tags": []
          },
          "execution_count": 157
        }
      ]
    },
    {
      "cell_type": "code",
      "metadata": {
        "id": "wAXTtM32sN3E",
        "outputId": "4f23345a-41c8-4a4f-ce87-632f633d227c",
        "colab": {
          "base_uri": "https://localhost:8080/",
          "height": 50
        }
      },
      "source": [
        "print('best number of estimator: ',result.best_estimator_.n_estimators)\n",
        "print('best score: ',result.best_score_)"
      ],
      "execution_count": null,
      "outputs": [
        {
          "output_type": "stream",
          "text": [
            "best number of estimator:  100\n",
            "best score:  0.8493606706069015\n"
          ],
          "name": "stdout"
        }
      ]
    },
    {
      "cell_type": "markdown",
      "metadata": {
        "id": "-dotpeTmpblD"
      },
      "source": [
        "#[Display](https://youtu.be/-ffQBxz5D34) \n",
        "Show and discuss your results\n"
      ]
    },
    {
      "cell_type": "code",
      "metadata": {
        "id": "UfACfn-8sqtv",
        "outputId": "359bb5be-c17d-4de6-9e40-01cdf2a9cf52",
        "colab": {
          "base_uri": "https://localhost:8080/",
          "height": 295
        }
      },
      "source": [
        "plt.scatter(y_test, y_pred, alpha=.5)\n",
        "plt.scatter(y_test, y_test, color='pink', alpha=.3)\n",
        "plt.xlabel('True Values')\n",
        "plt.ylabel('Predicted Values', color='pink')\n",
        "plt.title('True vs Predicted Rating Values')\n",
        "plt.show()"
      ],
      "execution_count": null,
      "outputs": [
        {
          "output_type": "display_data",
          "data": {
            "image/png": "[encoded data removed]",
            "text/plain": [
              "<Figure size 432x288 with 1 Axes>"
            ]
          },
          "metadata": {
            "tags": []
          }
        }
      ]
    }
  ]
}