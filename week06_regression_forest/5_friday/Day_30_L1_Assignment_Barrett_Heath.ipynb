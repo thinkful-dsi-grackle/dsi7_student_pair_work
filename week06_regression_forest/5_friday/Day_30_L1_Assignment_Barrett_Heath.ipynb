{
  "nbformat": 4,
  "nbformat_minor": 0,
  "metadata": {
    "colab": {
      "name": "Day_30_L1_Assignment_Barrett_Heath.ipynb",
      "provenance": [],
      "collapsed_sections": []
    },
    "kernelspec": {
      "display_name": "Python 3",
      "language": "python",
      "name": "python3"
    },
    "language_info": {
      "codemirror_mode": {
        "name": "ipython",
        "version": 3
      },
      "file_extension": ".py",
      "mimetype": "text/x-python",
      "name": "python",
      "nbconvert_exporter": "python",
      "pygments_lexer": "ipython3",
      "version": "3.7.3"
    }
  },
  "cells": [
    {
      "cell_type": "markdown",
      "metadata": {
        "id": "3DPEH2GvdWEc"
      },
      "source": [
        "## Day 30 Lecture 1 Assignment\n",
        "\n",
        "In this assignment, we will build our first random forest model. We will use a dataset containing churn information for a telephone company's customers."
      ]
    },
    {
      "cell_type": "code",
      "metadata": {
        "id": "a196rwICHtSA",
        "outputId": "c27811db-5406-4fc4-a311-287df2ee2eaa",
        "colab": {
          "base_uri": "https://localhost:8080/",
          "height": 227
        }
      },
      "source": [
        "!pip install category_encoders"
      ],
      "execution_count": 1,
      "outputs": [
        {
          "output_type": "stream",
          "text": [
            "Requirement already satisfied: category_encoders in /usr/local/lib/python3.6/dist-packages (2.2.2)\n",
            "Requirement already satisfied: scikit-learn>=0.20.0 in /usr/local/lib/python3.6/dist-packages (from category_encoders) (0.22.2.post1)\n",
            "Requirement already satisfied: statsmodels>=0.9.0 in /usr/local/lib/python3.6/dist-packages (from category_encoders) (0.10.2)\n",
            "Requirement already satisfied: scipy>=1.0.0 in /usr/local/lib/python3.6/dist-packages (from category_encoders) (1.4.1)\n",
            "Requirement already satisfied: numpy>=1.14.0 in /usr/local/lib/python3.6/dist-packages (from category_encoders) (1.18.5)\n",
            "Requirement already satisfied: pandas>=0.21.1 in /usr/local/lib/python3.6/dist-packages (from category_encoders) (1.1.2)\n",
            "Requirement already satisfied: patsy>=0.5.1 in /usr/local/lib/python3.6/dist-packages (from category_encoders) (0.5.1)\n",
            "Requirement already satisfied: joblib>=0.11 in /usr/local/lib/python3.6/dist-packages (from scikit-learn>=0.20.0->category_encoders) (0.16.0)\n",
            "Requirement already satisfied: python-dateutil>=2.7.3 in /usr/local/lib/python3.6/dist-packages (from pandas>=0.21.1->category_encoders) (2.8.1)\n",
            "Requirement already satisfied: pytz>=2017.2 in /usr/local/lib/python3.6/dist-packages (from pandas>=0.21.1->category_encoders) (2018.9)\n",
            "Requirement already satisfied: six in /usr/local/lib/python3.6/dist-packages (from patsy>=0.5.1->category_encoders) (1.15.0)\n"
          ],
          "name": "stdout"
        }
      ]
    },
    {
      "cell_type": "code",
      "metadata": {
        "id": "yx3zL4jfdWEc"
      },
      "source": [
        "\n",
        "%matplotlib inline\n",
        "\n",
        "import matplotlib.pyplot as plt\n",
        "import numpy as np\n",
        "import pandas as pd\n",
        "import seaborn as sns\n",
        "\n",
        "from sklearn.feature_selection import SelectKBest, chi2, f_classif\n",
        "from sklearn.model_selection import train_test_split\n",
        "import category_encoders as ce\n",
        "from sklearn.metrics import classification_report, confusion_matrix, roc_curve, plot_confusion_matrix\n",
        "\n",
        "from sklearn.ensemble import RandomForestClassifier"
      ],
      "execution_count": 27,
      "outputs": []
    },
    {
      "cell_type": "markdown",
      "metadata": {
        "id": "m2vkGnLGKV9X"
      },
      "source": [
        "Read in the telecom churn dataset.\n",
        "\n",
        "https://raw.githubusercontent.com/Thinkful-Ed/data-science-lectures/master/telecom_churn.csv"
      ]
    },
    {
      "cell_type": "code",
      "metadata": {
        "id": "3NO2s06udWEg",
        "outputId": "0cad1edc-6665-471c-f4fe-ccbffcdd6285",
        "colab": {
          "base_uri": "https://localhost:8080/",
          "height": 1000
        }
      },
      "source": [
        "# answer here\n",
        "tele_df = pd.read_csv('https://raw.githubusercontent.com/Thinkful-Ed/data-science-lectures/master/telecom_churn.csv')\n",
        "\n",
        "tele_df.info()\n",
        "tele_df.head()"
      ],
      "execution_count": 3,
      "outputs": [
        {
          "output_type": "stream",
          "text": [
            "<class 'pandas.core.frame.DataFrame'>\n",
            "RangeIndex: 51047 entries, 0 to 51046\n",
            "Data columns (total 58 columns):\n",
            " #   Column                     Non-Null Count  Dtype  \n",
            "---  ------                     --------------  -----  \n",
            " 0   CustomerID                 51047 non-null  int64  \n",
            " 1   Churn                      51047 non-null  object \n",
            " 2   MonthlyRevenue             50891 non-null  float64\n",
            " 3   MonthlyMinutes             50891 non-null  float64\n",
            " 4   TotalRecurringCharge       50891 non-null  float64\n",
            " 5   DirectorAssistedCalls      50891 non-null  float64\n",
            " 6   OverageMinutes             50891 non-null  float64\n",
            " 7   RoamingCalls               50891 non-null  float64\n",
            " 8   PercChangeMinutes          50680 non-null  float64\n",
            " 9   PercChangeRevenues         50680 non-null  float64\n",
            " 10  DroppedCalls               51047 non-null  float64\n",
            " 11  BlockedCalls               51047 non-null  float64\n",
            " 12  UnansweredCalls            51047 non-null  float64\n",
            " 13  CustomerCareCalls          51047 non-null  float64\n",
            " 14  ThreewayCalls              51047 non-null  float64\n",
            " 15  ReceivedCalls              51047 non-null  float64\n",
            " 16  OutboundCalls              51047 non-null  float64\n",
            " 17  InboundCalls               51047 non-null  float64\n",
            " 18  PeakCallsInOut             51047 non-null  float64\n",
            " 19  OffPeakCallsInOut          51047 non-null  float64\n",
            " 20  DroppedBlockedCalls        51047 non-null  float64\n",
            " 21  CallForwardingCalls        51047 non-null  float64\n",
            " 22  CallWaitingCalls           51047 non-null  float64\n",
            " 23  MonthsInService            51047 non-null  int64  \n",
            " 24  UniqueSubs                 51047 non-null  int64  \n",
            " 25  ActiveSubs                 51047 non-null  int64  \n",
            " 26  ServiceArea                51023 non-null  object \n",
            " 27  Handsets                   51046 non-null  float64\n",
            " 28  HandsetModels              51046 non-null  float64\n",
            " 29  CurrentEquipmentDays       51046 non-null  float64\n",
            " 30  AgeHH1                     50138 non-null  float64\n",
            " 31  AgeHH2                     50138 non-null  float64\n",
            " 32  ChildrenInHH               51047 non-null  object \n",
            " 33  HandsetRefurbished         51047 non-null  object \n",
            " 34  HandsetWebCapable          51047 non-null  object \n",
            " 35  TruckOwner                 51047 non-null  object \n",
            " 36  RVOwner                    51047 non-null  object \n",
            " 37  Homeownership              51047 non-null  object \n",
            " 38  BuysViaMailOrder           51047 non-null  object \n",
            " 39  RespondsToMailOffers       51047 non-null  object \n",
            " 40  OptOutMailings             51047 non-null  object \n",
            " 41  NonUSTravel                51047 non-null  object \n",
            " 42  OwnsComputer               51047 non-null  object \n",
            " 43  HasCreditCard              51047 non-null  object \n",
            " 44  RetentionCalls             51047 non-null  int64  \n",
            " 45  RetentionOffersAccepted    51047 non-null  int64  \n",
            " 46  NewCellphoneUser           51047 non-null  object \n",
            " 47  NotNewCellphoneUser        51047 non-null  object \n",
            " 48  ReferralsMadeBySubscriber  51047 non-null  int64  \n",
            " 49  IncomeGroup                51047 non-null  int64  \n",
            " 50  OwnsMotorcycle             51047 non-null  object \n",
            " 51  AdjustmentsToCreditRating  51047 non-null  int64  \n",
            " 52  HandsetPrice               51047 non-null  object \n",
            " 53  MadeCallToRetentionTeam    51047 non-null  object \n",
            " 54  CreditRating               51047 non-null  object \n",
            " 55  PrizmCode                  51047 non-null  object \n",
            " 56  Occupation                 51047 non-null  object \n",
            " 57  MaritalStatus              51047 non-null  object \n",
            "dtypes: float64(26), int64(9), object(23)\n",
            "memory usage: 22.6+ MB\n"
          ],
          "name": "stdout"
        },
        {
          "output_type": "execute_result",
          "data": {
            "text/html": [
              "<div>\n",
              "<style scoped>\n",
              "    .dataframe tbody tr th:only-of-type {\n",
              "        vertical-align: middle;\n",
              "    }\n",
              "\n",
              "    .dataframe tbody tr th {\n",
              "        vertical-align: top;\n",
              "    }\n",
              "\n",
              "    .dataframe thead th {\n",
              "        text-align: right;\n",
              "    }\n",
              "</style>\n",
              "<table border=\"1\" class=\"dataframe\">\n",
              "  <thead>\n",
              "    <tr style=\"text-align: right;\">\n",
              "      <th></th>\n",
              "      <th>CustomerID</th>\n",
              "      <th>Churn</th>\n",
              "      <th>MonthlyRevenue</th>\n",
              "      <th>MonthlyMinutes</th>\n",
              "      <th>TotalRecurringCharge</th>\n",
              "      <th>DirectorAssistedCalls</th>\n",
              "      <th>OverageMinutes</th>\n",
              "      <th>RoamingCalls</th>\n",
              "      <th>PercChangeMinutes</th>\n",
              "      <th>PercChangeRevenues</th>\n",
              "      <th>DroppedCalls</th>\n",
              "      <th>BlockedCalls</th>\n",
              "      <th>UnansweredCalls</th>\n",
              "      <th>CustomerCareCalls</th>\n",
              "      <th>ThreewayCalls</th>\n",
              "      <th>ReceivedCalls</th>\n",
              "      <th>OutboundCalls</th>\n",
              "      <th>InboundCalls</th>\n",
              "      <th>PeakCallsInOut</th>\n",
              "      <th>OffPeakCallsInOut</th>\n",
              "      <th>DroppedBlockedCalls</th>\n",
              "      <th>CallForwardingCalls</th>\n",
              "      <th>CallWaitingCalls</th>\n",
              "      <th>MonthsInService</th>\n",
              "      <th>UniqueSubs</th>\n",
              "      <th>ActiveSubs</th>\n",
              "      <th>ServiceArea</th>\n",
              "      <th>Handsets</th>\n",
              "      <th>HandsetModels</th>\n",
              "      <th>CurrentEquipmentDays</th>\n",
              "      <th>AgeHH1</th>\n",
              "      <th>AgeHH2</th>\n",
              "      <th>ChildrenInHH</th>\n",
              "      <th>HandsetRefurbished</th>\n",
              "      <th>HandsetWebCapable</th>\n",
              "      <th>TruckOwner</th>\n",
              "      <th>RVOwner</th>\n",
              "      <th>Homeownership</th>\n",
              "      <th>BuysViaMailOrder</th>\n",
              "      <th>RespondsToMailOffers</th>\n",
              "      <th>OptOutMailings</th>\n",
              "      <th>NonUSTravel</th>\n",
              "      <th>OwnsComputer</th>\n",
              "      <th>HasCreditCard</th>\n",
              "      <th>RetentionCalls</th>\n",
              "      <th>RetentionOffersAccepted</th>\n",
              "      <th>NewCellphoneUser</th>\n",
              "      <th>NotNewCellphoneUser</th>\n",
              "      <th>ReferralsMadeBySubscriber</th>\n",
              "      <th>IncomeGroup</th>\n",
              "      <th>OwnsMotorcycle</th>\n",
              "      <th>AdjustmentsToCreditRating</th>\n",
              "      <th>HandsetPrice</th>\n",
              "      <th>MadeCallToRetentionTeam</th>\n",
              "      <th>CreditRating</th>\n",
              "      <th>PrizmCode</th>\n",
              "      <th>Occupation</th>\n",
              "      <th>MaritalStatus</th>\n",
              "    </tr>\n",
              "  </thead>\n",
              "  <tbody>\n",
              "    <tr>\n",
              "      <th>0</th>\n",
              "      <td>3000002</td>\n",
              "      <td>Yes</td>\n",
              "      <td>24.00</td>\n",
              "      <td>219.0</td>\n",
              "      <td>22.0</td>\n",
              "      <td>0.25</td>\n",
              "      <td>0.0</td>\n",
              "      <td>0.0</td>\n",
              "      <td>-157.0</td>\n",
              "      <td>-19.0</td>\n",
              "      <td>0.7</td>\n",
              "      <td>0.7</td>\n",
              "      <td>6.3</td>\n",
              "      <td>0.0</td>\n",
              "      <td>0.0</td>\n",
              "      <td>97.2</td>\n",
              "      <td>0.0</td>\n",
              "      <td>0.0</td>\n",
              "      <td>58.0</td>\n",
              "      <td>24.0</td>\n",
              "      <td>1.3</td>\n",
              "      <td>0.0</td>\n",
              "      <td>0.3</td>\n",
              "      <td>61</td>\n",
              "      <td>2</td>\n",
              "      <td>1</td>\n",
              "      <td>SEAPOR503</td>\n",
              "      <td>2.0</td>\n",
              "      <td>2.0</td>\n",
              "      <td>361.0</td>\n",
              "      <td>62.0</td>\n",
              "      <td>0.0</td>\n",
              "      <td>No</td>\n",
              "      <td>No</td>\n",
              "      <td>Yes</td>\n",
              "      <td>No</td>\n",
              "      <td>No</td>\n",
              "      <td>Known</td>\n",
              "      <td>Yes</td>\n",
              "      <td>Yes</td>\n",
              "      <td>No</td>\n",
              "      <td>No</td>\n",
              "      <td>Yes</td>\n",
              "      <td>Yes</td>\n",
              "      <td>1</td>\n",
              "      <td>0</td>\n",
              "      <td>No</td>\n",
              "      <td>No</td>\n",
              "      <td>0</td>\n",
              "      <td>4</td>\n",
              "      <td>No</td>\n",
              "      <td>0</td>\n",
              "      <td>30</td>\n",
              "      <td>Yes</td>\n",
              "      <td>1-Highest</td>\n",
              "      <td>Suburban</td>\n",
              "      <td>Professional</td>\n",
              "      <td>No</td>\n",
              "    </tr>\n",
              "    <tr>\n",
              "      <th>1</th>\n",
              "      <td>3000010</td>\n",
              "      <td>Yes</td>\n",
              "      <td>16.99</td>\n",
              "      <td>10.0</td>\n",
              "      <td>17.0</td>\n",
              "      <td>0.00</td>\n",
              "      <td>0.0</td>\n",
              "      <td>0.0</td>\n",
              "      <td>-4.0</td>\n",
              "      <td>0.0</td>\n",
              "      <td>0.3</td>\n",
              "      <td>0.0</td>\n",
              "      <td>2.7</td>\n",
              "      <td>0.0</td>\n",
              "      <td>0.0</td>\n",
              "      <td>0.0</td>\n",
              "      <td>0.0</td>\n",
              "      <td>0.0</td>\n",
              "      <td>5.0</td>\n",
              "      <td>1.0</td>\n",
              "      <td>0.3</td>\n",
              "      <td>0.0</td>\n",
              "      <td>0.0</td>\n",
              "      <td>58</td>\n",
              "      <td>1</td>\n",
              "      <td>1</td>\n",
              "      <td>PITHOM412</td>\n",
              "      <td>2.0</td>\n",
              "      <td>1.0</td>\n",
              "      <td>1504.0</td>\n",
              "      <td>40.0</td>\n",
              "      <td>42.0</td>\n",
              "      <td>Yes</td>\n",
              "      <td>No</td>\n",
              "      <td>No</td>\n",
              "      <td>No</td>\n",
              "      <td>No</td>\n",
              "      <td>Known</td>\n",
              "      <td>Yes</td>\n",
              "      <td>Yes</td>\n",
              "      <td>No</td>\n",
              "      <td>No</td>\n",
              "      <td>Yes</td>\n",
              "      <td>Yes</td>\n",
              "      <td>0</td>\n",
              "      <td>0</td>\n",
              "      <td>Yes</td>\n",
              "      <td>No</td>\n",
              "      <td>0</td>\n",
              "      <td>5</td>\n",
              "      <td>No</td>\n",
              "      <td>0</td>\n",
              "      <td>30</td>\n",
              "      <td>No</td>\n",
              "      <td>4-Medium</td>\n",
              "      <td>Suburban</td>\n",
              "      <td>Professional</td>\n",
              "      <td>Yes</td>\n",
              "    </tr>\n",
              "    <tr>\n",
              "      <th>2</th>\n",
              "      <td>3000014</td>\n",
              "      <td>No</td>\n",
              "      <td>38.00</td>\n",
              "      <td>8.0</td>\n",
              "      <td>38.0</td>\n",
              "      <td>0.00</td>\n",
              "      <td>0.0</td>\n",
              "      <td>0.0</td>\n",
              "      <td>-2.0</td>\n",
              "      <td>0.0</td>\n",
              "      <td>0.0</td>\n",
              "      <td>0.0</td>\n",
              "      <td>0.0</td>\n",
              "      <td>0.0</td>\n",
              "      <td>0.0</td>\n",
              "      <td>0.4</td>\n",
              "      <td>0.3</td>\n",
              "      <td>0.0</td>\n",
              "      <td>1.3</td>\n",
              "      <td>3.7</td>\n",
              "      <td>0.0</td>\n",
              "      <td>0.0</td>\n",
              "      <td>0.0</td>\n",
              "      <td>60</td>\n",
              "      <td>1</td>\n",
              "      <td>1</td>\n",
              "      <td>MILMIL414</td>\n",
              "      <td>1.0</td>\n",
              "      <td>1.0</td>\n",
              "      <td>1812.0</td>\n",
              "      <td>26.0</td>\n",
              "      <td>26.0</td>\n",
              "      <td>Yes</td>\n",
              "      <td>No</td>\n",
              "      <td>No</td>\n",
              "      <td>No</td>\n",
              "      <td>No</td>\n",
              "      <td>Unknown</td>\n",
              "      <td>No</td>\n",
              "      <td>No</td>\n",
              "      <td>No</td>\n",
              "      <td>No</td>\n",
              "      <td>No</td>\n",
              "      <td>Yes</td>\n",
              "      <td>0</td>\n",
              "      <td>0</td>\n",
              "      <td>Yes</td>\n",
              "      <td>No</td>\n",
              "      <td>0</td>\n",
              "      <td>6</td>\n",
              "      <td>No</td>\n",
              "      <td>0</td>\n",
              "      <td>Unknown</td>\n",
              "      <td>No</td>\n",
              "      <td>3-Good</td>\n",
              "      <td>Town</td>\n",
              "      <td>Crafts</td>\n",
              "      <td>Yes</td>\n",
              "    </tr>\n",
              "    <tr>\n",
              "      <th>3</th>\n",
              "      <td>3000022</td>\n",
              "      <td>No</td>\n",
              "      <td>82.28</td>\n",
              "      <td>1312.0</td>\n",
              "      <td>75.0</td>\n",
              "      <td>1.24</td>\n",
              "      <td>0.0</td>\n",
              "      <td>0.0</td>\n",
              "      <td>157.0</td>\n",
              "      <td>8.1</td>\n",
              "      <td>52.0</td>\n",
              "      <td>7.7</td>\n",
              "      <td>76.0</td>\n",
              "      <td>4.3</td>\n",
              "      <td>1.3</td>\n",
              "      <td>200.3</td>\n",
              "      <td>370.3</td>\n",
              "      <td>147.0</td>\n",
              "      <td>555.7</td>\n",
              "      <td>303.7</td>\n",
              "      <td>59.7</td>\n",
              "      <td>0.0</td>\n",
              "      <td>22.7</td>\n",
              "      <td>59</td>\n",
              "      <td>2</td>\n",
              "      <td>2</td>\n",
              "      <td>PITHOM412</td>\n",
              "      <td>9.0</td>\n",
              "      <td>4.0</td>\n",
              "      <td>458.0</td>\n",
              "      <td>30.0</td>\n",
              "      <td>0.0</td>\n",
              "      <td>No</td>\n",
              "      <td>No</td>\n",
              "      <td>Yes</td>\n",
              "      <td>No</td>\n",
              "      <td>No</td>\n",
              "      <td>Known</td>\n",
              "      <td>Yes</td>\n",
              "      <td>Yes</td>\n",
              "      <td>No</td>\n",
              "      <td>No</td>\n",
              "      <td>No</td>\n",
              "      <td>Yes</td>\n",
              "      <td>0</td>\n",
              "      <td>0</td>\n",
              "      <td>Yes</td>\n",
              "      <td>No</td>\n",
              "      <td>0</td>\n",
              "      <td>6</td>\n",
              "      <td>No</td>\n",
              "      <td>0</td>\n",
              "      <td>10</td>\n",
              "      <td>No</td>\n",
              "      <td>4-Medium</td>\n",
              "      <td>Other</td>\n",
              "      <td>Other</td>\n",
              "      <td>No</td>\n",
              "    </tr>\n",
              "    <tr>\n",
              "      <th>4</th>\n",
              "      <td>3000026</td>\n",
              "      <td>Yes</td>\n",
              "      <td>17.14</td>\n",
              "      <td>0.0</td>\n",
              "      <td>17.0</td>\n",
              "      <td>0.00</td>\n",
              "      <td>0.0</td>\n",
              "      <td>0.0</td>\n",
              "      <td>0.0</td>\n",
              "      <td>-0.2</td>\n",
              "      <td>0.0</td>\n",
              "      <td>0.0</td>\n",
              "      <td>0.0</td>\n",
              "      <td>0.0</td>\n",
              "      <td>0.0</td>\n",
              "      <td>0.0</td>\n",
              "      <td>0.0</td>\n",
              "      <td>0.0</td>\n",
              "      <td>0.0</td>\n",
              "      <td>0.0</td>\n",
              "      <td>0.0</td>\n",
              "      <td>0.0</td>\n",
              "      <td>0.0</td>\n",
              "      <td>53</td>\n",
              "      <td>2</td>\n",
              "      <td>2</td>\n",
              "      <td>OKCTUL918</td>\n",
              "      <td>4.0</td>\n",
              "      <td>3.0</td>\n",
              "      <td>852.0</td>\n",
              "      <td>46.0</td>\n",
              "      <td>54.0</td>\n",
              "      <td>No</td>\n",
              "      <td>No</td>\n",
              "      <td>No</td>\n",
              "      <td>No</td>\n",
              "      <td>No</td>\n",
              "      <td>Known</td>\n",
              "      <td>Yes</td>\n",
              "      <td>Yes</td>\n",
              "      <td>No</td>\n",
              "      <td>No</td>\n",
              "      <td>Yes</td>\n",
              "      <td>Yes</td>\n",
              "      <td>0</td>\n",
              "      <td>0</td>\n",
              "      <td>No</td>\n",
              "      <td>Yes</td>\n",
              "      <td>0</td>\n",
              "      <td>9</td>\n",
              "      <td>No</td>\n",
              "      <td>1</td>\n",
              "      <td>10</td>\n",
              "      <td>No</td>\n",
              "      <td>1-Highest</td>\n",
              "      <td>Other</td>\n",
              "      <td>Professional</td>\n",
              "      <td>Yes</td>\n",
              "    </tr>\n",
              "  </tbody>\n",
              "</table>\n",
              "</div>"
            ],
            "text/plain": [
              "   CustomerID Churn  MonthlyRevenue  ...  PrizmCode    Occupation  MaritalStatus\n",
              "0     3000002   Yes           24.00  ...   Suburban  Professional             No\n",
              "1     3000010   Yes           16.99  ...   Suburban  Professional            Yes\n",
              "2     3000014    No           38.00  ...       Town        Crafts            Yes\n",
              "3     3000022    No           82.28  ...      Other         Other             No\n",
              "4     3000026   Yes           17.14  ...      Other  Professional            Yes\n",
              "\n",
              "[5 rows x 58 columns]"
            ]
          },
          "metadata": {
            "tags": []
          },
          "execution_count": 3
        }
      ]
    },
    {
      "cell_type": "markdown",
      "metadata": {
        "id": "Do4wf0HedWEi"
      },
      "source": [
        "Perform the following preprocessing steps:\n",
        "\n",
        "- This dataset has many columns; identify a subset of 10-15 features that you think could affect a customer's propensity to churn (also called \"customer loss\" or \"customer attrition\"). Include at least 1 categorical variable.\n",
        "- Drop all rows that containing any missing values (this should be a fairly small number of rows)\n",
        "- Convert the response from a string to a binary 1-0 encoding."
      ]
    },
    {
      "cell_type": "code",
      "metadata": {
        "id": "RRY3_9BVZMKz"
      },
      "source": [
        "tele_df['Churn'] = tele_df['Churn'].replace({'Yes': 1, 'No':0})\n",
        "tele_df.dropna(inplace=True)"
      ],
      "execution_count": 4,
      "outputs": []
    },
    {
      "cell_type": "code",
      "metadata": {
        "id": "IOYothvxdWEi",
        "outputId": "df96d13a-c751-49a2-c8ab-a9e6487004e1",
        "colab": {
          "base_uri": "https://localhost:8080/",
          "height": 415
        }
      },
      "source": [
        "# answer goes here\n",
        "tele_df.select_dtypes(include='O').nunique()"
      ],
      "execution_count": 5,
      "outputs": [
        {
          "output_type": "execute_result",
          "data": {
            "text/plain": [
              "ServiceArea                743\n",
              "ChildrenInHH                 2\n",
              "HandsetRefurbished           2\n",
              "HandsetWebCapable            2\n",
              "TruckOwner                   2\n",
              "RVOwner                      2\n",
              "Homeownership                2\n",
              "BuysViaMailOrder             2\n",
              "RespondsToMailOffers         2\n",
              "OptOutMailings               2\n",
              "NonUSTravel                  2\n",
              "OwnsComputer                 2\n",
              "HasCreditCard                2\n",
              "NewCellphoneUser             2\n",
              "NotNewCellphoneUser          2\n",
              "OwnsMotorcycle               2\n",
              "HandsetPrice                16\n",
              "MadeCallToRetentionTeam      2\n",
              "CreditRating                 7\n",
              "PrizmCode                    4\n",
              "Occupation                   8\n",
              "MaritalStatus                3\n",
              "dtype: int64"
            ]
          },
          "metadata": {
            "tags": []
          },
          "execution_count": 5
        }
      ]
    },
    {
      "cell_type": "code",
      "metadata": {
        "id": "aa7LUyLkZ6HC",
        "outputId": "0d614a26-740b-40a0-9334-f731c48cf619",
        "colab": {
          "base_uri": "https://localhost:8080/",
          "height": 1000
        }
      },
      "source": [
        "for col in tele_df.select_dtypes(include='O').columns:\n",
        "  print(f'\\n{col} value counts:')\n",
        "  print(tele_df[col].value_counts(dropna=False))"
      ],
      "execution_count": 6,
      "outputs": [
        {
          "output_type": "stream",
          "text": [
            "\n",
            "ServiceArea value counts:\n",
            "NYCBRO917    1646\n",
            "DALDAL214    1479\n",
            "HOUHOU281    1471\n",
            "NYCMAN917    1156\n",
            "DALFTW817     771\n",
            "             ... \n",
            "APCLXT240       1\n",
            "KCYHES316       1\n",
            "NCRLUM910       1\n",
            "SFRFAI707       1\n",
            "OHIBCY419       1\n",
            "Name: ServiceArea, Length: 743, dtype: int64\n",
            "\n",
            "ChildrenInHH value counts:\n",
            "No     37483\n",
            "Yes    12269\n",
            "Name: ChildrenInHH, dtype: int64\n",
            "\n",
            "HandsetRefurbished value counts:\n",
            "No     42852\n",
            "Yes     6900\n",
            "Name: HandsetRefurbished, dtype: int64\n",
            "\n",
            "HandsetWebCapable value counts:\n",
            "Yes    44905\n",
            "No      4847\n",
            "Name: HandsetWebCapable, dtype: int64\n",
            "\n",
            "TruckOwner value counts:\n",
            "No     40280\n",
            "Yes     9472\n",
            "Name: TruckOwner, dtype: int64\n",
            "\n",
            "RVOwner value counts:\n",
            "No     45619\n",
            "Yes     4133\n",
            "Name: RVOwner, dtype: int64\n",
            "\n",
            "Homeownership value counts:\n",
            "Known      33725\n",
            "Unknown    16027\n",
            "Name: Homeownership, dtype: int64\n",
            "\n",
            "BuysViaMailOrder value counts:\n",
            "No     31432\n",
            "Yes    18320\n",
            "Name: BuysViaMailOrder, dtype: int64\n",
            "\n",
            "RespondsToMailOffers value counts:\n",
            "No     30667\n",
            "Yes    19085\n",
            "Name: RespondsToMailOffers, dtype: int64\n",
            "\n",
            "OptOutMailings value counts:\n",
            "No     49006\n",
            "Yes      746\n",
            "Name: OptOutMailings, dtype: int64\n",
            "\n",
            "NonUSTravel value counts:\n",
            "No     46896\n",
            "Yes     2856\n",
            "Name: NonUSTravel, dtype: int64\n",
            "\n",
            "OwnsComputer value counts:\n",
            "No     40368\n",
            "Yes     9384\n",
            "Name: OwnsComputer, dtype: int64\n",
            "\n",
            "HasCreditCard value counts:\n",
            "Yes    34241\n",
            "No     15511\n",
            "Name: HasCreditCard, dtype: int64\n",
            "\n",
            "NewCellphoneUser value counts:\n",
            "No     40141\n",
            "Yes     9611\n",
            "Name: NewCellphoneUser, dtype: int64\n",
            "\n",
            "NotNewCellphoneUser value counts:\n",
            "No     42877\n",
            "Yes     6875\n",
            "Name: NotNewCellphoneUser, dtype: int64\n",
            "\n",
            "OwnsMotorcycle value counts:\n",
            "No     49078\n",
            "Yes      674\n",
            "Name: OwnsMotorcycle, dtype: int64\n",
            "\n",
            "HandsetPrice value counts:\n",
            "Unknown    28263\n",
            "30          7147\n",
            "150         4024\n",
            "130         2043\n",
            "80          1901\n",
            "10          1869\n",
            "60          1730\n",
            "200         1227\n",
            "100         1209\n",
            "40           240\n",
            "400           45\n",
            "250           20\n",
            "300           12\n",
            "180            9\n",
            "500            7\n",
            "240            6\n",
            "Name: HandsetPrice, dtype: int64\n",
            "\n",
            "MadeCallToRetentionTeam value counts:\n",
            "No     48131\n",
            "Yes     1621\n",
            "Name: MadeCallToRetentionTeam, dtype: int64\n",
            "\n",
            "CreditRating value counts:\n",
            "2-High       18692\n",
            "1-Highest     8368\n",
            "3-Good        8221\n",
            "5-Low         6320\n",
            "4-Medium      5227\n",
            "7-Lowest      2049\n",
            "6-VeryLow      875\n",
            "Name: CreditRating, dtype: int64\n",
            "\n",
            "PrizmCode value counts:\n",
            "Other       23820\n",
            "Suburban    16049\n",
            "Town         7494\n",
            "Rural        2389\n",
            "Name: PrizmCode, dtype: int64\n",
            "\n",
            "Occupation value counts:\n",
            "Other           36453\n",
            "Professional     8681\n",
            "Crafts           1507\n",
            "Clerical          979\n",
            "Self              872\n",
            "Retired           726\n",
            "Student           377\n",
            "Homemaker         157\n",
            "Name: Occupation, dtype: int64\n",
            "\n",
            "MaritalStatus value counts:\n",
            "Unknown    18649\n",
            "Yes        18506\n",
            "No         12597\n",
            "Name: MaritalStatus, dtype: int64\n"
          ],
          "name": "stdout"
        }
      ]
    },
    {
      "cell_type": "code",
      "metadata": {
        "id": "YwDX1wY2bfe6",
        "outputId": "d2d7a429-cf92-4cdf-cd07-4c04de514f42",
        "colab": {
          "base_uri": "https://localhost:8080/",
          "height": 656
        }
      },
      "source": [
        "np.abs(tele_df.corr()['Churn']).sort_values(ascending=False)"
      ],
      "execution_count": 7,
      "outputs": [
        {
          "output_type": "execute_result",
          "data": {
            "text/plain": [
              "Churn                        1.000000\n",
              "CurrentEquipmentDays         0.102513\n",
              "TotalRecurringCharge         0.058945\n",
              "RetentionCalls               0.058422\n",
              "MonthlyMinutes               0.050165\n",
              "OffPeakCallsInOut            0.040955\n",
              "HandsetModels                0.040470\n",
              "CustomerID                   0.040186\n",
              "PeakCallsInOut               0.039527\n",
              "ReceivedCalls                0.037097\n",
              "CustomerCareCalls            0.035331\n",
              "RetentionOffersAccepted      0.034511\n",
              "InboundCalls                 0.033855\n",
              "Handsets                     0.033730\n",
              "PercChangeMinutes            0.033194\n",
              "UniqueSubs                   0.032839\n",
              "OutboundCalls                0.032489\n",
              "AgeHH1                       0.028761\n",
              "UnansweredCalls              0.028192\n",
              "CallWaitingCalls             0.025509\n",
              "ThreewayCalls                0.023716\n",
              "DirectorAssistedCalls        0.019714\n",
              "AgeHH2                       0.017577\n",
              "MonthsInService              0.017544\n",
              "AdjustmentsToCreditRating    0.016123\n",
              "OverageMinutes               0.015301\n",
              "DroppedCalls                 0.015062\n",
              "ActiveSubs                   0.013049\n",
              "PercChangeRevenues           0.013015\n",
              "IncomeGroup                  0.012982\n",
              "DroppedBlockedCalls          0.012353\n",
              "MonthlyRevenue               0.012065\n",
              "ReferralsMadeBySubscriber    0.011390\n",
              "RoamingCalls                 0.010955\n",
              "BlockedCalls                 0.004474\n",
              "CallForwardingCalls          0.003161\n",
              "Name: Churn, dtype: float64"
            ]
          },
          "metadata": {
            "tags": []
          },
          "execution_count": 7
        }
      ]
    },
    {
      "cell_type": "code",
      "metadata": {
        "id": "F8XKA8JngM2R",
        "outputId": "09ae1c7c-a13d-428f-d9f8-29b6406bc166",
        "colab": {
          "base_uri": "https://localhost:8080/",
          "height": 656
        }
      },
      "source": [
        "tele_df.select_dtypes(include='number').nunique()"
      ],
      "execution_count": 21,
      "outputs": [
        {
          "output_type": "execute_result",
          "data": {
            "text/plain": [
              "CustomerID                   49752\n",
              "Churn                            2\n",
              "MonthlyRevenue               12504\n",
              "MonthlyMinutes                2706\n",
              "TotalRecurringCharge           211\n",
              "DirectorAssistedCalls          143\n",
              "OverageMinutes                 739\n",
              "RoamingCalls                   522\n",
              "PercChangeMinutes             2236\n",
              "PercChangeRevenues            2872\n",
              "DroppedCalls                   283\n",
              "BlockedCalls                   369\n",
              "UnansweredCalls                832\n",
              "CustomerCareCalls              183\n",
              "ThreewayCalls                   78\n",
              "ReceivedCalls                 6061\n",
              "OutboundCalls                  778\n",
              "InboundCalls                   465\n",
              "PeakCallsInOut                1824\n",
              "OffPeakCallsInOut             1657\n",
              "DroppedBlockedCalls            443\n",
              "CallForwardingCalls             30\n",
              "CallWaitingCalls               221\n",
              "MonthsInService                 56\n",
              "UniqueSubs                      15\n",
              "ActiveSubs                      10\n",
              "Handsets                        23\n",
              "HandsetModels                   13\n",
              "CurrentEquipmentDays          1421\n",
              "AgeHH1                          43\n",
              "AgeHH2                          43\n",
              "RetentionCalls                   5\n",
              "RetentionOffersAccepted          4\n",
              "ReferralsMadeBySubscriber       12\n",
              "IncomeGroup                     10\n",
              "AdjustmentsToCreditRating       15\n",
              "dtype: int64"
            ]
          },
          "metadata": {
            "tags": []
          },
          "execution_count": 21
        }
      ]
    },
    {
      "cell_type": "code",
      "metadata": {
        "id": "o4mO921jcxfu",
        "outputId": "96585c3d-73ef-4f05-8dd9-b506d0eb76aa",
        "colab": {
          "base_uri": "https://localhost:8080/",
          "height": 104
        }
      },
      "source": [
        "Y = tele_df['Churn']\n",
        "X = tele_df.select_dtypes(include='number').drop(['Churn'], 1)\n",
        "best = SelectKBest(score_func=f_classif, k=11)\n",
        "X_best = best.fit_transform(X, Y)\n",
        "X_best = pd.DataFrame(X_best, columns=X.columns[best.get_support()])\n",
        "X_best.columns"
      ],
      "execution_count": 26,
      "outputs": [
        {
          "output_type": "execute_result",
          "data": {
            "text/plain": [
              "Index(['CustomerID', 'MonthlyMinutes', 'TotalRecurringCharge',\n",
              "       'CustomerCareCalls', 'ReceivedCalls', 'PeakCallsInOut',\n",
              "       'OffPeakCallsInOut', 'HandsetModels', 'CurrentEquipmentDays',\n",
              "       'RetentionCalls', 'RetentionOffersAccepted'],\n",
              "      dtype='object')"
            ]
          },
          "metadata": {
            "tags": []
          },
          "execution_count": 26
        }
      ]
    },
    {
      "cell_type": "code",
      "metadata": {
        "id": "OgYgxzY6ZMP_"
      },
      "source": [
        "feature_list = ['CreditRating', 'HasCreditCard', 'MonthlyMinutes', 'TotalRecurringCharge',\n",
        "       'CustomerCareCalls', 'ReceivedCalls', 'PeakCallsInOut',\n",
        "       'OffPeakCallsInOut', 'HandsetModels', 'CurrentEquipmentDays',\n",
        "       'RetentionCalls', 'RetentionOffersAccepted']"
      ],
      "execution_count": 9,
      "outputs": []
    },
    {
      "cell_type": "code",
      "metadata": {
        "id": "QyBdRQpamDy7",
        "outputId": "d64461f5-762e-4c2f-de4e-d0865b750430",
        "colab": {
          "base_uri": "https://localhost:8080/",
          "height": 69
        }
      },
      "source": [
        "tele_df['Churn'].value_counts()"
      ],
      "execution_count": 78,
      "outputs": [
        {
          "output_type": "execute_result",
          "data": {
            "text/plain": [
              "0    35507\n",
              "1    14245\n",
              "Name: Churn, dtype: int64"
            ]
          },
          "metadata": {
            "tags": []
          },
          "execution_count": 78
        }
      ]
    },
    {
      "cell_type": "markdown",
      "metadata": {
        "id": "9or_wHIEdWEk"
      },
      "source": [
        "Although some implementations of tree-based models support categorical variables directly, scikit-learn's implementation does not, so we will need to convert our categorical variable(s) into numbers. In linear regression, we used one-hot/dummy encoding, but this has drawbacks that can be particularly problematic in the context of trees. Namely, dummy encoding can lead to very sparse columns when dealing with high-dimensional categorical features; the tree treats these levels as indepedent features is very unlikely to make a split on any of the individual levels, since the corresponding columns consist almost entirely consist of a single value.\n",
        "\n",
        "Ideally, we would consider all of the levels simultaneously, which trees can do efficiently. However, sklearn does not implement this efficient algorithm for splitting on categorical variables. In this situation, a better alternative to dummy encoding is leave-one-out-encoding. This transforms each categorical into its conditional probability of the positive class, excluding the observation itself to avoid potential data leakage. Perform the following steps:\n",
        "\n",
        "- Create an 80-20 train/test split on the data\n",
        "- Fit a leave-one-out encoder to the training data and encode the categorical variables in the training data. The category_encoders package is helpful for this task. (Note that this ordering is important; if we fitted the encoder to the full dataset before making the train/test split, we would introduce data leakage by allowing the test data to affecting the estimates of the category-conditional probabilities.)"
      ]
    },
    {
      "cell_type": "code",
      "metadata": {
        "id": "CSzcnmlHdWEl"
      },
      "source": [
        "# answer goes here\n",
        "X = tele_df[feature_list]\n",
        "Y = tele_df['Churn']\n",
        "\n",
        "X_train, X_test, y_train, y_test = train_test_split(X, Y, test_size=0.2)"
      ],
      "execution_count": 68,
      "outputs": []
    },
    {
      "cell_type": "code",
      "metadata": {
        "id": "LH8dBokzIaXD",
        "outputId": "0bf2ba3a-fd2b-47ec-c7fc-aac76abaa24a",
        "colab": {
          "base_uri": "https://localhost:8080/",
          "height": 72
        }
      },
      "source": [
        "encoder = ce.LeaveOneOutEncoder(cols=['CreditRating', 'HasCreditCard'])\n",
        "encoder.fit(X_train, y_train)\n",
        "X_train_cleaned = encoder.transform(X_train)"
      ],
      "execution_count": 69,
      "outputs": [
        {
          "output_type": "stream",
          "text": [
            "/usr/local/lib/python3.6/dist-packages/category_encoders/utils.py:21: FutureWarning: is_categorical is deprecated and will be removed in a future version.  Use is_categorical_dtype instead\n",
            "  elif pd.api.types.is_categorical(cols):\n"
          ],
          "name": "stderr"
        }
      ]
    },
    {
      "cell_type": "code",
      "metadata": {
        "id": "nvtpDKzEIaei",
        "outputId": "f61c8095-3503-47dd-86ff-1c46790ff8b4",
        "colab": {
          "base_uri": "https://localhost:8080/",
          "height": 427
        }
      },
      "source": [
        "X_train_cleaned"
      ],
      "execution_count": 70,
      "outputs": [
        {
          "output_type": "execute_result",
          "data": {
            "text/html": [
              "<div>\n",
              "<style scoped>\n",
              "    .dataframe tbody tr th:only-of-type {\n",
              "        vertical-align: middle;\n",
              "    }\n",
              "\n",
              "    .dataframe tbody tr th {\n",
              "        vertical-align: top;\n",
              "    }\n",
              "\n",
              "    .dataframe thead th {\n",
              "        text-align: right;\n",
              "    }\n",
              "</style>\n",
              "<table border=\"1\" class=\"dataframe\">\n",
              "  <thead>\n",
              "    <tr style=\"text-align: right;\">\n",
              "      <th></th>\n",
              "      <th>CreditRating</th>\n",
              "      <th>HasCreditCard</th>\n",
              "      <th>MonthlyMinutes</th>\n",
              "      <th>TotalRecurringCharge</th>\n",
              "      <th>CustomerCareCalls</th>\n",
              "      <th>ReceivedCalls</th>\n",
              "      <th>PeakCallsInOut</th>\n",
              "      <th>OffPeakCallsInOut</th>\n",
              "      <th>HandsetModels</th>\n",
              "      <th>CurrentEquipmentDays</th>\n",
              "      <th>RetentionCalls</th>\n",
              "      <th>RetentionOffersAccepted</th>\n",
              "    </tr>\n",
              "  </thead>\n",
              "  <tbody>\n",
              "    <tr>\n",
              "      <th>40731</th>\n",
              "      <td>0.303199</td>\n",
              "      <td>0.285730</td>\n",
              "      <td>609.0</td>\n",
              "      <td>45.0</td>\n",
              "      <td>0.0</td>\n",
              "      <td>48.8</td>\n",
              "      <td>88.0</td>\n",
              "      <td>113.3</td>\n",
              "      <td>1.0</td>\n",
              "      <td>375.0</td>\n",
              "      <td>0</td>\n",
              "      <td>0</td>\n",
              "    </tr>\n",
              "    <tr>\n",
              "      <th>50155</th>\n",
              "      <td>0.306033</td>\n",
              "      <td>0.291583</td>\n",
              "      <td>399.0</td>\n",
              "      <td>50.0</td>\n",
              "      <td>1.7</td>\n",
              "      <td>131.8</td>\n",
              "      <td>123.3</td>\n",
              "      <td>61.7</td>\n",
              "      <td>1.0</td>\n",
              "      <td>635.0</td>\n",
              "      <td>0</td>\n",
              "      <td>0</td>\n",
              "    </tr>\n",
              "    <tr>\n",
              "      <th>44352</th>\n",
              "      <td>0.259454</td>\n",
              "      <td>0.285730</td>\n",
              "      <td>2091.0</td>\n",
              "      <td>70.0</td>\n",
              "      <td>2.0</td>\n",
              "      <td>1098.1</td>\n",
              "      <td>240.0</td>\n",
              "      <td>656.0</td>\n",
              "      <td>2.0</td>\n",
              "      <td>150.0</td>\n",
              "      <td>0</td>\n",
              "      <td>0</td>\n",
              "    </tr>\n",
              "    <tr>\n",
              "      <th>9246</th>\n",
              "      <td>0.311759</td>\n",
              "      <td>0.285730</td>\n",
              "      <td>436.0</td>\n",
              "      <td>50.0</td>\n",
              "      <td>0.0</td>\n",
              "      <td>19.1</td>\n",
              "      <td>94.0</td>\n",
              "      <td>22.0</td>\n",
              "      <td>1.0</td>\n",
              "      <td>697.0</td>\n",
              "      <td>0</td>\n",
              "      <td>0</td>\n",
              "    </tr>\n",
              "    <tr>\n",
              "      <th>9776</th>\n",
              "      <td>0.303199</td>\n",
              "      <td>0.285730</td>\n",
              "      <td>147.0</td>\n",
              "      <td>30.0</td>\n",
              "      <td>0.0</td>\n",
              "      <td>32.4</td>\n",
              "      <td>61.7</td>\n",
              "      <td>14.3</td>\n",
              "      <td>1.0</td>\n",
              "      <td>749.0</td>\n",
              "      <td>0</td>\n",
              "      <td>0</td>\n",
              "    </tr>\n",
              "    <tr>\n",
              "      <th>...</th>\n",
              "      <td>...</td>\n",
              "      <td>...</td>\n",
              "      <td>...</td>\n",
              "      <td>...</td>\n",
              "      <td>...</td>\n",
              "      <td>...</td>\n",
              "      <td>...</td>\n",
              "      <td>...</td>\n",
              "      <td>...</td>\n",
              "      <td>...</td>\n",
              "      <td>...</td>\n",
              "      <td>...</td>\n",
              "    </tr>\n",
              "    <tr>\n",
              "      <th>30833</th>\n",
              "      <td>0.306033</td>\n",
              "      <td>0.285730</td>\n",
              "      <td>0.0</td>\n",
              "      <td>40.0</td>\n",
              "      <td>0.0</td>\n",
              "      <td>0.0</td>\n",
              "      <td>0.0</td>\n",
              "      <td>0.0</td>\n",
              "      <td>2.0</td>\n",
              "      <td>221.0</td>\n",
              "      <td>0</td>\n",
              "      <td>0</td>\n",
              "    </tr>\n",
              "    <tr>\n",
              "      <th>37622</th>\n",
              "      <td>0.306033</td>\n",
              "      <td>0.285730</td>\n",
              "      <td>722.0</td>\n",
              "      <td>45.0</td>\n",
              "      <td>0.7</td>\n",
              "      <td>201.9</td>\n",
              "      <td>77.0</td>\n",
              "      <td>240.0</td>\n",
              "      <td>2.0</td>\n",
              "      <td>137.0</td>\n",
              "      <td>0</td>\n",
              "      <td>0</td>\n",
              "    </tr>\n",
              "    <tr>\n",
              "      <th>6593</th>\n",
              "      <td>0.311759</td>\n",
              "      <td>0.285730</td>\n",
              "      <td>740.0</td>\n",
              "      <td>53.0</td>\n",
              "      <td>13.7</td>\n",
              "      <td>95.8</td>\n",
              "      <td>46.7</td>\n",
              "      <td>59.3</td>\n",
              "      <td>1.0</td>\n",
              "      <td>856.0</td>\n",
              "      <td>0</td>\n",
              "      <td>0</td>\n",
              "    </tr>\n",
              "    <tr>\n",
              "      <th>1166</th>\n",
              "      <td>0.311759</td>\n",
              "      <td>0.285730</td>\n",
              "      <td>504.0</td>\n",
              "      <td>71.0</td>\n",
              "      <td>4.0</td>\n",
              "      <td>103.7</td>\n",
              "      <td>133.7</td>\n",
              "      <td>55.0</td>\n",
              "      <td>5.0</td>\n",
              "      <td>49.0</td>\n",
              "      <td>0</td>\n",
              "      <td>0</td>\n",
              "    </tr>\n",
              "    <tr>\n",
              "      <th>46192</th>\n",
              "      <td>0.214428</td>\n",
              "      <td>0.285730</td>\n",
              "      <td>128.0</td>\n",
              "      <td>30.0</td>\n",
              "      <td>2.7</td>\n",
              "      <td>15.0</td>\n",
              "      <td>11.3</td>\n",
              "      <td>18.3</td>\n",
              "      <td>1.0</td>\n",
              "      <td>311.0</td>\n",
              "      <td>0</td>\n",
              "      <td>0</td>\n",
              "    </tr>\n",
              "  </tbody>\n",
              "</table>\n",
              "<p>39801 rows × 12 columns</p>\n",
              "</div>"
            ],
            "text/plain": [
              "       CreditRating  HasCreditCard  ...  RetentionCalls  RetentionOffersAccepted\n",
              "40731      0.303199       0.285730  ...               0                        0\n",
              "50155      0.306033       0.291583  ...               0                        0\n",
              "44352      0.259454       0.285730  ...               0                        0\n",
              "9246       0.311759       0.285730  ...               0                        0\n",
              "9776       0.303199       0.285730  ...               0                        0\n",
              "...             ...            ...  ...             ...                      ...\n",
              "30833      0.306033       0.285730  ...               0                        0\n",
              "37622      0.306033       0.285730  ...               0                        0\n",
              "6593       0.311759       0.285730  ...               0                        0\n",
              "1166       0.311759       0.285730  ...               0                        0\n",
              "46192      0.214428       0.285730  ...               0                        0\n",
              "\n",
              "[39801 rows x 12 columns]"
            ]
          },
          "metadata": {
            "tags": []
          },
          "execution_count": 70
        }
      ]
    },
    {
      "cell_type": "markdown",
      "metadata": {
        "id": "k4_2MdfddWEo"
      },
      "source": [
        "Next, fit the random forest model. You can tinker with or tune the parameters if you like, although we will use the default parameter values."
      ]
    },
    {
      "cell_type": "code",
      "metadata": {
        "id": "tLpHIpL1dWEp",
        "outputId": "d9cb4fcc-7762-44c3-ac65-148e6d395611",
        "colab": {
          "base_uri": "https://localhost:8080/",
          "height": 155
        }
      },
      "source": [
        "# answer goes here\n",
        "forest = RandomForestClassifier()\n",
        "\n",
        "forest.fit(X_train_cleaned, y_train)"
      ],
      "execution_count": 71,
      "outputs": [
        {
          "output_type": "execute_result",
          "data": {
            "text/plain": [
              "RandomForestClassifier(bootstrap=True, ccp_alpha=0.0, class_weight=None,\n",
              "                       criterion='gini', max_depth=None, max_features='auto',\n",
              "                       max_leaf_nodes=None, max_samples=None,\n",
              "                       min_impurity_decrease=0.0, min_impurity_split=None,\n",
              "                       min_samples_leaf=1, min_samples_split=2,\n",
              "                       min_weight_fraction_leaf=0.0, n_estimators=100,\n",
              "                       n_jobs=None, oob_score=False, random_state=None,\n",
              "                       verbose=0, warm_start=False)"
            ]
          },
          "metadata": {
            "tags": []
          },
          "execution_count": 71
        }
      ]
    },
    {
      "cell_type": "markdown",
      "metadata": {
        "id": "ClKz91ajdWEq"
      },
      "source": [
        "To evaluate our model, produce the predicted values for the test sample. Remember to apply our previously fitted encoder to the test data prior to making predictions."
      ]
    },
    {
      "cell_type": "code",
      "metadata": {
        "id": "p9tiXUV2dWEr"
      },
      "source": [
        "# answer goes here\n",
        "X_test_cleaned = encoder.transform(X_test)\n",
        "\n",
        "y_preds = forest.predict(X_test_cleaned)"
      ],
      "execution_count": 72,
      "outputs": []
    },
    {
      "cell_type": "code",
      "metadata": {
        "id": "7F4HkH_mmPfc",
        "outputId": "3595adf3-2c32-4db7-fe9e-58092ee11044",
        "colab": {
          "base_uri": "https://localhost:8080/",
          "height": 427
        }
      },
      "source": [
        "X_test_cleaned"
      ],
      "execution_count": 80,
      "outputs": [
        {
          "output_type": "execute_result",
          "data": {
            "text/html": [
              "<div>\n",
              "<style scoped>\n",
              "    .dataframe tbody tr th:only-of-type {\n",
              "        vertical-align: middle;\n",
              "    }\n",
              "\n",
              "    .dataframe tbody tr th {\n",
              "        vertical-align: top;\n",
              "    }\n",
              "\n",
              "    .dataframe thead th {\n",
              "        text-align: right;\n",
              "    }\n",
              "</style>\n",
              "<table border=\"1\" class=\"dataframe\">\n",
              "  <thead>\n",
              "    <tr style=\"text-align: right;\">\n",
              "      <th></th>\n",
              "      <th>CreditRating</th>\n",
              "      <th>HasCreditCard</th>\n",
              "      <th>MonthlyMinutes</th>\n",
              "      <th>TotalRecurringCharge</th>\n",
              "      <th>CustomerCareCalls</th>\n",
              "      <th>ReceivedCalls</th>\n",
              "      <th>PeakCallsInOut</th>\n",
              "      <th>OffPeakCallsInOut</th>\n",
              "      <th>HandsetModels</th>\n",
              "      <th>CurrentEquipmentDays</th>\n",
              "      <th>RetentionCalls</th>\n",
              "      <th>RetentionOffersAccepted</th>\n",
              "    </tr>\n",
              "  </thead>\n",
              "  <tbody>\n",
              "    <tr>\n",
              "      <th>3374</th>\n",
              "      <td>0.311759</td>\n",
              "      <td>0.285730</td>\n",
              "      <td>1014.0</td>\n",
              "      <td>60.0</td>\n",
              "      <td>0.0</td>\n",
              "      <td>107.7</td>\n",
              "      <td>155.0</td>\n",
              "      <td>108.3</td>\n",
              "      <td>5.0</td>\n",
              "      <td>35.0</td>\n",
              "      <td>1</td>\n",
              "      <td>1</td>\n",
              "    </tr>\n",
              "    <tr>\n",
              "      <th>13363</th>\n",
              "      <td>0.303199</td>\n",
              "      <td>0.285730</td>\n",
              "      <td>1260.0</td>\n",
              "      <td>75.0</td>\n",
              "      <td>8.0</td>\n",
              "      <td>453.9</td>\n",
              "      <td>391.7</td>\n",
              "      <td>224.3</td>\n",
              "      <td>2.0</td>\n",
              "      <td>562.0</td>\n",
              "      <td>0</td>\n",
              "      <td>0</td>\n",
              "    </tr>\n",
              "    <tr>\n",
              "      <th>24878</th>\n",
              "      <td>0.303199</td>\n",
              "      <td>0.285730</td>\n",
              "      <td>25.0</td>\n",
              "      <td>30.0</td>\n",
              "      <td>0.0</td>\n",
              "      <td>4.9</td>\n",
              "      <td>2.0</td>\n",
              "      <td>0.3</td>\n",
              "      <td>1.0</td>\n",
              "      <td>399.0</td>\n",
              "      <td>0</td>\n",
              "      <td>0</td>\n",
              "    </tr>\n",
              "    <tr>\n",
              "      <th>22172</th>\n",
              "      <td>0.303199</td>\n",
              "      <td>0.285730</td>\n",
              "      <td>389.0</td>\n",
              "      <td>30.0</td>\n",
              "      <td>0.0</td>\n",
              "      <td>56.3</td>\n",
              "      <td>101.3</td>\n",
              "      <td>70.0</td>\n",
              "      <td>1.0</td>\n",
              "      <td>452.0</td>\n",
              "      <td>0</td>\n",
              "      <td>0</td>\n",
              "    </tr>\n",
              "    <tr>\n",
              "      <th>42655</th>\n",
              "      <td>0.214428</td>\n",
              "      <td>0.291583</td>\n",
              "      <td>378.0</td>\n",
              "      <td>40.0</td>\n",
              "      <td>2.3</td>\n",
              "      <td>34.7</td>\n",
              "      <td>60.7</td>\n",
              "      <td>104.7</td>\n",
              "      <td>1.0</td>\n",
              "      <td>195.0</td>\n",
              "      <td>0</td>\n",
              "      <td>0</td>\n",
              "    </tr>\n",
              "    <tr>\n",
              "      <th>...</th>\n",
              "      <td>...</td>\n",
              "      <td>...</td>\n",
              "      <td>...</td>\n",
              "      <td>...</td>\n",
              "      <td>...</td>\n",
              "      <td>...</td>\n",
              "      <td>...</td>\n",
              "      <td>...</td>\n",
              "      <td>...</td>\n",
              "      <td>...</td>\n",
              "      <td>...</td>\n",
              "      <td>...</td>\n",
              "    </tr>\n",
              "    <tr>\n",
              "      <th>40224</th>\n",
              "      <td>0.264748</td>\n",
              "      <td>0.285730</td>\n",
              "      <td>112.0</td>\n",
              "      <td>36.0</td>\n",
              "      <td>0.0</td>\n",
              "      <td>26.4</td>\n",
              "      <td>42.3</td>\n",
              "      <td>15.7</td>\n",
              "      <td>1.0</td>\n",
              "      <td>317.0</td>\n",
              "      <td>0</td>\n",
              "      <td>0</td>\n",
              "    </tr>\n",
              "    <tr>\n",
              "      <th>21227</th>\n",
              "      <td>0.303199</td>\n",
              "      <td>0.285730</td>\n",
              "      <td>1645.0</td>\n",
              "      <td>30.0</td>\n",
              "      <td>0.7</td>\n",
              "      <td>242.6</td>\n",
              "      <td>190.0</td>\n",
              "      <td>90.0</td>\n",
              "      <td>1.0</td>\n",
              "      <td>470.0</td>\n",
              "      <td>0</td>\n",
              "      <td>0</td>\n",
              "    </tr>\n",
              "    <tr>\n",
              "      <th>37384</th>\n",
              "      <td>0.259454</td>\n",
              "      <td>0.291583</td>\n",
              "      <td>294.0</td>\n",
              "      <td>45.0</td>\n",
              "      <td>0.0</td>\n",
              "      <td>44.1</td>\n",
              "      <td>41.3</td>\n",
              "      <td>52.7</td>\n",
              "      <td>1.0</td>\n",
              "      <td>225.0</td>\n",
              "      <td>0</td>\n",
              "      <td>0</td>\n",
              "    </tr>\n",
              "    <tr>\n",
              "      <th>34930</th>\n",
              "      <td>0.259454</td>\n",
              "      <td>0.291583</td>\n",
              "      <td>776.0</td>\n",
              "      <td>40.0</td>\n",
              "      <td>0.0</td>\n",
              "      <td>0.0</td>\n",
              "      <td>0.0</td>\n",
              "      <td>0.0</td>\n",
              "      <td>1.0</td>\n",
              "      <td>429.0</td>\n",
              "      <td>0</td>\n",
              "      <td>0</td>\n",
              "    </tr>\n",
              "    <tr>\n",
              "      <th>46400</th>\n",
              "      <td>0.303199</td>\n",
              "      <td>0.291583</td>\n",
              "      <td>15.0</td>\n",
              "      <td>30.0</td>\n",
              "      <td>0.0</td>\n",
              "      <td>0.0</td>\n",
              "      <td>0.0</td>\n",
              "      <td>0.0</td>\n",
              "      <td>1.0</td>\n",
              "      <td>307.0</td>\n",
              "      <td>0</td>\n",
              "      <td>0</td>\n",
              "    </tr>\n",
              "  </tbody>\n",
              "</table>\n",
              "<p>9951 rows × 12 columns</p>\n",
              "</div>"
            ],
            "text/plain": [
              "       CreditRating  HasCreditCard  ...  RetentionCalls  RetentionOffersAccepted\n",
              "3374       0.311759       0.285730  ...               1                        1\n",
              "13363      0.303199       0.285730  ...               0                        0\n",
              "24878      0.303199       0.285730  ...               0                        0\n",
              "22172      0.303199       0.285730  ...               0                        0\n",
              "42655      0.214428       0.291583  ...               0                        0\n",
              "...             ...            ...  ...             ...                      ...\n",
              "40224      0.264748       0.285730  ...               0                        0\n",
              "21227      0.303199       0.285730  ...               0                        0\n",
              "37384      0.259454       0.291583  ...               0                        0\n",
              "34930      0.259454       0.291583  ...               0                        0\n",
              "46400      0.303199       0.291583  ...               0                        0\n",
              "\n",
              "[9951 rows x 12 columns]"
            ]
          },
          "metadata": {
            "tags": []
          },
          "execution_count": 80
        }
      ]
    },
    {
      "cell_type": "markdown",
      "metadata": {
        "id": "M4QYFoevdWEs"
      },
      "source": [
        "After making the predictions, print out the classification report (sklearn.metrics.classification_report). In addition, plot the confusion matrix and ROC curve. How did our model perform?"
      ]
    },
    {
      "cell_type": "code",
      "metadata": {
        "id": "wmzoxEQsdWEs",
        "outputId": "4d4ea5dc-f328-4064-d1f8-6a734b679ade",
        "colab": {
          "base_uri": "https://localhost:8080/",
          "height": 173
        }
      },
      "source": [
        "# answer goes here\n",
        "print(classification_report(y_test, y_preds))"
      ],
      "execution_count": 73,
      "outputs": [
        {
          "output_type": "stream",
          "text": [
            "              precision    recall  f1-score   support\n",
            "\n",
            "           0       0.73      0.96      0.83      7151\n",
            "           1       0.48      0.10      0.17      2800\n",
            "\n",
            "    accuracy                           0.72      9951\n",
            "   macro avg       0.61      0.53      0.50      9951\n",
            "weighted avg       0.66      0.72      0.64      9951\n",
            "\n"
          ],
          "name": "stdout"
        }
      ]
    },
    {
      "cell_type": "code",
      "metadata": {
        "id": "E3TIVaHuic-R",
        "outputId": "c0bc5f02-b671-4521-bc87-4849ebd6702e",
        "colab": {
          "base_uri": "https://localhost:8080/",
          "height": 279
        }
      },
      "source": [
        "plot_confusion_matrix(forest, X_test_cleaned, y_test, values_format='.5g')\n",
        "plt.show()"
      ],
      "execution_count": 74,
      "outputs": [
        {
          "output_type": "display_data",
          "data": {
            "image/png": "[encoded data removed]",
            "text/plain": [
              "<Figure size 432x288 with 2 Axes>"
            ]
          },
          "metadata": {
            "tags": [],
            "needs_background": "light"
          }
        }
      ]
    },
    {
      "cell_type": "code",
      "metadata": {
        "id": "VNxSK7P8jP-j",
        "outputId": "44a03c89-f398-4fc2-cc93-8ac809207758",
        "colab": {
          "base_uri": "https://localhost:8080/",
          "height": 52
        }
      },
      "source": [
        "train_score = forest.score(X_train_cleaned, y_train)\n",
        "test_score = forest.score(X_test_cleaned, y_test)\n",
        "print('Train Score: {:.4f}'.format(train_score))\n",
        "print('Test Score: {:.4f}'.format(test_score))"
      ],
      "execution_count": 75,
      "outputs": [
        {
          "output_type": "stream",
          "text": [
            "Train Score: 1.0000\n",
            "Test Score: 0.7160\n"
          ],
          "name": "stdout"
        }
      ]
    },
    {
      "cell_type": "code",
      "metadata": {
        "id": "u8f6HO1ZUNBT"
      },
      "source": [
        "probs = forest.predict_proba(X_test_cleaned)[:,1]\n",
        "fpr, tpr, thresholds = roc_curve(y_test, probs)"
      ],
      "execution_count": 76,
      "outputs": []
    },
    {
      "cell_type": "code",
      "metadata": {
        "id": "FfSMe4lqW1U3",
        "outputId": "cc01921b-d4da-4cbd-e38e-508f26ca9dd5",
        "colab": {
          "base_uri": "https://localhost:8080/",
          "height": 404
        }
      },
      "source": [
        "fig = plt.figure(figsize = (6, 6))\n",
        "plt.plot([0, 1], [0, 1], 'k--')\n",
        "plt.plot(fpr, tpr)\n",
        "plt.xlabel('False Positive Rate')\n",
        "plt.ylabel('True Positive Rate')\n",
        "plt.title('ROC curve for Random Forest Model')\n",
        "plt.show()"
      ],
      "execution_count": 77,
      "outputs": [
        {
          "output_type": "display_data",
          "data": {
            "image/png": "[encoded data removed]",
            "text/plain": [
              "<Figure size 432x432 with 1 Axes>"
            ]
          },
          "metadata": {
            "tags": [],
            "needs_background": "light"
          }
        }
      ]
    },
    {
      "cell_type": "markdown",
      "metadata": {
        "id": "_CEPHhIwdWEu"
      },
      "source": [
        "Print the feature importances, ordered by importance from high to low. What is the default sklearn feature importance metric?"
      ]
    },
    {
      "cell_type": "code",
      "metadata": {
        "id": "W1b3f-i-dWEv",
        "outputId": "615afe63-ea0b-4358-b4f1-9ec18dd13a1e",
        "colab": {
          "base_uri": "https://localhost:8080/",
          "height": 242
        }
      },
      "source": [
        "# answer goes here\n",
        "forest_importance = pd.Series(forest.feature_importances_, index=X_train_cleaned.columns).sort_values(ascending=False)\n",
        "forest_importance"
      ],
      "execution_count": 79,
      "outputs": [
        {
          "output_type": "execute_result",
          "data": {
            "text/plain": [
              "CurrentEquipmentDays       0.185323\n",
              "MonthlyMinutes             0.164535\n",
              "PeakCallsInOut             0.135989\n",
              "ReceivedCalls              0.133059\n",
              "OffPeakCallsInOut          0.132042\n",
              "TotalRecurringCharge       0.092801\n",
              "CustomerCareCalls          0.057831\n",
              "CreditRating               0.045749\n",
              "HandsetModels              0.027425\n",
              "HasCreditCard              0.017339\n",
              "RetentionCalls             0.005987\n",
              "RetentionOffersAccepted    0.001920\n",
              "dtype: float64"
            ]
          },
          "metadata": {
            "tags": []
          },
          "execution_count": 79
        }
      ]
    }
  ]
}