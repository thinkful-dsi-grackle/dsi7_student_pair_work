{
  "nbformat": 4,
  "nbformat_minor": 0,
  "metadata": {
    "kernelspec": {
      "display_name": "Python 3",
      "language": "python",
      "name": "python3"
    },
    "language_info": {
      "codemirror_mode": {
        "name": "ipython",
        "version": 3
      },
      "file_extension": ".py",
      "mimetype": "text/x-python",
      "name": "python",
      "nbconvert_exporter": "python",
      "pygments_lexer": "ipython3",
      "version": "3.7.0"
    },
    "colab": {
      "name": "Angel_D30_L2_Random_Forest_Class.ipynb",
      "provenance": [],
      "collapsed_sections": []
    }
  },
  "cells": [
    {
      "cell_type": "markdown",
      "metadata": {
        "id": "efE6LIYgdWi-"
      },
      "source": [
        "## Day 30 Lecture 2 Assignment\n",
        "\n",
        "In this assignment, we will learn about random forests. We will use the google play store dataset loaded below."
      ]
    },
    {
      "cell_type": "code",
      "metadata": {
        "id": "ABJ7i-pDdWi_"
      },
      "source": [
        "%matplotlib inline\n",
        "\n",
        "import matplotlib.pyplot as plt\n",
        "import numpy as np\n",
        "import pandas as pd"
      ],
      "execution_count": 1,
      "outputs": []
    },
    {
      "cell_type": "code",
      "metadata": {
        "id": "1VRsPLisdWjB"
      },
      "source": [
        "reviews = pd.read_csv('https://tf-assets-prod.s3.amazonaws.com/tf-curric/data-science/googleplaystore.csv')"
      ],
      "execution_count": 2,
      "outputs": []
    },
    {
      "cell_type": "markdown",
      "metadata": {
        "id": "NnW2veF7dWjD"
      },
      "source": [
        "In this assignment, you will work more independently. Perform the following steps:\n",
        "    \n",
        "1. Select which columns are best suited to predict whether the rating is above 4.5\n",
        "2. Process the data (including transforming to the correct column type, removing missing values, creating dummy variables, and removing irrelevant variables)\n",
        "3. Create a random forest model and evaluate\n",
        "4. Using grid search cross validation, tweak the parameters to produce a better performing model\n",
        "5. Show and discuss your results\n",
        "\n",
        "Good luck!"
      ]
    },
    {
      "cell_type": "code",
      "metadata": {
        "id": "IKtfhVKCN5TI",
        "outputId": "fb286a3e-d31b-40ef-d7c5-80e637c4b7c2",
        "colab": {
          "base_uri": "https://localhost:8080/",
          "height": 364
        }
      },
      "source": [
        "reviews.info()"
      ],
      "execution_count": 3,
      "outputs": [
        {
          "output_type": "stream",
          "text": [
            "<class 'pandas.core.frame.DataFrame'>\n",
            "RangeIndex: 10841 entries, 0 to 10840\n",
            "Data columns (total 13 columns):\n",
            " #   Column          Non-Null Count  Dtype  \n",
            "---  ------          --------------  -----  \n",
            " 0   App             10841 non-null  object \n",
            " 1   Category        10841 non-null  object \n",
            " 2   Rating          9367 non-null   float64\n",
            " 3   Reviews         10841 non-null  object \n",
            " 4   Size            10841 non-null  object \n",
            " 5   Installs        10841 non-null  object \n",
            " 6   Type            10840 non-null  object \n",
            " 7   Price           10841 non-null  object \n",
            " 8   Content Rating  10840 non-null  object \n",
            " 9   Genres          10841 non-null  object \n",
            " 10  Last Updated    10841 non-null  object \n",
            " 11  Current Ver     10833 non-null  object \n",
            " 12  Android Ver     10838 non-null  object \n",
            "dtypes: float64(1), object(12)\n",
            "memory usage: 1.1+ MB\n"
          ],
          "name": "stdout"
        }
      ]
    },
    {
      "cell_type": "code",
      "metadata": {
        "id": "dN8XWTf-Ll63",
        "outputId": "c173d4e1-4acf-4696-be67-b0b2a0e143e5",
        "colab": {
          "base_uri": "https://localhost:8080/",
          "height": 225
        }
      },
      "source": [
        "#Unique value counts per column\n",
        "categorical = reviews.select_dtypes(include=['object'])\n",
        "for i in categorical:\n",
        "    column = categorical[i]\n",
        "    print({i:column.nunique()})"
      ],
      "execution_count": 4,
      "outputs": [
        {
          "output_type": "stream",
          "text": [
            "{'App': 9660}\n",
            "{'Category': 34}\n",
            "{'Reviews': 6002}\n",
            "{'Size': 462}\n",
            "{'Installs': 22}\n",
            "{'Type': 3}\n",
            "{'Price': 93}\n",
            "{'Content Rating': 6}\n",
            "{'Genres': 120}\n",
            "{'Last Updated': 1378}\n",
            "{'Current Ver': 2832}\n",
            "{'Android Ver': 33}\n"
          ],
          "name": "stdout"
        }
      ]
    },
    {
      "cell_type": "code",
      "metadata": {
        "id": "McKvmoBdOUxk",
        "outputId": "e3f42a80-0c79-4ae7-e919-a564c01c04cc",
        "colab": {
          "base_uri": "https://localhost:8080/",
          "height": 277
        }
      },
      "source": [
        "reviews['High_Rating'] = np.where(reviews['Rating'] > 4.5, 1, 0)#.astype(float)\n",
        "reviews2 = reviews.dropna(axis='index')\n",
        "reviews3 = reviews2.drop(columns=['App', 'Size', 'Installs', 'Last Updated', 'Current Ver', 'Android Ver'], axis='columns')\n",
        "reviews3['Price'] = reviews3['Price'].str.replace('[\\$,]', '', regex=True).astype(float)\n",
        "reviews4 = reviews3.copy()\n",
        "reviews4['Reviews'] = reviews3['Reviews'].astype(float)\n",
        "reviews4.info()"
      ],
      "execution_count": 18,
      "outputs": [
        {
          "output_type": "stream",
          "text": [
            "<class 'pandas.core.frame.DataFrame'>\n",
            "Int64Index: 9360 entries, 0 to 10840\n",
            "Data columns (total 8 columns):\n",
            " #   Column          Non-Null Count  Dtype  \n",
            "---  ------          --------------  -----  \n",
            " 0   Category        9360 non-null   object \n",
            " 1   Rating          9360 non-null   float64\n",
            " 2   Reviews         9360 non-null   float64\n",
            " 3   Type            9360 non-null   object \n",
            " 4   Price           9360 non-null   float64\n",
            " 5   Content Rating  9360 non-null   object \n",
            " 6   Genres          9360 non-null   object \n",
            " 7   High_Rating     9360 non-null   int64  \n",
            "dtypes: float64(3), int64(1), object(4)\n",
            "memory usage: 658.1+ KB\n"
          ],
          "name": "stdout"
        }
      ]
    },
    {
      "cell_type": "code",
      "metadata": {
        "id": "7hf_m-zPKNSs",
        "outputId": "68e59394-0a31-4291-9622-0ea039e812a6",
        "colab": {
          "base_uri": "https://localhost:8080/",
          "height": 415
        }
      },
      "source": [
        "reviews4"
      ],
      "execution_count": 19,
      "outputs": [
        {
          "output_type": "execute_result",
          "data": {
            "text/html": [
              "<div>\n",
              "<style scoped>\n",
              "    .dataframe tbody tr th:only-of-type {\n",
              "        vertical-align: middle;\n",
              "    }\n",
              "\n",
              "    .dataframe tbody tr th {\n",
              "        vertical-align: top;\n",
              "    }\n",
              "\n",
              "    .dataframe thead th {\n",
              "        text-align: right;\n",
              "    }\n",
              "</style>\n",
              "<table border=\"1\" class=\"dataframe\">\n",
              "  <thead>\n",
              "    <tr style=\"text-align: right;\">\n",
              "      <th></th>\n",
              "      <th>Category</th>\n",
              "      <th>Rating</th>\n",
              "      <th>Reviews</th>\n",
              "      <th>Type</th>\n",
              "      <th>Price</th>\n",
              "      <th>Content Rating</th>\n",
              "      <th>Genres</th>\n",
              "      <th>High_Rating</th>\n",
              "    </tr>\n",
              "  </thead>\n",
              "  <tbody>\n",
              "    <tr>\n",
              "      <th>0</th>\n",
              "      <td>ART_AND_DESIGN</td>\n",
              "      <td>4.1</td>\n",
              "      <td>159.0</td>\n",
              "      <td>Free</td>\n",
              "      <td>0.0</td>\n",
              "      <td>Everyone</td>\n",
              "      <td>Art &amp; Design</td>\n",
              "      <td>0</td>\n",
              "    </tr>\n",
              "    <tr>\n",
              "      <th>1</th>\n",
              "      <td>ART_AND_DESIGN</td>\n",
              "      <td>3.9</td>\n",
              "      <td>967.0</td>\n",
              "      <td>Free</td>\n",
              "      <td>0.0</td>\n",
              "      <td>Everyone</td>\n",
              "      <td>Art &amp; Design;Pretend Play</td>\n",
              "      <td>0</td>\n",
              "    </tr>\n",
              "    <tr>\n",
              "      <th>2</th>\n",
              "      <td>ART_AND_DESIGN</td>\n",
              "      <td>4.7</td>\n",
              "      <td>87510.0</td>\n",
              "      <td>Free</td>\n",
              "      <td>0.0</td>\n",
              "      <td>Everyone</td>\n",
              "      <td>Art &amp; Design</td>\n",
              "      <td>1</td>\n",
              "    </tr>\n",
              "    <tr>\n",
              "      <th>3</th>\n",
              "      <td>ART_AND_DESIGN</td>\n",
              "      <td>4.5</td>\n",
              "      <td>215644.0</td>\n",
              "      <td>Free</td>\n",
              "      <td>0.0</td>\n",
              "      <td>Teen</td>\n",
              "      <td>Art &amp; Design</td>\n",
              "      <td>0</td>\n",
              "    </tr>\n",
              "    <tr>\n",
              "      <th>4</th>\n",
              "      <td>ART_AND_DESIGN</td>\n",
              "      <td>4.3</td>\n",
              "      <td>967.0</td>\n",
              "      <td>Free</td>\n",
              "      <td>0.0</td>\n",
              "      <td>Everyone</td>\n",
              "      <td>Art &amp; Design;Creativity</td>\n",
              "      <td>0</td>\n",
              "    </tr>\n",
              "    <tr>\n",
              "      <th>...</th>\n",
              "      <td>...</td>\n",
              "      <td>...</td>\n",
              "      <td>...</td>\n",
              "      <td>...</td>\n",
              "      <td>...</td>\n",
              "      <td>...</td>\n",
              "      <td>...</td>\n",
              "      <td>...</td>\n",
              "    </tr>\n",
              "    <tr>\n",
              "      <th>10834</th>\n",
              "      <td>FAMILY</td>\n",
              "      <td>4.0</td>\n",
              "      <td>7.0</td>\n",
              "      <td>Free</td>\n",
              "      <td>0.0</td>\n",
              "      <td>Everyone</td>\n",
              "      <td>Education</td>\n",
              "      <td>0</td>\n",
              "    </tr>\n",
              "    <tr>\n",
              "      <th>10836</th>\n",
              "      <td>FAMILY</td>\n",
              "      <td>4.5</td>\n",
              "      <td>38.0</td>\n",
              "      <td>Free</td>\n",
              "      <td>0.0</td>\n",
              "      <td>Everyone</td>\n",
              "      <td>Education</td>\n",
              "      <td>0</td>\n",
              "    </tr>\n",
              "    <tr>\n",
              "      <th>10837</th>\n",
              "      <td>FAMILY</td>\n",
              "      <td>5.0</td>\n",
              "      <td>4.0</td>\n",
              "      <td>Free</td>\n",
              "      <td>0.0</td>\n",
              "      <td>Everyone</td>\n",
              "      <td>Education</td>\n",
              "      <td>1</td>\n",
              "    </tr>\n",
              "    <tr>\n",
              "      <th>10839</th>\n",
              "      <td>BOOKS_AND_REFERENCE</td>\n",
              "      <td>4.5</td>\n",
              "      <td>114.0</td>\n",
              "      <td>Free</td>\n",
              "      <td>0.0</td>\n",
              "      <td>Mature 17+</td>\n",
              "      <td>Books &amp; Reference</td>\n",
              "      <td>0</td>\n",
              "    </tr>\n",
              "    <tr>\n",
              "      <th>10840</th>\n",
              "      <td>LIFESTYLE</td>\n",
              "      <td>4.5</td>\n",
              "      <td>398307.0</td>\n",
              "      <td>Free</td>\n",
              "      <td>0.0</td>\n",
              "      <td>Everyone</td>\n",
              "      <td>Lifestyle</td>\n",
              "      <td>0</td>\n",
              "    </tr>\n",
              "  </tbody>\n",
              "</table>\n",
              "<p>9360 rows × 8 columns</p>\n",
              "</div>"
            ],
            "text/plain": [
              "                  Category  Rating  ...                     Genres High_Rating\n",
              "0           ART_AND_DESIGN     4.1  ...               Art & Design           0\n",
              "1           ART_AND_DESIGN     3.9  ...  Art & Design;Pretend Play           0\n",
              "2           ART_AND_DESIGN     4.7  ...               Art & Design           1\n",
              "3           ART_AND_DESIGN     4.5  ...               Art & Design           0\n",
              "4           ART_AND_DESIGN     4.3  ...    Art & Design;Creativity           0\n",
              "...                    ...     ...  ...                        ...         ...\n",
              "10834               FAMILY     4.0  ...                  Education           0\n",
              "10836               FAMILY     4.5  ...                  Education           0\n",
              "10837               FAMILY     5.0  ...                  Education           1\n",
              "10839  BOOKS_AND_REFERENCE     4.5  ...          Books & Reference           0\n",
              "10840            LIFESTYLE     4.5  ...                  Lifestyle           0\n",
              "\n",
              "[9360 rows x 8 columns]"
            ]
          },
          "metadata": {
            "tags": []
          },
          "execution_count": 19
        }
      ]
    },
    {
      "cell_type": "code",
      "metadata": {
        "id": "Y2gWOiiQxV7n",
        "outputId": "0739f820-a7f5-4e1e-e0d4-77b95e924a23",
        "colab": {
          "base_uri": "https://localhost:8080/",
          "height": 87
        }
      },
      "source": [
        "categorical = reviews4.select_dtypes(include=['object'])\n",
        "for i in categorical:\n",
        "    column = categorical[i]\n",
        "    print({i:column.nunique()})"
      ],
      "execution_count": 20,
      "outputs": [
        {
          "output_type": "stream",
          "text": [
            "{'Category': 33}\n",
            "{'Type': 2}\n",
            "{'Content Rating': 6}\n",
            "{'Genres': 115}\n"
          ],
          "name": "stdout"
        }
      ]
    },
    {
      "cell_type": "code",
      "metadata": {
        "id": "VcK3OYhy3RDW",
        "outputId": "a1294e90-0a16-448e-e29f-42325b9f0e0f",
        "colab": {
          "base_uri": "https://localhost:8080/",
          "height": 381
        }
      },
      "source": [
        "# Not sure how to go about splitting the genres combined by ';', \n",
        "# but if possible that would probably allow for better formulation of a training set.\n",
        "reviews4.Genres.value_counts(ascending=True).head(20)"
      ],
      "execution_count": 34,
      "outputs": [
        {
          "output_type": "execute_result",
          "data": {
            "text/plain": [
              "Entertainment;Education                1\n",
              "Travel & Local;Action & Adventure      1\n",
              "Role Playing;Brain Games               1\n",
              "Strategy;Education                     1\n",
              "Tools;Education                        1\n",
              "Music & Audio;Music & Video            1\n",
              "Arcade;Pretend Play                    1\n",
              "Puzzle;Education                       1\n",
              "Card;Brain Games                       1\n",
              "Comics;Creativity                      1\n",
              "Lifestyle;Pretend Play                 1\n",
              "Board;Pretend Play                     1\n",
              "Health & Fitness;Education             1\n",
              "Health & Fitness;Action & Adventure    1\n",
              "Racing;Pretend Play                    1\n",
              "Communication;Creativity               1\n",
              "Parenting;Brain Games                  1\n",
              "Strategy;Creativity                    1\n",
              "Adventure;Brain Games                  1\n",
              "Lifestyle;Education                    1\n",
              "Name: Genres, dtype: int64"
            ]
          },
          "metadata": {
            "tags": []
          },
          "execution_count": 34
        }
      ]
    },
    {
      "cell_type": "markdown",
      "metadata": {
        "id": "U9SELB0NS1Vt"
      },
      "source": [
        "Create a random forest model and evaluate\n",
        "Using grid search cross validation, tweak the parameters to produce a better performing model\n",
        "Show and discuss your results"
      ]
    },
    {
      "cell_type": "code",
      "metadata": {
        "id": "bU60yBjsF682",
        "outputId": "448727fb-a18a-4cc4-f179-f7ca4321f3f6",
        "colab": {
          "base_uri": "https://localhost:8080/",
          "height": 208
        }
      },
      "source": [
        "!pip install category_encoders"
      ],
      "execution_count": 21,
      "outputs": [
        {
          "output_type": "stream",
          "text": [
            "Requirement already satisfied: category_encoders in /usr/local/lib/python3.6/dist-packages (2.2.2)\n",
            "Requirement already satisfied: scikit-learn>=0.20.0 in /usr/local/lib/python3.6/dist-packages (from category_encoders) (0.22.2.post1)\n",
            "Requirement already satisfied: scipy>=1.0.0 in /usr/local/lib/python3.6/dist-packages (from category_encoders) (1.4.1)\n",
            "Requirement already satisfied: statsmodels>=0.9.0 in /usr/local/lib/python3.6/dist-packages (from category_encoders) (0.10.2)\n",
            "Requirement already satisfied: patsy>=0.5.1 in /usr/local/lib/python3.6/dist-packages (from category_encoders) (0.5.1)\n",
            "Requirement already satisfied: numpy>=1.14.0 in /usr/local/lib/python3.6/dist-packages (from category_encoders) (1.18.5)\n",
            "Requirement already satisfied: pandas>=0.21.1 in /usr/local/lib/python3.6/dist-packages (from category_encoders) (1.1.2)\n",
            "Requirement already satisfied: joblib>=0.11 in /usr/local/lib/python3.6/dist-packages (from scikit-learn>=0.20.0->category_encoders) (0.16.0)\n",
            "Requirement already satisfied: six in /usr/local/lib/python3.6/dist-packages (from patsy>=0.5.1->category_encoders) (1.15.0)\n",
            "Requirement already satisfied: pytz>=2017.2 in /usr/local/lib/python3.6/dist-packages (from pandas>=0.21.1->category_encoders) (2018.9)\n",
            "Requirement already satisfied: python-dateutil>=2.7.3 in /usr/local/lib/python3.6/dist-packages (from pandas>=0.21.1->category_encoders) (2.8.1)\n"
          ],
          "name": "stdout"
        }
      ]
    },
    {
      "cell_type": "code",
      "metadata": {
        "id": "zv6CNye6Kmqy"
      },
      "source": [
        "from category_encoders.leave_one_out import LeaveOneOutEncoder\n",
        "from sklearn.model_selection import  train_test_split\n",
        "\n",
        "loe = LeaveOneOutEncoder()\n",
        "\n",
        "y = reviews4.High_Rating\n",
        "X = reviews4.drop(columns=['Rating', 'High_Rating'])\n",
        "\n",
        "X_train, X_test, y_train, y_test = train_test_split(X, y, test_size= 0.25)"
      ],
      "execution_count": 22,
      "outputs": []
    },
    {
      "cell_type": "code",
      "metadata": {
        "id": "i_k3agh5VJXH"
      },
      "source": [
        "loe.fit(X_train, y_train)\n",
        "\n",
        "X_train_loe = loe.transform(X_train)\n",
        "X_test_loe = loe.transform(X_test)"
      ],
      "execution_count": 23,
      "outputs": []
    },
    {
      "cell_type": "code",
      "metadata": {
        "id": "Z4qF-7aOV0A4",
        "outputId": "8af4481a-d852-4d05-bd56-985f7e28c9ad",
        "colab": {
          "base_uri": "https://localhost:8080/",
          "height": 139
        }
      },
      "source": [
        "from sklearn.model_selection import GridSearchCV\n",
        "from sklearn.ensemble import RandomForestClassifier\n",
        "\n",
        "param_grid = { \n",
        "    \"criterion\": ['gini', 'entropy'], \n",
        "    \"max_depth\": [5, 10, 15, 25, 50], \n",
        "    \"min_samples_split\": [25, 50, 75, 100], \n",
        "    \"max_features\":['auto', 'sqrt', 'log2']}\n",
        "\n",
        "rf = RandomForestClassifier()\n",
        "\n",
        "rf_cv = GridSearchCV(rf, param_grid=param_grid, verbose=1, cv=5)\n",
        "rf_cv.fit(X_train_loe, y_train)\n",
        "rf_cv.best_params_"
      ],
      "execution_count": 24,
      "outputs": [
        {
          "output_type": "stream",
          "text": [
            "Fitting 5 folds for each of 120 candidates, totalling 600 fits\n"
          ],
          "name": "stdout"
        },
        {
          "output_type": "stream",
          "text": [
            "[Parallel(n_jobs=1)]: Using backend SequentialBackend with 1 concurrent workers.\n",
            "[Parallel(n_jobs=1)]: Done 600 out of 600 | elapsed:  5.3min finished\n"
          ],
          "name": "stderr"
        },
        {
          "output_type": "execute_result",
          "data": {
            "text/plain": [
              "{'criterion': 'entropy',\n",
              " 'max_depth': 25,\n",
              " 'max_features': 'sqrt',\n",
              " 'min_samples_split': 25}"
            ]
          },
          "metadata": {
            "tags": []
          },
          "execution_count": 24
        }
      ]
    },
    {
      "cell_type": "code",
      "metadata": {
        "id": "lJ20xkJUxgGR",
        "outputId": "47bb2209-e7fe-4354-872b-107189ab3b39",
        "colab": {
          "base_uri": "https://localhost:8080/",
          "height": 173
        }
      },
      "source": [
        "from sklearn.metrics import classification_report\n",
        "\n",
        "y_pred = rf_cv.predict(X_test_loe)\n",
        "print(classification_report(y_test, y_pred))"
      ],
      "execution_count": 25,
      "outputs": [
        {
          "output_type": "stream",
          "text": [
            "              precision    recall  f1-score   support\n",
            "\n",
            "           0       0.83      0.95      0.89      1876\n",
            "           1       0.52      0.21      0.30       464\n",
            "\n",
            "    accuracy                           0.81      2340\n",
            "   macro avg       0.68      0.58      0.59      2340\n",
            "weighted avg       0.77      0.81      0.77      2340\n",
            "\n"
          ],
          "name": "stdout"
        }
      ]
    },
    {
      "cell_type": "code",
      "metadata": {
        "id": "zt4310BiK3xh",
        "outputId": "8e69b074-6bb0-42e3-c612-41b84e8c34dd",
        "colab": {
          "base_uri": "https://localhost:8080/",
          "height": 279
        }
      },
      "source": [
        "from sklearn.metrics import confusion_matrix, plot_confusion_matrix\n",
        "\n",
        "plot_confusion_matrix(rf_cv,X_train_loe, y_train, values_format='.5g')\n",
        "plt.show()"
      ],
      "execution_count": 26,
      "outputs": [
        {
          "output_type": "display_data",
          "data": {
            "image/png": "[encoded data removed]",
            "text/plain": [
              "<Figure size 432x288 with 2 Axes>"
            ]
          },
          "metadata": {
            "tags": [],
            "needs_background": "light"
          }
        }
      ]
    },
    {
      "cell_type": "code",
      "metadata": {
        "id": "6IawajAaKKOO",
        "outputId": "d59a381a-2472-4fe3-d2ca-741caa33ee70",
        "colab": {
          "base_uri": "https://localhost:8080/",
          "height": 52
        }
      },
      "source": [
        "train_score = rf_cv.score(X_train_loe, y_train)\n",
        "test_score = rf_cv.score(X_test_loe, y_test)\n",
        "print('Train Score: {:.4f}'.format(train_score))\n",
        "print('Test Score: {:.4f}'.format(test_score))"
      ],
      "execution_count": 27,
      "outputs": [
        {
          "output_type": "stream",
          "text": [
            "Train Score: 0.8403\n",
            "Test Score: 0.8051\n"
          ],
          "name": "stdout"
        }
      ]
    },
    {
      "cell_type": "code",
      "metadata": {
        "id": "SAUIN8IbTzz0",
        "outputId": "d9bff7d9-c24f-4e81-c87b-cdbdf8e05a5b",
        "colab": {
          "base_uri": "https://localhost:8080/",
          "height": 295
        }
      },
      "source": [
        "from sklearn.metrics import roc_curve, auc\n",
        "\n",
        "train_pred_probs = rf_cv.predict_proba(X_train_loe)\n",
        "pred_probs = pd.Series(train_pred_probs[:, 1])\n",
        "x, y, _ = roc_curve(y_train, pred_probs)\n",
        "roc_auc = auc(x, y)\n",
        "\n",
        "plt.figure()\n",
        "lw = 2\n",
        "plt.plot(x, y, color='darkorange',\n",
        "         lw=lw, label='ROC curve (area = %0.2f)' % roc_auc)\n",
        "plt.plot([0, 1], [0, 1], color='navy', lw=lw, linestyle='--')\n",
        "plt.xlim([0.0, 1.0])\n",
        "plt.ylim([0.0, 1.05])\n",
        "plt.xlabel('False Positive Rate')\n",
        "plt.ylabel('True Positive Rate')\n",
        "plt.title('Receiver operating characteristic example')\n",
        "plt.legend(loc=\"lower right\")\n",
        "plt.show()"
      ],
      "execution_count": 28,
      "outputs": [
        {
          "output_type": "display_data",
          "data": {
            "image/png": "[encoded data removed]",
            "text/plain": [
              "<Figure size 432x288 with 1 Axes>"
            ]
          },
          "metadata": {
            "tags": [],
            "needs_background": "light"
          }
        }
      ]
    },
    {
      "cell_type": "code",
      "metadata": {
        "id": "VKL7TIkeUy2x",
        "outputId": "f5b3c794-a6e1-4621-acd2-95d2b0e5bc6c",
        "colab": {
          "base_uri": "https://localhost:8080/",
          "height": 139
        }
      },
      "source": [
        "rf_importance = pd.Series(rf_cv.best_estimator_.feature_importances_, index=X_train_loe.columns).sort_values(ascending=False)\n",
        "rf_importance"
      ],
      "execution_count": 29,
      "outputs": [
        {
          "output_type": "execute_result",
          "data": {
            "text/plain": [
              "Reviews           0.619491\n",
              "Genres            0.190516\n",
              "Category          0.101834\n",
              "Content Rating    0.042807\n",
              "Price             0.034105\n",
              "Type              0.011248\n",
              "dtype: float64"
            ]
          },
          "metadata": {
            "tags": []
          },
          "execution_count": 29
        }
      ]
    },
    {
      "cell_type": "code",
      "metadata": {
        "id": "hL9vEzswzSx4"
      },
      "source": [
        ""
      ],
      "execution_count": null,
      "outputs": []
    }
  ]
}