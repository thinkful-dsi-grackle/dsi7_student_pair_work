{
  "nbformat": 4,
  "nbformat_minor": 0,
  "metadata": {
    "kernelspec": {
      "display_name": "Python 3",
      "language": "python",
      "name": "python3"
    },
    "language_info": {
      "codemirror_mode": {
        "name": "ipython",
        "version": 3
      },
      "file_extension": ".py",
      "mimetype": "text/x-python",
      "name": "python",
      "nbconvert_exporter": "python",
      "pygments_lexer": "ipython3",
      "version": "3.7.0"
    },
    "colab": {
      "name": "Oscar_D30_L2_Assignment.ipynb",
      "provenance": [],
      "collapsed_sections": []
    },
    "accelerator": "TPU"
  },
  "cells": [
    {
      "cell_type": "markdown",
      "metadata": {
        "id": "efE6LIYgdWi-"
      },
      "source": [
        "## Day 30 Lecture 2 Assignment\n",
        "\n",
        "In this assignment, we will learn about random forests. We will use the google play store dataset loaded below."
      ]
    },
    {
      "cell_type": "code",
      "metadata": {
        "id": "ABJ7i-pDdWi_"
      },
      "source": [
        "%matplotlib inline\n",
        "\n",
        "import matplotlib.pyplot as plt\n",
        "import numpy as np\n",
        "import pandas as pd"
      ],
      "execution_count": 1,
      "outputs": []
    },
    {
      "cell_type": "code",
      "metadata": {
        "id": "1VRsPLisdWjB",
        "outputId": "44b71ade-277a-4467-f71a-3ee61f7fd818",
        "colab": {
          "base_uri": "https://localhost:8080/",
          "height": 204
        }
      },
      "source": [
        "df = pd.read_csv('https://tf-assets-prod.s3.amazonaws.com/tf-curric/data-science/googleplaystore.csv')\n",
        "\n",
        "df.head()"
      ],
      "execution_count": 2,
      "outputs": [
        {
          "output_type": "execute_result",
          "data": {
            "text/html": [
              "<div>\n",
              "<style scoped>\n",
              "    .dataframe tbody tr th:only-of-type {\n",
              "        vertical-align: middle;\n",
              "    }\n",
              "\n",
              "    .dataframe tbody tr th {\n",
              "        vertical-align: top;\n",
              "    }\n",
              "\n",
              "    .dataframe thead th {\n",
              "        text-align: right;\n",
              "    }\n",
              "</style>\n",
              "<table border=\"1\" class=\"dataframe\">\n",
              "  <thead>\n",
              "    <tr style=\"text-align: right;\">\n",
              "      <th></th>\n",
              "      <th>App</th>\n",
              "      <th>Category</th>\n",
              "      <th>Rating</th>\n",
              "      <th>Reviews</th>\n",
              "      <th>Size</th>\n",
              "      <th>Installs</th>\n",
              "      <th>Type</th>\n",
              "      <th>Price</th>\n",
              "      <th>Content Rating</th>\n",
              "      <th>Genres</th>\n",
              "      <th>Last Updated</th>\n",
              "      <th>Current Ver</th>\n",
              "      <th>Android Ver</th>\n",
              "    </tr>\n",
              "  </thead>\n",
              "  <tbody>\n",
              "    <tr>\n",
              "      <th>0</th>\n",
              "      <td>Photo Editor &amp; Candy Camera &amp; Grid &amp; ScrapBook</td>\n",
              "      <td>ART_AND_DESIGN</td>\n",
              "      <td>4.1</td>\n",
              "      <td>159</td>\n",
              "      <td>19M</td>\n",
              "      <td>10,000+</td>\n",
              "      <td>Free</td>\n",
              "      <td>0</td>\n",
              "      <td>Everyone</td>\n",
              "      <td>Art &amp; Design</td>\n",
              "      <td>January 7, 2018</td>\n",
              "      <td>1.0.0</td>\n",
              "      <td>4.0.3 and up</td>\n",
              "    </tr>\n",
              "    <tr>\n",
              "      <th>1</th>\n",
              "      <td>Coloring book moana</td>\n",
              "      <td>ART_AND_DESIGN</td>\n",
              "      <td>3.9</td>\n",
              "      <td>967</td>\n",
              "      <td>14M</td>\n",
              "      <td>500,000+</td>\n",
              "      <td>Free</td>\n",
              "      <td>0</td>\n",
              "      <td>Everyone</td>\n",
              "      <td>Art &amp; Design;Pretend Play</td>\n",
              "      <td>January 15, 2018</td>\n",
              "      <td>2.0.0</td>\n",
              "      <td>4.0.3 and up</td>\n",
              "    </tr>\n",
              "    <tr>\n",
              "      <th>2</th>\n",
              "      <td>U Launcher Lite – FREE Live Cool Themes, Hide ...</td>\n",
              "      <td>ART_AND_DESIGN</td>\n",
              "      <td>4.7</td>\n",
              "      <td>87510</td>\n",
              "      <td>8.7M</td>\n",
              "      <td>5,000,000+</td>\n",
              "      <td>Free</td>\n",
              "      <td>0</td>\n",
              "      <td>Everyone</td>\n",
              "      <td>Art &amp; Design</td>\n",
              "      <td>August 1, 2018</td>\n",
              "      <td>1.2.4</td>\n",
              "      <td>4.0.3 and up</td>\n",
              "    </tr>\n",
              "    <tr>\n",
              "      <th>3</th>\n",
              "      <td>Sketch - Draw &amp; Paint</td>\n",
              "      <td>ART_AND_DESIGN</td>\n",
              "      <td>4.5</td>\n",
              "      <td>215644</td>\n",
              "      <td>25M</td>\n",
              "      <td>50,000,000+</td>\n",
              "      <td>Free</td>\n",
              "      <td>0</td>\n",
              "      <td>Teen</td>\n",
              "      <td>Art &amp; Design</td>\n",
              "      <td>June 8, 2018</td>\n",
              "      <td>Varies with device</td>\n",
              "      <td>4.2 and up</td>\n",
              "    </tr>\n",
              "    <tr>\n",
              "      <th>4</th>\n",
              "      <td>Pixel Draw - Number Art Coloring Book</td>\n",
              "      <td>ART_AND_DESIGN</td>\n",
              "      <td>4.3</td>\n",
              "      <td>967</td>\n",
              "      <td>2.8M</td>\n",
              "      <td>100,000+</td>\n",
              "      <td>Free</td>\n",
              "      <td>0</td>\n",
              "      <td>Everyone</td>\n",
              "      <td>Art &amp; Design;Creativity</td>\n",
              "      <td>June 20, 2018</td>\n",
              "      <td>1.1</td>\n",
              "      <td>4.4 and up</td>\n",
              "    </tr>\n",
              "  </tbody>\n",
              "</table>\n",
              "</div>"
            ],
            "text/plain": [
              "                                                 App  ...   Android Ver\n",
              "0     Photo Editor & Candy Camera & Grid & ScrapBook  ...  4.0.3 and up\n",
              "1                                Coloring book moana  ...  4.0.3 and up\n",
              "2  U Launcher Lite – FREE Live Cool Themes, Hide ...  ...  4.0.3 and up\n",
              "3                              Sketch - Draw & Paint  ...    4.2 and up\n",
              "4              Pixel Draw - Number Art Coloring Book  ...    4.4 and up\n",
              "\n",
              "[5 rows x 13 columns]"
            ]
          },
          "metadata": {
            "tags": []
          },
          "execution_count": 2
        }
      ]
    },
    {
      "cell_type": "code",
      "metadata": {
        "id": "LpUBv3s7ns_V",
        "outputId": "027f48e1-f993-4c70-9225-3c235518204f",
        "colab": {
          "base_uri": "https://localhost:8080/",
          "height": 1000
        }
      },
      "source": [
        "for column in df.columns:\n",
        "  print(f'Counts for {column}:\\n', df[column].value_counts())"
      ],
      "execution_count": 3,
      "outputs": [
        {
          "output_type": "stream",
          "text": [
            "Counts for App:\n",
            " ROBLOX                                               9\n",
            "CBS Sports App - Scores, News, Stats & Watch Live    8\n",
            "Duolingo: Learn Languages Free                       7\n",
            "Candy Crush Saga                                     7\n",
            "ESPN                                                 7\n",
            "                                                    ..\n",
            "AzadBazar.af                                         1\n",
            "BIGO LIVE - Live Stream                              1\n",
            "Gangster Town                                        1\n",
            "Planning Center Services                             1\n",
            "Egg                                                  1\n",
            "Name: App, Length: 9660, dtype: int64\n",
            "Counts for Category:\n",
            " FAMILY                 1972\n",
            "GAME                   1144\n",
            "TOOLS                   843\n",
            "MEDICAL                 463\n",
            "BUSINESS                460\n",
            "PRODUCTIVITY            424\n",
            "PERSONALIZATION         392\n",
            "COMMUNICATION           387\n",
            "SPORTS                  384\n",
            "LIFESTYLE               382\n",
            "FINANCE                 366\n",
            "HEALTH_AND_FITNESS      341\n",
            "PHOTOGRAPHY             335\n",
            "SOCIAL                  295\n",
            "NEWS_AND_MAGAZINES      283\n",
            "SHOPPING                260\n",
            "TRAVEL_AND_LOCAL        258\n",
            "DATING                  234\n",
            "BOOKS_AND_REFERENCE     231\n",
            "VIDEO_PLAYERS           175\n",
            "EDUCATION               156\n",
            "ENTERTAINMENT           149\n",
            "MAPS_AND_NAVIGATION     137\n",
            "FOOD_AND_DRINK          127\n",
            "HOUSE_AND_HOME           88\n",
            "AUTO_AND_VEHICLES        85\n",
            "LIBRARIES_AND_DEMO       85\n",
            "WEATHER                  82\n",
            "ART_AND_DESIGN           65\n",
            "EVENTS                   64\n",
            "PARENTING                60\n",
            "COMICS                   60\n",
            "BEAUTY                   53\n",
            "1.9                       1\n",
            "Name: Category, dtype: int64\n",
            "Counts for Rating:\n",
            " 4.4     1109\n",
            "4.3     1076\n",
            "4.5     1038\n",
            "4.2      952\n",
            "4.6      823\n",
            "4.1      708\n",
            "4.0      568\n",
            "4.7      499\n",
            "3.9      386\n",
            "3.8      303\n",
            "5.0      274\n",
            "3.7      239\n",
            "4.8      234\n",
            "3.6      174\n",
            "3.5      163\n",
            "3.4      128\n",
            "3.3      102\n",
            "4.9       87\n",
            "3.0       83\n",
            "3.1       69\n",
            "3.2       64\n",
            "2.9       45\n",
            "2.8       42\n",
            "2.6       25\n",
            "2.7       25\n",
            "2.5       21\n",
            "2.3       20\n",
            "2.4       19\n",
            "1.0       16\n",
            "2.2       14\n",
            "1.9       13\n",
            "2.0       12\n",
            "2.1        8\n",
            "1.7        8\n",
            "1.8        8\n",
            "1.6        4\n",
            "1.4        3\n",
            "1.5        3\n",
            "1.2        1\n",
            "19.0       1\n",
            "Name: Rating, dtype: int64\n",
            "Counts for Reviews:\n",
            " 0          596\n",
            "1          272\n",
            "2          214\n",
            "3          175\n",
            "4          137\n",
            "          ... \n",
            "9856         1\n",
            "3840         1\n",
            "410303       1\n",
            "1003269      1\n",
            "776730       1\n",
            "Name: Reviews, Length: 6002, dtype: int64\n",
            "Counts for Size:\n",
            " Varies with device    1695\n",
            "11M                    198\n",
            "12M                    196\n",
            "14M                    194\n",
            "13M                    191\n",
            "                      ... \n",
            "458k                     1\n",
            "234k                     1\n",
            "8.5k                     1\n",
            "986k                     1\n",
            "208k                     1\n",
            "Name: Size, Length: 462, dtype: int64\n",
            "Counts for Installs:\n",
            " 1,000,000+        1579\n",
            "10,000,000+       1252\n",
            "100,000+          1169\n",
            "10,000+           1054\n",
            "1,000+             907\n",
            "5,000,000+         752\n",
            "100+               719\n",
            "500,000+           539\n",
            "50,000+            479\n",
            "5,000+             477\n",
            "100,000,000+       409\n",
            "10+                386\n",
            "500+               330\n",
            "50,000,000+        289\n",
            "50+                205\n",
            "5+                  82\n",
            "500,000,000+        72\n",
            "1+                  67\n",
            "1,000,000,000+      58\n",
            "0+                  14\n",
            "Free                 1\n",
            "0                    1\n",
            "Name: Installs, dtype: int64\n",
            "Counts for Type:\n",
            " Free    10039\n",
            "Paid      800\n",
            "0           1\n",
            "Name: Type, dtype: int64\n",
            "Counts for Price:\n",
            " 0         10040\n",
            "$0.99       148\n",
            "$2.99       129\n",
            "$1.99        73\n",
            "$4.99        72\n",
            "          ...  \n",
            "$46.99        1\n",
            "$25.99        1\n",
            "$30.99        1\n",
            "$19.90        1\n",
            "$1.50         1\n",
            "Name: Price, Length: 93, dtype: int64\n",
            "Counts for Content Rating:\n",
            " Everyone           8714\n",
            "Teen               1208\n",
            "Mature 17+          499\n",
            "Everyone 10+        414\n",
            "Adults only 18+       3\n",
            "Unrated               2\n",
            "Name: Content Rating, dtype: int64\n",
            "Counts for Genres:\n",
            " Tools                     842\n",
            "Entertainment             623\n",
            "Education                 549\n",
            "Medical                   463\n",
            "Business                  460\n",
            "                         ... \n",
            "Role Playing;Education      1\n",
            "Arcade;Pretend Play         1\n",
            "Adventure;Brain Games       1\n",
            "Card;Brain Games            1\n",
            "Parenting;Brain Games       1\n",
            "Name: Genres, Length: 120, dtype: int64\n",
            "Counts for Last Updated:\n",
            " August 3, 2018       326\n",
            "August 2, 2018       304\n",
            "July 31, 2018        294\n",
            "August 1, 2018       285\n",
            "July 30, 2018        211\n",
            "                    ... \n",
            "April 5, 2013          1\n",
            "February 10, 2016      1\n",
            "February 1, 2016       1\n",
            "March 3, 2016          1\n",
            "May 13, 2017           1\n",
            "Name: Last Updated, Length: 1378, dtype: int64\n",
            "Counts for Current Ver:\n",
            " Varies with device    1459\n",
            "1.0                    809\n",
            "1.1                    264\n",
            "1.2                    178\n",
            "2.0                    151\n",
            "                      ... \n",
            "9.1                      1\n",
            "3.10.5                   1\n",
            "1.8.0.4                  1\n",
            "23.0                     1\n",
            "32.1                     1\n",
            "Name: Current Ver, Length: 2832, dtype: int64\n",
            "Counts for Android Ver:\n",
            " 4.1 and up            2451\n",
            "4.0.3 and up          1501\n",
            "4.0 and up            1375\n",
            "Varies with device    1362\n",
            "4.4 and up             980\n",
            "2.3 and up             652\n",
            "5.0 and up             601\n",
            "4.2 and up             394\n",
            "2.3.3 and up           281\n",
            "2.2 and up             244\n",
            "4.3 and up             243\n",
            "3.0 and up             241\n",
            "2.1 and up             134\n",
            "1.6 and up             116\n",
            "6.0 and up              60\n",
            "7.0 and up              42\n",
            "3.2 and up              36\n",
            "2.0 and up              32\n",
            "5.1 and up              24\n",
            "1.5 and up              20\n",
            "4.4W and up             12\n",
            "3.1 and up              10\n",
            "2.0.1 and up             7\n",
            "8.0 and up               6\n",
            "7.1 and up               3\n",
            "4.0.3 - 7.1.1            2\n",
            "1.0 and up               2\n",
            "5.0 - 8.0                2\n",
            "7.0 - 7.1.1              1\n",
            "4.1 - 7.1.1              1\n",
            "2.2 - 7.1.1              1\n",
            "5.0 - 6.0                1\n",
            "5.0 - 7.1.1              1\n",
            "Name: Android Ver, dtype: int64\n"
          ],
          "name": "stdout"
        }
      ]
    },
    {
      "cell_type": "markdown",
      "metadata": {
        "id": "NnW2veF7dWjD"
      },
      "source": [
        "In this assignment, you will work more independently. Perform the following steps:\n",
        "    \n",
        "1. Select which columns are best suited to predict whether the rating is above 4.5\n",
        "2. Process the data (including transforming to the correct column type, removing missing values, creating dummy variables, and removing irrelevant variables)\n",
        "3. Create a random forest model and evaluate\n",
        "4. Using grid search cross validation, tweak the parameters to produce a better performing model\n",
        "5. Show and discuss your results\n",
        "\n",
        "Good luck!"
      ]
    },
    {
      "cell_type": "code",
      "metadata": {
        "id": "2l-s8aEanr6z"
      },
      "source": [
        ""
      ],
      "execution_count": 3,
      "outputs": []
    },
    {
      "cell_type": "code",
      "metadata": {
        "id": "QDyK2JXUdWjD"
      },
      "source": [
        "df['Best_Rating'] = df['Rating'].map(lambda x: 1 if x > 4.5 else 0)"
      ],
      "execution_count": 4,
      "outputs": []
    },
    {
      "cell_type": "code",
      "metadata": {
        "id": "nAQ78GK-FdRM",
        "outputId": "c99dca1e-bd2c-4c4c-b741-e6a0d575b781",
        "colab": {
          "base_uri": "https://localhost:8080/",
          "height": 111
        }
      },
      "source": [
        "df2 = df.drop(columns = ['Genres', 'Category', 'App', 'Rating', 'Size', 'Last Updated', 'Current Ver', 'Android Ver'])\n",
        "df2.head(2)"
      ],
      "execution_count": 5,
      "outputs": [
        {
          "output_type": "execute_result",
          "data": {
            "text/html": [
              "<div>\n",
              "<style scoped>\n",
              "    .dataframe tbody tr th:only-of-type {\n",
              "        vertical-align: middle;\n",
              "    }\n",
              "\n",
              "    .dataframe tbody tr th {\n",
              "        vertical-align: top;\n",
              "    }\n",
              "\n",
              "    .dataframe thead th {\n",
              "        text-align: right;\n",
              "    }\n",
              "</style>\n",
              "<table border=\"1\" class=\"dataframe\">\n",
              "  <thead>\n",
              "    <tr style=\"text-align: right;\">\n",
              "      <th></th>\n",
              "      <th>Reviews</th>\n",
              "      <th>Installs</th>\n",
              "      <th>Type</th>\n",
              "      <th>Price</th>\n",
              "      <th>Content Rating</th>\n",
              "      <th>Best_Rating</th>\n",
              "    </tr>\n",
              "  </thead>\n",
              "  <tbody>\n",
              "    <tr>\n",
              "      <th>0</th>\n",
              "      <td>159</td>\n",
              "      <td>10,000+</td>\n",
              "      <td>Free</td>\n",
              "      <td>0</td>\n",
              "      <td>Everyone</td>\n",
              "      <td>0</td>\n",
              "    </tr>\n",
              "    <tr>\n",
              "      <th>1</th>\n",
              "      <td>967</td>\n",
              "      <td>500,000+</td>\n",
              "      <td>Free</td>\n",
              "      <td>0</td>\n",
              "      <td>Everyone</td>\n",
              "      <td>0</td>\n",
              "    </tr>\n",
              "  </tbody>\n",
              "</table>\n",
              "</div>"
            ],
            "text/plain": [
              "  Reviews  Installs  Type Price Content Rating  Best_Rating\n",
              "0     159   10,000+  Free     0       Everyone            0\n",
              "1     967  500,000+  Free     0       Everyone            0"
            ]
          },
          "metadata": {
            "tags": []
          },
          "execution_count": 5
        }
      ]
    },
    {
      "cell_type": "code",
      "metadata": {
        "id": "fdTCBt3FF6ro",
        "outputId": "9c1b1ac7-532e-46ff-e188-b3230ed1c447",
        "colab": {
          "base_uri": "https://localhost:8080/",
          "height": 136
        }
      },
      "source": [
        "df2.isnull().sum()"
      ],
      "execution_count": 6,
      "outputs": [
        {
          "output_type": "execute_result",
          "data": {
            "text/plain": [
              "Reviews           0\n",
              "Installs          0\n",
              "Type              1\n",
              "Price             0\n",
              "Content Rating    1\n",
              "Best_Rating       0\n",
              "dtype: int64"
            ]
          },
          "metadata": {
            "tags": []
          },
          "execution_count": 6
        }
      ]
    },
    {
      "cell_type": "code",
      "metadata": {
        "id": "Sc4MZMN9F_O9"
      },
      "source": [
        "df2 = df2.dropna()"
      ],
      "execution_count": 7,
      "outputs": []
    },
    {
      "cell_type": "code",
      "metadata": {
        "id": "TiMnFjgaGrj4",
        "outputId": "153a0450-5863-466c-c046-bbd257d92c9a",
        "colab": {
          "base_uri": "https://localhost:8080/",
          "height": 136
        }
      },
      "source": [
        "df2.isnull().sum()"
      ],
      "execution_count": 8,
      "outputs": [
        {
          "output_type": "execute_result",
          "data": {
            "text/plain": [
              "Reviews           0\n",
              "Installs          0\n",
              "Type              0\n",
              "Price             0\n",
              "Content Rating    0\n",
              "Best_Rating       0\n",
              "dtype: int64"
            ]
          },
          "metadata": {
            "tags": []
          },
          "execution_count": 8
        }
      ]
    },
    {
      "cell_type": "code",
      "metadata": {
        "id": "BggTu8OSEaEP",
        "outputId": "46a3aa93-1d50-498c-d38e-5ed405b0170f",
        "colab": {
          "base_uri": "https://localhost:8080/",
          "height": 136
        }
      },
      "source": [
        "df2.dtypes"
      ],
      "execution_count": 9,
      "outputs": [
        {
          "output_type": "execute_result",
          "data": {
            "text/plain": [
              "Reviews           object\n",
              "Installs          object\n",
              "Type              object\n",
              "Price             object\n",
              "Content Rating    object\n",
              "Best_Rating        int64\n",
              "dtype: object"
            ]
          },
          "metadata": {
            "tags": []
          },
          "execution_count": 9
        }
      ]
    },
    {
      "cell_type": "code",
      "metadata": {
        "id": "CtJxjoOXGvit"
      },
      "source": [
        "y = df2['Best_Rating']\n",
        "x = df2.drop(columns='Best_Rating')"
      ],
      "execution_count": 10,
      "outputs": []
    },
    {
      "cell_type": "code",
      "metadata": {
        "id": "2AHG6ICLHhUD",
        "outputId": "f290ac01-0167-4fc7-f760-402c74206de9",
        "colab": {
          "base_uri": "https://localhost:8080/",
          "height": 119
        }
      },
      "source": [
        "x.nunique()"
      ],
      "execution_count": 11,
      "outputs": [
        {
          "output_type": "execute_result",
          "data": {
            "text/plain": [
              "Reviews           6001\n",
              "Installs            20\n",
              "Type                 2\n",
              "Price               92\n",
              "Content Rating       6\n",
              "dtype: int64"
            ]
          },
          "metadata": {
            "tags": []
          },
          "execution_count": 11
        }
      ]
    },
    {
      "cell_type": "code",
      "metadata": {
        "id": "peF0Mxv9HGva",
        "outputId": "d584923c-faa8-49c5-dfef-fc43ae5397ad",
        "colab": {
          "base_uri": "https://localhost:8080/",
          "height": 1000
        }
      },
      "source": [
        "for column in x.columns:\n",
        "  print(f'Counts for {column}:\\n', x[column].value_counts())"
      ],
      "execution_count": 12,
      "outputs": [
        {
          "output_type": "stream",
          "text": [
            "Counts for Reviews:\n",
            " 0          595\n",
            "1          272\n",
            "2          214\n",
            "3          175\n",
            "4          137\n",
            "          ... \n",
            "9856         1\n",
            "3840         1\n",
            "410303       1\n",
            "1003269      1\n",
            "776730       1\n",
            "Name: Reviews, Length: 6001, dtype: int64\n",
            "Counts for Installs:\n",
            " 1,000,000+        1579\n",
            "10,000,000+       1252\n",
            "100,000+          1169\n",
            "10,000+           1054\n",
            "1,000+             907\n",
            "5,000,000+         752\n",
            "100+               719\n",
            "500,000+           539\n",
            "50,000+            479\n",
            "5,000+             477\n",
            "100,000,000+       409\n",
            "10+                386\n",
            "500+               330\n",
            "50,000,000+        289\n",
            "50+                205\n",
            "5+                  82\n",
            "500,000,000+        72\n",
            "1+                  67\n",
            "1,000,000,000+      58\n",
            "0+                  14\n",
            "Name: Installs, dtype: int64\n",
            "Counts for Type:\n",
            " Free    10039\n",
            "Paid      800\n",
            "Name: Type, dtype: int64\n",
            "Counts for Price:\n",
            " 0         10039\n",
            "$0.99       148\n",
            "$2.99       129\n",
            "$1.99        73\n",
            "$4.99        72\n",
            "          ...  \n",
            "$15.46        1\n",
            "$25.99        1\n",
            "$89.99        1\n",
            "$30.99        1\n",
            "$1.50         1\n",
            "Name: Price, Length: 92, dtype: int64\n",
            "Counts for Content Rating:\n",
            " Everyone           8714\n",
            "Teen               1208\n",
            "Mature 17+          499\n",
            "Everyone 10+        413\n",
            "Adults only 18+       3\n",
            "Unrated               2\n",
            "Name: Content Rating, dtype: int64\n"
          ],
          "name": "stdout"
        }
      ]
    },
    {
      "cell_type": "code",
      "metadata": {
        "id": "z_HU46CuLA9d"
      },
      "source": [
        "# to change installs to a number I have to take away the + sign and the comma\n",
        "x['Installs'] = x['Installs'].str.strip('+')"
      ],
      "execution_count": 13,
      "outputs": []
    },
    {
      "cell_type": "code",
      "metadata": {
        "id": "nXXAl-EUM78N"
      },
      "source": [
        "x['Installs'] = x['Installs'].str.replace(',', '')"
      ],
      "execution_count": 14,
      "outputs": []
    },
    {
      "cell_type": "code",
      "metadata": {
        "id": "Qd7Q1z5BOd4t"
      },
      "source": [
        "x['Installs'] = x['Installs'].astype(int)"
      ],
      "execution_count": 15,
      "outputs": []
    },
    {
      "cell_type": "code",
      "metadata": {
        "id": "LTakU9mOM2lL",
        "outputId": "4f4cb21e-9d75-4df2-970b-619b052a7dee",
        "colab": {
          "base_uri": "https://localhost:8080/",
          "height": 119
        }
      },
      "source": [
        "x.dtypes"
      ],
      "execution_count": 16,
      "outputs": [
        {
          "output_type": "execute_result",
          "data": {
            "text/plain": [
              "Reviews           object\n",
              "Installs           int64\n",
              "Type              object\n",
              "Price             object\n",
              "Content Rating    object\n",
              "dtype: object"
            ]
          },
          "metadata": {
            "tags": []
          },
          "execution_count": 16
        }
      ]
    },
    {
      "cell_type": "code",
      "metadata": {
        "id": "tyn0tkSjPHrx",
        "outputId": "add74450-8b97-4b0a-ba19-f7570181ab0e",
        "colab": {
          "base_uri": "https://localhost:8080/",
          "height": 374
        }
      },
      "source": [
        "x['Installs'].value_counts()"
      ],
      "execution_count": 17,
      "outputs": [
        {
          "output_type": "execute_result",
          "data": {
            "text/plain": [
              "1000000       1579\n",
              "10000000      1252\n",
              "100000        1169\n",
              "10000         1054\n",
              "1000           907\n",
              "5000000        752\n",
              "100            719\n",
              "500000         539\n",
              "50000          479\n",
              "5000           477\n",
              "100000000      409\n",
              "10             386\n",
              "500            330\n",
              "50000000       289\n",
              "50             205\n",
              "5               82\n",
              "500000000       72\n",
              "1               67\n",
              "1000000000      58\n",
              "0               14\n",
              "Name: Installs, dtype: int64"
            ]
          },
          "metadata": {
            "tags": []
          },
          "execution_count": 17
        }
      ]
    },
    {
      "cell_type": "code",
      "metadata": {
        "id": "wS7ybXlCHJnt",
        "outputId": "b5a4e1a7-9a7e-44fa-9f7b-ce06d19db6fb",
        "colab": {
          "base_uri": "https://localhost:8080/",
          "height": 204
        }
      },
      "source": [
        "# changing Installs to high and low so I can one-hot-encode\n",
        "x['Installs'] = x['Installs'].map(lambda x: 'High' if x > 1000000 else 'Low' )\n",
        "x.head()"
      ],
      "execution_count": 18,
      "outputs": [
        {
          "output_type": "execute_result",
          "data": {
            "text/html": [
              "<div>\n",
              "<style scoped>\n",
              "    .dataframe tbody tr th:only-of-type {\n",
              "        vertical-align: middle;\n",
              "    }\n",
              "\n",
              "    .dataframe tbody tr th {\n",
              "        vertical-align: top;\n",
              "    }\n",
              "\n",
              "    .dataframe thead th {\n",
              "        text-align: right;\n",
              "    }\n",
              "</style>\n",
              "<table border=\"1\" class=\"dataframe\">\n",
              "  <thead>\n",
              "    <tr style=\"text-align: right;\">\n",
              "      <th></th>\n",
              "      <th>Reviews</th>\n",
              "      <th>Installs</th>\n",
              "      <th>Type</th>\n",
              "      <th>Price</th>\n",
              "      <th>Content Rating</th>\n",
              "    </tr>\n",
              "  </thead>\n",
              "  <tbody>\n",
              "    <tr>\n",
              "      <th>0</th>\n",
              "      <td>159</td>\n",
              "      <td>Low</td>\n",
              "      <td>Free</td>\n",
              "      <td>0</td>\n",
              "      <td>Everyone</td>\n",
              "    </tr>\n",
              "    <tr>\n",
              "      <th>1</th>\n",
              "      <td>967</td>\n",
              "      <td>Low</td>\n",
              "      <td>Free</td>\n",
              "      <td>0</td>\n",
              "      <td>Everyone</td>\n",
              "    </tr>\n",
              "    <tr>\n",
              "      <th>2</th>\n",
              "      <td>87510</td>\n",
              "      <td>High</td>\n",
              "      <td>Free</td>\n",
              "      <td>0</td>\n",
              "      <td>Everyone</td>\n",
              "    </tr>\n",
              "    <tr>\n",
              "      <th>3</th>\n",
              "      <td>215644</td>\n",
              "      <td>High</td>\n",
              "      <td>Free</td>\n",
              "      <td>0</td>\n",
              "      <td>Teen</td>\n",
              "    </tr>\n",
              "    <tr>\n",
              "      <th>4</th>\n",
              "      <td>967</td>\n",
              "      <td>Low</td>\n",
              "      <td>Free</td>\n",
              "      <td>0</td>\n",
              "      <td>Everyone</td>\n",
              "    </tr>\n",
              "  </tbody>\n",
              "</table>\n",
              "</div>"
            ],
            "text/plain": [
              "  Reviews Installs  Type Price Content Rating\n",
              "0     159      Low  Free     0       Everyone\n",
              "1     967      Low  Free     0       Everyone\n",
              "2   87510     High  Free     0       Everyone\n",
              "3  215644     High  Free     0           Teen\n",
              "4     967      Low  Free     0       Everyone"
            ]
          },
          "metadata": {
            "tags": []
          },
          "execution_count": 18
        }
      ]
    },
    {
      "cell_type": "code",
      "metadata": {
        "id": "PXb9O4xTQbws"
      },
      "source": [
        "x.Price = x.Price.replace('[\\$,]', '', regex=True).astype(float)"
      ],
      "execution_count": 19,
      "outputs": []
    },
    {
      "cell_type": "code",
      "metadata": {
        "id": "6OUJ9OXJRnyV",
        "outputId": "0daedd7a-78bc-4cad-fa20-2d5c986ad779",
        "colab": {
          "base_uri": "https://localhost:8080/",
          "height": 119
        }
      },
      "source": [
        "x.dtypes"
      ],
      "execution_count": 20,
      "outputs": [
        {
          "output_type": "execute_result",
          "data": {
            "text/plain": [
              "Reviews            object\n",
              "Installs           object\n",
              "Type               object\n",
              "Price             float64\n",
              "Content Rating     object\n",
              "dtype: object"
            ]
          },
          "metadata": {
            "tags": []
          },
          "execution_count": 20
        }
      ]
    },
    {
      "cell_type": "code",
      "metadata": {
        "id": "0J4xrB4rR7NV"
      },
      "source": [
        "x['Reviews'] = x['Reviews'].astype(int)"
      ],
      "execution_count": 21,
      "outputs": []
    },
    {
      "cell_type": "code",
      "metadata": {
        "id": "8VSgvLORSV5W",
        "outputId": "f0df2590-54e3-4939-b958-69fd3dc90afa",
        "colab": {
          "base_uri": "https://localhost:8080/",
          "height": 221
        }
      },
      "source": [
        "x.info()"
      ],
      "execution_count": 22,
      "outputs": [
        {
          "output_type": "stream",
          "text": [
            "<class 'pandas.core.frame.DataFrame'>\n",
            "Int64Index: 10839 entries, 0 to 10840\n",
            "Data columns (total 5 columns):\n",
            " #   Column          Non-Null Count  Dtype  \n",
            "---  ------          --------------  -----  \n",
            " 0   Reviews         10839 non-null  int64  \n",
            " 1   Installs        10839 non-null  object \n",
            " 2   Type            10839 non-null  object \n",
            " 3   Price           10839 non-null  float64\n",
            " 4   Content Rating  10839 non-null  object \n",
            "dtypes: float64(1), int64(1), object(3)\n",
            "memory usage: 508.1+ KB\n"
          ],
          "name": "stdout"
        }
      ]
    },
    {
      "cell_type": "code",
      "metadata": {
        "id": "vQgXvJFuUjIQ",
        "outputId": "0fa5f138-6f80-43df-9725-1ec07565bba4",
        "colab": {
          "base_uri": "https://localhost:8080/",
          "height": 419
        }
      },
      "source": [
        "pd.get_dummies(x, drop_first=True)"
      ],
      "execution_count": 23,
      "outputs": [
        {
          "output_type": "execute_result",
          "data": {
            "text/html": [
              "<div>\n",
              "<style scoped>\n",
              "    .dataframe tbody tr th:only-of-type {\n",
              "        vertical-align: middle;\n",
              "    }\n",
              "\n",
              "    .dataframe tbody tr th {\n",
              "        vertical-align: top;\n",
              "    }\n",
              "\n",
              "    .dataframe thead th {\n",
              "        text-align: right;\n",
              "    }\n",
              "</style>\n",
              "<table border=\"1\" class=\"dataframe\">\n",
              "  <thead>\n",
              "    <tr style=\"text-align: right;\">\n",
              "      <th></th>\n",
              "      <th>Reviews</th>\n",
              "      <th>Price</th>\n",
              "      <th>Installs_Low</th>\n",
              "      <th>Type_Paid</th>\n",
              "      <th>Content Rating_Everyone</th>\n",
              "      <th>Content Rating_Everyone 10+</th>\n",
              "      <th>Content Rating_Mature 17+</th>\n",
              "      <th>Content Rating_Teen</th>\n",
              "      <th>Content Rating_Unrated</th>\n",
              "    </tr>\n",
              "  </thead>\n",
              "  <tbody>\n",
              "    <tr>\n",
              "      <th>0</th>\n",
              "      <td>159</td>\n",
              "      <td>0.0</td>\n",
              "      <td>1</td>\n",
              "      <td>0</td>\n",
              "      <td>1</td>\n",
              "      <td>0</td>\n",
              "      <td>0</td>\n",
              "      <td>0</td>\n",
              "      <td>0</td>\n",
              "    </tr>\n",
              "    <tr>\n",
              "      <th>1</th>\n",
              "      <td>967</td>\n",
              "      <td>0.0</td>\n",
              "      <td>1</td>\n",
              "      <td>0</td>\n",
              "      <td>1</td>\n",
              "      <td>0</td>\n",
              "      <td>0</td>\n",
              "      <td>0</td>\n",
              "      <td>0</td>\n",
              "    </tr>\n",
              "    <tr>\n",
              "      <th>2</th>\n",
              "      <td>87510</td>\n",
              "      <td>0.0</td>\n",
              "      <td>0</td>\n",
              "      <td>0</td>\n",
              "      <td>1</td>\n",
              "      <td>0</td>\n",
              "      <td>0</td>\n",
              "      <td>0</td>\n",
              "      <td>0</td>\n",
              "    </tr>\n",
              "    <tr>\n",
              "      <th>3</th>\n",
              "      <td>215644</td>\n",
              "      <td>0.0</td>\n",
              "      <td>0</td>\n",
              "      <td>0</td>\n",
              "      <td>0</td>\n",
              "      <td>0</td>\n",
              "      <td>0</td>\n",
              "      <td>1</td>\n",
              "      <td>0</td>\n",
              "    </tr>\n",
              "    <tr>\n",
              "      <th>4</th>\n",
              "      <td>967</td>\n",
              "      <td>0.0</td>\n",
              "      <td>1</td>\n",
              "      <td>0</td>\n",
              "      <td>1</td>\n",
              "      <td>0</td>\n",
              "      <td>0</td>\n",
              "      <td>0</td>\n",
              "      <td>0</td>\n",
              "    </tr>\n",
              "    <tr>\n",
              "      <th>...</th>\n",
              "      <td>...</td>\n",
              "      <td>...</td>\n",
              "      <td>...</td>\n",
              "      <td>...</td>\n",
              "      <td>...</td>\n",
              "      <td>...</td>\n",
              "      <td>...</td>\n",
              "      <td>...</td>\n",
              "      <td>...</td>\n",
              "    </tr>\n",
              "    <tr>\n",
              "      <th>10836</th>\n",
              "      <td>38</td>\n",
              "      <td>0.0</td>\n",
              "      <td>1</td>\n",
              "      <td>0</td>\n",
              "      <td>1</td>\n",
              "      <td>0</td>\n",
              "      <td>0</td>\n",
              "      <td>0</td>\n",
              "      <td>0</td>\n",
              "    </tr>\n",
              "    <tr>\n",
              "      <th>10837</th>\n",
              "      <td>4</td>\n",
              "      <td>0.0</td>\n",
              "      <td>1</td>\n",
              "      <td>0</td>\n",
              "      <td>1</td>\n",
              "      <td>0</td>\n",
              "      <td>0</td>\n",
              "      <td>0</td>\n",
              "      <td>0</td>\n",
              "    </tr>\n",
              "    <tr>\n",
              "      <th>10838</th>\n",
              "      <td>3</td>\n",
              "      <td>0.0</td>\n",
              "      <td>1</td>\n",
              "      <td>0</td>\n",
              "      <td>1</td>\n",
              "      <td>0</td>\n",
              "      <td>0</td>\n",
              "      <td>0</td>\n",
              "      <td>0</td>\n",
              "    </tr>\n",
              "    <tr>\n",
              "      <th>10839</th>\n",
              "      <td>114</td>\n",
              "      <td>0.0</td>\n",
              "      <td>1</td>\n",
              "      <td>0</td>\n",
              "      <td>0</td>\n",
              "      <td>0</td>\n",
              "      <td>1</td>\n",
              "      <td>0</td>\n",
              "      <td>0</td>\n",
              "    </tr>\n",
              "    <tr>\n",
              "      <th>10840</th>\n",
              "      <td>398307</td>\n",
              "      <td>0.0</td>\n",
              "      <td>0</td>\n",
              "      <td>0</td>\n",
              "      <td>1</td>\n",
              "      <td>0</td>\n",
              "      <td>0</td>\n",
              "      <td>0</td>\n",
              "      <td>0</td>\n",
              "    </tr>\n",
              "  </tbody>\n",
              "</table>\n",
              "<p>10839 rows × 9 columns</p>\n",
              "</div>"
            ],
            "text/plain": [
              "       Reviews  Price  ...  Content Rating_Teen  Content Rating_Unrated\n",
              "0          159    0.0  ...                    0                       0\n",
              "1          967    0.0  ...                    0                       0\n",
              "2        87510    0.0  ...                    0                       0\n",
              "3       215644    0.0  ...                    1                       0\n",
              "4          967    0.0  ...                    0                       0\n",
              "...        ...    ...  ...                  ...                     ...\n",
              "10836       38    0.0  ...                    0                       0\n",
              "10837        4    0.0  ...                    0                       0\n",
              "10838        3    0.0  ...                    0                       0\n",
              "10839      114    0.0  ...                    0                       0\n",
              "10840   398307    0.0  ...                    0                       0\n",
              "\n",
              "[10839 rows x 9 columns]"
            ]
          },
          "metadata": {
            "tags": []
          },
          "execution_count": 23
        }
      ]
    },
    {
      "cell_type": "code",
      "metadata": {
        "id": "lgriEoQbUquB",
        "outputId": "9597c9e3-4bff-4263-9cf2-9d70e00e26d0",
        "colab": {
          "base_uri": "https://localhost:8080/",
          "height": 419
        }
      },
      "source": [
        "x = pd.concat([x, pd.get_dummies(x['Installs'], drop_first=True)], axis=1)\n",
        "x = pd.concat([x, pd.get_dummies(x['Type'], drop_first=True)], axis=1)\n",
        "x = pd.concat([x, pd.get_dummies(x['Content Rating'], drop_first=True)], axis=1)\n",
        "x = x.drop(columns=['Installs', 'Type', 'Content Rating'])\n",
        "x"
      ],
      "execution_count": 24,
      "outputs": [
        {
          "output_type": "execute_result",
          "data": {
            "text/html": [
              "<div>\n",
              "<style scoped>\n",
              "    .dataframe tbody tr th:only-of-type {\n",
              "        vertical-align: middle;\n",
              "    }\n",
              "\n",
              "    .dataframe tbody tr th {\n",
              "        vertical-align: top;\n",
              "    }\n",
              "\n",
              "    .dataframe thead th {\n",
              "        text-align: right;\n",
              "    }\n",
              "</style>\n",
              "<table border=\"1\" class=\"dataframe\">\n",
              "  <thead>\n",
              "    <tr style=\"text-align: right;\">\n",
              "      <th></th>\n",
              "      <th>Reviews</th>\n",
              "      <th>Price</th>\n",
              "      <th>Low</th>\n",
              "      <th>Paid</th>\n",
              "      <th>Everyone</th>\n",
              "      <th>Everyone 10+</th>\n",
              "      <th>Mature 17+</th>\n",
              "      <th>Teen</th>\n",
              "      <th>Unrated</th>\n",
              "    </tr>\n",
              "  </thead>\n",
              "  <tbody>\n",
              "    <tr>\n",
              "      <th>0</th>\n",
              "      <td>159</td>\n",
              "      <td>0.0</td>\n",
              "      <td>1</td>\n",
              "      <td>0</td>\n",
              "      <td>1</td>\n",
              "      <td>0</td>\n",
              "      <td>0</td>\n",
              "      <td>0</td>\n",
              "      <td>0</td>\n",
              "    </tr>\n",
              "    <tr>\n",
              "      <th>1</th>\n",
              "      <td>967</td>\n",
              "      <td>0.0</td>\n",
              "      <td>1</td>\n",
              "      <td>0</td>\n",
              "      <td>1</td>\n",
              "      <td>0</td>\n",
              "      <td>0</td>\n",
              "      <td>0</td>\n",
              "      <td>0</td>\n",
              "    </tr>\n",
              "    <tr>\n",
              "      <th>2</th>\n",
              "      <td>87510</td>\n",
              "      <td>0.0</td>\n",
              "      <td>0</td>\n",
              "      <td>0</td>\n",
              "      <td>1</td>\n",
              "      <td>0</td>\n",
              "      <td>0</td>\n",
              "      <td>0</td>\n",
              "      <td>0</td>\n",
              "    </tr>\n",
              "    <tr>\n",
              "      <th>3</th>\n",
              "      <td>215644</td>\n",
              "      <td>0.0</td>\n",
              "      <td>0</td>\n",
              "      <td>0</td>\n",
              "      <td>0</td>\n",
              "      <td>0</td>\n",
              "      <td>0</td>\n",
              "      <td>1</td>\n",
              "      <td>0</td>\n",
              "    </tr>\n",
              "    <tr>\n",
              "      <th>4</th>\n",
              "      <td>967</td>\n",
              "      <td>0.0</td>\n",
              "      <td>1</td>\n",
              "      <td>0</td>\n",
              "      <td>1</td>\n",
              "      <td>0</td>\n",
              "      <td>0</td>\n",
              "      <td>0</td>\n",
              "      <td>0</td>\n",
              "    </tr>\n",
              "    <tr>\n",
              "      <th>...</th>\n",
              "      <td>...</td>\n",
              "      <td>...</td>\n",
              "      <td>...</td>\n",
              "      <td>...</td>\n",
              "      <td>...</td>\n",
              "      <td>...</td>\n",
              "      <td>...</td>\n",
              "      <td>...</td>\n",
              "      <td>...</td>\n",
              "    </tr>\n",
              "    <tr>\n",
              "      <th>10836</th>\n",
              "      <td>38</td>\n",
              "      <td>0.0</td>\n",
              "      <td>1</td>\n",
              "      <td>0</td>\n",
              "      <td>1</td>\n",
              "      <td>0</td>\n",
              "      <td>0</td>\n",
              "      <td>0</td>\n",
              "      <td>0</td>\n",
              "    </tr>\n",
              "    <tr>\n",
              "      <th>10837</th>\n",
              "      <td>4</td>\n",
              "      <td>0.0</td>\n",
              "      <td>1</td>\n",
              "      <td>0</td>\n",
              "      <td>1</td>\n",
              "      <td>0</td>\n",
              "      <td>0</td>\n",
              "      <td>0</td>\n",
              "      <td>0</td>\n",
              "    </tr>\n",
              "    <tr>\n",
              "      <th>10838</th>\n",
              "      <td>3</td>\n",
              "      <td>0.0</td>\n",
              "      <td>1</td>\n",
              "      <td>0</td>\n",
              "      <td>1</td>\n",
              "      <td>0</td>\n",
              "      <td>0</td>\n",
              "      <td>0</td>\n",
              "      <td>0</td>\n",
              "    </tr>\n",
              "    <tr>\n",
              "      <th>10839</th>\n",
              "      <td>114</td>\n",
              "      <td>0.0</td>\n",
              "      <td>1</td>\n",
              "      <td>0</td>\n",
              "      <td>0</td>\n",
              "      <td>0</td>\n",
              "      <td>1</td>\n",
              "      <td>0</td>\n",
              "      <td>0</td>\n",
              "    </tr>\n",
              "    <tr>\n",
              "      <th>10840</th>\n",
              "      <td>398307</td>\n",
              "      <td>0.0</td>\n",
              "      <td>0</td>\n",
              "      <td>0</td>\n",
              "      <td>1</td>\n",
              "      <td>0</td>\n",
              "      <td>0</td>\n",
              "      <td>0</td>\n",
              "      <td>0</td>\n",
              "    </tr>\n",
              "  </tbody>\n",
              "</table>\n",
              "<p>10839 rows × 9 columns</p>\n",
              "</div>"
            ],
            "text/plain": [
              "       Reviews  Price  Low  Paid  ...  Everyone 10+  Mature 17+  Teen  Unrated\n",
              "0          159    0.0    1     0  ...             0           0     0        0\n",
              "1          967    0.0    1     0  ...             0           0     0        0\n",
              "2        87510    0.0    0     0  ...             0           0     0        0\n",
              "3       215644    0.0    0     0  ...             0           0     1        0\n",
              "4          967    0.0    1     0  ...             0           0     0        0\n",
              "...        ...    ...  ...   ...  ...           ...         ...   ...      ...\n",
              "10836       38    0.0    1     0  ...             0           0     0        0\n",
              "10837        4    0.0    1     0  ...             0           0     0        0\n",
              "10838        3    0.0    1     0  ...             0           0     0        0\n",
              "10839      114    0.0    1     0  ...             0           1     0        0\n",
              "10840   398307    0.0    0     0  ...             0           0     0        0\n",
              "\n",
              "[10839 rows x 9 columns]"
            ]
          },
          "metadata": {
            "tags": []
          },
          "execution_count": 24
        }
      ]
    },
    {
      "cell_type": "code",
      "metadata": {
        "id": "J3hkVhakWO9O",
        "outputId": "f0c55830-cd8d-4ea8-ee2e-51a54d436154",
        "colab": {
          "base_uri": "https://localhost:8080/",
          "height": 221
        }
      },
      "source": [
        "y"
      ],
      "execution_count": 25,
      "outputs": [
        {
          "output_type": "execute_result",
          "data": {
            "text/plain": [
              "0        0\n",
              "1        0\n",
              "2        1\n",
              "3        0\n",
              "4        0\n",
              "        ..\n",
              "10836    0\n",
              "10837    1\n",
              "10838    0\n",
              "10839    0\n",
              "10840    0\n",
              "Name: Best_Rating, Length: 10839, dtype: int64"
            ]
          },
          "metadata": {
            "tags": []
          },
          "execution_count": 25
        }
      ]
    },
    {
      "cell_type": "markdown",
      "metadata": {
        "id": "kV3U9IFMXEcG"
      },
      "source": [
        "Create a random forest model and evaluate\n",
        "\n",
        "Using grid search cross validation, tweak the parameters to produce a better performing model\n",
        "\n",
        "Show and discuss your results"
      ]
    },
    {
      "cell_type": "code",
      "metadata": {
        "id": "Yp_WyuKVfCqy"
      },
      "source": [
        "from sklearn.ensemble import RandomForestClassifier\n",
        "from sklearn.model_selection import cross_val_score, GridSearchCV\n",
        "from sklearn.model_selection import train_test_split"
      ],
      "execution_count": 26,
      "outputs": []
    },
    {
      "cell_type": "code",
      "metadata": {
        "id": "twFHs-TAW1Ps"
      },
      "source": [
        "x_train, x_test, y_train, y_test = train_test_split(x, y, test_size=0.2)"
      ],
      "execution_count": 27,
      "outputs": []
    },
    {
      "cell_type": "code",
      "metadata": {
        "id": "lf0F3-0tYn5-",
        "outputId": "8af56868-55f7-46ff-99b0-65dd865c304e",
        "colab": {
          "base_uri": "https://localhost:8080/",
          "height": 68
        }
      },
      "source": [
        "rfc = RandomForestClassifier()\n",
        "rfc.fit(x_train, y_train)\n",
        "rfc.feature_importances_"
      ],
      "execution_count": 28,
      "outputs": [
        {
          "output_type": "execute_result",
          "data": {
            "text/plain": [
              "array([9.41998252e-01, 4.01047658e-02, 4.34071653e-03, 4.58618185e-03,\n",
              "       2.62268438e-03, 1.88136910e-03, 1.97461907e-03, 2.46819098e-03,\n",
              "       2.32201142e-05])"
            ]
          },
          "metadata": {
            "tags": []
          },
          "execution_count": 28
        }
      ]
    },
    {
      "cell_type": "code",
      "metadata": {
        "id": "zy8rj4tpkKrC"
      },
      "source": [
        "best_features = pd.DataFrame()\n",
        "best_features['Names'] = x.columns\n",
        "best_features['Scores'] = rfc.feature_importances_"
      ],
      "execution_count": 29,
      "outputs": []
    },
    {
      "cell_type": "code",
      "metadata": {
        "id": "T5pfc0PSkzvX",
        "outputId": "cd46483c-9f67-4d9c-d350-881fcd3a9410",
        "colab": {
          "base_uri": "https://localhost:8080/",
          "height": 328
        }
      },
      "source": [
        "best_features"
      ],
      "execution_count": 30,
      "outputs": [
        {
          "output_type": "execute_result",
          "data": {
            "text/html": [
              "<div>\n",
              "<style scoped>\n",
              "    .dataframe tbody tr th:only-of-type {\n",
              "        vertical-align: middle;\n",
              "    }\n",
              "\n",
              "    .dataframe tbody tr th {\n",
              "        vertical-align: top;\n",
              "    }\n",
              "\n",
              "    .dataframe thead th {\n",
              "        text-align: right;\n",
              "    }\n",
              "</style>\n",
              "<table border=\"1\" class=\"dataframe\">\n",
              "  <thead>\n",
              "    <tr style=\"text-align: right;\">\n",
              "      <th></th>\n",
              "      <th>Names</th>\n",
              "      <th>Scores</th>\n",
              "    </tr>\n",
              "  </thead>\n",
              "  <tbody>\n",
              "    <tr>\n",
              "      <th>0</th>\n",
              "      <td>Reviews</td>\n",
              "      <td>0.941998</td>\n",
              "    </tr>\n",
              "    <tr>\n",
              "      <th>1</th>\n",
              "      <td>Price</td>\n",
              "      <td>0.040105</td>\n",
              "    </tr>\n",
              "    <tr>\n",
              "      <th>2</th>\n",
              "      <td>Low</td>\n",
              "      <td>0.004341</td>\n",
              "    </tr>\n",
              "    <tr>\n",
              "      <th>3</th>\n",
              "      <td>Paid</td>\n",
              "      <td>0.004586</td>\n",
              "    </tr>\n",
              "    <tr>\n",
              "      <th>4</th>\n",
              "      <td>Everyone</td>\n",
              "      <td>0.002623</td>\n",
              "    </tr>\n",
              "    <tr>\n",
              "      <th>5</th>\n",
              "      <td>Everyone 10+</td>\n",
              "      <td>0.001881</td>\n",
              "    </tr>\n",
              "    <tr>\n",
              "      <th>6</th>\n",
              "      <td>Mature 17+</td>\n",
              "      <td>0.001975</td>\n",
              "    </tr>\n",
              "    <tr>\n",
              "      <th>7</th>\n",
              "      <td>Teen</td>\n",
              "      <td>0.002468</td>\n",
              "    </tr>\n",
              "    <tr>\n",
              "      <th>8</th>\n",
              "      <td>Unrated</td>\n",
              "      <td>0.000023</td>\n",
              "    </tr>\n",
              "  </tbody>\n",
              "</table>\n",
              "</div>"
            ],
            "text/plain": [
              "          Names    Scores\n",
              "0       Reviews  0.941998\n",
              "1         Price  0.040105\n",
              "2           Low  0.004341\n",
              "3          Paid  0.004586\n",
              "4      Everyone  0.002623\n",
              "5  Everyone 10+  0.001881\n",
              "6    Mature 17+  0.001975\n",
              "7          Teen  0.002468\n",
              "8       Unrated  0.000023"
            ]
          },
          "metadata": {
            "tags": []
          },
          "execution_count": 30
        }
      ]
    },
    {
      "cell_type": "code",
      "metadata": {
        "id": "GTwRbpksheWZ",
        "outputId": "9b868af7-9c3a-4d12-d390-79cb59ce3779",
        "colab": {
          "base_uri": "https://localhost:8080/",
          "height": 34
        }
      },
      "source": [
        "x.shape[0]"
      ],
      "execution_count": 31,
      "outputs": [
        {
          "output_type": "execute_result",
          "data": {
            "text/plain": [
              "10839"
            ]
          },
          "metadata": {
            "tags": []
          },
          "execution_count": 31
        }
      ]
    },
    {
      "cell_type": "code",
      "metadata": {
        "id": "7Nwm6e5fY3sa"
      },
      "source": [
        "grid_param = {\n",
        "    'n_estimators': [100, 300, 500, 800, 1000],\n",
        "    'criterion': ['gini', 'entropy'],\n",
        "    'bootstrap': [True, False]\n",
        "}"
      ],
      "execution_count": 32,
      "outputs": []
    },
    {
      "cell_type": "code",
      "metadata": {
        "id": "EGnbBq54ed0i"
      },
      "source": [
        "gd_sr = GridSearchCV(estimator=rfc,\n",
        "                     param_grid=grid_param,\n",
        "                     scoring='accuracy',\n",
        "                     cv=5,\n",
        "                     n_jobs=-1)"
      ],
      "execution_count": 33,
      "outputs": []
    },
    {
      "cell_type": "code",
      "metadata": {
        "id": "Zg39LZ0VemYS",
        "outputId": "00a9bb2f-4f0b-45a0-97ad-f9702ec43cdf",
        "colab": {
          "base_uri": "https://localhost:8080/",
          "height": 391
        }
      },
      "source": [
        "gd_sr.fit(x_train, y_train)"
      ],
      "execution_count": 34,
      "outputs": [
        {
          "output_type": "execute_result",
          "data": {
            "text/plain": [
              "GridSearchCV(cv=5, error_score=nan,\n",
              "             estimator=RandomForestClassifier(bootstrap=True, ccp_alpha=0.0,\n",
              "                                              class_weight=None,\n",
              "                                              criterion='gini', max_depth=None,\n",
              "                                              max_features='auto',\n",
              "                                              max_leaf_nodes=None,\n",
              "                                              max_samples=None,\n",
              "                                              min_impurity_decrease=0.0,\n",
              "                                              min_impurity_split=None,\n",
              "                                              min_samples_leaf=1,\n",
              "                                              min_samples_split=2,\n",
              "                                              min_weight_fraction_leaf=0.0,\n",
              "                                              n_estimators=100, n_jobs=None,\n",
              "                                              oob_score=False,\n",
              "                                              random_state=None, verbose=0,\n",
              "                                              warm_start=False),\n",
              "             iid='deprecated', n_jobs=-1,\n",
              "             param_grid={'bootstrap': [True, False],\n",
              "                         'criterion': ['gini', 'entropy'],\n",
              "                         'n_estimators': [100, 300, 500, 800, 1000]},\n",
              "             pre_dispatch='2*n_jobs', refit=True, return_train_score=False,\n",
              "             scoring='accuracy', verbose=0)"
            ]
          },
          "metadata": {
            "tags": []
          },
          "execution_count": 34
        }
      ]
    },
    {
      "cell_type": "code",
      "metadata": {
        "id": "5d1RTiY5epUT",
        "outputId": "ec14af9d-67a5-40ce-c566-5d5c33e84e41",
        "colab": {
          "base_uri": "https://localhost:8080/",
          "height": 34
        }
      },
      "source": [
        "best_parameters = gd_sr.best_params_\n",
        "print(best_parameters)"
      ],
      "execution_count": 35,
      "outputs": [
        {
          "output_type": "stream",
          "text": [
            "{'bootstrap': False, 'criterion': 'entropy', 'n_estimators': 100}\n"
          ],
          "name": "stdout"
        }
      ]
    },
    {
      "cell_type": "code",
      "metadata": {
        "id": "1mDLVZ5SevvR",
        "outputId": "810b5f28-bd6d-4ea7-85e3-0de1644ab06c",
        "colab": {
          "base_uri": "https://localhost:8080/",
          "height": 34
        }
      },
      "source": [
        "best_result = gd_sr.best_score_\n",
        "print(best_result)"
      ],
      "execution_count": 36,
      "outputs": [
        {
          "output_type": "stream",
          "text": [
            "0.7937950267409896\n"
          ],
          "name": "stdout"
        }
      ]
    }
  ]
}