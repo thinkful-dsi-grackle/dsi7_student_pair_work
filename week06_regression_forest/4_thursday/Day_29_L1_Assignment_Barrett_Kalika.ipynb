{
  "nbformat": 4,
  "nbformat_minor": 0,
  "metadata": {
    "kernelspec": {
      "display_name": "Python 3",
      "language": "python",
      "name": "python3"
    },
    "language_info": {
      "codemirror_mode": {
        "name": "ipython",
        "version": 3
      },
      "file_extension": ".py",
      "mimetype": "text/x-python",
      "name": "python",
      "nbconvert_exporter": "python",
      "pygments_lexer": "ipython3",
      "version": "3.7.0"
    },
    "colab": {
      "name": "Day_29_L1_Assignment_Barrett_Kalika.ipynb",
      "provenance": [],
      "collapsed_sections": []
    }
  },
  "cells": [
    {
      "cell_type": "markdown",
      "metadata": {
        "id": "VqUtIOgdcSjK"
      },
      "source": [
        "## Day 29 Lecture 1 Assignment\n",
        "\n",
        "In this assignment, we will learn about decision trees. We will use the Chicago salary dataset loaded below."
      ]
    },
    {
      "cell_type": "code",
      "metadata": {
        "id": "JOsKrr-kcSjL"
      },
      "source": [
        "%matplotlib inline\n",
        "\n",
        "import matplotlib.pyplot as plt\n",
        "import numpy as np\n",
        "import pandas as pd\n",
        "import graphviz\n",
        "\n",
        "from sklearn.model_selection import train_test_split\n",
        "from sklearn import tree"
      ],
      "execution_count": 38,
      "outputs": []
    },
    {
      "cell_type": "code",
      "metadata": {
        "id": "2vSkCX1rcSjN"
      },
      "source": [
        "chicago = pd.read_csv('https://tf-assets-prod.s3.amazonaws.com/tf-curric/data-science/Current_Employee_Names__Salaries__and_Position_Titles.csv')"
      ],
      "execution_count": 19,
      "outputs": []
    },
    {
      "cell_type": "code",
      "metadata": {
        "id": "PoyrvgWqcSjP",
        "outputId": "6b8a3f9e-1e25-4632-939a-cb800aa2dcf3",
        "colab": {
          "base_uri": "https://localhost:8080/",
          "height": 319
        }
      },
      "source": [
        "chicago.head()"
      ],
      "execution_count": 20,
      "outputs": [
        {
          "output_type": "execute_result",
          "data": {
            "text/html": [
              "<div>\n",
              "<style scoped>\n",
              "    .dataframe tbody tr th:only-of-type {\n",
              "        vertical-align: middle;\n",
              "    }\n",
              "\n",
              "    .dataframe tbody tr th {\n",
              "        vertical-align: top;\n",
              "    }\n",
              "\n",
              "    .dataframe thead th {\n",
              "        text-align: right;\n",
              "    }\n",
              "</style>\n",
              "<table border=\"1\" class=\"dataframe\">\n",
              "  <thead>\n",
              "    <tr style=\"text-align: right;\">\n",
              "      <th></th>\n",
              "      <th>Name</th>\n",
              "      <th>Job Titles</th>\n",
              "      <th>Department</th>\n",
              "      <th>Full or Part-Time</th>\n",
              "      <th>Salary or Hourly</th>\n",
              "      <th>Typical Hours</th>\n",
              "      <th>Annual Salary</th>\n",
              "      <th>Hourly Rate</th>\n",
              "    </tr>\n",
              "  </thead>\n",
              "  <tbody>\n",
              "    <tr>\n",
              "      <th>0</th>\n",
              "      <td>ALLISON,  PAUL W</td>\n",
              "      <td>LIEUTENANT</td>\n",
              "      <td>FIRE</td>\n",
              "      <td>F</td>\n",
              "      <td>Salary</td>\n",
              "      <td>NaN</td>\n",
              "      <td>$107790.00</td>\n",
              "      <td>NaN</td>\n",
              "    </tr>\n",
              "    <tr>\n",
              "      <th>1</th>\n",
              "      <td>BRUNO,  KEVIN D</td>\n",
              "      <td>SERGEANT</td>\n",
              "      <td>POLICE</td>\n",
              "      <td>F</td>\n",
              "      <td>Salary</td>\n",
              "      <td>NaN</td>\n",
              "      <td>$104628.00</td>\n",
              "      <td>NaN</td>\n",
              "    </tr>\n",
              "    <tr>\n",
              "      <th>2</th>\n",
              "      <td>COOPER,  JOHN E</td>\n",
              "      <td>LIEUTENANT-EMT</td>\n",
              "      <td>FIRE</td>\n",
              "      <td>F</td>\n",
              "      <td>Salary</td>\n",
              "      <td>NaN</td>\n",
              "      <td>$114324.00</td>\n",
              "      <td>NaN</td>\n",
              "    </tr>\n",
              "    <tr>\n",
              "      <th>3</th>\n",
              "      <td>CRESPO,  VILMA I</td>\n",
              "      <td>STAFF ASST</td>\n",
              "      <td>LAW</td>\n",
              "      <td>F</td>\n",
              "      <td>Salary</td>\n",
              "      <td>NaN</td>\n",
              "      <td>$76932.00</td>\n",
              "      <td>NaN</td>\n",
              "    </tr>\n",
              "    <tr>\n",
              "      <th>4</th>\n",
              "      <td>DOLAN,  ROBERT J</td>\n",
              "      <td>SERGEANT</td>\n",
              "      <td>POLICE</td>\n",
              "      <td>F</td>\n",
              "      <td>Salary</td>\n",
              "      <td>NaN</td>\n",
              "      <td>$111474.00</td>\n",
              "      <td>NaN</td>\n",
              "    </tr>\n",
              "  </tbody>\n",
              "</table>\n",
              "</div>"
            ],
            "text/plain": [
              "               Name      Job Titles  ... Annual Salary Hourly Rate\n",
              "0  ALLISON,  PAUL W      LIEUTENANT  ...    $107790.00         NaN\n",
              "1   BRUNO,  KEVIN D        SERGEANT  ...    $104628.00         NaN\n",
              "2   COOPER,  JOHN E  LIEUTENANT-EMT  ...    $114324.00         NaN\n",
              "3  CRESPO,  VILMA I      STAFF ASST  ...     $76932.00         NaN\n",
              "4  DOLAN,  ROBERT J        SERGEANT  ...    $111474.00         NaN\n",
              "\n",
              "[5 rows x 8 columns]"
            ]
          },
          "metadata": {
            "tags": []
          },
          "execution_count": 20
        }
      ]
    },
    {
      "cell_type": "markdown",
      "metadata": {
        "id": "Yvk4IgCocSjQ"
      },
      "source": [
        "To simplify this problem, we will limit our model to only salary employees. Create a new dataset that does not contain any hourly employees."
      ]
    },
    {
      "cell_type": "code",
      "metadata": {
        "id": "X8mndXF2cSjR",
        "outputId": "5018e91e-3c65-4420-8f36-dce740dc4939",
        "colab": {
          "base_uri": "https://localhost:8080/",
          "height": 35
        }
      },
      "source": [
        "# answer below:\n",
        "chicago_sal = chicago.loc[chicago['Salary or Hourly']=='Salary']\n",
        "chicago_sal.shape"
      ],
      "execution_count": 21,
      "outputs": [
        {
          "output_type": "execute_result",
          "data": {
            "text/plain": [
              "(24775, 8)"
            ]
          },
          "metadata": {
            "tags": []
          },
          "execution_count": 21
        }
      ]
    },
    {
      "cell_type": "markdown",
      "metadata": {
        "id": "IjEAhiyfcSjT"
      },
      "source": [
        "Next, we will look at the count of all values for both job titles and department to ensure that we don't use features that are too sparse in our model."
      ]
    },
    {
      "cell_type": "code",
      "metadata": {
        "id": "RSpn997lcSjT",
        "outputId": "0abe551d-3b6c-4530-c6d3-3b8c48ef8950",
        "colab": {
          "base_uri": "https://localhost:8080/",
          "height": 225
        }
      },
      "source": [
        "# answer below:\n",
        "chicago_sal['Job Titles'].value_counts()"
      ],
      "execution_count": 22,
      "outputs": [
        {
          "output_type": "execute_result",
          "data": {
            "text/plain": [
              "POLICE OFFICER                            9393\n",
              "FIREFIGHTER-EMT                           1424\n",
              "SERGEANT                                  1118\n",
              "POLICE OFFICER (ASSIGNED AS DETECTIVE)     845\n",
              "FIREFIGHTER                                564\n",
              "                                          ... \n",
              "DIR OF CAPS                                  1\n",
              "CHIEF INFORMATION OFFICER                    1\n",
              "AVIATION SAFETY DIR                          1\n",
              "PHOTOGRAPHER                                 1\n",
              "SUPVSR OF COST CONTROL                       1\n",
              "Name: Job Titles, Length: 954, dtype: int64"
            ]
          },
          "metadata": {
            "tags": []
          },
          "execution_count": 22
        }
      ]
    },
    {
      "cell_type": "code",
      "metadata": {
        "id": "98pRxk-vkSG9",
        "outputId": "29198d01-d080-49c1-967a-bd61525822c6",
        "colab": {
          "base_uri": "https://localhost:8080/",
          "height": 656
        }
      },
      "source": [
        "chicago_sal['Department'].value_counts()"
      ],
      "execution_count": 23,
      "outputs": [
        {
          "output_type": "execute_result",
          "data": {
            "text/plain": [
              "POLICE                   12941\n",
              "FIRE                      4798\n",
              "OEMC                       832\n",
              "PUBLIC LIBRARY             708\n",
              "AVIATION                   556\n",
              "FINANCE                    532\n",
              "HEALTH                     512\n",
              "TRANSPORTN                 396\n",
              "WATER MGMNT                366\n",
              "LAW                        361\n",
              "CITY COUNCIL               348\n",
              "STREETS & SAN              321\n",
              "FAMILY & SUPPORT           321\n",
              "BUILDINGS                  266\n",
              "COMMUNITY DEVELOPMENT      210\n",
              "GENERAL SERVICES           205\n",
              "BUSINESS AFFAIRS           160\n",
              "BOARD OF ELECTION          112\n",
              "DoIT                       101\n",
              "PROCUREMENT                 82\n",
              "CITY CLERK                  82\n",
              "MAYOR'S OFFICE              78\n",
              "HUMAN RESOURCES             67\n",
              "CULTURAL AFFAIRS            66\n",
              "INSPECTOR GEN               63\n",
              "ANIMAL CONTRL               57\n",
              "IPRA                        56\n",
              "BUDGET & MGMT               43\n",
              "ADMIN HEARNG                38\n",
              "DISABILITIES                29\n",
              "TREASURER                   23\n",
              "COPA                        17\n",
              "HUMAN RELATIONS             17\n",
              "BOARD OF ETHICS              8\n",
              "POLICE BOARD                 2\n",
              "LICENSE APPL COMM            1\n",
              "Name: Department, dtype: int64"
            ]
          },
          "metadata": {
            "tags": []
          },
          "execution_count": 23
        }
      ]
    },
    {
      "cell_type": "markdown",
      "metadata": {
        "id": "S8wwWbE5cSjV"
      },
      "source": [
        "Choose the between department and job title and use the variable with the smallest number of values to for one hot encoding. Additionally, create dummy variables for full ot part-time."
      ]
    },
    {
      "cell_type": "code",
      "metadata": {
        "id": "1Y017CXqcSjV",
        "outputId": "5da313cf-7bb7-4d23-d1d3-fbaf5f2f0b11",
        "colab": {
          "base_uri": "https://localhost:8080/",
          "height": 35
        }
      },
      "source": [
        "# answer below:\n",
        "chicago_sal['Job Titles'].nunique()"
      ],
      "execution_count": 24,
      "outputs": [
        {
          "output_type": "execute_result",
          "data": {
            "text/plain": [
              "954"
            ]
          },
          "metadata": {
            "tags": []
          },
          "execution_count": 24
        }
      ]
    },
    {
      "cell_type": "code",
      "metadata": {
        "id": "hzOXxQxQk3Lj",
        "outputId": "5aadf70f-725b-4101-d906-eb307026817d",
        "colab": {
          "base_uri": "https://localhost:8080/",
          "height": 35
        }
      },
      "source": [
        "chicago_sal['Department'].nunique()"
      ],
      "execution_count": 25,
      "outputs": [
        {
          "output_type": "execute_result",
          "data": {
            "text/plain": [
              "36"
            ]
          },
          "metadata": {
            "tags": []
          },
          "execution_count": 25
        }
      ]
    },
    {
      "cell_type": "code",
      "metadata": {
        "id": "XYc--P_z8Lko"
      },
      "source": [
        "chicago_sal = pd.concat([chicago_sal,\n",
        "                         pd.get_dummies(chicago_sal['Department'])],\n",
        "                        axis = 1)"
      ],
      "execution_count": 26,
      "outputs": []
    },
    {
      "cell_type": "code",
      "metadata": {
        "id": "crGKBFUjjgjV",
        "outputId": "23309618-f3c7-40b7-8866-599656fd574a",
        "colab": {
          "base_uri": "https://localhost:8080/",
          "height": 69
        }
      },
      "source": [
        "chicago_sal['Full or Part-Time'].value_counts()"
      ],
      "execution_count": null,
      "outputs": [
        {
          "output_type": "execute_result",
          "data": {
            "text/plain": [
              "F    24770\n",
              "P        5\n",
              "Name: Full or Part-Time, dtype: int64"
            ]
          },
          "metadata": {
            "tags": []
          },
          "execution_count": 15
        }
      ]
    },
    {
      "cell_type": "code",
      "metadata": {
        "id": "DAd1PHip9NwG"
      },
      "source": [
        "chicago_sal = pd.concat([chicago_sal,\n",
        "                         pd.get_dummies(chicago_sal['Full or Part-Time'])],\n",
        "                        axis = 1)"
      ],
      "execution_count": 28,
      "outputs": []
    },
    {
      "cell_type": "markdown",
      "metadata": {
        "id": "KH4kKrHVcSjX"
      },
      "source": [
        "Remove all irrelevant columns (Name, Job Titles, Salary or Hourly, Typical Hours, Hourly Rate)"
      ]
    },
    {
      "cell_type": "code",
      "metadata": {
        "id": "h-MaRcptcSjX"
      },
      "source": [
        "# answer below:\n",
        "chicago_sal.drop(['Name', 'Job Titles', 'Salary or Hourly', 'Typical Hours', 'Hourly Rate', 'Department', 'Full or Part-Time'], axis=1, inplace=True)\n"
      ],
      "execution_count": 30,
      "outputs": []
    },
    {
      "cell_type": "code",
      "metadata": {
        "id": "bzYO_KEe8iC8",
        "outputId": "63391cbf-b172-4123-a406-a7ebac088581",
        "colab": {
          "base_uri": "https://localhost:8080/",
          "height": 253
        }
      },
      "source": [
        "chicago_sal.head()"
      ],
      "execution_count": 31,
      "outputs": [
        {
          "output_type": "execute_result",
          "data": {
            "text/html": [
              "<div>\n",
              "<style scoped>\n",
              "    .dataframe tbody tr th:only-of-type {\n",
              "        vertical-align: middle;\n",
              "    }\n",
              "\n",
              "    .dataframe tbody tr th {\n",
              "        vertical-align: top;\n",
              "    }\n",
              "\n",
              "    .dataframe thead th {\n",
              "        text-align: right;\n",
              "    }\n",
              "</style>\n",
              "<table border=\"1\" class=\"dataframe\">\n",
              "  <thead>\n",
              "    <tr style=\"text-align: right;\">\n",
              "      <th></th>\n",
              "      <th>Annual Salary</th>\n",
              "      <th>ADMIN HEARNG</th>\n",
              "      <th>ANIMAL CONTRL</th>\n",
              "      <th>AVIATION</th>\n",
              "      <th>BOARD OF ELECTION</th>\n",
              "      <th>BOARD OF ETHICS</th>\n",
              "      <th>BUDGET &amp; MGMT</th>\n",
              "      <th>BUILDINGS</th>\n",
              "      <th>BUSINESS AFFAIRS</th>\n",
              "      <th>CITY CLERK</th>\n",
              "      <th>CITY COUNCIL</th>\n",
              "      <th>COMMUNITY DEVELOPMENT</th>\n",
              "      <th>COPA</th>\n",
              "      <th>CULTURAL AFFAIRS</th>\n",
              "      <th>DISABILITIES</th>\n",
              "      <th>DoIT</th>\n",
              "      <th>FAMILY &amp; SUPPORT</th>\n",
              "      <th>FINANCE</th>\n",
              "      <th>FIRE</th>\n",
              "      <th>GENERAL SERVICES</th>\n",
              "      <th>HEALTH</th>\n",
              "      <th>HUMAN RELATIONS</th>\n",
              "      <th>HUMAN RESOURCES</th>\n",
              "      <th>INSPECTOR GEN</th>\n",
              "      <th>IPRA</th>\n",
              "      <th>LAW</th>\n",
              "      <th>LICENSE APPL COMM</th>\n",
              "      <th>MAYOR'S OFFICE</th>\n",
              "      <th>OEMC</th>\n",
              "      <th>POLICE</th>\n",
              "      <th>POLICE BOARD</th>\n",
              "      <th>PROCUREMENT</th>\n",
              "      <th>PUBLIC LIBRARY</th>\n",
              "      <th>STREETS &amp; SAN</th>\n",
              "      <th>TRANSPORTN</th>\n",
              "      <th>TREASURER</th>\n",
              "      <th>WATER MGMNT</th>\n",
              "      <th>F</th>\n",
              "      <th>P</th>\n",
              "    </tr>\n",
              "  </thead>\n",
              "  <tbody>\n",
              "    <tr>\n",
              "      <th>0</th>\n",
              "      <td>$107790.00</td>\n",
              "      <td>0</td>\n",
              "      <td>0</td>\n",
              "      <td>0</td>\n",
              "      <td>0</td>\n",
              "      <td>0</td>\n",
              "      <td>0</td>\n",
              "      <td>0</td>\n",
              "      <td>0</td>\n",
              "      <td>0</td>\n",
              "      <td>0</td>\n",
              "      <td>0</td>\n",
              "      <td>0</td>\n",
              "      <td>0</td>\n",
              "      <td>0</td>\n",
              "      <td>0</td>\n",
              "      <td>0</td>\n",
              "      <td>0</td>\n",
              "      <td>1</td>\n",
              "      <td>0</td>\n",
              "      <td>0</td>\n",
              "      <td>0</td>\n",
              "      <td>0</td>\n",
              "      <td>0</td>\n",
              "      <td>0</td>\n",
              "      <td>0</td>\n",
              "      <td>0</td>\n",
              "      <td>0</td>\n",
              "      <td>0</td>\n",
              "      <td>0</td>\n",
              "      <td>0</td>\n",
              "      <td>0</td>\n",
              "      <td>0</td>\n",
              "      <td>0</td>\n",
              "      <td>0</td>\n",
              "      <td>0</td>\n",
              "      <td>0</td>\n",
              "      <td>1</td>\n",
              "      <td>0</td>\n",
              "    </tr>\n",
              "    <tr>\n",
              "      <th>1</th>\n",
              "      <td>$104628.00</td>\n",
              "      <td>0</td>\n",
              "      <td>0</td>\n",
              "      <td>0</td>\n",
              "      <td>0</td>\n",
              "      <td>0</td>\n",
              "      <td>0</td>\n",
              "      <td>0</td>\n",
              "      <td>0</td>\n",
              "      <td>0</td>\n",
              "      <td>0</td>\n",
              "      <td>0</td>\n",
              "      <td>0</td>\n",
              "      <td>0</td>\n",
              "      <td>0</td>\n",
              "      <td>0</td>\n",
              "      <td>0</td>\n",
              "      <td>0</td>\n",
              "      <td>0</td>\n",
              "      <td>0</td>\n",
              "      <td>0</td>\n",
              "      <td>0</td>\n",
              "      <td>0</td>\n",
              "      <td>0</td>\n",
              "      <td>0</td>\n",
              "      <td>0</td>\n",
              "      <td>0</td>\n",
              "      <td>0</td>\n",
              "      <td>0</td>\n",
              "      <td>1</td>\n",
              "      <td>0</td>\n",
              "      <td>0</td>\n",
              "      <td>0</td>\n",
              "      <td>0</td>\n",
              "      <td>0</td>\n",
              "      <td>0</td>\n",
              "      <td>0</td>\n",
              "      <td>1</td>\n",
              "      <td>0</td>\n",
              "    </tr>\n",
              "    <tr>\n",
              "      <th>2</th>\n",
              "      <td>$114324.00</td>\n",
              "      <td>0</td>\n",
              "      <td>0</td>\n",
              "      <td>0</td>\n",
              "      <td>0</td>\n",
              "      <td>0</td>\n",
              "      <td>0</td>\n",
              "      <td>0</td>\n",
              "      <td>0</td>\n",
              "      <td>0</td>\n",
              "      <td>0</td>\n",
              "      <td>0</td>\n",
              "      <td>0</td>\n",
              "      <td>0</td>\n",
              "      <td>0</td>\n",
              "      <td>0</td>\n",
              "      <td>0</td>\n",
              "      <td>0</td>\n",
              "      <td>1</td>\n",
              "      <td>0</td>\n",
              "      <td>0</td>\n",
              "      <td>0</td>\n",
              "      <td>0</td>\n",
              "      <td>0</td>\n",
              "      <td>0</td>\n",
              "      <td>0</td>\n",
              "      <td>0</td>\n",
              "      <td>0</td>\n",
              "      <td>0</td>\n",
              "      <td>0</td>\n",
              "      <td>0</td>\n",
              "      <td>0</td>\n",
              "      <td>0</td>\n",
              "      <td>0</td>\n",
              "      <td>0</td>\n",
              "      <td>0</td>\n",
              "      <td>0</td>\n",
              "      <td>1</td>\n",
              "      <td>0</td>\n",
              "    </tr>\n",
              "    <tr>\n",
              "      <th>3</th>\n",
              "      <td>$76932.00</td>\n",
              "      <td>0</td>\n",
              "      <td>0</td>\n",
              "      <td>0</td>\n",
              "      <td>0</td>\n",
              "      <td>0</td>\n",
              "      <td>0</td>\n",
              "      <td>0</td>\n",
              "      <td>0</td>\n",
              "      <td>0</td>\n",
              "      <td>0</td>\n",
              "      <td>0</td>\n",
              "      <td>0</td>\n",
              "      <td>0</td>\n",
              "      <td>0</td>\n",
              "      <td>0</td>\n",
              "      <td>0</td>\n",
              "      <td>0</td>\n",
              "      <td>0</td>\n",
              "      <td>0</td>\n",
              "      <td>0</td>\n",
              "      <td>0</td>\n",
              "      <td>0</td>\n",
              "      <td>0</td>\n",
              "      <td>0</td>\n",
              "      <td>1</td>\n",
              "      <td>0</td>\n",
              "      <td>0</td>\n",
              "      <td>0</td>\n",
              "      <td>0</td>\n",
              "      <td>0</td>\n",
              "      <td>0</td>\n",
              "      <td>0</td>\n",
              "      <td>0</td>\n",
              "      <td>0</td>\n",
              "      <td>0</td>\n",
              "      <td>0</td>\n",
              "      <td>1</td>\n",
              "      <td>0</td>\n",
              "    </tr>\n",
              "    <tr>\n",
              "      <th>4</th>\n",
              "      <td>$111474.00</td>\n",
              "      <td>0</td>\n",
              "      <td>0</td>\n",
              "      <td>0</td>\n",
              "      <td>0</td>\n",
              "      <td>0</td>\n",
              "      <td>0</td>\n",
              "      <td>0</td>\n",
              "      <td>0</td>\n",
              "      <td>0</td>\n",
              "      <td>0</td>\n",
              "      <td>0</td>\n",
              "      <td>0</td>\n",
              "      <td>0</td>\n",
              "      <td>0</td>\n",
              "      <td>0</td>\n",
              "      <td>0</td>\n",
              "      <td>0</td>\n",
              "      <td>0</td>\n",
              "      <td>0</td>\n",
              "      <td>0</td>\n",
              "      <td>0</td>\n",
              "      <td>0</td>\n",
              "      <td>0</td>\n",
              "      <td>0</td>\n",
              "      <td>0</td>\n",
              "      <td>0</td>\n",
              "      <td>0</td>\n",
              "      <td>0</td>\n",
              "      <td>1</td>\n",
              "      <td>0</td>\n",
              "      <td>0</td>\n",
              "      <td>0</td>\n",
              "      <td>0</td>\n",
              "      <td>0</td>\n",
              "      <td>0</td>\n",
              "      <td>0</td>\n",
              "      <td>1</td>\n",
              "      <td>0</td>\n",
              "    </tr>\n",
              "  </tbody>\n",
              "</table>\n",
              "</div>"
            ],
            "text/plain": [
              "  Annual Salary  ADMIN HEARNG  ANIMAL CONTRL  ...  WATER MGMNT  F  P\n",
              "0    $107790.00             0              0  ...            0  1  0\n",
              "1    $104628.00             0              0  ...            0  1  0\n",
              "2    $114324.00             0              0  ...            0  1  0\n",
              "3     $76932.00             0              0  ...            0  1  0\n",
              "4    $111474.00             0              0  ...            0  1  0\n",
              "\n",
              "[5 rows x 39 columns]"
            ]
          },
          "metadata": {
            "tags": []
          },
          "execution_count": 31
        }
      ]
    },
    {
      "cell_type": "markdown",
      "metadata": {
        "id": "MttxKtdscSjZ"
      },
      "source": [
        "Check that none of the remaining columns are of object type and convert them to numeric if they are of object type."
      ]
    },
    {
      "cell_type": "code",
      "metadata": {
        "id": "W34P6H5KcSjZ",
        "outputId": "50251c71-732f-4e0f-9ba3-db53e43f5f3b",
        "colab": {
          "base_uri": "https://localhost:8080/",
          "height": 812
        }
      },
      "source": [
        "# answer below:\n",
        "chicago_sal['Annual Salary'] = pd.to_numeric(chicago_sal['Annual Salary'].str.strip('$'), errors='coerce')\n",
        "chicago_sal.info()"
      ],
      "execution_count": 33,
      "outputs": [
        {
          "output_type": "stream",
          "text": [
            "<class 'pandas.core.frame.DataFrame'>\n",
            "Int64Index: 24775 entries, 0 to 32657\n",
            "Data columns (total 39 columns):\n",
            " #   Column                 Non-Null Count  Dtype  \n",
            "---  ------                 --------------  -----  \n",
            " 0   Annual Salary          24775 non-null  float64\n",
            " 1   ADMIN HEARNG           24775 non-null  uint8  \n",
            " 2   ANIMAL CONTRL          24775 non-null  uint8  \n",
            " 3   AVIATION               24775 non-null  uint8  \n",
            " 4   BOARD OF ELECTION      24775 non-null  uint8  \n",
            " 5   BOARD OF ETHICS        24775 non-null  uint8  \n",
            " 6   BUDGET & MGMT          24775 non-null  uint8  \n",
            " 7   BUILDINGS              24775 non-null  uint8  \n",
            " 8   BUSINESS AFFAIRS       24775 non-null  uint8  \n",
            " 9   CITY CLERK             24775 non-null  uint8  \n",
            " 10  CITY COUNCIL           24775 non-null  uint8  \n",
            " 11  COMMUNITY DEVELOPMENT  24775 non-null  uint8  \n",
            " 12  COPA                   24775 non-null  uint8  \n",
            " 13  CULTURAL AFFAIRS       24775 non-null  uint8  \n",
            " 14  DISABILITIES           24775 non-null  uint8  \n",
            " 15  DoIT                   24775 non-null  uint8  \n",
            " 16  FAMILY & SUPPORT       24775 non-null  uint8  \n",
            " 17  FINANCE                24775 non-null  uint8  \n",
            " 18  FIRE                   24775 non-null  uint8  \n",
            " 19  GENERAL SERVICES       24775 non-null  uint8  \n",
            " 20  HEALTH                 24775 non-null  uint8  \n",
            " 21  HUMAN RELATIONS        24775 non-null  uint8  \n",
            " 22  HUMAN RESOURCES        24775 non-null  uint8  \n",
            " 23  INSPECTOR GEN          24775 non-null  uint8  \n",
            " 24  IPRA                   24775 non-null  uint8  \n",
            " 25  LAW                    24775 non-null  uint8  \n",
            " 26  LICENSE APPL COMM      24775 non-null  uint8  \n",
            " 27  MAYOR'S OFFICE         24775 non-null  uint8  \n",
            " 28  OEMC                   24775 non-null  uint8  \n",
            " 29  POLICE                 24775 non-null  uint8  \n",
            " 30  POLICE BOARD           24775 non-null  uint8  \n",
            " 31  PROCUREMENT            24775 non-null  uint8  \n",
            " 32  PUBLIC LIBRARY         24775 non-null  uint8  \n",
            " 33  STREETS & SAN          24775 non-null  uint8  \n",
            " 34  TRANSPORTN             24775 non-null  uint8  \n",
            " 35  TREASURER              24775 non-null  uint8  \n",
            " 36  WATER MGMNT            24775 non-null  uint8  \n",
            " 37  F                      24775 non-null  uint8  \n",
            " 38  P                      24775 non-null  uint8  \n",
            "dtypes: float64(1), uint8(38)\n",
            "memory usage: 1.3 MB\n"
          ],
          "name": "stdout"
        }
      ]
    },
    {
      "cell_type": "markdown",
      "metadata": {
        "id": "OrKDy_59cSjb"
      },
      "source": [
        "Split the data into a test and train sample. Use annual salary as the dependent variable. 20% of the data should be assigned to the test sample."
      ]
    },
    {
      "cell_type": "code",
      "metadata": {
        "id": "_s85YxVZcSjb"
      },
      "source": [
        "# answer below:\n",
        "X = chicago_sal.drop('Annual Salary', axis=1)\n",
        "Y = chicago_sal['Annual Salary']\n",
        "\n",
        "X_train, X_test, y_train, y_test = train_test_split(X, Y, test_size=0.2)"
      ],
      "execution_count": 36,
      "outputs": []
    },
    {
      "cell_type": "markdown",
      "metadata": {
        "id": "D_paBe77cSjd"
      },
      "source": [
        "Generate a regession decision tree using `DecisionTreeRegressor` in sklearn. Fit the model on the training set and calculate the score for both train and test."
      ]
    },
    {
      "cell_type": "code",
      "metadata": {
        "id": "OkLxsJCwcSjd",
        "outputId": "112b36d0-44c7-4527-9637-c9200d91dcff",
        "colab": {
          "base_uri": "https://localhost:8080/",
          "height": 121
        }
      },
      "source": [
        "# answer below:\n",
        "decision_tree = tree.DecisionTreeRegressor(max_depth=10)\n",
        "\n",
        "decision_tree.fit(X_train, y_train)\n"
      ],
      "execution_count": 67,
      "outputs": [
        {
          "output_type": "execute_result",
          "data": {
            "text/plain": [
              "DecisionTreeRegressor(ccp_alpha=0.0, criterion='mse', max_depth=10,\n",
              "                      max_features=None, max_leaf_nodes=None,\n",
              "                      min_impurity_decrease=0.0, min_impurity_split=None,\n",
              "                      min_samples_leaf=1, min_samples_split=2,\n",
              "                      min_weight_fraction_leaf=0.0, presort='deprecated',\n",
              "                      random_state=None, splitter='best')"
            ]
          },
          "metadata": {
            "tags": []
          },
          "execution_count": 67
        }
      ]
    },
    {
      "cell_type": "code",
      "metadata": {
        "id": "JQlSRp9L_4Dt",
        "outputId": "0f049893-e4bb-4f88-8c71-69ed55c6a957",
        "colab": {
          "base_uri": "https://localhost:8080/",
          "height": 1000
        }
      },
      "source": [
        "dot_data = tree.export_graphviz(\n",
        "    decision_tree, \n",
        "    out_file=None, \n",
        "    feature_names=X_train.columns,\n",
        "    filled=True,\n",
        "    rounded=True,\n",
        "    special_characters=True)\n",
        "\n",
        "graph = graphviz.Source(dot_data)\n",
        "graph"
      ],
      "execution_count": 68,
      "outputs": [
        {
          "output_type": "execute_result",
          "data": {
            "text/plain": [
              "<graphviz.files.Source at 0x7f4a925efdd8>"
            ],
            "image/svg+xml": "<?xml version=\"1.0\" encoding=\"UTF-8\" standalone=\"no\"?>\n<!DOCTYPE svg PUBLIC \"-//W3C//DTD SVG 1.1//EN\"\n \"http://www.w3.org/Graphics/SVG/1.1/DTD/svg11.dtd\">\n<!-- Generated by graphviz version 2.40.1 (20161225.0304)\n -->\n<!-- Title: Tree Pages: 1 -->\n<svg width=\"1509pt\" height=\"1101pt\"\n viewBox=\"0.00 0.00 1509.00 1101.00\" xmlns=\"http://www.w3.org/2000/svg\" xmlns:xlink=\"http://www.w3.org/1999/xlink\">\n<g id=\"graph0\" class=\"graph\" transform=\"scale(1 1) rotate(0) translate(4 1097)\">\n<title>Tree</title>\n<polygon fill=\"#ffffff\" stroke=\"transparent\" points=\"-4,4 -4,-1097 1505,-1097 1505,4 -4,4\"/>\n<!-- 0 -->\n<g id=\"node1\" class=\"node\">\n<title>0</title>\n<path fill=\"#e99355\" stroke=\"#000000\" d=\"M1244,-1093C1244,-1093 1105,-1093 1105,-1093 1099,-1093 1093,-1087 1093,-1081 1093,-1081 1093,-1037 1093,-1037 1093,-1031 1099,-1025 1105,-1025 1105,-1025 1244,-1025 1244,-1025 1250,-1025 1256,-1031 1256,-1037 1256,-1037 1256,-1081 1256,-1081 1256,-1087 1250,-1093 1244,-1093\"/>\n<text text-anchor=\"start\" x=\"1140\" y=\"-1077.8\" font-family=\"Helvetica,sans-Serif\" font-size=\"14.00\" fill=\"#000000\">FIRE ≤ 0.5</text>\n<text text-anchor=\"start\" x=\"1101\" y=\"-1062.8\" font-family=\"Helvetica,sans-Serif\" font-size=\"14.00\" fill=\"#000000\">mse = 422740939.319</text>\n<text text-anchor=\"start\" x=\"1118.5\" y=\"-1047.8\" font-family=\"Helvetica,sans-Serif\" font-size=\"14.00\" fill=\"#000000\">samples = 19820</text>\n<text text-anchor=\"start\" x=\"1114\" y=\"-1032.8\" font-family=\"Helvetica,sans-Serif\" font-size=\"14.00\" fill=\"#000000\">value = 87437.938</text>\n</g>\n<!-- 1 -->\n<g id=\"node2\" class=\"node\">\n<title>1</title>\n<path fill=\"#e9965b\" stroke=\"#000000\" d=\"M1156,-989C1156,-989 1017,-989 1017,-989 1011,-989 1005,-983 1005,-977 1005,-977 1005,-933 1005,-933 1005,-927 1011,-921 1017,-921 1017,-921 1156,-921 1156,-921 1162,-921 1168,-927 1168,-933 1168,-933 1168,-977 1168,-977 1168,-983 1162,-989 1156,-989\"/>\n<text text-anchor=\"start\" x=\"1042\" y=\"-973.8\" font-family=\"Helvetica,sans-Serif\" font-size=\"14.00\" fill=\"#000000\">POLICE ≤ 0.5</text>\n<text text-anchor=\"start\" x=\"1013\" y=\"-958.8\" font-family=\"Helvetica,sans-Serif\" font-size=\"14.00\" fill=\"#000000\">mse = 396360863.282</text>\n<text text-anchor=\"start\" x=\"1030.5\" y=\"-943.8\" font-family=\"Helvetica,sans-Serif\" font-size=\"14.00\" fill=\"#000000\">samples = 15966</text>\n<text text-anchor=\"start\" x=\"1030\" y=\"-928.8\" font-family=\"Helvetica,sans-Serif\" font-size=\"14.00\" fill=\"#000000\">value = 84997.85</text>\n</g>\n<!-- 0&#45;&gt;1 -->\n<g id=\"edge1\" class=\"edge\">\n<title>0&#45;&gt;1</title>\n<path fill=\"none\" stroke=\"#000000\" d=\"M1145.6855,-1024.9465C1138.0883,-1015.968 1129.8026,-1006.1758 1121.9018,-996.8385\"/>\n<polygon fill=\"#000000\" stroke=\"#000000\" points=\"1124.5105,-994.5031 1115.3792,-989.13 1119.1668,-999.0247 1124.5105,-994.5031\"/>\n<text text-anchor=\"middle\" x=\"1113.3031\" y=\"-1010.3436\" font-family=\"Helvetica,sans-Serif\" font-size=\"14.00\" fill=\"#000000\">True</text>\n</g>\n<!-- 22 -->\n<g id=\"node23\" class=\"node\">\n<title>22</title>\n<path fill=\"#e5833c\" stroke=\"#000000\" d=\"M1329,-989C1329,-989 1198,-989 1198,-989 1192,-989 1186,-983 1186,-977 1186,-977 1186,-933 1186,-933 1186,-927 1192,-921 1198,-921 1198,-921 1329,-921 1329,-921 1335,-921 1341,-927 1341,-933 1341,-933 1341,-977 1341,-977 1341,-983 1335,-989 1329,-989\"/>\n<text text-anchor=\"start\" x=\"1241\" y=\"-973.8\" font-family=\"Helvetica,sans-Serif\" font-size=\"14.00\" fill=\"#000000\">F ≤ 0.5</text>\n<text text-anchor=\"start\" x=\"1194\" y=\"-958.8\" font-family=\"Helvetica,sans-Serif\" font-size=\"14.00\" fill=\"#000000\">mse = 405176799.16</text>\n<text text-anchor=\"start\" x=\"1211.5\" y=\"-943.8\" font-family=\"Helvetica,sans-Serif\" font-size=\"14.00\" fill=\"#000000\">samples = 3854</text>\n<text text-anchor=\"start\" x=\"1203\" y=\"-928.8\" font-family=\"Helvetica,sans-Serif\" font-size=\"14.00\" fill=\"#000000\">value = 97546.514</text>\n</g>\n<!-- 0&#45;&gt;22 -->\n<g id=\"edge22\" class=\"edge\">\n<title>0&#45;&gt;22</title>\n<path fill=\"none\" stroke=\"#000000\" d=\"M1203.6419,-1024.9465C1211.3255,-1015.968 1219.7053,-1006.1758 1227.6959,-996.8385\"/>\n<polygon fill=\"#000000\" stroke=\"#000000\" points=\"1230.4499,-999.0034 1234.2926,-989.13 1225.1315,-994.4521 1230.4499,-999.0034\"/>\n<text text-anchor=\"middle\" x=\"1236.2298\" y=\"-1010.3548\" font-family=\"Helvetica,sans-Serif\" font-size=\"14.00\" fill=\"#000000\">False</text>\n</g>\n<!-- 2 -->\n<g id=\"node3\" class=\"node\">\n<title>2</title>\n<path fill=\"#eb9e67\" stroke=\"#000000\" d=\"M980,-885C980,-885 841,-885 841,-885 835,-885 829,-879 829,-873 829,-873 829,-829 829,-829 829,-823 835,-817 841,-817 841,-817 980,-817 980,-817 986,-817 992,-823 992,-829 992,-829 992,-873 992,-873 992,-879 986,-885 980,-885\"/>\n<text text-anchor=\"start\" x=\"853.5\" y=\"-869.8\" font-family=\"Helvetica,sans-Serif\" font-size=\"14.00\" fill=\"#000000\">BUILDINGS ≤ 0.5</text>\n<text text-anchor=\"start\" x=\"837\" y=\"-854.8\" font-family=\"Helvetica,sans-Serif\" font-size=\"14.00\" fill=\"#000000\">mse = 574028286.608</text>\n<text text-anchor=\"start\" x=\"858.5\" y=\"-839.8\" font-family=\"Helvetica,sans-Serif\" font-size=\"14.00\" fill=\"#000000\">samples = 5621</text>\n<text text-anchor=\"start\" x=\"850\" y=\"-824.8\" font-family=\"Helvetica,sans-Serif\" font-size=\"14.00\" fill=\"#000000\">value = 79828.997</text>\n</g>\n<!-- 1&#45;&gt;2 -->\n<g id=\"edge2\" class=\"edge\">\n<title>1&#45;&gt;2</title>\n<path fill=\"none\" stroke=\"#000000\" d=\"M1028.871,-920.9465C1012.3091,-911.1599 994.1112,-900.4066 977.0575,-890.3294\"/>\n<polygon fill=\"#000000\" stroke=\"#000000\" points=\"978.6483,-887.2041 968.2585,-885.13 975.0872,-893.2306 978.6483,-887.2041\"/>\n</g>\n<!-- 21 -->\n<g id=\"node22\" class=\"node\">\n<title>21</title>\n<path fill=\"#e99254\" stroke=\"#000000\" d=\"M1161,-877.5C1161,-877.5 1022,-877.5 1022,-877.5 1016,-877.5 1010,-871.5 1010,-865.5 1010,-865.5 1010,-836.5 1010,-836.5 1010,-830.5 1016,-824.5 1022,-824.5 1022,-824.5 1161,-824.5 1161,-824.5 1167,-824.5 1173,-830.5 1173,-836.5 1173,-836.5 1173,-865.5 1173,-865.5 1173,-871.5 1167,-877.5 1161,-877.5\"/>\n<text text-anchor=\"start\" x=\"1018\" y=\"-862.3\" font-family=\"Helvetica,sans-Serif\" font-size=\"14.00\" fill=\"#000000\">mse = 277419909.746</text>\n<text text-anchor=\"start\" x=\"1035.5\" y=\"-847.3\" font-family=\"Helvetica,sans-Serif\" font-size=\"14.00\" fill=\"#000000\">samples = 10345</text>\n<text text-anchor=\"start\" x=\"1031\" y=\"-832.3\" font-family=\"Helvetica,sans-Serif\" font-size=\"14.00\" fill=\"#000000\">value = 87806.369</text>\n</g>\n<!-- 1&#45;&gt;21 -->\n<g id=\"edge21\" class=\"edge\">\n<title>1&#45;&gt;21</title>\n<path fill=\"none\" stroke=\"#000000\" d=\"M1088.1372,-920.9465C1088.6509,-910.2621 1089.2199,-898.4254 1089.7416,-887.5742\"/>\n<polygon fill=\"#000000\" stroke=\"#000000\" points=\"1093.2396,-887.6987 1090.2239,-877.5422 1086.2477,-887.3625 1093.2396,-887.6987\"/>\n</g>\n<!-- 3 -->\n<g id=\"node4\" class=\"node\">\n<title>3</title>\n<path fill=\"#eb9f69\" stroke=\"#000000\" d=\"M890,-781C890,-781 751,-781 751,-781 745,-781 739,-775 739,-769 739,-769 739,-725 739,-725 739,-719 745,-713 751,-713 751,-713 890,-713 890,-713 896,-713 902,-719 902,-725 902,-725 902,-769 902,-769 902,-775 896,-781 890,-781\"/>\n<text text-anchor=\"start\" x=\"752\" y=\"-765.8\" font-family=\"Helvetica,sans-Serif\" font-size=\"14.00\" fill=\"#000000\">CITY COUNCIL ≤ 0.5</text>\n<text text-anchor=\"start\" x=\"747\" y=\"-750.8\" font-family=\"Helvetica,sans-Serif\" font-size=\"14.00\" fill=\"#000000\">mse = 569319586.299</text>\n<text text-anchor=\"start\" x=\"768.5\" y=\"-735.8\" font-family=\"Helvetica,sans-Serif\" font-size=\"14.00\" fill=\"#000000\">samples = 5408</text>\n<text text-anchor=\"start\" x=\"760\" y=\"-720.8\" font-family=\"Helvetica,sans-Serif\" font-size=\"14.00\" fill=\"#000000\">value = 79077.279</text>\n</g>\n<!-- 2&#45;&gt;3 -->\n<g id=\"edge3\" class=\"edge\">\n<title>2&#45;&gt;3</title>\n<path fill=\"none\" stroke=\"#000000\" d=\"M881.0306,-816.9465C873.2607,-807.968 864.7868,-798.1758 856.7064,-788.8385\"/>\n<polygon fill=\"#000000\" stroke=\"#000000\" points=\"859.226,-786.4014 850.0356,-781.13 853.9328,-790.982 859.226,-786.4014\"/>\n</g>\n<!-- 20 -->\n<g id=\"node21\" class=\"node\">\n<title>20</title>\n<path fill=\"#e58139\" stroke=\"#000000\" d=\"M1071,-773.5C1071,-773.5 932,-773.5 932,-773.5 926,-773.5 920,-767.5 920,-761.5 920,-761.5 920,-732.5 920,-732.5 920,-726.5 926,-720.5 932,-720.5 932,-720.5 1071,-720.5 1071,-720.5 1077,-720.5 1083,-726.5 1083,-732.5 1083,-732.5 1083,-761.5 1083,-761.5 1083,-767.5 1077,-773.5 1071,-773.5\"/>\n<text text-anchor=\"start\" x=\"928\" y=\"-758.3\" font-family=\"Helvetica,sans-Serif\" font-size=\"14.00\" fill=\"#000000\">mse = 314963200.963</text>\n<text text-anchor=\"start\" x=\"953.5\" y=\"-743.3\" font-family=\"Helvetica,sans-Serif\" font-size=\"14.00\" fill=\"#000000\">samples = 213</text>\n<text text-anchor=\"start\" x=\"941\" y=\"-728.3\" font-family=\"Helvetica,sans-Serif\" font-size=\"14.00\" fill=\"#000000\">value = 98914.862</text>\n</g>\n<!-- 2&#45;&gt;20 -->\n<g id=\"edge20\" class=\"edge\">\n<title>2&#45;&gt;20</title>\n<path fill=\"none\" stroke=\"#000000\" d=\"M940.2968,-816.9465C950.3204,-805.491 961.5028,-792.711 971.539,-781.2412\"/>\n<polygon fill=\"#000000\" stroke=\"#000000\" points=\"974.3246,-783.3727 978.2756,-773.5422 969.0565,-778.7632 974.3246,-783.3727\"/>\n</g>\n<!-- 4 -->\n<g id=\"node5\" class=\"node\">\n<title>4</title>\n<path fill=\"#eb9e67\" stroke=\"#000000\" d=\"M801.5,-677C801.5,-677 655.5,-677 655.5,-677 649.5,-677 643.5,-671 643.5,-665 643.5,-665 643.5,-621 643.5,-621 643.5,-615 649.5,-609 655.5,-609 655.5,-609 801.5,-609 801.5,-609 807.5,-609 813.5,-615 813.5,-621 813.5,-621 813.5,-665 813.5,-665 813.5,-671 807.5,-677 801.5,-677\"/>\n<text text-anchor=\"start\" x=\"651.5\" y=\"-661.8\" font-family=\"Helvetica,sans-Serif\" font-size=\"14.00\" fill=\"#000000\">PUBLIC LIBRARY ≤ 0.5</text>\n<text text-anchor=\"start\" x=\"655\" y=\"-646.8\" font-family=\"Helvetica,sans-Serif\" font-size=\"14.00\" fill=\"#000000\">mse = 543890611.376</text>\n<text text-anchor=\"start\" x=\"676.5\" y=\"-631.8\" font-family=\"Helvetica,sans-Serif\" font-size=\"14.00\" fill=\"#000000\">samples = 5120</text>\n<text text-anchor=\"start\" x=\"668\" y=\"-616.8\" font-family=\"Helvetica,sans-Serif\" font-size=\"14.00\" fill=\"#000000\">value = 79911.929</text>\n</g>\n<!-- 3&#45;&gt;4 -->\n<g id=\"edge4\" class=\"edge\">\n<title>3&#45;&gt;4</title>\n<path fill=\"none\" stroke=\"#000000\" d=\"M790.3758,-712.9465C782.4332,-703.968 773.7709,-694.1758 765.511,-684.8385\"/>\n<polygon fill=\"#000000\" stroke=\"#000000\" points=\"767.9392,-682.301 758.6919,-677.13 762.6962,-686.939 767.9392,-682.301\"/>\n</g>\n<!-- 17 -->\n<g id=\"node18\" class=\"node\">\n<title>17</title>\n<path fill=\"#f0b68d\" stroke=\"#000000\" d=\"M983,-677C983,-677 844,-677 844,-677 838,-677 832,-671 832,-665 832,-665 832,-621 832,-621 832,-615 838,-609 844,-609 844,-609 983,-609 983,-609 989,-609 995,-615 995,-621 995,-621 995,-665 995,-665 995,-671 989,-677 983,-677\"/>\n<text text-anchor=\"start\" x=\"890.5\" y=\"-661.8\" font-family=\"Helvetica,sans-Serif\" font-size=\"14.00\" fill=\"#000000\">P ≤ 0.5</text>\n<text text-anchor=\"start\" x=\"840\" y=\"-646.8\" font-family=\"Helvetica,sans-Serif\" font-size=\"14.00\" fill=\"#000000\">mse = 788832532.996</text>\n<text text-anchor=\"start\" x=\"865.5\" y=\"-631.8\" font-family=\"Helvetica,sans-Serif\" font-size=\"14.00\" fill=\"#000000\">samples = 288</text>\n<text text-anchor=\"start\" x=\"853\" y=\"-616.8\" font-family=\"Helvetica,sans-Serif\" font-size=\"14.00\" fill=\"#000000\">value = 64239.052</text>\n</g>\n<!-- 3&#45;&gt;17 -->\n<g id=\"edge17\" class=\"edge\">\n<title>3&#45;&gt;17</title>\n<path fill=\"none\" stroke=\"#000000\" d=\"M850.9517,-712.9465C858.9806,-703.968 867.737,-694.1758 876.0867,-684.8385\"/>\n<polygon fill=\"#000000\" stroke=\"#000000\" points=\"878.923,-686.9174 882.9799,-677.13 873.705,-682.2512 878.923,-686.9174\"/>\n</g>\n<!-- 5 -->\n<g id=\"node6\" class=\"node\">\n<title>5</title>\n<path fill=\"#eb9c64\" stroke=\"#000000\" d=\"M617.5,-573C617.5,-573 437.5,-573 437.5,-573 431.5,-573 425.5,-567 425.5,-561 425.5,-561 425.5,-517 425.5,-517 425.5,-511 431.5,-505 437.5,-505 437.5,-505 617.5,-505 617.5,-505 623.5,-505 629.5,-511 629.5,-517 629.5,-517 629.5,-561 629.5,-561 629.5,-567 623.5,-573 617.5,-573\"/>\n<text text-anchor=\"start\" x=\"433.5\" y=\"-557.8\" font-family=\"Helvetica,sans-Serif\" font-size=\"14.00\" fill=\"#000000\">BOARD OF ELECTION ≤ 0.5</text>\n<text text-anchor=\"start\" x=\"454\" y=\"-542.8\" font-family=\"Helvetica,sans-Serif\" font-size=\"14.00\" fill=\"#000000\">mse = 550634626.934</text>\n<text text-anchor=\"start\" x=\"475.5\" y=\"-527.8\" font-family=\"Helvetica,sans-Serif\" font-size=\"14.00\" fill=\"#000000\">samples = 4565</text>\n<text text-anchor=\"start\" x=\"467\" y=\"-512.8\" font-family=\"Helvetica,sans-Serif\" font-size=\"14.00\" fill=\"#000000\">value = 81036.267</text>\n</g>\n<!-- 4&#45;&gt;5 -->\n<g id=\"edge5\" class=\"edge\">\n<title>4&#45;&gt;5</title>\n<path fill=\"none\" stroke=\"#000000\" d=\"M662.6851,-608.9465C643.4235,-598.9803 622.2245,-588.0117 602.4409,-577.7754\"/>\n<polygon fill=\"#000000\" stroke=\"#000000\" points=\"603.9528,-574.6169 593.4628,-573.13 600.7359,-580.834 603.9528,-574.6169\"/>\n</g>\n<!-- 16 -->\n<g id=\"node17\" class=\"node\">\n<title>16</title>\n<path fill=\"#eeac7d\" stroke=\"#000000\" d=\"M799,-565.5C799,-565.5 660,-565.5 660,-565.5 654,-565.5 648,-559.5 648,-553.5 648,-553.5 648,-524.5 648,-524.5 648,-518.5 654,-512.5 660,-512.5 660,-512.5 799,-512.5 799,-512.5 805,-512.5 811,-518.5 811,-524.5 811,-524.5 811,-553.5 811,-553.5 811,-559.5 805,-565.5 799,-565.5\"/>\n<text text-anchor=\"start\" x=\"656\" y=\"-550.3\" font-family=\"Helvetica,sans-Serif\" font-size=\"14.00\" fill=\"#000000\">mse = 392497576.303</text>\n<text text-anchor=\"start\" x=\"681.5\" y=\"-535.3\" font-family=\"Helvetica,sans-Serif\" font-size=\"14.00\" fill=\"#000000\">samples = 555</text>\n<text text-anchor=\"start\" x=\"677\" y=\"-520.3\" font-family=\"Helvetica,sans-Serif\" font-size=\"14.00\" fill=\"#000000\">value = 70664.0</text>\n</g>\n<!-- 4&#45;&gt;16 -->\n<g id=\"edge16\" class=\"edge\">\n<title>4&#45;&gt;16</title>\n<path fill=\"none\" stroke=\"#000000\" d=\"M728.8274,-608.9465C728.9302,-598.2621 729.044,-586.4254 729.1483,-575.5742\"/>\n<polygon fill=\"#000000\" stroke=\"#000000\" points=\"732.6484,-575.5754 729.2448,-565.5422 725.6487,-575.508 732.6484,-575.5754\"/>\n</g>\n<!-- 6 -->\n<g id=\"node7\" class=\"node\">\n<title>6</title>\n<path fill=\"#eb9c63\" stroke=\"#000000\" d=\"M505,-469C505,-469 374,-469 374,-469 368,-469 362,-463 362,-457 362,-457 362,-413 362,-413 362,-407 368,-401 374,-401 374,-401 505,-401 505,-401 511,-401 517,-407 517,-413 517,-413 517,-457 517,-457 517,-463 511,-469 505,-469\"/>\n<text text-anchor=\"start\" x=\"400\" y=\"-453.8\" font-family=\"Helvetica,sans-Serif\" font-size=\"14.00\" fill=\"#000000\">OEMC ≤ 0.5</text>\n<text text-anchor=\"start\" x=\"370\" y=\"-438.8\" font-family=\"Helvetica,sans-Serif\" font-size=\"14.00\" fill=\"#000000\">mse = 535150306.04</text>\n<text text-anchor=\"start\" x=\"387.5\" y=\"-423.8\" font-family=\"Helvetica,sans-Serif\" font-size=\"14.00\" fill=\"#000000\">samples = 4475</text>\n<text text-anchor=\"start\" x=\"379\" y=\"-408.8\" font-family=\"Helvetica,sans-Serif\" font-size=\"14.00\" fill=\"#000000\">value = 81533.343</text>\n</g>\n<!-- 5&#45;&gt;6 -->\n<g id=\"edge6\" class=\"edge\">\n<title>5&#45;&gt;6</title>\n<path fill=\"none\" stroke=\"#000000\" d=\"M498.6855,-504.9465C491.0883,-495.968 482.8026,-486.1758 474.9018,-476.8385\"/>\n<polygon fill=\"#000000\" stroke=\"#000000\" points=\"477.5105,-474.5031 468.3792,-469.13 472.1668,-479.0247 477.5105,-474.5031\"/>\n</g>\n<!-- 15 -->\n<g id=\"node16\" class=\"node\">\n<title>15</title>\n<path fill=\"#f3c2a0\" stroke=\"#000000\" d=\"M686,-461.5C686,-461.5 547,-461.5 547,-461.5 541,-461.5 535,-455.5 535,-449.5 535,-449.5 535,-420.5 535,-420.5 535,-414.5 541,-408.5 547,-408.5 547,-408.5 686,-408.5 686,-408.5 692,-408.5 698,-414.5 698,-420.5 698,-420.5 698,-449.5 698,-449.5 698,-455.5 692,-461.5 686,-461.5\"/>\n<text text-anchor=\"start\" x=\"543\" y=\"-446.3\" font-family=\"Helvetica,sans-Serif\" font-size=\"14.00\" fill=\"#000000\">mse = 697396392.249</text>\n<text text-anchor=\"start\" x=\"572.5\" y=\"-431.3\" font-family=\"Helvetica,sans-Serif\" font-size=\"14.00\" fill=\"#000000\">samples = 90</text>\n<text text-anchor=\"start\" x=\"556\" y=\"-416.3\" font-family=\"Helvetica,sans-Serif\" font-size=\"14.00\" fill=\"#000000\">value = 56320.533</text>\n</g>\n<!-- 5&#45;&gt;15 -->\n<g id=\"edge15\" class=\"edge\">\n<title>5&#45;&gt;15</title>\n<path fill=\"none\" stroke=\"#000000\" d=\"M556.6419,-504.9465C566.4452,-493.491 577.3819,-480.711 587.1975,-469.2412\"/>\n<polygon fill=\"#000000\" stroke=\"#000000\" points=\"589.9433,-471.4156 593.786,-461.5422 584.6249,-466.8642 589.9433,-471.4156\"/>\n</g>\n<!-- 7 -->\n<g id=\"node8\" class=\"node\">\n<title>7</title>\n<path fill=\"#ea9a60\" stroke=\"#000000\" d=\"M419,-365C419,-365 280,-365 280,-365 274,-365 268,-359 268,-353 268,-353 268,-309 268,-309 268,-303 274,-297 280,-297 280,-297 419,-297 419,-297 425,-297 431,-303 431,-309 431,-309 431,-353 431,-353 431,-359 425,-365 419,-365\"/>\n<text text-anchor=\"start\" x=\"299.5\" y=\"-349.8\" font-family=\"Helvetica,sans-Serif\" font-size=\"14.00\" fill=\"#000000\">FINANCE ≤ 0.5</text>\n<text text-anchor=\"start\" x=\"276\" y=\"-334.8\" font-family=\"Helvetica,sans-Serif\" font-size=\"14.00\" fill=\"#000000\">mse = 551129985.312</text>\n<text text-anchor=\"start\" x=\"297.5\" y=\"-319.8\" font-family=\"Helvetica,sans-Serif\" font-size=\"14.00\" fill=\"#000000\">samples = 3804</text>\n<text text-anchor=\"start\" x=\"289\" y=\"-304.8\" font-family=\"Helvetica,sans-Serif\" font-size=\"14.00\" fill=\"#000000\">value = 82952.038</text>\n</g>\n<!-- 6&#45;&gt;7 -->\n<g id=\"edge7\" class=\"edge\">\n<title>6&#45;&gt;7</title>\n<path fill=\"none\" stroke=\"#000000\" d=\"M410.0306,-400.9465C402.2607,-391.968 393.7868,-382.1758 385.7064,-372.8385\"/>\n<polygon fill=\"#000000\" stroke=\"#000000\" points=\"388.226,-370.4014 379.0356,-365.13 382.9328,-374.982 388.226,-370.4014\"/>\n</g>\n<!-- 14 -->\n<g id=\"node15\" class=\"node\">\n<title>14</title>\n<path fill=\"#eda876\" stroke=\"#000000\" d=\"M600,-357.5C600,-357.5 461,-357.5 461,-357.5 455,-357.5 449,-351.5 449,-345.5 449,-345.5 449,-316.5 449,-316.5 449,-310.5 455,-304.5 461,-304.5 461,-304.5 600,-304.5 600,-304.5 606,-304.5 612,-310.5 612,-316.5 612,-316.5 612,-345.5 612,-345.5 612,-351.5 606,-357.5 600,-357.5\"/>\n<text text-anchor=\"start\" x=\"457\" y=\"-342.3\" font-family=\"Helvetica,sans-Serif\" font-size=\"14.00\" fill=\"#000000\">mse = 368462214.088</text>\n<text text-anchor=\"start\" x=\"482.5\" y=\"-327.3\" font-family=\"Helvetica,sans-Serif\" font-size=\"14.00\" fill=\"#000000\">samples = 671</text>\n<text text-anchor=\"start\" x=\"470\" y=\"-312.3\" font-family=\"Helvetica,sans-Serif\" font-size=\"14.00\" fill=\"#000000\">value = 73490.545</text>\n</g>\n<!-- 6&#45;&gt;14 -->\n<g id=\"edge14\" class=\"edge\">\n<title>6&#45;&gt;14</title>\n<path fill=\"none\" stroke=\"#000000\" d=\"M469.2968,-400.9465C479.3204,-389.491 490.5028,-376.711 500.539,-365.2412\"/>\n<polygon fill=\"#000000\" stroke=\"#000000\" points=\"503.3246,-367.3727 507.2756,-357.5422 498.0565,-362.7632 503.3246,-367.3727\"/>\n</g>\n<!-- 8 -->\n<g id=\"node9\" class=\"node\">\n<title>8</title>\n<path fill=\"#ea985d\" stroke=\"#000000\" d=\"M329,-261C329,-261 190,-261 190,-261 184,-261 178,-255 178,-249 178,-249 178,-205 178,-205 178,-199 184,-193 190,-193 190,-193 329,-193 329,-193 335,-193 341,-199 341,-205 341,-205 341,-249 341,-249 341,-255 335,-261 329,-261\"/>\n<text text-anchor=\"start\" x=\"208.5\" y=\"-245.8\" font-family=\"Helvetica,sans-Serif\" font-size=\"14.00\" fill=\"#000000\">AVIATION ≤ 0.5</text>\n<text text-anchor=\"start\" x=\"186\" y=\"-230.8\" font-family=\"Helvetica,sans-Serif\" font-size=\"14.00\" fill=\"#000000\">mse = 533845543.432</text>\n<text text-anchor=\"start\" x=\"207.5\" y=\"-215.8\" font-family=\"Helvetica,sans-Serif\" font-size=\"14.00\" fill=\"#000000\">samples = 3381</text>\n<text text-anchor=\"start\" x=\"199\" y=\"-200.8\" font-family=\"Helvetica,sans-Serif\" font-size=\"14.00\" fill=\"#000000\">value = 84178.173</text>\n</g>\n<!-- 7&#45;&gt;8 -->\n<g id=\"edge8\" class=\"edge\">\n<title>7&#45;&gt;8</title>\n<path fill=\"none\" stroke=\"#000000\" d=\"M320.0306,-296.9465C312.2607,-287.968 303.7868,-278.1758 295.7064,-268.8385\"/>\n<polygon fill=\"#000000\" stroke=\"#000000\" points=\"298.226,-266.4014 289.0356,-261.13 292.9328,-270.982 298.226,-266.4014\"/>\n</g>\n<!-- 13 -->\n<g id=\"node14\" class=\"node\">\n<title>13</title>\n<path fill=\"#eda977\" stroke=\"#000000\" d=\"M510,-253.5C510,-253.5 371,-253.5 371,-253.5 365,-253.5 359,-247.5 359,-241.5 359,-241.5 359,-212.5 359,-212.5 359,-206.5 365,-200.5 371,-200.5 371,-200.5 510,-200.5 510,-200.5 516,-200.5 522,-206.5 522,-212.5 522,-212.5 522,-241.5 522,-241.5 522,-247.5 516,-253.5 510,-253.5\"/>\n<text text-anchor=\"start\" x=\"367\" y=\"-238.3\" font-family=\"Helvetica,sans-Serif\" font-size=\"14.00\" fill=\"#000000\">mse = 581218929.586</text>\n<text text-anchor=\"start\" x=\"392.5\" y=\"-223.3\" font-family=\"Helvetica,sans-Serif\" font-size=\"14.00\" fill=\"#000000\">samples = 423</text>\n<text text-anchor=\"start\" x=\"384\" y=\"-208.3\" font-family=\"Helvetica,sans-Serif\" font-size=\"14.00\" fill=\"#000000\">value = 73151.66</text>\n</g>\n<!-- 7&#45;&gt;13 -->\n<g id=\"edge13\" class=\"edge\">\n<title>7&#45;&gt;13</title>\n<path fill=\"none\" stroke=\"#000000\" d=\"M379.2968,-296.9465C389.3204,-285.491 400.5028,-272.711 410.539,-261.2412\"/>\n<polygon fill=\"#000000\" stroke=\"#000000\" points=\"413.3246,-263.3727 417.2756,-253.5422 408.0565,-258.7632 413.3246,-263.3727\"/>\n</g>\n<!-- 9 -->\n<g id=\"node10\" class=\"node\">\n<title>9</title>\n<path fill=\"#e9965a\" stroke=\"#000000\" d=\"M239,-157C239,-157 100,-157 100,-157 94,-157 88,-151 88,-145 88,-145 88,-101 88,-101 88,-95 94,-89 100,-89 100,-89 239,-89 239,-89 245,-89 251,-95 251,-101 251,-101 251,-145 251,-145 251,-151 245,-157 239,-157\"/>\n<text text-anchor=\"start\" x=\"109\" y=\"-141.8\" font-family=\"Helvetica,sans-Serif\" font-size=\"14.00\" fill=\"#000000\">CITY CLERK ≤ 0.5</text>\n<text text-anchor=\"start\" x=\"96\" y=\"-126.8\" font-family=\"Helvetica,sans-Serif\" font-size=\"14.00\" fill=\"#000000\">mse = 521750175.038</text>\n<text text-anchor=\"start\" x=\"117.5\" y=\"-111.8\" font-family=\"Helvetica,sans-Serif\" font-size=\"14.00\" fill=\"#000000\">samples = 2938</text>\n<text text-anchor=\"start\" x=\"109\" y=\"-96.8\" font-family=\"Helvetica,sans-Serif\" font-size=\"14.00\" fill=\"#000000\">value = 85378.732</text>\n</g>\n<!-- 8&#45;&gt;9 -->\n<g id=\"edge9\" class=\"edge\">\n<title>8&#45;&gt;9</title>\n<path fill=\"none\" stroke=\"#000000\" d=\"M230.0306,-192.9465C222.2607,-183.968 213.7868,-174.1758 205.7064,-164.8385\"/>\n<polygon fill=\"#000000\" stroke=\"#000000\" points=\"208.226,-162.4014 199.0356,-157.13 202.9328,-166.982 208.226,-162.4014\"/>\n</g>\n<!-- 12 -->\n<g id=\"node13\" class=\"node\">\n<title>12</title>\n<path fill=\"#eca470\" stroke=\"#000000\" d=\"M420,-149.5C420,-149.5 281,-149.5 281,-149.5 275,-149.5 269,-143.5 269,-137.5 269,-137.5 269,-108.5 269,-108.5 269,-102.5 275,-96.5 281,-96.5 281,-96.5 420,-96.5 420,-96.5 426,-96.5 432,-102.5 432,-108.5 432,-108.5 432,-137.5 432,-137.5 432,-143.5 426,-149.5 420,-149.5\"/>\n<text text-anchor=\"start\" x=\"277\" y=\"-134.3\" font-family=\"Helvetica,sans-Serif\" font-size=\"14.00\" fill=\"#000000\">mse = 541107365.613</text>\n<text text-anchor=\"start\" x=\"302.5\" y=\"-119.3\" font-family=\"Helvetica,sans-Serif\" font-size=\"14.00\" fill=\"#000000\">samples = 443</text>\n<text text-anchor=\"start\" x=\"290\" y=\"-104.3\" font-family=\"Helvetica,sans-Serif\" font-size=\"14.00\" fill=\"#000000\">value = 76215.997</text>\n</g>\n<!-- 8&#45;&gt;12 -->\n<g id=\"edge12\" class=\"edge\">\n<title>8&#45;&gt;12</title>\n<path fill=\"none\" stroke=\"#000000\" d=\"M289.2968,-192.9465C299.3204,-181.491 310.5028,-168.711 320.539,-157.2412\"/>\n<polygon fill=\"#000000\" stroke=\"#000000\" points=\"323.3246,-159.3727 327.2756,-149.5422 318.0565,-154.7632 323.3246,-159.3727\"/>\n</g>\n<!-- 10 -->\n<g id=\"node11\" class=\"node\">\n<title>10</title>\n<path fill=\"#e99559\" stroke=\"#000000\" d=\"M151,-53C151,-53 12,-53 12,-53 6,-53 0,-47 0,-41 0,-41 0,-12 0,-12 0,-6 6,0 12,0 12,0 151,0 151,0 157,0 163,-6 163,-12 163,-12 163,-41 163,-41 163,-47 157,-53 151,-53\"/>\n<text text-anchor=\"start\" x=\"8\" y=\"-37.8\" font-family=\"Helvetica,sans-Serif\" font-size=\"14.00\" fill=\"#000000\">mse = 518990958.816</text>\n<text text-anchor=\"start\" x=\"29.5\" y=\"-22.8\" font-family=\"Helvetica,sans-Serif\" font-size=\"14.00\" fill=\"#000000\">samples = 2871</text>\n<text text-anchor=\"start\" x=\"21\" y=\"-7.8\" font-family=\"Helvetica,sans-Serif\" font-size=\"14.00\" fill=\"#000000\">value = 85768.153</text>\n</g>\n<!-- 9&#45;&gt;10 -->\n<g id=\"edge10\" class=\"edge\">\n<title>9&#45;&gt;10</title>\n<path fill=\"none\" stroke=\"#000000\" d=\"M138.4745,-88.9777C130.1241,-79.8207 121.089,-69.9129 112.7276,-60.744\"/>\n<polygon fill=\"#000000\" stroke=\"#000000\" points=\"115.2167,-58.2791 105.8924,-53.2485 110.0444,-62.9959 115.2167,-58.2791\"/>\n</g>\n<!-- 11 -->\n<g id=\"node12\" class=\"node\">\n<title>11</title>\n<path fill=\"#efaf82\" stroke=\"#000000\" d=\"M324,-53C324,-53 193,-53 193,-53 187,-53 181,-47 181,-41 181,-41 181,-12 181,-12 181,-6 187,0 193,0 193,0 324,0 324,0 330,0 336,-6 336,-12 336,-12 336,-41 336,-41 336,-47 330,-53 324,-53\"/>\n<text text-anchor=\"start\" x=\"189\" y=\"-37.8\" font-family=\"Helvetica,sans-Serif\" font-size=\"14.00\" fill=\"#000000\">mse = 355031390.51</text>\n<text text-anchor=\"start\" x=\"214.5\" y=\"-22.8\" font-family=\"Helvetica,sans-Serif\" font-size=\"14.00\" fill=\"#000000\">samples = 67</text>\n<text text-anchor=\"start\" x=\"198\" y=\"-7.8\" font-family=\"Helvetica,sans-Serif\" font-size=\"14.00\" fill=\"#000000\">value = 68691.761</text>\n</g>\n<!-- 9&#45;&gt;11 -->\n<g id=\"edge11\" class=\"edge\">\n<title>9&#45;&gt;11</title>\n<path fill=\"none\" stroke=\"#000000\" d=\"M200.8781,-88.9777C209.3234,-79.8207 218.4611,-69.9129 226.9175,-60.744\"/>\n<polygon fill=\"#000000\" stroke=\"#000000\" points=\"229.6236,-62.9723 233.8304,-53.2485 224.4779,-58.2266 229.6236,-62.9723\"/>\n</g>\n<!-- 18 -->\n<g id=\"node19\" class=\"node\">\n<title>18</title>\n<path fill=\"#f0b68c\" stroke=\"#000000\" d=\"M982,-565.5C982,-565.5 843,-565.5 843,-565.5 837,-565.5 831,-559.5 831,-553.5 831,-553.5 831,-524.5 831,-524.5 831,-518.5 837,-512.5 843,-512.5 843,-512.5 982,-512.5 982,-512.5 988,-512.5 994,-518.5 994,-524.5 994,-524.5 994,-553.5 994,-553.5 994,-559.5 988,-565.5 982,-565.5\"/>\n<text text-anchor=\"start\" x=\"839\" y=\"-550.3\" font-family=\"Helvetica,sans-Serif\" font-size=\"14.00\" fill=\"#000000\">mse = 773227943.375</text>\n<text text-anchor=\"start\" x=\"864.5\" y=\"-535.3\" font-family=\"Helvetica,sans-Serif\" font-size=\"14.00\" fill=\"#000000\">samples = 285</text>\n<text text-anchor=\"start\" x=\"852\" y=\"-520.3\" font-family=\"Helvetica,sans-Serif\" font-size=\"14.00\" fill=\"#000000\">value = 64737.252</text>\n</g>\n<!-- 17&#45;&gt;18 -->\n<g id=\"edge18\" class=\"edge\">\n<title>17&#45;&gt;18</title>\n<path fill=\"none\" stroke=\"#000000\" d=\"M913.1726,-608.9465C913.0698,-598.2621 912.956,-586.4254 912.8517,-575.5742\"/>\n<polygon fill=\"#000000\" stroke=\"#000000\" points=\"916.3513,-575.508 912.7552,-565.5422 909.3516,-575.5754 916.3513,-575.508\"/>\n</g>\n<!-- 19 -->\n<g id=\"node20\" class=\"node\">\n<title>19</title>\n<path fill=\"#ffffff\" stroke=\"#000000\" d=\"M1130.5,-565.5C1130.5,-565.5 1024.5,-565.5 1024.5,-565.5 1018.5,-565.5 1012.5,-559.5 1012.5,-553.5 1012.5,-553.5 1012.5,-524.5 1012.5,-524.5 1012.5,-518.5 1018.5,-512.5 1024.5,-512.5 1024.5,-512.5 1130.5,-512.5 1130.5,-512.5 1136.5,-512.5 1142.5,-518.5 1142.5,-524.5 1142.5,-524.5 1142.5,-553.5 1142.5,-553.5 1142.5,-559.5 1136.5,-565.5 1130.5,-565.5\"/>\n<text text-anchor=\"start\" x=\"1020.5\" y=\"-550.3\" font-family=\"Helvetica,sans-Serif\" font-size=\"14.00\" fill=\"#000000\">mse = 7650056.0</text>\n<text text-anchor=\"start\" x=\"1038\" y=\"-535.3\" font-family=\"Helvetica,sans-Serif\" font-size=\"14.00\" fill=\"#000000\">samples = 3</text>\n<text text-anchor=\"start\" x=\"1025\" y=\"-520.3\" font-family=\"Helvetica,sans-Serif\" font-size=\"14.00\" fill=\"#000000\">value = 16910.0</text>\n</g>\n<!-- 17&#45;&gt;19 -->\n<g id=\"edge19\" class=\"edge\">\n<title>17&#45;&gt;19</title>\n<path fill=\"none\" stroke=\"#000000\" d=\"M967.1997,-608.9465C986.4801,-596.72 1008.1396,-582.9847 1027.1272,-570.9437\"/>\n<polygon fill=\"#000000\" stroke=\"#000000\" points=\"1029.0744,-573.8534 1035.645,-565.5422 1025.3255,-567.9418 1029.0744,-573.8534\"/>\n</g>\n<!-- 23 -->\n<g id=\"node24\" class=\"node\">\n<title>23</title>\n<path fill=\"#f3c2a0\" stroke=\"#000000\" d=\"M1308,-877.5C1308,-877.5 1211,-877.5 1211,-877.5 1205,-877.5 1199,-871.5 1199,-865.5 1199,-865.5 1199,-836.5 1199,-836.5 1199,-830.5 1205,-824.5 1211,-824.5 1211,-824.5 1308,-824.5 1308,-824.5 1314,-824.5 1320,-830.5 1320,-836.5 1320,-836.5 1320,-865.5 1320,-865.5 1320,-871.5 1314,-877.5 1308,-877.5\"/>\n<text text-anchor=\"start\" x=\"1227.5\" y=\"-862.3\" font-family=\"Helvetica,sans-Serif\" font-size=\"14.00\" fill=\"#000000\">mse = 0.0</text>\n<text text-anchor=\"start\" x=\"1220\" y=\"-847.3\" font-family=\"Helvetica,sans-Serif\" font-size=\"14.00\" fill=\"#000000\">samples = 1</text>\n<text text-anchor=\"start\" x=\"1207\" y=\"-832.3\" font-family=\"Helvetica,sans-Serif\" font-size=\"14.00\" fill=\"#000000\">value = 56304.0</text>\n</g>\n<!-- 22&#45;&gt;23 -->\n<g id=\"edge23\" class=\"edge\">\n<title>22&#45;&gt;23</title>\n<path fill=\"none\" stroke=\"#000000\" d=\"M1262.1903,-920.9465C1261.7793,-910.2621 1261.3241,-898.4254 1260.9067,-887.5742\"/>\n<polygon fill=\"#000000\" stroke=\"#000000\" points=\"1264.4027,-887.4002 1260.5209,-877.5422 1257.4079,-887.6693 1264.4027,-887.4002\"/>\n</g>\n<!-- 24 -->\n<g id=\"node25\" class=\"node\">\n<title>24</title>\n<path fill=\"#e5833c\" stroke=\"#000000\" d=\"M1489,-877.5C1489,-877.5 1350,-877.5 1350,-877.5 1344,-877.5 1338,-871.5 1338,-865.5 1338,-865.5 1338,-836.5 1338,-836.5 1338,-830.5 1344,-824.5 1350,-824.5 1350,-824.5 1489,-824.5 1489,-824.5 1495,-824.5 1501,-830.5 1501,-836.5 1501,-836.5 1501,-865.5 1501,-865.5 1501,-871.5 1495,-877.5 1489,-877.5\"/>\n<text text-anchor=\"start\" x=\"1346\" y=\"-862.3\" font-family=\"Helvetica,sans-Serif\" font-size=\"14.00\" fill=\"#000000\">mse = 404840383.479</text>\n<text text-anchor=\"start\" x=\"1367.5\" y=\"-847.3\" font-family=\"Helvetica,sans-Serif\" font-size=\"14.00\" fill=\"#000000\">samples = 3853</text>\n<text text-anchor=\"start\" x=\"1359\" y=\"-832.3\" font-family=\"Helvetica,sans-Serif\" font-size=\"14.00\" fill=\"#000000\">value = 97557.218</text>\n</g>\n<!-- 22&#45;&gt;24 -->\n<g id=\"edge24\" class=\"edge\">\n<title>22&#45;&gt;24</title>\n<path fill=\"none\" stroke=\"#000000\" d=\"M1314.5802,-920.9465C1332.7548,-908.8301 1353.152,-895.232 1371.0956,-883.2696\"/>\n<polygon fill=\"#000000\" stroke=\"#000000\" points=\"1373.3077,-886.0014 1379.6868,-877.5422 1369.4248,-880.177 1373.3077,-886.0014\"/>\n</g>\n</g>\n</svg>\n"
          },
          "metadata": {
            "tags": []
          },
          "execution_count": 68
        }
      ]
    },
    {
      "cell_type": "code",
      "metadata": {
        "id": "npHfdCGX_4ZL",
        "outputId": "70535327-2982-4789-8a61-878f4b4ebbc4",
        "colab": {
          "base_uri": "https://localhost:8080/",
          "height": 295
        }
      },
      "source": [
        "y_preds = decision_tree.predict(X_test)\n",
        "\n",
        "plt.scatter(y_test, y_preds)\n",
        "plt.scatter(y_test, y_test, color='red')\n",
        "plt.xlabel('True Values')\n",
        "plt.ylabel('Predicted Values')\n",
        "plt.title('True vs Predicted Price Values')\n",
        "plt.show()"
      ],
      "execution_count": 69,
      "outputs": [
        {
          "output_type": "display_data",
          "data": {
            "image/png": "[encoded data removed]",
            "text/plain": [
              "<Figure size 432x288 with 1 Axes>"
            ]
          },
          "metadata": {
            "tags": [],
            "needs_background": "light"
          }
        }
      ]
    },
    {
      "cell_type": "code",
      "metadata": {
        "id": "GaHQAwUV_4Vf"
      },
      "source": [
        ""
      ],
      "execution_count": null,
      "outputs": []
    }
  ]
}