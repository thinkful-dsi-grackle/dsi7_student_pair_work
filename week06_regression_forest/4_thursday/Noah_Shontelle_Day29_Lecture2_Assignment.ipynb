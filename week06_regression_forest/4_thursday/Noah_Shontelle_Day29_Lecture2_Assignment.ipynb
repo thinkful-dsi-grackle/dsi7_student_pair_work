{
  "nbformat": 4,
  "nbformat_minor": 0,
  "metadata": {
    "kernelspec": {
      "display_name": "Python 3",
      "language": "python",
      "name": "python3"
    },
    "language_info": {
      "codemirror_mode": {
        "name": "ipython",
        "version": 3
      },
      "file_extension": ".py",
      "mimetype": "text/x-python",
      "name": "python",
      "nbconvert_exporter": "python",
      "pygments_lexer": "ipython3",
      "version": "3.7.0"
    },
    "colab": {
      "name": "Noah_Shontelle_Day29_Lecture2_Assignment",
      "provenance": [],
      "collapsed_sections": []
    }
  },
  "cells": [
    {
      "cell_type": "markdown",
      "metadata": {
        "id": "YRVfAWX8cTwI"
      },
      "source": [
        "## Day 29 Lecture 2 Assignment\n",
        "\n",
        "In this assignment, we will learn about entropy and information gain in the ID3 algorithm."
      ]
    },
    {
      "cell_type": "code",
      "metadata": {
        "id": "KufburMWcTwI"
      },
      "source": [
        "import numpy as np\n",
        "import pandas as pd"
      ],
      "execution_count": null,
      "outputs": []
    },
    {
      "cell_type": "code",
      "metadata": {
        "id": "8MiCqim1cTwK"
      },
      "source": [
        "tennis = pd.read_csv('https://tf-assets-prod.s3.amazonaws.com/tf-curric/data-science/tennis_decision.csv')"
      ],
      "execution_count": null,
      "outputs": []
    },
    {
      "cell_type": "code",
      "metadata": {
        "id": "Ugm_tVeDcTwM",
        "outputId": "188734f4-16f8-4b80-f004-e09625c7df70",
        "colab": {
          "base_uri": "https://localhost:8080/",
          "height": 483
        }
      },
      "source": [
        "tennis"
      ],
      "execution_count": null,
      "outputs": [
        {
          "output_type": "execute_result",
          "data": {
            "text/html": [
              "<div>\n",
              "<style scoped>\n",
              "    .dataframe tbody tr th:only-of-type {\n",
              "        vertical-align: middle;\n",
              "    }\n",
              "\n",
              "    .dataframe tbody tr th {\n",
              "        vertical-align: top;\n",
              "    }\n",
              "\n",
              "    .dataframe thead th {\n",
              "        text-align: right;\n",
              "    }\n",
              "</style>\n",
              "<table border=\"1\" class=\"dataframe\">\n",
              "  <thead>\n",
              "    <tr style=\"text-align: right;\">\n",
              "      <th></th>\n",
              "      <th>Day</th>\n",
              "      <th>Outlook</th>\n",
              "      <th>Temp.</th>\n",
              "      <th>Humidity</th>\n",
              "      <th>Wind</th>\n",
              "      <th>Decision</th>\n",
              "    </tr>\n",
              "  </thead>\n",
              "  <tbody>\n",
              "    <tr>\n",
              "      <th>0</th>\n",
              "      <td>1</td>\n",
              "      <td>Sunny</td>\n",
              "      <td>Hot</td>\n",
              "      <td>High</td>\n",
              "      <td>Weak</td>\n",
              "      <td>No</td>\n",
              "    </tr>\n",
              "    <tr>\n",
              "      <th>1</th>\n",
              "      <td>2</td>\n",
              "      <td>Sunny</td>\n",
              "      <td>Hot</td>\n",
              "      <td>High</td>\n",
              "      <td>Strong</td>\n",
              "      <td>No</td>\n",
              "    </tr>\n",
              "    <tr>\n",
              "      <th>2</th>\n",
              "      <td>3</td>\n",
              "      <td>Overcast</td>\n",
              "      <td>Hot</td>\n",
              "      <td>High</td>\n",
              "      <td>Weak</td>\n",
              "      <td>Yes</td>\n",
              "    </tr>\n",
              "    <tr>\n",
              "      <th>3</th>\n",
              "      <td>4</td>\n",
              "      <td>Rain</td>\n",
              "      <td>Mild</td>\n",
              "      <td>High</td>\n",
              "      <td>Weak</td>\n",
              "      <td>Yes</td>\n",
              "    </tr>\n",
              "    <tr>\n",
              "      <th>4</th>\n",
              "      <td>5</td>\n",
              "      <td>Rain</td>\n",
              "      <td>Cool</td>\n",
              "      <td>Normal</td>\n",
              "      <td>Weak</td>\n",
              "      <td>Yes</td>\n",
              "    </tr>\n",
              "    <tr>\n",
              "      <th>5</th>\n",
              "      <td>6</td>\n",
              "      <td>Rain</td>\n",
              "      <td>Cool</td>\n",
              "      <td>Normal</td>\n",
              "      <td>Strong</td>\n",
              "      <td>No</td>\n",
              "    </tr>\n",
              "    <tr>\n",
              "      <th>6</th>\n",
              "      <td>7</td>\n",
              "      <td>Overcast</td>\n",
              "      <td>Cool</td>\n",
              "      <td>Normal</td>\n",
              "      <td>Strong</td>\n",
              "      <td>Yes</td>\n",
              "    </tr>\n",
              "    <tr>\n",
              "      <th>7</th>\n",
              "      <td>8</td>\n",
              "      <td>Sunny</td>\n",
              "      <td>Mild</td>\n",
              "      <td>High</td>\n",
              "      <td>Weak</td>\n",
              "      <td>No</td>\n",
              "    </tr>\n",
              "    <tr>\n",
              "      <th>8</th>\n",
              "      <td>9</td>\n",
              "      <td>Sunny</td>\n",
              "      <td>Cool</td>\n",
              "      <td>Normal</td>\n",
              "      <td>Weak</td>\n",
              "      <td>Yes</td>\n",
              "    </tr>\n",
              "    <tr>\n",
              "      <th>9</th>\n",
              "      <td>10</td>\n",
              "      <td>Rain</td>\n",
              "      <td>Mild</td>\n",
              "      <td>Normal</td>\n",
              "      <td>Weak</td>\n",
              "      <td>Yes</td>\n",
              "    </tr>\n",
              "    <tr>\n",
              "      <th>10</th>\n",
              "      <td>11</td>\n",
              "      <td>Sunny</td>\n",
              "      <td>Mild</td>\n",
              "      <td>Normal</td>\n",
              "      <td>Strong</td>\n",
              "      <td>Yes</td>\n",
              "    </tr>\n",
              "    <tr>\n",
              "      <th>11</th>\n",
              "      <td>12</td>\n",
              "      <td>Overcast</td>\n",
              "      <td>Mild</td>\n",
              "      <td>High</td>\n",
              "      <td>Strong</td>\n",
              "      <td>Yes</td>\n",
              "    </tr>\n",
              "    <tr>\n",
              "      <th>12</th>\n",
              "      <td>13</td>\n",
              "      <td>Overcast</td>\n",
              "      <td>Hot</td>\n",
              "      <td>Normal</td>\n",
              "      <td>Weak</td>\n",
              "      <td>Yes</td>\n",
              "    </tr>\n",
              "    <tr>\n",
              "      <th>13</th>\n",
              "      <td>14</td>\n",
              "      <td>Rain</td>\n",
              "      <td>Mild</td>\n",
              "      <td>High</td>\n",
              "      <td>Strong</td>\n",
              "      <td>No</td>\n",
              "    </tr>\n",
              "  </tbody>\n",
              "</table>\n",
              "</div>"
            ],
            "text/plain": [
              "    Day   Outlook Temp. Humidity    Wind Decision\n",
              "0     1     Sunny   Hot     High    Weak       No\n",
              "1     2     Sunny   Hot     High  Strong       No\n",
              "2     3  Overcast   Hot     High    Weak      Yes\n",
              "3     4      Rain  Mild     High    Weak      Yes\n",
              "4     5      Rain  Cool   Normal    Weak      Yes\n",
              "5     6      Rain  Cool   Normal  Strong       No\n",
              "6     7  Overcast  Cool   Normal  Strong      Yes\n",
              "7     8     Sunny  Mild     High    Weak       No\n",
              "8     9     Sunny  Cool   Normal    Weak      Yes\n",
              "9    10      Rain  Mild   Normal    Weak      Yes\n",
              "10   11     Sunny  Mild   Normal  Strong      Yes\n",
              "11   12  Overcast  Mild     High  Strong      Yes\n",
              "12   13  Overcast   Hot   Normal    Weak      Yes\n",
              "13   14      Rain  Mild     High  Strong       No"
            ]
          },
          "metadata": {
            "tags": []
          },
          "execution_count": 3
        }
      ]
    },
    {
      "cell_type": "code",
      "metadata": {
        "id": "rFrzyETfQv64",
        "outputId": "3a4e5405-2865-4c20-ed57-cdf30c999aec",
        "colab": {
          "base_uri": "https://localhost:8080/",
          "height": 483
        }
      },
      "source": [
        "tennis = tennis.drop('Day',axis = 1)\n",
        "decision = pd.get_dummies(tennis['Decision'],drop_first=True)\n",
        "tennis = pd.concat([tennis.drop('Decision',axis = 1), decision], axis = 1)\n",
        "tennis"
      ],
      "execution_count": null,
      "outputs": [
        {
          "output_type": "execute_result",
          "data": {
            "text/html": [
              "<div>\n",
              "<style scoped>\n",
              "    .dataframe tbody tr th:only-of-type {\n",
              "        vertical-align: middle;\n",
              "    }\n",
              "\n",
              "    .dataframe tbody tr th {\n",
              "        vertical-align: top;\n",
              "    }\n",
              "\n",
              "    .dataframe thead th {\n",
              "        text-align: right;\n",
              "    }\n",
              "</style>\n",
              "<table border=\"1\" class=\"dataframe\">\n",
              "  <thead>\n",
              "    <tr style=\"text-align: right;\">\n",
              "      <th></th>\n",
              "      <th>Outlook</th>\n",
              "      <th>Temp.</th>\n",
              "      <th>Humidity</th>\n",
              "      <th>Wind</th>\n",
              "      <th>Yes</th>\n",
              "    </tr>\n",
              "  </thead>\n",
              "  <tbody>\n",
              "    <tr>\n",
              "      <th>0</th>\n",
              "      <td>Sunny</td>\n",
              "      <td>Hot</td>\n",
              "      <td>High</td>\n",
              "      <td>Weak</td>\n",
              "      <td>0</td>\n",
              "    </tr>\n",
              "    <tr>\n",
              "      <th>1</th>\n",
              "      <td>Sunny</td>\n",
              "      <td>Hot</td>\n",
              "      <td>High</td>\n",
              "      <td>Strong</td>\n",
              "      <td>0</td>\n",
              "    </tr>\n",
              "    <tr>\n",
              "      <th>2</th>\n",
              "      <td>Overcast</td>\n",
              "      <td>Hot</td>\n",
              "      <td>High</td>\n",
              "      <td>Weak</td>\n",
              "      <td>1</td>\n",
              "    </tr>\n",
              "    <tr>\n",
              "      <th>3</th>\n",
              "      <td>Rain</td>\n",
              "      <td>Mild</td>\n",
              "      <td>High</td>\n",
              "      <td>Weak</td>\n",
              "      <td>1</td>\n",
              "    </tr>\n",
              "    <tr>\n",
              "      <th>4</th>\n",
              "      <td>Rain</td>\n",
              "      <td>Cool</td>\n",
              "      <td>Normal</td>\n",
              "      <td>Weak</td>\n",
              "      <td>1</td>\n",
              "    </tr>\n",
              "    <tr>\n",
              "      <th>5</th>\n",
              "      <td>Rain</td>\n",
              "      <td>Cool</td>\n",
              "      <td>Normal</td>\n",
              "      <td>Strong</td>\n",
              "      <td>0</td>\n",
              "    </tr>\n",
              "    <tr>\n",
              "      <th>6</th>\n",
              "      <td>Overcast</td>\n",
              "      <td>Cool</td>\n",
              "      <td>Normal</td>\n",
              "      <td>Strong</td>\n",
              "      <td>1</td>\n",
              "    </tr>\n",
              "    <tr>\n",
              "      <th>7</th>\n",
              "      <td>Sunny</td>\n",
              "      <td>Mild</td>\n",
              "      <td>High</td>\n",
              "      <td>Weak</td>\n",
              "      <td>0</td>\n",
              "    </tr>\n",
              "    <tr>\n",
              "      <th>8</th>\n",
              "      <td>Sunny</td>\n",
              "      <td>Cool</td>\n",
              "      <td>Normal</td>\n",
              "      <td>Weak</td>\n",
              "      <td>1</td>\n",
              "    </tr>\n",
              "    <tr>\n",
              "      <th>9</th>\n",
              "      <td>Rain</td>\n",
              "      <td>Mild</td>\n",
              "      <td>Normal</td>\n",
              "      <td>Weak</td>\n",
              "      <td>1</td>\n",
              "    </tr>\n",
              "    <tr>\n",
              "      <th>10</th>\n",
              "      <td>Sunny</td>\n",
              "      <td>Mild</td>\n",
              "      <td>Normal</td>\n",
              "      <td>Strong</td>\n",
              "      <td>1</td>\n",
              "    </tr>\n",
              "    <tr>\n",
              "      <th>11</th>\n",
              "      <td>Overcast</td>\n",
              "      <td>Mild</td>\n",
              "      <td>High</td>\n",
              "      <td>Strong</td>\n",
              "      <td>1</td>\n",
              "    </tr>\n",
              "    <tr>\n",
              "      <th>12</th>\n",
              "      <td>Overcast</td>\n",
              "      <td>Hot</td>\n",
              "      <td>Normal</td>\n",
              "      <td>Weak</td>\n",
              "      <td>1</td>\n",
              "    </tr>\n",
              "    <tr>\n",
              "      <th>13</th>\n",
              "      <td>Rain</td>\n",
              "      <td>Mild</td>\n",
              "      <td>High</td>\n",
              "      <td>Strong</td>\n",
              "      <td>0</td>\n",
              "    </tr>\n",
              "  </tbody>\n",
              "</table>\n",
              "</div>"
            ],
            "text/plain": [
              "     Outlook Temp. Humidity    Wind  Yes\n",
              "0      Sunny   Hot     High    Weak    0\n",
              "1      Sunny   Hot     High  Strong    0\n",
              "2   Overcast   Hot     High    Weak    1\n",
              "3       Rain  Mild     High    Weak    1\n",
              "4       Rain  Cool   Normal    Weak    1\n",
              "5       Rain  Cool   Normal  Strong    0\n",
              "6   Overcast  Cool   Normal  Strong    1\n",
              "7      Sunny  Mild     High    Weak    0\n",
              "8      Sunny  Cool   Normal    Weak    1\n",
              "9       Rain  Mild   Normal    Weak    1\n",
              "10     Sunny  Mild   Normal  Strong    1\n",
              "11  Overcast  Mild     High  Strong    1\n",
              "12  Overcast   Hot   Normal    Weak    1\n",
              "13      Rain  Mild     High  Strong    0"
            ]
          },
          "metadata": {
            "tags": []
          },
          "execution_count": 22
        }
      ]
    },
    {
      "cell_type": "markdown",
      "metadata": {
        "id": "42CeoZiTcTwN"
      },
      "source": [
        "Write a function to compute entropy given an input of a sequence of probabilities."
      ]
    },
    {
      "cell_type": "code",
      "metadata": {
        "id": "6enO4x_riHIf"
      },
      "source": [
        "#Outlook probability: \n",
        "#P(S|no) = 3/5; P(S|yes) = 2/5 [P(S) = 5/14]\n",
        "#P(R|no) = 2/5 P(R|yes) = 3/5 [P(R) =5/14]\n",
        "#P(O|no) = 0/4 P(O|yes) = 4/4 [P(O) =4/14]\n",
        "\n",
        "#Temp probability: \n",
        "#[P(Hot) = 4/14]; P(Hot|no) = 2/4 P(Hot|yes) = 2/4\n",
        "#[P(Mild) = 6/14)] P(Mild|no) = 2/6 P(Mild|yes) = 4/6\n",
        "#[P(Cool) = 4/14] P(Cool|no) = 1/4 P(Cool|yes) = 3/4\n",
        "\n",
        "#Humidity probability: \n",
        "#[P(High) = 7/14]; P(High|no) = 4/7 P(High|yes) = 3/7\n",
        "#[P(N)] = 7/14] P(N|no) = 1/7 P(N|yes) = 6/7\n",
        "\n",
        "#Wind probablity:\n",
        "#[P(Weak) = 8/14] P(weak|no) = 2/8 P(weak|yes) = 6/8\n",
        "#[P(Strong) = 6/14] P(Strong|no) = 3/6 P(strong|yes) = 3/6\n",
        "\n",
        "#Decision probaility: \n",
        "#[P(No) = 5/14]\n",
        "#[P(Yes) = 9/14]\n"
      ],
      "execution_count": null,
      "outputs": []
    },
    {
      "cell_type": "code",
      "metadata": {
        "id": "JPfNGt2vcTwO"
      },
      "source": [
        "#answer below:\n",
        "\n",
        "from math import log2\n",
        "\n",
        "def entropy (df, column, types):\n",
        "  count = df[df[column] == types].groupby(['Yes'])['Yes'].count()[1]\n",
        "  sum = df[df[column] == types].groupby(['Yes'])['Yes'].count().sum()\n",
        "  weight = count / sum\n",
        "  weight2 = 1 - weight\n",
        "  first_term_yes = weight * log2(1/weight)\n",
        "  if (weight2 == 0):\n",
        "    first_term_no = 0\n",
        "  else: \n",
        "    first_term_no = weight2 * log2(1/weight2)\n",
        "  yes_weight = sum / len(df)\n",
        "  no_weight = 1 - yes_weight\n",
        "  \n",
        "  result = yes_weight * first_term_yes + first_term_no * no_weight\n",
        "\n",
        "  return result\n",
        "\n"
      ],
      "execution_count": null,
      "outputs": []
    },
    {
      "cell_type": "markdown",
      "metadata": {
        "id": "RsTiwQkVcTwQ"
      },
      "source": [
        "Aggregate the tennis decision table for each value of each column. Start with Outlook below. Compute the weighted mean of the entropy for outlook (the weighted mean of the yes decision and the no decision)."
      ]
    },
    {
      "cell_type": "code",
      "metadata": {
        "id": "go7-SO9scTwR",
        "outputId": "1cd05773-a753-4972-e252-c8c287ed1cf2",
        "colab": {
          "base_uri": "https://localhost:8080/",
          "height": 85
        }
      },
      "source": [
        "x = 0 \n",
        "while (x < len(tennis[tennis.columns[0]].unique())):\n",
        "  print('The entropy for {} {} is:'.format('Outlook', tennis[tennis.columns[0]].unique()[x]),\n",
        "        entropy(tennis,'Outlook', tennis[tennis.columns[0]].unique()[x]))\n",
        "  x = x+1\n",
        "weighted_mean_outlook = 5/14 * entropy(tennis, 'Outlook', 'Sunny') + 5/14 * entropy(tennis, 'Outlook', 'Rain')\n",
        "print('The weighted mean of the entropy for outlook is: ', weighted_mean_outlook)"
      ],
      "execution_count": null,
      "outputs": [
        {
          "output_type": "stream",
          "text": [
            "The entropy for Outlook Sunny is: 0.47310502844801705\n",
            "The entropy for Outlook Overcast is: 0.0\n",
            "The entropy for Outlook Rain is: 0.49784556600665164\n",
            "The weighted mean of the entropy for outlook is:  0.34676806944809596\n"
          ],
          "name": "stdout"
        }
      ]
    },
    {
      "cell_type": "markdown",
      "metadata": {
        "id": "z-t3UYlacTwS"
      },
      "source": [
        "Compute the weighted mean of the entropy for temperature, humidity and wind as well and decide based on these values which should be the first variable chosen for a split."
      ]
    },
    {
      "cell_type": "code",
      "metadata": {
        "id": "3oJaXDwAcTwT",
        "outputId": "2316bbac-56d4-4e8b-c23c-f9659791c684",
        "colab": {
          "base_uri": "https://localhost:8080/",
          "height": 85
        }
      },
      "source": [
        "# answer below:\n",
        "#Temp\n",
        "\n",
        "x = 0 \n",
        "while (x < len(tennis[tennis.columns[1]].unique())):\n",
        "  print('The entropy for {} {} is:'.format('Temp.', tennis[tennis.columns[1]].unique()[x]),\n",
        "        entropy(tennis, 'Temp.', tennis[tennis.columns[1]].unique()[x]))\n",
        "  x = x+1\n",
        "weighted_mean_temp = 4/14 * entropy(tennis, 'Temp.', 'Hot') + 6/14 * entropy(tennis, 'Temp.', 'Mild') + 4/14 * entropy(tennis, 'Temp.', 'Cool')\n",
        "print('The weighted mean of the entropy for temperature is: ', weighted_mean_temp)\n"
      ],
      "execution_count": null,
      "outputs": [
        {
          "output_type": "stream",
          "text": [
            "The entropy for Temp. Hot is: 0.5\n",
            "The entropy for Temp. Mild is: 0.46902976224816956\n",
            "The entropy for Temp. Cool is: 0.4460794641311808\n",
            "The weighted mean of the entropy for temperature is:  0.47132117357241\n"
          ],
          "name": "stdout"
        }
      ]
    },
    {
      "cell_type": "code",
      "metadata": {
        "id": "t8sJ83cRcTwU",
        "outputId": "69232514-fdab-4f0d-e2fe-b8c963d48293",
        "colab": {
          "base_uri": "https://localhost:8080/",
          "height": 68
        }
      },
      "source": [
        "#Humidity\n",
        "\n",
        "x = 0 \n",
        "while (x < len(tennis[tennis.columns[2]].unique())):\n",
        "  print('The entropy for {} {} is:'.format('Humidity', tennis[tennis.columns[2]].unique()[x]),\n",
        "        entropy(tennis, 'Humidity', tennis[tennis.columns[2]].unique()[x]))\n",
        "  x = x+1\n",
        "weighted_mean_humd = 7/14 * entropy(tennis, 'Humidity', 'High') + 7/14 * entropy(tennis, 'Humidity', 'Normal')\n",
        "print('The weighted mean of the entropy for Humidity is: ', weighted_mean_humd)"
      ],
      "execution_count": null,
      "outputs": [
        {
          "output_type": "stream",
          "text": [
            "The entropy for Humidity High is: 0.4926140680171257\n",
            "The entropy for Humidity Normal is: 0.29583638929116374\n",
            "The weighted mean of the entropy for Humidity is:  0.3942252286541447\n"
          ],
          "name": "stdout"
        }
      ]
    },
    {
      "cell_type": "code",
      "metadata": {
        "id": "HwfO-toTRqdM",
        "outputId": "0e99e4bb-8943-447a-8bde-555a6414110a",
        "colab": {
          "base_uri": "https://localhost:8080/",
          "height": 68
        }
      },
      "source": [
        "#Wind\n",
        "\n",
        "x = 0 \n",
        "while (x < len(tennis[tennis.columns[3]].unique())):\n",
        "  print('The entropy for {} {} is:'.format('Wind', tennis[tennis.columns[3]].unique()[x]),\n",
        "        entropy(tennis, 'Wind', tennis[tennis.columns[3]].unique()[x]))\n",
        "  x = x+1\n",
        "weighted_mean_wind = 8/14 * entropy(tennis, 'Wind', 'Weak') + 6/14 * entropy(tennis, 'Wind', 'Strong')\n",
        "print('The weighted mean of the entropy for wind is: ', weighted_mean_wind)"
      ],
      "execution_count": null,
      "outputs": [
        {
          "output_type": "stream",
          "text": [
            "The entropy for Wind Weak is: 0.3921589282623616\n",
            "The entropy for Wind Strong is: 0.5\n",
            "The weighted mean of the entropy for wind is:  0.4383765304356352\n"
          ],
          "name": "stdout"
        }
      ]
    }
  ]
}