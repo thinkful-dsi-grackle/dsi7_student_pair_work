{
 "cells": [
  {
   "cell_type": "markdown",
   "metadata": {
    "id": "YRVfAWX8cTwI"
   },
   "source": [
    "## Day 29 Lecture 2 Assignment\n",
    "\n",
    "In this assignment, we will learn about entropy and information gain in the ID3 algorithm."
   ]
  },
  {
   "cell_type": "code",
   "execution_count": 2,
   "metadata": {
    "id": "KufburMWcTwI"
   },
   "outputs": [],
   "source": [
    "import numpy as np\n",
    "import pandas as pd"
   ]
  },
  {
   "cell_type": "code",
   "execution_count": 3,
   "metadata": {
    "id": "8MiCqim1cTwK"
   },
   "outputs": [],
   "source": [
    "tennis = pd.read_csv('https://tf-assets-prod.s3.amazonaws.com/tf-curric/data-science/tennis_decision.csv')"
   ]
  },
  {
   "cell_type": "code",
   "execution_count": 4,
   "metadata": {
    "colab": {
     "base_uri": "https://localhost:8080/",
     "height": 483
    },
    "id": "Ugm_tVeDcTwM",
    "outputId": "edf6788c-9224-4038-d2e3-8f9824fb6dee"
   },
   "outputs": [
    {
     "data": {
      "text/html": [
       "<div>\n",
       "<style scoped>\n",
       "    .dataframe tbody tr th:only-of-type {\n",
       "        vertical-align: middle;\n",
       "    }\n",
       "\n",
       "    .dataframe tbody tr th {\n",
       "        vertical-align: top;\n",
       "    }\n",
       "\n",
       "    .dataframe thead th {\n",
       "        text-align: right;\n",
       "    }\n",
       "</style>\n",
       "<table border=\"1\" class=\"dataframe\">\n",
       "  <thead>\n",
       "    <tr style=\"text-align: right;\">\n",
       "      <th></th>\n",
       "      <th>Day</th>\n",
       "      <th>Outlook</th>\n",
       "      <th>Temp.</th>\n",
       "      <th>Humidity</th>\n",
       "      <th>Wind</th>\n",
       "      <th>Decision</th>\n",
       "    </tr>\n",
       "  </thead>\n",
       "  <tbody>\n",
       "    <tr>\n",
       "      <th>0</th>\n",
       "      <td>1</td>\n",
       "      <td>Sunny</td>\n",
       "      <td>Hot</td>\n",
       "      <td>High</td>\n",
       "      <td>Weak</td>\n",
       "      <td>No</td>\n",
       "    </tr>\n",
       "    <tr>\n",
       "      <th>1</th>\n",
       "      <td>2</td>\n",
       "      <td>Sunny</td>\n",
       "      <td>Hot</td>\n",
       "      <td>High</td>\n",
       "      <td>Strong</td>\n",
       "      <td>No</td>\n",
       "    </tr>\n",
       "    <tr>\n",
       "      <th>2</th>\n",
       "      <td>3</td>\n",
       "      <td>Overcast</td>\n",
       "      <td>Hot</td>\n",
       "      <td>High</td>\n",
       "      <td>Weak</td>\n",
       "      <td>Yes</td>\n",
       "    </tr>\n",
       "    <tr>\n",
       "      <th>3</th>\n",
       "      <td>4</td>\n",
       "      <td>Rain</td>\n",
       "      <td>Mild</td>\n",
       "      <td>High</td>\n",
       "      <td>Weak</td>\n",
       "      <td>Yes</td>\n",
       "    </tr>\n",
       "    <tr>\n",
       "      <th>4</th>\n",
       "      <td>5</td>\n",
       "      <td>Rain</td>\n",
       "      <td>Cool</td>\n",
       "      <td>Normal</td>\n",
       "      <td>Weak</td>\n",
       "      <td>Yes</td>\n",
       "    </tr>\n",
       "    <tr>\n",
       "      <th>5</th>\n",
       "      <td>6</td>\n",
       "      <td>Rain</td>\n",
       "      <td>Cool</td>\n",
       "      <td>Normal</td>\n",
       "      <td>Strong</td>\n",
       "      <td>No</td>\n",
       "    </tr>\n",
       "    <tr>\n",
       "      <th>6</th>\n",
       "      <td>7</td>\n",
       "      <td>Overcast</td>\n",
       "      <td>Cool</td>\n",
       "      <td>Normal</td>\n",
       "      <td>Strong</td>\n",
       "      <td>Yes</td>\n",
       "    </tr>\n",
       "    <tr>\n",
       "      <th>7</th>\n",
       "      <td>8</td>\n",
       "      <td>Sunny</td>\n",
       "      <td>Mild</td>\n",
       "      <td>High</td>\n",
       "      <td>Weak</td>\n",
       "      <td>No</td>\n",
       "    </tr>\n",
       "    <tr>\n",
       "      <th>8</th>\n",
       "      <td>9</td>\n",
       "      <td>Sunny</td>\n",
       "      <td>Cool</td>\n",
       "      <td>Normal</td>\n",
       "      <td>Weak</td>\n",
       "      <td>Yes</td>\n",
       "    </tr>\n",
       "    <tr>\n",
       "      <th>9</th>\n",
       "      <td>10</td>\n",
       "      <td>Rain</td>\n",
       "      <td>Mild</td>\n",
       "      <td>Normal</td>\n",
       "      <td>Weak</td>\n",
       "      <td>Yes</td>\n",
       "    </tr>\n",
       "    <tr>\n",
       "      <th>10</th>\n",
       "      <td>11</td>\n",
       "      <td>Sunny</td>\n",
       "      <td>Mild</td>\n",
       "      <td>Normal</td>\n",
       "      <td>Strong</td>\n",
       "      <td>Yes</td>\n",
       "    </tr>\n",
       "    <tr>\n",
       "      <th>11</th>\n",
       "      <td>12</td>\n",
       "      <td>Overcast</td>\n",
       "      <td>Mild</td>\n",
       "      <td>High</td>\n",
       "      <td>Strong</td>\n",
       "      <td>Yes</td>\n",
       "    </tr>\n",
       "    <tr>\n",
       "      <th>12</th>\n",
       "      <td>13</td>\n",
       "      <td>Overcast</td>\n",
       "      <td>Hot</td>\n",
       "      <td>Normal</td>\n",
       "      <td>Weak</td>\n",
       "      <td>Yes</td>\n",
       "    </tr>\n",
       "    <tr>\n",
       "      <th>13</th>\n",
       "      <td>14</td>\n",
       "      <td>Rain</td>\n",
       "      <td>Mild</td>\n",
       "      <td>High</td>\n",
       "      <td>Strong</td>\n",
       "      <td>No</td>\n",
       "    </tr>\n",
       "  </tbody>\n",
       "</table>\n",
       "</div>"
      ],
      "text/plain": [
       "    Day   Outlook Temp. Humidity    Wind Decision\n",
       "0     1     Sunny   Hot     High    Weak       No\n",
       "1     2     Sunny   Hot     High  Strong       No\n",
       "2     3  Overcast   Hot     High    Weak      Yes\n",
       "3     4      Rain  Mild     High    Weak      Yes\n",
       "4     5      Rain  Cool   Normal    Weak      Yes\n",
       "5     6      Rain  Cool   Normal  Strong       No\n",
       "6     7  Overcast  Cool   Normal  Strong      Yes\n",
       "7     8     Sunny  Mild     High    Weak       No\n",
       "8     9     Sunny  Cool   Normal    Weak      Yes\n",
       "9    10      Rain  Mild   Normal    Weak      Yes\n",
       "10   11     Sunny  Mild   Normal  Strong      Yes\n",
       "11   12  Overcast  Mild     High  Strong      Yes\n",
       "12   13  Overcast   Hot   Normal    Weak      Yes\n",
       "13   14      Rain  Mild     High  Strong       No"
      ]
     },
     "execution_count": 4,
     "metadata": {
      "tags": []
     },
     "output_type": "execute_result"
    }
   ],
   "source": [
    "tennis"
   ]
  },
  {
   "cell_type": "markdown",
   "metadata": {
    "id": "42CeoZiTcTwN"
   },
   "source": [
    "Write a function to compute entropy given an input of a sequence of probabilities."
   ]
  },
  {
   "cell_type": "code",
   "execution_count": 5,
   "metadata": {
    "id": "JPfNGt2vcTwO"
   },
   "outputs": [],
   "source": [
    "#answer below:\n",
    "\n",
    "from math import log2\n",
    "\n",
    "#def entropy(Atotal, Btotal, Ctotal, Total):\n",
    "# value = -((Atotal/Total)*log2(Atotal/Total))-((Btotal/Total)*log2(Btotal/Total))-((Ctotal/Total)*log2(Ctotal/Total))\n",
    "#  return value"
   ]
  },
  {
   "cell_type": "code",
   "execution_count": 6,
   "metadata": {
    "id": "N5aqYZxqlivI"
   },
   "outputs": [],
   "source": [
    "#-(A/Z) * log * (A/Z) -(B/Z) * log * (B/Z) -(C/Z) * log (C/Z)\n",
    "\n",
    "def entropy(Aprob, Bprob, Total):\n",
    "  Atotal = Aprob*Total\n",
    "  Btotal = Bprob*Total\n",
    "  #Ctotal = Cprob*Total\n",
    "  value = -((Atotal/Total)*log2(Atotal/Total))-((Btotal/Total)*log2(Btotal/Total))\n",
    "  return value"
   ]
  },
  {
   "cell_type": "code",
   "execution_count": 7,
   "metadata": {
    "colab": {
     "base_uri": "https://localhost:8080/",
     "height": 34
    },
    "id": "eltIvAaYh_US",
    "outputId": "62379445-d1f2-43f9-b309-c6f0193fdb8e"
   },
   "outputs": [
    {
     "name": "stdout",
     "output_type": "stream",
     "text": [
      "0.9886994082884974\n"
     ]
    }
   ],
   "source": [
    "print(entropy((450/800), (350/800), 800))"
   ]
  },
  {
   "cell_type": "markdown",
   "metadata": {
    "id": "RsTiwQkVcTwQ"
   },
   "source": [
    "Aggregate the tennis decision table for each value of each column. Start with Outlook below. Compute the weighted mean of the entropy for outlook (the weighted mean of the yes decision and the no decision)."
   ]
  },
  {
   "cell_type": "code",
   "execution_count": 8,
   "metadata": {
    "id": "go7-SO9scTwR"
   },
   "outputs": [],
   "source": [
    "# answer below:\n",
    "\n",
    "#ten = tennis.groupby(['Outlook','Decision']).count()\n",
    "#ten"
   ]
  },
  {
   "cell_type": "code",
   "execution_count": 9,
   "metadata": {
    "id": "DjZ2XW-pxCim"
   },
   "outputs": [],
   "source": [
    "#tennis.groupby(['Outlook', 'Decision']).agg({ 'Outlook':sum}) # Sum duration per group 'col2': \"count\", # get the count of networks 'col3': 'first' # get the first date per group }\n"
   ]
  },
  {
   "cell_type": "code",
   "execution_count": 21,
   "metadata": {
    "colab": {
     "base_uri": "https://localhost:8080/",
     "height": 173
    },
    "id": "8hVKDSN_FNCv",
    "outputId": "3331cb08-9187-409f-8d96-19ac84903377"
   },
   "outputs": [
    {
     "data": {
      "text/html": [
       "<div>\n",
       "<style scoped>\n",
       "    .dataframe tbody tr th:only-of-type {\n",
       "        vertical-align: middle;\n",
       "    }\n",
       "\n",
       "    .dataframe tbody tr th {\n",
       "        vertical-align: top;\n",
       "    }\n",
       "\n",
       "    .dataframe thead th {\n",
       "        text-align: right;\n",
       "    }\n",
       "</style>\n",
       "<table border=\"1\" class=\"dataframe\">\n",
       "  <thead>\n",
       "    <tr style=\"text-align: right;\">\n",
       "      <th>Decision</th>\n",
       "      <th>No</th>\n",
       "      <th>Yes</th>\n",
       "    </tr>\n",
       "    <tr>\n",
       "      <th>Outlook</th>\n",
       "      <th></th>\n",
       "      <th></th>\n",
       "    </tr>\n",
       "  </thead>\n",
       "  <tbody>\n",
       "    <tr>\n",
       "      <th>Overcast</th>\n",
       "      <td>0</td>\n",
       "      <td>4</td>\n",
       "    </tr>\n",
       "    <tr>\n",
       "      <th>Rain</th>\n",
       "      <td>2</td>\n",
       "      <td>3</td>\n",
       "    </tr>\n",
       "    <tr>\n",
       "      <th>Sunny</th>\n",
       "      <td>3</td>\n",
       "      <td>2</td>\n",
       "    </tr>\n",
       "  </tbody>\n",
       "</table>\n",
       "</div>"
      ],
      "text/plain": [
       "Decision  No  Yes\n",
       "Outlook          \n",
       "Overcast   0    4\n",
       "Rain       2    3\n",
       "Sunny      3    2"
      ]
     },
     "execution_count": 21,
     "metadata": {
      "tags": []
     },
     "output_type": "execute_result"
    }
   ],
   "source": [
    "groupA = pd.crosstab(tennis['Outlook'], tennis['Decision'])\n",
    "groupA"
   ]
  },
  {
   "cell_type": "code",
   "execution_count": 23,
   "metadata": {
    "colab": {
     "base_uri": "https://localhost:8080/",
     "height": 34
    },
    "id": "4fezeAr031dX",
    "outputId": "738a7c3f-87bc-4252-c2ba-3335b0d75fd6"
   },
   "outputs": [
    {
     "data": {
      "text/plain": [
       "1.330656463077906"
      ]
     },
     "execution_count": 23,
     "metadata": {
      "tags": []
     },
     "output_type": "execute_result"
    }
   ],
   "source": [
    "# Hard coding weighted average for Outlook/Decision\n",
    "\n",
    "# Can't log2(0) brings back error. Omitted 'Ovrecast/No' values. \n",
    "\n",
    "a1 = ((        0       -(2/5)*log2(2/5)-(3/5)*log2(3/5))*(5/14))\n",
    "\n",
    "a2 = ((-(4/9)*log2(4/9)-(3/9)*log2(3/9)-(2/9)*log2(2/9))*(9/14))\n",
    "\n",
    "# Weighted average of 'Outlook/Decision\"\n",
    "a1 + a2"
   ]
  },
  {
   "cell_type": "markdown",
   "metadata": {
    "id": "z-t3UYlacTwS"
   },
   "source": [
    "Compute the weighted mean of the entropy for temperature, humidity and wind as well and decide based on these values which should be the first variable chosen for a split."
   ]
  },
  {
   "cell_type": "code",
   "execution_count": 12,
   "metadata": {
    "colab": {
     "base_uri": "https://localhost:8080/",
     "height": 142
    },
    "id": "3oJaXDwAcTwT",
    "outputId": "612cd1b3-e1d0-43dd-b91a-2b8e63c74e7b"
   },
   "outputs": [
    {
     "data": {
      "text/html": [
       "<div>\n",
       "<style scoped>\n",
       "    .dataframe tbody tr th:only-of-type {\n",
       "        vertical-align: middle;\n",
       "    }\n",
       "\n",
       "    .dataframe tbody tr th {\n",
       "        vertical-align: top;\n",
       "    }\n",
       "\n",
       "    .dataframe thead th {\n",
       "        text-align: right;\n",
       "    }\n",
       "</style>\n",
       "<table border=\"1\" class=\"dataframe\">\n",
       "  <thead>\n",
       "    <tr style=\"text-align: right;\">\n",
       "      <th>Decision</th>\n",
       "      <th>No</th>\n",
       "      <th>Yes</th>\n",
       "    </tr>\n",
       "    <tr>\n",
       "      <th>Wind</th>\n",
       "      <th></th>\n",
       "      <th></th>\n",
       "    </tr>\n",
       "  </thead>\n",
       "  <tbody>\n",
       "    <tr>\n",
       "      <th>Strong</th>\n",
       "      <td>3</td>\n",
       "      <td>3</td>\n",
       "    </tr>\n",
       "    <tr>\n",
       "      <th>Weak</th>\n",
       "      <td>2</td>\n",
       "      <td>6</td>\n",
       "    </tr>\n",
       "  </tbody>\n",
       "</table>\n",
       "</div>"
      ],
      "text/plain": [
       "Decision  No  Yes\n",
       "Wind             \n",
       "Strong     3    3\n",
       "Weak       2    6"
      ]
     },
     "execution_count": 12,
     "metadata": {
      "tags": []
     },
     "output_type": "execute_result"
    }
   ],
   "source": [
    "# answer below:\n",
    "\n",
    "groupB = pd.crosstab(tennis['Wind'], tennis['Decision'])\n",
    "groupB"
   ]
  },
  {
   "cell_type": "code",
   "execution_count": 24,
   "metadata": {
    "colab": {
     "base_uri": "https://localhost:8080/",
     "height": 34
    },
    "id": "t8sJ83cRcTwU",
    "outputId": "d2382cc9-70f6-4597-dc5e-5fdbc6933069"
   },
   "outputs": [
    {
     "data": {
      "text/plain": [
       "0.9371011056259821"
      ]
     },
     "execution_count": 24,
     "metadata": {
      "tags": []
     },
     "output_type": "execute_result"
    }
   ],
   "source": [
    "# Hard coding weighted average for Wind/Decision\n",
    "\n",
    "b1 = ((-(3/5)*log2(3/5)-(2/5)*log2(2/5))*(5/14))\n",
    "\n",
    "b2 = ((-(3/9)*log2(3/9)-(6/9)*log2(6/9))*(9/14))\n",
    "\n",
    "b1 + b2"
   ]
  },
  {
   "cell_type": "code",
   "execution_count": 14,
   "metadata": {
    "colab": {
     "base_uri": "https://localhost:8080/",
     "height": 173
    },
    "id": "cLbz7KAAwDKo",
    "outputId": "a31e6186-b0a0-4721-e038-6466a2143210"
   },
   "outputs": [
    {
     "data": {
      "text/html": [
       "<div>\n",
       "<style scoped>\n",
       "    .dataframe tbody tr th:only-of-type {\n",
       "        vertical-align: middle;\n",
       "    }\n",
       "\n",
       "    .dataframe tbody tr th {\n",
       "        vertical-align: top;\n",
       "    }\n",
       "\n",
       "    .dataframe thead th {\n",
       "        text-align: right;\n",
       "    }\n",
       "</style>\n",
       "<table border=\"1\" class=\"dataframe\">\n",
       "  <thead>\n",
       "    <tr style=\"text-align: right;\">\n",
       "      <th>Decision</th>\n",
       "      <th>No</th>\n",
       "      <th>Yes</th>\n",
       "    </tr>\n",
       "    <tr>\n",
       "      <th>Temp.</th>\n",
       "      <th></th>\n",
       "      <th></th>\n",
       "    </tr>\n",
       "  </thead>\n",
       "  <tbody>\n",
       "    <tr>\n",
       "      <th>Cool</th>\n",
       "      <td>1</td>\n",
       "      <td>3</td>\n",
       "    </tr>\n",
       "    <tr>\n",
       "      <th>Hot</th>\n",
       "      <td>2</td>\n",
       "      <td>2</td>\n",
       "    </tr>\n",
       "    <tr>\n",
       "      <th>Mild</th>\n",
       "      <td>2</td>\n",
       "      <td>4</td>\n",
       "    </tr>\n",
       "  </tbody>\n",
       "</table>\n",
       "</div>"
      ],
      "text/plain": [
       "Decision  No  Yes\n",
       "Temp.            \n",
       "Cool       1    3\n",
       "Hot        2    2\n",
       "Mild       2    4"
      ]
     },
     "execution_count": 14,
     "metadata": {
      "tags": []
     },
     "output_type": "execute_result"
    }
   ],
   "source": [
    "groupC = pd.crosstab(tennis['Temp.'], tennis['Decision'])\n",
    "groupC"
   ]
  },
  {
   "cell_type": "code",
   "execution_count": 25,
   "metadata": {
    "colab": {
     "base_uri": "https://localhost:8080/",
     "height": 34
    },
    "id": "tcc0SzM2wW0N",
    "outputId": "d655bb2e-b566-40b6-d72b-07063addd170"
   },
   "outputs": [
    {
     "data": {
      "text/plain": [
       "1.5274341418038682"
      ]
     },
     "execution_count": 25,
     "metadata": {
      "tags": []
     },
     "output_type": "execute_result"
    }
   ],
   "source": [
    "# Hard coding weighted average for Temperature/Decision\n",
    "\n",
    "c1 = ((-(1/5)*log2(1/5)-(2/5)*log2(2/5)-(2/5)*log2(2/5))*(5/14))\n",
    "\n",
    "c2 = ((-(3/9)*log2(3/9)-(2/9)*log2(2/9)-(4/9)*log2(4/9))*(9/14))\n",
    "\n",
    "\n",
    "# Weighted average of 'Temp/Decision\"\n",
    "c1 + c2"
   ]
  },
  {
   "cell_type": "code",
   "execution_count": 15,
   "metadata": {
    "colab": {
     "base_uri": "https://localhost:8080/",
     "height": 142
    },
    "id": "r0kuYJn7wHgN",
    "outputId": "a2ad588b-0166-47ef-c097-e95746cba5e1"
   },
   "outputs": [
    {
     "data": {
      "text/html": [
       "<div>\n",
       "<style scoped>\n",
       "    .dataframe tbody tr th:only-of-type {\n",
       "        vertical-align: middle;\n",
       "    }\n",
       "\n",
       "    .dataframe tbody tr th {\n",
       "        vertical-align: top;\n",
       "    }\n",
       "\n",
       "    .dataframe thead th {\n",
       "        text-align: right;\n",
       "    }\n",
       "</style>\n",
       "<table border=\"1\" class=\"dataframe\">\n",
       "  <thead>\n",
       "    <tr style=\"text-align: right;\">\n",
       "      <th>Decision</th>\n",
       "      <th>No</th>\n",
       "      <th>Yes</th>\n",
       "    </tr>\n",
       "    <tr>\n",
       "      <th>Humidity</th>\n",
       "      <th></th>\n",
       "      <th></th>\n",
       "    </tr>\n",
       "  </thead>\n",
       "  <tbody>\n",
       "    <tr>\n",
       "      <th>High</th>\n",
       "      <td>4</td>\n",
       "      <td>3</td>\n",
       "    </tr>\n",
       "    <tr>\n",
       "      <th>Normal</th>\n",
       "      <td>1</td>\n",
       "      <td>6</td>\n",
       "    </tr>\n",
       "  </tbody>\n",
       "</table>\n",
       "</div>"
      ],
      "text/plain": [
       "Decision  No  Yes\n",
       "Humidity         \n",
       "High       4    3\n",
       "Normal     1    6"
      ]
     },
     "execution_count": 15,
     "metadata": {
      "tags": []
     },
     "output_type": "execute_result"
    }
   ],
   "source": [
    "groupD = pd.crosstab(tennis['Humidity'], tennis['Decision'])\n",
    "groupD"
   ]
  },
  {
   "cell_type": "code",
   "execution_count": 26,
   "metadata": {
    "colab": {
     "base_uri": "https://localhost:8080/",
     "height": 34
    },
    "id": "6L6djYQvwQi1",
    "outputId": "327c4e67-1159-44d3-a9b2-afe951eb71d0"
   },
   "outputs": [
    {
     "data": {
      "text/plain": [
       "0.8481644986376585"
      ]
     },
     "execution_count": 26,
     "metadata": {
      "tags": []
     },
     "output_type": "execute_result"
    }
   ],
   "source": [
    "# Hard coding weighted average for Humidity/Decision\n",
    "\n",
    "d1 = ((-(4/5)*log2(4/5)-(1/5)*log2(1/5))*(5/14))\n",
    "\n",
    "d2 = ((-(3/9)*log2(3/9)-(6/9)*log2(6/9))*(9/14))\n",
    "\n",
    "d1 + d2"
   ]
  },
  {
   "cell_type": "markdown",
   "metadata": {
    "id": "uYcqqP5yyTb3"
   },
   "source": [
    "Humidity should be the first split. "
   ]
  },
  {
   "cell_type": "code",
   "execution_count": null,
   "metadata": {},
   "outputs": [],
   "source": [
    "def get_weighted_entropy(overall_probs, probs):\n",
    "  '''\n",
    "  Returns the weighted entropy for a category given lists of probabilities\n",
    "\n",
    "  overall_probs - a lits of probabilities of belonging to each category\n",
    "\n",
    "  probs - a list of probabilities within each category \n",
    "  of belonging to each value of the target  \n",
    "  '''\n",
    "  weighted_entropy = 0\n",
    "  x = 0\n",
    "  for i in probs:\n",
    "    entropy = get_entropy(i)\n",
    "    weighted_entropy += (overall_probs[x] * entropy)\n",
    "    x += 1\n",
    "  return weighted_entropy"
   ]
  },
  {
   "cell_type": "code",
   "execution_count": null,
   "metadata": {},
   "outputs": [],
   "source": [
    "outlook_overall = [4/14, 5/14, 5/14]\n",
    "outlook_probs = [[4/4], [2/5, 3/5], [2/5, 3/5]]\n",
    "temp_overall = [4/14, 4/14, 6/14]\n",
    "temp_probs = [[3/4, 1/4], [2/4, 2/4], [4/6, 2/6]]\n",
    "humidity_overall = [7/14, 7/14]\n",
    "humidity_probs = [[4/7, 3/7], [6/7, 1/7]]\n",
    "wind_overall = [6/14, 8/14]\n",
    "wind_probs = [[3/6, 3/6], [6/8, 2/8]]\n",
    "\n",
    "w_e_humidity = get_weighted_entropy(humidity_overall, humidity_probs)\n",
    "w_e_temp = get_weighted_entropy(temp_overall, temp_probs)\n",
    "w_e_outlook = get_weighted_entropy(outlook_overall, outlook_probs)\n",
    "w_e_wind = get_weighted_entropy(wind_overall, wind_probs)"
   ]
  },
  {
   "cell_type": "code",
   "execution_count": null,
   "metadata": {},
   "outputs": [],
   "source": [
    "print('Humidity: ',w_e_humidity)\n",
    "print('Temp: ', w_e_temp)\n",
    "print('Outlook', w_e_outlook)\n",
    "print('Wind', w_e_wind)"
   ]
  }
 ],
 "metadata": {
  "colab": {
   "collapsed_sections": [],
   "name": "Day 29 Lecture 2 Assignment.ipynb",
   "provenance": []
  },
  "kernelspec": {
   "display_name": "Python 3",
   "language": "python",
   "name": "python3"
  },
  "language_info": {
   "codemirror_mode": {
    "name": "ipython",
    "version": 3
   },
   "file_extension": ".py",
   "mimetype": "text/x-python",
   "name": "python",
   "nbconvert_exporter": "python",
   "pygments_lexer": "ipython3",
   "version": "3.8.5"
  }
 },
 "nbformat": 4,
 "nbformat_minor": 1
}
