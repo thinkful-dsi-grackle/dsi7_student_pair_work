{
  "nbformat": 4,
  "nbformat_minor": 0,
  "metadata": {
    "kernelspec": {
      "display_name": "Python 3",
      "language": "python",
      "name": "python3"
    },
    "language_info": {
      "codemirror_mode": {
        "name": "ipython",
        "version": 3
      },
      "file_extension": ".py",
      "mimetype": "text/x-python",
      "name": "python",
      "nbconvert_exporter": "python",
      "pygments_lexer": "ipython3",
      "version": "3.7.0"
    },
    "colab": {
      "name": "Day 29 Lecture 2 Assignment_Caesar_Aaron.ipynb",
      "provenance": [],
      "collapsed_sections": []
    }
  },
  "cells": [
    {
      "cell_type": "markdown",
      "metadata": {
        "id": "YRVfAWX8cTwI"
      },
      "source": [
        "## Day 29 Lecture 2 Assignment\n",
        "\n",
        "In this assignment, we will learn about entropy and information gain in the ID3 algorithm."
      ]
    },
    {
      "cell_type": "code",
      "metadata": {
        "id": "KufburMWcTwI"
      },
      "source": [
        "import numpy as np\n",
        "import pandas as pd\n",
        "\n",
        "from math import log2"
      ],
      "execution_count": 283,
      "outputs": []
    },
    {
      "cell_type": "code",
      "metadata": {
        "id": "8MiCqim1cTwK"
      },
      "source": [
        "tennis = pd.read_csv('https://tf-assets-prod.s3.amazonaws.com/tf-curric/data-science/tennis_decision.csv')"
      ],
      "execution_count": 10,
      "outputs": []
    },
    {
      "cell_type": "code",
      "metadata": {
        "id": "Ugm_tVeDcTwM",
        "outputId": "64452284-6cf4-4bc7-82cc-4e9b5bb62158",
        "colab": {
          "base_uri": "https://localhost:8080/",
          "height": 468
        }
      },
      "source": [
        "tennis"
      ],
      "execution_count": 11,
      "outputs": [
        {
          "output_type": "execute_result",
          "data": {
            "text/html": [
              "<div>\n",
              "<style scoped>\n",
              "    .dataframe tbody tr th:only-of-type {\n",
              "        vertical-align: middle;\n",
              "    }\n",
              "\n",
              "    .dataframe tbody tr th {\n",
              "        vertical-align: top;\n",
              "    }\n",
              "\n",
              "    .dataframe thead th {\n",
              "        text-align: right;\n",
              "    }\n",
              "</style>\n",
              "<table border=\"1\" class=\"dataframe\">\n",
              "  <thead>\n",
              "    <tr style=\"text-align: right;\">\n",
              "      <th></th>\n",
              "      <th>Day</th>\n",
              "      <th>Outlook</th>\n",
              "      <th>Temp.</th>\n",
              "      <th>Humidity</th>\n",
              "      <th>Wind</th>\n",
              "      <th>Decision</th>\n",
              "    </tr>\n",
              "  </thead>\n",
              "  <tbody>\n",
              "    <tr>\n",
              "      <th>0</th>\n",
              "      <td>1</td>\n",
              "      <td>Sunny</td>\n",
              "      <td>Hot</td>\n",
              "      <td>High</td>\n",
              "      <td>Weak</td>\n",
              "      <td>No</td>\n",
              "    </tr>\n",
              "    <tr>\n",
              "      <th>1</th>\n",
              "      <td>2</td>\n",
              "      <td>Sunny</td>\n",
              "      <td>Hot</td>\n",
              "      <td>High</td>\n",
              "      <td>Strong</td>\n",
              "      <td>No</td>\n",
              "    </tr>\n",
              "    <tr>\n",
              "      <th>2</th>\n",
              "      <td>3</td>\n",
              "      <td>Overcast</td>\n",
              "      <td>Hot</td>\n",
              "      <td>High</td>\n",
              "      <td>Weak</td>\n",
              "      <td>Yes</td>\n",
              "    </tr>\n",
              "    <tr>\n",
              "      <th>3</th>\n",
              "      <td>4</td>\n",
              "      <td>Rain</td>\n",
              "      <td>Mild</td>\n",
              "      <td>High</td>\n",
              "      <td>Weak</td>\n",
              "      <td>Yes</td>\n",
              "    </tr>\n",
              "    <tr>\n",
              "      <th>4</th>\n",
              "      <td>5</td>\n",
              "      <td>Rain</td>\n",
              "      <td>Cool</td>\n",
              "      <td>Normal</td>\n",
              "      <td>Weak</td>\n",
              "      <td>Yes</td>\n",
              "    </tr>\n",
              "    <tr>\n",
              "      <th>5</th>\n",
              "      <td>6</td>\n",
              "      <td>Rain</td>\n",
              "      <td>Cool</td>\n",
              "      <td>Normal</td>\n",
              "      <td>Strong</td>\n",
              "      <td>No</td>\n",
              "    </tr>\n",
              "    <tr>\n",
              "      <th>6</th>\n",
              "      <td>7</td>\n",
              "      <td>Overcast</td>\n",
              "      <td>Cool</td>\n",
              "      <td>Normal</td>\n",
              "      <td>Strong</td>\n",
              "      <td>Yes</td>\n",
              "    </tr>\n",
              "    <tr>\n",
              "      <th>7</th>\n",
              "      <td>8</td>\n",
              "      <td>Sunny</td>\n",
              "      <td>Mild</td>\n",
              "      <td>High</td>\n",
              "      <td>Weak</td>\n",
              "      <td>No</td>\n",
              "    </tr>\n",
              "    <tr>\n",
              "      <th>8</th>\n",
              "      <td>9</td>\n",
              "      <td>Sunny</td>\n",
              "      <td>Cool</td>\n",
              "      <td>Normal</td>\n",
              "      <td>Weak</td>\n",
              "      <td>Yes</td>\n",
              "    </tr>\n",
              "    <tr>\n",
              "      <th>9</th>\n",
              "      <td>10</td>\n",
              "      <td>Rain</td>\n",
              "      <td>Mild</td>\n",
              "      <td>Normal</td>\n",
              "      <td>Weak</td>\n",
              "      <td>Yes</td>\n",
              "    </tr>\n",
              "    <tr>\n",
              "      <th>10</th>\n",
              "      <td>11</td>\n",
              "      <td>Sunny</td>\n",
              "      <td>Mild</td>\n",
              "      <td>Normal</td>\n",
              "      <td>Strong</td>\n",
              "      <td>Yes</td>\n",
              "    </tr>\n",
              "    <tr>\n",
              "      <th>11</th>\n",
              "      <td>12</td>\n",
              "      <td>Overcast</td>\n",
              "      <td>Mild</td>\n",
              "      <td>High</td>\n",
              "      <td>Strong</td>\n",
              "      <td>Yes</td>\n",
              "    </tr>\n",
              "    <tr>\n",
              "      <th>12</th>\n",
              "      <td>13</td>\n",
              "      <td>Overcast</td>\n",
              "      <td>Hot</td>\n",
              "      <td>Normal</td>\n",
              "      <td>Weak</td>\n",
              "      <td>Yes</td>\n",
              "    </tr>\n",
              "    <tr>\n",
              "      <th>13</th>\n",
              "      <td>14</td>\n",
              "      <td>Rain</td>\n",
              "      <td>Mild</td>\n",
              "      <td>High</td>\n",
              "      <td>Strong</td>\n",
              "      <td>No</td>\n",
              "    </tr>\n",
              "  </tbody>\n",
              "</table>\n",
              "</div>"
            ],
            "text/plain": [
              "    Day   Outlook Temp. Humidity    Wind Decision\n",
              "0     1     Sunny   Hot     High    Weak       No\n",
              "1     2     Sunny   Hot     High  Strong       No\n",
              "2     3  Overcast   Hot     High    Weak      Yes\n",
              "3     4      Rain  Mild     High    Weak      Yes\n",
              "4     5      Rain  Cool   Normal    Weak      Yes\n",
              "5     6      Rain  Cool   Normal  Strong       No\n",
              "6     7  Overcast  Cool   Normal  Strong      Yes\n",
              "7     8     Sunny  Mild     High    Weak       No\n",
              "8     9     Sunny  Cool   Normal    Weak      Yes\n",
              "9    10      Rain  Mild   Normal    Weak      Yes\n",
              "10   11     Sunny  Mild   Normal  Strong      Yes\n",
              "11   12  Overcast  Mild     High  Strong      Yes\n",
              "12   13  Overcast   Hot   Normal    Weak      Yes\n",
              "13   14      Rain  Mild     High  Strong       No"
            ]
          },
          "metadata": {
            "tags": []
          },
          "execution_count": 11
        }
      ]
    },
    {
      "cell_type": "code",
      "metadata": {
        "id": "0ZpAXV8Q0zpb"
      },
      "source": [
        "outlook = tennis.groupby('Decision').count()"
      ],
      "execution_count": 339,
      "outputs": []
    },
    {
      "cell_type": "code",
      "metadata": {
        "id": "lFhGatqSDQKs"
      },
      "source": [
        "outlook = pd.crosstab(index=tennis.Decision, columns=tennis.Outlook)\n",
        "temp = pd.crosstab(index=tennis.Decision, columns=tennis['Temp.'])\n",
        "hum = pd.crosstab(index=tennis.Decision, columns=tennis.Humidity)\n",
        "wind = pd.crosstab(index=tennis.Decision, columns=tennis.Wind)"
      ],
      "execution_count": 353,
      "outputs": []
    },
    {
      "cell_type": "code",
      "metadata": {
        "id": "y5VCab2y9SKp",
        "outputId": "a86db012-540a-4242-878c-e5d258c6c24b",
        "colab": {
          "base_uri": "https://localhost:8080/",
          "height": 72
        }
      },
      "source": [
        "getval(outlook)"
      ],
      "execution_count": 354,
      "outputs": [
        {
          "output_type": "stream",
          "text": [
            "no_entropy: 0.9709505944546686\n",
            "yes_entropy: 0.9709505944546686\n",
            "weighted avg. entropy: 0.9709505944546686\n"
          ],
          "name": "stdout"
        }
      ]
    },
    {
      "cell_type": "code",
      "metadata": {
        "id": "GfY2V0IOj-Cr"
      },
      "source": [
        "vars = [outlook, temp, hum, wind]"
      ],
      "execution_count": 84,
      "outputs": []
    },
    {
      "cell_type": "code",
      "metadata": {
        "id": "O3udjgth7nCC"
      },
      "source": [
        "def getval(df):\n",
        "    total_no = df.iloc[0].sum()\n",
        "    total_yes = df.iloc[1].sum()\n",
        "    total_val = total_no + total_yes\n",
        "\n",
        "    no_ratio = []\n",
        "    yes_ratio = []\n",
        "\n",
        "    for col in df:\n",
        "        col_total = df.iloc[0][col] + df.iloc[1][col]\n",
        "\n",
        "        no_ratio.append(df.iloc[0][col]/col_total)\n",
        "        yes_ratio.append(df.iloc[1][col]/col_total)\n",
        "\n",
        "    n_ent = entropy(no_ratio)\n",
        "    y_ent = entropy(yes_ratio)\n",
        "    \n",
        "    print(f'no_entropy: {n_ent}')\n",
        "    print(f'yes_entropy: {y_ent}')\n",
        "    print(f'weighted avg. entropy: {(n_ent*(total_no/total_val)) + (y_ent*(total_yes/total_val))}')"
      ],
      "execution_count": 369,
      "outputs": []
    },
    {
      "cell_type": "markdown",
      "metadata": {
        "id": "42CeoZiTcTwN"
      },
      "source": [
        "Write a function to compute entropy given an input of a sequence of probabilities."
      ]
    },
    {
      "cell_type": "code",
      "metadata": {
        "id": "577tajY2d9i9"
      },
      "source": [
        "def entropy(probs):\n",
        "    h = 0\n",
        "    for p in probs:\n",
        "        if p != 0.0:\n",
        "            h += (-p*(log2(p)))\n",
        "    return h"
      ],
      "execution_count": 295,
      "outputs": []
    },
    {
      "cell_type": "markdown",
      "metadata": {
        "id": "RsTiwQkVcTwQ"
      },
      "source": [
        "Aggregate the tennis decision table for each value of each column. Start with Outlook below. Compute the weighted mean of the entropy for outlook (the weighted mean of the yes decision and the no decision)."
      ]
    },
    {
      "cell_type": "code",
      "metadata": {
        "id": "oVJWSiSPHZdl",
        "outputId": "1e1d0bb4-d9f1-4b8d-ad3f-a1f68cf9b257",
        "colab": {
          "base_uri": "https://localhost:8080/",
          "height": 72
        }
      },
      "source": [
        "getval(outlook)"
      ],
      "execution_count": 370,
      "outputs": [
        {
          "output_type": "stream",
          "text": [
            "no_entropy: 0.9709505944546686\n",
            "yes_entropy: 0.9709505944546686\n",
            "weighted avg. entropy: 0.9709505944546686\n"
          ],
          "name": "stdout"
        }
      ]
    },
    {
      "cell_type": "markdown",
      "metadata": {
        "id": "z-t3UYlacTwS"
      },
      "source": [
        "Compute the weighted mean of the entropy for temperature, humidity and wind as well and decide based on these values which should be the first variable chosen for a split."
      ]
    },
    {
      "cell_type": "code",
      "metadata": {
        "id": "3oJaXDwAcTwT",
        "outputId": "bac2672d-4d24-4103-8b09-beb3283ad5a8",
        "colab": {
          "base_uri": "https://localhost:8080/",
          "height": 72
        }
      },
      "source": [
        "# for humidity\n",
        "getval(hum)"
      ],
      "execution_count": 371,
      "outputs": [
        {
          "output_type": "stream",
          "text": [
            "no_entropy: 0.8623963728982886\n",
            "yes_entropy: 0.7145045417182903\n",
            "weighted avg. entropy: 0.767323052854004\n"
          ],
          "name": "stdout"
        }
      ]
    },
    {
      "cell_type": "code",
      "metadata": {
        "id": "bMmW-C43Hdto",
        "outputId": "649da563-c9c4-4980-b26a-ef9f709ff660",
        "colab": {
          "base_uri": "https://localhost:8080/",
          "height": 72
        }
      },
      "source": [
        "# for wind\n",
        "getval(wind)"
      ],
      "execution_count": 357,
      "outputs": [
        {
          "output_type": "stream",
          "text": [
            "no_entropy: 1.0\n",
            "yes_entropy: 0.8112781244591328\n",
            "weighted avg. entropy: 0.8786787942951568\n"
          ],
          "name": "stdout"
        }
      ]
    },
    {
      "cell_type": "code",
      "metadata": {
        "id": "rL4pO6bUHed9",
        "outputId": "2703bd0c-ccfa-40c3-c6f2-3c6b75c6496b",
        "colab": {
          "base_uri": "https://localhost:8080/",
          "height": 72
        }
      },
      "source": [
        "# for temp\n",
        "getval(temp)"
      ],
      "execution_count": 362,
      "outputs": [
        {
          "output_type": "stream",
          "text": [
            "no_entropy: 1.5283208335737188\n",
            "yes_entropy: 1.2012531249399037\n",
            "weighted avg. entropy: 1.318063020880552\n"
          ],
          "name": "stdout"
        }
      ]
    },
    {
      "cell_type": "code",
      "metadata": {
        "id": "Hj3bmt7dIMKn"
      },
      "source": [
        "df_outlook = tennis.groupby(['Outlook','Decision']).count()"
      ],
      "execution_count": 361,
      "outputs": []
    },
    {
      "cell_type": "code",
      "metadata": {
        "id": "HieDpfwVHf36",
        "outputId": "95b9f406-db3f-4403-8711-ff6c363b5739",
        "colab": {
          "base_uri": "https://localhost:8080/",
          "height": 381
        }
      },
      "source": [
        "total = len(tennis.Decision)\n",
        "rows = ['Outlook','Temp.','Humidity', 'Wind']\n",
        "\n",
        "for row in rows:\n",
        "    df = tennis.groupby([row, 'Decision']).count() \n",
        "    df = df[df.columns[0]] \n",
        "    values = df.index.get_level_values(0).unique() \n",
        "    \n",
        "    probs_yes = [] \n",
        "    probs_no = [] \n",
        "    \n",
        "    yes_count = 0 \n",
        "    no_count = 0 \n",
        "    \n",
        "    yes_total = 0 \n",
        "    no_total = 0 \n",
        "    value_total = 0 \n",
        "    \n",
        "    for v in values: \n",
        "        if len(df[(v, )]) < 2: \n",
        "            probs_yes.append(1) \n",
        "            yes_total += df[v][0] \n",
        "        else: \n",
        "            no_count = df[v][0] \n",
        "            no_total += no_count \n",
        "            yes_count = df[v][1] \n",
        "            yes_total += yes_count \n",
        "            value_total = no_count + yes_count \n",
        "            \n",
        "            probs_no.append(no_count/value_total) \n",
        "            probs_yes.append(yes_count/value_total) \n",
        "    \n",
        "    print(f'{row}:')\n",
        "\n",
        "    n_ent = entropy(probs_no)\n",
        "    y_ent = entropy(probs_yes)\n",
        "    \n",
        "    print(f'no_entropy: {n_ent}')\n",
        "    print(f'yes_entropy: {y_ent}')\n",
        "    wae = (n_ent*(no_total/total)) + (y_ent*(yes_total/total))\n",
        "    print(f'weighted avg. entropy: {wae}\\n')"
      ],
      "execution_count": 376,
      "outputs": [
        {
          "output_type": "stream",
          "text": [
            "Outlook:\n",
            "no_entropy: 0.9709505944546686\n",
            "yes_entropy: 0.9709505944546686\n",
            "weighted avg. entropy: 0.9709505944546686\n",
            "\n",
            "Temp.:\n",
            "no_entropy: 1.5283208335737188\n",
            "yes_entropy: 1.2012531249399037\n",
            "weighted avg. entropy: 1.318063020880552\n",
            "\n",
            "Humidity:\n",
            "no_entropy: 0.8623963728982886\n",
            "yes_entropy: 0.7145045417182903\n",
            "weighted avg. entropy: 0.767323052854004\n",
            "\n",
            "Wind:\n",
            "no_entropy: 1.0\n",
            "yes_entropy: 0.8112781244591328\n",
            "weighted avg. entropy: 0.8786787942951568\n",
            "\n"
          ],
          "name": "stdout"
        }
      ]
    },
    {
      "cell_type": "markdown",
      "metadata": {
        "id": "ZIW9PWJoLb_C"
      },
      "source": [
        "*Humidity is the best feature to start with for the decision tree with the lowest weighted avg. entropy.*"
      ]
    }
  ]
}