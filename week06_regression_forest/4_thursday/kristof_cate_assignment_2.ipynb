{
  "nbformat": 4,
  "nbformat_minor": 0,
  "metadata": {
    "kernelspec": {
      "display_name": "Python 3",
      "language": "python",
      "name": "python3"
    },
    "language_info": {
      "codemirror_mode": {
        "name": "ipython",
        "version": 3
      },
      "file_extension": ".py",
      "mimetype": "text/x-python",
      "name": "python",
      "nbconvert_exporter": "python",
      "pygments_lexer": "ipython3",
      "version": "3.7.0"
    },
    "colab": {
      "name": "kristof_cate_assignment_2.ipynb",
      "provenance": [],
      "collapsed_sections": []
    }
  },
  "cells": [
    {
      "cell_type": "markdown",
      "metadata": {
        "id": "YRVfAWX8cTwI"
      },
      "source": [
        "## Day 29 Lecture 2 Assignment\n",
        "\n",
        "In this assignment, we will learn about entropy and information gain in the ID3 algorithm."
      ]
    },
    {
      "cell_type": "code",
      "metadata": {
        "id": "KufburMWcTwI"
      },
      "source": [
        "import numpy as np\n",
        "import pandas as pd\n",
        "from math import log2\n"
      ],
      "execution_count": 14,
      "outputs": []
    },
    {
      "cell_type": "code",
      "metadata": {
        "id": "8MiCqim1cTwK"
      },
      "source": [
        "tennis = pd.read_csv('https://tf-assets-prod.s3.amazonaws.com/tf-curric/data-science/tennis_decision.csv')"
      ],
      "execution_count": 15,
      "outputs": []
    },
    {
      "cell_type": "code",
      "metadata": {
        "id": "Ugm_tVeDcTwM",
        "outputId": "4a820c00-0143-4abb-aa1c-10693a0e8469",
        "colab": {
          "base_uri": "https://localhost:8080/",
          "height": 204
        }
      },
      "source": [
        "tennis.head()"
      ],
      "execution_count": 16,
      "outputs": [
        {
          "output_type": "execute_result",
          "data": {
            "text/html": [
              "<div>\n",
              "<style scoped>\n",
              "    .dataframe tbody tr th:only-of-type {\n",
              "        vertical-align: middle;\n",
              "    }\n",
              "\n",
              "    .dataframe tbody tr th {\n",
              "        vertical-align: top;\n",
              "    }\n",
              "\n",
              "    .dataframe thead th {\n",
              "        text-align: right;\n",
              "    }\n",
              "</style>\n",
              "<table border=\"1\" class=\"dataframe\">\n",
              "  <thead>\n",
              "    <tr style=\"text-align: right;\">\n",
              "      <th></th>\n",
              "      <th>Day</th>\n",
              "      <th>Outlook</th>\n",
              "      <th>Temp.</th>\n",
              "      <th>Humidity</th>\n",
              "      <th>Wind</th>\n",
              "      <th>Decision</th>\n",
              "    </tr>\n",
              "  </thead>\n",
              "  <tbody>\n",
              "    <tr>\n",
              "      <th>0</th>\n",
              "      <td>1</td>\n",
              "      <td>Sunny</td>\n",
              "      <td>Hot</td>\n",
              "      <td>High</td>\n",
              "      <td>Weak</td>\n",
              "      <td>No</td>\n",
              "    </tr>\n",
              "    <tr>\n",
              "      <th>1</th>\n",
              "      <td>2</td>\n",
              "      <td>Sunny</td>\n",
              "      <td>Hot</td>\n",
              "      <td>High</td>\n",
              "      <td>Strong</td>\n",
              "      <td>No</td>\n",
              "    </tr>\n",
              "    <tr>\n",
              "      <th>2</th>\n",
              "      <td>3</td>\n",
              "      <td>Overcast</td>\n",
              "      <td>Hot</td>\n",
              "      <td>High</td>\n",
              "      <td>Weak</td>\n",
              "      <td>Yes</td>\n",
              "    </tr>\n",
              "    <tr>\n",
              "      <th>3</th>\n",
              "      <td>4</td>\n",
              "      <td>Rain</td>\n",
              "      <td>Mild</td>\n",
              "      <td>High</td>\n",
              "      <td>Weak</td>\n",
              "      <td>Yes</td>\n",
              "    </tr>\n",
              "    <tr>\n",
              "      <th>4</th>\n",
              "      <td>5</td>\n",
              "      <td>Rain</td>\n",
              "      <td>Cool</td>\n",
              "      <td>Normal</td>\n",
              "      <td>Weak</td>\n",
              "      <td>Yes</td>\n",
              "    </tr>\n",
              "  </tbody>\n",
              "</table>\n",
              "</div>"
            ],
            "text/plain": [
              "   Day   Outlook Temp. Humidity    Wind Decision\n",
              "0    1     Sunny   Hot     High    Weak       No\n",
              "1    2     Sunny   Hot     High  Strong       No\n",
              "2    3  Overcast   Hot     High    Weak      Yes\n",
              "3    4      Rain  Mild     High    Weak      Yes\n",
              "4    5      Rain  Cool   Normal    Weak      Yes"
            ]
          },
          "metadata": {
            "tags": []
          },
          "execution_count": 16
        }
      ]
    },
    {
      "cell_type": "code",
      "metadata": {
        "id": "ljt3OhkhJtir",
        "outputId": "a0e73de8-39cf-4c2e-adb1-389a7a05271b",
        "colab": {
          "base_uri": "https://localhost:8080/",
          "height": 34
        }
      },
      "source": [
        "tennis.shape"
      ],
      "execution_count": 17,
      "outputs": [
        {
          "output_type": "execute_result",
          "data": {
            "text/plain": [
              "(14, 6)"
            ]
          },
          "metadata": {
            "tags": []
          },
          "execution_count": 17
        }
      ]
    },
    {
      "cell_type": "markdown",
      "metadata": {
        "id": "42CeoZiTcTwN"
      },
      "source": [
        "Write a function to compute entropy given an input of a sequence of probabilities."
      ]
    },
    {
      "cell_type": "code",
      "metadata": {
        "id": "SHa4s57aCfib"
      },
      "source": [
        "def get_entropy(probs):\n",
        "  '''\n",
        "  returns entropy given a list of probabilities\n",
        "\n",
        "  params:\n",
        "  probs - list of probabilities\n",
        "  '''\n",
        "  entropy = 0\n",
        "  for i in probs:\n",
        "    entropy += i * log2(1/(i))\n",
        "\n",
        "  return entropy"
      ],
      "execution_count": 27,
      "outputs": []
    },
    {
      "cell_type": "markdown",
      "metadata": {
        "id": "RsTiwQkVcTwQ"
      },
      "source": [
        "Aggregate the tennis decision table for each value of each column. Start with Outlook below. Compute the weighted mean of the entropy for outlook (the weighted mean of the yes decision and the no decision)."
      ]
    },
    {
      "cell_type": "code",
      "metadata": {
        "id": "9WWBQPxp2LUq"
      },
      "source": [
        "outlook = tennis.groupby(['Outlook']).agg({'Decision': 'value_counts'})\n",
        "temp = tennis.groupby(['Temp.']).agg({'Decision': 'value_counts'})\n",
        "humidity = tennis.groupby(['Humidity']).agg({'Decision': 'value_counts'})\n",
        "wind = tennis.groupby(['Wind']).agg({'Decision': 'value_counts'})"
      ],
      "execution_count": 21,
      "outputs": []
    },
    {
      "cell_type": "code",
      "metadata": {
        "id": "cpe0b9YW8Iif",
        "outputId": "5e11d8d0-bd9f-4d40-b429-7b2f5b4eceb3",
        "colab": {
          "base_uri": "https://localhost:8080/",
          "height": 119
        }
      },
      "source": [
        "# print(outlook)\n",
        "# print(temp)\n",
        "# print(humidity)\n",
        "# print(humidity.info)\n",
        "# humidity['Decision']['High']['No']\n",
        "# print(wind)"
      ],
      "execution_count": 60,
      "outputs": [
        {
          "output_type": "stream",
          "text": [
            "                 Decision\n",
            "Wind   Decision          \n",
            "Strong No               3\n",
            "       Yes              3\n",
            "Weak   Yes              6\n",
            "       No               2\n"
          ],
          "name": "stdout"
        }
      ]
    },
    {
      "cell_type": "markdown",
      "metadata": {
        "id": "z-t3UYlacTwS"
      },
      "source": [
        "Compute the weighted mean of the entropy for temperature, humidity and wind as well and decide based on these values which should be the first variable chosen for a split."
      ]
    },
    {
      "cell_type": "code",
      "metadata": {
        "id": "3oJaXDwAcTwT"
      },
      "source": [
        "def get_weighted_entropy(overall_probs, probs):\n",
        "  '''\n",
        "  Returns the weighted entropy for a category given lists of probabilities\n",
        "\n",
        "  overall_probs - a lits of probabilities of belonging to each category\n",
        "\n",
        "  probs - a list of probabilities within each category \n",
        "  of belonging to each value of the target  \n",
        "  '''\n",
        "  weighted_entropy = 0\n",
        "  x = 0\n",
        "  for i in probs:\n",
        "    entropy = get_entropy(i)\n",
        "    weighted_entropy += (overall_probs[x] * entropy)\n",
        "    x += 1\n",
        "  return weighted_entropy\n"
      ],
      "execution_count": 61,
      "outputs": []
    },
    {
      "cell_type": "code",
      "metadata": {
        "id": "xAHaAS6Ieema"
      },
      "source": [
        "outlook_overall = [4/14, 5/14, 5/14]\n",
        "outlook_probs = [[4/4], [2/5, 3/5], [2/5, 3/5]]\n",
        "temp_overall = [4/14, 4/14, 6/14]\n",
        "temp_probs = [[3/4, 1/4], [2/4, 2/4], [4/6, 2/6]]\n",
        "humidity_overall = [7/14, 7/14]\n",
        "humidity_probs = [[4/7, 3/7], [6/7, 1/7]]\n",
        "wind_overall = [6/14, 8/14]\n",
        "wind_probs = [[3/6, 3/6], [6/8, 2/8]]\n",
        "\n",
        "w_e_humidity = get_weighted_entropy(humidity_overall, humidity_probs)\n",
        "w_e_temp = get_weighted_entropy(temp_overall, temp_probs)\n",
        "w_e_outlook = get_weighted_entropy(outlook_overall, outlook_probs)\n",
        "w_e_wind = get_weighted_entropy(wind_overall, wind_probs)"
      ],
      "execution_count": null,
      "outputs": []
    },
    {
      "cell_type": "markdown",
      "metadata": {
        "id": "VX_ePL9Xd0hA"
      },
      "source": [
        "All four of the options have high weighted entropy. Outlook's weighted entropy of .69 is lower than any of the others, so that would be the split I would choose. "
      ]
    },
    {
      "cell_type": "code",
      "metadata": {
        "id": "zdErPZRNden8",
        "outputId": "d40416bb-c8fc-4675-bc8b-c1804eb0183b",
        "colab": {
          "base_uri": "https://localhost:8080/",
          "height": 85
        }
      },
      "source": [
        "print('Humidity: ',w_e_humidity)\n",
        "print('Temp: ', w_e_temp)\n",
        "print('Outlook', w_e_outlook)\n",
        "print('Wind', w_e_wind)"
      ],
      "execution_count": 65,
      "outputs": [
        {
          "output_type": "stream",
          "text": [
            "Humidity:  0.7884504573082894\n",
            "Temp:  0.911063393011676\n",
            "Outlook 0.6935361388961919\n",
            "Wind 0.8921589282623614\n"
          ],
          "name": "stdout"
        }
      ]
    }
  ]
}