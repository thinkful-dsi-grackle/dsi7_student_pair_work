{
  "nbformat": 4,
  "nbformat_minor": 0,
  "metadata": {
    "kernelspec": {
      "display_name": "Python 3",
      "language": "python",
      "name": "python3"
    },
    "language_info": {
      "codemirror_mode": {
        "name": "ipython",
        "version": 3
      },
      "file_extension": ".py",
      "mimetype": "text/x-python",
      "name": "python",
      "nbconvert_exporter": "python",
      "pygments_lexer": "ipython3",
      "version": "3.7.0"
    },
    "colab": {
      "name": "Day 29 Lecture 1 Assignment Shontelle_Noah",
      "provenance": [],
      "collapsed_sections": []
    }
  },
  "cells": [
    {
      "cell_type": "markdown",
      "metadata": {
        "id": "VqUtIOgdcSjK"
      },
      "source": [
        "## Day 29 Lecture 1 Assignment\n",
        "\n",
        "In this assignment, we will learn about decision trees. We will use the Chicago salary dataset loaded below."
      ]
    },
    {
      "cell_type": "code",
      "metadata": {
        "id": "JOsKrr-kcSjL"
      },
      "source": [
        "%matplotlib inline\n",
        "\n",
        "import matplotlib.pyplot as plt\n",
        "import numpy as np\n",
        "import pandas as pd\n",
        "import scipy\n",
        "from sklearn import tree\n",
        "\n",
        "\n",
        "from IPython.display import Image\n",
        "\n",
        "\n",
        "import pydotplus\n",
        "import graphviz"
      ],
      "execution_count": 14,
      "outputs": []
    },
    {
      "cell_type": "code",
      "metadata": {
        "id": "2vSkCX1rcSjN"
      },
      "source": [
        "chicago = pd.read_csv('https://tf-assets-prod.s3.amazonaws.com/tf-curric/data-science/Current_Employee_Names__Salaries__and_Position_Titles.csv')"
      ],
      "execution_count": 15,
      "outputs": []
    },
    {
      "cell_type": "code",
      "metadata": {
        "id": "PoyrvgWqcSjP",
        "outputId": "172dbe2d-050c-42f2-e38e-5ab1ff03ae3d",
        "colab": {
          "base_uri": "https://localhost:8080/",
          "height": 306
        }
      },
      "source": [
        "chicago.head()"
      ],
      "execution_count": 16,
      "outputs": [
        {
          "output_type": "execute_result",
          "data": {
            "text/html": [
              "<div>\n",
              "<style scoped>\n",
              "    .dataframe tbody tr th:only-of-type {\n",
              "        vertical-align: middle;\n",
              "    }\n",
              "\n",
              "    .dataframe tbody tr th {\n",
              "        vertical-align: top;\n",
              "    }\n",
              "\n",
              "    .dataframe thead th {\n",
              "        text-align: right;\n",
              "    }\n",
              "</style>\n",
              "<table border=\"1\" class=\"dataframe\">\n",
              "  <thead>\n",
              "    <tr style=\"text-align: right;\">\n",
              "      <th></th>\n",
              "      <th>Name</th>\n",
              "      <th>Job Titles</th>\n",
              "      <th>Department</th>\n",
              "      <th>Full or Part-Time</th>\n",
              "      <th>Salary or Hourly</th>\n",
              "      <th>Typical Hours</th>\n",
              "      <th>Annual Salary</th>\n",
              "      <th>Hourly Rate</th>\n",
              "    </tr>\n",
              "  </thead>\n",
              "  <tbody>\n",
              "    <tr>\n",
              "      <th>0</th>\n",
              "      <td>ALLISON,  PAUL W</td>\n",
              "      <td>LIEUTENANT</td>\n",
              "      <td>FIRE</td>\n",
              "      <td>F</td>\n",
              "      <td>Salary</td>\n",
              "      <td>NaN</td>\n",
              "      <td>$107790.00</td>\n",
              "      <td>NaN</td>\n",
              "    </tr>\n",
              "    <tr>\n",
              "      <th>1</th>\n",
              "      <td>BRUNO,  KEVIN D</td>\n",
              "      <td>SERGEANT</td>\n",
              "      <td>POLICE</td>\n",
              "      <td>F</td>\n",
              "      <td>Salary</td>\n",
              "      <td>NaN</td>\n",
              "      <td>$104628.00</td>\n",
              "      <td>NaN</td>\n",
              "    </tr>\n",
              "    <tr>\n",
              "      <th>2</th>\n",
              "      <td>COOPER,  JOHN E</td>\n",
              "      <td>LIEUTENANT-EMT</td>\n",
              "      <td>FIRE</td>\n",
              "      <td>F</td>\n",
              "      <td>Salary</td>\n",
              "      <td>NaN</td>\n",
              "      <td>$114324.00</td>\n",
              "      <td>NaN</td>\n",
              "    </tr>\n",
              "    <tr>\n",
              "      <th>3</th>\n",
              "      <td>CRESPO,  VILMA I</td>\n",
              "      <td>STAFF ASST</td>\n",
              "      <td>LAW</td>\n",
              "      <td>F</td>\n",
              "      <td>Salary</td>\n",
              "      <td>NaN</td>\n",
              "      <td>$76932.00</td>\n",
              "      <td>NaN</td>\n",
              "    </tr>\n",
              "    <tr>\n",
              "      <th>4</th>\n",
              "      <td>DOLAN,  ROBERT J</td>\n",
              "      <td>SERGEANT</td>\n",
              "      <td>POLICE</td>\n",
              "      <td>F</td>\n",
              "      <td>Salary</td>\n",
              "      <td>NaN</td>\n",
              "      <td>$111474.00</td>\n",
              "      <td>NaN</td>\n",
              "    </tr>\n",
              "  </tbody>\n",
              "</table>\n",
              "</div>"
            ],
            "text/plain": [
              "               Name      Job Titles  ... Annual Salary Hourly Rate\n",
              "0  ALLISON,  PAUL W      LIEUTENANT  ...    $107790.00         NaN\n",
              "1   BRUNO,  KEVIN D        SERGEANT  ...    $104628.00         NaN\n",
              "2   COOPER,  JOHN E  LIEUTENANT-EMT  ...    $114324.00         NaN\n",
              "3  CRESPO,  VILMA I      STAFF ASST  ...     $76932.00         NaN\n",
              "4  DOLAN,  ROBERT J        SERGEANT  ...    $111474.00         NaN\n",
              "\n",
              "[5 rows x 8 columns]"
            ]
          },
          "metadata": {
            "tags": []
          },
          "execution_count": 16
        }
      ]
    },
    {
      "cell_type": "markdown",
      "metadata": {
        "id": "Yvk4IgCocSjQ"
      },
      "source": [
        "To simplify this problem, we will limit our model to only salary employees. Create a new dataset that does not contain any hourly employees."
      ]
    },
    {
      "cell_type": "code",
      "metadata": {
        "id": "X8mndXF2cSjR"
      },
      "source": [
        "# answer below:\n",
        "\n",
        "chicago = chicago[chicago['Salary or Hourly'] == ('Salary')]\n"
      ],
      "execution_count": 17,
      "outputs": []
    },
    {
      "cell_type": "markdown",
      "metadata": {
        "id": "IjEAhiyfcSjT"
      },
      "source": [
        "Next, we will look at the count of all values for both job titles and department to ensure that we don't use features that are too sparse in our model."
      ]
    },
    {
      "cell_type": "code",
      "metadata": {
        "id": "RSpn997lcSjT",
        "outputId": "39e59cc9-77e0-41ad-8dba-942012f354f7",
        "colab": {
          "base_uri": "https://localhost:8080/"
        }
      },
      "source": [
        "# answer below:\n",
        "\n",
        "\n",
        "chicago['Job Titles'].value_counts()\n"
      ],
      "execution_count": 5,
      "outputs": [
        {
          "output_type": "execute_result",
          "data": {
            "text/plain": [
              "POLICE OFFICER                            9393\n",
              "FIREFIGHTER-EMT                           1424\n",
              "SERGEANT                                  1118\n",
              "POLICE OFFICER (ASSIGNED AS DETECTIVE)     845\n",
              "FIREFIGHTER                                564\n",
              "                                          ... \n",
              "DIR OF CONSERVATION INSPECTIONS              1\n",
              "SENIOR PRODUCER/WRITER                       1\n",
              "EXECUTIVE SECRETARY I                        1\n",
              "CONSUMER INVESTIGATOR I                      1\n",
              "BUDGET ANALYST                               1\n",
              "Name: Job Titles, Length: 954, dtype: int64"
            ]
          },
          "metadata": {
            "tags": []
          },
          "execution_count": 5
        }
      ]
    },
    {
      "cell_type": "code",
      "metadata": {
        "id": "UBlWEQvO-dcw",
        "outputId": "184c63e6-f844-46e0-f5dd-5f6be204bbb3",
        "colab": {
          "base_uri": "https://localhost:8080/"
        }
      },
      "source": [
        "chicago['Department'].value_counts()"
      ],
      "execution_count": 6,
      "outputs": [
        {
          "output_type": "execute_result",
          "data": {
            "text/plain": [
              "POLICE                   12941\n",
              "FIRE                      4798\n",
              "OEMC                       832\n",
              "PUBLIC LIBRARY             708\n",
              "AVIATION                   556\n",
              "FINANCE                    532\n",
              "HEALTH                     512\n",
              "TRANSPORTN                 396\n",
              "WATER MGMNT                366\n",
              "LAW                        361\n",
              "CITY COUNCIL               348\n",
              "FAMILY & SUPPORT           321\n",
              "STREETS & SAN              321\n",
              "BUILDINGS                  266\n",
              "COMMUNITY DEVELOPMENT      210\n",
              "GENERAL SERVICES           205\n",
              "BUSINESS AFFAIRS           160\n",
              "BOARD OF ELECTION          112\n",
              "DoIT                       101\n",
              "PROCUREMENT                 82\n",
              "CITY CLERK                  82\n",
              "MAYOR'S OFFICE              78\n",
              "HUMAN RESOURCES             67\n",
              "CULTURAL AFFAIRS            66\n",
              "INSPECTOR GEN               63\n",
              "ANIMAL CONTRL               57\n",
              "IPRA                        56\n",
              "BUDGET & MGMT               43\n",
              "ADMIN HEARNG                38\n",
              "DISABILITIES                29\n",
              "TREASURER                   23\n",
              "COPA                        17\n",
              "HUMAN RELATIONS             17\n",
              "BOARD OF ETHICS              8\n",
              "POLICE BOARD                 2\n",
              "LICENSE APPL COMM            1\n",
              "Name: Department, dtype: int64"
            ]
          },
          "metadata": {
            "tags": []
          },
          "execution_count": 6
        }
      ]
    },
    {
      "cell_type": "code",
      "metadata": {
        "id": "uNjmVSyvA59v",
        "outputId": "a80893d2-f20f-4394-a9da-f9510113541d",
        "colab": {
          "base_uri": "https://localhost:8080/"
        }
      },
      "source": [
        "chicago['Department'].nunique()"
      ],
      "execution_count": 7,
      "outputs": [
        {
          "output_type": "execute_result",
          "data": {
            "text/plain": [
              "36"
            ]
          },
          "metadata": {
            "tags": []
          },
          "execution_count": 7
        }
      ]
    },
    {
      "cell_type": "markdown",
      "metadata": {
        "id": "S8wwWbE5cSjV"
      },
      "source": [
        "Choose the between department and job title and use the variable with the smallest number of values to for one hot encoding. Additionally, create dummy variables for full ot part-time."
      ]
    },
    {
      "cell_type": "code",
      "metadata": {
        "id": "1Y017CXqcSjV"
      },
      "source": [
        "# answer below:\n",
        "\n",
        "departments = pd.get_dummies(chicago['Department'], drop_first=True)\n",
        "\n",
        "full_or_part = pd.get_dummies(chicago['Full or Part-Time'], drop_first=True)\n",
        "\n",
        "chicago = chicago.drop('Full or Part-Time', axis = 1)\n",
        "chicago = chicago.drop('Department', axis = 1)\n",
        "\n",
        "chicago = pd.concat([chicago, departments], axis=1)\n",
        "chicago = pd.concat([chicago, full_or_part], axis=1)\n",
        "\n"
      ],
      "execution_count": 18,
      "outputs": []
    },
    {
      "cell_type": "markdown",
      "metadata": {
        "id": "KH4kKrHVcSjX"
      },
      "source": [
        "Remove all irrelevant columns (Name, Job Titles, Salary or Hourly, Typical Hours, Hourly Rate)"
      ]
    },
    {
      "cell_type": "code",
      "metadata": {
        "id": "h-MaRcptcSjX",
        "outputId": "441bdeb1-da05-41ae-e054-20fbfc825dcc",
        "colab": {
          "base_uri": "https://localhost:8080/",
          "height": 258
        }
      },
      "source": [
        "# answer below:\n",
        "\n",
        "chicago = chicago.drop(['Name', 'Job Titles', 'Salary or Hourly', 'Typical Hours', 'Hourly Rate'], axis=1)\n",
        "\n",
        "chicago.head()"
      ],
      "execution_count": 19,
      "outputs": [
        {
          "output_type": "execute_result",
          "data": {
            "text/html": [
              "<div>\n",
              "<style scoped>\n",
              "    .dataframe tbody tr th:only-of-type {\n",
              "        vertical-align: middle;\n",
              "    }\n",
              "\n",
              "    .dataframe tbody tr th {\n",
              "        vertical-align: top;\n",
              "    }\n",
              "\n",
              "    .dataframe thead th {\n",
              "        text-align: right;\n",
              "    }\n",
              "</style>\n",
              "<table border=\"1\" class=\"dataframe\">\n",
              "  <thead>\n",
              "    <tr style=\"text-align: right;\">\n",
              "      <th></th>\n",
              "      <th>Annual Salary</th>\n",
              "      <th>ANIMAL CONTRL</th>\n",
              "      <th>AVIATION</th>\n",
              "      <th>BOARD OF ELECTION</th>\n",
              "      <th>BOARD OF ETHICS</th>\n",
              "      <th>BUDGET &amp; MGMT</th>\n",
              "      <th>BUILDINGS</th>\n",
              "      <th>BUSINESS AFFAIRS</th>\n",
              "      <th>CITY CLERK</th>\n",
              "      <th>CITY COUNCIL</th>\n",
              "      <th>COMMUNITY DEVELOPMENT</th>\n",
              "      <th>COPA</th>\n",
              "      <th>CULTURAL AFFAIRS</th>\n",
              "      <th>DISABILITIES</th>\n",
              "      <th>DoIT</th>\n",
              "      <th>FAMILY &amp; SUPPORT</th>\n",
              "      <th>FINANCE</th>\n",
              "      <th>FIRE</th>\n",
              "      <th>GENERAL SERVICES</th>\n",
              "      <th>HEALTH</th>\n",
              "      <th>HUMAN RELATIONS</th>\n",
              "      <th>HUMAN RESOURCES</th>\n",
              "      <th>INSPECTOR GEN</th>\n",
              "      <th>IPRA</th>\n",
              "      <th>LAW</th>\n",
              "      <th>LICENSE APPL COMM</th>\n",
              "      <th>MAYOR'S OFFICE</th>\n",
              "      <th>OEMC</th>\n",
              "      <th>POLICE</th>\n",
              "      <th>POLICE BOARD</th>\n",
              "      <th>PROCUREMENT</th>\n",
              "      <th>PUBLIC LIBRARY</th>\n",
              "      <th>STREETS &amp; SAN</th>\n",
              "      <th>TRANSPORTN</th>\n",
              "      <th>TREASURER</th>\n",
              "      <th>WATER MGMNT</th>\n",
              "      <th>P</th>\n",
              "    </tr>\n",
              "  </thead>\n",
              "  <tbody>\n",
              "    <tr>\n",
              "      <th>0</th>\n",
              "      <td>$107790.00</td>\n",
              "      <td>0</td>\n",
              "      <td>0</td>\n",
              "      <td>0</td>\n",
              "      <td>0</td>\n",
              "      <td>0</td>\n",
              "      <td>0</td>\n",
              "      <td>0</td>\n",
              "      <td>0</td>\n",
              "      <td>0</td>\n",
              "      <td>0</td>\n",
              "      <td>0</td>\n",
              "      <td>0</td>\n",
              "      <td>0</td>\n",
              "      <td>0</td>\n",
              "      <td>0</td>\n",
              "      <td>0</td>\n",
              "      <td>1</td>\n",
              "      <td>0</td>\n",
              "      <td>0</td>\n",
              "      <td>0</td>\n",
              "      <td>0</td>\n",
              "      <td>0</td>\n",
              "      <td>0</td>\n",
              "      <td>0</td>\n",
              "      <td>0</td>\n",
              "      <td>0</td>\n",
              "      <td>0</td>\n",
              "      <td>0</td>\n",
              "      <td>0</td>\n",
              "      <td>0</td>\n",
              "      <td>0</td>\n",
              "      <td>0</td>\n",
              "      <td>0</td>\n",
              "      <td>0</td>\n",
              "      <td>0</td>\n",
              "      <td>0</td>\n",
              "    </tr>\n",
              "    <tr>\n",
              "      <th>1</th>\n",
              "      <td>$104628.00</td>\n",
              "      <td>0</td>\n",
              "      <td>0</td>\n",
              "      <td>0</td>\n",
              "      <td>0</td>\n",
              "      <td>0</td>\n",
              "      <td>0</td>\n",
              "      <td>0</td>\n",
              "      <td>0</td>\n",
              "      <td>0</td>\n",
              "      <td>0</td>\n",
              "      <td>0</td>\n",
              "      <td>0</td>\n",
              "      <td>0</td>\n",
              "      <td>0</td>\n",
              "      <td>0</td>\n",
              "      <td>0</td>\n",
              "      <td>0</td>\n",
              "      <td>0</td>\n",
              "      <td>0</td>\n",
              "      <td>0</td>\n",
              "      <td>0</td>\n",
              "      <td>0</td>\n",
              "      <td>0</td>\n",
              "      <td>0</td>\n",
              "      <td>0</td>\n",
              "      <td>0</td>\n",
              "      <td>0</td>\n",
              "      <td>1</td>\n",
              "      <td>0</td>\n",
              "      <td>0</td>\n",
              "      <td>0</td>\n",
              "      <td>0</td>\n",
              "      <td>0</td>\n",
              "      <td>0</td>\n",
              "      <td>0</td>\n",
              "      <td>0</td>\n",
              "    </tr>\n",
              "    <tr>\n",
              "      <th>2</th>\n",
              "      <td>$114324.00</td>\n",
              "      <td>0</td>\n",
              "      <td>0</td>\n",
              "      <td>0</td>\n",
              "      <td>0</td>\n",
              "      <td>0</td>\n",
              "      <td>0</td>\n",
              "      <td>0</td>\n",
              "      <td>0</td>\n",
              "      <td>0</td>\n",
              "      <td>0</td>\n",
              "      <td>0</td>\n",
              "      <td>0</td>\n",
              "      <td>0</td>\n",
              "      <td>0</td>\n",
              "      <td>0</td>\n",
              "      <td>0</td>\n",
              "      <td>1</td>\n",
              "      <td>0</td>\n",
              "      <td>0</td>\n",
              "      <td>0</td>\n",
              "      <td>0</td>\n",
              "      <td>0</td>\n",
              "      <td>0</td>\n",
              "      <td>0</td>\n",
              "      <td>0</td>\n",
              "      <td>0</td>\n",
              "      <td>0</td>\n",
              "      <td>0</td>\n",
              "      <td>0</td>\n",
              "      <td>0</td>\n",
              "      <td>0</td>\n",
              "      <td>0</td>\n",
              "      <td>0</td>\n",
              "      <td>0</td>\n",
              "      <td>0</td>\n",
              "      <td>0</td>\n",
              "    </tr>\n",
              "    <tr>\n",
              "      <th>3</th>\n",
              "      <td>$76932.00</td>\n",
              "      <td>0</td>\n",
              "      <td>0</td>\n",
              "      <td>0</td>\n",
              "      <td>0</td>\n",
              "      <td>0</td>\n",
              "      <td>0</td>\n",
              "      <td>0</td>\n",
              "      <td>0</td>\n",
              "      <td>0</td>\n",
              "      <td>0</td>\n",
              "      <td>0</td>\n",
              "      <td>0</td>\n",
              "      <td>0</td>\n",
              "      <td>0</td>\n",
              "      <td>0</td>\n",
              "      <td>0</td>\n",
              "      <td>0</td>\n",
              "      <td>0</td>\n",
              "      <td>0</td>\n",
              "      <td>0</td>\n",
              "      <td>0</td>\n",
              "      <td>0</td>\n",
              "      <td>0</td>\n",
              "      <td>1</td>\n",
              "      <td>0</td>\n",
              "      <td>0</td>\n",
              "      <td>0</td>\n",
              "      <td>0</td>\n",
              "      <td>0</td>\n",
              "      <td>0</td>\n",
              "      <td>0</td>\n",
              "      <td>0</td>\n",
              "      <td>0</td>\n",
              "      <td>0</td>\n",
              "      <td>0</td>\n",
              "      <td>0</td>\n",
              "    </tr>\n",
              "    <tr>\n",
              "      <th>4</th>\n",
              "      <td>$111474.00</td>\n",
              "      <td>0</td>\n",
              "      <td>0</td>\n",
              "      <td>0</td>\n",
              "      <td>0</td>\n",
              "      <td>0</td>\n",
              "      <td>0</td>\n",
              "      <td>0</td>\n",
              "      <td>0</td>\n",
              "      <td>0</td>\n",
              "      <td>0</td>\n",
              "      <td>0</td>\n",
              "      <td>0</td>\n",
              "      <td>0</td>\n",
              "      <td>0</td>\n",
              "      <td>0</td>\n",
              "      <td>0</td>\n",
              "      <td>0</td>\n",
              "      <td>0</td>\n",
              "      <td>0</td>\n",
              "      <td>0</td>\n",
              "      <td>0</td>\n",
              "      <td>0</td>\n",
              "      <td>0</td>\n",
              "      <td>0</td>\n",
              "      <td>0</td>\n",
              "      <td>0</td>\n",
              "      <td>0</td>\n",
              "      <td>1</td>\n",
              "      <td>0</td>\n",
              "      <td>0</td>\n",
              "      <td>0</td>\n",
              "      <td>0</td>\n",
              "      <td>0</td>\n",
              "      <td>0</td>\n",
              "      <td>0</td>\n",
              "      <td>0</td>\n",
              "    </tr>\n",
              "  </tbody>\n",
              "</table>\n",
              "</div>"
            ],
            "text/plain": [
              "  Annual Salary  ANIMAL CONTRL  AVIATION  ...  TREASURER  WATER MGMNT  P\n",
              "0    $107790.00              0         0  ...          0            0  0\n",
              "1    $104628.00              0         0  ...          0            0  0\n",
              "2    $114324.00              0         0  ...          0            0  0\n",
              "3     $76932.00              0         0  ...          0            0  0\n",
              "4    $111474.00              0         0  ...          0            0  0\n",
              "\n",
              "[5 rows x 37 columns]"
            ]
          },
          "metadata": {
            "tags": []
          },
          "execution_count": 19
        }
      ]
    },
    {
      "cell_type": "code",
      "metadata": {
        "id": "_u_lgH0RJWsu"
      },
      "source": [
        ""
      ],
      "execution_count": 7,
      "outputs": []
    },
    {
      "cell_type": "code",
      "metadata": {
        "id": "RKhaHWn9IH9T"
      },
      "source": [
        ""
      ],
      "execution_count": 9,
      "outputs": []
    },
    {
      "cell_type": "markdown",
      "metadata": {
        "id": "MttxKtdscSjZ"
      },
      "source": [
        "Check that none of the remaining columns are of object type and convert them to numeric if they are of object type."
      ]
    },
    {
      "cell_type": "code",
      "metadata": {
        "id": "W34P6H5KcSjZ",
        "outputId": "bc0d2d52-09b6-4e4c-fd31-f7a69b582640",
        "colab": {
          "base_uri": "https://localhost:8080/",
          "height": 663
        }
      },
      "source": [
        "# answer below:\n",
        "\n",
        "chicago.dtypes\n"
      ],
      "execution_count": 20,
      "outputs": [
        {
          "output_type": "execute_result",
          "data": {
            "text/plain": [
              "Annual Salary            object\n",
              "ANIMAL CONTRL             uint8\n",
              "AVIATION                  uint8\n",
              "BOARD OF ELECTION         uint8\n",
              "BOARD OF ETHICS           uint8\n",
              "BUDGET & MGMT             uint8\n",
              "BUILDINGS                 uint8\n",
              "BUSINESS AFFAIRS          uint8\n",
              "CITY CLERK                uint8\n",
              "CITY COUNCIL              uint8\n",
              "COMMUNITY DEVELOPMENT     uint8\n",
              "COPA                      uint8\n",
              "CULTURAL AFFAIRS          uint8\n",
              "DISABILITIES              uint8\n",
              "DoIT                      uint8\n",
              "FAMILY & SUPPORT          uint8\n",
              "FINANCE                   uint8\n",
              "FIRE                      uint8\n",
              "GENERAL SERVICES          uint8\n",
              "HEALTH                    uint8\n",
              "HUMAN RELATIONS           uint8\n",
              "HUMAN RESOURCES           uint8\n",
              "INSPECTOR GEN             uint8\n",
              "IPRA                      uint8\n",
              "LAW                       uint8\n",
              "LICENSE APPL COMM         uint8\n",
              "MAYOR'S OFFICE            uint8\n",
              "OEMC                      uint8\n",
              "POLICE                    uint8\n",
              "POLICE BOARD              uint8\n",
              "PROCUREMENT               uint8\n",
              "PUBLIC LIBRARY            uint8\n",
              "STREETS & SAN             uint8\n",
              "TRANSPORTN                uint8\n",
              "TREASURER                 uint8\n",
              "WATER MGMNT               uint8\n",
              "P                         uint8\n",
              "dtype: object"
            ]
          },
          "metadata": {
            "tags": []
          },
          "execution_count": 20
        }
      ]
    },
    {
      "cell_type": "code",
      "metadata": {
        "id": "_s85YxVZcSjb",
        "outputId": "65d341bd-6f8b-4260-deea-ac1e09276527",
        "colab": {
          "base_uri": "https://localhost:8080/",
          "height": 663
        }
      },
      "source": [
        "# answer below:\n",
        "\n",
        "chicago['Annual Salary'] = pd.to_numeric(chicago['Annual Salary'].str.strip('$'))\n",
        "chicago.dtypes\n"
      ],
      "execution_count": 21,
      "outputs": [
        {
          "output_type": "execute_result",
          "data": {
            "text/plain": [
              "Annual Salary            float64\n",
              "ANIMAL CONTRL              uint8\n",
              "AVIATION                   uint8\n",
              "BOARD OF ELECTION          uint8\n",
              "BOARD OF ETHICS            uint8\n",
              "BUDGET & MGMT              uint8\n",
              "BUILDINGS                  uint8\n",
              "BUSINESS AFFAIRS           uint8\n",
              "CITY CLERK                 uint8\n",
              "CITY COUNCIL               uint8\n",
              "COMMUNITY DEVELOPMENT      uint8\n",
              "COPA                       uint8\n",
              "CULTURAL AFFAIRS           uint8\n",
              "DISABILITIES               uint8\n",
              "DoIT                       uint8\n",
              "FAMILY & SUPPORT           uint8\n",
              "FINANCE                    uint8\n",
              "FIRE                       uint8\n",
              "GENERAL SERVICES           uint8\n",
              "HEALTH                     uint8\n",
              "HUMAN RELATIONS            uint8\n",
              "HUMAN RESOURCES            uint8\n",
              "INSPECTOR GEN              uint8\n",
              "IPRA                       uint8\n",
              "LAW                        uint8\n",
              "LICENSE APPL COMM          uint8\n",
              "MAYOR'S OFFICE             uint8\n",
              "OEMC                       uint8\n",
              "POLICE                     uint8\n",
              "POLICE BOARD               uint8\n",
              "PROCUREMENT                uint8\n",
              "PUBLIC LIBRARY             uint8\n",
              "STREETS & SAN              uint8\n",
              "TRANSPORTN                 uint8\n",
              "TREASURER                  uint8\n",
              "WATER MGMNT                uint8\n",
              "P                          uint8\n",
              "dtype: object"
            ]
          },
          "metadata": {
            "tags": []
          },
          "execution_count": 21
        }
      ]
    },
    {
      "cell_type": "markdown",
      "metadata": {
        "id": "OrKDy_59cSjb"
      },
      "source": [
        "Split the data into a test and train sample. Use annual salary as the dependent variable. 20% of the data should be assigned to the test sample."
      ]
    },
    {
      "cell_type": "code",
      "metadata": {
        "id": "KfdWG2_7RPuT"
      },
      "source": [
        "from sklearn.model_selection import train_test_split\n",
        "\n",
        "X = chicago.drop(columns=['Annual Salary'])\n",
        "y = chicago['Annual Salary']\n",
        "\n",
        "\n",
        "X_train, X_test, y_train, y_test = train_test_split(X, y, test_size=0.2)"
      ],
      "execution_count": 22,
      "outputs": []
    },
    {
      "cell_type": "markdown",
      "metadata": {
        "id": "D_paBe77cSjd"
      },
      "source": [
        "Generate a regession decision tree using `DecisionTreeRegressor` in sklearn. Fit the model on the training set and calculate the score for both train and test."
      ]
    },
    {
      "cell_type": "code",
      "metadata": {
        "id": "OkLxsJCwcSjd",
        "outputId": "8b16dcf9-0de6-4b5f-8b6c-9709fe306283",
        "colab": {
          "base_uri": "https://localhost:8080/",
          "height": 1000
        }
      },
      "source": [
        "# answer below:\n",
        "\n",
        "d_tree = tree.DecisionTreeRegressor(max_depth = 10, min_samples_split=100)\n",
        "\n",
        "d_tree.fit(X_train, y_train)\n",
        "\n",
        "dot_data = tree.export_graphviz(d_tree, out_file = None,\n",
        "                                feature_names=X_train.columns, \n",
        "                                filled=True, rounded = True,\n",
        "                                special_characters = True)\n",
        "graph = graphviz.Source(dot_data)\n",
        "\n",
        "graph\n",
        "\n"
      ],
      "execution_count": 26,
      "outputs": [
        {
          "output_type": "execute_result",
          "data": {
            "text/plain": [
              "<graphviz.files.Source at 0x7fa959ab5048>"
            ],
            "image/svg+xml": "<?xml version=\"1.0\" encoding=\"UTF-8\" standalone=\"no\"?>\n<!DOCTYPE svg PUBLIC \"-//W3C//DTD SVG 1.1//EN\"\n \"http://www.w3.org/Graphics/SVG/1.1/DTD/svg11.dtd\">\n<!-- Generated by graphviz version 2.40.1 (20161225.0304)\n -->\n<!-- Title: Tree Pages: 1 -->\n<svg width=\"1500pt\" height=\"1101pt\"\n viewBox=\"0.00 0.00 1500.00 1101.00\" xmlns=\"http://www.w3.org/2000/svg\" xmlns:xlink=\"http://www.w3.org/1999/xlink\">\n<g id=\"graph0\" class=\"graph\" transform=\"scale(1 1) rotate(0) translate(4 1097)\">\n<title>Tree</title>\n<polygon fill=\"#ffffff\" stroke=\"transparent\" points=\"-4,4 -4,-1097 1496,-1097 1496,4 -4,4\"/>\n<!-- 0 -->\n<g id=\"node1\" class=\"node\">\n<title>0</title>\n<path fill=\"#e89152\" stroke=\"#000000\" d=\"M1250,-1093C1250,-1093 1111,-1093 1111,-1093 1105,-1093 1099,-1087 1099,-1081 1099,-1081 1099,-1037 1099,-1037 1099,-1031 1105,-1025 1111,-1025 1111,-1025 1250,-1025 1250,-1025 1256,-1025 1262,-1031 1262,-1037 1262,-1037 1262,-1081 1262,-1081 1262,-1087 1256,-1093 1250,-1093\"/>\n<text text-anchor=\"start\" x=\"1146\" y=\"-1077.8\" font-family=\"Helvetica,sans-Serif\" font-size=\"14.00\" fill=\"#000000\">FIRE ≤ 0.5</text>\n<text text-anchor=\"start\" x=\"1107\" y=\"-1062.8\" font-family=\"Helvetica,sans-Serif\" font-size=\"14.00\" fill=\"#000000\">mse = 421866286.599</text>\n<text text-anchor=\"start\" x=\"1124.5\" y=\"-1047.8\" font-family=\"Helvetica,sans-Serif\" font-size=\"14.00\" fill=\"#000000\">samples = 19820</text>\n<text text-anchor=\"start\" x=\"1124\" y=\"-1032.8\" font-family=\"Helvetica,sans-Serif\" font-size=\"14.00\" fill=\"#000000\">value = 87452.73</text>\n</g>\n<!-- 1 -->\n<g id=\"node2\" class=\"node\">\n<title>1</title>\n<path fill=\"#e99558\" stroke=\"#000000\" d=\"M1160,-989C1160,-989 1021,-989 1021,-989 1015,-989 1009,-983 1009,-977 1009,-977 1009,-933 1009,-933 1009,-927 1015,-921 1021,-921 1021,-921 1160,-921 1160,-921 1166,-921 1172,-927 1172,-933 1172,-933 1172,-977 1172,-977 1172,-983 1166,-989 1160,-989\"/>\n<text text-anchor=\"start\" x=\"1046\" y=\"-973.8\" font-family=\"Helvetica,sans-Serif\" font-size=\"14.00\" fill=\"#000000\">POLICE ≤ 0.5</text>\n<text text-anchor=\"start\" x=\"1017\" y=\"-958.8\" font-family=\"Helvetica,sans-Serif\" font-size=\"14.00\" fill=\"#000000\">mse = 391030848.543</text>\n<text text-anchor=\"start\" x=\"1034.5\" y=\"-943.8\" font-family=\"Helvetica,sans-Serif\" font-size=\"14.00\" fill=\"#000000\">samples = 15975</text>\n<text text-anchor=\"start\" x=\"1030\" y=\"-928.8\" font-family=\"Helvetica,sans-Serif\" font-size=\"14.00\" fill=\"#000000\">value = 84958.583</text>\n</g>\n<!-- 0&#45;&gt;1 -->\n<g id=\"edge1\" class=\"edge\">\n<title>0&#45;&gt;1</title>\n<path fill=\"none\" stroke=\"#000000\" d=\"M1151.0306,-1024.9465C1143.2607,-1015.968 1134.7868,-1006.1758 1126.7064,-996.8385\"/>\n<polygon fill=\"#000000\" stroke=\"#000000\" points=\"1129.226,-994.4014 1120.0356,-989.13 1123.9328,-998.982 1129.226,-994.4014\"/>\n<text text-anchor=\"middle\" x=\"1118.2361\" y=\"-1010.3652\" font-family=\"Helvetica,sans-Serif\" font-size=\"14.00\" fill=\"#000000\">True</text>\n</g>\n<!-- 22 -->\n<g id=\"node23\" class=\"node\">\n<title>22</title>\n<path fill=\"#e5813a\" stroke=\"#000000\" d=\"M1341,-989C1341,-989 1202,-989 1202,-989 1196,-989 1190,-983 1190,-977 1190,-977 1190,-933 1190,-933 1190,-927 1196,-921 1202,-921 1202,-921 1341,-921 1341,-921 1347,-921 1353,-927 1353,-933 1353,-933 1353,-977 1353,-977 1353,-983 1347,-989 1341,-989\"/>\n<text text-anchor=\"start\" x=\"1248.5\" y=\"-973.8\" font-family=\"Helvetica,sans-Serif\" font-size=\"14.00\" fill=\"#000000\">P ≤ 0.5</text>\n<text text-anchor=\"start\" x=\"1198\" y=\"-958.8\" font-family=\"Helvetica,sans-Serif\" font-size=\"14.00\" fill=\"#000000\">mse = 416751516.642</text>\n<text text-anchor=\"start\" x=\"1219.5\" y=\"-943.8\" font-family=\"Helvetica,sans-Serif\" font-size=\"14.00\" fill=\"#000000\">samples = 3845</text>\n<text text-anchor=\"start\" x=\"1211\" y=\"-928.8\" font-family=\"Helvetica,sans-Serif\" font-size=\"14.00\" fill=\"#000000\">value = 97815.281</text>\n</g>\n<!-- 0&#45;&gt;22 -->\n<g id=\"edge22\" class=\"edge\">\n<title>0&#45;&gt;22</title>\n<path fill=\"none\" stroke=\"#000000\" d=\"M1210.2968,-1024.9465C1218.153,-1015.968 1226.7212,-1006.1758 1234.8913,-996.8385\"/>\n<polygon fill=\"#000000\" stroke=\"#000000\" points=\"1237.6852,-998.9606 1241.6363,-989.13 1232.4171,-994.351 1237.6852,-998.9606\"/>\n<text text-anchor=\"middle\" x=\"1243.2992\" y=\"-1010.3746\" font-family=\"Helvetica,sans-Serif\" font-size=\"14.00\" fill=\"#000000\">False</text>\n</g>\n<!-- 2 -->\n<g id=\"node3\" class=\"node\">\n<title>2</title>\n<path fill=\"#eb9c64\" stroke=\"#000000\" d=\"M979,-885C979,-885 840,-885 840,-885 834,-885 828,-879 828,-873 828,-873 828,-829 828,-829 828,-823 834,-817 840,-817 840,-817 979,-817 979,-817 985,-817 991,-823 991,-829 991,-829 991,-873 991,-873 991,-879 985,-885 979,-885\"/>\n<text text-anchor=\"start\" x=\"841\" y=\"-869.8\" font-family=\"Helvetica,sans-Serif\" font-size=\"14.00\" fill=\"#000000\">CITY COUNCIL ≤ 0.5</text>\n<text text-anchor=\"start\" x=\"836\" y=\"-854.8\" font-family=\"Helvetica,sans-Serif\" font-size=\"14.00\" fill=\"#000000\">mse = 568058661.101</text>\n<text text-anchor=\"start\" x=\"857.5\" y=\"-839.8\" font-family=\"Helvetica,sans-Serif\" font-size=\"14.00\" fill=\"#000000\">samples = 5646</text>\n<text text-anchor=\"start\" x=\"849\" y=\"-824.8\" font-family=\"Helvetica,sans-Serif\" font-size=\"14.00\" fill=\"#000000\">value = 79800.079</text>\n</g>\n<!-- 1&#45;&gt;2 -->\n<g id=\"edge2\" class=\"edge\">\n<title>1&#45;&gt;2</title>\n<path fill=\"none\" stroke=\"#000000\" d=\"M1031.2338,-920.9465C1014.2014,-911.1599 995.4866,-900.4066 977.9483,-890.3294\"/>\n<polygon fill=\"#000000\" stroke=\"#000000\" points=\"979.3137,-887.0773 968.8993,-885.13 975.8262,-893.1468 979.3137,-887.0773\"/>\n</g>\n<!-- 21 -->\n<g id=\"node22\" class=\"node\">\n<title>21</title>\n<path fill=\"#e89051\" stroke=\"#000000\" d=\"M1160,-877.5C1160,-877.5 1021,-877.5 1021,-877.5 1015,-877.5 1009,-871.5 1009,-865.5 1009,-865.5 1009,-836.5 1009,-836.5 1009,-830.5 1015,-824.5 1021,-824.5 1021,-824.5 1160,-824.5 1160,-824.5 1166,-824.5 1172,-830.5 1172,-836.5 1172,-836.5 1172,-865.5 1172,-865.5 1172,-871.5 1166,-877.5 1160,-877.5\"/>\n<text text-anchor=\"start\" x=\"1017\" y=\"-862.3\" font-family=\"Helvetica,sans-Serif\" font-size=\"14.00\" fill=\"#000000\">mse = 271768173.525</text>\n<text text-anchor=\"start\" x=\"1034.5\" y=\"-847.3\" font-family=\"Helvetica,sans-Serif\" font-size=\"14.00\" fill=\"#000000\">samples = 10329</text>\n<text text-anchor=\"start\" x=\"1030\" y=\"-832.3\" font-family=\"Helvetica,sans-Serif\" font-size=\"14.00\" fill=\"#000000\">value = 87778.305</text>\n</g>\n<!-- 1&#45;&gt;21 -->\n<g id=\"edge21\" class=\"edge\">\n<title>1&#45;&gt;21</title>\n<path fill=\"none\" stroke=\"#000000\" d=\"M1090.5,-920.9465C1090.5,-910.2621 1090.5,-898.4254 1090.5,-887.5742\"/>\n<polygon fill=\"#000000\" stroke=\"#000000\" points=\"1094.0001,-887.5421 1090.5,-877.5422 1087.0001,-887.5422 1094.0001,-887.5421\"/>\n</g>\n<!-- 3 -->\n<g id=\"node4\" class=\"node\">\n<title>3</title>\n<path fill=\"#ea9b62\" stroke=\"#000000\" d=\"M891,-781C891,-781 752,-781 752,-781 746,-781 740,-775 740,-769 740,-769 740,-725 740,-725 740,-719 746,-713 752,-713 752,-713 891,-713 891,-713 897,-713 903,-719 903,-725 903,-725 903,-769 903,-769 903,-775 897,-781 891,-781\"/>\n<text text-anchor=\"start\" x=\"764.5\" y=\"-765.8\" font-family=\"Helvetica,sans-Serif\" font-size=\"14.00\" fill=\"#000000\">BUILDINGS ≤ 0.5</text>\n<text text-anchor=\"start\" x=\"748\" y=\"-750.8\" font-family=\"Helvetica,sans-Serif\" font-size=\"14.00\" fill=\"#000000\">mse = 545714634.693</text>\n<text text-anchor=\"start\" x=\"769.5\" y=\"-735.8\" font-family=\"Helvetica,sans-Serif\" font-size=\"14.00\" fill=\"#000000\">samples = 5376</text>\n<text text-anchor=\"start\" x=\"761\" y=\"-720.8\" font-family=\"Helvetica,sans-Serif\" font-size=\"14.00\" fill=\"#000000\">value = 80634.855</text>\n</g>\n<!-- 2&#45;&gt;3 -->\n<g id=\"edge3\" class=\"edge\">\n<title>2&#45;&gt;3</title>\n<path fill=\"none\" stroke=\"#000000\" d=\"M880.6855,-816.9465C873.0883,-807.968 864.8026,-798.1758 856.9018,-788.8385\"/>\n<polygon fill=\"#000000\" stroke=\"#000000\" points=\"859.5105,-786.5031 850.3792,-781.13 854.1668,-791.0247 859.5105,-786.5031\"/>\n</g>\n<!-- 18 -->\n<g id=\"node19\" class=\"node\">\n<title>18</title>\n<path fill=\"#f0b58b\" stroke=\"#000000\" d=\"M1064,-781C1064,-781 933,-781 933,-781 927,-781 921,-775 921,-769 921,-769 921,-725 921,-725 921,-719 927,-713 933,-713 933,-713 1064,-713 1064,-713 1070,-713 1076,-719 1076,-725 1076,-725 1076,-769 1076,-769 1076,-775 1070,-781 1064,-781\"/>\n<text text-anchor=\"start\" x=\"975.5\" y=\"-765.8\" font-family=\"Helvetica,sans-Serif\" font-size=\"14.00\" fill=\"#000000\">P ≤ 0.5</text>\n<text text-anchor=\"start\" x=\"929\" y=\"-750.8\" font-family=\"Helvetica,sans-Serif\" font-size=\"14.00\" fill=\"#000000\">mse = 722810087.33</text>\n<text text-anchor=\"start\" x=\"950.5\" y=\"-735.8\" font-family=\"Helvetica,sans-Serif\" font-size=\"14.00\" fill=\"#000000\">samples = 270</text>\n<text text-anchor=\"start\" x=\"942\" y=\"-720.8\" font-family=\"Helvetica,sans-Serif\" font-size=\"14.00\" fill=\"#000000\">value = 63178.77</text>\n</g>\n<!-- 2&#45;&gt;18 -->\n<g id=\"edge18\" class=\"edge\">\n<title>2&#45;&gt;18</title>\n<path fill=\"none\" stroke=\"#000000\" d=\"M938.6419,-816.9465C946.3255,-807.968 954.7053,-798.1758 962.6959,-788.8385\"/>\n<polygon fill=\"#000000\" stroke=\"#000000\" points=\"965.4499,-791.0034 969.2926,-781.13 960.1315,-786.4521 965.4499,-791.0034\"/>\n</g>\n<!-- 4 -->\n<g id=\"node5\" class=\"node\">\n<title>4</title>\n<path fill=\"#eb9c64\" stroke=\"#000000\" d=\"M713.5,-677C713.5,-677 533.5,-677 533.5,-677 527.5,-677 521.5,-671 521.5,-665 521.5,-665 521.5,-621 521.5,-621 521.5,-615 527.5,-609 533.5,-609 533.5,-609 713.5,-609 713.5,-609 719.5,-609 725.5,-615 725.5,-621 725.5,-621 725.5,-665 725.5,-665 725.5,-671 719.5,-677 713.5,-677\"/>\n<text text-anchor=\"start\" x=\"529.5\" y=\"-661.8\" font-family=\"Helvetica,sans-Serif\" font-size=\"14.00\" fill=\"#000000\">BOARD OF ELECTION ≤ 0.5</text>\n<text text-anchor=\"start\" x=\"550\" y=\"-646.8\" font-family=\"Helvetica,sans-Serif\" font-size=\"14.00\" fill=\"#000000\">mse = 543194901.778</text>\n<text text-anchor=\"start\" x=\"571.5\" y=\"-631.8\" font-family=\"Helvetica,sans-Serif\" font-size=\"14.00\" fill=\"#000000\">samples = 5163</text>\n<text text-anchor=\"start\" x=\"563\" y=\"-616.8\" font-family=\"Helvetica,sans-Serif\" font-size=\"14.00\" fill=\"#000000\">value = 79915.706</text>\n</g>\n<!-- 3&#45;&gt;4 -->\n<g id=\"edge4\" class=\"edge\">\n<title>3&#45;&gt;4</title>\n<path fill=\"none\" stroke=\"#000000\" d=\"M756.6674,-712.9465C737.7788,-703.0252 716.9988,-692.1105 697.5858,-681.9138\"/>\n<polygon fill=\"#000000\" stroke=\"#000000\" points=\"698.9589,-678.6816 688.4783,-677.13 695.7038,-684.8787 698.9589,-678.6816\"/>\n</g>\n<!-- 17 -->\n<g id=\"node18\" class=\"node\">\n<title>17</title>\n<path fill=\"#e58139\" stroke=\"#000000\" d=\"M887,-669.5C887,-669.5 756,-669.5 756,-669.5 750,-669.5 744,-663.5 744,-657.5 744,-657.5 744,-628.5 744,-628.5 744,-622.5 750,-616.5 756,-616.5 756,-616.5 887,-616.5 887,-616.5 893,-616.5 899,-622.5 899,-628.5 899,-628.5 899,-657.5 899,-657.5 899,-663.5 893,-669.5 887,-669.5\"/>\n<text text-anchor=\"start\" x=\"752\" y=\"-654.3\" font-family=\"Helvetica,sans-Serif\" font-size=\"14.00\" fill=\"#000000\">mse = 290389148.96</text>\n<text text-anchor=\"start\" x=\"773.5\" y=\"-639.3\" font-family=\"Helvetica,sans-Serif\" font-size=\"14.00\" fill=\"#000000\">samples = 213</text>\n<text text-anchor=\"start\" x=\"761\" y=\"-624.3\" font-family=\"Helvetica,sans-Serif\" font-size=\"14.00\" fill=\"#000000\">value = 98066.617</text>\n</g>\n<!-- 3&#45;&gt;17 -->\n<g id=\"edge17\" class=\"edge\">\n<title>3&#45;&gt;17</title>\n<path fill=\"none\" stroke=\"#000000\" d=\"M821.5,-712.9465C821.5,-702.2621 821.5,-690.4254 821.5,-679.5742\"/>\n<polygon fill=\"#000000\" stroke=\"#000000\" points=\"825.0001,-679.5421 821.5,-669.5422 818.0001,-679.5422 825.0001,-679.5421\"/>\n</g>\n<!-- 5 -->\n<g id=\"node6\" class=\"node\">\n<title>5</title>\n<path fill=\"#ea9c63\" stroke=\"#000000\" d=\"M604.5,-573C604.5,-573 458.5,-573 458.5,-573 452.5,-573 446.5,-567 446.5,-561 446.5,-561 446.5,-517 446.5,-517 446.5,-511 452.5,-505 458.5,-505 458.5,-505 604.5,-505 604.5,-505 610.5,-505 616.5,-511 616.5,-517 616.5,-517 616.5,-561 616.5,-561 616.5,-567 610.5,-573 604.5,-573\"/>\n<text text-anchor=\"start\" x=\"454.5\" y=\"-557.8\" font-family=\"Helvetica,sans-Serif\" font-size=\"14.00\" fill=\"#000000\">PUBLIC LIBRARY ≤ 0.5</text>\n<text text-anchor=\"start\" x=\"458\" y=\"-542.8\" font-family=\"Helvetica,sans-Serif\" font-size=\"14.00\" fill=\"#000000\">mse = 529881650.097</text>\n<text text-anchor=\"start\" x=\"479.5\" y=\"-527.8\" font-family=\"Helvetica,sans-Serif\" font-size=\"14.00\" fill=\"#000000\">samples = 5074</text>\n<text text-anchor=\"start\" x=\"471\" y=\"-512.8\" font-family=\"Helvetica,sans-Serif\" font-size=\"14.00\" fill=\"#000000\">value = 80355.026</text>\n</g>\n<!-- 4&#45;&gt;5 -->\n<g id=\"edge5\" class=\"edge\">\n<title>4&#45;&gt;5</title>\n<path fill=\"none\" stroke=\"#000000\" d=\"M593.3758,-608.9465C585.4332,-599.968 576.7709,-590.1758 568.511,-580.8385\"/>\n<polygon fill=\"#000000\" stroke=\"#000000\" points=\"570.9392,-578.301 561.6919,-573.13 565.6962,-582.939 570.9392,-578.301\"/>\n</g>\n<!-- 16 -->\n<g id=\"node17\" class=\"node\">\n<title>16</title>\n<path fill=\"#f2c29f\" stroke=\"#000000\" d=\"M786,-565.5C786,-565.5 647,-565.5 647,-565.5 641,-565.5 635,-559.5 635,-553.5 635,-553.5 635,-524.5 635,-524.5 635,-518.5 641,-512.5 647,-512.5 647,-512.5 786,-512.5 786,-512.5 792,-512.5 798,-518.5 798,-524.5 798,-524.5 798,-553.5 798,-553.5 798,-559.5 792,-565.5 786,-565.5\"/>\n<text text-anchor=\"start\" x=\"643\" y=\"-550.3\" font-family=\"Helvetica,sans-Serif\" font-size=\"14.00\" fill=\"#000000\">mse = 663885536.541</text>\n<text text-anchor=\"start\" x=\"672.5\" y=\"-535.3\" font-family=\"Helvetica,sans-Serif\" font-size=\"14.00\" fill=\"#000000\">samples = 89</text>\n<text text-anchor=\"start\" x=\"656\" y=\"-520.3\" font-family=\"Helvetica,sans-Serif\" font-size=\"14.00\" fill=\"#000000\">value = 54869.528</text>\n</g>\n<!-- 4&#45;&gt;16 -->\n<g id=\"edge16\" class=\"edge\">\n<title>4&#45;&gt;16</title>\n<path fill=\"none\" stroke=\"#000000\" d=\"M653.9517,-608.9465C664.1955,-597.491 675.6238,-584.711 685.8805,-573.2412\"/>\n<polygon fill=\"#000000\" stroke=\"#000000\" points=\"688.7083,-575.3295 692.7652,-565.5422 683.4903,-570.6634 688.7083,-575.3295\"/>\n</g>\n<!-- 6 -->\n<g id=\"node7\" class=\"node\">\n<title>6</title>\n<path fill=\"#ea9a60\" stroke=\"#000000\" d=\"M513,-469C513,-469 374,-469 374,-469 368,-469 362,-463 362,-457 362,-457 362,-413 362,-413 362,-407 368,-401 374,-401 374,-401 513,-401 513,-401 519,-401 525,-407 525,-413 525,-413 525,-457 525,-457 525,-463 519,-469 513,-469\"/>\n<text text-anchor=\"start\" x=\"404\" y=\"-453.8\" font-family=\"Helvetica,sans-Serif\" font-size=\"14.00\" fill=\"#000000\">OEMC ≤ 0.5</text>\n<text text-anchor=\"start\" x=\"370\" y=\"-438.8\" font-family=\"Helvetica,sans-Serif\" font-size=\"14.00\" fill=\"#000000\">mse = 534065508.575</text>\n<text text-anchor=\"start\" x=\"391.5\" y=\"-423.8\" font-family=\"Helvetica,sans-Serif\" font-size=\"14.00\" fill=\"#000000\">samples = 4515</text>\n<text text-anchor=\"start\" x=\"383\" y=\"-408.8\" font-family=\"Helvetica,sans-Serif\" font-size=\"14.00\" fill=\"#000000\">value = 81466.797</text>\n</g>\n<!-- 5&#45;&gt;6 -->\n<g id=\"edge6\" class=\"edge\">\n<title>5&#45;&gt;6</title>\n<path fill=\"none\" stroke=\"#000000\" d=\"M502.6855,-504.9465C495.0883,-495.968 486.8026,-486.1758 478.9018,-476.8385\"/>\n<polygon fill=\"#000000\" stroke=\"#000000\" points=\"481.5105,-474.5031 472.3792,-469.13 476.1668,-479.0247 481.5105,-474.5031\"/>\n</g>\n<!-- 15 -->\n<g id=\"node16\" class=\"node\">\n<title>15</title>\n<path fill=\"#eda978\" stroke=\"#000000\" d=\"M686,-461.5C686,-461.5 555,-461.5 555,-461.5 549,-461.5 543,-455.5 543,-449.5 543,-449.5 543,-420.5 543,-420.5 543,-414.5 549,-408.5 555,-408.5 555,-408.5 686,-408.5 686,-408.5 692,-408.5 698,-414.5 698,-420.5 698,-420.5 698,-449.5 698,-449.5 698,-455.5 692,-461.5 686,-461.5\"/>\n<text text-anchor=\"start\" x=\"551\" y=\"-446.3\" font-family=\"Helvetica,sans-Serif\" font-size=\"14.00\" fill=\"#000000\">mse = 405470730.92</text>\n<text text-anchor=\"start\" x=\"572.5\" y=\"-431.3\" font-family=\"Helvetica,sans-Serif\" font-size=\"14.00\" fill=\"#000000\">samples = 559</text>\n<text text-anchor=\"start\" x=\"560\" y=\"-416.3\" font-family=\"Helvetica,sans-Serif\" font-size=\"14.00\" fill=\"#000000\">value = 71375.335</text>\n</g>\n<!-- 5&#45;&gt;15 -->\n<g id=\"edge15\" class=\"edge\">\n<title>5&#45;&gt;15</title>\n<path fill=\"none\" stroke=\"#000000\" d=\"M560.6419,-504.9465C570.4452,-493.491 581.3819,-480.711 591.1975,-469.2412\"/>\n<polygon fill=\"#000000\" stroke=\"#000000\" points=\"593.9433,-471.4156 597.786,-461.5422 588.6249,-466.8642 593.9433,-471.4156\"/>\n</g>\n<!-- 7 -->\n<g id=\"node8\" class=\"node\">\n<title>7</title>\n<path fill=\"#ea985d\" stroke=\"#000000\" d=\"M423,-365C423,-365 284,-365 284,-365 278,-365 272,-359 272,-353 272,-353 272,-309 272,-309 272,-303 278,-297 284,-297 284,-297 423,-297 423,-297 429,-297 435,-303 435,-309 435,-309 435,-353 435,-353 435,-359 429,-365 423,-365\"/>\n<text text-anchor=\"start\" x=\"303.5\" y=\"-349.8\" font-family=\"Helvetica,sans-Serif\" font-size=\"14.00\" fill=\"#000000\">FINANCE ≤ 0.5</text>\n<text text-anchor=\"start\" x=\"280\" y=\"-334.8\" font-family=\"Helvetica,sans-Serif\" font-size=\"14.00\" fill=\"#000000\">mse = 548103958.449</text>\n<text text-anchor=\"start\" x=\"301.5\" y=\"-319.8\" font-family=\"Helvetica,sans-Serif\" font-size=\"14.00\" fill=\"#000000\">samples = 3841</text>\n<text text-anchor=\"start\" x=\"293\" y=\"-304.8\" font-family=\"Helvetica,sans-Serif\" font-size=\"14.00\" fill=\"#000000\">value = 82917.955</text>\n</g>\n<!-- 6&#45;&gt;7 -->\n<g id=\"edge7\" class=\"edge\">\n<title>6&#45;&gt;7</title>\n<path fill=\"none\" stroke=\"#000000\" d=\"M414.0306,-400.9465C406.2607,-391.968 397.7868,-382.1758 389.7064,-372.8385\"/>\n<polygon fill=\"#000000\" stroke=\"#000000\" points=\"392.226,-370.4014 383.0356,-365.13 386.9328,-374.982 392.226,-370.4014\"/>\n</g>\n<!-- 14 -->\n<g id=\"node15\" class=\"node\">\n<title>14</title>\n<path fill=\"#eda674\" stroke=\"#000000\" d=\"M604,-357.5C604,-357.5 465,-357.5 465,-357.5 459,-357.5 453,-351.5 453,-345.5 453,-345.5 453,-316.5 453,-316.5 453,-310.5 459,-304.5 465,-304.5 465,-304.5 604,-304.5 604,-304.5 610,-304.5 616,-310.5 616,-316.5 616,-316.5 616,-345.5 616,-345.5 616,-351.5 610,-357.5 604,-357.5\"/>\n<text text-anchor=\"start\" x=\"461\" y=\"-342.3\" font-family=\"Helvetica,sans-Serif\" font-size=\"14.00\" fill=\"#000000\">mse = 373671222.565</text>\n<text text-anchor=\"start\" x=\"486.5\" y=\"-327.3\" font-family=\"Helvetica,sans-Serif\" font-size=\"14.00\" fill=\"#000000\">samples = 674</text>\n<text text-anchor=\"start\" x=\"474\" y=\"-312.3\" font-family=\"Helvetica,sans-Serif\" font-size=\"14.00\" fill=\"#000000\">value = 73196.919</text>\n</g>\n<!-- 6&#45;&gt;14 -->\n<g id=\"edge14\" class=\"edge\">\n<title>6&#45;&gt;14</title>\n<path fill=\"none\" stroke=\"#000000\" d=\"M473.2968,-400.9465C483.3204,-389.491 494.5028,-376.711 504.539,-365.2412\"/>\n<polygon fill=\"#000000\" stroke=\"#000000\" points=\"507.3246,-367.3727 511.2756,-357.5422 502.0565,-362.7632 507.3246,-367.3727\"/>\n</g>\n<!-- 8 -->\n<g id=\"node9\" class=\"node\">\n<title>8</title>\n<path fill=\"#e9965a\" stroke=\"#000000\" d=\"M333,-261C333,-261 194,-261 194,-261 188,-261 182,-255 182,-249 182,-249 182,-205 182,-205 182,-199 188,-193 194,-193 194,-193 333,-193 333,-193 339,-193 345,-199 345,-205 345,-205 345,-249 345,-249 345,-255 339,-261 333,-261\"/>\n<text text-anchor=\"start\" x=\"212.5\" y=\"-245.8\" font-family=\"Helvetica,sans-Serif\" font-size=\"14.00\" fill=\"#000000\">AVIATION ≤ 0.5</text>\n<text text-anchor=\"start\" x=\"190\" y=\"-230.8\" font-family=\"Helvetica,sans-Serif\" font-size=\"14.00\" fill=\"#000000\">mse = 528939494.217</text>\n<text text-anchor=\"start\" x=\"211.5\" y=\"-215.8\" font-family=\"Helvetica,sans-Serif\" font-size=\"14.00\" fill=\"#000000\">samples = 3416</text>\n<text text-anchor=\"start\" x=\"203\" y=\"-200.8\" font-family=\"Helvetica,sans-Serif\" font-size=\"14.00\" fill=\"#000000\">value = 84211.559</text>\n</g>\n<!-- 7&#45;&gt;8 -->\n<g id=\"edge8\" class=\"edge\">\n<title>7&#45;&gt;8</title>\n<path fill=\"none\" stroke=\"#000000\" d=\"M324.0306,-296.9465C316.2607,-287.968 307.7868,-278.1758 299.7064,-268.8385\"/>\n<polygon fill=\"#000000\" stroke=\"#000000\" points=\"302.226,-266.4014 293.0356,-261.13 296.9328,-270.982 302.226,-266.4014\"/>\n</g>\n<!-- 13 -->\n<g id=\"node14\" class=\"node\">\n<title>13</title>\n<path fill=\"#eda775\" stroke=\"#000000\" d=\"M514,-253.5C514,-253.5 375,-253.5 375,-253.5 369,-253.5 363,-247.5 363,-241.5 363,-241.5 363,-212.5 363,-212.5 363,-206.5 369,-200.5 375,-200.5 375,-200.5 514,-200.5 514,-200.5 520,-200.5 526,-206.5 526,-212.5 526,-212.5 526,-241.5 526,-241.5 526,-247.5 520,-253.5 514,-253.5\"/>\n<text text-anchor=\"start\" x=\"371\" y=\"-238.3\" font-family=\"Helvetica,sans-Serif\" font-size=\"14.00\" fill=\"#000000\">mse = 580582100.879</text>\n<text text-anchor=\"start\" x=\"396.5\" y=\"-223.3\" font-family=\"Helvetica,sans-Serif\" font-size=\"14.00\" fill=\"#000000\">samples = 425</text>\n<text text-anchor=\"start\" x=\"384\" y=\"-208.3\" font-family=\"Helvetica,sans-Serif\" font-size=\"14.00\" fill=\"#000000\">value = 72520.419</text>\n</g>\n<!-- 7&#45;&gt;13 -->\n<g id=\"edge13\" class=\"edge\">\n<title>7&#45;&gt;13</title>\n<path fill=\"none\" stroke=\"#000000\" d=\"M383.2968,-296.9465C393.3204,-285.491 404.5028,-272.711 414.539,-261.2412\"/>\n<polygon fill=\"#000000\" stroke=\"#000000\" points=\"417.3246,-263.3727 421.2756,-253.5422 412.0565,-258.7632 417.3246,-263.3727\"/>\n</g>\n<!-- 9 -->\n<g id=\"node10\" class=\"node\">\n<title>9</title>\n<path fill=\"#e99457\" stroke=\"#000000\" d=\"M243.5,-157C243.5,-157 99.5,-157 99.5,-157 93.5,-157 87.5,-151 87.5,-145 87.5,-145 87.5,-101 87.5,-101 87.5,-95 93.5,-89 99.5,-89 99.5,-89 243.5,-89 243.5,-89 249.5,-89 255.5,-95 255.5,-101 255.5,-101 255.5,-145 255.5,-145 255.5,-151 249.5,-157 243.5,-157\"/>\n<text text-anchor=\"start\" x=\"95.5\" y=\"-141.8\" font-family=\"Helvetica,sans-Serif\" font-size=\"14.00\" fill=\"#000000\">ANIMAL CONTRL ≤ 0.5</text>\n<text text-anchor=\"start\" x=\"102\" y=\"-126.8\" font-family=\"Helvetica,sans-Serif\" font-size=\"14.00\" fill=\"#000000\">mse = 512409764.54</text>\n<text text-anchor=\"start\" x=\"119.5\" y=\"-111.8\" font-family=\"Helvetica,sans-Serif\" font-size=\"14.00\" fill=\"#000000\">samples = 2973</text>\n<text text-anchor=\"start\" x=\"111\" y=\"-96.8\" font-family=\"Helvetica,sans-Serif\" font-size=\"14.00\" fill=\"#000000\">value = 85341.702</text>\n</g>\n<!-- 8&#45;&gt;9 -->\n<g id=\"edge9\" class=\"edge\">\n<title>8&#45;&gt;9</title>\n<path fill=\"none\" stroke=\"#000000\" d=\"M233.3758,-192.9465C225.4332,-183.968 216.7709,-174.1758 208.511,-164.8385\"/>\n<polygon fill=\"#000000\" stroke=\"#000000\" points=\"210.9392,-162.301 201.6919,-157.13 205.6962,-166.939 210.9392,-162.301\"/>\n</g>\n<!-- 12 -->\n<g id=\"node13\" class=\"node\">\n<title>12</title>\n<path fill=\"#eca16b\" stroke=\"#000000\" d=\"M425,-149.5C425,-149.5 286,-149.5 286,-149.5 280,-149.5 274,-143.5 274,-137.5 274,-137.5 274,-108.5 274,-108.5 274,-102.5 280,-96.5 286,-96.5 286,-96.5 425,-96.5 425,-96.5 431,-96.5 437,-102.5 437,-108.5 437,-108.5 437,-137.5 437,-137.5 437,-143.5 431,-149.5 425,-149.5\"/>\n<text text-anchor=\"start\" x=\"282\" y=\"-134.3\" font-family=\"Helvetica,sans-Serif\" font-size=\"14.00\" fill=\"#000000\">mse = 573776091.368</text>\n<text text-anchor=\"start\" x=\"307.5\" y=\"-119.3\" font-family=\"Helvetica,sans-Serif\" font-size=\"14.00\" fill=\"#000000\">samples = 443</text>\n<text text-anchor=\"start\" x=\"295\" y=\"-104.3\" font-family=\"Helvetica,sans-Serif\" font-size=\"14.00\" fill=\"#000000\">value = 76627.107</text>\n</g>\n<!-- 8&#45;&gt;12 -->\n<g id=\"edge12\" class=\"edge\">\n<title>8&#45;&gt;12</title>\n<path fill=\"none\" stroke=\"#000000\" d=\"M293.6242,-192.9465C303.758,-181.491 315.0633,-168.711 325.2097,-157.2412\"/>\n<polygon fill=\"#000000\" stroke=\"#000000\" points=\"328.0161,-159.3512 332.0204,-149.5422 322.7731,-154.7131 328.0161,-159.3512\"/>\n</g>\n<!-- 10 -->\n<g id=\"node11\" class=\"node\">\n<title>10</title>\n<path fill=\"#e99456\" stroke=\"#000000\" d=\"M151,-53C151,-53 12,-53 12,-53 6,-53 0,-47 0,-41 0,-41 0,-12 0,-12 0,-6 6,0 12,0 12,0 151,0 151,0 157,0 163,-6 163,-12 163,-12 163,-41 163,-41 163,-47 157,-53 151,-53\"/>\n<text text-anchor=\"start\" x=\"8\" y=\"-37.8\" font-family=\"Helvetica,sans-Serif\" font-size=\"14.00\" fill=\"#000000\">mse = 508950858.785</text>\n<text text-anchor=\"start\" x=\"29.5\" y=\"-22.8\" font-family=\"Helvetica,sans-Serif\" font-size=\"14.00\" fill=\"#000000\">samples = 2922</text>\n<text text-anchor=\"start\" x=\"21\" y=\"-7.8\" font-family=\"Helvetica,sans-Serif\" font-size=\"14.00\" fill=\"#000000\">value = 85680.971</text>\n</g>\n<!-- 9&#45;&gt;10 -->\n<g id=\"edge10\" class=\"edge\">\n<title>9&#45;&gt;10</title>\n<path fill=\"none\" stroke=\"#000000\" d=\"M139.7694,-88.9777C131.2292,-79.8207 121.9887,-69.9129 113.4374,-60.744\"/>\n<polygon fill=\"#000000\" stroke=\"#000000\" points=\"115.8269,-58.1744 106.4468,-53.2485 110.7077,-62.9488 115.8269,-58.1744\"/>\n</g>\n<!-- 11 -->\n<g id=\"node12\" class=\"node\">\n<title>11</title>\n<path fill=\"#efb185\" stroke=\"#000000\" d=\"M332,-53C332,-53 193,-53 193,-53 187,-53 181,-47 181,-41 181,-41 181,-12 181,-12 181,-6 187,0 193,0 193,0 332,0 332,0 338,0 344,-6 344,-12 344,-12 344,-41 344,-41 344,-47 338,-53 332,-53\"/>\n<text text-anchor=\"start\" x=\"189\" y=\"-37.8\" font-family=\"Helvetica,sans-Serif\" font-size=\"14.00\" fill=\"#000000\">mse = 326147395.543</text>\n<text text-anchor=\"start\" x=\"218.5\" y=\"-22.8\" font-family=\"Helvetica,sans-Serif\" font-size=\"14.00\" fill=\"#000000\">samples = 51</text>\n<text text-anchor=\"start\" x=\"202\" y=\"-7.8\" font-family=\"Helvetica,sans-Serif\" font-size=\"14.00\" fill=\"#000000\">value = 65903.529</text>\n</g>\n<!-- 9&#45;&gt;11 -->\n<g id=\"edge11\" class=\"edge\">\n<title>9&#45;&gt;11</title>\n<path fill=\"none\" stroke=\"#000000\" d=\"M203.5832,-88.9777C212.2183,-79.8207 221.5614,-69.9129 230.2078,-60.744\"/>\n<polygon fill=\"#000000\" stroke=\"#000000\" points=\"232.9617,-62.9251 237.276,-53.2485 227.8689,-58.1226 232.9617,-62.9251\"/>\n</g>\n<!-- 19 -->\n<g id=\"node20\" class=\"node\">\n<title>19</title>\n<path fill=\"#f0b48a\" stroke=\"#000000\" d=\"M1068,-669.5C1068,-669.5 929,-669.5 929,-669.5 923,-669.5 917,-663.5 917,-657.5 917,-657.5 917,-628.5 917,-628.5 917,-622.5 923,-616.5 929,-616.5 929,-616.5 1068,-616.5 1068,-616.5 1074,-616.5 1080,-622.5 1080,-628.5 1080,-628.5 1080,-657.5 1080,-657.5 1080,-663.5 1074,-669.5 1068,-669.5\"/>\n<text text-anchor=\"start\" x=\"925\" y=\"-654.3\" font-family=\"Helvetica,sans-Serif\" font-size=\"14.00\" fill=\"#000000\">mse = 703204042.646</text>\n<text text-anchor=\"start\" x=\"950.5\" y=\"-639.3\" font-family=\"Helvetica,sans-Serif\" font-size=\"14.00\" fill=\"#000000\">samples = 267</text>\n<text text-anchor=\"start\" x=\"938\" y=\"-624.3\" font-family=\"Helvetica,sans-Serif\" font-size=\"14.00\" fill=\"#000000\">value = 63732.352</text>\n</g>\n<!-- 18&#45;&gt;19 -->\n<g id=\"edge19\" class=\"edge\">\n<title>18&#45;&gt;19</title>\n<path fill=\"none\" stroke=\"#000000\" d=\"M998.5,-712.9465C998.5,-702.2621 998.5,-690.4254 998.5,-679.5742\"/>\n<polygon fill=\"#000000\" stroke=\"#000000\" points=\"1002.0001,-679.5421 998.5,-669.5422 995.0001,-679.5422 1002.0001,-679.5421\"/>\n</g>\n<!-- 20 -->\n<g id=\"node21\" class=\"node\">\n<title>20</title>\n<path fill=\"#ffffff\" stroke=\"#000000\" d=\"M1224.5,-669.5C1224.5,-669.5 1110.5,-669.5 1110.5,-669.5 1104.5,-669.5 1098.5,-663.5 1098.5,-657.5 1098.5,-657.5 1098.5,-628.5 1098.5,-628.5 1098.5,-622.5 1104.5,-616.5 1110.5,-616.5 1110.5,-616.5 1224.5,-616.5 1224.5,-616.5 1230.5,-616.5 1236.5,-622.5 1236.5,-628.5 1236.5,-628.5 1236.5,-657.5 1236.5,-657.5 1236.5,-663.5 1230.5,-669.5 1224.5,-669.5\"/>\n<text text-anchor=\"start\" x=\"1106.5\" y=\"-654.3\" font-family=\"Helvetica,sans-Serif\" font-size=\"14.00\" fill=\"#000000\">mse = 13062056.0</text>\n<text text-anchor=\"start\" x=\"1128\" y=\"-639.3\" font-family=\"Helvetica,sans-Serif\" font-size=\"14.00\" fill=\"#000000\">samples = 3</text>\n<text text-anchor=\"start\" x=\"1115\" y=\"-624.3\" font-family=\"Helvetica,sans-Serif\" font-size=\"14.00\" fill=\"#000000\">value = 13910.0</text>\n</g>\n<!-- 18&#45;&gt;20 -->\n<g id=\"edge20\" class=\"edge\">\n<title>18&#45;&gt;20</title>\n<path fill=\"none\" stroke=\"#000000\" d=\"M1053.8369,-712.9465C1073.7051,-700.72 1096.0249,-686.9847 1115.5914,-674.9437\"/>\n<polygon fill=\"#000000\" stroke=\"#000000\" points=\"1117.6867,-677.764 1124.369,-669.5422 1114.018,-671.8024 1117.6867,-677.764\"/>\n</g>\n<!-- 23 -->\n<g id=\"node24\" class=\"node\">\n<title>23</title>\n<path fill=\"#e5813a\" stroke=\"#000000\" d=\"M1341,-877.5C1341,-877.5 1202,-877.5 1202,-877.5 1196,-877.5 1190,-871.5 1190,-865.5 1190,-865.5 1190,-836.5 1190,-836.5 1190,-830.5 1196,-824.5 1202,-824.5 1202,-824.5 1341,-824.5 1341,-824.5 1347,-824.5 1353,-830.5 1353,-836.5 1353,-836.5 1353,-865.5 1353,-865.5 1353,-871.5 1347,-877.5 1341,-877.5\"/>\n<text text-anchor=\"start\" x=\"1198\" y=\"-862.3\" font-family=\"Helvetica,sans-Serif\" font-size=\"14.00\" fill=\"#000000\">mse = 416411536.608</text>\n<text text-anchor=\"start\" x=\"1219.5\" y=\"-847.3\" font-family=\"Helvetica,sans-Serif\" font-size=\"14.00\" fill=\"#000000\">samples = 3844</text>\n<text text-anchor=\"start\" x=\"1215\" y=\"-832.3\" font-family=\"Helvetica,sans-Serif\" font-size=\"14.00\" fill=\"#000000\">value = 97826.08</text>\n</g>\n<!-- 22&#45;&gt;23 -->\n<g id=\"edge23\" class=\"edge\">\n<title>22&#45;&gt;23</title>\n<path fill=\"none\" stroke=\"#000000\" d=\"M1271.5,-920.9465C1271.5,-910.2621 1271.5,-898.4254 1271.5,-887.5742\"/>\n<polygon fill=\"#000000\" stroke=\"#000000\" points=\"1275.0001,-887.5421 1271.5,-877.5422 1268.0001,-887.5422 1275.0001,-887.5421\"/>\n</g>\n<!-- 24 -->\n<g id=\"node25\" class=\"node\">\n<title>24</title>\n<path fill=\"#f2c09b\" stroke=\"#000000\" d=\"M1480,-877.5C1480,-877.5 1383,-877.5 1383,-877.5 1377,-877.5 1371,-871.5 1371,-865.5 1371,-865.5 1371,-836.5 1371,-836.5 1371,-830.5 1377,-824.5 1383,-824.5 1383,-824.5 1480,-824.5 1480,-824.5 1486,-824.5 1492,-830.5 1492,-836.5 1492,-836.5 1492,-865.5 1492,-865.5 1492,-871.5 1486,-877.5 1480,-877.5\"/>\n<text text-anchor=\"start\" x=\"1399.5\" y=\"-862.3\" font-family=\"Helvetica,sans-Serif\" font-size=\"14.00\" fill=\"#000000\">mse = 0.0</text>\n<text text-anchor=\"start\" x=\"1392\" y=\"-847.3\" font-family=\"Helvetica,sans-Serif\" font-size=\"14.00\" fill=\"#000000\">samples = 1</text>\n<text text-anchor=\"start\" x=\"1379\" y=\"-832.3\" font-family=\"Helvetica,sans-Serif\" font-size=\"14.00\" fill=\"#000000\">value = 56304.0</text>\n</g>\n<!-- 22&#45;&gt;24 -->\n<g id=\"edge24\" class=\"edge\">\n<title>22&#45;&gt;24</title>\n<path fill=\"none\" stroke=\"#000000\" d=\"M1323.89,-920.9465C1342.6153,-908.775 1363.641,-895.1084 1382.1053,-883.1066\"/>\n<polygon fill=\"#000000\" stroke=\"#000000\" points=\"1384.1889,-885.9267 1390.6659,-877.5422 1380.374,-880.0575 1384.1889,-885.9267\"/>\n</g>\n</g>\n</svg>\n"
          },
          "metadata": {
            "tags": []
          },
          "execution_count": 26
        }
      ]
    },
    {
      "cell_type": "code",
      "metadata": {
        "id": "APiJlRhIcSjf"
      },
      "source": [
        ""
      ],
      "execution_count": 12,
      "outputs": []
    }
  ]
}