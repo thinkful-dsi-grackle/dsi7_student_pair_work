{
  "nbformat": 4,
  "nbformat_minor": 0,
  "metadata": {
    "kernelspec": {
      "display_name": "Python 3",
      "language": "python",
      "name": "python3"
    },
    "language_info": {
      "codemirror_mode": {
        "name": "ipython",
        "version": 3
      },
      "file_extension": ".py",
      "mimetype": "text/x-python",
      "name": "python",
      "nbconvert_exporter": "python",
      "pygments_lexer": "ipython3",
      "version": "3.7.0"
    },
    "colab": {
      "name": "kristof_cate_assignment_1.ipynb",
      "provenance": [],
      "collapsed_sections": []
    }
  },
  "cells": [
    {
      "cell_type": "markdown",
      "metadata": {
        "id": "VqUtIOgdcSjK"
      },
      "source": [
        "## Day 29 Lecture 1 Assignment\n",
        "\n",
        "In this assignment, we will learn about decision trees. We will use the Chicago salary dataset loaded below."
      ]
    },
    {
      "cell_type": "code",
      "metadata": {
        "id": "JOsKrr-kcSjL"
      },
      "source": [
        "%matplotlib inline\n",
        "\n",
        "import matplotlib.pyplot as plt\n",
        "import numpy as np\n",
        "import pandas as pd\n",
        "from sklearn.model_selection import train_test_split\n",
        "from pydotplus import graph_from_dot_data\n",
        "from sklearn.tree import DecisionTreeRegressor, export_graphviz\n",
        "from IPython.display import Image"
      ],
      "execution_count": 70,
      "outputs": []
    },
    {
      "cell_type": "code",
      "metadata": {
        "id": "2vSkCX1rcSjN"
      },
      "source": [
        "chicago = pd.read_csv('https://tf-assets-prod.s3.amazonaws.com/tf-curric/data-science/Current_Employee_Names__Salaries__and_Position_Titles.csv')"
      ],
      "execution_count": 25,
      "outputs": []
    },
    {
      "cell_type": "code",
      "metadata": {
        "id": "PoyrvgWqcSjP",
        "outputId": "54aa5d51-4966-4807-8ea4-fdf253b7442d",
        "colab": {
          "base_uri": "https://localhost:8080/",
          "height": 297
        }
      },
      "source": [
        "chicago.head()"
      ],
      "execution_count": 26,
      "outputs": [
        {
          "output_type": "execute_result",
          "data": {
            "text/html": [
              "<div>\n",
              "<style scoped>\n",
              "    .dataframe tbody tr th:only-of-type {\n",
              "        vertical-align: middle;\n",
              "    }\n",
              "\n",
              "    .dataframe tbody tr th {\n",
              "        vertical-align: top;\n",
              "    }\n",
              "\n",
              "    .dataframe thead th {\n",
              "        text-align: right;\n",
              "    }\n",
              "</style>\n",
              "<table border=\"1\" class=\"dataframe\">\n",
              "  <thead>\n",
              "    <tr style=\"text-align: right;\">\n",
              "      <th></th>\n",
              "      <th>Name</th>\n",
              "      <th>Job Titles</th>\n",
              "      <th>Department</th>\n",
              "      <th>Full or Part-Time</th>\n",
              "      <th>Salary or Hourly</th>\n",
              "      <th>Typical Hours</th>\n",
              "      <th>Annual Salary</th>\n",
              "      <th>Hourly Rate</th>\n",
              "    </tr>\n",
              "  </thead>\n",
              "  <tbody>\n",
              "    <tr>\n",
              "      <th>0</th>\n",
              "      <td>ALLISON,  PAUL W</td>\n",
              "      <td>LIEUTENANT</td>\n",
              "      <td>FIRE</td>\n",
              "      <td>F</td>\n",
              "      <td>Salary</td>\n",
              "      <td>NaN</td>\n",
              "      <td>$107790.00</td>\n",
              "      <td>NaN</td>\n",
              "    </tr>\n",
              "    <tr>\n",
              "      <th>1</th>\n",
              "      <td>BRUNO,  KEVIN D</td>\n",
              "      <td>SERGEANT</td>\n",
              "      <td>POLICE</td>\n",
              "      <td>F</td>\n",
              "      <td>Salary</td>\n",
              "      <td>NaN</td>\n",
              "      <td>$104628.00</td>\n",
              "      <td>NaN</td>\n",
              "    </tr>\n",
              "    <tr>\n",
              "      <th>2</th>\n",
              "      <td>COOPER,  JOHN E</td>\n",
              "      <td>LIEUTENANT-EMT</td>\n",
              "      <td>FIRE</td>\n",
              "      <td>F</td>\n",
              "      <td>Salary</td>\n",
              "      <td>NaN</td>\n",
              "      <td>$114324.00</td>\n",
              "      <td>NaN</td>\n",
              "    </tr>\n",
              "    <tr>\n",
              "      <th>3</th>\n",
              "      <td>CRESPO,  VILMA I</td>\n",
              "      <td>STAFF ASST</td>\n",
              "      <td>LAW</td>\n",
              "      <td>F</td>\n",
              "      <td>Salary</td>\n",
              "      <td>NaN</td>\n",
              "      <td>$76932.00</td>\n",
              "      <td>NaN</td>\n",
              "    </tr>\n",
              "    <tr>\n",
              "      <th>4</th>\n",
              "      <td>DOLAN,  ROBERT J</td>\n",
              "      <td>SERGEANT</td>\n",
              "      <td>POLICE</td>\n",
              "      <td>F</td>\n",
              "      <td>Salary</td>\n",
              "      <td>NaN</td>\n",
              "      <td>$111474.00</td>\n",
              "      <td>NaN</td>\n",
              "    </tr>\n",
              "  </tbody>\n",
              "</table>\n",
              "</div>"
            ],
            "text/plain": [
              "               Name      Job Titles  ... Annual Salary Hourly Rate\n",
              "0  ALLISON,  PAUL W      LIEUTENANT  ...    $107790.00         NaN\n",
              "1   BRUNO,  KEVIN D        SERGEANT  ...    $104628.00         NaN\n",
              "2   COOPER,  JOHN E  LIEUTENANT-EMT  ...    $114324.00         NaN\n",
              "3  CRESPO,  VILMA I      STAFF ASST  ...     $76932.00         NaN\n",
              "4  DOLAN,  ROBERT J        SERGEANT  ...    $111474.00         NaN\n",
              "\n",
              "[5 rows x 8 columns]"
            ]
          },
          "metadata": {
            "tags": []
          },
          "execution_count": 26
        }
      ]
    },
    {
      "cell_type": "markdown",
      "metadata": {
        "id": "Yvk4IgCocSjQ"
      },
      "source": [
        "To simplify this problem, we will limit our model to only salary employees. Create a new dataset that does not contain any hourly employees."
      ]
    },
    {
      "cell_type": "code",
      "metadata": {
        "id": "X8mndXF2cSjR",
        "outputId": "5a7d656b-663b-4f90-be42-8c4e1f22c9b1",
        "colab": {
          "base_uri": "https://localhost:8080/",
          "height": 297
        }
      },
      "source": [
        "# creating new dataset with just salaried employees\n",
        "sal = chicago.loc[(chicago['Salary or Hourly'] == 'Salary')]\n",
        "sal.head()"
      ],
      "execution_count": 27,
      "outputs": [
        {
          "output_type": "execute_result",
          "data": {
            "text/html": [
              "<div>\n",
              "<style scoped>\n",
              "    .dataframe tbody tr th:only-of-type {\n",
              "        vertical-align: middle;\n",
              "    }\n",
              "\n",
              "    .dataframe tbody tr th {\n",
              "        vertical-align: top;\n",
              "    }\n",
              "\n",
              "    .dataframe thead th {\n",
              "        text-align: right;\n",
              "    }\n",
              "</style>\n",
              "<table border=\"1\" class=\"dataframe\">\n",
              "  <thead>\n",
              "    <tr style=\"text-align: right;\">\n",
              "      <th></th>\n",
              "      <th>Name</th>\n",
              "      <th>Job Titles</th>\n",
              "      <th>Department</th>\n",
              "      <th>Full or Part-Time</th>\n",
              "      <th>Salary or Hourly</th>\n",
              "      <th>Typical Hours</th>\n",
              "      <th>Annual Salary</th>\n",
              "      <th>Hourly Rate</th>\n",
              "    </tr>\n",
              "  </thead>\n",
              "  <tbody>\n",
              "    <tr>\n",
              "      <th>0</th>\n",
              "      <td>ALLISON,  PAUL W</td>\n",
              "      <td>LIEUTENANT</td>\n",
              "      <td>FIRE</td>\n",
              "      <td>F</td>\n",
              "      <td>Salary</td>\n",
              "      <td>NaN</td>\n",
              "      <td>$107790.00</td>\n",
              "      <td>NaN</td>\n",
              "    </tr>\n",
              "    <tr>\n",
              "      <th>1</th>\n",
              "      <td>BRUNO,  KEVIN D</td>\n",
              "      <td>SERGEANT</td>\n",
              "      <td>POLICE</td>\n",
              "      <td>F</td>\n",
              "      <td>Salary</td>\n",
              "      <td>NaN</td>\n",
              "      <td>$104628.00</td>\n",
              "      <td>NaN</td>\n",
              "    </tr>\n",
              "    <tr>\n",
              "      <th>2</th>\n",
              "      <td>COOPER,  JOHN E</td>\n",
              "      <td>LIEUTENANT-EMT</td>\n",
              "      <td>FIRE</td>\n",
              "      <td>F</td>\n",
              "      <td>Salary</td>\n",
              "      <td>NaN</td>\n",
              "      <td>$114324.00</td>\n",
              "      <td>NaN</td>\n",
              "    </tr>\n",
              "    <tr>\n",
              "      <th>3</th>\n",
              "      <td>CRESPO,  VILMA I</td>\n",
              "      <td>STAFF ASST</td>\n",
              "      <td>LAW</td>\n",
              "      <td>F</td>\n",
              "      <td>Salary</td>\n",
              "      <td>NaN</td>\n",
              "      <td>$76932.00</td>\n",
              "      <td>NaN</td>\n",
              "    </tr>\n",
              "    <tr>\n",
              "      <th>4</th>\n",
              "      <td>DOLAN,  ROBERT J</td>\n",
              "      <td>SERGEANT</td>\n",
              "      <td>POLICE</td>\n",
              "      <td>F</td>\n",
              "      <td>Salary</td>\n",
              "      <td>NaN</td>\n",
              "      <td>$111474.00</td>\n",
              "      <td>NaN</td>\n",
              "    </tr>\n",
              "  </tbody>\n",
              "</table>\n",
              "</div>"
            ],
            "text/plain": [
              "               Name      Job Titles  ... Annual Salary Hourly Rate\n",
              "0  ALLISON,  PAUL W      LIEUTENANT  ...    $107790.00         NaN\n",
              "1   BRUNO,  KEVIN D        SERGEANT  ...    $104628.00         NaN\n",
              "2   COOPER,  JOHN E  LIEUTENANT-EMT  ...    $114324.00         NaN\n",
              "3  CRESPO,  VILMA I      STAFF ASST  ...     $76932.00         NaN\n",
              "4  DOLAN,  ROBERT J        SERGEANT  ...    $111474.00         NaN\n",
              "\n",
              "[5 rows x 8 columns]"
            ]
          },
          "metadata": {
            "tags": []
          },
          "execution_count": 27
        }
      ]
    },
    {
      "cell_type": "markdown",
      "metadata": {
        "id": "IjEAhiyfcSjT"
      },
      "source": [
        "Next, we will look at the count of all values for both job titles and department to ensure that we don't use features that are too sparse in our model."
      ]
    },
    {
      "cell_type": "code",
      "metadata": {
        "id": "RSpn997lcSjT",
        "outputId": "f09898f5-8f14-4864-f1fb-8f01a1ca322d",
        "colab": {
          "base_uri": "https://localhost:8080/",
          "height": 905
        }
      },
      "source": [
        "# looking at values for job titles and dept\n",
        "# sal[['Department', 'Job Titles']].value_counts()\n",
        "sal['Department'].nunique()\n",
        "# sal['Job Titles'].nunique()\n",
        "sal.info()"
      ],
      "execution_count": 50,
      "outputs": [
        {
          "output_type": "stream",
          "text": [
            "<class 'pandas.core.frame.DataFrame'>\n",
            "Int64Index: 24775 entries, 0 to 32657\n",
            "Data columns (total 43 columns):\n",
            " #   Column                            Non-Null Count  Dtype  \n",
            "---  ------                            --------------  -----  \n",
            " 0   Name                              24775 non-null  object \n",
            " 1   Job Titles                        24775 non-null  object \n",
            " 2   Department                        24775 non-null  object \n",
            " 3   Full or Part-Time                 24775 non-null  object \n",
            " 4   Salary or Hourly                  24775 non-null  object \n",
            " 5   Typical Hours                     0 non-null      float64\n",
            " 6   Annual Salary                     24775 non-null  object \n",
            " 7   Hourly Rate                       0 non-null      object \n",
            " 8   department_ANIMAL CONTRL          24775 non-null  uint8  \n",
            " 9   department_AVIATION               24775 non-null  uint8  \n",
            " 10  department_BOARD OF ELECTION      24775 non-null  uint8  \n",
            " 11  department_BOARD OF ETHICS        24775 non-null  uint8  \n",
            " 12  department_BUDGET & MGMT          24775 non-null  uint8  \n",
            " 13  department_BUILDINGS              24775 non-null  uint8  \n",
            " 14  department_BUSINESS AFFAIRS       24775 non-null  uint8  \n",
            " 15  department_CITY CLERK             24775 non-null  uint8  \n",
            " 16  department_CITY COUNCIL           24775 non-null  uint8  \n",
            " 17  department_COMMUNITY DEVELOPMENT  24775 non-null  uint8  \n",
            " 18  department_COPA                   24775 non-null  uint8  \n",
            " 19  department_CULTURAL AFFAIRS       24775 non-null  uint8  \n",
            " 20  department_DISABILITIES           24775 non-null  uint8  \n",
            " 21  department_DoIT                   24775 non-null  uint8  \n",
            " 22  department_FAMILY & SUPPORT       24775 non-null  uint8  \n",
            " 23  department_FINANCE                24775 non-null  uint8  \n",
            " 24  department_FIRE                   24775 non-null  uint8  \n",
            " 25  department_GENERAL SERVICES       24775 non-null  uint8  \n",
            " 26  department_HEALTH                 24775 non-null  uint8  \n",
            " 27  department_HUMAN RELATIONS        24775 non-null  uint8  \n",
            " 28  department_HUMAN RESOURCES        24775 non-null  uint8  \n",
            " 29  department_INSPECTOR GEN          24775 non-null  uint8  \n",
            " 30  department_IPRA                   24775 non-null  uint8  \n",
            " 31  department_LAW                    24775 non-null  uint8  \n",
            " 32  department_LICENSE APPL COMM      24775 non-null  uint8  \n",
            " 33  department_MAYOR'S OFFICE         24775 non-null  uint8  \n",
            " 34  department_OEMC                   24775 non-null  uint8  \n",
            " 35  department_POLICE                 24775 non-null  uint8  \n",
            " 36  department_POLICE BOARD           24775 non-null  uint8  \n",
            " 37  department_PROCUREMENT            24775 non-null  uint8  \n",
            " 38  department_PUBLIC LIBRARY         24775 non-null  uint8  \n",
            " 39  department_STREETS & SAN          24775 non-null  uint8  \n",
            " 40  department_TRANSPORTN             24775 non-null  uint8  \n",
            " 41  department_TREASURER              24775 non-null  uint8  \n",
            " 42  department_WATER MGMNT            24775 non-null  uint8  \n",
            "dtypes: float64(1), object(7), uint8(35)\n",
            "memory usage: 2.5+ MB\n"
          ],
          "name": "stdout"
        }
      ]
    },
    {
      "cell_type": "markdown",
      "metadata": {
        "id": "S8wwWbE5cSjV"
      },
      "source": [
        "Choose the between department and job title and use the variable with the smallest number of values to for one hot encoding. Additionally, create dummy variables for full ot part-time."
      ]
    },
    {
      "cell_type": "code",
      "metadata": {
        "id": "1Y017CXqcSjV",
        "outputId": "3a0066e7-b9ab-46f0-8b0d-ed60b2a8aa1c",
        "colab": {
          "base_uri": "https://localhost:8080/",
          "height": 234
        }
      },
      "source": [
        "# answer below:\n",
        "dummies = pd.get_dummies(sal['Department'], prefix='department', drop_first=True)\n",
        "dummies.head()"
      ],
      "execution_count": 37,
      "outputs": [
        {
          "output_type": "execute_result",
          "data": {
            "text/html": [
              "<div>\n",
              "<style scoped>\n",
              "    .dataframe tbody tr th:only-of-type {\n",
              "        vertical-align: middle;\n",
              "    }\n",
              "\n",
              "    .dataframe tbody tr th {\n",
              "        vertical-align: top;\n",
              "    }\n",
              "\n",
              "    .dataframe thead th {\n",
              "        text-align: right;\n",
              "    }\n",
              "</style>\n",
              "<table border=\"1\" class=\"dataframe\">\n",
              "  <thead>\n",
              "    <tr style=\"text-align: right;\">\n",
              "      <th></th>\n",
              "      <th>department_ANIMAL CONTRL</th>\n",
              "      <th>department_AVIATION</th>\n",
              "      <th>department_BOARD OF ELECTION</th>\n",
              "      <th>department_BOARD OF ETHICS</th>\n",
              "      <th>department_BUDGET &amp; MGMT</th>\n",
              "      <th>department_BUILDINGS</th>\n",
              "      <th>department_BUSINESS AFFAIRS</th>\n",
              "      <th>department_CITY CLERK</th>\n",
              "      <th>department_CITY COUNCIL</th>\n",
              "      <th>department_COMMUNITY DEVELOPMENT</th>\n",
              "      <th>department_COPA</th>\n",
              "      <th>department_CULTURAL AFFAIRS</th>\n",
              "      <th>department_DISABILITIES</th>\n",
              "      <th>department_DoIT</th>\n",
              "      <th>department_FAMILY &amp; SUPPORT</th>\n",
              "      <th>department_FINANCE</th>\n",
              "      <th>department_FIRE</th>\n",
              "      <th>department_GENERAL SERVICES</th>\n",
              "      <th>department_HEALTH</th>\n",
              "      <th>department_HUMAN RELATIONS</th>\n",
              "      <th>department_HUMAN RESOURCES</th>\n",
              "      <th>department_INSPECTOR GEN</th>\n",
              "      <th>department_IPRA</th>\n",
              "      <th>department_LAW</th>\n",
              "      <th>department_LICENSE APPL COMM</th>\n",
              "      <th>department_MAYOR'S OFFICE</th>\n",
              "      <th>department_OEMC</th>\n",
              "      <th>department_POLICE</th>\n",
              "      <th>department_POLICE BOARD</th>\n",
              "      <th>department_PROCUREMENT</th>\n",
              "      <th>department_PUBLIC LIBRARY</th>\n",
              "      <th>department_STREETS &amp; SAN</th>\n",
              "      <th>department_TRANSPORTN</th>\n",
              "      <th>department_TREASURER</th>\n",
              "      <th>department_WATER MGMNT</th>\n",
              "    </tr>\n",
              "  </thead>\n",
              "  <tbody>\n",
              "    <tr>\n",
              "      <th>0</th>\n",
              "      <td>0</td>\n",
              "      <td>0</td>\n",
              "      <td>0</td>\n",
              "      <td>0</td>\n",
              "      <td>0</td>\n",
              "      <td>0</td>\n",
              "      <td>0</td>\n",
              "      <td>0</td>\n",
              "      <td>0</td>\n",
              "      <td>0</td>\n",
              "      <td>0</td>\n",
              "      <td>0</td>\n",
              "      <td>0</td>\n",
              "      <td>0</td>\n",
              "      <td>0</td>\n",
              "      <td>0</td>\n",
              "      <td>1</td>\n",
              "      <td>0</td>\n",
              "      <td>0</td>\n",
              "      <td>0</td>\n",
              "      <td>0</td>\n",
              "      <td>0</td>\n",
              "      <td>0</td>\n",
              "      <td>0</td>\n",
              "      <td>0</td>\n",
              "      <td>0</td>\n",
              "      <td>0</td>\n",
              "      <td>0</td>\n",
              "      <td>0</td>\n",
              "      <td>0</td>\n",
              "      <td>0</td>\n",
              "      <td>0</td>\n",
              "      <td>0</td>\n",
              "      <td>0</td>\n",
              "      <td>0</td>\n",
              "    </tr>\n",
              "    <tr>\n",
              "      <th>1</th>\n",
              "      <td>0</td>\n",
              "      <td>0</td>\n",
              "      <td>0</td>\n",
              "      <td>0</td>\n",
              "      <td>0</td>\n",
              "      <td>0</td>\n",
              "      <td>0</td>\n",
              "      <td>0</td>\n",
              "      <td>0</td>\n",
              "      <td>0</td>\n",
              "      <td>0</td>\n",
              "      <td>0</td>\n",
              "      <td>0</td>\n",
              "      <td>0</td>\n",
              "      <td>0</td>\n",
              "      <td>0</td>\n",
              "      <td>0</td>\n",
              "      <td>0</td>\n",
              "      <td>0</td>\n",
              "      <td>0</td>\n",
              "      <td>0</td>\n",
              "      <td>0</td>\n",
              "      <td>0</td>\n",
              "      <td>0</td>\n",
              "      <td>0</td>\n",
              "      <td>0</td>\n",
              "      <td>0</td>\n",
              "      <td>1</td>\n",
              "      <td>0</td>\n",
              "      <td>0</td>\n",
              "      <td>0</td>\n",
              "      <td>0</td>\n",
              "      <td>0</td>\n",
              "      <td>0</td>\n",
              "      <td>0</td>\n",
              "    </tr>\n",
              "    <tr>\n",
              "      <th>2</th>\n",
              "      <td>0</td>\n",
              "      <td>0</td>\n",
              "      <td>0</td>\n",
              "      <td>0</td>\n",
              "      <td>0</td>\n",
              "      <td>0</td>\n",
              "      <td>0</td>\n",
              "      <td>0</td>\n",
              "      <td>0</td>\n",
              "      <td>0</td>\n",
              "      <td>0</td>\n",
              "      <td>0</td>\n",
              "      <td>0</td>\n",
              "      <td>0</td>\n",
              "      <td>0</td>\n",
              "      <td>0</td>\n",
              "      <td>1</td>\n",
              "      <td>0</td>\n",
              "      <td>0</td>\n",
              "      <td>0</td>\n",
              "      <td>0</td>\n",
              "      <td>0</td>\n",
              "      <td>0</td>\n",
              "      <td>0</td>\n",
              "      <td>0</td>\n",
              "      <td>0</td>\n",
              "      <td>0</td>\n",
              "      <td>0</td>\n",
              "      <td>0</td>\n",
              "      <td>0</td>\n",
              "      <td>0</td>\n",
              "      <td>0</td>\n",
              "      <td>0</td>\n",
              "      <td>0</td>\n",
              "      <td>0</td>\n",
              "    </tr>\n",
              "    <tr>\n",
              "      <th>3</th>\n",
              "      <td>0</td>\n",
              "      <td>0</td>\n",
              "      <td>0</td>\n",
              "      <td>0</td>\n",
              "      <td>0</td>\n",
              "      <td>0</td>\n",
              "      <td>0</td>\n",
              "      <td>0</td>\n",
              "      <td>0</td>\n",
              "      <td>0</td>\n",
              "      <td>0</td>\n",
              "      <td>0</td>\n",
              "      <td>0</td>\n",
              "      <td>0</td>\n",
              "      <td>0</td>\n",
              "      <td>0</td>\n",
              "      <td>0</td>\n",
              "      <td>0</td>\n",
              "      <td>0</td>\n",
              "      <td>0</td>\n",
              "      <td>0</td>\n",
              "      <td>0</td>\n",
              "      <td>0</td>\n",
              "      <td>1</td>\n",
              "      <td>0</td>\n",
              "      <td>0</td>\n",
              "      <td>0</td>\n",
              "      <td>0</td>\n",
              "      <td>0</td>\n",
              "      <td>0</td>\n",
              "      <td>0</td>\n",
              "      <td>0</td>\n",
              "      <td>0</td>\n",
              "      <td>0</td>\n",
              "      <td>0</td>\n",
              "    </tr>\n",
              "    <tr>\n",
              "      <th>4</th>\n",
              "      <td>0</td>\n",
              "      <td>0</td>\n",
              "      <td>0</td>\n",
              "      <td>0</td>\n",
              "      <td>0</td>\n",
              "      <td>0</td>\n",
              "      <td>0</td>\n",
              "      <td>0</td>\n",
              "      <td>0</td>\n",
              "      <td>0</td>\n",
              "      <td>0</td>\n",
              "      <td>0</td>\n",
              "      <td>0</td>\n",
              "      <td>0</td>\n",
              "      <td>0</td>\n",
              "      <td>0</td>\n",
              "      <td>0</td>\n",
              "      <td>0</td>\n",
              "      <td>0</td>\n",
              "      <td>0</td>\n",
              "      <td>0</td>\n",
              "      <td>0</td>\n",
              "      <td>0</td>\n",
              "      <td>0</td>\n",
              "      <td>0</td>\n",
              "      <td>0</td>\n",
              "      <td>0</td>\n",
              "      <td>1</td>\n",
              "      <td>0</td>\n",
              "      <td>0</td>\n",
              "      <td>0</td>\n",
              "      <td>0</td>\n",
              "      <td>0</td>\n",
              "      <td>0</td>\n",
              "      <td>0</td>\n",
              "    </tr>\n",
              "  </tbody>\n",
              "</table>\n",
              "</div>"
            ],
            "text/plain": [
              "   department_ANIMAL CONTRL  ...  department_WATER MGMNT\n",
              "0                         0  ...                       0\n",
              "1                         0  ...                       0\n",
              "2                         0  ...                       0\n",
              "3                         0  ...                       0\n",
              "4                         0  ...                       0\n",
              "\n",
              "[5 rows x 35 columns]"
            ]
          },
          "metadata": {
            "tags": []
          },
          "execution_count": 37
        }
      ]
    },
    {
      "cell_type": "markdown",
      "metadata": {
        "id": "KH4kKrHVcSjX"
      },
      "source": [
        "Remove all irrelevant columns (Name, Job Titles, Salary or Hourly, Typical Hours, Hourly Rate)"
      ]
    },
    {
      "cell_type": "code",
      "metadata": {
        "id": "h-MaRcptcSjX",
        "outputId": "00431c97-a6b7-4f50-eddd-36bafab9e90f",
        "colab": {
          "base_uri": "https://localhost:8080/",
          "height": 197
        }
      },
      "source": [
        "# answer below:\n",
        "time = pd.get_dummies(sal['Full or Part-Time'], prefix='status', drop_first=True)\n",
        "time.head()"
      ],
      "execution_count": 39,
      "outputs": [
        {
          "output_type": "execute_result",
          "data": {
            "text/html": [
              "<div>\n",
              "<style scoped>\n",
              "    .dataframe tbody tr th:only-of-type {\n",
              "        vertical-align: middle;\n",
              "    }\n",
              "\n",
              "    .dataframe tbody tr th {\n",
              "        vertical-align: top;\n",
              "    }\n",
              "\n",
              "    .dataframe thead th {\n",
              "        text-align: right;\n",
              "    }\n",
              "</style>\n",
              "<table border=\"1\" class=\"dataframe\">\n",
              "  <thead>\n",
              "    <tr style=\"text-align: right;\">\n",
              "      <th></th>\n",
              "      <th>status_P</th>\n",
              "    </tr>\n",
              "  </thead>\n",
              "  <tbody>\n",
              "    <tr>\n",
              "      <th>0</th>\n",
              "      <td>0</td>\n",
              "    </tr>\n",
              "    <tr>\n",
              "      <th>1</th>\n",
              "      <td>0</td>\n",
              "    </tr>\n",
              "    <tr>\n",
              "      <th>2</th>\n",
              "      <td>0</td>\n",
              "    </tr>\n",
              "    <tr>\n",
              "      <th>3</th>\n",
              "      <td>0</td>\n",
              "    </tr>\n",
              "    <tr>\n",
              "      <th>4</th>\n",
              "      <td>0</td>\n",
              "    </tr>\n",
              "  </tbody>\n",
              "</table>\n",
              "</div>"
            ],
            "text/plain": [
              "   status_P\n",
              "0         0\n",
              "1         0\n",
              "2         0\n",
              "3         0\n",
              "4         0"
            ]
          },
          "metadata": {
            "tags": []
          },
          "execution_count": 39
        }
      ]
    },
    {
      "cell_type": "markdown",
      "metadata": {
        "id": "MttxKtdscSjZ"
      },
      "source": [
        "Check that none of the remaining columns are of object type and convert them to numeric if they are of object type."
      ]
    },
    {
      "cell_type": "code",
      "metadata": {
        "id": "W34P6H5KcSjZ"
      },
      "source": [
        "# answer below:\n",
        "dummies.info()"
      ],
      "execution_count": 43,
      "outputs": []
    },
    {
      "cell_type": "code",
      "metadata": {
        "id": "6tD3Ai3YcRmT",
        "outputId": "f04adbae-6f3d-4ceb-b889-845423af3bf8",
        "colab": {
          "base_uri": "https://localhost:8080/",
          "height": 230
        }
      },
      "source": [
        "sal['Annual Salary'] = sal['Annual Salary'].str.strip('$')\n",
        "sal['Annual Salary'] = pd.to_numeric(sal['Annual Salary'], errors='raise', downcast='integer')\n",
        "sal['Annual Salary']"
      ],
      "execution_count": 54,
      "outputs": [
        {
          "output_type": "execute_result",
          "data": {
            "text/plain": [
              "0        107790.0\n",
              "1        104628.0\n",
              "2        114324.0\n",
              "3         76932.0\n",
              "4        111474.0\n",
              "           ...   \n",
              "32653     90024.0\n",
              "32654     48078.0\n",
              "32655     87006.0\n",
              "32656     93354.0\n",
              "32657    115932.0\n",
              "Name: Annual Salary, Length: 24775, dtype: float64"
            ]
          },
          "metadata": {
            "tags": []
          },
          "execution_count": 54
        }
      ]
    },
    {
      "cell_type": "markdown",
      "metadata": {
        "id": "OrKDy_59cSjb"
      },
      "source": [
        "Split the data into a test and train sample. Use annual salary as the dependent variable. 20% of the data should be assigned to the test sample."
      ]
    },
    {
      "cell_type": "code",
      "metadata": {
        "id": "_s85YxVZcSjb"
      },
      "source": [
        "# answer below:\n",
        "X = pd.concat([dummies, time], axis=1)\n",
        "y = sal['Annual Salary']\n",
        "\n",
        "X_train, X_test, y_train, y_test = train_test_split(X, y, test_size=.2)"
      ],
      "execution_count": 55,
      "outputs": []
    },
    {
      "cell_type": "markdown",
      "metadata": {
        "id": "D_paBe77cSjd"
      },
      "source": [
        "Generate a regession decision tree using `DecisionTreeRegressor` in sklearn. Fit the model on the training set and calculate the score for both train and test."
      ]
    },
    {
      "cell_type": "code",
      "metadata": {
        "id": "oXb7C8dAJN2y",
        "outputId": "23fe34b4-0fa5-4e3b-a892-66f3e0a8059c",
        "colab": {
          "base_uri": "https://localhost:8080/",
          "height": 123
        }
      },
      "source": [
        "model = DecisionTreeRegressor(max_depth=30, min_samples_leaf=5)\n",
        "model.fit(X,y)"
      ],
      "execution_count": 64,
      "outputs": [
        {
          "output_type": "execute_result",
          "data": {
            "text/plain": [
              "DecisionTreeRegressor(ccp_alpha=0.0, criterion='mse', max_depth=30,\n",
              "                      max_features=None, max_leaf_nodes=None,\n",
              "                      min_impurity_decrease=0.0, min_impurity_split=None,\n",
              "                      min_samples_leaf=5, min_samples_split=2,\n",
              "                      min_weight_fraction_leaf=0.0, presort='deprecated',\n",
              "                      random_state=None, splitter='best')"
            ]
          },
          "metadata": {
            "tags": []
          },
          "execution_count": 64
        }
      ]
    },
    {
      "cell_type": "code",
      "metadata": {
        "id": "ndGQFJiNe767"
      },
      "source": [
        "y_preds_train = model.predict(X_train)\n",
        "y_preds_test = model.predict(X_test)"
      ],
      "execution_count": 65,
      "outputs": []
    },
    {
      "cell_type": "code",
      "metadata": {
        "id": "RJNMxbgQdSK1",
        "outputId": "e4861217-c326-4aa2-ec06-3e5635c585be",
        "colab": {
          "base_uri": "https://localhost:8080/",
          "height": 52
        }
      },
      "source": [
        "print(model.score(X_train, y_train))\n",
        "print(model.score(X_test, y_test))"
      ],
      "execution_count": 66,
      "outputs": [
        {
          "output_type": "stream",
          "text": [
            "0.1424404950631052\n",
            "0.15877735249349056\n"
          ],
          "name": "stdout"
        }
      ]
    },
    {
      "cell_type": "code",
      "metadata": {
        "id": "vYMuoGl2eocw",
        "outputId": "198e367c-3652-4c71-d09b-861d655c26df",
        "colab": {
          "base_uri": "https://localhost:8080/",
          "height": 52
        }
      },
      "source": [
        "from sklearn.metrics import mean_absolute_error\n",
        "print(mean_absolute_error(y_train, y_preds_train))\n",
        "print(mean_absolute_error(y_test, y_preds_test))"
      ],
      "execution_count": 67,
      "outputs": [
        {
          "output_type": "stream",
          "text": [
            "13543.586551720326\n",
            "13150.523676326671\n"
          ],
          "name": "stdout"
        }
      ]
    },
    {
      "cell_type": "code",
      "metadata": {
        "id": "APiJlRhIcSjf"
      },
      "source": [
        "import graphviz\n",
        "\n",
        "dot_data = model.export_graphviz(reg_tree, out_file=None, \n",
        "                     feature_names=X_train.columns,  \n",
        "                     filled=True, rounded=True,  \n",
        "                     special_characters=True)  \n",
        "graph = graphviz.Source(dot_data)  \n",
        "graph"
      ],
      "execution_count": 72,
      "outputs": []
    }
  ]
}