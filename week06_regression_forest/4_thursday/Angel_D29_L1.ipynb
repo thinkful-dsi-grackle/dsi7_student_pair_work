{
  "nbformat": 4,
  "nbformat_minor": 0,
  "metadata": {
    "kernelspec": {
      "display_name": "Python 3",
      "language": "python",
      "name": "python3"
    },
    "language_info": {
      "codemirror_mode": {
        "name": "ipython",
        "version": 3
      },
      "file_extension": ".py",
      "mimetype": "text/x-python",
      "name": "python",
      "nbconvert_exporter": "python",
      "pygments_lexer": "ipython3",
      "version": "3.7.0"
    },
    "colab": {
      "name": "Angel_D29_L1.ipynb",
      "provenance": [],
      "collapsed_sections": []
    }
  },
  "cells": [
    {
      "cell_type": "markdown",
      "metadata": {
        "id": "VqUtIOgdcSjK"
      },
      "source": [
        "## Day 29 Lecture 1 Assignment\n",
        "\n",
        "In this assignment, we will learn about decision trees. We will use the Chicago salary dataset loaded below."
      ]
    },
    {
      "cell_type": "code",
      "metadata": {
        "id": "JOsKrr-kcSjL"
      },
      "source": [
        "%matplotlib inline\n",
        "\n",
        "import matplotlib.pyplot as plt\n",
        "import numpy as np\n",
        "import pandas as pd"
      ],
      "execution_count": 1,
      "outputs": []
    },
    {
      "cell_type": "code",
      "metadata": {
        "id": "2vSkCX1rcSjN"
      },
      "source": [
        "chicago = pd.read_csv('https://tf-assets-prod.s3.amazonaws.com/tf-curric/data-science/Current_Employee_Names__Salaries__and_Position_Titles.csv')"
      ],
      "execution_count": 2,
      "outputs": []
    },
    {
      "cell_type": "code",
      "metadata": {
        "id": "PoyrvgWqcSjP",
        "outputId": "94f56e2b-a528-4416-9086-82e42d35427d",
        "colab": {
          "base_uri": "https://localhost:8080/",
          "height": 202
        }
      },
      "source": [
        "chicago.head()"
      ],
      "execution_count": 3,
      "outputs": [
        {
          "output_type": "execute_result",
          "data": {
            "text/html": [
              "<div>\n",
              "<style scoped>\n",
              "    .dataframe tbody tr th:only-of-type {\n",
              "        vertical-align: middle;\n",
              "    }\n",
              "\n",
              "    .dataframe tbody tr th {\n",
              "        vertical-align: top;\n",
              "    }\n",
              "\n",
              "    .dataframe thead th {\n",
              "        text-align: right;\n",
              "    }\n",
              "</style>\n",
              "<table border=\"1\" class=\"dataframe\">\n",
              "  <thead>\n",
              "    <tr style=\"text-align: right;\">\n",
              "      <th></th>\n",
              "      <th>Name</th>\n",
              "      <th>Job Titles</th>\n",
              "      <th>Department</th>\n",
              "      <th>Full or Part-Time</th>\n",
              "      <th>Salary or Hourly</th>\n",
              "      <th>Typical Hours</th>\n",
              "      <th>Annual Salary</th>\n",
              "      <th>Hourly Rate</th>\n",
              "    </tr>\n",
              "  </thead>\n",
              "  <tbody>\n",
              "    <tr>\n",
              "      <th>0</th>\n",
              "      <td>ALLISON,  PAUL W</td>\n",
              "      <td>LIEUTENANT</td>\n",
              "      <td>FIRE</td>\n",
              "      <td>F</td>\n",
              "      <td>Salary</td>\n",
              "      <td>NaN</td>\n",
              "      <td>$107790.00</td>\n",
              "      <td>NaN</td>\n",
              "    </tr>\n",
              "    <tr>\n",
              "      <th>1</th>\n",
              "      <td>BRUNO,  KEVIN D</td>\n",
              "      <td>SERGEANT</td>\n",
              "      <td>POLICE</td>\n",
              "      <td>F</td>\n",
              "      <td>Salary</td>\n",
              "      <td>NaN</td>\n",
              "      <td>$104628.00</td>\n",
              "      <td>NaN</td>\n",
              "    </tr>\n",
              "    <tr>\n",
              "      <th>2</th>\n",
              "      <td>COOPER,  JOHN E</td>\n",
              "      <td>LIEUTENANT-EMT</td>\n",
              "      <td>FIRE</td>\n",
              "      <td>F</td>\n",
              "      <td>Salary</td>\n",
              "      <td>NaN</td>\n",
              "      <td>$114324.00</td>\n",
              "      <td>NaN</td>\n",
              "    </tr>\n",
              "    <tr>\n",
              "      <th>3</th>\n",
              "      <td>CRESPO,  VILMA I</td>\n",
              "      <td>STAFF ASST</td>\n",
              "      <td>LAW</td>\n",
              "      <td>F</td>\n",
              "      <td>Salary</td>\n",
              "      <td>NaN</td>\n",
              "      <td>$76932.00</td>\n",
              "      <td>NaN</td>\n",
              "    </tr>\n",
              "    <tr>\n",
              "      <th>4</th>\n",
              "      <td>DOLAN,  ROBERT J</td>\n",
              "      <td>SERGEANT</td>\n",
              "      <td>POLICE</td>\n",
              "      <td>F</td>\n",
              "      <td>Salary</td>\n",
              "      <td>NaN</td>\n",
              "      <td>$111474.00</td>\n",
              "      <td>NaN</td>\n",
              "    </tr>\n",
              "  </tbody>\n",
              "</table>\n",
              "</div>"
            ],
            "text/plain": [
              "               Name      Job Titles  ... Annual Salary Hourly Rate\n",
              "0  ALLISON,  PAUL W      LIEUTENANT  ...    $107790.00         NaN\n",
              "1   BRUNO,  KEVIN D        SERGEANT  ...    $104628.00         NaN\n",
              "2   COOPER,  JOHN E  LIEUTENANT-EMT  ...    $114324.00         NaN\n",
              "3  CRESPO,  VILMA I      STAFF ASST  ...     $76932.00         NaN\n",
              "4  DOLAN,  ROBERT J        SERGEANT  ...    $111474.00         NaN\n",
              "\n",
              "[5 rows x 8 columns]"
            ]
          },
          "metadata": {
            "tags": []
          },
          "execution_count": 3
        }
      ]
    },
    {
      "cell_type": "markdown",
      "metadata": {
        "id": "Yvk4IgCocSjQ"
      },
      "source": [
        "To simplify this problem, we will limit our model to only salary employees. Create a new dataset that does not contain any hourly employees."
      ]
    },
    {
      "cell_type": "code",
      "metadata": {
        "id": "X8mndXF2cSjR",
        "outputId": "ac0b380e-741c-4609-a43d-99eefd272683",
        "colab": {
          "base_uri": "https://localhost:8080/",
          "height": 415
        }
      },
      "source": [
        "# answer below:\n",
        "chicago_s = chicago.loc[chicago['Salary or Hourly'] == 'Salary']\n",
        "chicago_s"
      ],
      "execution_count": 4,
      "outputs": [
        {
          "output_type": "execute_result",
          "data": {
            "text/html": [
              "<div>\n",
              "<style scoped>\n",
              "    .dataframe tbody tr th:only-of-type {\n",
              "        vertical-align: middle;\n",
              "    }\n",
              "\n",
              "    .dataframe tbody tr th {\n",
              "        vertical-align: top;\n",
              "    }\n",
              "\n",
              "    .dataframe thead th {\n",
              "        text-align: right;\n",
              "    }\n",
              "</style>\n",
              "<table border=\"1\" class=\"dataframe\">\n",
              "  <thead>\n",
              "    <tr style=\"text-align: right;\">\n",
              "      <th></th>\n",
              "      <th>Name</th>\n",
              "      <th>Job Titles</th>\n",
              "      <th>Department</th>\n",
              "      <th>Full or Part-Time</th>\n",
              "      <th>Salary or Hourly</th>\n",
              "      <th>Typical Hours</th>\n",
              "      <th>Annual Salary</th>\n",
              "      <th>Hourly Rate</th>\n",
              "    </tr>\n",
              "  </thead>\n",
              "  <tbody>\n",
              "    <tr>\n",
              "      <th>0</th>\n",
              "      <td>ALLISON,  PAUL W</td>\n",
              "      <td>LIEUTENANT</td>\n",
              "      <td>FIRE</td>\n",
              "      <td>F</td>\n",
              "      <td>Salary</td>\n",
              "      <td>NaN</td>\n",
              "      <td>$107790.00</td>\n",
              "      <td>NaN</td>\n",
              "    </tr>\n",
              "    <tr>\n",
              "      <th>1</th>\n",
              "      <td>BRUNO,  KEVIN D</td>\n",
              "      <td>SERGEANT</td>\n",
              "      <td>POLICE</td>\n",
              "      <td>F</td>\n",
              "      <td>Salary</td>\n",
              "      <td>NaN</td>\n",
              "      <td>$104628.00</td>\n",
              "      <td>NaN</td>\n",
              "    </tr>\n",
              "    <tr>\n",
              "      <th>2</th>\n",
              "      <td>COOPER,  JOHN E</td>\n",
              "      <td>LIEUTENANT-EMT</td>\n",
              "      <td>FIRE</td>\n",
              "      <td>F</td>\n",
              "      <td>Salary</td>\n",
              "      <td>NaN</td>\n",
              "      <td>$114324.00</td>\n",
              "      <td>NaN</td>\n",
              "    </tr>\n",
              "    <tr>\n",
              "      <th>3</th>\n",
              "      <td>CRESPO,  VILMA I</td>\n",
              "      <td>STAFF ASST</td>\n",
              "      <td>LAW</td>\n",
              "      <td>F</td>\n",
              "      <td>Salary</td>\n",
              "      <td>NaN</td>\n",
              "      <td>$76932.00</td>\n",
              "      <td>NaN</td>\n",
              "    </tr>\n",
              "    <tr>\n",
              "      <th>4</th>\n",
              "      <td>DOLAN,  ROBERT J</td>\n",
              "      <td>SERGEANT</td>\n",
              "      <td>POLICE</td>\n",
              "      <td>F</td>\n",
              "      <td>Salary</td>\n",
              "      <td>NaN</td>\n",
              "      <td>$111474.00</td>\n",
              "      <td>NaN</td>\n",
              "    </tr>\n",
              "    <tr>\n",
              "      <th>...</th>\n",
              "      <td>...</td>\n",
              "      <td>...</td>\n",
              "      <td>...</td>\n",
              "      <td>...</td>\n",
              "      <td>...</td>\n",
              "      <td>...</td>\n",
              "      <td>...</td>\n",
              "      <td>...</td>\n",
              "    </tr>\n",
              "    <tr>\n",
              "      <th>32653</th>\n",
              "      <td>ZYGOWICZ,  PETER J</td>\n",
              "      <td>POLICE OFFICER</td>\n",
              "      <td>POLICE</td>\n",
              "      <td>F</td>\n",
              "      <td>Salary</td>\n",
              "      <td>NaN</td>\n",
              "      <td>$90024.00</td>\n",
              "      <td>NaN</td>\n",
              "    </tr>\n",
              "    <tr>\n",
              "      <th>32654</th>\n",
              "      <td>ZYLINSKA,  KATARZYNA</td>\n",
              "      <td>POLICE OFFICER</td>\n",
              "      <td>POLICE</td>\n",
              "      <td>F</td>\n",
              "      <td>Salary</td>\n",
              "      <td>NaN</td>\n",
              "      <td>$48078.00</td>\n",
              "      <td>NaN</td>\n",
              "    </tr>\n",
              "    <tr>\n",
              "      <th>32655</th>\n",
              "      <td>ZYMANTAS,  MARK E</td>\n",
              "      <td>POLICE OFFICER</td>\n",
              "      <td>POLICE</td>\n",
              "      <td>F</td>\n",
              "      <td>Salary</td>\n",
              "      <td>NaN</td>\n",
              "      <td>$87006.00</td>\n",
              "      <td>NaN</td>\n",
              "    </tr>\n",
              "    <tr>\n",
              "      <th>32656</th>\n",
              "      <td>ZYRKOWSKI,  CARLO E</td>\n",
              "      <td>POLICE OFFICER</td>\n",
              "      <td>POLICE</td>\n",
              "      <td>F</td>\n",
              "      <td>Salary</td>\n",
              "      <td>NaN</td>\n",
              "      <td>$93354.00</td>\n",
              "      <td>NaN</td>\n",
              "    </tr>\n",
              "    <tr>\n",
              "      <th>32657</th>\n",
              "      <td>ZYSKOWSKI,  DARIUSZ</td>\n",
              "      <td>CHIEF DATA BASE ANALYST</td>\n",
              "      <td>DoIT</td>\n",
              "      <td>F</td>\n",
              "      <td>Salary</td>\n",
              "      <td>NaN</td>\n",
              "      <td>$115932.00</td>\n",
              "      <td>NaN</td>\n",
              "    </tr>\n",
              "  </tbody>\n",
              "</table>\n",
              "<p>24775 rows × 8 columns</p>\n",
              "</div>"
            ],
            "text/plain": [
              "                        Name               Job Titles  ... Annual Salary Hourly Rate\n",
              "0           ALLISON,  PAUL W               LIEUTENANT  ...    $107790.00         NaN\n",
              "1            BRUNO,  KEVIN D                 SERGEANT  ...    $104628.00         NaN\n",
              "2            COOPER,  JOHN E           LIEUTENANT-EMT  ...    $114324.00         NaN\n",
              "3           CRESPO,  VILMA I               STAFF ASST  ...     $76932.00         NaN\n",
              "4           DOLAN,  ROBERT J                 SERGEANT  ...    $111474.00         NaN\n",
              "...                      ...                      ...  ...           ...         ...\n",
              "32653     ZYGOWICZ,  PETER J           POLICE OFFICER  ...     $90024.00         NaN\n",
              "32654  ZYLINSKA,  KATARZYNA            POLICE OFFICER  ...     $48078.00         NaN\n",
              "32655      ZYMANTAS,  MARK E           POLICE OFFICER  ...     $87006.00         NaN\n",
              "32656    ZYRKOWSKI,  CARLO E           POLICE OFFICER  ...     $93354.00         NaN\n",
              "32657   ZYSKOWSKI,  DARIUSZ   CHIEF DATA BASE ANALYST  ...    $115932.00         NaN\n",
              "\n",
              "[24775 rows x 8 columns]"
            ]
          },
          "metadata": {
            "tags": []
          },
          "execution_count": 4
        }
      ]
    },
    {
      "cell_type": "markdown",
      "metadata": {
        "id": "IjEAhiyfcSjT"
      },
      "source": [
        "Next, we will look at the count of all values for both job titles and department to ensure that we don't use features that are too sparse in our model."
      ]
    },
    {
      "cell_type": "code",
      "metadata": {
        "id": "RSpn997lcSjT",
        "outputId": "acf550f1-8a35-4cae-c156-e8a7713e7a63",
        "colab": {
          "base_uri": "https://localhost:8080/",
          "height": 225
        }
      },
      "source": [
        "# answer below:\n",
        "chicago_s['Job Titles'].value_counts(ascending=False)\n"
      ],
      "execution_count": 5,
      "outputs": [
        {
          "output_type": "execute_result",
          "data": {
            "text/plain": [
              "POLICE OFFICER                            9393\n",
              "FIREFIGHTER-EMT                           1424\n",
              "SERGEANT                                  1118\n",
              "POLICE OFFICER (ASSIGNED AS DETECTIVE)     845\n",
              "FIREFIGHTER                                564\n",
              "                                          ... \n",
              "PRINCIPAL BUDGET ANALYST                     1\n",
              "DIRECTOR OF LEGAL SERVICES                   1\n",
              "CONSUMER INVESTIGATOR I                      1\n",
              "DEPUTY MANAGING EDITOR COUNCIL JOURNAL       1\n",
              "FORENSIC FIREARM/EVIDENCE IDENT TECH         1\n",
              "Name: Job Titles, Length: 954, dtype: int64"
            ]
          },
          "metadata": {
            "tags": []
          },
          "execution_count": 5
        }
      ]
    },
    {
      "cell_type": "code",
      "metadata": {
        "id": "1XiBKizT-atQ",
        "outputId": "4b41e964-a855-43a7-a95f-1ccc2adc127c",
        "colab": {
          "base_uri": "https://localhost:8080/",
          "height": 659
        }
      },
      "source": [
        "chicago_s['Department'].value_counts(ascending=False)"
      ],
      "execution_count": 6,
      "outputs": [
        {
          "output_type": "execute_result",
          "data": {
            "text/plain": [
              "POLICE                   12941\n",
              "FIRE                      4798\n",
              "OEMC                       832\n",
              "PUBLIC LIBRARY             708\n",
              "AVIATION                   556\n",
              "FINANCE                    532\n",
              "HEALTH                     512\n",
              "TRANSPORTN                 396\n",
              "WATER MGMNT                366\n",
              "LAW                        361\n",
              "CITY COUNCIL               348\n",
              "STREETS & SAN              321\n",
              "FAMILY & SUPPORT           321\n",
              "BUILDINGS                  266\n",
              "COMMUNITY DEVELOPMENT      210\n",
              "GENERAL SERVICES           205\n",
              "BUSINESS AFFAIRS           160\n",
              "BOARD OF ELECTION          112\n",
              "DoIT                       101\n",
              "PROCUREMENT                 82\n",
              "CITY CLERK                  82\n",
              "MAYOR'S OFFICE              78\n",
              "HUMAN RESOURCES             67\n",
              "CULTURAL AFFAIRS            66\n",
              "INSPECTOR GEN               63\n",
              "ANIMAL CONTRL               57\n",
              "IPRA                        56\n",
              "BUDGET & MGMT               43\n",
              "ADMIN HEARNG                38\n",
              "DISABILITIES                29\n",
              "TREASURER                   23\n",
              "COPA                        17\n",
              "HUMAN RELATIONS             17\n",
              "BOARD OF ETHICS              8\n",
              "POLICE BOARD                 2\n",
              "LICENSE APPL COMM            1\n",
              "Name: Department, dtype: int64"
            ]
          },
          "metadata": {
            "tags": []
          },
          "execution_count": 6
        }
      ]
    },
    {
      "cell_type": "code",
      "metadata": {
        "id": "yKiC9ioo7-l6",
        "outputId": "11f28e2a-d599-4601-f090-a0c2ce75b97f",
        "colab": {
          "base_uri": "https://localhost:8080/",
          "height": 35
        }
      },
      "source": [
        "perc = (chicago_s.Department.value_counts().sum()/chicago_s.value_counts())\n",
        "perc.sort_values(ascending=False)"
      ],
      "execution_count": 7,
      "outputs": [
        {
          "output_type": "execute_result",
          "data": {
            "text/plain": [
              "Series([], dtype: float64)"
            ]
          },
          "metadata": {
            "tags": []
          },
          "execution_count": 7
        }
      ]
    },
    {
      "cell_type": "code",
      "metadata": {
        "id": "AJvEZg3DBHcs",
        "outputId": "aa8596d5-673d-45c6-b7d0-a8d0fab4dbe1",
        "colab": {
          "base_uri": "https://localhost:8080/",
          "height": 415
        }
      },
      "source": [
        "jobs = ['POLICE OFFICER', 'FIREFIGHTER-EMT', 'SERGEANT', 'POLICE OFFICER (ASSIGNED AS DETECTIVE)', 'FIREFIGHTER']\n",
        "depts = ['POLICE', 'FIRE', 'OEMC', 'PUBLIC LIBRARY', 'AVIATION']\n",
        "\n",
        "chicago_df = chicago_s[\n",
        "                       chicago_s['Job Titles'].isin(jobs) & \n",
        "                       chicago_s.Department.isin(depts)]\n",
        "                  \n",
        "chicago_df"
      ],
      "execution_count": 8,
      "outputs": [
        {
          "output_type": "execute_result",
          "data": {
            "text/html": [
              "<div>\n",
              "<style scoped>\n",
              "    .dataframe tbody tr th:only-of-type {\n",
              "        vertical-align: middle;\n",
              "    }\n",
              "\n",
              "    .dataframe tbody tr th {\n",
              "        vertical-align: top;\n",
              "    }\n",
              "\n",
              "    .dataframe thead th {\n",
              "        text-align: right;\n",
              "    }\n",
              "</style>\n",
              "<table border=\"1\" class=\"dataframe\">\n",
              "  <thead>\n",
              "    <tr style=\"text-align: right;\">\n",
              "      <th></th>\n",
              "      <th>Name</th>\n",
              "      <th>Job Titles</th>\n",
              "      <th>Department</th>\n",
              "      <th>Full or Part-Time</th>\n",
              "      <th>Salary or Hourly</th>\n",
              "      <th>Typical Hours</th>\n",
              "      <th>Annual Salary</th>\n",
              "      <th>Hourly Rate</th>\n",
              "    </tr>\n",
              "  </thead>\n",
              "  <tbody>\n",
              "    <tr>\n",
              "      <th>1</th>\n",
              "      <td>BRUNO,  KEVIN D</td>\n",
              "      <td>SERGEANT</td>\n",
              "      <td>POLICE</td>\n",
              "      <td>F</td>\n",
              "      <td>Salary</td>\n",
              "      <td>NaN</td>\n",
              "      <td>$104628.00</td>\n",
              "      <td>NaN</td>\n",
              "    </tr>\n",
              "    <tr>\n",
              "      <th>4</th>\n",
              "      <td>DOLAN,  ROBERT J</td>\n",
              "      <td>SERGEANT</td>\n",
              "      <td>POLICE</td>\n",
              "      <td>F</td>\n",
              "      <td>Salary</td>\n",
              "      <td>NaN</td>\n",
              "      <td>$111474.00</td>\n",
              "      <td>NaN</td>\n",
              "    </tr>\n",
              "    <tr>\n",
              "      <th>7</th>\n",
              "      <td>ELKINS,  ERIC J</td>\n",
              "      <td>SERGEANT</td>\n",
              "      <td>POLICE</td>\n",
              "      <td>F</td>\n",
              "      <td>Salary</td>\n",
              "      <td>NaN</td>\n",
              "      <td>$104628.00</td>\n",
              "      <td>NaN</td>\n",
              "    </tr>\n",
              "    <tr>\n",
              "      <th>8</th>\n",
              "      <td>ESTRADA,  LUIS F</td>\n",
              "      <td>POLICE OFFICER</td>\n",
              "      <td>POLICE</td>\n",
              "      <td>F</td>\n",
              "      <td>Salary</td>\n",
              "      <td>NaN</td>\n",
              "      <td>$96060.00</td>\n",
              "      <td>NaN</td>\n",
              "    </tr>\n",
              "    <tr>\n",
              "      <th>10</th>\n",
              "      <td>FINN,  SEAN P</td>\n",
              "      <td>FIREFIGHTER</td>\n",
              "      <td>FIRE</td>\n",
              "      <td>F</td>\n",
              "      <td>Salary</td>\n",
              "      <td>NaN</td>\n",
              "      <td>$87006.00</td>\n",
              "      <td>NaN</td>\n",
              "    </tr>\n",
              "    <tr>\n",
              "      <th>...</th>\n",
              "      <td>...</td>\n",
              "      <td>...</td>\n",
              "      <td>...</td>\n",
              "      <td>...</td>\n",
              "      <td>...</td>\n",
              "      <td>...</td>\n",
              "      <td>...</td>\n",
              "      <td>...</td>\n",
              "    </tr>\n",
              "    <tr>\n",
              "      <th>32652</th>\n",
              "      <td>ZYGMUNT,  DAWID</td>\n",
              "      <td>POLICE OFFICER</td>\n",
              "      <td>POLICE</td>\n",
              "      <td>F</td>\n",
              "      <td>Salary</td>\n",
              "      <td>NaN</td>\n",
              "      <td>$48078.00</td>\n",
              "      <td>NaN</td>\n",
              "    </tr>\n",
              "    <tr>\n",
              "      <th>32653</th>\n",
              "      <td>ZYGOWICZ,  PETER J</td>\n",
              "      <td>POLICE OFFICER</td>\n",
              "      <td>POLICE</td>\n",
              "      <td>F</td>\n",
              "      <td>Salary</td>\n",
              "      <td>NaN</td>\n",
              "      <td>$90024.00</td>\n",
              "      <td>NaN</td>\n",
              "    </tr>\n",
              "    <tr>\n",
              "      <th>32654</th>\n",
              "      <td>ZYLINSKA,  KATARZYNA</td>\n",
              "      <td>POLICE OFFICER</td>\n",
              "      <td>POLICE</td>\n",
              "      <td>F</td>\n",
              "      <td>Salary</td>\n",
              "      <td>NaN</td>\n",
              "      <td>$48078.00</td>\n",
              "      <td>NaN</td>\n",
              "    </tr>\n",
              "    <tr>\n",
              "      <th>32655</th>\n",
              "      <td>ZYMANTAS,  MARK E</td>\n",
              "      <td>POLICE OFFICER</td>\n",
              "      <td>POLICE</td>\n",
              "      <td>F</td>\n",
              "      <td>Salary</td>\n",
              "      <td>NaN</td>\n",
              "      <td>$87006.00</td>\n",
              "      <td>NaN</td>\n",
              "    </tr>\n",
              "    <tr>\n",
              "      <th>32656</th>\n",
              "      <td>ZYRKOWSKI,  CARLO E</td>\n",
              "      <td>POLICE OFFICER</td>\n",
              "      <td>POLICE</td>\n",
              "      <td>F</td>\n",
              "      <td>Salary</td>\n",
              "      <td>NaN</td>\n",
              "      <td>$93354.00</td>\n",
              "      <td>NaN</td>\n",
              "    </tr>\n",
              "  </tbody>\n",
              "</table>\n",
              "<p>13344 rows × 8 columns</p>\n",
              "</div>"
            ],
            "text/plain": [
              "                        Name      Job Titles  ... Annual Salary Hourly Rate\n",
              "1            BRUNO,  KEVIN D        SERGEANT  ...    $104628.00         NaN\n",
              "4           DOLAN,  ROBERT J        SERGEANT  ...    $111474.00         NaN\n",
              "7            ELKINS,  ERIC J        SERGEANT  ...    $104628.00         NaN\n",
              "8           ESTRADA,  LUIS F  POLICE OFFICER  ...     $96060.00         NaN\n",
              "10             FINN,  SEAN P     FIREFIGHTER  ...     $87006.00         NaN\n",
              "...                      ...             ...  ...           ...         ...\n",
              "32652       ZYGMUNT,  DAWID   POLICE OFFICER  ...     $48078.00         NaN\n",
              "32653     ZYGOWICZ,  PETER J  POLICE OFFICER  ...     $90024.00         NaN\n",
              "32654  ZYLINSKA,  KATARZYNA   POLICE OFFICER  ...     $48078.00         NaN\n",
              "32655      ZYMANTAS,  MARK E  POLICE OFFICER  ...     $87006.00         NaN\n",
              "32656    ZYRKOWSKI,  CARLO E  POLICE OFFICER  ...     $93354.00         NaN\n",
              "\n",
              "[13344 rows x 8 columns]"
            ]
          },
          "metadata": {
            "tags": []
          },
          "execution_count": 8
        }
      ]
    },
    {
      "cell_type": "markdown",
      "metadata": {
        "id": "S8wwWbE5cSjV"
      },
      "source": [
        "Choose between department and job title and use the variable with the smallest number of values to for one hot encoding. Additionally, create dummy variables for full or part-time."
      ]
    },
    {
      "cell_type": "code",
      "metadata": {
        "id": "Y6o4G0S5JF96",
        "outputId": "5441e1d9-38b6-4f94-d233-d4dd8463601f",
        "colab": {
          "base_uri": "https://localhost:8080/",
          "height": 69
        }
      },
      "source": [
        "chicago_df.Department.value_counts()"
      ],
      "execution_count": 9,
      "outputs": [
        {
          "output_type": "execute_result",
          "data": {
            "text/plain": [
              "POLICE    11356\n",
              "FIRE       1988\n",
              "Name: Department, dtype: int64"
            ]
          },
          "metadata": {
            "tags": []
          },
          "execution_count": 9
        }
      ]
    },
    {
      "cell_type": "code",
      "metadata": {
        "id": "ZhKAt832J_85",
        "outputId": "3ce96c4a-203b-40b5-c9a5-b6cfc611f4ad",
        "colab": {
          "base_uri": "https://localhost:8080/",
          "height": 121
        }
      },
      "source": [
        "chicago_df['Job Titles'].value_counts()"
      ],
      "execution_count": 10,
      "outputs": [
        {
          "output_type": "execute_result",
          "data": {
            "text/plain": [
              "POLICE OFFICER                            9393\n",
              "FIREFIGHTER-EMT                           1424\n",
              "SERGEANT                                  1118\n",
              "POLICE OFFICER (ASSIGNED AS DETECTIVE)     845\n",
              "FIREFIGHTER                                564\n",
              "Name: Job Titles, dtype: int64"
            ]
          },
          "metadata": {
            "tags": []
          },
          "execution_count": 10
        }
      ]
    },
    {
      "cell_type": "code",
      "metadata": {
        "id": "Qdgc1FRFJiPm",
        "outputId": "f4f715b0-033b-4835-8260-48502c1393bf",
        "colab": {
          "base_uri": "https://localhost:8080/",
          "height": 265
        }
      },
      "source": [
        "dummied_chicago = pd.get_dummies(chicago_s, columns=['Department', 'Full or Part-Time'], drop_first=True)\n",
        "dummied_chicago.head(3)"
      ],
      "execution_count": 11,
      "outputs": [
        {
          "output_type": "execute_result",
          "data": {
            "text/html": [
              "<div>\n",
              "<style scoped>\n",
              "    .dataframe tbody tr th:only-of-type {\n",
              "        vertical-align: middle;\n",
              "    }\n",
              "\n",
              "    .dataframe tbody tr th {\n",
              "        vertical-align: top;\n",
              "    }\n",
              "\n",
              "    .dataframe thead th {\n",
              "        text-align: right;\n",
              "    }\n",
              "</style>\n",
              "<table border=\"1\" class=\"dataframe\">\n",
              "  <thead>\n",
              "    <tr style=\"text-align: right;\">\n",
              "      <th></th>\n",
              "      <th>Name</th>\n",
              "      <th>Job Titles</th>\n",
              "      <th>Salary or Hourly</th>\n",
              "      <th>Typical Hours</th>\n",
              "      <th>Annual Salary</th>\n",
              "      <th>Hourly Rate</th>\n",
              "      <th>Department_ANIMAL CONTRL</th>\n",
              "      <th>Department_AVIATION</th>\n",
              "      <th>Department_BOARD OF ELECTION</th>\n",
              "      <th>Department_BOARD OF ETHICS</th>\n",
              "      <th>Department_BUDGET &amp; MGMT</th>\n",
              "      <th>Department_BUILDINGS</th>\n",
              "      <th>Department_BUSINESS AFFAIRS</th>\n",
              "      <th>Department_CITY CLERK</th>\n",
              "      <th>Department_CITY COUNCIL</th>\n",
              "      <th>Department_COMMUNITY DEVELOPMENT</th>\n",
              "      <th>Department_COPA</th>\n",
              "      <th>Department_CULTURAL AFFAIRS</th>\n",
              "      <th>Department_DISABILITIES</th>\n",
              "      <th>Department_DoIT</th>\n",
              "      <th>Department_FAMILY &amp; SUPPORT</th>\n",
              "      <th>Department_FINANCE</th>\n",
              "      <th>Department_FIRE</th>\n",
              "      <th>Department_GENERAL SERVICES</th>\n",
              "      <th>Department_HEALTH</th>\n",
              "      <th>Department_HUMAN RELATIONS</th>\n",
              "      <th>Department_HUMAN RESOURCES</th>\n",
              "      <th>Department_INSPECTOR GEN</th>\n",
              "      <th>Department_IPRA</th>\n",
              "      <th>Department_LAW</th>\n",
              "      <th>Department_LICENSE APPL COMM</th>\n",
              "      <th>Department_MAYOR'S OFFICE</th>\n",
              "      <th>Department_OEMC</th>\n",
              "      <th>Department_POLICE</th>\n",
              "      <th>Department_POLICE BOARD</th>\n",
              "      <th>Department_PROCUREMENT</th>\n",
              "      <th>Department_PUBLIC LIBRARY</th>\n",
              "      <th>Department_STREETS &amp; SAN</th>\n",
              "      <th>Department_TRANSPORTN</th>\n",
              "      <th>Department_TREASURER</th>\n",
              "      <th>Department_WATER MGMNT</th>\n",
              "      <th>Full or Part-Time_P</th>\n",
              "    </tr>\n",
              "  </thead>\n",
              "  <tbody>\n",
              "    <tr>\n",
              "      <th>0</th>\n",
              "      <td>ALLISON,  PAUL W</td>\n",
              "      <td>LIEUTENANT</td>\n",
              "      <td>Salary</td>\n",
              "      <td>NaN</td>\n",
              "      <td>$107790.00</td>\n",
              "      <td>NaN</td>\n",
              "      <td>0</td>\n",
              "      <td>0</td>\n",
              "      <td>0</td>\n",
              "      <td>0</td>\n",
              "      <td>0</td>\n",
              "      <td>0</td>\n",
              "      <td>0</td>\n",
              "      <td>0</td>\n",
              "      <td>0</td>\n",
              "      <td>0</td>\n",
              "      <td>0</td>\n",
              "      <td>0</td>\n",
              "      <td>0</td>\n",
              "      <td>0</td>\n",
              "      <td>0</td>\n",
              "      <td>0</td>\n",
              "      <td>1</td>\n",
              "      <td>0</td>\n",
              "      <td>0</td>\n",
              "      <td>0</td>\n",
              "      <td>0</td>\n",
              "      <td>0</td>\n",
              "      <td>0</td>\n",
              "      <td>0</td>\n",
              "      <td>0</td>\n",
              "      <td>0</td>\n",
              "      <td>0</td>\n",
              "      <td>0</td>\n",
              "      <td>0</td>\n",
              "      <td>0</td>\n",
              "      <td>0</td>\n",
              "      <td>0</td>\n",
              "      <td>0</td>\n",
              "      <td>0</td>\n",
              "      <td>0</td>\n",
              "      <td>0</td>\n",
              "    </tr>\n",
              "    <tr>\n",
              "      <th>1</th>\n",
              "      <td>BRUNO,  KEVIN D</td>\n",
              "      <td>SERGEANT</td>\n",
              "      <td>Salary</td>\n",
              "      <td>NaN</td>\n",
              "      <td>$104628.00</td>\n",
              "      <td>NaN</td>\n",
              "      <td>0</td>\n",
              "      <td>0</td>\n",
              "      <td>0</td>\n",
              "      <td>0</td>\n",
              "      <td>0</td>\n",
              "      <td>0</td>\n",
              "      <td>0</td>\n",
              "      <td>0</td>\n",
              "      <td>0</td>\n",
              "      <td>0</td>\n",
              "      <td>0</td>\n",
              "      <td>0</td>\n",
              "      <td>0</td>\n",
              "      <td>0</td>\n",
              "      <td>0</td>\n",
              "      <td>0</td>\n",
              "      <td>0</td>\n",
              "      <td>0</td>\n",
              "      <td>0</td>\n",
              "      <td>0</td>\n",
              "      <td>0</td>\n",
              "      <td>0</td>\n",
              "      <td>0</td>\n",
              "      <td>0</td>\n",
              "      <td>0</td>\n",
              "      <td>0</td>\n",
              "      <td>0</td>\n",
              "      <td>1</td>\n",
              "      <td>0</td>\n",
              "      <td>0</td>\n",
              "      <td>0</td>\n",
              "      <td>0</td>\n",
              "      <td>0</td>\n",
              "      <td>0</td>\n",
              "      <td>0</td>\n",
              "      <td>0</td>\n",
              "    </tr>\n",
              "    <tr>\n",
              "      <th>2</th>\n",
              "      <td>COOPER,  JOHN E</td>\n",
              "      <td>LIEUTENANT-EMT</td>\n",
              "      <td>Salary</td>\n",
              "      <td>NaN</td>\n",
              "      <td>$114324.00</td>\n",
              "      <td>NaN</td>\n",
              "      <td>0</td>\n",
              "      <td>0</td>\n",
              "      <td>0</td>\n",
              "      <td>0</td>\n",
              "      <td>0</td>\n",
              "      <td>0</td>\n",
              "      <td>0</td>\n",
              "      <td>0</td>\n",
              "      <td>0</td>\n",
              "      <td>0</td>\n",
              "      <td>0</td>\n",
              "      <td>0</td>\n",
              "      <td>0</td>\n",
              "      <td>0</td>\n",
              "      <td>0</td>\n",
              "      <td>0</td>\n",
              "      <td>1</td>\n",
              "      <td>0</td>\n",
              "      <td>0</td>\n",
              "      <td>0</td>\n",
              "      <td>0</td>\n",
              "      <td>0</td>\n",
              "      <td>0</td>\n",
              "      <td>0</td>\n",
              "      <td>0</td>\n",
              "      <td>0</td>\n",
              "      <td>0</td>\n",
              "      <td>0</td>\n",
              "      <td>0</td>\n",
              "      <td>0</td>\n",
              "      <td>0</td>\n",
              "      <td>0</td>\n",
              "      <td>0</td>\n",
              "      <td>0</td>\n",
              "      <td>0</td>\n",
              "      <td>0</td>\n",
              "    </tr>\n",
              "  </tbody>\n",
              "</table>\n",
              "</div>"
            ],
            "text/plain": [
              "               Name  ... Full or Part-Time_P\n",
              "0  ALLISON,  PAUL W  ...                   0\n",
              "1   BRUNO,  KEVIN D  ...                   0\n",
              "2   COOPER,  JOHN E  ...                   0\n",
              "\n",
              "[3 rows x 42 columns]"
            ]
          },
          "metadata": {
            "tags": []
          },
          "execution_count": 11
        }
      ]
    },
    {
      "cell_type": "markdown",
      "metadata": {
        "id": "KH4kKrHVcSjX"
      },
      "source": [
        "Remove all irrelevant columns (Name, Job Titles, Salary or Hourly, Typical Hours, Hourly Rate)"
      ]
    },
    {
      "cell_type": "code",
      "metadata": {
        "id": "h-MaRcptcSjX",
        "outputId": "79e63639-c6b7-4676-f08d-6f96eeba94a5",
        "colab": {
          "base_uri": "https://localhost:8080/",
          "height": 213
        }
      },
      "source": [
        "# answer below:\n",
        "dropped_chicago = dummied_chicago.drop(columns=['Name', 'Job Titles', 'Salary or Hourly', 'Typical Hours', 'Hourly Rate'])\n",
        "dropped_chicago.head(3)\n"
      ],
      "execution_count": 12,
      "outputs": [
        {
          "output_type": "execute_result",
          "data": {
            "text/html": [
              "<div>\n",
              "<style scoped>\n",
              "    .dataframe tbody tr th:only-of-type {\n",
              "        vertical-align: middle;\n",
              "    }\n",
              "\n",
              "    .dataframe tbody tr th {\n",
              "        vertical-align: top;\n",
              "    }\n",
              "\n",
              "    .dataframe thead th {\n",
              "        text-align: right;\n",
              "    }\n",
              "</style>\n",
              "<table border=\"1\" class=\"dataframe\">\n",
              "  <thead>\n",
              "    <tr style=\"text-align: right;\">\n",
              "      <th></th>\n",
              "      <th>Annual Salary</th>\n",
              "      <th>Department_ANIMAL CONTRL</th>\n",
              "      <th>Department_AVIATION</th>\n",
              "      <th>Department_BOARD OF ELECTION</th>\n",
              "      <th>Department_BOARD OF ETHICS</th>\n",
              "      <th>Department_BUDGET &amp; MGMT</th>\n",
              "      <th>Department_BUILDINGS</th>\n",
              "      <th>Department_BUSINESS AFFAIRS</th>\n",
              "      <th>Department_CITY CLERK</th>\n",
              "      <th>Department_CITY COUNCIL</th>\n",
              "      <th>Department_COMMUNITY DEVELOPMENT</th>\n",
              "      <th>Department_COPA</th>\n",
              "      <th>Department_CULTURAL AFFAIRS</th>\n",
              "      <th>Department_DISABILITIES</th>\n",
              "      <th>Department_DoIT</th>\n",
              "      <th>Department_FAMILY &amp; SUPPORT</th>\n",
              "      <th>Department_FINANCE</th>\n",
              "      <th>Department_FIRE</th>\n",
              "      <th>Department_GENERAL SERVICES</th>\n",
              "      <th>Department_HEALTH</th>\n",
              "      <th>Department_HUMAN RELATIONS</th>\n",
              "      <th>Department_HUMAN RESOURCES</th>\n",
              "      <th>Department_INSPECTOR GEN</th>\n",
              "      <th>Department_IPRA</th>\n",
              "      <th>Department_LAW</th>\n",
              "      <th>Department_LICENSE APPL COMM</th>\n",
              "      <th>Department_MAYOR'S OFFICE</th>\n",
              "      <th>Department_OEMC</th>\n",
              "      <th>Department_POLICE</th>\n",
              "      <th>Department_POLICE BOARD</th>\n",
              "      <th>Department_PROCUREMENT</th>\n",
              "      <th>Department_PUBLIC LIBRARY</th>\n",
              "      <th>Department_STREETS &amp; SAN</th>\n",
              "      <th>Department_TRANSPORTN</th>\n",
              "      <th>Department_TREASURER</th>\n",
              "      <th>Department_WATER MGMNT</th>\n",
              "      <th>Full or Part-Time_P</th>\n",
              "    </tr>\n",
              "  </thead>\n",
              "  <tbody>\n",
              "    <tr>\n",
              "      <th>0</th>\n",
              "      <td>$107790.00</td>\n",
              "      <td>0</td>\n",
              "      <td>0</td>\n",
              "      <td>0</td>\n",
              "      <td>0</td>\n",
              "      <td>0</td>\n",
              "      <td>0</td>\n",
              "      <td>0</td>\n",
              "      <td>0</td>\n",
              "      <td>0</td>\n",
              "      <td>0</td>\n",
              "      <td>0</td>\n",
              "      <td>0</td>\n",
              "      <td>0</td>\n",
              "      <td>0</td>\n",
              "      <td>0</td>\n",
              "      <td>0</td>\n",
              "      <td>1</td>\n",
              "      <td>0</td>\n",
              "      <td>0</td>\n",
              "      <td>0</td>\n",
              "      <td>0</td>\n",
              "      <td>0</td>\n",
              "      <td>0</td>\n",
              "      <td>0</td>\n",
              "      <td>0</td>\n",
              "      <td>0</td>\n",
              "      <td>0</td>\n",
              "      <td>0</td>\n",
              "      <td>0</td>\n",
              "      <td>0</td>\n",
              "      <td>0</td>\n",
              "      <td>0</td>\n",
              "      <td>0</td>\n",
              "      <td>0</td>\n",
              "      <td>0</td>\n",
              "      <td>0</td>\n",
              "    </tr>\n",
              "    <tr>\n",
              "      <th>1</th>\n",
              "      <td>$104628.00</td>\n",
              "      <td>0</td>\n",
              "      <td>0</td>\n",
              "      <td>0</td>\n",
              "      <td>0</td>\n",
              "      <td>0</td>\n",
              "      <td>0</td>\n",
              "      <td>0</td>\n",
              "      <td>0</td>\n",
              "      <td>0</td>\n",
              "      <td>0</td>\n",
              "      <td>0</td>\n",
              "      <td>0</td>\n",
              "      <td>0</td>\n",
              "      <td>0</td>\n",
              "      <td>0</td>\n",
              "      <td>0</td>\n",
              "      <td>0</td>\n",
              "      <td>0</td>\n",
              "      <td>0</td>\n",
              "      <td>0</td>\n",
              "      <td>0</td>\n",
              "      <td>0</td>\n",
              "      <td>0</td>\n",
              "      <td>0</td>\n",
              "      <td>0</td>\n",
              "      <td>0</td>\n",
              "      <td>0</td>\n",
              "      <td>1</td>\n",
              "      <td>0</td>\n",
              "      <td>0</td>\n",
              "      <td>0</td>\n",
              "      <td>0</td>\n",
              "      <td>0</td>\n",
              "      <td>0</td>\n",
              "      <td>0</td>\n",
              "      <td>0</td>\n",
              "    </tr>\n",
              "    <tr>\n",
              "      <th>2</th>\n",
              "      <td>$114324.00</td>\n",
              "      <td>0</td>\n",
              "      <td>0</td>\n",
              "      <td>0</td>\n",
              "      <td>0</td>\n",
              "      <td>0</td>\n",
              "      <td>0</td>\n",
              "      <td>0</td>\n",
              "      <td>0</td>\n",
              "      <td>0</td>\n",
              "      <td>0</td>\n",
              "      <td>0</td>\n",
              "      <td>0</td>\n",
              "      <td>0</td>\n",
              "      <td>0</td>\n",
              "      <td>0</td>\n",
              "      <td>0</td>\n",
              "      <td>1</td>\n",
              "      <td>0</td>\n",
              "      <td>0</td>\n",
              "      <td>0</td>\n",
              "      <td>0</td>\n",
              "      <td>0</td>\n",
              "      <td>0</td>\n",
              "      <td>0</td>\n",
              "      <td>0</td>\n",
              "      <td>0</td>\n",
              "      <td>0</td>\n",
              "      <td>0</td>\n",
              "      <td>0</td>\n",
              "      <td>0</td>\n",
              "      <td>0</td>\n",
              "      <td>0</td>\n",
              "      <td>0</td>\n",
              "      <td>0</td>\n",
              "      <td>0</td>\n",
              "      <td>0</td>\n",
              "    </tr>\n",
              "  </tbody>\n",
              "</table>\n",
              "</div>"
            ],
            "text/plain": [
              "  Annual Salary  ...  Full or Part-Time_P\n",
              "0    $107790.00  ...                    0\n",
              "1    $104628.00  ...                    0\n",
              "2    $114324.00  ...                    0\n",
              "\n",
              "[3 rows x 37 columns]"
            ]
          },
          "metadata": {
            "tags": []
          },
          "execution_count": 12
        }
      ]
    },
    {
      "cell_type": "markdown",
      "metadata": {
        "id": "MttxKtdscSjZ"
      },
      "source": [
        "Check that none of the remaining columns are of object type and convert them to numeric if they are of object type."
      ]
    },
    {
      "cell_type": "code",
      "metadata": {
        "id": "W34P6H5KcSjZ",
        "outputId": "5c33ba9f-6055-426f-cd45-beb76aebee54",
        "colab": {
          "base_uri": "https://localhost:8080/",
          "height": 780
        }
      },
      "source": [
        "# answer below:\n",
        "dropped_chicago.info()\n"
      ],
      "execution_count": 13,
      "outputs": [
        {
          "output_type": "stream",
          "text": [
            "<class 'pandas.core.frame.DataFrame'>\n",
            "Int64Index: 24775 entries, 0 to 32657\n",
            "Data columns (total 37 columns):\n",
            " #   Column                            Non-Null Count  Dtype \n",
            "---  ------                            --------------  ----- \n",
            " 0   Annual Salary                     24775 non-null  object\n",
            " 1   Department_ANIMAL CONTRL          24775 non-null  uint8 \n",
            " 2   Department_AVIATION               24775 non-null  uint8 \n",
            " 3   Department_BOARD OF ELECTION      24775 non-null  uint8 \n",
            " 4   Department_BOARD OF ETHICS        24775 non-null  uint8 \n",
            " 5   Department_BUDGET & MGMT          24775 non-null  uint8 \n",
            " 6   Department_BUILDINGS              24775 non-null  uint8 \n",
            " 7   Department_BUSINESS AFFAIRS       24775 non-null  uint8 \n",
            " 8   Department_CITY CLERK             24775 non-null  uint8 \n",
            " 9   Department_CITY COUNCIL           24775 non-null  uint8 \n",
            " 10  Department_COMMUNITY DEVELOPMENT  24775 non-null  uint8 \n",
            " 11  Department_COPA                   24775 non-null  uint8 \n",
            " 12  Department_CULTURAL AFFAIRS       24775 non-null  uint8 \n",
            " 13  Department_DISABILITIES           24775 non-null  uint8 \n",
            " 14  Department_DoIT                   24775 non-null  uint8 \n",
            " 15  Department_FAMILY & SUPPORT       24775 non-null  uint8 \n",
            " 16  Department_FINANCE                24775 non-null  uint8 \n",
            " 17  Department_FIRE                   24775 non-null  uint8 \n",
            " 18  Department_GENERAL SERVICES       24775 non-null  uint8 \n",
            " 19  Department_HEALTH                 24775 non-null  uint8 \n",
            " 20  Department_HUMAN RELATIONS        24775 non-null  uint8 \n",
            " 21  Department_HUMAN RESOURCES        24775 non-null  uint8 \n",
            " 22  Department_INSPECTOR GEN          24775 non-null  uint8 \n",
            " 23  Department_IPRA                   24775 non-null  uint8 \n",
            " 24  Department_LAW                    24775 non-null  uint8 \n",
            " 25  Department_LICENSE APPL COMM      24775 non-null  uint8 \n",
            " 26  Department_MAYOR'S OFFICE         24775 non-null  uint8 \n",
            " 27  Department_OEMC                   24775 non-null  uint8 \n",
            " 28  Department_POLICE                 24775 non-null  uint8 \n",
            " 29  Department_POLICE BOARD           24775 non-null  uint8 \n",
            " 30  Department_PROCUREMENT            24775 non-null  uint8 \n",
            " 31  Department_PUBLIC LIBRARY         24775 non-null  uint8 \n",
            " 32  Department_STREETS & SAN          24775 non-null  uint8 \n",
            " 33  Department_TRANSPORTN             24775 non-null  uint8 \n",
            " 34  Department_TREASURER              24775 non-null  uint8 \n",
            " 35  Department_WATER MGMNT            24775 non-null  uint8 \n",
            " 36  Full or Part-Time_P               24775 non-null  uint8 \n",
            "dtypes: object(1), uint8(36)\n",
            "memory usage: 1.2+ MB\n"
          ],
          "name": "stdout"
        }
      ]
    },
    {
      "cell_type": "code",
      "metadata": {
        "id": "gcJjvyeBNati",
        "outputId": "0f514ef4-89c9-4912-e8cc-07f09af90cf5",
        "colab": {
          "base_uri": "https://localhost:8080/",
          "height": 780
        }
      },
      "source": [
        "dropped_chicago['Annual Salary'] = dropped_chicago['Annual Salary'].str.replace('[\\$,]', '', regex=True).astype(float)\n",
        "#reviews3['Price'] = reviews3['Price'].str.replace('[\\$,]', '', regex=True).astype(float)\n",
        "dropped_chicago.info()"
      ],
      "execution_count": 14,
      "outputs": [
        {
          "output_type": "stream",
          "text": [
            "<class 'pandas.core.frame.DataFrame'>\n",
            "Int64Index: 24775 entries, 0 to 32657\n",
            "Data columns (total 37 columns):\n",
            " #   Column                            Non-Null Count  Dtype  \n",
            "---  ------                            --------------  -----  \n",
            " 0   Annual Salary                     24775 non-null  float64\n",
            " 1   Department_ANIMAL CONTRL          24775 non-null  uint8  \n",
            " 2   Department_AVIATION               24775 non-null  uint8  \n",
            " 3   Department_BOARD OF ELECTION      24775 non-null  uint8  \n",
            " 4   Department_BOARD OF ETHICS        24775 non-null  uint8  \n",
            " 5   Department_BUDGET & MGMT          24775 non-null  uint8  \n",
            " 6   Department_BUILDINGS              24775 non-null  uint8  \n",
            " 7   Department_BUSINESS AFFAIRS       24775 non-null  uint8  \n",
            " 8   Department_CITY CLERK             24775 non-null  uint8  \n",
            " 9   Department_CITY COUNCIL           24775 non-null  uint8  \n",
            " 10  Department_COMMUNITY DEVELOPMENT  24775 non-null  uint8  \n",
            " 11  Department_COPA                   24775 non-null  uint8  \n",
            " 12  Department_CULTURAL AFFAIRS       24775 non-null  uint8  \n",
            " 13  Department_DISABILITIES           24775 non-null  uint8  \n",
            " 14  Department_DoIT                   24775 non-null  uint8  \n",
            " 15  Department_FAMILY & SUPPORT       24775 non-null  uint8  \n",
            " 16  Department_FINANCE                24775 non-null  uint8  \n",
            " 17  Department_FIRE                   24775 non-null  uint8  \n",
            " 18  Department_GENERAL SERVICES       24775 non-null  uint8  \n",
            " 19  Department_HEALTH                 24775 non-null  uint8  \n",
            " 20  Department_HUMAN RELATIONS        24775 non-null  uint8  \n",
            " 21  Department_HUMAN RESOURCES        24775 non-null  uint8  \n",
            " 22  Department_INSPECTOR GEN          24775 non-null  uint8  \n",
            " 23  Department_IPRA                   24775 non-null  uint8  \n",
            " 24  Department_LAW                    24775 non-null  uint8  \n",
            " 25  Department_LICENSE APPL COMM      24775 non-null  uint8  \n",
            " 26  Department_MAYOR'S OFFICE         24775 non-null  uint8  \n",
            " 27  Department_OEMC                   24775 non-null  uint8  \n",
            " 28  Department_POLICE                 24775 non-null  uint8  \n",
            " 29  Department_POLICE BOARD           24775 non-null  uint8  \n",
            " 30  Department_PROCUREMENT            24775 non-null  uint8  \n",
            " 31  Department_PUBLIC LIBRARY         24775 non-null  uint8  \n",
            " 32  Department_STREETS & SAN          24775 non-null  uint8  \n",
            " 33  Department_TRANSPORTN             24775 non-null  uint8  \n",
            " 34  Department_TREASURER              24775 non-null  uint8  \n",
            " 35  Department_WATER MGMNT            24775 non-null  uint8  \n",
            " 36  Full or Part-Time_P               24775 non-null  uint8  \n",
            "dtypes: float64(1), uint8(36)\n",
            "memory usage: 1.2 MB\n"
          ],
          "name": "stdout"
        }
      ]
    },
    {
      "cell_type": "markdown",
      "metadata": {
        "id": "OrKDy_59cSjb"
      },
      "source": [
        "Split the data into a test and train sample. Use annual salary as the dependent variable. 20% of the data should be assigned to the test sample."
      ]
    },
    {
      "cell_type": "code",
      "metadata": {
        "id": "_s85YxVZcSjb"
      },
      "source": [
        "# answer below:\n",
        "from sklearn.model_selection import train_test_split\n",
        "\n",
        "y = dropped_chicago['Annual Salary']\n",
        "X = dropped_chicago.drop(columns=['Annual Salary'])\n",
        "\n",
        "X_train, X_test, y_train, y_test = train_test_split(X, y, random_state= 1, test_size=0.20)"
      ],
      "execution_count": 15,
      "outputs": []
    },
    {
      "cell_type": "markdown",
      "metadata": {
        "id": "D_paBe77cSjd"
      },
      "source": [
        "Generate a regession decision tree using `DecisionTreeRegressor` in sklearn. Fit the model on the training set and calculate the score for both train and test."
      ]
    },
    {
      "cell_type": "code",
      "metadata": {
        "id": "OkLxsJCwcSjd",
        "outputId": "10370279-6358-47e3-de3f-c1bce7b8690c",
        "colab": {
          "base_uri": "https://localhost:8080/",
          "height": 52
        }
      },
      "source": [
        "# answer below:\n",
        "from sklearn.tree import DecisionTreeRegressor\n",
        "\n",
        "tree = DecisionTreeRegressor()\n",
        "tree.fit(X_train, y_train)\n",
        "\n",
        "print(f'Train score: {tree.score(X_train,y_train)}\\n'f'Test score: {tree.score(X_test,y_test)}')"
      ],
      "execution_count": 16,
      "outputs": [
        {
          "output_type": "stream",
          "text": [
            "Train score: 0.14291491955809144\n",
            "Test score: 0.15850199994292113\n"
          ],
          "name": "stdout"
        }
      ]
    }
  ]
}