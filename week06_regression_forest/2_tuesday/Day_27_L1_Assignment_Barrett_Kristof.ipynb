{
  "nbformat": 4,
  "nbformat_minor": 0,
  "metadata": {
    "kernelspec": {
      "display_name": "Python 3",
      "language": "python",
      "name": "python3"
    },
    "language_info": {
      "codemirror_mode": {
        "name": "ipython",
        "version": 3
      },
      "file_extension": ".py",
      "mimetype": "text/x-python",
      "name": "python",
      "nbconvert_exporter": "python",
      "pygments_lexer": "ipython3",
      "version": "3.7.0"
    },
    "colab": {
      "name": "Day_27_L1_Assignment_Barrett_Kristof.ipynb",
      "provenance": [],
      "collapsed_sections": []
    }
  },
  "cells": [
    {
      "cell_type": "markdown",
      "metadata": {
        "id": "NQ9CFZorWMLh"
      },
      "source": [
        "## Day 27 Lecture 1 Assignment\n",
        "\n",
        "In this assignment, we will learn statistical significance in linear models. We will use the google play store dataset loaded below and analyze the regression from this dataset."
      ]
    },
    {
      "cell_type": "code",
      "metadata": {
        "id": "Jnh84h3tWMLi",
        "outputId": "56a73f22-1417-4039-db13-0234c84e9999",
        "colab": {
          "base_uri": "https://localhost:8080/",
          "height": 72
        }
      },
      "source": [
        "%matplotlib inline\n",
        "import statsmodels.api as sm\n",
        "from sklearn import linear_model\n",
        "from sklearn.model_selection import train_test_split\n",
        "from sklearn.preprocessing import StandardScaler, PowerTransformer, QuantileTransformer, normalize, MinMaxScaler\n",
        "from scipy.stats import bartlett\n",
        "from scipy.stats import levene\n",
        "import matplotlib.pyplot as plt\n",
        "import seaborn as sns\n",
        "import numpy as np\n",
        "import pandas as pd"
      ],
      "execution_count": 1,
      "outputs": [
        {
          "output_type": "stream",
          "text": [
            "/usr/local/lib/python3.6/dist-packages/statsmodels/tools/_testing.py:19: FutureWarning: pandas.util.testing is deprecated. Use the functions in the public API at pandas.testing instead.\n",
            "  import pandas.util.testing as tm\n"
          ],
          "name": "stderr"
        }
      ]
    },
    {
      "cell_type": "code",
      "metadata": {
        "id": "v2e0QnpnWMLk"
      },
      "source": [
        "reviews = pd.read_csv('https://tf-assets-prod.s3.amazonaws.com/tf-curric/data-science/googleplaystore.csv')"
      ],
      "execution_count": 2,
      "outputs": []
    },
    {
      "cell_type": "code",
      "metadata": {
        "id": "JflXCj5CWMLm",
        "outputId": "5cdaf40f-bf36-4711-8a93-b80a243d8595",
        "colab": {
          "base_uri": "https://localhost:8080/",
          "height": 564
        }
      },
      "source": [
        "reviews.head()"
      ],
      "execution_count": 3,
      "outputs": [
        {
          "output_type": "execute_result",
          "data": {
            "text/html": [
              "<div>\n",
              "<style scoped>\n",
              "    .dataframe tbody tr th:only-of-type {\n",
              "        vertical-align: middle;\n",
              "    }\n",
              "\n",
              "    .dataframe tbody tr th {\n",
              "        vertical-align: top;\n",
              "    }\n",
              "\n",
              "    .dataframe thead th {\n",
              "        text-align: right;\n",
              "    }\n",
              "</style>\n",
              "<table border=\"1\" class=\"dataframe\">\n",
              "  <thead>\n",
              "    <tr style=\"text-align: right;\">\n",
              "      <th></th>\n",
              "      <th>App</th>\n",
              "      <th>Category</th>\n",
              "      <th>Rating</th>\n",
              "      <th>Reviews</th>\n",
              "      <th>Size</th>\n",
              "      <th>Installs</th>\n",
              "      <th>Type</th>\n",
              "      <th>Price</th>\n",
              "      <th>Content Rating</th>\n",
              "      <th>Genres</th>\n",
              "      <th>Last Updated</th>\n",
              "      <th>Current Ver</th>\n",
              "      <th>Android Ver</th>\n",
              "    </tr>\n",
              "  </thead>\n",
              "  <tbody>\n",
              "    <tr>\n",
              "      <th>0</th>\n",
              "      <td>Photo Editor &amp; Candy Camera &amp; Grid &amp; ScrapBook</td>\n",
              "      <td>ART_AND_DESIGN</td>\n",
              "      <td>4.1</td>\n",
              "      <td>159</td>\n",
              "      <td>19M</td>\n",
              "      <td>10,000+</td>\n",
              "      <td>Free</td>\n",
              "      <td>0</td>\n",
              "      <td>Everyone</td>\n",
              "      <td>Art &amp; Design</td>\n",
              "      <td>January 7, 2018</td>\n",
              "      <td>1.0.0</td>\n",
              "      <td>4.0.3 and up</td>\n",
              "    </tr>\n",
              "    <tr>\n",
              "      <th>1</th>\n",
              "      <td>Coloring book moana</td>\n",
              "      <td>ART_AND_DESIGN</td>\n",
              "      <td>3.9</td>\n",
              "      <td>967</td>\n",
              "      <td>14M</td>\n",
              "      <td>500,000+</td>\n",
              "      <td>Free</td>\n",
              "      <td>0</td>\n",
              "      <td>Everyone</td>\n",
              "      <td>Art &amp; Design;Pretend Play</td>\n",
              "      <td>January 15, 2018</td>\n",
              "      <td>2.0.0</td>\n",
              "      <td>4.0.3 and up</td>\n",
              "    </tr>\n",
              "    <tr>\n",
              "      <th>2</th>\n",
              "      <td>U Launcher Lite – FREE Live Cool Themes, Hide ...</td>\n",
              "      <td>ART_AND_DESIGN</td>\n",
              "      <td>4.7</td>\n",
              "      <td>87510</td>\n",
              "      <td>8.7M</td>\n",
              "      <td>5,000,000+</td>\n",
              "      <td>Free</td>\n",
              "      <td>0</td>\n",
              "      <td>Everyone</td>\n",
              "      <td>Art &amp; Design</td>\n",
              "      <td>August 1, 2018</td>\n",
              "      <td>1.2.4</td>\n",
              "      <td>4.0.3 and up</td>\n",
              "    </tr>\n",
              "    <tr>\n",
              "      <th>3</th>\n",
              "      <td>Sketch - Draw &amp; Paint</td>\n",
              "      <td>ART_AND_DESIGN</td>\n",
              "      <td>4.5</td>\n",
              "      <td>215644</td>\n",
              "      <td>25M</td>\n",
              "      <td>50,000,000+</td>\n",
              "      <td>Free</td>\n",
              "      <td>0</td>\n",
              "      <td>Teen</td>\n",
              "      <td>Art &amp; Design</td>\n",
              "      <td>June 8, 2018</td>\n",
              "      <td>Varies with device</td>\n",
              "      <td>4.2 and up</td>\n",
              "    </tr>\n",
              "    <tr>\n",
              "      <th>4</th>\n",
              "      <td>Pixel Draw - Number Art Coloring Book</td>\n",
              "      <td>ART_AND_DESIGN</td>\n",
              "      <td>4.3</td>\n",
              "      <td>967</td>\n",
              "      <td>2.8M</td>\n",
              "      <td>100,000+</td>\n",
              "      <td>Free</td>\n",
              "      <td>0</td>\n",
              "      <td>Everyone</td>\n",
              "      <td>Art &amp; Design;Creativity</td>\n",
              "      <td>June 20, 2018</td>\n",
              "      <td>1.1</td>\n",
              "      <td>4.4 and up</td>\n",
              "    </tr>\n",
              "  </tbody>\n",
              "</table>\n",
              "</div>"
            ],
            "text/plain": [
              "                                                 App  ...   Android Ver\n",
              "0     Photo Editor & Candy Camera & Grid & ScrapBook  ...  4.0.3 and up\n",
              "1                                Coloring book moana  ...  4.0.3 and up\n",
              "2  U Launcher Lite – FREE Live Cool Themes, Hide ...  ...  4.0.3 and up\n",
              "3                              Sketch - Draw & Paint  ...    4.2 and up\n",
              "4              Pixel Draw - Number Art Coloring Book  ...    4.4 and up\n",
              "\n",
              "[5 rows x 13 columns]"
            ]
          },
          "metadata": {
            "tags": []
          },
          "execution_count": 3
        }
      ]
    },
    {
      "cell_type": "markdown",
      "metadata": {
        "id": "RD7HAGooWMLo"
      },
      "source": [
        "We will predict app ratings using other features describing the app. To use these features, we must clean the data."
      ]
    },
    {
      "cell_type": "markdown",
      "metadata": {
        "id": "ieg0JuQlWMLu"
      },
      "source": [
        "To simplify, we will remove the app, category, size, installs, genres, last updated, current ver, and android ver columns. "
      ]
    },
    {
      "cell_type": "code",
      "metadata": {
        "id": "jPxJSCQTWMLr",
        "outputId": "30222a79-6589-4bfc-979c-0ab7993cd892",
        "colab": {
          "base_uri": "https://localhost:8080/",
          "height": 407
        }
      },
      "source": [
        "# answer below:\n",
        "feature_df = reviews.copy()\n",
        "feature_df.drop(['App', 'Category', 'Size', 'Installs', 'Genres', 'Last Updated', 'Current Ver', 'Android Ver'], axis =1, inplace=True)\n",
        "feature_df"
      ],
      "execution_count": 4,
      "outputs": [
        {
          "output_type": "execute_result",
          "data": {
            "text/html": [
              "<div>\n",
              "<style scoped>\n",
              "    .dataframe tbody tr th:only-of-type {\n",
              "        vertical-align: middle;\n",
              "    }\n",
              "\n",
              "    .dataframe tbody tr th {\n",
              "        vertical-align: top;\n",
              "    }\n",
              "\n",
              "    .dataframe thead th {\n",
              "        text-align: right;\n",
              "    }\n",
              "</style>\n",
              "<table border=\"1\" class=\"dataframe\">\n",
              "  <thead>\n",
              "    <tr style=\"text-align: right;\">\n",
              "      <th></th>\n",
              "      <th>Rating</th>\n",
              "      <th>Reviews</th>\n",
              "      <th>Type</th>\n",
              "      <th>Price</th>\n",
              "      <th>Content Rating</th>\n",
              "    </tr>\n",
              "  </thead>\n",
              "  <tbody>\n",
              "    <tr>\n",
              "      <th>0</th>\n",
              "      <td>4.1</td>\n",
              "      <td>159</td>\n",
              "      <td>Free</td>\n",
              "      <td>0</td>\n",
              "      <td>Everyone</td>\n",
              "    </tr>\n",
              "    <tr>\n",
              "      <th>1</th>\n",
              "      <td>3.9</td>\n",
              "      <td>967</td>\n",
              "      <td>Free</td>\n",
              "      <td>0</td>\n",
              "      <td>Everyone</td>\n",
              "    </tr>\n",
              "    <tr>\n",
              "      <th>2</th>\n",
              "      <td>4.7</td>\n",
              "      <td>87510</td>\n",
              "      <td>Free</td>\n",
              "      <td>0</td>\n",
              "      <td>Everyone</td>\n",
              "    </tr>\n",
              "    <tr>\n",
              "      <th>3</th>\n",
              "      <td>4.5</td>\n",
              "      <td>215644</td>\n",
              "      <td>Free</td>\n",
              "      <td>0</td>\n",
              "      <td>Teen</td>\n",
              "    </tr>\n",
              "    <tr>\n",
              "      <th>4</th>\n",
              "      <td>4.3</td>\n",
              "      <td>967</td>\n",
              "      <td>Free</td>\n",
              "      <td>0</td>\n",
              "      <td>Everyone</td>\n",
              "    </tr>\n",
              "    <tr>\n",
              "      <th>...</th>\n",
              "      <td>...</td>\n",
              "      <td>...</td>\n",
              "      <td>...</td>\n",
              "      <td>...</td>\n",
              "      <td>...</td>\n",
              "    </tr>\n",
              "    <tr>\n",
              "      <th>10836</th>\n",
              "      <td>4.5</td>\n",
              "      <td>38</td>\n",
              "      <td>Free</td>\n",
              "      <td>0</td>\n",
              "      <td>Everyone</td>\n",
              "    </tr>\n",
              "    <tr>\n",
              "      <th>10837</th>\n",
              "      <td>5.0</td>\n",
              "      <td>4</td>\n",
              "      <td>Free</td>\n",
              "      <td>0</td>\n",
              "      <td>Everyone</td>\n",
              "    </tr>\n",
              "    <tr>\n",
              "      <th>10838</th>\n",
              "      <td>NaN</td>\n",
              "      <td>3</td>\n",
              "      <td>Free</td>\n",
              "      <td>0</td>\n",
              "      <td>Everyone</td>\n",
              "    </tr>\n",
              "    <tr>\n",
              "      <th>10839</th>\n",
              "      <td>4.5</td>\n",
              "      <td>114</td>\n",
              "      <td>Free</td>\n",
              "      <td>0</td>\n",
              "      <td>Mature 17+</td>\n",
              "    </tr>\n",
              "    <tr>\n",
              "      <th>10840</th>\n",
              "      <td>4.5</td>\n",
              "      <td>398307</td>\n",
              "      <td>Free</td>\n",
              "      <td>0</td>\n",
              "      <td>Everyone</td>\n",
              "    </tr>\n",
              "  </tbody>\n",
              "</table>\n",
              "<p>10841 rows × 5 columns</p>\n",
              "</div>"
            ],
            "text/plain": [
              "       Rating Reviews  Type Price Content Rating\n",
              "0         4.1     159  Free     0       Everyone\n",
              "1         3.9     967  Free     0       Everyone\n",
              "2         4.7   87510  Free     0       Everyone\n",
              "3         4.5  215644  Free     0           Teen\n",
              "4         4.3     967  Free     0       Everyone\n",
              "...       ...     ...   ...   ...            ...\n",
              "10836     4.5      38  Free     0       Everyone\n",
              "10837     5.0       4  Free     0       Everyone\n",
              "10838     NaN       3  Free     0       Everyone\n",
              "10839     4.5     114  Free     0     Mature 17+\n",
              "10840     4.5  398307  Free     0       Everyone\n",
              "\n",
              "[10841 rows x 5 columns]"
            ]
          },
          "metadata": {
            "tags": []
          },
          "execution_count": 4
        }
      ]
    },
    {
      "cell_type": "markdown",
      "metadata": {
        "id": "DKtcnNARWMLq"
      },
      "source": [
        "Check for missing values and remove all rows containing missing values"
      ]
    },
    {
      "cell_type": "code",
      "metadata": {
        "id": "RNxRhhpuWMLu",
        "outputId": "9f16cfe7-e95a-4cf2-a5a2-9b5bcefb13fa",
        "colab": {
          "base_uri": "https://localhost:8080/",
          "height": 121
        }
      },
      "source": [
        "# answer below:\n",
        "missing_report = feature_df.isnull().sum()/feature_df.isnull().count()\n",
        "missing_report"
      ],
      "execution_count": 5,
      "outputs": [
        {
          "output_type": "execute_result",
          "data": {
            "text/plain": [
              "Rating            0.135965\n",
              "Reviews           0.000000\n",
              "Type              0.000092\n",
              "Price             0.000000\n",
              "Content Rating    0.000092\n",
              "dtype: float64"
            ]
          },
          "metadata": {
            "tags": []
          },
          "execution_count": 5
        }
      ]
    },
    {
      "cell_type": "code",
      "metadata": {
        "id": "9-kFcwWAThxD",
        "outputId": "19cc7d40-3330-4858-8269-251ed22be99c",
        "colab": {
          "base_uri": "https://localhost:8080/",
          "height": 121
        }
      },
      "source": [
        "feature_df.dropna(inplace=True)\n",
        "missing_report = feature_df.isnull().sum()/feature_df.isnull().count()\n",
        "missing_report"
      ],
      "execution_count": 6,
      "outputs": [
        {
          "output_type": "execute_result",
          "data": {
            "text/plain": [
              "Rating            0.0\n",
              "Reviews           0.0\n",
              "Type              0.0\n",
              "Price             0.0\n",
              "Content Rating    0.0\n",
              "dtype: float64"
            ]
          },
          "metadata": {
            "tags": []
          },
          "execution_count": 6
        }
      ]
    },
    {
      "cell_type": "markdown",
      "metadata": {
        "id": "HcBzon3rYp4H"
      },
      "source": [
        "Remove outliers from the Type and Content Rating columns (very rare values that won't train well)."
      ]
    },
    {
      "cell_type": "code",
      "metadata": {
        "id": "drpIxOvYYqAh",
        "outputId": "edc8f21a-c478-40e2-bd0a-f2203e241040",
        "colab": {
          "base_uri": "https://localhost:8080/",
          "height": 69
        }
      },
      "source": [
        "# answer below:\n",
        "feature_df['Type'].value_counts()"
      ],
      "execution_count": 7,
      "outputs": [
        {
          "output_type": "execute_result",
          "data": {
            "text/plain": [
              "Free    8719\n",
              "Paid     647\n",
              "Name: Type, dtype: int64"
            ]
          },
          "metadata": {
            "tags": []
          },
          "execution_count": 7
        }
      ]
    },
    {
      "cell_type": "code",
      "metadata": {
        "id": "cv-Cp2DOUInr",
        "outputId": "a811a06a-c254-4084-96fc-e7f1907598d0",
        "colab": {
          "base_uri": "https://localhost:8080/",
          "height": 138
        }
      },
      "source": [
        "feature_df['Content Rating'].value_counts()"
      ],
      "execution_count": 8,
      "outputs": [
        {
          "output_type": "execute_result",
          "data": {
            "text/plain": [
              "Everyone           7420\n",
              "Teen               1084\n",
              "Mature 17+          461\n",
              "Everyone 10+        397\n",
              "Adults only 18+       3\n",
              "Unrated               1\n",
              "Name: Content Rating, dtype: int64"
            ]
          },
          "metadata": {
            "tags": []
          },
          "execution_count": 8
        }
      ]
    },
    {
      "cell_type": "code",
      "metadata": {
        "id": "Bj4l6GKGUVN7"
      },
      "source": [
        "feature_df.drop(feature_df[feature_df['Content Rating']=='Unrated'].index, inplace=True)\n",
        "feature_df.drop(feature_df[feature_df['Content Rating']=='Adults only 18+'].index, inplace=True)"
      ],
      "execution_count": 9,
      "outputs": []
    },
    {
      "cell_type": "code",
      "metadata": {
        "id": "HK2pC88pYvo8",
        "outputId": "192838ef-92fd-4647-f16c-6e34eb499350",
        "colab": {
          "base_uri": "https://localhost:8080/",
          "height": 104
        }
      },
      "source": [
        "feature_df['Content Rating'].value_counts()"
      ],
      "execution_count": 10,
      "outputs": [
        {
          "output_type": "execute_result",
          "data": {
            "text/plain": [
              "Everyone        7420\n",
              "Teen            1084\n",
              "Mature 17+       461\n",
              "Everyone 10+     397\n",
              "Name: Content Rating, dtype: int64"
            ]
          },
          "metadata": {
            "tags": []
          },
          "execution_count": 10
        }
      ]
    },
    {
      "cell_type": "markdown",
      "metadata": {
        "id": "WXUwnEbMV6_d"
      },
      "source": [
        "Convert the Type and Content Rating columns to a numeric format, whether by one-hot encoding, ordinal encoding, or similar."
      ]
    },
    {
      "cell_type": "code",
      "metadata": {
        "id": "T_SPpHdUV7I-"
      },
      "source": [
        "# answer below:\n",
        "feature_df = pd.concat([feature_df,\n",
        "                        pd.get_dummies(feature_df['Type'], prefix='type', drop_first=True)],\n",
        "                       axis=1)\n",
        "\n",
        "feature_df = pd.concat([feature_df,\n",
        "                        pd.get_dummies(feature_df['Content Rating'], prefix='ContentRating', drop_first=True)],\n",
        "                       axis=1)\n",
        "\n",
        "feature_df.drop(['Type','Content Rating'], axis=1, inplace=True)"
      ],
      "execution_count": 11,
      "outputs": []
    },
    {
      "cell_type": "code",
      "metadata": {
        "id": "VF0YMbXwZbVS",
        "outputId": "73f79449-9137-4bba-be59-2acacefca127",
        "colab": {
          "base_uri": "https://localhost:8080/",
          "height": 215
        }
      },
      "source": [
        "feature_df.head()"
      ],
      "execution_count": 12,
      "outputs": [
        {
          "output_type": "execute_result",
          "data": {
            "text/html": [
              "<div>\n",
              "<style scoped>\n",
              "    .dataframe tbody tr th:only-of-type {\n",
              "        vertical-align: middle;\n",
              "    }\n",
              "\n",
              "    .dataframe tbody tr th {\n",
              "        vertical-align: top;\n",
              "    }\n",
              "\n",
              "    .dataframe thead th {\n",
              "        text-align: right;\n",
              "    }\n",
              "</style>\n",
              "<table border=\"1\" class=\"dataframe\">\n",
              "  <thead>\n",
              "    <tr style=\"text-align: right;\">\n",
              "      <th></th>\n",
              "      <th>Rating</th>\n",
              "      <th>Reviews</th>\n",
              "      <th>Price</th>\n",
              "      <th>type_Paid</th>\n",
              "      <th>ContentRating_Everyone 10+</th>\n",
              "      <th>ContentRating_Mature 17+</th>\n",
              "      <th>ContentRating_Teen</th>\n",
              "    </tr>\n",
              "  </thead>\n",
              "  <tbody>\n",
              "    <tr>\n",
              "      <th>0</th>\n",
              "      <td>4.1</td>\n",
              "      <td>159</td>\n",
              "      <td>0</td>\n",
              "      <td>0</td>\n",
              "      <td>0</td>\n",
              "      <td>0</td>\n",
              "      <td>0</td>\n",
              "    </tr>\n",
              "    <tr>\n",
              "      <th>1</th>\n",
              "      <td>3.9</td>\n",
              "      <td>967</td>\n",
              "      <td>0</td>\n",
              "      <td>0</td>\n",
              "      <td>0</td>\n",
              "      <td>0</td>\n",
              "      <td>0</td>\n",
              "    </tr>\n",
              "    <tr>\n",
              "      <th>2</th>\n",
              "      <td>4.7</td>\n",
              "      <td>87510</td>\n",
              "      <td>0</td>\n",
              "      <td>0</td>\n",
              "      <td>0</td>\n",
              "      <td>0</td>\n",
              "      <td>0</td>\n",
              "    </tr>\n",
              "    <tr>\n",
              "      <th>3</th>\n",
              "      <td>4.5</td>\n",
              "      <td>215644</td>\n",
              "      <td>0</td>\n",
              "      <td>0</td>\n",
              "      <td>0</td>\n",
              "      <td>0</td>\n",
              "      <td>1</td>\n",
              "    </tr>\n",
              "    <tr>\n",
              "      <th>4</th>\n",
              "      <td>4.3</td>\n",
              "      <td>967</td>\n",
              "      <td>0</td>\n",
              "      <td>0</td>\n",
              "      <td>0</td>\n",
              "      <td>0</td>\n",
              "      <td>0</td>\n",
              "    </tr>\n",
              "  </tbody>\n",
              "</table>\n",
              "</div>"
            ],
            "text/plain": [
              "   Rating Reviews  ... ContentRating_Mature 17+  ContentRating_Teen\n",
              "0     4.1     159  ...                        0                   0\n",
              "1     3.9     967  ...                        0                   0\n",
              "2     4.7   87510  ...                        0                   0\n",
              "3     4.5  215644  ...                        0                   1\n",
              "4     4.3     967  ...                        0                   0\n",
              "\n",
              "[5 rows x 7 columns]"
            ]
          },
          "metadata": {
            "tags": []
          },
          "execution_count": 12
        }
      ]
    },
    {
      "cell_type": "markdown",
      "metadata": {
        "id": "0SeSNeEYWMLw"
      },
      "source": [
        "Finally, check that all the columns are of numeric type and change the type of columns that are not numeric. If coercing to numeric causes missing values, remove those rows containing missing values from our dataset."
      ]
    },
    {
      "cell_type": "code",
      "metadata": {
        "id": "86utYNpbb0nJ",
        "outputId": "1b2498e3-4966-409f-ee11-067360681c25",
        "colab": {
          "base_uri": "https://localhost:8080/",
          "height": 259
        }
      },
      "source": [
        "feature_df.info()"
      ],
      "execution_count": 13,
      "outputs": [
        {
          "output_type": "stream",
          "text": [
            "<class 'pandas.core.frame.DataFrame'>\n",
            "Int64Index: 9362 entries, 0 to 10840\n",
            "Data columns (total 7 columns):\n",
            " #   Column                      Non-Null Count  Dtype  \n",
            "---  ------                      --------------  -----  \n",
            " 0   Rating                      9362 non-null   float64\n",
            " 1   Reviews                     9362 non-null   object \n",
            " 2   Price                       9362 non-null   object \n",
            " 3   type_Paid                   9362 non-null   uint8  \n",
            " 4   ContentRating_Everyone 10+  9362 non-null   uint8  \n",
            " 5   ContentRating_Mature 17+    9362 non-null   uint8  \n",
            " 6   ContentRating_Teen          9362 non-null   uint8  \n",
            "dtypes: float64(1), object(2), uint8(4)\n",
            "memory usage: 329.1+ KB\n"
          ],
          "name": "stdout"
        }
      ]
    },
    {
      "cell_type": "code",
      "metadata": {
        "id": "ekLmNfC5cCJb"
      },
      "source": [
        "feature_df['Reviews'] = pd.to_numeric(feature_df['Reviews'], errors='coerce', downcast='integer')"
      ],
      "execution_count": 14,
      "outputs": []
    },
    {
      "cell_type": "code",
      "metadata": {
        "id": "53xioitacI1X"
      },
      "source": [
        "feature_df['Price'] = feature_df['Price'].str.strip('$')"
      ],
      "execution_count": 15,
      "outputs": []
    },
    {
      "cell_type": "code",
      "metadata": {
        "id": "KTCb7k0Tf4ZQ"
      },
      "source": [
        "feature_df['Price'] = feature_df['Price'].astype(float)"
      ],
      "execution_count": 16,
      "outputs": []
    },
    {
      "cell_type": "code",
      "metadata": {
        "id": "Z2vee0R4hhzm",
        "outputId": "dd2a665a-a2de-4b98-e1cf-1e0dca909471",
        "colab": {
          "base_uri": "https://localhost:8080/",
          "height": 259
        }
      },
      "source": [
        "feature_df.info()"
      ],
      "execution_count": 17,
      "outputs": [
        {
          "output_type": "stream",
          "text": [
            "<class 'pandas.core.frame.DataFrame'>\n",
            "Int64Index: 9362 entries, 0 to 10840\n",
            "Data columns (total 7 columns):\n",
            " #   Column                      Non-Null Count  Dtype  \n",
            "---  ------                      --------------  -----  \n",
            " 0   Rating                      9362 non-null   float64\n",
            " 1   Reviews                     9362 non-null   int32  \n",
            " 2   Price                       9362 non-null   float64\n",
            " 3   type_Paid                   9362 non-null   uint8  \n",
            " 4   ContentRating_Everyone 10+  9362 non-null   uint8  \n",
            " 5   ContentRating_Mature 17+    9362 non-null   uint8  \n",
            " 6   ContentRating_Teen          9362 non-null   uint8  \n",
            "dtypes: float64(2), int32(1), uint8(4)\n",
            "memory usage: 292.6 KB\n"
          ],
          "name": "stdout"
        }
      ]
    },
    {
      "cell_type": "markdown",
      "metadata": {
        "id": "GvmM687VWML1"
      },
      "source": [
        "Perform a train test split with 20% of the data in the test sample."
      ]
    },
    {
      "cell_type": "code",
      "metadata": {
        "id": "COJv_NenWML1"
      },
      "source": [
        "# answer below:\n",
        "X = feature_df.drop(['Rating'], axis=1)\n",
        "y = feature_df[['Rating']]\n",
        "\n",
        "X_train, X_test, y_train, y_test = train_test_split(X, y, test_size=0.2)"
      ],
      "execution_count": 18,
      "outputs": []
    },
    {
      "cell_type": "markdown",
      "metadata": {
        "id": "ke4J9CM2WML3"
      },
      "source": [
        "Now generate a linear model using statsmodels and produce a p value for each coefficient in the model. Analyze the results. (Look at the results table and at a homoscedasticity plot.)"
      ]
    },
    {
      "cell_type": "code",
      "metadata": {
        "id": "lo0tMmlEWML3",
        "outputId": "2f90c3c6-aa86-4d70-ec1f-123e0499e385",
        "colab": {
          "base_uri": "https://localhost:8080/",
          "height": 570
        }
      },
      "source": [
        "# answer below:\n",
        "X_train = sm.add_constant(X_train)\n",
        "\n",
        "results = sm.OLS(y_train, X_train).fit()\n",
        "\n",
        "print(results.summary())"
      ],
      "execution_count": 19,
      "outputs": [
        {
          "output_type": "stream",
          "text": [
            "                            OLS Regression Results                            \n",
            "==============================================================================\n",
            "Dep. Variable:                 Rating   R-squared:                       0.010\n",
            "Model:                            OLS   Adj. R-squared:                  0.009\n",
            "Method:                 Least Squares   F-statistic:                     12.37\n",
            "Date:                Tue, 20 Oct 2020   Prob (F-statistic):           6.61e-14\n",
            "Time:                        23:50:28   Log-Likelihood:                -5617.8\n",
            "No. Observations:                7489   AIC:                         1.125e+04\n",
            "Df Residuals:                    7482   BIC:                         1.130e+04\n",
            "Df Model:                           6                                         \n",
            "Covariance Type:            nonrobust                                         \n",
            "==============================================================================================\n",
            "                                 coef    std err          t      P>|t|      [0.025      0.975]\n",
            "----------------------------------------------------------------------------------------------\n",
            "const                          4.1729      0.007    602.581      0.000       4.159       4.186\n",
            "Reviews                     1.196e-08   2.03e-09      5.880      0.000    7.97e-09    1.59e-08\n",
            "Price                         -0.0010      0.000     -2.681      0.007      -0.002      -0.000\n",
            "type_Paid                      0.1094      0.024      4.555      0.000       0.062       0.156\n",
            "ContentRating_Everyone 10+     0.0540      0.030      1.796      0.073      -0.005       0.113\n",
            "ContentRating_Mature 17+      -0.0566      0.027     -2.088      0.037      -0.110      -0.003\n",
            "ContentRating_Teen             0.0467      0.019      2.492      0.013       0.010       0.084\n",
            "==============================================================================\n",
            "Omnibus:                     2964.586   Durbin-Watson:                   1.999\n",
            "Prob(Omnibus):                  0.000   Jarque-Bera (JB):            15200.364\n",
            "Skew:                          -1.853   Prob(JB):                         0.00\n",
            "Kurtosis:                       8.914   Cond. No.                     1.52e+07\n",
            "==============================================================================\n",
            "\n",
            "Warnings:\n",
            "[1] Standard Errors assume that the covariance matrix of the errors is correctly specified.\n",
            "[2] The condition number is large, 1.52e+07. This might indicate that there are\n",
            "strong multicollinearity or other numerical problems.\n"
          ],
          "name": "stdout"
        }
      ]
    },
    {
      "cell_type": "markdown",
      "metadata": {
        "id": "RgNsuFyskxZA"
      },
      "source": [
        "All the p-values are less than 0.05, therefore the coefficients are significant (not zero)"
      ]
    },
    {
      "cell_type": "code",
      "metadata": {
        "id": "ykfqQMxzkvux",
        "outputId": "73bee30b-719e-484a-f325-1c41f2e954d6",
        "colab": {
          "base_uri": "https://localhost:8080/",
          "height": 86
        }
      },
      "source": [
        "lrm = linear_model.LinearRegression()\n",
        "\n",
        "lrm.fit(X_train, y_train)\n",
        "X_test = sm.add_constant(X_test)\n",
        "y_preds = results.predict(X_test)\n",
        "errors = y_test['Rating'] - y_preds\n",
        "print(f'Coefs: {lrm.coef_}')\n",
        "print(f'Intercept: {lrm.intercept_}')\n",
        "print(f'Mean of errors: {np.mean(errors)}')"
      ],
      "execution_count": 20,
      "outputs": [
        {
          "output_type": "stream",
          "text": [
            "Coefs: [[ 0.00000000e+00  1.19567797e-08 -9.91132536e-04  1.09357473e-01\n",
            "   5.39806566e-02 -5.66441457e-02  4.67438169e-02]]\n",
            "Intercept: [4.17286641]\n",
            "Mean of errors: 0.00599945918439066\n"
          ],
          "name": "stdout"
        }
      ]
    },
    {
      "cell_type": "code",
      "metadata": {
        "id": "fWtO353glh9b",
        "outputId": "2fd8f212-4d02-439e-96d9-a61194e86831",
        "colab": {
          "base_uri": "https://localhost:8080/",
          "height": 390
        }
      },
      "source": [
        "plt.figure(figsize=(14,6))\n",
        "plt.scatter(y_preds, errors)\n",
        "plt.axhline(y=0)\n",
        "plt.xlabel('Predictions')\n",
        "plt.ylabel('Residuals')\n",
        "plt.show()"
      ],
      "execution_count": 21,
      "outputs": [
        {
          "output_type": "display_data",
          "data": {
            "image/png": "[encoded data removed]",
            "text/plain": [
              "<Figure size 1008x432 with 1 Axes>"
            ]
          },
          "metadata": {
            "tags": [],
            "needs_background": "light"
          }
        }
      ]
    },
    {
      "cell_type": "code",
      "metadata": {
        "id": "oduHgoqWmM1B",
        "outputId": "616855ae-c993-4913-bd8c-bb7ddb80f10f",
        "colab": {
          "base_uri": "https://localhost:8080/",
          "height": 86
        }
      },
      "source": [
        "bart_stats = bartlett(y_preds, errors)\n",
        "lev_stats = levene(y_preds, errors)\n",
        "\n",
        "print('Bartlett test:')\n",
        "print(bart_stats)\n",
        "print('Levene test:')\n",
        "print(lev_stats)"
      ],
      "execution_count": 22,
      "outputs": [
        {
          "output_type": "stream",
          "text": [
            "Bartlett test:\n",
            "BartlettResult(statistic=5502.718610552975, pvalue=0.0)\n",
            "Levene test:\n",
            "LeveneResult(statistic=1247.1677180877548, pvalue=4.637421908342998e-236)\n"
          ],
          "name": "stdout"
        }
      ]
    },
    {
      "cell_type": "code",
      "metadata": {
        "id": "CeAp4Ia98kia",
        "outputId": "99b2b29e-8252-45b9-b878-17caad8149df",
        "colab": {
          "base_uri": "https://localhost:8080/",
          "height": 295
        }
      },
      "source": [
        "plt.scatter(y_test['Rating'], y_preds)\n",
        "plt.scatter(y_test['Rating'], y_test['Rating'], color=\"red\")\n",
        "plt.xlabel(\"true values\")\n",
        "plt.ylabel(\"predicted values\")\n",
        "plt.title(\"Charges: true and predicted values\")\n",
        "plt.show()"
      ],
      "execution_count": 23,
      "outputs": [
        {
          "output_type": "display_data",
          "data": {
            "image/png": "[encoded data removed]",
            "text/plain": [
              "<Figure size 432x288 with 1 Axes>"
            ]
          },
          "metadata": {
            "tags": [],
            "needs_background": "light"
          }
        }
      ]
    },
    {
      "cell_type": "markdown",
      "metadata": {
        "id": "mWph5fSlg-HG"
      },
      "source": [
        "Scale your predictors and refit the linear model.\n",
        "\n",
        "* How does this change the coefficients?\n",
        "* How does this change the coefficients' p values?\n",
        "* How does this change model performance?"
      ]
    },
    {
      "cell_type": "code",
      "metadata": {
        "id": "BfOvXFh5WML5"
      },
      "source": [
        "# answer below:\n",
        "X_train_scaled = X_train.copy()\n",
        "X_test_scaled = X_test.copy()\n",
        "y_train_scaled = y_train.copy()\n",
        "y_test_scaled = y_test.copy()\n",
        "\n",
        "X_train_scaled.drop(['const'], axis=1, inplace=True)\n",
        "X_test_scaled.drop(['const'], axis=1, inplace=True)\n",
        "\n",
        "# quantile = QuantileTransformer(output_distribution='normal')\n",
        "# scaler = StandardScaler()\n",
        "minmax_scaler = MinMaxScaler()\n",
        "\n",
        "for col in X_train_scaled.columns:\n",
        "  X_train_scaled[col] = minmax_scaler.fit_transform(X_train_scaled[[col]])\n",
        "\n",
        "for col in X_test_scaled.columns:\n",
        "  X_test_scaled[col] = minmax_scaler.fit_transform(X_test_scaled[[col]])\n",
        "\n",
        "y_train_scaled['Rating'] = minmax_scaler.fit_transform(y_train_scaled[['Rating']])\n",
        "\n",
        "y_test_scaled['Rating'] = minmax_scaler.fit_transform(y_test_scaled[['Rating']])"
      ],
      "execution_count": 28,
      "outputs": []
    },
    {
      "cell_type": "code",
      "metadata": {
        "id": "Ht39skb4qlme",
        "outputId": "3ad4a51b-c561-46c6-f7a5-f7a4c58811ef",
        "colab": {
          "base_uri": "https://localhost:8080/",
          "height": 535
        }
      },
      "source": [
        "X_train_scaled = sm.add_constant(X_train_scaled)\n",
        "results = sm.OLS(y_train_scaled, X_train_scaled).fit()\n",
        "\n",
        "print(results.summary())"
      ],
      "execution_count": 29,
      "outputs": [
        {
          "output_type": "stream",
          "text": [
            "                            OLS Regression Results                            \n",
            "==============================================================================\n",
            "Dep. Variable:                 Rating   R-squared:                       0.010\n",
            "Model:                            OLS   Adj. R-squared:                  0.009\n",
            "Method:                 Least Squares   F-statistic:                     12.37\n",
            "Date:                Tue, 20 Oct 2020   Prob (F-statistic):           6.61e-14\n",
            "Time:                        23:51:08   Log-Likelihood:                 4764.1\n",
            "No. Observations:                7489   AIC:                            -9514.\n",
            "Df Residuals:                    7482   BIC:                            -9466.\n",
            "Df Model:                           6                                         \n",
            "Covariance Type:            nonrobust                                         \n",
            "==============================================================================================\n",
            "                                 coef    std err          t      P>|t|      [0.025      0.975]\n",
            "----------------------------------------------------------------------------------------------\n",
            "const                          0.7932      0.002    458.176      0.000       0.790       0.797\n",
            "Reviews                        0.2335      0.040      5.880      0.000       0.156       0.311\n",
            "Price                         -0.0991      0.037     -2.681      0.007      -0.172      -0.027\n",
            "type_Paid                      0.0273      0.006      4.555      0.000       0.016       0.039\n",
            "ContentRating_Everyone 10+     0.0135      0.008      1.796      0.073      -0.001       0.028\n",
            "ContentRating_Mature 17+      -0.0142      0.007     -2.088      0.037      -0.027      -0.001\n",
            "ContentRating_Teen             0.0117      0.005      2.492      0.013       0.002       0.021\n",
            "==============================================================================\n",
            "Omnibus:                     2964.586   Durbin-Watson:                   1.999\n",
            "Prob(Omnibus):                  0.000   Jarque-Bera (JB):            15200.364\n",
            "Skew:                          -1.853   Prob(JB):                         0.00\n",
            "Kurtosis:                       8.914   Cond. No.                         27.1\n",
            "==============================================================================\n",
            "\n",
            "Warnings:\n",
            "[1] Standard Errors assume that the covariance matrix of the errors is correctly specified.\n"
          ],
          "name": "stdout"
        }
      ]
    },
    {
      "cell_type": "code",
      "metadata": {
        "id": "Q36L8nZ_qU5M",
        "outputId": "213c0b09-bf14-4c5b-ac18-1fd2de331009",
        "colab": {
          "base_uri": "https://localhost:8080/",
          "height": 86
        }
      },
      "source": [
        "lrm = linear_model.LinearRegression()\n",
        "\n",
        "lrm.fit(X_train_scaled, y_train_scaled)\n",
        "X_test_scaled = sm.add_constant(X_test_scaled)\n",
        "y_preds_scaled = results.predict(X_test_scaled)\n",
        "errors_scaled = np.array(y_test_scaled['Rating'])-np.array(y_preds_scaled)\n",
        "print(f'Coefs: {lrm.coef_}')\n",
        "print(f'Intercept: {lrm.intercept_}')\n",
        "print(f'Mean of errors: {np.mean(errors_scaled)}')"
      ],
      "execution_count": 32,
      "outputs": [
        {
          "output_type": "stream",
          "text": [
            "Coefs: [[ 0.          0.23354044 -0.09911325  0.02733937  0.01349516 -0.01416104\n",
            "   0.01168595]]\n",
            "Intercept: [0.7932166]\n",
            "Mean of errors: 0.0015005770370407716\n"
          ],
          "name": "stdout"
        }
      ]
    },
    {
      "cell_type": "code",
      "metadata": {
        "id": "7PdBIBDBqh8v",
        "outputId": "160a3907-6177-4d00-87c9-5bb6142be5e0",
        "colab": {
          "base_uri": "https://localhost:8080/",
          "height": 388
        }
      },
      "source": [
        "plt.figure(figsize=(14,6))\n",
        "plt.scatter(y_preds_scaled, errors_scaled)\n",
        "plt.axhline(y=0)\n",
        "plt.xlabel('Predictions')\n",
        "plt.ylabel('Residuals')\n",
        "plt.show()"
      ],
      "execution_count": 33,
      "outputs": [
        {
          "output_type": "display_data",
          "data": {
            "image/png": "[encoded data removed]",
            "text/plain": [
              "<Figure size 1008x432 with 1 Axes>"
            ]
          },
          "metadata": {
            "tags": [],
            "needs_background": "light"
          }
        }
      ]
    },
    {
      "cell_type": "code",
      "metadata": {
        "id": "csoblTZ-wQ1N",
        "outputId": "1b1931b0-5338-4318-906b-7ade4d7518b2",
        "colab": {
          "base_uri": "https://localhost:8080/",
          "height": 295
        }
      },
      "source": [
        "plt.scatter(y_test_scaled['Rating'], y_preds_scaled)\n",
        "plt.scatter(y_test_scaled['Rating'], y_test_scaled['Rating'], color=\"red\")\n",
        "plt.xlabel(\"true values\")\n",
        "plt.ylabel(\"predicted values\")\n",
        "plt.title(\"Charges: true and predicted values\")\n",
        "plt.show()"
      ],
      "execution_count": 35,
      "outputs": [
        {
          "output_type": "display_data",
          "data": {
            "image/png": "[encoded data removed]",
            "text/plain": [
              "<Figure size 432x288 with 1 Axes>"
            ]
          },
          "metadata": {
            "tags": [],
            "needs_background": "light"
          }
        }
      ]
    },
    {
      "cell_type": "markdown",
      "metadata": {
        "id": "MaGM9bMacJH_"
      },
      "source": [
        "Using the MinMax scaler doesn't really do much to help the model fit the data."
      ]
    },
    {
      "cell_type": "code",
      "metadata": {
        "id": "zFz15pbWBWgb"
      },
      "source": [
        ""
      ],
      "execution_count": null,
      "outputs": []
    }
  ]
}