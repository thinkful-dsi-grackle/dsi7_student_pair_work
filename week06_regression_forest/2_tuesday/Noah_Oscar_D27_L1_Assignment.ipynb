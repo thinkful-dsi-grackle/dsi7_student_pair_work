{
  "nbformat": 4,
  "nbformat_minor": 0,
  "metadata": {
    "kernelspec": {
      "display_name": "Python 3",
      "language": "python",
      "name": "python3"
    },
    "language_info": {
      "codemirror_mode": {
        "name": "ipython",
        "version": 3
      },
      "file_extension": ".py",
      "mimetype": "text/x-python",
      "name": "python",
      "nbconvert_exporter": "python",
      "pygments_lexer": "ipython3",
      "version": "3.7.0"
    },
    "colab": {
      "name": "Noah_Oscar_D27_L1_Assignment.ipynb",
      "provenance": [],
      "collapsed_sections": []
    }
  },
  "cells": [
    {
      "cell_type": "markdown",
      "metadata": {
        "id": "NQ9CFZorWMLh"
      },
      "source": [
        "## Day 27 Lecture 1 Assignment\n",
        "\n",
        "In this assignment, we will learn statistical significance in linear models. We will use the google play store dataset loaded below and analyze the regression from this dataset."
      ]
    },
    {
      "cell_type": "code",
      "metadata": {
        "id": "Jnh84h3tWMLi",
        "outputId": "30ea2eed-4b5b-482f-cc2d-a3a1caef887e",
        "colab": {
          "base_uri": "https://localhost:8080/",
          "height": 71
        }
      },
      "source": [
        "%matplotlib inline\n",
        "\n",
        "import matplotlib.pyplot as plt\n",
        "import numpy as np\n",
        "import pandas as pd\n",
        "from sklearn import linear_model\n",
        "from sklearn.model_selection import train_test_split\n",
        "import statsmodels.api as sm"
      ],
      "execution_count": 1,
      "outputs": [
        {
          "output_type": "stream",
          "text": [
            "/usr/local/lib/python3.6/dist-packages/statsmodels/tools/_testing.py:19: FutureWarning: pandas.util.testing is deprecated. Use the functions in the public API at pandas.testing instead.\n",
            "  import pandas.util.testing as tm\n"
          ],
          "name": "stderr"
        }
      ]
    },
    {
      "cell_type": "code",
      "metadata": {
        "id": "v2e0QnpnWMLk"
      },
      "source": [
        "reviews = pd.read_csv('https://tf-assets-prod.s3.amazonaws.com/tf-curric/data-science/googleplaystore.csv')"
      ],
      "execution_count": 2,
      "outputs": []
    },
    {
      "cell_type": "code",
      "metadata": {
        "id": "JflXCj5CWMLm",
        "outputId": "cdee9ba5-22da-4ae8-e1b2-7a34274efc7d",
        "colab": {
          "base_uri": "https://localhost:8080/",
          "height": 564
        }
      },
      "source": [
        "reviews.head()"
      ],
      "execution_count": 3,
      "outputs": [
        {
          "output_type": "execute_result",
          "data": {
            "text/html": [
              "<div>\n",
              "<style scoped>\n",
              "    .dataframe tbody tr th:only-of-type {\n",
              "        vertical-align: middle;\n",
              "    }\n",
              "\n",
              "    .dataframe tbody tr th {\n",
              "        vertical-align: top;\n",
              "    }\n",
              "\n",
              "    .dataframe thead th {\n",
              "        text-align: right;\n",
              "    }\n",
              "</style>\n",
              "<table border=\"1\" class=\"dataframe\">\n",
              "  <thead>\n",
              "    <tr style=\"text-align: right;\">\n",
              "      <th></th>\n",
              "      <th>App</th>\n",
              "      <th>Category</th>\n",
              "      <th>Rating</th>\n",
              "      <th>Reviews</th>\n",
              "      <th>Size</th>\n",
              "      <th>Installs</th>\n",
              "      <th>Type</th>\n",
              "      <th>Price</th>\n",
              "      <th>Content Rating</th>\n",
              "      <th>Genres</th>\n",
              "      <th>Last Updated</th>\n",
              "      <th>Current Ver</th>\n",
              "      <th>Android Ver</th>\n",
              "    </tr>\n",
              "  </thead>\n",
              "  <tbody>\n",
              "    <tr>\n",
              "      <th>0</th>\n",
              "      <td>Photo Editor &amp; Candy Camera &amp; Grid &amp; ScrapBook</td>\n",
              "      <td>ART_AND_DESIGN</td>\n",
              "      <td>4.1</td>\n",
              "      <td>159</td>\n",
              "      <td>19M</td>\n",
              "      <td>10,000+</td>\n",
              "      <td>Free</td>\n",
              "      <td>0</td>\n",
              "      <td>Everyone</td>\n",
              "      <td>Art &amp; Design</td>\n",
              "      <td>January 7, 2018</td>\n",
              "      <td>1.0.0</td>\n",
              "      <td>4.0.3 and up</td>\n",
              "    </tr>\n",
              "    <tr>\n",
              "      <th>1</th>\n",
              "      <td>Coloring book moana</td>\n",
              "      <td>ART_AND_DESIGN</td>\n",
              "      <td>3.9</td>\n",
              "      <td>967</td>\n",
              "      <td>14M</td>\n",
              "      <td>500,000+</td>\n",
              "      <td>Free</td>\n",
              "      <td>0</td>\n",
              "      <td>Everyone</td>\n",
              "      <td>Art &amp; Design;Pretend Play</td>\n",
              "      <td>January 15, 2018</td>\n",
              "      <td>2.0.0</td>\n",
              "      <td>4.0.3 and up</td>\n",
              "    </tr>\n",
              "    <tr>\n",
              "      <th>2</th>\n",
              "      <td>U Launcher Lite – FREE Live Cool Themes, Hide ...</td>\n",
              "      <td>ART_AND_DESIGN</td>\n",
              "      <td>4.7</td>\n",
              "      <td>87510</td>\n",
              "      <td>8.7M</td>\n",
              "      <td>5,000,000+</td>\n",
              "      <td>Free</td>\n",
              "      <td>0</td>\n",
              "      <td>Everyone</td>\n",
              "      <td>Art &amp; Design</td>\n",
              "      <td>August 1, 2018</td>\n",
              "      <td>1.2.4</td>\n",
              "      <td>4.0.3 and up</td>\n",
              "    </tr>\n",
              "    <tr>\n",
              "      <th>3</th>\n",
              "      <td>Sketch - Draw &amp; Paint</td>\n",
              "      <td>ART_AND_DESIGN</td>\n",
              "      <td>4.5</td>\n",
              "      <td>215644</td>\n",
              "      <td>25M</td>\n",
              "      <td>50,000,000+</td>\n",
              "      <td>Free</td>\n",
              "      <td>0</td>\n",
              "      <td>Teen</td>\n",
              "      <td>Art &amp; Design</td>\n",
              "      <td>June 8, 2018</td>\n",
              "      <td>Varies with device</td>\n",
              "      <td>4.2 and up</td>\n",
              "    </tr>\n",
              "    <tr>\n",
              "      <th>4</th>\n",
              "      <td>Pixel Draw - Number Art Coloring Book</td>\n",
              "      <td>ART_AND_DESIGN</td>\n",
              "      <td>4.3</td>\n",
              "      <td>967</td>\n",
              "      <td>2.8M</td>\n",
              "      <td>100,000+</td>\n",
              "      <td>Free</td>\n",
              "      <td>0</td>\n",
              "      <td>Everyone</td>\n",
              "      <td>Art &amp; Design;Creativity</td>\n",
              "      <td>June 20, 2018</td>\n",
              "      <td>1.1</td>\n",
              "      <td>4.4 and up</td>\n",
              "    </tr>\n",
              "  </tbody>\n",
              "</table>\n",
              "</div>"
            ],
            "text/plain": [
              "                                                 App  ...   Android Ver\n",
              "0     Photo Editor & Candy Camera & Grid & ScrapBook  ...  4.0.3 and up\n",
              "1                                Coloring book moana  ...  4.0.3 and up\n",
              "2  U Launcher Lite – FREE Live Cool Themes, Hide ...  ...  4.0.3 and up\n",
              "3                              Sketch - Draw & Paint  ...    4.2 and up\n",
              "4              Pixel Draw - Number Art Coloring Book  ...    4.4 and up\n",
              "\n",
              "[5 rows x 13 columns]"
            ]
          },
          "metadata": {
            "tags": []
          },
          "execution_count": 3
        }
      ]
    },
    {
      "cell_type": "markdown",
      "metadata": {
        "id": "RD7HAGooWMLo"
      },
      "source": [
        "We will predict app ratings using other features describing the app. To use these features, we must clean the data."
      ]
    },
    {
      "cell_type": "markdown",
      "metadata": {
        "id": "ieg0JuQlWMLu"
      },
      "source": [
        "To simplify, we will remove the app, category, size, installs, genres, last updated, current ver, and android ver columns. "
      ]
    },
    {
      "cell_type": "code",
      "metadata": {
        "id": "jPxJSCQTWMLr",
        "outputId": "6fc87a5c-0ac9-426a-aa18-47a5193a822c",
        "colab": {
          "base_uri": "https://localhost:8080/",
          "height": 128
        }
      },
      "source": [
        "# answer below:\n",
        "df = reviews.drop(columns=['App', 'Category', 'Size', 'Installs', 'Genres', 'Last Updated', 'Current Ver', 'Android Ver'])\n",
        "print(df.shape)\n",
        "df.head(2)"
      ],
      "execution_count": 4,
      "outputs": [
        {
          "output_type": "stream",
          "text": [
            "(10841, 5)\n"
          ],
          "name": "stdout"
        },
        {
          "output_type": "execute_result",
          "data": {
            "text/html": [
              "<div>\n",
              "<style scoped>\n",
              "    .dataframe tbody tr th:only-of-type {\n",
              "        vertical-align: middle;\n",
              "    }\n",
              "\n",
              "    .dataframe tbody tr th {\n",
              "        vertical-align: top;\n",
              "    }\n",
              "\n",
              "    .dataframe thead th {\n",
              "        text-align: right;\n",
              "    }\n",
              "</style>\n",
              "<table border=\"1\" class=\"dataframe\">\n",
              "  <thead>\n",
              "    <tr style=\"text-align: right;\">\n",
              "      <th></th>\n",
              "      <th>Rating</th>\n",
              "      <th>Reviews</th>\n",
              "      <th>Type</th>\n",
              "      <th>Price</th>\n",
              "      <th>Content Rating</th>\n",
              "    </tr>\n",
              "  </thead>\n",
              "  <tbody>\n",
              "    <tr>\n",
              "      <th>0</th>\n",
              "      <td>4.1</td>\n",
              "      <td>159</td>\n",
              "      <td>Free</td>\n",
              "      <td>0</td>\n",
              "      <td>Everyone</td>\n",
              "    </tr>\n",
              "    <tr>\n",
              "      <th>1</th>\n",
              "      <td>3.9</td>\n",
              "      <td>967</td>\n",
              "      <td>Free</td>\n",
              "      <td>0</td>\n",
              "      <td>Everyone</td>\n",
              "    </tr>\n",
              "  </tbody>\n",
              "</table>\n",
              "</div>"
            ],
            "text/plain": [
              "   Rating Reviews  Type Price Content Rating\n",
              "0     4.1     159  Free     0       Everyone\n",
              "1     3.9     967  Free     0       Everyone"
            ]
          },
          "metadata": {
            "tags": []
          },
          "execution_count": 4
        }
      ]
    },
    {
      "cell_type": "markdown",
      "metadata": {
        "id": "DKtcnNARWMLq"
      },
      "source": [
        "Check for missing values and remove all rows containing missing values"
      ]
    },
    {
      "cell_type": "code",
      "metadata": {
        "id": "RNxRhhpuWMLu",
        "outputId": "8f86ec59-3474-4097-9676-5fbbbc2bb60e",
        "colab": {
          "base_uri": "https://localhost:8080/",
          "height": 119
        }
      },
      "source": [
        "# answer below:\n",
        "df.isnull().sum()"
      ],
      "execution_count": 5,
      "outputs": [
        {
          "output_type": "execute_result",
          "data": {
            "text/plain": [
              "Rating            1474\n",
              "Reviews              0\n",
              "Type                 1\n",
              "Price                0\n",
              "Content Rating       1\n",
              "dtype: int64"
            ]
          },
          "metadata": {
            "tags": []
          },
          "execution_count": 5
        }
      ]
    },
    {
      "cell_type": "code",
      "metadata": {
        "id": "KZIqKYNLevzW",
        "outputId": "8e3df176-35bf-46c1-924d-9c4df206ccc9",
        "colab": {
          "base_uri": "https://localhost:8080/",
          "height": 119
        }
      },
      "source": [
        "df.dropna(inplace=True)\n",
        "df.isnull().sum()"
      ],
      "execution_count": 6,
      "outputs": [
        {
          "output_type": "execute_result",
          "data": {
            "text/plain": [
              "Rating            0\n",
              "Reviews           0\n",
              "Type              0\n",
              "Price             0\n",
              "Content Rating    0\n",
              "dtype: int64"
            ]
          },
          "metadata": {
            "tags": []
          },
          "execution_count": 6
        }
      ]
    },
    {
      "cell_type": "code",
      "metadata": {
        "id": "HdfUhKjAfGr6",
        "outputId": "6796e630-2140-4b88-903b-24656bed9ceb",
        "colab": {
          "base_uri": "https://localhost:8080/",
          "height": 34
        }
      },
      "source": [
        "df.shape"
      ],
      "execution_count": 7,
      "outputs": [
        {
          "output_type": "execute_result",
          "data": {
            "text/plain": [
              "(9366, 5)"
            ]
          },
          "metadata": {
            "tags": []
          },
          "execution_count": 7
        }
      ]
    },
    {
      "cell_type": "markdown",
      "metadata": {
        "id": "HcBzon3rYp4H"
      },
      "source": [
        "Remove outliers from the Type and Content Rating columns (very rare values that won't train well)."
      ]
    },
    {
      "cell_type": "code",
      "metadata": {
        "id": "drpIxOvYYqAh",
        "outputId": "2bbc6707-5533-4fab-9f8f-bb80c9d967fc",
        "colab": {
          "base_uri": "https://localhost:8080/",
          "height": 153
        }
      },
      "source": [
        "# answer below:\n",
        "print(df.nunique())\n",
        "print(df.Type.unique())\n",
        "print(df['Content Rating'].unique())"
      ],
      "execution_count": 8,
      "outputs": [
        {
          "output_type": "stream",
          "text": [
            "Rating              39\n",
            "Reviews           5992\n",
            "Type                 2\n",
            "Price               73\n",
            "Content Rating       6\n",
            "dtype: int64\n",
            "['Free' 'Paid']\n",
            "['Everyone' 'Teen' 'Everyone 10+' 'Mature 17+' 'Adults only 18+' 'Unrated']\n"
          ],
          "name": "stdout"
        }
      ]
    },
    {
      "cell_type": "code",
      "metadata": {
        "id": "5ISLFGp7o0FW",
        "outputId": "710891da-db92-455c-8aeb-24157f42dcc1",
        "colab": {
          "base_uri": "https://localhost:8080/",
          "height": 68
        }
      },
      "source": [
        "df.Type.value_counts()"
      ],
      "execution_count": 9,
      "outputs": [
        {
          "output_type": "execute_result",
          "data": {
            "text/plain": [
              "Free    8719\n",
              "Paid     647\n",
              "Name: Type, dtype: int64"
            ]
          },
          "metadata": {
            "tags": []
          },
          "execution_count": 9
        }
      ]
    },
    {
      "cell_type": "code",
      "metadata": {
        "id": "qM5suuOfpAHT",
        "outputId": "fac54b57-5754-46bf-ce9d-ee915b1eb153",
        "colab": {
          "base_uri": "https://localhost:8080/",
          "height": 136
        }
      },
      "source": [
        "df['Content Rating'].value_counts()"
      ],
      "execution_count": 10,
      "outputs": [
        {
          "output_type": "execute_result",
          "data": {
            "text/plain": [
              "Everyone           7420\n",
              "Teen               1084\n",
              "Mature 17+          461\n",
              "Everyone 10+        397\n",
              "Adults only 18+       3\n",
              "Unrated               1\n",
              "Name: Content Rating, dtype: int64"
            ]
          },
          "metadata": {
            "tags": []
          },
          "execution_count": 10
        }
      ]
    },
    {
      "cell_type": "code",
      "metadata": {
        "id": "4d8xgK3AxCLB"
      },
      "source": [
        "df = df.loc[(df['Content Rating'] != 'Adults only 18+') & (df['Content Rating'] != 'Unrated') ]"
      ],
      "execution_count": 11,
      "outputs": []
    },
    {
      "cell_type": "code",
      "metadata": {
        "id": "-eAyuO2_xLkz",
        "outputId": "b03441a9-ab00-4d84-9531-9609265f21c4",
        "colab": {
          "base_uri": "https://localhost:8080/",
          "height": 102
        }
      },
      "source": [
        "df['Content Rating'].value_counts()"
      ],
      "execution_count": 12,
      "outputs": [
        {
          "output_type": "execute_result",
          "data": {
            "text/plain": [
              "Everyone        7420\n",
              "Teen            1084\n",
              "Mature 17+       461\n",
              "Everyone 10+     397\n",
              "Name: Content Rating, dtype: int64"
            ]
          },
          "metadata": {
            "tags": []
          },
          "execution_count": 12
        }
      ]
    },
    {
      "cell_type": "code",
      "metadata": {
        "id": "jyhtfKtcZH2V",
        "outputId": "a9d5a01c-ab4b-4909-ffe9-2765f3f311df",
        "colab": {
          "base_uri": "https://localhost:8080/",
          "height": 419
        }
      },
      "source": [
        "df"
      ],
      "execution_count": 13,
      "outputs": [
        {
          "output_type": "execute_result",
          "data": {
            "text/html": [
              "<div>\n",
              "<style scoped>\n",
              "    .dataframe tbody tr th:only-of-type {\n",
              "        vertical-align: middle;\n",
              "    }\n",
              "\n",
              "    .dataframe tbody tr th {\n",
              "        vertical-align: top;\n",
              "    }\n",
              "\n",
              "    .dataframe thead th {\n",
              "        text-align: right;\n",
              "    }\n",
              "</style>\n",
              "<table border=\"1\" class=\"dataframe\">\n",
              "  <thead>\n",
              "    <tr style=\"text-align: right;\">\n",
              "      <th></th>\n",
              "      <th>Rating</th>\n",
              "      <th>Reviews</th>\n",
              "      <th>Type</th>\n",
              "      <th>Price</th>\n",
              "      <th>Content Rating</th>\n",
              "    </tr>\n",
              "  </thead>\n",
              "  <tbody>\n",
              "    <tr>\n",
              "      <th>0</th>\n",
              "      <td>4.1</td>\n",
              "      <td>159</td>\n",
              "      <td>Free</td>\n",
              "      <td>0</td>\n",
              "      <td>Everyone</td>\n",
              "    </tr>\n",
              "    <tr>\n",
              "      <th>1</th>\n",
              "      <td>3.9</td>\n",
              "      <td>967</td>\n",
              "      <td>Free</td>\n",
              "      <td>0</td>\n",
              "      <td>Everyone</td>\n",
              "    </tr>\n",
              "    <tr>\n",
              "      <th>2</th>\n",
              "      <td>4.7</td>\n",
              "      <td>87510</td>\n",
              "      <td>Free</td>\n",
              "      <td>0</td>\n",
              "      <td>Everyone</td>\n",
              "    </tr>\n",
              "    <tr>\n",
              "      <th>3</th>\n",
              "      <td>4.5</td>\n",
              "      <td>215644</td>\n",
              "      <td>Free</td>\n",
              "      <td>0</td>\n",
              "      <td>Teen</td>\n",
              "    </tr>\n",
              "    <tr>\n",
              "      <th>4</th>\n",
              "      <td>4.3</td>\n",
              "      <td>967</td>\n",
              "      <td>Free</td>\n",
              "      <td>0</td>\n",
              "      <td>Everyone</td>\n",
              "    </tr>\n",
              "    <tr>\n",
              "      <th>...</th>\n",
              "      <td>...</td>\n",
              "      <td>...</td>\n",
              "      <td>...</td>\n",
              "      <td>...</td>\n",
              "      <td>...</td>\n",
              "    </tr>\n",
              "    <tr>\n",
              "      <th>10834</th>\n",
              "      <td>4.0</td>\n",
              "      <td>7</td>\n",
              "      <td>Free</td>\n",
              "      <td>0</td>\n",
              "      <td>Everyone</td>\n",
              "    </tr>\n",
              "    <tr>\n",
              "      <th>10836</th>\n",
              "      <td>4.5</td>\n",
              "      <td>38</td>\n",
              "      <td>Free</td>\n",
              "      <td>0</td>\n",
              "      <td>Everyone</td>\n",
              "    </tr>\n",
              "    <tr>\n",
              "      <th>10837</th>\n",
              "      <td>5.0</td>\n",
              "      <td>4</td>\n",
              "      <td>Free</td>\n",
              "      <td>0</td>\n",
              "      <td>Everyone</td>\n",
              "    </tr>\n",
              "    <tr>\n",
              "      <th>10839</th>\n",
              "      <td>4.5</td>\n",
              "      <td>114</td>\n",
              "      <td>Free</td>\n",
              "      <td>0</td>\n",
              "      <td>Mature 17+</td>\n",
              "    </tr>\n",
              "    <tr>\n",
              "      <th>10840</th>\n",
              "      <td>4.5</td>\n",
              "      <td>398307</td>\n",
              "      <td>Free</td>\n",
              "      <td>0</td>\n",
              "      <td>Everyone</td>\n",
              "    </tr>\n",
              "  </tbody>\n",
              "</table>\n",
              "<p>9362 rows × 5 columns</p>\n",
              "</div>"
            ],
            "text/plain": [
              "       Rating Reviews  Type Price Content Rating\n",
              "0         4.1     159  Free     0       Everyone\n",
              "1         3.9     967  Free     0       Everyone\n",
              "2         4.7   87510  Free     0       Everyone\n",
              "3         4.5  215644  Free     0           Teen\n",
              "4         4.3     967  Free     0       Everyone\n",
              "...       ...     ...   ...   ...            ...\n",
              "10834     4.0       7  Free     0       Everyone\n",
              "10836     4.5      38  Free     0       Everyone\n",
              "10837     5.0       4  Free     0       Everyone\n",
              "10839     4.5     114  Free     0     Mature 17+\n",
              "10840     4.5  398307  Free     0       Everyone\n",
              "\n",
              "[9362 rows x 5 columns]"
            ]
          },
          "metadata": {
            "tags": []
          },
          "execution_count": 13
        }
      ]
    },
    {
      "cell_type": "code",
      "metadata": {
        "id": "1Upe6oK7dNCV"
      },
      "source": [
        ""
      ],
      "execution_count": 13,
      "outputs": []
    },
    {
      "cell_type": "markdown",
      "metadata": {
        "id": "WXUwnEbMV6_d"
      },
      "source": [
        "Convert the Type and Content Rating columns to a numeric format, whether by one-hot encoding, ordinal encoding, or similar."
      ]
    },
    {
      "cell_type": "code",
      "metadata": {
        "id": "L5DU6XDMdm8B"
      },
      "source": [
        "content_rating_dummies = pd.get_dummies(df['Content Rating'], drop_first=True)\n",
        "type_dummies = pd.get_dummies(df.Type, drop_first=True)"
      ],
      "execution_count": 14,
      "outputs": []
    },
    {
      "cell_type": "code",
      "metadata": {
        "id": "2Uj3xEvUb3HD"
      },
      "source": [
        "df = pd.concat([df, content_rating_dummies], axis=1)"
      ],
      "execution_count": 15,
      "outputs": []
    },
    {
      "cell_type": "code",
      "metadata": {
        "id": "bVRd07Vne62l",
        "outputId": "c6b246ad-724b-412c-cf6d-71f8673cbba7",
        "colab": {
          "base_uri": "https://localhost:8080/",
          "height": 419
        }
      },
      "source": [
        "df = pd.concat([df, type_dummies], axis=1)\n",
        "df"
      ],
      "execution_count": 16,
      "outputs": [
        {
          "output_type": "execute_result",
          "data": {
            "text/html": [
              "<div>\n",
              "<style scoped>\n",
              "    .dataframe tbody tr th:only-of-type {\n",
              "        vertical-align: middle;\n",
              "    }\n",
              "\n",
              "    .dataframe tbody tr th {\n",
              "        vertical-align: top;\n",
              "    }\n",
              "\n",
              "    .dataframe thead th {\n",
              "        text-align: right;\n",
              "    }\n",
              "</style>\n",
              "<table border=\"1\" class=\"dataframe\">\n",
              "  <thead>\n",
              "    <tr style=\"text-align: right;\">\n",
              "      <th></th>\n",
              "      <th>Rating</th>\n",
              "      <th>Reviews</th>\n",
              "      <th>Type</th>\n",
              "      <th>Price</th>\n",
              "      <th>Content Rating</th>\n",
              "      <th>Everyone 10+</th>\n",
              "      <th>Mature 17+</th>\n",
              "      <th>Teen</th>\n",
              "      <th>Paid</th>\n",
              "    </tr>\n",
              "  </thead>\n",
              "  <tbody>\n",
              "    <tr>\n",
              "      <th>0</th>\n",
              "      <td>4.1</td>\n",
              "      <td>159</td>\n",
              "      <td>Free</td>\n",
              "      <td>0</td>\n",
              "      <td>Everyone</td>\n",
              "      <td>0</td>\n",
              "      <td>0</td>\n",
              "      <td>0</td>\n",
              "      <td>0</td>\n",
              "    </tr>\n",
              "    <tr>\n",
              "      <th>1</th>\n",
              "      <td>3.9</td>\n",
              "      <td>967</td>\n",
              "      <td>Free</td>\n",
              "      <td>0</td>\n",
              "      <td>Everyone</td>\n",
              "      <td>0</td>\n",
              "      <td>0</td>\n",
              "      <td>0</td>\n",
              "      <td>0</td>\n",
              "    </tr>\n",
              "    <tr>\n",
              "      <th>2</th>\n",
              "      <td>4.7</td>\n",
              "      <td>87510</td>\n",
              "      <td>Free</td>\n",
              "      <td>0</td>\n",
              "      <td>Everyone</td>\n",
              "      <td>0</td>\n",
              "      <td>0</td>\n",
              "      <td>0</td>\n",
              "      <td>0</td>\n",
              "    </tr>\n",
              "    <tr>\n",
              "      <th>3</th>\n",
              "      <td>4.5</td>\n",
              "      <td>215644</td>\n",
              "      <td>Free</td>\n",
              "      <td>0</td>\n",
              "      <td>Teen</td>\n",
              "      <td>0</td>\n",
              "      <td>0</td>\n",
              "      <td>1</td>\n",
              "      <td>0</td>\n",
              "    </tr>\n",
              "    <tr>\n",
              "      <th>4</th>\n",
              "      <td>4.3</td>\n",
              "      <td>967</td>\n",
              "      <td>Free</td>\n",
              "      <td>0</td>\n",
              "      <td>Everyone</td>\n",
              "      <td>0</td>\n",
              "      <td>0</td>\n",
              "      <td>0</td>\n",
              "      <td>0</td>\n",
              "    </tr>\n",
              "    <tr>\n",
              "      <th>...</th>\n",
              "      <td>...</td>\n",
              "      <td>...</td>\n",
              "      <td>...</td>\n",
              "      <td>...</td>\n",
              "      <td>...</td>\n",
              "      <td>...</td>\n",
              "      <td>...</td>\n",
              "      <td>...</td>\n",
              "      <td>...</td>\n",
              "    </tr>\n",
              "    <tr>\n",
              "      <th>10834</th>\n",
              "      <td>4.0</td>\n",
              "      <td>7</td>\n",
              "      <td>Free</td>\n",
              "      <td>0</td>\n",
              "      <td>Everyone</td>\n",
              "      <td>0</td>\n",
              "      <td>0</td>\n",
              "      <td>0</td>\n",
              "      <td>0</td>\n",
              "    </tr>\n",
              "    <tr>\n",
              "      <th>10836</th>\n",
              "      <td>4.5</td>\n",
              "      <td>38</td>\n",
              "      <td>Free</td>\n",
              "      <td>0</td>\n",
              "      <td>Everyone</td>\n",
              "      <td>0</td>\n",
              "      <td>0</td>\n",
              "      <td>0</td>\n",
              "      <td>0</td>\n",
              "    </tr>\n",
              "    <tr>\n",
              "      <th>10837</th>\n",
              "      <td>5.0</td>\n",
              "      <td>4</td>\n",
              "      <td>Free</td>\n",
              "      <td>0</td>\n",
              "      <td>Everyone</td>\n",
              "      <td>0</td>\n",
              "      <td>0</td>\n",
              "      <td>0</td>\n",
              "      <td>0</td>\n",
              "    </tr>\n",
              "    <tr>\n",
              "      <th>10839</th>\n",
              "      <td>4.5</td>\n",
              "      <td>114</td>\n",
              "      <td>Free</td>\n",
              "      <td>0</td>\n",
              "      <td>Mature 17+</td>\n",
              "      <td>0</td>\n",
              "      <td>1</td>\n",
              "      <td>0</td>\n",
              "      <td>0</td>\n",
              "    </tr>\n",
              "    <tr>\n",
              "      <th>10840</th>\n",
              "      <td>4.5</td>\n",
              "      <td>398307</td>\n",
              "      <td>Free</td>\n",
              "      <td>0</td>\n",
              "      <td>Everyone</td>\n",
              "      <td>0</td>\n",
              "      <td>0</td>\n",
              "      <td>0</td>\n",
              "      <td>0</td>\n",
              "    </tr>\n",
              "  </tbody>\n",
              "</table>\n",
              "<p>9362 rows × 9 columns</p>\n",
              "</div>"
            ],
            "text/plain": [
              "       Rating Reviews  Type Price  ... Everyone 10+  Mature 17+  Teen  Paid\n",
              "0         4.1     159  Free     0  ...            0           0     0     0\n",
              "1         3.9     967  Free     0  ...            0           0     0     0\n",
              "2         4.7   87510  Free     0  ...            0           0     0     0\n",
              "3         4.5  215644  Free     0  ...            0           0     1     0\n",
              "4         4.3     967  Free     0  ...            0           0     0     0\n",
              "...       ...     ...   ...   ...  ...          ...         ...   ...   ...\n",
              "10834     4.0       7  Free     0  ...            0           0     0     0\n",
              "10836     4.5      38  Free     0  ...            0           0     0     0\n",
              "10837     5.0       4  Free     0  ...            0           0     0     0\n",
              "10839     4.5     114  Free     0  ...            0           1     0     0\n",
              "10840     4.5  398307  Free     0  ...            0           0     0     0\n",
              "\n",
              "[9362 rows x 9 columns]"
            ]
          },
          "metadata": {
            "tags": []
          },
          "execution_count": 16
        }
      ]
    },
    {
      "cell_type": "code",
      "metadata": {
        "id": "T_SPpHdUV7I-"
      },
      "source": [
        "df = df.drop(columns=['Type', 'Content Rating'])"
      ],
      "execution_count": 17,
      "outputs": []
    },
    {
      "cell_type": "code",
      "metadata": {
        "id": "_p93WGLwY6xK",
        "outputId": "4cf73ea5-24c5-4fea-beee-ce829e1930f3",
        "colab": {
          "base_uri": "https://localhost:8080/",
          "height": 419
        }
      },
      "source": [
        "df"
      ],
      "execution_count": 18,
      "outputs": [
        {
          "output_type": "execute_result",
          "data": {
            "text/html": [
              "<div>\n",
              "<style scoped>\n",
              "    .dataframe tbody tr th:only-of-type {\n",
              "        vertical-align: middle;\n",
              "    }\n",
              "\n",
              "    .dataframe tbody tr th {\n",
              "        vertical-align: top;\n",
              "    }\n",
              "\n",
              "    .dataframe thead th {\n",
              "        text-align: right;\n",
              "    }\n",
              "</style>\n",
              "<table border=\"1\" class=\"dataframe\">\n",
              "  <thead>\n",
              "    <tr style=\"text-align: right;\">\n",
              "      <th></th>\n",
              "      <th>Rating</th>\n",
              "      <th>Reviews</th>\n",
              "      <th>Price</th>\n",
              "      <th>Everyone 10+</th>\n",
              "      <th>Mature 17+</th>\n",
              "      <th>Teen</th>\n",
              "      <th>Paid</th>\n",
              "    </tr>\n",
              "  </thead>\n",
              "  <tbody>\n",
              "    <tr>\n",
              "      <th>0</th>\n",
              "      <td>4.1</td>\n",
              "      <td>159</td>\n",
              "      <td>0</td>\n",
              "      <td>0</td>\n",
              "      <td>0</td>\n",
              "      <td>0</td>\n",
              "      <td>0</td>\n",
              "    </tr>\n",
              "    <tr>\n",
              "      <th>1</th>\n",
              "      <td>3.9</td>\n",
              "      <td>967</td>\n",
              "      <td>0</td>\n",
              "      <td>0</td>\n",
              "      <td>0</td>\n",
              "      <td>0</td>\n",
              "      <td>0</td>\n",
              "    </tr>\n",
              "    <tr>\n",
              "      <th>2</th>\n",
              "      <td>4.7</td>\n",
              "      <td>87510</td>\n",
              "      <td>0</td>\n",
              "      <td>0</td>\n",
              "      <td>0</td>\n",
              "      <td>0</td>\n",
              "      <td>0</td>\n",
              "    </tr>\n",
              "    <tr>\n",
              "      <th>3</th>\n",
              "      <td>4.5</td>\n",
              "      <td>215644</td>\n",
              "      <td>0</td>\n",
              "      <td>0</td>\n",
              "      <td>0</td>\n",
              "      <td>1</td>\n",
              "      <td>0</td>\n",
              "    </tr>\n",
              "    <tr>\n",
              "      <th>4</th>\n",
              "      <td>4.3</td>\n",
              "      <td>967</td>\n",
              "      <td>0</td>\n",
              "      <td>0</td>\n",
              "      <td>0</td>\n",
              "      <td>0</td>\n",
              "      <td>0</td>\n",
              "    </tr>\n",
              "    <tr>\n",
              "      <th>...</th>\n",
              "      <td>...</td>\n",
              "      <td>...</td>\n",
              "      <td>...</td>\n",
              "      <td>...</td>\n",
              "      <td>...</td>\n",
              "      <td>...</td>\n",
              "      <td>...</td>\n",
              "    </tr>\n",
              "    <tr>\n",
              "      <th>10834</th>\n",
              "      <td>4.0</td>\n",
              "      <td>7</td>\n",
              "      <td>0</td>\n",
              "      <td>0</td>\n",
              "      <td>0</td>\n",
              "      <td>0</td>\n",
              "      <td>0</td>\n",
              "    </tr>\n",
              "    <tr>\n",
              "      <th>10836</th>\n",
              "      <td>4.5</td>\n",
              "      <td>38</td>\n",
              "      <td>0</td>\n",
              "      <td>0</td>\n",
              "      <td>0</td>\n",
              "      <td>0</td>\n",
              "      <td>0</td>\n",
              "    </tr>\n",
              "    <tr>\n",
              "      <th>10837</th>\n",
              "      <td>5.0</td>\n",
              "      <td>4</td>\n",
              "      <td>0</td>\n",
              "      <td>0</td>\n",
              "      <td>0</td>\n",
              "      <td>0</td>\n",
              "      <td>0</td>\n",
              "    </tr>\n",
              "    <tr>\n",
              "      <th>10839</th>\n",
              "      <td>4.5</td>\n",
              "      <td>114</td>\n",
              "      <td>0</td>\n",
              "      <td>0</td>\n",
              "      <td>1</td>\n",
              "      <td>0</td>\n",
              "      <td>0</td>\n",
              "    </tr>\n",
              "    <tr>\n",
              "      <th>10840</th>\n",
              "      <td>4.5</td>\n",
              "      <td>398307</td>\n",
              "      <td>0</td>\n",
              "      <td>0</td>\n",
              "      <td>0</td>\n",
              "      <td>0</td>\n",
              "      <td>0</td>\n",
              "    </tr>\n",
              "  </tbody>\n",
              "</table>\n",
              "<p>9362 rows × 7 columns</p>\n",
              "</div>"
            ],
            "text/plain": [
              "       Rating Reviews Price  Everyone 10+  Mature 17+  Teen  Paid\n",
              "0         4.1     159     0             0           0     0     0\n",
              "1         3.9     967     0             0           0     0     0\n",
              "2         4.7   87510     0             0           0     0     0\n",
              "3         4.5  215644     0             0           0     1     0\n",
              "4         4.3     967     0             0           0     0     0\n",
              "...       ...     ...   ...           ...         ...   ...   ...\n",
              "10834     4.0       7     0             0           0     0     0\n",
              "10836     4.5      38     0             0           0     0     0\n",
              "10837     5.0       4     0             0           0     0     0\n",
              "10839     4.5     114     0             0           1     0     0\n",
              "10840     4.5  398307     0             0           0     0     0\n",
              "\n",
              "[9362 rows x 7 columns]"
            ]
          },
          "metadata": {
            "tags": []
          },
          "execution_count": 18
        }
      ]
    },
    {
      "cell_type": "markdown",
      "metadata": {
        "id": "0SeSNeEYWMLw"
      },
      "source": [
        "Finally, check that all the columns are of numeric type and change the type of columns that are not numeric. If coercing to numeric causes missing values, remove those rows containing missing values from our dataset."
      ]
    },
    {
      "cell_type": "code",
      "metadata": {
        "id": "qXqE-KMvWMLw",
        "outputId": "83855e86-3f84-43d9-d7ce-2788e023233b",
        "colab": {
          "base_uri": "https://localhost:8080/",
          "height": 153
        }
      },
      "source": [
        "# answer below\n",
        "df.dtypes"
      ],
      "execution_count": 19,
      "outputs": [
        {
          "output_type": "execute_result",
          "data": {
            "text/plain": [
              "Rating          float64\n",
              "Reviews          object\n",
              "Price            object\n",
              "Everyone 10+      uint8\n",
              "Mature 17+        uint8\n",
              "Teen              uint8\n",
              "Paid              uint8\n",
              "dtype: object"
            ]
          },
          "metadata": {
            "tags": []
          },
          "execution_count": 19
        }
      ]
    },
    {
      "cell_type": "code",
      "metadata": {
        "id": "Gm1gkA0p0wD8"
      },
      "source": [
        "df.Price = df.Price.replace('[\\$,]', '', regex=True).astype(float)"
      ],
      "execution_count": 20,
      "outputs": []
    },
    {
      "cell_type": "code",
      "metadata": {
        "id": "Io6lUTRL1-bZ"
      },
      "source": [
        "df['Reviews'] = df['Reviews'].astype(int)"
      ],
      "execution_count": 21,
      "outputs": []
    },
    {
      "cell_type": "code",
      "metadata": {
        "id": "02J46TAd2uRc",
        "outputId": "38336fb7-042d-40ec-bee3-88a5f0960a8a",
        "colab": {
          "base_uri": "https://localhost:8080/",
          "height": 204
        }
      },
      "source": [
        "df.head()"
      ],
      "execution_count": 22,
      "outputs": [
        {
          "output_type": "execute_result",
          "data": {
            "text/html": [
              "<div>\n",
              "<style scoped>\n",
              "    .dataframe tbody tr th:only-of-type {\n",
              "        vertical-align: middle;\n",
              "    }\n",
              "\n",
              "    .dataframe tbody tr th {\n",
              "        vertical-align: top;\n",
              "    }\n",
              "\n",
              "    .dataframe thead th {\n",
              "        text-align: right;\n",
              "    }\n",
              "</style>\n",
              "<table border=\"1\" class=\"dataframe\">\n",
              "  <thead>\n",
              "    <tr style=\"text-align: right;\">\n",
              "      <th></th>\n",
              "      <th>Rating</th>\n",
              "      <th>Reviews</th>\n",
              "      <th>Price</th>\n",
              "      <th>Everyone 10+</th>\n",
              "      <th>Mature 17+</th>\n",
              "      <th>Teen</th>\n",
              "      <th>Paid</th>\n",
              "    </tr>\n",
              "  </thead>\n",
              "  <tbody>\n",
              "    <tr>\n",
              "      <th>0</th>\n",
              "      <td>4.1</td>\n",
              "      <td>159</td>\n",
              "      <td>0.0</td>\n",
              "      <td>0</td>\n",
              "      <td>0</td>\n",
              "      <td>0</td>\n",
              "      <td>0</td>\n",
              "    </tr>\n",
              "    <tr>\n",
              "      <th>1</th>\n",
              "      <td>3.9</td>\n",
              "      <td>967</td>\n",
              "      <td>0.0</td>\n",
              "      <td>0</td>\n",
              "      <td>0</td>\n",
              "      <td>0</td>\n",
              "      <td>0</td>\n",
              "    </tr>\n",
              "    <tr>\n",
              "      <th>2</th>\n",
              "      <td>4.7</td>\n",
              "      <td>87510</td>\n",
              "      <td>0.0</td>\n",
              "      <td>0</td>\n",
              "      <td>0</td>\n",
              "      <td>0</td>\n",
              "      <td>0</td>\n",
              "    </tr>\n",
              "    <tr>\n",
              "      <th>3</th>\n",
              "      <td>4.5</td>\n",
              "      <td>215644</td>\n",
              "      <td>0.0</td>\n",
              "      <td>0</td>\n",
              "      <td>0</td>\n",
              "      <td>1</td>\n",
              "      <td>0</td>\n",
              "    </tr>\n",
              "    <tr>\n",
              "      <th>4</th>\n",
              "      <td>4.3</td>\n",
              "      <td>967</td>\n",
              "      <td>0.0</td>\n",
              "      <td>0</td>\n",
              "      <td>0</td>\n",
              "      <td>0</td>\n",
              "      <td>0</td>\n",
              "    </tr>\n",
              "  </tbody>\n",
              "</table>\n",
              "</div>"
            ],
            "text/plain": [
              "   Rating  Reviews  Price  Everyone 10+  Mature 17+  Teen  Paid\n",
              "0     4.1      159    0.0             0           0     0     0\n",
              "1     3.9      967    0.0             0           0     0     0\n",
              "2     4.7    87510    0.0             0           0     0     0\n",
              "3     4.5   215644    0.0             0           0     1     0\n",
              "4     4.3      967    0.0             0           0     0     0"
            ]
          },
          "metadata": {
            "tags": []
          },
          "execution_count": 22
        }
      ]
    },
    {
      "cell_type": "code",
      "metadata": {
        "id": "PlkceJv9gqs-",
        "outputId": "c3209490-4982-4729-8023-8309f81e19df",
        "colab": {
          "base_uri": "https://localhost:8080/",
          "height": 153
        }
      },
      "source": [
        "df.dtypes"
      ],
      "execution_count": 23,
      "outputs": [
        {
          "output_type": "execute_result",
          "data": {
            "text/plain": [
              "Rating          float64\n",
              "Reviews           int64\n",
              "Price           float64\n",
              "Everyone 10+      uint8\n",
              "Mature 17+        uint8\n",
              "Teen              uint8\n",
              "Paid              uint8\n",
              "dtype: object"
            ]
          },
          "metadata": {
            "tags": []
          },
          "execution_count": 23
        }
      ]
    },
    {
      "cell_type": "markdown",
      "metadata": {
        "id": "GvmM687VWML1"
      },
      "source": [
        "Perform a train test split with 20% of the data in the test sample."
      ]
    },
    {
      "cell_type": "code",
      "metadata": {
        "id": "COJv_NenWML1"
      },
      "source": [
        "# answer below:\n",
        "x = df.drop(columns='Rating')\n",
        "y = df.Rating\n",
        "x_train, x_test, y_train, y_test = train_test_split(x, y, test_size=0.2)"
      ],
      "execution_count": 24,
      "outputs": []
    },
    {
      "cell_type": "markdown",
      "metadata": {
        "id": "ke4J9CM2WML3"
      },
      "source": [
        "Now generate a linear model using statsmodels and produce a p value for each coefficient in the model. Analyze the results. (Look at the results table and at a homoscedasticity plot.)"
      ]
    },
    {
      "cell_type": "code",
      "metadata": {
        "id": "lo0tMmlEWML3",
        "outputId": "c4385d00-09d7-4e3f-a4f7-07aeb52e46b4",
        "colab": {
          "base_uri": "https://localhost:8080/",
          "height": 583
        }
      },
      "source": [
        "# answer below:\n",
        "x = sm.add_constant(x)\n",
        "\n",
        "results = sm.OLS(y, x).fit()\n",
        "\n",
        "results.summary()"
      ],
      "execution_count": 25,
      "outputs": [
        {
          "output_type": "execute_result",
          "data": {
            "text/html": [
              "<table class=\"simpletable\">\n",
              "<caption>OLS Regression Results</caption>\n",
              "<tr>\n",
              "  <th>Dep. Variable:</th>         <td>Rating</td>      <th>  R-squared:         </th> <td>   0.009</td> \n",
              "</tr>\n",
              "<tr>\n",
              "  <th>Model:</th>                   <td>OLS</td>       <th>  Adj. R-squared:    </th> <td>   0.009</td> \n",
              "</tr>\n",
              "<tr>\n",
              "  <th>Method:</th>             <td>Least Squares</td>  <th>  F-statistic:       </th> <td>   14.67</td> \n",
              "</tr>\n",
              "<tr>\n",
              "  <th>Date:</th>             <td>Tue, 20 Oct 2020</td> <th>  Prob (F-statistic):</th> <td>9.47e-17</td> \n",
              "</tr>\n",
              "<tr>\n",
              "  <th>Time:</th>                 <td>20:04:07</td>     <th>  Log-Likelihood:    </th> <td> -7032.4</td> \n",
              "</tr>\n",
              "<tr>\n",
              "  <th>No. Observations:</th>      <td>  9362</td>      <th>  AIC:               </th> <td>1.408e+04</td>\n",
              "</tr>\n",
              "<tr>\n",
              "  <th>Df Residuals:</th>          <td>  9355</td>      <th>  BIC:               </th> <td>1.413e+04</td>\n",
              "</tr>\n",
              "<tr>\n",
              "  <th>Df Model:</th>              <td>     6</td>      <th>                     </th>     <td> </td>    \n",
              "</tr>\n",
              "<tr>\n",
              "  <th>Covariance Type:</th>      <td>nonrobust</td>    <th>                     </th>     <td> </td>    \n",
              "</tr>\n",
              "</table>\n",
              "<table class=\"simpletable\">\n",
              "<tr>\n",
              "        <td></td>          <th>coef</th>     <th>std err</th>      <th>t</th>      <th>P>|t|</th>  <th>[0.025</th>    <th>0.975]</th>  \n",
              "</tr>\n",
              "<tr>\n",
              "  <th>const</th>        <td>    4.1759</td> <td>    0.006</td> <td>  673.905</td> <td> 0.000</td> <td>    4.164</td> <td>    4.188</td>\n",
              "</tr>\n",
              "<tr>\n",
              "  <th>Reviews</th>      <td>  1.09e-08</td> <td>  1.7e-09</td> <td>    6.420</td> <td> 0.000</td> <td> 7.57e-09</td> <td> 1.42e-08</td>\n",
              "</tr>\n",
              "<tr>\n",
              "  <th>Price</th>        <td>   -0.0010</td> <td>    0.000</td> <td>   -3.051</td> <td> 0.002</td> <td>   -0.002</td> <td>   -0.000</td>\n",
              "</tr>\n",
              "<tr>\n",
              "  <th>Everyone 10+</th> <td>    0.0545</td> <td>    0.027</td> <td>    2.056</td> <td> 0.040</td> <td>    0.003</td> <td>    0.107</td>\n",
              "</tr>\n",
              "<tr>\n",
              "  <th>Mature 17+</th>   <td>   -0.0606</td> <td>    0.025</td> <td>   -2.459</td> <td> 0.014</td> <td>   -0.109</td> <td>   -0.012</td>\n",
              "</tr>\n",
              "<tr>\n",
              "  <th>Teen</th>         <td>    0.0426</td> <td>    0.017</td> <td>    2.548</td> <td> 0.011</td> <td>    0.010</td> <td>    0.075</td>\n",
              "</tr>\n",
              "<tr>\n",
              "  <th>Paid</th>         <td>    0.1010</td> <td>    0.021</td> <td>    4.700</td> <td> 0.000</td> <td>    0.059</td> <td>    0.143</td>\n",
              "</tr>\n",
              "</table>\n",
              "<table class=\"simpletable\">\n",
              "<tr>\n",
              "  <th>Omnibus:</th>       <td>3667.865</td> <th>  Durbin-Watson:     </th> <td>   1.773</td> \n",
              "</tr>\n",
              "<tr>\n",
              "  <th>Prob(Omnibus):</th>  <td> 0.000</td>  <th>  Jarque-Bera (JB):  </th> <td>18470.173</td>\n",
              "</tr>\n",
              "<tr>\n",
              "  <th>Skew:</th>           <td>-1.841</td>  <th>  Prob(JB):          </th> <td>    0.00</td> \n",
              "</tr>\n",
              "<tr>\n",
              "  <th>Kurtosis:</th>       <td> 8.813</td>  <th>  Cond. No.          </th> <td>1.62e+07</td> \n",
              "</tr>\n",
              "</table><br/><br/>Warnings:<br/>[1] Standard Errors assume that the covariance matrix of the errors is correctly specified.<br/>[2] The condition number is large, 1.62e+07. This might indicate that there are<br/>strong multicollinearity or other numerical problems."
            ],
            "text/plain": [
              "<class 'statsmodels.iolib.summary.Summary'>\n",
              "\"\"\"\n",
              "                            OLS Regression Results                            \n",
              "==============================================================================\n",
              "Dep. Variable:                 Rating   R-squared:                       0.009\n",
              "Model:                            OLS   Adj. R-squared:                  0.009\n",
              "Method:                 Least Squares   F-statistic:                     14.67\n",
              "Date:                Tue, 20 Oct 2020   Prob (F-statistic):           9.47e-17\n",
              "Time:                        20:04:07   Log-Likelihood:                -7032.4\n",
              "No. Observations:                9362   AIC:                         1.408e+04\n",
              "Df Residuals:                    9355   BIC:                         1.413e+04\n",
              "Df Model:                           6                                         \n",
              "Covariance Type:            nonrobust                                         \n",
              "================================================================================\n",
              "                   coef    std err          t      P>|t|      [0.025      0.975]\n",
              "--------------------------------------------------------------------------------\n",
              "const            4.1759      0.006    673.905      0.000       4.164       4.188\n",
              "Reviews        1.09e-08    1.7e-09      6.420      0.000    7.57e-09    1.42e-08\n",
              "Price           -0.0010      0.000     -3.051      0.002      -0.002      -0.000\n",
              "Everyone 10+     0.0545      0.027      2.056      0.040       0.003       0.107\n",
              "Mature 17+      -0.0606      0.025     -2.459      0.014      -0.109      -0.012\n",
              "Teen             0.0426      0.017      2.548      0.011       0.010       0.075\n",
              "Paid             0.1010      0.021      4.700      0.000       0.059       0.143\n",
              "==============================================================================\n",
              "Omnibus:                     3667.865   Durbin-Watson:                   1.773\n",
              "Prob(Omnibus):                  0.000   Jarque-Bera (JB):            18470.173\n",
              "Skew:                          -1.841   Prob(JB):                         0.00\n",
              "Kurtosis:                       8.813   Cond. No.                     1.62e+07\n",
              "==============================================================================\n",
              "\n",
              "Warnings:\n",
              "[1] Standard Errors assume that the covariance matrix of the errors is correctly specified.\n",
              "[2] The condition number is large, 1.62e+07. This might indicate that there are\n",
              "strong multicollinearity or other numerical problems.\n",
              "\"\"\""
            ]
          },
          "metadata": {
            "tags": []
          },
          "execution_count": 25
        }
      ]
    },
    {
      "cell_type": "markdown",
      "metadata": {
        "id": "mWph5fSlg-HG"
      },
      "source": [
        "Scale your predictors and refit the linear model.\n",
        "\n",
        "* How does this change the coefficients?\n",
        "* How does this change the coefficients' p values?\n",
        "* How does this change model performance?"
      ]
    },
    {
      "cell_type": "code",
      "metadata": {
        "id": "BfOvXFh5WML5"
      },
      "source": [
        "# answer below:\n",
        "from sklearn.preprocessing import StandardScaler\n",
        "from sklearn.decomposition import PCA"
      ],
      "execution_count": 26,
      "outputs": []
    },
    {
      "cell_type": "code",
      "metadata": {
        "id": "gcZzgm5AkkH0"
      },
      "source": [
        "scaled = StandardScaler().fit_transform(df)\n",
        "scaled_df = pd.DataFrame(scaled, columns=df.columns)"
      ],
      "execution_count": 27,
      "outputs": []
    },
    {
      "cell_type": "code",
      "metadata": {
        "id": "PvIDjzOrlGPD"
      },
      "source": [
        "x_scaled = scaled_df.drop(columns='Rating')\n",
        "y_scaled = scaled_df.Rating\n",
        "x_train, x_test, y_train, y_test = train_test_split(x_scaled, y_scaled, test_size=0.2)"
      ],
      "execution_count": 28,
      "outputs": []
    },
    {
      "cell_type": "code",
      "metadata": {
        "id": "65CR2hJ1lTCv",
        "outputId": "1d700cb6-8342-42a5-cb96-b4f4ab253537",
        "colab": {
          "base_uri": "https://localhost:8080/",
          "height": 549
        }
      },
      "source": [
        "x_scaled = sm.add_constant(x_scaled)\n",
        "\n",
        "results_scaled = sm.OLS(y_scaled, x_scaled).fit()\n",
        "\n",
        "results_scaled.summary()"
      ],
      "execution_count": 30,
      "outputs": [
        {
          "output_type": "execute_result",
          "data": {
            "text/html": [
              "<table class=\"simpletable\">\n",
              "<caption>OLS Regression Results</caption>\n",
              "<tr>\n",
              "  <th>Dep. Variable:</th>         <td>Rating</td>      <th>  R-squared:         </th> <td>   0.009</td> \n",
              "</tr>\n",
              "<tr>\n",
              "  <th>Model:</th>                   <td>OLS</td>       <th>  Adj. R-squared:    </th> <td>   0.009</td> \n",
              "</tr>\n",
              "<tr>\n",
              "  <th>Method:</th>             <td>Least Squares</td>  <th>  F-statistic:       </th> <td>   14.67</td> \n",
              "</tr>\n",
              "<tr>\n",
              "  <th>Date:</th>             <td>Tue, 20 Oct 2020</td> <th>  Prob (F-statistic):</th> <td>9.47e-17</td> \n",
              "</tr>\n",
              "<tr>\n",
              "  <th>Time:</th>                 <td>20:04:32</td>     <th>  Log-Likelihood:    </th> <td> -13240.</td> \n",
              "</tr>\n",
              "<tr>\n",
              "  <th>No. Observations:</th>      <td>  9362</td>      <th>  AIC:               </th> <td>2.649e+04</td>\n",
              "</tr>\n",
              "<tr>\n",
              "  <th>Df Residuals:</th>          <td>  9355</td>      <th>  BIC:               </th> <td>2.654e+04</td>\n",
              "</tr>\n",
              "<tr>\n",
              "  <th>Df Model:</th>              <td>     6</td>      <th>                     </th>     <td> </td>    \n",
              "</tr>\n",
              "<tr>\n",
              "  <th>Covariance Type:</th>      <td>nonrobust</td>    <th>                     </th>     <td> </td>    \n",
              "</tr>\n",
              "</table>\n",
              "<table class=\"simpletable\">\n",
              "<tr>\n",
              "        <td></td>          <th>coef</th>     <th>std err</th>      <th>t</th>      <th>P>|t|</th>  <th>[0.025</th>    <th>0.975]</th>  \n",
              "</tr>\n",
              "<tr>\n",
              "  <th>const</th>        <td> 3.224e-16</td> <td>    0.010</td> <td> 3.13e-14</td> <td> 1.000</td> <td>   -0.020</td> <td>    0.020</td>\n",
              "</tr>\n",
              "<tr>\n",
              "  <th>Reviews</th>      <td>    0.0665</td> <td>    0.010</td> <td>    6.420</td> <td> 0.000</td> <td>    0.046</td> <td>    0.087</td>\n",
              "</tr>\n",
              "<tr>\n",
              "  <th>Price</th>        <td>   -0.0322</td> <td>    0.011</td> <td>   -3.051</td> <td> 0.002</td> <td>   -0.053</td> <td>   -0.012</td>\n",
              "</tr>\n",
              "<tr>\n",
              "  <th>Everyone 10+</th> <td>    0.0213</td> <td>    0.010</td> <td>    2.056</td> <td> 0.040</td> <td>    0.001</td> <td>    0.042</td>\n",
              "</tr>\n",
              "<tr>\n",
              "  <th>Mature 17+</th>   <td>   -0.0254</td> <td>    0.010</td> <td>   -2.459</td> <td> 0.014</td> <td>   -0.046</td> <td>   -0.005</td>\n",
              "</tr>\n",
              "<tr>\n",
              "  <th>Teen</th>         <td>    0.0265</td> <td>    0.010</td> <td>    2.548</td> <td> 0.011</td> <td>    0.006</td> <td>    0.047</td>\n",
              "</tr>\n",
              "<tr>\n",
              "  <th>Paid</th>         <td>    0.0497</td> <td>    0.011</td> <td>    4.700</td> <td> 0.000</td> <td>    0.029</td> <td>    0.070</td>\n",
              "</tr>\n",
              "</table>\n",
              "<table class=\"simpletable\">\n",
              "<tr>\n",
              "  <th>Omnibus:</th>       <td>3667.865</td> <th>  Durbin-Watson:     </th> <td>   1.773</td> \n",
              "</tr>\n",
              "<tr>\n",
              "  <th>Prob(Omnibus):</th>  <td> 0.000</td>  <th>  Jarque-Bera (JB):  </th> <td>18470.173</td>\n",
              "</tr>\n",
              "<tr>\n",
              "  <th>Skew:</th>           <td>-1.841</td>  <th>  Prob(JB):          </th> <td>    0.00</td> \n",
              "</tr>\n",
              "<tr>\n",
              "  <th>Kurtosis:</th>       <td> 8.813</td>  <th>  Cond. No.          </th> <td>    1.27</td> \n",
              "</tr>\n",
              "</table><br/><br/>Warnings:<br/>[1] Standard Errors assume that the covariance matrix of the errors is correctly specified."
            ],
            "text/plain": [
              "<class 'statsmodels.iolib.summary.Summary'>\n",
              "\"\"\"\n",
              "                            OLS Regression Results                            \n",
              "==============================================================================\n",
              "Dep. Variable:                 Rating   R-squared:                       0.009\n",
              "Model:                            OLS   Adj. R-squared:                  0.009\n",
              "Method:                 Least Squares   F-statistic:                     14.67\n",
              "Date:                Tue, 20 Oct 2020   Prob (F-statistic):           9.47e-17\n",
              "Time:                        20:04:32   Log-Likelihood:                -13240.\n",
              "No. Observations:                9362   AIC:                         2.649e+04\n",
              "Df Residuals:                    9355   BIC:                         2.654e+04\n",
              "Df Model:                           6                                         \n",
              "Covariance Type:            nonrobust                                         \n",
              "================================================================================\n",
              "                   coef    std err          t      P>|t|      [0.025      0.975]\n",
              "--------------------------------------------------------------------------------\n",
              "const         3.224e-16      0.010   3.13e-14      1.000      -0.020       0.020\n",
              "Reviews          0.0665      0.010      6.420      0.000       0.046       0.087\n",
              "Price           -0.0322      0.011     -3.051      0.002      -0.053      -0.012\n",
              "Everyone 10+     0.0213      0.010      2.056      0.040       0.001       0.042\n",
              "Mature 17+      -0.0254      0.010     -2.459      0.014      -0.046      -0.005\n",
              "Teen             0.0265      0.010      2.548      0.011       0.006       0.047\n",
              "Paid             0.0497      0.011      4.700      0.000       0.029       0.070\n",
              "==============================================================================\n",
              "Omnibus:                     3667.865   Durbin-Watson:                   1.773\n",
              "Prob(Omnibus):                  0.000   Jarque-Bera (JB):            18470.173\n",
              "Skew:                          -1.841   Prob(JB):                         0.00\n",
              "Kurtosis:                       8.813   Cond. No.                         1.27\n",
              "==============================================================================\n",
              "\n",
              "Warnings:\n",
              "[1] Standard Errors assume that the covariance matrix of the errors is correctly specified.\n",
              "\"\"\""
            ]
          },
          "metadata": {
            "tags": []
          },
          "execution_count": 30
        }
      ]
    },
    {
      "cell_type": "code",
      "metadata": {
        "id": "DvTqDwCImy1M",
        "outputId": "a1a77694-7274-402b-c7c4-a779a1e77801",
        "colab": {
          "base_uri": "https://localhost:8080/",
          "height": 583
        }
      },
      "source": [
        "results.summary()"
      ],
      "execution_count": 31,
      "outputs": [
        {
          "output_type": "execute_result",
          "data": {
            "text/html": [
              "<table class=\"simpletable\">\n",
              "<caption>OLS Regression Results</caption>\n",
              "<tr>\n",
              "  <th>Dep. Variable:</th>         <td>Rating</td>      <th>  R-squared:         </th> <td>   0.009</td> \n",
              "</tr>\n",
              "<tr>\n",
              "  <th>Model:</th>                   <td>OLS</td>       <th>  Adj. R-squared:    </th> <td>   0.009</td> \n",
              "</tr>\n",
              "<tr>\n",
              "  <th>Method:</th>             <td>Least Squares</td>  <th>  F-statistic:       </th> <td>   14.67</td> \n",
              "</tr>\n",
              "<tr>\n",
              "  <th>Date:</th>             <td>Tue, 20 Oct 2020</td> <th>  Prob (F-statistic):</th> <td>9.47e-17</td> \n",
              "</tr>\n",
              "<tr>\n",
              "  <th>Time:</th>                 <td>20:04:44</td>     <th>  Log-Likelihood:    </th> <td> -7032.4</td> \n",
              "</tr>\n",
              "<tr>\n",
              "  <th>No. Observations:</th>      <td>  9362</td>      <th>  AIC:               </th> <td>1.408e+04</td>\n",
              "</tr>\n",
              "<tr>\n",
              "  <th>Df Residuals:</th>          <td>  9355</td>      <th>  BIC:               </th> <td>1.413e+04</td>\n",
              "</tr>\n",
              "<tr>\n",
              "  <th>Df Model:</th>              <td>     6</td>      <th>                     </th>     <td> </td>    \n",
              "</tr>\n",
              "<tr>\n",
              "  <th>Covariance Type:</th>      <td>nonrobust</td>    <th>                     </th>     <td> </td>    \n",
              "</tr>\n",
              "</table>\n",
              "<table class=\"simpletable\">\n",
              "<tr>\n",
              "        <td></td>          <th>coef</th>     <th>std err</th>      <th>t</th>      <th>P>|t|</th>  <th>[0.025</th>    <th>0.975]</th>  \n",
              "</tr>\n",
              "<tr>\n",
              "  <th>const</th>        <td>    4.1759</td> <td>    0.006</td> <td>  673.905</td> <td> 0.000</td> <td>    4.164</td> <td>    4.188</td>\n",
              "</tr>\n",
              "<tr>\n",
              "  <th>Reviews</th>      <td>  1.09e-08</td> <td>  1.7e-09</td> <td>    6.420</td> <td> 0.000</td> <td> 7.57e-09</td> <td> 1.42e-08</td>\n",
              "</tr>\n",
              "<tr>\n",
              "  <th>Price</th>        <td>   -0.0010</td> <td>    0.000</td> <td>   -3.051</td> <td> 0.002</td> <td>   -0.002</td> <td>   -0.000</td>\n",
              "</tr>\n",
              "<tr>\n",
              "  <th>Everyone 10+</th> <td>    0.0545</td> <td>    0.027</td> <td>    2.056</td> <td> 0.040</td> <td>    0.003</td> <td>    0.107</td>\n",
              "</tr>\n",
              "<tr>\n",
              "  <th>Mature 17+</th>   <td>   -0.0606</td> <td>    0.025</td> <td>   -2.459</td> <td> 0.014</td> <td>   -0.109</td> <td>   -0.012</td>\n",
              "</tr>\n",
              "<tr>\n",
              "  <th>Teen</th>         <td>    0.0426</td> <td>    0.017</td> <td>    2.548</td> <td> 0.011</td> <td>    0.010</td> <td>    0.075</td>\n",
              "</tr>\n",
              "<tr>\n",
              "  <th>Paid</th>         <td>    0.1010</td> <td>    0.021</td> <td>    4.700</td> <td> 0.000</td> <td>    0.059</td> <td>    0.143</td>\n",
              "</tr>\n",
              "</table>\n",
              "<table class=\"simpletable\">\n",
              "<tr>\n",
              "  <th>Omnibus:</th>       <td>3667.865</td> <th>  Durbin-Watson:     </th> <td>   1.773</td> \n",
              "</tr>\n",
              "<tr>\n",
              "  <th>Prob(Omnibus):</th>  <td> 0.000</td>  <th>  Jarque-Bera (JB):  </th> <td>18470.173</td>\n",
              "</tr>\n",
              "<tr>\n",
              "  <th>Skew:</th>           <td>-1.841</td>  <th>  Prob(JB):          </th> <td>    0.00</td> \n",
              "</tr>\n",
              "<tr>\n",
              "  <th>Kurtosis:</th>       <td> 8.813</td>  <th>  Cond. No.          </th> <td>1.62e+07</td> \n",
              "</tr>\n",
              "</table><br/><br/>Warnings:<br/>[1] Standard Errors assume that the covariance matrix of the errors is correctly specified.<br/>[2] The condition number is large, 1.62e+07. This might indicate that there are<br/>strong multicollinearity or other numerical problems."
            ],
            "text/plain": [
              "<class 'statsmodels.iolib.summary.Summary'>\n",
              "\"\"\"\n",
              "                            OLS Regression Results                            \n",
              "==============================================================================\n",
              "Dep. Variable:                 Rating   R-squared:                       0.009\n",
              "Model:                            OLS   Adj. R-squared:                  0.009\n",
              "Method:                 Least Squares   F-statistic:                     14.67\n",
              "Date:                Tue, 20 Oct 2020   Prob (F-statistic):           9.47e-17\n",
              "Time:                        20:04:44   Log-Likelihood:                -7032.4\n",
              "No. Observations:                9362   AIC:                         1.408e+04\n",
              "Df Residuals:                    9355   BIC:                         1.413e+04\n",
              "Df Model:                           6                                         \n",
              "Covariance Type:            nonrobust                                         \n",
              "================================================================================\n",
              "                   coef    std err          t      P>|t|      [0.025      0.975]\n",
              "--------------------------------------------------------------------------------\n",
              "const            4.1759      0.006    673.905      0.000       4.164       4.188\n",
              "Reviews        1.09e-08    1.7e-09      6.420      0.000    7.57e-09    1.42e-08\n",
              "Price           -0.0010      0.000     -3.051      0.002      -0.002      -0.000\n",
              "Everyone 10+     0.0545      0.027      2.056      0.040       0.003       0.107\n",
              "Mature 17+      -0.0606      0.025     -2.459      0.014      -0.109      -0.012\n",
              "Teen             0.0426      0.017      2.548      0.011       0.010       0.075\n",
              "Paid             0.1010      0.021      4.700      0.000       0.059       0.143\n",
              "==============================================================================\n",
              "Omnibus:                     3667.865   Durbin-Watson:                   1.773\n",
              "Prob(Omnibus):                  0.000   Jarque-Bera (JB):            18470.173\n",
              "Skew:                          -1.841   Prob(JB):                         0.00\n",
              "Kurtosis:                       8.813   Cond. No.                     1.62e+07\n",
              "==============================================================================\n",
              "\n",
              "Warnings:\n",
              "[1] Standard Errors assume that the covariance matrix of the errors is correctly specified.\n",
              "[2] The condition number is large, 1.62e+07. This might indicate that there are\n",
              "strong multicollinearity or other numerical problems.\n",
              "\"\"\""
            ]
          },
          "metadata": {
            "tags": []
          },
          "execution_count": 31
        }
      ]
    },
    {
      "cell_type": "code",
      "metadata": {
        "id": "hfIPHXgbnStg"
      },
      "source": [
        ""
      ],
      "execution_count": null,
      "outputs": []
    }
  ]
}