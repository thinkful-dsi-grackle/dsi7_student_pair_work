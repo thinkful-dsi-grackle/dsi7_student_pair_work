{
  "nbformat": 4,
  "nbformat_minor": 0,
  "metadata": {
    "kernelspec": {
      "display_name": "Python 3",
      "language": "python",
      "name": "python3"
    },
    "language_info": {
      "codemirror_mode": {
        "name": "ipython",
        "version": 3
      },
      "file_extension": ".py",
      "mimetype": "text/x-python",
      "name": "python",
      "nbconvert_exporter": "python",
      "pygments_lexer": "ipython3",
      "version": "3.7.0"
    },
    "colab": {
      "name": "Angel_Cate_Lecture_1.ipynb",
      "provenance": [],
      "collapsed_sections": []
    }
  },
  "cells": [
    {
      "cell_type": "markdown",
      "metadata": {
        "id": "NQ9CFZorWMLh"
      },
      "source": [
        "## Day 27 Lecture 1 Assignment\n",
        "\n",
        "In this assignment, we will learn statistical significance in linear models. We will use the google play store dataset loaded below and analyze the regression from this dataset."
      ]
    },
    {
      "cell_type": "code",
      "metadata": {
        "id": "Jnh84h3tWMLi"
      },
      "source": [
        "%matplotlib inline\n",
        "\n",
        "import matplotlib.pyplot as plt\n",
        "import numpy as np\n",
        "import pandas as pd\n",
        "from sklearn import linear_model\n",
        "from sklearn.model_selection import train_test_split\n",
        "import statsmodels.api as sm"
      ],
      "execution_count": 423,
      "outputs": []
    },
    {
      "cell_type": "code",
      "metadata": {
        "id": "v2e0QnpnWMLk"
      },
      "source": [
        "reviews = pd.read_csv('https://tf-assets-prod.s3.amazonaws.com/tf-curric/data-science/googleplaystore.csv')"
      ],
      "execution_count": 424,
      "outputs": []
    },
    {
      "cell_type": "code",
      "metadata": {
        "id": "JflXCj5CWMLm",
        "outputId": "03db6b87-c96d-4826-a9f5-13bdb2803ef2",
        "colab": {
          "base_uri": "https://localhost:8080/",
          "height": 551
        }
      },
      "source": [
        "reviews.head()"
      ],
      "execution_count": 425,
      "outputs": [
        {
          "output_type": "execute_result",
          "data": {
            "text/html": [
              "<div>\n",
              "<style scoped>\n",
              "    .dataframe tbody tr th:only-of-type {\n",
              "        vertical-align: middle;\n",
              "    }\n",
              "\n",
              "    .dataframe tbody tr th {\n",
              "        vertical-align: top;\n",
              "    }\n",
              "\n",
              "    .dataframe thead th {\n",
              "        text-align: right;\n",
              "    }\n",
              "</style>\n",
              "<table border=\"1\" class=\"dataframe\">\n",
              "  <thead>\n",
              "    <tr style=\"text-align: right;\">\n",
              "      <th></th>\n",
              "      <th>App</th>\n",
              "      <th>Category</th>\n",
              "      <th>Rating</th>\n",
              "      <th>Reviews</th>\n",
              "      <th>Size</th>\n",
              "      <th>Installs</th>\n",
              "      <th>Type</th>\n",
              "      <th>Price</th>\n",
              "      <th>Content Rating</th>\n",
              "      <th>Genres</th>\n",
              "      <th>Last Updated</th>\n",
              "      <th>Current Ver</th>\n",
              "      <th>Android Ver</th>\n",
              "    </tr>\n",
              "  </thead>\n",
              "  <tbody>\n",
              "    <tr>\n",
              "      <th>0</th>\n",
              "      <td>Photo Editor &amp; Candy Camera &amp; Grid &amp; ScrapBook</td>\n",
              "      <td>ART_AND_DESIGN</td>\n",
              "      <td>4.1</td>\n",
              "      <td>159</td>\n",
              "      <td>19M</td>\n",
              "      <td>10,000+</td>\n",
              "      <td>Free</td>\n",
              "      <td>0</td>\n",
              "      <td>Everyone</td>\n",
              "      <td>Art &amp; Design</td>\n",
              "      <td>January 7, 2018</td>\n",
              "      <td>1.0.0</td>\n",
              "      <td>4.0.3 and up</td>\n",
              "    </tr>\n",
              "    <tr>\n",
              "      <th>1</th>\n",
              "      <td>Coloring book moana</td>\n",
              "      <td>ART_AND_DESIGN</td>\n",
              "      <td>3.9</td>\n",
              "      <td>967</td>\n",
              "      <td>14M</td>\n",
              "      <td>500,000+</td>\n",
              "      <td>Free</td>\n",
              "      <td>0</td>\n",
              "      <td>Everyone</td>\n",
              "      <td>Art &amp; Design;Pretend Play</td>\n",
              "      <td>January 15, 2018</td>\n",
              "      <td>2.0.0</td>\n",
              "      <td>4.0.3 and up</td>\n",
              "    </tr>\n",
              "    <tr>\n",
              "      <th>2</th>\n",
              "      <td>U Launcher Lite – FREE Live Cool Themes, Hide ...</td>\n",
              "      <td>ART_AND_DESIGN</td>\n",
              "      <td>4.7</td>\n",
              "      <td>87510</td>\n",
              "      <td>8.7M</td>\n",
              "      <td>5,000,000+</td>\n",
              "      <td>Free</td>\n",
              "      <td>0</td>\n",
              "      <td>Everyone</td>\n",
              "      <td>Art &amp; Design</td>\n",
              "      <td>August 1, 2018</td>\n",
              "      <td>1.2.4</td>\n",
              "      <td>4.0.3 and up</td>\n",
              "    </tr>\n",
              "    <tr>\n",
              "      <th>3</th>\n",
              "      <td>Sketch - Draw &amp; Paint</td>\n",
              "      <td>ART_AND_DESIGN</td>\n",
              "      <td>4.5</td>\n",
              "      <td>215644</td>\n",
              "      <td>25M</td>\n",
              "      <td>50,000,000+</td>\n",
              "      <td>Free</td>\n",
              "      <td>0</td>\n",
              "      <td>Teen</td>\n",
              "      <td>Art &amp; Design</td>\n",
              "      <td>June 8, 2018</td>\n",
              "      <td>Varies with device</td>\n",
              "      <td>4.2 and up</td>\n",
              "    </tr>\n",
              "    <tr>\n",
              "      <th>4</th>\n",
              "      <td>Pixel Draw - Number Art Coloring Book</td>\n",
              "      <td>ART_AND_DESIGN</td>\n",
              "      <td>4.3</td>\n",
              "      <td>967</td>\n",
              "      <td>2.8M</td>\n",
              "      <td>100,000+</td>\n",
              "      <td>Free</td>\n",
              "      <td>0</td>\n",
              "      <td>Everyone</td>\n",
              "      <td>Art &amp; Design;Creativity</td>\n",
              "      <td>June 20, 2018</td>\n",
              "      <td>1.1</td>\n",
              "      <td>4.4 and up</td>\n",
              "    </tr>\n",
              "  </tbody>\n",
              "</table>\n",
              "</div>"
            ],
            "text/plain": [
              "                                                 App  ...   Android Ver\n",
              "0     Photo Editor & Candy Camera & Grid & ScrapBook  ...  4.0.3 and up\n",
              "1                                Coloring book moana  ...  4.0.3 and up\n",
              "2  U Launcher Lite – FREE Live Cool Themes, Hide ...  ...  4.0.3 and up\n",
              "3                              Sketch - Draw & Paint  ...    4.2 and up\n",
              "4              Pixel Draw - Number Art Coloring Book  ...    4.4 and up\n",
              "\n",
              "[5 rows x 13 columns]"
            ]
          },
          "metadata": {
            "tags": []
          },
          "execution_count": 425
        }
      ]
    },
    {
      "cell_type": "markdown",
      "metadata": {
        "id": "RD7HAGooWMLo"
      },
      "source": [
        "We will predict app ratings using other features describing the app. To use these features, we must clean the data."
      ]
    },
    {
      "cell_type": "markdown",
      "metadata": {
        "id": "ieg0JuQlWMLu"
      },
      "source": [
        "To simplify, we will remove the app, category, size, installs, genres, last updated, current ver, and android ver columns. "
      ]
    },
    {
      "cell_type": "code",
      "metadata": {
        "id": "jPxJSCQTWMLr"
      },
      "source": [
        "# answer below:\n",
        "reviews_df = reviews.drop(['App', 'Category', 'Size', 'Installs', 'Genres', 'Last Updated', 'Current Ver', 'Android Ver'], axis=1)"
      ],
      "execution_count": 426,
      "outputs": []
    },
    {
      "cell_type": "markdown",
      "metadata": {
        "id": "DKtcnNARWMLq"
      },
      "source": [
        "Check for missing values and remove all rows containing missing values"
      ]
    },
    {
      "cell_type": "code",
      "metadata": {
        "id": "VUlHF1o2kiiE"
      },
      "source": [
        "def missingness_summary(df, print_log, sort):\n",
        "  '''\n",
        "  Return a pandas series containing the percentage of missing data in each column.\n",
        "  \n",
        "  Args:\n",
        "  df - pandas dataframe \n",
        "\n",
        "  print_log (boolean) - if True, print out all of the columns in the dataframe, \n",
        "    one to a line, followed by the percentage of total rows that have a \n",
        "    null value for that column.\n",
        "    \n",
        "  sort (string) - specify if the output should be sorted in ascending order, \n",
        "    descending order, or not at all.\n",
        "  '''\n",
        "  if print_log == True:\n",
        "    series = pd.Series(df.isnull().sum()*100/df.isnull().count())\n",
        "    if sort == 'Ascending':\n",
        "      series = series.sort_values(ascending = True)\n",
        "    elif sort == 'Descending':\n",
        "      series = series.sort_values(ascending=False)\n",
        "    else:\n",
        "      series\n",
        "    return series"
      ],
      "execution_count": 427,
      "outputs": []
    },
    {
      "cell_type": "code",
      "metadata": {
        "id": "RNxRhhpuWMLu",
        "outputId": "ab16247b-0895-4d4c-d8f5-c2fe5e799b44",
        "colab": {
          "base_uri": "https://localhost:8080/",
          "height": 123
        }
      },
      "source": [
        "# answer below:\n",
        "reviews_df.isnull().sum()\n",
        "missingness_summary(reviews_df, True, 'Descending')"
      ],
      "execution_count": 428,
      "outputs": [
        {
          "output_type": "execute_result",
          "data": {
            "text/plain": [
              "Rating            13.596532\n",
              "Content Rating     0.009224\n",
              "Type               0.009224\n",
              "Price              0.000000\n",
              "Reviews            0.000000\n",
              "dtype: float64"
            ]
          },
          "metadata": {
            "tags": []
          },
          "execution_count": 428
        }
      ]
    },
    {
      "cell_type": "code",
      "metadata": {
        "id": "YjvrExUJlhLy"
      },
      "source": [
        "reviews_df.dropna(subset=['Rating', 'Content Rating', 'Type'], inplace=True)"
      ],
      "execution_count": 429,
      "outputs": []
    },
    {
      "cell_type": "markdown",
      "metadata": {
        "id": "HcBzon3rYp4H"
      },
      "source": [
        "Remove outliers from the Type and Content Rating columns (very rare values that won't train well)."
      ]
    },
    {
      "cell_type": "code",
      "metadata": {
        "id": "drpIxOvYYqAh"
      },
      "source": [
        "# reviews_df = reviews3.loc[ (reviews_df['Content Rating'] != 'Adults only 18+') & (reviews3['Content Rating'] != 'Unrated') ]\n",
        "reviews_df.drop(reviews_df[reviews_df['Content Rating'] == 'Adults only 18+'].index, inplace=True)\n",
        "reviews_df.drop(reviews_df[reviews_df['Content Rating'] == 'Unrated'].index, inplace=True)"
      ],
      "execution_count": 430,
      "outputs": []
    },
    {
      "cell_type": "markdown",
      "metadata": {
        "id": "WXUwnEbMV6_d"
      },
      "source": [
        "Convert the Type and Content Rating columns to a numeric format, whether by one-hot encoding, ordinal encoding, or similar."
      ]
    },
    {
      "cell_type": "code",
      "metadata": {
        "id": "T_SPpHdUV7I-"
      },
      "source": [
        "# answer below:\n",
        "# hp['is_pave'] = pd.get_dummies(hp.street, drop_first=True)\n",
        "# hp = pd.concat([hp, pd.get_dummies(hp.roofstyle, prefix='roofstyle', drop_first=True)], axis=1)\n",
        "\n",
        "reviews_df = pd.concat([reviews_df, pd.get_dummies(reviews_df['Content Rating'], drop_first=True)], axis=1)\n",
        "reviews_df = pd.concat([reviews_df, pd.get_dummies(reviews_df['Type'], drop_first=True)], axis=1)"
      ],
      "execution_count": 431,
      "outputs": []
    },
    {
      "cell_type": "markdown",
      "metadata": {
        "id": "0SeSNeEYWMLw"
      },
      "source": [
        "Finally, check that all the columns are of numeric type and change the type of columns that are not numeric. If coercing to numeric causes missing values, remove those rows containing missing values from our dataset."
      ]
    },
    {
      "cell_type": "code",
      "metadata": {
        "id": "TbB8RSPzEiGe"
      },
      "source": [
        "reviews_df['Price'] = reviews_df.Price.str.strip('$ ')\n",
        "# reviews_df['Price'] = reviews_df.Price.str.strip()"
      ],
      "execution_count": 432,
      "outputs": []
    },
    {
      "cell_type": "code",
      "metadata": {
        "id": "w-PSsO_QNVA4",
        "outputId": "094a050b-ef07-4270-fad5-201179433e53",
        "colab": {
          "base_uri": "https://localhost:8080/",
          "height": 194
        }
      },
      "source": [
        "reviews_df['Price'].unique()"
      ],
      "execution_count": 433,
      "outputs": [
        {
          "output_type": "execute_result",
          "data": {
            "text/plain": [
              "array(['0', '4.99', '3.99', '6.99', '7.99', '5.99', '2.99', '3.49',\n",
              "       '1.99', '9.99', '7.49', '0.99', '9.00', '5.49', '10.00', '24.99',\n",
              "       '11.99', '79.99', '16.99', '14.99', '29.99', '12.99', '2.49',\n",
              "       '10.99', '1.50', '19.99', '15.99', '33.99', '39.99', '3.95',\n",
              "       '4.49', '1.70', '8.99', '1.49', '3.88', '399.99', '17.99',\n",
              "       '400.00', '3.02', '1.76', '4.84', '4.77', '1.61', '2.50', '1.59',\n",
              "       '6.49', '1.29', '299.99', '379.99', '37.99', '18.99', '389.99',\n",
              "       '8.49', '1.75', '14.00', '2.00', '3.08', '2.59', '19.40', '3.90',\n",
              "       '4.59', '15.46', '3.04', '13.99', '4.29', '3.28', '4.60', '1.00',\n",
              "       '2.95', '2.90', '1.97', '2.56', '1.20'], dtype=object)"
            ]
          },
          "metadata": {
            "tags": []
          },
          "execution_count": 433
        }
      ]
    },
    {
      "cell_type": "code",
      "metadata": {
        "id": "Koj2OucxtWMf",
        "outputId": "ea96526d-34a1-46b9-b272-21ccc2a775c4",
        "colab": {
          "base_uri": "https://localhost:8080/",
          "height": 301
        }
      },
      "source": [
        "cols = ['Price', 'Reviews']\n",
        "reviews_df[cols] = reviews_df[cols].apply(pd.to_numeric, errors='raise', axis=1)\n",
        "reviews_df.info()"
      ],
      "execution_count": 434,
      "outputs": [
        {
          "output_type": "stream",
          "text": [
            "<class 'pandas.core.frame.DataFrame'>\n",
            "Int64Index: 9362 entries, 0 to 10840\n",
            "Data columns (total 9 columns):\n",
            " #   Column          Non-Null Count  Dtype  \n",
            "---  ------          --------------  -----  \n",
            " 0   Rating          9362 non-null   float64\n",
            " 1   Reviews         9362 non-null   float64\n",
            " 2   Type            9362 non-null   object \n",
            " 3   Price           9362 non-null   float64\n",
            " 4   Content Rating  9362 non-null   object \n",
            " 5   Everyone 10+    9362 non-null   uint8  \n",
            " 6   Mature 17+      9362 non-null   uint8  \n",
            " 7   Teen            9362 non-null   uint8  \n",
            " 8   Paid            9362 non-null   uint8  \n",
            "dtypes: float64(3), object(2), uint8(4)\n",
            "memory usage: 475.4+ KB\n"
          ],
          "name": "stdout"
        }
      ]
    },
    {
      "cell_type": "code",
      "metadata": {
        "id": "4YdKA736NsOB",
        "outputId": "5210ec62-1559-4d4f-9ca4-383bca2f228e",
        "colab": {
          "base_uri": "https://localhost:8080/",
          "height": 194
        }
      },
      "source": [
        "reviews_df.isnull().sum()"
      ],
      "execution_count": 435,
      "outputs": [
        {
          "output_type": "execute_result",
          "data": {
            "text/plain": [
              "Rating            0\n",
              "Reviews           0\n",
              "Type              0\n",
              "Price             0\n",
              "Content Rating    0\n",
              "Everyone 10+      0\n",
              "Mature 17+        0\n",
              "Teen              0\n",
              "Paid              0\n",
              "dtype: int64"
            ]
          },
          "metadata": {
            "tags": []
          },
          "execution_count": 435
        }
      ]
    },
    {
      "cell_type": "markdown",
      "metadata": {
        "id": "GvmM687VWML1"
      },
      "source": [
        "Perform a train test split with 20% of the data in the test sample."
      ]
    },
    {
      "cell_type": "code",
      "metadata": {
        "id": "COJv_NenWML1"
      },
      "source": [
        "# answer below:\n",
        "y = reviews_df['Rating']\n",
        "X = reviews_df.drop(['Type', 'Content Rating', 'Rating'], axis=1)\n",
        "\n",
        "X_train, X_test, y_train, y_test = train_test_split(X, y, test_size=.2)"
      ],
      "execution_count": 436,
      "outputs": []
    },
    {
      "cell_type": "markdown",
      "metadata": {
        "id": "ke4J9CM2WML3"
      },
      "source": [
        "Now generate a linear model using statsmodels and produce a p value for each coefficient in the model. Analyze the results. (Look at the results table and at a homoscedasticity plot.)"
      ]
    },
    {
      "cell_type": "markdown",
      "metadata": {
        "id": "AFb1ue_n0tbT"
      },
      "source": [
        "Although our model has a very low p-value for the f-stat, the R-squared value is very low. Based on the .008 value, we know this model only explains about .8% of the variance in our target. \n",
        "\n",
        "Of our features only Reviews, Price, Teen and Paid have p-values below our significance throshold of .05. Even though those four were statistically significant, their coefficients were very small, meaning they have very little impact on the target. "
      ]
    },
    {
      "cell_type": "code",
      "metadata": {
        "id": "IzVcG5S8L5jY",
        "outputId": "2afdd897-fb25-4875-ca53-9d9a1a893b60",
        "colab": {
          "base_uri": "https://localhost:8080/",
          "height": 585
        }
      },
      "source": [
        "X_con = sm.add_constant(X_train)\n",
        "\n",
        "results = sm.OLS(y_train, X_con).fit()\n",
        "\n",
        "print(results.summary())"
      ],
      "execution_count": 437,
      "outputs": [
        {
          "output_type": "stream",
          "text": [
            "                            OLS Regression Results                            \n",
            "==============================================================================\n",
            "Dep. Variable:                 Rating   R-squared:                       0.009\n",
            "Model:                            OLS   Adj. R-squared:                  0.008\n",
            "Method:                 Least Squares   F-statistic:                     11.19\n",
            "Date:                Tue, 20 Oct 2020   Prob (F-statistic):           1.81e-12\n",
            "Time:                        21:14:53   Log-Likelihood:                -5685.3\n",
            "No. Observations:                7489   AIC:                         1.138e+04\n",
            "Df Residuals:                    7482   BIC:                         1.143e+04\n",
            "Df Model:                           6                                         \n",
            "Covariance Type:            nonrobust                                         \n",
            "================================================================================\n",
            "                   coef    std err          t      P>|t|      [0.025      0.975]\n",
            "--------------------------------------------------------------------------------\n",
            "const            4.1737      0.007    596.870      0.000       4.160       4.187\n",
            "Reviews       1.162e-08   1.99e-09      5.845      0.000    7.72e-09    1.55e-08\n",
            "Price           -0.0008      0.000     -1.968      0.049      -0.002   -3.07e-06\n",
            "Everyone 10+     0.0384      0.030      1.290      0.197      -0.020       0.097\n",
            "Mature 17+      -0.0599      0.028     -2.148      0.032      -0.115      -0.005\n",
            "Teen             0.0399      0.019      2.125      0.034       0.003       0.077\n",
            "Paid             0.1040      0.024      4.330      0.000       0.057       0.151\n",
            "==============================================================================\n",
            "Omnibus:                     3005.836   Durbin-Watson:                   2.020\n",
            "Prob(Omnibus):                  0.000   Jarque-Bera (JB):            15667.861\n",
            "Skew:                          -1.877   Prob(JB):                         0.00\n",
            "Kurtosis:                       9.010   Cond. No.                     1.55e+07\n",
            "==============================================================================\n",
            "\n",
            "Warnings:\n",
            "[1] Standard Errors assume that the covariance matrix of the errors is correctly specified.\n",
            "[2] The condition number is large, 1.55e+07. This might indicate that there are\n",
            "strong multicollinearity or other numerical problems.\n"
          ],
          "name": "stdout"
        }
      ]
    },
    {
      "cell_type": "code",
      "metadata": {
        "id": "nJzjiAPmOjH-"
      },
      "source": [
        "predictions = results.predict(X_con)\n",
        "\n",
        "# predictions\n",
        "resid = results.resid"
      ],
      "execution_count": 438,
      "outputs": []
    },
    {
      "cell_type": "code",
      "metadata": {
        "id": "UiSgpaBmSlZX",
        "outputId": "685cc014-7f8f-49ac-fb7b-8b037d74abc4",
        "colab": {
          "base_uri": "https://localhost:8080/",
          "height": 294
        }
      },
      "source": [
        "plt.scatter(predictions, resid)\n",
        "plt.xlabel('Predicted')\n",
        "plt.ylabel('Residual')\n",
        "plt.axhline(y=0)\n",
        "plt.title('Residual vs. Predicted')\n",
        "plt.show()"
      ],
      "execution_count": 439,
      "outputs": [
        {
          "output_type": "display_data",
          "data": {
            "image/png": "[encoded data removed]",
            "text/plain": [
              "<Figure size 432x288 with 1 Axes>"
            ]
          },
          "metadata": {
            "tags": [],
            "needs_background": "light"
          }
        }
      ]
    },
    {
      "cell_type": "code",
      "metadata": {
        "id": "l8I4tNBrSHdM",
        "outputId": "64c275dd-b55b-4360-ea72-0cf51fb67ff0",
        "colab": {
          "base_uri": "https://localhost:8080/",
          "height": 278
        }
      },
      "source": [
        "sm.qqplot(predictions.values, line='s') \n",
        "plt.show()"
      ],
      "execution_count": 440,
      "outputs": [
        {
          "output_type": "display_data",
          "data": {
            "image/png": "[encoded data removed]",
            "text/plain": [
              "<Figure size 432x288 with 1 Axes>"
            ]
          },
          "metadata": {
            "tags": [],
            "needs_background": "light"
          }
        }
      ]
    },
    {
      "cell_type": "markdown",
      "metadata": {
        "id": "mWph5fSlg-HG"
      },
      "source": [
        "Scale your predictors and refit the linear model.\n",
        "\n",
        "* How does this change the coefficients?\n",
        "* How does this change the coefficients' p values?\n",
        "* How does this change model performance?"
      ]
    },
    {
      "cell_type": "code",
      "metadata": {
        "id": "AHRHYEHmU9ja"
      },
      "source": [
        "from sklearn.preprocessing import StandardScaler"
      ],
      "execution_count": 441,
      "outputs": []
    },
    {
      "cell_type": "markdown",
      "metadata": {
        "id": "MPIx9s8y0a7-"
      },
      "source": [
        "We did see some changes in the coefficients, with most of them coming out smaller than in the previous model. All of the p-values are now below .05 except for Everyone 10+. Adjusted R-squared and f-test are the same"
      ]
    },
    {
      "cell_type": "code",
      "metadata": {
        "id": "rgtS1sMtU35l",
        "outputId": "5e3dd87b-4bbc-4502-ced1-c0907351c1e5",
        "colab": {
          "base_uri": "https://localhost:8080/",
          "height": 550
        }
      },
      "source": [
        "ss = StandardScaler()\n",
        "scaled = ss.fit_transform(X_train)\n",
        "\n",
        "X_scaled = sm.add_constant(scaled)\n",
        "\n",
        "results = sm.OLS(y_train, X_scaled).fit()\n",
        "\n",
        "print(results.summary())"
      ],
      "execution_count": 442,
      "outputs": [
        {
          "output_type": "stream",
          "text": [
            "                            OLS Regression Results                            \n",
            "==============================================================================\n",
            "Dep. Variable:                 Rating   R-squared:                       0.009\n",
            "Model:                            OLS   Adj. R-squared:                  0.008\n",
            "Method:                 Least Squares   F-statistic:                     11.19\n",
            "Date:                Tue, 20 Oct 2020   Prob (F-statistic):           1.81e-12\n",
            "Time:                        21:14:55   Log-Likelihood:                -5685.3\n",
            "No. Observations:                7489   AIC:                         1.138e+04\n",
            "Df Residuals:                    7482   BIC:                         1.143e+04\n",
            "Df Model:                           6                                         \n",
            "Covariance Type:            nonrobust                                         \n",
            "==============================================================================\n",
            "                 coef    std err          t      P>|t|      [0.025      0.975]\n",
            "------------------------------------------------------------------------------\n",
            "const          4.1895      0.006    700.995      0.000       4.178       4.201\n",
            "x1             0.0352      0.006      5.845      0.000       0.023       0.047\n",
            "x2            -0.0121      0.006     -1.968      0.049      -0.024   -4.85e-05\n",
            "x3             0.0078      0.006      1.290      0.197      -0.004       0.020\n",
            "x4            -0.0129      0.006     -2.148      0.032      -0.025      -0.001\n",
            "x5             0.0128      0.006      2.125      0.034       0.001       0.025\n",
            "x6             0.0266      0.006      4.330      0.000       0.015       0.039\n",
            "==============================================================================\n",
            "Omnibus:                     3005.836   Durbin-Watson:                   2.020\n",
            "Prob(Omnibus):                  0.000   Jarque-Bera (JB):            15667.861\n",
            "Skew:                          -1.877   Prob(JB):                         0.00\n",
            "Kurtosis:                       9.010   Cond. No.                         1.27\n",
            "==============================================================================\n",
            "\n",
            "Warnings:\n",
            "[1] Standard Errors assume that the covariance matrix of the errors is correctly specified.\n"
          ],
          "name": "stdout"
        }
      ]
    }
  ]
}