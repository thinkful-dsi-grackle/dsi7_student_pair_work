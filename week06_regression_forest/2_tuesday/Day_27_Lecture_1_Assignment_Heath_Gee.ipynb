{
  "nbformat": 4,
  "nbformat_minor": 0,
  "metadata": {
    "kernelspec": {
      "display_name": "Python 3",
      "language": "python",
      "name": "python3"
    },
    "language_info": {
      "codemirror_mode": {
        "name": "ipython",
        "version": 3
      },
      "file_extension": ".py",
      "mimetype": "text/x-python",
      "name": "python",
      "nbconvert_exporter": "python",
      "pygments_lexer": "ipython3",
      "version": "3.7.0"
    },
    "colab": {
      "name": "Day 27 Lecture 1 Assignment.ipynb",
      "provenance": [],
      "collapsed_sections": []
    }
  },
  "cells": [
    {
      "cell_type": "markdown",
      "metadata": {
        "id": "NQ9CFZorWMLh"
      },
      "source": [
        "## Day 27 Lecture 1 Assignment\n",
        "\n",
        "In this assignment, we will learn statistical significance in linear models. We will use the google play store dataset loaded below and analyze the regression from this dataset."
      ]
    },
    {
      "cell_type": "code",
      "metadata": {
        "id": "Jnh84h3tWMLi",
        "outputId": "ae7e2a42-0cda-4f21-d621-909cf5244be0",
        "colab": {
          "base_uri": "https://localhost:8080/",
          "height": 51
        }
      },
      "source": [
        "%matplotlib inline\n",
        "\n",
        "import matplotlib.pyplot as plt\n",
        "import numpy as np\n",
        "import pandas as pd\n",
        "from scipy.stats import bartlett\n",
        "from scipy.stats import levene\n",
        "import seaborn as sns\n",
        "from sklearn.model_selection import train_test_split\n",
        "from sklearn.linear_model import LinearRegression\n",
        "from statsmodels.tools.tools import add_constant\n",
        "from statsmodels.stats.outliers_influence import variance_inflation_factor\n",
        "import statsmodels.api as sm\n",
        "import pylab\n",
        "from scipy.stats import jarque_bera\n",
        "from scipy.stats import normaltest"
      ],
      "execution_count": 84,
      "outputs": [
        {
          "output_type": "stream",
          "text": [
            "/usr/local/lib/python3.6/dist-packages/statsmodels/tools/_testing.py:19: FutureWarning: pandas.util.testing is deprecated. Use the functions in the public API at pandas.testing instead.\n",
            "  import pandas.util.testing as tm\n"
          ],
          "name": "stderr"
        }
      ]
    },
    {
      "cell_type": "code",
      "metadata": {
        "id": "v2e0QnpnWMLk"
      },
      "source": [
        "reviews = pd.read_csv('https://tf-assets-prod.s3.amazonaws.com/tf-curric/data-science/googleplaystore.csv')"
      ],
      "execution_count": 77,
      "outputs": []
    },
    {
      "cell_type": "code",
      "metadata": {
        "id": "JflXCj5CWMLm",
        "outputId": "9d6ecc5c-5c54-4f0b-e478-43e753095f5f",
        "colab": {
          "base_uri": "https://localhost:8080/",
          "height": 204
        }
      },
      "source": [
        "reviews.head()"
      ],
      "execution_count": 78,
      "outputs": [
        {
          "output_type": "execute_result",
          "data": {
            "text/html": [
              "<div>\n",
              "<style scoped>\n",
              "    .dataframe tbody tr th:only-of-type {\n",
              "        vertical-align: middle;\n",
              "    }\n",
              "\n",
              "    .dataframe tbody tr th {\n",
              "        vertical-align: top;\n",
              "    }\n",
              "\n",
              "    .dataframe thead th {\n",
              "        text-align: right;\n",
              "    }\n",
              "</style>\n",
              "<table border=\"1\" class=\"dataframe\">\n",
              "  <thead>\n",
              "    <tr style=\"text-align: right;\">\n",
              "      <th></th>\n",
              "      <th>App</th>\n",
              "      <th>Category</th>\n",
              "      <th>Rating</th>\n",
              "      <th>Reviews</th>\n",
              "      <th>Size</th>\n",
              "      <th>Installs</th>\n",
              "      <th>Type</th>\n",
              "      <th>Price</th>\n",
              "      <th>Content Rating</th>\n",
              "      <th>Genres</th>\n",
              "      <th>Last Updated</th>\n",
              "      <th>Current Ver</th>\n",
              "      <th>Android Ver</th>\n",
              "    </tr>\n",
              "  </thead>\n",
              "  <tbody>\n",
              "    <tr>\n",
              "      <th>0</th>\n",
              "      <td>Photo Editor &amp; Candy Camera &amp; Grid &amp; ScrapBook</td>\n",
              "      <td>ART_AND_DESIGN</td>\n",
              "      <td>4.1</td>\n",
              "      <td>159</td>\n",
              "      <td>19M</td>\n",
              "      <td>10,000+</td>\n",
              "      <td>Free</td>\n",
              "      <td>0</td>\n",
              "      <td>Everyone</td>\n",
              "      <td>Art &amp; Design</td>\n",
              "      <td>January 7, 2018</td>\n",
              "      <td>1.0.0</td>\n",
              "      <td>4.0.3 and up</td>\n",
              "    </tr>\n",
              "    <tr>\n",
              "      <th>1</th>\n",
              "      <td>Coloring book moana</td>\n",
              "      <td>ART_AND_DESIGN</td>\n",
              "      <td>3.9</td>\n",
              "      <td>967</td>\n",
              "      <td>14M</td>\n",
              "      <td>500,000+</td>\n",
              "      <td>Free</td>\n",
              "      <td>0</td>\n",
              "      <td>Everyone</td>\n",
              "      <td>Art &amp; Design;Pretend Play</td>\n",
              "      <td>January 15, 2018</td>\n",
              "      <td>2.0.0</td>\n",
              "      <td>4.0.3 and up</td>\n",
              "    </tr>\n",
              "    <tr>\n",
              "      <th>2</th>\n",
              "      <td>U Launcher Lite – FREE Live Cool Themes, Hide ...</td>\n",
              "      <td>ART_AND_DESIGN</td>\n",
              "      <td>4.7</td>\n",
              "      <td>87510</td>\n",
              "      <td>8.7M</td>\n",
              "      <td>5,000,000+</td>\n",
              "      <td>Free</td>\n",
              "      <td>0</td>\n",
              "      <td>Everyone</td>\n",
              "      <td>Art &amp; Design</td>\n",
              "      <td>August 1, 2018</td>\n",
              "      <td>1.2.4</td>\n",
              "      <td>4.0.3 and up</td>\n",
              "    </tr>\n",
              "    <tr>\n",
              "      <th>3</th>\n",
              "      <td>Sketch - Draw &amp; Paint</td>\n",
              "      <td>ART_AND_DESIGN</td>\n",
              "      <td>4.5</td>\n",
              "      <td>215644</td>\n",
              "      <td>25M</td>\n",
              "      <td>50,000,000+</td>\n",
              "      <td>Free</td>\n",
              "      <td>0</td>\n",
              "      <td>Teen</td>\n",
              "      <td>Art &amp; Design</td>\n",
              "      <td>June 8, 2018</td>\n",
              "      <td>Varies with device</td>\n",
              "      <td>4.2 and up</td>\n",
              "    </tr>\n",
              "    <tr>\n",
              "      <th>4</th>\n",
              "      <td>Pixel Draw - Number Art Coloring Book</td>\n",
              "      <td>ART_AND_DESIGN</td>\n",
              "      <td>4.3</td>\n",
              "      <td>967</td>\n",
              "      <td>2.8M</td>\n",
              "      <td>100,000+</td>\n",
              "      <td>Free</td>\n",
              "      <td>0</td>\n",
              "      <td>Everyone</td>\n",
              "      <td>Art &amp; Design;Creativity</td>\n",
              "      <td>June 20, 2018</td>\n",
              "      <td>1.1</td>\n",
              "      <td>4.4 and up</td>\n",
              "    </tr>\n",
              "  </tbody>\n",
              "</table>\n",
              "</div>"
            ],
            "text/plain": [
              "                                                 App  ...   Android Ver\n",
              "0     Photo Editor & Candy Camera & Grid & ScrapBook  ...  4.0.3 and up\n",
              "1                                Coloring book moana  ...  4.0.3 and up\n",
              "2  U Launcher Lite – FREE Live Cool Themes, Hide ...  ...  4.0.3 and up\n",
              "3                              Sketch - Draw & Paint  ...    4.2 and up\n",
              "4              Pixel Draw - Number Art Coloring Book  ...    4.4 and up\n",
              "\n",
              "[5 rows x 13 columns]"
            ]
          },
          "metadata": {
            "tags": []
          },
          "execution_count": 78
        }
      ]
    },
    {
      "cell_type": "markdown",
      "metadata": {
        "id": "RD7HAGooWMLo"
      },
      "source": [
        "We will predict app ratings using other features describing the app. To use these features, we must clean the data."
      ]
    },
    {
      "cell_type": "markdown",
      "metadata": {
        "id": "ieg0JuQlWMLu"
      },
      "source": [
        "To simplify, we will remove the app, category, size, installs, genres, last updated, current ver, and android ver columns. "
      ]
    },
    {
      "cell_type": "code",
      "metadata": {
        "id": "jPxJSCQTWMLr"
      },
      "source": [
        "# answer below:\n",
        "rev = reviews.drop(columns=['App', 'Category', 'Size', 'Installs', 'Last Updated', 'Current Ver', 'Genres', 'Android Ver'], axis=1)"
      ],
      "execution_count": 79,
      "outputs": []
    },
    {
      "cell_type": "markdown",
      "metadata": {
        "id": "DKtcnNARWMLq"
      },
      "source": [
        "Check for missing values and remove all rows containing missing values"
      ]
    },
    {
      "cell_type": "code",
      "metadata": {
        "id": "RNxRhhpuWMLu"
      },
      "source": [
        "# answer below:\n",
        "rev = rev.dropna()"
      ],
      "execution_count": 80,
      "outputs": []
    },
    {
      "cell_type": "markdown",
      "metadata": {
        "id": "HcBzon3rYp4H"
      },
      "source": [
        "Remove outliers from the Type and Content Rating columns (very rare values that won't train well)."
      ]
    },
    {
      "cell_type": "code",
      "metadata": {
        "id": "drpIxOvYYqAh",
        "outputId": "98ab7a9e-a74b-4add-fbd7-1ee746d77f66",
        "colab": {
          "base_uri": "https://localhost:8080/",
          "height": 408
        }
      },
      "source": [
        "# answer below:\n",
        "print(rev['Type'].value_counts(), '\\n')\n",
        "print(rev['Content Rating'].value_counts())\n",
        "rev = rev[rev['Content Rating'] != 'Unrated']\n",
        "rev = rev[rev['Content Rating'] != 'Adults only 18+']\n",
        "print('\\n')\n",
        "print(rev['Content Rating'].value_counts())\n",
        "print('\\n')\n",
        "print(rev['Type'].value_counts())"
      ],
      "execution_count": 81,
      "outputs": [
        {
          "output_type": "stream",
          "text": [
            "Free    8719\n",
            "Paid     647\n",
            "Name: Type, dtype: int64 \n",
            "\n",
            "Everyone           7420\n",
            "Teen               1084\n",
            "Mature 17+          461\n",
            "Everyone 10+        397\n",
            "Adults only 18+       3\n",
            "Unrated               1\n",
            "Name: Content Rating, dtype: int64\n",
            "\n",
            "\n",
            "Everyone        7420\n",
            "Teen            1084\n",
            "Mature 17+       461\n",
            "Everyone 10+     397\n",
            "Name: Content Rating, dtype: int64\n",
            "\n",
            "\n",
            "Free    8715\n",
            "Paid     647\n",
            "Name: Type, dtype: int64\n"
          ],
          "name": "stdout"
        }
      ]
    },
    {
      "cell_type": "markdown",
      "metadata": {
        "id": "WXUwnEbMV6_d"
      },
      "source": [
        "Convert the Type and Content Rating columns to a numeric format, whether by one-hot encoding, ordinal encoding, or similar."
      ]
    },
    {
      "cell_type": "code",
      "metadata": {
        "id": "T_SPpHdUV7I-"
      },
      "source": [
        "# answer below:\n",
        "type_dummies = pd.get_dummies(rev['Type'], drop_first=True)\n",
        "content_dummies = pd.get_dummies(rev['Content Rating'], drop_first=True)\n",
        "data = rev.drop(columns=['Type', 'Content Rating'], axis=1)\n",
        "clean_data = pd.concat([data, type_dummies, content_dummies], axis=1)"
      ],
      "execution_count": 82,
      "outputs": []
    },
    {
      "cell_type": "markdown",
      "metadata": {
        "id": "0SeSNeEYWMLw"
      },
      "source": [
        "Finally, check that all the columns are of numeric type and change the type of columns that are not numeric. If coercing to numeric causes missing values, remove those rows containing missing values from our dataset."
      ]
    },
    {
      "cell_type": "code",
      "metadata": {
        "id": "qXqE-KMvWMLw",
        "outputId": "ce658503-ccc0-4a8f-fcae-cbed662e71a6",
        "colab": {
          "base_uri": "https://localhost:8080/",
          "height": 289
        }
      },
      "source": [
        "# answer below:\n",
        "\n",
        "print(clean_data.dtypes)\n",
        "clean_data['Reviews'] = clean_data['Reviews'].apply(lambda x: float(x))\n",
        "\n",
        "\n",
        "def money_to_float(money):\n",
        "  if money[0] == '$':\n",
        "    money = money[1::]\n",
        "  return float(money)\n",
        "\n",
        "\n",
        "clean_data['Price'] = clean_data['Price'].apply(lambda x: money_to_float(x))\n",
        "clean_data.dtypes"
      ],
      "execution_count": 83,
      "outputs": [
        {
          "output_type": "stream",
          "text": [
            "Rating          float64\n",
            "Reviews          object\n",
            "Price            object\n",
            "Paid              uint8\n",
            "Everyone 10+      uint8\n",
            "Mature 17+        uint8\n",
            "Teen              uint8\n",
            "dtype: object\n"
          ],
          "name": "stdout"
        },
        {
          "output_type": "execute_result",
          "data": {
            "text/plain": [
              "Rating          float64\n",
              "Reviews         float64\n",
              "Price           float64\n",
              "Paid              uint8\n",
              "Everyone 10+      uint8\n",
              "Mature 17+        uint8\n",
              "Teen              uint8\n",
              "dtype: object"
            ]
          },
          "metadata": {
            "tags": []
          },
          "execution_count": 83
        }
      ]
    },
    {
      "cell_type": "markdown",
      "metadata": {
        "id": "GvmM687VWML1"
      },
      "source": [
        "Perform a train test split with 20% of the data in the test sample."
      ]
    },
    {
      "cell_type": "code",
      "metadata": {
        "id": "COJv_NenWML1"
      },
      "source": [
        "# answer below:\n",
        "y = clean_data['Rating']\n",
        "X = clean_data.iloc[:, 1::]\n",
        "X = sm.add_constant(X)\n",
        "X_train, X_test, y_train, y_test = train_test_split(X, y, test_size=0.2)\n"
      ],
      "execution_count": 115,
      "outputs": []
    },
    {
      "cell_type": "markdown",
      "metadata": {
        "id": "ke4J9CM2WML3"
      },
      "source": [
        "Now generate a linear model using statsmodels and produce a p value for each coefficient in the model. Analyze the results. (Look at the results table and at a homoscedasticity plot.)"
      ]
    },
    {
      "cell_type": "code",
      "metadata": {
        "id": "lo0tMmlEWML3",
        "outputId": "0c86190e-0533-457b-eb8f-8c27455c5ca0",
        "colab": {
          "base_uri": "https://localhost:8080/",
          "height": 843
        }
      },
      "source": [
        "# answer below:\n",
        "lr = sm.OLS(y_train, X_train)\n",
        "fit = lr.fit()\n",
        "print(fit.summary())\n",
        "\n",
        "prediction = fit.predict(X_train)\n",
        "residual = (y_train - prediction)\n",
        "\n",
        "bart_stats = bartlett(residual, prediction)\n",
        "lev_stats = levene(residual, prediction)\n",
        "\n",
        "plt.scatter(prediction, residual)\n",
        "plt.show()\n",
        "\n",
        "print('bartlett stats: ', bart_stats)\n",
        "print('levene stats: ', lev_stats)\n"
      ],
      "execution_count": 125,
      "outputs": [
        {
          "output_type": "stream",
          "text": [
            "                            OLS Regression Results                            \n",
            "==============================================================================\n",
            "Dep. Variable:                 Rating   R-squared:                       0.010\n",
            "Model:                            OLS   Adj. R-squared:                  0.010\n",
            "Method:                 Least Squares   F-statistic:                     13.15\n",
            "Date:                Tue, 20 Oct 2020   Prob (F-statistic):           7.33e-15\n",
            "Time:                        15:30:50   Log-Likelihood:                -5452.3\n",
            "No. Observations:                7489   AIC:                         1.092e+04\n",
            "Df Residuals:                    7482   BIC:                         1.097e+04\n",
            "Df Model:                           6                                         \n",
            "Covariance Type:            nonrobust                                         \n",
            "================================================================================\n",
            "                   coef    std err          t      P>|t|      [0.025      0.975]\n",
            "--------------------------------------------------------------------------------\n",
            "const            4.1859      0.007    616.306      0.000       4.173       4.199\n",
            "Reviews       1.119e-08   1.83e-09      6.127      0.000    7.61e-09    1.48e-08\n",
            "Price           -0.0009      0.000     -2.385      0.017      -0.002      -0.000\n",
            "Paid             0.1034      0.023      4.469      0.000       0.058       0.149\n",
            "Everyone 10+     0.0440      0.029      1.523      0.128      -0.013       0.101\n",
            "Mature 17+      -0.0769      0.027     -2.867      0.004      -0.129      -0.024\n",
            "Teen             0.0409      0.018      2.260      0.024       0.005       0.076\n",
            "==============================================================================\n",
            "Omnibus:                     2772.355   Durbin-Watson:                   2.005\n",
            "Prob(Omnibus):                  0.000   Jarque-Bera (JB):            13036.361\n",
            "Skew:                          -1.748   Prob(JB):                         0.00\n",
            "Kurtosis:                       8.436   Cond. No.                     1.64e+07\n",
            "==============================================================================\n",
            "\n",
            "Warnings:\n",
            "[1] Standard Errors assume that the covariance matrix of the errors is correctly specified.\n",
            "[2] The condition number is large, 1.64e+07. This might indicate that there are\n",
            "strong multicollinearity or other numerical problems.\n"
          ],
          "name": "stdout"
        },
        {
          "output_type": "display_data",
          "data": {
            "image/png": "[encoded data removed]",
            "text/plain": [
              "<Figure size 432x288 with 1 Axes>"
            ]
          },
          "metadata": {
            "tags": [],
            "needs_background": "light"
          }
        },
        {
          "output_type": "stream",
          "text": [
            "bartlett stats:  BartlettResult(statistic=23862.575698932054, pvalue=0.0)\n",
            "levene stats:  LeveneResult(statistic=5146.462483661591, pvalue=0.0)\n"
          ],
          "name": "stdout"
        }
      ]
    },
    {
      "cell_type": "code",
      "metadata": {
        "id": "qM_d7my8m-J7"
      },
      "source": [
        "residual = (y_train - prediction)\n",
        "\n",
        "bart_stats = bartlett(residual, prediction)\n",
        "lev_stats = levene(residual, prediction)\n",
        "\n",
        "plt.scatter(residual, prediction)\n",
        "plt.show()"
      ],
      "execution_count": null,
      "outputs": []
    },
    {
      "cell_type": "markdown",
      "metadata": {
        "id": "mWph5fSlg-HG"
      },
      "source": [
        "Scale your predictors and refit the linear model.\n",
        "\n",
        "* How does this change the coefficients?\n",
        "* How does this change the coefficients' p values?\n",
        "* How does this change model performance?"
      ]
    },
    {
      "cell_type": "code",
      "metadata": {
        "id": "BfOvXFh5WML5",
        "outputId": "61b46b14-b304-430c-9668-0a3d34a4fa6a",
        "colab": {
          "base_uri": "https://localhost:8080/",
          "height": 419
        }
      },
      "source": [
        "# answer below:\n",
        "from sklearn.preprocessing import MinMaxScaler\n",
        "scaler = MinMaxScaler()\n",
        "transformed_data = pd.DataFrame(scaler.fit_transform(clean_data), columns=clean_data.columns)\n",
        "transformed_data"
      ],
      "execution_count": 137,
      "outputs": [
        {
          "output_type": "execute_result",
          "data": {
            "text/html": [
              "<div>\n",
              "<style scoped>\n",
              "    .dataframe tbody tr th:only-of-type {\n",
              "        vertical-align: middle;\n",
              "    }\n",
              "\n",
              "    .dataframe tbody tr th {\n",
              "        vertical-align: top;\n",
              "    }\n",
              "\n",
              "    .dataframe thead th {\n",
              "        text-align: right;\n",
              "    }\n",
              "</style>\n",
              "<table border=\"1\" class=\"dataframe\">\n",
              "  <thead>\n",
              "    <tr style=\"text-align: right;\">\n",
              "      <th></th>\n",
              "      <th>Rating</th>\n",
              "      <th>Reviews</th>\n",
              "      <th>Price</th>\n",
              "      <th>Paid</th>\n",
              "      <th>Everyone 10+</th>\n",
              "      <th>Mature 17+</th>\n",
              "      <th>Teen</th>\n",
              "    </tr>\n",
              "  </thead>\n",
              "  <tbody>\n",
              "    <tr>\n",
              "      <th>0</th>\n",
              "      <td>0.775</td>\n",
              "      <td>2.021538e-06</td>\n",
              "      <td>0.0</td>\n",
              "      <td>0.0</td>\n",
              "      <td>0.0</td>\n",
              "      <td>0.0</td>\n",
              "      <td>0.0</td>\n",
              "    </tr>\n",
              "    <tr>\n",
              "      <th>1</th>\n",
              "      <td>0.725</td>\n",
              "      <td>1.235953e-05</td>\n",
              "      <td>0.0</td>\n",
              "      <td>0.0</td>\n",
              "      <td>0.0</td>\n",
              "      <td>0.0</td>\n",
              "      <td>0.0</td>\n",
              "    </tr>\n",
              "    <tr>\n",
              "      <th>2</th>\n",
              "      <td>0.925</td>\n",
              "      <td>1.119638e-03</td>\n",
              "      <td>0.0</td>\n",
              "      <td>0.0</td>\n",
              "      <td>0.0</td>\n",
              "      <td>0.0</td>\n",
              "      <td>0.0</td>\n",
              "    </tr>\n",
              "    <tr>\n",
              "      <th>3</th>\n",
              "      <td>0.875</td>\n",
              "      <td>2.759054e-03</td>\n",
              "      <td>0.0</td>\n",
              "      <td>0.0</td>\n",
              "      <td>0.0</td>\n",
              "      <td>0.0</td>\n",
              "      <td>1.0</td>\n",
              "    </tr>\n",
              "    <tr>\n",
              "      <th>4</th>\n",
              "      <td>0.825</td>\n",
              "      <td>1.235953e-05</td>\n",
              "      <td>0.0</td>\n",
              "      <td>0.0</td>\n",
              "      <td>0.0</td>\n",
              "      <td>0.0</td>\n",
              "      <td>0.0</td>\n",
              "    </tr>\n",
              "    <tr>\n",
              "      <th>...</th>\n",
              "      <td>...</td>\n",
              "      <td>...</td>\n",
              "      <td>...</td>\n",
              "      <td>...</td>\n",
              "      <td>...</td>\n",
              "      <td>...</td>\n",
              "      <td>...</td>\n",
              "    </tr>\n",
              "    <tr>\n",
              "      <th>9357</th>\n",
              "      <td>0.750</td>\n",
              "      <td>7.676727e-08</td>\n",
              "      <td>0.0</td>\n",
              "      <td>0.0</td>\n",
              "      <td>0.0</td>\n",
              "      <td>0.0</td>\n",
              "      <td>0.0</td>\n",
              "    </tr>\n",
              "    <tr>\n",
              "      <th>9358</th>\n",
              "      <td>0.875</td>\n",
              "      <td>4.733982e-07</td>\n",
              "      <td>0.0</td>\n",
              "      <td>0.0</td>\n",
              "      <td>0.0</td>\n",
              "      <td>0.0</td>\n",
              "      <td>0.0</td>\n",
              "    </tr>\n",
              "    <tr>\n",
              "      <th>9359</th>\n",
              "      <td>1.000</td>\n",
              "      <td>3.838364e-08</td>\n",
              "      <td>0.0</td>\n",
              "      <td>0.0</td>\n",
              "      <td>0.0</td>\n",
              "      <td>0.0</td>\n",
              "      <td>0.0</td>\n",
              "    </tr>\n",
              "    <tr>\n",
              "      <th>9360</th>\n",
              "      <td>0.875</td>\n",
              "      <td>1.445784e-06</td>\n",
              "      <td>0.0</td>\n",
              "      <td>0.0</td>\n",
              "      <td>0.0</td>\n",
              "      <td>1.0</td>\n",
              "      <td>0.0</td>\n",
              "    </tr>\n",
              "    <tr>\n",
              "      <th>9361</th>\n",
              "      <td>0.875</td>\n",
              "      <td>5.096144e-03</td>\n",
              "      <td>0.0</td>\n",
              "      <td>0.0</td>\n",
              "      <td>0.0</td>\n",
              "      <td>0.0</td>\n",
              "      <td>0.0</td>\n",
              "    </tr>\n",
              "  </tbody>\n",
              "</table>\n",
              "<p>9362 rows × 7 columns</p>\n",
              "</div>"
            ],
            "text/plain": [
              "      Rating       Reviews  Price  Paid  Everyone 10+  Mature 17+  Teen\n",
              "0      0.775  2.021538e-06    0.0   0.0           0.0         0.0   0.0\n",
              "1      0.725  1.235953e-05    0.0   0.0           0.0         0.0   0.0\n",
              "2      0.925  1.119638e-03    0.0   0.0           0.0         0.0   0.0\n",
              "3      0.875  2.759054e-03    0.0   0.0           0.0         0.0   1.0\n",
              "4      0.825  1.235953e-05    0.0   0.0           0.0         0.0   0.0\n",
              "...      ...           ...    ...   ...           ...         ...   ...\n",
              "9357   0.750  7.676727e-08    0.0   0.0           0.0         0.0   0.0\n",
              "9358   0.875  4.733982e-07    0.0   0.0           0.0         0.0   0.0\n",
              "9359   1.000  3.838364e-08    0.0   0.0           0.0         0.0   0.0\n",
              "9360   0.875  1.445784e-06    0.0   0.0           0.0         1.0   0.0\n",
              "9361   0.875  5.096144e-03    0.0   0.0           0.0         0.0   0.0\n",
              "\n",
              "[9362 rows x 7 columns]"
            ]
          },
          "metadata": {
            "tags": []
          },
          "execution_count": 137
        }
      ]
    },
    {
      "cell_type": "code",
      "metadata": {
        "id": "QXLpF5nHq6Yi"
      },
      "source": [
        "y = transformed_data['Rating']\n",
        "X = transformed_data.iloc[:, 1::]\n",
        "X = sm.add_constant(X)\n",
        "X_train, X_test, y_train, y_test = train_test_split(X, y, test_size=0.2)"
      ],
      "execution_count": 138,
      "outputs": []
    },
    {
      "cell_type": "code",
      "metadata": {
        "id": "0rsoVuQhrBZx",
        "outputId": "c79b6e1d-667f-4617-d17f-f002aa26bf6b",
        "colab": {
          "base_uri": "https://localhost:8080/",
          "height": 809
        }
      },
      "source": [
        "lr = sm.OLS(y_train, X_train)\n",
        "fit = lr.fit()\n",
        "print(fit.summary())\n",
        "\n",
        "prediction = fit.predict(X_train)\n",
        "residual = (y_train - prediction)\n",
        "\n",
        "bart_stats = bartlett(residual, prediction)\n",
        "lev_stats = levene(residual, prediction)\n",
        "\n",
        "plt.scatter(prediction, residual)\n",
        "plt.show()\n",
        "\n",
        "print('bartlett stats: ', bart_stats)\n",
        "print('levene stats: ', lev_stats)"
      ],
      "execution_count": 140,
      "outputs": [
        {
          "output_type": "stream",
          "text": [
            "                            OLS Regression Results                            \n",
            "==============================================================================\n",
            "Dep. Variable:                 Rating   R-squared:                       0.009\n",
            "Model:                            OLS   Adj. R-squared:                  0.008\n",
            "Method:                 Least Squares   F-statistic:                     11.45\n",
            "Date:                Tue, 20 Oct 2020   Prob (F-statistic):           8.74e-13\n",
            "Time:                        15:44:03   Log-Likelihood:                 4853.2\n",
            "No. Observations:                7489   AIC:                            -9692.\n",
            "Df Residuals:                    7482   BIC:                            -9644.\n",
            "Df Model:                           6                                         \n",
            "Covariance Type:            nonrobust                                         \n",
            "================================================================================\n",
            "                   coef    std err          t      P>|t|      [0.025      0.975]\n",
            "--------------------------------------------------------------------------------\n",
            "const            0.7939      0.002    464.381      0.000       0.791       0.797\n",
            "Reviews          0.2199      0.037      5.985      0.000       0.148       0.292\n",
            "Price           -0.1037      0.037     -2.829      0.005      -0.175      -0.032\n",
            "Paid             0.0238      0.006      4.056      0.000       0.012       0.035\n",
            "Everyone 10+     0.0134      0.007      1.825      0.068      -0.001       0.028\n",
            "Mature 17+      -0.0082      0.007     -1.210      0.226      -0.021       0.005\n",
            "Teen             0.0112      0.005      2.408      0.016       0.002       0.020\n",
            "==============================================================================\n",
            "Omnibus:                     2870.575   Durbin-Watson:                   2.011\n",
            "Prob(Omnibus):                  0.000   Jarque-Bera (JB):            13980.672\n",
            "Skew:                          -1.805   Prob(JB):                         0.00\n",
            "Kurtosis:                       8.636   Cond. No.                         25.4\n",
            "==============================================================================\n",
            "\n",
            "Warnings:\n",
            "[1] Standard Errors assume that the covariance matrix of the errors is correctly specified.\n"
          ],
          "name": "stdout"
        },
        {
          "output_type": "display_data",
          "data": {
            "image/png": "[encoded data removed]",
            "text/plain": [
              "<Figure size 432x288 with 1 Axes>"
            ]
          },
          "metadata": {
            "tags": [],
            "needs_background": "light"
          }
        },
        {
          "output_type": "stream",
          "text": [
            "bartlett stats:  BartlettResult(statistic=24878.7211901198, pvalue=0.0)\n",
            "levene stats:  LeveneResult(statistic=5100.458333453038, pvalue=0.0)\n"
          ],
          "name": "stdout"
        }
      ]
    },
    {
      "cell_type": "code",
      "metadata": {
        "id": "3rxXcQj0r_Kn"
      },
      "source": [
        "no_maturity_level = transformed_data.drop(columns=['Everyone 10+', 'Mature 17+', 'Teen'], axis=1)\n",
        "y = no_maturity_level['Rating']\n",
        "X = no_maturity_level.iloc[:, 1::]\n",
        "X = sm.add_constant(X)\n",
        "X_train, X_test, y_train, y_test = train_test_split(X, y, test_size=0.2)"
      ],
      "execution_count": 144,
      "outputs": []
    },
    {
      "cell_type": "code",
      "metadata": {
        "id": "Oz0J0mnTsWh2",
        "outputId": "ddf3a741-bb93-4126-f0fd-f2cd01f7e6f3",
        "colab": {
          "base_uri": "https://localhost:8080/",
          "height": 758
        }
      },
      "source": [
        "lr = sm.OLS(y_train, X_train)\n",
        "fit = lr.fit()\n",
        "print(fit.summary())\n",
        "\n",
        "prediction = fit.predict(X_train)\n",
        "residual = (y_train - prediction)\n",
        "\n",
        "bart_stats = bartlett(residual, prediction)\n",
        "lev_stats = levene(residual, prediction)\n",
        "\n",
        "plt.scatter(prediction, residual)\n",
        "plt.show()\n",
        "\n",
        "print('bartlett stats: ', bart_stats)\n",
        "print('levene stats: ', lev_stats)\n"
      ],
      "execution_count": 145,
      "outputs": [
        {
          "output_type": "stream",
          "text": [
            "                            OLS Regression Results                            \n",
            "==============================================================================\n",
            "Dep. Variable:                 Rating   R-squared:                       0.007\n",
            "Model:                            OLS   Adj. R-squared:                  0.007\n",
            "Method:                 Least Squares   F-statistic:                     18.76\n",
            "Date:                Tue, 20 Oct 2020   Prob (F-statistic):           4.07e-12\n",
            "Time:                        15:47:40   Log-Likelihood:                 4768.0\n",
            "No. Observations:                7489   AIC:                            -9528.\n",
            "Df Residuals:                    7485   BIC:                            -9500.\n",
            "Df Model:                           3                                         \n",
            "Covariance Type:            nonrobust                                         \n",
            "==============================================================================\n",
            "                 coef    std err          t      P>|t|      [0.025      0.975]\n",
            "------------------------------------------------------------------------------\n",
            "const          0.7948      0.002    511.680      0.000       0.792       0.798\n",
            "Reviews        0.2305      0.037      6.265      0.000       0.158       0.303\n",
            "Price         -0.1143      0.042     -2.708      0.007      -0.197      -0.032\n",
            "Paid           0.0235      0.006      3.883      0.000       0.012       0.035\n",
            "==============================================================================\n",
            "Omnibus:                     2917.468   Durbin-Watson:                   1.993\n",
            "Prob(Omnibus):                  0.000   Jarque-Bera (JB):            14455.801\n",
            "Skew:                          -1.833   Prob(JB):                         0.00\n",
            "Kurtosis:                       8.735   Cond. No.                         28.6\n",
            "==============================================================================\n",
            "\n",
            "Warnings:\n",
            "[1] Standard Errors assume that the covariance matrix of the errors is correctly specified.\n"
          ],
          "name": "stdout"
        },
        {
          "output_type": "display_data",
          "data": {
            "image/png": "[encoded data removed]",
            "text/plain": [
              "<Figure size 432x288 with 1 Axes>"
            ]
          },
          "metadata": {
            "tags": [],
            "needs_background": "light"
          }
        },
        {
          "output_type": "stream",
          "text": [
            "bartlett stats:  BartlettResult(statistic=26349.466517081157, pvalue=0.0)\n",
            "levene stats:  LeveneResult(statistic=5294.179554184369, pvalue=0.0)\n"
          ],
          "name": "stdout"
        }
      ]
    }
  ]
}