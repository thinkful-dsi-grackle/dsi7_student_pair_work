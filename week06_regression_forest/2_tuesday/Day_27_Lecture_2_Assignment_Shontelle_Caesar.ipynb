{
  "nbformat": 4,
  "nbformat_minor": 0,
  "metadata": {
    "kernelspec": {
      "display_name": "Python 3",
      "language": "python",
      "name": "python3"
    },
    "language_info": {
      "codemirror_mode": {
        "name": "ipython",
        "version": 3
      },
      "file_extension": ".py",
      "mimetype": "text/x-python",
      "name": "python",
      "nbconvert_exporter": "python",
      "pygments_lexer": "ipython3",
      "version": "3.7.0"
    },
    "colab": {
      "name": "Day_27_Lecture_2_Assignment_Shontelle_Caesar.ipynb",
      "provenance": [],
      "collapsed_sections": []
    }
  },
  "cells": [
    {
      "cell_type": "markdown",
      "metadata": {
        "id": "y9vyvVFH6eJX"
      },
      "source": [
        "## Day 27 Lecture 2 Assignment\n",
        "\n",
        "In this assignment, we will learn about interpreting linear models. We will use the google play store dataset loaded below and analyze the regression from this dataset."
      ]
    },
    {
      "cell_type": "code",
      "metadata": {
        "id": "es0KRXYh6eJX"
      },
      "source": [
        "%matplotlib inline\n",
        "\n",
        "import matplotlib.pyplot as plt\n",
        "import numpy as np\n",
        "import pandas as pd"
      ],
      "execution_count": 2,
      "outputs": []
    },
    {
      "cell_type": "code",
      "metadata": {
        "id": "OBA55N6J6eJa"
      },
      "source": [
        "reviews = pd.read_csv('https://tf-assets-prod.s3.amazonaws.com/tf-curric/data-science/googleplaystore.csv')"
      ],
      "execution_count": 68,
      "outputs": []
    },
    {
      "cell_type": "code",
      "metadata": {
        "id": "p7MRLPftSm4N"
      },
      "source": [
        "reviews_copy = pd.read_csv('https://tf-assets-prod.s3.amazonaws.com/tf-curric/data-science/googleplaystore.csv')"
      ],
      "execution_count": 67,
      "outputs": []
    },
    {
      "cell_type": "code",
      "metadata": {
        "id": "5VqhV25B6eJb",
        "outputId": "86e3b14e-865f-40b3-f645-7b04a30ca060",
        "colab": {
          "base_uri": "https://localhost:8080/",
          "height": 204
        }
      },
      "source": [
        "reviews.head()"
      ],
      "execution_count": 4,
      "outputs": [
        {
          "output_type": "execute_result",
          "data": {
            "text/html": [
              "<div>\n",
              "<style scoped>\n",
              "    .dataframe tbody tr th:only-of-type {\n",
              "        vertical-align: middle;\n",
              "    }\n",
              "\n",
              "    .dataframe tbody tr th {\n",
              "        vertical-align: top;\n",
              "    }\n",
              "\n",
              "    .dataframe thead th {\n",
              "        text-align: right;\n",
              "    }\n",
              "</style>\n",
              "<table border=\"1\" class=\"dataframe\">\n",
              "  <thead>\n",
              "    <tr style=\"text-align: right;\">\n",
              "      <th></th>\n",
              "      <th>App</th>\n",
              "      <th>Category</th>\n",
              "      <th>Rating</th>\n",
              "      <th>Reviews</th>\n",
              "      <th>Size</th>\n",
              "      <th>Installs</th>\n",
              "      <th>Type</th>\n",
              "      <th>Price</th>\n",
              "      <th>Content Rating</th>\n",
              "      <th>Genres</th>\n",
              "      <th>Last Updated</th>\n",
              "      <th>Current Ver</th>\n",
              "      <th>Android Ver</th>\n",
              "    </tr>\n",
              "  </thead>\n",
              "  <tbody>\n",
              "    <tr>\n",
              "      <th>0</th>\n",
              "      <td>Photo Editor &amp; Candy Camera &amp; Grid &amp; ScrapBook</td>\n",
              "      <td>ART_AND_DESIGN</td>\n",
              "      <td>4.1</td>\n",
              "      <td>159</td>\n",
              "      <td>19M</td>\n",
              "      <td>10,000+</td>\n",
              "      <td>Free</td>\n",
              "      <td>0</td>\n",
              "      <td>Everyone</td>\n",
              "      <td>Art &amp; Design</td>\n",
              "      <td>January 7, 2018</td>\n",
              "      <td>1.0.0</td>\n",
              "      <td>4.0.3 and up</td>\n",
              "    </tr>\n",
              "    <tr>\n",
              "      <th>1</th>\n",
              "      <td>Coloring book moana</td>\n",
              "      <td>ART_AND_DESIGN</td>\n",
              "      <td>3.9</td>\n",
              "      <td>967</td>\n",
              "      <td>14M</td>\n",
              "      <td>500,000+</td>\n",
              "      <td>Free</td>\n",
              "      <td>0</td>\n",
              "      <td>Everyone</td>\n",
              "      <td>Art &amp; Design;Pretend Play</td>\n",
              "      <td>January 15, 2018</td>\n",
              "      <td>2.0.0</td>\n",
              "      <td>4.0.3 and up</td>\n",
              "    </tr>\n",
              "    <tr>\n",
              "      <th>2</th>\n",
              "      <td>U Launcher Lite – FREE Live Cool Themes, Hide ...</td>\n",
              "      <td>ART_AND_DESIGN</td>\n",
              "      <td>4.7</td>\n",
              "      <td>87510</td>\n",
              "      <td>8.7M</td>\n",
              "      <td>5,000,000+</td>\n",
              "      <td>Free</td>\n",
              "      <td>0</td>\n",
              "      <td>Everyone</td>\n",
              "      <td>Art &amp; Design</td>\n",
              "      <td>August 1, 2018</td>\n",
              "      <td>1.2.4</td>\n",
              "      <td>4.0.3 and up</td>\n",
              "    </tr>\n",
              "    <tr>\n",
              "      <th>3</th>\n",
              "      <td>Sketch - Draw &amp; Paint</td>\n",
              "      <td>ART_AND_DESIGN</td>\n",
              "      <td>4.5</td>\n",
              "      <td>215644</td>\n",
              "      <td>25M</td>\n",
              "      <td>50,000,000+</td>\n",
              "      <td>Free</td>\n",
              "      <td>0</td>\n",
              "      <td>Teen</td>\n",
              "      <td>Art &amp; Design</td>\n",
              "      <td>June 8, 2018</td>\n",
              "      <td>Varies with device</td>\n",
              "      <td>4.2 and up</td>\n",
              "    </tr>\n",
              "    <tr>\n",
              "      <th>4</th>\n",
              "      <td>Pixel Draw - Number Art Coloring Book</td>\n",
              "      <td>ART_AND_DESIGN</td>\n",
              "      <td>4.3</td>\n",
              "      <td>967</td>\n",
              "      <td>2.8M</td>\n",
              "      <td>100,000+</td>\n",
              "      <td>Free</td>\n",
              "      <td>0</td>\n",
              "      <td>Everyone</td>\n",
              "      <td>Art &amp; Design;Creativity</td>\n",
              "      <td>June 20, 2018</td>\n",
              "      <td>1.1</td>\n",
              "      <td>4.4 and up</td>\n",
              "    </tr>\n",
              "  </tbody>\n",
              "</table>\n",
              "</div>"
            ],
            "text/plain": [
              "                                                 App  ...   Android Ver\n",
              "0     Photo Editor & Candy Camera & Grid & ScrapBook  ...  4.0.3 and up\n",
              "1                                Coloring book moana  ...  4.0.3 and up\n",
              "2  U Launcher Lite – FREE Live Cool Themes, Hide ...  ...  4.0.3 and up\n",
              "3                              Sketch - Draw & Paint  ...    4.2 and up\n",
              "4              Pixel Draw - Number Art Coloring Book  ...    4.4 and up\n",
              "\n",
              "[5 rows x 13 columns]"
            ]
          },
          "metadata": {
            "tags": []
          },
          "execution_count": 4
        }
      ]
    },
    {
      "cell_type": "markdown",
      "metadata": {
        "id": "srZ40Wiq6eJd"
      },
      "source": [
        "We will predict app ratings using other features describing the app. Recall from the previous assignment our data cleansing steps and do the following:\n",
        "\n",
        "1. Remove the following columns: app, category, size, installs, genres, last updated, current ver, android ver\n",
        "2. Convert all columns to numeric and remove rows where this conversion causes null values\n",
        "3. Split the data into test and train subsets with 20% of the data in the test set\n",
        "4. Normalize the data with QuantileTransformer. Many of the features are highly skewed."
      ]
    },
    {
      "cell_type": "code",
      "metadata": {
        "id": "IOC9woazKoj9"
      },
      "source": [
        "from sklearn.preprocessing import QuantileTransformer\n",
        "from sklearn.model_selection import train_test_split"
      ],
      "execution_count": 21,
      "outputs": []
    },
    {
      "cell_type": "code",
      "metadata": {
        "id": "zwlngFVS6eJe"
      },
      "source": [
        "reviews.drop(['App', 'Category', 'Size', 'Installs', 'Genres', 'Last Updated', 'Current Ver', 'Android Ver'], axis=1, inplace=True)\n",
        "reviews = reviews.dropna()"
      ],
      "execution_count": 69,
      "outputs": []
    },
    {
      "cell_type": "code",
      "metadata": {
        "id": "NizfRO-iLYrE"
      },
      "source": [
        "# one hot encoding\n",
        "content_rating = pd.get_dummies(reviews['Content Rating'])\n",
        "app_type = pd.get_dummies(reviews['Type'])\n",
        "\n",
        "reviews = pd.concat([reviews, content_rating], axis=1)\n",
        "reviews = pd.concat([reviews, app_type], axis=1)"
      ],
      "execution_count": 70,
      "outputs": []
    },
    {
      "cell_type": "code",
      "metadata": {
        "id": "lsontjW8Lkwc"
      },
      "source": [
        "reviews.drop(reviews['Content Rating'].value_counts().index[1], axis=1, inplace=True)\n",
        "reviews.drop(reviews['Type'].value_counts().index[1], axis=1, inplace=True)\n",
        "reviews.drop(['Type','Content Rating'], axis=1, inplace=True)"
      ],
      "execution_count": 71,
      "outputs": []
    },
    {
      "cell_type": "code",
      "metadata": {
        "id": "FnNuus3QLHns"
      },
      "source": [
        "# conversion\n",
        "reviews['Reviews'] = pd.to_numeric(reviews['Reviews'], errors='coerce')\n",
        "reviews['Price'] = pd.to_numeric(reviews['Price'], errors='coerce')\n",
        "reviews = reviews.dropna()"
      ],
      "execution_count": 72,
      "outputs": []
    },
    {
      "cell_type": "code",
      "metadata": {
        "id": "yNoqXNL_Kz37"
      },
      "source": [
        "# train-test split\n",
        "X = reviews.drop('Rating', axis=1)\n",
        "y = reviews.Rating\n",
        "\n",
        "X_train, x_test, Y_train, y_test = train_test_split(X, y, test_size=0.2)"
      ],
      "execution_count": 73,
      "outputs": []
    },
    {
      "cell_type": "code",
      "metadata": {
        "id": "rALYTPyZKuZW"
      },
      "source": [
        "# quantile transformer\n",
        "qt = QuantileTransformer()\n",
        "X_train_t = qt.fit_transform(X_train)"
      ],
      "execution_count": 74,
      "outputs": []
    },
    {
      "cell_type": "markdown",
      "metadata": {
        "id": "dUPnRE0T6eJf"
      },
      "source": [
        "Create a linear regression model using statsmodels. Look at the coefficient values and their associated p values. Additionally, check model assumptions of homoscedacity, normality of errors, and multicollinearity."
      ]
    },
    {
      "cell_type": "code",
      "metadata": {
        "id": "80m0MSYv6eJg",
        "outputId": "097d625f-584e-4b67-b965-1a89d4cff8fd",
        "colab": {
          "base_uri": "https://localhost:8080/",
          "height": 765
        }
      },
      "source": [
        "import statsmodels.api as sm\n",
        "\n",
        "X_con = sm.add_constant(X_train_t)\n",
        "results = sm.OLS(Y_train, X_con).fit()\n",
        "print(results.summary())"
      ],
      "execution_count": 50,
      "outputs": [
        {
          "output_type": "stream",
          "text": [
            "                            OLS Regression Results                            \n",
            "==============================================================================\n",
            "Dep. Variable:                 Rating   R-squared:                       0.056\n",
            "Model:                            OLS   Adj. R-squared:                  0.055\n",
            "Method:                 Least Squares   F-statistic:                     69.07\n",
            "Date:                Tue, 20 Oct 2020   Prob (F-statistic):           7.49e-84\n",
            "Time:                        18:10:14   Log-Likelihood:                -5027.9\n",
            "No. Observations:                6975   AIC:                         1.007e+04\n",
            "Df Residuals:                    6968   BIC:                         1.012e+04\n",
            "Df Model:                           6                                         \n",
            "Covariance Type:            nonrobust                                         \n",
            "==============================================================================\n",
            "                 coef    std err          t      P>|t|      [0.025      0.975]\n",
            "------------------------------------------------------------------------------\n",
            "const          3.9819      0.012    331.638      0.000       3.958       4.005\n",
            "x1             0.4197      0.021     19.964      0.000       0.379       0.461\n",
            "x2          5.697e-17   9.58e-17      0.594      0.552   -1.31e-16    2.45e-16\n",
            "x3             0.3661      0.498      0.735      0.462      -0.610       1.342\n",
            "x4            -0.0111      0.030     -0.372      0.710      -0.069       0.047\n",
            "x5            -0.0813      0.027     -2.971      0.003      -0.135      -0.028\n",
            "x6            -0.0102      0.019     -0.544      0.587      -0.047       0.026\n",
            "x7            -0.0326      0.498     -0.065      0.948      -1.008       0.943\n",
            "x8                  0          0        nan        nan           0           0\n",
            "==============================================================================\n",
            "Omnibus:                     2161.466   Durbin-Watson:                   2.012\n",
            "Prob(Omnibus):                  0.000   Jarque-Bera (JB):            10075.872\n",
            "Skew:                          -1.434   Prob(JB):                         0.00\n",
            "Kurtosis:                       8.142   Cond. No.                          inf\n",
            "==============================================================================\n",
            "\n",
            "Warnings:\n",
            "[1] Standard Errors assume that the covariance matrix of the errors is correctly specified.\n",
            "[2] The smallest eigenvalue is      0. This might indicate that there are\n",
            "strong multicollinearity problems or that the design matrix is singular.\n"
          ],
          "name": "stdout"
        },
        {
          "output_type": "stream",
          "text": [
            "/usr/local/lib/python3.6/dist-packages/statsmodels/regression/linear_model.py:1755: RuntimeWarning: divide by zero encountered in double_scalars\n",
            "  return np.sqrt(eigvals[0]/eigvals[-1])\n",
            "/usr/local/lib/python3.6/dist-packages/statsmodels/base/model.py:1294: RuntimeWarning: invalid value encountered in true_divide\n",
            "  return self.params / self.bse\n",
            "/usr/local/lib/python3.6/dist-packages/scipy/stats/_distn_infrastructure.py:903: RuntimeWarning: invalid value encountered in greater\n",
            "  return (a < x) & (x < b)\n",
            "/usr/local/lib/python3.6/dist-packages/scipy/stats/_distn_infrastructure.py:903: RuntimeWarning: invalid value encountered in less\n",
            "  return (a < x) & (x < b)\n",
            "/usr/local/lib/python3.6/dist-packages/scipy/stats/_distn_infrastructure.py:1912: RuntimeWarning: invalid value encountered in less_equal\n",
            "  cond2 = cond0 & (x <= _a)\n"
          ],
          "name": "stderr"
        }
      ]
    },
    {
      "cell_type": "code",
      "metadata": {
        "id": "mS-Rl1syNTmd",
        "outputId": "1ff97be0-00a0-46ff-d25c-e1312e078271",
        "colab": {
          "base_uri": "https://localhost:8080/",
          "height": 289
        }
      },
      "source": [
        "reviews.info()"
      ],
      "execution_count": 75,
      "outputs": [
        {
          "output_type": "stream",
          "text": [
            "<class 'pandas.core.frame.DataFrame'>\n",
            "Int64Index: 8719 entries, 0 to 10840\n",
            "Data columns (total 9 columns):\n",
            " #   Column           Non-Null Count  Dtype  \n",
            "---  ------           --------------  -----  \n",
            " 0   Rating           8719 non-null   float64\n",
            " 1   Reviews          8719 non-null   int64  \n",
            " 2   Price            8719 non-null   float64\n",
            " 3   Adults only 18+  8719 non-null   uint8  \n",
            " 4   Everyone         8719 non-null   uint8  \n",
            " 5   Everyone 10+     8719 non-null   uint8  \n",
            " 6   Mature 17+       8719 non-null   uint8  \n",
            " 7   Unrated          8719 non-null   uint8  \n",
            " 8   Free             8719 non-null   uint8  \n",
            "dtypes: float64(2), int64(1), uint8(6)\n",
            "memory usage: 323.6 KB\n"
          ],
          "name": "stdout"
        }
      ]
    },
    {
      "cell_type": "code",
      "metadata": {
        "id": "DyasSG0iTl2P",
        "outputId": "c60bbd6e-c299-43da-8724-ea5225c7b250",
        "colab": {
          "base_uri": "https://localhost:8080/",
          "height": 765
        }
      },
      "source": [
        "# model with Free and Everyone\n",
        "X_con = sm.add_constant(X_train_t)\n",
        "results = sm.OLS(Y_train, X_con).fit()\n",
        "print(results.summary())"
      ],
      "execution_count": 76,
      "outputs": [
        {
          "output_type": "stream",
          "text": [
            "                            OLS Regression Results                            \n",
            "==============================================================================\n",
            "Dep. Variable:                 Rating   R-squared:                       0.057\n",
            "Model:                            OLS   Adj. R-squared:                  0.056\n",
            "Method:                 Least Squares   F-statistic:                     70.11\n",
            "Date:                Tue, 20 Oct 2020   Prob (F-statistic):           3.97e-85\n",
            "Time:                        18:38:57   Log-Likelihood:                -4948.9\n",
            "No. Observations:                6975   AIC:                             9912.\n",
            "Df Residuals:                    6968   BIC:                             9960.\n",
            "Df Model:                           6                                         \n",
            "Covariance Type:            nonrobust                                         \n",
            "==============================================================================\n",
            "                 coef    std err          t      P>|t|      [0.025      0.975]\n",
            "------------------------------------------------------------------------------\n",
            "const          3.9746      0.021    186.353      0.000       3.933       4.016\n",
            "x1             0.4173      0.021     20.064      0.000       0.377       0.458\n",
            "x2         -9.022e-17   7.94e-17     -1.137      0.256   -2.46e-16    6.54e-17\n",
            "x3            -0.0006      0.348     -0.002      0.999      -0.684       0.682\n",
            "x4             0.0085      0.019      0.456      0.649      -0.028       0.045\n",
            "x5         -5.124e-05      0.034     -0.002      0.999      -0.066       0.066\n",
            "x6            -0.0838      0.032     -2.656      0.008      -0.146      -0.022\n",
            "x7            -0.0224      0.493     -0.045      0.964      -0.988       0.943\n",
            "x8                  0          0        nan        nan           0           0\n",
            "==============================================================================\n",
            "Omnibus:                     2057.059   Durbin-Watson:                   2.024\n",
            "Prob(Omnibus):                  0.000   Jarque-Bera (JB):             9055.901\n",
            "Skew:                          -1.378   Prob(JB):                         0.00\n",
            "Kurtosis:                       7.854   Cond. No.                          inf\n",
            "==============================================================================\n",
            "\n",
            "Warnings:\n",
            "[1] Standard Errors assume that the covariance matrix of the errors is correctly specified.\n",
            "[2] The smallest eigenvalue is      0. This might indicate that there are\n",
            "strong multicollinearity problems or that the design matrix is singular.\n"
          ],
          "name": "stdout"
        },
        {
          "output_type": "stream",
          "text": [
            "/usr/local/lib/python3.6/dist-packages/statsmodels/regression/linear_model.py:1755: RuntimeWarning: divide by zero encountered in double_scalars\n",
            "  return np.sqrt(eigvals[0]/eigvals[-1])\n",
            "/usr/local/lib/python3.6/dist-packages/statsmodels/base/model.py:1294: RuntimeWarning: invalid value encountered in true_divide\n",
            "  return self.params / self.bse\n",
            "/usr/local/lib/python3.6/dist-packages/scipy/stats/_distn_infrastructure.py:903: RuntimeWarning: invalid value encountered in greater\n",
            "  return (a < x) & (x < b)\n",
            "/usr/local/lib/python3.6/dist-packages/scipy/stats/_distn_infrastructure.py:903: RuntimeWarning: invalid value encountered in less\n",
            "  return (a < x) & (x < b)\n",
            "/usr/local/lib/python3.6/dist-packages/scipy/stats/_distn_infrastructure.py:1912: RuntimeWarning: invalid value encountered in less_equal\n",
            "  cond2 = cond0 & (x <= _a)\n"
          ],
          "name": "stderr"
        }
      ]
    },
    {
      "cell_type": "markdown",
      "metadata": {
        "id": "jW_d2dka6eJh"
      },
      "source": [
        "Using the information above, try to select only the variables you think will lead to a better model and construct that model. Print out a summary"
      ]
    },
    {
      "cell_type": "code",
      "metadata": {
        "id": "zoaY3-Tu6eJi"
      },
      "source": [
        "# Mature 17+ and Reviews are the only variables that would help construct a better model\n",
        "# train-test split\n",
        "X_new = reviews[['Mature 17+','Reviews']]\n",
        "y_new = reviews.Rating\n",
        "\n",
        "X_train_new, x_test_new, Y_train_new, y_test_new = train_test_split(X_new, y_new, test_size=0.2)"
      ],
      "execution_count": 52,
      "outputs": []
    },
    {
      "cell_type": "code",
      "metadata": {
        "id": "aKaIw08yOaZ4"
      },
      "source": [
        "X_train_new_t = qt.fit_transform(X_train_new)"
      ],
      "execution_count": 53,
      "outputs": []
    },
    {
      "cell_type": "code",
      "metadata": {
        "id": "hVAquyrIOlTx",
        "outputId": "2553f2d0-e5db-4765-f5f9-2e66f7aad62c",
        "colab": {
          "base_uri": "https://localhost:8080/",
          "height": 459
        }
      },
      "source": [
        "X_con_new = sm.add_constant(X_train_new_t)\n",
        "results_new = sm.OLS(Y_train_new, X_con_new).fit()\n",
        "print(results_new.summary())"
      ],
      "execution_count": 54,
      "outputs": [
        {
          "output_type": "stream",
          "text": [
            "                            OLS Regression Results                            \n",
            "==============================================================================\n",
            "Dep. Variable:                 Rating   R-squared:                       0.054\n",
            "Model:                            OLS   Adj. R-squared:                  0.054\n",
            "Method:                 Least Squares   F-statistic:                     200.6\n",
            "Date:                Tue, 20 Oct 2020   Prob (F-statistic):           2.00e-85\n",
            "Time:                        18:17:08   Log-Likelihood:                -4951.7\n",
            "No. Observations:                6975   AIC:                             9909.\n",
            "Df Residuals:                    6972   BIC:                             9930.\n",
            "Df Model:                           2                                         \n",
            "Covariance Type:            nonrobust                                         \n",
            "==============================================================================\n",
            "                 coef    std err          t      P>|t|      [0.025      0.975]\n",
            "------------------------------------------------------------------------------\n",
            "const          3.9930      0.012    337.517      0.000       3.970       4.016\n",
            "x1            -0.1043      0.027     -3.845      0.000      -0.157      -0.051\n",
            "x2             0.4036      0.020     19.765      0.000       0.364       0.444\n",
            "==============================================================================\n",
            "Omnibus:                     2064.685   Durbin-Watson:                   2.030\n",
            "Prob(Omnibus):                  0.000   Jarque-Bera (JB):             9068.501\n",
            "Skew:                          -1.385   Prob(JB):                         0.00\n",
            "Kurtosis:                       7.851   Cond. No.                         5.19\n",
            "==============================================================================\n",
            "\n",
            "Warnings:\n",
            "[1] Standard Errors assume that the covariance matrix of the errors is correctly specified.\n"
          ],
          "name": "stdout"
        }
      ]
    },
    {
      "cell_type": "markdown",
      "metadata": {
        "id": "Iwnmvf1K6eJj"
      },
      "source": [
        "Plot the scatterplots between the independent variables you select and ratings. Do you think given these graphs, these variables have good predictive power? "
      ]
    },
    {
      "cell_type": "code",
      "metadata": {
        "id": "3x4zaqW5QysM"
      },
      "source": [
        "rating"
      ],
      "execution_count": null,
      "outputs": []
    },
    {
      "cell_type": "code",
      "metadata": {
        "id": "KatwaTmW6eJk",
        "outputId": "94ad3af0-0af5-45b6-bcc1-8a22dfd24ed7",
        "colab": {
          "base_uri": "https://localhost:8080/",
          "height": 369
        }
      },
      "source": [
        "plt.figure(figsize=(9,5))\n",
        "plt.subplot(1,2,1)\n",
        "plt.scatter(x=reviews['Reviews'], y=reviews['Rating'])\n",
        "plt.xlabel('Reviews')\n",
        "plt.ylabel('Rating')\n",
        "plt.title('Reviews vs. Rating')\n",
        "\n",
        "plt.subplot(1,2,2)\n",
        "plt.scatter(x=reviews['Mature 17+'], y=reviews['Rating'])\n",
        "plt.xlabel('Mature 17+')\n",
        "plt.ylabel('Rating')\n",
        "plt.title('Mature 17+ vs. Rating')\n",
        "plt.tight_layout()\n",
        "plt.show()"
      ],
      "execution_count": 66,
      "outputs": [
        {
          "output_type": "display_data",
          "data": {
            "image/png": "[encoded data removed]",
            "text/plain": [
              "<Figure size 648x360 with 2 Axes>"
            ]
          },
          "metadata": {
            "tags": [],
            "needs_background": "light"
          }
        }
      ]
    },
    {
      "cell_type": "markdown",
      "metadata": {
        "id": "BUZy5GA8RuGt"
      },
      "source": [
        ">*The Reviews variable have some predictive power but not enough to drive the Rating since Rating itself is right-skewed. As for Mature 17+, it does not hold any predictive power over Rating since it is only a classifier and there is a certain breakpoint for those that are rated Mature 17+ at around a Rating of 2.7.*"
      ]
    },
    {
      "cell_type": "markdown",
      "metadata": {
        "id": "MZKZNueZA63P"
      },
      "source": [
        "What data processing could you do to improve this model? Experiment."
      ]
    },
    {
      "cell_type": "markdown",
      "metadata": {
        "id": "9mlks8-16eJl"
      },
      "source": [
        ">*Including some removed features, namely, Category and Installs would have helped further to determine by how much does Reviews and Mature 17+ classification determine the Rating considering that there is a perceivable relationship between them and Rating.*\n",
        "\n",
        "*One-hot encoding Category and cleaning Installs would help in visualizing this data more.*"
      ]
    },
    {
      "cell_type": "code",
      "metadata": {
        "id": "fRURyxKnS3iN"
      },
      "source": [
        ""
      ],
      "execution_count": null,
      "outputs": []
    }
  ]
}