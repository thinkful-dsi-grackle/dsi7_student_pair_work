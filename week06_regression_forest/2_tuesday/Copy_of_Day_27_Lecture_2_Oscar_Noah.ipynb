{
  "nbformat": 4,
  "nbformat_minor": 0,
  "metadata": {
    "kernelspec": {
      "display_name": "Python 3",
      "language": "python",
      "name": "python3"
    },
    "language_info": {
      "codemirror_mode": {
        "name": "ipython",
        "version": 3
      },
      "file_extension": ".py",
      "mimetype": "text/x-python",
      "name": "python",
      "nbconvert_exporter": "python",
      "pygments_lexer": "ipython3",
      "version": "3.7.0"
    },
    "colab": {
      "name": "Copy of Day 27 Lecture 2_Oscar_Noah",
      "provenance": [],
      "collapsed_sections": []
    }
  },
  "cells": [
    {
      "cell_type": "markdown",
      "metadata": {
        "id": "y9vyvVFH6eJX"
      },
      "source": [
        "## Day 27 Lecture 2 Assignment\n",
        "\n",
        "In this assignment, we will learn about interpreting linear models. We will use the google play store dataset loaded below and analyze the regression from this dataset."
      ]
    },
    {
      "cell_type": "code",
      "metadata": {
        "id": "es0KRXYh6eJX"
      },
      "source": [
        "%matplotlib inline\n",
        "\n",
        "import matplotlib.pyplot as plt\n",
        "import numpy as np\n",
        "import pandas as pd"
      ],
      "execution_count": 69,
      "outputs": []
    },
    {
      "cell_type": "code",
      "metadata": {
        "id": "OBA55N6J6eJa"
      },
      "source": [
        "reviews = pd.read_csv('https://tf-assets-prod.s3.amazonaws.com/tf-curric/data-science/googleplaystore.csv')"
      ],
      "execution_count": 70,
      "outputs": []
    },
    {
      "cell_type": "code",
      "metadata": {
        "id": "5VqhV25B6eJb",
        "outputId": "4d7f08f0-e0b8-4fa0-9800-e5b5c283fcdc",
        "colab": {
          "base_uri": "https://localhost:8080/",
          "height": 564
        }
      },
      "source": [
        "reviews.head()"
      ],
      "execution_count": 71,
      "outputs": [
        {
          "output_type": "execute_result",
          "data": {
            "text/html": [
              "<div>\n",
              "<style scoped>\n",
              "    .dataframe tbody tr th:only-of-type {\n",
              "        vertical-align: middle;\n",
              "    }\n",
              "\n",
              "    .dataframe tbody tr th {\n",
              "        vertical-align: top;\n",
              "    }\n",
              "\n",
              "    .dataframe thead th {\n",
              "        text-align: right;\n",
              "    }\n",
              "</style>\n",
              "<table border=\"1\" class=\"dataframe\">\n",
              "  <thead>\n",
              "    <tr style=\"text-align: right;\">\n",
              "      <th></th>\n",
              "      <th>App</th>\n",
              "      <th>Category</th>\n",
              "      <th>Rating</th>\n",
              "      <th>Reviews</th>\n",
              "      <th>Size</th>\n",
              "      <th>Installs</th>\n",
              "      <th>Type</th>\n",
              "      <th>Price</th>\n",
              "      <th>Content Rating</th>\n",
              "      <th>Genres</th>\n",
              "      <th>Last Updated</th>\n",
              "      <th>Current Ver</th>\n",
              "      <th>Android Ver</th>\n",
              "    </tr>\n",
              "  </thead>\n",
              "  <tbody>\n",
              "    <tr>\n",
              "      <th>0</th>\n",
              "      <td>Photo Editor &amp; Candy Camera &amp; Grid &amp; ScrapBook</td>\n",
              "      <td>ART_AND_DESIGN</td>\n",
              "      <td>4.1</td>\n",
              "      <td>159</td>\n",
              "      <td>19M</td>\n",
              "      <td>10,000+</td>\n",
              "      <td>Free</td>\n",
              "      <td>0</td>\n",
              "      <td>Everyone</td>\n",
              "      <td>Art &amp; Design</td>\n",
              "      <td>January 7, 2018</td>\n",
              "      <td>1.0.0</td>\n",
              "      <td>4.0.3 and up</td>\n",
              "    </tr>\n",
              "    <tr>\n",
              "      <th>1</th>\n",
              "      <td>Coloring book moana</td>\n",
              "      <td>ART_AND_DESIGN</td>\n",
              "      <td>3.9</td>\n",
              "      <td>967</td>\n",
              "      <td>14M</td>\n",
              "      <td>500,000+</td>\n",
              "      <td>Free</td>\n",
              "      <td>0</td>\n",
              "      <td>Everyone</td>\n",
              "      <td>Art &amp; Design;Pretend Play</td>\n",
              "      <td>January 15, 2018</td>\n",
              "      <td>2.0.0</td>\n",
              "      <td>4.0.3 and up</td>\n",
              "    </tr>\n",
              "    <tr>\n",
              "      <th>2</th>\n",
              "      <td>U Launcher Lite – FREE Live Cool Themes, Hide ...</td>\n",
              "      <td>ART_AND_DESIGN</td>\n",
              "      <td>4.7</td>\n",
              "      <td>87510</td>\n",
              "      <td>8.7M</td>\n",
              "      <td>5,000,000+</td>\n",
              "      <td>Free</td>\n",
              "      <td>0</td>\n",
              "      <td>Everyone</td>\n",
              "      <td>Art &amp; Design</td>\n",
              "      <td>August 1, 2018</td>\n",
              "      <td>1.2.4</td>\n",
              "      <td>4.0.3 and up</td>\n",
              "    </tr>\n",
              "    <tr>\n",
              "      <th>3</th>\n",
              "      <td>Sketch - Draw &amp; Paint</td>\n",
              "      <td>ART_AND_DESIGN</td>\n",
              "      <td>4.5</td>\n",
              "      <td>215644</td>\n",
              "      <td>25M</td>\n",
              "      <td>50,000,000+</td>\n",
              "      <td>Free</td>\n",
              "      <td>0</td>\n",
              "      <td>Teen</td>\n",
              "      <td>Art &amp; Design</td>\n",
              "      <td>June 8, 2018</td>\n",
              "      <td>Varies with device</td>\n",
              "      <td>4.2 and up</td>\n",
              "    </tr>\n",
              "    <tr>\n",
              "      <th>4</th>\n",
              "      <td>Pixel Draw - Number Art Coloring Book</td>\n",
              "      <td>ART_AND_DESIGN</td>\n",
              "      <td>4.3</td>\n",
              "      <td>967</td>\n",
              "      <td>2.8M</td>\n",
              "      <td>100,000+</td>\n",
              "      <td>Free</td>\n",
              "      <td>0</td>\n",
              "      <td>Everyone</td>\n",
              "      <td>Art &amp; Design;Creativity</td>\n",
              "      <td>June 20, 2018</td>\n",
              "      <td>1.1</td>\n",
              "      <td>4.4 and up</td>\n",
              "    </tr>\n",
              "  </tbody>\n",
              "</table>\n",
              "</div>"
            ],
            "text/plain": [
              "                                                 App  ...   Android Ver\n",
              "0     Photo Editor & Candy Camera & Grid & ScrapBook  ...  4.0.3 and up\n",
              "1                                Coloring book moana  ...  4.0.3 and up\n",
              "2  U Launcher Lite – FREE Live Cool Themes, Hide ...  ...  4.0.3 and up\n",
              "3                              Sketch - Draw & Paint  ...    4.2 and up\n",
              "4              Pixel Draw - Number Art Coloring Book  ...    4.4 and up\n",
              "\n",
              "[5 rows x 13 columns]"
            ]
          },
          "metadata": {
            "tags": []
          },
          "execution_count": 71
        }
      ]
    },
    {
      "cell_type": "markdown",
      "metadata": {
        "id": "srZ40Wiq6eJd"
      },
      "source": [
        "We will predict app ratings using other features describing the app. Recall from the previous assignment our data cleansing steps and do the following:\n",
        "\n",
        "1. Remove the following columns: app, category, size, installs, genres, last updated, current ver, android ver\n",
        "2. Convert all columns to numeric and remove rows where this conversion causes null values\n",
        "3. Split the data into test and train subsets with 20% of the data in the test set\n",
        "4. Normalize the data with QuantileTransformer. Many of the features are highly skewed."
      ]
    },
    {
      "cell_type": "code",
      "metadata": {
        "id": "zwlngFVS6eJe",
        "outputId": "4ac94657-99cb-472a-ac20-b79f90e6d639",
        "colab": {
          "base_uri": "https://localhost:8080/",
          "height": 34
        }
      },
      "source": [
        "# answer below:\n",
        "\n",
        "df = reviews.drop(columns=['App', 'Category', 'Size', 'Installs', 'Genres', 'Last Updated', 'Current Ver', 'Android Ver'])\n",
        "\n",
        "df.shape"
      ],
      "execution_count": 72,
      "outputs": [
        {
          "output_type": "execute_result",
          "data": {
            "text/plain": [
              "(10841, 5)"
            ]
          },
          "metadata": {
            "tags": []
          },
          "execution_count": 72
        }
      ]
    },
    {
      "cell_type": "code",
      "metadata": {
        "id": "bfF4z098Xy0L",
        "outputId": "14d53893-f2c4-40d3-80ec-346d8c488bed",
        "colab": {
          "base_uri": "https://localhost:8080/",
          "height": 34
        }
      },
      "source": [
        "\n",
        "df.dropna(inplace=True)\n",
        "df.isnull().sum()\n",
        "\n",
        "df.shape"
      ],
      "execution_count": 73,
      "outputs": [
        {
          "output_type": "execute_result",
          "data": {
            "text/plain": [
              "(9366, 5)"
            ]
          },
          "metadata": {
            "tags": []
          },
          "execution_count": 73
        }
      ]
    },
    {
      "cell_type": "code",
      "metadata": {
        "id": "2vfG2nhIXzwb"
      },
      "source": [
        "df = pd.concat([df, pd.get_dummies(df['Content Rating'], drop_first=True)], axis=1)\n",
        "df = pd.concat([df, pd.get_dummies(df['Type'], drop_first=True)], axis=1)"
      ],
      "execution_count": 74,
      "outputs": []
    },
    {
      "cell_type": "code",
      "metadata": {
        "id": "_Qvw1cnqYXAo"
      },
      "source": [
        "df['Price'] = df.Price.str.strip('$')\n",
        "df['Price'] = df.Price.str.strip()"
      ],
      "execution_count": 75,
      "outputs": []
    },
    {
      "cell_type": "code",
      "metadata": {
        "id": "g9IxpIUmYUyc"
      },
      "source": [
        "df.drop(['Type', 'Content Rating'], axis=1, inplace=True)"
      ],
      "execution_count": 76,
      "outputs": []
    },
    {
      "cell_type": "code",
      "metadata": {
        "id": "F10BlnIecmAO",
        "outputId": "1ecd4013-bb81-41f1-91c5-d53606b98d1d",
        "colab": {
          "base_uri": "https://localhost:8080/",
          "height": 289
        }
      },
      "source": [
        "cols = ['Price', 'Reviews']\n",
        "df[cols] = df[cols].apply(pd.to_numeric, errors='raise', axis=1)\n",
        "df.info()"
      ],
      "execution_count": 77,
      "outputs": [
        {
          "output_type": "stream",
          "text": [
            "<class 'pandas.core.frame.DataFrame'>\n",
            "Int64Index: 9366 entries, 0 to 10840\n",
            "Data columns (total 9 columns):\n",
            " #   Column        Non-Null Count  Dtype  \n",
            "---  ------        --------------  -----  \n",
            " 0   Rating        9366 non-null   float64\n",
            " 1   Reviews       9366 non-null   float64\n",
            " 2   Price         9366 non-null   float64\n",
            " 3   Everyone      9366 non-null   uint8  \n",
            " 4   Everyone 10+  9366 non-null   uint8  \n",
            " 5   Mature 17+    9366 non-null   uint8  \n",
            " 6   Teen          9366 non-null   uint8  \n",
            " 7   Unrated       9366 non-null   uint8  \n",
            " 8   Paid          9366 non-null   uint8  \n",
            "dtypes: float64(3), uint8(6)\n",
            "memory usage: 347.6 KB\n"
          ],
          "name": "stdout"
        }
      ]
    },
    {
      "cell_type": "code",
      "metadata": {
        "id": "z6ltP1T5YhHv"
      },
      "source": [
        "from sklearn.model_selection import train_test_split\n",
        "from sklearn.preprocessing import QuantileTransformer\n"
      ],
      "execution_count": 78,
      "outputs": []
    },
    {
      "cell_type": "code",
      "metadata": {
        "id": "Kun6dYDFapHC"
      },
      "source": [
        "qt = QuantileTransformer()"
      ],
      "execution_count": 79,
      "outputs": []
    },
    {
      "cell_type": "code",
      "metadata": {
        "id": "XgxO0HEydE1f",
        "outputId": "4e6f8838-d1ce-448e-bb94-9509702a969d",
        "colab": {
          "base_uri": "https://localhost:8080/",
          "height": 419
        }
      },
      "source": [
        "normal_data = pd.DataFrame(qt.fit_transform(df), columns = df.columns)\n",
        "normal_data"
      ],
      "execution_count": 80,
      "outputs": [
        {
          "output_type": "execute_result",
          "data": {
            "text/html": [
              "<div>\n",
              "<style scoped>\n",
              "    .dataframe tbody tr th:only-of-type {\n",
              "        vertical-align: middle;\n",
              "    }\n",
              "\n",
              "    .dataframe tbody tr th {\n",
              "        vertical-align: top;\n",
              "    }\n",
              "\n",
              "    .dataframe thead th {\n",
              "        text-align: right;\n",
              "    }\n",
              "</style>\n",
              "<table border=\"1\" class=\"dataframe\">\n",
              "  <thead>\n",
              "    <tr style=\"text-align: right;\">\n",
              "      <th></th>\n",
              "      <th>Rating</th>\n",
              "      <th>Reviews</th>\n",
              "      <th>Price</th>\n",
              "      <th>Everyone</th>\n",
              "      <th>Everyone 10+</th>\n",
              "      <th>Mature 17+</th>\n",
              "      <th>Teen</th>\n",
              "      <th>Unrated</th>\n",
              "      <th>Paid</th>\n",
              "    </tr>\n",
              "  </thead>\n",
              "  <tbody>\n",
              "    <tr>\n",
              "      <th>0</th>\n",
              "      <td>0.311812</td>\n",
              "      <td>0.238238</td>\n",
              "      <td>0.0</td>\n",
              "      <td>1.0</td>\n",
              "      <td>0.0</td>\n",
              "      <td>0.0</td>\n",
              "      <td>0.0</td>\n",
              "      <td>0.0</td>\n",
              "      <td>0.0</td>\n",
              "    </tr>\n",
              "    <tr>\n",
              "      <th>1</th>\n",
              "      <td>0.174675</td>\n",
              "      <td>0.367708</td>\n",
              "      <td>0.0</td>\n",
              "      <td>1.0</td>\n",
              "      <td>0.0</td>\n",
              "      <td>0.0</td>\n",
              "      <td>0.0</td>\n",
              "      <td>0.0</td>\n",
              "      <td>0.0</td>\n",
              "    </tr>\n",
              "    <tr>\n",
              "      <th>2</th>\n",
              "      <td>0.909910</td>\n",
              "      <td>0.757087</td>\n",
              "      <td>0.0</td>\n",
              "      <td>1.0</td>\n",
              "      <td>0.0</td>\n",
              "      <td>0.0</td>\n",
              "      <td>0.0</td>\n",
              "      <td>0.0</td>\n",
              "      <td>0.0</td>\n",
              "    </tr>\n",
              "    <tr>\n",
              "      <th>3</th>\n",
              "      <td>0.739740</td>\n",
              "      <td>0.830364</td>\n",
              "      <td>0.0</td>\n",
              "      <td>0.0</td>\n",
              "      <td>0.0</td>\n",
              "      <td>0.0</td>\n",
              "      <td>1.0</td>\n",
              "      <td>0.0</td>\n",
              "      <td>0.0</td>\n",
              "    </tr>\n",
              "    <tr>\n",
              "      <th>4</th>\n",
              "      <td>0.508509</td>\n",
              "      <td>0.367708</td>\n",
              "      <td>0.0</td>\n",
              "      <td>1.0</td>\n",
              "      <td>0.0</td>\n",
              "      <td>0.0</td>\n",
              "      <td>0.0</td>\n",
              "      <td>0.0</td>\n",
              "      <td>0.0</td>\n",
              "    </tr>\n",
              "    <tr>\n",
              "      <th>...</th>\n",
              "      <td>...</td>\n",
              "      <td>...</td>\n",
              "      <td>...</td>\n",
              "      <td>...</td>\n",
              "      <td>...</td>\n",
              "      <td>...</td>\n",
              "      <td>...</td>\n",
              "      <td>...</td>\n",
              "      <td>...</td>\n",
              "    </tr>\n",
              "    <tr>\n",
              "      <th>9361</th>\n",
              "      <td>0.243744</td>\n",
              "      <td>0.050050</td>\n",
              "      <td>0.0</td>\n",
              "      <td>1.0</td>\n",
              "      <td>0.0</td>\n",
              "      <td>0.0</td>\n",
              "      <td>0.0</td>\n",
              "      <td>0.0</td>\n",
              "      <td>0.0</td>\n",
              "    </tr>\n",
              "    <tr>\n",
              "      <th>9362</th>\n",
              "      <td>0.739740</td>\n",
              "      <td>0.141642</td>\n",
              "      <td>0.0</td>\n",
              "      <td>1.0</td>\n",
              "      <td>0.0</td>\n",
              "      <td>0.0</td>\n",
              "      <td>0.0</td>\n",
              "      <td>0.0</td>\n",
              "      <td>0.0</td>\n",
              "    </tr>\n",
              "    <tr>\n",
              "      <th>9363</th>\n",
              "      <td>1.000000</td>\n",
              "      <td>0.028529</td>\n",
              "      <td>0.0</td>\n",
              "      <td>1.0</td>\n",
              "      <td>0.0</td>\n",
              "      <td>0.0</td>\n",
              "      <td>0.0</td>\n",
              "      <td>0.0</td>\n",
              "      <td>0.0</td>\n",
              "    </tr>\n",
              "    <tr>\n",
              "      <th>9364</th>\n",
              "      <td>0.739740</td>\n",
              "      <td>0.214214</td>\n",
              "      <td>0.0</td>\n",
              "      <td>0.0</td>\n",
              "      <td>0.0</td>\n",
              "      <td>1.0</td>\n",
              "      <td>0.0</td>\n",
              "      <td>0.0</td>\n",
              "      <td>0.0</td>\n",
              "    </tr>\n",
              "    <tr>\n",
              "      <th>9365</th>\n",
              "      <td>0.739740</td>\n",
              "      <td>0.875655</td>\n",
              "      <td>0.0</td>\n",
              "      <td>1.0</td>\n",
              "      <td>0.0</td>\n",
              "      <td>0.0</td>\n",
              "      <td>0.0</td>\n",
              "      <td>0.0</td>\n",
              "      <td>0.0</td>\n",
              "    </tr>\n",
              "  </tbody>\n",
              "</table>\n",
              "<p>9366 rows × 9 columns</p>\n",
              "</div>"
            ],
            "text/plain": [
              "        Rating   Reviews  Price  Everyone  ...  Mature 17+  Teen  Unrated  Paid\n",
              "0     0.311812  0.238238    0.0       1.0  ...         0.0   0.0      0.0   0.0\n",
              "1     0.174675  0.367708    0.0       1.0  ...         0.0   0.0      0.0   0.0\n",
              "2     0.909910  0.757087    0.0       1.0  ...         0.0   0.0      0.0   0.0\n",
              "3     0.739740  0.830364    0.0       0.0  ...         0.0   1.0      0.0   0.0\n",
              "4     0.508509  0.367708    0.0       1.0  ...         0.0   0.0      0.0   0.0\n",
              "...        ...       ...    ...       ...  ...         ...   ...      ...   ...\n",
              "9361  0.243744  0.050050    0.0       1.0  ...         0.0   0.0      0.0   0.0\n",
              "9362  0.739740  0.141642    0.0       1.0  ...         0.0   0.0      0.0   0.0\n",
              "9363  1.000000  0.028529    0.0       1.0  ...         0.0   0.0      0.0   0.0\n",
              "9364  0.739740  0.214214    0.0       0.0  ...         1.0   0.0      0.0   0.0\n",
              "9365  0.739740  0.875655    0.0       1.0  ...         0.0   0.0      0.0   0.0\n",
              "\n",
              "[9366 rows x 9 columns]"
            ]
          },
          "metadata": {
            "tags": []
          },
          "execution_count": 80
        }
      ]
    },
    {
      "cell_type": "code",
      "metadata": {
        "id": "_NvElgq0Y9iq"
      },
      "source": [
        "X = normal_data.drop('Rating', axis=1)\n",
        "y = normal_data.Rating\n",
        "X = sm.add_constant(X)\n",
        "\n",
        "X_train, x_test, Y_train, y_test = train_test_split(X, y, test_size=0.2)"
      ],
      "execution_count": 81,
      "outputs": []
    },
    {
      "cell_type": "code",
      "metadata": {
        "id": "8zSgax8RfnY4",
        "outputId": "bf83110f-9bc8-4e69-920b-fe7a9ce6e3e5",
        "colab": {
          "base_uri": "https://localhost:8080/",
          "height": 785
        }
      },
      "source": [
        "results = sm.OLS(Y_train, X_train)\n",
        "fit = results.fit()\n",
        "print(fit.summary())"
      ],
      "execution_count": 82,
      "outputs": [
        {
          "output_type": "stream",
          "text": [
            "                            OLS Regression Results                            \n",
            "==============================================================================\n",
            "Dep. Variable:                 Rating   R-squared:                       0.036\n",
            "Model:                            OLS   Adj. R-squared:                  0.035\n",
            "Method:                 Least Squares   F-statistic:                     40.30\n",
            "Date:                Wed, 21 Oct 2020   Prob (F-statistic):           4.87e-56\n",
            "Time:                        00:36:32   Log-Likelihood:                -1177.9\n",
            "No. Observations:                7492   AIC:                             2372.\n",
            "Df Residuals:                    7484   BIC:                             2427.\n",
            "Df Model:                           7                                         \n",
            "Covariance Type:            nonrobust                                         \n",
            "================================================================================\n",
            "                   coef    std err          t      P>|t|      [0.025      0.975]\n",
            "--------------------------------------------------------------------------------\n",
            "const            0.3942      0.200      1.966      0.049       0.001       0.787\n",
            "Reviews          0.1810      0.012     15.418      0.000       0.158       0.204\n",
            "Price           -0.9786      0.620     -1.578      0.115      -2.194       0.237\n",
            "Everyone         0.0118      0.200      0.059      0.953      -0.381       0.405\n",
            "Everyone 10+    -0.0062      0.201     -0.031      0.975      -0.400       0.388\n",
            "Mature 17+      -0.0462      0.201     -0.230      0.818      -0.440       0.348\n",
            "Teen             0.0005      0.201      0.003      0.998      -0.393       0.394\n",
            "Unrated               0          0        nan        nan           0           0\n",
            "Paid             1.0536      0.599      1.759      0.079      -0.121       2.228\n",
            "==============================================================================\n",
            "Omnibus:                     1368.484   Durbin-Watson:                   1.972\n",
            "Prob(Omnibus):                  0.000   Jarque-Bera (JB):              333.803\n",
            "Skew:                           0.203   Prob(JB):                     3.28e-73\n",
            "Kurtosis:                       2.049   Cond. No.                          inf\n",
            "==============================================================================\n",
            "\n",
            "Warnings:\n",
            "[1] Standard Errors assume that the covariance matrix of the errors is correctly specified.\n",
            "[2] The smallest eigenvalue is      0. This might indicate that there are\n",
            "strong multicollinearity problems or that the design matrix is singular.\n"
          ],
          "name": "stdout"
        },
        {
          "output_type": "stream",
          "text": [
            "/usr/local/lib/python3.6/dist-packages/statsmodels/regression/linear_model.py:1755: RuntimeWarning: divide by zero encountered in double_scalars\n",
            "  return np.sqrt(eigvals[0]/eigvals[-1])\n",
            "/usr/local/lib/python3.6/dist-packages/statsmodels/base/model.py:1294: RuntimeWarning: invalid value encountered in true_divide\n",
            "  return self.params / self.bse\n",
            "/usr/local/lib/python3.6/dist-packages/scipy/stats/_distn_infrastructure.py:903: RuntimeWarning: invalid value encountered in greater\n",
            "  return (a < x) & (x < b)\n",
            "/usr/local/lib/python3.6/dist-packages/scipy/stats/_distn_infrastructure.py:903: RuntimeWarning: invalid value encountered in less\n",
            "  return (a < x) & (x < b)\n",
            "/usr/local/lib/python3.6/dist-packages/scipy/stats/_distn_infrastructure.py:1912: RuntimeWarning: invalid value encountered in less_equal\n",
            "  cond2 = cond0 & (x <= _a)\n"
          ],
          "name": "stderr"
        }
      ]
    },
    {
      "cell_type": "markdown",
      "metadata": {
        "id": "dUPnRE0T6eJf"
      },
      "source": [
        "Create a linear regression model using statsmodels. Look at the coefficient values and their associated p values. Additionally, check model assumptions of homoscedacity, normality of errors, and multicollinearity."
      ]
    },
    {
      "cell_type": "code",
      "metadata": {
        "id": "80m0MSYv6eJg",
        "outputId": "af8629d2-c318-49a7-c7ea-43efed784af0",
        "colab": {
          "base_uri": "https://localhost:8080/",
          "height": 299
        }
      },
      "source": [
        "#answer below:\n",
        "from scipy.stats import bartlett\n",
        "from scipy.stats import levene\n",
        "\n",
        "prediction = fit.predict(X_train)\n",
        "\n",
        "residual = (Y_train-prediction)\n",
        "\n",
        "\n",
        "bart_stats = bartlett(residual, prediction)\n",
        "\n",
        "levstats = levene(residual, prediction)\n",
        "\n",
        "plt.scatter(prediction, residual)\n",
        "\n",
        "plt.show\n",
        "\n",
        "print('bartlett', bart_stats)\n",
        "print('levene', levstats)"
      ],
      "execution_count": 83,
      "outputs": [
        {
          "output_type": "stream",
          "text": [
            "bartlett BartlettResult(statistic=14725.941274942554, pvalue=0.0)\n",
            "levene LeveneResult(statistic=12022.432442588339, pvalue=0.0)\n"
          ],
          "name": "stdout"
        },
        {
          "output_type": "display_data",
          "data": {
            "image/png": "[encoded data removed]",
            "text/plain": [
              "<Figure size 432x288 with 1 Axes>"
            ]
          },
          "metadata": {
            "tags": [],
            "needs_background": "light"
          }
        }
      ]
    },
    {
      "cell_type": "code",
      "metadata": {
        "id": "y_SiGpLtgDea",
        "outputId": "7d54dae4-b342-4b0c-ef7e-48fe0abc5718",
        "colab": {
          "base_uri": "https://localhost:8080/",
          "height": 328
        }
      },
      "source": [
        "#multicollinearity\n",
        "X_train.corr()"
      ],
      "execution_count": 84,
      "outputs": [
        {
          "output_type": "execute_result",
          "data": {
            "text/html": [
              "<div>\n",
              "<style scoped>\n",
              "    .dataframe tbody tr th:only-of-type {\n",
              "        vertical-align: middle;\n",
              "    }\n",
              "\n",
              "    .dataframe tbody tr th {\n",
              "        vertical-align: top;\n",
              "    }\n",
              "\n",
              "    .dataframe thead th {\n",
              "        text-align: right;\n",
              "    }\n",
              "</style>\n",
              "<table border=\"1\" class=\"dataframe\">\n",
              "  <thead>\n",
              "    <tr style=\"text-align: right;\">\n",
              "      <th></th>\n",
              "      <th>const</th>\n",
              "      <th>Reviews</th>\n",
              "      <th>Price</th>\n",
              "      <th>Everyone</th>\n",
              "      <th>Everyone 10+</th>\n",
              "      <th>Mature 17+</th>\n",
              "      <th>Teen</th>\n",
              "      <th>Unrated</th>\n",
              "      <th>Paid</th>\n",
              "    </tr>\n",
              "  </thead>\n",
              "  <tbody>\n",
              "    <tr>\n",
              "      <th>const</th>\n",
              "      <td>NaN</td>\n",
              "      <td>NaN</td>\n",
              "      <td>NaN</td>\n",
              "      <td>NaN</td>\n",
              "      <td>NaN</td>\n",
              "      <td>NaN</td>\n",
              "      <td>NaN</td>\n",
              "      <td>NaN</td>\n",
              "      <td>NaN</td>\n",
              "    </tr>\n",
              "    <tr>\n",
              "      <th>Reviews</th>\n",
              "      <td>NaN</td>\n",
              "      <td>1.000000</td>\n",
              "      <td>-0.189115</td>\n",
              "      <td>-0.185029</td>\n",
              "      <td>0.109834</td>\n",
              "      <td>0.039242</td>\n",
              "      <td>0.139029</td>\n",
              "      <td>NaN</td>\n",
              "      <td>-0.189523</td>\n",
              "    </tr>\n",
              "    <tr>\n",
              "      <th>Price</th>\n",
              "      <td>NaN</td>\n",
              "      <td>-0.189115</td>\n",
              "      <td>1.000000</td>\n",
              "      <td>0.043128</td>\n",
              "      <td>0.011661</td>\n",
              "      <td>-0.027668</td>\n",
              "      <td>-0.042902</td>\n",
              "      <td>NaN</td>\n",
              "      <td>0.999769</td>\n",
              "    </tr>\n",
              "    <tr>\n",
              "      <th>Everyone</th>\n",
              "      <td>NaN</td>\n",
              "      <td>-0.185029</td>\n",
              "      <td>0.043128</td>\n",
              "      <td>1.000000</td>\n",
              "      <td>-0.406922</td>\n",
              "      <td>-0.444634</td>\n",
              "      <td>-0.710206</td>\n",
              "      <td>NaN</td>\n",
              "      <td>0.043599</td>\n",
              "    </tr>\n",
              "    <tr>\n",
              "      <th>Everyone 10+</th>\n",
              "      <td>NaN</td>\n",
              "      <td>0.109834</td>\n",
              "      <td>0.011661</td>\n",
              "      <td>-0.406922</td>\n",
              "      <td>1.000000</td>\n",
              "      <td>-0.047005</td>\n",
              "      <td>-0.075080</td>\n",
              "      <td>NaN</td>\n",
              "      <td>0.011786</td>\n",
              "    </tr>\n",
              "    <tr>\n",
              "      <th>Mature 17+</th>\n",
              "      <td>NaN</td>\n",
              "      <td>0.039242</td>\n",
              "      <td>-0.027668</td>\n",
              "      <td>-0.444634</td>\n",
              "      <td>-0.047005</td>\n",
              "      <td>1.000000</td>\n",
              "      <td>-0.082038</td>\n",
              "      <td>NaN</td>\n",
              "      <td>-0.027971</td>\n",
              "    </tr>\n",
              "    <tr>\n",
              "      <th>Teen</th>\n",
              "      <td>NaN</td>\n",
              "      <td>0.139029</td>\n",
              "      <td>-0.042902</td>\n",
              "      <td>-0.710206</td>\n",
              "      <td>-0.075080</td>\n",
              "      <td>-0.082038</td>\n",
              "      <td>1.000000</td>\n",
              "      <td>NaN</td>\n",
              "      <td>-0.043371</td>\n",
              "    </tr>\n",
              "    <tr>\n",
              "      <th>Unrated</th>\n",
              "      <td>NaN</td>\n",
              "      <td>NaN</td>\n",
              "      <td>NaN</td>\n",
              "      <td>NaN</td>\n",
              "      <td>NaN</td>\n",
              "      <td>NaN</td>\n",
              "      <td>NaN</td>\n",
              "      <td>NaN</td>\n",
              "      <td>NaN</td>\n",
              "    </tr>\n",
              "    <tr>\n",
              "      <th>Paid</th>\n",
              "      <td>NaN</td>\n",
              "      <td>-0.189523</td>\n",
              "      <td>0.999769</td>\n",
              "      <td>0.043599</td>\n",
              "      <td>0.011786</td>\n",
              "      <td>-0.027971</td>\n",
              "      <td>-0.043371</td>\n",
              "      <td>NaN</td>\n",
              "      <td>1.000000</td>\n",
              "    </tr>\n",
              "  </tbody>\n",
              "</table>\n",
              "</div>"
            ],
            "text/plain": [
              "              const   Reviews     Price  ...      Teen  Unrated      Paid\n",
              "const           NaN       NaN       NaN  ...       NaN      NaN       NaN\n",
              "Reviews         NaN  1.000000 -0.189115  ...  0.139029      NaN -0.189523\n",
              "Price           NaN -0.189115  1.000000  ... -0.042902      NaN  0.999769\n",
              "Everyone        NaN -0.185029  0.043128  ... -0.710206      NaN  0.043599\n",
              "Everyone 10+    NaN  0.109834  0.011661  ... -0.075080      NaN  0.011786\n",
              "Mature 17+      NaN  0.039242 -0.027668  ... -0.082038      NaN -0.027971\n",
              "Teen            NaN  0.139029 -0.042902  ...  1.000000      NaN -0.043371\n",
              "Unrated         NaN       NaN       NaN  ...       NaN      NaN       NaN\n",
              "Paid            NaN -0.189523  0.999769  ... -0.043371      NaN  1.000000\n",
              "\n",
              "[9 rows x 9 columns]"
            ]
          },
          "metadata": {
            "tags": []
          },
          "execution_count": 84
        }
      ]
    },
    {
      "cell_type": "markdown",
      "metadata": {
        "id": "jW_d2dka6eJh"
      },
      "source": [
        "Using the information above, try to select only the variables you think will lead to a better model and construct that model. Print out a summary"
      ]
    },
    {
      "cell_type": "code",
      "metadata": {
        "id": "zoaY3-Tu6eJi",
        "outputId": "9b544219-41a8-488d-f851-625b3e4b143f",
        "colab": {
          "base_uri": "https://localhost:8080/",
          "height": 465
        }
      },
      "source": [
        "#answer below:\n",
        "y = y = df['Rating']\n",
        "X = df[['Reviews','Price']]\n",
        "\n",
        "X_train, X_test, y_train, y_test = train_test_split(X, y, test_size=0.2)\n",
        "\n",
        "scaler = QuantileTransformer()\n",
        "X_train_scaled = scaler.fit_transform(X_train)\n",
        "X_test_scaled = scaler.fit(X_test)\n",
        "\n",
        "X_train_scaled_constant = sm.add_constant(X_train_scaled)\n",
        "\n",
        "results = sm.OLS(y_train, X_train_scaled_constant).fit()\n",
        "\n",
        "results.summary()\n"
      ],
      "execution_count": 85,
      "outputs": [
        {
          "output_type": "execute_result",
          "data": {
            "text/html": [
              "<table class=\"simpletable\">\n",
              "<caption>OLS Regression Results</caption>\n",
              "<tr>\n",
              "  <th>Dep. Variable:</th>         <td>Rating</td>      <th>  R-squared:         </th> <td>   0.055</td> \n",
              "</tr>\n",
              "<tr>\n",
              "  <th>Model:</th>                   <td>OLS</td>       <th>  Adj. R-squared:    </th> <td>   0.055</td> \n",
              "</tr>\n",
              "<tr>\n",
              "  <th>Method:</th>             <td>Least Squares</td>  <th>  F-statistic:       </th> <td>   217.9</td> \n",
              "</tr>\n",
              "<tr>\n",
              "  <th>Date:</th>             <td>Wed, 21 Oct 2020</td> <th>  Prob (F-statistic):</th> <td>1.08e-92</td> \n",
              "</tr>\n",
              "<tr>\n",
              "  <th>Time:</th>                 <td>00:36:52</td>     <th>  Log-Likelihood:    </th> <td> -5465.1</td> \n",
              "</tr>\n",
              "<tr>\n",
              "  <th>No. Observations:</th>      <td>  7492</td>      <th>  AIC:               </th> <td>1.094e+04</td>\n",
              "</tr>\n",
              "<tr>\n",
              "  <th>Df Residuals:</th>          <td>  7489</td>      <th>  BIC:               </th> <td>1.096e+04</td>\n",
              "</tr>\n",
              "<tr>\n",
              "  <th>Df Model:</th>              <td>     2</td>      <th>                     </th>     <td> </td>    \n",
              "</tr>\n",
              "<tr>\n",
              "  <th>Covariance Type:</th>      <td>nonrobust</td>    <th>                     </th>     <td> </td>    \n",
              "</tr>\n",
              "</table>\n",
              "<table class=\"simpletable\">\n",
              "<tr>\n",
              "    <td></td>       <th>coef</th>     <th>std err</th>      <th>t</th>      <th>P>|t|</th>  <th>[0.025</th>    <th>0.975]</th>  \n",
              "</tr>\n",
              "<tr>\n",
              "  <th>const</th> <td>    3.9671</td> <td>    0.012</td> <td>  327.410</td> <td> 0.000</td> <td>    3.943</td> <td>    3.991</td>\n",
              "</tr>\n",
              "<tr>\n",
              "  <th>x1</th>    <td>    0.4211</td> <td>    0.020</td> <td>   20.598</td> <td> 0.000</td> <td>    0.381</td> <td>    0.461</td>\n",
              "</tr>\n",
              "<tr>\n",
              "  <th>x2</th>    <td>    0.1727</td> <td>    0.024</td> <td>    7.170</td> <td> 0.000</td> <td>    0.126</td> <td>    0.220</td>\n",
              "</tr>\n",
              "</table>\n",
              "<table class=\"simpletable\">\n",
              "<tr>\n",
              "  <th>Omnibus:</th>       <td>2223.001</td> <th>  Durbin-Watson:     </th> <td>   2.004</td>\n",
              "</tr>\n",
              "<tr>\n",
              "  <th>Prob(Omnibus):</th>  <td> 0.000</td>  <th>  Jarque-Bera (JB):  </th> <td>9637.788</td>\n",
              "</tr>\n",
              "<tr>\n",
              "  <th>Skew:</th>           <td>-1.394</td>  <th>  Prob(JB):          </th> <td>    0.00</td>\n",
              "</tr>\n",
              "<tr>\n",
              "  <th>Kurtosis:</th>       <td> 7.807</td>  <th>  Cond. No.          </th> <td>    5.08</td>\n",
              "</tr>\n",
              "</table><br/><br/>Warnings:<br/>[1] Standard Errors assume that the covariance matrix of the errors is correctly specified."
            ],
            "text/plain": [
              "<class 'statsmodels.iolib.summary.Summary'>\n",
              "\"\"\"\n",
              "                            OLS Regression Results                            \n",
              "==============================================================================\n",
              "Dep. Variable:                 Rating   R-squared:                       0.055\n",
              "Model:                            OLS   Adj. R-squared:                  0.055\n",
              "Method:                 Least Squares   F-statistic:                     217.9\n",
              "Date:                Wed, 21 Oct 2020   Prob (F-statistic):           1.08e-92\n",
              "Time:                        00:36:52   Log-Likelihood:                -5465.1\n",
              "No. Observations:                7492   AIC:                         1.094e+04\n",
              "Df Residuals:                    7489   BIC:                         1.096e+04\n",
              "Df Model:                           2                                         \n",
              "Covariance Type:            nonrobust                                         \n",
              "==============================================================================\n",
              "                 coef    std err          t      P>|t|      [0.025      0.975]\n",
              "------------------------------------------------------------------------------\n",
              "const          3.9671      0.012    327.410      0.000       3.943       3.991\n",
              "x1             0.4211      0.020     20.598      0.000       0.381       0.461\n",
              "x2             0.1727      0.024      7.170      0.000       0.126       0.220\n",
              "==============================================================================\n",
              "Omnibus:                     2223.001   Durbin-Watson:                   2.004\n",
              "Prob(Omnibus):                  0.000   Jarque-Bera (JB):             9637.788\n",
              "Skew:                          -1.394   Prob(JB):                         0.00\n",
              "Kurtosis:                       7.807   Cond. No.                         5.08\n",
              "==============================================================================\n",
              "\n",
              "Warnings:\n",
              "[1] Standard Errors assume that the covariance matrix of the errors is correctly specified.\n",
              "\"\"\""
            ]
          },
          "metadata": {
            "tags": []
          },
          "execution_count": 85
        }
      ]
    },
    {
      "cell_type": "markdown",
      "metadata": {
        "id": "Iwnmvf1K6eJj"
      },
      "source": [
        "Plot the scatterplots between the independent variables you select and ratings. Do you think given these graphs, these variables have good predictive power? "
      ]
    },
    {
      "cell_type": "code",
      "metadata": {
        "id": "KatwaTmW6eJk",
        "outputId": "cea205b6-27c0-46df-9e0f-eeba73b86fd7",
        "colab": {
          "base_uri": "https://localhost:8080/",
          "height": 334
        }
      },
      "source": [
        "# answer below:\n",
        "\n",
        "plot_number = 1\n",
        "plt.figure(figsize=[10, 5])\n",
        "for col in X_train.columns:\n",
        "    plt.subplot(1, 2, plot_number)\n",
        "    plot_number += 1\n",
        "    plt.scatter(X_train[col], y_train)\n",
        "    plt.xlabel(col)\n",
        "    plt.ylabel(\"Rating\")"
      ],
      "execution_count": 86,
      "outputs": [
        {
          "output_type": "display_data",
          "data": {
            "image/png": "[encoded data removed]",
            "text/plain": [
              "<Figure size 720x360 with 2 Axes>"
            ]
          },
          "metadata": {
            "tags": [],
            "needs_background": "light"
          }
        }
      ]
    },
    {
      "cell_type": "markdown",
      "metadata": {
        "id": "MZKZNueZA63P"
      },
      "source": [
        "What data processing could you do to improve this model? Experiment."
      ]
    },
    {
      "cell_type": "code",
      "metadata": {
        "id": "9mlks8-16eJl"
      },
      "source": [
        "#Looking for other varibles that could change the model such as Category or Genere "
      ],
      "execution_count": null,
      "outputs": []
    }
  ]
}