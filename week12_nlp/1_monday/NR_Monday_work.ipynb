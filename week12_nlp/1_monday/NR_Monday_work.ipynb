{
  "nbformat": 4,
  "nbformat_minor": 0,
  "metadata": {
    "colab": {
      "name": "NR Monday work",
      "provenance": [],
      "collapsed_sections": []
    },
    "kernelspec": {
      "name": "python3",
      "display_name": "Python 3"
    }
  },
  "cells": [
    {
      "cell_type": "markdown",
      "metadata": {
        "id": "1ea1KtxZjXzc"
      },
      "source": [
        "\r\n",
        "Text Acquisition & Ingestion Assignment"
      ]
    },
    {
      "cell_type": "code",
      "metadata": {
        "colab": {
          "base_uri": "https://localhost:8080/"
        },
        "id": "zH48uIZNhUrU",
        "outputId": "d20ccc92-3921-42dd-aea6-72b6072299b7"
      },
      "source": [
        "!pip install feedparser"
      ],
      "execution_count": 4,
      "outputs": [
        {
          "output_type": "stream",
          "text": [
            "Collecting feedparser\n",
            "\u001b[?25l  Downloading https://files.pythonhosted.org/packages/1c/21/faf1bac028662cc8adb2b5ef7a6f3999a765baa2835331df365289b0ca56/feedparser-6.0.2-py3-none-any.whl (80kB)\n",
            "\r\u001b[K     |████                            | 10kB 29.8MB/s eta 0:00:01\r\u001b[K     |████████                        | 20kB 14.0MB/s eta 0:00:01\r\u001b[K     |████████████▏                   | 30kB 12.5MB/s eta 0:00:01\r\u001b[K     |████████████████▏               | 40kB 11.8MB/s eta 0:00:01\r\u001b[K     |████████████████████▎           | 51kB 7.8MB/s eta 0:00:01\r\u001b[K     |████████████████████████▎       | 61kB 7.3MB/s eta 0:00:01\r\u001b[K     |████████████████████████████▍   | 71kB 8.3MB/s eta 0:00:01\r\u001b[K     |████████████████████████████████| 81kB 6.0MB/s \n",
            "\u001b[?25hCollecting sgmllib3k\n",
            "  Downloading https://files.pythonhosted.org/packages/9e/bd/3704a8c3e0942d711c1299ebf7b9091930adae6675d7c8f476a7ce48653c/sgmllib3k-1.0.0.tar.gz\n",
            "Building wheels for collected packages: sgmllib3k\n",
            "  Building wheel for sgmllib3k (setup.py) ... \u001b[?25l\u001b[?25hdone\n",
            "  Created wheel for sgmllib3k: filename=sgmllib3k-1.0.0-cp36-none-any.whl size=6066 sha256=2b6e61fcd0cc0c6b6bb4941d2147bd2b5c2026266b29495fba98daa191eb7d7f\n",
            "  Stored in directory: /root/.cache/pip/wheels/f1/80/5a/444ba08a550cdd241bd9baf8bae44be750efe370adb944506a\n",
            "Successfully built sgmllib3k\n",
            "Installing collected packages: sgmllib3k, feedparser\n",
            "Successfully installed feedparser-6.0.2 sgmllib3k-1.0.0\n"
          ],
          "name": "stdout"
        }
      ]
    },
    {
      "cell_type": "code",
      "metadata": {
        "id": "m6_vQRHwiADY"
      },
      "source": [
        "import nltk"
      ],
      "execution_count": 10,
      "outputs": []
    },
    {
      "cell_type": "code",
      "metadata": {
        "colab": {
          "base_uri": "https://localhost:8080/"
        },
        "id": "dqQS7dJXiBKP",
        "outputId": "22b6a3ab-39ee-4446-8324-a546887adf2d"
      },
      "source": [
        "nltk.download('punkt')"
      ],
      "execution_count": 11,
      "outputs": [
        {
          "output_type": "stream",
          "text": [
            "[nltk_data] Downloading package punkt to /root/nltk_data...\n",
            "[nltk_data]   Unzipping tokenizers/punkt.zip.\n"
          ],
          "name": "stdout"
        },
        {
          "output_type": "execute_result",
          "data": {
            "text/plain": [
              "True"
            ]
          },
          "metadata": {
            "tags": []
          },
          "execution_count": 11
        }
      ]
    },
    {
      "cell_type": "code",
      "metadata": {
        "id": "QeJHLPojgRtd"
      },
      "source": [
        "import json\r\n",
        "import requests\r\n",
        "import feedparser\r\n",
        "from bs4 import BeautifulSoup"
      ],
      "execution_count": 12,
      "outputs": []
    },
    {
      "cell_type": "code",
      "metadata": {
        "id": "TF8MED5OhATn"
      },
      "source": [
        "articles = ['http://lite.cnn.io/en/article/h_eac18760a7a7f9a1bf33616f1c4a336d',\r\n",
        "            'http://lite.cnn.io/en/article/h_de3f82f17d289680dd2b47c6413ebe7c',\r\n",
        "            'http://lite.cnn.io/en/article/h_72f4dc9d6f35458a89af014b62e625ad',\r\n",
        "            'http://lite.cnn.io/en/article/h_aa21fe6bf176071cb49e09d422c3adf0',\r\n",
        "            'http://lite.cnn.io/en/article/h_8ad34a532921c9076cdc9d7390d2f1bc',\r\n",
        "            'http://lite.cnn.io/en/article/h_84422c79110d9989177cfaf1c5f45fe7',\r\n",
        "            'http://lite.cnn.io/en/article/h_d010d9580abac3a44c6181ec6fb63d58',\r\n",
        "            'http://lite.cnn.io/en/article/h_fb11f4e9d7c5323e75b337d9e9e5e368',\r\n",
        "            'http://lite.cnn.io/en/article/h_7b27f0b131067f8ece6238ac559670ab',\r\n",
        "            'http://lite.cnn.io/en/article/h_8cae7f735fa9573d470f802063ceffe2',\r\n",
        "            'http://lite.cnn.io/en/article/h_72c3668280e82576fcc2602b0fa70c14',\r\n",
        "            'http://lite.cnn.io/en/article/h_d20658fb0e20212051cda0e0a7248c8a',\r\n",
        "            'http://lite.cnn.io/en/article/h_56611c43d7928120d2ae21666ccc7417',\r\n",
        "            'http://lite.cnn.io/en/article/h_bda0394e3c5ee7054ee65c022bca7695']"
      ],
      "execution_count": 6,
      "outputs": []
    },
    {
      "cell_type": "code",
      "metadata": {
        "colab": {
          "base_uri": "https://localhost:8080/",
          "height": 188
        },
        "id": "QRG4D5BqhH7q",
        "outputId": "ae8bd38b-0fcf-4c17-8abb-e479793541d0"
      },
      "source": [
        "soup.find('div', {'class': 'afe4286c'}).get_text()\r\n"
      ],
      "execution_count": 13,
      "outputs": [
        {
          "output_type": "execute_result",
          "data": {
            "application/vnd.google.colaboratory.intrinsic+json": {
              "type": "string"
            },
            "text/plain": [
              "'Pink taking a break to focus on familyUpdated 10:18 AM ET, Thu November 14, 2019(CNN) - Pink has been working pretty hard and it sounds like she will be taking a step back in 2020.Speaking with \"Entertainment Tonight\" on the Country Music Association Awards red carpet, the singer was joined by her husband, Carey Hart, and their kids Willow, 8, and Jameson, 2.Pink was there to perform her song \"Love Me Anyway\" with country star Chris Stapleton, and she  talked about how hectic things have been. \"We did two and a half years of [music] and Willow\\'s back in school now, Jameson\\'s going to start pre-school soon,\" Pink said. \"It\\'s kind of the year of the family.\"The star also praised her husband, with whom she will celebrate 14 years of marriage in January.\"Carey has a lot going on as well,\" she said of Hart, who went from being a professional motocross competitor to racing off-road trucks. \"He\\'s super supportive, he follows me around the world and now it\\'s his turn.\"According to Billboard, Pink\\'s Beautiful Trauma Tour ranks as the 10th highest-grossing tour of all time, earning more than $397 million. '"
            ]
          },
          "metadata": {
            "tags": []
          },
          "execution_count": 13
        }
      ]
    },
    {
      "cell_type": "code",
      "metadata": {
        "id": "INa46Bz6iVmV"
      },
      "source": [
        ""
      ],
      "execution_count": null,
      "outputs": []
    },
    {
      "cell_type": "code",
      "metadata": {
        "id": "35U5_giVhq55"
      },
      "source": [
        "PATH = '/content/article_content'\r\n",
        "i = 0 #article names start at 0\r\n",
        "\r\n",
        "for article in articles:\r\n",
        "  response = requests.get(article)\r\n",
        "  content = response.text\r\n",
        "    #soup\r\n",
        "  soup = BeautifulSoup(content, 'html.parser')\r\n",
        "  text_list = [x.get_text(separator='\\n') for x in soup.find_all('div', {'class': 'afe4286c'})]\r\n",
        "\r\n",
        "  with open(PATH + f'article_{i}.txt', 'wb') as f:\r\n",
        "    f.write(str(text_list).encode())\r\n",
        "  i+=1"
      ],
      "execution_count": 15,
      "outputs": []
    },
    {
      "cell_type": "code",
      "metadata": {
        "id": "HkRPCDaniQRZ"
      },
      "source": [
        " def corpus_stats(corpus): \r\n",
        "  print('Corpus Statistics')\r\n",
        "  print('Number of documents: ' + str(len(corpus.fileids())))\r\n",
        "  print('Number of paragraphs: ' + str(len(corpus.paras())))\r\n",
        "  print('Number of sentences: ' + str(len(corpus.sents())))\r\n",
        "  print('Number of words: ' + str(len(corpus.words())))\r\n",
        "  print('Vocabulary: ' + str(len(set(w.lower() for w in corpus.words()))))\r\n",
        "  print('Avg chars per word: ' + str(round(len(corpus.raw())/len(corpus.words()),1)))\r\n",
        "  print('Avg words per sentence: ' + str(round(len(corpus.words())/len(corpus.sents()),1)))"
      ],
      "execution_count": 18,
      "outputs": []
    },
    {
      "cell_type": "code",
      "metadata": {
        "colab": {
          "base_uri": "https://localhost:8080/",
          "height": 197
        },
        "id": "PYxcOL0SihjU",
        "outputId": "751268f7-2b6c-4c7c-a346-80674ffc76f4"
      },
      "source": [
        "DOC_PATTERN = r'.*\\.txt'\r\n",
        "art_corpus = PlaintextCorpusReader('/content/article_content', DOC_PATTERN)\r\n",
        "corpus_stats(art_corpus)"
      ],
      "execution_count": 19,
      "outputs": [
        {
          "output_type": "error",
          "ename": "NameError",
          "evalue": "ignored",
          "traceback": [
            "\u001b[0;31m---------------------------------------------------------------------------\u001b[0m",
            "\u001b[0;31mNameError\u001b[0m                                 Traceback (most recent call last)",
            "\u001b[0;32m<ipython-input-19-0afb7085f3f8>\u001b[0m in \u001b[0;36m<module>\u001b[0;34m()\u001b[0m\n\u001b[1;32m      1\u001b[0m \u001b[0mDOC_PATTERN\u001b[0m \u001b[0;34m=\u001b[0m \u001b[0;34mr'.*\\.txt'\u001b[0m\u001b[0;34m\u001b[0m\u001b[0;34m\u001b[0m\u001b[0m\n\u001b[0;32m----> 2\u001b[0;31m \u001b[0mart_corpus\u001b[0m \u001b[0;34m=\u001b[0m \u001b[0mPlaintextCorpusReader\u001b[0m\u001b[0;34m(\u001b[0m\u001b[0;34m'/content/article_content'\u001b[0m\u001b[0;34m,\u001b[0m \u001b[0mDOC_PATTERN\u001b[0m\u001b[0;34m)\u001b[0m\u001b[0;34m\u001b[0m\u001b[0;34m\u001b[0m\u001b[0m\n\u001b[0m\u001b[1;32m      3\u001b[0m \u001b[0mcorpus_stats\u001b[0m\u001b[0;34m(\u001b[0m\u001b[0mart_corpus\u001b[0m\u001b[0;34m)\u001b[0m\u001b[0;34m\u001b[0m\u001b[0;34m\u001b[0m\u001b[0m\n",
            "\u001b[0;31mNameError\u001b[0m: name 'PlaintextCorpusReader' is not defined"
          ]
        }
      ]
    },
    {
      "cell_type": "code",
      "metadata": {
        "id": "AI7wwtnsiqGb"
      },
      "source": [
        "url = 'https://hacker-news.firebaseio.com/v0/askstories.json'\r\n",
        "\r\n",
        "response = requests.get(url).json()"
      ],
      "execution_count": 20,
      "outputs": []
    },
    {
      "cell_type": "code",
      "metadata": {
        "colab": {
          "base_uri": "https://localhost:8080/"
        },
        "id": "K2PdUdzJjBb_",
        "outputId": "248c53e9-a39d-49ac-a779-f4daf29213b6"
      },
      "source": [
        "\r\n",
        "#need ask, show and job\r\n",
        "ids = []\r\n",
        "for cat in ['ask', 'show', 'job']:\r\n",
        "  url = f'https://hacker-news.firebaseio.com/v0/{cat}stories.json'\r\n",
        "  response = requests.get(url)\r\n",
        "  print(response)\r\n",
        "  print(f'Adding {len(response.json())}, from {cat}stories')\r\n",
        "  ids.extend(response.json())"
      ],
      "execution_count": 21,
      "outputs": [
        {
          "output_type": "stream",
          "text": [
            "<Response [200]>\n",
            "Adding 62, from askstories\n",
            "<Response [200]>\n",
            "Adding 81, from showstories\n",
            "<Response [200]>\n",
            "Adding 60, from jobstories\n"
          ],
          "name": "stdout"
        }
      ]
    },
    {
      "cell_type": "code",
      "metadata": {
        "colab": {
          "base_uri": "https://localhost:8080/",
          "height": 69
        },
        "id": "g128Y0-7jD4w",
        "outputId": "1b7461f6-2052-49c3-864b-77525247fe79"
      },
      "source": [
        "\r\n",
        "url = f'https://hacker-news.firebaseio.com/v0/item/{ids[0]}.json'\r\n",
        "response = requests.get(url).json()\r\n",
        "soup = BeautifulSoup(response['text'])\r\n",
        "soup.text"
      ],
      "execution_count": 22,
      "outputs": [
        {
          "output_type": "execute_result",
          "data": {
            "application/vnd.google.colaboratory.intrinsic+json": {
              "type": "string"
            },
            "text/plain": [
              "'I have a project in mind that would take a few months to build properly, but I would like to throw together a fake-door test to validate it before I put that kind of effort into it.Has anyone done this? How did you make a decent-looking site that showed off the idea well with only a small effort?'"
            ]
          },
          "metadata": {
            "tags": []
          },
          "execution_count": 22
        }
      ]
    },
    {
      "cell_type": "code",
      "metadata": {
        "id": "kzSlg6VRjJBu"
      },
      "source": [
        "PATH = '/content/api_articles'\r\n",
        "\r\n",
        "for i, id_ in enumerate(ids):\r\n",
        "  url = f'https://hacker-news.firebaseio.com/v0/item/{id_}.json'\r\n",
        "  response = requests.get(url)\r\n",
        "  if 'text' in response.json().keys():\r\n",
        "    soup = BeautifulSoup(response.json()['text'], 'html.parser')\r\n",
        "    text = soup.text\r\n",
        "    with open(PATH + f'article_{i}.txt', 'wb') as f:\r\n",
        "      f.write(text.encode())\r\n"
      ],
      "execution_count": 23,
      "outputs": []
    },
    {
      "cell_type": "code",
      "metadata": {
        "id": "Lppl8OCZjM25"
      },
      "source": [
        "DOC_PATTERN = r'.*\\.txt'\r\n",
        "corpus = PlaintextCorpusReader(PATH, DOC_PATTERN)\r\n",
        "corpus_stats(corpus)\r\n"
      ],
      "execution_count": null,
      "outputs": []
    }
  ]
}